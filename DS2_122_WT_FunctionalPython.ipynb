{
  "nbformat": 4,
  "nbformat_minor": 0,
  "metadata": {
    "colab": {
      "name": "DS2-122-WT_FunctionalPython.ipynb",
      "version": "0.3.2",
      "provenance": [],
      "collapsed_sections": [],
      "include_colab_link": true
    },
    "kernelspec": {
      "name": "python3",
      "display_name": "Python 3"
    }
  },
  "cells": [
    {
      "cell_type": "markdown",
      "metadata": {
        "id": "view-in-github",
        "colab_type": "text"
      },
      "source": [
        "<a href=\"https://colab.research.google.com/github/donw385/DS-Unit-1-Sprint-2-Data-Wrangling/blob/master/DS2_122_WT_FunctionalPython.ipynb\" target=\"_parent\"><img src=\"https://colab.research.google.com/assets/colab-badge.svg\" alt=\"Open In Colab\"/></a>"
      ]
    },
    {
      "metadata": {
        "id": "o1tMsMMqh6pL",
        "colab_type": "text"
      },
      "cell_type": "markdown",
      "source": [
        "[Share Link](https://colab.research.google.com/drive/1F8WHlaUNxgJnzbMDM_JpG1RAG9BD1iXe)\n",
        "\n",
        "# Functional Python \n",
        "\n",
        "Here's your mission if you choose to take it.\n",
        "\n",
        "## 1. Get on Zoom with your partner:\n",
        "\n",
        "\n",
        "#Teams:\n",
        "<pre>\n",
        "Chris Louie\n",
        "Chris Luedtke\n",
        "\n",
        "Daniel Carter \n",
        "Cole Hudson\n",
        "\n",
        "Dmitriy Kavyazin\n",
        "Derek Shing\n",
        "\n",
        "Donaldo Celaj\n",
        "Don Wang\n",
        "\n",
        "Mac Scheffer\n",
        "Jason Pham\n",
        "\n",
        "Shilpa Singh\n",
        "Trista Paul\n",
        "\n",
        "Will Jarvis                  \n",
        "Winston Lee\n",
        "</pre>\n",
        "\n",
        "\n",
        "## 2.  Read this article together.\n",
        "\n",
        "[Take 10 minutes *max* to read this article](https://hackernoon.com/learn-functional-python-in-10-minutes-to-2d1651dece6f)\n",
        "\n",
        "\n",
        "\n",
        "## 3.  With your partner:\n",
        "\n",
        "1. Choose a section from the article to explain with a code snippet. You can use a snippet from the article but you're encouraged to write your own.\n",
        "\n",
        "2. Claim your section by putting your names below the title of that section in the markdown cell.\n",
        "\n",
        "**Be quick this is on, if you claim it first it's yours!**\n",
        "\n",
        "3. Come back to the group at 8:40 am for the express presentation! Try to talk through your code in about a minute or less.\n",
        "**clarity should be your focus** \n",
        "\n",
        "*I'll be sharing my screen for the presentation portion and you get to tell me what TODO!!*\n",
        "\n",
        "\n",
        "\n",
        "\n",
        "\n",
        "## Stretch Goals:\n",
        "\n",
        "- Fill in code to unclaimed sections\n",
        "\n",
        "- If all sections are filled add another code cell to any section and add more example code\n",
        "\n",
        "\n",
        "\n",
        "\n",
        "\n"
      ]
    },
    {
      "metadata": {
        "id": "U8eA1QPIhvGJ",
        "colab_type": "code",
        "colab": {}
      },
      "cell_type": "code",
      "source": [
        ""
      ],
      "execution_count": 0,
      "outputs": []
    },
    {
      "metadata": {
        "id": "UT_HMRoIjE89",
        "colab_type": "text"
      },
      "cell_type": "markdown",
      "source": [
        "# Recursion"
      ]
    },
    {
      "metadata": {
        "id": "9yhOLy5yjH75",
        "colab_type": "code",
        "outputId": "064db092-2af1-4895-d57c-dbed8a4076cf",
        "colab": {
          "base_uri": "https://localhost:8080/",
          "height": 139
        }
      },
      "cell_type": "code",
      "source": [
        "# Will and Winston\n",
        "def fact(n):\n",
        "    if (n == 0):\n",
        "        return(1)\n",
        "    else:\n",
        "        print(\"at\", n, \"calling with\", n-1)\n",
        "        return n * fact(n-1)\n",
        "\n",
        "n = 6\n",
        "print(\"factorial of\", n, \"is\", fact(6))\n"
      ],
      "execution_count": 0,
      "outputs": [
        {
          "output_type": "stream",
          "text": [
            "at 6 calling with 5\n",
            "at 5 calling with 4\n",
            "at 4 calling with 3\n",
            "at 3 calling with 2\n",
            "at 2 calling with 1\n",
            "at 1 calling with 0\n",
            "factorial of 6 is 720\n"
          ],
          "name": "stdout"
        }
      ]
    },
    {
      "metadata": {
        "id": "Y6LE13nJjIWj",
        "colab_type": "text"
      },
      "cell_type": "markdown",
      "source": [
        "# Map\n",
        "\n",
        "##Trista and Shilpa\n"
      ]
    },
    {
      "metadata": {
        "id": "k-pyYeHHjJUM",
        "colab_type": "code",
        "colab": {}
      },
      "cell_type": "code",
      "source": [
        "#Trista and Shilpa\n",
        "\n",
        "#Trista and Shilpa\n",
        "#Map iterates a function like you might have earlier with loops.\n",
        "#Last class, I had iterated through the index of my description column with this:\n",
        "textlist = []\n",
        "indexno = 0\n",
        "for index in df['description']:\n",
        " x = textstat.flesch_kincaid_grade(df['description'][indexno])\n",
        " textlist.append(x)\n",
        " indexno = indexno+1\n",
        "df['desc_gradelv'] = textlist\n",
        "df.head(2)\n",
        "#With map I could have dropped the indexno and textlist variables\n",
        "def grade(df):\n",
        "   return textstat.flesch_kincaid_grade(df['description'][0:95])\n",
        "print(list(map(grade,df)))"
      ],
      "execution_count": 0,
      "outputs": []
    },
    {
      "metadata": {
        "id": "ZXnQzXlWjYRI",
        "colab_type": "text"
      },
      "cell_type": "markdown",
      "source": [
        "# Lambda Expressions"
      ]
    },
    {
      "metadata": {
        "id": "1F7gtzg7jYx8",
        "colab_type": "code",
        "colab": {}
      },
      "cell_type": "code",
      "source": [
        ""
      ],
      "execution_count": 0,
      "outputs": []
    },
    {
      "metadata": {
        "id": "c2fLcOS2jcQc",
        "colab_type": "text"
      },
      "cell_type": "markdown",
      "source": [
        "# Reduce\n",
        "\n",
        "## Cole and Daniel"
      ]
    },
    {
      "metadata": {
        "id": "TBvQi9Xwjcba",
        "colab_type": "code",
        "colab": {}
      },
      "cell_type": "code",
      "source": [
        "# Cole and Daniel\n",
        "\n",
        "from functools import reduce\n",
        "import operator\n",
        "\n",
        "list = [1, 2, 3, 5]\n",
        "\n",
        "mean = reduce(lambda x, y: x + y, list) / len(list)\n",
        "\n",
        "print(mean)\n",
        "\n",
        "def reduce(fn, list):\n",
        "  total = type(list[0])()\n",
        "\n",
        "  for x in list:\n",
        "    total = operator.add(total, x)\n",
        "\n",
        "  return total\n",
        "\n",
        "coles_mean = reduce(lambda x, y: x + y, list) / len(list)\n",
        "print(mean == coles_mean)"
      ],
      "execution_count": 0,
      "outputs": []
    },
    {
      "metadata": {
        "id": "05pEU6o2jcro",
        "colab_type": "text"
      },
      "cell_type": "markdown",
      "source": [
        "# Filter\n",
        "\n",
        "## jason and mac"
      ]
    },
    {
      "metadata": {
        "id": "Gl1zYEMgjc2S",
        "colab_type": "code",
        "colab": {}
      },
      "cell_type": "code",
      "source": [
        "# jason and mac"
      ],
      "execution_count": 0,
      "outputs": []
    },
    {
      "metadata": {
        "id": "Yil7u2zOjdA9",
        "colab_type": "text"
      },
      "cell_type": "markdown",
      "source": [
        "# Higher Order Functions"
      ]
    },
    {
      "metadata": {
        "id": "LyMPA1mOjdLK",
        "colab_type": "code",
        "colab": {}
      },
      "cell_type": "code",
      "source": [
        "#Chris and Chris\n",
        "from math import factorial\n",
        "\n",
        "def our_factorial(n):\n",
        "  fact = 1\n",
        "  for i in range(n):\n",
        "    i += 1\n",
        "    fact *= i\n",
        "  return fact\n",
        "\n",
        "def action(func, integer):\n",
        "  return func(integer)\n",
        "\n",
        "print(action(our_factorial, 10) == factorial(10))"
      ],
      "execution_count": 0,
      "outputs": []
    },
    {
      "metadata": {
        "id": "G0TSZpOXjdWv",
        "colab_type": "text"
      },
      "cell_type": "markdown",
      "source": [
        "# List Comprehensions\n",
        "\n",
        "##Derek and Dmitriy"
      ]
    },
    {
      "metadata": {
        "id": "RVUnJQT6jdiT",
        "colab_type": "code",
        "outputId": "771e17ec-a03e-4720-f903-4648a173cdbd",
        "colab": {
          "base_uri": "https://localhost:8080/",
          "height": 34
        }
      },
      "cell_type": "code",
      "source": [
        "#Derek and Dmitriy\n",
        "\n",
        "print([x * x for x in [1, 2, 3, 4]])"
      ],
      "execution_count": 0,
      "outputs": [
        {
          "output_type": "stream",
          "text": [
            "[1, 4, 9, 16]\n"
          ],
          "name": "stdout"
        }
      ]
    },
    {
      "metadata": {
        "id": "mYy3G7nMT4wx",
        "colab_type": "code",
        "outputId": "1e28cb38-ba5e-4192-de95-0da0297f98a0",
        "colab": {
          "base_uri": "https://localhost:8080/",
          "height": 34
        }
      },
      "cell_type": "code",
      "source": [
        "x = range(-5, 5)\n",
        "\n",
        "all_less_than_zero = list(filter(lambda num: num < 0, x))\n",
        "print(all_less_than_zero)"
      ],
      "execution_count": 0,
      "outputs": [
        {
          "output_type": "stream",
          "text": [
            "[-5, -4, -3, -2, -1]\n"
          ],
          "name": "stdout"
        }
      ]
    },
    {
      "metadata": {
        "id": "k0q0_2yxT-5n",
        "colab_type": "code",
        "colab": {}
      },
      "cell_type": "code",
      "source": [
        "x = range(-5, 5)\n",
        "\n",
        "all_less_than_zero = [num for num in x if num < 0]"
      ],
      "execution_count": 0,
      "outputs": []
    },
    {
      "metadata": {
        "id": "uH1J6Rv-Up6R",
        "colab_type": "code",
        "colab": {}
      },
      "cell_type": "code",
      "source": [
        "\n",
        "x = range(-5, 5)\n",
        "\n",
        "all_less_than_zero = [num * num for num in x if num < 0]"
      ],
      "execution_count": 0,
      "outputs": []
    },
    {
      "metadata": {
        "id": "Vt4ZaobYV3UM",
        "colab_type": "code",
        "outputId": "464562f7-2c69-401a-ff33-54fe41c1b5e7",
        "colab": {
          "base_uri": "https://localhost:8080/",
          "height": 34
        }
      },
      "cell_type": "code",
      "source": [
        "# Go through x values and y values and compute this equation:\n",
        "# x*(y - (m*x+b))\n",
        "x = [1,2,3,5]\n",
        "y = [6,7,8,9]\n",
        "m, b = 1.5, 2\n",
        "\n",
        "eq = [x*(y-(m*x+b)) for x, y in zip(x,y)]\n",
        "\n",
        "print(eq)"
      ],
      "execution_count": 0,
      "outputs": [
        {
          "output_type": "stream",
          "text": [
            "[2.5, 4.0, 4.5, -2.5]\n"
          ],
          "name": "stdout"
        }
      ]
    },
    {
      "metadata": {
        "id": "BOh5777ujduV",
        "colab_type": "text"
      },
      "cell_type": "markdown",
      "source": [
        "# Dictionary Comprehensions\n",
        "\n",
        "##Donaldo and Don"
      ]
    },
    {
      "metadata": {
        "id": "JSx2Xn9Rjd6Y",
        "colab_type": "code",
        "colab": {}
      },
      "cell_type": "code",
      "source": [
        "#Donaldo and Don"
      ],
      "execution_count": 0,
      "outputs": []
    },
    {
      "metadata": {
        "id": "EtxvguosSvVs",
        "colab_type": "text"
      },
      "cell_type": "markdown",
      "source": [
        ""
      ]
    }
  ]
}