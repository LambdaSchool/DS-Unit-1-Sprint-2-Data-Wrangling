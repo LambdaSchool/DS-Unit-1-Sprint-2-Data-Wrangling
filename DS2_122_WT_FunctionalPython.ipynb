{
  "nbformat": 4,
  "nbformat_minor": 0,
  "metadata": {
    "colab": {
      "name": "DS2-122-WT_FunctionalPython.ipynb",
      "version": "0.3.2",
      "provenance": [],
      "include_colab_link": true
    },
    "kernelspec": {
      "name": "python3",
      "display_name": "Python 3"
    }
  },
  "cells": [
    {
      "cell_type": "markdown",
      "metadata": {
        "id": "view-in-github",
        "colab_type": "text"
      },
      "source": [
        "<a href=\"https://colab.research.google.com/github/Ruwai/DS-Unit-1-Sprint-2-Data-Wrangling/blob/master/DS2_122_WT_FunctionalPython.ipynb\" target=\"_parent\"><img src=\"https://colab.research.google.com/assets/colab-badge.svg\" alt=\"Open In Colab\"/></a>"
      ]
    },
    {
      "metadata": {
        "id": "o1tMsMMqh6pL",
        "colab_type": "text"
      },
      "cell_type": "markdown",
      "source": [
        "[Share Link](https://colab.research.google.com/drive/1F8WHlaUNxgJnzbMDM_JpG1RAG9BD1iXe)\n",
        "\n",
        "# Functional Python \n",
        "\n",
        "Here's your mission if you choose to take it.\n",
        "\n",
        "## 1. Get on Zoom with your partner:\n",
        "\n",
        "\n",
        "#Teams:\n",
        "<pre>\n",
        "Chris Louie\n",
        "Chris Luedtke\n",
        "\n",
        "Daniel Carter \n",
        "Cole Hudson\n",
        "\n",
        "Dmitriy Kavyazin\n",
        "Derek Shing\n",
        "\n",
        "Donaldo Celaj\n",
        "Don Wang\n",
        "\n",
        "Mac Scheffer\n",
        "Jason Pham\n",
        "\n",
        "Shilpa Singh\n",
        "Trista Paul\n",
        "\n",
        "Will Jarvis                  \n",
        "Winston Lee\n",
        "</pre>\n",
        "\n",
        "\n",
        "## 2.  Read this article together.\n",
        "\n",
        "[Take 10 minutes *max* to read this article](https://hackernoon.com/learn-functional-python-in-10-minutes-to-2d1651dece6f)\n",
        "\n",
        "\n",
        "\n",
        "## 3.  With your partner:\n",
        "\n",
        "1. Choose a section from the article to explain with a code snippet. You can use a snippet from the article but you're encouraged to write your own.\n",
        "\n",
        "2. Claim your section by putting your names below the title of that section in the markdown cell.\n",
        "\n",
        "**Be quick this is on, if you claim it first it's yours!**\n",
        "\n",
        "3. Come back to the group at 8:40 am for the express presentation! Try to talk through your code in about a minute or less.\n",
        "**clarity should be your focus** \n",
        "\n",
        "*I'll be sharing my screen for the presentation portion and you get to tell me what TODO!!*\n",
        "\n",
        "\n",
        "\n",
        "\n",
        "\n",
        "## Stretch Goals:\n",
        "\n",
        "- Fill in code to unclaimed sections\n",
        "\n",
        "- If all sections are filled add another code cell to any section and add more example code\n",
        "\n",
        "\n",
        "\n",
        "\n",
        "\n"
      ]
    },
    {
      "metadata": {
        "id": "U8eA1QPIhvGJ",
        "colab_type": "code",
        "colab": {}
      },
      "cell_type": "code",
      "source": [
        ""
      ],
      "execution_count": 0,
      "outputs": []
    },
    {
      "metadata": {
        "id": "UT_HMRoIjE89",
        "colab_type": "text"
      },
      "cell_type": "markdown",
      "source": [
        "# Recursion"
      ]
    },
    {
      "metadata": {
        "id": "9yhOLy5yjH75",
        "colab_type": "code",
        "colab": {}
      },
      "cell_type": "code",
      "source": [
        ""
      ],
      "execution_count": 0,
      "outputs": []
    },
    {
      "metadata": {
        "id": "Y6LE13nJjIWj",
        "colab_type": "text"
      },
      "cell_type": "markdown",
      "source": [
        "# Map\n",
        "\n"
      ]
    },
    {
      "metadata": {
        "id": "k-pyYeHHjJUM",
        "colab_type": "code",
        "colab": {}
      },
      "cell_type": "code",
      "source": [
        ""
      ],
      "execution_count": 0,
      "outputs": []
    },
    {
      "metadata": {
        "id": "ZXnQzXlWjYRI",
        "colab_type": "text"
      },
      "cell_type": "markdown",
      "source": [
        "# Lambda Expressions"
      ]
    },
    {
      "metadata": {
        "id": "1F7gtzg7jYx8",
        "colab_type": "code",
        "colab": {}
      },
      "cell_type": "code",
      "source": [
        ""
      ],
      "execution_count": 0,
      "outputs": []
    },
    {
      "metadata": {
        "id": "c2fLcOS2jcQc",
        "colab_type": "text"
      },
      "cell_type": "markdown",
      "source": [
        "# Reduce"
      ]
    },
    {
      "metadata": {
        "id": "TBvQi9Xwjcba",
        "colab_type": "code",
        "colab": {}
      },
      "cell_type": "code",
      "source": [
        ""
      ],
      "execution_count": 0,
      "outputs": []
    },
    {
      "metadata": {
        "id": "05pEU6o2jcro",
        "colab_type": "text"
      },
      "cell_type": "markdown",
      "source": [
        "# Filter"
      ]
    },
    {
      "metadata": {
        "id": "Gl1zYEMgjc2S",
        "colab_type": "code",
        "colab": {}
      },
      "cell_type": "code",
      "source": [
        ""
      ],
      "execution_count": 0,
      "outputs": []
    },
    {
      "metadata": {
        "id": "Yil7u2zOjdA9",
        "colab_type": "text"
      },
      "cell_type": "markdown",
      "source": [
        "# Higher Order Functions"
      ]
    },
    {
      "metadata": {
        "id": "LyMPA1mOjdLK",
        "colab_type": "code",
        "colab": {}
      },
      "cell_type": "code",
      "source": [
        ""
      ],
      "execution_count": 0,
      "outputs": []
    },
    {
      "metadata": {
        "id": "G0TSZpOXjdWv",
        "colab_type": "text"
      },
      "cell_type": "markdown",
      "source": [
        "# List Comprehensions\n"
      ]
    },
    {
      "metadata": {
        "id": "RVUnJQT6jdiT",
        "colab_type": "code",
        "colab": {}
      },
      "cell_type": "code",
      "source": [
        ""
      ],
      "execution_count": 0,
      "outputs": []
    },
    {
      "metadata": {
        "id": "BOh5777ujduV",
        "colab_type": "text"
      },
      "cell_type": "markdown",
      "source": [
        "# Dictionary Comprehensions"
      ]
    },
    {
      "metadata": {
        "id": "JSx2Xn9Rjd6Y",
        "colab_type": "code",
        "colab": {}
      },
      "cell_type": "code",
      "source": [
        ""
      ],
      "execution_count": 0,
      "outputs": []
    }
  ]
}