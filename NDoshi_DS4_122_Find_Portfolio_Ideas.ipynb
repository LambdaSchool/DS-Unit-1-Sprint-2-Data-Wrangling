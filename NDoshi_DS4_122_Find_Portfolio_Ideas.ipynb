{
  "nbformat": 4,
  "nbformat_minor": 0,
  "metadata": {
    "colab": {
      "name": "NDoshi_DS4_122_Find_Portfolio_Ideas.ipynb",
      "version": "0.3.2",
      "provenance": [],
      "collapsed_sections": [],
      "include_colab_link": true
    },
    "kernelspec": {
      "name": "python3",
      "display_name": "Python 3"
    }
  },
  "cells": [
    {
      "cell_type": "markdown",
      "metadata": {
        "id": "view-in-github",
        "colab_type": "text"
      },
      "source": [
        "<a href=\"https://colab.research.google.com/github/ndoshi83/DS-Unit-1-Sprint-2-Data-Wrangling-and-Storytelling/blob/master/NDoshi_DS4_122_Find_Portfolio_Ideas.ipynb\" target=\"_parent\"><img src=\"https://colab.research.google.com/assets/colab-badge.svg\" alt=\"Open In Colab\"/></a>"
      ]
    },
    {
      "metadata": {
        "id": "V34urfnvpAXk",
        "colab_type": "text"
      },
      "cell_type": "markdown",
      "source": [
        "# Ideas for data storytelling\n",
        "\n",
        "\n",
        "## Seven templates\n",
        "\n",
        "Training Kit (https://learn.lambdaschool.com/ds/module/recedjanlbpqxic2r) explains the seven templates from Priceonomics.\n",
        "\n",
        "Can you apply the templates to your topics? \n",
        "\n",
        "1. Geographic Variation\n",
        "\n",
        "\n",
        "2. Trend related to the news\n",
        "\n",
        "\n",
        "3. Who does that?\n",
        "\n",
        "\n",
        "4. Answering a question people care about\n",
        "\n",
        "\n",
        "5. Valuable to businesses\n",
        "\n",
        "\n",
        "6. What's the most popular?\n",
        "\n",
        "\n",
        "7. Cost/Money rankings\n",
        "\n",
        "\n",
        "# Assignment!\n",
        "\n",
        "Fill out the above template *twice*, for two different ideas.\n",
        "\n",
        "-Idea #1: Look at historical basketball data on individual players:\n",
        "  1. Look at home/road splits\n",
        "  2. Players with high usability can lead to championships for the team.\n",
        "  3. Look at what makes a high use players effective.\n",
        "  4. Not really applicable in this case\n",
        "  5. Ability to use past similar players to evaluate future players and their usability.\n",
        "  6. Do high performing players always receive the most attention/popularity\n",
        "  7. Do the highest performing players always receive the highest value contracts\n",
        "  \n",
        " -Idea #2: Historical Stock fundamental data\n",
        "  1. See how the top performing stocks are located geographically\n",
        "  2. Impact of social media and stock performance\n",
        "  3. Do \"trendy\" stocks perform better\n",
        "  4. How those \"trendy\" are perceived\n",
        "  5. Higher stock price indicates good fundamentals of the business\n",
        "  6. Not really applicable\n",
        "  7. Higher priced stocks vs. lower/\"penny\" stocks give the best return on investment.\n",
        "\n",
        "Then compare and contrast and select one as the idea you're leaning towards\n",
        "working on for your project week.\n",
        "\n",
        "After looking at the sample of each data set, I am going to focus on the basketball dataset just because currently the playoffs are going on and easier data to work with.\n",
        "\n",
        "Here is the link to my github page:\n",
        "https://ndoshi83.github.io/\n"
      ]
    }
  ]
}