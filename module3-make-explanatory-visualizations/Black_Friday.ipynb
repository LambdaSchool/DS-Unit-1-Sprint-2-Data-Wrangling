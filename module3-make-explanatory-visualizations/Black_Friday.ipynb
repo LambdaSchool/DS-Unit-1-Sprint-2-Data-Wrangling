{
 "cells": [
  {
   "cell_type": "markdown",
   "metadata": {
    "colab_type": "text",
    "id": "view-in-github"
   },
   "source": [
    "<a href=\"https://colab.research.google.com/github/newnativeabq/DS-Unit-1-Sprint-2-Data-Wrangling-and-Storytelling/blob/master/Black_Friday.ipynb\" target=\"_parent\"><img src=\"https://colab.research.google.com/assets/colab-badge.svg\" alt=\"Open In Colab\"/></a>"
   ]
  },
  {
   "cell_type": "code",
   "execution_count": 1,
   "metadata": {
    "colab": {},
    "colab_type": "code",
    "id": "V1BwEsXIVPIZ"
   },
   "outputs": [],
   "source": [
    "# Imports\n",
    "import pandas as pd\n",
    "import snippets \n",
    "from snippets.files import DownloadFile\n",
    "import wget"
   ]
  },
  {
   "cell_type": "code",
   "execution_count": 2,
   "metadata": {
    "colab": {},
    "colab_type": "code",
    "id": "5BVwJxMsWhF5"
   },
   "outputs": [
    {
     "name": "stdout",
     "output_type": "stream",
     "text": [
      "File already exists\n"
     ]
    },
    {
     "data": {
      "text/plain": [
       "'BlackFriday.csv'"
      ]
     },
     "execution_count": 2,
     "metadata": {},
     "output_type": "execute_result"
    }
   ],
   "source": [
    "# Url\n",
    "black_friday_csv_link = \"https://raw.githubusercontent.com/pierretd/datasets-1/master/BlackFriday.csv\"\n",
    "# Reading in csv\n",
    "DownloadFile(black_friday_csv_link, name='blackfriday')"
   ]
  },
  {
   "cell_type": "code",
   "execution_count": 3,
   "metadata": {},
   "outputs": [],
   "source": [
    "raw_d = pd.read_csv('blackfriday.csv')"
   ]
  },
  {
   "cell_type": "code",
   "execution_count": 4,
   "metadata": {},
   "outputs": [
    {
     "name": "stdout",
     "output_type": "stream",
     "text": [
      "   User_ID Product_ID Gender   Age  Occupation City_Category  \\\n",
      "0  1000001  P00069042      F  0-17          10             A   \n",
      "1  1000001  P00248942      F  0-17          10             A   \n",
      "2  1000001  P00087842      F  0-17          10             A   \n",
      "3  1000001  P00085442      F  0-17          10             A   \n",
      "4  1000002  P00285442      M   55+          16             C   \n",
      "\n",
      "  Stay_In_Current_City_Years  Marital_Status  Product_Category_1  \\\n",
      "0                          2               0                   3   \n",
      "1                          2               0                   1   \n",
      "2                          2               0                  12   \n",
      "3                          2               0                  12   \n",
      "4                         4+               0                   8   \n",
      "\n",
      "   Product_Category_2  Product_Category_3  Purchase  \n",
      "0                 NaN                 NaN      8370  \n",
      "1                 6.0                14.0     15200  \n",
      "2                 NaN                 NaN      1422  \n",
      "3                14.0                 NaN      1057  \n",
      "4                 NaN                 NaN      7969  \n",
      "537577\n"
     ]
    }
   ],
   "source": [
    "print(raw_d.head())\n",
    "print(len(raw_d))"
   ]
  },
  {
   "cell_type": "markdown",
   "metadata": {
    "colab_type": "text",
    "id": "Y_RjJBf4W5lC"
   },
   "source": [
    "### The above dataset has already been loaded in for you, answer the following questions. If you get done quickly, move onto stretch goals and super stretch goals. Work on improving your model until 8:40."
   ]
  },
  {
   "cell_type": "markdown",
   "metadata": {
    "colab_type": "text",
    "id": "GAB5N5ZoXZqu"
   },
   "source": [
    "#### 1) Clean the data set and drop the Null/NaN values. Rename  Product_Category_1-3 columns with an actual Product."
   ]
  },
  {
   "cell_type": "code",
   "execution_count": 21,
   "metadata": {
    "colab": {},
    "colab_type": "code",
    "id": "TFXUso8FW2Gw"
   },
   "outputs": [
    {
     "name": "stdout",
     "output_type": "stream",
     "text": [
      "164278\n"
     ]
    }
   ],
   "source": [
    "clean_d = raw_d.dropna(how='any')\n",
    "print(len(clean_d))"
   ]
  },
  {
   "cell_type": "code",
   "execution_count": 22,
   "metadata": {},
   "outputs": [
    {
     "name": "stdout",
     "output_type": "stream",
     "text": [
      "1     89822\n",
      "5     18697\n",
      "2     16045\n",
      "3     12242\n",
      "8      8937\n",
      "6      8280\n",
      "4      5257\n",
      "11     1937\n",
      "10     1720\n",
      "13     1035\n",
      "12      157\n",
      "15      149\n",
      "Name: Product_Category_1, dtype: int64\n",
      "2.0     42893\n",
      "8.0     26530\n",
      "4.0     19213\n",
      "5.0     15616\n",
      "15.0    14285\n",
      "6.0     11979\n",
      "14.0    11806\n",
      "13.0     6028\n",
      "11.0     5706\n",
      "9.0      2934\n",
      "3.0      2835\n",
      "10.0     2224\n",
      "12.0     1359\n",
      "16.0      870\n",
      "Name: Product_Category_2, dtype: int64\n",
      "[32148 27611 18121 16449 16380 12384 11414  9094  5385  4818  4563  1840\n",
      "  1773  1698   600]\n"
     ]
    }
   ],
   "source": [
    "print(clean_d['Product_Category_1'].value_counts())\n",
    "print(clean_d['Product_Category_2'].value_counts())\n",
    "print(clean_d['Product_Category_3'].value_counts().values)"
   ]
  },
  {
   "cell_type": "code",
   "execution_count": 23,
   "metadata": {},
   "outputs": [],
   "source": [
    "## Reasonable amount of things.  Let's see if faker can give us something to use.  We can also make the dtype a category.\n",
    "from faker import Faker"
   ]
  },
  {
   "cell_type": "code",
   "execution_count": 24,
   "metadata": {},
   "outputs": [],
   "source": [
    "# We'll make three attributes for product categories 1-3\n",
    "# Company\n",
    "# Color\n",
    "# Name (artist, why not)\n",
    "\n",
    "# Create a faker instance.  Add providers we need (company and color)\n",
    "from faker.providers import color, company\n",
    "fake = Faker()\n",
    "\n",
    "# Create a list of items for each unique value in category\n",
    "new_types = ['Company', 'Color', 'Designer']\n",
    "columns = ['Product_Category_1', 'Product_Category_2', 'Product_Category_3']\n",
    "\n",
    "# Create a column_name dictionary to rename columns\n",
    "column_names = {}\n",
    "for counter, col in enumerate(columns):\n",
    "    column_names[col] = new_types[counter]\n",
    "\n",
    "# Change column names\n",
    "clean_d = clean_d.rename(columns=column_names)    "
   ]
  },
  {
   "cell_type": "code",
   "execution_count": 25,
   "metadata": {},
   "outputs": [
    {
     "data": {
      "text/html": [
       "<div>\n",
       "<style scoped>\n",
       "    .dataframe tbody tr th:only-of-type {\n",
       "        vertical-align: middle;\n",
       "    }\n",
       "\n",
       "    .dataframe tbody tr th {\n",
       "        vertical-align: top;\n",
       "    }\n",
       "\n",
       "    .dataframe thead th {\n",
       "        text-align: right;\n",
       "    }\n",
       "</style>\n",
       "<table border=\"1\" class=\"dataframe\">\n",
       "  <thead>\n",
       "    <tr style=\"text-align: right;\">\n",
       "      <th></th>\n",
       "      <th>User_ID</th>\n",
       "      <th>Product_ID</th>\n",
       "      <th>Gender</th>\n",
       "      <th>Age</th>\n",
       "      <th>Occupation</th>\n",
       "      <th>City_Category</th>\n",
       "      <th>Stay_In_Current_City_Years</th>\n",
       "      <th>Marital_Status</th>\n",
       "      <th>Company</th>\n",
       "      <th>Color</th>\n",
       "      <th>Designer</th>\n",
       "      <th>Purchase</th>\n",
       "    </tr>\n",
       "  </thead>\n",
       "  <tbody>\n",
       "    <tr>\n",
       "      <th>1</th>\n",
       "      <td>1000001</td>\n",
       "      <td>P00248942</td>\n",
       "      <td>F</td>\n",
       "      <td>0-17</td>\n",
       "      <td>10</td>\n",
       "      <td>A</td>\n",
       "      <td>2</td>\n",
       "      <td>0</td>\n",
       "      <td>1</td>\n",
       "      <td>6.0</td>\n",
       "      <td>14.0</td>\n",
       "      <td>15200</td>\n",
       "    </tr>\n",
       "    <tr>\n",
       "      <th>6</th>\n",
       "      <td>1000004</td>\n",
       "      <td>P00184942</td>\n",
       "      <td>M</td>\n",
       "      <td>46-50</td>\n",
       "      <td>7</td>\n",
       "      <td>B</td>\n",
       "      <td>2</td>\n",
       "      <td>1</td>\n",
       "      <td>1</td>\n",
       "      <td>8.0</td>\n",
       "      <td>17.0</td>\n",
       "      <td>19215</td>\n",
       "    </tr>\n",
       "    <tr>\n",
       "      <th>13</th>\n",
       "      <td>1000005</td>\n",
       "      <td>P00145042</td>\n",
       "      <td>M</td>\n",
       "      <td>26-35</td>\n",
       "      <td>20</td>\n",
       "      <td>A</td>\n",
       "      <td>1</td>\n",
       "      <td>1</td>\n",
       "      <td>1</td>\n",
       "      <td>2.0</td>\n",
       "      <td>5.0</td>\n",
       "      <td>15665</td>\n",
       "    </tr>\n",
       "    <tr>\n",
       "      <th>14</th>\n",
       "      <td>1000006</td>\n",
       "      <td>P00231342</td>\n",
       "      <td>F</td>\n",
       "      <td>51-55</td>\n",
       "      <td>9</td>\n",
       "      <td>A</td>\n",
       "      <td>1</td>\n",
       "      <td>0</td>\n",
       "      <td>5</td>\n",
       "      <td>8.0</td>\n",
       "      <td>14.0</td>\n",
       "      <td>5378</td>\n",
       "    </tr>\n",
       "    <tr>\n",
       "      <th>16</th>\n",
       "      <td>1000006</td>\n",
       "      <td>P0096642</td>\n",
       "      <td>F</td>\n",
       "      <td>51-55</td>\n",
       "      <td>9</td>\n",
       "      <td>A</td>\n",
       "      <td>1</td>\n",
       "      <td>0</td>\n",
       "      <td>2</td>\n",
       "      <td>3.0</td>\n",
       "      <td>4.0</td>\n",
       "      <td>13055</td>\n",
       "    </tr>\n",
       "  </tbody>\n",
       "</table>\n",
       "</div>"
      ],
      "text/plain": [
       "    User_ID Product_ID Gender    Age  Occupation City_Category  \\\n",
       "1   1000001  P00248942      F   0-17          10             A   \n",
       "6   1000004  P00184942      M  46-50           7             B   \n",
       "13  1000005  P00145042      M  26-35          20             A   \n",
       "14  1000006  P00231342      F  51-55           9             A   \n",
       "16  1000006   P0096642      F  51-55           9             A   \n",
       "\n",
       "   Stay_In_Current_City_Years  Marital_Status Company Color Designer  Purchase  \n",
       "1                           2               0       1   6.0     14.0     15200  \n",
       "6                           2               1       1   8.0     17.0     19215  \n",
       "13                          1               1       1   2.0      5.0     15665  \n",
       "14                          1               0       5   8.0     14.0      5378  \n",
       "16                          1               0       2   3.0      4.0     13055  "
      ]
     },
     "execution_count": 25,
     "metadata": {},
     "output_type": "execute_result"
    }
   ],
   "source": [
    "# Label the data in three steps.  Step 1: create a category map.  Step 2: cast series as category.  Step 3: Apply map to series.\n",
    "# Making a list of maps\n",
    "label_dicts = []\n",
    "for col in new_types:\n",
    "    temp_dict = {}\n",
    "    \n",
    "    for item in clean_d[col].value_counts().values:\n",
    "        if col == 'Company':\n",
    "            temp_dict[item] = fake.company()\n",
    "        if col == 'Color':\n",
    "            temp_dict[item] = fake.color_name()\n",
    "        if col == 'Designer':\n",
    "            temp_dict[item] = fake.name()\n",
    "    \n",
    "    label_dicts.append(temp_dict)\n",
    "\n",
    "# Cast series as category\n",
    "for col in new_types:\n",
    "    clean_d[col] = clean_d[col].astype('category')\n",
    "\n",
    "# Ok. Finally, let's map the label_dicts to that data\n",
    "for index, col in enumerate(new_types):\n",
    "    clean_d[col] = clean_d[col].cat.rename_categories(label_dicts[index])\n",
    "\n",
    "clean_d.head()\n"
   ]
  },
  {
   "cell_type": "code",
   "execution_count": null,
   "metadata": {},
   "outputs": [],
   "source": []
  },
  {
   "cell_type": "markdown",
   "metadata": {
    "colab_type": "text",
    "id": "7XXlsraEXeAq"
   },
   "source": [
    "#### 2) How many unique user_ids does the data set contain?"
   ]
  },
  {
   "cell_type": "code",
   "execution_count": 26,
   "metadata": {
    "colab": {},
    "colab_type": "code",
    "id": "KCHHpSCpXj6g"
   },
   "outputs": [
    {
     "name": "stdout",
     "output_type": "stream",
     "text": [
      "data len: 164278\n",
      "total unique values: 5868\n"
     ]
    }
   ],
   "source": [
    "print('data len:', clean_d['User_ID'].count())\n",
    "print('total unique values:', clean_d['User_ID'].value_counts().count())"
   ]
  },
  {
   "cell_type": "markdown",
   "metadata": {
    "colab_type": "text",
    "id": "qqLizmpUXksc"
   },
   "source": [
    "#### 3) How many unique age brackets are in the dataset. Which Age bracket has the most entries? Which has the least?"
   ]
  },
  {
   "cell_type": "code",
   "execution_count": 27,
   "metadata": {
    "colab": {},
    "colab_type": "code",
    "id": "Jom2PqhUXqZD"
   },
   "outputs": [
    {
     "name": "stdout",
     "output_type": "stream",
     "text": [
      "data len: 164278\n",
      "total unique values: 7\n",
      "26-35    65916\n",
      "Name: Age, dtype: int64\n",
      "0-17    4789\n",
      "Name: Age, dtype: int64\n"
     ]
    }
   ],
   "source": [
    "print('data len:', clean_d['Age'].count())\n",
    "print('total unique values:', clean_d['Age'].value_counts().count())\n",
    "print(clean_d['Age'].value_counts()[:1])\n",
    "print(clean_d['Age'].value_counts()[6:7])"
   ]
  },
  {
   "cell_type": "markdown",
   "metadata": {
    "colab_type": "text",
    "id": "hks2UMEyXrWP"
   },
   "source": [
    "#### 4) Transform the Gender categorical variable into a numerical variable. Then transform that numerical value into a Boolean."
   ]
  },
  {
   "cell_type": "code",
   "execution_count": 28,
   "metadata": {
    "colab": {},
    "colab_type": "code",
    "id": "HoRL3kkFXvjY"
   },
   "outputs": [
    {
     "data": {
      "text/html": [
       "<div>\n",
       "<style scoped>\n",
       "    .dataframe tbody tr th:only-of-type {\n",
       "        vertical-align: middle;\n",
       "    }\n",
       "\n",
       "    .dataframe tbody tr th {\n",
       "        vertical-align: top;\n",
       "    }\n",
       "\n",
       "    .dataframe thead th {\n",
       "        text-align: right;\n",
       "    }\n",
       "</style>\n",
       "<table border=\"1\" class=\"dataframe\">\n",
       "  <thead>\n",
       "    <tr style=\"text-align: right;\">\n",
       "      <th></th>\n",
       "      <th>User_ID</th>\n",
       "      <th>Product_ID</th>\n",
       "      <th>Gender</th>\n",
       "      <th>Age</th>\n",
       "      <th>Occupation</th>\n",
       "      <th>City_Category</th>\n",
       "      <th>Stay_In_Current_City_Years</th>\n",
       "      <th>Marital_Status</th>\n",
       "      <th>Company</th>\n",
       "      <th>Color</th>\n",
       "      <th>Designer</th>\n",
       "      <th>Purchase</th>\n",
       "    </tr>\n",
       "  </thead>\n",
       "  <tbody>\n",
       "    <tr>\n",
       "      <th>1</th>\n",
       "      <td>1000001</td>\n",
       "      <td>P00248942</td>\n",
       "      <td>False</td>\n",
       "      <td>0-17</td>\n",
       "      <td>10</td>\n",
       "      <td>A</td>\n",
       "      <td>2</td>\n",
       "      <td>0</td>\n",
       "      <td>1</td>\n",
       "      <td>6.0</td>\n",
       "      <td>14.0</td>\n",
       "      <td>15200</td>\n",
       "    </tr>\n",
       "    <tr>\n",
       "      <th>6</th>\n",
       "      <td>1000004</td>\n",
       "      <td>P00184942</td>\n",
       "      <td>True</td>\n",
       "      <td>46-50</td>\n",
       "      <td>7</td>\n",
       "      <td>B</td>\n",
       "      <td>2</td>\n",
       "      <td>1</td>\n",
       "      <td>1</td>\n",
       "      <td>8.0</td>\n",
       "      <td>17.0</td>\n",
       "      <td>19215</td>\n",
       "    </tr>\n",
       "    <tr>\n",
       "      <th>13</th>\n",
       "      <td>1000005</td>\n",
       "      <td>P00145042</td>\n",
       "      <td>True</td>\n",
       "      <td>26-35</td>\n",
       "      <td>20</td>\n",
       "      <td>A</td>\n",
       "      <td>1</td>\n",
       "      <td>1</td>\n",
       "      <td>1</td>\n",
       "      <td>2.0</td>\n",
       "      <td>5.0</td>\n",
       "      <td>15665</td>\n",
       "    </tr>\n",
       "    <tr>\n",
       "      <th>14</th>\n",
       "      <td>1000006</td>\n",
       "      <td>P00231342</td>\n",
       "      <td>False</td>\n",
       "      <td>51-55</td>\n",
       "      <td>9</td>\n",
       "      <td>A</td>\n",
       "      <td>1</td>\n",
       "      <td>0</td>\n",
       "      <td>5</td>\n",
       "      <td>8.0</td>\n",
       "      <td>14.0</td>\n",
       "      <td>5378</td>\n",
       "    </tr>\n",
       "    <tr>\n",
       "      <th>16</th>\n",
       "      <td>1000006</td>\n",
       "      <td>P0096642</td>\n",
       "      <td>False</td>\n",
       "      <td>51-55</td>\n",
       "      <td>9</td>\n",
       "      <td>A</td>\n",
       "      <td>1</td>\n",
       "      <td>0</td>\n",
       "      <td>2</td>\n",
       "      <td>3.0</td>\n",
       "      <td>4.0</td>\n",
       "      <td>13055</td>\n",
       "    </tr>\n",
       "  </tbody>\n",
       "</table>\n",
       "</div>"
      ],
      "text/plain": [
       "    User_ID Product_ID  Gender    Age  Occupation City_Category  \\\n",
       "1   1000001  P00248942   False   0-17          10             A   \n",
       "6   1000004  P00184942    True  46-50           7             B   \n",
       "13  1000005  P00145042    True  26-35          20             A   \n",
       "14  1000006  P00231342   False  51-55           9             A   \n",
       "16  1000006   P0096642   False  51-55           9             A   \n",
       "\n",
       "   Stay_In_Current_City_Years  Marital_Status Company Color Designer  Purchase  \n",
       "1                           2               0       1   6.0     14.0     15200  \n",
       "6                           2               1       1   8.0     17.0     19215  \n",
       "13                          1               1       1   2.0      5.0     15665  \n",
       "14                          1               0       5   8.0     14.0      5378  \n",
       "16                          1               0       2   3.0      4.0     13055  "
      ]
     },
     "execution_count": 28,
     "metadata": {},
     "output_type": "execute_result"
    }
   ],
   "source": [
    "clean_d['Gender'] = clean_d.Gender.astype('category').cat.codes.astype('bool')\n",
    "clean_d.head()"
   ]
  },
  {
   "cell_type": "markdown",
   "metadata": {
    "colab_type": "text",
    "id": "lXblhoqYXv8I"
   },
   "source": [
    "#### 5) What is the average Occupation score? What is the Standard Deviation? What is the maximum and minimum value?"
   ]
  },
  {
   "cell_type": "code",
   "execution_count": 29,
   "metadata": {
    "colab": {},
    "colab_type": "code",
    "id": "o1EUtoSNX2Rz"
   },
   "outputs": [
    {
     "name": "stdout",
     "output_type": "stream",
     "text": [
      "mean: 8.180383252778826\n",
      "std: 6.486705108506024\n",
      "max/min: 20 / 0\n"
     ]
    }
   ],
   "source": [
    "print('mean:', clean_d.Occupation.mean())\n",
    "print('std:', clean_d.Occupation.std())\n",
    "print('max/min:', clean_d.Occupation.max(), '/', clean_d.Occupation.min())"
   ]
  },
  {
   "cell_type": "markdown",
   "metadata": {
    "colab_type": "text",
    "id": "GdikpPUNX_P0"
   },
   "source": [
    "#### 6) Group Age by Gender and print out a cross tab with age as the y axis"
   ]
  },
  {
   "cell_type": "code",
   "execution_count": 30,
   "metadata": {
    "colab": {},
    "colab_type": "code",
    "id": "8fqJloO9X8E5"
   },
   "outputs": [
    {
     "data": {
      "text/html": [
       "<div>\n",
       "<style scoped>\n",
       "    .dataframe tbody tr th:only-of-type {\n",
       "        vertical-align: middle;\n",
       "    }\n",
       "\n",
       "    .dataframe tbody tr th {\n",
       "        vertical-align: top;\n",
       "    }\n",
       "\n",
       "    .dataframe thead th {\n",
       "        text-align: right;\n",
       "    }\n",
       "</style>\n",
       "<table border=\"1\" class=\"dataframe\">\n",
       "  <thead>\n",
       "    <tr style=\"text-align: right;\">\n",
       "      <th></th>\n",
       "      <th></th>\n",
       "      <th>Count</th>\n",
       "    </tr>\n",
       "    <tr>\n",
       "      <th>Age</th>\n",
       "      <th>Gender</th>\n",
       "      <th></th>\n",
       "    </tr>\n",
       "  </thead>\n",
       "  <tbody>\n",
       "    <tr>\n",
       "      <th rowspan=\"2\" valign=\"top\">0-17</th>\n",
       "      <th>False</th>\n",
       "      <td>1552</td>\n",
       "    </tr>\n",
       "    <tr>\n",
       "      <th>True</th>\n",
       "      <td>3237</td>\n",
       "    </tr>\n",
       "    <tr>\n",
       "      <th rowspan=\"2\" valign=\"top\">18-25</th>\n",
       "      <th>False</th>\n",
       "      <td>6970</td>\n",
       "    </tr>\n",
       "    <tr>\n",
       "      <th>True</th>\n",
       "      <td>23919</td>\n",
       "    </tr>\n",
       "    <tr>\n",
       "      <th rowspan=\"2\" valign=\"top\">26-35</th>\n",
       "      <th>False</th>\n",
       "      <td>13364</td>\n",
       "    </tr>\n",
       "    <tr>\n",
       "      <th>True</th>\n",
       "      <td>52552</td>\n",
       "    </tr>\n",
       "    <tr>\n",
       "      <th rowspan=\"2\" valign=\"top\">36-45</th>\n",
       "      <th>False</th>\n",
       "      <td>7728</td>\n",
       "    </tr>\n",
       "    <tr>\n",
       "      <th>True</th>\n",
       "      <td>25030</td>\n",
       "    </tr>\n",
       "    <tr>\n",
       "      <th rowspan=\"2\" valign=\"top\">46-50</th>\n",
       "      <th>False</th>\n",
       "      <td>3572</td>\n",
       "    </tr>\n",
       "    <tr>\n",
       "      <th>True</th>\n",
       "      <td>9563</td>\n",
       "    </tr>\n",
       "    <tr>\n",
       "      <th rowspan=\"2\" valign=\"top\">51-55</th>\n",
       "      <th>False</th>\n",
       "      <td>2479</td>\n",
       "    </tr>\n",
       "    <tr>\n",
       "      <th>True</th>\n",
       "      <td>8539</td>\n",
       "    </tr>\n",
       "    <tr>\n",
       "      <th rowspan=\"2\" valign=\"top\">55+</th>\n",
       "      <th>False</th>\n",
       "      <td>1267</td>\n",
       "    </tr>\n",
       "    <tr>\n",
       "      <th>True</th>\n",
       "      <td>4506</td>\n",
       "    </tr>\n",
       "  </tbody>\n",
       "</table>\n",
       "</div>"
      ],
      "text/plain": [
       "              Count\n",
       "Age   Gender       \n",
       "0-17  False    1552\n",
       "      True     3237\n",
       "18-25 False    6970\n",
       "      True    23919\n",
       "26-35 False   13364\n",
       "      True    52552\n",
       "36-45 False    7728\n",
       "      True    25030\n",
       "46-50 False    3572\n",
       "      True     9563\n",
       "51-55 False    2479\n",
       "      True     8539\n",
       "55+   False    1267\n",
       "      True     4506"
      ]
     },
     "execution_count": 30,
     "metadata": {},
     "output_type": "execute_result"
    }
   ],
   "source": [
    "table = clean_d[['Age', 'Gender']].copy()\n",
    "table['Count'] = 1\n",
    "table = table.groupby(['Age', 'Gender']).sum()\n",
    "table"
   ]
  },
  {
   "cell_type": "code",
   "execution_count": 31,
   "metadata": {},
   "outputs": [
    {
     "data": {
      "text/html": [
       "<div>\n",
       "<style scoped>\n",
       "    .dataframe tbody tr th:only-of-type {\n",
       "        vertical-align: middle;\n",
       "    }\n",
       "\n",
       "    .dataframe tbody tr th {\n",
       "        vertical-align: top;\n",
       "    }\n",
       "\n",
       "    .dataframe thead th {\n",
       "        text-align: right;\n",
       "    }\n",
       "</style>\n",
       "<table border=\"1\" class=\"dataframe\">\n",
       "  <thead>\n",
       "    <tr style=\"text-align: right;\">\n",
       "      <th>Gender</th>\n",
       "      <th>False</th>\n",
       "      <th>True</th>\n",
       "    </tr>\n",
       "    <tr>\n",
       "      <th>Age</th>\n",
       "      <th></th>\n",
       "      <th></th>\n",
       "    </tr>\n",
       "  </thead>\n",
       "  <tbody>\n",
       "    <tr>\n",
       "      <th>0-17</th>\n",
       "      <td>1552</td>\n",
       "      <td>3237</td>\n",
       "    </tr>\n",
       "    <tr>\n",
       "      <th>18-25</th>\n",
       "      <td>6970</td>\n",
       "      <td>23919</td>\n",
       "    </tr>\n",
       "    <tr>\n",
       "      <th>26-35</th>\n",
       "      <td>13364</td>\n",
       "      <td>52552</td>\n",
       "    </tr>\n",
       "    <tr>\n",
       "      <th>36-45</th>\n",
       "      <td>7728</td>\n",
       "      <td>25030</td>\n",
       "    </tr>\n",
       "    <tr>\n",
       "      <th>46-50</th>\n",
       "      <td>3572</td>\n",
       "      <td>9563</td>\n",
       "    </tr>\n",
       "    <tr>\n",
       "      <th>51-55</th>\n",
       "      <td>2479</td>\n",
       "      <td>8539</td>\n",
       "    </tr>\n",
       "    <tr>\n",
       "      <th>55+</th>\n",
       "      <td>1267</td>\n",
       "      <td>4506</td>\n",
       "    </tr>\n",
       "  </tbody>\n",
       "</table>\n",
       "</div>"
      ],
      "text/plain": [
       "Gender  False  True \n",
       "Age                 \n",
       "0-17     1552   3237\n",
       "18-25    6970  23919\n",
       "26-35   13364  52552\n",
       "36-45    7728  25030\n",
       "46-50    3572   9563\n",
       "51-55    2479   8539\n",
       "55+      1267   4506"
      ]
     },
     "execution_count": 31,
     "metadata": {},
     "output_type": "execute_result"
    }
   ],
   "source": [
    "pd.crosstab(clean_d['Age'], clean_d['Gender'])"
   ]
  },
  {
   "cell_type": "code",
   "execution_count": 32,
   "metadata": {},
   "outputs": [
    {
     "data": {
      "text/html": [
       "<div>\n",
       "<style scoped>\n",
       "    .dataframe tbody tr th:only-of-type {\n",
       "        vertical-align: middle;\n",
       "    }\n",
       "\n",
       "    .dataframe tbody tr th {\n",
       "        vertical-align: top;\n",
       "    }\n",
       "\n",
       "    .dataframe thead tr th {\n",
       "        text-align: left;\n",
       "    }\n",
       "\n",
       "    .dataframe thead tr:last-of-type th {\n",
       "        text-align: right;\n",
       "    }\n",
       "</style>\n",
       "<table border=\"1\" class=\"dataframe\">\n",
       "  <thead>\n",
       "    <tr>\n",
       "      <th></th>\n",
       "      <th colspan=\"2\" halign=\"left\">Count</th>\n",
       "    </tr>\n",
       "    <tr>\n",
       "      <th>Gender</th>\n",
       "      <th>False</th>\n",
       "      <th>True</th>\n",
       "    </tr>\n",
       "    <tr>\n",
       "      <th>Age</th>\n",
       "      <th></th>\n",
       "      <th></th>\n",
       "    </tr>\n",
       "  </thead>\n",
       "  <tbody>\n",
       "    <tr>\n",
       "      <th>0-17</th>\n",
       "      <td>1552</td>\n",
       "      <td>3237</td>\n",
       "    </tr>\n",
       "    <tr>\n",
       "      <th>18-25</th>\n",
       "      <td>6970</td>\n",
       "      <td>23919</td>\n",
       "    </tr>\n",
       "    <tr>\n",
       "      <th>26-35</th>\n",
       "      <td>13364</td>\n",
       "      <td>52552</td>\n",
       "    </tr>\n",
       "    <tr>\n",
       "      <th>36-45</th>\n",
       "      <td>7728</td>\n",
       "      <td>25030</td>\n",
       "    </tr>\n",
       "    <tr>\n",
       "      <th>46-50</th>\n",
       "      <td>3572</td>\n",
       "      <td>9563</td>\n",
       "    </tr>\n",
       "    <tr>\n",
       "      <th>51-55</th>\n",
       "      <td>2479</td>\n",
       "      <td>8539</td>\n",
       "    </tr>\n",
       "    <tr>\n",
       "      <th>55+</th>\n",
       "      <td>1267</td>\n",
       "      <td>4506</td>\n",
       "    </tr>\n",
       "  </tbody>\n",
       "</table>\n",
       "</div>"
      ],
      "text/plain": [
       "        Count       \n",
       "Gender  False  True \n",
       "Age                 \n",
       "0-17     1552   3237\n",
       "18-25    6970  23919\n",
       "26-35   13364  52552\n",
       "36-45    7728  25030\n",
       "46-50    3572   9563\n",
       "51-55    2479   8539\n",
       "55+      1267   4506"
      ]
     },
     "execution_count": 32,
     "metadata": {},
     "output_type": "execute_result"
    }
   ],
   "source": [
    "table.unstack()"
   ]
  },
  {
   "cell_type": "markdown",
   "metadata": {
    "colab_type": "text",
    "id": "XC3P8TLBYDo9"
   },
   "source": [
    "### Stretch Goal:"
   ]
  },
  {
   "cell_type": "markdown",
   "metadata": {
    "colab_type": "text",
    "id": "qzT3W1oCYKf3"
   },
   "source": [
    "#### Build a linear regression model to predict the purchase amount given the other features in the data set with scikit learn."
   ]
  },
  {
   "cell_type": "code",
   "execution_count": 33,
   "metadata": {
    "colab": {},
    "colab_type": "code",
    "id": "1UcyhmmuYGKX"
   },
   "outputs": [],
   "source": [
    "# Import key libraries\n",
    "import matplotlib\n",
    "import matplotlib.pyplot as plt\n",
    "import seaborn as sns\n",
    "from sklearn import datasets, linear_model\n",
    "from sklearn.metrics import mean_squared_error, r2_score"
   ]
  },
  {
   "cell_type": "code",
   "execution_count": 34,
   "metadata": {},
   "outputs": [
    {
     "name": "stdout",
     "output_type": "stream",
     "text": [
      "User_ID                          int64\n",
      "Product_ID                       int16\n",
      "Gender                            bool\n",
      "Age                              int64\n",
      "Occupation                       int64\n",
      "City_Category                     int8\n",
      "Stay_In_Current_City_Years        int8\n",
      "Marital_Status                   int64\n",
      "Company                       category\n",
      "Color                         category\n",
      "Designer                      category\n",
      "Purchase                         int64\n",
      "dtype: object\n"
     ]
    },
    {
     "data": {
      "text/html": [
       "<div>\n",
       "<style scoped>\n",
       "    .dataframe tbody tr th:only-of-type {\n",
       "        vertical-align: middle;\n",
       "    }\n",
       "\n",
       "    .dataframe tbody tr th {\n",
       "        vertical-align: top;\n",
       "    }\n",
       "\n",
       "    .dataframe thead th {\n",
       "        text-align: right;\n",
       "    }\n",
       "</style>\n",
       "<table border=\"1\" class=\"dataframe\">\n",
       "  <thead>\n",
       "    <tr style=\"text-align: right;\">\n",
       "      <th></th>\n",
       "      <th>User_ID</th>\n",
       "      <th>Product_ID</th>\n",
       "      <th>Gender</th>\n",
       "      <th>Age</th>\n",
       "      <th>Occupation</th>\n",
       "      <th>City_Category</th>\n",
       "      <th>Stay_In_Current_City_Years</th>\n",
       "      <th>Marital_Status</th>\n",
       "      <th>Company</th>\n",
       "      <th>Color</th>\n",
       "      <th>Designer</th>\n",
       "      <th>Purchase</th>\n",
       "    </tr>\n",
       "  </thead>\n",
       "  <tbody>\n",
       "    <tr>\n",
       "      <th>1</th>\n",
       "      <td>1000001</td>\n",
       "      <td>392</td>\n",
       "      <td>False</td>\n",
       "      <td>17</td>\n",
       "      <td>10</td>\n",
       "      <td>0</td>\n",
       "      <td>2</td>\n",
       "      <td>0</td>\n",
       "      <td>1</td>\n",
       "      <td>6.0</td>\n",
       "      <td>14.0</td>\n",
       "      <td>15200</td>\n",
       "    </tr>\n",
       "    <tr>\n",
       "      <th>6</th>\n",
       "      <td>1000004</td>\n",
       "      <td>285</td>\n",
       "      <td>True</td>\n",
       "      <td>50</td>\n",
       "      <td>7</td>\n",
       "      <td>1</td>\n",
       "      <td>2</td>\n",
       "      <td>1</td>\n",
       "      <td>1</td>\n",
       "      <td>8.0</td>\n",
       "      <td>17.0</td>\n",
       "      <td>19215</td>\n",
       "    </tr>\n",
       "    <tr>\n",
       "      <th>13</th>\n",
       "      <td>1000005</td>\n",
       "      <td>212</td>\n",
       "      <td>True</td>\n",
       "      <td>35</td>\n",
       "      <td>20</td>\n",
       "      <td>0</td>\n",
       "      <td>1</td>\n",
       "      <td>1</td>\n",
       "      <td>1</td>\n",
       "      <td>2.0</td>\n",
       "      <td>5.0</td>\n",
       "      <td>15665</td>\n",
       "    </tr>\n",
       "    <tr>\n",
       "      <th>14</th>\n",
       "      <td>1000006</td>\n",
       "      <td>364</td>\n",
       "      <td>False</td>\n",
       "      <td>55</td>\n",
       "      <td>9</td>\n",
       "      <td>0</td>\n",
       "      <td>1</td>\n",
       "      <td>0</td>\n",
       "      <td>5</td>\n",
       "      <td>8.0</td>\n",
       "      <td>14.0</td>\n",
       "      <td>5378</td>\n",
       "    </tr>\n",
       "    <tr>\n",
       "      <th>16</th>\n",
       "      <td>1000006</td>\n",
       "      <td>518</td>\n",
       "      <td>False</td>\n",
       "      <td>55</td>\n",
       "      <td>9</td>\n",
       "      <td>0</td>\n",
       "      <td>1</td>\n",
       "      <td>0</td>\n",
       "      <td>2</td>\n",
       "      <td>3.0</td>\n",
       "      <td>4.0</td>\n",
       "      <td>13055</td>\n",
       "    </tr>\n",
       "  </tbody>\n",
       "</table>\n",
       "</div>"
      ],
      "text/plain": [
       "    User_ID  Product_ID  Gender  Age  Occupation  City_Category  \\\n",
       "1   1000001         392   False   17          10              0   \n",
       "6   1000004         285    True   50           7              1   \n",
       "13  1000005         212    True   35          20              0   \n",
       "14  1000006         364   False   55           9              0   \n",
       "16  1000006         518   False   55           9              0   \n",
       "\n",
       "    Stay_In_Current_City_Years  Marital_Status Company Color Designer  \\\n",
       "1                            2               0       1   6.0     14.0   \n",
       "6                            2               1       1   8.0     17.0   \n",
       "13                           1               1       1   2.0      5.0   \n",
       "14                           1               0       5   8.0     14.0   \n",
       "16                           1               0       2   3.0      4.0   \n",
       "\n",
       "    Purchase  \n",
       "1      15200  \n",
       "6      19215  \n",
       "13     15665  \n",
       "14      5378  \n",
       "16     13055  "
      ]
     },
     "execution_count": 34,
     "metadata": {},
     "output_type": "execute_result"
    }
   ],
   "source": [
    "## Prep dataset for learning by converting non-numeric into categories (numeric with label?)\n",
    "cat_list = []\n",
    "for index, col in enumerate(clean_d.columns):\n",
    "    if clean_d[col].dtype == 'object' and col != 'Age':\n",
    "        clean_d[col] = clean_d[col].astype('category').cat.codes\n",
    "\n",
    "## Age needs to be ordinal.  Not sure what Occupation means...\n",
    "## I decided to map them to the largest value in each bucket to give the model some spacing information\n",
    "age_map = {'0-17': 17,\n",
    "           '18-25': 25,\n",
    "           '26-35': 35,\n",
    "           '36-45': 45,\n",
    "           '46-50': 50,\n",
    "           '51-55': 55,\n",
    "           '55+': 80,\n",
    "          }\n",
    "clean_d['Age'] = clean_d['Age'].map(age_map)\n",
    "print(clean_d.dtypes)\n",
    "clean_d.head()"
   ]
  },
  {
   "cell_type": "code",
   "execution_count": 35,
   "metadata": {},
   "outputs": [],
   "source": [
    "# Split into training and test sets\n",
    "from sklearn.model_selection import train_test_split\n",
    "train, test = train_test_split(clean_d, test_size=0.2)\n",
    "\n",
    "# Subset data to features and training\n",
    "feat_train = train.drop(columns=['Purchase'])\n",
    "feat_test = test.drop(columns=['Purchase'])\n",
    "\n",
    "target_train = train['Purchase']\n",
    "target_test = test['Purchase']"
   ]
  },
  {
   "cell_type": "code",
   "execution_count": 43,
   "metadata": {},
   "outputs": [
    {
     "name": "stdout",
     "output_type": "stream",
     "text": [
      "Mean squared error: 25862559.87\n"
     ]
    }
   ],
   "source": [
    "# Create model object, fit to training data and test it\n",
    "\n",
    "model = linear_model.LinearRegression()\n",
    "\n",
    "## List of features and targets (x an y) to look at\n",
    "features = ['Age', 'Stay_In_Current_City_Years']\n",
    "\n",
    "X_train = feat_train[features]\n",
    "X_test = feat_test[features]\n",
    "Y_train = target_train\n",
    "Y_test = target_test\n",
    "\n",
    "## Fit model\n",
    "model.fit(X_train, Y_train)\n",
    "\n",
    "# Test model\n",
    "Y_pred = model.predict(X_test)\n",
    "\n",
    "print(\"Mean squared error: %.2f\"\n",
    "      % mean_squared_error(Y_test, Y_pred))"
   ]
  },
  {
   "cell_type": "markdown",
   "metadata": {
    "colab_type": "text",
    "id": "DUS03cXoYNBW"
   },
   "source": [
    "### Super Stretch Goals: "
   ]
  },
  {
   "cell_type": "markdown",
   "metadata": {
    "colab_type": "text",
    "id": "OJRqGSQ9YRXI"
   },
   "source": [
    "#### Plot the actual values vs the predicted values."
   ]
  },
  {
   "cell_type": "code",
   "execution_count": 44,
   "metadata": {
    "colab": {},
    "colab_type": "code",
    "id": "bYvnC2QUYQcx"
   },
   "outputs": [
    {
     "data": {
      "image/png": "[encoded data removed]",
      "text/plain": [
       "<Figure size 432x288 with 1 Axes>"
      ]
     },
     "metadata": {
      "needs_background": "light"
     },
     "output_type": "display_data"
    }
   ],
   "source": [
    "plt.plot(X_test, Y_pred)\n",
    "#plt.plot(X_test, Y_test)\n",
    "plt.show()\n"
   ]
  },
  {
   "cell_type": "markdown",
   "metadata": {
    "colab_type": "text",
    "id": "gsAhdD-zYZxD"
   },
   "source": [
    "#### Find a good way to measure your model's predictive power.\n"
   ]
  },
  {
   "cell_type": "code",
   "execution_count": 50,
   "metadata": {
    "colab": {},
    "colab_type": "code",
    "id": "Lwx2wzikYXNu"
   },
   "outputs": [
    {
     "data": {
      "text/plain": [
       "[<matplotlib.lines.Line2D at 0x25d88fc27b8>]"
      ]
     },
     "execution_count": 50,
     "metadata": {},
     "output_type": "execute_result"
    },
    {
     "data": {
      "image/png": "[encoded data removed]",
      "text/plain": [
       "<Figure size 432x288 with 1 Axes>"
      ]
     },
     "metadata": {
      "needs_background": "light"
     },
     "output_type": "display_data"
    }
   ],
   "source": [
    "# The regression is strong, but it's predictive power (in terms of error) is awful.\n",
    "sample = clean_d.sample(frac=0.01)\n",
    "plt.plot(sample['Age'], sample['Purchase'])"
   ]
  },
  {
   "cell_type": "code",
   "execution_count": 51,
   "metadata": {},
   "outputs": [
    {
     "data": {
      "text/plain": [
       "<BarContainer object of 1643 artists>"
      ]
     },
     "execution_count": 51,
     "metadata": {},
     "output_type": "execute_result"
    },
    {
     "data": {
      "image/png": "[encoded data removed]",
      "text/plain": [
       "<Figure size 432x288 with 1 Axes>"
      ]
     },
     "metadata": {
      "needs_background": "light"
     },
     "output_type": "display_data"
    }
   ],
   "source": [
    "plt.bar(sample['Gender'], sample['Purchase'])"
   ]
  },
  {
   "cell_type": "code",
   "execution_count": null,
   "metadata": {},
   "outputs": [],
   "source": []
  },
  {
   "cell_type": "code",
   "execution_count": null,
   "metadata": {},
   "outputs": [],
   "source": []
  }
 ],
 "metadata": {
  "colab": {
   "include_colab_link": true,
   "name": "Black_Friday.ipynb",
   "provenance": [],
   "version": "0.3.2"
  },
  "kernelspec": {
   "display_name": "Python 3",
   "language": "python",
   "name": "python3"
  },
  "language_info": {
   "codemirror_mode": {
    "name": "ipython",
    "version": 3
   },
   "file_extension": ".py",
   "mimetype": "text/x-python",
   "name": "python",
   "nbconvert_exporter": "python",
   "pygments_lexer": "ipython3",
   "version": "3.7.0"
  }
 },
 "nbformat": 4,
 "nbformat_minor": 1
}
