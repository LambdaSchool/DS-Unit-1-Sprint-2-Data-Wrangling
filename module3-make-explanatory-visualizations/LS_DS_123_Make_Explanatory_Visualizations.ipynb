{
 "cells": [
  {
   "cell_type": "markdown",
   "metadata": {
    "colab_type": "text",
    "id": "-8-trVo__vRE"
   },
   "source": [
    "_Lambda School Data Science_\n",
    "\n",
    "# Make Explanatory Visualizations\n",
    "\n",
    "### Objectives\n",
    "\n",
    "- identify misleading visualizations and how to fix them\n",
    "- use Seaborn to visualize distributions and relationships with continuous and discrete variables\n",
    "- add emphasis and annotations to transform visualizations from exploratory to explanatory\n",
    "- remove clutter from visualizations\n",
    "\n",
    "### Links\n",
    "\n",
    "- [How to Spot Visualization Lies](https://flowingdata.com/2017/02/09/how-to-spot-visualization-lies/)\n",
    "- [Visual Vocabulary - Vega Edition](http://ft.com/vocabulary)\n",
    "- [Choosing a Python Visualization Tool flowchart](http://pbpython.com/python-vis-flowchart.html)\n",
    "- [Searborn example gallery](http://seaborn.pydata.org/examples/index.html) & [tutorial](http://seaborn.pydata.org/tutorial.html)\n",
    "- [Strong Titles Are The Biggest Bang for Your Buck](http://stephanieevergreen.com/strong-titles/)\n",
    "- [Remove to improve (the data-ink ratio)](https://www.darkhorseanalytics.com/blog/data-looks-better-naked)\n",
    "- [How to Generate FiveThirtyEight Graphs in Python](https://www.dataquest.io/blog/making-538-plots/)"
   ]
  },
  {
   "cell_type": "markdown",
   "metadata": {
    "colab_type": "text",
    "id": "s-24T844-8qv"
   },
   "source": [
    "# Avoid Misleading Visualizations\n",
    "\n",
    "Did you find/discuss any interesting misleading visualizations in your Walkie Talkie?"
   ]
  },
  {
   "cell_type": "markdown",
   "metadata": {
    "colab_type": "text",
    "id": "Qzxt9ntsNjs0"
   },
   "source": [
    "## What makes a visualization misleading?\n",
    "\n",
    "[5 Ways Writers Use Misleading Graphs To Manipulate You](https://venngage.com/blog/misleading-graphs/)"
   ]
  },
  {
   "cell_type": "markdown",
   "metadata": {
    "colab_type": "text",
    "id": "q7_DUiENNvxk"
   },
   "source": [
    "## Two y-axes\n",
    "\n",
    "<img src=\"https://kieranhealy.org/files/misc/two-y-by-four-sm.jpg\" width=\"800\">\n",
    " \n",
    " Other Examples: \n",
    " - [Spurious Correlations](https://tylervigen.com/spurious-correlations)\n",
    " - <https://blog.datawrapper.de/dualaxis/>\n",
    " - <https://kieranhealy.org/blog/archives/2016/01/16/two-y-axes/>\n",
    " - <http://www.storytellingwithdata.com/blog/2016/2/1/be-gone-dual-y-axis>"
   ]
  },
  {
   "cell_type": "markdown",
   "metadata": {
    "colab_type": "text",
    "id": "oIijNBDMNv2k"
   },
   "source": [
    "##  Y-axis doesn't start at zero.\n",
    "\n",
    "<img src=\"https://i.pinimg.com/originals/22/53/a9/2253a944f54bb61f1983bc076ff33cdd.jpg\" width=\"600\">"
   ]
  },
  {
   "cell_type": "markdown",
   "metadata": {
    "colab_type": "text",
    "id": "ISB2p8vZNv6r"
   },
   "source": [
    "## Pie Charts are bad\n",
    "\n",
    "<img src=\"https://i1.wp.com/flowingdata.com/wp-content/uploads/2009/11/Fox-News-pie-chart.png?fit=620%2C465&ssl=1\" width=\"600\">"
   ]
  },
  {
   "cell_type": "markdown",
   "metadata": {
    "colab_type": "text",
    "id": "67CsAzu1NwBJ"
   },
   "source": [
    "## Pie charts that omit data are extra bad\n",
    " \n",
    "- A guy makes a misleading chart that goes viral\n",
    "\n",
    " What does this chart imply at first glance? You don't want your user to have to do a lot of work in order to be able to interpret you graph correctly. You want that first-glance conclusions to be the correct ones.\n",
    "\n",
    " <img src=\"https://pbs.twimg.com/media/DiaiTLHWsAYAEEX?format=jpg&name=medium\" width='600'>\n",
    " \n",
    " <https://twitter.com/michaelbatnick/status/1019680856837849090?lang=en>\n",
    " \n",
    "- It gets picked up by overworked journalists (assuming incompetency before malice)\n",
    " \n",
    " <https://www.marketwatch.com/story/this-1-chart-puts-mega-techs-trillions-of-market-value-into-eye-popping-perspective-2018-07-18>\n",
    " \n",
    "- Even after the chart's implications have been refuted, it's hard a bad (although compelling) visualization from being passed around.\n",
    "\n",
    " <https://www.linkedin.com/pulse/good-bad-pie-charts-karthik-shashidhar/>\n",
    "\n",
    "**[\"yea I understand a pie chart was probably not the best choice to present this data.\"](https://twitter.com/michaelbatnick/status/1037036440494985216)**"
   ]
  },
  {
   "cell_type": "markdown",
   "metadata": {
    "colab_type": "text",
    "id": "FYXmlToEOOTC"
   },
   "source": [
    "## Pie Charts that compare unrelated things are next-level extra bad\n",
    "\n",
    "<img src=\"http://www.painting-with-numbers.com/download/document/186/170403+Legalizing+Marijuana+Graph.jpg\" width=\"600\">\n"
   ]
  },
  {
   "cell_type": "markdown",
   "metadata": {
    "colab_type": "text",
    "id": "IwtMQpY_QFUw"
   },
   "source": [
    "## Be careful about how you use volume to represent quantities:\n",
    "\n",
    "radius vs diameter vs volume\n",
    "\n",
    "<img src=\"https://static1.squarespace.com/static/5bfc8dbab40b9d7dd9054f41/t/5c32d86e0ebbe80a25873249/1546836082961/5474039-25383714-thumbnail.jpg?format=1500w\" width=\"600\">"
   ]
  },
  {
   "cell_type": "markdown",
   "metadata": {
    "colab_type": "text",
    "id": "tTuAWjSBRsc7"
   },
   "source": [
    "## Don't cherrypick timelines or specific subsets of your data:\n",
    "\n",
    "<img src=\"https://wattsupwiththat.com/wp-content/uploads/2019/02/Figure-1-1.png\" width=\"600\">\n",
    "\n",
    "Look how specifically the writer has selected what years to show in the legend on the right side.\n",
    "\n",
    "<https://wattsupwiththat.com/2019/02/24/strong-arctic-sea-ice-growth-this-year/>\n",
    "\n",
    "Try the tool that was used to make the graphic for yourself\n",
    "\n",
    "<http://nsidc.org/arcticseaicenews/charctic-interactive-sea-ice-graph/>\n",
    "                                                                                           "
   ]
  },
  {
   "cell_type": "markdown",
   "metadata": {
    "colab_type": "text",
    "id": "Xs13S7p4Srme"
   },
   "source": [
    "## Use Relative units rather than Absolute Units\n",
    "\n",
    "<img src=\"https://imgs.xkcd.com/comics/heatmap_2x.png\" width=\"600\">"
   ]
  },
  {
   "cell_type": "markdown",
   "metadata": {
    "colab_type": "text",
    "id": "CIMt5OiuTlrr"
   },
   "source": [
    "## Avoid 3D graphs unless having the extra dimension is effective\n",
    "\n",
    "Usually you can Split 3D graphs into multiple 2D graphs\n",
    "\n",
    "3D graphs that are interactive can be very cool. (See Plotly and Bokeh)\n",
    "\n",
    "<img src=\"https://thumbor.forbes.com/thumbor/1280x868/https%3A%2F%2Fblogs-images.forbes.com%2Fthumbnails%2Fblog_1855%2Fpt_1855_811_o.jpg%3Ft%3D1339592470\" width=\"600\">"
   ]
  },
  {
   "cell_type": "markdown",
   "metadata": {
    "colab_type": "text",
    "id": "GATMu9IqUlIj"
   },
   "source": [
    "## Don't go against typical conventions\n",
    "\n",
    "<img src=\"http://www.callingbullshit.org/twittercards/tools_misleading_axes.png\" width=\"600\">"
   ]
  },
  {
   "cell_type": "markdown",
   "metadata": {
    "colab_type": "text",
    "id": "g6bKgZ0m_ynS"
   },
   "source": [
    "# Tips for choosing an appropriate visualization:"
   ]
  },
  {
   "cell_type": "markdown",
   "metadata": {
    "colab_type": "text",
    "id": "WtBsVnO4VHiJ"
   },
   "source": [
    "## Use Appropriate \"Visual Vocabulary\"\n",
    "\n",
    "[Visual Vocabulary - Vega Edition](http://ft.com/vocabulary)"
   ]
  },
  {
   "cell_type": "markdown",
   "metadata": {
    "colab_type": "text",
    "id": "H_QM9FHqVT7T"
   },
   "source": [
    "## What are the properties of your data?\n",
    "- Is your primary variable of interest continuous or discrete?\n",
    "- Is in wide or long (tidy) format?\n",
    "- Does your visualization involve multiple variables?\n",
    "- How many dimensions do you need to include on your plot?\n",
    "\n",
    "Can you express the main idea of your visualization in a single sentence?\n",
    "\n",
    "How hard does your visualization make the user work in order to draw the intended conclusion?"
   ]
  },
  {
   "cell_type": "markdown",
   "metadata": {
    "colab_type": "text",
    "id": "5EqXxnJeB89_"
   },
   "source": [
    "## Which Visualization tool is most appropriate? \n",
    "\n",
    "[Choosing a Python Visualization Tool flowchart](http://pbpython.com/python-vis-flowchart.html)"
   ]
  },
  {
   "cell_type": "markdown",
   "metadata": {
    "colab_type": "text",
    "id": "5_na7Oy3NGKA"
   },
   "source": [
    "# Making Explanatory Visualizations with Seaborn"
   ]
  },
  {
   "cell_type": "markdown",
   "metadata": {
    "colab_type": "text",
    "id": "ORUwQD6F-VYg"
   },
   "source": [
    "Today we will reproduce this [example by FiveThirtyEight:](https://fivethirtyeight.com/features/al-gores-new-movie-exposes-the-big-flaw-in-online-movie-ratings/)\n",
    "\n"
   ]
  },
  {
   "cell_type": "code",
   "execution_count": 1,
   "metadata": {
    "colab": {
     "base_uri": "https://localhost:8080/",
     "height": 355
    },
    "colab_type": "code",
    "id": "ya_w5WORGs-n",
    "outputId": "0dbf77af-aa69-4d25-cdb7-bf0e7f8058ad"
   },
   "outputs": [
    {
     "data": {
      "text/html": [
       "<img src=\"https://fivethirtyeight.com/wp-content/uploads/2017/09/mehtahickey-inconvenient-0830-1.png\" width=\"400\"/>"
      ],
      "text/plain": [
       "<IPython.core.display.Image object>"
      ]
     },
     "metadata": {},
     "output_type": "display_data"
    }
   ],
   "source": [
    "from IPython.display import display, Image\n",
    "\n",
    "url = 'https://fivethirtyeight.com/wp-content/uploads/2017/09/mehtahickey-inconvenient-0830-1.png'\n",
    "example = Image(url=url, width=400)\n",
    "\n",
    "display(example)"
   ]
  },
  {
   "cell_type": "markdown",
   "metadata": {
    "colab_type": "text",
    "id": "HP4DALiRG3sC"
   },
   "source": [
    "Using this data: https://github.com/fivethirtyeight/data/tree/master/inconvenient-sequel"
   ]
  },
  {
   "cell_type": "markdown",
   "metadata": {
    "colab_type": "text",
    "id": "HioPkYtUG03B"
   },
   "source": [
    "Links\n",
    "- [Strong Titles Are The Biggest Bang for Your Buck](http://stephanieevergreen.com/strong-titles/)\n",
    "- [Remove to improve (the data-ink ratio)](https://www.darkhorseanalytics.com/blog/data-looks-better-naked)\n",
    "- [How to Generate FiveThirtyEight Graphs in Python](https://www.dataquest.io/blog/making-538-plots/)"
   ]
  },
  {
   "cell_type": "markdown",
   "metadata": {
    "colab_type": "text",
    "id": "0w_iMnQ6-VoQ"
   },
   "source": [
    "## Make prototypes\n",
    "\n",
    "This  helps us understand the problem"
   ]
  },
  {
   "cell_type": "code",
   "execution_count": 5,
   "metadata": {
    "colab": {},
    "colab_type": "code",
    "id": "5uz0eEaEN-GO"
   },
   "outputs": [
    {
     "data": {
      "image/png": "[encoded data removed]",
      "text/plain": [
       "<Figure size 432x288 with 1 Axes>"
      ]
     },
     "metadata": {},
     "output_type": "display_data"
    }
   ],
   "source": [
    "%matplotlib inline\n",
    "import matplotlib.pyplot as plt\n",
    "import numpy as np\n",
    "import pandas as pd\n",
    "\n",
    "\n",
    "plt.style.use('fivethirtyeight')\n",
    "\n",
    "fake = pd.Series([38, 3, 2, 1, 2, 4, 6, 5, 5, 33], \n",
    "                 index=range(1,11))\n",
    "\n",
    "fake.plot.bar(color='C1', width=0.9);"
   ]
  },
  {
   "cell_type": "code",
   "execution_count": 3,
   "metadata": {
    "colab": {},
    "colab_type": "code",
    "id": "KZ0VLOV8OyRr"
   },
   "outputs": [
    {
     "data": {
      "image/png": "[encoded data removed]",
      "text/plain": [
       "<Figure size 432x288 with 1 Axes>"
      ]
     },
     "metadata": {
      "needs_background": "light"
     },
     "output_type": "display_data"
    }
   ],
   "source": [
    "fake2 = pd.Series(\n",
    "    [1, 1, 1, 1, 1, 1, 1, 1, 1, 1, 1, 1, 1, 1, 1, 1, 1, 1, 1, 1, 1, 1, 1, 1,\n",
    "     2, 2, 2, \n",
    "     3, 3, 3,\n",
    "     4, 4,\n",
    "     5, 5, 5,\n",
    "     6, 6, 6, 6,\n",
    "     7, 7, 7, 7, 7,\n",
    "     8, 8, 8, 8,\n",
    "     9, 9, 9, 9, \n",
    "     10, 10, 10, 10, 10, 10, 10, 10, 10, 10, 10, 10, 10, 10, 10, 10, 10, 10])\n",
    "\n",
    "fake2.value_counts().sort_index().plot.bar(color='C1', width=0.9);"
   ]
  },
  {
   "cell_type": "markdown",
   "metadata": {
    "colab_type": "text",
    "id": "mZb3UZWO-q05"
   },
   "source": [
    "## Annotate with text"
   ]
  },
  {
   "cell_type": "code",
   "execution_count": 33,
   "metadata": {},
   "outputs": [
    {
     "data": {
      "image/png": "[encoded data removed]",
      "text/plain": [
       "<Figure size 432x288 with 1 Axes>"
      ]
     },
     "metadata": {},
     "output_type": "display_data"
    }
   ],
   "source": [
    "plt.style.use('fivethirtyeight')\n",
    "fig = plt.figure()\n",
    "fake = pd.Series([38,3,2,1,2,4,6,5,5,33],index=range(1,11))\n",
    "ax = fake.plot.bar(color='#ef7030',width=0.9)\n",
    "ax.set(yticks=range(0,50,10),facecolor='#f9f9f9')\n",
    "fig.patch.set_facecolor('#f9f9f9')\n",
    "plt.ylabel('Perecent of Total Votes',fontsize=9,fontweight='bold')\n",
    "plt.xlabel('Rating',fontsize=9,fontweight='bold')\n",
    "\n",
    "ax.text(x=-2,y=45,s=\"'This is an example title'\",fontsize=9,fontweight='bold')\n",
    "ax.text(x=-2,y=42,s=\"'This is an example subtitle'\",fontsize=9,fontweight='bold')\n",
    "\n",
    "ax.tick_params(labelrotation=-180)"
   ]
  },
  {
   "cell_type": "markdown",
   "metadata": {
    "colab_type": "text",
    "id": "x8jRZkpB_MJ6"
   },
   "source": [
    "## Reproduce with real data"
   ]
  },
  {
   "cell_type": "code",
   "execution_count": 114,
   "metadata": {},
   "outputs": [],
   "source": [
    "import numpy as np"
   ]
  },
  {
   "cell_type": "code",
   "execution_count": 115,
   "metadata": {
    "colab": {},
    "colab_type": "code",
    "id": "3SOHJckDUPI8"
   },
   "outputs": [],
   "source": [
    "df = pd.read_csv('https://raw.githubusercontent.com/fivethirtyeight/data/master/inconvenient-sequel/ratings.csv')"
   ]
  },
  {
   "cell_type": "code",
   "execution_count": 117,
   "metadata": {},
   "outputs": [],
   "source": [
    "df['timestamp'] = pd.to_datetime(df['timestamp'])\n",
    "df.set_index('timestamp',inplace=True)\n",
    "df['category'].value_counts();"
   ]
  },
  {
   "cell_type": "code",
   "execution_count": 118,
   "metadata": {},
   "outputs": [],
   "source": [
    "lastday = df['2017-08-29']\n",
    "lastday_filtered = lastday[lastday['category'] == 'IMDb users']"
   ]
  },
  {
   "cell_type": "code",
   "execution_count": 119,
   "metadata": {
    "scrolled": true
   },
   "outputs": [],
   "source": [
    "final = lastday_filtered.tail(1)"
   ]
  },
  {
   "cell_type": "code",
   "execution_count": 120,
   "metadata": {},
   "outputs": [],
   "source": [
    "pct_cols = list(df.columns[df.columns.str.contains('pct')])\n",
    "plot_data = final[pct_cols]\n",
    "x_axis = np.arange(1,11)"
   ]
  },
  {
   "cell_type": "code",
   "execution_count": 121,
   "metadata": {},
   "outputs": [],
   "source": [
    "plot_data.columns = x_axis\n",
    "data = plot_data.iloc[0]"
   ]
  },
  {
   "cell_type": "code",
   "execution_count": 164,
   "metadata": {},
   "outputs": [
    {
     "data": {
      "image/png": "[encoded data removed]",
      "text/plain": [
       "<Figure size 432x288 with 1 Axes>"
      ]
     },
     "metadata": {},
     "output_type": "display_data"
    }
   ],
   "source": [
    "plt.style.use('fivethirtyeight')\n",
    "fig = plt.Figure()\n",
    "fig.set_facecolor('#ffffff')\n",
    "ax = data.plot.bar(color='#ef7030',width=0.9)\n",
    "plt.xlabel('Rating',fontsize=9,fontweight='bold')\n",
    "plt.ylabel('Perecent of Total Votes',fontsize=9,fontweight='bold')\n",
    "plt.xticks(rotation=0)\n",
    "ax.text(x=-2,y=45,s=\"'An Inconvenient Sequel: Truth To Power' is divisive\",fontsize=9,fontweight='bold')\n",
    "ax.text(x=-2,y=42,s=\"IMDb ratings for the film as of Aug. 29\",fontsize=9)\n",
    "ax.set_facecolor('#ffffff')"
   ]
  },
  {
   "cell_type": "code",
   "execution_count": null,
   "metadata": {},
   "outputs": [],
   "source": []
  },
  {
   "cell_type": "code",
   "execution_count": 146,
   "metadata": {},
   "outputs": [
    {
     "data": {
      "text/html": [
       "<img src=\"https://fivethirtyeight.com/wp-content/uploads/2017/09/mehtahickey-inconvenient-0830-1.png\" width=\"400\"/>"
      ],
      "text/plain": [
       "<IPython.core.display.Image object>"
      ]
     },
     "metadata": {},
     "output_type": "display_data"
    }
   ],
   "source": [
    "display(example)"
   ]
  },
  {
   "cell_type": "markdown",
   "metadata": {
    "colab_type": "text",
    "id": "NMEswXWh9mqw"
   },
   "source": [
    "# ASSIGNMENT\n",
    "\n",
    "Replicate the lesson code. I recommend that you [do not copy-paste](https://docs.google.com/document/d/1ubOw9B3Hfip27hF2ZFnW3a3z9xAgrUDRReOEo-FHCVs/edit).\n",
    "\n",
    "# STRETCH OPTIONS\n",
    "\n",
    "#### Reproduce another example from [FiveThityEight's shared data repository](https://data.fivethirtyeight.com/).\n",
    "\n",
    "For example:\n",
    "- [thanksgiving-2015](https://fivethirtyeight.com/features/heres-what-your-part-of-america-eats-on-thanksgiving/) (try the [`altair`](https://altair-viz.github.io/gallery/index.html#maps) library)\n",
    "- [candy-power-ranking](https://fivethirtyeight.com/features/the-ultimate-halloween-candy-power-ranking/) (try the [`statsmodels`](https://www.statsmodels.org/stable/index.html) library)\n",
    "- or another example of your choice!\n",
    "\n",
    "#### Make more charts!\n",
    "\n",
    "Choose a chart you want to make, from [Visual Vocabulary - Vega Edition](http://ft.com/vocabulary).\n",
    "\n",
    "Find the chart in an example gallery of a Python data visualization library:\n",
    "- [Seaborn](http://seaborn.pydata.org/examples/index.html)\n",
    "- [Altair](https://altair-viz.github.io/gallery/index.html)\n",
    "- [Matplotlib](https://matplotlib.org/gallery.html)\n",
    "- [Pandas](https://pandas.pydata.org/pandas-docs/stable/visualization.html)\n",
    "\n",
    "Reproduce the chart. [Optionally, try the \"Ben Franklin Method.\"](https://docs.google.com/document/d/1ubOw9B3Hfip27hF2ZFnW3a3z9xAgrUDRReOEo-FHCVs/edit) If you want, experiment and make changes.\n",
    "\n",
    "Take notes. Consider sharing your work with your cohort!\n",
    "\n",
    "\n",
    "\n",
    "\n",
    "\n",
    "\n",
    "\n"
   ]
  },
  {
   "cell_type": "code",
   "execution_count": null,
   "metadata": {},
   "outputs": [],
   "source": []
  }
 ],
 "metadata": {
  "colab": {
   "collapsed_sections": [],
   "name": "LS_DS_123_Make_Explanatory_Visualizations.ipynb",
   "provenance": [],
   "version": "0.3.2"
  },
  "kernelspec": {
   "display_name": "Python 3",
   "language": "python",
   "name": "python3"
  },
  "language_info": {
   "codemirror_mode": {
    "name": "ipython",
    "version": 3
   },
   "file_extension": ".py",
   "mimetype": "text/x-python",
   "name": "python",
   "nbconvert_exporter": "python",
   "pygments_lexer": "ipython3",
   "version": "3.7.3"
  },
  "varInspector": {
   "cols": {
    "lenName": 16,
    "lenType": 16,
    "lenVar": 40
   },
   "kernels_config": {
    "python": {
     "delete_cmd_postfix": "",
     "delete_cmd_prefix": "del ",
     "library": "var_list.py",
     "varRefreshCmd": "print(var_dic_list())"
    },
    "r": {
     "delete_cmd_postfix": ") ",
     "delete_cmd_prefix": "rm(",
     "library": "var_list.r",
     "varRefreshCmd": "cat(var_dic_list()) "
    }
   },
   "types_to_exclude": [
    "module",
    "function",
    "builtin_function_or_method",
    "instance",
    "_Feature"
   ],
   "window_display": false
  }
 },
 "nbformat": 4,
 "nbformat_minor": 1
}
