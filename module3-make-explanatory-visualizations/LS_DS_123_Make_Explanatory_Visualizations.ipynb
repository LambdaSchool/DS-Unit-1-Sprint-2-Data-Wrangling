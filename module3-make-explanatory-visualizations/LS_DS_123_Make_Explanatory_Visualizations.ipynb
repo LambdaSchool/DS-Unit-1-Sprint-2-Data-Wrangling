{
  "nbformat": 4,
  "nbformat_minor": 0,
  "metadata": {
    "colab": {
      "name": "LS_DS_123_Make_Explanatory_Visualizations.ipynb",
      "version": "0.3.2",
      "provenance": [],
      "collapsed_sections": []
    },
    "language_info": {
      "codemirror_mode": {
        "name": "ipython",
        "version": 3
      },
      "file_extension": ".py",
      "mimetype": "text/x-python",
      "name": "python",
      "nbconvert_exporter": "python",
      "pygments_lexer": "ipython3",
      "version": "3.7.1"
    },
    "kernelspec": {
      "display_name": "Python 3",
      "language": "python",
      "name": "python3"
    }
  },
  "cells": [
    {
      "cell_type": "markdown",
      "metadata": {
        "colab_type": "text",
        "id": "-8-trVo__vRE"
      },
      "source": [
        "_Lambda School Data Science_\n",
        "\n",
        "# Make Explanatory Visualizations\n",
        "\n",
        "### Objectives\n",
        "\n",
        "- identify misleading visualizations and how to fix them\n",
        "- use Seaborn to visualize distributions and relationships with continuous and discrete variables\n",
        "- add emphasis and annotations to transform visualizations from exploratory to explanatory\n",
        "- remove clutter from visualizations\n",
        "\n",
        "### Links\n",
        "\n",
        "- [How to Spot Visualization Lies](https://flowingdata.com/2017/02/09/how-to-spot-visualization-lies/)\n",
        "- [Visual Vocabulary - Vega Edition](http://ft.com/vocabulary)\n",
        "- [Choosing a Python Visualization Tool flowchart](http://pbpython.com/python-vis-flowchart.html)\n",
        "- [Searborn example gallery](http://seaborn.pydata.org/examples/index.html) & [tutorial](http://seaborn.pydata.org/tutorial.html)\n",
        "- [Strong Titles Are The Biggest Bang for Your Buck](http://stephanieevergreen.com/strong-titles/)\n",
        "- [Remove to improve (the data-ink ratio)](https://www.darkhorseanalytics.com/blog/data-looks-better-naked)\n",
        "- [How to Generate FiveThirtyEight Graphs in Python](https://www.dataquest.io/blog/making-538-plots/)"
      ]
    },
    {
      "cell_type": "markdown",
      "metadata": {
        "id": "s-24T844-8qv",
        "colab_type": "text"
      },
      "source": [
        "# Avoid Misleading Visualizations\n",
        "\n",
        "Did you find/discuss any interesting misleading visualizations in your Walkie Talkie?"
      ]
    },
    {
      "cell_type": "markdown",
      "metadata": {
        "id": "Qzxt9ntsNjs0",
        "colab_type": "text"
      },
      "source": [
        "## What makes a visualization misleading?\n",
        "\n",
        "[5 Ways Writers Use Misleading Graphs To Manipulate You](https://venngage.com/blog/misleading-graphs/)"
      ]
    },
    {
      "cell_type": "markdown",
      "metadata": {
        "id": "q7_DUiENNvxk",
        "colab_type": "text"
      },
      "source": [
        "## Two y-axes\n",
        "\n",
        "<img src=\"https://kieranhealy.org/files/misc/two-y-by-four-sm.jpg\" width=\"800\">\n",
        " \n",
        " Other Examples: \n",
        " - [Spurious Correlations](https://tylervigen.com/spurious-correlations)\n",
        " - <https://blog.datawrapper.de/dualaxis/>\n",
        " - <https://kieranhealy.org/blog/archives/2016/01/16/two-y-axes/>\n",
        " - <http://www.storytellingwithdata.com/blog/2016/2/1/be-gone-dual-y-axis>"
      ]
    },
    {
      "cell_type": "markdown",
      "metadata": {
        "id": "oIijNBDMNv2k",
        "colab_type": "text"
      },
      "source": [
        "##  Y-axis doesn't start at zero.\n",
        "\n",
        "<img src=\"https://i.pinimg.com/originals/22/53/a9/2253a944f54bb61f1983bc076ff33cdd.jpg\" width=\"600\">"
      ]
    },
    {
      "cell_type": "markdown",
      "metadata": {
        "id": "ISB2p8vZNv6r",
        "colab_type": "text"
      },
      "source": [
        "## Pie Charts are bad\n",
        "\n",
        "<img src=\"https://i1.wp.com/flowingdata.com/wp-content/uploads/2009/11/Fox-News-pie-chart.png?fit=620%2C465&ssl=1\" width=\"600\">"
      ]
    },
    {
      "cell_type": "markdown",
      "metadata": {
        "id": "67CsAzu1NwBJ",
        "colab_type": "text"
      },
      "source": [
        "## Pie charts that omit data are extra bad\n",
        " \n",
        "- A guy makes a misleading chart that goes viral\n",
        "\n",
        " What does this chart imply at first glance? You don't want your user to have to do a lot of work in order to be able to interpret you graph correctly. You want that first-glance conclusions to be the correct ones.\n",
        "\n",
        " <img src=\"https://pbs.twimg.com/media/DiaiTLHWsAYAEEX?format=jpg&name=medium\" width='600'>\n",
        " \n",
        " <https://twitter.com/michaelbatnick/status/1019680856837849090?lang=en>\n",
        " \n",
        "- It gets picked up by overworked journalists (assuming incompetency before malice)\n",
        " \n",
        " <https://www.marketwatch.com/story/this-1-chart-puts-mega-techs-trillions-of-market-value-into-eye-popping-perspective-2018-07-18>\n",
        " \n",
        "- Even after the chart's implications have been refuted, it's hard a bad (although compelling) visualization from being passed around.\n",
        "\n",
        " <https://www.linkedin.com/pulse/good-bad-pie-charts-karthik-shashidhar/>\n",
        "\n",
        "**[\"yea I understand a pie chart was probably not the best choice to present this data.\"](https://twitter.com/michaelbatnick/status/1037036440494985216)**"
      ]
    },
    {
      "cell_type": "markdown",
      "metadata": {
        "id": "FYXmlToEOOTC",
        "colab_type": "text"
      },
      "source": [
        "## Pie Charts that compare unrelated things are next-level extra bad\n",
        "\n",
        "<img src=\"http://www.painting-with-numbers.com/download/document/186/170403+Legalizing+Marijuana+Graph.jpg\" width=\"600\">\n"
      ]
    },
    {
      "cell_type": "markdown",
      "metadata": {
        "id": "IwtMQpY_QFUw",
        "colab_type": "text"
      },
      "source": [
        "## Be careful about how you use volume to represent quantities:\n",
        "\n",
        "radius vs diameter vs volume\n",
        "\n",
        "<img src=\"https://static1.squarespace.com/static/5bfc8dbab40b9d7dd9054f41/t/5c32d86e0ebbe80a25873249/1546836082961/5474039-25383714-thumbnail.jpg?format=1500w\" width=\"600\">"
      ]
    },
    {
      "cell_type": "markdown",
      "metadata": {
        "id": "tTuAWjSBRsc7",
        "colab_type": "text"
      },
      "source": [
        "## Don't cherrypick timelines or specific subsets of your data:\n",
        "\n",
        "<img src=\"https://wattsupwiththat.com/wp-content/uploads/2019/02/Figure-1-1.png\" width=\"600\">\n",
        "\n",
        "Look how specifically the writer has selected what years to show in the legend on the right side.\n",
        "\n",
        "<https://wattsupwiththat.com/2019/02/24/strong-arctic-sea-ice-growth-this-year/>\n",
        "\n",
        "Try the tool that was used to make the graphic for yourself\n",
        "\n",
        "<http://nsidc.org/arcticseaicenews/charctic-interactive-sea-ice-graph/>\n",
        "                                                                                           "
      ]
    },
    {
      "cell_type": "markdown",
      "metadata": {
        "id": "Xs13S7p4Srme",
        "colab_type": "text"
      },
      "source": [
        "## Use Relative units rather than Absolute Units\n",
        "\n",
        "<img src=\"https://imgs.xkcd.com/comics/heatmap_2x.png\" width=\"600\">"
      ]
    },
    {
      "cell_type": "markdown",
      "metadata": {
        "id": "CIMt5OiuTlrr",
        "colab_type": "text"
      },
      "source": [
        "## Avoid 3D graphs unless having the extra dimension is effective\n",
        "\n",
        "Usually you can Split 3D graphs into multiple 2D graphs\n",
        "\n",
        "3D graphs that are interactive can be very cool. (See Plotly and Bokeh)\n",
        "\n",
        "<img src=\"https://thumbor.forbes.com/thumbor/1280x868/https%3A%2F%2Fblogs-images.forbes.com%2Fthumbnails%2Fblog_1855%2Fpt_1855_811_o.jpg%3Ft%3D1339592470\" width=\"600\">"
      ]
    },
    {
      "cell_type": "markdown",
      "metadata": {
        "id": "GATMu9IqUlIj",
        "colab_type": "text"
      },
      "source": [
        "## Don't go against typical conventions\n",
        "\n",
        "<img src=\"http://www.callingbullshit.org/twittercards/tools_misleading_axes.png\" width=\"600\">"
      ]
    },
    {
      "cell_type": "markdown",
      "metadata": {
        "id": "g6bKgZ0m_ynS",
        "colab_type": "text"
      },
      "source": [
        "# Tips for choosing an appropriate visualization:"
      ]
    },
    {
      "cell_type": "markdown",
      "metadata": {
        "id": "WtBsVnO4VHiJ",
        "colab_type": "text"
      },
      "source": [
        "## Use Appropriate \"Visual Vocabulary\"\n",
        "\n",
        "[Visual Vocabulary - Vega Edition](http://ft.com/vocabulary)"
      ]
    },
    {
      "cell_type": "markdown",
      "metadata": {
        "id": "H_QM9FHqVT7T",
        "colab_type": "text"
      },
      "source": [
        "## What are the properties of your data?\n",
        "- Is your primary variable of interest continuous or discrete?\n",
        "- Is in wide or long (tidy) format?\n",
        "- Does your visualization involve multiple variables?\n",
        "- How many dimensions do you need to include on your plot?\n",
        "\n",
        "Can you express the main idea of your visualization in a single sentence?\n",
        "\n",
        "How hard does your visualization make the user work in order to draw the intended conclusion?"
      ]
    },
    {
      "cell_type": "markdown",
      "metadata": {
        "id": "5EqXxnJeB89_",
        "colab_type": "text"
      },
      "source": [
        "## Which Visualization tool is most appropriate? \n",
        "\n",
        "[Choosing a Python Visualization Tool flowchart](http://pbpython.com/python-vis-flowchart.html)"
      ]
    },
    {
      "cell_type": "markdown",
      "metadata": {
        "id": "4mDuzLeNn23m",
        "colab_type": "text"
      },
      "source": [
        "## Anatomy of a Matplotlib Plot"
      ]
    },
    {
      "cell_type": "code",
      "metadata": {
        "id": "h-aIS1Vdn2RR",
        "colab_type": "code",
        "outputId": "0a7ad86b-9db3-4f6d-a580-d106c1c42267",
        "colab": {
          "base_uri": "https://localhost:8080/",
          "height": 555
        }
      },
      "source": [
        "import numpy as np\n",
        "import matplotlib.pyplot as plt\n",
        "from matplotlib.ticker import AutoMinorLocator, MultipleLocator, FuncFormatter\n",
        "\n",
        "np.random.seed(19680801)\n",
        "\n",
        "X = np.linspace(0.5, 3.5, 100)\n",
        "Y1 = 3+np.cos(X)\n",
        "Y2 = 1+np.cos(1+X/0.75)/2\n",
        "Y3 = np.random.uniform(Y1, Y2, len(X))\n",
        "\n",
        "fig = plt.figure(figsize=(8, 8))\n",
        "ax = fig.add_subplot(1, 1, 1, aspect=1)\n",
        "\n",
        "\n",
        "def minor_tick(x, pos):\n",
        "    if not x % 1.0:\n",
        "        return \"\"\n",
        "    return \"%.2f\" % x\n",
        "\n",
        "ax.xaxis.set_major_locator(MultipleLocator(1.000))\n",
        "ax.xaxis.set_minor_locator(AutoMinorLocator(4))\n",
        "ax.yaxis.set_major_locator(MultipleLocator(1.000))\n",
        "ax.yaxis.set_minor_locator(AutoMinorLocator(4))\n",
        "ax.xaxis.set_minor_formatter(FuncFormatter(minor_tick))\n",
        "\n",
        "ax.set_xlim(0, 4)\n",
        "ax.set_ylim(0, 4)\n",
        "\n",
        "ax.tick_params(which='major', width=1.0)\n",
        "ax.tick_params(which='major', length=10)\n",
        "ax.tick_params(which='minor', width=1.0, labelsize=10)\n",
        "ax.tick_params(which='minor', length=5, labelsize=10, labelcolor='0.25')\n",
        "\n",
        "ax.grid(linestyle=\"--\", linewidth=0.5, color='.25', zorder=-10)\n",
        "\n",
        "ax.plot(X, Y1, c=(0.25, 0.25, 1.00), lw=2, label=\"Blue signal\", zorder=10)\n",
        "ax.plot(X, Y2, c=(1.00, 0.25, 0.25), lw=2, label=\"Red signal\")\n",
        "ax.plot(X, Y3, linewidth=0,\n",
        "        marker='o', markerfacecolor='w', markeredgecolor='k')\n",
        "\n",
        "ax.set_title(\"Anatomy of a figure\", fontsize=20, verticalalignment='bottom')\n",
        "ax.set_xlabel(\"X axis label\")\n",
        "ax.set_ylabel(\"Y axis label\")\n",
        "\n",
        "ax.legend()\n",
        "\n",
        "\n",
        "def circle(x, y, radius=0.15):\n",
        "    from matplotlib.patches import Circle\n",
        "    from matplotlib.patheffects import withStroke\n",
        "    circle = Circle((x, y), radius, clip_on=False, zorder=10, linewidth=1,\n",
        "                    edgecolor='black', facecolor=(0, 0, 0, .0125),\n",
        "                    path_effects=[withStroke(linewidth=5, foreground='w')])\n",
        "    ax.add_artist(circle)\n",
        "\n",
        "\n",
        "def text(x, y, text):\n",
        "    ax.text(x, y, text, backgroundcolor=\"white\",\n",
        "            ha='center', va='top', weight='bold', color='blue')\n",
        "\n",
        "# Minor tick\n",
        "circle(0.50, -0.10)\n",
        "text(0.50, -0.32, \"Minor tick label\")\n",
        "\n",
        "# Major tick\n",
        "circle(-0.03, 4.00)\n",
        "text(0.03, 3.80, \"Major tick\")\n",
        "\n",
        "# Minor tick\n",
        "circle(0.00, 3.50)\n",
        "text(0.00, 3.30, \"Minor tick\")\n",
        "\n",
        "# Major tick label\n",
        "circle(-0.15, 3.00)\n",
        "text(-0.15, 2.80, \"Major tick label\")\n",
        "\n",
        "# X Label\n",
        "circle(1.80, -0.27)\n",
        "text(1.80, -0.45, \"X axis label\")\n",
        "\n",
        "# Y Label\n",
        "circle(-0.27, 1.80)\n",
        "text(-0.27, 1.6, \"Y axis label\")\n",
        "\n",
        "# Title\n",
        "circle(1.60, 4.13)\n",
        "text(1.60, 3.93, \"Title\")\n",
        "\n",
        "# Blue plot\n",
        "circle(1.75, 2.80)\n",
        "text(1.75, 2.60, \"Line\\n(line plot)\")\n",
        "\n",
        "# Red plot\n",
        "circle(1.20, 0.60)\n",
        "text(1.20, 0.40, \"Line\\n(line plot)\")\n",
        "\n",
        "# Scatter plot\n",
        "circle(3.20, 1.75)\n",
        "text(3.20, 1.55, \"Markers\\n(scatter plot)\")\n",
        "\n",
        "# Grid\n",
        "circle(3.00, 3.00)\n",
        "text(3.00, 2.80, \"Grid\")\n",
        "\n",
        "# Legend\n",
        "circle(3.70, 3.80)\n",
        "text(3.70, 3.60, \"Legend\")\n",
        "\n",
        "# Axes\n",
        "circle(0.5, 0.5)\n",
        "text(0.5, 0.3, \"Axes\")\n",
        "\n",
        "# Figure\n",
        "circle(-0.3, 0.65)\n",
        "text(-0.3, 0.45, \"Figure\")\n",
        "\n",
        "color = 'blue'\n",
        "ax.annotate('Spines', xy=(4.0, 0.35), xytext=(3.3, 0.5),\n",
        "            weight='bold', color=color,\n",
        "            arrowprops=dict(arrowstyle='->',\n",
        "                            connectionstyle=\"arc3\",\n",
        "                            color=color))\n",
        "\n",
        "ax.annotate('', xy=(3.15, 0.0), xytext=(3.45, 0.45),\n",
        "            weight='bold', color=color,\n",
        "            arrowprops=dict(arrowstyle='->',\n",
        "                            connectionstyle=\"arc3\",\n",
        "                            color=color))\n",
        "\n",
        "ax.text(4.0, -0.4, \"Made with http://matplotlib.org\",\n",
        "        fontsize=10, ha=\"right\", color='.5')\n",
        "\n",
        "plt.show()"
      ],
      "execution_count": 0,
      "outputs": [
        {
          "output_type": "display_data",
          "data": {
            "image/png": "[encoded data removed]",
            "text/plain": [
              "<Figure size 576x576 with 1 Axes>"
            ]
          },
          "metadata": {
            "tags": []
          }
        }
      ]
    },
    {
      "cell_type": "markdown",
      "metadata": {
        "id": "yxI8nloRyYIU",
        "colab_type": "text"
      },
      "source": [
        "## Simple Web Scraper with IMDB"
      ]
    },
    {
      "cell_type": "code",
      "metadata": {
        "id": "HM87jRU9yXzA",
        "colab_type": "code",
        "outputId": "9a019604-48f4-4844-8e33-15f8e64ffdfa",
        "colab": {
          "base_uri": "https://localhost:8080/",
          "height": 493
        }
      },
      "source": [
        "from requests import get\n",
        "\n",
        "url = \"https://www.imdb.com/title/tt6105098/ratings?ref_=tt_ov_rt\"\n",
        "response = get(url)\n",
        "print(response.text[:500])"
      ],
      "execution_count": 0,
      "outputs": [
        {
          "output_type": "stream",
          "text": [
            "\n",
            "\n",
            "\n",
            "\n",
            "\n",
            "\n",
            "\n",
            "\n",
            "\n",
            "\n",
            "<!DOCTYPE html>\n",
            "<html\n",
            "    xmlns:og=\"http://ogp.me/ns#\"\n",
            "    xmlns:fb=\"http://www.facebook.com/2008/fbml\">\n",
            "    <head>\n",
            "         \n",
            "        <meta charset=\"utf-8\">\n",
            "        <meta http-equiv=\"X-UA-Compatible\" content=\"IE=edge\">\n",
            "\n",
            "    <meta name=\"apple-itunes-app\" content=\"app-id=342792525, app-argument=imdb:///title/tt6105098?src=mdot\">\n",
            "\n",
            "\n",
            "\n",
            "        <script type=\"text/javascript\">var IMDbTimer={starttime: new Date().getTime(),pt:'java'};</script>\n",
            "\n",
            "<script>\n",
            "    if (typeof uet == 'function') {\n",
            "     \n"
          ],
          "name": "stdout"
        }
      ]
    },
    {
      "cell_type": "code",
      "metadata": {
        "id": "WDnqTkHky51U",
        "colab_type": "code",
        "outputId": "88d4c7de-4f3f-46a3-f8f4-1290a7a9e24c",
        "colab": {
          "base_uri": "https://localhost:8080/",
          "height": 34
        }
      },
      "source": [
        "from bs4 import BeautifulSoup\n",
        "\n",
        "html_soup = BeautifulSoup(response.text, \"html.parser\")\n",
        "type(html_soup)"
      ],
      "execution_count": 0,
      "outputs": [
        {
          "output_type": "execute_result",
          "data": {
            "text/plain": [
              "bs4.BeautifulSoup"
            ]
          },
          "metadata": {
            "tags": []
          },
          "execution_count": 4
        }
      ]
    },
    {
      "cell_type": "code",
      "metadata": {
        "id": "2mM_i0rGzfGH",
        "colab_type": "code",
        "outputId": "1d4c9d82-ca6c-45dc-de51-bc99ed9cc5df",
        "colab": {
          "base_uri": "https://localhost:8080/",
          "height": 187
        }
      },
      "source": [
        "vote_container = html_soup.find_all(\"div\", class_=\"leftAligned\")\n",
        "vote_container[1:11]"
      ],
      "execution_count": 0,
      "outputs": [
        {
          "output_type": "execute_result",
          "data": {
            "text/plain": [
              "[<div class=\"leftAligned\">10,342</div>,\n",
              " <div class=\"leftAligned\">6,524</div>,\n",
              " <div class=\"leftAligned\">11,859</div>,\n",
              " <div class=\"leftAligned\">12,549</div>,\n",
              " <div class=\"leftAligned\">6,731</div>,\n",
              " <div class=\"leftAligned\">3,098</div>,\n",
              " <div class=\"leftAligned\">1,435</div>,\n",
              " <div class=\"leftAligned\">988</div>,\n",
              " <div class=\"leftAligned\">752</div>,\n",
              " <div class=\"leftAligned\">2,540</div>]"
            ]
          },
          "metadata": {
            "tags": []
          },
          "execution_count": 12
        }
      ]
    },
    {
      "cell_type": "code",
      "metadata": {
        "id": "jLAoPJaB0MwO",
        "colab_type": "code",
        "outputId": "e4b03614-56e2-4fc5-8863-e681f3366295",
        "colab": {
          "base_uri": "https://localhost:8080/",
          "height": 187
        }
      },
      "source": [
        "votes = [containers.text for containers in vote_container][1:11]\n",
        "votes"
      ],
      "execution_count": 0,
      "outputs": [
        {
          "output_type": "execute_result",
          "data": {
            "text/plain": [
              "['10,342',\n",
              " '6,524',\n",
              " '11,859',\n",
              " '12,549',\n",
              " '6,731',\n",
              " '3,098',\n",
              " '1,435',\n",
              " '988',\n",
              " '752',\n",
              " '2,540']"
            ]
          },
          "metadata": {
            "tags": []
          },
          "execution_count": 20
        }
      ]
    },
    {
      "cell_type": "code",
      "metadata": {
        "id": "6Owlbyll0q9g",
        "colab_type": "code",
        "outputId": "25cb5540-4aca-4f46-ec9b-02c47471e4fb",
        "colab": {
          "base_uri": "https://localhost:8080/",
          "height": 163
        }
      },
      "source": [
        "list(map(int, votes))"
      ],
      "execution_count": 0,
      "outputs": [
        {
          "output_type": "error",
          "ename": "ValueError",
          "evalue": "ignored",
          "traceback": [
            "\u001b[0;31m---------------------------------------------------------------------------\u001b[0m",
            "\u001b[0;31mValueError\u001b[0m                                Traceback (most recent call last)",
            "\u001b[0;32m<ipython-input-21-9191e27c8554>\u001b[0m in \u001b[0;36m<module>\u001b[0;34m()\u001b[0m\n\u001b[0;32m----> 1\u001b[0;31m \u001b[0mlist\u001b[0m\u001b[0;34m(\u001b[0m\u001b[0mmap\u001b[0m\u001b[0;34m(\u001b[0m\u001b[0mint\u001b[0m\u001b[0;34m,\u001b[0m \u001b[0mvotes\u001b[0m\u001b[0;34m)\u001b[0m\u001b[0;34m)\u001b[0m\u001b[0;34m\u001b[0m\u001b[0;34m\u001b[0m\u001b[0m\n\u001b[0m",
            "\u001b[0;31mValueError\u001b[0m: invalid literal for int() with base 10: '10,342'"
          ]
        }
      ]
    },
    {
      "cell_type": "code",
      "metadata": {
        "id": "4yG2OzPD1GWG",
        "colab_type": "code",
        "outputId": "593c2893-6f65-47e2-fb59-c86c6046b71e",
        "colab": {
          "base_uri": "https://localhost:8080/",
          "height": 54
        }
      },
      "source": [
        "urls = ['https://www.imdb.com/title/tt6105098/ratings?ref_=tt_ov_rt',     # Lion King (2019)\n",
        "        'https://www.imdb.com/title/tt0323073/ratings?ref_=tt_ov_rt',     # Lion King (1994)\n",
        "        'https://www.imdb.com/title/tt6139732/ratings?ref_=tt_ov_rt',     # Aladdin (2019)\n",
        "        'https://www.imdb.com/title/tt0103639/ratings?ref_=tt_ov_rt']     # Aladdin (1992) w/ Robin Williams\n",
        "votes_list = []\n",
        "for url in urls:\n",
        "    # Get raw HTML response\n",
        "    response = get(url)\n",
        "    \n",
        "    # Convert to BS Object\n",
        "    html_soup = BeautifulSoup(response.text, 'html.parser')\n",
        "    \n",
        "    # Find vote containers and extract star ratings\n",
        "    vote_containers = html_soup.find_all('div', class_ = 'leftAligned')\n",
        "    votes = [containers.text for containers in vote_containers][1:11]\n",
        "    \n",
        "    # Append to initial list\n",
        "    votes_list.append(votes)\n",
        "    \n",
        "print(votes_list)"
      ],
      "execution_count": 0,
      "outputs": [
        {
          "output_type": "stream",
          "text": [
            "[['10,342', '6,524', '11,859', '12,549', '6,731', '3,098', '1,435', '988', '752', '2,540'], ['319', '191', '304', '217', '87', '32', '13', '6', '6', '16'], ['14,758', '11,724', '22,615', '20,195', '8,567', '3,317', '1,496', '910', '659', '2,382'], ['58,902', '61,215', '111,111', '61,554', '20,591', '7,056', '2,594', '1,197', '690', '1,248']]\n"
          ],
          "name": "stdout"
        }
      ]
    },
    {
      "cell_type": "code",
      "metadata": {
        "id": "XTudZW3I1Qlu",
        "colab_type": "code",
        "outputId": "23f5eff5-ebb0-4da1-8519-152799a7aebb",
        "colab": {
          "base_uri": "https://localhost:8080/",
          "height": 359
        }
      },
      "source": [
        "import pandas as pd\n",
        "movies = ['The Lion King (2019)', 'The Lion King (1994)', 'Aladdin (2019)', 'Aladdin (1992)']\n",
        "df = pd.DataFrame(votes_list)\n",
        "df = df.T\n",
        "df.columns = movies\n",
        "df = df.apply(lambda x: x.str.replace(',',''))\n",
        "df['Star Rating'] = range(1,11)[::-1]\n",
        "df"
      ],
      "execution_count": 0,
      "outputs": [
        {
          "output_type": "execute_result",
          "data": {
            "text/html": [
              "<div>\n",
              "<style scoped>\n",
              "    .dataframe tbody tr th:only-of-type {\n",
              "        vertical-align: middle;\n",
              "    }\n",
              "\n",
              "    .dataframe tbody tr th {\n",
              "        vertical-align: top;\n",
              "    }\n",
              "\n",
              "    .dataframe thead th {\n",
              "        text-align: right;\n",
              "    }\n",
              "</style>\n",
              "<table border=\"1\" class=\"dataframe\">\n",
              "  <thead>\n",
              "    <tr style=\"text-align: right;\">\n",
              "      <th></th>\n",
              "      <th>The Lion King (2019)</th>\n",
              "      <th>The Lion King (1994)</th>\n",
              "      <th>Aladdin (2019)</th>\n",
              "      <th>Aladdin (1992)</th>\n",
              "      <th>Star Rating</th>\n",
              "    </tr>\n",
              "  </thead>\n",
              "  <tbody>\n",
              "    <tr>\n",
              "      <th>0</th>\n",
              "      <td>10342</td>\n",
              "      <td>319</td>\n",
              "      <td>14758</td>\n",
              "      <td>58902</td>\n",
              "      <td>10</td>\n",
              "    </tr>\n",
              "    <tr>\n",
              "      <th>1</th>\n",
              "      <td>6524</td>\n",
              "      <td>191</td>\n",
              "      <td>11724</td>\n",
              "      <td>61215</td>\n",
              "      <td>9</td>\n",
              "    </tr>\n",
              "    <tr>\n",
              "      <th>2</th>\n",
              "      <td>11859</td>\n",
              "      <td>304</td>\n",
              "      <td>22615</td>\n",
              "      <td>111111</td>\n",
              "      <td>8</td>\n",
              "    </tr>\n",
              "    <tr>\n",
              "      <th>3</th>\n",
              "      <td>12549</td>\n",
              "      <td>217</td>\n",
              "      <td>20195</td>\n",
              "      <td>61554</td>\n",
              "      <td>7</td>\n",
              "    </tr>\n",
              "    <tr>\n",
              "      <th>4</th>\n",
              "      <td>6731</td>\n",
              "      <td>87</td>\n",
              "      <td>8567</td>\n",
              "      <td>20591</td>\n",
              "      <td>6</td>\n",
              "    </tr>\n",
              "    <tr>\n",
              "      <th>5</th>\n",
              "      <td>3098</td>\n",
              "      <td>32</td>\n",
              "      <td>3317</td>\n",
              "      <td>7056</td>\n",
              "      <td>5</td>\n",
              "    </tr>\n",
              "    <tr>\n",
              "      <th>6</th>\n",
              "      <td>1435</td>\n",
              "      <td>13</td>\n",
              "      <td>1496</td>\n",
              "      <td>2594</td>\n",
              "      <td>4</td>\n",
              "    </tr>\n",
              "    <tr>\n",
              "      <th>7</th>\n",
              "      <td>988</td>\n",
              "      <td>6</td>\n",
              "      <td>910</td>\n",
              "      <td>1197</td>\n",
              "      <td>3</td>\n",
              "    </tr>\n",
              "    <tr>\n",
              "      <th>8</th>\n",
              "      <td>752</td>\n",
              "      <td>6</td>\n",
              "      <td>659</td>\n",
              "      <td>690</td>\n",
              "      <td>2</td>\n",
              "    </tr>\n",
              "    <tr>\n",
              "      <th>9</th>\n",
              "      <td>2540</td>\n",
              "      <td>16</td>\n",
              "      <td>2382</td>\n",
              "      <td>1248</td>\n",
              "      <td>1</td>\n",
              "    </tr>\n",
              "  </tbody>\n",
              "</table>\n",
              "</div>"
            ],
            "text/plain": [
              "  The Lion King (2019) The Lion King (1994)  ... Aladdin (1992) Star Rating\n",
              "0                10342                  319  ...          58902          10\n",
              "1                 6524                  191  ...          61215           9\n",
              "2                11859                  304  ...         111111           8\n",
              "3                12549                  217  ...          61554           7\n",
              "4                 6731                   87  ...          20591           6\n",
              "5                 3098                   32  ...           7056           5\n",
              "6                 1435                   13  ...           2594           4\n",
              "7                  988                    6  ...           1197           3\n",
              "8                  752                    6  ...            690           2\n",
              "9                 2540                   16  ...           1248           1\n",
              "\n",
              "[10 rows x 5 columns]"
            ]
          },
          "metadata": {
            "tags": []
          },
          "execution_count": 23
        }
      ]
    },
    {
      "cell_type": "code",
      "metadata": {
        "id": "jYxRVQjr2Prg",
        "colab_type": "code",
        "outputId": "c311e2f6-0a80-42b7-ae5c-16103bbab5fe",
        "colab": {
          "base_uri": "https://localhost:8080/",
          "height": 1000
        }
      },
      "source": [
        "# Convert df into tidy-format\n",
        "df_tidy = df.melt(id_vars=\"Star Rating\")\n",
        "df_tidy = df_tidy.rename(columns={\"vairable\":\"Movie\", \"value\" : \"Number of Votes\"})\n",
        "df_tidy[\"Number of Votes\"] = pd.to_numeric(df_tidy[\"Number of Votes\"])\n",
        "df_tidy"
      ],
      "execution_count": 0,
      "outputs": [
        {
          "output_type": "execute_result",
          "data": {
            "text/html": [
              "<div>\n",
              "<style scoped>\n",
              "    .dataframe tbody tr th:only-of-type {\n",
              "        vertical-align: middle;\n",
              "    }\n",
              "\n",
              "    .dataframe tbody tr th {\n",
              "        vertical-align: top;\n",
              "    }\n",
              "\n",
              "    .dataframe thead th {\n",
              "        text-align: right;\n",
              "    }\n",
              "</style>\n",
              "<table border=\"1\" class=\"dataframe\">\n",
              "  <thead>\n",
              "    <tr style=\"text-align: right;\">\n",
              "      <th></th>\n",
              "      <th>Star Rating</th>\n",
              "      <th>variable</th>\n",
              "      <th>Number of Votes</th>\n",
              "    </tr>\n",
              "  </thead>\n",
              "  <tbody>\n",
              "    <tr>\n",
              "      <th>0</th>\n",
              "      <td>10</td>\n",
              "      <td>The Lion King (2019)</td>\n",
              "      <td>10342</td>\n",
              "    </tr>\n",
              "    <tr>\n",
              "      <th>1</th>\n",
              "      <td>9</td>\n",
              "      <td>The Lion King (2019)</td>\n",
              "      <td>6524</td>\n",
              "    </tr>\n",
              "    <tr>\n",
              "      <th>2</th>\n",
              "      <td>8</td>\n",
              "      <td>The Lion King (2019)</td>\n",
              "      <td>11859</td>\n",
              "    </tr>\n",
              "    <tr>\n",
              "      <th>3</th>\n",
              "      <td>7</td>\n",
              "      <td>The Lion King (2019)</td>\n",
              "      <td>12549</td>\n",
              "    </tr>\n",
              "    <tr>\n",
              "      <th>4</th>\n",
              "      <td>6</td>\n",
              "      <td>The Lion King (2019)</td>\n",
              "      <td>6731</td>\n",
              "    </tr>\n",
              "    <tr>\n",
              "      <th>5</th>\n",
              "      <td>5</td>\n",
              "      <td>The Lion King (2019)</td>\n",
              "      <td>3098</td>\n",
              "    </tr>\n",
              "    <tr>\n",
              "      <th>6</th>\n",
              "      <td>4</td>\n",
              "      <td>The Lion King (2019)</td>\n",
              "      <td>1435</td>\n",
              "    </tr>\n",
              "    <tr>\n",
              "      <th>7</th>\n",
              "      <td>3</td>\n",
              "      <td>The Lion King (2019)</td>\n",
              "      <td>988</td>\n",
              "    </tr>\n",
              "    <tr>\n",
              "      <th>8</th>\n",
              "      <td>2</td>\n",
              "      <td>The Lion King (2019)</td>\n",
              "      <td>752</td>\n",
              "    </tr>\n",
              "    <tr>\n",
              "      <th>9</th>\n",
              "      <td>1</td>\n",
              "      <td>The Lion King (2019)</td>\n",
              "      <td>2540</td>\n",
              "    </tr>\n",
              "    <tr>\n",
              "      <th>10</th>\n",
              "      <td>10</td>\n",
              "      <td>The Lion King (1994)</td>\n",
              "      <td>319</td>\n",
              "    </tr>\n",
              "    <tr>\n",
              "      <th>11</th>\n",
              "      <td>9</td>\n",
              "      <td>The Lion King (1994)</td>\n",
              "      <td>191</td>\n",
              "    </tr>\n",
              "    <tr>\n",
              "      <th>12</th>\n",
              "      <td>8</td>\n",
              "      <td>The Lion King (1994)</td>\n",
              "      <td>304</td>\n",
              "    </tr>\n",
              "    <tr>\n",
              "      <th>13</th>\n",
              "      <td>7</td>\n",
              "      <td>The Lion King (1994)</td>\n",
              "      <td>217</td>\n",
              "    </tr>\n",
              "    <tr>\n",
              "      <th>14</th>\n",
              "      <td>6</td>\n",
              "      <td>The Lion King (1994)</td>\n",
              "      <td>87</td>\n",
              "    </tr>\n",
              "    <tr>\n",
              "      <th>15</th>\n",
              "      <td>5</td>\n",
              "      <td>The Lion King (1994)</td>\n",
              "      <td>32</td>\n",
              "    </tr>\n",
              "    <tr>\n",
              "      <th>16</th>\n",
              "      <td>4</td>\n",
              "      <td>The Lion King (1994)</td>\n",
              "      <td>13</td>\n",
              "    </tr>\n",
              "    <tr>\n",
              "      <th>17</th>\n",
              "      <td>3</td>\n",
              "      <td>The Lion King (1994)</td>\n",
              "      <td>6</td>\n",
              "    </tr>\n",
              "    <tr>\n",
              "      <th>18</th>\n",
              "      <td>2</td>\n",
              "      <td>The Lion King (1994)</td>\n",
              "      <td>6</td>\n",
              "    </tr>\n",
              "    <tr>\n",
              "      <th>19</th>\n",
              "      <td>1</td>\n",
              "      <td>The Lion King (1994)</td>\n",
              "      <td>16</td>\n",
              "    </tr>\n",
              "    <tr>\n",
              "      <th>20</th>\n",
              "      <td>10</td>\n",
              "      <td>Aladdin (2019)</td>\n",
              "      <td>14758</td>\n",
              "    </tr>\n",
              "    <tr>\n",
              "      <th>21</th>\n",
              "      <td>9</td>\n",
              "      <td>Aladdin (2019)</td>\n",
              "      <td>11724</td>\n",
              "    </tr>\n",
              "    <tr>\n",
              "      <th>22</th>\n",
              "      <td>8</td>\n",
              "      <td>Aladdin (2019)</td>\n",
              "      <td>22615</td>\n",
              "    </tr>\n",
              "    <tr>\n",
              "      <th>23</th>\n",
              "      <td>7</td>\n",
              "      <td>Aladdin (2019)</td>\n",
              "      <td>20195</td>\n",
              "    </tr>\n",
              "    <tr>\n",
              "      <th>24</th>\n",
              "      <td>6</td>\n",
              "      <td>Aladdin (2019)</td>\n",
              "      <td>8567</td>\n",
              "    </tr>\n",
              "    <tr>\n",
              "      <th>25</th>\n",
              "      <td>5</td>\n",
              "      <td>Aladdin (2019)</td>\n",
              "      <td>3317</td>\n",
              "    </tr>\n",
              "    <tr>\n",
              "      <th>26</th>\n",
              "      <td>4</td>\n",
              "      <td>Aladdin (2019)</td>\n",
              "      <td>1496</td>\n",
              "    </tr>\n",
              "    <tr>\n",
              "      <th>27</th>\n",
              "      <td>3</td>\n",
              "      <td>Aladdin (2019)</td>\n",
              "      <td>910</td>\n",
              "    </tr>\n",
              "    <tr>\n",
              "      <th>28</th>\n",
              "      <td>2</td>\n",
              "      <td>Aladdin (2019)</td>\n",
              "      <td>659</td>\n",
              "    </tr>\n",
              "    <tr>\n",
              "      <th>29</th>\n",
              "      <td>1</td>\n",
              "      <td>Aladdin (2019)</td>\n",
              "      <td>2382</td>\n",
              "    </tr>\n",
              "    <tr>\n",
              "      <th>30</th>\n",
              "      <td>10</td>\n",
              "      <td>Aladdin (1992)</td>\n",
              "      <td>58902</td>\n",
              "    </tr>\n",
              "    <tr>\n",
              "      <th>31</th>\n",
              "      <td>9</td>\n",
              "      <td>Aladdin (1992)</td>\n",
              "      <td>61215</td>\n",
              "    </tr>\n",
              "    <tr>\n",
              "      <th>32</th>\n",
              "      <td>8</td>\n",
              "      <td>Aladdin (1992)</td>\n",
              "      <td>111111</td>\n",
              "    </tr>\n",
              "    <tr>\n",
              "      <th>33</th>\n",
              "      <td>7</td>\n",
              "      <td>Aladdin (1992)</td>\n",
              "      <td>61554</td>\n",
              "    </tr>\n",
              "    <tr>\n",
              "      <th>34</th>\n",
              "      <td>6</td>\n",
              "      <td>Aladdin (1992)</td>\n",
              "      <td>20591</td>\n",
              "    </tr>\n",
              "    <tr>\n",
              "      <th>35</th>\n",
              "      <td>5</td>\n",
              "      <td>Aladdin (1992)</td>\n",
              "      <td>7056</td>\n",
              "    </tr>\n",
              "    <tr>\n",
              "      <th>36</th>\n",
              "      <td>4</td>\n",
              "      <td>Aladdin (1992)</td>\n",
              "      <td>2594</td>\n",
              "    </tr>\n",
              "    <tr>\n",
              "      <th>37</th>\n",
              "      <td>3</td>\n",
              "      <td>Aladdin (1992)</td>\n",
              "      <td>1197</td>\n",
              "    </tr>\n",
              "    <tr>\n",
              "      <th>38</th>\n",
              "      <td>2</td>\n",
              "      <td>Aladdin (1992)</td>\n",
              "      <td>690</td>\n",
              "    </tr>\n",
              "    <tr>\n",
              "      <th>39</th>\n",
              "      <td>1</td>\n",
              "      <td>Aladdin (1992)</td>\n",
              "      <td>1248</td>\n",
              "    </tr>\n",
              "  </tbody>\n",
              "</table>\n",
              "</div>"
            ],
            "text/plain": [
              "    Star Rating              variable  Number of Votes\n",
              "0            10  The Lion King (2019)            10342\n",
              "1             9  The Lion King (2019)             6524\n",
              "2             8  The Lion King (2019)            11859\n",
              "3             7  The Lion King (2019)            12549\n",
              "4             6  The Lion King (2019)             6731\n",
              "5             5  The Lion King (2019)             3098\n",
              "6             4  The Lion King (2019)             1435\n",
              "7             3  The Lion King (2019)              988\n",
              "8             2  The Lion King (2019)              752\n",
              "9             1  The Lion King (2019)             2540\n",
              "10           10  The Lion King (1994)              319\n",
              "11            9  The Lion King (1994)              191\n",
              "12            8  The Lion King (1994)              304\n",
              "13            7  The Lion King (1994)              217\n",
              "14            6  The Lion King (1994)               87\n",
              "15            5  The Lion King (1994)               32\n",
              "16            4  The Lion King (1994)               13\n",
              "17            3  The Lion King (1994)                6\n",
              "18            2  The Lion King (1994)                6\n",
              "19            1  The Lion King (1994)               16\n",
              "20           10        Aladdin (2019)            14758\n",
              "21            9        Aladdin (2019)            11724\n",
              "22            8        Aladdin (2019)            22615\n",
              "23            7        Aladdin (2019)            20195\n",
              "24            6        Aladdin (2019)             8567\n",
              "25            5        Aladdin (2019)             3317\n",
              "26            4        Aladdin (2019)             1496\n",
              "27            3        Aladdin (2019)              910\n",
              "28            2        Aladdin (2019)              659\n",
              "29            1        Aladdin (2019)             2382\n",
              "30           10        Aladdin (1992)            58902\n",
              "31            9        Aladdin (1992)            61215\n",
              "32            8        Aladdin (1992)           111111\n",
              "33            7        Aladdin (1992)            61554\n",
              "34            6        Aladdin (1992)            20591\n",
              "35            5        Aladdin (1992)             7056\n",
              "36            4        Aladdin (1992)             2594\n",
              "37            3        Aladdin (1992)             1197\n",
              "38            2        Aladdin (1992)              690\n",
              "39            1        Aladdin (1992)             1248"
            ]
          },
          "metadata": {
            "tags": []
          },
          "execution_count": 37
        }
      ]
    },
    {
      "cell_type": "code",
      "metadata": {
        "id": "SJEJ46DD4D8Y",
        "colab_type": "code",
        "outputId": "fd354db7-0bc8-4014-fb88-cbcabd0cbd1c",
        "colab": {
          "base_uri": "https://localhost:8080/",
          "height": 306
        }
      },
      "source": [
        "df_tidy[\"Vote Percent\"] = df_tidy.groupby(\"Movie\")[\"Number of Votes\"].apply(lambda x: x / x.sum() *100)\n"
      ],
      "execution_count": 0,
      "outputs": [
        {
          "output_type": "error",
          "ename": "KeyError",
          "evalue": "ignored",
          "traceback": [
            "\u001b[0;31m---------------------------------------------------------------------------\u001b[0m",
            "\u001b[0;31mKeyError\u001b[0m                                  Traceback (most recent call last)",
            "\u001b[0;32m<ipython-input-45-3ea17a9ff4a9>\u001b[0m in \u001b[0;36m<module>\u001b[0;34m()\u001b[0m\n\u001b[0;32m----> 1\u001b[0;31m \u001b[0mdf_tidy\u001b[0m\u001b[0;34m[\u001b[0m\u001b[0;34m\"Vote Percent\"\u001b[0m\u001b[0;34m]\u001b[0m \u001b[0;34m=\u001b[0m \u001b[0mdf_tidy\u001b[0m\u001b[0;34m.\u001b[0m\u001b[0mgroupby\u001b[0m\u001b[0;34m(\u001b[0m\u001b[0;34m\"Movie\"\u001b[0m\u001b[0;34m)\u001b[0m\u001b[0;34m[\u001b[0m\u001b[0;34m\"Number of Votes\"\u001b[0m\u001b[0;34m]\u001b[0m\u001b[0;34m.\u001b[0m\u001b[0mapply\u001b[0m\u001b[0;34m(\u001b[0m\u001b[0;32mlambda\u001b[0m \u001b[0mx\u001b[0m\u001b[0;34m:\u001b[0m \u001b[0mx\u001b[0m \u001b[0;34m/\u001b[0m \u001b[0mx\u001b[0m\u001b[0;34m.\u001b[0m\u001b[0msum\u001b[0m\u001b[0;34m(\u001b[0m\u001b[0;34m)\u001b[0m \u001b[0;34m*\u001b[0m\u001b[0;36m100\u001b[0m\u001b[0;34m)\u001b[0m\u001b[0;34m\u001b[0m\u001b[0;34m\u001b[0m\u001b[0m\n\u001b[0m",
            "\u001b[0;32m/usr/local/lib/python3.6/dist-packages/pandas/core/generic.py\u001b[0m in \u001b[0;36mgroupby\u001b[0;34m(self, by, axis, level, as_index, sort, group_keys, squeeze, observed, **kwargs)\u001b[0m\n\u001b[1;32m   7630\u001b[0m         return groupby(self, by=by, axis=axis, level=level, as_index=as_index,\n\u001b[1;32m   7631\u001b[0m                        \u001b[0msort\u001b[0m\u001b[0;34m=\u001b[0m\u001b[0msort\u001b[0m\u001b[0;34m,\u001b[0m \u001b[0mgroup_keys\u001b[0m\u001b[0;34m=\u001b[0m\u001b[0mgroup_keys\u001b[0m\u001b[0;34m,\u001b[0m \u001b[0msqueeze\u001b[0m\u001b[0;34m=\u001b[0m\u001b[0msqueeze\u001b[0m\u001b[0;34m,\u001b[0m\u001b[0;34m\u001b[0m\u001b[0;34m\u001b[0m\u001b[0m\n\u001b[0;32m-> 7632\u001b[0;31m                        observed=observed, **kwargs)\n\u001b[0m\u001b[1;32m   7633\u001b[0m \u001b[0;34m\u001b[0m\u001b[0m\n\u001b[1;32m   7634\u001b[0m     def asfreq(self, freq, method=None, how=None, normalize=False,\n",
            "\u001b[0;32m/usr/local/lib/python3.6/dist-packages/pandas/core/groupby/groupby.py\u001b[0m in \u001b[0;36mgroupby\u001b[0;34m(obj, by, **kwds)\u001b[0m\n\u001b[1;32m   2108\u001b[0m         \u001b[0;32mraise\u001b[0m \u001b[0mTypeError\u001b[0m\u001b[0;34m(\u001b[0m\u001b[0;34m'invalid type: {}'\u001b[0m\u001b[0;34m.\u001b[0m\u001b[0mformat\u001b[0m\u001b[0;34m(\u001b[0m\u001b[0mobj\u001b[0m\u001b[0;34m)\u001b[0m\u001b[0;34m)\u001b[0m\u001b[0;34m\u001b[0m\u001b[0;34m\u001b[0m\u001b[0m\n\u001b[1;32m   2109\u001b[0m \u001b[0;34m\u001b[0m\u001b[0m\n\u001b[0;32m-> 2110\u001b[0;31m     \u001b[0;32mreturn\u001b[0m \u001b[0mklass\u001b[0m\u001b[0;34m(\u001b[0m\u001b[0mobj\u001b[0m\u001b[0;34m,\u001b[0m \u001b[0mby\u001b[0m\u001b[0;34m,\u001b[0m \u001b[0;34m**\u001b[0m\u001b[0mkwds\u001b[0m\u001b[0;34m)\u001b[0m\u001b[0;34m\u001b[0m\u001b[0;34m\u001b[0m\u001b[0m\n\u001b[0m",
            "\u001b[0;32m/usr/local/lib/python3.6/dist-packages/pandas/core/groupby/groupby.py\u001b[0m in \u001b[0;36m__init__\u001b[0;34m(self, obj, keys, axis, level, grouper, exclusions, selection, as_index, sort, group_keys, squeeze, observed, **kwargs)\u001b[0m\n\u001b[1;32m    358\u001b[0m                                                     \u001b[0msort\u001b[0m\u001b[0;34m=\u001b[0m\u001b[0msort\u001b[0m\u001b[0;34m,\u001b[0m\u001b[0;34m\u001b[0m\u001b[0;34m\u001b[0m\u001b[0m\n\u001b[1;32m    359\u001b[0m                                                     \u001b[0mobserved\u001b[0m\u001b[0;34m=\u001b[0m\u001b[0mobserved\u001b[0m\u001b[0;34m,\u001b[0m\u001b[0;34m\u001b[0m\u001b[0;34m\u001b[0m\u001b[0m\n\u001b[0;32m--> 360\u001b[0;31m                                                     mutated=self.mutated)\n\u001b[0m\u001b[1;32m    361\u001b[0m \u001b[0;34m\u001b[0m\u001b[0m\n\u001b[1;32m    362\u001b[0m         \u001b[0mself\u001b[0m\u001b[0;34m.\u001b[0m\u001b[0mobj\u001b[0m \u001b[0;34m=\u001b[0m \u001b[0mobj\u001b[0m\u001b[0;34m\u001b[0m\u001b[0;34m\u001b[0m\u001b[0m\n",
            "\u001b[0;32m/usr/local/lib/python3.6/dist-packages/pandas/core/groupby/grouper.py\u001b[0m in \u001b[0;36m_get_grouper\u001b[0;34m(obj, key, axis, level, sort, observed, mutated, validate)\u001b[0m\n\u001b[1;32m    576\u001b[0m                 \u001b[0min_axis\u001b[0m\u001b[0;34m,\u001b[0m \u001b[0mname\u001b[0m\u001b[0;34m,\u001b[0m \u001b[0mlevel\u001b[0m\u001b[0;34m,\u001b[0m \u001b[0mgpr\u001b[0m \u001b[0;34m=\u001b[0m \u001b[0;32mFalse\u001b[0m\u001b[0;34m,\u001b[0m \u001b[0;32mNone\u001b[0m\u001b[0;34m,\u001b[0m \u001b[0mgpr\u001b[0m\u001b[0;34m,\u001b[0m \u001b[0;32mNone\u001b[0m\u001b[0;34m\u001b[0m\u001b[0;34m\u001b[0m\u001b[0m\n\u001b[1;32m    577\u001b[0m             \u001b[0;32melse\u001b[0m\u001b[0;34m:\u001b[0m\u001b[0;34m\u001b[0m\u001b[0;34m\u001b[0m\u001b[0m\n\u001b[0;32m--> 578\u001b[0;31m                 \u001b[0;32mraise\u001b[0m \u001b[0mKeyError\u001b[0m\u001b[0;34m(\u001b[0m\u001b[0mgpr\u001b[0m\u001b[0;34m)\u001b[0m\u001b[0;34m\u001b[0m\u001b[0;34m\u001b[0m\u001b[0m\n\u001b[0m\u001b[1;32m    579\u001b[0m         \u001b[0;32melif\u001b[0m \u001b[0misinstance\u001b[0m\u001b[0;34m(\u001b[0m\u001b[0mgpr\u001b[0m\u001b[0;34m,\u001b[0m \u001b[0mGrouper\u001b[0m\u001b[0;34m)\u001b[0m \u001b[0;32mand\u001b[0m \u001b[0mgpr\u001b[0m\u001b[0;34m.\u001b[0m\u001b[0mkey\u001b[0m \u001b[0;32mis\u001b[0m \u001b[0;32mnot\u001b[0m \u001b[0;32mNone\u001b[0m\u001b[0;34m:\u001b[0m\u001b[0;34m\u001b[0m\u001b[0;34m\u001b[0m\u001b[0m\n\u001b[1;32m    580\u001b[0m             \u001b[0;31m# Add key to exclusions\u001b[0m\u001b[0;34m\u001b[0m\u001b[0;34m\u001b[0m\u001b[0;34m\u001b[0m\u001b[0m\n",
            "\u001b[0;31mKeyError\u001b[0m: 'Movie'"
          ]
        }
      ]
    },
    {
      "cell_type": "code",
      "metadata": {
        "id": "fVLx__NS2574",
        "colab_type": "code",
        "outputId": "b9aea0e2-b285-4884-871c-c51db531ba22",
        "colab": {
          "base_uri": "https://localhost:8080/",
          "height": 153
        }
      },
      "source": [
        "df_tidy.info()"
      ],
      "execution_count": 0,
      "outputs": [
        {
          "output_type": "stream",
          "text": [
            "<class 'pandas.core.frame.DataFrame'>\n",
            "RangeIndex: 40 entries, 0 to 39\n",
            "Data columns (total 3 columns):\n",
            "Star Rating        40 non-null int64\n",
            "variable           40 non-null object\n",
            "Number of Votes    40 non-null int64\n",
            "dtypes: int64(2), object(1)\n",
            "memory usage: 1.0+ KB\n"
          ],
          "name": "stdout"
        }
      ]
    },
    {
      "cell_type": "code",
      "metadata": {
        "id": "ikeP7E7_3MLn",
        "colab_type": "code",
        "outputId": "0343ada8-145b-428a-eebb-56cc643e398d",
        "colab": {
          "base_uri": "https://localhost:8080/",
          "height": 697
        }
      },
      "source": [
        "import seaborn as sns\n",
        "\n",
        "sns.catplot(x=\"Star Rating\", y=\"Number of Votes\", col=\"Movie\", col_wrap=2, height=6, kind=\"bar\", data=df_tidy);"
      ],
      "execution_count": 0,
      "outputs": [
        {
          "output_type": "error",
          "ename": "KeyError",
          "evalue": "ignored",
          "traceback": [
            "\u001b[0;31m---------------------------------------------------------------------------\u001b[0m",
            "\u001b[0;31mKeyError\u001b[0m                                  Traceback (most recent call last)",
            "\u001b[0;32m/usr/local/lib/python3.6/dist-packages/pandas/core/indexes/base.py\u001b[0m in \u001b[0;36mget_loc\u001b[0;34m(self, key, method, tolerance)\u001b[0m\n\u001b[1;32m   2656\u001b[0m             \u001b[0;32mtry\u001b[0m\u001b[0;34m:\u001b[0m\u001b[0;34m\u001b[0m\u001b[0;34m\u001b[0m\u001b[0m\n\u001b[0;32m-> 2657\u001b[0;31m                 \u001b[0;32mreturn\u001b[0m \u001b[0mself\u001b[0m\u001b[0;34m.\u001b[0m\u001b[0m_engine\u001b[0m\u001b[0;34m.\u001b[0m\u001b[0mget_loc\u001b[0m\u001b[0;34m(\u001b[0m\u001b[0mkey\u001b[0m\u001b[0;34m)\u001b[0m\u001b[0;34m\u001b[0m\u001b[0;34m\u001b[0m\u001b[0m\n\u001b[0m\u001b[1;32m   2658\u001b[0m             \u001b[0;32mexcept\u001b[0m \u001b[0mKeyError\u001b[0m\u001b[0;34m:\u001b[0m\u001b[0;34m\u001b[0m\u001b[0;34m\u001b[0m\u001b[0m\n",
            "\u001b[0;32mpandas/_libs/index.pyx\u001b[0m in \u001b[0;36mpandas._libs.index.IndexEngine.get_loc\u001b[0;34m()\u001b[0m\n",
            "\u001b[0;32mpandas/_libs/index.pyx\u001b[0m in \u001b[0;36mpandas._libs.index.IndexEngine.get_loc\u001b[0;34m()\u001b[0m\n",
            "\u001b[0;32mpandas/_libs/hashtable_class_helper.pxi\u001b[0m in \u001b[0;36mpandas._libs.hashtable.PyObjectHashTable.get_item\u001b[0;34m()\u001b[0m\n",
            "\u001b[0;32mpandas/_libs/hashtable_class_helper.pxi\u001b[0m in \u001b[0;36mpandas._libs.hashtable.PyObjectHashTable.get_item\u001b[0;34m()\u001b[0m\n",
            "\u001b[0;31mKeyError\u001b[0m: 'Movie'",
            "\nDuring handling of the above exception, another exception occurred:\n",
            "\u001b[0;31mKeyError\u001b[0m                                  Traceback (most recent call last)",
            "\u001b[0;32m<ipython-input-33-19b6bdfc51ae>\u001b[0m in \u001b[0;36m<module>\u001b[0;34m()\u001b[0m\n\u001b[1;32m      1\u001b[0m \u001b[0;32mimport\u001b[0m \u001b[0mseaborn\u001b[0m \u001b[0;32mas\u001b[0m \u001b[0msns\u001b[0m\u001b[0;34m\u001b[0m\u001b[0;34m\u001b[0m\u001b[0m\n\u001b[1;32m      2\u001b[0m \u001b[0;34m\u001b[0m\u001b[0m\n\u001b[0;32m----> 3\u001b[0;31m \u001b[0msns\u001b[0m\u001b[0;34m.\u001b[0m\u001b[0mcatplot\u001b[0m\u001b[0;34m(\u001b[0m\u001b[0mx\u001b[0m\u001b[0;34m=\u001b[0m\u001b[0;34m\"Star Rating\"\u001b[0m\u001b[0;34m,\u001b[0m \u001b[0my\u001b[0m\u001b[0;34m=\u001b[0m\u001b[0;34m\"Number of Votes\"\u001b[0m\u001b[0;34m,\u001b[0m \u001b[0mcol\u001b[0m\u001b[0;34m=\u001b[0m\u001b[0;34m\"Movie\"\u001b[0m\u001b[0;34m,\u001b[0m \u001b[0mcol_wrap\u001b[0m\u001b[0;34m=\u001b[0m\u001b[0;36m2\u001b[0m\u001b[0;34m,\u001b[0m \u001b[0mheight\u001b[0m\u001b[0;34m=\u001b[0m\u001b[0;36m6\u001b[0m\u001b[0;34m,\u001b[0m \u001b[0mkind\u001b[0m\u001b[0;34m=\u001b[0m\u001b[0;34m\"bar\"\u001b[0m\u001b[0;34m,\u001b[0m \u001b[0mdata\u001b[0m\u001b[0;34m=\u001b[0m\u001b[0mdf_tidy\u001b[0m\u001b[0;34m)\u001b[0m\u001b[0;34m;\u001b[0m\u001b[0;34m\u001b[0m\u001b[0;34m\u001b[0m\u001b[0m\n\u001b[0m",
            "\u001b[0;32m/usr/local/lib/python3.6/dist-packages/seaborn/categorical.py\u001b[0m in \u001b[0;36mcatplot\u001b[0;34m(x, y, hue, data, row, col, col_wrap, estimator, ci, n_boot, units, order, hue_order, row_order, col_order, kind, height, aspect, orient, color, palette, legend, legend_out, sharex, sharey, margin_titles, facet_kws, **kwargs)\u001b[0m\n\u001b[1;32m   3750\u001b[0m \u001b[0;34m\u001b[0m\u001b[0m\n\u001b[1;32m   3751\u001b[0m     \u001b[0;31m# Initialize the facets\u001b[0m\u001b[0;34m\u001b[0m\u001b[0;34m\u001b[0m\u001b[0;34m\u001b[0m\u001b[0m\n\u001b[0;32m-> 3752\u001b[0;31m     \u001b[0mg\u001b[0m \u001b[0;34m=\u001b[0m \u001b[0mFacetGrid\u001b[0m\u001b[0;34m(\u001b[0m\u001b[0;34m**\u001b[0m\u001b[0mfacet_kws\u001b[0m\u001b[0;34m)\u001b[0m\u001b[0;34m\u001b[0m\u001b[0;34m\u001b[0m\u001b[0m\n\u001b[0m\u001b[1;32m   3753\u001b[0m \u001b[0;34m\u001b[0m\u001b[0m\n\u001b[1;32m   3754\u001b[0m     \u001b[0;31m# Draw the plot onto the facets\u001b[0m\u001b[0;34m\u001b[0m\u001b[0;34m\u001b[0m\u001b[0;34m\u001b[0m\u001b[0m\n",
            "\u001b[0;32m/usr/local/lib/python3.6/dist-packages/seaborn/axisgrid.py\u001b[0m in \u001b[0;36m__init__\u001b[0;34m(self, data, row, col, hue, col_wrap, sharex, sharey, height, aspect, palette, row_order, col_order, hue_order, hue_kws, dropna, legend_out, despine, margin_titles, xlim, ylim, subplot_kws, gridspec_kws, size)\u001b[0m\n\u001b[1;32m    248\u001b[0m             \u001b[0mcol_names\u001b[0m \u001b[0;34m=\u001b[0m \u001b[0;34m[\u001b[0m\u001b[0;34m]\u001b[0m\u001b[0;34m\u001b[0m\u001b[0;34m\u001b[0m\u001b[0m\n\u001b[1;32m    249\u001b[0m         \u001b[0;32melse\u001b[0m\u001b[0;34m:\u001b[0m\u001b[0;34m\u001b[0m\u001b[0;34m\u001b[0m\u001b[0m\n\u001b[0;32m--> 250\u001b[0;31m             \u001b[0mcol_names\u001b[0m \u001b[0;34m=\u001b[0m \u001b[0mutils\u001b[0m\u001b[0;34m.\u001b[0m\u001b[0mcategorical_order\u001b[0m\u001b[0;34m(\u001b[0m\u001b[0mdata\u001b[0m\u001b[0;34m[\u001b[0m\u001b[0mcol\u001b[0m\u001b[0;34m]\u001b[0m\u001b[0;34m,\u001b[0m \u001b[0mcol_order\u001b[0m\u001b[0;34m)\u001b[0m\u001b[0;34m\u001b[0m\u001b[0;34m\u001b[0m\u001b[0m\n\u001b[0m\u001b[1;32m    251\u001b[0m \u001b[0;34m\u001b[0m\u001b[0m\n\u001b[1;32m    252\u001b[0m         \u001b[0;31m# Additional dict of kwarg -> list of values for mapping the hue var\u001b[0m\u001b[0;34m\u001b[0m\u001b[0;34m\u001b[0m\u001b[0;34m\u001b[0m\u001b[0m\n",
            "\u001b[0;32m/usr/local/lib/python3.6/dist-packages/pandas/core/frame.py\u001b[0m in \u001b[0;36m__getitem__\u001b[0;34m(self, key)\u001b[0m\n\u001b[1;32m   2925\u001b[0m             \u001b[0;32mif\u001b[0m \u001b[0mself\u001b[0m\u001b[0;34m.\u001b[0m\u001b[0mcolumns\u001b[0m\u001b[0;34m.\u001b[0m\u001b[0mnlevels\u001b[0m \u001b[0;34m>\u001b[0m \u001b[0;36m1\u001b[0m\u001b[0;34m:\u001b[0m\u001b[0;34m\u001b[0m\u001b[0;34m\u001b[0m\u001b[0m\n\u001b[1;32m   2926\u001b[0m                 \u001b[0;32mreturn\u001b[0m \u001b[0mself\u001b[0m\u001b[0;34m.\u001b[0m\u001b[0m_getitem_multilevel\u001b[0m\u001b[0;34m(\u001b[0m\u001b[0mkey\u001b[0m\u001b[0;34m)\u001b[0m\u001b[0;34m\u001b[0m\u001b[0;34m\u001b[0m\u001b[0m\n\u001b[0;32m-> 2927\u001b[0;31m             \u001b[0mindexer\u001b[0m \u001b[0;34m=\u001b[0m \u001b[0mself\u001b[0m\u001b[0;34m.\u001b[0m\u001b[0mcolumns\u001b[0m\u001b[0;34m.\u001b[0m\u001b[0mget_loc\u001b[0m\u001b[0;34m(\u001b[0m\u001b[0mkey\u001b[0m\u001b[0;34m)\u001b[0m\u001b[0;34m\u001b[0m\u001b[0;34m\u001b[0m\u001b[0m\n\u001b[0m\u001b[1;32m   2928\u001b[0m             \u001b[0;32mif\u001b[0m \u001b[0mis_integer\u001b[0m\u001b[0;34m(\u001b[0m\u001b[0mindexer\u001b[0m\u001b[0;34m)\u001b[0m\u001b[0;34m:\u001b[0m\u001b[0;34m\u001b[0m\u001b[0;34m\u001b[0m\u001b[0m\n\u001b[1;32m   2929\u001b[0m                 \u001b[0mindexer\u001b[0m \u001b[0;34m=\u001b[0m \u001b[0;34m[\u001b[0m\u001b[0mindexer\u001b[0m\u001b[0;34m]\u001b[0m\u001b[0;34m\u001b[0m\u001b[0;34m\u001b[0m\u001b[0m\n",
            "\u001b[0;32m/usr/local/lib/python3.6/dist-packages/pandas/core/indexes/base.py\u001b[0m in \u001b[0;36mget_loc\u001b[0;34m(self, key, method, tolerance)\u001b[0m\n\u001b[1;32m   2657\u001b[0m                 \u001b[0;32mreturn\u001b[0m \u001b[0mself\u001b[0m\u001b[0;34m.\u001b[0m\u001b[0m_engine\u001b[0m\u001b[0;34m.\u001b[0m\u001b[0mget_loc\u001b[0m\u001b[0;34m(\u001b[0m\u001b[0mkey\u001b[0m\u001b[0;34m)\u001b[0m\u001b[0;34m\u001b[0m\u001b[0;34m\u001b[0m\u001b[0m\n\u001b[1;32m   2658\u001b[0m             \u001b[0;32mexcept\u001b[0m \u001b[0mKeyError\u001b[0m\u001b[0;34m:\u001b[0m\u001b[0;34m\u001b[0m\u001b[0;34m\u001b[0m\u001b[0m\n\u001b[0;32m-> 2659\u001b[0;31m                 \u001b[0;32mreturn\u001b[0m \u001b[0mself\u001b[0m\u001b[0;34m.\u001b[0m\u001b[0m_engine\u001b[0m\u001b[0;34m.\u001b[0m\u001b[0mget_loc\u001b[0m\u001b[0;34m(\u001b[0m\u001b[0mself\u001b[0m\u001b[0;34m.\u001b[0m\u001b[0m_maybe_cast_indexer\u001b[0m\u001b[0;34m(\u001b[0m\u001b[0mkey\u001b[0m\u001b[0;34m)\u001b[0m\u001b[0;34m)\u001b[0m\u001b[0;34m\u001b[0m\u001b[0;34m\u001b[0m\u001b[0m\n\u001b[0m\u001b[1;32m   2660\u001b[0m         \u001b[0mindexer\u001b[0m \u001b[0;34m=\u001b[0m \u001b[0mself\u001b[0m\u001b[0;34m.\u001b[0m\u001b[0mget_indexer\u001b[0m\u001b[0;34m(\u001b[0m\u001b[0;34m[\u001b[0m\u001b[0mkey\u001b[0m\u001b[0;34m]\u001b[0m\u001b[0;34m,\u001b[0m \u001b[0mmethod\u001b[0m\u001b[0;34m=\u001b[0m\u001b[0mmethod\u001b[0m\u001b[0;34m,\u001b[0m \u001b[0mtolerance\u001b[0m\u001b[0;34m=\u001b[0m\u001b[0mtolerance\u001b[0m\u001b[0;34m)\u001b[0m\u001b[0;34m\u001b[0m\u001b[0;34m\u001b[0m\u001b[0m\n\u001b[1;32m   2661\u001b[0m         \u001b[0;32mif\u001b[0m \u001b[0mindexer\u001b[0m\u001b[0;34m.\u001b[0m\u001b[0mndim\u001b[0m \u001b[0;34m>\u001b[0m \u001b[0;36m1\u001b[0m \u001b[0;32mor\u001b[0m \u001b[0mindexer\u001b[0m\u001b[0;34m.\u001b[0m\u001b[0msize\u001b[0m \u001b[0;34m>\u001b[0m \u001b[0;36m1\u001b[0m\u001b[0;34m:\u001b[0m\u001b[0;34m\u001b[0m\u001b[0;34m\u001b[0m\u001b[0m\n",
            "\u001b[0;32mpandas/_libs/index.pyx\u001b[0m in \u001b[0;36mpandas._libs.index.IndexEngine.get_loc\u001b[0;34m()\u001b[0m\n",
            "\u001b[0;32mpandas/_libs/index.pyx\u001b[0m in \u001b[0;36mpandas._libs.index.IndexEngine.get_loc\u001b[0;34m()\u001b[0m\n",
            "\u001b[0;32mpandas/_libs/hashtable_class_helper.pxi\u001b[0m in \u001b[0;36mpandas._libs.hashtable.PyObjectHashTable.get_item\u001b[0;34m()\u001b[0m\n",
            "\u001b[0;32mpandas/_libs/hashtable_class_helper.pxi\u001b[0m in \u001b[0;36mpandas._libs.hashtable.PyObjectHashTable.get_item\u001b[0;34m()\u001b[0m\n",
            "\u001b[0;31mKeyError\u001b[0m: 'Movie'"
          ]
        }
      ]
    },
    {
      "cell_type": "markdown",
      "metadata": {
        "id": "5_na7Oy3NGKA",
        "colab_type": "text"
      },
      "source": [
        "# Making Explanatory Visualizations with Seaborn"
      ]
    },
    {
      "cell_type": "markdown",
      "metadata": {
        "id": "ORUwQD6F-VYg",
        "colab_type": "text"
      },
      "source": [
        "Today we will reproduce this [example by FiveThirtyEight:](https://fivethirtyeight.com/features/al-gores-new-movie-exposes-the-big-flaw-in-online-movie-ratings/)\n",
        "\n"
      ]
    },
    {
      "cell_type": "code",
      "metadata": {
        "colab_type": "code",
        "id": "ya_w5WORGs-n",
        "outputId": "dd9a56c4-0745-42e7-a93f-0455e4a5bc2f",
        "colab": {
          "base_uri": "https://localhost:8080/",
          "height": 355
        }
      },
      "source": [
        "from IPython.display import display, Image\n",
        "\n",
        "url = 'https://fivethirtyeight.com/wp-content/uploads/2017/09/mehtahickey-inconvenient-0830-1.png'\n",
        "example = Image(url=url, width=400)\n",
        "\n",
        "display(example)"
      ],
      "execution_count": 0,
      "outputs": [
        {
          "output_type": "display_data",
          "data": {
            "text/html": [
              "<img src=\"https://fivethirtyeight.com/wp-content/uploads/2017/09/mehtahickey-inconvenient-0830-1.png\" width=\"400\"/>"
            ],
            "text/plain": [
              "<IPython.core.display.Image object>"
            ]
          },
          "metadata": {
            "tags": []
          }
        }
      ]
    },
    {
      "cell_type": "markdown",
      "metadata": {
        "colab_type": "text",
        "id": "HP4DALiRG3sC"
      },
      "source": [
        "Using this data: https://github.com/fivethirtyeight/data/tree/master/inconvenient-sequel"
      ]
    },
    {
      "cell_type": "markdown",
      "metadata": {
        "colab_type": "text",
        "id": "HioPkYtUG03B"
      },
      "source": [
        "Links\n",
        "- [Strong Titles Are The Biggest Bang for Your Buck](http://stephanieevergreen.com/strong-titles/)\n",
        "- [Remove to improve (the data-ink ratio)](https://www.darkhorseanalytics.com/blog/data-looks-better-naked)\n",
        "- [How to Generate FiveThirtyEight Graphs in Python](https://www.dataquest.io/blog/making-538-plots/)"
      ]
    },
    {
      "cell_type": "markdown",
      "metadata": {
        "colab_type": "text",
        "id": "0w_iMnQ6-VoQ"
      },
      "source": [
        "## Make prototypes\n",
        "\n",
        "This  helps us understand the problem"
      ]
    },
    {
      "cell_type": "code",
      "metadata": {
        "colab_type": "code",
        "id": "5uz0eEaEN-GO",
        "outputId": "ae981837-1da2-4967-d151-0dd4b302d487",
        "colab": {
          "base_uri": "https://localhost:8080/",
          "height": 285
        }
      },
      "source": [
        "%matplotlib inline\n",
        "import matplotlib.pyplot as plt\n",
        "import numpy as np\n",
        "import pandas as pd\n",
        "\n",
        "\n",
        "plt.style.use('fivethirtyeight')\n",
        "\n",
        "fake = pd.Series([38, 3, 2, 1, 2, 4, 6, 5, 5, 33], \n",
        "                 index=range(1,11))\n",
        "\n",
        "fake.plot.bar(color='C1', width=0.9);"
      ],
      "execution_count": 0,
      "outputs": [
        {
          "output_type": "display_data",
          "data": {
            "image/png": "[encoded data removed]",
            "text/plain": [
              "<Figure size 432x288 with 1 Axes>"
            ]
          },
          "metadata": {
            "tags": []
          }
        }
      ]
    },
    {
      "cell_type": "code",
      "metadata": {
        "colab_type": "code",
        "id": "KZ0VLOV8OyRr",
        "outputId": "66e16536-095d-43fb-c487-f60a43fae454",
        "colab": {
          "base_uri": "https://localhost:8080/",
          "height": 289
        }
      },
      "source": [
        "fake2 = pd.Series(\n",
        "    [1, 1, 1, 1, 1, 1, 1, 1, 1, 1, 1, 1, 1, 1, 1, 1, 1, 1, 1, 1, 1, 1, 1, 1,\n",
        "     2, 2, 2, \n",
        "     3, 3, 3,\n",
        "     4, 4,\n",
        "     5, 5, 5,\n",
        "     6, 6, 6, 6,\n",
        "     7, 7, 7, 7, 7,\n",
        "     8, 8, 8, 8,\n",
        "     9, 9, 9, 9, \n",
        "     10, 10, 10, 10, 10, 10, 10, 10, 10, 10, 10, 10, 10, 10, 10, 10, 10, 10])\n",
        "\n",
        "fake2.value_counts().sort_index().plot.bar(color='C1', width=0.9);"
      ],
      "execution_count": 0,
      "outputs": [
        {
          "output_type": "display_data",
          "data": {
            "image/png": "[encoded data removed]",
            "text/plain": [
              "<Figure size 432x288 with 1 Axes>"
            ]
          },
          "metadata": {
            "tags": []
          }
        }
      ]
    },
    {
      "cell_type": "markdown",
      "metadata": {
        "colab_type": "text",
        "id": "mZb3UZWO-q05"
      },
      "source": [
        "## Annotate with text"
      ]
    },
    {
      "cell_type": "code",
      "metadata": {
        "colab_type": "code",
        "id": "f6U1vswr_uWp",
        "outputId": "36896e61-7d66-46a9-e24b-92e4753edbaa",
        "colab": {
          "base_uri": "https://localhost:8080/",
          "height": 370
        }
      },
      "source": [
        "import matplotlib.pyplot as plt\n",
        "plt.style.use('fivethirtyeight')\n",
        "\n",
        "fake.plot.bar(color='C1', width=0.9);\n",
        "plt.text(x=-1.5, y=50, fontsize=16, fontweight=\"bold\",\n",
        "    s =\" An Inconvient Sequel: Truth to Power is divisive\")\n",
        "plt.text(x=-1.5, y=46, fontsize=12,\n",
        "         s = \"IMDB ratings for the fil;m as of Aug. 29\")\n",
        "plt.xlabel(\"Rating\", fontsize=10, fontweight=\"bold\")\n",
        "plt.ylabel(\"Percent of Total Votes\", fontsize=10, fontweight=\"bold\");"
      ],
      "execution_count": 0,
      "outputs": [
        {
          "output_type": "display_data",
          "data": {
            "image/png": "[encoded data removed]",
            "text/plain": [
              "<Figure size 432x288 with 1 Axes>"
            ]
          },
          "metadata": {
            "tags": []
          }
        }
      ]
    },
    {
      "cell_type": "markdown",
      "metadata": {
        "colab_type": "text",
        "id": "x8jRZkpB_MJ6"
      },
      "source": [
        "## Reproduce with real data"
      ]
    },
    {
      "cell_type": "code",
      "metadata": {
        "colab_type": "code",
        "id": "3SOHJckDUPI8",
        "outputId": "18667d10-1fa8-4105-857f-d0aae1d68f49",
        "colab": {
          "base_uri": "https://localhost:8080/",
          "height": 326
        }
      },
      "source": [
        "df = pd.read_csv('https://raw.githubusercontent.com/fivethirtyeight/data/master/inconvenient-sequel/ratings.csv')\n",
        "print(df.shape)\n",
        "df.head()"
      ],
      "execution_count": 0,
      "outputs": [
        {
          "output_type": "stream",
          "text": [
            "(80053, 27)\n"
          ],
          "name": "stdout"
        },
        {
          "output_type": "execute_result",
          "data": {
            "text/html": [
              "<div>\n",
              "<style scoped>\n",
              "    .dataframe tbody tr th:only-of-type {\n",
              "        vertical-align: middle;\n",
              "    }\n",
              "\n",
              "    .dataframe tbody tr th {\n",
              "        vertical-align: top;\n",
              "    }\n",
              "\n",
              "    .dataframe thead th {\n",
              "        text-align: right;\n",
              "    }\n",
              "</style>\n",
              "<table border=\"1\" class=\"dataframe\">\n",
              "  <thead>\n",
              "    <tr style=\"text-align: right;\">\n",
              "      <th></th>\n",
              "      <th>timestamp</th>\n",
              "      <th>respondents</th>\n",
              "      <th>category</th>\n",
              "      <th>link</th>\n",
              "      <th>average</th>\n",
              "      <th>mean</th>\n",
              "      <th>median</th>\n",
              "      <th>1_votes</th>\n",
              "      <th>2_votes</th>\n",
              "      <th>3_votes</th>\n",
              "      <th>4_votes</th>\n",
              "      <th>5_votes</th>\n",
              "      <th>6_votes</th>\n",
              "      <th>7_votes</th>\n",
              "      <th>8_votes</th>\n",
              "      <th>9_votes</th>\n",
              "      <th>10_votes</th>\n",
              "      <th>1_pct</th>\n",
              "      <th>2_pct</th>\n",
              "      <th>3_pct</th>\n",
              "      <th>4_pct</th>\n",
              "      <th>5_pct</th>\n",
              "      <th>6_pct</th>\n",
              "      <th>7_pct</th>\n",
              "      <th>8_pct</th>\n",
              "      <th>9_pct</th>\n",
              "      <th>10_pct</th>\n",
              "    </tr>\n",
              "  </thead>\n",
              "  <tbody>\n",
              "    <tr>\n",
              "      <th>0</th>\n",
              "      <td>2017-07-17 12:28:32.785639</td>\n",
              "      <td>402</td>\n",
              "      <td>Males</td>\n",
              "      <td>http://www.imdb.com/title/tt6322922/ratings-male</td>\n",
              "      <td>4.6</td>\n",
              "      <td>5.0</td>\n",
              "      <td>2</td>\n",
              "      <td>197</td>\n",
              "      <td>7</td>\n",
              "      <td>7</td>\n",
              "      <td>3</td>\n",
              "      <td>7</td>\n",
              "      <td>7</td>\n",
              "      <td>11</td>\n",
              "      <td>8</td>\n",
              "      <td>20</td>\n",
              "      <td>135</td>\n",
              "      <td>49.0</td>\n",
              "      <td>1.7</td>\n",
              "      <td>1.7</td>\n",
              "      <td>0.7</td>\n",
              "      <td>1.7</td>\n",
              "      <td>1.7</td>\n",
              "      <td>2.7</td>\n",
              "      <td>2.0</td>\n",
              "      <td>5.0</td>\n",
              "      <td>33.6</td>\n",
              "    </tr>\n",
              "    <tr>\n",
              "      <th>1</th>\n",
              "      <td>2017-07-17 12:28:33.025600</td>\n",
              "      <td>78</td>\n",
              "      <td>Females</td>\n",
              "      <td>http://www.imdb.com/title/tt6322922/ratings-fe...</td>\n",
              "      <td>6.9</td>\n",
              "      <td>7.7</td>\n",
              "      <td>10</td>\n",
              "      <td>16</td>\n",
              "      <td>1</td>\n",
              "      <td>0</td>\n",
              "      <td>1</td>\n",
              "      <td>1</td>\n",
              "      <td>0</td>\n",
              "      <td>3</td>\n",
              "      <td>4</td>\n",
              "      <td>3</td>\n",
              "      <td>49</td>\n",
              "      <td>20.5</td>\n",
              "      <td>1.3</td>\n",
              "      <td>0.0</td>\n",
              "      <td>1.3</td>\n",
              "      <td>1.3</td>\n",
              "      <td>0.0</td>\n",
              "      <td>3.8</td>\n",
              "      <td>5.1</td>\n",
              "      <td>3.8</td>\n",
              "      <td>62.8</td>\n",
              "    </tr>\n",
              "    <tr>\n",
              "      <th>2</th>\n",
              "      <td>2017-07-17 12:28:33.273919</td>\n",
              "      <td>4</td>\n",
              "      <td>Aged under 18</td>\n",
              "      <td>http://www.imdb.com/title/tt6322922/ratings-age_1</td>\n",
              "      <td>4.2</td>\n",
              "      <td>4.2</td>\n",
              "      <td>3</td>\n",
              "      <td>2</td>\n",
              "      <td>0</td>\n",
              "      <td>0</td>\n",
              "      <td>0</td>\n",
              "      <td>1</td>\n",
              "      <td>0</td>\n",
              "      <td>0</td>\n",
              "      <td>0</td>\n",
              "      <td>0</td>\n",
              "      <td>1</td>\n",
              "      <td>50.0</td>\n",
              "      <td>0.0</td>\n",
              "      <td>0.0</td>\n",
              "      <td>0.0</td>\n",
              "      <td>25.0</td>\n",
              "      <td>0.0</td>\n",
              "      <td>0.0</td>\n",
              "      <td>0.0</td>\n",
              "      <td>0.0</td>\n",
              "      <td>25.0</td>\n",
              "    </tr>\n",
              "    <tr>\n",
              "      <th>3</th>\n",
              "      <td>2017-07-17 12:28:33.495325</td>\n",
              "      <td>4</td>\n",
              "      <td>Males under 18</td>\n",
              "      <td>http://www.imdb.com/title/tt6322922/ratings-ma...</td>\n",
              "      <td>4.2</td>\n",
              "      <td>4.2</td>\n",
              "      <td>3</td>\n",
              "      <td>2</td>\n",
              "      <td>0</td>\n",
              "      <td>0</td>\n",
              "      <td>0</td>\n",
              "      <td>1</td>\n",
              "      <td>0</td>\n",
              "      <td>0</td>\n",
              "      <td>0</td>\n",
              "      <td>0</td>\n",
              "      <td>1</td>\n",
              "      <td>50.0</td>\n",
              "      <td>0.0</td>\n",
              "      <td>0.0</td>\n",
              "      <td>0.0</td>\n",
              "      <td>25.0</td>\n",
              "      <td>0.0</td>\n",
              "      <td>0.0</td>\n",
              "      <td>0.0</td>\n",
              "      <td>0.0</td>\n",
              "      <td>25.0</td>\n",
              "    </tr>\n",
              "    <tr>\n",
              "      <th>4</th>\n",
              "      <td>2017-07-17 12:28:33.722849</td>\n",
              "      <td>130</td>\n",
              "      <td>Aged 18-29</td>\n",
              "      <td>http://www.imdb.com/title/tt6322922/ratings-age_2</td>\n",
              "      <td>6.3</td>\n",
              "      <td>6.5</td>\n",
              "      <td>9</td>\n",
              "      <td>41</td>\n",
              "      <td>0</td>\n",
              "      <td>3</td>\n",
              "      <td>1</td>\n",
              "      <td>2</td>\n",
              "      <td>3</td>\n",
              "      <td>6</td>\n",
              "      <td>4</td>\n",
              "      <td>6</td>\n",
              "      <td>64</td>\n",
              "      <td>31.5</td>\n",
              "      <td>0.0</td>\n",
              "      <td>2.3</td>\n",
              "      <td>0.8</td>\n",
              "      <td>1.5</td>\n",
              "      <td>2.3</td>\n",
              "      <td>4.6</td>\n",
              "      <td>3.1</td>\n",
              "      <td>4.6</td>\n",
              "      <td>49.2</td>\n",
              "    </tr>\n",
              "  </tbody>\n",
              "</table>\n",
              "</div>"
            ],
            "text/plain": [
              "                    timestamp  respondents  ... 9_pct 10_pct\n",
              "0  2017-07-17 12:28:32.785639          402  ...   5.0   33.6\n",
              "1  2017-07-17 12:28:33.025600           78  ...   3.8   62.8\n",
              "2  2017-07-17 12:28:33.273919            4  ...   0.0   25.0\n",
              "3  2017-07-17 12:28:33.495325            4  ...   0.0   25.0\n",
              "4  2017-07-17 12:28:33.722849          130  ...   4.6   49.2\n",
              "\n",
              "[5 rows x 27 columns]"
            ]
          },
          "metadata": {
            "tags": []
          },
          "execution_count": 66
        }
      ]
    },
    {
      "cell_type": "code",
      "metadata": {
        "colab_type": "code",
        "id": "cDltXxhC_yG-",
        "outputId": "931ea1af-7774-46a3-fde5-27f8466e8913",
        "colab": {
          "base_uri": "https://localhost:8080/",
          "height": 357
        }
      },
      "source": [
        "df.category.value_counts()"
      ],
      "execution_count": 0,
      "outputs": [
        {
          "output_type": "execute_result",
          "data": {
            "text/plain": [
              "Aged 45+              4216\n",
              "Males Aged 45+        4216\n",
              "Females Aged 45+      4216\n",
              "Males Aged 18-29      4216\n",
              "Females Aged 30-44    4216\n",
              "IMDb users            4216\n",
              "IMDb staff            4216\n",
              "Non-US users          4216\n",
              "US users              4216\n",
              "Females               4216\n",
              "Aged under 18         4216\n",
              "Males                 4216\n",
              "Females Aged 18-29    4216\n",
              "Males under 18        4216\n",
              "Aged 30-44            4216\n",
              "Males Aged 30-44      4216\n",
              "Top 1000 voters       4216\n",
              "Aged 18-29            4216\n",
              "Females under 18      4165\n",
              "Name: category, dtype: int64"
            ]
          },
          "metadata": {
            "tags": []
          },
          "execution_count": 68
        }
      ]
    },
    {
      "cell_type": "code",
      "metadata": {
        "id": "wzCfMhj7_Drm",
        "colab_type": "code",
        "outputId": "985889c9-da1f-4c5b-ddef-732b52aca0db",
        "colab": {
          "base_uri": "https://localhost:8080/",
          "height": 493
        }
      },
      "source": [
        "df.dtypes"
      ],
      "execution_count": 0,
      "outputs": [
        {
          "output_type": "execute_result",
          "data": {
            "text/plain": [
              "timestamp       object\n",
              "respondents      int64\n",
              "category        object\n",
              "link            object\n",
              "average        float64\n",
              "mean           float64\n",
              "median           int64\n",
              "1_votes          int64\n",
              "2_votes          int64\n",
              "3_votes          int64\n",
              "4_votes          int64\n",
              "5_votes          int64\n",
              "6_votes          int64\n",
              "7_votes          int64\n",
              "8_votes          int64\n",
              "9_votes          int64\n",
              "10_votes         int64\n",
              "1_pct          float64\n",
              "2_pct          float64\n",
              "3_pct          float64\n",
              "4_pct          float64\n",
              "5_pct          float64\n",
              "6_pct          float64\n",
              "7_pct          float64\n",
              "8_pct          float64\n",
              "9_pct          float64\n",
              "10_pct         float64\n",
              "dtype: object"
            ]
          },
          "metadata": {
            "tags": []
          },
          "execution_count": 70
        }
      ]
    },
    {
      "cell_type": "code",
      "metadata": {
        "id": "h6RQxtdX_Uwx",
        "colab_type": "code",
        "outputId": "d3472ed6-23e2-4975-9ff3-0c64f2055acd",
        "colab": {
          "base_uri": "https://localhost:8080/",
          "height": 136
        }
      },
      "source": [
        "df[\"timestamp\"] = pd.to_datetime(df[\"timestamp\"])\n",
        "df.timestamp.describe()"
      ],
      "execution_count": 0,
      "outputs": [
        {
          "output_type": "execute_result",
          "data": {
            "text/plain": [
              "count                          80053\n",
              "unique                         80053\n",
              "top       2017-07-24 23:00:02.760781\n",
              "freq                               1\n",
              "first     2017-07-17 12:28:32.785639\n",
              "last      2017-08-29 23:10:06.218251\n",
              "Name: timestamp, dtype: object"
            ]
          },
          "metadata": {
            "tags": []
          },
          "execution_count": 74
        }
      ]
    },
    {
      "cell_type": "code",
      "metadata": {
        "id": "vm4R_zvN_wa1",
        "colab_type": "code",
        "outputId": "380823c5-f025-4a21-8ed3-c1e2e65ad77a",
        "colab": {
          "base_uri": "https://localhost:8080/",
          "height": 34
        }
      },
      "source": [
        "df_imdb = df[df.category == \"IMDb users\"]\n",
        "df_imdb.shape"
      ],
      "execution_count": 0,
      "outputs": [
        {
          "output_type": "execute_result",
          "data": {
            "text/plain": [
              "(4216, 27)"
            ]
          },
          "metadata": {
            "tags": []
          },
          "execution_count": 75
        }
      ]
    },
    {
      "cell_type": "code",
      "metadata": {
        "id": "mYrjA1ms__g9",
        "colab_type": "code",
        "outputId": "34a134b2-075d-45c0-9e4b-67402a83c055",
        "colab": {
          "base_uri": "https://localhost:8080/",
          "height": 117
        }
      },
      "source": [
        "final = df_imdb.tail(1)\n",
        "final"
      ],
      "execution_count": 0,
      "outputs": [
        {
          "output_type": "execute_result",
          "data": {
            "text/html": [
              "<div>\n",
              "<style scoped>\n",
              "    .dataframe tbody tr th:only-of-type {\n",
              "        vertical-align: middle;\n",
              "    }\n",
              "\n",
              "    .dataframe tbody tr th {\n",
              "        vertical-align: top;\n",
              "    }\n",
              "\n",
              "    .dataframe thead th {\n",
              "        text-align: right;\n",
              "    }\n",
              "</style>\n",
              "<table border=\"1\" class=\"dataframe\">\n",
              "  <thead>\n",
              "    <tr style=\"text-align: right;\">\n",
              "      <th></th>\n",
              "      <th>timestamp</th>\n",
              "      <th>respondents</th>\n",
              "      <th>category</th>\n",
              "      <th>link</th>\n",
              "      <th>average</th>\n",
              "      <th>mean</th>\n",
              "      <th>median</th>\n",
              "      <th>1_votes</th>\n",
              "      <th>2_votes</th>\n",
              "      <th>3_votes</th>\n",
              "      <th>4_votes</th>\n",
              "      <th>5_votes</th>\n",
              "      <th>6_votes</th>\n",
              "      <th>7_votes</th>\n",
              "      <th>8_votes</th>\n",
              "      <th>9_votes</th>\n",
              "      <th>10_votes</th>\n",
              "      <th>1_pct</th>\n",
              "      <th>2_pct</th>\n",
              "      <th>3_pct</th>\n",
              "      <th>4_pct</th>\n",
              "      <th>5_pct</th>\n",
              "      <th>6_pct</th>\n",
              "      <th>7_pct</th>\n",
              "      <th>8_pct</th>\n",
              "      <th>9_pct</th>\n",
              "      <th>10_pct</th>\n",
              "    </tr>\n",
              "  </thead>\n",
              "  <tbody>\n",
              "    <tr>\n",
              "      <th>80052</th>\n",
              "      <td>2017-08-29 23:10:06.218251</td>\n",
              "      <td>2662</td>\n",
              "      <td>IMDb users</td>\n",
              "      <td>http://www.imdb.com/title/tt6322922/ratings</td>\n",
              "      <td>5.4</td>\n",
              "      <td>5.6</td>\n",
              "      <td>7</td>\n",
              "      <td>1021</td>\n",
              "      <td>69</td>\n",
              "      <td>38</td>\n",
              "      <td>25</td>\n",
              "      <td>55</td>\n",
              "      <td>110</td>\n",
              "      <td>154</td>\n",
              "      <td>147</td>\n",
              "      <td>146</td>\n",
              "      <td>897</td>\n",
              "      <td>38.4</td>\n",
              "      <td>2.6</td>\n",
              "      <td>1.4</td>\n",
              "      <td>0.9</td>\n",
              "      <td>2.1</td>\n",
              "      <td>4.1</td>\n",
              "      <td>5.8</td>\n",
              "      <td>5.5</td>\n",
              "      <td>5.5</td>\n",
              "      <td>33.7</td>\n",
              "    </tr>\n",
              "  </tbody>\n",
              "</table>\n",
              "</div>"
            ],
            "text/plain": [
              "                       timestamp  respondents    category  ... 8_pct  9_pct  10_pct\n",
              "80052 2017-08-29 23:10:06.218251         2662  IMDb users  ...   5.5    5.5    33.7\n",
              "\n",
              "[1 rows x 27 columns]"
            ]
          },
          "metadata": {
            "tags": []
          },
          "execution_count": 77
        }
      ]
    },
    {
      "cell_type": "code",
      "metadata": {
        "id": "dpMt1v2IAOme",
        "colab_type": "code",
        "outputId": "baa5dad3-9b1c-4b13-da21-2a6a0443d25f",
        "colab": {
          "base_uri": "https://localhost:8080/",
          "height": 187
        }
      },
      "source": [
        "columns = [\"{}_pct\".format(i) for i in range(1,11)]\n",
        "columns = [f'{i}_pct' for i in range(1,11)]\n",
        "columns"
      ],
      "execution_count": 0,
      "outputs": [
        {
          "output_type": "execute_result",
          "data": {
            "text/plain": [
              "['1_pct',\n",
              " '2_pct',\n",
              " '3_pct',\n",
              " '4_pct',\n",
              " '5_pct',\n",
              " '6_pct',\n",
              " '7_pct',\n",
              " '8_pct',\n",
              " '9_pct',\n",
              " '10_pct']"
            ]
          },
          "metadata": {
            "tags": []
          },
          "execution_count": 81
        }
      ]
    },
    {
      "cell_type": "code",
      "metadata": {
        "id": "NwzjpkhuAOaV",
        "colab_type": "code",
        "outputId": "3f1bfa1c-50fd-4412-8e9c-5943264cfb84",
        "colab": {
          "base_uri": "https://localhost:8080/",
          "height": 359
        }
      },
      "source": [
        "data = final[columns]\n",
        "data = data.T\n",
        "data.index = range(1,11)\n",
        "data"
      ],
      "execution_count": 0,
      "outputs": [
        {
          "output_type": "execute_result",
          "data": {
            "text/html": [
              "<div>\n",
              "<style scoped>\n",
              "    .dataframe tbody tr th:only-of-type {\n",
              "        vertical-align: middle;\n",
              "    }\n",
              "\n",
              "    .dataframe tbody tr th {\n",
              "        vertical-align: top;\n",
              "    }\n",
              "\n",
              "    .dataframe thead th {\n",
              "        text-align: right;\n",
              "    }\n",
              "</style>\n",
              "<table border=\"1\" class=\"dataframe\">\n",
              "  <thead>\n",
              "    <tr style=\"text-align: right;\">\n",
              "      <th></th>\n",
              "      <th>80052</th>\n",
              "    </tr>\n",
              "  </thead>\n",
              "  <tbody>\n",
              "    <tr>\n",
              "      <th>1</th>\n",
              "      <td>38.4</td>\n",
              "    </tr>\n",
              "    <tr>\n",
              "      <th>2</th>\n",
              "      <td>2.6</td>\n",
              "    </tr>\n",
              "    <tr>\n",
              "      <th>3</th>\n",
              "      <td>1.4</td>\n",
              "    </tr>\n",
              "    <tr>\n",
              "      <th>4</th>\n",
              "      <td>0.9</td>\n",
              "    </tr>\n",
              "    <tr>\n",
              "      <th>5</th>\n",
              "      <td>2.1</td>\n",
              "    </tr>\n",
              "    <tr>\n",
              "      <th>6</th>\n",
              "      <td>4.1</td>\n",
              "    </tr>\n",
              "    <tr>\n",
              "      <th>7</th>\n",
              "      <td>5.8</td>\n",
              "    </tr>\n",
              "    <tr>\n",
              "      <th>8</th>\n",
              "      <td>5.5</td>\n",
              "    </tr>\n",
              "    <tr>\n",
              "      <th>9</th>\n",
              "      <td>5.5</td>\n",
              "    </tr>\n",
              "    <tr>\n",
              "      <th>10</th>\n",
              "      <td>33.7</td>\n",
              "    </tr>\n",
              "  </tbody>\n",
              "</table>\n",
              "</div>"
            ],
            "text/plain": [
              "    80052\n",
              "1    38.4\n",
              "2     2.6\n",
              "3     1.4\n",
              "4     0.9\n",
              "5     2.1\n",
              "6     4.1\n",
              "7     5.8\n",
              "8     5.5\n",
              "9     5.5\n",
              "10   33.7"
            ]
          },
          "metadata": {
            "tags": []
          },
          "execution_count": 86
        }
      ]
    },
    {
      "cell_type": "code",
      "metadata": {
        "id": "VTNLFcDaBZ5m",
        "colab_type": "code",
        "outputId": "d999c7c4-6600-407e-bde5-2fd38ee2662c",
        "colab": {
          "base_uri": "https://localhost:8080/",
          "height": 367
        }
      },
      "source": [
        "import matplotlib.pyplot as plt\n",
        "plt.style.use('fivethirtyeight')\n",
        "\n",
        "data.plot.bar(color='C1', width=0.9, legend=False);\n",
        "plt.text(x=-1.5, y=50, fontsize=16, fontweight=\"bold\",\n",
        "    s =\" An Inconvient Sequel: Truth to Power is divisive\")\n",
        "plt.text(x=-1.5, y=46, fontsize=12,\n",
        "         s = \"IMDB ratings for the fil;m as of Aug. 29\")\n",
        "plt.xlabel(\"Rating\", fontsize=10, fontweight=\"bold\")\n",
        "plt.ylabel(\"Percent of Total Votes\", fontsize=10, fontweight=\"bold\");"
      ],
      "execution_count": 0,
      "outputs": [
        {
          "output_type": "display_data",
          "data": {
            "image/png": "[encoded data removed]",
            "text/plain": [
              "<Figure size 432x288 with 1 Axes>"
            ]
          },
          "metadata": {
            "tags": []
          }
        }
      ]
    },
    {
      "cell_type": "markdown",
      "metadata": {
        "colab_type": "text",
        "id": "NMEswXWh9mqw"
      },
      "source": [
        "# ASSIGNMENT\n",
        "\n",
        "Replicate the lesson code. I recommend that you [do not copy-paste](https://docs.google.com/document/d/1ubOw9B3Hfip27hF2ZFnW3a3z9xAgrUDRReOEo-FHCVs/edit).\n",
        "\n",
        "# STRETCH OPTIONS\n",
        "\n",
        "#### 1) Reproduce another example from [FiveThityEight's shared data repository](https://data.fivethirtyeight.com/).\n",
        "\n",
        "#### 2) Reproduce one of the following using a library other than Seaborn or Matplotlib.\n",
        "\n",
        "For example:\n",
        "- [thanksgiving-2015](https://fivethirtyeight.com/features/heres-what-your-part-of-america-eats-on-thanksgiving/) (try the [`altair`](https://altair-viz.github.io/gallery/index.html#maps) library)\n",
        "- [candy-power-ranking](https://fivethirtyeight.com/features/the-ultimate-halloween-candy-power-ranking/) (try the [`statsmodels`](https://www.statsmodels.org/stable/index.html) library)\n",
        "- or another example of your choice!\n",
        "\n",
        "#### 3) Make more charts!\n",
        "\n",
        "Choose a chart you want to make, from [Visual Vocabulary - Vega Edition](http://ft.com/vocabulary).\n",
        "\n",
        "Find the chart in an example gallery of a Python data visualization library:\n",
        "- [Seaborn](http://seaborn.pydata.org/examples/index.html)\n",
        "- [Altair](https://altair-viz.github.io/gallery/index.html)\n",
        "- [Matplotlib](https://matplotlib.org/gallery.html)\n",
        "- [Pandas](https://pandas.pydata.org/pandas-docs/stable/visualization.html)\n",
        "\n",
        "Reproduce the chart. [Optionally, try the \"Ben Franklin Method.\"](https://docs.google.com/document/d/1ubOw9B3Hfip27hF2ZFnW3a3z9xAgrUDRReOEo-FHCVs/edit) If you want, experiment and make changes.\n",
        "\n",
        "Take notes. Consider sharing your work with your cohort!\n",
        "\n",
        "\n",
        "\n",
        "\n",
        "\n",
        "\n",
        "\n"
      ]
    },
    {
      "cell_type": "markdown",
      "metadata": {
        "id": "TxiDsM75O3ad",
        "colab_type": "text"
      },
      "source": [
        "## Assignment"
      ]
    },
    {
      "cell_type": "code",
      "metadata": {
        "id": "_TE_JhOMOzZy",
        "colab_type": "code",
        "colab": {
          "base_uri": "https://localhost:8080/",
          "height": 355
        },
        "outputId": "789928fe-f9cb-4e0f-fb48-b98f58ae424f"
      },
      "source": [
        "from IPython.display import display, Image\n",
        "\n",
        "url = 'https://fivethirtyeight.com/wp-content/uploads/2017/09/mehtahickey-inconvenient-0830-1.png'\n",
        "example = Image(url=url, width=400)\n",
        "\n",
        "display(example)"
      ],
      "execution_count": 1,
      "outputs": [
        {
          "output_type": "display_data",
          "data": {
            "text/html": [
              "<img src=\"https://fivethirtyeight.com/wp-content/uploads/2017/09/mehtahickey-inconvenient-0830-1.png\" width=\"400\"/>"
            ],
            "text/plain": [
              "<IPython.core.display.Image object>"
            ]
          },
          "metadata": {
            "tags": []
          }
        }
      ]
    },
    {
      "cell_type": "code",
      "metadata": {
        "id": "yvule9m4OzTS",
        "colab_type": "code",
        "colab": {
          "base_uri": "https://localhost:8080/",
          "height": 285
        },
        "outputId": "7772f079-700c-4d0e-b6f7-c0252383361f"
      },
      "source": [
        "%matplotlib inline\n",
        "import matplotlib.pyplot as plt\n",
        "import numpy as np\n",
        "import pandas as pd\n",
        "\n",
        "plt.style.use('fivethirtyeight')\n",
        "\n",
        "fake = pd.Series([38, 3, 2, 1, 2, 4, 6, 5, 5, 33], \n",
        "                 index=range(1,11))\n",
        "\n",
        "fake.plot.bar(color='C1', width=0.9);"
      ],
      "execution_count": 6,
      "outputs": [
        {
          "output_type": "display_data",
          "data": {
            "image/png": "[encoded data removed]",
            "text/plain": [
              "<Figure size 432x288 with 1 Axes>"
            ]
          },
          "metadata": {
            "tags": []
          }
        }
      ]
    },
    {
      "cell_type": "code",
      "metadata": {
        "id": "htaGY-V_OzQ8",
        "colab_type": "code",
        "colab": {
          "base_uri": "https://localhost:8080/",
          "height": 287
        },
        "outputId": "c458b807-22b9-4132-db72-f6a6eb87f18d"
      },
      "source": [
        "fake2 = pd.Series(\n",
        "    [1, 1, 1, 1, 1, 1, 1, 1, 1, 1, 1, 1, 1, 1, 1, 1, 1, 1, 1, 1, 1, 1, 1, 1,1, 1, 1, 1, 1,\n",
        "     2, 2, 2, \n",
        "     3, 3, 3,\n",
        "     4, 4,\n",
        "     5, 5, 5,\n",
        "     6, 6, 6, 6,\n",
        "     7, 7, 7, 7, 7,\n",
        "     8, 8, 8, 8,\n",
        "     9, 9, 9, 9, \n",
        "     10, 10, 10, 10, 10, 10, 10, 10, 10, 10, 10, 10, 10, 10, 10, 10, 10, 10, 10, 10, 10, 10])\n",
        "\n",
        "fake2.value_counts().sort_index().plot.bar(color='C1', width=0.9);"
      ],
      "execution_count": 7,
      "outputs": [
        {
          "output_type": "display_data",
          "data": {
            "image/png": "[encoded data removed]",
            "text/plain": [
              "<Figure size 432x288 with 1 Axes>"
            ]
          },
          "metadata": {
            "tags": []
          }
        }
      ]
    },
    {
      "cell_type": "code",
      "metadata": {
        "id": "gDHBLZRBOzPZ",
        "colab_type": "code",
        "colab": {
          "base_uri": "https://localhost:8080/",
          "height": 355
        },
        "outputId": "4cac8e57-bd55-40bb-bb34-a80c247a0604"
      },
      "source": [
        "display(example)\n"
      ],
      "execution_count": 8,
      "outputs": [
        {
          "output_type": "display_data",
          "data": {
            "text/html": [
              "<img src=\"https://fivethirtyeight.com/wp-content/uploads/2017/09/mehtahickey-inconvenient-0830-1.png\" width=\"400\"/>"
            ],
            "text/plain": [
              "<IPython.core.display.Image object>"
            ]
          },
          "metadata": {
            "tags": []
          }
        }
      ]
    },
    {
      "cell_type": "code",
      "metadata": {
        "id": "gM_tsfl6OzNM",
        "colab_type": "code",
        "colab": {
          "base_uri": "https://localhost:8080/",
          "height": 370
        },
        "outputId": "c3831b0a-6351-41f5-9d82-b19fbc201ab5"
      },
      "source": [
        "import matplotlib.pyplot as plt\n",
        "\n",
        "plt.style.use('fivethirtyeight')\n",
        "fig, ax = plt.subplots(facecolor='white')\n",
        "\n",
        "fake.plot.bar(color='C1', width=0.9)\n",
        "plt.text(x=-1.5, y=50, fontsize=16, fontweight='bold',\n",
        "         s = \"'An Inconvenient Sequel: Truth to Power' is divisive\")\n",
        "plt.text(x=-1.5, y=46, fontsize=12,\n",
        "         s = \"IMDb ratings for the film as of Aug. 29\")\n",
        "plt.yticks([0, 10, 20, 30, 40])\n",
        "plt.xlabel('Rating', fontsize=10, fontweight='bold')\n",
        "plt.ylabel('Percent of Total Votes', fontsize=10, fontweight='bold');"
      ],
      "execution_count": 9,
      "outputs": [
        {
          "output_type": "display_data",
          "data": {
            "image/png": "[encoded data removed]",
            "text/plain": [
              "<Figure size 432x288 with 1 Axes>"
            ]
          },
          "metadata": {
            "tags": []
          }
        }
      ]
    },
    {
      "cell_type": "code",
      "metadata": {
        "id": "SKlHg2jfOzK8",
        "colab_type": "code",
        "colab": {
          "base_uri": "https://localhost:8080/",
          "height": 326
        },
        "outputId": "8006635e-9f50-4129-f9a9-2c2daa183b52"
      },
      "source": [
        "df = pd.read_csv('https://raw.githubusercontent.com/fivethirtyeight/data/master/inconvenient-sequel/ratings.csv')\n",
        "print(df.shape)\n",
        "df.head()"
      ],
      "execution_count": 10,
      "outputs": [
        {
          "output_type": "stream",
          "text": [
            "(80053, 27)\n"
          ],
          "name": "stdout"
        },
        {
          "output_type": "execute_result",
          "data": {
            "text/html": [
              "<div>\n",
              "<style scoped>\n",
              "    .dataframe tbody tr th:only-of-type {\n",
              "        vertical-align: middle;\n",
              "    }\n",
              "\n",
              "    .dataframe tbody tr th {\n",
              "        vertical-align: top;\n",
              "    }\n",
              "\n",
              "    .dataframe thead th {\n",
              "        text-align: right;\n",
              "    }\n",
              "</style>\n",
              "<table border=\"1\" class=\"dataframe\">\n",
              "  <thead>\n",
              "    <tr style=\"text-align: right;\">\n",
              "      <th></th>\n",
              "      <th>timestamp</th>\n",
              "      <th>respondents</th>\n",
              "      <th>category</th>\n",
              "      <th>link</th>\n",
              "      <th>average</th>\n",
              "      <th>mean</th>\n",
              "      <th>median</th>\n",
              "      <th>1_votes</th>\n",
              "      <th>2_votes</th>\n",
              "      <th>3_votes</th>\n",
              "      <th>4_votes</th>\n",
              "      <th>5_votes</th>\n",
              "      <th>6_votes</th>\n",
              "      <th>7_votes</th>\n",
              "      <th>8_votes</th>\n",
              "      <th>9_votes</th>\n",
              "      <th>10_votes</th>\n",
              "      <th>1_pct</th>\n",
              "      <th>2_pct</th>\n",
              "      <th>3_pct</th>\n",
              "      <th>4_pct</th>\n",
              "      <th>5_pct</th>\n",
              "      <th>6_pct</th>\n",
              "      <th>7_pct</th>\n",
              "      <th>8_pct</th>\n",
              "      <th>9_pct</th>\n",
              "      <th>10_pct</th>\n",
              "    </tr>\n",
              "  </thead>\n",
              "  <tbody>\n",
              "    <tr>\n",
              "      <th>0</th>\n",
              "      <td>2017-07-17 12:28:32.785639</td>\n",
              "      <td>402</td>\n",
              "      <td>Males</td>\n",
              "      <td>http://www.imdb.com/title/tt6322922/ratings-male</td>\n",
              "      <td>4.6</td>\n",
              "      <td>5.0</td>\n",
              "      <td>2</td>\n",
              "      <td>197</td>\n",
              "      <td>7</td>\n",
              "      <td>7</td>\n",
              "      <td>3</td>\n",
              "      <td>7</td>\n",
              "      <td>7</td>\n",
              "      <td>11</td>\n",
              "      <td>8</td>\n",
              "      <td>20</td>\n",
              "      <td>135</td>\n",
              "      <td>49.0</td>\n",
              "      <td>1.7</td>\n",
              "      <td>1.7</td>\n",
              "      <td>0.7</td>\n",
              "      <td>1.7</td>\n",
              "      <td>1.7</td>\n",
              "      <td>2.7</td>\n",
              "      <td>2.0</td>\n",
              "      <td>5.0</td>\n",
              "      <td>33.6</td>\n",
              "    </tr>\n",
              "    <tr>\n",
              "      <th>1</th>\n",
              "      <td>2017-07-17 12:28:33.025600</td>\n",
              "      <td>78</td>\n",
              "      <td>Females</td>\n",
              "      <td>http://www.imdb.com/title/tt6322922/ratings-fe...</td>\n",
              "      <td>6.9</td>\n",
              "      <td>7.7</td>\n",
              "      <td>10</td>\n",
              "      <td>16</td>\n",
              "      <td>1</td>\n",
              "      <td>0</td>\n",
              "      <td>1</td>\n",
              "      <td>1</td>\n",
              "      <td>0</td>\n",
              "      <td>3</td>\n",
              "      <td>4</td>\n",
              "      <td>3</td>\n",
              "      <td>49</td>\n",
              "      <td>20.5</td>\n",
              "      <td>1.3</td>\n",
              "      <td>0.0</td>\n",
              "      <td>1.3</td>\n",
              "      <td>1.3</td>\n",
              "      <td>0.0</td>\n",
              "      <td>3.8</td>\n",
              "      <td>5.1</td>\n",
              "      <td>3.8</td>\n",
              "      <td>62.8</td>\n",
              "    </tr>\n",
              "    <tr>\n",
              "      <th>2</th>\n",
              "      <td>2017-07-17 12:28:33.273919</td>\n",
              "      <td>4</td>\n",
              "      <td>Aged under 18</td>\n",
              "      <td>http://www.imdb.com/title/tt6322922/ratings-age_1</td>\n",
              "      <td>4.2</td>\n",
              "      <td>4.2</td>\n",
              "      <td>3</td>\n",
              "      <td>2</td>\n",
              "      <td>0</td>\n",
              "      <td>0</td>\n",
              "      <td>0</td>\n",
              "      <td>1</td>\n",
              "      <td>0</td>\n",
              "      <td>0</td>\n",
              "      <td>0</td>\n",
              "      <td>0</td>\n",
              "      <td>1</td>\n",
              "      <td>50.0</td>\n",
              "      <td>0.0</td>\n",
              "      <td>0.0</td>\n",
              "      <td>0.0</td>\n",
              "      <td>25.0</td>\n",
              "      <td>0.0</td>\n",
              "      <td>0.0</td>\n",
              "      <td>0.0</td>\n",
              "      <td>0.0</td>\n",
              "      <td>25.0</td>\n",
              "    </tr>\n",
              "    <tr>\n",
              "      <th>3</th>\n",
              "      <td>2017-07-17 12:28:33.495325</td>\n",
              "      <td>4</td>\n",
              "      <td>Males under 18</td>\n",
              "      <td>http://www.imdb.com/title/tt6322922/ratings-ma...</td>\n",
              "      <td>4.2</td>\n",
              "      <td>4.2</td>\n",
              "      <td>3</td>\n",
              "      <td>2</td>\n",
              "      <td>0</td>\n",
              "      <td>0</td>\n",
              "      <td>0</td>\n",
              "      <td>1</td>\n",
              "      <td>0</td>\n",
              "      <td>0</td>\n",
              "      <td>0</td>\n",
              "      <td>0</td>\n",
              "      <td>1</td>\n",
              "      <td>50.0</td>\n",
              "      <td>0.0</td>\n",
              "      <td>0.0</td>\n",
              "      <td>0.0</td>\n",
              "      <td>25.0</td>\n",
              "      <td>0.0</td>\n",
              "      <td>0.0</td>\n",
              "      <td>0.0</td>\n",
              "      <td>0.0</td>\n",
              "      <td>25.0</td>\n",
              "    </tr>\n",
              "    <tr>\n",
              "      <th>4</th>\n",
              "      <td>2017-07-17 12:28:33.722849</td>\n",
              "      <td>130</td>\n",
              "      <td>Aged 18-29</td>\n",
              "      <td>http://www.imdb.com/title/tt6322922/ratings-age_2</td>\n",
              "      <td>6.3</td>\n",
              "      <td>6.5</td>\n",
              "      <td>9</td>\n",
              "      <td>41</td>\n",
              "      <td>0</td>\n",
              "      <td>3</td>\n",
              "      <td>1</td>\n",
              "      <td>2</td>\n",
              "      <td>3</td>\n",
              "      <td>6</td>\n",
              "      <td>4</td>\n",
              "      <td>6</td>\n",
              "      <td>64</td>\n",
              "      <td>31.5</td>\n",
              "      <td>0.0</td>\n",
              "      <td>2.3</td>\n",
              "      <td>0.8</td>\n",
              "      <td>1.5</td>\n",
              "      <td>2.3</td>\n",
              "      <td>4.6</td>\n",
              "      <td>3.1</td>\n",
              "      <td>4.6</td>\n",
              "      <td>49.2</td>\n",
              "    </tr>\n",
              "  </tbody>\n",
              "</table>\n",
              "</div>"
            ],
            "text/plain": [
              "                    timestamp  respondents  ... 9_pct 10_pct\n",
              "0  2017-07-17 12:28:32.785639          402  ...   5.0   33.6\n",
              "1  2017-07-17 12:28:33.025600           78  ...   3.8   62.8\n",
              "2  2017-07-17 12:28:33.273919            4  ...   0.0   25.0\n",
              "3  2017-07-17 12:28:33.495325            4  ...   0.0   25.0\n",
              "4  2017-07-17 12:28:33.722849          130  ...   4.6   49.2\n",
              "\n",
              "[5 rows x 27 columns]"
            ]
          },
          "metadata": {
            "tags": []
          },
          "execution_count": 10
        }
      ]
    },
    {
      "cell_type": "code",
      "metadata": {
        "id": "rPoeWPoKOzIr",
        "colab_type": "code",
        "colab": {
          "base_uri": "https://localhost:8080/",
          "height": 357
        },
        "outputId": "a0be53ea-97f5-4f8e-ce45-8f5ec46270af"
      },
      "source": [
        "df.category.value_counts()"
      ],
      "execution_count": 11,
      "outputs": [
        {
          "output_type": "execute_result",
          "data": {
            "text/plain": [
              "Aged under 18         4216\n",
              "Females Aged 18-29    4216\n",
              "Top 1000 voters       4216\n",
              "US users              4216\n",
              "Females Aged 45+      4216\n",
              "Males                 4216\n",
              "Females               4216\n",
              "Females Aged 30-44    4216\n",
              "IMDb staff            4216\n",
              "Non-US users          4216\n",
              "Males under 18        4216\n",
              "Males Aged 45+        4216\n",
              "Aged 18-29            4216\n",
              "Aged 45+              4216\n",
              "Aged 30-44            4216\n",
              "Males Aged 18-29      4216\n",
              "IMDb users            4216\n",
              "Males Aged 30-44      4216\n",
              "Females under 18      4165\n",
              "Name: category, dtype: int64"
            ]
          },
          "metadata": {
            "tags": []
          },
          "execution_count": 11
        }
      ]
    },
    {
      "cell_type": "code",
      "metadata": {
        "id": "dNaDeJjdOzHN",
        "colab_type": "code",
        "colab": {
          "base_uri": "https://localhost:8080/",
          "height": 493
        },
        "outputId": "b0a0fc9f-51e8-446f-f93f-d430e312e53b"
      },
      "source": [
        "df.dtypes"
      ],
      "execution_count": 12,
      "outputs": [
        {
          "output_type": "execute_result",
          "data": {
            "text/plain": [
              "timestamp       object\n",
              "respondents      int64\n",
              "category        object\n",
              "link            object\n",
              "average        float64\n",
              "mean           float64\n",
              "median           int64\n",
              "1_votes          int64\n",
              "2_votes          int64\n",
              "3_votes          int64\n",
              "4_votes          int64\n",
              "5_votes          int64\n",
              "6_votes          int64\n",
              "7_votes          int64\n",
              "8_votes          int64\n",
              "9_votes          int64\n",
              "10_votes         int64\n",
              "1_pct          float64\n",
              "2_pct          float64\n",
              "3_pct          float64\n",
              "4_pct          float64\n",
              "5_pct          float64\n",
              "6_pct          float64\n",
              "7_pct          float64\n",
              "8_pct          float64\n",
              "9_pct          float64\n",
              "10_pct         float64\n",
              "dtype: object"
            ]
          },
          "metadata": {
            "tags": []
          },
          "execution_count": 12
        }
      ]
    },
    {
      "cell_type": "code",
      "metadata": {
        "id": "r9EGjI8ROzDY",
        "colab_type": "code",
        "colab": {
          "base_uri": "https://localhost:8080/",
          "height": 136
        },
        "outputId": "c56b4cb0-247f-4922-bb10-b5c8b0030454"
      },
      "source": [
        "df['timestamp'] = pd.to_datetime(df['timestamp'])\n",
        "df.timestamp.describe()"
      ],
      "execution_count": 13,
      "outputs": [
        {
          "output_type": "execute_result",
          "data": {
            "text/plain": [
              "count                          80053\n",
              "unique                         80053\n",
              "top       2017-07-24 23:00:02.760781\n",
              "freq                               1\n",
              "first     2017-07-17 12:28:32.785639\n",
              "last      2017-08-29 23:10:06.218251\n",
              "Name: timestamp, dtype: object"
            ]
          },
          "metadata": {
            "tags": []
          },
          "execution_count": 13
        }
      ]
    },
    {
      "cell_type": "code",
      "metadata": {
        "id": "3wKTCm03oEsS",
        "colab_type": "code",
        "colab": {
          "base_uri": "https://localhost:8080/",
          "height": 34
        },
        "outputId": "cb79a2b2-68cb-45e5-a7ea-5752bd9a25eb"
      },
      "source": [
        "df_imdb = df[df.category == 'IMDb users']\n",
        "df_imdb.shape\n"
      ],
      "execution_count": 15,
      "outputs": [
        {
          "output_type": "execute_result",
          "data": {
            "text/plain": [
              "(4216, 27)"
            ]
          },
          "metadata": {
            "tags": []
          },
          "execution_count": 15
        }
      ]
    },
    {
      "cell_type": "code",
      "metadata": {
        "id": "NItM7B-MQik1",
        "colab_type": "code",
        "colab": {
          "base_uri": "https://localhost:8080/",
          "height": 117
        },
        "outputId": "376a637c-9b1b-414e-fa2b-1ddbfeb57652"
      },
      "source": [
        "final = df_imdb.tail(1)\n",
        "final"
      ],
      "execution_count": 16,
      "outputs": [
        {
          "output_type": "execute_result",
          "data": {
            "text/html": [
              "<div>\n",
              "<style scoped>\n",
              "    .dataframe tbody tr th:only-of-type {\n",
              "        vertical-align: middle;\n",
              "    }\n",
              "\n",
              "    .dataframe tbody tr th {\n",
              "        vertical-align: top;\n",
              "    }\n",
              "\n",
              "    .dataframe thead th {\n",
              "        text-align: right;\n",
              "    }\n",
              "</style>\n",
              "<table border=\"1\" class=\"dataframe\">\n",
              "  <thead>\n",
              "    <tr style=\"text-align: right;\">\n",
              "      <th></th>\n",
              "      <th>timestamp</th>\n",
              "      <th>respondents</th>\n",
              "      <th>category</th>\n",
              "      <th>link</th>\n",
              "      <th>average</th>\n",
              "      <th>mean</th>\n",
              "      <th>median</th>\n",
              "      <th>1_votes</th>\n",
              "      <th>2_votes</th>\n",
              "      <th>3_votes</th>\n",
              "      <th>4_votes</th>\n",
              "      <th>5_votes</th>\n",
              "      <th>6_votes</th>\n",
              "      <th>7_votes</th>\n",
              "      <th>8_votes</th>\n",
              "      <th>9_votes</th>\n",
              "      <th>10_votes</th>\n",
              "      <th>1_pct</th>\n",
              "      <th>2_pct</th>\n",
              "      <th>3_pct</th>\n",
              "      <th>4_pct</th>\n",
              "      <th>5_pct</th>\n",
              "      <th>6_pct</th>\n",
              "      <th>7_pct</th>\n",
              "      <th>8_pct</th>\n",
              "      <th>9_pct</th>\n",
              "      <th>10_pct</th>\n",
              "    </tr>\n",
              "  </thead>\n",
              "  <tbody>\n",
              "    <tr>\n",
              "      <th>80052</th>\n",
              "      <td>2017-08-29 23:10:06.218251</td>\n",
              "      <td>2662</td>\n",
              "      <td>IMDb users</td>\n",
              "      <td>http://www.imdb.com/title/tt6322922/ratings</td>\n",
              "      <td>5.4</td>\n",
              "      <td>5.6</td>\n",
              "      <td>7</td>\n",
              "      <td>1021</td>\n",
              "      <td>69</td>\n",
              "      <td>38</td>\n",
              "      <td>25</td>\n",
              "      <td>55</td>\n",
              "      <td>110</td>\n",
              "      <td>154</td>\n",
              "      <td>147</td>\n",
              "      <td>146</td>\n",
              "      <td>897</td>\n",
              "      <td>38.4</td>\n",
              "      <td>2.6</td>\n",
              "      <td>1.4</td>\n",
              "      <td>0.9</td>\n",
              "      <td>2.1</td>\n",
              "      <td>4.1</td>\n",
              "      <td>5.8</td>\n",
              "      <td>5.5</td>\n",
              "      <td>5.5</td>\n",
              "      <td>33.7</td>\n",
              "    </tr>\n",
              "  </tbody>\n",
              "</table>\n",
              "</div>"
            ],
            "text/plain": [
              "                       timestamp  respondents    category  ... 8_pct  9_pct  10_pct\n",
              "80052 2017-08-29 23:10:06.218251         2662  IMDb users  ...   5.5    5.5    33.7\n",
              "\n",
              "[1 rows x 27 columns]"
            ]
          },
          "metadata": {
            "tags": []
          },
          "execution_count": 16
        }
      ]
    },
    {
      "cell_type": "code",
      "metadata": {
        "id": "r3e1GjhyQiia",
        "colab_type": "code",
        "colab": {
          "base_uri": "https://localhost:8080/",
          "height": 187
        },
        "outputId": "95fb89ca-edde-4c78-c039-9647b6bd2ffe"
      },
      "source": [
        "#columns = ['{}_pct'.format(i) for i in range(1,11)]\n",
        "columns = [f'{i}_pct' for i in range(1,11)]\n",
        "columns"
      ],
      "execution_count": 17,
      "outputs": [
        {
          "output_type": "execute_result",
          "data": {
            "text/plain": [
              "['1_pct',\n",
              " '2_pct',\n",
              " '3_pct',\n",
              " '4_pct',\n",
              " '5_pct',\n",
              " '6_pct',\n",
              " '7_pct',\n",
              " '8_pct',\n",
              " '9_pct',\n",
              " '10_pct']"
            ]
          },
          "metadata": {
            "tags": []
          },
          "execution_count": 17
        }
      ]
    },
    {
      "cell_type": "code",
      "metadata": {
        "id": "-iLJs8a9Qif2",
        "colab_type": "code",
        "colab": {
          "base_uri": "https://localhost:8080/",
          "height": 359
        },
        "outputId": "0b495f1c-e2d9-4527-e285-ccc815eb4ae3"
      },
      "source": [
        "data = final[columns]\n",
        "data = data.T\n",
        "data.index = range(1,11)\n",
        "data"
      ],
      "execution_count": 18,
      "outputs": [
        {
          "output_type": "execute_result",
          "data": {
            "text/html": [
              "<div>\n",
              "<style scoped>\n",
              "    .dataframe tbody tr th:only-of-type {\n",
              "        vertical-align: middle;\n",
              "    }\n",
              "\n",
              "    .dataframe tbody tr th {\n",
              "        vertical-align: top;\n",
              "    }\n",
              "\n",
              "    .dataframe thead th {\n",
              "        text-align: right;\n",
              "    }\n",
              "</style>\n",
              "<table border=\"1\" class=\"dataframe\">\n",
              "  <thead>\n",
              "    <tr style=\"text-align: right;\">\n",
              "      <th></th>\n",
              "      <th>80052</th>\n",
              "    </tr>\n",
              "  </thead>\n",
              "  <tbody>\n",
              "    <tr>\n",
              "      <th>1</th>\n",
              "      <td>38.4</td>\n",
              "    </tr>\n",
              "    <tr>\n",
              "      <th>2</th>\n",
              "      <td>2.6</td>\n",
              "    </tr>\n",
              "    <tr>\n",
              "      <th>3</th>\n",
              "      <td>1.4</td>\n",
              "    </tr>\n",
              "    <tr>\n",
              "      <th>4</th>\n",
              "      <td>0.9</td>\n",
              "    </tr>\n",
              "    <tr>\n",
              "      <th>5</th>\n",
              "      <td>2.1</td>\n",
              "    </tr>\n",
              "    <tr>\n",
              "      <th>6</th>\n",
              "      <td>4.1</td>\n",
              "    </tr>\n",
              "    <tr>\n",
              "      <th>7</th>\n",
              "      <td>5.8</td>\n",
              "    </tr>\n",
              "    <tr>\n",
              "      <th>8</th>\n",
              "      <td>5.5</td>\n",
              "    </tr>\n",
              "    <tr>\n",
              "      <th>9</th>\n",
              "      <td>5.5</td>\n",
              "    </tr>\n",
              "    <tr>\n",
              "      <th>10</th>\n",
              "      <td>33.7</td>\n",
              "    </tr>\n",
              "  </tbody>\n",
              "</table>\n",
              "</div>"
            ],
            "text/plain": [
              "    80052\n",
              "1    38.4\n",
              "2     2.6\n",
              "3     1.4\n",
              "4     0.9\n",
              "5     2.1\n",
              "6     4.1\n",
              "7     5.8\n",
              "8     5.5\n",
              "9     5.5\n",
              "10   33.7"
            ]
          },
          "metadata": {
            "tags": []
          },
          "execution_count": 18
        }
      ]
    },
    {
      "cell_type": "code",
      "metadata": {
        "id": "q0S2A0L3QoG_",
        "colab_type": "code",
        "colab": {
          "base_uri": "https://localhost:8080/",
          "height": 367
        },
        "outputId": "55d2c735-e03c-49bf-980e-6e34c9cdb797"
      },
      "source": [
        "plt.style.use('fivethirtyeight')\n",
        "\n",
        "data.plot.bar(color='C1', width=0.9, legend=False)\n",
        "plt.text(x=-1.5, y=50, fontsize=16, fontweight='bold',\n",
        "         s = \"'An Inconvenient Sequel: Truth to Power' is divisive\")\n",
        "plt.text(x=-1.5, y=46, fontsize=12,\n",
        "         s = \"IMDb ratings for the film as of Aug. 29\")\n",
        "plt.yticks([0, 10, 20, 30, 40])\n",
        "plt.xlabel('Rating', fontsize=10, fontweight='bold')\n",
        "plt.ylabel('Percent of Total Votes', fontsize=10, fontweight='bold');"
      ],
      "execution_count": 19,
      "outputs": [
        {
          "output_type": "display_data",
          "data": {
            "image/png": "[encoded data removed]",
            "text/plain": [
              "<Figure size 432x288 with 1 Axes>"
            ]
          },
          "metadata": {
            "tags": []
          }
        }
      ]
    },
    {
      "cell_type": "code",
      "metadata": {
        "id": "Fz8OmNQpQrZK",
        "colab_type": "code",
        "colab": {
          "base_uri": "https://localhost:8080/",
          "height": 204
        },
        "outputId": "5e9d2a82-8e82-46b8-e46b-a01406a732e1"
      },
      "source": [
        "import altair as alt\n",
        "from vega_datasets import data\n",
        "\n",
        "source = data.cars()\n",
        "source.head()"
      ],
      "execution_count": 20,
      "outputs": [
        {
          "output_type": "execute_result",
          "data": {
            "text/html": [
              "<div>\n",
              "<style scoped>\n",
              "    .dataframe tbody tr th:only-of-type {\n",
              "        vertical-align: middle;\n",
              "    }\n",
              "\n",
              "    .dataframe tbody tr th {\n",
              "        vertical-align: top;\n",
              "    }\n",
              "\n",
              "    .dataframe thead th {\n",
              "        text-align: right;\n",
              "    }\n",
              "</style>\n",
              "<table border=\"1\" class=\"dataframe\">\n",
              "  <thead>\n",
              "    <tr style=\"text-align: right;\">\n",
              "      <th></th>\n",
              "      <th>Acceleration</th>\n",
              "      <th>Cylinders</th>\n",
              "      <th>Displacement</th>\n",
              "      <th>Horsepower</th>\n",
              "      <th>Miles_per_Gallon</th>\n",
              "      <th>Name</th>\n",
              "      <th>Origin</th>\n",
              "      <th>Weight_in_lbs</th>\n",
              "      <th>Year</th>\n",
              "    </tr>\n",
              "  </thead>\n",
              "  <tbody>\n",
              "    <tr>\n",
              "      <th>0</th>\n",
              "      <td>12.0</td>\n",
              "      <td>8</td>\n",
              "      <td>307.0</td>\n",
              "      <td>130.0</td>\n",
              "      <td>18.0</td>\n",
              "      <td>chevrolet chevelle malibu</td>\n",
              "      <td>USA</td>\n",
              "      <td>3504</td>\n",
              "      <td>1970-01-01</td>\n",
              "    </tr>\n",
              "    <tr>\n",
              "      <th>1</th>\n",
              "      <td>11.5</td>\n",
              "      <td>8</td>\n",
              "      <td>350.0</td>\n",
              "      <td>165.0</td>\n",
              "      <td>15.0</td>\n",
              "      <td>buick skylark 320</td>\n",
              "      <td>USA</td>\n",
              "      <td>3693</td>\n",
              "      <td>1970-01-01</td>\n",
              "    </tr>\n",
              "    <tr>\n",
              "      <th>2</th>\n",
              "      <td>11.0</td>\n",
              "      <td>8</td>\n",
              "      <td>318.0</td>\n",
              "      <td>150.0</td>\n",
              "      <td>18.0</td>\n",
              "      <td>plymouth satellite</td>\n",
              "      <td>USA</td>\n",
              "      <td>3436</td>\n",
              "      <td>1970-01-01</td>\n",
              "    </tr>\n",
              "    <tr>\n",
              "      <th>3</th>\n",
              "      <td>12.0</td>\n",
              "      <td>8</td>\n",
              "      <td>304.0</td>\n",
              "      <td>150.0</td>\n",
              "      <td>16.0</td>\n",
              "      <td>amc rebel sst</td>\n",
              "      <td>USA</td>\n",
              "      <td>3433</td>\n",
              "      <td>1970-01-01</td>\n",
              "    </tr>\n",
              "    <tr>\n",
              "      <th>4</th>\n",
              "      <td>10.5</td>\n",
              "      <td>8</td>\n",
              "      <td>302.0</td>\n",
              "      <td>140.0</td>\n",
              "      <td>17.0</td>\n",
              "      <td>ford torino</td>\n",
              "      <td>USA</td>\n",
              "      <td>3449</td>\n",
              "      <td>1970-01-01</td>\n",
              "    </tr>\n",
              "  </tbody>\n",
              "</table>\n",
              "</div>"
            ],
            "text/plain": [
              "   Acceleration  Cylinders  Displacement  ...  Origin  Weight_in_lbs       Year\n",
              "0          12.0          8         307.0  ...     USA           3504 1970-01-01\n",
              "1          11.5          8         350.0  ...     USA           3693 1970-01-01\n",
              "2          11.0          8         318.0  ...     USA           3436 1970-01-01\n",
              "3          12.0          8         304.0  ...     USA           3433 1970-01-01\n",
              "4          10.5          8         302.0  ...     USA           3449 1970-01-01\n",
              "\n",
              "[5 rows x 9 columns]"
            ]
          },
          "metadata": {
            "tags": []
          },
          "execution_count": 20
        }
      ]
    },
    {
      "cell_type": "code",
      "metadata": {
        "id": "KaoJw9o8QrQO",
        "colab_type": "code",
        "colab": {
          "base_uri": "https://localhost:8080/",
          "height": 440
        },
        "outputId": "446f4e9d-73a8-4341-e39e-f858d7f83afb"
      },
      "source": [
        "brush = alt.selection(type='interval', resolve='global')\n",
        "\n",
        "base = alt.Chart(source).mark_point().encode(\n",
        "    y='Miles_per_Gallon',\n",
        "    color=alt.condition(brush, 'Origin', alt.ColorValue('gray')),\n",
        "    tooltip=['Name','Origin','Weight_in_lbs'],\n",
        ").add_selection(\n",
        "    brush\n",
        ").properties(\n",
        "    width=350,\n",
        "    height=350\n",
        ")\n",
        "\n",
        "base.encode(x='Horsepower') | base.encode(x='Acceleration') | base.encode(x='Weight_in_lbs')"
      ],
      "execution_count": 21,
      "outputs": [
        {
          "output_type": "execute_result",
          "data": {
            "text/plain": [
              "HConcatChart({\n",
              "  data:      Acceleration  Cylinders  Displacement  ...  Origin  Weight_in_lbs       Year\n",
              "  0            12.0          8         307.0  ...     USA           3504 1970-01-01\n",
              "  1            11.5          8         350.0  ...     USA           3693 1970-01-01\n",
              "  2            11.0          8         318.0  ...     USA           3436 1970-01-01\n",
              "  3            12.0          8         304.0  ...     USA           3433 1970-01-01\n",
              "  4            10.5          8         302.0  ...     USA           3449 1970-01-01\n",
              "  5            10.0          8         429.0  ...     USA           4341 1970-01-01\n",
              "  6             9.0          8         454.0  ...     USA           4354 1970-01-01\n",
              "  7             8.5          8         440.0  ...     USA           4312 1970-01-01\n",
              "  8            10.0          8         455.0  ...     USA           4425 1970-01-01\n",
              "  9             8.5          8         390.0  ...     USA           3850 1970-01-01\n",
              "  10           17.5          4         133.0  ...  Europe           3090 1970-01-01\n",
              "  11           11.5          8         350.0  ...     USA           4142 1970-01-01\n",
              "  12           11.0          8         351.0  ...     USA           4034 1970-01-01\n",
              "  13           10.5          8         383.0  ...     USA           4166 1970-01-01\n",
              "  14           11.0          8         360.0  ...     USA           3850 1970-01-01\n",
              "  15           10.0          8         383.0  ...     USA           3563 1970-01-01\n",
              "  16            8.0          8         340.0  ...     USA           3609 1970-01-01\n",
              "  17            8.0          8         302.0  ...     USA           3353 1970-01-01\n",
              "  18            9.5          8         400.0  ...     USA           3761 1970-01-01\n",
              "  19           10.0          8         455.0  ...     USA           3086 1970-01-01\n",
              "  20           15.0          4         113.0  ...   Japan           2372 1970-01-01\n",
              "  21           15.5          6         198.0  ...     USA           2833 1970-01-01\n",
              "  22           15.5          6         199.0  ...     USA           2774 1970-01-01\n",
              "  23           16.0          6         200.0  ...     USA           2587 1970-01-01\n",
              "  24           14.5          4          97.0  ...   Japan           2130 1970-01-01\n",
              "  25           20.5          4          97.0  ...  Europe           1835 1970-01-01\n",
              "  26           17.5          4         110.0  ...  Europe           2672 1970-01-01\n",
              "  27           14.5          4         107.0  ...  Europe           2430 1970-01-01\n",
              "  28           17.5          4         104.0  ...  Europe           2375 1970-01-01\n",
              "  29           12.5          4         121.0  ...  Europe           2234 1970-01-01\n",
              "  ..            ...        ...           ...  ...     ...            ...        ...\n",
              "  376          18.6          4         112.0  ...     USA           2640 1982-01-01\n",
              "  377          18.0          4         112.0  ...     USA           2395 1982-01-01\n",
              "  378          16.2          4         112.0  ...     USA           2575 1982-01-01\n",
              "  379          16.0          4         135.0  ...     USA           2525 1982-01-01\n",
              "  380          18.0          4         151.0  ...     USA           2735 1982-01-01\n",
              "  381          16.4          4         140.0  ...     USA           2865 1982-01-01\n",
              "  382          20.5          4         151.0  ...     USA           3035 1982-01-01\n",
              "  383          15.3          4         105.0  ...  Europe           1980 1982-01-01\n",
              "  384          18.2          4          91.0  ...   Japan           2025 1982-01-01\n",
              "  385          17.6          4          91.0  ...   Japan           1970 1982-01-01\n",
              "  386          14.7          4         105.0  ...     USA           2125 1982-01-01\n",
              "  387          17.3          4          98.0  ...     USA           2125 1982-01-01\n",
              "  388          14.5          4         120.0  ...   Japan           2160 1982-01-01\n",
              "  389          14.5          4         107.0  ...   Japan           2205 1982-01-01\n",
              "  390          16.9          4         108.0  ...   Japan           2245 1982-01-01\n",
              "  391          15.0          4          91.0  ...   Japan           1965 1982-01-01\n",
              "  392          15.7          4          91.0  ...   Japan           1965 1982-01-01\n",
              "  393          16.2          4          91.0  ...   Japan           1995 1982-01-01\n",
              "  394          16.4          6         181.0  ...     USA           2945 1982-01-01\n",
              "  395          17.0          6         262.0  ...     USA           3015 1982-01-01\n",
              "  396          14.5          4         156.0  ...     USA           2585 1982-01-01\n",
              "  397          14.7          6         232.0  ...     USA           2835 1982-01-01\n",
              "  398          13.9          4         144.0  ...   Japan           2665 1982-01-01\n",
              "  399          13.0          4         135.0  ...     USA           2370 1982-01-01\n",
              "  400          17.3          4         151.0  ...     USA           2950 1982-01-01\n",
              "  401          15.6          4         140.0  ...     USA           2790 1982-01-01\n",
              "  402          24.6          4          97.0  ...  Europe           2130 1982-01-01\n",
              "  403          11.6          4         135.0  ...     USA           2295 1982-01-01\n",
              "  404          18.6          4         120.0  ...     USA           2625 1982-01-01\n",
              "  405          19.4          4         119.0  ...     USA           2720 1982-01-01\n",
              "  \n",
              "  [406 rows x 9 columns],\n",
              "  hconcat: [Chart({\n",
              "    encoding: FacetedEncoding({\n",
              "      color: ColorValue({\n",
              "        condition: Color({\n",
              "          field: 'Origin',\n",
              "          selection: 'selector001',\n",
              "          type: 'nominal'\n",
              "        }),\n",
              "        value: 'gray'\n",
              "      }),\n",
              "      tooltip: [Tooltip({\n",
              "        field: 'Name',\n",
              "        type: 'nominal'\n",
              "      }), Tooltip({\n",
              "        field: 'Origin',\n",
              "        type: 'nominal'\n",
              "      }), Tooltip({\n",
              "        field: 'Weight_in_lbs',\n",
              "        type: 'quantitative'\n",
              "      })],\n",
              "      x: X({\n",
              "        field: 'Horsepower',\n",
              "        type: 'quantitative'\n",
              "      }),\n",
              "      y: Y({\n",
              "        field: 'Miles_per_Gallon',\n",
              "        type: 'quantitative'\n",
              "      })\n",
              "    }),\n",
              "    height: 350,\n",
              "    mark: 'point',\n",
              "    selection: {'selector001': SelectionDef({\n",
              "      resolve: 'global',\n",
              "      type: 'interval'\n",
              "    })},\n",
              "    width: 350\n",
              "  }), Chart({\n",
              "    encoding: FacetedEncoding({\n",
              "      color: ColorValue({\n",
              "        condition: Color({\n",
              "          field: 'Origin',\n",
              "          selection: 'selector001',\n",
              "          type: 'nominal'\n",
              "        }),\n",
              "        value: 'gray'\n",
              "      }),\n",
              "      tooltip: [Tooltip({\n",
              "        field: 'Name',\n",
              "        type: 'nominal'\n",
              "      }), Tooltip({\n",
              "        field: 'Origin',\n",
              "        type: 'nominal'\n",
              "      }), Tooltip({\n",
              "        field: 'Weight_in_lbs',\n",
              "        type: 'quantitative'\n",
              "      })],\n",
              "      x: X({\n",
              "        field: 'Acceleration',\n",
              "        type: 'quantitative'\n",
              "      }),\n",
              "      y: Y({\n",
              "        field: 'Miles_per_Gallon',\n",
              "        type: 'quantitative'\n",
              "      })\n",
              "    }),\n",
              "    height: 350,\n",
              "    mark: 'point',\n",
              "    selection: {'selector001': SelectionDef({\n",
              "      resolve: 'global',\n",
              "      type: 'interval'\n",
              "    })},\n",
              "    width: 350\n",
              "  }), Chart({\n",
              "    encoding: FacetedEncoding({\n",
              "      color: ColorValue({\n",
              "        condition: Color({\n",
              "          field: 'Origin',\n",
              "          selection: 'selector001',\n",
              "          type: 'nominal'\n",
              "        }),\n",
              "        value: 'gray'\n",
              "      }),\n",
              "      tooltip: [Tooltip({\n",
              "        field: 'Name',\n",
              "        type: 'nominal'\n",
              "      }), Tooltip({\n",
              "        field: 'Origin',\n",
              "        type: 'nominal'\n",
              "      }), Tooltip({\n",
              "        field: 'Weight_in_lbs',\n",
              "        type: 'quantitative'\n",
              "      })],\n",
              "      x: X({\n",
              "        field: 'Weight_in_lbs',\n",
              "        type: 'quantitative'\n",
              "      }),\n",
              "      y: Y({\n",
              "        field: 'Miles_per_Gallon',\n",
              "        type: 'quantitative'\n",
              "      })\n",
              "    }),\n",
              "    height: 350,\n",
              "    mark: 'point',\n",
              "    selection: {'selector001': SelectionDef({\n",
              "      resolve: 'global',\n",
              "      type: 'interval'\n",
              "    })},\n",
              "    width: 350\n",
              "  })]\n",
              "})"
            ],
            "text/html": [
              "<!DOCTYPE html>\n",
              "<html>\n",
              "<head>\n",
              "  <style>\n",
              "    .vega-actions a {\n",
              "        margin-right: 12px;\n",
              "        color: #757575;\n",
              "        font-weight: normal;\n",
              "        font-size: 13px;\n",
              "    }\n",
              "    .error {\n",
              "        color: red;\n",
              "    }\n",
              "  </style>\n",
              "  <script type=\"text/javascript\" src=\"https://cdn.jsdelivr.net/npm//vega@5\"></script>\n",
              "  <script type=\"text/javascript\" src=\"https://cdn.jsdelivr.net/npm//vega-lite@3.3.0\"></script>\n",
              "  <script type=\"text/javascript\" src=\"https://cdn.jsdelivr.net/npm//vega-embed@4\"></script>\n",
              "</head>\n",
              "<body>\n",
              "  <div id=\"altair-viz\"></div>\n",
              "  <script>\n",
              "      var spec = {\"config\": {\"view\": {\"width\": 400, \"height\": 300}, \"mark\": {\"tooltip\": null}}, \"hconcat\": [{\"mark\": \"point\", \"encoding\": {\"color\": {\"value\": \"gray\", \"condition\": {\"type\": \"nominal\", \"field\": \"Origin\", \"selection\": \"selector001\"}}, \"tooltip\": [{\"type\": \"nominal\", \"field\": \"Name\"}, {\"type\": \"nominal\", \"field\": \"Origin\"}, {\"type\": \"quantitative\", \"field\": \"Weight_in_lbs\"}], \"x\": {\"type\": \"quantitative\", \"field\": \"Horsepower\"}, \"y\": {\"type\": \"quantitative\", \"field\": \"Miles_per_Gallon\"}}, \"height\": 350, \"selection\": {\"selector001\": {\"type\": \"interval\", \"resolve\": \"global\"}}, \"width\": 350}, {\"mark\": \"point\", \"encoding\": {\"color\": {\"value\": \"gray\", \"condition\": {\"type\": \"nominal\", \"field\": \"Origin\", \"selection\": \"selector001\"}}, \"tooltip\": [{\"type\": \"nominal\", \"field\": \"Name\"}, {\"type\": \"nominal\", \"field\": \"Origin\"}, {\"type\": \"quantitative\", \"field\": \"Weight_in_lbs\"}], \"x\": {\"type\": \"quantitative\", \"field\": \"Acceleration\"}, \"y\": {\"type\": \"quantitative\", \"field\": \"Miles_per_Gallon\"}}, \"height\": 350, \"selection\": {\"selector001\": {\"type\": \"interval\", \"resolve\": \"global\"}}, \"width\": 350}, {\"mark\": \"point\", \"encoding\": {\"color\": {\"value\": \"gray\", \"condition\": {\"type\": \"nominal\", \"field\": \"Origin\", \"selection\": \"selector001\"}}, \"tooltip\": [{\"type\": \"nominal\", \"field\": \"Name\"}, {\"type\": \"nominal\", \"field\": \"Origin\"}, {\"type\": \"quantitative\", \"field\": \"Weight_in_lbs\"}], \"x\": {\"type\": \"quantitative\", \"field\": \"Weight_in_lbs\"}, \"y\": {\"type\": \"quantitative\", \"field\": \"Miles_per_Gallon\"}}, \"height\": 350, \"selection\": {\"selector001\": {\"type\": \"interval\", \"resolve\": \"global\"}}, \"width\": 350}], \"data\": {\"name\": \"data-f02450ab61490a1363517a0190416235\"}, \"$schema\": \"https://vega.github.io/schema/vega-lite/v3.3.0.json\", \"datasets\": {\"data-f02450ab61490a1363517a0190416235\": [{\"Acceleration\": 12.0, \"Cylinders\": 8, \"Displacement\": 307.0, \"Horsepower\": 130.0, \"Miles_per_Gallon\": 18.0, \"Name\": \"chevrolet chevelle malibu\", \"Origin\": \"USA\", \"Weight_in_lbs\": 3504, \"Year\": \"1970-01-01T00:00:00\"}, {\"Acceleration\": 11.5, \"Cylinders\": 8, \"Displacement\": 350.0, \"Horsepower\": 165.0, \"Miles_per_Gallon\": 15.0, \"Name\": \"buick skylark 320\", \"Origin\": \"USA\", \"Weight_in_lbs\": 3693, \"Year\": \"1970-01-01T00:00:00\"}, {\"Acceleration\": 11.0, \"Cylinders\": 8, \"Displacement\": 318.0, \"Horsepower\": 150.0, \"Miles_per_Gallon\": 18.0, \"Name\": \"plymouth satellite\", \"Origin\": \"USA\", \"Weight_in_lbs\": 3436, \"Year\": \"1970-01-01T00:00:00\"}, {\"Acceleration\": 12.0, \"Cylinders\": 8, \"Displacement\": 304.0, \"Horsepower\": 150.0, \"Miles_per_Gallon\": 16.0, \"Name\": \"amc rebel sst\", \"Origin\": \"USA\", \"Weight_in_lbs\": 3433, \"Year\": \"1970-01-01T00:00:00\"}, {\"Acceleration\": 10.5, \"Cylinders\": 8, \"Displacement\": 302.0, \"Horsepower\": 140.0, \"Miles_per_Gallon\": 17.0, \"Name\": \"ford torino\", \"Origin\": \"USA\", \"Weight_in_lbs\": 3449, \"Year\": \"1970-01-01T00:00:00\"}, {\"Acceleration\": 10.0, \"Cylinders\": 8, \"Displacement\": 429.0, \"Horsepower\": 198.0, \"Miles_per_Gallon\": 15.0, \"Name\": \"ford galaxie 500\", \"Origin\": \"USA\", \"Weight_in_lbs\": 4341, \"Year\": \"1970-01-01T00:00:00\"}, {\"Acceleration\": 9.0, \"Cylinders\": 8, \"Displacement\": 454.0, \"Horsepower\": 220.0, \"Miles_per_Gallon\": 14.0, \"Name\": \"chevrolet impala\", \"Origin\": \"USA\", \"Weight_in_lbs\": 4354, \"Year\": \"1970-01-01T00:00:00\"}, {\"Acceleration\": 8.5, \"Cylinders\": 8, \"Displacement\": 440.0, \"Horsepower\": 215.0, \"Miles_per_Gallon\": 14.0, \"Name\": \"plymouth fury iii\", \"Origin\": \"USA\", \"Weight_in_lbs\": 4312, \"Year\": \"1970-01-01T00:00:00\"}, {\"Acceleration\": 10.0, \"Cylinders\": 8, \"Displacement\": 455.0, \"Horsepower\": 225.0, \"Miles_per_Gallon\": 14.0, \"Name\": \"pontiac catalina\", \"Origin\": \"USA\", \"Weight_in_lbs\": 4425, \"Year\": \"1970-01-01T00:00:00\"}, {\"Acceleration\": 8.5, \"Cylinders\": 8, \"Displacement\": 390.0, \"Horsepower\": 190.0, \"Miles_per_Gallon\": 15.0, \"Name\": \"amc ambassador dpl\", \"Origin\": \"USA\", \"Weight_in_lbs\": 3850, \"Year\": \"1970-01-01T00:00:00\"}, {\"Acceleration\": 17.5, \"Cylinders\": 4, \"Displacement\": 133.0, \"Horsepower\": 115.0, \"Miles_per_Gallon\": null, \"Name\": \"citroen ds-21 pallas\", \"Origin\": \"Europe\", \"Weight_in_lbs\": 3090, \"Year\": \"1970-01-01T00:00:00\"}, {\"Acceleration\": 11.5, \"Cylinders\": 8, \"Displacement\": 350.0, \"Horsepower\": 165.0, \"Miles_per_Gallon\": null, \"Name\": \"chevrolet chevelle concours (sw)\", \"Origin\": \"USA\", \"Weight_in_lbs\": 4142, \"Year\": \"1970-01-01T00:00:00\"}, {\"Acceleration\": 11.0, \"Cylinders\": 8, \"Displacement\": 351.0, \"Horsepower\": 153.0, \"Miles_per_Gallon\": null, \"Name\": \"ford torino (sw)\", \"Origin\": \"USA\", \"Weight_in_lbs\": 4034, \"Year\": \"1970-01-01T00:00:00\"}, {\"Acceleration\": 10.5, \"Cylinders\": 8, \"Displacement\": 383.0, \"Horsepower\": 175.0, \"Miles_per_Gallon\": null, \"Name\": \"plymouth satellite (sw)\", \"Origin\": \"USA\", \"Weight_in_lbs\": 4166, \"Year\": \"1970-01-01T00:00:00\"}, {\"Acceleration\": 11.0, \"Cylinders\": 8, \"Displacement\": 360.0, \"Horsepower\": 175.0, \"Miles_per_Gallon\": null, \"Name\": \"amc rebel sst (sw)\", \"Origin\": \"USA\", \"Weight_in_lbs\": 3850, \"Year\": \"1970-01-01T00:00:00\"}, {\"Acceleration\": 10.0, \"Cylinders\": 8, \"Displacement\": 383.0, \"Horsepower\": 170.0, \"Miles_per_Gallon\": 15.0, \"Name\": \"dodge challenger se\", \"Origin\": \"USA\", \"Weight_in_lbs\": 3563, \"Year\": \"1970-01-01T00:00:00\"}, {\"Acceleration\": 8.0, \"Cylinders\": 8, \"Displacement\": 340.0, \"Horsepower\": 160.0, \"Miles_per_Gallon\": 14.0, \"Name\": \"plymouth 'cuda 340\", \"Origin\": \"USA\", \"Weight_in_lbs\": 3609, \"Year\": \"1970-01-01T00:00:00\"}, {\"Acceleration\": 8.0, \"Cylinders\": 8, \"Displacement\": 302.0, \"Horsepower\": 140.0, \"Miles_per_Gallon\": null, \"Name\": \"ford mustang boss 302\", \"Origin\": \"USA\", \"Weight_in_lbs\": 3353, \"Year\": \"1970-01-01T00:00:00\"}, {\"Acceleration\": 9.5, \"Cylinders\": 8, \"Displacement\": 400.0, \"Horsepower\": 150.0, \"Miles_per_Gallon\": 15.0, \"Name\": \"chevrolet monte carlo\", \"Origin\": \"USA\", \"Weight_in_lbs\": 3761, \"Year\": \"1970-01-01T00:00:00\"}, {\"Acceleration\": 10.0, \"Cylinders\": 8, \"Displacement\": 455.0, \"Horsepower\": 225.0, \"Miles_per_Gallon\": 14.0, \"Name\": \"buick estate wagon (sw)\", \"Origin\": \"USA\", \"Weight_in_lbs\": 3086, \"Year\": \"1970-01-01T00:00:00\"}, {\"Acceleration\": 15.0, \"Cylinders\": 4, \"Displacement\": 113.0, \"Horsepower\": 95.0, \"Miles_per_Gallon\": 24.0, \"Name\": \"toyota corona mark ii\", \"Origin\": \"Japan\", \"Weight_in_lbs\": 2372, \"Year\": \"1970-01-01T00:00:00\"}, {\"Acceleration\": 15.5, \"Cylinders\": 6, \"Displacement\": 198.0, \"Horsepower\": 95.0, \"Miles_per_Gallon\": 22.0, \"Name\": \"plymouth duster\", \"Origin\": \"USA\", \"Weight_in_lbs\": 2833, \"Year\": \"1970-01-01T00:00:00\"}, {\"Acceleration\": 15.5, \"Cylinders\": 6, \"Displacement\": 199.0, \"Horsepower\": 97.0, \"Miles_per_Gallon\": 18.0, \"Name\": \"amc hornet\", \"Origin\": \"USA\", \"Weight_in_lbs\": 2774, \"Year\": \"1970-01-01T00:00:00\"}, {\"Acceleration\": 16.0, \"Cylinders\": 6, \"Displacement\": 200.0, \"Horsepower\": 85.0, \"Miles_per_Gallon\": 21.0, \"Name\": \"ford maverick\", \"Origin\": \"USA\", \"Weight_in_lbs\": 2587, \"Year\": \"1970-01-01T00:00:00\"}, {\"Acceleration\": 14.5, \"Cylinders\": 4, \"Displacement\": 97.0, \"Horsepower\": 88.0, \"Miles_per_Gallon\": 27.0, \"Name\": \"datsun pl510\", \"Origin\": \"Japan\", \"Weight_in_lbs\": 2130, \"Year\": \"1970-01-01T00:00:00\"}, {\"Acceleration\": 20.5, \"Cylinders\": 4, \"Displacement\": 97.0, \"Horsepower\": 46.0, \"Miles_per_Gallon\": 26.0, \"Name\": \"volkswagen 1131 deluxe sedan\", \"Origin\": \"Europe\", \"Weight_in_lbs\": 1835, \"Year\": \"1970-01-01T00:00:00\"}, {\"Acceleration\": 17.5, \"Cylinders\": 4, \"Displacement\": 110.0, \"Horsepower\": 87.0, \"Miles_per_Gallon\": 25.0, \"Name\": \"peugeot 504\", \"Origin\": \"Europe\", \"Weight_in_lbs\": 2672, \"Year\": \"1970-01-01T00:00:00\"}, {\"Acceleration\": 14.5, \"Cylinders\": 4, \"Displacement\": 107.0, \"Horsepower\": 90.0, \"Miles_per_Gallon\": 24.0, \"Name\": \"audi 100 ls\", \"Origin\": \"Europe\", \"Weight_in_lbs\": 2430, \"Year\": \"1970-01-01T00:00:00\"}, {\"Acceleration\": 17.5, \"Cylinders\": 4, \"Displacement\": 104.0, \"Horsepower\": 95.0, \"Miles_per_Gallon\": 25.0, \"Name\": \"saab 99e\", \"Origin\": \"Europe\", \"Weight_in_lbs\": 2375, \"Year\": \"1970-01-01T00:00:00\"}, {\"Acceleration\": 12.5, \"Cylinders\": 4, \"Displacement\": 121.0, \"Horsepower\": 113.0, \"Miles_per_Gallon\": 26.0, \"Name\": \"bmw 2002\", \"Origin\": \"Europe\", \"Weight_in_lbs\": 2234, \"Year\": \"1970-01-01T00:00:00\"}, {\"Acceleration\": 15.0, \"Cylinders\": 6, \"Displacement\": 199.0, \"Horsepower\": 90.0, \"Miles_per_Gallon\": 21.0, \"Name\": \"amc gremlin\", \"Origin\": \"USA\", \"Weight_in_lbs\": 2648, \"Year\": \"1970-01-01T00:00:00\"}, {\"Acceleration\": 14.0, \"Cylinders\": 8, \"Displacement\": 360.0, \"Horsepower\": 215.0, \"Miles_per_Gallon\": 10.0, \"Name\": \"ford f250\", \"Origin\": \"USA\", \"Weight_in_lbs\": 4615, \"Year\": \"1970-01-01T00:00:00\"}, {\"Acceleration\": 15.0, \"Cylinders\": 8, \"Displacement\": 307.0, \"Horsepower\": 200.0, \"Miles_per_Gallon\": 10.0, \"Name\": \"chevy c20\", \"Origin\": \"USA\", \"Weight_in_lbs\": 4376, \"Year\": \"1970-01-01T00:00:00\"}, {\"Acceleration\": 13.5, \"Cylinders\": 8, \"Displacement\": 318.0, \"Horsepower\": 210.0, \"Miles_per_Gallon\": 11.0, \"Name\": \"dodge d200\", \"Origin\": \"USA\", \"Weight_in_lbs\": 4382, \"Year\": \"1970-01-01T00:00:00\"}, {\"Acceleration\": 18.5, \"Cylinders\": 8, \"Displacement\": 304.0, \"Horsepower\": 193.0, \"Miles_per_Gallon\": 9.0, \"Name\": \"hi 1200d\", \"Origin\": \"USA\", \"Weight_in_lbs\": 4732, \"Year\": \"1970-01-01T00:00:00\"}, {\"Acceleration\": 14.5, \"Cylinders\": 4, \"Displacement\": 97.0, \"Horsepower\": 88.0, \"Miles_per_Gallon\": 27.0, \"Name\": \"datsun pl510\", \"Origin\": \"Japan\", \"Weight_in_lbs\": 2130, \"Year\": \"1971-01-01T00:00:00\"}, {\"Acceleration\": 15.5, \"Cylinders\": 4, \"Displacement\": 140.0, \"Horsepower\": 90.0, \"Miles_per_Gallon\": 28.0, \"Name\": \"chevrolet vega 2300\", \"Origin\": \"USA\", \"Weight_in_lbs\": 2264, \"Year\": \"1971-01-01T00:00:00\"}, {\"Acceleration\": 14.0, \"Cylinders\": 4, \"Displacement\": 113.0, \"Horsepower\": 95.0, \"Miles_per_Gallon\": 25.0, \"Name\": \"toyota corona\", \"Origin\": \"Japan\", \"Weight_in_lbs\": 2228, \"Year\": \"1971-01-01T00:00:00\"}, {\"Acceleration\": 19.0, \"Cylinders\": 4, \"Displacement\": 98.0, \"Horsepower\": null, \"Miles_per_Gallon\": 25.0, \"Name\": \"ford pinto\", \"Origin\": \"USA\", \"Weight_in_lbs\": 2046, \"Year\": \"1971-01-01T00:00:00\"}, {\"Acceleration\": 20.0, \"Cylinders\": 4, \"Displacement\": 97.0, \"Horsepower\": 48.0, \"Miles_per_Gallon\": null, \"Name\": \"volkswagen super beetle 117\", \"Origin\": \"Europe\", \"Weight_in_lbs\": 1978, \"Year\": \"1971-01-01T00:00:00\"}, {\"Acceleration\": 13.0, \"Cylinders\": 6, \"Displacement\": 232.0, \"Horsepower\": 100.0, \"Miles_per_Gallon\": 19.0, \"Name\": \"amc gremlin\", \"Origin\": \"USA\", \"Weight_in_lbs\": 2634, \"Year\": \"1971-01-01T00:00:00\"}, {\"Acceleration\": 15.5, \"Cylinders\": 6, \"Displacement\": 225.0, \"Horsepower\": 105.0, \"Miles_per_Gallon\": 16.0, \"Name\": \"plymouth satellite custom\", \"Origin\": \"USA\", \"Weight_in_lbs\": 3439, \"Year\": \"1971-01-01T00:00:00\"}, {\"Acceleration\": 15.5, \"Cylinders\": 6, \"Displacement\": 250.0, \"Horsepower\": 100.0, \"Miles_per_Gallon\": 17.0, \"Name\": \"chevrolet chevelle malibu\", \"Origin\": \"USA\", \"Weight_in_lbs\": 3329, \"Year\": \"1971-01-01T00:00:00\"}, {\"Acceleration\": 15.5, \"Cylinders\": 6, \"Displacement\": 250.0, \"Horsepower\": 88.0, \"Miles_per_Gallon\": 19.0, \"Name\": \"ford torino 500\", \"Origin\": \"USA\", \"Weight_in_lbs\": 3302, \"Year\": \"1971-01-01T00:00:00\"}, {\"Acceleration\": 15.5, \"Cylinders\": 6, \"Displacement\": 232.0, \"Horsepower\": 100.0, \"Miles_per_Gallon\": 18.0, \"Name\": \"amc matador\", \"Origin\": \"USA\", \"Weight_in_lbs\": 3288, \"Year\": \"1971-01-01T00:00:00\"}, {\"Acceleration\": 12.0, \"Cylinders\": 8, \"Displacement\": 350.0, \"Horsepower\": 165.0, \"Miles_per_Gallon\": 14.0, \"Name\": \"chevrolet impala\", \"Origin\": \"USA\", \"Weight_in_lbs\": 4209, \"Year\": \"1971-01-01T00:00:00\"}, {\"Acceleration\": 11.5, \"Cylinders\": 8, \"Displacement\": 400.0, \"Horsepower\": 175.0, \"Miles_per_Gallon\": 14.0, \"Name\": \"pontiac catalina brougham\", \"Origin\": \"USA\", \"Weight_in_lbs\": 4464, \"Year\": \"1971-01-01T00:00:00\"}, {\"Acceleration\": 13.5, \"Cylinders\": 8, \"Displacement\": 351.0, \"Horsepower\": 153.0, \"Miles_per_Gallon\": 14.0, \"Name\": \"ford galaxie 500\", \"Origin\": \"USA\", \"Weight_in_lbs\": 4154, \"Year\": \"1971-01-01T00:00:00\"}, {\"Acceleration\": 13.0, \"Cylinders\": 8, \"Displacement\": 318.0, \"Horsepower\": 150.0, \"Miles_per_Gallon\": 14.0, \"Name\": \"plymouth fury iii\", \"Origin\": \"USA\", \"Weight_in_lbs\": 4096, \"Year\": \"1971-01-01T00:00:00\"}, {\"Acceleration\": 11.5, \"Cylinders\": 8, \"Displacement\": 383.0, \"Horsepower\": 180.0, \"Miles_per_Gallon\": 12.0, \"Name\": \"dodge monaco (sw)\", \"Origin\": \"USA\", \"Weight_in_lbs\": 4955, \"Year\": \"1971-01-01T00:00:00\"}, {\"Acceleration\": 12.0, \"Cylinders\": 8, \"Displacement\": 400.0, \"Horsepower\": 170.0, \"Miles_per_Gallon\": 13.0, \"Name\": \"ford country squire (sw)\", \"Origin\": \"USA\", \"Weight_in_lbs\": 4746, \"Year\": \"1971-01-01T00:00:00\"}, {\"Acceleration\": 12.0, \"Cylinders\": 8, \"Displacement\": 400.0, \"Horsepower\": 175.0, \"Miles_per_Gallon\": 13.0, \"Name\": \"pontiac safari (sw)\", \"Origin\": \"USA\", \"Weight_in_lbs\": 5140, \"Year\": \"1971-01-01T00:00:00\"}, {\"Acceleration\": 13.5, \"Cylinders\": 6, \"Displacement\": 258.0, \"Horsepower\": 110.0, \"Miles_per_Gallon\": 18.0, \"Name\": \"amc hornet sportabout (sw)\", \"Origin\": \"USA\", \"Weight_in_lbs\": 2962, \"Year\": \"1971-01-01T00:00:00\"}, {\"Acceleration\": 19.0, \"Cylinders\": 4, \"Displacement\": 140.0, \"Horsepower\": 72.0, \"Miles_per_Gallon\": 22.0, \"Name\": \"chevrolet vega (sw)\", \"Origin\": \"USA\", \"Weight_in_lbs\": 2408, \"Year\": \"1971-01-01T00:00:00\"}, {\"Acceleration\": 15.0, \"Cylinders\": 6, \"Displacement\": 250.0, \"Horsepower\": 100.0, \"Miles_per_Gallon\": 19.0, \"Name\": \"pontiac firebird\", \"Origin\": \"USA\", \"Weight_in_lbs\": 3282, \"Year\": \"1971-01-01T00:00:00\"}, {\"Acceleration\": 14.5, \"Cylinders\": 6, \"Displacement\": 250.0, \"Horsepower\": 88.0, \"Miles_per_Gallon\": 18.0, \"Name\": \"ford mustang\", \"Origin\": \"USA\", \"Weight_in_lbs\": 3139, \"Year\": \"1971-01-01T00:00:00\"}, {\"Acceleration\": 14.0, \"Cylinders\": 4, \"Displacement\": 122.0, \"Horsepower\": 86.0, \"Miles_per_Gallon\": 23.0, \"Name\": \"mercury capri 2000\", \"Origin\": \"USA\", \"Weight_in_lbs\": 2220, \"Year\": \"1971-01-01T00:00:00\"}, {\"Acceleration\": 14.0, \"Cylinders\": 4, \"Displacement\": 116.0, \"Horsepower\": 90.0, \"Miles_per_Gallon\": 28.0, \"Name\": \"opel 1900\", \"Origin\": \"Europe\", \"Weight_in_lbs\": 2123, \"Year\": \"1971-01-01T00:00:00\"}, {\"Acceleration\": 19.5, \"Cylinders\": 4, \"Displacement\": 79.0, \"Horsepower\": 70.0, \"Miles_per_Gallon\": 30.0, \"Name\": \"peugeot 304\", \"Origin\": \"Europe\", \"Weight_in_lbs\": 2074, \"Year\": \"1971-01-01T00:00:00\"}, {\"Acceleration\": 14.5, \"Cylinders\": 4, \"Displacement\": 88.0, \"Horsepower\": 76.0, \"Miles_per_Gallon\": 30.0, \"Name\": \"fiat 124b\", \"Origin\": \"Europe\", \"Weight_in_lbs\": 2065, \"Year\": \"1971-01-01T00:00:00\"}, {\"Acceleration\": 19.0, \"Cylinders\": 4, \"Displacement\": 71.0, \"Horsepower\": 65.0, \"Miles_per_Gallon\": 31.0, \"Name\": \"toyota corolla 1200\", \"Origin\": \"Japan\", \"Weight_in_lbs\": 1773, \"Year\": \"1971-01-01T00:00:00\"}, {\"Acceleration\": 18.0, \"Cylinders\": 4, \"Displacement\": 72.0, \"Horsepower\": 69.0, \"Miles_per_Gallon\": 35.0, \"Name\": \"datsun 1200\", \"Origin\": \"Japan\", \"Weight_in_lbs\": 1613, \"Year\": \"1971-01-01T00:00:00\"}, {\"Acceleration\": 19.0, \"Cylinders\": 4, \"Displacement\": 97.0, \"Horsepower\": 60.0, \"Miles_per_Gallon\": 27.0, \"Name\": \"volkswagen model 111\", \"Origin\": \"Europe\", \"Weight_in_lbs\": 1834, \"Year\": \"1971-01-01T00:00:00\"}, {\"Acceleration\": 20.5, \"Cylinders\": 4, \"Displacement\": 91.0, \"Horsepower\": 70.0, \"Miles_per_Gallon\": 26.0, \"Name\": \"plymouth cricket\", \"Origin\": \"USA\", \"Weight_in_lbs\": 1955, \"Year\": \"1971-01-01T00:00:00\"}, {\"Acceleration\": 15.5, \"Cylinders\": 4, \"Displacement\": 113.0, \"Horsepower\": 95.0, \"Miles_per_Gallon\": 24.0, \"Name\": \"toyota corona hardtop\", \"Origin\": \"Japan\", \"Weight_in_lbs\": 2278, \"Year\": \"1972-01-01T00:00:00\"}, {\"Acceleration\": 17.0, \"Cylinders\": 4, \"Displacement\": 97.5, \"Horsepower\": 80.0, \"Miles_per_Gallon\": 25.0, \"Name\": \"dodge colt hardtop\", \"Origin\": \"USA\", \"Weight_in_lbs\": 2126, \"Year\": \"1972-01-01T00:00:00\"}, {\"Acceleration\": 23.5, \"Cylinders\": 4, \"Displacement\": 97.0, \"Horsepower\": 54.0, \"Miles_per_Gallon\": 23.0, \"Name\": \"volkswagen type 3\", \"Origin\": \"Europe\", \"Weight_in_lbs\": 2254, \"Year\": \"1972-01-01T00:00:00\"}, {\"Acceleration\": 19.5, \"Cylinders\": 4, \"Displacement\": 140.0, \"Horsepower\": 90.0, \"Miles_per_Gallon\": 20.0, \"Name\": \"chevrolet vega\", \"Origin\": \"USA\", \"Weight_in_lbs\": 2408, \"Year\": \"1972-01-01T00:00:00\"}, {\"Acceleration\": 16.5, \"Cylinders\": 4, \"Displacement\": 122.0, \"Horsepower\": 86.0, \"Miles_per_Gallon\": 21.0, \"Name\": \"ford pinto runabout\", \"Origin\": \"USA\", \"Weight_in_lbs\": 2226, \"Year\": \"1972-01-01T00:00:00\"}, {\"Acceleration\": 12.0, \"Cylinders\": 8, \"Displacement\": 350.0, \"Horsepower\": 165.0, \"Miles_per_Gallon\": 13.0, \"Name\": \"chevrolet impala\", \"Origin\": \"USA\", \"Weight_in_lbs\": 4274, \"Year\": \"1972-01-01T00:00:00\"}, {\"Acceleration\": 12.0, \"Cylinders\": 8, \"Displacement\": 400.0, \"Horsepower\": 175.0, \"Miles_per_Gallon\": 14.0, \"Name\": \"pontiac catalina\", \"Origin\": \"USA\", \"Weight_in_lbs\": 4385, \"Year\": \"1972-01-01T00:00:00\"}, {\"Acceleration\": 13.5, \"Cylinders\": 8, \"Displacement\": 318.0, \"Horsepower\": 150.0, \"Miles_per_Gallon\": 15.0, \"Name\": \"plymouth fury iii\", \"Origin\": \"USA\", \"Weight_in_lbs\": 4135, \"Year\": \"1972-01-01T00:00:00\"}, {\"Acceleration\": 13.0, \"Cylinders\": 8, \"Displacement\": 351.0, \"Horsepower\": 153.0, \"Miles_per_Gallon\": 14.0, \"Name\": \"ford galaxie 500\", \"Origin\": \"USA\", \"Weight_in_lbs\": 4129, \"Year\": \"1972-01-01T00:00:00\"}, {\"Acceleration\": 11.5, \"Cylinders\": 8, \"Displacement\": 304.0, \"Horsepower\": 150.0, \"Miles_per_Gallon\": 17.0, \"Name\": \"amc ambassador sst\", \"Origin\": \"USA\", \"Weight_in_lbs\": 3672, \"Year\": \"1972-01-01T00:00:00\"}, {\"Acceleration\": 11.0, \"Cylinders\": 8, \"Displacement\": 429.0, \"Horsepower\": 208.0, \"Miles_per_Gallon\": 11.0, \"Name\": \"mercury marquis\", \"Origin\": \"USA\", \"Weight_in_lbs\": 4633, \"Year\": \"1972-01-01T00:00:00\"}, {\"Acceleration\": 13.5, \"Cylinders\": 8, \"Displacement\": 350.0, \"Horsepower\": 155.0, \"Miles_per_Gallon\": 13.0, \"Name\": \"buick lesabre custom\", \"Origin\": \"USA\", \"Weight_in_lbs\": 4502, \"Year\": \"1972-01-01T00:00:00\"}, {\"Acceleration\": 13.5, \"Cylinders\": 8, \"Displacement\": 350.0, \"Horsepower\": 160.0, \"Miles_per_Gallon\": 12.0, \"Name\": \"oldsmobile delta 88 royale\", \"Origin\": \"USA\", \"Weight_in_lbs\": 4456, \"Year\": \"1972-01-01T00:00:00\"}, {\"Acceleration\": 12.5, \"Cylinders\": 8, \"Displacement\": 400.0, \"Horsepower\": 190.0, \"Miles_per_Gallon\": 13.0, \"Name\": \"chrysler newport royal\", \"Origin\": \"USA\", \"Weight_in_lbs\": 4422, \"Year\": \"1972-01-01T00:00:00\"}, {\"Acceleration\": 13.5, \"Cylinders\": 3, \"Displacement\": 70.0, \"Horsepower\": 97.0, \"Miles_per_Gallon\": 19.0, \"Name\": \"mazda rx2 coupe\", \"Origin\": \"Japan\", \"Weight_in_lbs\": 2330, \"Year\": \"1972-01-01T00:00:00\"}, {\"Acceleration\": 12.5, \"Cylinders\": 8, \"Displacement\": 304.0, \"Horsepower\": 150.0, \"Miles_per_Gallon\": 15.0, \"Name\": \"amc matador (sw)\", \"Origin\": \"USA\", \"Weight_in_lbs\": 3892, \"Year\": \"1972-01-01T00:00:00\"}, {\"Acceleration\": 14.0, \"Cylinders\": 8, \"Displacement\": 307.0, \"Horsepower\": 130.0, \"Miles_per_Gallon\": 13.0, \"Name\": \"chevrolet chevelle concours (sw)\", \"Origin\": \"USA\", \"Weight_in_lbs\": 4098, \"Year\": \"1972-01-01T00:00:00\"}, {\"Acceleration\": 16.0, \"Cylinders\": 8, \"Displacement\": 302.0, \"Horsepower\": 140.0, \"Miles_per_Gallon\": 13.0, \"Name\": \"ford gran torino (sw)\", \"Origin\": \"USA\", \"Weight_in_lbs\": 4294, \"Year\": \"1972-01-01T00:00:00\"}, {\"Acceleration\": 14.0, \"Cylinders\": 8, \"Displacement\": 318.0, \"Horsepower\": 150.0, \"Miles_per_Gallon\": 14.0, \"Name\": \"plymouth satellite custom (sw)\", \"Origin\": \"USA\", \"Weight_in_lbs\": 4077, \"Year\": \"1972-01-01T00:00:00\"}, {\"Acceleration\": 14.5, \"Cylinders\": 4, \"Displacement\": 121.0, \"Horsepower\": 112.0, \"Miles_per_Gallon\": 18.0, \"Name\": \"volvo 145e (sw)\", \"Origin\": \"Europe\", \"Weight_in_lbs\": 2933, \"Year\": \"1972-01-01T00:00:00\"}, {\"Acceleration\": 18.0, \"Cylinders\": 4, \"Displacement\": 121.0, \"Horsepower\": 76.0, \"Miles_per_Gallon\": 22.0, \"Name\": \"volkswagen 411 (sw)\", \"Origin\": \"Europe\", \"Weight_in_lbs\": 2511, \"Year\": \"1972-01-01T00:00:00\"}, {\"Acceleration\": 19.5, \"Cylinders\": 4, \"Displacement\": 120.0, \"Horsepower\": 87.0, \"Miles_per_Gallon\": 21.0, \"Name\": \"peugeot 504 (sw)\", \"Origin\": \"Europe\", \"Weight_in_lbs\": 2979, \"Year\": \"1972-01-01T00:00:00\"}, {\"Acceleration\": 18.0, \"Cylinders\": 4, \"Displacement\": 96.0, \"Horsepower\": 69.0, \"Miles_per_Gallon\": 26.0, \"Name\": \"renault 12 (sw)\", \"Origin\": \"Europe\", \"Weight_in_lbs\": 2189, \"Year\": \"1972-01-01T00:00:00\"}, {\"Acceleration\": 16.0, \"Cylinders\": 4, \"Displacement\": 122.0, \"Horsepower\": 86.0, \"Miles_per_Gallon\": 22.0, \"Name\": \"ford pinto (sw)\", \"Origin\": \"USA\", \"Weight_in_lbs\": 2395, \"Year\": \"1972-01-01T00:00:00\"}, {\"Acceleration\": 17.0, \"Cylinders\": 4, \"Displacement\": 97.0, \"Horsepower\": 92.0, \"Miles_per_Gallon\": 28.0, \"Name\": \"datsun 510 (sw)\", \"Origin\": \"Japan\", \"Weight_in_lbs\": 2288, \"Year\": \"1972-01-01T00:00:00\"}, {\"Acceleration\": 14.5, \"Cylinders\": 4, \"Displacement\": 120.0, \"Horsepower\": 97.0, \"Miles_per_Gallon\": 23.0, \"Name\": \"toyouta corona mark ii (sw)\", \"Origin\": \"Japan\", \"Weight_in_lbs\": 2506, \"Year\": \"1972-01-01T00:00:00\"}, {\"Acceleration\": 15.0, \"Cylinders\": 4, \"Displacement\": 98.0, \"Horsepower\": 80.0, \"Miles_per_Gallon\": 28.0, \"Name\": \"dodge colt (sw)\", \"Origin\": \"USA\", \"Weight_in_lbs\": 2164, \"Year\": \"1972-01-01T00:00:00\"}, {\"Acceleration\": 16.5, \"Cylinders\": 4, \"Displacement\": 97.0, \"Horsepower\": 88.0, \"Miles_per_Gallon\": 27.0, \"Name\": \"toyota corolla 1600 (sw)\", \"Origin\": \"Japan\", \"Weight_in_lbs\": 2100, \"Year\": \"1972-01-01T00:00:00\"}, {\"Acceleration\": 13.0, \"Cylinders\": 8, \"Displacement\": 350.0, \"Horsepower\": 175.0, \"Miles_per_Gallon\": 13.0, \"Name\": \"buick century 350\", \"Origin\": \"USA\", \"Weight_in_lbs\": 4100, \"Year\": \"1973-01-01T00:00:00\"}, {\"Acceleration\": 11.5, \"Cylinders\": 8, \"Displacement\": 304.0, \"Horsepower\": 150.0, \"Miles_per_Gallon\": 14.0, \"Name\": \"amc matador\", \"Origin\": \"USA\", \"Weight_in_lbs\": 3672, \"Year\": \"1973-01-01T00:00:00\"}, {\"Acceleration\": 13.0, \"Cylinders\": 8, \"Displacement\": 350.0, \"Horsepower\": 145.0, \"Miles_per_Gallon\": 13.0, \"Name\": \"chevrolet malibu\", \"Origin\": \"USA\", \"Weight_in_lbs\": 3988, \"Year\": \"1973-01-01T00:00:00\"}, {\"Acceleration\": 14.5, \"Cylinders\": 8, \"Displacement\": 302.0, \"Horsepower\": 137.0, \"Miles_per_Gallon\": 14.0, \"Name\": \"ford gran torino\", \"Origin\": \"USA\", \"Weight_in_lbs\": 4042, \"Year\": \"1973-01-01T00:00:00\"}, {\"Acceleration\": 12.5, \"Cylinders\": 8, \"Displacement\": 318.0, \"Horsepower\": 150.0, \"Miles_per_Gallon\": 15.0, \"Name\": \"dodge coronet custom\", \"Origin\": \"USA\", \"Weight_in_lbs\": 3777, \"Year\": \"1973-01-01T00:00:00\"}, {\"Acceleration\": 11.5, \"Cylinders\": 8, \"Displacement\": 429.0, \"Horsepower\": 198.0, \"Miles_per_Gallon\": 12.0, \"Name\": \"mercury marquis brougham\", \"Origin\": \"USA\", \"Weight_in_lbs\": 4952, \"Year\": \"1973-01-01T00:00:00\"}, {\"Acceleration\": 12.0, \"Cylinders\": 8, \"Displacement\": 400.0, \"Horsepower\": 150.0, \"Miles_per_Gallon\": 13.0, \"Name\": \"chevrolet caprice classic\", \"Origin\": \"USA\", \"Weight_in_lbs\": 4464, \"Year\": \"1973-01-01T00:00:00\"}, {\"Acceleration\": 13.0, \"Cylinders\": 8, \"Displacement\": 351.0, \"Horsepower\": 158.0, \"Miles_per_Gallon\": 13.0, \"Name\": \"ford ltd\", \"Origin\": \"USA\", \"Weight_in_lbs\": 4363, \"Year\": \"1973-01-01T00:00:00\"}, {\"Acceleration\": 14.5, \"Cylinders\": 8, \"Displacement\": 318.0, \"Horsepower\": 150.0, \"Miles_per_Gallon\": 14.0, \"Name\": \"plymouth fury gran sedan\", \"Origin\": \"USA\", \"Weight_in_lbs\": 4237, \"Year\": \"1973-01-01T00:00:00\"}, {\"Acceleration\": 11.0, \"Cylinders\": 8, \"Displacement\": 440.0, \"Horsepower\": 215.0, \"Miles_per_Gallon\": 13.0, \"Name\": \"chrysler new yorker brougham\", \"Origin\": \"USA\", \"Weight_in_lbs\": 4735, \"Year\": \"1973-01-01T00:00:00\"}, {\"Acceleration\": 11.0, \"Cylinders\": 8, \"Displacement\": 455.0, \"Horsepower\": 225.0, \"Miles_per_Gallon\": 12.0, \"Name\": \"buick electra 225 custom\", \"Origin\": \"USA\", \"Weight_in_lbs\": 4951, \"Year\": \"1973-01-01T00:00:00\"}, {\"Acceleration\": 11.0, \"Cylinders\": 8, \"Displacement\": 360.0, \"Horsepower\": 175.0, \"Miles_per_Gallon\": 13.0, \"Name\": \"amc ambassador brougham\", \"Origin\": \"USA\", \"Weight_in_lbs\": 3821, \"Year\": \"1973-01-01T00:00:00\"}, {\"Acceleration\": 16.5, \"Cylinders\": 6, \"Displacement\": 225.0, \"Horsepower\": 105.0, \"Miles_per_Gallon\": 18.0, \"Name\": \"plymouth valiant\", \"Origin\": \"USA\", \"Weight_in_lbs\": 3121, \"Year\": \"1973-01-01T00:00:00\"}, {\"Acceleration\": 18.0, \"Cylinders\": 6, \"Displacement\": 250.0, \"Horsepower\": 100.0, \"Miles_per_Gallon\": 16.0, \"Name\": \"chevrolet nova custom\", \"Origin\": \"USA\", \"Weight_in_lbs\": 3278, \"Year\": \"1973-01-01T00:00:00\"}, {\"Acceleration\": 16.0, \"Cylinders\": 6, \"Displacement\": 232.0, \"Horsepower\": 100.0, \"Miles_per_Gallon\": 18.0, \"Name\": \"amc hornet\", \"Origin\": \"USA\", \"Weight_in_lbs\": 2945, \"Year\": \"1973-01-01T00:00:00\"}, {\"Acceleration\": 16.5, \"Cylinders\": 6, \"Displacement\": 250.0, \"Horsepower\": 88.0, \"Miles_per_Gallon\": 18.0, \"Name\": \"ford maverick\", \"Origin\": \"USA\", \"Weight_in_lbs\": 3021, \"Year\": \"1973-01-01T00:00:00\"}, {\"Acceleration\": 16.0, \"Cylinders\": 6, \"Displacement\": 198.0, \"Horsepower\": 95.0, \"Miles_per_Gallon\": 23.0, \"Name\": \"plymouth duster\", \"Origin\": \"USA\", \"Weight_in_lbs\": 2904, \"Year\": \"1973-01-01T00:00:00\"}, {\"Acceleration\": 21.0, \"Cylinders\": 4, \"Displacement\": 97.0, \"Horsepower\": 46.0, \"Miles_per_Gallon\": 26.0, \"Name\": \"volkswagen super beetle\", \"Origin\": \"Europe\", \"Weight_in_lbs\": 1950, \"Year\": \"1973-01-01T00:00:00\"}, {\"Acceleration\": 14.0, \"Cylinders\": 8, \"Displacement\": 400.0, \"Horsepower\": 150.0, \"Miles_per_Gallon\": 11.0, \"Name\": \"chevrolet impala\", \"Origin\": \"USA\", \"Weight_in_lbs\": 4997, \"Year\": \"1973-01-01T00:00:00\"}, {\"Acceleration\": 12.5, \"Cylinders\": 8, \"Displacement\": 400.0, \"Horsepower\": 167.0, \"Miles_per_Gallon\": 12.0, \"Name\": \"ford country\", \"Origin\": \"USA\", \"Weight_in_lbs\": 4906, \"Year\": \"1973-01-01T00:00:00\"}, {\"Acceleration\": 13.0, \"Cylinders\": 8, \"Displacement\": 360.0, \"Horsepower\": 170.0, \"Miles_per_Gallon\": 13.0, \"Name\": \"plymouth custom suburb\", \"Origin\": \"USA\", \"Weight_in_lbs\": 4654, \"Year\": \"1973-01-01T00:00:00\"}, {\"Acceleration\": 12.5, \"Cylinders\": 8, \"Displacement\": 350.0, \"Horsepower\": 180.0, \"Miles_per_Gallon\": 12.0, \"Name\": \"oldsmobile vista cruiser\", \"Origin\": \"USA\", \"Weight_in_lbs\": 4499, \"Year\": \"1973-01-01T00:00:00\"}, {\"Acceleration\": 15.0, \"Cylinders\": 6, \"Displacement\": 232.0, \"Horsepower\": 100.0, \"Miles_per_Gallon\": 18.0, \"Name\": \"amc gremlin\", \"Origin\": \"USA\", \"Weight_in_lbs\": 2789, \"Year\": \"1973-01-01T00:00:00\"}, {\"Acceleration\": 19.0, \"Cylinders\": 4, \"Displacement\": 97.0, \"Horsepower\": 88.0, \"Miles_per_Gallon\": 20.0, \"Name\": \"toyota carina\", \"Origin\": \"Japan\", \"Weight_in_lbs\": 2279, \"Year\": \"1973-01-01T00:00:00\"}, {\"Acceleration\": 19.5, \"Cylinders\": 4, \"Displacement\": 140.0, \"Horsepower\": 72.0, \"Miles_per_Gallon\": 21.0, \"Name\": \"chevrolet vega\", \"Origin\": \"USA\", \"Weight_in_lbs\": 2401, \"Year\": \"1973-01-01T00:00:00\"}, {\"Acceleration\": 16.5, \"Cylinders\": 4, \"Displacement\": 108.0, \"Horsepower\": 94.0, \"Miles_per_Gallon\": 22.0, \"Name\": \"datsun 610\", \"Origin\": \"Japan\", \"Weight_in_lbs\": 2379, \"Year\": \"1973-01-01T00:00:00\"}, {\"Acceleration\": 13.5, \"Cylinders\": 3, \"Displacement\": 70.0, \"Horsepower\": 90.0, \"Miles_per_Gallon\": 18.0, \"Name\": \"maxda rx3\", \"Origin\": \"Japan\", \"Weight_in_lbs\": 2124, \"Year\": \"1973-01-01T00:00:00\"}, {\"Acceleration\": 18.5, \"Cylinders\": 4, \"Displacement\": 122.0, \"Horsepower\": 85.0, \"Miles_per_Gallon\": 19.0, \"Name\": \"ford pinto\", \"Origin\": \"USA\", \"Weight_in_lbs\": 2310, \"Year\": \"1973-01-01T00:00:00\"}, {\"Acceleration\": 14.0, \"Cylinders\": 6, \"Displacement\": 155.0, \"Horsepower\": 107.0, \"Miles_per_Gallon\": 21.0, \"Name\": \"mercury capri v6\", \"Origin\": \"USA\", \"Weight_in_lbs\": 2472, \"Year\": \"1973-01-01T00:00:00\"}, {\"Acceleration\": 15.5, \"Cylinders\": 4, \"Displacement\": 98.0, \"Horsepower\": 90.0, \"Miles_per_Gallon\": 26.0, \"Name\": \"fiat 124 sport coupe\", \"Origin\": \"Europe\", \"Weight_in_lbs\": 2265, \"Year\": \"1973-01-01T00:00:00\"}, {\"Acceleration\": 13.0, \"Cylinders\": 8, \"Displacement\": 350.0, \"Horsepower\": 145.0, \"Miles_per_Gallon\": 15.0, \"Name\": \"chevrolet monte carlo s\", \"Origin\": \"USA\", \"Weight_in_lbs\": 4082, \"Year\": \"1973-01-01T00:00:00\"}, {\"Acceleration\": 9.5, \"Cylinders\": 8, \"Displacement\": 400.0, \"Horsepower\": 230.0, \"Miles_per_Gallon\": 16.0, \"Name\": \"pontiac grand prix\", \"Origin\": \"USA\", \"Weight_in_lbs\": 4278, \"Year\": \"1973-01-01T00:00:00\"}, {\"Acceleration\": 19.5, \"Cylinders\": 4, \"Displacement\": 68.0, \"Horsepower\": 49.0, \"Miles_per_Gallon\": 29.0, \"Name\": \"fiat 128\", \"Origin\": \"Europe\", \"Weight_in_lbs\": 1867, \"Year\": \"1973-01-01T00:00:00\"}, {\"Acceleration\": 15.5, \"Cylinders\": 4, \"Displacement\": 116.0, \"Horsepower\": 75.0, \"Miles_per_Gallon\": 24.0, \"Name\": \"opel manta\", \"Origin\": \"Europe\", \"Weight_in_lbs\": 2158, \"Year\": \"1973-01-01T00:00:00\"}, {\"Acceleration\": 14.0, \"Cylinders\": 4, \"Displacement\": 114.0, \"Horsepower\": 91.0, \"Miles_per_Gallon\": 20.0, \"Name\": \"audi 100ls\", \"Origin\": \"Europe\", \"Weight_in_lbs\": 2582, \"Year\": \"1973-01-01T00:00:00\"}, {\"Acceleration\": 15.5, \"Cylinders\": 4, \"Displacement\": 121.0, \"Horsepower\": 112.0, \"Miles_per_Gallon\": 19.0, \"Name\": \"volvo 144ea\", \"Origin\": \"Europe\", \"Weight_in_lbs\": 2868, \"Year\": \"1973-01-01T00:00:00\"}, {\"Acceleration\": 11.0, \"Cylinders\": 8, \"Displacement\": 318.0, \"Horsepower\": 150.0, \"Miles_per_Gallon\": 15.0, \"Name\": \"dodge dart custom\", \"Origin\": \"USA\", \"Weight_in_lbs\": 3399, \"Year\": \"1973-01-01T00:00:00\"}, {\"Acceleration\": 14.0, \"Cylinders\": 4, \"Displacement\": 121.0, \"Horsepower\": 110.0, \"Miles_per_Gallon\": 24.0, \"Name\": \"saab 99le\", \"Origin\": \"Europe\", \"Weight_in_lbs\": 2660, \"Year\": \"1973-01-01T00:00:00\"}, {\"Acceleration\": 13.5, \"Cylinders\": 6, \"Displacement\": 156.0, \"Horsepower\": 122.0, \"Miles_per_Gallon\": 20.0, \"Name\": \"toyota mark ii\", \"Origin\": \"Japan\", \"Weight_in_lbs\": 2807, \"Year\": \"1973-01-01T00:00:00\"}, {\"Acceleration\": 11.0, \"Cylinders\": 8, \"Displacement\": 350.0, \"Horsepower\": 180.0, \"Miles_per_Gallon\": 11.0, \"Name\": \"oldsmobile omega\", \"Origin\": \"USA\", \"Weight_in_lbs\": 3664, \"Year\": \"1973-01-01T00:00:00\"}, {\"Acceleration\": 16.5, \"Cylinders\": 6, \"Displacement\": 198.0, \"Horsepower\": 95.0, \"Miles_per_Gallon\": 20.0, \"Name\": \"plymouth duster\", \"Origin\": \"USA\", \"Weight_in_lbs\": 3102, \"Year\": \"1974-01-01T00:00:00\"}, {\"Acceleration\": 17.0, \"Cylinders\": 6, \"Displacement\": 200.0, \"Horsepower\": null, \"Miles_per_Gallon\": 21.0, \"Name\": \"ford maverick\", \"Origin\": \"USA\", \"Weight_in_lbs\": 2875, \"Year\": \"1974-01-01T00:00:00\"}, {\"Acceleration\": 16.0, \"Cylinders\": 6, \"Displacement\": 232.0, \"Horsepower\": 100.0, \"Miles_per_Gallon\": 19.0, \"Name\": \"amc hornet\", \"Origin\": \"USA\", \"Weight_in_lbs\": 2901, \"Year\": \"1974-01-01T00:00:00\"}, {\"Acceleration\": 17.0, \"Cylinders\": 6, \"Displacement\": 250.0, \"Horsepower\": 100.0, \"Miles_per_Gallon\": 15.0, \"Name\": \"chevrolet nova\", \"Origin\": \"USA\", \"Weight_in_lbs\": 3336, \"Year\": \"1974-01-01T00:00:00\"}, {\"Acceleration\": 19.0, \"Cylinders\": 4, \"Displacement\": 79.0, \"Horsepower\": 67.0, \"Miles_per_Gallon\": 31.0, \"Name\": \"datsun b210\", \"Origin\": \"Japan\", \"Weight_in_lbs\": 1950, \"Year\": \"1974-01-01T00:00:00\"}, {\"Acceleration\": 16.5, \"Cylinders\": 4, \"Displacement\": 122.0, \"Horsepower\": 80.0, \"Miles_per_Gallon\": 26.0, \"Name\": \"ford pinto\", \"Origin\": \"USA\", \"Weight_in_lbs\": 2451, \"Year\": \"1974-01-01T00:00:00\"}, {\"Acceleration\": 21.0, \"Cylinders\": 4, \"Displacement\": 71.0, \"Horsepower\": 65.0, \"Miles_per_Gallon\": 32.0, \"Name\": \"toyota corolla 1200\", \"Origin\": \"Japan\", \"Weight_in_lbs\": 1836, \"Year\": \"1974-01-01T00:00:00\"}, {\"Acceleration\": 17.0, \"Cylinders\": 4, \"Displacement\": 140.0, \"Horsepower\": 75.0, \"Miles_per_Gallon\": 25.0, \"Name\": \"chevrolet vega\", \"Origin\": \"USA\", \"Weight_in_lbs\": 2542, \"Year\": \"1974-01-01T00:00:00\"}, {\"Acceleration\": 17.0, \"Cylinders\": 6, \"Displacement\": 250.0, \"Horsepower\": 100.0, \"Miles_per_Gallon\": 16.0, \"Name\": \"chevrolet chevelle malibu classic\", \"Origin\": \"USA\", \"Weight_in_lbs\": 3781, \"Year\": \"1974-01-01T00:00:00\"}, {\"Acceleration\": 18.0, \"Cylinders\": 6, \"Displacement\": 258.0, \"Horsepower\": 110.0, \"Miles_per_Gallon\": 16.0, \"Name\": \"amc matador\", \"Origin\": \"USA\", \"Weight_in_lbs\": 3632, \"Year\": \"1974-01-01T00:00:00\"}, {\"Acceleration\": 16.5, \"Cylinders\": 6, \"Displacement\": 225.0, \"Horsepower\": 105.0, \"Miles_per_Gallon\": 18.0, \"Name\": \"plymouth satellite sebring\", \"Origin\": \"USA\", \"Weight_in_lbs\": 3613, \"Year\": \"1974-01-01T00:00:00\"}, {\"Acceleration\": 14.0, \"Cylinders\": 8, \"Displacement\": 302.0, \"Horsepower\": 140.0, \"Miles_per_Gallon\": 16.0, \"Name\": \"ford gran torino\", \"Origin\": \"USA\", \"Weight_in_lbs\": 4141, \"Year\": \"1974-01-01T00:00:00\"}, {\"Acceleration\": 14.5, \"Cylinders\": 8, \"Displacement\": 350.0, \"Horsepower\": 150.0, \"Miles_per_Gallon\": 13.0, \"Name\": \"buick century luxus (sw)\", \"Origin\": \"USA\", \"Weight_in_lbs\": 4699, \"Year\": \"1974-01-01T00:00:00\"}, {\"Acceleration\": 13.5, \"Cylinders\": 8, \"Displacement\": 318.0, \"Horsepower\": 150.0, \"Miles_per_Gallon\": 14.0, \"Name\": \"dodge coronet custom (sw)\", \"Origin\": \"USA\", \"Weight_in_lbs\": 4457, \"Year\": \"1974-01-01T00:00:00\"}, {\"Acceleration\": 16.0, \"Cylinders\": 8, \"Displacement\": 302.0, \"Horsepower\": 140.0, \"Miles_per_Gallon\": 14.0, \"Name\": \"ford gran torino (sw)\", \"Origin\": \"USA\", \"Weight_in_lbs\": 4638, \"Year\": \"1974-01-01T00:00:00\"}, {\"Acceleration\": 15.5, \"Cylinders\": 8, \"Displacement\": 304.0, \"Horsepower\": 150.0, \"Miles_per_Gallon\": 14.0, \"Name\": \"amc matador (sw)\", \"Origin\": \"USA\", \"Weight_in_lbs\": 4257, \"Year\": \"1974-01-01T00:00:00\"}, {\"Acceleration\": 16.5, \"Cylinders\": 4, \"Displacement\": 98.0, \"Horsepower\": 83.0, \"Miles_per_Gallon\": 29.0, \"Name\": \"audi fox\", \"Origin\": \"Europe\", \"Weight_in_lbs\": 2219, \"Year\": \"1974-01-01T00:00:00\"}, {\"Acceleration\": 15.5, \"Cylinders\": 4, \"Displacement\": 79.0, \"Horsepower\": 67.0, \"Miles_per_Gallon\": 26.0, \"Name\": \"volkswagen dasher\", \"Origin\": \"Europe\", \"Weight_in_lbs\": 1963, \"Year\": \"1974-01-01T00:00:00\"}, {\"Acceleration\": 14.5, \"Cylinders\": 4, \"Displacement\": 97.0, \"Horsepower\": 78.0, \"Miles_per_Gallon\": 26.0, \"Name\": \"opel manta\", \"Origin\": \"Europe\", \"Weight_in_lbs\": 2300, \"Year\": \"1974-01-01T00:00:00\"}, {\"Acceleration\": 16.5, \"Cylinders\": 4, \"Displacement\": 76.0, \"Horsepower\": 52.0, \"Miles_per_Gallon\": 31.0, \"Name\": \"toyota corona\", \"Origin\": \"Japan\", \"Weight_in_lbs\": 1649, \"Year\": \"1974-01-01T00:00:00\"}, {\"Acceleration\": 19.0, \"Cylinders\": 4, \"Displacement\": 83.0, \"Horsepower\": 61.0, \"Miles_per_Gallon\": 32.0, \"Name\": \"datsun 710\", \"Origin\": \"Japan\", \"Weight_in_lbs\": 2003, \"Year\": \"1974-01-01T00:00:00\"}, {\"Acceleration\": 14.5, \"Cylinders\": 4, \"Displacement\": 90.0, \"Horsepower\": 75.0, \"Miles_per_Gallon\": 28.0, \"Name\": \"dodge colt\", \"Origin\": \"USA\", \"Weight_in_lbs\": 2125, \"Year\": \"1974-01-01T00:00:00\"}, {\"Acceleration\": 15.5, \"Cylinders\": 4, \"Displacement\": 90.0, \"Horsepower\": 75.0, \"Miles_per_Gallon\": 24.0, \"Name\": \"fiat 128\", \"Origin\": \"Europe\", \"Weight_in_lbs\": 2108, \"Year\": \"1974-01-01T00:00:00\"}, {\"Acceleration\": 14.0, \"Cylinders\": 4, \"Displacement\": 116.0, \"Horsepower\": 75.0, \"Miles_per_Gallon\": 26.0, \"Name\": \"fiat 124 tc\", \"Origin\": \"Europe\", \"Weight_in_lbs\": 2246, \"Year\": \"1974-01-01T00:00:00\"}, {\"Acceleration\": 15.0, \"Cylinders\": 4, \"Displacement\": 120.0, \"Horsepower\": 97.0, \"Miles_per_Gallon\": 24.0, \"Name\": \"honda civic\", \"Origin\": \"Japan\", \"Weight_in_lbs\": 2489, \"Year\": \"1974-01-01T00:00:00\"}, {\"Acceleration\": 15.5, \"Cylinders\": 4, \"Displacement\": 108.0, \"Horsepower\": 93.0, \"Miles_per_Gallon\": 26.0, \"Name\": \"subaru\", \"Origin\": \"Japan\", \"Weight_in_lbs\": 2391, \"Year\": \"1974-01-01T00:00:00\"}, {\"Acceleration\": 16.0, \"Cylinders\": 4, \"Displacement\": 79.0, \"Horsepower\": 67.0, \"Miles_per_Gallon\": 31.0, \"Name\": \"fiat x1.9\", \"Origin\": \"Europe\", \"Weight_in_lbs\": 2000, \"Year\": \"1974-01-01T00:00:00\"}, {\"Acceleration\": 16.0, \"Cylinders\": 6, \"Displacement\": 225.0, \"Horsepower\": 95.0, \"Miles_per_Gallon\": 19.0, \"Name\": \"plymouth valiant custom\", \"Origin\": \"USA\", \"Weight_in_lbs\": 3264, \"Year\": \"1975-01-01T00:00:00\"}, {\"Acceleration\": 16.0, \"Cylinders\": 6, \"Displacement\": 250.0, \"Horsepower\": 105.0, \"Miles_per_Gallon\": 18.0, \"Name\": \"chevrolet nova\", \"Origin\": \"USA\", \"Weight_in_lbs\": 3459, \"Year\": \"1975-01-01T00:00:00\"}, {\"Acceleration\": 21.0, \"Cylinders\": 6, \"Displacement\": 250.0, \"Horsepower\": 72.0, \"Miles_per_Gallon\": 15.0, \"Name\": \"mercury monarch\", \"Origin\": \"USA\", \"Weight_in_lbs\": 3432, \"Year\": \"1975-01-01T00:00:00\"}, {\"Acceleration\": 19.5, \"Cylinders\": 6, \"Displacement\": 250.0, \"Horsepower\": 72.0, \"Miles_per_Gallon\": 15.0, \"Name\": \"ford maverick\", \"Origin\": \"USA\", \"Weight_in_lbs\": 3158, \"Year\": \"1975-01-01T00:00:00\"}, {\"Acceleration\": 11.5, \"Cylinders\": 8, \"Displacement\": 400.0, \"Horsepower\": 170.0, \"Miles_per_Gallon\": 16.0, \"Name\": \"pontiac catalina\", \"Origin\": \"USA\", \"Weight_in_lbs\": 4668, \"Year\": \"1975-01-01T00:00:00\"}, {\"Acceleration\": 14.0, \"Cylinders\": 8, \"Displacement\": 350.0, \"Horsepower\": 145.0, \"Miles_per_Gallon\": 15.0, \"Name\": \"chevrolet bel air\", \"Origin\": \"USA\", \"Weight_in_lbs\": 4440, \"Year\": \"1975-01-01T00:00:00\"}, {\"Acceleration\": 14.5, \"Cylinders\": 8, \"Displacement\": 318.0, \"Horsepower\": 150.0, \"Miles_per_Gallon\": 16.0, \"Name\": \"plymouth grand fury\", \"Origin\": \"USA\", \"Weight_in_lbs\": 4498, \"Year\": \"1975-01-01T00:00:00\"}, {\"Acceleration\": 13.5, \"Cylinders\": 8, \"Displacement\": 351.0, \"Horsepower\": 148.0, \"Miles_per_Gallon\": 14.0, \"Name\": \"ford ltd\", \"Origin\": \"USA\", \"Weight_in_lbs\": 4657, \"Year\": \"1975-01-01T00:00:00\"}, {\"Acceleration\": 21.0, \"Cylinders\": 6, \"Displacement\": 231.0, \"Horsepower\": 110.0, \"Miles_per_Gallon\": 17.0, \"Name\": \"buick century\", \"Origin\": \"USA\", \"Weight_in_lbs\": 3907, \"Year\": \"1975-01-01T00:00:00\"}, {\"Acceleration\": 18.5, \"Cylinders\": 6, \"Displacement\": 250.0, \"Horsepower\": 105.0, \"Miles_per_Gallon\": 16.0, \"Name\": \"chevroelt chevelle malibu\", \"Origin\": \"USA\", \"Weight_in_lbs\": 3897, \"Year\": \"1975-01-01T00:00:00\"}, {\"Acceleration\": 19.0, \"Cylinders\": 6, \"Displacement\": 258.0, \"Horsepower\": 110.0, \"Miles_per_Gallon\": 15.0, \"Name\": \"amc matador\", \"Origin\": \"USA\", \"Weight_in_lbs\": 3730, \"Year\": \"1975-01-01T00:00:00\"}, {\"Acceleration\": 19.0, \"Cylinders\": 6, \"Displacement\": 225.0, \"Horsepower\": 95.0, \"Miles_per_Gallon\": 18.0, \"Name\": \"plymouth fury\", \"Origin\": \"USA\", \"Weight_in_lbs\": 3785, \"Year\": \"1975-01-01T00:00:00\"}, {\"Acceleration\": 15.0, \"Cylinders\": 6, \"Displacement\": 231.0, \"Horsepower\": 110.0, \"Miles_per_Gallon\": 21.0, \"Name\": \"buick skyhawk\", \"Origin\": \"USA\", \"Weight_in_lbs\": 3039, \"Year\": \"1975-01-01T00:00:00\"}, {\"Acceleration\": 13.5, \"Cylinders\": 8, \"Displacement\": 262.0, \"Horsepower\": 110.0, \"Miles_per_Gallon\": 20.0, \"Name\": \"chevrolet monza 2+2\", \"Origin\": \"USA\", \"Weight_in_lbs\": 3221, \"Year\": \"1975-01-01T00:00:00\"}, {\"Acceleration\": 12.0, \"Cylinders\": 8, \"Displacement\": 302.0, \"Horsepower\": 129.0, \"Miles_per_Gallon\": 13.0, \"Name\": \"ford mustang ii\", \"Origin\": \"USA\", \"Weight_in_lbs\": 3169, \"Year\": \"1975-01-01T00:00:00\"}, {\"Acceleration\": 16.0, \"Cylinders\": 4, \"Displacement\": 97.0, \"Horsepower\": 75.0, \"Miles_per_Gallon\": 29.0, \"Name\": \"toyota corolla\", \"Origin\": \"Japan\", \"Weight_in_lbs\": 2171, \"Year\": \"1975-01-01T00:00:00\"}, {\"Acceleration\": 17.0, \"Cylinders\": 4, \"Displacement\": 140.0, \"Horsepower\": 83.0, \"Miles_per_Gallon\": 23.0, \"Name\": \"ford pinto\", \"Origin\": \"USA\", \"Weight_in_lbs\": 2639, \"Year\": \"1975-01-01T00:00:00\"}, {\"Acceleration\": 16.0, \"Cylinders\": 6, \"Displacement\": 232.0, \"Horsepower\": 100.0, \"Miles_per_Gallon\": 20.0, \"Name\": \"amc gremlin\", \"Origin\": \"USA\", \"Weight_in_lbs\": 2914, \"Year\": \"1975-01-01T00:00:00\"}, {\"Acceleration\": 18.5, \"Cylinders\": 4, \"Displacement\": 140.0, \"Horsepower\": 78.0, \"Miles_per_Gallon\": 23.0, \"Name\": \"pontiac astro\", \"Origin\": \"USA\", \"Weight_in_lbs\": 2592, \"Year\": \"1975-01-01T00:00:00\"}, {\"Acceleration\": 13.5, \"Cylinders\": 4, \"Displacement\": 134.0, \"Horsepower\": 96.0, \"Miles_per_Gallon\": 24.0, \"Name\": \"toyota corona\", \"Origin\": \"Japan\", \"Weight_in_lbs\": 2702, \"Year\": \"1975-01-01T00:00:00\"}, {\"Acceleration\": 16.5, \"Cylinders\": 4, \"Displacement\": 90.0, \"Horsepower\": 71.0, \"Miles_per_Gallon\": 25.0, \"Name\": \"volkswagen dasher\", \"Origin\": \"Europe\", \"Weight_in_lbs\": 2223, \"Year\": \"1975-01-01T00:00:00\"}, {\"Acceleration\": 17.0, \"Cylinders\": 4, \"Displacement\": 119.0, \"Horsepower\": 97.0, \"Miles_per_Gallon\": 24.0, \"Name\": \"datsun 710\", \"Origin\": \"Japan\", \"Weight_in_lbs\": 2545, \"Year\": \"1975-01-01T00:00:00\"}, {\"Acceleration\": 14.5, \"Cylinders\": 6, \"Displacement\": 171.0, \"Horsepower\": 97.0, \"Miles_per_Gallon\": 18.0, \"Name\": \"ford pinto\", \"Origin\": \"USA\", \"Weight_in_lbs\": 2984, \"Year\": \"1975-01-01T00:00:00\"}, {\"Acceleration\": 14.0, \"Cylinders\": 4, \"Displacement\": 90.0, \"Horsepower\": 70.0, \"Miles_per_Gallon\": 29.0, \"Name\": \"volkswagen rabbit\", \"Origin\": \"Europe\", \"Weight_in_lbs\": 1937, \"Year\": \"1975-01-01T00:00:00\"}, {\"Acceleration\": 17.0, \"Cylinders\": 6, \"Displacement\": 232.0, \"Horsepower\": 90.0, \"Miles_per_Gallon\": 19.0, \"Name\": \"amc pacer\", \"Origin\": \"USA\", \"Weight_in_lbs\": 3211, \"Year\": \"1975-01-01T00:00:00\"}, {\"Acceleration\": 15.0, \"Cylinders\": 4, \"Displacement\": 115.0, \"Horsepower\": 95.0, \"Miles_per_Gallon\": 23.0, \"Name\": \"audi 100ls\", \"Origin\": \"Europe\", \"Weight_in_lbs\": 2694, \"Year\": \"1975-01-01T00:00:00\"}, {\"Acceleration\": 17.0, \"Cylinders\": 4, \"Displacement\": 120.0, \"Horsepower\": 88.0, \"Miles_per_Gallon\": 23.0, \"Name\": \"peugeot 504\", \"Origin\": \"Europe\", \"Weight_in_lbs\": 2957, \"Year\": \"1975-01-01T00:00:00\"}, {\"Acceleration\": 14.5, \"Cylinders\": 4, \"Displacement\": 121.0, \"Horsepower\": 98.0, \"Miles_per_Gallon\": 22.0, \"Name\": \"volvo 244dl\", \"Origin\": \"Europe\", \"Weight_in_lbs\": 2945, \"Year\": \"1975-01-01T00:00:00\"}, {\"Acceleration\": 13.5, \"Cylinders\": 4, \"Displacement\": 121.0, \"Horsepower\": 115.0, \"Miles_per_Gallon\": 25.0, \"Name\": \"saab 99le\", \"Origin\": \"Europe\", \"Weight_in_lbs\": 2671, \"Year\": \"1975-01-01T00:00:00\"}, {\"Acceleration\": 17.5, \"Cylinders\": 4, \"Displacement\": 91.0, \"Horsepower\": 53.0, \"Miles_per_Gallon\": 33.0, \"Name\": \"honda civic cvcc\", \"Origin\": \"Japan\", \"Weight_in_lbs\": 1795, \"Year\": \"1975-01-01T00:00:00\"}, {\"Acceleration\": 15.5, \"Cylinders\": 4, \"Displacement\": 107.0, \"Horsepower\": 86.0, \"Miles_per_Gallon\": 28.0, \"Name\": \"fiat 131\", \"Origin\": \"Europe\", \"Weight_in_lbs\": 2464, \"Year\": \"1976-01-01T00:00:00\"}, {\"Acceleration\": 16.9, \"Cylinders\": 4, \"Displacement\": 116.0, \"Horsepower\": 81.0, \"Miles_per_Gallon\": 25.0, \"Name\": \"opel 1900\", \"Origin\": \"Europe\", \"Weight_in_lbs\": 2220, \"Year\": \"1976-01-01T00:00:00\"}, {\"Acceleration\": 14.9, \"Cylinders\": 4, \"Displacement\": 140.0, \"Horsepower\": 92.0, \"Miles_per_Gallon\": 25.0, \"Name\": \"capri ii\", \"Origin\": \"USA\", \"Weight_in_lbs\": 2572, \"Year\": \"1976-01-01T00:00:00\"}, {\"Acceleration\": 17.7, \"Cylinders\": 4, \"Displacement\": 98.0, \"Horsepower\": 79.0, \"Miles_per_Gallon\": 26.0, \"Name\": \"dodge colt\", \"Origin\": \"USA\", \"Weight_in_lbs\": 2255, \"Year\": \"1976-01-01T00:00:00\"}, {\"Acceleration\": 15.3, \"Cylinders\": 4, \"Displacement\": 101.0, \"Horsepower\": 83.0, \"Miles_per_Gallon\": 27.0, \"Name\": \"renault 12tl\", \"Origin\": \"Europe\", \"Weight_in_lbs\": 2202, \"Year\": \"1976-01-01T00:00:00\"}, {\"Acceleration\": 13.0, \"Cylinders\": 8, \"Displacement\": 305.0, \"Horsepower\": 140.0, \"Miles_per_Gallon\": 17.5, \"Name\": \"chevrolet chevelle malibu classic\", \"Origin\": \"USA\", \"Weight_in_lbs\": 4215, \"Year\": \"1976-01-01T00:00:00\"}, {\"Acceleration\": 13.0, \"Cylinders\": 8, \"Displacement\": 318.0, \"Horsepower\": 150.0, \"Miles_per_Gallon\": 16.0, \"Name\": \"dodge coronet brougham\", \"Origin\": \"USA\", \"Weight_in_lbs\": 4190, \"Year\": \"1976-01-01T00:00:00\"}, {\"Acceleration\": 13.9, \"Cylinders\": 8, \"Displacement\": 304.0, \"Horsepower\": 120.0, \"Miles_per_Gallon\": 15.5, \"Name\": \"amc matador\", \"Origin\": \"USA\", \"Weight_in_lbs\": 3962, \"Year\": \"1976-01-01T00:00:00\"}, {\"Acceleration\": 12.8, \"Cylinders\": 8, \"Displacement\": 351.0, \"Horsepower\": 152.0, \"Miles_per_Gallon\": 14.5, \"Name\": \"ford gran torino\", \"Origin\": \"USA\", \"Weight_in_lbs\": 4215, \"Year\": \"1976-01-01T00:00:00\"}, {\"Acceleration\": 15.4, \"Cylinders\": 6, \"Displacement\": 225.0, \"Horsepower\": 100.0, \"Miles_per_Gallon\": 22.0, \"Name\": \"plymouth valiant\", \"Origin\": \"USA\", \"Weight_in_lbs\": 3233, \"Year\": \"1976-01-01T00:00:00\"}, {\"Acceleration\": 14.5, \"Cylinders\": 6, \"Displacement\": 250.0, \"Horsepower\": 105.0, \"Miles_per_Gallon\": 22.0, \"Name\": \"chevrolet nova\", \"Origin\": \"USA\", \"Weight_in_lbs\": 3353, \"Year\": \"1976-01-01T00:00:00\"}, {\"Acceleration\": 17.6, \"Cylinders\": 6, \"Displacement\": 200.0, \"Horsepower\": 81.0, \"Miles_per_Gallon\": 24.0, \"Name\": \"ford maverick\", \"Origin\": \"USA\", \"Weight_in_lbs\": 3012, \"Year\": \"1976-01-01T00:00:00\"}, {\"Acceleration\": 17.6, \"Cylinders\": 6, \"Displacement\": 232.0, \"Horsepower\": 90.0, \"Miles_per_Gallon\": 22.5, \"Name\": \"amc hornet\", \"Origin\": \"USA\", \"Weight_in_lbs\": 3085, \"Year\": \"1976-01-01T00:00:00\"}, {\"Acceleration\": 22.2, \"Cylinders\": 4, \"Displacement\": 85.0, \"Horsepower\": 52.0, \"Miles_per_Gallon\": 29.0, \"Name\": \"chevrolet chevette\", \"Origin\": \"USA\", \"Weight_in_lbs\": 2035, \"Year\": \"1976-01-01T00:00:00\"}, {\"Acceleration\": 22.1, \"Cylinders\": 4, \"Displacement\": 98.0, \"Horsepower\": 60.0, \"Miles_per_Gallon\": 24.5, \"Name\": \"chevrolet woody\", \"Origin\": \"USA\", \"Weight_in_lbs\": 2164, \"Year\": \"1976-01-01T00:00:00\"}, {\"Acceleration\": 14.2, \"Cylinders\": 4, \"Displacement\": 90.0, \"Horsepower\": 70.0, \"Miles_per_Gallon\": 29.0, \"Name\": \"vw rabbit\", \"Origin\": \"Europe\", \"Weight_in_lbs\": 1937, \"Year\": \"1976-01-01T00:00:00\"}, {\"Acceleration\": 17.4, \"Cylinders\": 4, \"Displacement\": 91.0, \"Horsepower\": 53.0, \"Miles_per_Gallon\": 33.0, \"Name\": \"honda civic\", \"Origin\": \"Japan\", \"Weight_in_lbs\": 1795, \"Year\": \"1976-01-01T00:00:00\"}, {\"Acceleration\": 17.7, \"Cylinders\": 6, \"Displacement\": 225.0, \"Horsepower\": 100.0, \"Miles_per_Gallon\": 20.0, \"Name\": \"dodge aspen se\", \"Origin\": \"USA\", \"Weight_in_lbs\": 3651, \"Year\": \"1976-01-01T00:00:00\"}, {\"Acceleration\": 21.0, \"Cylinders\": 6, \"Displacement\": 250.0, \"Horsepower\": 78.0, \"Miles_per_Gallon\": 18.0, \"Name\": \"ford granada ghia\", \"Origin\": \"USA\", \"Weight_in_lbs\": 3574, \"Year\": \"1976-01-01T00:00:00\"}, {\"Acceleration\": 16.2, \"Cylinders\": 6, \"Displacement\": 250.0, \"Horsepower\": 110.0, \"Miles_per_Gallon\": 18.5, \"Name\": \"pontiac ventura sj\", \"Origin\": \"USA\", \"Weight_in_lbs\": 3645, \"Year\": \"1976-01-01T00:00:00\"}, {\"Acceleration\": 17.8, \"Cylinders\": 6, \"Displacement\": 258.0, \"Horsepower\": 95.0, \"Miles_per_Gallon\": 17.5, \"Name\": \"amc pacer d/l\", \"Origin\": \"USA\", \"Weight_in_lbs\": 3193, \"Year\": \"1976-01-01T00:00:00\"}, {\"Acceleration\": 12.2, \"Cylinders\": 4, \"Displacement\": 97.0, \"Horsepower\": 71.0, \"Miles_per_Gallon\": 29.5, \"Name\": \"volkswagen rabbit\", \"Origin\": \"Europe\", \"Weight_in_lbs\": 1825, \"Year\": \"1976-01-01T00:00:00\"}, {\"Acceleration\": 17.0, \"Cylinders\": 4, \"Displacement\": 85.0, \"Horsepower\": 70.0, \"Miles_per_Gallon\": 32.0, \"Name\": \"datsun b-210\", \"Origin\": \"Japan\", \"Weight_in_lbs\": 1990, \"Year\": \"1976-01-01T00:00:00\"}, {\"Acceleration\": 16.4, \"Cylinders\": 4, \"Displacement\": 97.0, \"Horsepower\": 75.0, \"Miles_per_Gallon\": 28.0, \"Name\": \"toyota corolla\", \"Origin\": \"Japan\", \"Weight_in_lbs\": 2155, \"Year\": \"1976-01-01T00:00:00\"}, {\"Acceleration\": 13.6, \"Cylinders\": 4, \"Displacement\": 140.0, \"Horsepower\": 72.0, \"Miles_per_Gallon\": 26.5, \"Name\": \"ford pinto\", \"Origin\": \"USA\", \"Weight_in_lbs\": 2565, \"Year\": \"1976-01-01T00:00:00\"}, {\"Acceleration\": 15.7, \"Cylinders\": 4, \"Displacement\": 130.0, \"Horsepower\": 102.0, \"Miles_per_Gallon\": 20.0, \"Name\": \"volvo 245\", \"Origin\": \"Europe\", \"Weight_in_lbs\": 3150, \"Year\": \"1976-01-01T00:00:00\"}, {\"Acceleration\": 13.2, \"Cylinders\": 8, \"Displacement\": 318.0, \"Horsepower\": 150.0, \"Miles_per_Gallon\": 13.0, \"Name\": \"plymouth volare premier v8\", \"Origin\": \"USA\", \"Weight_in_lbs\": 3940, \"Year\": \"1976-01-01T00:00:00\"}, {\"Acceleration\": 21.9, \"Cylinders\": 4, \"Displacement\": 120.0, \"Horsepower\": 88.0, \"Miles_per_Gallon\": 19.0, \"Name\": \"peugeot 504\", \"Origin\": \"Europe\", \"Weight_in_lbs\": 3270, \"Year\": \"1976-01-01T00:00:00\"}, {\"Acceleration\": 15.5, \"Cylinders\": 6, \"Displacement\": 156.0, \"Horsepower\": 108.0, \"Miles_per_Gallon\": 19.0, \"Name\": \"toyota mark ii\", \"Origin\": \"Japan\", \"Weight_in_lbs\": 2930, \"Year\": \"1976-01-01T00:00:00\"}, {\"Acceleration\": 16.7, \"Cylinders\": 6, \"Displacement\": 168.0, \"Horsepower\": 120.0, \"Miles_per_Gallon\": 16.5, \"Name\": \"mercedes-benz 280s\", \"Origin\": \"Europe\", \"Weight_in_lbs\": 3820, \"Year\": \"1976-01-01T00:00:00\"}, {\"Acceleration\": 12.1, \"Cylinders\": 8, \"Displacement\": 350.0, \"Horsepower\": 180.0, \"Miles_per_Gallon\": 16.5, \"Name\": \"cadillac seville\", \"Origin\": \"USA\", \"Weight_in_lbs\": 4380, \"Year\": \"1976-01-01T00:00:00\"}, {\"Acceleration\": 12.0, \"Cylinders\": 8, \"Displacement\": 350.0, \"Horsepower\": 145.0, \"Miles_per_Gallon\": 13.0, \"Name\": \"chevy c10\", \"Origin\": \"USA\", \"Weight_in_lbs\": 4055, \"Year\": \"1976-01-01T00:00:00\"}, {\"Acceleration\": 15.0, \"Cylinders\": 8, \"Displacement\": 302.0, \"Horsepower\": 130.0, \"Miles_per_Gallon\": 13.0, \"Name\": \"ford f108\", \"Origin\": \"USA\", \"Weight_in_lbs\": 3870, \"Year\": \"1976-01-01T00:00:00\"}, {\"Acceleration\": 14.0, \"Cylinders\": 8, \"Displacement\": 318.0, \"Horsepower\": 150.0, \"Miles_per_Gallon\": 13.0, \"Name\": \"dodge d100\", \"Origin\": \"USA\", \"Weight_in_lbs\": 3755, \"Year\": \"1976-01-01T00:00:00\"}, {\"Acceleration\": 18.5, \"Cylinders\": 4, \"Displacement\": 98.0, \"Horsepower\": 68.0, \"Miles_per_Gallon\": 31.5, \"Name\": \"honda Accelerationord cvcc\", \"Origin\": \"Japan\", \"Weight_in_lbs\": 2045, \"Year\": \"1977-01-01T00:00:00\"}, {\"Acceleration\": 14.8, \"Cylinders\": 4, \"Displacement\": 111.0, \"Horsepower\": 80.0, \"Miles_per_Gallon\": 30.0, \"Name\": \"buick opel isuzu deluxe\", \"Origin\": \"USA\", \"Weight_in_lbs\": 2155, \"Year\": \"1977-01-01T00:00:00\"}, {\"Acceleration\": 18.6, \"Cylinders\": 4, \"Displacement\": 79.0, \"Horsepower\": 58.0, \"Miles_per_Gallon\": 36.0, \"Name\": \"renault 5 gtl\", \"Origin\": \"Europe\", \"Weight_in_lbs\": 1825, \"Year\": \"1977-01-01T00:00:00\"}, {\"Acceleration\": 15.5, \"Cylinders\": 4, \"Displacement\": 122.0, \"Horsepower\": 96.0, \"Miles_per_Gallon\": 25.5, \"Name\": \"plymouth arrow gs\", \"Origin\": \"USA\", \"Weight_in_lbs\": 2300, \"Year\": \"1977-01-01T00:00:00\"}, {\"Acceleration\": 16.8, \"Cylinders\": 4, \"Displacement\": 85.0, \"Horsepower\": 70.0, \"Miles_per_Gallon\": 33.5, \"Name\": \"datsun f-10 hatchback\", \"Origin\": \"Japan\", \"Weight_in_lbs\": 1945, \"Year\": \"1977-01-01T00:00:00\"}, {\"Acceleration\": 12.5, \"Cylinders\": 8, \"Displacement\": 305.0, \"Horsepower\": 145.0, \"Miles_per_Gallon\": 17.5, \"Name\": \"chevrolet caprice classic\", \"Origin\": \"USA\", \"Weight_in_lbs\": 3880, \"Year\": \"1977-01-01T00:00:00\"}, {\"Acceleration\": 19.0, \"Cylinders\": 8, \"Displacement\": 260.0, \"Horsepower\": 110.0, \"Miles_per_Gallon\": 17.0, \"Name\": \"oldsmobile cutlass supreme\", \"Origin\": \"USA\", \"Weight_in_lbs\": 4060, \"Year\": \"1977-01-01T00:00:00\"}, {\"Acceleration\": 13.7, \"Cylinders\": 8, \"Displacement\": 318.0, \"Horsepower\": 145.0, \"Miles_per_Gallon\": 15.5, \"Name\": \"dodge monaco brougham\", \"Origin\": \"USA\", \"Weight_in_lbs\": 4140, \"Year\": \"1977-01-01T00:00:00\"}, {\"Acceleration\": 14.9, \"Cylinders\": 8, \"Displacement\": 302.0, \"Horsepower\": 130.0, \"Miles_per_Gallon\": 15.0, \"Name\": \"mercury cougar brougham\", \"Origin\": \"USA\", \"Weight_in_lbs\": 4295, \"Year\": \"1977-01-01T00:00:00\"}, {\"Acceleration\": 16.4, \"Cylinders\": 6, \"Displacement\": 250.0, \"Horsepower\": 110.0, \"Miles_per_Gallon\": 17.5, \"Name\": \"chevrolet concours\", \"Origin\": \"USA\", \"Weight_in_lbs\": 3520, \"Year\": \"1977-01-01T00:00:00\"}, {\"Acceleration\": 16.9, \"Cylinders\": 6, \"Displacement\": 231.0, \"Horsepower\": 105.0, \"Miles_per_Gallon\": 20.5, \"Name\": \"buick skylark\", \"Origin\": \"USA\", \"Weight_in_lbs\": 3425, \"Year\": \"1977-01-01T00:00:00\"}, {\"Acceleration\": 17.7, \"Cylinders\": 6, \"Displacement\": 225.0, \"Horsepower\": 100.0, \"Miles_per_Gallon\": 19.0, \"Name\": \"plymouth volare custom\", \"Origin\": \"USA\", \"Weight_in_lbs\": 3630, \"Year\": \"1977-01-01T00:00:00\"}, {\"Acceleration\": 19.0, \"Cylinders\": 6, \"Displacement\": 250.0, \"Horsepower\": 98.0, \"Miles_per_Gallon\": 18.5, \"Name\": \"ford granada\", \"Origin\": \"USA\", \"Weight_in_lbs\": 3525, \"Year\": \"1977-01-01T00:00:00\"}, {\"Acceleration\": 11.1, \"Cylinders\": 8, \"Displacement\": 400.0, \"Horsepower\": 180.0, \"Miles_per_Gallon\": 16.0, \"Name\": \"pontiac grand prix lj\", \"Origin\": \"USA\", \"Weight_in_lbs\": 4220, \"Year\": \"1977-01-01T00:00:00\"}, {\"Acceleration\": 11.4, \"Cylinders\": 8, \"Displacement\": 350.0, \"Horsepower\": 170.0, \"Miles_per_Gallon\": 15.5, \"Name\": \"chevrolet monte carlo landau\", \"Origin\": \"USA\", \"Weight_in_lbs\": 4165, \"Year\": \"1977-01-01T00:00:00\"}, {\"Acceleration\": 12.2, \"Cylinders\": 8, \"Displacement\": 400.0, \"Horsepower\": 190.0, \"Miles_per_Gallon\": 15.5, \"Name\": \"chrysler cordoba\", \"Origin\": \"USA\", \"Weight_in_lbs\": 4325, \"Year\": \"1977-01-01T00:00:00\"}, {\"Acceleration\": 14.5, \"Cylinders\": 8, \"Displacement\": 351.0, \"Horsepower\": 149.0, \"Miles_per_Gallon\": 16.0, \"Name\": \"ford thunderbird\", \"Origin\": \"USA\", \"Weight_in_lbs\": 4335, \"Year\": \"1977-01-01T00:00:00\"}, {\"Acceleration\": 14.5, \"Cylinders\": 4, \"Displacement\": 97.0, \"Horsepower\": 78.0, \"Miles_per_Gallon\": 29.0, \"Name\": \"volkswagen rabbit custom\", \"Origin\": \"Europe\", \"Weight_in_lbs\": 1940, \"Year\": \"1977-01-01T00:00:00\"}, {\"Acceleration\": 16.0, \"Cylinders\": 4, \"Displacement\": 151.0, \"Horsepower\": 88.0, \"Miles_per_Gallon\": 24.5, \"Name\": \"pontiac sunbird coupe\", \"Origin\": \"USA\", \"Weight_in_lbs\": 2740, \"Year\": \"1977-01-01T00:00:00\"}, {\"Acceleration\": 18.2, \"Cylinders\": 4, \"Displacement\": 97.0, \"Horsepower\": 75.0, \"Miles_per_Gallon\": 26.0, \"Name\": \"toyota corolla liftback\", \"Origin\": \"Japan\", \"Weight_in_lbs\": 2265, \"Year\": \"1977-01-01T00:00:00\"}, {\"Acceleration\": 15.8, \"Cylinders\": 4, \"Displacement\": 140.0, \"Horsepower\": 89.0, \"Miles_per_Gallon\": 25.5, \"Name\": \"ford mustang ii 2+2\", \"Origin\": \"USA\", \"Weight_in_lbs\": 2755, \"Year\": \"1977-01-01T00:00:00\"}, {\"Acceleration\": 17.0, \"Cylinders\": 4, \"Displacement\": 98.0, \"Horsepower\": 63.0, \"Miles_per_Gallon\": 30.5, \"Name\": \"chevrolet chevette\", \"Origin\": \"USA\", \"Weight_in_lbs\": 2051, \"Year\": \"1977-01-01T00:00:00\"}, {\"Acceleration\": 15.9, \"Cylinders\": 4, \"Displacement\": 98.0, \"Horsepower\": 83.0, \"Miles_per_Gallon\": 33.5, \"Name\": \"dodge colt m/m\", \"Origin\": \"USA\", \"Weight_in_lbs\": 2075, \"Year\": \"1977-01-01T00:00:00\"}, {\"Acceleration\": 16.4, \"Cylinders\": 4, \"Displacement\": 97.0, \"Horsepower\": 67.0, \"Miles_per_Gallon\": 30.0, \"Name\": \"subaru dl\", \"Origin\": \"Japan\", \"Weight_in_lbs\": 1985, \"Year\": \"1977-01-01T00:00:00\"}, {\"Acceleration\": 14.1, \"Cylinders\": 4, \"Displacement\": 97.0, \"Horsepower\": 78.0, \"Miles_per_Gallon\": 30.5, \"Name\": \"volkswagen dasher\", \"Origin\": \"Europe\", \"Weight_in_lbs\": 2190, \"Year\": \"1977-01-01T00:00:00\"}, {\"Acceleration\": 14.5, \"Cylinders\": 6, \"Displacement\": 146.0, \"Horsepower\": 97.0, \"Miles_per_Gallon\": 22.0, \"Name\": \"datsun 810\", \"Origin\": \"Japan\", \"Weight_in_lbs\": 2815, \"Year\": \"1977-01-01T00:00:00\"}, {\"Acceleration\": 12.8, \"Cylinders\": 4, \"Displacement\": 121.0, \"Horsepower\": 110.0, \"Miles_per_Gallon\": 21.5, \"Name\": \"bmw 320i\", \"Origin\": \"Europe\", \"Weight_in_lbs\": 2600, \"Year\": \"1977-01-01T00:00:00\"}, {\"Acceleration\": 13.5, \"Cylinders\": 3, \"Displacement\": 80.0, \"Horsepower\": 110.0, \"Miles_per_Gallon\": 21.5, \"Name\": \"mazda rx-4\", \"Origin\": \"Japan\", \"Weight_in_lbs\": 2720, \"Year\": \"1977-01-01T00:00:00\"}, {\"Acceleration\": 21.5, \"Cylinders\": 4, \"Displacement\": 90.0, \"Horsepower\": 48.0, \"Miles_per_Gallon\": 43.1, \"Name\": \"volkswagen rabbit custom diesel\", \"Origin\": \"Europe\", \"Weight_in_lbs\": 1985, \"Year\": \"1978-01-01T00:00:00\"}, {\"Acceleration\": 14.4, \"Cylinders\": 4, \"Displacement\": 98.0, \"Horsepower\": 66.0, \"Miles_per_Gallon\": 36.1, \"Name\": \"ford fiesta\", \"Origin\": \"USA\", \"Weight_in_lbs\": 1800, \"Year\": \"1978-01-01T00:00:00\"}, {\"Acceleration\": 19.4, \"Cylinders\": 4, \"Displacement\": 78.0, \"Horsepower\": 52.0, \"Miles_per_Gallon\": 32.8, \"Name\": \"mazda glc deluxe\", \"Origin\": \"Japan\", \"Weight_in_lbs\": 1985, \"Year\": \"1978-01-01T00:00:00\"}, {\"Acceleration\": 18.6, \"Cylinders\": 4, \"Displacement\": 85.0, \"Horsepower\": 70.0, \"Miles_per_Gallon\": 39.4, \"Name\": \"datsun b210 gx\", \"Origin\": \"Japan\", \"Weight_in_lbs\": 2070, \"Year\": \"1978-01-01T00:00:00\"}, {\"Acceleration\": 16.4, \"Cylinders\": 4, \"Displacement\": 91.0, \"Horsepower\": 60.0, \"Miles_per_Gallon\": 36.1, \"Name\": \"honda civic cvcc\", \"Origin\": \"Japan\", \"Weight_in_lbs\": 1800, \"Year\": \"1978-01-01T00:00:00\"}, {\"Acceleration\": 15.5, \"Cylinders\": 8, \"Displacement\": 260.0, \"Horsepower\": 110.0, \"Miles_per_Gallon\": 19.9, \"Name\": \"oldsmobile cutlass salon brougham\", \"Origin\": \"USA\", \"Weight_in_lbs\": 3365, \"Year\": \"1978-01-01T00:00:00\"}, {\"Acceleration\": 13.2, \"Cylinders\": 8, \"Displacement\": 318.0, \"Horsepower\": 140.0, \"Miles_per_Gallon\": 19.4, \"Name\": \"dodge diplomat\", \"Origin\": \"USA\", \"Weight_in_lbs\": 3735, \"Year\": \"1978-01-01T00:00:00\"}, {\"Acceleration\": 12.8, \"Cylinders\": 8, \"Displacement\": 302.0, \"Horsepower\": 139.0, \"Miles_per_Gallon\": 20.2, \"Name\": \"mercury monarch ghia\", \"Origin\": \"USA\", \"Weight_in_lbs\": 3570, \"Year\": \"1978-01-01T00:00:00\"}, {\"Acceleration\": 19.2, \"Cylinders\": 6, \"Displacement\": 231.0, \"Horsepower\": 105.0, \"Miles_per_Gallon\": 19.2, \"Name\": \"pontiac phoenix lj\", \"Origin\": \"USA\", \"Weight_in_lbs\": 3535, \"Year\": \"1978-01-01T00:00:00\"}, {\"Acceleration\": 18.2, \"Cylinders\": 6, \"Displacement\": 200.0, \"Horsepower\": 95.0, \"Miles_per_Gallon\": 20.5, \"Name\": \"chevrolet malibu\", \"Origin\": \"USA\", \"Weight_in_lbs\": 3155, \"Year\": \"1978-01-01T00:00:00\"}, {\"Acceleration\": 15.8, \"Cylinders\": 6, \"Displacement\": 200.0, \"Horsepower\": 85.0, \"Miles_per_Gallon\": 20.2, \"Name\": \"ford fairmont (auto)\", \"Origin\": \"USA\", \"Weight_in_lbs\": 2965, \"Year\": \"1978-01-01T00:00:00\"}, {\"Acceleration\": 15.4, \"Cylinders\": 4, \"Displacement\": 140.0, \"Horsepower\": 88.0, \"Miles_per_Gallon\": 25.1, \"Name\": \"ford fairmont (man)\", \"Origin\": \"USA\", \"Weight_in_lbs\": 2720, \"Year\": \"1978-01-01T00:00:00\"}, {\"Acceleration\": 17.2, \"Cylinders\": 6, \"Displacement\": 225.0, \"Horsepower\": 100.0, \"Miles_per_Gallon\": 20.5, \"Name\": \"plymouth volare\", \"Origin\": \"USA\", \"Weight_in_lbs\": 3430, \"Year\": \"1978-01-01T00:00:00\"}, {\"Acceleration\": 17.2, \"Cylinders\": 6, \"Displacement\": 232.0, \"Horsepower\": 90.0, \"Miles_per_Gallon\": 19.4, \"Name\": \"amc concord\", \"Origin\": \"USA\", \"Weight_in_lbs\": 3210, \"Year\": \"1978-01-01T00:00:00\"}, {\"Acceleration\": 15.8, \"Cylinders\": 6, \"Displacement\": 231.0, \"Horsepower\": 105.0, \"Miles_per_Gallon\": 20.6, \"Name\": \"buick century special\", \"Origin\": \"USA\", \"Weight_in_lbs\": 3380, \"Year\": \"1978-01-01T00:00:00\"}, {\"Acceleration\": 16.7, \"Cylinders\": 6, \"Displacement\": 200.0, \"Horsepower\": 85.0, \"Miles_per_Gallon\": 20.8, \"Name\": \"mercury zephyr\", \"Origin\": \"USA\", \"Weight_in_lbs\": 3070, \"Year\": \"1978-01-01T00:00:00\"}, {\"Acceleration\": 18.7, \"Cylinders\": 6, \"Displacement\": 225.0, \"Horsepower\": 110.0, \"Miles_per_Gallon\": 18.6, \"Name\": \"dodge aspen\", \"Origin\": \"USA\", \"Weight_in_lbs\": 3620, \"Year\": \"1978-01-01T00:00:00\"}, {\"Acceleration\": 15.1, \"Cylinders\": 6, \"Displacement\": 258.0, \"Horsepower\": 120.0, \"Miles_per_Gallon\": 18.1, \"Name\": \"amc concord d/l\", \"Origin\": \"USA\", \"Weight_in_lbs\": 3410, \"Year\": \"1978-01-01T00:00:00\"}, {\"Acceleration\": 13.2, \"Cylinders\": 8, \"Displacement\": 305.0, \"Horsepower\": 145.0, \"Miles_per_Gallon\": 19.2, \"Name\": \"chevrolet monte carlo landau\", \"Origin\": \"USA\", \"Weight_in_lbs\": 3425, \"Year\": \"1978-01-01T00:00:00\"}, {\"Acceleration\": 13.4, \"Cylinders\": 6, \"Displacement\": 231.0, \"Horsepower\": 165.0, \"Miles_per_Gallon\": 17.7, \"Name\": \"buick regal sport coupe (turbo)\", \"Origin\": \"USA\", \"Weight_in_lbs\": 3445, \"Year\": \"1978-01-01T00:00:00\"}, {\"Acceleration\": 11.2, \"Cylinders\": 8, \"Displacement\": 302.0, \"Horsepower\": 139.0, \"Miles_per_Gallon\": 18.1, \"Name\": \"ford futura\", \"Origin\": \"USA\", \"Weight_in_lbs\": 3205, \"Year\": \"1978-01-01T00:00:00\"}, {\"Acceleration\": 13.7, \"Cylinders\": 8, \"Displacement\": 318.0, \"Horsepower\": 140.0, \"Miles_per_Gallon\": 17.5, \"Name\": \"dodge magnum xe\", \"Origin\": \"USA\", \"Weight_in_lbs\": 4080, \"Year\": \"1978-01-01T00:00:00\"}, {\"Acceleration\": 16.5, \"Cylinders\": 4, \"Displacement\": 98.0, \"Horsepower\": 68.0, \"Miles_per_Gallon\": 30.0, \"Name\": \"chevrolet chevette\", \"Origin\": \"USA\", \"Weight_in_lbs\": 2155, \"Year\": \"1978-01-01T00:00:00\"}, {\"Acceleration\": 14.2, \"Cylinders\": 4, \"Displacement\": 134.0, \"Horsepower\": 95.0, \"Miles_per_Gallon\": 27.5, \"Name\": \"toyota corona\", \"Origin\": \"Japan\", \"Weight_in_lbs\": 2560, \"Year\": \"1978-01-01T00:00:00\"}, {\"Acceleration\": 14.7, \"Cylinders\": 4, \"Displacement\": 119.0, \"Horsepower\": 97.0, \"Miles_per_Gallon\": 27.2, \"Name\": \"datsun 510\", \"Origin\": \"Japan\", \"Weight_in_lbs\": 2300, \"Year\": \"1978-01-01T00:00:00\"}, {\"Acceleration\": 14.5, \"Cylinders\": 4, \"Displacement\": 105.0, \"Horsepower\": 75.0, \"Miles_per_Gallon\": 30.9, \"Name\": \"dodge omni\", \"Origin\": \"USA\", \"Weight_in_lbs\": 2230, \"Year\": \"1978-01-01T00:00:00\"}, {\"Acceleration\": 14.8, \"Cylinders\": 4, \"Displacement\": 134.0, \"Horsepower\": 95.0, \"Miles_per_Gallon\": 21.1, \"Name\": \"toyota celica gt liftback\", \"Origin\": \"Japan\", \"Weight_in_lbs\": 2515, \"Year\": \"1978-01-01T00:00:00\"}, {\"Acceleration\": 16.7, \"Cylinders\": 4, \"Displacement\": 156.0, \"Horsepower\": 105.0, \"Miles_per_Gallon\": 23.2, \"Name\": \"plymouth sapporo\", \"Origin\": \"USA\", \"Weight_in_lbs\": 2745, \"Year\": \"1978-01-01T00:00:00\"}, {\"Acceleration\": 17.6, \"Cylinders\": 4, \"Displacement\": 151.0, \"Horsepower\": 85.0, \"Miles_per_Gallon\": 23.8, \"Name\": \"oldsmobile starfire sx\", \"Origin\": \"USA\", \"Weight_in_lbs\": 2855, \"Year\": \"1978-01-01T00:00:00\"}, {\"Acceleration\": 14.9, \"Cylinders\": 4, \"Displacement\": 119.0, \"Horsepower\": 97.0, \"Miles_per_Gallon\": 23.9, \"Name\": \"datsun 200-sx\", \"Origin\": \"Japan\", \"Weight_in_lbs\": 2405, \"Year\": \"1978-01-01T00:00:00\"}, {\"Acceleration\": 15.9, \"Cylinders\": 5, \"Displacement\": 131.0, \"Horsepower\": 103.0, \"Miles_per_Gallon\": 20.3, \"Name\": \"audi 5000\", \"Origin\": \"Europe\", \"Weight_in_lbs\": 2830, \"Year\": \"1978-01-01T00:00:00\"}, {\"Acceleration\": 13.6, \"Cylinders\": 6, \"Displacement\": 163.0, \"Horsepower\": 125.0, \"Miles_per_Gallon\": 17.0, \"Name\": \"volvo 264gl\", \"Origin\": \"Europe\", \"Weight_in_lbs\": 3140, \"Year\": \"1978-01-01T00:00:00\"}, {\"Acceleration\": 15.7, \"Cylinders\": 4, \"Displacement\": 121.0, \"Horsepower\": 115.0, \"Miles_per_Gallon\": 21.6, \"Name\": \"saab 99gle\", \"Origin\": \"Europe\", \"Weight_in_lbs\": 2795, \"Year\": \"1978-01-01T00:00:00\"}, {\"Acceleration\": 15.8, \"Cylinders\": 6, \"Displacement\": 163.0, \"Horsepower\": 133.0, \"Miles_per_Gallon\": 16.2, \"Name\": \"peugeot 604sl\", \"Origin\": \"Europe\", \"Weight_in_lbs\": 3410, \"Year\": \"1978-01-01T00:00:00\"}, {\"Acceleration\": 14.9, \"Cylinders\": 4, \"Displacement\": 89.0, \"Horsepower\": 71.0, \"Miles_per_Gallon\": 31.5, \"Name\": \"volkswagen scirocco\", \"Origin\": \"Europe\", \"Weight_in_lbs\": 1990, \"Year\": \"1978-01-01T00:00:00\"}, {\"Acceleration\": 16.6, \"Cylinders\": 4, \"Displacement\": 98.0, \"Horsepower\": 68.0, \"Miles_per_Gallon\": 29.5, \"Name\": \"honda Accelerationord lx\", \"Origin\": \"Japan\", \"Weight_in_lbs\": 2135, \"Year\": \"1978-01-01T00:00:00\"}, {\"Acceleration\": 15.4, \"Cylinders\": 6, \"Displacement\": 231.0, \"Horsepower\": 115.0, \"Miles_per_Gallon\": 21.5, \"Name\": \"pontiac lemans v6\", \"Origin\": \"USA\", \"Weight_in_lbs\": 3245, \"Year\": \"1979-01-01T00:00:00\"}, {\"Acceleration\": 18.2, \"Cylinders\": 6, \"Displacement\": 200.0, \"Horsepower\": 85.0, \"Miles_per_Gallon\": 19.8, \"Name\": \"mercury zephyr 6\", \"Origin\": \"USA\", \"Weight_in_lbs\": 2990, \"Year\": \"1979-01-01T00:00:00\"}, {\"Acceleration\": 17.3, \"Cylinders\": 4, \"Displacement\": 140.0, \"Horsepower\": 88.0, \"Miles_per_Gallon\": 22.3, \"Name\": \"ford fairmont 4\", \"Origin\": \"USA\", \"Weight_in_lbs\": 2890, \"Year\": \"1979-01-01T00:00:00\"}, {\"Acceleration\": 18.2, \"Cylinders\": 6, \"Displacement\": 232.0, \"Horsepower\": 90.0, \"Miles_per_Gallon\": 20.2, \"Name\": \"amc concord dl 6\", \"Origin\": \"USA\", \"Weight_in_lbs\": 3265, \"Year\": \"1979-01-01T00:00:00\"}, {\"Acceleration\": 16.6, \"Cylinders\": 6, \"Displacement\": 225.0, \"Horsepower\": 110.0, \"Miles_per_Gallon\": 20.6, \"Name\": \"dodge aspen 6\", \"Origin\": \"USA\", \"Weight_in_lbs\": 3360, \"Year\": \"1979-01-01T00:00:00\"}, {\"Acceleration\": 15.4, \"Cylinders\": 8, \"Displacement\": 305.0, \"Horsepower\": 130.0, \"Miles_per_Gallon\": 17.0, \"Name\": \"chevrolet caprice classic\", \"Origin\": \"USA\", \"Weight_in_lbs\": 3840, \"Year\": \"1979-01-01T00:00:00\"}, {\"Acceleration\": 13.4, \"Cylinders\": 8, \"Displacement\": 302.0, \"Horsepower\": 129.0, \"Miles_per_Gallon\": 17.6, \"Name\": \"ford ltd landau\", \"Origin\": \"USA\", \"Weight_in_lbs\": 3725, \"Year\": \"1979-01-01T00:00:00\"}, {\"Acceleration\": 13.2, \"Cylinders\": 8, \"Displacement\": 351.0, \"Horsepower\": 138.0, \"Miles_per_Gallon\": 16.5, \"Name\": \"mercury grand marquis\", \"Origin\": \"USA\", \"Weight_in_lbs\": 3955, \"Year\": \"1979-01-01T00:00:00\"}, {\"Acceleration\": 15.2, \"Cylinders\": 8, \"Displacement\": 318.0, \"Horsepower\": 135.0, \"Miles_per_Gallon\": 18.2, \"Name\": \"dodge st. regis\", \"Origin\": \"USA\", \"Weight_in_lbs\": 3830, \"Year\": \"1979-01-01T00:00:00\"}, {\"Acceleration\": 14.9, \"Cylinders\": 8, \"Displacement\": 350.0, \"Horsepower\": 155.0, \"Miles_per_Gallon\": 16.9, \"Name\": \"buick estate wagon (sw)\", \"Origin\": \"USA\", \"Weight_in_lbs\": 4360, \"Year\": \"1979-01-01T00:00:00\"}, {\"Acceleration\": 14.3, \"Cylinders\": 8, \"Displacement\": 351.0, \"Horsepower\": 142.0, \"Miles_per_Gallon\": 15.5, \"Name\": \"ford country squire (sw)\", \"Origin\": \"USA\", \"Weight_in_lbs\": 4054, \"Year\": \"1979-01-01T00:00:00\"}, {\"Acceleration\": 15.0, \"Cylinders\": 8, \"Displacement\": 267.0, \"Horsepower\": 125.0, \"Miles_per_Gallon\": 19.2, \"Name\": \"chevrolet malibu classic (sw)\", \"Origin\": \"USA\", \"Weight_in_lbs\": 3605, \"Year\": \"1979-01-01T00:00:00\"}, {\"Acceleration\": 13.0, \"Cylinders\": 8, \"Displacement\": 360.0, \"Horsepower\": 150.0, \"Miles_per_Gallon\": 18.5, \"Name\": \"chrysler lebaron town @ country (sw)\", \"Origin\": \"USA\", \"Weight_in_lbs\": 3940, \"Year\": \"1979-01-01T00:00:00\"}, {\"Acceleration\": 14.0, \"Cylinders\": 4, \"Displacement\": 89.0, \"Horsepower\": 71.0, \"Miles_per_Gallon\": 31.9, \"Name\": \"vw rabbit custom\", \"Origin\": \"Europe\", \"Weight_in_lbs\": 1925, \"Year\": \"1979-01-01T00:00:00\"}, {\"Acceleration\": 15.2, \"Cylinders\": 4, \"Displacement\": 86.0, \"Horsepower\": 65.0, \"Miles_per_Gallon\": 34.1, \"Name\": \"maxda glc deluxe\", \"Origin\": \"Japan\", \"Weight_in_lbs\": 1975, \"Year\": \"1979-01-01T00:00:00\"}, {\"Acceleration\": 14.4, \"Cylinders\": 4, \"Displacement\": 98.0, \"Horsepower\": 80.0, \"Miles_per_Gallon\": 35.7, \"Name\": \"dodge colt hatchback custom\", \"Origin\": \"USA\", \"Weight_in_lbs\": 1915, \"Year\": \"1979-01-01T00:00:00\"}, {\"Acceleration\": 15.0, \"Cylinders\": 4, \"Displacement\": 121.0, \"Horsepower\": 80.0, \"Miles_per_Gallon\": 27.4, \"Name\": \"amc spirit dl\", \"Origin\": \"USA\", \"Weight_in_lbs\": 2670, \"Year\": \"1979-01-01T00:00:00\"}, {\"Acceleration\": 20.1, \"Cylinders\": 5, \"Displacement\": 183.0, \"Horsepower\": 77.0, \"Miles_per_Gallon\": 25.4, \"Name\": \"mercedes benz 300d\", \"Origin\": \"Europe\", \"Weight_in_lbs\": 3530, \"Year\": \"1979-01-01T00:00:00\"}, {\"Acceleration\": 17.4, \"Cylinders\": 8, \"Displacement\": 350.0, \"Horsepower\": 125.0, \"Miles_per_Gallon\": 23.0, \"Name\": \"cadillac eldorado\", \"Origin\": \"USA\", \"Weight_in_lbs\": 3900, \"Year\": \"1979-01-01T00:00:00\"}, {\"Acceleration\": 24.8, \"Cylinders\": 4, \"Displacement\": 141.0, \"Horsepower\": 71.0, \"Miles_per_Gallon\": 27.2, \"Name\": \"peugeot 504\", \"Origin\": \"Europe\", \"Weight_in_lbs\": 3190, \"Year\": \"1979-01-01T00:00:00\"}, {\"Acceleration\": 22.2, \"Cylinders\": 8, \"Displacement\": 260.0, \"Horsepower\": 90.0, \"Miles_per_Gallon\": 23.9, \"Name\": \"oldsmobile cutlass salon brougham\", \"Origin\": \"USA\", \"Weight_in_lbs\": 3420, \"Year\": \"1979-01-01T00:00:00\"}, {\"Acceleration\": 13.2, \"Cylinders\": 4, \"Displacement\": 105.0, \"Horsepower\": 70.0, \"Miles_per_Gallon\": 34.2, \"Name\": \"plymouth horizon\", \"Origin\": \"USA\", \"Weight_in_lbs\": 2200, \"Year\": \"1979-01-01T00:00:00\"}, {\"Acceleration\": 14.9, \"Cylinders\": 4, \"Displacement\": 105.0, \"Horsepower\": 70.0, \"Miles_per_Gallon\": 34.5, \"Name\": \"plymouth horizon tc3\", \"Origin\": \"USA\", \"Weight_in_lbs\": 2150, \"Year\": \"1979-01-01T00:00:00\"}, {\"Acceleration\": 19.2, \"Cylinders\": 4, \"Displacement\": 85.0, \"Horsepower\": 65.0, \"Miles_per_Gallon\": 31.8, \"Name\": \"datsun 210\", \"Origin\": \"Japan\", \"Weight_in_lbs\": 2020, \"Year\": \"1979-01-01T00:00:00\"}, {\"Acceleration\": 14.7, \"Cylinders\": 4, \"Displacement\": 91.0, \"Horsepower\": 69.0, \"Miles_per_Gallon\": 37.3, \"Name\": \"fiat strada custom\", \"Origin\": \"Europe\", \"Weight_in_lbs\": 2130, \"Year\": \"1979-01-01T00:00:00\"}, {\"Acceleration\": 16.0, \"Cylinders\": 4, \"Displacement\": 151.0, \"Horsepower\": 90.0, \"Miles_per_Gallon\": 28.4, \"Name\": \"buick skylark limited\", \"Origin\": \"USA\", \"Weight_in_lbs\": 2670, \"Year\": \"1979-01-01T00:00:00\"}, {\"Acceleration\": 11.3, \"Cylinders\": 6, \"Displacement\": 173.0, \"Horsepower\": 115.0, \"Miles_per_Gallon\": 28.8, \"Name\": \"chevrolet citation\", \"Origin\": \"USA\", \"Weight_in_lbs\": 2595, \"Year\": \"1979-01-01T00:00:00\"}, {\"Acceleration\": 12.9, \"Cylinders\": 6, \"Displacement\": 173.0, \"Horsepower\": 115.0, \"Miles_per_Gallon\": 26.8, \"Name\": \"oldsmobile omega brougham\", \"Origin\": \"USA\", \"Weight_in_lbs\": 2700, \"Year\": \"1979-01-01T00:00:00\"}, {\"Acceleration\": 13.2, \"Cylinders\": 4, \"Displacement\": 151.0, \"Horsepower\": 90.0, \"Miles_per_Gallon\": 33.5, \"Name\": \"pontiac phoenix\", \"Origin\": \"USA\", \"Weight_in_lbs\": 2556, \"Year\": \"1979-01-01T00:00:00\"}, {\"Acceleration\": 14.7, \"Cylinders\": 4, \"Displacement\": 98.0, \"Horsepower\": 76.0, \"Miles_per_Gallon\": 41.5, \"Name\": \"vw rabbit\", \"Origin\": \"Europe\", \"Weight_in_lbs\": 2144, \"Year\": \"1980-01-01T00:00:00\"}, {\"Acceleration\": 18.8, \"Cylinders\": 4, \"Displacement\": 89.0, \"Horsepower\": 60.0, \"Miles_per_Gallon\": 38.1, \"Name\": \"toyota corolla tercel\", \"Origin\": \"Japan\", \"Weight_in_lbs\": 1968, \"Year\": \"1980-01-01T00:00:00\"}, {\"Acceleration\": 15.5, \"Cylinders\": 4, \"Displacement\": 98.0, \"Horsepower\": 70.0, \"Miles_per_Gallon\": 32.1, \"Name\": \"chevrolet chevette\", \"Origin\": \"USA\", \"Weight_in_lbs\": 2120, \"Year\": \"1980-01-01T00:00:00\"}, {\"Acceleration\": 16.4, \"Cylinders\": 4, \"Displacement\": 86.0, \"Horsepower\": 65.0, \"Miles_per_Gallon\": 37.2, \"Name\": \"datsun 310\", \"Origin\": \"Japan\", \"Weight_in_lbs\": 2019, \"Year\": \"1980-01-01T00:00:00\"}, {\"Acceleration\": 16.5, \"Cylinders\": 4, \"Displacement\": 151.0, \"Horsepower\": 90.0, \"Miles_per_Gallon\": 28.0, \"Name\": \"chevrolet citation\", \"Origin\": \"USA\", \"Weight_in_lbs\": 2678, \"Year\": \"1980-01-01T00:00:00\"}, {\"Acceleration\": 18.1, \"Cylinders\": 4, \"Displacement\": 140.0, \"Horsepower\": 88.0, \"Miles_per_Gallon\": 26.4, \"Name\": \"ford fairmont\", \"Origin\": \"USA\", \"Weight_in_lbs\": 2870, \"Year\": \"1980-01-01T00:00:00\"}, {\"Acceleration\": 20.1, \"Cylinders\": 4, \"Displacement\": 151.0, \"Horsepower\": 90.0, \"Miles_per_Gallon\": 24.3, \"Name\": \"amc concord\", \"Origin\": \"USA\", \"Weight_in_lbs\": 3003, \"Year\": \"1980-01-01T00:00:00\"}, {\"Acceleration\": 18.7, \"Cylinders\": 6, \"Displacement\": 225.0, \"Horsepower\": 90.0, \"Miles_per_Gallon\": 19.1, \"Name\": \"dodge aspen\", \"Origin\": \"USA\", \"Weight_in_lbs\": 3381, \"Year\": \"1980-01-01T00:00:00\"}, {\"Acceleration\": 15.8, \"Cylinders\": 4, \"Displacement\": 97.0, \"Horsepower\": 78.0, \"Miles_per_Gallon\": 34.3, \"Name\": \"audi 4000\", \"Origin\": \"Europe\", \"Weight_in_lbs\": 2188, \"Year\": \"1980-01-01T00:00:00\"}, {\"Acceleration\": 15.5, \"Cylinders\": 4, \"Displacement\": 134.0, \"Horsepower\": 90.0, \"Miles_per_Gallon\": 29.8, \"Name\": \"toyota corona liftback\", \"Origin\": \"Japan\", \"Weight_in_lbs\": 2711, \"Year\": \"1980-01-01T00:00:00\"}, {\"Acceleration\": 17.5, \"Cylinders\": 4, \"Displacement\": 120.0, \"Horsepower\": 75.0, \"Miles_per_Gallon\": 31.3, \"Name\": \"mazda 626\", \"Origin\": \"Japan\", \"Weight_in_lbs\": 2542, \"Year\": \"1980-01-01T00:00:00\"}, {\"Acceleration\": 15.0, \"Cylinders\": 4, \"Displacement\": 119.0, \"Horsepower\": 92.0, \"Miles_per_Gallon\": 37.0, \"Name\": \"datsun 510 hatchback\", \"Origin\": \"Japan\", \"Weight_in_lbs\": 2434, \"Year\": \"1980-01-01T00:00:00\"}, {\"Acceleration\": 15.2, \"Cylinders\": 4, \"Displacement\": 108.0, \"Horsepower\": 75.0, \"Miles_per_Gallon\": 32.2, \"Name\": \"toyota corolla\", \"Origin\": \"Japan\", \"Weight_in_lbs\": 2265, \"Year\": \"1980-01-01T00:00:00\"}, {\"Acceleration\": 17.9, \"Cylinders\": 4, \"Displacement\": 86.0, \"Horsepower\": 65.0, \"Miles_per_Gallon\": 46.6, \"Name\": \"mazda glc\", \"Origin\": \"Japan\", \"Weight_in_lbs\": 2110, \"Year\": \"1980-01-01T00:00:00\"}, {\"Acceleration\": 14.4, \"Cylinders\": 4, \"Displacement\": 156.0, \"Horsepower\": 105.0, \"Miles_per_Gallon\": 27.9, \"Name\": \"dodge colt\", \"Origin\": \"USA\", \"Weight_in_lbs\": 2800, \"Year\": \"1980-01-01T00:00:00\"}, {\"Acceleration\": 19.2, \"Cylinders\": 4, \"Displacement\": 85.0, \"Horsepower\": 65.0, \"Miles_per_Gallon\": 40.8, \"Name\": \"datsun 210\", \"Origin\": \"Japan\", \"Weight_in_lbs\": 2110, \"Year\": \"1980-01-01T00:00:00\"}, {\"Acceleration\": 21.7, \"Cylinders\": 4, \"Displacement\": 90.0, \"Horsepower\": 48.0, \"Miles_per_Gallon\": 44.3, \"Name\": \"vw rabbit c (diesel)\", \"Origin\": \"Europe\", \"Weight_in_lbs\": 2085, \"Year\": \"1980-01-01T00:00:00\"}, {\"Acceleration\": 23.7, \"Cylinders\": 4, \"Displacement\": 90.0, \"Horsepower\": 48.0, \"Miles_per_Gallon\": 43.4, \"Name\": \"vw dasher (diesel)\", \"Origin\": \"Europe\", \"Weight_in_lbs\": 2335, \"Year\": \"1980-01-01T00:00:00\"}, {\"Acceleration\": 19.9, \"Cylinders\": 5, \"Displacement\": 121.0, \"Horsepower\": 67.0, \"Miles_per_Gallon\": 36.4, \"Name\": \"audi 5000s (diesel)\", \"Origin\": \"Europe\", \"Weight_in_lbs\": 2950, \"Year\": \"1980-01-01T00:00:00\"}, {\"Acceleration\": 21.8, \"Cylinders\": 4, \"Displacement\": 146.0, \"Horsepower\": 67.0, \"Miles_per_Gallon\": 30.0, \"Name\": \"mercedes-benz 240d\", \"Origin\": \"Europe\", \"Weight_in_lbs\": 3250, \"Year\": \"1980-01-01T00:00:00\"}, {\"Acceleration\": 13.8, \"Cylinders\": 4, \"Displacement\": 91.0, \"Horsepower\": 67.0, \"Miles_per_Gallon\": 44.6, \"Name\": \"honda civic 1500 gl\", \"Origin\": \"Japan\", \"Weight_in_lbs\": 1850, \"Year\": \"1980-01-01T00:00:00\"}, {\"Acceleration\": 17.3, \"Cylinders\": 4, \"Displacement\": 85.0, \"Horsepower\": null, \"Miles_per_Gallon\": 40.9, \"Name\": \"renault lecar deluxe\", \"Origin\": \"Europe\", \"Weight_in_lbs\": 1835, \"Year\": \"1980-01-01T00:00:00\"}, {\"Acceleration\": 18.0, \"Cylinders\": 4, \"Displacement\": 97.0, \"Horsepower\": 67.0, \"Miles_per_Gallon\": 33.8, \"Name\": \"subaru dl\", \"Origin\": \"Japan\", \"Weight_in_lbs\": 2145, \"Year\": \"1980-01-01T00:00:00\"}, {\"Acceleration\": 15.3, \"Cylinders\": 4, \"Displacement\": 89.0, \"Horsepower\": 62.0, \"Miles_per_Gallon\": 29.8, \"Name\": \"vokswagen rabbit\", \"Origin\": \"Europe\", \"Weight_in_lbs\": 1845, \"Year\": \"1980-01-01T00:00:00\"}, {\"Acceleration\": 11.4, \"Cylinders\": 6, \"Displacement\": 168.0, \"Horsepower\": 132.0, \"Miles_per_Gallon\": 32.7, \"Name\": \"datsun 280-zx\", \"Origin\": \"Japan\", \"Weight_in_lbs\": 2910, \"Year\": \"1980-01-01T00:00:00\"}, {\"Acceleration\": 12.5, \"Cylinders\": 3, \"Displacement\": 70.0, \"Horsepower\": 100.0, \"Miles_per_Gallon\": 23.7, \"Name\": \"mazda rx-7 gs\", \"Origin\": \"Japan\", \"Weight_in_lbs\": 2420, \"Year\": \"1980-01-01T00:00:00\"}, {\"Acceleration\": 15.1, \"Cylinders\": 4, \"Displacement\": 122.0, \"Horsepower\": 88.0, \"Miles_per_Gallon\": 35.0, \"Name\": \"triumph tr7 coupe\", \"Origin\": \"Europe\", \"Weight_in_lbs\": 2500, \"Year\": \"1980-01-01T00:00:00\"}, {\"Acceleration\": 14.3, \"Cylinders\": 4, \"Displacement\": 140.0, \"Horsepower\": null, \"Miles_per_Gallon\": 23.6, \"Name\": \"ford mustang cobra\", \"Origin\": \"USA\", \"Weight_in_lbs\": 2905, \"Year\": \"1980-01-01T00:00:00\"}, {\"Acceleration\": 17.0, \"Cylinders\": 4, \"Displacement\": 107.0, \"Horsepower\": 72.0, \"Miles_per_Gallon\": 32.4, \"Name\": \"honda Accelerationord\", \"Origin\": \"Japan\", \"Weight_in_lbs\": 2290, \"Year\": \"1980-01-01T00:00:00\"}, {\"Acceleration\": 15.7, \"Cylinders\": 4, \"Displacement\": 135.0, \"Horsepower\": 84.0, \"Miles_per_Gallon\": 27.2, \"Name\": \"plymouth reliant\", \"Origin\": \"USA\", \"Weight_in_lbs\": 2490, \"Year\": \"1982-01-01T00:00:00\"}, {\"Acceleration\": 16.4, \"Cylinders\": 4, \"Displacement\": 151.0, \"Horsepower\": 84.0, \"Miles_per_Gallon\": 26.6, \"Name\": \"buick skylark\", \"Origin\": \"USA\", \"Weight_in_lbs\": 2635, \"Year\": \"1982-01-01T00:00:00\"}, {\"Acceleration\": 14.4, \"Cylinders\": 4, \"Displacement\": 156.0, \"Horsepower\": 92.0, \"Miles_per_Gallon\": 25.8, \"Name\": \"dodge aries wagon (sw)\", \"Origin\": \"USA\", \"Weight_in_lbs\": 2620, \"Year\": \"1982-01-01T00:00:00\"}, {\"Acceleration\": 12.6, \"Cylinders\": 6, \"Displacement\": 173.0, \"Horsepower\": 110.0, \"Miles_per_Gallon\": 23.5, \"Name\": \"chevrolet citation\", \"Origin\": \"USA\", \"Weight_in_lbs\": 2725, \"Year\": \"1982-01-01T00:00:00\"}, {\"Acceleration\": 12.9, \"Cylinders\": 4, \"Displacement\": 135.0, \"Horsepower\": 84.0, \"Miles_per_Gallon\": 30.0, \"Name\": \"plymouth reliant\", \"Origin\": \"USA\", \"Weight_in_lbs\": 2385, \"Year\": \"1982-01-01T00:00:00\"}, {\"Acceleration\": 16.9, \"Cylinders\": 4, \"Displacement\": 79.0, \"Horsepower\": 58.0, \"Miles_per_Gallon\": 39.1, \"Name\": \"toyota starlet\", \"Origin\": \"Japan\", \"Weight_in_lbs\": 1755, \"Year\": \"1982-01-01T00:00:00\"}, {\"Acceleration\": 16.4, \"Cylinders\": 4, \"Displacement\": 86.0, \"Horsepower\": 64.0, \"Miles_per_Gallon\": 39.0, \"Name\": \"plymouth champ\", \"Origin\": \"USA\", \"Weight_in_lbs\": 1875, \"Year\": \"1982-01-01T00:00:00\"}, {\"Acceleration\": 16.1, \"Cylinders\": 4, \"Displacement\": 81.0, \"Horsepower\": 60.0, \"Miles_per_Gallon\": 35.1, \"Name\": \"honda civic 1300\", \"Origin\": \"Japan\", \"Weight_in_lbs\": 1760, \"Year\": \"1982-01-01T00:00:00\"}, {\"Acceleration\": 17.8, \"Cylinders\": 4, \"Displacement\": 97.0, \"Horsepower\": 67.0, \"Miles_per_Gallon\": 32.3, \"Name\": \"subaru\", \"Origin\": \"Japan\", \"Weight_in_lbs\": 2065, \"Year\": \"1982-01-01T00:00:00\"}, {\"Acceleration\": 19.4, \"Cylinders\": 4, \"Displacement\": 85.0, \"Horsepower\": 65.0, \"Miles_per_Gallon\": 37.0, \"Name\": \"datsun 210\", \"Origin\": \"Japan\", \"Weight_in_lbs\": 1975, \"Year\": \"1982-01-01T00:00:00\"}, {\"Acceleration\": 17.3, \"Cylinders\": 4, \"Displacement\": 89.0, \"Horsepower\": 62.0, \"Miles_per_Gallon\": 37.7, \"Name\": \"toyota tercel\", \"Origin\": \"Japan\", \"Weight_in_lbs\": 2050, \"Year\": \"1982-01-01T00:00:00\"}, {\"Acceleration\": 16.0, \"Cylinders\": 4, \"Displacement\": 91.0, \"Horsepower\": 68.0, \"Miles_per_Gallon\": 34.1, \"Name\": \"mazda glc 4\", \"Origin\": \"Japan\", \"Weight_in_lbs\": 1985, \"Year\": \"1982-01-01T00:00:00\"}, {\"Acceleration\": 14.9, \"Cylinders\": 4, \"Displacement\": 105.0, \"Horsepower\": 63.0, \"Miles_per_Gallon\": 34.7, \"Name\": \"plymouth horizon 4\", \"Origin\": \"USA\", \"Weight_in_lbs\": 2215, \"Year\": \"1982-01-01T00:00:00\"}, {\"Acceleration\": 16.2, \"Cylinders\": 4, \"Displacement\": 98.0, \"Horsepower\": 65.0, \"Miles_per_Gallon\": 34.4, \"Name\": \"ford escort 4w\", \"Origin\": \"USA\", \"Weight_in_lbs\": 2045, \"Year\": \"1982-01-01T00:00:00\"}, {\"Acceleration\": 20.7, \"Cylinders\": 4, \"Displacement\": 98.0, \"Horsepower\": 65.0, \"Miles_per_Gallon\": 29.9, \"Name\": \"ford escort 2h\", \"Origin\": \"USA\", \"Weight_in_lbs\": 2380, \"Year\": \"1982-01-01T00:00:00\"}, {\"Acceleration\": 14.2, \"Cylinders\": 4, \"Displacement\": 105.0, \"Horsepower\": 74.0, \"Miles_per_Gallon\": 33.0, \"Name\": \"volkswagen jetta\", \"Origin\": \"Europe\", \"Weight_in_lbs\": 2190, \"Year\": \"1982-01-01T00:00:00\"}, {\"Acceleration\": 15.8, \"Cylinders\": 4, \"Displacement\": 100.0, \"Horsepower\": null, \"Miles_per_Gallon\": 34.5, \"Name\": \"renault 18i\", \"Origin\": \"Europe\", \"Weight_in_lbs\": 2320, \"Year\": \"1982-01-01T00:00:00\"}, {\"Acceleration\": 14.4, \"Cylinders\": 4, \"Displacement\": 107.0, \"Horsepower\": 75.0, \"Miles_per_Gallon\": 33.7, \"Name\": \"honda prelude\", \"Origin\": \"Japan\", \"Weight_in_lbs\": 2210, \"Year\": \"1982-01-01T00:00:00\"}, {\"Acceleration\": 16.8, \"Cylinders\": 4, \"Displacement\": 108.0, \"Horsepower\": 75.0, \"Miles_per_Gallon\": 32.4, \"Name\": \"toyota corolla\", \"Origin\": \"Japan\", \"Weight_in_lbs\": 2350, \"Year\": \"1982-01-01T00:00:00\"}, {\"Acceleration\": 14.8, \"Cylinders\": 4, \"Displacement\": 119.0, \"Horsepower\": 100.0, \"Miles_per_Gallon\": 32.9, \"Name\": \"datsun 200sx\", \"Origin\": \"Japan\", \"Weight_in_lbs\": 2615, \"Year\": \"1982-01-01T00:00:00\"}, {\"Acceleration\": 18.3, \"Cylinders\": 4, \"Displacement\": 120.0, \"Horsepower\": 74.0, \"Miles_per_Gallon\": 31.6, \"Name\": \"mazda 626\", \"Origin\": \"Japan\", \"Weight_in_lbs\": 2635, \"Year\": \"1982-01-01T00:00:00\"}, {\"Acceleration\": 20.4, \"Cylinders\": 4, \"Displacement\": 141.0, \"Horsepower\": 80.0, \"Miles_per_Gallon\": 28.1, \"Name\": \"peugeot 505s turbo diesel\", \"Origin\": \"Europe\", \"Weight_in_lbs\": 3230, \"Year\": \"1982-01-01T00:00:00\"}, {\"Acceleration\": 15.4, \"Cylinders\": 4, \"Displacement\": 121.0, \"Horsepower\": 110.0, \"Miles_per_Gallon\": null, \"Name\": \"saab 900s\", \"Origin\": \"Europe\", \"Weight_in_lbs\": 2800, \"Year\": \"1982-01-01T00:00:00\"}, {\"Acceleration\": 19.6, \"Cylinders\": 6, \"Displacement\": 145.0, \"Horsepower\": 76.0, \"Miles_per_Gallon\": 30.7, \"Name\": \"volvo diesel\", \"Origin\": \"Europe\", \"Weight_in_lbs\": 3160, \"Year\": \"1982-01-01T00:00:00\"}, {\"Acceleration\": 12.6, \"Cylinders\": 6, \"Displacement\": 168.0, \"Horsepower\": 116.0, \"Miles_per_Gallon\": 25.4, \"Name\": \"toyota cressida\", \"Origin\": \"Japan\", \"Weight_in_lbs\": 2900, \"Year\": \"1982-01-01T00:00:00\"}, {\"Acceleration\": 13.8, \"Cylinders\": 6, \"Displacement\": 146.0, \"Horsepower\": 120.0, \"Miles_per_Gallon\": 24.2, \"Name\": \"datsun 810 maxima\", \"Origin\": \"Japan\", \"Weight_in_lbs\": 2930, \"Year\": \"1982-01-01T00:00:00\"}, {\"Acceleration\": 15.8, \"Cylinders\": 6, \"Displacement\": 231.0, \"Horsepower\": 110.0, \"Miles_per_Gallon\": 22.4, \"Name\": \"buick century\", \"Origin\": \"USA\", \"Weight_in_lbs\": 3415, \"Year\": \"1982-01-01T00:00:00\"}, {\"Acceleration\": 19.0, \"Cylinders\": 8, \"Displacement\": 350.0, \"Horsepower\": 105.0, \"Miles_per_Gallon\": 26.6, \"Name\": \"oldsmobile cutlass ls\", \"Origin\": \"USA\", \"Weight_in_lbs\": 3725, \"Year\": \"1982-01-01T00:00:00\"}, {\"Acceleration\": 17.1, \"Cylinders\": 6, \"Displacement\": 200.0, \"Horsepower\": 88.0, \"Miles_per_Gallon\": 20.2, \"Name\": \"ford granada gl\", \"Origin\": \"USA\", \"Weight_in_lbs\": 3060, \"Year\": \"1982-01-01T00:00:00\"}, {\"Acceleration\": 16.6, \"Cylinders\": 6, \"Displacement\": 225.0, \"Horsepower\": 85.0, \"Miles_per_Gallon\": 17.6, \"Name\": \"chrysler lebaron salon\", \"Origin\": \"USA\", \"Weight_in_lbs\": 3465, \"Year\": \"1982-01-01T00:00:00\"}, {\"Acceleration\": 19.6, \"Cylinders\": 4, \"Displacement\": 112.0, \"Horsepower\": 88.0, \"Miles_per_Gallon\": 28.0, \"Name\": \"chevrolet cavalier\", \"Origin\": \"USA\", \"Weight_in_lbs\": 2605, \"Year\": \"1982-01-01T00:00:00\"}, {\"Acceleration\": 18.6, \"Cylinders\": 4, \"Displacement\": 112.0, \"Horsepower\": 88.0, \"Miles_per_Gallon\": 27.0, \"Name\": \"chevrolet cavalier wagon\", \"Origin\": \"USA\", \"Weight_in_lbs\": 2640, \"Year\": \"1982-01-01T00:00:00\"}, {\"Acceleration\": 18.0, \"Cylinders\": 4, \"Displacement\": 112.0, \"Horsepower\": 88.0, \"Miles_per_Gallon\": 34.0, \"Name\": \"chevrolet cavalier 2-door\", \"Origin\": \"USA\", \"Weight_in_lbs\": 2395, \"Year\": \"1982-01-01T00:00:00\"}, {\"Acceleration\": 16.2, \"Cylinders\": 4, \"Displacement\": 112.0, \"Horsepower\": 85.0, \"Miles_per_Gallon\": 31.0, \"Name\": \"pontiac j2000 se hatchback\", \"Origin\": \"USA\", \"Weight_in_lbs\": 2575, \"Year\": \"1982-01-01T00:00:00\"}, {\"Acceleration\": 16.0, \"Cylinders\": 4, \"Displacement\": 135.0, \"Horsepower\": 84.0, \"Miles_per_Gallon\": 29.0, \"Name\": \"dodge aries se\", \"Origin\": \"USA\", \"Weight_in_lbs\": 2525, \"Year\": \"1982-01-01T00:00:00\"}, {\"Acceleration\": 18.0, \"Cylinders\": 4, \"Displacement\": 151.0, \"Horsepower\": 90.0, \"Miles_per_Gallon\": 27.0, \"Name\": \"pontiac phoenix\", \"Origin\": \"USA\", \"Weight_in_lbs\": 2735, \"Year\": \"1982-01-01T00:00:00\"}, {\"Acceleration\": 16.4, \"Cylinders\": 4, \"Displacement\": 140.0, \"Horsepower\": 92.0, \"Miles_per_Gallon\": 24.0, \"Name\": \"ford fairmont futura\", \"Origin\": \"USA\", \"Weight_in_lbs\": 2865, \"Year\": \"1982-01-01T00:00:00\"}, {\"Acceleration\": 20.5, \"Cylinders\": 4, \"Displacement\": 151.0, \"Horsepower\": null, \"Miles_per_Gallon\": 23.0, \"Name\": \"amc concord dl\", \"Origin\": \"USA\", \"Weight_in_lbs\": 3035, \"Year\": \"1982-01-01T00:00:00\"}, {\"Acceleration\": 15.3, \"Cylinders\": 4, \"Displacement\": 105.0, \"Horsepower\": 74.0, \"Miles_per_Gallon\": 36.0, \"Name\": \"volkswagen rabbit l\", \"Origin\": \"Europe\", \"Weight_in_lbs\": 1980, \"Year\": \"1982-01-01T00:00:00\"}, {\"Acceleration\": 18.2, \"Cylinders\": 4, \"Displacement\": 91.0, \"Horsepower\": 68.0, \"Miles_per_Gallon\": 37.0, \"Name\": \"mazda glc custom l\", \"Origin\": \"Japan\", \"Weight_in_lbs\": 2025, \"Year\": \"1982-01-01T00:00:00\"}, {\"Acceleration\": 17.6, \"Cylinders\": 4, \"Displacement\": 91.0, \"Horsepower\": 68.0, \"Miles_per_Gallon\": 31.0, \"Name\": \"mazda glc custom\", \"Origin\": \"Japan\", \"Weight_in_lbs\": 1970, \"Year\": \"1982-01-01T00:00:00\"}, {\"Acceleration\": 14.7, \"Cylinders\": 4, \"Displacement\": 105.0, \"Horsepower\": 63.0, \"Miles_per_Gallon\": 38.0, \"Name\": \"plymouth horizon miser\", \"Origin\": \"USA\", \"Weight_in_lbs\": 2125, \"Year\": \"1982-01-01T00:00:00\"}, {\"Acceleration\": 17.3, \"Cylinders\": 4, \"Displacement\": 98.0, \"Horsepower\": 70.0, \"Miles_per_Gallon\": 36.0, \"Name\": \"mercury lynx l\", \"Origin\": \"USA\", \"Weight_in_lbs\": 2125, \"Year\": \"1982-01-01T00:00:00\"}, {\"Acceleration\": 14.5, \"Cylinders\": 4, \"Displacement\": 120.0, \"Horsepower\": 88.0, \"Miles_per_Gallon\": 36.0, \"Name\": \"nissan stanza xe\", \"Origin\": \"Japan\", \"Weight_in_lbs\": 2160, \"Year\": \"1982-01-01T00:00:00\"}, {\"Acceleration\": 14.5, \"Cylinders\": 4, \"Displacement\": 107.0, \"Horsepower\": 75.0, \"Miles_per_Gallon\": 36.0, \"Name\": \"honda Accelerationord\", \"Origin\": \"Japan\", \"Weight_in_lbs\": 2205, \"Year\": \"1982-01-01T00:00:00\"}, {\"Acceleration\": 16.9, \"Cylinders\": 4, \"Displacement\": 108.0, \"Horsepower\": 70.0, \"Miles_per_Gallon\": 34.0, \"Name\": \"toyota corolla\", \"Origin\": \"Japan\", \"Weight_in_lbs\": 2245, \"Year\": \"1982-01-01T00:00:00\"}, {\"Acceleration\": 15.0, \"Cylinders\": 4, \"Displacement\": 91.0, \"Horsepower\": 67.0, \"Miles_per_Gallon\": 38.0, \"Name\": \"honda civic\", \"Origin\": \"Japan\", \"Weight_in_lbs\": 1965, \"Year\": \"1982-01-01T00:00:00\"}, {\"Acceleration\": 15.7, \"Cylinders\": 4, \"Displacement\": 91.0, \"Horsepower\": 67.0, \"Miles_per_Gallon\": 32.0, \"Name\": \"honda civic (auto)\", \"Origin\": \"Japan\", \"Weight_in_lbs\": 1965, \"Year\": \"1982-01-01T00:00:00\"}, {\"Acceleration\": 16.2, \"Cylinders\": 4, \"Displacement\": 91.0, \"Horsepower\": 67.0, \"Miles_per_Gallon\": 38.0, \"Name\": \"datsun 310 gx\", \"Origin\": \"Japan\", \"Weight_in_lbs\": 1995, \"Year\": \"1982-01-01T00:00:00\"}, {\"Acceleration\": 16.4, \"Cylinders\": 6, \"Displacement\": 181.0, \"Horsepower\": 110.0, \"Miles_per_Gallon\": 25.0, \"Name\": \"buick century limited\", \"Origin\": \"USA\", \"Weight_in_lbs\": 2945, \"Year\": \"1982-01-01T00:00:00\"}, {\"Acceleration\": 17.0, \"Cylinders\": 6, \"Displacement\": 262.0, \"Horsepower\": 85.0, \"Miles_per_Gallon\": 38.0, \"Name\": \"oldsmobile cutlass ciera (diesel)\", \"Origin\": \"USA\", \"Weight_in_lbs\": 3015, \"Year\": \"1982-01-01T00:00:00\"}, {\"Acceleration\": 14.5, \"Cylinders\": 4, \"Displacement\": 156.0, \"Horsepower\": 92.0, \"Miles_per_Gallon\": 26.0, \"Name\": \"chrysler lebaron medallion\", \"Origin\": \"USA\", \"Weight_in_lbs\": 2585, \"Year\": \"1982-01-01T00:00:00\"}, {\"Acceleration\": 14.7, \"Cylinders\": 6, \"Displacement\": 232.0, \"Horsepower\": 112.0, \"Miles_per_Gallon\": 22.0, \"Name\": \"ford granada l\", \"Origin\": \"USA\", \"Weight_in_lbs\": 2835, \"Year\": \"1982-01-01T00:00:00\"}, {\"Acceleration\": 13.9, \"Cylinders\": 4, \"Displacement\": 144.0, \"Horsepower\": 96.0, \"Miles_per_Gallon\": 32.0, \"Name\": \"toyota celica gt\", \"Origin\": \"Japan\", \"Weight_in_lbs\": 2665, \"Year\": \"1982-01-01T00:00:00\"}, {\"Acceleration\": 13.0, \"Cylinders\": 4, \"Displacement\": 135.0, \"Horsepower\": 84.0, \"Miles_per_Gallon\": 36.0, \"Name\": \"dodge charger 2.2\", \"Origin\": \"USA\", \"Weight_in_lbs\": 2370, \"Year\": \"1982-01-01T00:00:00\"}, {\"Acceleration\": 17.3, \"Cylinders\": 4, \"Displacement\": 151.0, \"Horsepower\": 90.0, \"Miles_per_Gallon\": 27.0, \"Name\": \"chevrolet camaro\", \"Origin\": \"USA\", \"Weight_in_lbs\": 2950, \"Year\": \"1982-01-01T00:00:00\"}, {\"Acceleration\": 15.6, \"Cylinders\": 4, \"Displacement\": 140.0, \"Horsepower\": 86.0, \"Miles_per_Gallon\": 27.0, \"Name\": \"ford mustang gl\", \"Origin\": \"USA\", \"Weight_in_lbs\": 2790, \"Year\": \"1982-01-01T00:00:00\"}, {\"Acceleration\": 24.6, \"Cylinders\": 4, \"Displacement\": 97.0, \"Horsepower\": 52.0, \"Miles_per_Gallon\": 44.0, \"Name\": \"vw pickup\", \"Origin\": \"Europe\", \"Weight_in_lbs\": 2130, \"Year\": \"1982-01-01T00:00:00\"}, {\"Acceleration\": 11.6, \"Cylinders\": 4, \"Displacement\": 135.0, \"Horsepower\": 84.0, \"Miles_per_Gallon\": 32.0, \"Name\": \"dodge rampage\", \"Origin\": \"USA\", \"Weight_in_lbs\": 2295, \"Year\": \"1982-01-01T00:00:00\"}, {\"Acceleration\": 18.6, \"Cylinders\": 4, \"Displacement\": 120.0, \"Horsepower\": 79.0, \"Miles_per_Gallon\": 28.0, \"Name\": \"ford ranger\", \"Origin\": \"USA\", \"Weight_in_lbs\": 2625, \"Year\": \"1982-01-01T00:00:00\"}, {\"Acceleration\": 19.4, \"Cylinders\": 4, \"Displacement\": 119.0, \"Horsepower\": 82.0, \"Miles_per_Gallon\": 31.0, \"Name\": \"chevy s-10\", \"Origin\": \"USA\", \"Weight_in_lbs\": 2720, \"Year\": \"1982-01-01T00:00:00\"}]}};\n",
              "      var embedOpt = {\"mode\": \"vega-lite\"};\n",
              "\n",
              "      function showError(el, error){\n",
              "          el.innerHTML = ('<div class=\"error\" style=\"color:red;\">'\n",
              "                          + '<p>JavaScript Error: ' + error.message + '</p>'\n",
              "                          + \"<p>This usually means there's a typo in your chart specification. \"\n",
              "                          + \"See the javascript console for the full traceback.</p>\"\n",
              "                          + '</div>');\n",
              "          throw error;\n",
              "      }\n",
              "      const el = document.getElementById('altair-viz');\n",
              "      vegaEmbed(\"#altair-viz\", spec, embedOpt)\n",
              "        .catch(error => showError(el, error));\n",
              "\n",
              "  </script>\n",
              "</body>\n",
              "</html>"
            ]
          },
          "metadata": {
            "tags": []
          },
          "execution_count": 21
        }
      ]
    }
  ]
}