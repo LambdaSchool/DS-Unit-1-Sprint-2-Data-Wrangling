{
  "nbformat": 4,
  "nbformat_minor": 0,
  "metadata": {
    "colab": {
      "name": "Joseph_Shirk_LS_DS_123_Make_Explanatory_Visualizations_Assignment.ipynb",
      "provenance": [],
      "collapsed_sections": [],
      "include_colab_link": true
    },
    "language_info": {
      "codemirror_mode": {
        "name": "ipython",
        "version": 3
      },
      "file_extension": ".py",
      "mimetype": "text/x-python",
      "name": "python",
      "nbconvert_exporter": "python",
      "pygments_lexer": "ipython3",
      "version": "3.7.1"
    },
    "kernelspec": {
      "display_name": "Python 3",
      "language": "python",
      "name": "python3"
    }
  },
  "cells": [
    {
      "cell_type": "markdown",
      "metadata": {
        "id": "view-in-github",
        "colab_type": "text"
      },
      "source": [
        "<a href=\"https://colab.research.google.com/github/jbshirk/DS-Unit-1-Sprint-2-Data-Wrangling-and-Storytelling/blob/master/module3-make-explanatory-visualizations/Joseph_Shirk_LS_DS_123_Make_Explanatory_Visualizations_Assignment.ipynb\" target=\"_parent\"><img src=\"https://colab.research.google.com/assets/colab-badge.svg\" alt=\"Open In Colab\"/></a>"
      ]
    },
    {
      "cell_type": "markdown",
      "metadata": {
        "id": "E9yIBLVy4xjx",
        "colab_type": "text"
      },
      "source": [
        "## Save to\n",
        "module3-make-explanatory-visualizations/"
      ]
    },
    {
      "cell_type": "markdown",
      "metadata": {
        "colab_type": "text",
        "id": "NMEswXWh9mqw"
      },
      "source": [
        "# ASSIGNMENT\n",
        "\n",
        "### 1) Replicate the lesson code. I recommend that you [do not copy-paste](https://docs.google.com/document/d/1ubOw9B3Hfip27hF2ZFnW3a3z9xAgrUDRReOEo-FHCVs/edit).\n",
        "\n",
        "Get caught up to where we got our example in class and then try and take things further. How close to \"pixel perfect\" can you make the lecture graph?\n",
        "\n",
        "Once you have something that you're proud of, share your graph in the cohort channel and move on to the second exercise.\n",
        "\n",
        "### 2) Reproduce another example from [FiveThityEight's shared data repository](https://data.fivethirtyeight.com/).\n",
        "\n",
        "**WARNING**: There are a lot of very custom graphs and tables at the above link. I **highly** recommend not trying to reproduce any that look like a table of values or something really different from the graph types that we are already familiar with. Search through the posts until you find a graph type that you are more or less familiar with: histogram, bar chart, stacked bar chart, line chart, [seaborn relplot](https://seaborn.pydata.org/generated/seaborn.relplot.html), etc. Recreating some of the graphics that 538 uses would be a lot easier in Adobe photoshop/illustrator than with matplotlib. \n",
        "\n",
        "- If you put in some time to find a graph that looks \"easy\" to replicate you'll probably find that it's not as easy as you thought. \n",
        "\n",
        "- If you start with a graph that looks hard to replicate you'll probably run up against a brick wall and be disappointed with your afternoon.\n",
        "\n",
        "\n",
        "\n",
        "\n",
        "\n",
        "\n",
        "\n",
        "\n",
        "\n",
        "\n"
      ]
    },
    {
      "cell_type": "markdown",
      "metadata": {
        "id": "VtMInm3lBSZy",
        "colab_type": "text"
      },
      "source": [
        "https://stackoverflow.com/questions/43027980/purpose-of-matplotlib-inline"
      ]
    },
    {
      "cell_type": "code",
      "metadata": {
        "id": "_Yx9LbjbArkx",
        "colab_type": "code",
        "colab": {}
      },
      "source": [
        "\n",
        "%matplotlib inline\n"
      ],
      "execution_count": 0,
      "outputs": []
    },
    {
      "cell_type": "markdown",
      "metadata": {
        "id": "YUaPrtdteiw1",
        "colab_type": "text"
      },
      "source": [
        "# Replicate the lesson code"
      ]
    },
    {
      "cell_type": "code",
      "metadata": {
        "id": "7SY1ZHawyZvz",
        "colab_type": "code",
        "outputId": "cb64e03c-f2c6-4635-9c43-b450d922e869",
        "colab": {
          "base_uri": "https://localhost:8080/",
          "height": 355
        }
      },
      "source": [
        "from IPython.display import display, Image\n",
        "\n",
        "url = 'https://fivethirtyeight.com/wp-content/uploads/2017/09/mehtahickey-inconvenient-0830-1.png'\n",
        "example = Image(url=url, width=400)\n",
        "\n",
        "display(example)\n"
      ],
      "execution_count": 0,
      "outputs": [
        {
          "output_type": "display_data",
          "data": {
            "text/html": [
              "<img src=\"https://fivethirtyeight.com/wp-content/uploads/2017/09/mehtahickey-inconvenient-0830-1.png\" width=\"400\"/>"
            ],
            "text/plain": [
              "<IPython.core.display.Image object>"
            ]
          },
          "metadata": {
            "tags": []
          }
        }
      ]
    },
    {
      "cell_type": "markdown",
      "metadata": {
        "id": "7gne4mVmbAAL",
        "colab_type": "text"
      },
      "source": [
        "https://stackoverflow.com/questions/21489111/how-to-assign-a-plot-to-a-variable-and-use-the-variable-as-the-return-value-in-a#21489936"
      ]
    },
    {
      "cell_type": "code",
      "metadata": {
        "id": "gj-Wx6y3evMy",
        "colab_type": "code",
        "colab": {}
      },
      "source": [
        "# define a plotting function EXAMPLE\n",
        "import numpy as np\n",
        "import matplotlib.pyplot as plt\n",
        "\n",
        "def fig_barh(ylabels, xvalues, title=''):\n",
        "  # create a new figure\n",
        "  fig = plt.figure()\n",
        "\n",
        "  # plot to fig_barh\n",
        "  yvalues = 0.1 + np.arange(len(ylabels))\n",
        "  plt.barh(yvalues, xvalues, figure=fig)\n",
        "  yvalues += 0.4\n",
        "  plt.yticks(yvalues, ylabels, figure=fig)\n",
        "  if title:\n",
        "    plt.title(title, figure=fig)\n",
        "\n",
        "  return fig"
      ],
      "execution_count": 0,
      "outputs": []
    },
    {
      "cell_type": "code",
      "metadata": {
        "id": "za4RRTGFAByY",
        "colab_type": "code",
        "colab": {
          "base_uri": "https://localhost:8080/",
          "height": 545
        },
        "outputId": "0241f780-eadc-4c33-deec-76b5acea259e"
      },
      "source": [
        "# use a plotting function EXAMPLE\n",
        "from matplotlib.backends.backend_pdf import PdfPages\n",
        "\n",
        "def write_pdf(fname, figures):\n",
        "    doc = PdfPages(fname)\n",
        "    for fig in figures:\n",
        "        fig.savefig(doc, format='pdf')\n",
        "    doc.close()\n",
        "\n",
        "def main():\n",
        "    a = fig_barh(['a','b','c'], [1, 2, 3], 'Test #1')\n",
        "    b = fig_barh(['x','y','z'], [5, 3, 1], 'Test #2')\n",
        "    write_pdf('test.pdf', [a, b])\n",
        "\n",
        "if __name__==\"__main__\":\n",
        "    main()"
      ],
      "execution_count": 6,
      "outputs": [
        {
          "output_type": "display_data",
          "data": {
            "image/png": "[encoded data removed]",
            "text/plain": [
              "<Figure size 432x288 with 1 Axes>"
            ]
          },
          "metadata": {
            "tags": []
          }
        },
        {
          "output_type": "display_data",
          "data": {
            "image/png": "[encoded data removed]",
            "text/plain": [
              "<Figure size 432x288 with 1 Axes>"
            ]
          },
          "metadata": {
            "tags": []
          }
        }
      ]
    },
    {
      "cell_type": "code",
      "metadata": {
        "id": "AOe1bgAkBsI_",
        "colab_type": "code",
        "colab": {}
      },
      "source": [
        "import pandas as pd"
      ],
      "execution_count": 0,
      "outputs": []
    },
    {
      "cell_type": "code",
      "metadata": {
        "id": "0XHK-hYvCB7L",
        "colab_type": "code",
        "colab": {
          "base_uri": "https://localhost:8080/",
          "height": 285
        },
        "outputId": "3037fef8-795c-4903-b43e-ff1d63cc90d3"
      },
      "source": [
        "plt.style.use('fivethirtyeight')\n",
        "\n",
        "pumpkin = '#ff6633' \n",
        "# web safe alternative to '#ed713a'\n",
        "# https://www.color-hex.com/color/ed713a\n",
        "\n",
        "fake = pd.Series( \n",
        "    [38,3,2,1,2,4,6,5,5,33] , \n",
        "    index=range(1,11) \n",
        "    )\n",
        "\n",
        "fake.plot.bar(color=pumpkin,width=0.9); #eyedropper on Firefox works\n"
      ],
      "execution_count": 18,
      "outputs": [
        {
          "output_type": "display_data",
          "data": {
            "image/png": "[encoded data removed]",
            "text/plain": [
              "<Figure size 432x288 with 1 Axes>"
            ]
          },
          "metadata": {
            "tags": []
          }
        }
      ]
    },
    {
      "cell_type": "code",
      "metadata": {
        "id": "lDWgFcOjJ7pa",
        "colab_type": "code",
        "colab": {}
      },
      "source": [
        "# more fake data\n",
        "fake2 = pd.Series(\n",
        "    [1, 1, 1, 1, 1, 1, 1, 1, 1, 1, 1, 1, 1, 1, 1, 1, 1, 1, 1, 1, 1, 1, 1, 1,\n",
        "     2, 2, 2, \n",
        "     3, 3, 3,\n",
        "     4, 4,\n",
        "     5, 5, 5,\n",
        "     6, 6, 6, 6,\n",
        "     7, 7, 7, 7, 7,\n",
        "     8, 8, 8, 8,\n",
        "     9, 9, 9, 9, \n",
        "     10, 10, 10, 10, 10, 10, 10, 10, 10, 10, 10, 10, 10, 10, 10, 10, 10, 10])"
      ],
      "execution_count": 0,
      "outputs": []
    },
    {
      "cell_type": "code",
      "metadata": {
        "id": "0P5MrPWKT6GY",
        "colab_type": "code",
        "colab": {}
      },
      "source": [
        "fake2"
      ],
      "execution_count": 0,
      "outputs": []
    },
    {
      "cell_type": "code",
      "metadata": {
        "id": "ojePde2sKNnY",
        "colab_type": "code",
        "colab": {
          "base_uri": "https://localhost:8080/",
          "height": 214
        },
        "outputId": "c0418300-7cf0-414f-d2ab-a85f511fbe58"
      },
      "source": [
        "plt.style.use('fivethirtyeight')\n",
        "\n",
        "fake2.value_counts() #score, count of score"
      ],
      "execution_count": 15,
      "outputs": [
        {
          "output_type": "execute_result",
          "data": {
            "text/plain": [
              "1     24\n",
              "10    18\n",
              "7      5\n",
              "9      4\n",
              "8      4\n",
              "6      4\n",
              "5      3\n",
              "3      3\n",
              "2      3\n",
              "4      2\n",
              "dtype: int64"
            ]
          },
          "metadata": {
            "tags": []
          },
          "execution_count": 15
        }
      ]
    },
    {
      "cell_type": "code",
      "metadata": {
        "id": "oEJop9WeKwEZ",
        "colab_type": "code",
        "colab": {
          "base_uri": "https://localhost:8080/",
          "height": 214
        },
        "outputId": "56f2b7a3-be92-4092-cf76-8a07b83bc034"
      },
      "source": [
        "fake2.value_counts().sort_index()"
      ],
      "execution_count": 16,
      "outputs": [
        {
          "output_type": "execute_result",
          "data": {
            "text/plain": [
              "1     24\n",
              "2      3\n",
              "3      3\n",
              "4      2\n",
              "5      3\n",
              "6      4\n",
              "7      5\n",
              "8      4\n",
              "9      4\n",
              "10    18\n",
              "dtype: int64"
            ]
          },
          "metadata": {
            "tags": []
          },
          "execution_count": 16
        }
      ]
    },
    {
      "cell_type": "code",
      "metadata": {
        "id": "RWLN8uXyK7-A",
        "colab_type": "code",
        "colab": {
          "base_uri": "https://localhost:8080/",
          "height": 289
        },
        "outputId": "bfbf7325-4be4-4a8b-c8e3-9f157ced05e1"
      },
      "source": [
        "fake2.value_counts().sort_index().plot.bar(color=pumpkin,width=0.9);"
      ],
      "execution_count": 25,
      "outputs": [
        {
          "output_type": "display_data",
          "data": {
            "image/png": "[encoded data removed]",
            "text/plain": [
              "<Figure size 432x288 with 1 Axes>"
            ]
          },
          "metadata": {
            "tags": []
          }
        }
      ]
    },
    {
      "cell_type": "code",
      "metadata": {
        "id": "vd5WhsPUMsJm",
        "colab_type": "code",
        "colab": {}
      },
      "source": [
        "#def fig_538bar(ylabels, xvalues, title=''):\n",
        "def fig_538bar(yvalues,xvalues):\n",
        "  # create a new figure\n",
        "  fig = plt.figure()\n",
        "  fig.facecolor='white'\n",
        "\n",
        "  plt.style.use('fivethirtyeight')\n",
        "  barwidth=0.9\n",
        "  ylabels = list(range(0, 50, 10))\n",
        "\n",
        "  plt.xlabel('Rating', fontweight='bold')\n",
        "  plt.ylabel('Percent of total votes', fontweight='bold')\n",
        "  \n",
        "  title = '`An Inconvenient Sequal: Truth To Power` is divisive'\n",
        "  plt.title(title,\n",
        "          fontsize=12,\n",
        "          loc='left',\n",
        "          x=-0.1,\n",
        "          y=1.1,\n",
        "          fontweight='bold')\n",
        "\n",
        "  # plot to fig_bar\n",
        "  yvalues = 0.1 + np.arange(len(ylabels))\n",
        "  plt.bar(yvalues, xvalues, figure=fig, color=pumpkin, width=barwidth)\n",
        "  yvalues += 0.4\n",
        "  \n",
        "  #plt.yticks(yvalues, ylabels, figure=fig)\n",
        "  plt.yticks(ylabels, ylabels, figure=fig)\n",
        "\n",
        "  return fig"
      ],
      "execution_count": 0,
      "outputs": []
    },
    {
      "cell_type": "code",
      "metadata": {
        "id": "sPSV7FbSPLkB",
        "colab_type": "code",
        "colab": {
          "base_uri": "https://localhost:8080/",
          "height": 661
        },
        "outputId": "98e9d9b9-126d-4f80-f9eb-96d59c3b000f"
      },
      "source": [
        "\n",
        "\n",
        "fig_538bar(['a','b','c'], [1, 2, 3])#, title) #works but repeats once\n",
        "#fig_538bar(ylabels,fake2.value_counts().sort_index(), title) #shape mismatch\n",
        "#fig_538bar(fake2.value_counts().sort_index())"
      ],
      "execution_count": 58,
      "outputs": [
        {
          "output_type": "error",
          "ename": "TypeError",
          "evalue": "ignored",
          "traceback": [
            "\u001b[0;31m---------------------------------------------------------------------------\u001b[0m",
            "\u001b[0;31mTypeError\u001b[0m                                 Traceback (most recent call last)",
            "\u001b[0;32m<ipython-input-58-f0479fcf6644>\u001b[0m in \u001b[0;36m<module>\u001b[0;34m()\u001b[0m\n\u001b[1;32m      1\u001b[0m \u001b[0;34m\u001b[0m\u001b[0m\n\u001b[1;32m      2\u001b[0m \u001b[0;34m\u001b[0m\u001b[0m\n\u001b[0;32m----> 3\u001b[0;31m \u001b[0mfig_538bar\u001b[0m\u001b[0;34m(\u001b[0m\u001b[0;34m[\u001b[0m\u001b[0;34m'a'\u001b[0m\u001b[0;34m,\u001b[0m\u001b[0;34m'b'\u001b[0m\u001b[0;34m,\u001b[0m\u001b[0;34m'c'\u001b[0m\u001b[0;34m]\u001b[0m\u001b[0;34m,\u001b[0m \u001b[0;34m[\u001b[0m\u001b[0;36m1\u001b[0m\u001b[0;34m,\u001b[0m \u001b[0;36m2\u001b[0m\u001b[0;34m,\u001b[0m \u001b[0;36m3\u001b[0m\u001b[0;34m]\u001b[0m\u001b[0;34m)\u001b[0m\u001b[0;31m#, title) #works but repeats once\u001b[0m\u001b[0;34m\u001b[0m\u001b[0;34m\u001b[0m\u001b[0m\n\u001b[0m\u001b[1;32m      4\u001b[0m \u001b[0;31m#fig_538bar(ylabels,fake2.value_counts().sort_index(), title) #shape mismatch\u001b[0m\u001b[0;34m\u001b[0m\u001b[0;34m\u001b[0m\u001b[0;34m\u001b[0m\u001b[0m\n\u001b[1;32m      5\u001b[0m \u001b[0;31m#fig_538bar(fake2.value_counts().sort_index())\u001b[0m\u001b[0;34m\u001b[0m\u001b[0;34m\u001b[0m\u001b[0;34m\u001b[0m\u001b[0m\n",
            "\u001b[0;32m<ipython-input-57-75906c35cdce>\u001b[0m in \u001b[0;36mfig_538bar\u001b[0;34m(yvalues, xvalues)\u001b[0m\n\u001b[1;32m     17\u001b[0m           \u001b[0mx\u001b[0m\u001b[0;34m=\u001b[0m\u001b[0;34m-\u001b[0m\u001b[0;36m0.1\u001b[0m\u001b[0;34m,\u001b[0m\u001b[0;34m\u001b[0m\u001b[0;34m\u001b[0m\u001b[0m\n\u001b[1;32m     18\u001b[0m           \u001b[0my\u001b[0m\u001b[0;34m=\u001b[0m\u001b[0;36m1.1\u001b[0m\u001b[0;34m,\u001b[0m\u001b[0;34m\u001b[0m\u001b[0;34m\u001b[0m\u001b[0m\n\u001b[0;32m---> 19\u001b[0;31m           fontweight='bold')\n\u001b[0m\u001b[1;32m     20\u001b[0m \u001b[0;34m\u001b[0m\u001b[0m\n\u001b[1;32m     21\u001b[0m   \u001b[0;31m# plot to fig_bar\u001b[0m\u001b[0;34m\u001b[0m\u001b[0;34m\u001b[0m\u001b[0;34m\u001b[0m\u001b[0m\n",
            "\u001b[0;31mTypeError\u001b[0m: 'str' object is not callable"
          ]
        },
        {
          "output_type": "display_data",
          "data": {
            "image/png": "[encoded data removed]",
            "text/plain": [
              "<Figure size 432x288 with 1 Axes>"
            ]
          },
          "metadata": {
            "tags": []
          }
        }
      ]
    },
    {
      "cell_type": "markdown",
      "metadata": {
        "id": "nfoNlTkdZZkf",
        "colab_type": "text"
      },
      "source": [
        "Abandonging for now"
      ]
    },
    {
      "cell_type": "code",
      "metadata": {
        "id": "ZmKrHXGdZe2a",
        "colab_type": "code",
        "colab": {
          "base_uri": "https://localhost:8080/",
          "height": 359
        },
        "outputId": "9f17f141-e664-4460-c2c4-45c8ece805cd"
      },
      "source": [
        "pltdata = fake2.value_counts().sort_index()\n",
        "fig = plt.figure(facecolor='white', figsize=(5, 4))\n",
        "thistitle = 'An Inconvenient Sequal: Truth to Power is divisive'\n",
        "ax = pltdata.sort_index().plot.bar(color=pumpkin,width=0.9);\n",
        "ax.set(facecolor='white')\n",
        "\n",
        "plt.xlabel('Rating', fontweight='bold')\n",
        "plt.ylabel('Percent of total votes', fontweight='bold')\n",
        "#plt.title(thistitle, fontsize=12,loc='left',x=-0.1,y=1.1,fontweight='bold')\n",
        "plt.text(x=-1.7, y=pltdata.max() + 4, s='IMDb ratings for the film as of Aug. 29',fontsize=10)\n"
      ],
      "execution_count": 72,
      "outputs": [
        {
          "output_type": "execute_result",
          "data": {
            "text/plain": [
              "Text(-1.7, 28, 'IMDb ratings for the film as of Aug. 29')"
            ]
          },
          "metadata": {
            "tags": []
          },
          "execution_count": 72
        },
        {
          "output_type": "display_data",
          "data": {
            "image/png": "[encoded data removed]",
            "text/plain": [
              "<Figure size 360x288 with 1 Axes>"
            ]
          },
          "metadata": {
            "tags": []
          }
        }
      ]
    },
    {
      "cell_type": "markdown",
      "metadata": {
        "id": "sleLFynCexZV",
        "colab_type": "text"
      },
      "source": [
        "# Reproduce another example from [FiveThityEight's shared data repository](https://data.fivethirtyeight.com/).\n"
      ]
    },
    {
      "cell_type": "code",
      "metadata": {
        "id": "yjfddCbce0-V",
        "colab_type": "code",
        "colab": {}
      },
      "source": [
        "plt.style.available"
      ],
      "execution_count": 0,
      "outputs": []
    },
    {
      "cell_type": "markdown",
      "metadata": {
        "id": "0wSrBzmJyWaV",
        "colab_type": "text"
      },
      "source": [
        "# STRETCH OPTIONS\n",
        "\n",
        "### 1) Reproduce one of the following using the matplotlib or seaborn libraries:\n",
        "\n",
        "- [thanksgiving-2015](https://fivethirtyeight.com/features/heres-what-your-part-of-america-eats-on-thanksgiving/) \n",
        "- [candy-power-ranking](https://fivethirtyeight.com/features/the-ultimate-halloween-candy-power-ranking/) \n",
        "- or another example of your choice!\n",
        "\n",
        "### 2) Make more charts!\n",
        "\n",
        "Choose a chart you want to make, from [Visual Vocabulary - Vega Edition](http://ft.com/vocabulary).\n",
        "\n",
        "Find the chart in an example gallery of a Python data visualization library:\n",
        "- [Seaborn](http://seaborn.pydata.org/examples/index.html)\n",
        "- [Altair](https://altair-viz.github.io/gallery/index.html)\n",
        "- [Matplotlib](https://matplotlib.org/gallery.html)\n",
        "- [Pandas](https://pandas.pydata.org/pandas-docs/stable/visualization.html)\n",
        "\n",
        "Reproduce the chart. [Optionally, try the \"Ben Franklin Method.\"](https://docs.google.com/document/d/1ubOw9B3Hfip27hF2ZFnW3a3z9xAgrUDRReOEo-FHCVs/edit) If you want, experiment and make changes.\n",
        "\n",
        "Take notes. Consider sharing your work with your cohort!"
      ]
    },
    {
      "cell_type": "code",
      "metadata": {
        "id": "dRJkKftiy5BJ",
        "colab_type": "code",
        "colab": {}
      },
      "source": [
        "# More Work Here"
      ],
      "execution_count": 0,
      "outputs": []
    }
  ]
}