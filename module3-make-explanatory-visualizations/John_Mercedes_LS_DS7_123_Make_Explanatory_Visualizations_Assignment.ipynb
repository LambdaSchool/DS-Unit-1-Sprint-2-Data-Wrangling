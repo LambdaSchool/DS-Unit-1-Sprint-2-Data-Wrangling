{
  "nbformat": 4,
  "nbformat_minor": 0,
  "metadata": {
    "colab": {
      "name": "John Mercedes - LS_DS7_123_Make_Explanatory_Visualizations_Assignment.ipynb ",
      "version": "0.3.2",
      "provenance": [],
      "collapsed_sections": [],
      "include_colab_link": true
    },
    "language_info": {
      "codemirror_mode": {
        "name": "ipython",
        "version": 3
      },
      "file_extension": ".py",
      "mimetype": "text/x-python",
      "name": "python",
      "nbconvert_exporter": "python",
      "pygments_lexer": "ipython3",
      "version": "3.7.1"
    },
    "kernelspec": {
      "display_name": "Python 3",
      "language": "python",
      "name": "python3"
    }
  },
  "cells": [
    {
      "cell_type": "markdown",
      "metadata": {
        "id": "view-in-github",
        "colab_type": "text"
      },
      "source": [
        "<a href=\"https://colab.research.google.com/github/Johann-DS7/DS-Unit-1-Sprint-2-Data-Wrangling-and-Storytelling/blob/master/module3-make-explanatory-visualizations/John_Mercedes_LS_DS7_123_Make_Explanatory_Visualizations_Assignment.ipynb\" target=\"_parent\"><img src=\"https://colab.research.google.com/assets/colab-badge.svg\" alt=\"Open In Colab\"/></a>"
      ]
    },
    {
      "cell_type": "markdown",
      "metadata": {
        "colab_type": "text",
        "id": "NMEswXWh9mqw"
      },
      "source": [
        "# ASSIGNMENT\n",
        "\n",
        "### 1) Replicate the lesson code. I recommend that you [do not copy-paste](https://docs.google.com/document/d/1ubOw9B3Hfip27hF2ZFnW3a3z9xAgrUDRReOEo-FHCVs/edit).\n",
        "\n",
        "### 2) Reproduce one of the following using the matplotlib or seaborn libraries:\n",
        "\n",
        "- [thanksgiving-2015](https://fivethirtyeight.com/features/heres-what-your-part-of-america-eats-on-thanksgiving/) (try the [`altair`](https://altair-viz.github.io/gallery/index.html#maps) library)\n",
        "- [candy-power-ranking](https://fivethirtyeight.com/features/the-ultimate-halloween-candy-power-ranking/) (try the [`statsmodels`](https://www.statsmodels.org/stable/index.html) library)\n",
        "- or another example of your choice!\n",
        "\n",
        "\n",
        "\n",
        "\n",
        "\n",
        "\n",
        "\n",
        "\n",
        "\n"
      ]
    },
    {
      "cell_type": "markdown",
      "metadata": {
        "id": "VWcfYTA800Z5",
        "colab_type": "text"
      },
      "source": [
        "# **Replicating lesson code**"
      ]
    },
    {
      "cell_type": "code",
      "metadata": {
        "id": "7SY1ZHawyZvz",
        "colab_type": "code",
        "colab": {
          "base_uri": "https://localhost:8080/",
          "height": 355
        },
        "outputId": "1dbf11fe-aec1-474a-d302-9622ff6a9e24"
      },
      "source": [
        "# sample\n",
        "\n",
        "from IPython.display import display, Image\n",
        "\n",
        "url = 'https://fivethirtyeight.com/wp-content/uploads/2017/09/mehtahickey-inconvenient-0830-1.png'\n",
        "example = Image(url=url, width=400)\n",
        "\n",
        "display(example)"
      ],
      "execution_count": 1,
      "outputs": [
        {
          "output_type": "display_data",
          "data": {
            "text/html": [
              "<img src=\"https://fivethirtyeight.com/wp-content/uploads/2017/09/mehtahickey-inconvenient-0830-1.png\" width=\"400\"/>"
            ],
            "text/plain": [
              "<IPython.core.display.Image object>"
            ]
          },
          "metadata": {
            "tags": []
          }
        }
      ]
    },
    {
      "cell_type": "code",
      "metadata": {
        "id": "od_PH7DC13hc",
        "colab_type": "code",
        "colab": {
          "base_uri": "https://localhost:8080/",
          "height": 271
        },
        "outputId": "0a413c4e-f908-4708-e2c1-e6a8ee0933d0"
      },
      "source": [
        "import matplotlib.pyplot as plt\n",
        "import numpy as np\n",
        "import pandas as pd\n",
        "\n",
        "# .series = One-dimensional ndarray with axis labels (including time series).\n",
        "fake_data = pd.Series([38, 3, 2, 1, 2, 4, 6, 5, 5, 33],\n",
        "                     index=range(1,11))\n",
        "\n",
        "fake_data.plot.bar(color='C1', width=.9);"
      ],
      "execution_count": 2,
      "outputs": [
        {
          "output_type": "display_data",
          "data": {
            "image/png": "[encoded data removed]",
            "text/plain": [
              "<Figure size 432x288 with 1 Axes>"
            ]
          },
          "metadata": {
            "tags": []
          }
        }
      ]
    },
    {
      "cell_type": "code",
      "metadata": {
        "id": "5b0O1H449Gz-",
        "colab_type": "code",
        "colab": {
          "base_uri": "https://localhost:8080/",
          "height": 271
        },
        "outputId": "bdc1bc15-05af-4969-e55d-9a1e96340642"
      },
      "source": [
        "fake_data_two = pd.Series(\n",
        "    [1, 1, 1, 1, 1, 1, 1, 1, 1, 1, 1, 1, 1, 1, 1, 1, 1, 1, 1, 1, 1, 1, 1, 1,\n",
        "     2, 2, 2, \n",
        "     3, 3, 3,\n",
        "     4, 4,\n",
        "     5, 5, 5,\n",
        "     6, 6, 6, 6,\n",
        "     7, 7, 7, 7, 7,\n",
        "     8, 8, 8, 8,\n",
        "     9, 9, 9, 9, \n",
        "     10, 10, 10, 10, 10, 10, 10, 10, 10, 10, 10, 10, 10, 10, 10, 10, 10, 10])\n",
        "\n",
        "fake_data_two.value_counts().sort_index().plot.bar(color='C1', width=.9);"
      ],
      "execution_count": 3,
      "outputs": [
        {
          "output_type": "display_data",
          "data": {
            "image/png": "[encoded data removed]",
            "text/plain": [
              "<Figure size 432x288 with 1 Axes>"
            ]
          },
          "metadata": {
            "tags": []
          }
        }
      ]
    },
    {
      "cell_type": "code",
      "metadata": {
        "id": "5xxZ1paU-XGL",
        "colab_type": "code",
        "colab": {
          "base_uri": "https://localhost:8080/",
          "height": 324
        },
        "outputId": "94641023-2e5f-4cbb-b369-0b0fce26a404"
      },
      "source": [
        "plt.style.use('fivethirtyeight')\n",
        "\n",
        "# Create a new figure.\n",
        "figure = plt.figure()\n",
        "\n",
        "# .patch = The top level container for all the plot elements.\n",
        "figure.patch.set(facecolor='white')\n",
        "\n",
        "axes = fake_data.plot.bar(color='#ED713A', width=.9)\n",
        "axes.set(facecolor='white')\n",
        "# .set_alpha = Set the alpha value used for blending\n",
        "# axis.patch.set_alpha(.1)\n",
        "\n",
        "# Text\n",
        "# Srange bug for .title. I kept getting 'str' not callable. Reset and run all runtime fixed this. \n",
        "# Highly counter intuitive\n",
        "# Font style is still off\n",
        "plt.title(\"IMDb ratings for the film as of Aug. 29\", fontsize=10, x=0.19)\n",
        "plt.suptitle(\"'An Inconvenient Sequel: Truth To Power' is divisive\", fontsize=13, fontweight='bold', x=.46)\n",
        "\n",
        "# Ticks\n",
        "axes.set_xticklabels(range(1,11,1), rotation=0)\n",
        "axes.set_yticks(range(0,50,10))\n",
        "axes.set_yticklabels(range(0,50,10))\n",
        "\n",
        "# Trying to get percentage sign on 40 only\n",
        "y_value = ['{:,.0f}'.format(x) + '%' for x in axis.get_yticks()]\n",
        "axes.set_yticklabels(y_value)\n",
        "\n",
        "plt.xlabel(\"Rating\", fontsize=10, fontweight=\"bold\")\n",
        "plt.ylabel(\"Percent of Total Votes\", fontsize='10', fontweight='bold')\n",
        "\n",
        "\n",
        "plt.show()\n",
        "\n",
        "# Close...Stil have to figure out how to put a single percentage 40 only. "
      ],
      "execution_count": 77,
      "outputs": [
        {
          "output_type": "display_data",
          "data": {
            "image/png": "[encoded data removed]",
            "text/plain": [
              "<Figure size 432x288 with 1 Axes>"
            ]
          },
          "metadata": {
            "tags": []
          }
        }
      ]
    },
    {
      "cell_type": "markdown",
      "metadata": {
        "id": "B7o1u0NteMoY",
        "colab_type": "text"
      },
      "source": [
        "# Reproduce one of the following using the matplotlib or seaborn libraries:"
      ]
    },
    {
      "cell_type": "code",
      "metadata": {
        "id": "0ksUcG-0eTN7",
        "colab_type": "code",
        "colab": {
          "base_uri": "https://localhost:8080/",
          "height": 377
        },
        "outputId": "e042e1c4-53c9-45c0-9dbf-e3a49eda0144"
      },
      "source": [
        "url = 'https://fivethirtyeight.com/wp-content/uploads/2015/11/hickey-side-dish-1.png?w=575'\n",
        "turkey_example = Image(url=url, width=400)\n",
        "\n",
        "display(turkey_example)"
      ],
      "execution_count": 75,
      "outputs": [
        {
          "output_type": "display_data",
          "data": {
            "text/html": [
              "<img src=\"https://fivethirtyeight.com/wp-content/uploads/2015/11/hickey-side-dish-1.png?w=575\" width=\"400\"/>"
            ],
            "text/plain": [
              "<IPython.core.display.Image object>"
            ]
          },
          "metadata": {
            "tags": []
          }
        }
      ]
    },
    {
      "cell_type": "code",
      "metadata": {
        "id": "QY9EuUlteth1",
        "colab_type": "code",
        "colab": {
          "base_uri": "https://localhost:8080/",
          "height": 671
        },
        "outputId": "e3bd1480-6893-4dc9-90c2-5baefd626d67"
      },
      "source": [
        "df = pd.read_csv('https://raw.githubusercontent.com/fivethirtyeight/data/master/thanksgiving-2015/thanksgiving-2015-poll-data.csv')\n",
        "print(df.shape)\n",
        "df.head()\n",
        "\n",
        "# Need US Region. \n",
        "# Need Side Dishes\n",
        "\n"
      ],
      "execution_count": 83,
      "outputs": [
        {
          "output_type": "stream",
          "text": [
            "(1058, 65)\n"
          ],
          "name": "stdout"
        },
        {
          "output_type": "execute_result",
          "data": {
            "text/html": [
              "<div>\n",
              "<style scoped>\n",
              "    .dataframe tbody tr th:only-of-type {\n",
              "        vertical-align: middle;\n",
              "    }\n",
              "\n",
              "    .dataframe tbody tr th {\n",
              "        vertical-align: top;\n",
              "    }\n",
              "\n",
              "    .dataframe thead th {\n",
              "        text-align: right;\n",
              "    }\n",
              "</style>\n",
              "<table border=\"1\" class=\"dataframe\">\n",
              "  <thead>\n",
              "    <tr style=\"text-align: right;\">\n",
              "      <th></th>\n",
              "      <th>RespondentID</th>\n",
              "      <th>Do you celebrate Thanksgiving?</th>\n",
              "      <th>What is typically the main dish at your Thanksgiving dinner?</th>\n",
              "      <th>What is typically the main dish at your Thanksgiving dinner? - Other (please specify)</th>\n",
              "      <th>How is the main dish typically cooked?</th>\n",
              "      <th>How is the main dish typically cooked? - Other (please specify)</th>\n",
              "      <th>What kind of stuffing/dressing do you typically have?</th>\n",
              "      <th>What kind of stuffing/dressing do you typically have? - Other (please specify)</th>\n",
              "      <th>What type of cranberry saucedo you typically have?</th>\n",
              "      <th>What type of cranberry saucedo you typically have? - Other (please specify)</th>\n",
              "      <th>Do you typically have gravy?</th>\n",
              "      <th>Which of these side dishes aretypically served at your Thanksgiving dinner? Please select all that apply. - Brussel sprouts</th>\n",
              "      <th>Which of these side dishes aretypically served at your Thanksgiving dinner? Please select all that apply. - Carrots</th>\n",
              "      <th>Which of these side dishes aretypically served at your Thanksgiving dinner? Please select all that apply. - Cauliflower</th>\n",
              "      <th>Which of these side dishes aretypically served at your Thanksgiving dinner? Please select all that apply. - Corn</th>\n",
              "      <th>Which of these side dishes aretypically served at your Thanksgiving dinner? Please select all that apply. - Cornbread</th>\n",
              "      <th>Which of these side dishes aretypically served at your Thanksgiving dinner? Please select all that apply. - Fruit salad</th>\n",
              "      <th>Which of these side dishes aretypically served at your Thanksgiving dinner? Please select all that apply. - Green beans/green bean casserole</th>\n",
              "      <th>Which of these side dishes aretypically served at your Thanksgiving dinner? Please select all that apply. - Macaroni and cheese</th>\n",
              "      <th>Which of these side dishes aretypically served at your Thanksgiving dinner? Please select all that apply. - Mashed potatoes</th>\n",
              "      <th>Which of these side dishes aretypically served at your Thanksgiving dinner? Please select all that apply. - Rolls/biscuits</th>\n",
              "      <th>Which of these side dishes aretypically served at your Thanksgiving dinner? Please select all that apply. - Squash</th>\n",
              "      <th>Which of these side dishes aretypically served at your Thanksgiving dinner? Please select all that apply. - Vegetable salad</th>\n",
              "      <th>Which of these side dishes aretypically served at your Thanksgiving dinner? Please select all that apply. - Yams/sweet potato casserole</th>\n",
              "      <th>Which of these side dishes aretypically served at your Thanksgiving dinner? Please select all that apply. - Other (please specify)</th>\n",
              "      <th>Which of these side dishes aretypically served at your Thanksgiving dinner? Please select all that apply. - Other (please specify).1</th>\n",
              "      <th>Which type of pie is typically served at your Thanksgiving dinner? Please select all that apply. - Apple</th>\n",
              "      <th>Which type of pie is typically served at your Thanksgiving dinner? Please select all that apply. - Buttermilk</th>\n",
              "      <th>Which type of pie is typically served at your Thanksgiving dinner? Please select all that apply. - Cherry</th>\n",
              "      <th>Which type of pie is typically served at your Thanksgiving dinner? Please select all that apply. - Chocolate</th>\n",
              "      <th>Which type of pie is typically served at your Thanksgiving dinner? Please select all that apply. - Coconut cream</th>\n",
              "      <th>Which type of pie is typically served at your Thanksgiving dinner? Please select all that apply. - Key lime</th>\n",
              "      <th>Which type of pie is typically served at your Thanksgiving dinner? Please select all that apply. - Peach</th>\n",
              "      <th>Which type of pie is typically served at your Thanksgiving dinner? Please select all that apply. - Pecan</th>\n",
              "      <th>Which type of pie is typically served at your Thanksgiving dinner? Please select all that apply. - Pumpkin</th>\n",
              "      <th>Which type of pie is typically served at your Thanksgiving dinner? Please select all that apply. - Sweet Potato</th>\n",
              "      <th>Which type of pie is typically served at your Thanksgiving dinner? Please select all that apply. - None</th>\n",
              "      <th>Which type of pie is typically served at your Thanksgiving dinner? Please select all that apply. - Other (please specify)</th>\n",
              "      <th>Which type of pie is typically served at your Thanksgiving dinner? Please select all that apply. - Other (please specify).1</th>\n",
              "      <th>Which of these desserts do you typically have at Thanksgiving dinner? Please select all that apply.   - Apple cobbler</th>\n",
              "      <th>Which of these desserts do you typically have at Thanksgiving dinner? Please select all that apply.   - Blondies</th>\n",
              "      <th>Which of these desserts do you typically have at Thanksgiving dinner? Please select all that apply.   - Brownies</th>\n",
              "      <th>Which of these desserts do you typically have at Thanksgiving dinner? Please select all that apply.   - Carrot cake</th>\n",
              "      <th>Which of these desserts do you typically have at Thanksgiving dinner? Please select all that apply.   - Cheesecake</th>\n",
              "      <th>Which of these desserts do you typically have at Thanksgiving dinner? Please select all that apply.   - Cookies</th>\n",
              "      <th>Which of these desserts do you typically have at Thanksgiving dinner? Please select all that apply.   - Fudge</th>\n",
              "      <th>Which of these desserts do you typically have at Thanksgiving dinner? Please select all that apply.   - Ice cream</th>\n",
              "      <th>Which of these desserts do you typically have at Thanksgiving dinner? Please select all that apply.   - Peach cobbler</th>\n",
              "      <th>Which of these desserts do you typically have at Thanksgiving dinner? Please select all that apply.   - None</th>\n",
              "      <th>Which of these desserts do you typically have at Thanksgiving dinner? Please select all that apply.   - Other (please specify)</th>\n",
              "      <th>Which of these desserts do you typically have at Thanksgiving dinner? Please select all that apply.   - Other (please specify).1</th>\n",
              "      <th>Do you typically pray before or after the Thanksgiving meal?</th>\n",
              "      <th>How far will you travel for Thanksgiving?</th>\n",
              "      <th>Will you watch any of the following programs on Thanksgiving? Please select all that apply. - Macy's Parade</th>\n",
              "      <th>What's the age cutoff at your \"kids' table\" at Thanksgiving?</th>\n",
              "      <th>Have you ever tried to meet up with hometown friends on Thanksgiving night?</th>\n",
              "      <th>Have you ever attended a \"Friendsgiving?\"</th>\n",
              "      <th>Will you shop any Black Friday sales on Thanksgiving Day?</th>\n",
              "      <th>Do you work in retail?</th>\n",
              "      <th>Will you employer make you work on Black Friday?</th>\n",
              "      <th>How would you describe where you live?</th>\n",
              "      <th>Age</th>\n",
              "      <th>What is your gender?</th>\n",
              "      <th>How much total combined money did all members of your HOUSEHOLD earn last year?</th>\n",
              "      <th>US Region</th>\n",
              "    </tr>\n",
              "  </thead>\n",
              "  <tbody>\n",
              "    <tr>\n",
              "      <th>0</th>\n",
              "      <td>4337954960</td>\n",
              "      <td>Yes</td>\n",
              "      <td>Turkey</td>\n",
              "      <td>NaN</td>\n",
              "      <td>Baked</td>\n",
              "      <td>NaN</td>\n",
              "      <td>Bread-based</td>\n",
              "      <td>NaN</td>\n",
              "      <td>None</td>\n",
              "      <td>NaN</td>\n",
              "      <td>Yes</td>\n",
              "      <td>NaN</td>\n",
              "      <td>Carrots</td>\n",
              "      <td>NaN</td>\n",
              "      <td>NaN</td>\n",
              "      <td>NaN</td>\n",
              "      <td>NaN</td>\n",
              "      <td>Green beans/green bean casserole</td>\n",
              "      <td>Macaroni and cheese</td>\n",
              "      <td>Mashed potatoes</td>\n",
              "      <td>NaN</td>\n",
              "      <td>NaN</td>\n",
              "      <td>NaN</td>\n",
              "      <td>Yams/sweet potato casserole</td>\n",
              "      <td>NaN</td>\n",
              "      <td>NaN</td>\n",
              "      <td>Apple</td>\n",
              "      <td>NaN</td>\n",
              "      <td>NaN</td>\n",
              "      <td>NaN</td>\n",
              "      <td>NaN</td>\n",
              "      <td>NaN</td>\n",
              "      <td>NaN</td>\n",
              "      <td>NaN</td>\n",
              "      <td>NaN</td>\n",
              "      <td>NaN</td>\n",
              "      <td>NaN</td>\n",
              "      <td>NaN</td>\n",
              "      <td>NaN</td>\n",
              "      <td>NaN</td>\n",
              "      <td>NaN</td>\n",
              "      <td>NaN</td>\n",
              "      <td>NaN</td>\n",
              "      <td>Cheesecake</td>\n",
              "      <td>Cookies</td>\n",
              "      <td>NaN</td>\n",
              "      <td>Ice cream</td>\n",
              "      <td>NaN</td>\n",
              "      <td>NaN</td>\n",
              "      <td>NaN</td>\n",
              "      <td>NaN</td>\n",
              "      <td>Yes</td>\n",
              "      <td>Thanksgiving is local--it will take place in t...</td>\n",
              "      <td>NaN</td>\n",
              "      <td>12</td>\n",
              "      <td>Yes</td>\n",
              "      <td>No</td>\n",
              "      <td>No</td>\n",
              "      <td>No</td>\n",
              "      <td>NaN</td>\n",
              "      <td>Suburban</td>\n",
              "      <td>18 - 29</td>\n",
              "      <td>Male</td>\n",
              "      <td>$75,000 to $99,999</td>\n",
              "      <td>Middle Atlantic</td>\n",
              "    </tr>\n",
              "    <tr>\n",
              "      <th>1</th>\n",
              "      <td>4337951949</td>\n",
              "      <td>Yes</td>\n",
              "      <td>Turkey</td>\n",
              "      <td>NaN</td>\n",
              "      <td>Baked</td>\n",
              "      <td>NaN</td>\n",
              "      <td>Bread-based</td>\n",
              "      <td>NaN</td>\n",
              "      <td>Other (please specify)</td>\n",
              "      <td>Homemade cranberry gelatin ring</td>\n",
              "      <td>Yes</td>\n",
              "      <td>NaN</td>\n",
              "      <td>NaN</td>\n",
              "      <td>NaN</td>\n",
              "      <td>Corn</td>\n",
              "      <td>NaN</td>\n",
              "      <td>NaN</td>\n",
              "      <td>Green beans/green bean casserole</td>\n",
              "      <td>Macaroni and cheese</td>\n",
              "      <td>Mashed potatoes</td>\n",
              "      <td>Rolls/biscuits</td>\n",
              "      <td>NaN</td>\n",
              "      <td>Vegetable salad</td>\n",
              "      <td>Yams/sweet potato casserole</td>\n",
              "      <td>Other (please specify)</td>\n",
              "      <td>Asian vinagrette salad</td>\n",
              "      <td>Apple</td>\n",
              "      <td>NaN</td>\n",
              "      <td>NaN</td>\n",
              "      <td>Chocolate</td>\n",
              "      <td>NaN</td>\n",
              "      <td>NaN</td>\n",
              "      <td>NaN</td>\n",
              "      <td>NaN</td>\n",
              "      <td>Pumpkin</td>\n",
              "      <td>NaN</td>\n",
              "      <td>NaN</td>\n",
              "      <td>Other (please specify)</td>\n",
              "      <td>Derby, Japanese fruit</td>\n",
              "      <td>NaN</td>\n",
              "      <td>NaN</td>\n",
              "      <td>NaN</td>\n",
              "      <td>NaN</td>\n",
              "      <td>Cheesecake</td>\n",
              "      <td>Cookies</td>\n",
              "      <td>NaN</td>\n",
              "      <td>NaN</td>\n",
              "      <td>NaN</td>\n",
              "      <td>NaN</td>\n",
              "      <td>Other (please specify)</td>\n",
              "      <td>Jelly roll, sweet cheeseball, chocolate dipped...</td>\n",
              "      <td>Yes</td>\n",
              "      <td>Thanksgiving is out of town but not too far--i...</td>\n",
              "      <td>NaN</td>\n",
              "      <td>19</td>\n",
              "      <td>No</td>\n",
              "      <td>No</td>\n",
              "      <td>Yes</td>\n",
              "      <td>No</td>\n",
              "      <td>NaN</td>\n",
              "      <td>Rural</td>\n",
              "      <td>18 - 29</td>\n",
              "      <td>Female</td>\n",
              "      <td>$50,000 to $74,999</td>\n",
              "      <td>East South Central</td>\n",
              "    </tr>\n",
              "    <tr>\n",
              "      <th>2</th>\n",
              "      <td>4337935621</td>\n",
              "      <td>Yes</td>\n",
              "      <td>Turkey</td>\n",
              "      <td>NaN</td>\n",
              "      <td>Roasted</td>\n",
              "      <td>NaN</td>\n",
              "      <td>Rice-based</td>\n",
              "      <td>NaN</td>\n",
              "      <td>Homemade</td>\n",
              "      <td>NaN</td>\n",
              "      <td>Yes</td>\n",
              "      <td>Brussel sprouts</td>\n",
              "      <td>Carrots</td>\n",
              "      <td>Cauliflower</td>\n",
              "      <td>Corn</td>\n",
              "      <td>Cornbread</td>\n",
              "      <td>NaN</td>\n",
              "      <td>NaN</td>\n",
              "      <td>NaN</td>\n",
              "      <td>Mashed potatoes</td>\n",
              "      <td>Rolls/biscuits</td>\n",
              "      <td>NaN</td>\n",
              "      <td>Vegetable salad</td>\n",
              "      <td>NaN</td>\n",
              "      <td>NaN</td>\n",
              "      <td>NaN</td>\n",
              "      <td>Apple</td>\n",
              "      <td>NaN</td>\n",
              "      <td>Cherry</td>\n",
              "      <td>NaN</td>\n",
              "      <td>NaN</td>\n",
              "      <td>NaN</td>\n",
              "      <td>Peach</td>\n",
              "      <td>Pecan</td>\n",
              "      <td>Pumpkin</td>\n",
              "      <td>Sweet Potato</td>\n",
              "      <td>NaN</td>\n",
              "      <td>NaN</td>\n",
              "      <td>NaN</td>\n",
              "      <td>NaN</td>\n",
              "      <td>NaN</td>\n",
              "      <td>Brownies</td>\n",
              "      <td>Carrot cake</td>\n",
              "      <td>NaN</td>\n",
              "      <td>Cookies</td>\n",
              "      <td>Fudge</td>\n",
              "      <td>Ice cream</td>\n",
              "      <td>NaN</td>\n",
              "      <td>NaN</td>\n",
              "      <td>NaN</td>\n",
              "      <td>NaN</td>\n",
              "      <td>Yes</td>\n",
              "      <td>Thanksgiving is local--it will take place in t...</td>\n",
              "      <td>NaN</td>\n",
              "      <td>13</td>\n",
              "      <td>Yes</td>\n",
              "      <td>Yes</td>\n",
              "      <td>Yes</td>\n",
              "      <td>No</td>\n",
              "      <td>NaN</td>\n",
              "      <td>Suburban</td>\n",
              "      <td>18 - 29</td>\n",
              "      <td>Male</td>\n",
              "      <td>$0 to $9,999</td>\n",
              "      <td>Mountain</td>\n",
              "    </tr>\n",
              "    <tr>\n",
              "      <th>3</th>\n",
              "      <td>4337933040</td>\n",
              "      <td>Yes</td>\n",
              "      <td>Turkey</td>\n",
              "      <td>NaN</td>\n",
              "      <td>Baked</td>\n",
              "      <td>NaN</td>\n",
              "      <td>Bread-based</td>\n",
              "      <td>NaN</td>\n",
              "      <td>Homemade</td>\n",
              "      <td>NaN</td>\n",
              "      <td>Yes</td>\n",
              "      <td>Brussel sprouts</td>\n",
              "      <td>NaN</td>\n",
              "      <td>NaN</td>\n",
              "      <td>NaN</td>\n",
              "      <td>Cornbread</td>\n",
              "      <td>NaN</td>\n",
              "      <td>NaN</td>\n",
              "      <td>NaN</td>\n",
              "      <td>Mashed potatoes</td>\n",
              "      <td>Rolls/biscuits</td>\n",
              "      <td>NaN</td>\n",
              "      <td>Vegetable salad</td>\n",
              "      <td>Yams/sweet potato casserole</td>\n",
              "      <td>NaN</td>\n",
              "      <td>NaN</td>\n",
              "      <td>NaN</td>\n",
              "      <td>NaN</td>\n",
              "      <td>NaN</td>\n",
              "      <td>NaN</td>\n",
              "      <td>NaN</td>\n",
              "      <td>NaN</td>\n",
              "      <td>NaN</td>\n",
              "      <td>Pecan</td>\n",
              "      <td>Pumpkin</td>\n",
              "      <td>NaN</td>\n",
              "      <td>NaN</td>\n",
              "      <td>NaN</td>\n",
              "      <td>NaN</td>\n",
              "      <td>NaN</td>\n",
              "      <td>NaN</td>\n",
              "      <td>NaN</td>\n",
              "      <td>NaN</td>\n",
              "      <td>NaN</td>\n",
              "      <td>NaN</td>\n",
              "      <td>NaN</td>\n",
              "      <td>NaN</td>\n",
              "      <td>NaN</td>\n",
              "      <td>None</td>\n",
              "      <td>NaN</td>\n",
              "      <td>NaN</td>\n",
              "      <td>No</td>\n",
              "      <td>Thanksgiving is local--it will take place in t...</td>\n",
              "      <td>NaN</td>\n",
              "      <td>10 or younger</td>\n",
              "      <td>Yes</td>\n",
              "      <td>No</td>\n",
              "      <td>No</td>\n",
              "      <td>No</td>\n",
              "      <td>NaN</td>\n",
              "      <td>Urban</td>\n",
              "      <td>30 - 44</td>\n",
              "      <td>Male</td>\n",
              "      <td>$200,000 and up</td>\n",
              "      <td>Pacific</td>\n",
              "    </tr>\n",
              "    <tr>\n",
              "      <th>4</th>\n",
              "      <td>4337931983</td>\n",
              "      <td>Yes</td>\n",
              "      <td>Tofurkey</td>\n",
              "      <td>NaN</td>\n",
              "      <td>Baked</td>\n",
              "      <td>NaN</td>\n",
              "      <td>Bread-based</td>\n",
              "      <td>NaN</td>\n",
              "      <td>Canned</td>\n",
              "      <td>NaN</td>\n",
              "      <td>Yes</td>\n",
              "      <td>Brussel sprouts</td>\n",
              "      <td>NaN</td>\n",
              "      <td>NaN</td>\n",
              "      <td>NaN</td>\n",
              "      <td>Cornbread</td>\n",
              "      <td>NaN</td>\n",
              "      <td>NaN</td>\n",
              "      <td>NaN</td>\n",
              "      <td>Mashed potatoes</td>\n",
              "      <td>Rolls/biscuits</td>\n",
              "      <td>Squash</td>\n",
              "      <td>Vegetable salad</td>\n",
              "      <td>Yams/sweet potato casserole</td>\n",
              "      <td>NaN</td>\n",
              "      <td>NaN</td>\n",
              "      <td>Apple</td>\n",
              "      <td>NaN</td>\n",
              "      <td>NaN</td>\n",
              "      <td>NaN</td>\n",
              "      <td>NaN</td>\n",
              "      <td>NaN</td>\n",
              "      <td>NaN</td>\n",
              "      <td>NaN</td>\n",
              "      <td>Pumpkin</td>\n",
              "      <td>NaN</td>\n",
              "      <td>NaN</td>\n",
              "      <td>NaN</td>\n",
              "      <td>NaN</td>\n",
              "      <td>NaN</td>\n",
              "      <td>NaN</td>\n",
              "      <td>NaN</td>\n",
              "      <td>NaN</td>\n",
              "      <td>NaN</td>\n",
              "      <td>NaN</td>\n",
              "      <td>NaN</td>\n",
              "      <td>NaN</td>\n",
              "      <td>NaN</td>\n",
              "      <td>None</td>\n",
              "      <td>NaN</td>\n",
              "      <td>NaN</td>\n",
              "      <td>No</td>\n",
              "      <td>Thanksgiving is out of town but not too far--i...</td>\n",
              "      <td>NaN</td>\n",
              "      <td>10 or younger</td>\n",
              "      <td>Yes</td>\n",
              "      <td>No</td>\n",
              "      <td>No</td>\n",
              "      <td>No</td>\n",
              "      <td>NaN</td>\n",
              "      <td>Urban</td>\n",
              "      <td>30 - 44</td>\n",
              "      <td>Male</td>\n",
              "      <td>$100,000 to $124,999</td>\n",
              "      <td>Pacific</td>\n",
              "    </tr>\n",
              "  </tbody>\n",
              "</table>\n",
              "</div>"
            ],
            "text/plain": [
              "   RespondentID  ...           US Region\n",
              "0    4337954960  ...     Middle Atlantic\n",
              "1    4337951949  ...  East South Central\n",
              "2    4337935621  ...            Mountain\n",
              "3    4337933040  ...             Pacific\n",
              "4    4337931983  ...             Pacific\n",
              "\n",
              "[5 rows x 65 columns]"
            ]
          },
          "metadata": {
            "tags": []
          },
          "execution_count": 83
        }
      ]
    },
    {
      "cell_type": "markdown",
      "metadata": {
        "id": "0wSrBzmJyWaV",
        "colab_type": "text"
      },
      "source": [
        "# STRETCH OPTIONS\n",
        "\n",
        "### 2) Reproduce another example from [FiveThityEight's shared data repository](https://data.fivethirtyeight.com/).\n",
        "\n",
        "\n",
        "### 3) Make more charts!\n",
        "\n",
        "Choose a chart you want to make, from [Visual Vocabulary - Vega Edition](http://ft.com/vocabulary).\n",
        "\n",
        "Find the chart in an example gallery of a Python data visualization library:\n",
        "- [Seaborn](http://seaborn.pydata.org/examples/index.html)\n",
        "- [Altair](https://altair-viz.github.io/gallery/index.html)\n",
        "- [Matplotlib](https://matplotlib.org/gallery.html)\n",
        "- [Pandas](https://pandas.pydata.org/pandas-docs/stable/visualization.html)\n",
        "\n",
        "Reproduce the chart. [Optionally, try the \"Ben Franklin Method.\"](https://docs.google.com/document/d/1ubOw9B3Hfip27hF2ZFnW3a3z9xAgrUDRReOEo-FHCVs/edit) If you want, experiment and make changes.\n",
        "\n",
        "Take notes. Consider sharing your work with your cohort!"
      ]
    },
    {
      "cell_type": "code",
      "metadata": {
        "id": "dRJkKftiy5BJ",
        "colab_type": "code",
        "colab": {}
      },
      "source": [
        "# More Work Here"
      ],
      "execution_count": 0,
      "outputs": []
    }
  ]
}