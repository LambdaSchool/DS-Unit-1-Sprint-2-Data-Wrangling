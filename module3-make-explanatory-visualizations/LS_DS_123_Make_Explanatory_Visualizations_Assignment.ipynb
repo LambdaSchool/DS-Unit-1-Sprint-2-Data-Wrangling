{
  "nbformat": 4,
  "nbformat_minor": 0,
  "metadata": {
    "colab": {
      "name": "LS_DS_123_Make_Explanatory_Visualizations_Assignment.ipynb",
      "version": "0.3.2",
      "provenance": [],
      "collapsed_sections": [],
      "machine_shape": "hm",
      "include_colab_link": true
    },
    "language_info": {
      "codemirror_mode": {
        "name": "ipython",
        "version": 3
      },
      "file_extension": ".py",
      "mimetype": "text/x-python",
      "name": "python",
      "nbconvert_exporter": "python",
      "pygments_lexer": "ipython3",
      "version": "3.7.1"
    },
    "kernelspec": {
      "display_name": "Python 3",
      "language": "python",
      "name": "python3"
    }
  },
  "cells": [
    {
      "cell_type": "markdown",
      "metadata": {
        "id": "view-in-github",
        "colab_type": "text"
      },
      "source": [
        "<a href=\"https://colab.research.google.com/github/HakujouRyu/DS-Unit-1-Sprint-2-Data-Wrangling-and-Storytelling/blob/master/module3-make-explanatory-visualizations/LS_DS_123_Make_Explanatory_Visualizations_Assignment.ipynb\" target=\"_parent\"><img src=\"https://colab.research.google.com/assets/colab-badge.svg\" alt=\"Open In Colab\"/></a>"
      ]
    },
    {
      "cell_type": "markdown",
      "metadata": {
        "colab_type": "text",
        "id": "NMEswXWh9mqw"
      },
      "source": [
        "# ASSIGNMENT\n",
        "\n",
        "### 1) Replicate the lesson code. I recommend that you [do not copy-paste](https://docs.google.com/document/d/1ubOw9B3Hfip27hF2ZFnW3a3z9xAgrUDRReOEo-FHCVs/edit).\n",
        "\n",
        "Get caught up to where we got our example in class and then try and take things further. How close to \"pixel perfect\" can you make the lecture graph?\n",
        "\n",
        "Once you have something that you're proud of, share your graph in the cohort channel and move on to the second exercise.\n",
        "\n",
        "### 2) Reproduce another example from [FiveThityEight's shared data repository](https://data.fivethirtyeight.com/).\n",
        "\n",
        "**WARNING**: There are a lot of very custom graphs and tables at the above link. I **highly** recommend not trying to reproduce any that look like a table of values or something really different from the graph types that we are already familiar with. Search through the posts until you find a graph type that you are more or less familiar with: histogram, bar chart, stacked bar chart, line chart, [seaborn relplot](https://seaborn.pydata.org/generated/seaborn.relplot.html), etc. Recreating some of the graphics that 538 uses would be a lot easier in Adobe photoshop/illustrator than with matplotlib. \n",
        "\n",
        "- If you put in some time to find a graph that looks \"easy\" to replicate you'll probably find that it's not as easy as you thought. \n",
        "\n",
        "- If you start with a graph that looks hard to replicate you'll probably run up against a brick wall and be disappointed with your afternoon.\n",
        "\n",
        "\n",
        "\n",
        "\n",
        "\n",
        "\n",
        "\n",
        "\n",
        "\n",
        "\n"
      ]
    },
    {
      "cell_type": "markdown",
      "metadata": {
        "id": "zSFQSb8CIrRG",
        "colab_type": "text"
      },
      "source": [
        "## Table One"
      ]
    },
    {
      "cell_type": "code",
      "metadata": {
        "id": "bbuElFDfxc5w",
        "colab_type": "code",
        "colab": {}
      },
      "source": [
        "from IPython.display import display, Image\n",
        "\n",
        "url = 'https://fivethirtyeight.com/wp-content/uploads/2017/09/mehtahickey-inconvenient-0830-1.png'\n",
        "example = Image(url=url, width=400)"
      ],
      "execution_count": 0,
      "outputs": []
    },
    {
      "cell_type": "code",
      "metadata": {
        "id": "kQRXpJusx4GO",
        "colab_type": "code",
        "outputId": "4f39aaf4-a78d-4551-89af-2037fafdcc70",
        "colab": {
          "base_uri": "https://localhost:8080/",
          "height": 355
        }
      },
      "source": [
        "display(example)"
      ],
      "execution_count": 0,
      "outputs": [
        {
          "output_type": "display_data",
          "data": {
            "text/html": [
              "<img src=\"https://fivethirtyeight.com/wp-content/uploads/2017/09/mehtahickey-inconvenient-0830-1.png\" width=\"400\"/>"
            ],
            "text/plain": [
              "<IPython.core.display.Image object>"
            ]
          },
          "metadata": {
            "tags": []
          }
        }
      ]
    },
    {
      "cell_type": "code",
      "metadata": {
        "id": "P9_etqh8xNbt",
        "colab_type": "code",
        "colab": {}
      },
      "source": [
        "import pandas as pd\n",
        "import matplotlib.pyplot as plt\n",
        "\n",
        "fake = pd.Series([38, 3, 2, 1, 2, 4, 6, 5, 5, 33], \n",
        "                 index=range(1,11))\n"
      ],
      "execution_count": 0,
      "outputs": []
    },
    {
      "cell_type": "code",
      "metadata": {
        "id": "7SY1ZHawyZvz",
        "colab_type": "code",
        "outputId": "a959f3d3-f96a-41f6-e8eb-ced7c26c1261",
        "colab": {
          "base_uri": "https://localhost:8080/",
          "height": 660
        }
      },
      "source": [
        "#Style\n",
        "plt.style.use('fivethirtyeight')\n",
        "#figure\n",
        "fig = plt.figure()\n",
        "fig.patch.set(facecolor='None')\n",
        "#axes\n",
        "ax = fake.plot.bar(color='#ED713A', width=0.8)\n",
        "ax.set(facecolor='None', xlim=-.5)\n",
        "\n",
        "#Custom Title\n",
        "ax.text(-1.8, 45, s=\"'An Inconvenient Sequel: Truth to Power' is divisive\",\n",
        "        fontweight='bold', fontsize=12, alpha=.5);\n",
        "ax.text(-1.8, 42.5, s=\"IMCB ratings for the film as of Aug. 29\",\n",
        "        fontsize=11, alpha=.5)\n",
        "#Axis Labels\n",
        "ax.set_ylabel('Percent of total votes', fontsize=9, fontweight='bold',\n",
        "              labelpad=10)\n",
        "ax.set_xlabel('Rating', fontsize=9, fontweight='bold', labelpad=10)\n",
        "#Tick labels\n",
        "ax.set_xticklabels(range(1,11), rotation=0, color='white', fontsize='8')\n",
        "ax.set_yticks(range(0,50,10))\n",
        "ax.tick_params(axis='both', length=0, color='white')\n",
        "ax.set_yticklabels(range(0,40,10), color='white', fontsize='8', alpha=.7)\n",
        "ax.text(-1, 39.4, s='40%', color='white', fontsize=8, alpha=.7)\n",
        "#spines!\n",
        "ax.spines['left'].set_visible(False)\n",
        "ax.spines['right'].set_visible(False)\n",
        "ax.spines['top'].set_visible(False)\n",
        "ax.spines['bottom'].set_visible(False)\n",
        "ax.axhline(y=-00.01, color='white', lw=.01, alpha=.9)\n",
        "ax.axhline(xmin=2, y=40, lw=0.1, color='white', alpha=.9)\n",
        "\n",
        "plt.show()\n",
        "display(example)"
      ],
      "execution_count": 0,
      "outputs": [
        {
          "output_type": "display_data",
          "data": {
            "image/png": "[encoded data removed]",
            "text/plain": [
              "<Figure size 432x288 with 1 Axes>"
            ]
          },
          "metadata": {
            "tags": []
          }
        },
        {
          "output_type": "display_data",
          "data": {
            "text/html": [
              "<img src=\"https://fivethirtyeight.com/wp-content/uploads/2017/09/mehtahickey-inconvenient-0830-1.png\" width=\"400\"/>"
            ],
            "text/plain": [
              "<IPython.core.display.Image object>"
            ]
          },
          "metadata": {
            "tags": []
          }
        }
      ]
    },
    {
      "cell_type": "markdown",
      "metadata": {
        "id": "mvUfttQWIwKz",
        "colab_type": "text"
      },
      "source": [
        "## Table Two Abandoned\n",
        "##### It just took too long to do anything with the data."
      ]
    },
    {
      "cell_type": "code",
      "metadata": {
        "id": "NkjN758gIzVH",
        "colab_type": "code",
        "outputId": "e5a106a6-8e7c-4e43-c741-dd408dbc04b3",
        "colab": {
          "base_uri": "https://localhost:8080/",
          "height": 363
        }
      },
      "source": [
        "#Setting up the next example\n",
        "url2 = 'https://fivethirtyeight.com/wp-content/uploads/2018/07/roeder-russiantweets-1.png?w=575'\n",
        "example2 = Image(url=url2, width=400)\n",
        "display(example2)"
      ],
      "execution_count": 0,
      "outputs": [
        {
          "output_type": "display_data",
          "data": {
            "text/html": [
              "<img src=\"https://fivethirtyeight.com/wp-content/uploads/2018/07/roeder-russiantweets-1.png?w=575\" width=\"400\"/>"
            ],
            "text/plain": [
              "<IPython.core.display.Image object>"
            ]
          },
          "metadata": {
            "tags": []
          }
        }
      ]
    },
    {
      "cell_type": "code",
      "metadata": {
        "id": "_AwQixbiq7X6",
        "colab_type": "code",
        "outputId": "bac84499-87e2-4722-8b1e-cfbe6e6452c8",
        "colab": {
          "base_uri": "https://localhost:8080/",
          "height": 289
        }
      },
      "source": [
        "#Gathering the data\n",
        "!wget https://github.com/fivethirtyeight/russian-troll-tweets/archive/master.zip"
      ],
      "execution_count": 0,
      "outputs": [
        {
          "output_type": "stream",
          "text": [
            "--2019-09-12 01:30:05--  https://github.com/fivethirtyeight/russian-troll-tweets/archive/master.zip\n",
            "Resolving github.com (github.com)... 192.30.253.113\n",
            "Connecting to github.com (github.com)|192.30.253.113|:443... connected.\n",
            "HTTP request sent, awaiting response... 302 Found\n",
            "Location: https://codeload.github.com/fivethirtyeight/russian-troll-tweets/zip/master [following]\n",
            "--2019-09-12 01:30:06--  https://codeload.github.com/fivethirtyeight/russian-troll-tweets/zip/master\n",
            "Resolving codeload.github.com (codeload.github.com)... 140.82.114.10\n",
            "Connecting to codeload.github.com (codeload.github.com)|140.82.114.10|:443... connected.\n",
            "HTTP request sent, awaiting response... 200 OK\n",
            "Length: unspecified [application/zip]\n",
            "Saving to: ‘master.zip’\n",
            "\n",
            "master.zip              [   <=>              ] 271.28M  6.41MB/s    in 48s     \n",
            "\n",
            "2019-09-12 01:30:56 (5.61 MB/s) - ‘master.zip’ saved [284453490]\n",
            "\n"
          ],
          "name": "stdout"
        }
      ]
    },
    {
      "cell_type": "code",
      "metadata": {
        "id": "B47TB-kIrAry",
        "colab_type": "code",
        "outputId": "0633ab16-1527-44e6-e0df-bc8299b69bf4",
        "colab": {
          "base_uri": "https://localhost:8080/",
          "height": 306
        }
      },
      "source": [
        "!unzip master.zip"
      ],
      "execution_count": 0,
      "outputs": [
        {
          "output_type": "stream",
          "text": [
            "Archive:  master.zip\n",
            "7edb01bfe167e3fec093d55cea10773aae15454f\n",
            "   creating: russian-troll-tweets-master/\n",
            "  inflating: russian-troll-tweets-master/IRAhandle_tweets_1.csv  \n",
            "  inflating: russian-troll-tweets-master/IRAhandle_tweets_10.csv  \n",
            "  inflating: russian-troll-tweets-master/IRAhandle_tweets_11.csv  \n",
            "  inflating: russian-troll-tweets-master/IRAhandle_tweets_12.csv  \n",
            "  inflating: russian-troll-tweets-master/IRAhandle_tweets_13.csv  \n",
            "  inflating: russian-troll-tweets-master/IRAhandle_tweets_2.csv  \n",
            "  inflating: russian-troll-tweets-master/IRAhandle_tweets_3.csv  \n",
            "  inflating: russian-troll-tweets-master/IRAhandle_tweets_4.csv  \n",
            "  inflating: russian-troll-tweets-master/IRAhandle_tweets_5.csv  \n",
            "  inflating: russian-troll-tweets-master/IRAhandle_tweets_6.csv  \n",
            "  inflating: russian-troll-tweets-master/IRAhandle_tweets_7.csv  \n",
            "  inflating: russian-troll-tweets-master/IRAhandle_tweets_8.csv  \n",
            "  inflating: russian-troll-tweets-master/IRAhandle_tweets_9.csv  \n",
            "  inflating: russian-troll-tweets-master/README.md  \n"
          ],
          "name": "stdout"
        }
      ]
    },
    {
      "cell_type": "code",
      "metadata": {
        "id": "x3Jw-yaZrFK8",
        "colab_type": "code",
        "colab": {}
      },
      "source": [
        "#Importing glob to handle multiple csv\n",
        "import glob\n",
        "import pandas as pd\n",
        "path = '/content/russian-troll-tweets-master'\n",
        "files = glob.glob(path + '/*.csv')\n",
        "#Get header to concat in loop\n",
        "tweets = pd.read_csv('russian-troll-tweets-master/IRAhandle_tweets_1.csv', index_col=0,nrows=0)"
      ],
      "execution_count": 0,
      "outputs": []
    },
    {
      "cell_type": "code",
      "metadata": {
        "id": "GFkArMWBuQBW",
        "colab_type": "code",
        "outputId": "1a0b6074-6bc1-458f-bfdf-1bacac785afc",
        "colab": {
          "base_uri": "https://localhost:8080/",
          "height": 100
        }
      },
      "source": [
        "tweets.head()"
      ],
      "execution_count": 0,
      "outputs": [
        {
          "output_type": "execute_result",
          "data": {
            "text/html": [
              "<div>\n",
              "<style scoped>\n",
              "    .dataframe tbody tr th:only-of-type {\n",
              "        vertical-align: middle;\n",
              "    }\n",
              "\n",
              "    .dataframe tbody tr th {\n",
              "        vertical-align: top;\n",
              "    }\n",
              "\n",
              "    .dataframe thead th {\n",
              "        text-align: right;\n",
              "    }\n",
              "</style>\n",
              "<table border=\"1\" class=\"dataframe\">\n",
              "  <thead>\n",
              "    <tr style=\"text-align: right;\">\n",
              "      <th></th>\n",
              "      <th>author</th>\n",
              "      <th>content</th>\n",
              "      <th>region</th>\n",
              "      <th>language</th>\n",
              "      <th>publish_date</th>\n",
              "      <th>harvested_date</th>\n",
              "      <th>following</th>\n",
              "      <th>followers</th>\n",
              "      <th>updates</th>\n",
              "      <th>post_type</th>\n",
              "      <th>account_type</th>\n",
              "      <th>retweet</th>\n",
              "      <th>account_category</th>\n",
              "      <th>new_june_2018</th>\n",
              "      <th>alt_external_id</th>\n",
              "      <th>tweet_id</th>\n",
              "      <th>article_url</th>\n",
              "      <th>tco1_step1</th>\n",
              "      <th>tco2_step1</th>\n",
              "      <th>tco3_step1</th>\n",
              "    </tr>\n",
              "    <tr>\n",
              "      <th>external_author_id</th>\n",
              "      <th></th>\n",
              "      <th></th>\n",
              "      <th></th>\n",
              "      <th></th>\n",
              "      <th></th>\n",
              "      <th></th>\n",
              "      <th></th>\n",
              "      <th></th>\n",
              "      <th></th>\n",
              "      <th></th>\n",
              "      <th></th>\n",
              "      <th></th>\n",
              "      <th></th>\n",
              "      <th></th>\n",
              "      <th></th>\n",
              "      <th></th>\n",
              "      <th></th>\n",
              "      <th></th>\n",
              "      <th></th>\n",
              "      <th></th>\n",
              "    </tr>\n",
              "  </thead>\n",
              "  <tbody>\n",
              "  </tbody>\n",
              "</table>\n",
              "</div>"
            ],
            "text/plain": [
              "Empty DataFrame\n",
              "Columns: [author, content, region, language, publish_date, harvested_date, following, followers, updates, post_type, account_type, retweet, account_category, new_june_2018, alt_external_id, tweet_id, article_url, tco1_step1, tco2_step1, tco3_step1]\n",
              "Index: []"
            ]
          },
          "metadata": {
            "tags": []
          },
          "execution_count": 5
        }
      ]
    },
    {
      "cell_type": "code",
      "metadata": {
        "id": "v5pUoPCpr7Kd",
        "colab_type": "code",
        "outputId": "bcb9de6a-2d27-4e33-ce80-5e0d520b746c",
        "colab": {
          "base_uri": "https://localhost:8080/",
          "height": 700
        }
      },
      "source": [
        "li = []\n",
        "for name in files:\n",
        "    df = pd.read_csv(name)\n",
        "    li.append(df)\n",
        "tweets = pd.concat(li)\n",
        "tweets.head()"
      ],
      "execution_count": 0,
      "outputs": [
        {
          "output_type": "stream",
          "text": [
            "/usr/local/lib/python3.6/dist-packages/IPython/core/interactiveshell.py:2718: DtypeWarning: Columns (10,20) have mixed types. Specify dtype option on import or set low_memory=False.\n",
            "  interactivity=interactivity, compiler=compiler, result=result)\n",
            "/usr/local/lib/python3.6/dist-packages/IPython/core/interactiveshell.py:2718: DtypeWarning: Columns (0,15,20) have mixed types. Specify dtype option on import or set low_memory=False.\n",
            "  interactivity=interactivity, compiler=compiler, result=result)\n",
            "/usr/local/lib/python3.6/dist-packages/IPython/core/interactiveshell.py:2718: DtypeWarning: Columns (20) have mixed types. Specify dtype option on import or set low_memory=False.\n",
            "  interactivity=interactivity, compiler=compiler, result=result)\n"
          ],
          "name": "stderr"
        },
        {
          "output_type": "execute_result",
          "data": {
            "text/html": [
              "<div>\n",
              "<style scoped>\n",
              "    .dataframe tbody tr th:only-of-type {\n",
              "        vertical-align: middle;\n",
              "    }\n",
              "\n",
              "    .dataframe tbody tr th {\n",
              "        vertical-align: top;\n",
              "    }\n",
              "\n",
              "    .dataframe thead th {\n",
              "        text-align: right;\n",
              "    }\n",
              "</style>\n",
              "<table border=\"1\" class=\"dataframe\">\n",
              "  <thead>\n",
              "    <tr style=\"text-align: right;\">\n",
              "      <th></th>\n",
              "      <th>external_author_id</th>\n",
              "      <th>author</th>\n",
              "      <th>content</th>\n",
              "      <th>region</th>\n",
              "      <th>language</th>\n",
              "      <th>publish_date</th>\n",
              "      <th>harvested_date</th>\n",
              "      <th>following</th>\n",
              "      <th>followers</th>\n",
              "      <th>updates</th>\n",
              "      <th>post_type</th>\n",
              "      <th>account_type</th>\n",
              "      <th>retweet</th>\n",
              "      <th>account_category</th>\n",
              "      <th>new_june_2018</th>\n",
              "      <th>alt_external_id</th>\n",
              "      <th>tweet_id</th>\n",
              "      <th>article_url</th>\n",
              "      <th>tco1_step1</th>\n",
              "      <th>tco2_step1</th>\n",
              "      <th>tco3_step1</th>\n",
              "    </tr>\n",
              "  </thead>\n",
              "  <tbody>\n",
              "    <tr>\n",
              "      <th>0</th>\n",
              "      <td>2611151319</td>\n",
              "      <td>SEATTLE_POST</td>\n",
              "      <td>Israeli police say Palestinian home in West Ba...</td>\n",
              "      <td>United States</td>\n",
              "      <td>English</td>\n",
              "      <td>12/22/2015 10:49</td>\n",
              "      <td>12/22/2015 10:49</td>\n",
              "      <td>4887</td>\n",
              "      <td>12659</td>\n",
              "      <td>15470</td>\n",
              "      <td>NaN</td>\n",
              "      <td>local</td>\n",
              "      <td>0</td>\n",
              "      <td>NewsFeed</td>\n",
              "      <td>0</td>\n",
              "      <td>2611151319</td>\n",
              "      <td>679252328986238977</td>\n",
              "      <td>http://twitter.com/Seattle_Post/statuses/67925...</td>\n",
              "      <td>NaN</td>\n",
              "      <td>NaN</td>\n",
              "      <td>NaN</td>\n",
              "    </tr>\n",
              "    <tr>\n",
              "      <th>1</th>\n",
              "      <td>2611151319</td>\n",
              "      <td>SEATTLE_POST</td>\n",
              "      <td>Former IAAF chief Lamine Diack faces new corru...</td>\n",
              "      <td>United States</td>\n",
              "      <td>English</td>\n",
              "      <td>12/22/2015 11:16</td>\n",
              "      <td>12/22/2015 11:16</td>\n",
              "      <td>4887</td>\n",
              "      <td>12659</td>\n",
              "      <td>15471</td>\n",
              "      <td>NaN</td>\n",
              "      <td>local</td>\n",
              "      <td>0</td>\n",
              "      <td>NewsFeed</td>\n",
              "      <td>0</td>\n",
              "      <td>2611151319</td>\n",
              "      <td>679259242541395972</td>\n",
              "      <td>http://twitter.com/Seattle_Post/statuses/67925...</td>\n",
              "      <td>NaN</td>\n",
              "      <td>NaN</td>\n",
              "      <td>NaN</td>\n",
              "    </tr>\n",
              "    <tr>\n",
              "      <th>2</th>\n",
              "      <td>2611151319</td>\n",
              "      <td>SEATTLE_POST</td>\n",
              "      <td>SpaceX launches rocket 6 months after accident...</td>\n",
              "      <td>United States</td>\n",
              "      <td>English</td>\n",
              "      <td>12/22/2015 11:40</td>\n",
              "      <td>12/22/2015 11:40</td>\n",
              "      <td>4887</td>\n",
              "      <td>12659</td>\n",
              "      <td>15472</td>\n",
              "      <td>NaN</td>\n",
              "      <td>local</td>\n",
              "      <td>0</td>\n",
              "      <td>NewsFeed</td>\n",
              "      <td>0</td>\n",
              "      <td>2611151319</td>\n",
              "      <td>679265189372407808</td>\n",
              "      <td>http://twitter.com/Seattle_Post/statuses/67926...</td>\n",
              "      <td>NaN</td>\n",
              "      <td>NaN</td>\n",
              "      <td>NaN</td>\n",
              "    </tr>\n",
              "    <tr>\n",
              "      <th>3</th>\n",
              "      <td>2611151319</td>\n",
              "      <td>SEATTLE_POST</td>\n",
              "      <td>The Latest: Fatalities feared in I-49 crash in...</td>\n",
              "      <td>United States</td>\n",
              "      <td>English</td>\n",
              "      <td>12/22/2015 12:20</td>\n",
              "      <td>12/22/2015 12:20</td>\n",
              "      <td>4887</td>\n",
              "      <td>12659</td>\n",
              "      <td>15473</td>\n",
              "      <td>NaN</td>\n",
              "      <td>local</td>\n",
              "      <td>0</td>\n",
              "      <td>NewsFeed</td>\n",
              "      <td>0</td>\n",
              "      <td>2611151319</td>\n",
              "      <td>679275250069078016</td>\n",
              "      <td>http://twitter.com/Seattle_Post/statuses/67927...</td>\n",
              "      <td>NaN</td>\n",
              "      <td>NaN</td>\n",
              "      <td>NaN</td>\n",
              "    </tr>\n",
              "    <tr>\n",
              "      <th>4</th>\n",
              "      <td>2611151319</td>\n",
              "      <td>SEATTLE_POST</td>\n",
              "      <td>Danish “Graceland” museum changes name after l...</td>\n",
              "      <td>United States</td>\n",
              "      <td>English</td>\n",
              "      <td>12/22/2015 13:07</td>\n",
              "      <td>12/22/2015 13:07</td>\n",
              "      <td>4887</td>\n",
              "      <td>12657</td>\n",
              "      <td>15474</td>\n",
              "      <td>NaN</td>\n",
              "      <td>local</td>\n",
              "      <td>0</td>\n",
              "      <td>NewsFeed</td>\n",
              "      <td>0</td>\n",
              "      <td>2611151319</td>\n",
              "      <td>679287094682902528</td>\n",
              "      <td>http://twitter.com/Seattle_Post/statuses/67928...</td>\n",
              "      <td>http://bit.ly/1S7Rx9G</td>\n",
              "      <td>NaN</td>\n",
              "      <td>NaN</td>\n",
              "    </tr>\n",
              "  </tbody>\n",
              "</table>\n",
              "</div>"
            ],
            "text/plain": [
              "  external_author_id        author  ... tco2_step1 tco3_step1\n",
              "0         2611151319  SEATTLE_POST  ...        NaN        NaN\n",
              "1         2611151319  SEATTLE_POST  ...        NaN        NaN\n",
              "2         2611151319  SEATTLE_POST  ...        NaN        NaN\n",
              "3         2611151319  SEATTLE_POST  ...        NaN        NaN\n",
              "4         2611151319  SEATTLE_POST  ...        NaN        NaN\n",
              "\n",
              "[5 rows x 21 columns]"
            ]
          },
          "metadata": {
            "tags": []
          },
          "execution_count": 6
        }
      ]
    },
    {
      "cell_type": "code",
      "metadata": {
        "id": "6BtHn3L2vrjQ",
        "colab_type": "code",
        "outputId": "0d20b959-fedb-4454-9f03-865b1a6c42c6",
        "colab": {
          "base_uri": "https://localhost:8080/",
          "height": 34
        }
      },
      "source": [
        "tweets.shape"
      ],
      "execution_count": 0,
      "outputs": [
        {
          "output_type": "execute_result",
          "data": {
            "text/plain": [
              "(2946207, 21)"
            ]
          },
          "metadata": {
            "tags": []
          },
          "execution_count": 7
        }
      ]
    },
    {
      "cell_type": "code",
      "metadata": {
        "id": "luGLhMNWv2rZ",
        "colab_type": "code",
        "outputId": "4adb65d9-d0ae-458e-fecc-1cbf482f808b",
        "colab": {
          "base_uri": "https://localhost:8080/",
          "height": 204
        }
      },
      "source": [
        "#All I need is the date \n",
        "tweets = tweets[['publish_date', 'language']]\n",
        "tweets.head()"
      ],
      "execution_count": 0,
      "outputs": [
        {
          "output_type": "execute_result",
          "data": {
            "text/html": [
              "<div>\n",
              "<style scoped>\n",
              "    .dataframe tbody tr th:only-of-type {\n",
              "        vertical-align: middle;\n",
              "    }\n",
              "\n",
              "    .dataframe tbody tr th {\n",
              "        vertical-align: top;\n",
              "    }\n",
              "\n",
              "    .dataframe thead th {\n",
              "        text-align: right;\n",
              "    }\n",
              "</style>\n",
              "<table border=\"1\" class=\"dataframe\">\n",
              "  <thead>\n",
              "    <tr style=\"text-align: right;\">\n",
              "      <th></th>\n",
              "      <th>publish_date</th>\n",
              "      <th>language</th>\n",
              "    </tr>\n",
              "  </thead>\n",
              "  <tbody>\n",
              "    <tr>\n",
              "      <th>0</th>\n",
              "      <td>12/22/2015 10:49</td>\n",
              "      <td>English</td>\n",
              "    </tr>\n",
              "    <tr>\n",
              "      <th>1</th>\n",
              "      <td>12/22/2015 11:16</td>\n",
              "      <td>English</td>\n",
              "    </tr>\n",
              "    <tr>\n",
              "      <th>2</th>\n",
              "      <td>12/22/2015 11:40</td>\n",
              "      <td>English</td>\n",
              "    </tr>\n",
              "    <tr>\n",
              "      <th>3</th>\n",
              "      <td>12/22/2015 12:20</td>\n",
              "      <td>English</td>\n",
              "    </tr>\n",
              "    <tr>\n",
              "      <th>4</th>\n",
              "      <td>12/22/2015 13:07</td>\n",
              "      <td>English</td>\n",
              "    </tr>\n",
              "  </tbody>\n",
              "</table>\n",
              "</div>"
            ],
            "text/plain": [
              "       publish_date language\n",
              "0  12/22/2015 10:49  English\n",
              "1  12/22/2015 11:16  English\n",
              "2  12/22/2015 11:40  English\n",
              "3  12/22/2015 12:20  English\n",
              "4  12/22/2015 13:07  English"
            ]
          },
          "metadata": {
            "tags": []
          },
          "execution_count": 8
        }
      ]
    },
    {
      "cell_type": "code",
      "metadata": {
        "id": "37cc2KykwU4P",
        "colab_type": "code",
        "colab": {}
      },
      "source": [
        "#Let's clean up the date time\n",
        "tweets = pd.to_datetime(tweets['publish_date'])"
      ],
      "execution_count": 0,
      "outputs": []
    },
    {
      "cell_type": "code",
      "metadata": {
        "id": "GzR2QTGO0qnp",
        "colab_type": "code",
        "outputId": "3fb500ca-b7fa-479b-808e-a48056d2ad67",
        "colab": {
          "base_uri": "https://localhost:8080/",
          "height": 119
        }
      },
      "source": [
        "tweets.head()"
      ],
      "execution_count": 0,
      "outputs": [
        {
          "output_type": "execute_result",
          "data": {
            "text/plain": [
              "0   2015-12-22 10:49:00\n",
              "1   2015-12-22 11:16:00\n",
              "2   2015-12-22 11:40:00\n",
              "3   2015-12-22 12:20:00\n",
              "4   2015-12-22 13:07:00\n",
              "Name: publish_date, dtype: datetime64[ns]"
            ]
          },
          "metadata": {
            "tags": []
          },
          "execution_count": 11
        }
      ]
    },
    {
      "cell_type": "code",
      "metadata": {
        "id": "0czSzEdzRafk",
        "colab_type": "code",
        "colab": {}
      },
      "source": [
        "#fig\n",
        "fig2 = "
      ],
      "execution_count": 0,
      "outputs": []
    },
    {
      "cell_type": "code",
      "metadata": {
        "id": "2JxbRGhIK4oy",
        "colab_type": "code",
        "colab": {}
      },
      "source": [
        "del tweets"
      ],
      "execution_count": 0,
      "outputs": []
    },
    {
      "cell_type": "markdown",
      "metadata": {
        "id": "vPaBB6KpKmPT",
        "colab_type": "text"
      },
      "source": [
        "## Table Two \n",
        "#### Take two\n"
      ]
    },
    {
      "cell_type": "code",
      "metadata": {
        "id": "rwd5n4b5KwqP",
        "colab_type": "code",
        "outputId": "c71ff76e-2dee-4518-c05c-8e02a6fcc08f",
        "colab": {
          "base_uri": "https://localhost:8080/",
          "height": 331
        }
      },
      "source": [
        "import pandas as pd\n",
        "from IPython.display import display, Image\n",
        "import numpy as np\n",
        "import matplotlib.pyplot as plt\n",
        "import matplotlib.ticker as ticker\n",
        "\n",
        "url = 'https://fivethirtyeight.com/wp-content/uploads/2015/08/hickey-datalab-dailyshow.png?w=575'\n",
        "example3 = Image(url=url, width=400)\n",
        "display(example3)"
      ],
      "execution_count": 0,
      "outputs": [
        {
          "output_type": "display_data",
          "data": {
            "text/html": [
              "<img src=\"https://fivethirtyeight.com/wp-content/uploads/2015/08/hickey-datalab-dailyshow.png?w=575\" width=\"400\"/>"
            ],
            "text/plain": [
              "<IPython.core.display.Image object>"
            ]
          },
          "metadata": {
            "tags": []
          }
        }
      ]
    },
    {
      "cell_type": "code",
      "metadata": {
        "id": "ZXk2ZqJUK_ht",
        "colab_type": "code",
        "colab": {}
      },
      "source": [
        "#Bring in the data!\n",
        "df = pd.read_csv('https://raw.githubusercontent.com/fivethirtyeight/data/master/daily-show-guests/daily_show_guests.csv')"
      ],
      "execution_count": 0,
      "outputs": []
    },
    {
      "cell_type": "code",
      "metadata": {
        "id": "si7F9UhcVrob",
        "colab_type": "code",
        "outputId": "7252e5b8-d11b-48fa-d5b0-3f571b1942b9",
        "colab": {
          "base_uri": "https://localhost:8080/",
          "height": 191
        }
      },
      "source": [
        "df.head()"
      ],
      "execution_count": 0,
      "outputs": [
        {
          "output_type": "execute_result",
          "data": {
            "text/html": [
              "<div>\n",
              "<style scoped>\n",
              "    .dataframe tbody tr th:only-of-type {\n",
              "        vertical-align: middle;\n",
              "    }\n",
              "\n",
              "    .dataframe tbody tr th {\n",
              "        vertical-align: top;\n",
              "    }\n",
              "\n",
              "    .dataframe thead th {\n",
              "        text-align: right;\n",
              "    }\n",
              "</style>\n",
              "<table border=\"1\" class=\"dataframe\">\n",
              "  <thead>\n",
              "    <tr style=\"text-align: right;\">\n",
              "      <th></th>\n",
              "      <th>YEAR</th>\n",
              "      <th>GoogleKnowlege_Occupation</th>\n",
              "      <th>Show</th>\n",
              "      <th>Group</th>\n",
              "      <th>Raw_Guest_List</th>\n",
              "    </tr>\n",
              "  </thead>\n",
              "  <tbody>\n",
              "    <tr>\n",
              "      <th>0</th>\n",
              "      <td>1999</td>\n",
              "      <td>actor</td>\n",
              "      <td>1/11/99</td>\n",
              "      <td>Acting</td>\n",
              "      <td>Michael J. Fox</td>\n",
              "    </tr>\n",
              "    <tr>\n",
              "      <th>1</th>\n",
              "      <td>1999</td>\n",
              "      <td>Comedian</td>\n",
              "      <td>1/12/99</td>\n",
              "      <td>Comedy</td>\n",
              "      <td>Sandra Bernhard</td>\n",
              "    </tr>\n",
              "    <tr>\n",
              "      <th>2</th>\n",
              "      <td>1999</td>\n",
              "      <td>television actress</td>\n",
              "      <td>1/13/99</td>\n",
              "      <td>Acting</td>\n",
              "      <td>Tracey Ullman</td>\n",
              "    </tr>\n",
              "    <tr>\n",
              "      <th>3</th>\n",
              "      <td>1999</td>\n",
              "      <td>film actress</td>\n",
              "      <td>1/14/99</td>\n",
              "      <td>Acting</td>\n",
              "      <td>Gillian Anderson</td>\n",
              "    </tr>\n",
              "    <tr>\n",
              "      <th>4</th>\n",
              "      <td>1999</td>\n",
              "      <td>actor</td>\n",
              "      <td>1/18/99</td>\n",
              "      <td>Acting</td>\n",
              "      <td>David Alan Grier</td>\n",
              "    </tr>\n",
              "  </tbody>\n",
              "</table>\n",
              "</div>"
            ],
            "text/plain": [
              "   YEAR GoogleKnowlege_Occupation     Show   Group    Raw_Guest_List\n",
              "0  1999                     actor  1/11/99  Acting    Michael J. Fox\n",
              "1  1999                  Comedian  1/12/99  Comedy   Sandra Bernhard\n",
              "2  1999        television actress  1/13/99  Acting     Tracey Ullman\n",
              "3  1999              film actress  1/14/99  Acting  Gillian Anderson\n",
              "4  1999                     actor  1/18/99  Acting  David Alan Grier"
            ]
          },
          "metadata": {
            "tags": []
          },
          "execution_count": 3
        }
      ]
    },
    {
      "cell_type": "code",
      "metadata": {
        "id": "Sfhuhe-vVNhR",
        "colab_type": "code",
        "colab": {}
      },
      "source": [
        "df = df.drop(columns=['GoogleKnowlege_Occupation', 'Show', 'Raw_Guest_List'])"
      ],
      "execution_count": 0,
      "outputs": []
    },
    {
      "cell_type": "code",
      "metadata": {
        "id": "HvG-tcnCU_Q5",
        "colab_type": "code",
        "outputId": "c7a9ebd5-7c4f-4f13-d814-92956fc92921",
        "colab": {
          "base_uri": "https://localhost:8080/",
          "height": 66
        }
      },
      "source": [
        "df.isna().sum()"
      ],
      "execution_count": 0,
      "outputs": [
        {
          "output_type": "execute_result",
          "data": {
            "text/plain": [
              "YEAR      0\n",
              "Group    31\n",
              "dtype: int64"
            ]
          },
          "metadata": {
            "tags": []
          },
          "execution_count": 5
        }
      ]
    },
    {
      "cell_type": "code",
      "metadata": {
        "id": "B6nHg4mSVTwM",
        "colab_type": "code",
        "colab": {}
      },
      "source": [
        "df = df.fillna('Misc')"
      ],
      "execution_count": 0,
      "outputs": []
    },
    {
      "cell_type": "code",
      "metadata": {
        "id": "FZ_f2g3uLPpL",
        "colab_type": "code",
        "outputId": "a8091b19-4833-4529-a688-4b1e9164a9d0",
        "colab": {
          "base_uri": "https://localhost:8080/",
          "height": 191
        }
      },
      "source": [
        "df.head()"
      ],
      "execution_count": 0,
      "outputs": [
        {
          "output_type": "execute_result",
          "data": {
            "text/html": [
              "<div>\n",
              "<style scoped>\n",
              "    .dataframe tbody tr th:only-of-type {\n",
              "        vertical-align: middle;\n",
              "    }\n",
              "\n",
              "    .dataframe tbody tr th {\n",
              "        vertical-align: top;\n",
              "    }\n",
              "\n",
              "    .dataframe thead th {\n",
              "        text-align: right;\n",
              "    }\n",
              "</style>\n",
              "<table border=\"1\" class=\"dataframe\">\n",
              "  <thead>\n",
              "    <tr style=\"text-align: right;\">\n",
              "      <th></th>\n",
              "      <th>YEAR</th>\n",
              "      <th>Group</th>\n",
              "    </tr>\n",
              "  </thead>\n",
              "  <tbody>\n",
              "    <tr>\n",
              "      <th>0</th>\n",
              "      <td>1999</td>\n",
              "      <td>Acting</td>\n",
              "    </tr>\n",
              "    <tr>\n",
              "      <th>1</th>\n",
              "      <td>1999</td>\n",
              "      <td>Comedy</td>\n",
              "    </tr>\n",
              "    <tr>\n",
              "      <th>2</th>\n",
              "      <td>1999</td>\n",
              "      <td>Acting</td>\n",
              "    </tr>\n",
              "    <tr>\n",
              "      <th>3</th>\n",
              "      <td>1999</td>\n",
              "      <td>Acting</td>\n",
              "    </tr>\n",
              "    <tr>\n",
              "      <th>4</th>\n",
              "      <td>1999</td>\n",
              "      <td>Acting</td>\n",
              "    </tr>\n",
              "  </tbody>\n",
              "</table>\n",
              "</div>"
            ],
            "text/plain": [
              "   YEAR   Group\n",
              "0  1999  Acting\n",
              "1  1999  Comedy\n",
              "2  1999  Acting\n",
              "3  1999  Acting\n",
              "4  1999  Acting"
            ]
          },
          "metadata": {
            "tags": []
          },
          "execution_count": 7
        }
      ]
    },
    {
      "cell_type": "code",
      "metadata": {
        "id": "1ABHhpOLLSkg",
        "colab_type": "code",
        "outputId": "25bab32a-6dd7-4cf3-8d76-e16b99211f9c",
        "colab": {
          "base_uri": "https://localhost:8080/",
          "height": 310
        }
      },
      "source": [
        "df.Group.value_counts()"
      ],
      "execution_count": 0,
      "outputs": [
        {
          "output_type": "execute_result",
          "data": {
            "text/plain": [
              "Acting            930\n",
              "Media             751\n",
              "Politician        308\n",
              "Comedy            150\n",
              "Musician          123\n",
              "Academic          103\n",
              "Misc               76\n",
              "Athletics          52\n",
              "Government         40\n",
              "Political Aide     36\n",
              "Science            28\n",
              "Business           25\n",
              "Advocacy           24\n",
              "Consultant         18\n",
              "Military           16\n",
              "Clergy              8\n",
              "media               5\n",
              "Name: Group, dtype: int64"
            ]
          },
          "metadata": {
            "tags": []
          },
          "execution_count": 8
        }
      ]
    },
    {
      "cell_type": "code",
      "metadata": {
        "id": "2Lr4V5iaWKFg",
        "colab_type": "code",
        "outputId": "66fe8845-58ef-47ce-ba2f-47a46d260c2f",
        "colab": {
          "base_uri": "https://localhost:8080/",
          "height": 66
        }
      },
      "source": [
        "df.isnull().sum()"
      ],
      "execution_count": 0,
      "outputs": [
        {
          "output_type": "execute_result",
          "data": {
            "text/plain": [
              "YEAR     0\n",
              "Group    0\n",
              "dtype: int64"
            ]
          },
          "metadata": {
            "tags": []
          },
          "execution_count": 9
        }
      ]
    },
    {
      "cell_type": "code",
      "metadata": {
        "id": "7LoppdvcLxMf",
        "colab_type": "code",
        "colab": {}
      },
      "source": [
        "df.Group = df.Group.replace({'Acting': 'acm', 'Musician': 'acm', 'Comedy': 'acm',\n",
        "                             'Politician': 'govt', 'Government': 'govt',\n",
        "                             'Political Aide': 'govt', 'Military': 'govt',\n",
        "                             'media': 'Media'})"
      ],
      "execution_count": 0,
      "outputs": []
    },
    {
      "cell_type": "code",
      "metadata": {
        "id": "zGQktqNJRRTo",
        "colab_type": "code",
        "outputId": "999e1e04-3787-4461-d715-0fd279c89d40",
        "colab": {
          "base_uri": "https://localhost:8080/",
          "height": 212
        }
      },
      "source": [
        "df.Group.value_counts()"
      ],
      "execution_count": 0,
      "outputs": [
        {
          "output_type": "execute_result",
          "data": {
            "text/plain": [
              "acm           1203\n",
              "Media          756\n",
              "govt           400\n",
              "Academic       103\n",
              "Misc            76\n",
              "Athletics       52\n",
              "Science         28\n",
              "Business        25\n",
              "Advocacy        24\n",
              "Consultant      18\n",
              "Clergy           8\n",
              "Name: Group, dtype: int64"
            ]
          },
          "metadata": {
            "tags": []
          },
          "execution_count": 11
        }
      ]
    },
    {
      "cell_type": "code",
      "metadata": {
        "id": "S2Y6M2m2Y6y_",
        "colab_type": "code",
        "colab": {}
      },
      "source": [
        "df = df[df['Group'].isin(['acm', 'govt', 'Media'])]"
      ],
      "execution_count": 0,
      "outputs": []
    },
    {
      "cell_type": "code",
      "metadata": {
        "id": "Y8afDjt4RxRL",
        "colab_type": "code",
        "outputId": "4332c150-ca2d-4416-ceb7-0e6f32f94fa8",
        "colab": {
          "base_uri": "https://localhost:8080/",
          "height": 615
        }
      },
      "source": [
        "display(example3)\n",
        "final= pd.crosstab(df['YEAR'], df['Group'], normalize=True)\n",
        "final.plot()"
      ],
      "execution_count": 0,
      "outputs": [
        {
          "output_type": "display_data",
          "data": {
            "text/html": [
              "<img src=\"https://fivethirtyeight.com/wp-content/uploads/2015/08/hickey-datalab-dailyshow.png?w=575\" width=\"400\"/>"
            ],
            "text/plain": [
              "<IPython.core.display.Image object>"
            ]
          },
          "metadata": {
            "tags": []
          }
        },
        {
          "output_type": "execute_result",
          "data": {
            "text/plain": [
              "<matplotlib.axes._subplots.AxesSubplot at 0x7f28242f55f8>"
            ]
          },
          "metadata": {
            "tags": []
          },
          "execution_count": 13
        },
        {
          "output_type": "display_data",
          "data": {
            "image/png": "[encoded data removed]",
            "text/plain": [
              "<Figure size 432x288 with 1 Axes>"
            ]
          },
          "metadata": {
            "tags": []
          }
        }
      ]
    },
    {
      "cell_type": "code",
      "metadata": {
        "id": "UU6S_X7gZ7ME",
        "colab_type": "code",
        "outputId": "83d4cbe1-ef43-48c0-ce62-5c3484e2d866",
        "colab": {
          "base_uri": "https://localhost:8080/",
          "height": 670
        }
      },
      "source": [
        "#style\n",
        "plt.style.use('fivethirtyeight')\n",
        "#fig\n",
        "fig = plt.figure()\n",
        "fig.patch.set(facecolor='white')\n",
        "#axes\n",
        "ax = final.plot.line()\n",
        "#Title\n",
        "ax.text(1998,0.075, s=\"Who Got To Be On 'The Daily Show'\",\n",
        "        fontweight='bold', fontsize=12, alpha=.9)\n",
        "ax.text(1998, 0.07, s=\"Occupation of guests, by year\",\n",
        "        fontsize=11, alpha=.9)\n",
        "# Annotations\n",
        "\n",
        "\n",
        "#Ticks and tick labels\n",
        "ax.yaxis.set_major_locator(ticker.MultipleLocator(0.015))\n",
        "ax.xaxis.set_major_locator(ticker.MultipleLocator(4))\n",
        "ax.set_xticklabels([0, '2000', \"'04\", \"'08\",\"'12\"], fontsize=10)\n",
        "ax.set_yticklabels([0, 0, 25, 50, 75, '100%'], fontsize=10)\n",
        "display(example3)\n",
        "plt.show()"
      ],
      "execution_count": 0,
      "outputs": [
        {
          "output_type": "display_data",
          "data": {
            "text/html": [
              "<img src=\"https://fivethirtyeight.com/wp-content/uploads/2015/08/hickey-datalab-dailyshow.png?w=575\" width=\"400\"/>"
            ],
            "text/plain": [
              "<IPython.core.display.Image object>"
            ]
          },
          "metadata": {
            "tags": []
          }
        },
        {
          "output_type": "display_data",
          "data": {
            "text/plain": [
              "<Figure size 432x288 with 0 Axes>"
            ]
          },
          "metadata": {
            "tags": []
          }
        },
        {
          "output_type": "display_data",
          "data": {
            "image/png": "[encoded data removed]",
            "text/plain": [
              "<Figure size 432x288 with 1 Axes>"
            ]
          },
          "metadata": {
            "tags": []
          }
        }
      ]
    },
    {
      "cell_type": "markdown",
      "metadata": {
        "id": "0wSrBzmJyWaV",
        "colab_type": "text"
      },
      "source": [
        "# STRETCH OPTIONS\n",
        "\n",
        "### 1) Reproduce one of the following using the matplotlib or seaborn libraries:\n",
        "\n",
        "- [thanksgiving-2015](https://fivethirtyeight.com/features/heres-what-your-part-of-america-eats-on-thanksgiving/) \n",
        "- [candy-power-ranking](https://fivethirtyeight.com/features/the-ultimate-halloween-candy-power-ranking/) \n",
        "- or another example of your choice!\n",
        "\n",
        "### 2) Make more charts!\n",
        "\n",
        "Choose a chart you want to make, from [Visual Vocabulary - Vega Edition](http://ft.com/vocabulary).\n",
        "\n",
        "Find the chart in an example gallery of a Python data visualization library:\n",
        "- [Seaborn](http://seaborn.pydata.org/examples/index.html)\n",
        "- [Altair](https://altair-viz.github.io/gallery/index.html)\n",
        "- [Matplotlib](https://matplotlib.org/gallery.html)\n",
        "- [Pandas](https://pandas.pydata.org/pandas-docs/stable/visualization.html)\n",
        "\n",
        "Reproduce the chart. [Optionally, try the \"Ben Franklin Method.\"](https://docs.google.com/document/d/1ubOw9B3Hfip27hF2ZFnW3a3z9xAgrUDRReOEo-FHCVs/edit) If you want, experiment and make changes.\n",
        "\n",
        "Take notes. Consider sharing your work with your cohort!"
      ]
    },
    {
      "cell_type": "code",
      "metadata": {
        "id": "dRJkKftiy5BJ",
        "colab_type": "code",
        "colab": {}
      },
      "source": [
        "# More Work Here"
      ],
      "execution_count": 0,
      "outputs": []
    }
  ]
}