{
  "nbformat": 4,
  "nbformat_minor": 0,
  "metadata": {
    "colab": {
      "name": "Copy of Copy of LS_DS_123_Make_Explanatory_Visualizations_Assignment.ipynb",
      "provenance": [],
      "collapsed_sections": [],
      "include_colab_link": true
    },
    "language_info": {
      "codemirror_mode": {
        "name": "ipython",
        "version": 3
      },
      "file_extension": ".py",
      "mimetype": "text/x-python",
      "name": "python",
      "nbconvert_exporter": "python",
      "pygments_lexer": "ipython3",
      "version": "3.7.1"
    },
    "kernelspec": {
      "display_name": "Python 3",
      "language": "python",
      "name": "python3"
    }
  },
  "cells": [
    {
      "cell_type": "markdown",
      "metadata": {
        "id": "view-in-github",
        "colab_type": "text"
      },
      "source": [
        "<a href=\"https://colab.research.google.com/github/cardstud/DS-Unit-1-Sprint-2-Data-Wrangling-and-Storytelling/blob/master/module3-make-explanatory-visualizations/LS_DS_123_Make_Explanatory_Visualizations_Assignment.ipynb\" target=\"_parent\"><img src=\"https://colab.research.google.com/assets/colab-badge.svg\" alt=\"Open In Colab\"/></a>"
      ]
    },
    {
      "cell_type": "markdown",
      "metadata": {
        "colab_type": "text",
        "id": "NMEswXWh9mqw"
      },
      "source": [
        "# ASSIGNMENT\n",
        "\n",
        "### 1) Replicate the lesson code. I recommend that you [do not copy-paste](https://docs.google.com/document/d/1ubOw9B3Hfip27hF2ZFnW3a3z9xAgrUDRReOEo-FHCVs/edit).\n",
        "\n",
        "Get caught up to where we got our example in class and then try and take things further. How close to \"pixel perfect\" can you make the lecture graph?\n",
        "\n",
        "Once you have something that you're proud of, share your graph in the cohort channel and move on to the second exercise.\n",
        "\n",
        "### 2) Reproduce another example from [FiveThityEight's shared data repository](https://data.fivethirtyeight.com/).\n",
        "\n",
        "**WARNING**: There are a lot of very custom graphs and tables at the above link. I **highly** recommend not trying to reproduce any that look like a table of values or something really different from the graph types that we are already familiar with. Search through the posts until you find a graph type that you are more or less familiar with: histogram, bar chart, stacked bar chart, line chart, [seaborn relplot](https://seaborn.pydata.org/generated/seaborn.relplot.html), etc. Recreating some of the graphics that 538 uses would be a lot easier in Adobe photoshop/illustrator than with matplotlib. \n",
        "\n",
        "- If you put in some time to find a graph that looks \"easy\" to replicate you'll probably find that it's not as easy as you thought. \n",
        "\n",
        "- If you start with a graph that looks hard to replicate you'll probably run up against a brick wall and be disappointed with your afternoon.\n",
        "\n",
        "\n",
        "\n",
        "\n",
        "\n",
        "\n",
        "\n",
        "\n",
        "\n",
        "\n"
      ]
    },
    {
      "cell_type": "markdown",
      "metadata": {
        "id": "j8DeaGxXUxxg",
        "colab_type": "text"
      },
      "source": [
        "### Making Explanatory Visualizations with Matplotlib"
      ]
    },
    {
      "cell_type": "code",
      "metadata": {
        "id": "7SY1ZHawyZvz",
        "colab_type": "code",
        "outputId": "75ce988f-ec8d-4aa7-c952-8c624af354a4",
        "colab": {
          "base_uri": "https://localhost:8080/",
          "height": 355
        }
      },
      "source": [
        "from IPython.display import display, Image\n",
        "url = 'https://fivethirtyeight.com/wp-content/uploads/2017/09/mehtahickey-inconvenient-0830-1.png'\n",
        "example = Image(url=url, width=400)\n",
        "\n",
        "# The example we are trying to reproduce\n",
        "display(example)"
      ],
      "execution_count": 0,
      "outputs": [
        {
          "output_type": "display_data",
          "data": {
            "text/html": [
              "<img src=\"https://fivethirtyeight.com/wp-content/uploads/2017/09/mehtahickey-inconvenient-0830-1.png\" width=\"400\"/>"
            ],
            "text/plain": [
              "<IPython.core.display.Image object>"
            ]
          },
          "metadata": {
            "tags": []
          }
        }
      ]
    },
    {
      "cell_type": "code",
      "metadata": {
        "id": "qMFk0CVAVZGL",
        "colab_type": "code",
        "colab": {}
      },
      "source": [
        "# import necessary libraries\n",
        "%matplotlib inline\n",
        "import matplotlib.pyplot as plt\n",
        "import numpy as np\n",
        "import pandas as pd"
      ],
      "execution_count": 0,
      "outputs": []
    },
    {
      "cell_type": "code",
      "metadata": {
        "id": "pBGY2uqQVZI1",
        "colab_type": "code",
        "outputId": "c159c406-39d4-42be-86fa-cf00e51684dd",
        "colab": {
          "base_uri": "https://localhost:8080/",
          "height": 302
        }
      },
      "source": [
        "# Create a fake series so we can try and reproduce the example\n",
        "plt.style.use('fivethirtyeight')\n",
        "fake = pd.Series([38, 3, 2, 1, 2, 4, 6, 5, 5, 33],\n",
        "                index=range(1,11))\n",
        "fake.plot.bar(color='C1', width=0.9)"
      ],
      "execution_count": 0,
      "outputs": [
        {
          "output_type": "execute_result",
          "data": {
            "text/plain": [
              "<matplotlib.axes._subplots.AxesSubplot at 0x7f6489b2fd30>"
            ]
          },
          "metadata": {
            "tags": []
          },
          "execution_count": 3
        },
        {
          "output_type": "display_data",
          "data": {
            "image/png": "[encoded data removed]",
            "text/plain": [
              "<Figure size 432x288 with 1 Axes>"
            ]
          },
          "metadata": {
            "tags": []
          }
        }
      ]
    },
    {
      "cell_type": "code",
      "metadata": {
        "id": "B3-rhOjdVZLL",
        "colab_type": "code",
        "colab": {}
      },
      "source": [
        "# Create another fake series to graph\n",
        "fake2 = pd.Series(\n",
        " [1, 1, 1, 1, 1, 1, 1, 1, 1, 1, 1, 1, 1, 1, 1, 1, 1, 1, 1, 1, 1, 1, 1, 1,\n",
        "  2, 2, 2,\n",
        "  3, 3, 3,\n",
        "  4, 4, \n",
        "  5, 5, 5, \n",
        "  6, 6, 6, 6, \n",
        "  7, 7, 7, 7, 7,\n",
        "  8, 8, 8, 8,\n",
        "  9, 9, 9, 9,\n",
        "  10, 10, 10, 10, 10, 10, 10, 10, 10, 10, 10, 10, 10, 10, 10, 10, 10, 10])"
      ],
      "execution_count": 0,
      "outputs": []
    },
    {
      "cell_type": "code",
      "metadata": {
        "id": "PdVQ16XIVZN0",
        "colab_type": "code",
        "outputId": "8fa1fb46-a294-4402-d123-98c2228655c2",
        "colab": {
          "base_uri": "https://localhost:8080/",
          "height": 289
        }
      },
      "source": [
        "# Create bar graph\n",
        "fake2.value_counts().sort_index().plot.bar(color='#ed713a', width=0.9);"
      ],
      "execution_count": 0,
      "outputs": [
        {
          "output_type": "display_data",
          "data": {
            "image/png": "[encoded data removed]",
            "text/plain": [
              "<Figure size 432x288 with 1 Axes>"
            ]
          },
          "metadata": {
            "tags": []
          }
        }
      ]
    },
    {
      "cell_type": "markdown",
      "metadata": {
        "id": "JLBjRyHdXAhI",
        "colab_type": "text"
      },
      "source": [
        "### Annotate with text"
      ]
    },
    {
      "cell_type": "code",
      "metadata": {
        "id": "xB-1NiHeVZSe",
        "colab_type": "code",
        "outputId": "e45cc309-943c-4a24-8b94-43f1773919e4",
        "colab": {
          "base_uri": "https://localhost:8080/",
          "height": 306
        }
      },
      "source": [
        "# create fig object\n",
        "fig = plt.figure()\n",
        "fake2.value_counts().sort_index().plot.bar(color='#ed713a', width=0.9)"
      ],
      "execution_count": 0,
      "outputs": [
        {
          "output_type": "execute_result",
          "data": {
            "text/plain": [
              "<matplotlib.axes._subplots.AxesSubplot at 0x7f64871bc940>"
            ]
          },
          "metadata": {
            "tags": []
          },
          "execution_count": 6
        },
        {
          "output_type": "display_data",
          "data": {
            "image/png": "[encoded data removed]",
            "text/plain": [
              "<Figure size 432x288 with 1 Axes>"
            ]
          },
          "metadata": {
            "tags": []
          }
        }
      ]
    },
    {
      "cell_type": "code",
      "metadata": {
        "id": "SPMUM02vVZUR",
        "colab_type": "code",
        "outputId": "04154610-2c40-4309-bb04-d7deeb541500",
        "colab": {
          "base_uri": "https://localhost:8080/",
          "height": 345
        }
      },
      "source": [
        "# Make changes/additions to compare to example\n",
        "fig = plt.figure(facecolor='white')\n",
        "ax = fake2.value_counts().sort_index().plot.bar(color='#ed713a', width=0.9)\n",
        "ax.set(facecolor='white')\n",
        "plt.xlabel('Rating')\n",
        "plt.ylabel('Percent of total votes')\n",
        "plt.title('title')"
      ],
      "execution_count": 0,
      "outputs": [
        {
          "output_type": "execute_result",
          "data": {
            "text/plain": [
              "Text(0.5, 1.0, 'title')"
            ]
          },
          "metadata": {
            "tags": []
          },
          "execution_count": 7
        },
        {
          "output_type": "display_data",
          "data": {
            "image/png": "[encoded data removed]",
            "text/plain": [
              "<Figure size 432x288 with 1 Axes>"
            ]
          },
          "metadata": {
            "tags": []
          }
        }
      ]
    },
    {
      "cell_type": "code",
      "metadata": {
        "id": "fLK-3R2fVZW5",
        "colab_type": "code",
        "outputId": "08165010-dc9c-44f2-8086-8e4141989e56",
        "colab": {
          "base_uri": "https://localhost:8080/",
          "height": 355
        }
      },
      "source": [
        "# look at example again\n",
        "display(example)"
      ],
      "execution_count": 0,
      "outputs": [
        {
          "output_type": "display_data",
          "data": {
            "text/html": [
              "<img src=\"https://fivethirtyeight.com/wp-content/uploads/2017/09/mehtahickey-inconvenient-0830-1.png\" width=\"400\"/>"
            ],
            "text/plain": [
              "<IPython.core.display.Image object>"
            ]
          },
          "metadata": {
            "tags": []
          }
        }
      ]
    },
    {
      "cell_type": "code",
      "metadata": {
        "id": "cZ4FIC6dVZZK",
        "colab_type": "code",
        "outputId": "2d0c7cb3-0dad-4400-d37f-c8499fddcec1",
        "colab": {
          "base_uri": "https://localhost:8080/",
          "height": 342
        }
      },
      "source": [
        "# Improvements\n",
        "fig = plt.figure(facecolor='white')\n",
        "ax = fake2.value_counts().sort_index().plot.bar(color='#ed713a', width=0.9)\n",
        "ax.set(facecolor='white')\n",
        "ax.patch.set_alpha(0.1)\n",
        "plt.xlabel('Rating')\n",
        "plt.ylabel('Percent of total votes')\n",
        "plt.title(\"An Inconvenient Sequel: Truth to Power' is divisible\", \n",
        "         fontweight='bold',\n",
        "         fontsize=16,\n",
        "         loc='left',\n",
        "         x=-0.1)"
      ],
      "execution_count": 0,
      "outputs": [
        {
          "output_type": "execute_result",
          "data": {
            "text/plain": [
              "Text(-0.1, 1.0, \"An Inconvenient Sequel: Truth to Power' is divisible\")"
            ]
          },
          "metadata": {
            "tags": []
          },
          "execution_count": 9
        },
        {
          "output_type": "display_data",
          "data": {
            "image/png": "[encoded data removed]",
            "text/plain": [
              "<Figure size 432x288 with 1 Axes>"
            ]
          },
          "metadata": {
            "tags": []
          }
        }
      ]
    },
    {
      "cell_type": "code",
      "metadata": {
        "id": "przXkR4kZL1h",
        "colab_type": "code",
        "outputId": "f9ccdddc-8179-4815-b0c3-7ea50a9ef688",
        "colab": {
          "base_uri": "https://localhost:8080/",
          "height": 34
        }
      },
      "source": [
        "# check what tickes we want on y axis\n",
        "list(range(0,50,10))"
      ],
      "execution_count": 0,
      "outputs": [
        {
          "output_type": "execute_result",
          "data": {
            "text/plain": [
              "[0, 10, 20, 30, 40]"
            ]
          },
          "metadata": {
            "tags": []
          },
          "execution_count": 10
        }
      ]
    },
    {
      "cell_type": "code",
      "metadata": {
        "id": "ZpXROpJ0ZL42",
        "colab_type": "code",
        "outputId": "a6bbeb9e-854d-457d-9d83-6546e9297321",
        "colab": {
          "base_uri": "https://localhost:8080/",
          "height": 34
        }
      },
      "source": [
        "# list comprehension with an if\n",
        "[str(i) if i !=40 else str(i) + '%' for i in range(0,50,10)]"
      ],
      "execution_count": 0,
      "outputs": [
        {
          "output_type": "execute_result",
          "data": {
            "text/plain": [
              "['0', '10', '20', '30', '40%']"
            ]
          },
          "metadata": {
            "tags": []
          },
          "execution_count": 11
        }
      ]
    },
    {
      "cell_type": "code",
      "metadata": {
        "id": "N_vz_wGYVZbj",
        "colab_type": "code",
        "outputId": "010b7b83-2b81-43a3-a12d-cfb650d40b8a",
        "colab": {
          "base_uri": "https://localhost:8080/",
          "height": 329
        }
      },
      "source": [
        "# Change ticks on x and y\n",
        "fig = plt.figure(facecolor='white')\n",
        "ax = fake2.value_counts().sort_index().plot.bar(color='#ed713a', width=0.9)\n",
        "ax.set(facecolor='white')\n",
        "ax.patch.set_alpha(0.1)\n",
        "plt.xlabel('Rating', fontsize=9, fontweight='bold')\n",
        "plt.ylabel('Percent of total votes', fontsize=9, fontweight='bold')\n",
        "plt.title(\"'An Inconvenient Sequel: Truth to Power' is divisible\", \n",
        "         fontweight='bold',\n",
        "         fontsize=13,\n",
        "         loc='left',\n",
        "         x=-0.1, y=1.1)\n",
        "ax.text(x=-1.7, y=42, s='IMDb ratings for film as of Aug. 29', fontsize=11)\n",
        "plt.xticks(rotation=0, color='#a7a7a7')\n",
        "plt.yticks(range(0,50,10), \n",
        "           labels=[str(i) if i !=40 else str(i) + '%' for i in range(0,50,10)],\n",
        "           color='#a7a7a7');\n",
        "ax.tick_params(axis='both', which='major', labelsize=9)\n",
        "ax.tick_params(axis='both', which='minor', labelsize=9)"
      ],
      "execution_count": 0,
      "outputs": [
        {
          "output_type": "display_data",
          "data": {
            "image/png": "[encoded data removed]",
            "text/plain": [
              "<Figure size 432x288 with 1 Axes>"
            ]
          },
          "metadata": {
            "tags": []
          }
        }
      ]
    },
    {
      "cell_type": "code",
      "metadata": {
        "id": "o4fPsIqjbxH0",
        "colab_type": "code",
        "outputId": "eca75a8d-7c19-490c-f62d-fccf365e851d",
        "colab": {
          "base_uri": "https://localhost:8080/",
          "height": 329
        }
      },
      "source": [
        "# I think this is very close to the example using fake data\n",
        "# Change ticks on x and y\n",
        "fig = plt.figure(facecolor='white')\n",
        "ax = fake2.value_counts().sort_index().plot.bar(color='#ed713a', width=0.9)\n",
        "ax.set(facecolor='white')\n",
        "ax.patch.set_alpha(0.1)\n",
        "plt.xlabel('Rating', fontsize=9, fontweight='bold')\n",
        "plt.ylabel('Percent of total votes', fontsize=9, fontweight='bold')\n",
        "plt.title(\"'An Inconvenient Sequel: Truth to Power' is divisible\", \n",
        "         fontweight='bold',\n",
        "         fontsize=13,\n",
        "         loc='left',\n",
        "         x=-0.1, y=1.1)\n",
        "ax.text(x=-1.7, y=42, s='IMDb ratings for film as of Aug. 29', fontsize=11)\n",
        "plt.xticks(rotation=0, color='#a7a7a7')\n",
        "plt.yticks(range(0,50,10), \n",
        "           labels=[str(i) if i !=40 else str(i) + '%' for i in range(0,50,10)],\n",
        "           color='#a7a7a7');\n",
        "ax.tick_params(axis='both', which='major', labelsize=9)\n",
        "ax.tick_params(axis='both', which='minor', labelsize=9)"
      ],
      "execution_count": 0,
      "outputs": [
        {
          "output_type": "display_data",
          "data": {
            "image/png": "[encoded data removed]",
            "text/plain": [
              "<Figure size 432x288 with 1 Axes>"
            ]
          },
          "metadata": {
            "tags": []
          }
        }
      ]
    },
    {
      "cell_type": "code",
      "metadata": {
        "id": "rlXTfd-TVZdw",
        "colab_type": "code",
        "outputId": "decbb292-c15a-4e7c-e6bd-323599c6df80",
        "colab": {
          "base_uri": "https://localhost:8080/",
          "height": 355
        }
      },
      "source": [
        "display(example)"
      ],
      "execution_count": 0,
      "outputs": [
        {
          "output_type": "display_data",
          "data": {
            "text/html": [
              "<img src=\"https://fivethirtyeight.com/wp-content/uploads/2017/09/mehtahickey-inconvenient-0830-1.png\" width=\"400\"/>"
            ],
            "text/plain": [
              "<IPython.core.display.Image object>"
            ]
          },
          "metadata": {
            "tags": []
          }
        }
      ]
    },
    {
      "cell_type": "markdown",
      "metadata": {
        "id": "N9nuwoQlbn0a",
        "colab_type": "text"
      },
      "source": [
        "### Reproduce with real data"
      ]
    },
    {
      "cell_type": "code",
      "metadata": {
        "id": "fi8nE_IJVZgF",
        "colab_type": "code",
        "outputId": "6eace168-e51e-4881-95b6-69c172baf8b4",
        "colab": {
          "base_uri": "https://localhost:8080/",
          "height": 204
        }
      },
      "source": [
        "# import the dataset and save as pandas dataframe, check the head\n",
        "df = pd.read_csv('https://raw.githubusercontent.com/fivethirtyeight/data/master/inconvenient-sequel/ratings.csv')\n",
        "df.head()"
      ],
      "execution_count": 0,
      "outputs": [
        {
          "output_type": "execute_result",
          "data": {
            "text/html": [
              "<div>\n",
              "<style scoped>\n",
              "    .dataframe tbody tr th:only-of-type {\n",
              "        vertical-align: middle;\n",
              "    }\n",
              "\n",
              "    .dataframe tbody tr th {\n",
              "        vertical-align: top;\n",
              "    }\n",
              "\n",
              "    .dataframe thead th {\n",
              "        text-align: right;\n",
              "    }\n",
              "</style>\n",
              "<table border=\"1\" class=\"dataframe\">\n",
              "  <thead>\n",
              "    <tr style=\"text-align: right;\">\n",
              "      <th></th>\n",
              "      <th>timestamp</th>\n",
              "      <th>respondents</th>\n",
              "      <th>category</th>\n",
              "      <th>link</th>\n",
              "      <th>average</th>\n",
              "      <th>mean</th>\n",
              "      <th>median</th>\n",
              "      <th>1_votes</th>\n",
              "      <th>2_votes</th>\n",
              "      <th>3_votes</th>\n",
              "      <th>4_votes</th>\n",
              "      <th>5_votes</th>\n",
              "      <th>6_votes</th>\n",
              "      <th>7_votes</th>\n",
              "      <th>8_votes</th>\n",
              "      <th>9_votes</th>\n",
              "      <th>10_votes</th>\n",
              "      <th>1_pct</th>\n",
              "      <th>2_pct</th>\n",
              "      <th>3_pct</th>\n",
              "      <th>4_pct</th>\n",
              "      <th>5_pct</th>\n",
              "      <th>6_pct</th>\n",
              "      <th>7_pct</th>\n",
              "      <th>8_pct</th>\n",
              "      <th>9_pct</th>\n",
              "      <th>10_pct</th>\n",
              "    </tr>\n",
              "  </thead>\n",
              "  <tbody>\n",
              "    <tr>\n",
              "      <th>0</th>\n",
              "      <td>2017-07-17 12:28:32.785639</td>\n",
              "      <td>402</td>\n",
              "      <td>Males</td>\n",
              "      <td>http://www.imdb.com/title/tt6322922/ratings-male</td>\n",
              "      <td>4.6</td>\n",
              "      <td>5.0</td>\n",
              "      <td>2</td>\n",
              "      <td>197</td>\n",
              "      <td>7</td>\n",
              "      <td>7</td>\n",
              "      <td>3</td>\n",
              "      <td>7</td>\n",
              "      <td>7</td>\n",
              "      <td>11</td>\n",
              "      <td>8</td>\n",
              "      <td>20</td>\n",
              "      <td>135</td>\n",
              "      <td>49.0</td>\n",
              "      <td>1.7</td>\n",
              "      <td>1.7</td>\n",
              "      <td>0.7</td>\n",
              "      <td>1.7</td>\n",
              "      <td>1.7</td>\n",
              "      <td>2.7</td>\n",
              "      <td>2.0</td>\n",
              "      <td>5.0</td>\n",
              "      <td>33.6</td>\n",
              "    </tr>\n",
              "    <tr>\n",
              "      <th>1</th>\n",
              "      <td>2017-07-17 12:28:33.025600</td>\n",
              "      <td>78</td>\n",
              "      <td>Females</td>\n",
              "      <td>http://www.imdb.com/title/tt6322922/ratings-fe...</td>\n",
              "      <td>6.9</td>\n",
              "      <td>7.7</td>\n",
              "      <td>10</td>\n",
              "      <td>16</td>\n",
              "      <td>1</td>\n",
              "      <td>0</td>\n",
              "      <td>1</td>\n",
              "      <td>1</td>\n",
              "      <td>0</td>\n",
              "      <td>3</td>\n",
              "      <td>4</td>\n",
              "      <td>3</td>\n",
              "      <td>49</td>\n",
              "      <td>20.5</td>\n",
              "      <td>1.3</td>\n",
              "      <td>0.0</td>\n",
              "      <td>1.3</td>\n",
              "      <td>1.3</td>\n",
              "      <td>0.0</td>\n",
              "      <td>3.8</td>\n",
              "      <td>5.1</td>\n",
              "      <td>3.8</td>\n",
              "      <td>62.8</td>\n",
              "    </tr>\n",
              "    <tr>\n",
              "      <th>2</th>\n",
              "      <td>2017-07-17 12:28:33.273919</td>\n",
              "      <td>4</td>\n",
              "      <td>Aged under 18</td>\n",
              "      <td>http://www.imdb.com/title/tt6322922/ratings-age_1</td>\n",
              "      <td>4.2</td>\n",
              "      <td>4.2</td>\n",
              "      <td>3</td>\n",
              "      <td>2</td>\n",
              "      <td>0</td>\n",
              "      <td>0</td>\n",
              "      <td>0</td>\n",
              "      <td>1</td>\n",
              "      <td>0</td>\n",
              "      <td>0</td>\n",
              "      <td>0</td>\n",
              "      <td>0</td>\n",
              "      <td>1</td>\n",
              "      <td>50.0</td>\n",
              "      <td>0.0</td>\n",
              "      <td>0.0</td>\n",
              "      <td>0.0</td>\n",
              "      <td>25.0</td>\n",
              "      <td>0.0</td>\n",
              "      <td>0.0</td>\n",
              "      <td>0.0</td>\n",
              "      <td>0.0</td>\n",
              "      <td>25.0</td>\n",
              "    </tr>\n",
              "    <tr>\n",
              "      <th>3</th>\n",
              "      <td>2017-07-17 12:28:33.495325</td>\n",
              "      <td>4</td>\n",
              "      <td>Males under 18</td>\n",
              "      <td>http://www.imdb.com/title/tt6322922/ratings-ma...</td>\n",
              "      <td>4.2</td>\n",
              "      <td>4.2</td>\n",
              "      <td>3</td>\n",
              "      <td>2</td>\n",
              "      <td>0</td>\n",
              "      <td>0</td>\n",
              "      <td>0</td>\n",
              "      <td>1</td>\n",
              "      <td>0</td>\n",
              "      <td>0</td>\n",
              "      <td>0</td>\n",
              "      <td>0</td>\n",
              "      <td>1</td>\n",
              "      <td>50.0</td>\n",
              "      <td>0.0</td>\n",
              "      <td>0.0</td>\n",
              "      <td>0.0</td>\n",
              "      <td>25.0</td>\n",
              "      <td>0.0</td>\n",
              "      <td>0.0</td>\n",
              "      <td>0.0</td>\n",
              "      <td>0.0</td>\n",
              "      <td>25.0</td>\n",
              "    </tr>\n",
              "    <tr>\n",
              "      <th>4</th>\n",
              "      <td>2017-07-17 12:28:33.722849</td>\n",
              "      <td>130</td>\n",
              "      <td>Aged 18-29</td>\n",
              "      <td>http://www.imdb.com/title/tt6322922/ratings-age_2</td>\n",
              "      <td>6.3</td>\n",
              "      <td>6.5</td>\n",
              "      <td>9</td>\n",
              "      <td>41</td>\n",
              "      <td>0</td>\n",
              "      <td>3</td>\n",
              "      <td>1</td>\n",
              "      <td>2</td>\n",
              "      <td>3</td>\n",
              "      <td>6</td>\n",
              "      <td>4</td>\n",
              "      <td>6</td>\n",
              "      <td>64</td>\n",
              "      <td>31.5</td>\n",
              "      <td>0.0</td>\n",
              "      <td>2.3</td>\n",
              "      <td>0.8</td>\n",
              "      <td>1.5</td>\n",
              "      <td>2.3</td>\n",
              "      <td>4.6</td>\n",
              "      <td>3.1</td>\n",
              "      <td>4.6</td>\n",
              "      <td>49.2</td>\n",
              "    </tr>\n",
              "  </tbody>\n",
              "</table>\n",
              "</div>"
            ],
            "text/plain": [
              "                    timestamp  respondents  ... 9_pct 10_pct\n",
              "0  2017-07-17 12:28:32.785639          402  ...   5.0   33.6\n",
              "1  2017-07-17 12:28:33.025600           78  ...   3.8   62.8\n",
              "2  2017-07-17 12:28:33.273919            4  ...   0.0   25.0\n",
              "3  2017-07-17 12:28:33.495325            4  ...   0.0   25.0\n",
              "4  2017-07-17 12:28:33.722849          130  ...   4.6   49.2\n",
              "\n",
              "[5 rows x 27 columns]"
            ]
          },
          "metadata": {
            "tags": []
          },
          "execution_count": 26
        }
      ]
    },
    {
      "cell_type": "code",
      "metadata": {
        "id": "eWXlCDqWbskn",
        "colab_type": "code",
        "outputId": "a14e4768-c278-4e75-9e52-da3665697dc5",
        "colab": {
          "base_uri": "https://localhost:8080/",
          "height": 493
        }
      },
      "source": [
        "# Check types to see if any columns needs changes\n",
        "df.dtypes"
      ],
      "execution_count": 0,
      "outputs": [
        {
          "output_type": "execute_result",
          "data": {
            "text/plain": [
              "timestamp       object\n",
              "respondents      int64\n",
              "category        object\n",
              "link            object\n",
              "average        float64\n",
              "mean           float64\n",
              "median           int64\n",
              "1_votes          int64\n",
              "2_votes          int64\n",
              "3_votes          int64\n",
              "4_votes          int64\n",
              "5_votes          int64\n",
              "6_votes          int64\n",
              "7_votes          int64\n",
              "8_votes          int64\n",
              "9_votes          int64\n",
              "10_votes         int64\n",
              "1_pct          float64\n",
              "2_pct          float64\n",
              "3_pct          float64\n",
              "4_pct          float64\n",
              "5_pct          float64\n",
              "6_pct          float64\n",
              "7_pct          float64\n",
              "8_pct          float64\n",
              "9_pct          float64\n",
              "10_pct         float64\n",
              "dtype: object"
            ]
          },
          "metadata": {
            "tags": []
          },
          "execution_count": 27
        }
      ]
    },
    {
      "cell_type": "code",
      "metadata": {
        "id": "NZPLwR88bsnH",
        "colab_type": "code",
        "colab": {}
      },
      "source": [
        "# timestamp is a str object, let's change to a datetime object\n",
        "df['timestamp'] = pd.to_datetime(df['timestamp'])"
      ],
      "execution_count": 0,
      "outputs": []
    },
    {
      "cell_type": "code",
      "metadata": {
        "id": "5FUz60_Jbspb",
        "colab_type": "code",
        "outputId": "4b49bffc-91c3-4b71-e634-f5bb0e323bf9",
        "colab": {
          "base_uri": "https://localhost:8080/",
          "height": 493
        }
      },
      "source": [
        "# Check to see timestamp is a datetime object, which it is now\n",
        "df.dtypes"
      ],
      "execution_count": 0,
      "outputs": [
        {
          "output_type": "execute_result",
          "data": {
            "text/plain": [
              "timestamp      datetime64[ns]\n",
              "respondents             int64\n",
              "category               object\n",
              "link                   object\n",
              "average               float64\n",
              "mean                  float64\n",
              "median                  int64\n",
              "1_votes                 int64\n",
              "2_votes                 int64\n",
              "3_votes                 int64\n",
              "4_votes                 int64\n",
              "5_votes                 int64\n",
              "6_votes                 int64\n",
              "7_votes                 int64\n",
              "8_votes                 int64\n",
              "9_votes                 int64\n",
              "10_votes                int64\n",
              "1_pct                 float64\n",
              "2_pct                 float64\n",
              "3_pct                 float64\n",
              "4_pct                 float64\n",
              "5_pct                 float64\n",
              "6_pct                 float64\n",
              "7_pct                 float64\n",
              "8_pct                 float64\n",
              "9_pct                 float64\n",
              "10_pct                float64\n",
              "dtype: object"
            ]
          },
          "metadata": {
            "tags": []
          },
          "execution_count": 29
        }
      ]
    },
    {
      "cell_type": "code",
      "metadata": {
        "id": "5EFxNCqDbsr9",
        "colab_type": "code",
        "outputId": "5f2518d2-bd67-4636-8874-7233f5b6ea5f",
        "colab": {
          "base_uri": "https://localhost:8080/",
          "height": 317
        }
      },
      "source": [
        "# Summary stats\n",
        "df.describe()"
      ],
      "execution_count": 0,
      "outputs": [
        {
          "output_type": "execute_result",
          "data": {
            "text/html": [
              "<div>\n",
              "<style scoped>\n",
              "    .dataframe tbody tr th:only-of-type {\n",
              "        vertical-align: middle;\n",
              "    }\n",
              "\n",
              "    .dataframe tbody tr th {\n",
              "        vertical-align: top;\n",
              "    }\n",
              "\n",
              "    .dataframe thead th {\n",
              "        text-align: right;\n",
              "    }\n",
              "</style>\n",
              "<table border=\"1\" class=\"dataframe\">\n",
              "  <thead>\n",
              "    <tr style=\"text-align: right;\">\n",
              "      <th></th>\n",
              "      <th>respondents</th>\n",
              "      <th>average</th>\n",
              "      <th>mean</th>\n",
              "      <th>median</th>\n",
              "      <th>1_votes</th>\n",
              "      <th>2_votes</th>\n",
              "      <th>3_votes</th>\n",
              "      <th>4_votes</th>\n",
              "      <th>5_votes</th>\n",
              "      <th>6_votes</th>\n",
              "      <th>7_votes</th>\n",
              "      <th>8_votes</th>\n",
              "      <th>9_votes</th>\n",
              "      <th>10_votes</th>\n",
              "      <th>1_pct</th>\n",
              "      <th>2_pct</th>\n",
              "      <th>3_pct</th>\n",
              "      <th>4_pct</th>\n",
              "      <th>5_pct</th>\n",
              "      <th>6_pct</th>\n",
              "      <th>7_pct</th>\n",
              "      <th>8_pct</th>\n",
              "      <th>9_pct</th>\n",
              "      <th>10_pct</th>\n",
              "    </tr>\n",
              "  </thead>\n",
              "  <tbody>\n",
              "    <tr>\n",
              "      <th>count</th>\n",
              "      <td>80053.000000</td>\n",
              "      <td>80053.000000</td>\n",
              "      <td>80053.000000</td>\n",
              "      <td>80053.000000</td>\n",
              "      <td>80053.000000</td>\n",
              "      <td>80053.000000</td>\n",
              "      <td>80053.000000</td>\n",
              "      <td>80053.000000</td>\n",
              "      <td>80053.000000</td>\n",
              "      <td>80053.000000</td>\n",
              "      <td>80053.000000</td>\n",
              "      <td>80053.000000</td>\n",
              "      <td>80053.000000</td>\n",
              "      <td>80053.000000</td>\n",
              "      <td>80053.000000</td>\n",
              "      <td>80053.000000</td>\n",
              "      <td>80053.000000</td>\n",
              "      <td>80053.000000</td>\n",
              "      <td>80053.000000</td>\n",
              "      <td>80053.000000</td>\n",
              "      <td>80053.000000</td>\n",
              "      <td>80053.000000</td>\n",
              "      <td>80053.000000</td>\n",
              "      <td>80053.000000</td>\n",
              "    </tr>\n",
              "    <tr>\n",
              "      <th>mean</th>\n",
              "      <td>403.390804</td>\n",
              "      <td>5.331478</td>\n",
              "      <td>5.676954</td>\n",
              "      <td>6.023047</td>\n",
              "      <td>159.455074</td>\n",
              "      <td>11.562103</td>\n",
              "      <td>6.996590</td>\n",
              "      <td>3.211722</td>\n",
              "      <td>7.797684</td>\n",
              "      <td>13.441620</td>\n",
              "      <td>18.832449</td>\n",
              "      <td>17.953256</td>\n",
              "      <td>22.565713</td>\n",
              "      <td>141.574594</td>\n",
              "      <td>37.344919</td>\n",
              "      <td>2.230901</td>\n",
              "      <td>1.726936</td>\n",
              "      <td>1.031519</td>\n",
              "      <td>3.169689</td>\n",
              "      <td>3.504594</td>\n",
              "      <td>4.780199</td>\n",
              "      <td>4.800859</td>\n",
              "      <td>5.978127</td>\n",
              "      <td>35.431905</td>\n",
              "    </tr>\n",
              "    <tr>\n",
              "      <th>std</th>\n",
              "      <td>544.977400</td>\n",
              "      <td>1.673279</td>\n",
              "      <td>1.602680</td>\n",
              "      <td>3.131885</td>\n",
              "      <td>227.154951</td>\n",
              "      <td>16.120869</td>\n",
              "      <td>8.964425</td>\n",
              "      <td>4.267118</td>\n",
              "      <td>10.633648</td>\n",
              "      <td>19.326537</td>\n",
              "      <td>26.799409</td>\n",
              "      <td>25.398818</td>\n",
              "      <td>28.591822</td>\n",
              "      <td>187.954673</td>\n",
              "      <td>20.080097</td>\n",
              "      <td>2.444295</td>\n",
              "      <td>1.620233</td>\n",
              "      <td>1.438929</td>\n",
              "      <td>3.903391</td>\n",
              "      <td>4.137329</td>\n",
              "      <td>3.798714</td>\n",
              "      <td>5.224808</td>\n",
              "      <td>5.759520</td>\n",
              "      <td>15.814088</td>\n",
              "    </tr>\n",
              "    <tr>\n",
              "      <th>min</th>\n",
              "      <td>1.000000</td>\n",
              "      <td>1.000000</td>\n",
              "      <td>1.000000</td>\n",
              "      <td>1.000000</td>\n",
              "      <td>0.000000</td>\n",
              "      <td>0.000000</td>\n",
              "      <td>0.000000</td>\n",
              "      <td>0.000000</td>\n",
              "      <td>0.000000</td>\n",
              "      <td>0.000000</td>\n",
              "      <td>0.000000</td>\n",
              "      <td>0.000000</td>\n",
              "      <td>0.000000</td>\n",
              "      <td>0.000000</td>\n",
              "      <td>0.000000</td>\n",
              "      <td>0.000000</td>\n",
              "      <td>0.000000</td>\n",
              "      <td>0.000000</td>\n",
              "      <td>0.000000</td>\n",
              "      <td>0.000000</td>\n",
              "      <td>0.000000</td>\n",
              "      <td>0.000000</td>\n",
              "      <td>0.000000</td>\n",
              "      <td>0.000000</td>\n",
              "    </tr>\n",
              "    <tr>\n",
              "      <th>25%</th>\n",
              "      <td>34.000000</td>\n",
              "      <td>4.300000</td>\n",
              "      <td>4.800000</td>\n",
              "      <td>3.000000</td>\n",
              "      <td>6.000000</td>\n",
              "      <td>0.000000</td>\n",
              "      <td>0.000000</td>\n",
              "      <td>0.000000</td>\n",
              "      <td>1.000000</td>\n",
              "      <td>1.000000</td>\n",
              "      <td>1.000000</td>\n",
              "      <td>2.000000</td>\n",
              "      <td>2.000000</td>\n",
              "      <td>6.000000</td>\n",
              "      <td>25.000000</td>\n",
              "      <td>0.000000</td>\n",
              "      <td>0.000000</td>\n",
              "      <td>0.000000</td>\n",
              "      <td>0.800000</td>\n",
              "      <td>1.200000</td>\n",
              "      <td>2.200000</td>\n",
              "      <td>2.600000</td>\n",
              "      <td>3.600000</td>\n",
              "      <td>26.300000</td>\n",
              "    </tr>\n",
              "    <tr>\n",
              "      <th>50%</th>\n",
              "      <td>244.000000</td>\n",
              "      <td>5.300000</td>\n",
              "      <td>5.500000</td>\n",
              "      <td>6.000000</td>\n",
              "      <td>81.000000</td>\n",
              "      <td>3.000000</td>\n",
              "      <td>4.000000</td>\n",
              "      <td>2.000000</td>\n",
              "      <td>4.000000</td>\n",
              "      <td>6.000000</td>\n",
              "      <td>8.000000</td>\n",
              "      <td>10.000000</td>\n",
              "      <td>16.000000</td>\n",
              "      <td>85.000000</td>\n",
              "      <td>38.600000</td>\n",
              "      <td>2.000000</td>\n",
              "      <td>1.500000</td>\n",
              "      <td>0.600000</td>\n",
              "      <td>1.700000</td>\n",
              "      <td>2.900000</td>\n",
              "      <td>4.200000</td>\n",
              "      <td>4.300000</td>\n",
              "      <td>5.300000</td>\n",
              "      <td>35.500000</td>\n",
              "    </tr>\n",
              "    <tr>\n",
              "      <th>75%</th>\n",
              "      <td>518.000000</td>\n",
              "      <td>6.500000</td>\n",
              "      <td>6.600000</td>\n",
              "      <td>9.000000</td>\n",
              "      <td>227.000000</td>\n",
              "      <td>20.000000</td>\n",
              "      <td>10.000000</td>\n",
              "      <td>5.000000</td>\n",
              "      <td>10.000000</td>\n",
              "      <td>19.000000</td>\n",
              "      <td>26.000000</td>\n",
              "      <td>24.000000</td>\n",
              "      <td>32.000000</td>\n",
              "      <td>188.000000</td>\n",
              "      <td>46.000000</td>\n",
              "      <td>3.200000</td>\n",
              "      <td>2.200000</td>\n",
              "      <td>1.400000</td>\n",
              "      <td>3.600000</td>\n",
              "      <td>4.300000</td>\n",
              "      <td>6.800000</td>\n",
              "      <td>5.300000</td>\n",
              "      <td>6.400000</td>\n",
              "      <td>45.100000</td>\n",
              "    </tr>\n",
              "    <tr>\n",
              "      <th>max</th>\n",
              "      <td>2662.000000</td>\n",
              "      <td>8.500000</td>\n",
              "      <td>8.600000</td>\n",
              "      <td>10.000000</td>\n",
              "      <td>1021.000000</td>\n",
              "      <td>69.000000</td>\n",
              "      <td>40.000000</td>\n",
              "      <td>25.000000</td>\n",
              "      <td>55.000000</td>\n",
              "      <td>110.000000</td>\n",
              "      <td>154.000000</td>\n",
              "      <td>147.000000</td>\n",
              "      <td>146.000000</td>\n",
              "      <td>897.000000</td>\n",
              "      <td>100.000000</td>\n",
              "      <td>10.300000</td>\n",
              "      <td>9.100000</td>\n",
              "      <td>8.600000</td>\n",
              "      <td>25.000000</td>\n",
              "      <td>50.000000</td>\n",
              "      <td>25.000000</td>\n",
              "      <td>28.600000</td>\n",
              "      <td>33.300000</td>\n",
              "      <td>82.800000</td>\n",
              "    </tr>\n",
              "  </tbody>\n",
              "</table>\n",
              "</div>"
            ],
            "text/plain": [
              "        respondents       average  ...         9_pct        10_pct\n",
              "count  80053.000000  80053.000000  ...  80053.000000  80053.000000\n",
              "mean     403.390804      5.331478  ...      5.978127     35.431905\n",
              "std      544.977400      1.673279  ...      5.759520     15.814088\n",
              "min        1.000000      1.000000  ...      0.000000      0.000000\n",
              "25%       34.000000      4.300000  ...      3.600000     26.300000\n",
              "50%      244.000000      5.300000  ...      5.300000     35.500000\n",
              "75%      518.000000      6.500000  ...      6.400000     45.100000\n",
              "max     2662.000000      8.500000  ...     33.300000     82.800000\n",
              "\n",
              "[8 rows x 24 columns]"
            ]
          },
          "metadata": {
            "tags": []
          },
          "execution_count": 30
        }
      ]
    },
    {
      "cell_type": "code",
      "metadata": {
        "id": "G6_VGYfWbsuk",
        "colab_type": "code",
        "outputId": "c0473148-ae2c-44c6-8e70-e086b95f70da",
        "colab": {
          "base_uri": "https://localhost:8080/",
          "height": 34
        }
      },
      "source": [
        "# Check min, max on datetime\n",
        "print(\"Min = \", df['timestamp'].min(), \"Max = \", df['timestamp'].max())"
      ],
      "execution_count": 0,
      "outputs": [
        {
          "output_type": "stream",
          "text": [
            "Min =  2017-07-17 12:28:32.785639 Max =  2017-08-29 23:10:06.218251\n"
          ],
          "name": "stdout"
        }
      ]
    },
    {
      "cell_type": "code",
      "metadata": {
        "id": "TKhbu2JSbsw5",
        "colab_type": "code",
        "colab": {}
      },
      "source": [
        "# set timestamp as index it to index and either reassign or use inplace command\n",
        "df = df.set_index('timestamp')"
      ],
      "execution_count": 0,
      "outputs": []
    },
    {
      "cell_type": "code",
      "metadata": {
        "id": "kzlS5Z-abszU",
        "colab_type": "code",
        "outputId": "f14bc80f-0017-4b24-d591-4f6c8a726aa3",
        "colab": {
          "base_uri": "https://localhost:8080/",
          "height": 235
        }
      },
      "source": [
        "# Check head\n",
        "df.head()"
      ],
      "execution_count": 0,
      "outputs": [
        {
          "output_type": "execute_result",
          "data": {
            "text/html": [
              "<div>\n",
              "<style scoped>\n",
              "    .dataframe tbody tr th:only-of-type {\n",
              "        vertical-align: middle;\n",
              "    }\n",
              "\n",
              "    .dataframe tbody tr th {\n",
              "        vertical-align: top;\n",
              "    }\n",
              "\n",
              "    .dataframe thead th {\n",
              "        text-align: right;\n",
              "    }\n",
              "</style>\n",
              "<table border=\"1\" class=\"dataframe\">\n",
              "  <thead>\n",
              "    <tr style=\"text-align: right;\">\n",
              "      <th></th>\n",
              "      <th>respondents</th>\n",
              "      <th>category</th>\n",
              "      <th>link</th>\n",
              "      <th>average</th>\n",
              "      <th>mean</th>\n",
              "      <th>median</th>\n",
              "      <th>1_votes</th>\n",
              "      <th>2_votes</th>\n",
              "      <th>3_votes</th>\n",
              "      <th>4_votes</th>\n",
              "      <th>5_votes</th>\n",
              "      <th>6_votes</th>\n",
              "      <th>7_votes</th>\n",
              "      <th>8_votes</th>\n",
              "      <th>9_votes</th>\n",
              "      <th>10_votes</th>\n",
              "      <th>1_pct</th>\n",
              "      <th>2_pct</th>\n",
              "      <th>3_pct</th>\n",
              "      <th>4_pct</th>\n",
              "      <th>5_pct</th>\n",
              "      <th>6_pct</th>\n",
              "      <th>7_pct</th>\n",
              "      <th>8_pct</th>\n",
              "      <th>9_pct</th>\n",
              "      <th>10_pct</th>\n",
              "    </tr>\n",
              "    <tr>\n",
              "      <th>timestamp</th>\n",
              "      <th></th>\n",
              "      <th></th>\n",
              "      <th></th>\n",
              "      <th></th>\n",
              "      <th></th>\n",
              "      <th></th>\n",
              "      <th></th>\n",
              "      <th></th>\n",
              "      <th></th>\n",
              "      <th></th>\n",
              "      <th></th>\n",
              "      <th></th>\n",
              "      <th></th>\n",
              "      <th></th>\n",
              "      <th></th>\n",
              "      <th></th>\n",
              "      <th></th>\n",
              "      <th></th>\n",
              "      <th></th>\n",
              "      <th></th>\n",
              "      <th></th>\n",
              "      <th></th>\n",
              "      <th></th>\n",
              "      <th></th>\n",
              "      <th></th>\n",
              "      <th></th>\n",
              "    </tr>\n",
              "  </thead>\n",
              "  <tbody>\n",
              "    <tr>\n",
              "      <th>2017-07-17 12:28:32.785639</th>\n",
              "      <td>402</td>\n",
              "      <td>Males</td>\n",
              "      <td>http://www.imdb.com/title/tt6322922/ratings-male</td>\n",
              "      <td>4.6</td>\n",
              "      <td>5.0</td>\n",
              "      <td>2</td>\n",
              "      <td>197</td>\n",
              "      <td>7</td>\n",
              "      <td>7</td>\n",
              "      <td>3</td>\n",
              "      <td>7</td>\n",
              "      <td>7</td>\n",
              "      <td>11</td>\n",
              "      <td>8</td>\n",
              "      <td>20</td>\n",
              "      <td>135</td>\n",
              "      <td>49.0</td>\n",
              "      <td>1.7</td>\n",
              "      <td>1.7</td>\n",
              "      <td>0.7</td>\n",
              "      <td>1.7</td>\n",
              "      <td>1.7</td>\n",
              "      <td>2.7</td>\n",
              "      <td>2.0</td>\n",
              "      <td>5.0</td>\n",
              "      <td>33.6</td>\n",
              "    </tr>\n",
              "    <tr>\n",
              "      <th>2017-07-17 12:28:33.025600</th>\n",
              "      <td>78</td>\n",
              "      <td>Females</td>\n",
              "      <td>http://www.imdb.com/title/tt6322922/ratings-fe...</td>\n",
              "      <td>6.9</td>\n",
              "      <td>7.7</td>\n",
              "      <td>10</td>\n",
              "      <td>16</td>\n",
              "      <td>1</td>\n",
              "      <td>0</td>\n",
              "      <td>1</td>\n",
              "      <td>1</td>\n",
              "      <td>0</td>\n",
              "      <td>3</td>\n",
              "      <td>4</td>\n",
              "      <td>3</td>\n",
              "      <td>49</td>\n",
              "      <td>20.5</td>\n",
              "      <td>1.3</td>\n",
              "      <td>0.0</td>\n",
              "      <td>1.3</td>\n",
              "      <td>1.3</td>\n",
              "      <td>0.0</td>\n",
              "      <td>3.8</td>\n",
              "      <td>5.1</td>\n",
              "      <td>3.8</td>\n",
              "      <td>62.8</td>\n",
              "    </tr>\n",
              "    <tr>\n",
              "      <th>2017-07-17 12:28:33.273919</th>\n",
              "      <td>4</td>\n",
              "      <td>Aged under 18</td>\n",
              "      <td>http://www.imdb.com/title/tt6322922/ratings-age_1</td>\n",
              "      <td>4.2</td>\n",
              "      <td>4.2</td>\n",
              "      <td>3</td>\n",
              "      <td>2</td>\n",
              "      <td>0</td>\n",
              "      <td>0</td>\n",
              "      <td>0</td>\n",
              "      <td>1</td>\n",
              "      <td>0</td>\n",
              "      <td>0</td>\n",
              "      <td>0</td>\n",
              "      <td>0</td>\n",
              "      <td>1</td>\n",
              "      <td>50.0</td>\n",
              "      <td>0.0</td>\n",
              "      <td>0.0</td>\n",
              "      <td>0.0</td>\n",
              "      <td>25.0</td>\n",
              "      <td>0.0</td>\n",
              "      <td>0.0</td>\n",
              "      <td>0.0</td>\n",
              "      <td>0.0</td>\n",
              "      <td>25.0</td>\n",
              "    </tr>\n",
              "    <tr>\n",
              "      <th>2017-07-17 12:28:33.495325</th>\n",
              "      <td>4</td>\n",
              "      <td>Males under 18</td>\n",
              "      <td>http://www.imdb.com/title/tt6322922/ratings-ma...</td>\n",
              "      <td>4.2</td>\n",
              "      <td>4.2</td>\n",
              "      <td>3</td>\n",
              "      <td>2</td>\n",
              "      <td>0</td>\n",
              "      <td>0</td>\n",
              "      <td>0</td>\n",
              "      <td>1</td>\n",
              "      <td>0</td>\n",
              "      <td>0</td>\n",
              "      <td>0</td>\n",
              "      <td>0</td>\n",
              "      <td>1</td>\n",
              "      <td>50.0</td>\n",
              "      <td>0.0</td>\n",
              "      <td>0.0</td>\n",
              "      <td>0.0</td>\n",
              "      <td>25.0</td>\n",
              "      <td>0.0</td>\n",
              "      <td>0.0</td>\n",
              "      <td>0.0</td>\n",
              "      <td>0.0</td>\n",
              "      <td>25.0</td>\n",
              "    </tr>\n",
              "    <tr>\n",
              "      <th>2017-07-17 12:28:33.722849</th>\n",
              "      <td>130</td>\n",
              "      <td>Aged 18-29</td>\n",
              "      <td>http://www.imdb.com/title/tt6322922/ratings-age_2</td>\n",
              "      <td>6.3</td>\n",
              "      <td>6.5</td>\n",
              "      <td>9</td>\n",
              "      <td>41</td>\n",
              "      <td>0</td>\n",
              "      <td>3</td>\n",
              "      <td>1</td>\n",
              "      <td>2</td>\n",
              "      <td>3</td>\n",
              "      <td>6</td>\n",
              "      <td>4</td>\n",
              "      <td>6</td>\n",
              "      <td>64</td>\n",
              "      <td>31.5</td>\n",
              "      <td>0.0</td>\n",
              "      <td>2.3</td>\n",
              "      <td>0.8</td>\n",
              "      <td>1.5</td>\n",
              "      <td>2.3</td>\n",
              "      <td>4.6</td>\n",
              "      <td>3.1</td>\n",
              "      <td>4.6</td>\n",
              "      <td>49.2</td>\n",
              "    </tr>\n",
              "  </tbody>\n",
              "</table>\n",
              "</div>"
            ],
            "text/plain": [
              "                            respondents        category  ... 9_pct  10_pct\n",
              "timestamp                                                ...              \n",
              "2017-07-17 12:28:32.785639          402           Males  ...   5.0    33.6\n",
              "2017-07-17 12:28:33.025600           78         Females  ...   3.8    62.8\n",
              "2017-07-17 12:28:33.273919            4   Aged under 18  ...   0.0    25.0\n",
              "2017-07-17 12:28:33.495325            4  Males under 18  ...   0.0    25.0\n",
              "2017-07-17 12:28:33.722849          130      Aged 18-29  ...   4.6    49.2\n",
              "\n",
              "[5 rows x 26 columns]"
            ]
          },
          "metadata": {
            "tags": []
          },
          "execution_count": 33
        }
      ]
    },
    {
      "cell_type": "code",
      "metadata": {
        "id": "jFjsopiNbs1z",
        "colab_type": "code",
        "colab": {}
      },
      "source": [
        " # Get data from very last day\n",
        "  lastday = df['2017-08-29']"
      ],
      "execution_count": 0,
      "outputs": []
    },
    {
      "cell_type": "code",
      "metadata": {
        "id": "e1UaCzLFbs4J",
        "colab_type": "code",
        "outputId": "1d290d36-80ef-4a9c-a105-e92d1f969b84",
        "colab": {
          "base_uri": "https://localhost:8080/",
          "height": 235
        }
      },
      "source": [
        "lastday.head()"
      ],
      "execution_count": 0,
      "outputs": [
        {
          "output_type": "execute_result",
          "data": {
            "text/html": [
              "<div>\n",
              "<style scoped>\n",
              "    .dataframe tbody tr th:only-of-type {\n",
              "        vertical-align: middle;\n",
              "    }\n",
              "\n",
              "    .dataframe tbody tr th {\n",
              "        vertical-align: top;\n",
              "    }\n",
              "\n",
              "    .dataframe thead th {\n",
              "        text-align: right;\n",
              "    }\n",
              "</style>\n",
              "<table border=\"1\" class=\"dataframe\">\n",
              "  <thead>\n",
              "    <tr style=\"text-align: right;\">\n",
              "      <th></th>\n",
              "      <th>respondents</th>\n",
              "      <th>category</th>\n",
              "      <th>link</th>\n",
              "      <th>average</th>\n",
              "      <th>mean</th>\n",
              "      <th>median</th>\n",
              "      <th>1_votes</th>\n",
              "      <th>2_votes</th>\n",
              "      <th>3_votes</th>\n",
              "      <th>4_votes</th>\n",
              "      <th>5_votes</th>\n",
              "      <th>6_votes</th>\n",
              "      <th>7_votes</th>\n",
              "      <th>8_votes</th>\n",
              "      <th>9_votes</th>\n",
              "      <th>10_votes</th>\n",
              "      <th>1_pct</th>\n",
              "      <th>2_pct</th>\n",
              "      <th>3_pct</th>\n",
              "      <th>4_pct</th>\n",
              "      <th>5_pct</th>\n",
              "      <th>6_pct</th>\n",
              "      <th>7_pct</th>\n",
              "      <th>8_pct</th>\n",
              "      <th>9_pct</th>\n",
              "      <th>10_pct</th>\n",
              "    </tr>\n",
              "    <tr>\n",
              "      <th>timestamp</th>\n",
              "      <th></th>\n",
              "      <th></th>\n",
              "      <th></th>\n",
              "      <th></th>\n",
              "      <th></th>\n",
              "      <th></th>\n",
              "      <th></th>\n",
              "      <th></th>\n",
              "      <th></th>\n",
              "      <th></th>\n",
              "      <th></th>\n",
              "      <th></th>\n",
              "      <th></th>\n",
              "      <th></th>\n",
              "      <th></th>\n",
              "      <th></th>\n",
              "      <th></th>\n",
              "      <th></th>\n",
              "      <th></th>\n",
              "      <th></th>\n",
              "      <th></th>\n",
              "      <th></th>\n",
              "      <th></th>\n",
              "      <th></th>\n",
              "      <th></th>\n",
              "      <th></th>\n",
              "    </tr>\n",
              "  </thead>\n",
              "  <tbody>\n",
              "    <tr>\n",
              "      <th>2017-08-29 00:00:02.248882</th>\n",
              "      <td>1682</td>\n",
              "      <td>Males</td>\n",
              "      <td>http://www.imdb.com/title/tt6322922/ratings-male</td>\n",
              "      <td>5.3</td>\n",
              "      <td>5.3</td>\n",
              "      <td>6</td>\n",
              "      <td>671</td>\n",
              "      <td>50</td>\n",
              "      <td>29</td>\n",
              "      <td>12</td>\n",
              "      <td>42</td>\n",
              "      <td>79</td>\n",
              "      <td>107</td>\n",
              "      <td>90</td>\n",
              "      <td>83</td>\n",
              "      <td>519</td>\n",
              "      <td>39.9</td>\n",
              "      <td>3.0</td>\n",
              "      <td>1.7</td>\n",
              "      <td>0.7</td>\n",
              "      <td>2.5</td>\n",
              "      <td>4.7</td>\n",
              "      <td>6.4</td>\n",
              "      <td>5.4</td>\n",
              "      <td>4.9</td>\n",
              "      <td>30.9</td>\n",
              "    </tr>\n",
              "    <tr>\n",
              "      <th>2017-08-29 00:00:02.499363</th>\n",
              "      <td>257</td>\n",
              "      <td>Females</td>\n",
              "      <td>http://www.imdb.com/title/tt6322922/ratings-fe...</td>\n",
              "      <td>6.9</td>\n",
              "      <td>7.3</td>\n",
              "      <td>10</td>\n",
              "      <td>53</td>\n",
              "      <td>3</td>\n",
              "      <td>4</td>\n",
              "      <td>4</td>\n",
              "      <td>4</td>\n",
              "      <td>5</td>\n",
              "      <td>14</td>\n",
              "      <td>13</td>\n",
              "      <td>26</td>\n",
              "      <td>131</td>\n",
              "      <td>20.6</td>\n",
              "      <td>1.2</td>\n",
              "      <td>1.6</td>\n",
              "      <td>1.6</td>\n",
              "      <td>1.6</td>\n",
              "      <td>1.9</td>\n",
              "      <td>5.4</td>\n",
              "      <td>5.1</td>\n",
              "      <td>10.1</td>\n",
              "      <td>51.0</td>\n",
              "    </tr>\n",
              "    <tr>\n",
              "      <th>2017-08-29 00:00:02.727204</th>\n",
              "      <td>15</td>\n",
              "      <td>Aged under 18</td>\n",
              "      <td>http://www.imdb.com/title/tt6322922/ratings-age_1</td>\n",
              "      <td>4.5</td>\n",
              "      <td>5.3</td>\n",
              "      <td>5</td>\n",
              "      <td>7</td>\n",
              "      <td>0</td>\n",
              "      <td>0</td>\n",
              "      <td>0</td>\n",
              "      <td>1</td>\n",
              "      <td>0</td>\n",
              "      <td>1</td>\n",
              "      <td>0</td>\n",
              "      <td>0</td>\n",
              "      <td>6</td>\n",
              "      <td>46.7</td>\n",
              "      <td>0.0</td>\n",
              "      <td>0.0</td>\n",
              "      <td>0.0</td>\n",
              "      <td>6.7</td>\n",
              "      <td>0.0</td>\n",
              "      <td>6.7</td>\n",
              "      <td>0.0</td>\n",
              "      <td>0.0</td>\n",
              "      <td>40.0</td>\n",
              "    </tr>\n",
              "    <tr>\n",
              "      <th>2017-08-29 00:00:03.024270</th>\n",
              "      <td>13</td>\n",
              "      <td>Males under 18</td>\n",
              "      <td>http://www.imdb.com/title/tt6322922/ratings-ma...</td>\n",
              "      <td>5.3</td>\n",
              "      <td>5.9</td>\n",
              "      <td>7</td>\n",
              "      <td>5</td>\n",
              "      <td>0</td>\n",
              "      <td>0</td>\n",
              "      <td>0</td>\n",
              "      <td>1</td>\n",
              "      <td>0</td>\n",
              "      <td>1</td>\n",
              "      <td>0</td>\n",
              "      <td>0</td>\n",
              "      <td>6</td>\n",
              "      <td>38.5</td>\n",
              "      <td>0.0</td>\n",
              "      <td>0.0</td>\n",
              "      <td>0.0</td>\n",
              "      <td>7.7</td>\n",
              "      <td>0.0</td>\n",
              "      <td>7.7</td>\n",
              "      <td>0.0</td>\n",
              "      <td>0.0</td>\n",
              "      <td>46.2</td>\n",
              "    </tr>\n",
              "    <tr>\n",
              "      <th>2017-08-29 00:00:03.248207</th>\n",
              "      <td>2</td>\n",
              "      <td>Females under 18</td>\n",
              "      <td>http://www.imdb.com/title/tt6322922/ratings-fe...</td>\n",
              "      <td>1.0</td>\n",
              "      <td>1.0</td>\n",
              "      <td>1</td>\n",
              "      <td>2</td>\n",
              "      <td>0</td>\n",
              "      <td>0</td>\n",
              "      <td>0</td>\n",
              "      <td>0</td>\n",
              "      <td>0</td>\n",
              "      <td>0</td>\n",
              "      <td>0</td>\n",
              "      <td>0</td>\n",
              "      <td>0</td>\n",
              "      <td>100.0</td>\n",
              "      <td>0.0</td>\n",
              "      <td>0.0</td>\n",
              "      <td>0.0</td>\n",
              "      <td>0.0</td>\n",
              "      <td>0.0</td>\n",
              "      <td>0.0</td>\n",
              "      <td>0.0</td>\n",
              "      <td>0.0</td>\n",
              "      <td>0.0</td>\n",
              "    </tr>\n",
              "  </tbody>\n",
              "</table>\n",
              "</div>"
            ],
            "text/plain": [
              "                            respondents          category  ... 9_pct  10_pct\n",
              "timestamp                                                  ...              \n",
              "2017-08-29 00:00:02.248882         1682             Males  ...   4.9    30.9\n",
              "2017-08-29 00:00:02.499363          257           Females  ...  10.1    51.0\n",
              "2017-08-29 00:00:02.727204           15     Aged under 18  ...   0.0    40.0\n",
              "2017-08-29 00:00:03.024270           13    Males under 18  ...   0.0    46.2\n",
              "2017-08-29 00:00:03.248207            2  Females under 18  ...   0.0     0.0\n",
              "\n",
              "[5 rows x 26 columns]"
            ]
          },
          "metadata": {
            "tags": []
          },
          "execution_count": 36
        }
      ]
    },
    {
      "cell_type": "code",
      "metadata": {
        "id": "ubMXITHybs6d",
        "colab_type": "code",
        "outputId": "a8883429-d585-41b1-fb3e-87621b2bc4f6",
        "colab": {
          "base_uri": "https://localhost:8080/",
          "height": 235
        }
      },
      "source": [
        "# Filter to IMDb users\n",
        "lastday_filtered = lastday[lastday['category']=='IMDb users']\n",
        "lastday_filtered.head()"
      ],
      "execution_count": 0,
      "outputs": [
        {
          "output_type": "execute_result",
          "data": {
            "text/html": [
              "<div>\n",
              "<style scoped>\n",
              "    .dataframe tbody tr th:only-of-type {\n",
              "        vertical-align: middle;\n",
              "    }\n",
              "\n",
              "    .dataframe tbody tr th {\n",
              "        vertical-align: top;\n",
              "    }\n",
              "\n",
              "    .dataframe thead th {\n",
              "        text-align: right;\n",
              "    }\n",
              "</style>\n",
              "<table border=\"1\" class=\"dataframe\">\n",
              "  <thead>\n",
              "    <tr style=\"text-align: right;\">\n",
              "      <th></th>\n",
              "      <th>respondents</th>\n",
              "      <th>category</th>\n",
              "      <th>link</th>\n",
              "      <th>average</th>\n",
              "      <th>mean</th>\n",
              "      <th>median</th>\n",
              "      <th>1_votes</th>\n",
              "      <th>2_votes</th>\n",
              "      <th>3_votes</th>\n",
              "      <th>4_votes</th>\n",
              "      <th>5_votes</th>\n",
              "      <th>6_votes</th>\n",
              "      <th>7_votes</th>\n",
              "      <th>8_votes</th>\n",
              "      <th>9_votes</th>\n",
              "      <th>10_votes</th>\n",
              "      <th>1_pct</th>\n",
              "      <th>2_pct</th>\n",
              "      <th>3_pct</th>\n",
              "      <th>4_pct</th>\n",
              "      <th>5_pct</th>\n",
              "      <th>6_pct</th>\n",
              "      <th>7_pct</th>\n",
              "      <th>8_pct</th>\n",
              "      <th>9_pct</th>\n",
              "      <th>10_pct</th>\n",
              "    </tr>\n",
              "    <tr>\n",
              "      <th>timestamp</th>\n",
              "      <th></th>\n",
              "      <th></th>\n",
              "      <th></th>\n",
              "      <th></th>\n",
              "      <th></th>\n",
              "      <th></th>\n",
              "      <th></th>\n",
              "      <th></th>\n",
              "      <th></th>\n",
              "      <th></th>\n",
              "      <th></th>\n",
              "      <th></th>\n",
              "      <th></th>\n",
              "      <th></th>\n",
              "      <th></th>\n",
              "      <th></th>\n",
              "      <th></th>\n",
              "      <th></th>\n",
              "      <th></th>\n",
              "      <th></th>\n",
              "      <th></th>\n",
              "      <th></th>\n",
              "      <th></th>\n",
              "      <th></th>\n",
              "      <th></th>\n",
              "      <th></th>\n",
              "    </tr>\n",
              "  </thead>\n",
              "  <tbody>\n",
              "    <tr>\n",
              "      <th>2017-08-29 00:00:06.288486</th>\n",
              "      <td>2646</td>\n",
              "      <td>IMDb users</td>\n",
              "      <td>http://www.imdb.com/title/tt6322922/ratings</td>\n",
              "      <td>5.4</td>\n",
              "      <td>5.6</td>\n",
              "      <td>7</td>\n",
              "      <td>1020</td>\n",
              "      <td>67</td>\n",
              "      <td>39</td>\n",
              "      <td>24</td>\n",
              "      <td>55</td>\n",
              "      <td>107</td>\n",
              "      <td>152</td>\n",
              "      <td>145</td>\n",
              "      <td>144</td>\n",
              "      <td>893</td>\n",
              "      <td>38.5</td>\n",
              "      <td>2.5</td>\n",
              "      <td>1.5</td>\n",
              "      <td>0.9</td>\n",
              "      <td>2.1</td>\n",
              "      <td>4.0</td>\n",
              "      <td>5.7</td>\n",
              "      <td>5.5</td>\n",
              "      <td>5.4</td>\n",
              "      <td>33.7</td>\n",
              "    </tr>\n",
              "    <tr>\n",
              "      <th>2017-08-29 00:10:06.763461</th>\n",
              "      <td>2646</td>\n",
              "      <td>IMDb users</td>\n",
              "      <td>http://www.imdb.com/title/tt6322922/ratings</td>\n",
              "      <td>5.4</td>\n",
              "      <td>5.6</td>\n",
              "      <td>7</td>\n",
              "      <td>1020</td>\n",
              "      <td>67</td>\n",
              "      <td>39</td>\n",
              "      <td>24</td>\n",
              "      <td>55</td>\n",
              "      <td>107</td>\n",
              "      <td>152</td>\n",
              "      <td>145</td>\n",
              "      <td>144</td>\n",
              "      <td>893</td>\n",
              "      <td>38.5</td>\n",
              "      <td>2.5</td>\n",
              "      <td>1.5</td>\n",
              "      <td>0.9</td>\n",
              "      <td>2.1</td>\n",
              "      <td>4.0</td>\n",
              "      <td>5.7</td>\n",
              "      <td>5.5</td>\n",
              "      <td>5.4</td>\n",
              "      <td>33.7</td>\n",
              "    </tr>\n",
              "    <tr>\n",
              "      <th>2017-08-29 00:20:05.745307</th>\n",
              "      <td>2646</td>\n",
              "      <td>IMDb users</td>\n",
              "      <td>http://www.imdb.com/title/tt6322922/ratings</td>\n",
              "      <td>5.4</td>\n",
              "      <td>5.6</td>\n",
              "      <td>7</td>\n",
              "      <td>1020</td>\n",
              "      <td>67</td>\n",
              "      <td>39</td>\n",
              "      <td>24</td>\n",
              "      <td>55</td>\n",
              "      <td>107</td>\n",
              "      <td>152</td>\n",
              "      <td>145</td>\n",
              "      <td>144</td>\n",
              "      <td>893</td>\n",
              "      <td>38.5</td>\n",
              "      <td>2.5</td>\n",
              "      <td>1.5</td>\n",
              "      <td>0.9</td>\n",
              "      <td>2.1</td>\n",
              "      <td>4.0</td>\n",
              "      <td>5.7</td>\n",
              "      <td>5.5</td>\n",
              "      <td>5.4</td>\n",
              "      <td>33.7</td>\n",
              "    </tr>\n",
              "    <tr>\n",
              "      <th>2017-08-29 00:30:05.818552</th>\n",
              "      <td>2646</td>\n",
              "      <td>IMDb users</td>\n",
              "      <td>http://www.imdb.com/title/tt6322922/ratings</td>\n",
              "      <td>5.4</td>\n",
              "      <td>5.6</td>\n",
              "      <td>7</td>\n",
              "      <td>1020</td>\n",
              "      <td>67</td>\n",
              "      <td>39</td>\n",
              "      <td>24</td>\n",
              "      <td>55</td>\n",
              "      <td>107</td>\n",
              "      <td>152</td>\n",
              "      <td>145</td>\n",
              "      <td>144</td>\n",
              "      <td>893</td>\n",
              "      <td>38.5</td>\n",
              "      <td>2.5</td>\n",
              "      <td>1.5</td>\n",
              "      <td>0.9</td>\n",
              "      <td>2.1</td>\n",
              "      <td>4.0</td>\n",
              "      <td>5.7</td>\n",
              "      <td>5.5</td>\n",
              "      <td>5.4</td>\n",
              "      <td>33.7</td>\n",
              "    </tr>\n",
              "    <tr>\n",
              "      <th>2017-08-29 00:40:06.180928</th>\n",
              "      <td>2646</td>\n",
              "      <td>IMDb users</td>\n",
              "      <td>http://www.imdb.com/title/tt6322922/ratings</td>\n",
              "      <td>5.4</td>\n",
              "      <td>5.6</td>\n",
              "      <td>7</td>\n",
              "      <td>1020</td>\n",
              "      <td>67</td>\n",
              "      <td>39</td>\n",
              "      <td>24</td>\n",
              "      <td>55</td>\n",
              "      <td>107</td>\n",
              "      <td>152</td>\n",
              "      <td>145</td>\n",
              "      <td>144</td>\n",
              "      <td>893</td>\n",
              "      <td>38.5</td>\n",
              "      <td>2.5</td>\n",
              "      <td>1.5</td>\n",
              "      <td>0.9</td>\n",
              "      <td>2.1</td>\n",
              "      <td>4.0</td>\n",
              "      <td>5.7</td>\n",
              "      <td>5.5</td>\n",
              "      <td>5.4</td>\n",
              "      <td>33.7</td>\n",
              "    </tr>\n",
              "  </tbody>\n",
              "</table>\n",
              "</div>"
            ],
            "text/plain": [
              "                            respondents    category  ... 9_pct  10_pct\n",
              "timestamp                                            ...              \n",
              "2017-08-29 00:00:06.288486         2646  IMDb users  ...   5.4    33.7\n",
              "2017-08-29 00:10:06.763461         2646  IMDb users  ...   5.4    33.7\n",
              "2017-08-29 00:20:05.745307         2646  IMDb users  ...   5.4    33.7\n",
              "2017-08-29 00:30:05.818552         2646  IMDb users  ...   5.4    33.7\n",
              "2017-08-29 00:40:06.180928         2646  IMDb users  ...   5.4    33.7\n",
              "\n",
              "[5 rows x 26 columns]"
            ]
          },
          "metadata": {
            "tags": []
          },
          "execution_count": 37
        }
      ]
    },
    {
      "cell_type": "code",
      "metadata": {
        "id": "NegNrtRUgVqE",
        "colab_type": "code",
        "outputId": "b7b7c208-c640-40e7-edaa-401c56804d4e",
        "colab": {
          "base_uri": "https://localhost:8080/",
          "height": 235
        }
      },
      "source": [
        "# check tail\n",
        "lastday_filtered.tail()"
      ],
      "execution_count": 0,
      "outputs": [
        {
          "output_type": "execute_result",
          "data": {
            "text/html": [
              "<div>\n",
              "<style scoped>\n",
              "    .dataframe tbody tr th:only-of-type {\n",
              "        vertical-align: middle;\n",
              "    }\n",
              "\n",
              "    .dataframe tbody tr th {\n",
              "        vertical-align: top;\n",
              "    }\n",
              "\n",
              "    .dataframe thead th {\n",
              "        text-align: right;\n",
              "    }\n",
              "</style>\n",
              "<table border=\"1\" class=\"dataframe\">\n",
              "  <thead>\n",
              "    <tr style=\"text-align: right;\">\n",
              "      <th></th>\n",
              "      <th>respondents</th>\n",
              "      <th>category</th>\n",
              "      <th>link</th>\n",
              "      <th>average</th>\n",
              "      <th>mean</th>\n",
              "      <th>median</th>\n",
              "      <th>1_votes</th>\n",
              "      <th>2_votes</th>\n",
              "      <th>3_votes</th>\n",
              "      <th>4_votes</th>\n",
              "      <th>5_votes</th>\n",
              "      <th>6_votes</th>\n",
              "      <th>7_votes</th>\n",
              "      <th>8_votes</th>\n",
              "      <th>9_votes</th>\n",
              "      <th>10_votes</th>\n",
              "      <th>1_pct</th>\n",
              "      <th>2_pct</th>\n",
              "      <th>3_pct</th>\n",
              "      <th>4_pct</th>\n",
              "      <th>5_pct</th>\n",
              "      <th>6_pct</th>\n",
              "      <th>7_pct</th>\n",
              "      <th>8_pct</th>\n",
              "      <th>9_pct</th>\n",
              "      <th>10_pct</th>\n",
              "    </tr>\n",
              "    <tr>\n",
              "      <th>timestamp</th>\n",
              "      <th></th>\n",
              "      <th></th>\n",
              "      <th></th>\n",
              "      <th></th>\n",
              "      <th></th>\n",
              "      <th></th>\n",
              "      <th></th>\n",
              "      <th></th>\n",
              "      <th></th>\n",
              "      <th></th>\n",
              "      <th></th>\n",
              "      <th></th>\n",
              "      <th></th>\n",
              "      <th></th>\n",
              "      <th></th>\n",
              "      <th></th>\n",
              "      <th></th>\n",
              "      <th></th>\n",
              "      <th></th>\n",
              "      <th></th>\n",
              "      <th></th>\n",
              "      <th></th>\n",
              "      <th></th>\n",
              "      <th></th>\n",
              "      <th></th>\n",
              "      <th></th>\n",
              "    </tr>\n",
              "  </thead>\n",
              "  <tbody>\n",
              "    <tr>\n",
              "      <th>2017-08-29 22:30:06.423181</th>\n",
              "      <td>2662</td>\n",
              "      <td>IMDb users</td>\n",
              "      <td>http://www.imdb.com/title/tt6322922/ratings</td>\n",
              "      <td>5.4</td>\n",
              "      <td>5.6</td>\n",
              "      <td>7</td>\n",
              "      <td>1021</td>\n",
              "      <td>69</td>\n",
              "      <td>38</td>\n",
              "      <td>25</td>\n",
              "      <td>55</td>\n",
              "      <td>110</td>\n",
              "      <td>154</td>\n",
              "      <td>147</td>\n",
              "      <td>146</td>\n",
              "      <td>897</td>\n",
              "      <td>38.4</td>\n",
              "      <td>2.6</td>\n",
              "      <td>1.4</td>\n",
              "      <td>0.9</td>\n",
              "      <td>2.1</td>\n",
              "      <td>4.1</td>\n",
              "      <td>5.8</td>\n",
              "      <td>5.5</td>\n",
              "      <td>5.5</td>\n",
              "      <td>33.7</td>\n",
              "    </tr>\n",
              "    <tr>\n",
              "      <th>2017-08-29 22:40:06.233659</th>\n",
              "      <td>2662</td>\n",
              "      <td>IMDb users</td>\n",
              "      <td>http://www.imdb.com/title/tt6322922/ratings</td>\n",
              "      <td>5.4</td>\n",
              "      <td>5.6</td>\n",
              "      <td>7</td>\n",
              "      <td>1021</td>\n",
              "      <td>69</td>\n",
              "      <td>38</td>\n",
              "      <td>25</td>\n",
              "      <td>55</td>\n",
              "      <td>110</td>\n",
              "      <td>154</td>\n",
              "      <td>147</td>\n",
              "      <td>146</td>\n",
              "      <td>897</td>\n",
              "      <td>38.4</td>\n",
              "      <td>2.6</td>\n",
              "      <td>1.4</td>\n",
              "      <td>0.9</td>\n",
              "      <td>2.1</td>\n",
              "      <td>4.1</td>\n",
              "      <td>5.8</td>\n",
              "      <td>5.5</td>\n",
              "      <td>5.5</td>\n",
              "      <td>33.7</td>\n",
              "    </tr>\n",
              "    <tr>\n",
              "      <th>2017-08-29 22:50:06.592571</th>\n",
              "      <td>2662</td>\n",
              "      <td>IMDb users</td>\n",
              "      <td>http://www.imdb.com/title/tt6322922/ratings</td>\n",
              "      <td>5.4</td>\n",
              "      <td>5.6</td>\n",
              "      <td>7</td>\n",
              "      <td>1021</td>\n",
              "      <td>69</td>\n",
              "      <td>38</td>\n",
              "      <td>25</td>\n",
              "      <td>55</td>\n",
              "      <td>110</td>\n",
              "      <td>154</td>\n",
              "      <td>147</td>\n",
              "      <td>146</td>\n",
              "      <td>897</td>\n",
              "      <td>38.4</td>\n",
              "      <td>2.6</td>\n",
              "      <td>1.4</td>\n",
              "      <td>0.9</td>\n",
              "      <td>2.1</td>\n",
              "      <td>4.1</td>\n",
              "      <td>5.8</td>\n",
              "      <td>5.5</td>\n",
              "      <td>5.5</td>\n",
              "      <td>33.7</td>\n",
              "    </tr>\n",
              "    <tr>\n",
              "      <th>2017-08-29 23:00:05.829558</th>\n",
              "      <td>2662</td>\n",
              "      <td>IMDb users</td>\n",
              "      <td>http://www.imdb.com/title/tt6322922/ratings</td>\n",
              "      <td>5.4</td>\n",
              "      <td>5.6</td>\n",
              "      <td>7</td>\n",
              "      <td>1021</td>\n",
              "      <td>69</td>\n",
              "      <td>38</td>\n",
              "      <td>25</td>\n",
              "      <td>55</td>\n",
              "      <td>110</td>\n",
              "      <td>154</td>\n",
              "      <td>147</td>\n",
              "      <td>146</td>\n",
              "      <td>897</td>\n",
              "      <td>38.4</td>\n",
              "      <td>2.6</td>\n",
              "      <td>1.4</td>\n",
              "      <td>0.9</td>\n",
              "      <td>2.1</td>\n",
              "      <td>4.1</td>\n",
              "      <td>5.8</td>\n",
              "      <td>5.5</td>\n",
              "      <td>5.5</td>\n",
              "      <td>33.7</td>\n",
              "    </tr>\n",
              "    <tr>\n",
              "      <th>2017-08-29 23:10:06.218251</th>\n",
              "      <td>2662</td>\n",
              "      <td>IMDb users</td>\n",
              "      <td>http://www.imdb.com/title/tt6322922/ratings</td>\n",
              "      <td>5.4</td>\n",
              "      <td>5.6</td>\n",
              "      <td>7</td>\n",
              "      <td>1021</td>\n",
              "      <td>69</td>\n",
              "      <td>38</td>\n",
              "      <td>25</td>\n",
              "      <td>55</td>\n",
              "      <td>110</td>\n",
              "      <td>154</td>\n",
              "      <td>147</td>\n",
              "      <td>146</td>\n",
              "      <td>897</td>\n",
              "      <td>38.4</td>\n",
              "      <td>2.6</td>\n",
              "      <td>1.4</td>\n",
              "      <td>0.9</td>\n",
              "      <td>2.1</td>\n",
              "      <td>4.1</td>\n",
              "      <td>5.8</td>\n",
              "      <td>5.5</td>\n",
              "      <td>5.5</td>\n",
              "      <td>33.7</td>\n",
              "    </tr>\n",
              "  </tbody>\n",
              "</table>\n",
              "</div>"
            ],
            "text/plain": [
              "                            respondents    category  ... 9_pct  10_pct\n",
              "timestamp                                            ...              \n",
              "2017-08-29 22:30:06.423181         2662  IMDb users  ...   5.5    33.7\n",
              "2017-08-29 22:40:06.233659         2662  IMDb users  ...   5.5    33.7\n",
              "2017-08-29 22:50:06.592571         2662  IMDb users  ...   5.5    33.7\n",
              "2017-08-29 23:00:05.829558         2662  IMDb users  ...   5.5    33.7\n",
              "2017-08-29 23:10:06.218251         2662  IMDb users  ...   5.5    33.7\n",
              "\n",
              "[5 rows x 26 columns]"
            ]
          },
          "metadata": {
            "tags": []
          },
          "execution_count": 38
        }
      ]
    },
    {
      "cell_type": "code",
      "metadata": {
        "id": "sCIqU4dmgVsr",
        "colab_type": "code",
        "outputId": "c9b756e0-0c9f-435f-c3cd-c5e57f260076",
        "colab": {
          "base_uri": "https://localhost:8080/",
          "height": 51
        }
      },
      "source": [
        "# Get counts of users\n",
        "lastday_filtered['category'].value_counts()"
      ],
      "execution_count": 0,
      "outputs": [
        {
          "output_type": "execute_result",
          "data": {
            "text/plain": [
              "IMDb users    140\n",
              "Name: category, dtype: int64"
            ]
          },
          "metadata": {
            "tags": []
          },
          "execution_count": 39
        }
      ]
    },
    {
      "cell_type": "code",
      "metadata": {
        "id": "clTGkXFkgVvS",
        "colab_type": "code",
        "outputId": "e05f218b-2894-470d-b198-2904154b7a34",
        "colab": {
          "base_uri": "https://localhost:8080/",
          "height": 313
        }
      },
      "source": [
        "# Plot respondents\n",
        "lastday_filtered['respondents'].plot()"
      ],
      "execution_count": 0,
      "outputs": [
        {
          "output_type": "execute_result",
          "data": {
            "text/plain": [
              "<matplotlib.axes._subplots.AxesSubplot at 0x7f64870ad7b8>"
            ]
          },
          "metadata": {
            "tags": []
          },
          "execution_count": 40
        },
        {
          "output_type": "display_data",
          "data": {
            "image/png": "[encoded data removed]",
            "text/plain": [
              "<Figure size 432x288 with 1 Axes>"
            ]
          },
          "metadata": {
            "tags": []
          }
        }
      ]
    },
    {
      "cell_type": "code",
      "metadata": {
        "id": "NxZx1bRugVyn",
        "colab_type": "code",
        "colab": {}
      },
      "source": [
        "# We just want .pct of \n",
        "pct_columns = [f'{i}_pct' for i in range(1,11)]"
      ],
      "execution_count": 0,
      "outputs": []
    },
    {
      "cell_type": "code",
      "metadata": {
        "id": "vaHfIr3VgV0_",
        "colab_type": "code",
        "outputId": "fb1bc1c3-a617-425e-fd49-7ef8381e2bb0",
        "colab": {
          "base_uri": "https://localhost:8080/",
          "height": 187
        }
      },
      "source": [
        "pct_columns"
      ],
      "execution_count": 0,
      "outputs": [
        {
          "output_type": "execute_result",
          "data": {
            "text/plain": [
              "['1_pct',\n",
              " '2_pct',\n",
              " '3_pct',\n",
              " '4_pct',\n",
              " '5_pct',\n",
              " '6_pct',\n",
              " '7_pct',\n",
              " '8_pct',\n",
              " '9_pct',\n",
              " '10_pct']"
            ]
          },
          "metadata": {
            "tags": []
          },
          "execution_count": 42
        }
      ]
    },
    {
      "cell_type": "code",
      "metadata": {
        "id": "q3futLeWgV3F",
        "colab_type": "code",
        "colab": {}
      },
      "source": [
        "# Get last observation and assign to variable, final\n",
        "final = lastday_filtered.tail(1)"
      ],
      "execution_count": 0,
      "outputs": []
    },
    {
      "cell_type": "code",
      "metadata": {
        "id": "TgC8wfzVbs8y",
        "colab_type": "code",
        "outputId": "6e72ab57-f68c-4934-9068-9e1e39fc6efc",
        "colab": {
          "base_uri": "https://localhost:8080/",
          "height": 111
        }
      },
      "source": [
        "final"
      ],
      "execution_count": 0,
      "outputs": [
        {
          "output_type": "execute_result",
          "data": {
            "text/html": [
              "<div>\n",
              "<style scoped>\n",
              "    .dataframe tbody tr th:only-of-type {\n",
              "        vertical-align: middle;\n",
              "    }\n",
              "\n",
              "    .dataframe tbody tr th {\n",
              "        vertical-align: top;\n",
              "    }\n",
              "\n",
              "    .dataframe thead th {\n",
              "        text-align: right;\n",
              "    }\n",
              "</style>\n",
              "<table border=\"1\" class=\"dataframe\">\n",
              "  <thead>\n",
              "    <tr style=\"text-align: right;\">\n",
              "      <th></th>\n",
              "      <th>respondents</th>\n",
              "      <th>category</th>\n",
              "      <th>link</th>\n",
              "      <th>average</th>\n",
              "      <th>mean</th>\n",
              "      <th>median</th>\n",
              "      <th>1_votes</th>\n",
              "      <th>2_votes</th>\n",
              "      <th>3_votes</th>\n",
              "      <th>4_votes</th>\n",
              "      <th>5_votes</th>\n",
              "      <th>6_votes</th>\n",
              "      <th>7_votes</th>\n",
              "      <th>8_votes</th>\n",
              "      <th>9_votes</th>\n",
              "      <th>10_votes</th>\n",
              "      <th>1_pct</th>\n",
              "      <th>2_pct</th>\n",
              "      <th>3_pct</th>\n",
              "      <th>4_pct</th>\n",
              "      <th>5_pct</th>\n",
              "      <th>6_pct</th>\n",
              "      <th>7_pct</th>\n",
              "      <th>8_pct</th>\n",
              "      <th>9_pct</th>\n",
              "      <th>10_pct</th>\n",
              "    </tr>\n",
              "    <tr>\n",
              "      <th>timestamp</th>\n",
              "      <th></th>\n",
              "      <th></th>\n",
              "      <th></th>\n",
              "      <th></th>\n",
              "      <th></th>\n",
              "      <th></th>\n",
              "      <th></th>\n",
              "      <th></th>\n",
              "      <th></th>\n",
              "      <th></th>\n",
              "      <th></th>\n",
              "      <th></th>\n",
              "      <th></th>\n",
              "      <th></th>\n",
              "      <th></th>\n",
              "      <th></th>\n",
              "      <th></th>\n",
              "      <th></th>\n",
              "      <th></th>\n",
              "      <th></th>\n",
              "      <th></th>\n",
              "      <th></th>\n",
              "      <th></th>\n",
              "      <th></th>\n",
              "      <th></th>\n",
              "      <th></th>\n",
              "    </tr>\n",
              "  </thead>\n",
              "  <tbody>\n",
              "    <tr>\n",
              "      <th>2017-08-29 23:10:06.218251</th>\n",
              "      <td>2662</td>\n",
              "      <td>IMDb users</td>\n",
              "      <td>http://www.imdb.com/title/tt6322922/ratings</td>\n",
              "      <td>5.4</td>\n",
              "      <td>5.6</td>\n",
              "      <td>7</td>\n",
              "      <td>1021</td>\n",
              "      <td>69</td>\n",
              "      <td>38</td>\n",
              "      <td>25</td>\n",
              "      <td>55</td>\n",
              "      <td>110</td>\n",
              "      <td>154</td>\n",
              "      <td>147</td>\n",
              "      <td>146</td>\n",
              "      <td>897</td>\n",
              "      <td>38.4</td>\n",
              "      <td>2.6</td>\n",
              "      <td>1.4</td>\n",
              "      <td>0.9</td>\n",
              "      <td>2.1</td>\n",
              "      <td>4.1</td>\n",
              "      <td>5.8</td>\n",
              "      <td>5.5</td>\n",
              "      <td>5.5</td>\n",
              "      <td>33.7</td>\n",
              "    </tr>\n",
              "  </tbody>\n",
              "</table>\n",
              "</div>"
            ],
            "text/plain": [
              "                            respondents    category  ... 9_pct  10_pct\n",
              "timestamp                                            ...              \n",
              "2017-08-29 23:10:06.218251         2662  IMDb users  ...   5.5    33.7\n",
              "\n",
              "[1 rows x 26 columns]"
            ]
          },
          "metadata": {
            "tags": []
          },
          "execution_count": 44
        }
      ]
    },
    {
      "cell_type": "code",
      "metadata": {
        "id": "TkGWYqvsVZiM",
        "colab_type": "code",
        "outputId": "17f27eac-e28d-4001-9cdb-41ce8954998f",
        "colab": {
          "base_uri": "https://localhost:8080/",
          "height": 111
        }
      },
      "source": [
        "# filter by pct_columns\n",
        "final[pct_columns]"
      ],
      "execution_count": 0,
      "outputs": [
        {
          "output_type": "execute_result",
          "data": {
            "text/html": [
              "<div>\n",
              "<style scoped>\n",
              "    .dataframe tbody tr th:only-of-type {\n",
              "        vertical-align: middle;\n",
              "    }\n",
              "\n",
              "    .dataframe tbody tr th {\n",
              "        vertical-align: top;\n",
              "    }\n",
              "\n",
              "    .dataframe thead th {\n",
              "        text-align: right;\n",
              "    }\n",
              "</style>\n",
              "<table border=\"1\" class=\"dataframe\">\n",
              "  <thead>\n",
              "    <tr style=\"text-align: right;\">\n",
              "      <th></th>\n",
              "      <th>1_pct</th>\n",
              "      <th>2_pct</th>\n",
              "      <th>3_pct</th>\n",
              "      <th>4_pct</th>\n",
              "      <th>5_pct</th>\n",
              "      <th>6_pct</th>\n",
              "      <th>7_pct</th>\n",
              "      <th>8_pct</th>\n",
              "      <th>9_pct</th>\n",
              "      <th>10_pct</th>\n",
              "    </tr>\n",
              "    <tr>\n",
              "      <th>timestamp</th>\n",
              "      <th></th>\n",
              "      <th></th>\n",
              "      <th></th>\n",
              "      <th></th>\n",
              "      <th></th>\n",
              "      <th></th>\n",
              "      <th></th>\n",
              "      <th></th>\n",
              "      <th></th>\n",
              "      <th></th>\n",
              "    </tr>\n",
              "  </thead>\n",
              "  <tbody>\n",
              "    <tr>\n",
              "      <th>2017-08-29 23:10:06.218251</th>\n",
              "      <td>38.4</td>\n",
              "      <td>2.6</td>\n",
              "      <td>1.4</td>\n",
              "      <td>0.9</td>\n",
              "      <td>2.1</td>\n",
              "      <td>4.1</td>\n",
              "      <td>5.8</td>\n",
              "      <td>5.5</td>\n",
              "      <td>5.5</td>\n",
              "      <td>33.7</td>\n",
              "    </tr>\n",
              "  </tbody>\n",
              "</table>\n",
              "</div>"
            ],
            "text/plain": [
              "                            1_pct  2_pct  3_pct  ...  8_pct  9_pct  10_pct\n",
              "timestamp                                        ...                      \n",
              "2017-08-29 23:10:06.218251   38.4    2.6    1.4  ...    5.5    5.5    33.7\n",
              "\n",
              "[1 rows x 10 columns]"
            ]
          },
          "metadata": {
            "tags": []
          },
          "execution_count": 45
        }
      ]
    },
    {
      "cell_type": "code",
      "metadata": {
        "id": "S6uglo0XhY7H",
        "colab_type": "code",
        "outputId": "0ba42066-38f4-4c34-d791-491f748f5998",
        "colab": {
          "base_uri": "https://localhost:8080/",
          "height": 359
        }
      },
      "source": [
        "# Transpose it to organize it differently\n",
        "final[pct_columns].T"
      ],
      "execution_count": 0,
      "outputs": [
        {
          "output_type": "execute_result",
          "data": {
            "text/html": [
              "<div>\n",
              "<style scoped>\n",
              "    .dataframe tbody tr th:only-of-type {\n",
              "        vertical-align: middle;\n",
              "    }\n",
              "\n",
              "    .dataframe tbody tr th {\n",
              "        vertical-align: top;\n",
              "    }\n",
              "\n",
              "    .dataframe thead th {\n",
              "        text-align: right;\n",
              "    }\n",
              "</style>\n",
              "<table border=\"1\" class=\"dataframe\">\n",
              "  <thead>\n",
              "    <tr style=\"text-align: right;\">\n",
              "      <th>timestamp</th>\n",
              "      <th>2017-08-29 23:10:06.218251</th>\n",
              "    </tr>\n",
              "  </thead>\n",
              "  <tbody>\n",
              "    <tr>\n",
              "      <th>1_pct</th>\n",
              "      <td>38.4</td>\n",
              "    </tr>\n",
              "    <tr>\n",
              "      <th>2_pct</th>\n",
              "      <td>2.6</td>\n",
              "    </tr>\n",
              "    <tr>\n",
              "      <th>3_pct</th>\n",
              "      <td>1.4</td>\n",
              "    </tr>\n",
              "    <tr>\n",
              "      <th>4_pct</th>\n",
              "      <td>0.9</td>\n",
              "    </tr>\n",
              "    <tr>\n",
              "      <th>5_pct</th>\n",
              "      <td>2.1</td>\n",
              "    </tr>\n",
              "    <tr>\n",
              "      <th>6_pct</th>\n",
              "      <td>4.1</td>\n",
              "    </tr>\n",
              "    <tr>\n",
              "      <th>7_pct</th>\n",
              "      <td>5.8</td>\n",
              "    </tr>\n",
              "    <tr>\n",
              "      <th>8_pct</th>\n",
              "      <td>5.5</td>\n",
              "    </tr>\n",
              "    <tr>\n",
              "      <th>9_pct</th>\n",
              "      <td>5.5</td>\n",
              "    </tr>\n",
              "    <tr>\n",
              "      <th>10_pct</th>\n",
              "      <td>33.7</td>\n",
              "    </tr>\n",
              "  </tbody>\n",
              "</table>\n",
              "</div>"
            ],
            "text/plain": [
              "timestamp  2017-08-29 23:10:06.218251\n",
              "1_pct                            38.4\n",
              "2_pct                             2.6\n",
              "3_pct                             1.4\n",
              "4_pct                             0.9\n",
              "5_pct                             2.1\n",
              "6_pct                             4.1\n",
              "7_pct                             5.8\n",
              "8_pct                             5.5\n",
              "9_pct                             5.5\n",
              "10_pct                           33.7"
            ]
          },
          "metadata": {
            "tags": []
          },
          "execution_count": 46
        }
      ]
    },
    {
      "cell_type": "code",
      "metadata": {
        "id": "_PhI_xh0hY9t",
        "colab_type": "code",
        "colab": {}
      },
      "source": [
        "# make subset dataframe named plot_data and change index\n",
        "plot_data = final[pct_columns].T\n",
        "plot_data.index = range(1,11)"
      ],
      "execution_count": 0,
      "outputs": []
    },
    {
      "cell_type": "code",
      "metadata": {
        "id": "gOiJeSnqhY_9",
        "colab_type": "code",
        "outputId": "669d7c44-e79a-4d1f-9c27-4278d0414f72",
        "colab": {
          "base_uri": "https://localhost:8080/",
          "height": 359
        }
      },
      "source": [
        "plot_data"
      ],
      "execution_count": 0,
      "outputs": [
        {
          "output_type": "execute_result",
          "data": {
            "text/html": [
              "<div>\n",
              "<style scoped>\n",
              "    .dataframe tbody tr th:only-of-type {\n",
              "        vertical-align: middle;\n",
              "    }\n",
              "\n",
              "    .dataframe tbody tr th {\n",
              "        vertical-align: top;\n",
              "    }\n",
              "\n",
              "    .dataframe thead th {\n",
              "        text-align: right;\n",
              "    }\n",
              "</style>\n",
              "<table border=\"1\" class=\"dataframe\">\n",
              "  <thead>\n",
              "    <tr style=\"text-align: right;\">\n",
              "      <th>timestamp</th>\n",
              "      <th>2017-08-29 23:10:06.218251</th>\n",
              "    </tr>\n",
              "  </thead>\n",
              "  <tbody>\n",
              "    <tr>\n",
              "      <th>1</th>\n",
              "      <td>38.4</td>\n",
              "    </tr>\n",
              "    <tr>\n",
              "      <th>2</th>\n",
              "      <td>2.6</td>\n",
              "    </tr>\n",
              "    <tr>\n",
              "      <th>3</th>\n",
              "      <td>1.4</td>\n",
              "    </tr>\n",
              "    <tr>\n",
              "      <th>4</th>\n",
              "      <td>0.9</td>\n",
              "    </tr>\n",
              "    <tr>\n",
              "      <th>5</th>\n",
              "      <td>2.1</td>\n",
              "    </tr>\n",
              "    <tr>\n",
              "      <th>6</th>\n",
              "      <td>4.1</td>\n",
              "    </tr>\n",
              "    <tr>\n",
              "      <th>7</th>\n",
              "      <td>5.8</td>\n",
              "    </tr>\n",
              "    <tr>\n",
              "      <th>8</th>\n",
              "      <td>5.5</td>\n",
              "    </tr>\n",
              "    <tr>\n",
              "      <th>9</th>\n",
              "      <td>5.5</td>\n",
              "    </tr>\n",
              "    <tr>\n",
              "      <th>10</th>\n",
              "      <td>33.7</td>\n",
              "    </tr>\n",
              "  </tbody>\n",
              "</table>\n",
              "</div>"
            ],
            "text/plain": [
              "timestamp  2017-08-29 23:10:06.218251\n",
              "1                                38.4\n",
              "2                                 2.6\n",
              "3                                 1.4\n",
              "4                                 0.9\n",
              "5                                 2.1\n",
              "6                                 4.1\n",
              "7                                 5.8\n",
              "8                                 5.5\n",
              "9                                 5.5\n",
              "10                               33.7"
            ]
          },
          "metadata": {
            "tags": []
          },
          "execution_count": 48
        }
      ]
    },
    {
      "cell_type": "code",
      "metadata": {
        "id": "RHherbNzhZCT",
        "colab_type": "code",
        "outputId": "6fc2a433-cfba-434b-f419-7dddbd5e46d5",
        "colab": {
          "base_uri": "https://localhost:8080/",
          "height": 355
        }
      },
      "source": [
        "# let's look at example graph from which we will try to reproduce but with real data\n",
        "display(example)"
      ],
      "execution_count": 0,
      "outputs": [
        {
          "output_type": "display_data",
          "data": {
            "text/html": [
              "<img src=\"https://fivethirtyeight.com/wp-content/uploads/2017/09/mehtahickey-inconvenient-0830-1.png\" width=\"400\"/>"
            ],
            "text/plain": [
              "<IPython.core.display.Image object>"
            ]
          },
          "metadata": {
            "tags": []
          }
        }
      ]
    },
    {
      "cell_type": "code",
      "metadata": {
        "id": "ze08Y7UfhZHW",
        "colab_type": "code",
        "outputId": "f201b415-4678-4a80-f24c-a7a06dfa6b1d",
        "colab": {
          "base_uri": "https://localhost:8080/",
          "height": 346
        }
      },
      "source": [
        "# Replicate with real data from site\n",
        "plt.style.use('fivethirtyeight')\n",
        "fig = plt.figure(facecolor='white')\n",
        "ax = plot_data.plot.bar(color='#ed713a', width=0.9)\n",
        "ax.set(facecolor='white')\n",
        "ax.patch.set_alpha(0.1)\n",
        "plt.xlabel('Rating', fontsize=9, fontweight='bold')\n",
        "plt.ylabel('Percent of total votes', fontsize=9, fontweight='bold')\n",
        "plt.title(\"'An Inconvenient Sequel: Truth to Power' is divisible\", \n",
        "         fontweight='bold',\n",
        "         fontsize=13,\n",
        "         loc='left',\n",
        "         x=-0.1, y=1.1)\n",
        "ax.text(x=-1.7, y=42, s='IMDb ratings for film as of Aug. 29', fontsize=11)\n",
        "plt.xticks(rotation=0, color='#a7a7a7')\n",
        "plt.yticks(range(0,50,10), \n",
        "           labels=[str(i) if i !=40 else str(i) + '%' for i in range(0,50,10)],\n",
        "           color='#a7a7a7');\n",
        "ax.tick_params(axis='both', which='major', labelsize=9)\n",
        "ax.tick_params(axis='both', which='minor', labelsize=9)"
      ],
      "execution_count": 0,
      "outputs": [
        {
          "output_type": "display_data",
          "data": {
            "text/plain": [
              "<Figure size 432x288 with 0 Axes>"
            ]
          },
          "metadata": {
            "tags": []
          }
        },
        {
          "output_type": "display_data",
          "data": {
            "image/png": "[encoded data removed]",
            "text/plain": [
              "<Figure size 432x288 with 1 Axes>"
            ]
          },
          "metadata": {
            "tags": []
          }
        }
      ]
    },
    {
      "cell_type": "code",
      "metadata": {
        "id": "aI1m2VZickbu",
        "colab_type": "code",
        "colab": {}
      },
      "source": [
        ""
      ],
      "execution_count": 0,
      "outputs": []
    },
    {
      "cell_type": "code",
      "metadata": {
        "id": "PiUsFOHLckfH",
        "colab_type": "code",
        "colab": {}
      },
      "source": [
        ""
      ],
      "execution_count": 0,
      "outputs": []
    },
    {
      "cell_type": "code",
      "metadata": {
        "id": "ICj4rDnVckj_",
        "colab_type": "code",
        "colab": {}
      },
      "source": [
        ""
      ],
      "execution_count": 0,
      "outputs": []
    },
    {
      "cell_type": "code",
      "metadata": {
        "id": "xCin3VHDckm8",
        "colab_type": "code",
        "colab": {}
      },
      "source": [
        ""
      ],
      "execution_count": 0,
      "outputs": []
    },
    {
      "cell_type": "code",
      "metadata": {
        "id": "FPuBKgHIckqK",
        "colab_type": "code",
        "colab": {}
      },
      "source": [
        ""
      ],
      "execution_count": 0,
      "outputs": []
    },
    {
      "cell_type": "markdown",
      "metadata": {
        "id": "WMzTdE7zci60",
        "colab_type": "text"
      },
      "source": [
        "### 2) Reproduce another example from [FiveThityEight's shared data repository](https://data.fivethirtyeight.com/).\n",
        "\n",
        "**WARNING**: There are a lot of very custom graphs and tables at the above link. I **highly** recommend not trying to reproduce any that look like a table of values or something really different from the graph types that we are already familiar with. Search through the posts until you find a graph type that you are more or less familiar with: histogram, bar chart, stacked bar chart, line chart, [seaborn relplot](https://seaborn.pydata.org/generated/seaborn.relplot.html), etc. Recreating some of the graphics that 538 uses would be a lot easier in Adobe photoshop/illustrator than with matplotlib. \n",
        "\n",
        "- If you put in some time to find a graph that looks \"easy\" to replicate you'll probably find that it's not as easy as you thought. \n",
        "\n",
        "- If you start with a graph that looks hard to replicate you'll probably run up against a brick wall and be disappointed with your afternoon.\n",
        "\n",
        "\n"
      ]
    },
    {
      "cell_type": "code",
      "metadata": {
        "id": "f_eJd12diUsP",
        "colab_type": "code",
        "colab": {}
      },
      "source": [
        "# https://fivethirtyeight.com/features/how-americans-like-their-steak/hickey-datalab-steak.png"
      ],
      "execution_count": 0,
      "outputs": []
    },
    {
      "cell_type": "code",
      "metadata": {
        "id": "4eNiNbmTiUxZ",
        "colab_type": "code",
        "outputId": "1dcacd89-11e1-402e-8efa-1ae58debc63b",
        "colab": {
          "base_uri": "https://localhost:8080/",
          "height": 633
        }
      },
      "source": [
        "from IPython.display import display, Image\n",
        "example = Image('hickey.png', width=400)\n",
        "\n",
        "# The example we are trying to reproduce\n",
        "display(example)"
      ],
      "execution_count": 2,
      "outputs": [
        {
          "output_type": "display_data",
          "data": {
            "image/png": "[encoded data removed]",
            "text/plain": [
              "<IPython.core.display.Image object>"
            ]
          },
          "metadata": {
            "tags": [],
            "image/png": {
              "width": 400
            }
          }
        }
      ]
    },
    {
      "cell_type": "code",
      "metadata": {
        "id": "WOk9SSaChZJ1",
        "colab_type": "code",
        "colab": {}
      },
      "source": [
        "%matplotlib inline\n",
        "import matplotlib.pyplot as plt\n",
        "import numpy as np\n",
        "import pandas as pd"
      ],
      "execution_count": 0,
      "outputs": []
    },
    {
      "cell_type": "code",
      "metadata": {
        "id": "jo8QKDuUiB0C",
        "colab_type": "code",
        "colab": {}
      },
      "source": [
        "plt.style.use('fivethirtyeight')\n",
        "real = pd.DataFrame([91, 85, 56, 53, 44, 39, 36, 34, 33, 30, 26, 24, 22, 21, 20, 20, 20, 19, 18, 18, 13, 13, 9, 9, 9, 7, 7, 6, 6, 4, 4, 3, 2, 2, 2, 2], index=['At least one tree', 'At least two trees',\n",
        "'Deciduous tree', 'Coniferous tree', 'Clouds', 'At least one mountain', 'Grass', 'Lake', 'River or stream', 'Bushes', 'Snow-covered mountain', 'At least two mountains', 'Man-made structure', 'Cumulus clouds', \n",
        "'Rocks', 'Sun', 'Waterfall', 'Snow', 'Cabin', 'Winter setting', 'Frame', 'Path', 'Oval frame', 'Ocean', 'Waves', 'Beach', 'Cirrus clouds', 'Fence', 'Fog', 'Hills', 'Barn', 'Nighttime', 'Flowers', 'Palm tree', 'Cliff', 'Briddge'], columns=['Percent'])\n"
      ],
      "execution_count": 0,
      "outputs": []
    },
    {
      "cell_type": "code",
      "metadata": {
        "id": "JcGjUKffomzt",
        "colab_type": "code",
        "colab": {
          "base_uri": "https://localhost:8080/",
          "height": 204
        },
        "outputId": "358eb9f4-48d4-4ca0-e19b-a85231a71842"
      },
      "source": [
        "real.head()"
      ],
      "execution_count": 80,
      "outputs": [
        {
          "output_type": "execute_result",
          "data": {
            "text/html": [
              "<div>\n",
              "<style scoped>\n",
              "    .dataframe tbody tr th:only-of-type {\n",
              "        vertical-align: middle;\n",
              "    }\n",
              "\n",
              "    .dataframe tbody tr th {\n",
              "        vertical-align: top;\n",
              "    }\n",
              "\n",
              "    .dataframe thead th {\n",
              "        text-align: right;\n",
              "    }\n",
              "</style>\n",
              "<table border=\"1\" class=\"dataframe\">\n",
              "  <thead>\n",
              "    <tr style=\"text-align: right;\">\n",
              "      <th></th>\n",
              "      <th>Percent</th>\n",
              "    </tr>\n",
              "  </thead>\n",
              "  <tbody>\n",
              "    <tr>\n",
              "      <th>At least one tree</th>\n",
              "      <td>91</td>\n",
              "    </tr>\n",
              "    <tr>\n",
              "      <th>At least two trees</th>\n",
              "      <td>85</td>\n",
              "    </tr>\n",
              "    <tr>\n",
              "      <th>Deciduous tree</th>\n",
              "      <td>56</td>\n",
              "    </tr>\n",
              "    <tr>\n",
              "      <th>Coniferous tree</th>\n",
              "      <td>53</td>\n",
              "    </tr>\n",
              "    <tr>\n",
              "      <th>Clouds</th>\n",
              "      <td>44</td>\n",
              "    </tr>\n",
              "  </tbody>\n",
              "</table>\n",
              "</div>"
            ],
            "text/plain": [
              "                    Percent\n",
              "At least one tree        91\n",
              "At least two trees       85\n",
              "Deciduous tree           56\n",
              "Coniferous tree          53\n",
              "Clouds                   44"
            ]
          },
          "metadata": {
            "tags": []
          },
          "execution_count": 80
        }
      ]
    },
    {
      "cell_type": "code",
      "metadata": {
        "id": "jWW4lyrDmu15",
        "colab_type": "code",
        "colab": {
          "base_uri": "https://localhost:8080/",
          "height": 633
        },
        "outputId": "0458a2d5-5eea-4c7f-e81c-5181c70bd80d"
      },
      "source": [
        "display(example)"
      ],
      "execution_count": 13,
      "outputs": [
        {
          "output_type": "display_data",
          "data": {
            "image/png": "[encoded data removed]",
            "text/plain": [
              "<IPython.core.display.Image object>"
            ]
          },
          "metadata": {
            "tags": [],
            "image/png": {
              "width": 400
            }
          }
        }
      ]
    },
    {
      "cell_type": "code",
      "metadata": {
        "id": "lVj_gEoeo6LE",
        "colab_type": "code",
        "colab": {}
      },
      "source": [
        "real = real.sort_values(by='Percent', ascending=False)"
      ],
      "execution_count": 0,
      "outputs": []
    },
    {
      "cell_type": "code",
      "metadata": {
        "id": "QQ975YUGhZMk",
        "colab_type": "code",
        "colab": {
          "base_uri": "https://localhost:8080/",
          "height": 300
        },
        "outputId": "4876c024-742f-4630-e1ca-6fd6619353a2"
      },
      "source": [
        "real.plot.barh(width=.91)\n"
      ],
      "execution_count": 85,
      "outputs": [
        {
          "output_type": "execute_result",
          "data": {
            "text/plain": [
              "<matplotlib.axes._subplots.AxesSubplot at 0x7f97fab38a90>"
            ]
          },
          "metadata": {
            "tags": []
          },
          "execution_count": 85
        },
        {
          "output_type": "display_data",
          "data": {
            "image/png": "[encoded data removed]",
            "text/plain": [
              "<Figure size 432x288 with 1 Axes>"
            ]
          },
          "metadata": {
            "tags": []
          }
        }
      ]
    },
    {
      "cell_type": "code",
      "metadata": {
        "id": "1H0uHQ9Um4EN",
        "colab_type": "code",
        "colab": {
          "base_uri": "https://localhost:8080/",
          "height": 633
        },
        "outputId": "b8c12afe-6344-4fff-a9a7-b4f0b7ab1b23"
      },
      "source": [
        "display(example)"
      ],
      "execution_count": 34,
      "outputs": [
        {
          "output_type": "display_data",
          "data": {
            "image/png": "[encoded data removed]",
            "text/plain": [
              "<IPython.core.display.Image object>"
            ]
          },
          "metadata": {
            "tags": [],
            "image/png": {
              "width": 400
            }
          }
        }
      ]
    },
    {
      "cell_type": "code",
      "metadata": {
        "id": "owIa7VvAm4Gs",
        "colab_type": "code",
        "colab": {
          "base_uri": "https://localhost:8080/",
          "height": 301
        },
        "outputId": "4d91ddd2-a094-4844-886d-d6e95b43832c"
      },
      "source": [
        "real.plot(kind='barh')"
      ],
      "execution_count": 78,
      "outputs": [
        {
          "output_type": "execute_result",
          "data": {
            "text/plain": [
              "<matplotlib.axes._subplots.AxesSubplot at 0x7f97fb011da0>"
            ]
          },
          "metadata": {
            "tags": []
          },
          "execution_count": 78
        },
        {
          "output_type": "display_data",
          "data": {
            "image/png": "[encoded data removed]",
            "text/plain": [
              "<Figure size 432x288 with 1 Axes>"
            ]
          },
          "metadata": {
            "tags": []
          }
        }
      ]
    },
    {
      "cell_type": "code",
      "metadata": {
        "id": "SVjqBlhVm4JB",
        "colab_type": "code",
        "colab": {}
      },
      "source": [
        "#again"
      ],
      "execution_count": 0,
      "outputs": []
    },
    {
      "cell_type": "code",
      "metadata": {
        "id": "4CFN79OY4GUK",
        "colab_type": "code",
        "colab": {}
      },
      "source": [
        ""
      ],
      "execution_count": 0,
      "outputs": []
    },
    {
      "cell_type": "code",
      "metadata": {
        "id": "ikvzU4JI4GW_",
        "colab_type": "code",
        "colab": {}
      },
      "source": [
        ""
      ],
      "execution_count": 0,
      "outputs": []
    },
    {
      "cell_type": "code",
      "metadata": {
        "id": "l5eNEc6V4GZs",
        "colab_type": "code",
        "colab": {}
      },
      "source": [
        ""
      ],
      "execution_count": 0,
      "outputs": []
    },
    {
      "cell_type": "code",
      "metadata": {
        "id": "48yB0JHH4Gcm",
        "colab_type": "code",
        "colab": {}
      },
      "source": [
        ""
      ],
      "execution_count": 0,
      "outputs": []
    },
    {
      "cell_type": "code",
      "metadata": {
        "id": "rl_UjFEc4GfQ",
        "colab_type": "code",
        "colab": {}
      },
      "source": [
        ""
      ],
      "execution_count": 0,
      "outputs": []
    },
    {
      "cell_type": "code",
      "metadata": {
        "id": "H-TnT5zO4Gh1",
        "colab_type": "code",
        "colab": {}
      },
      "source": [
        ""
      ],
      "execution_count": 0,
      "outputs": []
    },
    {
      "cell_type": "code",
      "metadata": {
        "id": "aOV15tKR4Gkj",
        "colab_type": "code",
        "colab": {}
      },
      "source": [
        ""
      ],
      "execution_count": 0,
      "outputs": []
    },
    {
      "cell_type": "markdown",
      "metadata": {
        "id": "0wSrBzmJyWaV",
        "colab_type": "text"
      },
      "source": [
        "# STRETCH OPTIONS\n",
        "\n",
        "### 1) Reproduce one of the following using the matplotlib or seaborn libraries:\n",
        "\n",
        "- [thanksgiving-2015](https://fivethirtyeight.com/features/heres-what-your-part-of-america-eats-on-thanksgiving/) \n",
        "- [candy-power-ranking](https://fivethirtyeight.com/features/the-ultimate-halloween-candy-power-ranking/) \n",
        "- or another example of your choice!\n",
        "\n",
        "### 2) Make more charts!\n",
        "\n",
        "Choose a chart you want to make, from [Visual Vocabulary - Vega Edition](http://ft.com/vocabulary).\n",
        "\n",
        "Find the chart in an example gallery of a Python data visualization library:\n",
        "- [Seaborn](http://seaborn.pydata.org/examples/index.html)\n",
        "- [Altair](https://altair-viz.github.io/gallery/index.html)\n",
        "- [Matplotlib](https://matplotlib.org/gallery.html)\n",
        "- [Pandas](https://pandas.pydata.org/pandas-docs/stable/visualization.html)\n",
        "\n",
        "Reproduce the chart. [Optionally, try the \"Ben Franklin Method.\"](https://docs.google.com/document/d/1ubOw9B3Hfip27hF2ZFnW3a3z9xAgrUDRReOEo-FHCVs/edit) If you want, experiment and make changes.\n",
        "\n",
        "Take notes. Consider sharing your work with your cohort!"
      ]
    },
    {
      "cell_type": "code",
      "metadata": {
        "id": "q3DQ5BZj4FrN",
        "colab_type": "code",
        "colab": {}
      },
      "source": [
        ""
      ],
      "execution_count": 0,
      "outputs": []
    },
    {
      "cell_type": "code",
      "metadata": {
        "id": "zS4Fn7KJ4FuJ",
        "colab_type": "code",
        "colab": {}
      },
      "source": [
        ""
      ],
      "execution_count": 0,
      "outputs": []
    },
    {
      "cell_type": "code",
      "metadata": {
        "id": "dRJkKftiy5BJ",
        "colab_type": "code",
        "colab": {}
      },
      "source": [
        "import"
      ],
      "execution_count": 0,
      "outputs": []
    }
  ]
}