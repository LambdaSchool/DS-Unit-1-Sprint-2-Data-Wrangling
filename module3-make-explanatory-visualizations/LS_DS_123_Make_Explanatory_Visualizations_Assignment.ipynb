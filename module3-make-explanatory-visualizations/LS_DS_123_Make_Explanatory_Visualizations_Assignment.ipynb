{
  "nbformat": 4,
  "nbformat_minor": 0,
  "metadata": {
    "colab": {
      "name": "LS_DS_123_Make_Explanatory_Visualizations_Assignment.ipynb",
      "version": "0.3.2",
      "provenance": [],
      "collapsed_sections": [],
      "include_colab_link": true
    },
    "language_info": {
      "codemirror_mode": {
        "name": "ipython",
        "version": 3
      },
      "file_extension": ".py",
      "mimetype": "text/x-python",
      "name": "python",
      "nbconvert_exporter": "python",
      "pygments_lexer": "ipython3",
      "version": "3.7.1"
    },
    "kernelspec": {
      "display_name": "Python 3",
      "language": "python",
      "name": "python3"
    }
  },
  "cells": [
    {
      "cell_type": "markdown",
      "metadata": {
        "id": "view-in-github",
        "colab_type": "text"
      },
      "source": [
        "<a href=\"https://colab.research.google.com/github/srfinley/DS-Unit-1-Sprint-2-Data-Wrangling-and-Storytelling/blob/master/module3-make-explanatory-visualizations/LS_DS_123_Make_Explanatory_Visualizations_Assignment.ipynb\" target=\"_parent\"><img src=\"https://colab.research.google.com/assets/colab-badge.svg\" alt=\"Open In Colab\"/></a>"
      ]
    },
    {
      "cell_type": "markdown",
      "metadata": {
        "colab_type": "text",
        "id": "NMEswXWh9mqw"
      },
      "source": [
        "# ASSIGNMENT\n",
        "\n",
        "### 1) Replicate the lesson code. I recommend that you [do not copy-paste](https://docs.google.com/document/d/1ubOw9B3Hfip27hF2ZFnW3a3z9xAgrUDRReOEo-FHCVs/edit).\n",
        "\n",
        "Get caught up to where we got our example in class and then try and take things further. How close to \"pixel perfect\" can you make the lecture graph?\n",
        "\n",
        "Once you have something that you're proud of, share your graph in the cohort channel and move on to the second exercise.\n",
        "\n",
        "### 2) Reproduce another example from [FiveThityEight's shared data repository](https://data.fivethirtyeight.com/).\n",
        "\n",
        "**WARNING**: There are a lot of very custom graphs and tables at the above link. I **highly** recommend not trying to reproduce any that look like a table of values or something really different from the graph types that we are already familiar with. Search through the posts until you find a graph type that you are more or less familiar with: histogram, bar chart, stacked bar chart, line chart, [seaborn relplot](https://seaborn.pydata.org/generated/seaborn.relplot.html), etc. Recreating some of the graphics that 538 uses would be a lot easier in Adobe photoshop/illustrator than with matplotlib. \n",
        "\n",
        "- If you put in some time to find a graph that looks \"easy\" to replicate you'll probably find that it's not as easy as you thought. \n",
        "\n",
        "- If you start with a graph that looks hard to replicate you'll probably run up against a brick wall and be disappointed with your afternoon.\n",
        "\n",
        "\n",
        "\n",
        "\n",
        "\n",
        "\n",
        "\n",
        "\n",
        "\n",
        "\n"
      ]
    },
    {
      "cell_type": "code",
      "metadata": {
        "id": "7SY1ZHawyZvz",
        "colab_type": "code",
        "colab": {
          "base_uri": "https://localhost:8080/",
          "height": 356
        },
        "outputId": "c6772c7d-b673-4569-f5f9-f4a7fa2c333d"
      },
      "source": [
        "from IPython.display import display, Image\n",
        "\n",
        "url = 'https://fivethirtyeight.com/wp-content/uploads/2017/09/mehtahickey-inconvenient-0830-1.png'\n",
        "example = Image(url=url, width=400)\n",
        "\n",
        "display(example)"
      ],
      "execution_count": 1,
      "outputs": [
        {
          "output_type": "display_data",
          "data": {
            "text/html": [
              "<img src=\"https://fivethirtyeight.com/wp-content/uploads/2017/09/mehtahickey-inconvenient-0830-1.png\" width=\"400\"/>"
            ],
            "text/plain": [
              "<IPython.core.display.Image object>"
            ]
          },
          "metadata": {
            "tags": []
          }
        }
      ]
    },
    {
      "cell_type": "code",
      "metadata": {
        "id": "8g5gJoGI0CnL",
        "colab_type": "code",
        "colab": {}
      },
      "source": [
        "%matplotlib inline\n",
        "import matplotlib.pyplot as plt\n",
        "import numpy as np\n",
        "import pandas as pd"
      ],
      "execution_count": 0,
      "outputs": []
    },
    {
      "cell_type": "code",
      "metadata": {
        "id": "275NqrbI1FJQ",
        "colab_type": "code",
        "colab": {}
      },
      "source": [
        "fake = pd.Series([38, 3, 2, 1, 2, 4, 6, 5, 5, 33], \n",
        "                 index=range(1,11))"
      ],
      "execution_count": 0,
      "outputs": []
    },
    {
      "cell_type": "code",
      "metadata": {
        "id": "7VF41JLb0Gdw",
        "colab_type": "code",
        "colab": {
          "base_uri": "https://localhost:8080/",
          "height": 340
        },
        "outputId": "a9147dfb-de1e-4dc6-dedc-cb6132aa1c30"
      },
      "source": [
        "#538 stylesheet\n",
        "plt.style.use('fivethirtyeight')\n",
        "\n",
        "# make figure\n",
        "fig = plt.figure()\n",
        "fig.patch.set(facecolor='white')\n",
        "\n",
        "#make axes\n",
        "ax = fake.plot.bar(color='#ED713A', width=0.9)\n",
        "ax.set(facecolor='white')\n",
        "\n",
        "#axis labels\n",
        "ax.set_ylabel(\"Percent of total votes\",\n",
        "             fontweight='bold',fontsize='10',\n",
        "             labelpad=10)\n",
        "ax.set_xlabel(\"Rating\",\n",
        "             fontweight='bold',fontsize='10',\n",
        "             labelpad=10)\n",
        "\n",
        "#customized title\n",
        "ax.text(x=-1.8,y=44,\n",
        "        s=\"'An Inconvenient Sequel: Truth To Power' is divisive\",\n",
        "       fontweight='bold',fontsize='11.5')\n",
        "ax.text(x=-1.8,y=41.5,\n",
        "        s=\"IMDb ratings for the film as of Aug. 29\",\n",
        "       fontsize='10.5')\n",
        "\n",
        "#Tick labels\n",
        "ax.set_xticks(range(0,11))\n",
        "ax.set_xticklabels(range(1,11), rotation=0,\n",
        "                  color=\"#B9B9B9\",\n",
        "                  fontsize='9')\n",
        "\n",
        "ax.set_yticks(range(0,50,10))\n",
        "ax.set_yticklabels(range(0, 50, 10),\n",
        "                  color=\"#B9B9B9\",\n",
        "                  fontsize='9')\n",
        "\n",
        "ax.tick_params(bottom=True, top=True, left=True, right=True)\n",
        "ax.tick_params(axis=\"x\", direction=\"out\", length=10, width=1, color='#CBCBCB')\n",
        "\n",
        "#spines\n",
        "ax.spines['bottom'].set_linewidth(1)\n",
        "ax.spines['top'].set_linewidth(1)\n",
        "ax.spines['bottom'].set_color('#CBCBCB')\n",
        "ax.spines['top'].set_color('#CBCBCB')\n",
        "\n",
        "ax.spines['left'].set_visible(False)\n",
        "ax.spines['right'].set_visible(False)\n",
        "\n",
        "\n",
        "plt.show()"
      ],
      "execution_count": 48,
      "outputs": [
        {
          "output_type": "display_data",
          "data": {
            "image/png": "[encoded data removed]",
            "text/plain": [
              "<Figure size 432x288 with 1 Axes>"
            ]
          },
          "metadata": {
            "tags": []
          }
        }
      ]
    },
    {
      "cell_type": "code",
      "metadata": {
        "id": "E-Od73y22-yl",
        "colab_type": "code",
        "colab": {
          "base_uri": "https://localhost:8080/",
          "height": 356
        },
        "outputId": "b4a45a1b-f6db-43de-c382-8e84ac4cbb70"
      },
      "source": [
        "display(example)"
      ],
      "execution_count": 9,
      "outputs": [
        {
          "output_type": "display_data",
          "data": {
            "text/html": [
              "<img src=\"https://fivethirtyeight.com/wp-content/uploads/2017/09/mehtahickey-inconvenient-0830-1.png\" width=\"400\"/>"
            ],
            "text/plain": [
              "<IPython.core.display.Image object>"
            ]
          },
          "metadata": {
            "tags": []
          }
        }
      ]
    },
    {
      "cell_type": "code",
      "metadata": {
        "id": "hQPtEFO1HnLx",
        "colab_type": "code",
        "colab": {
          "base_uri": "https://localhost:8080/",
          "height": 371
        },
        "outputId": "a3a222b7-443f-4c26-dd0a-e126b0fcc9a1"
      },
      "source": [
        "#https://fivethirtyeight.com/features/how-actblue-is-trying-to-turn-small-donations-into-a-blue-wave/\n",
        "\n",
        "url = 'https://fivethirtyeight.com/wp-content/uploads/2018/10/actblue-1.png?w=1150'\n",
        "example2 = Image(url=url, width=400)\n",
        "\n",
        "display(example2)"
      ],
      "execution_count": 49,
      "outputs": [
        {
          "output_type": "display_data",
          "data": {
            "text/html": [
              "<img src=\"https://fivethirtyeight.com/wp-content/uploads/2018/10/actblue-1.png?w=1150\" width=\"400\"/>"
            ],
            "text/plain": [
              "<IPython.core.display.Image object>"
            ]
          },
          "metadata": {
            "tags": []
          }
        }
      ]
    },
    {
      "cell_type": "code",
      "metadata": {
        "id": "ZMyJiOfrIVEf",
        "colab_type": "code",
        "colab": {
          "base_uri": "https://localhost:8080/",
          "height": 206
        },
        "outputId": "a5bf35b3-56bc-4a1e-b417-3cd81ea70772"
      },
      "source": [
        "df = pd.read_csv(\"https://raw.githubusercontent.com/fivethirtyeight/actblue-analysis/master/data/actblue_congress_contribs_by_day.csv\")\n",
        "\n",
        "df.head()"
      ],
      "execution_count": 50,
      "outputs": [
        {
          "output_type": "execute_result",
          "data": {
            "text/html": [
              "<div>\n",
              "<style scoped>\n",
              "    .dataframe tbody tr th:only-of-type {\n",
              "        vertical-align: middle;\n",
              "    }\n",
              "\n",
              "    .dataframe tbody tr th {\n",
              "        vertical-align: top;\n",
              "    }\n",
              "\n",
              "    .dataframe thead th {\n",
              "        text-align: right;\n",
              "    }\n",
              "</style>\n",
              "<table border=\"1\" class=\"dataframe\">\n",
              "  <thead>\n",
              "    <tr style=\"text-align: right;\">\n",
              "      <th></th>\n",
              "      <th>Unnamed: 0</th>\n",
              "      <th>contribution_date</th>\n",
              "      <th>sum</th>\n",
              "      <th>count</th>\n",
              "    </tr>\n",
              "  </thead>\n",
              "  <tbody>\n",
              "    <tr>\n",
              "      <th>0</th>\n",
              "      <td>0</td>\n",
              "      <td>2013-01-01</td>\n",
              "      <td>9878.94</td>\n",
              "      <td>167</td>\n",
              "    </tr>\n",
              "    <tr>\n",
              "      <th>1</th>\n",
              "      <td>1</td>\n",
              "      <td>2013-01-02</td>\n",
              "      <td>8158.56</td>\n",
              "      <td>304</td>\n",
              "    </tr>\n",
              "    <tr>\n",
              "      <th>2</th>\n",
              "      <td>2</td>\n",
              "      <td>2013-01-03</td>\n",
              "      <td>5105.80</td>\n",
              "      <td>201</td>\n",
              "    </tr>\n",
              "    <tr>\n",
              "      <th>3</th>\n",
              "      <td>3</td>\n",
              "      <td>2013-01-04</td>\n",
              "      <td>5070.50</td>\n",
              "      <td>159</td>\n",
              "    </tr>\n",
              "    <tr>\n",
              "      <th>4</th>\n",
              "      <td>4</td>\n",
              "      <td>2013-01-05</td>\n",
              "      <td>5453.94</td>\n",
              "      <td>140</td>\n",
              "    </tr>\n",
              "  </tbody>\n",
              "</table>\n",
              "</div>"
            ],
            "text/plain": [
              "   Unnamed: 0 contribution_date      sum  count\n",
              "0           0        2013-01-01  9878.94    167\n",
              "1           1        2013-01-02  8158.56    304\n",
              "2           2        2013-01-03  5105.80    201\n",
              "3           3        2013-01-04  5070.50    159\n",
              "4           4        2013-01-05  5453.94    140"
            ]
          },
          "metadata": {
            "tags": []
          },
          "execution_count": 50
        }
      ]
    },
    {
      "cell_type": "code",
      "metadata": {
        "id": "nrFCBaErNAVm",
        "colab_type": "code",
        "colab": {
          "base_uri": "https://localhost:8080/",
          "height": 206
        },
        "outputId": "9ef97665-3f0e-41d6-c247-a224f7b62c9c"
      },
      "source": [
        "#convert contribution date to datetime\n",
        "df['contribution_date'] = df['contribution_date'].apply(pd.to_datetime)\n",
        "df.head()"
      ],
      "execution_count": 54,
      "outputs": [
        {
          "output_type": "execute_result",
          "data": {
            "text/html": [
              "<div>\n",
              "<style scoped>\n",
              "    .dataframe tbody tr th:only-of-type {\n",
              "        vertical-align: middle;\n",
              "    }\n",
              "\n",
              "    .dataframe tbody tr th {\n",
              "        vertical-align: top;\n",
              "    }\n",
              "\n",
              "    .dataframe thead th {\n",
              "        text-align: right;\n",
              "    }\n",
              "</style>\n",
              "<table border=\"1\" class=\"dataframe\">\n",
              "  <thead>\n",
              "    <tr style=\"text-align: right;\">\n",
              "      <th></th>\n",
              "      <th>Unnamed: 0</th>\n",
              "      <th>contribution_date</th>\n",
              "      <th>sum</th>\n",
              "      <th>count</th>\n",
              "    </tr>\n",
              "  </thead>\n",
              "  <tbody>\n",
              "    <tr>\n",
              "      <th>0</th>\n",
              "      <td>0</td>\n",
              "      <td>2013-01-01</td>\n",
              "      <td>9878.94</td>\n",
              "      <td>167</td>\n",
              "    </tr>\n",
              "    <tr>\n",
              "      <th>1</th>\n",
              "      <td>1</td>\n",
              "      <td>2013-01-02</td>\n",
              "      <td>8158.56</td>\n",
              "      <td>304</td>\n",
              "    </tr>\n",
              "    <tr>\n",
              "      <th>2</th>\n",
              "      <td>2</td>\n",
              "      <td>2013-01-03</td>\n",
              "      <td>5105.80</td>\n",
              "      <td>201</td>\n",
              "    </tr>\n",
              "    <tr>\n",
              "      <th>3</th>\n",
              "      <td>3</td>\n",
              "      <td>2013-01-04</td>\n",
              "      <td>5070.50</td>\n",
              "      <td>159</td>\n",
              "    </tr>\n",
              "    <tr>\n",
              "      <th>4</th>\n",
              "      <td>4</td>\n",
              "      <td>2013-01-05</td>\n",
              "      <td>5453.94</td>\n",
              "      <td>140</td>\n",
              "    </tr>\n",
              "  </tbody>\n",
              "</table>\n",
              "</div>"
            ],
            "text/plain": [
              "   Unnamed: 0 contribution_date      sum  count\n",
              "0           0        2013-01-01  9878.94    167\n",
              "1           1        2013-01-02  8158.56    304\n",
              "2           2        2013-01-03  5105.80    201\n",
              "3           3        2013-01-04  5070.50    159\n",
              "4           4        2013-01-05  5453.94    140"
            ]
          },
          "metadata": {
            "tags": []
          },
          "execution_count": 54
        }
      ]
    },
    {
      "cell_type": "code",
      "metadata": {
        "id": "Mm7y1zTaJhMY",
        "colab_type": "code",
        "colab": {
          "base_uri": "https://localhost:8080/",
          "height": 206
        },
        "outputId": "d16b09d6-caa0-4f7c-c6b7-0bc0559cdf99"
      },
      "source": [
        "#for each range of dates, we want the sum of count (for the green plot) \n",
        "#and the sum of sum (for the blue plot)\n",
        "\n",
        "#filter each range into its own dataframe for summing\n",
        "#three bins: 2013/14, 2015/16, 2017/18\n",
        "\n",
        "#df1 = df[df['contribution_date'].year < 2015]\n",
        "#^that's not working so let's try another way\n",
        "\n",
        "def yearbin(datetime):\n",
        "  if (datetime.year < 2015):\n",
        "    return 1\n",
        "  if (datetime.year > 2016):\n",
        "    return 3\n",
        "  return 2\n",
        "\n",
        "df['yearbin'] = df['contribution_date'].apply(yearbin)\n",
        "df.head()"
      ],
      "execution_count": 55,
      "outputs": [
        {
          "output_type": "execute_result",
          "data": {
            "text/html": [
              "<div>\n",
              "<style scoped>\n",
              "    .dataframe tbody tr th:only-of-type {\n",
              "        vertical-align: middle;\n",
              "    }\n",
              "\n",
              "    .dataframe tbody tr th {\n",
              "        vertical-align: top;\n",
              "    }\n",
              "\n",
              "    .dataframe thead th {\n",
              "        text-align: right;\n",
              "    }\n",
              "</style>\n",
              "<table border=\"1\" class=\"dataframe\">\n",
              "  <thead>\n",
              "    <tr style=\"text-align: right;\">\n",
              "      <th></th>\n",
              "      <th>Unnamed: 0</th>\n",
              "      <th>contribution_date</th>\n",
              "      <th>sum</th>\n",
              "      <th>count</th>\n",
              "      <th>yearbin</th>\n",
              "    </tr>\n",
              "  </thead>\n",
              "  <tbody>\n",
              "    <tr>\n",
              "      <th>0</th>\n",
              "      <td>0</td>\n",
              "      <td>2013-01-01</td>\n",
              "      <td>9878.94</td>\n",
              "      <td>167</td>\n",
              "      <td>1</td>\n",
              "    </tr>\n",
              "    <tr>\n",
              "      <th>1</th>\n",
              "      <td>1</td>\n",
              "      <td>2013-01-02</td>\n",
              "      <td>8158.56</td>\n",
              "      <td>304</td>\n",
              "      <td>1</td>\n",
              "    </tr>\n",
              "    <tr>\n",
              "      <th>2</th>\n",
              "      <td>2</td>\n",
              "      <td>2013-01-03</td>\n",
              "      <td>5105.80</td>\n",
              "      <td>201</td>\n",
              "      <td>1</td>\n",
              "    </tr>\n",
              "    <tr>\n",
              "      <th>3</th>\n",
              "      <td>3</td>\n",
              "      <td>2013-01-04</td>\n",
              "      <td>5070.50</td>\n",
              "      <td>159</td>\n",
              "      <td>1</td>\n",
              "    </tr>\n",
              "    <tr>\n",
              "      <th>4</th>\n",
              "      <td>4</td>\n",
              "      <td>2013-01-05</td>\n",
              "      <td>5453.94</td>\n",
              "      <td>140</td>\n",
              "      <td>1</td>\n",
              "    </tr>\n",
              "  </tbody>\n",
              "</table>\n",
              "</div>"
            ],
            "text/plain": [
              "   Unnamed: 0 contribution_date      sum  count  yearbin\n",
              "0           0        2013-01-01  9878.94    167        1\n",
              "1           1        2013-01-02  8158.56    304        1\n",
              "2           2        2013-01-03  5105.80    201        1\n",
              "3           3        2013-01-04  5070.50    159        1\n",
              "4           4        2013-01-05  5453.94    140        1"
            ]
          },
          "metadata": {
            "tags": []
          },
          "execution_count": 55
        }
      ]
    },
    {
      "cell_type": "code",
      "metadata": {
        "id": "iVgcNl47NTOq",
        "colab_type": "code",
        "colab": {
          "base_uri": "https://localhost:8080/",
          "height": 206
        },
        "outputId": "e414735c-aaa9-42ad-9861-545218587901"
      },
      "source": [
        "df.tail()\n",
        "#oh there's something bad on the end there"
      ],
      "execution_count": 56,
      "outputs": [
        {
          "output_type": "execute_result",
          "data": {
            "text/html": [
              "<div>\n",
              "<style scoped>\n",
              "    .dataframe tbody tr th:only-of-type {\n",
              "        vertical-align: middle;\n",
              "    }\n",
              "\n",
              "    .dataframe tbody tr th {\n",
              "        vertical-align: top;\n",
              "    }\n",
              "\n",
              "    .dataframe thead th {\n",
              "        text-align: right;\n",
              "    }\n",
              "</style>\n",
              "<table border=\"1\" class=\"dataframe\">\n",
              "  <thead>\n",
              "    <tr style=\"text-align: right;\">\n",
              "      <th></th>\n",
              "      <th>Unnamed: 0</th>\n",
              "      <th>contribution_date</th>\n",
              "      <th>sum</th>\n",
              "      <th>count</th>\n",
              "      <th>yearbin</th>\n",
              "    </tr>\n",
              "  </thead>\n",
              "  <tbody>\n",
              "    <tr>\n",
              "      <th>2095</th>\n",
              "      <td>2095</td>\n",
              "      <td>2018-09-27</td>\n",
              "      <td>3701844.73</td>\n",
              "      <td>66588</td>\n",
              "      <td>3</td>\n",
              "    </tr>\n",
              "    <tr>\n",
              "      <th>2096</th>\n",
              "      <td>2096</td>\n",
              "      <td>2018-09-28</td>\n",
              "      <td>6076516.70</td>\n",
              "      <td>125794</td>\n",
              "      <td>3</td>\n",
              "    </tr>\n",
              "    <tr>\n",
              "      <th>2097</th>\n",
              "      <td>2097</td>\n",
              "      <td>2018-09-29</td>\n",
              "      <td>5047416.55</td>\n",
              "      <td>106100</td>\n",
              "      <td>3</td>\n",
              "    </tr>\n",
              "    <tr>\n",
              "      <th>2098</th>\n",
              "      <td>2098</td>\n",
              "      <td>2018-09-30</td>\n",
              "      <td>10147367.59</td>\n",
              "      <td>182628</td>\n",
              "      <td>3</td>\n",
              "    </tr>\n",
              "    <tr>\n",
              "      <th>2099</th>\n",
              "      <td>2099</td>\n",
              "      <td>NaT</td>\n",
              "      <td>NaN</td>\n",
              "      <td>2</td>\n",
              "      <td>2</td>\n",
              "    </tr>\n",
              "  </tbody>\n",
              "</table>\n",
              "</div>"
            ],
            "text/plain": [
              "      Unnamed: 0 contribution_date          sum   count  yearbin\n",
              "2095        2095        2018-09-27   3701844.73   66588        3\n",
              "2096        2096        2018-09-28   6076516.70  125794        3\n",
              "2097        2097        2018-09-29   5047416.55  106100        3\n",
              "2098        2098        2018-09-30  10147367.59  182628        3\n",
              "2099        2099               NaT          NaN       2        2"
            ]
          },
          "metadata": {
            "tags": []
          },
          "execution_count": 56
        }
      ]
    },
    {
      "cell_type": "code",
      "metadata": {
        "id": "IituwbMSNu0X",
        "colab_type": "code",
        "colab": {
          "base_uri": "https://localhost:8080/",
          "height": 206
        },
        "outputId": "2d6ce445-3ae3-4c41-c822-d720a38148dc"
      },
      "source": [
        "df = df.drop(index=2099)\n",
        "df.tail()\n",
        "#that's better"
      ],
      "execution_count": 57,
      "outputs": [
        {
          "output_type": "execute_result",
          "data": {
            "text/html": [
              "<div>\n",
              "<style scoped>\n",
              "    .dataframe tbody tr th:only-of-type {\n",
              "        vertical-align: middle;\n",
              "    }\n",
              "\n",
              "    .dataframe tbody tr th {\n",
              "        vertical-align: top;\n",
              "    }\n",
              "\n",
              "    .dataframe thead th {\n",
              "        text-align: right;\n",
              "    }\n",
              "</style>\n",
              "<table border=\"1\" class=\"dataframe\">\n",
              "  <thead>\n",
              "    <tr style=\"text-align: right;\">\n",
              "      <th></th>\n",
              "      <th>Unnamed: 0</th>\n",
              "      <th>contribution_date</th>\n",
              "      <th>sum</th>\n",
              "      <th>count</th>\n",
              "      <th>yearbin</th>\n",
              "    </tr>\n",
              "  </thead>\n",
              "  <tbody>\n",
              "    <tr>\n",
              "      <th>2094</th>\n",
              "      <td>2094</td>\n",
              "      <td>2018-09-26</td>\n",
              "      <td>3827073.88</td>\n",
              "      <td>58498</td>\n",
              "      <td>3</td>\n",
              "    </tr>\n",
              "    <tr>\n",
              "      <th>2095</th>\n",
              "      <td>2095</td>\n",
              "      <td>2018-09-27</td>\n",
              "      <td>3701844.73</td>\n",
              "      <td>66588</td>\n",
              "      <td>3</td>\n",
              "    </tr>\n",
              "    <tr>\n",
              "      <th>2096</th>\n",
              "      <td>2096</td>\n",
              "      <td>2018-09-28</td>\n",
              "      <td>6076516.70</td>\n",
              "      <td>125794</td>\n",
              "      <td>3</td>\n",
              "    </tr>\n",
              "    <tr>\n",
              "      <th>2097</th>\n",
              "      <td>2097</td>\n",
              "      <td>2018-09-29</td>\n",
              "      <td>5047416.55</td>\n",
              "      <td>106100</td>\n",
              "      <td>3</td>\n",
              "    </tr>\n",
              "    <tr>\n",
              "      <th>2098</th>\n",
              "      <td>2098</td>\n",
              "      <td>2018-09-30</td>\n",
              "      <td>10147367.59</td>\n",
              "      <td>182628</td>\n",
              "      <td>3</td>\n",
              "    </tr>\n",
              "  </tbody>\n",
              "</table>\n",
              "</div>"
            ],
            "text/plain": [
              "      Unnamed: 0 contribution_date          sum   count  yearbin\n",
              "2094        2094        2018-09-26   3827073.88   58498        3\n",
              "2095        2095        2018-09-27   3701844.73   66588        3\n",
              "2096        2096        2018-09-28   6076516.70  125794        3\n",
              "2097        2097        2018-09-29   5047416.55  106100        3\n",
              "2098        2098        2018-09-30  10147367.59  182628        3"
            ]
          },
          "metadata": {
            "tags": []
          },
          "execution_count": 57
        }
      ]
    },
    {
      "cell_type": "code",
      "metadata": {
        "id": "cMymkBRpOUgg",
        "colab_type": "code",
        "colab": {
          "base_uri": "https://localhost:8080/",
          "height": 315
        },
        "outputId": "caa1c724-9e41-4c54-dc27-cdbcb3ffe18e"
      },
      "source": [
        "#split df into three sub-dfs for summing\n",
        "\n",
        "df1 = df[df['yearbin'] == 1]\n",
        "df2 = df[df['yearbin'] == 2]\n",
        "df3 = df[df['yearbin'] == 3]\n",
        "\n",
        "print(df1.head(),df2.head(),df3.head()) #looks good!"
      ],
      "execution_count": 58,
      "outputs": [
        {
          "output_type": "stream",
          "text": [
            "   Unnamed: 0 contribution_date      sum  count  yearbin\n",
            "0           0        2013-01-01  9878.94    167        1\n",
            "1           1        2013-01-02  8158.56    304        1\n",
            "2           2        2013-01-03  5105.80    201        1\n",
            "3           3        2013-01-04  5070.50    159        1\n",
            "4           4        2013-01-05  5453.94    140        1      Unnamed: 0 contribution_date       sum  count  yearbin\n",
            "730         730        2015-01-01  15734.66    675        2\n",
            "731         731        2015-01-02  12930.65    517        2\n",
            "732         732        2015-01-03  12727.61    503        2\n",
            "733         733        2015-01-04  11095.88    328        2\n",
            "734         734        2015-01-05   6175.11    384        2       Unnamed: 0 contribution_date        sum  count  yearbin\n",
            "1461        1461        2017-01-01  130314.73   6321        3\n",
            "1462        1462        2017-01-02   85383.15   3807        3\n",
            "1463        1463        2017-01-03   81012.20   2831        3\n",
            "1464        1464        2017-01-04  133044.17   3300        3\n",
            "1465        1465        2017-01-05  144292.94   3798        3\n"
          ],
          "name": "stdout"
        }
      ]
    },
    {
      "cell_type": "code",
      "metadata": {
        "id": "fcNG50kNO2-9",
        "colab_type": "code",
        "colab": {
          "base_uri": "https://localhost:8080/",
          "height": 34
        },
        "outputId": "1e6ed3f5-7294-461a-ec56-a6d35a69af89"
      },
      "source": [
        "print(df1.sum().loc['sum'], df1.sum().loc['count'])\n",
        "#these correspond with the heights of the first two bars in the chart!"
      ],
      "execution_count": 61,
      "outputs": [
        {
          "output_type": "stream",
          "text": [
            "113951310.78 3361213.0\n"
          ],
          "name": "stdout"
        }
      ]
    },
    {
      "cell_type": "code",
      "metadata": {
        "id": "gFpM6nzBQBPj",
        "colab_type": "code",
        "colab": {
          "base_uri": "https://localhost:8080/",
          "height": 86
        },
        "outputId": "d61a352d-d7c7-4397-a038-7e884567dcf1"
      },
      "source": [
        "#put all the sums of count into a dataframe for the green plot\n",
        "gdata = pd.Series([df1.sum().loc['count'],df2.sum().loc['count'],df3.sum().loc['count']],\n",
        "                  index=[\"2014\",\"'16\",\"'18\"])\n",
        "\n",
        "gdata"
      ],
      "execution_count": 62,
      "outputs": [
        {
          "output_type": "execute_result",
          "data": {
            "text/plain": [
              "2014     3361213.0\n",
              "'16      6747187.0\n",
              "'18     15272992.0\n",
              "dtype: float64"
            ]
          },
          "metadata": {
            "tags": []
          },
          "execution_count": 62
        }
      ]
    },
    {
      "cell_type": "code",
      "metadata": {
        "id": "VkF-IXRHQqf7",
        "colab_type": "code",
        "colab": {
          "base_uri": "https://localhost:8080/",
          "height": 86
        },
        "outputId": "11ac853c-ae78-4748-9027-fc5d4742ed30"
      },
      "source": [
        "#put all the sums of sum into a dataframe for the blue plot\n",
        "bdata = pd.Series([df1.sum().loc['sum'],df2.sum().loc['sum'],df3.sum().loc['sum']],\n",
        "                  index=[\"2014\",\"'16\",\"'18\"])\n",
        "\n",
        "bdata"
      ],
      "execution_count": 64,
      "outputs": [
        {
          "output_type": "execute_result",
          "data": {
            "text/plain": [
              "2014    1.139513e+08\n",
              "'16     2.221072e+08\n",
              "'18     5.636850e+08\n",
              "dtype: float64"
            ]
          },
          "metadata": {
            "tags": []
          },
          "execution_count": 64
        }
      ]
    },
    {
      "cell_type": "code",
      "metadata": {
        "id": "YyIdjONEUZ63",
        "colab_type": "code",
        "colab": {}
      },
      "source": [
        "from matplotlib.ticker import FixedLocator, FixedFormatter"
      ],
      "execution_count": 0,
      "outputs": []
    },
    {
      "cell_type": "code",
      "metadata": {
        "id": "La4Vbw6_RE0X",
        "colab_type": "code",
        "colab": {
          "base_uri": "https://localhost:8080/",
          "height": 292
        },
        "outputId": "e66d6045-2170-4402-c712-702027dbb12b"
      },
      "source": [
        "#now finally make the plots!\n",
        "\n",
        "# make figure\n",
        "fig1 = plt.figure(figsize=(2.5, 4))\n",
        "fig1.patch.set(facecolor='white')\n",
        "\n",
        "#make axes\n",
        "ax1 = gdata.plot.bar(color='#A4DEAD', width=0.9)\n",
        "ax1.set(facecolor='white')\n",
        "\n",
        "#customized title\n",
        "ax1.set_title(\"Number of contributions\",\n",
        "             fontsize='10',fontweight='bold',color='#222222')\n",
        "\n",
        "#grid\n",
        "plt.grid(axis='x')#,color='#F1F1F1' makes the vertical bars reappear?\n",
        "\n",
        "#Tick labels\n",
        "ax1.set_xticklabels([\"2014\",\"'16\",\"'18\"], rotation=0,\n",
        "                  fontsize='11',fontweight='bold')\n",
        "\n",
        "y_formatter = FixedFormatter([\"0\",\"5\", \"10\", \"15m\"])\n",
        "y_locator = FixedLocator([0,5000000, 10000000, 15000000])\n",
        "ax1.yaxis.set_major_formatter(y_formatter)\n",
        "ax1.yaxis.set_major_locator(y_locator)\n",
        "ax1.set_yticklabels(labels=[\"0\",\"5\", \"10\", \"15m\"],\n",
        "                    fontsize='10',color='#A2A2A2')\n",
        "\n",
        "#spines\n",
        "ax1.spines['bottom'].set_linewidth(1)\n",
        "ax1.spines['bottom'].set_color('#3C3C3C')\n",
        "\n",
        "ax1.spines['top'].set_visible(False)\n",
        "ax1.spines['left'].set_visible(False)\n",
        "ax1.spines['right'].set_visible(False)\n",
        "\n",
        "plt.show()"
      ],
      "execution_count": 113,
      "outputs": [
        {
          "output_type": "display_data",
          "data": {
            "image/png": "[encoded data removed]",
            "text/plain": [
              "<Figure size 180x288 with 1 Axes>"
            ]
          },
          "metadata": {
            "tags": []
          }
        }
      ]
    },
    {
      "cell_type": "code",
      "metadata": {
        "id": "QUHsVzTcRtYT",
        "colab_type": "code",
        "colab": {
          "base_uri": "https://localhost:8080/",
          "height": 371
        },
        "outputId": "16984046-d91f-4699-c8a9-beb3b9365252"
      },
      "source": [
        "display(example2)"
      ],
      "execution_count": 67,
      "outputs": [
        {
          "output_type": "display_data",
          "data": {
            "text/html": [
              "<img src=\"https://fivethirtyeight.com/wp-content/uploads/2018/10/actblue-1.png?w=1150\" width=\"400\"/>"
            ],
            "text/plain": [
              "<IPython.core.display.Image object>"
            ]
          },
          "metadata": {
            "tags": []
          }
        }
      ]
    },
    {
      "cell_type": "code",
      "metadata": {
        "id": "PbStEYficUWM",
        "colab_type": "code",
        "colab": {
          "base_uri": "https://localhost:8080/",
          "height": 292
        },
        "outputId": "7653bba2-5fea-4a94-b267-6bb8d8abb3e3"
      },
      "source": [
        "#now finally make the plots!\n",
        "\n",
        "# make figure\n",
        "fig2 = plt.figure(figsize=(2.5, 4))\n",
        "fig2.patch.set(facecolor='white')\n",
        "\n",
        "#make axes\n",
        "ax2 = bdata.plot.bar(color='#2A83B9', width=0.9)\n",
        "ax2.set(facecolor='white')\n",
        "\n",
        "#customized title\n",
        "ax2.set_title(\"Total amount in dollars\",\n",
        "             fontsize='10',fontweight='bold',color='#222222')\n",
        "\n",
        "#grid\n",
        "plt.grid(axis='x')#,color='#F1F1F1' makes the vertical bars reappear?\n",
        "\n",
        "#Tick labels\n",
        "ax2.set_xticklabels([\"2014\",\"'16\",\"'18\"], rotation=0,\n",
        "                  fontsize='11',fontweight='bold')\n",
        "\n",
        "y_formatter = FixedFormatter([\"0\",\"250\", \"$500m\"])\n",
        "y_locator = FixedLocator([0,250000000, 500000000])\n",
        "ax2.yaxis.set_major_formatter(y_formatter)\n",
        "ax2.yaxis.set_major_locator(y_locator)\n",
        "ax2.set_yticklabels(labels=[\"0\",\"250\", \"$500m\"],\n",
        "                    fontsize='10',color='#A2A2A2')\n",
        "\n",
        "#spines\n",
        "ax2.spines['bottom'].set_linewidth(1)\n",
        "ax2.spines['bottom'].set_color('#3C3C3C')\n",
        "\n",
        "ax2.spines['top'].set_visible(False)\n",
        "ax2.spines['left'].set_visible(False)\n",
        "ax2.spines['right'].set_visible(False)\n",
        "\n",
        "plt.show()"
      ],
      "execution_count": 114,
      "outputs": [
        {
          "output_type": "display_data",
          "data": {
            "image/png": "[encoded data removed]",
            "text/plain": [
              "<Figure size 180x288 with 1 Axes>"
            ]
          },
          "metadata": {
            "tags": []
          }
        }
      ]
    },
    {
      "cell_type": "markdown",
      "metadata": {
        "id": "0wSrBzmJyWaV",
        "colab_type": "text"
      },
      "source": [
        "# STRETCH OPTIONS\n",
        "\n",
        "### 1) Reproduce one of the following using the matplotlib or seaborn libraries:\n",
        "\n",
        "- [thanksgiving-2015](https://fivethirtyeight.com/features/heres-what-your-part-of-america-eats-on-thanksgiving/) \n",
        "- [candy-power-ranking](https://fivethirtyeight.com/features/the-ultimate-halloween-candy-power-ranking/) \n",
        "- or another example of your choice!\n",
        "\n",
        "### 2) Make more charts!\n",
        "\n",
        "Choose a chart you want to make, from [Visual Vocabulary - Vega Edition](http://ft.com/vocabulary).\n",
        "\n",
        "Find the chart in an example gallery of a Python data visualization library:\n",
        "- [Seaborn](http://seaborn.pydata.org/examples/index.html)\n",
        "- [Altair](https://altair-viz.github.io/gallery/index.html)\n",
        "- [Matplotlib](https://matplotlib.org/gallery.html)\n",
        "- [Pandas](https://pandas.pydata.org/pandas-docs/stable/visualization.html)\n",
        "\n",
        "Reproduce the chart. [Optionally, try the \"Ben Franklin Method.\"](https://docs.google.com/document/d/1ubOw9B3Hfip27hF2ZFnW3a3z9xAgrUDRReOEo-FHCVs/edit) If you want, experiment and make changes.\n",
        "\n",
        "Take notes. Consider sharing your work with your cohort!"
      ]
    },
    {
      "cell_type": "code",
      "metadata": {
        "id": "dRJkKftiy5BJ",
        "colab_type": "code",
        "colab": {}
      },
      "source": [
        "# More Work Here"
      ],
      "execution_count": 0,
      "outputs": []
    }
  ]
}