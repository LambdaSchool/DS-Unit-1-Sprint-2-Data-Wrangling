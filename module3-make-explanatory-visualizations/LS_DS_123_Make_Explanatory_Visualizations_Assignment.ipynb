{
  "nbformat": 4,
  "nbformat_minor": 0,
  "metadata": {
    "colab": {
      "name": "LS_DS_123_Make_Explanatory_Visualizations_Assignment.ipynb",
      "version": "0.3.2",
      "provenance": [],
      "collapsed_sections": [],
      "toc_visible": true,
      "include_colab_link": true
    },
    "language_info": {
      "codemirror_mode": {
        "name": "ipython",
        "version": 3
      },
      "file_extension": ".py",
      "mimetype": "text/x-python",
      "name": "python",
      "nbconvert_exporter": "python",
      "pygments_lexer": "ipython3",
      "version": "3.7.1"
    },
    "kernelspec": {
      "display_name": "Python 3",
      "language": "python",
      "name": "python3"
    }
  },
  "cells": [
    {
      "cell_type": "markdown",
      "metadata": {
        "id": "view-in-github",
        "colab_type": "text"
      },
      "source": [
        "<a href=\"https://colab.research.google.com/github/Nckflannery/DS-Unit-1-Sprint-2-Data-Wrangling-and-Storytelling/blob/master/module3-make-explanatory-visualizations/LS_DS_123_Make_Explanatory_Visualizations_Assignment.ipynb\" target=\"_parent\"><img src=\"https://colab.research.google.com/assets/colab-badge.svg\" alt=\"Open In Colab\"/></a>"
      ]
    },
    {
      "cell_type": "markdown",
      "metadata": {
        "colab_type": "text",
        "id": "NMEswXWh9mqw"
      },
      "source": [
        "# ASSIGNMENT\n",
        "\n",
        "### 1) Replicate the lesson code. I recommend that you [do not copy-paste](https://docs.google.com/document/d/1ubOw9B3Hfip27hF2ZFnW3a3z9xAgrUDRReOEo-FHCVs/edit).\n",
        "\n",
        "Get caught up to where we got our example in class and then try and take things further. How close to \"pixel perfect\" can you make the lecture graph?\n",
        "\n",
        "Once you have something that you're proud of, share your graph in the cohort channel and move on to the second exercise.\n",
        "\n",
        "### 2) Reproduce another example from [FiveThityEight's shared data repository](https://data.fivethirtyeight.com/).\n",
        "\n",
        "**WARNING**: There are a lot of very custom graphs and tables at the above link. I **highly** recommend not trying to reproduce any that look like a table of values or something really different from the graph types that we are already familiar with. Search through the posts until you find a graph type that you are more or less familiar with: histogram, bar chart, stacked bar chart, line chart, [seaborn relplot](https://seaborn.pydata.org/generated/seaborn.relplot.html), etc. Recreating some of the graphics that 538 uses would be a lot easier in Adobe photoshop/illustrator than with matplotlib. \n",
        "\n",
        "- If you put in some time to find a graph that looks \"easy\" to replicate you'll probably find that it's not as easy as you thought. \n",
        "\n",
        "- If you start with a graph that looks hard to replicate you'll probably run up against a brick wall and be disappointed with your afternoon.\n",
        "\n",
        "\n",
        "\n",
        "\n",
        "\n",
        "\n",
        "\n",
        "\n",
        "\n",
        "\n"
      ]
    },
    {
      "cell_type": "markdown",
      "metadata": {
        "id": "xqJuQKPmzbzC",
        "colab_type": "text"
      },
      "source": [
        "##Part 1"
      ]
    },
    {
      "cell_type": "markdown",
      "metadata": {
        "id": "lXt0qfCd02Y5",
        "colab_type": "text"
      },
      "source": [
        "###Replicate first graph"
      ]
    },
    {
      "cell_type": "code",
      "metadata": {
        "id": "7SY1ZHawyZvz",
        "colab_type": "code",
        "colab": {
          "base_uri": "https://localhost:8080/",
          "height": 555
        },
        "outputId": "dd557152-25e3-401c-edec-28d383428b04"
      },
      "source": [
        "import numpy as np\n",
        "import matplotlib.pyplot as plt\n",
        "from matplotlib.ticker import AutoMinorLocator, MultipleLocator, FuncFormatter\n",
        "\n",
        "np.random.seed(19680801)\n",
        "\n",
        "X = np.linspace(0.5, 3.5, 100)\n",
        "Y1 = 3+np.cos(X)\n",
        "Y2 = 1+np.cos(1+X/0.75)/2\n",
        "Y3 = np.random.uniform(Y1, Y2, len(X))\n",
        "\n",
        "fig = plt.figure(figsize=(8, 8))\n",
        "ax = fig.add_subplot(1, 1, 1, aspect=1)\n",
        "\n",
        "def minor_tick(x, pos):\n",
        "  if not x % 1.0:\n",
        "    return \"\"\n",
        "  return \"%.2f\" % x\n",
        "\n",
        "ax.xaxis.set_major_locator(MultipleLocator(1.000))\n",
        "ax.xaxis.set_minor_locator(AutoMinorLocator(4))\n",
        "ax.yaxis.set_major_locator(MultipleLocator(1.000))\n",
        "ax.yaxis.set_minor_locator(AutoMinorLocator(4))\n",
        "ax.xaxis.set_minor_formatter(FuncFormatter(minor_tick))\n",
        "\n",
        "ax.set_xlim(0, 4)\n",
        "ax.set_ylim(0, 4)\n",
        "\n",
        "ax.tick_params(which='major', width=1.0)\n",
        "ax.tick_params(which='major', length=10)\n",
        "ax.tick_params(which='minor', width=1.0, labelsize=10)\n",
        "ax.tick_params(which='minor', length=5, labelsize=10, labelcolor='0.25')\n",
        "\n",
        "ax.grid(linestyle=\"--\", linewidth=0.5, color='.25', zorder=-10)\n",
        "\n",
        "ax.plot(X, Y1, c=(0.25, 0.25, 1.00), lw=2, label=\"Blue signal\", zorder=10)\n",
        "ax.plot(X, Y2, c=(1.00, 0.25, 0.25), lw=2, label=\"Red signal\")\n",
        "ax.plot(X, Y3, linewidth=0,\n",
        "        marker='o', markerfacecolor='w', markeredgecolor='k')\n",
        "\n",
        "ax.set_title(\"Anatomy of a figure\", fontsize=20, verticalalignment='bottom')\n",
        "ax.set_xlabel(\"X axis label\")\n",
        "ax.set_ylabel(\"Y axis label\")\n",
        "\n",
        "ax.legend()\n",
        "\n",
        "\n",
        "def circle(x, y, radius=0.15):\n",
        "    from matplotlib.patches import Circle\n",
        "    from matplotlib.patheffects import withStroke\n",
        "    circle = Circle((x, y), radius, clip_on=False, zorder=10, linewidth=1,\n",
        "                    edgecolor='black', facecolor=(0, 0, 0, .0125),\n",
        "                    path_effects=[withStroke(linewidth=5, foreground='w')])\n",
        "    ax.add_artist(circle)\n",
        "\n",
        "\n",
        "def text(x, y, text):\n",
        "    ax.text(x, y, text, backgroundcolor=\"white\",\n",
        "            ha='center', va='top', weight='bold', color='blue')\n",
        "\n",
        "# Minor tick\n",
        "circle(0.50, -0.10)\n",
        "text(0.50, -0.32, \"Minor tick label\")\n",
        "\n",
        "# Major tick\n",
        "circle(-0.03, 4.00)\n",
        "text(0.03, 3.80, \"Major tick\")\n",
        "\n",
        "# Minor tick\n",
        "circle(0.00, 3.50)\n",
        "text(0.00, 3.30, \"Minor tick\")\n",
        "\n",
        "# Major tick label\n",
        "circle(-0.15, 3.00)\n",
        "text(-0.15, 2.80, \"Major tick label\")\n",
        "\n",
        "# X Label\n",
        "circle(1.80, -0.27)\n",
        "text(1.80, -0.45, \"X axis label\")\n",
        "\n",
        "# Y Label\n",
        "circle(-0.27, 1.80)\n",
        "text(-0.27, 1.6, \"Y axis label\")\n",
        "\n",
        "# Title\n",
        "circle(1.60, 4.13)\n",
        "text(1.60, 3.93, \"Title\")\n",
        "\n",
        "# Blue plot\n",
        "circle(1.75, 2.80)\n",
        "text(1.75, 2.60, \"Line\\n(line plot)\")\n",
        "\n",
        "# Red plot\n",
        "circle(1.20, 0.60)\n",
        "text(1.20, 0.40, \"Line\\n(line plot)\")\n",
        "\n",
        "# Scatter plot\n",
        "circle(3.20, 1.75)\n",
        "text(3.20, 1.55, \"Markers\\n(scatter plot)\")\n",
        "\n",
        "# Grid\n",
        "circle(3.00, 3.00)\n",
        "text(3.00, 2.80, \"Grid\")\n",
        "\n",
        "# Legend\n",
        "circle(3.70, 3.80)\n",
        "text(3.70, 3.60, \"Legend\")\n",
        "\n",
        "# Axes\n",
        "circle(0.5, 0.5)\n",
        "text(0.5, 0.3, \"Axes\")\n",
        "\n",
        "# Figure\n",
        "circle(-0.3, 0.65)\n",
        "text(-0.3, 0.45, \"Figure\")\n",
        "\n",
        "color = 'blue'\n",
        "ax.annotate('Spines', xy=(4.0, 0.35), xytext=(3.3, 0.5),\n",
        "            weight='bold', color=color,\n",
        "            arrowprops=dict(arrowstyle='->',\n",
        "                            connectionstyle=\"arc3\",\n",
        "                            color=color))\n",
        "\n",
        "ax.annotate('', xy=(3.15, 0.0), xytext=(3.45, 0.45),\n",
        "            weight='bold', color=color,\n",
        "            arrowprops=dict(arrowstyle='->',\n",
        "                            connectionstyle=\"arc3\",\n",
        "                            color=color))\n",
        "\n",
        "ax.text(4.0, -0.4, \"Made with http://matplotlib.org\",\n",
        "        fontsize=10, ha=\"right\", color='.5')\n",
        "\n",
        "plt.show()"
      ],
      "execution_count": 1,
      "outputs": [
        {
          "output_type": "display_data",
          "data": {
            "image/png": "[encoded data removed]",
            "text/plain": [
              "<Figure size 576x576 with 1 Axes>"
            ]
          },
          "metadata": {
            "tags": []
          }
        }
      ]
    },
    {
      "cell_type": "markdown",
      "metadata": {
        "id": "vo8ta9y109Vt",
        "colab_type": "text"
      },
      "source": [
        "###Replicate IMDB graph"
      ]
    },
    {
      "cell_type": "code",
      "metadata": {
        "id": "6X1eUI5-073J",
        "colab_type": "code",
        "colab": {
          "base_uri": "https://localhost:8080/",
          "height": 355
        },
        "outputId": "e9a33092-3407-432e-c496-cfd117fcbd72"
      },
      "source": [
        "from IPython.display import display, Image\n",
        "\n",
        "url = 'https://fivethirtyeight.com/wp-content/uploads/2017/09/mehtahickey-inconvenient-0830-1.png'\n",
        "example = Image(url=url, width=400)\n",
        "\n",
        "display(example)"
      ],
      "execution_count": 4,
      "outputs": [
        {
          "output_type": "display_data",
          "data": {
            "text/html": [
              "<img src=\"https://fivethirtyeight.com/wp-content/uploads/2017/09/mehtahickey-inconvenient-0830-1.png\" width=\"400\"/>"
            ],
            "text/plain": [
              "<IPython.core.display.Image object>"
            ]
          },
          "metadata": {
            "tags": []
          }
        }
      ]
    },
    {
      "cell_type": "code",
      "metadata": {
        "id": "g_Ohf2ET1844",
        "colab_type": "code",
        "colab": {
          "base_uri": "https://localhost:8080/",
          "height": 271
        },
        "outputId": "5fbc0f55-2a25-4ab7-e152-2a69ff6f3291"
      },
      "source": [
        "%matplotlib inline\n",
        "import matplotlib.pyplot as plt\n",
        "import numpy as np\n",
        "import pandas as pd\n",
        "\n",
        "\n",
        "#plt.style.use('fivethirtyeight')\n",
        "\n",
        "fake = pd.Series([38, 3, 2, 1, 2, 4, 6, 5, 5, 33], \n",
        "                 index=range(1,11))\n",
        "\n",
        "fake.plot.bar(color='C1', width=0.9);"
      ],
      "execution_count": 5,
      "outputs": [
        {
          "output_type": "display_data",
          "data": {
            "image/png": "[encoded data removed]",
            "text/plain": [
              "<Figure size 432x288 with 1 Axes>"
            ]
          },
          "metadata": {
            "tags": []
          }
        }
      ]
    },
    {
      "cell_type": "code",
      "metadata": {
        "id": "J2Q9ndAg2EYV",
        "colab_type": "code",
        "colab": {
          "base_uri": "https://localhost:8080/",
          "height": 271
        },
        "outputId": "fffdcf64-bcab-4d63-8e36-f8b32c80b92e"
      },
      "source": [
        "fake2 = pd.Series(\n",
        "    [1, 1, 1, 1, 1, 1, 1, 1, 1, 1, 1, 1, 1, 1, 1, 1, 1, 1, 1, 1, 1, 1, 1, 1,\n",
        "     2, 2, 2, \n",
        "     3, 3, 3,\n",
        "     4, 4,\n",
        "     5, 5, 5,\n",
        "     6, 6, 6, 6,\n",
        "     7, 7, 7, 7, 7,\n",
        "     8, 8, 8, 8,\n",
        "     9, 9, 9, 9, \n",
        "     10, 10, 10, 10, 10, 10, 10, 10, 10, 10, 10, 10, 10, 10, 10, 10, 10, 10])\n",
        "\n",
        "fake2.value_counts().sort_index().plot.bar(color='C1', width=0.9);"
      ],
      "execution_count": 8,
      "outputs": [
        {
          "output_type": "display_data",
          "data": {
            "image/png": "[encoded data removed]",
            "text/plain": [
              "<Figure size 432x288 with 1 Axes>"
            ]
          },
          "metadata": {
            "tags": []
          }
        }
      ]
    },
    {
      "cell_type": "code",
      "metadata": {
        "id": "m_27fdb52XXT",
        "colab_type": "code",
        "colab": {
          "base_uri": "https://localhost:8080/",
          "height": 345
        },
        "outputId": "859c5dc8-4bd7-409e-f41d-0aa32dfc0e00"
      },
      "source": [
        "import matplotlib.pyplot as plt\n",
        "\n",
        "plt.style.use('fivethirtyeight')\n",
        "\n",
        "# Generate our Figure\n",
        "fig = plt.figure()\n",
        "\n",
        "# Add title in Figure\n",
        "###fig.suptitle('Test Title')\n",
        "\n",
        "\n",
        "# Generate our Axes (Center section)\n",
        "ax = fake.plot.bar(color='#ED713A', width=0.9)\n",
        "\n",
        "# Make transparent\n",
        "fig.patch.set(alpha=0)\n",
        "ax.patch.set(alpha=0)\n",
        "# Set Title in axes\n",
        "###ax.set_title('Title')\n",
        "\n",
        "# Fix grid color\n",
        "ax.grid(color='#828282')\n",
        "\n",
        "#Hide outer grid lines and thin bottom line\n",
        "ax.spines['top'].set_visible(False)\n",
        "ax.spines['left'].set_visible(False)\n",
        "ax.spines['right'].set_visible(False)\n",
        "ax.spines['bottom'].set_visible(False)\n",
        "\n",
        "ax.text(x=-1.1, y=39.5, s='40%', color='#858585', size=8)\n",
        "ax.text(x=-1.5,y=45,s=\"'An Inconvenient Sequel: Truth to Power' is divisive\", fontweight='bold', fontsize=13, color='#232323');\n",
        "ax.text(x=-1.5, y=42, s='IMDB ratings for the films as of Aug. 29', fontsize=11.5, color='#232323');\n",
        "\n",
        "ax.text(x=-1.7, y=-10, s='FiveThirtyEight', size=7.5, color='#7E7E7E')\n",
        "ax.text(x=8, y=-10, s='SOURCE:IMDB', size=7.5, color='#7E7E7E', family='sans-serif')\n",
        "\n",
        "# Set Axis labels (These are just text objects that have been rotated)\n",
        "ax.set_xlabel('Rating', fontsize=9, fontweight='bold', labelpad=5);\n",
        "ax.set_ylabel('Percent of total votes', fontsize=9, fontweight='bold', labelpad=5);\n",
        "ax.xaxis.set_label_coords(x=.48, y=-.1, transform=None)\n",
        "\n",
        "# Fix our tick labels\n",
        "ax.set_xticks(range(0,10))\n",
        "ax.set_xticklabels(range(1, 11), rotation=0, color='#858585', size=8)\n",
        "ax.set_yticks(range(0, 50, 10))\n",
        "ax.set_yticklabels(labels=['0', '10', '20', '30'], color='#858585', size=8, ha='right')\n",
        "ax.tick_params(axis='y', pad=8)\n",
        "\n",
        "ax.set_xlim(-.6,9.6)\n",
        "ax.set_ylim(-2, 40.5)\n",
        "\n",
        "plt.show()"
      ],
      "execution_count": 226,
      "outputs": [
        {
          "output_type": "display_data",
          "data": {
            "image/png": "[encoded data removed]",
            "text/plain": [
              "<Figure size 432x288 with 1 Axes>"
            ]
          },
          "metadata": {
            "tags": []
          }
        }
      ]
    },
    {
      "cell_type": "code",
      "metadata": {
        "id": "r_gXvAHe2XZv",
        "colab_type": "code",
        "colab": {
          "base_uri": "https://localhost:8080/",
          "height": 355
        },
        "outputId": "094089ef-22b0-4f55-9f63-ce1938520f76"
      },
      "source": [
        "#For Reference\n",
        "display(example)"
      ],
      "execution_count": 216,
      "outputs": [
        {
          "output_type": "display_data",
          "data": {
            "text/html": [
              "<img src=\"https://fivethirtyeight.com/wp-content/uploads/2017/09/mehtahickey-inconvenient-0830-1.png\" width=\"400\"/>"
            ],
            "text/plain": [
              "<IPython.core.display.Image object>"
            ]
          },
          "metadata": {
            "tags": []
          }
        }
      ]
    },
    {
      "cell_type": "markdown",
      "metadata": {
        "id": "BxDTa01xT6qC",
        "colab_type": "text"
      },
      "source": [
        "##Reproduce an example from FiveThirtyEight"
      ]
    },
    {
      "cell_type": "code",
      "metadata": {
        "id": "ICZFft52UDEP",
        "colab_type": "code",
        "colab": {
          "base_uri": "https://localhost:8080/",
          "height": 468
        },
        "outputId": "c01df319-29a9-46e0-ef0a-0fca058c9cc9"
      },
      "source": [
        "from IPython.display import display, Image\n",
        "\n",
        "url = 'https://fivethirtyeight.com/wp-content/uploads/2015/08/hickey-datalab-dailyshow.png?w=575'\n",
        "example1 = Image(url=url)\n",
        "\n",
        "display(example1)"
      ],
      "execution_count": 230,
      "outputs": [
        {
          "output_type": "display_data",
          "data": {
            "text/html": [
              "<img src=\"https://fivethirtyeight.com/wp-content/uploads/2015/08/hickey-datalab-dailyshow.png?w=575\"/>"
            ],
            "text/plain": [
              "<IPython.core.display.Image object>"
            ]
          },
          "metadata": {
            "tags": []
          }
        }
      ]
    },
    {
      "cell_type": "code",
      "metadata": {
        "id": "pX38tnwCYze0",
        "colab_type": "code",
        "colab": {}
      },
      "source": [
        "import pandas as pd\n",
        "\n",
        "data_url = 'https://raw.githubusercontent.com/fivethirtyeight/data/master/daily-show-guests/daily_show_guests.csv'\n",
        "df = pd.read_csv(data_url)"
      ],
      "execution_count": 0,
      "outputs": []
    },
    {
      "cell_type": "code",
      "metadata": {
        "id": "lJSdWveQcNTQ",
        "colab_type": "code",
        "colab": {
          "base_uri": "https://localhost:8080/",
          "height": 323
        },
        "outputId": "3185e627-466d-47fb-91ec-6af726564fa2"
      },
      "source": [
        "df['Group'].value_counts()"
      ],
      "execution_count": 542,
      "outputs": [
        {
          "output_type": "execute_result",
          "data": {
            "text/plain": [
              "Acting            930\n",
              "Media             751\n",
              "Politician        308\n",
              "Comedy            150\n",
              "Musician          123\n",
              "Academic          103\n",
              "Athletics          52\n",
              "Misc               45\n",
              "Government         40\n",
              "Political Aide     36\n",
              "Science            28\n",
              "Business           25\n",
              "Advocacy           24\n",
              "Consultant         18\n",
              "Military           16\n",
              "Clergy              8\n",
              "media               5\n",
              "Name: Group, dtype: int64"
            ]
          },
          "metadata": {
            "tags": []
          },
          "execution_count": 542
        }
      ]
    },
    {
      "cell_type": "code",
      "metadata": {
        "id": "b1L63TXWg9Ut",
        "colab_type": "code",
        "colab": {}
      },
      "source": [
        "# Combine Acting Comedy and Musicians\n",
        "df['Group'] = df['Group'].replace(['Acting', 'Comedy', 'Musician'] , 'Acting, Comedy & Musician')\n",
        "df['Group'] = df['Group'].replace(['Politician', 'Government', 'Political Aide', 'Military'], 'Government and Politics')\n",
        "df['Group'] = df['Group'].replace(['Media', 'media'] , 'Media')"
      ],
      "execution_count": 0,
      "outputs": []
    },
    {
      "cell_type": "code",
      "metadata": {
        "id": "iWOWCvKVg9XZ",
        "colab_type": "code",
        "colab": {}
      },
      "source": [
        "# Drop categories I don't need\n",
        "df = df[['YEAR', 'Group']]"
      ],
      "execution_count": 0,
      "outputs": []
    },
    {
      "cell_type": "code",
      "metadata": {
        "id": "MWxXMfctzBEx",
        "colab_type": "code",
        "colab": {}
      },
      "source": [
        "ToS = df['Group'].value_counts().rename_axis('Group').reset_index(name='Times on Show')"
      ],
      "execution_count": 0,
      "outputs": []
    },
    {
      "cell_type": "code",
      "metadata": {
        "id": "0jxvHzruzg5S",
        "colab_type": "code",
        "colab": {}
      },
      "source": [
        "condition = ToS['Times on Show'] > 200\n",
        "df1 = ToS[condition]"
      ],
      "execution_count": 0,
      "outputs": []
    },
    {
      "cell_type": "code",
      "metadata": {
        "id": "iVTOt4zCt9YD",
        "colab_type": "code",
        "colab": {}
      },
      "source": [
        "merged = pd.merge(df, df1['Group'], how='inner', on='Group')"
      ],
      "execution_count": 0,
      "outputs": []
    },
    {
      "cell_type": "code",
      "metadata": {
        "id": "_Kz7z3UU-Q-W",
        "colab_type": "code",
        "colab": {}
      },
      "source": [
        "crosstab = pd.crosstab(merged['YEAR'], merged['Group'], normalize='index')"
      ],
      "execution_count": 0,
      "outputs": []
    },
    {
      "cell_type": "code",
      "metadata": {
        "id": "hxx1Zto3-830",
        "colab_type": "code",
        "colab": {
          "base_uri": "https://localhost:8080/",
          "height": 607
        },
        "outputId": "728b2ed6-1e54-45a2-f832-35addbd0dce6"
      },
      "source": [
        "crosstab"
      ],
      "execution_count": 553,
      "outputs": [
        {
          "output_type": "execute_result",
          "data": {
            "text/html": [
              "<div>\n",
              "<style scoped>\n",
              "    .dataframe tbody tr th:only-of-type {\n",
              "        vertical-align: middle;\n",
              "    }\n",
              "\n",
              "    .dataframe tbody tr th {\n",
              "        vertical-align: top;\n",
              "    }\n",
              "\n",
              "    .dataframe thead th {\n",
              "        text-align: right;\n",
              "    }\n",
              "</style>\n",
              "<table border=\"1\" class=\"dataframe\">\n",
              "  <thead>\n",
              "    <tr style=\"text-align: right;\">\n",
              "      <th>Group</th>\n",
              "      <th>Acting, Comedy &amp; Musician</th>\n",
              "      <th>Government and Politics</th>\n",
              "      <th>Media</th>\n",
              "    </tr>\n",
              "    <tr>\n",
              "      <th>YEAR</th>\n",
              "      <th></th>\n",
              "      <th></th>\n",
              "      <th></th>\n",
              "    </tr>\n",
              "  </thead>\n",
              "  <tbody>\n",
              "    <tr>\n",
              "      <th>1999</th>\n",
              "      <td>0.920245</td>\n",
              "      <td>0.012270</td>\n",
              "      <td>0.067485</td>\n",
              "    </tr>\n",
              "    <tr>\n",
              "      <th>2000</th>\n",
              "      <td>0.781250</td>\n",
              "      <td>0.087500</td>\n",
              "      <td>0.131250</td>\n",
              "    </tr>\n",
              "    <tr>\n",
              "      <th>2001</th>\n",
              "      <td>0.754967</td>\n",
              "      <td>0.039735</td>\n",
              "      <td>0.205298</td>\n",
              "    </tr>\n",
              "    <tr>\n",
              "      <th>2002</th>\n",
              "      <td>0.651316</td>\n",
              "      <td>0.072368</td>\n",
              "      <td>0.276316</td>\n",
              "    </tr>\n",
              "    <tr>\n",
              "      <th>2003</th>\n",
              "      <td>0.615894</td>\n",
              "      <td>0.112583</td>\n",
              "      <td>0.271523</td>\n",
              "    </tr>\n",
              "    <tr>\n",
              "      <th>2004</th>\n",
              "      <td>0.434483</td>\n",
              "      <td>0.255172</td>\n",
              "      <td>0.310345</td>\n",
              "    </tr>\n",
              "    <tr>\n",
              "      <th>2005</th>\n",
              "      <td>0.425532</td>\n",
              "      <td>0.191489</td>\n",
              "      <td>0.382979</td>\n",
              "    </tr>\n",
              "    <tr>\n",
              "      <th>2006</th>\n",
              "      <td>0.423358</td>\n",
              "      <td>0.233577</td>\n",
              "      <td>0.343066</td>\n",
              "    </tr>\n",
              "    <tr>\n",
              "      <th>2007</th>\n",
              "      <td>0.327273</td>\n",
              "      <td>0.245455</td>\n",
              "      <td>0.427273</td>\n",
              "    </tr>\n",
              "    <tr>\n",
              "      <th>2008</th>\n",
              "      <td>0.234483</td>\n",
              "      <td>0.234483</td>\n",
              "      <td>0.531034</td>\n",
              "    </tr>\n",
              "    <tr>\n",
              "      <th>2009</th>\n",
              "      <td>0.265625</td>\n",
              "      <td>0.273438</td>\n",
              "      <td>0.460938</td>\n",
              "    </tr>\n",
              "    <tr>\n",
              "      <th>2010</th>\n",
              "      <td>0.414286</td>\n",
              "      <td>0.228571</td>\n",
              "      <td>0.357143</td>\n",
              "    </tr>\n",
              "    <tr>\n",
              "      <th>2011</th>\n",
              "      <td>0.404412</td>\n",
              "      <td>0.220588</td>\n",
              "      <td>0.375000</td>\n",
              "    </tr>\n",
              "    <tr>\n",
              "      <th>2012</th>\n",
              "      <td>0.338462</td>\n",
              "      <td>0.261538</td>\n",
              "      <td>0.400000</td>\n",
              "    </tr>\n",
              "    <tr>\n",
              "      <th>2013</th>\n",
              "      <td>0.493056</td>\n",
              "      <td>0.152778</td>\n",
              "      <td>0.354167</td>\n",
              "    </tr>\n",
              "    <tr>\n",
              "      <th>2014</th>\n",
              "      <td>0.460432</td>\n",
              "      <td>0.158273</td>\n",
              "      <td>0.381295</td>\n",
              "    </tr>\n",
              "    <tr>\n",
              "      <th>2015</th>\n",
              "      <td>0.517241</td>\n",
              "      <td>0.206897</td>\n",
              "      <td>0.275862</td>\n",
              "    </tr>\n",
              "  </tbody>\n",
              "</table>\n",
              "</div>"
            ],
            "text/plain": [
              "Group  Acting, Comedy & Musician  Government and Politics     Media\n",
              "YEAR                                                               \n",
              "1999                    0.920245                 0.012270  0.067485\n",
              "2000                    0.781250                 0.087500  0.131250\n",
              "2001                    0.754967                 0.039735  0.205298\n",
              "2002                    0.651316                 0.072368  0.276316\n",
              "2003                    0.615894                 0.112583  0.271523\n",
              "2004                    0.434483                 0.255172  0.310345\n",
              "2005                    0.425532                 0.191489  0.382979\n",
              "2006                    0.423358                 0.233577  0.343066\n",
              "2007                    0.327273                 0.245455  0.427273\n",
              "2008                    0.234483                 0.234483  0.531034\n",
              "2009                    0.265625                 0.273438  0.460938\n",
              "2010                    0.414286                 0.228571  0.357143\n",
              "2011                    0.404412                 0.220588  0.375000\n",
              "2012                    0.338462                 0.261538  0.400000\n",
              "2013                    0.493056                 0.152778  0.354167\n",
              "2014                    0.460432                 0.158273  0.381295\n",
              "2015                    0.517241                 0.206897  0.275862"
            ]
          },
          "metadata": {
            "tags": []
          },
          "execution_count": 553
        }
      ]
    },
    {
      "cell_type": "code",
      "metadata": {
        "id": "JCW9eXJNBEq7",
        "colab_type": "code",
        "colab": {}
      },
      "source": [
        "````plt.style.use('fivethirtyeight')\n",
        "\n",
        "# Generate our Figure\n",
        "fig = plt.figure()\n",
        "\n",
        "# Add title in Figure\n",
        "###fig.suptitle('Test Title')\n",
        "\n",
        "\n",
        "# Generate our Axes (Center section)\n",
        "ax = fake.plot.bar(color='#ED713A', width=0.9)\n",
        "\n",
        "# Make transparent\n",
        "fig.patch.set(alpha=0)\n",
        "ax.patch.set(alpha=0)\n",
        "# Set Title in axes\n",
        "###ax.set_title('Title')\n",
        "\n",
        "# Fix grid color\n",
        "ax.grid(color='#828282')\n",
        "\n",
        "#Hide outer grid lines and thin bottom line\n",
        "ax.spines['top'].set_visible(False)\n",
        "ax.spines['left'].set_visible(False)\n",
        "ax.spines['right'].set_visible(False)\n",
        "ax.spines['bottom'].set_visible(False)\n",
        "\n",
        "ax.text(x=-1.1, y=39.5, s='40%', color='#858585', size=8)\n",
        "ax.text(x=-1.5,y=45,s=\"'An Inconvenient Sequel: Truth to Power' is divisive\", fontweight='bold', fontsize=13, color='#232323');\n",
        "ax.text(x=-1.5, y=42, s='IMDB ratings for the films as of Aug. 29', fontsize=11.5, color='#232323');\n",
        "\n",
        "ax.text(x=-1.7, y=-10, s='FiveThirtyEight', size=7.5, color='#7E7E7E')\n",
        "ax.text(x=8, y=-10, s='SOURCE:IMDB', size=7.5, color='#7E7E7E', family='sans-serif')\n",
        "\n",
        "# Set Axis labels (These are just text objects that have been rotated)\n",
        "ax.set_xlabel('Rating', fontsize=9, fontweight='bold', labelpad=5);\n",
        "ax.set_ylabel('Percent of total votes', fontsize=9, fontweight='bold', labelpad=5);\n",
        "ax.xaxis.set_label_coords(x=.48, y=-.1, transform=None)\n",
        "\n",
        "# Fix our tick labels\n",
        "ax.set_xticks(range(0,10))\n",
        "ax.set_xticklabels(range(1, 11), rotation=0, color='#858585', size=8)\n",
        "ax.set_yticks(range(0, 50, 10))\n",
        "ax.set_yticklabels(labels=['0', '10', '20', '30'], color='#858585', size=8, ha='right')\n",
        "ax.tick_params(axis='y', pad=8)\n",
        "\n",
        "ax.set_xlim(-.6,9.6)\n",
        "ax.set_ylim(-2, 40.5)\n",
        "\n",
        "plt.show()```"
      ],
      "execution_count": 0,
      "outputs": []
    },
    {
      "cell_type": "code",
      "metadata": {
        "id": "oznqBkgD-86P",
        "colab_type": "code",
        "colab": {
          "base_uri": "https://localhost:8080/",
          "height": 352
        },
        "outputId": "72164bd5-a971-4f17-a901-d8c384952d2d"
      },
      "source": [
        "plt.style.use('fivethirtyeight')\n",
        "\n",
        "# Generate our Figure\n",
        "fig = plt.figure()\n",
        "\n",
        "# Generate our Axes (Center section)\n",
        "ax = crosstab.plot(kind='line', lw=2.5)\n",
        "\n",
        "ax.legend().set_visible(False)\n",
        "\n",
        "ax.text(x=1997, y= 1.3, s=\"Who Got To Be On 'The Daily Show'?\", fontweight='bold', fontsize=18)\n",
        "ax.text(x=1997, y=1.2, s='Occupation of guests, by year', fontsize= 15)\n",
        "\n",
        "ax.text(x=2001, y=.8, s='Acting, Comedy & Music', fontweight='bold', color='#008FD5')\n",
        "ax.text(x=2007, y=.55, s='Media', fontweight='bold', color='#E5AE38')\n",
        "ax.text(x=2009, y=.05, s='Government and Politics', fontweight='bold', color='#FA6449')\n",
        "\n",
        "ax.set_xticks([2000, 2004, 2008, 2012])\n",
        "ax.set_xticklabels(labels=['2000', \"'04\", \"'08\", \"'12\"])\n",
        "\n",
        "ax.xaxis.label.set_visible(False)\n",
        "\n",
        "ax.set_yticks([0, .25, .50, .75, 1])\n",
        "ax.set_yticklabels(['0', '25', '50', '75', '100%'])\n",
        "\n",
        "ax.set_ylim(-.1, 1.1)\n",
        "ax.set_xlim(1998.5, 2016)\n",
        "\n",
        "plt.show()"
      ],
      "execution_count": 600,
      "outputs": [
        {
          "output_type": "display_data",
          "data": {
            "text/plain": [
              "<Figure size 432x288 with 0 Axes>"
            ]
          },
          "metadata": {
            "tags": []
          }
        },
        {
          "output_type": "display_data",
          "data": {
            "image/png": "[encoded data removed]",
            "text/plain": [
              "<Figure size 432x288 with 1 Axes>"
            ]
          },
          "metadata": {
            "tags": []
          }
        }
      ]
    },
    {
      "cell_type": "code",
      "metadata": {
        "id": "dfTP168i1PRF",
        "colab_type": "code",
        "colab": {
          "base_uri": "https://localhost:8080/",
          "height": 468
        },
        "outputId": "2a12a244-8b8b-44a4-8d3c-09c94b0e9cc7"
      },
      "source": [
        "display(example1)"
      ],
      "execution_count": 509,
      "outputs": [
        {
          "output_type": "display_data",
          "data": {
            "text/html": [
              "<img src=\"https://fivethirtyeight.com/wp-content/uploads/2015/08/hickey-datalab-dailyshow.png?w=575\"/>"
            ],
            "text/plain": [
              "<IPython.core.display.Image object>"
            ]
          },
          "metadata": {
            "tags": []
          }
        }
      ]
    },
    {
      "cell_type": "code",
      "metadata": {
        "id": "Pc0I8jNF3Qir",
        "colab_type": "code",
        "colab": {}
      },
      "source": [
        ""
      ],
      "execution_count": 0,
      "outputs": []
    },
    {
      "cell_type": "code",
      "metadata": {
        "id": "FX1gyixl3QlR",
        "colab_type": "code",
        "colab": {}
      },
      "source": [
        ""
      ],
      "execution_count": 0,
      "outputs": []
    },
    {
      "cell_type": "code",
      "metadata": {
        "id": "RWP7_Pue4-IU",
        "colab_type": "code",
        "colab": {}
      },
      "source": [
        ""
      ],
      "execution_count": 0,
      "outputs": []
    },
    {
      "cell_type": "code",
      "metadata": {
        "id": "BUjjb_GL6VY3",
        "colab_type": "code",
        "colab": {}
      },
      "source": [
        ""
      ],
      "execution_count": 0,
      "outputs": []
    },
    {
      "cell_type": "markdown",
      "metadata": {
        "id": "0wSrBzmJyWaV",
        "colab_type": "text"
      },
      "source": [
        "# STRETCH OPTIONS\n",
        "\n",
        "### 1) Reproduce one of the following using the matplotlib or seaborn libraries:\n",
        "\n",
        "- [thanksgiving-2015](https://fivethirtyeight.com/features/heres-what-your-part-of-america-eats-on-thanksgiving/) \n",
        "- [candy-power-ranking](https://fivethirtyeight.com/features/the-ultimate-halloween-candy-power-ranking/) \n",
        "- or another example of your choice!\n",
        "\n",
        "### 2) Make more charts!\n",
        "\n",
        "Choose a chart you want to make, from [Visual Vocabulary - Vega Edition](http://ft.com/vocabulary).\n",
        "\n",
        "Find the chart in an example gallery of a Python data visualization library:\n",
        "- [Seaborn](http://seaborn.pydata.org/examples/index.html)\n",
        "- [Altair](https://altair-viz.github.io/gallery/index.html)\n",
        "- [Matplotlib](https://matplotlib.org/gallery.html)\n",
        "- [Pandas](https://pandas.pydata.org/pandas-docs/stable/visualization.html)\n",
        "\n",
        "Reproduce the chart. [Optionally, try the \"Ben Franklin Method.\"](https://docs.google.com/document/d/1ubOw9B3Hfip27hF2ZFnW3a3z9xAgrUDRReOEo-FHCVs/edit) If you want, experiment and make changes.\n",
        "\n",
        "Take notes. Consider sharing your work with your cohort!"
      ]
    },
    {
      "cell_type": "code",
      "metadata": {
        "id": "dRJkKftiy5BJ",
        "colab_type": "code",
        "colab": {}
      },
      "source": [
        "# More Work Here"
      ],
      "execution_count": 0,
      "outputs": []
    }
  ]
}