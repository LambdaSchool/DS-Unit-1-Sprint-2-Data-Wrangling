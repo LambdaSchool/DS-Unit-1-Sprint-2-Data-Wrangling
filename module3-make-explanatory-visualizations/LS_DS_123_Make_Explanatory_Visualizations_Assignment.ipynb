{
  "nbformat": 4,
  "nbformat_minor": 0,
  "metadata": {
    "colab": {
      "name": "LS_DS_123_Make_Explanatory_Visualizations_Assignment.ipynb",
      "version": "0.3.2",
      "provenance": [],
      "collapsed_sections": [],
      "include_colab_link": true
    },
    "language_info": {
      "codemirror_mode": {
        "name": "ipython",
        "version": 3
      },
      "file_extension": ".py",
      "mimetype": "text/x-python",
      "name": "python",
      "nbconvert_exporter": "python",
      "pygments_lexer": "ipython3",
      "version": "3.7.1"
    },
    "kernelspec": {
      "display_name": "Python 3",
      "language": "python",
      "name": "python3"
    }
  },
  "cells": [
    {
      "cell_type": "markdown",
      "metadata": {
        "id": "view-in-github",
        "colab_type": "text"
      },
      "source": [
        "<a href=\"https://colab.research.google.com/github/qweliant/DS-Unit-1-Sprint-2-Data-Wrangling-and-Storytelling/blob/master/module3-make-explanatory-visualizations/LS_DS_123_Make_Explanatory_Visualizations_Assignment.ipynb\" target=\"_parent\"><img src=\"https://colab.research.google.com/assets/colab-badge.svg\" alt=\"Open In Colab\"/></a>"
      ]
    },
    {
      "cell_type": "markdown",
      "metadata": {
        "colab_type": "text",
        "id": "NMEswXWh9mqw"
      },
      "source": [
        "# ASSIGNMENT\n",
        "\n",
        "### 1) Replicate the lesson code. I recommend that you [do not copy-paste](https://docs.google.com/document/d/1ubOw9B3Hfip27hF2ZFnW3a3z9xAgrUDRReOEo-FHCVs/edit).\n",
        "\n",
        "Get caught up to where we got our example in class and then try and take things further. How close to \"pixel perfect\" can you make the lecture graph?\n",
        "\n",
        "Once you have something that you're proud of, share your graph in the cohort channel and move on to the second exercise.\n",
        "\n",
        "### 2) Reproduce another example from [FiveThityEight's shared data repository](https://data.fivethirtyeight.com/).\n",
        "\n",
        "**WARNING**: There are a lot of very custom graphs and tables at the above link. I **highly** recommend not trying to reproduce any that look like a table of values or something really different from the graph types that we are already familiar with. Search through the posts until you find a graph type that you are more or less familiar with: histogram, bar chart, stacked bar chart, line chart, [seaborn relplot](https://seaborn.pydata.org/generated/seaborn.relplot.html), etc. Recreating some of the graphics that 538 uses would be a lot easier in Adobe photoshop/illustrator than with matplotlib. \n",
        "\n",
        "- If you put in some time to find a graph that looks \"easy\" to replicate you'll probably find that it's not as easy as you thought. \n",
        "\n",
        "- If you start with a graph that looks hard to replicate you'll probably run up against a brick wall and be disappointed with your afternoon.\n",
        "\n",
        "\n",
        "\n",
        "\n",
        "\n",
        "\n",
        "\n",
        "\n",
        "\n",
        "\n"
      ]
    },
    {
      "cell_type": "code",
      "metadata": {
        "id": "7SY1ZHawyZvz",
        "colab_type": "code",
        "outputId": "aff018b1-e69c-4ba4-8f00-5bb6d900b42d",
        "colab": {
          "base_uri": "https://localhost:8080/",
          "height": 317
        }
      },
      "source": [
        "import pandas as pd\n",
        "import matplotlib.pyplot as plt\n",
        "import numpy as np\n",
        "\n",
        "fake = pd.Series([38, 3, 2, 1, 2, 4, 6, 5, 5, 33], index=range(1,11))\n",
        "\n",
        "# Your Work Here\n",
        "fig = plt.figure()\n",
        "# fig.suptitle(\"issa title\")\n",
        "\n",
        "ax = fake.plot.bar(color='C1', width=0.9)\n",
        "\n",
        "ax.text(x=0, y=44, s='The axis powers are losers', fontweight='bold', fontsize=12);\n",
        "ax.text(x=0, y=41.5, s='A visual thread', fontsize=11);\n",
        "\n",
        "ax.set_ylabel(\"Dead Nazis\", fontweight='bold', labelpad=10, fontsize=11)\n",
        "ax.set_xlabel(\"Cold\", fontweight='bold', labelpad=10, fontsize=11);\n",
        "\n",
        "ax.set_xticklabels(range(0, 11));\n",
        "plt.xticks(rotation=0)\n",
        "ax.set_yticklabels(range(0, 10));\n",
        "\n",
        "ax.xaxis.label.set_color('grey')\n",
        "ax.yaxis.label.set_color('grey')\n",
        "ax.tick_params(colors='grey')\n",
        "ax.tick_params(labelsize=8, grid_alpha=0.8);"
      ],
      "execution_count": 1,
      "outputs": [
        {
          "output_type": "display_data",
          "data": {
            "image/png": "[encoded data removed]",
            "text/plain": [
              "<Figure size 432x288 with 1 Axes>"
            ]
          },
          "metadata": {
            "tags": []
          }
        }
      ]
    },
    {
      "cell_type": "code",
      "metadata": {
        "id": "536_DUmIpUM9",
        "colab_type": "code",
        "outputId": "ecdef5a5-3b00-4f7f-b611-6f4dc82c4309",
        "colab": {
          "base_uri": "https://localhost:8080/",
          "height": 339
        }
      },
      "source": [
        "from IPython.display import display, Image\n",
        "\n",
        "url = 'https://fivethirtyeight.com/wp-content/uploads/2015/06/bialik-tennis-time-chart1.png'\n",
        "example = Image(url=url, width=400)\n",
        "\n",
        "display(example)"
      ],
      "execution_count": 2,
      "outputs": [
        {
          "output_type": "display_data",
          "data": {
            "text/html": [
              "<img src=\"https://fivethirtyeight.com/wp-content/uploads/2015/06/bialik-tennis-time-chart1.png\" width=\"400\"/>"
            ],
            "text/plain": [
              "<IPython.core.display.Image object>"
            ]
          },
          "metadata": {
            "tags": []
          }
        }
      ]
    },
    {
      "cell_type": "code",
      "metadata": {
        "id": "6bMeoHWGnX9X",
        "colab_type": "code",
        "outputId": "3397d03c-f406-44d0-f10d-90aa4b7785cd",
        "colab": {
          "base_uri": "https://localhost:8080/",
          "height": 1000
        }
      },
      "source": [
        "import pandas as pd\n",
        "import matplotlib.pyplot as plt\n",
        "import numpy as np\n",
        "import seaborn as sns\n",
        "\n",
        "fake = pd.Series([0, -3, 2.5, 0, -4.3, -2, -2.2, -2], index=range(1,9))\n",
        "\n",
        "# Your Work Here\n",
        "fig = plt.figure()\n",
        "# fig.suptitle(\"issa title\")\n",
        "\n",
        "ax = fake.plot.line(color='C3')\n",
        "ax.text(x=0, y=44, s= \"Change in the average time taken to play a point in men's tennis, \\ncontrolling for players, surface and ther factors   \" , fontsize=12);\n",
        "\n",
        "ax.set_ylabel(\"Dead Nazis\", fontweight='bold', labelpad=10, fontsize=11)\n",
        "ax.set_xlabel(\"Cold\", fontweight='bold', labelpad=10, fontsize=11);\n",
        "\n",
        "ax.set_xticklabels(range(0, 11));\n",
        "plt.xticks(rotation=0)\n",
        "ax.set_yticklabels(range(0, 10));\n",
        "\n",
        "ax.xaxis.label.set_color('grey')\n",
        "ax.yaxis.label.set_color('grey')\n",
        "ax.tick_params(colors='grey')\n",
        "\n",
        "# Turn on the minor TICKS, which are required for the minor GRID\n",
        "ax.minorticks_on()\n",
        "\n",
        "# Customize the major grid\n",
        "ax.grid(which='major', linestyle='-', linewidth='0.5', color='red')\n",
        "# Customize the minor grid\n",
        "ax.grid(which='minor', linestyle=':', linewidth='0.5', color='black')\n",
        "\n",
        "# # Turn off the display of all ticks.\n",
        "# ax.tick_params(which='both', # Options for both major and minor ticks\n",
        "#                 top='off', # turn off top ticks\n",
        "#                 left='off', # turn off left ticks\n",
        "#                 right='off',  # turn off right ticks\n",
        "#                 bottom='off') # turn off bottom ticks"
      ],
      "execution_count": 3,
      "outputs": [
        {
          "output_type": "display_data",
          "data": {
            "image/png": "[encoded data removed]",
            "text/plain": [
              "<Figure size 432x288 with 1 Axes>"
            ]
          },
          "metadata": {
            "tags": []
          }
        }
      ]
    },
    {
      "cell_type": "markdown",
      "metadata": {
        "id": "0wSrBzmJyWaV",
        "colab_type": "text"
      },
      "source": [
        "# STRETCH OPTIONS\n",
        "\n",
        "### 1) Reproduce one of the following using the matplotlib or seaborn libraries:\n",
        "\n",
        "- [thanksgiving-2015](https://fivethirtyeight.com/features/heres-what-your-part-of-america-eats-on-thanksgiving/) \n",
        "- [candy-power-ranking](https://fivethirtyeight.com/features/the-ultimate-halloween-candy-power-ranking/) \n",
        "- or another example of your choice!\n",
        "\n",
        "### 2) Make more charts!\n",
        "\n",
        "Choose a chart you want to make, from [Visual Vocabulary - Vega Edition](http://ft.com/vocabulary).\n",
        "\n",
        "Find the chart in an example gallery of a Python data visualization library:\n",
        "- [Seaborn](http://seaborn.pydata.org/examples/index.html)\n",
        "- [Altair](https://altair-viz.github.io/gallery/index.html)\n",
        "- [Matplotlib](https://matplotlib.org/gallery.html)\n",
        "- [Pandas](https://pandas.pydata.org/pandas-docs/stable/visualization.html)\n",
        "\n",
        "Reproduce the chart. [Optionally, try the \"Ben Franklin Method.\"](https://docs.google.com/document/d/1ubOw9B3Hfip27hF2ZFnW3a3z9xAgrUDRReOEo-FHCVs/edit) If you want, experiment and make changes.\n",
        "\n",
        "Take notes. Consider sharing your work with your cohort!"
      ]
    },
    {
      "cell_type": "code",
      "metadata": {
        "id": "dRJkKftiy5BJ",
        "colab_type": "code",
        "outputId": "cc612280-36ff-4f59-8ea6-e5db49424784",
        "colab": {
          "base_uri": "https://localhost:8080/",
          "height": 206
        }
      },
      "source": [
        "# More Work Here\n",
        "url ='https://raw.githubusercontent.com/qweliant/DS-Unit-1-Sprint-2-Data-Wrangling-and-Storytelling/master/suicide.csv'\n",
        "df = pd.read_csv(url)\n",
        "dfcopy = df\n",
        "\n",
        "df.head()\n"
      ],
      "execution_count": 4,
      "outputs": [
        {
          "output_type": "execute_result",
          "data": {
            "text/html": [
              "<div>\n",
              "<style scoped>\n",
              "    .dataframe tbody tr th:only-of-type {\n",
              "        vertical-align: middle;\n",
              "    }\n",
              "\n",
              "    .dataframe tbody tr th {\n",
              "        vertical-align: top;\n",
              "    }\n",
              "\n",
              "    .dataframe thead th {\n",
              "        text-align: right;\n",
              "    }\n",
              "</style>\n",
              "<table border=\"1\" class=\"dataframe\">\n",
              "  <thead>\n",
              "    <tr style=\"text-align: right;\">\n",
              "      <th></th>\n",
              "      <th>country</th>\n",
              "      <th>year</th>\n",
              "      <th>sex</th>\n",
              "      <th>age</th>\n",
              "      <th>suicides_no</th>\n",
              "      <th>population</th>\n",
              "      <th>suicides/100k pop</th>\n",
              "      <th>country-year</th>\n",
              "      <th>HDI for year</th>\n",
              "      <th>gdp_for_year ($)</th>\n",
              "      <th>gdp_per_capita ($)</th>\n",
              "      <th>generation</th>\n",
              "    </tr>\n",
              "  </thead>\n",
              "  <tbody>\n",
              "    <tr>\n",
              "      <th>0</th>\n",
              "      <td>Albania</td>\n",
              "      <td>1987</td>\n",
              "      <td>male</td>\n",
              "      <td>15-24 years</td>\n",
              "      <td>21</td>\n",
              "      <td>312900</td>\n",
              "      <td>6.71</td>\n",
              "      <td>Albania1987</td>\n",
              "      <td>NaN</td>\n",
              "      <td>2156624900</td>\n",
              "      <td>796</td>\n",
              "      <td>Generation X</td>\n",
              "    </tr>\n",
              "    <tr>\n",
              "      <th>1</th>\n",
              "      <td>Albania</td>\n",
              "      <td>1987</td>\n",
              "      <td>male</td>\n",
              "      <td>35-54 years</td>\n",
              "      <td>16</td>\n",
              "      <td>308000</td>\n",
              "      <td>5.19</td>\n",
              "      <td>Albania1987</td>\n",
              "      <td>NaN</td>\n",
              "      <td>2156624900</td>\n",
              "      <td>796</td>\n",
              "      <td>Silent</td>\n",
              "    </tr>\n",
              "    <tr>\n",
              "      <th>2</th>\n",
              "      <td>Albania</td>\n",
              "      <td>1987</td>\n",
              "      <td>female</td>\n",
              "      <td>15-24 years</td>\n",
              "      <td>14</td>\n",
              "      <td>289700</td>\n",
              "      <td>4.83</td>\n",
              "      <td>Albania1987</td>\n",
              "      <td>NaN</td>\n",
              "      <td>2156624900</td>\n",
              "      <td>796</td>\n",
              "      <td>Generation X</td>\n",
              "    </tr>\n",
              "    <tr>\n",
              "      <th>3</th>\n",
              "      <td>Albania</td>\n",
              "      <td>1987</td>\n",
              "      <td>male</td>\n",
              "      <td>75+ years</td>\n",
              "      <td>1</td>\n",
              "      <td>21800</td>\n",
              "      <td>4.59</td>\n",
              "      <td>Albania1987</td>\n",
              "      <td>NaN</td>\n",
              "      <td>2156624900</td>\n",
              "      <td>796</td>\n",
              "      <td>G.I. Generation</td>\n",
              "    </tr>\n",
              "    <tr>\n",
              "      <th>4</th>\n",
              "      <td>Albania</td>\n",
              "      <td>1987</td>\n",
              "      <td>male</td>\n",
              "      <td>25-34 years</td>\n",
              "      <td>9</td>\n",
              "      <td>274300</td>\n",
              "      <td>3.28</td>\n",
              "      <td>Albania1987</td>\n",
              "      <td>NaN</td>\n",
              "      <td>2156624900</td>\n",
              "      <td>796</td>\n",
              "      <td>Boomers</td>\n",
              "    </tr>\n",
              "  </tbody>\n",
              "</table>\n",
              "</div>"
            ],
            "text/plain": [
              "   country  year     sex  ... gdp_for_year ($)  gdp_per_capita ($)       generation\n",
              "0  Albania  1987    male  ...       2156624900                 796     Generation X\n",
              "1  Albania  1987    male  ...       2156624900                 796           Silent\n",
              "2  Albania  1987  female  ...       2156624900                 796     Generation X\n",
              "3  Albania  1987    male  ...       2156624900                 796  G.I. Generation\n",
              "4  Albania  1987    male  ...       2156624900                 796          Boomers\n",
              "\n",
              "[5 rows x 12 columns]"
            ]
          },
          "metadata": {
            "tags": []
          },
          "execution_count": 4
        }
      ]
    },
    {
      "cell_type": "code",
      "metadata": {
        "id": "o1HSp3PbivU0",
        "colab_type": "code",
        "outputId": "843963fe-c6a7-4021-a22b-228fc93e98b4",
        "colab": {
          "base_uri": "https://localhost:8080/",
          "height": 276
        }
      },
      "source": [
        "df2 = df.sample(10000)\n",
        "df2.dropna(inplace=True)\n",
        "df2.head()"
      ],
      "execution_count": 5,
      "outputs": [
        {
          "output_type": "execute_result",
          "data": {
            "text/html": [
              "<div>\n",
              "<style scoped>\n",
              "    .dataframe tbody tr th:only-of-type {\n",
              "        vertical-align: middle;\n",
              "    }\n",
              "\n",
              "    .dataframe tbody tr th {\n",
              "        vertical-align: top;\n",
              "    }\n",
              "\n",
              "    .dataframe thead th {\n",
              "        text-align: right;\n",
              "    }\n",
              "</style>\n",
              "<table border=\"1\" class=\"dataframe\">\n",
              "  <thead>\n",
              "    <tr style=\"text-align: right;\">\n",
              "      <th></th>\n",
              "      <th>country</th>\n",
              "      <th>year</th>\n",
              "      <th>sex</th>\n",
              "      <th>age</th>\n",
              "      <th>suicides_no</th>\n",
              "      <th>population</th>\n",
              "      <th>suicides/100k pop</th>\n",
              "      <th>country-year</th>\n",
              "      <th>HDI for year</th>\n",
              "      <th>gdp_for_year ($)</th>\n",
              "      <th>gdp_per_capita ($)</th>\n",
              "      <th>generation</th>\n",
              "    </tr>\n",
              "  </thead>\n",
              "  <tbody>\n",
              "    <tr>\n",
              "      <th>11336</th>\n",
              "      <td>Guyana</td>\n",
              "      <td>2011</td>\n",
              "      <td>female</td>\n",
              "      <td>25-34 years</td>\n",
              "      <td>7</td>\n",
              "      <td>55527</td>\n",
              "      <td>12.61</td>\n",
              "      <td>Guyana2011</td>\n",
              "      <td>0.630</td>\n",
              "      <td>2576024116</td>\n",
              "      <td>3815</td>\n",
              "      <td>Millenials</td>\n",
              "    </tr>\n",
              "    <tr>\n",
              "      <th>5767</th>\n",
              "      <td>Colombia</td>\n",
              "      <td>1995</td>\n",
              "      <td>female</td>\n",
              "      <td>5-14 years</td>\n",
              "      <td>10</td>\n",
              "      <td>4171126</td>\n",
              "      <td>0.24</td>\n",
              "      <td>Colombia1995</td>\n",
              "      <td>0.629</td>\n",
              "      <td>92507279383</td>\n",
              "      <td>2796</td>\n",
              "      <td>Millenials</td>\n",
              "    </tr>\n",
              "    <tr>\n",
              "      <th>7160</th>\n",
              "      <td>Czech Republic</td>\n",
              "      <td>1995</td>\n",
              "      <td>male</td>\n",
              "      <td>25-34 years</td>\n",
              "      <td>180</td>\n",
              "      <td>695700</td>\n",
              "      <td>25.87</td>\n",
              "      <td>Czech Republic1995</td>\n",
              "      <td>0.785</td>\n",
              "      <td>59775697061</td>\n",
              "      <td>6134</td>\n",
              "      <td>Generation X</td>\n",
              "    </tr>\n",
              "    <tr>\n",
              "      <th>10994</th>\n",
              "      <td>Guatemala</td>\n",
              "      <td>2010</td>\n",
              "      <td>male</td>\n",
              "      <td>15-24 years</td>\n",
              "      <td>91</td>\n",
              "      <td>1542758</td>\n",
              "      <td>5.90</td>\n",
              "      <td>Guatemala2010</td>\n",
              "      <td>0.611</td>\n",
              "      <td>41338595381</td>\n",
              "      <td>3260</td>\n",
              "      <td>Millenials</td>\n",
              "    </tr>\n",
              "    <tr>\n",
              "      <th>14429</th>\n",
              "      <td>Kuwait</td>\n",
              "      <td>2010</td>\n",
              "      <td>female</td>\n",
              "      <td>75+ years</td>\n",
              "      <td>0</td>\n",
              "      <td>8964</td>\n",
              "      <td>0.00</td>\n",
              "      <td>Kuwait2010</td>\n",
              "      <td>0.809</td>\n",
              "      <td>115419050942</td>\n",
              "      <td>35171</td>\n",
              "      <td>Silent</td>\n",
              "    </tr>\n",
              "  </tbody>\n",
              "</table>\n",
              "</div>"
            ],
            "text/plain": [
              "              country  year  ... gdp_per_capita ($)    generation\n",
              "11336          Guyana  2011  ...               3815    Millenials\n",
              "5767         Colombia  1995  ...               2796    Millenials\n",
              "7160   Czech Republic  1995  ...               6134  Generation X\n",
              "10994       Guatemala  2010  ...               3260    Millenials\n",
              "14429          Kuwait  2010  ...              35171        Silent\n",
              "\n",
              "[5 rows x 12 columns]"
            ]
          },
          "metadata": {
            "tags": []
          },
          "execution_count": 5
        }
      ]
    },
    {
      "cell_type": "code",
      "metadata": {
        "id": "CloBq806a0Qi",
        "colab_type": "code",
        "colab": {}
      },
      "source": [
        "country_list = df.country.unique()"
      ],
      "execution_count": 0,
      "outputs": []
    },
    {
      "cell_type": "code",
      "metadata": {
        "id": "KAvs-3rnOJqs",
        "colab_type": "code",
        "outputId": "eee9dac3-f48a-4dc8-df99-44045a9298fb",
        "colab": {
          "base_uri": "https://localhost:8080/",
          "height": 301
        }
      },
      "source": [
        "#sns.lmplot(df2['gdp_per_capita ($)'], df2['suicides/100k pop'], data=df, fit_reg=False)\n",
        "df2.plot.scatter(x='gdp_per_capita ($)', y='suicides/100k pop', c='DarkBlue')"
      ],
      "execution_count": 7,
      "outputs": [
        {
          "output_type": "execute_result",
          "data": {
            "text/plain": [
              "<matplotlib.axes._subplots.AxesSubplot at 0x7fa7fae0a6a0>"
            ]
          },
          "metadata": {
            "tags": []
          },
          "execution_count": 7
        },
        {
          "output_type": "display_data",
          "data": {
            "image/png": "[encoded data removed]",
            "text/plain": [
              "<Figure size 432x288 with 1 Axes>"
            ]
          },
          "metadata": {
            "tags": []
          }
        }
      ]
    },
    {
      "cell_type": "code",
      "metadata": {
        "id": "XFrB8wkhTekz",
        "colab_type": "code",
        "outputId": "fdc9bd07-7bc2-4af9-e44a-122fc2a383e9",
        "colab": {
          "base_uri": "https://localhost:8080/",
          "height": 237
        }
      },
      "source": [
        "import seaborn as sns\n",
        "import matplotlib.pyplot as plt\n",
        "sns.set(style=\"whitegrid\")\n",
        "\n",
        "# Load the example iris dataset\n",
        "# diamonds = sns.load_dataset(\"diamonds\")\n",
        "\n",
        "# Draw a scatter plot while assigning point colors and sizes to different\n",
        "# variables in the dataset\n",
        "\n",
        "sns.despine( left=True, bottom=True)\n",
        "clarity_ranking = [\"0\", \"SI2\", \"SI1\", \"VS2\", \"VS1\", \"VVS2\", \"VVS1\", \"IF\"]\n",
        "sns.scatterplot(x=\"gdp_per_capita ($)\", y=\"suicides/100k pop\", data=df2)"
      ],
      "execution_count": 8,
      "outputs": [
        {
          "output_type": "error",
          "ename": "NameError",
          "evalue": "ignored",
          "traceback": [
            "\u001b[0;31m---------------------------------------------------------------------------\u001b[0m",
            "\u001b[0;31mNameError\u001b[0m                                 Traceback (most recent call last)",
            "\u001b[0;32m<ipython-input-8-ef9a837ec331>\u001b[0m in \u001b[0;36m<module>\u001b[0;34m()\u001b[0m\n\u001b[1;32m      9\u001b[0m \u001b[0;31m# variables in the dataset\u001b[0m\u001b[0;34m\u001b[0m\u001b[0;34m\u001b[0m\u001b[0;34m\u001b[0m\u001b[0m\n\u001b[1;32m     10\u001b[0m \u001b[0;34m\u001b[0m\u001b[0m\n\u001b[0;32m---> 11\u001b[0;31m \u001b[0msns\u001b[0m\u001b[0;34m.\u001b[0m\u001b[0mdespine\u001b[0m\u001b[0;34m(\u001b[0m\u001b[0mf\u001b[0m\u001b[0;34m,\u001b[0m \u001b[0mleft\u001b[0m\u001b[0;34m=\u001b[0m\u001b[0;32mTrue\u001b[0m\u001b[0;34m,\u001b[0m \u001b[0mbottom\u001b[0m\u001b[0;34m=\u001b[0m\u001b[0;32mTrue\u001b[0m\u001b[0;34m)\u001b[0m\u001b[0;34m\u001b[0m\u001b[0;34m\u001b[0m\u001b[0m\n\u001b[0m\u001b[1;32m     12\u001b[0m \u001b[0mclarity_ranking\u001b[0m \u001b[0;34m=\u001b[0m \u001b[0;34m[\u001b[0m\u001b[0;34m\"0\"\u001b[0m\u001b[0;34m,\u001b[0m \u001b[0;34m\"SI2\"\u001b[0m\u001b[0;34m,\u001b[0m \u001b[0;34m\"SI1\"\u001b[0m\u001b[0;34m,\u001b[0m \u001b[0;34m\"VS2\"\u001b[0m\u001b[0;34m,\u001b[0m \u001b[0;34m\"VS1\"\u001b[0m\u001b[0;34m,\u001b[0m \u001b[0;34m\"VVS2\"\u001b[0m\u001b[0;34m,\u001b[0m \u001b[0;34m\"VVS1\"\u001b[0m\u001b[0;34m,\u001b[0m \u001b[0;34m\"IF\"\u001b[0m\u001b[0;34m]\u001b[0m\u001b[0;34m\u001b[0m\u001b[0;34m\u001b[0m\u001b[0m\n\u001b[1;32m     13\u001b[0m \u001b[0msns\u001b[0m\u001b[0;34m.\u001b[0m\u001b[0mscatterplot\u001b[0m\u001b[0;34m(\u001b[0m\u001b[0mx\u001b[0m\u001b[0;34m=\u001b[0m\u001b[0;34m\"gdp_per_capita ($)\"\u001b[0m\u001b[0;34m,\u001b[0m \u001b[0my\u001b[0m\u001b[0;34m=\u001b[0m\u001b[0;34m\"suicides/100k pop\"\u001b[0m\u001b[0;34m,\u001b[0m \u001b[0mdata\u001b[0m\u001b[0;34m=\u001b[0m\u001b[0mdf2\u001b[0m\u001b[0;34m)\u001b[0m\u001b[0;34m\u001b[0m\u001b[0;34m\u001b[0m\u001b[0m\n",
            "\u001b[0;31mNameError\u001b[0m: name 'f' is not defined"
          ]
        }
      ]
    },
    {
      "cell_type": "code",
      "metadata": {
        "id": "ki7V_WNyZLXc",
        "colab_type": "code",
        "colab": {}
      },
      "source": [
        "import seaborn as sns\n",
        "import matplotlib.pyplot as plt\n",
        "import matplotlib.pyplot as plt\n",
        "from google.colab import files\n",
        "\n",
        "sns.set(style=\"whitegrid\")\n",
        "\n",
        "# Load the example iris dataset\n",
        "# diamonds = sns.load_dataset(\"diamonds\")\n",
        "\n",
        "# Draw a scatter plot while assigning point colors and sizes to different\n",
        "# variables in the dataset\n",
        "\n",
        "#\n",
        "\n",
        "plot = sns.scatterplot(x='gdp_per_capita ($)', y=\"suicides/100k pop\",\n",
        "                hue=\"suicides/100k pop\", size=\"gdp_for_year ($)\",\n",
        "                palette=\"ch:2.5,-.2,dark=.3\",\n",
        "                hue_order=country_list,\n",
        "                sizes=(15, 50), linewidth=1,\n",
        "                data=df2, legend='brief')\n",
        "figure = plot.get_figure()\n",
        "sns.despine( left=True)\n",
        "lgd = plt.legend(loc=0, bbox_to_anchor=(1.05, 1), borderaxespad=0.)\n",
        "\n",
        "figure.savefig('svm_conf.png', bbox_extra_artists=(lgd), dpi=1000)\n",
        "files.download(\"svm_conf.png\") \n"
      ],
      "execution_count": 0,
      "outputs": []
    },
    {
      "cell_type": "code",
      "metadata": {
        "id": "G_BgicV1hBTp",
        "colab_type": "code",
        "colab": {}
      },
      "source": [
        ""
      ],
      "execution_count": 0,
      "outputs": []
    }
  ]
}