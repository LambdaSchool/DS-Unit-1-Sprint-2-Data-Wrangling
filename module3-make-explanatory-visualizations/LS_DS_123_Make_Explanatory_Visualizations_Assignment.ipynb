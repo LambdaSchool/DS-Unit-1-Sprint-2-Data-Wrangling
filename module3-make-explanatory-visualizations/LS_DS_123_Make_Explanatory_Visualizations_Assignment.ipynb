{
  "nbformat": 4,
  "nbformat_minor": 0,
  "metadata": {
    "colab": {
      "name": "LS_DS_123_Make_Explanatory_Visualizations_Assignment.ipynb",
      "provenance": [],
      "collapsed_sections": [],
      "machine_shape": "hm",
      "include_colab_link": true
    },
    "language_info": {
      "codemirror_mode": {
        "name": "ipython",
        "version": 3
      },
      "file_extension": ".py",
      "mimetype": "text/x-python",
      "name": "python",
      "nbconvert_exporter": "python",
      "pygments_lexer": "ipython3",
      "version": "3.7.1"
    },
    "kernelspec": {
      "display_name": "Python 3",
      "language": "python",
      "name": "python3"
    }
  },
  "cells": [
    {
      "cell_type": "markdown",
      "metadata": {
        "id": "view-in-github",
        "colab_type": "text"
      },
      "source": [
        "<a href=\"https://colab.research.google.com/github/FuriouStyles/DS-Unit-1-Sprint-2-Data-Wrangling-and-Storytelling/blob/master/module3-make-explanatory-visualizations/LS_DS_123_Make_Explanatory_Visualizations_Assignment.ipynb\" target=\"_parent\"><img src=\"https://colab.research.google.com/assets/colab-badge.svg\" alt=\"Open In Colab\"/></a>"
      ]
    },
    {
      "cell_type": "markdown",
      "metadata": {
        "colab_type": "text",
        "id": "NMEswXWh9mqw"
      },
      "source": [
        "# ASSIGNMENT\n",
        "\n",
        "### 1) Replicate the lesson code. I recommend that you [do not copy-paste](https://docs.google.com/document/d/1ubOw9B3Hfip27hF2ZFnW3a3z9xAgrUDRReOEo-FHCVs/edit).\n",
        "\n",
        "Get caught up to where we got our example in class and then try and take things further. How close to \"pixel perfect\" can you make the lecture graph?\n",
        "\n",
        "Once you have something that you're proud of, share your graph in the cohort channel and move on to the second exercise.\n",
        "\n",
        "### 2) Reproduce another example from [FiveThityEight's shared data repository](https://data.fivethirtyeight.com/).\n",
        "\n",
        "**WARNING**: There are a lot of very custom graphs and tables at the above link. I **highly** recommend not trying to reproduce any that look like a table of values or something really different from the graph types that we are already familiar with. Search through the posts until you find a graph type that you are more or less familiar with: histogram, bar chart, stacked bar chart, line chart, [seaborn relplot](https://seaborn.pydata.org/generated/seaborn.relplot.html), etc. Recreating some of the graphics that 538 uses would be a lot easier in Adobe photoshop/illustrator than with matplotlib. \n",
        "\n",
        "- If you put in some time to find a graph that looks \"easy\" to replicate you'll probably find that it's not as easy as you thought. \n",
        "\n",
        "- If you start with a graph that looks hard to replicate you'll probably run up against a brick wall and be disappointed with your afternoon.\n",
        "\n",
        "\n",
        "\n",
        "\n",
        "\n",
        "\n",
        "\n",
        "\n",
        "\n",
        "\n"
      ]
    },
    {
      "cell_type": "markdown",
      "metadata": {
        "id": "1yMBuZg7HuOP",
        "colab_type": "text"
      },
      "source": [
        "##1-Replicate Lesson Code"
      ]
    },
    {
      "cell_type": "code",
      "metadata": {
        "id": "7SY1ZHawyZvz",
        "colab_type": "code",
        "outputId": "2b7c2efd-ea62-4aa9-fe48-ac7128487958",
        "colab": {
          "base_uri": "https://localhost:8080/",
          "height": 285
        }
      },
      "source": [
        "import matplotlib.pyplot as plt\n",
        "import pandas as pd\n",
        "import numpy as np\n",
        "\n",
        "plt.style.use('fivethirtyeight')\n",
        "\n",
        "fake_data = pd.Series([38, 3, 2, 1, 2, 4, 6, 5, 5, 33], index=range(1,11))\n",
        "\n",
        "fake_data.plot.bar(color='#ed713a', width=0.9);"
      ],
      "execution_count": 2,
      "outputs": [
        {
          "output_type": "display_data",
          "data": {
            "image/png": "[encoded data removed]",
            "text/plain": [
              "<Figure size 432x288 with 1 Axes>"
            ]
          },
          "metadata": {
            "tags": []
          }
        }
      ]
    },
    {
      "cell_type": "code",
      "metadata": {
        "id": "S8fba34vB6eq",
        "colab_type": "code",
        "outputId": "cca0a490-74de-44bf-c248-a004a89bba3f",
        "colab": {
          "base_uri": "https://localhost:8080/",
          "height": 289
        }
      },
      "source": [
        "fd2 = pd.Series(\n",
        "    [1, 1, 1, 1, 1, 1, 1, 1, 1, 1, 1, 1, 1, 1, 1, 1, 1, 1, 1, 1, 1, 1, 1, 1,\n",
        "     2, 2, 2, \n",
        "     3, 3, 3,\n",
        "     4, 4,\n",
        "     5, 5, 5,\n",
        "     6, 6, 6, 6,\n",
        "     7, 7, 7, 7, 7,\n",
        "     8, 8, 8, 8,\n",
        "     9, 9, 9, 9, \n",
        "     10, 10, 10, 10, 10, 10, 10, 10, 10, 10, 10, 10, 10, 10, 10, 10, 10, 10])\n",
        "\n",
        "fd2.value_counts().sort_index().plot.bar(color='#ed713a', width=0.9);\n"
      ],
      "execution_count": 3,
      "outputs": [
        {
          "output_type": "display_data",
          "data": {
            "image/png": "[encoded data removed]",
            "text/plain": [
              "<Figure size 432x288 with 1 Axes>"
            ]
          },
          "metadata": {
            "tags": []
          }
        }
      ]
    },
    {
      "cell_type": "code",
      "metadata": {
        "id": "0Zk07stXCbcO",
        "colab_type": "code",
        "outputId": "d5b45b86-030a-4874-d465-1002f8f1af13",
        "colab": {
          "base_uri": "https://localhost:8080/",
          "height": 343
        }
      },
      "source": [
        "fig = plt.figure(facecolor='white', figsize=(5,4))\n",
        "ax = fake_data.plot.bar(color='#ed713a', width=0.9)\n",
        "ax.set(facecolor='white')\n",
        "ax.patch.set_alpha(0.1)\n",
        "\n",
        "plt.xlabel('Rating', fontweight='bold')\n",
        "plt.ylabel('Percent of total votes', fontweight='bold')\n",
        "plt.title(\"'An Inconvenient Sequal: Truth to Power' is divise\", fontsize=12, loc='left', x=-0.1, y=1.1, fontweight='bold')\n",
        "\n",
        "plt.text(x=-1.7, y=42, s='IMDb ratings fo for the film as of Aug. 29', fontsize=10)\n",
        "\n",
        "plt.xticks(rotation=0, color='#a7a7a7')\n",
        "plt.yticks(range(0, 50, 10), labels=[f'{i}' if i!=40 else f'{i}%' for i in range(0, 50, 10)], color='#a7a7a7');"
      ],
      "execution_count": 4,
      "outputs": [
        {
          "output_type": "display_data",
          "data": {
            "image/png": "[encoded data removed]",
            "text/plain": [
              "<Figure size 360x288 with 1 Axes>"
            ]
          },
          "metadata": {
            "tags": []
          }
        }
      ]
    },
    {
      "cell_type": "markdown",
      "metadata": {
        "id": "4wj15MQ3H1ZS",
        "colab_type": "text"
      },
      "source": [
        "##2-Replicate an Example from 538\n",
        "### The Mayweather-McGregor Fight As Told Through Emojis\n",
        "\n",
        "I'm going to try and recreate the first horizontal bar plot found on this article:\n",
        "https://fivethirtyeight.com/features/the-mayweather-mcgregor-fight-as-told-through-emojis/"
      ]
    },
    {
      "cell_type": "code",
      "metadata": {
        "id": "mze6X2QzPep7",
        "colab_type": "code",
        "outputId": "07fc38b7-d83f-4d73-e021-042b2ea07c17",
        "colab": {
          "base_uri": "https://localhost:8080/",
          "height": 34
        }
      },
      "source": [
        "pip install emoji"
      ],
      "execution_count": 5,
      "outputs": [
        {
          "output_type": "stream",
          "text": [
            "Requirement already satisfied: emoji in /usr/local/lib/python3.6/dist-packages (0.5.4)\n"
          ],
          "name": "stdout"
        }
      ]
    },
    {
      "cell_type": "code",
      "metadata": {
        "id": "mHUFIbllbcSU",
        "colab_type": "code",
        "outputId": "115e275c-ba7c-4b1d-cca1-8494ec318205",
        "colab": {
          "base_uri": "https://localhost:8080/",
          "height": 34
        }
      },
      "source": [
        "pip install regex"
      ],
      "execution_count": 6,
      "outputs": [
        {
          "output_type": "stream",
          "text": [
            "Requirement already satisfied: regex in /usr/local/lib/python3.6/dist-packages (2019.8.19)\n"
          ],
          "name": "stdout"
        }
      ]
    },
    {
      "cell_type": "code",
      "metadata": {
        "id": "CB5RFqnAPnPO",
        "colab_type": "code",
        "colab": {}
      },
      "source": [
        "import emoji\n",
        "import regex"
      ],
      "execution_count": 0,
      "outputs": []
    },
    {
      "cell_type": "code",
      "metadata": {
        "id": "kfzE4aACMsYd",
        "colab_type": "code",
        "outputId": "8399c042-6ed0-443f-f53e-297bef466c44",
        "colab": {
          "base_uri": "https://localhost:8080/",
          "height": 195
        }
      },
      "source": [
        "mm = pd.read_csv('https://raw.githubusercontent.com/fivethirtyeight/data/master/mayweather-mcgregor/tweets.csv')\n",
        "mm.head()"
      ],
      "execution_count": 8,
      "outputs": [
        {
          "output_type": "execute_result",
          "data": {
            "text/html": [
              "<div>\n",
              "<style scoped>\n",
              "    .dataframe tbody tr th:only-of-type {\n",
              "        vertical-align: middle;\n",
              "    }\n",
              "\n",
              "    .dataframe tbody tr th {\n",
              "        vertical-align: top;\n",
              "    }\n",
              "\n",
              "    .dataframe thead th {\n",
              "        text-align: right;\n",
              "    }\n",
              "</style>\n",
              "<table border=\"1\" class=\"dataframe\">\n",
              "  <thead>\n",
              "    <tr style=\"text-align: right;\">\n",
              "      <th></th>\n",
              "      <th>created_at</th>\n",
              "      <th>emojis</th>\n",
              "      <th>id</th>\n",
              "      <th>link</th>\n",
              "      <th>retweeted</th>\n",
              "      <th>screen_name</th>\n",
              "      <th>text</th>\n",
              "    </tr>\n",
              "  </thead>\n",
              "  <tbody>\n",
              "    <tr>\n",
              "      <th>0</th>\n",
              "      <td>2017-08-27 00:05:34</td>\n",
              "      <td>True</td>\n",
              "      <td>901656910939770881</td>\n",
              "      <td>https://twitter.com/statuses/901656910939770881</td>\n",
              "      <td>False</td>\n",
              "      <td>aaLiysr</td>\n",
              "      <td>Ringe çıkmadan ateş etmeye başladı 😃#McGregor ...</td>\n",
              "    </tr>\n",
              "    <tr>\n",
              "      <th>1</th>\n",
              "      <td>2017-08-27 00:05:35</td>\n",
              "      <td>True</td>\n",
              "      <td>901656917281574912</td>\n",
              "      <td>https://twitter.com/statuses/901656917281574912</td>\n",
              "      <td>False</td>\n",
              "      <td>zulmafrancozaf</td>\n",
              "      <td>😲😲😲😲😲 @lalylourbet2 https://t.co/ERUGHhQINE</td>\n",
              "    </tr>\n",
              "    <tr>\n",
              "      <th>2</th>\n",
              "      <td>2017-08-27 00:05:35</td>\n",
              "      <td>True</td>\n",
              "      <td>901656917105369088</td>\n",
              "      <td>https://twitter.com/statuses/901656917105369088</td>\n",
              "      <td>False</td>\n",
              "      <td>Adriana11D</td>\n",
              "      <td>🇮🇪🇮🇪🇮🇪 💪💪#MayweathervMcgregor</td>\n",
              "    </tr>\n",
              "    <tr>\n",
              "      <th>3</th>\n",
              "      <td>2017-08-27 00:05:35</td>\n",
              "      <td>True</td>\n",
              "      <td>901656917747142657</td>\n",
              "      <td>https://twitter.com/statuses/901656917747142657</td>\n",
              "      <td>False</td>\n",
              "      <td>Nathan_Caro_</td>\n",
              "      <td>Cest partit #MayweatherMcGregor 💪🏿</td>\n",
              "    </tr>\n",
              "    <tr>\n",
              "      <th>4</th>\n",
              "      <td>2017-08-27 00:05:35</td>\n",
              "      <td>True</td>\n",
              "      <td>901656916828594177</td>\n",
              "      <td>https://twitter.com/statuses/901656916828594177</td>\n",
              "      <td>False</td>\n",
              "      <td>sahouraxox</td>\n",
              "      <td>Low key feeling bad for ppl who payed to watch...</td>\n",
              "    </tr>\n",
              "  </tbody>\n",
              "</table>\n",
              "</div>"
            ],
            "text/plain": [
              "            created_at  ...                                               text\n",
              "0  2017-08-27 00:05:34  ...  Ringe çıkmadan ateş etmeye başladı 😃#McGregor ...\n",
              "1  2017-08-27 00:05:35  ...        😲😲😲😲😲 @lalylourbet2 https://t.co/ERUGHhQINE\n",
              "2  2017-08-27 00:05:35  ...                      🇮🇪🇮🇪🇮🇪 💪💪#MayweathervMcgregor\n",
              "3  2017-08-27 00:05:35  ...                 Cest partit #MayweatherMcGregor 💪🏿\n",
              "4  2017-08-27 00:05:35  ...  Low key feeling bad for ppl who payed to watch...\n",
              "\n",
              "[5 rows x 7 columns]"
            ]
          },
          "metadata": {
            "tags": []
          },
          "execution_count": 8
        }
      ]
    },
    {
      "cell_type": "code",
      "metadata": {
        "id": "UcQDVIOBO_2s",
        "colab_type": "code",
        "colab": {
          "base_uri": "https://localhost:8080/",
          "height": 195
        },
        "outputId": "fed23bc6-7cae-48dd-8f7f-cf25b4ccd43e"
      },
      "source": [
        "mm.tail()"
      ],
      "execution_count": 9,
      "outputs": [
        {
          "output_type": "execute_result",
          "data": {
            "text/html": [
              "<div>\n",
              "<style scoped>\n",
              "    .dataframe tbody tr th:only-of-type {\n",
              "        vertical-align: middle;\n",
              "    }\n",
              "\n",
              "    .dataframe tbody tr th {\n",
              "        vertical-align: top;\n",
              "    }\n",
              "\n",
              "    .dataframe thead th {\n",
              "        text-align: right;\n",
              "    }\n",
              "</style>\n",
              "<table border=\"1\" class=\"dataframe\">\n",
              "  <thead>\n",
              "    <tr style=\"text-align: right;\">\n",
              "      <th></th>\n",
              "      <th>created_at</th>\n",
              "      <th>emojis</th>\n",
              "      <th>id</th>\n",
              "      <th>link</th>\n",
              "      <th>retweeted</th>\n",
              "      <th>screen_name</th>\n",
              "      <th>text</th>\n",
              "    </tr>\n",
              "  </thead>\n",
              "  <tbody>\n",
              "    <tr>\n",
              "      <th>12113</th>\n",
              "      <td>2017-08-27 01:14:57</td>\n",
              "      <td>True</td>\n",
              "      <td>901674373635080193</td>\n",
              "      <td>https://twitter.com/statuses/901674373635080193</td>\n",
              "      <td>False</td>\n",
              "      <td>tirivashe_md</td>\n",
              "      <td>I should have become a golfer 👀 https://t.co/I...</td>\n",
              "    </tr>\n",
              "    <tr>\n",
              "      <th>12114</th>\n",
              "      <td>2017-08-27 01:14:58</td>\n",
              "      <td>True</td>\n",
              "      <td>901674378458304516</td>\n",
              "      <td>https://twitter.com/statuses/901674378458304516</td>\n",
              "      <td>False</td>\n",
              "      <td>imjellly</td>\n",
              "      <td>😂🔫 https://t.co/VmsbbKmxRc</td>\n",
              "    </tr>\n",
              "    <tr>\n",
              "      <th>12115</th>\n",
              "      <td>2017-08-27 01:14:58</td>\n",
              "      <td>True</td>\n",
              "      <td>901674378093613057</td>\n",
              "      <td>https://twitter.com/statuses/901674378093613057</td>\n",
              "      <td>False</td>\n",
              "      <td>lorybs_</td>\n",
              "      <td>😂😂😂😂😂😂😂 rs yo https://t.co/UgMn2HwX9X</td>\n",
              "    </tr>\n",
              "    <tr>\n",
              "      <th>12116</th>\n",
              "      <td>2017-08-27 01:14:58</td>\n",
              "      <td>True</td>\n",
              "      <td>901674378500472833</td>\n",
              "      <td>https://twitter.com/statuses/901674378500472833</td>\n",
              "      <td>False</td>\n",
              "      <td>ChoateNoah</td>\n",
              "      <td>Money Mayweather wit da dub!!🥊💸#TMT#TKO#Maywea...</td>\n",
              "    </tr>\n",
              "    <tr>\n",
              "      <th>12117</th>\n",
              "      <td>2017-08-27 01:14:59</td>\n",
              "      <td>True</td>\n",
              "      <td>901674381738258432</td>\n",
              "      <td>https://twitter.com/statuses/901674381738258432</td>\n",
              "      <td>False</td>\n",
              "      <td>dudette0114</td>\n",
              "      <td>Brilliant fight,🥊for a novice to go 9 rounds h...</td>\n",
              "    </tr>\n",
              "  </tbody>\n",
              "</table>\n",
              "</div>"
            ],
            "text/plain": [
              "                created_at  ...                                               text\n",
              "12113  2017-08-27 01:14:57  ...  I should have become a golfer 👀 https://t.co/I...\n",
              "12114  2017-08-27 01:14:58  ...                         😂🔫 https://t.co/VmsbbKmxRc\n",
              "12115  2017-08-27 01:14:58  ...              😂😂😂😂😂😂😂 rs yo https://t.co/UgMn2HwX9X\n",
              "12116  2017-08-27 01:14:58  ...  Money Mayweather wit da dub!!🥊💸#TMT#TKO#Maywea...\n",
              "12117  2017-08-27 01:14:59  ...  Brilliant fight,🥊for a novice to go 9 rounds h...\n",
              "\n",
              "[5 rows x 7 columns]"
            ]
          },
          "metadata": {
            "tags": []
          },
          "execution_count": 9
        }
      ]
    },
    {
      "cell_type": "code",
      "metadata": {
        "id": "adMzvr_4NaoQ",
        "colab_type": "code",
        "colab": {}
      },
      "source": [
        "def emoji_creator(text):\n",
        "  emojis = {}\n",
        "  for i in text:\n",
        "    count = 1\n",
        "    if i in emoji.UNICODE_EMOJI:\n",
        "      if i in emojis.keys():\n",
        "        emojis[i] += 1\n",
        "      else:\n",
        "        emojis.update({i : count})\n",
        "  return max(emojis, key=emojis.get)"
      ],
      "execution_count": 0,
      "outputs": []
    },
    {
      "cell_type": "code",
      "metadata": {
        "id": "gLv5VUsSjJNG",
        "colab_type": "code",
        "outputId": "8fcdf44e-4a98-47bb-e823-6af335821f6e",
        "colab": {
          "base_uri": "https://localhost:8080/",
          "height": 34
        }
      },
      "source": [
        "test_emojis = mm['text'][1]\n",
        "print(emoji_creator(test_emojis))"
      ],
      "execution_count": 11,
      "outputs": [
        {
          "output_type": "stream",
          "text": [
            "😲\n"
          ],
          "name": "stdout"
        }
      ]
    },
    {
      "cell_type": "code",
      "metadata": {
        "id": "2ly7ndKtk2wh",
        "colab_type": "code",
        "colab": {}
      },
      "source": [
        "mm['emojis_tweeted'] = [emoji_creator(i) for i in mm['text']]"
      ],
      "execution_count": 0,
      "outputs": []
    },
    {
      "cell_type": "code",
      "metadata": {
        "id": "K1IxUOqYlSGY",
        "colab_type": "code",
        "colab": {
          "base_uri": "https://localhost:8080/",
          "height": 279
        },
        "outputId": "0ecbac8b-acfd-46f3-d0ba-5f47e3e0454a"
      },
      "source": [
        "mm.sort_values(by='created_at', ascending=False).head()"
      ],
      "execution_count": 13,
      "outputs": [
        {
          "output_type": "execute_result",
          "data": {
            "text/html": [
              "<div>\n",
              "<style scoped>\n",
              "    .dataframe tbody tr th:only-of-type {\n",
              "        vertical-align: middle;\n",
              "    }\n",
              "\n",
              "    .dataframe tbody tr th {\n",
              "        vertical-align: top;\n",
              "    }\n",
              "\n",
              "    .dataframe thead th {\n",
              "        text-align: right;\n",
              "    }\n",
              "</style>\n",
              "<table border=\"1\" class=\"dataframe\">\n",
              "  <thead>\n",
              "    <tr style=\"text-align: right;\">\n",
              "      <th></th>\n",
              "      <th>created_at</th>\n",
              "      <th>emojis</th>\n",
              "      <th>id</th>\n",
              "      <th>link</th>\n",
              "      <th>retweeted</th>\n",
              "      <th>screen_name</th>\n",
              "      <th>text</th>\n",
              "      <th>emojis_tweeted</th>\n",
              "    </tr>\n",
              "  </thead>\n",
              "  <tbody>\n",
              "    <tr>\n",
              "      <th>12117</th>\n",
              "      <td>2017-08-27 01:14:59</td>\n",
              "      <td>True</td>\n",
              "      <td>901674381738258432</td>\n",
              "      <td>https://twitter.com/statuses/901674381738258432</td>\n",
              "      <td>False</td>\n",
              "      <td>dudette0114</td>\n",
              "      <td>Brilliant fight,🥊for a novice to go 9 rounds h...</td>\n",
              "      <td>🥊</td>\n",
              "    </tr>\n",
              "    <tr>\n",
              "      <th>12116</th>\n",
              "      <td>2017-08-27 01:14:58</td>\n",
              "      <td>True</td>\n",
              "      <td>901674378500472833</td>\n",
              "      <td>https://twitter.com/statuses/901674378500472833</td>\n",
              "      <td>False</td>\n",
              "      <td>ChoateNoah</td>\n",
              "      <td>Money Mayweather wit da dub!!🥊💸#TMT#TKO#Maywea...</td>\n",
              "      <td>🥊</td>\n",
              "    </tr>\n",
              "    <tr>\n",
              "      <th>12115</th>\n",
              "      <td>2017-08-27 01:14:58</td>\n",
              "      <td>True</td>\n",
              "      <td>901674378093613057</td>\n",
              "      <td>https://twitter.com/statuses/901674378093613057</td>\n",
              "      <td>False</td>\n",
              "      <td>lorybs_</td>\n",
              "      <td>😂😂😂😂😂😂😂 rs yo https://t.co/UgMn2HwX9X</td>\n",
              "      <td>😂</td>\n",
              "    </tr>\n",
              "    <tr>\n",
              "      <th>12114</th>\n",
              "      <td>2017-08-27 01:14:58</td>\n",
              "      <td>True</td>\n",
              "      <td>901674378458304516</td>\n",
              "      <td>https://twitter.com/statuses/901674378458304516</td>\n",
              "      <td>False</td>\n",
              "      <td>imjellly</td>\n",
              "      <td>😂🔫 https://t.co/VmsbbKmxRc</td>\n",
              "      <td>😂</td>\n",
              "    </tr>\n",
              "    <tr>\n",
              "      <th>12113</th>\n",
              "      <td>2017-08-27 01:14:57</td>\n",
              "      <td>True</td>\n",
              "      <td>901674373635080193</td>\n",
              "      <td>https://twitter.com/statuses/901674373635080193</td>\n",
              "      <td>False</td>\n",
              "      <td>tirivashe_md</td>\n",
              "      <td>I should have become a golfer 👀 https://t.co/I...</td>\n",
              "      <td>👀</td>\n",
              "    </tr>\n",
              "  </tbody>\n",
              "</table>\n",
              "</div>"
            ],
            "text/plain": [
              "                created_at  ...  emojis_tweeted\n",
              "12117  2017-08-27 01:14:59  ...               🥊\n",
              "12116  2017-08-27 01:14:58  ...               🥊\n",
              "12115  2017-08-27 01:14:58  ...               😂\n",
              "12114  2017-08-27 01:14:58  ...               😂\n",
              "12113  2017-08-27 01:14:57  ...               👀\n",
              "\n",
              "[5 rows x 8 columns]"
            ]
          },
          "metadata": {
            "tags": []
          },
          "execution_count": 13
        }
      ]
    },
    {
      "cell_type": "code",
      "metadata": {
        "id": "BtwATh0B8p2e",
        "colab_type": "code",
        "colab": {
          "base_uri": "https://localhost:8080/",
          "height": 697
        },
        "outputId": "f81323c0-e875-456c-a7bb-8b9a542fb034"
      },
      "source": [
        "mm.loc[mm['text'].str.contains('boring')]"
      ],
      "execution_count": 14,
      "outputs": [
        {
          "output_type": "execute_result",
          "data": {
            "text/html": [
              "<div>\n",
              "<style scoped>\n",
              "    .dataframe tbody tr th:only-of-type {\n",
              "        vertical-align: middle;\n",
              "    }\n",
              "\n",
              "    .dataframe tbody tr th {\n",
              "        vertical-align: top;\n",
              "    }\n",
              "\n",
              "    .dataframe thead th {\n",
              "        text-align: right;\n",
              "    }\n",
              "</style>\n",
              "<table border=\"1\" class=\"dataframe\">\n",
              "  <thead>\n",
              "    <tr style=\"text-align: right;\">\n",
              "      <th></th>\n",
              "      <th>created_at</th>\n",
              "      <th>emojis</th>\n",
              "      <th>id</th>\n",
              "      <th>link</th>\n",
              "      <th>retweeted</th>\n",
              "      <th>screen_name</th>\n",
              "      <th>text</th>\n",
              "      <th>emojis_tweeted</th>\n",
              "    </tr>\n",
              "  </thead>\n",
              "  <tbody>\n",
              "    <tr>\n",
              "      <th>1401</th>\n",
              "      <td>2017-08-27 00:12:03</td>\n",
              "      <td>True</td>\n",
              "      <td>901658544767868929</td>\n",
              "      <td>https://twitter.com/statuses/901658544767868929</td>\n",
              "      <td>False</td>\n",
              "      <td>BROCKLESNARRRR</td>\n",
              "      <td>inb4 it ends up being a boring ass fight 😂#May...</td>\n",
              "      <td>😂</td>\n",
              "    </tr>\n",
              "    <tr>\n",
              "      <th>2718</th>\n",
              "      <td>2017-08-27 00:19:44</td>\n",
              "      <td>True</td>\n",
              "      <td>901660479138840576</td>\n",
              "      <td>https://twitter.com/statuses/901660479138840576</td>\n",
              "      <td>False</td>\n",
              "      <td>elmascor</td>\n",
              "      <td>#MayweathervMcgregor super boring 💤!!!</td>\n",
              "      <td>💤</td>\n",
              "    </tr>\n",
              "    <tr>\n",
              "      <th>3641</th>\n",
              "      <td>2017-08-27 00:25:39</td>\n",
              "      <td>True</td>\n",
              "      <td>901661966388924416</td>\n",
              "      <td>https://twitter.com/statuses/901661966388924416</td>\n",
              "      <td>False</td>\n",
              "      <td>Hitch_Atl</td>\n",
              "      <td>#MayweathervMcgregor and people say baseball i...</td>\n",
              "      <td>🤔</td>\n",
              "    </tr>\n",
              "    <tr>\n",
              "      <th>3825</th>\n",
              "      <td>2017-08-27 00:26:56</td>\n",
              "      <td>True</td>\n",
              "      <td>901662290331631616</td>\n",
              "      <td>https://twitter.com/statuses/901662290331631616</td>\n",
              "      <td>False</td>\n",
              "      <td>ydntcr111</td>\n",
              "      <td>Give us the fight that we want #MayweathervMcg...</td>\n",
              "      <td>🙄</td>\n",
              "    </tr>\n",
              "    <tr>\n",
              "      <th>4032</th>\n",
              "      <td>2017-08-27 00:28:15</td>\n",
              "      <td>True</td>\n",
              "      <td>901662622071668737</td>\n",
              "      <td>https://twitter.com/statuses/901662622071668737</td>\n",
              "      <td>False</td>\n",
              "      <td>CedX44</td>\n",
              "      <td>Ang boring nila. Kapag boring mayweather na su...</td>\n",
              "      <td>😂</td>\n",
              "    </tr>\n",
              "    <tr>\n",
              "      <th>4149</th>\n",
              "      <td>2017-08-27 00:28:58</td>\n",
              "      <td>True</td>\n",
              "      <td>901662799151194112</td>\n",
              "      <td>https://twitter.com/statuses/901662799151194112</td>\n",
              "      <td>False</td>\n",
              "      <td>ERZEN</td>\n",
              "      <td>This fight is boring I'm more excited about th...</td>\n",
              "      <td>🙄</td>\n",
              "    </tr>\n",
              "    <tr>\n",
              "      <th>4628</th>\n",
              "      <td>2017-08-27 00:32:20</td>\n",
              "      <td>True</td>\n",
              "      <td>901663647943950336</td>\n",
              "      <td>https://twitter.com/statuses/901663647943950336</td>\n",
              "      <td>False</td>\n",
              "      <td>CrimsonGypsies</td>\n",
              "      <td>#Mayweather fights are always boring as fuck. ...</td>\n",
              "      <td>😪</td>\n",
              "    </tr>\n",
              "    <tr>\n",
              "      <th>4806</th>\n",
              "      <td>2017-08-27 00:33:34</td>\n",
              "      <td>True</td>\n",
              "      <td>901663960356724736</td>\n",
              "      <td>https://twitter.com/statuses/901663960356724736</td>\n",
              "      <td>False</td>\n",
              "      <td>Via_loves_Azumi</td>\n",
              "      <td>I hope the coming fight is not boring.. and th...</td>\n",
              "      <td>👍</td>\n",
              "    </tr>\n",
              "    <tr>\n",
              "      <th>5116</th>\n",
              "      <td>2017-08-27 00:35:36</td>\n",
              "      <td>True</td>\n",
              "      <td>901664470916665345</td>\n",
              "      <td>https://twitter.com/statuses/901664470916665345</td>\n",
              "      <td>False</td>\n",
              "      <td>royceangeles</td>\n",
              "      <td>This mess boring af 😴 gn #MayweathervMcgregor</td>\n",
              "      <td>😴</td>\n",
              "    </tr>\n",
              "    <tr>\n",
              "      <th>5663</th>\n",
              "      <td>2017-08-27 00:38:56</td>\n",
              "      <td>True</td>\n",
              "      <td>901665309320298496</td>\n",
              "      <td>https://twitter.com/statuses/901665309320298496</td>\n",
              "      <td>False</td>\n",
              "      <td>ChiCytian</td>\n",
              "      <td>Da fight is fvcking boring 😴😴😂 #MayweathervMcg...</td>\n",
              "      <td>😴</td>\n",
              "    </tr>\n",
              "    <tr>\n",
              "      <th>6547</th>\n",
              "      <td>2017-08-27 00:44:31</td>\n",
              "      <td>True</td>\n",
              "      <td>901666715062472704</td>\n",
              "      <td>https://twitter.com/statuses/901666715062472704</td>\n",
              "      <td>False</td>\n",
              "      <td>GGpeterAtom</td>\n",
              "      <td>#MayweathervMcgregor those punches are liquid ...</td>\n",
              "      <td>😠</td>\n",
              "    </tr>\n",
              "    <tr>\n",
              "      <th>6856</th>\n",
              "      <td>2017-08-27 00:46:39</td>\n",
              "      <td>True</td>\n",
              "      <td>901667251878850561</td>\n",
              "      <td>https://twitter.com/statuses/901667251878850561</td>\n",
              "      <td>False</td>\n",
              "      <td>KingAcer33</td>\n",
              "      <td>People saying its boring seem to be UFC McGreg...</td>\n",
              "      <td>😂</td>\n",
              "    </tr>\n",
              "    <tr>\n",
              "      <th>6925</th>\n",
              "      <td>2017-08-27 00:47:02</td>\n",
              "      <td>True</td>\n",
              "      <td>901667349383626752</td>\n",
              "      <td>https://twitter.com/statuses/901667349383626752</td>\n",
              "      <td>False</td>\n",
              "      <td>CoachFlintham</td>\n",
              "      <td>#Mayweather 100% the most boring of all time. ...</td>\n",
              "      <td>😴</td>\n",
              "    </tr>\n",
              "    <tr>\n",
              "      <th>11706</th>\n",
              "      <td>2017-08-27 01:11:44</td>\n",
              "      <td>True</td>\n",
              "      <td>901673564339822592</td>\n",
              "      <td>https://twitter.com/statuses/901673564339822592</td>\n",
              "      <td>False</td>\n",
              "      <td>kingmiccooo</td>\n",
              "      <td>\"Floyd runs\", \"Floyds boring\" LOL. Shhhhhhhhhh...</td>\n",
              "      <td>🙊</td>\n",
              "    </tr>\n",
              "  </tbody>\n",
              "</table>\n",
              "</div>"
            ],
            "text/plain": [
              "                created_at  ...  emojis_tweeted\n",
              "1401   2017-08-27 00:12:03  ...               😂\n",
              "2718   2017-08-27 00:19:44  ...               💤\n",
              "3641   2017-08-27 00:25:39  ...               🤔\n",
              "3825   2017-08-27 00:26:56  ...               🙄\n",
              "4032   2017-08-27 00:28:15  ...               😂\n",
              "4149   2017-08-27 00:28:58  ...               🙄\n",
              "4628   2017-08-27 00:32:20  ...               😪\n",
              "4806   2017-08-27 00:33:34  ...               👍\n",
              "5116   2017-08-27 00:35:36  ...               😴\n",
              "5663   2017-08-27 00:38:56  ...               😴\n",
              "6547   2017-08-27 00:44:31  ...               😠\n",
              "6856   2017-08-27 00:46:39  ...               😂\n",
              "6925   2017-08-27 00:47:02  ...               😴\n",
              "11706  2017-08-27 01:11:44  ...               🙊\n",
              "\n",
              "[14 rows x 8 columns]"
            ]
          },
          "metadata": {
            "tags": []
          },
          "execution_count": 14
        }
      ]
    },
    {
      "cell_type": "code",
      "metadata": {
        "id": "BqpYbeDSlWIR",
        "colab_type": "code",
        "colab": {
          "base_uri": "https://localhost:8080/",
          "height": 202
        },
        "outputId": "b9021053-be7d-4432-89c2-a3711a980269"
      },
      "source": [
        "emoji_counts = mm['emojis_tweeted'].value_counts().nlargest(10)\n",
        "emoji_counts"
      ],
      "execution_count": 15,
      "outputs": [
        {
          "output_type": "execute_result",
          "data": {
            "text/plain": [
              "😂    2949\n",
              "🥊     939\n",
              "👊     468\n",
              "💪     372\n",
              "👏     309\n",
              "🇮     290\n",
              "🤔     279\n",
              "😭     258\n",
              "🔥     244\n",
              "🤣     224\n",
              "Name: emojis_tweeted, dtype: int64"
            ]
          },
          "metadata": {
            "tags": []
          },
          "execution_count": 15
        }
      ]
    },
    {
      "cell_type": "markdown",
      "metadata": {
        "id": "B8QhsI2Jrf2s",
        "colab_type": "text"
      },
      "source": [
        "Two things are wrong here: First, I can't seem to replicate well enough the value counts of most commonly used emojis. I have more or less gotten a similar list of top ten, but the methodology they used clearly is different than mine when accounting for multiple. Second, there appears to be an additional 15 minutes included in the chart on the webpage than in the data set. The subtext on the website says the data goes from 12:05 to 1:30, where the GitHub data says it only includes those tweets up to 1:15. This additional post fight discussion could have skewed the results of my emoji dataset. For example, there may have been significant discussion after the fight was over regarding the purse each fighter took home, which might have significantly raised the value_count of the 💰 emoji in the 15 minutes that wasn't included in the data set on GitHub, but included in the table on the website."
      ]
    },
    {
      "cell_type": "markdown",
      "metadata": {
        "id": "2RYo5hsWMcI9",
        "colab_type": "text"
      },
      "source": [
        "###Taking a Left Turn: Now that I've gotten the emoji situation under control and discovered that the first graphic on the page is actually an HTML table, I'm going to try and replicate one of the other images, which thankfully still make use of the Emojis\n"
      ]
    },
    {
      "cell_type": "code",
      "metadata": {
        "id": "DsXrhUl5MxAV",
        "colab_type": "code",
        "colab": {
          "base_uri": "https://localhost:8080/",
          "height": 609
        },
        "outputId": "cd0acc44-9643-42df-c270-ae148f7aa303"
      },
      "source": [
        "from IPython.display import display, Image\n",
        "\n",
        "url = 'https://fivethirtyeight.com/wp-content/uploads/2017/08/roedermehtadottle-boxemoji-21.png?w=575'\n",
        "example = Image(url=url, width=600)\n",
        "display(example)"
      ],
      "execution_count": 16,
      "outputs": [
        {
          "output_type": "display_data",
          "data": {
            "text/html": [
              "<img src=\"https://fivethirtyeight.com/wp-content/uploads/2017/08/roedermehtadottle-boxemoji-21.png?w=575\" width=\"600\"/>"
            ],
            "text/plain": [
              "<IPython.core.display.Image object>"
            ]
          },
          "metadata": {
            "tags": []
          }
        }
      ]
    },
    {
      "cell_type": "code",
      "metadata": {
        "id": "XwtA8jl98ELS",
        "colab_type": "code",
        "colab": {
          "base_uri": "https://localhost:8080/",
          "height": 195
        },
        "outputId": "38630381-052a-4255-ec24-87bbe0c84b70"
      },
      "source": [
        "mm['created_at'] = pd.to_datetime(mm['created_at'], infer_datetime_format=True).dt.round('S')\n",
        "mm.head()"
      ],
      "execution_count": 17,
      "outputs": [
        {
          "output_type": "execute_result",
          "data": {
            "text/html": [
              "<div>\n",
              "<style scoped>\n",
              "    .dataframe tbody tr th:only-of-type {\n",
              "        vertical-align: middle;\n",
              "    }\n",
              "\n",
              "    .dataframe tbody tr th {\n",
              "        vertical-align: top;\n",
              "    }\n",
              "\n",
              "    .dataframe thead th {\n",
              "        text-align: right;\n",
              "    }\n",
              "</style>\n",
              "<table border=\"1\" class=\"dataframe\">\n",
              "  <thead>\n",
              "    <tr style=\"text-align: right;\">\n",
              "      <th></th>\n",
              "      <th>created_at</th>\n",
              "      <th>emojis</th>\n",
              "      <th>id</th>\n",
              "      <th>link</th>\n",
              "      <th>retweeted</th>\n",
              "      <th>screen_name</th>\n",
              "      <th>text</th>\n",
              "      <th>emojis_tweeted</th>\n",
              "    </tr>\n",
              "  </thead>\n",
              "  <tbody>\n",
              "    <tr>\n",
              "      <th>0</th>\n",
              "      <td>2017-08-27 00:05:34</td>\n",
              "      <td>True</td>\n",
              "      <td>901656910939770881</td>\n",
              "      <td>https://twitter.com/statuses/901656910939770881</td>\n",
              "      <td>False</td>\n",
              "      <td>aaLiysr</td>\n",
              "      <td>Ringe çıkmadan ateş etmeye başladı 😃#McGregor ...</td>\n",
              "      <td>😃</td>\n",
              "    </tr>\n",
              "    <tr>\n",
              "      <th>1</th>\n",
              "      <td>2017-08-27 00:05:35</td>\n",
              "      <td>True</td>\n",
              "      <td>901656917281574912</td>\n",
              "      <td>https://twitter.com/statuses/901656917281574912</td>\n",
              "      <td>False</td>\n",
              "      <td>zulmafrancozaf</td>\n",
              "      <td>😲😲😲😲😲 @lalylourbet2 https://t.co/ERUGHhQINE</td>\n",
              "      <td>😲</td>\n",
              "    </tr>\n",
              "    <tr>\n",
              "      <th>2</th>\n",
              "      <td>2017-08-27 00:05:35</td>\n",
              "      <td>True</td>\n",
              "      <td>901656917105369088</td>\n",
              "      <td>https://twitter.com/statuses/901656917105369088</td>\n",
              "      <td>False</td>\n",
              "      <td>Adriana11D</td>\n",
              "      <td>🇮🇪🇮🇪🇮🇪 💪💪#MayweathervMcgregor</td>\n",
              "      <td>🇮</td>\n",
              "    </tr>\n",
              "    <tr>\n",
              "      <th>3</th>\n",
              "      <td>2017-08-27 00:05:35</td>\n",
              "      <td>True</td>\n",
              "      <td>901656917747142657</td>\n",
              "      <td>https://twitter.com/statuses/901656917747142657</td>\n",
              "      <td>False</td>\n",
              "      <td>Nathan_Caro_</td>\n",
              "      <td>Cest partit #MayweatherMcGregor 💪🏿</td>\n",
              "      <td>💪</td>\n",
              "    </tr>\n",
              "    <tr>\n",
              "      <th>4</th>\n",
              "      <td>2017-08-27 00:05:35</td>\n",
              "      <td>True</td>\n",
              "      <td>901656916828594177</td>\n",
              "      <td>https://twitter.com/statuses/901656916828594177</td>\n",
              "      <td>False</td>\n",
              "      <td>sahouraxox</td>\n",
              "      <td>Low key feeling bad for ppl who payed to watch...</td>\n",
              "      <td>🤣</td>\n",
              "    </tr>\n",
              "  </tbody>\n",
              "</table>\n",
              "</div>"
            ],
            "text/plain": [
              "           created_at  ...  emojis_tweeted\n",
              "0 2017-08-27 00:05:34  ...               😃\n",
              "1 2017-08-27 00:05:35  ...               😲\n",
              "2 2017-08-27 00:05:35  ...               🇮\n",
              "3 2017-08-27 00:05:35  ...               💪\n",
              "4 2017-08-27 00:05:35  ...               🤣\n",
              "\n",
              "[5 rows x 8 columns]"
            ]
          },
          "metadata": {
            "tags": []
          },
          "execution_count": 17
        }
      ]
    },
    {
      "cell_type": "code",
      "metadata": {
        "id": "1ugpyENR9d02",
        "colab_type": "code",
        "colab": {}
      },
      "source": [
        "fire = mm.loc[mm['emojis_tweeted'] == '🔥'].set_index('created_at').drop(['emojis', 'id', 'link', 'retweeted', 'screen_name', 'text'], axis=1)\n",
        "fire['num'] = 1\n",
        "fire_series = pd.Series(fire['num'], index=fire.index)\n",
        "rolling_fire = fire_series.resample('30S').sum().rolling(8).mean()"
      ],
      "execution_count": 0,
      "outputs": []
    },
    {
      "cell_type": "code",
      "metadata": {
        "id": "YaOJoEJLC6FI",
        "colab_type": "code",
        "colab": {}
      },
      "source": [
        "snooze = mm.loc[mm['emojis_tweeted'] == '😴'].drop(['emojis', 'id', 'link', 'retweeted', 'screen_name', 'text'], axis=1).set_index('created_at')\n",
        "snooze['num'] = 1\n",
        "snooze_series = pd.Series(snooze['num'], index=snooze.index)\n",
        "rolling_snooze = snooze_series.resample('30S').sum().rolling(8).mean()"
      ],
      "execution_count": 0,
      "outputs": []
    },
    {
      "cell_type": "code",
      "metadata": {
        "id": "B-E-J87hYH5S",
        "colab_type": "code",
        "colab": {
          "base_uri": "https://localhost:8080/",
          "height": 792
        },
        "outputId": "e1838082-e2dc-4424-afb9-91831203c03e"
      },
      "source": [
        "plt.style.use('fivethirtyeight')\n",
        "plt.figure(facecolor='#f0f0f0', figsize=(10,6))\n",
        "\n",
        "snooze_ax = rolling_snooze.plot.line(color=\"#b4e3e7\")\n",
        "roll_ax = rolling_fire.plot.line(color='#d63830')\n",
        "\n",
        "plt.title('Much hype, some boredom', fontsize=12, loc='left', x=-0.1, y=1.1, fontweight='bold')\n",
        "\n",
        "#still a work in progress"
      ],
      "execution_count": 31,
      "outputs": [
        {
          "output_type": "error",
          "ename": "AttributeError",
          "evalue": "ignored",
          "traceback": [
            "\u001b[0;31m---------------------------------------------------------------------------\u001b[0m",
            "\u001b[0;31mAttributeError\u001b[0m                            Traceback (most recent call last)",
            "\u001b[0;32m<ipython-input-31-e1811d1996b6>\u001b[0m in \u001b[0;36m<module>\u001b[0;34m()\u001b[0m\n\u001b[1;32m      9\u001b[0m \u001b[0msnooze_proxy\u001b[0m \u001b[0;34m=\u001b[0m \u001b[0;34m'😴'\u001b[0m\u001b[0;34m\u001b[0m\u001b[0;34m\u001b[0m\u001b[0m\n\u001b[1;32m     10\u001b[0m \u001b[0mfire_proxy\u001b[0m \u001b[0;34m=\u001b[0m \u001b[0;34m'🔥'\u001b[0m\u001b[0;34m\u001b[0m\u001b[0;34m\u001b[0m\u001b[0m\n\u001b[0;32m---> 11\u001b[0;31m \u001b[0mplt\u001b[0m\u001b[0;34m.\u001b[0m\u001b[0mlegend\u001b[0m\u001b[0;34m(\u001b[0m\u001b[0mhandles\u001b[0m\u001b[0;34m=\u001b[0m\u001b[0;34m[\u001b[0m\u001b[0msnooze_proxy\u001b[0m\u001b[0;34m,\u001b[0m \u001b[0mfire_proxy\u001b[0m\u001b[0;34m]\u001b[0m\u001b[0;34m)\u001b[0m\u001b[0;34m\u001b[0m\u001b[0;34m\u001b[0m\u001b[0m\n\u001b[0m",
            "\u001b[0;32m/usr/local/lib/python3.6/dist-packages/matplotlib/pyplot.py\u001b[0m in \u001b[0;36mlegend\u001b[0;34m(*args, **kwargs)\u001b[0m\n\u001b[1;32m   2705\u001b[0m \u001b[0;34m@\u001b[0m\u001b[0mdocstring\u001b[0m\u001b[0;34m.\u001b[0m\u001b[0mcopy_dedent\u001b[0m\u001b[0;34m(\u001b[0m\u001b[0mAxes\u001b[0m\u001b[0;34m.\u001b[0m\u001b[0mlegend\u001b[0m\u001b[0;34m)\u001b[0m\u001b[0;34m\u001b[0m\u001b[0;34m\u001b[0m\u001b[0m\n\u001b[1;32m   2706\u001b[0m \u001b[0;32mdef\u001b[0m \u001b[0mlegend\u001b[0m\u001b[0;34m(\u001b[0m\u001b[0;34m*\u001b[0m\u001b[0margs\u001b[0m\u001b[0;34m,\u001b[0m \u001b[0;34m**\u001b[0m\u001b[0mkwargs\u001b[0m\u001b[0;34m)\u001b[0m\u001b[0;34m:\u001b[0m\u001b[0;34m\u001b[0m\u001b[0;34m\u001b[0m\u001b[0m\n\u001b[0;32m-> 2707\u001b[0;31m     \u001b[0;32mreturn\u001b[0m \u001b[0mgca\u001b[0m\u001b[0;34m(\u001b[0m\u001b[0;34m)\u001b[0m\u001b[0;34m.\u001b[0m\u001b[0mlegend\u001b[0m\u001b[0;34m(\u001b[0m\u001b[0;34m*\u001b[0m\u001b[0margs\u001b[0m\u001b[0;34m,\u001b[0m \u001b[0;34m**\u001b[0m\u001b[0mkwargs\u001b[0m\u001b[0;34m)\u001b[0m\u001b[0;34m\u001b[0m\u001b[0;34m\u001b[0m\u001b[0m\n\u001b[0m\u001b[1;32m   2708\u001b[0m \u001b[0;34m\u001b[0m\u001b[0m\n\u001b[1;32m   2709\u001b[0m \u001b[0;34m\u001b[0m\u001b[0m\n",
            "\u001b[0;32m/usr/local/lib/python3.6/dist-packages/matplotlib/axes/_axes.py\u001b[0m in \u001b[0;36mlegend\u001b[0;34m(self, *args, **kwargs)\u001b[0m\n\u001b[1;32m    418\u001b[0m                 \u001b[0;34m[\u001b[0m\u001b[0mself\u001b[0m\u001b[0;34m]\u001b[0m\u001b[0;34m,\u001b[0m\u001b[0;34m\u001b[0m\u001b[0;34m\u001b[0m\u001b[0m\n\u001b[1;32m    419\u001b[0m                 \u001b[0;34m*\u001b[0m\u001b[0margs\u001b[0m\u001b[0;34m,\u001b[0m\u001b[0;34m\u001b[0m\u001b[0;34m\u001b[0m\u001b[0m\n\u001b[0;32m--> 420\u001b[0;31m                 **kwargs)\n\u001b[0m\u001b[1;32m    421\u001b[0m         \u001b[0;32mif\u001b[0m \u001b[0mlen\u001b[0m\u001b[0;34m(\u001b[0m\u001b[0mextra_args\u001b[0m\u001b[0;34m)\u001b[0m\u001b[0;34m:\u001b[0m\u001b[0;34m\u001b[0m\u001b[0;34m\u001b[0m\u001b[0m\n\u001b[1;32m    422\u001b[0m             \u001b[0;32mraise\u001b[0m \u001b[0mTypeError\u001b[0m\u001b[0;34m(\u001b[0m\u001b[0;34m'legend only accepts two non-keyword arguments'\u001b[0m\u001b[0;34m)\u001b[0m\u001b[0;34m\u001b[0m\u001b[0;34m\u001b[0m\u001b[0m\n",
            "\u001b[0;32m/usr/local/lib/python3.6/dist-packages/matplotlib/legend.py\u001b[0m in \u001b[0;36m_parse_legend_args\u001b[0;34m(axs, handles, labels, *args, **kwargs)\u001b[0m\n\u001b[1;32m   1276\u001b[0m \u001b[0;34m\u001b[0m\u001b[0m\n\u001b[1;32m   1277\u001b[0m     \u001b[0;32melif\u001b[0m \u001b[0mhandles\u001b[0m \u001b[0;32mis\u001b[0m \u001b[0;32mnot\u001b[0m \u001b[0;32mNone\u001b[0m \u001b[0;32mand\u001b[0m \u001b[0mlabels\u001b[0m \u001b[0;32mis\u001b[0m \u001b[0;32mNone\u001b[0m\u001b[0;34m:\u001b[0m\u001b[0;34m\u001b[0m\u001b[0;34m\u001b[0m\u001b[0m\n\u001b[0;32m-> 1278\u001b[0;31m         \u001b[0mlabels\u001b[0m \u001b[0;34m=\u001b[0m \u001b[0;34m[\u001b[0m\u001b[0mhandle\u001b[0m\u001b[0;34m.\u001b[0m\u001b[0mget_label\u001b[0m\u001b[0;34m(\u001b[0m\u001b[0;34m)\u001b[0m \u001b[0;32mfor\u001b[0m \u001b[0mhandle\u001b[0m \u001b[0;32min\u001b[0m \u001b[0mhandles\u001b[0m\u001b[0;34m]\u001b[0m\u001b[0;34m\u001b[0m\u001b[0;34m\u001b[0m\u001b[0m\n\u001b[0m\u001b[1;32m   1279\u001b[0m \u001b[0;34m\u001b[0m\u001b[0m\n\u001b[1;32m   1280\u001b[0m     \u001b[0;32melif\u001b[0m \u001b[0mlabels\u001b[0m \u001b[0;32mis\u001b[0m \u001b[0;32mnot\u001b[0m \u001b[0;32mNone\u001b[0m \u001b[0;32mand\u001b[0m \u001b[0mhandles\u001b[0m \u001b[0;32mis\u001b[0m \u001b[0;32mNone\u001b[0m\u001b[0;34m:\u001b[0m\u001b[0;34m\u001b[0m\u001b[0;34m\u001b[0m\u001b[0m\n",
            "\u001b[0;32m/usr/local/lib/python3.6/dist-packages/matplotlib/legend.py\u001b[0m in \u001b[0;36m<listcomp>\u001b[0;34m(.0)\u001b[0m\n\u001b[1;32m   1276\u001b[0m \u001b[0;34m\u001b[0m\u001b[0m\n\u001b[1;32m   1277\u001b[0m     \u001b[0;32melif\u001b[0m \u001b[0mhandles\u001b[0m \u001b[0;32mis\u001b[0m \u001b[0;32mnot\u001b[0m \u001b[0;32mNone\u001b[0m \u001b[0;32mand\u001b[0m \u001b[0mlabels\u001b[0m \u001b[0;32mis\u001b[0m \u001b[0;32mNone\u001b[0m\u001b[0;34m:\u001b[0m\u001b[0;34m\u001b[0m\u001b[0;34m\u001b[0m\u001b[0m\n\u001b[0;32m-> 1278\u001b[0;31m         \u001b[0mlabels\u001b[0m \u001b[0;34m=\u001b[0m \u001b[0;34m[\u001b[0m\u001b[0mhandle\u001b[0m\u001b[0;34m.\u001b[0m\u001b[0mget_label\u001b[0m\u001b[0;34m(\u001b[0m\u001b[0;34m)\u001b[0m \u001b[0;32mfor\u001b[0m \u001b[0mhandle\u001b[0m \u001b[0;32min\u001b[0m \u001b[0mhandles\u001b[0m\u001b[0;34m]\u001b[0m\u001b[0;34m\u001b[0m\u001b[0;34m\u001b[0m\u001b[0m\n\u001b[0m\u001b[1;32m   1279\u001b[0m \u001b[0;34m\u001b[0m\u001b[0m\n\u001b[1;32m   1280\u001b[0m     \u001b[0;32melif\u001b[0m \u001b[0mlabels\u001b[0m \u001b[0;32mis\u001b[0m \u001b[0;32mnot\u001b[0m \u001b[0;32mNone\u001b[0m \u001b[0;32mand\u001b[0m \u001b[0mhandles\u001b[0m \u001b[0;32mis\u001b[0m \u001b[0;32mNone\u001b[0m\u001b[0;34m:\u001b[0m\u001b[0;34m\u001b[0m\u001b[0;34m\u001b[0m\u001b[0m\n",
            "\u001b[0;31mAttributeError\u001b[0m: 'str' object has no attribute 'get_label'"
          ]
        },
        {
          "output_type": "display_data",
          "data": {
            "image/png": "[encoded data removed]",
            "text/plain": [
              "<Figure size 720x432 with 1 Axes>"
            ]
          },
          "metadata": {
            "tags": []
          }
        }
      ]
    },
    {
      "cell_type": "markdown",
      "metadata": {
        "id": "0wSrBzmJyWaV",
        "colab_type": "text"
      },
      "source": [
        "# STRETCH OPTIONS\n",
        "\n",
        "### 1) Reproduce one of the following using the matplotlib or seaborn libraries:\n",
        "\n",
        "- [thanksgiving-2015](https://fivethirtyeight.com/features/heres-what-your-part-of-america-eats-on-thanksgiving/) \n",
        "- [candy-power-ranking](https://fivethirtyeight.com/features/the-ultimate-halloween-candy-power-ranking/) \n",
        "- or another example of your choice!\n",
        "\n",
        "### 2) Make more charts!\n",
        "\n",
        "Choose a chart you want to make, from [Visual Vocabulary - Vega Edition](http://ft.com/vocabulary).\n",
        "\n",
        "Find the chart in an example gallery of a Python data visualization library:\n",
        "- [Seaborn](http://seaborn.pydata.org/examples/index.html)\n",
        "- [Altair](https://altair-viz.github.io/gallery/index.html)\n",
        "- [Matplotlib](https://matplotlib.org/gallery.html)\n",
        "- [Pandas](https://pandas.pydata.org/pandas-docs/stable/visualization.html)\n",
        "\n",
        "Reproduce the chart. [Optionally, try the \"Ben Franklin Method.\"](https://docs.google.com/document/d/1ubOw9B3Hfip27hF2ZFnW3a3z9xAgrUDRReOEo-FHCVs/edit) If you want, experiment and make changes.\n",
        "\n",
        "Take notes. Consider sharing your work with your cohort!"
      ]
    },
    {
      "cell_type": "code",
      "metadata": {
        "id": "dRJkKftiy5BJ",
        "colab_type": "code",
        "colab": {}
      },
      "source": [
        "# More Work Here"
      ],
      "execution_count": 0,
      "outputs": []
    }
  ]
}