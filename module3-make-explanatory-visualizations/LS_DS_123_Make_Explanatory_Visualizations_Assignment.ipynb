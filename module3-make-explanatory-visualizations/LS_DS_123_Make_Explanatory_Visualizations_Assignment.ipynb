{
  "nbformat": 4,
  "nbformat_minor": 0,
  "metadata": {
    "colab": {
      "name": "Copy of LS_DS_123_Make_Explanatory_Visualizations_Assignment.ipynb",
      "version": "0.3.2",
      "provenance": [],
      "collapsed_sections": [],
      "include_colab_link": true
    },
    "language_info": {
      "codemirror_mode": {
        "name": "ipython",
        "version": 3
      },
      "file_extension": ".py",
      "mimetype": "text/x-python",
      "name": "python",
      "nbconvert_exporter": "python",
      "pygments_lexer": "ipython3",
      "version": "3.7.1"
    },
    "kernelspec": {
      "display_name": "Python 3",
      "language": "python",
      "name": "python3"
    }
  },
  "cells": [
    {
      "cell_type": "markdown",
      "metadata": {
        "id": "view-in-github",
        "colab_type": "text"
      },
      "source": [
        "<a href=\"https://colab.research.google.com/github/davidanagy/DS-Unit-1-Sprint-2-Data-Wrangling-and-Storytelling/blob/master/module3-make-explanatory-visualizations/LS_DS_123_Make_Explanatory_Visualizations_Assignment.ipynb\" target=\"_parent\"><img src=\"https://colab.research.google.com/assets/colab-badge.svg\" alt=\"Open In Colab\"/></a>"
      ]
    },
    {
      "cell_type": "markdown",
      "metadata": {
        "colab_type": "text",
        "id": "NMEswXWh9mqw"
      },
      "source": [
        "# ASSIGNMENT\n",
        "\n",
        "### 1) Replicate the lesson code. I recommend that you [do not copy-paste](https://docs.google.com/document/d/1ubOw9B3Hfip27hF2ZFnW3a3z9xAgrUDRReOEo-FHCVs/edit).\n",
        "\n",
        "Get caught up to where we got our example in class and then try and take things further. How close to \"pixel perfect\" can you make the lecture graph?\n",
        "\n",
        "Once you have something that you're proud of, share your graph in the cohort channel and move on to the second exercise.\n",
        "\n",
        "### 2) Reproduce another example from [FiveThityEight's shared data repository](https://data.fivethirtyeight.com/).\n",
        "\n",
        "**WARNING**: There are a lot of very custom graphs and tables at the above link. I **highly** recommend not trying to reproduce any that look like a table of values or something really different from the graph types that we are already familiar with. Search through the posts until you find a graph type that you are more or less familiar with: histogram, bar chart, stacked bar chart, line chart, [seaborn relplot](https://seaborn.pydata.org/generated/seaborn.relplot.html), etc. Recreating some of the graphics that 538 uses would be a lot easier in Adobe photoshop/illustrator than with matplotlib. \n",
        "\n",
        "- If you put in some time to find a graph that looks \"easy\" to replicate you'll probably find that it's not as easy as you thought. \n",
        "\n",
        "- If you start with a graph that looks hard to replicate you'll probably run up against a brick wall and be disappointed with your afternoon.\n",
        "\n",
        "\n",
        "\n",
        "\n",
        "\n",
        "\n",
        "\n",
        "\n",
        "\n",
        "\n"
      ]
    },
    {
      "cell_type": "markdown",
      "metadata": {
        "id": "9qud7yxwsa0U",
        "colab_type": "text"
      },
      "source": [
        "## Part 1"
      ]
    },
    {
      "cell_type": "code",
      "metadata": {
        "id": "7SY1ZHawyZvz",
        "colab_type": "code",
        "colab": {
          "base_uri": "https://localhost:8080/",
          "height": 355
        },
        "outputId": "c6828fed-afde-4806-95ba-d2fb3929071a"
      },
      "source": [
        "from IPython.display import display, Image\n",
        "\n",
        "url = 'https://fivethirtyeight.com/wp-content/uploads/2017/09/mehtahickey-inconvenient-0830-1.png'\n",
        "example = Image(url=url, width=400)\n",
        "\n",
        "display(example)"
      ],
      "execution_count": 1,
      "outputs": [
        {
          "output_type": "display_data",
          "data": {
            "text/html": [
              "<img src=\"https://fivethirtyeight.com/wp-content/uploads/2017/09/mehtahickey-inconvenient-0830-1.png\" width=\"400\"/>"
            ],
            "text/plain": [
              "<IPython.core.display.Image object>"
            ]
          },
          "metadata": {
            "tags": []
          }
        }
      ]
    },
    {
      "cell_type": "code",
      "metadata": {
        "id": "jBsK1rAU1fQ2",
        "colab_type": "code",
        "colab": {
          "base_uri": "https://localhost:8080/",
          "height": 325
        },
        "outputId": "8bff98bb-d528-4081-d86f-5fa1b4ed8cc5"
      },
      "source": [
        "%matplotlib inline\n",
        "import matplotlib.pyplot as plt\n",
        "import numpy as np\n",
        "import pandas as pd\n",
        "\n",
        "fake = pd.Series([38, 3, 2, 1, 2, 4, 6, 5, 5, 33], index=range(1,11))\n",
        "\n",
        "plt.style.use('fivethirtyeight')\n",
        "\n",
        "fig = plt.figure(figsize=(5.5, 4)) # Changed the figure size.\n",
        "fig.patch.set(facecolor='white')\n",
        "\n",
        "ax = fake.plot.bar(color='#ED713A', width=0.9)\n",
        "ax.set(facecolor='white')\n",
        "\n",
        "ax.text(x=-1.8, y=44, s=\"'An Inconvenient Sequel: Truth to Power' is divisive\", fontweight='bold', fontsize=12)\n",
        "ax.text(x=-1.8, y=41.5, s='IMDb ratings for the film as of Aug. 29', fontsize=11)\n",
        "\n",
        "ax.set_ylabel('Percent of total votes', y=0.49, fontsize=9, fontweight='bold', labelpad=10) # Changed the location a bit.\n",
        "ax.set_xlabel('Rating', x=0.475, fontsize=9, fontweight='bold', labelpad=10) # Changed the location a bit.\n",
        "\n",
        "ax.set_xticklabels(range(1,11), rotation=0,)\n",
        "ax.set_yticks(range(0,50,10))\n",
        "ax.set_yticklabels(range(0,40,10), x=-0.02)\n",
        "ax.text(x=-1.3, y=39.3, s='40%', color='#999999', fontsize=9)\n",
        "# Did it this way so I could get the last y-label to be \"40%\" while still aligning the labels correctly.\n",
        "# Unfortunately the positioning is a bit off because my font for the '%' is different from 538's, but I don't know which font they're using.\n",
        "\n",
        "# Remove the spines\n",
        "ax.spines['left'].set_visible(False)\n",
        "ax.spines['right'].set_visible(False)\n",
        "ax.spines['bottom'].set_visible(False)\n",
        "ax.spines['top'].set_visible(False)\n",
        "\n",
        "# Extend the grid below y=0 and above y=40\n",
        "plt.ylim(-2, 40.5)\n",
        "# Make the horizontal ticks extend past the bars at about the same length as in the 538 graph.\n",
        "plt.xlim(-0.6, 9.6)\n",
        "\n",
        "# Make the ticks have the right color.\n",
        "ax.tick_params(labelcolor='#999999', labelsize=9)\n",
        "\n",
        "plt.show()"
      ],
      "execution_count": 2,
      "outputs": [
        {
          "output_type": "display_data",
          "data": {
            "image/png": "[encoded data removed]",
            "text/plain": [
              "<Figure size 396x288 with 1 Axes>"
            ]
          },
          "metadata": {
            "tags": []
          }
        }
      ]
    },
    {
      "cell_type": "markdown",
      "metadata": {
        "id": "RpzxcpxBII2I",
        "colab_type": "text"
      },
      "source": [
        "I'm fairly satisfied with this. The only thing that's really off is that the title and subtitle are \"shorter\" than in the 538 graphic, but putting in the 'fontstretch' parameter didn't seem to do anything, so I can't see a way to change that."
      ]
    },
    {
      "cell_type": "code",
      "metadata": {
        "id": "jm-mNnBo2orB",
        "colab_type": "code",
        "colab": {
          "base_uri": "https://localhost:8080/",
          "height": 355
        },
        "outputId": "27a32ee8-0ddb-4c19-bfcb-58623b529695"
      },
      "source": [
        "display(example)"
      ],
      "execution_count": 3,
      "outputs": [
        {
          "output_type": "display_data",
          "data": {
            "text/html": [
              "<img src=\"https://fivethirtyeight.com/wp-content/uploads/2017/09/mehtahickey-inconvenient-0830-1.png\" width=\"400\"/>"
            ],
            "text/plain": [
              "<IPython.core.display.Image object>"
            ]
          },
          "metadata": {
            "tags": []
          }
        }
      ]
    },
    {
      "cell_type": "markdown",
      "metadata": {
        "id": "JGgBLVJoI6fe",
        "colab_type": "text"
      },
      "source": [
        "## Part 2\n",
        "\n",
        "I'm using this graph: https://fivethirtyeight.com/wp-content/uploads/2019/07/choi-foul-0625-2-1.png?w=575"
      ]
    },
    {
      "cell_type": "code",
      "metadata": {
        "id": "zidwDAfGNGQa",
        "colab_type": "code",
        "colab": {
          "base_uri": "https://localhost:8080/",
          "height": 415
        },
        "outputId": "93185398-4ff7-49d4-ffcc-f5e3704fceb9"
      },
      "source": [
        "from IPython.display import display, Image\n",
        "\n",
        "url2 = 'https://fivethirtyeight.com/wp-content/uploads/2019/07/choi-foul-0625-2-1.png?w=575'\n",
        "example2 = Image(url=url2, width=400)\n",
        "\n",
        "display(example2)"
      ],
      "execution_count": 4,
      "outputs": [
        {
          "output_type": "display_data",
          "data": {
            "text/html": [
              "<img src=\"https://fivethirtyeight.com/wp-content/uploads/2019/07/choi-foul-0625-2-1.png?w=575\" width=\"400\"/>"
            ],
            "text/plain": [
              "<IPython.core.display.Image object>"
            ]
          },
          "metadata": {
            "tags": []
          }
        }
      ]
    },
    {
      "cell_type": "code",
      "metadata": {
        "id": "jBx7S4vVI0YX",
        "colab_type": "code",
        "colab": {
          "base_uri": "https://localhost:8080/",
          "height": 221
        },
        "outputId": "098a4829-d287-46c4-b997-3ce3435fefec"
      },
      "source": [
        "import pandas as pd\n",
        "\n",
        "df = pd.read_csv('https://raw.githubusercontent.com/fivethirtyeight/data/master/foul-balls/foul-balls.csv')\n",
        "\n",
        "print(df.shape)\n",
        "df.head()"
      ],
      "execution_count": 5,
      "outputs": [
        {
          "output_type": "stream",
          "text": [
            "(906, 7)\n"
          ],
          "name": "stdout"
        },
        {
          "output_type": "execute_result",
          "data": {
            "text/html": [
              "<div>\n",
              "<style scoped>\n",
              "    .dataframe tbody tr th:only-of-type {\n",
              "        vertical-align: middle;\n",
              "    }\n",
              "\n",
              "    .dataframe tbody tr th {\n",
              "        vertical-align: top;\n",
              "    }\n",
              "\n",
              "    .dataframe thead th {\n",
              "        text-align: right;\n",
              "    }\n",
              "</style>\n",
              "<table border=\"1\" class=\"dataframe\">\n",
              "  <thead>\n",
              "    <tr style=\"text-align: right;\">\n",
              "      <th></th>\n",
              "      <th>matchup</th>\n",
              "      <th>game_date</th>\n",
              "      <th>type_of_hit</th>\n",
              "      <th>exit_velocity</th>\n",
              "      <th>predicted_zone</th>\n",
              "      <th>camera_zone</th>\n",
              "      <th>used_zone</th>\n",
              "    </tr>\n",
              "  </thead>\n",
              "  <tbody>\n",
              "    <tr>\n",
              "      <th>0</th>\n",
              "      <td>Seattle Mariners VS Minnesota Twins</td>\n",
              "      <td>2019-05-18</td>\n",
              "      <td>Ground</td>\n",
              "      <td>NaN</td>\n",
              "      <td>1</td>\n",
              "      <td>1.0</td>\n",
              "      <td>1</td>\n",
              "    </tr>\n",
              "    <tr>\n",
              "      <th>1</th>\n",
              "      <td>Seattle Mariners VS Minnesota Twins</td>\n",
              "      <td>2019-05-18</td>\n",
              "      <td>Fly</td>\n",
              "      <td>NaN</td>\n",
              "      <td>4</td>\n",
              "      <td>NaN</td>\n",
              "      <td>4</td>\n",
              "    </tr>\n",
              "    <tr>\n",
              "      <th>2</th>\n",
              "      <td>Seattle Mariners VS Minnesota Twins</td>\n",
              "      <td>2019-05-18</td>\n",
              "      <td>Fly</td>\n",
              "      <td>56.9</td>\n",
              "      <td>4</td>\n",
              "      <td>NaN</td>\n",
              "      <td>4</td>\n",
              "    </tr>\n",
              "    <tr>\n",
              "      <th>3</th>\n",
              "      <td>Seattle Mariners VS Minnesota Twins</td>\n",
              "      <td>2019-05-18</td>\n",
              "      <td>Fly</td>\n",
              "      <td>78.8</td>\n",
              "      <td>1</td>\n",
              "      <td>1.0</td>\n",
              "      <td>1</td>\n",
              "    </tr>\n",
              "    <tr>\n",
              "      <th>4</th>\n",
              "      <td>Seattle Mariners VS Minnesota Twins</td>\n",
              "      <td>2019-05-18</td>\n",
              "      <td>Fly</td>\n",
              "      <td>NaN</td>\n",
              "      <td>2</td>\n",
              "      <td>NaN</td>\n",
              "      <td>2</td>\n",
              "    </tr>\n",
              "  </tbody>\n",
              "</table>\n",
              "</div>"
            ],
            "text/plain": [
              "                               matchup   game_date  ... camera_zone  used_zone\n",
              "0  Seattle Mariners VS Minnesota Twins  2019-05-18  ...         1.0          1\n",
              "1  Seattle Mariners VS Minnesota Twins  2019-05-18  ...         NaN          4\n",
              "2  Seattle Mariners VS Minnesota Twins  2019-05-18  ...         NaN          4\n",
              "3  Seattle Mariners VS Minnesota Twins  2019-05-18  ...         1.0          1\n",
              "4  Seattle Mariners VS Minnesota Twins  2019-05-18  ...         NaN          2\n",
              "\n",
              "[5 rows x 7 columns]"
            ]
          },
          "metadata": {
            "tags": []
          },
          "execution_count": 5
        }
      ]
    },
    {
      "cell_type": "code",
      "metadata": {
        "id": "0Gdgo9CVNmhD",
        "colab_type": "code",
        "colab": {
          "base_uri": "https://localhost:8080/",
          "height": 204
        },
        "outputId": "42ce2016-45b1-476a-be20-fede8258b7cc"
      },
      "source": [
        "# Dropping unnecessary columns.\n",
        "\n",
        "fouls = df.drop(['matchup', 'game_date', 'type_of_hit', 'predicted_zone', 'camera_zone'], axis=1)\n",
        "fouls.head()"
      ],
      "execution_count": 6,
      "outputs": [
        {
          "output_type": "execute_result",
          "data": {
            "text/html": [
              "<div>\n",
              "<style scoped>\n",
              "    .dataframe tbody tr th:only-of-type {\n",
              "        vertical-align: middle;\n",
              "    }\n",
              "\n",
              "    .dataframe tbody tr th {\n",
              "        vertical-align: top;\n",
              "    }\n",
              "\n",
              "    .dataframe thead th {\n",
              "        text-align: right;\n",
              "    }\n",
              "</style>\n",
              "<table border=\"1\" class=\"dataframe\">\n",
              "  <thead>\n",
              "    <tr style=\"text-align: right;\">\n",
              "      <th></th>\n",
              "      <th>exit_velocity</th>\n",
              "      <th>used_zone</th>\n",
              "    </tr>\n",
              "  </thead>\n",
              "  <tbody>\n",
              "    <tr>\n",
              "      <th>0</th>\n",
              "      <td>NaN</td>\n",
              "      <td>1</td>\n",
              "    </tr>\n",
              "    <tr>\n",
              "      <th>1</th>\n",
              "      <td>NaN</td>\n",
              "      <td>4</td>\n",
              "    </tr>\n",
              "    <tr>\n",
              "      <th>2</th>\n",
              "      <td>56.9</td>\n",
              "      <td>4</td>\n",
              "    </tr>\n",
              "    <tr>\n",
              "      <th>3</th>\n",
              "      <td>78.8</td>\n",
              "      <td>1</td>\n",
              "    </tr>\n",
              "    <tr>\n",
              "      <th>4</th>\n",
              "      <td>NaN</td>\n",
              "      <td>2</td>\n",
              "    </tr>\n",
              "  </tbody>\n",
              "</table>\n",
              "</div>"
            ],
            "text/plain": [
              "   exit_velocity  used_zone\n",
              "0            NaN          1\n",
              "1            NaN          4\n",
              "2           56.9          4\n",
              "3           78.8          1\n",
              "4            NaN          2"
            ]
          },
          "metadata": {
            "tags": []
          },
          "execution_count": 6
        }
      ]
    },
    {
      "cell_type": "code",
      "metadata": {
        "id": "DnwsYTIUOGZC",
        "colab_type": "code",
        "colab": {
          "base_uri": "https://localhost:8080/",
          "height": 323
        },
        "outputId": "f22f91a0-2d6e-482b-8c2b-e29dc2950527"
      },
      "source": [
        "# Now I need to split the dataset into three: velocity <90, velocity >= 90, and NaN.\n",
        "\n",
        "condition1 = (fouls['exit_velocity'] < 90)\n",
        "condition2 = (fouls['exit_velocity'] >= 90)\n",
        "condition3 = (fouls['exit_velocity'].isnull())\n",
        "\n",
        "slow = fouls.loc[condition1, ['exit_velocity', 'used_zone']]\n",
        "fast = fouls.loc[condition2, ['exit_velocity', 'used_zone']]\n",
        "unknown = fouls.loc[condition3, ['exit_velocity', 'used_zone']]\n",
        "\n",
        "print(slow.head())\n",
        "print(fast.head())\n",
        "print(unknown.head())"
      ],
      "execution_count": 7,
      "outputs": [
        {
          "output_type": "stream",
          "text": [
            "   exit_velocity  used_zone\n",
            "2           56.9          4\n",
            "3           78.8          1\n",
            "6           74.8          2\n",
            "8           70.7          4\n",
            "9           73.4          4\n",
            "    exit_velocity  used_zone\n",
            "14           95.9          5\n",
            "25          104.6          6\n",
            "26           96.2          4\n",
            "38          100.8          5\n",
            "56           92.1          5\n",
            "   exit_velocity  used_zone\n",
            "0            NaN          1\n",
            "1            NaN          4\n",
            "4            NaN          2\n",
            "5            NaN          1\n",
            "7            NaN          1\n"
          ],
          "name": "stdout"
        }
      ]
    },
    {
      "cell_type": "code",
      "metadata": {
        "id": "JBoi0VBLOwaC",
        "colab_type": "code",
        "colab": {
          "base_uri": "https://localhost:8080/",
          "height": 204
        },
        "outputId": "6b048876-1f8f-4577-b7c6-239caf726b6c"
      },
      "source": [
        "# Now I can finally get the data I need.\n",
        "\n",
        "data_slow = slow['used_zone'].value_counts().reset_index()\n",
        "data_slow = data_slow.rename(columns={'index': 'used_zone', 'used_zone': 'frequency'})\n",
        "\n",
        "data_fast = fast['used_zone'].value_counts().reset_index()\n",
        "data_fast = data_fast.rename(columns={'index': 'used_zone', 'used_zone': 'frequency'})\n",
        "\n",
        "data_unknown = unknown['used_zone'].value_counts().reset_index()\n",
        "data_unknown = data_unknown.rename(columns={'index': 'used_zone', 'used_zone': 'frequency'})\n",
        "\n",
        "data_slow.head()"
      ],
      "execution_count": 8,
      "outputs": [
        {
          "output_type": "execute_result",
          "data": {
            "text/html": [
              "<div>\n",
              "<style scoped>\n",
              "    .dataframe tbody tr th:only-of-type {\n",
              "        vertical-align: middle;\n",
              "    }\n",
              "\n",
              "    .dataframe tbody tr th {\n",
              "        vertical-align: top;\n",
              "    }\n",
              "\n",
              "    .dataframe thead th {\n",
              "        text-align: right;\n",
              "    }\n",
              "</style>\n",
              "<table border=\"1\" class=\"dataframe\">\n",
              "  <thead>\n",
              "    <tr style=\"text-align: right;\">\n",
              "      <th></th>\n",
              "      <th>used_zone</th>\n",
              "      <th>frequency</th>\n",
              "    </tr>\n",
              "  </thead>\n",
              "  <tbody>\n",
              "    <tr>\n",
              "      <th>0</th>\n",
              "      <td>1</td>\n",
              "      <td>152</td>\n",
              "    </tr>\n",
              "    <tr>\n",
              "      <th>1</th>\n",
              "      <td>4</td>\n",
              "      <td>129</td>\n",
              "    </tr>\n",
              "    <tr>\n",
              "      <th>2</th>\n",
              "      <td>5</td>\n",
              "      <td>122</td>\n",
              "    </tr>\n",
              "    <tr>\n",
              "      <th>3</th>\n",
              "      <td>2</td>\n",
              "      <td>53</td>\n",
              "    </tr>\n",
              "    <tr>\n",
              "      <th>4</th>\n",
              "      <td>3</td>\n",
              "      <td>50</td>\n",
              "    </tr>\n",
              "  </tbody>\n",
              "</table>\n",
              "</div>"
            ],
            "text/plain": [
              "   used_zone  frequency\n",
              "0          1        152\n",
              "1          4        129\n",
              "2          5        122\n",
              "3          2         53\n",
              "4          3         50"
            ]
          },
          "metadata": {
            "tags": []
          },
          "execution_count": 8
        }
      ]
    },
    {
      "cell_type": "code",
      "metadata": {
        "id": "0wfa6eKWUFP3",
        "colab_type": "code",
        "colab": {}
      },
      "source": [
        "# I did research on stacked bar graphs and found this article: https://pstblog.com/2016/10/04/stacked-charts\n",
        "# To get the proper pivot table, I need to add a column that labels each dataframe and then concatenate them all together.\n",
        "\n",
        "data_slow['Type'] = 'Slow'\n",
        "data_slow = data_slow.rename(columns={'Type': 'type'})\n",
        "data_slow.head()\n",
        "data_fast['type'] = 'Fast'\n",
        "data_unknown['type'] = 'Unknown'"
      ],
      "execution_count": 0,
      "outputs": []
    },
    {
      "cell_type": "code",
      "metadata": {
        "id": "H2m1UiYsWb28",
        "colab_type": "code",
        "colab": {
          "base_uri": "https://localhost:8080/",
          "height": 514
        },
        "outputId": "9cd3bc5d-95e2-4b81-8524-ce96aa2c77e2"
      },
      "source": [
        "# Now to concatenate!\n",
        "\n",
        "final = pd.concat([data_slow, data_fast, data_unknown])\n",
        "final"
      ],
      "execution_count": 13,
      "outputs": [
        {
          "output_type": "execute_result",
          "data": {
            "text/html": [
              "<div>\n",
              "<style scoped>\n",
              "    .dataframe tbody tr th:only-of-type {\n",
              "        vertical-align: middle;\n",
              "    }\n",
              "\n",
              "    .dataframe tbody tr th {\n",
              "        vertical-align: top;\n",
              "    }\n",
              "\n",
              "    .dataframe thead th {\n",
              "        text-align: right;\n",
              "    }\n",
              "</style>\n",
              "<table border=\"1\" class=\"dataframe\">\n",
              "  <thead>\n",
              "    <tr style=\"text-align: right;\">\n",
              "      <th></th>\n",
              "      <th>used_zone</th>\n",
              "      <th>frequency</th>\n",
              "      <th>type</th>\n",
              "    </tr>\n",
              "  </thead>\n",
              "  <tbody>\n",
              "    <tr>\n",
              "      <th>0</th>\n",
              "      <td>1</td>\n",
              "      <td>152</td>\n",
              "      <td>Slow</td>\n",
              "    </tr>\n",
              "    <tr>\n",
              "      <th>1</th>\n",
              "      <td>4</td>\n",
              "      <td>129</td>\n",
              "      <td>Slow</td>\n",
              "    </tr>\n",
              "    <tr>\n",
              "      <th>2</th>\n",
              "      <td>5</td>\n",
              "      <td>122</td>\n",
              "      <td>Slow</td>\n",
              "    </tr>\n",
              "    <tr>\n",
              "      <th>3</th>\n",
              "      <td>2</td>\n",
              "      <td>53</td>\n",
              "      <td>Slow</td>\n",
              "    </tr>\n",
              "    <tr>\n",
              "      <th>4</th>\n",
              "      <td>3</td>\n",
              "      <td>50</td>\n",
              "      <td>Slow</td>\n",
              "    </tr>\n",
              "    <tr>\n",
              "      <th>0</th>\n",
              "      <td>5</td>\n",
              "      <td>36</td>\n",
              "      <td>Fast</td>\n",
              "    </tr>\n",
              "    <tr>\n",
              "      <th>1</th>\n",
              "      <td>4</td>\n",
              "      <td>26</td>\n",
              "      <td>Fast</td>\n",
              "    </tr>\n",
              "    <tr>\n",
              "      <th>2</th>\n",
              "      <td>6</td>\n",
              "      <td>6</td>\n",
              "      <td>Fast</td>\n",
              "    </tr>\n",
              "    <tr>\n",
              "      <th>3</th>\n",
              "      <td>7</td>\n",
              "      <td>5</td>\n",
              "      <td>Fast</td>\n",
              "    </tr>\n",
              "    <tr>\n",
              "      <th>4</th>\n",
              "      <td>1</td>\n",
              "      <td>1</td>\n",
              "      <td>Fast</td>\n",
              "    </tr>\n",
              "    <tr>\n",
              "      <th>0</th>\n",
              "      <td>1</td>\n",
              "      <td>125</td>\n",
              "      <td>Unknown</td>\n",
              "    </tr>\n",
              "    <tr>\n",
              "      <th>1</th>\n",
              "      <td>5</td>\n",
              "      <td>68</td>\n",
              "      <td>Unknown</td>\n",
              "    </tr>\n",
              "    <tr>\n",
              "      <th>2</th>\n",
              "      <td>4</td>\n",
              "      <td>60</td>\n",
              "      <td>Unknown</td>\n",
              "    </tr>\n",
              "    <tr>\n",
              "      <th>3</th>\n",
              "      <td>2</td>\n",
              "      <td>43</td>\n",
              "      <td>Unknown</td>\n",
              "    </tr>\n",
              "    <tr>\n",
              "      <th>4</th>\n",
              "      <td>3</td>\n",
              "      <td>30</td>\n",
              "      <td>Unknown</td>\n",
              "    </tr>\n",
              "  </tbody>\n",
              "</table>\n",
              "</div>"
            ],
            "text/plain": [
              "   used_zone  frequency     type\n",
              "0          1        152     Slow\n",
              "1          4        129     Slow\n",
              "2          5        122     Slow\n",
              "3          2         53     Slow\n",
              "4          3         50     Slow\n",
              "0          5         36     Fast\n",
              "1          4         26     Fast\n",
              "2          6          6     Fast\n",
              "3          7          5     Fast\n",
              "4          1          1     Fast\n",
              "0          1        125  Unknown\n",
              "1          5         68  Unknown\n",
              "2          4         60  Unknown\n",
              "3          2         43  Unknown\n",
              "4          3         30  Unknown"
            ]
          },
          "metadata": {
            "tags": []
          },
          "execution_count": 13
        }
      ]
    },
    {
      "cell_type": "code",
      "metadata": {
        "id": "nwi6aUe8WrlN",
        "colab_type": "code",
        "colab": {
          "base_uri": "https://localhost:8080/",
          "height": 297
        },
        "outputId": "ffa0df76-85ff-4ea3-d617-65acba02a9c8"
      },
      "source": [
        "# And now, finally, to pivot table! (I also re-order the columns to get the same order as the 538 graph.)\n",
        "\n",
        "data = final.pivot(index='used_zone', columns='type', values='frequency')\n",
        "data = data[['Slow', 'Fast', 'Unknown']]\n",
        "data"
      ],
      "execution_count": 16,
      "outputs": [
        {
          "output_type": "execute_result",
          "data": {
            "text/html": [
              "<div>\n",
              "<style scoped>\n",
              "    .dataframe tbody tr th:only-of-type {\n",
              "        vertical-align: middle;\n",
              "    }\n",
              "\n",
              "    .dataframe tbody tr th {\n",
              "        vertical-align: top;\n",
              "    }\n",
              "\n",
              "    .dataframe thead th {\n",
              "        text-align: right;\n",
              "    }\n",
              "</style>\n",
              "<table border=\"1\" class=\"dataframe\">\n",
              "  <thead>\n",
              "    <tr style=\"text-align: right;\">\n",
              "      <th>type</th>\n",
              "      <th>Slow</th>\n",
              "      <th>Fast</th>\n",
              "      <th>Unknown</th>\n",
              "    </tr>\n",
              "    <tr>\n",
              "      <th>used_zone</th>\n",
              "      <th></th>\n",
              "      <th></th>\n",
              "      <th></th>\n",
              "    </tr>\n",
              "  </thead>\n",
              "  <tbody>\n",
              "    <tr>\n",
              "      <th>1</th>\n",
              "      <td>152.0</td>\n",
              "      <td>1.0</td>\n",
              "      <td>125.0</td>\n",
              "    </tr>\n",
              "    <tr>\n",
              "      <th>2</th>\n",
              "      <td>53.0</td>\n",
              "      <td>NaN</td>\n",
              "      <td>43.0</td>\n",
              "    </tr>\n",
              "    <tr>\n",
              "      <th>3</th>\n",
              "      <td>50.0</td>\n",
              "      <td>NaN</td>\n",
              "      <td>30.0</td>\n",
              "    </tr>\n",
              "    <tr>\n",
              "      <th>4</th>\n",
              "      <td>129.0</td>\n",
              "      <td>26.0</td>\n",
              "      <td>60.0</td>\n",
              "    </tr>\n",
              "    <tr>\n",
              "      <th>5</th>\n",
              "      <td>122.0</td>\n",
              "      <td>36.0</td>\n",
              "      <td>68.0</td>\n",
              "    </tr>\n",
              "    <tr>\n",
              "      <th>6</th>\n",
              "      <td>NaN</td>\n",
              "      <td>6.0</td>\n",
              "      <td>NaN</td>\n",
              "    </tr>\n",
              "    <tr>\n",
              "      <th>7</th>\n",
              "      <td>NaN</td>\n",
              "      <td>5.0</td>\n",
              "      <td>NaN</td>\n",
              "    </tr>\n",
              "  </tbody>\n",
              "</table>\n",
              "</div>"
            ],
            "text/plain": [
              "type        Slow  Fast  Unknown\n",
              "used_zone                      \n",
              "1          152.0   1.0    125.0\n",
              "2           53.0   NaN     43.0\n",
              "3           50.0   NaN     30.0\n",
              "4          129.0  26.0     60.0\n",
              "5          122.0  36.0     68.0\n",
              "6            NaN   6.0      NaN\n",
              "7            NaN   5.0      NaN"
            ]
          },
          "metadata": {
            "tags": []
          },
          "execution_count": 16
        }
      ]
    },
    {
      "cell_type": "code",
      "metadata": {
        "id": "G2m08sg7Q9fL",
        "colab_type": "code",
        "colab": {
          "base_uri": "https://localhost:8080/",
          "height": 424
        },
        "outputId": "9b24e0c6-b0b4-4d14-8bef-b7b43a61f172"
      },
      "source": [
        "# And now, to graph!\n",
        "\n",
        "import numpy as np\n",
        "import matplotlib.pyplot as plt\n",
        "%matplotlib inline\n",
        "\n",
        "fig, ax = plt.subplots()\n",
        "\n",
        "fig.set_size_inches(6,5)\n",
        "\n",
        "data.plot.barh(stacked=True, color=['#97C16D', '#63ABB0', '#D3D3D3'], width=0.75, ax=ax)\n",
        "ax.set(facecolor='white')\n",
        "\n",
        "ax.set_xlim(0,299)\n",
        "ax.set_ylim(6.5, -0.8)\n",
        "\n",
        "ax.spines['left'].set_color('black')\n",
        "ax.spines['left'].set_linewidth(1.3)\n",
        "ax.spines['right'].set_visible(False)\n",
        "ax.spines['bottom'].set_visible(False)\n",
        "ax.spines['top'].set_visible(False)\n",
        "\n",
        "ax.text(x=-32, y=-3.8, s='The hardest-hit fouls seem to land in unprotected areas', fontweight='bold', fontsize=12)\n",
        "ax.text(x=-32, y=-3.3, s='Foul balls by the stadium zone they landed in and their exit velocity, among', fontsize=10.5)\n",
        "ax.text(x=-32, y=-2.8, s='906 fouls hit this season in the most foul-heavy day at the 10 MLB', fontsize=10.5)\n",
        "ax.text(x=-32, y=-2.3, s='stadiums that produced the most fouls as of June 5', fontsize=10.5)\n",
        "\n",
        "ax.text(x=54, y=0.1, s='< 90 mph', color='white', fontweight='bold')\n",
        "ax.text(x=165, y=0.1, s='Unknown exit velocity', fontweight='bold', color='white')\n",
        "ax.text(x=118, y=2.55, s='\\u2265 90 mph', color='#63ABB0', fontweight='bold')\n",
        "\n",
        "ax.set_yticklabels(['',2,3,4,5,6,7], fontweight='bold')\n",
        "ax.text(x=-32, y=0, s='Zone 1', fontweight='bold', fontsize=10)\n",
        "\n",
        "ax.set_xticklabels([0,50,100,150,200,250], color='#999999')\n",
        "\n",
        "ax.xaxis.tick_top()\n",
        "\n",
        "ax.set_ylabel('')\n",
        "\n",
        "ax.grid(axis='y', visible=False)\n",
        "ax.grid(axis='x', linestyle='dotted')\n",
        "\n",
        "ax.get_legend().remove()\n",
        "\n",
        "from matplotlib.offsetbox import TextArea, DrawingArea, OffsetImage, AnnotationBbox\n",
        "import matplotlib.image as mpimg\n",
        "\n",
        "img = mpimg.imread('mlb-zones.png')\n",
        "imagebox = OffsetImage(img, zoom=0.7)\n",
        "ab = AnnotationBbox(imagebox, (225, 5.6), frameon=False)\n",
        "ax.add_artist(ab)\n",
        "\n",
        "plt.show()"
      ],
      "execution_count": 167,
      "outputs": [
        {
          "output_type": "display_data",
          "data": {
            "image/png": "[encoded data removed]",
            "text/plain": [
              "<Figure size 432x360 with 1 Axes>"
            ]
          },
          "metadata": {
            "tags": []
          }
        }
      ]
    },
    {
      "cell_type": "code",
      "metadata": {
        "id": "z_wl_4ExbCCr",
        "colab_type": "code",
        "colab": {
          "base_uri": "https://localhost:8080/",
          "height": 415
        },
        "outputId": "cb3e8c62-1052-4514-cd1c-4e16eef10e91"
      },
      "source": [
        "display(example2)"
      ],
      "execution_count": 39,
      "outputs": [
        {
          "output_type": "display_data",
          "data": {
            "text/html": [
              "<img src=\"https://fivethirtyeight.com/wp-content/uploads/2019/07/choi-foul-0625-2-1.png?w=575\" width=\"400\"/>"
            ],
            "text/plain": [
              "<IPython.core.display.Image object>"
            ]
          },
          "metadata": {
            "tags": []
          }
        }
      ]
    },
    {
      "cell_type": "markdown",
      "metadata": {
        "id": "0wSrBzmJyWaV",
        "colab_type": "text"
      },
      "source": [
        "# STRETCH OPTIONS\n",
        "\n",
        "### 1) Reproduce one of the following using the matplotlib or seaborn libraries:\n",
        "\n",
        "- [thanksgiving-2015](https://fivethirtyeight.com/features/heres-what-your-part-of-america-eats-on-thanksgiving/) \n",
        "- [candy-power-ranking](https://fivethirtyeight.com/features/the-ultimate-halloween-candy-power-ranking/) \n",
        "- or another example of your choice!\n",
        "\n",
        "### 2) Make more charts!\n",
        "\n",
        "Choose a chart you want to make, from [Visual Vocabulary - Vega Edition](http://ft.com/vocabulary).\n",
        "\n",
        "Find the chart in an example gallery of a Python data visualization library:\n",
        "- [Seaborn](http://seaborn.pydata.org/examples/index.html)\n",
        "- [Altair](https://altair-viz.github.io/gallery/index.html)\n",
        "- [Matplotlib](https://matplotlib.org/gallery.html)\n",
        "- [Pandas](https://pandas.pydata.org/pandas-docs/stable/visualization.html)\n",
        "\n",
        "Reproduce the chart. [Optionally, try the \"Ben Franklin Method.\"](https://docs.google.com/document/d/1ubOw9B3Hfip27hF2ZFnW3a3z9xAgrUDRReOEo-FHCVs/edit) If you want, experiment and make changes.\n",
        "\n",
        "Take notes. Consider sharing your work with your cohort!"
      ]
    },
    {
      "cell_type": "code",
      "metadata": {
        "id": "dRJkKftiy5BJ",
        "colab_type": "code",
        "colab": {}
      },
      "source": [
        "# More Work Here"
      ],
      "execution_count": 0,
      "outputs": []
    }
  ]
}