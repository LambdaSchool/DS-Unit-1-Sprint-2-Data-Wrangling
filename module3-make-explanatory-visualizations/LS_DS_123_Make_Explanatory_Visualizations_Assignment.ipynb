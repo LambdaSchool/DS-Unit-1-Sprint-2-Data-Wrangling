{
  "nbformat": 4,
  "nbformat_minor": 0,
  "metadata": {
    "colab": {
      "name": "LS_DS_123_Make_Explanatory_Visualizations_Assignment.ipynb",
      "version": "0.3.2",
      "provenance": [],
      "collapsed_sections": [],
      "include_colab_link": true
    },
    "language_info": {
      "codemirror_mode": {
        "name": "ipython",
        "version": 3
      },
      "file_extension": ".py",
      "mimetype": "text/x-python",
      "name": "python",
      "nbconvert_exporter": "python",
      "pygments_lexer": "ipython3",
      "version": "3.7.1"
    },
    "kernelspec": {
      "display_name": "Python 3",
      "language": "python",
      "name": "python3"
    }
  },
  "cells": [
    {
      "cell_type": "markdown",
      "metadata": {
        "id": "view-in-github",
        "colab_type": "text"
      },
      "source": [
        "<a href=\"https://colab.research.google.com/github/Pdugovich/DS-Unit-1-Sprint-2-Data-Wrangling-and-Storytelling/blob/master/module3-make-explanatory-visualizations/LS_DS_123_Make_Explanatory_Visualizations_Assignment.ipynb\" target=\"_parent\"><img src=\"https://colab.research.google.com/assets/colab-badge.svg\" alt=\"Open In Colab\"/></a>"
      ]
    },
    {
      "cell_type": "markdown",
      "metadata": {
        "colab_type": "text",
        "id": "NMEswXWh9mqw"
      },
      "source": [
        "# ASSIGNMENT\n",
        "\n",
        "### 1) Replicate the lesson code. I recommend that you [do not copy-paste](https://docs.google.com/document/d/1ubOw9B3Hfip27hF2ZFnW3a3z9xAgrUDRReOEo-FHCVs/edit).\n",
        "\n",
        "Get caught up to where we got our example in class and then try and take things further. How close to \"pixel perfect\" can you make the lecture graph?\n",
        "\n",
        "Once you have something that you're proud of, share your graph in the cohort channel and move on to the second exercise.\n",
        "\n",
        "### 2) Reproduce another example from [FiveThityEight's shared data repository](https://data.fivethirtyeight.com/).\n",
        "\n",
        "**WARNING**: There are a lot of very custom graphs and tables at the above link. I **highly** recommend not trying to reproduce any that look like a table of values or something really different from the graph types that we are already familiar with. Search through the posts until you find a graph type that you are more or less familiar with: histogram, bar chart, stacked bar chart, line chart, [seaborn relplot](https://seaborn.pydata.org/generated/seaborn.relplot.html), etc. Recreating some of the graphics that 538 uses would be a lot easier in Adobe photoshop/illustrator than with matplotlib. \n",
        "\n",
        "- If you put in some time to find a graph that looks \"easy\" to replicate you'll probably find that it's not as easy as you thought. \n",
        "\n",
        "- If you start with a graph that looks hard to replicate you'll probably run up against a brick wall and be disappointed with your afternoon.\n",
        "\n",
        "\n",
        "\n",
        "\n",
        "\n",
        "\n",
        "\n",
        "\n",
        "\n",
        "\n"
      ]
    },
    {
      "cell_type": "markdown",
      "metadata": {
        "id": "r29kySAxeAsr",
        "colab_type": "text"
      },
      "source": [
        "## Replicating the Lesson Code"
      ]
    },
    {
      "cell_type": "code",
      "metadata": {
        "id": "I1njiOyla20f",
        "colab_type": "code",
        "outputId": "91de8554-79f2-490d-b99a-eecd48d68092",
        "colab": {
          "base_uri": "https://localhost:8080/",
          "height": 355
        }
      },
      "source": [
        "#copying over text cells from my copy of lecture notebook\n",
        "from IPython.display import display, Image\n",
        "\n",
        "url = 'https://fivethirtyeight.com/wp-content/uploads/2017/09/mehtahickey-inconvenient-0830-1.png'\n",
        "example = Image(url=url, width=400)\n",
        "\n",
        "display(example)"
      ],
      "execution_count": 2,
      "outputs": [
        {
          "output_type": "display_data",
          "data": {
            "text/html": [
              "<img src=\"https://fivethirtyeight.com/wp-content/uploads/2017/09/mehtahickey-inconvenient-0830-1.png\" width=\"400\"/>"
            ],
            "text/plain": [
              "<IPython.core.display.Image object>"
            ]
          },
          "metadata": {
            "tags": []
          }
        }
      ]
    },
    {
      "cell_type": "code",
      "metadata": {
        "id": "dOhpG4S2T0oG",
        "colab_type": "code",
        "outputId": "7f464ed1-0564-492a-f795-a311027d63c4",
        "colab": {
          "base_uri": "https://localhost:8080/",
          "height": 271
        }
      },
      "source": [
        "%matplotlib inline\n",
        "import matplotlib.pyplot as plt\n",
        "import numpy as np\n",
        "import pandas as pd\n",
        "\n",
        "\n",
        "# plt.stule.use('fivethirtyeight')\n",
        "\n",
        "fake = pd.Series([38, 3, 2, 1, 2, 4, 6, 5, 5, 33], \n",
        "                 index=range(1,11))\n",
        "#color='C1', width=0.9\n",
        "fake.plot.bar(color='C9', width=0.9);"
      ],
      "execution_count": 3,
      "outputs": [
        {
          "output_type": "display_data",
          "data": {
            "image/png": "[encoded data removed]",
            "text/plain": [
              "<Figure size 432x288 with 1 Axes>"
            ]
          },
          "metadata": {
            "tags": []
          }
        }
      ]
    },
    {
      "cell_type": "code",
      "metadata": {
        "id": "xR3P8WdOT7pc",
        "colab_type": "code",
        "outputId": "4f817794-4d90-4af3-bbce-ff0d4b9d324d",
        "colab": {
          "base_uri": "https://localhost:8080/",
          "height": 271
        }
      },
      "source": [
        "fake2 = pd.Series(\n",
        "    [1, 1, 1, 1, 1, 1, 1, 1, 1, 1, 1, 1, 1, 1, 1, 1, 1, 1, 1, 1, 1, 1, 1, 1,\n",
        "     2, 2, 2, \n",
        "     3, 3, 3,\n",
        "     4, 4,\n",
        "     5, 5, 5,\n",
        "     6, 6, 6, 6,\n",
        "     7, 7, 7, 7, 7,\n",
        "     8, 8, 8, 8,\n",
        "     9, 9, 9, 9, \n",
        "     10, 10, 10, 10, 10, 10, 10, 10, 10, 10, 10, 10, 10, 10, 10, 10, 10, 10])\n",
        "\n",
        "fake2.value_counts().sort_index().plot.bar(color='C1', width=0.9);\n",
        "\n",
        "#ax.grid(True)"
      ],
      "execution_count": 4,
      "outputs": [
        {
          "output_type": "display_data",
          "data": {
            "image/png": "[encoded data removed]",
            "text/plain": [
              "<Figure size 432x288 with 1 Axes>"
            ]
          },
          "metadata": {
            "tags": []
          }
        }
      ]
    },
    {
      "cell_type": "code",
      "metadata": {
        "id": "7SY1ZHawyZvz",
        "colab_type": "code",
        "outputId": "fc8d134f-d9f3-4e33-f30e-ddaec590a905",
        "colab": {
          "base_uri": "https://localhost:8080/",
          "height": 380
        }
      },
      "source": [
        "import matplotlib.pyplot as plt\n",
        "\n",
        "# plt.style.use('fivethirtyeight')\n",
        "\n",
        "#Generage figure and ax\n",
        "#Better idea to split up fig and ax instead of using plt. way\n",
        "\n",
        "fig = plt.figure()\n",
        "ax = fake.plot.bar(color='#ED713A', width=0.9)\n",
        "ax.set(facecolor='white')\n",
        "fig.set(facecolor='white')\n",
        "# he is also doing fig.patch.set(facecolor='white)\n",
        "ax.set_alpha(0)\n",
        "\n",
        "#Changing color and width of grid\n",
        "ax.grid(color='#E3E3E3', lw=1.2)\n",
        "\n",
        "# fig.suptitle('test title')\n",
        "# ax.text(x=4, y=20, s='Axis Title String')\n",
        "# ax.set_title('ax.set_title')\n",
        "# plt.title('plt title')\n",
        "\n",
        "# If we want a really custom title\n",
        "# We can just use a text annotation and position it like a title\n",
        "# matplotlib.pyplot.text search\n",
        "# When looking at documentation. Look at the OTHER PARAMETERS section\n",
        "# Pay attention to these *Kwargs\n",
        "ax.text(x=-2, y=47, s=\"'An Inconvenient Sequel: Truth to Power' is divisive\",\n",
        "        fontweight='bold',\n",
        "        fontsize=12.5)\n",
        "ax.text(x=-2, y=44, s=\"IMDb ratings for the film as of Aug. 29\",\n",
        "        fontsize=11.5,\n",
        "        fontname='Bitstream Vera Sans Mono')\n",
        "\n",
        "#setting X and Y label\n",
        "#Important to note that these are just text objects that have been rotated\n",
        "ax.set_ylabel('Percent of total votes',\n",
        "              fontsize=9,\n",
        "              fontweight='bold',\n",
        "              labelpad=10)\n",
        "ax.set_xlabel('Rating',\n",
        "              fontsize=9.5,\n",
        "              fontweight='bold',\n",
        "              labelpad=10)\n",
        "\n",
        "# fix our tick labels\n",
        "ax.set_xticklabels(range(1,11), rotation=0, color='#A7A7A7',\n",
        "                   fontsize=9)\n",
        "ax.set_yticklabels(['0  ','10  ','20  ','30  ','40%'], color='#A7A7A7',\n",
        "                   fontsize=9)\n",
        "#This only sets the albels, so we need to set the ticks for the y label\n",
        "ax.set_yticks(range(0,50,10))\n",
        "\n",
        "# This removes the left and right sides of the grid\n",
        "ax.spines['right'].set_visible=False\n",
        "ax.spines['left'].set_visible=False\n",
        "ax.spines['bottom'].set_visible=True\n",
        "# This removes the random border around the graph. No idea why it was there\n",
        "plt.box(on=None) \n",
        "# Messing with the grid line length\n",
        "#ax.margins(.09) \n",
        "# .margins() only helped extend the top and bottom. set x/ylim worked\n",
        "ax.set_xlim(left=-.6,right=9.6)\n",
        "ax.set_ylim(bottom=-2,top=40.25)\n",
        "\n",
        "#When I copied over the above portion, for some reason the grid lines\n",
        "#were showing through\n",
        "ax.set_axisbelow(b=True)\n",
        "\n",
        "#Also, the tick marks were showing up as black dashes next to the ticks\n",
        "ax.tick_params(axis='both', size=0)\n",
        "\n",
        "#need either this or ; at the end to show graph w/o the extra text above\n",
        "plt.show()"
      ],
      "execution_count": 5,
      "outputs": [
        {
          "output_type": "stream",
          "text": [
            "/usr/local/lib/python3.6/dist-packages/matplotlib/font_manager.py:1241: UserWarning: findfont: Font family ['Bitstream Vera Sans Mono'] not found. Falling back to DejaVu Sans.\n",
            "  (prop.get_family(), self.defaultFamily[fontext]))\n"
          ],
          "name": "stderr"
        },
        {
          "output_type": "display_data",
          "data": {
            "image/png": "[encoded data removed]",
            "text/plain": [
              "<Figure size 432x288 with 1 Axes>"
            ]
          },
          "metadata": {
            "tags": []
          }
        }
      ]
    },
    {
      "cell_type": "code",
      "metadata": {
        "id": "qLXguT9VdSy4",
        "colab_type": "code",
        "outputId": "306d2796-f801-47d2-8262-3ff4af84db7a",
        "colab": {
          "base_uri": "https://localhost:8080/",
          "height": 355
        }
      },
      "source": [
        "display(example)"
      ],
      "execution_count": 6,
      "outputs": [
        {
          "output_type": "display_data",
          "data": {
            "text/html": [
              "<img src=\"https://fivethirtyeight.com/wp-content/uploads/2017/09/mehtahickey-inconvenient-0830-1.png\" width=\"400\"/>"
            ],
            "text/plain": [
              "<IPython.core.display.Image object>"
            ]
          },
          "metadata": {
            "tags": []
          }
        }
      ]
    },
    {
      "cell_type": "markdown",
      "metadata": {
        "id": "k21xGBgbeG5l",
        "colab_type": "text"
      },
      "source": [
        "# Another FiveThirtyEight Example"
      ]
    },
    {
      "cell_type": "code",
      "metadata": {
        "id": "68jtZG9feMpU",
        "colab_type": "code",
        "outputId": "77490227-1ec7-49fe-dad0-f84c520f85fa",
        "colab": {
          "base_uri": "https://localhost:8080/",
          "height": 388
        }
      },
      "source": [
        "url2 = 'https://fivethirtyeight.com/wp-content/uploads/2015/11/bialik-datalab-parisattacks-3.png?w=575'\n",
        "example2 = Image(url=url2, width=500)\n",
        "\n",
        "display(example2)"
      ],
      "execution_count": 7,
      "outputs": [
        {
          "output_type": "display_data",
          "data": {
            "text/html": [
              "<img src=\"https://fivethirtyeight.com/wp-content/uploads/2015/11/bialik-datalab-parisattacks-3.png?w=575\" width=\"500\"/>"
            ],
            "text/plain": [
              "<IPython.core.display.Image object>"
            ]
          },
          "metadata": {
            "tags": []
          }
        }
      ]
    },
    {
      "cell_type": "code",
      "metadata": {
        "id": "z2uutQiKuw8O",
        "colab_type": "code",
        "colab": {}
      },
      "source": [
        "# Fake data to replicate the graph\n",
        "fr_arrests = [90,80,45,100,55,95,140,190]\n",
        "non_fr_arrests = [110,110,65,80,65,55,80,205]\n",
        "total_eu_arrests = [200,190,110,180,120,150,220,395]\n",
        "#Leading with empty spaces to have them line up with the original better\n",
        "years = ['2007',\" '08\",\" '09\",\" '10\",\" '11\",\" '12\",\" '13\",\" '14\"]"
      ],
      "execution_count": 0,
      "outputs": []
    },
    {
      "cell_type": "code",
      "metadata": {
        "id": "MgtspsKnvQPp",
        "colab_type": "code",
        "outputId": "5671f540-3ecd-4257-a143-9efc93694fc3",
        "colab": {
          "base_uri": "https://localhost:8080/",
          "height": 343
        }
      },
      "source": [
        "#Creating subplots to stack\n",
        "fig, ax = plt.subplots(figsize=(8,5))\n",
        "#Stacking remaining EU arrests on France arrests\n",
        "ax.stackplot(years,fr_arrests,non_fr_arrests)\n",
        "#Showing the grid in the background\n",
        "ax.grid(color='#D4D4D4', lw=1.3,alpha=0.55)\n",
        "#Creating a title\n",
        "ax.text(x=-0.95, y=450, s='Arrests For Religiously Inspired Terrorism',\n",
        "        color='#414141',\n",
        "        fontsize=16,\n",
        "        fontweight='bold',\n",
        "        family='sans-serif')\n",
        "#Text in graph\n",
        "ax.text(x=.35, y=230, s='All European Union',\n",
        "        color='#FFA999',\n",
        "        fontsize=13,\n",
        "        fontweight='bold',\n",
        "        family='sans-serif')\n",
        "ax.text(x=1.5, y=80, s='France',\n",
        "        color='#FF2600',\n",
        "        fontsize=13,\n",
        "        fontweight='bold',\n",
        "        family='sans-serif')\n",
        "#Filling in with different colors\n",
        "ax.fill_between(years,fr_arrests,y2=0, color='#FF2600')\n",
        "ax.fill_between(years,total_eu_arrests,fr_arrests, color='#FFA999')\n",
        "\n",
        "#Adjusting tick labels\n",
        "ax.set_xticklabels(labels=years,color='#5C5E5F',fontsize=12,family='sans-serif')\n",
        "ax.set_yticklabels(labels=(range(-100,500,100)),color='#5C5E5F',fontsize=12)\n",
        "#Changing figure and axis background to colormatch the example\n",
        "fig.set(facecolor='#F0F0F0');\n",
        "ax.set(facecolor='#F0F0F0')\n",
        "\n",
        "#Setting the grid behind the information on the graph \n",
        "ax.set_axisbelow(b=True)\n",
        "\n",
        "#Extending the grid above and below the graph\n",
        "ax.set_xlim(left=-0.5 ,right=7.5)\n",
        "ax.set_ylim(bottom=-30,top=430)\n",
        "\n",
        "#Removing the border\n",
        "plt.box(on=None)\n",
        "\n",
        "#Removing the tick marks\n",
        "ax.tick_params(axis='both', size=0)\n",
        "\n",
        "#Not sure how to bold just the y=0 axis, so adding another line\n",
        "plt.axhline(0,color='black',lw=.7)\n",
        "#ax.spines['bottom'].set_visible=False\n",
        "\n",
        "plt.show()"
      ],
      "execution_count": 147,
      "outputs": [
        {
          "output_type": "display_data",
          "data": {
            "image/png": "[encoded data removed]",
            "text/plain": [
              "<Figure size 576x360 with 1 Axes>"
            ]
          },
          "metadata": {
            "tags": []
          }
        }
      ]
    },
    {
      "cell_type": "code",
      "metadata": {
        "id": "Cd7VYQ9VIqU9",
        "colab_type": "code",
        "colab": {
          "base_uri": "https://localhost:8080/",
          "height": 388
        },
        "outputId": "88d8b608-4347-4e80-fba9-804e37f3ae0b"
      },
      "source": [
        "display(example2)"
      ],
      "execution_count": 54,
      "outputs": [
        {
          "output_type": "display_data",
          "data": {
            "text/html": [
              "<img src=\"https://fivethirtyeight.com/wp-content/uploads/2015/11/bialik-datalab-parisattacks-3.png?w=575\" width=\"500\"/>"
            ],
            "text/plain": [
              "<IPython.core.display.Image object>"
            ]
          },
          "metadata": {
            "tags": []
          }
        }
      ]
    },
    {
      "cell_type": "markdown",
      "metadata": {
        "id": "0wSrBzmJyWaV",
        "colab_type": "text"
      },
      "source": [
        "# STRETCH OPTIONS\n",
        "\n",
        "### 1) Reproduce one of the following using the matplotlib or seaborn libraries:\n",
        "\n",
        "- [thanksgiving-2015](https://fivethirtyeight.com/features/heres-what-your-part-of-america-eats-on-thanksgiving/) \n",
        "- [candy-power-ranking](https://fivethirtyeight.com/features/the-ultimate-halloween-candy-power-ranking/) \n",
        "- or another example of your choice!\n",
        "\n",
        "### 2) Make more charts!\n",
        "\n",
        "Choose a chart you want to make, from [Visual Vocabulary - Vega Edition](http://ft.com/vocabulary).\n",
        "\n",
        "Find the chart in an example gallery of a Python data visualization library:\n",
        "- [Seaborn](http://seaborn.pydata.org/examples/index.html)\n",
        "- [Altair](https://altair-viz.github.io/gallery/index.html)\n",
        "- [Matplotlib](https://matplotlib.org/gallery.html)\n",
        "- [Pandas](https://pandas.pydata.org/pandas-docs/stable/visualization.html)\n",
        "\n",
        "Reproduce the chart. [Optionally, try the \"Ben Franklin Method.\"](https://docs.google.com/document/d/1ubOw9B3Hfip27hF2ZFnW3a3z9xAgrUDRReOEo-FHCVs/edit) If you want, experiment and make changes.\n",
        "\n",
        "Take notes. Consider sharing your work with your cohort!"
      ]
    },
    {
      "cell_type": "code",
      "metadata": {
        "id": "dRJkKftiy5BJ",
        "colab_type": "code",
        "colab": {}
      },
      "source": [
        "# More Work Here"
      ],
      "execution_count": 0,
      "outputs": []
    }
  ]
}