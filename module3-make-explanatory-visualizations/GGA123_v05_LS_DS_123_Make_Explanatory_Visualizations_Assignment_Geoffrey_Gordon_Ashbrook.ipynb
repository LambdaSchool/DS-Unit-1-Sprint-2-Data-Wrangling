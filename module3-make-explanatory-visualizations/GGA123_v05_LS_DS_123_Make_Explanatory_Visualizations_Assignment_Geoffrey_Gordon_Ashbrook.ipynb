{
  "nbformat": 4,
  "nbformat_minor": 0,
  "metadata": {
    "colab": {
      "name": "GGA123 v05 LS_DS_123_Make_Explanatory_Visualizations_Assignment Geoffrey Gordon Ashbrook.ipynb",
      "version": "0.3.2",
      "provenance": [],
      "collapsed_sections": [],
      "include_colab_link": true
    },
    "language_info": {
      "codemirror_mode": {
        "name": "ipython",
        "version": 3
      },
      "file_extension": ".py",
      "mimetype": "text/x-python",
      "name": "python",
      "nbconvert_exporter": "python",
      "pygments_lexer": "ipython3",
      "version": "3.7.1"
    },
    "kernelspec": {
      "display_name": "Python 3",
      "language": "python",
      "name": "python3"
    }
  },
  "cells": [
    {
      "cell_type": "markdown",
      "metadata": {
        "id": "view-in-github",
        "colab_type": "text"
      },
      "source": [
        "<a href=\"https://colab.research.google.com/github/lineality/DS-Unit-1-Sprint-2-Data-Wrangling-and-Storytelling/blob/master/module3-make-explanatory-visualizations/GGA123_v05_LS_DS_123_Make_Explanatory_Visualizations_Assignment_Geoffrey_Gordon_Ashbrook.ipynb\" target=\"_parent\"><img src=\"https://colab.research.google.com/assets/colab-badge.svg\" alt=\"Open In Colab\"/></a>"
      ]
    },
    {
      "cell_type": "markdown",
      "metadata": {
        "colab_type": "text",
        "id": "NMEswXWh9mqw"
      },
      "source": [
        "# ASSIGNMENT\n",
        "\n",
        "### 1) Replicate the lesson code. I recommend that you [do not copy-paste](https://docs.google.com/document/d/1ubOw9B3Hfip27hF2ZFnW3a3z9xAgrUDRReOEo-FHCVs/edit).\n",
        "\n",
        "Get caught up to where we got our example in class and then try and take things further. How close to \"pixel perfect\" can you make the lecture graph?\n",
        "\n",
        "Once you have something that you're proud of, share your graph in the cohort channel and move on to the second exercise.\n",
        "\n",
        "### 2) Reproduce another example from [FiveThityEight's shared data repository](https://data.fivethirtyeight.com/).\n",
        "\n",
        "**WARNING**: There are a lot of very custom graphs and tables at the above link. I **highly** recommend not trying to reproduce any that look like a table of values or something really different from the graph types that we are already familiar with. Search through the posts until you find a graph type that you are more or less familiar with: histogram, bar chart, stacked bar chart, line chart, [seaborn relplot](https://seaborn.pydata.org/generated/seaborn.relplot.html), etc. Recreating some of the graphics that 538 uses would be a lot easier in Adobe photoshop/illustrator than with matplotlib. \n",
        "\n",
        "- If you put in some time to find a graph that looks \"easy\" to replicate you'll probably find that it's not as easy as you thought. \n",
        "\n",
        "- If you start with a graph that looks hard to replicate you'll probably run up against a brick wall and be disappointed with your afternoon.\n",
        "\n",
        "\n",
        "\n",
        "\n",
        "\n",
        "\n",
        "\n",
        "\n",
        "\n",
        "\n"
      ]
    },
    {
      "cell_type": "code",
      "metadata": {
        "id": "7SY1ZHawyZvz",
        "colab_type": "code",
        "colab": {}
      },
      "source": [
        "# Your Work Here"
      ],
      "execution_count": 0,
      "outputs": []
    },
    {
      "cell_type": "markdown",
      "metadata": {
        "id": "P0aAz4UUxpQ8",
        "colab_type": "text"
      },
      "source": [
        "#1. Here is a the reproduction of the 538 Gore movie ratings graph, from class, hand typed: \n",
        "\n",
        "with some improvements such as size, font, position, etc\n",
        "\n",
        "https://fivethirtyeight.com/features/both-parties-think-the-mueller-report-was-fair-they-just-disagree-on-what-it-says/\n",
        "\n",
        "\n",
        "first individual-cell set of code does not run...so second all together does run.\n",
        "\n",
        "\n",
        "\n"
      ]
    },
    {
      "cell_type": "code",
      "metadata": {
        "id": "CXu-3rY7yUzB",
        "colab_type": "code",
        "colab": {}
      },
      "source": [
        "%matplotlib inline\n",
        "import matplotlib.pyplot as plt\n",
        "import numpy as np\n",
        "import pandas as pd"
      ],
      "execution_count": 0,
      "outputs": []
    },
    {
      "cell_type": "code",
      "metadata": {
        "id": "zm6JaVdAz0Kg",
        "colab_type": "code",
        "colab": {}
      },
      "source": [
        "#let's make some data for this graph\n",
        "#fake = pd.Series([38, 3, 2, 1, 2, 4, 6, 5, 5, 33], \n",
        " #                index=range(1,11))\n",
        "fake = pd.Series([38, 3, 2, 1, 2, 4, 6, 5, 5, 33],\n",
        "                 index=range(1,11))"
      ],
      "execution_count": 0,
      "outputs": []
    },
    {
      "cell_type": "code",
      "metadata": {
        "id": "agrXc-h10KtI",
        "colab_type": "code",
        "colab": {}
      },
      "source": [
        "#a second version of the fake graph data\n",
        "fake2 = pd.Series(\n",
        "    [1, 1, 1, 1, 1, 1, 1, 1, 1, 1, 1, 1, 1, 1, 1, 1, 1, 1, 1, 1, 1, 1, 1, 1,\n",
        "     2, 2, 2, \n",
        "     3, 3, 3,\n",
        "     4, 4,\n",
        "     5, 5, 5,\n",
        "     6, 6, 6, 6,\n",
        "     7, 7, 7, 7, 7,\n",
        "     8, 8, 8, 8,\n",
        "     9, 9, 9, 9, \n",
        "     10, 10, 10, 10, 10, 10, 10, 10, 10, 10, 10, 10, 10, 10, 10, 10, 10, 10])"
      ],
      "execution_count": 0,
      "outputs": []
    },
    {
      "cell_type": "code",
      "metadata": {
        "id": "gxVEXdZ3yW2d",
        "colab_type": "code",
        "colab": {}
      },
      "source": [
        "#seems like cheating but there is already a style sheet for the 538 style\n",
        "plt.style.use('fivethirtyeight')"
      ],
      "execution_count": 0,
      "outputs": []
    },
    {
      "cell_type": "code",
      "metadata": {
        "id": "JNlEFJpEyexA",
        "colab_type": "code",
        "colab": {
          "base_uri": "https://localhost:8080/",
          "height": 51
        },
        "outputId": "7f9e926a-5505-446b-d5f0-93997550ad5c"
      },
      "source": [
        "#generate the figure, which is kind of like the background graphic block\n",
        "fig = plt.figure()\n",
        "fig.patch.set(facecolor='white')"
      ],
      "execution_count": 36,
      "outputs": [
        {
          "output_type": "execute_result",
          "data": {
            "text/plain": [
              "[None]"
            ]
          },
          "metadata": {
            "tags": []
          },
          "execution_count": 36
        },
        {
          "output_type": "display_data",
          "data": {
            "text/plain": [
              "<Figure size 432x288 with 0 Axes>"
            ]
          },
          "metadata": {
            "tags": []
          }
        }
      ]
    },
    {
      "cell_type": "code",
      "metadata": {
        "id": "y7inOC3gye1I",
        "colab_type": "code",
        "colab": {
          "base_uri": "https://localhost:8080/",
          "height": 302
        },
        "outputId": "c39ab091-9bd1-4929-fdfb-f1fcad033e3d"
      },
      "source": [
        "#generate axes, the whole x-y structure where the plot happens\n",
        "ax = fake.plot.bar(color=\"#ED713A\", width=0.9)\n",
        "ax.set(facecolor='white')"
      ],
      "execution_count": 37,
      "outputs": [
        {
          "output_type": "execute_result",
          "data": {
            "text/plain": [
              "[None]"
            ]
          },
          "metadata": {
            "tags": []
          },
          "execution_count": 37
        },
        {
          "output_type": "display_data",
          "data": {
            "image/png": "[encoded data removed]",
            "text/plain": [
              "<Figure size 432x288 with 1 Axes>"
            ]
          },
          "metadata": {
            "tags": []
          }
        }
      ]
    },
    {
      "cell_type": "code",
      "metadata": {
        "id": "zzC9swOdye3L",
        "colab_type": "code",
        "colab": {}
      },
      "source": [
        "#note on titles: titles in matplot-lib are not pythonic...more than one way there"
      ],
      "execution_count": 0,
      "outputs": []
    },
    {
      "cell_type": "code",
      "metadata": {
        "id": "rWTaW0fmye5K",
        "colab_type": "code",
        "colab": {
          "base_uri": "https://localhost:8080/",
          "height": 34
        },
        "outputId": "643e5a02-f2e2-4646-c805-5e8283a3bbe0"
      },
      "source": [
        "ax.text(x=-1.8, y=44, s=\"'An Inconvenient Sequel: Truth To Power' is divisive\",\n",
        "        fontweight='bold', fontsize=12);\n",
        "ax.text(x=-1.8, y=41.5, s=\"IMDb ratings for the film as of Aug. 29\", \n",
        "        fontsize=11)"
      ],
      "execution_count": 39,
      "outputs": [
        {
          "output_type": "execute_result",
          "data": {
            "text/plain": [
              "Text(-1.8, 41.5, 'IMDb ratings for the film as of Aug. 29')"
            ]
          },
          "metadata": {
            "tags": []
          },
          "execution_count": 39
        }
      ]
    },
    {
      "cell_type": "code",
      "metadata": {
        "id": "or2C8HNRye7Q",
        "colab_type": "code",
        "colab": {
          "base_uri": "https://localhost:8080/",
          "height": 34
        },
        "outputId": "6dd8128e-58a8-4c7b-b3f1-b248d1b2cd5e"
      },
      "source": [
        "# Set the axis labels\n",
        "ax.set_ylabel(\"Percent of total votes\", fontsize=9, fontweight='bold', \n",
        "              labelpad=10)\n",
        "ax.set_xlabel(\"Rating\", fontsize=9, fontweight='bold', labelpad=10)\n"
      ],
      "execution_count": 40,
      "outputs": [
        {
          "output_type": "execute_result",
          "data": {
            "text/plain": [
              "Text(0.5, 3.200000000000003, 'Rating')"
            ]
          },
          "metadata": {
            "tags": []
          },
          "execution_count": 40
        }
      ]
    },
    {
      "cell_type": "code",
      "metadata": {
        "id": "JITB68URye9o",
        "colab_type": "code",
        "colab": {}
      },
      "source": [
        "# numbers on axes are \"tick labels\" - text parameters work here!!!\n",
        "ax.set_xticklabels(range(1,11), rotation=0)\n",
        "ax.set_yticks(range(0,50,10))\n",
        "ax.set_yticklabels(range(0,50,10))\n",
        "\n",
        "plt.show()"
      ],
      "execution_count": 0,
      "outputs": []
    },
    {
      "cell_type": "code",
      "metadata": {
        "id": "3vQM9gGg22W0",
        "colab_type": "code",
        "colab": {}
      },
      "source": [
        "#graph it...\n",
        "plt.show()"
      ],
      "execution_count": 0,
      "outputs": []
    },
    {
      "cell_type": "code",
      "metadata": {
        "id": "PgSiP8v56OZx",
        "colab_type": "code",
        "colab": {
          "base_uri": "https://localhost:8080/",
          "height": 339
        },
        "outputId": "b4de5ee9-9b67-46b5-be92-e1a953605131"
      },
      "source": [
        "#seems like cheating but there is already a style sheet for the 538 style\n",
        "plt.style.use('fivethirtyeight')\n",
        "\n",
        "#generate the figure, which is kind of like the background graphic block\n",
        "fig = plt.figure()\n",
        "fig.patch.set(facecolor='white')\n",
        "\n",
        "#generate axes, the whole x-y structure where the plot happens\n",
        "ax = fake.plot.bar(color=\"#ED713A\", width=0.9)\n",
        "ax.set(facecolor='white')\n",
        "\n",
        "#note on titles: titles in matplot-lib are not pythonic...more than one way there\n",
        "ax.text(x=-1.7, y=44, s=\"'An Inconvenient Sequel: Truth To Power' is divisive\",\n",
        "        fontweight='bold', fontsize=13);\n",
        "ax.text(x=-1.7, y=41.5, s=\"IMDb ratings for the film as of Aug. 29\", \n",
        "        fontsize=12)\n",
        "\n",
        "# Set the axis labels\n",
        "ax.set_ylabel(\"Percent of total votes\", fontname=\"Arial\", fontsize=9, fontweight='bold', \n",
        "              labelpad=10)\n",
        "ax.set_xlabel(\"Rating\", fontname=\"Arial\", fontsize=11, fontweight='bold', labelpad=19)\n",
        "\n",
        "# numbers on axes are \"tick labels\" - text parameters work here!!!\n",
        "#set_xticklabels(self, labels, fontdict=None, minor=False, **kwargs)\n",
        "#{'fontsize': rcParams['axes.titlesize'],\n",
        "# 'fontweight': rcParams['axes.titleweight'],\n",
        "# 'verticalalignment': 'baseline',\n",
        "# 'horizontalalignment': loc}\n",
        "ax.set_xticklabels(range(1,11), rotation=0, fontsize=8)\n",
        "ax.set_yticks(range(0,50,10))\n",
        "ax.set_yticklabels(range(0,50,10), fontsize=8)\n",
        "\n",
        "plt.show()"
      ],
      "execution_count": 70,
      "outputs": [
        {
          "output_type": "display_data",
          "data": {
            "image/png": "[encoded data removed]",
            "text/plain": [
              "<Figure size 432x288 with 1 Axes>"
            ]
          },
          "metadata": {
            "tags": []
          }
        }
      ]
    },
    {
      "cell_type": "markdown",
      "metadata": {
        "id": "mfi_RrSV_GzZ",
        "colab_type": "text"
      },
      "source": [
        "#2 \n",
        "\n",
        "##Reproduce another example from FiveThityEight's shared data repository.\n",
        "\n",
        "Namely: \n",
        "https://fivethirtyeight.com/features/both-parties-think-the-mueller-report-was-fair-they-just-disagree-on-what-it-says/\n",
        "\n",
        "https://fivethirtyeight.com/wp-content/uploads/2019/05/Mehta-Pollapalooza.0503-0501-1a.png?w=1150\n",
        "\n",
        "\n",
        "https://raw.githubusercontent.com/fivethirtyeight/data/master/mueller-polls/mueller-approval-polls.csv\n",
        "\n",
        "Resources:\n",
        "https://matplotlib.org/3.1.1/gallery/shapes_and_collections/scatter.html\n",
        "\n",
        "plan for generating numbers,\n",
        "\n",
        "two sets of numbers...\n",
        "\n"
      ]
    },
    {
      "cell_type": "code",
      "metadata": {
        "id": "lLyWGfaTVNi2",
        "colab_type": "code",
        "colab": {
          "base_uri": "https://localhost:8080/",
          "height": 282
        },
        "outputId": "4bda29e6-2a74-4829-9ddd-fdc241516bec"
      },
      "source": [
        "import numpy as np\n",
        "import matplotlib.pyplot as plt\n",
        "\n",
        "# Fixing random state for reproducibility\n",
        "np.random.seed(19680801)\n",
        "\n",
        "\n",
        "N = 50\n",
        "x = np.random.rand(N)\n",
        "y = np.random.rand(N)\n",
        "colors = np.random.rand(N)\n",
        "area = (30 * np.random.rand(N))**2  # 0 to 15 point radii\n",
        "\n",
        "plt.scatter(x, y, s=area, c=colors, alpha=0.5)\n",
        "plt.show()"
      ],
      "execution_count": 71,
      "outputs": [
        {
          "output_type": "display_data",
          "data": {
            "image/png": "[encoded data removed]",
            "text/plain": [
              "<Figure size 432x288 with 1 Axes>"
            ]
          },
          "metadata": {
            "tags": []
          }
        }
      ]
    },
    {
      "cell_type": "code",
      "metadata": {
        "id": "2hwV871glbQS",
        "colab_type": "code",
        "colab": {
          "base_uri": "https://localhost:8080/",
          "height": 282
        },
        "outputId": "55ea64fc-7b8b-4ad8-bd39-a8cabf8ffcd4"
      },
      "source": [
        "x = range(100)\n",
        "y = range(0,100)\n",
        "fig = plt.figure()\n",
        "ax1 = fig.add_subplot(111)\n",
        "\n",
        "#fig = plt.figure()\n",
        "#fig.patch.set(facecolor='white')\n",
        "\n",
        "ax1.scatter(x[:4], y[:4], s=10, c='b', marker=\"s\", label='first')\n",
        "ax1.scatter(x[40:],y[40:], s=10, c='r', marker=\"o\", label='second')\n",
        "#plt.legend(loc='upper left');\n",
        "\n",
        "ax.text(x=-1.7, y=44, s=\"'An Inconvenient Sequel: Truth To Power' is divisive\",\n",
        "        fontweight='bold', fontsize=13);\n",
        "ax.text(x=-1.7, y=41.5, s=\"IMDb ratings for the film as of Aug. 29\", \n",
        "        fontsize=12)\n",
        "\n",
        "ax.set_xlabel(\"Rating\", fontname=\"Arial\", fontsize=11, fontweight='bold', labelpad=19)\n",
        "ax.set_yticks(range(0,50,10))\n",
        "ax.set_yticklabels(range(0,50,10), fontsize=8)\n",
        "plt.show()"
      ],
      "execution_count": 84,
      "outputs": [
        {
          "output_type": "display_data",
          "data": {
            "image/png": "[encoded data removed]",
            "text/plain": [
              "<Figure size 432x288 with 1 Axes>"
            ]
          },
          "metadata": {
            "tags": []
          }
        }
      ]
    },
    {
      "cell_type": "code",
      "metadata": {
        "id": "Jwxq2gtc-8Ib",
        "colab_type": "code",
        "colab": {}
      },
      "source": [
        "#seems like cheating but there is already a style sheet for the 538 style\n",
        "plt.style.use('fivethirtyeight')\n",
        "\n",
        "#generate the figure, which is kind of like the background graphic block\n",
        "fig = plt.figure()\n",
        "fig.patch.set(facecolor='white')\n",
        "\n",
        "#generate axes, the whole x-y structure where the plot happens\n",
        "ax = fake.plot.scatterplot(color=\"#ED713A\", width=0.9)\n",
        "ax.set(facecolor='white')\n",
        "\n",
        "#note on titles: titles in matplot-lib are not pythonic...more than one way there\n",
        "ax.text(x=-1.7, y=44, s=\"'An Inconvenient Sequel: Truth To Power' is divisive\",\n",
        "        fontweight='bold', fontsize=13);\n",
        "ax.text(x=-1.7, y=41.5, s=\"IMDb ratings for the film as of Aug. 29\", \n",
        "        fontsize=12)\n",
        "\n",
        "# Set the axis labels\n",
        "ax.set_ylabel(\"Percent of total votes\", fontname=\"Arial\", fontsize=9, fontweight='bold', \n",
        "              labelpad=10)\n",
        "ax.set_xlabel(\"Rating\", fontname=\"Arial\", fontsize=11, fontweight='bold', labelpad=19)\n",
        "\n",
        "# numbers on axes are \"tick labels\" - text parameters work here!!!\n",
        "#set_xticklabels(self, labels, fontdict=None, minor=False, **kwargs)\n",
        "#{'fontsize': rcParams['axes.titlesize'],\n",
        "# 'fontweight': rcParams['axes.titleweight'],\n",
        "# 'verticalalignment': 'baseline',\n",
        "# 'horizontalalignment': loc}\n",
        "ax.set_xticklabels(range(1,11), rotation=0, fontsize=8)\n",
        "ax.set_yticks(range(0,50,10))\n",
        "ax.set_yticklabels(range(0,50,10), fontsize=8)"
      ],
      "execution_count": 0,
      "outputs": []
    },
    {
      "cell_type": "code",
      "metadata": {
        "id": "sj9uv2tw-8QQ",
        "colab_type": "code",
        "colab": {}
      },
      "source": [
        ""
      ],
      "execution_count": 0,
      "outputs": []
    },
    {
      "cell_type": "code",
      "metadata": {
        "id": "Umy2DmU8-8Sf",
        "colab_type": "code",
        "colab": {
          "base_uri": "https://localhost:8080/",
          "height": 355
        },
        "outputId": "5b985072-0560-4d36-deec-c50a494779d6"
      },
      "source": [
        "import matplotlib.pyplot as plt\n",
        "import numpy as np\n",
        "\n",
        "data=np.random.random((4,10))\n",
        "xaxes = ['x1','x2']\n",
        "yaxes = ['y1','y2']\n",
        "titles = ['t1','t2'] \n",
        "\n",
        "plt.subplots(1,2)\n",
        "\n",
        "#plt.tight_layout()"
      ],
      "execution_count": 99,
      "outputs": [
        {
          "output_type": "execute_result",
          "data": {
            "text/plain": [
              "(<Figure size 432x288 with 2 Axes>,\n",
              " array([<matplotlib.axes._subplots.AxesSubplot object at 0x7fa981ab0d30>,\n",
              "        <matplotlib.axes._subplots.AxesSubplot object at 0x7fa981a84a20>],\n",
              "       dtype=object))"
            ]
          },
          "metadata": {
            "tags": []
          },
          "execution_count": 99
        },
        {
          "output_type": "display_data",
          "data": {
            "image/png": "[encoded data removed]",
            "text/plain": [
              "<Figure size 432x288 with 2 Axes>"
            ]
          },
          "metadata": {
            "tags": []
          }
        }
      ]
    },
    {
      "cell_type": "code",
      "metadata": {
        "id": "sGxuXPi5uxhz",
        "colab_type": "code",
        "colab": {
          "base_uri": "https://localhost:8080/",
          "height": 214
        },
        "outputId": "ee65a2f6-358a-4692-e819-b4f752efcde4"
      },
      "source": [
        "plt.subplot(grid[0, 0])\n",
        "plt.subplot(grid[0, 1:])\n",
        "plt.subplot(grid[1, :2])\n",
        "plt.subplot(grid[1, 2]);"
      ],
      "execution_count": 100,
      "outputs": [
        {
          "output_type": "error",
          "ename": "NameError",
          "evalue": "ignored",
          "traceback": [
            "\u001b[0;31m---------------------------------------------------------------------------\u001b[0m",
            "\u001b[0;31mNameError\u001b[0m                                 Traceback (most recent call last)",
            "\u001b[0;32m<ipython-input-100-bae476d3bdc5>\u001b[0m in \u001b[0;36m<module>\u001b[0;34m()\u001b[0m\n\u001b[0;32m----> 1\u001b[0;31m \u001b[0mplt\u001b[0m\u001b[0;34m.\u001b[0m\u001b[0msubplot\u001b[0m\u001b[0;34m(\u001b[0m\u001b[0mgrid\u001b[0m\u001b[0;34m[\u001b[0m\u001b[0;36m0\u001b[0m\u001b[0;34m,\u001b[0m \u001b[0;36m0\u001b[0m\u001b[0;34m]\u001b[0m\u001b[0;34m)\u001b[0m\u001b[0;34m\u001b[0m\u001b[0;34m\u001b[0m\u001b[0m\n\u001b[0m\u001b[1;32m      2\u001b[0m \u001b[0mplt\u001b[0m\u001b[0;34m.\u001b[0m\u001b[0msubplot\u001b[0m\u001b[0;34m(\u001b[0m\u001b[0mgrid\u001b[0m\u001b[0;34m[\u001b[0m\u001b[0;36m0\u001b[0m\u001b[0;34m,\u001b[0m \u001b[0;36m1\u001b[0m\u001b[0;34m:\u001b[0m\u001b[0;34m]\u001b[0m\u001b[0;34m)\u001b[0m\u001b[0;34m\u001b[0m\u001b[0;34m\u001b[0m\u001b[0m\n\u001b[1;32m      3\u001b[0m \u001b[0mplt\u001b[0m\u001b[0;34m.\u001b[0m\u001b[0msubplot\u001b[0m\u001b[0;34m(\u001b[0m\u001b[0mgrid\u001b[0m\u001b[0;34m[\u001b[0m\u001b[0;36m1\u001b[0m\u001b[0;34m,\u001b[0m \u001b[0;34m:\u001b[0m\u001b[0;36m2\u001b[0m\u001b[0;34m]\u001b[0m\u001b[0;34m)\u001b[0m\u001b[0;34m\u001b[0m\u001b[0;34m\u001b[0m\u001b[0m\n\u001b[1;32m      4\u001b[0m \u001b[0mplt\u001b[0m\u001b[0;34m.\u001b[0m\u001b[0msubplot\u001b[0m\u001b[0;34m(\u001b[0m\u001b[0mgrid\u001b[0m\u001b[0;34m[\u001b[0m\u001b[0;36m1\u001b[0m\u001b[0;34m,\u001b[0m \u001b[0;36m2\u001b[0m\u001b[0;34m]\u001b[0m\u001b[0;34m)\u001b[0m\u001b[0;34m;\u001b[0m\u001b[0;34m\u001b[0m\u001b[0;34m\u001b[0m\u001b[0m\n",
            "\u001b[0;31mNameError\u001b[0m: name 'grid' is not defined"
          ]
        }
      ]
    },
    {
      "cell_type": "code",
      "metadata": {
        "id": "OrPFSGIu7lXN",
        "colab_type": "code",
        "colab": {}
      },
      "source": [
        ""
      ],
      "execution_count": 0,
      "outputs": []
    },
    {
      "cell_type": "markdown",
      "metadata": {
        "id": "6ZBdw4RTotUT",
        "colab_type": "text"
      },
      "source": [
        "https://fivethirtyeight.com/features/how-actblue-is-trying-to-turn-small-donations-into-a-blue-wave/\n",
        "\n",
        "\n",
        "\n"
      ]
    },
    {
      "cell_type": "markdown",
      "metadata": {
        "id": "0wSrBzmJyWaV",
        "colab_type": "text"
      },
      "source": [
        "# STRETCH OPTIONS\n",
        "\n",
        "### 1) Reproduce one of the following using the matplotlib or seaborn libraries:\n",
        "\n",
        "- [thanksgiving-2015](https://fivethirtyeight.com/features/heres-what-your-part-of-america-eats-on-thanksgiving/) \n",
        "- [candy-power-ranking](https://fivethirtyeight.com/features/the-ultimate-halloween-candy-power-ranking/) \n",
        "- or another example of your choice!\n",
        "\n",
        "### 2) Make more charts!\n",
        "\n",
        "Choose a chart you want to make, from [Visual Vocabulary - Vega Edition](http://ft.com/vocabulary).\n",
        "\n",
        "Find the chart in an example gallery of a Python data visualization library:\n",
        "- [Seaborn](http://seaborn.pydata.org/examples/index.html)\n",
        "- [Altair](https://altair-viz.github.io/gallery/index.html)\n",
        "- [Matplotlib](https://matplotlib.org/gallery.html)\n",
        "- [Pandas](https://pandas.pydata.org/pandas-docs/stable/visualization.html)\n",
        "\n",
        "Reproduce the chart. [Optionally, try the \"Ben Franklin Method.\"](https://docs.google.com/document/d/1ubOw9B3Hfip27hF2ZFnW3a3z9xAgrUDRReOEo-FHCVs/edit) If you want, experiment and make changes.\n",
        "\n",
        "Take notes. Consider sharing your work with your cohort!"
      ]
    },
    {
      "cell_type": "code",
      "metadata": {
        "id": "dRJkKftiy5BJ",
        "colab_type": "code",
        "colab": {}
      },
      "source": [
        "# More Work Here"
      ],
      "execution_count": 0,
      "outputs": []
    }
  ]
}