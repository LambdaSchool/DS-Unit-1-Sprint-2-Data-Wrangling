{
  "nbformat": 4,
  "nbformat_minor": 0,
  "metadata": {
    "colab": {
      "name": "LS_DS_122_Join_datasets.ipynb",
      "version": "0.3.2",
      "provenance": [],
      "collapsed_sections": [],
      "include_colab_link": true
    },
    "kernelspec": {
      "name": "python3",
      "display_name": "Python 3"
    }
  },
  "cells": [
    {
      "cell_type": "markdown",
      "metadata": {
        "id": "view-in-github",
        "colab_type": "text"
      },
      "source": [
        "<a href=\"https://colab.research.google.com/github/tesseract314/DS-Unit-1-Sprint-2-Data-Wrangling/blob/master/module2-join-datasets/LS_DS_122_Join_datasets.ipynb\" target=\"_parent\"><img src=\"https://colab.research.google.com/assets/colab-badge.svg\" alt=\"Open In Colab\"/></a>"
      ]
    },
    {
      "metadata": {
        "id": "pmU5YUal1eTZ",
        "colab_type": "text"
      },
      "cell_type": "markdown",
      "source": [
        "_Lambda School Data Science_\n",
        "\n",
        "# Join datasets\n",
        "\n",
        "Objectives\n",
        "- concatenate data with pandas\n",
        "- merge data with pandas\n",
        "\n",
        "Links\n",
        "- [Pandas Cheat Sheet](https://github.com/pandas-dev/pandas/blob/master/doc/cheatsheet/Pandas_Cheat_Sheet.pdf)\n",
        "  - Combine Data Sets: Standard Joins\n",
        "- Python Data Science Handbook\n",
        "  - [Chapter 3.6](https://jakevdp.github.io/PythonDataScienceHandbook/03.06-concat-and-append.html), Combining Datasets: Concat and Append\n",
        "  - [Chapter 3.7](https://jakevdp.github.io/PythonDataScienceHandbook/03.07-merge-and-join.html), Combining Datasets: Merge and Join"
      ]
    },
    {
      "metadata": {
        "id": "Mmi3J5fXrwZ3",
        "colab_type": "text"
      },
      "cell_type": "markdown",
      "source": [
        "## Download data\n",
        "\n",
        "We’ll work with a dataset of [3 Million Instacart Orders, Open Sourced](https://tech.instacart.com/3-million-instacart-orders-open-sourced-d40d29ead6f2)!"
      ]
    },
    {
      "metadata": {
        "id": "K2kcrJVybjrW",
        "colab_type": "code",
        "outputId": "16baf467-d28e-43f9-a43b-b75fedbbca3c",
        "colab": {
          "base_uri": "https://localhost:8080/",
          "height": 202
        }
      },
      "cell_type": "code",
      "source": [
        "!wget https://s3.amazonaws.com/instacart-datasets/instacart_online_grocery_shopping_2017_05_01.tar.gz"
      ],
      "execution_count": 2,
      "outputs": [
        {
          "output_type": "stream",
          "text": [
            "--2019-01-15 23:10:34--  https://s3.amazonaws.com/instacart-datasets/instacart_online_grocery_shopping_2017_05_01.tar.gz\n",
            "Resolving s3.amazonaws.com (s3.amazonaws.com)... 52.216.171.21\n",
            "Connecting to s3.amazonaws.com (s3.amazonaws.com)|52.216.171.21|:443... connected.\n",
            "HTTP request sent, awaiting response... 200 OK\n",
            "Length: 205548478 (196M) [application/x-gzip]\n",
            "Saving to: ‘instacart_online_grocery_shopping_2017_05_01.tar.gz.5’\n",
            "\n",
            "instacart_online_gr 100%[===================>] 196.03M  43.7MB/s    in 8.4s    \n",
            "\n",
            "2019-01-15 23:10:43 (23.5 MB/s) - ‘instacart_online_grocery_shopping_2017_05_01.tar.gz.5’ saved [205548478/205548478]\n",
            "\n"
          ],
          "name": "stdout"
        }
      ]
    },
    {
      "metadata": {
        "id": "kqX40b2kdgAb",
        "colab_type": "code",
        "outputId": "ff00ec48-bd36-4ef5-b5ba-fc32057af216",
        "colab": {
          "base_uri": "https://localhost:8080/",
          "height": 235
        }
      },
      "cell_type": "code",
      "source": [
        "!tar --gunzip --extract --verbose --file=instacart_online_grocery_shopping_2017_05_01.tar.gz"
      ],
      "execution_count": 3,
      "outputs": [
        {
          "output_type": "stream",
          "text": [
            "instacart_2017_05_01/\n",
            "instacart_2017_05_01/._aisles.csv\n",
            "instacart_2017_05_01/aisles.csv\n",
            "instacart_2017_05_01/._departments.csv\n",
            "instacart_2017_05_01/departments.csv\n",
            "instacart_2017_05_01/._order_products__prior.csv\n",
            "instacart_2017_05_01/order_products__prior.csv\n",
            "instacart_2017_05_01/._order_products__train.csv\n",
            "instacart_2017_05_01/order_products__train.csv\n",
            "instacart_2017_05_01/._orders.csv\n",
            "instacart_2017_05_01/orders.csv\n",
            "instacart_2017_05_01/._products.csv\n",
            "instacart_2017_05_01/products.csv\n"
          ],
          "name": "stdout"
        }
      ]
    },
    {
      "metadata": {
        "id": "YbCvZZCBfHCI",
        "colab_type": "code",
        "outputId": "9f054e08-3dd9-46b8-8b05-2550aa15b4e9",
        "colab": {
          "base_uri": "https://localhost:8080/",
          "height": 34
        }
      },
      "cell_type": "code",
      "source": [
        "%cd instacart_2017_05_01"
      ],
      "execution_count": 4,
      "outputs": [
        {
          "output_type": "stream",
          "text": [
            "/content/instacart_2017_05_01\n"
          ],
          "name": "stdout"
        }
      ]
    },
    {
      "metadata": {
        "id": "RsA14wiKr03j",
        "colab_type": "text"
      },
      "cell_type": "markdown",
      "source": [
        "## Goal: Reproduce this example\n",
        "\n",
        "The first two orders for user id 1:"
      ]
    },
    {
      "metadata": {
        "id": "vLqOTMcfjprg",
        "colab_type": "code",
        "outputId": "7f54ded4-7cd3-41ce-efe8-f0eb756a444c",
        "colab": {
          "base_uri": "https://localhost:8080/",
          "height": 312
        }
      },
      "cell_type": "code",
      "source": [
        "from IPython.display import display, Image\n",
        "url = 'https://cdn-images-1.medium.com/max/1600/1*vYGFQCafJtGBBX5mbl0xyw.png'\n",
        "example = Image(url=url, width=600)\n",
        "\n",
        "display(example)"
      ],
      "execution_count": 5,
      "outputs": [
        {
          "output_type": "display_data",
          "data": {
            "text/html": [
              "<img src=\"https://cdn-images-1.medium.com/max/1600/1*vYGFQCafJtGBBX5mbl0xyw.png\" width=\"600\"/>"
            ],
            "text/plain": [
              "<IPython.core.display.Image object>"
            ]
          },
          "metadata": {
            "tags": []
          }
        }
      ]
    },
    {
      "metadata": {
        "id": "nPwG8aM_txl4",
        "colab_type": "text"
      },
      "cell_type": "markdown",
      "source": [
        "## Load data\n",
        "\n",
        "Here's a list of all six CSV filenames"
      ]
    },
    {
      "metadata": {
        "id": "Ksah0cOrfdJQ",
        "colab_type": "code",
        "colab": {
          "base_uri": "https://localhost:8080/",
          "height": 185
        },
        "outputId": "a1e94e54-b16d-4b89-e84c-b43a17a77114"
      },
      "cell_type": "code",
      "source": [
        "!ls -lh"
      ],
      "execution_count": 6,
      "outputs": [
        {
          "output_type": "stream",
          "text": [
            "total 1.1G\n",
            "-rw-r--r-- 1  502 staff 2.6K May  2  2017 aisles.csv\n",
            "-rw-r--r-- 1  502 staff  270 May  2  2017 departments.csv\n",
            "drwxr-xr-x 2  502 staff 4.0K May  2  2017 instacart_2017_05_01\n",
            "-rw-r--r-- 1 root root  197M Oct 20  2017 instacart_online_grocery_shopping_2017_05_01.tar.gz\n",
            "-rw-r--r-- 1 root root  197M Oct 20  2017 instacart_online_grocery_shopping_2017_05_01.tar.gz.1\n",
            "-rw-r--r-- 1  502 staff 551M May  2  2017 order_products__prior.csv\n",
            "-rw-r--r-- 1  502 staff  24M May  2  2017 order_products__train.csv\n",
            "-rw-r--r-- 1  502 staff 104M May  2  2017 orders.csv\n",
            "-rw-r--r-- 1  502 staff 2.1M May  2  2017 products.csv\n"
          ],
          "name": "stdout"
        }
      ]
    },
    {
      "metadata": {
        "id": "AHT7fKuxvPgV",
        "colab_type": "text"
      },
      "cell_type": "markdown",
      "source": [
        "For each CSV\n",
        "- Load it with pandas\n",
        "- Look at the dataframe's shape\n",
        "- Look at its head (first rows)\n",
        "- `display(example)`\n",
        "- Which columns does it have in common with the example we want to reproduce?"
      ]
    },
    {
      "metadata": {
        "id": "cB_5T6TprcUH",
        "colab_type": "text"
      },
      "cell_type": "markdown",
      "source": [
        "### aisles"
      ]
    },
    {
      "metadata": {
        "id": "JB3bvwSDK6v3",
        "colab_type": "code",
        "colab": {}
      },
      "cell_type": "code",
      "source": [
        "import pandas as pd\n",
        "aisles = pd.read_csv('aisles.csv')"
      ],
      "execution_count": 0,
      "outputs": []
    },
    {
      "metadata": {
        "id": "N2MBMpMvI95M",
        "colab_type": "code",
        "colab": {
          "base_uri": "https://localhost:8080/",
          "height": 34
        },
        "outputId": "c2237644-99fb-40bb-bb92-0da97f392db2"
      },
      "cell_type": "code",
      "source": [
        "aisles.shape"
      ],
      "execution_count": 8,
      "outputs": [
        {
          "output_type": "execute_result",
          "data": {
            "text/plain": [
              "(134, 2)"
            ]
          },
          "metadata": {
            "tags": []
          },
          "execution_count": 8
        }
      ]
    },
    {
      "metadata": {
        "id": "zYnkiKzMIJzM",
        "colab_type": "code",
        "colab": {
          "base_uri": "https://localhost:8080/",
          "height": 195
        },
        "outputId": "4e30f061-823b-4519-bb6c-d3d8fc365e19"
      },
      "cell_type": "code",
      "source": [
        "aisles.head()"
      ],
      "execution_count": 9,
      "outputs": [
        {
          "output_type": "execute_result",
          "data": {
            "text/html": [
              "<div>\n",
              "<style scoped>\n",
              "    .dataframe tbody tr th:only-of-type {\n",
              "        vertical-align: middle;\n",
              "    }\n",
              "\n",
              "    .dataframe tbody tr th {\n",
              "        vertical-align: top;\n",
              "    }\n",
              "\n",
              "    .dataframe thead th {\n",
              "        text-align: right;\n",
              "    }\n",
              "</style>\n",
              "<table border=\"1\" class=\"dataframe\">\n",
              "  <thead>\n",
              "    <tr style=\"text-align: right;\">\n",
              "      <th></th>\n",
              "      <th>aisle_id</th>\n",
              "      <th>aisle</th>\n",
              "    </tr>\n",
              "  </thead>\n",
              "  <tbody>\n",
              "    <tr>\n",
              "      <th>0</th>\n",
              "      <td>1</td>\n",
              "      <td>prepared soups salads</td>\n",
              "    </tr>\n",
              "    <tr>\n",
              "      <th>1</th>\n",
              "      <td>2</td>\n",
              "      <td>specialty cheeses</td>\n",
              "    </tr>\n",
              "    <tr>\n",
              "      <th>2</th>\n",
              "      <td>3</td>\n",
              "      <td>energy granola bars</td>\n",
              "    </tr>\n",
              "    <tr>\n",
              "      <th>3</th>\n",
              "      <td>4</td>\n",
              "      <td>instant foods</td>\n",
              "    </tr>\n",
              "    <tr>\n",
              "      <th>4</th>\n",
              "      <td>5</td>\n",
              "      <td>marinades meat preparation</td>\n",
              "    </tr>\n",
              "  </tbody>\n",
              "</table>\n",
              "</div>"
            ],
            "text/plain": [
              "   aisle_id                       aisle\n",
              "0         1       prepared soups salads\n",
              "1         2           specialty cheeses\n",
              "2         3         energy granola bars\n",
              "3         4               instant foods\n",
              "4         5  marinades meat preparation"
            ]
          },
          "metadata": {
            "tags": []
          },
          "execution_count": 9
        }
      ]
    },
    {
      "metadata": {
        "id": "KNb_F5guIOu3",
        "colab_type": "code",
        "colab": {}
      },
      "cell_type": "code",
      "source": [
        "#display(example)\n",
        "# No columns in aisles that we need"
      ],
      "execution_count": 0,
      "outputs": []
    },
    {
      "metadata": {
        "id": "9-GrkqM6rfXr",
        "colab_type": "text"
      },
      "cell_type": "markdown",
      "source": [
        "### departments"
      ]
    },
    {
      "metadata": {
        "id": "NYIcif0dK9_5",
        "colab_type": "code",
        "colab": {}
      },
      "cell_type": "code",
      "source": [
        "departments = pd.read_csv('departments.csv')"
      ],
      "execution_count": 0,
      "outputs": []
    },
    {
      "metadata": {
        "id": "FRmZyGEkI_-V",
        "colab_type": "code",
        "colab": {
          "base_uri": "https://localhost:8080/",
          "height": 34
        },
        "outputId": "0bb22062-9709-4457-8334-4d81d1394c7a"
      },
      "cell_type": "code",
      "source": [
        "departments.shape"
      ],
      "execution_count": 12,
      "outputs": [
        {
          "output_type": "execute_result",
          "data": {
            "text/plain": [
              "(21, 2)"
            ]
          },
          "metadata": {
            "tags": []
          },
          "execution_count": 12
        }
      ]
    },
    {
      "metadata": {
        "id": "EAoIWHAmINsi",
        "colab_type": "code",
        "colab": {
          "base_uri": "https://localhost:8080/",
          "height": 195
        },
        "outputId": "7b44bb3f-9fca-4045-8560-181e516f106a"
      },
      "cell_type": "code",
      "source": [
        "departments.head()"
      ],
      "execution_count": 13,
      "outputs": [
        {
          "output_type": "execute_result",
          "data": {
            "text/html": [
              "<div>\n",
              "<style scoped>\n",
              "    .dataframe tbody tr th:only-of-type {\n",
              "        vertical-align: middle;\n",
              "    }\n",
              "\n",
              "    .dataframe tbody tr th {\n",
              "        vertical-align: top;\n",
              "    }\n",
              "\n",
              "    .dataframe thead th {\n",
              "        text-align: right;\n",
              "    }\n",
              "</style>\n",
              "<table border=\"1\" class=\"dataframe\">\n",
              "  <thead>\n",
              "    <tr style=\"text-align: right;\">\n",
              "      <th></th>\n",
              "      <th>department_id</th>\n",
              "      <th>department</th>\n",
              "    </tr>\n",
              "  </thead>\n",
              "  <tbody>\n",
              "    <tr>\n",
              "      <th>0</th>\n",
              "      <td>1</td>\n",
              "      <td>frozen</td>\n",
              "    </tr>\n",
              "    <tr>\n",
              "      <th>1</th>\n",
              "      <td>2</td>\n",
              "      <td>other</td>\n",
              "    </tr>\n",
              "    <tr>\n",
              "      <th>2</th>\n",
              "      <td>3</td>\n",
              "      <td>bakery</td>\n",
              "    </tr>\n",
              "    <tr>\n",
              "      <th>3</th>\n",
              "      <td>4</td>\n",
              "      <td>produce</td>\n",
              "    </tr>\n",
              "    <tr>\n",
              "      <th>4</th>\n",
              "      <td>5</td>\n",
              "      <td>alcohol</td>\n",
              "    </tr>\n",
              "  </tbody>\n",
              "</table>\n",
              "</div>"
            ],
            "text/plain": [
              "   department_id department\n",
              "0              1     frozen\n",
              "1              2      other\n",
              "2              3     bakery\n",
              "3              4    produce\n",
              "4              5    alcohol"
            ]
          },
          "metadata": {
            "tags": []
          },
          "execution_count": 13
        }
      ]
    },
    {
      "metadata": {
        "id": "B07v9CAWIOPD",
        "colab_type": "code",
        "colab": {}
      },
      "cell_type": "code",
      "source": [
        "#display(example)\n",
        "# No columns in departments that we need"
      ],
      "execution_count": 0,
      "outputs": []
    },
    {
      "metadata": {
        "id": "VhhVcn9kK-nG",
        "colab_type": "text"
      },
      "cell_type": "markdown",
      "source": [
        "### order_products__prior"
      ]
    },
    {
      "metadata": {
        "id": "-49qTkPlLBT_",
        "colab_type": "code",
        "colab": {}
      },
      "cell_type": "code",
      "source": [
        "order_products__prior = pd.read_csv('order_products__prior.csv')"
      ],
      "execution_count": 0,
      "outputs": []
    },
    {
      "metadata": {
        "id": "mMdtKdHkJBFu",
        "colab_type": "code",
        "colab": {
          "base_uri": "https://localhost:8080/",
          "height": 34
        },
        "outputId": "a103345d-3fe6-4998-b80a-886aeb8ad8dd"
      },
      "cell_type": "code",
      "source": [
        "order_products__prior.shape"
      ],
      "execution_count": 16,
      "outputs": [
        {
          "output_type": "execute_result",
          "data": {
            "text/plain": [
              "(32434489, 4)"
            ]
          },
          "metadata": {
            "tags": []
          },
          "execution_count": 16
        }
      ]
    },
    {
      "metadata": {
        "id": "GestaanqIPdP",
        "colab_type": "code",
        "colab": {
          "base_uri": "https://localhost:8080/",
          "height": 195
        },
        "outputId": "7d3a705c-f6b4-47db-a05a-2ce181283dbb"
      },
      "cell_type": "code",
      "source": [
        "order_products__prior.head()"
      ],
      "execution_count": 17,
      "outputs": [
        {
          "output_type": "execute_result",
          "data": {
            "text/html": [
              "<div>\n",
              "<style scoped>\n",
              "    .dataframe tbody tr th:only-of-type {\n",
              "        vertical-align: middle;\n",
              "    }\n",
              "\n",
              "    .dataframe tbody tr th {\n",
              "        vertical-align: top;\n",
              "    }\n",
              "\n",
              "    .dataframe thead th {\n",
              "        text-align: right;\n",
              "    }\n",
              "</style>\n",
              "<table border=\"1\" class=\"dataframe\">\n",
              "  <thead>\n",
              "    <tr style=\"text-align: right;\">\n",
              "      <th></th>\n",
              "      <th>order_id</th>\n",
              "      <th>product_id</th>\n",
              "      <th>add_to_cart_order</th>\n",
              "      <th>reordered</th>\n",
              "    </tr>\n",
              "  </thead>\n",
              "  <tbody>\n",
              "    <tr>\n",
              "      <th>0</th>\n",
              "      <td>2</td>\n",
              "      <td>33120</td>\n",
              "      <td>1</td>\n",
              "      <td>1</td>\n",
              "    </tr>\n",
              "    <tr>\n",
              "      <th>1</th>\n",
              "      <td>2</td>\n",
              "      <td>28985</td>\n",
              "      <td>2</td>\n",
              "      <td>1</td>\n",
              "    </tr>\n",
              "    <tr>\n",
              "      <th>2</th>\n",
              "      <td>2</td>\n",
              "      <td>9327</td>\n",
              "      <td>3</td>\n",
              "      <td>0</td>\n",
              "    </tr>\n",
              "    <tr>\n",
              "      <th>3</th>\n",
              "      <td>2</td>\n",
              "      <td>45918</td>\n",
              "      <td>4</td>\n",
              "      <td>1</td>\n",
              "    </tr>\n",
              "    <tr>\n",
              "      <th>4</th>\n",
              "      <td>2</td>\n",
              "      <td>30035</td>\n",
              "      <td>5</td>\n",
              "      <td>0</td>\n",
              "    </tr>\n",
              "  </tbody>\n",
              "</table>\n",
              "</div>"
            ],
            "text/plain": [
              "   order_id  product_id  add_to_cart_order  reordered\n",
              "0         2       33120                  1          1\n",
              "1         2       28985                  2          1\n",
              "2         2        9327                  3          0\n",
              "3         2       45918                  4          1\n",
              "4         2       30035                  5          0"
            ]
          },
          "metadata": {
            "tags": []
          },
          "execution_count": 17
        }
      ]
    },
    {
      "metadata": {
        "id": "0wfkEHw0IPmc",
        "colab_type": "code",
        "colab": {}
      },
      "cell_type": "code",
      "source": [
        "#display(example)\n",
        "# We need all the columns from order_products__prior except reordered"
      ],
      "execution_count": 0,
      "outputs": []
    },
    {
      "metadata": {
        "id": "HVYJEKJcLBut",
        "colab_type": "text"
      },
      "cell_type": "markdown",
      "source": [
        "### order_products__train"
      ]
    },
    {
      "metadata": {
        "id": "gbPKUMb3LDxb",
        "colab_type": "code",
        "colab": {}
      },
      "cell_type": "code",
      "source": [
        "order_products__train = pd.read_csv('order_products__train.csv')"
      ],
      "execution_count": 0,
      "outputs": []
    },
    {
      "metadata": {
        "id": "5Zmsn8aQJCVQ",
        "colab_type": "code",
        "colab": {
          "base_uri": "https://localhost:8080/",
          "height": 34
        },
        "outputId": "bb00ec7f-032e-48c5-ae50-50fa23a1462b"
      },
      "cell_type": "code",
      "source": [
        "order_products__train.shape"
      ],
      "execution_count": 20,
      "outputs": [
        {
          "output_type": "execute_result",
          "data": {
            "text/plain": [
              "(1384617, 4)"
            ]
          },
          "metadata": {
            "tags": []
          },
          "execution_count": 20
        }
      ]
    },
    {
      "metadata": {
        "id": "pn4D-8hYIQnv",
        "colab_type": "code",
        "colab": {
          "base_uri": "https://localhost:8080/",
          "height": 195
        },
        "outputId": "8a182132-fb67-44d7-c145-5405ecc2a482"
      },
      "cell_type": "code",
      "source": [
        "order_products__train.head()"
      ],
      "execution_count": 21,
      "outputs": [
        {
          "output_type": "execute_result",
          "data": {
            "text/html": [
              "<div>\n",
              "<style scoped>\n",
              "    .dataframe tbody tr th:only-of-type {\n",
              "        vertical-align: middle;\n",
              "    }\n",
              "\n",
              "    .dataframe tbody tr th {\n",
              "        vertical-align: top;\n",
              "    }\n",
              "\n",
              "    .dataframe thead th {\n",
              "        text-align: right;\n",
              "    }\n",
              "</style>\n",
              "<table border=\"1\" class=\"dataframe\">\n",
              "  <thead>\n",
              "    <tr style=\"text-align: right;\">\n",
              "      <th></th>\n",
              "      <th>order_id</th>\n",
              "      <th>product_id</th>\n",
              "      <th>add_to_cart_order</th>\n",
              "      <th>reordered</th>\n",
              "    </tr>\n",
              "  </thead>\n",
              "  <tbody>\n",
              "    <tr>\n",
              "      <th>0</th>\n",
              "      <td>1</td>\n",
              "      <td>49302</td>\n",
              "      <td>1</td>\n",
              "      <td>1</td>\n",
              "    </tr>\n",
              "    <tr>\n",
              "      <th>1</th>\n",
              "      <td>1</td>\n",
              "      <td>11109</td>\n",
              "      <td>2</td>\n",
              "      <td>1</td>\n",
              "    </tr>\n",
              "    <tr>\n",
              "      <th>2</th>\n",
              "      <td>1</td>\n",
              "      <td>10246</td>\n",
              "      <td>3</td>\n",
              "      <td>0</td>\n",
              "    </tr>\n",
              "    <tr>\n",
              "      <th>3</th>\n",
              "      <td>1</td>\n",
              "      <td>49683</td>\n",
              "      <td>4</td>\n",
              "      <td>0</td>\n",
              "    </tr>\n",
              "    <tr>\n",
              "      <th>4</th>\n",
              "      <td>1</td>\n",
              "      <td>43633</td>\n",
              "      <td>5</td>\n",
              "      <td>1</td>\n",
              "    </tr>\n",
              "  </tbody>\n",
              "</table>\n",
              "</div>"
            ],
            "text/plain": [
              "   order_id  product_id  add_to_cart_order  reordered\n",
              "0         1       49302                  1          1\n",
              "1         1       11109                  2          1\n",
              "2         1       10246                  3          0\n",
              "3         1       49683                  4          0\n",
              "4         1       43633                  5          1"
            ]
          },
          "metadata": {
            "tags": []
          },
          "execution_count": 21
        }
      ]
    },
    {
      "metadata": {
        "id": "fEnuYjG-IQwY",
        "colab_type": "code",
        "colab": {}
      },
      "cell_type": "code",
      "source": [
        "#display(example)\n",
        "# Same columns as df above. We need all the columns from order_products__train except reordered"
      ],
      "execution_count": 0,
      "outputs": []
    },
    {
      "metadata": {
        "id": "LYPrWUJnrp7G",
        "colab_type": "text"
      },
      "cell_type": "markdown",
      "source": [
        "### orders"
      ]
    },
    {
      "metadata": {
        "id": "aFyl_7vyLJxS",
        "colab_type": "code",
        "colab": {}
      },
      "cell_type": "code",
      "source": [
        "orders = pd.read_csv('orders.csv')"
      ],
      "execution_count": 0,
      "outputs": []
    },
    {
      "metadata": {
        "id": "9hAgm6fkJDvf",
        "colab_type": "code",
        "colab": {
          "base_uri": "https://localhost:8080/",
          "height": 34
        },
        "outputId": "bfd61cdf-157f-49ba-e632-9908a587342f"
      },
      "cell_type": "code",
      "source": [
        "orders.shape"
      ],
      "execution_count": 24,
      "outputs": [
        {
          "output_type": "execute_result",
          "data": {
            "text/plain": [
              "(3421083, 7)"
            ]
          },
          "metadata": {
            "tags": []
          },
          "execution_count": 24
        }
      ]
    },
    {
      "metadata": {
        "id": "SbcOrXJWISDP",
        "colab_type": "code",
        "colab": {
          "base_uri": "https://localhost:8080/",
          "height": 195
        },
        "outputId": "52064cdb-1084-49b9-82e1-8a3031f18a8e"
      },
      "cell_type": "code",
      "source": [
        "orders.head()"
      ],
      "execution_count": 25,
      "outputs": [
        {
          "output_type": "execute_result",
          "data": {
            "text/html": [
              "<div>\n",
              "<style scoped>\n",
              "    .dataframe tbody tr th:only-of-type {\n",
              "        vertical-align: middle;\n",
              "    }\n",
              "\n",
              "    .dataframe tbody tr th {\n",
              "        vertical-align: top;\n",
              "    }\n",
              "\n",
              "    .dataframe thead th {\n",
              "        text-align: right;\n",
              "    }\n",
              "</style>\n",
              "<table border=\"1\" class=\"dataframe\">\n",
              "  <thead>\n",
              "    <tr style=\"text-align: right;\">\n",
              "      <th></th>\n",
              "      <th>order_id</th>\n",
              "      <th>user_id</th>\n",
              "      <th>eval_set</th>\n",
              "      <th>order_number</th>\n",
              "      <th>order_dow</th>\n",
              "      <th>order_hour_of_day</th>\n",
              "      <th>days_since_prior_order</th>\n",
              "    </tr>\n",
              "  </thead>\n",
              "  <tbody>\n",
              "    <tr>\n",
              "      <th>0</th>\n",
              "      <td>2539329</td>\n",
              "      <td>1</td>\n",
              "      <td>prior</td>\n",
              "      <td>1</td>\n",
              "      <td>2</td>\n",
              "      <td>8</td>\n",
              "      <td>NaN</td>\n",
              "    </tr>\n",
              "    <tr>\n",
              "      <th>1</th>\n",
              "      <td>2398795</td>\n",
              "      <td>1</td>\n",
              "      <td>prior</td>\n",
              "      <td>2</td>\n",
              "      <td>3</td>\n",
              "      <td>7</td>\n",
              "      <td>15.0</td>\n",
              "    </tr>\n",
              "    <tr>\n",
              "      <th>2</th>\n",
              "      <td>473747</td>\n",
              "      <td>1</td>\n",
              "      <td>prior</td>\n",
              "      <td>3</td>\n",
              "      <td>3</td>\n",
              "      <td>12</td>\n",
              "      <td>21.0</td>\n",
              "    </tr>\n",
              "    <tr>\n",
              "      <th>3</th>\n",
              "      <td>2254736</td>\n",
              "      <td>1</td>\n",
              "      <td>prior</td>\n",
              "      <td>4</td>\n",
              "      <td>4</td>\n",
              "      <td>7</td>\n",
              "      <td>29.0</td>\n",
              "    </tr>\n",
              "    <tr>\n",
              "      <th>4</th>\n",
              "      <td>431534</td>\n",
              "      <td>1</td>\n",
              "      <td>prior</td>\n",
              "      <td>5</td>\n",
              "      <td>4</td>\n",
              "      <td>15</td>\n",
              "      <td>28.0</td>\n",
              "    </tr>\n",
              "  </tbody>\n",
              "</table>\n",
              "</div>"
            ],
            "text/plain": [
              "   order_id  user_id eval_set  order_number  order_dow  order_hour_of_day  \\\n",
              "0   2539329        1    prior             1          2                  8   \n",
              "1   2398795        1    prior             2          3                  7   \n",
              "2    473747        1    prior             3          3                 12   \n",
              "3   2254736        1    prior             4          4                  7   \n",
              "4    431534        1    prior             5          4                 15   \n",
              "\n",
              "   days_since_prior_order  \n",
              "0                     NaN  \n",
              "1                    15.0  \n",
              "2                    21.0  \n",
              "3                    29.0  \n",
              "4                    28.0  "
            ]
          },
          "metadata": {
            "tags": []
          },
          "execution_count": 25
        }
      ]
    },
    {
      "metadata": {
        "id": "TRv9I-k4ISMb",
        "colab_type": "code",
        "colab": {}
      },
      "cell_type": "code",
      "source": [
        "#display(example)\n",
        "# We need user_id, order_id, order_number, order_dow, order_hour_of_day"
      ],
      "execution_count": 0,
      "outputs": []
    },
    {
      "metadata": {
        "id": "nIX3SYXersao",
        "colab_type": "text"
      },
      "cell_type": "markdown",
      "source": [
        "### products"
      ]
    },
    {
      "metadata": {
        "id": "9icvQgRfLLU1",
        "colab_type": "code",
        "colab": {}
      },
      "cell_type": "code",
      "source": [
        "products = pd.read_csv('products.csv')"
      ],
      "execution_count": 0,
      "outputs": []
    },
    {
      "metadata": {
        "id": "NqpA53juJElG",
        "colab_type": "code",
        "colab": {
          "base_uri": "https://localhost:8080/",
          "height": 34
        },
        "outputId": "6b0f8690-874c-4800-b022-238a7fcac19a"
      },
      "cell_type": "code",
      "source": [
        "products.shape"
      ],
      "execution_count": 28,
      "outputs": [
        {
          "output_type": "execute_result",
          "data": {
            "text/plain": [
              "(49688, 4)"
            ]
          },
          "metadata": {
            "tags": []
          },
          "execution_count": 28
        }
      ]
    },
    {
      "metadata": {
        "id": "O6kccx3OIS19",
        "colab_type": "code",
        "colab": {
          "base_uri": "https://localhost:8080/",
          "height": 195
        },
        "outputId": "91c2bccd-4d55-4294-f5fb-1884a6665b5e"
      },
      "cell_type": "code",
      "source": [
        "products.head()"
      ],
      "execution_count": 29,
      "outputs": [
        {
          "output_type": "execute_result",
          "data": {
            "text/html": [
              "<div>\n",
              "<style scoped>\n",
              "    .dataframe tbody tr th:only-of-type {\n",
              "        vertical-align: middle;\n",
              "    }\n",
              "\n",
              "    .dataframe tbody tr th {\n",
              "        vertical-align: top;\n",
              "    }\n",
              "\n",
              "    .dataframe thead th {\n",
              "        text-align: right;\n",
              "    }\n",
              "</style>\n",
              "<table border=\"1\" class=\"dataframe\">\n",
              "  <thead>\n",
              "    <tr style=\"text-align: right;\">\n",
              "      <th></th>\n",
              "      <th>product_id</th>\n",
              "      <th>product_name</th>\n",
              "      <th>aisle_id</th>\n",
              "      <th>department_id</th>\n",
              "    </tr>\n",
              "  </thead>\n",
              "  <tbody>\n",
              "    <tr>\n",
              "      <th>0</th>\n",
              "      <td>1</td>\n",
              "      <td>Chocolate Sandwich Cookies</td>\n",
              "      <td>61</td>\n",
              "      <td>19</td>\n",
              "    </tr>\n",
              "    <tr>\n",
              "      <th>1</th>\n",
              "      <td>2</td>\n",
              "      <td>All-Seasons Salt</td>\n",
              "      <td>104</td>\n",
              "      <td>13</td>\n",
              "    </tr>\n",
              "    <tr>\n",
              "      <th>2</th>\n",
              "      <td>3</td>\n",
              "      <td>Robust Golden Unsweetened Oolong Tea</td>\n",
              "      <td>94</td>\n",
              "      <td>7</td>\n",
              "    </tr>\n",
              "    <tr>\n",
              "      <th>3</th>\n",
              "      <td>4</td>\n",
              "      <td>Smart Ones Classic Favorites Mini Rigatoni Wit...</td>\n",
              "      <td>38</td>\n",
              "      <td>1</td>\n",
              "    </tr>\n",
              "    <tr>\n",
              "      <th>4</th>\n",
              "      <td>5</td>\n",
              "      <td>Green Chile Anytime Sauce</td>\n",
              "      <td>5</td>\n",
              "      <td>13</td>\n",
              "    </tr>\n",
              "  </tbody>\n",
              "</table>\n",
              "</div>"
            ],
            "text/plain": [
              "   product_id                                       product_name  aisle_id  \\\n",
              "0           1                         Chocolate Sandwich Cookies        61   \n",
              "1           2                                   All-Seasons Salt       104   \n",
              "2           3               Robust Golden Unsweetened Oolong Tea        94   \n",
              "3           4  Smart Ones Classic Favorites Mini Rigatoni Wit...        38   \n",
              "4           5                          Green Chile Anytime Sauce         5   \n",
              "\n",
              "   department_id  \n",
              "0             19  \n",
              "1             13  \n",
              "2              7  \n",
              "3              1  \n",
              "4             13  "
            ]
          },
          "metadata": {
            "tags": []
          },
          "execution_count": 29
        }
      ]
    },
    {
      "metadata": {
        "id": "rMWf4pTzIS9j",
        "colab_type": "code",
        "colab": {}
      },
      "cell_type": "code",
      "source": [
        "#display(example)\n",
        "# We need product_name from this dataframe"
      ],
      "execution_count": 0,
      "outputs": []
    },
    {
      "metadata": {
        "id": "cbHumXOiJfy2",
        "colab_type": "text"
      },
      "cell_type": "markdown",
      "source": [
        "## Concatenate order_products__prior and order_products__train"
      ]
    },
    {
      "metadata": {
        "id": "TJ23kqpAY8Vv",
        "colab_type": "code",
        "colab": {}
      },
      "cell_type": "code",
      "source": [
        "# use pd.concat function to concat rows of two dataframes\n",
        "order_products = pd.concat([order_products__prior, order_products__train])"
      ],
      "execution_count": 0,
      "outputs": []
    },
    {
      "metadata": {
        "id": "LI7RlcIKLRRi",
        "colab_type": "code",
        "colab": {
          "base_uri": "https://localhost:8080/",
          "height": 34
        },
        "outputId": "3c562d51-877d-4b3e-b07c-62d956c40259"
      },
      "cell_type": "code",
      "source": [
        "# Make sure all dataframes have the same number of columns\n",
        "order_products.shape, order_products__prior.shape, order_products__train.shape"
      ],
      "execution_count": 32,
      "outputs": [
        {
          "output_type": "execute_result",
          "data": {
            "text/plain": [
              "((33819106, 4), (32434489, 4), (1384617, 4))"
            ]
          },
          "metadata": {
            "tags": []
          },
          "execution_count": 32
        }
      ]
    },
    {
      "metadata": {
        "id": "dHueMpBxLRpL",
        "colab_type": "code",
        "colab": {
          "base_uri": "https://localhost:8080/",
          "height": 34
        },
        "outputId": "2895cb65-60dd-4eea-bc37-a2ebc49428bc"
      },
      "cell_type": "code",
      "source": [
        "# Verify all have same number of columns\n",
        "len(order_products) == len(order_products__prior) + len(order_products__train)"
      ],
      "execution_count": 33,
      "outputs": [
        {
          "output_type": "execute_result",
          "data": {
            "text/plain": [
              "True"
            ]
          },
          "metadata": {
            "tags": []
          },
          "execution_count": 33
        }
      ]
    },
    {
      "metadata": {
        "id": "tbrP908yLn95",
        "colab_type": "code",
        "colab": {}
      },
      "cell_type": "code",
      "source": [
        "# Assert passes silently if True but raises error if False\n",
        "assert len(order_products) == len(order_products__prior) + len(order_products__train)"
      ],
      "execution_count": 0,
      "outputs": []
    },
    {
      "metadata": {
        "id": "KdDTcn99LoNS",
        "colab_type": "code",
        "colab": {}
      },
      "cell_type": "code",
      "source": [
        "assert (len(order_products.columns) ==\n",
        "        len(order_products__prior.columns) ==\n",
        "        len(order_products__train.columns))"
      ],
      "execution_count": 0,
      "outputs": []
    },
    {
      "metadata": {
        "id": "BAFHxvYqMPum",
        "colab_type": "code",
        "colab": {
          "base_uri": "https://localhost:8080/",
          "height": 34
        },
        "outputId": "29de9ff9-395c-4926-dcc2-1f68b887e444"
      },
      "cell_type": "code",
      "source": [
        "# Tuple unpacking\n",
        "rows, columns = order_products.shape\n",
        "\n",
        "columns"
      ],
      "execution_count": 36,
      "outputs": [
        {
          "output_type": "execute_result",
          "data": {
            "text/plain": [
              "4"
            ]
          },
          "metadata": {
            "tags": []
          },
          "execution_count": 36
        }
      ]
    },
    {
      "metadata": {
        "id": "IyV2Vo0dMP9C",
        "colab_type": "code",
        "colab": {
          "base_uri": "https://localhost:8080/",
          "height": 34
        },
        "outputId": "ae02fb7b-52e1-40ec-e4c4-841780cd91a3"
      },
      "cell_type": "code",
      "source": [
        "rows"
      ],
      "execution_count": 37,
      "outputs": [
        {
          "output_type": "execute_result",
          "data": {
            "text/plain": [
              "33819106"
            ]
          },
          "metadata": {
            "tags": []
          },
          "execution_count": 37
        }
      ]
    },
    {
      "metadata": {
        "id": "Z1YRw5ypJuv2",
        "colab_type": "text"
      },
      "cell_type": "markdown",
      "source": [
        "## Get a subset of orders — the first two orders for user id 1"
      ]
    },
    {
      "metadata": {
        "id": "YFBTseoyZAbj",
        "colab_type": "code",
        "colab": {}
      },
      "cell_type": "code",
      "source": [
        "# condition for first two orders fo user_id 1\n",
        "condition = (orders.user_id == 1) & (orders.order_number <=2)\n",
        "\n",
        "# Column list to specify columns we want\n",
        "columns = ['user_id',\n",
        "           'order_id',\n",
        "           'order_number',\n",
        "           'order_dow',\n",
        "           'order_hour_of_day']\n",
        "\n",
        "#orders[condition][columns]\n",
        "\n",
        "# Subset df based on condition and columns specified\n",
        "subset = orders.loc[condition, columns]"
      ],
      "execution_count": 0,
      "outputs": []
    },
    {
      "metadata": {
        "id": "3K1p0QHuKPnt",
        "colab_type": "text"
      },
      "cell_type": "markdown",
      "source": [
        "## Merge dataframes"
      ]
    },
    {
      "metadata": {
        "id": "DaDcnygCLZvM",
        "colab_type": "code",
        "colab": {}
      },
      "cell_type": "code",
      "source": [
        "# The 3 columns we need from order_products df\n",
        "columns = ['order_id', 'add_to_cart_order', 'product_id']\n",
        "\n",
        "# Merge subset df with order_products df\n",
        "merged = pd.merge(subset, order_products[columns], how='inner', on='order_id')"
      ],
      "execution_count": 0,
      "outputs": []
    },
    {
      "metadata": {
        "id": "iuk2dDKaNg9M",
        "colab_type": "code",
        "colab": {
          "base_uri": "https://localhost:8080/",
          "height": 34
        },
        "outputId": "0dcdac0d-1560-4f85-9caf-124d6b430b67"
      },
      "cell_type": "code",
      "source": [
        "subset.shape, merged.shape"
      ],
      "execution_count": 40,
      "outputs": [
        {
          "output_type": "execute_result",
          "data": {
            "text/plain": [
              "((2, 5), (11, 7))"
            ]
          },
          "metadata": {
            "tags": []
          },
          "execution_count": 40
        }
      ]
    },
    {
      "metadata": {
        "id": "PGw7wogZNv--",
        "colab_type": "code",
        "colab": {
          "base_uri": "https://localhost:8080/",
          "height": 106
        },
        "outputId": "e64113f8-9880-461e-ba37-d26530d8761a"
      },
      "cell_type": "code",
      "source": [
        "subset"
      ],
      "execution_count": 41,
      "outputs": [
        {
          "output_type": "execute_result",
          "data": {
            "text/html": [
              "<div>\n",
              "<style scoped>\n",
              "    .dataframe tbody tr th:only-of-type {\n",
              "        vertical-align: middle;\n",
              "    }\n",
              "\n",
              "    .dataframe tbody tr th {\n",
              "        vertical-align: top;\n",
              "    }\n",
              "\n",
              "    .dataframe thead th {\n",
              "        text-align: right;\n",
              "    }\n",
              "</style>\n",
              "<table border=\"1\" class=\"dataframe\">\n",
              "  <thead>\n",
              "    <tr style=\"text-align: right;\">\n",
              "      <th></th>\n",
              "      <th>user_id</th>\n",
              "      <th>order_id</th>\n",
              "      <th>order_number</th>\n",
              "      <th>order_dow</th>\n",
              "      <th>order_hour_of_day</th>\n",
              "    </tr>\n",
              "  </thead>\n",
              "  <tbody>\n",
              "    <tr>\n",
              "      <th>0</th>\n",
              "      <td>1</td>\n",
              "      <td>2539329</td>\n",
              "      <td>1</td>\n",
              "      <td>2</td>\n",
              "      <td>8</td>\n",
              "    </tr>\n",
              "    <tr>\n",
              "      <th>1</th>\n",
              "      <td>1</td>\n",
              "      <td>2398795</td>\n",
              "      <td>2</td>\n",
              "      <td>3</td>\n",
              "      <td>7</td>\n",
              "    </tr>\n",
              "  </tbody>\n",
              "</table>\n",
              "</div>"
            ],
            "text/plain": [
              "   user_id  order_id  order_number  order_dow  order_hour_of_day\n",
              "0        1   2539329             1          2                  8\n",
              "1        1   2398795             2          3                  7"
            ]
          },
          "metadata": {
            "tags": []
          },
          "execution_count": 41
        }
      ]
    },
    {
      "metadata": {
        "id": "MQ3E9Di0NpSt",
        "colab_type": "code",
        "colab": {
          "base_uri": "https://localhost:8080/",
          "height": 373
        },
        "outputId": "84816249-6858-475b-fd53-0c4008cee6c1"
      },
      "cell_type": "code",
      "source": [
        "merged"
      ],
      "execution_count": 42,
      "outputs": [
        {
          "output_type": "execute_result",
          "data": {
            "text/html": [
              "<div>\n",
              "<style scoped>\n",
              "    .dataframe tbody tr th:only-of-type {\n",
              "        vertical-align: middle;\n",
              "    }\n",
              "\n",
              "    .dataframe tbody tr th {\n",
              "        vertical-align: top;\n",
              "    }\n",
              "\n",
              "    .dataframe thead th {\n",
              "        text-align: right;\n",
              "    }\n",
              "</style>\n",
              "<table border=\"1\" class=\"dataframe\">\n",
              "  <thead>\n",
              "    <tr style=\"text-align: right;\">\n",
              "      <th></th>\n",
              "      <th>user_id</th>\n",
              "      <th>order_id</th>\n",
              "      <th>order_number</th>\n",
              "      <th>order_dow</th>\n",
              "      <th>order_hour_of_day</th>\n",
              "      <th>add_to_cart_order</th>\n",
              "      <th>product_id</th>\n",
              "    </tr>\n",
              "  </thead>\n",
              "  <tbody>\n",
              "    <tr>\n",
              "      <th>0</th>\n",
              "      <td>1</td>\n",
              "      <td>2539329</td>\n",
              "      <td>1</td>\n",
              "      <td>2</td>\n",
              "      <td>8</td>\n",
              "      <td>1</td>\n",
              "      <td>196</td>\n",
              "    </tr>\n",
              "    <tr>\n",
              "      <th>1</th>\n",
              "      <td>1</td>\n",
              "      <td>2539329</td>\n",
              "      <td>1</td>\n",
              "      <td>2</td>\n",
              "      <td>8</td>\n",
              "      <td>2</td>\n",
              "      <td>14084</td>\n",
              "    </tr>\n",
              "    <tr>\n",
              "      <th>2</th>\n",
              "      <td>1</td>\n",
              "      <td>2539329</td>\n",
              "      <td>1</td>\n",
              "      <td>2</td>\n",
              "      <td>8</td>\n",
              "      <td>3</td>\n",
              "      <td>12427</td>\n",
              "    </tr>\n",
              "    <tr>\n",
              "      <th>3</th>\n",
              "      <td>1</td>\n",
              "      <td>2539329</td>\n",
              "      <td>1</td>\n",
              "      <td>2</td>\n",
              "      <td>8</td>\n",
              "      <td>4</td>\n",
              "      <td>26088</td>\n",
              "    </tr>\n",
              "    <tr>\n",
              "      <th>4</th>\n",
              "      <td>1</td>\n",
              "      <td>2539329</td>\n",
              "      <td>1</td>\n",
              "      <td>2</td>\n",
              "      <td>8</td>\n",
              "      <td>5</td>\n",
              "      <td>26405</td>\n",
              "    </tr>\n",
              "    <tr>\n",
              "      <th>5</th>\n",
              "      <td>1</td>\n",
              "      <td>2398795</td>\n",
              "      <td>2</td>\n",
              "      <td>3</td>\n",
              "      <td>7</td>\n",
              "      <td>1</td>\n",
              "      <td>196</td>\n",
              "    </tr>\n",
              "    <tr>\n",
              "      <th>6</th>\n",
              "      <td>1</td>\n",
              "      <td>2398795</td>\n",
              "      <td>2</td>\n",
              "      <td>3</td>\n",
              "      <td>7</td>\n",
              "      <td>2</td>\n",
              "      <td>10258</td>\n",
              "    </tr>\n",
              "    <tr>\n",
              "      <th>7</th>\n",
              "      <td>1</td>\n",
              "      <td>2398795</td>\n",
              "      <td>2</td>\n",
              "      <td>3</td>\n",
              "      <td>7</td>\n",
              "      <td>3</td>\n",
              "      <td>12427</td>\n",
              "    </tr>\n",
              "    <tr>\n",
              "      <th>8</th>\n",
              "      <td>1</td>\n",
              "      <td>2398795</td>\n",
              "      <td>2</td>\n",
              "      <td>3</td>\n",
              "      <td>7</td>\n",
              "      <td>4</td>\n",
              "      <td>13176</td>\n",
              "    </tr>\n",
              "    <tr>\n",
              "      <th>9</th>\n",
              "      <td>1</td>\n",
              "      <td>2398795</td>\n",
              "      <td>2</td>\n",
              "      <td>3</td>\n",
              "      <td>7</td>\n",
              "      <td>5</td>\n",
              "      <td>26088</td>\n",
              "    </tr>\n",
              "    <tr>\n",
              "      <th>10</th>\n",
              "      <td>1</td>\n",
              "      <td>2398795</td>\n",
              "      <td>2</td>\n",
              "      <td>3</td>\n",
              "      <td>7</td>\n",
              "      <td>6</td>\n",
              "      <td>13032</td>\n",
              "    </tr>\n",
              "  </tbody>\n",
              "</table>\n",
              "</div>"
            ],
            "text/plain": [
              "    user_id  order_id  order_number  order_dow  order_hour_of_day  \\\n",
              "0         1   2539329             1          2                  8   \n",
              "1         1   2539329             1          2                  8   \n",
              "2         1   2539329             1          2                  8   \n",
              "3         1   2539329             1          2                  8   \n",
              "4         1   2539329             1          2                  8   \n",
              "5         1   2398795             2          3                  7   \n",
              "6         1   2398795             2          3                  7   \n",
              "7         1   2398795             2          3                  7   \n",
              "8         1   2398795             2          3                  7   \n",
              "9         1   2398795             2          3                  7   \n",
              "10        1   2398795             2          3                  7   \n",
              "\n",
              "    add_to_cart_order  product_id  \n",
              "0                   1         196  \n",
              "1                   2       14084  \n",
              "2                   3       12427  \n",
              "3                   4       26088  \n",
              "4                   5       26405  \n",
              "5                   1         196  \n",
              "6                   2       10258  \n",
              "7                   3       12427  \n",
              "8                   4       13176  \n",
              "9                   5       26088  \n",
              "10                  6       13032  "
            ]
          },
          "metadata": {
            "tags": []
          },
          "execution_count": 42
        }
      ]
    },
    {
      "metadata": {
        "id": "GStj39itOk-u",
        "colab_type": "text"
      },
      "cell_type": "markdown",
      "source": [
        "1. Add product_name"
      ]
    },
    {
      "metadata": {
        "id": "uK6_mP2mNp6e",
        "colab_type": "code",
        "colab": {}
      },
      "cell_type": "code",
      "source": [
        "# Make final df with product_name column added\n",
        "final = pd.merge(merged, products[['product_id', 'product_name']])"
      ],
      "execution_count": 0,
      "outputs": []
    },
    {
      "metadata": {
        "id": "ECgpfCGUPNvh",
        "colab_type": "code",
        "colab": {}
      },
      "cell_type": "code",
      "source": [
        "# Sort by order_number and add_to_cart_order like in the example\n",
        "final = final.sort_values(by=['order_number', 'add_to_cart_order'])"
      ],
      "execution_count": 0,
      "outputs": []
    },
    {
      "metadata": {
        "id": "sAwXbVpAPStS",
        "colab_type": "code",
        "colab": {
          "base_uri": "https://localhost:8080/",
          "height": 373
        },
        "outputId": "e9142e91-81f1-4ca9-e60f-b1ffd77d4087"
      },
      "cell_type": "code",
      "source": [
        "final"
      ],
      "execution_count": 45,
      "outputs": [
        {
          "output_type": "execute_result",
          "data": {
            "text/html": [
              "<div>\n",
              "<style scoped>\n",
              "    .dataframe tbody tr th:only-of-type {\n",
              "        vertical-align: middle;\n",
              "    }\n",
              "\n",
              "    .dataframe tbody tr th {\n",
              "        vertical-align: top;\n",
              "    }\n",
              "\n",
              "    .dataframe thead th {\n",
              "        text-align: right;\n",
              "    }\n",
              "</style>\n",
              "<table border=\"1\" class=\"dataframe\">\n",
              "  <thead>\n",
              "    <tr style=\"text-align: right;\">\n",
              "      <th></th>\n",
              "      <th>user_id</th>\n",
              "      <th>order_id</th>\n",
              "      <th>order_number</th>\n",
              "      <th>order_dow</th>\n",
              "      <th>order_hour_of_day</th>\n",
              "      <th>add_to_cart_order</th>\n",
              "      <th>product_id</th>\n",
              "      <th>product_name</th>\n",
              "    </tr>\n",
              "  </thead>\n",
              "  <tbody>\n",
              "    <tr>\n",
              "      <th>0</th>\n",
              "      <td>1</td>\n",
              "      <td>2539329</td>\n",
              "      <td>1</td>\n",
              "      <td>2</td>\n",
              "      <td>8</td>\n",
              "      <td>1</td>\n",
              "      <td>196</td>\n",
              "      <td>Soda</td>\n",
              "    </tr>\n",
              "    <tr>\n",
              "      <th>2</th>\n",
              "      <td>1</td>\n",
              "      <td>2539329</td>\n",
              "      <td>1</td>\n",
              "      <td>2</td>\n",
              "      <td>8</td>\n",
              "      <td>2</td>\n",
              "      <td>14084</td>\n",
              "      <td>Organic Unsweetened Vanilla Almond Milk</td>\n",
              "    </tr>\n",
              "    <tr>\n",
              "      <th>3</th>\n",
              "      <td>1</td>\n",
              "      <td>2539329</td>\n",
              "      <td>1</td>\n",
              "      <td>2</td>\n",
              "      <td>8</td>\n",
              "      <td>3</td>\n",
              "      <td>12427</td>\n",
              "      <td>Original Beef Jerky</td>\n",
              "    </tr>\n",
              "    <tr>\n",
              "      <th>5</th>\n",
              "      <td>1</td>\n",
              "      <td>2539329</td>\n",
              "      <td>1</td>\n",
              "      <td>2</td>\n",
              "      <td>8</td>\n",
              "      <td>4</td>\n",
              "      <td>26088</td>\n",
              "      <td>Aged White Cheddar Popcorn</td>\n",
              "    </tr>\n",
              "    <tr>\n",
              "      <th>7</th>\n",
              "      <td>1</td>\n",
              "      <td>2539329</td>\n",
              "      <td>1</td>\n",
              "      <td>2</td>\n",
              "      <td>8</td>\n",
              "      <td>5</td>\n",
              "      <td>26405</td>\n",
              "      <td>XL Pick-A-Size Paper Towel Rolls</td>\n",
              "    </tr>\n",
              "    <tr>\n",
              "      <th>1</th>\n",
              "      <td>1</td>\n",
              "      <td>2398795</td>\n",
              "      <td>2</td>\n",
              "      <td>3</td>\n",
              "      <td>7</td>\n",
              "      <td>1</td>\n",
              "      <td>196</td>\n",
              "      <td>Soda</td>\n",
              "    </tr>\n",
              "    <tr>\n",
              "      <th>8</th>\n",
              "      <td>1</td>\n",
              "      <td>2398795</td>\n",
              "      <td>2</td>\n",
              "      <td>3</td>\n",
              "      <td>7</td>\n",
              "      <td>2</td>\n",
              "      <td>10258</td>\n",
              "      <td>Pistachios</td>\n",
              "    </tr>\n",
              "    <tr>\n",
              "      <th>4</th>\n",
              "      <td>1</td>\n",
              "      <td>2398795</td>\n",
              "      <td>2</td>\n",
              "      <td>3</td>\n",
              "      <td>7</td>\n",
              "      <td>3</td>\n",
              "      <td>12427</td>\n",
              "      <td>Original Beef Jerky</td>\n",
              "    </tr>\n",
              "    <tr>\n",
              "      <th>9</th>\n",
              "      <td>1</td>\n",
              "      <td>2398795</td>\n",
              "      <td>2</td>\n",
              "      <td>3</td>\n",
              "      <td>7</td>\n",
              "      <td>4</td>\n",
              "      <td>13176</td>\n",
              "      <td>Bag of Organic Bananas</td>\n",
              "    </tr>\n",
              "    <tr>\n",
              "      <th>6</th>\n",
              "      <td>1</td>\n",
              "      <td>2398795</td>\n",
              "      <td>2</td>\n",
              "      <td>3</td>\n",
              "      <td>7</td>\n",
              "      <td>5</td>\n",
              "      <td>26088</td>\n",
              "      <td>Aged White Cheddar Popcorn</td>\n",
              "    </tr>\n",
              "    <tr>\n",
              "      <th>10</th>\n",
              "      <td>1</td>\n",
              "      <td>2398795</td>\n",
              "      <td>2</td>\n",
              "      <td>3</td>\n",
              "      <td>7</td>\n",
              "      <td>6</td>\n",
              "      <td>13032</td>\n",
              "      <td>Cinnamon Toast Crunch</td>\n",
              "    </tr>\n",
              "  </tbody>\n",
              "</table>\n",
              "</div>"
            ],
            "text/plain": [
              "    user_id  order_id  order_number  order_dow  order_hour_of_day  \\\n",
              "0         1   2539329             1          2                  8   \n",
              "2         1   2539329             1          2                  8   \n",
              "3         1   2539329             1          2                  8   \n",
              "5         1   2539329             1          2                  8   \n",
              "7         1   2539329             1          2                  8   \n",
              "1         1   2398795             2          3                  7   \n",
              "8         1   2398795             2          3                  7   \n",
              "4         1   2398795             2          3                  7   \n",
              "9         1   2398795             2          3                  7   \n",
              "6         1   2398795             2          3                  7   \n",
              "10        1   2398795             2          3                  7   \n",
              "\n",
              "    add_to_cart_order  product_id                             product_name  \n",
              "0                   1         196                                     Soda  \n",
              "2                   2       14084  Organic Unsweetened Vanilla Almond Milk  \n",
              "3                   3       12427                      Original Beef Jerky  \n",
              "5                   4       26088               Aged White Cheddar Popcorn  \n",
              "7                   5       26405         XL Pick-A-Size Paper Towel Rolls  \n",
              "1                   1         196                                     Soda  \n",
              "8                   2       10258                               Pistachios  \n",
              "4                   3       12427                      Original Beef Jerky  \n",
              "9                   4       13176                   Bag of Organic Bananas  \n",
              "6                   5       26088               Aged White Cheddar Popcorn  \n",
              "10                  6       13032                    Cinnamon Toast Crunch  "
            ]
          },
          "metadata": {
            "tags": []
          },
          "execution_count": 45
        }
      ]
    },
    {
      "metadata": {
        "id": "gNWuVE9WPTBx",
        "colab_type": "code",
        "colab": {}
      },
      "cell_type": "code",
      "source": [
        ""
      ],
      "execution_count": 0,
      "outputs": []
    },
    {
      "metadata": {
        "id": "Al2FufYcOpnv",
        "colab_type": "text"
      },
      "cell_type": "markdown",
      "source": [
        "2. Rename columns so they have spaces instead of underscores"
      ]
    },
    {
      "metadata": {
        "id": "YbVZnd7yOuKy",
        "colab_type": "code",
        "colab": {}
      },
      "cell_type": "code",
      "source": [
        "# Replace underscores in column names with spaces\n",
        "final.columns = [column.replace('_', ' ') for column in final]"
      ],
      "execution_count": 0,
      "outputs": []
    },
    {
      "metadata": {
        "id": "TWQPu3xbQLiO",
        "colab_type": "code",
        "colab": {
          "base_uri": "https://localhost:8080/",
          "height": 373
        },
        "outputId": "2f218c16-a0a4-4a93-e329-017c3a9024bd"
      },
      "cell_type": "code",
      "source": [
        "final"
      ],
      "execution_count": 47,
      "outputs": [
        {
          "output_type": "execute_result",
          "data": {
            "text/html": [
              "<div>\n",
              "<style scoped>\n",
              "    .dataframe tbody tr th:only-of-type {\n",
              "        vertical-align: middle;\n",
              "    }\n",
              "\n",
              "    .dataframe tbody tr th {\n",
              "        vertical-align: top;\n",
              "    }\n",
              "\n",
              "    .dataframe thead th {\n",
              "        text-align: right;\n",
              "    }\n",
              "</style>\n",
              "<table border=\"1\" class=\"dataframe\">\n",
              "  <thead>\n",
              "    <tr style=\"text-align: right;\">\n",
              "      <th></th>\n",
              "      <th>user id</th>\n",
              "      <th>order id</th>\n",
              "      <th>order number</th>\n",
              "      <th>order dow</th>\n",
              "      <th>order hour of day</th>\n",
              "      <th>add to cart order</th>\n",
              "      <th>product id</th>\n",
              "      <th>product name</th>\n",
              "    </tr>\n",
              "  </thead>\n",
              "  <tbody>\n",
              "    <tr>\n",
              "      <th>0</th>\n",
              "      <td>1</td>\n",
              "      <td>2539329</td>\n",
              "      <td>1</td>\n",
              "      <td>2</td>\n",
              "      <td>8</td>\n",
              "      <td>1</td>\n",
              "      <td>196</td>\n",
              "      <td>Soda</td>\n",
              "    </tr>\n",
              "    <tr>\n",
              "      <th>2</th>\n",
              "      <td>1</td>\n",
              "      <td>2539329</td>\n",
              "      <td>1</td>\n",
              "      <td>2</td>\n",
              "      <td>8</td>\n",
              "      <td>2</td>\n",
              "      <td>14084</td>\n",
              "      <td>Organic Unsweetened Vanilla Almond Milk</td>\n",
              "    </tr>\n",
              "    <tr>\n",
              "      <th>3</th>\n",
              "      <td>1</td>\n",
              "      <td>2539329</td>\n",
              "      <td>1</td>\n",
              "      <td>2</td>\n",
              "      <td>8</td>\n",
              "      <td>3</td>\n",
              "      <td>12427</td>\n",
              "      <td>Original Beef Jerky</td>\n",
              "    </tr>\n",
              "    <tr>\n",
              "      <th>5</th>\n",
              "      <td>1</td>\n",
              "      <td>2539329</td>\n",
              "      <td>1</td>\n",
              "      <td>2</td>\n",
              "      <td>8</td>\n",
              "      <td>4</td>\n",
              "      <td>26088</td>\n",
              "      <td>Aged White Cheddar Popcorn</td>\n",
              "    </tr>\n",
              "    <tr>\n",
              "      <th>7</th>\n",
              "      <td>1</td>\n",
              "      <td>2539329</td>\n",
              "      <td>1</td>\n",
              "      <td>2</td>\n",
              "      <td>8</td>\n",
              "      <td>5</td>\n",
              "      <td>26405</td>\n",
              "      <td>XL Pick-A-Size Paper Towel Rolls</td>\n",
              "    </tr>\n",
              "    <tr>\n",
              "      <th>1</th>\n",
              "      <td>1</td>\n",
              "      <td>2398795</td>\n",
              "      <td>2</td>\n",
              "      <td>3</td>\n",
              "      <td>7</td>\n",
              "      <td>1</td>\n",
              "      <td>196</td>\n",
              "      <td>Soda</td>\n",
              "    </tr>\n",
              "    <tr>\n",
              "      <th>8</th>\n",
              "      <td>1</td>\n",
              "      <td>2398795</td>\n",
              "      <td>2</td>\n",
              "      <td>3</td>\n",
              "      <td>7</td>\n",
              "      <td>2</td>\n",
              "      <td>10258</td>\n",
              "      <td>Pistachios</td>\n",
              "    </tr>\n",
              "    <tr>\n",
              "      <th>4</th>\n",
              "      <td>1</td>\n",
              "      <td>2398795</td>\n",
              "      <td>2</td>\n",
              "      <td>3</td>\n",
              "      <td>7</td>\n",
              "      <td>3</td>\n",
              "      <td>12427</td>\n",
              "      <td>Original Beef Jerky</td>\n",
              "    </tr>\n",
              "    <tr>\n",
              "      <th>9</th>\n",
              "      <td>1</td>\n",
              "      <td>2398795</td>\n",
              "      <td>2</td>\n",
              "      <td>3</td>\n",
              "      <td>7</td>\n",
              "      <td>4</td>\n",
              "      <td>13176</td>\n",
              "      <td>Bag of Organic Bananas</td>\n",
              "    </tr>\n",
              "    <tr>\n",
              "      <th>6</th>\n",
              "      <td>1</td>\n",
              "      <td>2398795</td>\n",
              "      <td>2</td>\n",
              "      <td>3</td>\n",
              "      <td>7</td>\n",
              "      <td>5</td>\n",
              "      <td>26088</td>\n",
              "      <td>Aged White Cheddar Popcorn</td>\n",
              "    </tr>\n",
              "    <tr>\n",
              "      <th>10</th>\n",
              "      <td>1</td>\n",
              "      <td>2398795</td>\n",
              "      <td>2</td>\n",
              "      <td>3</td>\n",
              "      <td>7</td>\n",
              "      <td>6</td>\n",
              "      <td>13032</td>\n",
              "      <td>Cinnamon Toast Crunch</td>\n",
              "    </tr>\n",
              "  </tbody>\n",
              "</table>\n",
              "</div>"
            ],
            "text/plain": [
              "    user id  order id  order number  order dow  order hour of day  \\\n",
              "0         1   2539329             1          2                  8   \n",
              "2         1   2539329             1          2                  8   \n",
              "3         1   2539329             1          2                  8   \n",
              "5         1   2539329             1          2                  8   \n",
              "7         1   2539329             1          2                  8   \n",
              "1         1   2398795             2          3                  7   \n",
              "8         1   2398795             2          3                  7   \n",
              "4         1   2398795             2          3                  7   \n",
              "9         1   2398795             2          3                  7   \n",
              "6         1   2398795             2          3                  7   \n",
              "10        1   2398795             2          3                  7   \n",
              "\n",
              "    add to cart order  product id                             product name  \n",
              "0                   1         196                                     Soda  \n",
              "2                   2       14084  Organic Unsweetened Vanilla Almond Milk  \n",
              "3                   3       12427                      Original Beef Jerky  \n",
              "5                   4       26088               Aged White Cheddar Popcorn  \n",
              "7                   5       26405         XL Pick-A-Size Paper Towel Rolls  \n",
              "1                   1         196                                     Soda  \n",
              "8                   2       10258                               Pistachios  \n",
              "4                   3       12427                      Original Beef Jerky  \n",
              "9                   4       13176                   Bag of Organic Bananas  \n",
              "6                   5       26088               Aged White Cheddar Popcorn  \n",
              "10                  6       13032                    Cinnamon Toast Crunch  "
            ]
          },
          "metadata": {
            "tags": []
          },
          "execution_count": 47
        }
      ]
    },
    {
      "metadata": {
        "id": "llehjSM7TuCS",
        "colab_type": "text"
      },
      "cell_type": "markdown",
      "source": [
        "# Assignment\n",
        "\n",
        "These are the top 10 most frequently ordered products. How many times was each ordered? \n",
        "\n",
        "1. Banana\n",
        "2. Bag of Organic Bananas\n",
        "3. Organic Strawberries\n",
        "4. Organic Baby Spinach \n",
        "5. Organic Hass Avocado\n",
        "6. Organic Avocado\n",
        "7. Large Lemon \n",
        "8. Strawberries\n",
        "9. Limes \n",
        "10. Organic Whole Milk\n",
        "\n",
        "First, write down which columns you need and which dataframes have them.\n",
        "\n",
        "**Columns needed: user id,\torder id,\torder number,\torder dow,\torder hour of day,\tadd to cart order,\tproduct id,\tproduct name.**\n",
        "\n",
        "Next, merge these into a single dataframe.\n",
        "\n",
        "Then, use pandas functions from the previous lesson to get the counts of the top 10 most frequently ordered products."
      ]
    },
    {
      "metadata": {
        "id": "tqRZU_G6TwxV",
        "colab_type": "code",
        "colab": {}
      },
      "cell_type": "code",
      "source": [
        "import pandas as pd\n",
        "columns = ['order_id', 'add_to_cart_order', 'product_id']\n",
        "\n",
        "# Merge orders df with order_products df\n",
        "merged = pd.merge(orders, order_products[columns], how='inner', on='order_id')"
      ],
      "execution_count": 0,
      "outputs": []
    },
    {
      "metadata": {
        "id": "v7xK8bzYVp5Y",
        "colab_type": "code",
        "colab": {
          "base_uri": "https://localhost:8080/",
          "height": 195
        },
        "outputId": "03ae816a-1c37-42fb-9da5-f2e26c77e02c"
      },
      "cell_type": "code",
      "source": [
        "merged.head()"
      ],
      "execution_count": 49,
      "outputs": [
        {
          "output_type": "execute_result",
          "data": {
            "text/html": [
              "<div>\n",
              "<style scoped>\n",
              "    .dataframe tbody tr th:only-of-type {\n",
              "        vertical-align: middle;\n",
              "    }\n",
              "\n",
              "    .dataframe tbody tr th {\n",
              "        vertical-align: top;\n",
              "    }\n",
              "\n",
              "    .dataframe thead th {\n",
              "        text-align: right;\n",
              "    }\n",
              "</style>\n",
              "<table border=\"1\" class=\"dataframe\">\n",
              "  <thead>\n",
              "    <tr style=\"text-align: right;\">\n",
              "      <th></th>\n",
              "      <th>order_id</th>\n",
              "      <th>user_id</th>\n",
              "      <th>eval_set</th>\n",
              "      <th>order_number</th>\n",
              "      <th>order_dow</th>\n",
              "      <th>order_hour_of_day</th>\n",
              "      <th>days_since_prior_order</th>\n",
              "      <th>add_to_cart_order</th>\n",
              "      <th>product_id</th>\n",
              "    </tr>\n",
              "  </thead>\n",
              "  <tbody>\n",
              "    <tr>\n",
              "      <th>0</th>\n",
              "      <td>2539329</td>\n",
              "      <td>1</td>\n",
              "      <td>prior</td>\n",
              "      <td>1</td>\n",
              "      <td>2</td>\n",
              "      <td>8</td>\n",
              "      <td>NaN</td>\n",
              "      <td>1</td>\n",
              "      <td>196</td>\n",
              "    </tr>\n",
              "    <tr>\n",
              "      <th>1</th>\n",
              "      <td>2539329</td>\n",
              "      <td>1</td>\n",
              "      <td>prior</td>\n",
              "      <td>1</td>\n",
              "      <td>2</td>\n",
              "      <td>8</td>\n",
              "      <td>NaN</td>\n",
              "      <td>2</td>\n",
              "      <td>14084</td>\n",
              "    </tr>\n",
              "    <tr>\n",
              "      <th>2</th>\n",
              "      <td>2539329</td>\n",
              "      <td>1</td>\n",
              "      <td>prior</td>\n",
              "      <td>1</td>\n",
              "      <td>2</td>\n",
              "      <td>8</td>\n",
              "      <td>NaN</td>\n",
              "      <td>3</td>\n",
              "      <td>12427</td>\n",
              "    </tr>\n",
              "    <tr>\n",
              "      <th>3</th>\n",
              "      <td>2539329</td>\n",
              "      <td>1</td>\n",
              "      <td>prior</td>\n",
              "      <td>1</td>\n",
              "      <td>2</td>\n",
              "      <td>8</td>\n",
              "      <td>NaN</td>\n",
              "      <td>4</td>\n",
              "      <td>26088</td>\n",
              "    </tr>\n",
              "    <tr>\n",
              "      <th>4</th>\n",
              "      <td>2539329</td>\n",
              "      <td>1</td>\n",
              "      <td>prior</td>\n",
              "      <td>1</td>\n",
              "      <td>2</td>\n",
              "      <td>8</td>\n",
              "      <td>NaN</td>\n",
              "      <td>5</td>\n",
              "      <td>26405</td>\n",
              "    </tr>\n",
              "  </tbody>\n",
              "</table>\n",
              "</div>"
            ],
            "text/plain": [
              "   order_id  user_id eval_set  order_number  order_dow  order_hour_of_day  \\\n",
              "0   2539329        1    prior             1          2                  8   \n",
              "1   2539329        1    prior             1          2                  8   \n",
              "2   2539329        1    prior             1          2                  8   \n",
              "3   2539329        1    prior             1          2                  8   \n",
              "4   2539329        1    prior             1          2                  8   \n",
              "\n",
              "   days_since_prior_order  add_to_cart_order  product_id  \n",
              "0                     NaN                  1         196  \n",
              "1                     NaN                  2       14084  \n",
              "2                     NaN                  3       12427  \n",
              "3                     NaN                  4       26088  \n",
              "4                     NaN                  5       26405  "
            ]
          },
          "metadata": {
            "tags": []
          },
          "execution_count": 49
        }
      ]
    },
    {
      "metadata": {
        "id": "PHpNG8iGWS6j",
        "colab_type": "code",
        "colab": {
          "base_uri": "https://localhost:8080/",
          "height": 312
        },
        "outputId": "fe3061dd-6b46-4de0-8214-6378f2f321d6"
      },
      "cell_type": "code",
      "source": [
        "display(example)"
      ],
      "execution_count": 50,
      "outputs": [
        {
          "output_type": "display_data",
          "data": {
            "text/html": [
              "<img src=\"https://cdn-images-1.medium.com/max/1600/1*vYGFQCafJtGBBX5mbl0xyw.png\" width=\"600\"/>"
            ],
            "text/plain": [
              "<IPython.core.display.Image object>"
            ]
          },
          "metadata": {
            "tags": []
          }
        }
      ]
    },
    {
      "metadata": {
        "id": "WgPjXw51WIbT",
        "colab_type": "code",
        "colab": {}
      },
      "cell_type": "code",
      "source": [
        "# Drop columns that don't match example\n",
        "merged = merged.drop(['eval_set', 'days_since_prior_order'], axis=1)"
      ],
      "execution_count": 0,
      "outputs": []
    },
    {
      "metadata": {
        "id": "id29uEv-WIqQ",
        "colab_type": "code",
        "colab": {
          "base_uri": "https://localhost:8080/",
          "height": 195
        },
        "outputId": "187f4615-1cc4-4953-93e9-d9545b2a1033"
      },
      "cell_type": "code",
      "source": [
        "merged.head()"
      ],
      "execution_count": 52,
      "outputs": [
        {
          "output_type": "execute_result",
          "data": {
            "text/html": [
              "<div>\n",
              "<style scoped>\n",
              "    .dataframe tbody tr th:only-of-type {\n",
              "        vertical-align: middle;\n",
              "    }\n",
              "\n",
              "    .dataframe tbody tr th {\n",
              "        vertical-align: top;\n",
              "    }\n",
              "\n",
              "    .dataframe thead th {\n",
              "        text-align: right;\n",
              "    }\n",
              "</style>\n",
              "<table border=\"1\" class=\"dataframe\">\n",
              "  <thead>\n",
              "    <tr style=\"text-align: right;\">\n",
              "      <th></th>\n",
              "      <th>order_id</th>\n",
              "      <th>user_id</th>\n",
              "      <th>order_number</th>\n",
              "      <th>order_dow</th>\n",
              "      <th>order_hour_of_day</th>\n",
              "      <th>add_to_cart_order</th>\n",
              "      <th>product_id</th>\n",
              "    </tr>\n",
              "  </thead>\n",
              "  <tbody>\n",
              "    <tr>\n",
              "      <th>0</th>\n",
              "      <td>2539329</td>\n",
              "      <td>1</td>\n",
              "      <td>1</td>\n",
              "      <td>2</td>\n",
              "      <td>8</td>\n",
              "      <td>1</td>\n",
              "      <td>196</td>\n",
              "    </tr>\n",
              "    <tr>\n",
              "      <th>1</th>\n",
              "      <td>2539329</td>\n",
              "      <td>1</td>\n",
              "      <td>1</td>\n",
              "      <td>2</td>\n",
              "      <td>8</td>\n",
              "      <td>2</td>\n",
              "      <td>14084</td>\n",
              "    </tr>\n",
              "    <tr>\n",
              "      <th>2</th>\n",
              "      <td>2539329</td>\n",
              "      <td>1</td>\n",
              "      <td>1</td>\n",
              "      <td>2</td>\n",
              "      <td>8</td>\n",
              "      <td>3</td>\n",
              "      <td>12427</td>\n",
              "    </tr>\n",
              "    <tr>\n",
              "      <th>3</th>\n",
              "      <td>2539329</td>\n",
              "      <td>1</td>\n",
              "      <td>1</td>\n",
              "      <td>2</td>\n",
              "      <td>8</td>\n",
              "      <td>4</td>\n",
              "      <td>26088</td>\n",
              "    </tr>\n",
              "    <tr>\n",
              "      <th>4</th>\n",
              "      <td>2539329</td>\n",
              "      <td>1</td>\n",
              "      <td>1</td>\n",
              "      <td>2</td>\n",
              "      <td>8</td>\n",
              "      <td>5</td>\n",
              "      <td>26405</td>\n",
              "    </tr>\n",
              "  </tbody>\n",
              "</table>\n",
              "</div>"
            ],
            "text/plain": [
              "   order_id  user_id  order_number  order_dow  order_hour_of_day  \\\n",
              "0   2539329        1             1          2                  8   \n",
              "1   2539329        1             1          2                  8   \n",
              "2   2539329        1             1          2                  8   \n",
              "3   2539329        1             1          2                  8   \n",
              "4   2539329        1             1          2                  8   \n",
              "\n",
              "   add_to_cart_order  product_id  \n",
              "0                  1         196  \n",
              "1                  2       14084  \n",
              "2                  3       12427  \n",
              "3                  4       26088  \n",
              "4                  5       26405  "
            ]
          },
          "metadata": {
            "tags": []
          },
          "execution_count": 52
        }
      ]
    },
    {
      "metadata": {
        "id": "sYZa5rEUWI0T",
        "colab_type": "code",
        "colab": {}
      },
      "cell_type": "code",
      "source": [
        "final = pd.merge(merged, products[['product_id', 'product_name']])"
      ],
      "execution_count": 0,
      "outputs": []
    },
    {
      "metadata": {
        "id": "bmSAgEMCWIkp",
        "colab_type": "code",
        "colab": {
          "base_uri": "https://localhost:8080/",
          "height": 195
        },
        "outputId": "c735811a-3812-401e-e79c-ef7664b38dfc"
      },
      "cell_type": "code",
      "source": [
        "final.head()"
      ],
      "execution_count": 54,
      "outputs": [
        {
          "output_type": "execute_result",
          "data": {
            "text/html": [
              "<div>\n",
              "<style scoped>\n",
              "    .dataframe tbody tr th:only-of-type {\n",
              "        vertical-align: middle;\n",
              "    }\n",
              "\n",
              "    .dataframe tbody tr th {\n",
              "        vertical-align: top;\n",
              "    }\n",
              "\n",
              "    .dataframe thead th {\n",
              "        text-align: right;\n",
              "    }\n",
              "</style>\n",
              "<table border=\"1\" class=\"dataframe\">\n",
              "  <thead>\n",
              "    <tr style=\"text-align: right;\">\n",
              "      <th></th>\n",
              "      <th>order_id</th>\n",
              "      <th>user_id</th>\n",
              "      <th>order_number</th>\n",
              "      <th>order_dow</th>\n",
              "      <th>order_hour_of_day</th>\n",
              "      <th>add_to_cart_order</th>\n",
              "      <th>product_id</th>\n",
              "      <th>product_name</th>\n",
              "    </tr>\n",
              "  </thead>\n",
              "  <tbody>\n",
              "    <tr>\n",
              "      <th>0</th>\n",
              "      <td>2539329</td>\n",
              "      <td>1</td>\n",
              "      <td>1</td>\n",
              "      <td>2</td>\n",
              "      <td>8</td>\n",
              "      <td>1</td>\n",
              "      <td>196</td>\n",
              "      <td>Soda</td>\n",
              "    </tr>\n",
              "    <tr>\n",
              "      <th>1</th>\n",
              "      <td>2398795</td>\n",
              "      <td>1</td>\n",
              "      <td>2</td>\n",
              "      <td>3</td>\n",
              "      <td>7</td>\n",
              "      <td>1</td>\n",
              "      <td>196</td>\n",
              "      <td>Soda</td>\n",
              "    </tr>\n",
              "    <tr>\n",
              "      <th>2</th>\n",
              "      <td>473747</td>\n",
              "      <td>1</td>\n",
              "      <td>3</td>\n",
              "      <td>3</td>\n",
              "      <td>12</td>\n",
              "      <td>1</td>\n",
              "      <td>196</td>\n",
              "      <td>Soda</td>\n",
              "    </tr>\n",
              "    <tr>\n",
              "      <th>3</th>\n",
              "      <td>2254736</td>\n",
              "      <td>1</td>\n",
              "      <td>4</td>\n",
              "      <td>4</td>\n",
              "      <td>7</td>\n",
              "      <td>1</td>\n",
              "      <td>196</td>\n",
              "      <td>Soda</td>\n",
              "    </tr>\n",
              "    <tr>\n",
              "      <th>4</th>\n",
              "      <td>431534</td>\n",
              "      <td>1</td>\n",
              "      <td>5</td>\n",
              "      <td>4</td>\n",
              "      <td>15</td>\n",
              "      <td>1</td>\n",
              "      <td>196</td>\n",
              "      <td>Soda</td>\n",
              "    </tr>\n",
              "  </tbody>\n",
              "</table>\n",
              "</div>"
            ],
            "text/plain": [
              "   order_id  user_id  order_number  order_dow  order_hour_of_day  \\\n",
              "0   2539329        1             1          2                  8   \n",
              "1   2398795        1             2          3                  7   \n",
              "2    473747        1             3          3                 12   \n",
              "3   2254736        1             4          4                  7   \n",
              "4    431534        1             5          4                 15   \n",
              "\n",
              "   add_to_cart_order  product_id product_name  \n",
              "0                  1         196         Soda  \n",
              "1                  1         196         Soda  \n",
              "2                  1         196         Soda  \n",
              "3                  1         196         Soda  \n",
              "4                  1         196         Soda  "
            ]
          },
          "metadata": {
            "tags": []
          },
          "execution_count": 54
        }
      ]
    },
    {
      "metadata": {
        "id": "OBcIvSFTXmYV",
        "colab_type": "code",
        "colab": {
          "base_uri": "https://localhost:8080/",
          "height": 34
        },
        "outputId": "34d4981c-1d8e-4f82-ecb0-58637631bd30"
      },
      "cell_type": "code",
      "source": [
        "#final = final.sort_values(by=['order_number', 'add_to_cart_order'])\n",
        "\n",
        "final.shape\n"
      ],
      "execution_count": 55,
      "outputs": [
        {
          "output_type": "execute_result",
          "data": {
            "text/plain": [
              "(33819106, 8)"
            ]
          },
          "metadata": {
            "tags": []
          },
          "execution_count": 55
        }
      ]
    },
    {
      "metadata": {
        "id": "NBfu_7G3Xmiv",
        "colab_type": "code",
        "colab": {
          "base_uri": "https://localhost:8080/",
          "height": 195
        },
        "outputId": "f5ff2432-eabe-4991-a8a4-25f5e46a277d"
      },
      "cell_type": "code",
      "source": [
        "# Creating new dataframe with types of products as the index and the times product was ordered as the column\n",
        "df = pd.DataFrame(final['product_name'].value_counts())\n",
        "df = df.rename(columns={'product_name': 'times_product_ordered'})\n",
        "df.head()"
      ],
      "execution_count": 56,
      "outputs": [
        {
          "output_type": "execute_result",
          "data": {
            "text/html": [
              "<div>\n",
              "<style scoped>\n",
              "    .dataframe tbody tr th:only-of-type {\n",
              "        vertical-align: middle;\n",
              "    }\n",
              "\n",
              "    .dataframe tbody tr th {\n",
              "        vertical-align: top;\n",
              "    }\n",
              "\n",
              "    .dataframe thead th {\n",
              "        text-align: right;\n",
              "    }\n",
              "</style>\n",
              "<table border=\"1\" class=\"dataframe\">\n",
              "  <thead>\n",
              "    <tr style=\"text-align: right;\">\n",
              "      <th></th>\n",
              "      <th>times_product_ordered</th>\n",
              "    </tr>\n",
              "  </thead>\n",
              "  <tbody>\n",
              "    <tr>\n",
              "      <th>Banana</th>\n",
              "      <td>491291</td>\n",
              "    </tr>\n",
              "    <tr>\n",
              "      <th>Bag of Organic Bananas</th>\n",
              "      <td>394930</td>\n",
              "    </tr>\n",
              "    <tr>\n",
              "      <th>Organic Strawberries</th>\n",
              "      <td>275577</td>\n",
              "    </tr>\n",
              "    <tr>\n",
              "      <th>Organic Baby Spinach</th>\n",
              "      <td>251705</td>\n",
              "    </tr>\n",
              "    <tr>\n",
              "      <th>Organic Hass Avocado</th>\n",
              "      <td>220877</td>\n",
              "    </tr>\n",
              "  </tbody>\n",
              "</table>\n",
              "</div>"
            ],
            "text/plain": [
              "                        times_product_ordered\n",
              "Banana                                 491291\n",
              "Bag of Organic Bananas                 394930\n",
              "Organic Strawberries                   275577\n",
              "Organic Baby Spinach                   251705\n",
              "Organic Hass Avocado                   220877"
            ]
          },
          "metadata": {
            "tags": []
          },
          "execution_count": 56
        }
      ]
    },
    {
      "metadata": {
        "id": "JXELYeEsXmvV",
        "colab_type": "code",
        "colab": {
          "base_uri": "https://localhost:8080/",
          "height": 343
        },
        "outputId": "d25d8c28-0cb7-4eb3-c915-5bde6ba51ceb"
      },
      "cell_type": "code",
      "source": [
        "# Showing 10 most purchased products with nlargest func\n",
        "df.nlargest(10, 'times_product_ordered')"
      ],
      "execution_count": 57,
      "outputs": [
        {
          "output_type": "execute_result",
          "data": {
            "text/html": [
              "<div>\n",
              "<style scoped>\n",
              "    .dataframe tbody tr th:only-of-type {\n",
              "        vertical-align: middle;\n",
              "    }\n",
              "\n",
              "    .dataframe tbody tr th {\n",
              "        vertical-align: top;\n",
              "    }\n",
              "\n",
              "    .dataframe thead th {\n",
              "        text-align: right;\n",
              "    }\n",
              "</style>\n",
              "<table border=\"1\" class=\"dataframe\">\n",
              "  <thead>\n",
              "    <tr style=\"text-align: right;\">\n",
              "      <th></th>\n",
              "      <th>times_product_ordered</th>\n",
              "    </tr>\n",
              "  </thead>\n",
              "  <tbody>\n",
              "    <tr>\n",
              "      <th>Banana</th>\n",
              "      <td>491291</td>\n",
              "    </tr>\n",
              "    <tr>\n",
              "      <th>Bag of Organic Bananas</th>\n",
              "      <td>394930</td>\n",
              "    </tr>\n",
              "    <tr>\n",
              "      <th>Organic Strawberries</th>\n",
              "      <td>275577</td>\n",
              "    </tr>\n",
              "    <tr>\n",
              "      <th>Organic Baby Spinach</th>\n",
              "      <td>251705</td>\n",
              "    </tr>\n",
              "    <tr>\n",
              "      <th>Organic Hass Avocado</th>\n",
              "      <td>220877</td>\n",
              "    </tr>\n",
              "    <tr>\n",
              "      <th>Organic Avocado</th>\n",
              "      <td>184224</td>\n",
              "    </tr>\n",
              "    <tr>\n",
              "      <th>Large Lemon</th>\n",
              "      <td>160792</td>\n",
              "    </tr>\n",
              "    <tr>\n",
              "      <th>Strawberries</th>\n",
              "      <td>149445</td>\n",
              "    </tr>\n",
              "    <tr>\n",
              "      <th>Limes</th>\n",
              "      <td>146660</td>\n",
              "    </tr>\n",
              "    <tr>\n",
              "      <th>Organic Whole Milk</th>\n",
              "      <td>142813</td>\n",
              "    </tr>\n",
              "  </tbody>\n",
              "</table>\n",
              "</div>"
            ],
            "text/plain": [
              "                        times_product_ordered\n",
              "Banana                                 491291\n",
              "Bag of Organic Bananas                 394930\n",
              "Organic Strawberries                   275577\n",
              "Organic Baby Spinach                   251705\n",
              "Organic Hass Avocado                   220877\n",
              "Organic Avocado                        184224\n",
              "Large Lemon                            160792\n",
              "Strawberries                           149445\n",
              "Limes                                  146660\n",
              "Organic Whole Milk                     142813"
            ]
          },
          "metadata": {
            "tags": []
          },
          "execution_count": 57
        }
      ]
    },
    {
      "metadata": {
        "id": "-O_N8eqwXm_i",
        "colab_type": "code",
        "colab": {}
      },
      "cell_type": "code",
      "source": [
        ""
      ],
      "execution_count": 0,
      "outputs": []
    },
    {
      "metadata": {
        "id": "UfFkN3SSTx2n",
        "colab_type": "text"
      },
      "cell_type": "markdown",
      "source": [
        "## Stretch challenge\n",
        "\n",
        "The [Instacart blog post](https://tech.instacart.com/3-million-instacart-orders-open-sourced-d40d29ead6f2) has a visualization of \"**Popular products** purchased earliest in the day (green) and latest in the day (red).\" \n",
        "\n",
        "The post says,\n",
        "\n",
        "> \"We can also see the time of day that users purchase specific products.\n",
        "\n",
        "> Healthier snacks and staples tend to be purchased earlier in the day, whereas ice cream (especially Half Baked and The Tonight Dough) are far more popular when customers are ordering in the evening.\n",
        "\n",
        "> **In fact, of the top 25 latest ordered products, the first 24 are ice cream! The last one, of course, is a frozen pizza.**\"\n",
        "\n",
        "Your challenge is to reproduce the list of the top 25 latest ordered popular products.\n",
        "\n",
        "We'll define \"popular products\" as products with more than 2,900 orders."
      ]
    },
    {
      "metadata": {
        "id": "8_DB3FwJhqjs",
        "colab_type": "code",
        "colab": {
          "base_uri": "https://localhost:8080/",
          "height": 195
        },
        "outputId": "a96159a6-acaa-4ffc-bb49-b27ffae980aa"
      },
      "cell_type": "code",
      "source": [
        "# Make new df with just the last hour of the day\n",
        "late_day = final[(final['order_hour_of_day'] >=23)]\n",
        "late_day.head()"
      ],
      "execution_count": 88,
      "outputs": [
        {
          "output_type": "execute_result",
          "data": {
            "text/html": [
              "<div>\n",
              "<style scoped>\n",
              "    .dataframe tbody tr th:only-of-type {\n",
              "        vertical-align: middle;\n",
              "    }\n",
              "\n",
              "    .dataframe tbody tr th {\n",
              "        vertical-align: top;\n",
              "    }\n",
              "\n",
              "    .dataframe thead th {\n",
              "        text-align: right;\n",
              "    }\n",
              "</style>\n",
              "<table border=\"1\" class=\"dataframe\">\n",
              "  <thead>\n",
              "    <tr style=\"text-align: right;\">\n",
              "      <th></th>\n",
              "      <th>order_id</th>\n",
              "      <th>user_id</th>\n",
              "      <th>order_number</th>\n",
              "      <th>order_dow</th>\n",
              "      <th>order_hour_of_day</th>\n",
              "      <th>add_to_cart_order</th>\n",
              "      <th>product_id</th>\n",
              "      <th>product_name</th>\n",
              "    </tr>\n",
              "  </thead>\n",
              "  <tbody>\n",
              "    <tr>\n",
              "      <th>289</th>\n",
              "      <td>1557787</td>\n",
              "      <td>1755</td>\n",
              "      <td>2</td>\n",
              "      <td>4</td>\n",
              "      <td>23</td>\n",
              "      <td>1</td>\n",
              "      <td>196</td>\n",
              "      <td>Soda</td>\n",
              "    </tr>\n",
              "    <tr>\n",
              "      <th>304</th>\n",
              "      <td>411022</td>\n",
              "      <td>1774</td>\n",
              "      <td>3</td>\n",
              "      <td>0</td>\n",
              "      <td>23</td>\n",
              "      <td>1</td>\n",
              "      <td>196</td>\n",
              "      <td>Soda</td>\n",
              "    </tr>\n",
              "    <tr>\n",
              "      <th>380</th>\n",
              "      <td>2983635</td>\n",
              "      <td>2383</td>\n",
              "      <td>6</td>\n",
              "      <td>0</td>\n",
              "      <td>23</td>\n",
              "      <td>6</td>\n",
              "      <td>196</td>\n",
              "      <td>Soda</td>\n",
              "    </tr>\n",
              "    <tr>\n",
              "      <th>518</th>\n",
              "      <td>78761</td>\n",
              "      <td>2930</td>\n",
              "      <td>35</td>\n",
              "      <td>0</td>\n",
              "      <td>23</td>\n",
              "      <td>4</td>\n",
              "      <td>196</td>\n",
              "      <td>Soda</td>\n",
              "    </tr>\n",
              "    <tr>\n",
              "      <th>644</th>\n",
              "      <td>2874446</td>\n",
              "      <td>3855</td>\n",
              "      <td>3</td>\n",
              "      <td>3</td>\n",
              "      <td>23</td>\n",
              "      <td>5</td>\n",
              "      <td>196</td>\n",
              "      <td>Soda</td>\n",
              "    </tr>\n",
              "  </tbody>\n",
              "</table>\n",
              "</div>"
            ],
            "text/plain": [
              "     order_id  user_id  order_number  order_dow  order_hour_of_day  \\\n",
              "289   1557787     1755             2          4                 23   \n",
              "304    411022     1774             3          0                 23   \n",
              "380   2983635     2383             6          0                 23   \n",
              "518     78761     2930            35          0                 23   \n",
              "644   2874446     3855             3          3                 23   \n",
              "\n",
              "     add_to_cart_order  product_id product_name  \n",
              "289                  1         196         Soda  \n",
              "304                  1         196         Soda  \n",
              "380                  6         196         Soda  \n",
              "518                  4         196         Soda  \n",
              "644                  5         196         Soda  "
            ]
          },
          "metadata": {
            "tags": []
          },
          "execution_count": 88
        }
      ]
    },
    {
      "metadata": {
        "id": "jyoQwRN5hqvQ",
        "colab_type": "code",
        "colab": {
          "base_uri": "https://localhost:8080/",
          "height": 34
        },
        "outputId": "a77b3465-e92e-48ef-99c2-8fd10ef1242c"
      },
      "cell_type": "code",
      "source": [
        "late_day.shape"
      ],
      "execution_count": 89,
      "outputs": [
        {
          "output_type": "execute_result",
          "data": {
            "text/plain": [
              "(419585, 8)"
            ]
          },
          "metadata": {
            "tags": []
          },
          "execution_count": 89
        }
      ]
    },
    {
      "metadata": {
        "id": "8mevBzfxhq6H",
        "colab_type": "code",
        "colab": {
          "base_uri": "https://localhost:8080/",
          "height": 8450
        },
        "outputId": "4d326272-8f76-4cf5-da08-1435c4d7fe8d"
      },
      "cell_type": "code",
      "source": [
        "# Look at value counts to see which items were most purchased in hour 23 of the day\n",
        "pd.options.display.max_rows = 500\n",
        "late_day['product_name'].value_counts()"
      ],
      "execution_count": 90,
      "outputs": [
        {
          "output_type": "execute_result",
          "data": {
            "text/plain": [
              "Banana                                                                                              5587\n",
              "Bag of Organic Bananas                                                                              5098\n",
              "Organic Strawberries                                                                                3677\n",
              "Organic Baby Spinach                                                                                3304\n",
              "Organic Hass Avocado                                                                                2702\n",
              "Organic Avocado                                                                                     2280\n",
              "Strawberries                                                                                        1920\n",
              "Large Lemon                                                                                         1906\n",
              "Organic Raspberries                                                                                 1872\n",
              "Organic Whole Milk                                                                                  1870\n",
              "Limes                                                                                               1823\n",
              "Organic Blueberries                                                                                 1533\n",
              "Organic Zucchini                                                                                    1508\n",
              "Organic Garlic                                                                                      1463\n",
              "Organic Yellow Onion                                                                                1394\n",
              "Cucumber Kirby                                                                                      1250\n",
              "Organic Lemon                                                                                       1191\n",
              "Organic Cucumber                                                                                    1180\n",
              "Organic Grape Tomatoes                                                                              1165\n",
              "Seedless Red Grapes                                                                                 1137\n",
              "Organic Baby Carrots                                                                                1103\n",
              "Organic Cilantro                                                                                    1074\n",
              "Organic Large Extra Fancy Fuji Apple                                                                1045\n",
              "Carrots                                                                                             1037\n",
              "Apple Honeycrisp Organic                                                                            1015\n",
              "Fresh Cauliflower                                                                                   1012\n",
              "Honeycrisp Apple                                                                                    1003\n",
              "Organic Fuji Apple                                                                                  1000\n",
              "Organic Baby Arugula                                                                                 995\n",
              "Organic Red Onion                                                                                    972\n",
              "Original Hummus                                                                                      962\n",
              "Organic Blackberries                                                                                 935\n",
              "Organic Gala Apples                                                                                  932\n",
              "Yellow Onions                                                                                        917\n",
              "Asparagus                                                                                            911\n",
              "Organic Italian Parsley Bunch                                                                        893\n",
              "Organic Small Bunch Celery                                                                           892\n",
              "Michigan Organic Kale                                                                                886\n",
              "Organic Tomato Cluster                                                                               882\n",
              "Organic Red Bell Pepper                                                                              878\n",
              "Hass Avocados                                                                                        867\n",
              "Organic Kiwi                                                                                         847\n",
              "Organic Granny Smith Apple                                                                           828\n",
              "Green Bell Pepper                                                                                    806\n",
              "Spring Water                                                                                         793\n",
              "Organic Ginger Root                                                                                  790\n",
              "Blueberries                                                                                          763\n",
              "Raspberries                                                                                          760\n",
              "Organic Peeled Whole Baby Carrots                                                                    754\n",
              "Red Vine Tomato                                                                                      743\n",
              "Organic Unsweetened Almond Milk                                                                      736\n",
              "Half & Half                                                                                          716\n",
              "Organic D'Anjou Pears                                                                                712\n",
              "Sparkling Water Grapefruit                                                                           703\n",
              "Organic Half & Half                                                                                  699\n",
              "Organic Whole String Cheese                                                                          699\n",
              "Red Peppers                                                                                          691\n",
              "Boneless Skinless Chicken Breasts                                                                    656\n",
              "Organic Garnet Sweet Potato (Yam)                                                                    649\n",
              "100% Whole Wheat Bread                                                                               645\n",
              "Extra Virgin Olive Oil                                                                               642\n",
              "Organic Lacinato (Dinosaur) Kale                                                                     621\n",
              "Organic Navel Orange                                                                                 621\n",
              "Unsweetened Almondmilk                                                                               592\n",
              "Garlic                                                                                               586\n",
              "Bunched Cilantro                                                                                     576\n",
              "Organic Bartlett Pear                                                                                571\n",
              "Organic Broccoli                                                                                     570\n",
              "Grated Parmesan                                                                                      569\n",
              "Small Hass Avocado                                                                                   568\n",
              "Roma Tomato                                                                                          566\n",
              "Grape White/Green Seedless                                                                           563\n",
              "Sparkling Natural Mineral Water                                                                      552\n",
              "Broccoli Crown                                                                                       548\n",
              "Orange Bell Pepper                                                                                   539\n",
              "Clementines, Bag                                                                                     535\n",
              "Organic Spring Mix                                                                                   529\n",
              "Organic Grade A Free Range Large Brown Eggs                                                          525\n",
              "100% Raw Coconut Water                                                                               522\n",
              "Red Onion                                                                                            522\n",
              "Organic Roma Tomato                                                                                  516\n",
              "Jalapeno Peppers                                                                                     505\n",
              "Organic Black Beans                                                                                  504\n",
              "Organic Reduced Fat Milk                                                                             498\n",
              "Organic Romaine Lettuce                                                                              487\n",
              "Unsalted Butter                                                                                      487\n",
              "Organic Carrot Bunch                                                                                 486\n",
              "Uncured Genoa Salami                                                                                 473\n",
              "Organic Baby Broccoli                                                                                465\n",
              "Organic Reduced Fat 2% Milk                                                                          463\n",
              "Bartlett Pears                                                                                       461\n",
              "Feta Cheese Crumbles                                                                                 460\n",
              "Shredded Parmesan                                                                                    460\n",
              "Large Alfresco Eggs                                                                                  452\n",
              "Organic Sticks Low Moisture Part Skim Mozzarella String Cheese                                       450\n",
              "Unsweetened Original Almond Breeze Almond Milk                                                       450\n",
              "Organic Garbanzo Beans                                                                               446\n",
              "Organic Russet Potato                                                                                446\n",
              "Pure Irish Butter                                                                                    440\n",
              "Organic Red Radish, Bunch                                                                            440\n",
              "Organic Extra Firm Tofu                                                                              440\n",
              "Organic Whole Strawberries                                                                           437\n",
              "Organic Broccoli Florets                                                                             436\n",
              "Whole Milk                                                                                           435\n",
              "Lime Sparkling Water                                                                                 425\n",
              "Frozen Organic Wild Blueberries                                                                      413\n",
              "Granny Smith Apples                                                                                  407\n",
              "Whipped Cream Cheese                                                                                 406\n",
              "Italian Sparkling Mineral Water                                                                      405\n",
              "Total 2% with Strawberry Lowfat Greek Strained Yogurt                                                394\n",
              "2% Reduced Fat Milk                                                                                  390\n",
              "Organic Bell Pepper                                                                                  386\n",
              "Brussels Sprouts                                                                                     384\n",
              "Fat Free Milk                                                                                        383\n",
              "Romaine Hearts                                                                                       382\n",
              "Organic Coconut Milk                                                                                 382\n",
              "Green Onions                                                                                         379\n",
              "Blackberries                                                                                         376\n",
              "Russet Potato                                                                                        374\n",
              "Green Beans                                                                                          373\n",
              "Organic Roasted Turkey Breast                                                                        366\n",
              "Organic Bosc Pear                                                                                    363\n",
              "Yellow Bell Pepper                                                                                   362\n",
              "Fresh Ginger Root                                                                                    361\n",
              "Total 0% Greek Yogurt                                                                                359\n",
              "Cantaloupe                                                                                           359\n",
              "Pineapple Chunks                                                                                     358\n",
              "Organic Basil                                                                                        356\n",
              "Sharp Cheddar Cheese                                                                                 354\n",
              "Baby Spinach                                                                                         348\n",
              "Vanilla Almond Breeze Almond Milk                                                                    348\n",
              "Sweet Onion                                                                                          347\n",
              "Total Greek Strained Yogurt                                                                          347\n",
              "Organic Green Cabbage                                                                                347\n",
              "100% Recycled Paper Towels                                                                           346\n",
              "Organic Heavy Whipping Cream                                                                         346\n",
              "Organic Large Brown Grade AA Cage Free Eggs                                                          344\n",
              "Organic Yams                                                                                         342\n",
              "Organic Hothouse Cucumbers                                                                           339\n",
              "Organic Snipped Green Beans                                                                          334\n",
              "Organic Sour Cream                                                                                   334\n",
              "Red Raspberries                                                                                      331\n",
              "Organic Romaine                                                                                      331\n",
              "Total 0% Nonfat Greek Yogurt                                                                         329\n",
              "Large Grapefruit                                                                                     325\n",
              "No Salt Added Black Beans                                                                            323\n",
              "Organic Unsalted Butter                                                                              323\n",
              "Watermelon Chunks                                                                                    322\n",
              "Organic Baby Spinach Salad                                                                           322\n",
              "Organic Green Seedless Grapes                                                                        320\n",
              "Unsweetened Vanilla Almond Milk                                                                      311\n",
              "Organic Baby Kale                                                                                    311\n",
              "Natural Spring Water                                                                                 309\n",
              "Shredded Mild Cheddar Cheese                                                                         308\n",
              "Organic Spring Mix Salad                                                                             306\n",
              "Organic Jalapeno Pepper                                                                              306\n",
              "Organic Frozen Peas                                                                                  305\n",
              "Lightly Salted Baked Snap Pea Crisps                                                                 305\n",
              "Organic Large Grade AA Brown Eggs                                                                    305\n",
              "Organic Butternut Squash                                                                             303\n",
              "Organic Diced Tomatoes                                                                               301\n",
              "Organic Yellow Peaches                                                                               299\n",
              "Organic Celery Hearts                                                                                298\n",
              "Organic Shredded Carrots                                                                             296\n",
              "Organic Old Fashioned Rolled Oats                                                                    295\n",
              "Honey Nut Cheerios                                                                                   295\n",
              "Organic Banana                                                                                       293\n",
              "Ground Turkey Breast                                                                                 292\n",
              "Creamy Almond Butter                                                                                 288\n",
              "Baby Cucumbers                                                                                       287\n",
              "Organic Egg Whites                                                                                   287\n",
              "Organic Leek                                                                                         286\n",
              "Soda                                                                                                 285\n",
              "Clementines                                                                                          284\n",
              "Organic Fat Free Milk                                                                                283\n",
              "Uncured Hickory Smoked Sunday Bacon                                                                  283\n",
              "Gala Apples                                                                                          282\n",
              "Organic White Onions                                                                                 282\n",
              "Sparkling Lemon Water                                                                                280\n",
              "Whole Milk Plain Yogurt                                                                              279\n",
              "Electrolyte Enhanced Water                                                                           277\n",
              "Original No Pulp 100% Florida Orange Juice                                                           276\n",
              "Chicken & Maple Breakfast Sausage                                                                    274\n",
              "Heavy Whipping Cream                                                                                 272\n",
              "Globe Eggplant                                                                                       272\n",
              "Organic Large Green Asparagus                                                                        272\n",
              "Organic Thyme                                                                                        270\n",
              "Salted Butter                                                                                        270\n",
              "Organic Mint                                                                                         268\n",
              "Organic Milk                                                                                         268\n",
              "European Cucumber                                                                                    265\n",
              "Shredded Mozzarella                                                                                  264\n",
              "Organic Bunch Beets                                                                                  260\n",
              "Pure Sparkling Water                                                                                 260\n",
              "Organic American Cheese Singles                                                                      258\n",
              "Organic Dill                                                                                         256\n",
              "Marinara Sauce                                                                                       256\n",
              "Sour Cream                                                                                           255\n",
              "Organic Raw Kombucha Gingerade                                                                       255\n",
              "Organic Broccoli Crowns                                                                              254\n",
              "Shallot                                                                                              253\n",
              "Lemonade                                                                                             252\n",
              "Original Orange Juice                                                                                252\n",
              "Organic Baby Rainbow Carrots                                                                         249\n",
              "Tilapia Filet                                                                                        248\n",
              "Orange Juice                                                                                         247\n",
              "Potato Yukon Gold Organic                                                                            246\n",
              "Raisin Bran Cereal                                                                                   246\n",
              "Sustainably Soft Bath Tissue                                                                         245\n",
              "Oven Roasted Turkey Breast                                                                           244\n",
              "Organic Tomato Basil Pasta Sauce                                                                     243\n",
              "Organic Tomato Paste                                                                                 241\n",
              "Sugar Snap Peas                                                                                      241\n",
              "Packaged Grape Tomatoes                                                                              241\n",
              "Ezekiel 4:9 Bread Organic Sprouted Whole Grain                                                       239\n",
              "Total 2% All Natural Greek Strained Yogurt with Honey                                                239\n",
              "Organic Whole Grassmilk Milk                                                                         237\n",
              "Lemon Hummus                                                                                         237\n",
              "Total 2% Lowfat Greek Strained Yogurt With Blueberry                                                 236\n",
              "XL Emerald White Seedless Grapes                                                                     236\n",
              "Macaroni & Cheese                                                                                    235\n",
              "Boneless Skinless Chicken Breast                                                                     234\n",
              "Roasted Turkey Breast                                                                                232\n",
              "Air Chilled Organic Boneless Skinless Chicken Breasts                                                232\n",
              "Mango Chunks                                                                                         232\n",
              "Pure Coconut Water                                                                                   230\n",
              "Organic Red Cabbage                                                                                  230\n",
              "Unsalted Pure Irish Butter                                                                           229\n",
              "Seedless Small Watermelon                                                                            229\n",
              "Organic Shredded Mozzarella                                                                          228\n",
              "Organic Unsweetened Vanilla Almond Milk                                                              228\n",
              "Milk, Organic, Vitamin D                                                                             227\n",
              "Organic Grade A Large Brown Eggs                                                                     227\n",
              "Organic Bread with 21 Whole Grains                                                                   227\n",
              "White Corn                                                                                           226\n",
              "Organic Mexican Blend Finely Shredded Cheese                                                         226\n",
              "Organic Creamy Peanut Butter                                                                         226\n",
              "Organic Turkey Bacon                                                                                 226\n",
              "Organic Extra Virgin Olive Oil                                                                       225\n",
              "Icelandic Style Skyr Blueberry Non-fat Yogurt                                                        223\n",
              "YoKids Squeezers Organic Low-Fat Yogurt, Strawberry                                                  223\n",
              "Cherubs Heavenly Salad Tomatoes                                                                      223\n",
              "Sourdough Bread                                                                                      222\n",
              "Firm Tofu                                                                                            222\n",
              "Rainbow Bell Peppers                                                                                 222\n",
              "Sinfully Sweet Campari Tomatoes                                                                      222\n",
              "Organic Salted Butter                                                                                222\n",
              "Bing Cherries                                                                                        221\n",
              "Asparation/Broccolini/Baby Broccoli                                                                  221\n",
              "Organic Red Delicious Apple                                                                          221\n",
              "                                                                                                    ... \n",
              "Original 7 Grain Sea Salt Pita Crisps                                                                  1\n",
              "Smoothies Extra Strength 750 Antacid Calcium Supplement Chewable Tablets Assorted Fruit                1\n",
              "Robust Extra Virgin Olive Oil                                                                          1\n",
              "Parsnips                                                                                               1\n",
              "Cranberry Orange Oat Bar                                                                               1\n",
              "Advantage Strawberry Shakes                                                                            1\n",
              "White Pita Pocket Bread                                                                                1\n",
              "Umcka Cough Max Relief English Ivy Base                                                                1\n",
              "Extra Sour Rye New York Style Bread                                                                    1\n",
              "Garlic Bologna                                                                                         1\n",
              "Dusted Dark Chocolate Popcorn                                                                          1\n",
              "Country Roast Mild Ground Coffee                                                                       1\n",
              "Sambucus FluCare Multi-Symptom Flu Relief Elderberry Syrup                                             1\n",
              "Tropical Mango                                                                                         1\n",
              "Lime in the Coconut Coconut Crisps                                                                     1\n",
              "Coconut Milk Leave In Conditioner Mist                                                                 1\n",
              "Blackout Berry                                                                                         1\n",
              "Spry Chewing Gum With Xylitol Green Tea                                                                1\n",
              "Doubleshot Energy Coffee Energy Coffee Beverage                                                        1\n",
              "The Original Decaf Ground Coffee                                                                       1\n",
              "Cinnamon Pull-Apart Monkey Bread                                                                       1\n",
              "Fruit Fly Trap                                                                                         1\n",
              "Gemelli                                                                                                1\n",
              "Ultra DigestMore Vegetable Capsules                                                                    1\n",
              "Roast Beef & Cheddar                                                                                   1\n",
              "High Efficiency Washing Machine Cleaner                                                                1\n",
              "Organic Tom Yum Soup Starter Soup Base                                                                 1\n",
              "Go Figs! Organic Dried Figs                                                                            1\n",
              "Baby Dry Diapers Size 3                                                                                1\n",
              "Lip Calm Lip Balm                                                                                      1\n",
              "Taco Kit                                                                                               1\n",
              "Two Step Mix Green Chili Stew                                                                          1\n",
              "Shredded Reduced Fat Mozzarella Cheese                                                                 1\n",
              "Taco Seasoned Beef & Cheese Extra Crunchy Taquitos                                                     1\n",
              "Vitacraves Multivitamin Supplement Gummies for Women                                                   1\n",
              "Purina Beyond Natural Cat Food Grain Free Ocean Whitefish & Egg Recipe                                 1\n",
              "Stage 2 Roasted Pumpkin and Coconut Rice Baby Food                                                     1\n",
              "Petite Diced Tomatoes In Tomato Juice                                                                  1\n",
              "Re:Find Rye Whiskey                                                                                    1\n",
              "Chocolate Chip Cookies Without Nuts                                                                    1\n",
              "Organic Maple Whole Grain Oatmeal                                                                      1\n",
              "Light Chicken Vegetable Rotini Soup                                                                    1\n",
              "Green Lentil Rotini With Garlic Herb Sauce                                                             1\n",
              "Infinity Overnight Pads with Wings                                                                     1\n",
              "Cheese Flavor Puffcorn                                                                                 1\n",
              "Vegetarian Soup Mix                                                                                    1\n",
              "Fried Chicken Wings                                                                                    1\n",
              "Garden Vegetable Crackers                                                                              1\n",
              "Plastic Tumbler Glasses                                                                                1\n",
              "Original Prepared Cheese Product                                                                       1\n",
              "Cranberry Nut Goodness Granola                                                                         1\n",
              "Ashwagandha Liquid  Extract                                                                            1\n",
              "Naan Garlic All Natural                                                                                1\n",
              "Vitamin Code Raw Prenatal Probiotic Immune Support System for Two                                      1\n",
              "Vegetable Spring Rolls                                                                                 1\n",
              "Ear Drying Drops                                                                                       1\n",
              "Honey Breakfast Biscuits                                                                               1\n",
              "Cane Sugar Syrup                                                                                       1\n",
              "Beef Tamales In Chili Sauce                                                                            1\n",
              "Meal Starters Grillers Crumbles                                                                        1\n",
              "Ready Snax Fruit, Cheese & Flatbread Snack Pack                                                        1\n",
              "Cherry Limeade Sparkling Water                                                                         1\n",
              "Lil Pony Toddler Paste                                                                                 1\n",
              "Mango Madness Juice                                                                                    1\n",
              "Peeler                                                                                                 1\n",
              "Pro-Health Toothbrush, Medium                                                                          1\n",
              "Salsa Del Rio Medium Green Salsa                                                                       1\n",
              "Hawaiian Sweet Rolls                                                                                   1\n",
              "Confetti Birthday Candle                                                                               1\n",
              "Maple Breakfast Sausage Links                                                                          1\n",
              "All Natural Beef Jerky                                                                                 1\n",
              "Intensive Healing Anti-Itch Creme                                                                      1\n",
              "Wintergreen Gum                                                                                        1\n",
              "Organic Spring Mix With Herbs                                                                          1\n",
              "Unsweetened Carob Chips                                                                                1\n",
              "Sliced Turkey Feast in Gravy Cat Food                                                                  1\n",
              "Popcorn Sea Salt                                                                                       1\n",
              "Organic Peppermint                                                                                     1\n",
              "Kits Organic Dark Chocolate Peanut Bar                                                                 1\n",
              "Organic Vanilla Arrowroot Cookies for Toddlers                                                         1\n",
              "5 Rain Gum                                                                                             1\n",
              "Citrus & Light Multi-Purpose Cleaner With Febreze                                                      1\n",
              "Scotch-Brite Stay Clean Scrubbers                                                                      1\n",
              "Vanilla Wafers Cookies                                                                                 1\n",
              "Dijon Style Mustard                                                                                    1\n",
              "Organic Swiss Chard                                                                                    1\n",
              "100% Prune Juice                                                                                       1\n",
              "Quattro For Women Sensitive Skin Refill Blades                                                         1\n",
              "Cipolline Onions                                                                                       1\n",
              "90 Calorie Chocolate Peanut Butter Brownies                                                            1\n",
              "Flour Tortillas 8 Count                                                                                1\n",
              "Hemp Protein Hi-Fiber                                                                                  1\n",
              "Green Tea with Mint                                                                                    1\n",
              "The Original Butter Flavored Cookies                                                                   1\n",
              "Cheesy Mexican Rice                                                                                    1\n",
              "Organic Peach Conserve                                                                                 1\n",
              "Lavender & Vanilla Air Freshener Spray                                                                 1\n",
              "Honey Dijon Dressing Calorie Free                                                                      1\n",
              "Coconut Macaroons                                                                                      1\n",
              "Chocolate Covered Biscuit Sticks                                                                       1\n",
              "Overstuffed Beef Ravioli                                                                               1\n",
              "Rotelli                                                                                                1\n",
              "Honest Hand Sanitizer                                                                                  1\n",
              "Seriously Sharp Cheddar                                                                                1\n",
              "AAA Alkaline Batteries                                                                                 1\n",
              "Crispy Chocolate Candy                                                                                 1\n",
              "Pasta Sauce, Original, Traditional                                                                     1\n",
              "Peanuts, Extra Large Gourmet Virginia, Salted                                                          1\n",
              "Drops Lemonade Water Enhancer                                                                          1\n",
              "Wide Mouth Pint & Half Jars                                                                            1\n",
              "Organic Mixed Berry Thirst Quencher                                                                    1\n",
              "Organic Wild Berry Fruit Snacks                                                                        1\n",
              "Air Effects Value Pack Hawaiian Aloha                                                                  1\n",
              "Liquid Rock Deodorant Fragrance Free                                                                   1\n",
              "Major Dickason's Blend Decaffeinated Dark Roast Ground Coffee                                          1\n",
              "Apple Ginger                                                                                           1\n",
              "Light Tangi yet Delicate                                                                               1\n",
              "Antioxidant Blend Frozen Smoothie                                                                      1\n",
              "Nutri Grain Pumpkin Spice Bars                                                                         1\n",
              "Lemon-Lime Tablets                                                                                     1\n",
              "Chocolate                                                                                              1\n",
              "Dark Chocolate Banana Dipper With Almonds                                                              1\n",
              "Organic Peanut Powder with Chia                                                                        1\n",
              "Pure Butter Shortbread Scottie Dogs                                                                    1\n",
              "Grapefruit Contour Soda                                                                                1\n",
              "Dried Morel Mushrooms                                                                                  1\n",
              "Navitas Goji Berries                                                                                   1\n",
              "3 Inch Novelty Unscented Yellow White Birthday Candle                                                  1\n",
              "Unsweetened Green Tea Made With Real Matcha                                                            1\n",
              "Original Superfood Bar                                                                                 1\n",
              "Gourmet Cupcakes Filled With Sweet Vanilla Creme                                                       1\n",
              "Cranberry Lemon Lime Soda                                                                              1\n",
              "Kosher Chicken Thigh                                                                                   1\n",
              "Barnum's Animals Crackers                                                                              1\n",
              "Super Squeeze Mixed Berry Burst Fruit Blend                                                            1\n",
              "Caramel Macchiato Granola Bars                                                                         1\n",
              "Pork Flavor Ramen Noodle Soup                                                                          1\n",
              "Organic Dried Sweetened Cranberries                                                                    1\n",
              "Bar Chocolate Salty                                                                                    1\n",
              "Sesame Ginger Teriyaki Sauce                                                                           1\n",
              "Candy Bars                                                                                             1\n",
              "Party Plastic Cups                                                                                     1\n",
              "Soft Scrub with Bleach Cleaner Gel                                                                     1\n",
              "Kefir, Organic, Mango, Orange & Pineapple                                                              1\n",
              "Vegetable Thins Crackers                                                                               1\n",
              "Classic Blend Cole Slaw                                                                                1\n",
              "Organic Italian Herb Seitan                                                                            1\n",
              "Flour All Purpose                                                                                      1\n",
              "Organic Canned Garbanzo Beans                                                                          1\n",
              "Kukui Nut Body Cream                                                                                   1\n",
              "White Corn Chips Tortilla Chips                                                                        1\n",
              "Watermelon Green Superfood Energy Supplement                                                           1\n",
              "Slow Churned Vanilla Bean Ice Cream                                                                    1\n",
              "Ken's Steakhouse Honey Mustard Dressing                                                                1\n",
              "Classic Ranch Dressing                                                                                 1\n",
              "Rosemary & Peppermint Detangler                                                                        1\n",
              "Beyond Natural Cat Food Salmon & Whole Brown Rice Recipe                                               1\n",
              "Safe & Natural Orange Squeeze Kids Liquid Soap                                                         1\n",
              "Children's Claritin Non-Drowsy Allergy Relief Tablets Grape Flavor                                     1\n",
              "Lemon Mint All-Purpose Cleaner                                                                         1\n",
              "Water Maple                                                                                            1\n",
              "Fat Free Chocolate Pudding                                                                             1\n",
              "Herring in Dill Marinade                                                                               1\n",
              "Red Grape 100% Juice                                                                                   1\n",
              "Tiramisu Cake                                                                                          1\n",
              "Tropical Mango Juice Smoothie                                                                          1\n",
              "Herb & Butter Rice Mix                                                                                 1\n",
              "Shrimp Lo Mein                                                                                         1\n",
              "Organic Green Berry Shake                                                                              1\n",
              "Marinated Cabecou                                                                                      1\n",
              "Mini Dog Treats                                                                                        1\n",
              "Salame, Sopressata                                                                                     1\n",
              "Sharp Spreadable Cheddar                                                                               1\n",
              "Classic Five Cheese Lasagna                                                                            1\n",
              "Buddy Biscuit Original Soft & Chewy Peanut Butter Dog Treats                                           1\n",
              "Organic Asian Pear Kombucha                                                                            1\n",
              "Mild Thai Green Curry Paste                                                                            1\n",
              "Organic Old Fashioned White Bread                                                                      1\n",
              "Original Liquid Fabric Softener                                                                        1\n",
              "Lemon Breeze Scent Disinfectant Spray                                                                  1\n",
              "Wild Alaskan Cod Fillet                                                                                1\n",
              "Tomato & Basil Pasta Sauce                                                                             1\n",
              "Purse Pack Cotton Swabs                                                                                1\n",
              "Bay Blue Cheese                                                                                        1\n",
              "Meatless & Soy-Free Vegan Burgers 4 Count                                                              1\n",
              "Organic Thai Red Curry Sprouted Rice                                                                   1\n",
              "Gourmet Cut Garlic Croutons                                                                            1\n",
              "Snapshot Wheat Beer                                                                                    1\n",
              "Salame All Natural Uncured Pepperoni                                                                   1\n",
              "Brick Oven Style Pizza Pepperoni                                                                       1\n",
              "Clean & Fresh Sparkling Lemon & Sunflower Essence Scent Multi-Surface Cleaner                          1\n",
              "South Of The Border Tortilla Soup Mix                                                                  1\n",
              "Sport Fresh Balance Lightly Scented Regular/Super Absorbency Multi-Pack Tampons                        1\n",
              "Roasted Chicken Gravy Mix                                                                              1\n",
              "Claming Detangler Spray                                                                                1\n",
              "Anti-Humidity Aerosol Hairspray All Hair Types Volumizing                                              1\n",
              "White Meat Chicken Pot Pie                                                                             1\n",
              "0% Fat Peach Greek Yogurt                                                                              1\n",
              "Rinse Aid                                                                                              1\n",
              "Facial Oil                                                                                             1\n",
              "Coffee Cake                                                                                            1\n",
              "Pumpkin Popem                                                                                          1\n",
              "Honey Roasted Almonds                                                                                  1\n",
              "Ketchup, 100% Organic                                                                                  1\n",
              "Smoked Turkey                                                                                          1\n",
              "Click Super Unscented Tampons                                                                          1\n",
              "Allergy Ultratab Tablets                                                                               1\n",
              "Dark Chocolate Espresso Skinny Dipped Almonds                                                          1\n",
              "Fusion Power Men's Razor Blade Refills                                                                 1\n",
              "Multivitamin/Multimineral Supplement Tablets for Women                                                 1\n",
              "Gillette Venus Embrace Sensitive Women's Razor Blade Refills                                           1\n",
              "D3 5000 IU                                                                                             1\n",
              "Almondmilk Vanilla Lactose Free & Soy Free                                                             1\n",
              "Nickelodeon SpongeBob SquarePants Mild Bubble Fruit Flavor Cavity & Enamel Protection Toothpaste       1\n",
              "Fruit by the Foot, Fruit Roll-Ups, Fruit Gushers Party Pack Fruit Snacks 24 Ct.                        1\n",
              "Gourmet Pear Deluxe Fruit Spread                                                                       1\n",
              "Awapuhi Ginger Conditioner                                                                             1\n",
              "Jack's Special, Medium Salsa                                                                           1\n",
              "Multi-Grain Club Crackers                                                                              1\n",
              "Temptations Lemon Meringue Pie Gelatin Desserts                                                        1\n",
              "Pecan Chips                                                                                            1\n",
              "Chocolate Peanut Butter Nutrition Bars                                                                 1\n",
              "Mexican Blend Cheese                                                                                   1\n",
              "White Cherry Sports Drink                                                                              1\n",
              "Grand Cacao Drinking Chocolate Sweet Ground Cocoa                                                      1\n",
              "Almond Soap Bar                                                                                        1\n",
              "Original Unsweetened Apple Sauce                                                                       1\n",
              "Original Bath Soap                                                                                     1\n",
              "Smoothing Jasmine and Vitamin E Hawaiian Moisture Cream                                                1\n",
              "Organic Wheat Bran                                                                                     1\n",
              "Complete Funfetti Buttermilk Pancake & Waffle Mix                                                      1\n",
              "Onion Buns                                                                                             1\n",
              "Organic Pears Level 1 Baby Food                                                                        1\n",
              "Mild Barbecue Sauce                                                                                    1\n",
              "Organic Greens & Pineapple Juice Blend                                                                 1\n",
              "Geranium Multi Cleaner                                                                                 1\n",
              "Variety Drink                                                                                          1\n",
              "Natural Antiseptic, Tea Tree Oil                                                                       1\n",
              "Blueberry Fig Teething Wafers                                                                          1\n",
              "Exfoliating Hydro Gloves                                                                               1\n",
              "Rose Absolute Fortifying in Jojoba Oil                                                                 1\n",
              "Easy 14 Day Program Diet Start Cleanse Dietary Supplement Vegetable Capsules                           1\n",
              "Italian Seasoning Blend                                                                                1\n",
              "Won Ton Wrappers                                                                                       1\n",
              "7UP                                                                                                    1\n",
              "White Made with Whole Grain Bread                                                                      1\n",
              "Soft Giant Bread                                                                                       1\n",
              "Original Lip Therapy                                                                                   1\n",
              "Maximum Strength Tablets Acid Reducer                                                                  1\n",
              "Vintner's Reserve Zinfandel 2012                                                                       1\n",
              "Name: product_name, Length: 27224, dtype: int64"
            ]
          },
          "metadata": {
            "tags": []
          },
          "execution_count": 90
        }
      ]
    },
    {
      "metadata": {
        "id": "G2UnJHYQo07i",
        "colab_type": "code",
        "colab": {
          "base_uri": "https://localhost:8080/",
          "height": 195
        },
        "outputId": "8e21392a-aa44-40a3-ac97-f64edaf45561"
      },
      "cell_type": "code",
      "source": [
        "# Was looking for something else in chronological order, thought order_id might be\n",
        "# Sort data by order_id to (maybe) see the very latest orders\n",
        "late_sorted = late_day.sort_values(by='order_id', ascending=False)\n",
        "late_sorted.head()"
      ],
      "execution_count": 91,
      "outputs": [
        {
          "output_type": "execute_result",
          "data": {
            "text/html": [
              "<div>\n",
              "<style scoped>\n",
              "    .dataframe tbody tr th:only-of-type {\n",
              "        vertical-align: middle;\n",
              "    }\n",
              "\n",
              "    .dataframe tbody tr th {\n",
              "        vertical-align: top;\n",
              "    }\n",
              "\n",
              "    .dataframe thead th {\n",
              "        text-align: right;\n",
              "    }\n",
              "</style>\n",
              "<table border=\"1\" class=\"dataframe\">\n",
              "  <thead>\n",
              "    <tr style=\"text-align: right;\">\n",
              "      <th></th>\n",
              "      <th>order_id</th>\n",
              "      <th>user_id</th>\n",
              "      <th>order_number</th>\n",
              "      <th>order_dow</th>\n",
              "      <th>order_hour_of_day</th>\n",
              "      <th>add_to_cart_order</th>\n",
              "      <th>product_id</th>\n",
              "      <th>product_name</th>\n",
              "    </tr>\n",
              "  </thead>\n",
              "  <tbody>\n",
              "    <tr>\n",
              "      <th>22450505</th>\n",
              "      <td>3421020</td>\n",
              "      <td>159483</td>\n",
              "      <td>6</td>\n",
              "      <td>6</td>\n",
              "      <td>23</td>\n",
              "      <td>1</td>\n",
              "      <td>6046</td>\n",
              "      <td>Boneless Skinless Chicken Breast</td>\n",
              "    </tr>\n",
              "    <tr>\n",
              "      <th>20600059</th>\n",
              "      <td>3421020</td>\n",
              "      <td>159483</td>\n",
              "      <td>6</td>\n",
              "      <td>6</td>\n",
              "      <td>23</td>\n",
              "      <td>5</td>\n",
              "      <td>41570</td>\n",
              "      <td>Active Dry Yeast</td>\n",
              "    </tr>\n",
              "    <tr>\n",
              "      <th>18174851</th>\n",
              "      <td>3421020</td>\n",
              "      <td>159483</td>\n",
              "      <td>6</td>\n",
              "      <td>6</td>\n",
              "      <td>23</td>\n",
              "      <td>4</td>\n",
              "      <td>36039</td>\n",
              "      <td>Organic Cocoa Crunch Protein Bar</td>\n",
              "    </tr>\n",
              "    <tr>\n",
              "      <th>6734902</th>\n",
              "      <td>3421020</td>\n",
              "      <td>159483</td>\n",
              "      <td>6</td>\n",
              "      <td>6</td>\n",
              "      <td>23</td>\n",
              "      <td>8</td>\n",
              "      <td>17794</td>\n",
              "      <td>Carrots</td>\n",
              "    </tr>\n",
              "    <tr>\n",
              "      <th>16909817</th>\n",
              "      <td>3421020</td>\n",
              "      <td>159483</td>\n",
              "      <td>6</td>\n",
              "      <td>6</td>\n",
              "      <td>23</td>\n",
              "      <td>3</td>\n",
              "      <td>5785</td>\n",
              "      <td>Organic Reduced Fat 2% Milk</td>\n",
              "    </tr>\n",
              "  </tbody>\n",
              "</table>\n",
              "</div>"
            ],
            "text/plain": [
              "          order_id  user_id  order_number  order_dow  order_hour_of_day  \\\n",
              "22450505   3421020   159483             6          6                 23   \n",
              "20600059   3421020   159483             6          6                 23   \n",
              "18174851   3421020   159483             6          6                 23   \n",
              "6734902    3421020   159483             6          6                 23   \n",
              "16909817   3421020   159483             6          6                 23   \n",
              "\n",
              "          add_to_cart_order  product_id                      product_name  \n",
              "22450505                  1        6046  Boneless Skinless Chicken Breast  \n",
              "20600059                  5       41570                  Active Dry Yeast  \n",
              "18174851                  4       36039  Organic Cocoa Crunch Protein Bar  \n",
              "6734902                   8       17794                           Carrots  \n",
              "16909817                  3        5785       Organic Reduced Fat 2% Milk  "
            ]
          },
          "metadata": {
            "tags": []
          },
          "execution_count": 91
        }
      ]
    },
    {
      "metadata": {
        "id": "cEXeQ_MYpFGP",
        "colab_type": "code",
        "colab": {
          "base_uri": "https://localhost:8080/",
          "height": 195
        },
        "outputId": "8b12aac0-1676-4055-df63-ba98c9c05be9"
      },
      "cell_type": "code",
      "source": [
        "# Make a df of top quartile of df sorted by order_id\n",
        "top_quart = late_sorted.head(int(len(late_sorted) * 0.25))\n",
        "top_quart.head()"
      ],
      "execution_count": 92,
      "outputs": [
        {
          "output_type": "execute_result",
          "data": {
            "text/html": [
              "<div>\n",
              "<style scoped>\n",
              "    .dataframe tbody tr th:only-of-type {\n",
              "        vertical-align: middle;\n",
              "    }\n",
              "\n",
              "    .dataframe tbody tr th {\n",
              "        vertical-align: top;\n",
              "    }\n",
              "\n",
              "    .dataframe thead th {\n",
              "        text-align: right;\n",
              "    }\n",
              "</style>\n",
              "<table border=\"1\" class=\"dataframe\">\n",
              "  <thead>\n",
              "    <tr style=\"text-align: right;\">\n",
              "      <th></th>\n",
              "      <th>order_id</th>\n",
              "      <th>user_id</th>\n",
              "      <th>order_number</th>\n",
              "      <th>order_dow</th>\n",
              "      <th>order_hour_of_day</th>\n",
              "      <th>add_to_cart_order</th>\n",
              "      <th>product_id</th>\n",
              "      <th>product_name</th>\n",
              "    </tr>\n",
              "  </thead>\n",
              "  <tbody>\n",
              "    <tr>\n",
              "      <th>22450505</th>\n",
              "      <td>3421020</td>\n",
              "      <td>159483</td>\n",
              "      <td>6</td>\n",
              "      <td>6</td>\n",
              "      <td>23</td>\n",
              "      <td>1</td>\n",
              "      <td>6046</td>\n",
              "      <td>Boneless Skinless Chicken Breast</td>\n",
              "    </tr>\n",
              "    <tr>\n",
              "      <th>20600059</th>\n",
              "      <td>3421020</td>\n",
              "      <td>159483</td>\n",
              "      <td>6</td>\n",
              "      <td>6</td>\n",
              "      <td>23</td>\n",
              "      <td>5</td>\n",
              "      <td>41570</td>\n",
              "      <td>Active Dry Yeast</td>\n",
              "    </tr>\n",
              "    <tr>\n",
              "      <th>18174851</th>\n",
              "      <td>3421020</td>\n",
              "      <td>159483</td>\n",
              "      <td>6</td>\n",
              "      <td>6</td>\n",
              "      <td>23</td>\n",
              "      <td>4</td>\n",
              "      <td>36039</td>\n",
              "      <td>Organic Cocoa Crunch Protein Bar</td>\n",
              "    </tr>\n",
              "    <tr>\n",
              "      <th>6734902</th>\n",
              "      <td>3421020</td>\n",
              "      <td>159483</td>\n",
              "      <td>6</td>\n",
              "      <td>6</td>\n",
              "      <td>23</td>\n",
              "      <td>8</td>\n",
              "      <td>17794</td>\n",
              "      <td>Carrots</td>\n",
              "    </tr>\n",
              "    <tr>\n",
              "      <th>16909817</th>\n",
              "      <td>3421020</td>\n",
              "      <td>159483</td>\n",
              "      <td>6</td>\n",
              "      <td>6</td>\n",
              "      <td>23</td>\n",
              "      <td>3</td>\n",
              "      <td>5785</td>\n",
              "      <td>Organic Reduced Fat 2% Milk</td>\n",
              "    </tr>\n",
              "  </tbody>\n",
              "</table>\n",
              "</div>"
            ],
            "text/plain": [
              "          order_id  user_id  order_number  order_dow  order_hour_of_day  \\\n",
              "22450505   3421020   159483             6          6                 23   \n",
              "20600059   3421020   159483             6          6                 23   \n",
              "18174851   3421020   159483             6          6                 23   \n",
              "6734902    3421020   159483             6          6                 23   \n",
              "16909817   3421020   159483             6          6                 23   \n",
              "\n",
              "          add_to_cart_order  product_id                      product_name  \n",
              "22450505                  1        6046  Boneless Skinless Chicken Breast  \n",
              "20600059                  5       41570                  Active Dry Yeast  \n",
              "18174851                  4       36039  Organic Cocoa Crunch Protein Bar  \n",
              "6734902                   8       17794                           Carrots  \n",
              "16909817                  3        5785       Organic Reduced Fat 2% Milk  "
            ]
          },
          "metadata": {
            "tags": []
          },
          "execution_count": 92
        }
      ]
    },
    {
      "metadata": {
        "id": "sM77vtPE2yEL",
        "colab_type": "code",
        "colab": {
          "base_uri": "https://localhost:8080/",
          "height": 34
        },
        "outputId": "518af989-bbf0-4251-8cf8-35c84124a9df"
      },
      "cell_type": "code",
      "source": [
        "top_quart.shape"
      ],
      "execution_count": 93,
      "outputs": [
        {
          "output_type": "execute_result",
          "data": {
            "text/plain": [
              "(104896, 8)"
            ]
          },
          "metadata": {
            "tags": []
          },
          "execution_count": 93
        }
      ]
    },
    {
      "metadata": {
        "id": "mbr-__323Edm",
        "colab_type": "code",
        "colab": {
          "base_uri": "https://localhost:8080/",
          "height": 8450
        },
        "outputId": "76027f58-976e-42f8-ff49-fbe2e8a0cb31"
      },
      "cell_type": "code",
      "source": [
        "# Still no luck\n",
        "top_quart['product_name'].value_counts()"
      ],
      "execution_count": 94,
      "outputs": [
        {
          "output_type": "execute_result",
          "data": {
            "text/plain": [
              "Banana                                                                         1364\n",
              "Bag of Organic Bananas                                                         1256\n",
              "Organic Strawberries                                                            888\n",
              "Organic Baby Spinach                                                            827\n",
              "Organic Hass Avocado                                                            674\n",
              "Organic Avocado                                                                 602\n",
              "Organic Raspberries                                                             484\n",
              "Large Lemon                                                                     471\n",
              "Strawberries                                                                    470\n",
              "Organic Whole Milk                                                              441\n",
              "Limes                                                                           436\n",
              "Organic Blueberries                                                             386\n",
              "Organic Zucchini                                                                377\n",
              "Organic Garlic                                                                  366\n",
              "Organic Yellow Onion                                                            344\n",
              "Organic Grape Tomatoes                                                          314\n",
              "Organic Lemon                                                                   307\n",
              "Organic Cucumber                                                                303\n",
              "Cucumber Kirby                                                                  300\n",
              "Seedless Red Grapes                                                             270\n",
              "Organic Baby Arugula                                                            264\n",
              "Organic Red Onion                                                               264\n",
              "Organic Large Extra Fancy Fuji Apple                                            264\n",
              "Organic Baby Carrots                                                            263\n",
              "Carrots                                                                         255\n",
              "Organic Cilantro                                                                253\n",
              "Honeycrisp Apple                                                                245\n",
              "Organic Fuji Apple                                                              239\n",
              "Apple Honeycrisp Organic                                                        239\n",
              "Fresh Cauliflower                                                               237\n",
              "Yellow Onions                                                                   236\n",
              "Organic Blackberries                                                            235\n",
              "Original Hummus                                                                 231\n",
              "Asparagus                                                                       231\n",
              "Organic Small Bunch Celery                                                      216\n",
              "Organic Gala Apples                                                             215\n",
              "Organic Italian Parsley Bunch                                                   210\n",
              "Organic Tomato Cluster                                                          210\n",
              "Organic Kiwi                                                                    209\n",
              "Organic Ginger Root                                                             204\n",
              "Hass Avocados                                                                   203\n",
              "Organic Red Bell Pepper                                                         202\n",
              "Michigan Organic Kale                                                           198\n",
              "Organic Unsweetened Almond Milk                                                 197\n",
              "Organic Granny Smith Apple                                                      196\n",
              "Blueberries                                                                     193\n",
              "Spring Water                                                                    188\n",
              "Half & Half                                                                     187\n",
              "Extra Virgin Olive Oil                                                          187\n",
              "Green Bell Pepper                                                               182\n",
              "Organic Peeled Whole Baby Carrots                                               181\n",
              "Raspberries                                                                     179\n",
              "Organic Half & Half                                                             174\n",
              "Organic D'Anjou Pears                                                           172\n",
              "Red Vine Tomato                                                                 171\n",
              "Organic Whole String Cheese                                                     171\n",
              "Red Peppers                                                                     167\n",
              "100% Whole Wheat Bread                                                          161\n",
              "Sparkling Water Grapefruit                                                      160\n",
              "Organic Bartlett Pear                                                           159\n",
              "Organic Navel Orange                                                            155\n",
              "Grated Parmesan                                                                 154\n",
              "Organic Garnet Sweet Potato (Yam)                                               154\n",
              "Organic Lacinato (Dinosaur) Kale                                                152\n",
              "Bunched Cilantro                                                                151\n",
              "Boneless Skinless Chicken Breasts                                               145\n",
              "Roma Tomato                                                                     144\n",
              "Unsweetened Almondmilk                                                          138\n",
              "Sparkling Natural Mineral Water                                                 136\n",
              "100% Raw Coconut Water                                                          136\n",
              "Broccoli Crown                                                                  135\n",
              "Grape White/Green Seedless                                                      135\n",
              "Organic Reduced Fat Milk                                                        135\n",
              "Organic Broccoli                                                                133\n",
              "Small Hass Avocado                                                              132\n",
              "Garlic                                                                          132\n",
              "Orange Bell Pepper                                                              130\n",
              "Organic Grade A Free Range Large Brown Eggs                                     130\n",
              "Organic Spring Mix                                                              129\n",
              "Organic Reduced Fat 2% Milk                                                     128\n",
              "Shredded Parmesan                                                               127\n",
              "Unsalted Butter                                                                 126\n",
              "Organic Black Beans                                                             126\n",
              "Clementines, Bag                                                                125\n",
              "Organic Whole Strawberries                                                      124\n",
              "Red Onion                                                                       123\n",
              "Organic Roma Tomato                                                             122\n",
              "Pure Irish Butter                                                               118\n",
              "Jalapeno Peppers                                                                117\n",
              "Organic Sticks Low Moisture Part Skim Mozzarella String Cheese                  117\n",
              "Uncured Genoa Salami                                                            116\n",
              "Whole Milk                                                                      116\n",
              "Bartlett Pears                                                                  116\n",
              "Total 2% with Strawberry Lowfat Greek Strained Yogurt                           115\n",
              "Lime Sparkling Water                                                            115\n",
              "Organic Garbanzo Beans                                                          114\n",
              "Fat Free Milk                                                                   114\n",
              "Organic Baby Broccoli                                                           109\n",
              "Organic Romaine Lettuce                                                         109\n",
              "Italian Sparkling Mineral Water                                                 107\n",
              "Large Alfresco Eggs                                                             106\n",
              "Feta Cheese Crumbles                                                            106\n",
              "Organic Carrot Bunch                                                            105\n",
              "Organic Large Brown Grade AA Cage Free Eggs                                     104\n",
              "Unsweetened Original Almond Breeze Almond Milk                                  103\n",
              "Fresh Ginger Root                                                               103\n",
              "Whipped Cream Cheese                                                            101\n",
              "Brussels Sprouts                                                                100\n",
              "Vanilla Almond Breeze Almond Milk                                                99\n",
              "2% Reduced Fat Milk                                                              99\n",
              "Organic Coconut Milk                                                             98\n",
              "Frozen Organic Wild Blueberries                                                  97\n",
              "Organic Broccoli Florets                                                         96\n",
              "Organic Bell Pepper                                                              96\n",
              "Organic Extra Firm Tofu                                                          96\n",
              "Green Beans                                                                      95\n",
              "Green Onions                                                                     94\n",
              "Organic Red Radish, Bunch                                                        93\n",
              "Organic Russet Potato                                                            93\n",
              "Organic Yams                                                                     92\n",
              "Sharp Cheddar Cheese                                                             92\n",
              "100% Recycled Paper Towels                                                       92\n",
              "Red Raspberries                                                                  92\n",
              "Russet Potato                                                                    92\n",
              "Unsweetened Vanilla Almond Milk                                                  90\n",
              "Granny Smith Apples                                                              90\n",
              "Organic Snipped Green Beans                                                      90\n",
              "Blackberries                                                                     90\n",
              "Cantaloupe                                                                       90\n",
              "Honey Nut Cheerios                                                               89\n",
              "Organic Bosc Pear                                                                89\n",
              "Organic Roasted Turkey Breast                                                    88\n",
              "Organic Unsalted Butter                                                          88\n",
              "No Salt Added Black Beans                                                        87\n",
              "Organic Spring Mix Salad                                                         87\n",
              "Total 0% Nonfat Greek Yogurt                                                     87\n",
              "Ground Turkey Breast                                                             85\n",
              "Romaine Hearts                                                                   84\n",
              "Sweet Onion                                                                      84\n",
              "Organic Baby Spinach Salad                                                       83\n",
              "Watermelon Chunks                                                                83\n",
              "Large Grapefruit                                                                 82\n",
              "Organic Frozen Peas                                                              82\n",
              "Organic Shredded Carrots                                                         82\n",
              "Yellow Bell Pepper                                                               81\n",
              "Baby Spinach                                                                     81\n",
              "Organic Heavy Whipping Cream                                                     81\n",
              "Organic Fat Free Milk                                                            80\n",
              "Pineapple Chunks                                                                 80\n",
              "Organic Hothouse Cucumbers                                                       80\n",
              "Total Greek Strained Yogurt                                                      80\n",
              "Organic Sour Cream                                                               80\n",
              "Lightly Salted Baked Snap Pea Crisps                                             79\n",
              "Organic Large Grade AA Brown Eggs                                                79\n",
              "Organic Diced Tomatoes                                                           79\n",
              "Uncured Hickory Smoked Sunday Bacon                                              78\n",
              "Organic Basil                                                                    77\n",
              "Organic Butternut Squash                                                         77\n",
              "Organic Yellow Peaches                                                           76\n",
              "Organic Green Cabbage                                                            76\n",
              "Organic Celery Hearts                                                            76\n",
              "Organic Baby Kale                                                                76\n",
              "Organic Romaine                                                                  75\n",
              "Total 0% Greek Yogurt                                                            74\n",
              "Globe Eggplant                                                                   74\n",
              "Soda                                                                             74\n",
              "European Cucumber                                                                73\n",
              "Sparkling Lemon Water                                                            72\n",
              "Pure Sparkling Water                                                             72\n",
              "Organic Old Fashioned Rolled Oats                                                72\n",
              "Natural Spring Water                                                             71\n",
              "Organic Jalapeno Pepper                                                          71\n",
              "Salted Butter                                                                    71\n",
              "Organic American Cheese Singles                                                  71\n",
              "Shredded Mozzarella                                                              71\n",
              "Organic Milk                                                                     71\n",
              "Air Chilled Organic Boneless Skinless Chicken Breasts                            70\n",
              "Shredded Mild Cheddar Cheese                                                     70\n",
              "Organic Green Seedless Grapes                                                    69\n",
              "Raisin Bran Cereal                                                               68\n",
              "Asparation/Broccolini/Baby Broccoli                                              68\n",
              "Organic Banana                                                                   68\n",
              "Organic Baby Rainbow Carrots                                                     67\n",
              "Organic Leek                                                                     67\n",
              "Organic Large Green Asparagus                                                    66\n",
              "Original No Pulp 100% Florida Orange Juice                                       66\n",
              "Boneless Skinless Chicken Breast                                                 66\n",
              "Organic Thyme                                                                    65\n",
              "Creamy Almond Butter                                                             65\n",
              "Sugar Snap Peas                                                                  65\n",
              "Whole Milk Plain Yogurt                                                          65\n",
              "Clementines                                                                      65\n",
              "Organic Mexican Blend Finely Shredded Cheese                                     65\n",
              "Organic White Onions                                                             65\n",
              "Spaghetti                                                                        64\n",
              "Organic 2% Reduced Fat Milk                                                      64\n",
              "Electrolyte Enhanced Water                                                       64\n",
              "Organic Tomato Basil Pasta Sauce                                                 64\n",
              "Total 2% Lowfat Greek Strained Yogurt With Blueberry                             64\n",
              "Original Orange Juice                                                            64\n",
              "XL Emerald White Seedless Grapes                                                 63\n",
              "Hass Avocado                                                                     63\n",
              "Sea Salt Pita Chips                                                              63\n",
              "Unsalted Pure Irish Butter                                                       62\n",
              "Organic Egg Whites                                                               62\n",
              "Organic Grade A Large Brown Eggs                                                 62\n",
              "Organic Tomato Paste                                                             62\n",
              "Organic Bread with 21 Whole Grains                                               62\n",
              "Marinara Sauce                                                                   62\n",
              "Lemon Hummus                                                                     61\n",
              "Total 2% All Natural Greek Strained Yogurt with Honey                            61\n",
              "Lemonade                                                                         61\n",
              "Organic Bunch Beets                                                              61\n",
              "Kiwi                                                                             61\n",
              "Sour Cream                                                                       60\n",
              "Berry Medley                                                                     60\n",
              "Organic Shredded Mozzarella                                                      60\n",
              "Organic Creamy Peanut Butter                                                     59\n",
              "Heavy Whipping Cream                                                             59\n",
              "Organic Extra Virgin Olive Oil                                                   59\n",
              "Organic Cauliflower                                                              58\n",
              "YoKids Squeezers Organic Low-Fat Yogurt, Strawberry                              58\n",
              "Sourdough Bread                                                                  58\n",
              "Gala Apples                                                                      58\n",
              "Organic Whole Grassmilk Milk                                                     58\n",
              "Orange Juice                                                                     58\n",
              "Organic Broccoli Crowns                                                          58\n",
              "Pure Coconut Water                                                               58\n",
              "Macaroni & Cheese                                                                58\n",
              "Chicken & Maple Breakfast Sausage                                                57\n",
              "Organic Low Sodium Chicken Broth                                                 57\n",
              "Baby Cucumbers                                                                   57\n",
              "Mango Chunks                                                                     57\n",
              "Bing Cherries                                                                    57\n",
              "Organic Large Brown Eggs                                                         57\n",
              "Organic Mint                                                                     56\n",
              "Firm Tofu                                                                        56\n",
              "Roasted Turkey Breast                                                            56\n",
              "Bunny-Luv Fresh Organic Carrots                                                  56\n",
              "Potato Yukon Gold Organic                                                        56\n",
              "Tilapia Filet                                                                    56\n",
              "Organic Sunday Bacon                                                             56\n",
              "Organic Spinach Bunch                                                            56\n",
              "Organic Raw Kombucha Gingerade                                                   56\n",
              "Ezekiel 4:9 Bread Organic Sprouted Whole Grain                                   56\n",
              "Organic Turkey Bacon                                                             55\n",
              "Peach Pear Flavored Sparkling Water                                              55\n",
              "Total 2% Greek Strained Yogurt with Cherry 5.3 oz                                55\n",
              "Cherubs Heavenly Salad Tomatoes                                                  55\n",
              "Tomato Ketchup                                                                   55\n",
              "                                                                               ... \n",
              "Pore Refining Toner                                                               1\n",
              "Juice, Vegetable & Fruit, Fuel                                                    1\n",
              "Double Concentrated Tomato Paste                                                  1\n",
              "Vegetable Oil Spread with Calcium                                                 1\n",
              "Gluten Free Cinnamon Sugar Donuts 6 Count                                         1\n",
              "S.O.S Reusable Steel Wool Soap Pads                                               1\n",
              "Alfredo Sauce Mix                                                                 1\n",
              "Tangerine 1,000 mg Vitamin C Dietary Supplement                                   1\n",
              "Earl Grey Black Tea                                                               1\n",
              "Spicy Italian Uncured Sausage                                                     1\n",
              "Free Range Organic Chicken Broth                                                  1\n",
              "Calendula Baby Bath Wash                                                          1\n",
              "Dry Cranberry Lime                                                                1\n",
              "Organic Flax Seed                                                                 1\n",
              "Organic Spinach                                                                   1\n",
              "Assorted Latex Free Fabric Bandages                                               1\n",
              "Brown Sugar Whipped Cream                                                         1\n",
              "Organic Hearty Tomato Bisque                                                      1\n",
              "Fridge Pack Pink Lemonade                                                         1\n",
              "Canary Melon                                                                      1\n",
              "Ruby Red Grapefruit Light 50 Juice Drink                                          1\n",
              "Rich and Creamy Vanilla Frosting                                                  1\n",
              "Bolani Spinach Filled Flatbread                                                   1\n",
              "Shredded Wheat                                                                    1\n",
              "Bag Of Ice                                                                        1\n",
              "Doubleshot Protein Coffee                                                         1\n",
              "Thai Jasmine Rice                                                                 1\n",
              "Original Bath Soap                                                                1\n",
              "Pepper Jack Chunk Cheese                                                          1\n",
              "Gingerbread Spice Herbal Tea                                                      1\n",
              "Chocolate Therapy Ice Cream                                                       1\n",
              "Yogurt, Greek, Traditional, Honey Flavored                                        1\n",
              "Organic Vanilla Raw Fit Protein for Weight Loss                                   1\n",
              "Zero Calorie Iced Green Tea Raspberry                                             1\n",
              "Tampons 360 Degree Unscented Super Sport                                          1\n",
              "Tender White Corn Pop Up Bowl                                                     1\n",
              "Smooth & Cheesy Dip                                                               1\n",
              "Sliced Colby & Monterey Jack Cheese                                               1\n",
              "Jr. Organic Chocolate Cherry Granola Bars                                         1\n",
              "3rd Foods Butternut Squash & Potato                                               1\n",
              "Aloe Chunk Juice with Vitamin C                                                   1\n",
              "Gourmet Mochi Ice Cream Vanilla Bonbons                                           1\n",
              "Coconut Cookie Thins                                                              1\n",
              "Organic Vanilla Almond Chia Vitality Granola Clusters                             1\n",
              "Red Cooking Wine                                                                  1\n",
              "Garden Vegetable Salad Roll                                                       1\n",
              "Turkey With Beans 98% Fat Free Chili                                              1\n",
              "Organic Cabernet Sauvignon Wine Vinegar                                           1\n",
              "Creamy Chicken Fettuccine Mix                                                     1\n",
              "Manchego Cheese                                                                   1\n",
              "Original 100% Orange Juice with Calcium & Vitamin D                               1\n",
              "Wasabi Crunchy Chickpeas                                                          1\n",
              "Lean Boiled Ham                                                                   1\n",
              "Cinnamon Whiskey                                                                  1\n",
              "Swaddlers Size 4 Giant Pack Diapers                                               1\n",
              "Spanish Redskin with Sea Salt Peanuts                                             1\n",
              "Home Pest Control                                                                 1\n",
              "Whole Grain Rolls                                                                 1\n",
              "3F Mixed Carrots Corn & Butternut Squash with Lil' Bits Purees Vegetable          1\n",
              "Pomegranate Blueberry Vegan Total Omega                                           1\n",
              "10\\\" Bamboo Skewers                                                               1\n",
              "Organic Lemon Cake Mix                                                            1\n",
              "Kids Defense Spray Sunscreen SPF50                                                1\n",
              "Roast Beef Sandwich                                                               1\n",
              "Water, Natural Spring                                                             1\n",
              "The Ultimate Fish Stick                                                           1\n",
              "Original Coconut Milk                                                             1\n",
              "Ultra Thin Crust Cheese Lovers Pizza                                              1\n",
              "Traditional Italian-Style Wedding Soup                                            1\n",
              "Wood for Good Almond Scented Polish                                               1\n",
              "Sweet Peas Single Serve Bags                                                      1\n",
              "Pepproni Pockets                                                                  1\n",
              "Japanese Style Noodles & Chicken Flavored Sauce                                   1\n",
              "Laundry Stain Remover Spray                                                       1\n",
              "Wheat Dinner Roll                                                                 1\n",
              "Rice Sea Salt & Pepper Snacks                                                     1\n",
              "Tree Free Ultra Soft Bath Tissue - 4 CT                                           1\n",
              "Mojo Marinade                                                                     1\n",
              "Sandwich Rolls                                                                    1\n",
              "Toothpaste, Fluoride, Brisk Mint, Paste                                           1\n",
              "Calming Bubble Bath                                                               1\n",
              "Organic Hemp Pro Fiber Plant Based Protein Supplement                             1\n",
              "Meat-Free Savory Stuffed Turkey                                                   1\n",
              "Organic Plain Cream on Top Yogurt                                                 1\n",
              "Free & Gentle Fabric Softener Dryer Sheets                                        1\n",
              "Everyday Shea Lavender Bubble Bath                                                1\n",
              "Classic Cookie Collection                                                         1\n",
              "Thick Cut Bologna                                                                 1\n",
              "Cool Watermelon 2-In-1 Shampoo                                                    1\n",
              "No-Scratch Refills                                                                1\n",
              "Gluten Free Ginger Snaps                                                          1\n",
              "Nail Lacquer Top Coat                                                             1\n",
              "Caffeine Free Cascade Mint Herbal Tea                                             1\n",
              "Light Catalina Salad Dressing                                                     1\n",
              "Aloo Gobi Chana Masala & Biryani Bento                                            1\n",
              "Calming Magnolia & Cherry Blossom Scented Oil Refills                             1\n",
              "Vegan Raw Garlic Fluffy Spread                                                    1\n",
              "Eggs, Cheese & Turkey Sausage Breakfast Burrito                                   1\n",
              "Farmstyle Greek Strained Yogurt Oregon Strawberry, 2% Milkfat                     1\n",
              "Lavender Hand & Body Lotion                                                       1\n",
              "Chopped Curly Kale                                                                1\n",
              "Gummi Candy, Peaches                                                              1\n",
              "Carmel Apple Crisp Twist                                                          1\n",
              "In Light Syrup & Passion Fruit Juice Tropical Fruit                               1\n",
              "Organic Mediterranean Olive Oil                                                   1\n",
              "Channa Masala                                                                     1\n",
              "Homestyle Meals Sweet Peas, Green Beans, Spinach & Quinoa Organic Baby Food       1\n",
              "Oatmeal Squares Hint Of Brown Sugar Cereal                                        1\n",
              "Light Vegetable Oil Spread                                                        1\n",
              "Newman-O's Creme Filled Chocolate Cookies                                         1\n",
              "Unscented Lotion for Face, Hands, Body                                            1\n",
              "Mixed Berry Low Fat Almond Non-Dairy Yogurt                                       1\n",
              "Tamarind Chutney                                                                  1\n",
              "Baked Scalloped Potatoes                                                          1\n",
              "Herbes De Provence                                                                1\n",
              "Vanilla Frosting                                                                  1\n",
              "Brown Rice Crisps                                                                 1\n",
              "Nutrish Naturally Delish Chicken Paw Pie Wet Dog Food                             1\n",
              "Mild Flavor Celery Hearts                                                         1\n",
              "SunButter Crunch Baked Chewy Bars                                                 1\n",
              "Nonfat Vanilla Bio Kefir                                                          1\n",
              "Asian Yogurt Mango & Coconut                                                      1\n",
              "Whole Dried Blueberries                                                           1\n",
              "Refried Beans Fat Free                                                            1\n",
              "Original Sparkling Water                                                          1\n",
              "Cote Du Rhone Rouge France                                                        1\n",
              "Olive Oil Canyon Cut, Sea Salt & Cracked Pepper Potato Chips                      1\n",
              "Chicken Sausage Pizza                                                             1\n",
              "Organic Marinara Sauce                                                            1\n",
              "ArtiHearts Fresh Grilled Artichokes                                               1\n",
              "Slim Cut Reduced Fat 2% Milk Sharp Cheddar Cheese                                 1\n",
              "Green Tea with Mint                                                               1\n",
              "Chocolate Fudge Ice Cream Bars                                                    1\n",
              "Preserves, Strawberry                                                             1\n",
              "Italian Style Roasted Peppers                                                     1\n",
              "Sesame Sticks                                                                     1\n",
              "Super Detox Acai Noni Goji                                                        1\n",
              "Ice Cream  The Original Salted Caramel                                            1\n",
              "School Safe Chocolate Cupcakes                                                    1\n",
              "Everyday Shea Lemon & Lavender Shampoo & Body Wash For Babies & Up                1\n",
              "Steamfresh Lightly Sauced Broccoli With Cheese Sauce                              1\n",
              "Garlic Herb Cashew Chia Spread                                                    1\n",
              "Three Cheese Ravioli                                                              1\n",
              "Chocolate Semi Sweet Mini Chips                                                   1\n",
              "Olive Leaf Dietary Supplement                                                     1\n",
              "Soap, Dead Sea Mud                                                                1\n",
              "Organic Whole Bean Coffee                                                         1\n",
              "Pretzel Sticks, Thin                                                              1\n",
              "Three Cheese Macaroni Tasty American Favorites                                    1\n",
              "Uncured Beef Franks                                                               1\n",
              "Granny Smith Apple                                                                1\n",
              "100% Natural No Salt Diced Tomatoes                                               1\n",
              "Sweet Honeysuckle & Orange Peel Body Wash Moisturizing with Moisture Beads        1\n",
              "Pre-Steamed Vegetable & Pork Dumplings                                            1\n",
              "Ibuprofen Liquid Soft Gels 200mg                                                  1\n",
              "Oran Poppyseed Pound Cake                                                         1\n",
              "Sauvignon Blanc Wine                                                              1\n",
              "Fillo Dough Pastry Sheets                                                         1\n",
              "Lemon Scent Automatic Dishwasher Detergent Gel                                    1\n",
              "Minions Macaroni & Cheese Dinner                                                  1\n",
              "Homemade Style Basil Pesto                                                        1\n",
              "Scarlet Citrus Rooibos Herbal Tea Filterbags                                      1\n",
              "Vanilla Almond Builder's Bar                                                      1\n",
              "Frozen Orange Juice                                                               1\n",
              "All Natural Premium Cornish Hen                                                   1\n",
              "Lowfat 1% Milk                                                                    1\n",
              "Organic Crookneck Squash                                                          1\n",
              "Beeswax Lip Balm With Vitamin E & Peppermint                                      1\n",
              "Soft Eating Green Apple Flavor Liquorice                                          1\n",
              "Original Artisan Italian Pizza Crust                                              1\n",
              "Olives, Spanish, Manzanilla                                                       1\n",
              "Baby Wash & Shampoo                                                               1\n",
              "Revitalizing Grapefruit & Mint Shower Gel                                         1\n",
              "Whole 7 Ancient Grains Bread                                                      1\n",
              "Butter Crisps Wafer Cookies                                                       1\n",
              "Everyday Coconut Hydrating Conditioner                                            1\n",
              "Organic Half Baby Spinach & Half Baby Arugula                                     1\n",
              "Whole Wheat Flour, 100% Stone Ground                                              1\n",
              "Citrus + Mint Soap                                                                1\n",
              "Merlot California                                                                 1\n",
              "Imitation Crab Sticks                                                             1\n",
              "Samosa - 4 CT                                                                     1\n",
              "Cherry, Dark Chocolate & Almond Granola bar                                       1\n",
              "Crisp Butter Wafers                                                               1\n",
              "Mango Apricot Fruit Snack                                                         1\n",
              "Medium Red Taco Sauce                                                             1\n",
              "Butter Flavor Pan Popcorn                                                         1\n",
              "Extra Crispy Easy Fries Golden Crinkles                                           1\n",
              "Fresh Fussilli                                                                    1\n",
              "Newman-O's Wheat Free Creme Filled Chocolate Cookies                              1\n",
              "Boneless & Skinless Chicken Breast                                                1\n",
              "Lil Love Ice Cream Cake                                                           1\n",
              "Premium Breast of Chicken in Water                                                1\n",
              "Pepino Melon                                                                      1\n",
              "Flaky Supreme Cinnamon Rolls With Icing                                           1\n",
              "Disposable 5 Blade Razors                                                         1\n",
              "Cinnamon Swirl French Toast                                                       1\n",
              "Elderflower & Rose Lemonade                                                       1\n",
              "Spaghetti & Meatballs                                                             1\n",
              "WetJet Original Pad Refills                                                       1\n",
              "Vantage Choose-A-Size Giant Roll Paper Towels                                     1\n",
              "Ibuprofen Tablets 200 Mg                                                          1\n",
              "Balsamic Reduction Traditional Balsamic                                           1\n",
              "Gluten Free Rice Pasta & Cheddar Single Serving Macaroni & Cheese                 1\n",
              "Quadratini Chocolate Cream Wafers                                                 1\n",
              "Roast Beef Style Deli Slices                                                      1\n",
              "Organic Reduced Fat Unsweetened Shredded Coconut                                  1\n",
              "Pure Almond Extract                                                               1\n",
              "2 % Reduced Fat  Milk                                                             1\n",
              "Dark Chocolate Squares                                                            1\n",
              "Chocolate Protein Plus Smoothie                                                   1\n",
              "Ultra Built Strong Plates - 22 CT                                                 1\n",
              "Everyday Facial Tissues                                                           1\n",
              "Original Bread Sticks with Real Garlic                                            1\n",
              "Sport Laundry Liquid, Lavender & Eucalyptus Extracts                              1\n",
              "Low Carb-Low Sodium Wraps                                                         1\n",
              "Famous Chocolate Wafers                                                           1\n",
              "Mini Whole Wheat Croccantini                                                      1\n",
              "Chocolate Chip Mini Cookies                                                       1\n",
              "Blueberry Passion Fruit Sorbetto                                                  1\n",
              "Dairy Pure Whole Milk with Vitamin D                                              1\n",
              "Milk Chocolate with Almonds                                                       1\n",
              "Coffee Rich Original Non-Dairy Creamer                                            1\n",
              "Meatless & Soy Free Frozen Chik'n Tenders                                         1\n",
              "Chipotle Ketchup                                                                  1\n",
              "Crescent Rolls Original                                                           1\n",
              "Organic Bunny-Luv Carrots                                                         1\n",
              "Shredded Italian Five Cheese Blend                                                1\n",
              "White Truffle Butter                                                              1\n",
              "Pumpkin Spice Latte Iced Coffee Pure Cold Brew Coffee With Almondmilk             1\n",
              "Organic Fennel                                                                    1\n",
              "Tasty Treasures With Ocean Fish in Sauce                                          1\n",
              "Organic Original Coconut Smoothie                                                 1\n",
              "Tomato Basil Bisque RTS Organic Soup                                              1\n",
              "Organic Lowfat Chocolate Milk                                                     1\n",
              "Diced with Basil Garlic & Oregano Tomatoes                                        1\n",
              "Pasta Sauce Tomato Basil                                                          1\n",
              "Traditional Chicken & Herb Dumplings Soup                                         1\n",
              "Butter & Garlic Ready Rice                                                        1\n",
              "Riesling, Colombia Valley, Vintage 2013                                           1\n",
              "Inflamm Aleve                                                                     1\n",
              "Brambleberry Crisp Ice Cream                                                      1\n",
              "Classic Pretzel Crackers                                                          1\n",
              "Premium Organic Quinoa                                                            1\n",
              "Butter Pecan Slow Churned Ice Cream                                               1\n",
              "Yellow Corn Extra Thin Tortillas                                                  1\n",
              "Beef Jerky Bold Flavor Tender Bite Teriyaki                                       1\n",
              "Sausage and Pepperoni Pizza                                                       1\n",
              "Total Mint Stripe Gel Toothpaste                                                  1\n",
              "Black Cherry Soda                                                                 1\n",
              "Name: product_name, Length: 16275, dtype: int64"
            ]
          },
          "metadata": {
            "tags": []
          },
          "execution_count": 94
        }
      ]
    },
    {
      "metadata": {
        "id": "_xRMlSE23SLn",
        "colab_type": "code",
        "colab": {}
      },
      "cell_type": "code",
      "source": [
        ""
      ],
      "execution_count": 0,
      "outputs": []
    }
  ]
}