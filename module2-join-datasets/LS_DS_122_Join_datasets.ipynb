{
  "nbformat": 4,
  "nbformat_minor": 0,
  "metadata": {
    "colab": {
      "name": "LS_DS_122_Join_datasets.ipynb",
      "version": "0.3.2",
      "provenance": [],
      "collapsed_sections": [],
      "include_colab_link": true
    },
    "kernelspec": {
      "display_name": "Python 3",
      "language": "python",
      "name": "python3"
    }
  },
  "cells": [
    {
      "cell_type": "markdown",
      "metadata": {
        "id": "view-in-github",
        "colab_type": "text"
      },
      "source": [
        "<a href=\"https://colab.research.google.com/github/jazzathoth/DS-Unit-1-Sprint-2-Data-Wrangling/blob/master/module2-join-datasets/LS_DS_122_Join_datasets.ipynb\" target=\"_parent\"><img src=\"https://colab.research.google.com/assets/colab-badge.svg\" alt=\"Open In Colab\"/></a>"
      ]
    },
    {
      "metadata": {
        "colab_type": "text",
        "id": "pmU5YUal1eTZ"
      },
      "cell_type": "markdown",
      "source": [
        "_Lambda School Data Science_\n",
        "\n",
        "# Join datasets\n",
        "\n",
        "Objectives\n",
        "- concatenate data with pandas\n",
        "- merge data with pandas\n",
        "\n",
        "Links\n",
        "- [Pandas Cheat Sheet](https://github.com/pandas-dev/pandas/blob/master/doc/cheatsheet/Pandas_Cheat_Sheet.pdf)\n",
        "  - Combine Data Sets: Standard Joins\n",
        "- Python Data Science Handbook\n",
        "  - [Chapter 3.6](https://jakevdp.github.io/PythonDataScienceHandbook/03.06-concat-and-append.html), Combining Datasets: Concat and Append\n",
        "  - [Chapter 3.7](https://jakevdp.github.io/PythonDataScienceHandbook/03.07-merge-and-join.html), Combining Datasets: Merge and Join"
      ]
    },
    {
      "metadata": {
        "colab_type": "text",
        "id": "Mmi3J5fXrwZ3"
      },
      "cell_type": "markdown",
      "source": [
        "## Download data\n",
        "\n",
        "We’ll work with a dataset of [3 Million Instacart Orders, Open Sourced](https://tech.instacart.com/3-million-instacart-orders-open-sourced-d40d29ead6f2)!"
      ]
    },
    {
      "metadata": {
        "colab_type": "code",
        "id": "K2kcrJVybjrW",
        "outputId": "73407b3a-0bdc-419c-d52f-3e6a877e95aa",
        "colab": {
          "base_uri": "https://localhost:8080/",
          "height": 204
        }
      },
      "cell_type": "code",
      "source": [
        "!wget https://s3.amazonaws.com/instacart-datasets/instacart_online_grocery_shopping_2017_05_01.tar.gz"
      ],
      "execution_count": 1,
      "outputs": [
        {
          "output_type": "stream",
          "text": [
            "--2019-03-26 20:47:42--  https://s3.amazonaws.com/instacart-datasets/instacart_online_grocery_shopping_2017_05_01.tar.gz\n",
            "Resolving s3.amazonaws.com (s3.amazonaws.com)... 52.217.1.46\n",
            "Connecting to s3.amazonaws.com (s3.amazonaws.com)|52.217.1.46|:443... connected.\n",
            "HTTP request sent, awaiting response... 200 OK\n",
            "Length: 205548478 (196M) [application/x-gzip]\n",
            "Saving to: ‘instacart_online_grocery_shopping_2017_05_01.tar.gz’\n",
            "\n",
            "instacart_online_gr 100%[===================>] 196.03M  47.0MB/s    in 4.3s    \n",
            "\n",
            "2019-03-26 20:47:46 (45.2 MB/s) - ‘instacart_online_grocery_shopping_2017_05_01.tar.gz’ saved [205548478/205548478]\n",
            "\n"
          ],
          "name": "stdout"
        }
      ]
    },
    {
      "metadata": {
        "colab_type": "code",
        "id": "kqX40b2kdgAb",
        "outputId": "f397a53c-f624-41ac-e9e6-a0b33056dbdc",
        "colab": {
          "base_uri": "https://localhost:8080/",
          "height": 238
        }
      },
      "cell_type": "code",
      "source": [
        "!tar --gunzip --extract --verbose --file=instacart_online_grocery_shopping_2017_05_01.tar.gz"
      ],
      "execution_count": 2,
      "outputs": [
        {
          "output_type": "stream",
          "text": [
            "instacart_2017_05_01/\n",
            "instacart_2017_05_01/._aisles.csv\n",
            "instacart_2017_05_01/aisles.csv\n",
            "instacart_2017_05_01/._departments.csv\n",
            "instacart_2017_05_01/departments.csv\n",
            "instacart_2017_05_01/._order_products__prior.csv\n",
            "instacart_2017_05_01/order_products__prior.csv\n",
            "instacart_2017_05_01/._order_products__train.csv\n",
            "instacart_2017_05_01/order_products__train.csv\n",
            "instacart_2017_05_01/._orders.csv\n",
            "instacart_2017_05_01/orders.csv\n",
            "instacart_2017_05_01/._products.csv\n",
            "instacart_2017_05_01/products.csv\n"
          ],
          "name": "stdout"
        }
      ]
    },
    {
      "metadata": {
        "colab_type": "code",
        "id": "YbCvZZCBfHCI",
        "outputId": "678c3931-d947-4313-c31a-54642c12e6bb",
        "colab": {
          "base_uri": "https://localhost:8080/",
          "height": 34
        }
      },
      "cell_type": "code",
      "source": [
        "%cd instacart_2017_05_01"
      ],
      "execution_count": 3,
      "outputs": [
        {
          "output_type": "stream",
          "text": [
            "/content/instacart_2017_05_01\n"
          ],
          "name": "stdout"
        }
      ]
    },
    {
      "metadata": {
        "colab_type": "text",
        "id": "RsA14wiKr03j"
      },
      "cell_type": "markdown",
      "source": [
        "## Goal: Reproduce this example\n",
        "\n",
        "The first two orders for user id 1:"
      ]
    },
    {
      "metadata": {
        "colab_type": "code",
        "id": "vLqOTMcfjprg",
        "outputId": "237b3ce9-53e8-4041-a288-5ae79379dcf8",
        "colab": {
          "base_uri": "https://localhost:8080/",
          "height": 312
        }
      },
      "cell_type": "code",
      "source": [
        "from IPython.display import display, Image\n",
        "url = 'https://cdn-images-1.medium.com/max/1600/1*vYGFQCafJtGBBX5mbl0xyw.png'\n",
        "example = Image(url=url, width=600)\n",
        "\n",
        "display(example)"
      ],
      "execution_count": 4,
      "outputs": [
        {
          "output_type": "display_data",
          "data": {
            "text/html": [
              "<img src=\"https://cdn-images-1.medium.com/max/1600/1*vYGFQCafJtGBBX5mbl0xyw.png\" width=\"600\"/>"
            ],
            "text/plain": [
              "<IPython.core.display.Image object>"
            ]
          },
          "metadata": {
            "tags": []
          }
        }
      ]
    },
    {
      "metadata": {
        "colab_type": "text",
        "id": "nPwG8aM_txl4"
      },
      "cell_type": "markdown",
      "source": [
        "## Load data\n",
        "\n",
        "Here's a list of all six CSV filenames"
      ]
    },
    {
      "metadata": {
        "colab_type": "code",
        "id": "Ksah0cOrfdJQ",
        "colab": {
          "base_uri": "https://localhost:8080/",
          "height": 136
        },
        "outputId": "89beebc1-38a4-4169-8e65-db4cce3994ad"
      },
      "cell_type": "code",
      "source": [
        "!ls -lh"
      ],
      "execution_count": 5,
      "outputs": [
        {
          "output_type": "stream",
          "text": [
            "total 681M\n",
            "-rw-r--r-- 1 502 staff 2.6K May  2  2017 aisles.csv\n",
            "-rw-r--r-- 1 502 staff  270 May  2  2017 departments.csv\n",
            "-rw-r--r-- 1 502 staff 551M May  2  2017 order_products__prior.csv\n",
            "-rw-r--r-- 1 502 staff  24M May  2  2017 order_products__train.csv\n",
            "-rw-r--r-- 1 502 staff 104M May  2  2017 orders.csv\n",
            "-rw-r--r-- 1 502 staff 2.1M May  2  2017 products.csv\n"
          ],
          "name": "stdout"
        }
      ]
    },
    {
      "metadata": {
        "colab_type": "text",
        "id": "AHT7fKuxvPgV"
      },
      "cell_type": "markdown",
      "source": [
        "For each CSV\n",
        "- Load it with pandas\n",
        "- Look at the dataframe's shape\n",
        "- Look at its head (first rows)\n",
        "- `display(example)`\n",
        "- Which columns does it have in common with the example we want to reproduce?"
      ]
    },
    {
      "metadata": {
        "colab_type": "text",
        "id": "cB_5T6TprcUH"
      },
      "cell_type": "markdown",
      "source": [
        "### aisles"
      ]
    },
    {
      "metadata": {
        "colab_type": "code",
        "id": "JB3bvwSDK6v3",
        "colab": {}
      },
      "cell_type": "code",
      "source": [
        "import pandas as pd\n",
        "aisles = pd.read_csv('aisles.csv')"
      ],
      "execution_count": 0,
      "outputs": []
    },
    {
      "metadata": {
        "id": "pO4QbtJmxPkI",
        "colab_type": "code",
        "colab": {
          "base_uri": "https://localhost:8080/",
          "height": 34
        },
        "outputId": "b384ea1a-cfad-4059-e9a3-41486c3ba601"
      },
      "cell_type": "code",
      "source": [
        "aisles.shape"
      ],
      "execution_count": 7,
      "outputs": [
        {
          "output_type": "execute_result",
          "data": {
            "text/plain": [
              "(134, 2)"
            ]
          },
          "metadata": {
            "tags": []
          },
          "execution_count": 7
        }
      ]
    },
    {
      "metadata": {
        "id": "UPVONtibxTAP",
        "colab_type": "code",
        "colab": {
          "base_uri": "https://localhost:8080/",
          "height": 204
        },
        "outputId": "92dc2d8c-7c39-4b4d-95fe-97927a8b9685"
      },
      "cell_type": "code",
      "source": [
        "aisles.head()"
      ],
      "execution_count": 8,
      "outputs": [
        {
          "output_type": "execute_result",
          "data": {
            "text/html": [
              "<div>\n",
              "<style scoped>\n",
              "    .dataframe tbody tr th:only-of-type {\n",
              "        vertical-align: middle;\n",
              "    }\n",
              "\n",
              "    .dataframe tbody tr th {\n",
              "        vertical-align: top;\n",
              "    }\n",
              "\n",
              "    .dataframe thead th {\n",
              "        text-align: right;\n",
              "    }\n",
              "</style>\n",
              "<table border=\"1\" class=\"dataframe\">\n",
              "  <thead>\n",
              "    <tr style=\"text-align: right;\">\n",
              "      <th></th>\n",
              "      <th>aisle_id</th>\n",
              "      <th>aisle</th>\n",
              "    </tr>\n",
              "  </thead>\n",
              "  <tbody>\n",
              "    <tr>\n",
              "      <th>0</th>\n",
              "      <td>1</td>\n",
              "      <td>prepared soups salads</td>\n",
              "    </tr>\n",
              "    <tr>\n",
              "      <th>1</th>\n",
              "      <td>2</td>\n",
              "      <td>specialty cheeses</td>\n",
              "    </tr>\n",
              "    <tr>\n",
              "      <th>2</th>\n",
              "      <td>3</td>\n",
              "      <td>energy granola bars</td>\n",
              "    </tr>\n",
              "    <tr>\n",
              "      <th>3</th>\n",
              "      <td>4</td>\n",
              "      <td>instant foods</td>\n",
              "    </tr>\n",
              "    <tr>\n",
              "      <th>4</th>\n",
              "      <td>5</td>\n",
              "      <td>marinades meat preparation</td>\n",
              "    </tr>\n",
              "  </tbody>\n",
              "</table>\n",
              "</div>"
            ],
            "text/plain": [
              "   aisle_id                       aisle\n",
              "0         1       prepared soups salads\n",
              "1         2           specialty cheeses\n",
              "2         3         energy granola bars\n",
              "3         4               instant foods\n",
              "4         5  marinades meat preparation"
            ]
          },
          "metadata": {
            "tags": []
          },
          "execution_count": 8
        }
      ]
    },
    {
      "metadata": {
        "id": "xQXN3doMxzHl",
        "colab_type": "code",
        "colab": {}
      },
      "cell_type": "code",
      "source": [
        "display(example)"
      ],
      "execution_count": 0,
      "outputs": []
    },
    {
      "metadata": {
        "colab_type": "text",
        "id": "9-GrkqM6rfXr"
      },
      "cell_type": "markdown",
      "source": [
        "### departments"
      ]
    },
    {
      "metadata": {
        "colab_type": "code",
        "id": "NYIcif0dK9_5",
        "colab": {}
      },
      "cell_type": "code",
      "source": [
        "departments = pd.read_csv('departments.csv')"
      ],
      "execution_count": 0,
      "outputs": []
    },
    {
      "metadata": {
        "id": "JPPaXwcQyFKJ",
        "colab_type": "code",
        "colab": {
          "base_uri": "https://localhost:8080/",
          "height": 34
        },
        "outputId": "d3c27918-c63f-4bfe-eda6-7eb889aca783"
      },
      "cell_type": "code",
      "source": [
        "departments.shape"
      ],
      "execution_count": 11,
      "outputs": [
        {
          "output_type": "execute_result",
          "data": {
            "text/plain": [
              "(21, 2)"
            ]
          },
          "metadata": {
            "tags": []
          },
          "execution_count": 11
        }
      ]
    },
    {
      "metadata": {
        "id": "tmdIhdJ0yMwV",
        "colab_type": "code",
        "colab": {
          "base_uri": "https://localhost:8080/",
          "height": 204
        },
        "outputId": "7f36137a-df66-4599-fe83-41898d982b99"
      },
      "cell_type": "code",
      "source": [
        "departments.head()"
      ],
      "execution_count": 12,
      "outputs": [
        {
          "output_type": "execute_result",
          "data": {
            "text/html": [
              "<div>\n",
              "<style scoped>\n",
              "    .dataframe tbody tr th:only-of-type {\n",
              "        vertical-align: middle;\n",
              "    }\n",
              "\n",
              "    .dataframe tbody tr th {\n",
              "        vertical-align: top;\n",
              "    }\n",
              "\n",
              "    .dataframe thead th {\n",
              "        text-align: right;\n",
              "    }\n",
              "</style>\n",
              "<table border=\"1\" class=\"dataframe\">\n",
              "  <thead>\n",
              "    <tr style=\"text-align: right;\">\n",
              "      <th></th>\n",
              "      <th>department_id</th>\n",
              "      <th>department</th>\n",
              "    </tr>\n",
              "  </thead>\n",
              "  <tbody>\n",
              "    <tr>\n",
              "      <th>0</th>\n",
              "      <td>1</td>\n",
              "      <td>frozen</td>\n",
              "    </tr>\n",
              "    <tr>\n",
              "      <th>1</th>\n",
              "      <td>2</td>\n",
              "      <td>other</td>\n",
              "    </tr>\n",
              "    <tr>\n",
              "      <th>2</th>\n",
              "      <td>3</td>\n",
              "      <td>bakery</td>\n",
              "    </tr>\n",
              "    <tr>\n",
              "      <th>3</th>\n",
              "      <td>4</td>\n",
              "      <td>produce</td>\n",
              "    </tr>\n",
              "    <tr>\n",
              "      <th>4</th>\n",
              "      <td>5</td>\n",
              "      <td>alcohol</td>\n",
              "    </tr>\n",
              "  </tbody>\n",
              "</table>\n",
              "</div>"
            ],
            "text/plain": [
              "   department_id department\n",
              "0              1     frozen\n",
              "1              2      other\n",
              "2              3     bakery\n",
              "3              4    produce\n",
              "4              5    alcohol"
            ]
          },
          "metadata": {
            "tags": []
          },
          "execution_count": 12
        }
      ]
    },
    {
      "metadata": {
        "colab_type": "text",
        "id": "VhhVcn9kK-nG"
      },
      "cell_type": "markdown",
      "source": [
        "### order_products__prior"
      ]
    },
    {
      "metadata": {
        "colab_type": "code",
        "id": "-49qTkPlLBT_",
        "colab": {}
      },
      "cell_type": "code",
      "source": [
        "op_prior = pd.read_csv('order_products__prior.csv')"
      ],
      "execution_count": 0,
      "outputs": []
    },
    {
      "metadata": {
        "id": "z0G_z2uaypfs",
        "colab_type": "code",
        "colab": {
          "base_uri": "https://localhost:8080/",
          "height": 34
        },
        "outputId": "482e4f7e-02c5-4589-b1d9-72044fc39744"
      },
      "cell_type": "code",
      "source": [
        "op_prior.shape"
      ],
      "execution_count": 14,
      "outputs": [
        {
          "output_type": "execute_result",
          "data": {
            "text/plain": [
              "(32434489, 4)"
            ]
          },
          "metadata": {
            "tags": []
          },
          "execution_count": 14
        }
      ]
    },
    {
      "metadata": {
        "id": "vM4L534AytYe",
        "colab_type": "code",
        "colab": {
          "base_uri": "https://localhost:8080/",
          "height": 204
        },
        "outputId": "ec1e3218-40bf-454f-9d85-8b3cadff2b8a"
      },
      "cell_type": "code",
      "source": [
        "op_prior.head()"
      ],
      "execution_count": 15,
      "outputs": [
        {
          "output_type": "execute_result",
          "data": {
            "text/html": [
              "<div>\n",
              "<style scoped>\n",
              "    .dataframe tbody tr th:only-of-type {\n",
              "        vertical-align: middle;\n",
              "    }\n",
              "\n",
              "    .dataframe tbody tr th {\n",
              "        vertical-align: top;\n",
              "    }\n",
              "\n",
              "    .dataframe thead th {\n",
              "        text-align: right;\n",
              "    }\n",
              "</style>\n",
              "<table border=\"1\" class=\"dataframe\">\n",
              "  <thead>\n",
              "    <tr style=\"text-align: right;\">\n",
              "      <th></th>\n",
              "      <th>order_id</th>\n",
              "      <th>product_id</th>\n",
              "      <th>add_to_cart_order</th>\n",
              "      <th>reordered</th>\n",
              "    </tr>\n",
              "  </thead>\n",
              "  <tbody>\n",
              "    <tr>\n",
              "      <th>0</th>\n",
              "      <td>2</td>\n",
              "      <td>33120</td>\n",
              "      <td>1</td>\n",
              "      <td>1</td>\n",
              "    </tr>\n",
              "    <tr>\n",
              "      <th>1</th>\n",
              "      <td>2</td>\n",
              "      <td>28985</td>\n",
              "      <td>2</td>\n",
              "      <td>1</td>\n",
              "    </tr>\n",
              "    <tr>\n",
              "      <th>2</th>\n",
              "      <td>2</td>\n",
              "      <td>9327</td>\n",
              "      <td>3</td>\n",
              "      <td>0</td>\n",
              "    </tr>\n",
              "    <tr>\n",
              "      <th>3</th>\n",
              "      <td>2</td>\n",
              "      <td>45918</td>\n",
              "      <td>4</td>\n",
              "      <td>1</td>\n",
              "    </tr>\n",
              "    <tr>\n",
              "      <th>4</th>\n",
              "      <td>2</td>\n",
              "      <td>30035</td>\n",
              "      <td>5</td>\n",
              "      <td>0</td>\n",
              "    </tr>\n",
              "  </tbody>\n",
              "</table>\n",
              "</div>"
            ],
            "text/plain": [
              "   order_id  product_id  add_to_cart_order  reordered\n",
              "0         2       33120                  1          1\n",
              "1         2       28985                  2          1\n",
              "2         2        9327                  3          0\n",
              "3         2       45918                  4          1\n",
              "4         2       30035                  5          0"
            ]
          },
          "metadata": {
            "tags": []
          },
          "execution_count": 15
        }
      ]
    },
    {
      "metadata": {
        "id": "mfspjPkUzrAS",
        "colab_type": "code",
        "colab": {}
      },
      "cell_type": "code",
      "source": [
        "# Remember this\n",
        "op_prior.groupby('order_id')['product_id'].count()"
      ],
      "execution_count": 0,
      "outputs": []
    },
    {
      "metadata": {
        "id": "y767m6uK0_31",
        "colab_type": "text"
      },
      "cell_type": "markdown",
      "source": [
        "*** Contains:***\n",
        "- order_id\n",
        "-product_id\n",
        "- add_to_cart_order"
      ]
    },
    {
      "metadata": {
        "colab_type": "text",
        "id": "HVYJEKJcLBut"
      },
      "cell_type": "markdown",
      "source": [
        "### order_products__train"
      ]
    },
    {
      "metadata": {
        "colab_type": "code",
        "id": "gbPKUMb3LDxb",
        "colab": {}
      },
      "cell_type": "code",
      "source": [
        "op_train = pd.read_csv('order_products__train.csv')"
      ],
      "execution_count": 0,
      "outputs": []
    },
    {
      "metadata": {
        "id": "CftyX7671ljg",
        "colab_type": "code",
        "colab": {
          "base_uri": "https://localhost:8080/",
          "height": 34
        },
        "outputId": "e5cfffa1-b055-49c7-db5f-66ee78078b32"
      },
      "cell_type": "code",
      "source": [
        "op_train.shape"
      ],
      "execution_count": 18,
      "outputs": [
        {
          "output_type": "execute_result",
          "data": {
            "text/plain": [
              "(1384617, 4)"
            ]
          },
          "metadata": {
            "tags": []
          },
          "execution_count": 18
        }
      ]
    },
    {
      "metadata": {
        "id": "DFlv66M31l5A",
        "colab_type": "code",
        "colab": {
          "base_uri": "https://localhost:8080/",
          "height": 204
        },
        "outputId": "40bf60f7-6f4c-4b01-e5a8-ce3933cd3f90"
      },
      "cell_type": "code",
      "source": [
        "op_train.head()"
      ],
      "execution_count": 19,
      "outputs": [
        {
          "output_type": "execute_result",
          "data": {
            "text/html": [
              "<div>\n",
              "<style scoped>\n",
              "    .dataframe tbody tr th:only-of-type {\n",
              "        vertical-align: middle;\n",
              "    }\n",
              "\n",
              "    .dataframe tbody tr th {\n",
              "        vertical-align: top;\n",
              "    }\n",
              "\n",
              "    .dataframe thead th {\n",
              "        text-align: right;\n",
              "    }\n",
              "</style>\n",
              "<table border=\"1\" class=\"dataframe\">\n",
              "  <thead>\n",
              "    <tr style=\"text-align: right;\">\n",
              "      <th></th>\n",
              "      <th>order_id</th>\n",
              "      <th>product_id</th>\n",
              "      <th>add_to_cart_order</th>\n",
              "      <th>reordered</th>\n",
              "    </tr>\n",
              "  </thead>\n",
              "  <tbody>\n",
              "    <tr>\n",
              "      <th>0</th>\n",
              "      <td>1</td>\n",
              "      <td>49302</td>\n",
              "      <td>1</td>\n",
              "      <td>1</td>\n",
              "    </tr>\n",
              "    <tr>\n",
              "      <th>1</th>\n",
              "      <td>1</td>\n",
              "      <td>11109</td>\n",
              "      <td>2</td>\n",
              "      <td>1</td>\n",
              "    </tr>\n",
              "    <tr>\n",
              "      <th>2</th>\n",
              "      <td>1</td>\n",
              "      <td>10246</td>\n",
              "      <td>3</td>\n",
              "      <td>0</td>\n",
              "    </tr>\n",
              "    <tr>\n",
              "      <th>3</th>\n",
              "      <td>1</td>\n",
              "      <td>49683</td>\n",
              "      <td>4</td>\n",
              "      <td>0</td>\n",
              "    </tr>\n",
              "    <tr>\n",
              "      <th>4</th>\n",
              "      <td>1</td>\n",
              "      <td>43633</td>\n",
              "      <td>5</td>\n",
              "      <td>1</td>\n",
              "    </tr>\n",
              "  </tbody>\n",
              "</table>\n",
              "</div>"
            ],
            "text/plain": [
              "   order_id  product_id  add_to_cart_order  reordered\n",
              "0         1       49302                  1          1\n",
              "1         1       11109                  2          1\n",
              "2         1       10246                  3          0\n",
              "3         1       49683                  4          0\n",
              "4         1       43633                  5          1"
            ]
          },
          "metadata": {
            "tags": []
          },
          "execution_count": 19
        }
      ]
    },
    {
      "metadata": {
        "id": "Dttx1J2F1wcD",
        "colab_type": "text"
      },
      "cell_type": "markdown",
      "source": [
        "**contains same colums as op_prior**"
      ]
    },
    {
      "metadata": {
        "colab_type": "text",
        "id": "LYPrWUJnrp7G"
      },
      "cell_type": "markdown",
      "source": [
        "### orders"
      ]
    },
    {
      "metadata": {
        "colab_type": "code",
        "id": "aFyl_7vyLJxS",
        "colab": {}
      },
      "cell_type": "code",
      "source": [
        "orders = pd.read_csv('orders.csv')"
      ],
      "execution_count": 0,
      "outputs": []
    },
    {
      "metadata": {
        "id": "cvhzgruv183R",
        "colab_type": "code",
        "colab": {
          "base_uri": "https://localhost:8080/",
          "height": 34
        },
        "outputId": "ef988fdb-f174-43db-866c-01b05c0f803a"
      },
      "cell_type": "code",
      "source": [
        "orders.shape"
      ],
      "execution_count": 21,
      "outputs": [
        {
          "output_type": "execute_result",
          "data": {
            "text/plain": [
              "(3421083, 7)"
            ]
          },
          "metadata": {
            "tags": []
          },
          "execution_count": 21
        }
      ]
    },
    {
      "metadata": {
        "id": "9OJxFQ0c19L8",
        "colab_type": "code",
        "colab": {
          "base_uri": "https://localhost:8080/",
          "height": 204
        },
        "outputId": "cc8eeeb7-2278-46e1-89d5-780937f3b4d0"
      },
      "cell_type": "code",
      "source": [
        "orders.head()"
      ],
      "execution_count": 22,
      "outputs": [
        {
          "output_type": "execute_result",
          "data": {
            "text/html": [
              "<div>\n",
              "<style scoped>\n",
              "    .dataframe tbody tr th:only-of-type {\n",
              "        vertical-align: middle;\n",
              "    }\n",
              "\n",
              "    .dataframe tbody tr th {\n",
              "        vertical-align: top;\n",
              "    }\n",
              "\n",
              "    .dataframe thead th {\n",
              "        text-align: right;\n",
              "    }\n",
              "</style>\n",
              "<table border=\"1\" class=\"dataframe\">\n",
              "  <thead>\n",
              "    <tr style=\"text-align: right;\">\n",
              "      <th></th>\n",
              "      <th>order_id</th>\n",
              "      <th>user_id</th>\n",
              "      <th>eval_set</th>\n",
              "      <th>order_number</th>\n",
              "      <th>order_dow</th>\n",
              "      <th>order_hour_of_day</th>\n",
              "      <th>days_since_prior_order</th>\n",
              "    </tr>\n",
              "  </thead>\n",
              "  <tbody>\n",
              "    <tr>\n",
              "      <th>0</th>\n",
              "      <td>2539329</td>\n",
              "      <td>1</td>\n",
              "      <td>prior</td>\n",
              "      <td>1</td>\n",
              "      <td>2</td>\n",
              "      <td>8</td>\n",
              "      <td>NaN</td>\n",
              "    </tr>\n",
              "    <tr>\n",
              "      <th>1</th>\n",
              "      <td>2398795</td>\n",
              "      <td>1</td>\n",
              "      <td>prior</td>\n",
              "      <td>2</td>\n",
              "      <td>3</td>\n",
              "      <td>7</td>\n",
              "      <td>15.0</td>\n",
              "    </tr>\n",
              "    <tr>\n",
              "      <th>2</th>\n",
              "      <td>473747</td>\n",
              "      <td>1</td>\n",
              "      <td>prior</td>\n",
              "      <td>3</td>\n",
              "      <td>3</td>\n",
              "      <td>12</td>\n",
              "      <td>21.0</td>\n",
              "    </tr>\n",
              "    <tr>\n",
              "      <th>3</th>\n",
              "      <td>2254736</td>\n",
              "      <td>1</td>\n",
              "      <td>prior</td>\n",
              "      <td>4</td>\n",
              "      <td>4</td>\n",
              "      <td>7</td>\n",
              "      <td>29.0</td>\n",
              "    </tr>\n",
              "    <tr>\n",
              "      <th>4</th>\n",
              "      <td>431534</td>\n",
              "      <td>1</td>\n",
              "      <td>prior</td>\n",
              "      <td>5</td>\n",
              "      <td>4</td>\n",
              "      <td>15</td>\n",
              "      <td>28.0</td>\n",
              "    </tr>\n",
              "  </tbody>\n",
              "</table>\n",
              "</div>"
            ],
            "text/plain": [
              "   order_id  user_id eval_set  order_number  order_dow  order_hour_of_day  \\\n",
              "0   2539329        1    prior             1          2                  8   \n",
              "1   2398795        1    prior             2          3                  7   \n",
              "2    473747        1    prior             3          3                 12   \n",
              "3   2254736        1    prior             4          4                  7   \n",
              "4    431534        1    prior             5          4                 15   \n",
              "\n",
              "   days_since_prior_order  \n",
              "0                     NaN  \n",
              "1                    15.0  \n",
              "2                    21.0  \n",
              "3                    29.0  \n",
              "4                    28.0  "
            ]
          },
          "metadata": {
            "tags": []
          },
          "execution_count": 22
        }
      ]
    },
    {
      "metadata": {
        "id": "wMVUc5LL2A5d",
        "colab_type": "text"
      },
      "cell_type": "markdown",
      "source": [
        "**orders has:**\n",
        "- user_id\n",
        "- order_id\n",
        "- order_number\n",
        "- order_dow\n",
        "- order_hour_of_day"
      ]
    },
    {
      "metadata": {
        "id": "QaKliEWG2SfB",
        "colab_type": "code",
        "colab": {}
      },
      "cell_type": "code",
      "source": [
        "display(example)"
      ],
      "execution_count": 0,
      "outputs": []
    },
    {
      "metadata": {
        "colab_type": "text",
        "id": "nIX3SYXersao"
      },
      "cell_type": "markdown",
      "source": [
        "### products"
      ]
    },
    {
      "metadata": {
        "colab_type": "code",
        "id": "9icvQgRfLLU1",
        "colab": {}
      },
      "cell_type": "code",
      "source": [
        "products = pd.read_csv('products.csv')"
      ],
      "execution_count": 0,
      "outputs": []
    },
    {
      "metadata": {
        "id": "Zx6ojaMq2kOD",
        "colab_type": "code",
        "colab": {}
      },
      "cell_type": "code",
      "source": [
        ""
      ],
      "execution_count": 0,
      "outputs": []
    },
    {
      "metadata": {
        "id": "qUWwxptG2klf",
        "colab_type": "code",
        "colab": {
          "base_uri": "https://localhost:8080/",
          "height": 204
        },
        "outputId": "4e265708-8a89-4f9f-9968-ebc489e7c7dd"
      },
      "cell_type": "code",
      "source": [
        "products.head()"
      ],
      "execution_count": 25,
      "outputs": [
        {
          "output_type": "execute_result",
          "data": {
            "text/html": [
              "<div>\n",
              "<style scoped>\n",
              "    .dataframe tbody tr th:only-of-type {\n",
              "        vertical-align: middle;\n",
              "    }\n",
              "\n",
              "    .dataframe tbody tr th {\n",
              "        vertical-align: top;\n",
              "    }\n",
              "\n",
              "    .dataframe thead th {\n",
              "        text-align: right;\n",
              "    }\n",
              "</style>\n",
              "<table border=\"1\" class=\"dataframe\">\n",
              "  <thead>\n",
              "    <tr style=\"text-align: right;\">\n",
              "      <th></th>\n",
              "      <th>product_id</th>\n",
              "      <th>product_name</th>\n",
              "      <th>aisle_id</th>\n",
              "      <th>department_id</th>\n",
              "    </tr>\n",
              "  </thead>\n",
              "  <tbody>\n",
              "    <tr>\n",
              "      <th>0</th>\n",
              "      <td>1</td>\n",
              "      <td>Chocolate Sandwich Cookies</td>\n",
              "      <td>61</td>\n",
              "      <td>19</td>\n",
              "    </tr>\n",
              "    <tr>\n",
              "      <th>1</th>\n",
              "      <td>2</td>\n",
              "      <td>All-Seasons Salt</td>\n",
              "      <td>104</td>\n",
              "      <td>13</td>\n",
              "    </tr>\n",
              "    <tr>\n",
              "      <th>2</th>\n",
              "      <td>3</td>\n",
              "      <td>Robust Golden Unsweetened Oolong Tea</td>\n",
              "      <td>94</td>\n",
              "      <td>7</td>\n",
              "    </tr>\n",
              "    <tr>\n",
              "      <th>3</th>\n",
              "      <td>4</td>\n",
              "      <td>Smart Ones Classic Favorites Mini Rigatoni Wit...</td>\n",
              "      <td>38</td>\n",
              "      <td>1</td>\n",
              "    </tr>\n",
              "    <tr>\n",
              "      <th>4</th>\n",
              "      <td>5</td>\n",
              "      <td>Green Chile Anytime Sauce</td>\n",
              "      <td>5</td>\n",
              "      <td>13</td>\n",
              "    </tr>\n",
              "  </tbody>\n",
              "</table>\n",
              "</div>"
            ],
            "text/plain": [
              "   product_id                                       product_name  aisle_id  \\\n",
              "0           1                         Chocolate Sandwich Cookies        61   \n",
              "1           2                                   All-Seasons Salt       104   \n",
              "2           3               Robust Golden Unsweetened Oolong Tea        94   \n",
              "3           4  Smart Ones Classic Favorites Mini Rigatoni Wit...        38   \n",
              "4           5                          Green Chile Anytime Sauce         5   \n",
              "\n",
              "   department_id  \n",
              "0             19  \n",
              "1             13  \n",
              "2              7  \n",
              "3              1  \n",
              "4             13  "
            ]
          },
          "metadata": {
            "tags": []
          },
          "execution_count": 25
        }
      ]
    },
    {
      "metadata": {
        "id": "0oEM0b7R2nl7",
        "colab_type": "text"
      },
      "cell_type": "markdown",
      "source": [
        "**products has:**\n",
        "- product_id\n",
        "- product_name"
      ]
    },
    {
      "metadata": {
        "colab_type": "text",
        "id": "cbHumXOiJfy2"
      },
      "cell_type": "markdown",
      "source": [
        "## Concatenate order_products__prior and order_products__train"
      ]
    },
    {
      "metadata": {
        "colab_type": "code",
        "id": "TJ23kqpAY8Vv",
        "colab": {}
      },
      "cell_type": "code",
      "source": [
        "order_products = pd.concat([op_prior, op_train])"
      ],
      "execution_count": 0,
      "outputs": []
    },
    {
      "metadata": {
        "id": "p20oMIRF3Sq_",
        "colab_type": "code",
        "colab": {
          "base_uri": "https://localhost:8080/",
          "height": 34
        },
        "outputId": "41a51188-c7ce-417d-99f6-6692951b1a2b"
      },
      "cell_type": "code",
      "source": [
        "order_products.shape, op_prior.shape, op_train.shape"
      ],
      "execution_count": 27,
      "outputs": [
        {
          "output_type": "execute_result",
          "data": {
            "text/plain": [
              "((33819106, 4), (32434489, 4), (1384617, 4))"
            ]
          },
          "metadata": {
            "tags": []
          },
          "execution_count": 27
        }
      ]
    },
    {
      "metadata": {
        "id": "OXjYg8Qe3ZUc",
        "colab_type": "code",
        "colab": {
          "base_uri": "https://localhost:8080/",
          "height": 34
        },
        "outputId": "14402720-7e91-403b-ea9e-f1ccdd37e787"
      },
      "cell_type": "code",
      "source": [
        "print(len(order_products) == len(op_prior) + len(op_train))\n",
        "assert len(order_products) == len(op_prior) + len(op_train) # In jupyter"
      ],
      "execution_count": 28,
      "outputs": [
        {
          "output_type": "stream",
          "text": [
            "True\n"
          ],
          "name": "stdout"
        }
      ]
    },
    {
      "metadata": {
        "id": "VPjsda-A4TMb",
        "colab_type": "code",
        "colab": {}
      },
      "cell_type": "code",
      "source": [
        "assert(len(order_products.columns) ==\n",
        "      len(op_prior.columns) ==\n",
        "      len(op_train.columns))"
      ],
      "execution_count": 0,
      "outputs": []
    },
    {
      "metadata": {
        "id": "kGEIdzM246pY",
        "colab_type": "code",
        "colab": {
          "base_uri": "https://localhost:8080/",
          "height": 51
        },
        "outputId": "282af32e-c86d-4e23-d1bb-0d373ad98984"
      },
      "cell_type": "code",
      "source": [
        "rows, columns = order_products.shape\n",
        "\n",
        "print('Rows:', rows)\n",
        "print('Columns:', columns)"
      ],
      "execution_count": 30,
      "outputs": [
        {
          "output_type": "stream",
          "text": [
            "Rows: 33819106\n",
            "Columns: 4\n"
          ],
          "name": "stdout"
        }
      ]
    },
    {
      "metadata": {
        "id": "T6Yh9rFo5I3Z",
        "colab_type": "code",
        "colab": {}
      },
      "cell_type": "code",
      "source": [
        "a_rows, a_columns = op_prior.shape\n",
        "b_rows, b_columns = op_train.shape\n",
        "c_rows, c_columns = order_products.shape\n",
        "assert a_columns == b_columns == c_columns\n",
        "assert a_rows + b_rows == c_rows"
      ],
      "execution_count": 0,
      "outputs": []
    },
    {
      "metadata": {
        "id": "JTkOWLyl9xE_",
        "colab_type": "code",
        "colab": {
          "base_uri": "https://localhost:8080/",
          "height": 204
        },
        "outputId": "92a8a019-b39b-4d60-d28d-6624c58f0048"
      },
      "cell_type": "code",
      "source": [
        "condition = order_products['order_id']==2539329\n",
        "order_products[condition]"
      ],
      "execution_count": 32,
      "outputs": [
        {
          "output_type": "execute_result",
          "data": {
            "text/html": [
              "<div>\n",
              "<style scoped>\n",
              "    .dataframe tbody tr th:only-of-type {\n",
              "        vertical-align: middle;\n",
              "    }\n",
              "\n",
              "    .dataframe tbody tr th {\n",
              "        vertical-align: top;\n",
              "    }\n",
              "\n",
              "    .dataframe thead th {\n",
              "        text-align: right;\n",
              "    }\n",
              "</style>\n",
              "<table border=\"1\" class=\"dataframe\">\n",
              "  <thead>\n",
              "    <tr style=\"text-align: right;\">\n",
              "      <th></th>\n",
              "      <th>order_id</th>\n",
              "      <th>product_id</th>\n",
              "      <th>add_to_cart_order</th>\n",
              "      <th>reordered</th>\n",
              "    </tr>\n",
              "  </thead>\n",
              "  <tbody>\n",
              "    <tr>\n",
              "      <th>24076664</th>\n",
              "      <td>2539329</td>\n",
              "      <td>196</td>\n",
              "      <td>1</td>\n",
              "      <td>0</td>\n",
              "    </tr>\n",
              "    <tr>\n",
              "      <th>24076665</th>\n",
              "      <td>2539329</td>\n",
              "      <td>14084</td>\n",
              "      <td>2</td>\n",
              "      <td>0</td>\n",
              "    </tr>\n",
              "    <tr>\n",
              "      <th>24076666</th>\n",
              "      <td>2539329</td>\n",
              "      <td>12427</td>\n",
              "      <td>3</td>\n",
              "      <td>0</td>\n",
              "    </tr>\n",
              "    <tr>\n",
              "      <th>24076667</th>\n",
              "      <td>2539329</td>\n",
              "      <td>26088</td>\n",
              "      <td>4</td>\n",
              "      <td>0</td>\n",
              "    </tr>\n",
              "    <tr>\n",
              "      <th>24076668</th>\n",
              "      <td>2539329</td>\n",
              "      <td>26405</td>\n",
              "      <td>5</td>\n",
              "      <td>0</td>\n",
              "    </tr>\n",
              "  </tbody>\n",
              "</table>\n",
              "</div>"
            ],
            "text/plain": [
              "          order_id  product_id  add_to_cart_order  reordered\n",
              "24076664   2539329         196                  1          0\n",
              "24076665   2539329       14084                  2          0\n",
              "24076666   2539329       12427                  3          0\n",
              "24076667   2539329       26088                  4          0\n",
              "24076668   2539329       26405                  5          0"
            ]
          },
          "metadata": {
            "tags": []
          },
          "execution_count": 32
        }
      ]
    },
    {
      "metadata": {
        "colab_type": "text",
        "id": "Z1YRw5ypJuv2"
      },
      "cell_type": "markdown",
      "source": [
        "## Get a subset of orders — the first two orders for user id 1"
      ]
    },
    {
      "metadata": {
        "colab_type": "code",
        "id": "YFBTseoyZAbj",
        "colab": {}
      },
      "cell_type": "code",
      "source": [
        "condition = (orders['user_id']==1) & (orders['order_number'] <= 2)\n",
        "\n",
        "columns = ['user_id',\n",
        "          'order_id',\n",
        "          'order_number',\n",
        "          'order_dow',\n",
        "          'order_hour_of_day']\n",
        "\n",
        "orders[condition][columns]\n",
        "\n",
        "subset = orders.loc[condition, columns]\n"
      ],
      "execution_count": 0,
      "outputs": []
    },
    {
      "metadata": {
        "colab_type": "text",
        "id": "3K1p0QHuKPnt"
      },
      "cell_type": "markdown",
      "source": [
        "## Merge dataframes"
      ]
    },
    {
      "metadata": {
        "colab_type": "code",
        "id": "DaDcnygCLZvM",
        "colab": {}
      },
      "cell_type": "code",
      "source": [
        "columns = ['order_id','add_to_cart_order', 'product_id']\n",
        "merged = pd.merge(subset, order_products[columns], how='inner', on='order_id')"
      ],
      "execution_count": 0,
      "outputs": []
    },
    {
      "metadata": {
        "id": "lpJ4BhqHEWQc",
        "colab_type": "code",
        "colab": {
          "base_uri": "https://localhost:8080/",
          "height": 34
        },
        "outputId": "9bd047d9-12a1-4a5c-faa0-330f496000dc"
      },
      "cell_type": "code",
      "source": [
        "subset.shape"
      ],
      "execution_count": 35,
      "outputs": [
        {
          "output_type": "execute_result",
          "data": {
            "text/plain": [
              "(2, 5)"
            ]
          },
          "metadata": {
            "tags": []
          },
          "execution_count": 35
        }
      ]
    },
    {
      "metadata": {
        "id": "EF7GK52mE1wN",
        "colab_type": "code",
        "colab": {}
      },
      "cell_type": "code",
      "source": [
        "order_products"
      ],
      "execution_count": 0,
      "outputs": []
    },
    {
      "metadata": {
        "id": "eNMStITsEWHO",
        "colab_type": "code",
        "colab": {
          "base_uri": "https://localhost:8080/",
          "height": 390
        },
        "outputId": "a71d6fe9-b713-4ba8-9312-cc9224445c8b"
      },
      "cell_type": "code",
      "source": [
        "merged"
      ],
      "execution_count": 37,
      "outputs": [
        {
          "output_type": "execute_result",
          "data": {
            "text/html": [
              "<div>\n",
              "<style scoped>\n",
              "    .dataframe tbody tr th:only-of-type {\n",
              "        vertical-align: middle;\n",
              "    }\n",
              "\n",
              "    .dataframe tbody tr th {\n",
              "        vertical-align: top;\n",
              "    }\n",
              "\n",
              "    .dataframe thead th {\n",
              "        text-align: right;\n",
              "    }\n",
              "</style>\n",
              "<table border=\"1\" class=\"dataframe\">\n",
              "  <thead>\n",
              "    <tr style=\"text-align: right;\">\n",
              "      <th></th>\n",
              "      <th>user_id</th>\n",
              "      <th>order_id</th>\n",
              "      <th>order_number</th>\n",
              "      <th>order_dow</th>\n",
              "      <th>order_hour_of_day</th>\n",
              "      <th>add_to_cart_order</th>\n",
              "      <th>product_id</th>\n",
              "    </tr>\n",
              "  </thead>\n",
              "  <tbody>\n",
              "    <tr>\n",
              "      <th>0</th>\n",
              "      <td>1</td>\n",
              "      <td>2539329</td>\n",
              "      <td>1</td>\n",
              "      <td>2</td>\n",
              "      <td>8</td>\n",
              "      <td>1</td>\n",
              "      <td>196</td>\n",
              "    </tr>\n",
              "    <tr>\n",
              "      <th>1</th>\n",
              "      <td>1</td>\n",
              "      <td>2539329</td>\n",
              "      <td>1</td>\n",
              "      <td>2</td>\n",
              "      <td>8</td>\n",
              "      <td>2</td>\n",
              "      <td>14084</td>\n",
              "    </tr>\n",
              "    <tr>\n",
              "      <th>2</th>\n",
              "      <td>1</td>\n",
              "      <td>2539329</td>\n",
              "      <td>1</td>\n",
              "      <td>2</td>\n",
              "      <td>8</td>\n",
              "      <td>3</td>\n",
              "      <td>12427</td>\n",
              "    </tr>\n",
              "    <tr>\n",
              "      <th>3</th>\n",
              "      <td>1</td>\n",
              "      <td>2539329</td>\n",
              "      <td>1</td>\n",
              "      <td>2</td>\n",
              "      <td>8</td>\n",
              "      <td>4</td>\n",
              "      <td>26088</td>\n",
              "    </tr>\n",
              "    <tr>\n",
              "      <th>4</th>\n",
              "      <td>1</td>\n",
              "      <td>2539329</td>\n",
              "      <td>1</td>\n",
              "      <td>2</td>\n",
              "      <td>8</td>\n",
              "      <td>5</td>\n",
              "      <td>26405</td>\n",
              "    </tr>\n",
              "    <tr>\n",
              "      <th>5</th>\n",
              "      <td>1</td>\n",
              "      <td>2398795</td>\n",
              "      <td>2</td>\n",
              "      <td>3</td>\n",
              "      <td>7</td>\n",
              "      <td>1</td>\n",
              "      <td>196</td>\n",
              "    </tr>\n",
              "    <tr>\n",
              "      <th>6</th>\n",
              "      <td>1</td>\n",
              "      <td>2398795</td>\n",
              "      <td>2</td>\n",
              "      <td>3</td>\n",
              "      <td>7</td>\n",
              "      <td>2</td>\n",
              "      <td>10258</td>\n",
              "    </tr>\n",
              "    <tr>\n",
              "      <th>7</th>\n",
              "      <td>1</td>\n",
              "      <td>2398795</td>\n",
              "      <td>2</td>\n",
              "      <td>3</td>\n",
              "      <td>7</td>\n",
              "      <td>3</td>\n",
              "      <td>12427</td>\n",
              "    </tr>\n",
              "    <tr>\n",
              "      <th>8</th>\n",
              "      <td>1</td>\n",
              "      <td>2398795</td>\n",
              "      <td>2</td>\n",
              "      <td>3</td>\n",
              "      <td>7</td>\n",
              "      <td>4</td>\n",
              "      <td>13176</td>\n",
              "    </tr>\n",
              "    <tr>\n",
              "      <th>9</th>\n",
              "      <td>1</td>\n",
              "      <td>2398795</td>\n",
              "      <td>2</td>\n",
              "      <td>3</td>\n",
              "      <td>7</td>\n",
              "      <td>5</td>\n",
              "      <td>26088</td>\n",
              "    </tr>\n",
              "    <tr>\n",
              "      <th>10</th>\n",
              "      <td>1</td>\n",
              "      <td>2398795</td>\n",
              "      <td>2</td>\n",
              "      <td>3</td>\n",
              "      <td>7</td>\n",
              "      <td>6</td>\n",
              "      <td>13032</td>\n",
              "    </tr>\n",
              "  </tbody>\n",
              "</table>\n",
              "</div>"
            ],
            "text/plain": [
              "    user_id  order_id  order_number  order_dow  order_hour_of_day  \\\n",
              "0         1   2539329             1          2                  8   \n",
              "1         1   2539329             1          2                  8   \n",
              "2         1   2539329             1          2                  8   \n",
              "3         1   2539329             1          2                  8   \n",
              "4         1   2539329             1          2                  8   \n",
              "5         1   2398795             2          3                  7   \n",
              "6         1   2398795             2          3                  7   \n",
              "7         1   2398795             2          3                  7   \n",
              "8         1   2398795             2          3                  7   \n",
              "9         1   2398795             2          3                  7   \n",
              "10        1   2398795             2          3                  7   \n",
              "\n",
              "    add_to_cart_order  product_id  \n",
              "0                   1         196  \n",
              "1                   2       14084  \n",
              "2                   3       12427  \n",
              "3                   4       26088  \n",
              "4                   5       26405  \n",
              "5                   1         196  \n",
              "6                   2       10258  \n",
              "7                   3       12427  \n",
              "8                   4       13176  \n",
              "9                   5       26088  \n",
              "10                  6       13032  "
            ]
          },
          "metadata": {
            "tags": []
          },
          "execution_count": 37
        }
      ]
    },
    {
      "metadata": {
        "id": "6V-_2kybEV7A",
        "colab_type": "code",
        "colab": {}
      },
      "cell_type": "code",
      "source": [
        "final_merge = pd.merge(merged, products[['product_id','product_name']])"
      ],
      "execution_count": 0,
      "outputs": []
    },
    {
      "metadata": {
        "id": "-FrvC3AYFrKY",
        "colab_type": "code",
        "colab": {
          "base_uri": "https://localhost:8080/",
          "height": 34
        },
        "outputId": "48940a08-7305-4f7c-d3a8-905e6472bce7"
      },
      "cell_type": "code",
      "source": [
        "merged.shape, products[['product_id', 'product_name']].shape, final_merge.shape"
      ],
      "execution_count": 39,
      "outputs": [
        {
          "output_type": "execute_result",
          "data": {
            "text/plain": [
              "((11, 7), (49688, 2), (11, 8))"
            ]
          },
          "metadata": {
            "tags": []
          },
          "execution_count": 39
        }
      ]
    },
    {
      "metadata": {
        "id": "k-3gGYF0F5_b",
        "colab_type": "code",
        "colab": {}
      },
      "cell_type": "code",
      "source": [
        "final_merge = final_merge.sort_values(by=['order_number', 'add_to_cart_order'])"
      ],
      "execution_count": 0,
      "outputs": []
    },
    {
      "metadata": {
        "id": "o2cPABD5Gmg1",
        "colab_type": "code",
        "colab": {}
      },
      "cell_type": "code",
      "source": [
        "final_merge.columns = [column.replace('_', ' ') for column in final_merge]"
      ],
      "execution_count": 0,
      "outputs": []
    },
    {
      "metadata": {
        "id": "jpA_7JKbGg3s",
        "colab_type": "code",
        "colab": {
          "base_uri": "https://localhost:8080/",
          "height": 390
        },
        "outputId": "a5abad1c-9f97-4f62-c3b7-a1bf8029dbb3"
      },
      "cell_type": "code",
      "source": [
        "final_merge"
      ],
      "execution_count": 42,
      "outputs": [
        {
          "output_type": "execute_result",
          "data": {
            "text/html": [
              "<div>\n",
              "<style scoped>\n",
              "    .dataframe tbody tr th:only-of-type {\n",
              "        vertical-align: middle;\n",
              "    }\n",
              "\n",
              "    .dataframe tbody tr th {\n",
              "        vertical-align: top;\n",
              "    }\n",
              "\n",
              "    .dataframe thead th {\n",
              "        text-align: right;\n",
              "    }\n",
              "</style>\n",
              "<table border=\"1\" class=\"dataframe\">\n",
              "  <thead>\n",
              "    <tr style=\"text-align: right;\">\n",
              "      <th></th>\n",
              "      <th>user id</th>\n",
              "      <th>order id</th>\n",
              "      <th>order number</th>\n",
              "      <th>order dow</th>\n",
              "      <th>order hour of day</th>\n",
              "      <th>add to cart order</th>\n",
              "      <th>product id</th>\n",
              "      <th>product name</th>\n",
              "    </tr>\n",
              "  </thead>\n",
              "  <tbody>\n",
              "    <tr>\n",
              "      <th>0</th>\n",
              "      <td>1</td>\n",
              "      <td>2539329</td>\n",
              "      <td>1</td>\n",
              "      <td>2</td>\n",
              "      <td>8</td>\n",
              "      <td>1</td>\n",
              "      <td>196</td>\n",
              "      <td>Soda</td>\n",
              "    </tr>\n",
              "    <tr>\n",
              "      <th>2</th>\n",
              "      <td>1</td>\n",
              "      <td>2539329</td>\n",
              "      <td>1</td>\n",
              "      <td>2</td>\n",
              "      <td>8</td>\n",
              "      <td>2</td>\n",
              "      <td>14084</td>\n",
              "      <td>Organic Unsweetened Vanilla Almond Milk</td>\n",
              "    </tr>\n",
              "    <tr>\n",
              "      <th>3</th>\n",
              "      <td>1</td>\n",
              "      <td>2539329</td>\n",
              "      <td>1</td>\n",
              "      <td>2</td>\n",
              "      <td>8</td>\n",
              "      <td>3</td>\n",
              "      <td>12427</td>\n",
              "      <td>Original Beef Jerky</td>\n",
              "    </tr>\n",
              "    <tr>\n",
              "      <th>5</th>\n",
              "      <td>1</td>\n",
              "      <td>2539329</td>\n",
              "      <td>1</td>\n",
              "      <td>2</td>\n",
              "      <td>8</td>\n",
              "      <td>4</td>\n",
              "      <td>26088</td>\n",
              "      <td>Aged White Cheddar Popcorn</td>\n",
              "    </tr>\n",
              "    <tr>\n",
              "      <th>7</th>\n",
              "      <td>1</td>\n",
              "      <td>2539329</td>\n",
              "      <td>1</td>\n",
              "      <td>2</td>\n",
              "      <td>8</td>\n",
              "      <td>5</td>\n",
              "      <td>26405</td>\n",
              "      <td>XL Pick-A-Size Paper Towel Rolls</td>\n",
              "    </tr>\n",
              "    <tr>\n",
              "      <th>1</th>\n",
              "      <td>1</td>\n",
              "      <td>2398795</td>\n",
              "      <td>2</td>\n",
              "      <td>3</td>\n",
              "      <td>7</td>\n",
              "      <td>1</td>\n",
              "      <td>196</td>\n",
              "      <td>Soda</td>\n",
              "    </tr>\n",
              "    <tr>\n",
              "      <th>8</th>\n",
              "      <td>1</td>\n",
              "      <td>2398795</td>\n",
              "      <td>2</td>\n",
              "      <td>3</td>\n",
              "      <td>7</td>\n",
              "      <td>2</td>\n",
              "      <td>10258</td>\n",
              "      <td>Pistachios</td>\n",
              "    </tr>\n",
              "    <tr>\n",
              "      <th>4</th>\n",
              "      <td>1</td>\n",
              "      <td>2398795</td>\n",
              "      <td>2</td>\n",
              "      <td>3</td>\n",
              "      <td>7</td>\n",
              "      <td>3</td>\n",
              "      <td>12427</td>\n",
              "      <td>Original Beef Jerky</td>\n",
              "    </tr>\n",
              "    <tr>\n",
              "      <th>9</th>\n",
              "      <td>1</td>\n",
              "      <td>2398795</td>\n",
              "      <td>2</td>\n",
              "      <td>3</td>\n",
              "      <td>7</td>\n",
              "      <td>4</td>\n",
              "      <td>13176</td>\n",
              "      <td>Bag of Organic Bananas</td>\n",
              "    </tr>\n",
              "    <tr>\n",
              "      <th>6</th>\n",
              "      <td>1</td>\n",
              "      <td>2398795</td>\n",
              "      <td>2</td>\n",
              "      <td>3</td>\n",
              "      <td>7</td>\n",
              "      <td>5</td>\n",
              "      <td>26088</td>\n",
              "      <td>Aged White Cheddar Popcorn</td>\n",
              "    </tr>\n",
              "    <tr>\n",
              "      <th>10</th>\n",
              "      <td>1</td>\n",
              "      <td>2398795</td>\n",
              "      <td>2</td>\n",
              "      <td>3</td>\n",
              "      <td>7</td>\n",
              "      <td>6</td>\n",
              "      <td>13032</td>\n",
              "      <td>Cinnamon Toast Crunch</td>\n",
              "    </tr>\n",
              "  </tbody>\n",
              "</table>\n",
              "</div>"
            ],
            "text/plain": [
              "    user id  order id  order number  order dow  order hour of day  \\\n",
              "0         1   2539329             1          2                  8   \n",
              "2         1   2539329             1          2                  8   \n",
              "3         1   2539329             1          2                  8   \n",
              "5         1   2539329             1          2                  8   \n",
              "7         1   2539329             1          2                  8   \n",
              "1         1   2398795             2          3                  7   \n",
              "8         1   2398795             2          3                  7   \n",
              "4         1   2398795             2          3                  7   \n",
              "9         1   2398795             2          3                  7   \n",
              "6         1   2398795             2          3                  7   \n",
              "10        1   2398795             2          3                  7   \n",
              "\n",
              "    add to cart order  product id                             product name  \n",
              "0                   1         196                                     Soda  \n",
              "2                   2       14084  Organic Unsweetened Vanilla Almond Milk  \n",
              "3                   3       12427                      Original Beef Jerky  \n",
              "5                   4       26088               Aged White Cheddar Popcorn  \n",
              "7                   5       26405         XL Pick-A-Size Paper Towel Rolls  \n",
              "1                   1         196                                     Soda  \n",
              "8                   2       10258                               Pistachios  \n",
              "4                   3       12427                      Original Beef Jerky  \n",
              "9                   4       13176                   Bag of Organic Bananas  \n",
              "6                   5       26088               Aged White Cheddar Popcorn  \n",
              "10                  6       13032                    Cinnamon Toast Crunch  "
            ]
          },
          "metadata": {
            "tags": []
          },
          "execution_count": 42
        }
      ]
    },
    {
      "metadata": {
        "id": "7lT6BSEz0Oo-",
        "colab_type": "code",
        "colab": {
          "base_uri": "https://localhost:8080/",
          "height": 49
        },
        "outputId": "6e6f8dbd-4993-4230-b1d8-7e86ada597ae"
      },
      "cell_type": "code",
      "source": [
        ""
      ],
      "execution_count": 62,
      "outputs": [
        {
          "output_type": "execute_result",
          "data": {
            "text/html": [
              "<div>\n",
              "<style scoped>\n",
              "    .dataframe tbody tr th:only-of-type {\n",
              "        vertical-align: middle;\n",
              "    }\n",
              "\n",
              "    .dataframe tbody tr th {\n",
              "        vertical-align: top;\n",
              "    }\n",
              "\n",
              "    .dataframe thead th {\n",
              "        text-align: right;\n",
              "    }\n",
              "</style>\n",
              "<table border=\"1\" class=\"dataframe\">\n",
              "  <thead>\n",
              "    <tr style=\"text-align: right;\">\n",
              "      <th></th>\n",
              "      <th>user id</th>\n",
              "      <th>order id</th>\n",
              "      <th>order number</th>\n",
              "      <th>order dow</th>\n",
              "      <th>order hour of day</th>\n",
              "      <th>add to cart order</th>\n",
              "      <th>product id</th>\n",
              "      <th>product name</th>\n",
              "    </tr>\n",
              "  </thead>\n",
              "  <tbody>\n",
              "  </tbody>\n",
              "</table>\n",
              "</div>"
            ],
            "text/plain": [
              "Empty DataFrame\n",
              "Columns: [user id, order id, order number, order dow, order hour of day, add to cart order, product id, product name]\n",
              "Index: []"
            ]
          },
          "metadata": {
            "tags": []
          },
          "execution_count": 62
        }
      ]
    },
    {
      "metadata": {
        "id": "rkLHgOGnGGFR",
        "colab_type": "code",
        "colab": {
          "base_uri": "https://localhost:8080/",
          "height": 312
        },
        "outputId": "f7afe5d8-86b6-400e-fe9b-c6da5e7f71b4"
      },
      "cell_type": "code",
      "source": [
        "display(example)"
      ],
      "execution_count": 72,
      "outputs": [
        {
          "output_type": "display_data",
          "data": {
            "text/html": [
              "<img src=\"https://cdn-images-1.medium.com/max/1600/1*vYGFQCafJtGBBX5mbl0xyw.png\" width=\"600\"/>"
            ],
            "text/plain": [
              "<IPython.core.display.Image object>"
            ]
          },
          "metadata": {
            "tags": []
          }
        }
      ]
    },
    {
      "metadata": {
        "id": "5zT_cvMnHUSw",
        "colab_type": "code",
        "colab": {}
      },
      "cell_type": "code",
      "source": [
        ""
      ],
      "execution_count": 0,
      "outputs": []
    },
    {
      "metadata": {
        "colab_type": "text",
        "id": "kAMtvSQWPUcj"
      },
      "cell_type": "markdown",
      "source": [
        "# Assignment\n",
        "\n",
        "These are the top 10 most frequently ordered products. How many times was each ordered? \n",
        "\n",
        "1. Banana\n",
        "2. Bag of Organic Bananas\n",
        "3. Organic Strawberries\n",
        "4. Organic Baby Spinach \n",
        "5. Organic Hass Avocado\n",
        "6. Organic Avocado\n",
        "7. Large Lemon \n",
        "8. Strawberries\n",
        "9. Limes \n",
        "10. Organic Whole Milk\n",
        "\n",
        "First, write down which columns you need and which dataframes have them.\n",
        "\n",
        "Next, merge these into a single dataframe.\n",
        "\n",
        "Then, use pandas functions from the previous lesson to get the counts of the top 10 most frequently ordered products.\n",
        "\n",
        "## Stretch challenge\n",
        "\n",
        "The [Instacart blog post](https://tech.instacart.com/3-million-instacart-orders-open-sourced-d40d29ead6f2) has a visualization of \"**Popular products** purchased earliest in the day (green) and latest in the day (red).\" \n",
        "\n",
        "The post says,\n",
        "\n",
        "> \"We can also see the time of day that users purchase specific products.\n",
        "\n",
        "> Healthier snacks and staples tend to be purchased earlier in the day, whereas ice cream (especially Half Baked and The Tonight Dough) are far more popular when customers are ordering in the evening.\n",
        "\n",
        "> **In fact, of the top 25 latest ordered products, the first 24 are ice cream! The last one, of course, is a frozen pizza.**\"\n",
        "\n",
        "Your challenge is to reproduce the list of the top 25 latest ordered popular products.\n",
        "\n",
        "We'll define \"popular products\" as products with more than 2,900 orders."
      ]
    },
    {
      "metadata": {
        "id": "hQarhghHyrR1",
        "colab_type": "text"
      },
      "cell_type": "markdown",
      "source": [
        "- order_id:  order_products\n",
        "- product_id: order_products\n",
        "- product_id: products\n",
        "- product_name: products"
      ]
    },
    {
      "metadata": {
        "id": "pl6H6Tk1xBhX",
        "colab_type": "code",
        "colab": {
          "base_uri": "https://localhost:8080/",
          "height": 328
        },
        "outputId": "5b06d12e-0052-46a7-d9a7-bea3ff63a796"
      },
      "cell_type": "code",
      "source": [
        "order_products[order_products['order_id'] == 2]"
      ],
      "execution_count": 57,
      "outputs": [
        {
          "output_type": "execute_result",
          "data": {
            "text/html": [
              "<div>\n",
              "<style scoped>\n",
              "    .dataframe tbody tr th:only-of-type {\n",
              "        vertical-align: middle;\n",
              "    }\n",
              "\n",
              "    .dataframe tbody tr th {\n",
              "        vertical-align: top;\n",
              "    }\n",
              "\n",
              "    .dataframe thead th {\n",
              "        text-align: right;\n",
              "    }\n",
              "</style>\n",
              "<table border=\"1\" class=\"dataframe\">\n",
              "  <thead>\n",
              "    <tr style=\"text-align: right;\">\n",
              "      <th></th>\n",
              "      <th>order_id</th>\n",
              "      <th>product_id</th>\n",
              "      <th>add_to_cart_order</th>\n",
              "      <th>reordered</th>\n",
              "    </tr>\n",
              "  </thead>\n",
              "  <tbody>\n",
              "    <tr>\n",
              "      <th>0</th>\n",
              "      <td>2</td>\n",
              "      <td>33120</td>\n",
              "      <td>1</td>\n",
              "      <td>1</td>\n",
              "    </tr>\n",
              "    <tr>\n",
              "      <th>1</th>\n",
              "      <td>2</td>\n",
              "      <td>28985</td>\n",
              "      <td>2</td>\n",
              "      <td>1</td>\n",
              "    </tr>\n",
              "    <tr>\n",
              "      <th>2</th>\n",
              "      <td>2</td>\n",
              "      <td>9327</td>\n",
              "      <td>3</td>\n",
              "      <td>0</td>\n",
              "    </tr>\n",
              "    <tr>\n",
              "      <th>3</th>\n",
              "      <td>2</td>\n",
              "      <td>45918</td>\n",
              "      <td>4</td>\n",
              "      <td>1</td>\n",
              "    </tr>\n",
              "    <tr>\n",
              "      <th>4</th>\n",
              "      <td>2</td>\n",
              "      <td>30035</td>\n",
              "      <td>5</td>\n",
              "      <td>0</td>\n",
              "    </tr>\n",
              "    <tr>\n",
              "      <th>5</th>\n",
              "      <td>2</td>\n",
              "      <td>17794</td>\n",
              "      <td>6</td>\n",
              "      <td>1</td>\n",
              "    </tr>\n",
              "    <tr>\n",
              "      <th>6</th>\n",
              "      <td>2</td>\n",
              "      <td>40141</td>\n",
              "      <td>7</td>\n",
              "      <td>1</td>\n",
              "    </tr>\n",
              "    <tr>\n",
              "      <th>7</th>\n",
              "      <td>2</td>\n",
              "      <td>1819</td>\n",
              "      <td>8</td>\n",
              "      <td>1</td>\n",
              "    </tr>\n",
              "    <tr>\n",
              "      <th>8</th>\n",
              "      <td>2</td>\n",
              "      <td>43668</td>\n",
              "      <td>9</td>\n",
              "      <td>0</td>\n",
              "    </tr>\n",
              "  </tbody>\n",
              "</table>\n",
              "</div>"
            ],
            "text/plain": [
              "   order_id  product_id  add_to_cart_order  reordered\n",
              "0         2       33120                  1          1\n",
              "1         2       28985                  2          1\n",
              "2         2        9327                  3          0\n",
              "3         2       45918                  4          1\n",
              "4         2       30035                  5          0\n",
              "5         2       17794                  6          1\n",
              "6         2       40141                  7          1\n",
              "7         2        1819                  8          1\n",
              "8         2       43668                  9          0"
            ]
          },
          "metadata": {
            "tags": []
          },
          "execution_count": 57
        }
      ]
    },
    {
      "metadata": {
        "id": "xgMLYXvPygui",
        "colab_type": "code",
        "colab": {
          "base_uri": "https://localhost:8080/",
          "height": 142
        },
        "outputId": "b54b8ac5-fadc-4009-dfe4-8a8f47831931"
      },
      "cell_type": "code",
      "source": [
        "orders.head(3)"
      ],
      "execution_count": 63,
      "outputs": [
        {
          "output_type": "execute_result",
          "data": {
            "text/html": [
              "<div>\n",
              "<style scoped>\n",
              "    .dataframe tbody tr th:only-of-type {\n",
              "        vertical-align: middle;\n",
              "    }\n",
              "\n",
              "    .dataframe tbody tr th {\n",
              "        vertical-align: top;\n",
              "    }\n",
              "\n",
              "    .dataframe thead th {\n",
              "        text-align: right;\n",
              "    }\n",
              "</style>\n",
              "<table border=\"1\" class=\"dataframe\">\n",
              "  <thead>\n",
              "    <tr style=\"text-align: right;\">\n",
              "      <th></th>\n",
              "      <th>order_id</th>\n",
              "      <th>user_id</th>\n",
              "      <th>eval_set</th>\n",
              "      <th>order_number</th>\n",
              "      <th>order_dow</th>\n",
              "      <th>order_hour_of_day</th>\n",
              "      <th>days_since_prior_order</th>\n",
              "    </tr>\n",
              "  </thead>\n",
              "  <tbody>\n",
              "    <tr>\n",
              "      <th>0</th>\n",
              "      <td>2539329</td>\n",
              "      <td>1</td>\n",
              "      <td>prior</td>\n",
              "      <td>1</td>\n",
              "      <td>2</td>\n",
              "      <td>8</td>\n",
              "      <td>NaN</td>\n",
              "    </tr>\n",
              "    <tr>\n",
              "      <th>1</th>\n",
              "      <td>2398795</td>\n",
              "      <td>1</td>\n",
              "      <td>prior</td>\n",
              "      <td>2</td>\n",
              "      <td>3</td>\n",
              "      <td>7</td>\n",
              "      <td>15.0</td>\n",
              "    </tr>\n",
              "    <tr>\n",
              "      <th>2</th>\n",
              "      <td>473747</td>\n",
              "      <td>1</td>\n",
              "      <td>prior</td>\n",
              "      <td>3</td>\n",
              "      <td>3</td>\n",
              "      <td>12</td>\n",
              "      <td>21.0</td>\n",
              "    </tr>\n",
              "  </tbody>\n",
              "</table>\n",
              "</div>"
            ],
            "text/plain": [
              "   order_id  user_id eval_set  order_number  order_dow  order_hour_of_day  \\\n",
              "0   2539329        1    prior             1          2                  8   \n",
              "1   2398795        1    prior             2          3                  7   \n",
              "2    473747        1    prior             3          3                 12   \n",
              "\n",
              "   days_since_prior_order  \n",
              "0                     NaN  \n",
              "1                    15.0  \n",
              "2                    21.0  "
            ]
          },
          "metadata": {
            "tags": []
          },
          "execution_count": 63
        }
      ]
    },
    {
      "metadata": {
        "id": "2GoURMzFzKe_",
        "colab_type": "code",
        "colab": {
          "base_uri": "https://localhost:8080/",
          "height": 142
        },
        "outputId": "5cc5abd3-b739-4c0a-9466-56b12467cc4a"
      },
      "cell_type": "code",
      "source": [
        "products.head(3)"
      ],
      "execution_count": 51,
      "outputs": [
        {
          "output_type": "execute_result",
          "data": {
            "text/html": [
              "<div>\n",
              "<style scoped>\n",
              "    .dataframe tbody tr th:only-of-type {\n",
              "        vertical-align: middle;\n",
              "    }\n",
              "\n",
              "    .dataframe tbody tr th {\n",
              "        vertical-align: top;\n",
              "    }\n",
              "\n",
              "    .dataframe thead th {\n",
              "        text-align: right;\n",
              "    }\n",
              "</style>\n",
              "<table border=\"1\" class=\"dataframe\">\n",
              "  <thead>\n",
              "    <tr style=\"text-align: right;\">\n",
              "      <th></th>\n",
              "      <th>product_id</th>\n",
              "      <th>product_name</th>\n",
              "      <th>aisle_id</th>\n",
              "      <th>department_id</th>\n",
              "    </tr>\n",
              "  </thead>\n",
              "  <tbody>\n",
              "    <tr>\n",
              "      <th>0</th>\n",
              "      <td>1</td>\n",
              "      <td>Chocolate Sandwich Cookies</td>\n",
              "      <td>61</td>\n",
              "      <td>19</td>\n",
              "    </tr>\n",
              "    <tr>\n",
              "      <th>1</th>\n",
              "      <td>2</td>\n",
              "      <td>All-Seasons Salt</td>\n",
              "      <td>104</td>\n",
              "      <td>13</td>\n",
              "    </tr>\n",
              "    <tr>\n",
              "      <th>2</th>\n",
              "      <td>3</td>\n",
              "      <td>Robust Golden Unsweetened Oolong Tea</td>\n",
              "      <td>94</td>\n",
              "      <td>7</td>\n",
              "    </tr>\n",
              "  </tbody>\n",
              "</table>\n",
              "</div>"
            ],
            "text/plain": [
              "   product_id                          product_name  aisle_id  department_id\n",
              "0           1            Chocolate Sandwich Cookies        61             19\n",
              "1           2                      All-Seasons Salt       104             13\n",
              "2           3  Robust Golden Unsweetened Oolong Tea        94              7"
            ]
          },
          "metadata": {
            "tags": []
          },
          "execution_count": 51
        }
      ]
    },
    {
      "metadata": {
        "id": "RoCv9a1gznjt",
        "colab_type": "code",
        "colab": {}
      },
      "cell_type": "code",
      "source": [
        "\n",
        "# count the number of times each item is ordered and get top 10\n",
        "top10 = (order_products['product_id'].value_counts()[:10].index.tolist()) \n",
        "\n",
        "# set condition\n",
        "condition_top10 = (order_products['product_id'].isin(top10))\n",
        "\n",
        "# columns to use\n",
        "op_columns = ['order_id', 'product_id']\n",
        "\n",
        "# select only products from top 10 most ordered\n",
        "op_top10 = order_products.loc[condition_top10, op_columns]"
      ],
      "execution_count": 0,
      "outputs": []
    },
    {
      "metadata": {
        "id": "OYbYXfyl7fjt",
        "colab_type": "code",
        "colab": {}
      },
      "cell_type": "code",
      "source": [
        "# make sure it worked\n",
        "op_top10"
      ],
      "execution_count": 0,
      "outputs": []
    },
    {
      "metadata": {
        "id": "tzykwxPf2S9K",
        "colab_type": "code",
        "colab": {}
      },
      "cell_type": "code",
      "source": [
        "# merge dataframes\n",
        "merged_10 = pd.merge(products[['product_id', 'product_name']], op_top10)"
      ],
      "execution_count": 0,
      "outputs": []
    },
    {
      "metadata": {
        "id": "ts-RYDKR399a",
        "colab_type": "code",
        "colab": {
          "base_uri": "https://localhost:8080/",
          "height": 425
        },
        "outputId": "1dfe3932-6244-4189-bab0-021f612dc2ec"
      },
      "cell_type": "code",
      "source": [
        "# checking my work\n",
        "\n",
        "print(merged_10['product_name'].value_counts(), '\\n\\n')\n",
        "print(order_products['product_id'].value_counts()[:10])"
      ],
      "execution_count": 104,
      "outputs": [
        {
          "output_type": "stream",
          "text": [
            "Banana                    491291\n",
            "Bag of Organic Bananas    394930\n",
            "Organic Strawberries      275577\n",
            "Organic Baby Spinach      251705\n",
            "Organic Hass Avocado      220877\n",
            "Organic Avocado           184224\n",
            "Large Lemon               160792\n",
            "Strawberries              149445\n",
            "Limes                     146660\n",
            "Organic Whole Milk        142813\n",
            "Name: product_name, dtype: int64 \n",
            "\n",
            "\n",
            "24852    491291\n",
            "13176    394930\n",
            "21137    275577\n",
            "21903    251705\n",
            "47209    220877\n",
            "47766    184224\n",
            "47626    160792\n",
            "16797    149445\n",
            "26209    146660\n",
            "27845    142813\n",
            "Name: product_id, dtype: int64\n"
          ],
          "name": "stdout"
        }
      ]
    },
    {
      "metadata": {
        "id": "Nd4tO4Mx_luE",
        "colab_type": "code",
        "colab": {
          "base_uri": "https://localhost:8080/",
          "height": 364
        },
        "outputId": "bae57663-4486-43c0-f992-5ef1496499f7"
      },
      "cell_type": "code",
      "source": [
        "merged_10['product_id'].plot.hist()"
      ],
      "execution_count": 107,
      "outputs": [
        {
          "output_type": "execute_result",
          "data": {
            "text/plain": [
              "<matplotlib.axes._subplots.AxesSubplot at 0x7efe2277c860>"
            ]
          },
          "metadata": {
            "tags": []
          },
          "execution_count": 107
        },
        {
          "output_type": "display_data",
          "data": {
            "image/png": "[encoded data removed]",
            "text/plain": [
              "<Figure size 576x396 with 1 Axes>"
            ]
          },
          "metadata": {
            "tags": []
          }
        }
      ]
    },
    {
      "metadata": {
        "id": "Q-PGhhByBkv3",
        "colab_type": "code",
        "colab": {}
      },
      "cell_type": "code",
      "source": [
        "orders_count = [order_products['product_id'].value_counts().index.tolist(),\n",
        "                order_products['product_id'].value_counts().values.tolist()]\n"
      ],
      "execution_count": 0,
      "outputs": []
    },
    {
      "metadata": {
        "id": "oDPxyOA8JsSp",
        "colab_type": "code",
        "colab": {
          "base_uri": "https://localhost:8080/",
          "height": 17034
        },
        "outputId": "c8fc5f32-2417-405e-a135-6803e013fe0c"
      },
      "cell_type": "code",
      "source": [
        "orders_count[1]"
      ],
      "execution_count": 146,
      "outputs": [
        {
          "output_type": "execute_result",
          "data": {
            "text/plain": [
              "[491291,\n",
              " 394930,\n",
              " 275577,\n",
              " 251705,\n",
              " 220877,\n",
              " 184224,\n",
              " 160792,\n",
              " 149445,\n",
              " 146660,\n",
              " 142813,\n",
              " 142603,\n",
              " 117716,\n",
              " 113936,\n",
              " 109412,\n",
              " 105026,\n",
              " 99728,\n",
              " 92889,\n",
              " 91251,\n",
              " 88078,\n",
              " 87272,\n",
              " 86748,\n",
              " 85005,\n",
              " 83320,\n",
              " 80493,\n",
              " 79245,\n",
              " 79006,\n",
              " 78056,\n",
              " 76929,\n",
              " 75752,\n",
              " 75655,\n",
              " 75233,\n",
              " 74235,\n",
              " 74172,\n",
              " 73050,\n",
              " 71641,\n",
              " 71151,\n",
              " 70804,\n",
              " 70714,\n",
              " 70076,\n",
              " 66827,\n",
              " 64589,\n",
              " 63114,\n",
              " 63021,\n",
              " 61669,\n",
              " 61116,\n",
              " 60919,\n",
              " 60071,\n",
              " 59878,\n",
              " 58312,\n",
              " 58269,\n",
              " 58185,\n",
              " 58005,\n",
              " 57831,\n",
              " 56643,\n",
              " 54507,\n",
              " 54094,\n",
              " 52497,\n",
              " 52369,\n",
              " 52323,\n",
              " 52124,\n",
              " 52021,\n",
              " 51738,\n",
              " 50808,\n",
              " 49374,\n",
              " 48512,\n",
              " 47450,\n",
              " 46932,\n",
              " 44976,\n",
              " 44828,\n",
              " 44737,\n",
              " 44701,\n",
              " 44477,\n",
              " 44460,\n",
              " 43261,\n",
              " 42274,\n",
              " 42165,\n",
              " 41812,\n",
              " 41303,\n",
              " 41052,\n",
              " 40498,\n",
              " 40373,\n",
              " 39577,\n",
              " 39271,\n",
              " 38686,\n",
              " 38631,\n",
              " 38537,\n",
              " 37689,\n",
              " 37566,\n",
              " 37562,\n",
              " 37298,\n",
              " 37102,\n",
              " 36968,\n",
              " 36869,\n",
              " 36620,\n",
              " 36048,\n",
              " 36028,\n",
              " 35551,\n",
              " 35384,\n",
              " 34248,\n",
              " 34211,\n",
              " 33800,\n",
              " 33708,\n",
              " 33242,\n",
              " 33143,\n",
              " 33130,\n",
              " 32658,\n",
              " 32270,\n",
              " 32212,\n",
              " 32194,\n",
              " 32069,\n",
              " 31432,\n",
              " 31196,\n",
              " 30970,\n",
              " 30866,\n",
              " 30731,\n",
              " 30565,\n",
              " 30517,\n",
              " 30310,\n",
              " 30229,\n",
              " 30009,\n",
              " 29507,\n",
              " 29174,\n",
              " 29047,\n",
              " 28850,\n",
              " 28300,\n",
              " 28267,\n",
              " 27981,\n",
              " 27959,\n",
              " 27890,\n",
              " 27871,\n",
              " 27813,\n",
              " 27738,\n",
              " 27713,\n",
              " 27679,\n",
              " 27555,\n",
              " 27402,\n",
              " 27394,\n",
              " 27200,\n",
              " 26962,\n",
              " 26625,\n",
              " 26575,\n",
              " 26027,\n",
              " 25972,\n",
              " 25941,\n",
              " 25530,\n",
              " 25414,\n",
              " 25388,\n",
              " 25115,\n",
              " 25045,\n",
              " 24888,\n",
              " 24818,\n",
              " 24794,\n",
              " 24491,\n",
              " 24331,\n",
              " 24276,\n",
              " 24175,\n",
              " 23944,\n",
              " 23941,\n",
              " 23844,\n",
              " 23533,\n",
              " 23424,\n",
              " 22943,\n",
              " 22834,\n",
              " 22576,\n",
              " 22562,\n",
              " 22340,\n",
              " 22335,\n",
              " 22296,\n",
              " 22252,\n",
              " 22193,\n",
              " 22137,\n",
              " 22137,\n",
              " 22132,\n",
              " 21993,\n",
              " 21610,\n",
              " 21582,\n",
              " 21562,\n",
              " 21562,\n",
              " 21405,\n",
              " 21112,\n",
              " 21041,\n",
              " 21024,\n",
              " 20981,\n",
              " 20966,\n",
              " 20921,\n",
              " 20915,\n",
              " 20887,\n",
              " 20770,\n",
              " 20752,\n",
              " 20582,\n",
              " 20562,\n",
              " 20553,\n",
              " 20552,\n",
              " 20487,\n",
              " 20483,\n",
              " 20468,\n",
              " 20435,\n",
              " 20417,\n",
              " 20344,\n",
              " 20234,\n",
              " 20209,\n",
              " 20164,\n",
              " 20016,\n",
              " 19971,\n",
              " 19962,\n",
              " 19400,\n",
              " 19198,\n",
              " 19172,\n",
              " 19145,\n",
              " 19052,\n",
              " 19041,\n",
              " 19038,\n",
              " 19031,\n",
              " 18977,\n",
              " 18914,\n",
              " 18912,\n",
              " 18899,\n",
              " 18847,\n",
              " 18800,\n",
              " 18736,\n",
              " 18692,\n",
              " 18614,\n",
              " 18487,\n",
              " 18445,\n",
              " 18382,\n",
              " 18336,\n",
              " 18260,\n",
              " 18252,\n",
              " 18195,\n",
              " 18179,\n",
              " 18132,\n",
              " 18125,\n",
              " 18083,\n",
              " 17920,\n",
              " 17829,\n",
              " 17707,\n",
              " 17596,\n",
              " 17568,\n",
              " 17534,\n",
              " 17462,\n",
              " 17435,\n",
              " 17360,\n",
              " 17333,\n",
              " 17274,\n",
              " 17168,\n",
              " 17061,\n",
              " 17056,\n",
              " 17042,\n",
              " 17028,\n",
              " 16953,\n",
              " 16874,\n",
              " 16780,\n",
              " 16664,\n",
              " 16585,\n",
              " 16584,\n",
              " 16577,\n",
              " 16479,\n",
              " 16453,\n",
              " 16375,\n",
              " 16337,\n",
              " 16316,\n",
              " 16145,\n",
              " 16075,\n",
              " 16015,\n",
              " 15942,\n",
              " 15941,\n",
              " 15939,\n",
              " 15914,\n",
              " 15905,\n",
              " 15875,\n",
              " 15821,\n",
              " 15645,\n",
              " 15642,\n",
              " 15621,\n",
              " 15592,\n",
              " 15558,\n",
              " 15514,\n",
              " 15401,\n",
              " 15397,\n",
              " 15352,\n",
              " 15326,\n",
              " 15294,\n",
              " 15276,\n",
              " 15250,\n",
              " 15209,\n",
              " 15185,\n",
              " 15152,\n",
              " 15131,\n",
              " 15090,\n",
              " 15074,\n",
              " 15063,\n",
              " 15031,\n",
              " 14894,\n",
              " 14874,\n",
              " 14851,\n",
              " 14851,\n",
              " 14848,\n",
              " 14804,\n",
              " 14777,\n",
              " 14762,\n",
              " 14692,\n",
              " 14650,\n",
              " 14614,\n",
              " 14550,\n",
              " 14480,\n",
              " 14413,\n",
              " 14397,\n",
              " 14347,\n",
              " 14334,\n",
              " 14281,\n",
              " 14264,\n",
              " 14259,\n",
              " 14237,\n",
              " 14207,\n",
              " 14183,\n",
              " 14181,\n",
              " 14160,\n",
              " 14149,\n",
              " 14109,\n",
              " 14079,\n",
              " 14051,\n",
              " 14036,\n",
              " 14022,\n",
              " 14018,\n",
              " 13972,\n",
              " 13965,\n",
              " 13908,\n",
              " 13853,\n",
              " 13847,\n",
              " 13836,\n",
              " 13807,\n",
              " 13756,\n",
              " 13725,\n",
              " 13664,\n",
              " 13651,\n",
              " 13597,\n",
              " 13564,\n",
              " 13513,\n",
              " 13476,\n",
              " 13448,\n",
              " 13426,\n",
              " 13376,\n",
              " 13374,\n",
              " 13367,\n",
              " 13366,\n",
              " 13330,\n",
              " 13292,\n",
              " 13215,\n",
              " 13189,\n",
              " 13170,\n",
              " 13133,\n",
              " 13119,\n",
              " 13119,\n",
              " 13114,\n",
              " 13101,\n",
              " 13088,\n",
              " 13043,\n",
              " 13036,\n",
              " 12994,\n",
              " 12943,\n",
              " 12936,\n",
              " 12922,\n",
              " 12912,\n",
              " 12897,\n",
              " 12890,\n",
              " 12883,\n",
              " 12836,\n",
              " 12774,\n",
              " 12765,\n",
              " 12757,\n",
              " 12752,\n",
              " 12656,\n",
              " 12638,\n",
              " 12601,\n",
              " 12594,\n",
              " 12565,\n",
              " 12561,\n",
              " 12560,\n",
              " 12560,\n",
              " 12543,\n",
              " 12530,\n",
              " 12513,\n",
              " 12439,\n",
              " 12432,\n",
              " 12398,\n",
              " 12366,\n",
              " 12360,\n",
              " 12357,\n",
              " 12318,\n",
              " 12282,\n",
              " 12249,\n",
              " 12242,\n",
              " 12193,\n",
              " 12150,\n",
              " 12128,\n",
              " 12126,\n",
              " 12113,\n",
              " 12088,\n",
              " 12070,\n",
              " 12053,\n",
              " 11987,\n",
              " 11983,\n",
              " 11979,\n",
              " 11963,\n",
              " 11953,\n",
              " 11921,\n",
              " 11913,\n",
              " 11874,\n",
              " 11839,\n",
              " 11816,\n",
              " 11782,\n",
              " 11755,\n",
              " 11750,\n",
              " 11747,\n",
              " 11727,\n",
              " 11711,\n",
              " 11702,\n",
              " 11698,\n",
              " 11695,\n",
              " 11672,\n",
              " 11618,\n",
              " 11610,\n",
              " 11595,\n",
              " 11577,\n",
              " 11565,\n",
              " 11561,\n",
              " 11548,\n",
              " 11538,\n",
              " 11522,\n",
              " 11503,\n",
              " 11488,\n",
              " 11486,\n",
              " 11409,\n",
              " 11365,\n",
              " 11355,\n",
              " 11352,\n",
              " 11316,\n",
              " 11284,\n",
              " 11265,\n",
              " 11225,\n",
              " 11214,\n",
              " 11181,\n",
              " 11158,\n",
              " 11125,\n",
              " 11118,\n",
              " 11114,\n",
              " 11062,\n",
              " 11048,\n",
              " 11044,\n",
              " 11043,\n",
              " 11031,\n",
              " 11029,\n",
              " 11026,\n",
              " 11025,\n",
              " 11018,\n",
              " 11010,\n",
              " 11005,\n",
              " 11002,\n",
              " 10976,\n",
              " 10954,\n",
              " 10940,\n",
              " 10938,\n",
              " 10920,\n",
              " 10915,\n",
              " 10896,\n",
              " 10890,\n",
              " 10868,\n",
              " 10859,\n",
              " 10857,\n",
              " 10838,\n",
              " 10834,\n",
              " 10811,\n",
              " 10797,\n",
              " 10787,\n",
              " 10781,\n",
              " 10781,\n",
              " 10780,\n",
              " 10759,\n",
              " 10755,\n",
              " 10750,\n",
              " 10728,\n",
              " 10717,\n",
              " 10690,\n",
              " 10661,\n",
              " 10657,\n",
              " 10641,\n",
              " 10618,\n",
              " 10596,\n",
              " 10551,\n",
              " 10521,\n",
              " 10509,\n",
              " 10471,\n",
              " 10468,\n",
              " 10444,\n",
              " 10435,\n",
              " 10427,\n",
              " 10380,\n",
              " 10375,\n",
              " 10300,\n",
              " 10294,\n",
              " 10275,\n",
              " 10266,\n",
              " 10250,\n",
              " 10190,\n",
              " 10162,\n",
              " 10151,\n",
              " 10143,\n",
              " 10121,\n",
              " 10102,\n",
              " 10097,\n",
              " 10030,\n",
              " 9977,\n",
              " 9962,\n",
              " 9956,\n",
              " 9946,\n",
              " 9910,\n",
              " 9879,\n",
              " 9835,\n",
              " 9812,\n",
              " 9803,\n",
              " 9792,\n",
              " 9777,\n",
              " 9764,\n",
              " 9740,\n",
              " 9736,\n",
              " 9728,\n",
              " 9695,\n",
              " 9659,\n",
              " 9649,\n",
              " 9613,\n",
              " 9584,\n",
              " 9583,\n",
              " 9517,\n",
              " 9495,\n",
              " 9462,\n",
              " 9452,\n",
              " 9413,\n",
              " 9410,\n",
              " 9397,\n",
              " 9391,\n",
              " 9389,\n",
              " 9386,\n",
              " 9373,\n",
              " 9372,\n",
              " 9350,\n",
              " 9349,\n",
              " 9276,\n",
              " 9262,\n",
              " 9253,\n",
              " 9247,\n",
              " 9243,\n",
              " 9239,\n",
              " 9233,\n",
              " 9232,\n",
              " 9189,\n",
              " 9187,\n",
              " 9183,\n",
              " 9183,\n",
              " 9137,\n",
              " 9137,\n",
              " 9118,\n",
              " 9108,\n",
              " 9108,\n",
              " 9105,\n",
              " 9103,\n",
              " 9091,\n",
              " 9082,\n",
              " 9082,\n",
              " 9048,\n",
              " 9038,\n",
              " 8977,\n",
              " 8973,\n",
              " 8959,\n",
              " 8957,\n",
              " 8933,\n",
              " 8926,\n",
              " 8923,\n",
              " 8911,\n",
              " 8905,\n",
              " 8891,\n",
              " 8878,\n",
              " 8864,\n",
              " 8858,\n",
              " 8855,\n",
              " 8851,\n",
              " 8815,\n",
              " 8807,\n",
              " 8806,\n",
              " 8792,\n",
              " 8785,\n",
              " 8773,\n",
              " 8760,\n",
              " 8742,\n",
              " 8740,\n",
              " 8727,\n",
              " 8726,\n",
              " 8725,\n",
              " 8721,\n",
              " 8720,\n",
              " 8711,\n",
              " 8705,\n",
              " 8676,\n",
              " 8672,\n",
              " 8671,\n",
              " 8661,\n",
              " 8649,\n",
              " 8648,\n",
              " 8642,\n",
              " 8640,\n",
              " 8637,\n",
              " 8621,\n",
              " 8597,\n",
              " 8585,\n",
              " 8583,\n",
              " 8578,\n",
              " 8558,\n",
              " 8555,\n",
              " 8555,\n",
              " 8541,\n",
              " 8539,\n",
              " 8512,\n",
              " 8511,\n",
              " 8511,\n",
              " 8508,\n",
              " 8497,\n",
              " 8495,\n",
              " 8493,\n",
              " 8489,\n",
              " 8479,\n",
              " 8457,\n",
              " 8452,\n",
              " 8452,\n",
              " 8448,\n",
              " 8435,\n",
              " 8423,\n",
              " 8399,\n",
              " 8391,\n",
              " 8382,\n",
              " 8354,\n",
              " 8339,\n",
              " 8307,\n",
              " 8306,\n",
              " 8306,\n",
              " 8305,\n",
              " 8303,\n",
              " 8291,\n",
              " 8290,\n",
              " 8287,\n",
              " 8279,\n",
              " 8275,\n",
              " 8252,\n",
              " 8221,\n",
              " 8204,\n",
              " 8180,\n",
              " 8177,\n",
              " 8170,\n",
              " 8164,\n",
              " 8158,\n",
              " 8153,\n",
              " 8132,\n",
              " 8129,\n",
              " 8125,\n",
              " 8120,\n",
              " 8119,\n",
              " 8114,\n",
              " 8105,\n",
              " 8092,\n",
              " 8074,\n",
              " 8044,\n",
              " 8040,\n",
              " 8023,\n",
              " 8021,\n",
              " 8018,\n",
              " 8005,\n",
              " 8001,\n",
              " 7982,\n",
              " 7975,\n",
              " 7969,\n",
              " 7969,\n",
              " 7954,\n",
              " 7942,\n",
              " 7924,\n",
              " 7921,\n",
              " 7917,\n",
              " 7903,\n",
              " 7894,\n",
              " 7894,\n",
              " 7885,\n",
              " 7883,\n",
              " 7870,\n",
              " 7853,\n",
              " 7843,\n",
              " 7838,\n",
              " 7838,\n",
              " 7835,\n",
              " 7832,\n",
              " 7828,\n",
              " 7825,\n",
              " 7822,\n",
              " 7818,\n",
              " 7816,\n",
              " 7799,\n",
              " 7791,\n",
              " 7788,\n",
              " 7775,\n",
              " 7775,\n",
              " 7773,\n",
              " 7760,\n",
              " 7748,\n",
              " 7728,\n",
              " 7696,\n",
              " 7672,\n",
              " 7667,\n",
              " 7656,\n",
              " 7648,\n",
              " 7641,\n",
              " 7628,\n",
              " 7625,\n",
              " 7620,\n",
              " 7614,\n",
              " 7603,\n",
              " 7601,\n",
              " 7591,\n",
              " 7588,\n",
              " 7577,\n",
              " 7562,\n",
              " 7556,\n",
              " 7554,\n",
              " 7550,\n",
              " 7546,\n",
              " 7543,\n",
              " 7535,\n",
              " 7535,\n",
              " 7534,\n",
              " 7531,\n",
              " 7514,\n",
              " 7507,\n",
              " 7498,\n",
              " 7474,\n",
              " 7457,\n",
              " 7445,\n",
              " 7423,\n",
              " 7420,\n",
              " 7417,\n",
              " 7413,\n",
              " 7402,\n",
              " 7369,\n",
              " 7368,\n",
              " 7343,\n",
              " 7342,\n",
              " 7332,\n",
              " 7315,\n",
              " 7314,\n",
              " 7311,\n",
              " 7305,\n",
              " 7303,\n",
              " 7292,\n",
              " 7278,\n",
              " 7270,\n",
              " 7261,\n",
              " 7260,\n",
              " 7240,\n",
              " 7239,\n",
              " 7227,\n",
              " 7220,\n",
              " 7220,\n",
              " 7205,\n",
              " 7204,\n",
              " 7196,\n",
              " 7192,\n",
              " 7186,\n",
              " 7181,\n",
              " 7181,\n",
              " 7178,\n",
              " 7158,\n",
              " 7154,\n",
              " 7126,\n",
              " 7102,\n",
              " 7086,\n",
              " 7085,\n",
              " 7084,\n",
              " 7081,\n",
              " 7076,\n",
              " 7076,\n",
              " 7068,\n",
              " 7064,\n",
              " 7062,\n",
              " 7062,\n",
              " 7054,\n",
              " 7050,\n",
              " 7043,\n",
              " 7041,\n",
              " 7037,\n",
              " 7036,\n",
              " 7022,\n",
              " 7003,\n",
              " 6995,\n",
              " 6982,\n",
              " 6973,\n",
              " 6968,\n",
              " 6966,\n",
              " 6930,\n",
              " 6919,\n",
              " 6912,\n",
              " 6909,\n",
              " 6897,\n",
              " 6875,\n",
              " 6859,\n",
              " 6851,\n",
              " 6837,\n",
              " 6837,\n",
              " 6832,\n",
              " 6823,\n",
              " 6820,\n",
              " 6816,\n",
              " 6799,\n",
              " 6795,\n",
              " 6794,\n",
              " 6794,\n",
              " 6782,\n",
              " 6779,\n",
              " 6779,\n",
              " 6773,\n",
              " 6762,\n",
              " 6761,\n",
              " 6760,\n",
              " 6758,\n",
              " 6757,\n",
              " 6756,\n",
              " 6754,\n",
              " 6744,\n",
              " 6735,\n",
              " 6721,\n",
              " 6715,\n",
              " 6709,\n",
              " 6705,\n",
              " 6702,\n",
              " 6699,\n",
              " 6699,\n",
              " 6697,\n",
              " 6697,\n",
              " 6695,\n",
              " 6674,\n",
              " 6669,\n",
              " 6642,\n",
              " 6639,\n",
              " 6633,\n",
              " 6630,\n",
              " 6620,\n",
              " 6606,\n",
              " 6596,\n",
              " 6594,\n",
              " 6590,\n",
              " 6574,\n",
              " 6571,\n",
              " 6571,\n",
              " 6570,\n",
              " 6569,\n",
              " 6568,\n",
              " 6562,\n",
              " 6559,\n",
              " 6558,\n",
              " 6547,\n",
              " 6544,\n",
              " 6542,\n",
              " 6540,\n",
              " 6528,\n",
              " 6526,\n",
              " 6516,\n",
              " 6511,\n",
              " 6509,\n",
              " 6504,\n",
              " 6494,\n",
              " 6485,\n",
              " 6482,\n",
              " 6480,\n",
              " 6458,\n",
              " 6458,\n",
              " 6447,\n",
              " 6446,\n",
              " 6437,\n",
              " 6433,\n",
              " 6424,\n",
              " 6416,\n",
              " 6409,\n",
              " 6402,\n",
              " 6401,\n",
              " 6397,\n",
              " 6383,\n",
              " 6382,\n",
              " 6361,\n",
              " 6361,\n",
              " 6352,\n",
              " 6346,\n",
              " 6346,\n",
              " 6345,\n",
              " 6333,\n",
              " 6330,\n",
              " 6323,\n",
              " 6305,\n",
              " 6301,\n",
              " 6300,\n",
              " 6288,\n",
              " 6288,\n",
              " 6280,\n",
              " 6280,\n",
              " 6257,\n",
              " 6252,\n",
              " 6251,\n",
              " 6243,\n",
              " 6237,\n",
              " 6237,\n",
              " 6229,\n",
              " 6226,\n",
              " 6222,\n",
              " 6210,\n",
              " 6204,\n",
              " 6199,\n",
              " 6186,\n",
              " 6173,\n",
              " 6164,\n",
              " 6161,\n",
              " 6148,\n",
              " 6138,\n",
              " 6136,\n",
              " 6136,\n",
              " 6134,\n",
              " 6134,\n",
              " 6104,\n",
              " 6102,\n",
              " 6093,\n",
              " 6090,\n",
              " 6080,\n",
              " 6072,\n",
              " 6068,\n",
              " 6067,\n",
              " 6067,\n",
              " 6057,\n",
              " 6056,\n",
              " 6018,\n",
              " 5985,\n",
              " 5982,\n",
              " 5976,\n",
              " 5974,\n",
              " 5957,\n",
              " 5950,\n",
              " 5948,\n",
              " 5947,\n",
              " 5943,\n",
              " 5939,\n",
              " 5936,\n",
              " 5924,\n",
              " 5922,\n",
              " 5914,\n",
              " 5906,\n",
              " 5904,\n",
              " 5903,\n",
              " 5894,\n",
              " 5892,\n",
              " 5883,\n",
              " 5871,\n",
              " 5853,\n",
              " 5843,\n",
              " 5840,\n",
              " 5833,\n",
              " 5815,\n",
              " 5814,\n",
              " 5812,\n",
              " 5807,\n",
              " 5807,\n",
              " 5803,\n",
              " 5799,\n",
              " 5788,\n",
              " 5769,\n",
              " 5748,\n",
              " 5745,\n",
              " 5743,\n",
              " 5743,\n",
              " 5743,\n",
              " 5742,\n",
              " 5742,\n",
              " 5733,\n",
              " 5729,\n",
              " 5727,\n",
              " 5722,\n",
              " 5720,\n",
              " 5720,\n",
              " 5717,\n",
              " 5717,\n",
              " 5706,\n",
              " 5702,\n",
              " 5697,\n",
              " 5696,\n",
              " 5693,\n",
              " 5691,\n",
              " 5687,\n",
              " 5687,\n",
              " 5686,\n",
              " 5680,\n",
              " 5677,\n",
              " ...]"
            ]
          },
          "metadata": {
            "tags": []
          },
          "execution_count": 146
        }
      ]
    },
    {
      "metadata": {
        "id": "BMZV8HqbGQOO",
        "colab_type": "code",
        "colab": {
          "base_uri": "https://localhost:8080/",
          "height": 34
        },
        "outputId": "3fb202fe-03a9-419d-b2e0-aac47e0a27b0"
      },
      "cell_type": "code",
      "source": [
        "order_product"
      ],
      "execution_count": 147,
      "outputs": [
        {
          "output_type": "execute_result",
          "data": {
            "text/plain": [
              "<generator object <genexpr> at 0x7efe206db938>"
            ]
          },
          "metadata": {
            "tags": []
          },
          "execution_count": 147
        }
      ]
    },
    {
      "metadata": {
        "id": "QVDrv0P1EY2Y",
        "colab_type": "code",
        "colab": {
          "base_uri": "https://localhost:8080/",
          "height": 204
        },
        "outputId": "feba44b8-b2c0-4f76-9963-77e42abbadd5"
      },
      "cell_type": "code",
      "source": [
        "order_products['product_id'].value_counts()[:10]"
      ],
      "execution_count": 117,
      "outputs": [
        {
          "output_type": "execute_result",
          "data": {
            "text/plain": [
              "24852    491291\n",
              "13176    394930\n",
              "21137    275577\n",
              "21903    251705\n",
              "47209    220877\n",
              "47766    184224\n",
              "47626    160792\n",
              "16797    149445\n",
              "26209    146660\n",
              "27845    142813\n",
              "Name: product_id, dtype: int64"
            ]
          },
          "metadata": {
            "tags": []
          },
          "execution_count": 117
        }
      ]
    },
    {
      "metadata": {
        "id": "9RvdUqDCDi9V",
        "colab_type": "code",
        "colab": {
          "base_uri": "https://localhost:8080/",
          "height": 68
        },
        "outputId": "9e37bff9-0804-4338-ed95-d2403ba27d22"
      },
      "cell_type": "code",
      "source": [
        "orders['order_hour_of_day'].value_counts()."
      ],
      "execution_count": 115,
      "outputs": [
        {
          "output_type": "execute_result",
          "data": {
            "text/plain": [
              "array([288418, 284728, 283639, 283042, 277999, 272841, 272553, 257812,\n",
              "       228795, 182912, 178201, 140569, 104292,  91868,  78109,  61468,\n",
              "        40043,  30529,  22758,  12398,   9569,   7539,   5527,   5474])"
            ]
          },
          "metadata": {
            "tags": []
          },
          "execution_count": 115
        }
      ]
    },
    {
      "metadata": {
        "id": "honICLmlDnWv",
        "colab_type": "code",
        "colab": {
          "base_uri": "https://localhost:8080/",
          "height": 68
        },
        "outputId": "8bca0d00-46b0-4b73-f703-863fee37441c"
      },
      "cell_type": "code",
      "source": [
        "order_products['product_id'].value_counts()[:10].index"
      ],
      "execution_count": 136,
      "outputs": [
        {
          "output_type": "execute_result",
          "data": {
            "text/plain": [
              "Int64Index([24852, 13176, 21137, 21903, 47209, 47766, 47626, 16797, 26209,\n",
              "            27845],\n",
              "           dtype='int64')"
            ]
          },
          "metadata": {
            "tags": []
          },
          "execution_count": 136
        }
      ]
    },
    {
      "metadata": {
        "id": "yzg6EO35HSXZ",
        "colab_type": "code",
        "colab": {}
      },
      "cell_type": "code",
      "source": [
        ""
      ],
      "execution_count": 0,
      "outputs": []
    }
  ]
}