{
  "nbformat": 4,
  "nbformat_minor": 0,
  "metadata": {
    "colab": {
      "name": "LS_DS_122_Join_datasets.ipynb",
      "version": "0.3.2",
      "provenance": [],
      "collapsed_sections": [],
      "include_colab_link": true
    },
    "kernelspec": {
      "display_name": "Python 3",
      "language": "python",
      "name": "python3"
    }
  },
  "cells": [
    {
      "cell_type": "markdown",
      "metadata": {
        "id": "view-in-github",
        "colab_type": "text"
      },
      "source": [
        "<a href=\"https://colab.research.google.com/github/DylanGraves/DS-Unit-1-Sprint-2-Data-Wrangling/blob/master/module2-join-datasets/LS_DS_122_Join_datasets.ipynb\" target=\"_parent\"><img src=\"https://colab.research.google.com/assets/colab-badge.svg\" alt=\"Open In Colab\"/></a>"
      ]
    },
    {
      "metadata": {
        "colab_type": "text",
        "id": "pmU5YUal1eTZ"
      },
      "cell_type": "markdown",
      "source": [
        "_Lambda School Data Science_\n",
        "\n",
        "# Join datasets\n",
        "\n",
        "Objectives\n",
        "- concatenate data with pandas\n",
        "- merge data with pandas\n",
        "\n",
        "Links\n",
        "- [Pandas Cheat Sheet](https://github.com/pandas-dev/pandas/blob/master/doc/cheatsheet/Pandas_Cheat_Sheet.pdf)\n",
        "  - Combine Data Sets: Standard Joins\n",
        "- Python Data Science Handbook\n",
        "  - [Chapter 3.6](https://jakevdp.github.io/PythonDataScienceHandbook/03.06-concat-and-append.html), Combining Datasets: Concat and Append\n",
        "  - [Chapter 3.7](https://jakevdp.github.io/PythonDataScienceHandbook/03.07-merge-and-join.html), Combining Datasets: Merge and Join"
      ]
    },
    {
      "metadata": {
        "colab_type": "text",
        "id": "Mmi3J5fXrwZ3"
      },
      "cell_type": "markdown",
      "source": [
        "## Download data\n",
        "\n",
        "We’ll work with a dataset of [3 Million Instacart Orders, Open Sourced](https://tech.instacart.com/3-million-instacart-orders-open-sourced-d40d29ead6f2)!"
      ]
    },
    {
      "metadata": {
        "colab_type": "code",
        "id": "K2kcrJVybjrW",
        "outputId": "538e0f75-ebed-4af3-a377-8ba91dd27ef4",
        "colab": {
          "base_uri": "https://localhost:8080/",
          "height": 208
        }
      },
      "cell_type": "code",
      "source": [
        "!wget https://s3.amazonaws.com/instacart-datasets/instacart_online_grocery_shopping_2017_05_01.tar.gz"
      ],
      "execution_count": 1,
      "outputs": [
        {
          "output_type": "stream",
          "text": [
            "--2019-03-26 21:21:14--  https://s3.amazonaws.com/instacart-datasets/instacart_online_grocery_shopping_2017_05_01.tar.gz\n",
            "Resolving s3.amazonaws.com (s3.amazonaws.com)... 54.231.49.67\n",
            "Connecting to s3.amazonaws.com (s3.amazonaws.com)|54.231.49.67|:443... connected.\n",
            "HTTP request sent, awaiting response... 200 OK\n",
            "Length: 205548478 (196M) [application/x-gzip]\n",
            "Saving to: ‘instacart_online_grocery_shopping_2017_05_01.tar.gz.1’\n",
            "\n",
            "instacart_online_gr 100%[===================>] 196.03M  96.3MB/s    in 2.0s    \n",
            "\n",
            "2019-03-26 21:21:16 (96.3 MB/s) - ‘instacart_online_grocery_shopping_2017_05_01.tar.gz.1’ saved [205548478/205548478]\n",
            "\n"
          ],
          "name": "stdout"
        }
      ]
    },
    {
      "metadata": {
        "colab_type": "code",
        "id": "kqX40b2kdgAb",
        "outputId": "b0ec443f-56ea-4849-fd26-45c9c6283ce7",
        "colab": {
          "base_uri": "https://localhost:8080/",
          "height": 243
        }
      },
      "cell_type": "code",
      "source": [
        "!tar --gunzip --extract --verbose --file=instacart_online_grocery_shopping_2017_05_01.tar.gz"
      ],
      "execution_count": 2,
      "outputs": [
        {
          "output_type": "stream",
          "text": [
            "instacart_2017_05_01/\n",
            "instacart_2017_05_01/._aisles.csv\n",
            "instacart_2017_05_01/aisles.csv\n",
            "instacart_2017_05_01/._departments.csv\n",
            "instacart_2017_05_01/departments.csv\n",
            "instacart_2017_05_01/._order_products__prior.csv\n",
            "instacart_2017_05_01/order_products__prior.csv\n",
            "instacart_2017_05_01/._order_products__train.csv\n",
            "instacart_2017_05_01/order_products__train.csv\n",
            "instacart_2017_05_01/._orders.csv\n",
            "instacart_2017_05_01/orders.csv\n",
            "instacart_2017_05_01/._products.csv\n",
            "instacart_2017_05_01/products.csv\n"
          ],
          "name": "stdout"
        }
      ]
    },
    {
      "metadata": {
        "colab_type": "code",
        "id": "YbCvZZCBfHCI",
        "outputId": "e33777e2-2ddb-4bec-a60c-4a8992509554",
        "colab": {
          "base_uri": "https://localhost:8080/",
          "height": 34
        }
      },
      "cell_type": "code",
      "source": [
        "%cd instacart_2017_05_01"
      ],
      "execution_count": 3,
      "outputs": [
        {
          "output_type": "stream",
          "text": [
            "/content/instacart_2017_05_01\n"
          ],
          "name": "stdout"
        }
      ]
    },
    {
      "metadata": {
        "colab_type": "text",
        "id": "RsA14wiKr03j"
      },
      "cell_type": "markdown",
      "source": [
        "## Goal: Reproduce this example\n",
        "\n",
        "The first two orders for user id 1:"
      ]
    },
    {
      "metadata": {
        "colab_type": "code",
        "id": "vLqOTMcfjprg",
        "outputId": "74fd03ba-ec3e-42af-b738-2d4425ff5965",
        "colab": {
          "base_uri": "https://localhost:8080/",
          "height": 312
        }
      },
      "cell_type": "code",
      "source": [
        "from IPython.display import display, Image\n",
        "url = 'https://cdn-images-1.medium.com/max/1600/1*vYGFQCafJtGBBX5mbl0xyw.png'\n",
        "example = Image(url=url, width=600)\n",
        "\n",
        "display(example)"
      ],
      "execution_count": 4,
      "outputs": [
        {
          "output_type": "display_data",
          "data": {
            "text/html": [
              "<img src=\"https://cdn-images-1.medium.com/max/1600/1*vYGFQCafJtGBBX5mbl0xyw.png\" width=\"600\"/>"
            ],
            "text/plain": [
              "<IPython.core.display.Image object>"
            ]
          },
          "metadata": {
            "tags": []
          }
        }
      ]
    },
    {
      "metadata": {
        "colab_type": "text",
        "id": "nPwG8aM_txl4"
      },
      "cell_type": "markdown",
      "source": [
        "## Load data\n",
        "\n",
        "Here's a list of all six CSV filenames"
      ]
    },
    {
      "metadata": {
        "colab_type": "code",
        "id": "Ksah0cOrfdJQ",
        "colab": {
          "base_uri": "https://localhost:8080/",
          "height": 139
        },
        "outputId": "6060fbf9-5ee0-4d00-ac3c-516a43a8a241"
      },
      "cell_type": "code",
      "source": [
        "!ls -lh"
      ],
      "execution_count": 5,
      "outputs": [
        {
          "output_type": "stream",
          "text": [
            "total 681M\n",
            "-rw-r--r-- 1 502 staff 2.6K May  2  2017 aisles.csv\n",
            "-rw-r--r-- 1 502 staff  270 May  2  2017 departments.csv\n",
            "-rw-r--r-- 1 502 staff 551M May  2  2017 order_products__prior.csv\n",
            "-rw-r--r-- 1 502 staff  24M May  2  2017 order_products__train.csv\n",
            "-rw-r--r-- 1 502 staff 104M May  2  2017 orders.csv\n",
            "-rw-r--r-- 1 502 staff 2.1M May  2  2017 products.csv\n"
          ],
          "name": "stdout"
        }
      ]
    },
    {
      "metadata": {
        "colab_type": "text",
        "id": "AHT7fKuxvPgV"
      },
      "cell_type": "markdown",
      "source": [
        "For each CSV\n",
        "- Load it with pandas\n",
        "- Look at the dataframe's shape\n",
        "- Look at its head (first rows)\n",
        "- `display(example)`\n",
        "- Which columns does it have in common with the example we want to reproduce?"
      ]
    },
    {
      "metadata": {
        "colab_type": "text",
        "id": "cB_5T6TprcUH"
      },
      "cell_type": "markdown",
      "source": [
        "### aisles"
      ]
    },
    {
      "metadata": {
        "colab_type": "code",
        "id": "JB3bvwSDK6v3",
        "colab": {}
      },
      "cell_type": "code",
      "source": [
        "import pandas as pd\n",
        "aisles = pd.read_csv('aisles.csv')"
      ],
      "execution_count": 0,
      "outputs": []
    },
    {
      "metadata": {
        "id": "WtwzLus9xKhe",
        "colab_type": "code",
        "colab": {
          "base_uri": "https://localhost:8080/",
          "height": 34
        },
        "outputId": "ccb44409-26e0-41d4-9d41-b7cd871989f6"
      },
      "cell_type": "code",
      "source": [
        "aisles.shape"
      ],
      "execution_count": 7,
      "outputs": [
        {
          "output_type": "execute_result",
          "data": {
            "text/plain": [
              "(134, 2)"
            ]
          },
          "metadata": {
            "tags": []
          },
          "execution_count": 7
        }
      ]
    },
    {
      "metadata": {
        "id": "qsgP1ShtxTZs",
        "colab_type": "code",
        "colab": {
          "base_uri": "https://localhost:8080/",
          "height": 363
        },
        "outputId": "1b56f3fb-3422-446b-c00d-cd64014eb236"
      },
      "cell_type": "code",
      "source": [
        "aisles.head(10)"
      ],
      "execution_count": 8,
      "outputs": [
        {
          "output_type": "execute_result",
          "data": {
            "text/html": [
              "<div>\n",
              "<style scoped>\n",
              "    .dataframe tbody tr th:only-of-type {\n",
              "        vertical-align: middle;\n",
              "    }\n",
              "\n",
              "    .dataframe tbody tr th {\n",
              "        vertical-align: top;\n",
              "    }\n",
              "\n",
              "    .dataframe thead th {\n",
              "        text-align: right;\n",
              "    }\n",
              "</style>\n",
              "<table border=\"1\" class=\"dataframe\">\n",
              "  <thead>\n",
              "    <tr style=\"text-align: right;\">\n",
              "      <th></th>\n",
              "      <th>aisle_id</th>\n",
              "      <th>aisle</th>\n",
              "    </tr>\n",
              "  </thead>\n",
              "  <tbody>\n",
              "    <tr>\n",
              "      <th>0</th>\n",
              "      <td>1</td>\n",
              "      <td>prepared soups salads</td>\n",
              "    </tr>\n",
              "    <tr>\n",
              "      <th>1</th>\n",
              "      <td>2</td>\n",
              "      <td>specialty cheeses</td>\n",
              "    </tr>\n",
              "    <tr>\n",
              "      <th>2</th>\n",
              "      <td>3</td>\n",
              "      <td>energy granola bars</td>\n",
              "    </tr>\n",
              "    <tr>\n",
              "      <th>3</th>\n",
              "      <td>4</td>\n",
              "      <td>instant foods</td>\n",
              "    </tr>\n",
              "    <tr>\n",
              "      <th>4</th>\n",
              "      <td>5</td>\n",
              "      <td>marinades meat preparation</td>\n",
              "    </tr>\n",
              "    <tr>\n",
              "      <th>5</th>\n",
              "      <td>6</td>\n",
              "      <td>other</td>\n",
              "    </tr>\n",
              "    <tr>\n",
              "      <th>6</th>\n",
              "      <td>7</td>\n",
              "      <td>packaged meat</td>\n",
              "    </tr>\n",
              "    <tr>\n",
              "      <th>7</th>\n",
              "      <td>8</td>\n",
              "      <td>bakery desserts</td>\n",
              "    </tr>\n",
              "    <tr>\n",
              "      <th>8</th>\n",
              "      <td>9</td>\n",
              "      <td>pasta sauce</td>\n",
              "    </tr>\n",
              "    <tr>\n",
              "      <th>9</th>\n",
              "      <td>10</td>\n",
              "      <td>kitchen supplies</td>\n",
              "    </tr>\n",
              "  </tbody>\n",
              "</table>\n",
              "</div>"
            ],
            "text/plain": [
              "   aisle_id                       aisle\n",
              "0         1       prepared soups salads\n",
              "1         2           specialty cheeses\n",
              "2         3         energy granola bars\n",
              "3         4               instant foods\n",
              "4         5  marinades meat preparation\n",
              "5         6                       other\n",
              "6         7               packaged meat\n",
              "7         8             bakery desserts\n",
              "8         9                 pasta sauce\n",
              "9        10            kitchen supplies"
            ]
          },
          "metadata": {
            "tags": []
          },
          "execution_count": 8
        }
      ]
    },
    {
      "metadata": {
        "colab_type": "text",
        "id": "9-GrkqM6rfXr"
      },
      "cell_type": "markdown",
      "source": [
        "### departments"
      ]
    },
    {
      "metadata": {
        "colab_type": "code",
        "id": "NYIcif0dK9_5",
        "colab": {
          "base_uri": "https://localhost:8080/",
          "height": 34
        },
        "outputId": "ffd65c71-c55e-4a16-9cae-74597acdfb07"
      },
      "cell_type": "code",
      "source": [
        "departments = pd.read_csv('departments.csv')\n",
        "departments.shape"
      ],
      "execution_count": 9,
      "outputs": [
        {
          "output_type": "execute_result",
          "data": {
            "text/plain": [
              "(21, 2)"
            ]
          },
          "metadata": {
            "tags": []
          },
          "execution_count": 9
        }
      ]
    },
    {
      "metadata": {
        "id": "rvi03KkEx_M9",
        "colab_type": "code",
        "colab": {
          "base_uri": "https://localhost:8080/",
          "height": 363
        },
        "outputId": "3aee248c-61a9-4a5f-eec8-27b39f0d3331"
      },
      "cell_type": "code",
      "source": [
        "departments.head(10)"
      ],
      "execution_count": 10,
      "outputs": [
        {
          "output_type": "execute_result",
          "data": {
            "text/html": [
              "<div>\n",
              "<style scoped>\n",
              "    .dataframe tbody tr th:only-of-type {\n",
              "        vertical-align: middle;\n",
              "    }\n",
              "\n",
              "    .dataframe tbody tr th {\n",
              "        vertical-align: top;\n",
              "    }\n",
              "\n",
              "    .dataframe thead th {\n",
              "        text-align: right;\n",
              "    }\n",
              "</style>\n",
              "<table border=\"1\" class=\"dataframe\">\n",
              "  <thead>\n",
              "    <tr style=\"text-align: right;\">\n",
              "      <th></th>\n",
              "      <th>department_id</th>\n",
              "      <th>department</th>\n",
              "    </tr>\n",
              "  </thead>\n",
              "  <tbody>\n",
              "    <tr>\n",
              "      <th>0</th>\n",
              "      <td>1</td>\n",
              "      <td>frozen</td>\n",
              "    </tr>\n",
              "    <tr>\n",
              "      <th>1</th>\n",
              "      <td>2</td>\n",
              "      <td>other</td>\n",
              "    </tr>\n",
              "    <tr>\n",
              "      <th>2</th>\n",
              "      <td>3</td>\n",
              "      <td>bakery</td>\n",
              "    </tr>\n",
              "    <tr>\n",
              "      <th>3</th>\n",
              "      <td>4</td>\n",
              "      <td>produce</td>\n",
              "    </tr>\n",
              "    <tr>\n",
              "      <th>4</th>\n",
              "      <td>5</td>\n",
              "      <td>alcohol</td>\n",
              "    </tr>\n",
              "    <tr>\n",
              "      <th>5</th>\n",
              "      <td>6</td>\n",
              "      <td>international</td>\n",
              "    </tr>\n",
              "    <tr>\n",
              "      <th>6</th>\n",
              "      <td>7</td>\n",
              "      <td>beverages</td>\n",
              "    </tr>\n",
              "    <tr>\n",
              "      <th>7</th>\n",
              "      <td>8</td>\n",
              "      <td>pets</td>\n",
              "    </tr>\n",
              "    <tr>\n",
              "      <th>8</th>\n",
              "      <td>9</td>\n",
              "      <td>dry goods pasta</td>\n",
              "    </tr>\n",
              "    <tr>\n",
              "      <th>9</th>\n",
              "      <td>10</td>\n",
              "      <td>bulk</td>\n",
              "    </tr>\n",
              "  </tbody>\n",
              "</table>\n",
              "</div>"
            ],
            "text/plain": [
              "   department_id       department\n",
              "0              1           frozen\n",
              "1              2            other\n",
              "2              3           bakery\n",
              "3              4          produce\n",
              "4              5          alcohol\n",
              "5              6    international\n",
              "6              7        beverages\n",
              "7              8             pets\n",
              "8              9  dry goods pasta\n",
              "9             10             bulk"
            ]
          },
          "metadata": {
            "tags": []
          },
          "execution_count": 10
        }
      ]
    },
    {
      "metadata": {
        "id": "ktOKRazQyBqe",
        "colab_type": "code",
        "colab": {
          "base_uri": "https://localhost:8080/",
          "height": 312
        },
        "outputId": "b18d331b-fc1d-4420-b212-f83aae275b7a"
      },
      "cell_type": "code",
      "source": [
        "display(example)\n",
        "\n",
        "# I don't need departments csv, it seems?"
      ],
      "execution_count": 11,
      "outputs": [
        {
          "output_type": "display_data",
          "data": {
            "text/html": [
              "<img src=\"https://cdn-images-1.medium.com/max/1600/1*vYGFQCafJtGBBX5mbl0xyw.png\" width=\"600\"/>"
            ],
            "text/plain": [
              "<IPython.core.display.Image object>"
            ]
          },
          "metadata": {
            "tags": []
          }
        }
      ]
    },
    {
      "metadata": {
        "colab_type": "text",
        "id": "VhhVcn9kK-nG"
      },
      "cell_type": "markdown",
      "source": [
        "### order_products__prior"
      ]
    },
    {
      "metadata": {
        "colab_type": "code",
        "id": "-49qTkPlLBT_",
        "colab": {
          "base_uri": "https://localhost:8080/",
          "height": 34
        },
        "outputId": "9ba248e9-2efd-48c1-a026-2249c89e6a3d"
      },
      "cell_type": "code",
      "source": [
        "prior_products = pd.read_csv('order_products__prior.csv')\n",
        "prior_products.shape"
      ],
      "execution_count": 12,
      "outputs": [
        {
          "output_type": "execute_result",
          "data": {
            "text/plain": [
              "(32434489, 4)"
            ]
          },
          "metadata": {
            "tags": []
          },
          "execution_count": 12
        }
      ]
    },
    {
      "metadata": {
        "id": "YJrWCR3Ryx2g",
        "colab_type": "code",
        "colab": {
          "base_uri": "https://localhost:8080/",
          "height": 363
        },
        "outputId": "c3e979c9-0126-41b2-f217-fac971ff7cfc"
      },
      "cell_type": "code",
      "source": [
        "prior_products.head(10)\n",
        "\n",
        "# It looks like I'll need order_id, add_to_cart_order, and product_id."
      ],
      "execution_count": 13,
      "outputs": [
        {
          "output_type": "execute_result",
          "data": {
            "text/html": [
              "<div>\n",
              "<style scoped>\n",
              "    .dataframe tbody tr th:only-of-type {\n",
              "        vertical-align: middle;\n",
              "    }\n",
              "\n",
              "    .dataframe tbody tr th {\n",
              "        vertical-align: top;\n",
              "    }\n",
              "\n",
              "    .dataframe thead th {\n",
              "        text-align: right;\n",
              "    }\n",
              "</style>\n",
              "<table border=\"1\" class=\"dataframe\">\n",
              "  <thead>\n",
              "    <tr style=\"text-align: right;\">\n",
              "      <th></th>\n",
              "      <th>order_id</th>\n",
              "      <th>product_id</th>\n",
              "      <th>add_to_cart_order</th>\n",
              "      <th>reordered</th>\n",
              "    </tr>\n",
              "  </thead>\n",
              "  <tbody>\n",
              "    <tr>\n",
              "      <th>0</th>\n",
              "      <td>2</td>\n",
              "      <td>33120</td>\n",
              "      <td>1</td>\n",
              "      <td>1</td>\n",
              "    </tr>\n",
              "    <tr>\n",
              "      <th>1</th>\n",
              "      <td>2</td>\n",
              "      <td>28985</td>\n",
              "      <td>2</td>\n",
              "      <td>1</td>\n",
              "    </tr>\n",
              "    <tr>\n",
              "      <th>2</th>\n",
              "      <td>2</td>\n",
              "      <td>9327</td>\n",
              "      <td>3</td>\n",
              "      <td>0</td>\n",
              "    </tr>\n",
              "    <tr>\n",
              "      <th>3</th>\n",
              "      <td>2</td>\n",
              "      <td>45918</td>\n",
              "      <td>4</td>\n",
              "      <td>1</td>\n",
              "    </tr>\n",
              "    <tr>\n",
              "      <th>4</th>\n",
              "      <td>2</td>\n",
              "      <td>30035</td>\n",
              "      <td>5</td>\n",
              "      <td>0</td>\n",
              "    </tr>\n",
              "    <tr>\n",
              "      <th>5</th>\n",
              "      <td>2</td>\n",
              "      <td>17794</td>\n",
              "      <td>6</td>\n",
              "      <td>1</td>\n",
              "    </tr>\n",
              "    <tr>\n",
              "      <th>6</th>\n",
              "      <td>2</td>\n",
              "      <td>40141</td>\n",
              "      <td>7</td>\n",
              "      <td>1</td>\n",
              "    </tr>\n",
              "    <tr>\n",
              "      <th>7</th>\n",
              "      <td>2</td>\n",
              "      <td>1819</td>\n",
              "      <td>8</td>\n",
              "      <td>1</td>\n",
              "    </tr>\n",
              "    <tr>\n",
              "      <th>8</th>\n",
              "      <td>2</td>\n",
              "      <td>43668</td>\n",
              "      <td>9</td>\n",
              "      <td>0</td>\n",
              "    </tr>\n",
              "    <tr>\n",
              "      <th>9</th>\n",
              "      <td>3</td>\n",
              "      <td>33754</td>\n",
              "      <td>1</td>\n",
              "      <td>1</td>\n",
              "    </tr>\n",
              "  </tbody>\n",
              "</table>\n",
              "</div>"
            ],
            "text/plain": [
              "   order_id  product_id  add_to_cart_order  reordered\n",
              "0         2       33120                  1          1\n",
              "1         2       28985                  2          1\n",
              "2         2        9327                  3          0\n",
              "3         2       45918                  4          1\n",
              "4         2       30035                  5          0\n",
              "5         2       17794                  6          1\n",
              "6         2       40141                  7          1\n",
              "7         2        1819                  8          1\n",
              "8         2       43668                  9          0\n",
              "9         3       33754                  1          1"
            ]
          },
          "metadata": {
            "tags": []
          },
          "execution_count": 13
        }
      ]
    },
    {
      "metadata": {
        "colab_type": "text",
        "id": "HVYJEKJcLBut"
      },
      "cell_type": "markdown",
      "source": [
        "### order_products__train"
      ]
    },
    {
      "metadata": {
        "colab_type": "code",
        "id": "gbPKUMb3LDxb",
        "colab": {
          "base_uri": "https://localhost:8080/",
          "height": 34
        },
        "outputId": "a3dbb7ba-8999-45a7-b958-fe605074aeb6"
      },
      "cell_type": "code",
      "source": [
        "train_products = pd.read_csv('order_products__train.csv')\n",
        "train_products.shape"
      ],
      "execution_count": 14,
      "outputs": [
        {
          "output_type": "execute_result",
          "data": {
            "text/plain": [
              "(1384617, 4)"
            ]
          },
          "metadata": {
            "tags": []
          },
          "execution_count": 14
        }
      ]
    },
    {
      "metadata": {
        "id": "vR9qasBczUaL",
        "colab_type": "code",
        "colab": {
          "base_uri": "https://localhost:8080/",
          "height": 363
        },
        "outputId": "8aaaa773-9cf6-4307-82dd-91c05a1236eb"
      },
      "cell_type": "code",
      "source": [
        "train_products.head(10)\n",
        "\n",
        "# Same deal."
      ],
      "execution_count": 15,
      "outputs": [
        {
          "output_type": "execute_result",
          "data": {
            "text/html": [
              "<div>\n",
              "<style scoped>\n",
              "    .dataframe tbody tr th:only-of-type {\n",
              "        vertical-align: middle;\n",
              "    }\n",
              "\n",
              "    .dataframe tbody tr th {\n",
              "        vertical-align: top;\n",
              "    }\n",
              "\n",
              "    .dataframe thead th {\n",
              "        text-align: right;\n",
              "    }\n",
              "</style>\n",
              "<table border=\"1\" class=\"dataframe\">\n",
              "  <thead>\n",
              "    <tr style=\"text-align: right;\">\n",
              "      <th></th>\n",
              "      <th>order_id</th>\n",
              "      <th>product_id</th>\n",
              "      <th>add_to_cart_order</th>\n",
              "      <th>reordered</th>\n",
              "    </tr>\n",
              "  </thead>\n",
              "  <tbody>\n",
              "    <tr>\n",
              "      <th>0</th>\n",
              "      <td>1</td>\n",
              "      <td>49302</td>\n",
              "      <td>1</td>\n",
              "      <td>1</td>\n",
              "    </tr>\n",
              "    <tr>\n",
              "      <th>1</th>\n",
              "      <td>1</td>\n",
              "      <td>11109</td>\n",
              "      <td>2</td>\n",
              "      <td>1</td>\n",
              "    </tr>\n",
              "    <tr>\n",
              "      <th>2</th>\n",
              "      <td>1</td>\n",
              "      <td>10246</td>\n",
              "      <td>3</td>\n",
              "      <td>0</td>\n",
              "    </tr>\n",
              "    <tr>\n",
              "      <th>3</th>\n",
              "      <td>1</td>\n",
              "      <td>49683</td>\n",
              "      <td>4</td>\n",
              "      <td>0</td>\n",
              "    </tr>\n",
              "    <tr>\n",
              "      <th>4</th>\n",
              "      <td>1</td>\n",
              "      <td>43633</td>\n",
              "      <td>5</td>\n",
              "      <td>1</td>\n",
              "    </tr>\n",
              "    <tr>\n",
              "      <th>5</th>\n",
              "      <td>1</td>\n",
              "      <td>13176</td>\n",
              "      <td>6</td>\n",
              "      <td>0</td>\n",
              "    </tr>\n",
              "    <tr>\n",
              "      <th>6</th>\n",
              "      <td>1</td>\n",
              "      <td>47209</td>\n",
              "      <td>7</td>\n",
              "      <td>0</td>\n",
              "    </tr>\n",
              "    <tr>\n",
              "      <th>7</th>\n",
              "      <td>1</td>\n",
              "      <td>22035</td>\n",
              "      <td>8</td>\n",
              "      <td>1</td>\n",
              "    </tr>\n",
              "    <tr>\n",
              "      <th>8</th>\n",
              "      <td>36</td>\n",
              "      <td>39612</td>\n",
              "      <td>1</td>\n",
              "      <td>0</td>\n",
              "    </tr>\n",
              "    <tr>\n",
              "      <th>9</th>\n",
              "      <td>36</td>\n",
              "      <td>19660</td>\n",
              "      <td>2</td>\n",
              "      <td>1</td>\n",
              "    </tr>\n",
              "  </tbody>\n",
              "</table>\n",
              "</div>"
            ],
            "text/plain": [
              "   order_id  product_id  add_to_cart_order  reordered\n",
              "0         1       49302                  1          1\n",
              "1         1       11109                  2          1\n",
              "2         1       10246                  3          0\n",
              "3         1       49683                  4          0\n",
              "4         1       43633                  5          1\n",
              "5         1       13176                  6          0\n",
              "6         1       47209                  7          0\n",
              "7         1       22035                  8          1\n",
              "8        36       39612                  1          0\n",
              "9        36       19660                  2          1"
            ]
          },
          "metadata": {
            "tags": []
          },
          "execution_count": 15
        }
      ]
    },
    {
      "metadata": {
        "colab_type": "text",
        "id": "LYPrWUJnrp7G"
      },
      "cell_type": "markdown",
      "source": [
        "### orders"
      ]
    },
    {
      "metadata": {
        "colab_type": "code",
        "id": "aFyl_7vyLJxS",
        "colab": {
          "base_uri": "https://localhost:8080/",
          "height": 34
        },
        "outputId": "d358519c-9770-40e4-cb5c-964e873d5618"
      },
      "cell_type": "code",
      "source": [
        "orders = pd.read_csv('orders.csv')\n",
        "orders.shape"
      ],
      "execution_count": 16,
      "outputs": [
        {
          "output_type": "execute_result",
          "data": {
            "text/plain": [
              "(3421083, 7)"
            ]
          },
          "metadata": {
            "tags": []
          },
          "execution_count": 16
        }
      ]
    },
    {
      "metadata": {
        "id": "Miowdk-6zx2a",
        "colab_type": "code",
        "colab": {
          "base_uri": "https://localhost:8080/",
          "height": 363
        },
        "outputId": "153214bc-d311-478e-9995-b2a30a1d56ec"
      },
      "cell_type": "code",
      "source": [
        "orders.head(10)"
      ],
      "execution_count": 17,
      "outputs": [
        {
          "output_type": "execute_result",
          "data": {
            "text/html": [
              "<div>\n",
              "<style scoped>\n",
              "    .dataframe tbody tr th:only-of-type {\n",
              "        vertical-align: middle;\n",
              "    }\n",
              "\n",
              "    .dataframe tbody tr th {\n",
              "        vertical-align: top;\n",
              "    }\n",
              "\n",
              "    .dataframe thead th {\n",
              "        text-align: right;\n",
              "    }\n",
              "</style>\n",
              "<table border=\"1\" class=\"dataframe\">\n",
              "  <thead>\n",
              "    <tr style=\"text-align: right;\">\n",
              "      <th></th>\n",
              "      <th>order_id</th>\n",
              "      <th>user_id</th>\n",
              "      <th>eval_set</th>\n",
              "      <th>order_number</th>\n",
              "      <th>order_dow</th>\n",
              "      <th>order_hour_of_day</th>\n",
              "      <th>days_since_prior_order</th>\n",
              "    </tr>\n",
              "  </thead>\n",
              "  <tbody>\n",
              "    <tr>\n",
              "      <th>0</th>\n",
              "      <td>2539329</td>\n",
              "      <td>1</td>\n",
              "      <td>prior</td>\n",
              "      <td>1</td>\n",
              "      <td>2</td>\n",
              "      <td>8</td>\n",
              "      <td>NaN</td>\n",
              "    </tr>\n",
              "    <tr>\n",
              "      <th>1</th>\n",
              "      <td>2398795</td>\n",
              "      <td>1</td>\n",
              "      <td>prior</td>\n",
              "      <td>2</td>\n",
              "      <td>3</td>\n",
              "      <td>7</td>\n",
              "      <td>15.0</td>\n",
              "    </tr>\n",
              "    <tr>\n",
              "      <th>2</th>\n",
              "      <td>473747</td>\n",
              "      <td>1</td>\n",
              "      <td>prior</td>\n",
              "      <td>3</td>\n",
              "      <td>3</td>\n",
              "      <td>12</td>\n",
              "      <td>21.0</td>\n",
              "    </tr>\n",
              "    <tr>\n",
              "      <th>3</th>\n",
              "      <td>2254736</td>\n",
              "      <td>1</td>\n",
              "      <td>prior</td>\n",
              "      <td>4</td>\n",
              "      <td>4</td>\n",
              "      <td>7</td>\n",
              "      <td>29.0</td>\n",
              "    </tr>\n",
              "    <tr>\n",
              "      <th>4</th>\n",
              "      <td>431534</td>\n",
              "      <td>1</td>\n",
              "      <td>prior</td>\n",
              "      <td>5</td>\n",
              "      <td>4</td>\n",
              "      <td>15</td>\n",
              "      <td>28.0</td>\n",
              "    </tr>\n",
              "    <tr>\n",
              "      <th>5</th>\n",
              "      <td>3367565</td>\n",
              "      <td>1</td>\n",
              "      <td>prior</td>\n",
              "      <td>6</td>\n",
              "      <td>2</td>\n",
              "      <td>7</td>\n",
              "      <td>19.0</td>\n",
              "    </tr>\n",
              "    <tr>\n",
              "      <th>6</th>\n",
              "      <td>550135</td>\n",
              "      <td>1</td>\n",
              "      <td>prior</td>\n",
              "      <td>7</td>\n",
              "      <td>1</td>\n",
              "      <td>9</td>\n",
              "      <td>20.0</td>\n",
              "    </tr>\n",
              "    <tr>\n",
              "      <th>7</th>\n",
              "      <td>3108588</td>\n",
              "      <td>1</td>\n",
              "      <td>prior</td>\n",
              "      <td>8</td>\n",
              "      <td>1</td>\n",
              "      <td>14</td>\n",
              "      <td>14.0</td>\n",
              "    </tr>\n",
              "    <tr>\n",
              "      <th>8</th>\n",
              "      <td>2295261</td>\n",
              "      <td>1</td>\n",
              "      <td>prior</td>\n",
              "      <td>9</td>\n",
              "      <td>1</td>\n",
              "      <td>16</td>\n",
              "      <td>0.0</td>\n",
              "    </tr>\n",
              "    <tr>\n",
              "      <th>9</th>\n",
              "      <td>2550362</td>\n",
              "      <td>1</td>\n",
              "      <td>prior</td>\n",
              "      <td>10</td>\n",
              "      <td>4</td>\n",
              "      <td>8</td>\n",
              "      <td>30.0</td>\n",
              "    </tr>\n",
              "  </tbody>\n",
              "</table>\n",
              "</div>"
            ],
            "text/plain": [
              "   order_id  user_id eval_set  order_number  order_dow  order_hour_of_day  \\\n",
              "0   2539329        1    prior             1          2                  8   \n",
              "1   2398795        1    prior             2          3                  7   \n",
              "2    473747        1    prior             3          3                 12   \n",
              "3   2254736        1    prior             4          4                  7   \n",
              "4    431534        1    prior             5          4                 15   \n",
              "5   3367565        1    prior             6          2                  7   \n",
              "6    550135        1    prior             7          1                  9   \n",
              "7   3108588        1    prior             8          1                 14   \n",
              "8   2295261        1    prior             9          1                 16   \n",
              "9   2550362        1    prior            10          4                  8   \n",
              "\n",
              "   days_since_prior_order  \n",
              "0                     NaN  \n",
              "1                    15.0  \n",
              "2                    21.0  \n",
              "3                    29.0  \n",
              "4                    28.0  \n",
              "5                    19.0  \n",
              "6                    20.0  \n",
              "7                    14.0  \n",
              "8                     0.0  \n",
              "9                    30.0  "
            ]
          },
          "metadata": {
            "tags": []
          },
          "execution_count": 17
        }
      ]
    },
    {
      "metadata": {
        "id": "x9uz9rujz1rU",
        "colab_type": "code",
        "colab": {
          "base_uri": "https://localhost:8080/",
          "height": 312
        },
        "outputId": "10adff0c-679b-47f1-dffc-ff3e555bbcba"
      },
      "cell_type": "code",
      "source": [
        "display(example)\n",
        "\n",
        "# order_id, user_id, order_number, order_dow, order_hour_of_day, are all in the example."
      ],
      "execution_count": 18,
      "outputs": [
        {
          "output_type": "display_data",
          "data": {
            "text/html": [
              "<img src=\"https://cdn-images-1.medium.com/max/1600/1*vYGFQCafJtGBBX5mbl0xyw.png\" width=\"600\"/>"
            ],
            "text/plain": [
              "<IPython.core.display.Image object>"
            ]
          },
          "metadata": {
            "tags": []
          }
        }
      ]
    },
    {
      "metadata": {
        "colab_type": "text",
        "id": "nIX3SYXersao"
      },
      "cell_type": "markdown",
      "source": [
        "### products"
      ]
    },
    {
      "metadata": {
        "colab_type": "code",
        "id": "9icvQgRfLLU1",
        "colab": {
          "base_uri": "https://localhost:8080/",
          "height": 34
        },
        "outputId": "0f1487c7-4827-453a-dc59-d38803edead8"
      },
      "cell_type": "code",
      "source": [
        "products = pd.read_csv('products.csv')\n",
        "products.shape"
      ],
      "execution_count": 19,
      "outputs": [
        {
          "output_type": "execute_result",
          "data": {
            "text/plain": [
              "(49688, 4)"
            ]
          },
          "metadata": {
            "tags": []
          },
          "execution_count": 19
        }
      ]
    },
    {
      "metadata": {
        "id": "zVG-VB-A1OFs",
        "colab_type": "code",
        "colab": {
          "base_uri": "https://localhost:8080/",
          "height": 363
        },
        "outputId": "464413b9-cea4-4ce9-c97f-25eb87946ae3"
      },
      "cell_type": "code",
      "source": [
        "products.head(10)\n",
        "\n",
        "# product_id, product_name, are in the example."
      ],
      "execution_count": 20,
      "outputs": [
        {
          "output_type": "execute_result",
          "data": {
            "text/html": [
              "<div>\n",
              "<style scoped>\n",
              "    .dataframe tbody tr th:only-of-type {\n",
              "        vertical-align: middle;\n",
              "    }\n",
              "\n",
              "    .dataframe tbody tr th {\n",
              "        vertical-align: top;\n",
              "    }\n",
              "\n",
              "    .dataframe thead th {\n",
              "        text-align: right;\n",
              "    }\n",
              "</style>\n",
              "<table border=\"1\" class=\"dataframe\">\n",
              "  <thead>\n",
              "    <tr style=\"text-align: right;\">\n",
              "      <th></th>\n",
              "      <th>product_id</th>\n",
              "      <th>product_name</th>\n",
              "      <th>aisle_id</th>\n",
              "      <th>department_id</th>\n",
              "    </tr>\n",
              "  </thead>\n",
              "  <tbody>\n",
              "    <tr>\n",
              "      <th>0</th>\n",
              "      <td>1</td>\n",
              "      <td>Chocolate Sandwich Cookies</td>\n",
              "      <td>61</td>\n",
              "      <td>19</td>\n",
              "    </tr>\n",
              "    <tr>\n",
              "      <th>1</th>\n",
              "      <td>2</td>\n",
              "      <td>All-Seasons Salt</td>\n",
              "      <td>104</td>\n",
              "      <td>13</td>\n",
              "    </tr>\n",
              "    <tr>\n",
              "      <th>2</th>\n",
              "      <td>3</td>\n",
              "      <td>Robust Golden Unsweetened Oolong Tea</td>\n",
              "      <td>94</td>\n",
              "      <td>7</td>\n",
              "    </tr>\n",
              "    <tr>\n",
              "      <th>3</th>\n",
              "      <td>4</td>\n",
              "      <td>Smart Ones Classic Favorites Mini Rigatoni Wit...</td>\n",
              "      <td>38</td>\n",
              "      <td>1</td>\n",
              "    </tr>\n",
              "    <tr>\n",
              "      <th>4</th>\n",
              "      <td>5</td>\n",
              "      <td>Green Chile Anytime Sauce</td>\n",
              "      <td>5</td>\n",
              "      <td>13</td>\n",
              "    </tr>\n",
              "    <tr>\n",
              "      <th>5</th>\n",
              "      <td>6</td>\n",
              "      <td>Dry Nose Oil</td>\n",
              "      <td>11</td>\n",
              "      <td>11</td>\n",
              "    </tr>\n",
              "    <tr>\n",
              "      <th>6</th>\n",
              "      <td>7</td>\n",
              "      <td>Pure Coconut Water With Orange</td>\n",
              "      <td>98</td>\n",
              "      <td>7</td>\n",
              "    </tr>\n",
              "    <tr>\n",
              "      <th>7</th>\n",
              "      <td>8</td>\n",
              "      <td>Cut Russet Potatoes Steam N' Mash</td>\n",
              "      <td>116</td>\n",
              "      <td>1</td>\n",
              "    </tr>\n",
              "    <tr>\n",
              "      <th>8</th>\n",
              "      <td>9</td>\n",
              "      <td>Light Strawberry Blueberry Yogurt</td>\n",
              "      <td>120</td>\n",
              "      <td>16</td>\n",
              "    </tr>\n",
              "    <tr>\n",
              "      <th>9</th>\n",
              "      <td>10</td>\n",
              "      <td>Sparkling Orange Juice &amp; Prickly Pear Beverage</td>\n",
              "      <td>115</td>\n",
              "      <td>7</td>\n",
              "    </tr>\n",
              "  </tbody>\n",
              "</table>\n",
              "</div>"
            ],
            "text/plain": [
              "   product_id                                       product_name  aisle_id  \\\n",
              "0           1                         Chocolate Sandwich Cookies        61   \n",
              "1           2                                   All-Seasons Salt       104   \n",
              "2           3               Robust Golden Unsweetened Oolong Tea        94   \n",
              "3           4  Smart Ones Classic Favorites Mini Rigatoni Wit...        38   \n",
              "4           5                          Green Chile Anytime Sauce         5   \n",
              "5           6                                       Dry Nose Oil        11   \n",
              "6           7                     Pure Coconut Water With Orange        98   \n",
              "7           8                  Cut Russet Potatoes Steam N' Mash       116   \n",
              "8           9                  Light Strawberry Blueberry Yogurt       120   \n",
              "9          10     Sparkling Orange Juice & Prickly Pear Beverage       115   \n",
              "\n",
              "   department_id  \n",
              "0             19  \n",
              "1             13  \n",
              "2              7  \n",
              "3              1  \n",
              "4             13  \n",
              "5             11  \n",
              "6              7  \n",
              "7              1  \n",
              "8             16  \n",
              "9              7  "
            ]
          },
          "metadata": {
            "tags": []
          },
          "execution_count": 20
        }
      ]
    },
    {
      "metadata": {
        "colab_type": "text",
        "id": "cbHumXOiJfy2"
      },
      "cell_type": "markdown",
      "source": [
        "## Concatenate order_products__prior and order_products__train"
      ]
    },
    {
      "metadata": {
        "colab_type": "code",
        "id": "TJ23kqpAY8Vv",
        "colab": {}
      },
      "cell_type": "code",
      "source": [
        "order_products = pd.concat([prior_products, train_products])"
      ],
      "execution_count": 0,
      "outputs": []
    },
    {
      "metadata": {
        "id": "FsvVefnU3XP3",
        "colab_type": "code",
        "colab": {
          "base_uri": "https://localhost:8080/",
          "height": 34
        },
        "outputId": "490592e4-4313-4bb2-821b-a0777c4ad849"
      },
      "cell_type": "code",
      "source": [
        "order_products.shape"
      ],
      "execution_count": 22,
      "outputs": [
        {
          "output_type": "execute_result",
          "data": {
            "text/plain": [
              "(33819106, 4)"
            ]
          },
          "metadata": {
            "tags": []
          },
          "execution_count": 22
        }
      ]
    },
    {
      "metadata": {
        "colab_type": "text",
        "id": "Z1YRw5ypJuv2"
      },
      "cell_type": "markdown",
      "source": [
        "## Get a subset of orders — the first two orders for user id 1"
      ]
    },
    {
      "metadata": {
        "colab_type": "code",
        "id": "YFBTseoyZAbj",
        "colab": {
          "base_uri": "https://localhost:8080/",
          "height": 312
        },
        "outputId": "cec679aa-e1c6-405a-9764-cd8279beb0fb"
      },
      "cell_type": "code",
      "source": [
        "display(example)"
      ],
      "execution_count": 23,
      "outputs": [
        {
          "output_type": "display_data",
          "data": {
            "text/html": [
              "<img src=\"https://cdn-images-1.medium.com/max/1600/1*vYGFQCafJtGBBX5mbl0xyw.png\" width=\"600\"/>"
            ],
            "text/plain": [
              "<IPython.core.display.Image object>"
            ]
          },
          "metadata": {
            "tags": []
          }
        }
      ]
    },
    {
      "metadata": {
        "id": "CaTALi935jGo",
        "colab_type": "code",
        "colab": {
          "base_uri": "https://localhost:8080/",
          "height": 206
        },
        "outputId": "0070773a-911f-4abc-e6ab-d0db703bedfb"
      },
      "cell_type": "code",
      "source": [
        "orders.head()"
      ],
      "execution_count": 24,
      "outputs": [
        {
          "output_type": "execute_result",
          "data": {
            "text/html": [
              "<div>\n",
              "<style scoped>\n",
              "    .dataframe tbody tr th:only-of-type {\n",
              "        vertical-align: middle;\n",
              "    }\n",
              "\n",
              "    .dataframe tbody tr th {\n",
              "        vertical-align: top;\n",
              "    }\n",
              "\n",
              "    .dataframe thead th {\n",
              "        text-align: right;\n",
              "    }\n",
              "</style>\n",
              "<table border=\"1\" class=\"dataframe\">\n",
              "  <thead>\n",
              "    <tr style=\"text-align: right;\">\n",
              "      <th></th>\n",
              "      <th>order_id</th>\n",
              "      <th>user_id</th>\n",
              "      <th>eval_set</th>\n",
              "      <th>order_number</th>\n",
              "      <th>order_dow</th>\n",
              "      <th>order_hour_of_day</th>\n",
              "      <th>days_since_prior_order</th>\n",
              "    </tr>\n",
              "  </thead>\n",
              "  <tbody>\n",
              "    <tr>\n",
              "      <th>0</th>\n",
              "      <td>2539329</td>\n",
              "      <td>1</td>\n",
              "      <td>prior</td>\n",
              "      <td>1</td>\n",
              "      <td>2</td>\n",
              "      <td>8</td>\n",
              "      <td>NaN</td>\n",
              "    </tr>\n",
              "    <tr>\n",
              "      <th>1</th>\n",
              "      <td>2398795</td>\n",
              "      <td>1</td>\n",
              "      <td>prior</td>\n",
              "      <td>2</td>\n",
              "      <td>3</td>\n",
              "      <td>7</td>\n",
              "      <td>15.0</td>\n",
              "    </tr>\n",
              "    <tr>\n",
              "      <th>2</th>\n",
              "      <td>473747</td>\n",
              "      <td>1</td>\n",
              "      <td>prior</td>\n",
              "      <td>3</td>\n",
              "      <td>3</td>\n",
              "      <td>12</td>\n",
              "      <td>21.0</td>\n",
              "    </tr>\n",
              "    <tr>\n",
              "      <th>3</th>\n",
              "      <td>2254736</td>\n",
              "      <td>1</td>\n",
              "      <td>prior</td>\n",
              "      <td>4</td>\n",
              "      <td>4</td>\n",
              "      <td>7</td>\n",
              "      <td>29.0</td>\n",
              "    </tr>\n",
              "    <tr>\n",
              "      <th>4</th>\n",
              "      <td>431534</td>\n",
              "      <td>1</td>\n",
              "      <td>prior</td>\n",
              "      <td>5</td>\n",
              "      <td>4</td>\n",
              "      <td>15</td>\n",
              "      <td>28.0</td>\n",
              "    </tr>\n",
              "  </tbody>\n",
              "</table>\n",
              "</div>"
            ],
            "text/plain": [
              "   order_id  user_id eval_set  order_number  order_dow  order_hour_of_day  \\\n",
              "0   2539329        1    prior             1          2                  8   \n",
              "1   2398795        1    prior             2          3                  7   \n",
              "2    473747        1    prior             3          3                 12   \n",
              "3   2254736        1    prior             4          4                  7   \n",
              "4    431534        1    prior             5          4                 15   \n",
              "\n",
              "   days_since_prior_order  \n",
              "0                     NaN  \n",
              "1                    15.0  \n",
              "2                    21.0  \n",
              "3                    29.0  \n",
              "4                    28.0  "
            ]
          },
          "metadata": {
            "tags": []
          },
          "execution_count": 24
        }
      ]
    },
    {
      "metadata": {
        "id": "Ui1wwVOX-FES",
        "colab_type": "code",
        "colab": {
          "base_uri": "https://localhost:8080/",
          "height": 112
        },
        "outputId": "1b466995-feca-4712-c778-1f797be74db3"
      },
      "cell_type": "code",
      "source": [
        "orders[orders['user_id']==1].head(2)"
      ],
      "execution_count": 25,
      "outputs": [
        {
          "output_type": "execute_result",
          "data": {
            "text/html": [
              "<div>\n",
              "<style scoped>\n",
              "    .dataframe tbody tr th:only-of-type {\n",
              "        vertical-align: middle;\n",
              "    }\n",
              "\n",
              "    .dataframe tbody tr th {\n",
              "        vertical-align: top;\n",
              "    }\n",
              "\n",
              "    .dataframe thead th {\n",
              "        text-align: right;\n",
              "    }\n",
              "</style>\n",
              "<table border=\"1\" class=\"dataframe\">\n",
              "  <thead>\n",
              "    <tr style=\"text-align: right;\">\n",
              "      <th></th>\n",
              "      <th>order_id</th>\n",
              "      <th>user_id</th>\n",
              "      <th>eval_set</th>\n",
              "      <th>order_number</th>\n",
              "      <th>order_dow</th>\n",
              "      <th>order_hour_of_day</th>\n",
              "      <th>days_since_prior_order</th>\n",
              "    </tr>\n",
              "  </thead>\n",
              "  <tbody>\n",
              "    <tr>\n",
              "      <th>0</th>\n",
              "      <td>2539329</td>\n",
              "      <td>1</td>\n",
              "      <td>prior</td>\n",
              "      <td>1</td>\n",
              "      <td>2</td>\n",
              "      <td>8</td>\n",
              "      <td>NaN</td>\n",
              "    </tr>\n",
              "    <tr>\n",
              "      <th>1</th>\n",
              "      <td>2398795</td>\n",
              "      <td>1</td>\n",
              "      <td>prior</td>\n",
              "      <td>2</td>\n",
              "      <td>3</td>\n",
              "      <td>7</td>\n",
              "      <td>15.0</td>\n",
              "    </tr>\n",
              "  </tbody>\n",
              "</table>\n",
              "</div>"
            ],
            "text/plain": [
              "   order_id  user_id eval_set  order_number  order_dow  order_hour_of_day  \\\n",
              "0   2539329        1    prior             1          2                  8   \n",
              "1   2398795        1    prior             2          3                  7   \n",
              "\n",
              "   days_since_prior_order  \n",
              "0                     NaN  \n",
              "1                    15.0  "
            ]
          },
          "metadata": {
            "tags": []
          },
          "execution_count": 25
        }
      ]
    },
    {
      "metadata": {
        "id": "cXuE-0R9-1Zu",
        "colab_type": "code",
        "colab": {}
      },
      "cell_type": "code",
      "source": [
        "conditions = (orders['user_id']==1) & (orders['order_number']<=2)\n",
        "\n",
        "columns = ['user_id',\n",
        "          'order_id',\n",
        "          'order_number',\n",
        "          'order_dow',\n",
        "          'order_hour_of_day']\n",
        "\n",
        "subset = orders.loc[conditions, columns]"
      ],
      "execution_count": 0,
      "outputs": []
    },
    {
      "metadata": {
        "colab_type": "text",
        "id": "3K1p0QHuKPnt"
      },
      "cell_type": "markdown",
      "source": [
        "## Merge dataframes"
      ]
    },
    {
      "metadata": {
        "colab_type": "code",
        "id": "DaDcnygCLZvM",
        "colab": {}
      },
      "cell_type": "code",
      "source": [
        "merged = pd.merge(subset,\n",
        "         order_products[['order_id', 'add_to_cart_order', 'product_id']])"
      ],
      "execution_count": 0,
      "outputs": []
    },
    {
      "metadata": {
        "id": "RB8j4G7HpD52",
        "colab_type": "code",
        "colab": {
          "base_uri": "https://localhost:8080/",
          "height": 206
        },
        "outputId": "cde6f113-cfb3-4912-d4af-14624d316fc7"
      },
      "cell_type": "code",
      "source": [
        "merged.head()"
      ],
      "execution_count": 28,
      "outputs": [
        {
          "output_type": "execute_result",
          "data": {
            "text/html": [
              "<div>\n",
              "<style scoped>\n",
              "    .dataframe tbody tr th:only-of-type {\n",
              "        vertical-align: middle;\n",
              "    }\n",
              "\n",
              "    .dataframe tbody tr th {\n",
              "        vertical-align: top;\n",
              "    }\n",
              "\n",
              "    .dataframe thead th {\n",
              "        text-align: right;\n",
              "    }\n",
              "</style>\n",
              "<table border=\"1\" class=\"dataframe\">\n",
              "  <thead>\n",
              "    <tr style=\"text-align: right;\">\n",
              "      <th></th>\n",
              "      <th>user_id</th>\n",
              "      <th>order_id</th>\n",
              "      <th>order_number</th>\n",
              "      <th>order_dow</th>\n",
              "      <th>order_hour_of_day</th>\n",
              "      <th>add_to_cart_order</th>\n",
              "      <th>product_id</th>\n",
              "    </tr>\n",
              "  </thead>\n",
              "  <tbody>\n",
              "    <tr>\n",
              "      <th>0</th>\n",
              "      <td>1</td>\n",
              "      <td>2539329</td>\n",
              "      <td>1</td>\n",
              "      <td>2</td>\n",
              "      <td>8</td>\n",
              "      <td>1</td>\n",
              "      <td>196</td>\n",
              "    </tr>\n",
              "    <tr>\n",
              "      <th>1</th>\n",
              "      <td>1</td>\n",
              "      <td>2539329</td>\n",
              "      <td>1</td>\n",
              "      <td>2</td>\n",
              "      <td>8</td>\n",
              "      <td>2</td>\n",
              "      <td>14084</td>\n",
              "    </tr>\n",
              "    <tr>\n",
              "      <th>2</th>\n",
              "      <td>1</td>\n",
              "      <td>2539329</td>\n",
              "      <td>1</td>\n",
              "      <td>2</td>\n",
              "      <td>8</td>\n",
              "      <td>3</td>\n",
              "      <td>12427</td>\n",
              "    </tr>\n",
              "    <tr>\n",
              "      <th>3</th>\n",
              "      <td>1</td>\n",
              "      <td>2539329</td>\n",
              "      <td>1</td>\n",
              "      <td>2</td>\n",
              "      <td>8</td>\n",
              "      <td>4</td>\n",
              "      <td>26088</td>\n",
              "    </tr>\n",
              "    <tr>\n",
              "      <th>4</th>\n",
              "      <td>1</td>\n",
              "      <td>2539329</td>\n",
              "      <td>1</td>\n",
              "      <td>2</td>\n",
              "      <td>8</td>\n",
              "      <td>5</td>\n",
              "      <td>26405</td>\n",
              "    </tr>\n",
              "  </tbody>\n",
              "</table>\n",
              "</div>"
            ],
            "text/plain": [
              "   user_id  order_id  order_number  order_dow  order_hour_of_day  \\\n",
              "0        1   2539329             1          2                  8   \n",
              "1        1   2539329             1          2                  8   \n",
              "2        1   2539329             1          2                  8   \n",
              "3        1   2539329             1          2                  8   \n",
              "4        1   2539329             1          2                  8   \n",
              "\n",
              "   add_to_cart_order  product_id  \n",
              "0                  1         196  \n",
              "1                  2       14084  \n",
              "2                  3       12427  \n",
              "3                  4       26088  \n",
              "4                  5       26405  "
            ]
          },
          "metadata": {
            "tags": []
          },
          "execution_count": 28
        }
      ]
    },
    {
      "metadata": {
        "id": "kNWV_QqApGuS",
        "colab_type": "code",
        "colab": {
          "base_uri": "https://localhost:8080/",
          "height": 312
        },
        "outputId": "96305ebc-00c8-4cd9-907a-7e99b9f8d8a3"
      },
      "cell_type": "code",
      "source": [
        "display(example)"
      ],
      "execution_count": 29,
      "outputs": [
        {
          "output_type": "display_data",
          "data": {
            "text/html": [
              "<img src=\"https://cdn-images-1.medium.com/max/1600/1*vYGFQCafJtGBBX5mbl0xyw.png\" width=\"600\"/>"
            ],
            "text/plain": [
              "<IPython.core.display.Image object>"
            ]
          },
          "metadata": {
            "tags": []
          }
        }
      ]
    },
    {
      "metadata": {
        "id": "EP95ouADpgDQ",
        "colab_type": "code",
        "colab": {}
      },
      "cell_type": "code",
      "source": [
        "final = pd.merge(merged, products[['product_id', 'product_name']])"
      ],
      "execution_count": 0,
      "outputs": []
    },
    {
      "metadata": {
        "id": "Ix3_mxFRpbF-",
        "colab_type": "code",
        "colab": {
          "base_uri": "https://localhost:8080/",
          "height": 34
        },
        "outputId": "c837d226-5b52-4443-df9c-e1eac5ef2573"
      },
      "cell_type": "code",
      "source": [
        "merged.shape, products[['product_id', 'product_name']].shape, final.shape"
      ],
      "execution_count": 31,
      "outputs": [
        {
          "output_type": "execute_result",
          "data": {
            "text/plain": [
              "((11, 7), (49688, 2), (11, 8))"
            ]
          },
          "metadata": {
            "tags": []
          },
          "execution_count": 31
        }
      ]
    },
    {
      "metadata": {
        "id": "Q_Uh2J8ipzoU",
        "colab_type": "code",
        "colab": {
          "base_uri": "https://localhost:8080/",
          "height": 206
        },
        "outputId": "44ecc10e-5117-48a3-a118-aa878ac01c6e"
      },
      "cell_type": "code",
      "source": [
        "final.head()"
      ],
      "execution_count": 32,
      "outputs": [
        {
          "output_type": "execute_result",
          "data": {
            "text/html": [
              "<div>\n",
              "<style scoped>\n",
              "    .dataframe tbody tr th:only-of-type {\n",
              "        vertical-align: middle;\n",
              "    }\n",
              "\n",
              "    .dataframe tbody tr th {\n",
              "        vertical-align: top;\n",
              "    }\n",
              "\n",
              "    .dataframe thead th {\n",
              "        text-align: right;\n",
              "    }\n",
              "</style>\n",
              "<table border=\"1\" class=\"dataframe\">\n",
              "  <thead>\n",
              "    <tr style=\"text-align: right;\">\n",
              "      <th></th>\n",
              "      <th>user_id</th>\n",
              "      <th>order_id</th>\n",
              "      <th>order_number</th>\n",
              "      <th>order_dow</th>\n",
              "      <th>order_hour_of_day</th>\n",
              "      <th>add_to_cart_order</th>\n",
              "      <th>product_id</th>\n",
              "      <th>product_name</th>\n",
              "    </tr>\n",
              "  </thead>\n",
              "  <tbody>\n",
              "    <tr>\n",
              "      <th>0</th>\n",
              "      <td>1</td>\n",
              "      <td>2539329</td>\n",
              "      <td>1</td>\n",
              "      <td>2</td>\n",
              "      <td>8</td>\n",
              "      <td>1</td>\n",
              "      <td>196</td>\n",
              "      <td>Soda</td>\n",
              "    </tr>\n",
              "    <tr>\n",
              "      <th>1</th>\n",
              "      <td>1</td>\n",
              "      <td>2398795</td>\n",
              "      <td>2</td>\n",
              "      <td>3</td>\n",
              "      <td>7</td>\n",
              "      <td>1</td>\n",
              "      <td>196</td>\n",
              "      <td>Soda</td>\n",
              "    </tr>\n",
              "    <tr>\n",
              "      <th>2</th>\n",
              "      <td>1</td>\n",
              "      <td>2539329</td>\n",
              "      <td>1</td>\n",
              "      <td>2</td>\n",
              "      <td>8</td>\n",
              "      <td>2</td>\n",
              "      <td>14084</td>\n",
              "      <td>Organic Unsweetened Vanilla Almond Milk</td>\n",
              "    </tr>\n",
              "    <tr>\n",
              "      <th>3</th>\n",
              "      <td>1</td>\n",
              "      <td>2539329</td>\n",
              "      <td>1</td>\n",
              "      <td>2</td>\n",
              "      <td>8</td>\n",
              "      <td>3</td>\n",
              "      <td>12427</td>\n",
              "      <td>Original Beef Jerky</td>\n",
              "    </tr>\n",
              "    <tr>\n",
              "      <th>4</th>\n",
              "      <td>1</td>\n",
              "      <td>2398795</td>\n",
              "      <td>2</td>\n",
              "      <td>3</td>\n",
              "      <td>7</td>\n",
              "      <td>3</td>\n",
              "      <td>12427</td>\n",
              "      <td>Original Beef Jerky</td>\n",
              "    </tr>\n",
              "  </tbody>\n",
              "</table>\n",
              "</div>"
            ],
            "text/plain": [
              "   user_id  order_id  order_number  order_dow  order_hour_of_day  \\\n",
              "0        1   2539329             1          2                  8   \n",
              "1        1   2398795             2          3                  7   \n",
              "2        1   2539329             1          2                  8   \n",
              "3        1   2539329             1          2                  8   \n",
              "4        1   2398795             2          3                  7   \n",
              "\n",
              "   add_to_cart_order  product_id                             product_name  \n",
              "0                  1         196                                     Soda  \n",
              "1                  1         196                                     Soda  \n",
              "2                  2       14084  Organic Unsweetened Vanilla Almond Milk  \n",
              "3                  3       12427                      Original Beef Jerky  \n",
              "4                  3       12427                      Original Beef Jerky  "
            ]
          },
          "metadata": {
            "tags": []
          },
          "execution_count": 32
        }
      ]
    },
    {
      "metadata": {
        "id": "YeuqFcdyqIZv",
        "colab_type": "code",
        "colab": {}
      },
      "cell_type": "code",
      "source": [
        "final = final.sort_values(by=['order_number', 'add_to_cart_order'])"
      ],
      "execution_count": 0,
      "outputs": []
    },
    {
      "metadata": {
        "id": "hq2rsfbWrqp2",
        "colab_type": "code",
        "colab": {}
      },
      "cell_type": "code",
      "source": [
        "final.columns = [column.replace('_', ' ') for column in final]"
      ],
      "execution_count": 0,
      "outputs": []
    },
    {
      "metadata": {
        "id": "2qd1qL9hr80j",
        "colab_type": "code",
        "colab": {
          "base_uri": "https://localhost:8080/",
          "height": 81
        },
        "outputId": "ab4bba69-8c34-4891-a8f1-747599900493"
      },
      "cell_type": "code",
      "source": [
        "final.head(1)"
      ],
      "execution_count": 35,
      "outputs": [
        {
          "output_type": "execute_result",
          "data": {
            "text/html": [
              "<div>\n",
              "<style scoped>\n",
              "    .dataframe tbody tr th:only-of-type {\n",
              "        vertical-align: middle;\n",
              "    }\n",
              "\n",
              "    .dataframe tbody tr th {\n",
              "        vertical-align: top;\n",
              "    }\n",
              "\n",
              "    .dataframe thead th {\n",
              "        text-align: right;\n",
              "    }\n",
              "</style>\n",
              "<table border=\"1\" class=\"dataframe\">\n",
              "  <thead>\n",
              "    <tr style=\"text-align: right;\">\n",
              "      <th></th>\n",
              "      <th>user id</th>\n",
              "      <th>order id</th>\n",
              "      <th>order number</th>\n",
              "      <th>order dow</th>\n",
              "      <th>order hour of day</th>\n",
              "      <th>add to cart order</th>\n",
              "      <th>product id</th>\n",
              "      <th>product name</th>\n",
              "    </tr>\n",
              "  </thead>\n",
              "  <tbody>\n",
              "    <tr>\n",
              "      <th>0</th>\n",
              "      <td>1</td>\n",
              "      <td>2539329</td>\n",
              "      <td>1</td>\n",
              "      <td>2</td>\n",
              "      <td>8</td>\n",
              "      <td>1</td>\n",
              "      <td>196</td>\n",
              "      <td>Soda</td>\n",
              "    </tr>\n",
              "  </tbody>\n",
              "</table>\n",
              "</div>"
            ],
            "text/plain": [
              "   user id  order id  order number  order dow  order hour of day  \\\n",
              "0        1   2539329             1          2                  8   \n",
              "\n",
              "   add to cart order  product id product name  \n",
              "0                  1         196         Soda  "
            ]
          },
          "metadata": {
            "tags": []
          },
          "execution_count": 35
        }
      ]
    },
    {
      "metadata": {
        "colab_type": "text",
        "id": "kAMtvSQWPUcj"
      },
      "cell_type": "markdown",
      "source": [
        "# Assignment\n",
        "\n",
        "These are the top 10 most frequently ordered products. How many times was each ordered? \n",
        "\n",
        "1. Banana\n",
        "2. Bag of Organic Bananas\n",
        "3. Organic Strawberries\n",
        "4. Organic Baby Spinach \n",
        "5. Organic Hass Avocado\n",
        "6. Organic Avocado\n",
        "7. Large Lemon \n",
        "8. Strawberries\n",
        "9. Limes \n",
        "10. Organic Whole Milk\n",
        "\n",
        "First, write down which columns you need and which dataframes have them.\n",
        "\n",
        "Next, merge these into a single dataframe.\n",
        "\n",
        "Then, use pandas functions from the previous lesson to get the counts of the top 10 most frequently ordered products.\n",
        "\n",
        "## Stretch challenge\n",
        "\n",
        "The [Instacart blog post](https://tech.instacart.com/3-million-instacart-orders-open-sourced-d40d29ead6f2) has a visualization of \"**Popular products** purchased earliest in the day (green) and latest in the day (red).\" \n",
        "\n",
        "The post says,\n",
        "\n",
        "> \"We can also see the time of day that users purchase specific products.\n",
        "\n",
        "> Healthier snacks and staples tend to be purchased earlier in the day, whereas ice cream (especially Half Baked and The Tonight Dough) are far more popular when customers are ordering in the evening.\n",
        "\n",
        "> **In fact, of the top 25 latest ordered products, the first 24 are ice cream! The last one, of course, is a frozen pizza.**\"\n",
        "\n",
        "Your challenge is to reproduce the list of the top 25 latest ordered popular products.\n",
        "\n",
        "We'll define \"popular products\" as products with more than 2,900 orders."
      ]
    },
    {
      "metadata": {
        "id": "GbnGPbwh4gxH",
        "colab_type": "code",
        "colab": {
          "base_uri": "https://localhost:8080/",
          "height": 69
        },
        "outputId": "3f347a6d-a0b8-4a01-8c3e-627fafec103d"
      },
      "cell_type": "code",
      "source": [
        "prior_products = pd.read_csv('order_products__prior.csv')\n",
        "\n",
        "train_products = pd.read_csv('order_products__train.csv')\n",
        "\n",
        "products = pd.read_csv('products.csv')\n",
        "\n",
        "\n",
        "\n",
        "print(prior_products.shape)\n",
        "print(train_products.shape)\n",
        "print(products.shape)"
      ],
      "execution_count": 37,
      "outputs": [
        {
          "output_type": "stream",
          "text": [
            "(32434489, 4)\n",
            "(1384617, 4)\n",
            "(49688, 4)\n"
          ],
          "name": "stdout"
        }
      ]
    },
    {
      "metadata": {
        "id": "U7IJxRTS6upy",
        "colab_type": "code",
        "colab": {
          "base_uri": "https://localhost:8080/",
          "height": 206
        },
        "outputId": "199c94c4-9077-411b-e33b-761f250bd85a"
      },
      "cell_type": "code",
      "source": [
        "order_products = pd.concat([prior_products, train_products])\n",
        "\n",
        "order_products.head()"
      ],
      "execution_count": 38,
      "outputs": [
        {
          "output_type": "execute_result",
          "data": {
            "text/html": [
              "<div>\n",
              "<style scoped>\n",
              "    .dataframe tbody tr th:only-of-type {\n",
              "        vertical-align: middle;\n",
              "    }\n",
              "\n",
              "    .dataframe tbody tr th {\n",
              "        vertical-align: top;\n",
              "    }\n",
              "\n",
              "    .dataframe thead th {\n",
              "        text-align: right;\n",
              "    }\n",
              "</style>\n",
              "<table border=\"1\" class=\"dataframe\">\n",
              "  <thead>\n",
              "    <tr style=\"text-align: right;\">\n",
              "      <th></th>\n",
              "      <th>order_id</th>\n",
              "      <th>product_id</th>\n",
              "      <th>add_to_cart_order</th>\n",
              "      <th>reordered</th>\n",
              "    </tr>\n",
              "  </thead>\n",
              "  <tbody>\n",
              "    <tr>\n",
              "      <th>0</th>\n",
              "      <td>2</td>\n",
              "      <td>33120</td>\n",
              "      <td>1</td>\n",
              "      <td>1</td>\n",
              "    </tr>\n",
              "    <tr>\n",
              "      <th>1</th>\n",
              "      <td>2</td>\n",
              "      <td>28985</td>\n",
              "      <td>2</td>\n",
              "      <td>1</td>\n",
              "    </tr>\n",
              "    <tr>\n",
              "      <th>2</th>\n",
              "      <td>2</td>\n",
              "      <td>9327</td>\n",
              "      <td>3</td>\n",
              "      <td>0</td>\n",
              "    </tr>\n",
              "    <tr>\n",
              "      <th>3</th>\n",
              "      <td>2</td>\n",
              "      <td>45918</td>\n",
              "      <td>4</td>\n",
              "      <td>1</td>\n",
              "    </tr>\n",
              "    <tr>\n",
              "      <th>4</th>\n",
              "      <td>2</td>\n",
              "      <td>30035</td>\n",
              "      <td>5</td>\n",
              "      <td>0</td>\n",
              "    </tr>\n",
              "  </tbody>\n",
              "</table>\n",
              "</div>"
            ],
            "text/plain": [
              "   order_id  product_id  add_to_cart_order  reordered\n",
              "0         2       33120                  1          1\n",
              "1         2       28985                  2          1\n",
              "2         2        9327                  3          0\n",
              "3         2       45918                  4          1\n",
              "4         2       30035                  5          0"
            ]
          },
          "metadata": {
            "tags": []
          },
          "execution_count": 38
        }
      ]
    },
    {
      "metadata": {
        "id": "0ybzDSlF7JHi",
        "colab_type": "code",
        "colab": {
          "base_uri": "https://localhost:8080/",
          "height": 34
        },
        "outputId": "bb0ba04d-1c8a-465b-a335-814a70edca15"
      },
      "cell_type": "code",
      "source": [
        "order_products.shape"
      ],
      "execution_count": 39,
      "outputs": [
        {
          "output_type": "execute_result",
          "data": {
            "text/plain": [
              "(33819106, 4)"
            ]
          },
          "metadata": {
            "tags": []
          },
          "execution_count": 39
        }
      ]
    },
    {
      "metadata": {
        "id": "YF3jfu3p7Kp0",
        "colab_type": "code",
        "colab": {
          "base_uri": "https://localhost:8080/",
          "height": 206
        },
        "outputId": "17408074-ca51-4438-c054-1c071e58ae03"
      },
      "cell_type": "code",
      "source": [
        "frequent_products = pd.merge(order_products, products[['product_id', 'product_name']])\n",
        "\n",
        "frequent_products.head()\n",
        "\n",
        "# Merging so I can see what the name of each product id is."
      ],
      "execution_count": 40,
      "outputs": [
        {
          "output_type": "execute_result",
          "data": {
            "text/html": [
              "<div>\n",
              "<style scoped>\n",
              "    .dataframe tbody tr th:only-of-type {\n",
              "        vertical-align: middle;\n",
              "    }\n",
              "\n",
              "    .dataframe tbody tr th {\n",
              "        vertical-align: top;\n",
              "    }\n",
              "\n",
              "    .dataframe thead th {\n",
              "        text-align: right;\n",
              "    }\n",
              "</style>\n",
              "<table border=\"1\" class=\"dataframe\">\n",
              "  <thead>\n",
              "    <tr style=\"text-align: right;\">\n",
              "      <th></th>\n",
              "      <th>order_id</th>\n",
              "      <th>product_id</th>\n",
              "      <th>add_to_cart_order</th>\n",
              "      <th>reordered</th>\n",
              "      <th>product_name</th>\n",
              "    </tr>\n",
              "  </thead>\n",
              "  <tbody>\n",
              "    <tr>\n",
              "      <th>0</th>\n",
              "      <td>2</td>\n",
              "      <td>33120</td>\n",
              "      <td>1</td>\n",
              "      <td>1</td>\n",
              "      <td>Organic Egg Whites</td>\n",
              "    </tr>\n",
              "    <tr>\n",
              "      <th>1</th>\n",
              "      <td>26</td>\n",
              "      <td>33120</td>\n",
              "      <td>5</td>\n",
              "      <td>0</td>\n",
              "      <td>Organic Egg Whites</td>\n",
              "    </tr>\n",
              "    <tr>\n",
              "      <th>2</th>\n",
              "      <td>120</td>\n",
              "      <td>33120</td>\n",
              "      <td>13</td>\n",
              "      <td>0</td>\n",
              "      <td>Organic Egg Whites</td>\n",
              "    </tr>\n",
              "    <tr>\n",
              "      <th>3</th>\n",
              "      <td>327</td>\n",
              "      <td>33120</td>\n",
              "      <td>5</td>\n",
              "      <td>1</td>\n",
              "      <td>Organic Egg Whites</td>\n",
              "    </tr>\n",
              "    <tr>\n",
              "      <th>4</th>\n",
              "      <td>390</td>\n",
              "      <td>33120</td>\n",
              "      <td>28</td>\n",
              "      <td>1</td>\n",
              "      <td>Organic Egg Whites</td>\n",
              "    </tr>\n",
              "  </tbody>\n",
              "</table>\n",
              "</div>"
            ],
            "text/plain": [
              "   order_id  product_id  add_to_cart_order  reordered        product_name\n",
              "0         2       33120                  1          1  Organic Egg Whites\n",
              "1        26       33120                  5          0  Organic Egg Whites\n",
              "2       120       33120                 13          0  Organic Egg Whites\n",
              "3       327       33120                  5          1  Organic Egg Whites\n",
              "4       390       33120                 28          1  Organic Egg Whites"
            ]
          },
          "metadata": {
            "tags": []
          },
          "execution_count": 40
        }
      ]
    },
    {
      "metadata": {
        "id": "oXNBgGmQ9RYs",
        "colab_type": "code",
        "colab": {
          "base_uri": "https://localhost:8080/",
          "height": 834
        },
        "outputId": "d4ce1597-5f0a-42d7-d4f0-0c59fed218ac"
      },
      "cell_type": "code",
      "source": [
        "frequent_products.head(25)"
      ],
      "execution_count": 41,
      "outputs": [
        {
          "output_type": "execute_result",
          "data": {
            "text/html": [
              "<div>\n",
              "<style scoped>\n",
              "    .dataframe tbody tr th:only-of-type {\n",
              "        vertical-align: middle;\n",
              "    }\n",
              "\n",
              "    .dataframe tbody tr th {\n",
              "        vertical-align: top;\n",
              "    }\n",
              "\n",
              "    .dataframe thead th {\n",
              "        text-align: right;\n",
              "    }\n",
              "</style>\n",
              "<table border=\"1\" class=\"dataframe\">\n",
              "  <thead>\n",
              "    <tr style=\"text-align: right;\">\n",
              "      <th></th>\n",
              "      <th>order_id</th>\n",
              "      <th>product_id</th>\n",
              "      <th>add_to_cart_order</th>\n",
              "      <th>reordered</th>\n",
              "      <th>product_name</th>\n",
              "    </tr>\n",
              "  </thead>\n",
              "  <tbody>\n",
              "    <tr>\n",
              "      <th>0</th>\n",
              "      <td>2</td>\n",
              "      <td>33120</td>\n",
              "      <td>1</td>\n",
              "      <td>1</td>\n",
              "      <td>Organic Egg Whites</td>\n",
              "    </tr>\n",
              "    <tr>\n",
              "      <th>1</th>\n",
              "      <td>26</td>\n",
              "      <td>33120</td>\n",
              "      <td>5</td>\n",
              "      <td>0</td>\n",
              "      <td>Organic Egg Whites</td>\n",
              "    </tr>\n",
              "    <tr>\n",
              "      <th>2</th>\n",
              "      <td>120</td>\n",
              "      <td>33120</td>\n",
              "      <td>13</td>\n",
              "      <td>0</td>\n",
              "      <td>Organic Egg Whites</td>\n",
              "    </tr>\n",
              "    <tr>\n",
              "      <th>3</th>\n",
              "      <td>327</td>\n",
              "      <td>33120</td>\n",
              "      <td>5</td>\n",
              "      <td>1</td>\n",
              "      <td>Organic Egg Whites</td>\n",
              "    </tr>\n",
              "    <tr>\n",
              "      <th>4</th>\n",
              "      <td>390</td>\n",
              "      <td>33120</td>\n",
              "      <td>28</td>\n",
              "      <td>1</td>\n",
              "      <td>Organic Egg Whites</td>\n",
              "    </tr>\n",
              "    <tr>\n",
              "      <th>5</th>\n",
              "      <td>537</td>\n",
              "      <td>33120</td>\n",
              "      <td>2</td>\n",
              "      <td>1</td>\n",
              "      <td>Organic Egg Whites</td>\n",
              "    </tr>\n",
              "    <tr>\n",
              "      <th>6</th>\n",
              "      <td>582</td>\n",
              "      <td>33120</td>\n",
              "      <td>7</td>\n",
              "      <td>1</td>\n",
              "      <td>Organic Egg Whites</td>\n",
              "    </tr>\n",
              "    <tr>\n",
              "      <th>7</th>\n",
              "      <td>608</td>\n",
              "      <td>33120</td>\n",
              "      <td>5</td>\n",
              "      <td>1</td>\n",
              "      <td>Organic Egg Whites</td>\n",
              "    </tr>\n",
              "    <tr>\n",
              "      <th>8</th>\n",
              "      <td>623</td>\n",
              "      <td>33120</td>\n",
              "      <td>1</td>\n",
              "      <td>1</td>\n",
              "      <td>Organic Egg Whites</td>\n",
              "    </tr>\n",
              "    <tr>\n",
              "      <th>9</th>\n",
              "      <td>689</td>\n",
              "      <td>33120</td>\n",
              "      <td>4</td>\n",
              "      <td>1</td>\n",
              "      <td>Organic Egg Whites</td>\n",
              "    </tr>\n",
              "    <tr>\n",
              "      <th>10</th>\n",
              "      <td>726</td>\n",
              "      <td>33120</td>\n",
              "      <td>3</td>\n",
              "      <td>1</td>\n",
              "      <td>Organic Egg Whites</td>\n",
              "    </tr>\n",
              "    <tr>\n",
              "      <th>11</th>\n",
              "      <td>771</td>\n",
              "      <td>33120</td>\n",
              "      <td>29</td>\n",
              "      <td>1</td>\n",
              "      <td>Organic Egg Whites</td>\n",
              "    </tr>\n",
              "    <tr>\n",
              "      <th>12</th>\n",
              "      <td>800</td>\n",
              "      <td>33120</td>\n",
              "      <td>3</td>\n",
              "      <td>1</td>\n",
              "      <td>Organic Egg Whites</td>\n",
              "    </tr>\n",
              "    <tr>\n",
              "      <th>13</th>\n",
              "      <td>901</td>\n",
              "      <td>33120</td>\n",
              "      <td>3</td>\n",
              "      <td>1</td>\n",
              "      <td>Organic Egg Whites</td>\n",
              "    </tr>\n",
              "    <tr>\n",
              "      <th>14</th>\n",
              "      <td>1005</td>\n",
              "      <td>33120</td>\n",
              "      <td>5</td>\n",
              "      <td>1</td>\n",
              "      <td>Organic Egg Whites</td>\n",
              "    </tr>\n",
              "    <tr>\n",
              "      <th>15</th>\n",
              "      <td>1097</td>\n",
              "      <td>33120</td>\n",
              "      <td>14</td>\n",
              "      <td>1</td>\n",
              "      <td>Organic Egg Whites</td>\n",
              "    </tr>\n",
              "    <tr>\n",
              "      <th>16</th>\n",
              "      <td>1193</td>\n",
              "      <td>33120</td>\n",
              "      <td>5</td>\n",
              "      <td>1</td>\n",
              "      <td>Organic Egg Whites</td>\n",
              "    </tr>\n",
              "    <tr>\n",
              "      <th>17</th>\n",
              "      <td>1300</td>\n",
              "      <td>33120</td>\n",
              "      <td>1</td>\n",
              "      <td>1</td>\n",
              "      <td>Organic Egg Whites</td>\n",
              "    </tr>\n",
              "    <tr>\n",
              "      <th>18</th>\n",
              "      <td>1887</td>\n",
              "      <td>33120</td>\n",
              "      <td>6</td>\n",
              "      <td>1</td>\n",
              "      <td>Organic Egg Whites</td>\n",
              "    </tr>\n",
              "    <tr>\n",
              "      <th>19</th>\n",
              "      <td>2082</td>\n",
              "      <td>33120</td>\n",
              "      <td>20</td>\n",
              "      <td>0</td>\n",
              "      <td>Organic Egg Whites</td>\n",
              "    </tr>\n",
              "    <tr>\n",
              "      <th>20</th>\n",
              "      <td>2357</td>\n",
              "      <td>33120</td>\n",
              "      <td>6</td>\n",
              "      <td>1</td>\n",
              "      <td>Organic Egg Whites</td>\n",
              "    </tr>\n",
              "    <tr>\n",
              "      <th>21</th>\n",
              "      <td>2551</td>\n",
              "      <td>33120</td>\n",
              "      <td>6</td>\n",
              "      <td>1</td>\n",
              "      <td>Organic Egg Whites</td>\n",
              "    </tr>\n",
              "    <tr>\n",
              "      <th>22</th>\n",
              "      <td>2652</td>\n",
              "      <td>33120</td>\n",
              "      <td>1</td>\n",
              "      <td>1</td>\n",
              "      <td>Organic Egg Whites</td>\n",
              "    </tr>\n",
              "    <tr>\n",
              "      <th>23</th>\n",
              "      <td>2846</td>\n",
              "      <td>33120</td>\n",
              "      <td>10</td>\n",
              "      <td>1</td>\n",
              "      <td>Organic Egg Whites</td>\n",
              "    </tr>\n",
              "    <tr>\n",
              "      <th>24</th>\n",
              "      <td>2929</td>\n",
              "      <td>33120</td>\n",
              "      <td>1</td>\n",
              "      <td>0</td>\n",
              "      <td>Organic Egg Whites</td>\n",
              "    </tr>\n",
              "  </tbody>\n",
              "</table>\n",
              "</div>"
            ],
            "text/plain": [
              "    order_id  product_id  add_to_cart_order  reordered        product_name\n",
              "0          2       33120                  1          1  Organic Egg Whites\n",
              "1         26       33120                  5          0  Organic Egg Whites\n",
              "2        120       33120                 13          0  Organic Egg Whites\n",
              "3        327       33120                  5          1  Organic Egg Whites\n",
              "4        390       33120                 28          1  Organic Egg Whites\n",
              "5        537       33120                  2          1  Organic Egg Whites\n",
              "6        582       33120                  7          1  Organic Egg Whites\n",
              "7        608       33120                  5          1  Organic Egg Whites\n",
              "8        623       33120                  1          1  Organic Egg Whites\n",
              "9        689       33120                  4          1  Organic Egg Whites\n",
              "10       726       33120                  3          1  Organic Egg Whites\n",
              "11       771       33120                 29          1  Organic Egg Whites\n",
              "12       800       33120                  3          1  Organic Egg Whites\n",
              "13       901       33120                  3          1  Organic Egg Whites\n",
              "14      1005       33120                  5          1  Organic Egg Whites\n",
              "15      1097       33120                 14          1  Organic Egg Whites\n",
              "16      1193       33120                  5          1  Organic Egg Whites\n",
              "17      1300       33120                  1          1  Organic Egg Whites\n",
              "18      1887       33120                  6          1  Organic Egg Whites\n",
              "19      2082       33120                 20          0  Organic Egg Whites\n",
              "20      2357       33120                  6          1  Organic Egg Whites\n",
              "21      2551       33120                  6          1  Organic Egg Whites\n",
              "22      2652       33120                  1          1  Organic Egg Whites\n",
              "23      2846       33120                 10          1  Organic Egg Whites\n",
              "24      2929       33120                  1          0  Organic Egg Whites"
            ]
          },
          "metadata": {
            "tags": []
          },
          "execution_count": 41
        }
      ]
    },
    {
      "metadata": {
        "id": "Ac3Ls6yF9Y3c",
        "colab_type": "code",
        "colab": {
          "base_uri": "https://localhost:8080/",
          "height": 1992
        },
        "outputId": "04b686f4-6960-48b6-8610-13a8e3ce3119"
      },
      "cell_type": "code",
      "source": [
        "frequent_products.sort_values(by=['order_id'])\n",
        "\n",
        "# Just checking to see if that worked."
      ],
      "execution_count": 42,
      "outputs": [
        {
          "output_type": "execute_result",
          "data": {
            "text/html": [
              "<div>\n",
              "<style scoped>\n",
              "    .dataframe tbody tr th:only-of-type {\n",
              "        vertical-align: middle;\n",
              "    }\n",
              "\n",
              "    .dataframe tbody tr th {\n",
              "        vertical-align: top;\n",
              "    }\n",
              "\n",
              "    .dataframe thead th {\n",
              "        text-align: right;\n",
              "    }\n",
              "</style>\n",
              "<table border=\"1\" class=\"dataframe\">\n",
              "  <thead>\n",
              "    <tr style=\"text-align: right;\">\n",
              "      <th></th>\n",
              "      <th>order_id</th>\n",
              "      <th>product_id</th>\n",
              "      <th>add_to_cart_order</th>\n",
              "      <th>reordered</th>\n",
              "      <th>product_name</th>\n",
              "    </tr>\n",
              "  </thead>\n",
              "  <tbody>\n",
              "    <tr>\n",
              "      <th>30698102</th>\n",
              "      <td>1</td>\n",
              "      <td>43633</td>\n",
              "      <td>5</td>\n",
              "      <td>1</td>\n",
              "      <td>Lightly Smoked Sardines in Olive Oil</td>\n",
              "    </tr>\n",
              "    <tr>\n",
              "      <th>1532449</th>\n",
              "      <td>1</td>\n",
              "      <td>47209</td>\n",
              "      <td>7</td>\n",
              "      <td>0</td>\n",
              "      <td>Organic Hass Avocado</td>\n",
              "    </tr>\n",
              "    <tr>\n",
              "      <th>17184946</th>\n",
              "      <td>1</td>\n",
              "      <td>10246</td>\n",
              "      <td>3</td>\n",
              "      <td>0</td>\n",
              "      <td>Organic Celery Hearts</td>\n",
              "    </tr>\n",
              "    <tr>\n",
              "      <th>33046497</th>\n",
              "      <td>1</td>\n",
              "      <td>49302</td>\n",
              "      <td>1</td>\n",
              "      <td>1</td>\n",
              "      <td>Bulgarian Yogurt</td>\n",
              "    </tr>\n",
              "    <tr>\n",
              "      <th>1039726</th>\n",
              "      <td>1</td>\n",
              "      <td>13176</td>\n",
              "      <td>6</td>\n",
              "      <td>0</td>\n",
              "      <td>Bag of Organic Bananas</td>\n",
              "    </tr>\n",
              "    <tr>\n",
              "      <th>10299527</th>\n",
              "      <td>1</td>\n",
              "      <td>22035</td>\n",
              "      <td>8</td>\n",
              "      <td>1</td>\n",
              "      <td>Organic Whole String Cheese</td>\n",
              "    </tr>\n",
              "    <tr>\n",
              "      <th>5868019</th>\n",
              "      <td>1</td>\n",
              "      <td>49683</td>\n",
              "      <td>4</td>\n",
              "      <td>0</td>\n",
              "      <td>Cucumber Kirby</td>\n",
              "    </tr>\n",
              "    <tr>\n",
              "      <th>23821643</th>\n",
              "      <td>1</td>\n",
              "      <td>11109</td>\n",
              "      <td>2</td>\n",
              "      <td>1</td>\n",
              "      <td>Organic 4% Milk Fat Whole Milk Cottage Cheese</td>\n",
              "    </tr>\n",
              "    <tr>\n",
              "      <th>174717</th>\n",
              "      <td>2</td>\n",
              "      <td>1819</td>\n",
              "      <td>8</td>\n",
              "      <td>1</td>\n",
              "      <td>All Natural No Stir Creamy Almond Butter</td>\n",
              "    </tr>\n",
              "    <tr>\n",
              "      <th>177234</th>\n",
              "      <td>2</td>\n",
              "      <td>43668</td>\n",
              "      <td>9</td>\n",
              "      <td>0</td>\n",
              "      <td>Classic Blend Cole Slaw</td>\n",
              "    </tr>\n",
              "    <tr>\n",
              "      <th>20234</th>\n",
              "      <td>2</td>\n",
              "      <td>28985</td>\n",
              "      <td>2</td>\n",
              "      <td>1</td>\n",
              "      <td>Michigan Organic Kale</td>\n",
              "    </tr>\n",
              "    <tr>\n",
              "      <th>98255</th>\n",
              "      <td>2</td>\n",
              "      <td>17794</td>\n",
              "      <td>6</td>\n",
              "      <td>1</td>\n",
              "      <td>Carrots</td>\n",
              "    </tr>\n",
              "    <tr>\n",
              "      <th>97665</th>\n",
              "      <td>2</td>\n",
              "      <td>30035</td>\n",
              "      <td>5</td>\n",
              "      <td>0</td>\n",
              "      <td>Natural Sweetener</td>\n",
              "    </tr>\n",
              "    <tr>\n",
              "      <th>96879</th>\n",
              "      <td>2</td>\n",
              "      <td>45918</td>\n",
              "      <td>4</td>\n",
              "      <td>1</td>\n",
              "      <td>Coconut Butter</td>\n",
              "    </tr>\n",
              "    <tr>\n",
              "      <th>90310</th>\n",
              "      <td>2</td>\n",
              "      <td>9327</td>\n",
              "      <td>3</td>\n",
              "      <td>0</td>\n",
              "      <td>Garlic Powder</td>\n",
              "    </tr>\n",
              "    <tr>\n",
              "      <th>173488</th>\n",
              "      <td>2</td>\n",
              "      <td>40141</td>\n",
              "      <td>7</td>\n",
              "      <td>1</td>\n",
              "      <td>Original Unflavored Gelatine Mix</td>\n",
              "    </tr>\n",
              "    <tr>\n",
              "      <th>0</th>\n",
              "      <td>2</td>\n",
              "      <td>33120</td>\n",
              "      <td>1</td>\n",
              "      <td>1</td>\n",
              "      <td>Organic Egg Whites</td>\n",
              "    </tr>\n",
              "    <tr>\n",
              "      <th>587951</th>\n",
              "      <td>3</td>\n",
              "      <td>32665</td>\n",
              "      <td>8</td>\n",
              "      <td>1</td>\n",
              "      <td>Organic Ezekiel 49 Bread Cinnamon Raisin</td>\n",
              "    </tr>\n",
              "    <tr>\n",
              "      <th>177392</th>\n",
              "      <td>3</td>\n",
              "      <td>33754</td>\n",
              "      <td>1</td>\n",
              "      <td>1</td>\n",
              "      <td>Total 2% with Strawberry Lowfat Greek Strained...</td>\n",
              "    </tr>\n",
              "    <tr>\n",
              "      <th>208258</th>\n",
              "      <td>3</td>\n",
              "      <td>24838</td>\n",
              "      <td>2</td>\n",
              "      <td>1</td>\n",
              "      <td>Unsweetened Almondmilk</td>\n",
              "    </tr>\n",
              "    <tr>\n",
              "      <th>259996</th>\n",
              "      <td>3</td>\n",
              "      <td>17704</td>\n",
              "      <td>3</td>\n",
              "      <td>1</td>\n",
              "      <td>Lemons</td>\n",
              "    </tr>\n",
              "    <tr>\n",
              "      <th>262494</th>\n",
              "      <td>3</td>\n",
              "      <td>21903</td>\n",
              "      <td>4</td>\n",
              "      <td>1</td>\n",
              "      <td>Organic Baby Spinach</td>\n",
              "    </tr>\n",
              "    <tr>\n",
              "      <th>570489</th>\n",
              "      <td>3</td>\n",
              "      <td>17461</td>\n",
              "      <td>7</td>\n",
              "      <td>1</td>\n",
              "      <td>Air Chilled Organic Boneless Skinless Chicken ...</td>\n",
              "    </tr>\n",
              "    <tr>\n",
              "      <th>514199</th>\n",
              "      <td>3</td>\n",
              "      <td>17668</td>\n",
              "      <td>5</td>\n",
              "      <td>1</td>\n",
              "      <td>Unsweetened Chocolate Almond Breeze Almond Milk</td>\n",
              "    </tr>\n",
              "    <tr>\n",
              "      <th>516395</th>\n",
              "      <td>3</td>\n",
              "      <td>46667</td>\n",
              "      <td>6</td>\n",
              "      <td>1</td>\n",
              "      <td>Organic Ginger Root</td>\n",
              "    </tr>\n",
              "    <tr>\n",
              "      <th>607146</th>\n",
              "      <td>4</td>\n",
              "      <td>10054</td>\n",
              "      <td>5</td>\n",
              "      <td>1</td>\n",
              "      <td>Kellogg's Nutri-Grain Apple Cinnamon Cereal</td>\n",
              "    </tr>\n",
              "    <tr>\n",
              "      <th>608429</th>\n",
              "      <td>4</td>\n",
              "      <td>21351</td>\n",
              "      <td>6</td>\n",
              "      <td>1</td>\n",
              "      <td>Nutri-Grain Soft Baked Strawberry Cereal Break...</td>\n",
              "    </tr>\n",
              "    <tr>\n",
              "      <th>610888</th>\n",
              "      <td>4</td>\n",
              "      <td>22598</td>\n",
              "      <td>7</td>\n",
              "      <td>1</td>\n",
              "      <td>Kellogg's Nutri-Grain Blueberry Cereal</td>\n",
              "    </tr>\n",
              "    <tr>\n",
              "      <th>593109</th>\n",
              "      <td>4</td>\n",
              "      <td>46842</td>\n",
              "      <td>1</td>\n",
              "      <td>0</td>\n",
              "      <td>Plain Pre-Sliced Bagels</td>\n",
              "    </tr>\n",
              "    <tr>\n",
              "      <th>616418</th>\n",
              "      <td>4</td>\n",
              "      <td>40285</td>\n",
              "      <td>9</td>\n",
              "      <td>1</td>\n",
              "      <td>Traditional Snack Mix</td>\n",
              "    </tr>\n",
              "    <tr>\n",
              "      <th>...</th>\n",
              "      <td>...</td>\n",
              "      <td>...</td>\n",
              "      <td>...</td>\n",
              "      <td>...</td>\n",
              "      <td>...</td>\n",
              "    </tr>\n",
              "    <tr>\n",
              "      <th>31261419</th>\n",
              "      <td>3421080</td>\n",
              "      <td>10667</td>\n",
              "      <td>8</td>\n",
              "      <td>0</td>\n",
              "      <td>Imported Butter</td>\n",
              "    </tr>\n",
              "    <tr>\n",
              "      <th>28008980</th>\n",
              "      <td>3421080</td>\n",
              "      <td>38061</td>\n",
              "      <td>9</td>\n",
              "      <td>0</td>\n",
              "      <td>Organic Raw Coconut Butter</td>\n",
              "    </tr>\n",
              "    <tr>\n",
              "      <th>5029426</th>\n",
              "      <td>3421080</td>\n",
              "      <td>41950</td>\n",
              "      <td>4</td>\n",
              "      <td>0</td>\n",
              "      <td>Organic Tomato Cluster</td>\n",
              "    </tr>\n",
              "    <tr>\n",
              "      <th>15364223</th>\n",
              "      <td>3421080</td>\n",
              "      <td>25122</td>\n",
              "      <td>7</td>\n",
              "      <td>0</td>\n",
              "      <td>Organic European Style Lightly Salted Butter</td>\n",
              "    </tr>\n",
              "    <tr>\n",
              "      <th>15465378</th>\n",
              "      <td>3421080</td>\n",
              "      <td>4932</td>\n",
              "      <td>2</td>\n",
              "      <td>1</td>\n",
              "      <td>Vanilla Bean Ice Cream</td>\n",
              "    </tr>\n",
              "    <tr>\n",
              "      <th>2409295</th>\n",
              "      <td>3421080</td>\n",
              "      <td>31717</td>\n",
              "      <td>5</td>\n",
              "      <td>0</td>\n",
              "      <td>Organic Cilantro</td>\n",
              "    </tr>\n",
              "    <tr>\n",
              "      <th>10184437</th>\n",
              "      <td>3421081</td>\n",
              "      <td>35221</td>\n",
              "      <td>6</td>\n",
              "      <td>0</td>\n",
              "      <td>Lime Sparkling Water</td>\n",
              "    </tr>\n",
              "    <tr>\n",
              "      <th>22864196</th>\n",
              "      <td>3421081</td>\n",
              "      <td>20539</td>\n",
              "      <td>5</td>\n",
              "      <td>0</td>\n",
              "      <td>Healthy Kids Chicken Alphabet Condensed Soup</td>\n",
              "    </tr>\n",
              "    <tr>\n",
              "      <th>33154099</th>\n",
              "      <td>3421081</td>\n",
              "      <td>12861</td>\n",
              "      <td>7</td>\n",
              "      <td>0</td>\n",
              "      <td>Farmer’s Market Vine Ripened Tomato &amp; Basil Hu...</td>\n",
              "    </tr>\n",
              "    <tr>\n",
              "      <th>29182381</th>\n",
              "      <td>3421081</td>\n",
              "      <td>3060</td>\n",
              "      <td>4</td>\n",
              "      <td>0</td>\n",
              "      <td>Pepper Jack Cheese Slices</td>\n",
              "    </tr>\n",
              "    <tr>\n",
              "      <th>18333529</th>\n",
              "      <td>3421081</td>\n",
              "      <td>32299</td>\n",
              "      <td>3</td>\n",
              "      <td>0</td>\n",
              "      <td>Dijon Mustard</td>\n",
              "    </tr>\n",
              "    <tr>\n",
              "      <th>24370447</th>\n",
              "      <td>3421081</td>\n",
              "      <td>38185</td>\n",
              "      <td>1</td>\n",
              "      <td>0</td>\n",
              "      <td>Hint of Lime Flavored Tortilla Chips</td>\n",
              "    </tr>\n",
              "    <tr>\n",
              "      <th>12696030</th>\n",
              "      <td>3421081</td>\n",
              "      <td>12218</td>\n",
              "      <td>2</td>\n",
              "      <td>0</td>\n",
              "      <td>Classic Wheat Bread</td>\n",
              "    </tr>\n",
              "    <tr>\n",
              "      <th>8666643</th>\n",
              "      <td>3421082</td>\n",
              "      <td>12023</td>\n",
              "      <td>6</td>\n",
              "      <td>0</td>\n",
              "      <td>Toasted Coconut Chips Original Recipe</td>\n",
              "    </tr>\n",
              "    <tr>\n",
              "      <th>22200811</th>\n",
              "      <td>3421082</td>\n",
              "      <td>32700</td>\n",
              "      <td>5</td>\n",
              "      <td>1</td>\n",
              "      <td>Original Whipped Cream</td>\n",
              "    </tr>\n",
              "    <tr>\n",
              "      <th>23209553</th>\n",
              "      <td>3421082</td>\n",
              "      <td>47941</td>\n",
              "      <td>7</td>\n",
              "      <td>0</td>\n",
              "      <td>Special K Red Berries Cereal</td>\n",
              "    </tr>\n",
              "    <tr>\n",
              "      <th>6527004</th>\n",
              "      <td>3421082</td>\n",
              "      <td>16797</td>\n",
              "      <td>3</td>\n",
              "      <td>0</td>\n",
              "      <td>Strawberries</td>\n",
              "    </tr>\n",
              "    <tr>\n",
              "      <th>26236604</th>\n",
              "      <td>3421082</td>\n",
              "      <td>12738</td>\n",
              "      <td>2</td>\n",
              "      <td>1</td>\n",
              "      <td>Original Spray</td>\n",
              "    </tr>\n",
              "    <tr>\n",
              "      <th>5446272</th>\n",
              "      <td>3421082</td>\n",
              "      <td>43352</td>\n",
              "      <td>4</td>\n",
              "      <td>1</td>\n",
              "      <td>Raspberries</td>\n",
              "    </tr>\n",
              "    <tr>\n",
              "      <th>27015013</th>\n",
              "      <td>3421082</td>\n",
              "      <td>17279</td>\n",
              "      <td>1</td>\n",
              "      <td>1</td>\n",
              "      <td>Fresh 99% Lean Ground Turkey</td>\n",
              "    </tr>\n",
              "    <tr>\n",
              "      <th>21709949</th>\n",
              "      <td>3421083</td>\n",
              "      <td>5020</td>\n",
              "      <td>10</td>\n",
              "      <td>1</td>\n",
              "      <td>Organic  Sweet &amp; Salty Peanut Pretzel Granola ...</td>\n",
              "    </tr>\n",
              "    <tr>\n",
              "      <th>16438461</th>\n",
              "      <td>3421083</td>\n",
              "      <td>21162</td>\n",
              "      <td>3</td>\n",
              "      <td>0</td>\n",
              "      <td>Organic Mixed Berry Yogurt &amp; Fruit Snack</td>\n",
              "    </tr>\n",
              "    <tr>\n",
              "      <th>19181715</th>\n",
              "      <td>3421083</td>\n",
              "      <td>11352</td>\n",
              "      <td>7</td>\n",
              "      <td>0</td>\n",
              "      <td>Organic Mini Sandwich Crackers Peanut Butter</td>\n",
              "    </tr>\n",
              "    <tr>\n",
              "      <th>24674608</th>\n",
              "      <td>3421083</td>\n",
              "      <td>45309</td>\n",
              "      <td>2</td>\n",
              "      <td>0</td>\n",
              "      <td>Purple Carrot &amp; blueberry Puffs</td>\n",
              "    </tr>\n",
              "    <tr>\n",
              "      <th>26863182</th>\n",
              "      <td>3421083</td>\n",
              "      <td>4600</td>\n",
              "      <td>8</td>\n",
              "      <td>0</td>\n",
              "      <td>All Natural French Toast Sticks</td>\n",
              "    </tr>\n",
              "    <tr>\n",
              "      <th>32666394</th>\n",
              "      <td>3421083</td>\n",
              "      <td>35211</td>\n",
              "      <td>5</td>\n",
              "      <td>0</td>\n",
              "      <td>Organic Strawberry &amp; Mango Dried Tiny Fruits</td>\n",
              "    </tr>\n",
              "    <tr>\n",
              "      <th>19123056</th>\n",
              "      <td>3421083</td>\n",
              "      <td>18176</td>\n",
              "      <td>4</td>\n",
              "      <td>1</td>\n",
              "      <td>Organic Strawberry Yogurt &amp; Fruit Snack</td>\n",
              "    </tr>\n",
              "    <tr>\n",
              "      <th>23718820</th>\n",
              "      <td>3421083</td>\n",
              "      <td>39678</td>\n",
              "      <td>6</td>\n",
              "      <td>1</td>\n",
              "      <td>Free &amp; Clear Natural Dishwasher Detergent</td>\n",
              "    </tr>\n",
              "    <tr>\n",
              "      <th>29113417</th>\n",
              "      <td>3421083</td>\n",
              "      <td>7854</td>\n",
              "      <td>1</td>\n",
              "      <td>0</td>\n",
              "      <td>Freeze Dried Mango Slices</td>\n",
              "    </tr>\n",
              "    <tr>\n",
              "      <th>2315121</th>\n",
              "      <td>3421083</td>\n",
              "      <td>24852</td>\n",
              "      <td>9</td>\n",
              "      <td>1</td>\n",
              "      <td>Banana</td>\n",
              "    </tr>\n",
              "  </tbody>\n",
              "</table>\n",
              "<p>33819106 rows × 5 columns</p>\n",
              "</div>"
            ],
            "text/plain": [
              "          order_id  product_id  add_to_cart_order  reordered  \\\n",
              "30698102         1       43633                  5          1   \n",
              "1532449          1       47209                  7          0   \n",
              "17184946         1       10246                  3          0   \n",
              "33046497         1       49302                  1          1   \n",
              "1039726          1       13176                  6          0   \n",
              "10299527         1       22035                  8          1   \n",
              "5868019          1       49683                  4          0   \n",
              "23821643         1       11109                  2          1   \n",
              "174717           2        1819                  8          1   \n",
              "177234           2       43668                  9          0   \n",
              "20234            2       28985                  2          1   \n",
              "98255            2       17794                  6          1   \n",
              "97665            2       30035                  5          0   \n",
              "96879            2       45918                  4          1   \n",
              "90310            2        9327                  3          0   \n",
              "173488           2       40141                  7          1   \n",
              "0                2       33120                  1          1   \n",
              "587951           3       32665                  8          1   \n",
              "177392           3       33754                  1          1   \n",
              "208258           3       24838                  2          1   \n",
              "259996           3       17704                  3          1   \n",
              "262494           3       21903                  4          1   \n",
              "570489           3       17461                  7          1   \n",
              "514199           3       17668                  5          1   \n",
              "516395           3       46667                  6          1   \n",
              "607146           4       10054                  5          1   \n",
              "608429           4       21351                  6          1   \n",
              "610888           4       22598                  7          1   \n",
              "593109           4       46842                  1          0   \n",
              "616418           4       40285                  9          1   \n",
              "...            ...         ...                ...        ...   \n",
              "31261419   3421080       10667                  8          0   \n",
              "28008980   3421080       38061                  9          0   \n",
              "5029426    3421080       41950                  4          0   \n",
              "15364223   3421080       25122                  7          0   \n",
              "15465378   3421080        4932                  2          1   \n",
              "2409295    3421080       31717                  5          0   \n",
              "10184437   3421081       35221                  6          0   \n",
              "22864196   3421081       20539                  5          0   \n",
              "33154099   3421081       12861                  7          0   \n",
              "29182381   3421081        3060                  4          0   \n",
              "18333529   3421081       32299                  3          0   \n",
              "24370447   3421081       38185                  1          0   \n",
              "12696030   3421081       12218                  2          0   \n",
              "8666643    3421082       12023                  6          0   \n",
              "22200811   3421082       32700                  5          1   \n",
              "23209553   3421082       47941                  7          0   \n",
              "6527004    3421082       16797                  3          0   \n",
              "26236604   3421082       12738                  2          1   \n",
              "5446272    3421082       43352                  4          1   \n",
              "27015013   3421082       17279                  1          1   \n",
              "21709949   3421083        5020                 10          1   \n",
              "16438461   3421083       21162                  3          0   \n",
              "19181715   3421083       11352                  7          0   \n",
              "24674608   3421083       45309                  2          0   \n",
              "26863182   3421083        4600                  8          0   \n",
              "32666394   3421083       35211                  5          0   \n",
              "19123056   3421083       18176                  4          1   \n",
              "23718820   3421083       39678                  6          1   \n",
              "29113417   3421083        7854                  1          0   \n",
              "2315121    3421083       24852                  9          1   \n",
              "\n",
              "                                               product_name  \n",
              "30698102               Lightly Smoked Sardines in Olive Oil  \n",
              "1532449                                Organic Hass Avocado  \n",
              "17184946                              Organic Celery Hearts  \n",
              "33046497                                   Bulgarian Yogurt  \n",
              "1039726                              Bag of Organic Bananas  \n",
              "10299527                        Organic Whole String Cheese  \n",
              "5868019                                      Cucumber Kirby  \n",
              "23821643      Organic 4% Milk Fat Whole Milk Cottage Cheese  \n",
              "174717             All Natural No Stir Creamy Almond Butter  \n",
              "177234                              Classic Blend Cole Slaw  \n",
              "20234                                 Michigan Organic Kale  \n",
              "98255                                               Carrots  \n",
              "97665                                     Natural Sweetener  \n",
              "96879                                        Coconut Butter  \n",
              "90310                                         Garlic Powder  \n",
              "173488                     Original Unflavored Gelatine Mix  \n",
              "0                                        Organic Egg Whites  \n",
              "587951             Organic Ezekiel 49 Bread Cinnamon Raisin  \n",
              "177392    Total 2% with Strawberry Lowfat Greek Strained...  \n",
              "208258                               Unsweetened Almondmilk  \n",
              "259996                                               Lemons  \n",
              "262494                                 Organic Baby Spinach  \n",
              "570489    Air Chilled Organic Boneless Skinless Chicken ...  \n",
              "514199      Unsweetened Chocolate Almond Breeze Almond Milk  \n",
              "516395                                  Organic Ginger Root  \n",
              "607146          Kellogg's Nutri-Grain Apple Cinnamon Cereal  \n",
              "608429    Nutri-Grain Soft Baked Strawberry Cereal Break...  \n",
              "610888               Kellogg's Nutri-Grain Blueberry Cereal  \n",
              "593109                              Plain Pre-Sliced Bagels  \n",
              "616418                                Traditional Snack Mix  \n",
              "...                                                     ...  \n",
              "31261419                                    Imported Butter  \n",
              "28008980                         Organic Raw Coconut Butter  \n",
              "5029426                              Organic Tomato Cluster  \n",
              "15364223       Organic European Style Lightly Salted Butter  \n",
              "15465378                             Vanilla Bean Ice Cream  \n",
              "2409295                                    Organic Cilantro  \n",
              "10184437                               Lime Sparkling Water  \n",
              "22864196       Healthy Kids Chicken Alphabet Condensed Soup  \n",
              "33154099  Farmer’s Market Vine Ripened Tomato & Basil Hu...  \n",
              "29182381                          Pepper Jack Cheese Slices  \n",
              "18333529                                      Dijon Mustard  \n",
              "24370447               Hint of Lime Flavored Tortilla Chips  \n",
              "12696030                                Classic Wheat Bread  \n",
              "8666643               Toasted Coconut Chips Original Recipe  \n",
              "22200811                             Original Whipped Cream  \n",
              "23209553                       Special K Red Berries Cereal  \n",
              "6527004                                        Strawberries  \n",
              "26236604                                     Original Spray  \n",
              "5446272                                         Raspberries  \n",
              "27015013                       Fresh 99% Lean Ground Turkey  \n",
              "21709949  Organic  Sweet & Salty Peanut Pretzel Granola ...  \n",
              "16438461           Organic Mixed Berry Yogurt & Fruit Snack  \n",
              "19181715       Organic Mini Sandwich Crackers Peanut Butter  \n",
              "24674608                    Purple Carrot & blueberry Puffs  \n",
              "26863182                    All Natural French Toast Sticks  \n",
              "32666394       Organic Strawberry & Mango Dried Tiny Fruits  \n",
              "19123056            Organic Strawberry Yogurt & Fruit Snack  \n",
              "23718820          Free & Clear Natural Dishwasher Detergent  \n",
              "29113417                          Freeze Dried Mango Slices  \n",
              "2315121                                              Banana  \n",
              "\n",
              "[33819106 rows x 5 columns]"
            ]
          },
          "metadata": {
            "tags": []
          },
          "execution_count": 42
        }
      ]
    },
    {
      "metadata": {
        "id": "yI_wVy8t9v-E",
        "colab_type": "code",
        "colab": {
          "base_uri": "https://localhost:8080/",
          "height": 394
        },
        "outputId": "0044bec1-7645-445c-cd66-c00fec46b5aa"
      },
      "cell_type": "code",
      "source": [
        "frequent_products.describe(include='all')"
      ],
      "execution_count": 43,
      "outputs": [
        {
          "output_type": "execute_result",
          "data": {
            "text/html": [
              "<div>\n",
              "<style scoped>\n",
              "    .dataframe tbody tr th:only-of-type {\n",
              "        vertical-align: middle;\n",
              "    }\n",
              "\n",
              "    .dataframe tbody tr th {\n",
              "        vertical-align: top;\n",
              "    }\n",
              "\n",
              "    .dataframe thead th {\n",
              "        text-align: right;\n",
              "    }\n",
              "</style>\n",
              "<table border=\"1\" class=\"dataframe\">\n",
              "  <thead>\n",
              "    <tr style=\"text-align: right;\">\n",
              "      <th></th>\n",
              "      <th>order_id</th>\n",
              "      <th>product_id</th>\n",
              "      <th>add_to_cart_order</th>\n",
              "      <th>reordered</th>\n",
              "      <th>product_name</th>\n",
              "    </tr>\n",
              "  </thead>\n",
              "  <tbody>\n",
              "    <tr>\n",
              "      <th>count</th>\n",
              "      <td>3.381911e+07</td>\n",
              "      <td>3.381911e+07</td>\n",
              "      <td>3.381911e+07</td>\n",
              "      <td>3.381911e+07</td>\n",
              "      <td>33819106</td>\n",
              "    </tr>\n",
              "    <tr>\n",
              "      <th>unique</th>\n",
              "      <td>NaN</td>\n",
              "      <td>NaN</td>\n",
              "      <td>NaN</td>\n",
              "      <td>NaN</td>\n",
              "      <td>49685</td>\n",
              "    </tr>\n",
              "    <tr>\n",
              "      <th>top</th>\n",
              "      <td>NaN</td>\n",
              "      <td>NaN</td>\n",
              "      <td>NaN</td>\n",
              "      <td>NaN</td>\n",
              "      <td>Banana</td>\n",
              "    </tr>\n",
              "    <tr>\n",
              "      <th>freq</th>\n",
              "      <td>NaN</td>\n",
              "      <td>NaN</td>\n",
              "      <td>NaN</td>\n",
              "      <td>NaN</td>\n",
              "      <td>491291</td>\n",
              "    </tr>\n",
              "    <tr>\n",
              "      <th>mean</th>\n",
              "      <td>1.710566e+06</td>\n",
              "      <td>2.557551e+04</td>\n",
              "      <td>8.367738e+00</td>\n",
              "      <td>5.900617e-01</td>\n",
              "      <td>NaN</td>\n",
              "    </tr>\n",
              "    <tr>\n",
              "      <th>std</th>\n",
              "      <td>9.874008e+05</td>\n",
              "      <td>1.409770e+04</td>\n",
              "      <td>7.139540e+00</td>\n",
              "      <td>4.918220e-01</td>\n",
              "      <td>NaN</td>\n",
              "    </tr>\n",
              "    <tr>\n",
              "      <th>min</th>\n",
              "      <td>1.000000e+00</td>\n",
              "      <td>1.000000e+00</td>\n",
              "      <td>1.000000e+00</td>\n",
              "      <td>0.000000e+00</td>\n",
              "      <td>NaN</td>\n",
              "    </tr>\n",
              "    <tr>\n",
              "      <th>25%</th>\n",
              "      <td>8.554130e+05</td>\n",
              "      <td>1.351900e+04</td>\n",
              "      <td>3.000000e+00</td>\n",
              "      <td>0.000000e+00</td>\n",
              "      <td>NaN</td>\n",
              "    </tr>\n",
              "    <tr>\n",
              "      <th>50%</th>\n",
              "      <td>1.710660e+06</td>\n",
              "      <td>2.525600e+04</td>\n",
              "      <td>6.000000e+00</td>\n",
              "      <td>1.000000e+00</td>\n",
              "      <td>NaN</td>\n",
              "    </tr>\n",
              "    <tr>\n",
              "      <th>75%</th>\n",
              "      <td>2.565587e+06</td>\n",
              "      <td>3.793500e+04</td>\n",
              "      <td>1.100000e+01</td>\n",
              "      <td>1.000000e+00</td>\n",
              "      <td>NaN</td>\n",
              "    </tr>\n",
              "    <tr>\n",
              "      <th>max</th>\n",
              "      <td>3.421083e+06</td>\n",
              "      <td>4.968800e+04</td>\n",
              "      <td>1.450000e+02</td>\n",
              "      <td>1.000000e+00</td>\n",
              "      <td>NaN</td>\n",
              "    </tr>\n",
              "  </tbody>\n",
              "</table>\n",
              "</div>"
            ],
            "text/plain": [
              "            order_id    product_id  add_to_cart_order     reordered  \\\n",
              "count   3.381911e+07  3.381911e+07       3.381911e+07  3.381911e+07   \n",
              "unique           NaN           NaN                NaN           NaN   \n",
              "top              NaN           NaN                NaN           NaN   \n",
              "freq             NaN           NaN                NaN           NaN   \n",
              "mean    1.710566e+06  2.557551e+04       8.367738e+00  5.900617e-01   \n",
              "std     9.874008e+05  1.409770e+04       7.139540e+00  4.918220e-01   \n",
              "min     1.000000e+00  1.000000e+00       1.000000e+00  0.000000e+00   \n",
              "25%     8.554130e+05  1.351900e+04       3.000000e+00  0.000000e+00   \n",
              "50%     1.710660e+06  2.525600e+04       6.000000e+00  1.000000e+00   \n",
              "75%     2.565587e+06  3.793500e+04       1.100000e+01  1.000000e+00   \n",
              "max     3.421083e+06  4.968800e+04       1.450000e+02  1.000000e+00   \n",
              "\n",
              "       product_name  \n",
              "count      33819106  \n",
              "unique        49685  \n",
              "top          Banana  \n",
              "freq         491291  \n",
              "mean            NaN  \n",
              "std             NaN  \n",
              "min             NaN  \n",
              "25%             NaN  \n",
              "50%             NaN  \n",
              "75%             NaN  \n",
              "max             NaN  "
            ]
          },
          "metadata": {
            "tags": []
          },
          "execution_count": 43
        }
      ]
    },
    {
      "metadata": {
        "id": "RSZ4fFPJ_cwy",
        "colab_type": "code",
        "colab": {
          "base_uri": "https://localhost:8080/",
          "height": 1094
        },
        "outputId": "2cc2608f-ad58-45e9-a382-99f63d9dcb6e"
      },
      "cell_type": "code",
      "source": [
        "frequent_products['product_name'].value_counts()\n",
        "\n",
        "# So it looks like at number 1 we Banana at 491291 orders. That is a lot.\n",
        "\n",
        "# 1. Banana: 491291\n",
        "# 2. Bag of Organic Bananas: 394930\n",
        "# 3. Organic Strawberries: 275577\n",
        "# 4. Organic Baby Spinach: 251705\n",
        "# 5. Organic Hass Avocado: 220877\n",
        "# 6. Organic Avocado: 184224\n",
        "# 7. Large Lemon: 160792\n",
        "# 8. Strawberries: 149445\n",
        "# 9. Limes: 146660\n",
        "# 10. Organic Whole Milk: 142813\n",
        "\n",
        "# People are buying a lot of bananas. If we were to combine \"Banana\" and \"Bag of Organic Bananas\" into one product then it\n",
        "# would be even more obvious. The same goes for combining \"Organic Hass Avocado\" and \"Organic Avocado\"."
      ],
      "execution_count": 45,
      "outputs": [
        {
          "output_type": "execute_result",
          "data": {
            "text/plain": [
              "Banana                                             491291\n",
              "Bag of Organic Bananas                             394930\n",
              "Organic Strawberries                               275577\n",
              "Organic Baby Spinach                               251705\n",
              "Organic Hass Avocado                               220877\n",
              "Organic Avocado                                    184224\n",
              "Large Lemon                                        160792\n",
              "Strawberries                                       149445\n",
              "Limes                                              146660\n",
              "Organic Whole Milk                                 142813\n",
              "Organic Raspberries                                142603\n",
              "Organic Yellow Onion                               117716\n",
              "Organic Garlic                                     113936\n",
              "Organic Zucchini                                   109412\n",
              "Organic Blueberries                                105026\n",
              "Cucumber Kirby                                      99728\n",
              "Organic Fuji Apple                                  92889\n",
              "Organic Lemon                                       91251\n",
              "Organic Grape Tomatoes                              88078\n",
              "Apple Honeycrisp Organic                            87272\n",
              "Seedless Red Grapes                                 86748\n",
              "Organic Cucumber                                    85005\n",
              "Honeycrisp Apple                                    83320\n",
              "Organic Baby Carrots                                80493\n",
              "Sparkling Water Grapefruit                          79245\n",
              "Organic Half & Half                                 79006\n",
              "Organic Large Extra Fancy Fuji Apple                78056\n",
              "Yellow Onions                                       76929\n",
              "Organic Baby Arugula                                75752\n",
              "Organic Gala Apples                                 75655\n",
              "                                                    ...  \n",
              "Orangemint Flavored Water                               1\n",
              "Coconut Bliss Pineapple Coconut                         1\n",
              "Buddy Bear Probiotic Orange Flavor Chewable             1\n",
              "Hot Chili with Beans                                    1\n",
              "Original Lager                                          1\n",
              "Jamaican Allspice                                       1\n",
              "Cld/Flu Van Chrry                                       1\n",
              "Pasta Shapes In Tomato Sauce                            1\n",
              "Pantene Pro-V Color Preserve Volume Conditioner         1\n",
              "Orange Flavored Ice Cubes                               1\n",
              "Chardonnay Carneros                                     1\n",
              "Anarchy For Her Daily Fragrance                         1\n",
              "Blueberry Blast Fruit and Chia Seed Bar                 1\n",
              "Miss Treated Conditioner                                1\n",
              "Super Nutrition Vanilla Shake                           1\n",
              "11.3 Oz. Oreo Fudge Creme Double Chocolate              1\n",
              "12 Inch Taper Candle White                              1\n",
              "Salsa, Black Bean                                       1\n",
              "Indian Wells Merlot                                     1\n",
              "Skin Firming Cellulite Gel Cream                        1\n",
              "Petite Black Eyed Peas                                  1\n",
              "Hot Oatmeal Multigrain Raisin                           1\n",
              "Kefir Raspberry                                         1\n",
              "Thick 'n Chunky Salsa Mild                              1\n",
              "Fruit Me Up!  Applesauce Pouches                        1\n",
              "Cajun Sides Dirty Rice                                  1\n",
              "Midnight Brownie Cookies                                1\n",
              "Sloppy Joe Sandwich Makers                              1\n",
              "Yellow Fish Breading                                    1\n",
              "Molasses, Bead                                          1\n",
              "Name: product_name, Length: 49685, dtype: int64"
            ]
          },
          "metadata": {
            "tags": []
          },
          "execution_count": 45
        }
      ]
    }
  ]
}