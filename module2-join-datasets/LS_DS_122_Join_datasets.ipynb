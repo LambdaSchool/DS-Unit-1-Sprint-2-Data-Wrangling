{
 "cells": [
  {
   "cell_type": "markdown",
   "metadata": {
    "colab_type": "text",
    "id": "pmU5YUal1eTZ"
   },
   "source": [
    "_Lambda School Data Science_\n",
    "\n",
    "# Join datasets\n",
    "\n",
    "Objectives\n",
    "- concatenate data with pandas\n",
    "- merge data with pandas\n",
    "\n",
    "Links\n",
    "- [Pandas Cheat Sheet](https://github.com/pandas-dev/pandas/blob/master/doc/cheatsheet/Pandas_Cheat_Sheet.pdf)\n",
    "  - Combine Data Sets: Standard Joins\n",
    "- Python Data Science Handbook\n",
    "  - [Chapter 3.6](https://jakevdp.github.io/PythonDataScienceHandbook/03.06-concat-and-append.html), Combining Datasets: Concat and Append\n",
    "  - [Chapter 3.7](https://jakevdp.github.io/PythonDataScienceHandbook/03.07-merge-and-join.html), Combining Datasets: Merge and Join"
   ]
  },
  {
   "cell_type": "markdown",
   "metadata": {
    "colab_type": "text",
    "id": "Mmi3J5fXrwZ3"
   },
   "source": [
    "## Download data\n",
    "\n",
    "We’ll work with a dataset of [3 Million Instacart Orders, Open Sourced](https://tech.instacart.com/3-million-instacart-orders-open-sourced-d40d29ead6f2)!"
   ]
  },
  {
   "cell_type": "code",
   "execution_count": 0,
   "metadata": {
    "colab": {
     "base_uri": "https://localhost:8080/",
     "height": 208
    },
    "colab_type": "code",
    "id": "K2kcrJVybjrW",
    "outputId": "3506f1c8-b01e-47b8-9c04-66c40c18ba2b"
   },
   "outputs": [
    {
     "name": "stdout",
     "output_type": "stream",
     "text": [
      "--2019-01-14 02:36:03--  https://s3.amazonaws.com/instacart-datasets/instacart_online_grocery_shopping_2017_05_01.tar.gz\n",
      "Resolving s3.amazonaws.com (s3.amazonaws.com)... 52.216.109.181\n",
      "Connecting to s3.amazonaws.com (s3.amazonaws.com)|52.216.109.181|:443... connected.\n",
      "HTTP request sent, awaiting response... 200 OK\n",
      "Length: 205548478 (196M) [application/x-gzip]\n",
      "Saving to: ‘instacart_online_grocery_shopping_2017_05_01.tar.gz’\n",
      "\n",
      "instacart_online_gr 100%[===================>] 196.03M  32.2MB/s    in 6.2s    \n",
      "\n",
      "2019-01-14 02:36:10 (31.8 MB/s) - ‘instacart_online_grocery_shopping_2017_05_01.tar.gz’ saved [205548478/205548478]\n",
      "\n"
     ]
    }
   ],
   "source": [
    "!wget https://s3.amazonaws.com/instacart-datasets/instacart_online_grocery_shopping_2017_05_01.tar.gz"
   ]
  },
  {
   "cell_type": "code",
   "execution_count": 0,
   "metadata": {
    "colab": {
     "base_uri": "https://localhost:8080/",
     "height": 242
    },
    "colab_type": "code",
    "id": "kqX40b2kdgAb",
    "outputId": "d61fd29f-378b-49a1-9720-63b9509f0f87"
   },
   "outputs": [
    {
     "name": "stdout",
     "output_type": "stream",
     "text": [
      "instacart_2017_05_01/\n",
      "instacart_2017_05_01/._aisles.csv\n",
      "instacart_2017_05_01/aisles.csv\n",
      "instacart_2017_05_01/._departments.csv\n",
      "instacart_2017_05_01/departments.csv\n",
      "instacart_2017_05_01/._order_products__prior.csv\n",
      "instacart_2017_05_01/order_products__prior.csv\n",
      "instacart_2017_05_01/._order_products__train.csv\n",
      "instacart_2017_05_01/order_products__train.csv\n",
      "instacart_2017_05_01/._orders.csv\n",
      "instacart_2017_05_01/orders.csv\n",
      "instacart_2017_05_01/._products.csv\n",
      "instacart_2017_05_01/products.csv\n"
     ]
    }
   ],
   "source": [
    "!tar --gunzip --extract --verbose --file=instacart_online_grocery_shopping_2017_05_01.tar.gz"
   ]
  },
  {
   "cell_type": "code",
   "execution_count": 0,
   "metadata": {
    "colab": {
     "base_uri": "https://localhost:8080/",
     "height": 34
    },
    "colab_type": "code",
    "id": "YbCvZZCBfHCI",
    "outputId": "953334d1-6d82-430b-c39d-50c9a1240eee"
   },
   "outputs": [
    {
     "name": "stdout",
     "output_type": "stream",
     "text": [
      "/content/instacart_2017_05_01\n"
     ]
    }
   ],
   "source": [
    "%cd instacart_2017_05_01"
   ]
  },
  {
   "cell_type": "markdown",
   "metadata": {
    "colab_type": "text",
    "id": "RsA14wiKr03j"
   },
   "source": [
    "## Goal: Reproduce this example\n",
    "\n",
    "The first two orders for user id 1:"
   ]
  },
  {
   "cell_type": "code",
   "execution_count": 0,
   "metadata": {
    "colab": {
     "base_uri": "https://localhost:8080/",
     "height": 312
    },
    "colab_type": "code",
    "id": "vLqOTMcfjprg",
    "outputId": "808c9f60-f337-4719-ce62-c4622815c4db"
   },
   "outputs": [
    {
     "data": {
      "text/html": [
       "<img src=\"https://cdn-images-1.medium.com/max/1600/1*vYGFQCafJtGBBX5mbl0xyw.png\" width=\"600\"/>"
      ],
      "text/plain": [
       "<IPython.core.display.Image object>"
      ]
     },
     "metadata": {
      "tags": []
     },
     "output_type": "display_data"
    }
   ],
   "source": [
    "from IPython.display import display, Image\n",
    "url = 'https://cdn-images-1.medium.com/max/1600/1*vYGFQCafJtGBBX5mbl0xyw.png'\n",
    "example = Image(url=url, width=600)\n",
    "\n",
    "display(example)"
   ]
  },
  {
   "cell_type": "markdown",
   "metadata": {
    "colab_type": "text",
    "id": "nPwG8aM_txl4"
   },
   "source": [
    "## Load data\n",
    "\n",
    "Here's a list of all six CSV filenames"
   ]
  },
  {
   "cell_type": "code",
   "execution_count": 0,
   "metadata": {
    "colab": {},
    "colab_type": "code",
    "id": "Ksah0cOrfdJQ"
   },
   "outputs": [],
   "source": [
    "!ls -lh"
   ]
  },
  {
   "cell_type": "markdown",
   "metadata": {
    "colab_type": "text",
    "id": "AHT7fKuxvPgV"
   },
   "source": [
    "For each CSV\n",
    "- Load it with pandas\n",
    "- Look at the dataframe's shape\n",
    "- Look at its head (first rows)\n",
    "- `display(example)`\n",
    "- Which columns does it have in common with the example we want to reproduce?"
   ]
  },
  {
   "cell_type": "markdown",
   "metadata": {
    "colab_type": "text",
    "id": "cB_5T6TprcUH"
   },
   "source": [
    "### aisles"
   ]
  },
  {
   "cell_type": "code",
   "execution_count": 0,
   "metadata": {
    "colab": {},
    "colab_type": "code",
    "id": "JB3bvwSDK6v3"
   },
   "outputs": [],
   "source": []
  },
  {
   "cell_type": "markdown",
   "metadata": {
    "colab_type": "text",
    "id": "9-GrkqM6rfXr"
   },
   "source": [
    "### departments"
   ]
  },
  {
   "cell_type": "code",
   "execution_count": 0,
   "metadata": {
    "colab": {},
    "colab_type": "code",
    "id": "NYIcif0dK9_5"
   },
   "outputs": [],
   "source": []
  },
  {
   "cell_type": "markdown",
   "metadata": {
    "colab_type": "text",
    "id": "VhhVcn9kK-nG"
   },
   "source": [
    "### order_products__prior"
   ]
  },
  {
   "cell_type": "code",
   "execution_count": 0,
   "metadata": {
    "colab": {},
    "colab_type": "code",
    "id": "-49qTkPlLBT_"
   },
   "outputs": [],
   "source": []
  },
  {
   "cell_type": "markdown",
   "metadata": {
    "colab_type": "text",
    "id": "HVYJEKJcLBut"
   },
   "source": [
    "### order_products__train"
   ]
  },
  {
   "cell_type": "code",
   "execution_count": 0,
   "metadata": {
    "colab": {},
    "colab_type": "code",
    "id": "gbPKUMb3LDxb"
   },
   "outputs": [],
   "source": []
  },
  {
   "cell_type": "markdown",
   "metadata": {
    "colab_type": "text",
    "id": "LYPrWUJnrp7G"
   },
   "source": [
    "### orders"
   ]
  },
  {
   "cell_type": "code",
   "execution_count": 0,
   "metadata": {
    "colab": {},
    "colab_type": "code",
    "id": "aFyl_7vyLJxS"
   },
   "outputs": [],
   "source": []
  },
  {
   "cell_type": "markdown",
   "metadata": {
    "colab_type": "text",
    "id": "nIX3SYXersao"
   },
   "source": [
    "### products"
   ]
  },
  {
   "cell_type": "code",
   "execution_count": 0,
   "metadata": {
    "colab": {},
    "colab_type": "code",
    "id": "9icvQgRfLLU1"
   },
   "outputs": [],
   "source": []
  },
  {
   "cell_type": "markdown",
   "metadata": {
    "colab_type": "text",
    "id": "cbHumXOiJfy2"
   },
   "source": [
    "## Concatenate order_products__prior and order_products__train"
   ]
  },
  {
   "cell_type": "code",
   "execution_count": 0,
   "metadata": {
    "colab": {},
    "colab_type": "code",
    "id": "TJ23kqpAY8Vv"
   },
   "outputs": [],
   "source": []
  },
  {
   "cell_type": "markdown",
   "metadata": {
    "colab_type": "text",
    "id": "Z1YRw5ypJuv2"
   },
   "source": [
    "## Get a subset of orders — the first two orders for user id 1"
   ]
  },
  {
   "cell_type": "code",
   "execution_count": 0,
   "metadata": {
    "colab": {},
    "colab_type": "code",
    "id": "YFBTseoyZAbj"
   },
   "outputs": [],
   "source": []
  },
  {
   "cell_type": "markdown",
   "metadata": {
    "colab_type": "text",
    "id": "3K1p0QHuKPnt"
   },
   "source": [
    "## Merge dataframes"
   ]
  },
  {
   "cell_type": "code",
   "execution_count": 0,
   "metadata": {
    "colab": {},
    "colab_type": "code",
    "id": "DaDcnygCLZvM"
   },
   "outputs": [],
   "source": []
  },
  {
   "cell_type": "markdown",
   "metadata": {
    "colab_type": "text",
    "id": "kAMtvSQWPUcj"
   },
   "source": [
    "# Assignment\n",
    "\n",
    "These are the top 10 most frequently ordered products. How many times was each ordered? \n",
    "\n",
    "1. Banana\n",
    "2. Bag of Organic Bananas\n",
    "3. Organic Strawberries\n",
    "4. Organic Baby Spinach \n",
    "5. Organic Hass Avocado\n",
    "6. Organic Avocado\n",
    "7. Large Lemon \n",
    "8. Strawberries\n",
    "9. Limes \n",
    "10. Organic Whole Milk\n",
    "\n",
    "First, write down which columns you need and which dataframes have them.\n",
    "\n",
    "Next, merge these into a single dataframe.\n",
    "\n",
    "Then, use pandas functions from the previous lesson to get the counts of the top 10 most frequently ordered products.\n",
    "\n",
    "## Stretch challenge\n",
    "\n",
    "The [Instacart blog post](https://tech.instacart.com/3-million-instacart-orders-open-sourced-d40d29ead6f2) has a visualization of \"**Popular products** purchased earliest in the day (green) and latest in the day (red).\" \n",
    "\n",
    "The post says,\n",
    "\n",
    "> \"We can also see the time of day that users purchase specific products.\n",
    "\n",
    "> Healthier snacks and staples tend to be purchased earlier in the day, whereas ice cream (especially Half Baked and The Tonight Dough) are far more popular when customers are ordering in the evening.\n",
    "\n",
    "> **In fact, of the top 25 latest ordered products, the first 24 are ice cream! The last one, of course, is a frozen pizza.**\"\n",
    "\n",
    "Your challenge is to reproduce the list of the top 25 latest ordered popular products.\n",
    "\n",
    "We'll define \"popular products\" as products with more than 2,900 orders."
   ]
  }
 ],
 "metadata": {
  "colab": {
   "collapsed_sections": [],
   "name": "LS_DS_122_Join_datasets.ipynb",
   "provenance": [],
   "version": "0.3.2"
  },
  "kernelspec": {
   "display_name": "Python 3",
   "language": "python",
   "name": "python3"
  },
  "language_info": {
   "codemirror_mode": {
    "name": "ipython",
    "version": 3
   },
   "file_extension": ".py",
   "mimetype": "text/x-python",
   "name": "python",
   "nbconvert_exporter": "python",
   "pygments_lexer": "ipython3",
   "version": "3.7.1"
  }
 },
 "nbformat": 4,
 "nbformat_minor": 1
}
