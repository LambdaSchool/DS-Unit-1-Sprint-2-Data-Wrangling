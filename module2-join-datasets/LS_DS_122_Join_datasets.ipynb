{
  "nbformat": 4,
  "nbformat_minor": 0,
  "metadata": {
    "colab": {
      "name": "LS_DS_122_Join_datasets.ipynb",
      "version": "0.3.2",
      "provenance": [],
      "collapsed_sections": []
    },
    "kernelspec": {
      "name": "python3",
      "display_name": "Python 3"
    }
  },
  "cells": [
    {
      "metadata": {
        "id": "pmU5YUal1eTZ",
        "colab_type": "text"
      },
      "cell_type": "markdown",
      "source": [
        "_Lambda School Data Science_\n",
        "\n",
        "# Join datasets\n",
        "\n",
        "Objectives\n",
        "- concatenate data with pandas\n",
        "- merge data with pandas\n",
        "\n",
        "Links\n",
        "- [Pandas Cheat Sheet](https://github.com/pandas-dev/pandas/blob/master/doc/cheatsheet/Pandas_Cheat_Sheet.pdf)\n",
        "  - Combine Data Sets: Standard Joins\n",
        "- Python Data Science Handbook\n",
        "  - [Chapter 3.6](https://jakevdp.github.io/PythonDataScienceHandbook/03.06-concat-and-append.html), Combining Datasets: Concat and Append\n",
        "  - [Chapter 3.7](https://jakevdp.github.io/PythonDataScienceHandbook/03.07-merge-and-join.html), Combining Datasets: Merge and Join"
      ]
    },
    {
      "metadata": {
        "id": "Mmi3J5fXrwZ3",
        "colab_type": "text"
      },
      "cell_type": "markdown",
      "source": [
        "## Download data\n",
        "\n",
        "We’ll work with a dataset of [3 Million Instacart Orders, Open Sourced](https://tech.instacart.com/3-million-instacart-orders-open-sourced-d40d29ead6f2)!"
      ]
    },
    {
      "metadata": {
        "id": "K2kcrJVybjrW",
        "colab_type": "code",
        "outputId": "7e3756e1-a33a-4f37-9c1f-c172ee99037d",
        "colab": {
          "base_uri": "https://localhost:8080/",
          "height": 212
        }
      },
      "cell_type": "code",
      "source": [
        "!wget https://s3.amazonaws.com/instacart-datasets/instacart_online_grocery_shopping_2017_05_01.tar.gz"
      ],
      "execution_count": 5,
      "outputs": [
        {
          "output_type": "stream",
          "text": [
            "--2019-01-15 18:39:22--  https://s3.amazonaws.com/instacart-datasets/instacart_online_grocery_shopping_2017_05_01.tar.gz\n",
            "Resolving s3.amazonaws.com (s3.amazonaws.com)... 52.216.84.165\n",
            "Connecting to s3.amazonaws.com (s3.amazonaws.com)|52.216.84.165|:443... connected.\n",
            "HTTP request sent, awaiting response... 200 OK\n",
            "Length: 205548478 (196M) [application/x-gzip]\n",
            "Saving to: ‘instacart_online_grocery_shopping_2017_05_01.tar.gz.1’\n",
            "\n",
            "instacart_online_gr 100%[===================>] 196.03M  45.6MB/s    in 4.7s    \n",
            "\n",
            "2019-01-15 18:39:27 (41.6 MB/s) - ‘instacart_online_grocery_shopping_2017_05_01.tar.gz.1’ saved [205548478/205548478]\n",
            "\n"
          ],
          "name": "stdout"
        }
      ]
    },
    {
      "metadata": {
        "id": "kqX40b2kdgAb",
        "colab_type": "code",
        "outputId": "1d0c5aff-6c71-46b9-ffcd-8db08e0e602b",
        "colab": {
          "base_uri": "https://localhost:8080/",
          "height": 247
        }
      },
      "cell_type": "code",
      "source": [
        "!tar --gunzip --extract --verbose --file=instacart_online_grocery_shopping_2017_05_01.tar.gz"
      ],
      "execution_count": 6,
      "outputs": [
        {
          "output_type": "stream",
          "text": [
            "instacart_2017_05_01/\n",
            "instacart_2017_05_01/._aisles.csv\n",
            "instacart_2017_05_01/aisles.csv\n",
            "instacart_2017_05_01/._departments.csv\n",
            "instacart_2017_05_01/departments.csv\n",
            "instacart_2017_05_01/._order_products__prior.csv\n",
            "instacart_2017_05_01/order_products__prior.csv\n",
            "instacart_2017_05_01/._order_products__train.csv\n",
            "instacart_2017_05_01/order_products__train.csv\n",
            "instacart_2017_05_01/._orders.csv\n",
            "instacart_2017_05_01/orders.csv\n",
            "instacart_2017_05_01/._products.csv\n",
            "instacart_2017_05_01/products.csv\n"
          ],
          "name": "stdout"
        }
      ]
    },
    {
      "metadata": {
        "id": "YbCvZZCBfHCI",
        "colab_type": "code",
        "outputId": "96fe19dd-528e-48d8-e53a-b701fb573e83",
        "colab": {
          "base_uri": "https://localhost:8080/",
          "height": 34
        }
      },
      "cell_type": "code",
      "source": [
        "%cd instacart_2017_05_01"
      ],
      "execution_count": 7,
      "outputs": [
        {
          "output_type": "stream",
          "text": [
            "/content/instacart_2017_05_01\n"
          ],
          "name": "stdout"
        }
      ]
    },
    {
      "metadata": {
        "id": "RsA14wiKr03j",
        "colab_type": "text"
      },
      "cell_type": "markdown",
      "source": [
        "## Goal: Reproduce this example\n",
        "\n",
        "The first two orders for user id 1:"
      ]
    },
    {
      "metadata": {
        "id": "vLqOTMcfjprg",
        "colab_type": "code",
        "outputId": "3b4cf9a9-6928-4d83-8b41-33cc73f66634",
        "colab": {
          "base_uri": "https://localhost:8080/",
          "height": 312
        }
      },
      "cell_type": "code",
      "source": [
        "from IPython.display import display, Image\n",
        "url = 'https://cdn-images-1.medium.com/max/1600/1*vYGFQCafJtGBBX5mbl0xyw.png'\n",
        "example = Image(url=url, width=600)\n",
        "\n",
        "display(example)"
      ],
      "execution_count": 8,
      "outputs": [
        {
          "output_type": "display_data",
          "data": {
            "text/html": [
              "<img src=\"https://cdn-images-1.medium.com/max/1600/1*vYGFQCafJtGBBX5mbl0xyw.png\" width=\"600\"/>"
            ],
            "text/plain": [
              "<IPython.core.display.Image object>"
            ]
          },
          "metadata": {
            "tags": []
          }
        }
      ]
    },
    {
      "metadata": {
        "id": "nPwG8aM_txl4",
        "colab_type": "text"
      },
      "cell_type": "markdown",
      "source": [
        "## Load data\n",
        "\n",
        "Here's a list of all six CSV filenames"
      ]
    },
    {
      "metadata": {
        "id": "Ksah0cOrfdJQ",
        "colab_type": "code",
        "colab": {
          "base_uri": "https://localhost:8080/",
          "height": 141
        },
        "outputId": "d0108a10-88a4-4b92-a8d0-a8c5a76ee3ab"
      },
      "cell_type": "code",
      "source": [
        "!ls -lh"
      ],
      "execution_count": 9,
      "outputs": [
        {
          "output_type": "stream",
          "text": [
            "total 681M\n",
            "-rw-r--r-- 1 502 staff 2.6K May  2  2017 aisles.csv\n",
            "-rw-r--r-- 1 502 staff  270 May  2  2017 departments.csv\n",
            "-rw-r--r-- 1 502 staff 551M May  2  2017 order_products__prior.csv\n",
            "-rw-r--r-- 1 502 staff  24M May  2  2017 order_products__train.csv\n",
            "-rw-r--r-- 1 502 staff 104M May  2  2017 orders.csv\n",
            "-rw-r--r-- 1 502 staff 2.1M May  2  2017 products.csv\n"
          ],
          "name": "stdout"
        }
      ]
    },
    {
      "metadata": {
        "id": "AHT7fKuxvPgV",
        "colab_type": "text"
      },
      "cell_type": "markdown",
      "source": [
        "For each CSV\n",
        "- Load it with pandas\n",
        "- Look at the dataframe's shape\n",
        "- Look at its head (first rows)\n",
        "- `display(example)`\n",
        "- Which columns does it have in common with the example we want to reproduce?"
      ]
    },
    {
      "metadata": {
        "id": "cB_5T6TprcUH",
        "colab_type": "text"
      },
      "cell_type": "markdown",
      "source": [
        "### aisles"
      ]
    },
    {
      "metadata": {
        "id": "JB3bvwSDK6v3",
        "colab_type": "code",
        "colab": {}
      },
      "cell_type": "code",
      "source": [
        "import pandas as pd\n",
        "\n",
        "aisles = pd.read_csv('aisles.csv')"
      ],
      "execution_count": 0,
      "outputs": []
    },
    {
      "metadata": {
        "id": "HJgY-G2ejV8v",
        "colab_type": "code",
        "colab": {}
      },
      "cell_type": "code",
      "source": [
        "# aisles does not have any columns we need"
      ],
      "execution_count": 0,
      "outputs": []
    },
    {
      "metadata": {
        "id": "9-GrkqM6rfXr",
        "colab_type": "text"
      },
      "cell_type": "markdown",
      "source": [
        "### departments"
      ]
    },
    {
      "metadata": {
        "id": "NYIcif0dK9_5",
        "colab_type": "code",
        "colab": {}
      },
      "cell_type": "code",
      "source": [
        "depts_df = pd.read_csv('departments.csv')"
      ],
      "execution_count": 0,
      "outputs": []
    },
    {
      "metadata": {
        "id": "Ameg63kJjzp6",
        "colab_type": "code",
        "colab": {
          "base_uri": "https://localhost:8080/",
          "height": 197
        },
        "outputId": "b32a0a31-e36e-4249-93c6-54365cc05a39"
      },
      "cell_type": "code",
      "source": [
        "depts_df.sample(5)"
      ],
      "execution_count": 13,
      "outputs": [
        {
          "output_type": "execute_result",
          "data": {
            "text/html": [
              "<div>\n",
              "<style scoped>\n",
              "    .dataframe tbody tr th:only-of-type {\n",
              "        vertical-align: middle;\n",
              "    }\n",
              "\n",
              "    .dataframe tbody tr th {\n",
              "        vertical-align: top;\n",
              "    }\n",
              "\n",
              "    .dataframe thead th {\n",
              "        text-align: right;\n",
              "    }\n",
              "</style>\n",
              "<table border=\"1\" class=\"dataframe\">\n",
              "  <thead>\n",
              "    <tr style=\"text-align: right;\">\n",
              "      <th></th>\n",
              "      <th>department_id</th>\n",
              "      <th>department</th>\n",
              "    </tr>\n",
              "  </thead>\n",
              "  <tbody>\n",
              "    <tr>\n",
              "      <th>12</th>\n",
              "      <td>13</td>\n",
              "      <td>pantry</td>\n",
              "    </tr>\n",
              "    <tr>\n",
              "      <th>6</th>\n",
              "      <td>7</td>\n",
              "      <td>beverages</td>\n",
              "    </tr>\n",
              "    <tr>\n",
              "      <th>2</th>\n",
              "      <td>3</td>\n",
              "      <td>bakery</td>\n",
              "    </tr>\n",
              "    <tr>\n",
              "      <th>17</th>\n",
              "      <td>18</td>\n",
              "      <td>babies</td>\n",
              "    </tr>\n",
              "    <tr>\n",
              "      <th>7</th>\n",
              "      <td>8</td>\n",
              "      <td>pets</td>\n",
              "    </tr>\n",
              "  </tbody>\n",
              "</table>\n",
              "</div>"
            ],
            "text/plain": [
              "    department_id department\n",
              "12             13     pantry\n",
              "6               7  beverages\n",
              "2               3     bakery\n",
              "17             18     babies\n",
              "7               8       pets"
            ]
          },
          "metadata": {
            "tags": []
          },
          "execution_count": 13
        }
      ]
    },
    {
      "metadata": {
        "id": "de3KRC9MkDVA",
        "colab_type": "code",
        "colab": {}
      },
      "cell_type": "code",
      "source": [
        "# departments does not have any columns we need"
      ],
      "execution_count": 0,
      "outputs": []
    },
    {
      "metadata": {
        "id": "VhhVcn9kK-nG",
        "colab_type": "text"
      },
      "cell_type": "markdown",
      "source": [
        "### order_products__prior"
      ]
    },
    {
      "metadata": {
        "id": "-49qTkPlLBT_",
        "colab_type": "code",
        "colab": {}
      },
      "cell_type": "code",
      "source": [
        "order_products_prior_df = pd.read_csv('order_products__prior.csv')"
      ],
      "execution_count": 0,
      "outputs": []
    },
    {
      "metadata": {
        "id": "1DWtQ-Bhk1wU",
        "colab_type": "code",
        "colab": {
          "base_uri": "https://localhost:8080/",
          "height": 197
        },
        "outputId": "1821e33c-2213-4ef0-8bf1-e0bed43b6806"
      },
      "cell_type": "code",
      "source": [
        "order_products_prior_df.head()"
      ],
      "execution_count": 16,
      "outputs": [
        {
          "output_type": "execute_result",
          "data": {
            "text/html": [
              "<div>\n",
              "<style scoped>\n",
              "    .dataframe tbody tr th:only-of-type {\n",
              "        vertical-align: middle;\n",
              "    }\n",
              "\n",
              "    .dataframe tbody tr th {\n",
              "        vertical-align: top;\n",
              "    }\n",
              "\n",
              "    .dataframe thead th {\n",
              "        text-align: right;\n",
              "    }\n",
              "</style>\n",
              "<table border=\"1\" class=\"dataframe\">\n",
              "  <thead>\n",
              "    <tr style=\"text-align: right;\">\n",
              "      <th></th>\n",
              "      <th>order_id</th>\n",
              "      <th>product_id</th>\n",
              "      <th>add_to_cart_order</th>\n",
              "      <th>reordered</th>\n",
              "    </tr>\n",
              "  </thead>\n",
              "  <tbody>\n",
              "    <tr>\n",
              "      <th>0</th>\n",
              "      <td>2</td>\n",
              "      <td>33120</td>\n",
              "      <td>1</td>\n",
              "      <td>1</td>\n",
              "    </tr>\n",
              "    <tr>\n",
              "      <th>1</th>\n",
              "      <td>2</td>\n",
              "      <td>28985</td>\n",
              "      <td>2</td>\n",
              "      <td>1</td>\n",
              "    </tr>\n",
              "    <tr>\n",
              "      <th>2</th>\n",
              "      <td>2</td>\n",
              "      <td>9327</td>\n",
              "      <td>3</td>\n",
              "      <td>0</td>\n",
              "    </tr>\n",
              "    <tr>\n",
              "      <th>3</th>\n",
              "      <td>2</td>\n",
              "      <td>45918</td>\n",
              "      <td>4</td>\n",
              "      <td>1</td>\n",
              "    </tr>\n",
              "    <tr>\n",
              "      <th>4</th>\n",
              "      <td>2</td>\n",
              "      <td>30035</td>\n",
              "      <td>5</td>\n",
              "      <td>0</td>\n",
              "    </tr>\n",
              "  </tbody>\n",
              "</table>\n",
              "</div>"
            ],
            "text/plain": [
              "   order_id  product_id  add_to_cart_order  reordered\n",
              "0         2       33120                  1          1\n",
              "1         2       28985                  2          1\n",
              "2         2        9327                  3          0\n",
              "3         2       45918                  4          1\n",
              "4         2       30035                  5          0"
            ]
          },
          "metadata": {
            "tags": []
          },
          "execution_count": 16
        }
      ]
    },
    {
      "metadata": {
        "id": "O6WpOQEzlOMk",
        "colab_type": "code",
        "colab": {}
      },
      "cell_type": "code",
      "source": [
        "# has order_id\tproduct_id\tadd_to_cart_order"
      ],
      "execution_count": 0,
      "outputs": []
    },
    {
      "metadata": {
        "id": "HVYJEKJcLBut",
        "colab_type": "text"
      },
      "cell_type": "markdown",
      "source": [
        "### order_products__train"
      ]
    },
    {
      "metadata": {
        "id": "gbPKUMb3LDxb",
        "colab_type": "code",
        "colab": {}
      },
      "cell_type": "code",
      "source": [
        "order_products_train_df = pd.read_csv('order_products__train.csv')"
      ],
      "execution_count": 0,
      "outputs": []
    },
    {
      "metadata": {
        "id": "4ioO35InlX7L",
        "colab_type": "code",
        "colab": {
          "base_uri": "https://localhost:8080/",
          "height": 197
        },
        "outputId": "b9fa03c6-4163-45ee-a1d0-66f7e697a596"
      },
      "cell_type": "code",
      "source": [
        "order_products_train_df.head()"
      ],
      "execution_count": 19,
      "outputs": [
        {
          "output_type": "execute_result",
          "data": {
            "text/html": [
              "<div>\n",
              "<style scoped>\n",
              "    .dataframe tbody tr th:only-of-type {\n",
              "        vertical-align: middle;\n",
              "    }\n",
              "\n",
              "    .dataframe tbody tr th {\n",
              "        vertical-align: top;\n",
              "    }\n",
              "\n",
              "    .dataframe thead th {\n",
              "        text-align: right;\n",
              "    }\n",
              "</style>\n",
              "<table border=\"1\" class=\"dataframe\">\n",
              "  <thead>\n",
              "    <tr style=\"text-align: right;\">\n",
              "      <th></th>\n",
              "      <th>order_id</th>\n",
              "      <th>product_id</th>\n",
              "      <th>add_to_cart_order</th>\n",
              "      <th>reordered</th>\n",
              "    </tr>\n",
              "  </thead>\n",
              "  <tbody>\n",
              "    <tr>\n",
              "      <th>0</th>\n",
              "      <td>1</td>\n",
              "      <td>49302</td>\n",
              "      <td>1</td>\n",
              "      <td>1</td>\n",
              "    </tr>\n",
              "    <tr>\n",
              "      <th>1</th>\n",
              "      <td>1</td>\n",
              "      <td>11109</td>\n",
              "      <td>2</td>\n",
              "      <td>1</td>\n",
              "    </tr>\n",
              "    <tr>\n",
              "      <th>2</th>\n",
              "      <td>1</td>\n",
              "      <td>10246</td>\n",
              "      <td>3</td>\n",
              "      <td>0</td>\n",
              "    </tr>\n",
              "    <tr>\n",
              "      <th>3</th>\n",
              "      <td>1</td>\n",
              "      <td>49683</td>\n",
              "      <td>4</td>\n",
              "      <td>0</td>\n",
              "    </tr>\n",
              "    <tr>\n",
              "      <th>4</th>\n",
              "      <td>1</td>\n",
              "      <td>43633</td>\n",
              "      <td>5</td>\n",
              "      <td>1</td>\n",
              "    </tr>\n",
              "  </tbody>\n",
              "</table>\n",
              "</div>"
            ],
            "text/plain": [
              "   order_id  product_id  add_to_cart_order  reordered\n",
              "0         1       49302                  1          1\n",
              "1         1       11109                  2          1\n",
              "2         1       10246                  3          0\n",
              "3         1       49683                  4          0\n",
              "4         1       43633                  5          1"
            ]
          },
          "metadata": {
            "tags": []
          },
          "execution_count": 19
        }
      ]
    },
    {
      "metadata": {
        "id": "_Du-BF_clr0t",
        "colab_type": "code",
        "colab": {}
      },
      "cell_type": "code",
      "source": [
        "# also has order_id\tproduct_id\tadd_to_cart_order"
      ],
      "execution_count": 0,
      "outputs": []
    },
    {
      "metadata": {
        "id": "LYPrWUJnrp7G",
        "colab_type": "text"
      },
      "cell_type": "markdown",
      "source": [
        "### orders"
      ]
    },
    {
      "metadata": {
        "id": "aFyl_7vyLJxS",
        "colab_type": "code",
        "colab": {}
      },
      "cell_type": "code",
      "source": [
        "orders_df = pd.read_csv('orders.csv')"
      ],
      "execution_count": 0,
      "outputs": []
    },
    {
      "metadata": {
        "id": "mhL3Ejtll1b9",
        "colab_type": "code",
        "colab": {
          "base_uri": "https://localhost:8080/",
          "height": 34
        },
        "outputId": "4482c7c0-ad73-4230-8b6f-12949818641a"
      },
      "cell_type": "code",
      "source": [
        "orders_df.shape"
      ],
      "execution_count": 22,
      "outputs": [
        {
          "output_type": "execute_result",
          "data": {
            "text/plain": [
              "(3421083, 7)"
            ]
          },
          "metadata": {
            "tags": []
          },
          "execution_count": 22
        }
      ]
    },
    {
      "metadata": {
        "id": "X4a2abfqlxGe",
        "colab_type": "code",
        "colab": {
          "base_uri": "https://localhost:8080/",
          "height": 197
        },
        "outputId": "3b9dde44-d888-4e45-d883-bc9c406ea0dc"
      },
      "cell_type": "code",
      "source": [
        "orders_df.head()"
      ],
      "execution_count": 23,
      "outputs": [
        {
          "output_type": "execute_result",
          "data": {
            "text/html": [
              "<div>\n",
              "<style scoped>\n",
              "    .dataframe tbody tr th:only-of-type {\n",
              "        vertical-align: middle;\n",
              "    }\n",
              "\n",
              "    .dataframe tbody tr th {\n",
              "        vertical-align: top;\n",
              "    }\n",
              "\n",
              "    .dataframe thead th {\n",
              "        text-align: right;\n",
              "    }\n",
              "</style>\n",
              "<table border=\"1\" class=\"dataframe\">\n",
              "  <thead>\n",
              "    <tr style=\"text-align: right;\">\n",
              "      <th></th>\n",
              "      <th>order_id</th>\n",
              "      <th>user_id</th>\n",
              "      <th>eval_set</th>\n",
              "      <th>order_number</th>\n",
              "      <th>order_dow</th>\n",
              "      <th>order_hour_of_day</th>\n",
              "      <th>days_since_prior_order</th>\n",
              "    </tr>\n",
              "  </thead>\n",
              "  <tbody>\n",
              "    <tr>\n",
              "      <th>0</th>\n",
              "      <td>2539329</td>\n",
              "      <td>1</td>\n",
              "      <td>prior</td>\n",
              "      <td>1</td>\n",
              "      <td>2</td>\n",
              "      <td>8</td>\n",
              "      <td>NaN</td>\n",
              "    </tr>\n",
              "    <tr>\n",
              "      <th>1</th>\n",
              "      <td>2398795</td>\n",
              "      <td>1</td>\n",
              "      <td>prior</td>\n",
              "      <td>2</td>\n",
              "      <td>3</td>\n",
              "      <td>7</td>\n",
              "      <td>15.0</td>\n",
              "    </tr>\n",
              "    <tr>\n",
              "      <th>2</th>\n",
              "      <td>473747</td>\n",
              "      <td>1</td>\n",
              "      <td>prior</td>\n",
              "      <td>3</td>\n",
              "      <td>3</td>\n",
              "      <td>12</td>\n",
              "      <td>21.0</td>\n",
              "    </tr>\n",
              "    <tr>\n",
              "      <th>3</th>\n",
              "      <td>2254736</td>\n",
              "      <td>1</td>\n",
              "      <td>prior</td>\n",
              "      <td>4</td>\n",
              "      <td>4</td>\n",
              "      <td>7</td>\n",
              "      <td>29.0</td>\n",
              "    </tr>\n",
              "    <tr>\n",
              "      <th>4</th>\n",
              "      <td>431534</td>\n",
              "      <td>1</td>\n",
              "      <td>prior</td>\n",
              "      <td>5</td>\n",
              "      <td>4</td>\n",
              "      <td>15</td>\n",
              "      <td>28.0</td>\n",
              "    </tr>\n",
              "  </tbody>\n",
              "</table>\n",
              "</div>"
            ],
            "text/plain": [
              "   order_id  user_id eval_set  order_number  order_dow  order_hour_of_day  \\\n",
              "0   2539329        1    prior             1          2                  8   \n",
              "1   2398795        1    prior             2          3                  7   \n",
              "2    473747        1    prior             3          3                 12   \n",
              "3   2254736        1    prior             4          4                  7   \n",
              "4    431534        1    prior             5          4                 15   \n",
              "\n",
              "   days_since_prior_order  \n",
              "0                     NaN  \n",
              "1                    15.0  \n",
              "2                    21.0  \n",
              "3                    29.0  \n",
              "4                    28.0  "
            ]
          },
          "metadata": {
            "tags": []
          },
          "execution_count": 23
        }
      ]
    },
    {
      "metadata": {
        "id": "nIX3SYXersao",
        "colab_type": "text"
      },
      "cell_type": "markdown",
      "source": [
        "### products"
      ]
    },
    {
      "metadata": {
        "id": "9icvQgRfLLU1",
        "colab_type": "code",
        "colab": {}
      },
      "cell_type": "code",
      "source": [
        "products_df = pd.read_csv('products.csv')"
      ],
      "execution_count": 0,
      "outputs": []
    },
    {
      "metadata": {
        "id": "Zkw2NE3GmUIh",
        "colab_type": "code",
        "colab": {
          "base_uri": "https://localhost:8080/",
          "height": 34
        },
        "outputId": "42ad0aa8-d9e9-4b8e-f18e-db31034aa0ce"
      },
      "cell_type": "code",
      "source": [
        "products_df.shape"
      ],
      "execution_count": 25,
      "outputs": [
        {
          "output_type": "execute_result",
          "data": {
            "text/plain": [
              "(49688, 4)"
            ]
          },
          "metadata": {
            "tags": []
          },
          "execution_count": 25
        }
      ]
    },
    {
      "metadata": {
        "id": "A6Rz0mX0mWOR",
        "colab_type": "code",
        "colab": {
          "base_uri": "https://localhost:8080/",
          "height": 197
        },
        "outputId": "e8618665-b41a-42db-942b-f7345b2574bf"
      },
      "cell_type": "code",
      "source": [
        "products_df.head()"
      ],
      "execution_count": 26,
      "outputs": [
        {
          "output_type": "execute_result",
          "data": {
            "text/html": [
              "<div>\n",
              "<style scoped>\n",
              "    .dataframe tbody tr th:only-of-type {\n",
              "        vertical-align: middle;\n",
              "    }\n",
              "\n",
              "    .dataframe tbody tr th {\n",
              "        vertical-align: top;\n",
              "    }\n",
              "\n",
              "    .dataframe thead th {\n",
              "        text-align: right;\n",
              "    }\n",
              "</style>\n",
              "<table border=\"1\" class=\"dataframe\">\n",
              "  <thead>\n",
              "    <tr style=\"text-align: right;\">\n",
              "      <th></th>\n",
              "      <th>product_id</th>\n",
              "      <th>product_name</th>\n",
              "      <th>aisle_id</th>\n",
              "      <th>department_id</th>\n",
              "    </tr>\n",
              "  </thead>\n",
              "  <tbody>\n",
              "    <tr>\n",
              "      <th>0</th>\n",
              "      <td>1</td>\n",
              "      <td>Chocolate Sandwich Cookies</td>\n",
              "      <td>61</td>\n",
              "      <td>19</td>\n",
              "    </tr>\n",
              "    <tr>\n",
              "      <th>1</th>\n",
              "      <td>2</td>\n",
              "      <td>All-Seasons Salt</td>\n",
              "      <td>104</td>\n",
              "      <td>13</td>\n",
              "    </tr>\n",
              "    <tr>\n",
              "      <th>2</th>\n",
              "      <td>3</td>\n",
              "      <td>Robust Golden Unsweetened Oolong Tea</td>\n",
              "      <td>94</td>\n",
              "      <td>7</td>\n",
              "    </tr>\n",
              "    <tr>\n",
              "      <th>3</th>\n",
              "      <td>4</td>\n",
              "      <td>Smart Ones Classic Favorites Mini Rigatoni Wit...</td>\n",
              "      <td>38</td>\n",
              "      <td>1</td>\n",
              "    </tr>\n",
              "    <tr>\n",
              "      <th>4</th>\n",
              "      <td>5</td>\n",
              "      <td>Green Chile Anytime Sauce</td>\n",
              "      <td>5</td>\n",
              "      <td>13</td>\n",
              "    </tr>\n",
              "  </tbody>\n",
              "</table>\n",
              "</div>"
            ],
            "text/plain": [
              "   product_id                                       product_name  aisle_id  \\\n",
              "0           1                         Chocolate Sandwich Cookies        61   \n",
              "1           2                                   All-Seasons Salt       104   \n",
              "2           3               Robust Golden Unsweetened Oolong Tea        94   \n",
              "3           4  Smart Ones Classic Favorites Mini Rigatoni Wit...        38   \n",
              "4           5                          Green Chile Anytime Sauce         5   \n",
              "\n",
              "   department_id  \n",
              "0             19  \n",
              "1             13  \n",
              "2              7  \n",
              "3              1  \n",
              "4             13  "
            ]
          },
          "metadata": {
            "tags": []
          },
          "execution_count": 26
        }
      ]
    },
    {
      "metadata": {
        "id": "Ypzq-6Gkorx9",
        "colab_type": "code",
        "colab": {}
      },
      "cell_type": "code",
      "source": [
        "# has product_id product_name"
      ],
      "execution_count": 0,
      "outputs": []
    },
    {
      "metadata": {
        "id": "cbHumXOiJfy2",
        "colab_type": "text"
      },
      "cell_type": "markdown",
      "source": [
        "## Concatenate order_products__prior and order_products__train"
      ]
    },
    {
      "metadata": {
        "id": "TJ23kqpAY8Vv",
        "colab_type": "code",
        "colab": {}
      },
      "cell_type": "code",
      "source": [
        "order_products_df = pd.concat([order_products_prior_df, order_products_train_df])"
      ],
      "execution_count": 0,
      "outputs": []
    },
    {
      "metadata": {
        "id": "8TaG03KznAiq",
        "colab_type": "code",
        "colab": {
          "base_uri": "https://localhost:8080/",
          "height": 197
        },
        "outputId": "b5fd507f-d6f2-4095-d4fa-cdeccadbdb23"
      },
      "cell_type": "code",
      "source": [
        "order_products_df.head()"
      ],
      "execution_count": 29,
      "outputs": [
        {
          "output_type": "execute_result",
          "data": {
            "text/html": [
              "<div>\n",
              "<style scoped>\n",
              "    .dataframe tbody tr th:only-of-type {\n",
              "        vertical-align: middle;\n",
              "    }\n",
              "\n",
              "    .dataframe tbody tr th {\n",
              "        vertical-align: top;\n",
              "    }\n",
              "\n",
              "    .dataframe thead th {\n",
              "        text-align: right;\n",
              "    }\n",
              "</style>\n",
              "<table border=\"1\" class=\"dataframe\">\n",
              "  <thead>\n",
              "    <tr style=\"text-align: right;\">\n",
              "      <th></th>\n",
              "      <th>order_id</th>\n",
              "      <th>product_id</th>\n",
              "      <th>add_to_cart_order</th>\n",
              "      <th>reordered</th>\n",
              "    </tr>\n",
              "  </thead>\n",
              "  <tbody>\n",
              "    <tr>\n",
              "      <th>0</th>\n",
              "      <td>2</td>\n",
              "      <td>33120</td>\n",
              "      <td>1</td>\n",
              "      <td>1</td>\n",
              "    </tr>\n",
              "    <tr>\n",
              "      <th>1</th>\n",
              "      <td>2</td>\n",
              "      <td>28985</td>\n",
              "      <td>2</td>\n",
              "      <td>1</td>\n",
              "    </tr>\n",
              "    <tr>\n",
              "      <th>2</th>\n",
              "      <td>2</td>\n",
              "      <td>9327</td>\n",
              "      <td>3</td>\n",
              "      <td>0</td>\n",
              "    </tr>\n",
              "    <tr>\n",
              "      <th>3</th>\n",
              "      <td>2</td>\n",
              "      <td>45918</td>\n",
              "      <td>4</td>\n",
              "      <td>1</td>\n",
              "    </tr>\n",
              "    <tr>\n",
              "      <th>4</th>\n",
              "      <td>2</td>\n",
              "      <td>30035</td>\n",
              "      <td>5</td>\n",
              "      <td>0</td>\n",
              "    </tr>\n",
              "  </tbody>\n",
              "</table>\n",
              "</div>"
            ],
            "text/plain": [
              "   order_id  product_id  add_to_cart_order  reordered\n",
              "0         2       33120                  1          1\n",
              "1         2       28985                  2          1\n",
              "2         2        9327                  3          0\n",
              "3         2       45918                  4          1\n",
              "4         2       30035                  5          0"
            ]
          },
          "metadata": {
            "tags": []
          },
          "execution_count": 29
        }
      ]
    },
    {
      "metadata": {
        "id": "Z1YRw5ypJuv2",
        "colab_type": "text"
      },
      "cell_type": "markdown",
      "source": [
        "## Get a subset of orders — the first two orders for user id 1"
      ]
    },
    {
      "metadata": {
        "id": "YFBTseoyZAbj",
        "colab_type": "code",
        "colab": {
          "base_uri": "https://localhost:8080/",
          "height": 107
        },
        "outputId": "af725dbd-f7f4-4111-d212-75d08048ff64"
      },
      "cell_type": "code",
      "source": [
        "sub_df = (orders_df.loc[(orders_df.user_id == 1) &\n",
        "                        (orders_df.order_number <= 2)]\n",
        "                   .sort_values('order_number'))\n",
        "\n",
        "sub_df"
      ],
      "execution_count": 30,
      "outputs": [
        {
          "output_type": "execute_result",
          "data": {
            "text/html": [
              "<div>\n",
              "<style scoped>\n",
              "    .dataframe tbody tr th:only-of-type {\n",
              "        vertical-align: middle;\n",
              "    }\n",
              "\n",
              "    .dataframe tbody tr th {\n",
              "        vertical-align: top;\n",
              "    }\n",
              "\n",
              "    .dataframe thead th {\n",
              "        text-align: right;\n",
              "    }\n",
              "</style>\n",
              "<table border=\"1\" class=\"dataframe\">\n",
              "  <thead>\n",
              "    <tr style=\"text-align: right;\">\n",
              "      <th></th>\n",
              "      <th>order_id</th>\n",
              "      <th>user_id</th>\n",
              "      <th>eval_set</th>\n",
              "      <th>order_number</th>\n",
              "      <th>order_dow</th>\n",
              "      <th>order_hour_of_day</th>\n",
              "      <th>days_since_prior_order</th>\n",
              "    </tr>\n",
              "  </thead>\n",
              "  <tbody>\n",
              "    <tr>\n",
              "      <th>0</th>\n",
              "      <td>2539329</td>\n",
              "      <td>1</td>\n",
              "      <td>prior</td>\n",
              "      <td>1</td>\n",
              "      <td>2</td>\n",
              "      <td>8</td>\n",
              "      <td>NaN</td>\n",
              "    </tr>\n",
              "    <tr>\n",
              "      <th>1</th>\n",
              "      <td>2398795</td>\n",
              "      <td>1</td>\n",
              "      <td>prior</td>\n",
              "      <td>2</td>\n",
              "      <td>3</td>\n",
              "      <td>7</td>\n",
              "      <td>15.0</td>\n",
              "    </tr>\n",
              "  </tbody>\n",
              "</table>\n",
              "</div>"
            ],
            "text/plain": [
              "   order_id  user_id eval_set  order_number  order_dow  order_hour_of_day  \\\n",
              "0   2539329        1    prior             1          2                  8   \n",
              "1   2398795        1    prior             2          3                  7   \n",
              "\n",
              "   days_since_prior_order  \n",
              "0                     NaN  \n",
              "1                    15.0  "
            ]
          },
          "metadata": {
            "tags": []
          },
          "execution_count": 30
        }
      ]
    },
    {
      "metadata": {
        "id": "3K1p0QHuKPnt",
        "colab_type": "text"
      },
      "cell_type": "markdown",
      "source": [
        "## Merge dataframes"
      ]
    },
    {
      "metadata": {
        "id": "DaDcnygCLZvM",
        "colab_type": "code",
        "colab": {
          "base_uri": "https://localhost:8080/",
          "height": 312
        },
        "outputId": "683e91b5-aa95-4df4-cc3e-e1e9d61677c8"
      },
      "cell_type": "code",
      "source": [
        "display(example)"
      ],
      "execution_count": 39,
      "outputs": [
        {
          "output_type": "display_data",
          "data": {
            "text/html": [
              "<img src=\"https://cdn-images-1.medium.com/max/1600/1*vYGFQCafJtGBBX5mbl0xyw.png\" width=\"600\"/>"
            ],
            "text/plain": [
              "<IPython.core.display.Image object>"
            ]
          },
          "metadata": {
            "tags": []
          }
        }
      ]
    },
    {
      "metadata": {
        "id": "gIZelgr_oD3v",
        "colab_type": "code",
        "colab": {}
      },
      "cell_type": "code",
      "source": [
        "orders_cols = ['user_id', 'order_id', 'order_number', 'order_dow', 'order_hour_of_day']\n",
        "order_products_cols = ['order_id', 'add_to_cart_order', 'product_id']\n",
        "\n",
        "df = (sub_df[cols].merge(order_products_df[order_products_cols],\n",
        "                            how='left', on='order_id')\n",
        "                  .merge(products_df[['product_id', 'product_name']], \n",
        "                            how='left', on='product_id')\n",
        "                  .sort_values(['user_id', 'order_number']))"
      ],
      "execution_count": 0,
      "outputs": []
    },
    {
      "metadata": {
        "id": "yW60p7L3voov",
        "colab_type": "code",
        "colab": {
          "base_uri": "https://localhost:8080/",
          "height": 647
        },
        "outputId": "0fed5301-833c-4689-adb1-f61797e8f708"
      },
      "cell_type": "code",
      "source": [
        "df"
      ],
      "execution_count": 32,
      "outputs": [
        {
          "output_type": "execute_result",
          "data": {
            "text/html": [
              "<div>\n",
              "<style scoped>\n",
              "    .dataframe tbody tr th:only-of-type {\n",
              "        vertical-align: middle;\n",
              "    }\n",
              "\n",
              "    .dataframe tbody tr th {\n",
              "        vertical-align: top;\n",
              "    }\n",
              "\n",
              "    .dataframe thead th {\n",
              "        text-align: right;\n",
              "    }\n",
              "</style>\n",
              "<table border=\"1\" class=\"dataframe\">\n",
              "  <thead>\n",
              "    <tr style=\"text-align: right;\">\n",
              "      <th></th>\n",
              "      <th>user_id</th>\n",
              "      <th>order_id</th>\n",
              "      <th>order_number</th>\n",
              "      <th>order_dow</th>\n",
              "      <th>order_hour_of_day</th>\n",
              "      <th>add_to_cart_order</th>\n",
              "      <th>product_id</th>\n",
              "      <th>product_name</th>\n",
              "    </tr>\n",
              "  </thead>\n",
              "  <tbody>\n",
              "    <tr>\n",
              "      <th>0</th>\n",
              "      <td>1</td>\n",
              "      <td>2539329</td>\n",
              "      <td>1</td>\n",
              "      <td>2</td>\n",
              "      <td>8</td>\n",
              "      <td>1.0</td>\n",
              "      <td>196</td>\n",
              "      <td>Soda</td>\n",
              "    </tr>\n",
              "    <tr>\n",
              "      <th>1</th>\n",
              "      <td>1</td>\n",
              "      <td>2539329</td>\n",
              "      <td>1</td>\n",
              "      <td>2</td>\n",
              "      <td>8</td>\n",
              "      <td>2.0</td>\n",
              "      <td>14084</td>\n",
              "      <td>Organic Unsweetened Vanilla Almond Milk</td>\n",
              "    </tr>\n",
              "    <tr>\n",
              "      <th>2</th>\n",
              "      <td>1</td>\n",
              "      <td>2539329</td>\n",
              "      <td>1</td>\n",
              "      <td>2</td>\n",
              "      <td>8</td>\n",
              "      <td>3.0</td>\n",
              "      <td>12427</td>\n",
              "      <td>Original Beef Jerky</td>\n",
              "    </tr>\n",
              "    <tr>\n",
              "      <th>3</th>\n",
              "      <td>1</td>\n",
              "      <td>2539329</td>\n",
              "      <td>1</td>\n",
              "      <td>2</td>\n",
              "      <td>8</td>\n",
              "      <td>4.0</td>\n",
              "      <td>26088</td>\n",
              "      <td>Aged White Cheddar Popcorn</td>\n",
              "    </tr>\n",
              "    <tr>\n",
              "      <th>4</th>\n",
              "      <td>1</td>\n",
              "      <td>2539329</td>\n",
              "      <td>1</td>\n",
              "      <td>2</td>\n",
              "      <td>8</td>\n",
              "      <td>5.0</td>\n",
              "      <td>26405</td>\n",
              "      <td>XL Pick-A-Size Paper Towel Rolls</td>\n",
              "    </tr>\n",
              "    <tr>\n",
              "      <th>5</th>\n",
              "      <td>1</td>\n",
              "      <td>2398795</td>\n",
              "      <td>2</td>\n",
              "      <td>3</td>\n",
              "      <td>7</td>\n",
              "      <td>1.0</td>\n",
              "      <td>196</td>\n",
              "      <td>Soda</td>\n",
              "    </tr>\n",
              "    <tr>\n",
              "      <th>6</th>\n",
              "      <td>1</td>\n",
              "      <td>2398795</td>\n",
              "      <td>2</td>\n",
              "      <td>3</td>\n",
              "      <td>7</td>\n",
              "      <td>2.0</td>\n",
              "      <td>10258</td>\n",
              "      <td>Pistachios</td>\n",
              "    </tr>\n",
              "    <tr>\n",
              "      <th>7</th>\n",
              "      <td>1</td>\n",
              "      <td>2398795</td>\n",
              "      <td>2</td>\n",
              "      <td>3</td>\n",
              "      <td>7</td>\n",
              "      <td>3.0</td>\n",
              "      <td>12427</td>\n",
              "      <td>Original Beef Jerky</td>\n",
              "    </tr>\n",
              "    <tr>\n",
              "      <th>8</th>\n",
              "      <td>1</td>\n",
              "      <td>2398795</td>\n",
              "      <td>2</td>\n",
              "      <td>3</td>\n",
              "      <td>7</td>\n",
              "      <td>4.0</td>\n",
              "      <td>13176</td>\n",
              "      <td>Bag of Organic Bananas</td>\n",
              "    </tr>\n",
              "    <tr>\n",
              "      <th>9</th>\n",
              "      <td>1</td>\n",
              "      <td>2398795</td>\n",
              "      <td>2</td>\n",
              "      <td>3</td>\n",
              "      <td>7</td>\n",
              "      <td>5.0</td>\n",
              "      <td>26088</td>\n",
              "      <td>Aged White Cheddar Popcorn</td>\n",
              "    </tr>\n",
              "    <tr>\n",
              "      <th>10</th>\n",
              "      <td>1</td>\n",
              "      <td>2398795</td>\n",
              "      <td>2</td>\n",
              "      <td>3</td>\n",
              "      <td>7</td>\n",
              "      <td>6.0</td>\n",
              "      <td>13032</td>\n",
              "      <td>Cinnamon Toast Crunch</td>\n",
              "    </tr>\n",
              "    <tr>\n",
              "      <th>11</th>\n",
              "      <td>1</td>\n",
              "      <td>473747</td>\n",
              "      <td>3</td>\n",
              "      <td>3</td>\n",
              "      <td>12</td>\n",
              "      <td>1.0</td>\n",
              "      <td>196</td>\n",
              "      <td>Soda</td>\n",
              "    </tr>\n",
              "    <tr>\n",
              "      <th>12</th>\n",
              "      <td>1</td>\n",
              "      <td>473747</td>\n",
              "      <td>3</td>\n",
              "      <td>3</td>\n",
              "      <td>12</td>\n",
              "      <td>2.0</td>\n",
              "      <td>12427</td>\n",
              "      <td>Original Beef Jerky</td>\n",
              "    </tr>\n",
              "    <tr>\n",
              "      <th>13</th>\n",
              "      <td>1</td>\n",
              "      <td>473747</td>\n",
              "      <td>3</td>\n",
              "      <td>3</td>\n",
              "      <td>12</td>\n",
              "      <td>3.0</td>\n",
              "      <td>10258</td>\n",
              "      <td>Pistachios</td>\n",
              "    </tr>\n",
              "    <tr>\n",
              "      <th>14</th>\n",
              "      <td>1</td>\n",
              "      <td>473747</td>\n",
              "      <td>3</td>\n",
              "      <td>3</td>\n",
              "      <td>12</td>\n",
              "      <td>4.0</td>\n",
              "      <td>25133</td>\n",
              "      <td>Organic String Cheese</td>\n",
              "    </tr>\n",
              "    <tr>\n",
              "      <th>15</th>\n",
              "      <td>1</td>\n",
              "      <td>473747</td>\n",
              "      <td>3</td>\n",
              "      <td>3</td>\n",
              "      <td>12</td>\n",
              "      <td>5.0</td>\n",
              "      <td>30450</td>\n",
              "      <td>Creamy Almond Butter</td>\n",
              "    </tr>\n",
              "    <tr>\n",
              "      <th>16</th>\n",
              "      <td>1</td>\n",
              "      <td>2254736</td>\n",
              "      <td>4</td>\n",
              "      <td>4</td>\n",
              "      <td>7</td>\n",
              "      <td>1.0</td>\n",
              "      <td>196</td>\n",
              "      <td>Soda</td>\n",
              "    </tr>\n",
              "    <tr>\n",
              "      <th>17</th>\n",
              "      <td>1</td>\n",
              "      <td>2254736</td>\n",
              "      <td>4</td>\n",
              "      <td>4</td>\n",
              "      <td>7</td>\n",
              "      <td>2.0</td>\n",
              "      <td>12427</td>\n",
              "      <td>Original Beef Jerky</td>\n",
              "    </tr>\n",
              "    <tr>\n",
              "      <th>18</th>\n",
              "      <td>1</td>\n",
              "      <td>2254736</td>\n",
              "      <td>4</td>\n",
              "      <td>4</td>\n",
              "      <td>7</td>\n",
              "      <td>3.0</td>\n",
              "      <td>10258</td>\n",
              "      <td>Pistachios</td>\n",
              "    </tr>\n",
              "    <tr>\n",
              "      <th>19</th>\n",
              "      <td>1</td>\n",
              "      <td>2254736</td>\n",
              "      <td>4</td>\n",
              "      <td>4</td>\n",
              "      <td>7</td>\n",
              "      <td>4.0</td>\n",
              "      <td>25133</td>\n",
              "      <td>Organic String Cheese</td>\n",
              "    </tr>\n",
              "  </tbody>\n",
              "</table>\n",
              "</div>"
            ],
            "text/plain": [
              "    user_id  order_id  order_number  order_dow  order_hour_of_day  \\\n",
              "0         1   2539329             1          2                  8   \n",
              "1         1   2539329             1          2                  8   \n",
              "2         1   2539329             1          2                  8   \n",
              "3         1   2539329             1          2                  8   \n",
              "4         1   2539329             1          2                  8   \n",
              "5         1   2398795             2          3                  7   \n",
              "6         1   2398795             2          3                  7   \n",
              "7         1   2398795             2          3                  7   \n",
              "8         1   2398795             2          3                  7   \n",
              "9         1   2398795             2          3                  7   \n",
              "10        1   2398795             2          3                  7   \n",
              "11        1    473747             3          3                 12   \n",
              "12        1    473747             3          3                 12   \n",
              "13        1    473747             3          3                 12   \n",
              "14        1    473747             3          3                 12   \n",
              "15        1    473747             3          3                 12   \n",
              "16        1   2254736             4          4                  7   \n",
              "17        1   2254736             4          4                  7   \n",
              "18        1   2254736             4          4                  7   \n",
              "19        1   2254736             4          4                  7   \n",
              "\n",
              "    add_to_cart_order product_id                             product_name  \n",
              "0                 1.0        196                                     Soda  \n",
              "1                 2.0      14084  Organic Unsweetened Vanilla Almond Milk  \n",
              "2                 3.0      12427                      Original Beef Jerky  \n",
              "3                 4.0      26088               Aged White Cheddar Popcorn  \n",
              "4                 5.0      26405         XL Pick-A-Size Paper Towel Rolls  \n",
              "5                 1.0        196                                     Soda  \n",
              "6                 2.0      10258                               Pistachios  \n",
              "7                 3.0      12427                      Original Beef Jerky  \n",
              "8                 4.0      13176                   Bag of Organic Bananas  \n",
              "9                 5.0      26088               Aged White Cheddar Popcorn  \n",
              "10                6.0      13032                    Cinnamon Toast Crunch  \n",
              "11                1.0        196                                     Soda  \n",
              "12                2.0      12427                      Original Beef Jerky  \n",
              "13                3.0      10258                               Pistachios  \n",
              "14                4.0      25133                    Organic String Cheese  \n",
              "15                5.0      30450                     Creamy Almond Butter  \n",
              "16                1.0        196                                     Soda  \n",
              "17                2.0      12427                      Original Beef Jerky  \n",
              "18                3.0      10258                               Pistachios  \n",
              "19                4.0      25133                    Organic String Cheese  "
            ]
          },
          "metadata": {
            "tags": []
          },
          "execution_count": 32
        }
      ]
    },
    {
      "metadata": {
        "id": "kAMtvSQWPUcj",
        "colab_type": "text"
      },
      "cell_type": "markdown",
      "source": [
        "# Assignment\n",
        "\n",
        "These are the top 10 most frequently ordered products. How many times was each ordered? \n",
        "\n",
        "1. Banana\n",
        "2. Bag of Organic Bananas\n",
        "3. Organic Strawberries\n",
        "4. Organic Baby Spinach \n",
        "5. Organic Hass Avocado\n",
        "6. Organic Avocado\n",
        "7. Large Lemon \n",
        "8. Strawberries\n",
        "9. Limes \n",
        "10. Organic Whole Milk\n",
        "\n",
        "First, write down which columns you need and which dataframes have them.\n",
        "\n",
        "Next, merge these into a single dataframe.\n",
        "\n",
        "Then, use pandas functions from the previous lesson to get the counts of the top 10 most frequently ordered products.\n",
        "\n",
        "## Stretch challenge\n",
        "\n",
        "The [Instacart blog post](https://tech.instacart.com/3-million-instacart-orders-open-sourced-d40d29ead6f2) has a visualization of \"**Popular products** purchased earliest in the day (green) and latest in the day (red).\" \n",
        "\n",
        "The post says,\n",
        "\n",
        "> \"We can also see the time of day that users purchase specific products.\n",
        "\n",
        "> Healthier snacks and staples tend to be purchased earlier in the day, whereas ice cream (especially Half Baked and The Tonight Dough) are far more popular when customers are ordering in the evening.\n",
        "\n",
        "> **In fact, of the top 25 latest ordered products, the first 24 are ice cream! The last one, of course, is a frozen pizza.**\"\n",
        "\n",
        "Your challenge is to reproduce the list of the top 25 latest ordered popular products.\n",
        "\n",
        "We'll define \"popular products\" as products with more than 2,900 orders."
      ]
    },
    {
      "metadata": {
        "id": "bE_Wx4xe2ThI",
        "colab_type": "code",
        "colab": {}
      },
      "cell_type": "code",
      "source": [
        "orders_cols = ['user_id', 'order_id', 'order_number', 'order_dow', 'order_hour_of_day']\n",
        "order_products_cols = ['order_id', 'add_to_cart_order', 'product_id']\n",
        "\n",
        "df = (orders_df[cols].merge(order_products_df[order_products_cols],\n",
        "                            how='left', on='order_id')\n",
        "                     .merge(products_df[['product_id', 'product_name']], \n",
        "                            how='left', on='product_id')\n",
        "                     .sort_values(['user_id', 'order_number']))"
      ],
      "execution_count": 0,
      "outputs": []
    },
    {
      "metadata": {
        "id": "FlAfiPwI0tEh",
        "colab_type": "code",
        "colab": {
          "base_uri": "https://localhost:8080/",
          "height": 212
        },
        "outputId": "45b6fcf7-46d2-414b-c7a0-b813e7a14b2a"
      },
      "cell_type": "code",
      "source": [
        "df.product_name.value_counts()[0:10]"
      ],
      "execution_count": 36,
      "outputs": [
        {
          "output_type": "execute_result",
          "data": {
            "text/plain": [
              "Banana                    491291\n",
              "Bag of Organic Bananas    394930\n",
              "Organic Strawberries      275577\n",
              "Organic Baby Spinach      251705\n",
              "Organic Hass Avocado      220877\n",
              "Organic Avocado           184224\n",
              "Large Lemon               160792\n",
              "Strawberries              149445\n",
              "Limes                     146660\n",
              "Organic Whole Milk        142813\n",
              "Name: product_name, dtype: int64"
            ]
          },
          "metadata": {
            "tags": []
          },
          "execution_count": 36
        }
      ]
    },
    {
      "metadata": {
        "id": "es0RIUrN1Yqn",
        "colab_type": "code",
        "colab": {}
      },
      "cell_type": "code",
      "source": [
        "descripts_df = (df.groupby('product_name')\n",
        "                  .order_hour_of_day.agg(['mean', 'count']))\n",
        "                  #.loc[df['count'] > 2900])"
      ],
      "execution_count": 0,
      "outputs": []
    },
    {
      "metadata": {
        "id": "nEwuDS2i3V5f",
        "colab_type": "code",
        "colab": {
          "base_uri": "https://localhost:8080/",
          "height": 827
        },
        "outputId": "bc942594-b5d8-40a4-d0f9-929cb39a17ef"
      },
      "cell_type": "code",
      "source": [
        "(descripts_df.loc[descripts_df['count'] > 2900]\n",
        "             .sort_values('mean', ascending=False)\n",
        "             .iloc[:25])"
      ],
      "execution_count": 59,
      "outputs": [
        {
          "output_type": "execute_result",
          "data": {
            "text/html": [
              "<div>\n",
              "<style scoped>\n",
              "    .dataframe tbody tr th:only-of-type {\n",
              "        vertical-align: middle;\n",
              "    }\n",
              "\n",
              "    .dataframe tbody tr th {\n",
              "        vertical-align: top;\n",
              "    }\n",
              "\n",
              "    .dataframe thead th {\n",
              "        text-align: right;\n",
              "    }\n",
              "</style>\n",
              "<table border=\"1\" class=\"dataframe\">\n",
              "  <thead>\n",
              "    <tr style=\"text-align: right;\">\n",
              "      <th></th>\n",
              "      <th>mean</th>\n",
              "      <th>count</th>\n",
              "    </tr>\n",
              "    <tr>\n",
              "      <th>product_name</th>\n",
              "      <th></th>\n",
              "      <th></th>\n",
              "    </tr>\n",
              "  </thead>\n",
              "  <tbody>\n",
              "    <tr>\n",
              "      <th>Half Baked Frozen Yogurt</th>\n",
              "      <td>14.526986</td>\n",
              "      <td>2983</td>\n",
              "    </tr>\n",
              "    <tr>\n",
              "      <th>The Tonight Dough™ Ice Cream</th>\n",
              "      <td>14.526299</td>\n",
              "      <td>3137</td>\n",
              "    </tr>\n",
              "    <tr>\n",
              "      <th>Americone Dream® Ice Cream</th>\n",
              "      <td>14.394912</td>\n",
              "      <td>6447</td>\n",
              "    </tr>\n",
              "    <tr>\n",
              "      <th>Half Baked® Ice Cream</th>\n",
              "      <td>14.388942</td>\n",
              "      <td>6222</td>\n",
              "    </tr>\n",
              "    <tr>\n",
              "      <th>Phish Food® Ice Cream</th>\n",
              "      <td>14.373308</td>\n",
              "      <td>3177</td>\n",
              "    </tr>\n",
              "    <tr>\n",
              "      <th>Milk and Cookies Ice Cream</th>\n",
              "      <td>14.369711</td>\n",
              "      <td>5223</td>\n",
              "    </tr>\n",
              "    <tr>\n",
              "      <th>Sicilian Pistachio</th>\n",
              "      <td>14.306421</td>\n",
              "      <td>3146</td>\n",
              "    </tr>\n",
              "    <tr>\n",
              "      <th>Chocolate Peanut Butter Cup Gelato</th>\n",
              "      <td>14.303480</td>\n",
              "      <td>4511</td>\n",
              "    </tr>\n",
              "    <tr>\n",
              "      <th>Birthday Cake Light Ice Cream</th>\n",
              "      <td>14.292018</td>\n",
              "      <td>5462</td>\n",
              "    </tr>\n",
              "    <tr>\n",
              "      <th>Cherry Garcia Ice Cream</th>\n",
              "      <td>14.270300</td>\n",
              "      <td>4495</td>\n",
              "    </tr>\n",
              "    <tr>\n",
              "      <th>Strawberry Ice Cream</th>\n",
              "      <td>14.268841</td>\n",
              "      <td>6409</td>\n",
              "    </tr>\n",
              "    <tr>\n",
              "      <th>Vanilla Bean Light Ice Cream</th>\n",
              "      <td>14.257849</td>\n",
              "      <td>5096</td>\n",
              "    </tr>\n",
              "    <tr>\n",
              "      <th>Coffee Ice Cream</th>\n",
              "      <td>14.256280</td>\n",
              "      <td>3941</td>\n",
              "    </tr>\n",
              "    <tr>\n",
              "      <th>Roman Raspberry Sorbetto</th>\n",
              "      <td>14.248191</td>\n",
              "      <td>3179</td>\n",
              "    </tr>\n",
              "    <tr>\n",
              "      <th>Mediterranean Mint Gelato</th>\n",
              "      <td>14.233542</td>\n",
              "      <td>7656</td>\n",
              "    </tr>\n",
              "    <tr>\n",
              "      <th>Caramel Cookie Crunch Gelato</th>\n",
              "      <td>14.224069</td>\n",
              "      <td>5717</td>\n",
              "    </tr>\n",
              "    <tr>\n",
              "      <th>Chocolate Chip Cookie Dough Ice Cream</th>\n",
              "      <td>14.204325</td>\n",
              "      <td>8555</td>\n",
              "    </tr>\n",
              "    <tr>\n",
              "      <th>Mint Chip</th>\n",
              "      <td>14.189235</td>\n",
              "      <td>5871</td>\n",
              "    </tr>\n",
              "    <tr>\n",
              "      <th>Coconut Almond Minis Frozen Dessert Bars</th>\n",
              "      <td>14.156069</td>\n",
              "      <td>3460</td>\n",
              "    </tr>\n",
              "    <tr>\n",
              "      <th>Mint Chocolate Chip Ice Cream</th>\n",
              "      <td>14.134992</td>\n",
              "      <td>3578</td>\n",
              "    </tr>\n",
              "    <tr>\n",
              "      <th>Chocolate Peanut Butter Ice Cream</th>\n",
              "      <td>14.120449</td>\n",
              "      <td>3653</td>\n",
              "    </tr>\n",
              "    <tr>\n",
              "      <th>Vanilla Milk Chocolate Almond Ice Cream Bars</th>\n",
              "      <td>14.104662</td>\n",
              "      <td>4290</td>\n",
              "    </tr>\n",
              "    <tr>\n",
              "      <th>Sea Salt Caramel Gelato</th>\n",
              "      <td>14.083895</td>\n",
              "      <td>6973</td>\n",
              "    </tr>\n",
              "    <tr>\n",
              "      <th>Vanilla Bean Ice Cream</th>\n",
              "      <td>14.039406</td>\n",
              "      <td>4644</td>\n",
              "    </tr>\n",
              "    <tr>\n",
              "      <th>Rising Crust Pepperoni Pizza</th>\n",
              "      <td>14.027699</td>\n",
              "      <td>3863</td>\n",
              "    </tr>\n",
              "  </tbody>\n",
              "</table>\n",
              "</div>"
            ],
            "text/plain": [
              "                                                   mean  count\n",
              "product_name                                                  \n",
              "Half Baked Frozen Yogurt                      14.526986   2983\n",
              "The Tonight Dough™ Ice Cream                  14.526299   3137\n",
              "Americone Dream® Ice Cream                    14.394912   6447\n",
              "Half Baked® Ice Cream                         14.388942   6222\n",
              "Phish Food® Ice Cream                         14.373308   3177\n",
              "Milk and Cookies Ice Cream                    14.369711   5223\n",
              "Sicilian Pistachio                            14.306421   3146\n",
              "Chocolate Peanut Butter Cup Gelato            14.303480   4511\n",
              "Birthday Cake Light Ice Cream                 14.292018   5462\n",
              "Cherry Garcia Ice Cream                       14.270300   4495\n",
              "Strawberry Ice Cream                          14.268841   6409\n",
              "Vanilla Bean Light Ice Cream                  14.257849   5096\n",
              "Coffee Ice Cream                              14.256280   3941\n",
              "Roman Raspberry Sorbetto                      14.248191   3179\n",
              "Mediterranean Mint Gelato                     14.233542   7656\n",
              "Caramel Cookie Crunch Gelato                  14.224069   5717\n",
              "Chocolate Chip Cookie Dough Ice Cream         14.204325   8555\n",
              "Mint Chip                                     14.189235   5871\n",
              "Coconut Almond Minis Frozen Dessert Bars      14.156069   3460\n",
              "Mint Chocolate Chip Ice Cream                 14.134992   3578\n",
              "Chocolate Peanut Butter Ice Cream             14.120449   3653\n",
              "Vanilla Milk Chocolate Almond Ice Cream Bars  14.104662   4290\n",
              "Sea Salt Caramel Gelato                       14.083895   6973\n",
              "Vanilla Bean Ice Cream                        14.039406   4644\n",
              "Rising Crust Pepperoni Pizza                  14.027699   3863"
            ]
          },
          "metadata": {
            "tags": []
          },
          "execution_count": 59
        }
      ]
    }
  ]
}