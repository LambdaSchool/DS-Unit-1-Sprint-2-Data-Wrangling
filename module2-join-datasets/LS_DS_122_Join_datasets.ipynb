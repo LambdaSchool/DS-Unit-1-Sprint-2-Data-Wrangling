{
  "nbformat": 4,
  "nbformat_minor": 0,
  "metadata": {
    "colab": {
      "name": "LS_DS_122_Join_datasets.ipynb",
      "version": "0.3.2",
      "provenance": [],
      "collapsed_sections": [],
      "include_colab_link": true
    },
    "kernelspec": {
      "display_name": "Python 3",
      "language": "python",
      "name": "python3"
    }
  },
  "cells": [
    {
      "cell_type": "markdown",
      "metadata": {
        "id": "view-in-github",
        "colab_type": "text"
      },
      "source": [
        "<a href=\"https://colab.research.google.com/github/bundickm/DS-Unit-1-Sprint-2-Data-Wrangling/blob/master/module2-join-datasets/LS_DS_122_Join_datasets.ipynb\" target=\"_parent\"><img src=\"https://colab.research.google.com/assets/colab-badge.svg\" alt=\"Open In Colab\"/></a>"
      ]
    },
    {
      "metadata": {
        "colab_type": "text",
        "id": "pmU5YUal1eTZ"
      },
      "cell_type": "markdown",
      "source": [
        "_Lambda School Data Science_\n",
        "\n",
        "# Join datasets\n",
        "\n",
        "Objectives\n",
        "- concatenate data with pandas\n",
        "- merge data with pandas\n",
        "\n",
        "Links\n",
        "- [Pandas Cheat Sheet](https://github.com/pandas-dev/pandas/blob/master/doc/cheatsheet/Pandas_Cheat_Sheet.pdf)\n",
        "  - Combine Data Sets: Standard Joins\n",
        "- Python Data Science Handbook\n",
        "  - [Chapter 3.6](https://jakevdp.github.io/PythonDataScienceHandbook/03.06-concat-and-append.html), Combining Datasets: Concat and Append\n",
        "  - [Chapter 3.7](https://jakevdp.github.io/PythonDataScienceHandbook/03.07-merge-and-join.html), Combining Datasets: Merge and Join"
      ]
    },
    {
      "metadata": {
        "colab_type": "text",
        "id": "Mmi3J5fXrwZ3"
      },
      "cell_type": "markdown",
      "source": [
        "## Download data\n",
        "\n",
        "We’ll work with a dataset of [3 Million Instacart Orders, Open Sourced](https://tech.instacart.com/3-million-instacart-orders-open-sourced-d40d29ead6f2)!"
      ]
    },
    {
      "metadata": {
        "colab_type": "code",
        "id": "K2kcrJVybjrW",
        "outputId": "dbc11519-1d35-488f-d4bb-2ed3ebb65b96",
        "colab": {
          "base_uri": "https://localhost:8080/",
          "height": 217
        }
      },
      "cell_type": "code",
      "source": [
        "!wget https://s3.amazonaws.com/instacart-datasets/instacart_online_grocery_shopping_2017_05_01.tar.gz"
      ],
      "execution_count": 2,
      "outputs": [
        {
          "output_type": "stream",
          "text": [
            "--2019-03-27 00:07:53--  https://s3.amazonaws.com/instacart-datasets/instacart_online_grocery_shopping_2017_05_01.tar.gz\n",
            "Resolving s3.amazonaws.com (s3.amazonaws.com)... 52.216.112.117\n",
            "Connecting to s3.amazonaws.com (s3.amazonaws.com)|52.216.112.117|:443... connected.\n",
            "HTTP request sent, awaiting response... 200 OK\n",
            "Length: 205548478 (196M) [application/x-gzip]\n",
            "Saving to: ‘instacart_online_grocery_shopping_2017_05_01.tar.gz’\n",
            "\n",
            "instacart_online_gr 100%[===================>] 196.03M  63.2MB/s    in 3.1s    \n",
            "\n",
            "2019-03-27 00:07:57 (63.2 MB/s) - ‘instacart_online_grocery_shopping_2017_05_01.tar.gz’ saved [205548478/205548478]\n",
            "\n"
          ],
          "name": "stdout"
        }
      ]
    },
    {
      "metadata": {
        "colab_type": "code",
        "id": "kqX40b2kdgAb",
        "outputId": "bf40bfb2-8976-4817-f634-c0e8e7656972",
        "colab": {
          "base_uri": "https://localhost:8080/",
          "height": 254
        }
      },
      "cell_type": "code",
      "source": [
        "!tar --gunzip --extract --verbose --file=instacart_online_grocery_shopping_2017_05_01.tar.gz"
      ],
      "execution_count": 3,
      "outputs": [
        {
          "output_type": "stream",
          "text": [
            "instacart_2017_05_01/\n",
            "instacart_2017_05_01/._aisles.csv\n",
            "instacart_2017_05_01/aisles.csv\n",
            "instacart_2017_05_01/._departments.csv\n",
            "instacart_2017_05_01/departments.csv\n",
            "instacart_2017_05_01/._order_products__prior.csv\n",
            "instacart_2017_05_01/order_products__prior.csv\n",
            "instacart_2017_05_01/._order_products__train.csv\n",
            "instacart_2017_05_01/order_products__train.csv\n",
            "instacart_2017_05_01/._orders.csv\n",
            "instacart_2017_05_01/orders.csv\n",
            "instacart_2017_05_01/._products.csv\n",
            "instacart_2017_05_01/products.csv\n"
          ],
          "name": "stdout"
        }
      ]
    },
    {
      "metadata": {
        "colab_type": "code",
        "id": "YbCvZZCBfHCI",
        "outputId": "67551f66-72d8-45c0-cb25-2ecd86989bfd",
        "colab": {
          "base_uri": "https://localhost:8080/",
          "height": 35
        }
      },
      "cell_type": "code",
      "source": [
        "%cd instacart_2017_05_01"
      ],
      "execution_count": 4,
      "outputs": [
        {
          "output_type": "stream",
          "text": [
            "/content/instacart_2017_05_01\n"
          ],
          "name": "stdout"
        }
      ]
    },
    {
      "metadata": {
        "colab_type": "text",
        "id": "RsA14wiKr03j"
      },
      "cell_type": "markdown",
      "source": [
        "## Goal: Reproduce this example\n",
        "\n",
        "The first two orders for user id 1:"
      ]
    },
    {
      "metadata": {
        "colab_type": "code",
        "id": "vLqOTMcfjprg",
        "outputId": "ca27b6c1-8b21-4fcf-e03b-cfe609800fd3",
        "colab": {
          "base_uri": "https://localhost:8080/",
          "height": 312
        }
      },
      "cell_type": "code",
      "source": [
        "from IPython.display import display, Image\n",
        "url = 'https://cdn-images-1.medium.com/max/1600/1*vYGFQCafJtGBBX5mbl0xyw.png'\n",
        "example = Image(url=url, width=600)\n",
        "\n",
        "display(example)"
      ],
      "execution_count": 5,
      "outputs": [
        {
          "output_type": "display_data",
          "data": {
            "text/html": [
              "<img src=\"https://cdn-images-1.medium.com/max/1600/1*vYGFQCafJtGBBX5mbl0xyw.png\" width=\"600\"/>"
            ],
            "text/plain": [
              "<IPython.core.display.Image object>"
            ]
          },
          "metadata": {
            "tags": []
          }
        }
      ]
    },
    {
      "metadata": {
        "colab_type": "text",
        "id": "nPwG8aM_txl4"
      },
      "cell_type": "markdown",
      "source": [
        "## Load data\n",
        "\n",
        "Here's a list of all six CSV filenames"
      ]
    },
    {
      "metadata": {
        "colab_type": "code",
        "id": "Ksah0cOrfdJQ",
        "outputId": "c564117c-6c7e-48d7-d1a2-bb7e4b3c07bb",
        "colab": {
          "base_uri": "https://localhost:8080/",
          "height": 144
        }
      },
      "cell_type": "code",
      "source": [
        "!ls -lh"
      ],
      "execution_count": 6,
      "outputs": [
        {
          "output_type": "stream",
          "text": [
            "total 681M\n",
            "-rw-r--r-- 1 502 staff 2.6K May  2  2017 aisles.csv\n",
            "-rw-r--r-- 1 502 staff  270 May  2  2017 departments.csv\n",
            "-rw-r--r-- 1 502 staff 551M May  2  2017 order_products__prior.csv\n",
            "-rw-r--r-- 1 502 staff  24M May  2  2017 order_products__train.csv\n",
            "-rw-r--r-- 1 502 staff 104M May  2  2017 orders.csv\n",
            "-rw-r--r-- 1 502 staff 2.1M May  2  2017 products.csv\n"
          ],
          "name": "stdout"
        }
      ]
    },
    {
      "metadata": {
        "colab_type": "text",
        "id": "AHT7fKuxvPgV"
      },
      "cell_type": "markdown",
      "source": [
        "For each CSV\n",
        "- Load it with pandas\n",
        "- Look at the dataframe's shape\n",
        "- Look at its head (first rows)\n",
        "- `display(example)`\n",
        "- Which columns does it have in common with the example we want to reproduce?"
      ]
    },
    {
      "metadata": {
        "id": "RXr2H_J4wQUS",
        "colab_type": "code",
        "colab": {}
      },
      "cell_type": "code",
      "source": [
        "import pandas as pd"
      ],
      "execution_count": 0,
      "outputs": []
    },
    {
      "metadata": {
        "colab_type": "text",
        "id": "cB_5T6TprcUH"
      },
      "cell_type": "markdown",
      "source": [
        "### aisles"
      ]
    },
    {
      "metadata": {
        "colab_type": "code",
        "id": "JB3bvwSDK6v3",
        "outputId": "d0a09550-23c1-497e-a1c2-826a3a891d5e",
        "colab": {
          "base_uri": "https://localhost:8080/",
          "height": 440
        }
      },
      "cell_type": "code",
      "source": [
        "aisles = pd.read_csv('aisles.csv')\n",
        "print(aisles.shape)\n",
        "print(aisles.head())\n",
        "display(example)"
      ],
      "execution_count": 8,
      "outputs": [
        {
          "output_type": "stream",
          "text": [
            "(134, 2)\n",
            "   aisle_id                       aisle\n",
            "0         1       prepared soups salads\n",
            "1         2           specialty cheeses\n",
            "2         3         energy granola bars\n",
            "3         4               instant foods\n",
            "4         5  marinades meat preparation\n"
          ],
          "name": "stdout"
        },
        {
          "output_type": "display_data",
          "data": {
            "text/html": [
              "<img src=\"https://cdn-images-1.medium.com/max/1600/1*vYGFQCafJtGBBX5mbl0xyw.png\" width=\"600\"/>"
            ],
            "text/plain": [
              "<IPython.core.display.Image object>"
            ]
          },
          "metadata": {
            "tags": []
          }
        }
      ]
    },
    {
      "metadata": {
        "colab_type": "text",
        "id": "9-GrkqM6rfXr"
      },
      "cell_type": "markdown",
      "source": [
        "### departments"
      ]
    },
    {
      "metadata": {
        "colab_type": "code",
        "id": "NYIcif0dK9_5",
        "outputId": "f13d90a4-dc4a-46db-e6d6-5b1d00c1e712",
        "colab": {
          "base_uri": "https://localhost:8080/",
          "height": 440
        }
      },
      "cell_type": "code",
      "source": [
        "departments = pd.read_csv('departments.csv')\n",
        "print(departments.shape)\n",
        "print(departments.head())\n",
        "display(example)"
      ],
      "execution_count": 9,
      "outputs": [
        {
          "output_type": "stream",
          "text": [
            "(21, 2)\n",
            "   department_id department\n",
            "0              1     frozen\n",
            "1              2      other\n",
            "2              3     bakery\n",
            "3              4    produce\n",
            "4              5    alcohol\n"
          ],
          "name": "stdout"
        },
        {
          "output_type": "display_data",
          "data": {
            "text/html": [
              "<img src=\"https://cdn-images-1.medium.com/max/1600/1*vYGFQCafJtGBBX5mbl0xyw.png\" width=\"600\"/>"
            ],
            "text/plain": [
              "<IPython.core.display.Image object>"
            ]
          },
          "metadata": {
            "tags": []
          }
        }
      ]
    },
    {
      "metadata": {
        "colab_type": "text",
        "id": "VhhVcn9kK-nG"
      },
      "cell_type": "markdown",
      "source": [
        "### order_products__prior"
      ]
    },
    {
      "metadata": {
        "colab_type": "code",
        "id": "-49qTkPlLBT_",
        "outputId": "8e251884-3861-4431-911d-68e398f7aae9",
        "colab": {
          "base_uri": "https://localhost:8080/",
          "height": 440
        }
      },
      "cell_type": "code",
      "source": [
        "order_products_prior = pd.read_csv('order_products__prior.csv')\n",
        "print(order_products_prior.shape)\n",
        "print(order_products_prior.head())\n",
        "display(example)"
      ],
      "execution_count": 10,
      "outputs": [
        {
          "output_type": "stream",
          "text": [
            "(32434489, 4)\n",
            "   order_id  product_id  add_to_cart_order  reordered\n",
            "0         2       33120                  1          1\n",
            "1         2       28985                  2          1\n",
            "2         2        9327                  3          0\n",
            "3         2       45918                  4          1\n",
            "4         2       30035                  5          0\n"
          ],
          "name": "stdout"
        },
        {
          "output_type": "display_data",
          "data": {
            "text/html": [
              "<img src=\"https://cdn-images-1.medium.com/max/1600/1*vYGFQCafJtGBBX5mbl0xyw.png\" width=\"600\"/>"
            ],
            "text/plain": [
              "<IPython.core.display.Image object>"
            ]
          },
          "metadata": {
            "tags": []
          }
        }
      ]
    },
    {
      "metadata": {
        "id": "QNV9LVCwzqVJ",
        "colab_type": "code",
        "outputId": "fbabfbae-83e5-4a82-924f-30b07c085067",
        "colab": {
          "base_uri": "https://localhost:8080/",
          "height": 1164
        }
      },
      "cell_type": "code",
      "source": [
        "order_products_prior.groupby('order_id')['product_id'].count()"
      ],
      "execution_count": 11,
      "outputs": [
        {
          "output_type": "execute_result",
          "data": {
            "text/plain": [
              "order_id\n",
              "2           9\n",
              "3           8\n",
              "4          13\n",
              "5          26\n",
              "6           3\n",
              "7           2\n",
              "8           1\n",
              "9          15\n",
              "10         15\n",
              "11          5\n",
              "12         15\n",
              "13         13\n",
              "14         11\n",
              "15          5\n",
              "16          3\n",
              "18         28\n",
              "19          3\n",
              "20          8\n",
              "21          5\n",
              "22         14\n",
              "23         14\n",
              "24          3\n",
              "25         14\n",
              "26          8\n",
              "27         27\n",
              "28         16\n",
              "29          5\n",
              "30          3\n",
              "31         10\n",
              "32          9\n",
              "           ..\n",
              "3421048     8\n",
              "3421050    13\n",
              "3421051    31\n",
              "3421052     2\n",
              "3421053     9\n",
              "3421055    19\n",
              "3421057     5\n",
              "3421059     6\n",
              "3421060    17\n",
              "3421061    22\n",
              "3421062     7\n",
              "3421064     3\n",
              "3421065     5\n",
              "3421066     6\n",
              "3421067     1\n",
              "3421068    14\n",
              "3421069    12\n",
              "3421071     5\n",
              "3421072    12\n",
              "3421073     2\n",
              "3421074     4\n",
              "3421075     8\n",
              "3421076     8\n",
              "3421077     4\n",
              "3421078     9\n",
              "3421079     1\n",
              "3421080     9\n",
              "3421081     7\n",
              "3421082     7\n",
              "3421083    10\n",
              "Name: product_id, Length: 3214874, dtype: int64"
            ]
          },
          "metadata": {
            "tags": []
          },
          "execution_count": 11
        }
      ]
    },
    {
      "metadata": {
        "colab_type": "text",
        "id": "HVYJEKJcLBut"
      },
      "cell_type": "markdown",
      "source": [
        "### order_products__train"
      ]
    },
    {
      "metadata": {
        "colab_type": "code",
        "id": "gbPKUMb3LDxb",
        "outputId": "68bedd88-5f5d-4d3e-ed91-6aae0ed4a1b1",
        "colab": {
          "base_uri": "https://localhost:8080/",
          "height": 440
        }
      },
      "cell_type": "code",
      "source": [
        "order_products_train = pd.read_csv('order_products__train.csv')\n",
        "print(order_products_train.shape)\n",
        "print(order_products_train.head())\n",
        "display(example)"
      ],
      "execution_count": 12,
      "outputs": [
        {
          "output_type": "stream",
          "text": [
            "(1384617, 4)\n",
            "   order_id  product_id  add_to_cart_order  reordered\n",
            "0         1       49302                  1          1\n",
            "1         1       11109                  2          1\n",
            "2         1       10246                  3          0\n",
            "3         1       49683                  4          0\n",
            "4         1       43633                  5          1\n"
          ],
          "name": "stdout"
        },
        {
          "output_type": "display_data",
          "data": {
            "text/html": [
              "<img src=\"https://cdn-images-1.medium.com/max/1600/1*vYGFQCafJtGBBX5mbl0xyw.png\" width=\"600\"/>"
            ],
            "text/plain": [
              "<IPython.core.display.Image object>"
            ]
          },
          "metadata": {
            "tags": []
          }
        }
      ]
    },
    {
      "metadata": {
        "colab_type": "text",
        "id": "LYPrWUJnrp7G"
      },
      "cell_type": "markdown",
      "source": [
        "### orders"
      ]
    },
    {
      "metadata": {
        "colab_type": "code",
        "id": "aFyl_7vyLJxS",
        "outputId": "c5d94f70-a0d4-4104-d030-4338f99c9f39",
        "colab": {
          "base_uri": "https://localhost:8080/",
          "height": 567
        }
      },
      "cell_type": "code",
      "source": [
        "orders = pd.read_csv('orders.csv')\n",
        "print(orders.shape)\n",
        "print(orders.head())\n",
        "display(example)"
      ],
      "execution_count": 13,
      "outputs": [
        {
          "output_type": "stream",
          "text": [
            "(3421083, 7)\n",
            "   order_id  user_id eval_set  order_number  order_dow  order_hour_of_day  \\\n",
            "0   2539329        1    prior             1          2                  8   \n",
            "1   2398795        1    prior             2          3                  7   \n",
            "2    473747        1    prior             3          3                 12   \n",
            "3   2254736        1    prior             4          4                  7   \n",
            "4    431534        1    prior             5          4                 15   \n",
            "\n",
            "   days_since_prior_order  \n",
            "0                     NaN  \n",
            "1                    15.0  \n",
            "2                    21.0  \n",
            "3                    29.0  \n",
            "4                    28.0  \n"
          ],
          "name": "stdout"
        },
        {
          "output_type": "display_data",
          "data": {
            "text/html": [
              "<img src=\"https://cdn-images-1.medium.com/max/1600/1*vYGFQCafJtGBBX5mbl0xyw.png\" width=\"600\"/>"
            ],
            "text/plain": [
              "<IPython.core.display.Image object>"
            ]
          },
          "metadata": {
            "tags": []
          }
        }
      ]
    },
    {
      "metadata": {
        "id": "xFpc_X-HdBEW",
        "colab_type": "code",
        "outputId": "616b4097-368e-4f3c-8803-323f91983d89",
        "colab": {
          "base_uri": "https://localhost:8080/",
          "height": 35
        }
      },
      "cell_type": "code",
      "source": [
        "orders['eval_set'].unique()"
      ],
      "execution_count": 14,
      "outputs": [
        {
          "output_type": "execute_result",
          "data": {
            "text/plain": [
              "array(['prior', 'train', 'test'], dtype=object)"
            ]
          },
          "metadata": {
            "tags": []
          },
          "execution_count": 14
        }
      ]
    },
    {
      "metadata": {
        "colab_type": "text",
        "id": "nIX3SYXersao"
      },
      "cell_type": "markdown",
      "source": [
        "### products"
      ]
    },
    {
      "metadata": {
        "colab_type": "code",
        "id": "9icvQgRfLLU1",
        "outputId": "c816b316-ac3a-479c-ce7d-fb393b319553",
        "colab": {
          "base_uri": "https://localhost:8080/",
          "height": 567
        }
      },
      "cell_type": "code",
      "source": [
        "products = pd.read_csv('products.csv')\n",
        "print(products.shape)\n",
        "print(products.head())\n",
        "display(example)"
      ],
      "execution_count": 15,
      "outputs": [
        {
          "output_type": "stream",
          "text": [
            "(49688, 4)\n",
            "   product_id                                       product_name  aisle_id  \\\n",
            "0           1                         Chocolate Sandwich Cookies        61   \n",
            "1           2                                   All-Seasons Salt       104   \n",
            "2           3               Robust Golden Unsweetened Oolong Tea        94   \n",
            "3           4  Smart Ones Classic Favorites Mini Rigatoni Wit...        38   \n",
            "4           5                          Green Chile Anytime Sauce         5   \n",
            "\n",
            "   department_id  \n",
            "0             19  \n",
            "1             13  \n",
            "2              7  \n",
            "3              1  \n",
            "4             13  \n"
          ],
          "name": "stdout"
        },
        {
          "output_type": "display_data",
          "data": {
            "text/html": [
              "<img src=\"https://cdn-images-1.medium.com/max/1600/1*vYGFQCafJtGBBX5mbl0xyw.png\" width=\"600\"/>"
            ],
            "text/plain": [
              "<IPython.core.display.Image object>"
            ]
          },
          "metadata": {
            "tags": []
          }
        }
      ]
    },
    {
      "metadata": {
        "colab_type": "text",
        "id": "cbHumXOiJfy2"
      },
      "cell_type": "markdown",
      "source": [
        "## Concatenate order_products__prior and order_products__train"
      ]
    },
    {
      "metadata": {
        "colab_type": "code",
        "id": "TJ23kqpAY8Vv",
        "outputId": "ce1bf6a6-ab8b-4cac-d356-5f2121f1a288",
        "colab": {
          "base_uri": "https://localhost:8080/",
          "height": 224
        }
      },
      "cell_type": "code",
      "source": [
        "order_products = pd.concat([order_products_prior, order_products_train])\n",
        "print(order_products.shape)\n",
        "order_products.head()"
      ],
      "execution_count": 16,
      "outputs": [
        {
          "output_type": "stream",
          "text": [
            "(33819106, 4)\n"
          ],
          "name": "stdout"
        },
        {
          "output_type": "execute_result",
          "data": {
            "text/html": [
              "<div>\n",
              "<style scoped>\n",
              "    .dataframe tbody tr th:only-of-type {\n",
              "        vertical-align: middle;\n",
              "    }\n",
              "\n",
              "    .dataframe tbody tr th {\n",
              "        vertical-align: top;\n",
              "    }\n",
              "\n",
              "    .dataframe thead th {\n",
              "        text-align: right;\n",
              "    }\n",
              "</style>\n",
              "<table border=\"1\" class=\"dataframe\">\n",
              "  <thead>\n",
              "    <tr style=\"text-align: right;\">\n",
              "      <th></th>\n",
              "      <th>order_id</th>\n",
              "      <th>product_id</th>\n",
              "      <th>add_to_cart_order</th>\n",
              "      <th>reordered</th>\n",
              "    </tr>\n",
              "  </thead>\n",
              "  <tbody>\n",
              "    <tr>\n",
              "      <th>0</th>\n",
              "      <td>2</td>\n",
              "      <td>33120</td>\n",
              "      <td>1</td>\n",
              "      <td>1</td>\n",
              "    </tr>\n",
              "    <tr>\n",
              "      <th>1</th>\n",
              "      <td>2</td>\n",
              "      <td>28985</td>\n",
              "      <td>2</td>\n",
              "      <td>1</td>\n",
              "    </tr>\n",
              "    <tr>\n",
              "      <th>2</th>\n",
              "      <td>2</td>\n",
              "      <td>9327</td>\n",
              "      <td>3</td>\n",
              "      <td>0</td>\n",
              "    </tr>\n",
              "    <tr>\n",
              "      <th>3</th>\n",
              "      <td>2</td>\n",
              "      <td>45918</td>\n",
              "      <td>4</td>\n",
              "      <td>1</td>\n",
              "    </tr>\n",
              "    <tr>\n",
              "      <th>4</th>\n",
              "      <td>2</td>\n",
              "      <td>30035</td>\n",
              "      <td>5</td>\n",
              "      <td>0</td>\n",
              "    </tr>\n",
              "  </tbody>\n",
              "</table>\n",
              "</div>"
            ],
            "text/plain": [
              "   order_id  product_id  add_to_cart_order  reordered\n",
              "0         2       33120                  1          1\n",
              "1         2       28985                  2          1\n",
              "2         2        9327                  3          0\n",
              "3         2       45918                  4          1\n",
              "4         2       30035                  5          0"
            ]
          },
          "metadata": {
            "tags": []
          },
          "execution_count": 16
        }
      ]
    },
    {
      "metadata": {
        "id": "SRv08UoU3RO7",
        "colab_type": "code",
        "outputId": "5f63017d-dc41-4788-ed9c-28e98f8509f7",
        "colab": {
          "base_uri": "https://localhost:8080/",
          "height": 35
        }
      },
      "cell_type": "code",
      "source": [
        "len(order_products) == len(order_products_prior) + len(order_products_train)"
      ],
      "execution_count": 17,
      "outputs": [
        {
          "output_type": "execute_result",
          "data": {
            "text/plain": [
              "True"
            ]
          },
          "metadata": {
            "tags": []
          },
          "execution_count": 17
        }
      ]
    },
    {
      "metadata": {
        "id": "_1WjHftF5ZJz",
        "colab_type": "code",
        "outputId": "a657c3b4-8e22-428e-9c7e-c3592f582921",
        "colab": {
          "base_uri": "https://localhost:8080/",
          "height": 312
        }
      },
      "cell_type": "code",
      "source": [
        "display(example)"
      ],
      "execution_count": 18,
      "outputs": [
        {
          "output_type": "display_data",
          "data": {
            "text/html": [
              "<img src=\"https://cdn-images-1.medium.com/max/1600/1*vYGFQCafJtGBBX5mbl0xyw.png\" width=\"600\"/>"
            ],
            "text/plain": [
              "<IPython.core.display.Image object>"
            ]
          },
          "metadata": {
            "tags": []
          }
        }
      ]
    },
    {
      "metadata": {
        "id": "ZK__kErt6Vu9",
        "colab_type": "code",
        "outputId": "d495b2d4-c482-42cf-f893-96af2693b54f",
        "colab": {
          "base_uri": "https://localhost:8080/",
          "height": 206
        }
      },
      "cell_type": "code",
      "source": [
        "condition = (order_products['order_id'] == 2539329)\n",
        "order_products[condition]"
      ],
      "execution_count": 19,
      "outputs": [
        {
          "output_type": "execute_result",
          "data": {
            "text/html": [
              "<div>\n",
              "<style scoped>\n",
              "    .dataframe tbody tr th:only-of-type {\n",
              "        vertical-align: middle;\n",
              "    }\n",
              "\n",
              "    .dataframe tbody tr th {\n",
              "        vertical-align: top;\n",
              "    }\n",
              "\n",
              "    .dataframe thead th {\n",
              "        text-align: right;\n",
              "    }\n",
              "</style>\n",
              "<table border=\"1\" class=\"dataframe\">\n",
              "  <thead>\n",
              "    <tr style=\"text-align: right;\">\n",
              "      <th></th>\n",
              "      <th>order_id</th>\n",
              "      <th>product_id</th>\n",
              "      <th>add_to_cart_order</th>\n",
              "      <th>reordered</th>\n",
              "    </tr>\n",
              "  </thead>\n",
              "  <tbody>\n",
              "    <tr>\n",
              "      <th>24076664</th>\n",
              "      <td>2539329</td>\n",
              "      <td>196</td>\n",
              "      <td>1</td>\n",
              "      <td>0</td>\n",
              "    </tr>\n",
              "    <tr>\n",
              "      <th>24076665</th>\n",
              "      <td>2539329</td>\n",
              "      <td>14084</td>\n",
              "      <td>2</td>\n",
              "      <td>0</td>\n",
              "    </tr>\n",
              "    <tr>\n",
              "      <th>24076666</th>\n",
              "      <td>2539329</td>\n",
              "      <td>12427</td>\n",
              "      <td>3</td>\n",
              "      <td>0</td>\n",
              "    </tr>\n",
              "    <tr>\n",
              "      <th>24076667</th>\n",
              "      <td>2539329</td>\n",
              "      <td>26088</td>\n",
              "      <td>4</td>\n",
              "      <td>0</td>\n",
              "    </tr>\n",
              "    <tr>\n",
              "      <th>24076668</th>\n",
              "      <td>2539329</td>\n",
              "      <td>26405</td>\n",
              "      <td>5</td>\n",
              "      <td>0</td>\n",
              "    </tr>\n",
              "  </tbody>\n",
              "</table>\n",
              "</div>"
            ],
            "text/plain": [
              "          order_id  product_id  add_to_cart_order  reordered\n",
              "24076664   2539329         196                  1          0\n",
              "24076665   2539329       14084                  2          0\n",
              "24076666   2539329       12427                  3          0\n",
              "24076667   2539329       26088                  4          0\n",
              "24076668   2539329       26405                  5          0"
            ]
          },
          "metadata": {
            "tags": []
          },
          "execution_count": 19
        }
      ]
    },
    {
      "metadata": {
        "colab_type": "text",
        "id": "Z1YRw5ypJuv2"
      },
      "cell_type": "markdown",
      "source": [
        "## Get a subset of orders — the first two orders for user id 1"
      ]
    },
    {
      "metadata": {
        "colab_type": "code",
        "id": "YFBTseoyZAbj",
        "colab": {}
      },
      "cell_type": "code",
      "source": [
        "condition = (orders['user_id']==1) & (orders['order_number'] <= 2)\n",
        "\n",
        "columns = ['user_id',\n",
        "          'order_id',\n",
        "          'order_number',\n",
        "          'order_dow',\n",
        "          'order_hour_of_day']\n",
        "\n",
        "subset = orders.loc[condition, columns]"
      ],
      "execution_count": 0,
      "outputs": []
    },
    {
      "metadata": {
        "id": "M7IHuekbAdTO",
        "colab_type": "code",
        "outputId": "98319ebc-950e-4ef4-d508-e9c774471b2b",
        "colab": {
          "base_uri": "https://localhost:8080/",
          "height": 312
        }
      },
      "cell_type": "code",
      "source": [
        "display(example)"
      ],
      "execution_count": 21,
      "outputs": [
        {
          "output_type": "display_data",
          "data": {
            "text/html": [
              "<img src=\"https://cdn-images-1.medium.com/max/1600/1*vYGFQCafJtGBBX5mbl0xyw.png\" width=\"600\"/>"
            ],
            "text/plain": [
              "<IPython.core.display.Image object>"
            ]
          },
          "metadata": {
            "tags": []
          }
        }
      ]
    },
    {
      "metadata": {
        "colab_type": "text",
        "id": "3K1p0QHuKPnt"
      },
      "cell_type": "markdown",
      "source": [
        "## Merge dataframes"
      ]
    },
    {
      "metadata": {
        "id": "ANIRR3mBCmKj",
        "colab_type": "code",
        "outputId": "689d4529-c9c2-4e5c-fdc6-174d384daa31",
        "colab": {
          "base_uri": "https://localhost:8080/",
          "height": 394
        }
      },
      "cell_type": "code",
      "source": [
        "columns = ['order_id','add_to_cart_order','product_id']\n",
        "merged = pd.merge(subset, order_products[columns], how='inner', on='order_id')\n",
        "merged"
      ],
      "execution_count": 22,
      "outputs": [
        {
          "output_type": "execute_result",
          "data": {
            "text/html": [
              "<div>\n",
              "<style scoped>\n",
              "    .dataframe tbody tr th:only-of-type {\n",
              "        vertical-align: middle;\n",
              "    }\n",
              "\n",
              "    .dataframe tbody tr th {\n",
              "        vertical-align: top;\n",
              "    }\n",
              "\n",
              "    .dataframe thead th {\n",
              "        text-align: right;\n",
              "    }\n",
              "</style>\n",
              "<table border=\"1\" class=\"dataframe\">\n",
              "  <thead>\n",
              "    <tr style=\"text-align: right;\">\n",
              "      <th></th>\n",
              "      <th>user_id</th>\n",
              "      <th>order_id</th>\n",
              "      <th>order_number</th>\n",
              "      <th>order_dow</th>\n",
              "      <th>order_hour_of_day</th>\n",
              "      <th>add_to_cart_order</th>\n",
              "      <th>product_id</th>\n",
              "    </tr>\n",
              "  </thead>\n",
              "  <tbody>\n",
              "    <tr>\n",
              "      <th>0</th>\n",
              "      <td>1</td>\n",
              "      <td>2539329</td>\n",
              "      <td>1</td>\n",
              "      <td>2</td>\n",
              "      <td>8</td>\n",
              "      <td>1</td>\n",
              "      <td>196</td>\n",
              "    </tr>\n",
              "    <tr>\n",
              "      <th>1</th>\n",
              "      <td>1</td>\n",
              "      <td>2539329</td>\n",
              "      <td>1</td>\n",
              "      <td>2</td>\n",
              "      <td>8</td>\n",
              "      <td>2</td>\n",
              "      <td>14084</td>\n",
              "    </tr>\n",
              "    <tr>\n",
              "      <th>2</th>\n",
              "      <td>1</td>\n",
              "      <td>2539329</td>\n",
              "      <td>1</td>\n",
              "      <td>2</td>\n",
              "      <td>8</td>\n",
              "      <td>3</td>\n",
              "      <td>12427</td>\n",
              "    </tr>\n",
              "    <tr>\n",
              "      <th>3</th>\n",
              "      <td>1</td>\n",
              "      <td>2539329</td>\n",
              "      <td>1</td>\n",
              "      <td>2</td>\n",
              "      <td>8</td>\n",
              "      <td>4</td>\n",
              "      <td>26088</td>\n",
              "    </tr>\n",
              "    <tr>\n",
              "      <th>4</th>\n",
              "      <td>1</td>\n",
              "      <td>2539329</td>\n",
              "      <td>1</td>\n",
              "      <td>2</td>\n",
              "      <td>8</td>\n",
              "      <td>5</td>\n",
              "      <td>26405</td>\n",
              "    </tr>\n",
              "    <tr>\n",
              "      <th>5</th>\n",
              "      <td>1</td>\n",
              "      <td>2398795</td>\n",
              "      <td>2</td>\n",
              "      <td>3</td>\n",
              "      <td>7</td>\n",
              "      <td>1</td>\n",
              "      <td>196</td>\n",
              "    </tr>\n",
              "    <tr>\n",
              "      <th>6</th>\n",
              "      <td>1</td>\n",
              "      <td>2398795</td>\n",
              "      <td>2</td>\n",
              "      <td>3</td>\n",
              "      <td>7</td>\n",
              "      <td>2</td>\n",
              "      <td>10258</td>\n",
              "    </tr>\n",
              "    <tr>\n",
              "      <th>7</th>\n",
              "      <td>1</td>\n",
              "      <td>2398795</td>\n",
              "      <td>2</td>\n",
              "      <td>3</td>\n",
              "      <td>7</td>\n",
              "      <td>3</td>\n",
              "      <td>12427</td>\n",
              "    </tr>\n",
              "    <tr>\n",
              "      <th>8</th>\n",
              "      <td>1</td>\n",
              "      <td>2398795</td>\n",
              "      <td>2</td>\n",
              "      <td>3</td>\n",
              "      <td>7</td>\n",
              "      <td>4</td>\n",
              "      <td>13176</td>\n",
              "    </tr>\n",
              "    <tr>\n",
              "      <th>9</th>\n",
              "      <td>1</td>\n",
              "      <td>2398795</td>\n",
              "      <td>2</td>\n",
              "      <td>3</td>\n",
              "      <td>7</td>\n",
              "      <td>5</td>\n",
              "      <td>26088</td>\n",
              "    </tr>\n",
              "    <tr>\n",
              "      <th>10</th>\n",
              "      <td>1</td>\n",
              "      <td>2398795</td>\n",
              "      <td>2</td>\n",
              "      <td>3</td>\n",
              "      <td>7</td>\n",
              "      <td>6</td>\n",
              "      <td>13032</td>\n",
              "    </tr>\n",
              "  </tbody>\n",
              "</table>\n",
              "</div>"
            ],
            "text/plain": [
              "    user_id  order_id  order_number  order_dow  order_hour_of_day  \\\n",
              "0         1   2539329             1          2                  8   \n",
              "1         1   2539329             1          2                  8   \n",
              "2         1   2539329             1          2                  8   \n",
              "3         1   2539329             1          2                  8   \n",
              "4         1   2539329             1          2                  8   \n",
              "5         1   2398795             2          3                  7   \n",
              "6         1   2398795             2          3                  7   \n",
              "7         1   2398795             2          3                  7   \n",
              "8         1   2398795             2          3                  7   \n",
              "9         1   2398795             2          3                  7   \n",
              "10        1   2398795             2          3                  7   \n",
              "\n",
              "    add_to_cart_order  product_id  \n",
              "0                   1         196  \n",
              "1                   2       14084  \n",
              "2                   3       12427  \n",
              "3                   4       26088  \n",
              "4                   5       26405  \n",
              "5                   1         196  \n",
              "6                   2       10258  \n",
              "7                   3       12427  \n",
              "8                   4       13176  \n",
              "9                   5       26088  \n",
              "10                  6       13032  "
            ]
          },
          "metadata": {
            "tags": []
          },
          "execution_count": 22
        }
      ]
    },
    {
      "metadata": {
        "id": "nGyAPh6eE1fX",
        "colab_type": "code",
        "outputId": "ede0a8d6-a58a-45cf-8751-79fc3c72f549",
        "colab": {
          "base_uri": "https://localhost:8080/",
          "height": 35
        }
      },
      "cell_type": "code",
      "source": [
        "merged.shape"
      ],
      "execution_count": 23,
      "outputs": [
        {
          "output_type": "execute_result",
          "data": {
            "text/plain": [
              "(11, 7)"
            ]
          },
          "metadata": {
            "tags": []
          },
          "execution_count": 23
        }
      ]
    },
    {
      "metadata": {
        "id": "1RYhn0rXFTJp",
        "colab_type": "code",
        "colab": {}
      },
      "cell_type": "code",
      "source": [
        "final = pd.merge(merged, products[['product_id', 'product_name']], how='inner', on='product_id')"
      ],
      "execution_count": 0,
      "outputs": []
    },
    {
      "metadata": {
        "id": "s0WWZYHRFwvx",
        "colab_type": "code",
        "outputId": "4379c8af-4fc8-4d81-d87c-6ff35415268e",
        "colab": {
          "base_uri": "https://localhost:8080/",
          "height": 412
        }
      },
      "cell_type": "code",
      "source": [
        "print(final.shape)\n",
        "final = final.sort_values(by=['order_number', 'add_to_cart_order'])\n",
        "final"
      ],
      "execution_count": 25,
      "outputs": [
        {
          "output_type": "stream",
          "text": [
            "(11, 8)\n"
          ],
          "name": "stdout"
        },
        {
          "output_type": "execute_result",
          "data": {
            "text/html": [
              "<div>\n",
              "<style scoped>\n",
              "    .dataframe tbody tr th:only-of-type {\n",
              "        vertical-align: middle;\n",
              "    }\n",
              "\n",
              "    .dataframe tbody tr th {\n",
              "        vertical-align: top;\n",
              "    }\n",
              "\n",
              "    .dataframe thead th {\n",
              "        text-align: right;\n",
              "    }\n",
              "</style>\n",
              "<table border=\"1\" class=\"dataframe\">\n",
              "  <thead>\n",
              "    <tr style=\"text-align: right;\">\n",
              "      <th></th>\n",
              "      <th>user_id</th>\n",
              "      <th>order_id</th>\n",
              "      <th>order_number</th>\n",
              "      <th>order_dow</th>\n",
              "      <th>order_hour_of_day</th>\n",
              "      <th>add_to_cart_order</th>\n",
              "      <th>product_id</th>\n",
              "      <th>product_name</th>\n",
              "    </tr>\n",
              "  </thead>\n",
              "  <tbody>\n",
              "    <tr>\n",
              "      <th>0</th>\n",
              "      <td>1</td>\n",
              "      <td>2539329</td>\n",
              "      <td>1</td>\n",
              "      <td>2</td>\n",
              "      <td>8</td>\n",
              "      <td>1</td>\n",
              "      <td>196</td>\n",
              "      <td>Soda</td>\n",
              "    </tr>\n",
              "    <tr>\n",
              "      <th>2</th>\n",
              "      <td>1</td>\n",
              "      <td>2539329</td>\n",
              "      <td>1</td>\n",
              "      <td>2</td>\n",
              "      <td>8</td>\n",
              "      <td>2</td>\n",
              "      <td>14084</td>\n",
              "      <td>Organic Unsweetened Vanilla Almond Milk</td>\n",
              "    </tr>\n",
              "    <tr>\n",
              "      <th>3</th>\n",
              "      <td>1</td>\n",
              "      <td>2539329</td>\n",
              "      <td>1</td>\n",
              "      <td>2</td>\n",
              "      <td>8</td>\n",
              "      <td>3</td>\n",
              "      <td>12427</td>\n",
              "      <td>Original Beef Jerky</td>\n",
              "    </tr>\n",
              "    <tr>\n",
              "      <th>5</th>\n",
              "      <td>1</td>\n",
              "      <td>2539329</td>\n",
              "      <td>1</td>\n",
              "      <td>2</td>\n",
              "      <td>8</td>\n",
              "      <td>4</td>\n",
              "      <td>26088</td>\n",
              "      <td>Aged White Cheddar Popcorn</td>\n",
              "    </tr>\n",
              "    <tr>\n",
              "      <th>7</th>\n",
              "      <td>1</td>\n",
              "      <td>2539329</td>\n",
              "      <td>1</td>\n",
              "      <td>2</td>\n",
              "      <td>8</td>\n",
              "      <td>5</td>\n",
              "      <td>26405</td>\n",
              "      <td>XL Pick-A-Size Paper Towel Rolls</td>\n",
              "    </tr>\n",
              "    <tr>\n",
              "      <th>1</th>\n",
              "      <td>1</td>\n",
              "      <td>2398795</td>\n",
              "      <td>2</td>\n",
              "      <td>3</td>\n",
              "      <td>7</td>\n",
              "      <td>1</td>\n",
              "      <td>196</td>\n",
              "      <td>Soda</td>\n",
              "    </tr>\n",
              "    <tr>\n",
              "      <th>8</th>\n",
              "      <td>1</td>\n",
              "      <td>2398795</td>\n",
              "      <td>2</td>\n",
              "      <td>3</td>\n",
              "      <td>7</td>\n",
              "      <td>2</td>\n",
              "      <td>10258</td>\n",
              "      <td>Pistachios</td>\n",
              "    </tr>\n",
              "    <tr>\n",
              "      <th>4</th>\n",
              "      <td>1</td>\n",
              "      <td>2398795</td>\n",
              "      <td>2</td>\n",
              "      <td>3</td>\n",
              "      <td>7</td>\n",
              "      <td>3</td>\n",
              "      <td>12427</td>\n",
              "      <td>Original Beef Jerky</td>\n",
              "    </tr>\n",
              "    <tr>\n",
              "      <th>9</th>\n",
              "      <td>1</td>\n",
              "      <td>2398795</td>\n",
              "      <td>2</td>\n",
              "      <td>3</td>\n",
              "      <td>7</td>\n",
              "      <td>4</td>\n",
              "      <td>13176</td>\n",
              "      <td>Bag of Organic Bananas</td>\n",
              "    </tr>\n",
              "    <tr>\n",
              "      <th>6</th>\n",
              "      <td>1</td>\n",
              "      <td>2398795</td>\n",
              "      <td>2</td>\n",
              "      <td>3</td>\n",
              "      <td>7</td>\n",
              "      <td>5</td>\n",
              "      <td>26088</td>\n",
              "      <td>Aged White Cheddar Popcorn</td>\n",
              "    </tr>\n",
              "    <tr>\n",
              "      <th>10</th>\n",
              "      <td>1</td>\n",
              "      <td>2398795</td>\n",
              "      <td>2</td>\n",
              "      <td>3</td>\n",
              "      <td>7</td>\n",
              "      <td>6</td>\n",
              "      <td>13032</td>\n",
              "      <td>Cinnamon Toast Crunch</td>\n",
              "    </tr>\n",
              "  </tbody>\n",
              "</table>\n",
              "</div>"
            ],
            "text/plain": [
              "    user_id  order_id  order_number  order_dow  order_hour_of_day  \\\n",
              "0         1   2539329             1          2                  8   \n",
              "2         1   2539329             1          2                  8   \n",
              "3         1   2539329             1          2                  8   \n",
              "5         1   2539329             1          2                  8   \n",
              "7         1   2539329             1          2                  8   \n",
              "1         1   2398795             2          3                  7   \n",
              "8         1   2398795             2          3                  7   \n",
              "4         1   2398795             2          3                  7   \n",
              "9         1   2398795             2          3                  7   \n",
              "6         1   2398795             2          3                  7   \n",
              "10        1   2398795             2          3                  7   \n",
              "\n",
              "    add_to_cart_order  product_id                             product_name  \n",
              "0                   1         196                                     Soda  \n",
              "2                   2       14084  Organic Unsweetened Vanilla Almond Milk  \n",
              "3                   3       12427                      Original Beef Jerky  \n",
              "5                   4       26088               Aged White Cheddar Popcorn  \n",
              "7                   5       26405         XL Pick-A-Size Paper Towel Rolls  \n",
              "1                   1         196                                     Soda  \n",
              "8                   2       10258                               Pistachios  \n",
              "4                   3       12427                      Original Beef Jerky  \n",
              "9                   4       13176                   Bag of Organic Bananas  \n",
              "6                   5       26088               Aged White Cheddar Popcorn  \n",
              "10                  6       13032                    Cinnamon Toast Crunch  "
            ]
          },
          "metadata": {
            "tags": []
          },
          "execution_count": 25
        }
      ]
    },
    {
      "metadata": {
        "id": "b4j_JJDUGuGG",
        "colab_type": "code",
        "outputId": "cf37b2f3-1aef-441c-c9e0-3dc75553906d",
        "colab": {
          "base_uri": "https://localhost:8080/",
          "height": 394
        }
      },
      "cell_type": "code",
      "source": [
        "final.columns = [column.replace('_', ' ') for column in final]\n",
        "final"
      ],
      "execution_count": 26,
      "outputs": [
        {
          "output_type": "execute_result",
          "data": {
            "text/html": [
              "<div>\n",
              "<style scoped>\n",
              "    .dataframe tbody tr th:only-of-type {\n",
              "        vertical-align: middle;\n",
              "    }\n",
              "\n",
              "    .dataframe tbody tr th {\n",
              "        vertical-align: top;\n",
              "    }\n",
              "\n",
              "    .dataframe thead th {\n",
              "        text-align: right;\n",
              "    }\n",
              "</style>\n",
              "<table border=\"1\" class=\"dataframe\">\n",
              "  <thead>\n",
              "    <tr style=\"text-align: right;\">\n",
              "      <th></th>\n",
              "      <th>user id</th>\n",
              "      <th>order id</th>\n",
              "      <th>order number</th>\n",
              "      <th>order dow</th>\n",
              "      <th>order hour of day</th>\n",
              "      <th>add to cart order</th>\n",
              "      <th>product id</th>\n",
              "      <th>product name</th>\n",
              "    </tr>\n",
              "  </thead>\n",
              "  <tbody>\n",
              "    <tr>\n",
              "      <th>0</th>\n",
              "      <td>1</td>\n",
              "      <td>2539329</td>\n",
              "      <td>1</td>\n",
              "      <td>2</td>\n",
              "      <td>8</td>\n",
              "      <td>1</td>\n",
              "      <td>196</td>\n",
              "      <td>Soda</td>\n",
              "    </tr>\n",
              "    <tr>\n",
              "      <th>2</th>\n",
              "      <td>1</td>\n",
              "      <td>2539329</td>\n",
              "      <td>1</td>\n",
              "      <td>2</td>\n",
              "      <td>8</td>\n",
              "      <td>2</td>\n",
              "      <td>14084</td>\n",
              "      <td>Organic Unsweetened Vanilla Almond Milk</td>\n",
              "    </tr>\n",
              "    <tr>\n",
              "      <th>3</th>\n",
              "      <td>1</td>\n",
              "      <td>2539329</td>\n",
              "      <td>1</td>\n",
              "      <td>2</td>\n",
              "      <td>8</td>\n",
              "      <td>3</td>\n",
              "      <td>12427</td>\n",
              "      <td>Original Beef Jerky</td>\n",
              "    </tr>\n",
              "    <tr>\n",
              "      <th>5</th>\n",
              "      <td>1</td>\n",
              "      <td>2539329</td>\n",
              "      <td>1</td>\n",
              "      <td>2</td>\n",
              "      <td>8</td>\n",
              "      <td>4</td>\n",
              "      <td>26088</td>\n",
              "      <td>Aged White Cheddar Popcorn</td>\n",
              "    </tr>\n",
              "    <tr>\n",
              "      <th>7</th>\n",
              "      <td>1</td>\n",
              "      <td>2539329</td>\n",
              "      <td>1</td>\n",
              "      <td>2</td>\n",
              "      <td>8</td>\n",
              "      <td>5</td>\n",
              "      <td>26405</td>\n",
              "      <td>XL Pick-A-Size Paper Towel Rolls</td>\n",
              "    </tr>\n",
              "    <tr>\n",
              "      <th>1</th>\n",
              "      <td>1</td>\n",
              "      <td>2398795</td>\n",
              "      <td>2</td>\n",
              "      <td>3</td>\n",
              "      <td>7</td>\n",
              "      <td>1</td>\n",
              "      <td>196</td>\n",
              "      <td>Soda</td>\n",
              "    </tr>\n",
              "    <tr>\n",
              "      <th>8</th>\n",
              "      <td>1</td>\n",
              "      <td>2398795</td>\n",
              "      <td>2</td>\n",
              "      <td>3</td>\n",
              "      <td>7</td>\n",
              "      <td>2</td>\n",
              "      <td>10258</td>\n",
              "      <td>Pistachios</td>\n",
              "    </tr>\n",
              "    <tr>\n",
              "      <th>4</th>\n",
              "      <td>1</td>\n",
              "      <td>2398795</td>\n",
              "      <td>2</td>\n",
              "      <td>3</td>\n",
              "      <td>7</td>\n",
              "      <td>3</td>\n",
              "      <td>12427</td>\n",
              "      <td>Original Beef Jerky</td>\n",
              "    </tr>\n",
              "    <tr>\n",
              "      <th>9</th>\n",
              "      <td>1</td>\n",
              "      <td>2398795</td>\n",
              "      <td>2</td>\n",
              "      <td>3</td>\n",
              "      <td>7</td>\n",
              "      <td>4</td>\n",
              "      <td>13176</td>\n",
              "      <td>Bag of Organic Bananas</td>\n",
              "    </tr>\n",
              "    <tr>\n",
              "      <th>6</th>\n",
              "      <td>1</td>\n",
              "      <td>2398795</td>\n",
              "      <td>2</td>\n",
              "      <td>3</td>\n",
              "      <td>7</td>\n",
              "      <td>5</td>\n",
              "      <td>26088</td>\n",
              "      <td>Aged White Cheddar Popcorn</td>\n",
              "    </tr>\n",
              "    <tr>\n",
              "      <th>10</th>\n",
              "      <td>1</td>\n",
              "      <td>2398795</td>\n",
              "      <td>2</td>\n",
              "      <td>3</td>\n",
              "      <td>7</td>\n",
              "      <td>6</td>\n",
              "      <td>13032</td>\n",
              "      <td>Cinnamon Toast Crunch</td>\n",
              "    </tr>\n",
              "  </tbody>\n",
              "</table>\n",
              "</div>"
            ],
            "text/plain": [
              "    user id  order id  order number  order dow  order hour of day  \\\n",
              "0         1   2539329             1          2                  8   \n",
              "2         1   2539329             1          2                  8   \n",
              "3         1   2539329             1          2                  8   \n",
              "5         1   2539329             1          2                  8   \n",
              "7         1   2539329             1          2                  8   \n",
              "1         1   2398795             2          3                  7   \n",
              "8         1   2398795             2          3                  7   \n",
              "4         1   2398795             2          3                  7   \n",
              "9         1   2398795             2          3                  7   \n",
              "6         1   2398795             2          3                  7   \n",
              "10        1   2398795             2          3                  7   \n",
              "\n",
              "    add to cart order  product id                             product name  \n",
              "0                   1         196                                     Soda  \n",
              "2                   2       14084  Organic Unsweetened Vanilla Almond Milk  \n",
              "3                   3       12427                      Original Beef Jerky  \n",
              "5                   4       26088               Aged White Cheddar Popcorn  \n",
              "7                   5       26405         XL Pick-A-Size Paper Towel Rolls  \n",
              "1                   1         196                                     Soda  \n",
              "8                   2       10258                               Pistachios  \n",
              "4                   3       12427                      Original Beef Jerky  \n",
              "9                   4       13176                   Bag of Organic Bananas  \n",
              "6                   5       26088               Aged White Cheddar Popcorn  \n",
              "10                  6       13032                    Cinnamon Toast Crunch  "
            ]
          },
          "metadata": {
            "tags": []
          },
          "execution_count": 26
        }
      ]
    },
    {
      "metadata": {
        "id": "MdEoY4L5GAiu",
        "colab_type": "code",
        "outputId": "d0bf91f8-ef67-4a92-8ec0-9214119d19d0",
        "colab": {
          "base_uri": "https://localhost:8080/",
          "height": 312
        }
      },
      "cell_type": "code",
      "source": [
        "display(example)"
      ],
      "execution_count": 27,
      "outputs": [
        {
          "output_type": "display_data",
          "data": {
            "text/html": [
              "<img src=\"https://cdn-images-1.medium.com/max/1600/1*vYGFQCafJtGBBX5mbl0xyw.png\" width=\"600\"/>"
            ],
            "text/plain": [
              "<IPython.core.display.Image object>"
            ]
          },
          "metadata": {
            "tags": []
          }
        }
      ]
    },
    {
      "metadata": {
        "colab_type": "code",
        "id": "DaDcnygCLZvM",
        "outputId": "ae07ed3c-0791-4faf-cfbe-ab0744335804",
        "colab": {
          "base_uri": "https://localhost:8080/",
          "height": 206
        }
      },
      "cell_type": "code",
      "source": [
        "orders.head()"
      ],
      "execution_count": 28,
      "outputs": [
        {
          "output_type": "execute_result",
          "data": {
            "text/html": [
              "<div>\n",
              "<style scoped>\n",
              "    .dataframe tbody tr th:only-of-type {\n",
              "        vertical-align: middle;\n",
              "    }\n",
              "\n",
              "    .dataframe tbody tr th {\n",
              "        vertical-align: top;\n",
              "    }\n",
              "\n",
              "    .dataframe thead th {\n",
              "        text-align: right;\n",
              "    }\n",
              "</style>\n",
              "<table border=\"1\" class=\"dataframe\">\n",
              "  <thead>\n",
              "    <tr style=\"text-align: right;\">\n",
              "      <th></th>\n",
              "      <th>order_id</th>\n",
              "      <th>user_id</th>\n",
              "      <th>eval_set</th>\n",
              "      <th>order_number</th>\n",
              "      <th>order_dow</th>\n",
              "      <th>order_hour_of_day</th>\n",
              "      <th>days_since_prior_order</th>\n",
              "    </tr>\n",
              "  </thead>\n",
              "  <tbody>\n",
              "    <tr>\n",
              "      <th>0</th>\n",
              "      <td>2539329</td>\n",
              "      <td>1</td>\n",
              "      <td>prior</td>\n",
              "      <td>1</td>\n",
              "      <td>2</td>\n",
              "      <td>8</td>\n",
              "      <td>NaN</td>\n",
              "    </tr>\n",
              "    <tr>\n",
              "      <th>1</th>\n",
              "      <td>2398795</td>\n",
              "      <td>1</td>\n",
              "      <td>prior</td>\n",
              "      <td>2</td>\n",
              "      <td>3</td>\n",
              "      <td>7</td>\n",
              "      <td>15.0</td>\n",
              "    </tr>\n",
              "    <tr>\n",
              "      <th>2</th>\n",
              "      <td>473747</td>\n",
              "      <td>1</td>\n",
              "      <td>prior</td>\n",
              "      <td>3</td>\n",
              "      <td>3</td>\n",
              "      <td>12</td>\n",
              "      <td>21.0</td>\n",
              "    </tr>\n",
              "    <tr>\n",
              "      <th>3</th>\n",
              "      <td>2254736</td>\n",
              "      <td>1</td>\n",
              "      <td>prior</td>\n",
              "      <td>4</td>\n",
              "      <td>4</td>\n",
              "      <td>7</td>\n",
              "      <td>29.0</td>\n",
              "    </tr>\n",
              "    <tr>\n",
              "      <th>4</th>\n",
              "      <td>431534</td>\n",
              "      <td>1</td>\n",
              "      <td>prior</td>\n",
              "      <td>5</td>\n",
              "      <td>4</td>\n",
              "      <td>15</td>\n",
              "      <td>28.0</td>\n",
              "    </tr>\n",
              "  </tbody>\n",
              "</table>\n",
              "</div>"
            ],
            "text/plain": [
              "   order_id  user_id eval_set  order_number  order_dow  order_hour_of_day  \\\n",
              "0   2539329        1    prior             1          2                  8   \n",
              "1   2398795        1    prior             2          3                  7   \n",
              "2    473747        1    prior             3          3                 12   \n",
              "3   2254736        1    prior             4          4                  7   \n",
              "4    431534        1    prior             5          4                 15   \n",
              "\n",
              "   days_since_prior_order  \n",
              "0                     NaN  \n",
              "1                    15.0  \n",
              "2                    21.0  \n",
              "3                    29.0  \n",
              "4                    28.0  "
            ]
          },
          "metadata": {
            "tags": []
          },
          "execution_count": 28
        }
      ]
    },
    {
      "metadata": {
        "id": "xqFpCFrDB_m3",
        "colab_type": "code",
        "outputId": "e230041c-04dc-4ff0-bc59-95f4ad5fe75d",
        "colab": {
          "base_uri": "https://localhost:8080/",
          "height": 206
        }
      },
      "cell_type": "code",
      "source": [
        "order_products.head()"
      ],
      "execution_count": 29,
      "outputs": [
        {
          "output_type": "execute_result",
          "data": {
            "text/html": [
              "<div>\n",
              "<style scoped>\n",
              "    .dataframe tbody tr th:only-of-type {\n",
              "        vertical-align: middle;\n",
              "    }\n",
              "\n",
              "    .dataframe tbody tr th {\n",
              "        vertical-align: top;\n",
              "    }\n",
              "\n",
              "    .dataframe thead th {\n",
              "        text-align: right;\n",
              "    }\n",
              "</style>\n",
              "<table border=\"1\" class=\"dataframe\">\n",
              "  <thead>\n",
              "    <tr style=\"text-align: right;\">\n",
              "      <th></th>\n",
              "      <th>order_id</th>\n",
              "      <th>product_id</th>\n",
              "      <th>add_to_cart_order</th>\n",
              "      <th>reordered</th>\n",
              "    </tr>\n",
              "  </thead>\n",
              "  <tbody>\n",
              "    <tr>\n",
              "      <th>0</th>\n",
              "      <td>2</td>\n",
              "      <td>33120</td>\n",
              "      <td>1</td>\n",
              "      <td>1</td>\n",
              "    </tr>\n",
              "    <tr>\n",
              "      <th>1</th>\n",
              "      <td>2</td>\n",
              "      <td>28985</td>\n",
              "      <td>2</td>\n",
              "      <td>1</td>\n",
              "    </tr>\n",
              "    <tr>\n",
              "      <th>2</th>\n",
              "      <td>2</td>\n",
              "      <td>9327</td>\n",
              "      <td>3</td>\n",
              "      <td>0</td>\n",
              "    </tr>\n",
              "    <tr>\n",
              "      <th>3</th>\n",
              "      <td>2</td>\n",
              "      <td>45918</td>\n",
              "      <td>4</td>\n",
              "      <td>1</td>\n",
              "    </tr>\n",
              "    <tr>\n",
              "      <th>4</th>\n",
              "      <td>2</td>\n",
              "      <td>30035</td>\n",
              "      <td>5</td>\n",
              "      <td>0</td>\n",
              "    </tr>\n",
              "  </tbody>\n",
              "</table>\n",
              "</div>"
            ],
            "text/plain": [
              "   order_id  product_id  add_to_cart_order  reordered\n",
              "0         2       33120                  1          1\n",
              "1         2       28985                  2          1\n",
              "2         2        9327                  3          0\n",
              "3         2       45918                  4          1\n",
              "4         2       30035                  5          0"
            ]
          },
          "metadata": {
            "tags": []
          },
          "execution_count": 29
        }
      ]
    },
    {
      "metadata": {
        "colab_type": "text",
        "id": "kAMtvSQWPUcj"
      },
      "cell_type": "markdown",
      "source": [
        "# Assignment\n",
        "\n",
        "These are the top 10 most frequently ordered products. How many times was each ordered? \n",
        "\n",
        "1. Banana\n",
        "2. Bag of Organic Bananas\n",
        "3. Organic Strawberries\n",
        "4. Organic Baby Spinach \n",
        "5. Organic Hass Avocado\n",
        "6. Organic Avocado\n",
        "7. Large Lemon \n",
        "8. Strawberries\n",
        "9. Limes \n",
        "10. Organic Whole Milk\n",
        "\n",
        "First, write down which columns you need and which dataframes have them.\n",
        "\n",
        "Next, merge these into a single dataframe.\n",
        "\n",
        "Then, use pandas functions from the previous lesson to get the counts of the top 10 most frequently ordered products."
      ]
    },
    {
      "metadata": {
        "id": "XI206AjVIKXo",
        "colab_type": "text"
      },
      "cell_type": "markdown",
      "source": [
        "###1. Write down which columns you need and which dataframes have them.\n",
        "Have:\n",
        "* aisles: aisle id, aisle\n",
        "* departments: department id, department\n",
        "* order_products_prior: order id, product id, add to cart order, reordered\n",
        "* order_products_train: order id, product id, add to cart order, reordered\n",
        "* orders: order id, user id, eval set, order number, order dow, order hod, days since prior order\n",
        "* products: product id, product name, aisle id, department id\n",
        "\n",
        "Need:\n",
        "* order id\n",
        "* order number\n",
        "* product id\n",
        "* product name\n",
        "\n",
        "From:\n",
        "* order_products_prior\n",
        "* order_products_train\n",
        "* orders\n",
        "* products"
      ]
    },
    {
      "metadata": {
        "id": "OXpLiBTMIP4p",
        "colab_type": "text"
      },
      "cell_type": "markdown",
      "source": [
        "###2. Merge these into a single dataframe.\n",
        "Merging all datasets so I have one central dataframe to explore. The end product will mean more storage and computing for any 1 problem, but more flexibility over multiple problems.\n",
        "\n",
        "Combination Order:\n",
        "\n",
        "\n",
        "1.   concat: order products prior/train\n",
        "2.   merge: orders and prior/train\n",
        "3.   merge: super orders and products\n",
        "4.   merge: super orders and departments\n",
        "5.   merge: super orders and aisles\n",
        "\n"
      ]
    },
    {
      "metadata": {
        "id": "DW50HpmofoMW",
        "colab_type": "code",
        "colab": {}
      },
      "cell_type": "code",
      "source": [
        "#1. concat: order products prior/train\n",
        "order_products = pd.concat([order_products_prior, order_products_train])"
      ],
      "execution_count": 0,
      "outputs": []
    },
    {
      "metadata": {
        "id": "AiYP_GjQs9p6",
        "colab_type": "code",
        "colab": {}
      },
      "cell_type": "code",
      "source": [
        "order_sub = orders.drop(columns=['eval_set', 'order_dow'])"
      ],
      "execution_count": 0,
      "outputs": []
    },
    {
      "metadata": {
        "id": "fSsj4DqZtq1U",
        "colab_type": "code",
        "outputId": "e0834e28-3dba-47d3-c7db-216261dd828f",
        "colab": {
          "base_uri": "https://localhost:8080/",
          "height": 206
        }
      },
      "cell_type": "code",
      "source": [
        "order_sub.head()"
      ],
      "execution_count": 32,
      "outputs": [
        {
          "output_type": "execute_result",
          "data": {
            "text/html": [
              "<div>\n",
              "<style scoped>\n",
              "    .dataframe tbody tr th:only-of-type {\n",
              "        vertical-align: middle;\n",
              "    }\n",
              "\n",
              "    .dataframe tbody tr th {\n",
              "        vertical-align: top;\n",
              "    }\n",
              "\n",
              "    .dataframe thead th {\n",
              "        text-align: right;\n",
              "    }\n",
              "</style>\n",
              "<table border=\"1\" class=\"dataframe\">\n",
              "  <thead>\n",
              "    <tr style=\"text-align: right;\">\n",
              "      <th></th>\n",
              "      <th>order_id</th>\n",
              "      <th>user_id</th>\n",
              "      <th>order_number</th>\n",
              "      <th>order_hour_of_day</th>\n",
              "      <th>days_since_prior_order</th>\n",
              "    </tr>\n",
              "  </thead>\n",
              "  <tbody>\n",
              "    <tr>\n",
              "      <th>0</th>\n",
              "      <td>2539329</td>\n",
              "      <td>1</td>\n",
              "      <td>1</td>\n",
              "      <td>8</td>\n",
              "      <td>NaN</td>\n",
              "    </tr>\n",
              "    <tr>\n",
              "      <th>1</th>\n",
              "      <td>2398795</td>\n",
              "      <td>1</td>\n",
              "      <td>2</td>\n",
              "      <td>7</td>\n",
              "      <td>15.0</td>\n",
              "    </tr>\n",
              "    <tr>\n",
              "      <th>2</th>\n",
              "      <td>473747</td>\n",
              "      <td>1</td>\n",
              "      <td>3</td>\n",
              "      <td>12</td>\n",
              "      <td>21.0</td>\n",
              "    </tr>\n",
              "    <tr>\n",
              "      <th>3</th>\n",
              "      <td>2254736</td>\n",
              "      <td>1</td>\n",
              "      <td>4</td>\n",
              "      <td>7</td>\n",
              "      <td>29.0</td>\n",
              "    </tr>\n",
              "    <tr>\n",
              "      <th>4</th>\n",
              "      <td>431534</td>\n",
              "      <td>1</td>\n",
              "      <td>5</td>\n",
              "      <td>15</td>\n",
              "      <td>28.0</td>\n",
              "    </tr>\n",
              "  </tbody>\n",
              "</table>\n",
              "</div>"
            ],
            "text/plain": [
              "   order_id  user_id  order_number  order_hour_of_day  days_since_prior_order\n",
              "0   2539329        1             1                  8                     NaN\n",
              "1   2398795        1             2                  7                    15.0\n",
              "2    473747        1             3                 12                    21.0\n",
              "3   2254736        1             4                  7                    29.0\n",
              "4    431534        1             5                 15                    28.0"
            ]
          },
          "metadata": {
            "tags": []
          },
          "execution_count": 32
        }
      ]
    },
    {
      "metadata": {
        "id": "N5XdKZrkhJhq",
        "colab_type": "code",
        "colab": {}
      },
      "cell_type": "code",
      "source": [
        "#2. merge: orders and prior/train\n",
        "order_comb = pd.merge(order_sub, order_products)"
      ],
      "execution_count": 0,
      "outputs": []
    },
    {
      "metadata": {
        "id": "ZVvzTKl7zzGo",
        "colab_type": "code",
        "colab": {}
      },
      "cell_type": "code",
      "source": [
        "products_sub = products.drop(columns=['aisle_id','department_id'])"
      ],
      "execution_count": 0,
      "outputs": []
    },
    {
      "metadata": {
        "id": "QWqpXMocjG-1",
        "colab_type": "code",
        "colab": {}
      },
      "cell_type": "code",
      "source": [
        "#3. merge: super orders and products\n",
        "order_comb = pd.merge(order_comb, products_sub)"
      ],
      "execution_count": 0,
      "outputs": []
    },
    {
      "metadata": {
        "id": "50h0uZIvsCpK",
        "colab_type": "code",
        "colab": {}
      },
      "cell_type": "code",
      "source": [
        "#drop product id as it is the numerical dupe of product name\n",
        "order_comb = order_comb.drop(columns='product_id')"
      ],
      "execution_count": 0,
      "outputs": []
    },
    {
      "metadata": {
        "id": "19tIkfCgkQi5",
        "colab_type": "code",
        "colab": {}
      },
      "cell_type": "code",
      "source": [
        "#unfortunately these final two exceed the ram limits and crash\n",
        "\n",
        "#4. merge: super orders and departments\n",
        "#order_comb = pd.merge(order_comb, departments)\n",
        "\n",
        "#5. merge: super orders and aisles\n",
        "#order_comb = pd.merge(order_comb, aisles)"
      ],
      "execution_count": 0,
      "outputs": []
    },
    {
      "metadata": {
        "id": "HA6A2QxZITv-",
        "colab_type": "text"
      },
      "cell_type": "markdown",
      "source": [
        "###3. Use pandas functions from the previous lesson to get the counts of the top 10 most frequently ordered products."
      ]
    },
    {
      "metadata": {
        "id": "Z7MQX1pHm0WY",
        "colab_type": "code",
        "outputId": "682df7fc-6ba3-4423-f147-5f2c6e6b4c84",
        "colab": {
          "base_uri": "https://localhost:8080/",
          "height": 217
        }
      },
      "cell_type": "code",
      "source": [
        "#top ten items\n",
        "order_comb['product_name'].value_counts()[0:10]"
      ],
      "execution_count": 38,
      "outputs": [
        {
          "output_type": "execute_result",
          "data": {
            "text/plain": [
              "Banana                    491291\n",
              "Bag of Organic Bananas    394930\n",
              "Organic Strawberries      275577\n",
              "Organic Baby Spinach      251705\n",
              "Organic Hass Avocado      220877\n",
              "Organic Avocado           184224\n",
              "Large Lemon               160792\n",
              "Strawberries              149445\n",
              "Limes                     146660\n",
              "Organic Whole Milk        142813\n",
              "Name: product_name, dtype: int64"
            ]
          },
          "metadata": {
            "tags": []
          },
          "execution_count": 38
        }
      ]
    },
    {
      "metadata": {
        "id": "KD8XkhD-IDl7",
        "colab_type": "text"
      },
      "cell_type": "markdown",
      "source": [
        "## Stretch challenge\n",
        "\n",
        "The [Instacart blog post](https://tech.instacart.com/3-million-instacart-orders-open-sourced-d40d29ead6f2) has a visualization of \"**Popular products** purchased earliest in the day (green) and latest in the day (red).\" \n",
        "\n",
        "The post says,\n",
        "\n",
        "> \"We can also see the time of day that users purchase specific products.\n",
        "\n",
        "> Healthier snacks and staples tend to be purchased earlier in the day, whereas ice cream (especially Half Baked and The Tonight Dough) are far more popular when customers are ordering in the evening.\n",
        "\n",
        "> **In fact, of the top 25 latest ordered products, the first 24 are ice cream! The last one, of course, is a frozen pizza.**\"\n",
        "\n",
        "Your challenge is to reproduce the list of the top 25 latest ordered popular products.\n",
        "\n",
        "We'll define \"popular products\" as products with more than 2,900 orders."
      ]
    },
    {
      "metadata": {
        "id": "_E7bJj-FdaiV",
        "colab_type": "code",
        "colab": {}
      },
      "cell_type": "code",
      "source": [
        "#get rid of anything not helpful\n",
        "small = order_comb[['order_id', 'product_name', 'order_hour_of_day']]"
      ],
      "execution_count": 0,
      "outputs": []
    },
    {
      "metadata": {
        "id": "dCH3kIfOntLz",
        "colab_type": "code",
        "colab": {}
      },
      "cell_type": "code",
      "source": [
        "#DataFrame of early and late orders\n",
        "early_orders = small[(small['order_hour_of_day'] < 12)]\n",
        "late_orders = small[small['order_hour_of_day'] >= 12]"
      ],
      "execution_count": 0,
      "outputs": []
    },
    {
      "metadata": {
        "id": "hZtdI3gwxhls",
        "colab_type": "code",
        "colab": {}
      },
      "cell_type": "code",
      "source": [
        "#count products\n",
        "early_product_count = early_orders['product_name'].value_counts()\n",
        "late_product_count = late_orders['product_name'].value_counts()"
      ],
      "execution_count": 0,
      "outputs": []
    },
    {
      "metadata": {
        "id": "CZhiMGamfgRr",
        "colab_type": "code",
        "colab": {
          "base_uri": "https://localhost:8080/",
          "height": 206
        },
        "outputId": "30798e59-cec2-48d4-d4af-a9c599d40a26"
      },
      "cell_type": "code",
      "source": [
        "#new data frame with product counts by time and total\n",
        "product_counts = pd.DataFrame({'early_counts':early_product_count, 'late_counts':late_product_count})\n",
        "product_counts['total'] = product_counts['early_counts'] + product_counts['late_counts']\n",
        "product_counts.head()"
      ],
      "execution_count": 73,
      "outputs": [
        {
          "output_type": "execute_result",
          "data": {
            "text/html": [
              "<div>\n",
              "<style scoped>\n",
              "    .dataframe tbody tr th:only-of-type {\n",
              "        vertical-align: middle;\n",
              "    }\n",
              "\n",
              "    .dataframe tbody tr th {\n",
              "        vertical-align: top;\n",
              "    }\n",
              "\n",
              "    .dataframe thead th {\n",
              "        text-align: right;\n",
              "    }\n",
              "</style>\n",
              "<table border=\"1\" class=\"dataframe\">\n",
              "  <thead>\n",
              "    <tr style=\"text-align: right;\">\n",
              "      <th></th>\n",
              "      <th>early_counts</th>\n",
              "      <th>late_counts</th>\n",
              "      <th>total</th>\n",
              "    </tr>\n",
              "  </thead>\n",
              "  <tbody>\n",
              "    <tr>\n",
              "      <th>#2 Coffee Filters</th>\n",
              "      <td>284.0</td>\n",
              "      <td>515.0</td>\n",
              "      <td>799.0</td>\n",
              "    </tr>\n",
              "    <tr>\n",
              "      <th>#2 Cone White Coffee Filters</th>\n",
              "      <td>8.0</td>\n",
              "      <td>6.0</td>\n",
              "      <td>14.0</td>\n",
              "    </tr>\n",
              "    <tr>\n",
              "      <th>#2 Mechanical Pencils</th>\n",
              "      <td>5.0</td>\n",
              "      <td>4.0</td>\n",
              "      <td>9.0</td>\n",
              "    </tr>\n",
              "    <tr>\n",
              "      <th>#4 Natural Brown Coffee Filters</th>\n",
              "      <td>117.0</td>\n",
              "      <td>130.0</td>\n",
              "      <td>247.0</td>\n",
              "    </tr>\n",
              "    <tr>\n",
              "      <th>&amp; Go! Hazelnut Spread + Pretzel Sticks</th>\n",
              "      <td>64.0</td>\n",
              "      <td>110.0</td>\n",
              "      <td>174.0</td>\n",
              "    </tr>\n",
              "  </tbody>\n",
              "</table>\n",
              "</div>"
            ],
            "text/plain": [
              "                                        early_counts  late_counts  total\n",
              "#2 Coffee Filters                              284.0        515.0  799.0\n",
              "#2 Cone White Coffee Filters                     8.0          6.0   14.0\n",
              "#2 Mechanical Pencils                            5.0          4.0    9.0\n",
              "#4 Natural Brown Coffee Filters                117.0        130.0  247.0\n",
              "& Go! Hazelnut Spread + Pretzel Sticks          64.0        110.0  174.0"
            ]
          },
          "metadata": {
            "tags": []
          },
          "execution_count": 73
        }
      ]
    },
    {
      "metadata": {
        "id": "W_oWp2cMf9on",
        "colab_type": "code",
        "colab": {}
      },
      "cell_type": "code",
      "source": [
        "#just the \"popular ones\"\n",
        "pop_prod_counts = product_counts[product_counts['total'] > 2900]"
      ],
      "execution_count": 0,
      "outputs": []
    },
    {
      "metadata": {
        "id": "KiM7JGCsgo5T",
        "colab_type": "code",
        "colab": {
          "base_uri": "https://localhost:8080/",
          "height": 424
        },
        "outputId": "cd0e1a18-718d-4e0e-81b8-30651769df65"
      },
      "cell_type": "code",
      "source": [
        "#this is what I was missing, percent of total\n",
        "pop_prod_counts['early percent'] = pop_prod_counts['early_counts']/pop_prod_counts['total']\n",
        "pop_prod_counts['late percent'] = pop_prod_counts['late_counts']/pop_prod_counts['total']\n",
        "pop_prod_counts.head()"
      ],
      "execution_count": 75,
      "outputs": [
        {
          "output_type": "stream",
          "text": [
            "/usr/local/lib/python3.6/dist-packages/ipykernel_launcher.py:1: SettingWithCopyWarning: \n",
            "A value is trying to be set on a copy of a slice from a DataFrame.\n",
            "Try using .loc[row_indexer,col_indexer] = value instead\n",
            "\n",
            "See the caveats in the documentation: http://pandas.pydata.org/pandas-docs/stable/indexing.html#indexing-view-versus-copy\n",
            "  \"\"\"Entry point for launching an IPython kernel.\n",
            "/usr/local/lib/python3.6/dist-packages/ipykernel_launcher.py:2: SettingWithCopyWarning: \n",
            "A value is trying to be set on a copy of a slice from a DataFrame.\n",
            "Try using .loc[row_indexer,col_indexer] = value instead\n",
            "\n",
            "See the caveats in the documentation: http://pandas.pydata.org/pandas-docs/stable/indexing.html#indexing-view-versus-copy\n",
            "  \n"
          ],
          "name": "stderr"
        },
        {
          "output_type": "execute_result",
          "data": {
            "text/html": [
              "<div>\n",
              "<style scoped>\n",
              "    .dataframe tbody tr th:only-of-type {\n",
              "        vertical-align: middle;\n",
              "    }\n",
              "\n",
              "    .dataframe tbody tr th {\n",
              "        vertical-align: top;\n",
              "    }\n",
              "\n",
              "    .dataframe thead th {\n",
              "        text-align: right;\n",
              "    }\n",
              "</style>\n",
              "<table border=\"1\" class=\"dataframe\">\n",
              "  <thead>\n",
              "    <tr style=\"text-align: right;\">\n",
              "      <th></th>\n",
              "      <th>early_counts</th>\n",
              "      <th>late_counts</th>\n",
              "      <th>total</th>\n",
              "      <th>early percent</th>\n",
              "      <th>late percent</th>\n",
              "    </tr>\n",
              "  </thead>\n",
              "  <tbody>\n",
              "    <tr>\n",
              "      <th>0% Fat Free Organic Milk</th>\n",
              "      <td>1567.0</td>\n",
              "      <td>2439.0</td>\n",
              "      <td>4006.0</td>\n",
              "      <td>0.391163</td>\n",
              "      <td>0.608837</td>\n",
              "    </tr>\n",
              "    <tr>\n",
              "      <th>0% Greek Strained Yogurt</th>\n",
              "      <td>6795.0</td>\n",
              "      <td>6856.0</td>\n",
              "      <td>13651.0</td>\n",
              "      <td>0.497766</td>\n",
              "      <td>0.502234</td>\n",
              "    </tr>\n",
              "    <tr>\n",
              "      <th>1 Liter</th>\n",
              "      <td>1377.0</td>\n",
              "      <td>2901.0</td>\n",
              "      <td>4278.0</td>\n",
              "      <td>0.321879</td>\n",
              "      <td>0.678121</td>\n",
              "    </tr>\n",
              "    <tr>\n",
              "      <th>1% Low Fat Milk</th>\n",
              "      <td>3285.0</td>\n",
              "      <td>5648.0</td>\n",
              "      <td>8933.0</td>\n",
              "      <td>0.367738</td>\n",
              "      <td>0.632262</td>\n",
              "    </tr>\n",
              "    <tr>\n",
              "      <th>1% Lowfat Milk</th>\n",
              "      <td>5477.0</td>\n",
              "      <td>9215.0</td>\n",
              "      <td>14692.0</td>\n",
              "      <td>0.372788</td>\n",
              "      <td>0.627212</td>\n",
              "    </tr>\n",
              "  </tbody>\n",
              "</table>\n",
              "</div>"
            ],
            "text/plain": [
              "                          early_counts  late_counts    total  early percent  \\\n",
              "0% Fat Free Organic Milk        1567.0       2439.0   4006.0       0.391163   \n",
              "0% Greek Strained Yogurt        6795.0       6856.0  13651.0       0.497766   \n",
              "1 Liter                         1377.0       2901.0   4278.0       0.321879   \n",
              "1% Low Fat Milk                 3285.0       5648.0   8933.0       0.367738   \n",
              "1% Lowfat Milk                  5477.0       9215.0  14692.0       0.372788   \n",
              "\n",
              "                          late percent  \n",
              "0% Fat Free Organic Milk      0.608837  \n",
              "0% Greek Strained Yogurt      0.502234  \n",
              "1 Liter                       0.678121  \n",
              "1% Low Fat Milk               0.632262  \n",
              "1% Lowfat Milk                0.627212  "
            ]
          },
          "metadata": {
            "tags": []
          },
          "execution_count": 75
        }
      ]
    },
    {
      "metadata": {
        "id": "e4UW_qg1hBik",
        "colab_type": "code",
        "colab": {
          "base_uri": "https://localhost:8080/",
          "height": 833
        },
        "outputId": "cd1e27e3-1f62-4ed2-97bc-97aef1dd7aa1"
      },
      "cell_type": "code",
      "source": [
        "#sort and show the top 25 for early\n",
        "pop_prod_counts.sort_values('early percent', ascending=False)[:25]"
      ],
      "execution_count": 76,
      "outputs": [
        {
          "output_type": "execute_result",
          "data": {
            "text/html": [
              "<div>\n",
              "<style scoped>\n",
              "    .dataframe tbody tr th:only-of-type {\n",
              "        vertical-align: middle;\n",
              "    }\n",
              "\n",
              "    .dataframe tbody tr th {\n",
              "        vertical-align: top;\n",
              "    }\n",
              "\n",
              "    .dataframe thead th {\n",
              "        text-align: right;\n",
              "    }\n",
              "</style>\n",
              "<table border=\"1\" class=\"dataframe\">\n",
              "  <thead>\n",
              "    <tr style=\"text-align: right;\">\n",
              "      <th></th>\n",
              "      <th>early_counts</th>\n",
              "      <th>late_counts</th>\n",
              "      <th>total</th>\n",
              "      <th>early percent</th>\n",
              "      <th>late percent</th>\n",
              "    </tr>\n",
              "  </thead>\n",
              "  <tbody>\n",
              "    <tr>\n",
              "      <th>Half And Half Ultra Pasteurized</th>\n",
              "      <td>1657.0</td>\n",
              "      <td>1338.0</td>\n",
              "      <td>2995.0</td>\n",
              "      <td>0.553255</td>\n",
              "      <td>0.446745</td>\n",
              "    </tr>\n",
              "    <tr>\n",
              "      <th>Sweet &amp; Salty Nut Granola Bars Peanut</th>\n",
              "      <td>2299.0</td>\n",
              "      <td>2039.0</td>\n",
              "      <td>4338.0</td>\n",
              "      <td>0.529968</td>\n",
              "      <td>0.470032</td>\n",
              "    </tr>\n",
              "    <tr>\n",
              "      <th>Pub Mix</th>\n",
              "      <td>2371.0</td>\n",
              "      <td>2108.0</td>\n",
              "      <td>4479.0</td>\n",
              "      <td>0.529359</td>\n",
              "      <td>0.470641</td>\n",
              "    </tr>\n",
              "    <tr>\n",
              "      <th>Nutri Grain Bars Multi Pack</th>\n",
              "      <td>1923.0</td>\n",
              "      <td>1777.0</td>\n",
              "      <td>3700.0</td>\n",
              "      <td>0.519730</td>\n",
              "      <td>0.480270</td>\n",
              "    </tr>\n",
              "    <tr>\n",
              "      <th>Apples</th>\n",
              "      <td>6692.0</td>\n",
              "      <td>6191.0</td>\n",
              "      <td>12883.0</td>\n",
              "      <td>0.519444</td>\n",
              "      <td>0.480556</td>\n",
              "    </tr>\n",
              "    <tr>\n",
              "      <th>Trail Mix</th>\n",
              "      <td>6506.0</td>\n",
              "      <td>6095.0</td>\n",
              "      <td>12601.0</td>\n",
              "      <td>0.516308</td>\n",
              "      <td>0.483692</td>\n",
              "    </tr>\n",
              "    <tr>\n",
              "      <th>Dry Roasted Almonds</th>\n",
              "      <td>1563.0</td>\n",
              "      <td>1470.0</td>\n",
              "      <td>3033.0</td>\n",
              "      <td>0.515331</td>\n",
              "      <td>0.484669</td>\n",
              "    </tr>\n",
              "    <tr>\n",
              "      <th>Original Rice Krispies Treats</th>\n",
              "      <td>2208.0</td>\n",
              "      <td>2121.0</td>\n",
              "      <td>4329.0</td>\n",
              "      <td>0.510049</td>\n",
              "      <td>0.489951</td>\n",
              "    </tr>\n",
              "    <tr>\n",
              "      <th>Crunchy Oats 'n Honey Granola Bars</th>\n",
              "      <td>4581.0</td>\n",
              "      <td>4501.0</td>\n",
              "      <td>9082.0</td>\n",
              "      <td>0.504404</td>\n",
              "      <td>0.495596</td>\n",
              "    </tr>\n",
              "    <tr>\n",
              "      <th>Cheez-It Baked Snack Crackers</th>\n",
              "      <td>2010.0</td>\n",
              "      <td>1982.0</td>\n",
              "      <td>3992.0</td>\n",
              "      <td>0.503507</td>\n",
              "      <td>0.496493</td>\n",
              "    </tr>\n",
              "    <tr>\n",
              "      <th>0% Greek Strained Yogurt</th>\n",
              "      <td>6795.0</td>\n",
              "      <td>6856.0</td>\n",
              "      <td>13651.0</td>\n",
              "      <td>0.497766</td>\n",
              "      <td>0.502234</td>\n",
              "    </tr>\n",
              "    <tr>\n",
              "      <th>Original Beef Jerky</th>\n",
              "      <td>3315.0</td>\n",
              "      <td>3382.0</td>\n",
              "      <td>6697.0</td>\n",
              "      <td>0.494998</td>\n",
              "      <td>0.505002</td>\n",
              "    </tr>\n",
              "    <tr>\n",
              "      <th>Cheez-It Cheddar Cracker</th>\n",
              "      <td>2202.0</td>\n",
              "      <td>2251.0</td>\n",
              "      <td>4453.0</td>\n",
              "      <td>0.494498</td>\n",
              "      <td>0.505502</td>\n",
              "    </tr>\n",
              "    <tr>\n",
              "      <th>Popcorn</th>\n",
              "      <td>3505.0</td>\n",
              "      <td>3597.0</td>\n",
              "      <td>7102.0</td>\n",
              "      <td>0.493523</td>\n",
              "      <td>0.506477</td>\n",
              "    </tr>\n",
              "    <tr>\n",
              "      <th>Pink Lady Apples</th>\n",
              "      <td>2575.0</td>\n",
              "      <td>2659.0</td>\n",
              "      <td>5234.0</td>\n",
              "      <td>0.491976</td>\n",
              "      <td>0.508024</td>\n",
              "    </tr>\n",
              "    <tr>\n",
              "      <th>Zero Calorie Cola</th>\n",
              "      <td>4366.0</td>\n",
              "      <td>4539.0</td>\n",
              "      <td>8905.0</td>\n",
              "      <td>0.490286</td>\n",
              "      <td>0.509714</td>\n",
              "    </tr>\n",
              "    <tr>\n",
              "      <th>Milk Chocolate Almonds</th>\n",
              "      <td>2581.0</td>\n",
              "      <td>2697.0</td>\n",
              "      <td>5278.0</td>\n",
              "      <td>0.489011</td>\n",
              "      <td>0.510989</td>\n",
              "    </tr>\n",
              "    <tr>\n",
              "      <th>Extra Fancy Unsalted Mixed Nuts</th>\n",
              "      <td>4903.0</td>\n",
              "      <td>5127.0</td>\n",
              "      <td>10030.0</td>\n",
              "      <td>0.488833</td>\n",
              "      <td>0.511167</td>\n",
              "    </tr>\n",
              "    <tr>\n",
              "      <th>Clementines</th>\n",
              "      <td>15583.0</td>\n",
              "      <td>16611.0</td>\n",
              "      <td>32194.0</td>\n",
              "      <td>0.484034</td>\n",
              "      <td>0.515966</td>\n",
              "    </tr>\n",
              "    <tr>\n",
              "      <th>Peaches</th>\n",
              "      <td>1422.0</td>\n",
              "      <td>1517.0</td>\n",
              "      <td>2939.0</td>\n",
              "      <td>0.483838</td>\n",
              "      <td>0.516162</td>\n",
              "    </tr>\n",
              "    <tr>\n",
              "      <th>Half And Half Cream</th>\n",
              "      <td>3139.0</td>\n",
              "      <td>3365.0</td>\n",
              "      <td>6504.0</td>\n",
              "      <td>0.482626</td>\n",
              "      <td>0.517374</td>\n",
              "    </tr>\n",
              "    <tr>\n",
              "      <th>with Crispy Almonds Cereal</th>\n",
              "      <td>2163.0</td>\n",
              "      <td>2330.0</td>\n",
              "      <td>4493.0</td>\n",
              "      <td>0.481416</td>\n",
              "      <td>0.518584</td>\n",
              "    </tr>\n",
              "    <tr>\n",
              "      <th>Original Almondmilk</th>\n",
              "      <td>2275.0</td>\n",
              "      <td>2491.0</td>\n",
              "      <td>4766.0</td>\n",
              "      <td>0.477339</td>\n",
              "      <td>0.522661</td>\n",
              "    </tr>\n",
              "    <tr>\n",
              "      <th>Earl Grey Tea</th>\n",
              "      <td>1562.0</td>\n",
              "      <td>1735.0</td>\n",
              "      <td>3297.0</td>\n",
              "      <td>0.473764</td>\n",
              "      <td>0.526236</td>\n",
              "    </tr>\n",
              "    <tr>\n",
              "      <th>Zen Tea</th>\n",
              "      <td>2361.0</td>\n",
              "      <td>2623.0</td>\n",
              "      <td>4984.0</td>\n",
              "      <td>0.473716</td>\n",
              "      <td>0.526284</td>\n",
              "    </tr>\n",
              "  </tbody>\n",
              "</table>\n",
              "</div>"
            ],
            "text/plain": [
              "                                       early_counts  late_counts    total  \\\n",
              "Half And Half Ultra Pasteurized              1657.0       1338.0   2995.0   \n",
              "Sweet & Salty Nut Granola Bars Peanut        2299.0       2039.0   4338.0   \n",
              "Pub Mix                                      2371.0       2108.0   4479.0   \n",
              "Nutri Grain Bars Multi Pack                  1923.0       1777.0   3700.0   \n",
              "Apples                                       6692.0       6191.0  12883.0   \n",
              "Trail Mix                                    6506.0       6095.0  12601.0   \n",
              "Dry Roasted Almonds                          1563.0       1470.0   3033.0   \n",
              "Original Rice Krispies Treats                2208.0       2121.0   4329.0   \n",
              "Crunchy Oats 'n Honey Granola Bars           4581.0       4501.0   9082.0   \n",
              "Cheez-It Baked Snack Crackers                2010.0       1982.0   3992.0   \n",
              "0% Greek Strained Yogurt                     6795.0       6856.0  13651.0   \n",
              "Original Beef Jerky                          3315.0       3382.0   6697.0   \n",
              "Cheez-It Cheddar Cracker                     2202.0       2251.0   4453.0   \n",
              "Popcorn                                      3505.0       3597.0   7102.0   \n",
              "Pink Lady Apples                             2575.0       2659.0   5234.0   \n",
              "Zero Calorie Cola                            4366.0       4539.0   8905.0   \n",
              "Milk Chocolate Almonds                       2581.0       2697.0   5278.0   \n",
              "Extra Fancy Unsalted Mixed Nuts              4903.0       5127.0  10030.0   \n",
              "Clementines                                 15583.0      16611.0  32194.0   \n",
              "Peaches                                      1422.0       1517.0   2939.0   \n",
              "Half And Half Cream                          3139.0       3365.0   6504.0   \n",
              "with Crispy Almonds Cereal                   2163.0       2330.0   4493.0   \n",
              "Original Almondmilk                          2275.0       2491.0   4766.0   \n",
              "Earl Grey Tea                                1562.0       1735.0   3297.0   \n",
              "Zen Tea                                      2361.0       2623.0   4984.0   \n",
              "\n",
              "                                       early percent  late percent  \n",
              "Half And Half Ultra Pasteurized             0.553255      0.446745  \n",
              "Sweet & Salty Nut Granola Bars Peanut       0.529968      0.470032  \n",
              "Pub Mix                                     0.529359      0.470641  \n",
              "Nutri Grain Bars Multi Pack                 0.519730      0.480270  \n",
              "Apples                                      0.519444      0.480556  \n",
              "Trail Mix                                   0.516308      0.483692  \n",
              "Dry Roasted Almonds                         0.515331      0.484669  \n",
              "Original Rice Krispies Treats               0.510049      0.489951  \n",
              "Crunchy Oats 'n Honey Granola Bars          0.504404      0.495596  \n",
              "Cheez-It Baked Snack Crackers               0.503507      0.496493  \n",
              "0% Greek Strained Yogurt                    0.497766      0.502234  \n",
              "Original Beef Jerky                         0.494998      0.505002  \n",
              "Cheez-It Cheddar Cracker                    0.494498      0.505502  \n",
              "Popcorn                                     0.493523      0.506477  \n",
              "Pink Lady Apples                            0.491976      0.508024  \n",
              "Zero Calorie Cola                           0.490286      0.509714  \n",
              "Milk Chocolate Almonds                      0.489011      0.510989  \n",
              "Extra Fancy Unsalted Mixed Nuts             0.488833      0.511167  \n",
              "Clementines                                 0.484034      0.515966  \n",
              "Peaches                                     0.483838      0.516162  \n",
              "Half And Half Cream                         0.482626      0.517374  \n",
              "with Crispy Almonds Cereal                  0.481416      0.518584  \n",
              "Original Almondmilk                         0.477339      0.522661  \n",
              "Earl Grey Tea                               0.473764      0.526236  \n",
              "Zen Tea                                     0.473716      0.526284  "
            ]
          },
          "metadata": {
            "tags": []
          },
          "execution_count": 76
        }
      ]
    },
    {
      "metadata": {
        "id": "JW6-BcByhbnT",
        "colab_type": "code",
        "colab": {
          "base_uri": "https://localhost:8080/",
          "height": 833
        },
        "outputId": "0c6e1922-0e7a-471e-9fd9-5e7bcae36c59"
      },
      "cell_type": "code",
      "source": [
        "#sort and show the top 25 for late\n",
        "pop_prod_counts.sort_values('late percent', ascending=False)[:25]"
      ],
      "execution_count": 77,
      "outputs": [
        {
          "output_type": "execute_result",
          "data": {
            "text/html": [
              "<div>\n",
              "<style scoped>\n",
              "    .dataframe tbody tr th:only-of-type {\n",
              "        vertical-align: middle;\n",
              "    }\n",
              "\n",
              "    .dataframe tbody tr th {\n",
              "        vertical-align: top;\n",
              "    }\n",
              "\n",
              "    .dataframe thead th {\n",
              "        text-align: right;\n",
              "    }\n",
              "</style>\n",
              "<table border=\"1\" class=\"dataframe\">\n",
              "  <thead>\n",
              "    <tr style=\"text-align: right;\">\n",
              "      <th></th>\n",
              "      <th>early_counts</th>\n",
              "      <th>late_counts</th>\n",
              "      <th>total</th>\n",
              "      <th>early percent</th>\n",
              "      <th>late percent</th>\n",
              "    </tr>\n",
              "  </thead>\n",
              "  <tbody>\n",
              "    <tr>\n",
              "      <th>The Tonight Dough™ Ice Cream</th>\n",
              "      <td>738.0</td>\n",
              "      <td>2399.0</td>\n",
              "      <td>3137.0</td>\n",
              "      <td>0.235257</td>\n",
              "      <td>0.764743</td>\n",
              "    </tr>\n",
              "    <tr>\n",
              "      <th>Chocolate Peanut Butter Cup Gelato</th>\n",
              "      <td>1078.0</td>\n",
              "      <td>3433.0</td>\n",
              "      <td>4511.0</td>\n",
              "      <td>0.238971</td>\n",
              "      <td>0.761029</td>\n",
              "    </tr>\n",
              "    <tr>\n",
              "      <th>Half Baked Frozen Yogurt</th>\n",
              "      <td>719.0</td>\n",
              "      <td>2264.0</td>\n",
              "      <td>2983.0</td>\n",
              "      <td>0.241033</td>\n",
              "      <td>0.758967</td>\n",
              "    </tr>\n",
              "    <tr>\n",
              "      <th>Half Baked® Ice Cream</th>\n",
              "      <td>1520.0</td>\n",
              "      <td>4702.0</td>\n",
              "      <td>6222.0</td>\n",
              "      <td>0.244294</td>\n",
              "      <td>0.755706</td>\n",
              "    </tr>\n",
              "    <tr>\n",
              "      <th>Americone Dream® Ice Cream</th>\n",
              "      <td>1592.0</td>\n",
              "      <td>4855.0</td>\n",
              "      <td>6447.0</td>\n",
              "      <td>0.246937</td>\n",
              "      <td>0.753063</td>\n",
              "    </tr>\n",
              "    <tr>\n",
              "      <th>Cherry Garcia Ice Cream</th>\n",
              "      <td>1112.0</td>\n",
              "      <td>3383.0</td>\n",
              "      <td>4495.0</td>\n",
              "      <td>0.247386</td>\n",
              "      <td>0.752614</td>\n",
              "    </tr>\n",
              "    <tr>\n",
              "      <th>Phish Food® Ice Cream</th>\n",
              "      <td>792.0</td>\n",
              "      <td>2385.0</td>\n",
              "      <td>3177.0</td>\n",
              "      <td>0.249292</td>\n",
              "      <td>0.750708</td>\n",
              "    </tr>\n",
              "    <tr>\n",
              "      <th>Milk and Cookies Ice Cream</th>\n",
              "      <td>1317.0</td>\n",
              "      <td>3906.0</td>\n",
              "      <td>5223.0</td>\n",
              "      <td>0.252154</td>\n",
              "      <td>0.747846</td>\n",
              "    </tr>\n",
              "    <tr>\n",
              "      <th>Caramel Cookie Crunch Gelato</th>\n",
              "      <td>1442.0</td>\n",
              "      <td>4275.0</td>\n",
              "      <td>5717.0</td>\n",
              "      <td>0.252230</td>\n",
              "      <td>0.747770</td>\n",
              "    </tr>\n",
              "    <tr>\n",
              "      <th>Sicilian Pistachio</th>\n",
              "      <td>798.0</td>\n",
              "      <td>2348.0</td>\n",
              "      <td>3146.0</td>\n",
              "      <td>0.253655</td>\n",
              "      <td>0.746345</td>\n",
              "    </tr>\n",
              "    <tr>\n",
              "      <th>Strawberry Ice Cream</th>\n",
              "      <td>1627.0</td>\n",
              "      <td>4782.0</td>\n",
              "      <td>6409.0</td>\n",
              "      <td>0.253862</td>\n",
              "      <td>0.746138</td>\n",
              "    </tr>\n",
              "    <tr>\n",
              "      <th>Mediterranean Mint Gelato</th>\n",
              "      <td>1949.0</td>\n",
              "      <td>5707.0</td>\n",
              "      <td>7656.0</td>\n",
              "      <td>0.254572</td>\n",
              "      <td>0.745428</td>\n",
              "    </tr>\n",
              "    <tr>\n",
              "      <th>Birthday Cake Light Ice Cream</th>\n",
              "      <td>1405.0</td>\n",
              "      <td>4057.0</td>\n",
              "      <td>5462.0</td>\n",
              "      <td>0.257232</td>\n",
              "      <td>0.742768</td>\n",
              "    </tr>\n",
              "    <tr>\n",
              "      <th>Vanilla Bean Light Ice Cream</th>\n",
              "      <td>1318.0</td>\n",
              "      <td>3778.0</td>\n",
              "      <td>5096.0</td>\n",
              "      <td>0.258634</td>\n",
              "      <td>0.741366</td>\n",
              "    </tr>\n",
              "    <tr>\n",
              "      <th>Coffee Ice Cream</th>\n",
              "      <td>1020.0</td>\n",
              "      <td>2921.0</td>\n",
              "      <td>3941.0</td>\n",
              "      <td>0.258818</td>\n",
              "      <td>0.741182</td>\n",
              "    </tr>\n",
              "    <tr>\n",
              "      <th>Mint Chip</th>\n",
              "      <td>1531.0</td>\n",
              "      <td>4340.0</td>\n",
              "      <td>5871.0</td>\n",
              "      <td>0.260773</td>\n",
              "      <td>0.739227</td>\n",
              "    </tr>\n",
              "    <tr>\n",
              "      <th>Roman Raspberry Sorbetto</th>\n",
              "      <td>831.0</td>\n",
              "      <td>2348.0</td>\n",
              "      <td>3179.0</td>\n",
              "      <td>0.261403</td>\n",
              "      <td>0.738597</td>\n",
              "    </tr>\n",
              "    <tr>\n",
              "      <th>Chocolate Chip Cookie Dough Ice Cream</th>\n",
              "      <td>2251.0</td>\n",
              "      <td>6304.0</td>\n",
              "      <td>8555.0</td>\n",
              "      <td>0.263121</td>\n",
              "      <td>0.736879</td>\n",
              "    </tr>\n",
              "    <tr>\n",
              "      <th>Cabernet Sauvignon</th>\n",
              "      <td>1696.0</td>\n",
              "      <td>4656.0</td>\n",
              "      <td>6352.0</td>\n",
              "      <td>0.267003</td>\n",
              "      <td>0.732997</td>\n",
              "    </tr>\n",
              "    <tr>\n",
              "      <th>Mint Chocolate Chip Ice Cream</th>\n",
              "      <td>956.0</td>\n",
              "      <td>2622.0</td>\n",
              "      <td>3578.0</td>\n",
              "      <td>0.267188</td>\n",
              "      <td>0.732812</td>\n",
              "    </tr>\n",
              "    <tr>\n",
              "      <th>Coconut Almond Minis Frozen Dessert Bars</th>\n",
              "      <td>935.0</td>\n",
              "      <td>2525.0</td>\n",
              "      <td>3460.0</td>\n",
              "      <td>0.270231</td>\n",
              "      <td>0.729769</td>\n",
              "    </tr>\n",
              "    <tr>\n",
              "      <th>Pinot Noir</th>\n",
              "      <td>1126.0</td>\n",
              "      <td>2990.0</td>\n",
              "      <td>4116.0</td>\n",
              "      <td>0.273567</td>\n",
              "      <td>0.726433</td>\n",
              "    </tr>\n",
              "    <tr>\n",
              "      <th>Chocolate Peanut Butter Ice Cream</th>\n",
              "      <td>1004.0</td>\n",
              "      <td>2649.0</td>\n",
              "      <td>3653.0</td>\n",
              "      <td>0.274843</td>\n",
              "      <td>0.725157</td>\n",
              "    </tr>\n",
              "    <tr>\n",
              "      <th>Rising Crust Pepperoni Pizza</th>\n",
              "      <td>1063.0</td>\n",
              "      <td>2800.0</td>\n",
              "      <td>3863.0</td>\n",
              "      <td>0.275175</td>\n",
              "      <td>0.724825</td>\n",
              "    </tr>\n",
              "    <tr>\n",
              "      <th>Tahitian Vanilla Bean Gelato</th>\n",
              "      <td>1476.0</td>\n",
              "      <td>3859.0</td>\n",
              "      <td>5335.0</td>\n",
              "      <td>0.276664</td>\n",
              "      <td>0.723336</td>\n",
              "    </tr>\n",
              "  </tbody>\n",
              "</table>\n",
              "</div>"
            ],
            "text/plain": [
              "                                          early_counts  late_counts   total  \\\n",
              "The Tonight Dough™ Ice Cream                     738.0       2399.0  3137.0   \n",
              "Chocolate Peanut Butter Cup Gelato              1078.0       3433.0  4511.0   \n",
              "Half Baked Frozen Yogurt                         719.0       2264.0  2983.0   \n",
              "Half Baked® Ice Cream                           1520.0       4702.0  6222.0   \n",
              "Americone Dream® Ice Cream                      1592.0       4855.0  6447.0   \n",
              "Cherry Garcia Ice Cream                         1112.0       3383.0  4495.0   \n",
              "Phish Food® Ice Cream                            792.0       2385.0  3177.0   \n",
              "Milk and Cookies Ice Cream                      1317.0       3906.0  5223.0   \n",
              "Caramel Cookie Crunch Gelato                    1442.0       4275.0  5717.0   \n",
              "Sicilian Pistachio                               798.0       2348.0  3146.0   \n",
              "Strawberry Ice Cream                            1627.0       4782.0  6409.0   \n",
              "Mediterranean Mint Gelato                       1949.0       5707.0  7656.0   \n",
              "Birthday Cake Light Ice Cream                   1405.0       4057.0  5462.0   \n",
              "Vanilla Bean Light Ice Cream                    1318.0       3778.0  5096.0   \n",
              "Coffee Ice Cream                                1020.0       2921.0  3941.0   \n",
              "Mint Chip                                       1531.0       4340.0  5871.0   \n",
              "Roman Raspberry Sorbetto                         831.0       2348.0  3179.0   \n",
              "Chocolate Chip Cookie Dough Ice Cream           2251.0       6304.0  8555.0   \n",
              "Cabernet Sauvignon                              1696.0       4656.0  6352.0   \n",
              "Mint Chocolate Chip Ice Cream                    956.0       2622.0  3578.0   \n",
              "Coconut Almond Minis Frozen Dessert Bars         935.0       2525.0  3460.0   \n",
              "Pinot Noir                                      1126.0       2990.0  4116.0   \n",
              "Chocolate Peanut Butter Ice Cream               1004.0       2649.0  3653.0   \n",
              "Rising Crust Pepperoni Pizza                    1063.0       2800.0  3863.0   \n",
              "Tahitian Vanilla Bean Gelato                    1476.0       3859.0  5335.0   \n",
              "\n",
              "                                          early percent  late percent  \n",
              "The Tonight Dough™ Ice Cream                   0.235257      0.764743  \n",
              "Chocolate Peanut Butter Cup Gelato             0.238971      0.761029  \n",
              "Half Baked Frozen Yogurt                       0.241033      0.758967  \n",
              "Half Baked® Ice Cream                          0.244294      0.755706  \n",
              "Americone Dream® Ice Cream                     0.246937      0.753063  \n",
              "Cherry Garcia Ice Cream                        0.247386      0.752614  \n",
              "Phish Food® Ice Cream                          0.249292      0.750708  \n",
              "Milk and Cookies Ice Cream                     0.252154      0.747846  \n",
              "Caramel Cookie Crunch Gelato                   0.252230      0.747770  \n",
              "Sicilian Pistachio                             0.253655      0.746345  \n",
              "Strawberry Ice Cream                           0.253862      0.746138  \n",
              "Mediterranean Mint Gelato                      0.254572      0.745428  \n",
              "Birthday Cake Light Ice Cream                  0.257232      0.742768  \n",
              "Vanilla Bean Light Ice Cream                   0.258634      0.741366  \n",
              "Coffee Ice Cream                               0.258818      0.741182  \n",
              "Mint Chip                                      0.260773      0.739227  \n",
              "Roman Raspberry Sorbetto                       0.261403      0.738597  \n",
              "Chocolate Chip Cookie Dough Ice Cream          0.263121      0.736879  \n",
              "Cabernet Sauvignon                             0.267003      0.732997  \n",
              "Mint Chocolate Chip Ice Cream                  0.267188      0.732812  \n",
              "Coconut Almond Minis Frozen Dessert Bars       0.270231      0.729769  \n",
              "Pinot Noir                                     0.273567      0.726433  \n",
              "Chocolate Peanut Butter Ice Cream              0.274843      0.725157  \n",
              "Rising Crust Pepperoni Pizza                   0.275175      0.724825  \n",
              "Tahitian Vanilla Bean Gelato                   0.276664      0.723336  "
            ]
          },
          "metadata": {
            "tags": []
          },
          "execution_count": 77
        }
      ]
    }
  ]
}