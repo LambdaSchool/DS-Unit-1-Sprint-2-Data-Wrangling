{
  "nbformat": 4,
  "nbformat_minor": 0,
  "metadata": {
    "colab": {
      "name": "LS_DS_122_Join_datasets.ipynb",
      "version": "0.3.2",
      "provenance": [],
      "collapsed_sections": [],
      "include_colab_link": true
    },
    "kernelspec": {
      "name": "python3",
      "display_name": "Python 3"
    }
  },
  "cells": [
    {
      "cell_type": "markdown",
      "metadata": {
        "id": "view-in-github",
        "colab_type": "text"
      },
      "source": [
        "<a href=\"https://colab.research.google.com/github/donw385/DS-Unit-1-Sprint-2-Data-Wrangling/blob/master/module2-join-datasets/LS_DS_122_Join_datasets.ipynb\" target=\"_parent\"><img src=\"https://colab.research.google.com/assets/colab-badge.svg\" alt=\"Open In Colab\"/></a>"
      ]
    },
    {
      "metadata": {
        "id": "pmU5YUal1eTZ",
        "colab_type": "text"
      },
      "cell_type": "markdown",
      "source": [
        "_Lambda School Data Science_\n",
        "\n",
        "# Join datasets\n",
        "\n",
        "Objectives\n",
        "- concatenate data with pandas\n",
        "- merge data with pandas\n",
        "\n",
        "Links\n",
        "- [Pandas Cheat Sheet](https://github.com/pandas-dev/pandas/blob/master/doc/cheatsheet/Pandas_Cheat_Sheet.pdf)\n",
        "  - Combine Data Sets: Standard Joins\n",
        "- Python Data Science Handbook\n",
        "  - [Chapter 3.6](https://jakevdp.github.io/PythonDataScienceHandbook/03.06-concat-and-append.html), Combining Datasets: Concat and Append\n",
        "  - [Chapter 3.7](https://jakevdp.github.io/PythonDataScienceHandbook/03.07-merge-and-join.html), Combining Datasets: Merge and Join"
      ]
    },
    {
      "metadata": {
        "id": "Mmi3J5fXrwZ3",
        "colab_type": "text"
      },
      "cell_type": "markdown",
      "source": [
        "## Download data\n",
        "\n",
        "We’ll work with a dataset of [3 Million Instacart Orders, Open Sourced](https://tech.instacart.com/3-million-instacart-orders-open-sourced-d40d29ead6f2)!"
      ]
    },
    {
      "metadata": {
        "id": "K2kcrJVybjrW",
        "colab_type": "code",
        "outputId": "e0318c55-8d4d-4baf-b3d6-4ae0b156cc07",
        "colab": {
          "base_uri": "https://localhost:8080/",
          "height": 200
        }
      },
      "cell_type": "code",
      "source": [
        "!wget https://s3.amazonaws.com/instacart-datasets/instacart_online_grocery_shopping_2017_05_01.tar.gz"
      ],
      "execution_count": 0,
      "outputs": [
        {
          "output_type": "stream",
          "text": [
            "--2019-01-15 20:39:58--  https://s3.amazonaws.com/instacart-datasets/instacart_online_grocery_shopping_2017_05_01.tar.gz\n",
            "Resolving s3.amazonaws.com (s3.amazonaws.com)... 52.216.19.11\n",
            "Connecting to s3.amazonaws.com (s3.amazonaws.com)|52.216.19.11|:443... connected.\n",
            "HTTP request sent, awaiting response... 200 OK\n",
            "Length: 205548478 (196M) [application/x-gzip]\n",
            "Saving to: ‘instacart_online_grocery_shopping_2017_05_01.tar.gz.2’\n",
            "\n",
            "instacart_online_gr 100%[===================>] 196.03M  96.2MB/s    in 2.0s    \n",
            "\n",
            "2019-01-15 20:40:00 (96.2 MB/s) - ‘instacart_online_grocery_shopping_2017_05_01.tar.gz.2’ saved [205548478/205548478]\n",
            "\n"
          ],
          "name": "stdout"
        }
      ]
    },
    {
      "metadata": {
        "id": "kqX40b2kdgAb",
        "colab_type": "code",
        "outputId": "bcc26f7a-9bb4-4bf7-fab9-cde923c4da40",
        "colab": {
          "base_uri": "https://localhost:8080/",
          "height": 233
        }
      },
      "cell_type": "code",
      "source": [
        "!tar --gunzip --extract --verbose --file=instacart_online_grocery_shopping_2017_05_01.tar.gz"
      ],
      "execution_count": 0,
      "outputs": [
        {
          "output_type": "stream",
          "text": [
            "instacart_2017_05_01/\n",
            "instacart_2017_05_01/._aisles.csv\n",
            "instacart_2017_05_01/aisles.csv\n",
            "instacart_2017_05_01/._departments.csv\n",
            "instacart_2017_05_01/departments.csv\n",
            "instacart_2017_05_01/._order_products__prior.csv\n",
            "instacart_2017_05_01/order_products__prior.csv\n",
            "instacart_2017_05_01/._order_products__train.csv\n",
            "instacart_2017_05_01/order_products__train.csv\n",
            "instacart_2017_05_01/._orders.csv\n",
            "instacart_2017_05_01/orders.csv\n",
            "instacart_2017_05_01/._products.csv\n",
            "instacart_2017_05_01/products.csv\n"
          ],
          "name": "stdout"
        }
      ]
    },
    {
      "metadata": {
        "id": "YbCvZZCBfHCI",
        "colab_type": "code",
        "outputId": "dc95b751-aeef-46a6-e1a0-5d440c4a3863",
        "colab": {
          "base_uri": "https://localhost:8080/",
          "height": 33
        }
      },
      "cell_type": "code",
      "source": [
        "%cd instacart_2017_05_01"
      ],
      "execution_count": 0,
      "outputs": [
        {
          "output_type": "stream",
          "text": [
            "/content/instacart_2017_05_01\n"
          ],
          "name": "stdout"
        }
      ]
    },
    {
      "metadata": {
        "id": "RsA14wiKr03j",
        "colab_type": "text"
      },
      "cell_type": "markdown",
      "source": [
        "## Goal: Reproduce this example\n",
        "\n",
        "The first two orders for user id 1:"
      ]
    },
    {
      "metadata": {
        "id": "vLqOTMcfjprg",
        "colab_type": "code",
        "outputId": "8000fbd2-e0bf-4986-d93c-4ebb2ec9280f",
        "colab": {
          "base_uri": "https://localhost:8080/",
          "height": 312
        }
      },
      "cell_type": "code",
      "source": [
        "from IPython.display import display, Image\n",
        "url = 'https://cdn-images-1.medium.com/max/1600/1*vYGFQCafJtGBBX5mbl0xyw.png'\n",
        "example = Image(url=url, width=600)\n",
        "\n",
        "display(example)"
      ],
      "execution_count": 0,
      "outputs": [
        {
          "output_type": "display_data",
          "data": {
            "text/html": [
              "<img src=\"https://cdn-images-1.medium.com/max/1600/1*vYGFQCafJtGBBX5mbl0xyw.png\" width=\"600\"/>"
            ],
            "text/plain": [
              "<IPython.core.display.Image object>"
            ]
          },
          "metadata": {
            "tags": []
          }
        }
      ]
    },
    {
      "metadata": {
        "id": "nPwG8aM_txl4",
        "colab_type": "text"
      },
      "cell_type": "markdown",
      "source": [
        "## Load data\n",
        "\n",
        "Here's a list of all six CSV filenames"
      ]
    },
    {
      "metadata": {
        "id": "Ksah0cOrfdJQ",
        "colab_type": "code",
        "outputId": "307f98c8-3c5b-414d-fe72-e3e4bf7dcf71",
        "colab": {
          "base_uri": "https://localhost:8080/",
          "height": 167
        }
      },
      "cell_type": "code",
      "source": [
        "!ls -lh"
      ],
      "execution_count": 0,
      "outputs": [
        {
          "output_type": "stream",
          "text": [
            "total 877M\n",
            "-rw-r--r-- 1  502 staff 2.6K May  2  2017 aisles.csv\n",
            "-rw-r--r-- 1  502 staff  270 May  2  2017 departments.csv\n",
            "drwxr-xr-x 2  502 staff 4.0K May  2  2017 instacart_2017_05_01\n",
            "-rw-r--r-- 1 root root  197M Oct 20  2017 instacart_online_grocery_shopping_2017_05_01.tar.gz\n",
            "-rw-r--r-- 1  502 staff 551M May  2  2017 order_products__prior.csv\n",
            "-rw-r--r-- 1  502 staff  24M May  2  2017 order_products__train.csv\n",
            "-rw-r--r-- 1  502 staff 104M May  2  2017 orders.csv\n",
            "-rw-r--r-- 1  502 staff 2.1M May  2  2017 products.csv\n"
          ],
          "name": "stdout"
        }
      ]
    },
    {
      "metadata": {
        "id": "AHT7fKuxvPgV",
        "colab_type": "text"
      },
      "cell_type": "markdown",
      "source": [
        "For each CSV\n",
        "- Load it with pandas\n",
        "- Look at the dataframe's shape\n",
        "- Look at its head (first rows)\n",
        "- `display(example)`\n",
        "- Which columns does it have in common with the example we want to reproduce?"
      ]
    },
    {
      "metadata": {
        "id": "cB_5T6TprcUH",
        "colab_type": "text"
      },
      "cell_type": "markdown",
      "source": [
        "### aisles"
      ]
    },
    {
      "metadata": {
        "id": "JB3bvwSDK6v3",
        "colab_type": "code",
        "colab": {}
      },
      "cell_type": "code",
      "source": [
        "import pandas as pd\n",
        "aisles = pd. read_csv('aisles.csv')"
      ],
      "execution_count": 0,
      "outputs": []
    },
    {
      "metadata": {
        "id": "9nkxcLn2jEiN",
        "colab_type": "code",
        "outputId": "e63e33a5-017c-4e50-eaf7-ef6d2bfb89e5",
        "colab": {
          "base_uri": "https://localhost:8080/",
          "height": 33
        }
      },
      "cell_type": "code",
      "source": [
        "aisles.shape"
      ],
      "execution_count": 0,
      "outputs": [
        {
          "output_type": "execute_result",
          "data": {
            "text/plain": [
              "(134, 2)"
            ]
          },
          "metadata": {
            "tags": []
          },
          "execution_count": 8
        }
      ]
    },
    {
      "metadata": {
        "id": "gTyCaczJjHDu",
        "colab_type": "code",
        "outputId": "07cd51f2-5d32-4248-c139-7963ff34941d",
        "colab": {
          "base_uri": "https://localhost:8080/",
          "height": 197
        }
      },
      "cell_type": "code",
      "source": [
        "aisles.head()"
      ],
      "execution_count": 0,
      "outputs": [
        {
          "output_type": "execute_result",
          "data": {
            "text/html": [
              "<div>\n",
              "<style scoped>\n",
              "    .dataframe tbody tr th:only-of-type {\n",
              "        vertical-align: middle;\n",
              "    }\n",
              "\n",
              "    .dataframe tbody tr th {\n",
              "        vertical-align: top;\n",
              "    }\n",
              "\n",
              "    .dataframe thead th {\n",
              "        text-align: right;\n",
              "    }\n",
              "</style>\n",
              "<table border=\"1\" class=\"dataframe\">\n",
              "  <thead>\n",
              "    <tr style=\"text-align: right;\">\n",
              "      <th></th>\n",
              "      <th>aisle_id</th>\n",
              "      <th>aisle</th>\n",
              "    </tr>\n",
              "  </thead>\n",
              "  <tbody>\n",
              "    <tr>\n",
              "      <th>0</th>\n",
              "      <td>1</td>\n",
              "      <td>prepared soups salads</td>\n",
              "    </tr>\n",
              "    <tr>\n",
              "      <th>1</th>\n",
              "      <td>2</td>\n",
              "      <td>specialty cheeses</td>\n",
              "    </tr>\n",
              "    <tr>\n",
              "      <th>2</th>\n",
              "      <td>3</td>\n",
              "      <td>energy granola bars</td>\n",
              "    </tr>\n",
              "    <tr>\n",
              "      <th>3</th>\n",
              "      <td>4</td>\n",
              "      <td>instant foods</td>\n",
              "    </tr>\n",
              "    <tr>\n",
              "      <th>4</th>\n",
              "      <td>5</td>\n",
              "      <td>marinades meat preparation</td>\n",
              "    </tr>\n",
              "  </tbody>\n",
              "</table>\n",
              "</div>"
            ],
            "text/plain": [
              "   aisle_id                       aisle\n",
              "0         1       prepared soups salads\n",
              "1         2           specialty cheeses\n",
              "2         3         energy granola bars\n",
              "3         4               instant foods\n",
              "4         5  marinades meat preparation"
            ]
          },
          "metadata": {
            "tags": []
          },
          "execution_count": 9
        }
      ]
    },
    {
      "metadata": {
        "id": "x4wIDhTsjKUZ",
        "colab_type": "code",
        "cellView": "both",
        "outputId": "a9a762db-bcc4-46c8-b3c0-88743cc6e2f5",
        "colab": {
          "base_uri": "https://localhost:8080/",
          "height": 312
        }
      },
      "cell_type": "code",
      "source": [
        "#aisle not useful\n",
        "display(example)"
      ],
      "execution_count": 0,
      "outputs": [
        {
          "output_type": "display_data",
          "data": {
            "text/html": [
              "<img src=\"https://cdn-images-1.medium.com/max/1600/1*vYGFQCafJtGBBX5mbl0xyw.png\" width=\"600\"/>"
            ],
            "text/plain": [
              "<IPython.core.display.Image object>"
            ]
          },
          "metadata": {
            "tags": []
          }
        }
      ]
    },
    {
      "metadata": {
        "id": "vvMPvJdDjiqS",
        "colab_type": "code",
        "colab": {}
      },
      "cell_type": "code",
      "source": [
        ""
      ],
      "execution_count": 0,
      "outputs": []
    },
    {
      "metadata": {
        "id": "9-GrkqM6rfXr",
        "colab_type": "text"
      },
      "cell_type": "markdown",
      "source": [
        "### departments"
      ]
    },
    {
      "metadata": {
        "id": "NYIcif0dK9_5",
        "colab_type": "code",
        "colab": {}
      },
      "cell_type": "code",
      "source": [
        "departments = pd. read_csv('departments.csv')"
      ],
      "execution_count": 0,
      "outputs": []
    },
    {
      "metadata": {
        "id": "DCpXat6bjqv3",
        "colab_type": "code",
        "outputId": "f0909f6e-4a7d-4643-c914-597658fbecca",
        "colab": {
          "base_uri": "https://localhost:8080/",
          "height": 33
        }
      },
      "cell_type": "code",
      "source": [
        "departments.shape"
      ],
      "execution_count": 0,
      "outputs": [
        {
          "output_type": "execute_result",
          "data": {
            "text/plain": [
              "(21, 2)"
            ]
          },
          "metadata": {
            "tags": []
          },
          "execution_count": 12
        }
      ]
    },
    {
      "metadata": {
        "id": "x2sq1lSdjw_M",
        "colab_type": "code",
        "outputId": "c6d37fe0-d9b1-4d9f-b8be-d7a5995170ad",
        "colab": {
          "base_uri": "https://localhost:8080/",
          "height": 197
        }
      },
      "cell_type": "code",
      "source": [
        "departments.head()"
      ],
      "execution_count": 0,
      "outputs": [
        {
          "output_type": "execute_result",
          "data": {
            "text/html": [
              "<div>\n",
              "<style scoped>\n",
              "    .dataframe tbody tr th:only-of-type {\n",
              "        vertical-align: middle;\n",
              "    }\n",
              "\n",
              "    .dataframe tbody tr th {\n",
              "        vertical-align: top;\n",
              "    }\n",
              "\n",
              "    .dataframe thead th {\n",
              "        text-align: right;\n",
              "    }\n",
              "</style>\n",
              "<table border=\"1\" class=\"dataframe\">\n",
              "  <thead>\n",
              "    <tr style=\"text-align: right;\">\n",
              "      <th></th>\n",
              "      <th>department_id</th>\n",
              "      <th>department</th>\n",
              "    </tr>\n",
              "  </thead>\n",
              "  <tbody>\n",
              "    <tr>\n",
              "      <th>0</th>\n",
              "      <td>1</td>\n",
              "      <td>frozen</td>\n",
              "    </tr>\n",
              "    <tr>\n",
              "      <th>1</th>\n",
              "      <td>2</td>\n",
              "      <td>other</td>\n",
              "    </tr>\n",
              "    <tr>\n",
              "      <th>2</th>\n",
              "      <td>3</td>\n",
              "      <td>bakery</td>\n",
              "    </tr>\n",
              "    <tr>\n",
              "      <th>3</th>\n",
              "      <td>4</td>\n",
              "      <td>produce</td>\n",
              "    </tr>\n",
              "    <tr>\n",
              "      <th>4</th>\n",
              "      <td>5</td>\n",
              "      <td>alcohol</td>\n",
              "    </tr>\n",
              "  </tbody>\n",
              "</table>\n",
              "</div>"
            ],
            "text/plain": [
              "   department_id department\n",
              "0              1     frozen\n",
              "1              2      other\n",
              "2              3     bakery\n",
              "3              4    produce\n",
              "4              5    alcohol"
            ]
          },
          "metadata": {
            "tags": []
          },
          "execution_count": 13
        }
      ]
    },
    {
      "metadata": {
        "id": "d3y0vulQj1uj",
        "colab_type": "code",
        "outputId": "912f51f6-fee8-420b-8a1d-588ce971f1a5",
        "colab": {
          "base_uri": "https://localhost:8080/",
          "height": 197
        }
      },
      "cell_type": "code",
      "source": [
        "departments.sample(n=5)\n",
        "#departments not useful"
      ],
      "execution_count": 0,
      "outputs": [
        {
          "output_type": "execute_result",
          "data": {
            "text/html": [
              "<div>\n",
              "<style scoped>\n",
              "    .dataframe tbody tr th:only-of-type {\n",
              "        vertical-align: middle;\n",
              "    }\n",
              "\n",
              "    .dataframe tbody tr th {\n",
              "        vertical-align: top;\n",
              "    }\n",
              "\n",
              "    .dataframe thead th {\n",
              "        text-align: right;\n",
              "    }\n",
              "</style>\n",
              "<table border=\"1\" class=\"dataframe\">\n",
              "  <thead>\n",
              "    <tr style=\"text-align: right;\">\n",
              "      <th></th>\n",
              "      <th>department_id</th>\n",
              "      <th>department</th>\n",
              "    </tr>\n",
              "  </thead>\n",
              "  <tbody>\n",
              "    <tr>\n",
              "      <th>6</th>\n",
              "      <td>7</td>\n",
              "      <td>beverages</td>\n",
              "    </tr>\n",
              "    <tr>\n",
              "      <th>12</th>\n",
              "      <td>13</td>\n",
              "      <td>pantry</td>\n",
              "    </tr>\n",
              "    <tr>\n",
              "      <th>11</th>\n",
              "      <td>12</td>\n",
              "      <td>meat seafood</td>\n",
              "    </tr>\n",
              "    <tr>\n",
              "      <th>7</th>\n",
              "      <td>8</td>\n",
              "      <td>pets</td>\n",
              "    </tr>\n",
              "    <tr>\n",
              "      <th>3</th>\n",
              "      <td>4</td>\n",
              "      <td>produce</td>\n",
              "    </tr>\n",
              "  </tbody>\n",
              "</table>\n",
              "</div>"
            ],
            "text/plain": [
              "    department_id    department\n",
              "6               7     beverages\n",
              "12             13        pantry\n",
              "11             12  meat seafood\n",
              "7               8          pets\n",
              "3               4       produce"
            ]
          },
          "metadata": {
            "tags": []
          },
          "execution_count": 14
        }
      ]
    },
    {
      "metadata": {
        "id": "VhhVcn9kK-nG",
        "colab_type": "text"
      },
      "cell_type": "markdown",
      "source": [
        "### order_products__prior"
      ]
    },
    {
      "metadata": {
        "id": "LuLpqPj-juZM",
        "colab_type": "code",
        "colab": {}
      },
      "cell_type": "code",
      "source": [
        "order_products_prior = pd.read_csv('order_products__prior.csv')"
      ],
      "execution_count": 0,
      "outputs": []
    },
    {
      "metadata": {
        "id": "-49qTkPlLBT_",
        "colab_type": "code",
        "outputId": "98daee3a-489f-4d25-c519-4bf7459b4cf5",
        "colab": {
          "base_uri": "https://localhost:8080/",
          "height": 33
        }
      },
      "cell_type": "code",
      "source": [
        "order_products_prior.shape"
      ],
      "execution_count": 0,
      "outputs": [
        {
          "output_type": "execute_result",
          "data": {
            "text/plain": [
              "(32434489, 4)"
            ]
          },
          "metadata": {
            "tags": []
          },
          "execution_count": 16
        }
      ]
    },
    {
      "metadata": {
        "id": "C4W691vsk55m",
        "colab_type": "code",
        "outputId": "d4ee4873-79c8-409c-ac50-6b1535897c0f",
        "colab": {
          "base_uri": "https://localhost:8080/",
          "height": 197
        }
      },
      "cell_type": "code",
      "source": [
        "order_products_prior.head()\n",
        "\n",
        "#order id, product id, add to cart order useful"
      ],
      "execution_count": 0,
      "outputs": [
        {
          "output_type": "execute_result",
          "data": {
            "text/html": [
              "<div>\n",
              "<style scoped>\n",
              "    .dataframe tbody tr th:only-of-type {\n",
              "        vertical-align: middle;\n",
              "    }\n",
              "\n",
              "    .dataframe tbody tr th {\n",
              "        vertical-align: top;\n",
              "    }\n",
              "\n",
              "    .dataframe thead th {\n",
              "        text-align: right;\n",
              "    }\n",
              "</style>\n",
              "<table border=\"1\" class=\"dataframe\">\n",
              "  <thead>\n",
              "    <tr style=\"text-align: right;\">\n",
              "      <th></th>\n",
              "      <th>order_id</th>\n",
              "      <th>product_id</th>\n",
              "      <th>add_to_cart_order</th>\n",
              "      <th>reordered</th>\n",
              "    </tr>\n",
              "  </thead>\n",
              "  <tbody>\n",
              "    <tr>\n",
              "      <th>0</th>\n",
              "      <td>2</td>\n",
              "      <td>33120</td>\n",
              "      <td>1</td>\n",
              "      <td>1</td>\n",
              "    </tr>\n",
              "    <tr>\n",
              "      <th>1</th>\n",
              "      <td>2</td>\n",
              "      <td>28985</td>\n",
              "      <td>2</td>\n",
              "      <td>1</td>\n",
              "    </tr>\n",
              "    <tr>\n",
              "      <th>2</th>\n",
              "      <td>2</td>\n",
              "      <td>9327</td>\n",
              "      <td>3</td>\n",
              "      <td>0</td>\n",
              "    </tr>\n",
              "    <tr>\n",
              "      <th>3</th>\n",
              "      <td>2</td>\n",
              "      <td>45918</td>\n",
              "      <td>4</td>\n",
              "      <td>1</td>\n",
              "    </tr>\n",
              "    <tr>\n",
              "      <th>4</th>\n",
              "      <td>2</td>\n",
              "      <td>30035</td>\n",
              "      <td>5</td>\n",
              "      <td>0</td>\n",
              "    </tr>\n",
              "  </tbody>\n",
              "</table>\n",
              "</div>"
            ],
            "text/plain": [
              "   order_id  product_id  add_to_cart_order  reordered\n",
              "0         2       33120                  1          1\n",
              "1         2       28985                  2          1\n",
              "2         2        9327                  3          0\n",
              "3         2       45918                  4          1\n",
              "4         2       30035                  5          0"
            ]
          },
          "metadata": {
            "tags": []
          },
          "execution_count": 17
        }
      ]
    },
    {
      "metadata": {
        "id": "HVYJEKJcLBut",
        "colab_type": "text"
      },
      "cell_type": "markdown",
      "source": [
        "### order_products__train"
      ]
    },
    {
      "metadata": {
        "id": "gbPKUMb3LDxb",
        "colab_type": "code",
        "colab": {}
      },
      "cell_type": "code",
      "source": [
        "order_products_train = pd.read_csv('order_products__train.csv')"
      ],
      "execution_count": 0,
      "outputs": []
    },
    {
      "metadata": {
        "id": "rE1y0zohlYkq",
        "colab_type": "code",
        "outputId": "35fb167c-545f-4388-eb80-41323d174d7b",
        "colab": {
          "base_uri": "https://localhost:8080/",
          "height": 33
        }
      },
      "cell_type": "code",
      "source": [
        "order_products_train.shape"
      ],
      "execution_count": 0,
      "outputs": [
        {
          "output_type": "execute_result",
          "data": {
            "text/plain": [
              "(1384617, 4)"
            ]
          },
          "metadata": {
            "tags": []
          },
          "execution_count": 19
        }
      ]
    },
    {
      "metadata": {
        "id": "zwAq5ue5lYq2",
        "colab_type": "code",
        "outputId": "b93c9722-03a8-466e-e6d8-b874dfe6049b",
        "colab": {
          "base_uri": "https://localhost:8080/",
          "height": 197
        }
      },
      "cell_type": "code",
      "source": [
        "order_products_train.head()\n",
        "#exact same columns as prior"
      ],
      "execution_count": 0,
      "outputs": [
        {
          "output_type": "execute_result",
          "data": {
            "text/html": [
              "<div>\n",
              "<style scoped>\n",
              "    .dataframe tbody tr th:only-of-type {\n",
              "        vertical-align: middle;\n",
              "    }\n",
              "\n",
              "    .dataframe tbody tr th {\n",
              "        vertical-align: top;\n",
              "    }\n",
              "\n",
              "    .dataframe thead th {\n",
              "        text-align: right;\n",
              "    }\n",
              "</style>\n",
              "<table border=\"1\" class=\"dataframe\">\n",
              "  <thead>\n",
              "    <tr style=\"text-align: right;\">\n",
              "      <th></th>\n",
              "      <th>order_id</th>\n",
              "      <th>product_id</th>\n",
              "      <th>add_to_cart_order</th>\n",
              "      <th>reordered</th>\n",
              "    </tr>\n",
              "  </thead>\n",
              "  <tbody>\n",
              "    <tr>\n",
              "      <th>0</th>\n",
              "      <td>1</td>\n",
              "      <td>49302</td>\n",
              "      <td>1</td>\n",
              "      <td>1</td>\n",
              "    </tr>\n",
              "    <tr>\n",
              "      <th>1</th>\n",
              "      <td>1</td>\n",
              "      <td>11109</td>\n",
              "      <td>2</td>\n",
              "      <td>1</td>\n",
              "    </tr>\n",
              "    <tr>\n",
              "      <th>2</th>\n",
              "      <td>1</td>\n",
              "      <td>10246</td>\n",
              "      <td>3</td>\n",
              "      <td>0</td>\n",
              "    </tr>\n",
              "    <tr>\n",
              "      <th>3</th>\n",
              "      <td>1</td>\n",
              "      <td>49683</td>\n",
              "      <td>4</td>\n",
              "      <td>0</td>\n",
              "    </tr>\n",
              "    <tr>\n",
              "      <th>4</th>\n",
              "      <td>1</td>\n",
              "      <td>43633</td>\n",
              "      <td>5</td>\n",
              "      <td>1</td>\n",
              "    </tr>\n",
              "  </tbody>\n",
              "</table>\n",
              "</div>"
            ],
            "text/plain": [
              "   order_id  product_id  add_to_cart_order  reordered\n",
              "0         1       49302                  1          1\n",
              "1         1       11109                  2          1\n",
              "2         1       10246                  3          0\n",
              "3         1       49683                  4          0\n",
              "4         1       43633                  5          1"
            ]
          },
          "metadata": {
            "tags": []
          },
          "execution_count": 20
        }
      ]
    },
    {
      "metadata": {
        "id": "LYPrWUJnrp7G",
        "colab_type": "text"
      },
      "cell_type": "markdown",
      "source": [
        "### orders"
      ]
    },
    {
      "metadata": {
        "id": "aFyl_7vyLJxS",
        "colab_type": "code",
        "colab": {}
      },
      "cell_type": "code",
      "source": [
        "orders = pd.read_csv('orders.csv')"
      ],
      "execution_count": 0,
      "outputs": []
    },
    {
      "metadata": {
        "id": "l7mLVS6nl4Qb",
        "colab_type": "code",
        "outputId": "4f8124a6-d2eb-48ca-a7a1-51c658580c0c",
        "colab": {
          "base_uri": "https://localhost:8080/",
          "height": 33
        }
      },
      "cell_type": "code",
      "source": [
        "orders.shape"
      ],
      "execution_count": 0,
      "outputs": [
        {
          "output_type": "execute_result",
          "data": {
            "text/plain": [
              "(3421083, 7)"
            ]
          },
          "metadata": {
            "tags": []
          },
          "execution_count": 22
        }
      ]
    },
    {
      "metadata": {
        "id": "pxqjMV50l4Xl",
        "colab_type": "code",
        "outputId": "3f914945-10f8-4890-efcf-c5ce810876a1",
        "colab": {
          "base_uri": "https://localhost:8080/",
          "height": 197
        }
      },
      "cell_type": "code",
      "source": [
        "orders.head()\n",
        "# need all except eval set, and days since prior order"
      ],
      "execution_count": 0,
      "outputs": [
        {
          "output_type": "execute_result",
          "data": {
            "text/html": [
              "<div>\n",
              "<style scoped>\n",
              "    .dataframe tbody tr th:only-of-type {\n",
              "        vertical-align: middle;\n",
              "    }\n",
              "\n",
              "    .dataframe tbody tr th {\n",
              "        vertical-align: top;\n",
              "    }\n",
              "\n",
              "    .dataframe thead th {\n",
              "        text-align: right;\n",
              "    }\n",
              "</style>\n",
              "<table border=\"1\" class=\"dataframe\">\n",
              "  <thead>\n",
              "    <tr style=\"text-align: right;\">\n",
              "      <th></th>\n",
              "      <th>order_id</th>\n",
              "      <th>user_id</th>\n",
              "      <th>eval_set</th>\n",
              "      <th>order_number</th>\n",
              "      <th>order_dow</th>\n",
              "      <th>order_hour_of_day</th>\n",
              "      <th>days_since_prior_order</th>\n",
              "    </tr>\n",
              "  </thead>\n",
              "  <tbody>\n",
              "    <tr>\n",
              "      <th>0</th>\n",
              "      <td>2539329</td>\n",
              "      <td>1</td>\n",
              "      <td>prior</td>\n",
              "      <td>1</td>\n",
              "      <td>2</td>\n",
              "      <td>8</td>\n",
              "      <td>NaN</td>\n",
              "    </tr>\n",
              "    <tr>\n",
              "      <th>1</th>\n",
              "      <td>2398795</td>\n",
              "      <td>1</td>\n",
              "      <td>prior</td>\n",
              "      <td>2</td>\n",
              "      <td>3</td>\n",
              "      <td>7</td>\n",
              "      <td>15.0</td>\n",
              "    </tr>\n",
              "    <tr>\n",
              "      <th>2</th>\n",
              "      <td>473747</td>\n",
              "      <td>1</td>\n",
              "      <td>prior</td>\n",
              "      <td>3</td>\n",
              "      <td>3</td>\n",
              "      <td>12</td>\n",
              "      <td>21.0</td>\n",
              "    </tr>\n",
              "    <tr>\n",
              "      <th>3</th>\n",
              "      <td>2254736</td>\n",
              "      <td>1</td>\n",
              "      <td>prior</td>\n",
              "      <td>4</td>\n",
              "      <td>4</td>\n",
              "      <td>7</td>\n",
              "      <td>29.0</td>\n",
              "    </tr>\n",
              "    <tr>\n",
              "      <th>4</th>\n",
              "      <td>431534</td>\n",
              "      <td>1</td>\n",
              "      <td>prior</td>\n",
              "      <td>5</td>\n",
              "      <td>4</td>\n",
              "      <td>15</td>\n",
              "      <td>28.0</td>\n",
              "    </tr>\n",
              "  </tbody>\n",
              "</table>\n",
              "</div>"
            ],
            "text/plain": [
              "   order_id  user_id eval_set  order_number  order_dow  order_hour_of_day  \\\n",
              "0   2539329        1    prior             1          2                  8   \n",
              "1   2398795        1    prior             2          3                  7   \n",
              "2    473747        1    prior             3          3                 12   \n",
              "3   2254736        1    prior             4          4                  7   \n",
              "4    431534        1    prior             5          4                 15   \n",
              "\n",
              "   days_since_prior_order  \n",
              "0                     NaN  \n",
              "1                    15.0  \n",
              "2                    21.0  \n",
              "3                    29.0  \n",
              "4                    28.0  "
            ]
          },
          "metadata": {
            "tags": []
          },
          "execution_count": 23
        }
      ]
    },
    {
      "metadata": {
        "id": "2O5x-F4El-9v",
        "colab_type": "code",
        "colab": {}
      },
      "cell_type": "code",
      "source": [
        ""
      ],
      "execution_count": 0,
      "outputs": []
    },
    {
      "metadata": {
        "id": "nIX3SYXersao",
        "colab_type": "text"
      },
      "cell_type": "markdown",
      "source": [
        "### products"
      ]
    },
    {
      "metadata": {
        "id": "9icvQgRfLLU1",
        "colab_type": "code",
        "colab": {}
      },
      "cell_type": "code",
      "source": [
        "products = pd.read_csv('products.csv')"
      ],
      "execution_count": 0,
      "outputs": []
    },
    {
      "metadata": {
        "id": "5GxnOJk1mNdI",
        "colab_type": "code",
        "outputId": "4e50f4a3-d455-45ff-e3fe-f74705e7a53f",
        "colab": {
          "base_uri": "https://localhost:8080/",
          "height": 33
        }
      },
      "cell_type": "code",
      "source": [
        "products.shape"
      ],
      "execution_count": 0,
      "outputs": [
        {
          "output_type": "execute_result",
          "data": {
            "text/plain": [
              "(49688, 4)"
            ]
          },
          "metadata": {
            "tags": []
          },
          "execution_count": 25
        }
      ]
    },
    {
      "metadata": {
        "id": "Mfd2IzN5mNhN",
        "colab_type": "code",
        "outputId": "d5d5e058-3abd-48d3-d7b8-b829ca325fb8",
        "colab": {
          "base_uri": "https://localhost:8080/",
          "height": 197
        }
      },
      "cell_type": "code",
      "source": [
        "products.head()\n",
        "#product id, product name"
      ],
      "execution_count": 0,
      "outputs": [
        {
          "output_type": "execute_result",
          "data": {
            "text/html": [
              "<div>\n",
              "<style scoped>\n",
              "    .dataframe tbody tr th:only-of-type {\n",
              "        vertical-align: middle;\n",
              "    }\n",
              "\n",
              "    .dataframe tbody tr th {\n",
              "        vertical-align: top;\n",
              "    }\n",
              "\n",
              "    .dataframe thead th {\n",
              "        text-align: right;\n",
              "    }\n",
              "</style>\n",
              "<table border=\"1\" class=\"dataframe\">\n",
              "  <thead>\n",
              "    <tr style=\"text-align: right;\">\n",
              "      <th></th>\n",
              "      <th>product_id</th>\n",
              "      <th>product_name</th>\n",
              "      <th>aisle_id</th>\n",
              "      <th>department_id</th>\n",
              "    </tr>\n",
              "  </thead>\n",
              "  <tbody>\n",
              "    <tr>\n",
              "      <th>0</th>\n",
              "      <td>1</td>\n",
              "      <td>Chocolate Sandwich Cookies</td>\n",
              "      <td>61</td>\n",
              "      <td>19</td>\n",
              "    </tr>\n",
              "    <tr>\n",
              "      <th>1</th>\n",
              "      <td>2</td>\n",
              "      <td>All-Seasons Salt</td>\n",
              "      <td>104</td>\n",
              "      <td>13</td>\n",
              "    </tr>\n",
              "    <tr>\n",
              "      <th>2</th>\n",
              "      <td>3</td>\n",
              "      <td>Robust Golden Unsweetened Oolong Tea</td>\n",
              "      <td>94</td>\n",
              "      <td>7</td>\n",
              "    </tr>\n",
              "    <tr>\n",
              "      <th>3</th>\n",
              "      <td>4</td>\n",
              "      <td>Smart Ones Classic Favorites Mini Rigatoni Wit...</td>\n",
              "      <td>38</td>\n",
              "      <td>1</td>\n",
              "    </tr>\n",
              "    <tr>\n",
              "      <th>4</th>\n",
              "      <td>5</td>\n",
              "      <td>Green Chile Anytime Sauce</td>\n",
              "      <td>5</td>\n",
              "      <td>13</td>\n",
              "    </tr>\n",
              "  </tbody>\n",
              "</table>\n",
              "</div>"
            ],
            "text/plain": [
              "   product_id                                       product_name  aisle_id  \\\n",
              "0           1                         Chocolate Sandwich Cookies        61   \n",
              "1           2                                   All-Seasons Salt       104   \n",
              "2           3               Robust Golden Unsweetened Oolong Tea        94   \n",
              "3           4  Smart Ones Classic Favorites Mini Rigatoni Wit...        38   \n",
              "4           5                          Green Chile Anytime Sauce         5   \n",
              "\n",
              "   department_id  \n",
              "0             19  \n",
              "1             13  \n",
              "2              7  \n",
              "3              1  \n",
              "4             13  "
            ]
          },
          "metadata": {
            "tags": []
          },
          "execution_count": 26
        }
      ]
    },
    {
      "metadata": {
        "id": "cbHumXOiJfy2",
        "colab_type": "text"
      },
      "cell_type": "markdown",
      "source": [
        "## Concatenate order_products__prior and order_products__train"
      ]
    },
    {
      "metadata": {
        "id": "TJ23kqpAY8Vv",
        "colab_type": "code",
        "outputId": "779a18b8-ddde-480c-9763-3b46895449a8",
        "colab": {
          "base_uri": "https://localhost:8080/",
          "height": 197
        }
      },
      "cell_type": "code",
      "source": [
        "#append columns, add, axis=1, but better to add axis = column\n",
        "\n",
        "order_products = pd.concat([order_products_prior,order_products_train])\n",
        "\n",
        "order_products.head()"
      ],
      "execution_count": 0,
      "outputs": [
        {
          "output_type": "execute_result",
          "data": {
            "text/html": [
              "<div>\n",
              "<style scoped>\n",
              "    .dataframe tbody tr th:only-of-type {\n",
              "        vertical-align: middle;\n",
              "    }\n",
              "\n",
              "    .dataframe tbody tr th {\n",
              "        vertical-align: top;\n",
              "    }\n",
              "\n",
              "    .dataframe thead th {\n",
              "        text-align: right;\n",
              "    }\n",
              "</style>\n",
              "<table border=\"1\" class=\"dataframe\">\n",
              "  <thead>\n",
              "    <tr style=\"text-align: right;\">\n",
              "      <th></th>\n",
              "      <th>order_id</th>\n",
              "      <th>product_id</th>\n",
              "      <th>add_to_cart_order</th>\n",
              "      <th>reordered</th>\n",
              "    </tr>\n",
              "  </thead>\n",
              "  <tbody>\n",
              "    <tr>\n",
              "      <th>0</th>\n",
              "      <td>2</td>\n",
              "      <td>33120</td>\n",
              "      <td>1</td>\n",
              "      <td>1</td>\n",
              "    </tr>\n",
              "    <tr>\n",
              "      <th>1</th>\n",
              "      <td>2</td>\n",
              "      <td>28985</td>\n",
              "      <td>2</td>\n",
              "      <td>1</td>\n",
              "    </tr>\n",
              "    <tr>\n",
              "      <th>2</th>\n",
              "      <td>2</td>\n",
              "      <td>9327</td>\n",
              "      <td>3</td>\n",
              "      <td>0</td>\n",
              "    </tr>\n",
              "    <tr>\n",
              "      <th>3</th>\n",
              "      <td>2</td>\n",
              "      <td>45918</td>\n",
              "      <td>4</td>\n",
              "      <td>1</td>\n",
              "    </tr>\n",
              "    <tr>\n",
              "      <th>4</th>\n",
              "      <td>2</td>\n",
              "      <td>30035</td>\n",
              "      <td>5</td>\n",
              "      <td>0</td>\n",
              "    </tr>\n",
              "  </tbody>\n",
              "</table>\n",
              "</div>"
            ],
            "text/plain": [
              "   order_id  product_id  add_to_cart_order  reordered\n",
              "0         2       33120                  1          1\n",
              "1         2       28985                  2          1\n",
              "2         2        9327                  3          0\n",
              "3         2       45918                  4          1\n",
              "4         2       30035                  5          0"
            ]
          },
          "metadata": {
            "tags": []
          },
          "execution_count": 27
        }
      ]
    },
    {
      "metadata": {
        "id": "lW6W63SvoWQn",
        "colab_type": "code",
        "colab": {}
      },
      "cell_type": "code",
      "source": [
        "#validate working properly\n",
        "\n",
        "assert len(order_products) == len(order_products_prior) + len(order_products_train)"
      ],
      "execution_count": 0,
      "outputs": []
    },
    {
      "metadata": {
        "id": "moszreOyo9_I",
        "colab_type": "code",
        "colab": {}
      },
      "cell_type": "code",
      "source": [
        "#validate columns\n",
        "assert len(order_products.columns) == len(order_products_prior.columns) == len(order_products_train.columns)"
      ],
      "execution_count": 0,
      "outputs": []
    },
    {
      "metadata": {
        "id": "Z1YRw5ypJuv2",
        "colab_type": "text"
      },
      "cell_type": "markdown",
      "source": [
        "## Get a subset of orders — the first two orders for user id 1"
      ]
    },
    {
      "metadata": {
        "id": "YFBTseoyZAbj",
        "colab_type": "code",
        "outputId": "bf9f69a7-fc15-456e-af23-6b57207f9238",
        "colab": {
          "base_uri": "https://localhost:8080/",
          "height": 107
        }
      },
      "cell_type": "code",
      "source": [
        "condition = (orders.user_id==1) & (orders.order_number <= 2)\n",
        "columns = ['user_id', 'order_id','order_number','order_dow','order_hour_of_day']\n",
        "subset = orders.loc[condition,columns]\n",
        "subset.head()"
      ],
      "execution_count": 0,
      "outputs": [
        {
          "output_type": "execute_result",
          "data": {
            "text/html": [
              "<div>\n",
              "<style scoped>\n",
              "    .dataframe tbody tr th:only-of-type {\n",
              "        vertical-align: middle;\n",
              "    }\n",
              "\n",
              "    .dataframe tbody tr th {\n",
              "        vertical-align: top;\n",
              "    }\n",
              "\n",
              "    .dataframe thead th {\n",
              "        text-align: right;\n",
              "    }\n",
              "</style>\n",
              "<table border=\"1\" class=\"dataframe\">\n",
              "  <thead>\n",
              "    <tr style=\"text-align: right;\">\n",
              "      <th></th>\n",
              "      <th>user_id</th>\n",
              "      <th>order_id</th>\n",
              "      <th>order_number</th>\n",
              "      <th>order_dow</th>\n",
              "      <th>order_hour_of_day</th>\n",
              "    </tr>\n",
              "  </thead>\n",
              "  <tbody>\n",
              "    <tr>\n",
              "      <th>0</th>\n",
              "      <td>1</td>\n",
              "      <td>2539329</td>\n",
              "      <td>1</td>\n",
              "      <td>2</td>\n",
              "      <td>8</td>\n",
              "    </tr>\n",
              "    <tr>\n",
              "      <th>1</th>\n",
              "      <td>1</td>\n",
              "      <td>2398795</td>\n",
              "      <td>2</td>\n",
              "      <td>3</td>\n",
              "      <td>7</td>\n",
              "    </tr>\n",
              "  </tbody>\n",
              "</table>\n",
              "</div>"
            ],
            "text/plain": [
              "   user_id  order_id  order_number  order_dow  order_hour_of_day\n",
              "0        1   2539329             1          2                  8\n",
              "1        1   2398795             2          3                  7"
            ]
          },
          "metadata": {
            "tags": []
          },
          "execution_count": 30
        }
      ]
    },
    {
      "metadata": {
        "id": "3K1p0QHuKPnt",
        "colab_type": "text"
      },
      "cell_type": "markdown",
      "source": [
        "## Merge dataframes"
      ]
    },
    {
      "metadata": {
        "id": "DaDcnygCLZvM",
        "colab_type": "code",
        "colab": {}
      },
      "cell_type": "code",
      "source": [
        "columns =['order_id','add_to_cart_order','product_id']\n",
        "merged = pd.merge(subset, order_products[columns], how='inner', on='order_id')"
      ],
      "execution_count": 0,
      "outputs": []
    },
    {
      "metadata": {
        "id": "FCHfMoZ1vmyb",
        "colab_type": "code",
        "outputId": "aa66f27a-80a2-4bc0-ec58-a77610e08330",
        "colab": {
          "base_uri": "https://localhost:8080/",
          "height": 33
        }
      },
      "cell_type": "code",
      "source": [
        "subset.shape, merged.shape"
      ],
      "execution_count": 0,
      "outputs": [
        {
          "output_type": "execute_result",
          "data": {
            "text/plain": [
              "((2, 5), (11, 7))"
            ]
          },
          "metadata": {
            "tags": []
          },
          "execution_count": 32
        }
      ]
    },
    {
      "metadata": {
        "id": "D70tOnFpvvEx",
        "colab_type": "code",
        "outputId": "3e21e200-6a4b-4dfb-ba62-5228c25a9c96",
        "colab": {
          "base_uri": "https://localhost:8080/",
          "height": 197
        }
      },
      "cell_type": "code",
      "source": [
        "merged['product_name'] = products['product_name']\n",
        "merged.head()"
      ],
      "execution_count": 0,
      "outputs": [
        {
          "output_type": "execute_result",
          "data": {
            "text/html": [
              "<div>\n",
              "<style scoped>\n",
              "    .dataframe tbody tr th:only-of-type {\n",
              "        vertical-align: middle;\n",
              "    }\n",
              "\n",
              "    .dataframe tbody tr th {\n",
              "        vertical-align: top;\n",
              "    }\n",
              "\n",
              "    .dataframe thead th {\n",
              "        text-align: right;\n",
              "    }\n",
              "</style>\n",
              "<table border=\"1\" class=\"dataframe\">\n",
              "  <thead>\n",
              "    <tr style=\"text-align: right;\">\n",
              "      <th></th>\n",
              "      <th>user_id</th>\n",
              "      <th>order_id</th>\n",
              "      <th>order_number</th>\n",
              "      <th>order_dow</th>\n",
              "      <th>order_hour_of_day</th>\n",
              "      <th>add_to_cart_order</th>\n",
              "      <th>product_id</th>\n",
              "      <th>product_name</th>\n",
              "    </tr>\n",
              "  </thead>\n",
              "  <tbody>\n",
              "    <tr>\n",
              "      <th>0</th>\n",
              "      <td>1</td>\n",
              "      <td>2539329</td>\n",
              "      <td>1</td>\n",
              "      <td>2</td>\n",
              "      <td>8</td>\n",
              "      <td>1</td>\n",
              "      <td>196</td>\n",
              "      <td>Chocolate Sandwich Cookies</td>\n",
              "    </tr>\n",
              "    <tr>\n",
              "      <th>1</th>\n",
              "      <td>1</td>\n",
              "      <td>2539329</td>\n",
              "      <td>1</td>\n",
              "      <td>2</td>\n",
              "      <td>8</td>\n",
              "      <td>2</td>\n",
              "      <td>14084</td>\n",
              "      <td>All-Seasons Salt</td>\n",
              "    </tr>\n",
              "    <tr>\n",
              "      <th>2</th>\n",
              "      <td>1</td>\n",
              "      <td>2539329</td>\n",
              "      <td>1</td>\n",
              "      <td>2</td>\n",
              "      <td>8</td>\n",
              "      <td>3</td>\n",
              "      <td>12427</td>\n",
              "      <td>Robust Golden Unsweetened Oolong Tea</td>\n",
              "    </tr>\n",
              "    <tr>\n",
              "      <th>3</th>\n",
              "      <td>1</td>\n",
              "      <td>2539329</td>\n",
              "      <td>1</td>\n",
              "      <td>2</td>\n",
              "      <td>8</td>\n",
              "      <td>4</td>\n",
              "      <td>26088</td>\n",
              "      <td>Smart Ones Classic Favorites Mini Rigatoni Wit...</td>\n",
              "    </tr>\n",
              "    <tr>\n",
              "      <th>4</th>\n",
              "      <td>1</td>\n",
              "      <td>2539329</td>\n",
              "      <td>1</td>\n",
              "      <td>2</td>\n",
              "      <td>8</td>\n",
              "      <td>5</td>\n",
              "      <td>26405</td>\n",
              "      <td>Green Chile Anytime Sauce</td>\n",
              "    </tr>\n",
              "  </tbody>\n",
              "</table>\n",
              "</div>"
            ],
            "text/plain": [
              "   user_id  order_id  order_number  order_dow  order_hour_of_day  \\\n",
              "0        1   2539329             1          2                  8   \n",
              "1        1   2539329             1          2                  8   \n",
              "2        1   2539329             1          2                  8   \n",
              "3        1   2539329             1          2                  8   \n",
              "4        1   2539329             1          2                  8   \n",
              "\n",
              "   add_to_cart_order  product_id  \\\n",
              "0                  1         196   \n",
              "1                  2       14084   \n",
              "2                  3       12427   \n",
              "3                  4       26088   \n",
              "4                  5       26405   \n",
              "\n",
              "                                        product_name  \n",
              "0                         Chocolate Sandwich Cookies  \n",
              "1                                   All-Seasons Salt  \n",
              "2               Robust Golden Unsweetened Oolong Tea  \n",
              "3  Smart Ones Classic Favorites Mini Rigatoni Wit...  \n",
              "4                          Green Chile Anytime Sauce  "
            ]
          },
          "metadata": {
            "tags": []
          },
          "execution_count": 41
        }
      ]
    },
    {
      "metadata": {
        "id": "JMspyAOqz68s",
        "colab_type": "code",
        "colab": {}
      },
      "cell_type": "code",
      "source": [
        "final = pd.merge(merged,products[['product_id','product_name']])\n",
        "final = final.sort_values(by=['order_number', 'add_to_cart_order'])"
      ],
      "execution_count": 0,
      "outputs": []
    },
    {
      "metadata": {
        "id": "y4OMht-Z1brb",
        "colab_type": "code",
        "colab": {}
      },
      "cell_type": "code",
      "source": [
        "final.columns = [column.replace('_', ' ') \n",
        "                 for column in final]"
      ],
      "execution_count": 0,
      "outputs": []
    },
    {
      "metadata": {
        "id": "v1nphhZa4YKV",
        "colab_type": "text"
      },
      "cell_type": "markdown",
      "source": [
        ""
      ]
    },
    {
      "metadata": {
        "id": "cnOMkRje1rdU",
        "colab_type": "code",
        "outputId": "54a5733d-ba29-4e24-de3c-424fcb7dffdf",
        "colab": {
          "base_uri": "https://localhost:8080/",
          "height": 47
        }
      },
      "cell_type": "code",
      "source": [
        "final.head()"
      ],
      "execution_count": 0,
      "outputs": [
        {
          "output_type": "execute_result",
          "data": {
            "text/html": [
              "<div>\n",
              "<style scoped>\n",
              "    .dataframe tbody tr th:only-of-type {\n",
              "        vertical-align: middle;\n",
              "    }\n",
              "\n",
              "    .dataframe tbody tr th {\n",
              "        vertical-align: top;\n",
              "    }\n",
              "\n",
              "    .dataframe thead th {\n",
              "        text-align: right;\n",
              "    }\n",
              "</style>\n",
              "<table border=\"1\" class=\"dataframe\">\n",
              "  <thead>\n",
              "    <tr style=\"text-align: right;\">\n",
              "      <th></th>\n",
              "      <th>user id</th>\n",
              "      <th>order id</th>\n",
              "      <th>order number</th>\n",
              "      <th>order dow</th>\n",
              "      <th>order hour of day</th>\n",
              "      <th>add to cart order</th>\n",
              "      <th>product id</th>\n",
              "      <th>product name</th>\n",
              "    </tr>\n",
              "  </thead>\n",
              "  <tbody>\n",
              "  </tbody>\n",
              "</table>\n",
              "</div>"
            ],
            "text/plain": [
              "Empty DataFrame\n",
              "Columns: [user id, order id, order number, order dow, order hour of day, add to cart order, product id, product name]\n",
              "Index: []"
            ]
          },
          "metadata": {
            "tags": []
          },
          "execution_count": 45
        }
      ]
    },
    {
      "metadata": {
        "id": "kAMtvSQWPUcj",
        "colab_type": "text"
      },
      "cell_type": "markdown",
      "source": [
        "# Assignment\n",
        "\n",
        "These are the top 10 most frequently ordered products. How many times was each ordered? \n",
        "\n",
        "1. Banana\n",
        "2. Bag of Organic Bananas\n",
        "3. Organic Strawberries\n",
        "4. Organic Baby Spinach \n",
        "5. Organic Hass Avocado\n",
        "6. Organic Avocado\n",
        "7. Large Lemon \n",
        "8. Strawberries\n",
        "9. Limes \n",
        "10. Organic Whole Milk\n",
        "\n",
        "First, write down which columns you need and which dataframes have them.\n",
        "\n",
        "Next, merge these into a single dataframe.\n",
        "\n",
        "Then, use pandas functions from the previous lesson to get the counts of the top 10 most frequently ordered products.\n",
        "\n",
        "## Stretch challenge\n",
        "\n",
        "The [Instacart blog post](https://tech.instacart.com/3-million-instacart-orders-open-sourced-d40d29ead6f2) has a visualization of \"**Popular products** purchased earliest in the day (green) and latest in the day (red).\" \n",
        "\n",
        "The post says,\n",
        "\n",
        "> \"We can also see the time of day that users purchase specific products.\n",
        "\n",
        "> Healthier snacks and staples tend to be purchased earlier in the day, whereas ice cream (especially Half Baked and The Tonight Dough) are far more popular when customers are ordering in the evening.\n",
        "\n",
        "> **In fact, of the top 25 latest ordered products, the first 24 are ice cream! The last one, of course, is a frozen pizza.**\"\n",
        "\n",
        "Your challenge is to reproduce the list of the top 25 latest ordered popular products.\n",
        "\n",
        "We'll define \"popular products\" as products with more than 2,900 orders."
      ]
    },
    {
      "metadata": {
        "id": "cYj7lOaEOnuw",
        "colab_type": "code",
        "colab": {}
      },
      "cell_type": "code",
      "source": [
        "total = pd.merge(order_products, products)\n"
      ],
      "execution_count": 0,
      "outputs": []
    },
    {
      "metadata": {
        "id": "JT7tU71AOmRu",
        "colab_type": "code",
        "outputId": "5bc079ef-39d3-4503-b81e-0a40541adca8",
        "colab": {
          "base_uri": "https://localhost:8080/",
          "height": 197
        }
      },
      "cell_type": "code",
      "source": [
        "total.head()\n"
      ],
      "execution_count": 0,
      "outputs": [
        {
          "output_type": "execute_result",
          "data": {
            "text/html": [
              "<div>\n",
              "<style scoped>\n",
              "    .dataframe tbody tr th:only-of-type {\n",
              "        vertical-align: middle;\n",
              "    }\n",
              "\n",
              "    .dataframe tbody tr th {\n",
              "        vertical-align: top;\n",
              "    }\n",
              "\n",
              "    .dataframe thead th {\n",
              "        text-align: right;\n",
              "    }\n",
              "</style>\n",
              "<table border=\"1\" class=\"dataframe\">\n",
              "  <thead>\n",
              "    <tr style=\"text-align: right;\">\n",
              "      <th></th>\n",
              "      <th>order_id</th>\n",
              "      <th>product_id</th>\n",
              "      <th>add_to_cart_order</th>\n",
              "      <th>reordered</th>\n",
              "      <th>product_name</th>\n",
              "      <th>aisle_id</th>\n",
              "      <th>department_id</th>\n",
              "    </tr>\n",
              "  </thead>\n",
              "  <tbody>\n",
              "    <tr>\n",
              "      <th>0</th>\n",
              "      <td>2</td>\n",
              "      <td>33120</td>\n",
              "      <td>1</td>\n",
              "      <td>1</td>\n",
              "      <td>Organic Egg Whites</td>\n",
              "      <td>86</td>\n",
              "      <td>16</td>\n",
              "    </tr>\n",
              "    <tr>\n",
              "      <th>1</th>\n",
              "      <td>26</td>\n",
              "      <td>33120</td>\n",
              "      <td>5</td>\n",
              "      <td>0</td>\n",
              "      <td>Organic Egg Whites</td>\n",
              "      <td>86</td>\n",
              "      <td>16</td>\n",
              "    </tr>\n",
              "    <tr>\n",
              "      <th>2</th>\n",
              "      <td>120</td>\n",
              "      <td>33120</td>\n",
              "      <td>13</td>\n",
              "      <td>0</td>\n",
              "      <td>Organic Egg Whites</td>\n",
              "      <td>86</td>\n",
              "      <td>16</td>\n",
              "    </tr>\n",
              "    <tr>\n",
              "      <th>3</th>\n",
              "      <td>327</td>\n",
              "      <td>33120</td>\n",
              "      <td>5</td>\n",
              "      <td>1</td>\n",
              "      <td>Organic Egg Whites</td>\n",
              "      <td>86</td>\n",
              "      <td>16</td>\n",
              "    </tr>\n",
              "    <tr>\n",
              "      <th>4</th>\n",
              "      <td>390</td>\n",
              "      <td>33120</td>\n",
              "      <td>28</td>\n",
              "      <td>1</td>\n",
              "      <td>Organic Egg Whites</td>\n",
              "      <td>86</td>\n",
              "      <td>16</td>\n",
              "    </tr>\n",
              "  </tbody>\n",
              "</table>\n",
              "</div>"
            ],
            "text/plain": [
              "   order_id  product_id  add_to_cart_order  reordered        product_name  \\\n",
              "0         2       33120                  1          1  Organic Egg Whites   \n",
              "1        26       33120                  5          0  Organic Egg Whites   \n",
              "2       120       33120                 13          0  Organic Egg Whites   \n",
              "3       327       33120                  5          1  Organic Egg Whites   \n",
              "4       390       33120                 28          1  Organic Egg Whites   \n",
              "\n",
              "   aisle_id  department_id  \n",
              "0        86             16  \n",
              "1        86             16  \n",
              "2        86             16  \n",
              "3        86             16  \n",
              "4        86             16  "
            ]
          },
          "metadata": {
            "tags": []
          },
          "execution_count": 49
        }
      ]
    },
    {
      "metadata": {
        "id": "tQD-HwFLU1J8",
        "colab_type": "code",
        "outputId": "e761b199-58eb-45a0-952c-398e21813bd0",
        "colab": {
          "base_uri": "https://localhost:8080/",
          "height": 33
        }
      },
      "cell_type": "code",
      "source": [
        "total.shape, order_products.shape, products.shape"
      ],
      "execution_count": 0,
      "outputs": [
        {
          "output_type": "execute_result",
          "data": {
            "text/plain": [
              "((33819106, 7), (33819106, 4), (49688, 4))"
            ]
          },
          "metadata": {
            "tags": []
          },
          "execution_count": 58
        }
      ]
    },
    {
      "metadata": {
        "id": "rYmYEGfEQ8fP",
        "colab_type": "code",
        "colab": {}
      },
      "cell_type": "code",
      "source": [
        "product_counts = total['product_name'].value_counts().sort_index()"
      ],
      "execution_count": 0,
      "outputs": []
    },
    {
      "metadata": {
        "id": "plr2_hkAS-yF",
        "colab_type": "code",
        "outputId": "f84f857f-3552-4e4f-c5de-8b8a83a5dc4b",
        "colab": {
          "base_uri": "https://localhost:8080/",
          "height": 200
        }
      },
      "cell_type": "code",
      "source": [
        "#answer to assignment\n",
        "product_counts.sort_values(ascending=False).head(10)"
      ],
      "execution_count": 0,
      "outputs": [
        {
          "output_type": "execute_result",
          "data": {
            "text/plain": [
              "Banana                    491291\n",
              "Bag of Organic Bananas    394930\n",
              "Organic Strawberries      275577\n",
              "Organic Baby Spinach      251705\n",
              "Organic Hass Avocado      220877\n",
              "Organic Avocado           184224\n",
              "Large Lemon               160792\n",
              "Strawberries              149445\n",
              "Limes                     146660\n",
              "Organic Whole Milk        142813\n",
              "Name: product_name, dtype: int64"
            ]
          },
          "metadata": {
            "tags": []
          },
          "execution_count": 55
        }
      ]
    },
    {
      "metadata": {
        "id": "-vwgpS6JVgvC",
        "colab_type": "code",
        "outputId": "286420be-32d2-4516-e3cf-e9b1c278fc6c",
        "colab": {
          "base_uri": "https://localhost:8080/",
          "height": 197
        }
      },
      "cell_type": "code",
      "source": [
        "total['order_hour_of_day'] = orders['order_hour_of_day']\n",
        "total.head()"
      ],
      "execution_count": 0,
      "outputs": [
        {
          "output_type": "execute_result",
          "data": {
            "text/html": [
              "<div>\n",
              "<style scoped>\n",
              "    .dataframe tbody tr th:only-of-type {\n",
              "        vertical-align: middle;\n",
              "    }\n",
              "\n",
              "    .dataframe tbody tr th {\n",
              "        vertical-align: top;\n",
              "    }\n",
              "\n",
              "    .dataframe thead th {\n",
              "        text-align: right;\n",
              "    }\n",
              "</style>\n",
              "<table border=\"1\" class=\"dataframe\">\n",
              "  <thead>\n",
              "    <tr style=\"text-align: right;\">\n",
              "      <th></th>\n",
              "      <th>order_id</th>\n",
              "      <th>product_id</th>\n",
              "      <th>add_to_cart_order</th>\n",
              "      <th>reordered</th>\n",
              "      <th>product_name</th>\n",
              "      <th>aisle_id</th>\n",
              "      <th>department_id</th>\n",
              "      <th>order_hour_of_day</th>\n",
              "    </tr>\n",
              "  </thead>\n",
              "  <tbody>\n",
              "    <tr>\n",
              "      <th>0</th>\n",
              "      <td>2</td>\n",
              "      <td>33120</td>\n",
              "      <td>1</td>\n",
              "      <td>1</td>\n",
              "      <td>Organic Egg Whites</td>\n",
              "      <td>86</td>\n",
              "      <td>16</td>\n",
              "      <td>8.0</td>\n",
              "    </tr>\n",
              "    <tr>\n",
              "      <th>1</th>\n",
              "      <td>26</td>\n",
              "      <td>33120</td>\n",
              "      <td>5</td>\n",
              "      <td>0</td>\n",
              "      <td>Organic Egg Whites</td>\n",
              "      <td>86</td>\n",
              "      <td>16</td>\n",
              "      <td>7.0</td>\n",
              "    </tr>\n",
              "    <tr>\n",
              "      <th>2</th>\n",
              "      <td>120</td>\n",
              "      <td>33120</td>\n",
              "      <td>13</td>\n",
              "      <td>0</td>\n",
              "      <td>Organic Egg Whites</td>\n",
              "      <td>86</td>\n",
              "      <td>16</td>\n",
              "      <td>12.0</td>\n",
              "    </tr>\n",
              "    <tr>\n",
              "      <th>3</th>\n",
              "      <td>327</td>\n",
              "      <td>33120</td>\n",
              "      <td>5</td>\n",
              "      <td>1</td>\n",
              "      <td>Organic Egg Whites</td>\n",
              "      <td>86</td>\n",
              "      <td>16</td>\n",
              "      <td>7.0</td>\n",
              "    </tr>\n",
              "    <tr>\n",
              "      <th>4</th>\n",
              "      <td>390</td>\n",
              "      <td>33120</td>\n",
              "      <td>28</td>\n",
              "      <td>1</td>\n",
              "      <td>Organic Egg Whites</td>\n",
              "      <td>86</td>\n",
              "      <td>16</td>\n",
              "      <td>15.0</td>\n",
              "    </tr>\n",
              "  </tbody>\n",
              "</table>\n",
              "</div>"
            ],
            "text/plain": [
              "   order_id  product_id  add_to_cart_order  reordered        product_name  \\\n",
              "0         2       33120                  1          1  Organic Egg Whites   \n",
              "1        26       33120                  5          0  Organic Egg Whites   \n",
              "2       120       33120                 13          0  Organic Egg Whites   \n",
              "3       327       33120                  5          1  Organic Egg Whites   \n",
              "4       390       33120                 28          1  Organic Egg Whites   \n",
              "\n",
              "   aisle_id  department_id  order_hour_of_day  \n",
              "0        86             16                8.0  \n",
              "1        86             16                7.0  \n",
              "2        86             16               12.0  \n",
              "3        86             16                7.0  \n",
              "4        86             16               15.0  "
            ]
          },
          "metadata": {
            "tags": []
          },
          "execution_count": 61
        }
      ]
    },
    {
      "metadata": {
        "id": "XyFPdP8kWWW8",
        "colab_type": "code",
        "outputId": "40355bcb-5904-450e-8f86-62e36656b749",
        "colab": {
          "base_uri": "https://localhost:8080/",
          "height": 33
        }
      },
      "cell_type": "code",
      "source": [
        "total['order_hour_of_day'].min()\n",
        "total['order_hour_of_day'].max()\n"
      ],
      "execution_count": 0,
      "outputs": [
        {
          "output_type": "execute_result",
          "data": {
            "text/plain": [
              "23.0"
            ]
          },
          "metadata": {
            "tags": []
          },
          "execution_count": 63
        }
      ]
    },
    {
      "metadata": {
        "id": "4Cgw1_dqWdt0",
        "colab_type": "code",
        "colab": {}
      },
      "cell_type": "code",
      "source": [
        "order_hour_average= total.groupby('product_name')['order_hour_of_day'].mean()\n"
      ],
      "execution_count": 0,
      "outputs": []
    },
    {
      "metadata": {
        "id": "x4_uD7hqZKLF",
        "colab_type": "code",
        "outputId": "80094c9b-7236-4169-ea73-2b08584664a9",
        "colab": {
          "base_uri": "https://localhost:8080/",
          "height": 217
        }
      },
      "cell_type": "code",
      "source": [
        "order_hour_average.sort_values(ascending=False).head(10)"
      ],
      "execution_count": 118,
      "outputs": [
        {
          "output_type": "execute_result",
          "data": {
            "text/plain": [
              "product_name\n",
              "Honey/Lemon Cough Drops                                       14.768519\n",
              "Sunrise Grilled Steak and Eggs Canine Cuisine Wet Dog Food    14.716216\n",
              "French Lavender Hand Wash                                     14.414508\n",
              "100% Juice No Added Sugar Orange Tangerine                    14.300000\n",
              "Sweet & Salty Snack Mix                                       14.200000\n",
              "Chocolate Caramel Cashew Trail Mix                            14.133333\n",
              "Macaroni And Cheese                                           13.956092\n",
              "Hair Bender Whole Bean Coffee                                 13.947747\n",
              "Wafer, Chocolate                                              13.943182\n",
              "G Series Lime Cucumber Sports Drink                           13.890351\n",
              "Name: order_hour_of_day, dtype: float64"
            ]
          },
          "metadata": {
            "tags": []
          },
          "execution_count": 118
        }
      ]
    },
    {
      "metadata": {
        "id": "Q3aUnWLebjuO",
        "colab_type": "code",
        "outputId": "6e31d331-4502-46f5-c947-0e69c9d01506",
        "colab": {
          "base_uri": "https://localhost:8080/",
          "height": 227
        }
      },
      "cell_type": "code",
      "source": [
        "df_order=pd.DataFrame(order_hour_average)\n",
        "df_order.head()"
      ],
      "execution_count": 119,
      "outputs": [
        {
          "output_type": "execute_result",
          "data": {
            "text/html": [
              "<div>\n",
              "<style scoped>\n",
              "    .dataframe tbody tr th:only-of-type {\n",
              "        vertical-align: middle;\n",
              "    }\n",
              "\n",
              "    .dataframe tbody tr th {\n",
              "        vertical-align: top;\n",
              "    }\n",
              "\n",
              "    .dataframe thead th {\n",
              "        text-align: right;\n",
              "    }\n",
              "</style>\n",
              "<table border=\"1\" class=\"dataframe\">\n",
              "  <thead>\n",
              "    <tr style=\"text-align: right;\">\n",
              "      <th></th>\n",
              "      <th>order_hour_of_day</th>\n",
              "    </tr>\n",
              "    <tr>\n",
              "      <th>product_name</th>\n",
              "      <th></th>\n",
              "    </tr>\n",
              "  </thead>\n",
              "  <tbody>\n",
              "    <tr>\n",
              "      <th>#2 Coffee Filters</th>\n",
              "      <td>NaN</td>\n",
              "    </tr>\n",
              "    <tr>\n",
              "      <th>#2 Cone White Coffee Filters</th>\n",
              "      <td>NaN</td>\n",
              "    </tr>\n",
              "    <tr>\n",
              "      <th>#2 Mechanical Pencils</th>\n",
              "      <td>NaN</td>\n",
              "    </tr>\n",
              "    <tr>\n",
              "      <th>#4 Natural Brown Coffee Filters</th>\n",
              "      <td>NaN</td>\n",
              "    </tr>\n",
              "    <tr>\n",
              "      <th>&amp; Go! Hazelnut Spread + Pretzel Sticks</th>\n",
              "      <td>NaN</td>\n",
              "    </tr>\n",
              "  </tbody>\n",
              "</table>\n",
              "</div>"
            ],
            "text/plain": [
              "                                        order_hour_of_day\n",
              "product_name                                             \n",
              "#2 Coffee Filters                                     NaN\n",
              "#2 Cone White Coffee Filters                          NaN\n",
              "#2 Mechanical Pencils                                 NaN\n",
              "#4 Natural Brown Coffee Filters                       NaN\n",
              "& Go! Hazelnut Spread + Pretzel Sticks                NaN"
            ]
          },
          "metadata": {
            "tags": []
          },
          "execution_count": 119
        }
      ]
    },
    {
      "metadata": {
        "id": "sjCf5HZpZb2F",
        "colab_type": "code",
        "outputId": "4dc8961c-99a7-4e61-a4b4-e55da9f97c55",
        "colab": {
          "base_uri": "https://localhost:8080/",
          "height": 33
        }
      },
      "cell_type": "code",
      "source": [
        "order_hour_average.shape, product_counts.shape"
      ],
      "execution_count": 120,
      "outputs": [
        {
          "output_type": "execute_result",
          "data": {
            "text/plain": [
              "((49685,), (49685,))"
            ]
          },
          "metadata": {
            "tags": []
          },
          "execution_count": 120
        }
      ]
    },
    {
      "metadata": {
        "id": "kZMMZDoCZgZV",
        "colab_type": "code",
        "colab": {}
      },
      "cell_type": "code",
      "source": [
        "df=pd.DataFrame(product_counts)"
      ],
      "execution_count": 0,
      "outputs": []
    },
    {
      "metadata": {
        "id": "Zs-Xsrb8bS5z",
        "colab_type": "code",
        "outputId": "8acccaad-6619-4980-ede9-30d4e42174e0",
        "colab": {
          "base_uri": "https://localhost:8080/",
          "height": 197
        }
      },
      "cell_type": "code",
      "source": [
        "df = df.rename(columns={'product_name':'orders'})\n",
        "df.head()"
      ],
      "execution_count": 126,
      "outputs": [
        {
          "output_type": "execute_result",
          "data": {
            "text/html": [
              "<div>\n",
              "<style scoped>\n",
              "    .dataframe tbody tr th:only-of-type {\n",
              "        vertical-align: middle;\n",
              "    }\n",
              "\n",
              "    .dataframe tbody tr th {\n",
              "        vertical-align: top;\n",
              "    }\n",
              "\n",
              "    .dataframe thead th {\n",
              "        text-align: right;\n",
              "    }\n",
              "</style>\n",
              "<table border=\"1\" class=\"dataframe\">\n",
              "  <thead>\n",
              "    <tr style=\"text-align: right;\">\n",
              "      <th></th>\n",
              "      <th>orders</th>\n",
              "    </tr>\n",
              "  </thead>\n",
              "  <tbody>\n",
              "    <tr>\n",
              "      <th>#2 Coffee Filters</th>\n",
              "      <td>799</td>\n",
              "    </tr>\n",
              "    <tr>\n",
              "      <th>#2 Cone White Coffee Filters</th>\n",
              "      <td>14</td>\n",
              "    </tr>\n",
              "    <tr>\n",
              "      <th>#2 Mechanical Pencils</th>\n",
              "      <td>9</td>\n",
              "    </tr>\n",
              "    <tr>\n",
              "      <th>#4 Natural Brown Coffee Filters</th>\n",
              "      <td>247</td>\n",
              "    </tr>\n",
              "    <tr>\n",
              "      <th>&amp; Go! Hazelnut Spread + Pretzel Sticks</th>\n",
              "      <td>174</td>\n",
              "    </tr>\n",
              "  </tbody>\n",
              "</table>\n",
              "</div>"
            ],
            "text/plain": [
              "                                        orders\n",
              "#2 Coffee Filters                          799\n",
              "#2 Cone White Coffee Filters                14\n",
              "#2 Mechanical Pencils                        9\n",
              "#4 Natural Brown Coffee Filters            247\n",
              "& Go! Hazelnut Spread + Pretzel Sticks     174"
            ]
          },
          "metadata": {
            "tags": []
          },
          "execution_count": 126
        }
      ]
    },
    {
      "metadata": {
        "id": "2nXq-KEkaBLP",
        "colab_type": "code",
        "colab": {}
      },
      "cell_type": "code",
      "source": [
        "df_merged=pd.concat([df,df_order],axis=1)"
      ],
      "execution_count": 0,
      "outputs": []
    },
    {
      "metadata": {
        "id": "tTARYu7DcHyC",
        "colab_type": "code",
        "outputId": "955273d6-97a6-4fc3-a0f8-c0cb6d00b61f",
        "colab": {
          "base_uri": "https://localhost:8080/",
          "height": 227
        }
      },
      "cell_type": "code",
      "source": [
        "df_merged = df_merged.rename(columns={'order_hour_of_day':'order time'})\n",
        "\n",
        "df_merged.head()\n"
      ],
      "execution_count": 130,
      "outputs": [
        {
          "output_type": "execute_result",
          "data": {
            "text/html": [
              "<div>\n",
              "<style scoped>\n",
              "    .dataframe tbody tr th:only-of-type {\n",
              "        vertical-align: middle;\n",
              "    }\n",
              "\n",
              "    .dataframe tbody tr th {\n",
              "        vertical-align: top;\n",
              "    }\n",
              "\n",
              "    .dataframe thead th {\n",
              "        text-align: right;\n",
              "    }\n",
              "</style>\n",
              "<table border=\"1\" class=\"dataframe\">\n",
              "  <thead>\n",
              "    <tr style=\"text-align: right;\">\n",
              "      <th></th>\n",
              "      <th>orders</th>\n",
              "      <th>order time</th>\n",
              "    </tr>\n",
              "    <tr>\n",
              "      <th>product_name</th>\n",
              "      <th></th>\n",
              "      <th></th>\n",
              "    </tr>\n",
              "  </thead>\n",
              "  <tbody>\n",
              "    <tr>\n",
              "      <th>#2 Coffee Filters</th>\n",
              "      <td>799</td>\n",
              "      <td>NaN</td>\n",
              "    </tr>\n",
              "    <tr>\n",
              "      <th>#2 Cone White Coffee Filters</th>\n",
              "      <td>14</td>\n",
              "      <td>NaN</td>\n",
              "    </tr>\n",
              "    <tr>\n",
              "      <th>#2 Mechanical Pencils</th>\n",
              "      <td>9</td>\n",
              "      <td>NaN</td>\n",
              "    </tr>\n",
              "    <tr>\n",
              "      <th>#4 Natural Brown Coffee Filters</th>\n",
              "      <td>247</td>\n",
              "      <td>NaN</td>\n",
              "    </tr>\n",
              "    <tr>\n",
              "      <th>&amp; Go! Hazelnut Spread + Pretzel Sticks</th>\n",
              "      <td>174</td>\n",
              "      <td>NaN</td>\n",
              "    </tr>\n",
              "  </tbody>\n",
              "</table>\n",
              "</div>"
            ],
            "text/plain": [
              "                                        orders  order time\n",
              "product_name                                              \n",
              "#2 Coffee Filters                          799         NaN\n",
              "#2 Cone White Coffee Filters                14         NaN\n",
              "#2 Mechanical Pencils                        9         NaN\n",
              "#4 Natural Brown Coffee Filters            247         NaN\n",
              "& Go! Hazelnut Spread + Pretzel Sticks     174         NaN"
            ]
          },
          "metadata": {
            "tags": []
          },
          "execution_count": 130
        }
      ]
    },
    {
      "metadata": {
        "id": "DkEWYKJJcc33",
        "colab_type": "code",
        "outputId": "5399fac0-ccef-432d-f035-89a249c48a76",
        "colab": {
          "base_uri": "https://localhost:8080/",
          "height": 1937
        }
      },
      "cell_type": "code",
      "source": [
        "df_merged.sort_values(by=['order time'], ascending=False)"
      ],
      "execution_count": 132,
      "outputs": [
        {
          "output_type": "execute_result",
          "data": {
            "text/html": [
              "<div>\n",
              "<style scoped>\n",
              "    .dataframe tbody tr th:only-of-type {\n",
              "        vertical-align: middle;\n",
              "    }\n",
              "\n",
              "    .dataframe tbody tr th {\n",
              "        vertical-align: top;\n",
              "    }\n",
              "\n",
              "    .dataframe thead th {\n",
              "        text-align: right;\n",
              "    }\n",
              "</style>\n",
              "<table border=\"1\" class=\"dataframe\">\n",
              "  <thead>\n",
              "    <tr style=\"text-align: right;\">\n",
              "      <th></th>\n",
              "      <th>orders</th>\n",
              "      <th>order time</th>\n",
              "    </tr>\n",
              "    <tr>\n",
              "      <th>product_name</th>\n",
              "      <th></th>\n",
              "      <th></th>\n",
              "    </tr>\n",
              "  </thead>\n",
              "  <tbody>\n",
              "    <tr>\n",
              "      <th>Honey/Lemon Cough Drops</th>\n",
              "      <td>108</td>\n",
              "      <td>14.768519</td>\n",
              "    </tr>\n",
              "    <tr>\n",
              "      <th>Sunrise Grilled Steak and Eggs Canine Cuisine Wet Dog Food</th>\n",
              "      <td>74</td>\n",
              "      <td>14.716216</td>\n",
              "    </tr>\n",
              "    <tr>\n",
              "      <th>French Lavender Hand Wash</th>\n",
              "      <td>193</td>\n",
              "      <td>14.414508</td>\n",
              "    </tr>\n",
              "    <tr>\n",
              "      <th>100% Juice No Added Sugar Orange Tangerine</th>\n",
              "      <td>30</td>\n",
              "      <td>14.300000</td>\n",
              "    </tr>\n",
              "    <tr>\n",
              "      <th>Sweet &amp; Salty Snack Mix</th>\n",
              "      <td>35</td>\n",
              "      <td>14.200000</td>\n",
              "    </tr>\n",
              "    <tr>\n",
              "      <th>Chocolate Caramel Cashew Trail Mix</th>\n",
              "      <td>15</td>\n",
              "      <td>14.133333</td>\n",
              "    </tr>\n",
              "    <tr>\n",
              "      <th>Macaroni And Cheese</th>\n",
              "      <td>2733</td>\n",
              "      <td>13.956092</td>\n",
              "    </tr>\n",
              "    <tr>\n",
              "      <th>Hair Bender Whole Bean Coffee</th>\n",
              "      <td>2641</td>\n",
              "      <td>13.947747</td>\n",
              "    </tr>\n",
              "    <tr>\n",
              "      <th>Wafer, Chocolate</th>\n",
              "      <td>88</td>\n",
              "      <td>13.943182</td>\n",
              "    </tr>\n",
              "    <tr>\n",
              "      <th>G Series Lime Cucumber Sports Drink</th>\n",
              "      <td>228</td>\n",
              "      <td>13.890351</td>\n",
              "    </tr>\n",
              "    <tr>\n",
              "      <th>Kellogg's Nutri-Grain Blueberry Cereal</th>\n",
              "      <td>798</td>\n",
              "      <td>13.874687</td>\n",
              "    </tr>\n",
              "    <tr>\n",
              "      <th>100% Apple Juice Original</th>\n",
              "      <td>99</td>\n",
              "      <td>13.868687</td>\n",
              "    </tr>\n",
              "    <tr>\n",
              "      <th>Sugarfree Energy Drink</th>\n",
              "      <td>1089</td>\n",
              "      <td>13.834711</td>\n",
              "    </tr>\n",
              "    <tr>\n",
              "      <th>Coconut Butter</th>\n",
              "      <td>786</td>\n",
              "      <td>13.802799</td>\n",
              "    </tr>\n",
              "    <tr>\n",
              "      <th>Classic Blend Cole Slaw</th>\n",
              "      <td>158</td>\n",
              "      <td>13.765823</td>\n",
              "    </tr>\n",
              "    <tr>\n",
              "      <th>American Slices Cheese</th>\n",
              "      <td>677</td>\n",
              "      <td>13.747415</td>\n",
              "    </tr>\n",
              "    <tr>\n",
              "      <th>Lemons</th>\n",
              "      <td>2498</td>\n",
              "      <td>13.737790</td>\n",
              "    </tr>\n",
              "    <tr>\n",
              "      <th>Biscuits Orange Pim's</th>\n",
              "      <td>260</td>\n",
              "      <td>13.707692</td>\n",
              "    </tr>\n",
              "    <tr>\n",
              "      <th>Kellogg's Nutri-Grain Apple Cinnamon Cereal</th>\n",
              "      <td>1283</td>\n",
              "      <td>13.691348</td>\n",
              "    </tr>\n",
              "    <tr>\n",
              "      <th>100% Juice No Sugar Added Apple</th>\n",
              "      <td>489</td>\n",
              "      <td>13.674847</td>\n",
              "    </tr>\n",
              "    <tr>\n",
              "      <th>Tiny Twists Pretzels</th>\n",
              "      <td>4732</td>\n",
              "      <td>13.661877</td>\n",
              "    </tr>\n",
              "    <tr>\n",
              "      <th>Boneless Beef Sirloin Steak</th>\n",
              "      <td>3220</td>\n",
              "      <td>13.638820</td>\n",
              "    </tr>\n",
              "    <tr>\n",
              "      <th>Natural Sweetener</th>\n",
              "      <td>590</td>\n",
              "      <td>13.625424</td>\n",
              "    </tr>\n",
              "    <tr>\n",
              "      <th>Mini Original Babybel Cheese</th>\n",
              "      <td>15941</td>\n",
              "      <td>13.588357</td>\n",
              "    </tr>\n",
              "    <tr>\n",
              "      <th>Oats &amp; Chocolate Chewy Bars</th>\n",
              "      <td>2293</td>\n",
              "      <td>13.583515</td>\n",
              "    </tr>\n",
              "    <tr>\n",
              "      <th>Natural Sharp Cheddar Sliced Cheese</th>\n",
              "      <td>7894</td>\n",
              "      <td>13.576514</td>\n",
              "    </tr>\n",
              "    <tr>\n",
              "      <th>Original Potato Chips</th>\n",
              "      <td>4139</td>\n",
              "      <td>13.565596</td>\n",
              "    </tr>\n",
              "    <tr>\n",
              "      <th>Distilled Water</th>\n",
              "      <td>16664</td>\n",
              "      <td>13.562590</td>\n",
              "    </tr>\n",
              "    <tr>\n",
              "      <th>All Natural No Stir Creamy Almond Butter</th>\n",
              "      <td>2517</td>\n",
              "      <td>13.551053</td>\n",
              "    </tr>\n",
              "    <tr>\n",
              "      <th>Clementines</th>\n",
              "      <td>32194</td>\n",
              "      <td>13.548177</td>\n",
              "    </tr>\n",
              "    <tr>\n",
              "      <th>...</th>\n",
              "      <td>...</td>\n",
              "      <td>...</td>\n",
              "    </tr>\n",
              "    <tr>\n",
              "      <th>of Norwich Original English Mustard Powder Double Superfine</th>\n",
              "      <td>120</td>\n",
              "      <td>NaN</td>\n",
              "    </tr>\n",
              "    <tr>\n",
              "      <th>pumpkin spice</th>\n",
              "      <td>209</td>\n",
              "      <td>NaN</td>\n",
              "    </tr>\n",
              "    <tr>\n",
              "      <th>rich kiss Olive &amp; Aloe Moisturizer 2 in 1</th>\n",
              "      <td>18</td>\n",
              "      <td>NaN</td>\n",
              "    </tr>\n",
              "    <tr>\n",
              "      <th>smart Blend Chicken &amp; Rice Formula Dry Dog Food</th>\n",
              "      <td>113</td>\n",
              "      <td>NaN</td>\n",
              "    </tr>\n",
              "    <tr>\n",
              "      <th>smartwater® Electrolyte Enhanced Water</th>\n",
              "      <td>5137</td>\n",
              "      <td>NaN</td>\n",
              "    </tr>\n",
              "    <tr>\n",
              "      <th>vitaminwater® XXX Acai Blueberry Pomegranate</th>\n",
              "      <td>1844</td>\n",
              "      <td>NaN</td>\n",
              "    </tr>\n",
              "    <tr>\n",
              "      <th>w/Banana Pulp Free Juice</th>\n",
              "      <td>106</td>\n",
              "      <td>NaN</td>\n",
              "    </tr>\n",
              "    <tr>\n",
              "      <th>with Bleach Disinfectant Cleanser Scratch Free Lavender Fresh</th>\n",
              "      <td>33</td>\n",
              "      <td>NaN</td>\n",
              "    </tr>\n",
              "    <tr>\n",
              "      <th>with Bleach Powder Cleanser</th>\n",
              "      <td>75</td>\n",
              "      <td>NaN</td>\n",
              "    </tr>\n",
              "    <tr>\n",
              "      <th>with Color Safe Brightener Power Paks 2in1 Stain Fighter</th>\n",
              "      <td>31</td>\n",
              "      <td>NaN</td>\n",
              "    </tr>\n",
              "    <tr>\n",
              "      <th>with Crispy Almonds Cereal</th>\n",
              "      <td>4493</td>\n",
              "      <td>NaN</td>\n",
              "    </tr>\n",
              "    <tr>\n",
              "      <th>with Dawn Action Pacs Fresh Scent Dishwasher Detergent Pacs</th>\n",
              "      <td>224</td>\n",
              "      <td>NaN</td>\n",
              "    </tr>\n",
              "    <tr>\n",
              "      <th>with Lime Juice Mayonesa Mayonnaise</th>\n",
              "      <td>17</td>\n",
              "      <td>NaN</td>\n",
              "    </tr>\n",
              "    <tr>\n",
              "      <th>with Mac &amp; Cheese Fish Sticks</th>\n",
              "      <td>13</td>\n",
              "      <td>NaN</td>\n",
              "    </tr>\n",
              "    <tr>\n",
              "      <th>with Olive Oil Mayonnaise</th>\n",
              "      <td>646</td>\n",
              "      <td>NaN</td>\n",
              "    </tr>\n",
              "    <tr>\n",
              "      <th>with Olive Oil Mayonnaise Dressing</th>\n",
              "      <td>287</td>\n",
              "      <td>NaN</td>\n",
              "    </tr>\n",
              "    <tr>\n",
              "      <th>with Pump Rebalancing Shampoo</th>\n",
              "      <td>18</td>\n",
              "      <td>NaN</td>\n",
              "    </tr>\n",
              "    <tr>\n",
              "      <th>with Seasoned Roasted Potatoes Scrambled Eggs &amp; Sausage</th>\n",
              "      <td>98</td>\n",
              "      <td>NaN</td>\n",
              "    </tr>\n",
              "    <tr>\n",
              "      <th>with Sweet &amp; Smoky BBQ Sauce Cheeseburger Sliders</th>\n",
              "      <td>32</td>\n",
              "      <td>NaN</td>\n",
              "    </tr>\n",
              "    <tr>\n",
              "      <th>with Sweet Cinnamon Bunches Cereal</th>\n",
              "      <td>18</td>\n",
              "      <td>NaN</td>\n",
              "    </tr>\n",
              "    <tr>\n",
              "      <th>with Twist Ties Sandwich &amp; Storage Bags</th>\n",
              "      <td>22</td>\n",
              "      <td>NaN</td>\n",
              "    </tr>\n",
              "    <tr>\n",
              "      <th>with Xylitol Cinnamon 18 Sticks Sugar Free Gum</th>\n",
              "      <td>200</td>\n",
              "      <td>NaN</td>\n",
              "    </tr>\n",
              "    <tr>\n",
              "      <th>with Xylitol Island Berry Lime 18 Sticks Sugar Free Gum</th>\n",
              "      <td>50</td>\n",
              "      <td>NaN</td>\n",
              "    </tr>\n",
              "    <tr>\n",
              "      <th>with Xylitol Minty Sweet Twist 18 Sticks Sugar Free Gum</th>\n",
              "      <td>27</td>\n",
              "      <td>NaN</td>\n",
              "    </tr>\n",
              "    <tr>\n",
              "      <th>with Xylitol Original Flavor 18 Sticks Sugar Free Gum</th>\n",
              "      <td>192</td>\n",
              "      <td>NaN</td>\n",
              "    </tr>\n",
              "    <tr>\n",
              "      <th>with Xylitol Unwrapped Original Flavor 50 Sticks Sugar Free Gum</th>\n",
              "      <td>41</td>\n",
              "      <td>NaN</td>\n",
              "    </tr>\n",
              "    <tr>\n",
              "      <th>with Xylitol Unwrapped Spearmint 50 Sticks Sugar Free Gum</th>\n",
              "      <td>57</td>\n",
              "      <td>NaN</td>\n",
              "    </tr>\n",
              "    <tr>\n",
              "      <th>with Xylitol Watermelon Twist 18 Sticks Sugar Free Gum</th>\n",
              "      <td>74</td>\n",
              "      <td>NaN</td>\n",
              "    </tr>\n",
              "    <tr>\n",
              "      <th>with a Splash of Mango Coconut Water</th>\n",
              "      <td>27</td>\n",
              "      <td>NaN</td>\n",
              "    </tr>\n",
              "    <tr>\n",
              "      <th>with a Splash of Pineapple Coconut Water</th>\n",
              "      <td>57</td>\n",
              "      <td>NaN</td>\n",
              "    </tr>\n",
              "  </tbody>\n",
              "</table>\n",
              "<p>49685 rows × 2 columns</p>\n",
              "</div>"
            ],
            "text/plain": [
              "                                                    orders  order time\n",
              "product_name                                                          \n",
              "Honey/Lemon Cough Drops                                108   14.768519\n",
              "Sunrise Grilled Steak and Eggs Canine Cuisine W...      74   14.716216\n",
              "French Lavender Hand Wash                              193   14.414508\n",
              "100% Juice No Added Sugar Orange Tangerine              30   14.300000\n",
              "Sweet & Salty Snack Mix                                 35   14.200000\n",
              "Chocolate Caramel Cashew Trail Mix                      15   14.133333\n",
              "Macaroni And Cheese                                   2733   13.956092\n",
              "Hair Bender Whole Bean Coffee                         2641   13.947747\n",
              "Wafer, Chocolate                                        88   13.943182\n",
              "G Series Lime Cucumber Sports Drink                    228   13.890351\n",
              "Kellogg's Nutri-Grain Blueberry Cereal                 798   13.874687\n",
              "100% Apple Juice Original                               99   13.868687\n",
              "Sugarfree Energy Drink                                1089   13.834711\n",
              "Coconut Butter                                         786   13.802799\n",
              "Classic Blend Cole Slaw                                158   13.765823\n",
              "American Slices Cheese                                 677   13.747415\n",
              "Lemons                                                2498   13.737790\n",
              "Biscuits Orange Pim's                                  260   13.707692\n",
              "Kellogg's Nutri-Grain Apple Cinnamon Cereal           1283   13.691348\n",
              "100% Juice No Sugar Added Apple                        489   13.674847\n",
              "Tiny Twists Pretzels                                  4732   13.661877\n",
              "Boneless Beef Sirloin Steak                           3220   13.638820\n",
              "Natural Sweetener                                      590   13.625424\n",
              "Mini Original Babybel Cheese                         15941   13.588357\n",
              "Oats & Chocolate Chewy Bars                           2293   13.583515\n",
              "Natural Sharp Cheddar Sliced Cheese                   7894   13.576514\n",
              "Original Potato Chips                                 4139   13.565596\n",
              "Distilled Water                                      16664   13.562590\n",
              "All Natural No Stir Creamy Almond Butter              2517   13.551053\n",
              "Clementines                                          32194   13.548177\n",
              "...                                                    ...         ...\n",
              "of Norwich Original English Mustard Powder Doub...     120         NaN\n",
              "pumpkin spice                                          209         NaN\n",
              "rich kiss Olive & Aloe Moisturizer 2 in 1               18         NaN\n",
              "smart Blend Chicken & Rice Formula Dry Dog Food        113         NaN\n",
              "smartwater® Electrolyte Enhanced Water                5137         NaN\n",
              "vitaminwater® XXX Acai Blueberry Pomegranate          1844         NaN\n",
              "w/Banana Pulp Free Juice                               106         NaN\n",
              "with Bleach Disinfectant Cleanser Scratch Free ...      33         NaN\n",
              "with Bleach Powder Cleanser                             75         NaN\n",
              "with Color Safe Brightener Power Paks 2in1 Stai...      31         NaN\n",
              "with Crispy Almonds Cereal                            4493         NaN\n",
              "with Dawn Action Pacs Fresh Scent Dishwasher De...     224         NaN\n",
              "with Lime Juice Mayonesa Mayonnaise                     17         NaN\n",
              "with Mac & Cheese Fish Sticks                           13         NaN\n",
              "with Olive Oil Mayonnaise                              646         NaN\n",
              "with Olive Oil Mayonnaise Dressing                     287         NaN\n",
              "with Pump Rebalancing Shampoo                           18         NaN\n",
              "with Seasoned Roasted Potatoes Scrambled Eggs &...      98         NaN\n",
              "with Sweet & Smoky BBQ Sauce Cheeseburger Sliders       32         NaN\n",
              "with Sweet Cinnamon Bunches Cereal                      18         NaN\n",
              "with Twist Ties Sandwich & Storage Bags                 22         NaN\n",
              "with Xylitol Cinnamon 18 Sticks Sugar Free Gum         200         NaN\n",
              "with Xylitol Island Berry Lime 18 Sticks Sugar ...      50         NaN\n",
              "with Xylitol Minty Sweet Twist 18 Sticks Sugar ...      27         NaN\n",
              "with Xylitol Original Flavor 18 Sticks Sugar Fr...     192         NaN\n",
              "with Xylitol Unwrapped Original Flavor 50 Stick...      41         NaN\n",
              "with Xylitol Unwrapped Spearmint 50 Sticks Suga...      57         NaN\n",
              "with Xylitol Watermelon Twist 18 Sticks Sugar F...      74         NaN\n",
              "with a Splash of Mango Coconut Water                    27         NaN\n",
              "with a Splash of Pineapple Coconut Water                57         NaN\n",
              "\n",
              "[49685 rows x 2 columns]"
            ]
          },
          "metadata": {
            "tags": []
          },
          "execution_count": 132
        }
      ]
    },
    {
      "metadata": {
        "id": "pSbGmvf5dY2p",
        "colab_type": "code",
        "outputId": "c4f347b6-3fce-4d08-89ed-207e7e16170e",
        "colab": {
          "base_uri": "https://localhost:8080/",
          "height": 227
        }
      },
      "cell_type": "code",
      "source": [
        "df_merged.head()"
      ],
      "execution_count": 133,
      "outputs": [
        {
          "output_type": "execute_result",
          "data": {
            "text/html": [
              "<div>\n",
              "<style scoped>\n",
              "    .dataframe tbody tr th:only-of-type {\n",
              "        vertical-align: middle;\n",
              "    }\n",
              "\n",
              "    .dataframe tbody tr th {\n",
              "        vertical-align: top;\n",
              "    }\n",
              "\n",
              "    .dataframe thead th {\n",
              "        text-align: right;\n",
              "    }\n",
              "</style>\n",
              "<table border=\"1\" class=\"dataframe\">\n",
              "  <thead>\n",
              "    <tr style=\"text-align: right;\">\n",
              "      <th></th>\n",
              "      <th>orders</th>\n",
              "      <th>order time</th>\n",
              "    </tr>\n",
              "    <tr>\n",
              "      <th>product_name</th>\n",
              "      <th></th>\n",
              "      <th></th>\n",
              "    </tr>\n",
              "  </thead>\n",
              "  <tbody>\n",
              "    <tr>\n",
              "      <th>#2 Coffee Filters</th>\n",
              "      <td>799</td>\n",
              "      <td>NaN</td>\n",
              "    </tr>\n",
              "    <tr>\n",
              "      <th>#2 Cone White Coffee Filters</th>\n",
              "      <td>14</td>\n",
              "      <td>NaN</td>\n",
              "    </tr>\n",
              "    <tr>\n",
              "      <th>#2 Mechanical Pencils</th>\n",
              "      <td>9</td>\n",
              "      <td>NaN</td>\n",
              "    </tr>\n",
              "    <tr>\n",
              "      <th>#4 Natural Brown Coffee Filters</th>\n",
              "      <td>247</td>\n",
              "      <td>NaN</td>\n",
              "    </tr>\n",
              "    <tr>\n",
              "      <th>&amp; Go! Hazelnut Spread + Pretzel Sticks</th>\n",
              "      <td>174</td>\n",
              "      <td>NaN</td>\n",
              "    </tr>\n",
              "  </tbody>\n",
              "</table>\n",
              "</div>"
            ],
            "text/plain": [
              "                                        orders  order time\n",
              "product_name                                              \n",
              "#2 Coffee Filters                          799         NaN\n",
              "#2 Cone White Coffee Filters                14         NaN\n",
              "#2 Mechanical Pencils                        9         NaN\n",
              "#4 Natural Brown Coffee Filters            247         NaN\n",
              "& Go! Hazelnut Spread + Pretzel Sticks     174         NaN"
            ]
          },
          "metadata": {
            "tags": []
          },
          "execution_count": 133
        }
      ]
    },
    {
      "metadata": {
        "id": "qCav4jCVeL7h",
        "colab_type": "code",
        "outputId": "6670dc3b-a616-41c8-e277-eab4723f55ab",
        "colab": {
          "base_uri": "https://localhost:8080/",
          "height": 33
        }
      },
      "cell_type": "code",
      "source": [
        "condition_new = (df_merged.orders >= 2900)\n",
        "\n",
        "df_merged_subset = df_merged.loc[condition_new]\n",
        "df_merged_subset.shape\n"
      ],
      "execution_count": 134,
      "outputs": [
        {
          "output_type": "execute_result",
          "data": {
            "text/plain": [
              "(2053, 2)"
            ]
          },
          "metadata": {
            "tags": []
          },
          "execution_count": 134
        }
      ]
    },
    {
      "metadata": {
        "id": "ox4RMu11dbi3",
        "colab_type": "code",
        "outputId": "f3c520f0-7a85-4ec5-a343-4a3ca47e020f",
        "colab": {
          "base_uri": "https://localhost:8080/",
          "height": 797
        }
      },
      "cell_type": "code",
      "source": [
        "df_merged_subset = df_merged_subset.sort_values(by=['order time'], ascending=False)\n",
        "df_merged_subset.head(24)"
      ],
      "execution_count": 135,
      "outputs": [
        {
          "output_type": "execute_result",
          "data": {
            "text/html": [
              "<div>\n",
              "<style scoped>\n",
              "    .dataframe tbody tr th:only-of-type {\n",
              "        vertical-align: middle;\n",
              "    }\n",
              "\n",
              "    .dataframe tbody tr th {\n",
              "        vertical-align: top;\n",
              "    }\n",
              "\n",
              "    .dataframe thead th {\n",
              "        text-align: right;\n",
              "    }\n",
              "</style>\n",
              "<table border=\"1\" class=\"dataframe\">\n",
              "  <thead>\n",
              "    <tr style=\"text-align: right;\">\n",
              "      <th></th>\n",
              "      <th>orders</th>\n",
              "      <th>order time</th>\n",
              "    </tr>\n",
              "    <tr>\n",
              "      <th>product_name</th>\n",
              "      <th></th>\n",
              "      <th></th>\n",
              "    </tr>\n",
              "  </thead>\n",
              "  <tbody>\n",
              "    <tr>\n",
              "      <th>Tiny Twists Pretzels</th>\n",
              "      <td>4732</td>\n",
              "      <td>13.661877</td>\n",
              "    </tr>\n",
              "    <tr>\n",
              "      <th>Boneless Beef Sirloin Steak</th>\n",
              "      <td>3220</td>\n",
              "      <td>13.638820</td>\n",
              "    </tr>\n",
              "    <tr>\n",
              "      <th>Mini Original Babybel Cheese</th>\n",
              "      <td>15941</td>\n",
              "      <td>13.588357</td>\n",
              "    </tr>\n",
              "    <tr>\n",
              "      <th>Natural Sharp Cheddar Sliced Cheese</th>\n",
              "      <td>7894</td>\n",
              "      <td>13.576514</td>\n",
              "    </tr>\n",
              "    <tr>\n",
              "      <th>Original Potato Chips</th>\n",
              "      <td>4139</td>\n",
              "      <td>13.565596</td>\n",
              "    </tr>\n",
              "    <tr>\n",
              "      <th>Distilled Water</th>\n",
              "      <td>16664</td>\n",
              "      <td>13.562590</td>\n",
              "    </tr>\n",
              "    <tr>\n",
              "      <th>Clementines</th>\n",
              "      <td>32194</td>\n",
              "      <td>13.548177</td>\n",
              "    </tr>\n",
              "    <tr>\n",
              "      <th>Philadelphia Original Cream Cheese</th>\n",
              "      <td>7535</td>\n",
              "      <td>13.528069</td>\n",
              "    </tr>\n",
              "    <tr>\n",
              "      <th>Total 2% with Strawberry Lowfat Greek Strained Yogurt</th>\n",
              "      <td>30866</td>\n",
              "      <td>13.519568</td>\n",
              "    </tr>\n",
              "    <tr>\n",
              "      <th>Vanilla Almond Breeze Almond Milk</th>\n",
              "      <td>32212</td>\n",
              "      <td>13.507326</td>\n",
              "    </tr>\n",
              "    <tr>\n",
              "      <th>Baby Spinach</th>\n",
              "      <td>24276</td>\n",
              "      <td>13.505891</td>\n",
              "    </tr>\n",
              "    <tr>\n",
              "      <th>Natural Artesian Water, Mini &amp; Mobile</th>\n",
              "      <td>3265</td>\n",
              "      <td>13.502603</td>\n",
              "    </tr>\n",
              "    <tr>\n",
              "      <th>French Vanilla Coffee Creamer</th>\n",
              "      <td>3112</td>\n",
              "      <td>13.502249</td>\n",
              "    </tr>\n",
              "    <tr>\n",
              "      <th>Apricot Preserves</th>\n",
              "      <td>3804</td>\n",
              "      <td>13.498160</td>\n",
              "    </tr>\n",
              "    <tr>\n",
              "      <th>Goldfish Cheddar Baked Snack Crackers</th>\n",
              "      <td>7775</td>\n",
              "      <td>13.497878</td>\n",
              "    </tr>\n",
              "    <tr>\n",
              "      <th>100% Cranberry Juice</th>\n",
              "      <td>4871</td>\n",
              "      <td>13.493944</td>\n",
              "    </tr>\n",
              "    <tr>\n",
              "      <th>Green Beans</th>\n",
              "      <td>30229</td>\n",
              "      <td>13.490489</td>\n",
              "    </tr>\n",
              "    <tr>\n",
              "      <th>Original Orange Juice</th>\n",
              "      <td>25972</td>\n",
              "      <td>13.485600</td>\n",
              "    </tr>\n",
              "    <tr>\n",
              "      <th>Organic Butterhead (Boston, Butter, Bibb) Lettuce</th>\n",
              "      <td>12565</td>\n",
              "      <td>13.483247</td>\n",
              "    </tr>\n",
              "    <tr>\n",
              "      <th>Carrots</th>\n",
              "      <td>75233</td>\n",
              "      <td>13.481384</td>\n",
              "    </tr>\n",
              "    <tr>\n",
              "      <th>Garlic Powder</th>\n",
              "      <td>6569</td>\n",
              "      <td>13.480743</td>\n",
              "    </tr>\n",
              "    <tr>\n",
              "      <th>French Baguettes, Take &amp; Bake, Twin Pack</th>\n",
              "      <td>3760</td>\n",
              "      <td>13.474202</td>\n",
              "    </tr>\n",
              "    <tr>\n",
              "      <th>Organic Strawberries</th>\n",
              "      <td>275577</td>\n",
              "      <td>13.470609</td>\n",
              "    </tr>\n",
              "    <tr>\n",
              "      <th>Organic Red Radish, Bunch</th>\n",
              "      <td>28267</td>\n",
              "      <td>13.469487</td>\n",
              "    </tr>\n",
              "  </tbody>\n",
              "</table>\n",
              "</div>"
            ],
            "text/plain": [
              "                                                    orders  order time\n",
              "product_name                                                          \n",
              "Tiny Twists Pretzels                                  4732   13.661877\n",
              "Boneless Beef Sirloin Steak                           3220   13.638820\n",
              "Mini Original Babybel Cheese                         15941   13.588357\n",
              "Natural Sharp Cheddar Sliced Cheese                   7894   13.576514\n",
              "Original Potato Chips                                 4139   13.565596\n",
              "Distilled Water                                      16664   13.562590\n",
              "Clementines                                          32194   13.548177\n",
              "Philadelphia Original Cream Cheese                    7535   13.528069\n",
              "Total 2% with Strawberry Lowfat Greek Strained ...   30866   13.519568\n",
              "Vanilla Almond Breeze Almond Milk                    32212   13.507326\n",
              "Baby Spinach                                         24276   13.505891\n",
              "Natural Artesian Water, Mini & Mobile                 3265   13.502603\n",
              "French Vanilla Coffee Creamer                         3112   13.502249\n",
              "Apricot Preserves                                     3804   13.498160\n",
              "Goldfish Cheddar Baked Snack Crackers                 7775   13.497878\n",
              "100% Cranberry Juice                                  4871   13.493944\n",
              "Green Beans                                          30229   13.490489\n",
              "Original Orange Juice                                25972   13.485600\n",
              "Organic Butterhead (Boston, Butter, Bibb) Lettuce    12565   13.483247\n",
              "Carrots                                              75233   13.481384\n",
              "Garlic Powder                                         6569   13.480743\n",
              "French Baguettes, Take & Bake, Twin Pack              3760   13.474202\n",
              "Organic Strawberries                                275577   13.470609\n",
              "Organic Red Radish, Bunch                            28267   13.469487"
            ]
          },
          "metadata": {
            "tags": []
          },
          "execution_count": 135
        }
      ]
    },
    {
      "metadata": {
        "id": "r50CNYXAfubn",
        "colab_type": "code",
        "colab": {}
      },
      "cell_type": "code",
      "source": [
        ""
      ],
      "execution_count": 0,
      "outputs": []
    }
  ]
}