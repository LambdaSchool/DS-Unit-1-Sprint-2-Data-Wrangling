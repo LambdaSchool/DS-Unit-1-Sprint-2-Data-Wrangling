{
  "nbformat": 4,
  "nbformat_minor": 0,
  "metadata": {
    "colab": {
      "name": "Copy of LS_DS_123_Make_Explanatory_Visualizations_Assignment.ipynb",
      "version": "0.3.2",
      "provenance": [],
      "collapsed_sections": [],
      "include_colab_link": true
    },
    "language_info": {
      "codemirror_mode": {
        "name": "ipython",
        "version": 3
      },
      "file_extension": ".py",
      "mimetype": "text/x-python",
      "name": "python",
      "nbconvert_exporter": "python",
      "pygments_lexer": "ipython3",
      "version": "3.7.1"
    },
    "kernelspec": {
      "display_name": "Python 3",
      "language": "python",
      "name": "python3"
    }
  },
  "cells": [
    {
      "cell_type": "markdown",
      "metadata": {
        "id": "view-in-github",
        "colab_type": "text"
      },
      "source": [
        "<a href=\"https://colab.research.google.com/github/KhaSab5292/DS-Unit-1-Sprint-2-Data-Wrangling-and-Storytelling/blob/master/Copy_of_LS_DS_123_Make_Explanatory_Visualizations_Assignment.ipynb\" target=\"_parent\"><img src=\"https://colab.research.google.com/assets/colab-badge.svg\" alt=\"Open In Colab\"/></a>"
      ]
    },
    {
      "cell_type": "markdown",
      "metadata": {
        "colab_type": "text",
        "id": "NMEswXWh9mqw"
      },
      "source": [
        "# ASSIGNMENT\n",
        "\n",
        "### 1) Replicate the lesson code. I recommend that you [do not copy-paste](https://docs.google.com/document/d/1ubOw9B3Hfip27hF2ZFnW3a3z9xAgrUDRReOEo-FHCVs/edit).\n",
        "\n",
        "Get caught up to where we got our example in class and then try and take things further. How close to \"pixel perfect\" can you make the lecture graph?\n",
        "\n",
        "Once you have something that you're proud of, share your graph in the cohort channel and move on to the second exercise.\n",
        "\n",
        "### 2) Reproduce another example from [FiveThityEight's shared data repository](https://data.fivethirtyeight.com/).\n",
        "\n",
        "**WARNING**: There are a lot of very custom graphs and tables at the above link. I **highly** recommend not trying to reproduce any that look like a table of values or something really different from the graph types that we are already familiar with. Search through the posts until you find a graph type that you are more or less familiar with: histogram, bar chart, stacked bar chart, line chart, [seaborn relplot](https://seaborn.pydata.org/generated/seaborn.relplot.html), etc. Recreating some of the graphics that 538 uses would be a lot easier in Adobe photoshop/illustrator than with matplotlib. \n",
        "\n",
        "- If you put in some time to find a graph that looks \"easy\" to replicate you'll probably find that it's not as easy as you thought. \n",
        "\n",
        "- If you start with a graph that looks hard to replicate you'll probably run up against a brick wall and be disappointed with your afternoon.\n",
        "\n",
        "\n",
        "\n",
        "\n",
        "\n",
        "\n",
        "\n",
        "\n",
        "\n",
        "\n"
      ]
    },
    {
      "cell_type": "markdown",
      "metadata": {
        "id": "DnLVeTgZ9iR4",
        "colab_type": "text"
      },
      "source": [
        "**1.**"
      ]
    },
    {
      "cell_type": "code",
      "metadata": {
        "id": "7SY1ZHawyZvz",
        "colab_type": "code",
        "outputId": "3b3f3ccf-b0b8-47a5-93ca-9cc04c6ccde0",
        "colab": {
          "base_uri": "https://localhost:8080/",
          "height": 355
        }
      },
      "source": [
        "%matplotlib inline\n",
        "import pandas as pd\n",
        "import numpy as np\n",
        "import matplotlib.pyplot as plt\n",
        "\n",
        "from IPython.display import display, Image\n",
        "\n",
        "example = Image(url='https://fivethirtyeight.com/wp-content/uploads/2017/09/mehtahickey-inconvenient-0830-1.png', width=400)\n",
        "display(example)"
      ],
      "execution_count": 1,
      "outputs": [
        {
          "output_type": "display_data",
          "data": {
            "text/html": [
              "<img src=\"https://fivethirtyeight.com/wp-content/uploads/2017/09/mehtahickey-inconvenient-0830-1.png\" width=\"400\"/>"
            ],
            "text/plain": [
              "<IPython.core.display.Image object>"
            ]
          },
          "metadata": {
            "tags": []
          }
        }
      ]
    },
    {
      "cell_type": "code",
      "metadata": {
        "id": "yTU32N0zBMPH",
        "colab_type": "code",
        "outputId": "420ad7e1-621a-4436-837a-5be657b28043",
        "colab": {
          "base_uri": "https://localhost:8080/",
          "height": 271
        }
      },
      "source": [
        "fakedata = pd.Series([38, 3, 2, 1, 2, 4, 6, 5, 5, 33], \n",
        "                 index = range(1,11))\n",
        "\n",
        "fakedata.plot.bar(color = 'C1', width = 0.9);"
      ],
      "execution_count": 0,
      "outputs": [
        {
          "output_type": "display_data",
          "data": {
            "image/png": "[encoded data removed]",
            "text/plain": [
              "<Figure size 432x288 with 1 Axes>"
            ]
          },
          "metadata": {
            "tags": []
          }
        }
      ]
    },
    {
      "cell_type": "code",
      "metadata": {
        "id": "Fq5Vg-CfIENa",
        "colab_type": "code",
        "outputId": "9af8d0b6-ef48-498d-8497-231296fa0c59",
        "colab": {
          "base_uri": "https://localhost:8080/",
          "height": 303
        }
      },
      "source": [
        "ax = fakedata.plot.bar(color = 'coral', width = 0.9)\n",
        "\n",
        "ax.set_title(\"'An Inconvenient Sequel: Truth To Power' is divisive\", fontsize = 12, fontweight = 'bold')\n",
        "ax.set_xlabel('Ratings', fontsize = 9, fontweight = 'bold', labelpad = 10)\n",
        "ax.set_ylabel('Percentage of total votes', fontsize = 9, fontweight = 'bold', labelpad = 10)\n",
        "\n",
        "ax.plot;"
      ],
      "execution_count": 0,
      "outputs": [
        {
          "output_type": "display_data",
          "data": {
            "image/png": "[encoded data removed]",
            "text/plain": [
              "<Figure size 432x288 with 1 Axes>"
            ]
          },
          "metadata": {
            "tags": []
          }
        }
      ]
    },
    {
      "cell_type": "code",
      "metadata": {
        "id": "wZGwnrHGu5qb",
        "colab_type": "code",
        "outputId": "d6252aa8-2278-4847-abbf-fe46c604f1b7",
        "colab": {
          "base_uri": "https://localhost:8080/",
          "height": 303
        }
      },
      "source": [
        "ax = fakedata.plot.bar(color = 'coral', width = 0.9)\n",
        "\n",
        "ax.set_title(\"'An Inconvenient Sequel: Truth To Power' is divisive\", fontsize = 12, fontweight = 'bold')\n",
        "ax.set_xlabel('Ratings', fontsize = 9, fontweight = 'bold', labelpad = 10)\n",
        "ax.set_ylabel('Percentage of total votes', fontsize = 9, fontweight = 'bold', labelpad = 10)\n",
        "\n",
        "ax.grid(True)"
      ],
      "execution_count": 0,
      "outputs": [
        {
          "output_type": "display_data",
          "data": {
            "image/png": "[encoded data removed]",
            "text/plain": [
              "<Figure size 432x288 with 1 Axes>"
            ]
          },
          "metadata": {
            "tags": []
          }
        }
      ]
    },
    {
      "cell_type": "code",
      "metadata": {
        "id": "6mQ0Wr3FA4BZ",
        "colab_type": "code",
        "outputId": "7a12b859-6d2e-4c2b-af76-774323c90d8b",
        "colab": {
          "base_uri": "https://localhost:8080/",
          "height": 303
        }
      },
      "source": [
        "ax = fakedata.plot.bar(color = 'coral', width = 0.9)\n",
        "\n",
        "ax.set_title(\"'An Inconvenient Sequel: Truth To Power' is divisive\", fontsize = 12, fontweight = 'bold')\n",
        "ax.set_xlabel('Ratings', fontsize = 9, fontweight = 'bold', labelpad = 10)\n",
        "ax.set_ylabel('Percentage of total votes', fontsize = 9, fontweight = 'bold', labelpad = 10)\n",
        "\n",
        "ax.set_yticklabels(range(0, 50, 10))\n",
        "ax.set_yticks(range(0, 50, 10))\n",
        "\n",
        "ax.grid(True);"
      ],
      "execution_count": 0,
      "outputs": [
        {
          "output_type": "display_data",
          "data": {
            "image/png": "[encoded data removed]",
            "text/plain": [
              "<Figure size 432x288 with 1 Axes>"
            ]
          },
          "metadata": {
            "tags": []
          }
        }
      ]
    },
    {
      "cell_type": "code",
      "metadata": {
        "id": "dkGvX9qDkGIi",
        "colab_type": "code",
        "outputId": "6473644c-e104-4e70-c6fa-941d0032463a",
        "colab": {
          "base_uri": "https://localhost:8080/",
          "height": 355
        }
      },
      "source": [
        "display(example)"
      ],
      "execution_count": 0,
      "outputs": [
        {
          "output_type": "display_data",
          "data": {
            "text/html": [
              "<img src=\"https://fivethirtyeight.com/wp-content/uploads/2017/09/mehtahickey-inconvenient-0830-1.png\" width=\"400\"/>"
            ],
            "text/plain": [
              "<IPython.core.display.Image object>"
            ]
          },
          "metadata": {
            "tags": []
          }
        }
      ]
    },
    {
      "cell_type": "code",
      "metadata": {
        "id": "biRt20wwwbYS",
        "colab_type": "code",
        "outputId": "71e95c66-d8c4-4ada-8901-ba82bd79ff18",
        "colab": {
          "base_uri": "https://localhost:8080/",
          "height": 300
        }
      },
      "source": [
        "ax = fakedata.plot.bar(color = 'coral', width = 0.9)\n",
        "\n",
        "ax.set_title(\"'An Inconvenient Sequel: Truth To Power' is divisive\", fontsize = 12, fontweight = 'bold')\n",
        "ax.set_xlabel('Ratings', fontsize = 9, fontweight = 'bold', labelpad = 10)\n",
        "ax.set_ylabel('Percentage of total votes', fontsize = 9, fontweight = 'bold', labelpad = 10)\n",
        "\n",
        "ax.set_yticklabels(range(0, 50, 10))\n",
        "ax.set_yticks(range(0, 50, 10))\n",
        "ax.set_xticklabels(range(1, 11), rotation = 0)\n",
        "\n",
        "ax.text(x = 0, y = 38, s = \"IMDb ratings for the film as of Aug. 29\", fontsize=10)\n",
        "\n",
        "ax.grid(True);"
      ],
      "execution_count": 0,
      "outputs": [
        {
          "output_type": "display_data",
          "data": {
            "image/png": "[encoded data removed]",
            "text/plain": [
              "<Figure size 432x288 with 1 Axes>"
            ]
          },
          "metadata": {
            "tags": []
          }
        }
      ]
    },
    {
      "cell_type": "markdown",
      "metadata": {
        "id": "neRiTY-v2nUF",
        "colab_type": "text"
      },
      "source": [
        "**2.**"
      ]
    },
    {
      "cell_type": "code",
      "metadata": {
        "id": "RUB47CWiGxxF",
        "colab_type": "code",
        "colab": {
          "base_uri": "https://localhost:8080/",
          "height": 306
        },
        "outputId": "2ed8ca00-5586-4ed4-ad6a-4ea5499f888c"
      },
      "source": [
        "polldata = pd.read_csv('https://projects.fivethirtyeight.com/endorsements-2020-data/endorsements-2020.csv')\n",
        "polldata.head()"
      ],
      "execution_count": 3,
      "outputs": [
        {
          "output_type": "execute_result",
          "data": {
            "text/html": [
              "<div>\n",
              "<style scoped>\n",
              "    .dataframe tbody tr th:only-of-type {\n",
              "        vertical-align: middle;\n",
              "    }\n",
              "\n",
              "    .dataframe tbody tr th {\n",
              "        vertical-align: top;\n",
              "    }\n",
              "\n",
              "    .dataframe thead th {\n",
              "        text-align: right;\n",
              "    }\n",
              "</style>\n",
              "<table border=\"1\" class=\"dataframe\">\n",
              "  <thead>\n",
              "    <tr style=\"text-align: right;\">\n",
              "      <th></th>\n",
              "      <th>date</th>\n",
              "      <th>position</th>\n",
              "      <th>city</th>\n",
              "      <th>state</th>\n",
              "      <th>endorser</th>\n",
              "      <th>endorsee</th>\n",
              "      <th>endorser party</th>\n",
              "      <th>source</th>\n",
              "      <th>order</th>\n",
              "      <th>category</th>\n",
              "      <th>body</th>\n",
              "      <th>district</th>\n",
              "      <th>points</th>\n",
              "    </tr>\n",
              "  </thead>\n",
              "  <tbody>\n",
              "    <tr>\n",
              "      <th>0</th>\n",
              "      <td>2017-07-28</td>\n",
              "      <td>representative</td>\n",
              "      <td>NaN</td>\n",
              "      <td>MD</td>\n",
              "      <td>David Trone</td>\n",
              "      <td>John Delaney</td>\n",
              "      <td>D</td>\n",
              "      <td>https://twitter.com/davidjtrone/status/8909859...</td>\n",
              "      <td>NaN</td>\n",
              "      <td>Representatives</td>\n",
              "      <td>NaN</td>\n",
              "      <td>6.0</td>\n",
              "      <td>3</td>\n",
              "    </tr>\n",
              "    <tr>\n",
              "      <th>1</th>\n",
              "      <td>2019-01-02</td>\n",
              "      <td>governor</td>\n",
              "      <td>NaN</td>\n",
              "      <td>NY</td>\n",
              "      <td>Andrew Cuomo</td>\n",
              "      <td>Joe Biden</td>\n",
              "      <td>D</td>\n",
              "      <td>https://www.cnn.com/2019/01/02/politics/cuomo-...</td>\n",
              "      <td>NaN</td>\n",
              "      <td>Governors</td>\n",
              "      <td>NaN</td>\n",
              "      <td>NaN</td>\n",
              "      <td>8</td>\n",
              "    </tr>\n",
              "    <tr>\n",
              "      <th>2</th>\n",
              "      <td>2019-01-03</td>\n",
              "      <td>senator</td>\n",
              "      <td>NaN</td>\n",
              "      <td>CA</td>\n",
              "      <td>Dianne Feinstein</td>\n",
              "      <td>Joe Biden</td>\n",
              "      <td>D</td>\n",
              "      <td>https://www.politico.com/story/2019/01/03/dian...</td>\n",
              "      <td>NaN</td>\n",
              "      <td>Senators</td>\n",
              "      <td>NaN</td>\n",
              "      <td>NaN</td>\n",
              "      <td>6</td>\n",
              "    </tr>\n",
              "    <tr>\n",
              "      <th>3</th>\n",
              "      <td>2019-01-08</td>\n",
              "      <td>senator</td>\n",
              "      <td>NaN</td>\n",
              "      <td>DE</td>\n",
              "      <td>Thomas R. Carper</td>\n",
              "      <td>Joe Biden</td>\n",
              "      <td>D</td>\n",
              "      <td>https://fox61.com/2019/01/08/will-he-or-wont-h...</td>\n",
              "      <td>NaN</td>\n",
              "      <td>Senators</td>\n",
              "      <td>NaN</td>\n",
              "      <td>NaN</td>\n",
              "      <td>6</td>\n",
              "    </tr>\n",
              "    <tr>\n",
              "      <th>4</th>\n",
              "      <td>2019-01-12</td>\n",
              "      <td>representative</td>\n",
              "      <td>NaN</td>\n",
              "      <td>TX</td>\n",
              "      <td>Joaquin Castro</td>\n",
              "      <td>Julian Castro</td>\n",
              "      <td>D</td>\n",
              "      <td>https://www.dallasnews.com/news/politics/2019/...</td>\n",
              "      <td>NaN</td>\n",
              "      <td>Representatives</td>\n",
              "      <td>NaN</td>\n",
              "      <td>20.0</td>\n",
              "      <td>3</td>\n",
              "    </tr>\n",
              "  </tbody>\n",
              "</table>\n",
              "</div>"
            ],
            "text/plain": [
              "         date        position city  ... body district points\n",
              "0  2017-07-28  representative  NaN  ...  NaN      6.0      3\n",
              "1  2019-01-02        governor  NaN  ...  NaN      NaN      8\n",
              "2  2019-01-03         senator  NaN  ...  NaN      NaN      6\n",
              "3  2019-01-08         senator  NaN  ...  NaN      NaN      6\n",
              "4  2019-01-12  representative  NaN  ...  NaN     20.0      3\n",
              "\n",
              "[5 rows x 13 columns]"
            ]
          },
          "metadata": {
            "tags": []
          },
          "execution_count": 3
        }
      ]
    },
    {
      "cell_type": "code",
      "metadata": {
        "id": "NDd3Xa-PHjvn",
        "colab_type": "code",
        "colab": {
          "base_uri": "https://localhost:8080/",
          "height": 204
        },
        "outputId": "e94e1b54-90ca-42fb-ad63-8cc3e1e17adf"
      },
      "source": [
        "candidates = polldata[['endorsee', 'points']]\n",
        "candidates.head()"
      ],
      "execution_count": 20,
      "outputs": [
        {
          "output_type": "execute_result",
          "data": {
            "text/html": [
              "<div>\n",
              "<style scoped>\n",
              "    .dataframe tbody tr th:only-of-type {\n",
              "        vertical-align: middle;\n",
              "    }\n",
              "\n",
              "    .dataframe tbody tr th {\n",
              "        vertical-align: top;\n",
              "    }\n",
              "\n",
              "    .dataframe thead th {\n",
              "        text-align: right;\n",
              "    }\n",
              "</style>\n",
              "<table border=\"1\" class=\"dataframe\">\n",
              "  <thead>\n",
              "    <tr style=\"text-align: right;\">\n",
              "      <th></th>\n",
              "      <th>endorsee</th>\n",
              "      <th>points</th>\n",
              "    </tr>\n",
              "  </thead>\n",
              "  <tbody>\n",
              "    <tr>\n",
              "      <th>0</th>\n",
              "      <td>John Delaney</td>\n",
              "      <td>3</td>\n",
              "    </tr>\n",
              "    <tr>\n",
              "      <th>1</th>\n",
              "      <td>Joe Biden</td>\n",
              "      <td>8</td>\n",
              "    </tr>\n",
              "    <tr>\n",
              "      <th>2</th>\n",
              "      <td>Joe Biden</td>\n",
              "      <td>6</td>\n",
              "    </tr>\n",
              "    <tr>\n",
              "      <th>3</th>\n",
              "      <td>Joe Biden</td>\n",
              "      <td>6</td>\n",
              "    </tr>\n",
              "    <tr>\n",
              "      <th>4</th>\n",
              "      <td>Julian Castro</td>\n",
              "      <td>3</td>\n",
              "    </tr>\n",
              "  </tbody>\n",
              "</table>\n",
              "</div>"
            ],
            "text/plain": [
              "        endorsee  points\n",
              "0   John Delaney       3\n",
              "1      Joe Biden       8\n",
              "2      Joe Biden       6\n",
              "3      Joe Biden       6\n",
              "4  Julian Castro       3"
            ]
          },
          "metadata": {
            "tags": []
          },
          "execution_count": 20
        }
      ]
    },
    {
      "cell_type": "code",
      "metadata": {
        "id": "C97tOhjiMN33",
        "colab_type": "code",
        "colab": {
          "base_uri": "https://localhost:8080/",
          "height": 289
        },
        "outputId": "bd5624ce-fec0-4bc3-99ea-b7743f72fa4f"
      },
      "source": [
        "candidates = candidates.groupby('endorsee')['points'].sum()\n",
        "candidates"
      ],
      "execution_count": 21,
      "outputs": [
        {
          "output_type": "execute_result",
          "data": {
            "text/plain": [
              "endorsee\n",
              "Amy Klobuchar          42\n",
              "Bernie Sanders         36\n",
              "Beto O'Rourke          18\n",
              "Cory Booker            58\n",
              "Elizabeth Warren       46\n",
              "Jay Inslee             11\n",
              "Joe Biden             113\n",
              "John Delaney            6\n",
              "John Hickenlooper       3\n",
              "Julian Castro          13\n",
              "Kamala Harris          92\n",
              "Kirsten Gillibrand      3\n",
              "Pete Buttigieg         16\n",
              "Steve Bullock           9\n",
              "Name: points, dtype: int64"
            ]
          },
          "metadata": {
            "tags": []
          },
          "execution_count": 21
        }
      ]
    },
    {
      "cell_type": "code",
      "metadata": {
        "id": "ccNpmJrNJpJb",
        "colab_type": "code",
        "colab": {
          "base_uri": "https://localhost:8080/",
          "height": 286
        },
        "outputId": "f27ee1b2-4901-4b76-83c0-4d0804890744"
      },
      "source": [
        "points = [42, 36, 18, 58, 46, 11, 113, 6, 3, 13, 92, 3, 16, 9]\n",
        "points = pd.Series(sorted(points), index = range(1, 15))\n",
        "points.plot.barh(color = 'blue', width = 0.9)"
      ],
      "execution_count": 40,
      "outputs": [
        {
          "output_type": "execute_result",
          "data": {
            "text/plain": [
              "<matplotlib.axes._subplots.AxesSubplot at 0x7f38287165c0>"
            ]
          },
          "metadata": {
            "tags": []
          },
          "execution_count": 40
        },
        {
          "output_type": "display_data",
          "data": {
            "image/png": "[encoded data removed]",
            "text/plain": [
              "<Figure size 432x288 with 1 Axes>"
            ]
          },
          "metadata": {
            "tags": []
          }
        }
      ]
    },
    {
      "cell_type": "markdown",
      "metadata": {
        "colab_type": "text",
        "id": "ZugeVTqvKMa8"
      },
      "source": [
        "# STRETCH OPTIONS\n",
        "\n",
        "### 1) Reproduce one of the following using the matplotlib or seaborn libraries:\n",
        "\n",
        "- [thanksgiving-2015](https://fivethirtyeight.com/features/heres-what-your-part-of-america-eats-on-thanksgiving/) \n",
        "- [candy-power-ranking](https://fivethirtyeight.com/features/the-ultimate-halloween-candy-power-ranking/) \n",
        "- or another example of your choice!\n",
        "\n",
        "### 2) Make more charts!\n",
        "\n",
        "Choose a chart you want to make, from [Visual Vocabulary - Vega Edition](http://ft.com/vocabulary).\n",
        "\n",
        "Find the chart in an example gallery of a Python data visualization library:\n",
        "- [Seaborn](http://seaborn.pydata.org/examples/index.html)\n",
        "- [Altair](https://altair-viz.github.io/gallery/index.html)\n",
        "- [Matplotlib](https://matplotlib.org/gallery.html)\n",
        "- [Pandas](https://pandas.pydata.org/pandas-docs/stable/visualization.html)\n",
        "\n",
        "Reproduce the chart. [Optionally, try the \"Ben Franklin Method.\"](https://docs.google.com/document/d/1ubOw9B3Hfip27hF2ZFnW3a3z9xAgrUDRReOEo-FHCVs/edit) If you want, experiment and make changes.\n",
        "\n",
        "Take notes. Consider sharing your work with your cohort!"
      ]
    },
    {
      "cell_type": "code",
      "metadata": {
        "id": "dRJkKftiy5BJ",
        "colab_type": "code",
        "colab": {}
      },
      "source": [
        "# More Work Here"
      ],
      "execution_count": 0,
      "outputs": []
    }
  ]
}