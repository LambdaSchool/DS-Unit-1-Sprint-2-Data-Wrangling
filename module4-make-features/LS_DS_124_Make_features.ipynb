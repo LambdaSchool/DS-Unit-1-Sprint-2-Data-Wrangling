{
  "nbformat": 4,
  "nbformat_minor": 0,
  "metadata": {
    "colab": {
      "name": "LS_DS_124_Make_features.ipynb",
      "version": "0.3.2",
      "provenance": [],
      "collapsed_sections": [],
      "include_colab_link": true
    },
    "kernelspec": {
      "name": "python3",
      "display_name": "Python 3"
    }
  },
  "cells": [
    {
      "cell_type": "markdown",
      "metadata": {
        "id": "view-in-github",
        "colab_type": "text"
      },
      "source": [
        "<a href=\"https://colab.research.google.com/github/trista-paul/DS-Unit-1-Sprint-2-Data-Wrangling/blob/master/module4-make-features/LS_DS_124_Make_features.ipynb\" target=\"_parent\"><img src=\"https://colab.research.google.com/assets/colab-badge.svg\" alt=\"Open In Colab\"/></a>"
      ]
    },
    {
      "metadata": {
        "id": "qacqiXogluN_",
        "colab_type": "text"
      },
      "cell_type": "markdown",
      "source": [
        "_Lambda School Data Science_\n",
        "\n",
        "# Make features\n",
        "\n",
        "Objectives\n",
        "-  understand the purpose of feature engineering\n",
        "-  work with strings in pandas\n",
        "- work with dates and times in pandas\n",
        "\n",
        "Links\n",
        "- [Feature Engineering](https://en.wikipedia.org/wiki/Feature_engineering)\n",
        "- Python Data Science Handbook\n",
        "  - [Chapter 3.10](https://jakevdp.github.io/PythonDataScienceHandbook/03.10-working-with-strings.html), Vectorized String Operations\n",
        "  - [Chapter 3.11](https://jakevdp.github.io/PythonDataScienceHandbook/03.11-working-with-time-series.html), Working with Time Series"
      ]
    },
    {
      "metadata": {
        "id": "iSGiSktAoWIx",
        "colab_type": "text"
      },
      "cell_type": "markdown",
      "source": [
        "## Get LendingClub data"
      ]
    },
    {
      "metadata": {
        "id": "2ugxlWXimoHn",
        "colab_type": "code",
        "colab": {
          "base_uri": "https://localhost:8080/",
          "height": 222
        },
        "outputId": "1c04b4b2-2654-433e-e2e8-7dbe84e740c8"
      },
      "cell_type": "code",
      "source": [
        "!wget https://resources.lendingclub.com/LoanStats_2018Q3.csv.zip"
      ],
      "execution_count": 1,
      "outputs": [
        {
          "output_type": "stream",
          "text": [
            "--2019-01-17 17:24:58--  https://resources.lendingclub.com/LoanStats_2018Q3.csv.zip\n",
            "Resolving resources.lendingclub.com (resources.lendingclub.com)... 64.48.1.20\n",
            "Connecting to resources.lendingclub.com (resources.lendingclub.com)|64.48.1.20|:443... connected.\n",
            "HTTP request sent, awaiting response... 200 OK\n",
            "Length: unspecified [application/zip]\n",
            "Saving to: ‘LoanStats_2018Q3.csv.zip’\n",
            "\n",
            "LoanStats_2018Q3.cs     [         <=>        ]  21.42M  1.67MB/s    in 13s     \n",
            "\n",
            "2019-01-17 17:25:16 (1.66 MB/s) - ‘LoanStats_2018Q3.csv.zip’ saved [22461905]\n",
            "\n"
          ],
          "name": "stdout"
        }
      ]
    },
    {
      "metadata": {
        "id": "-4sk6qPgmpmN",
        "colab_type": "code",
        "colab": {
          "base_uri": "https://localhost:8080/",
          "height": 50
        },
        "outputId": "c2d8f364-d4b3-4d7d-9624-79e02d3a80a6"
      },
      "cell_type": "code",
      "source": [
        "!unzip LoanStats_2018Q3.csv.zip"
      ],
      "execution_count": 2,
      "outputs": [
        {
          "output_type": "stream",
          "text": [
            "Archive:  LoanStats_2018Q3.csv.zip\n",
            "  inflating: LoanStats_2018Q3.csv    \n"
          ],
          "name": "stdout"
        }
      ]
    },
    {
      "metadata": {
        "id": "seh5oNE1nD0X",
        "colab_type": "code",
        "colab": {
          "base_uri": "https://localhost:8080/",
          "height": 205
        },
        "outputId": "7d2b5fd5-a016-46dd-de25-4f90d2defddb"
      },
      "cell_type": "code",
      "source": [
        "!head LoanStats_2018Q3.csv"
      ],
      "execution_count": 3,
      "outputs": [
        {
          "output_type": "stream",
          "text": [
            "Notes offered by Prospectus (https://www.lendingclub.com/info/prospectus.action)\n",
            "\"id\",\"member_id\",\"loan_amnt\",\"funded_amnt\",\"funded_amnt_inv\",\"term\",\"int_rate\",\"installment\",\"grade\",\"sub_grade\",\"emp_title\",\"emp_length\",\"home_ownership\",\"annual_inc\",\"verification_status\",\"issue_d\",\"loan_status\",\"pymnt_plan\",\"url\",\"desc\",\"purpose\",\"title\",\"zip_code\",\"addr_state\",\"dti\",\"delinq_2yrs\",\"earliest_cr_line\",\"inq_last_6mths\",\"mths_since_last_delinq\",\"mths_since_last_record\",\"open_acc\",\"pub_rec\",\"revol_bal\",\"revol_util\",\"total_acc\",\"initial_list_status\",\"out_prncp\",\"out_prncp_inv\",\"total_pymnt\",\"total_pymnt_inv\",\"total_rec_prncp\",\"total_rec_int\",\"total_rec_late_fee\",\"recoveries\",\"collection_recovery_fee\",\"last_pymnt_d\",\"last_pymnt_amnt\",\"next_pymnt_d\",\"last_credit_pull_d\",\"collections_12_mths_ex_med\",\"mths_since_last_major_derog\",\"policy_code\",\"application_type\",\"annual_inc_joint\",\"dti_joint\",\"verification_status_joint\",\"acc_now_delinq\",\"tot_coll_amt\",\"tot_cur_bal\",\"open_acc_6m\",\"open_act_il\",\"open_il_12m\",\"open_il_24m\",\"mths_since_rcnt_il\",\"total_bal_il\",\"il_util\",\"open_rv_12m\",\"open_rv_24m\",\"max_bal_bc\",\"all_util\",\"total_rev_hi_lim\",\"inq_fi\",\"total_cu_tl\",\"inq_last_12m\",\"acc_open_past_24mths\",\"avg_cur_bal\",\"bc_open_to_buy\",\"bc_util\",\"chargeoff_within_12_mths\",\"delinq_amnt\",\"mo_sin_old_il_acct\",\"mo_sin_old_rev_tl_op\",\"mo_sin_rcnt_rev_tl_op\",\"mo_sin_rcnt_tl\",\"mort_acc\",\"mths_since_recent_bc\",\"mths_since_recent_bc_dlq\",\"mths_since_recent_inq\",\"mths_since_recent_revol_delinq\",\"num_accts_ever_120_pd\",\"num_actv_bc_tl\",\"num_actv_rev_tl\",\"num_bc_sats\",\"num_bc_tl\",\"num_il_tl\",\"num_op_rev_tl\",\"num_rev_accts\",\"num_rev_tl_bal_gt_0\",\"num_sats\",\"num_tl_120dpd_2m\",\"num_tl_30dpd\",\"num_tl_90g_dpd_24m\",\"num_tl_op_past_12m\",\"pct_tl_nvr_dlq\",\"percent_bc_gt_75\",\"pub_rec_bankruptcies\",\"tax_liens\",\"tot_hi_cred_lim\",\"total_bal_ex_mort\",\"total_bc_limit\",\"total_il_high_credit_limit\",\"revol_bal_joint\",\"sec_app_earliest_cr_line\",\"sec_app_inq_last_6mths\",\"sec_app_mort_acc\",\"sec_app_open_acc\",\"sec_app_revol_util\",\"sec_app_open_act_il\",\"sec_app_num_rev_accts\",\"sec_app_chargeoff_within_12_mths\",\"sec_app_collections_12_mths_ex_med\",\"sec_app_mths_since_last_major_derog\",\"hardship_flag\",\"hardship_type\",\"hardship_reason\",\"hardship_status\",\"deferral_term\",\"hardship_amount\",\"hardship_start_date\",\"hardship_end_date\",\"payment_plan_start_date\",\"hardship_length\",\"hardship_dpd\",\"hardship_loan_status\",\"orig_projected_additional_accrued_interest\",\"hardship_payoff_balance_amount\",\"hardship_last_payment_amount\",\"disbursement_method\",\"debt_settlement_flag\",\"debt_settlement_flag_date\",\"settlement_status\",\"settlement_date\",\"settlement_amount\",\"settlement_percentage\",\"settlement_term\"\n",
            "\"\",\"\",\"20000\",\"20000\",\"20000\",\" 60 months\",\" 17.97%\",\"507.55\",\"D\",\"D1\",\"Motor Vehicle Operator\",\"7 years\",\"RENT\",\"68000\",\"Source Verified\",\"Sep-2018\",\"Current\",\"n\",\"\",\"\",\"debt_consolidation\",\"Debt consolidation\",\"254xx\",\"WV\",\"15.8\",\"0\",\"Feb-2009\",\"1\",\"30\",\"118\",\"11\",\"1\",\"13483\",\"69.1%\",\"26\",\"w\",\"19580.78\",\"19580.78\",\"975.17\",\"975.17\",\"419.22\",\"555.95\",\"0.0\",\"0.0\",\"0.0\",\"Dec-2018\",\"507.55\",\"Jan-2019\",\"Dec-2018\",\"0\",\"\",\"1\",\"Individual\",\"\",\"\",\"\",\"0\",\"0\",\"194908\",\"0\",\"2\",\"0\",\"2\",\"17\",\"45299\",\"93\",\"0\",\"1\",\"9815\",\"86\",\"19500\",\"1\",\"4\",\"2\",\"5\",\"19491\",\"2185\",\"81.8\",\"0\",\"0\",\"115\",\"94\",\"13\",\"7\",\"4\",\"25\",\"\",\"2\",\"30\",\"0\",\"1\",\"3\",\"2\",\"4\",\"11\",\"8\",\"10\",\"3\",\"11\",\"0\",\"0\",\"0\",\"1\",\"92.3\",\"50\",\"1\",\"0\",\"205625\",\"58782\",\"12000\",\"48733\",\"\",\"\",\"\",\"\",\"\",\"\",\"\",\"\",\"\",\"\",\"\",\"N\",\"\",\"\",\"\",\"\",\"\",\"\",\"\",\"\",\"\",\"\",\"\",\"\",\"\",\"\",\"DirectPay\",\"N\",\"\",\"\",\"\",\"\",\"\",\"\"\n",
            "\"\",\"\",\"25000\",\"25000\",\"25000\",\" 60 months\",\" 13.56%\",\"576.02\",\"C\",\"C1\",\"Firefighter\",\"7 years\",\"MORTGAGE\",\"61000\",\"Verified\",\"Sep-2018\",\"Current\",\"n\",\"\",\"\",\"major_purchase\",\"Major purchase\",\"770xx\",\"TX\",\"16.74\",\"0\",\"Jan-2009\",\"0\",\"\",\"\",\"5\",\"0\",\"6299\",\"48.5%\",\"14\",\"w\",\"24109.45\",\"24109.45\",\"1567.98\",\"1567.98\",\"890.55\",\"677.43\",\"0.0\",\"0.0\",\"0.0\",\"Dec-2018\",\"576.02\",\"Jan-2019\",\"Dec-2018\",\"0\",\"\",\"1\",\"Individual\",\"\",\"\",\"\",\"0\",\"0\",\"204007\",\"1\",\"2\",\"0\",\"1\",\"19\",\"13862\",\"37\",\"0\",\"0\",\"0\",\"40\",\"13000\",\"0\",\"7\",\"4\",\"2\",\"40801\",\"1500\",\"0\",\"0\",\"0\",\"54\",\"116\",\"26\",\"3\",\"1\",\"74\",\"\",\"4\",\"\",\"0\",\"0\",\"1\",\"1\",\"2\",\"5\",\"2\",\"8\",\"1\",\"5\",\"0\",\"0\",\"0\",\"1\",\"100\",\"0\",\"0\",\"0\",\"234573\",\"20161\",\"1500\",\"37273\",\"\",\"\",\"\",\"\",\"\",\"\",\"\",\"\",\"\",\"\",\"\",\"N\",\"\",\"\",\"\",\"\",\"\",\"\",\"\",\"\",\"\",\"\",\"\",\"\",\"\",\"\",\"Cash\",\"N\",\"\",\"\",\"\",\"\",\"\",\"\"\n",
            "\"\",\"\",\"30000\",\"30000\",\"30000\",\" 36 months\",\" 18.94%\",\"1098.78\",\"D\",\"D2\",\"\",\"< 1 year\",\"RENT\",\"100000\",\"Source Verified\",\"Sep-2018\",\"Current\",\"n\",\"\",\"\",\"debt_consolidation\",\"Debt consolidation\",\"300xx\",\"GA\",\"16.07\",\"0\",\"Mar-2008\",\"1\",\"\",\"114\",\"6\",\"1\",\"14574\",\"70.1%\",\"9\",\"w\",\"28739.57\",\"28739.57\",\"2134.43\",\"2134.43\",\"1260.43\",\"874.00\",\"0.0\",\"0.0\",\"0.0\",\"Dec-2018\",\"1098.78\",\"Jan-2019\",\"Dec-2018\",\"0\",\"\",\"1\",\"Individual\",\"\",\"\",\"\",\"0\",\"0\",\"44048\",\"1\",\"2\",\"1\",\"1\",\"1\",\"29474\",\"69\",\"1\",\"2\",\"8521\",\"69\",\"20800\",\"1\",\"0\",\"2\",\"3\",\"8810\",\"5226\",\"73.6\",\"0\",\"0\",\"126\",\"104\",\"11\",\"1\",\"0\",\"17\",\"\",\"1\",\"\",\"0\",\"2\",\"2\",\"2\",\"2\",\"4\",\"4\",\"5\",\"2\",\"6\",\"0\",\"0\",\"0\",\"2\",\"100\",\"0\",\"1\",\"0\",\"63636\",\"44048\",\"19800\",\"42836\",\"\",\"\",\"\",\"\",\"\",\"\",\"\",\"\",\"\",\"\",\"\",\"N\",\"\",\"\",\"\",\"\",\"\",\"\",\"\",\"\",\"\",\"\",\"\",\"\",\"\",\"\",\"Cash\",\"N\",\"\",\"\",\"\",\"\",\"\",\"\"\n",
            "\"\",\"\",\"6000\",\"6000\",\"6000\",\" 36 months\",\"  7.84%\",\"187.58\",\"A\",\"A4\",\"\",\"n/a\",\"RENT\",\"30000\",\"Not Verified\",\"Sep-2018\",\"Current\",\"n\",\"\",\"\",\"debt_consolidation\",\"Debt consolidation\",\"923xx\",\"CA\",\"5.44\",\"0\",\"Apr-2000\",\"0\",\"\",\"104\",\"8\",\"1\",\"5936\",\"34.5%\",\"11\",\"w\",\"5702.27\",\"5702.27\",\"369.93\",\"369.93\",\"297.73\",\"72.20\",\"0.0\",\"0.0\",\"0.0\",\"Dec-2018\",\"187.58\",\"Jan-2019\",\"Dec-2018\",\"0\",\"\",\"1\",\"Individual\",\"\",\"\",\"\",\"0\",\"350\",\"5936\",\"0\",\"0\",\"0\",\"1\",\"23\",\"0\",\"\",\"1\",\"4\",\"2913\",\"35\",\"17200\",\"2\",\"0\",\"0\",\"5\",\"848\",\"7698\",\"35.9\",\"0\",\"0\",\"139\",\"221\",\"7\",\"7\",\"0\",\"7\",\"\",\"18\",\"\",\"0\",\"2\",\"3\",\"4\",\"4\",\"2\",\"8\",\"9\",\"3\",\"8\",\"0\",\"0\",\"0\",\"1\",\"100\",\"33.3\",\"1\",\"0\",\"17200\",\"5936\",\"12000\",\"0\",\"\",\"\",\"\",\"\",\"\",\"\",\"\",\"\",\"\",\"\",\"\",\"N\",\"\",\"\",\"\",\"\",\"\",\"\",\"\",\"\",\"\",\"\",\"\",\"\",\"\",\"\",\"DirectPay\",\"N\",\"\",\"\",\"\",\"\",\"\",\"\"\n",
            "\"\",\"\",\"10650\",\"10650\",\"10650\",\" 36 months\",\"  7.84%\",\"332.95\",\"A\",\"A4\",\"\",\"n/a\",\"RENT\",\"28000\",\"Verified\",\"Sep-2018\",\"Current\",\"n\",\"\",\"\",\"medical\",\"Medical expenses\",\"430xx\",\"OH\",\"16.89\",\"0\",\"Nov-2002\",\"0\",\"\",\"\",\"3\",\"0\",\"37\",\"0.3%\",\"3\",\"w\",\"10121.54\",\"10121.54\",\"656.62\",\"656.62\",\"528.46\",\"128.16\",\"0.0\",\"0.0\",\"0.0\",\"Dec-2018\",\"332.95\",\"Jan-2019\",\"Dec-2018\",\"0\",\"\",\"1\",\"Joint App\",\"43000\",\"14.01\",\"Source Verified\",\"0\",\"0\",\"18254\",\"0\",\"1\",\"0\",\"1\",\"16\",\"18217\",\"81\",\"0\",\"0\",\"0\",\"54\",\"11500\",\"1\",\"1\",\"0\",\"1\",\"6085\",\"\",\"\",\"0\",\"0\",\"16\",\"190\",\"113\",\"16\",\"0\",\"\",\"\",\"16\",\"\",\"0\",\"0\",\"1\",\"0\",\"0\",\"1\",\"2\",\"2\",\"2\",\"3\",\"0\",\"0\",\"0\",\"0\",\"100\",\"\",\"0\",\"0\",\"33876\",\"18254\",\"0\",\"22376\",\"2024\",\"Oct-1996\",\"0\",\"0\",\"8\",\"18.7\",\"1\",\"9\",\"0\",\"0\",\"\",\"N\",\"\",\"\",\"\",\"\",\"\",\"\",\"\",\"\",\"\",\"\",\"\",\"\",\"\",\"\",\"Cash\",\"N\",\"\",\"\",\"\",\"\",\"\",\"\"\n",
            "\"\",\"\",\"9000\",\"9000\",\"9000\",\" 36 months\",\"  6.11%\",\"274.25\",\"A\",\"A1\",\"\",\"n/a\",\"OWN\",\"25000\",\"Not Verified\",\"Sep-2018\",\"Current\",\"n\",\"\",\"\",\"credit_card\",\"Credit card refinancing\",\"224xx\",\"VA\",\"12.1\",\"0\",\"Apr-1999\",\"0\",\"56\",\"\",\"6\",\"0\",\"8996\",\"33.8%\",\"18\",\"w\",\"8541.98\",\"8541.98\",\"550.03\",\"550.03\",\"458.02\",\"92.01\",\"0.0\",\"0.0\",\"0.0\",\"Dec-2018\",\"274.25\",\"Jan-2019\",\"Dec-2018\",\"0\",\"56\",\"1\",\"Individual\",\"\",\"\",\"\",\"0\",\"160\",\"8996\",\"0\",\"0\",\"0\",\"0\",\"66\",\"0\",\"\",\"0\",\"1\",\"6920\",\"34\",\"26600\",\"0\",\"0\",\"0\",\"1\",\"1799\",\"13466\",\"35.3\",\"0\",\"0\",\"66\",\"233\",\"14\",\"14\",\"2\",\"77\",\"\",\"14\",\"56\",\"2\",\"2\",\"4\",\"3\",\"4\",\"1\",\"6\",\"15\",\"4\",\"6\",\"0\",\"0\",\"0\",\"0\",\"83.3\",\"0\",\"0\",\"0\",\"26600\",\"8996\",\"20800\",\"0\",\"\",\"\",\"\",\"\",\"\",\"\",\"\",\"\",\"\",\"\",\"\",\"N\",\"\",\"\",\"\",\"\",\"\",\"\",\"\",\"\",\"\",\"\",\"\",\"\",\"\",\"\",\"DirectPay\",\"N\",\"\",\"\",\"\",\"\",\"\",\"\"\n",
            "\"\",\"\",\"20000\",\"20000\",\"20000\",\" 36 months\",\"  6.67%\",\"614.53\",\"A\",\"A2\",\"General Manager\",\"< 1 year\",\"MORTGAGE\",\"125000\",\"Not Verified\",\"Sep-2018\",\"Current\",\"n\",\"\",\"\",\"house\",\"Home buying\",\"750xx\",\"TX\",\"15.55\",\"1\",\"Jul-2003\",\"0\",\"21\",\"\",\"24\",\"0\",\"5832\",\"11.4%\",\"36\",\"w\",\"18990.48\",\"18990.48\",\"1214.24\",\"1214.24\",\"1009.52\",\"204.72\",\"0.0\",\"0.0\",\"0.0\",\"Dec-2018\",\"614.53\",\"Jan-2019\",\"Dec-2018\",\"0\",\"\",\"1\",\"Individual\",\"\",\"\",\"\",\"0\",\"0\",\"63577\",\"2\",\"1\",\"0\",\"1\",\"22\",\"54244\",\"\",\"2\",\"4\",\"3048\",\"17\",\"51100\",\"1\",\"0\",\"6\",\"6\",\"3027\",\"36050\",\"11.9\",\"0\",\"0\",\"148\",\"182\",\"6\",\"6\",\"2\",\"24\",\"21\",\"1\",\"21\",\"0\",\"5\",\"6\",\"16\",\"19\",\"6\",\"22\",\"26\",\"6\",\"24\",\"0\",\"0\",\"0\",\"2\",\"97.2\",\"7.7\",\"0\",\"0\",\"133998\",\"63577\",\"40900\",\"78764\",\"\",\"\",\"\",\"\",\"\",\"\",\"\",\"\",\"\",\"\",\"\",\"N\",\"\",\"\",\"\",\"\",\"\",\"\",\"\",\"\",\"\",\"\",\"\",\"\",\"\",\"\",\"Cash\",\"N\",\"\",\"\",\"\",\"\",\"\",\"\"\n",
            "\"\",\"\",\"20000\",\"20000\",\"20000\",\" 36 months\",\"  7.84%\",\"625.26\",\"A\",\"A4\",\"Teacher\",\"10+ years\",\"MORTGAGE\",\"48186\",\"Not Verified\",\"Sep-2018\",\"Current\",\"n\",\"\",\"\",\"debt_consolidation\",\"Debt consolidation\",\"641xx\",\"MO\",\"24.68\",\"0\",\"Aug-1996\",\"0\",\"\",\"\",\"17\",\"0\",\"23822\",\"58.8%\",\"38\",\"w\",\"18506.50\",\"18506.50\",\"1803.14\",\"1803.14\",\"1493.50\",\"309.64\",\"0.0\",\"0.0\",\"0.0\",\"Dec-2018\",\"625.26\",\"Jan-2019\",\"Dec-2018\",\"0\",\"\",\"1\",\"Individual\",\"\",\"\",\"\",\"0\",\"0\",\"191246\",\"0\",\"9\",\"0\",\"2\",\"16\",\"14800\",\"48\",\"1\",\"1\",\"11800\",\"54\",\"40500\",\"1\",\"0\",\"0\",\"3\",\"11250\",\"13078\",\"57.8\",\"0\",\"0\",\"265\",\"239\",\"8\",\"8\",\"2\",\"8\",\"\",\"16\",\"\",\"0\",\"3\",\"4\",\"6\",\"7\",\"27\",\"7\",\"9\",\"4\",\"17\",\"0\",\"0\",\"0\",\"1\",\"100\",\"16.7\",\"0\",\"0\",\"234182\",\"38622\",\"31000\",\"30832\",\"\",\"\",\"\",\"\",\"\",\"\",\"\",\"\",\"\",\"\",\"\",\"N\",\"\",\"\",\"\",\"\",\"\",\"\",\"\",\"\",\"\",\"\",\"\",\"\",\"\",\"\",\"DirectPay\",\"N\",\"\",\"\",\"\",\"\",\"\",\"\"\n"
          ],
          "name": "stdout"
        }
      ]
    },
    {
      "metadata": {
        "id": "3nAIRCZdofrY",
        "colab_type": "text"
      },
      "cell_type": "markdown",
      "source": [
        "## Load LendingClub data"
      ]
    },
    {
      "metadata": {
        "id": "3-8Vn3y6ooBC",
        "colab_type": "code",
        "colab": {
          "base_uri": "https://localhost:8080/",
          "height": 70
        },
        "outputId": "f263f068-c44c-4219-f42a-f73e627a0716"
      },
      "cell_type": "code",
      "source": [
        "import pandas as pd\n",
        "df = pd.read_csv('LoanStats_2018Q3.csv', skiprows=1, skipfooter=2)"
      ],
      "execution_count": 5,
      "outputs": [
        {
          "output_type": "stream",
          "text": [
            "/usr/local/lib/python3.6/dist-packages/ipykernel_launcher.py:2: ParserWarning: Falling back to the 'python' engine because the 'c' engine does not support skipfooter; you can avoid this warning by specifying engine='python'.\n",
            "  \n"
          ],
          "name": "stderr"
        }
      ]
    },
    {
      "metadata": {
        "id": "Ga9qf2A02YEM",
        "colab_type": "code",
        "colab": {
          "base_uri": "https://localhost:8080/",
          "height": 34
        },
        "outputId": "406e7d0d-8b05-45b0-b64b-fa5894e1b554"
      },
      "cell_type": "code",
      "source": [
        "df['hardship_payoff_balance_amount'].isnull().sum()/len(df) #99% values are missing"
      ],
      "execution_count": 6,
      "outputs": [
        {
          "output_type": "execute_result",
          "data": {
            "text/plain": [
              "0.999898591197716"
            ]
          },
          "metadata": {
            "tags": []
          },
          "execution_count": 6
        }
      ]
    },
    {
      "metadata": {
        "id": "1b5_hMTio2Ly",
        "colab_type": "text"
      },
      "cell_type": "markdown",
      "source": [
        "## Work with strings"
      ]
    },
    {
      "metadata": {
        "id": "WOL7QPVNo3F4",
        "colab_type": "code",
        "colab": {
          "base_uri": "https://localhost:8080/",
          "height": 34
        },
        "outputId": "51752563-2529-4698-97c1-4e690cb0b8bb"
      },
      "cell_type": "code",
      "source": [
        "import numpy as np\n",
        "\n",
        "def all_numeric(df):\n",
        "  return all((df.dtypes==np.number) | #if all are number or all are bool\n",
        "            (df.dtypes==bool))\n",
        "\n",
        "def no_nulls(df):\n",
        "  return not any(df.isnull().sum()) #dont return any nulls\n",
        "\n",
        "def ready_fpr_sklearn(df):\n",
        "  return all_numeric(df) and no_nulls(df) #these conditions are needed for scikit learn\n",
        "\n",
        "ready_fpr_sklearn(df)"
      ],
      "execution_count": 8,
      "outputs": [
        {
          "output_type": "execute_result",
          "data": {
            "text/plain": [
              "False"
            ]
          },
          "metadata": {
            "tags": []
          },
          "execution_count": 8
        }
      ]
    },
    {
      "metadata": {
        "id": "NLLUg3Lv4SVJ",
        "colab_type": "code",
        "colab": {
          "base_uri": "https://localhost:8080/",
          "height": 34
        },
        "outputId": "a2c277cc-8476-4500-a505-94614035aa55"
      },
      "cell_type": "code",
      "source": [
        "all_numeric(df)"
      ],
      "execution_count": 9,
      "outputs": [
        {
          "output_type": "execute_result",
          "data": {
            "text/plain": [
              "False"
            ]
          },
          "metadata": {
            "tags": []
          },
          "execution_count": 9
        }
      ]
    },
    {
      "metadata": {
        "id": "Pz8r1QgD4VIu",
        "colab_type": "code",
        "colab": {
          "base_uri": "https://localhost:8080/",
          "height": 722
        },
        "outputId": "8d803f78-60ab-4672-cf93-3560ab29e204"
      },
      "cell_type": "code",
      "source": [
        "df.select_dtypes('object').info() #37 objects"
      ],
      "execution_count": 10,
      "outputs": [
        {
          "output_type": "stream",
          "text": [
            "<class 'pandas.core.frame.DataFrame'>\n",
            "RangeIndex: 128194 entries, 0 to 128193\n",
            "Data columns (total 37 columns):\n",
            "term                         128194 non-null object\n",
            "int_rate                     128194 non-null object\n",
            "grade                        128194 non-null object\n",
            "sub_grade                    128194 non-null object\n",
            "emp_title                    114757 non-null object\n",
            "emp_length                   117807 non-null object\n",
            "home_ownership               128194 non-null object\n",
            "verification_status          128194 non-null object\n",
            "issue_d                      128194 non-null object\n",
            "loan_status                  128194 non-null object\n",
            "pymnt_plan                   128194 non-null object\n",
            "purpose                      128194 non-null object\n",
            "title                        128194 non-null object\n",
            "zip_code                     128194 non-null object\n",
            "addr_state                   128194 non-null object\n",
            "earliest_cr_line             128194 non-null object\n",
            "revol_util                   128065 non-null object\n",
            "initial_list_status          128194 non-null object\n",
            "last_pymnt_d                 128048 non-null object\n",
            "next_pymnt_d                 123298 non-null object\n",
            "last_credit_pull_d           128190 non-null object\n",
            "application_type             128194 non-null object\n",
            "verification_status_joint    15729 non-null object\n",
            "sec_app_earliest_cr_line     17785 non-null object\n",
            "hardship_flag                128194 non-null object\n",
            "hardship_type                13 non-null object\n",
            "hardship_reason              13 non-null object\n",
            "hardship_status              13 non-null object\n",
            "hardship_start_date          13 non-null object\n",
            "hardship_end_date            13 non-null object\n",
            "payment_plan_start_date      13 non-null object\n",
            "hardship_loan_status         13 non-null object\n",
            "disbursement_method          128194 non-null object\n",
            "debt_settlement_flag         128194 non-null object\n",
            "debt_settlement_flag_date    5 non-null object\n",
            "settlement_status            5 non-null object\n",
            "settlement_date              5 non-null object\n",
            "dtypes: object(37)\n",
            "memory usage: 36.2+ MB\n"
          ],
          "name": "stdout"
        }
      ]
    },
    {
      "metadata": {
        "id": "bsj5179C42iB",
        "colab_type": "code",
        "colab": {
          "base_uri": "https://localhost:8080/",
          "height": 118
        },
        "outputId": "12670099-dbef-488a-83db-3a542f28248e"
      },
      "cell_type": "code",
      "source": [
        "df.int_rate.head() #str because of percents\n",
        "def remove_percent(string):\n",
        "  return float(string.replace('%', ''))\n",
        "#deal with missing values before applying functions, if any\n",
        "df['int_rate'] = df['int_rate'].apply(remove_percent)\n",
        "df.int_rate.head()"
      ],
      "execution_count": 15,
      "outputs": [
        {
          "output_type": "execute_result",
          "data": {
            "text/plain": [
              "0    17.97\n",
              "1    13.56\n",
              "2    18.94\n",
              "3     7.84\n",
              "4     7.84\n",
              "Name: int_rate, dtype: float64"
            ]
          },
          "metadata": {
            "tags": []
          },
          "execution_count": 15
        }
      ]
    },
    {
      "metadata": {
        "id": "3evTesE27AJ5",
        "colab_type": "code",
        "colab": {
          "base_uri": "https://localhost:8080/",
          "height": 370
        },
        "outputId": "0831697a-d47b-4d41-cfb6-fb64eaf43126"
      },
      "cell_type": "code",
      "source": [
        "#Clean emp_title\n",
        "#look at top 20 titles\n",
        "df['emp_title'].value_counts().head(20) #redundant managers, owner, supervisor"
      ],
      "execution_count": 16,
      "outputs": [
        {
          "output_type": "execute_result",
          "data": {
            "text/plain": [
              "Teacher               2294\n",
              "Manager               2075\n",
              "Owner                 1231\n",
              "Driver                1089\n",
              "Registered Nurse       944\n",
              "Supervisor             810\n",
              "RN                     757\n",
              "Sales                  726\n",
              "Project Manager        637\n",
              "General Manager        548\n",
              "Office Manager         542\n",
              "Director               482\n",
              "owner                  398\n",
              "Engineer               383\n",
              "Truck Driver           367\n",
              "Operations Manager     366\n",
              "President              350\n",
              "Sales Manager          323\n",
              "Supervisor             321\n",
              "Server                 319\n",
              "Name: emp_title, dtype: int64"
            ]
          },
          "metadata": {
            "tags": []
          },
          "execution_count": 16
        }
      ]
    },
    {
      "metadata": {
        "id": "MlH4R5KP75JR",
        "colab_type": "code",
        "colab": {
          "base_uri": "https://localhost:8080/",
          "height": 34
        },
        "outputId": "2cb0b473-6e2c-4ac1-b54f-104ad9cd64bd"
      },
      "cell_type": "code",
      "source": [
        "#how often is emp_title null?\n",
        "df['emp_title'].isnull().sum()\n",
        "type(df['emp_title'][0])"
      ],
      "execution_count": 41,
      "outputs": [
        {
          "output_type": "execute_result",
          "data": {
            "text/plain": [
              "str"
            ]
          },
          "metadata": {
            "tags": []
          },
          "execution_count": 41
        }
      ]
    },
    {
      "metadata": {
        "id": "metFpykM8HxV",
        "colab_type": "code",
        "colab": {
          "base_uri": "https://localhost:8080/",
          "height": 34
        },
        "outputId": "511dff99-28cb-4296-9edf-eb73ce4e9c3f"
      },
      "cell_type": "code",
      "source": [
        "#clean the title and handle missing values\n",
        "def clean_title(x):\n",
        "    if isinstance(x, str):        \n",
        "        return x.strip().title()\n",
        "    else:\n",
        "        return 'Unknown'\n",
        "\n",
        "df['emp_title'] = df['emp_title'].apply(clean_title)\n",
        "df['emp_title'].isnull().sum()"
      ],
      "execution_count": 42,
      "outputs": [
        {
          "output_type": "execute_result",
          "data": {
            "text/plain": [
              "0"
            ]
          },
          "metadata": {
            "tags": []
          },
          "execution_count": 42
        }
      ]
    },
    {
      "metadata": {
        "id": "3wtMPApm_7vu",
        "colab_type": "code",
        "colab": {
          "base_uri": "https://localhost:8080/",
          "height": 50
        },
        "outputId": "7005b912-4d23-436e-b938-48bd04cf5470"
      },
      "cell_type": "code",
      "source": [
        "df['emp_title'].value_counts().head(20)"
      ],
      "execution_count": 43,
      "outputs": [
        {
          "output_type": "execute_result",
          "data": {
            "text/plain": [
              "Unknown    128194\n",
              "Name: emp_title, dtype: int64"
            ]
          },
          "metadata": {
            "tags": []
          },
          "execution_count": 43
        }
      ]
    },
    {
      "metadata": {
        "id": "aI20O77oAQcB",
        "colab_type": "code",
        "colab": {
          "base_uri": "https://localhost:8080/",
          "height": 50
        },
        "outputId": "fd154a67-c313-4a35-debe-65ee93bf37e6"
      },
      "cell_type": "code",
      "source": [
        "#create emp_title_manager\n",
        "df['emp_title_manager'] = df['emp_title'].str.contains('Manager')\n",
        "df['emp_title_manager'].value_counts()"
      ],
      "execution_count": 40,
      "outputs": [
        {
          "output_type": "execute_result",
          "data": {
            "text/plain": [
              "False    128194\n",
              "Name: emp_title_manager, dtype: int64"
            ]
          },
          "metadata": {
            "tags": []
          },
          "execution_count": 40
        }
      ]
    },
    {
      "metadata": {
        "id": "s8BcCY6so3by",
        "colab_type": "text"
      },
      "cell_type": "markdown",
      "source": [
        "## Work with dates"
      ]
    },
    {
      "metadata": {
        "id": "kNrKxOTeo4W3",
        "colab_type": "code",
        "colab": {}
      },
      "cell_type": "code",
      "source": [
        "pd.to_datetime(df['issue_d'], infer_datetime_format=True)"
      ],
      "execution_count": 0,
      "outputs": []
    },
    {
      "metadata": {
        "id": "L8k0LiHmo5EU",
        "colab_type": "text"
      },
      "cell_type": "markdown",
      "source": [
        "## Load Instacart data\n",
        "\n",
        "Let's return to the dataset of [3 Million Instacart Orders](https://tech.instacart.com/3-million-instacart-orders-open-sourced-d40d29ead6f2)"
      ]
    },
    {
      "metadata": {
        "id": "0_7PXF7lpEXg",
        "colab_type": "text"
      },
      "cell_type": "markdown",
      "source": [
        "If necessary, uncomment and run the cells below to re-download and extract the data"
      ]
    },
    {
      "metadata": {
        "id": "eqADJbAipBmM",
        "colab_type": "code",
        "colab": {}
      },
      "cell_type": "code",
      "source": [
        "# !wget https://s3.amazonaws.com/instacart-datasets/instacart_online_grocery_shopping_2017_05_01.tar.gz"
      ],
      "execution_count": 0,
      "outputs": []
    },
    {
      "metadata": {
        "id": "zZm3Tk9gpGxk",
        "colab_type": "code",
        "colab": {}
      },
      "cell_type": "code",
      "source": [
        "# !tar --gunzip --extract --verbose --file=instacart_online_grocery_shopping_2017_05_01.tar.gz"
      ],
      "execution_count": 0,
      "outputs": []
    },
    {
      "metadata": {
        "id": "4I9uqAQjpWnA",
        "colab_type": "text"
      },
      "cell_type": "markdown",
      "source": [
        "Here's a list of the six CSV filenames"
      ]
    },
    {
      "metadata": {
        "id": "llt7qLvWpIsL",
        "colab_type": "code",
        "colab": {}
      },
      "cell_type": "code",
      "source": [
        "%cd instacart_2017_05_01"
      ],
      "execution_count": 0,
      "outputs": []
    },
    {
      "metadata": {
        "id": "O0fAbo82pQsV",
        "colab_type": "code",
        "colab": {}
      },
      "cell_type": "code",
      "source": [
        "!ls -lh"
      ],
      "execution_count": 0,
      "outputs": []
    },
    {
      "metadata": {
        "id": "AaEjdJwqqC7J",
        "colab_type": "text"
      },
      "cell_type": "markdown",
      "source": [
        "Load the CSV files with pandas"
      ]
    },
    {
      "metadata": {
        "id": "OS_eGNXKqAZv",
        "colab_type": "code",
        "colab": {}
      },
      "cell_type": "code",
      "source": [
        ""
      ],
      "execution_count": 0,
      "outputs": []
    },
    {
      "metadata": {
        "id": "-b12SfchpaqX",
        "colab_type": "text"
      },
      "cell_type": "markdown",
      "source": [
        "## Do feature engineering"
      ]
    },
    {
      "metadata": {
        "id": "ZR2aOzvvpYwM",
        "colab_type": "code",
        "colab": {}
      },
      "cell_type": "code",
      "source": [
        ""
      ],
      "execution_count": 0,
      "outputs": []
    }
  ]
}