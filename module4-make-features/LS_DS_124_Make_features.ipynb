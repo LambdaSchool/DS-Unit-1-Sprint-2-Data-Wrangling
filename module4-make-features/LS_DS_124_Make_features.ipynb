{
  "nbformat": 4,
  "nbformat_minor": 0,
  "metadata": {
    "colab": {
      "name": "LS_DS_124_Make_features.ipynb",
      "version": "0.3.2",
      "provenance": [],
      "collapsed_sections": [],
      "include_colab_link": true
    },
    "kernelspec": {
      "name": "python3",
      "display_name": "Python 3"
    }
  },
  "cells": [
    {
      "cell_type": "markdown",
      "metadata": {
        "id": "view-in-github",
        "colab_type": "text"
      },
      "source": [
        "<a href=\"https://colab.research.google.com/github/DimaKav/DS-Unit-1-Sprint-2-Data-Wrangling/blob/master/module4-make-features/LS_DS_124_Make_features.ipynb\" target=\"_parent\"><img src=\"https://colab.research.google.com/assets/colab-badge.svg\" alt=\"Open In Colab\"/></a>"
      ]
    },
    {
      "metadata": {
        "id": "qacqiXogluN_",
        "colab_type": "text"
      },
      "cell_type": "markdown",
      "source": [
        "_Lambda School Data Science_\n",
        "\n",
        "# Make features\n",
        "\n",
        "Objectives\n",
        "-  understand the purpose of feature engineering\n",
        "-  work with strings in pandas\n",
        "- work with dates and times in pandas\n",
        "\n",
        "Links\n",
        "- [Feature Engineering](https://en.wikipedia.org/wiki/Feature_engineering)\n",
        "- Python Data Science Handbook\n",
        "  - [Chapter 3.10](https://jakevdp.github.io/PythonDataScienceHandbook/03.10-working-with-strings.html), Vectorized String Operations\n",
        "  - [Chapter 3.11](https://jakevdp.github.io/PythonDataScienceHandbook/03.11-working-with-time-series.html), Working with Time Series"
      ]
    },
    {
      "metadata": {
        "id": "iSGiSktAoWIx",
        "colab_type": "text"
      },
      "cell_type": "markdown",
      "source": [
        "## Get LendingClub data"
      ]
    },
    {
      "metadata": {
        "id": "2ugxlWXimoHn",
        "colab_type": "code",
        "colab": {
          "base_uri": "https://localhost:8080/",
          "height": 204
        },
        "outputId": "b8553ca6-032d-40f8-9d5b-bdb499f883e4"
      },
      "cell_type": "code",
      "source": [
        "!wget https://resources.lendingclub.com/LoanStats_2018Q3.csv.zip"
      ],
      "execution_count": 1,
      "outputs": [
        {
          "output_type": "stream",
          "text": [
            "--2019-01-17 21:27:23--  https://resources.lendingclub.com/LoanStats_2018Q3.csv.zip\n",
            "Resolving resources.lendingclub.com (resources.lendingclub.com)... 64.48.1.20\n",
            "Connecting to resources.lendingclub.com (resources.lendingclub.com)|64.48.1.20|:443... connected.\n",
            "HTTP request sent, awaiting response... 200 OK\n",
            "Length: unspecified [application/zip]\n",
            "Saving to: ‘LoanStats_2018Q3.csv.zip’\n",
            "\n",
            "LoanStats_2018Q3.cs     [     <=>            ]  21.42M  1.40MB/s    in 16s     \n",
            "\n",
            "2019-01-17 21:27:39 (1.37 MB/s) - ‘LoanStats_2018Q3.csv.zip’ saved [22461905]\n",
            "\n"
          ],
          "name": "stdout"
        }
      ]
    },
    {
      "metadata": {
        "id": "-4sk6qPgmpmN",
        "colab_type": "code",
        "colab": {
          "base_uri": "https://localhost:8080/",
          "height": 51
        },
        "outputId": "edea1bbf-e2ba-4252-d7f9-928e9ca3d41a"
      },
      "cell_type": "code",
      "source": [
        "!unzip LoanStats_2018Q3.csv.zip"
      ],
      "execution_count": 2,
      "outputs": [
        {
          "output_type": "stream",
          "text": [
            "Archive:  LoanStats_2018Q3.csv.zip\n",
            "  inflating: LoanStats_2018Q3.csv    \n"
          ],
          "name": "stdout"
        }
      ]
    },
    {
      "metadata": {
        "id": "seh5oNE1nD0X",
        "colab_type": "code",
        "colab": {
          "base_uri": "https://localhost:8080/",
          "height": 207
        },
        "outputId": "61616d4d-e855-4791-e32d-2c78b39f2dc3"
      },
      "cell_type": "code",
      "source": [
        "!head LoanStats_2018Q3.csv"
      ],
      "execution_count": 3,
      "outputs": [
        {
          "output_type": "stream",
          "text": [
            "Notes offered by Prospectus (https://www.lendingclub.com/info/prospectus.action)\n",
            "\"id\",\"member_id\",\"loan_amnt\",\"funded_amnt\",\"funded_amnt_inv\",\"term\",\"int_rate\",\"installment\",\"grade\",\"sub_grade\",\"emp_title\",\"emp_length\",\"home_ownership\",\"annual_inc\",\"verification_status\",\"issue_d\",\"loan_status\",\"pymnt_plan\",\"url\",\"desc\",\"purpose\",\"title\",\"zip_code\",\"addr_state\",\"dti\",\"delinq_2yrs\",\"earliest_cr_line\",\"inq_last_6mths\",\"mths_since_last_delinq\",\"mths_since_last_record\",\"open_acc\",\"pub_rec\",\"revol_bal\",\"revol_util\",\"total_acc\",\"initial_list_status\",\"out_prncp\",\"out_prncp_inv\",\"total_pymnt\",\"total_pymnt_inv\",\"total_rec_prncp\",\"total_rec_int\",\"total_rec_late_fee\",\"recoveries\",\"collection_recovery_fee\",\"last_pymnt_d\",\"last_pymnt_amnt\",\"next_pymnt_d\",\"last_credit_pull_d\",\"collections_12_mths_ex_med\",\"mths_since_last_major_derog\",\"policy_code\",\"application_type\",\"annual_inc_joint\",\"dti_joint\",\"verification_status_joint\",\"acc_now_delinq\",\"tot_coll_amt\",\"tot_cur_bal\",\"open_acc_6m\",\"open_act_il\",\"open_il_12m\",\"open_il_24m\",\"mths_since_rcnt_il\",\"total_bal_il\",\"il_util\",\"open_rv_12m\",\"open_rv_24m\",\"max_bal_bc\",\"all_util\",\"total_rev_hi_lim\",\"inq_fi\",\"total_cu_tl\",\"inq_last_12m\",\"acc_open_past_24mths\",\"avg_cur_bal\",\"bc_open_to_buy\",\"bc_util\",\"chargeoff_within_12_mths\",\"delinq_amnt\",\"mo_sin_old_il_acct\",\"mo_sin_old_rev_tl_op\",\"mo_sin_rcnt_rev_tl_op\",\"mo_sin_rcnt_tl\",\"mort_acc\",\"mths_since_recent_bc\",\"mths_since_recent_bc_dlq\",\"mths_since_recent_inq\",\"mths_since_recent_revol_delinq\",\"num_accts_ever_120_pd\",\"num_actv_bc_tl\",\"num_actv_rev_tl\",\"num_bc_sats\",\"num_bc_tl\",\"num_il_tl\",\"num_op_rev_tl\",\"num_rev_accts\",\"num_rev_tl_bal_gt_0\",\"num_sats\",\"num_tl_120dpd_2m\",\"num_tl_30dpd\",\"num_tl_90g_dpd_24m\",\"num_tl_op_past_12m\",\"pct_tl_nvr_dlq\",\"percent_bc_gt_75\",\"pub_rec_bankruptcies\",\"tax_liens\",\"tot_hi_cred_lim\",\"total_bal_ex_mort\",\"total_bc_limit\",\"total_il_high_credit_limit\",\"revol_bal_joint\",\"sec_app_earliest_cr_line\",\"sec_app_inq_last_6mths\",\"sec_app_mort_acc\",\"sec_app_open_acc\",\"sec_app_revol_util\",\"sec_app_open_act_il\",\"sec_app_num_rev_accts\",\"sec_app_chargeoff_within_12_mths\",\"sec_app_collections_12_mths_ex_med\",\"sec_app_mths_since_last_major_derog\",\"hardship_flag\",\"hardship_type\",\"hardship_reason\",\"hardship_status\",\"deferral_term\",\"hardship_amount\",\"hardship_start_date\",\"hardship_end_date\",\"payment_plan_start_date\",\"hardship_length\",\"hardship_dpd\",\"hardship_loan_status\",\"orig_projected_additional_accrued_interest\",\"hardship_payoff_balance_amount\",\"hardship_last_payment_amount\",\"disbursement_method\",\"debt_settlement_flag\",\"debt_settlement_flag_date\",\"settlement_status\",\"settlement_date\",\"settlement_amount\",\"settlement_percentage\",\"settlement_term\"\n",
            "\"\",\"\",\"20000\",\"20000\",\"20000\",\" 60 months\",\" 17.97%\",\"507.55\",\"D\",\"D1\",\"Motor Vehicle Operator\",\"7 years\",\"RENT\",\"68000\",\"Source Verified\",\"Sep-2018\",\"Current\",\"n\",\"\",\"\",\"debt_consolidation\",\"Debt consolidation\",\"254xx\",\"WV\",\"15.8\",\"0\",\"Feb-2009\",\"1\",\"30\",\"118\",\"11\",\"1\",\"13483\",\"69.1%\",\"26\",\"w\",\"19580.78\",\"19580.78\",\"975.17\",\"975.17\",\"419.22\",\"555.95\",\"0.0\",\"0.0\",\"0.0\",\"Dec-2018\",\"507.55\",\"Jan-2019\",\"Dec-2018\",\"0\",\"\",\"1\",\"Individual\",\"\",\"\",\"\",\"0\",\"0\",\"194908\",\"0\",\"2\",\"0\",\"2\",\"17\",\"45299\",\"93\",\"0\",\"1\",\"9815\",\"86\",\"19500\",\"1\",\"4\",\"2\",\"5\",\"19491\",\"2185\",\"81.8\",\"0\",\"0\",\"115\",\"94\",\"13\",\"7\",\"4\",\"25\",\"\",\"2\",\"30\",\"0\",\"1\",\"3\",\"2\",\"4\",\"11\",\"8\",\"10\",\"3\",\"11\",\"0\",\"0\",\"0\",\"1\",\"92.3\",\"50\",\"1\",\"0\",\"205625\",\"58782\",\"12000\",\"48733\",\"\",\"\",\"\",\"\",\"\",\"\",\"\",\"\",\"\",\"\",\"\",\"N\",\"\",\"\",\"\",\"\",\"\",\"\",\"\",\"\",\"\",\"\",\"\",\"\",\"\",\"\",\"DirectPay\",\"N\",\"\",\"\",\"\",\"\",\"\",\"\"\n",
            "\"\",\"\",\"25000\",\"25000\",\"25000\",\" 60 months\",\" 13.56%\",\"576.02\",\"C\",\"C1\",\"Firefighter\",\"7 years\",\"MORTGAGE\",\"61000\",\"Verified\",\"Sep-2018\",\"Current\",\"n\",\"\",\"\",\"major_purchase\",\"Major purchase\",\"770xx\",\"TX\",\"16.74\",\"0\",\"Jan-2009\",\"0\",\"\",\"\",\"5\",\"0\",\"6299\",\"48.5%\",\"14\",\"w\",\"24109.45\",\"24109.45\",\"1567.98\",\"1567.98\",\"890.55\",\"677.43\",\"0.0\",\"0.0\",\"0.0\",\"Dec-2018\",\"576.02\",\"Jan-2019\",\"Dec-2018\",\"0\",\"\",\"1\",\"Individual\",\"\",\"\",\"\",\"0\",\"0\",\"204007\",\"1\",\"2\",\"0\",\"1\",\"19\",\"13862\",\"37\",\"0\",\"0\",\"0\",\"40\",\"13000\",\"0\",\"7\",\"4\",\"2\",\"40801\",\"1500\",\"0\",\"0\",\"0\",\"54\",\"116\",\"26\",\"3\",\"1\",\"74\",\"\",\"4\",\"\",\"0\",\"0\",\"1\",\"1\",\"2\",\"5\",\"2\",\"8\",\"1\",\"5\",\"0\",\"0\",\"0\",\"1\",\"100\",\"0\",\"0\",\"0\",\"234573\",\"20161\",\"1500\",\"37273\",\"\",\"\",\"\",\"\",\"\",\"\",\"\",\"\",\"\",\"\",\"\",\"N\",\"\",\"\",\"\",\"\",\"\",\"\",\"\",\"\",\"\",\"\",\"\",\"\",\"\",\"\",\"Cash\",\"N\",\"\",\"\",\"\",\"\",\"\",\"\"\n",
            "\"\",\"\",\"30000\",\"30000\",\"30000\",\" 36 months\",\" 18.94%\",\"1098.78\",\"D\",\"D2\",\"\",\"< 1 year\",\"RENT\",\"100000\",\"Source Verified\",\"Sep-2018\",\"Current\",\"n\",\"\",\"\",\"debt_consolidation\",\"Debt consolidation\",\"300xx\",\"GA\",\"16.07\",\"0\",\"Mar-2008\",\"1\",\"\",\"114\",\"6\",\"1\",\"14574\",\"70.1%\",\"9\",\"w\",\"28739.57\",\"28739.57\",\"2134.43\",\"2134.43\",\"1260.43\",\"874.00\",\"0.0\",\"0.0\",\"0.0\",\"Dec-2018\",\"1098.78\",\"Jan-2019\",\"Dec-2018\",\"0\",\"\",\"1\",\"Individual\",\"\",\"\",\"\",\"0\",\"0\",\"44048\",\"1\",\"2\",\"1\",\"1\",\"1\",\"29474\",\"69\",\"1\",\"2\",\"8521\",\"69\",\"20800\",\"1\",\"0\",\"2\",\"3\",\"8810\",\"5226\",\"73.6\",\"0\",\"0\",\"126\",\"104\",\"11\",\"1\",\"0\",\"17\",\"\",\"1\",\"\",\"0\",\"2\",\"2\",\"2\",\"2\",\"4\",\"4\",\"5\",\"2\",\"6\",\"0\",\"0\",\"0\",\"2\",\"100\",\"0\",\"1\",\"0\",\"63636\",\"44048\",\"19800\",\"42836\",\"\",\"\",\"\",\"\",\"\",\"\",\"\",\"\",\"\",\"\",\"\",\"N\",\"\",\"\",\"\",\"\",\"\",\"\",\"\",\"\",\"\",\"\",\"\",\"\",\"\",\"\",\"Cash\",\"N\",\"\",\"\",\"\",\"\",\"\",\"\"\n",
            "\"\",\"\",\"6000\",\"6000\",\"6000\",\" 36 months\",\"  7.84%\",\"187.58\",\"A\",\"A4\",\"\",\"n/a\",\"RENT\",\"30000\",\"Not Verified\",\"Sep-2018\",\"Current\",\"n\",\"\",\"\",\"debt_consolidation\",\"Debt consolidation\",\"923xx\",\"CA\",\"5.44\",\"0\",\"Apr-2000\",\"0\",\"\",\"104\",\"8\",\"1\",\"5936\",\"34.5%\",\"11\",\"w\",\"5702.27\",\"5702.27\",\"369.93\",\"369.93\",\"297.73\",\"72.20\",\"0.0\",\"0.0\",\"0.0\",\"Dec-2018\",\"187.58\",\"Jan-2019\",\"Dec-2018\",\"0\",\"\",\"1\",\"Individual\",\"\",\"\",\"\",\"0\",\"350\",\"5936\",\"0\",\"0\",\"0\",\"1\",\"23\",\"0\",\"\",\"1\",\"4\",\"2913\",\"35\",\"17200\",\"2\",\"0\",\"0\",\"5\",\"848\",\"7698\",\"35.9\",\"0\",\"0\",\"139\",\"221\",\"7\",\"7\",\"0\",\"7\",\"\",\"18\",\"\",\"0\",\"2\",\"3\",\"4\",\"4\",\"2\",\"8\",\"9\",\"3\",\"8\",\"0\",\"0\",\"0\",\"1\",\"100\",\"33.3\",\"1\",\"0\",\"17200\",\"5936\",\"12000\",\"0\",\"\",\"\",\"\",\"\",\"\",\"\",\"\",\"\",\"\",\"\",\"\",\"N\",\"\",\"\",\"\",\"\",\"\",\"\",\"\",\"\",\"\",\"\",\"\",\"\",\"\",\"\",\"DirectPay\",\"N\",\"\",\"\",\"\",\"\",\"\",\"\"\n",
            "\"\",\"\",\"10650\",\"10650\",\"10650\",\" 36 months\",\"  7.84%\",\"332.95\",\"A\",\"A4\",\"\",\"n/a\",\"RENT\",\"28000\",\"Verified\",\"Sep-2018\",\"Current\",\"n\",\"\",\"\",\"medical\",\"Medical expenses\",\"430xx\",\"OH\",\"16.89\",\"0\",\"Nov-2002\",\"0\",\"\",\"\",\"3\",\"0\",\"37\",\"0.3%\",\"3\",\"w\",\"10121.54\",\"10121.54\",\"656.62\",\"656.62\",\"528.46\",\"128.16\",\"0.0\",\"0.0\",\"0.0\",\"Dec-2018\",\"332.95\",\"Jan-2019\",\"Dec-2018\",\"0\",\"\",\"1\",\"Joint App\",\"43000\",\"14.01\",\"Source Verified\",\"0\",\"0\",\"18254\",\"0\",\"1\",\"0\",\"1\",\"16\",\"18217\",\"81\",\"0\",\"0\",\"0\",\"54\",\"11500\",\"1\",\"1\",\"0\",\"1\",\"6085\",\"\",\"\",\"0\",\"0\",\"16\",\"190\",\"113\",\"16\",\"0\",\"\",\"\",\"16\",\"\",\"0\",\"0\",\"1\",\"0\",\"0\",\"1\",\"2\",\"2\",\"2\",\"3\",\"0\",\"0\",\"0\",\"0\",\"100\",\"\",\"0\",\"0\",\"33876\",\"18254\",\"0\",\"22376\",\"2024\",\"Oct-1996\",\"0\",\"0\",\"8\",\"18.7\",\"1\",\"9\",\"0\",\"0\",\"\",\"N\",\"\",\"\",\"\",\"\",\"\",\"\",\"\",\"\",\"\",\"\",\"\",\"\",\"\",\"\",\"Cash\",\"N\",\"\",\"\",\"\",\"\",\"\",\"\"\n",
            "\"\",\"\",\"9000\",\"9000\",\"9000\",\" 36 months\",\"  6.11%\",\"274.25\",\"A\",\"A1\",\"\",\"n/a\",\"OWN\",\"25000\",\"Not Verified\",\"Sep-2018\",\"Current\",\"n\",\"\",\"\",\"credit_card\",\"Credit card refinancing\",\"224xx\",\"VA\",\"12.1\",\"0\",\"Apr-1999\",\"0\",\"56\",\"\",\"6\",\"0\",\"8996\",\"33.8%\",\"18\",\"w\",\"8541.98\",\"8541.98\",\"550.03\",\"550.03\",\"458.02\",\"92.01\",\"0.0\",\"0.0\",\"0.0\",\"Dec-2018\",\"274.25\",\"Jan-2019\",\"Dec-2018\",\"0\",\"56\",\"1\",\"Individual\",\"\",\"\",\"\",\"0\",\"160\",\"8996\",\"0\",\"0\",\"0\",\"0\",\"66\",\"0\",\"\",\"0\",\"1\",\"6920\",\"34\",\"26600\",\"0\",\"0\",\"0\",\"1\",\"1799\",\"13466\",\"35.3\",\"0\",\"0\",\"66\",\"233\",\"14\",\"14\",\"2\",\"77\",\"\",\"14\",\"56\",\"2\",\"2\",\"4\",\"3\",\"4\",\"1\",\"6\",\"15\",\"4\",\"6\",\"0\",\"0\",\"0\",\"0\",\"83.3\",\"0\",\"0\",\"0\",\"26600\",\"8996\",\"20800\",\"0\",\"\",\"\",\"\",\"\",\"\",\"\",\"\",\"\",\"\",\"\",\"\",\"N\",\"\",\"\",\"\",\"\",\"\",\"\",\"\",\"\",\"\",\"\",\"\",\"\",\"\",\"\",\"DirectPay\",\"N\",\"\",\"\",\"\",\"\",\"\",\"\"\n",
            "\"\",\"\",\"20000\",\"20000\",\"20000\",\" 36 months\",\"  6.67%\",\"614.53\",\"A\",\"A2\",\"General Manager\",\"< 1 year\",\"MORTGAGE\",\"125000\",\"Not Verified\",\"Sep-2018\",\"Current\",\"n\",\"\",\"\",\"house\",\"Home buying\",\"750xx\",\"TX\",\"15.55\",\"1\",\"Jul-2003\",\"0\",\"21\",\"\",\"24\",\"0\",\"5832\",\"11.4%\",\"36\",\"w\",\"18990.48\",\"18990.48\",\"1214.24\",\"1214.24\",\"1009.52\",\"204.72\",\"0.0\",\"0.0\",\"0.0\",\"Dec-2018\",\"614.53\",\"Jan-2019\",\"Dec-2018\",\"0\",\"\",\"1\",\"Individual\",\"\",\"\",\"\",\"0\",\"0\",\"63577\",\"2\",\"1\",\"0\",\"1\",\"22\",\"54244\",\"\",\"2\",\"4\",\"3048\",\"17\",\"51100\",\"1\",\"0\",\"6\",\"6\",\"3027\",\"36050\",\"11.9\",\"0\",\"0\",\"148\",\"182\",\"6\",\"6\",\"2\",\"24\",\"21\",\"1\",\"21\",\"0\",\"5\",\"6\",\"16\",\"19\",\"6\",\"22\",\"26\",\"6\",\"24\",\"0\",\"0\",\"0\",\"2\",\"97.2\",\"7.7\",\"0\",\"0\",\"133998\",\"63577\",\"40900\",\"78764\",\"\",\"\",\"\",\"\",\"\",\"\",\"\",\"\",\"\",\"\",\"\",\"N\",\"\",\"\",\"\",\"\",\"\",\"\",\"\",\"\",\"\",\"\",\"\",\"\",\"\",\"\",\"Cash\",\"N\",\"\",\"\",\"\",\"\",\"\",\"\"\n",
            "\"\",\"\",\"20000\",\"20000\",\"20000\",\" 36 months\",\"  7.84%\",\"625.26\",\"A\",\"A4\",\"Teacher\",\"10+ years\",\"MORTGAGE\",\"48186\",\"Not Verified\",\"Sep-2018\",\"Current\",\"n\",\"\",\"\",\"debt_consolidation\",\"Debt consolidation\",\"641xx\",\"MO\",\"24.68\",\"0\",\"Aug-1996\",\"0\",\"\",\"\",\"17\",\"0\",\"23822\",\"58.8%\",\"38\",\"w\",\"18506.50\",\"18506.50\",\"1803.14\",\"1803.14\",\"1493.50\",\"309.64\",\"0.0\",\"0.0\",\"0.0\",\"Dec-2018\",\"625.26\",\"Jan-2019\",\"Dec-2018\",\"0\",\"\",\"1\",\"Individual\",\"\",\"\",\"\",\"0\",\"0\",\"191246\",\"0\",\"9\",\"0\",\"2\",\"16\",\"14800\",\"48\",\"1\",\"1\",\"11800\",\"54\",\"40500\",\"1\",\"0\",\"0\",\"3\",\"11250\",\"13078\",\"57.8\",\"0\",\"0\",\"265\",\"239\",\"8\",\"8\",\"2\",\"8\",\"\",\"16\",\"\",\"0\",\"3\",\"4\",\"6\",\"7\",\"27\",\"7\",\"9\",\"4\",\"17\",\"0\",\"0\",\"0\",\"1\",\"100\",\"16.7\",\"0\",\"0\",\"234182\",\"38622\",\"31000\",\"30832\",\"\",\"\",\"\",\"\",\"\",\"\",\"\",\"\",\"\",\"\",\"\",\"N\",\"\",\"\",\"\",\"\",\"\",\"\",\"\",\"\",\"\",\"\",\"\",\"\",\"\",\"\",\"DirectPay\",\"N\",\"\",\"\",\"\",\"\",\"\",\"\"\n"
          ],
          "name": "stdout"
        }
      ]
    },
    {
      "metadata": {
        "id": "uvu9CtDZt7FY",
        "colab_type": "code",
        "colab": {
          "base_uri": "https://localhost:8080/",
          "height": 207
        },
        "outputId": "d243dff2-d86a-4052-84ff-3a8cf99b9410"
      },
      "cell_type": "code",
      "source": [
        "!tail LoanStats_2018Q3.csv"
      ],
      "execution_count": 5,
      "outputs": [
        {
          "output_type": "stream",
          "text": [
            "\"\",\"\",\"12000\",\"12000\",\"12000\",\" 36 months\",\" 14.03%\",\"410.31\",\"C\",\"C2\",\"Medical Support Staff\",\"10+ years\",\"OWN\",\"53414\",\"Source Verified\",\"Jul-2018\",\"Current\",\"n\",\"\",\"\",\"home_improvement\",\"Home improvement\",\"136xx\",\"NY\",\"25.68\",\"0\",\"Mar-1997\",\"0\",\"\",\"\",\"8\",\"0\",\"6527\",\"44.4%\",\"20\",\"w\",\"10618.01\",\"10618.01\",\"2037.52\",\"2037.52\",\"1381.99\",\"655.53\",\"0.0\",\"0.0\",\"0.0\",\"Dec-2018\",\"410.31\",\"Jan-2019\",\"Dec-2018\",\"0\",\"\",\"1\",\"Individual\",\"\",\"\",\"\",\"0\",\"0\",\"29869\",\"0\",\"2\",\"0\",\"2\",\"13\",\"23342\",\"73\",\"0\",\"0\",\"3977\",\"64\",\"14700\",\"1\",\"1\",\"0\",\"2\",\"3734\",\"7173\",\"47.6\",\"0\",\"0\",\"139\",\"255\",\"42\",\"13\",\"0\",\"66\",\"\",\"18\",\"\",\"0\",\"2\",\"2\",\"5\",\"9\",\"8\",\"6\",\"12\",\"2\",\"8\",\"0\",\"0\",\"0\",\"0\",\"100\",\"40\",\"0\",\"0\",\"46792\",\"29869\",\"13700\",\"32092\",\"\",\"\",\"\",\"\",\"\",\"\",\"\",\"\",\"\",\"\",\"\",\"N\",\"\",\"\",\"\",\"\",\"\",\"\",\"\",\"\",\"\",\"\",\"\",\"\",\"\",\"\",\"Cash\",\"N\",\"\",\"\",\"\",\"\",\"\",\"\"\n",
            "\"\",\"\",\"5000\",\"5000\",\"5000\",\" 36 months\",\" 16.46%\",\"176.93\",\"C\",\"C5\",\"Labor Worker\",\"3 years\",\"MORTGAGE\",\"57000\",\"Not Verified\",\"Jul-2018\",\"Current\",\"n\",\"\",\"\",\"debt_consolidation\",\"Debt consolidation\",\"781xx\",\"TX\",\"33.09\",\"0\",\"Jul-2008\",\"0\",\"25\",\"\",\"11\",\"0\",\"7449\",\"41.4%\",\"47\",\"w\",\"4443.20\",\"4443.20\",\"875.51\",\"875.51\",\"556.80\",\"318.71\",\"0.0\",\"0.0\",\"0.0\",\"Dec-2018\",\"176.93\",\"Jan-2019\",\"Dec-2018\",\"0\",\"\",\"1\",\"Individual\",\"\",\"\",\"\",\"0\",\"236\",\"45088\",\"1\",\"5\",\"3\",\"4\",\"7\",\"37639\",\"58\",\"1\",\"2\",\"0\",\"54\",\"18000\",\"3\",\"10\",\"1\",\"6\",\"4099\",\"\",\"\",\"0\",\"0\",\"119\",\"80\",\"1\",\"1\",\"0\",\"\",\"\",\"8\",\"25\",\"0\",\"0\",\"4\",\"0\",\"1\",\"39\",\"6\",\"8\",\"4\",\"11\",\"0\",\"0\",\"0\",\"4\",\"93.6\",\"\",\"0\",\"0\",\"83496\",\"45088\",\"0\",\"65496\",\"\",\"\",\"\",\"\",\"\",\"\",\"\",\"\",\"\",\"\",\"\",\"N\",\"\",\"\",\"\",\"\",\"\",\"\",\"\",\"\",\"\",\"\",\"\",\"\",\"\",\"\",\"Cash\",\"N\",\"\",\"\",\"\",\"\",\"\",\"\"\n",
            "\"\",\"\",\"5000\",\"5000\",\"5000\",\" 36 months\",\"  6.19%\",\"152.55\",\"A\",\"A2\",\"Host/cashier\",\"4 years\",\"RENT\",\"22000\",\"Not Verified\",\"Jul-2018\",\"Current\",\"n\",\"\",\"\",\"credit_card\",\"Credit card refinancing\",\"731xx\",\"OK\",\"11.67\",\"0\",\"Apr-2001\",\"0\",\"\",\"\",\"6\",\"0\",\"7118\",\"23.3%\",\"19\",\"w\",\"4359.64\",\"4359.64\",\"759.31\",\"759.31\",\"640.36\",\"118.95\",\"0.0\",\"0.0\",\"0.0\",\"Dec-2018\",\"152.55\",\"Jan-2019\",\"Dec-2018\",\"0\",\"\",\"1\",\"Individual\",\"\",\"\",\"\",\"0\",\"0\",\"7118\",\"1\",\"0\",\"0\",\"0\",\"127\",\"0\",\"\",\"1\",\"1\",\"3841\",\"23\",\"30500\",\"1\",\"0\",\"0\",\"1\",\"1186\",\"23382\",\"23.3\",\"0\",\"0\",\"168\",\"206\",\"3\",\"3\",\"0\",\"3\",\"\",\"17\",\"\",\"0\",\"3\",\"3\",\"6\",\"10\",\"4\",\"6\",\"15\",\"3\",\"6\",\"0\",\"0\",\"0\",\"1\",\"100\",\"0\",\"0\",\"0\",\"30500\",\"7118\",\"30500\",\"0\",\"\",\"\",\"\",\"\",\"\",\"\",\"\",\"\",\"\",\"\",\"\",\"N\",\"\",\"\",\"\",\"\",\"\",\"\",\"\",\"\",\"\",\"\",\"\",\"\",\"\",\"\",\"Cash\",\"N\",\"\",\"\",\"\",\"\",\"\",\"\"\n",
            "\"\",\"\",\"20000\",\"20000\",\"20000\",\" 36 months\",\" 15.49%\",\"698.12\",\"C\",\"C4\",\"Client manager\",\"10+ years\",\"MORTGAGE\",\"80000\",\"Verified\",\"Jul-2018\",\"Current\",\"n\",\"\",\"\",\"debt_consolidation\",\"Debt consolidation\",\"913xx\",\"CA\",\"22.14\",\"0\",\"Apr-1994\",\"0\",\"43\",\"\",\"27\",\"0\",\"28994\",\"63%\",\"47\",\"w\",\"17742.70\",\"17742.70\",\"3456.18\",\"3456.18\",\"2257.30\",\"1198.88\",\"0.0\",\"0.0\",\"0.0\",\"Dec-2018\",\"698.12\",\"Jan-2019\",\"Dec-2018\",\"0\",\"43\",\"1\",\"Individual\",\"\",\"\",\"\",\"0\",\"0\",\"314886\",\"0\",\"1\",\"0\",\"0\",\"37\",\"15336\",\"61\",\"1\",\"9\",\"5067\",\"64\",\"46000\",\"1\",\"6\",\"0\",\"10\",\"11662\",\"3359\",\"83.8\",\"0\",\"0\",\"129\",\"186\",\"10\",\"10\",\"3\",\"10\",\"43\",\"13\",\"43\",\"3\",\"8\",\"22\",\"8\",\"15\",\"6\",\"24\",\"36\",\"22\",\"27\",\"0\",\"0\",\"0\",\"1\",\"93.6\",\"75\",\"0\",\"0\",\"349879\",\"47229\",\"20700\",\"25295\",\"\",\"\",\"\",\"\",\"\",\"\",\"\",\"\",\"\",\"\",\"\",\"N\",\"\",\"\",\"\",\"\",\"\",\"\",\"\",\"\",\"\",\"\",\"\",\"\",\"\",\"\",\"Cash\",\"N\",\"\",\"\",\"\",\"\",\"\",\"\"\n",
            "\"\",\"\",\"10000\",\"10000\",\"10000\",\" 36 months\",\" 11.05%\",\"327.63\",\"B\",\"B4\",\"Operator\",\"5 years\",\"RENT\",\"60000\",\"Not Verified\",\"Jul-2018\",\"Current\",\"n\",\"\",\"\",\"credit_card\",\"Credit card refinancing\",\"952xx\",\"CA\",\"10.72\",\"0\",\"Apr-2015\",\"0\",\"27\",\"\",\"8\",\"0\",\"2301\",\"28.1%\",\"12\",\"w\",\"8800.60\",\"8800.60\",\"1628.94\",\"1628.94\",\"1199.40\",\"429.54\",\"0.0\",\"0.0\",\"0.0\",\"Dec-2018\",\"327.63\",\"Jan-2019\",\"Dec-2018\",\"0\",\"27\",\"1\",\"Individual\",\"\",\"\",\"\",\"0\",\"0\",\"9572\",\"0\",\"2\",\"1\",\"1\",\"12\",\"7271\",\"60\",\"3\",\"4\",\"1624\",\"47\",\"8200\",\"0\",\"0\",\"1\",\"5\",\"1197\",\"3099\",\"42.6\",\"0\",\"0\",\"34\",\"38\",\"9\",\"9\",\"0\",\"11\",\"\",\"9\",\"\",\"1\",\"3\",\"3\",\"5\",\"6\",\"3\",\"6\",\"8\",\"3\",\"8\",\"0\",\"0\",\"0\",\"4\",\"100\",\"20\",\"0\",\"0\",\"20377\",\"9572\",\"5400\",\"12177\",\"\",\"\",\"\",\"\",\"\",\"\",\"\",\"\",\"\",\"\",\"\",\"N\",\"\",\"\",\"\",\"\",\"\",\"\",\"\",\"\",\"\",\"\",\"\",\"\",\"\",\"\",\"Cash\",\"N\",\"\",\"\",\"\",\"\",\"\",\"\"\n",
            "\"\",\"\",\"4000\",\"4000\",\"4000\",\" 36 months\",\" 16.46%\",\"141.54\",\"C\",\"C5\",\"jewelry\",\"5 years\",\"RENT\",\"9600\",\"Source Verified\",\"Jul-2018\",\"Current\",\"n\",\"\",\"\",\"debt_consolidation\",\"Debt consolidation\",\"925xx\",\"CA\",\"14.5\",\"1\",\"Nov-2014\",\"0\",\"15\",\"\",\"5\",\"0\",\"3545\",\"45.4%\",\"5\",\"w\",\"3554.58\",\"3554.58\",\"700.38\",\"700.38\",\"445.42\",\"254.96\",\"0.0\",\"0.0\",\"0.0\",\"Dec-2018\",\"141.54\",\"Jan-2019\",\"Dec-2018\",\"0\",\"\",\"1\",\"Individual\",\"\",\"\",\"\",\"0\",\"0\",\"3545\",\"1\",\"0\",\"0\",\"0\",\"\",\"0\",\"\",\"1\",\"2\",\"1515\",\"45\",\"7800\",\"0\",\"0\",\"0\",\"2\",\"709\",\"285\",\"84.2\",\"0\",\"0\",\"\",\"43\",\"1\",\"1\",\"0\",\"33\",\"\",\"\",\"15\",\"0\",\"1\",\"3\",\"1\",\"1\",\"0\",\"5\",\"5\",\"3\",\"5\",\"0\",\"0\",\"0\",\"1\",\"80\",\"100\",\"0\",\"0\",\"7800\",\"3545\",\"1800\",\"0\",\"\",\"\",\"\",\"\",\"\",\"\",\"\",\"\",\"\",\"\",\"\",\"N\",\"\",\"\",\"\",\"\",\"\",\"\",\"\",\"\",\"\",\"\",\"\",\"\",\"\",\"\",\"Cash\",\"N\",\"\",\"\",\"\",\"\",\"\",\"\"\n",
            "\n",
            "\n",
            "Total amount funded in policy code 1: 2063142975\n",
            "Total amount funded in policy code 2: 823319310\n"
          ],
          "name": "stdout"
        }
      ]
    },
    {
      "metadata": {
        "id": "3nAIRCZdofrY",
        "colab_type": "text"
      },
      "cell_type": "markdown",
      "source": [
        "## Load LendingClub data"
      ]
    },
    {
      "metadata": {
        "id": "Iy5JXHnet-2b",
        "colab_type": "code",
        "colab": {
          "base_uri": "https://localhost:8080/",
          "height": 88
        },
        "outputId": "4a94fa39-2fed-4a96-f04c-e97bd89839df"
      },
      "cell_type": "code",
      "source": [
        "import pandas as pd\n",
        "\n",
        "df = pd.read_csv('LoanStats_2018Q3.csv', skiprows=1, skipfooter=2)\n",
        "\n",
        "df.shape"
      ],
      "execution_count": 152,
      "outputs": [
        {
          "output_type": "stream",
          "text": [
            "/usr/local/lib/python3.6/dist-packages/ipykernel_launcher.py:3: ParserWarning: Falling back to the 'python' engine because the 'c' engine does not support skipfooter; you can avoid this warning by specifying engine='python'.\n",
            "  This is separate from the ipykernel package so we can avoid doing imports until\n"
          ],
          "name": "stderr"
        },
        {
          "output_type": "execute_result",
          "data": {
            "text/plain": [
              "(128194, 145)"
            ]
          },
          "metadata": {
            "tags": []
          },
          "execution_count": 152
        }
      ]
    },
    {
      "metadata": {
        "id": "ri8YhLEmupQF",
        "colab_type": "code",
        "colab": {
          "base_uri": "https://localhost:8080/",
          "height": 338
        },
        "outputId": "189dad06-d53b-464e-a79b-e709c22cbfa7"
      },
      "cell_type": "code",
      "source": [
        "df.head()"
      ],
      "execution_count": 12,
      "outputs": [
        {
          "output_type": "execute_result",
          "data": {
            "text/html": [
              "<div>\n",
              "<style scoped>\n",
              "    .dataframe tbody tr th:only-of-type {\n",
              "        vertical-align: middle;\n",
              "    }\n",
              "\n",
              "    .dataframe tbody tr th {\n",
              "        vertical-align: top;\n",
              "    }\n",
              "\n",
              "    .dataframe thead th {\n",
              "        text-align: right;\n",
              "    }\n",
              "</style>\n",
              "<table border=\"1\" class=\"dataframe\">\n",
              "  <thead>\n",
              "    <tr style=\"text-align: right;\">\n",
              "      <th></th>\n",
              "      <th>id</th>\n",
              "      <th>member_id</th>\n",
              "      <th>loan_amnt</th>\n",
              "      <th>funded_amnt</th>\n",
              "      <th>funded_amnt_inv</th>\n",
              "      <th>term</th>\n",
              "      <th>int_rate</th>\n",
              "      <th>installment</th>\n",
              "      <th>grade</th>\n",
              "      <th>sub_grade</th>\n",
              "      <th>...</th>\n",
              "      <th>hardship_payoff_balance_amount</th>\n",
              "      <th>hardship_last_payment_amount</th>\n",
              "      <th>disbursement_method</th>\n",
              "      <th>debt_settlement_flag</th>\n",
              "      <th>debt_settlement_flag_date</th>\n",
              "      <th>settlement_status</th>\n",
              "      <th>settlement_date</th>\n",
              "      <th>settlement_amount</th>\n",
              "      <th>settlement_percentage</th>\n",
              "      <th>settlement_term</th>\n",
              "    </tr>\n",
              "  </thead>\n",
              "  <tbody>\n",
              "    <tr>\n",
              "      <th>0</th>\n",
              "      <td>NaN</td>\n",
              "      <td>NaN</td>\n",
              "      <td>20000</td>\n",
              "      <td>20000</td>\n",
              "      <td>20000</td>\n",
              "      <td>60 months</td>\n",
              "      <td>17.97%</td>\n",
              "      <td>507.55</td>\n",
              "      <td>D</td>\n",
              "      <td>D1</td>\n",
              "      <td>...</td>\n",
              "      <td>NaN</td>\n",
              "      <td>NaN</td>\n",
              "      <td>DirectPay</td>\n",
              "      <td>N</td>\n",
              "      <td>NaN</td>\n",
              "      <td>NaN</td>\n",
              "      <td>NaN</td>\n",
              "      <td>NaN</td>\n",
              "      <td>NaN</td>\n",
              "      <td>NaN</td>\n",
              "    </tr>\n",
              "    <tr>\n",
              "      <th>1</th>\n",
              "      <td>NaN</td>\n",
              "      <td>NaN</td>\n",
              "      <td>25000</td>\n",
              "      <td>25000</td>\n",
              "      <td>25000</td>\n",
              "      <td>60 months</td>\n",
              "      <td>13.56%</td>\n",
              "      <td>576.02</td>\n",
              "      <td>C</td>\n",
              "      <td>C1</td>\n",
              "      <td>...</td>\n",
              "      <td>NaN</td>\n",
              "      <td>NaN</td>\n",
              "      <td>Cash</td>\n",
              "      <td>N</td>\n",
              "      <td>NaN</td>\n",
              "      <td>NaN</td>\n",
              "      <td>NaN</td>\n",
              "      <td>NaN</td>\n",
              "      <td>NaN</td>\n",
              "      <td>NaN</td>\n",
              "    </tr>\n",
              "    <tr>\n",
              "      <th>2</th>\n",
              "      <td>NaN</td>\n",
              "      <td>NaN</td>\n",
              "      <td>30000</td>\n",
              "      <td>30000</td>\n",
              "      <td>30000</td>\n",
              "      <td>36 months</td>\n",
              "      <td>18.94%</td>\n",
              "      <td>1098.78</td>\n",
              "      <td>D</td>\n",
              "      <td>D2</td>\n",
              "      <td>...</td>\n",
              "      <td>NaN</td>\n",
              "      <td>NaN</td>\n",
              "      <td>Cash</td>\n",
              "      <td>N</td>\n",
              "      <td>NaN</td>\n",
              "      <td>NaN</td>\n",
              "      <td>NaN</td>\n",
              "      <td>NaN</td>\n",
              "      <td>NaN</td>\n",
              "      <td>NaN</td>\n",
              "    </tr>\n",
              "    <tr>\n",
              "      <th>3</th>\n",
              "      <td>NaN</td>\n",
              "      <td>NaN</td>\n",
              "      <td>6000</td>\n",
              "      <td>6000</td>\n",
              "      <td>6000</td>\n",
              "      <td>36 months</td>\n",
              "      <td>7.84%</td>\n",
              "      <td>187.58</td>\n",
              "      <td>A</td>\n",
              "      <td>A4</td>\n",
              "      <td>...</td>\n",
              "      <td>NaN</td>\n",
              "      <td>NaN</td>\n",
              "      <td>DirectPay</td>\n",
              "      <td>N</td>\n",
              "      <td>NaN</td>\n",
              "      <td>NaN</td>\n",
              "      <td>NaN</td>\n",
              "      <td>NaN</td>\n",
              "      <td>NaN</td>\n",
              "      <td>NaN</td>\n",
              "    </tr>\n",
              "    <tr>\n",
              "      <th>4</th>\n",
              "      <td>NaN</td>\n",
              "      <td>NaN</td>\n",
              "      <td>10650</td>\n",
              "      <td>10650</td>\n",
              "      <td>10650</td>\n",
              "      <td>36 months</td>\n",
              "      <td>7.84%</td>\n",
              "      <td>332.95</td>\n",
              "      <td>A</td>\n",
              "      <td>A4</td>\n",
              "      <td>...</td>\n",
              "      <td>NaN</td>\n",
              "      <td>NaN</td>\n",
              "      <td>Cash</td>\n",
              "      <td>N</td>\n",
              "      <td>NaN</td>\n",
              "      <td>NaN</td>\n",
              "      <td>NaN</td>\n",
              "      <td>NaN</td>\n",
              "      <td>NaN</td>\n",
              "      <td>NaN</td>\n",
              "    </tr>\n",
              "  </tbody>\n",
              "</table>\n",
              "<p>5 rows × 145 columns</p>\n",
              "</div>"
            ],
            "text/plain": [
              "   id  member_id  loan_amnt  funded_amnt  funded_amnt_inv        term  \\\n",
              "0 NaN        NaN      20000        20000            20000   60 months   \n",
              "1 NaN        NaN      25000        25000            25000   60 months   \n",
              "2 NaN        NaN      30000        30000            30000   36 months   \n",
              "3 NaN        NaN       6000         6000             6000   36 months   \n",
              "4 NaN        NaN      10650        10650            10650   36 months   \n",
              "\n",
              "  int_rate  installment grade sub_grade       ...         \\\n",
              "0   17.97%       507.55     D        D1       ...          \n",
              "1   13.56%       576.02     C        C1       ...          \n",
              "2   18.94%      1098.78     D        D2       ...          \n",
              "3    7.84%       187.58     A        A4       ...          \n",
              "4    7.84%       332.95     A        A4       ...          \n",
              "\n",
              "  hardship_payoff_balance_amount hardship_last_payment_amount  \\\n",
              "0                            NaN                          NaN   \n",
              "1                            NaN                          NaN   \n",
              "2                            NaN                          NaN   \n",
              "3                            NaN                          NaN   \n",
              "4                            NaN                          NaN   \n",
              "\n",
              "  disbursement_method  debt_settlement_flag debt_settlement_flag_date  \\\n",
              "0           DirectPay                     N                       NaN   \n",
              "1                Cash                     N                       NaN   \n",
              "2                Cash                     N                       NaN   \n",
              "3           DirectPay                     N                       NaN   \n",
              "4                Cash                     N                       NaN   \n",
              "\n",
              "  settlement_status settlement_date settlement_amount  settlement_percentage  \\\n",
              "0               NaN             NaN               NaN                    NaN   \n",
              "1               NaN             NaN               NaN                    NaN   \n",
              "2               NaN             NaN               NaN                    NaN   \n",
              "3               NaN             NaN               NaN                    NaN   \n",
              "4               NaN             NaN               NaN                    NaN   \n",
              "\n",
              "   settlement_term  \n",
              "0              NaN  \n",
              "1              NaN  \n",
              "2              NaN  \n",
              "3              NaN  \n",
              "4              NaN  \n",
              "\n",
              "[5 rows x 145 columns]"
            ]
          },
          "metadata": {
            "tags": []
          },
          "execution_count": 12
        }
      ]
    },
    {
      "metadata": {
        "id": "1b5_hMTio2Ly",
        "colab_type": "text"
      },
      "cell_type": "markdown",
      "source": [
        "## Work with strings"
      ]
    },
    {
      "metadata": {
        "id": "H4O3hqmwut7b",
        "colab_type": "text"
      },
      "cell_type": "markdown",
      "source": [
        "For ML we want to replace strings with numbers"
      ]
    },
    {
      "metadata": {
        "id": "WOL7QPVNo3F4",
        "colab_type": "code",
        "colab": {
          "base_uri": "https://localhost:8080/",
          "height": 731
        },
        "outputId": "d4d25188-65c5-432d-d0ea-01aef283a030"
      },
      "cell_type": "code",
      "source": [
        "# See which columns have 'object' type\n",
        "\n",
        "df.select_dtypes('object').info()"
      ],
      "execution_count": 58,
      "outputs": [
        {
          "output_type": "stream",
          "text": [
            "<class 'pandas.core.frame.DataFrame'>\n",
            "RangeIndex: 128194 entries, 0 to 128193\n",
            "Data columns (total 37 columns):\n",
            "term                         128194 non-null object\n",
            "int_rate                     128194 non-null object\n",
            "grade                        128194 non-null object\n",
            "sub_grade                    128194 non-null object\n",
            "emp_title                    114757 non-null object\n",
            "emp_length                   117807 non-null object\n",
            "home_ownership               128194 non-null object\n",
            "verification_status          128194 non-null object\n",
            "issue_d                      128194 non-null object\n",
            "loan_status                  128194 non-null object\n",
            "pymnt_plan                   128194 non-null object\n",
            "purpose                      128194 non-null object\n",
            "title                        128194 non-null object\n",
            "zip_code                     128194 non-null object\n",
            "addr_state                   128194 non-null object\n",
            "earliest_cr_line             128194 non-null object\n",
            "revol_util                   128065 non-null object\n",
            "initial_list_status          128194 non-null object\n",
            "last_pymnt_d                 128048 non-null object\n",
            "next_pymnt_d                 123298 non-null object\n",
            "last_credit_pull_d           128190 non-null object\n",
            "application_type             128194 non-null object\n",
            "verification_status_joint    15729 non-null object\n",
            "sec_app_earliest_cr_line     17785 non-null object\n",
            "hardship_flag                128194 non-null object\n",
            "hardship_type                13 non-null object\n",
            "hardship_reason              13 non-null object\n",
            "hardship_status              13 non-null object\n",
            "hardship_start_date          13 non-null object\n",
            "hardship_end_date            13 non-null object\n",
            "payment_plan_start_date      13 non-null object\n",
            "hardship_loan_status         13 non-null object\n",
            "disbursement_method          128194 non-null object\n",
            "debt_settlement_flag         128194 non-null object\n",
            "debt_settlement_flag_date    5 non-null object\n",
            "settlement_status            5 non-null object\n",
            "settlement_date              5 non-null object\n",
            "dtypes: object(37)\n",
            "memory usage: 36.2+ MB\n"
          ],
          "name": "stdout"
        }
      ]
    },
    {
      "metadata": {
        "id": "mEsVs2PmvAHP",
        "colab_type": "code",
        "colab": {
          "base_uri": "https://localhost:8080/",
          "height": 119
        },
        "outputId": "3ac8c07b-084c-4554-8acd-91d006395497"
      },
      "cell_type": "code",
      "source": [
        "# Convert int_rate\n",
        "\n",
        "def remove_percent(string):\n",
        "  return float(string.strip('%'))\n",
        "\n",
        "df.int_rate = df.int_rate.apply(remove_percent)\n",
        "\n",
        "df.int_rate.head()"
      ],
      "execution_count": 59,
      "outputs": [
        {
          "output_type": "execute_result",
          "data": {
            "text/plain": [
              "0    17.97\n",
              "1    13.56\n",
              "2    18.94\n",
              "3     7.84\n",
              "4     7.84\n",
              "Name: int_rate, dtype: float64"
            ]
          },
          "metadata": {
            "tags": []
          },
          "execution_count": 59
        }
      ]
    },
    {
      "metadata": {
        "id": "JkVykVAkvAJe",
        "colab_type": "code",
        "colab": {
          "base_uri": "https://localhost:8080/",
          "height": 34
        },
        "outputId": "b0703f5d-c7a5-41d1-9186-f5c8fb37060e"
      },
      "cell_type": "code",
      "source": [
        "# Clean emp_title\n",
        "\n",
        "# Check for nulls\n",
        "\n",
        "df.emp_title.isnull().sum()"
      ],
      "execution_count": 60,
      "outputs": [
        {
          "output_type": "execute_result",
          "data": {
            "text/plain": [
              "13437"
            ]
          },
          "metadata": {
            "tags": []
          },
          "execution_count": 60
        }
      ]
    },
    {
      "metadata": {
        "id": "2iWQ2CKLvAne",
        "colab_type": "code",
        "colab": {
          "base_uri": "https://localhost:8080/",
          "height": 85
        },
        "outputId": "8dcf3498-4ec2-4519-c997-8886165213e4"
      },
      "cell_type": "code",
      "source": [
        "# Function for cleaning title\n",
        "\n",
        "import numpy as np\n",
        "\n",
        "examples = ['owner', 'Supervisor ', \n",
        "            ' Project manager', np.nan]\n",
        "\n",
        "def clean_title(x):\n",
        "    if isinstance(x, str):        \n",
        "        return x.strip().title()\n",
        "    else:\n",
        "        return 'Unknown'\n",
        "\n",
        "for example in examples:\n",
        "    print(clean_title(example))"
      ],
      "execution_count": 61,
      "outputs": [
        {
          "output_type": "stream",
          "text": [
            "Owner\n",
            "Supervisor\n",
            "Project Manager\n",
            "Unknown\n"
          ],
          "name": "stdout"
        }
      ]
    },
    {
      "metadata": {
        "id": "hk0JZx6YvBCF",
        "colab_type": "code",
        "colab": {
          "base_uri": "https://localhost:8080/",
          "height": 374
        },
        "outputId": "d4767784-5134-4ffe-b9d0-c188b58c74b9"
      },
      "cell_type": "code",
      "source": [
        "df.emp_title = df.emp_title.apply(clean_title)\n",
        "df['emp_title'].value_counts().head(20)"
      ],
      "execution_count": 62,
      "outputs": [
        {
          "output_type": "execute_result",
          "data": {
            "text/plain": [
              "Unknown                     13437\n",
              "Teacher                      2843\n",
              "Manager                      2749\n",
              "Owner                        1856\n",
              "Driver                       1498\n",
              "Registered Nurse             1386\n",
              "Supervisor                   1345\n",
              "Sales                         980\n",
              "Truck Driver                  921\n",
              "Rn                            905\n",
              "Office Manager                846\n",
              "Project Manager               835\n",
              "General Manager               809\n",
              "Director                      585\n",
              "Operations Manager            516\n",
              "Sales Manager                 510\n",
              "Engineer                      474\n",
              "Store Manager                 466\n",
              "Administrative Assistant      466\n",
              "President                     464\n",
              "Name: emp_title, dtype: int64"
            ]
          },
          "metadata": {
            "tags": []
          },
          "execution_count": 62
        }
      ]
    },
    {
      "metadata": {
        "id": "SNf_VZwjyane",
        "colab_type": "code",
        "colab": {
          "base_uri": "https://localhost:8080/",
          "height": 68
        },
        "outputId": "2bc3c9e9-e14d-471a-91d5-675608bb3285"
      },
      "cell_type": "code",
      "source": [
        "# Create emp_title_manager\n",
        "# this is a boolean that returns True if 'emp_title' contains 'Manager'\n",
        "\n",
        "df['emp_title_manager'] = df['emp_title'].str.contains('Manager')\n",
        "df['emp_title_manager'].value_counts()"
      ],
      "execution_count": 63,
      "outputs": [
        {
          "output_type": "execute_result",
          "data": {
            "text/plain": [
              "False    109498\n",
              "True      18696\n",
              "Name: emp_title_manager, dtype: int64"
            ]
          },
          "metadata": {
            "tags": []
          },
          "execution_count": 63
        }
      ]
    },
    {
      "metadata": {
        "colab_type": "text",
        "id": "3AV0ExBwz1rb"
      },
      "cell_type": "markdown",
      "source": [
        "## Work with dates\n",
        "\n",
        "pandas documentation\n",
        "- [to_datetime](https://pandas.pydata.org/pandas-docs/stable/generated/pandas.to_datetime.html)\n",
        "- [Time/Date Components](https://pandas.pydata.org/pandas-docs/stable/timeseries.html#time-date-components) \"You can access these properties via the `.dt` accessor\""
      ]
    },
    {
      "metadata": {
        "id": "kNrKxOTeo4W3",
        "colab_type": "code",
        "colab": {
          "base_uri": "https://localhost:8080/",
          "height": 136
        },
        "outputId": "185adc66-bd08-4a6e-ce28-d473dec1d2cf"
      },
      "cell_type": "code",
      "source": [
        "df['issue_d'] = pd.to_datetime(df['issue_d'], infer_datetime_format=True)\n",
        "\n",
        "df['issue_d'].describe()"
      ],
      "execution_count": 64,
      "outputs": [
        {
          "output_type": "execute_result",
          "data": {
            "text/plain": [
              "count                  128194\n",
              "unique                      3\n",
              "top       2018-08-01 00:00:00\n",
              "freq                    46079\n",
              "first     2018-07-01 00:00:00\n",
              "last      2018-09-01 00:00:00\n",
              "Name: issue_d, dtype: object"
            ]
          },
          "metadata": {
            "tags": []
          },
          "execution_count": 64
        }
      ]
    },
    {
      "metadata": {
        "id": "ad7ARqKUz57V",
        "colab_type": "code",
        "colab": {
          "base_uri": "https://localhost:8080/",
          "height": 34
        },
        "outputId": "388326d1-d9cc-43fe-fd1a-c495ae707329"
      },
      "cell_type": "code",
      "source": [
        "df['issue_year']  = df['issue_d'].dt.year\n",
        "df['issue_month'] = df['issue_d'].dt.month\n",
        "df['issue_month'].sample(n=10).values"
      ],
      "execution_count": 65,
      "outputs": [
        {
          "output_type": "execute_result",
          "data": {
            "text/plain": [
              "array([9, 7, 8, 7, 9, 7, 7, 7, 7, 9])"
            ]
          },
          "metadata": {
            "tags": []
          },
          "execution_count": 65
        }
      ]
    },
    {
      "metadata": {
        "id": "8ccS1vbiz59X",
        "colab_type": "code",
        "colab": {
          "base_uri": "https://localhost:8080/",
          "height": 119
        },
        "outputId": "df4ce72e-d166-4606-b3b0-3889b69acd9a"
      },
      "cell_type": "code",
      "source": [
        "df['earliest_cr_line'] = pd.to_datetime(df['earliest_cr_line'], infer_datetime_format=True)\n",
        "\n",
        "(df['issue_d'] - df['earliest_cr_line']).head()"
      ],
      "execution_count": 66,
      "outputs": [
        {
          "output_type": "execute_result",
          "data": {
            "text/plain": [
              "0   3499 days\n",
              "1   3530 days\n",
              "2   3836 days\n",
              "3   6727 days\n",
              "4   5783 days\n",
              "dtype: timedelta64[ns]"
            ]
          },
          "metadata": {
            "tags": []
          },
          "execution_count": 66
        }
      ]
    },
    {
      "metadata": {
        "id": "PXdG1psaz5_G",
        "colab_type": "code",
        "colab": {}
      },
      "cell_type": "code",
      "source": [
        "df['days_from_earliest_credit_to_issue'] = (\n",
        "    df['issue_d'] - df['earliest_cr_line']).dt.days"
      ],
      "execution_count": 0,
      "outputs": []
    },
    {
      "metadata": {
        "id": "ua-hBLvNz6Lq",
        "colab_type": "code",
        "colab": {
          "base_uri": "https://localhost:8080/",
          "height": 34
        },
        "outputId": "b933ee71-ecfb-4fea-9592-11ab17ee79b8"
      },
      "cell_type": "code",
      "source": [
        "df['days_from_earliest_credit_to_issue'].head().values"
      ],
      "execution_count": 68,
      "outputs": [
        {
          "output_type": "execute_result",
          "data": {
            "text/plain": [
              "array([3499, 3530, 3836, 6727, 5783])"
            ]
          },
          "metadata": {
            "tags": []
          },
          "execution_count": 68
        }
      ]
    },
    {
      "metadata": {
        "id": "e7ZQaniv0rQg",
        "colab_type": "code",
        "colab": {
          "base_uri": "https://localhost:8080/",
          "height": 34
        },
        "outputId": "1f02d77b-0b42-48c4-8a47-b180cb984cbc"
      },
      "cell_type": "code",
      "source": [
        "[col for col in df if col.endswith('_d')]"
      ],
      "execution_count": 69,
      "outputs": [
        {
          "output_type": "execute_result",
          "data": {
            "text/plain": [
              "['issue_d', 'last_pymnt_d', 'next_pymnt_d', 'last_credit_pull_d']"
            ]
          },
          "metadata": {
            "tags": []
          },
          "execution_count": 69
        }
      ]
    },
    {
      "metadata": {
        "id": "wBs3faND0tzp",
        "colab_type": "code",
        "colab": {}
      },
      "cell_type": "code",
      "source": [
        "for col in ['last_pymnt_d', 'next_pymnt_d', 'last_credit_pull_d']:\n",
        "    df[col] = pd.to_datetime(df[col], infer_datetime_format=True)\n",
        "    "
      ],
      "execution_count": 0,
      "outputs": []
    },
    {
      "metadata": {
        "id": "rX52O4eA1Ofi",
        "colab_type": "code",
        "colab": {
          "base_uri": "https://localhost:8080/",
          "height": 153
        },
        "outputId": "691e91de-e8b8-4002-9f1a-494476037d38"
      },
      "cell_type": "code",
      "source": [
        "df.columns"
      ],
      "execution_count": 71,
      "outputs": [
        {
          "output_type": "execute_result",
          "data": {
            "text/plain": [
              "Index(['id', 'member_id', 'loan_amnt', 'funded_amnt', 'funded_amnt_inv',\n",
              "       'term', 'int_rate', 'installment', 'grade', 'sub_grade',\n",
              "       ...\n",
              "       'debt_settlement_flag_date', 'settlement_status', 'settlement_date',\n",
              "       'settlement_amount', 'settlement_percentage', 'settlement_term',\n",
              "       'emp_title_manager', 'issue_year', 'issue_month',\n",
              "       'days_from_earliest_credit_to_issue'],\n",
              "      dtype='object', length=149)"
            ]
          },
          "metadata": {
            "tags": []
          },
          "execution_count": 71
        }
      ]
    },
    {
      "metadata": {
        "id": "DtEIzyS51dRm",
        "colab_type": "text"
      },
      "cell_type": "markdown",
      "source": [
        "# Assignment"
      ]
    },
    {
      "metadata": {
        "id": "bwyDf0X01el6",
        "colab_type": "code",
        "colab": {
          "base_uri": "https://localhost:8080/",
          "height": 34
        },
        "outputId": "7c5ab462-2ecd-4e7d-ec1c-cf18792c9720"
      },
      "cell_type": "code",
      "source": [
        "# Convert the term columns from string to integer\n",
        "\n",
        "df.term.dtypes"
      ],
      "execution_count": 72,
      "outputs": [
        {
          "output_type": "execute_result",
          "data": {
            "text/plain": [
              "dtype('O')"
            ]
          },
          "metadata": {
            "tags": []
          },
          "execution_count": 72
        }
      ]
    },
    {
      "metadata": {
        "id": "fHhpu2L22gk0",
        "colab_type": "code",
        "colab": {
          "base_uri": "https://localhost:8080/",
          "height": 119
        },
        "outputId": "e26c31e3-d200-4e38-b5c9-30b4922c7a6c"
      },
      "cell_type": "code",
      "source": [
        "df.term.head()"
      ],
      "execution_count": 73,
      "outputs": [
        {
          "output_type": "execute_result",
          "data": {
            "text/plain": [
              "0     60 months\n",
              "1     60 months\n",
              "2     36 months\n",
              "3     36 months\n",
              "4     36 months\n",
              "Name: term, dtype: object"
            ]
          },
          "metadata": {
            "tags": []
          },
          "execution_count": 73
        }
      ]
    },
    {
      "metadata": {
        "id": "zuKaLQYv1hG7",
        "colab_type": "code",
        "colab": {}
      },
      "cell_type": "code",
      "source": [
        "df.term = df.term.str.replace(' months', '').astype(int)"
      ],
      "execution_count": 0,
      "outputs": []
    },
    {
      "metadata": {
        "id": "Ukoa-ymS17Mi",
        "colab_type": "code",
        "colab": {
          "base_uri": "https://localhost:8080/",
          "height": 119
        },
        "outputId": "cbfaf9be-da3a-4925-a0a2-7b4d17b04804"
      },
      "cell_type": "code",
      "source": [
        "df.term.head()"
      ],
      "execution_count": 76,
      "outputs": [
        {
          "output_type": "execute_result",
          "data": {
            "text/plain": [
              "0    60\n",
              "1    60\n",
              "2    36\n",
              "3    36\n",
              "4    36\n",
              "Name: term, dtype: int64"
            ]
          },
          "metadata": {
            "tags": []
          },
          "execution_count": 76
        }
      ]
    },
    {
      "metadata": {
        "id": "QcBtBr_q3SQX",
        "colab_type": "code",
        "colab": {
          "base_uri": "https://localhost:8080/",
          "height": 68
        },
        "outputId": "4f75dc81-59d8-4958-f371-65acbfb18a4f"
      },
      "cell_type": "code",
      "source": [
        "# Make new column that has 1 if loan_status is Current\n",
        "# or fully paid, 0 otherwise\n",
        "\n",
        "df['loan_status_is_great'] = 0\n",
        "df['loan_status_is_great'] = df.loan_status.replace('Current', 1)\n",
        "# Replace everything in that columns that's not a 1 with 0\n",
        "df[df['loan_status_is_great'] != 1] = 0\n",
        "\n",
        "df.loan_status_is_great.value_counts()"
      ],
      "execution_count": 184,
      "outputs": [
        {
          "output_type": "execute_result",
          "data": {
            "text/plain": [
              "1    121082\n",
              "0      7112\n",
              "Name: loan_status_is_great, dtype: int64"
            ]
          },
          "metadata": {
            "tags": []
          },
          "execution_count": 184
        }
      ]
    },
    {
      "metadata": {
        "id": "th5eRECEFn48",
        "colab_type": "code",
        "colab": {}
      },
      "cell_type": "code",
      "source": [
        "# Make last last_pymnt_d_month month and last_pymnt_d_year\n",
        "\n",
        "# make it into infered datetime format\n",
        "df['last_pymnt_d'] = pd.to_datetime(df['last_pymnt_d'], infer_datetime_format=True)\n",
        "# make new columns and assign month and year to them\n",
        "df['last_pymnt_d_month'] = df['last_pymnt_d'].dt.month\n",
        "df['last_pymnt_d_year'] = df['last_pymnt_d'].dt.year"
      ],
      "execution_count": 0,
      "outputs": []
    },
    {
      "metadata": {
        "id": "AQqdieEkHtHp",
        "colab_type": "code",
        "colab": {
          "base_uri": "https://localhost:8080/",
          "height": 204
        },
        "outputId": "9803b284-3653-4954-8010-432d566885a8"
      },
      "cell_type": "code",
      "source": [
        "df.last_pymnt_d_month.head(), df.last_pymnt_d_year.head()"
      ],
      "execution_count": 183,
      "outputs": [
        {
          "output_type": "execute_result",
          "data": {
            "text/plain": [
              "(0    12\n",
              " 1    12\n",
              " 2    12\n",
              " 3    12\n",
              " 4    12\n",
              " Name: last_pymnt_d_month, dtype: int64, 0    2018\n",
              " 1    2018\n",
              " 2    2018\n",
              " 3    2018\n",
              " 4    2018\n",
              " Name: last_pymnt_d_year, dtype: int64)"
            ]
          },
          "metadata": {
            "tags": []
          },
          "execution_count": 183
        }
      ]
    }
  ]
}