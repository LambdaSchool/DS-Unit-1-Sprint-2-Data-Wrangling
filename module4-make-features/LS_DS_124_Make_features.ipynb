{
  "nbformat": 4,
  "nbformat_minor": 0,
  "metadata": {
    "colab": {
      "name": "LS_DS_124_Make_features.ipynb",
      "version": "0.3.2",
      "provenance": [],
      "collapsed_sections": [],
      "include_colab_link": true
    },
    "kernelspec": {
      "display_name": "Python 3",
      "language": "python",
      "name": "python3"
    }
  },
  "cells": [
    {
      "cell_type": "markdown",
      "metadata": {
        "id": "view-in-github",
        "colab_type": "text"
      },
      "source": [
        "<a href=\"https://colab.research.google.com/github/nickwinters1/DS-Unit-1-Sprint-2-Data-Wrangling/blob/master/LS_DS_124_Make_features.ipynb\" target=\"_parent\"><img src=\"https://colab.research.google.com/assets/colab-badge.svg\" alt=\"Open In Colab\"/></a>"
      ]
    },
    {
      "metadata": {
        "colab_type": "text",
        "id": "qacqiXogluN_"
      },
      "cell_type": "markdown",
      "source": [
        "_Lambda School Data Science_\n",
        "\n",
        "# Make features\n",
        "\n",
        "Objectives\n",
        "-  understand the purpose of feature engineering\n",
        "-  work with strings in pandas\n",
        "- work with dates and times in pandas\n",
        "\n",
        "Links\n",
        "- [Feature Engineering](https://en.wikipedia.org/wiki/Feature_engineering)\n",
        "- Python Data Science Handbook\n",
        "  - [Chapter 3.10](https://jakevdp.github.io/PythonDataScienceHandbook/03.10-working-with-strings.html), Vectorized String Operations\n",
        "  - [Chapter 3.11](https://jakevdp.github.io/PythonDataScienceHandbook/03.11-working-with-time-series.html), Working with Time Series"
      ]
    },
    {
      "metadata": {
        "colab_type": "text",
        "id": "iSGiSktAoWIx"
      },
      "cell_type": "markdown",
      "source": [
        "## Get LendingClub data\n",
        "\n",
        "[Source](https://www.lendingclub.com/info/download-data.action)"
      ]
    },
    {
      "metadata": {
        "colab_type": "code",
        "id": "2ugxlWXimoHn",
        "colab": {
          "base_uri": "https://localhost:8080/",
          "height": 204
        },
        "outputId": "b0980afa-4d0b-4107-a4a1-c791d639fd15"
      },
      "cell_type": "code",
      "source": [
        "!wget https://resources.lendingclub.com/LoanStats_2018Q4.csv.zip"
      ],
      "execution_count": 1,
      "outputs": [
        {
          "output_type": "stream",
          "text": [
            "--2019-03-28 23:02:10--  https://resources.lendingclub.com/LoanStats_2018Q4.csv.zip\n",
            "Resolving resources.lendingclub.com (resources.lendingclub.com)... 64.48.1.20\n",
            "Connecting to resources.lendingclub.com (resources.lendingclub.com)|64.48.1.20|:443... connected.\n",
            "HTTP request sent, awaiting response... 200 OK\n",
            "Length: unspecified [application/zip]\n",
            "Saving to: ‘LoanStats_2018Q4.csv.zip’\n",
            "\n",
            "LoanStats_2018Q4.cs     [               <=>  ]  21.29M   874KB/s    in 25s     \n",
            "\n",
            "2019-03-28 23:02:36 (869 KB/s) - ‘LoanStats_2018Q4.csv.zip’ saved [22329081]\n",
            "\n"
          ],
          "name": "stdout"
        }
      ]
    },
    {
      "metadata": {
        "colab_type": "code",
        "id": "-4sk6qPgmpmN",
        "colab": {
          "base_uri": "https://localhost:8080/",
          "height": 80
        },
        "outputId": "eede79da-d8d1-4dd4-c585-15d0c1372bdc"
      },
      "cell_type": "code",
      "source": [
        "!unzip LoanStats_2018Q4.csv.zip"
      ],
      "execution_count": 2,
      "outputs": [
        {
          "output_type": "stream",
          "text": [
            "Archive:  LoanStats_2018Q4.csv.zip\n",
            "  inflating: LoanStats_2018Q4.csv    \n"
          ],
          "name": "stdout"
        }
      ]
    },
    {
      "metadata": {
        "colab_type": "code",
        "id": "seh5oNE1nD0X",
        "colab": {
          "base_uri": "https://localhost:8080/",
          "height": 276
        },
        "outputId": "67551228-e204-42cd-8959-65753f43679f"
      },
      "cell_type": "code",
      "source": [
        "!head LoanStats_2018Q4.csv"
      ],
      "execution_count": 3,
      "outputs": [
        {
          "output_type": "stream",
          "text": [
            "Notes offered by Prospectus (https://www.lendingclub.com/info/prospectus.action)\n",
            "\"id\",\"member_id\",\"loan_amnt\",\"funded_amnt\",\"funded_amnt_inv\",\"term\",\"int_rate\",\"installment\",\"grade\",\"sub_grade\",\"emp_title\",\"emp_length\",\"home_ownership\",\"annual_inc\",\"verification_status\",\"issue_d\",\"loan_status\",\"pymnt_plan\",\"url\",\"desc\",\"purpose\",\"title\",\"zip_code\",\"addr_state\",\"dti\",\"delinq_2yrs\",\"earliest_cr_line\",\"inq_last_6mths\",\"mths_since_last_delinq\",\"mths_since_last_record\",\"open_acc\",\"pub_rec\",\"revol_bal\",\"revol_util\",\"total_acc\",\"initial_list_status\",\"out_prncp\",\"out_prncp_inv\",\"total_pymnt\",\"total_pymnt_inv\",\"total_rec_prncp\",\"total_rec_int\",\"total_rec_late_fee\",\"recoveries\",\"collection_recovery_fee\",\"last_pymnt_d\",\"last_pymnt_amnt\",\"next_pymnt_d\",\"last_credit_pull_d\",\"collections_12_mths_ex_med\",\"mths_since_last_major_derog\",\"policy_code\",\"application_type\",\"annual_inc_joint\",\"dti_joint\",\"verification_status_joint\",\"acc_now_delinq\",\"tot_coll_amt\",\"tot_cur_bal\",\"open_acc_6m\",\"open_act_il\",\"open_il_12m\",\"open_il_24m\",\"mths_since_rcnt_il\",\"total_bal_il\",\"il_util\",\"open_rv_12m\",\"open_rv_24m\",\"max_bal_bc\",\"all_util\",\"total_rev_hi_lim\",\"inq_fi\",\"total_cu_tl\",\"inq_last_12m\",\"acc_open_past_24mths\",\"avg_cur_bal\",\"bc_open_to_buy\",\"bc_util\",\"chargeoff_within_12_mths\",\"delinq_amnt\",\"mo_sin_old_il_acct\",\"mo_sin_old_rev_tl_op\",\"mo_sin_rcnt_rev_tl_op\",\"mo_sin_rcnt_tl\",\"mort_acc\",\"mths_since_recent_bc\",\"mths_since_recent_bc_dlq\",\"mths_since_recent_inq\",\"mths_since_recent_revol_delinq\",\"num_accts_ever_120_pd\",\"num_actv_bc_tl\",\"num_actv_rev_tl\",\"num_bc_sats\",\"num_bc_tl\",\"num_il_tl\",\"num_op_rev_tl\",\"num_rev_accts\",\"num_rev_tl_bal_gt_0\",\"num_sats\",\"num_tl_120dpd_2m\",\"num_tl_30dpd\",\"num_tl_90g_dpd_24m\",\"num_tl_op_past_12m\",\"pct_tl_nvr_dlq\",\"percent_bc_gt_75\",\"pub_rec_bankruptcies\",\"tax_liens\",\"tot_hi_cred_lim\",\"total_bal_ex_mort\",\"total_bc_limit\",\"total_il_high_credit_limit\",\"revol_bal_joint\",\"sec_app_earliest_cr_line\",\"sec_app_inq_last_6mths\",\"sec_app_mort_acc\",\"sec_app_open_acc\",\"sec_app_revol_util\",\"sec_app_open_act_il\",\"sec_app_num_rev_accts\",\"sec_app_chargeoff_within_12_mths\",\"sec_app_collections_12_mths_ex_med\",\"sec_app_mths_since_last_major_derog\",\"hardship_flag\",\"hardship_type\",\"hardship_reason\",\"hardship_status\",\"deferral_term\",\"hardship_amount\",\"hardship_start_date\",\"hardship_end_date\",\"payment_plan_start_date\",\"hardship_length\",\"hardship_dpd\",\"hardship_loan_status\",\"orig_projected_additional_accrued_interest\",\"hardship_payoff_balance_amount\",\"hardship_last_payment_amount\",\"disbursement_method\",\"debt_settlement_flag\",\"debt_settlement_flag_date\",\"settlement_status\",\"settlement_date\",\"settlement_amount\",\"settlement_percentage\",\"settlement_term\"\n",
            "\"\",\"\",\"2500\",\"2500\",\"2500\",\" 36 months\",\" 13.56%\",\"84.92\",\"C\",\"C1\",\"Chef\",\"10+ years\",\"RENT\",\"55000\",\"Not Verified\",\"Dec-2018\",\"Current\",\"n\",\"\",\"\",\"debt_consolidation\",\"Debt consolidation\",\"109xx\",\"NY\",\"18.24\",\"0\",\"Apr-2001\",\"1\",\"\",\"45\",\"9\",\"1\",\"4341\",\"10.3%\",\"34\",\"w\",\"2386.02\",\"2386.02\",\"167.02\",\"167.02\",\"113.98\",\"53.04\",\"0.0\",\"0.0\",\"0.0\",\"Feb-2019\",\"84.92\",\"Mar-2019\",\"Feb-2019\",\"0\",\"\",\"1\",\"Individual\",\"\",\"\",\"\",\"0\",\"0\",\"16901\",\"2\",\"2\",\"1\",\"2\",\"2\",\"12560\",\"69\",\"2\",\"7\",\"2137\",\"28\",\"42000\",\"1\",\"11\",\"2\",\"9\",\"1878\",\"34360\",\"5.9\",\"0\",\"0\",\"140\",\"212\",\"1\",\"1\",\"0\",\"1\",\"\",\"2\",\"\",\"0\",\"2\",\"5\",\"3\",\"3\",\"16\",\"7\",\"18\",\"5\",\"9\",\"0\",\"0\",\"0\",\"3\",\"100\",\"0\",\"1\",\"0\",\"60124\",\"16901\",\"36500\",\"18124\",\"\",\"\",\"\",\"\",\"\",\"\",\"\",\"\",\"\",\"\",\"\",\"N\",\"\",\"\",\"\",\"\",\"\",\"\",\"\",\"\",\"\",\"\",\"\",\"\",\"\",\"\",\"Cash\",\"N\",\"\",\"\",\"\",\"\",\"\",\"\"\n",
            "\"\",\"\",\"30000\",\"30000\",\"30000\",\" 60 months\",\" 18.94%\",\"777.23\",\"D\",\"D2\",\"Postmaster \",\"10+ years\",\"MORTGAGE\",\"90000\",\"Source Verified\",\"Dec-2018\",\"Current\",\"n\",\"\",\"\",\"debt_consolidation\",\"Debt consolidation\",\"713xx\",\"LA\",\"26.52\",\"0\",\"Jun-1987\",\"0\",\"71\",\"75\",\"13\",\"1\",\"12315\",\"24.2%\",\"44\",\"w\",\"29387.75\",\"29387.75\",\"1507.11\",\"1507.11\",\"612.25\",\"894.86\",\"0.0\",\"0.0\",\"0.0\",\"Feb-2019\",\"777.23\",\"Mar-2019\",\"Feb-2019\",\"0\",\"\",\"1\",\"Individual\",\"\",\"\",\"\",\"0\",\"1208\",\"321915\",\"4\",\"4\",\"2\",\"3\",\"3\",\"87153\",\"88\",\"4\",\"5\",\"998\",\"57\",\"50800\",\"2\",\"15\",\"2\",\"10\",\"24763\",\"13761\",\"8.3\",\"0\",\"0\",\"163\",\"378\",\"4\",\"3\",\"3\",\"4\",\"\",\"4\",\"\",\"0\",\"2\",\"4\",\"4\",\"9\",\"27\",\"8\",\"14\",\"4\",\"13\",\"0\",\"0\",\"0\",\"6\",\"95\",\"0\",\"1\",\"0\",\"372872\",\"99468\",\"15000\",\"94072\",\"\",\"\",\"\",\"\",\"\",\"\",\"\",\"\",\"\",\"\",\"\",\"N\",\"\",\"\",\"\",\"\",\"\",\"\",\"\",\"\",\"\",\"\",\"\",\"\",\"\",\"\",\"Cash\",\"N\",\"\",\"\",\"\",\"\",\"\",\"\"\n",
            "\"\",\"\",\"5000\",\"5000\",\"5000\",\" 36 months\",\" 17.97%\",\"180.69\",\"D\",\"D1\",\"Administrative\",\"6 years\",\"MORTGAGE\",\"59280\",\"Source Verified\",\"Dec-2018\",\"Current\",\"n\",\"\",\"\",\"debt_consolidation\",\"Debt consolidation\",\"490xx\",\"MI\",\"10.51\",\"0\",\"Apr-2011\",\"0\",\"\",\"\",\"8\",\"0\",\"4599\",\"19.1%\",\"13\",\"w\",\"4787.21\",\"4787.21\",\"353.89\",\"353.89\",\"212.79\",\"141.10\",\"0.0\",\"0.0\",\"0.0\",\"Feb-2019\",\"180.69\",\"Mar-2019\",\"Feb-2019\",\"0\",\"\",\"1\",\"Individual\",\"\",\"\",\"\",\"0\",\"0\",\"110299\",\"0\",\"1\",\"0\",\"2\",\"14\",\"7150\",\"72\",\"0\",\"2\",\"0\",\"35\",\"24100\",\"1\",\"5\",\"0\",\"4\",\"18383\",\"13800\",\"0\",\"0\",\"0\",\"87\",\"92\",\"15\",\"14\",\"2\",\"77\",\"\",\"14\",\"\",\"0\",\"0\",\"3\",\"3\",\"3\",\"4\",\"6\",\"7\",\"3\",\"8\",\"0\",\"0\",\"0\",\"0\",\"100\",\"0\",\"0\",\"0\",\"136927\",\"11749\",\"13800\",\"10000\",\"\",\"\",\"\",\"\",\"\",\"\",\"\",\"\",\"\",\"\",\"\",\"N\",\"\",\"\",\"\",\"\",\"\",\"\",\"\",\"\",\"\",\"\",\"\",\"\",\"\",\"\",\"Cash\",\"N\",\"\",\"\",\"\",\"\",\"\",\"\"\n",
            "\"\",\"\",\"4000\",\"4000\",\"4000\",\" 36 months\",\" 18.94%\",\"146.51\",\"D\",\"D2\",\"IT Supervisor\",\"10+ years\",\"MORTGAGE\",\"92000\",\"Source Verified\",\"Dec-2018\",\"Current\",\"n\",\"\",\"\",\"debt_consolidation\",\"Debt consolidation\",\"985xx\",\"WA\",\"16.74\",\"0\",\"Feb-2006\",\"0\",\"\",\"\",\"10\",\"0\",\"5468\",\"78.1%\",\"13\",\"w\",\"3831.93\",\"3831.93\",\"286.71\",\"286.71\",\"168.07\",\"118.64\",\"0.0\",\"0.0\",\"0.0\",\"Feb-2019\",\"146.51\",\"Mar-2019\",\"Feb-2019\",\"0\",\"\",\"1\",\"Individual\",\"\",\"\",\"\",\"0\",\"686\",\"305049\",\"1\",\"5\",\"3\",\"5\",\"5\",\"30683\",\"68\",\"0\",\"0\",\"3761\",\"70\",\"7000\",\"2\",\"4\",\"3\",\"5\",\"30505\",\"1239\",\"75.2\",\"0\",\"0\",\"62\",\"154\",\"64\",\"5\",\"3\",\"64\",\"\",\"5\",\"\",\"0\",\"1\",\"2\",\"1\",\"2\",\"7\",\"2\",\"3\",\"2\",\"10\",\"0\",\"0\",\"0\",\"3\",\"100\",\"100\",\"0\",\"0\",\"385183\",\"36151\",\"5000\",\"44984\",\"\",\"\",\"\",\"\",\"\",\"\",\"\",\"\",\"\",\"\",\"\",\"N\",\"\",\"\",\"\",\"\",\"\",\"\",\"\",\"\",\"\",\"\",\"\",\"\",\"\",\"\",\"Cash\",\"N\",\"\",\"\",\"\",\"\",\"\",\"\"\n",
            "\"\",\"\",\"30000\",\"30000\",\"30000\",\" 60 months\",\" 16.14%\",\"731.78\",\"C\",\"C4\",\"Mechanic\",\"10+ years\",\"MORTGAGE\",\"57250\",\"Not Verified\",\"Dec-2018\",\"Current\",\"n\",\"\",\"\",\"debt_consolidation\",\"Debt consolidation\",\"212xx\",\"MD\",\"26.35\",\"0\",\"Dec-2000\",\"0\",\"\",\"\",\"12\",\"0\",\"829\",\"3.6%\",\"26\",\"w\",\"29339.02\",\"29339.02\",\"1423.21\",\"1423.21\",\"660.98\",\"762.23\",\"0.0\",\"0.0\",\"0.0\",\"Feb-2019\",\"731.78\",\"Mar-2019\",\"Feb-2019\",\"0\",\"\",\"1\",\"Individual\",\"\",\"\",\"\",\"0\",\"0\",\"116007\",\"3\",\"5\",\"3\",\"5\",\"4\",\"28845\",\"89\",\"2\",\"4\",\"516\",\"54\",\"23100\",\"1\",\"0\",\"0\",\"9\",\"9667\",\"8471\",\"8.9\",\"0\",\"0\",\"53\",\"216\",\"2\",\"2\",\"2\",\"2\",\"\",\"13\",\"\",\"0\",\"2\",\"2\",\"3\",\"8\",\"9\",\"6\",\"15\",\"2\",\"12\",\"0\",\"0\",\"0\",\"5\",\"92.3\",\"0\",\"0\",\"0\",\"157548\",\"29674\",\"9300\",\"32332\",\"\",\"\",\"\",\"\",\"\",\"\",\"\",\"\",\"\",\"\",\"\",\"N\",\"\",\"\",\"\",\"\",\"\",\"\",\"\",\"\",\"\",\"\",\"\",\"\",\"\",\"\",\"Cash\",\"N\",\"\",\"\",\"\",\"\",\"\",\"\"\n",
            "\"\",\"\",\"5550\",\"5550\",\"5550\",\" 36 months\",\" 15.02%\",\"192.45\",\"C\",\"C3\",\"Director COE\",\"10+ years\",\"MORTGAGE\",\"152500\",\"Not Verified\",\"Dec-2018\",\"Current\",\"n\",\"\",\"\",\"credit_card\",\"Credit card refinancing\",\"461xx\",\"IN\",\"37.94\",\"0\",\"Sep-2002\",\"3\",\"\",\"\",\"18\",\"0\",\"53854\",\"48.1%\",\"44\",\"w\",\"5302.50\",\"5302.50\",\"377.95\",\"377.95\",\"247.50\",\"130.45\",\"0.0\",\"0.0\",\"0.0\",\"Feb-2019\",\"192.45\",\"Mar-2019\",\"Feb-2019\",\"0\",\"\",\"1\",\"Individual\",\"\",\"\",\"\",\"0\",\"0\",\"685749\",\"1\",\"7\",\"2\",\"3\",\"4\",\"131524\",\"72\",\"1\",\"4\",\"17584\",\"58\",\"111900\",\"2\",\"4\",\"6\",\"8\",\"40338\",\"23746\",\"64\",\"0\",\"0\",\"195\",\"176\",\"10\",\"4\",\"6\",\"20\",\"\",\"3\",\"\",\"0\",\"4\",\"6\",\"6\",\"10\",\"23\",\"9\",\"15\",\"7\",\"18\",\"0\",\"0\",\"0\",\"4\",\"100\",\"60\",\"0\",\"0\",\"831687\",\"185378\",\"65900\",\"203159\",\"\",\"\",\"\",\"\",\"\",\"\",\"\",\"\",\"\",\"\",\"\",\"N\",\"\",\"\",\"\",\"\",\"\",\"\",\"\",\"\",\"\",\"\",\"\",\"\",\"\",\"\",\"Cash\",\"N\",\"\",\"\",\"\",\"\",\"\",\"\"\n",
            "\"\",\"\",\"2000\",\"2000\",\"2000\",\" 36 months\",\" 17.97%\",\"72.28\",\"D\",\"D1\",\"Account Manager\",\"4 years\",\"RENT\",\"51000\",\"Source Verified\",\"Dec-2018\",\"Current\",\"n\",\"\",\"\",\"debt_consolidation\",\"Debt consolidation\",\"606xx\",\"IL\",\"2.4\",\"0\",\"Nov-2004\",\"1\",\"\",\"\",\"1\",\"0\",\"0\",\"\",\"9\",\"w\",\"1914.71\",\"1914.71\",\"141.56\",\"141.56\",\"85.29\",\"56.27\",\"0.0\",\"0.0\",\"0.0\",\"Feb-2019\",\"72.28\",\"Mar-2019\",\"Feb-2019\",\"0\",\"\",\"1\",\"Individual\",\"\",\"\",\"\",\"0\",\"0\",\"854\",\"0\",\"0\",\"2\",\"3\",\"7\",\"0\",\"\",\"0\",\"1\",\"0\",\"100\",\"0\",\"0\",\"0\",\"1\",\"4\",\"854\",\"\",\"\",\"0\",\"0\",\"169\",\"40\",\"23\",\"7\",\"0\",\"\",\"\",\"1\",\"\",\"0\",\"0\",\"0\",\"0\",\"3\",\"5\",\"0\",\"3\",\"0\",\"1\",\"0\",\"0\",\"0\",\"2\",\"100\",\"\",\"0\",\"0\",\"854\",\"854\",\"0\",\"0\",\"\",\"\",\"\",\"\",\"\",\"\",\"\",\"\",\"\",\"\",\"\",\"N\",\"\",\"\",\"\",\"\",\"\",\"\",\"\",\"\",\"\",\"\",\"\",\"\",\"\",\"\",\"Cash\",\"N\",\"\",\"\",\"\",\"\",\"\",\"\"\n",
            "\"\",\"\",\"6000\",\"6000\",\"6000\",\" 36 months\",\" 13.56%\",\"203.79\",\"C\",\"C1\",\"Assistant Director\",\"10+ years\",\"RENT\",\"65000\",\"Source Verified\",\"Dec-2018\",\"Current\",\"n\",\"\",\"\",\"credit_card\",\"Credit card refinancing\",\"460xx\",\"IN\",\"30.1\",\"0\",\"Nov-1997\",\"0\",\"\",\"\",\"19\",\"0\",\"38476\",\"69.3%\",\"37\",\"w\",\"5864.01\",\"5864.01\",\"201.53\",\"201.53\",\"135.99\",\"65.54\",\"0.0\",\"0.0\",\"0.0\",\"Feb-2019\",\"208.31\",\"Mar-2019\",\"Feb-2019\",\"0\",\"\",\"1\",\"Individual\",\"\",\"\",\"\",\"0\",\"0\",\"91535\",\"0\",\"5\",\"0\",\"1\",\"23\",\"53059\",\"87\",\"0\",\"2\",\"9413\",\"74\",\"55500\",\"1\",\"2\",\"0\",\"3\",\"5085\",\"3034\",\"90.8\",\"0\",\"0\",\"169\",\"253\",\"13\",\"13\",\"1\",\"14\",\"\",\"13\",\"\",\"0\",\"7\",\"12\",\"8\",\"10\",\"15\",\"14\",\"20\",\"12\",\"19\",\"0\",\"0\",\"0\",\"0\",\"100\",\"85.7\",\"0\",\"0\",\"117242\",\"91535\",\"33100\",\"61742\",\"\",\"\",\"\",\"\",\"\",\"\",\"\",\"\",\"\",\"\",\"\",\"N\",\"\",\"\",\"\",\"\",\"\",\"\",\"\",\"\",\"\",\"\",\"\",\"\",\"\",\"\",\"DirectPay\",\"N\",\"\",\"\",\"\",\"\",\"\",\"\"\n"
          ],
          "name": "stdout"
        }
      ]
    },
    {
      "metadata": {
        "id": "rrDeMAjWiqVd",
        "colab_type": "code",
        "colab": {
          "base_uri": "https://localhost:8080/",
          "height": 276
        },
        "outputId": "bf5881ef-e002-451a-a372-747205644b0e"
      },
      "cell_type": "code",
      "source": [
        "!tail LoanStats_2018Q4.csv"
      ],
      "execution_count": 4,
      "outputs": [
        {
          "output_type": "stream",
          "text": [
            "\"\",\"\",\"5600\",\"5600\",\"5600\",\" 36 months\",\" 13.56%\",\"190.21\",\"C\",\"C1\",\"\",\"n/a\",\"RENT\",\"15600\",\"Not Verified\",\"Oct-2018\",\"Current\",\"n\",\"\",\"\",\"credit_card\",\"Credit card refinancing\",\"836xx\",\"ID\",\"15.31\",\"0\",\"Aug-2012\",\"0\",\"\",\"97\",\"9\",\"1\",\"5996\",\"34.5%\",\"11\",\"w\",\"5083.61\",\"5083.61\",\"750.29\",\"750.29\",\"516.39\",\"233.90\",\"0.0\",\"0.0\",\"0.0\",\"Feb-2019\",\"190.21\",\"Mar-2019\",\"Feb-2019\",\"0\",\"\",\"1\",\"Individual\",\"\",\"\",\"\",\"0\",\"0\",\"5996\",\"0\",\"0\",\"0\",\"1\",\"20\",\"0\",\"\",\"0\",\"2\",\"3017\",\"35\",\"17400\",\"1\",\"0\",\"0\",\"3\",\"750\",\"4689\",\"45.5\",\"0\",\"0\",\"20\",\"73\",\"13\",\"13\",\"0\",\"13\",\"\",\"20\",\"\",\"0\",\"3\",\"5\",\"4\",\"4\",\"1\",\"9\",\"10\",\"5\",\"9\",\"0\",\"0\",\"0\",\"0\",\"100\",\"25\",\"1\",\"0\",\"17400\",\"5996\",\"8600\",\"0\",\"\",\"\",\"\",\"\",\"\",\"\",\"\",\"\",\"\",\"\",\"\",\"N\",\"\",\"\",\"\",\"\",\"\",\"\",\"\",\"\",\"\",\"\",\"\",\"\",\"\",\"\",\"Cash\",\"N\",\"\",\"\",\"\",\"\",\"\",\"\"\n",
            "\"\",\"\",\"23000\",\"23000\",\"23000\",\" 36 months\",\" 15.02%\",\"797.53\",\"C\",\"C3\",\"Tax Consultant\",\"10+ years\",\"MORTGAGE\",\"75000\",\"Source Verified\",\"Oct-2018\",\"Charged Off\",\"n\",\"\",\"\",\"debt_consolidation\",\"Debt consolidation\",\"352xx\",\"AL\",\"20.95\",\"1\",\"Aug-1985\",\"2\",\"22\",\"\",\"12\",\"0\",\"22465\",\"43.6%\",\"28\",\"w\",\"0.00\",\"0.00\",\"1547.08\",\"1547.08\",\"1025.67\",\"521.41\",\"0.0\",\"0.0\",\"0.0\",\"Dec-2018\",\"797.53\",\"\",\"Nov-2018\",\"0\",\"\",\"1\",\"Individual\",\"\",\"\",\"\",\"0\",\"0\",\"259658\",\"4\",\"2\",\"3\",\"3\",\"6\",\"18149\",\"86\",\"4\",\"6\",\"12843\",\"56\",\"51500\",\"2\",\"2\",\"5\",\"11\",\"21638\",\"26321\",\"44.1\",\"0\",\"0\",\"12\",\"397\",\"4\",\"4\",\"6\",\"5\",\"22\",\"4\",\"22\",\"0\",\"4\",\"5\",\"7\",\"14\",\"3\",\"9\",\"19\",\"5\",\"12\",\"0\",\"0\",\"0\",\"7\",\"96.4\",\"14.3\",\"0\",\"0\",\"296500\",\"40614\",\"47100\",\"21000\",\"\",\"\",\"\",\"\",\"\",\"\",\"\",\"\",\"\",\"\",\"\",\"N\",\"\",\"\",\"\",\"\",\"\",\"\",\"\",\"\",\"\",\"\",\"\",\"\",\"\",\"\",\"Cash\",\"N\",\"\",\"\",\"\",\"\",\"\",\"\"\n",
            "\"\",\"\",\"10000\",\"10000\",\"10000\",\" 36 months\",\" 15.02%\",\"346.76\",\"C\",\"C3\",\"security guard\",\"5 years\",\"MORTGAGE\",\"38000\",\"Not Verified\",\"Oct-2018\",\"Current\",\"n\",\"\",\"\",\"debt_consolidation\",\"Debt consolidation\",\"443xx\",\"OH\",\"13.16\",\"3\",\"Jul-1982\",\"0\",\"6\",\"\",\"11\",\"0\",\"5634\",\"37.1%\",\"16\",\"w\",\"9096.85\",\"9096.85\",\"1378.7\",\"1378.70\",\"903.15\",\"475.55\",\"0.0\",\"0.0\",\"0.0\",\"Feb-2019\",\"346.76\",\"Mar-2019\",\"Feb-2019\",\"0\",\"\",\"1\",\"Individual\",\"\",\"\",\"\",\"0\",\"155\",\"77424\",\"0\",\"1\",\"0\",\"0\",\"34\",\"200\",\"10\",\"1\",\"1\",\"1866\",\"42\",\"15200\",\"2\",\"0\",\"0\",\"2\",\"7039\",\"4537\",\"50.1\",\"0\",\"0\",\"34\",\"434\",\"11\",\"11\",\"3\",\"11\",\"6\",\"17\",\"6\",\"0\",\"3\",\"5\",\"5\",\"6\",\"1\",\"8\",\"11\",\"5\",\"11\",\"0\",\"0\",\"0\",\"1\",\"73.3\",\"40\",\"0\",\"0\",\"91403\",\"9323\",\"9100\",\"2000\",\"\",\"\",\"\",\"\",\"\",\"\",\"\",\"\",\"\",\"\",\"\",\"N\",\"\",\"\",\"\",\"\",\"\",\"\",\"\",\"\",\"\",\"\",\"\",\"\",\"\",\"\",\"Cash\",\"N\",\"\",\"\",\"\",\"\",\"\",\"\"\n",
            "\"\",\"\",\"5000\",\"5000\",\"5000\",\" 36 months\",\" 13.56%\",\"169.83\",\"C\",\"C1\",\"Payoff Clerk\",\"10+ years\",\"MORTGAGE\",\"35360\",\"Not Verified\",\"Oct-2018\",\"Current\",\"n\",\"\",\"\",\"debt_consolidation\",\"Debt consolidation\",\"381xx\",\"TN\",\"11.3\",\"1\",\"Jun-2006\",\"0\",\"21\",\"\",\"9\",\"0\",\"2597\",\"27.3%\",\"15\",\"f\",\"4538.94\",\"4538.94\",\"675.55\",\"675.55\",\"461.06\",\"214.49\",\"0.0\",\"0.0\",\"0.0\",\"Feb-2019\",\"169.83\",\"Mar-2019\",\"Feb-2019\",\"0\",\"\",\"1\",\"Individual\",\"\",\"\",\"\",\"0\",\"1413\",\"69785\",\"0\",\"2\",\"0\",\"1\",\"16\",\"2379\",\"40\",\"3\",\"4\",\"1826\",\"32\",\"9500\",\"0\",\"0\",\"1\",\"5\",\"8723\",\"1174\",\"60.9\",\"0\",\"0\",\"147\",\"85\",\"9\",\"9\",\"2\",\"10\",\"21\",\"9\",\"21\",\"0\",\"1\",\"3\",\"2\",\"2\",\"6\",\"6\",\"7\",\"3\",\"9\",\"0\",\"0\",\"0\",\"3\",\"92.9\",\"50\",\"0\",\"0\",\"93908\",\"4976\",\"3000\",\"6028\",\"\",\"\",\"\",\"\",\"\",\"\",\"\",\"\",\"\",\"\",\"\",\"N\",\"\",\"\",\"\",\"\",\"\",\"\",\"\",\"\",\"\",\"\",\"\",\"\",\"\",\"\",\"Cash\",\"N\",\"\",\"\",\"\",\"\",\"\",\"\"\n",
            "\"\",\"\",\"10000\",\"10000\",\"9750\",\" 36 months\",\" 11.06%\",\"327.68\",\"B\",\"B3\",\"\",\"n/a\",\"RENT\",\"44400\",\"Source Verified\",\"Oct-2018\",\"Current\",\"n\",\"\",\"\",\"credit_card\",\"Credit card refinancing\",\"980xx\",\"WA\",\"11.78\",\"0\",\"Oct-2008\",\"2\",\"40\",\"\",\"15\",\"0\",\"6269\",\"13.1%\",\"25\",\"f\",\"9044.84\",\"8818.72\",\"1295.36\",\"1262.98\",\"955.16\",\"340.20\",\"0.0\",\"0.0\",\"0.0\",\"Feb-2019\",\"327.68\",\"Mar-2019\",\"Feb-2019\",\"0\",\"53\",\"1\",\"Individual\",\"\",\"\",\"\",\"0\",\"520\",\"16440\",\"3\",\"1\",\"1\",\"1\",\"2\",\"10171\",\"100\",\"2\",\"5\",\"404\",\"28\",\"47700\",\"0\",\"3\",\"5\",\"6\",\"1265\",\"20037\",\"2.3\",\"0\",\"0\",\"61\",\"119\",\"1\",\"1\",\"0\",\"1\",\"\",\"1\",\"40\",\"1\",\"2\",\"4\",\"6\",\"8\",\"3\",\"14\",\"22\",\"4\",\"15\",\"0\",\"0\",\"0\",\"3\",\"92\",\"0\",\"0\",\"0\",\"57871\",\"16440\",\"20500\",\"10171\",\"\",\"\",\"\",\"\",\"\",\"\",\"\",\"\",\"\",\"\",\"\",\"N\",\"\",\"\",\"\",\"\",\"\",\"\",\"\",\"\",\"\",\"\",\"\",\"\",\"\",\"\",\"Cash\",\"N\",\"\",\"\",\"\",\"\",\"\",\"\"\n",
            "\"\",\"\",\"10000\",\"10000\",\"10000\",\" 36 months\",\" 16.91%\",\"356.08\",\"C\",\"C5\",\"Key Accounts Manager\",\"2 years\",\"RENT\",\"80000\",\"Not Verified\",\"Oct-2018\",\"Current\",\"n\",\"\",\"\",\"other\",\"Other\",\"021xx\",\"MA\",\"17.72\",\"1\",\"Sep-2006\",\"0\",\"14\",\"\",\"17\",\"0\",\"1942\",\"30.8%\",\"31\",\"w\",\"9120.98\",\"9120.98\",\"1414.93\",\"1414.93\",\"879.02\",\"535.91\",\"0.0\",\"0.0\",\"0.0\",\"Feb-2019\",\"356.08\",\"Mar-2019\",\"Feb-2019\",\"0\",\"25\",\"1\",\"Individual\",\"\",\"\",\"\",\"0\",\"0\",\"59194\",\"0\",\"15\",\"1\",\"1\",\"12\",\"57252\",\"85\",\"0\",\"0\",\"1942\",\"80\",\"6300\",\"0\",\"5\",\"0\",\"1\",\"3482\",\"2058\",\"48.5\",\"0\",\"0\",\"144\",\"142\",\"40\",\"12\",\"0\",\"131\",\"30\",\"\",\"30\",\"3\",\"1\",\"1\",\"1\",\"5\",\"22\",\"2\",\"9\",\"1\",\"17\",\"0\",\"0\",\"0\",\"1\",\"74.2\",\"0\",\"0\",\"0\",\"73669\",\"59194\",\"4000\",\"67369\",\"\",\"\",\"\",\"\",\"\",\"\",\"\",\"\",\"\",\"\",\"\",\"N\",\"\",\"\",\"\",\"\",\"\",\"\",\"\",\"\",\"\",\"\",\"\",\"\",\"\",\"\",\"Cash\",\"N\",\"\",\"\",\"\",\"\",\"\",\"\"\n",
            "\n",
            "\n",
            "Total amount funded in policy code 1: 2050909275\n",
            "Total amount funded in policy code 2: 820109297\n"
          ],
          "name": "stdout"
        }
      ]
    },
    {
      "metadata": {
        "colab_type": "text",
        "id": "3nAIRCZdofrY"
      },
      "cell_type": "markdown",
      "source": [
        "## Load LendingClub data\n",
        "\n",
        "pandas documentation\n",
        "- [`read_csv`](https://pandas.pydata.org/pandas-docs/stable/generated/pandas.read_csv.html)\n",
        "- [`options.display`](https://pandas.pydata.org/pandas-docs/stable/options.html#available-options)"
      ]
    },
    {
      "metadata": {
        "colab_type": "code",
        "id": "3-8Vn3y6ooBC",
        "colab": {}
      },
      "cell_type": "code",
      "source": [
        "import pandas as pd\n",
        "df = pd.read_csv('LoanStats_2018Q4.csv', skiprows=1, skipfooter=2, engine='python')"
      ],
      "execution_count": 0,
      "outputs": []
    },
    {
      "metadata": {
        "id": "_wkvhgx9iuG_",
        "colab_type": "code",
        "colab": {
          "base_uri": "https://localhost:8080/",
          "height": 346
        },
        "outputId": "3e0bdbcf-8e02-452c-e3be-b3603a8de94e"
      },
      "cell_type": "code",
      "source": [
        "pd.options.display.max_columns = 500\n",
        "pd.options.display.max_rows = 500\n",
        "df.tail()"
      ],
      "execution_count": 38,
      "outputs": [
        {
          "output_type": "execute_result",
          "data": {
            "text/html": [
              "<div>\n",
              "<style scoped>\n",
              "    .dataframe tbody tr th:only-of-type {\n",
              "        vertical-align: middle;\n",
              "    }\n",
              "\n",
              "    .dataframe tbody tr th {\n",
              "        vertical-align: top;\n",
              "    }\n",
              "\n",
              "    .dataframe thead th {\n",
              "        text-align: right;\n",
              "    }\n",
              "</style>\n",
              "<table border=\"1\" class=\"dataframe\">\n",
              "  <thead>\n",
              "    <tr style=\"text-align: right;\">\n",
              "      <th></th>\n",
              "      <th>id</th>\n",
              "      <th>member_id</th>\n",
              "      <th>loan_amnt</th>\n",
              "      <th>funded_amnt</th>\n",
              "      <th>funded_amnt_inv</th>\n",
              "      <th>term</th>\n",
              "      <th>int_rate</th>\n",
              "      <th>installment</th>\n",
              "      <th>grade</th>\n",
              "      <th>sub_grade</th>\n",
              "      <th>emp_title</th>\n",
              "      <th>emp_length</th>\n",
              "      <th>home_ownership</th>\n",
              "      <th>annual_inc</th>\n",
              "      <th>verification_status</th>\n",
              "      <th>issue_d</th>\n",
              "      <th>loan_status</th>\n",
              "      <th>pymnt_plan</th>\n",
              "      <th>url</th>\n",
              "      <th>desc</th>\n",
              "      <th>purpose</th>\n",
              "      <th>title</th>\n",
              "      <th>zip_code</th>\n",
              "      <th>addr_state</th>\n",
              "      <th>dti</th>\n",
              "      <th>delinq_2yrs</th>\n",
              "      <th>earliest_cr_line</th>\n",
              "      <th>inq_last_6mths</th>\n",
              "      <th>mths_since_last_delinq</th>\n",
              "      <th>mths_since_last_record</th>\n",
              "      <th>open_acc</th>\n",
              "      <th>pub_rec</th>\n",
              "      <th>revol_bal</th>\n",
              "      <th>revol_util</th>\n",
              "      <th>total_acc</th>\n",
              "      <th>initial_list_status</th>\n",
              "      <th>out_prncp</th>\n",
              "      <th>out_prncp_inv</th>\n",
              "      <th>total_pymnt</th>\n",
              "      <th>total_pymnt_inv</th>\n",
              "      <th>total_rec_prncp</th>\n",
              "      <th>total_rec_int</th>\n",
              "      <th>total_rec_late_fee</th>\n",
              "      <th>recoveries</th>\n",
              "      <th>collection_recovery_fee</th>\n",
              "      <th>last_pymnt_d</th>\n",
              "      <th>last_pymnt_amnt</th>\n",
              "      <th>next_pymnt_d</th>\n",
              "      <th>last_credit_pull_d</th>\n",
              "      <th>collections_12_mths_ex_med</th>\n",
              "      <th>mths_since_last_major_derog</th>\n",
              "      <th>policy_code</th>\n",
              "      <th>application_type</th>\n",
              "      <th>annual_inc_joint</th>\n",
              "      <th>dti_joint</th>\n",
              "      <th>verification_status_joint</th>\n",
              "      <th>acc_now_delinq</th>\n",
              "      <th>tot_coll_amt</th>\n",
              "      <th>tot_cur_bal</th>\n",
              "      <th>open_acc_6m</th>\n",
              "      <th>open_act_il</th>\n",
              "      <th>open_il_12m</th>\n",
              "      <th>open_il_24m</th>\n",
              "      <th>mths_since_rcnt_il</th>\n",
              "      <th>total_bal_il</th>\n",
              "      <th>il_util</th>\n",
              "      <th>open_rv_12m</th>\n",
              "      <th>open_rv_24m</th>\n",
              "      <th>max_bal_bc</th>\n",
              "      <th>all_util</th>\n",
              "      <th>total_rev_hi_lim</th>\n",
              "      <th>inq_fi</th>\n",
              "      <th>total_cu_tl</th>\n",
              "      <th>inq_last_12m</th>\n",
              "      <th>acc_open_past_24mths</th>\n",
              "      <th>avg_cur_bal</th>\n",
              "      <th>bc_open_to_buy</th>\n",
              "      <th>bc_util</th>\n",
              "      <th>chargeoff_within_12_mths</th>\n",
              "      <th>delinq_amnt</th>\n",
              "      <th>mo_sin_old_il_acct</th>\n",
              "      <th>mo_sin_old_rev_tl_op</th>\n",
              "      <th>mo_sin_rcnt_rev_tl_op</th>\n",
              "      <th>mo_sin_rcnt_tl</th>\n",
              "      <th>mort_acc</th>\n",
              "      <th>mths_since_recent_bc</th>\n",
              "      <th>mths_since_recent_bc_dlq</th>\n",
              "      <th>mths_since_recent_inq</th>\n",
              "      <th>mths_since_recent_revol_delinq</th>\n",
              "      <th>num_accts_ever_120_pd</th>\n",
              "      <th>num_actv_bc_tl</th>\n",
              "      <th>num_actv_rev_tl</th>\n",
              "      <th>num_bc_sats</th>\n",
              "      <th>num_bc_tl</th>\n",
              "      <th>num_il_tl</th>\n",
              "      <th>num_op_rev_tl</th>\n",
              "      <th>num_rev_accts</th>\n",
              "      <th>num_rev_tl_bal_gt_0</th>\n",
              "      <th>num_sats</th>\n",
              "      <th>num_tl_120dpd_2m</th>\n",
              "      <th>num_tl_30dpd</th>\n",
              "      <th>num_tl_90g_dpd_24m</th>\n",
              "      <th>num_tl_op_past_12m</th>\n",
              "      <th>pct_tl_nvr_dlq</th>\n",
              "      <th>percent_bc_gt_75</th>\n",
              "      <th>pub_rec_bankruptcies</th>\n",
              "      <th>tax_liens</th>\n",
              "      <th>tot_hi_cred_lim</th>\n",
              "      <th>total_bal_ex_mort</th>\n",
              "      <th>total_bc_limit</th>\n",
              "      <th>total_il_high_credit_limit</th>\n",
              "      <th>revol_bal_joint</th>\n",
              "      <th>sec_app_earliest_cr_line</th>\n",
              "      <th>sec_app_inq_last_6mths</th>\n",
              "      <th>sec_app_mort_acc</th>\n",
              "      <th>sec_app_open_acc</th>\n",
              "      <th>sec_app_revol_util</th>\n",
              "      <th>sec_app_open_act_il</th>\n",
              "      <th>sec_app_num_rev_accts</th>\n",
              "      <th>sec_app_chargeoff_within_12_mths</th>\n",
              "      <th>sec_app_collections_12_mths_ex_med</th>\n",
              "      <th>sec_app_mths_since_last_major_derog</th>\n",
              "      <th>hardship_flag</th>\n",
              "      <th>hardship_type</th>\n",
              "      <th>hardship_reason</th>\n",
              "      <th>hardship_status</th>\n",
              "      <th>deferral_term</th>\n",
              "      <th>hardship_amount</th>\n",
              "      <th>hardship_start_date</th>\n",
              "      <th>hardship_end_date</th>\n",
              "      <th>payment_plan_start_date</th>\n",
              "      <th>hardship_length</th>\n",
              "      <th>hardship_dpd</th>\n",
              "      <th>hardship_loan_status</th>\n",
              "      <th>orig_projected_additional_accrued_interest</th>\n",
              "      <th>hardship_payoff_balance_amount</th>\n",
              "      <th>hardship_last_payment_amount</th>\n",
              "      <th>disbursement_method</th>\n",
              "      <th>debt_settlement_flag</th>\n",
              "      <th>debt_settlement_flag_date</th>\n",
              "      <th>settlement_status</th>\n",
              "      <th>settlement_date</th>\n",
              "      <th>settlement_amount</th>\n",
              "      <th>settlement_percentage</th>\n",
              "      <th>settlement_term</th>\n",
              "    </tr>\n",
              "  </thead>\n",
              "  <tbody>\n",
              "    <tr>\n",
              "      <th>128407</th>\n",
              "      <td>NaN</td>\n",
              "      <td>NaN</td>\n",
              "      <td>23000</td>\n",
              "      <td>23000</td>\n",
              "      <td>23000.0</td>\n",
              "      <td>36 months</td>\n",
              "      <td>15.02%</td>\n",
              "      <td>797.53</td>\n",
              "      <td>C</td>\n",
              "      <td>C3</td>\n",
              "      <td>Tax Consultant</td>\n",
              "      <td>10+ years</td>\n",
              "      <td>MORTGAGE</td>\n",
              "      <td>75000.0</td>\n",
              "      <td>Source Verified</td>\n",
              "      <td>Oct-2018</td>\n",
              "      <td>Charged Off</td>\n",
              "      <td>n</td>\n",
              "      <td>NaN</td>\n",
              "      <td>NaN</td>\n",
              "      <td>debt_consolidation</td>\n",
              "      <td>Debt consolidation</td>\n",
              "      <td>352xx</td>\n",
              "      <td>AL</td>\n",
              "      <td>20.95</td>\n",
              "      <td>1</td>\n",
              "      <td>Aug-1985</td>\n",
              "      <td>2</td>\n",
              "      <td>22.0</td>\n",
              "      <td>NaN</td>\n",
              "      <td>12</td>\n",
              "      <td>0</td>\n",
              "      <td>22465</td>\n",
              "      <td>43.6%</td>\n",
              "      <td>28</td>\n",
              "      <td>w</td>\n",
              "      <td>0.00</td>\n",
              "      <td>0.00</td>\n",
              "      <td>1547.08</td>\n",
              "      <td>1547.08</td>\n",
              "      <td>1025.67</td>\n",
              "      <td>521.41</td>\n",
              "      <td>0.0</td>\n",
              "      <td>0.0</td>\n",
              "      <td>0.0</td>\n",
              "      <td>Dec-2018</td>\n",
              "      <td>797.53</td>\n",
              "      <td>NaN</td>\n",
              "      <td>Nov-2018</td>\n",
              "      <td>0</td>\n",
              "      <td>NaN</td>\n",
              "      <td>1</td>\n",
              "      <td>Individual</td>\n",
              "      <td>NaN</td>\n",
              "      <td>NaN</td>\n",
              "      <td>NaN</td>\n",
              "      <td>0</td>\n",
              "      <td>0</td>\n",
              "      <td>259658</td>\n",
              "      <td>4</td>\n",
              "      <td>2</td>\n",
              "      <td>3</td>\n",
              "      <td>3</td>\n",
              "      <td>6.0</td>\n",
              "      <td>18149</td>\n",
              "      <td>86.0</td>\n",
              "      <td>4</td>\n",
              "      <td>6</td>\n",
              "      <td>12843</td>\n",
              "      <td>56.0</td>\n",
              "      <td>51500</td>\n",
              "      <td>2</td>\n",
              "      <td>2</td>\n",
              "      <td>5</td>\n",
              "      <td>11</td>\n",
              "      <td>21638.0</td>\n",
              "      <td>26321.0</td>\n",
              "      <td>44.1</td>\n",
              "      <td>0</td>\n",
              "      <td>0</td>\n",
              "      <td>12.0</td>\n",
              "      <td>397</td>\n",
              "      <td>4</td>\n",
              "      <td>4</td>\n",
              "      <td>6</td>\n",
              "      <td>5.0</td>\n",
              "      <td>22.0</td>\n",
              "      <td>4.0</td>\n",
              "      <td>22.0</td>\n",
              "      <td>0</td>\n",
              "      <td>4</td>\n",
              "      <td>5</td>\n",
              "      <td>7</td>\n",
              "      <td>14</td>\n",
              "      <td>3</td>\n",
              "      <td>9</td>\n",
              "      <td>19</td>\n",
              "      <td>5</td>\n",
              "      <td>12</td>\n",
              "      <td>0.0</td>\n",
              "      <td>0</td>\n",
              "      <td>0</td>\n",
              "      <td>7</td>\n",
              "      <td>96.4</td>\n",
              "      <td>14.3</td>\n",
              "      <td>0</td>\n",
              "      <td>0</td>\n",
              "      <td>296500</td>\n",
              "      <td>40614</td>\n",
              "      <td>47100</td>\n",
              "      <td>21000</td>\n",
              "      <td>NaN</td>\n",
              "      <td>NaN</td>\n",
              "      <td>NaN</td>\n",
              "      <td>NaN</td>\n",
              "      <td>NaN</td>\n",
              "      <td>NaN</td>\n",
              "      <td>NaN</td>\n",
              "      <td>NaN</td>\n",
              "      <td>NaN</td>\n",
              "      <td>NaN</td>\n",
              "      <td>NaN</td>\n",
              "      <td>N</td>\n",
              "      <td>NaN</td>\n",
              "      <td>NaN</td>\n",
              "      <td>NaN</td>\n",
              "      <td>NaN</td>\n",
              "      <td>NaN</td>\n",
              "      <td>NaN</td>\n",
              "      <td>NaN</td>\n",
              "      <td>NaN</td>\n",
              "      <td>NaN</td>\n",
              "      <td>NaN</td>\n",
              "      <td>NaN</td>\n",
              "      <td>NaN</td>\n",
              "      <td>NaN</td>\n",
              "      <td>NaN</td>\n",
              "      <td>Cash</td>\n",
              "      <td>N</td>\n",
              "      <td>NaN</td>\n",
              "      <td>NaN</td>\n",
              "      <td>NaN</td>\n",
              "      <td>NaN</td>\n",
              "      <td>NaN</td>\n",
              "      <td>NaN</td>\n",
              "    </tr>\n",
              "    <tr>\n",
              "      <th>128408</th>\n",
              "      <td>NaN</td>\n",
              "      <td>NaN</td>\n",
              "      <td>10000</td>\n",
              "      <td>10000</td>\n",
              "      <td>10000.0</td>\n",
              "      <td>36 months</td>\n",
              "      <td>15.02%</td>\n",
              "      <td>346.76</td>\n",
              "      <td>C</td>\n",
              "      <td>C3</td>\n",
              "      <td>security guard</td>\n",
              "      <td>5 years</td>\n",
              "      <td>MORTGAGE</td>\n",
              "      <td>38000.0</td>\n",
              "      <td>Not Verified</td>\n",
              "      <td>Oct-2018</td>\n",
              "      <td>Current</td>\n",
              "      <td>n</td>\n",
              "      <td>NaN</td>\n",
              "      <td>NaN</td>\n",
              "      <td>debt_consolidation</td>\n",
              "      <td>Debt consolidation</td>\n",
              "      <td>443xx</td>\n",
              "      <td>OH</td>\n",
              "      <td>13.16</td>\n",
              "      <td>3</td>\n",
              "      <td>Jul-1982</td>\n",
              "      <td>0</td>\n",
              "      <td>6.0</td>\n",
              "      <td>NaN</td>\n",
              "      <td>11</td>\n",
              "      <td>0</td>\n",
              "      <td>5634</td>\n",
              "      <td>37.1%</td>\n",
              "      <td>16</td>\n",
              "      <td>w</td>\n",
              "      <td>9096.85</td>\n",
              "      <td>9096.85</td>\n",
              "      <td>1378.70</td>\n",
              "      <td>1378.70</td>\n",
              "      <td>903.15</td>\n",
              "      <td>475.55</td>\n",
              "      <td>0.0</td>\n",
              "      <td>0.0</td>\n",
              "      <td>0.0</td>\n",
              "      <td>Feb-2019</td>\n",
              "      <td>346.76</td>\n",
              "      <td>Mar-2019</td>\n",
              "      <td>Feb-2019</td>\n",
              "      <td>0</td>\n",
              "      <td>NaN</td>\n",
              "      <td>1</td>\n",
              "      <td>Individual</td>\n",
              "      <td>NaN</td>\n",
              "      <td>NaN</td>\n",
              "      <td>NaN</td>\n",
              "      <td>0</td>\n",
              "      <td>155</td>\n",
              "      <td>77424</td>\n",
              "      <td>0</td>\n",
              "      <td>1</td>\n",
              "      <td>0</td>\n",
              "      <td>0</td>\n",
              "      <td>34.0</td>\n",
              "      <td>200</td>\n",
              "      <td>10.0</td>\n",
              "      <td>1</td>\n",
              "      <td>1</td>\n",
              "      <td>1866</td>\n",
              "      <td>42.0</td>\n",
              "      <td>15200</td>\n",
              "      <td>2</td>\n",
              "      <td>0</td>\n",
              "      <td>0</td>\n",
              "      <td>2</td>\n",
              "      <td>7039.0</td>\n",
              "      <td>4537.0</td>\n",
              "      <td>50.1</td>\n",
              "      <td>0</td>\n",
              "      <td>0</td>\n",
              "      <td>34.0</td>\n",
              "      <td>434</td>\n",
              "      <td>11</td>\n",
              "      <td>11</td>\n",
              "      <td>3</td>\n",
              "      <td>11.0</td>\n",
              "      <td>6.0</td>\n",
              "      <td>17.0</td>\n",
              "      <td>6.0</td>\n",
              "      <td>0</td>\n",
              "      <td>3</td>\n",
              "      <td>5</td>\n",
              "      <td>5</td>\n",
              "      <td>6</td>\n",
              "      <td>1</td>\n",
              "      <td>8</td>\n",
              "      <td>11</td>\n",
              "      <td>5</td>\n",
              "      <td>11</td>\n",
              "      <td>0.0</td>\n",
              "      <td>0</td>\n",
              "      <td>0</td>\n",
              "      <td>1</td>\n",
              "      <td>73.3</td>\n",
              "      <td>40.0</td>\n",
              "      <td>0</td>\n",
              "      <td>0</td>\n",
              "      <td>91403</td>\n",
              "      <td>9323</td>\n",
              "      <td>9100</td>\n",
              "      <td>2000</td>\n",
              "      <td>NaN</td>\n",
              "      <td>NaN</td>\n",
              "      <td>NaN</td>\n",
              "      <td>NaN</td>\n",
              "      <td>NaN</td>\n",
              "      <td>NaN</td>\n",
              "      <td>NaN</td>\n",
              "      <td>NaN</td>\n",
              "      <td>NaN</td>\n",
              "      <td>NaN</td>\n",
              "      <td>NaN</td>\n",
              "      <td>N</td>\n",
              "      <td>NaN</td>\n",
              "      <td>NaN</td>\n",
              "      <td>NaN</td>\n",
              "      <td>NaN</td>\n",
              "      <td>NaN</td>\n",
              "      <td>NaN</td>\n",
              "      <td>NaN</td>\n",
              "      <td>NaN</td>\n",
              "      <td>NaN</td>\n",
              "      <td>NaN</td>\n",
              "      <td>NaN</td>\n",
              "      <td>NaN</td>\n",
              "      <td>NaN</td>\n",
              "      <td>NaN</td>\n",
              "      <td>Cash</td>\n",
              "      <td>N</td>\n",
              "      <td>NaN</td>\n",
              "      <td>NaN</td>\n",
              "      <td>NaN</td>\n",
              "      <td>NaN</td>\n",
              "      <td>NaN</td>\n",
              "      <td>NaN</td>\n",
              "    </tr>\n",
              "    <tr>\n",
              "      <th>128409</th>\n",
              "      <td>NaN</td>\n",
              "      <td>NaN</td>\n",
              "      <td>5000</td>\n",
              "      <td>5000</td>\n",
              "      <td>5000.0</td>\n",
              "      <td>36 months</td>\n",
              "      <td>13.56%</td>\n",
              "      <td>169.83</td>\n",
              "      <td>C</td>\n",
              "      <td>C1</td>\n",
              "      <td>Payoff Clerk</td>\n",
              "      <td>10+ years</td>\n",
              "      <td>MORTGAGE</td>\n",
              "      <td>35360.0</td>\n",
              "      <td>Not Verified</td>\n",
              "      <td>Oct-2018</td>\n",
              "      <td>Current</td>\n",
              "      <td>n</td>\n",
              "      <td>NaN</td>\n",
              "      <td>NaN</td>\n",
              "      <td>debt_consolidation</td>\n",
              "      <td>Debt consolidation</td>\n",
              "      <td>381xx</td>\n",
              "      <td>TN</td>\n",
              "      <td>11.30</td>\n",
              "      <td>1</td>\n",
              "      <td>Jun-2006</td>\n",
              "      <td>0</td>\n",
              "      <td>21.0</td>\n",
              "      <td>NaN</td>\n",
              "      <td>9</td>\n",
              "      <td>0</td>\n",
              "      <td>2597</td>\n",
              "      <td>27.3%</td>\n",
              "      <td>15</td>\n",
              "      <td>f</td>\n",
              "      <td>4538.94</td>\n",
              "      <td>4538.94</td>\n",
              "      <td>675.55</td>\n",
              "      <td>675.55</td>\n",
              "      <td>461.06</td>\n",
              "      <td>214.49</td>\n",
              "      <td>0.0</td>\n",
              "      <td>0.0</td>\n",
              "      <td>0.0</td>\n",
              "      <td>Feb-2019</td>\n",
              "      <td>169.83</td>\n",
              "      <td>Mar-2019</td>\n",
              "      <td>Feb-2019</td>\n",
              "      <td>0</td>\n",
              "      <td>NaN</td>\n",
              "      <td>1</td>\n",
              "      <td>Individual</td>\n",
              "      <td>NaN</td>\n",
              "      <td>NaN</td>\n",
              "      <td>NaN</td>\n",
              "      <td>0</td>\n",
              "      <td>1413</td>\n",
              "      <td>69785</td>\n",
              "      <td>0</td>\n",
              "      <td>2</td>\n",
              "      <td>0</td>\n",
              "      <td>1</td>\n",
              "      <td>16.0</td>\n",
              "      <td>2379</td>\n",
              "      <td>40.0</td>\n",
              "      <td>3</td>\n",
              "      <td>4</td>\n",
              "      <td>1826</td>\n",
              "      <td>32.0</td>\n",
              "      <td>9500</td>\n",
              "      <td>0</td>\n",
              "      <td>0</td>\n",
              "      <td>1</td>\n",
              "      <td>5</td>\n",
              "      <td>8723.0</td>\n",
              "      <td>1174.0</td>\n",
              "      <td>60.9</td>\n",
              "      <td>0</td>\n",
              "      <td>0</td>\n",
              "      <td>147.0</td>\n",
              "      <td>85</td>\n",
              "      <td>9</td>\n",
              "      <td>9</td>\n",
              "      <td>2</td>\n",
              "      <td>10.0</td>\n",
              "      <td>21.0</td>\n",
              "      <td>9.0</td>\n",
              "      <td>21.0</td>\n",
              "      <td>0</td>\n",
              "      <td>1</td>\n",
              "      <td>3</td>\n",
              "      <td>2</td>\n",
              "      <td>2</td>\n",
              "      <td>6</td>\n",
              "      <td>6</td>\n",
              "      <td>7</td>\n",
              "      <td>3</td>\n",
              "      <td>9</td>\n",
              "      <td>0.0</td>\n",
              "      <td>0</td>\n",
              "      <td>0</td>\n",
              "      <td>3</td>\n",
              "      <td>92.9</td>\n",
              "      <td>50.0</td>\n",
              "      <td>0</td>\n",
              "      <td>0</td>\n",
              "      <td>93908</td>\n",
              "      <td>4976</td>\n",
              "      <td>3000</td>\n",
              "      <td>6028</td>\n",
              "      <td>NaN</td>\n",
              "      <td>NaN</td>\n",
              "      <td>NaN</td>\n",
              "      <td>NaN</td>\n",
              "      <td>NaN</td>\n",
              "      <td>NaN</td>\n",
              "      <td>NaN</td>\n",
              "      <td>NaN</td>\n",
              "      <td>NaN</td>\n",
              "      <td>NaN</td>\n",
              "      <td>NaN</td>\n",
              "      <td>N</td>\n",
              "      <td>NaN</td>\n",
              "      <td>NaN</td>\n",
              "      <td>NaN</td>\n",
              "      <td>NaN</td>\n",
              "      <td>NaN</td>\n",
              "      <td>NaN</td>\n",
              "      <td>NaN</td>\n",
              "      <td>NaN</td>\n",
              "      <td>NaN</td>\n",
              "      <td>NaN</td>\n",
              "      <td>NaN</td>\n",
              "      <td>NaN</td>\n",
              "      <td>NaN</td>\n",
              "      <td>NaN</td>\n",
              "      <td>Cash</td>\n",
              "      <td>N</td>\n",
              "      <td>NaN</td>\n",
              "      <td>NaN</td>\n",
              "      <td>NaN</td>\n",
              "      <td>NaN</td>\n",
              "      <td>NaN</td>\n",
              "      <td>NaN</td>\n",
              "    </tr>\n",
              "    <tr>\n",
              "      <th>128410</th>\n",
              "      <td>NaN</td>\n",
              "      <td>NaN</td>\n",
              "      <td>10000</td>\n",
              "      <td>10000</td>\n",
              "      <td>9750.0</td>\n",
              "      <td>36 months</td>\n",
              "      <td>11.06%</td>\n",
              "      <td>327.68</td>\n",
              "      <td>B</td>\n",
              "      <td>B3</td>\n",
              "      <td>NaN</td>\n",
              "      <td>NaN</td>\n",
              "      <td>RENT</td>\n",
              "      <td>44400.0</td>\n",
              "      <td>Source Verified</td>\n",
              "      <td>Oct-2018</td>\n",
              "      <td>Current</td>\n",
              "      <td>n</td>\n",
              "      <td>NaN</td>\n",
              "      <td>NaN</td>\n",
              "      <td>credit_card</td>\n",
              "      <td>Credit card refinancing</td>\n",
              "      <td>980xx</td>\n",
              "      <td>WA</td>\n",
              "      <td>11.78</td>\n",
              "      <td>0</td>\n",
              "      <td>Oct-2008</td>\n",
              "      <td>2</td>\n",
              "      <td>40.0</td>\n",
              "      <td>NaN</td>\n",
              "      <td>15</td>\n",
              "      <td>0</td>\n",
              "      <td>6269</td>\n",
              "      <td>13.1%</td>\n",
              "      <td>25</td>\n",
              "      <td>f</td>\n",
              "      <td>9044.84</td>\n",
              "      <td>8818.72</td>\n",
              "      <td>1295.36</td>\n",
              "      <td>1262.98</td>\n",
              "      <td>955.16</td>\n",
              "      <td>340.20</td>\n",
              "      <td>0.0</td>\n",
              "      <td>0.0</td>\n",
              "      <td>0.0</td>\n",
              "      <td>Feb-2019</td>\n",
              "      <td>327.68</td>\n",
              "      <td>Mar-2019</td>\n",
              "      <td>Feb-2019</td>\n",
              "      <td>0</td>\n",
              "      <td>53.0</td>\n",
              "      <td>1</td>\n",
              "      <td>Individual</td>\n",
              "      <td>NaN</td>\n",
              "      <td>NaN</td>\n",
              "      <td>NaN</td>\n",
              "      <td>0</td>\n",
              "      <td>520</td>\n",
              "      <td>16440</td>\n",
              "      <td>3</td>\n",
              "      <td>1</td>\n",
              "      <td>1</td>\n",
              "      <td>1</td>\n",
              "      <td>2.0</td>\n",
              "      <td>10171</td>\n",
              "      <td>100.0</td>\n",
              "      <td>2</td>\n",
              "      <td>5</td>\n",
              "      <td>404</td>\n",
              "      <td>28.0</td>\n",
              "      <td>47700</td>\n",
              "      <td>0</td>\n",
              "      <td>3</td>\n",
              "      <td>5</td>\n",
              "      <td>6</td>\n",
              "      <td>1265.0</td>\n",
              "      <td>20037.0</td>\n",
              "      <td>2.3</td>\n",
              "      <td>0</td>\n",
              "      <td>0</td>\n",
              "      <td>61.0</td>\n",
              "      <td>119</td>\n",
              "      <td>1</td>\n",
              "      <td>1</td>\n",
              "      <td>0</td>\n",
              "      <td>1.0</td>\n",
              "      <td>NaN</td>\n",
              "      <td>1.0</td>\n",
              "      <td>40.0</td>\n",
              "      <td>1</td>\n",
              "      <td>2</td>\n",
              "      <td>4</td>\n",
              "      <td>6</td>\n",
              "      <td>8</td>\n",
              "      <td>3</td>\n",
              "      <td>14</td>\n",
              "      <td>22</td>\n",
              "      <td>4</td>\n",
              "      <td>15</td>\n",
              "      <td>0.0</td>\n",
              "      <td>0</td>\n",
              "      <td>0</td>\n",
              "      <td>3</td>\n",
              "      <td>92.0</td>\n",
              "      <td>0.0</td>\n",
              "      <td>0</td>\n",
              "      <td>0</td>\n",
              "      <td>57871</td>\n",
              "      <td>16440</td>\n",
              "      <td>20500</td>\n",
              "      <td>10171</td>\n",
              "      <td>NaN</td>\n",
              "      <td>NaN</td>\n",
              "      <td>NaN</td>\n",
              "      <td>NaN</td>\n",
              "      <td>NaN</td>\n",
              "      <td>NaN</td>\n",
              "      <td>NaN</td>\n",
              "      <td>NaN</td>\n",
              "      <td>NaN</td>\n",
              "      <td>NaN</td>\n",
              "      <td>NaN</td>\n",
              "      <td>N</td>\n",
              "      <td>NaN</td>\n",
              "      <td>NaN</td>\n",
              "      <td>NaN</td>\n",
              "      <td>NaN</td>\n",
              "      <td>NaN</td>\n",
              "      <td>NaN</td>\n",
              "      <td>NaN</td>\n",
              "      <td>NaN</td>\n",
              "      <td>NaN</td>\n",
              "      <td>NaN</td>\n",
              "      <td>NaN</td>\n",
              "      <td>NaN</td>\n",
              "      <td>NaN</td>\n",
              "      <td>NaN</td>\n",
              "      <td>Cash</td>\n",
              "      <td>N</td>\n",
              "      <td>NaN</td>\n",
              "      <td>NaN</td>\n",
              "      <td>NaN</td>\n",
              "      <td>NaN</td>\n",
              "      <td>NaN</td>\n",
              "      <td>NaN</td>\n",
              "    </tr>\n",
              "    <tr>\n",
              "      <th>128411</th>\n",
              "      <td>NaN</td>\n",
              "      <td>NaN</td>\n",
              "      <td>10000</td>\n",
              "      <td>10000</td>\n",
              "      <td>10000.0</td>\n",
              "      <td>36 months</td>\n",
              "      <td>16.91%</td>\n",
              "      <td>356.08</td>\n",
              "      <td>C</td>\n",
              "      <td>C5</td>\n",
              "      <td>Key Accounts Manager</td>\n",
              "      <td>2 years</td>\n",
              "      <td>RENT</td>\n",
              "      <td>80000.0</td>\n",
              "      <td>Not Verified</td>\n",
              "      <td>Oct-2018</td>\n",
              "      <td>Current</td>\n",
              "      <td>n</td>\n",
              "      <td>NaN</td>\n",
              "      <td>NaN</td>\n",
              "      <td>other</td>\n",
              "      <td>Other</td>\n",
              "      <td>021xx</td>\n",
              "      <td>MA</td>\n",
              "      <td>17.72</td>\n",
              "      <td>1</td>\n",
              "      <td>Sep-2006</td>\n",
              "      <td>0</td>\n",
              "      <td>14.0</td>\n",
              "      <td>NaN</td>\n",
              "      <td>17</td>\n",
              "      <td>0</td>\n",
              "      <td>1942</td>\n",
              "      <td>30.8%</td>\n",
              "      <td>31</td>\n",
              "      <td>w</td>\n",
              "      <td>9120.98</td>\n",
              "      <td>9120.98</td>\n",
              "      <td>1414.93</td>\n",
              "      <td>1414.93</td>\n",
              "      <td>879.02</td>\n",
              "      <td>535.91</td>\n",
              "      <td>0.0</td>\n",
              "      <td>0.0</td>\n",
              "      <td>0.0</td>\n",
              "      <td>Feb-2019</td>\n",
              "      <td>356.08</td>\n",
              "      <td>Mar-2019</td>\n",
              "      <td>Feb-2019</td>\n",
              "      <td>0</td>\n",
              "      <td>25.0</td>\n",
              "      <td>1</td>\n",
              "      <td>Individual</td>\n",
              "      <td>NaN</td>\n",
              "      <td>NaN</td>\n",
              "      <td>NaN</td>\n",
              "      <td>0</td>\n",
              "      <td>0</td>\n",
              "      <td>59194</td>\n",
              "      <td>0</td>\n",
              "      <td>15</td>\n",
              "      <td>1</td>\n",
              "      <td>1</td>\n",
              "      <td>12.0</td>\n",
              "      <td>57252</td>\n",
              "      <td>85.0</td>\n",
              "      <td>0</td>\n",
              "      <td>0</td>\n",
              "      <td>1942</td>\n",
              "      <td>80.0</td>\n",
              "      <td>6300</td>\n",
              "      <td>0</td>\n",
              "      <td>5</td>\n",
              "      <td>0</td>\n",
              "      <td>1</td>\n",
              "      <td>3482.0</td>\n",
              "      <td>2058.0</td>\n",
              "      <td>48.5</td>\n",
              "      <td>0</td>\n",
              "      <td>0</td>\n",
              "      <td>144.0</td>\n",
              "      <td>142</td>\n",
              "      <td>40</td>\n",
              "      <td>12</td>\n",
              "      <td>0</td>\n",
              "      <td>131.0</td>\n",
              "      <td>30.0</td>\n",
              "      <td>NaN</td>\n",
              "      <td>30.0</td>\n",
              "      <td>3</td>\n",
              "      <td>1</td>\n",
              "      <td>1</td>\n",
              "      <td>1</td>\n",
              "      <td>5</td>\n",
              "      <td>22</td>\n",
              "      <td>2</td>\n",
              "      <td>9</td>\n",
              "      <td>1</td>\n",
              "      <td>17</td>\n",
              "      <td>0.0</td>\n",
              "      <td>0</td>\n",
              "      <td>0</td>\n",
              "      <td>1</td>\n",
              "      <td>74.2</td>\n",
              "      <td>0.0</td>\n",
              "      <td>0</td>\n",
              "      <td>0</td>\n",
              "      <td>73669</td>\n",
              "      <td>59194</td>\n",
              "      <td>4000</td>\n",
              "      <td>67369</td>\n",
              "      <td>NaN</td>\n",
              "      <td>NaN</td>\n",
              "      <td>NaN</td>\n",
              "      <td>NaN</td>\n",
              "      <td>NaN</td>\n",
              "      <td>NaN</td>\n",
              "      <td>NaN</td>\n",
              "      <td>NaN</td>\n",
              "      <td>NaN</td>\n",
              "      <td>NaN</td>\n",
              "      <td>NaN</td>\n",
              "      <td>N</td>\n",
              "      <td>NaN</td>\n",
              "      <td>NaN</td>\n",
              "      <td>NaN</td>\n",
              "      <td>NaN</td>\n",
              "      <td>NaN</td>\n",
              "      <td>NaN</td>\n",
              "      <td>NaN</td>\n",
              "      <td>NaN</td>\n",
              "      <td>NaN</td>\n",
              "      <td>NaN</td>\n",
              "      <td>NaN</td>\n",
              "      <td>NaN</td>\n",
              "      <td>NaN</td>\n",
              "      <td>NaN</td>\n",
              "      <td>Cash</td>\n",
              "      <td>N</td>\n",
              "      <td>NaN</td>\n",
              "      <td>NaN</td>\n",
              "      <td>NaN</td>\n",
              "      <td>NaN</td>\n",
              "      <td>NaN</td>\n",
              "      <td>NaN</td>\n",
              "    </tr>\n",
              "  </tbody>\n",
              "</table>\n",
              "</div>"
            ],
            "text/plain": [
              "        id  member_id  loan_amnt  funded_amnt  funded_amnt_inv        term  \\\n",
              "128407 NaN        NaN      23000        23000          23000.0   36 months   \n",
              "128408 NaN        NaN      10000        10000          10000.0   36 months   \n",
              "128409 NaN        NaN       5000         5000           5000.0   36 months   \n",
              "128410 NaN        NaN      10000        10000           9750.0   36 months   \n",
              "128411 NaN        NaN      10000        10000          10000.0   36 months   \n",
              "\n",
              "       int_rate  installment grade sub_grade             emp_title emp_length  \\\n",
              "128407   15.02%       797.53     C        C3        Tax Consultant  10+ years   \n",
              "128408   15.02%       346.76     C        C3        security guard    5 years   \n",
              "128409   13.56%       169.83     C        C1          Payoff Clerk  10+ years   \n",
              "128410   11.06%       327.68     B        B3                   NaN        NaN   \n",
              "128411   16.91%       356.08     C        C5  Key Accounts Manager    2 years   \n",
              "\n",
              "       home_ownership  annual_inc verification_status   issue_d  loan_status  \\\n",
              "128407       MORTGAGE     75000.0     Source Verified  Oct-2018  Charged Off   \n",
              "128408       MORTGAGE     38000.0        Not Verified  Oct-2018      Current   \n",
              "128409       MORTGAGE     35360.0        Not Verified  Oct-2018      Current   \n",
              "128410           RENT     44400.0     Source Verified  Oct-2018      Current   \n",
              "128411           RENT     80000.0        Not Verified  Oct-2018      Current   \n",
              "\n",
              "       pymnt_plan  url  desc             purpose                    title  \\\n",
              "128407          n  NaN   NaN  debt_consolidation       Debt consolidation   \n",
              "128408          n  NaN   NaN  debt_consolidation       Debt consolidation   \n",
              "128409          n  NaN   NaN  debt_consolidation       Debt consolidation   \n",
              "128410          n  NaN   NaN         credit_card  Credit card refinancing   \n",
              "128411          n  NaN   NaN               other                    Other   \n",
              "\n",
              "       zip_code addr_state    dti  delinq_2yrs earliest_cr_line  \\\n",
              "128407    352xx         AL  20.95            1         Aug-1985   \n",
              "128408    443xx         OH  13.16            3         Jul-1982   \n",
              "128409    381xx         TN  11.30            1         Jun-2006   \n",
              "128410    980xx         WA  11.78            0         Oct-2008   \n",
              "128411    021xx         MA  17.72            1         Sep-2006   \n",
              "\n",
              "        inq_last_6mths  mths_since_last_delinq  mths_since_last_record  \\\n",
              "128407               2                    22.0                     NaN   \n",
              "128408               0                     6.0                     NaN   \n",
              "128409               0                    21.0                     NaN   \n",
              "128410               2                    40.0                     NaN   \n",
              "128411               0                    14.0                     NaN   \n",
              "\n",
              "        open_acc  pub_rec  revol_bal revol_util  total_acc  \\\n",
              "128407        12        0      22465      43.6%         28   \n",
              "128408        11        0       5634      37.1%         16   \n",
              "128409         9        0       2597      27.3%         15   \n",
              "128410        15        0       6269      13.1%         25   \n",
              "128411        17        0       1942      30.8%         31   \n",
              "\n",
              "       initial_list_status  out_prncp  out_prncp_inv  total_pymnt  \\\n",
              "128407                   w       0.00           0.00      1547.08   \n",
              "128408                   w    9096.85        9096.85      1378.70   \n",
              "128409                   f    4538.94        4538.94       675.55   \n",
              "128410                   f    9044.84        8818.72      1295.36   \n",
              "128411                   w    9120.98        9120.98      1414.93   \n",
              "\n",
              "        total_pymnt_inv  total_rec_prncp  total_rec_int  total_rec_late_fee  \\\n",
              "128407          1547.08          1025.67         521.41                 0.0   \n",
              "128408          1378.70           903.15         475.55                 0.0   \n",
              "128409           675.55           461.06         214.49                 0.0   \n",
              "128410          1262.98           955.16         340.20                 0.0   \n",
              "128411          1414.93           879.02         535.91                 0.0   \n",
              "\n",
              "        recoveries  collection_recovery_fee last_pymnt_d  last_pymnt_amnt  \\\n",
              "128407         0.0                      0.0     Dec-2018           797.53   \n",
              "128408         0.0                      0.0     Feb-2019           346.76   \n",
              "128409         0.0                      0.0     Feb-2019           169.83   \n",
              "128410         0.0                      0.0     Feb-2019           327.68   \n",
              "128411         0.0                      0.0     Feb-2019           356.08   \n",
              "\n",
              "       next_pymnt_d last_credit_pull_d  collections_12_mths_ex_med  \\\n",
              "128407          NaN           Nov-2018                           0   \n",
              "128408     Mar-2019           Feb-2019                           0   \n",
              "128409     Mar-2019           Feb-2019                           0   \n",
              "128410     Mar-2019           Feb-2019                           0   \n",
              "128411     Mar-2019           Feb-2019                           0   \n",
              "\n",
              "        mths_since_last_major_derog  policy_code application_type  \\\n",
              "128407                          NaN            1       Individual   \n",
              "128408                          NaN            1       Individual   \n",
              "128409                          NaN            1       Individual   \n",
              "128410                         53.0            1       Individual   \n",
              "128411                         25.0            1       Individual   \n",
              "\n",
              "        annual_inc_joint  dti_joint verification_status_joint  acc_now_delinq  \\\n",
              "128407               NaN        NaN                       NaN               0   \n",
              "128408               NaN        NaN                       NaN               0   \n",
              "128409               NaN        NaN                       NaN               0   \n",
              "128410               NaN        NaN                       NaN               0   \n",
              "128411               NaN        NaN                       NaN               0   \n",
              "\n",
              "        tot_coll_amt  tot_cur_bal  open_acc_6m  open_act_il  open_il_12m  \\\n",
              "128407             0       259658            4            2            3   \n",
              "128408           155        77424            0            1            0   \n",
              "128409          1413        69785            0            2            0   \n",
              "128410           520        16440            3            1            1   \n",
              "128411             0        59194            0           15            1   \n",
              "\n",
              "        open_il_24m  mths_since_rcnt_il  total_bal_il  il_util  open_rv_12m  \\\n",
              "128407            3                 6.0         18149     86.0            4   \n",
              "128408            0                34.0           200     10.0            1   \n",
              "128409            1                16.0          2379     40.0            3   \n",
              "128410            1                 2.0         10171    100.0            2   \n",
              "128411            1                12.0         57252     85.0            0   \n",
              "\n",
              "        open_rv_24m  max_bal_bc  all_util  total_rev_hi_lim  inq_fi  \\\n",
              "128407            6       12843      56.0             51500       2   \n",
              "128408            1        1866      42.0             15200       2   \n",
              "128409            4        1826      32.0              9500       0   \n",
              "128410            5         404      28.0             47700       0   \n",
              "128411            0        1942      80.0              6300       0   \n",
              "\n",
              "        total_cu_tl  inq_last_12m  acc_open_past_24mths  avg_cur_bal  \\\n",
              "128407            2             5                    11      21638.0   \n",
              "128408            0             0                     2       7039.0   \n",
              "128409            0             1                     5       8723.0   \n",
              "128410            3             5                     6       1265.0   \n",
              "128411            5             0                     1       3482.0   \n",
              "\n",
              "        bc_open_to_buy  bc_util  chargeoff_within_12_mths  delinq_amnt  \\\n",
              "128407         26321.0     44.1                         0            0   \n",
              "128408          4537.0     50.1                         0            0   \n",
              "128409          1174.0     60.9                         0            0   \n",
              "128410         20037.0      2.3                         0            0   \n",
              "128411          2058.0     48.5                         0            0   \n",
              "\n",
              "        mo_sin_old_il_acct  mo_sin_old_rev_tl_op  mo_sin_rcnt_rev_tl_op  \\\n",
              "128407                12.0                   397                      4   \n",
              "128408                34.0                   434                     11   \n",
              "128409               147.0                    85                      9   \n",
              "128410                61.0                   119                      1   \n",
              "128411               144.0                   142                     40   \n",
              "\n",
              "        mo_sin_rcnt_tl  mort_acc  mths_since_recent_bc  \\\n",
              "128407               4         6                   5.0   \n",
              "128408              11         3                  11.0   \n",
              "128409               9         2                  10.0   \n",
              "128410               1         0                   1.0   \n",
              "128411              12         0                 131.0   \n",
              "\n",
              "        mths_since_recent_bc_dlq  mths_since_recent_inq  \\\n",
              "128407                      22.0                    4.0   \n",
              "128408                       6.0                   17.0   \n",
              "128409                      21.0                    9.0   \n",
              "128410                       NaN                    1.0   \n",
              "128411                      30.0                    NaN   \n",
              "\n",
              "        mths_since_recent_revol_delinq  num_accts_ever_120_pd  num_actv_bc_tl  \\\n",
              "128407                            22.0                      0               4   \n",
              "128408                             6.0                      0               3   \n",
              "128409                            21.0                      0               1   \n",
              "128410                            40.0                      1               2   \n",
              "128411                            30.0                      3               1   \n",
              "\n",
              "        num_actv_rev_tl  num_bc_sats  num_bc_tl  num_il_tl  num_op_rev_tl  \\\n",
              "128407                5            7         14          3              9   \n",
              "128408                5            5          6          1              8   \n",
              "128409                3            2          2          6              6   \n",
              "128410                4            6          8          3             14   \n",
              "128411                1            1          5         22              2   \n",
              "\n",
              "        num_rev_accts  num_rev_tl_bal_gt_0  num_sats  num_tl_120dpd_2m  \\\n",
              "128407             19                    5        12               0.0   \n",
              "128408             11                    5        11               0.0   \n",
              "128409              7                    3         9               0.0   \n",
              "128410             22                    4        15               0.0   \n",
              "128411              9                    1        17               0.0   \n",
              "\n",
              "        num_tl_30dpd  num_tl_90g_dpd_24m  num_tl_op_past_12m  pct_tl_nvr_dlq  \\\n",
              "128407             0                   0                   7            96.4   \n",
              "128408             0                   0                   1            73.3   \n",
              "128409             0                   0                   3            92.9   \n",
              "128410             0                   0                   3            92.0   \n",
              "128411             0                   0                   1            74.2   \n",
              "\n",
              "        percent_bc_gt_75  pub_rec_bankruptcies  tax_liens  tot_hi_cred_lim  \\\n",
              "128407              14.3                     0          0           296500   \n",
              "128408              40.0                     0          0            91403   \n",
              "128409              50.0                     0          0            93908   \n",
              "128410               0.0                     0          0            57871   \n",
              "128411               0.0                     0          0            73669   \n",
              "\n",
              "        total_bal_ex_mort  total_bc_limit  total_il_high_credit_limit  \\\n",
              "128407              40614           47100                       21000   \n",
              "128408               9323            9100                        2000   \n",
              "128409               4976            3000                        6028   \n",
              "128410              16440           20500                       10171   \n",
              "128411              59194            4000                       67369   \n",
              "\n",
              "        revol_bal_joint sec_app_earliest_cr_line  sec_app_inq_last_6mths  \\\n",
              "128407              NaN                      NaN                     NaN   \n",
              "128408              NaN                      NaN                     NaN   \n",
              "128409              NaN                      NaN                     NaN   \n",
              "128410              NaN                      NaN                     NaN   \n",
              "128411              NaN                      NaN                     NaN   \n",
              "\n",
              "        sec_app_mort_acc  sec_app_open_acc  sec_app_revol_util  \\\n",
              "128407               NaN               NaN                 NaN   \n",
              "128408               NaN               NaN                 NaN   \n",
              "128409               NaN               NaN                 NaN   \n",
              "128410               NaN               NaN                 NaN   \n",
              "128411               NaN               NaN                 NaN   \n",
              "\n",
              "        sec_app_open_act_il  sec_app_num_rev_accts  \\\n",
              "128407                  NaN                    NaN   \n",
              "128408                  NaN                    NaN   \n",
              "128409                  NaN                    NaN   \n",
              "128410                  NaN                    NaN   \n",
              "128411                  NaN                    NaN   \n",
              "\n",
              "        sec_app_chargeoff_within_12_mths  sec_app_collections_12_mths_ex_med  \\\n",
              "128407                               NaN                                 NaN   \n",
              "128408                               NaN                                 NaN   \n",
              "128409                               NaN                                 NaN   \n",
              "128410                               NaN                                 NaN   \n",
              "128411                               NaN                                 NaN   \n",
              "\n",
              "        sec_app_mths_since_last_major_derog hardship_flag hardship_type  \\\n",
              "128407                                  NaN             N           NaN   \n",
              "128408                                  NaN             N           NaN   \n",
              "128409                                  NaN             N           NaN   \n",
              "128410                                  NaN             N           NaN   \n",
              "128411                                  NaN             N           NaN   \n",
              "\n",
              "       hardship_reason hardship_status  deferral_term  hardship_amount  \\\n",
              "128407             NaN             NaN            NaN              NaN   \n",
              "128408             NaN             NaN            NaN              NaN   \n",
              "128409             NaN             NaN            NaN              NaN   \n",
              "128410             NaN             NaN            NaN              NaN   \n",
              "128411             NaN             NaN            NaN              NaN   \n",
              "\n",
              "       hardship_start_date hardship_end_date payment_plan_start_date  \\\n",
              "128407                 NaN               NaN                     NaN   \n",
              "128408                 NaN               NaN                     NaN   \n",
              "128409                 NaN               NaN                     NaN   \n",
              "128410                 NaN               NaN                     NaN   \n",
              "128411                 NaN               NaN                     NaN   \n",
              "\n",
              "        hardship_length  hardship_dpd hardship_loan_status  \\\n",
              "128407              NaN           NaN                  NaN   \n",
              "128408              NaN           NaN                  NaN   \n",
              "128409              NaN           NaN                  NaN   \n",
              "128410              NaN           NaN                  NaN   \n",
              "128411              NaN           NaN                  NaN   \n",
              "\n",
              "        orig_projected_additional_accrued_interest  \\\n",
              "128407                                         NaN   \n",
              "128408                                         NaN   \n",
              "128409                                         NaN   \n",
              "128410                                         NaN   \n",
              "128411                                         NaN   \n",
              "\n",
              "        hardship_payoff_balance_amount  hardship_last_payment_amount  \\\n",
              "128407                             NaN                           NaN   \n",
              "128408                             NaN                           NaN   \n",
              "128409                             NaN                           NaN   \n",
              "128410                             NaN                           NaN   \n",
              "128411                             NaN                           NaN   \n",
              "\n",
              "       disbursement_method debt_settlement_flag debt_settlement_flag_date  \\\n",
              "128407                Cash                    N                       NaN   \n",
              "128408                Cash                    N                       NaN   \n",
              "128409                Cash                    N                       NaN   \n",
              "128410                Cash                    N                       NaN   \n",
              "128411                Cash                    N                       NaN   \n",
              "\n",
              "       settlement_status settlement_date  settlement_amount  \\\n",
              "128407               NaN             NaN                NaN   \n",
              "128408               NaN             NaN                NaN   \n",
              "128409               NaN             NaN                NaN   \n",
              "128410               NaN             NaN                NaN   \n",
              "128411               NaN             NaN                NaN   \n",
              "\n",
              "        settlement_percentage  settlement_term  \n",
              "128407                    NaN              NaN  \n",
              "128408                    NaN              NaN  \n",
              "128409                    NaN              NaN  \n",
              "128410                    NaN              NaN  \n",
              "128411                    NaN              NaN  "
            ]
          },
          "metadata": {
            "tags": []
          },
          "execution_count": 38
        }
      ]
    },
    {
      "metadata": {
        "colab_type": "text",
        "id": "1b5_hMTio2Ly"
      },
      "cell_type": "markdown",
      "source": [
        "## Work with strings"
      ]
    },
    {
      "metadata": {
        "id": "E0p5EblHDb3i",
        "colab_type": "text"
      },
      "cell_type": "markdown",
      "source": [
        "For machine learning, we usually want to replace strings with numbers.\n",
        "\n",
        "We can get info about which columns have a datatype of \"object\" (strings)"
      ]
    },
    {
      "metadata": {
        "colab_type": "code",
        "id": "WOL7QPVNo3F4",
        "colab": {
          "base_uri": "https://localhost:8080/",
          "height": 264
        },
        "outputId": "e6939aa4-da32-4b64-b0cf-1d1dace30320"
      },
      "cell_type": "code",
      "source": [
        "df.describe(exclude='number')"
      ],
      "execution_count": 39,
      "outputs": [
        {
          "output_type": "execute_result",
          "data": {
            "text/html": [
              "<div>\n",
              "<style scoped>\n",
              "    .dataframe tbody tr th:only-of-type {\n",
              "        vertical-align: middle;\n",
              "    }\n",
              "\n",
              "    .dataframe tbody tr th {\n",
              "        vertical-align: top;\n",
              "    }\n",
              "\n",
              "    .dataframe thead th {\n",
              "        text-align: right;\n",
              "    }\n",
              "</style>\n",
              "<table border=\"1\" class=\"dataframe\">\n",
              "  <thead>\n",
              "    <tr style=\"text-align: right;\">\n",
              "      <th></th>\n",
              "      <th>term</th>\n",
              "      <th>int_rate</th>\n",
              "      <th>grade</th>\n",
              "      <th>sub_grade</th>\n",
              "      <th>emp_title</th>\n",
              "      <th>emp_length</th>\n",
              "      <th>home_ownership</th>\n",
              "      <th>verification_status</th>\n",
              "      <th>issue_d</th>\n",
              "      <th>loan_status</th>\n",
              "      <th>pymnt_plan</th>\n",
              "      <th>purpose</th>\n",
              "      <th>title</th>\n",
              "      <th>zip_code</th>\n",
              "      <th>addr_state</th>\n",
              "      <th>earliest_cr_line</th>\n",
              "      <th>revol_util</th>\n",
              "      <th>initial_list_status</th>\n",
              "      <th>last_pymnt_d</th>\n",
              "      <th>next_pymnt_d</th>\n",
              "      <th>last_credit_pull_d</th>\n",
              "      <th>application_type</th>\n",
              "      <th>verification_status_joint</th>\n",
              "      <th>sec_app_earliest_cr_line</th>\n",
              "      <th>hardship_flag</th>\n",
              "      <th>hardship_type</th>\n",
              "      <th>hardship_reason</th>\n",
              "      <th>hardship_status</th>\n",
              "      <th>hardship_start_date</th>\n",
              "      <th>hardship_end_date</th>\n",
              "      <th>payment_plan_start_date</th>\n",
              "      <th>hardship_loan_status</th>\n",
              "      <th>disbursement_method</th>\n",
              "      <th>debt_settlement_flag</th>\n",
              "      <th>debt_settlement_flag_date</th>\n",
              "      <th>settlement_status</th>\n",
              "      <th>settlement_date</th>\n",
              "    </tr>\n",
              "  </thead>\n",
              "  <tbody>\n",
              "    <tr>\n",
              "      <th>count</th>\n",
              "      <td>128412</td>\n",
              "      <td>128412</td>\n",
              "      <td>128412</td>\n",
              "      <td>128412</td>\n",
              "      <td>107465</td>\n",
              "      <td>116708</td>\n",
              "      <td>128412</td>\n",
              "      <td>128412</td>\n",
              "      <td>128412</td>\n",
              "      <td>128412</td>\n",
              "      <td>128412</td>\n",
              "      <td>128412</td>\n",
              "      <td>128412</td>\n",
              "      <td>128412</td>\n",
              "      <td>128412</td>\n",
              "      <td>128412</td>\n",
              "      <td>128256</td>\n",
              "      <td>128412</td>\n",
              "      <td>128250</td>\n",
              "      <td>124941</td>\n",
              "      <td>128411</td>\n",
              "      <td>128412</td>\n",
              "      <td>14848</td>\n",
              "      <td>16782</td>\n",
              "      <td>128412</td>\n",
              "      <td>1</td>\n",
              "      <td>1</td>\n",
              "      <td>1</td>\n",
              "      <td>1</td>\n",
              "      <td>1</td>\n",
              "      <td>1</td>\n",
              "      <td>1</td>\n",
              "      <td>128412</td>\n",
              "      <td>128412</td>\n",
              "      <td>2</td>\n",
              "      <td>2</td>\n",
              "      <td>2</td>\n",
              "    </tr>\n",
              "    <tr>\n",
              "      <th>unique</th>\n",
              "      <td>2</td>\n",
              "      <td>46</td>\n",
              "      <td>7</td>\n",
              "      <td>35</td>\n",
              "      <td>43892</td>\n",
              "      <td>11</td>\n",
              "      <td>4</td>\n",
              "      <td>3</td>\n",
              "      <td>3</td>\n",
              "      <td>6</td>\n",
              "      <td>2</td>\n",
              "      <td>12</td>\n",
              "      <td>12</td>\n",
              "      <td>880</td>\n",
              "      <td>50</td>\n",
              "      <td>644</td>\n",
              "      <td>1074</td>\n",
              "      <td>2</td>\n",
              "      <td>5</td>\n",
              "      <td>3</td>\n",
              "      <td>7</td>\n",
              "      <td>2</td>\n",
              "      <td>3</td>\n",
              "      <td>573</td>\n",
              "      <td>2</td>\n",
              "      <td>1</td>\n",
              "      <td>1</td>\n",
              "      <td>1</td>\n",
              "      <td>1</td>\n",
              "      <td>1</td>\n",
              "      <td>1</td>\n",
              "      <td>1</td>\n",
              "      <td>2</td>\n",
              "      <td>2</td>\n",
              "      <td>1</td>\n",
              "      <td>1</td>\n",
              "      <td>1</td>\n",
              "    </tr>\n",
              "    <tr>\n",
              "      <th>top</th>\n",
              "      <td>36 months</td>\n",
              "      <td>13.56%</td>\n",
              "      <td>A</td>\n",
              "      <td>A4</td>\n",
              "      <td>Teacher</td>\n",
              "      <td>10+ years</td>\n",
              "      <td>MORTGAGE</td>\n",
              "      <td>Not Verified</td>\n",
              "      <td>Oct-2018</td>\n",
              "      <td>Current</td>\n",
              "      <td>n</td>\n",
              "      <td>debt_consolidation</td>\n",
              "      <td>Debt consolidation</td>\n",
              "      <td>112xx</td>\n",
              "      <td>CA</td>\n",
              "      <td>Aug-2006</td>\n",
              "      <td>0%</td>\n",
              "      <td>w</td>\n",
              "      <td>Feb-2019</td>\n",
              "      <td>Mar-2019</td>\n",
              "      <td>Feb-2019</td>\n",
              "      <td>Individual</td>\n",
              "      <td>Not Verified</td>\n",
              "      <td>Aug-2006</td>\n",
              "      <td>N</td>\n",
              "      <td>INTEREST ONLY-3 MONTHS DEFERRAL</td>\n",
              "      <td>UNEMPLOYMENT</td>\n",
              "      <td>ACTIVE</td>\n",
              "      <td>Feb-2019</td>\n",
              "      <td>Apr-2019</td>\n",
              "      <td>Feb-2019</td>\n",
              "      <td>Late (16-30 days)</td>\n",
              "      <td>Cash</td>\n",
              "      <td>N</td>\n",
              "      <td>Feb-2019</td>\n",
              "      <td>ACTIVE</td>\n",
              "      <td>Feb-2019</td>\n",
              "    </tr>\n",
              "    <tr>\n",
              "      <th>freq</th>\n",
              "      <td>88179</td>\n",
              "      <td>6976</td>\n",
              "      <td>38011</td>\n",
              "      <td>9770</td>\n",
              "      <td>2090</td>\n",
              "      <td>38826</td>\n",
              "      <td>63490</td>\n",
              "      <td>58350</td>\n",
              "      <td>46305</td>\n",
              "      <td>123768</td>\n",
              "      <td>128411</td>\n",
              "      <td>70603</td>\n",
              "      <td>70603</td>\n",
              "      <td>1370</td>\n",
              "      <td>17879</td>\n",
              "      <td>1130</td>\n",
              "      <td>1132</td>\n",
              "      <td>114498</td>\n",
              "      <td>123797</td>\n",
              "      <td>124903</td>\n",
              "      <td>125061</td>\n",
              "      <td>111630</td>\n",
              "      <td>6360</td>\n",
              "      <td>155</td>\n",
              "      <td>128411</td>\n",
              "      <td>1</td>\n",
              "      <td>1</td>\n",
              "      <td>1</td>\n",
              "      <td>1</td>\n",
              "      <td>1</td>\n",
              "      <td>1</td>\n",
              "      <td>1</td>\n",
              "      <td>102516</td>\n",
              "      <td>128410</td>\n",
              "      <td>2</td>\n",
              "      <td>2</td>\n",
              "      <td>2</td>\n",
              "    </tr>\n",
              "  </tbody>\n",
              "</table>\n",
              "</div>"
            ],
            "text/plain": [
              "              term int_rate   grade sub_grade emp_title emp_length  \\\n",
              "count       128412   128412  128412    128412    107465     116708   \n",
              "unique           2       46       7        35     43892         11   \n",
              "top      36 months   13.56%       A        A4   Teacher  10+ years   \n",
              "freq         88179     6976   38011      9770      2090      38826   \n",
              "\n",
              "       home_ownership verification_status   issue_d loan_status pymnt_plan  \\\n",
              "count          128412              128412    128412      128412     128412   \n",
              "unique              4                   3         3           6          2   \n",
              "top          MORTGAGE        Not Verified  Oct-2018     Current          n   \n",
              "freq            63490               58350     46305      123768     128411   \n",
              "\n",
              "                   purpose               title zip_code addr_state  \\\n",
              "count               128412              128412   128412     128412   \n",
              "unique                  12                  12      880         50   \n",
              "top     debt_consolidation  Debt consolidation    112xx         CA   \n",
              "freq                 70603               70603     1370      17879   \n",
              "\n",
              "       earliest_cr_line revol_util initial_list_status last_pymnt_d  \\\n",
              "count            128412     128256              128412       128250   \n",
              "unique              644       1074                   2            5   \n",
              "top            Aug-2006         0%                   w     Feb-2019   \n",
              "freq               1130       1132              114498       123797   \n",
              "\n",
              "       next_pymnt_d last_credit_pull_d application_type  \\\n",
              "count        124941             128411           128412   \n",
              "unique            3                  7                2   \n",
              "top        Mar-2019           Feb-2019       Individual   \n",
              "freq         124903             125061           111630   \n",
              "\n",
              "       verification_status_joint sec_app_earliest_cr_line hardship_flag  \\\n",
              "count                      14848                    16782        128412   \n",
              "unique                         3                      573             2   \n",
              "top                 Not Verified                 Aug-2006             N   \n",
              "freq                        6360                      155        128411   \n",
              "\n",
              "                          hardship_type hardship_reason hardship_status  \\\n",
              "count                                 1               1               1   \n",
              "unique                                1               1               1   \n",
              "top     INTEREST ONLY-3 MONTHS DEFERRAL    UNEMPLOYMENT          ACTIVE   \n",
              "freq                                  1               1               1   \n",
              "\n",
              "       hardship_start_date hardship_end_date payment_plan_start_date  \\\n",
              "count                    1                 1                       1   \n",
              "unique                   1                 1                       1   \n",
              "top               Feb-2019          Apr-2019                Feb-2019   \n",
              "freq                     1                 1                       1   \n",
              "\n",
              "       hardship_loan_status disbursement_method debt_settlement_flag  \\\n",
              "count                     1              128412               128412   \n",
              "unique                    1                   2                    2   \n",
              "top       Late (16-30 days)                Cash                    N   \n",
              "freq                      1              102516               128410   \n",
              "\n",
              "       debt_settlement_flag_date settlement_status settlement_date  \n",
              "count                          2                 2               2  \n",
              "unique                         1                 1               1  \n",
              "top                     Feb-2019            ACTIVE        Feb-2019  \n",
              "freq                           2                 2               2  "
            ]
          },
          "metadata": {
            "tags": []
          },
          "execution_count": 39
        }
      ]
    },
    {
      "metadata": {
        "id": "hrMhb3q1Db3m",
        "colab_type": "text"
      },
      "cell_type": "markdown",
      "source": [
        "### Convert `int_rate`\n",
        "\n",
        "Define a function to remove percent signs from strings and convert to floats"
      ]
    },
    {
      "metadata": {
        "id": "TvtD36iMDb3n",
        "colab_type": "code",
        "colab": {
          "base_uri": "https://localhost:8080/",
          "height": 34
        },
        "outputId": "6b1b3d66-cb25-4b60-ff83-8c6f1d619764"
      },
      "cell_type": "code",
      "source": [
        "'13.56%'.strip('%')"
      ],
      "execution_count": 40,
      "outputs": [
        {
          "output_type": "execute_result",
          "data": {
            "text/plain": [
              "'13.56'"
            ]
          },
          "metadata": {
            "tags": []
          },
          "execution_count": 40
        }
      ]
    },
    {
      "metadata": {
        "id": "iH9yRJ0zi-Yl",
        "colab_type": "code",
        "colab": {
          "base_uri": "https://localhost:8080/",
          "height": 34
        },
        "outputId": "5f644a24-ce20-4478-df12-4518583e72c2"
      },
      "cell_type": "code",
      "source": [
        "type('13.56%'.strip('%'))"
      ],
      "execution_count": 41,
      "outputs": [
        {
          "output_type": "execute_result",
          "data": {
            "text/plain": [
              "str"
            ]
          },
          "metadata": {
            "tags": []
          },
          "execution_count": 41
        }
      ]
    },
    {
      "metadata": {
        "id": "o7-HjEPqi-e6",
        "colab_type": "code",
        "colab": {
          "base_uri": "https://localhost:8080/",
          "height": 34
        },
        "outputId": "897b2229-fb16-425b-e1b6-d65628a17c0e"
      },
      "cell_type": "code",
      "source": [
        "float('13.56%'.strip('%'))"
      ],
      "execution_count": 42,
      "outputs": [
        {
          "output_type": "execute_result",
          "data": {
            "text/plain": [
              "13.56"
            ]
          },
          "metadata": {
            "tags": []
          },
          "execution_count": 42
        }
      ]
    },
    {
      "metadata": {
        "id": "knhDhJzSi-l-",
        "colab_type": "code",
        "colab": {
          "base_uri": "https://localhost:8080/",
          "height": 34
        },
        "outputId": "22a5e0bb-a6ce-4c0d-bb21-95afb5e07e2c"
      },
      "cell_type": "code",
      "source": [
        "type(float('13.56%'.strip('%')))"
      ],
      "execution_count": 43,
      "outputs": [
        {
          "output_type": "execute_result",
          "data": {
            "text/plain": [
              "float"
            ]
          },
          "metadata": {
            "tags": []
          },
          "execution_count": 43
        }
      ]
    },
    {
      "metadata": {
        "id": "rKyE-CRWi-tR",
        "colab_type": "code",
        "colab": {}
      },
      "cell_type": "code",
      "source": [
        "df['int_rate'] = df['int_rate'].str.strip('%').astype(float)"
      ],
      "execution_count": 0,
      "outputs": []
    },
    {
      "metadata": {
        "id": "qNX_tcNyi-00",
        "colab_type": "code",
        "colab": {
          "base_uri": "https://localhost:8080/",
          "height": 119
        },
        "outputId": "1efea9c4-a02d-41a6-a5dd-b92fb5147aa8"
      },
      "cell_type": "code",
      "source": [
        "(df['int_rate'] / 100).head()"
      ],
      "execution_count": 45,
      "outputs": [
        {
          "output_type": "execute_result",
          "data": {
            "text/plain": [
              "0    0.1356\n",
              "1    0.1894\n",
              "2    0.1797\n",
              "3    0.1894\n",
              "4    0.1614\n",
              "Name: int_rate, dtype: float64"
            ]
          },
          "metadata": {
            "tags": []
          },
          "execution_count": 45
        }
      ]
    },
    {
      "metadata": {
        "id": "GWAzdG2Si-8X",
        "colab_type": "code",
        "colab": {
          "base_uri": "https://localhost:8080/",
          "height": 34
        },
        "outputId": "8f46fccf-bb71-4923-e9e9-f233bef35d8b"
      },
      "cell_type": "code",
      "source": [
        "string = '13.56%'\n",
        "\n",
        "def remove_percent(string):\n",
        "    return float(string.strip('%'))\n",
        "\n",
        "remove_percent(string)"
      ],
      "execution_count": 46,
      "outputs": [
        {
          "output_type": "execute_result",
          "data": {
            "text/plain": [
              "13.56"
            ]
          },
          "metadata": {
            "tags": []
          },
          "execution_count": 46
        }
      ]
    },
    {
      "metadata": {
        "id": "q2hByptfDb3p",
        "colab_type": "text"
      },
      "cell_type": "markdown",
      "source": [
        "Apply the function to the `int_rate` column"
      ]
    },
    {
      "metadata": {
        "id": "ZFFRDCLYDb3p",
        "colab_type": "code",
        "colab": {
          "base_uri": "https://localhost:8080/",
          "height": 436
        },
        "outputId": "41b76dcd-1e7d-4202-91ca-c6074b264042"
      },
      "cell_type": "code",
      "source": [
        "df['int_rate'] = df['int_rate'].apply(remove_percent)"
      ],
      "execution_count": 48,
      "outputs": [
        {
          "output_type": "error",
          "ename": "AttributeError",
          "evalue": "ignored",
          "traceback": [
            "\u001b[0;31m---------------------------------------------------------------------------\u001b[0m",
            "\u001b[0;31mAttributeError\u001b[0m                            Traceback (most recent call last)",
            "\u001b[0;32m<ipython-input-48-23385466cb20>\u001b[0m in \u001b[0;36m<module>\u001b[0;34m()\u001b[0m\n\u001b[0;32m----> 1\u001b[0;31m \u001b[0mdf\u001b[0m\u001b[0;34m[\u001b[0m\u001b[0;34m'int_rate'\u001b[0m\u001b[0;34m]\u001b[0m \u001b[0;34m=\u001b[0m \u001b[0mdf\u001b[0m\u001b[0;34m[\u001b[0m\u001b[0;34m'int_rate'\u001b[0m\u001b[0;34m]\u001b[0m\u001b[0;34m.\u001b[0m\u001b[0mapply\u001b[0m\u001b[0;34m(\u001b[0m\u001b[0mremove_percent\u001b[0m\u001b[0;34m)\u001b[0m\u001b[0;34m\u001b[0m\u001b[0;34m\u001b[0m\u001b[0m\n\u001b[0m",
            "\u001b[0;32m/usr/local/lib/python3.6/dist-packages/pandas/core/series.py\u001b[0m in \u001b[0;36mapply\u001b[0;34m(self, func, convert_dtype, args, **kwds)\u001b[0m\n\u001b[1;32m   2549\u001b[0m             \u001b[0;32melse\u001b[0m\u001b[0;34m:\u001b[0m\u001b[0;34m\u001b[0m\u001b[0;34m\u001b[0m\u001b[0m\n\u001b[1;32m   2550\u001b[0m                 \u001b[0mvalues\u001b[0m \u001b[0;34m=\u001b[0m \u001b[0mself\u001b[0m\u001b[0;34m.\u001b[0m\u001b[0masobject\u001b[0m\u001b[0;34m\u001b[0m\u001b[0;34m\u001b[0m\u001b[0m\n\u001b[0;32m-> 2551\u001b[0;31m                 \u001b[0mmapped\u001b[0m \u001b[0;34m=\u001b[0m \u001b[0mlib\u001b[0m\u001b[0;34m.\u001b[0m\u001b[0mmap_infer\u001b[0m\u001b[0;34m(\u001b[0m\u001b[0mvalues\u001b[0m\u001b[0;34m,\u001b[0m \u001b[0mf\u001b[0m\u001b[0;34m,\u001b[0m \u001b[0mconvert\u001b[0m\u001b[0;34m=\u001b[0m\u001b[0mconvert_dtype\u001b[0m\u001b[0;34m)\u001b[0m\u001b[0;34m\u001b[0m\u001b[0;34m\u001b[0m\u001b[0m\n\u001b[0m\u001b[1;32m   2552\u001b[0m \u001b[0;34m\u001b[0m\u001b[0m\n\u001b[1;32m   2553\u001b[0m         \u001b[0;32mif\u001b[0m \u001b[0mlen\u001b[0m\u001b[0;34m(\u001b[0m\u001b[0mmapped\u001b[0m\u001b[0;34m)\u001b[0m \u001b[0;32mand\u001b[0m \u001b[0misinstance\u001b[0m\u001b[0;34m(\u001b[0m\u001b[0mmapped\u001b[0m\u001b[0;34m[\u001b[0m\u001b[0;36m0\u001b[0m\u001b[0;34m]\u001b[0m\u001b[0;34m,\u001b[0m \u001b[0mSeries\u001b[0m\u001b[0;34m)\u001b[0m\u001b[0;34m:\u001b[0m\u001b[0;34m\u001b[0m\u001b[0;34m\u001b[0m\u001b[0m\n",
            "\u001b[0;32mpandas/_libs/src/inference.pyx\u001b[0m in \u001b[0;36mpandas._libs.lib.map_infer\u001b[0;34m()\u001b[0m\n",
            "\u001b[0;32m<ipython-input-46-e61f629af2c0>\u001b[0m in \u001b[0;36mremove_percent\u001b[0;34m(string)\u001b[0m\n\u001b[1;32m      2\u001b[0m \u001b[0;34m\u001b[0m\u001b[0m\n\u001b[1;32m      3\u001b[0m \u001b[0;32mdef\u001b[0m \u001b[0mremove_percent\u001b[0m\u001b[0;34m(\u001b[0m\u001b[0mstring\u001b[0m\u001b[0;34m)\u001b[0m\u001b[0;34m:\u001b[0m\u001b[0;34m\u001b[0m\u001b[0;34m\u001b[0m\u001b[0m\n\u001b[0;32m----> 4\u001b[0;31m     \u001b[0;32mreturn\u001b[0m \u001b[0mfloat\u001b[0m\u001b[0;34m(\u001b[0m\u001b[0mstring\u001b[0m\u001b[0;34m.\u001b[0m\u001b[0mstrip\u001b[0m\u001b[0;34m(\u001b[0m\u001b[0;34m'%'\u001b[0m\u001b[0;34m)\u001b[0m\u001b[0;34m)\u001b[0m\u001b[0;34m\u001b[0m\u001b[0;34m\u001b[0m\u001b[0m\n\u001b[0m\u001b[1;32m      5\u001b[0m \u001b[0;34m\u001b[0m\u001b[0m\n\u001b[1;32m      6\u001b[0m \u001b[0mremove_percent\u001b[0m\u001b[0;34m(\u001b[0m\u001b[0mstring\u001b[0m\u001b[0;34m)\u001b[0m\u001b[0;34m\u001b[0m\u001b[0;34m\u001b[0m\u001b[0m\n",
            "\u001b[0;31mAttributeError\u001b[0m: 'float' object has no attribute 'strip'"
          ]
        }
      ]
    },
    {
      "metadata": {
        "id": "yR6R-L51jNDL",
        "colab_type": "code",
        "colab": {
          "base_uri": "https://localhost:8080/",
          "height": 436
        },
        "outputId": "53986666-ff64-4ae8-b4fa-36783763643a"
      },
      "cell_type": "code",
      "source": [
        "df['int_rate'].apply(remove_percent)"
      ],
      "execution_count": 49,
      "outputs": [
        {
          "output_type": "error",
          "ename": "AttributeError",
          "evalue": "ignored",
          "traceback": [
            "\u001b[0;31m---------------------------------------------------------------------------\u001b[0m",
            "\u001b[0;31mAttributeError\u001b[0m                            Traceback (most recent call last)",
            "\u001b[0;32m<ipython-input-49-efdc8f287f48>\u001b[0m in \u001b[0;36m<module>\u001b[0;34m()\u001b[0m\n\u001b[0;32m----> 1\u001b[0;31m \u001b[0mdf\u001b[0m\u001b[0;34m[\u001b[0m\u001b[0;34m'int_rate'\u001b[0m\u001b[0;34m]\u001b[0m\u001b[0;34m.\u001b[0m\u001b[0mapply\u001b[0m\u001b[0;34m(\u001b[0m\u001b[0mremove_percent\u001b[0m\u001b[0;34m)\u001b[0m\u001b[0;34m\u001b[0m\u001b[0;34m\u001b[0m\u001b[0m\n\u001b[0m",
            "\u001b[0;32m/usr/local/lib/python3.6/dist-packages/pandas/core/series.py\u001b[0m in \u001b[0;36mapply\u001b[0;34m(self, func, convert_dtype, args, **kwds)\u001b[0m\n\u001b[1;32m   2549\u001b[0m             \u001b[0;32melse\u001b[0m\u001b[0;34m:\u001b[0m\u001b[0;34m\u001b[0m\u001b[0;34m\u001b[0m\u001b[0m\n\u001b[1;32m   2550\u001b[0m                 \u001b[0mvalues\u001b[0m \u001b[0;34m=\u001b[0m \u001b[0mself\u001b[0m\u001b[0;34m.\u001b[0m\u001b[0masobject\u001b[0m\u001b[0;34m\u001b[0m\u001b[0;34m\u001b[0m\u001b[0m\n\u001b[0;32m-> 2551\u001b[0;31m                 \u001b[0mmapped\u001b[0m \u001b[0;34m=\u001b[0m \u001b[0mlib\u001b[0m\u001b[0;34m.\u001b[0m\u001b[0mmap_infer\u001b[0m\u001b[0;34m(\u001b[0m\u001b[0mvalues\u001b[0m\u001b[0;34m,\u001b[0m \u001b[0mf\u001b[0m\u001b[0;34m,\u001b[0m \u001b[0mconvert\u001b[0m\u001b[0;34m=\u001b[0m\u001b[0mconvert_dtype\u001b[0m\u001b[0;34m)\u001b[0m\u001b[0;34m\u001b[0m\u001b[0;34m\u001b[0m\u001b[0m\n\u001b[0m\u001b[1;32m   2552\u001b[0m \u001b[0;34m\u001b[0m\u001b[0m\n\u001b[1;32m   2553\u001b[0m         \u001b[0;32mif\u001b[0m \u001b[0mlen\u001b[0m\u001b[0;34m(\u001b[0m\u001b[0mmapped\u001b[0m\u001b[0;34m)\u001b[0m \u001b[0;32mand\u001b[0m \u001b[0misinstance\u001b[0m\u001b[0;34m(\u001b[0m\u001b[0mmapped\u001b[0m\u001b[0;34m[\u001b[0m\u001b[0;36m0\u001b[0m\u001b[0;34m]\u001b[0m\u001b[0;34m,\u001b[0m \u001b[0mSeries\u001b[0m\u001b[0;34m)\u001b[0m\u001b[0;34m:\u001b[0m\u001b[0;34m\u001b[0m\u001b[0;34m\u001b[0m\u001b[0m\n",
            "\u001b[0;32mpandas/_libs/src/inference.pyx\u001b[0m in \u001b[0;36mpandas._libs.lib.map_infer\u001b[0;34m()\u001b[0m\n",
            "\u001b[0;32m<ipython-input-46-e61f629af2c0>\u001b[0m in \u001b[0;36mremove_percent\u001b[0;34m(string)\u001b[0m\n\u001b[1;32m      2\u001b[0m \u001b[0;34m\u001b[0m\u001b[0m\n\u001b[1;32m      3\u001b[0m \u001b[0;32mdef\u001b[0m \u001b[0mremove_percent\u001b[0m\u001b[0;34m(\u001b[0m\u001b[0mstring\u001b[0m\u001b[0;34m)\u001b[0m\u001b[0;34m:\u001b[0m\u001b[0;34m\u001b[0m\u001b[0;34m\u001b[0m\u001b[0m\n\u001b[0;32m----> 4\u001b[0;31m     \u001b[0;32mreturn\u001b[0m \u001b[0mfloat\u001b[0m\u001b[0;34m(\u001b[0m\u001b[0mstring\u001b[0m\u001b[0;34m.\u001b[0m\u001b[0mstrip\u001b[0m\u001b[0;34m(\u001b[0m\u001b[0;34m'%'\u001b[0m\u001b[0;34m)\u001b[0m\u001b[0;34m)\u001b[0m\u001b[0;34m\u001b[0m\u001b[0;34m\u001b[0m\u001b[0m\n\u001b[0m\u001b[1;32m      5\u001b[0m \u001b[0;34m\u001b[0m\u001b[0m\n\u001b[1;32m      6\u001b[0m \u001b[0mremove_percent\u001b[0m\u001b[0;34m(\u001b[0m\u001b[0mstring\u001b[0m\u001b[0;34m)\u001b[0m\u001b[0;34m\u001b[0m\u001b[0;34m\u001b[0m\u001b[0m\n",
            "\u001b[0;31mAttributeError\u001b[0m: 'float' object has no attribute 'strip'"
          ]
        }
      ]
    },
    {
      "metadata": {
        "id": "m-jzr46yDb3r",
        "colab_type": "text"
      },
      "cell_type": "markdown",
      "source": [
        "### Clean `emp_title`\n",
        "\n",
        "Look at top 20 titles"
      ]
    },
    {
      "metadata": {
        "id": "gp0oN4i9Db3s",
        "colab_type": "code",
        "colab": {
          "base_uri": "https://localhost:8080/",
          "height": 374
        },
        "outputId": "30bc00b9-d3b1-4a39-e0e8-82412c706cd3"
      },
      "cell_type": "code",
      "source": [
        "df['emp_title'].value_counts().head(20)"
      ],
      "execution_count": 50,
      "outputs": [
        {
          "output_type": "execute_result",
          "data": {
            "text/plain": [
              "Teacher                     2090\n",
              "Manager                     1773\n",
              "Registered Nurse             952\n",
              "Driver                       924\n",
              "RN                           726\n",
              "Supervisor                   697\n",
              "Sales                        580\n",
              "Project Manager              526\n",
              "General Manager              523\n",
              "Office Manager               521\n",
              "Owner                        420\n",
              "Director                     402\n",
              "Operations Manager           387\n",
              "Truck Driver                 387\n",
              "Nurse                        326\n",
              "Engineer                     325\n",
              "Sales Manager                304\n",
              "manager                      301\n",
              "Supervisor                   270\n",
              "Administrative Assistant     269\n",
              "Name: emp_title, dtype: int64"
            ]
          },
          "metadata": {
            "tags": []
          },
          "execution_count": 50
        }
      ]
    },
    {
      "metadata": {
        "id": "lC-1p8K9Db3v",
        "colab_type": "text"
      },
      "cell_type": "markdown",
      "source": [
        "How often is `emp_title` null?"
      ]
    },
    {
      "metadata": {
        "id": "YxjmcFfwDb3w",
        "colab_type": "code",
        "colab": {
          "base_uri": "https://localhost:8080/",
          "height": 34
        },
        "outputId": "19ba8149-8d0a-4028-82f6-1a380c27ed77"
      },
      "cell_type": "code",
      "source": [
        "df['emp_title'].isnull().sum()"
      ],
      "execution_count": 51,
      "outputs": [
        {
          "output_type": "execute_result",
          "data": {
            "text/plain": [
              "20947"
            ]
          },
          "metadata": {
            "tags": []
          },
          "execution_count": 51
        }
      ]
    },
    {
      "metadata": {
        "id": "KXMK3vBbDb3y",
        "colab_type": "text"
      },
      "cell_type": "markdown",
      "source": [
        "Clean the title and handle missing values"
      ]
    },
    {
      "metadata": {
        "id": "kpW9JGvDDb3z",
        "colab_type": "code",
        "colab": {
          "base_uri": "https://localhost:8080/",
          "height": 34
        },
        "outputId": "faf79564-5706-423c-b3f8-3e6fae716183"
      },
      "cell_type": "code",
      "source": [
        "import numpy as np\n",
        "\n",
        "examples = ['owner', 'Supervisor ', \n",
        "            ' Project Manager', np.nan]\n",
        "\n",
        "def clean_title(x):\n",
        "    if isinstance(x, str):\n",
        "        return x.strip().title()\n",
        "    else:\n",
        "        return 'Unknown'\n",
        "\n",
        "[clean_title(x) for x in examples]"
      ],
      "execution_count": 52,
      "outputs": [
        {
          "output_type": "execute_result",
          "data": {
            "text/plain": [
              "['Owner', 'Supervisor', 'Project Manager', 'Unknown']"
            ]
          },
          "metadata": {
            "tags": []
          },
          "execution_count": 52
        }
      ]
    },
    {
      "metadata": {
        "id": "MpKrfeeZkPBO",
        "colab_type": "code",
        "colab": {}
      },
      "cell_type": "code",
      "source": [
        "df['emp_title'] = df['emp_title'].apply(clean_title)"
      ],
      "execution_count": 0,
      "outputs": []
    },
    {
      "metadata": {
        "id": "y1p5NXfnkPIi",
        "colab_type": "code",
        "colab": {
          "base_uri": "https://localhost:8080/",
          "height": 204
        },
        "outputId": "870b0883-5fed-4dc6-bf94-35ffd71fc18f"
      },
      "cell_type": "code",
      "source": [
        "df['emp_title'].head(10)"
      ],
      "execution_count": 54,
      "outputs": [
        {
          "output_type": "execute_result",
          "data": {
            "text/plain": [
              "0                   Chef\n",
              "1             Postmaster\n",
              "2         Administrative\n",
              "3          It Supervisor\n",
              "4               Mechanic\n",
              "5           Director Coe\n",
              "6        Account Manager\n",
              "7     Assistant Director\n",
              "8    Legal Assistant Iii\n",
              "9                Unknown\n",
              "Name: emp_title, dtype: object"
            ]
          },
          "metadata": {
            "tags": []
          },
          "execution_count": 54
        }
      ]
    },
    {
      "metadata": {
        "id": "UxJjar5okPQZ",
        "colab_type": "code",
        "colab": {
          "base_uri": "https://localhost:8080/",
          "height": 374
        },
        "outputId": "f02d2aff-8808-4339-dc8b-f2ee2658a42d"
      },
      "cell_type": "code",
      "source": [
        "df['emp_title'].value_counts().head(20)"
      ],
      "execution_count": 55,
      "outputs": [
        {
          "output_type": "execute_result",
          "data": {
            "text/plain": [
              "Unknown               20947\n",
              "Teacher                2557\n",
              "Manager                2395\n",
              "Registered Nurse       1418\n",
              "Driver                 1258\n",
              "Supervisor             1160\n",
              "Truck Driver            920\n",
              "Rn                      834\n",
              "Office Manager          805\n",
              "Sales                   803\n",
              "General Manager         791\n",
              "Project Manager         720\n",
              "Owner                   625\n",
              "Director                523\n",
              "Operations Manager      518\n",
              "Sales Manager           500\n",
              "Police Officer          440\n",
              "Nurse                   425\n",
              "Technician              420\n",
              "Engineer                412\n",
              "Name: emp_title, dtype: int64"
            ]
          },
          "metadata": {
            "tags": []
          },
          "execution_count": 55
        }
      ]
    },
    {
      "metadata": {
        "id": "VzB-1eeVDb30",
        "colab_type": "text"
      },
      "cell_type": "markdown",
      "source": [
        "### Create `emp_title_manager`\n",
        "\n",
        "pandas documentation: [`str.contains`](https://pandas.pydata.org/pandas-docs/stable/generated/pandas.Series.str.contains.html)"
      ]
    },
    {
      "metadata": {
        "id": "trsXTIZckXyb",
        "colab_type": "code",
        "colab": {}
      },
      "cell_type": "code",
      "source": [
        "df['emp_title_manager'] = df['emp_title'].str.contains('Manager')"
      ],
      "execution_count": 0,
      "outputs": []
    },
    {
      "metadata": {
        "id": "7F05hWQgkX-7",
        "colab_type": "code",
        "colab": {
          "base_uri": "https://localhost:8080/",
          "height": 68
        },
        "outputId": "29fd9c38-44b6-4499-b762-59056bce1ab6"
      },
      "cell_type": "code",
      "source": [
        "df['emp_title_manager'].value_counts(normalize=True)"
      ],
      "execution_count": 57,
      "outputs": [
        {
          "output_type": "execute_result",
          "data": {
            "text/plain": [
              "False    0.860745\n",
              "True     0.139255\n",
              "Name: emp_title_manager, dtype: float64"
            ]
          },
          "metadata": {
            "tags": []
          },
          "execution_count": 57
        }
      ]
    },
    {
      "metadata": {
        "id": "xNhnHs-5kYJ0",
        "colab_type": "code",
        "colab": {
          "base_uri": "https://localhost:8080/",
          "height": 85
        },
        "outputId": "2d0344f7-5efc-44f4-b499-0f48a26a943a"
      },
      "cell_type": "code",
      "source": [
        "df.groupby('emp_title_manager')['int_rate'].mean()"
      ],
      "execution_count": 58,
      "outputs": [
        {
          "output_type": "execute_result",
          "data": {
            "text/plain": [
              "emp_title_manager\n",
              "False    12.958054\n",
              "True     12.761840\n",
              "Name: int_rate, dtype: float64"
            ]
          },
          "metadata": {
            "tags": []
          },
          "execution_count": 58
        }
      ]
    },
    {
      "metadata": {
        "id": "qFuj5gu8kYVC",
        "colab_type": "code",
        "colab": {
          "base_uri": "https://localhost:8080/",
          "height": 34
        },
        "outputId": "66add016-4fe0-40a8-b3b8-a7946992eef5"
      },
      "cell_type": "code",
      "source": [
        "df['emp_title'].nunique()"
      ],
      "execution_count": 59,
      "outputs": [
        {
          "output_type": "execute_result",
          "data": {
            "text/plain": [
              "34902"
            ]
          },
          "metadata": {
            "tags": []
          },
          "execution_count": 59
        }
      ]
    },
    {
      "metadata": {
        "id": "7YT0USNDkYdg",
        "colab_type": "code",
        "colab": {
          "base_uri": "https://localhost:8080/",
          "height": 8551
        },
        "outputId": "8f134e3c-b83b-426c-b4a4-c7965bc113a3"
      },
      "cell_type": "code",
      "source": [
        "df['emp_title'].value_counts()"
      ],
      "execution_count": 60,
      "outputs": [
        {
          "output_type": "execute_result",
          "data": {
            "text/plain": [
              "Unknown                                     20947\n",
              "Teacher                                      2557\n",
              "Manager                                      2395\n",
              "Registered Nurse                             1418\n",
              "Driver                                       1258\n",
              "Supervisor                                   1160\n",
              "Truck Driver                                  920\n",
              "Rn                                            834\n",
              "Office Manager                                805\n",
              "Sales                                         803\n",
              "General Manager                               791\n",
              "Project Manager                               720\n",
              "Owner                                         625\n",
              "Director                                      523\n",
              "Operations Manager                            518\n",
              "Sales Manager                                 500\n",
              "Police Officer                                440\n",
              "Nurse                                         425\n",
              "Technician                                    420\n",
              "Engineer                                      412\n",
              "Administrative Assistant                      409\n",
              "Store Manager                                 398\n",
              "Mechanic                                      391\n",
              "Assistant Manager                             383\n",
              "Server                                        357\n",
              "Account Manager                               355\n",
              "Vice President                                352\n",
              "Accountant                                    335\n",
              "Electrician                                   302\n",
              "Foreman                                       302\n",
              "President                                     293\n",
              "Machine Operator                              284\n",
              "Customer Service                              283\n",
              "Executive Assistant                           278\n",
              "Operator                                      267\n",
              "Branch Manager                                267\n",
              "Attorney                                      264\n",
              "Maintenance                                   254\n",
              "Paralegal                                     249\n",
              "Superintendent                                248\n",
              "Bartender                                     237\n",
              "Program Manager                               226\n",
              "Software Engineer                             221\n",
              "Cashier                                       215\n",
              "Analyst                                       214\n",
              "Medical Assistant                             212\n",
              "Machinist                                     209\n",
              "Cook                                          200\n",
              "Cna                                           196\n",
              "Sales Associate                               191\n",
              "Controller                                    187\n",
              "Service Manager                               186\n",
              "Lpn                                           185\n",
              "Clerk                                         184\n",
              "Laborer                                       183\n",
              "Director Of Operations                        179\n",
              "Nurse Practitioner                            176\n",
              "Executive Director                            174\n",
              "Security Officer                              172\n",
              "Administrator                                 171\n",
              "Business Analyst                              169\n",
              "Account Executive                             168\n",
              "Social Worker                                 165\n",
              "Secretary                                     164\n",
              "Carpenter                                     162\n",
              "Bookkeeper                                    161\n",
              "Welder                                        159\n",
              "Custodian                                     157\n",
              "District Manager                              157\n",
              "Principal                                     153\n",
              "Ceo                                           151\n",
              "Case Manager                                  150\n",
              "Receptionist                                  149\n",
              "Production Manager                            149\n",
              "Sales Representative                          140\n",
              "Professor                                     140\n",
              "Consultant                                    140\n",
              "Property Manager                              136\n",
              "Correctional Officer                          135\n",
              "Legal Assistant                               131\n",
              "Customer Service Representative               131\n",
              "Physician                                     129\n",
              "Chef                                          129\n",
              "Loan Officer                                  128\n",
              "Associate                                     127\n",
              "Finance Manager                               125\n",
              "It Manager                                    123\n",
              "Flight Attendant                              123\n",
              "Dental Hygienist                              120\n",
              "Dental Assistant                              120\n",
              "Pharmacist                                    119\n",
              "Financial Advisor                             119\n",
              "Bus Driver                                    116\n",
              "Financial Analyst                             116\n",
              "Accounting Manager                            115\n",
              "Caregiver                                     114\n",
              "Dispatcher                                    112\n",
              "Sales Rep                                     112\n",
              "Delivery Driver                               111\n",
              "Firefighter                                   108\n",
              "Software Developer                            108\n",
              "Senior Manager                                107\n",
              "Business Manager                              107\n",
              "Service Technician                            107\n",
              "Sales Consultant                              106\n",
              "Respiratory Therapist                         105\n",
              "Pharmacy Technician                           105\n",
              "Warehouse Manager                             105\n",
              "Officer                                       101\n",
              "Instructor                                    100\n",
              "Plumber                                        99\n",
              "Customer Service Rep                           98\n",
              "Team Leader                                    98\n",
              "Tech                                           96\n",
              "Special Education Teacher                      93\n",
              "Material Handler                               93\n",
              "Staff Accountant                               92\n",
              "Production                                     92\n",
              "Pilot                                          92\n",
              "Painter                                        92\n",
              "Marketing Manager                              92\n",
              "Maintenance Supervisor                         90\n",
              "Assistant Store Manager                        89\n",
              "Agent                                          88\n",
              "Department Manager                             88\n",
              "Accounting                                     88\n",
              "Warehouse                                      87\n",
              "Security                                       86\n",
              "Counselor                                      86\n",
              "Underwriter                                    86\n",
              "Paramedic                                      86\n",
              "Physical Therapist                             85\n",
              "Management                                     85\n",
              "Production Supervisor                          85\n",
              "Insurance Agent                                84\n",
              "Deputy Sheriff                                 84\n",
              "Regional Manager                               84\n",
              "Realtor                                        84\n",
              "Area Manager                                   81\n",
              "Bus Operator                                   81\n",
              "Pastor                                         80\n",
              "Service Advisor                                80\n",
              "Operations Supervisor                          80\n",
              "Project Coordinator                            79\n",
              "Managing Director                              79\n",
              "Hr Manager                                     79\n",
              "Systems Engineer                               78\n",
              "Csr                                            78\n",
              "Buyer                                          78\n",
              "Inspector                                      77\n",
              "Installer                                      77\n",
              "Assembler                                      76\n",
              "Assistant Principal                            76\n",
              "Maintenance Technician                         76\n",
              "Educator                                       76\n",
              "Senior Accountant                              76\n",
              "Regional Sales Manager                         75\n",
              "Plant Manager                                  74\n",
              "Conductor                                      74\n",
              "Letter Carrier                                 73\n",
              "Equipment Operator                             73\n",
              "Banker                                         73\n",
              "Legal Secretary                                72\n",
              "Estimator                                      72\n",
              "Personal Banker                                72\n",
              "Product Manager                                71\n",
              "Teller                                         71\n",
              "Auditor                                        71\n",
              "Physician Assistant                            71\n",
              "Assistant Professor                            71\n",
              "Senior Software Engineer                       70\n",
              "Captain                                        70\n",
              "Recruiter                                      70\n",
              "Cfo                                            69\n",
              "Inside Sales                                   69\n",
              "Coordinator                                    69\n",
              "It Specialist                                  69\n",
              "Housekeeping                                   68\n",
              "Designer                                       68\n",
              "Office Assistant                               68\n",
              "Assistant Director                             68\n",
              "Senior Project Manager                         67\n",
              "Business Development Manager                   67\n",
              "Service Tech                                   67\n",
              "Corrections Officer                            67\n",
              "Project Engineer                               66\n",
              "Partner                                        66\n",
              "Investigator                                   66\n",
              "Salesman                                       65\n",
              "Vp                                             65\n",
              "Network Engineer                               65\n",
              "Correction Officer                             64\n",
              "Automotive Technician                          64\n",
              "Heavy Equipment Operator                       64\n",
              "Labor                                          63\n",
              "Admin                                          62\n",
              "Territory Manager                              61\n",
              "Waitress                                       61\n",
              "Deputy                                         60\n",
              "Nursing Assistant                              60\n",
              "Director Of Sales                              60\n",
              "Customer Service Manager                       59\n",
              "Lieutenant                                     59\n",
              "Team Lead                                      59\n",
              "Data Analyst                                   58\n",
              "Administration                                 58\n",
              "Sales Director                                 58\n",
              "Warehouse Supervisor                           58\n",
              "Sergeant                                       58\n",
              "Parts Manager                                  57\n",
              "School Counselor                               57\n",
              "Occupational Therapist                         57\n",
              "Program Director                               57\n",
              "Systems Analyst                                57\n",
              "Maintenance Tech                               56\n",
              "Pharmacy Tech                                  56\n",
              "Housekeeper                                    56\n",
              "Forklift Operator                              56\n",
              "Mail Carrier                                   56\n",
              "Quality Manager                                56\n",
              "Security Guard                                 55\n",
              "Quality Control                                55\n",
              "Senior Consultant                              55\n",
              "Executive Chef                                 55\n",
              "Human Resources                                55\n",
              "Maintenance Mechanic                           54\n",
              "Maintenance Manager                            54\n",
              "Senior Vice President                          53\n",
              "Warehouse Associate                            53\n",
              "Paraprofessional                               53\n",
              "Senior Associate                               53\n",
              "Phlebotomist                                   52\n",
              "School Bus Driver                              52\n",
              "Program Coordinator                            52\n",
              "Electrical Engineer                            52\n",
              "Program Analyst                                51\n",
              "Accounting Clerk                               51\n",
              "Graphic Designer                               51\n",
              "Gm                                             50\n",
              "Coo                                            50\n",
              "Associate Professor                            50\n",
              "Medical Technologist                           49\n",
              "Claims Adjuster                                49\n",
              "Marketing Director                             49\n",
              "Office Administrator                           49\n",
              "Human Resources Manager                        49\n",
              "Teacher/Coach                                  49\n",
              "Care Giver                                     48\n",
              "Radiologic Technologist                        48\n",
              "Detective                                      48\n",
              "                                            ...  \n",
              "Manager, It Delivery Operations                 1\n",
              "Service & Technology Guide 1                    1\n",
              "Inside Sales Agent                              1\n",
              "Police Offer                                    1\n",
              "Graduate Program Coordinator Ii                 1\n",
              "Customer Contact Center Specialist Iv           1\n",
              "Vice President; Architect 2                     1\n",
              "Counterman                                      1\n",
              "Foundry Worker                                  1\n",
              "Sr Project Leader                               1\n",
              "Executive Vice President Sales & Mktg           1\n",
              "Company Commander                               1\n",
              "Field Staff Lpn                                 1\n",
              "Programmer/Analysis                             1\n",
              "Auto Mecanic                                    1\n",
              "Associate Dean Of Faculty                       1\n",
              "Dialysis Nurse                                  1\n",
              "Highway Maintenance Supervisor                  1\n",
              "Maintenance Millwright                          1\n",
              "Global Operations Manager                       1\n",
              "Us Filing Specialist                            1\n",
              "Systems Analyst/Programmer                      1\n",
              "Assistant Director Of Security                  1\n",
              "Eeo Specialist (Investigator)                   1\n",
              "Real Estate Sales Agent                         1\n",
              "Tribal Family And Child Advocate                1\n",
              "Pmt Review                                      1\n",
              "Service And Install Superintendent              1\n",
              "Paw                                             1\n",
              "Techniton                                       1\n",
              "Transportation Mechanic                         1\n",
              "Meat Manager.                                   1\n",
              "Librarian/Director                              1\n",
              "Director, Field Services                        1\n",
              "Senior Cloud Network Engineer                   1\n",
              "Senior Employment Specialist                    1\n",
              "Senior Manager, Enterprise Business Appl        1\n",
              "It1                                             1\n",
              "Quality Assurance Egineer                       1\n",
              "General Manager Sales & Marketing               1\n",
              "Shared Living Provider                          1\n",
              "It Helpdesk Support                             1\n",
              "Office Administrator/Bookkeeper                 1\n",
              "Buzines Partner                                 1\n",
              "Legal Secty Ea                                  1\n",
              "Hydrotech                                       1\n",
              "Cityclerk                                       1\n",
              "Assistants Manager                              1\n",
              "Laborer Union                                   1\n",
              "Cq Specialist                                   1\n",
              "Population Health Medical Assistant             1\n",
              "Paralegal Librarian                             1\n",
              "Commercial Mover                                1\n",
              "Paint And Body Technician                       1\n",
              "Estimator, Admin Assistant                      1\n",
              "Auto Painter/Mechanic                           1\n",
              "Wedding Decor                                   1\n",
              "I.T. Specialist                                 1\n",
              "Ob Unit Coordinator                             1\n",
              "Department Head For Adult Services              1\n",
              "Business Government Coordinator                 1\n",
              "Senior Staffing Specialist                      1\n",
              "Lead Contact Representative                     1\n",
              "Chief Health Integration Officer                1\n",
              "Mixer Truck Driver                              1\n",
              "Section Manager - Electrical                    1\n",
              "Insulation Contractor                           1\n",
              "Professor Of Communication                      1\n",
              "Executive Broker                                1\n",
              "Area Superintendent                             1\n",
              "Free And Reduced Meals Team Lead                1\n",
              "Crew Leader Tech                                1\n",
              "Wow Counselor                                   1\n",
              "Behavioral Health Case Manager                  1\n",
              "Platesaw Operator                               1\n",
              "Referral/Authorization Coordinator              1\n",
              "Chemical Processor                              1\n",
              "Ta Coordinator                                  1\n",
              "Executive Director, Protocol                    1\n",
              "Human Resources Admin Coordinator               1\n",
              "Quality Control Officer                         1\n",
              "Market Conduct Specialist                       1\n",
              "Speech Language Pathologist/Pro Devl Coo        1\n",
              "Capital Markets Apps Systems Engineer           1\n",
              "Accounting & Benefits Manager                   1\n",
              "Laminator                                       1\n",
              "Talent Account Manager                          1\n",
              "Police Services                                 1\n",
              "Mental Health Practitioner                      1\n",
              "Concrete Yard Supervisor                        1\n",
              "Data/Voice Communication Instructor             1\n",
              "Vp, Lending Administration                      1\n",
              "Prototype Designer                              1\n",
              "Lockbox Processor                               1\n",
              "Radiologic Technologist Ii                      1\n",
              "Sales And Finance Manager                       1\n",
              "Utility Systems Operator                        1\n",
              "Controller/Cfo                                  1\n",
              "Task Force General Manager                      1\n",
              "Agricultural Products Agent 1                   1\n",
              "Csr Supervisor                                  1\n",
              "Overhead Helper                                 1\n",
              "Associate Service Technician                    1\n",
              "Veterinary Texhnician                           1\n",
              "Financial Crimes Manager                        1\n",
              "Rn, Clinical Team Manager                       1\n",
              "Damage Prevention Agent                         1\n",
              "Commercial Electrician                          1\n",
              "Training Professional Learning Specialis        1\n",
              "District Loan Specialist                        1\n",
              "Eligibity Of Workers Iii                        1\n",
              "Senior Accounting Associate                     1\n",
              "Senior Enterprise Sales Director                1\n",
              "Qapi Auditor                                    1\n",
              "Application Platform Engineer Iii               1\n",
              "Certified Therapeutic Recreation                1\n",
              "Reimburstment Specialist                        1\n",
              "Commercial End User Sales /Receptionist         1\n",
              "Division Vp, Head Trader                        1\n",
              "Cook'S Helper                                   1\n",
              "Director Of Safe Haven                          1\n",
              "Therapeutic Activities Services Worker          1\n",
              "Director Of Proposals                           1\n",
              "Care Giver/Teacher                              1\n",
              "Art Teacher - Department Head                   1\n",
              "Port Driver                                     1\n",
              "Family Based Therapist                          1\n",
              "Packaging Designer                              1\n",
              "Senior Inpatient Coder                          1\n",
              "Sales, Driver                                   1\n",
              "Banker Iii                                      1\n",
              "Snr Property Manager                            1\n",
              "Tribal Administrator                            1\n",
              "Legal Assistant / Asst. Paralegal               1\n",
              "Assistant Controller Ii                         1\n",
              "Montessori Guide                                1\n",
              "Membership                                      1\n",
              "Cybersecurity Professional                      1\n",
              "Air Force                                       1\n",
              "Senior Lead Technologist                        1\n",
              "Project Business Manager                        1\n",
              "Adoption Worker                                 1\n",
              "Software Development Specialist                 1\n",
              "Accountanting                                   1\n",
              "Anesthesia Technican                            1\n",
              "Sr Hr Generalist                                1\n",
              "Locamotive Engineer                             1\n",
              "Operations Services Supervisor                  1\n",
              "Software Quality Assurance Advisor              1\n",
              "Image Consultant                                1\n",
              "Hcm Consultant                                  1\n",
              "Senior Veteran Service Representative           1\n",
              "Motion Picture Editor                           1\n",
              "Corporate Banking                               1\n",
              "Managed Upgrades Consultant                     1\n",
              "Boat Technician                                 1\n",
              "Global Key Account Manager                      1\n",
              "Parasitology Lab Supervisor                     1\n",
              "Airport Administrative Assistant                1\n",
              "Stocking Crew                                   1\n",
              "Director Of Iwms                                1\n",
              "Landscape Tech                                  1\n",
              "Business Process Analyst Iii                    1\n",
              "Vp Mortgage Servicing                           1\n",
              "Manager Of Dental Lab                           1\n",
              "Foa                                             1\n",
              "Paraprofessional 2                              1\n",
              "Ar Specialist                                   1\n",
              "It Client Service Analyst                       1\n",
              "Central Distribution Tech                       1\n",
              "Papermaker                                      1\n",
              "Director, It Operations                         1\n",
              "Insurance Collections Specialist                1\n",
              "Project Supt.                                   1\n",
              "Information Technology Consultant               1\n",
              "City Research Scientist                         1\n",
              "Customer Service Escalations                    1\n",
              "Warehouse Sorter                                1\n",
              "Service Truck Mechanic                          1\n",
              "Operatore                                       1\n",
              "Asc Office Coordinator                          1\n",
              "Executive / Vp Sales                            1\n",
              "Regional Group Manager                          1\n",
              "Selling Manager                                 1\n",
              "Sr. Operations Admin                            1\n",
              "Sr Customer Support                             1\n",
              "Avp Wholesale Underwriting                      1\n",
              "Commercial Account Mgr                          1\n",
              "Poker Room Manger                               1\n",
              "Tax & Accounting Supervisor                     1\n",
              "Global, Manager Payroll                         1\n",
              "Autopilot Data Analyzer                         1\n",
              "Gra                                             1\n",
              "Head Custodian/Maintnace                        1\n",
              "Property Msnager                                1\n",
              "Service Technican                               1\n",
              "Documentation Personnel                         1\n",
              "Sr. Pos It Project Manager                      1\n",
              "Administrative Assistant 2                      1\n",
              "Tenant Services Manager                         1\n",
              "Captain / Turn Commander                        1\n",
              "Campus Monitor/Coach                            1\n",
              "Family Life Minister                            1\n",
              "Property Superintendent                         1\n",
              "Senior Prelim Specialist                        1\n",
              "Sr Composite Worker                             1\n",
              "Shift Operations Manager                        1\n",
              "Permit And Plans Reviewer                       1\n",
              "Law Office Administrator                        1\n",
              "Fda Clean Room Operator                         1\n",
              "Business Associates                             1\n",
              "Customer Services Rep                           1\n",
              "Medical Physics Resident                        1\n",
              "V.P. Of Planning & Client Services              1\n",
              "System Director                                 1\n",
              "Funding & Reimbursement Specialist              1\n",
              "Underwriter/Director Assistant                  1\n",
              "Customer Technical Manager                      1\n",
              "Shipping Packer                                 1\n",
              "Line Attendant                                  1\n",
              "Risk Control Coordinator                        1\n",
              "Investment Adviser                              1\n",
              "Senior National Client Supply Manager           1\n",
              "It Financial Analyst                            1\n",
              "International Tax Analyst                       1\n",
              "Apple Master                                    1\n",
              "Aquent Studios                                  1\n",
              "Adm Asst                                        1\n",
              "Funding Clerk                                   1\n",
              "Branch Administrator                            1\n",
              "Auto Repair Man                                 1\n",
              "Adult Protective Investigation Superviso        1\n",
              "Manager Eastern Region                          1\n",
              "Senior User Support Specialist                  1\n",
              "Bookstore Director                              1\n",
              "Or Liaison                                      1\n",
              "Wharehouse                                      1\n",
              "Floor Hand                                      1\n",
              "Behavioral Health Provider                      1\n",
              "Assist. Hospital Services Supervisor            1\n",
              "Kitchen Prep                                    1\n",
              "Supervisor Fresh Cap 2                          1\n",
              "St Vp Business Development Officer              1\n",
              "Heavy Operator Technician                       1\n",
              "Water Quality Manager                           1\n",
              "Treasury Associate                              1\n",
              "Brand Specialist Manager                        1\n",
              "Warehouse Logistics Assistant Manager           1\n",
              "Doctors Assistant                               1\n",
              "Searcher                                        1\n",
              "Name: emp_title, Length: 34902, dtype: int64"
            ]
          },
          "metadata": {
            "tags": []
          },
          "execution_count": 60
        }
      ]
    },
    {
      "metadata": {
        "id": "5gdijev9Db31",
        "colab_type": "code",
        "colab": {
          "base_uri": "https://localhost:8080/",
          "height": 2516
        },
        "outputId": "5d19de8e-3206-4d47-8ab9-9fe70657f038"
      },
      "cell_type": "code",
      "source": [
        "df.isnull().sum().sort_values(ascending=False) / len(df)"
      ],
      "execution_count": 61,
      "outputs": [
        {
          "output_type": "execute_result",
          "data": {
            "text/plain": [
              "id                                            1.000000\n",
              "member_id                                     1.000000\n",
              "url                                           1.000000\n",
              "desc                                          1.000000\n",
              "hardship_length                               0.999992\n",
              "hardship_amount                               0.999992\n",
              "hardship_type                                 0.999992\n",
              "hardship_reason                               0.999992\n",
              "hardship_status                               0.999992\n",
              "hardship_last_payment_amount                  0.999992\n",
              "hardship_payoff_balance_amount                0.999992\n",
              "orig_projected_additional_accrued_interest    0.999992\n",
              "hardship_loan_status                          0.999992\n",
              "hardship_dpd                                  0.999992\n",
              "deferral_term                                 0.999992\n",
              "payment_plan_start_date                       0.999992\n",
              "hardship_end_date                             0.999992\n",
              "hardship_start_date                           0.999992\n",
              "settlement_date                               0.999984\n",
              "settlement_percentage                         0.999984\n",
              "settlement_term                               0.999984\n",
              "settlement_amount                             0.999984\n",
              "debt_settlement_flag_date                     0.999984\n",
              "settlement_status                             0.999984\n",
              "sec_app_mths_since_last_major_derog           0.959864\n",
              "verification_status_joint                     0.884372\n",
              "mths_since_last_record                        0.879684\n",
              "sec_app_revol_util                            0.871320\n",
              "sec_app_earliest_cr_line                      0.869311\n",
              "annual_inc_joint                              0.869311\n",
              "dti_joint                                     0.869311\n",
              "revol_bal_joint                               0.869311\n",
              "sec_app_collections_12_mths_ex_med            0.869311\n",
              "sec_app_inq_last_6mths                        0.869311\n",
              "sec_app_mort_acc                              0.869311\n",
              "sec_app_open_acc                              0.869311\n",
              "sec_app_open_act_il                           0.869311\n",
              "sec_app_num_rev_accts                         0.869311\n",
              "sec_app_chargeoff_within_12_mths              0.869311\n",
              "mths_since_recent_bc_dlq                      0.803998\n",
              "mths_since_last_major_derog                   0.772763\n",
              "mths_since_recent_revol_delinq                0.713563\n",
              "mths_since_last_delinq                        0.562222\n",
              "il_util                                       0.157882\n",
              "mths_since_recent_inq                         0.124965\n",
              "emp_length                                    0.091144\n",
              "mths_since_rcnt_il                            0.034872\n",
              "mo_sin_old_il_acct                            0.034872\n",
              "next_pymnt_d                                  0.027030\n",
              "num_tl_120dpd_2m                              0.022264\n",
              "bc_util                                       0.013659\n",
              "percent_bc_gt_75                              0.013176\n",
              "bc_open_to_buy                                0.013169\n",
              "mths_since_recent_bc                          0.012390\n",
              "dti                                           0.001846\n",
              "last_pymnt_d                                  0.001262\n",
              "revol_util                                    0.001215\n",
              "all_util                                      0.000288\n",
              "avg_cur_bal                                   0.000101\n",
              "last_credit_pull_d                            0.000008\n",
              "loan_status                                   0.000000\n",
              "total_pymnt                                   0.000000\n",
              "int_rate                                      0.000000\n",
              "out_prncp_inv                                 0.000000\n",
              "installment                                   0.000000\n",
              "total_pymnt_inv                               0.000000\n",
              "total_rec_late_fee                            0.000000\n",
              "total_rec_prncp                               0.000000\n",
              "total_rec_int                                 0.000000\n",
              "initial_list_status                           0.000000\n",
              "recoveries                                    0.000000\n",
              "collection_recovery_fee                       0.000000\n",
              "term                                          0.000000\n",
              "funded_amnt_inv                               0.000000\n",
              "funded_amnt                                   0.000000\n",
              "last_pymnt_amnt                               0.000000\n",
              "loan_amnt                                     0.000000\n",
              "out_prncp                                     0.000000\n",
              "grade                                         0.000000\n",
              "total_acc                                     0.000000\n",
              "revol_bal                                     0.000000\n",
              "verification_status                           0.000000\n",
              "purpose                                       0.000000\n",
              "title                                         0.000000\n",
              "zip_code                                      0.000000\n",
              "addr_state                                    0.000000\n",
              "annual_inc                                    0.000000\n",
              "home_ownership                                0.000000\n",
              "delinq_2yrs                                   0.000000\n",
              "earliest_cr_line                              0.000000\n",
              "inq_last_6mths                                0.000000\n",
              "emp_title                                     0.000000\n",
              "sub_grade                                     0.000000\n",
              "open_acc                                      0.000000\n",
              "pub_rec                                       0.000000\n",
              "pymnt_plan                                    0.000000\n",
              "issue_d                                       0.000000\n",
              "emp_title_manager                             0.000000\n",
              "collections_12_mths_ex_med                    0.000000\n",
              "policy_code                                   0.000000\n",
              "num_actv_rev_tl                               0.000000\n",
              "num_bc_sats                                   0.000000\n",
              "num_bc_tl                                     0.000000\n",
              "num_il_tl                                     0.000000\n",
              "num_op_rev_tl                                 0.000000\n",
              "num_rev_accts                                 0.000000\n",
              "num_rev_tl_bal_gt_0                           0.000000\n",
              "num_sats                                      0.000000\n",
              "num_tl_30dpd                                  0.000000\n",
              "num_tl_90g_dpd_24m                            0.000000\n",
              "num_tl_op_past_12m                            0.000000\n",
              "pct_tl_nvr_dlq                                0.000000\n",
              "pub_rec_bankruptcies                          0.000000\n",
              "tax_liens                                     0.000000\n",
              "tot_hi_cred_lim                               0.000000\n",
              "total_bal_ex_mort                             0.000000\n",
              "total_bc_limit                                0.000000\n",
              "total_il_high_credit_limit                    0.000000\n",
              "hardship_flag                                 0.000000\n",
              "disbursement_method                           0.000000\n",
              "debt_settlement_flag                          0.000000\n",
              "num_actv_bc_tl                                0.000000\n",
              "num_accts_ever_120_pd                         0.000000\n",
              "mort_acc                                      0.000000\n",
              "open_rv_12m                                   0.000000\n",
              "application_type                              0.000000\n",
              "acc_now_delinq                                0.000000\n",
              "tot_coll_amt                                  0.000000\n",
              "tot_cur_bal                                   0.000000\n",
              "open_acc_6m                                   0.000000\n",
              "open_act_il                                   0.000000\n",
              "open_il_12m                                   0.000000\n",
              "open_il_24m                                   0.000000\n",
              "total_bal_il                                  0.000000\n",
              "open_rv_24m                                   0.000000\n",
              "mo_sin_rcnt_tl                                0.000000\n",
              "max_bal_bc                                    0.000000\n",
              "total_rev_hi_lim                              0.000000\n",
              "inq_fi                                        0.000000\n",
              "inq_last_12m                                  0.000000\n",
              "acc_open_past_24mths                          0.000000\n",
              "chargeoff_within_12_mths                      0.000000\n",
              "delinq_amnt                                   0.000000\n",
              "mo_sin_old_rev_tl_op                          0.000000\n",
              "mo_sin_rcnt_rev_tl_op                         0.000000\n",
              "total_cu_tl                                   0.000000\n",
              "dtype: float64"
            ]
          },
          "metadata": {
            "tags": []
          },
          "execution_count": 61
        }
      ]
    },
    {
      "metadata": {
        "colab_type": "text",
        "id": "s8BcCY6so3by"
      },
      "cell_type": "markdown",
      "source": [
        "## Work with dates"
      ]
    },
    {
      "metadata": {
        "id": "i1FAaZtcDb33",
        "colab_type": "text"
      },
      "cell_type": "markdown",
      "source": [
        "pandas documentation\n",
        "- [to_datetime](https://pandas.pydata.org/pandas-docs/stable/generated/pandas.to_datetime.html)\n",
        "- [Time/Date Components](https://pandas.pydata.org/pandas-docs/stable/timeseries.html#time-date-components) \"You can access these properties via the `.dt` accessor\""
      ]
    },
    {
      "metadata": {
        "colab_type": "code",
        "id": "kNrKxOTeo4W3",
        "colab": {
          "base_uri": "https://localhost:8080/",
          "height": 51
        },
        "outputId": "2b8666f8-e87f-4086-c080-ae1fcc69fc4f"
      },
      "cell_type": "code",
      "source": [
        "df['issue_d'].head().values"
      ],
      "execution_count": 62,
      "outputs": [
        {
          "output_type": "execute_result",
          "data": {
            "text/plain": [
              "array(['Dec-2018', 'Dec-2018', 'Dec-2018', 'Dec-2018', 'Dec-2018'],\n",
              "      dtype=object)"
            ]
          },
          "metadata": {
            "tags": []
          },
          "execution_count": 62
        }
      ]
    },
    {
      "metadata": {
        "id": "0M1N-KTxkoDs",
        "colab_type": "code",
        "colab": {
          "base_uri": "https://localhost:8080/",
          "height": 102
        },
        "outputId": "d352b71f-687c-408d-e2cf-de43a39a53b4"
      },
      "cell_type": "code",
      "source": [
        "df['issue_d'].describe()"
      ],
      "execution_count": 63,
      "outputs": [
        {
          "output_type": "execute_result",
          "data": {
            "text/plain": [
              "count       128412\n",
              "unique           3\n",
              "top       Oct-2018\n",
              "freq         46305\n",
              "Name: issue_d, dtype: object"
            ]
          },
          "metadata": {
            "tags": []
          },
          "execution_count": 63
        }
      ]
    },
    {
      "metadata": {
        "id": "O9865yX_koKX",
        "colab_type": "code",
        "colab": {}
      },
      "cell_type": "code",
      "source": [
        "df['issue_d'] = pd.to_datetime(df['issue_d'], infer_datetime_format=True)"
      ],
      "execution_count": 0,
      "outputs": []
    },
    {
      "metadata": {
        "id": "EKTTxIO4koRW",
        "colab_type": "code",
        "colab": {
          "base_uri": "https://localhost:8080/",
          "height": 68
        },
        "outputId": "ef3bf739-d088-46ff-adde-a4fd5239519f"
      },
      "cell_type": "code",
      "source": [
        "df['issue_d'].head().values"
      ],
      "execution_count": 65,
      "outputs": [
        {
          "output_type": "execute_result",
          "data": {
            "text/plain": [
              "array(['2018-12-01T00:00:00.000000000', '2018-12-01T00:00:00.000000000',\n",
              "       '2018-12-01T00:00:00.000000000', '2018-12-01T00:00:00.000000000',\n",
              "       '2018-12-01T00:00:00.000000000'], dtype='datetime64[ns]')"
            ]
          },
          "metadata": {
            "tags": []
          },
          "execution_count": 65
        }
      ]
    },
    {
      "metadata": {
        "id": "BDZoqNG-koYr",
        "colab_type": "code",
        "colab": {
          "base_uri": "https://localhost:8080/",
          "height": 136
        },
        "outputId": "6a56bd39-3a30-412a-f2d0-d22a7b9b4892"
      },
      "cell_type": "code",
      "source": [
        "df['issue_d'].describe()"
      ],
      "execution_count": 66,
      "outputs": [
        {
          "output_type": "execute_result",
          "data": {
            "text/plain": [
              "count                  128412\n",
              "unique                      3\n",
              "top       2018-10-01 00:00:00\n",
              "freq                    46305\n",
              "first     2018-10-01 00:00:00\n",
              "last      2018-12-01 00:00:00\n",
              "Name: issue_d, dtype: object"
            ]
          },
          "metadata": {
            "tags": []
          },
          "execution_count": 66
        }
      ]
    },
    {
      "metadata": {
        "id": "x_gxoZ08kog7",
        "colab_type": "code",
        "colab": {}
      },
      "cell_type": "code",
      "source": [
        "df['issue_year'] = df['issue_d'].dt.year\n",
        "df['issue_month'] = df['issue_d'].dt.month"
      ],
      "execution_count": 0,
      "outputs": []
    },
    {
      "metadata": {
        "id": "xXyufTbfkopC",
        "colab_type": "code",
        "colab": {
          "base_uri": "https://localhost:8080/",
          "height": 34
        },
        "outputId": "02929279-c183-42c9-dab8-6cc6455d71d1"
      },
      "cell_type": "code",
      "source": [
        "df.shape"
      ],
      "execution_count": 68,
      "outputs": [
        {
          "output_type": "execute_result",
          "data": {
            "text/plain": [
              "(128412, 148)"
            ]
          },
          "metadata": {
            "tags": []
          },
          "execution_count": 68
        }
      ]
    },
    {
      "metadata": {
        "id": "AK889vG1koxB",
        "colab_type": "code",
        "colab": {
          "base_uri": "https://localhost:8080/",
          "height": 34
        },
        "outputId": "81421032-253a-49e9-9aea-75a9831bb4eb"
      },
      "cell_type": "code",
      "source": [
        "df['issue_month'].sample(n=10).values"
      ],
      "execution_count": 69,
      "outputs": [
        {
          "output_type": "execute_result",
          "data": {
            "text/plain": [
              "array([12, 11, 12, 12, 11, 12, 11, 11, 11, 11])"
            ]
          },
          "metadata": {
            "tags": []
          },
          "execution_count": 69
        }
      ]
    },
    {
      "metadata": {
        "id": "1u0fA2ydko49",
        "colab_type": "code",
        "colab": {}
      },
      "cell_type": "code",
      "source": [
        "df['earliest_cr_line'] = pd.to_datetime(df['earliest_cr_line'], \n",
        "                                        infer_datetime_format=True)"
      ],
      "execution_count": 0,
      "outputs": []
    },
    {
      "metadata": {
        "id": "B0yHCLcakpB-",
        "colab_type": "code",
        "colab": {
          "base_uri": "https://localhost:8080/",
          "height": 119
        },
        "outputId": "7052c150-2519-4864-f731-7b995f0cc114"
      },
      "cell_type": "code",
      "source": [
        "df['earliest_cr_line'].head()"
      ],
      "execution_count": 71,
      "outputs": [
        {
          "output_type": "execute_result",
          "data": {
            "text/plain": [
              "0   2001-04-01\n",
              "1   1987-06-01\n",
              "2   2011-04-01\n",
              "3   2006-02-01\n",
              "4   2000-12-01\n",
              "Name: earliest_cr_line, dtype: datetime64[ns]"
            ]
          },
          "metadata": {
            "tags": []
          },
          "execution_count": 71
        }
      ]
    },
    {
      "metadata": {
        "id": "SK1BFEvKkpKL",
        "colab_type": "code",
        "colab": {}
      },
      "cell_type": "code",
      "source": [
        "df['days_from_earliest_credit_to_issue'] = (\n",
        "    df['issue_d'] - df['earliest_cr_line']).dt.days"
      ],
      "execution_count": 0,
      "outputs": []
    },
    {
      "metadata": {
        "id": "OxCjqbHfkpSg",
        "colab_type": "code",
        "colab": {
          "base_uri": "https://localhost:8080/",
          "height": 170
        },
        "outputId": "eaec743b-a606-44db-bcd0-9874b3f49068"
      },
      "cell_type": "code",
      "source": [
        "df['days_from_earliest_credit_to_issue'].describe()"
      ],
      "execution_count": 73,
      "outputs": [
        {
          "output_type": "execute_result",
          "data": {
            "text/plain": [
              "count    128412.000000\n",
              "mean       5859.891490\n",
              "std        2886.535578\n",
              "min        1126.000000\n",
              "25%        4049.000000\n",
              "50%        5266.000000\n",
              "75%        7244.000000\n",
              "max       25171.000000\n",
              "Name: days_from_earliest_credit_to_issue, dtype: float64"
            ]
          },
          "metadata": {
            "tags": []
          },
          "execution_count": 73
        }
      ]
    },
    {
      "metadata": {
        "id": "DycVpBVmkpaA",
        "colab_type": "code",
        "colab": {
          "base_uri": "https://localhost:8080/",
          "height": 34
        },
        "outputId": "913059be-9d34-484e-cc48-9e8d66e03386"
      },
      "cell_type": "code",
      "source": [
        "25171 / 365"
      ],
      "execution_count": 74,
      "outputs": [
        {
          "output_type": "execute_result",
          "data": {
            "text/plain": [
              "68.96164383561644"
            ]
          },
          "metadata": {
            "tags": []
          },
          "execution_count": 74
        }
      ]
    },
    {
      "metadata": {
        "id": "NSXan9OKkph_",
        "colab_type": "code",
        "colab": {
          "base_uri": "https://localhost:8080/",
          "height": 34
        },
        "outputId": "32855609-84d6-435e-acce-a77c033e9522"
      },
      "cell_type": "code",
      "source": [
        "[col for col in df if col.endswith('_d')]"
      ],
      "execution_count": 75,
      "outputs": [
        {
          "output_type": "execute_result",
          "data": {
            "text/plain": [
              "['issue_d', 'last_pymnt_d', 'next_pymnt_d', 'last_credit_pull_d']"
            ]
          },
          "metadata": {
            "tags": []
          },
          "execution_count": 75
        }
      ]
    },
    {
      "metadata": {
        "id": "RM59HfIQkpqV",
        "colab_type": "code",
        "colab": {}
      },
      "cell_type": "code",
      "source": [
        "for col in ['last_pymnt_d', 'next_pymnt_d', 'last_credit_pull_d']:\n",
        "    df[col] = pd.to_datetime(df[col], infer_datetime_format=True)"
      ],
      "execution_count": 0,
      "outputs": []
    },
    {
      "metadata": {
        "id": "it_fla4RkpyM",
        "colab_type": "code",
        "colab": {
          "base_uri": "https://localhost:8080/",
          "height": 235
        },
        "outputId": "4cc582a0-04a2-45ca-ff68-6b0622423de7"
      },
      "cell_type": "code",
      "source": [
        "df.describe(include='datetime')"
      ],
      "execution_count": 77,
      "outputs": [
        {
          "output_type": "execute_result",
          "data": {
            "text/html": [
              "<div>\n",
              "<style scoped>\n",
              "    .dataframe tbody tr th:only-of-type {\n",
              "        vertical-align: middle;\n",
              "    }\n",
              "\n",
              "    .dataframe tbody tr th {\n",
              "        vertical-align: top;\n",
              "    }\n",
              "\n",
              "    .dataframe thead th {\n",
              "        text-align: right;\n",
              "    }\n",
              "</style>\n",
              "<table border=\"1\" class=\"dataframe\">\n",
              "  <thead>\n",
              "    <tr style=\"text-align: right;\">\n",
              "      <th></th>\n",
              "      <th>issue_d</th>\n",
              "      <th>earliest_cr_line</th>\n",
              "      <th>last_pymnt_d</th>\n",
              "      <th>next_pymnt_d</th>\n",
              "      <th>last_credit_pull_d</th>\n",
              "    </tr>\n",
              "  </thead>\n",
              "  <tbody>\n",
              "    <tr>\n",
              "      <th>count</th>\n",
              "      <td>128412</td>\n",
              "      <td>128412</td>\n",
              "      <td>128250</td>\n",
              "      <td>124941</td>\n",
              "      <td>128411</td>\n",
              "    </tr>\n",
              "    <tr>\n",
              "      <th>unique</th>\n",
              "      <td>3</td>\n",
              "      <td>644</td>\n",
              "      <td>5</td>\n",
              "      <td>3</td>\n",
              "      <td>7</td>\n",
              "    </tr>\n",
              "    <tr>\n",
              "      <th>top</th>\n",
              "      <td>2018-10-01 00:00:00</td>\n",
              "      <td>2006-08-01 00:00:00</td>\n",
              "      <td>2019-02-01 00:00:00</td>\n",
              "      <td>2019-03-01 00:00:00</td>\n",
              "      <td>2019-02-01 00:00:00</td>\n",
              "    </tr>\n",
              "    <tr>\n",
              "      <th>freq</th>\n",
              "      <td>46305</td>\n",
              "      <td>1130</td>\n",
              "      <td>123797</td>\n",
              "      <td>124903</td>\n",
              "      <td>125061</td>\n",
              "    </tr>\n",
              "    <tr>\n",
              "      <th>first</th>\n",
              "      <td>2018-10-01 00:00:00</td>\n",
              "      <td>1950-01-01 00:00:00</td>\n",
              "      <td>2018-10-01 00:00:00</td>\n",
              "      <td>2019-02-01 00:00:00</td>\n",
              "      <td>2018-08-01 00:00:00</td>\n",
              "    </tr>\n",
              "    <tr>\n",
              "      <th>last</th>\n",
              "      <td>2018-12-01 00:00:00</td>\n",
              "      <td>2015-11-01 00:00:00</td>\n",
              "      <td>2019-02-01 00:00:00</td>\n",
              "      <td>2019-04-01 00:00:00</td>\n",
              "      <td>2019-02-01 00:00:00</td>\n",
              "    </tr>\n",
              "  </tbody>\n",
              "</table>\n",
              "</div>"
            ],
            "text/plain": [
              "                    issue_d     earliest_cr_line         last_pymnt_d  \\\n",
              "count                128412               128412               128250   \n",
              "unique                    3                  644                    5   \n",
              "top     2018-10-01 00:00:00  2006-08-01 00:00:00  2019-02-01 00:00:00   \n",
              "freq                  46305                 1130               123797   \n",
              "first   2018-10-01 00:00:00  1950-01-01 00:00:00  2018-10-01 00:00:00   \n",
              "last    2018-12-01 00:00:00  2015-11-01 00:00:00  2019-02-01 00:00:00   \n",
              "\n",
              "               next_pymnt_d   last_credit_pull_d  \n",
              "count                124941               128411  \n",
              "unique                    3                    7  \n",
              "top     2019-03-01 00:00:00  2019-02-01 00:00:00  \n",
              "freq                 124903               125061  \n",
              "first   2019-02-01 00:00:00  2018-08-01 00:00:00  \n",
              "last    2019-04-01 00:00:00  2019-02-01 00:00:00  "
            ]
          },
          "metadata": {
            "tags": []
          },
          "execution_count": 77
        }
      ]
    },
    {
      "metadata": {
        "id": "RAXYswv8Db35",
        "colab_type": "text"
      },
      "cell_type": "markdown",
      "source": [
        "# ASSIGNMENT\n",
        "\n",
        "- Replicate the lesson code.\n",
        "\n",
        "- Convert the `term` column from string to integer.\n",
        "\n",
        "- Make a column named `loan_status_is_great`. It should contain the integer 1 if `loan_status` is \"Current\" or \"Fully Paid.\" Else it should contain the integer 0.\n",
        "\n",
        "- Make `last_pymnt_d_month` and `last_pymnt_d_year` columns."
      ]
    },
    {
      "metadata": {
        "id": "p7rPUMXslGjx",
        "colab_type": "code",
        "colab": {
          "base_uri": "https://localhost:8080/",
          "height": 68
        },
        "outputId": "ed58cbd8-d278-4912-bd7f-c50778fc9f76"
      },
      "cell_type": "code",
      "source": [
        "df['term'].value_counts()\n"
      ],
      "execution_count": 83,
      "outputs": [
        {
          "output_type": "execute_result",
          "data": {
            "text/plain": [
              " 36 months    88179\n",
              " 60 months    40233\n",
              "Name: term, dtype: int64"
            ]
          },
          "metadata": {
            "tags": []
          },
          "execution_count": 83
        }
      ]
    },
    {
      "metadata": {
        "id": "qVkrTecRlGqJ",
        "colab_type": "code",
        "colab": {}
      },
      "cell_type": "code",
      "source": [
        "def remove_months(string):\n",
        "  return string.strip(' months')\n",
        "  \n",
        "df['term'] = df['term'].apply(remove_months)"
      ],
      "execution_count": 0,
      "outputs": []
    },
    {
      "metadata": {
        "id": "McbyX9bTlaAd",
        "colab_type": "code",
        "colab": {
          "base_uri": "https://localhost:8080/",
          "height": 669
        },
        "outputId": "87d83eb2-b510-47b6-ca10-23514193cfc4"
      },
      "cell_type": "code",
      "source": [
        "def good_loan(status):\n",
        "  if((status == 'Current') | (status == 'Fully Paid')):\n",
        "    return 1\n",
        "  else:\n",
        "    return 0\n",
        "    \n",
        "df['good_loan_status'] = df['loan_status'].apply(good_loan)\n",
        "df[['good_loan_status', 'loan_status']].tail(20)"
      ],
      "execution_count": 94,
      "outputs": [
        {
          "output_type": "execute_result",
          "data": {
            "text/html": [
              "<div>\n",
              "<style scoped>\n",
              "    .dataframe tbody tr th:only-of-type {\n",
              "        vertical-align: middle;\n",
              "    }\n",
              "\n",
              "    .dataframe tbody tr th {\n",
              "        vertical-align: top;\n",
              "    }\n",
              "\n",
              "    .dataframe thead th {\n",
              "        text-align: right;\n",
              "    }\n",
              "</style>\n",
              "<table border=\"1\" class=\"dataframe\">\n",
              "  <thead>\n",
              "    <tr style=\"text-align: right;\">\n",
              "      <th></th>\n",
              "      <th>good_loan_status</th>\n",
              "      <th>loan_status</th>\n",
              "    </tr>\n",
              "  </thead>\n",
              "  <tbody>\n",
              "    <tr>\n",
              "      <th>128392</th>\n",
              "      <td>1</td>\n",
              "      <td>Current</td>\n",
              "    </tr>\n",
              "    <tr>\n",
              "      <th>128393</th>\n",
              "      <td>1</td>\n",
              "      <td>Current</td>\n",
              "    </tr>\n",
              "    <tr>\n",
              "      <th>128394</th>\n",
              "      <td>1</td>\n",
              "      <td>Fully Paid</td>\n",
              "    </tr>\n",
              "    <tr>\n",
              "      <th>128395</th>\n",
              "      <td>1</td>\n",
              "      <td>Current</td>\n",
              "    </tr>\n",
              "    <tr>\n",
              "      <th>128396</th>\n",
              "      <td>1</td>\n",
              "      <td>Current</td>\n",
              "    </tr>\n",
              "    <tr>\n",
              "      <th>128397</th>\n",
              "      <td>1</td>\n",
              "      <td>Current</td>\n",
              "    </tr>\n",
              "    <tr>\n",
              "      <th>128398</th>\n",
              "      <td>1</td>\n",
              "      <td>Current</td>\n",
              "    </tr>\n",
              "    <tr>\n",
              "      <th>128399</th>\n",
              "      <td>1</td>\n",
              "      <td>Current</td>\n",
              "    </tr>\n",
              "    <tr>\n",
              "      <th>128400</th>\n",
              "      <td>1</td>\n",
              "      <td>Current</td>\n",
              "    </tr>\n",
              "    <tr>\n",
              "      <th>128401</th>\n",
              "      <td>1</td>\n",
              "      <td>Current</td>\n",
              "    </tr>\n",
              "    <tr>\n",
              "      <th>128402</th>\n",
              "      <td>1</td>\n",
              "      <td>Current</td>\n",
              "    </tr>\n",
              "    <tr>\n",
              "      <th>128403</th>\n",
              "      <td>1</td>\n",
              "      <td>Current</td>\n",
              "    </tr>\n",
              "    <tr>\n",
              "      <th>128404</th>\n",
              "      <td>1</td>\n",
              "      <td>Current</td>\n",
              "    </tr>\n",
              "    <tr>\n",
              "      <th>128405</th>\n",
              "      <td>1</td>\n",
              "      <td>Current</td>\n",
              "    </tr>\n",
              "    <tr>\n",
              "      <th>128406</th>\n",
              "      <td>1</td>\n",
              "      <td>Current</td>\n",
              "    </tr>\n",
              "    <tr>\n",
              "      <th>128407</th>\n",
              "      <td>0</td>\n",
              "      <td>Charged Off</td>\n",
              "    </tr>\n",
              "    <tr>\n",
              "      <th>128408</th>\n",
              "      <td>1</td>\n",
              "      <td>Current</td>\n",
              "    </tr>\n",
              "    <tr>\n",
              "      <th>128409</th>\n",
              "      <td>1</td>\n",
              "      <td>Current</td>\n",
              "    </tr>\n",
              "    <tr>\n",
              "      <th>128410</th>\n",
              "      <td>1</td>\n",
              "      <td>Current</td>\n",
              "    </tr>\n",
              "    <tr>\n",
              "      <th>128411</th>\n",
              "      <td>1</td>\n",
              "      <td>Current</td>\n",
              "    </tr>\n",
              "  </tbody>\n",
              "</table>\n",
              "</div>"
            ],
            "text/plain": [
              "        good_loan_status  loan_status\n",
              "128392                 1      Current\n",
              "128393                 1      Current\n",
              "128394                 1   Fully Paid\n",
              "128395                 1      Current\n",
              "128396                 1      Current\n",
              "128397                 1      Current\n",
              "128398                 1      Current\n",
              "128399                 1      Current\n",
              "128400                 1      Current\n",
              "128401                 1      Current\n",
              "128402                 1      Current\n",
              "128403                 1      Current\n",
              "128404                 1      Current\n",
              "128405                 1      Current\n",
              "128406                 1      Current\n",
              "128407                 0  Charged Off\n",
              "128408                 1      Current\n",
              "128409                 1      Current\n",
              "128410                 1      Current\n",
              "128411                 1      Current"
            ]
          },
          "metadata": {
            "tags": []
          },
          "execution_count": 94
        }
      ]
    },
    {
      "metadata": {
        "id": "eGdY6z4rlaC9",
        "colab_type": "code",
        "colab": {
          "base_uri": "https://localhost:8080/",
          "height": 119
        },
        "outputId": "6e2ffb03-fec0-4f28-c117-58970d460e00"
      },
      "cell_type": "code",
      "source": [
        "df['last_pymnt_d'].head()"
      ],
      "execution_count": 96,
      "outputs": [
        {
          "output_type": "execute_result",
          "data": {
            "text/plain": [
              "0   2019-02-01\n",
              "1   2019-02-01\n",
              "2   2019-02-01\n",
              "3   2019-02-01\n",
              "4   2019-02-01\n",
              "Name: last_pymnt_d, dtype: datetime64[ns]"
            ]
          },
          "metadata": {
            "tags": []
          },
          "execution_count": 96
        }
      ]
    },
    {
      "metadata": {
        "id": "mV6BnbKLlaFX",
        "colab_type": "code",
        "colab": {}
      },
      "cell_type": "code",
      "source": [
        "def get_month(timestamp):\n",
        "  return timestamp.month\n",
        "def get_year(timestamp):\n",
        "  return timestamp.year\n",
        "\n",
        "df['last_pymnt_d_month'] = df['last_pymnt_d'].apply(get_month)\n",
        "df['last_pymnt_d_year'] = df['last_pymnt_d'].apply(get_year)"
      ],
      "execution_count": 0,
      "outputs": []
    },
    {
      "metadata": {
        "id": "QQciT1jzlaHs",
        "colab_type": "code",
        "colab": {
          "base_uri": "https://localhost:8080/",
          "height": 204
        },
        "outputId": "26d4b6b6-08e9-49a9-f45e-d635ef8850ea"
      },
      "cell_type": "code",
      "source": [
        "df[['last_pymnt_d_year', 'last_pymnt_d_month', 'last_pymnt_d']].head()"
      ],
      "execution_count": 99,
      "outputs": [
        {
          "output_type": "execute_result",
          "data": {
            "text/html": [
              "<div>\n",
              "<style scoped>\n",
              "    .dataframe tbody tr th:only-of-type {\n",
              "        vertical-align: middle;\n",
              "    }\n",
              "\n",
              "    .dataframe tbody tr th {\n",
              "        vertical-align: top;\n",
              "    }\n",
              "\n",
              "    .dataframe thead th {\n",
              "        text-align: right;\n",
              "    }\n",
              "</style>\n",
              "<table border=\"1\" class=\"dataframe\">\n",
              "  <thead>\n",
              "    <tr style=\"text-align: right;\">\n",
              "      <th></th>\n",
              "      <th>last_pymnt_d_year</th>\n",
              "      <th>last_pymnt_d_month</th>\n",
              "      <th>last_pymnt_d</th>\n",
              "    </tr>\n",
              "  </thead>\n",
              "  <tbody>\n",
              "    <tr>\n",
              "      <th>0</th>\n",
              "      <td>2019.0</td>\n",
              "      <td>2.0</td>\n",
              "      <td>2019-02-01</td>\n",
              "    </tr>\n",
              "    <tr>\n",
              "      <th>1</th>\n",
              "      <td>2019.0</td>\n",
              "      <td>2.0</td>\n",
              "      <td>2019-02-01</td>\n",
              "    </tr>\n",
              "    <tr>\n",
              "      <th>2</th>\n",
              "      <td>2019.0</td>\n",
              "      <td>2.0</td>\n",
              "      <td>2019-02-01</td>\n",
              "    </tr>\n",
              "    <tr>\n",
              "      <th>3</th>\n",
              "      <td>2019.0</td>\n",
              "      <td>2.0</td>\n",
              "      <td>2019-02-01</td>\n",
              "    </tr>\n",
              "    <tr>\n",
              "      <th>4</th>\n",
              "      <td>2019.0</td>\n",
              "      <td>2.0</td>\n",
              "      <td>2019-02-01</td>\n",
              "    </tr>\n",
              "  </tbody>\n",
              "</table>\n",
              "</div>"
            ],
            "text/plain": [
              "   last_pymnt_d_year  last_pymnt_d_month last_pymnt_d\n",
              "0             2019.0                 2.0   2019-02-01\n",
              "1             2019.0                 2.0   2019-02-01\n",
              "2             2019.0                 2.0   2019-02-01\n",
              "3             2019.0                 2.0   2019-02-01\n",
              "4             2019.0                 2.0   2019-02-01"
            ]
          },
          "metadata": {
            "tags": []
          },
          "execution_count": 99
        }
      ]
    },
    {
      "metadata": {
        "colab_type": "text",
        "id": "L8k0LiHmo5EU"
      },
      "cell_type": "markdown",
      "source": [
        "# STRETCH OPTIONS\n",
        "\n",
        "You can do more with the LendingClub or Instacart datasets.\n",
        "\n",
        "LendingClub options:\n",
        "- There's one other column in the dataframe with percent signs. Remove them and convert to floats. You'll need to handle missing values.\n",
        "- Modify the `emp_title` column to replace titles with 'Other' if the title is not in the top 20. \n",
        "- Take initiatve and work on your own ideas!\n",
        "\n",
        "Instacart options:\n",
        "- Read [Instacart Market Basket Analysis, Winner's Interview: 2nd place, Kazuki Onodera](http://blog.kaggle.com/2017/09/21/instacart-market-basket-analysis-winners-interview-2nd-place-kazuki-onodera/), especially the **Feature Engineering** section. (Can you choose one feature from his bulleted lists, and try to engineer it with pandas code?)\n",
        "- Read and replicate parts of [Simple Exploration Notebook - Instacart](https://www.kaggle.com/sudalairajkumar/simple-exploration-notebook-instacart). (It's the Python Notebook with the most upvotes for this Kaggle competition.)\n",
        "- Take initiative and work on your own ideas!"
      ]
    },
    {
      "metadata": {
        "colab_type": "text",
        "id": "0_7PXF7lpEXg"
      },
      "cell_type": "markdown",
      "source": [
        "You can uncomment and run the cells below to re-download and extract the Instacart data"
      ]
    },
    {
      "metadata": {
        "id": "ExWkXlj4Db37",
        "colab_type": "code",
        "colab": {}
      },
      "cell_type": "code",
      "source": [
        "# !wget https://s3.amazonaws.com/instacart-datasets/instacart_online_grocery_shopping_2017_05_01.tar.gz"
      ],
      "execution_count": 0,
      "outputs": []
    },
    {
      "metadata": {
        "id": "gYAM9-alDb38",
        "colab_type": "code",
        "colab": {}
      },
      "cell_type": "code",
      "source": [
        "# !tar --gunzip --extract --verbose --file=instacart_online_grocery_shopping_2017_05_01.tar.gz"
      ],
      "execution_count": 0,
      "outputs": []
    },
    {
      "metadata": {
        "id": "bR2LSunzDb3-",
        "colab_type": "code",
        "colab": {}
      },
      "cell_type": "code",
      "source": [
        "# %cd instacart_2017_05_01"
      ],
      "execution_count": 0,
      "outputs": []
    }
  ]
}
