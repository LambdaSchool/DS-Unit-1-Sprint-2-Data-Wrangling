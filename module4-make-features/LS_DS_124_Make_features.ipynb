{
  "nbformat": 4,
  "nbformat_minor": 0,
  "metadata": {
    "colab": {
      "name": "LS_DS_124_Make_features.ipynb",
      "version": "0.3.2",
      "provenance": [],
      "collapsed_sections": []
    },
    "kernelspec": {
      "name": "python3",
      "display_name": "Python 3"
    }
  },
  "cells": [
    {
      "metadata": {
        "id": "qacqiXogluN_",
        "colab_type": "text"
      },
      "cell_type": "markdown",
      "source": [
        "_Lambda School Data Science_\n",
        "\n",
        "# Make features\n",
        "\n",
        "Objectives\n",
        "-  understand the purpose of feature engineering\n",
        "-  work with strings in pandas\n",
        "- work with dates and times in pandas\n",
        "\n",
        "Links\n",
        "- [Feature Engineering](https://en.wikipedia.org/wiki/Feature_engineering)\n",
        "- Python Data Science Handbook\n",
        "  - [Chapter 3.10](https://jakevdp.github.io/PythonDataScienceHandbook/03.10-working-with-strings.html), Vectorized String Operations\n",
        "  - [Chapter 3.11](https://jakevdp.github.io/PythonDataScienceHandbook/03.11-working-with-time-series.html), Working with Time Series"
      ]
    },
    {
      "metadata": {
        "id": "zIMAoWWr2T5M",
        "colab_type": "text"
      },
      "cell_type": "markdown",
      "source": [
        ""
      ]
    },
    {
      "metadata": {
        "id": "0r-41N_vwneG",
        "colab_type": "text"
      },
      "cell_type": "markdown",
      "source": [
        "- Replicate the lesson code.\n",
        "\n",
        "- Convert the `term` column from string to integer.\n",
        "\n",
        "- Make a column named `loan_status_is_great`. It should contain the integer 1 if `loan_status` is \"Current\" or \"Fully Paid.\" Else it should contain the integer 0.\n",
        "\n",
        "- Make `last_pymnt_d_month` and `last_pymnt_d_year` columns.\n",
        "\n"
      ]
    },
    {
      "metadata": {
        "id": "iSGiSktAoWIx",
        "colab_type": "text"
      },
      "cell_type": "markdown",
      "source": [
        "## Get LendingClub data"
      ]
    },
    {
      "metadata": {
        "id": "2ugxlWXimoHn",
        "colab_type": "code",
        "colab": {
          "base_uri": "https://localhost:8080/",
          "height": 202
        },
        "outputId": "fe93bedb-2791-4639-e850-d0e0cc225c3a"
      },
      "cell_type": "code",
      "source": [
        "!wget https://resources.lendingclub.com/LoanStats_2018Q3.csv.zip"
      ],
      "execution_count": 2,
      "outputs": [
        {
          "output_type": "stream",
          "text": [
            "--2019-01-18 02:46:58--  https://resources.lendingclub.com/LoanStats_2018Q3.csv.zip\n",
            "Resolving resources.lendingclub.com (resources.lendingclub.com)... 64.48.1.20\n",
            "Connecting to resources.lendingclub.com (resources.lendingclub.com)|64.48.1.20|:443... connected.\n",
            "HTTP request sent, awaiting response... 200 OK\n",
            "Length: unspecified [application/zip]\n",
            "Saving to: ‘LoanStats_2018Q3.csv.zip’\n",
            "\n",
            "LoanStats_2018Q3.cs     [         <=>        ]  21.42M  1.66MB/s    in 13s     \n",
            "\n",
            "2019-01-18 02:47:12 (1.66 MB/s) - ‘LoanStats_2018Q3.csv.zip’ saved [22461905]\n",
            "\n"
          ],
          "name": "stdout"
        }
      ]
    },
    {
      "metadata": {
        "id": "-4sk6qPgmpmN",
        "colab_type": "code",
        "colab": {
          "base_uri": "https://localhost:8080/",
          "height": 50
        },
        "outputId": "5efdfd2f-4094-4b3f-e9e6-73884eeb18b3"
      },
      "cell_type": "code",
      "source": [
        "!unzip LoanStats_2018Q3.csv.zip"
      ],
      "execution_count": 3,
      "outputs": [
        {
          "output_type": "stream",
          "text": [
            "Archive:  LoanStats_2018Q3.csv.zip\n",
            "  inflating: LoanStats_2018Q3.csv    \n"
          ],
          "name": "stdout"
        }
      ]
    },
    {
      "metadata": {
        "id": "seh5oNE1nD0X",
        "colab_type": "code",
        "colab": {}
      },
      "cell_type": "code",
      "source": [
        "!head LoanStats_2018Q3.csv"
      ],
      "execution_count": 0,
      "outputs": []
    },
    {
      "metadata": {
        "id": "3nAIRCZdofrY",
        "colab_type": "text"
      },
      "cell_type": "markdown",
      "source": [
        "## Load LendingClub data"
      ]
    },
    {
      "metadata": {
        "id": "3-8Vn3y6ooBC",
        "colab_type": "code",
        "colab": {}
      },
      "cell_type": "code",
      "source": [
        "import pandas as pd\n",
        "\n",
        "df = pd.read_csv('LoanStats_2018Q3.csv', skiprows=1, skipfooter=2)\n",
        "\n",
        "df.shape\n",
        "\n",
        "pd.options.display.max_columns = 500\n",
        "pd.options.display.max_rows = 500\n",
        "df.head(5)"
      ],
      "execution_count": 0,
      "outputs": []
    },
    {
      "metadata": {
        "id": "1b5_hMTio2Ly",
        "colab_type": "text"
      },
      "cell_type": "markdown",
      "source": [
        "## Work with strings"
      ]
    },
    {
      "metadata": {
        "id": "wZacWZEU3kmP",
        "colab_type": "text"
      },
      "cell_type": "markdown",
      "source": [
        "Assignment"
      ]
    },
    {
      "metadata": {
        "id": "WOL7QPVNo3F4",
        "colab_type": "code",
        "colab": {
          "base_uri": "https://localhost:8080/",
          "height": 118
        },
        "outputId": "9d34964c-2d59-4899-e617-a60015085e7f"
      },
      "cell_type": "code",
      "source": [
        "df.term.head(5)\n",
        "\n"
      ],
      "execution_count": 32,
      "outputs": [
        {
          "output_type": "execute_result",
          "data": {
            "text/plain": [
              "0     60 months\n",
              "1     60 months\n",
              "2     36 months\n",
              "3     36 months\n",
              "4     36 months\n",
              "Name: term, dtype: object"
            ]
          },
          "metadata": {
            "tags": []
          },
          "execution_count": 32
        }
      ]
    },
    {
      "metadata": {
        "id": "KAipoq9u3q8y",
        "colab_type": "code",
        "colab": {}
      },
      "cell_type": "code",
      "source": [
        "\n",
        "df.term = df.term.str.replace(' months', '')\n",
        "df.term = df.term.astype(int)"
      ],
      "execution_count": 0,
      "outputs": []
    },
    {
      "metadata": {
        "id": "Z3hcI5zu7NHL",
        "colab_type": "code",
        "colab": {
          "base_uri": "https://localhost:8080/",
          "height": 118
        },
        "outputId": "e6b607c8-d786-4738-e63f-35a5eb94bd08"
      },
      "cell_type": "code",
      "source": [
        "df.term.head(5)"
      ],
      "execution_count": 38,
      "outputs": [
        {
          "output_type": "execute_result",
          "data": {
            "text/plain": [
              "0    60\n",
              "1    60\n",
              "2    36\n",
              "3    36\n",
              "4    36\n",
              "Name: term, dtype: int64"
            ]
          },
          "metadata": {
            "tags": []
          },
          "execution_count": 38
        }
      ]
    },
    {
      "metadata": {
        "id": "ajRBMYT07Tzi",
        "colab_type": "code",
        "colab": {}
      },
      "cell_type": "code",
      "source": [
        "df['loan_status_is_great'] = df.loan_status.replace('Current', 1)"
      ],
      "execution_count": 0,
      "outputs": []
    },
    {
      "metadata": {
        "id": "4fsoLdBY735x",
        "colab_type": "code",
        "colab": {}
      },
      "cell_type": "code",
      "source": [
        "df[df.loan_status_is_great !=1] = 0\n"
      ],
      "execution_count": 0,
      "outputs": []
    },
    {
      "metadata": {
        "id": "dh3HMzJk8CcU",
        "colab_type": "code",
        "colab": {}
      },
      "cell_type": "code",
      "source": [
        "df['last_pymnt_d'] = pd.to_datetime(df['last_pymnt_d'], infer_datetime_format=True)\n",
        "df['last_pymnt_d_month'] = df['last_pymnt_d'].dt.month\n",
        "df['last_pymnt_d_year'] = df['last_pymnt_d'].dt.year"
      ],
      "execution_count": 0,
      "outputs": []
    },
    {
      "metadata": {
        "id": "twJObrEq8mfN",
        "colab_type": "code",
        "colab": {
          "base_uri": "https://localhost:8080/",
          "height": 202
        },
        "outputId": "ced156e5-fea2-492e-c6b5-ca61a36e03d7"
      },
      "cell_type": "code",
      "source": [
        "df.last_pymnt_d_month.head(10)"
      ],
      "execution_count": 46,
      "outputs": [
        {
          "output_type": "execute_result",
          "data": {
            "text/plain": [
              "0    12\n",
              "1    12\n",
              "2    12\n",
              "3    12\n",
              "4    12\n",
              "5    12\n",
              "6    12\n",
              "7    12\n",
              "8    12\n",
              "9    12\n",
              "Name: last_pymnt_d_month, dtype: int64"
            ]
          },
          "metadata": {
            "tags": []
          },
          "execution_count": 46
        }
      ]
    },
    {
      "metadata": {
        "id": "HhXXJ7rr8szP",
        "colab_type": "code",
        "colab": {
          "base_uri": "https://localhost:8080/",
          "height": 202
        },
        "outputId": "693bc2b5-3ab9-4007-8a2d-b731b48038ba"
      },
      "cell_type": "code",
      "source": [
        "df.last_pymnt_d_year.head(10)"
      ],
      "execution_count": 45,
      "outputs": [
        {
          "output_type": "execute_result",
          "data": {
            "text/plain": [
              "0    2018\n",
              "1    2018\n",
              "2    2018\n",
              "3    2018\n",
              "4    2018\n",
              "5    2018\n",
              "6    2018\n",
              "7    2018\n",
              "8    2018\n",
              "9    2018\n",
              "Name: last_pymnt_d_year, dtype: int64"
            ]
          },
          "metadata": {
            "tags": []
          },
          "execution_count": 45
        }
      ]
    },
    {
      "metadata": {
        "id": "s8BcCY6so3by",
        "colab_type": "text"
      },
      "cell_type": "markdown",
      "source": [
        "## Work with dates"
      ]
    },
    {
      "metadata": {
        "id": "kNrKxOTeo4W3",
        "colab_type": "code",
        "colab": {}
      },
      "cell_type": "code",
      "source": [
        ""
      ],
      "execution_count": 0,
      "outputs": []
    },
    {
      "metadata": {
        "id": "L8k0LiHmo5EU",
        "colab_type": "text"
      },
      "cell_type": "markdown",
      "source": [
        "## Load Instacart data\n",
        "\n",
        "Let's return to the dataset of [3 Million Instacart Orders](https://tech.instacart.com/3-million-instacart-orders-open-sourced-d40d29ead6f2)"
      ]
    },
    {
      "metadata": {
        "id": "0_7PXF7lpEXg",
        "colab_type": "text"
      },
      "cell_type": "markdown",
      "source": [
        "If necessary, uncomment and run the cells below to re-download and extract the data"
      ]
    },
    {
      "metadata": {
        "id": "eqADJbAipBmM",
        "colab_type": "code",
        "colab": {}
      },
      "cell_type": "code",
      "source": [
        "# !wget https://s3.amazonaws.com/instacart-datasets/instacart_online_grocery_shopping_2017_05_01.tar.gz"
      ],
      "execution_count": 0,
      "outputs": []
    },
    {
      "metadata": {
        "id": "zZm3Tk9gpGxk",
        "colab_type": "code",
        "colab": {}
      },
      "cell_type": "code",
      "source": [
        "# !tar --gunzip --extract --verbose --file=instacart_online_grocery_shopping_2017_05_01.tar.gz"
      ],
      "execution_count": 0,
      "outputs": []
    },
    {
      "metadata": {
        "id": "4I9uqAQjpWnA",
        "colab_type": "text"
      },
      "cell_type": "markdown",
      "source": [
        "Here's a list of the six CSV filenames"
      ]
    },
    {
      "metadata": {
        "id": "llt7qLvWpIsL",
        "colab_type": "code",
        "colab": {}
      },
      "cell_type": "code",
      "source": [
        "%cd instacart_2017_05_01"
      ],
      "execution_count": 0,
      "outputs": []
    },
    {
      "metadata": {
        "id": "O0fAbo82pQsV",
        "colab_type": "code",
        "colab": {}
      },
      "cell_type": "code",
      "source": [
        "!ls -lh"
      ],
      "execution_count": 0,
      "outputs": []
    },
    {
      "metadata": {
        "id": "AaEjdJwqqC7J",
        "colab_type": "text"
      },
      "cell_type": "markdown",
      "source": [
        "Load the CSV files with pandas"
      ]
    },
    {
      "metadata": {
        "id": "OS_eGNXKqAZv",
        "colab_type": "code",
        "colab": {}
      },
      "cell_type": "code",
      "source": [
        ""
      ],
      "execution_count": 0,
      "outputs": []
    },
    {
      "metadata": {
        "id": "-b12SfchpaqX",
        "colab_type": "text"
      },
      "cell_type": "markdown",
      "source": [
        "## Do feature engineering"
      ]
    },
    {
      "metadata": {
        "id": "ZR2aOzvvpYwM",
        "colab_type": "code",
        "colab": {}
      },
      "cell_type": "code",
      "source": [
        ""
      ],
      "execution_count": 0,
      "outputs": []
    }
  ]
}