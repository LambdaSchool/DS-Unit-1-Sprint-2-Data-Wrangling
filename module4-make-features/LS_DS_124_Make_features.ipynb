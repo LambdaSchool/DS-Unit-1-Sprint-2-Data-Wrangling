{
  "nbformat": 4,
  "nbformat_minor": 0,
  "metadata": {
    "colab": {
      "name": "LS_DS_124_Make_features.ipynb",
      "version": "0.3.2",
      "provenance": [],
      "collapsed_sections": []
    },
    "kernelspec": {
      "display_name": "Python 3",
      "language": "python",
      "name": "python3"
    }
  },
  "cells": [
    {
      "metadata": {
        "colab_type": "text",
        "id": "qacqiXogluN_"
      },
      "cell_type": "markdown",
      "source": [
        "_Lambda School Data Science_\n",
        "\n",
        "# Make features\n",
        "\n",
        "Objectives\n",
        "-  understand the purpose of feature engineering\n",
        "-  work with strings in pandas\n",
        "- work with dates and times in pandas\n",
        "\n",
        "Links\n",
        "- [Feature Engineering](https://en.wikipedia.org/wiki/Feature_engineering)\n",
        "- Python Data Science Handbook\n",
        "  - [Chapter 3.10](https://jakevdp.github.io/PythonDataScienceHandbook/03.10-working-with-strings.html), Vectorized String Operations\n",
        "  - [Chapter 3.11](https://jakevdp.github.io/PythonDataScienceHandbook/03.11-working-with-time-series.html), Working with Time Series"
      ]
    },
    {
      "metadata": {
        "colab_type": "text",
        "id": "iSGiSktAoWIx"
      },
      "cell_type": "markdown",
      "source": [
        "## Get LendingClub data\n",
        "\n",
        "[Source](https://www.lendingclub.com/info/download-data.action)"
      ]
    },
    {
      "metadata": {
        "colab_type": "code",
        "id": "2ugxlWXimoHn",
        "colab": {
          "base_uri": "https://localhost:8080/",
          "height": 204
        },
        "outputId": "2a61ae12-cf51-4a5d-a6a5-ab3ef3392289"
      },
      "cell_type": "code",
      "source": [
        "!wget https://resources.lendingclub.com/LoanStats_2018Q4.csv.zip"
      ],
      "execution_count": 1,
      "outputs": [
        {
          "output_type": "stream",
          "text": [
            "--2019-03-28 19:01:09--  https://resources.lendingclub.com/LoanStats_2018Q4.csv.zip\n",
            "Resolving resources.lendingclub.com (resources.lendingclub.com)... 64.48.1.20\n",
            "Connecting to resources.lendingclub.com (resources.lendingclub.com)|64.48.1.20|:443... connected.\n",
            "HTTP request sent, awaiting response... 200 OK\n",
            "Length: unspecified [application/zip]\n",
            "Saving to: ‘LoanStats_2018Q4.csv.zip’\n",
            "\n",
            "LoanStats_2018Q4.cs     [               <=>  ]  21.29M   806KB/s    in 28s     \n",
            "\n",
            "2019-03-28 19:01:37 (793 KB/s) - ‘LoanStats_2018Q4.csv.zip’ saved [22329081]\n",
            "\n"
          ],
          "name": "stdout"
        }
      ]
    },
    {
      "metadata": {
        "colab_type": "code",
        "id": "-4sk6qPgmpmN",
        "colab": {
          "base_uri": "https://localhost:8080/",
          "height": 51
        },
        "outputId": "5a8feb6a-85e8-4999-b8f0-b75fdbea1471"
      },
      "cell_type": "code",
      "source": [
        "!unzip LoanStats_2018Q4.csv.zip"
      ],
      "execution_count": 2,
      "outputs": [
        {
          "output_type": "stream",
          "text": [
            "Archive:  LoanStats_2018Q4.csv.zip\n",
            "  inflating: LoanStats_2018Q4.csv    \n"
          ],
          "name": "stdout"
        }
      ]
    },
    {
      "metadata": {
        "colab_type": "code",
        "id": "seh5oNE1nD0X",
        "colab": {
          "base_uri": "https://localhost:8080/",
          "height": 207
        },
        "outputId": "005104f3-dac8-4f08-b8b8-584a8b5f29f6"
      },
      "cell_type": "code",
      "source": [
        "# These are linux commands\n",
        "!head LoanStats_2018Q4.csv"
      ],
      "execution_count": 3,
      "outputs": [
        {
          "output_type": "stream",
          "text": [
            "Notes offered by Prospectus (https://www.lendingclub.com/info/prospectus.action)\n",
            "\"id\",\"member_id\",\"loan_amnt\",\"funded_amnt\",\"funded_amnt_inv\",\"term\",\"int_rate\",\"installment\",\"grade\",\"sub_grade\",\"emp_title\",\"emp_length\",\"home_ownership\",\"annual_inc\",\"verification_status\",\"issue_d\",\"loan_status\",\"pymnt_plan\",\"url\",\"desc\",\"purpose\",\"title\",\"zip_code\",\"addr_state\",\"dti\",\"delinq_2yrs\",\"earliest_cr_line\",\"inq_last_6mths\",\"mths_since_last_delinq\",\"mths_since_last_record\",\"open_acc\",\"pub_rec\",\"revol_bal\",\"revol_util\",\"total_acc\",\"initial_list_status\",\"out_prncp\",\"out_prncp_inv\",\"total_pymnt\",\"total_pymnt_inv\",\"total_rec_prncp\",\"total_rec_int\",\"total_rec_late_fee\",\"recoveries\",\"collection_recovery_fee\",\"last_pymnt_d\",\"last_pymnt_amnt\",\"next_pymnt_d\",\"last_credit_pull_d\",\"collections_12_mths_ex_med\",\"mths_since_last_major_derog\",\"policy_code\",\"application_type\",\"annual_inc_joint\",\"dti_joint\",\"verification_status_joint\",\"acc_now_delinq\",\"tot_coll_amt\",\"tot_cur_bal\",\"open_acc_6m\",\"open_act_il\",\"open_il_12m\",\"open_il_24m\",\"mths_since_rcnt_il\",\"total_bal_il\",\"il_util\",\"open_rv_12m\",\"open_rv_24m\",\"max_bal_bc\",\"all_util\",\"total_rev_hi_lim\",\"inq_fi\",\"total_cu_tl\",\"inq_last_12m\",\"acc_open_past_24mths\",\"avg_cur_bal\",\"bc_open_to_buy\",\"bc_util\",\"chargeoff_within_12_mths\",\"delinq_amnt\",\"mo_sin_old_il_acct\",\"mo_sin_old_rev_tl_op\",\"mo_sin_rcnt_rev_tl_op\",\"mo_sin_rcnt_tl\",\"mort_acc\",\"mths_since_recent_bc\",\"mths_since_recent_bc_dlq\",\"mths_since_recent_inq\",\"mths_since_recent_revol_delinq\",\"num_accts_ever_120_pd\",\"num_actv_bc_tl\",\"num_actv_rev_tl\",\"num_bc_sats\",\"num_bc_tl\",\"num_il_tl\",\"num_op_rev_tl\",\"num_rev_accts\",\"num_rev_tl_bal_gt_0\",\"num_sats\",\"num_tl_120dpd_2m\",\"num_tl_30dpd\",\"num_tl_90g_dpd_24m\",\"num_tl_op_past_12m\",\"pct_tl_nvr_dlq\",\"percent_bc_gt_75\",\"pub_rec_bankruptcies\",\"tax_liens\",\"tot_hi_cred_lim\",\"total_bal_ex_mort\",\"total_bc_limit\",\"total_il_high_credit_limit\",\"revol_bal_joint\",\"sec_app_earliest_cr_line\",\"sec_app_inq_last_6mths\",\"sec_app_mort_acc\",\"sec_app_open_acc\",\"sec_app_revol_util\",\"sec_app_open_act_il\",\"sec_app_num_rev_accts\",\"sec_app_chargeoff_within_12_mths\",\"sec_app_collections_12_mths_ex_med\",\"sec_app_mths_since_last_major_derog\",\"hardship_flag\",\"hardship_type\",\"hardship_reason\",\"hardship_status\",\"deferral_term\",\"hardship_amount\",\"hardship_start_date\",\"hardship_end_date\",\"payment_plan_start_date\",\"hardship_length\",\"hardship_dpd\",\"hardship_loan_status\",\"orig_projected_additional_accrued_interest\",\"hardship_payoff_balance_amount\",\"hardship_last_payment_amount\",\"disbursement_method\",\"debt_settlement_flag\",\"debt_settlement_flag_date\",\"settlement_status\",\"settlement_date\",\"settlement_amount\",\"settlement_percentage\",\"settlement_term\"\n",
            "\"\",\"\",\"2500\",\"2500\",\"2500\",\" 36 months\",\" 13.56%\",\"84.92\",\"C\",\"C1\",\"Chef\",\"10+ years\",\"RENT\",\"55000\",\"Not Verified\",\"Dec-2018\",\"Current\",\"n\",\"\",\"\",\"debt_consolidation\",\"Debt consolidation\",\"109xx\",\"NY\",\"18.24\",\"0\",\"Apr-2001\",\"1\",\"\",\"45\",\"9\",\"1\",\"4341\",\"10.3%\",\"34\",\"w\",\"2386.02\",\"2386.02\",\"167.02\",\"167.02\",\"113.98\",\"53.04\",\"0.0\",\"0.0\",\"0.0\",\"Feb-2019\",\"84.92\",\"Mar-2019\",\"Feb-2019\",\"0\",\"\",\"1\",\"Individual\",\"\",\"\",\"\",\"0\",\"0\",\"16901\",\"2\",\"2\",\"1\",\"2\",\"2\",\"12560\",\"69\",\"2\",\"7\",\"2137\",\"28\",\"42000\",\"1\",\"11\",\"2\",\"9\",\"1878\",\"34360\",\"5.9\",\"0\",\"0\",\"140\",\"212\",\"1\",\"1\",\"0\",\"1\",\"\",\"2\",\"\",\"0\",\"2\",\"5\",\"3\",\"3\",\"16\",\"7\",\"18\",\"5\",\"9\",\"0\",\"0\",\"0\",\"3\",\"100\",\"0\",\"1\",\"0\",\"60124\",\"16901\",\"36500\",\"18124\",\"\",\"\",\"\",\"\",\"\",\"\",\"\",\"\",\"\",\"\",\"\",\"N\",\"\",\"\",\"\",\"\",\"\",\"\",\"\",\"\",\"\",\"\",\"\",\"\",\"\",\"\",\"Cash\",\"N\",\"\",\"\",\"\",\"\",\"\",\"\"\n",
            "\"\",\"\",\"30000\",\"30000\",\"30000\",\" 60 months\",\" 18.94%\",\"777.23\",\"D\",\"D2\",\"Postmaster \",\"10+ years\",\"MORTGAGE\",\"90000\",\"Source Verified\",\"Dec-2018\",\"Current\",\"n\",\"\",\"\",\"debt_consolidation\",\"Debt consolidation\",\"713xx\",\"LA\",\"26.52\",\"0\",\"Jun-1987\",\"0\",\"71\",\"75\",\"13\",\"1\",\"12315\",\"24.2%\",\"44\",\"w\",\"29387.75\",\"29387.75\",\"1507.11\",\"1507.11\",\"612.25\",\"894.86\",\"0.0\",\"0.0\",\"0.0\",\"Feb-2019\",\"777.23\",\"Mar-2019\",\"Feb-2019\",\"0\",\"\",\"1\",\"Individual\",\"\",\"\",\"\",\"0\",\"1208\",\"321915\",\"4\",\"4\",\"2\",\"3\",\"3\",\"87153\",\"88\",\"4\",\"5\",\"998\",\"57\",\"50800\",\"2\",\"15\",\"2\",\"10\",\"24763\",\"13761\",\"8.3\",\"0\",\"0\",\"163\",\"378\",\"4\",\"3\",\"3\",\"4\",\"\",\"4\",\"\",\"0\",\"2\",\"4\",\"4\",\"9\",\"27\",\"8\",\"14\",\"4\",\"13\",\"0\",\"0\",\"0\",\"6\",\"95\",\"0\",\"1\",\"0\",\"372872\",\"99468\",\"15000\",\"94072\",\"\",\"\",\"\",\"\",\"\",\"\",\"\",\"\",\"\",\"\",\"\",\"N\",\"\",\"\",\"\",\"\",\"\",\"\",\"\",\"\",\"\",\"\",\"\",\"\",\"\",\"\",\"Cash\",\"N\",\"\",\"\",\"\",\"\",\"\",\"\"\n",
            "\"\",\"\",\"5000\",\"5000\",\"5000\",\" 36 months\",\" 17.97%\",\"180.69\",\"D\",\"D1\",\"Administrative\",\"6 years\",\"MORTGAGE\",\"59280\",\"Source Verified\",\"Dec-2018\",\"Current\",\"n\",\"\",\"\",\"debt_consolidation\",\"Debt consolidation\",\"490xx\",\"MI\",\"10.51\",\"0\",\"Apr-2011\",\"0\",\"\",\"\",\"8\",\"0\",\"4599\",\"19.1%\",\"13\",\"w\",\"4787.21\",\"4787.21\",\"353.89\",\"353.89\",\"212.79\",\"141.10\",\"0.0\",\"0.0\",\"0.0\",\"Feb-2019\",\"180.69\",\"Mar-2019\",\"Feb-2019\",\"0\",\"\",\"1\",\"Individual\",\"\",\"\",\"\",\"0\",\"0\",\"110299\",\"0\",\"1\",\"0\",\"2\",\"14\",\"7150\",\"72\",\"0\",\"2\",\"0\",\"35\",\"24100\",\"1\",\"5\",\"0\",\"4\",\"18383\",\"13800\",\"0\",\"0\",\"0\",\"87\",\"92\",\"15\",\"14\",\"2\",\"77\",\"\",\"14\",\"\",\"0\",\"0\",\"3\",\"3\",\"3\",\"4\",\"6\",\"7\",\"3\",\"8\",\"0\",\"0\",\"0\",\"0\",\"100\",\"0\",\"0\",\"0\",\"136927\",\"11749\",\"13800\",\"10000\",\"\",\"\",\"\",\"\",\"\",\"\",\"\",\"\",\"\",\"\",\"\",\"N\",\"\",\"\",\"\",\"\",\"\",\"\",\"\",\"\",\"\",\"\",\"\",\"\",\"\",\"\",\"Cash\",\"N\",\"\",\"\",\"\",\"\",\"\",\"\"\n",
            "\"\",\"\",\"4000\",\"4000\",\"4000\",\" 36 months\",\" 18.94%\",\"146.51\",\"D\",\"D2\",\"IT Supervisor\",\"10+ years\",\"MORTGAGE\",\"92000\",\"Source Verified\",\"Dec-2018\",\"Current\",\"n\",\"\",\"\",\"debt_consolidation\",\"Debt consolidation\",\"985xx\",\"WA\",\"16.74\",\"0\",\"Feb-2006\",\"0\",\"\",\"\",\"10\",\"0\",\"5468\",\"78.1%\",\"13\",\"w\",\"3831.93\",\"3831.93\",\"286.71\",\"286.71\",\"168.07\",\"118.64\",\"0.0\",\"0.0\",\"0.0\",\"Feb-2019\",\"146.51\",\"Mar-2019\",\"Feb-2019\",\"0\",\"\",\"1\",\"Individual\",\"\",\"\",\"\",\"0\",\"686\",\"305049\",\"1\",\"5\",\"3\",\"5\",\"5\",\"30683\",\"68\",\"0\",\"0\",\"3761\",\"70\",\"7000\",\"2\",\"4\",\"3\",\"5\",\"30505\",\"1239\",\"75.2\",\"0\",\"0\",\"62\",\"154\",\"64\",\"5\",\"3\",\"64\",\"\",\"5\",\"\",\"0\",\"1\",\"2\",\"1\",\"2\",\"7\",\"2\",\"3\",\"2\",\"10\",\"0\",\"0\",\"0\",\"3\",\"100\",\"100\",\"0\",\"0\",\"385183\",\"36151\",\"5000\",\"44984\",\"\",\"\",\"\",\"\",\"\",\"\",\"\",\"\",\"\",\"\",\"\",\"N\",\"\",\"\",\"\",\"\",\"\",\"\",\"\",\"\",\"\",\"\",\"\",\"\",\"\",\"\",\"Cash\",\"N\",\"\",\"\",\"\",\"\",\"\",\"\"\n",
            "\"\",\"\",\"30000\",\"30000\",\"30000\",\" 60 months\",\" 16.14%\",\"731.78\",\"C\",\"C4\",\"Mechanic\",\"10+ years\",\"MORTGAGE\",\"57250\",\"Not Verified\",\"Dec-2018\",\"Current\",\"n\",\"\",\"\",\"debt_consolidation\",\"Debt consolidation\",\"212xx\",\"MD\",\"26.35\",\"0\",\"Dec-2000\",\"0\",\"\",\"\",\"12\",\"0\",\"829\",\"3.6%\",\"26\",\"w\",\"29339.02\",\"29339.02\",\"1423.21\",\"1423.21\",\"660.98\",\"762.23\",\"0.0\",\"0.0\",\"0.0\",\"Feb-2019\",\"731.78\",\"Mar-2019\",\"Feb-2019\",\"0\",\"\",\"1\",\"Individual\",\"\",\"\",\"\",\"0\",\"0\",\"116007\",\"3\",\"5\",\"3\",\"5\",\"4\",\"28845\",\"89\",\"2\",\"4\",\"516\",\"54\",\"23100\",\"1\",\"0\",\"0\",\"9\",\"9667\",\"8471\",\"8.9\",\"0\",\"0\",\"53\",\"216\",\"2\",\"2\",\"2\",\"2\",\"\",\"13\",\"\",\"0\",\"2\",\"2\",\"3\",\"8\",\"9\",\"6\",\"15\",\"2\",\"12\",\"0\",\"0\",\"0\",\"5\",\"92.3\",\"0\",\"0\",\"0\",\"157548\",\"29674\",\"9300\",\"32332\",\"\",\"\",\"\",\"\",\"\",\"\",\"\",\"\",\"\",\"\",\"\",\"N\",\"\",\"\",\"\",\"\",\"\",\"\",\"\",\"\",\"\",\"\",\"\",\"\",\"\",\"\",\"Cash\",\"N\",\"\",\"\",\"\",\"\",\"\",\"\"\n",
            "\"\",\"\",\"5550\",\"5550\",\"5550\",\" 36 months\",\" 15.02%\",\"192.45\",\"C\",\"C3\",\"Director COE\",\"10+ years\",\"MORTGAGE\",\"152500\",\"Not Verified\",\"Dec-2018\",\"Current\",\"n\",\"\",\"\",\"credit_card\",\"Credit card refinancing\",\"461xx\",\"IN\",\"37.94\",\"0\",\"Sep-2002\",\"3\",\"\",\"\",\"18\",\"0\",\"53854\",\"48.1%\",\"44\",\"w\",\"5302.50\",\"5302.50\",\"377.95\",\"377.95\",\"247.50\",\"130.45\",\"0.0\",\"0.0\",\"0.0\",\"Feb-2019\",\"192.45\",\"Mar-2019\",\"Feb-2019\",\"0\",\"\",\"1\",\"Individual\",\"\",\"\",\"\",\"0\",\"0\",\"685749\",\"1\",\"7\",\"2\",\"3\",\"4\",\"131524\",\"72\",\"1\",\"4\",\"17584\",\"58\",\"111900\",\"2\",\"4\",\"6\",\"8\",\"40338\",\"23746\",\"64\",\"0\",\"0\",\"195\",\"176\",\"10\",\"4\",\"6\",\"20\",\"\",\"3\",\"\",\"0\",\"4\",\"6\",\"6\",\"10\",\"23\",\"9\",\"15\",\"7\",\"18\",\"0\",\"0\",\"0\",\"4\",\"100\",\"60\",\"0\",\"0\",\"831687\",\"185378\",\"65900\",\"203159\",\"\",\"\",\"\",\"\",\"\",\"\",\"\",\"\",\"\",\"\",\"\",\"N\",\"\",\"\",\"\",\"\",\"\",\"\",\"\",\"\",\"\",\"\",\"\",\"\",\"\",\"\",\"Cash\",\"N\",\"\",\"\",\"\",\"\",\"\",\"\"\n",
            "\"\",\"\",\"2000\",\"2000\",\"2000\",\" 36 months\",\" 17.97%\",\"72.28\",\"D\",\"D1\",\"Account Manager\",\"4 years\",\"RENT\",\"51000\",\"Source Verified\",\"Dec-2018\",\"Current\",\"n\",\"\",\"\",\"debt_consolidation\",\"Debt consolidation\",\"606xx\",\"IL\",\"2.4\",\"0\",\"Nov-2004\",\"1\",\"\",\"\",\"1\",\"0\",\"0\",\"\",\"9\",\"w\",\"1914.71\",\"1914.71\",\"141.56\",\"141.56\",\"85.29\",\"56.27\",\"0.0\",\"0.0\",\"0.0\",\"Feb-2019\",\"72.28\",\"Mar-2019\",\"Feb-2019\",\"0\",\"\",\"1\",\"Individual\",\"\",\"\",\"\",\"0\",\"0\",\"854\",\"0\",\"0\",\"2\",\"3\",\"7\",\"0\",\"\",\"0\",\"1\",\"0\",\"100\",\"0\",\"0\",\"0\",\"1\",\"4\",\"854\",\"\",\"\",\"0\",\"0\",\"169\",\"40\",\"23\",\"7\",\"0\",\"\",\"\",\"1\",\"\",\"0\",\"0\",\"0\",\"0\",\"3\",\"5\",\"0\",\"3\",\"0\",\"1\",\"0\",\"0\",\"0\",\"2\",\"100\",\"\",\"0\",\"0\",\"854\",\"854\",\"0\",\"0\",\"\",\"\",\"\",\"\",\"\",\"\",\"\",\"\",\"\",\"\",\"\",\"N\",\"\",\"\",\"\",\"\",\"\",\"\",\"\",\"\",\"\",\"\",\"\",\"\",\"\",\"\",\"Cash\",\"N\",\"\",\"\",\"\",\"\",\"\",\"\"\n",
            "\"\",\"\",\"6000\",\"6000\",\"6000\",\" 36 months\",\" 13.56%\",\"203.79\",\"C\",\"C1\",\"Assistant Director\",\"10+ years\",\"RENT\",\"65000\",\"Source Verified\",\"Dec-2018\",\"Current\",\"n\",\"\",\"\",\"credit_card\",\"Credit card refinancing\",\"460xx\",\"IN\",\"30.1\",\"0\",\"Nov-1997\",\"0\",\"\",\"\",\"19\",\"0\",\"38476\",\"69.3%\",\"37\",\"w\",\"5864.01\",\"5864.01\",\"201.53\",\"201.53\",\"135.99\",\"65.54\",\"0.0\",\"0.0\",\"0.0\",\"Feb-2019\",\"208.31\",\"Mar-2019\",\"Feb-2019\",\"0\",\"\",\"1\",\"Individual\",\"\",\"\",\"\",\"0\",\"0\",\"91535\",\"0\",\"5\",\"0\",\"1\",\"23\",\"53059\",\"87\",\"0\",\"2\",\"9413\",\"74\",\"55500\",\"1\",\"2\",\"0\",\"3\",\"5085\",\"3034\",\"90.8\",\"0\",\"0\",\"169\",\"253\",\"13\",\"13\",\"1\",\"14\",\"\",\"13\",\"\",\"0\",\"7\",\"12\",\"8\",\"10\",\"15\",\"14\",\"20\",\"12\",\"19\",\"0\",\"0\",\"0\",\"0\",\"100\",\"85.7\",\"0\",\"0\",\"117242\",\"91535\",\"33100\",\"61742\",\"\",\"\",\"\",\"\",\"\",\"\",\"\",\"\",\"\",\"\",\"\",\"N\",\"\",\"\",\"\",\"\",\"\",\"\",\"\",\"\",\"\",\"\",\"\",\"\",\"\",\"\",\"DirectPay\",\"N\",\"\",\"\",\"\",\"\",\"\",\"\"\n"
          ],
          "name": "stdout"
        }
      ]
    },
    {
      "metadata": {
        "id": "VeSxZ7ggDsLc",
        "colab_type": "code",
        "colab": {
          "base_uri": "https://localhost:8080/",
          "height": 207
        },
        "outputId": "23f903e9-729c-4b5a-cd89-b4483469080a"
      },
      "cell_type": "code",
      "source": [
        "!tail LoanStats_2018Q4.csv"
      ],
      "execution_count": 4,
      "outputs": [
        {
          "output_type": "stream",
          "text": [
            "\"\",\"\",\"5600\",\"5600\",\"5600\",\" 36 months\",\" 13.56%\",\"190.21\",\"C\",\"C1\",\"\",\"n/a\",\"RENT\",\"15600\",\"Not Verified\",\"Oct-2018\",\"Current\",\"n\",\"\",\"\",\"credit_card\",\"Credit card refinancing\",\"836xx\",\"ID\",\"15.31\",\"0\",\"Aug-2012\",\"0\",\"\",\"97\",\"9\",\"1\",\"5996\",\"34.5%\",\"11\",\"w\",\"5083.61\",\"5083.61\",\"750.29\",\"750.29\",\"516.39\",\"233.90\",\"0.0\",\"0.0\",\"0.0\",\"Feb-2019\",\"190.21\",\"Mar-2019\",\"Feb-2019\",\"0\",\"\",\"1\",\"Individual\",\"\",\"\",\"\",\"0\",\"0\",\"5996\",\"0\",\"0\",\"0\",\"1\",\"20\",\"0\",\"\",\"0\",\"2\",\"3017\",\"35\",\"17400\",\"1\",\"0\",\"0\",\"3\",\"750\",\"4689\",\"45.5\",\"0\",\"0\",\"20\",\"73\",\"13\",\"13\",\"0\",\"13\",\"\",\"20\",\"\",\"0\",\"3\",\"5\",\"4\",\"4\",\"1\",\"9\",\"10\",\"5\",\"9\",\"0\",\"0\",\"0\",\"0\",\"100\",\"25\",\"1\",\"0\",\"17400\",\"5996\",\"8600\",\"0\",\"\",\"\",\"\",\"\",\"\",\"\",\"\",\"\",\"\",\"\",\"\",\"N\",\"\",\"\",\"\",\"\",\"\",\"\",\"\",\"\",\"\",\"\",\"\",\"\",\"\",\"\",\"Cash\",\"N\",\"\",\"\",\"\",\"\",\"\",\"\"\n",
            "\"\",\"\",\"23000\",\"23000\",\"23000\",\" 36 months\",\" 15.02%\",\"797.53\",\"C\",\"C3\",\"Tax Consultant\",\"10+ years\",\"MORTGAGE\",\"75000\",\"Source Verified\",\"Oct-2018\",\"Charged Off\",\"n\",\"\",\"\",\"debt_consolidation\",\"Debt consolidation\",\"352xx\",\"AL\",\"20.95\",\"1\",\"Aug-1985\",\"2\",\"22\",\"\",\"12\",\"0\",\"22465\",\"43.6%\",\"28\",\"w\",\"0.00\",\"0.00\",\"1547.08\",\"1547.08\",\"1025.67\",\"521.41\",\"0.0\",\"0.0\",\"0.0\",\"Dec-2018\",\"797.53\",\"\",\"Nov-2018\",\"0\",\"\",\"1\",\"Individual\",\"\",\"\",\"\",\"0\",\"0\",\"259658\",\"4\",\"2\",\"3\",\"3\",\"6\",\"18149\",\"86\",\"4\",\"6\",\"12843\",\"56\",\"51500\",\"2\",\"2\",\"5\",\"11\",\"21638\",\"26321\",\"44.1\",\"0\",\"0\",\"12\",\"397\",\"4\",\"4\",\"6\",\"5\",\"22\",\"4\",\"22\",\"0\",\"4\",\"5\",\"7\",\"14\",\"3\",\"9\",\"19\",\"5\",\"12\",\"0\",\"0\",\"0\",\"7\",\"96.4\",\"14.3\",\"0\",\"0\",\"296500\",\"40614\",\"47100\",\"21000\",\"\",\"\",\"\",\"\",\"\",\"\",\"\",\"\",\"\",\"\",\"\",\"N\",\"\",\"\",\"\",\"\",\"\",\"\",\"\",\"\",\"\",\"\",\"\",\"\",\"\",\"\",\"Cash\",\"N\",\"\",\"\",\"\",\"\",\"\",\"\"\n",
            "\"\",\"\",\"10000\",\"10000\",\"10000\",\" 36 months\",\" 15.02%\",\"346.76\",\"C\",\"C3\",\"security guard\",\"5 years\",\"MORTGAGE\",\"38000\",\"Not Verified\",\"Oct-2018\",\"Current\",\"n\",\"\",\"\",\"debt_consolidation\",\"Debt consolidation\",\"443xx\",\"OH\",\"13.16\",\"3\",\"Jul-1982\",\"0\",\"6\",\"\",\"11\",\"0\",\"5634\",\"37.1%\",\"16\",\"w\",\"9096.85\",\"9096.85\",\"1378.7\",\"1378.70\",\"903.15\",\"475.55\",\"0.0\",\"0.0\",\"0.0\",\"Feb-2019\",\"346.76\",\"Mar-2019\",\"Feb-2019\",\"0\",\"\",\"1\",\"Individual\",\"\",\"\",\"\",\"0\",\"155\",\"77424\",\"0\",\"1\",\"0\",\"0\",\"34\",\"200\",\"10\",\"1\",\"1\",\"1866\",\"42\",\"15200\",\"2\",\"0\",\"0\",\"2\",\"7039\",\"4537\",\"50.1\",\"0\",\"0\",\"34\",\"434\",\"11\",\"11\",\"3\",\"11\",\"6\",\"17\",\"6\",\"0\",\"3\",\"5\",\"5\",\"6\",\"1\",\"8\",\"11\",\"5\",\"11\",\"0\",\"0\",\"0\",\"1\",\"73.3\",\"40\",\"0\",\"0\",\"91403\",\"9323\",\"9100\",\"2000\",\"\",\"\",\"\",\"\",\"\",\"\",\"\",\"\",\"\",\"\",\"\",\"N\",\"\",\"\",\"\",\"\",\"\",\"\",\"\",\"\",\"\",\"\",\"\",\"\",\"\",\"\",\"Cash\",\"N\",\"\",\"\",\"\",\"\",\"\",\"\"\n",
            "\"\",\"\",\"5000\",\"5000\",\"5000\",\" 36 months\",\" 13.56%\",\"169.83\",\"C\",\"C1\",\"Payoff Clerk\",\"10+ years\",\"MORTGAGE\",\"35360\",\"Not Verified\",\"Oct-2018\",\"Current\",\"n\",\"\",\"\",\"debt_consolidation\",\"Debt consolidation\",\"381xx\",\"TN\",\"11.3\",\"1\",\"Jun-2006\",\"0\",\"21\",\"\",\"9\",\"0\",\"2597\",\"27.3%\",\"15\",\"f\",\"4538.94\",\"4538.94\",\"675.55\",\"675.55\",\"461.06\",\"214.49\",\"0.0\",\"0.0\",\"0.0\",\"Feb-2019\",\"169.83\",\"Mar-2019\",\"Feb-2019\",\"0\",\"\",\"1\",\"Individual\",\"\",\"\",\"\",\"0\",\"1413\",\"69785\",\"0\",\"2\",\"0\",\"1\",\"16\",\"2379\",\"40\",\"3\",\"4\",\"1826\",\"32\",\"9500\",\"0\",\"0\",\"1\",\"5\",\"8723\",\"1174\",\"60.9\",\"0\",\"0\",\"147\",\"85\",\"9\",\"9\",\"2\",\"10\",\"21\",\"9\",\"21\",\"0\",\"1\",\"3\",\"2\",\"2\",\"6\",\"6\",\"7\",\"3\",\"9\",\"0\",\"0\",\"0\",\"3\",\"92.9\",\"50\",\"0\",\"0\",\"93908\",\"4976\",\"3000\",\"6028\",\"\",\"\",\"\",\"\",\"\",\"\",\"\",\"\",\"\",\"\",\"\",\"N\",\"\",\"\",\"\",\"\",\"\",\"\",\"\",\"\",\"\",\"\",\"\",\"\",\"\",\"\",\"Cash\",\"N\",\"\",\"\",\"\",\"\",\"\",\"\"\n",
            "\"\",\"\",\"10000\",\"10000\",\"9750\",\" 36 months\",\" 11.06%\",\"327.68\",\"B\",\"B3\",\"\",\"n/a\",\"RENT\",\"44400\",\"Source Verified\",\"Oct-2018\",\"Current\",\"n\",\"\",\"\",\"credit_card\",\"Credit card refinancing\",\"980xx\",\"WA\",\"11.78\",\"0\",\"Oct-2008\",\"2\",\"40\",\"\",\"15\",\"0\",\"6269\",\"13.1%\",\"25\",\"f\",\"9044.84\",\"8818.72\",\"1295.36\",\"1262.98\",\"955.16\",\"340.20\",\"0.0\",\"0.0\",\"0.0\",\"Feb-2019\",\"327.68\",\"Mar-2019\",\"Feb-2019\",\"0\",\"53\",\"1\",\"Individual\",\"\",\"\",\"\",\"0\",\"520\",\"16440\",\"3\",\"1\",\"1\",\"1\",\"2\",\"10171\",\"100\",\"2\",\"5\",\"404\",\"28\",\"47700\",\"0\",\"3\",\"5\",\"6\",\"1265\",\"20037\",\"2.3\",\"0\",\"0\",\"61\",\"119\",\"1\",\"1\",\"0\",\"1\",\"\",\"1\",\"40\",\"1\",\"2\",\"4\",\"6\",\"8\",\"3\",\"14\",\"22\",\"4\",\"15\",\"0\",\"0\",\"0\",\"3\",\"92\",\"0\",\"0\",\"0\",\"57871\",\"16440\",\"20500\",\"10171\",\"\",\"\",\"\",\"\",\"\",\"\",\"\",\"\",\"\",\"\",\"\",\"N\",\"\",\"\",\"\",\"\",\"\",\"\",\"\",\"\",\"\",\"\",\"\",\"\",\"\",\"\",\"Cash\",\"N\",\"\",\"\",\"\",\"\",\"\",\"\"\n",
            "\"\",\"\",\"10000\",\"10000\",\"10000\",\" 36 months\",\" 16.91%\",\"356.08\",\"C\",\"C5\",\"Key Accounts Manager\",\"2 years\",\"RENT\",\"80000\",\"Not Verified\",\"Oct-2018\",\"Current\",\"n\",\"\",\"\",\"other\",\"Other\",\"021xx\",\"MA\",\"17.72\",\"1\",\"Sep-2006\",\"0\",\"14\",\"\",\"17\",\"0\",\"1942\",\"30.8%\",\"31\",\"w\",\"9120.98\",\"9120.98\",\"1414.93\",\"1414.93\",\"879.02\",\"535.91\",\"0.0\",\"0.0\",\"0.0\",\"Feb-2019\",\"356.08\",\"Mar-2019\",\"Feb-2019\",\"0\",\"25\",\"1\",\"Individual\",\"\",\"\",\"\",\"0\",\"0\",\"59194\",\"0\",\"15\",\"1\",\"1\",\"12\",\"57252\",\"85\",\"0\",\"0\",\"1942\",\"80\",\"6300\",\"0\",\"5\",\"0\",\"1\",\"3482\",\"2058\",\"48.5\",\"0\",\"0\",\"144\",\"142\",\"40\",\"12\",\"0\",\"131\",\"30\",\"\",\"30\",\"3\",\"1\",\"1\",\"1\",\"5\",\"22\",\"2\",\"9\",\"1\",\"17\",\"0\",\"0\",\"0\",\"1\",\"74.2\",\"0\",\"0\",\"0\",\"73669\",\"59194\",\"4000\",\"67369\",\"\",\"\",\"\",\"\",\"\",\"\",\"\",\"\",\"\",\"\",\"\",\"N\",\"\",\"\",\"\",\"\",\"\",\"\",\"\",\"\",\"\",\"\",\"\",\"\",\"\",\"\",\"Cash\",\"N\",\"\",\"\",\"\",\"\",\"\",\"\"\n",
            "\n",
            "\n",
            "Total amount funded in policy code 1: 2050909275\n",
            "Total amount funded in policy code 2: 820109297\n"
          ],
          "name": "stdout"
        }
      ]
    },
    {
      "metadata": {
        "colab_type": "text",
        "id": "3nAIRCZdofrY"
      },
      "cell_type": "markdown",
      "source": [
        "## Load LendingClub data\n",
        "\n",
        "pandas documentation\n",
        "- [`read_csv`](https://pandas.pydata.org/pandas-docs/stable/generated/pandas.read_csv.html)\n",
        "- [`options.display`](https://pandas.pydata.org/pandas-docs/stable/options.html#available-options)"
      ]
    },
    {
      "metadata": {
        "id": "2gGBChiWCo5N",
        "colab_type": "code",
        "colab": {}
      },
      "cell_type": "code",
      "source": [
        "# Feautures are essentially another fancy term for specified columns"
      ],
      "execution_count": 0,
      "outputs": []
    },
    {
      "metadata": {
        "colab_type": "code",
        "id": "3-8Vn3y6ooBC",
        "colab": {}
      },
      "cell_type": "code",
      "source": [
        "import pandas as pd\n",
        "df = pd.read_csv('LoanStats_2018Q4.csv', skiprows=1, skipfooter=2, engine='python')"
      ],
      "execution_count": 0,
      "outputs": []
    },
    {
      "metadata": {
        "id": "PebZbILzEH53",
        "colab_type": "code",
        "colab": {
          "base_uri": "https://localhost:8080/",
          "height": 102
        },
        "outputId": "a5ce9a47-0440-48bb-e7c9-e5cd563e0373"
      },
      "cell_type": "code",
      "source": [
        "df.info() # That weird column is throwing things off"
      ],
      "execution_count": 6,
      "outputs": [
        {
          "output_type": "stream",
          "text": [
            "<class 'pandas.core.frame.DataFrame'>\n",
            "RangeIndex: 128412 entries, 0 to 128411\n",
            "Columns: 145 entries, id to settlement_term\n",
            "dtypes: float64(57), int64(51), object(37)\n",
            "memory usage: 142.1+ MB\n"
          ],
          "name": "stdout"
        }
      ]
    },
    {
      "metadata": {
        "id": "0OYtBy0iE_EX",
        "colab_type": "code",
        "colab": {}
      },
      "cell_type": "code",
      "source": [
        "df.columns.tolist() # see all columns"
      ],
      "execution_count": 0,
      "outputs": []
    },
    {
      "metadata": {
        "id": "dUc_nDNAFKrG",
        "colab_type": "code",
        "colab": {
          "base_uri": "https://localhost:8080/",
          "height": 34
        },
        "outputId": "ff439378-60f3-4c33-bb71-d1a850a432d6"
      },
      "cell_type": "code",
      "source": [
        "df.isnull().sum().sum()"
      ],
      "execution_count": 7,
      "outputs": [
        {
          "output_type": "execute_result",
          "data": {
            "text/plain": [
              "5229357"
            ]
          },
          "metadata": {
            "tags": []
          },
          "execution_count": 7
        }
      ]
    },
    {
      "metadata": {
        "id": "LoHw7cYfF6MS",
        "colab_type": "code",
        "colab": {}
      },
      "cell_type": "code",
      "source": [
        "# How to extend rows\n",
        "pd.options.display.max_columns = 500\n",
        "pd.options.display.max_columns = 500\n",
        "df.head()"
      ],
      "execution_count": 0,
      "outputs": []
    },
    {
      "metadata": {
        "colab_type": "text",
        "id": "1b5_hMTio2Ly"
      },
      "cell_type": "markdown",
      "source": [
        "## Work with strings"
      ]
    },
    {
      "metadata": {
        "id": "wYe10GfPykmd",
        "colab_type": "text"
      },
      "cell_type": "markdown",
      "source": [
        "For machine learning, we usually want to replace strings with numbers.\n",
        "\n",
        "We can get info about which columns have a datatype of \"object\" (strings)"
      ]
    },
    {
      "metadata": {
        "colab_type": "code",
        "id": "WOL7QPVNo3F4",
        "colab": {
          "base_uri": "https://localhost:8080/",
          "height": 244
        },
        "outputId": "3c779333-ccb2-4304-b37e-de5f73628af7"
      },
      "cell_type": "code",
      "source": [
        "df.describe(exclude='number')"
      ],
      "execution_count": 9,
      "outputs": [
        {
          "output_type": "execute_result",
          "data": {
            "text/html": [
              "<div>\n",
              "<style scoped>\n",
              "    .dataframe tbody tr th:only-of-type {\n",
              "        vertical-align: middle;\n",
              "    }\n",
              "\n",
              "    .dataframe tbody tr th {\n",
              "        vertical-align: top;\n",
              "    }\n",
              "\n",
              "    .dataframe thead th {\n",
              "        text-align: right;\n",
              "    }\n",
              "</style>\n",
              "<table border=\"1\" class=\"dataframe\">\n",
              "  <thead>\n",
              "    <tr style=\"text-align: right;\">\n",
              "      <th></th>\n",
              "      <th>term</th>\n",
              "      <th>int_rate</th>\n",
              "      <th>grade</th>\n",
              "      <th>sub_grade</th>\n",
              "      <th>emp_title</th>\n",
              "      <th>emp_length</th>\n",
              "      <th>home_ownership</th>\n",
              "      <th>verification_status</th>\n",
              "      <th>issue_d</th>\n",
              "      <th>loan_status</th>\n",
              "      <th>pymnt_plan</th>\n",
              "      <th>purpose</th>\n",
              "      <th>title</th>\n",
              "      <th>zip_code</th>\n",
              "      <th>addr_state</th>\n",
              "      <th>earliest_cr_line</th>\n",
              "      <th>revol_util</th>\n",
              "      <th>initial_list_status</th>\n",
              "      <th>last_pymnt_d</th>\n",
              "      <th>next_pymnt_d</th>\n",
              "      <th>last_credit_pull_d</th>\n",
              "      <th>application_type</th>\n",
              "      <th>verification_status_joint</th>\n",
              "      <th>sec_app_earliest_cr_line</th>\n",
              "      <th>hardship_flag</th>\n",
              "      <th>hardship_type</th>\n",
              "      <th>hardship_reason</th>\n",
              "      <th>hardship_status</th>\n",
              "      <th>hardship_start_date</th>\n",
              "      <th>hardship_end_date</th>\n",
              "      <th>payment_plan_start_date</th>\n",
              "      <th>hardship_loan_status</th>\n",
              "      <th>disbursement_method</th>\n",
              "      <th>debt_settlement_flag</th>\n",
              "      <th>debt_settlement_flag_date</th>\n",
              "      <th>settlement_status</th>\n",
              "      <th>settlement_date</th>\n",
              "    </tr>\n",
              "  </thead>\n",
              "  <tbody>\n",
              "    <tr>\n",
              "      <th>count</th>\n",
              "      <td>128412</td>\n",
              "      <td>128412</td>\n",
              "      <td>128412</td>\n",
              "      <td>128412</td>\n",
              "      <td>107465</td>\n",
              "      <td>116708</td>\n",
              "      <td>128412</td>\n",
              "      <td>128412</td>\n",
              "      <td>128412</td>\n",
              "      <td>128412</td>\n",
              "      <td>128412</td>\n",
              "      <td>128412</td>\n",
              "      <td>128412</td>\n",
              "      <td>128412</td>\n",
              "      <td>128412</td>\n",
              "      <td>128412</td>\n",
              "      <td>128256</td>\n",
              "      <td>128412</td>\n",
              "      <td>128250</td>\n",
              "      <td>124941</td>\n",
              "      <td>128411</td>\n",
              "      <td>128412</td>\n",
              "      <td>14848</td>\n",
              "      <td>16782</td>\n",
              "      <td>128412</td>\n",
              "      <td>1</td>\n",
              "      <td>1</td>\n",
              "      <td>1</td>\n",
              "      <td>1</td>\n",
              "      <td>1</td>\n",
              "      <td>1</td>\n",
              "      <td>1</td>\n",
              "      <td>128412</td>\n",
              "      <td>128412</td>\n",
              "      <td>2</td>\n",
              "      <td>2</td>\n",
              "      <td>2</td>\n",
              "    </tr>\n",
              "    <tr>\n",
              "      <th>unique</th>\n",
              "      <td>2</td>\n",
              "      <td>46</td>\n",
              "      <td>7</td>\n",
              "      <td>35</td>\n",
              "      <td>43892</td>\n",
              "      <td>11</td>\n",
              "      <td>4</td>\n",
              "      <td>3</td>\n",
              "      <td>3</td>\n",
              "      <td>6</td>\n",
              "      <td>2</td>\n",
              "      <td>12</td>\n",
              "      <td>12</td>\n",
              "      <td>880</td>\n",
              "      <td>50</td>\n",
              "      <td>644</td>\n",
              "      <td>1074</td>\n",
              "      <td>2</td>\n",
              "      <td>5</td>\n",
              "      <td>3</td>\n",
              "      <td>7</td>\n",
              "      <td>2</td>\n",
              "      <td>3</td>\n",
              "      <td>573</td>\n",
              "      <td>2</td>\n",
              "      <td>1</td>\n",
              "      <td>1</td>\n",
              "      <td>1</td>\n",
              "      <td>1</td>\n",
              "      <td>1</td>\n",
              "      <td>1</td>\n",
              "      <td>1</td>\n",
              "      <td>2</td>\n",
              "      <td>2</td>\n",
              "      <td>1</td>\n",
              "      <td>1</td>\n",
              "      <td>1</td>\n",
              "    </tr>\n",
              "    <tr>\n",
              "      <th>top</th>\n",
              "      <td>36 months</td>\n",
              "      <td>13.56%</td>\n",
              "      <td>A</td>\n",
              "      <td>A4</td>\n",
              "      <td>Teacher</td>\n",
              "      <td>10+ years</td>\n",
              "      <td>MORTGAGE</td>\n",
              "      <td>Not Verified</td>\n",
              "      <td>Oct-2018</td>\n",
              "      <td>Current</td>\n",
              "      <td>n</td>\n",
              "      <td>debt_consolidation</td>\n",
              "      <td>Debt consolidation</td>\n",
              "      <td>112xx</td>\n",
              "      <td>CA</td>\n",
              "      <td>Aug-2006</td>\n",
              "      <td>0%</td>\n",
              "      <td>w</td>\n",
              "      <td>Feb-2019</td>\n",
              "      <td>Mar-2019</td>\n",
              "      <td>Feb-2019</td>\n",
              "      <td>Individual</td>\n",
              "      <td>Not Verified</td>\n",
              "      <td>Aug-2006</td>\n",
              "      <td>N</td>\n",
              "      <td>INTEREST ONLY-3 MONTHS DEFERRAL</td>\n",
              "      <td>UNEMPLOYMENT</td>\n",
              "      <td>ACTIVE</td>\n",
              "      <td>Feb-2019</td>\n",
              "      <td>Apr-2019</td>\n",
              "      <td>Feb-2019</td>\n",
              "      <td>Late (16-30 days)</td>\n",
              "      <td>Cash</td>\n",
              "      <td>N</td>\n",
              "      <td>Feb-2019</td>\n",
              "      <td>ACTIVE</td>\n",
              "      <td>Feb-2019</td>\n",
              "    </tr>\n",
              "    <tr>\n",
              "      <th>freq</th>\n",
              "      <td>88179</td>\n",
              "      <td>6976</td>\n",
              "      <td>38011</td>\n",
              "      <td>9770</td>\n",
              "      <td>2090</td>\n",
              "      <td>38826</td>\n",
              "      <td>63490</td>\n",
              "      <td>58350</td>\n",
              "      <td>46305</td>\n",
              "      <td>123768</td>\n",
              "      <td>128411</td>\n",
              "      <td>70603</td>\n",
              "      <td>70603</td>\n",
              "      <td>1370</td>\n",
              "      <td>17879</td>\n",
              "      <td>1130</td>\n",
              "      <td>1132</td>\n",
              "      <td>114498</td>\n",
              "      <td>123797</td>\n",
              "      <td>124903</td>\n",
              "      <td>125061</td>\n",
              "      <td>111630</td>\n",
              "      <td>6360</td>\n",
              "      <td>155</td>\n",
              "      <td>128411</td>\n",
              "      <td>1</td>\n",
              "      <td>1</td>\n",
              "      <td>1</td>\n",
              "      <td>1</td>\n",
              "      <td>1</td>\n",
              "      <td>1</td>\n",
              "      <td>1</td>\n",
              "      <td>102516</td>\n",
              "      <td>128410</td>\n",
              "      <td>2</td>\n",
              "      <td>2</td>\n",
              "      <td>2</td>\n",
              "    </tr>\n",
              "  </tbody>\n",
              "</table>\n",
              "</div>"
            ],
            "text/plain": [
              "              term int_rate   grade sub_grade emp_title emp_length  \\\n",
              "count       128412   128412  128412    128412    107465     116708   \n",
              "unique           2       46       7        35     43892         11   \n",
              "top      36 months   13.56%       A        A4   Teacher  10+ years   \n",
              "freq         88179     6976   38011      9770      2090      38826   \n",
              "\n",
              "       home_ownership verification_status   issue_d loan_status pymnt_plan  \\\n",
              "count          128412              128412    128412      128412     128412   \n",
              "unique              4                   3         3           6          2   \n",
              "top          MORTGAGE        Not Verified  Oct-2018     Current          n   \n",
              "freq            63490               58350     46305      123768     128411   \n",
              "\n",
              "                   purpose               title zip_code addr_state  \\\n",
              "count               128412              128412   128412     128412   \n",
              "unique                  12                  12      880         50   \n",
              "top     debt_consolidation  Debt consolidation    112xx         CA   \n",
              "freq                 70603               70603     1370      17879   \n",
              "\n",
              "       earliest_cr_line revol_util initial_list_status last_pymnt_d  \\\n",
              "count            128412     128256              128412       128250   \n",
              "unique              644       1074                   2            5   \n",
              "top            Aug-2006         0%                   w     Feb-2019   \n",
              "freq               1130       1132              114498       123797   \n",
              "\n",
              "       next_pymnt_d last_credit_pull_d application_type  \\\n",
              "count        124941             128411           128412   \n",
              "unique            3                  7                2   \n",
              "top        Mar-2019           Feb-2019       Individual   \n",
              "freq         124903             125061           111630   \n",
              "\n",
              "       verification_status_joint sec_app_earliest_cr_line hardship_flag  \\\n",
              "count                      14848                    16782        128412   \n",
              "unique                         3                      573             2   \n",
              "top                 Not Verified                 Aug-2006             N   \n",
              "freq                        6360                      155        128411   \n",
              "\n",
              "                          hardship_type hardship_reason hardship_status  \\\n",
              "count                                 1               1               1   \n",
              "unique                                1               1               1   \n",
              "top     INTEREST ONLY-3 MONTHS DEFERRAL    UNEMPLOYMENT          ACTIVE   \n",
              "freq                                  1               1               1   \n",
              "\n",
              "       hardship_start_date hardship_end_date payment_plan_start_date  \\\n",
              "count                    1                 1                       1   \n",
              "unique                   1                 1                       1   \n",
              "top               Feb-2019          Apr-2019                Feb-2019   \n",
              "freq                     1                 1                       1   \n",
              "\n",
              "       hardship_loan_status disbursement_method debt_settlement_flag  \\\n",
              "count                     1              128412               128412   \n",
              "unique                    1                   2                    2   \n",
              "top       Late (16-30 days)                Cash                    N   \n",
              "freq                      1              102516               128410   \n",
              "\n",
              "       debt_settlement_flag_date settlement_status settlement_date  \n",
              "count                          2                 2               2  \n",
              "unique                         1                 1               1  \n",
              "top                     Feb-2019            ACTIVE        Feb-2019  \n",
              "freq                           2                 2               2  "
            ]
          },
          "metadata": {
            "tags": []
          },
          "execution_count": 9
        }
      ]
    },
    {
      "metadata": {
        "id": "WjgFzmK2ykmk",
        "colab_type": "text"
      },
      "cell_type": "markdown",
      "source": [
        "### Convert `int_rate`\n",
        "\n"
      ]
    },
    {
      "metadata": {
        "id": "xv00NIi5ykml",
        "colab_type": "code",
        "colab": {
          "base_uri": "https://localhost:8080/",
          "height": 34
        },
        "outputId": "245c615c-0700-418f-8368-b4c4d164811b"
      },
      "cell_type": "code",
      "source": [
        "'13.56%'.strip('%') # How you strip symbols from a str"
      ],
      "execution_count": 10,
      "outputs": [
        {
          "output_type": "execute_result",
          "data": {
            "text/plain": [
              "'13.56'"
            ]
          },
          "metadata": {
            "tags": []
          },
          "execution_count": 10
        }
      ]
    },
    {
      "metadata": {
        "id": "SZtUVFahIIqz",
        "colab_type": "code",
        "colab": {
          "base_uri": "https://localhost:8080/",
          "height": 34
        },
        "outputId": "438587d9-4171-4699-b52e-2c007029e60f"
      },
      "cell_type": "code",
      "source": [
        "type('13.56%'.strip('%')) # still a string"
      ],
      "execution_count": 11,
      "outputs": [
        {
          "output_type": "execute_result",
          "data": {
            "text/plain": [
              "str"
            ]
          },
          "metadata": {
            "tags": []
          },
          "execution_count": 11
        }
      ]
    },
    {
      "metadata": {
        "id": "yQLUrDpEIOTD",
        "colab_type": "code",
        "colab": {
          "base_uri": "https://localhost:8080/",
          "height": 34
        },
        "outputId": "74e3025f-7cba-481f-a794-fa9322d9be89"
      },
      "cell_type": "code",
      "source": [
        "float('13.56%'.strip('%')) # put all of this within a float and that accomplishes the job"
      ],
      "execution_count": 12,
      "outputs": [
        {
          "output_type": "execute_result",
          "data": {
            "text/plain": [
              "13.56"
            ]
          },
          "metadata": {
            "tags": []
          },
          "execution_count": 12
        }
      ]
    },
    {
      "metadata": {
        "id": "SVz503TfIaSx",
        "colab_type": "code",
        "colab": {}
      },
      "cell_type": "code",
      "source": [
        "# This is the one-liner that you really want to work with, most optimal\n",
        "\n",
        "df['int_rate'] = df['int_rate'].str.strip('%').astype(float) \n",
        "#df['int_rate'].str.strip('%').astype(float).head() # Now it is a float, although not perm\n"
      ],
      "execution_count": 0,
      "outputs": []
    },
    {
      "metadata": {
        "id": "LW7LVKtlI_Fp",
        "colab_type": "code",
        "colab": {
          "base_uri": "https://localhost:8080/",
          "height": 119
        },
        "outputId": "491e0e16-372b-4671-b855-c1210a3904aa"
      },
      "cell_type": "code",
      "source": [
        " df['int_rate'].head() # Now it is a perm. float"
      ],
      "execution_count": 14,
      "outputs": [
        {
          "output_type": "execute_result",
          "data": {
            "text/plain": [
              "0    13.56\n",
              "1    18.94\n",
              "2    17.97\n",
              "3    18.94\n",
              "4    16.14\n",
              "Name: int_rate, dtype: float64"
            ]
          },
          "metadata": {
            "tags": []
          },
          "execution_count": 14
        }
      ]
    },
    {
      "metadata": {
        "id": "CQ53PkgWJ830",
        "colab_type": "code",
        "colab": {}
      },
      "cell_type": "code",
      "source": [
        "#(df['int_rate'] / 100).head # Vectorizing the DF"
      ],
      "execution_count": 0,
      "outputs": []
    },
    {
      "metadata": {
        "id": "DQhHhbglICVU",
        "colab_type": "text"
      },
      "cell_type": "markdown",
      "source": [
        "Define a function to remove percent signs from strings and convert to floats"
      ]
    },
    {
      "metadata": {
        "id": "aXZzHwbDKXfG",
        "colab_type": "code",
        "colab": {
          "base_uri": "https://localhost:8080/",
          "height": 34
        },
        "outputId": "b30ba46a-7370-4388-9a1f-d51d91a3e26a"
      },
      "cell_type": "code",
      "source": [
        "string = '13.56%'\n",
        "\n",
        "def remove_percent(string):\n",
        "  return float(string.strip('%'))\n",
        "\n",
        "remove_percent(string)"
      ],
      "execution_count": 55,
      "outputs": [
        {
          "output_type": "execute_result",
          "data": {
            "text/plain": [
              "13.56"
            ]
          },
          "metadata": {
            "tags": []
          },
          "execution_count": 55
        }
      ]
    },
    {
      "metadata": {
        "id": "YDAG-h-dykmo",
        "colab_type": "text"
      },
      "cell_type": "markdown",
      "source": [
        "Apply the function to the `int_rate` column"
      ]
    },
    {
      "metadata": {
        "id": "VWZJsZKkykmq",
        "colab_type": "code",
        "colab": {}
      },
      "cell_type": "code",
      "source": [
        "# Both of those methods return the same results\n",
        "# You got an error, because you already did it above\n",
        "\n",
        "#df['int_rate'] = df['int_rate'].apply(remove_percent).head()\n"
      ],
      "execution_count": 0,
      "outputs": []
    },
    {
      "metadata": {
        "id": "WKg8V_Vgykmt",
        "colab_type": "text"
      },
      "cell_type": "markdown",
      "source": [
        "### Clean `emp_title`\n",
        "\n",
        "Look at top 20 titles"
      ]
    },
    {
      "metadata": {
        "id": "ddRm1tc3ykmv",
        "colab_type": "code",
        "colab": {
          "base_uri": "https://localhost:8080/",
          "height": 374
        },
        "outputId": "3fad57cc-50e3-45d1-907c-9849b6dc40ba"
      },
      "cell_type": "code",
      "source": [
        "# Looking at the Top 20, just in the DS\n",
        "df['emp_title'].head(20)\n",
        "\n",
        "# Sometimes, you may want to combine titles \n",
        "df['emp_title'].value_counts().head(20) # These are the top 20 positions, organized"
      ],
      "execution_count": 56,
      "outputs": [
        {
          "output_type": "execute_result",
          "data": {
            "text/plain": [
              "Teacher                     2090\n",
              "Manager                     1773\n",
              "Registered Nurse             952\n",
              "Driver                       924\n",
              "RN                           726\n",
              "Supervisor                   697\n",
              "Sales                        580\n",
              "Project Manager              526\n",
              "General Manager              523\n",
              "Office Manager               521\n",
              "Owner                        420\n",
              "Director                     402\n",
              "Operations Manager           387\n",
              "Truck Driver                 387\n",
              "Nurse                        326\n",
              "Engineer                     325\n",
              "Sales Manager                304\n",
              "manager                      301\n",
              "Supervisor                   270\n",
              "Administrative Assistant     269\n",
              "Name: emp_title, dtype: int64"
            ]
          },
          "metadata": {
            "tags": []
          },
          "execution_count": 56
        }
      ]
    },
    {
      "metadata": {
        "id": "m_P_Uj_fykmy",
        "colab_type": "text"
      },
      "cell_type": "markdown",
      "source": [
        "How often is `emp_title` null?"
      ]
    },
    {
      "metadata": {
        "id": "aYViU0eyykm3",
        "colab_type": "code",
        "colab": {
          "base_uri": "https://localhost:8080/",
          "height": 34
        },
        "outputId": "047d7a8f-9a57-4bd3-c9c0-d1983441e117"
      },
      "cell_type": "code",
      "source": [
        "df['emp_title'].isnull().sum()"
      ],
      "execution_count": 57,
      "outputs": [
        {
          "output_type": "execute_result",
          "data": {
            "text/plain": [
              "20947"
            ]
          },
          "metadata": {
            "tags": []
          },
          "execution_count": 57
        }
      ]
    },
    {
      "metadata": {
        "id": "n04OkfKGykm6",
        "colab_type": "text"
      },
      "cell_type": "markdown",
      "source": [
        "Clean the title and handle missing values"
      ]
    },
    {
      "metadata": {
        "id": "pMYJDScUykm7",
        "colab_type": "code",
        "colab": {
          "base_uri": "https://localhost:8080/",
          "height": 34
        },
        "outputId": "de166dcc-812f-4334-901f-f8a452fb73d8"
      },
      "cell_type": "code",
      "source": [
        "import numpy as np\n",
        "# I want to have consistant Capitalization\n",
        "# Clean trailing values -- strip spaces\n",
        "# Replace NaN with 'Missing'\n",
        "# This can be used for various things, numbers etc\n",
        "\n",
        "examples = ['owner', 'Supervisor ',\n",
        "            ' Project Manager', np.nan]\n",
        "\n",
        "def clean_title(x):\n",
        "  if isinstance(x, str):\n",
        "   \n",
        "    return x.strip().title()\n",
        "  \n",
        "  else: \n",
        "    return 'Robot'\n",
        "  \n",
        "[clean_title(x) for x in examples]"
      ],
      "execution_count": 58,
      "outputs": [
        {
          "output_type": "execute_result",
          "data": {
            "text/plain": [
              "['Owner', 'Supervisor', 'Project Manager', 'Robot']"
            ]
          },
          "metadata": {
            "tags": []
          },
          "execution_count": 58
        }
      ]
    },
    {
      "metadata": {
        "id": "Ngw-AG79PDUf",
        "colab_type": "code",
        "colab": {}
      },
      "cell_type": "code",
      "source": [
        "# This is applying our previous function to all of the data in Emp Title\n",
        "# Overwrite it & Assign back to that col\n",
        "df['emp_title'] = df['emp_title'].apply(clean_title)"
      ],
      "execution_count": 0,
      "outputs": []
    },
    {
      "metadata": {
        "id": "OGDopx89QASt",
        "colab_type": "code",
        "colab": {}
      },
      "cell_type": "code",
      "source": [
        "df['emp_title'].value_counts().head(20)"
      ],
      "execution_count": 0,
      "outputs": []
    },
    {
      "metadata": {
        "id": "JncOJP4LyknH",
        "colab_type": "text"
      },
      "cell_type": "markdown",
      "source": [
        "### Create `emp_title_manager`\n",
        "\n",
        "pandas documentation: [`str.contains`](https://pandas.pydata.org/pandas-docs/stable/generated/pandas.Series.str.contains.html)"
      ]
    },
    {
      "metadata": {
        "id": "Fcgmvo9xyknJ",
        "colab_type": "code",
        "colab": {}
      },
      "cell_type": "code",
      "source": [
        "# Specify where Manager is\n",
        "# Then add a new column to show where that is a true/ false col\n",
        "df['emp_title_manager'] = df['emp_title'].str.contains('Manager')"
      ],
      "execution_count": 0,
      "outputs": []
    },
    {
      "metadata": {
        "id": "ZYoFtH5oTgd8",
        "colab_type": "code",
        "colab": {}
      },
      "cell_type": "code",
      "source": [
        "# verify with shape"
      ],
      "execution_count": 0,
      "outputs": []
    },
    {
      "metadata": {
        "id": "SbmROztSTiEg",
        "colab_type": "code",
        "colab": {
          "base_uri": "https://localhost:8080/",
          "height": 68
        },
        "outputId": "79ee710b-98c8-405a-ac88-df0a2dc48638"
      },
      "cell_type": "code",
      "source": [
        "# Normalize shows percentage\n",
        "df['emp_title_manager'].value_counts(normalize=True)"
      ],
      "execution_count": 62,
      "outputs": [
        {
          "output_type": "execute_result",
          "data": {
            "text/plain": [
              "False    0.860745\n",
              "True     0.139255\n",
              "Name: emp_title_manager, dtype: float64"
            ]
          },
          "metadata": {
            "tags": []
          },
          "execution_count": 62
        }
      ]
    },
    {
      "metadata": {
        "id": "RXeXALuwTrha",
        "colab_type": "code",
        "colab": {
          "base_uri": "https://localhost:8080/",
          "height": 85
        },
        "outputId": "02e4d950-4618-4014-e863-f60273c7f637"
      },
      "cell_type": "code",
      "source": [
        "df.groupby('emp_title_manager')['int_rate'].mean()"
      ],
      "execution_count": 63,
      "outputs": [
        {
          "output_type": "execute_result",
          "data": {
            "text/plain": [
              "emp_title_manager\n",
              "False    12.958054\n",
              "True     12.761840\n",
              "Name: int_rate, dtype: float64"
            ]
          },
          "metadata": {
            "tags": []
          },
          "execution_count": 63
        }
      ]
    },
    {
      "metadata": {
        "id": "6Dng5E5sUKNi",
        "colab_type": "code",
        "colab": {
          "base_uri": "https://localhost:8080/",
          "height": 119
        },
        "outputId": "ead2874c-0eb0-481a-d0cf-962792417bb3"
      },
      "cell_type": "code",
      "source": [
        "df['emp_title'].value_counts().head()"
      ],
      "execution_count": 64,
      "outputs": [
        {
          "output_type": "execute_result",
          "data": {
            "text/plain": [
              "Robot               20947\n",
              "Teacher              2557\n",
              "Manager              2395\n",
              "Registered Nurse     1418\n",
              "Driver               1258\n",
              "Name: emp_title, dtype: int64"
            ]
          },
          "metadata": {
            "tags": []
          },
          "execution_count": 64
        }
      ]
    },
    {
      "metadata": {
        "id": "eBFevS97U31j",
        "colab_type": "code",
        "colab": {}
      },
      "cell_type": "code",
      "source": [
        "# This shows how to represent that by a percentage\n",
        "df.isnull().sum().sort_values(ascending=False) / len(df)\n"
      ],
      "execution_count": 0,
      "outputs": []
    },
    {
      "metadata": {
        "colab_type": "text",
        "id": "s8BcCY6so3by"
      },
      "cell_type": "markdown",
      "source": [
        "## Work with dates"
      ]
    },
    {
      "metadata": {
        "id": "vMF4HvYCyknW",
        "colab_type": "text"
      },
      "cell_type": "markdown",
      "source": [
        "pandas documentation\n",
        "- [to_datetime](https://pandas.pydata.org/pandas-docs/stable/generated/pandas.to_datetime.html)\n",
        "- [Time/Date Components](https://pandas.pydata.org/pandas-docs/stable/timeseries.html#time-date-components) \"You can access these properties via the `.dt` accessor\""
      ]
    },
    {
      "metadata": {
        "colab_type": "code",
        "id": "kNrKxOTeo4W3",
        "colab": {
          "base_uri": "https://localhost:8080/",
          "height": 51
        },
        "outputId": "1293f80c-378d-46ff-9a2a-9584dda91983"
      },
      "cell_type": "code",
      "source": [
        "df['issue_d'].head().values"
      ],
      "execution_count": 66,
      "outputs": [
        {
          "output_type": "execute_result",
          "data": {
            "text/plain": [
              "array(['Dec-2018', 'Dec-2018', 'Dec-2018', 'Dec-2018', 'Dec-2018'],\n",
              "      dtype=object)"
            ]
          },
          "metadata": {
            "tags": []
          },
          "execution_count": 66
        }
      ]
    },
    {
      "metadata": {
        "id": "_zr6knruWJFN",
        "colab_type": "code",
        "colab": {
          "base_uri": "https://localhost:8080/",
          "height": 102
        },
        "outputId": "3c97d7ef-e3c2-4aa4-e7ca-5832a53caffb"
      },
      "cell_type": "code",
      "source": [
        "df['issue_d'].describe()"
      ],
      "execution_count": 67,
      "outputs": [
        {
          "output_type": "execute_result",
          "data": {
            "text/plain": [
              "count       128412\n",
              "unique           3\n",
              "top       Oct-2018\n",
              "freq         46305\n",
              "Name: issue_d, dtype: object"
            ]
          },
          "metadata": {
            "tags": []
          },
          "execution_count": 67
        }
      ]
    },
    {
      "metadata": {
        "id": "9DoGq4TZWNbl",
        "colab_type": "code",
        "colab": {}
      },
      "cell_type": "code",
      "source": [
        "df['issue_d'] = pd.to_datetime(df['issue_d'], infer_datetime_format=True)"
      ],
      "execution_count": 0,
      "outputs": []
    },
    {
      "metadata": {
        "id": "D3rE_pv9XA5H",
        "colab_type": "code",
        "colab": {
          "base_uri": "https://localhost:8080/",
          "height": 68
        },
        "outputId": "ff82e966-e2a4-44d0-a013-acf53c4212a9"
      },
      "cell_type": "code",
      "source": [
        "df['issue_d'].head().values"
      ],
      "execution_count": 69,
      "outputs": [
        {
          "output_type": "execute_result",
          "data": {
            "text/plain": [
              "array(['2018-12-01T00:00:00.000000000', '2018-12-01T00:00:00.000000000',\n",
              "       '2018-12-01T00:00:00.000000000', '2018-12-01T00:00:00.000000000',\n",
              "       '2018-12-01T00:00:00.000000000'], dtype='datetime64[ns]')"
            ]
          },
          "metadata": {
            "tags": []
          },
          "execution_count": 69
        }
      ]
    },
    {
      "metadata": {
        "id": "23WTqkbwXJaB",
        "colab_type": "code",
        "colab": {
          "base_uri": "https://localhost:8080/",
          "height": 136
        },
        "outputId": "fc27db2b-46ac-4853-d50c-a1ea99ac2493"
      },
      "cell_type": "code",
      "source": [
        "df['issue_d'].describe()"
      ],
      "execution_count": 70,
      "outputs": [
        {
          "output_type": "execute_result",
          "data": {
            "text/plain": [
              "count                  128412\n",
              "unique                      3\n",
              "top       2018-10-01 00:00:00\n",
              "freq                    46305\n",
              "first     2018-10-01 00:00:00\n",
              "last      2018-12-01 00:00:00\n",
              "Name: issue_d, dtype: object"
            ]
          },
          "metadata": {
            "tags": []
          },
          "execution_count": 70
        }
      ]
    },
    {
      "metadata": {
        "id": "IOx9X1SnXpfQ",
        "colab_type": "code",
        "colab": {}
      },
      "cell_type": "code",
      "source": [
        "# Specify year and month and create new cols\n",
        "df['issue_year'] = df['issue_d'].dt.year\n",
        "df['issue_month'] = df['issue_d'].dt.month"
      ],
      "execution_count": 0,
      "outputs": []
    },
    {
      "metadata": {
        "id": "WjM4xdifYNEC",
        "colab_type": "code",
        "colab": {
          "base_uri": "https://localhost:8080/",
          "height": 34
        },
        "outputId": "214458be-257d-40bb-c77f-23bf8b61148d"
      },
      "cell_type": "code",
      "source": [
        "# Random Values\n",
        "df['issue_month'].sample(n=10).values"
      ],
      "execution_count": 72,
      "outputs": [
        {
          "output_type": "execute_result",
          "data": {
            "text/plain": [
              "array([12, 12, 12, 12, 11, 10, 12, 12, 11, 12])"
            ]
          },
          "metadata": {
            "tags": []
          },
          "execution_count": 72
        }
      ]
    },
    {
      "metadata": {
        "id": "NZEXhYXPYe6W",
        "colab_type": "code",
        "colab": {
          "base_uri": "https://localhost:8080/",
          "height": 119
        },
        "outputId": "4576f767-a34d-4ffd-bf5b-7292d7021f82"
      },
      "cell_type": "code",
      "source": [
        "# Time elapsed\n",
        "#df['earliest_cr_line'].head()\n",
        "\n",
        "df['earliest_cr_line'] = pd.to_datetime(df['earliest_cr_line'],\n",
        "                                        infer_datetime_format=True)\n",
        "\n",
        "# See how many days from ECL \n",
        "df['earliest_cr_line'].head()"
      ],
      "execution_count": 73,
      "outputs": [
        {
          "output_type": "execute_result",
          "data": {
            "text/plain": [
              "0   2001-04-01\n",
              "1   1987-06-01\n",
              "2   2011-04-01\n",
              "3   2006-02-01\n",
              "4   2000-12-01\n",
              "Name: earliest_cr_line, dtype: datetime64[ns]"
            ]
          },
          "metadata": {
            "tags": []
          },
          "execution_count": 73
        }
      ]
    },
    {
      "metadata": {
        "id": "f0pJUU03ZIIF",
        "colab_type": "code",
        "colab": {}
      },
      "cell_type": "code",
      "source": [
        "# Difference between the 2 dates\n",
        "# Really cool\n",
        "df['days_from_earliest_credit_to_issue'] = (df['issue_d'] - df['earliest_cr_line']).dt.days\n"
      ],
      "execution_count": 0,
      "outputs": []
    },
    {
      "metadata": {
        "id": "FKWfsY3xZre5",
        "colab_type": "code",
        "colab": {
          "base_uri": "https://localhost:8080/",
          "height": 170
        },
        "outputId": "070fb0e7-1640-4b9d-9883-9374bc781322"
      },
      "cell_type": "code",
      "source": [
        "df['days_from_earliest_credit_to_issue'].describe()"
      ],
      "execution_count": 75,
      "outputs": [
        {
          "output_type": "execute_result",
          "data": {
            "text/plain": [
              "count    128412.000000\n",
              "mean       5859.891490\n",
              "std        2886.535578\n",
              "min        1126.000000\n",
              "25%        4049.000000\n",
              "50%        5266.000000\n",
              "75%        7244.000000\n",
              "max       25171.000000\n",
              "Name: days_from_earliest_credit_to_issue, dtype: float64"
            ]
          },
          "metadata": {
            "tags": []
          },
          "execution_count": 75
        }
      ]
    },
    {
      "metadata": {
        "id": "HCwpmX9rZ5fB",
        "colab_type": "code",
        "colab": {
          "base_uri": "https://localhost:8080/",
          "height": 34
        },
        "outputId": "a82b9b24-bc83-4d0f-8804-36054e26a757"
      },
      "cell_type": "code",
      "source": [
        "25171 / 365"
      ],
      "execution_count": 76,
      "outputs": [
        {
          "output_type": "execute_result",
          "data": {
            "text/plain": [
              "68.96164383561644"
            ]
          },
          "metadata": {
            "tags": []
          },
          "execution_count": 76
        }
      ]
    },
    {
      "metadata": {
        "id": "mb-c6PqhagiT",
        "colab_type": "code",
        "colab": {
          "base_uri": "https://localhost:8080/",
          "height": 34
        },
        "outputId": "725e73bb-4ebc-4204-de96-6ad2a1613cda"
      },
      "cell_type": "code",
      "source": [
        "# Creating your own code to look for certain cols\n",
        "[col for col in df if col.endswith('_d')]"
      ],
      "execution_count": 77,
      "outputs": [
        {
          "output_type": "execute_result",
          "data": {
            "text/plain": [
              "['issue_d', 'last_pymnt_d', 'next_pymnt_d', 'last_credit_pull_d']"
            ]
          },
          "metadata": {
            "tags": []
          },
          "execution_count": 77
        }
      ]
    },
    {
      "metadata": {
        "id": "0cX7jdNnbBwq",
        "colab_type": "code",
        "colab": {}
      },
      "cell_type": "code",
      "source": [
        "for col in ['issue_d', 'last_pymnt_d', 'next_pymnt_d', 'last_credit_pull_d']:\n",
        "  df[col] = pd.to_datetime(df[col], infer_datetime_format=True)"
      ],
      "execution_count": 0,
      "outputs": []
    },
    {
      "metadata": {
        "id": "Ko9Bau_CbfGi",
        "colab_type": "code",
        "colab": {
          "base_uri": "https://localhost:8080/",
          "height": 235
        },
        "outputId": "2703815c-f65f-4de5-e22c-daea1223072f"
      },
      "cell_type": "code",
      "source": [
        "df.describe(include='datetime')"
      ],
      "execution_count": 79,
      "outputs": [
        {
          "output_type": "execute_result",
          "data": {
            "text/html": [
              "<div>\n",
              "<style scoped>\n",
              "    .dataframe tbody tr th:only-of-type {\n",
              "        vertical-align: middle;\n",
              "    }\n",
              "\n",
              "    .dataframe tbody tr th {\n",
              "        vertical-align: top;\n",
              "    }\n",
              "\n",
              "    .dataframe thead th {\n",
              "        text-align: right;\n",
              "    }\n",
              "</style>\n",
              "<table border=\"1\" class=\"dataframe\">\n",
              "  <thead>\n",
              "    <tr style=\"text-align: right;\">\n",
              "      <th></th>\n",
              "      <th>issue_d</th>\n",
              "      <th>earliest_cr_line</th>\n",
              "      <th>last_pymnt_d</th>\n",
              "      <th>next_pymnt_d</th>\n",
              "      <th>last_credit_pull_d</th>\n",
              "    </tr>\n",
              "  </thead>\n",
              "  <tbody>\n",
              "    <tr>\n",
              "      <th>count</th>\n",
              "      <td>128412</td>\n",
              "      <td>128412</td>\n",
              "      <td>128250</td>\n",
              "      <td>124941</td>\n",
              "      <td>128411</td>\n",
              "    </tr>\n",
              "    <tr>\n",
              "      <th>unique</th>\n",
              "      <td>3</td>\n",
              "      <td>644</td>\n",
              "      <td>5</td>\n",
              "      <td>3</td>\n",
              "      <td>7</td>\n",
              "    </tr>\n",
              "    <tr>\n",
              "      <th>top</th>\n",
              "      <td>2018-10-01 00:00:00</td>\n",
              "      <td>2006-08-01 00:00:00</td>\n",
              "      <td>2019-02-01 00:00:00</td>\n",
              "      <td>2019-03-01 00:00:00</td>\n",
              "      <td>2019-02-01 00:00:00</td>\n",
              "    </tr>\n",
              "    <tr>\n",
              "      <th>freq</th>\n",
              "      <td>46305</td>\n",
              "      <td>1130</td>\n",
              "      <td>123797</td>\n",
              "      <td>124903</td>\n",
              "      <td>125061</td>\n",
              "    </tr>\n",
              "    <tr>\n",
              "      <th>first</th>\n",
              "      <td>2018-10-01 00:00:00</td>\n",
              "      <td>1950-01-01 00:00:00</td>\n",
              "      <td>2018-10-01 00:00:00</td>\n",
              "      <td>2019-02-01 00:00:00</td>\n",
              "      <td>2018-08-01 00:00:00</td>\n",
              "    </tr>\n",
              "    <tr>\n",
              "      <th>last</th>\n",
              "      <td>2018-12-01 00:00:00</td>\n",
              "      <td>2015-11-01 00:00:00</td>\n",
              "      <td>2019-02-01 00:00:00</td>\n",
              "      <td>2019-04-01 00:00:00</td>\n",
              "      <td>2019-02-01 00:00:00</td>\n",
              "    </tr>\n",
              "  </tbody>\n",
              "</table>\n",
              "</div>"
            ],
            "text/plain": [
              "                    issue_d     earliest_cr_line         last_pymnt_d  \\\n",
              "count                128412               128412               128250   \n",
              "unique                    3                  644                    5   \n",
              "top     2018-10-01 00:00:00  2006-08-01 00:00:00  2019-02-01 00:00:00   \n",
              "freq                  46305                 1130               123797   \n",
              "first   2018-10-01 00:00:00  1950-01-01 00:00:00  2018-10-01 00:00:00   \n",
              "last    2018-12-01 00:00:00  2015-11-01 00:00:00  2019-02-01 00:00:00   \n",
              "\n",
              "               next_pymnt_d   last_credit_pull_d  \n",
              "count                124941               128411  \n",
              "unique                    3                    7  \n",
              "top     2019-03-01 00:00:00  2019-02-01 00:00:00  \n",
              "freq                 124903               125061  \n",
              "first   2019-02-01 00:00:00  2018-08-01 00:00:00  \n",
              "last    2019-04-01 00:00:00  2019-02-01 00:00:00  "
            ]
          },
          "metadata": {
            "tags": []
          },
          "execution_count": 79
        }
      ]
    },
    {
      "metadata": {
        "id": "pGEWzemFykna",
        "colab_type": "text"
      },
      "cell_type": "markdown",
      "source": [
        "# ASSIGNMENT\n",
        "\n",
        "- Replicate the lesson code.\n",
        "\n",
        "- Convert the `term` column from string to integer. (*DONE)\n",
        "\n",
        "- Make a column named `loan_status_is_great`. It should contain the integer 1 if `loan_status` is \"Current\" or \"Fully Paid.\" Else it should contain the integer 0.\n",
        "\n",
        "- Make `last_pymnt_d_month` and `last_pymnt_d_year` columns."
      ]
    },
    {
      "metadata": {
        "id": "L-AskV-HoTai",
        "colab_type": "text"
      },
      "cell_type": "markdown",
      "source": [
        "### **Convert the 'term' column from string to integer**"
      ]
    },
    {
      "metadata": {
        "id": "fvbWw0oroRgZ",
        "colab_type": "code",
        "colab": {}
      },
      "cell_type": "code",
      "source": [
        "# I did not use the .astype fucntion because the dtype was already an int, just needed months removed\n",
        "df['term'] = df['term'].str.strip('months')"
      ],
      "execution_count": 0,
      "outputs": []
    },
    {
      "metadata": {
        "id": "Swl-UvZAcEhx",
        "colab_type": "code",
        "colab": {
          "base_uri": "https://localhost:8080/",
          "height": 68
        },
        "outputId": "d2df0218-12d3-47b6-a48a-6bd609bf9f67"
      },
      "cell_type": "code",
      "source": [
        "# It works!\n",
        "df['term'].value_counts()"
      ],
      "execution_count": 26,
      "outputs": [
        {
          "output_type": "execute_result",
          "data": {
            "text/plain": [
              " 36     3\n",
              " 60     2\n",
              "Name: term, dtype: int64"
            ]
          },
          "metadata": {
            "tags": []
          },
          "execution_count": 26
        }
      ]
    },
    {
      "metadata": {
        "id": "Xr5tmHDAsjgY",
        "colab_type": "text"
      },
      "cell_type": "markdown",
      "source": [
        "### **Make a column named 'loan_status_is_great'. It should contain:\n",
        "\n",
        "*   The integer 1 if 'loan_status' is 'Current' or 'Fully Paid'\n",
        "*   Else, it should contain 0"
      ]
    },
    {
      "metadata": {
        "id": "IKiSC_I2cRy3",
        "colab_type": "code",
        "colab": {
          "base_uri": "https://localhost:8080/",
          "height": 136
        },
        "outputId": "11261525-0020-4ce8-b28c-e97c6711ac61"
      },
      "cell_type": "code",
      "source": [
        "df['loan_status'].value_counts(dropna=False)"
      ],
      "execution_count": 80,
      "outputs": [
        {
          "output_type": "execute_result",
          "data": {
            "text/plain": [
              "Current               123768\n",
              "Fully Paid              3438\n",
              "Late (31-120 days)       509\n",
              "In Grace Period          441\n",
              "Late (16-30 days)        223\n",
              "Charged Off               33\n",
              "Name: loan_status, dtype: int64"
            ]
          },
          "metadata": {
            "tags": []
          },
          "execution_count": 80
        }
      ]
    },
    {
      "metadata": {
        "id": "YMr-L3l0ttqC",
        "colab_type": "code",
        "colab": {}
      },
      "cell_type": "code",
      "source": [
        "# Kept getting an error when I tried to take this out of one-line \n",
        "# I am sure I could have simplified this by creating a dictionary or if/else \n",
        "# But this worked, so moving on\n",
        "\n",
        "df['loan_status_is_great'] = df['loan_status'].replace('Current', 1).replace('Fully Paid', 1).replace('Late (31-120 days)', 0).replace('In Grace Period', 0).replace('Late (16-30 days)', 0 ).replace('Charged Off', 0)\n"
      ],
      "execution_count": 0,
      "outputs": []
    },
    {
      "metadata": {
        "id": "SzG7NPXatM-I",
        "colab_type": "code",
        "colab": {
          "base_uri": "https://localhost:8080/",
          "height": 68
        },
        "outputId": "e475554f-289e-4518-a549-9a98059e6a33"
      },
      "cell_type": "code",
      "source": [
        "# It worked!\n",
        "df['loan_status_is_great'].value_counts()"
      ],
      "execution_count": 82,
      "outputs": [
        {
          "output_type": "execute_result",
          "data": {
            "text/plain": [
              "1    127206\n",
              "0      1206\n",
              "Name: loan_status_is_great, dtype: int64"
            ]
          },
          "metadata": {
            "tags": []
          },
          "execution_count": 82
        }
      ]
    },
    {
      "metadata": {
        "id": "jP3O1Z7yxKQg",
        "colab_type": "text"
      },
      "cell_type": "markdown",
      "source": [
        "### **Make 'last_pymnt_d_month' and 'last_pymnt_d_year' columns**"
      ]
    },
    {
      "metadata": {
        "id": "OwXBNdw7xCnb",
        "colab_type": "code",
        "colab": {}
      },
      "cell_type": "code",
      "source": [
        "# Years Only\n",
        "df['last_pymnt_d_year'] = df['last_pymnt_d'].dt.year\n",
        "\n",
        "# Months Only\n",
        "df['last_pymnt_d_month'] = df['last_pymnt_d'].dt.month"
      ],
      "execution_count": 0,
      "outputs": []
    },
    {
      "metadata": {
        "id": "-EDK_tDL0hUP",
        "colab_type": "code",
        "colab": {
          "base_uri": "https://localhost:8080/",
          "height": 119
        },
        "outputId": "a5dfdb08-764b-49cf-9e64-30c2d2ba50f6"
      },
      "cell_type": "code",
      "source": [
        "df['last_pymnt_d_year'].head()"
      ],
      "execution_count": 94,
      "outputs": [
        {
          "output_type": "execute_result",
          "data": {
            "text/plain": [
              "0    2019.0\n",
              "1    2019.0\n",
              "2    2019.0\n",
              "3    2019.0\n",
              "4    2019.0\n",
              "Name: last_pymnt_d_year, dtype: float64"
            ]
          },
          "metadata": {
            "tags": []
          },
          "execution_count": 94
        }
      ]
    },
    {
      "metadata": {
        "id": "vCzJ-kfQ08Yj",
        "colab_type": "code",
        "colab": {
          "base_uri": "https://localhost:8080/",
          "height": 119
        },
        "outputId": "e379046d-da19-4441-e140-2de970a7c29a"
      },
      "cell_type": "code",
      "source": [
        "df['last_pymnt_d_month'].head()"
      ],
      "execution_count": 92,
      "outputs": [
        {
          "output_type": "execute_result",
          "data": {
            "text/plain": [
              "0    2.0\n",
              "1    2.0\n",
              "2    2.0\n",
              "3    2.0\n",
              "4    2.0\n",
              "Name: last_pymnt_d_month, dtype: float64"
            ]
          },
          "metadata": {
            "tags": []
          },
          "execution_count": 92
        }
      ]
    },
    {
      "metadata": {
        "colab_type": "text",
        "id": "L8k0LiHmo5EU"
      },
      "cell_type": "markdown",
      "source": [
        "# STRETCH OPTIONS\n",
        "\n",
        "You can do more with the LendingClub or Instacart datasets.\n",
        "\n",
        "LendingClub options:\n",
        "- There's one other column in the dataframe with percent signs. Remove them and convert to floats. You'll need to handle missing values.\n",
        "- Modify the `emp_title` column to replace titles with 'Other' if the title is not in the top 20. \n",
        "- Take initiatve and work on your own ideas!\n",
        "\n",
        "Instacart options:\n",
        "- Read [Instacart Market Basket Analysis, Winner's Interview: 2nd place, Kazuki Onodera](http://blog.kaggle.com/2017/09/21/instacart-market-basket-analysis-winners-interview-2nd-place-kazuki-onodera/), especially the **Feature Engineering** section. (Can you choose one feature from his bulleted lists, and try to engineer it with pandas code?)\n",
        "- Read and replicate parts of [Simple Exploration Notebook - Instacart](https://www.kaggle.com/sudalairajkumar/simple-exploration-notebook-instacart). (It's the Python Notebook with the most upvotes for this Kaggle competition.)\n",
        "- Take initiative and work on your own ideas!"
      ]
    },
    {
      "metadata": {
        "colab_type": "text",
        "id": "0_7PXF7lpEXg"
      },
      "cell_type": "markdown",
      "source": [
        "You can uncomment and run the cells below to re-download and extract the Instacart data"
      ]
    },
    {
      "metadata": {
        "id": "no7_OilBykng",
        "colab_type": "code",
        "colab": {}
      },
      "cell_type": "code",
      "source": [
        "# !wget https://s3.amazonaws.com/instacart-datasets/instacart_online_grocery_shopping_2017_05_01.tar.gz"
      ],
      "execution_count": 0,
      "outputs": []
    },
    {
      "metadata": {
        "id": "7k7M-_1Nyknl",
        "colab_type": "code",
        "colab": {}
      },
      "cell_type": "code",
      "source": [
        "# !tar --gunzip --extract --verbose --file=instacart_online_grocery_shopping_2017_05_01.tar.gz"
      ],
      "execution_count": 0,
      "outputs": []
    },
    {
      "metadata": {
        "id": "s5YgSQpSykns",
        "colab_type": "code",
        "colab": {}
      },
      "cell_type": "code",
      "source": [
        "# %cd instacart_2017_05_01"
      ],
      "execution_count": 0,
      "outputs": []
    }
  ]
}