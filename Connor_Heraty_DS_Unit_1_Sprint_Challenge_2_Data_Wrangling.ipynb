{
  "nbformat": 4,
  "nbformat_minor": 0,
  "metadata": {
    "colab": {
      "name": "Connor Heraty - DS_Unit_1_Sprint_Challenge_2_Data_Wrangling.ipynb",
      "version": "0.3.2",
      "provenance": [],
      "collapsed_sections": [],
      "include_colab_link": true
    },
    "kernelspec": {
      "name": "python3",
      "display_name": "Python 3"
    }
  },
  "cells": [
    {
      "cell_type": "markdown",
      "metadata": {
        "id": "view-in-github",
        "colab_type": "text"
      },
      "source": [
        "<a href=\"https://colab.research.google.com/github/connorpheraty/DS-Unit-1-Sprint-2-Data-Wrangling/blob/master/Connor_Heraty_DS_Unit_1_Sprint_Challenge_2_Data_Wrangling.ipynb\" target=\"_parent\"><img src=\"https://colab.research.google.com/assets/colab-badge.svg\" alt=\"Open In Colab\"/></a>"
      ]
    },
    {
      "metadata": {
        "id": "4yMHi_PX9hEz",
        "colab_type": "text"
      },
      "cell_type": "markdown",
      "source": [
        "# Data Science Unit 1 Sprint Challenge 2\n",
        "\n",
        "## Data Wrangling\n",
        "\n",
        "In this Sprint Challenge you will use data from [Gapminder](https://www.gapminder.org/about-gapminder/), a Swedish non-profit co-founded by Hans Rosling. \"Gapminder produces free teaching resources making the world understandable based on reliable statistics.\"\n",
        "- [Cell phones (total), by country and year](https://raw.githubusercontent.com/open-numbers/ddf--gapminder--systema_globalis/master/ddf--datapoints--cell_phones_total--by--geo--time.csv)\n",
        "- [Population (total), by country and year](https://raw.githubusercontent.com/open-numbers/ddf--gapminder--systema_globalis/master/ddf--datapoints--population_total--by--geo--time.csv)\n",
        "- [Geo country codes](https://github.com/open-numbers/ddf--gapminder--systema_globalis/blob/master/ddf--entities--geo--country.csv)\n",
        "\n",
        "These two links have everything you need to successfully complete the Sprint Challenge!\n",
        "- [Pandas documentation: Working with Text Data](https://pandas.pydata.org/pandas-docs/stable/text.html]) (one question)\n",
        "- [Pandas Cheat Sheet](https://github.com/pandas-dev/pandas/blob/master/doc/cheatsheet/Pandas_Cheat_Sheet.pdf) (everything else)"
      ]
    },
    {
      "metadata": {
        "id": "wWEU2GemX68A",
        "colab_type": "text"
      },
      "cell_type": "markdown",
      "source": [
        "## Part 0. Load data\n",
        "\n",
        "You don't need to add or change anything here. Just run this cell and it loads the data for you, into three dataframes."
      ]
    },
    {
      "metadata": {
        "id": "bxKtSi5sRQOl",
        "colab_type": "code",
        "colab": {}
      },
      "cell_type": "code",
      "source": [
        "import pandas as pd\n",
        "\n",
        "cell_phones = pd.read_csv('https://raw.githubusercontent.com/open-numbers/ddf--gapminder--systema_globalis/master/ddf--datapoints--cell_phones_total--by--geo--time.csv')\n",
        "\n",
        "population = pd.read_csv('https://raw.githubusercontent.com/open-numbers/ddf--gapminder--systema_globalis/master/ddf--datapoints--population_total--by--geo--time.csv')\n",
        "\n",
        "geo_country_codes = (pd.read_csv('https://raw.githubusercontent.com/open-numbers/ddf--gapminder--systema_globalis/master/ddf--entities--geo--country.csv')\n",
        "                       .rename(columns={'country': 'geo', 'name': 'country'}))"
      ],
      "execution_count": 0,
      "outputs": []
    },
    {
      "metadata": {
        "id": "AZmVTeCsX9RC",
        "colab_type": "text"
      },
      "cell_type": "markdown",
      "source": [
        "## Part 1. Join data"
      ]
    },
    {
      "metadata": {
        "id": "GLzX58u4SfEy",
        "colab_type": "text"
      },
      "cell_type": "markdown",
      "source": [
        "First, join the `cell_phones` and `population` dataframes (with an inner join on `geo` and `time`).\n",
        "\n",
        "The resulting dataframe's shape should be: (8590, 4)"
      ]
    },
    {
      "metadata": {
        "id": "GVV7Hnj4SXBa",
        "colab_type": "code",
        "colab": {
          "base_uri": "https://localhost:8080/",
          "height": 80
        },
        "outputId": "ec289054-68b9-4498-f511-72349b65b31e"
      },
      "cell_type": "code",
      "source": [
        "cell_phones.head(1)"
      ],
      "execution_count": 345,
      "outputs": [
        {
          "output_type": "execute_result",
          "data": {
            "text/html": [
              "<div>\n",
              "<style scoped>\n",
              "    .dataframe tbody tr th:only-of-type {\n",
              "        vertical-align: middle;\n",
              "    }\n",
              "\n",
              "    .dataframe tbody tr th {\n",
              "        vertical-align: top;\n",
              "    }\n",
              "\n",
              "    .dataframe thead th {\n",
              "        text-align: right;\n",
              "    }\n",
              "</style>\n",
              "<table border=\"1\" class=\"dataframe\">\n",
              "  <thead>\n",
              "    <tr style=\"text-align: right;\">\n",
              "      <th></th>\n",
              "      <th>geo</th>\n",
              "      <th>time</th>\n",
              "      <th>cell_phones_total</th>\n",
              "    </tr>\n",
              "  </thead>\n",
              "  <tbody>\n",
              "    <tr>\n",
              "      <th>0</th>\n",
              "      <td>abw</td>\n",
              "      <td>1960</td>\n",
              "      <td>0.0</td>\n",
              "    </tr>\n",
              "  </tbody>\n",
              "</table>\n",
              "</div>"
            ],
            "text/plain": [
              "   geo  time  cell_phones_total\n",
              "0  abw  1960                0.0"
            ]
          },
          "metadata": {
            "tags": []
          },
          "execution_count": 345
        }
      ]
    },
    {
      "metadata": {
        "id": "hkzug6P3SGHn",
        "colab_type": "code",
        "colab": {}
      },
      "cell_type": "code",
      "source": [
        "cell_phones['cell_phones_total'] = cell_phones['cell_phones_total']"
      ],
      "execution_count": 0,
      "outputs": []
    },
    {
      "metadata": {
        "id": "gA92xjJ-SNTL",
        "colab_type": "code",
        "colab": {
          "base_uri": "https://localhost:8080/",
          "height": 80
        },
        "outputId": "5d002938-5d57-4671-c99d-30ef18a53313"
      },
      "cell_type": "code",
      "source": [
        "cell_phones.head(1)"
      ],
      "execution_count": 347,
      "outputs": [
        {
          "output_type": "execute_result",
          "data": {
            "text/html": [
              "<div>\n",
              "<style scoped>\n",
              "    .dataframe tbody tr th:only-of-type {\n",
              "        vertical-align: middle;\n",
              "    }\n",
              "\n",
              "    .dataframe tbody tr th {\n",
              "        vertical-align: top;\n",
              "    }\n",
              "\n",
              "    .dataframe thead th {\n",
              "        text-align: right;\n",
              "    }\n",
              "</style>\n",
              "<table border=\"1\" class=\"dataframe\">\n",
              "  <thead>\n",
              "    <tr style=\"text-align: right;\">\n",
              "      <th></th>\n",
              "      <th>geo</th>\n",
              "      <th>time</th>\n",
              "      <th>cell_phones_total</th>\n",
              "    </tr>\n",
              "  </thead>\n",
              "  <tbody>\n",
              "    <tr>\n",
              "      <th>0</th>\n",
              "      <td>abw</td>\n",
              "      <td>1960</td>\n",
              "      <td>0.0</td>\n",
              "    </tr>\n",
              "  </tbody>\n",
              "</table>\n",
              "</div>"
            ],
            "text/plain": [
              "   geo  time  cell_phones_total\n",
              "0  abw  1960                0.0"
            ]
          },
          "metadata": {
            "tags": []
          },
          "execution_count": 347
        }
      ]
    },
    {
      "metadata": {
        "id": "a7pMA7Np-Oit",
        "colab_type": "code",
        "colab": {
          "base_uri": "https://localhost:8080/",
          "height": 80
        },
        "outputId": "970c32e2-2287-4449-f3c1-953b73d0b8a8"
      },
      "cell_type": "code",
      "source": [
        "population.head(1)"
      ],
      "execution_count": 348,
      "outputs": [
        {
          "output_type": "execute_result",
          "data": {
            "text/html": [
              "<div>\n",
              "<style scoped>\n",
              "    .dataframe tbody tr th:only-of-type {\n",
              "        vertical-align: middle;\n",
              "    }\n",
              "\n",
              "    .dataframe tbody tr th {\n",
              "        vertical-align: top;\n",
              "    }\n",
              "\n",
              "    .dataframe thead th {\n",
              "        text-align: right;\n",
              "    }\n",
              "</style>\n",
              "<table border=\"1\" class=\"dataframe\">\n",
              "  <thead>\n",
              "    <tr style=\"text-align: right;\">\n",
              "      <th></th>\n",
              "      <th>geo</th>\n",
              "      <th>time</th>\n",
              "      <th>population_total</th>\n",
              "    </tr>\n",
              "  </thead>\n",
              "  <tbody>\n",
              "    <tr>\n",
              "      <th>0</th>\n",
              "      <td>afg</td>\n",
              "      <td>1800</td>\n",
              "      <td>3280000</td>\n",
              "    </tr>\n",
              "  </tbody>\n",
              "</table>\n",
              "</div>"
            ],
            "text/plain": [
              "   geo  time  population_total\n",
              "0  afg  1800           3280000"
            ]
          },
          "metadata": {
            "tags": []
          },
          "execution_count": 348
        }
      ]
    },
    {
      "metadata": {
        "id": "dArFsY3r-QbE",
        "colab_type": "code",
        "colab": {
          "base_uri": "https://localhost:8080/",
          "height": 129
        },
        "outputId": "ea2b7731-97d4-461d-c60a-117316c8fbdc"
      },
      "cell_type": "code",
      "source": [
        "geo_country_codes.head(1)"
      ],
      "execution_count": 349,
      "outputs": [
        {
          "output_type": "execute_result",
          "data": {
            "text/html": [
              "<div>\n",
              "<style scoped>\n",
              "    .dataframe tbody tr th:only-of-type {\n",
              "        vertical-align: middle;\n",
              "    }\n",
              "\n",
              "    .dataframe tbody tr th {\n",
              "        vertical-align: top;\n",
              "    }\n",
              "\n",
              "    .dataframe thead th {\n",
              "        text-align: right;\n",
              "    }\n",
              "</style>\n",
              "<table border=\"1\" class=\"dataframe\">\n",
              "  <thead>\n",
              "    <tr style=\"text-align: right;\">\n",
              "      <th></th>\n",
              "      <th>geo</th>\n",
              "      <th>alt_5</th>\n",
              "      <th>alternative_1</th>\n",
              "      <th>alternative_2</th>\n",
              "      <th>alternative_3</th>\n",
              "      <th>alternative_4_cdiac</th>\n",
              "      <th>arb1</th>\n",
              "      <th>arb2</th>\n",
              "      <th>arb3</th>\n",
              "      <th>arb4</th>\n",
              "      <th>...</th>\n",
              "      <th>latitude</th>\n",
              "      <th>longitude</th>\n",
              "      <th>main_religion_2008</th>\n",
              "      <th>country</th>\n",
              "      <th>pandg</th>\n",
              "      <th>un_state</th>\n",
              "      <th>unicode_region_subtag</th>\n",
              "      <th>upper_case_name</th>\n",
              "      <th>world_4region</th>\n",
              "      <th>world_6region</th>\n",
              "    </tr>\n",
              "  </thead>\n",
              "  <tbody>\n",
              "    <tr>\n",
              "      <th>0</th>\n",
              "      <td>abkh</td>\n",
              "      <td>NaN</td>\n",
              "      <td>NaN</td>\n",
              "      <td>NaN</td>\n",
              "      <td>NaN</td>\n",
              "      <td>NaN</td>\n",
              "      <td>NaN</td>\n",
              "      <td>NaN</td>\n",
              "      <td>NaN</td>\n",
              "      <td>NaN</td>\n",
              "      <td>...</td>\n",
              "      <td>nan</td>\n",
              "      <td>nan</td>\n",
              "      <td>NaN</td>\n",
              "      <td>Abkhazia</td>\n",
              "      <td>NaN</td>\n",
              "      <td>False</td>\n",
              "      <td>NaN</td>\n",
              "      <td>NaN</td>\n",
              "      <td>europe</td>\n",
              "      <td>europe_central_asia</td>\n",
              "    </tr>\n",
              "  </tbody>\n",
              "</table>\n",
              "<p>1 rows × 33 columns</p>\n",
              "</div>"
            ],
            "text/plain": [
              "    geo alt_5 alternative_1 alternative_2 alternative_3 alternative_4_cdiac  \\\n",
              "0  abkh   NaN           NaN           NaN           NaN                 NaN   \n",
              "\n",
              "  arb1 arb2 arb3 arb4         ...          latitude longitude  \\\n",
              "0  NaN  NaN  NaN  NaN         ...               nan       nan   \n",
              "\n",
              "  main_religion_2008   country pandg un_state unicode_region_subtag  \\\n",
              "0                NaN  Abkhazia   NaN    False                   NaN   \n",
              "\n",
              "   upper_case_name world_4region        world_6region  \n",
              "0              NaN        europe  europe_central_asia  \n",
              "\n",
              "[1 rows x 33 columns]"
            ]
          },
          "metadata": {
            "tags": []
          },
          "execution_count": 349
        }
      ]
    },
    {
      "metadata": {
        "id": "PFfWET1o-QdP",
        "colab_type": "code",
        "colab": {}
      },
      "cell_type": "code",
      "source": [
        "cell_df = pd.merge(cell_phones, population, on=['geo','time'])"
      ],
      "execution_count": 0,
      "outputs": []
    },
    {
      "metadata": {
        "id": "662NAY5h-Qft",
        "colab_type": "code",
        "colab": {
          "base_uri": "https://localhost:8080/",
          "height": 204
        },
        "outputId": "3c67153a-ebd7-42a8-d587-4c74e46e6c22"
      },
      "cell_type": "code",
      "source": [
        "cell_df.head()"
      ],
      "execution_count": 351,
      "outputs": [
        {
          "output_type": "execute_result",
          "data": {
            "text/html": [
              "<div>\n",
              "<style scoped>\n",
              "    .dataframe tbody tr th:only-of-type {\n",
              "        vertical-align: middle;\n",
              "    }\n",
              "\n",
              "    .dataframe tbody tr th {\n",
              "        vertical-align: top;\n",
              "    }\n",
              "\n",
              "    .dataframe thead th {\n",
              "        text-align: right;\n",
              "    }\n",
              "</style>\n",
              "<table border=\"1\" class=\"dataframe\">\n",
              "  <thead>\n",
              "    <tr style=\"text-align: right;\">\n",
              "      <th></th>\n",
              "      <th>geo</th>\n",
              "      <th>time</th>\n",
              "      <th>cell_phones_total</th>\n",
              "      <th>population_total</th>\n",
              "    </tr>\n",
              "  </thead>\n",
              "  <tbody>\n",
              "    <tr>\n",
              "      <th>0</th>\n",
              "      <td>afg</td>\n",
              "      <td>1960</td>\n",
              "      <td>0.0</td>\n",
              "      <td>8996351</td>\n",
              "    </tr>\n",
              "    <tr>\n",
              "      <th>1</th>\n",
              "      <td>afg</td>\n",
              "      <td>1965</td>\n",
              "      <td>0.0</td>\n",
              "      <td>9938414</td>\n",
              "    </tr>\n",
              "    <tr>\n",
              "      <th>2</th>\n",
              "      <td>afg</td>\n",
              "      <td>1970</td>\n",
              "      <td>0.0</td>\n",
              "      <td>11126123</td>\n",
              "    </tr>\n",
              "    <tr>\n",
              "      <th>3</th>\n",
              "      <td>afg</td>\n",
              "      <td>1975</td>\n",
              "      <td>0.0</td>\n",
              "      <td>12590286</td>\n",
              "    </tr>\n",
              "    <tr>\n",
              "      <th>4</th>\n",
              "      <td>afg</td>\n",
              "      <td>1976</td>\n",
              "      <td>0.0</td>\n",
              "      <td>12840299</td>\n",
              "    </tr>\n",
              "  </tbody>\n",
              "</table>\n",
              "</div>"
            ],
            "text/plain": [
              "   geo  time  cell_phones_total  population_total\n",
              "0  afg  1960                0.0           8996351\n",
              "1  afg  1965                0.0           9938414\n",
              "2  afg  1970                0.0          11126123\n",
              "3  afg  1975                0.0          12590286\n",
              "4  afg  1976                0.0          12840299"
            ]
          },
          "metadata": {
            "tags": []
          },
          "execution_count": 351
        }
      ]
    },
    {
      "metadata": {
        "id": "FidqWt-t-Qho",
        "colab_type": "code",
        "colab": {
          "base_uri": "https://localhost:8080/",
          "height": 34
        },
        "outputId": "0088911e-8dff-4dbc-ad51-c494f000ee43"
      },
      "cell_type": "code",
      "source": [
        "cell_df.shape"
      ],
      "execution_count": 352,
      "outputs": [
        {
          "output_type": "execute_result",
          "data": {
            "text/plain": [
              "(8590, 4)"
            ]
          },
          "metadata": {
            "tags": []
          },
          "execution_count": 352
        }
      ]
    },
    {
      "metadata": {
        "id": "xsXpDbwwW241",
        "colab_type": "text"
      },
      "cell_type": "markdown",
      "source": [
        "Then, select the `geo` and `country` columns from the `geo_country_codes` dataframe, and join with your population and cell phone data.\n",
        "\n",
        "The resulting dataframe's shape should be: (8590, 5)"
      ]
    },
    {
      "metadata": {
        "id": "Woj0WR72RI3L",
        "colab_type": "text"
      },
      "cell_type": "markdown",
      "source": [
        "I included the **`world_4region`** and **`world_6region`** to see the relationship between continent/subcontinent and cell phone adoption."
      ]
    },
    {
      "metadata": {
        "id": "Q2LaZta_W2CE",
        "colab_type": "code",
        "colab": {}
      },
      "cell_type": "code",
      "source": [
        "cell_df = cell_df.merge(geo_country_codes[['geo','country','world_4region','world_6region']])"
      ],
      "execution_count": 0,
      "outputs": []
    },
    {
      "metadata": {
        "id": "VgK8JKJATU-E",
        "colab_type": "code",
        "colab": {}
      },
      "cell_type": "code",
      "source": [
        "cell_df = cell_df.rename({'world_4region':'region','world_6region':'subregion'},axis=1)"
      ],
      "execution_count": 0,
      "outputs": []
    },
    {
      "metadata": {
        "id": "O3iDCB_HB6Bw",
        "colab_type": "code",
        "colab": {
          "base_uri": "https://localhost:8080/",
          "height": 34
        },
        "outputId": "ec64b613-87f0-4a85-8307-fb6b1c3b0388"
      },
      "cell_type": "code",
      "source": [
        "# Shape is expected with reion and subregion features added\n",
        "cell_df.shape"
      ],
      "execution_count": 355,
      "outputs": [
        {
          "output_type": "execute_result",
          "data": {
            "text/plain": [
              "(8590, 7)"
            ]
          },
          "metadata": {
            "tags": []
          },
          "execution_count": 355
        }
      ]
    },
    {
      "metadata": {
        "id": "oK96Uj7vYjFX",
        "colab_type": "text"
      },
      "cell_type": "markdown",
      "source": [
        "## Part 2. Make features"
      ]
    },
    {
      "metadata": {
        "id": "AD2fBNrOYzCG",
        "colab_type": "text"
      },
      "cell_type": "markdown",
      "source": [
        "Calculate the number of cell phones per person, and add this column onto your dataframe.\n",
        "\n",
        "(You've calculated correctly if you get 1.220 cell phones per person in the United States in 2017.)"
      ]
    },
    {
      "metadata": {
        "id": "P384ujjnDvyL",
        "colab_type": "text"
      },
      "cell_type": "markdown",
      "source": [
        ""
      ]
    },
    {
      "metadata": {
        "id": "wXI9nQthYnFK",
        "colab_type": "code",
        "colab": {}
      },
      "cell_type": "code",
      "source": [
        "# Create cell_phones_per_person column using column division\n",
        "cell_df['cell_phones_per_person'] = cell_df['cell_phones_total'] / cell_df['population_total']"
      ],
      "execution_count": 0,
      "outputs": []
    },
    {
      "metadata": {
        "id": "rhv8P8whCTIw",
        "colab_type": "code",
        "colab": {}
      },
      "cell_type": "code",
      "source": [
        "# Round the calculation to 4 decimal places\n",
        "cell_df['cell_phones_per_person'] = cell_df['cell_phones_per_person'].round(decimals=4)"
      ],
      "execution_count": 0,
      "outputs": []
    },
    {
      "metadata": {
        "id": "UBCrO5GYCfEE",
        "colab_type": "code",
        "colab": {
          "base_uri": "https://localhost:8080/",
          "height": 80
        },
        "outputId": "a3147d45-2a64-4483-92bb-b033bb94fd43"
      },
      "cell_type": "code",
      "source": [
        "# Locate row containing 2017 United States data\n",
        "cell_df.loc[cell_df['country'] == 'United States'][::-1].head(1)"
      ],
      "execution_count": 358,
      "outputs": [
        {
          "output_type": "execute_result",
          "data": {
            "text/html": [
              "<div>\n",
              "<style scoped>\n",
              "    .dataframe tbody tr th:only-of-type {\n",
              "        vertical-align: middle;\n",
              "    }\n",
              "\n",
              "    .dataframe tbody tr th {\n",
              "        vertical-align: top;\n",
              "    }\n",
              "\n",
              "    .dataframe thead th {\n",
              "        text-align: right;\n",
              "    }\n",
              "</style>\n",
              "<table border=\"1\" class=\"dataframe\">\n",
              "  <thead>\n",
              "    <tr style=\"text-align: right;\">\n",
              "      <th></th>\n",
              "      <th>geo</th>\n",
              "      <th>time</th>\n",
              "      <th>cell_phones_total</th>\n",
              "      <th>population_total</th>\n",
              "      <th>country</th>\n",
              "      <th>region</th>\n",
              "      <th>subregion</th>\n",
              "      <th>cell_phones_per_person</th>\n",
              "    </tr>\n",
              "  </thead>\n",
              "  <tbody>\n",
              "    <tr>\n",
              "      <th>8134</th>\n",
              "      <td>usa</td>\n",
              "      <td>2017</td>\n",
              "      <td>395,881,000.0</td>\n",
              "      <td>324459463</td>\n",
              "      <td>United States</td>\n",
              "      <td>americas</td>\n",
              "      <td>america</td>\n",
              "      <td>1.2201</td>\n",
              "    </tr>\n",
              "  </tbody>\n",
              "</table>\n",
              "</div>"
            ],
            "text/plain": [
              "      geo  time  cell_phones_total  population_total        country    region  \\\n",
              "8134  usa  2017      395,881,000.0         324459463  United States  americas   \n",
              "\n",
              "     subregion  cell_phones_per_person  \n",
              "8134   america                  1.2201  "
            ]
          },
          "metadata": {
            "tags": []
          },
          "execution_count": 358
        }
      ]
    },
    {
      "metadata": {
        "id": "S3QFdsnRZMH6",
        "colab_type": "text"
      },
      "cell_type": "markdown",
      "source": [
        "Modify the `geo` column to make the geo codes uppercase instead of lowercase."
      ]
    },
    {
      "metadata": {
        "id": "93ADij8_YkOq",
        "colab_type": "code",
        "colab": {}
      },
      "cell_type": "code",
      "source": [
        "# Use .upper() method to capitalioze `geo` column\n",
        "cell_df['geo'] = cell_df['geo'].str.upper()"
      ],
      "execution_count": 0,
      "outputs": []
    },
    {
      "metadata": {
        "id": "UHklZFNGECNU",
        "colab_type": "code",
        "colab": {
          "base_uri": "https://localhost:8080/",
          "height": 119
        },
        "outputId": "0644b199-1311-4adc-a8da-924f48979032"
      },
      "cell_type": "code",
      "source": [
        "cell_df['geo'].head()"
      ],
      "execution_count": 360,
      "outputs": [
        {
          "output_type": "execute_result",
          "data": {
            "text/plain": [
              "0    AFG\n",
              "1    AFG\n",
              "2    AFG\n",
              "3    AFG\n",
              "4    AFG\n",
              "Name: geo, dtype: object"
            ]
          },
          "metadata": {
            "tags": []
          },
          "execution_count": 360
        }
      ]
    },
    {
      "metadata": {
        "id": "hlPDAFCfaF6C",
        "colab_type": "text"
      },
      "cell_type": "markdown",
      "source": [
        "## Part 3. Process data"
      ]
    },
    {
      "metadata": {
        "id": "k-pudNWve2SQ",
        "colab_type": "text"
      },
      "cell_type": "markdown",
      "source": [
        "Use the describe function, to describe your dataframe's numeric columns, and then its non-numeric columns.\n",
        "\n",
        "(You'll see the time period ranges from 1960 to 2017, and there are 195 unique countries represented.)"
      ]
    },
    {
      "metadata": {
        "id": "KLzZT9v9EcOx",
        "colab_type": "code",
        "colab": {
          "base_uri": "https://localhost:8080/",
          "height": 297
        },
        "outputId": "f56cb20f-4ba8-40cd-da92-652c85b508dd"
      },
      "cell_type": "code",
      "source": [
        "# Excluding non-numeric columns\n",
        "cell_df.describe(exclude='object')"
      ],
      "execution_count": 361,
      "outputs": [
        {
          "output_type": "execute_result",
          "data": {
            "text/html": [
              "<div>\n",
              "<style scoped>\n",
              "    .dataframe tbody tr th:only-of-type {\n",
              "        vertical-align: middle;\n",
              "    }\n",
              "\n",
              "    .dataframe tbody tr th {\n",
              "        vertical-align: top;\n",
              "    }\n",
              "\n",
              "    .dataframe thead th {\n",
              "        text-align: right;\n",
              "    }\n",
              "</style>\n",
              "<table border=\"1\" class=\"dataframe\">\n",
              "  <thead>\n",
              "    <tr style=\"text-align: right;\">\n",
              "      <th></th>\n",
              "      <th>time</th>\n",
              "      <th>cell_phones_total</th>\n",
              "      <th>population_total</th>\n",
              "      <th>cell_phones_per_person</th>\n",
              "    </tr>\n",
              "  </thead>\n",
              "  <tbody>\n",
              "    <tr>\n",
              "      <th>count</th>\n",
              "      <td>8,590.0</td>\n",
              "      <td>8,590.0</td>\n",
              "      <td>8,590.0</td>\n",
              "      <td>8,590.0</td>\n",
              "    </tr>\n",
              "    <tr>\n",
              "      <th>mean</th>\n",
              "      <td>1,994.1934807916182</td>\n",
              "      <td>9,004,949.642905472</td>\n",
              "      <td>29,838,230.581722934</td>\n",
              "      <td>0.2796383119906869</td>\n",
              "    </tr>\n",
              "    <tr>\n",
              "      <th>std</th>\n",
              "      <td>14.257974607310302</td>\n",
              "      <td>55,734,084.872179635</td>\n",
              "      <td>116,128,377.47477299</td>\n",
              "      <td>0.4542467913882122</td>\n",
              "    </tr>\n",
              "    <tr>\n",
              "      <th>min</th>\n",
              "      <td>1,960.0</td>\n",
              "      <td>0.0</td>\n",
              "      <td>4,433.0</td>\n",
              "      <td>0.0</td>\n",
              "    </tr>\n",
              "    <tr>\n",
              "      <th>25%</th>\n",
              "      <td>1,983.0</td>\n",
              "      <td>0.0</td>\n",
              "      <td>1,456,148.0</td>\n",
              "      <td>0.0</td>\n",
              "    </tr>\n",
              "    <tr>\n",
              "      <th>50%</th>\n",
              "      <td>1,995.0</td>\n",
              "      <td>6,200.0</td>\n",
              "      <td>5,725,062.5</td>\n",
              "      <td>0.0016</td>\n",
              "    </tr>\n",
              "    <tr>\n",
              "      <th>75%</th>\n",
              "      <td>2,006.0</td>\n",
              "      <td>1,697,652.0</td>\n",
              "      <td>18,105,812.0</td>\n",
              "      <td>0.461125</td>\n",
              "    </tr>\n",
              "    <tr>\n",
              "      <th>max</th>\n",
              "      <td>2,017.0</td>\n",
              "      <td>1,474,097,000.0</td>\n",
              "      <td>1,409,517,397.0</td>\n",
              "      <td>2.4902</td>\n",
              "    </tr>\n",
              "  </tbody>\n",
              "</table>\n",
              "</div>"
            ],
            "text/plain": [
              "                     time    cell_phones_total     population_total  \\\n",
              "count             8,590.0              8,590.0              8,590.0   \n",
              "mean  1,994.1934807916182  9,004,949.642905472 29,838,230.581722934   \n",
              "std    14.257974607310302 55,734,084.872179635 116,128,377.47477299   \n",
              "min               1,960.0                  0.0              4,433.0   \n",
              "25%               1,983.0                  0.0          1,456,148.0   \n",
              "50%               1,995.0              6,200.0          5,725,062.5   \n",
              "75%               2,006.0          1,697,652.0         18,105,812.0   \n",
              "max               2,017.0      1,474,097,000.0      1,409,517,397.0   \n",
              "\n",
              "       cell_phones_per_person  \n",
              "count                 8,590.0  \n",
              "mean       0.2796383119906869  \n",
              "std        0.4542467913882122  \n",
              "min                       0.0  \n",
              "25%                       0.0  \n",
              "50%                    0.0016  \n",
              "75%                  0.461125  \n",
              "max                    2.4902  "
            ]
          },
          "metadata": {
            "tags": []
          },
          "execution_count": 361
        }
      ]
    },
    {
      "metadata": {
        "id": "g26yemKre2Cu",
        "colab_type": "code",
        "colab": {
          "base_uri": "https://localhost:8080/",
          "height": 173
        },
        "outputId": "bf645dc3-0d05-48f0-d14c-667fd8c4cdff"
      },
      "cell_type": "code",
      "source": [
        "# Excluding numeric columns\n",
        "cell_df.describe(exclude='number')"
      ],
      "execution_count": 362,
      "outputs": [
        {
          "output_type": "execute_result",
          "data": {
            "text/html": [
              "<div>\n",
              "<style scoped>\n",
              "    .dataframe tbody tr th:only-of-type {\n",
              "        vertical-align: middle;\n",
              "    }\n",
              "\n",
              "    .dataframe tbody tr th {\n",
              "        vertical-align: top;\n",
              "    }\n",
              "\n",
              "    .dataframe thead th {\n",
              "        text-align: right;\n",
              "    }\n",
              "</style>\n",
              "<table border=\"1\" class=\"dataframe\">\n",
              "  <thead>\n",
              "    <tr style=\"text-align: right;\">\n",
              "      <th></th>\n",
              "      <th>geo</th>\n",
              "      <th>country</th>\n",
              "      <th>region</th>\n",
              "      <th>subregion</th>\n",
              "    </tr>\n",
              "  </thead>\n",
              "  <tbody>\n",
              "    <tr>\n",
              "      <th>count</th>\n",
              "      <td>8590</td>\n",
              "      <td>8590</td>\n",
              "      <td>8590</td>\n",
              "      <td>8590</td>\n",
              "    </tr>\n",
              "    <tr>\n",
              "      <th>unique</th>\n",
              "      <td>195</td>\n",
              "      <td>195</td>\n",
              "      <td>4</td>\n",
              "      <td>6</td>\n",
              "    </tr>\n",
              "    <tr>\n",
              "      <th>top</th>\n",
              "      <td>NOR</td>\n",
              "      <td>Uzbekistan</td>\n",
              "      <td>asia</td>\n",
              "      <td>europe_central_asia</td>\n",
              "    </tr>\n",
              "    <tr>\n",
              "      <th>freq</th>\n",
              "      <td>46</td>\n",
              "      <td>46</td>\n",
              "      <td>2485</td>\n",
              "      <td>2324</td>\n",
              "    </tr>\n",
              "  </tbody>\n",
              "</table>\n",
              "</div>"
            ],
            "text/plain": [
              "         geo     country region            subregion\n",
              "count   8590        8590   8590                 8590\n",
              "unique   195         195      4                    6\n",
              "top      NOR  Uzbekistan   asia  europe_central_asia\n",
              "freq      46          46   2485                 2324"
            ]
          },
          "metadata": {
            "tags": []
          },
          "execution_count": 362
        }
      ]
    },
    {
      "metadata": {
        "id": "zALg-RrYaLcI",
        "colab_type": "text"
      },
      "cell_type": "markdown",
      "source": [
        "In 2017, what were the top 5 countries with the most cell phones total?\n",
        "\n",
        "Your list of countries should have these totals:\n",
        "\n",
        "| country | cell phones total |\n",
        "|:-------:|:-----------------:|\n",
        "|    ?    |     1,474,097,000 |\n",
        "|    ?    |     1,168,902,277 |\n",
        "|    ?    |       458,923,202 |\n",
        "|    ?    |       395,881,000 |\n",
        "|    ?    |       236,488,548 |\n",
        "\n"
      ]
    },
    {
      "metadata": {
        "id": "JdlWvezHaZxD",
        "colab_type": "code",
        "colab": {}
      },
      "cell_type": "code",
      "source": [
        "# This optional code formats float numbers with comma separators\n",
        "pd.options.display.float_format = '{:,}'.format"
      ],
      "execution_count": 0,
      "outputs": []
    },
    {
      "metadata": {
        "id": "EMVQ_QunGKdW",
        "colab_type": "code",
        "colab": {}
      },
      "cell_type": "code",
      "source": [
        "# Create sub dataframe that includes only the year 2017\n",
        "cell_df_2017 = cell_df.loc[cell_df['time'] == 2017]"
      ],
      "execution_count": 0,
      "outputs": []
    },
    {
      "metadata": {
        "id": "smX8vzu4cyju",
        "colab_type": "code",
        "colab": {}
      },
      "cell_type": "code",
      "source": [
        "# Use the groupby operation that sums the cell phone yearly totals for each country\n",
        "country_grouped = (cell_df_2017\n",
        "            .groupby(['country'])\n",
        "            .cell_phones_total.agg(['sum'])\n",
        "            .rename(columns={'sum':'cell phones total'})\n",
        "            .reset_index())"
      ],
      "execution_count": 0,
      "outputs": []
    },
    {
      "metadata": {
        "id": "3CtgZcaeE3n-",
        "colab_type": "code",
        "colab": {
          "base_uri": "https://localhost:8080/",
          "height": 204
        },
        "outputId": "01e8c253-9dc0-4d6d-fda7-e960e70e9d1e"
      },
      "cell_type": "code",
      "source": [
        "# Use the sort values function to sort by cell phones total \n",
        "country_grouped.sort_values(by=['cell phones total'], ascending=False).head(5)"
      ],
      "execution_count": 366,
      "outputs": [
        {
          "output_type": "execute_result",
          "data": {
            "text/html": [
              "<div>\n",
              "<style scoped>\n",
              "    .dataframe tbody tr th:only-of-type {\n",
              "        vertical-align: middle;\n",
              "    }\n",
              "\n",
              "    .dataframe tbody tr th {\n",
              "        vertical-align: top;\n",
              "    }\n",
              "\n",
              "    .dataframe thead th {\n",
              "        text-align: right;\n",
              "    }\n",
              "</style>\n",
              "<table border=\"1\" class=\"dataframe\">\n",
              "  <thead>\n",
              "    <tr style=\"text-align: right;\">\n",
              "      <th></th>\n",
              "      <th>country</th>\n",
              "      <th>cell phones total</th>\n",
              "    </tr>\n",
              "  </thead>\n",
              "  <tbody>\n",
              "    <tr>\n",
              "      <th>31</th>\n",
              "      <td>China</td>\n",
              "      <td>1,474,097,000.0</td>\n",
              "    </tr>\n",
              "    <tr>\n",
              "      <th>67</th>\n",
              "      <td>India</td>\n",
              "      <td>1,168,902,277.0</td>\n",
              "    </tr>\n",
              "    <tr>\n",
              "      <th>68</th>\n",
              "      <td>Indonesia</td>\n",
              "      <td>458,923,202.0</td>\n",
              "    </tr>\n",
              "    <tr>\n",
              "      <th>160</th>\n",
              "      <td>United States</td>\n",
              "      <td>395,881,000.0</td>\n",
              "    </tr>\n",
              "    <tr>\n",
              "      <th>21</th>\n",
              "      <td>Brazil</td>\n",
              "      <td>236,488,548.0</td>\n",
              "    </tr>\n",
              "  </tbody>\n",
              "</table>\n",
              "</div>"
            ],
            "text/plain": [
              "           country  cell phones total\n",
              "31           China    1,474,097,000.0\n",
              "67           India    1,168,902,277.0\n",
              "68       Indonesia      458,923,202.0\n",
              "160  United States      395,881,000.0\n",
              "21          Brazil      236,488,548.0"
            ]
          },
          "metadata": {
            "tags": []
          },
          "execution_count": 366
        }
      ]
    },
    {
      "metadata": {
        "id": "03V3Wln_h0dj",
        "colab_type": "text"
      },
      "cell_type": "markdown",
      "source": [
        "2017 was the first year that China had more cell phones than people.\n",
        "\n",
        "What was the first year that the USA had more cell phones than people?"
      ]
    },
    {
      "metadata": {
        "id": "LBJzya1OHSw3",
        "colab_type": "code",
        "colab": {}
      },
      "cell_type": "code",
      "source": [
        "# Create sub dataframe that includes only rows where the country equals the United States\n",
        "us_cell_df = cell_df.loc[cell_df['country'] == 'United States']"
      ],
      "execution_count": 0,
      "outputs": []
    },
    {
      "metadata": {
        "id": "0HytsG27WlRo",
        "colab_type": "text"
      },
      "cell_type": "markdown",
      "source": [
        "2014 was the first year that the USA had more cell phones than people!"
      ]
    },
    {
      "metadata": {
        "id": "KONQkQZ3haNC",
        "colab_type": "code",
        "colab": {
          "base_uri": "https://localhost:8080/",
          "height": 173
        },
        "outputId": "8cdb55cc-d83b-4ad3-b215-d8b25d011e88"
      },
      "cell_type": "code",
      "source": [
        "# Use the .loc function to specify my output to only include rows where the cell phones total is less than the population total\n",
        "us_cell_df.loc[cell_df['cell_phones_total'] > cell_df['population_total']]"
      ],
      "execution_count": 368,
      "outputs": [
        {
          "output_type": "execute_result",
          "data": {
            "text/html": [
              "<div>\n",
              "<style scoped>\n",
              "    .dataframe tbody tr th:only-of-type {\n",
              "        vertical-align: middle;\n",
              "    }\n",
              "\n",
              "    .dataframe tbody tr th {\n",
              "        vertical-align: top;\n",
              "    }\n",
              "\n",
              "    .dataframe thead th {\n",
              "        text-align: right;\n",
              "    }\n",
              "</style>\n",
              "<table border=\"1\" class=\"dataframe\">\n",
              "  <thead>\n",
              "    <tr style=\"text-align: right;\">\n",
              "      <th></th>\n",
              "      <th>geo</th>\n",
              "      <th>time</th>\n",
              "      <th>cell_phones_total</th>\n",
              "      <th>population_total</th>\n",
              "      <th>country</th>\n",
              "      <th>region</th>\n",
              "      <th>subregion</th>\n",
              "      <th>cell_phones_per_person</th>\n",
              "    </tr>\n",
              "  </thead>\n",
              "  <tbody>\n",
              "    <tr>\n",
              "      <th>8131</th>\n",
              "      <td>USA</td>\n",
              "      <td>2014</td>\n",
              "      <td>355,500,000.0</td>\n",
              "      <td>317718779</td>\n",
              "      <td>United States</td>\n",
              "      <td>americas</td>\n",
              "      <td>america</td>\n",
              "      <td>1.1189</td>\n",
              "    </tr>\n",
              "    <tr>\n",
              "      <th>8132</th>\n",
              "      <td>USA</td>\n",
              "      <td>2015</td>\n",
              "      <td>382,307,000.0</td>\n",
              "      <td>319929162</td>\n",
              "      <td>United States</td>\n",
              "      <td>americas</td>\n",
              "      <td>america</td>\n",
              "      <td>1.195</td>\n",
              "    </tr>\n",
              "    <tr>\n",
              "      <th>8133</th>\n",
              "      <td>USA</td>\n",
              "      <td>2016</td>\n",
              "      <td>395,881,000.0</td>\n",
              "      <td>322179605</td>\n",
              "      <td>United States</td>\n",
              "      <td>americas</td>\n",
              "      <td>america</td>\n",
              "      <td>1.2288</td>\n",
              "    </tr>\n",
              "    <tr>\n",
              "      <th>8134</th>\n",
              "      <td>USA</td>\n",
              "      <td>2017</td>\n",
              "      <td>395,881,000.0</td>\n",
              "      <td>324459463</td>\n",
              "      <td>United States</td>\n",
              "      <td>americas</td>\n",
              "      <td>america</td>\n",
              "      <td>1.2201</td>\n",
              "    </tr>\n",
              "  </tbody>\n",
              "</table>\n",
              "</div>"
            ],
            "text/plain": [
              "      geo  time  cell_phones_total  population_total        country    region  \\\n",
              "8131  USA  2014      355,500,000.0         317718779  United States  americas   \n",
              "8132  USA  2015      382,307,000.0         319929162  United States  americas   \n",
              "8133  USA  2016      395,881,000.0         322179605  United States  americas   \n",
              "8134  USA  2017      395,881,000.0         324459463  United States  americas   \n",
              "\n",
              "     subregion  cell_phones_per_person  \n",
              "8131   america                  1.1189  \n",
              "8132   america                   1.195  \n",
              "8133   america                  1.2288  \n",
              "8134   america                  1.2201  "
            ]
          },
          "metadata": {
            "tags": []
          },
          "execution_count": 368
        }
      ]
    },
    {
      "metadata": {
        "id": "6J7iwMnTg8KZ",
        "colab_type": "text"
      },
      "cell_type": "markdown",
      "source": [
        "## Part 4. Reshape data"
      ]
    },
    {
      "metadata": {
        "id": "LP9InazRkUxG",
        "colab_type": "text"
      },
      "cell_type": "markdown",
      "source": [
        "Create a pivot table:\n",
        "- Columns: Years 2007—2017\n",
        "- Rows: China, India, United States, Indonesia, Brazil (order doesn't matter)\n",
        "- Values: Cell Phones Total\n",
        "\n",
        "The table's shape should be: (5, 11)"
      ]
    },
    {
      "metadata": {
        "id": "XU9IhEzIL5Pi",
        "colab_type": "code",
        "colab": {}
      },
      "cell_type": "code",
      "source": [
        "# Create country names list and use as a condition to create a subset dataframe that only includes rows with the relevant countries\n",
        "\n",
        "country_names = ['China','India','United States','Indonesia','Brazil']\n",
        "condition = cell_df['country'].isin(country_names)\n",
        "subset_test = cell_df[condition]"
      ],
      "execution_count": 0,
      "outputs": []
    },
    {
      "metadata": {
        "id": "SEw1PRXZM9NR",
        "colab_type": "code",
        "colab": {}
      },
      "cell_type": "code",
      "source": [
        "# Use .loc function to only include years 2007-2017\n",
        "subset_final = subset.loc[cell_df['time'] > 2006]"
      ],
      "execution_count": 0,
      "outputs": []
    },
    {
      "metadata": {
        "id": "BbogvL7KNaW0",
        "colab_type": "code",
        "colab": {
          "base_uri": "https://localhost:8080/",
          "height": 235
        },
        "outputId": "63826e89-e3c1-4833-b660-bf84d43f968f"
      },
      "cell_type": "code",
      "source": [
        "# Create pivot table with required elements\n",
        "country_2007_2017_pt = subset_final.pivot_table(index='country', columns='time', values='cell_phones_total')\n",
        "country_2007_2017_pt"
      ],
      "execution_count": 371,
      "outputs": [
        {
          "output_type": "execute_result",
          "data": {
            "text/html": [
              "<div>\n",
              "<style scoped>\n",
              "    .dataframe tbody tr th:only-of-type {\n",
              "        vertical-align: middle;\n",
              "    }\n",
              "\n",
              "    .dataframe tbody tr th {\n",
              "        vertical-align: top;\n",
              "    }\n",
              "\n",
              "    .dataframe thead th {\n",
              "        text-align: right;\n",
              "    }\n",
              "</style>\n",
              "<table border=\"1\" class=\"dataframe\">\n",
              "  <thead>\n",
              "    <tr style=\"text-align: right;\">\n",
              "      <th>time</th>\n",
              "      <th>2007</th>\n",
              "      <th>2008</th>\n",
              "      <th>2009</th>\n",
              "      <th>2010</th>\n",
              "      <th>2011</th>\n",
              "      <th>2012</th>\n",
              "      <th>2013</th>\n",
              "      <th>2014</th>\n",
              "      <th>2015</th>\n",
              "      <th>2016</th>\n",
              "      <th>2017</th>\n",
              "    </tr>\n",
              "    <tr>\n",
              "      <th>country</th>\n",
              "      <th></th>\n",
              "      <th></th>\n",
              "      <th></th>\n",
              "      <th></th>\n",
              "      <th></th>\n",
              "      <th></th>\n",
              "      <th></th>\n",
              "      <th></th>\n",
              "      <th></th>\n",
              "      <th></th>\n",
              "      <th></th>\n",
              "    </tr>\n",
              "  </thead>\n",
              "  <tbody>\n",
              "    <tr>\n",
              "      <th>Brazil</th>\n",
              "      <td>120,980,103.0</td>\n",
              "      <td>150,641,403.0</td>\n",
              "      <td>169,385,584.0</td>\n",
              "      <td>196,929,978.0</td>\n",
              "      <td>234,357,507.0</td>\n",
              "      <td>248,323,703.0</td>\n",
              "      <td>271,099,799.0</td>\n",
              "      <td>280,728,796.0</td>\n",
              "      <td>257,814,274.0</td>\n",
              "      <td>244,067,356.0</td>\n",
              "      <td>236,488,548.0</td>\n",
              "    </tr>\n",
              "    <tr>\n",
              "      <th>China</th>\n",
              "      <td>547,306,000.0</td>\n",
              "      <td>641,245,000.0</td>\n",
              "      <td>747,214,000.0</td>\n",
              "      <td>859,003,000.0</td>\n",
              "      <td>986,253,000.0</td>\n",
              "      <td>1,112,155,000.0</td>\n",
              "      <td>1,229,113,000.0</td>\n",
              "      <td>1,286,093,000.0</td>\n",
              "      <td>1,291,984,200.0</td>\n",
              "      <td>1,364,934,000.0</td>\n",
              "      <td>1,474,097,000.0</td>\n",
              "    </tr>\n",
              "    <tr>\n",
              "      <th>India</th>\n",
              "      <td>233,620,000.0</td>\n",
              "      <td>346,890,000.0</td>\n",
              "      <td>525,090,000.0</td>\n",
              "      <td>752,190,000.0</td>\n",
              "      <td>893,862,478.0</td>\n",
              "      <td>864,720,917.0</td>\n",
              "      <td>886,304,245.0</td>\n",
              "      <td>944,008,677.0</td>\n",
              "      <td>1,001,056,000.0</td>\n",
              "      <td>1,127,809,000.0</td>\n",
              "      <td>1,168,902,277.0</td>\n",
              "    </tr>\n",
              "    <tr>\n",
              "      <th>Indonesia</th>\n",
              "      <td>93,386,881.0</td>\n",
              "      <td>140,578,243.0</td>\n",
              "      <td>163,676,961.0</td>\n",
              "      <td>211,290,235.0</td>\n",
              "      <td>249,805,619.0</td>\n",
              "      <td>281,963,665.0</td>\n",
              "      <td>313,226,914.0</td>\n",
              "      <td>325,582,819.0</td>\n",
              "      <td>338,948,340.0</td>\n",
              "      <td>385,573,398.0</td>\n",
              "      <td>458,923,202.0</td>\n",
              "    </tr>\n",
              "    <tr>\n",
              "      <th>United States</th>\n",
              "      <td>249,300,000.0</td>\n",
              "      <td>261,300,000.0</td>\n",
              "      <td>274,283,000.0</td>\n",
              "      <td>285,118,000.0</td>\n",
              "      <td>297,404,000.0</td>\n",
              "      <td>304,838,000.0</td>\n",
              "      <td>310,698,000.0</td>\n",
              "      <td>355,500,000.0</td>\n",
              "      <td>382,307,000.0</td>\n",
              "      <td>395,881,000.0</td>\n",
              "      <td>395,881,000.0</td>\n",
              "    </tr>\n",
              "  </tbody>\n",
              "</table>\n",
              "</div>"
            ],
            "text/plain": [
              "time                   2007          2008          2009          2010  \\\n",
              "country                                                                 \n",
              "Brazil        120,980,103.0 150,641,403.0 169,385,584.0 196,929,978.0   \n",
              "China         547,306,000.0 641,245,000.0 747,214,000.0 859,003,000.0   \n",
              "India         233,620,000.0 346,890,000.0 525,090,000.0 752,190,000.0   \n",
              "Indonesia      93,386,881.0 140,578,243.0 163,676,961.0 211,290,235.0   \n",
              "United States 249,300,000.0 261,300,000.0 274,283,000.0 285,118,000.0   \n",
              "\n",
              "time                   2011            2012            2013            2014  \\\n",
              "country                                                                       \n",
              "Brazil        234,357,507.0   248,323,703.0   271,099,799.0   280,728,796.0   \n",
              "China         986,253,000.0 1,112,155,000.0 1,229,113,000.0 1,286,093,000.0   \n",
              "India         893,862,478.0   864,720,917.0   886,304,245.0   944,008,677.0   \n",
              "Indonesia     249,805,619.0   281,963,665.0   313,226,914.0   325,582,819.0   \n",
              "United States 297,404,000.0   304,838,000.0   310,698,000.0   355,500,000.0   \n",
              "\n",
              "time                     2015            2016            2017  \n",
              "country                                                        \n",
              "Brazil          257,814,274.0   244,067,356.0   236,488,548.0  \n",
              "China         1,291,984,200.0 1,364,934,000.0 1,474,097,000.0  \n",
              "India         1,001,056,000.0 1,127,809,000.0 1,168,902,277.0  \n",
              "Indonesia       338,948,340.0   385,573,398.0   458,923,202.0  \n",
              "United States   382,307,000.0   395,881,000.0   395,881,000.0  "
            ]
          },
          "metadata": {
            "tags": []
          },
          "execution_count": 371
        }
      ]
    },
    {
      "metadata": {
        "id": "C9dXIH6cKNHs",
        "colab_type": "code",
        "colab": {
          "base_uri": "https://localhost:8080/",
          "height": 34
        },
        "outputId": "2dcfd27d-1134-4e0d-b64b-d808ec388ce0"
      },
      "cell_type": "code",
      "source": [
        "# Check to ensure proper shape\n",
        "country_2007_2017_pt.shape"
      ],
      "execution_count": 372,
      "outputs": [
        {
          "output_type": "execute_result",
          "data": {
            "text/plain": [
              "(5, 11)"
            ]
          },
          "metadata": {
            "tags": []
          },
          "execution_count": 372
        }
      ]
    },
    {
      "metadata": {
        "id": "8TZvmHYacynw",
        "colab_type": "code",
        "colab": {
          "base_uri": "https://localhost:8080/",
          "height": 472
        },
        "outputId": "9fc5dc2c-c340-4b29-a4c5-bf2945a640b9"
      },
      "cell_type": "code",
      "source": [
        "# Line graph plotting the relationship between time and total cell phones in each country\n",
        "import altair as alt\n",
        "\n",
        "alt.Chart(subset_final,height=400,width=700).mark_line().encode(\n",
        "    x='time',\n",
        "    y='cell_phones_total',\n",
        "    color='country'\n",
        ")"
      ],
      "execution_count": 373,
      "outputs": [
        {
          "output_type": "execute_result",
          "data": {
            "text/plain": [
              "Chart({\n",
              "  data:       geo  time  cell_phones_total  population_total        country    region  \\\n",
              "  1074  BRA  2007      120,980,103.0         191026637         Brazil  americas   \n",
              "  1075  BRA  2008      150,641,403.0         192979029         Brazil  americas   \n",
              "  1076  BRA  2009      169,385,584.0         194895996         Brazil  americas   \n",
              "  1077  BRA  2010      196,929,978.0         196796269         Brazil  americas   \n",
              "  1078  BRA  2011      234,357,507.0         198686688         Brazil  americas   \n",
              "  1079  BRA  2012      248,323,703.0         200560983         Brazil  americas   \n",
              "  1080  BRA  2013      271,099,799.0         202408632         Brazil  americas   \n",
              "  1081  BRA  2014      280,728,796.0         204213133         Brazil  americas   \n",
              "  1082  BRA  2015      257,814,274.0         205962108         Brazil  americas   \n",
              "  1083  BRA  2016      244,067,356.0         207652865         Brazil  americas   \n",
              "  1084  BRA  2017      236,488,548.0         209288278         Brazil  americas   \n",
              "  1486  CHN  2007      547,306,000.0        1336800506          China      asia   \n",
              "  1487  CHN  2008      641,245,000.0        1344415227          China      asia   \n",
              "  1488  CHN  2009      747,214,000.0        1352068091          China      asia   \n",
              "  1489  CHN  2010      859,003,000.0        1359755102          China      asia   \n",
              "  1490  CHN  2011      986,253,000.0        1367480264          China      asia   \n",
              "  1491  CHN  2012    1,112,155,000.0        1375198619          China      asia   \n",
              "  1492  CHN  2013    1,229,113,000.0        1382793212          China      asia   \n",
              "  1493  CHN  2014    1,286,093,000.0        1390110388          China      asia   \n",
              "  1494  CHN  2015    1,291,984,200.0        1397028553          China      asia   \n",
              "  1495  CHN  2016    1,364,934,000.0        1403500365          China      asia   \n",
              "  1496  CHN  2017    1,474,097,000.0        1409517397          China      asia   \n",
              "  3539  IDN  2007       93,386,881.0         232989141      Indonesia      asia   \n",
              "  3540  IDN  2008      140,578,243.0         236159276      Indonesia      asia   \n",
              "  3541  IDN  2009      163,676,961.0         239340478      Indonesia      asia   \n",
              "  3542  IDN  2010      211,290,235.0         242524123      Indonesia      asia   \n",
              "  3543  IDN  2011      249,805,619.0         245707511      Indonesia      asia   \n",
              "  3544  IDN  2012      281,963,665.0         248883232      Indonesia      asia   \n",
              "  3545  IDN  2013      313,226,914.0         252032263      Indonesia      asia   \n",
              "  3546  IDN  2014      325,582,819.0         255131116      Indonesia      asia   \n",
              "  3547  IDN  2015      338,948,340.0         258162113      Indonesia      asia   \n",
              "  3548  IDN  2016      385,573,398.0         261115456      Indonesia      asia   \n",
              "  3549  IDN  2017      458,923,202.0         263991379      Indonesia      asia   \n",
              "  3585  IND  2007      233,620,000.0        1179681239          India      asia   \n",
              "  3586  IND  2008      346,890,000.0        1197146906          India      asia   \n",
              "  3587  IND  2009      525,090,000.0        1214270132          India      asia   \n",
              "  3588  IND  2010      752,190,000.0        1230980691          India      asia   \n",
              "  3589  IND  2011      893,862,478.0        1247236029          India      asia   \n",
              "  3590  IND  2012      864,720,917.0        1263065852          India      asia   \n",
              "  3591  IND  2013      886,304,245.0        1278562207          India      asia   \n",
              "  3592  IND  2014      944,008,677.0        1293859294          India      asia   \n",
              "  3593  IND  2015    1,001,056,000.0        1309053980          India      asia   \n",
              "  3594  IND  2016    1,127,809,000.0        1324171354          India      asia   \n",
              "  3595  IND  2017    1,168,902,277.0        1339180127          India      asia   \n",
              "  8124  USA  2007      249,300,000.0         300595175  United States  americas   \n",
              "  8125  USA  2008      261,300,000.0         303374067  United States  americas   \n",
              "  8126  USA  2009      274,283,000.0         306076362  United States  americas   \n",
              "  8127  USA  2010      285,118,000.0         308641391  United States  americas   \n",
              "  8128  USA  2011      297,404,000.0         311051373  United States  americas   \n",
              "  8129  USA  2012      304,838,000.0         313335423  United States  americas   \n",
              "  8130  USA  2013      310,698,000.0         315536676  United States  americas   \n",
              "  8131  USA  2014      355,500,000.0         317718779  United States  americas   \n",
              "  8132  USA  2015      382,307,000.0         319929162  United States  americas   \n",
              "  8133  USA  2016      395,881,000.0         322179605  United States  americas   \n",
              "  8134  USA  2017      395,881,000.0         324459463  United States  americas   \n",
              "  \n",
              "                subregion  cell_phones_per_person  \n",
              "  1074            america                  0.6333  \n",
              "  1075            america                  0.7806  \n",
              "  1076            america                  0.8691  \n",
              "  1077            america                  1.0007  \n",
              "  1078            america                  1.1795  \n",
              "  1079            america                  1.2381  \n",
              "  1080            america                  1.3394  \n",
              "  1081            america                  1.3747  \n",
              "  1082            america                  1.2518  \n",
              "  1083            america                  1.1754  \n",
              "  1084            america                    1.13  \n",
              "  1486  east_asia_pacific                  0.4094  \n",
              "  1487  east_asia_pacific                   0.477  \n",
              "  1488  east_asia_pacific                  0.5526  \n",
              "  1489  east_asia_pacific                  0.6317  \n",
              "  1490  east_asia_pacific                  0.7212  \n",
              "  1491  east_asia_pacific                  0.8087  \n",
              "  1492  east_asia_pacific                  0.8889  \n",
              "  1493  east_asia_pacific                  0.9252  \n",
              "  1494  east_asia_pacific                  0.9248  \n",
              "  1495  east_asia_pacific                  0.9725  \n",
              "  1496  east_asia_pacific                  1.0458  \n",
              "  3539  east_asia_pacific                  0.4008  \n",
              "  3540  east_asia_pacific                  0.5953  \n",
              "  3541  east_asia_pacific                  0.6839  \n",
              "  3542  east_asia_pacific                  0.8712  \n",
              "  3543  east_asia_pacific                  1.0167  \n",
              "  3544  east_asia_pacific                  1.1329  \n",
              "  3545  east_asia_pacific                  1.2428  \n",
              "  3546  east_asia_pacific                  1.2761  \n",
              "  3547  east_asia_pacific                  1.3129  \n",
              "  3548  east_asia_pacific                  1.4766  \n",
              "  3549  east_asia_pacific                  1.7384  \n",
              "  3585         south_asia                   0.198  \n",
              "  3586         south_asia                  0.2898  \n",
              "  3587         south_asia                  0.4324  \n",
              "  3588         south_asia                   0.611  \n",
              "  3589         south_asia                  0.7167  \n",
              "  3590         south_asia                  0.6846  \n",
              "  3591         south_asia                  0.6932  \n",
              "  3592         south_asia                  0.7296  \n",
              "  3593         south_asia                  0.7647  \n",
              "  3594         south_asia                  0.8517  \n",
              "  3595         south_asia                  0.8728  \n",
              "  8124            america                  0.8294  \n",
              "  8125            america                  0.8613  \n",
              "  8126            america                  0.8961  \n",
              "  8127            america                  0.9238  \n",
              "  8128            america                  0.9561  \n",
              "  8129            america                  0.9729  \n",
              "  8130            america                  0.9847  \n",
              "  8131            america                  1.1189  \n",
              "  8132            america                   1.195  \n",
              "  8133            america                  1.2288  \n",
              "  8134            america                  1.2201  ,\n",
              "  encoding: EncodingWithFacet({\n",
              "    color: Color({\n",
              "      shorthand: 'country'\n",
              "    }),\n",
              "    x: X({\n",
              "      shorthand: 'time'\n",
              "    }),\n",
              "    y: Y({\n",
              "      shorthand: 'cell_phones_total'\n",
              "    })\n",
              "  }),\n",
              "  height: 400,\n",
              "  mark: 'line',\n",
              "  width: 700\n",
              "})"
            ],
            "text/html": [
              "<!DOCTYPE html>\n",
              "<html>\n",
              "<head>\n",
              "  <style>\n",
              "    .vega-actions a {\n",
              "        margin-right: 12px;\n",
              "        color: #757575;\n",
              "        font-weight: normal;\n",
              "        font-size: 13px;\n",
              "    }\n",
              "    .error {\n",
              "        color: red;\n",
              "    }\n",
              "  </style>\n",
              "  <script type=\"text/javascript\" src=\"https://cdn.jsdelivr.net/npm//vega@4\"></script>\n",
              "  <script type=\"text/javascript\" src=\"https://cdn.jsdelivr.net/npm//vega-lite@2.6.0\"></script>\n",
              "  <script type=\"text/javascript\" src=\"https://cdn.jsdelivr.net/npm//vega-embed@3\"></script>\n",
              "</head>\n",
              "<body>\n",
              "  <div id=\"altair-viz\"></div>\n",
              "  <script>\n",
              "      var spec = {\"config\": {\"view\": {\"width\": 400, \"height\": 300}}, \"data\": {\"name\": \"data-ba0c88fdf5009a44d978dfaaa0523ee4\"}, \"mark\": \"line\", \"encoding\": {\"color\": {\"type\": \"nominal\", \"field\": \"country\"}, \"x\": {\"type\": \"quantitative\", \"field\": \"time\"}, \"y\": {\"type\": \"quantitative\", \"field\": \"cell_phones_total\"}}, \"height\": 400, \"width\": 700, \"$schema\": \"https://vega.github.io/schema/vega-lite/v2.6.0.json\", \"datasets\": {\"data-ba0c88fdf5009a44d978dfaaa0523ee4\": [{\"geo\": \"BRA\", \"time\": 2007, \"cell_phones_total\": 120980103.0, \"population_total\": 191026637, \"country\": \"Brazil\", \"region\": \"americas\", \"subregion\": \"america\", \"cell_phones_per_person\": 0.6333}, {\"geo\": \"BRA\", \"time\": 2008, \"cell_phones_total\": 150641403.0, \"population_total\": 192979029, \"country\": \"Brazil\", \"region\": \"americas\", \"subregion\": \"america\", \"cell_phones_per_person\": 0.7806}, {\"geo\": \"BRA\", \"time\": 2009, \"cell_phones_total\": 169385584.0, \"population_total\": 194895996, \"country\": \"Brazil\", \"region\": \"americas\", \"subregion\": \"america\", \"cell_phones_per_person\": 0.8691}, {\"geo\": \"BRA\", \"time\": 2010, \"cell_phones_total\": 196929978.0, \"population_total\": 196796269, \"country\": \"Brazil\", \"region\": \"americas\", \"subregion\": \"america\", \"cell_phones_per_person\": 1.0007}, {\"geo\": \"BRA\", \"time\": 2011, \"cell_phones_total\": 234357507.0, \"population_total\": 198686688, \"country\": \"Brazil\", \"region\": \"americas\", \"subregion\": \"america\", \"cell_phones_per_person\": 1.1795}, {\"geo\": \"BRA\", \"time\": 2012, \"cell_phones_total\": 248323703.0, \"population_total\": 200560983, \"country\": \"Brazil\", \"region\": \"americas\", \"subregion\": \"america\", \"cell_phones_per_person\": 1.2381}, {\"geo\": \"BRA\", \"time\": 2013, \"cell_phones_total\": 271099799.0, \"population_total\": 202408632, \"country\": \"Brazil\", \"region\": \"americas\", \"subregion\": \"america\", \"cell_phones_per_person\": 1.3394}, {\"geo\": \"BRA\", \"time\": 2014, \"cell_phones_total\": 280728796.0, \"population_total\": 204213133, \"country\": \"Brazil\", \"region\": \"americas\", \"subregion\": \"america\", \"cell_phones_per_person\": 1.3747}, {\"geo\": \"BRA\", \"time\": 2015, \"cell_phones_total\": 257814274.0, \"population_total\": 205962108, \"country\": \"Brazil\", \"region\": \"americas\", \"subregion\": \"america\", \"cell_phones_per_person\": 1.2518}, {\"geo\": \"BRA\", \"time\": 2016, \"cell_phones_total\": 244067356.0, \"population_total\": 207652865, \"country\": \"Brazil\", \"region\": \"americas\", \"subregion\": \"america\", \"cell_phones_per_person\": 1.1754}, {\"geo\": \"BRA\", \"time\": 2017, \"cell_phones_total\": 236488548.0, \"population_total\": 209288278, \"country\": \"Brazil\", \"region\": \"americas\", \"subregion\": \"america\", \"cell_phones_per_person\": 1.13}, {\"geo\": \"CHN\", \"time\": 2007, \"cell_phones_total\": 547306000.0, \"population_total\": 1336800506, \"country\": \"China\", \"region\": \"asia\", \"subregion\": \"east_asia_pacific\", \"cell_phones_per_person\": 0.4094}, {\"geo\": \"CHN\", \"time\": 2008, \"cell_phones_total\": 641245000.0, \"population_total\": 1344415227, \"country\": \"China\", \"region\": \"asia\", \"subregion\": \"east_asia_pacific\", \"cell_phones_per_person\": 0.477}, {\"geo\": \"CHN\", \"time\": 2009, \"cell_phones_total\": 747214000.0, \"population_total\": 1352068091, \"country\": \"China\", \"region\": \"asia\", \"subregion\": \"east_asia_pacific\", \"cell_phones_per_person\": 0.5526}, {\"geo\": \"CHN\", \"time\": 2010, \"cell_phones_total\": 859003000.0, \"population_total\": 1359755102, \"country\": \"China\", \"region\": \"asia\", \"subregion\": \"east_asia_pacific\", \"cell_phones_per_person\": 0.6317}, {\"geo\": \"CHN\", \"time\": 2011, \"cell_phones_total\": 986253000.0, \"population_total\": 1367480264, \"country\": \"China\", \"region\": \"asia\", \"subregion\": \"east_asia_pacific\", \"cell_phones_per_person\": 0.7212}, {\"geo\": \"CHN\", \"time\": 2012, \"cell_phones_total\": 1112155000.0, \"population_total\": 1375198619, \"country\": \"China\", \"region\": \"asia\", \"subregion\": \"east_asia_pacific\", \"cell_phones_per_person\": 0.8087}, {\"geo\": \"CHN\", \"time\": 2013, \"cell_phones_total\": 1229113000.0, \"population_total\": 1382793212, \"country\": \"China\", \"region\": \"asia\", \"subregion\": \"east_asia_pacific\", \"cell_phones_per_person\": 0.8889}, {\"geo\": \"CHN\", \"time\": 2014, \"cell_phones_total\": 1286093000.0, \"population_total\": 1390110388, \"country\": \"China\", \"region\": \"asia\", \"subregion\": \"east_asia_pacific\", \"cell_phones_per_person\": 0.9252}, {\"geo\": \"CHN\", \"time\": 2015, \"cell_phones_total\": 1291984200.0, \"population_total\": 1397028553, \"country\": \"China\", \"region\": \"asia\", \"subregion\": \"east_asia_pacific\", \"cell_phones_per_person\": 0.9248}, {\"geo\": \"CHN\", \"time\": 2016, \"cell_phones_total\": 1364934000.0, \"population_total\": 1403500365, \"country\": \"China\", \"region\": \"asia\", \"subregion\": \"east_asia_pacific\", \"cell_phones_per_person\": 0.9725}, {\"geo\": \"CHN\", \"time\": 2017, \"cell_phones_total\": 1474097000.0, \"population_total\": 1409517397, \"country\": \"China\", \"region\": \"asia\", \"subregion\": \"east_asia_pacific\", \"cell_phones_per_person\": 1.0458}, {\"geo\": \"IDN\", \"time\": 2007, \"cell_phones_total\": 93386881.0, \"population_total\": 232989141, \"country\": \"Indonesia\", \"region\": \"asia\", \"subregion\": \"east_asia_pacific\", \"cell_phones_per_person\": 0.4008}, {\"geo\": \"IDN\", \"time\": 2008, \"cell_phones_total\": 140578243.0, \"population_total\": 236159276, \"country\": \"Indonesia\", \"region\": \"asia\", \"subregion\": \"east_asia_pacific\", \"cell_phones_per_person\": 0.5953}, {\"geo\": \"IDN\", \"time\": 2009, \"cell_phones_total\": 163676961.0, \"population_total\": 239340478, \"country\": \"Indonesia\", \"region\": \"asia\", \"subregion\": \"east_asia_pacific\", \"cell_phones_per_person\": 0.6839}, {\"geo\": \"IDN\", \"time\": 2010, \"cell_phones_total\": 211290235.0, \"population_total\": 242524123, \"country\": \"Indonesia\", \"region\": \"asia\", \"subregion\": \"east_asia_pacific\", \"cell_phones_per_person\": 0.8712}, {\"geo\": \"IDN\", \"time\": 2011, \"cell_phones_total\": 249805619.0, \"population_total\": 245707511, \"country\": \"Indonesia\", \"region\": \"asia\", \"subregion\": \"east_asia_pacific\", \"cell_phones_per_person\": 1.0167}, {\"geo\": \"IDN\", \"time\": 2012, \"cell_phones_total\": 281963665.0, \"population_total\": 248883232, \"country\": \"Indonesia\", \"region\": \"asia\", \"subregion\": \"east_asia_pacific\", \"cell_phones_per_person\": 1.1329}, {\"geo\": \"IDN\", \"time\": 2013, \"cell_phones_total\": 313226914.0, \"population_total\": 252032263, \"country\": \"Indonesia\", \"region\": \"asia\", \"subregion\": \"east_asia_pacific\", \"cell_phones_per_person\": 1.2428}, {\"geo\": \"IDN\", \"time\": 2014, \"cell_phones_total\": 325582819.0, \"population_total\": 255131116, \"country\": \"Indonesia\", \"region\": \"asia\", \"subregion\": \"east_asia_pacific\", \"cell_phones_per_person\": 1.2761}, {\"geo\": \"IDN\", \"time\": 2015, \"cell_phones_total\": 338948340.0, \"population_total\": 258162113, \"country\": \"Indonesia\", \"region\": \"asia\", \"subregion\": \"east_asia_pacific\", \"cell_phones_per_person\": 1.3129}, {\"geo\": \"IDN\", \"time\": 2016, \"cell_phones_total\": 385573398.0, \"population_total\": 261115456, \"country\": \"Indonesia\", \"region\": \"asia\", \"subregion\": \"east_asia_pacific\", \"cell_phones_per_person\": 1.4766}, {\"geo\": \"IDN\", \"time\": 2017, \"cell_phones_total\": 458923202.0, \"population_total\": 263991379, \"country\": \"Indonesia\", \"region\": \"asia\", \"subregion\": \"east_asia_pacific\", \"cell_phones_per_person\": 1.7384}, {\"geo\": \"IND\", \"time\": 2007, \"cell_phones_total\": 233620000.0, \"population_total\": 1179681239, \"country\": \"India\", \"region\": \"asia\", \"subregion\": \"south_asia\", \"cell_phones_per_person\": 0.198}, {\"geo\": \"IND\", \"time\": 2008, \"cell_phones_total\": 346890000.0, \"population_total\": 1197146906, \"country\": \"India\", \"region\": \"asia\", \"subregion\": \"south_asia\", \"cell_phones_per_person\": 0.2898}, {\"geo\": \"IND\", \"time\": 2009, \"cell_phones_total\": 525090000.0, \"population_total\": 1214270132, \"country\": \"India\", \"region\": \"asia\", \"subregion\": \"south_asia\", \"cell_phones_per_person\": 0.4324}, {\"geo\": \"IND\", \"time\": 2010, \"cell_phones_total\": 752190000.0, \"population_total\": 1230980691, \"country\": \"India\", \"region\": \"asia\", \"subregion\": \"south_asia\", \"cell_phones_per_person\": 0.611}, {\"geo\": \"IND\", \"time\": 2011, \"cell_phones_total\": 893862478.0, \"population_total\": 1247236029, \"country\": \"India\", \"region\": \"asia\", \"subregion\": \"south_asia\", \"cell_phones_per_person\": 0.7167}, {\"geo\": \"IND\", \"time\": 2012, \"cell_phones_total\": 864720917.0, \"population_total\": 1263065852, \"country\": \"India\", \"region\": \"asia\", \"subregion\": \"south_asia\", \"cell_phones_per_person\": 0.6846}, {\"geo\": \"IND\", \"time\": 2013, \"cell_phones_total\": 886304245.0, \"population_total\": 1278562207, \"country\": \"India\", \"region\": \"asia\", \"subregion\": \"south_asia\", \"cell_phones_per_person\": 0.6932}, {\"geo\": \"IND\", \"time\": 2014, \"cell_phones_total\": 944008677.0, \"population_total\": 1293859294, \"country\": \"India\", \"region\": \"asia\", \"subregion\": \"south_asia\", \"cell_phones_per_person\": 0.7296}, {\"geo\": \"IND\", \"time\": 2015, \"cell_phones_total\": 1001056000.0, \"population_total\": 1309053980, \"country\": \"India\", \"region\": \"asia\", \"subregion\": \"south_asia\", \"cell_phones_per_person\": 0.7647}, {\"geo\": \"IND\", \"time\": 2016, \"cell_phones_total\": 1127809000.0, \"population_total\": 1324171354, \"country\": \"India\", \"region\": \"asia\", \"subregion\": \"south_asia\", \"cell_phones_per_person\": 0.8517}, {\"geo\": \"IND\", \"time\": 2017, \"cell_phones_total\": 1168902277.0, \"population_total\": 1339180127, \"country\": \"India\", \"region\": \"asia\", \"subregion\": \"south_asia\", \"cell_phones_per_person\": 0.8728}, {\"geo\": \"USA\", \"time\": 2007, \"cell_phones_total\": 249300000.0, \"population_total\": 300595175, \"country\": \"United States\", \"region\": \"americas\", \"subregion\": \"america\", \"cell_phones_per_person\": 0.8294}, {\"geo\": \"USA\", \"time\": 2008, \"cell_phones_total\": 261300000.0, \"population_total\": 303374067, \"country\": \"United States\", \"region\": \"americas\", \"subregion\": \"america\", \"cell_phones_per_person\": 0.8613}, {\"geo\": \"USA\", \"time\": 2009, \"cell_phones_total\": 274283000.0, \"population_total\": 306076362, \"country\": \"United States\", \"region\": \"americas\", \"subregion\": \"america\", \"cell_phones_per_person\": 0.8961}, {\"geo\": \"USA\", \"time\": 2010, \"cell_phones_total\": 285118000.0, \"population_total\": 308641391, \"country\": \"United States\", \"region\": \"americas\", \"subregion\": \"america\", \"cell_phones_per_person\": 0.9238}, {\"geo\": \"USA\", \"time\": 2011, \"cell_phones_total\": 297404000.0, \"population_total\": 311051373, \"country\": \"United States\", \"region\": \"americas\", \"subregion\": \"america\", \"cell_phones_per_person\": 0.9561}, {\"geo\": \"USA\", \"time\": 2012, \"cell_phones_total\": 304838000.0, \"population_total\": 313335423, \"country\": \"United States\", \"region\": \"americas\", \"subregion\": \"america\", \"cell_phones_per_person\": 0.9729}, {\"geo\": \"USA\", \"time\": 2013, \"cell_phones_total\": 310698000.0, \"population_total\": 315536676, \"country\": \"United States\", \"region\": \"americas\", \"subregion\": \"america\", \"cell_phones_per_person\": 0.9847}, {\"geo\": \"USA\", \"time\": 2014, \"cell_phones_total\": 355500000.0, \"population_total\": 317718779, \"country\": \"United States\", \"region\": \"americas\", \"subregion\": \"america\", \"cell_phones_per_person\": 1.1189}, {\"geo\": \"USA\", \"time\": 2015, \"cell_phones_total\": 382307000.0, \"population_total\": 319929162, \"country\": \"United States\", \"region\": \"americas\", \"subregion\": \"america\", \"cell_phones_per_person\": 1.195}, {\"geo\": \"USA\", \"time\": 2016, \"cell_phones_total\": 395881000.0, \"population_total\": 322179605, \"country\": \"United States\", \"region\": \"americas\", \"subregion\": \"america\", \"cell_phones_per_person\": 1.2288}, {\"geo\": \"USA\", \"time\": 2017, \"cell_phones_total\": 395881000.0, \"population_total\": 324459463, \"country\": \"United States\", \"region\": \"americas\", \"subregion\": \"america\", \"cell_phones_per_person\": 1.2201}]}};\n",
              "      var embedOpt = {\"mode\": \"vega-lite\"};\n",
              "\n",
              "      function showError(el, error){\n",
              "          el.innerHTML = ('<div class=\"error\" style=\"color:red;\">'\n",
              "                          + '<p>JavaScript Error: ' + error.message + '</p>'\n",
              "                          + \"<p>This usually means there's a typo in your chart specification. \"\n",
              "                          + \"See the javascript console for the full traceback.</p>\"\n",
              "                          + '</div>');\n",
              "          throw error;\n",
              "      }\n",
              "      const el = document.getElementById('altair-viz');\n",
              "      vegaEmbed(\"#altair-viz\", spec, embedOpt)\n",
              "        .catch(error => showError(el, error));\n",
              "\n",
              "  </script>\n",
              "</body>\n",
              "</html>"
            ]
          },
          "metadata": {
            "tags": []
          },
          "execution_count": 373
        }
      ]
    },
    {
      "metadata": {
        "id": "CNKTu2DCnAo6",
        "colab_type": "text"
      },
      "cell_type": "markdown",
      "source": [
        "#### OPTIONAL BONUS QUESTION!\n",
        "\n",
        "Sort these 5 countries, by biggest increase in cell phones from 2007 to 2017.\n",
        "\n",
        "Which country had 935,282,277 more cell phones in 2017 versus 2007?"
      ]
    },
    {
      "metadata": {
        "id": "O4Aecv1fmQlj",
        "colab_type": "code",
        "colab": {}
      },
      "cell_type": "code",
      "source": [
        "# Create sub-dataframes including only the years 2007 and 2017\n",
        "_2007_test = subset_test.loc[cell_df['time'] == 2007]\n",
        "_2017_test = subset_test.loc[cell_df['time'] == 2017]"
      ],
      "execution_count": 0,
      "outputs": []
    },
    {
      "metadata": {
        "id": "y0eS9HQBZdmJ",
        "colab_type": "code",
        "colab": {}
      },
      "cell_type": "code",
      "source": [
        "# Rename columns to avoid confusion\n",
        "_2007_test =_2007_test.rename({'cell_phones_total':'2007 Cell Phone Total'},axis=1)\n",
        "_2017_test =_2017_test.rename({'cell_phones_total':'2017 Cell Phone Total'},axis=1)"
      ],
      "execution_count": 0,
      "outputs": []
    },
    {
      "metadata": {
        "id": "xDL4EQVZZ4oh",
        "colab_type": "code",
        "colab": {
          "base_uri": "https://localhost:8080/",
          "height": 204
        },
        "outputId": "8cc2d011-7884-4a76-881e-d00631e2c2e9"
      },
      "cell_type": "code",
      "source": [
        "_2007_test"
      ],
      "execution_count": 376,
      "outputs": [
        {
          "output_type": "execute_result",
          "data": {
            "text/html": [
              "<div>\n",
              "<style scoped>\n",
              "    .dataframe tbody tr th:only-of-type {\n",
              "        vertical-align: middle;\n",
              "    }\n",
              "\n",
              "    .dataframe tbody tr th {\n",
              "        vertical-align: top;\n",
              "    }\n",
              "\n",
              "    .dataframe thead th {\n",
              "        text-align: right;\n",
              "    }\n",
              "</style>\n",
              "<table border=\"1\" class=\"dataframe\">\n",
              "  <thead>\n",
              "    <tr style=\"text-align: right;\">\n",
              "      <th></th>\n",
              "      <th>geo</th>\n",
              "      <th>time</th>\n",
              "      <th>2007 Cell Phone Total</th>\n",
              "      <th>population_total</th>\n",
              "      <th>country</th>\n",
              "      <th>region</th>\n",
              "      <th>subregion</th>\n",
              "      <th>cell_phones_per_person</th>\n",
              "    </tr>\n",
              "  </thead>\n",
              "  <tbody>\n",
              "    <tr>\n",
              "      <th>1074</th>\n",
              "      <td>BRA</td>\n",
              "      <td>2007</td>\n",
              "      <td>120,980,103.0</td>\n",
              "      <td>191026637</td>\n",
              "      <td>Brazil</td>\n",
              "      <td>americas</td>\n",
              "      <td>america</td>\n",
              "      <td>0.6333</td>\n",
              "    </tr>\n",
              "    <tr>\n",
              "      <th>1486</th>\n",
              "      <td>CHN</td>\n",
              "      <td>2007</td>\n",
              "      <td>547,306,000.0</td>\n",
              "      <td>1336800506</td>\n",
              "      <td>China</td>\n",
              "      <td>asia</td>\n",
              "      <td>east_asia_pacific</td>\n",
              "      <td>0.4094</td>\n",
              "    </tr>\n",
              "    <tr>\n",
              "      <th>3539</th>\n",
              "      <td>IDN</td>\n",
              "      <td>2007</td>\n",
              "      <td>93,386,881.0</td>\n",
              "      <td>232989141</td>\n",
              "      <td>Indonesia</td>\n",
              "      <td>asia</td>\n",
              "      <td>east_asia_pacific</td>\n",
              "      <td>0.4008</td>\n",
              "    </tr>\n",
              "    <tr>\n",
              "      <th>3585</th>\n",
              "      <td>IND</td>\n",
              "      <td>2007</td>\n",
              "      <td>233,620,000.0</td>\n",
              "      <td>1179681239</td>\n",
              "      <td>India</td>\n",
              "      <td>asia</td>\n",
              "      <td>south_asia</td>\n",
              "      <td>0.198</td>\n",
              "    </tr>\n",
              "    <tr>\n",
              "      <th>8124</th>\n",
              "      <td>USA</td>\n",
              "      <td>2007</td>\n",
              "      <td>249,300,000.0</td>\n",
              "      <td>300595175</td>\n",
              "      <td>United States</td>\n",
              "      <td>americas</td>\n",
              "      <td>america</td>\n",
              "      <td>0.8294</td>\n",
              "    </tr>\n",
              "  </tbody>\n",
              "</table>\n",
              "</div>"
            ],
            "text/plain": [
              "      geo  time  2007 Cell Phone Total  population_total        country  \\\n",
              "1074  BRA  2007          120,980,103.0         191026637         Brazil   \n",
              "1486  CHN  2007          547,306,000.0        1336800506          China   \n",
              "3539  IDN  2007           93,386,881.0         232989141      Indonesia   \n",
              "3585  IND  2007          233,620,000.0        1179681239          India   \n",
              "8124  USA  2007          249,300,000.0         300595175  United States   \n",
              "\n",
              "        region          subregion  cell_phones_per_person  \n",
              "1074  americas            america                  0.6333  \n",
              "1486      asia  east_asia_pacific                  0.4094  \n",
              "3539      asia  east_asia_pacific                  0.4008  \n",
              "3585      asia         south_asia                   0.198  \n",
              "8124  americas            america                  0.8294  "
            ]
          },
          "metadata": {
            "tags": []
          },
          "execution_count": 376
        }
      ]
    },
    {
      "metadata": {
        "id": "QNTaawLWZ4rC",
        "colab_type": "code",
        "colab": {}
      },
      "cell_type": "code",
      "source": [
        "# Reduce sub-dataframes to only include relevant information\n",
        "_2007_test = _2007_test[['country', '2007 Cell Phone Total']]\n",
        "_2017_test = _2017_test[['country', '2017 Cell Phone Total']]"
      ],
      "execution_count": 0,
      "outputs": []
    },
    {
      "metadata": {
        "id": "e-jhcyXTPWfB",
        "colab_type": "code",
        "colab": {}
      },
      "cell_type": "code",
      "source": [
        "# Merge sub-dataframes together\n",
        "bonus_merge = _2007_test.merge(_2017_test)"
      ],
      "execution_count": 0,
      "outputs": []
    },
    {
      "metadata": {
        "id": "BbncpdUKbXiC",
        "colab_type": "code",
        "colab": {
          "base_uri": "https://localhost:8080/",
          "height": 204
        },
        "outputId": "2939bf8c-a69b-4648-f7c9-4df66dc62546"
      },
      "cell_type": "code",
      "source": [
        "# Create Cell Phone Total Increase column to see which country had the largest nominal increase in cell phones\n",
        "bonus_merge['Cell Phone Total Increase'] = bonus_merge['2017 Cell Phone Total'] - bonus_merge['2007 Cell Phone Total']\n",
        "bonus_merge"
      ],
      "execution_count": 379,
      "outputs": [
        {
          "output_type": "execute_result",
          "data": {
            "text/html": [
              "<div>\n",
              "<style scoped>\n",
              "    .dataframe tbody tr th:only-of-type {\n",
              "        vertical-align: middle;\n",
              "    }\n",
              "\n",
              "    .dataframe tbody tr th {\n",
              "        vertical-align: top;\n",
              "    }\n",
              "\n",
              "    .dataframe thead th {\n",
              "        text-align: right;\n",
              "    }\n",
              "</style>\n",
              "<table border=\"1\" class=\"dataframe\">\n",
              "  <thead>\n",
              "    <tr style=\"text-align: right;\">\n",
              "      <th></th>\n",
              "      <th>country</th>\n",
              "      <th>2007 Cell Phone Total</th>\n",
              "      <th>2017 Cell Phone Total</th>\n",
              "      <th>Cell Phone Total Increase</th>\n",
              "    </tr>\n",
              "  </thead>\n",
              "  <tbody>\n",
              "    <tr>\n",
              "      <th>0</th>\n",
              "      <td>Brazil</td>\n",
              "      <td>120,980,103.0</td>\n",
              "      <td>236,488,548.0</td>\n",
              "      <td>115,508,445.0</td>\n",
              "    </tr>\n",
              "    <tr>\n",
              "      <th>1</th>\n",
              "      <td>China</td>\n",
              "      <td>547,306,000.0</td>\n",
              "      <td>1,474,097,000.0</td>\n",
              "      <td>926,791,000.0</td>\n",
              "    </tr>\n",
              "    <tr>\n",
              "      <th>2</th>\n",
              "      <td>Indonesia</td>\n",
              "      <td>93,386,881.0</td>\n",
              "      <td>458,923,202.0</td>\n",
              "      <td>365,536,321.0</td>\n",
              "    </tr>\n",
              "    <tr>\n",
              "      <th>3</th>\n",
              "      <td>India</td>\n",
              "      <td>233,620,000.0</td>\n",
              "      <td>1,168,902,277.0</td>\n",
              "      <td>935,282,277.0</td>\n",
              "    </tr>\n",
              "    <tr>\n",
              "      <th>4</th>\n",
              "      <td>United States</td>\n",
              "      <td>249,300,000.0</td>\n",
              "      <td>395,881,000.0</td>\n",
              "      <td>146,581,000.0</td>\n",
              "    </tr>\n",
              "  </tbody>\n",
              "</table>\n",
              "</div>"
            ],
            "text/plain": [
              "         country  2007 Cell Phone Total  2017 Cell Phone Total  \\\n",
              "0         Brazil          120,980,103.0          236,488,548.0   \n",
              "1          China          547,306,000.0        1,474,097,000.0   \n",
              "2      Indonesia           93,386,881.0          458,923,202.0   \n",
              "3          India          233,620,000.0        1,168,902,277.0   \n",
              "4  United States          249,300,000.0          395,881,000.0   \n",
              "\n",
              "   Cell Phone Total Increase  \n",
              "0              115,508,445.0  \n",
              "1              926,791,000.0  \n",
              "2              365,536,321.0  \n",
              "3              935,282,277.0  \n",
              "4              146,581,000.0  "
            ]
          },
          "metadata": {
            "tags": []
          },
          "execution_count": 379
        }
      ]
    },
    {
      "metadata": {
        "id": "h1WyJYtXchMf",
        "colab_type": "text"
      },
      "cell_type": "markdown",
      "source": [
        "**India** had the largest Nominal increase in cell phones from 2007 to 2017 with 935,282,277 answering the second question!"
      ]
    },
    {
      "metadata": {
        "id": "CXedX1sgdgk3",
        "colab_type": "code",
        "colab": {
          "base_uri": "https://localhost:8080/",
          "height": 204
        },
        "outputId": "75f5a5f2-5c7b-473f-9e22-b57c9e93c712"
      },
      "cell_type": "code",
      "source": [
        "# Create Cell Phone Percentage Increase column to see which country had the largest nominal increase in cell phones\n",
        "bonus_merge['Cell Phone Percentage Increase'] = ((bonus_merge['2017 Cell Phone Total'] - bonus_merge['2007 Cell Phone Total']) / bonus_merge['2007 Cell Phone Total'])\n",
        "bonus_merge['Cell Phone Percentage Increase'] = bonus_merge['Cell Phone Percentage Increase'].round(decimals=4)\n",
        "bonus_merge"
      ],
      "execution_count": 380,
      "outputs": [
        {
          "output_type": "execute_result",
          "data": {
            "text/html": [
              "<div>\n",
              "<style scoped>\n",
              "    .dataframe tbody tr th:only-of-type {\n",
              "        vertical-align: middle;\n",
              "    }\n",
              "\n",
              "    .dataframe tbody tr th {\n",
              "        vertical-align: top;\n",
              "    }\n",
              "\n",
              "    .dataframe thead th {\n",
              "        text-align: right;\n",
              "    }\n",
              "</style>\n",
              "<table border=\"1\" class=\"dataframe\">\n",
              "  <thead>\n",
              "    <tr style=\"text-align: right;\">\n",
              "      <th></th>\n",
              "      <th>country</th>\n",
              "      <th>2007 Cell Phone Total</th>\n",
              "      <th>2017 Cell Phone Total</th>\n",
              "      <th>Cell Phone Total Increase</th>\n",
              "      <th>Cell Phone Percentage Increase</th>\n",
              "    </tr>\n",
              "  </thead>\n",
              "  <tbody>\n",
              "    <tr>\n",
              "      <th>0</th>\n",
              "      <td>Brazil</td>\n",
              "      <td>120,980,103.0</td>\n",
              "      <td>236,488,548.0</td>\n",
              "      <td>115,508,445.0</td>\n",
              "      <td>0.9548</td>\n",
              "    </tr>\n",
              "    <tr>\n",
              "      <th>1</th>\n",
              "      <td>China</td>\n",
              "      <td>547,306,000.0</td>\n",
              "      <td>1,474,097,000.0</td>\n",
              "      <td>926,791,000.0</td>\n",
              "      <td>1.6934</td>\n",
              "    </tr>\n",
              "    <tr>\n",
              "      <th>2</th>\n",
              "      <td>Indonesia</td>\n",
              "      <td>93,386,881.0</td>\n",
              "      <td>458,923,202.0</td>\n",
              "      <td>365,536,321.0</td>\n",
              "      <td>3.9142</td>\n",
              "    </tr>\n",
              "    <tr>\n",
              "      <th>3</th>\n",
              "      <td>India</td>\n",
              "      <td>233,620,000.0</td>\n",
              "      <td>1,168,902,277.0</td>\n",
              "      <td>935,282,277.0</td>\n",
              "      <td>4.0034</td>\n",
              "    </tr>\n",
              "    <tr>\n",
              "      <th>4</th>\n",
              "      <td>United States</td>\n",
              "      <td>249,300,000.0</td>\n",
              "      <td>395,881,000.0</td>\n",
              "      <td>146,581,000.0</td>\n",
              "      <td>0.588</td>\n",
              "    </tr>\n",
              "  </tbody>\n",
              "</table>\n",
              "</div>"
            ],
            "text/plain": [
              "         country  2007 Cell Phone Total  2017 Cell Phone Total  \\\n",
              "0         Brazil          120,980,103.0          236,488,548.0   \n",
              "1          China          547,306,000.0        1,474,097,000.0   \n",
              "2      Indonesia           93,386,881.0          458,923,202.0   \n",
              "3          India          233,620,000.0        1,168,902,277.0   \n",
              "4  United States          249,300,000.0          395,881,000.0   \n",
              "\n",
              "   Cell Phone Total Increase  Cell Phone Percentage Increase  \n",
              "0              115,508,445.0                          0.9548  \n",
              "1              926,791,000.0                          1.6934  \n",
              "2              365,536,321.0                          3.9142  \n",
              "3              935,282,277.0                          4.0034  \n",
              "4              146,581,000.0                           0.588  "
            ]
          },
          "metadata": {
            "tags": []
          },
          "execution_count": 380
        }
      ]
    },
    {
      "metadata": {
        "id": "KIEeBQ6UeFlv",
        "colab_type": "text"
      },
      "cell_type": "markdown",
      "source": [
        "**India** also had the largest percentage increase in cell phones from 2007 to 2017 with an increase of 400%!"
      ]
    },
    {
      "metadata": {
        "id": "7iHkMsa3Rorh",
        "colab_type": "text"
      },
      "cell_type": "markdown",
      "source": [
        "If you have the time and curiosity, what other questions can you ask and answer with this data?"
      ]
    },
    {
      "metadata": {
        "id": "nW2vnlriheOa",
        "colab_type": "text"
      },
      "cell_type": "markdown",
      "source": [
        "Using the features I added earlier, I am going to plot total cell phones over time for each subregion in our dataset.\n",
        "- We can infer that around 2005-2010 the cell phone market for the developed market had begun to mature.\n",
        "- The growth for the east pacific region exploded around the mid-2000's and is continuing to see high growth year over year.\n",
        "- Around 2015 we start to see the total cell phones deecreasing in all subregions that are not in east or south asia."
      ]
    },
    {
      "metadata": {
        "id": "gxQV3EsIejjf",
        "colab_type": "code",
        "colab": {}
      },
      "cell_type": "code",
      "source": [
        "sub_region_df = (cell_df\n",
        "            .groupby(['subregion','time'])\n",
        "            .cell_phones_total.agg(['sum'])\n",
        "            .rename(columns={'sum':'Total Cell Phones'})\n",
        "            .reset_index())"
      ],
      "execution_count": 0,
      "outputs": []
    },
    {
      "metadata": {
        "id": "Ji_Dhqvggzwn",
        "colab_type": "code",
        "colab": {
          "base_uri": "https://localhost:8080/",
          "height": 472
        },
        "outputId": "8ed258e0-eb35-4d7e-c2f8-bc57c79266b7"
      },
      "cell_type": "code",
      "source": [
        "alt.Chart(sub_region_df,height=400,width=700).mark_line().encode(\n",
        "    x='time',\n",
        "    y='Total Cell Phones',\n",
        "    color='subregion'\n",
        ")"
      ],
      "execution_count": 382,
      "outputs": [
        {
          "output_type": "execute_result",
          "data": {
            "text/plain": [
              "Chart({\n",
              "  data:               subregion  time  Total Cell Phones\n",
              "  0               america  1960                0.0\n",
              "  1               america  1965                0.0\n",
              "  2               america  1970                0.0\n",
              "  3               america  1975                0.0\n",
              "  4               america  1976                0.0\n",
              "  5               america  1977                0.0\n",
              "  6               america  1978                0.0\n",
              "  7               america  1979                0.0\n",
              "  8               america  1980                0.0\n",
              "  9               america  1981                0.0\n",
              "  10              america  1982                0.0\n",
              "  11              america  1983                0.0\n",
              "  12              america  1984           91,600.0\n",
              "  13              america  1985          352,213.0\n",
              "  14              america  1986          741,825.0\n",
              "  15              america  1987        1,329,219.0\n",
              "  16              america  1988        2,275,374.0\n",
              "  17              america  1989        3,873,493.0\n",
              "  18              america  1990        5,971,938.0\n",
              "  19              america  1991        8,596,660.0\n",
              "  20              america  1992       12,645,878.0\n",
              "  21              america  1993       18,381,755.0\n",
              "  22              america  1994       28,078,581.0\n",
              "  23              america  1995       40,012,288.0\n",
              "  24              america  1996       53,855,611.0\n",
              "  25              america  1997       71,871,234.0\n",
              "  26              america  1998       95,188,204.0\n",
              "  27              america  1999      132,214,308.0\n",
              "  28              america  2000      180,589,877.0\n",
              "  29              america  2001      222,134,187.0\n",
              "  ..                  ...   ...                ...\n",
              "  246  sub_saharan_africa  1988                0.0\n",
              "  247  sub_saharan_africa  1989            3,980.0\n",
              "  248  sub_saharan_africa  1990            7,880.0\n",
              "  249  sub_saharan_africa  1991            9,600.0\n",
              "  250  sub_saharan_africa  1992           17,406.0\n",
              "  251  sub_saharan_africa  1993           59,142.0\n",
              "  252  sub_saharan_africa  1994          372,608.0\n",
              "  253  sub_saharan_africa  1995          601,706.0\n",
              "  254  sub_saharan_africa  1996        1,083,260.0\n",
              "  255  sub_saharan_africa  1997        2,087,517.0\n",
              "  256  sub_saharan_africa  1998        3,872,303.0\n",
              "  257  sub_saharan_africa  1999        6,466,858.0\n",
              "  258  sub_saharan_africa  2000       11,445,272.0\n",
              "  259  sub_saharan_africa  2001       17,046,727.0\n",
              "  260  sub_saharan_africa  2002       25,098,099.0\n",
              "  261  sub_saharan_africa  2003       35,687,622.0\n",
              "  262  sub_saharan_africa  2004       54,212,996.0\n",
              "  263  sub_saharan_africa  2005       90,368,334.0\n",
              "  264  sub_saharan_africa  2006      135,233,899.0\n",
              "  265  sub_saharan_africa  2007      184,823,777.0\n",
              "  266  sub_saharan_africa  2008      261,134,046.0\n",
              "  267  sub_saharan_africa  2009      316,759,711.0\n",
              "  268  sub_saharan_africa  2010      387,953,418.0\n",
              "  269  sub_saharan_africa  2011      471,725,434.0\n",
              "  270  sub_saharan_africa  2012      544,447,403.0\n",
              "  271  sub_saharan_africa  2013      618,078,177.0\n",
              "  272  sub_saharan_africa  2014      680,980,483.0\n",
              "  273  sub_saharan_africa  2015      751,999,700.0\n",
              "  274  sub_saharan_africa  2016      752,087,695.0\n",
              "  275  sub_saharan_africa  2017      726,950,742.0\n",
              "  \n",
              "  [276 rows x 3 columns],\n",
              "  encoding: EncodingWithFacet({\n",
              "    color: Color({\n",
              "      shorthand: 'subregion'\n",
              "    }),\n",
              "    x: X({\n",
              "      shorthand: 'time'\n",
              "    }),\n",
              "    y: Y({\n",
              "      shorthand: 'Total Cell Phones'\n",
              "    })\n",
              "  }),\n",
              "  height: 400,\n",
              "  mark: 'line',\n",
              "  width: 700\n",
              "})"
            ],
            "text/html": [
              "<!DOCTYPE html>\n",
              "<html>\n",
              "<head>\n",
              "  <style>\n",
              "    .vega-actions a {\n",
              "        margin-right: 12px;\n",
              "        color: #757575;\n",
              "        font-weight: normal;\n",
              "        font-size: 13px;\n",
              "    }\n",
              "    .error {\n",
              "        color: red;\n",
              "    }\n",
              "  </style>\n",
              "  <script type=\"text/javascript\" src=\"https://cdn.jsdelivr.net/npm//vega@4\"></script>\n",
              "  <script type=\"text/javascript\" src=\"https://cdn.jsdelivr.net/npm//vega-lite@2.6.0\"></script>\n",
              "  <script type=\"text/javascript\" src=\"https://cdn.jsdelivr.net/npm//vega-embed@3\"></script>\n",
              "</head>\n",
              "<body>\n",
              "  <div id=\"altair-viz\"></div>\n",
              "  <script>\n",
              "      var spec = {\"config\": {\"view\": {\"width\": 400, \"height\": 300}}, \"data\": {\"name\": \"data-f1da5e2d665445e108618e2768d1890b\"}, \"mark\": \"line\", \"encoding\": {\"color\": {\"type\": \"nominal\", \"field\": \"subregion\"}, \"x\": {\"type\": \"quantitative\", \"field\": \"time\"}, \"y\": {\"type\": \"quantitative\", \"field\": \"Total Cell Phones\"}}, \"height\": 400, \"width\": 700, \"$schema\": \"https://vega.github.io/schema/vega-lite/v2.6.0.json\", \"datasets\": {\"data-f1da5e2d665445e108618e2768d1890b\": [{\"subregion\": \"america\", \"time\": 1960, \"Total Cell Phones\": 0.0}, {\"subregion\": \"america\", \"time\": 1965, \"Total Cell Phones\": 0.0}, {\"subregion\": \"america\", \"time\": 1970, \"Total Cell Phones\": 0.0}, {\"subregion\": \"america\", \"time\": 1975, \"Total Cell Phones\": 0.0}, {\"subregion\": \"america\", \"time\": 1976, \"Total Cell Phones\": 0.0}, {\"subregion\": \"america\", \"time\": 1977, \"Total Cell Phones\": 0.0}, {\"subregion\": \"america\", \"time\": 1978, \"Total Cell Phones\": 0.0}, {\"subregion\": \"america\", \"time\": 1979, \"Total Cell Phones\": 0.0}, {\"subregion\": \"america\", \"time\": 1980, \"Total Cell Phones\": 0.0}, {\"subregion\": \"america\", \"time\": 1981, \"Total Cell Phones\": 0.0}, {\"subregion\": \"america\", \"time\": 1982, \"Total Cell Phones\": 0.0}, {\"subregion\": \"america\", \"time\": 1983, \"Total Cell Phones\": 0.0}, {\"subregion\": \"america\", \"time\": 1984, \"Total Cell Phones\": 91600.0}, {\"subregion\": \"america\", \"time\": 1985, \"Total Cell Phones\": 352213.0}, {\"subregion\": \"america\", \"time\": 1986, \"Total Cell Phones\": 741825.0}, {\"subregion\": \"america\", \"time\": 1987, \"Total Cell Phones\": 1329219.0}, {\"subregion\": \"america\", \"time\": 1988, \"Total Cell Phones\": 2275374.0}, {\"subregion\": \"america\", \"time\": 1989, \"Total Cell Phones\": 3873493.0}, {\"subregion\": \"america\", \"time\": 1990, \"Total Cell Phones\": 5971938.0}, {\"subregion\": \"america\", \"time\": 1991, \"Total Cell Phones\": 8596660.0}, {\"subregion\": \"america\", \"time\": 1992, \"Total Cell Phones\": 12645878.0}, {\"subregion\": \"america\", \"time\": 1993, \"Total Cell Phones\": 18381755.0}, {\"subregion\": \"america\", \"time\": 1994, \"Total Cell Phones\": 28078581.0}, {\"subregion\": \"america\", \"time\": 1995, \"Total Cell Phones\": 40012288.0}, {\"subregion\": \"america\", \"time\": 1996, \"Total Cell Phones\": 53855611.0}, {\"subregion\": \"america\", \"time\": 1997, \"Total Cell Phones\": 71871234.0}, {\"subregion\": \"america\", \"time\": 1998, \"Total Cell Phones\": 95188204.0}, {\"subregion\": \"america\", \"time\": 1999, \"Total Cell Phones\": 132214308.0}, {\"subregion\": \"america\", \"time\": 2000, \"Total Cell Phones\": 180589877.0}, {\"subregion\": \"america\", \"time\": 2001, \"Total Cell Phones\": 222134187.0}, {\"subregion\": \"america\", \"time\": 2002, \"Total Cell Phones\": 253472311.0}, {\"subregion\": \"america\", \"time\": 2003, \"Total Cell Phones\": 298372549.0}, {\"subregion\": \"america\", \"time\": 2004, \"Total Cell Phones\": 372591862.0}, {\"subregion\": \"america\", \"time\": 2005, \"Total Cell Phones\": 459213948.0}, {\"subregion\": \"america\", \"time\": 2006, \"Total Cell Phones\": 552492134.0}, {\"subregion\": \"america\", \"time\": 2007, \"Total Cell Phones\": 649435098.0}, {\"subregion\": \"america\", \"time\": 2008, \"Total Cell Phones\": 741265767.0}, {\"subregion\": \"america\", \"time\": 2009, \"Total Cell Phones\": 809198654.0}, {\"subregion\": \"america\", \"time\": 2010, \"Total Cell Phones\": 880824449.0}, {\"subregion\": \"america\", \"time\": 2011, \"Total Cell Phones\": 952028587.0}, {\"subregion\": \"america\", \"time\": 2012, \"Total Cell Phones\": 994922481.0}, {\"subregion\": \"america\", \"time\": 2013, \"Total Cell Phones\": 1042981410.0}, {\"subregion\": \"america\", \"time\": 2014, \"Total Cell Phones\": 1092858867.0}, {\"subregion\": \"america\", \"time\": 2015, \"Total Cell Phones\": 1102600677.0}, {\"subregion\": \"america\", \"time\": 2016, \"Total Cell Phones\": 1113910455.0}, {\"subregion\": \"america\", \"time\": 2017, \"Total Cell Phones\": 1114911895.0}, {\"subregion\": \"east_asia_pacific\", \"time\": 1960, \"Total Cell Phones\": 0.0}, {\"subregion\": \"east_asia_pacific\", \"time\": 1965, \"Total Cell Phones\": 0.0}, {\"subregion\": \"east_asia_pacific\", \"time\": 1970, \"Total Cell Phones\": 0.0}, {\"subregion\": \"east_asia_pacific\", \"time\": 1975, \"Total Cell Phones\": 0.0}, {\"subregion\": \"east_asia_pacific\", \"time\": 1976, \"Total Cell Phones\": 0.0}, {\"subregion\": \"east_asia_pacific\", \"time\": 1977, \"Total Cell Phones\": 0.0}, {\"subregion\": \"east_asia_pacific\", \"time\": 1978, \"Total Cell Phones\": 0.0}, {\"subregion\": \"east_asia_pacific\", \"time\": 1979, \"Total Cell Phones\": 0.0}, {\"subregion\": \"east_asia_pacific\", \"time\": 1980, \"Total Cell Phones\": 0.0}, {\"subregion\": \"east_asia_pacific\", \"time\": 1981, \"Total Cell Phones\": 13275.0}, {\"subregion\": \"east_asia_pacific\", \"time\": 1982, \"Total Cell Phones\": 19804.0}, {\"subregion\": \"east_asia_pacific\", \"time\": 1983, \"Total Cell Phones\": 27198.0}, {\"subregion\": \"east_asia_pacific\", \"time\": 1984, \"Total Cell Phones\": 43142.0}, {\"subregion\": \"east_asia_pacific\", \"time\": 1985, \"Total Cell Phones\": 68229.0}, {\"subregion\": \"east_asia_pacific\", \"time\": 1986, \"Total Cell Phones\": 128390.0}, {\"subregion\": \"east_asia_pacific\", \"time\": 1987, \"Total Cell Phones\": 226225.0}, {\"subregion\": \"east_asia_pacific\", \"time\": 1988, \"Total Cell Phones\": 424070.0}, {\"subregion\": \"east_asia_pacific\", \"time\": 1989, \"Total Cell Phones\": 870281.0}, {\"subregion\": \"east_asia_pacific\", \"time\": 1990, \"Total Cell Phones\": 1560796.0}, {\"subregion\": \"east_asia_pacific\", \"time\": 1991, \"Total Cell Phones\": 2542793.0}, {\"subregion\": \"east_asia_pacific\", \"time\": 1992, \"Total Cell Phones\": 3659879.0}, {\"subregion\": \"east_asia_pacific\", \"time\": 1993, \"Total Cell Phones\": 5472518.0}, {\"subregion\": \"east_asia_pacific\", \"time\": 1994, \"Total Cell Phones\": 10641155.0}, {\"subregion\": \"east_asia_pacific\", \"time\": 1995, \"Total Cell Phones\": 23782601.0}, {\"subregion\": \"east_asia_pacific\", \"time\": 1996, \"Total Cell Phones\": 48257884.0}, {\"subregion\": \"east_asia_pacific\", \"time\": 1997, \"Total Cell Phones\": 73318483.0}, {\"subregion\": \"east_asia_pacific\", \"time\": 1998, \"Total Cell Phones\": 102517184.0}, {\"subregion\": \"east_asia_pacific\", \"time\": 1999, \"Total Cell Phones\": 148178380.0}, {\"subregion\": \"east_asia_pacific\", \"time\": 2000, \"Total Cell Phones\": 216725496.0}, {\"subregion\": \"east_asia_pacific\", \"time\": 2001, \"Total Cell Phones\": 306450767.0}, {\"subregion\": \"east_asia_pacific\", \"time\": 2002, \"Total Cell Phones\": 400755068.0}, {\"subregion\": \"east_asia_pacific\", \"time\": 2003, \"Total Cell Phones\": 495922143.0}, {\"subregion\": \"east_asia_pacific\", \"time\": 2004, \"Total Cell Phones\": 606474625.0}, {\"subregion\": \"east_asia_pacific\", \"time\": 2005, \"Total Cell Phones\": 707445309.0}, {\"subregion\": \"east_asia_pacific\", \"time\": 2006, \"Total Cell Phones\": 828612046.0}, {\"subregion\": \"east_asia_pacific\", \"time\": 2007, \"Total Cell Phones\": 1020266286.0}, {\"subregion\": \"east_asia_pacific\", \"time\": 2008, \"Total Cell Phones\": 1225644010.0}, {\"subregion\": \"east_asia_pacific\", \"time\": 2009, \"Total Cell Phones\": 1406849554.0}, {\"subregion\": \"east_asia_pacific\", \"time\": 2010, \"Total Cell Phones\": 1612737099.0}, {\"subregion\": \"east_asia_pacific\", \"time\": 2011, \"Total Cell Phones\": 1837781487.0}, {\"subregion\": \"east_asia_pacific\", \"time\": 2012, \"Total Cell Phones\": 2040125260.0}, {\"subregion\": \"east_asia_pacific\", \"time\": 2013, \"Total Cell Phones\": 2206175490.0}, {\"subregion\": \"east_asia_pacific\", \"time\": 2014, \"Total Cell Phones\": 2338310507.0}, {\"subregion\": \"east_asia_pacific\", \"time\": 2015, \"Total Cell Phones\": 2371120890.0}, {\"subregion\": \"east_asia_pacific\", \"time\": 2016, \"Total Cell Phones\": 2530118847.0}, {\"subregion\": \"east_asia_pacific\", \"time\": 2017, \"Total Cell Phones\": 2705407446.0}, {\"subregion\": \"europe_central_asia\", \"time\": 1960, \"Total Cell Phones\": 0.0}, {\"subregion\": \"europe_central_asia\", \"time\": 1965, \"Total Cell Phones\": 0.0}, {\"subregion\": \"europe_central_asia\", \"time\": 1970, \"Total Cell Phones\": 0.0}, {\"subregion\": \"europe_central_asia\", \"time\": 1975, \"Total Cell Phones\": 0.0}, {\"subregion\": \"europe_central_asia\", \"time\": 1976, \"Total Cell Phones\": 0.0}, {\"subregion\": \"europe_central_asia\", \"time\": 1977, \"Total Cell Phones\": 0.0}, {\"subregion\": \"europe_central_asia\", \"time\": 1978, \"Total Cell Phones\": 0.0}, {\"subregion\": \"europe_central_asia\", \"time\": 1979, \"Total Cell Phones\": 0.0}, {\"subregion\": \"europe_central_asia\", \"time\": 1980, \"Total Cell Phones\": 23482.0}, {\"subregion\": \"europe_central_asia\", \"time\": 1981, \"Total Cell Phones\": 50310.0}, {\"subregion\": \"europe_central_asia\", \"time\": 1982, \"Total Cell Phones\": 79375.0}, {\"subregion\": \"europe_central_asia\", \"time\": 1983, \"Total Cell Phones\": 118093.0}, {\"subregion\": \"europe_central_asia\", \"time\": 1984, \"Total Cell Phones\": 179574.0}, {\"subregion\": \"europe_central_asia\", \"time\": 1985, \"Total Cell Phones\": 322211.0}, {\"subregion\": \"europe_central_asia\", \"time\": 1986, \"Total Cell Phones\": 559165.0}, {\"subregion\": \"europe_central_asia\", \"time\": 1987, \"Total Cell Phones\": 952116.0}, {\"subregion\": \"europe_central_asia\", \"time\": 1988, \"Total Cell Phones\": 1580365.0}, {\"subregion\": \"europe_central_asia\", \"time\": 1989, \"Total Cell Phones\": 2495466.0}, {\"subregion\": \"europe_central_asia\", \"time\": 1990, \"Total Cell Phones\": 3455438.0}, {\"subregion\": \"europe_central_asia\", \"time\": 1991, \"Total Cell Phones\": 4724901.0}, {\"subregion\": \"europe_central_asia\", \"time\": 1992, \"Total Cell Phones\": 6255086.0}, {\"subregion\": \"europe_central_asia\", \"time\": 1993, \"Total Cell Phones\": 9296125.0}, {\"subregion\": \"europe_central_asia\", \"time\": 1994, \"Total Cell Phones\": 15161624.0}, {\"subregion\": \"europe_central_asia\", \"time\": 1995, \"Total Cell Phones\": 24092361.0}, {\"subregion\": \"europe_central_asia\", \"time\": 1996, \"Total Cell Phones\": 37971196.0}, {\"subregion\": \"europe_central_asia\", \"time\": 1997, \"Total Cell Phones\": 61017195.0}, {\"subregion\": \"europe_central_asia\", \"time\": 1998, \"Total Cell Phones\": 104331980.0}, {\"subregion\": \"europe_central_asia\", \"time\": 1999, \"Total Cell Phones\": 181461446.0}, {\"subregion\": \"europe_central_asia\", \"time\": 2000, \"Total Cell Phones\": 290940699.0}, {\"subregion\": \"europe_central_asia\", \"time\": 2001, \"Total Cell Phones\": 358909917.0}, {\"subregion\": \"europe_central_asia\", \"time\": 2002, \"Total Cell Phones\": 408066175.0}, {\"subregion\": \"europe_central_asia\", \"time\": 2003, \"Total Cell Phones\": 473318776.0}, {\"subregion\": \"europe_central_asia\", \"time\": 2004, \"Total Cell Phones\": 576537111.0}, {\"subregion\": \"europe_central_asia\", \"time\": 2005, \"Total Cell Phones\": 707910351.0}, {\"subregion\": \"europe_central_asia\", \"time\": 2006, \"Total Cell Phones\": 828931247.0}, {\"subregion\": \"europe_central_asia\", \"time\": 2007, \"Total Cell Phones\": 935238917.0}, {\"subregion\": \"europe_central_asia\", \"time\": 2008, \"Total Cell Phones\": 1015682598.0}, {\"subregion\": \"europe_central_asia\", \"time\": 2009, \"Total Cell Phones\": 1058477957.0}, {\"subregion\": \"europe_central_asia\", \"time\": 2010, \"Total Cell Phones\": 1069816292.0}, {\"subregion\": \"europe_central_asia\", \"time\": 2011, \"Total Cell Phones\": 1073458809.0}, {\"subregion\": \"europe_central_asia\", \"time\": 2012, \"Total Cell Phones\": 1096695400.0}, {\"subregion\": \"europe_central_asia\", \"time\": 2013, \"Total Cell Phones\": 1123185000.0}, {\"subregion\": \"europe_central_asia\", \"time\": 2014, \"Total Cell Phones\": 1123054962.0}, {\"subregion\": \"europe_central_asia\", \"time\": 2015, \"Total Cell Phones\": 1125200052.008}, {\"subregion\": \"europe_central_asia\", \"time\": 2016, \"Total Cell Phones\": 1131377390.0}, {\"subregion\": \"europe_central_asia\", \"time\": 2017, \"Total Cell Phones\": 1114743494.0}, {\"subregion\": \"middle_east_north_africa\", \"time\": 1960, \"Total Cell Phones\": 0.0}, {\"subregion\": \"middle_east_north_africa\", \"time\": 1965, \"Total Cell Phones\": 0.0}, {\"subregion\": \"middle_east_north_africa\", \"time\": 1970, \"Total Cell Phones\": 0.0}, {\"subregion\": \"middle_east_north_africa\", \"time\": 1975, \"Total Cell Phones\": 0.0}, {\"subregion\": \"middle_east_north_africa\", \"time\": 1976, \"Total Cell Phones\": 0.0}, {\"subregion\": \"middle_east_north_africa\", \"time\": 1977, \"Total Cell Phones\": 0.0}, {\"subregion\": \"middle_east_north_africa\", \"time\": 1978, \"Total Cell Phones\": 0.0}, {\"subregion\": \"middle_east_north_africa\", \"time\": 1979, \"Total Cell Phones\": 0.0}, {\"subregion\": \"middle_east_north_africa\", \"time\": 1980, \"Total Cell Phones\": 0.0}, {\"subregion\": \"middle_east_north_africa\", \"time\": 1981, \"Total Cell Phones\": 0.0}, {\"subregion\": \"middle_east_north_africa\", \"time\": 1982, \"Total Cell Phones\": 2330.0}, {\"subregion\": \"middle_east_north_africa\", \"time\": 1983, \"Total Cell Phones\": 3564.0}, {\"subregion\": \"middle_east_north_africa\", \"time\": 1984, \"Total Cell Phones\": 4936.0}, {\"subregion\": \"middle_east_north_africa\", \"time\": 1985, \"Total Cell Phones\": 7976.0}, {\"subregion\": \"middle_east_north_africa\", \"time\": 1986, \"Total Cell Phones\": 20756.0}, {\"subregion\": \"middle_east_north_africa\", \"time\": 1987, \"Total Cell Phones\": 33793.0}, {\"subregion\": \"middle_east_north_africa\", \"time\": 1988, \"Total Cell Phones\": 39447.0}, {\"subregion\": \"middle_east_north_africa\", \"time\": 1989, \"Total Cell Phones\": 58750.0}, {\"subregion\": \"middle_east_north_africa\", \"time\": 1990, \"Total Cell Phones\": 103858.0}, {\"subregion\": \"middle_east_north_africa\", \"time\": 1991, \"Total Cell Phones\": 152904.0}, {\"subregion\": \"middle_east_north_africa\", \"time\": 1992, \"Total Cell Phones\": 188385.0}, {\"subregion\": \"middle_east_north_africa\", \"time\": 1993, \"Total Cell Phones\": 263834.0}, {\"subregion\": \"middle_east_north_africa\", \"time\": 1994, \"Total Cell Phones\": 406026.0}, {\"subregion\": \"middle_east_north_africa\", \"time\": 1995, \"Total Cell Phones\": 962909.0}, {\"subregion\": \"middle_east_north_africa\", \"time\": 1996, \"Total Cell Phones\": 2026578.0}, {\"subregion\": \"middle_east_north_africa\", \"time\": 1997, \"Total Cell Phones\": 3524135.0}, {\"subregion\": \"middle_east_north_africa\", \"time\": 1998, \"Total Cell Phones\": 5051916.0}, {\"subregion\": \"middle_east_north_africa\", \"time\": 1999, \"Total Cell Phones\": 7462986.0}, {\"subregion\": \"middle_east_north_africa\", \"time\": 2000, \"Total Cell Phones\": 14279536.0}, {\"subregion\": \"middle_east_north_africa\", \"time\": 2001, \"Total Cell Phones\": 23968259.0}, {\"subregion\": \"middle_east_north_africa\", \"time\": 2002, \"Total Cell Phones\": 33316798.0}, {\"subregion\": \"middle_east_north_africa\", \"time\": 2003, \"Total Cell Phones\": 44109325.0}, {\"subregion\": \"middle_east_north_africa\", \"time\": 2004, \"Total Cell Phones\": 62351170.0}, {\"subregion\": \"middle_east_north_africa\", \"time\": 2005, \"Total Cell Phones\": 98032956.0}, {\"subregion\": \"middle_east_north_africa\", \"time\": 2006, \"Total Cell Phones\": 143417850.0}, {\"subregion\": \"middle_east_north_africa\", \"time\": 2007, \"Total Cell Phones\": 202865976.0}, {\"subregion\": \"middle_east_north_africa\", \"time\": 2008, \"Total Cell Phones\": 251242347.0}, {\"subregion\": \"middle_east_north_africa\", \"time\": 2009, \"Total Cell Phones\": 308562084.0}, {\"subregion\": \"middle_east_north_africa\", \"time\": 2010, \"Total Cell Phones\": 353727805.0}, {\"subregion\": \"middle_east_north_africa\", \"time\": 2011, \"Total Cell Phones\": 386813584.0}, {\"subregion\": \"middle_east_north_africa\", \"time\": 2012, \"Total Cell Phones\": 414756813.0}, {\"subregion\": \"middle_east_north_africa\", \"time\": 2013, \"Total Cell Phones\": 445274154.0}, {\"subregion\": \"middle_east_north_africa\", \"time\": 2014, \"Total Cell Phones\": 455987642.0}, {\"subregion\": \"middle_east_north_africa\", \"time\": 2015, \"Total Cell Phones\": 464140594.0}, {\"subregion\": \"middle_east_north_africa\", \"time\": 2016, \"Total Cell Phones\": 468120544.55}, {\"subregion\": \"middle_east_north_africa\", \"time\": 2017, \"Total Cell Phones\": 440617737.0}, {\"subregion\": \"south_asia\", \"time\": 1960, \"Total Cell Phones\": 0.0}, {\"subregion\": \"south_asia\", \"time\": 1965, \"Total Cell Phones\": 0.0}, {\"subregion\": \"south_asia\", \"time\": 1970, \"Total Cell Phones\": 0.0}, {\"subregion\": \"south_asia\", \"time\": 1975, \"Total Cell Phones\": 0.0}, {\"subregion\": \"south_asia\", \"time\": 1976, \"Total Cell Phones\": 0.0}, {\"subregion\": \"south_asia\", \"time\": 1977, \"Total Cell Phones\": 0.0}, {\"subregion\": \"south_asia\", \"time\": 1978, \"Total Cell Phones\": 0.0}, {\"subregion\": \"south_asia\", \"time\": 1979, \"Total Cell Phones\": 0.0}, {\"subregion\": \"south_asia\", \"time\": 1980, \"Total Cell Phones\": 0.0}, {\"subregion\": \"south_asia\", \"time\": 1981, \"Total Cell Phones\": 0.0}, {\"subregion\": \"south_asia\", \"time\": 1982, \"Total Cell Phones\": 0.0}, {\"subregion\": \"south_asia\", \"time\": 1983, \"Total Cell Phones\": 0.0}, {\"subregion\": \"south_asia\", \"time\": 1984, \"Total Cell Phones\": 0.0}, {\"subregion\": \"south_asia\", \"time\": 1985, \"Total Cell Phones\": 0.0}, {\"subregion\": \"south_asia\", \"time\": 1986, \"Total Cell Phones\": 0.0}, {\"subregion\": \"south_asia\", \"time\": 1987, \"Total Cell Phones\": 0.0}, {\"subregion\": \"south_asia\", \"time\": 1988, \"Total Cell Phones\": 0.0}, {\"subregion\": \"south_asia\", \"time\": 1989, \"Total Cell Phones\": 0.0}, {\"subregion\": \"south_asia\", \"time\": 1990, \"Total Cell Phones\": 3010.0}, {\"subregion\": \"south_asia\", \"time\": 1991, \"Total Cell Phones\": 10300.0}, {\"subregion\": \"south_asia\", \"time\": 1992, \"Total Cell Phones\": 16394.0}, {\"subregion\": \"south_asia\", \"time\": 1993, \"Total Cell Phones\": 31187.0}, {\"subregion\": \"south_asia\", \"time\": 1994, \"Total Cell Phones\": 54948.0}, {\"subregion\": \"south_asia\", \"time\": 1995, \"Total Cell Phones\": 171460.0}, {\"subregion\": \"south_asia\", \"time\": 1996, \"Total Cell Phones\": 471054.0}, {\"subregion\": \"south_asia\", \"time\": 1997, \"Total Cell Phones\": 1159044.0}, {\"subregion\": \"south_asia\", \"time\": 1998, \"Total Cell Phones\": 1642304.0}, {\"subregion\": \"south_asia\", \"time\": 1999, \"Total Cell Phones\": 2564006.0}, {\"subregion\": \"south_asia\", \"time\": 2000, \"Total Cell Phones\": 4610654.0}, {\"subregion\": \"south_asia\", \"time\": 2001, \"Total Cell Phones\": 8506448.0}, {\"subregion\": \"south_asia\", \"time\": 2002, \"Total Cell Phones\": 16793719.0}, {\"subregion\": \"south_asia\", \"time\": 2003, \"Total Cell Phones\": 39203391.0}, {\"subregion\": \"south_asia\", \"time\": 2004, \"Total Cell Phones\": 63084788.0}, {\"subregion\": \"south_asia\", \"time\": 2005, \"Total Cell Phones\": 116939914.0}, {\"subregion\": \"south_asia\", \"time\": 2006, \"Total Cell Phones\": 229130635.0}, {\"subregion\": \"south_asia\", \"time\": 2007, \"Total Cell Phones\": 347230170.0}, {\"subregion\": \"south_asia\", \"time\": 2008, \"Total Cell Phones\": 503420161.0}, {\"subregion\": \"south_asia\", \"time\": 2009, \"Total Cell Phones\": 703991350.0}, {\"subregion\": \"south_asia\", \"time\": 2010, \"Total Cell Phones\": 956959112.0}, {\"subregion\": \"south_asia\", \"time\": 2011, \"Total Cell Phones\": 1133612137.0}, {\"subregion\": \"south_asia\", \"time\": 2012, \"Total Cell Phones\": 1134455172.0}, {\"subregion\": \"south_asia\", \"time\": 2013, \"Total Cell Phones\": 1190248700.0}, {\"subregion\": \"south_asia\", \"time\": 2014, \"Total Cell Phones\": 1271478661.0}, {\"subregion\": \"south_asia\", \"time\": 2015, \"Total Cell Phones\": 1330871634.0}, {\"subregion\": \"south_asia\", \"time\": 2016, \"Total Cell Phones\": 1481310847.0}, {\"subregion\": \"south_asia\", \"time\": 2017, \"Total Cell Phones\": 1548397518.0}, {\"subregion\": \"sub_saharan_africa\", \"time\": 1960, \"Total Cell Phones\": 0.0}, {\"subregion\": \"sub_saharan_africa\", \"time\": 1965, \"Total Cell Phones\": 0.0}, {\"subregion\": \"sub_saharan_africa\", \"time\": 1970, \"Total Cell Phones\": 0.0}, {\"subregion\": \"sub_saharan_africa\", \"time\": 1975, \"Total Cell Phones\": 0.0}, {\"subregion\": \"sub_saharan_africa\", \"time\": 1976, \"Total Cell Phones\": 0.0}, {\"subregion\": \"sub_saharan_africa\", \"time\": 1977, \"Total Cell Phones\": 0.0}, {\"subregion\": \"sub_saharan_africa\", \"time\": 1978, \"Total Cell Phones\": 0.0}, {\"subregion\": \"sub_saharan_africa\", \"time\": 1979, \"Total Cell Phones\": 0.0}, {\"subregion\": \"sub_saharan_africa\", \"time\": 1980, \"Total Cell Phones\": 0.0}, {\"subregion\": \"sub_saharan_africa\", \"time\": 1981, \"Total Cell Phones\": 0.0}, {\"subregion\": \"sub_saharan_africa\", \"time\": 1982, \"Total Cell Phones\": 0.0}, {\"subregion\": \"sub_saharan_africa\", \"time\": 1983, \"Total Cell Phones\": 0.0}, {\"subregion\": \"sub_saharan_africa\", \"time\": 1984, \"Total Cell Phones\": 0.0}, {\"subregion\": \"sub_saharan_africa\", \"time\": 1985, \"Total Cell Phones\": 0.0}, {\"subregion\": \"sub_saharan_africa\", \"time\": 1986, \"Total Cell Phones\": 0.0}, {\"subregion\": \"sub_saharan_africa\", \"time\": 1987, \"Total Cell Phones\": 0.0}, {\"subregion\": \"sub_saharan_africa\", \"time\": 1988, \"Total Cell Phones\": 0.0}, {\"subregion\": \"sub_saharan_africa\", \"time\": 1989, \"Total Cell Phones\": 3980.0}, {\"subregion\": \"sub_saharan_africa\", \"time\": 1990, \"Total Cell Phones\": 7880.0}, {\"subregion\": \"sub_saharan_africa\", \"time\": 1991, \"Total Cell Phones\": 9600.0}, {\"subregion\": \"sub_saharan_africa\", \"time\": 1992, \"Total Cell Phones\": 17406.0}, {\"subregion\": \"sub_saharan_africa\", \"time\": 1993, \"Total Cell Phones\": 59142.0}, {\"subregion\": \"sub_saharan_africa\", \"time\": 1994, \"Total Cell Phones\": 372608.0}, {\"subregion\": \"sub_saharan_africa\", \"time\": 1995, \"Total Cell Phones\": 601706.0}, {\"subregion\": \"sub_saharan_africa\", \"time\": 1996, \"Total Cell Phones\": 1083260.0}, {\"subregion\": \"sub_saharan_africa\", \"time\": 1997, \"Total Cell Phones\": 2087517.0}, {\"subregion\": \"sub_saharan_africa\", \"time\": 1998, \"Total Cell Phones\": 3872303.0}, {\"subregion\": \"sub_saharan_africa\", \"time\": 1999, \"Total Cell Phones\": 6466858.0}, {\"subregion\": \"sub_saharan_africa\", \"time\": 2000, \"Total Cell Phones\": 11445272.0}, {\"subregion\": \"sub_saharan_africa\", \"time\": 2001, \"Total Cell Phones\": 17046727.0}, {\"subregion\": \"sub_saharan_africa\", \"time\": 2002, \"Total Cell Phones\": 25098099.0}, {\"subregion\": \"sub_saharan_africa\", \"time\": 2003, \"Total Cell Phones\": 35687622.0}, {\"subregion\": \"sub_saharan_africa\", \"time\": 2004, \"Total Cell Phones\": 54212996.0}, {\"subregion\": \"sub_saharan_africa\", \"time\": 2005, \"Total Cell Phones\": 90368334.0}, {\"subregion\": \"sub_saharan_africa\", \"time\": 2006, \"Total Cell Phones\": 135233899.0}, {\"subregion\": \"sub_saharan_africa\", \"time\": 2007, \"Total Cell Phones\": 184823777.0}, {\"subregion\": \"sub_saharan_africa\", \"time\": 2008, \"Total Cell Phones\": 261134046.0}, {\"subregion\": \"sub_saharan_africa\", \"time\": 2009, \"Total Cell Phones\": 316759711.0}, {\"subregion\": \"sub_saharan_africa\", \"time\": 2010, \"Total Cell Phones\": 387953418.0}, {\"subregion\": \"sub_saharan_africa\", \"time\": 2011, \"Total Cell Phones\": 471725434.0}, {\"subregion\": \"sub_saharan_africa\", \"time\": 2012, \"Total Cell Phones\": 544447403.0}, {\"subregion\": \"sub_saharan_africa\", \"time\": 2013, \"Total Cell Phones\": 618078177.0}, {\"subregion\": \"sub_saharan_africa\", \"time\": 2014, \"Total Cell Phones\": 680980483.0}, {\"subregion\": \"sub_saharan_africa\", \"time\": 2015, \"Total Cell Phones\": 751999700.0}, {\"subregion\": \"sub_saharan_africa\", \"time\": 2016, \"Total Cell Phones\": 752087695.0}, {\"subregion\": \"sub_saharan_africa\", \"time\": 2017, \"Total Cell Phones\": 726950742.0}]}};\n",
              "      var embedOpt = {\"mode\": \"vega-lite\"};\n",
              "\n",
              "      function showError(el, error){\n",
              "          el.innerHTML = ('<div class=\"error\" style=\"color:red;\">'\n",
              "                          + '<p>JavaScript Error: ' + error.message + '</p>'\n",
              "                          + \"<p>This usually means there's a typo in your chart specification. \"\n",
              "                          + \"See the javascript console for the full traceback.</p>\"\n",
              "                          + '</div>');\n",
              "          throw error;\n",
              "      }\n",
              "      const el = document.getElementById('altair-viz');\n",
              "      vegaEmbed(\"#altair-viz\", spec, embedOpt)\n",
              "        .catch(error => showError(el, error));\n",
              "\n",
              "  </script>\n",
              "</body>\n",
              "</html>"
            ]
          },
          "metadata": {
            "tags": []
          },
          "execution_count": 382
        }
      ]
    },
    {
      "metadata": {
        "id": "_pcIoVWcgsq1",
        "colab_type": "code",
        "colab": {}
      },
      "cell_type": "code",
      "source": [
        ""
      ],
      "execution_count": 0,
      "outputs": []
    }
  ]
}