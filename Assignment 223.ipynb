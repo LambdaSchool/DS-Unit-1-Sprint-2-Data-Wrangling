{
 "cells": [
  {
   "cell_type": "markdown",
   "metadata": {
    "colab_type": "text",
    "id": "-8-trVo__vRE"
   },
   "source": [
    "_Lambda School Data Science_\n",
    "\n",
    "# Make Explanatory Visualizations\n",
    "\n",
    "### Objectives\n",
    "\n",
    "- identify misleading visualizations and how to fix them\n",
    "- use Seaborn to visualize distributions and relationships with continuous and discrete variables\n",
    "- add emphasis and annotations to transform visualizations from exploratory to explanatory\n",
    "- remove clutter from visualizations\n",
    "\n",
    "### Links\n",
    "\n",
    "- [How to Spot Visualization Lies](https://flowingdata.com/2017/02/09/how-to-spot-visualization-lies/)\n",
    "- [Visual Vocabulary - Vega Edition](http://ft.com/vocabulary)\n",
    "- [Choosing a Python Visualization Tool flowchart](http://pbpython.com/python-vis-flowchart.html)\n",
    "- [Searborn example gallery](http://seaborn.pydata.org/examples/index.html) & [tutorial](http://seaborn.pydata.org/tutorial.html)\n",
    "- [Strong Titles Are The Biggest Bang for Your Buck](http://stephanieevergreen.com/strong-titles/)\n",
    "- [Remove to improve (the data-ink ratio)](https://www.darkhorseanalytics.com/blog/data-looks-better-naked)\n",
    "- [How to Generate FiveThirtyEight Graphs in Python](https://www.dataquest.io/blog/making-538-plots/)"
   ]
  },
  {
   "cell_type": "markdown",
   "metadata": {
    "colab_type": "text",
    "id": "s-24T844-8qv"
   },
   "source": [
    "# Avoid Misleading Visualizations\n",
    "\n",
    "Did you find/discuss any interesting misleading visualizations in your Walkie Talkie?"
   ]
  },
  {
   "cell_type": "markdown",
   "metadata": {
    "colab_type": "text",
    "id": "Qzxt9ntsNjs0"
   },
   "source": [
    "## What makes a visualization misleading?\n",
    "\n",
    "[5 Ways Writers Use Misleading Graphs To Manipulate You](https://venngage.com/blog/misleading-graphs/)"
   ]
  },
  {
   "cell_type": "markdown",
   "metadata": {
    "colab_type": "text",
    "id": "q7_DUiENNvxk"
   },
   "source": [
    "## Two y-axes\n",
    "\n",
    "<img src=\"https://kieranhealy.org/files/misc/two-y-by-four-sm.jpg\" width=\"800\">\n",
    " \n",
    " Other Examples: \n",
    " - [Spurious Correlations](https://tylervigen.com/spurious-correlations)\n",
    " - <https://blog.datawrapper.de/dualaxis/>\n",
    " - <https://kieranhealy.org/blog/archives/2016/01/16/two-y-axes/>\n",
    " - <http://www.storytellingwithdata.com/blog/2016/2/1/be-gone-dual-y-axis>"
   ]
  },
  {
   "cell_type": "markdown",
   "metadata": {
    "colab_type": "text",
    "id": "oIijNBDMNv2k"
   },
   "source": [
    "##  Y-axis doesn't start at zero.\n",
    "\n",
    "<img src=\"https://i.pinimg.com/originals/22/53/a9/2253a944f54bb61f1983bc076ff33cdd.jpg\" width=\"600\">"
   ]
  },
  {
   "cell_type": "markdown",
   "metadata": {
    "colab_type": "text",
    "id": "ISB2p8vZNv6r"
   },
   "source": [
    "## Pie Charts are bad\n",
    "\n",
    "<img src=\"https://i1.wp.com/flowingdata.com/wp-content/uploads/2009/11/Fox-News-pie-chart.png?fit=620%2C465&ssl=1\" width=\"600\">"
   ]
  },
  {
   "cell_type": "markdown",
   "metadata": {
    "colab_type": "text",
    "id": "67CsAzu1NwBJ"
   },
   "source": [
    "## Pie charts that omit data are extra bad\n",
    " \n",
    "- A guy makes a misleading chart that goes viral\n",
    "\n",
    " What does this chart imply at first glance? You don't want your user to have to do a lot of work in order to be able to interpret you graph correctly. You want that first-glance conclusions to be the correct ones.\n",
    "\n",
    " <img src=\"https://pbs.twimg.com/media/DiaiTLHWsAYAEEX?format=jpg&name=medium\" width='600'>\n",
    " \n",
    " <https://twitter.com/michaelbatnick/status/1019680856837849090?lang=en>\n",
    " \n",
    "- It gets picked up by overworked journalists (assuming incompetency before malice)\n",
    " \n",
    " <https://www.marketwatch.com/story/this-1-chart-puts-mega-techs-trillions-of-market-value-into-eye-popping-perspective-2018-07-18>\n",
    " \n",
    "- Even after the chart's implications have been refuted, it's hard a bad (although compelling) visualization from being passed around.\n",
    "\n",
    " <https://www.linkedin.com/pulse/good-bad-pie-charts-karthik-shashidhar/>\n",
    "\n",
    "**[\"yea I understand a pie chart was probably not the best choice to present this data.\"](https://twitter.com/michaelbatnick/status/1037036440494985216)**"
   ]
  },
  {
   "cell_type": "markdown",
   "metadata": {
    "colab_type": "text",
    "id": "FYXmlToEOOTC"
   },
   "source": [
    "## Pie Charts that compare unrelated things are next-level extra bad\n",
    "\n",
    "<img src=\"http://www.painting-with-numbers.com/download/document/186/170403+Legalizing+Marijuana+Graph.jpg\" width=\"600\">\n"
   ]
  },
  {
   "cell_type": "markdown",
   "metadata": {
    "colab_type": "text",
    "id": "IwtMQpY_QFUw"
   },
   "source": [
    "## Be careful about how you use volume to represent quantities:\n",
    "\n",
    "radius vs diameter vs volume\n",
    "\n",
    "<img src=\"https://static1.squarespace.com/static/5bfc8dbab40b9d7dd9054f41/t/5c32d86e0ebbe80a25873249/1546836082961/5474039-25383714-thumbnail.jpg?format=1500w\" width=\"600\">"
   ]
  },
  {
   "cell_type": "markdown",
   "metadata": {
    "colab_type": "text",
    "id": "tTuAWjSBRsc7"
   },
   "source": [
    "## Don't cherrypick timelines or specific subsets of your data:\n",
    "\n",
    "<img src=\"https://wattsupwiththat.com/wp-content/uploads/2019/02/Figure-1-1.png\" width=\"600\">\n",
    "\n",
    "Look how specifically the writer has selected what years to show in the legend on the right side.\n",
    "\n",
    "<https://wattsupwiththat.com/2019/02/24/strong-arctic-sea-ice-growth-this-year/>\n",
    "\n",
    "Try the tool that was used to make the graphic for yourself\n",
    "\n",
    "<http://nsidc.org/arcticseaicenews/charctic-interactive-sea-ice-graph/>\n",
    "                                                                                           "
   ]
  },
  {
   "cell_type": "markdown",
   "metadata": {
    "colab_type": "text",
    "id": "Xs13S7p4Srme"
   },
   "source": [
    "## Use Relative units rather than Absolute Units\n",
    "\n",
    "<img src=\"https://imgs.xkcd.com/comics/heatmap_2x.png\" width=\"600\">"
   ]
  },
  {
   "cell_type": "markdown",
   "metadata": {
    "colab_type": "text",
    "id": "CIMt5OiuTlrr"
   },
   "source": [
    "## Avoid 3D graphs unless having the extra dimension is effective\n",
    "\n",
    "Usually you can Split 3D graphs into multiple 2D graphs\n",
    "\n",
    "3D graphs that are interactive can be very cool. (See Plotly and Bokeh)\n",
    "\n",
    "<img src=\"https://thumbor.forbes.com/thumbor/1280x868/https%3A%2F%2Fblogs-images.forbes.com%2Fthumbnails%2Fblog_1855%2Fpt_1855_811_o.jpg%3Ft%3D1339592470\" width=\"600\">"
   ]
  },
  {
   "cell_type": "markdown",
   "metadata": {
    "colab_type": "text",
    "id": "GATMu9IqUlIj"
   },
   "source": [
    "## Don't go against typical conventions\n",
    "\n",
    "<img src=\"http://www.callingbullshit.org/twittercards/tools_misleading_axes.png\" width=\"600\">"
   ]
  },
  {
   "cell_type": "markdown",
   "metadata": {
    "colab_type": "text",
    "id": "g6bKgZ0m_ynS"
   },
   "source": [
    "# Tips for choosing an appropriate visualization:"
   ]
  },
  {
   "cell_type": "markdown",
   "metadata": {
    "colab_type": "text",
    "id": "WtBsVnO4VHiJ"
   },
   "source": [
    "## Use Appropriate \"Visual Vocabulary\"\n",
    "\n",
    "[Visual Vocabulary - Vega Edition](http://ft.com/vocabulary)"
   ]
  },
  {
   "cell_type": "markdown",
   "metadata": {
    "colab_type": "text",
    "id": "H_QM9FHqVT7T"
   },
   "source": [
    "## What are the properties of your data?\n",
    "- Is your primary variable of interest continuous or discrete?\n",
    "- Is in wide or long (tidy) format?\n",
    "- Does your visualization involve multiple variables?\n",
    "- How many dimensions do you need to include on your plot?\n",
    "\n",
    "Can you express the main idea of your visualization in a single sentence?\n",
    "\n",
    "How hard does your visualization make the user work in order to draw the intended conclusion?"
   ]
  },
  {
   "cell_type": "markdown",
   "metadata": {
    "colab_type": "text",
    "id": "5EqXxnJeB89_"
   },
   "source": [
    "## Which Visualization tool is most appropriate? \n",
    "\n",
    "[Choosing a Python Visualization Tool flowchart](http://pbpython.com/python-vis-flowchart.html)"
   ]
  },
  {
   "cell_type": "markdown",
   "metadata": {
    "colab_type": "text",
    "id": "5_na7Oy3NGKA"
   },
   "source": [
    "# Making Explanatory Visualizations with Seaborn"
   ]
  },
  {
   "cell_type": "markdown",
   "metadata": {
    "colab_type": "text",
    "id": "ORUwQD6F-VYg"
   },
   "source": [
    "Today we will reproduce this [example by FiveThirtyEight:](https://fivethirtyeight.com/features/al-gores-new-movie-exposes-the-big-flaw-in-online-movie-ratings/)\n",
    "\n"
   ]
  },
  {
   "cell_type": "code",
   "execution_count": null,
   "metadata": {
    "colab": {
     "base_uri": "https://localhost:8080/",
     "height": 355
    },
    "colab_type": "code",
    "id": "ya_w5WORGs-n",
    "outputId": "0dbf77af-aa69-4d25-cdb7-bf0e7f8058ad"
   },
   "outputs": [],
   "source": [
    "from IPython.display import display, Image\n",
    "\n",
    "url = 'https://fivethirtyeight.com/wp-content/uploads/2017/09/mehtahickey-inconvenient-0830-1.png'\n",
    "example = Image(url=url, width=400)\n",
    "\n",
    "display(example)"
   ]
  },
  {
   "cell_type": "markdown",
   "metadata": {
    "colab_type": "text",
    "id": "HP4DALiRG3sC"
   },
   "source": [
    "Using this data: https://github.com/fivethirtyeight/data/tree/master/inconvenient-sequel"
   ]
  },
  {
   "cell_type": "markdown",
   "metadata": {
    "colab_type": "text",
    "id": "HioPkYtUG03B"
   },
   "source": [
    "Links\n",
    "- [Strong Titles Are The Biggest Bang for Your Buck](http://stephanieevergreen.com/strong-titles/)\n",
    "- [Remove to improve (the data-ink ratio)](https://www.darkhorseanalytics.com/blog/data-looks-better-naked)\n",
    "- [How to Generate FiveThirtyEight Graphs in Python](https://www.dataquest.io/blog/making-538-plots/)"
   ]
  },
  {
   "cell_type": "markdown",
   "metadata": {
    "colab_type": "text",
    "id": "0w_iMnQ6-VoQ"
   },
   "source": [
    "## Make prototypes\n",
    "\n",
    "This  helps us understand the problem"
   ]
  },
  {
   "cell_type": "code",
   "execution_count": 15,
   "metadata": {
    "colab": {},
    "colab_type": "code",
    "id": "5uz0eEaEN-GO"
   },
   "outputs": [
    {
     "data": {
      "image/png": "[encoded data removed]",
      "text/plain": [
       "<Figure size 432x288 with 1 Axes>"
      ]
     },
     "metadata": {},
     "output_type": "display_data"
    }
   ],
   "source": [
    "%matplotlib inline\n",
    "import matplotlib.pyplot as plt\n",
    "import numpy as np\n",
    "import pandas as pd\n",
    "\n",
    "\n",
    "plt.style.use('fivethirtyeight')\n",
    "\n",
    "fake = pd.Series([38, 3, 2, 1, 2, 4, 6, 5, 5, 33], \n",
    "                 index=range(1,11))\n",
    "\n",
    "fake.plot.bar(color='C1', width=0.9);"
   ]
  },
  {
   "cell_type": "code",
   "execution_count": 16,
   "metadata": {
    "colab": {},
    "colab_type": "code",
    "id": "KZ0VLOV8OyRr"
   },
   "outputs": [
    {
     "data": {
      "image/png": "[encoded data removed]",
      "text/plain": [
       "<Figure size 432x288 with 1 Axes>"
      ]
     },
     "metadata": {},
     "output_type": "display_data"
    }
   ],
   "source": [
    "fake2 = pd.Series(\n",
    "    [1, 1, 1, 1, 1, 1, 1, 1, 1, 1, 1, 1, 1, 1, 1, 1, 1, 1, 1, 1, 1, 1, 1, 1,\n",
    "     2, 2, 2, \n",
    "     3, 3, 3,\n",
    "     4, 4,\n",
    "     5, 5, 5,\n",
    "     6, 6, 6, 6,\n",
    "     7, 7, 7, 7, 7,\n",
    "     8, 8, 8, 8,\n",
    "     9, 9, 9, 9, \n",
    "     10, 10, 10, 10, 10, 10, 10, 10, 10, 10, 10, 10, 10, 10, 10, 10, 10, 10])\n",
    "\n",
    "fake2.value_counts().sort_index().plot.bar(color='C1', width=0.9);"
   ]
  },
  {
   "cell_type": "markdown",
   "metadata": {
    "colab_type": "text",
    "id": "mZb3UZWO-q05"
   },
   "source": [
    "## Annotate with text"
   ]
  },
  {
   "cell_type": "code",
   "execution_count": 22,
   "metadata": {},
   "outputs": [
    {
     "name": "stdout",
     "output_type": "stream",
     "text": [
      "['seaborn-dark', 'seaborn-darkgrid', 'seaborn-ticks', 'fivethirtyeight', 'seaborn-whitegrid', 'classic', '_classic_test', 'fast', 'seaborn-talk', 'seaborn-dark-palette', 'seaborn-bright', 'seaborn-pastel', 'grayscale', 'seaborn-notebook', 'ggplot', 'seaborn-colorblind', 'seaborn-muted', 'seaborn', 'Solarize_Light2', 'seaborn-paper', 'bmh', 'tableau-colorblind10', 'seaborn-white', 'dark_background', 'seaborn-poster', 'seaborn-deep']\n"
     ]
    }
   ],
   "source": [
    "import matplotlib\n",
    "\n",
    "from matplotlib import style as style\n",
    "plt = matplotlib.pyplot\n",
    "print(plt.style.available)\n"
   ]
  },
  {
   "cell_type": "code",
   "execution_count": 28,
   "metadata": {
    "colab": {},
    "colab_type": "code",
    "id": "f6U1vswr_uWp"
   },
   "outputs": [],
   "source": [
    "counts = [38,3, 2, 1, 1, 4, 6, 5, 5, 33 ]\n",
    "data_list =[]\n",
    "\n",
    "for i, c in enumerate(counts, 1):\n",
    "    data_list = data_list + [i]*c\n"
   ]
  },
  {
   "cell_type": "code",
   "execution_count": 30,
   "metadata": {
    "collapsed": true
   },
   "outputs": [
    {
     "data": {
      "text/plain": [
       "0      1\n",
       "1      1\n",
       "2      1\n",
       "3      1\n",
       "4      1\n",
       "5      1\n",
       "6      1\n",
       "7      1\n",
       "8      1\n",
       "9      1\n",
       "10     1\n",
       "11     1\n",
       "12     1\n",
       "13     1\n",
       "14     1\n",
       "15     1\n",
       "16     1\n",
       "17     1\n",
       "18     1\n",
       "19     1\n",
       "20     1\n",
       "21     1\n",
       "22     1\n",
       "23     1\n",
       "24     1\n",
       "25     1\n",
       "26     1\n",
       "27     1\n",
       "28     1\n",
       "29     1\n",
       "      ..\n",
       "68    10\n",
       "69    10\n",
       "70    10\n",
       "71    10\n",
       "72    10\n",
       "73    10\n",
       "74    10\n",
       "75    10\n",
       "76    10\n",
       "77    10\n",
       "78    10\n",
       "79    10\n",
       "80    10\n",
       "81    10\n",
       "82    10\n",
       "83    10\n",
       "84    10\n",
       "85    10\n",
       "86    10\n",
       "87    10\n",
       "88    10\n",
       "89    10\n",
       "90    10\n",
       "91    10\n",
       "92    10\n",
       "93    10\n",
       "94    10\n",
       "95    10\n",
       "96    10\n",
       "97    10\n",
       "Length: 98, dtype: int64"
      ]
     },
     "execution_count": 30,
     "metadata": {},
     "output_type": "execute_result"
    }
   ],
   "source": [
    "fake2 = pd.Series(data_list)\n",
    "fake2"
   ]
  },
  {
   "cell_type": "code",
   "execution_count": 49,
   "metadata": {},
   "outputs": [
    {
     "data": {
      "image/png": "[encoded data removed]",
      "text/plain": [
       "<Figure size 432x288 with 1 Axes>"
      ]
     },
     "metadata": {},
     "output_type": "display_data"
    }
   ],
   "source": [
    "plt.style.use('fivethirtyeight')\n",
    "fake2.value_counts().sort_index().plot.bar(color='#ed713a', width=0.9, rot=0);\n",
    "\n",
    "plt.text(x=-1, \n",
    "         y=50,\n",
    "         fontsize=16,\n",
    "         fontweight='bold',\n",
    "         s=\"'An Inconvenient Sequel: Truth To Power' is divisive'\")\n",
    "\n",
    "plt.text(x=-1, \n",
    "         y=45,\n",
    "         fontsize=16,\n",
    "         s=\"IMDb ratings for the film as of Aug. 29\")\n",
    "\n",
    "plt.xlabel('Rating')\n",
    "plt.ylabel('Percent of Total Votes')\n",
    "plt.yticks(range(0, 50, 10));"
   ]
  },
  {
   "cell_type": "markdown",
   "metadata": {
    "colab_type": "text",
    "id": "x8jRZkpB_MJ6"
   },
   "source": [
    "## Reproduce with real data"
   ]
  },
  {
   "cell_type": "code",
   "execution_count": 50,
   "metadata": {
    "colab": {},
    "colab_type": "code",
    "id": "3SOHJckDUPI8"
   },
   "outputs": [],
   "source": [
    "import pandas as pd\n",
    "df = pd.read_csv('https://raw.githubusercontent.com/fivethirtyeight/data/master/inconvenient-sequel/ratings.csv')"
   ]
  },
  {
   "cell_type": "code",
   "execution_count": 51,
   "metadata": {},
   "outputs": [
    {
     "data": {
      "text/plain": [
       "(80053, 27)"
      ]
     },
     "execution_count": 51,
     "metadata": {},
     "output_type": "execute_result"
    }
   ],
   "source": [
    "df.shape\n"
   ]
  },
  {
   "cell_type": "code",
   "execution_count": 52,
   "metadata": {},
   "outputs": [
    {
     "data": {
      "text/html": [
       "<div>\n",
       "<style scoped>\n",
       "    .dataframe tbody tr th:only-of-type {\n",
       "        vertical-align: middle;\n",
       "    }\n",
       "\n",
       "    .dataframe tbody tr th {\n",
       "        vertical-align: top;\n",
       "    }\n",
       "\n",
       "    .dataframe thead th {\n",
       "        text-align: right;\n",
       "    }\n",
       "</style>\n",
       "<table border=\"1\" class=\"dataframe\">\n",
       "  <thead>\n",
       "    <tr style=\"text-align: right;\">\n",
       "      <th></th>\n",
       "      <th>timestamp</th>\n",
       "      <th>respondents</th>\n",
       "      <th>category</th>\n",
       "      <th>link</th>\n",
       "      <th>average</th>\n",
       "      <th>mean</th>\n",
       "      <th>median</th>\n",
       "      <th>1_votes</th>\n",
       "      <th>2_votes</th>\n",
       "      <th>3_votes</th>\n",
       "      <th>...</th>\n",
       "      <th>1_pct</th>\n",
       "      <th>2_pct</th>\n",
       "      <th>3_pct</th>\n",
       "      <th>4_pct</th>\n",
       "      <th>5_pct</th>\n",
       "      <th>6_pct</th>\n",
       "      <th>7_pct</th>\n",
       "      <th>8_pct</th>\n",
       "      <th>9_pct</th>\n",
       "      <th>10_pct</th>\n",
       "    </tr>\n",
       "  </thead>\n",
       "  <tbody>\n",
       "    <tr>\n",
       "      <th>0</th>\n",
       "      <td>2017-07-17 12:28:32.785639</td>\n",
       "      <td>402</td>\n",
       "      <td>Males</td>\n",
       "      <td>http://www.imdb.com/title/tt6322922/ratings-male</td>\n",
       "      <td>4.6</td>\n",
       "      <td>5.0</td>\n",
       "      <td>2</td>\n",
       "      <td>197</td>\n",
       "      <td>7</td>\n",
       "      <td>7</td>\n",
       "      <td>...</td>\n",
       "      <td>49.0</td>\n",
       "      <td>1.7</td>\n",
       "      <td>1.7</td>\n",
       "      <td>0.7</td>\n",
       "      <td>1.7</td>\n",
       "      <td>1.7</td>\n",
       "      <td>2.7</td>\n",
       "      <td>2.0</td>\n",
       "      <td>5.0</td>\n",
       "      <td>33.6</td>\n",
       "    </tr>\n",
       "    <tr>\n",
       "      <th>1</th>\n",
       "      <td>2017-07-17 12:28:33.025600</td>\n",
       "      <td>78</td>\n",
       "      <td>Females</td>\n",
       "      <td>http://www.imdb.com/title/tt6322922/ratings-fe...</td>\n",
       "      <td>6.9</td>\n",
       "      <td>7.7</td>\n",
       "      <td>10</td>\n",
       "      <td>16</td>\n",
       "      <td>1</td>\n",
       "      <td>0</td>\n",
       "      <td>...</td>\n",
       "      <td>20.5</td>\n",
       "      <td>1.3</td>\n",
       "      <td>0.0</td>\n",
       "      <td>1.3</td>\n",
       "      <td>1.3</td>\n",
       "      <td>0.0</td>\n",
       "      <td>3.8</td>\n",
       "      <td>5.1</td>\n",
       "      <td>3.8</td>\n",
       "      <td>62.8</td>\n",
       "    </tr>\n",
       "    <tr>\n",
       "      <th>2</th>\n",
       "      <td>2017-07-17 12:28:33.273919</td>\n",
       "      <td>4</td>\n",
       "      <td>Aged under 18</td>\n",
       "      <td>http://www.imdb.com/title/tt6322922/ratings-age_1</td>\n",
       "      <td>4.2</td>\n",
       "      <td>4.2</td>\n",
       "      <td>3</td>\n",
       "      <td>2</td>\n",
       "      <td>0</td>\n",
       "      <td>0</td>\n",
       "      <td>...</td>\n",
       "      <td>50.0</td>\n",
       "      <td>0.0</td>\n",
       "      <td>0.0</td>\n",
       "      <td>0.0</td>\n",
       "      <td>25.0</td>\n",
       "      <td>0.0</td>\n",
       "      <td>0.0</td>\n",
       "      <td>0.0</td>\n",
       "      <td>0.0</td>\n",
       "      <td>25.0</td>\n",
       "    </tr>\n",
       "    <tr>\n",
       "      <th>3</th>\n",
       "      <td>2017-07-17 12:28:33.495325</td>\n",
       "      <td>4</td>\n",
       "      <td>Males under 18</td>\n",
       "      <td>http://www.imdb.com/title/tt6322922/ratings-ma...</td>\n",
       "      <td>4.2</td>\n",
       "      <td>4.2</td>\n",
       "      <td>3</td>\n",
       "      <td>2</td>\n",
       "      <td>0</td>\n",
       "      <td>0</td>\n",
       "      <td>...</td>\n",
       "      <td>50.0</td>\n",
       "      <td>0.0</td>\n",
       "      <td>0.0</td>\n",
       "      <td>0.0</td>\n",
       "      <td>25.0</td>\n",
       "      <td>0.0</td>\n",
       "      <td>0.0</td>\n",
       "      <td>0.0</td>\n",
       "      <td>0.0</td>\n",
       "      <td>25.0</td>\n",
       "    </tr>\n",
       "    <tr>\n",
       "      <th>4</th>\n",
       "      <td>2017-07-17 12:28:33.722849</td>\n",
       "      <td>130</td>\n",
       "      <td>Aged 18-29</td>\n",
       "      <td>http://www.imdb.com/title/tt6322922/ratings-age_2</td>\n",
       "      <td>6.3</td>\n",
       "      <td>6.5</td>\n",
       "      <td>9</td>\n",
       "      <td>41</td>\n",
       "      <td>0</td>\n",
       "      <td>3</td>\n",
       "      <td>...</td>\n",
       "      <td>31.5</td>\n",
       "      <td>0.0</td>\n",
       "      <td>2.3</td>\n",
       "      <td>0.8</td>\n",
       "      <td>1.5</td>\n",
       "      <td>2.3</td>\n",
       "      <td>4.6</td>\n",
       "      <td>3.1</td>\n",
       "      <td>4.6</td>\n",
       "      <td>49.2</td>\n",
       "    </tr>\n",
       "  </tbody>\n",
       "</table>\n",
       "<p>5 rows × 27 columns</p>\n",
       "</div>"
      ],
      "text/plain": [
       "                    timestamp  respondents        category  \\\n",
       "0  2017-07-17 12:28:32.785639          402           Males   \n",
       "1  2017-07-17 12:28:33.025600           78         Females   \n",
       "2  2017-07-17 12:28:33.273919            4   Aged under 18   \n",
       "3  2017-07-17 12:28:33.495325            4  Males under 18   \n",
       "4  2017-07-17 12:28:33.722849          130      Aged 18-29   \n",
       "\n",
       "                                                link  average  mean  median  \\\n",
       "0   http://www.imdb.com/title/tt6322922/ratings-male      4.6   5.0       2   \n",
       "1  http://www.imdb.com/title/tt6322922/ratings-fe...      6.9   7.7      10   \n",
       "2  http://www.imdb.com/title/tt6322922/ratings-age_1      4.2   4.2       3   \n",
       "3  http://www.imdb.com/title/tt6322922/ratings-ma...      4.2   4.2       3   \n",
       "4  http://www.imdb.com/title/tt6322922/ratings-age_2      6.3   6.5       9   \n",
       "\n",
       "   1_votes  2_votes  3_votes  ...  1_pct  2_pct  3_pct  4_pct  5_pct  6_pct  \\\n",
       "0      197        7        7  ...   49.0    1.7    1.7    0.7    1.7    1.7   \n",
       "1       16        1        0  ...   20.5    1.3    0.0    1.3    1.3    0.0   \n",
       "2        2        0        0  ...   50.0    0.0    0.0    0.0   25.0    0.0   \n",
       "3        2        0        0  ...   50.0    0.0    0.0    0.0   25.0    0.0   \n",
       "4       41        0        3  ...   31.5    0.0    2.3    0.8    1.5    2.3   \n",
       "\n",
       "   7_pct  8_pct  9_pct  10_pct  \n",
       "0    2.7    2.0    5.0    33.6  \n",
       "1    3.8    5.1    3.8    62.8  \n",
       "2    0.0    0.0    0.0    25.0  \n",
       "3    0.0    0.0    0.0    25.0  \n",
       "4    4.6    3.1    4.6    49.2  \n",
       "\n",
       "[5 rows x 27 columns]"
      ]
     },
     "execution_count": 52,
     "metadata": {},
     "output_type": "execute_result"
    }
   ],
   "source": [
    "df.head()"
   ]
  },
  {
   "cell_type": "code",
   "execution_count": 53,
   "metadata": {},
   "outputs": [
    {
     "data": {
      "text/html": [
       "<div>\n",
       "<style scoped>\n",
       "    .dataframe tbody tr th:only-of-type {\n",
       "        vertical-align: middle;\n",
       "    }\n",
       "\n",
       "    .dataframe tbody tr th {\n",
       "        vertical-align: top;\n",
       "    }\n",
       "\n",
       "    .dataframe thead th {\n",
       "        text-align: right;\n",
       "    }\n",
       "</style>\n",
       "<table border=\"1\" class=\"dataframe\">\n",
       "  <thead>\n",
       "    <tr style=\"text-align: right;\">\n",
       "      <th></th>\n",
       "      <th>timestamp</th>\n",
       "      <th>respondents</th>\n",
       "      <th>category</th>\n",
       "      <th>link</th>\n",
       "      <th>average</th>\n",
       "      <th>mean</th>\n",
       "      <th>median</th>\n",
       "      <th>1_votes</th>\n",
       "      <th>2_votes</th>\n",
       "      <th>3_votes</th>\n",
       "      <th>...</th>\n",
       "      <th>1_pct</th>\n",
       "      <th>2_pct</th>\n",
       "      <th>3_pct</th>\n",
       "      <th>4_pct</th>\n",
       "      <th>5_pct</th>\n",
       "      <th>6_pct</th>\n",
       "      <th>7_pct</th>\n",
       "      <th>8_pct</th>\n",
       "      <th>9_pct</th>\n",
       "      <th>10_pct</th>\n",
       "    </tr>\n",
       "  </thead>\n",
       "  <tbody>\n",
       "    <tr>\n",
       "      <th>0</th>\n",
       "      <td>2017-07-17 12:28:32.785639</td>\n",
       "      <td>402</td>\n",
       "      <td>Males</td>\n",
       "      <td>http://www.imdb.com/title/tt6322922/ratings-male</td>\n",
       "      <td>4.6</td>\n",
       "      <td>5.0</td>\n",
       "      <td>2</td>\n",
       "      <td>197</td>\n",
       "      <td>7</td>\n",
       "      <td>7</td>\n",
       "      <td>...</td>\n",
       "      <td>49.0</td>\n",
       "      <td>1.7</td>\n",
       "      <td>1.7</td>\n",
       "      <td>0.7</td>\n",
       "      <td>1.7</td>\n",
       "      <td>1.7</td>\n",
       "      <td>2.7</td>\n",
       "      <td>2.0</td>\n",
       "      <td>5.0</td>\n",
       "      <td>33.6</td>\n",
       "    </tr>\n",
       "    <tr>\n",
       "      <th>1</th>\n",
       "      <td>2017-07-17 12:28:33.025600</td>\n",
       "      <td>78</td>\n",
       "      <td>Females</td>\n",
       "      <td>http://www.imdb.com/title/tt6322922/ratings-fe...</td>\n",
       "      <td>6.9</td>\n",
       "      <td>7.7</td>\n",
       "      <td>10</td>\n",
       "      <td>16</td>\n",
       "      <td>1</td>\n",
       "      <td>0</td>\n",
       "      <td>...</td>\n",
       "      <td>20.5</td>\n",
       "      <td>1.3</td>\n",
       "      <td>0.0</td>\n",
       "      <td>1.3</td>\n",
       "      <td>1.3</td>\n",
       "      <td>0.0</td>\n",
       "      <td>3.8</td>\n",
       "      <td>5.1</td>\n",
       "      <td>3.8</td>\n",
       "      <td>62.8</td>\n",
       "    </tr>\n",
       "    <tr>\n",
       "      <th>2</th>\n",
       "      <td>2017-07-17 12:28:33.273919</td>\n",
       "      <td>4</td>\n",
       "      <td>Aged under 18</td>\n",
       "      <td>http://www.imdb.com/title/tt6322922/ratings-age_1</td>\n",
       "      <td>4.2</td>\n",
       "      <td>4.2</td>\n",
       "      <td>3</td>\n",
       "      <td>2</td>\n",
       "      <td>0</td>\n",
       "      <td>0</td>\n",
       "      <td>...</td>\n",
       "      <td>50.0</td>\n",
       "      <td>0.0</td>\n",
       "      <td>0.0</td>\n",
       "      <td>0.0</td>\n",
       "      <td>25.0</td>\n",
       "      <td>0.0</td>\n",
       "      <td>0.0</td>\n",
       "      <td>0.0</td>\n",
       "      <td>0.0</td>\n",
       "      <td>25.0</td>\n",
       "    </tr>\n",
       "    <tr>\n",
       "      <th>3</th>\n",
       "      <td>2017-07-17 12:28:33.495325</td>\n",
       "      <td>4</td>\n",
       "      <td>Males under 18</td>\n",
       "      <td>http://www.imdb.com/title/tt6322922/ratings-ma...</td>\n",
       "      <td>4.2</td>\n",
       "      <td>4.2</td>\n",
       "      <td>3</td>\n",
       "      <td>2</td>\n",
       "      <td>0</td>\n",
       "      <td>0</td>\n",
       "      <td>...</td>\n",
       "      <td>50.0</td>\n",
       "      <td>0.0</td>\n",
       "      <td>0.0</td>\n",
       "      <td>0.0</td>\n",
       "      <td>25.0</td>\n",
       "      <td>0.0</td>\n",
       "      <td>0.0</td>\n",
       "      <td>0.0</td>\n",
       "      <td>0.0</td>\n",
       "      <td>25.0</td>\n",
       "    </tr>\n",
       "    <tr>\n",
       "      <th>4</th>\n",
       "      <td>2017-07-17 12:28:33.722849</td>\n",
       "      <td>130</td>\n",
       "      <td>Aged 18-29</td>\n",
       "      <td>http://www.imdb.com/title/tt6322922/ratings-age_2</td>\n",
       "      <td>6.3</td>\n",
       "      <td>6.5</td>\n",
       "      <td>9</td>\n",
       "      <td>41</td>\n",
       "      <td>0</td>\n",
       "      <td>3</td>\n",
       "      <td>...</td>\n",
       "      <td>31.5</td>\n",
       "      <td>0.0</td>\n",
       "      <td>2.3</td>\n",
       "      <td>0.8</td>\n",
       "      <td>1.5</td>\n",
       "      <td>2.3</td>\n",
       "      <td>4.6</td>\n",
       "      <td>3.1</td>\n",
       "      <td>4.6</td>\n",
       "      <td>49.2</td>\n",
       "    </tr>\n",
       "  </tbody>\n",
       "</table>\n",
       "<p>5 rows × 27 columns</p>\n",
       "</div>"
      ],
      "text/plain": [
       "                   timestamp  respondents        category  \\\n",
       "0 2017-07-17 12:28:32.785639          402           Males   \n",
       "1 2017-07-17 12:28:33.025600           78         Females   \n",
       "2 2017-07-17 12:28:33.273919            4   Aged under 18   \n",
       "3 2017-07-17 12:28:33.495325            4  Males under 18   \n",
       "4 2017-07-17 12:28:33.722849          130      Aged 18-29   \n",
       "\n",
       "                                                link  average  mean  median  \\\n",
       "0   http://www.imdb.com/title/tt6322922/ratings-male      4.6   5.0       2   \n",
       "1  http://www.imdb.com/title/tt6322922/ratings-fe...      6.9   7.7      10   \n",
       "2  http://www.imdb.com/title/tt6322922/ratings-age_1      4.2   4.2       3   \n",
       "3  http://www.imdb.com/title/tt6322922/ratings-ma...      4.2   4.2       3   \n",
       "4  http://www.imdb.com/title/tt6322922/ratings-age_2      6.3   6.5       9   \n",
       "\n",
       "   1_votes  2_votes  3_votes  ...  1_pct  2_pct  3_pct  4_pct  5_pct  6_pct  \\\n",
       "0      197        7        7  ...   49.0    1.7    1.7    0.7    1.7    1.7   \n",
       "1       16        1        0  ...   20.5    1.3    0.0    1.3    1.3    0.0   \n",
       "2        2        0        0  ...   50.0    0.0    0.0    0.0   25.0    0.0   \n",
       "3        2        0        0  ...   50.0    0.0    0.0    0.0   25.0    0.0   \n",
       "4       41        0        3  ...   31.5    0.0    2.3    0.8    1.5    2.3   \n",
       "\n",
       "   7_pct  8_pct  9_pct  10_pct  \n",
       "0    2.7    2.0    5.0    33.6  \n",
       "1    3.8    5.1    3.8    62.8  \n",
       "2    0.0    0.0    0.0    25.0  \n",
       "3    0.0    0.0    0.0    25.0  \n",
       "4    4.6    3.1    4.6    49.2  \n",
       "\n",
       "[5 rows x 27 columns]"
      ]
     },
     "execution_count": 53,
     "metadata": {},
     "output_type": "execute_result"
    }
   ],
   "source": [
    "df.timestamp = pd.to_datetime(df['timestamp'])\n",
    "df.head()"
   ]
  },
  {
   "cell_type": "code",
   "execution_count": 54,
   "metadata": {},
   "outputs": [
    {
     "data": {
      "text/plain": [
       "timestamp      datetime64[ns]\n",
       "respondents             int64\n",
       "category               object\n",
       "link                   object\n",
       "average               float64\n",
       "mean                  float64\n",
       "median                  int64\n",
       "1_votes                 int64\n",
       "2_votes                 int64\n",
       "3_votes                 int64\n",
       "4_votes                 int64\n",
       "5_votes                 int64\n",
       "6_votes                 int64\n",
       "7_votes                 int64\n",
       "8_votes                 int64\n",
       "9_votes                 int64\n",
       "10_votes                int64\n",
       "1_pct                 float64\n",
       "2_pct                 float64\n",
       "3_pct                 float64\n",
       "4_pct                 float64\n",
       "5_pct                 float64\n",
       "6_pct                 float64\n",
       "7_pct                 float64\n",
       "8_pct                 float64\n",
       "9_pct                 float64\n",
       "10_pct                float64\n",
       "dtype: object"
      ]
     },
     "execution_count": 54,
     "metadata": {},
     "output_type": "execute_result"
    }
   ],
   "source": [
    "df.dtypes"
   ]
  },
  {
   "cell_type": "code",
   "execution_count": 59,
   "metadata": {},
   "outputs": [],
   "source": [
    "df = df.set_index('timestamp')"
   ]
  },
  {
   "cell_type": "code",
   "execution_count": 61,
   "metadata": {
    "collapsed": true
   },
   "outputs": [
    {
     "ename": "KeyError",
     "evalue": "'2017-07-17 12:28:32.785639'",
     "output_type": "error",
     "traceback": [
      "\u001b[0;31m---------------------------------------------------------------------------\u001b[0m",
      "\u001b[0;31mKeyError\u001b[0m                                  Traceback (most recent call last)",
      "\u001b[0;32m/anaconda3/lib/python3.7/site-packages/pandas/core/indexes/base.py\u001b[0m in \u001b[0;36mget_loc\u001b[0;34m(self, key, method, tolerance)\u001b[0m\n\u001b[1;32m   2656\u001b[0m             \u001b[0;32mtry\u001b[0m\u001b[0;34m:\u001b[0m\u001b[0;34m\u001b[0m\u001b[0;34m\u001b[0m\u001b[0m\n\u001b[0;32m-> 2657\u001b[0;31m                 \u001b[0;32mreturn\u001b[0m \u001b[0mself\u001b[0m\u001b[0;34m.\u001b[0m\u001b[0m_engine\u001b[0m\u001b[0;34m.\u001b[0m\u001b[0mget_loc\u001b[0m\u001b[0;34m(\u001b[0m\u001b[0mkey\u001b[0m\u001b[0;34m)\u001b[0m\u001b[0;34m\u001b[0m\u001b[0;34m\u001b[0m\u001b[0m\n\u001b[0m\u001b[1;32m   2658\u001b[0m             \u001b[0;32mexcept\u001b[0m \u001b[0mKeyError\u001b[0m\u001b[0;34m:\u001b[0m\u001b[0;34m\u001b[0m\u001b[0;34m\u001b[0m\u001b[0m\n",
      "\u001b[0;32mpandas/_libs/index.pyx\u001b[0m in \u001b[0;36mpandas._libs.index.IndexEngine.get_loc\u001b[0;34m()\u001b[0m\n",
      "\u001b[0;32mpandas/_libs/index.pyx\u001b[0m in \u001b[0;36mpandas._libs.index.IndexEngine.get_loc\u001b[0;34m()\u001b[0m\n",
      "\u001b[0;32mpandas/_libs/hashtable_class_helper.pxi\u001b[0m in \u001b[0;36mpandas._libs.hashtable.PyObjectHashTable.get_item\u001b[0;34m()\u001b[0m\n",
      "\u001b[0;32mpandas/_libs/hashtable_class_helper.pxi\u001b[0m in \u001b[0;36mpandas._libs.hashtable.PyObjectHashTable.get_item\u001b[0;34m()\u001b[0m\n",
      "\u001b[0;31mKeyError\u001b[0m: '2017-07-17 12:28:32.785639'",
      "\nDuring handling of the above exception, another exception occurred:\n",
      "\u001b[0;31mKeyError\u001b[0m                                  Traceback (most recent call last)",
      "\u001b[0;32m<ipython-input-61-65adc496a2d5>\u001b[0m in \u001b[0;36m<module>\u001b[0;34m\u001b[0m\n\u001b[0;32m----> 1\u001b[0;31m \u001b[0mdf\u001b[0m\u001b[0;34m[\u001b[0m\u001b[0;34m'2017-07-17 12:28:32.785639'\u001b[0m\u001b[0;34m]\u001b[0m\u001b[0;34m\u001b[0m\u001b[0;34m\u001b[0m\u001b[0m\n\u001b[0m",
      "\u001b[0;32m/anaconda3/lib/python3.7/site-packages/pandas/core/frame.py\u001b[0m in \u001b[0;36m__getitem__\u001b[0;34m(self, key)\u001b[0m\n\u001b[1;32m   2925\u001b[0m             \u001b[0;32mif\u001b[0m \u001b[0mself\u001b[0m\u001b[0;34m.\u001b[0m\u001b[0mcolumns\u001b[0m\u001b[0;34m.\u001b[0m\u001b[0mnlevels\u001b[0m \u001b[0;34m>\u001b[0m \u001b[0;36m1\u001b[0m\u001b[0;34m:\u001b[0m\u001b[0;34m\u001b[0m\u001b[0;34m\u001b[0m\u001b[0m\n\u001b[1;32m   2926\u001b[0m                 \u001b[0;32mreturn\u001b[0m \u001b[0mself\u001b[0m\u001b[0;34m.\u001b[0m\u001b[0m_getitem_multilevel\u001b[0m\u001b[0;34m(\u001b[0m\u001b[0mkey\u001b[0m\u001b[0;34m)\u001b[0m\u001b[0;34m\u001b[0m\u001b[0;34m\u001b[0m\u001b[0m\n\u001b[0;32m-> 2927\u001b[0;31m             \u001b[0mindexer\u001b[0m \u001b[0;34m=\u001b[0m \u001b[0mself\u001b[0m\u001b[0;34m.\u001b[0m\u001b[0mcolumns\u001b[0m\u001b[0;34m.\u001b[0m\u001b[0mget_loc\u001b[0m\u001b[0;34m(\u001b[0m\u001b[0mkey\u001b[0m\u001b[0;34m)\u001b[0m\u001b[0;34m\u001b[0m\u001b[0;34m\u001b[0m\u001b[0m\n\u001b[0m\u001b[1;32m   2928\u001b[0m             \u001b[0;32mif\u001b[0m \u001b[0mis_integer\u001b[0m\u001b[0;34m(\u001b[0m\u001b[0mindexer\u001b[0m\u001b[0;34m)\u001b[0m\u001b[0;34m:\u001b[0m\u001b[0;34m\u001b[0m\u001b[0;34m\u001b[0m\u001b[0m\n\u001b[1;32m   2929\u001b[0m                 \u001b[0mindexer\u001b[0m \u001b[0;34m=\u001b[0m \u001b[0;34m[\u001b[0m\u001b[0mindexer\u001b[0m\u001b[0;34m]\u001b[0m\u001b[0;34m\u001b[0m\u001b[0;34m\u001b[0m\u001b[0m\n",
      "\u001b[0;32m/anaconda3/lib/python3.7/site-packages/pandas/core/indexes/base.py\u001b[0m in \u001b[0;36mget_loc\u001b[0;34m(self, key, method, tolerance)\u001b[0m\n\u001b[1;32m   2657\u001b[0m                 \u001b[0;32mreturn\u001b[0m \u001b[0mself\u001b[0m\u001b[0;34m.\u001b[0m\u001b[0m_engine\u001b[0m\u001b[0;34m.\u001b[0m\u001b[0mget_loc\u001b[0m\u001b[0;34m(\u001b[0m\u001b[0mkey\u001b[0m\u001b[0;34m)\u001b[0m\u001b[0;34m\u001b[0m\u001b[0;34m\u001b[0m\u001b[0m\n\u001b[1;32m   2658\u001b[0m             \u001b[0;32mexcept\u001b[0m \u001b[0mKeyError\u001b[0m\u001b[0;34m:\u001b[0m\u001b[0;34m\u001b[0m\u001b[0;34m\u001b[0m\u001b[0m\n\u001b[0;32m-> 2659\u001b[0;31m                 \u001b[0;32mreturn\u001b[0m \u001b[0mself\u001b[0m\u001b[0;34m.\u001b[0m\u001b[0m_engine\u001b[0m\u001b[0;34m.\u001b[0m\u001b[0mget_loc\u001b[0m\u001b[0;34m(\u001b[0m\u001b[0mself\u001b[0m\u001b[0;34m.\u001b[0m\u001b[0m_maybe_cast_indexer\u001b[0m\u001b[0;34m(\u001b[0m\u001b[0mkey\u001b[0m\u001b[0;34m)\u001b[0m\u001b[0;34m)\u001b[0m\u001b[0;34m\u001b[0m\u001b[0;34m\u001b[0m\u001b[0m\n\u001b[0m\u001b[1;32m   2660\u001b[0m         \u001b[0mindexer\u001b[0m \u001b[0;34m=\u001b[0m \u001b[0mself\u001b[0m\u001b[0;34m.\u001b[0m\u001b[0mget_indexer\u001b[0m\u001b[0;34m(\u001b[0m\u001b[0;34m[\u001b[0m\u001b[0mkey\u001b[0m\u001b[0;34m]\u001b[0m\u001b[0;34m,\u001b[0m \u001b[0mmethod\u001b[0m\u001b[0;34m=\u001b[0m\u001b[0mmethod\u001b[0m\u001b[0;34m,\u001b[0m \u001b[0mtolerance\u001b[0m\u001b[0;34m=\u001b[0m\u001b[0mtolerance\u001b[0m\u001b[0;34m)\u001b[0m\u001b[0;34m\u001b[0m\u001b[0;34m\u001b[0m\u001b[0m\n\u001b[1;32m   2661\u001b[0m         \u001b[0;32mif\u001b[0m \u001b[0mindexer\u001b[0m\u001b[0;34m.\u001b[0m\u001b[0mndim\u001b[0m \u001b[0;34m>\u001b[0m \u001b[0;36m1\u001b[0m \u001b[0;32mor\u001b[0m \u001b[0mindexer\u001b[0m\u001b[0;34m.\u001b[0m\u001b[0msize\u001b[0m \u001b[0;34m>\u001b[0m \u001b[0;36m1\u001b[0m\u001b[0;34m:\u001b[0m\u001b[0;34m\u001b[0m\u001b[0;34m\u001b[0m\u001b[0m\n",
      "\u001b[0;32mpandas/_libs/index.pyx\u001b[0m in \u001b[0;36mpandas._libs.index.IndexEngine.get_loc\u001b[0;34m()\u001b[0m\n",
      "\u001b[0;32mpandas/_libs/index.pyx\u001b[0m in \u001b[0;36mpandas._libs.index.IndexEngine.get_loc\u001b[0;34m()\u001b[0m\n",
      "\u001b[0;32mpandas/_libs/hashtable_class_helper.pxi\u001b[0m in \u001b[0;36mpandas._libs.hashtable.PyObjectHashTable.get_item\u001b[0;34m()\u001b[0m\n",
      "\u001b[0;32mpandas/_libs/hashtable_class_helper.pxi\u001b[0m in \u001b[0;36mpandas._libs.hashtable.PyObjectHashTable.get_item\u001b[0;34m()\u001b[0m\n",
      "\u001b[0;31mKeyError\u001b[0m: '2017-07-17 12:28:32.785639'"
     ]
    }
   ],
   "source": [
    "df['2017-07-17 12:28:32.785639']"
   ]
  },
  {
   "cell_type": "code",
   "execution_count": 62,
   "metadata": {},
   "outputs": [
    {
     "data": {
      "text/plain": [
       "Females Aged 18-29    4216\n",
       "Males Aged 18-29      4216\n",
       "Males Aged 45+        4216\n",
       "IMDb staff            4216\n",
       "Aged 18-29            4216\n",
       "Aged 30-44            4216\n",
       "Males under 18        4216\n",
       "IMDb users            4216\n",
       "Males Aged 30-44      4216\n",
       "Aged 45+              4216\n",
       "Females Aged 45+      4216\n",
       "Females               4216\n",
       "US users              4216\n",
       "Males                 4216\n",
       "Top 1000 voters       4216\n",
       "Non-US users          4216\n",
       "Aged under 18         4216\n",
       "Females Aged 30-44    4216\n",
       "Females under 18      4165\n",
       "Name: category, dtype: int64"
      ]
     },
     "execution_count": 62,
     "metadata": {},
     "output_type": "execute_result"
    }
   ],
   "source": [
    "df['category'].value_counts()"
   ]
  },
  {
   "cell_type": "code",
   "execution_count": 64,
   "metadata": {},
   "outputs": [
    {
     "data": {
      "text/plain": [
       "(4216, 26)"
      ]
     },
     "execution_count": 64,
     "metadata": {},
     "output_type": "execute_result"
    }
   ],
   "source": [
    "df_imdb = df[df['category'] == 'IMDb users']\n",
    "df_imdb.shape"
   ]
  },
  {
   "cell_type": "code",
   "execution_count": 68,
   "metadata": {},
   "outputs": [
    {
     "data": {
      "image/png": "[encoded data removed]",
      "text/plain": [
       "<Figure size 432x288 with 1 Axes>"
      ]
     },
     "metadata": {},
     "output_type": "display_data"
    }
   ],
   "source": [
    "lastday = df['2017-08-29']\n",
    "lastday[lastday['category'] == 'IMDb users']['respondents'].plot();"
   ]
  },
  {
   "cell_type": "code",
   "execution_count": 67,
   "metadata": {},
   "outputs": [],
   "source": [
    "final = df.tail(1)"
   ]
  },
  {
   "cell_type": "code",
   "execution_count": 69,
   "metadata": {},
   "outputs": [
    {
     "data": {
      "text/html": [
       "<div>\n",
       "<style scoped>\n",
       "    .dataframe tbody tr th:only-of-type {\n",
       "        vertical-align: middle;\n",
       "    }\n",
       "\n",
       "    .dataframe tbody tr th {\n",
       "        vertical-align: top;\n",
       "    }\n",
       "\n",
       "    .dataframe thead th {\n",
       "        text-align: right;\n",
       "    }\n",
       "</style>\n",
       "<table border=\"1\" class=\"dataframe\">\n",
       "  <thead>\n",
       "    <tr style=\"text-align: right;\">\n",
       "      <th></th>\n",
       "      <th>respondents</th>\n",
       "      <th>category</th>\n",
       "      <th>link</th>\n",
       "      <th>average</th>\n",
       "      <th>mean</th>\n",
       "      <th>median</th>\n",
       "      <th>1_votes</th>\n",
       "      <th>2_votes</th>\n",
       "      <th>3_votes</th>\n",
       "      <th>4_votes</th>\n",
       "      <th>...</th>\n",
       "      <th>1_pct</th>\n",
       "      <th>2_pct</th>\n",
       "      <th>3_pct</th>\n",
       "      <th>4_pct</th>\n",
       "      <th>5_pct</th>\n",
       "      <th>6_pct</th>\n",
       "      <th>7_pct</th>\n",
       "      <th>8_pct</th>\n",
       "      <th>9_pct</th>\n",
       "      <th>10_pct</th>\n",
       "    </tr>\n",
       "    <tr>\n",
       "      <th>timestamp</th>\n",
       "      <th></th>\n",
       "      <th></th>\n",
       "      <th></th>\n",
       "      <th></th>\n",
       "      <th></th>\n",
       "      <th></th>\n",
       "      <th></th>\n",
       "      <th></th>\n",
       "      <th></th>\n",
       "      <th></th>\n",
       "      <th></th>\n",
       "      <th></th>\n",
       "      <th></th>\n",
       "      <th></th>\n",
       "      <th></th>\n",
       "      <th></th>\n",
       "      <th></th>\n",
       "      <th></th>\n",
       "      <th></th>\n",
       "      <th></th>\n",
       "      <th></th>\n",
       "    </tr>\n",
       "  </thead>\n",
       "  <tbody>\n",
       "    <tr>\n",
       "      <th>2017-08-29 23:10:06.218251</th>\n",
       "      <td>2662</td>\n",
       "      <td>IMDb users</td>\n",
       "      <td>http://www.imdb.com/title/tt6322922/ratings</td>\n",
       "      <td>5.4</td>\n",
       "      <td>5.6</td>\n",
       "      <td>7</td>\n",
       "      <td>1021</td>\n",
       "      <td>69</td>\n",
       "      <td>38</td>\n",
       "      <td>25</td>\n",
       "      <td>...</td>\n",
       "      <td>38.4</td>\n",
       "      <td>2.6</td>\n",
       "      <td>1.4</td>\n",
       "      <td>0.9</td>\n",
       "      <td>2.1</td>\n",
       "      <td>4.1</td>\n",
       "      <td>5.8</td>\n",
       "      <td>5.5</td>\n",
       "      <td>5.5</td>\n",
       "      <td>33.7</td>\n",
       "    </tr>\n",
       "  </tbody>\n",
       "</table>\n",
       "<p>1 rows × 26 columns</p>\n",
       "</div>"
      ],
      "text/plain": [
       "                            respondents    category  \\\n",
       "timestamp                                             \n",
       "2017-08-29 23:10:06.218251         2662  IMDb users   \n",
       "\n",
       "                                                                   link  \\\n",
       "timestamp                                                                 \n",
       "2017-08-29 23:10:06.218251  http://www.imdb.com/title/tt6322922/ratings   \n",
       "\n",
       "                            average  mean  median  1_votes  2_votes  3_votes  \\\n",
       "timestamp                                                                      \n",
       "2017-08-29 23:10:06.218251      5.4   5.6       7     1021       69       38   \n",
       "\n",
       "                            4_votes  ...  1_pct  2_pct  3_pct  4_pct  5_pct  \\\n",
       "timestamp                            ...                                      \n",
       "2017-08-29 23:10:06.218251       25  ...   38.4    2.6    1.4    0.9    2.1   \n",
       "\n",
       "                            6_pct  7_pct  8_pct  9_pct  10_pct  \n",
       "timestamp                                                       \n",
       "2017-08-29 23:10:06.218251    4.1    5.8    5.5    5.5    33.7  \n",
       "\n",
       "[1 rows x 26 columns]"
      ]
     },
     "execution_count": 69,
     "metadata": {},
     "output_type": "execute_result"
    }
   ],
   "source": [
    "df = df.sort_index()\n",
    "df_imdb = df[df['category'] == 'IMDb users']\n",
    "final = df_imdb.tail(1)\n",
    "final"
   ]
  },
  {
   "cell_type": "code",
   "execution_count": 70,
   "metadata": {},
   "outputs": [
    {
     "data": {
      "text/html": [
       "<div>\n",
       "<style scoped>\n",
       "    .dataframe tbody tr th:only-of-type {\n",
       "        vertical-align: middle;\n",
       "    }\n",
       "\n",
       "    .dataframe tbody tr th {\n",
       "        vertical-align: top;\n",
       "    }\n",
       "\n",
       "    .dataframe thead th {\n",
       "        text-align: right;\n",
       "    }\n",
       "</style>\n",
       "<table border=\"1\" class=\"dataframe\">\n",
       "  <thead>\n",
       "    <tr style=\"text-align: right;\">\n",
       "      <th></th>\n",
       "      <th>1_pct</th>\n",
       "      <th>2_pct</th>\n",
       "      <th>3_pct</th>\n",
       "      <th>4_pct</th>\n",
       "      <th>5_pct</th>\n",
       "      <th>6_pct</th>\n",
       "      <th>7_pct</th>\n",
       "      <th>8_pct</th>\n",
       "      <th>9_pct</th>\n",
       "      <th>10_pct</th>\n",
       "    </tr>\n",
       "    <tr>\n",
       "      <th>timestamp</th>\n",
       "      <th></th>\n",
       "      <th></th>\n",
       "      <th></th>\n",
       "      <th></th>\n",
       "      <th></th>\n",
       "      <th></th>\n",
       "      <th></th>\n",
       "      <th></th>\n",
       "      <th></th>\n",
       "      <th></th>\n",
       "    </tr>\n",
       "  </thead>\n",
       "  <tbody>\n",
       "    <tr>\n",
       "      <th>2017-08-29 23:10:06.218251</th>\n",
       "      <td>38.4</td>\n",
       "      <td>2.6</td>\n",
       "      <td>1.4</td>\n",
       "      <td>0.9</td>\n",
       "      <td>2.1</td>\n",
       "      <td>4.1</td>\n",
       "      <td>5.8</td>\n",
       "      <td>5.5</td>\n",
       "      <td>5.5</td>\n",
       "      <td>33.7</td>\n",
       "    </tr>\n",
       "  </tbody>\n",
       "</table>\n",
       "</div>"
      ],
      "text/plain": [
       "                            1_pct  2_pct  3_pct  4_pct  5_pct  6_pct  7_pct  \\\n",
       "timestamp                                                                     \n",
       "2017-08-29 23:10:06.218251   38.4    2.6    1.4    0.9    2.1    4.1    5.8   \n",
       "\n",
       "                            8_pct  9_pct  10_pct  \n",
       "timestamp                                         \n",
       "2017-08-29 23:10:06.218251    5.5    5.5    33.7  "
      ]
     },
     "execution_count": 70,
     "metadata": {},
     "output_type": "execute_result"
    }
   ],
   "source": [
    "columns = ['1_pct', '2_pct', '3_pct', '4_pct', '5_pct',\n",
    "           '6_pct', '7_pct', '8_pct', '9_pct', '10_pct']\n",
    "final[columns]"
   ]
  },
  {
   "cell_type": "code",
   "execution_count": 71,
   "metadata": {},
   "outputs": [],
   "source": [
    "data = final[columns].T\n",
    "data.index = range(1, 11)"
   ]
  },
  {
   "cell_type": "code",
   "execution_count": 72,
   "metadata": {},
   "outputs": [
    {
     "data": {
      "image/png": "[encoded data removed]",
      "text/plain": [
       "<Figure size 432x288 with 1 Axes>"
      ]
     },
     "metadata": {},
     "output_type": "display_data"
    }
   ],
   "source": [
    "plt.style.use('fivethirtyeight')\n",
    "data.plot.bar(color='#ed713a', width=0.9, rot=0, legend=False);\n",
    "\n",
    "plt.text(x=-1, \n",
    "         y=50,\n",
    "         fontsize=16,\n",
    "         fontweight='bold',\n",
    "         s=\"'An Inconvenient Sequel: Truth To Power' is divisive'\")\n",
    "\n",
    "plt.text(x=-1, \n",
    "         y=45,\n",
    "         fontsize=16,\n",
    "         s=\"IMDb ratings for the film as of Aug. 29\")\n",
    "\n",
    "plt.xlabel('Rating')\n",
    "plt.ylabel('Percent of Total Votes')\n",
    "plt.yticks(range(0, 50, 10));"
   ]
  },
  {
   "cell_type": "markdown",
   "metadata": {
    "colab_type": "text",
    "id": "NMEswXWh9mqw"
   },
   "source": [
    "# ASSIGNMENT\n",
    "\n",
    "Replicate the lesson code. I recommend that you [do not copy-paste](https://docs.google.com/document/d/1ubOw9B3Hfip27hF2ZFnW3a3z9xAgrUDRReOEo-FHCVs/edit).\n",
    "\n",
    "# STRETCH OPTIONS\n",
    "\n",
    "#### Reproduce another example from [FiveThityEight's shared data repository](https://data.fivethirtyeight.com/).\n",
    "\n",
    "For example:\n",
    "- [thanksgiving-2015](https://fivethirtyeight.com/features/heres-what-your-part-of-america-eats-on-thanksgiving/) (try the [`altair`](https://altair-viz.github.io/gallery/index.html#maps) library)\n",
    "- [candy-power-ranking](https://fivethirtyeight.com/features/the-ultimate-halloween-candy-power-ranking/) (try the [`statsmodels`](https://www.statsmodels.org/stable/index.html) library)\n",
    "- or another example of your choice!\n",
    "\n",
    "#### Make more charts!\n",
    "\n",
    "Choose a chart you want to make, from [Visual Vocabulary - Vega Edition](http://ft.com/vocabulary).\n",
    "\n",
    "Find the chart in an example gallery of a Python data visualization library:\n",
    "- [Seaborn](http://seaborn.pydata.org/examples/index.html)\n",
    "- [Altair](https://altair-viz.github.io/gallery/index.html)\n",
    "- [Matplotlib](https://matplotlib.org/gallery.html)\n",
    "- [Pandas](https://pandas.pydata.org/pandas-docs/stable/visualization.html)\n",
    "\n",
    "Reproduce the chart. [Optionally, try the \"Ben Franklin Method.\"](https://docs.google.com/document/d/1ubOw9B3Hfip27hF2ZFnW3a3z9xAgrUDRReOEo-FHCVs/edit) If you want, experiment and make changes.\n",
    "\n",
    "Take notes. Consider sharing your work with your cohort!\n",
    "\n",
    "\n",
    "\n",
    "\n",
    "\n",
    "\n",
    "\n"
   ]
  },
  {
   "cell_type": "code",
   "execution_count": null,
   "metadata": {},
   "outputs": [],
   "source": []
  },
  {
   "cell_type": "code",
   "execution_count": null,
   "metadata": {},
   "outputs": [],
   "source": []
  },
  {
   "cell_type": "code",
   "execution_count": null,
   "metadata": {},
   "outputs": [],
   "source": []
  },
  {
   "cell_type": "code",
   "execution_count": null,
   "metadata": {},
   "outputs": [],
   "source": []
  },
  {
   "cell_type": "code",
   "execution_count": null,
   "metadata": {},
   "outputs": [],
   "source": []
  }
 ],
 "metadata": {
  "colab": {
   "collapsed_sections": [],
   "name": "LS_DS_123_Make_Explanatory_Visualizations.ipynb",
   "provenance": [],
   "version": "0.3.2"
  },
  "kernelspec": {
   "display_name": "Python 3",
   "language": "python",
   "name": "python3"
  },
  "language_info": {
   "codemirror_mode": {
    "name": "ipython",
    "version": 3
   },
   "file_extension": ".py",
   "mimetype": "text/x-python",
   "name": "python",
   "nbconvert_exporter": "python",
   "pygments_lexer": "ipython3",
   "version": "3.7.3"
  }
 },
 "nbformat": 4,
 "nbformat_minor": 1
}
