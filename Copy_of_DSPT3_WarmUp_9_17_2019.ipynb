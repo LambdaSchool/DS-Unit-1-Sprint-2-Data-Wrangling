{
  "nbformat": 4,
  "nbformat_minor": 0,
  "metadata": {
    "colab": {
      "name": "Copy_of_DSPT3_WarmUp_9_17_2019.ipynb",
      "provenance": [],
      "collapsed_sections": [],
      "include_colab_link": true
    },
    "kernelspec": {
      "name": "python3",
      "display_name": "Python 3"
    }
  },
  "cells": [
    {
      "cell_type": "markdown",
      "metadata": {
        "id": "view-in-github",
        "colab_type": "text"
      },
      "source": [
        "<a href=\"https://colab.research.google.com/github/bs3537/DS-Unit-1-Sprint-2-Data-Wrangling-and-Storytelling/blob/master/Copy_of_DSPT3_WarmUp_9_17_2019.ipynb\" target=\"_parent\"><img src=\"https://colab.research.google.com/assets/colab-badge.svg\" alt=\"Open In Colab\"/></a>"
      ]
    },
    {
      "cell_type": "markdown",
      "metadata": {
        "id": "vWT6tASmtLOl",
        "colab_type": "text"
      },
      "source": [
        "## Lambda School DSPT3 Code Challenge"
      ]
    },
    {
      "cell_type": "markdown",
      "metadata": {
        "id": "i77flwHAtXoH",
        "colab_type": "text"
      },
      "source": [
        "## Visualizing pair relationships in a cars dataset"
      ]
    },
    {
      "cell_type": "markdown",
      "metadata": {
        "id": "sEIjSITt3Fln",
        "colab_type": "text"
      },
      "source": [
        "                                                                                ."
      ]
    },
    {
      "cell_type": "code",
      "metadata": {
        "id": "rdnf8zIss92f",
        "colab_type": "code",
        "colab": {}
      },
      "source": [
        "#Import the data in pandas dataframe\n",
        "\n",
        "import pandas as pd\n",
        "df = pd.read_csv('https://raw.githubusercontent.com/ValerieLangat/CC-DSPT3/master/Cars%20-%20Sheet1.csv')"
      ],
      "execution_count": 0,
      "outputs": []
    },
    {
      "cell_type": "code",
      "metadata": {
        "id": "qQ4INNi75oXp",
        "colab_type": "code",
        "outputId": "521c092b-5239-4386-b39b-bd26969e7d6c",
        "colab": {
          "base_uri": "https://localhost:8080/",
          "height": 309
        }
      },
      "source": [
        "df.head()"
      ],
      "execution_count": 0,
      "outputs": [
        {
          "output_type": "execute_result",
          "data": {
            "text/html": [
              "<div>\n",
              "<style scoped>\n",
              "    .dataframe tbody tr th:only-of-type {\n",
              "        vertical-align: middle;\n",
              "    }\n",
              "\n",
              "    .dataframe tbody tr th {\n",
              "        vertical-align: top;\n",
              "    }\n",
              "\n",
              "    .dataframe thead th {\n",
              "        text-align: right;\n",
              "    }\n",
              "</style>\n",
              "<table border=\"1\" class=\"dataframe\">\n",
              "  <thead>\n",
              "    <tr style=\"text-align: right;\">\n",
              "      <th></th>\n",
              "      <th>Manufacturer</th>\n",
              "      <th>Model</th>\n",
              "      <th>Type</th>\n",
              "      <th>Min.Price</th>\n",
              "      <th>Price</th>\n",
              "      <th>Max.Price</th>\n",
              "      <th>MPG.city</th>\n",
              "      <th>MPG.highway</th>\n",
              "      <th>AirBags</th>\n",
              "      <th>DriveTrain</th>\n",
              "      <th>Cylinders</th>\n",
              "      <th>EngineSize</th>\n",
              "      <th>Horsepower</th>\n",
              "      <th>RPM</th>\n",
              "      <th>Rev.per.mile</th>\n",
              "      <th>Man.trans.avail</th>\n",
              "      <th>Fuel.tank.capacity</th>\n",
              "      <th>Passengers</th>\n",
              "      <th>Lenth</th>\n",
              "      <th>Wheelbase</th>\n",
              "      <th>Width</th>\n",
              "      <th>Turn.circle</th>\n",
              "      <th>Rear.seat.room</th>\n",
              "      <th>Luggage.room</th>\n",
              "      <th>Weight</th>\n",
              "      <th>Origin</th>\n",
              "      <th>Make</th>\n",
              "    </tr>\n",
              "  </thead>\n",
              "  <tbody>\n",
              "    <tr>\n",
              "      <th>0</th>\n",
              "      <td>Acura</td>\n",
              "      <td>Integra</td>\n",
              "      <td>Small</td>\n",
              "      <td>12.9</td>\n",
              "      <td>15.9</td>\n",
              "      <td>18.8</td>\n",
              "      <td>25</td>\n",
              "      <td>31</td>\n",
              "      <td>None</td>\n",
              "      <td>Front</td>\n",
              "      <td>4</td>\n",
              "      <td>1.8</td>\n",
              "      <td>140</td>\n",
              "      <td>6300</td>\n",
              "      <td>2890</td>\n",
              "      <td>Yes</td>\n",
              "      <td>13.2</td>\n",
              "      <td>5</td>\n",
              "      <td>177</td>\n",
              "      <td>102</td>\n",
              "      <td>68</td>\n",
              "      <td>37</td>\n",
              "      <td>26.5</td>\n",
              "      <td>11.0</td>\n",
              "      <td>2705</td>\n",
              "      <td>non-USA</td>\n",
              "      <td>Acura Integra</td>\n",
              "    </tr>\n",
              "    <tr>\n",
              "      <th>1</th>\n",
              "      <td>Acura</td>\n",
              "      <td>Legend</td>\n",
              "      <td>Midsize</td>\n",
              "      <td>29.2</td>\n",
              "      <td>33.9</td>\n",
              "      <td>38.7</td>\n",
              "      <td>18</td>\n",
              "      <td>25</td>\n",
              "      <td>Driver &amp; Passenger</td>\n",
              "      <td>Front</td>\n",
              "      <td>6</td>\n",
              "      <td>3.2</td>\n",
              "      <td>200</td>\n",
              "      <td>5500</td>\n",
              "      <td>2335</td>\n",
              "      <td>Yes</td>\n",
              "      <td>18.0</td>\n",
              "      <td>5</td>\n",
              "      <td>195</td>\n",
              "      <td>115</td>\n",
              "      <td>71</td>\n",
              "      <td>38</td>\n",
              "      <td>30.0</td>\n",
              "      <td>15.0</td>\n",
              "      <td>3560</td>\n",
              "      <td>non-USA</td>\n",
              "      <td>Acura Legend</td>\n",
              "    </tr>\n",
              "    <tr>\n",
              "      <th>2</th>\n",
              "      <td>Audi</td>\n",
              "      <td>90</td>\n",
              "      <td>Compact</td>\n",
              "      <td>25.9</td>\n",
              "      <td>29.1</td>\n",
              "      <td>32.3</td>\n",
              "      <td>20</td>\n",
              "      <td>26</td>\n",
              "      <td>Driver only</td>\n",
              "      <td>Front</td>\n",
              "      <td>6</td>\n",
              "      <td>2.8</td>\n",
              "      <td>172</td>\n",
              "      <td>5500</td>\n",
              "      <td>2280</td>\n",
              "      <td>Yes</td>\n",
              "      <td>16.9</td>\n",
              "      <td>5</td>\n",
              "      <td>180</td>\n",
              "      <td>102</td>\n",
              "      <td>67</td>\n",
              "      <td>37</td>\n",
              "      <td>28.0</td>\n",
              "      <td>14.0</td>\n",
              "      <td>3375</td>\n",
              "      <td>non-USA</td>\n",
              "      <td>Audi 90</td>\n",
              "    </tr>\n",
              "    <tr>\n",
              "      <th>3</th>\n",
              "      <td>Audi</td>\n",
              "      <td>100</td>\n",
              "      <td>Midsize</td>\n",
              "      <td>30.8</td>\n",
              "      <td>37.7</td>\n",
              "      <td>44.6</td>\n",
              "      <td>19</td>\n",
              "      <td>26</td>\n",
              "      <td>Driver &amp; Passenger</td>\n",
              "      <td>Front</td>\n",
              "      <td>6</td>\n",
              "      <td>2.8</td>\n",
              "      <td>172</td>\n",
              "      <td>5500</td>\n",
              "      <td>2535</td>\n",
              "      <td>Yes</td>\n",
              "      <td>21.1</td>\n",
              "      <td>6</td>\n",
              "      <td>193</td>\n",
              "      <td>106</td>\n",
              "      <td>70</td>\n",
              "      <td>37</td>\n",
              "      <td>31.0</td>\n",
              "      <td>17.0</td>\n",
              "      <td>3405</td>\n",
              "      <td>non-USA</td>\n",
              "      <td>Audi 100</td>\n",
              "    </tr>\n",
              "    <tr>\n",
              "      <th>4</th>\n",
              "      <td>BMW</td>\n",
              "      <td>535i</td>\n",
              "      <td>Midsize</td>\n",
              "      <td>23.7</td>\n",
              "      <td>30.0</td>\n",
              "      <td>36.2</td>\n",
              "      <td>22</td>\n",
              "      <td>30</td>\n",
              "      <td>Driver only</td>\n",
              "      <td>Rear</td>\n",
              "      <td>4</td>\n",
              "      <td>3.5</td>\n",
              "      <td>208</td>\n",
              "      <td>5700</td>\n",
              "      <td>2545</td>\n",
              "      <td>Yes</td>\n",
              "      <td>21.1</td>\n",
              "      <td>4</td>\n",
              "      <td>186</td>\n",
              "      <td>109</td>\n",
              "      <td>69</td>\n",
              "      <td>39</td>\n",
              "      <td>27.0</td>\n",
              "      <td>13.0</td>\n",
              "      <td>3640</td>\n",
              "      <td>non-USA</td>\n",
              "      <td>BMW 535i</td>\n",
              "    </tr>\n",
              "  </tbody>\n",
              "</table>\n",
              "</div>"
            ],
            "text/plain": [
              "  Manufacturer    Model     Type  ...  Weight   Origin           Make\n",
              "0        Acura  Integra    Small  ...    2705  non-USA  Acura Integra\n",
              "1        Acura   Legend  Midsize  ...    3560  non-USA   Acura Legend\n",
              "2         Audi       90  Compact  ...    3375  non-USA        Audi 90\n",
              "3         Audi      100  Midsize  ...    3405  non-USA       Audi 100\n",
              "4          BMW     535i  Midsize  ...    3640  non-USA       BMW 535i\n",
              "\n",
              "[5 rows x 27 columns]"
            ]
          },
          "metadata": {
            "tags": []
          },
          "execution_count": 5
        }
      ]
    },
    {
      "cell_type": "code",
      "metadata": {
        "id": "Ta4_S6uyazn5",
        "colab_type": "code",
        "outputId": "2fcb8752-764c-4204-a124-55b2edf918b3",
        "colab": {
          "base_uri": "https://localhost:8080/",
          "height": 34
        }
      },
      "source": [
        "#Finding number of rows and columns in data (shape)\n",
        "\n",
        "df.shape"
      ],
      "execution_count": 0,
      "outputs": [
        {
          "output_type": "execute_result",
          "data": {
            "text/plain": [
              "(93, 27)"
            ]
          },
          "metadata": {
            "tags": []
          },
          "execution_count": 6
        }
      ]
    },
    {
      "cell_type": "code",
      "metadata": {
        "id": "GiRYIkDR57jO",
        "colab_type": "code",
        "outputId": "55bdeb11-e272-45f0-b917-6fc7277a7b52",
        "colab": {
          "base_uri": "https://localhost:8080/",
          "height": 493
        }
      },
      "source": [
        "#Finding null value\n",
        "df.isna().sum()"
      ],
      "execution_count": 0,
      "outputs": [
        {
          "output_type": "execute_result",
          "data": {
            "text/plain": [
              "Manufacturer           0\n",
              "Model                  0\n",
              "Type                   0\n",
              "Min.Price              0\n",
              "Price                  0\n",
              "Max.Price              0\n",
              "MPG.city               0\n",
              "MPG.highway            0\n",
              "AirBags                0\n",
              "DriveTrain             0\n",
              "Cylinders              0\n",
              "EngineSize             0\n",
              "Horsepower             0\n",
              "RPM                    0\n",
              "Rev.per.mile           0\n",
              "Man.trans.avail        0\n",
              "Fuel.tank.capacity     0\n",
              "Passengers             0\n",
              "Lenth                  0\n",
              "Wheelbase              0\n",
              "Width                  0\n",
              "Turn.circle            0\n",
              "Rear.seat.room         2\n",
              "Luggage.room          11\n",
              "Weight                 0\n",
              "Origin                 0\n",
              "Make                   0\n",
              "dtype: int64"
            ]
          },
          "metadata": {
            "tags": []
          },
          "execution_count": 2
        }
      ]
    },
    {
      "cell_type": "code",
      "metadata": {
        "id": "aDvwTvF-uQdD",
        "colab_type": "code",
        "colab": {
          "base_uri": "https://localhost:8080/",
          "height": 317
        },
        "outputId": "5fc568fe-7ae1-4f5c-d14b-32541847211f"
      },
      "source": [
        "#Summary statistics\n",
        "df.describe()"
      ],
      "execution_count": 7,
      "outputs": [
        {
          "output_type": "execute_result",
          "data": {
            "text/html": [
              "<div>\n",
              "<style scoped>\n",
              "    .dataframe tbody tr th:only-of-type {\n",
              "        vertical-align: middle;\n",
              "    }\n",
              "\n",
              "    .dataframe tbody tr th {\n",
              "        vertical-align: top;\n",
              "    }\n",
              "\n",
              "    .dataframe thead th {\n",
              "        text-align: right;\n",
              "    }\n",
              "</style>\n",
              "<table border=\"1\" class=\"dataframe\">\n",
              "  <thead>\n",
              "    <tr style=\"text-align: right;\">\n",
              "      <th></th>\n",
              "      <th>Min.Price</th>\n",
              "      <th>Price</th>\n",
              "      <th>Max.Price</th>\n",
              "      <th>MPG.city</th>\n",
              "      <th>MPG.highway</th>\n",
              "      <th>EngineSize</th>\n",
              "      <th>Horsepower</th>\n",
              "      <th>RPM</th>\n",
              "      <th>Rev.per.mile</th>\n",
              "      <th>Fuel.tank.capacity</th>\n",
              "      <th>Passengers</th>\n",
              "      <th>Lenth</th>\n",
              "      <th>Wheelbase</th>\n",
              "      <th>Width</th>\n",
              "      <th>Turn.circle</th>\n",
              "      <th>Rear.seat.room</th>\n",
              "      <th>Luggage.room</th>\n",
              "      <th>Weight</th>\n",
              "    </tr>\n",
              "  </thead>\n",
              "  <tbody>\n",
              "    <tr>\n",
              "      <th>count</th>\n",
              "      <td>93.000000</td>\n",
              "      <td>93.000000</td>\n",
              "      <td>93.000000</td>\n",
              "      <td>93.000000</td>\n",
              "      <td>93.000000</td>\n",
              "      <td>93.000000</td>\n",
              "      <td>93.000000</td>\n",
              "      <td>93.000000</td>\n",
              "      <td>93.000000</td>\n",
              "      <td>93.000000</td>\n",
              "      <td>93.000000</td>\n",
              "      <td>93.000000</td>\n",
              "      <td>93.000000</td>\n",
              "      <td>93.000000</td>\n",
              "      <td>93.000000</td>\n",
              "      <td>91.000000</td>\n",
              "      <td>82.000000</td>\n",
              "      <td>93.000000</td>\n",
              "    </tr>\n",
              "    <tr>\n",
              "      <th>mean</th>\n",
              "      <td>17.125806</td>\n",
              "      <td>19.509677</td>\n",
              "      <td>21.898925</td>\n",
              "      <td>22.365591</td>\n",
              "      <td>29.086022</td>\n",
              "      <td>2.667742</td>\n",
              "      <td>143.827957</td>\n",
              "      <td>5280.645161</td>\n",
              "      <td>2332.204301</td>\n",
              "      <td>16.664516</td>\n",
              "      <td>5.086022</td>\n",
              "      <td>183.204301</td>\n",
              "      <td>103.946237</td>\n",
              "      <td>69.376344</td>\n",
              "      <td>38.956989</td>\n",
              "      <td>27.829670</td>\n",
              "      <td>13.890244</td>\n",
              "      <td>3072.903226</td>\n",
              "    </tr>\n",
              "    <tr>\n",
              "      <th>std</th>\n",
              "      <td>8.746029</td>\n",
              "      <td>9.659430</td>\n",
              "      <td>11.030457</td>\n",
              "      <td>5.619812</td>\n",
              "      <td>5.331726</td>\n",
              "      <td>1.037363</td>\n",
              "      <td>52.374410</td>\n",
              "      <td>596.731690</td>\n",
              "      <td>496.506525</td>\n",
              "      <td>3.279370</td>\n",
              "      <td>1.038979</td>\n",
              "      <td>14.602382</td>\n",
              "      <td>6.819674</td>\n",
              "      <td>3.778986</td>\n",
              "      <td>3.223265</td>\n",
              "      <td>2.989072</td>\n",
              "      <td>2.997967</td>\n",
              "      <td>589.896510</td>\n",
              "    </tr>\n",
              "    <tr>\n",
              "      <th>min</th>\n",
              "      <td>6.700000</td>\n",
              "      <td>7.400000</td>\n",
              "      <td>7.900000</td>\n",
              "      <td>15.000000</td>\n",
              "      <td>20.000000</td>\n",
              "      <td>1.000000</td>\n",
              "      <td>55.000000</td>\n",
              "      <td>3800.000000</td>\n",
              "      <td>1320.000000</td>\n",
              "      <td>9.200000</td>\n",
              "      <td>2.000000</td>\n",
              "      <td>141.000000</td>\n",
              "      <td>90.000000</td>\n",
              "      <td>60.000000</td>\n",
              "      <td>32.000000</td>\n",
              "      <td>19.000000</td>\n",
              "      <td>6.000000</td>\n",
              "      <td>1695.000000</td>\n",
              "    </tr>\n",
              "    <tr>\n",
              "      <th>25%</th>\n",
              "      <td>10.800000</td>\n",
              "      <td>12.200000</td>\n",
              "      <td>14.700000</td>\n",
              "      <td>18.000000</td>\n",
              "      <td>26.000000</td>\n",
              "      <td>1.800000</td>\n",
              "      <td>103.000000</td>\n",
              "      <td>4800.000000</td>\n",
              "      <td>1985.000000</td>\n",
              "      <td>14.500000</td>\n",
              "      <td>4.000000</td>\n",
              "      <td>174.000000</td>\n",
              "      <td>98.000000</td>\n",
              "      <td>67.000000</td>\n",
              "      <td>37.000000</td>\n",
              "      <td>26.000000</td>\n",
              "      <td>12.000000</td>\n",
              "      <td>2620.000000</td>\n",
              "    </tr>\n",
              "    <tr>\n",
              "      <th>50%</th>\n",
              "      <td>14.700000</td>\n",
              "      <td>17.700000</td>\n",
              "      <td>19.600000</td>\n",
              "      <td>21.000000</td>\n",
              "      <td>28.000000</td>\n",
              "      <td>2.400000</td>\n",
              "      <td>140.000000</td>\n",
              "      <td>5200.000000</td>\n",
              "      <td>2340.000000</td>\n",
              "      <td>16.400000</td>\n",
              "      <td>5.000000</td>\n",
              "      <td>183.000000</td>\n",
              "      <td>103.000000</td>\n",
              "      <td>69.000000</td>\n",
              "      <td>39.000000</td>\n",
              "      <td>27.500000</td>\n",
              "      <td>14.000000</td>\n",
              "      <td>3040.000000</td>\n",
              "    </tr>\n",
              "    <tr>\n",
              "      <th>75%</th>\n",
              "      <td>20.300000</td>\n",
              "      <td>23.300000</td>\n",
              "      <td>25.300000</td>\n",
              "      <td>25.000000</td>\n",
              "      <td>31.000000</td>\n",
              "      <td>3.300000</td>\n",
              "      <td>170.000000</td>\n",
              "      <td>5750.000000</td>\n",
              "      <td>2565.000000</td>\n",
              "      <td>18.800000</td>\n",
              "      <td>6.000000</td>\n",
              "      <td>192.000000</td>\n",
              "      <td>110.000000</td>\n",
              "      <td>72.000000</td>\n",
              "      <td>41.000000</td>\n",
              "      <td>30.000000</td>\n",
              "      <td>15.000000</td>\n",
              "      <td>3525.000000</td>\n",
              "    </tr>\n",
              "    <tr>\n",
              "      <th>max</th>\n",
              "      <td>45.400000</td>\n",
              "      <td>61.900000</td>\n",
              "      <td>80.000000</td>\n",
              "      <td>46.000000</td>\n",
              "      <td>50.000000</td>\n",
              "      <td>5.700000</td>\n",
              "      <td>300.000000</td>\n",
              "      <td>6500.000000</td>\n",
              "      <td>3755.000000</td>\n",
              "      <td>27.000000</td>\n",
              "      <td>8.000000</td>\n",
              "      <td>219.000000</td>\n",
              "      <td>119.000000</td>\n",
              "      <td>78.000000</td>\n",
              "      <td>45.000000</td>\n",
              "      <td>36.000000</td>\n",
              "      <td>22.000000</td>\n",
              "      <td>4105.000000</td>\n",
              "    </tr>\n",
              "  </tbody>\n",
              "</table>\n",
              "</div>"
            ],
            "text/plain": [
              "       Min.Price      Price  ...  Luggage.room       Weight\n",
              "count  93.000000  93.000000  ...     82.000000    93.000000\n",
              "mean   17.125806  19.509677  ...     13.890244  3072.903226\n",
              "std     8.746029   9.659430  ...      2.997967   589.896510\n",
              "min     6.700000   7.400000  ...      6.000000  1695.000000\n",
              "25%    10.800000  12.200000  ...     12.000000  2620.000000\n",
              "50%    14.700000  17.700000  ...     14.000000  3040.000000\n",
              "75%    20.300000  23.300000  ...     15.000000  3525.000000\n",
              "max    45.400000  61.900000  ...     22.000000  4105.000000\n",
              "\n",
              "[8 rows x 18 columns]"
            ]
          },
          "metadata": {
            "tags": []
          },
          "execution_count": 7
        }
      ]
    },
    {
      "cell_type": "markdown",
      "metadata": {
        "id": "nO6YNzmNtVJ0",
        "colab_type": "text"
      },
      "source": [
        "\n",
        "### Find the max and min values of the passengers column *without* using df.describe()"
      ]
    },
    {
      "cell_type": "code",
      "metadata": {
        "id": "l5kgchYeuVhB",
        "colab_type": "code",
        "outputId": "12e2b4fc-e2c3-4743-859b-d416f1833863",
        "colab": {
          "base_uri": "https://localhost:8080/",
          "height": 119
        }
      },
      "source": [
        "df2 = df['Passengers']\n",
        "df2.head()"
      ],
      "execution_count": 0,
      "outputs": [
        {
          "output_type": "execute_result",
          "data": {
            "text/plain": [
              "0    5\n",
              "1    5\n",
              "2    5\n",
              "3    6\n",
              "4    4\n",
              "Name: Passengers, dtype: int64"
            ]
          },
          "metadata": {
            "tags": []
          },
          "execution_count": 15
        }
      ]
    },
    {
      "cell_type": "code",
      "metadata": {
        "id": "7R4Y2mJk7Tsw",
        "colab_type": "code",
        "outputId": "13424a42-5c23-4076-ac34-74cff64976f4",
        "colab": {
          "base_uri": "https://localhost:8080/",
          "height": 34
        }
      },
      "source": [
        "#Finding maximum value\n",
        "df2.max()"
      ],
      "execution_count": 0,
      "outputs": [
        {
          "output_type": "execute_result",
          "data": {
            "text/plain": [
              "8"
            ]
          },
          "metadata": {
            "tags": []
          },
          "execution_count": 17
        }
      ]
    },
    {
      "cell_type": "code",
      "metadata": {
        "colab_type": "code",
        "outputId": "5eecc1ea-93ef-466a-8c81-6bfc7af214b9",
        "id": "xG-_h7F0uaeC",
        "colab": {
          "base_uri": "https://localhost:8080/",
          "height": 34
        }
      },
      "source": [
        "#Finding minimum value\n",
        "df2.min()"
      ],
      "execution_count": 0,
      "outputs": [
        {
          "output_type": "execute_result",
          "data": {
            "text/plain": [
              "2"
            ]
          },
          "metadata": {
            "tags": []
          },
          "execution_count": 19
        }
      ]
    },
    {
      "cell_type": "markdown",
      "metadata": {
        "id": "zWYKYgOIuV7D",
        "colab_type": "text"
      },
      "source": [
        "\n",
        "### Creating a pivot table."
      ]
    },
    {
      "cell_type": "code",
      "metadata": {
        "id": "p-7ldfFPBQj6",
        "colab_type": "code",
        "outputId": "8e5c4cd1-0347-492b-e877-b2970d3f6b13",
        "colab": {
          "base_uri": "https://localhost:8080/",
          "height": 266
        }
      },
      "source": [
        "# Pivot table by number of passengers\n",
        "pd.pivot_table(df,index=[\"Passengers\"])"
      ],
      "execution_count": 0,
      "outputs": [
        {
          "output_type": "execute_result",
          "data": {
            "text/html": [
              "<div>\n",
              "<style scoped>\n",
              "    .dataframe tbody tr th:only-of-type {\n",
              "        vertical-align: middle;\n",
              "    }\n",
              "\n",
              "    .dataframe tbody tr th {\n",
              "        vertical-align: top;\n",
              "    }\n",
              "\n",
              "    .dataframe thead th {\n",
              "        text-align: right;\n",
              "    }\n",
              "</style>\n",
              "<table border=\"1\" class=\"dataframe\">\n",
              "  <thead>\n",
              "    <tr style=\"text-align: right;\">\n",
              "      <th></th>\n",
              "      <th>EngineSize</th>\n",
              "      <th>Fuel.tank.capacity</th>\n",
              "      <th>Horsepower</th>\n",
              "      <th>Lenth</th>\n",
              "      <th>Luggage.room</th>\n",
              "      <th>MPG.city</th>\n",
              "      <th>MPG.highway</th>\n",
              "      <th>Max.Price</th>\n",
              "      <th>Min.Price</th>\n",
              "      <th>Price</th>\n",
              "      <th>RPM</th>\n",
              "      <th>Rear.seat.room</th>\n",
              "      <th>Rev.per.mile</th>\n",
              "      <th>Turn.circle</th>\n",
              "      <th>Weight</th>\n",
              "      <th>Wheelbase</th>\n",
              "      <th>Width</th>\n",
              "    </tr>\n",
              "    <tr>\n",
              "      <th>Passengers</th>\n",
              "      <th></th>\n",
              "      <th></th>\n",
              "      <th></th>\n",
              "      <th></th>\n",
              "      <th></th>\n",
              "      <th></th>\n",
              "      <th></th>\n",
              "      <th></th>\n",
              "      <th></th>\n",
              "      <th></th>\n",
              "      <th></th>\n",
              "      <th></th>\n",
              "      <th></th>\n",
              "      <th></th>\n",
              "      <th></th>\n",
              "      <th></th>\n",
              "      <th></th>\n",
              "    </tr>\n",
              "  </thead>\n",
              "  <tbody>\n",
              "    <tr>\n",
              "      <th>2</th>\n",
              "      <td>3.500000</td>\n",
              "      <td>20.000000</td>\n",
              "      <td>277.500000</td>\n",
              "      <td>174.000000</td>\n",
              "      <td>NaN</td>\n",
              "      <td>17.000000</td>\n",
              "      <td>25.000000</td>\n",
              "      <td>37.000000</td>\n",
              "      <td>33.550000</td>\n",
              "      <td>35.250000</td>\n",
              "      <td>5750.000000</td>\n",
              "      <td>NaN</td>\n",
              "      <td>1887.500000</td>\n",
              "      <td>40.000000</td>\n",
              "      <td>3137.500000</td>\n",
              "      <td>96.000000</td>\n",
              "      <td>71.500000</td>\n",
              "    </tr>\n",
              "    <tr>\n",
              "      <th>4</th>\n",
              "      <td>2.082609</td>\n",
              "      <td>14.482609</td>\n",
              "      <td>124.347826</td>\n",
              "      <td>171.434783</td>\n",
              "      <td>11.739130</td>\n",
              "      <td>26.565217</td>\n",
              "      <td>32.913043</td>\n",
              "      <td>17.743478</td>\n",
              "      <td>13.130435</td>\n",
              "      <td>15.434783</td>\n",
              "      <td>5460.869565</td>\n",
              "      <td>24.869565</td>\n",
              "      <td>2614.347826</td>\n",
              "      <td>37.173913</td>\n",
              "      <td>2666.521739</td>\n",
              "      <td>98.347826</td>\n",
              "      <td>67.173913</td>\n",
              "    </tr>\n",
              "    <tr>\n",
              "      <th>5</th>\n",
              "      <td>2.417073</td>\n",
              "      <td>16.043902</td>\n",
              "      <td>140.219512</td>\n",
              "      <td>182.487805</td>\n",
              "      <td>13.560976</td>\n",
              "      <td>22.804878</td>\n",
              "      <td>29.585366</td>\n",
              "      <td>22.195122</td>\n",
              "      <td>16.892683</td>\n",
              "      <td>19.546341</td>\n",
              "      <td>5487.804878</td>\n",
              "      <td>27.585366</td>\n",
              "      <td>2427.317073</td>\n",
              "      <td>38.073171</td>\n",
              "      <td>2944.878049</td>\n",
              "      <td>102.780488</td>\n",
              "      <td>68.170732</td>\n",
              "    </tr>\n",
              "    <tr>\n",
              "      <th>6</th>\n",
              "      <td>3.627778</td>\n",
              "      <td>18.355556</td>\n",
              "      <td>159.277778</td>\n",
              "      <td>199.666667</td>\n",
              "      <td>17.388889</td>\n",
              "      <td>19.277778</td>\n",
              "      <td>27.111111</td>\n",
              "      <td>24.788889</td>\n",
              "      <td>21.400000</td>\n",
              "      <td>23.088889</td>\n",
              "      <td>4794.444444</td>\n",
              "      <td>30.833333</td>\n",
              "      <td>1917.500000</td>\n",
              "      <td>41.722222</td>\n",
              "      <td>3497.777778</td>\n",
              "      <td>110.388889</td>\n",
              "      <td>72.777778</td>\n",
              "    </tr>\n",
              "    <tr>\n",
              "      <th>7</th>\n",
              "      <td>3.062500</td>\n",
              "      <td>20.187500</td>\n",
              "      <td>147.500000</td>\n",
              "      <td>184.625000</td>\n",
              "      <td>NaN</td>\n",
              "      <td>17.250000</td>\n",
              "      <td>22.125000</td>\n",
              "      <td>22.462500</td>\n",
              "      <td>16.387500</td>\n",
              "      <td>19.412500</td>\n",
              "      <td>4837.500000</td>\n",
              "      <td>30.125000</td>\n",
              "      <td>2145.625000</td>\n",
              "      <td>41.750000</td>\n",
              "      <td>3806.250000</td>\n",
              "      <td>112.625000</td>\n",
              "      <td>72.625000</td>\n",
              "    </tr>\n",
              "    <tr>\n",
              "      <th>8</th>\n",
              "      <td>4.300000</td>\n",
              "      <td>27.000000</td>\n",
              "      <td>165.000000</td>\n",
              "      <td>194.000000</td>\n",
              "      <td>NaN</td>\n",
              "      <td>15.000000</td>\n",
              "      <td>20.000000</td>\n",
              "      <td>18.600000</td>\n",
              "      <td>14.700000</td>\n",
              "      <td>16.600000</td>\n",
              "      <td>4000.000000</td>\n",
              "      <td>33.500000</td>\n",
              "      <td>1790.000000</td>\n",
              "      <td>42.000000</td>\n",
              "      <td>4025.000000</td>\n",
              "      <td>111.000000</td>\n",
              "      <td>78.000000</td>\n",
              "    </tr>\n",
              "  </tbody>\n",
              "</table>\n",
              "</div>"
            ],
            "text/plain": [
              "            EngineSize  Fuel.tank.capacity  ...   Wheelbase      Width\n",
              "Passengers                                  ...                       \n",
              "2             3.500000           20.000000  ...   96.000000  71.500000\n",
              "4             2.082609           14.482609  ...   98.347826  67.173913\n",
              "5             2.417073           16.043902  ...  102.780488  68.170732\n",
              "6             3.627778           18.355556  ...  110.388889  72.777778\n",
              "7             3.062500           20.187500  ...  112.625000  72.625000\n",
              "8             4.300000           27.000000  ...  111.000000  78.000000\n",
              "\n",
              "[6 rows x 17 columns]"
            ]
          },
          "metadata": {
            "tags": []
          },
          "execution_count": 42
        }
      ]
    },
    {
      "cell_type": "markdown",
      "metadata": {
        "id": "rF7kZk8L3ZOM",
        "colab_type": "text"
      },
      "source": [
        "                                                                      ."
      ]
    },
    {
      "cell_type": "markdown",
      "metadata": {
        "id": "reH5YSnLu0fR",
        "colab_type": "text"
      },
      "source": [
        "\n",
        "\n",
        "### What is the exact row and column number of the cell containing the highest reported Price? Please print that value.\n"
      ]
    },
    {
      "cell_type": "code",
      "metadata": {
        "id": "RtTgmlZ1-CoC",
        "colab_type": "code",
        "outputId": "3da3ea17-3cc6-4056-d56f-466a07505792",
        "colab": {
          "base_uri": "https://localhost:8080/",
          "height": 493
        }
      },
      "source": [
        "df.loc[df['Price'].idxmax()]"
      ],
      "execution_count": 0,
      "outputs": [
        {
          "output_type": "execute_result",
          "data": {
            "text/plain": [
              "Manufacturer               Mercedes-Benz\n",
              "Model                               300E\n",
              "Type                             Midsize\n",
              "Min.Price                           43.8\n",
              "Price                               61.9\n",
              "Max.Price                             80\n",
              "MPG.city                              19\n",
              "MPG.highway                           25\n",
              "AirBags               Driver & Passenger\n",
              "DriveTrain                          Rear\n",
              "Cylinders                              6\n",
              "EngineSize                           3.2\n",
              "Horsepower                           217\n",
              "RPM                                 5500\n",
              "Rev.per.mile                        2220\n",
              "Man.trans.avail                       No\n",
              "Fuel.tank.capacity                  18.5\n",
              "Passengers                             5\n",
              "Lenth                                187\n",
              "Wheelbase                            110\n",
              "Width                                 69\n",
              "Turn.circle                           37\n",
              "Rear.seat.room                        27\n",
              "Luggage.room                          15\n",
              "Weight                              3525\n",
              "Origin                           non-USA\n",
              "Make                  Mercedes-Benz 300E\n",
              "Name: 58, dtype: object"
            ]
          },
          "metadata": {
            "tags": []
          },
          "execution_count": 46
        }
      ]
    },
    {
      "cell_type": "markdown",
      "metadata": {
        "id": "re1CiYD_0KJm",
        "colab_type": "text"
      },
      "source": [
        "# Data Visualizations \n",
        "\n"
      ]
    },
    {
      "cell_type": "code",
      "metadata": {
        "id": "ip3q80DW0664",
        "colab_type": "code",
        "outputId": "91f9a805-03f9-4579-cecd-730c34c33c6f",
        "colab": {
          "base_uri": "https://localhost:8080/",
          "height": 320
        }
      },
      "source": [
        "#Using histogram function in matplotlib library\n",
        "df = pd.read_csv('https://raw.githubusercontent.com/ValerieLangat/CC-DSPT3/master/Cars%20-%20Sheet1.csv')\n",
        "import matplotlib.pyplot as plt\n",
        "import numpy as np\n",
        "%matplotlib inline\n",
        "x = df[\"Price\"]\n",
        "y = df[\"MPG.highway\"]\n",
        "plt.hist(x, normed=True, bins=30)\n",
        "plt.ylabel('MPG.highway');"
      ],
      "execution_count": 0,
      "outputs": [
        {
          "output_type": "stream",
          "text": [
            "/usr/local/lib/python3.6/dist-packages/matplotlib/axes/_axes.py:6521: MatplotlibDeprecationWarning: \n",
            "The 'normed' kwarg was deprecated in Matplotlib 2.1 and will be removed in 3.1. Use 'density' instead.\n",
            "  alternative=\"'density'\", removal=\"3.1\")\n"
          ],
          "name": "stderr"
        },
        {
          "output_type": "display_data",
          "data": {
            "image/png": "[encoded data removed]",
            "text/plain": [
              "<Figure size 432x288 with 1 Axes>"
            ]
          },
          "metadata": {
            "tags": []
          }
        }
      ]
    },
    {
      "cell_type": "markdown",
      "metadata": {
        "id": "EfGQx8UyutF7",
        "colab_type": "text"
      },
      "source": [
        "### Price has inverse correlation with MPG-Highway. More expensive cars have lower mileage at highway."
      ]
    },
    {
      "cell_type": "code",
      "metadata": {
        "id": "rXkLS1z2_ANQ",
        "colab_type": "code",
        "outputId": "a3c7cc69-b690-4036-dab9-283873a153e3",
        "colab": {
          "base_uri": "https://localhost:8080/",
          "height": 300
        }
      },
      "source": [
        "import matplotlib as plt\n",
        "import seaborn\n",
        "\n",
        "df.plot(x=\"Price\", y=\"MPG.highway\", color='g')"
      ],
      "execution_count": 0,
      "outputs": [
        {
          "output_type": "execute_result",
          "data": {
            "text/plain": [
              "<matplotlib.axes._subplots.AxesSubplot at 0x7f591ac28278>"
            ]
          },
          "metadata": {
            "tags": []
          },
          "execution_count": 12
        },
        {
          "output_type": "display_data",
          "data": {
            "image/png": "[encoded data removed]",
            "text/plain": [
              "<Figure size 432x288 with 1 Axes>"
            ]
          },
          "metadata": {
            "tags": []
          }
        }
      ]
    },
    {
      "cell_type": "markdown",
      "metadata": {
        "id": "OQggkluwuwgf",
        "colab_type": "text"
      },
      "source": [
        "### The output above suggests a similar relationship"
      ]
    },
    {
      "cell_type": "code",
      "metadata": {
        "id": "6RDMQXVnAcgz",
        "colab_type": "code",
        "outputId": "353d03a0-b76f-4f37-b58d-4b90b37d3eaa",
        "colab": {
          "base_uri": "https://localhost:8080/",
          "height": 300
        }
      },
      "source": [
        "df.plot(x=\"Price\", y=\"MPG.city\", color='r')"
      ],
      "execution_count": 0,
      "outputs": [
        {
          "output_type": "execute_result",
          "data": {
            "text/plain": [
              "<matplotlib.axes._subplots.AxesSubplot at 0x7f591ac51f98>"
            ]
          },
          "metadata": {
            "tags": []
          },
          "execution_count": 10
        },
        {
          "output_type": "display_data",
          "data": {
            "image/png": "[encoded data removed]",
            "text/plain": [
              "<Figure size 432x288 with 1 Axes>"
            ]
          },
          "metadata": {
            "tags": []
          }
        }
      ]
    },
    {
      "cell_type": "markdown",
      "metadata": {
        "id": "c-Vbv134uzo0",
        "colab_type": "text"
      },
      "source": [
        "###There appears a similar inverse relationship in Price and mileage in the city."
      ]
    }
  ]
}