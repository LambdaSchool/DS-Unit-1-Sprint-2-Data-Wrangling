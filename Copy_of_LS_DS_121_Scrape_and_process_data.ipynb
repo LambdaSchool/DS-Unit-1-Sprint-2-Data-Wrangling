{
  "nbformat": 4,
  "nbformat_minor": 0,
  "metadata": {
    "colab": {
      "name": "Copy of LS_DS_121_Scrape_and_process_data.ipynb",
      "version": "0.3.2",
      "provenance": [],
      "collapsed_sections": [],
      "include_colab_link": true
    },
    "kernelspec": {
      "display_name": "Python 3",
      "language": "python",
      "name": "python3"
    }
  },
  "cells": [
    {
      "cell_type": "markdown",
      "metadata": {
        "id": "view-in-github",
        "colab_type": "text"
      },
      "source": [
        "<a href=\"https://colab.research.google.com/github/danhorsley/DS-Unit-1-Sprint-2-Data-Wrangling/blob/master/Copy_of_LS_DS_121_Scrape_and_process_data.ipynb\" target=\"_parent\"><img src=\"https://colab.research.google.com/assets/colab-badge.svg\" alt=\"Open In Colab\"/></a>"
      ]
    },
    {
      "metadata": {
        "colab_type": "text",
        "id": "oR4Yeg3P07gu"
      },
      "cell_type": "markdown",
      "source": [
        "_Lambda School Data Science_\n",
        "\n",
        "# Scrape and process data\n",
        "\n",
        "Objectives\n",
        "- scrape and parse web pages\n",
        "- use list comprehensions\n",
        "- select rows and columns with pandas\n",
        "\n",
        "Links\n",
        "-  [Automate the Boring Stuff with Python, Chapter 11](https://automatetheboringstuff.com/chapter11/)\n",
        "  - Requests\n",
        "  - Beautiful Soup\n",
        "- [Python List Comprehensions: Explained Visually](https://treyhunner.com/2015/12/python-list-comprehensions-now-in-color/)\n",
        "- [Pandas Cheat Sheet](https://github.com/pandas-dev/pandas/blob/master/doc/cheatsheet/Pandas_Cheat_Sheet.pdf)\n",
        "  - Subset Observations (Rows)\n",
        "  - Subset Variables (Columns)\n",
        "- Python Data Science Handbook\n",
        "  - [Chapter 3.1](https://jakevdp.github.io/PythonDataScienceHandbook/03.01-introducing-pandas-objects.html), Introducing Pandas Objects\n",
        "  - [Chapter 3.2](https://jakevdp.github.io/PythonDataScienceHandbook/03.02-data-indexing-and-selection.html), Data Indexing and Selection\n"
      ]
    },
    {
      "metadata": {
        "colab_type": "text",
        "id": "I_NRVchqgGvM"
      },
      "cell_type": "markdown",
      "source": [
        "## Scrape the titles of PyCon 2019 talks"
      ]
    },
    {
      "metadata": {
        "colab_type": "code",
        "id": "3elw_8Nc7Tpe",
        "colab": {}
      },
      "cell_type": "code",
      "source": [
        "url = 'https://us.pycon.org/2019/schedule/talks/list/'"
      ],
      "execution_count": 0,
      "outputs": []
    },
    {
      "metadata": {
        "colab_type": "code",
        "id": "SFNsyjVsTU4b",
        "colab": {}
      },
      "cell_type": "code",
      "source": [
        "import bs4\n",
        "import requests\n",
        "result = requests.get(url)"
      ],
      "execution_count": 0,
      "outputs": []
    },
    {
      "metadata": {
        "id": "PfjrkE-roLgd",
        "colab_type": "code",
        "colab": {
          "base_uri": "https://localhost:8080/",
          "height": 34
        },
        "outputId": "cf4eac1e-5834-4f77-f2b3-995b8c0bd7eb"
      },
      "cell_type": "code",
      "source": [
        "type(result)"
      ],
      "execution_count": 8,
      "outputs": [
        {
          "output_type": "execute_result",
          "data": {
            "text/plain": [
              "requests.models.Response"
            ]
          },
          "metadata": {
            "tags": []
          },
          "execution_count": 8
        }
      ]
    },
    {
      "metadata": {
        "id": "-VBbmLwApAeg",
        "colab_type": "code",
        "colab": {}
      },
      "cell_type": "code",
      "source": [
        "soup = bs4.BeautifulSoup(result.text)"
      ],
      "execution_count": 0,
      "outputs": []
    },
    {
      "metadata": {
        "id": "idHxCaCZpZOl",
        "colab_type": "code",
        "colab": {
          "base_uri": "https://localhost:8080/",
          "height": 34
        },
        "outputId": "f705b536-de68-4700-c5b3-4e894cd5626c"
      },
      "cell_type": "code",
      "source": [
        "first = soup.select('h2')[0]\n",
        "first.text.strip()"
      ],
      "execution_count": 18,
      "outputs": [
        {
          "output_type": "execute_result",
          "data": {
            "text/plain": [
              "'5 Steps to Build Python Native GUI Widgets for BeeWare'"
            ]
          },
          "metadata": {
            "tags": []
          },
          "execution_count": 18
        }
      ]
    },
    {
      "metadata": {
        "id": "ApVosOHosWX-",
        "colab_type": "code",
        "colab": {
          "base_uri": "https://localhost:8080/",
          "height": 34
        },
        "outputId": "8c80c054-19e3-49de-f757-6c99b51a1036"
      },
      "cell_type": "code",
      "source": [
        "last = soup.select('h2')[-1]\n",
        "last.text.strip()"
      ],
      "execution_count": 22,
      "outputs": [
        {
          "output_type": "execute_result",
          "data": {
            "text/plain": [
              "\"Working with Time Zones: Everything You Wish You Didn't Need to Know\""
            ]
          },
          "metadata": {
            "tags": []
          },
          "execution_count": 22
        }
      ]
    },
    {
      "metadata": {
        "id": "a-QGMShaszTs",
        "colab_type": "code",
        "colab": {}
      },
      "cell_type": "code",
      "source": [
        "titles = []\n",
        "for tag in soup.select('h2'):\n",
        "  title = tag.text.strip()\n",
        "  titles.append(title)\n",
        "  \n"
      ],
      "execution_count": 0,
      "outputs": []
    },
    {
      "metadata": {
        "id": "ON8cqoZ6tdE7",
        "colab_type": "code",
        "colab": {
          "base_uri": "https://localhost:8080/",
          "height": 34
        },
        "outputId": "a7d10304-9e34-4793-f0cd-41d8dae23dde"
      },
      "cell_type": "code",
      "source": [
        "titles = [tag.text.strip() for tag in soup.select('h2')]\n",
        "len(titles)\n"
      ],
      "execution_count": 27,
      "outputs": [
        {
          "output_type": "execute_result",
          "data": {
            "text/plain": [
              "95"
            ]
          },
          "metadata": {
            "tags": []
          },
          "execution_count": 27
        }
      ]
    },
    {
      "metadata": {
        "colab_type": "text",
        "id": "vqkNgAzYpeK7"
      },
      "cell_type": "markdown",
      "source": [
        "## 5 ways to look at long titles\n",
        "\n",
        "Let's define a long title as greater than 80 characters"
      ]
    },
    {
      "metadata": {
        "colab_type": "text",
        "id": "N7tqeZh14Fws"
      },
      "cell_type": "markdown",
      "source": [
        "### 1. For Loop"
      ]
    },
    {
      "metadata": {
        "colab_type": "code",
        "id": "kKxs5tqDApuZ",
        "colab": {
          "base_uri": "https://localhost:8080/",
          "height": 151
        },
        "outputId": "0169bac2-8209-4765-fa27-30f50d8d9b5f"
      },
      "cell_type": "code",
      "source": [
        "long_titles = []\n",
        "for title in titles:\n",
        "  if len(title)>80:\n",
        "    long_titles.append(title)\n",
        "long_titles  "
      ],
      "execution_count": 29,
      "outputs": [
        {
          "output_type": "execute_result",
          "data": {
            "text/plain": [
              "['¡Escuincla babosa!: Creating a telenovela script in three Python deep learning frameworks',\n",
              " 'Getting started with Deep Learning: Using Keras & Numpy to detect voice disorders',\n",
              " 'How to engage Python contributors in the long term? Tech is easy, people are hard.',\n",
              " 'Lessons learned from building a community of Python users among thousands of analysts',\n",
              " 'Life Is Better Painted Black, or: How to Stop Worrying and Embrace Auto-Formatting',\n",
              " 'One Engineer, an API, and an MVP: Or, how I spent one hour improving hiring data at my company.',\n",
              " 'Put down the deep learning: When not to use neural networks and what to do instead',\n",
              " 'Thinking Inside the Box: How Python Helped Us Adapt to An Existing Data Ingestion Pipeline']"
            ]
          },
          "metadata": {
            "tags": []
          },
          "execution_count": 29
        }
      ]
    },
    {
      "metadata": {
        "colab_type": "text",
        "id": "I21jcEnK4IN7"
      },
      "cell_type": "markdown",
      "source": [
        "### 2. List Comprehension"
      ]
    },
    {
      "metadata": {
        "colab_type": "code",
        "id": "qaXe9UldAs3H",
        "colab": {
          "base_uri": "https://localhost:8080/",
          "height": 151
        },
        "outputId": "e4586b85-a3c1-44db-9132-4cbd62874236"
      },
      "cell_type": "code",
      "source": [
        "long_titles = [title for title in titles if len(title)>80 ]\n",
        "long_titles"
      ],
      "execution_count": 32,
      "outputs": [
        {
          "output_type": "execute_result",
          "data": {
            "text/plain": [
              "['¡Escuincla babosa!: Creating a telenovela script in three Python deep learning frameworks',\n",
              " 'Getting started with Deep Learning: Using Keras & Numpy to detect voice disorders',\n",
              " 'How to engage Python contributors in the long term? Tech is easy, people are hard.',\n",
              " 'Lessons learned from building a community of Python users among thousands of analysts',\n",
              " 'Life Is Better Painted Black, or: How to Stop Worrying and Embrace Auto-Formatting',\n",
              " 'One Engineer, an API, and an MVP: Or, how I spent one hour improving hiring data at my company.',\n",
              " 'Put down the deep learning: When not to use neural networks and what to do instead',\n",
              " 'Thinking Inside the Box: How Python Helped Us Adapt to An Existing Data Ingestion Pipeline']"
            ]
          },
          "metadata": {
            "tags": []
          },
          "execution_count": 32
        }
      ]
    },
    {
      "metadata": {
        "colab_type": "text",
        "id": "2kn8pxL-4yMG"
      },
      "cell_type": "markdown",
      "source": [
        "### 3. Filter with named function"
      ]
    },
    {
      "metadata": {
        "colab_type": "code",
        "id": "ywLqqFJNAvFm",
        "colab": {
          "base_uri": "https://localhost:8080/",
          "height": 34
        },
        "outputId": "18d411ff-a35a-48d9-b10c-5787a40530f6"
      },
      "cell_type": "code",
      "source": [
        "def long(title):\n",
        "  return len(title)>80\n",
        "\n",
        "long('¡Escuincla babosa!: Creating a telenovela script in three Python deep learning frameworks')"
      ],
      "execution_count": 33,
      "outputs": [
        {
          "output_type": "execute_result",
          "data": {
            "text/plain": [
              "True"
            ]
          },
          "metadata": {
            "tags": []
          },
          "execution_count": 33
        }
      ]
    },
    {
      "metadata": {
        "id": "bZ0cWoYnwItA",
        "colab_type": "code",
        "colab": {
          "base_uri": "https://localhost:8080/",
          "height": 151
        },
        "outputId": "eac1d2f4-57a8-4367-c8af-6f5669e97b7f"
      },
      "cell_type": "code",
      "source": [
        "list(filter(long, titles))"
      ],
      "execution_count": 35,
      "outputs": [
        {
          "output_type": "execute_result",
          "data": {
            "text/plain": [
              "['¡Escuincla babosa!: Creating a telenovela script in three Python deep learning frameworks',\n",
              " 'Getting started with Deep Learning: Using Keras & Numpy to detect voice disorders',\n",
              " 'How to engage Python contributors in the long term? Tech is easy, people are hard.',\n",
              " 'Lessons learned from building a community of Python users among thousands of analysts',\n",
              " 'Life Is Better Painted Black, or: How to Stop Worrying and Embrace Auto-Formatting',\n",
              " 'One Engineer, an API, and an MVP: Or, how I spent one hour improving hiring data at my company.',\n",
              " 'Put down the deep learning: When not to use neural networks and what to do instead',\n",
              " 'Thinking Inside the Box: How Python Helped Us Adapt to An Existing Data Ingestion Pipeline']"
            ]
          },
          "metadata": {
            "tags": []
          },
          "execution_count": 35
        }
      ]
    },
    {
      "metadata": {
        "colab_type": "text",
        "id": "IPIT6oXz40Q3"
      },
      "cell_type": "markdown",
      "source": [
        "### 4. Filter with anonymous function"
      ]
    },
    {
      "metadata": {
        "colab_type": "code",
        "id": "giIcFYkiAwiR",
        "colab": {
          "base_uri": "https://localhost:8080/",
          "height": 151
        },
        "outputId": "afe1fdfe-10d0-44f4-f1d2-a33c56d5706b"
      },
      "cell_type": "code",
      "source": [
        "list(filter(lambda t: len(t)>80, titles))"
      ],
      "execution_count": 36,
      "outputs": [
        {
          "output_type": "execute_result",
          "data": {
            "text/plain": [
              "['¡Escuincla babosa!: Creating a telenovela script in three Python deep learning frameworks',\n",
              " 'Getting started with Deep Learning: Using Keras & Numpy to detect voice disorders',\n",
              " 'How to engage Python contributors in the long term? Tech is easy, people are hard.',\n",
              " 'Lessons learned from building a community of Python users among thousands of analysts',\n",
              " 'Life Is Better Painted Black, or: How to Stop Worrying and Embrace Auto-Formatting',\n",
              " 'One Engineer, an API, and an MVP: Or, how I spent one hour improving hiring data at my company.',\n",
              " 'Put down the deep learning: When not to use neural networks and what to do instead',\n",
              " 'Thinking Inside the Box: How Python Helped Us Adapt to An Existing Data Ingestion Pipeline']"
            ]
          },
          "metadata": {
            "tags": []
          },
          "execution_count": 36
        }
      ]
    },
    {
      "metadata": {
        "colab_type": "text",
        "id": "qj8Yod8_45z4"
      },
      "cell_type": "markdown",
      "source": [
        "### 5. Pandas\n",
        "\n",
        "pandas documentation: [Working with Text Data](https://pandas.pydata.org/pandas-docs/stable/text.html)"
      ]
    },
    {
      "metadata": {
        "colab_type": "code",
        "id": "yRwPEHNcAzc_",
        "colab": {}
      },
      "cell_type": "code",
      "source": [
        "import pandas as pd\n",
        "pd.options.display.max_colwidth = 200\n"
      ],
      "execution_count": 0,
      "outputs": []
    },
    {
      "metadata": {
        "id": "w82kv5EQyC4u",
        "colab_type": "code",
        "colab": {
          "base_uri": "https://localhost:8080/",
          "height": 284
        },
        "outputId": "99ca1966-7a10-4590-a997-8e057750668b"
      },
      "cell_type": "code",
      "source": [
        "df = pd.DataFrame({'title' : titles})\n",
        "df[df['title'].str.len()>80]"
      ],
      "execution_count": 39,
      "outputs": [
        {
          "output_type": "execute_result",
          "data": {
            "text/html": [
              "<div>\n",
              "<style scoped>\n",
              "    .dataframe tbody tr th:only-of-type {\n",
              "        vertical-align: middle;\n",
              "    }\n",
              "\n",
              "    .dataframe tbody tr th {\n",
              "        vertical-align: top;\n",
              "    }\n",
              "\n",
              "    .dataframe thead th {\n",
              "        text-align: right;\n",
              "    }\n",
              "</style>\n",
              "<table border=\"1\" class=\"dataframe\">\n",
              "  <thead>\n",
              "    <tr style=\"text-align: right;\">\n",
              "      <th></th>\n",
              "      <th>title</th>\n",
              "    </tr>\n",
              "  </thead>\n",
              "  <tbody>\n",
              "    <tr>\n",
              "      <th>30</th>\n",
              "      <td>¡Escuincla babosa!: Creating a telenovela script in three Python deep learning frameworks</td>\n",
              "    </tr>\n",
              "    <tr>\n",
              "      <th>38</th>\n",
              "      <td>Getting started with Deep Learning: Using Keras &amp; Numpy to detect voice disorders</td>\n",
              "    </tr>\n",
              "    <tr>\n",
              "      <th>43</th>\n",
              "      <td>How to engage Python contributors in the long term? Tech is easy, people are hard.</td>\n",
              "    </tr>\n",
              "    <tr>\n",
              "      <th>48</th>\n",
              "      <td>Lessons learned from building a community of Python users among thousands of analysts</td>\n",
              "    </tr>\n",
              "    <tr>\n",
              "      <th>50</th>\n",
              "      <td>Life Is Better Painted Black, or: How to Stop Worrying and Embrace Auto-Formatting</td>\n",
              "    </tr>\n",
              "    <tr>\n",
              "      <th>60</th>\n",
              "      <td>One Engineer, an API, and an MVP: Or, how I spent one hour improving hiring data at my company.</td>\n",
              "    </tr>\n",
              "    <tr>\n",
              "      <th>66</th>\n",
              "      <td>Put down the deep learning: When not to use neural networks and what to do instead</td>\n",
              "    </tr>\n",
              "    <tr>\n",
              "      <th>84</th>\n",
              "      <td>Thinking Inside the Box: How Python Helped Us Adapt to An Existing Data Ingestion Pipeline</td>\n",
              "    </tr>\n",
              "  </tbody>\n",
              "</table>\n",
              "</div>"
            ],
            "text/plain": [
              "                                                                                              title\n",
              "30        ¡Escuincla babosa!: Creating a telenovela script in three Python deep learning frameworks\n",
              "38                Getting started with Deep Learning: Using Keras & Numpy to detect voice disorders\n",
              "43               How to engage Python contributors in the long term? Tech is easy, people are hard.\n",
              "48            Lessons learned from building a community of Python users among thousands of analysts\n",
              "50               Life Is Better Painted Black, or: How to Stop Worrying and Embrace Auto-Formatting\n",
              "60  One Engineer, an API, and an MVP: Or, how I spent one hour improving hiring data at my company.\n",
              "66               Put down the deep learning: When not to use neural networks and what to do instead\n",
              "84       Thinking Inside the Box: How Python Helped Us Adapt to An Existing Data Ingestion Pipeline"
            ]
          },
          "metadata": {
            "tags": []
          },
          "execution_count": 39
        }
      ]
    },
    {
      "metadata": {
        "colab_type": "text",
        "id": "8YaUZJvRp681"
      },
      "cell_type": "markdown",
      "source": [
        "## Make new dataframe columns\n",
        "\n",
        "pandas documentation: [apply](https://pandas.pydata.org/pandas-docs/stable/generated/pandas.Series.apply.html)"
      ]
    },
    {
      "metadata": {
        "colab_type": "code",
        "id": "DR_WZ-olA4-v",
        "colab": {}
      },
      "cell_type": "code",
      "source": [
        "df['title length']= df['title'].apply(len)\n"
      ],
      "execution_count": 0,
      "outputs": []
    },
    {
      "metadata": {
        "colab_type": "text",
        "id": "Ua74pMrGrsZR"
      },
      "cell_type": "markdown",
      "source": [
        "### title length"
      ]
    },
    {
      "metadata": {
        "colab_type": "code",
        "id": "p-Euz7tgA8Fd",
        "colab": {
          "base_uri": "https://localhost:8080/",
          "height": 168
        },
        "outputId": "39a1b1a0-9f1d-47be-bb8d-272796e3188f"
      },
      "cell_type": "code",
      "source": [
        "df.loc[df['title length']>80,'title length']"
      ],
      "execution_count": 43,
      "outputs": [
        {
          "output_type": "execute_result",
          "data": {
            "text/plain": [
              "30    89\n",
              "38    81\n",
              "43    82\n",
              "48    85\n",
              "50    82\n",
              "60    95\n",
              "66    82\n",
              "84    90\n",
              "Name: title length, dtype: int64"
            ]
          },
          "metadata": {
            "tags": []
          },
          "execution_count": 43
        }
      ]
    },
    {
      "metadata": {
        "colab_type": "text",
        "id": "OgsKArXPrz5n"
      },
      "cell_type": "markdown",
      "source": [
        "### long title"
      ]
    },
    {
      "metadata": {
        "colab_type": "code",
        "id": "b_WCRvvKA-IP",
        "colab": {
          "base_uri": "https://localhost:8080/",
          "height": 195
        },
        "outputId": "8f8e79de-c0a3-4eef-ba0b-8244298d9cf8"
      },
      "cell_type": "code",
      "source": [
        "df['long title'] = df['title length'] > 80\n",
        "df.head()"
      ],
      "execution_count": 45,
      "outputs": [
        {
          "output_type": "execute_result",
          "data": {
            "text/html": [
              "<div>\n",
              "<style scoped>\n",
              "    .dataframe tbody tr th:only-of-type {\n",
              "        vertical-align: middle;\n",
              "    }\n",
              "\n",
              "    .dataframe tbody tr th {\n",
              "        vertical-align: top;\n",
              "    }\n",
              "\n",
              "    .dataframe thead th {\n",
              "        text-align: right;\n",
              "    }\n",
              "</style>\n",
              "<table border=\"1\" class=\"dataframe\">\n",
              "  <thead>\n",
              "    <tr style=\"text-align: right;\">\n",
              "      <th></th>\n",
              "      <th>title</th>\n",
              "      <th>title length</th>\n",
              "      <th>long title</th>\n",
              "    </tr>\n",
              "  </thead>\n",
              "  <tbody>\n",
              "    <tr>\n",
              "      <th>0</th>\n",
              "      <td>5 Steps to Build Python Native GUI Widgets for BeeWare</td>\n",
              "      <td>54</td>\n",
              "      <td>False</td>\n",
              "    </tr>\n",
              "    <tr>\n",
              "      <th>1</th>\n",
              "      <td>8 things that happen at the dot:  Attribute Access &amp; Descriptors</td>\n",
              "      <td>64</td>\n",
              "      <td>False</td>\n",
              "    </tr>\n",
              "    <tr>\n",
              "      <th>2</th>\n",
              "      <td>Account Security Patterns: How Logged-In Are you?</td>\n",
              "      <td>49</td>\n",
              "      <td>False</td>\n",
              "    </tr>\n",
              "    <tr>\n",
              "      <th>3</th>\n",
              "      <td>Ace Your Technical Interview Using Python</td>\n",
              "      <td>41</td>\n",
              "      <td>False</td>\n",
              "    </tr>\n",
              "    <tr>\n",
              "      <th>4</th>\n",
              "      <td>Advanced asyncio: Solving Real-world Production Problems</td>\n",
              "      <td>56</td>\n",
              "      <td>False</td>\n",
              "    </tr>\n",
              "  </tbody>\n",
              "</table>\n",
              "</div>"
            ],
            "text/plain": [
              "                                                              title  \\\n",
              "0            5 Steps to Build Python Native GUI Widgets for BeeWare   \n",
              "1  8 things that happen at the dot:  Attribute Access & Descriptors   \n",
              "2                 Account Security Patterns: How Logged-In Are you?   \n",
              "3                         Ace Your Technical Interview Using Python   \n",
              "4          Advanced asyncio: Solving Real-world Production Problems   \n",
              "\n",
              "   title length  long title  \n",
              "0            54       False  \n",
              "1            64       False  \n",
              "2            49       False  \n",
              "3            41       False  \n",
              "4            56       False  "
            ]
          },
          "metadata": {
            "tags": []
          },
          "execution_count": 45
        }
      ]
    },
    {
      "metadata": {
        "id": "CElA2X0U4qzu",
        "colab_type": "code",
        "colab": {
          "base_uri": "https://localhost:8080/",
          "height": 284
        },
        "outputId": "edc59615-4639-4885-a353-f34d6797a7ff"
      },
      "cell_type": "code",
      "source": [
        "df[df['long title'] == True]\n",
        "#df[~df['long title']]"
      ],
      "execution_count": 50,
      "outputs": [
        {
          "output_type": "execute_result",
          "data": {
            "text/html": [
              "<div>\n",
              "<style scoped>\n",
              "    .dataframe tbody tr th:only-of-type {\n",
              "        vertical-align: middle;\n",
              "    }\n",
              "\n",
              "    .dataframe tbody tr th {\n",
              "        vertical-align: top;\n",
              "    }\n",
              "\n",
              "    .dataframe thead th {\n",
              "        text-align: right;\n",
              "    }\n",
              "</style>\n",
              "<table border=\"1\" class=\"dataframe\">\n",
              "  <thead>\n",
              "    <tr style=\"text-align: right;\">\n",
              "      <th></th>\n",
              "      <th>title</th>\n",
              "      <th>title length</th>\n",
              "      <th>long title</th>\n",
              "    </tr>\n",
              "  </thead>\n",
              "  <tbody>\n",
              "    <tr>\n",
              "      <th>30</th>\n",
              "      <td>¡Escuincla babosa!: Creating a telenovela script in three Python deep learning frameworks</td>\n",
              "      <td>89</td>\n",
              "      <td>True</td>\n",
              "    </tr>\n",
              "    <tr>\n",
              "      <th>38</th>\n",
              "      <td>Getting started with Deep Learning: Using Keras &amp; Numpy to detect voice disorders</td>\n",
              "      <td>81</td>\n",
              "      <td>True</td>\n",
              "    </tr>\n",
              "    <tr>\n",
              "      <th>43</th>\n",
              "      <td>How to engage Python contributors in the long term? Tech is easy, people are hard.</td>\n",
              "      <td>82</td>\n",
              "      <td>True</td>\n",
              "    </tr>\n",
              "    <tr>\n",
              "      <th>48</th>\n",
              "      <td>Lessons learned from building a community of Python users among thousands of analysts</td>\n",
              "      <td>85</td>\n",
              "      <td>True</td>\n",
              "    </tr>\n",
              "    <tr>\n",
              "      <th>50</th>\n",
              "      <td>Life Is Better Painted Black, or: How to Stop Worrying and Embrace Auto-Formatting</td>\n",
              "      <td>82</td>\n",
              "      <td>True</td>\n",
              "    </tr>\n",
              "    <tr>\n",
              "      <th>60</th>\n",
              "      <td>One Engineer, an API, and an MVP: Or, how I spent one hour improving hiring data at my company.</td>\n",
              "      <td>95</td>\n",
              "      <td>True</td>\n",
              "    </tr>\n",
              "    <tr>\n",
              "      <th>66</th>\n",
              "      <td>Put down the deep learning: When not to use neural networks and what to do instead</td>\n",
              "      <td>82</td>\n",
              "      <td>True</td>\n",
              "    </tr>\n",
              "    <tr>\n",
              "      <th>84</th>\n",
              "      <td>Thinking Inside the Box: How Python Helped Us Adapt to An Existing Data Ingestion Pipeline</td>\n",
              "      <td>90</td>\n",
              "      <td>True</td>\n",
              "    </tr>\n",
              "  </tbody>\n",
              "</table>\n",
              "</div>"
            ],
            "text/plain": [
              "                                                                                              title  \\\n",
              "30        ¡Escuincla babosa!: Creating a telenovela script in three Python deep learning frameworks   \n",
              "38                Getting started with Deep Learning: Using Keras & Numpy to detect voice disorders   \n",
              "43               How to engage Python contributors in the long term? Tech is easy, people are hard.   \n",
              "48            Lessons learned from building a community of Python users among thousands of analysts   \n",
              "50               Life Is Better Painted Black, or: How to Stop Worrying and Embrace Auto-Formatting   \n",
              "60  One Engineer, an API, and an MVP: Or, how I spent one hour improving hiring data at my company.   \n",
              "66               Put down the deep learning: When not to use neural networks and what to do instead   \n",
              "84       Thinking Inside the Box: How Python Helped Us Adapt to An Existing Data Ingestion Pipeline   \n",
              "\n",
              "    title length  long title  \n",
              "30            89        True  \n",
              "38            81        True  \n",
              "43            82        True  \n",
              "48            85        True  \n",
              "50            82        True  \n",
              "60            95        True  \n",
              "66            82        True  \n",
              "84            90        True  "
            ]
          },
          "metadata": {
            "tags": []
          },
          "execution_count": 50
        }
      ]
    },
    {
      "metadata": {
        "colab_type": "text",
        "id": "TonCXYPesUsT"
      },
      "cell_type": "markdown",
      "source": [
        "### first letter"
      ]
    },
    {
      "metadata": {
        "colab_type": "code",
        "id": "fhO4aABpBBgA",
        "colab": {
          "base_uri": "https://localhost:8080/",
          "height": 284
        },
        "outputId": "eb4bcbde-86d8-41f5-8d0e-b6a7b2e8ecb4"
      },
      "cell_type": "code",
      "source": [
        "df['first letter']=df['title'].str[0]\n",
        "df[df['first letter']=='P']"
      ],
      "execution_count": 54,
      "outputs": [
        {
          "output_type": "execute_result",
          "data": {
            "text/html": [
              "<div>\n",
              "<style scoped>\n",
              "    .dataframe tbody tr th:only-of-type {\n",
              "        vertical-align: middle;\n",
              "    }\n",
              "\n",
              "    .dataframe tbody tr th {\n",
              "        vertical-align: top;\n",
              "    }\n",
              "\n",
              "    .dataframe thead th {\n",
              "        text-align: right;\n",
              "    }\n",
              "</style>\n",
              "<table border=\"1\" class=\"dataframe\">\n",
              "  <thead>\n",
              "    <tr style=\"text-align: right;\">\n",
              "      <th></th>\n",
              "      <th>title</th>\n",
              "      <th>title length</th>\n",
              "      <th>long title</th>\n",
              "      <th>first letter</th>\n",
              "    </tr>\n",
              "  </thead>\n",
              "  <tbody>\n",
              "    <tr>\n",
              "      <th>61</th>\n",
              "      <td>Plan your next eclipse viewing with Jupyter and geopandas</td>\n",
              "      <td>57</td>\n",
              "      <td>False</td>\n",
              "      <td>P</td>\n",
              "    </tr>\n",
              "    <tr>\n",
              "      <th>62</th>\n",
              "      <td>Plugins: Adding Flexibility to Your Apps</td>\n",
              "      <td>40</td>\n",
              "      <td>False</td>\n",
              "      <td>P</td>\n",
              "    </tr>\n",
              "    <tr>\n",
              "      <th>63</th>\n",
              "      <td>Plug-n-Stream Player Piano: Signal Processing With Python</td>\n",
              "      <td>57</td>\n",
              "      <td>False</td>\n",
              "      <td>P</td>\n",
              "    </tr>\n",
              "    <tr>\n",
              "      <th>64</th>\n",
              "      <td>Practical decorators</td>\n",
              "      <td>20</td>\n",
              "      <td>False</td>\n",
              "      <td>P</td>\n",
              "    </tr>\n",
              "    <tr>\n",
              "      <th>65</th>\n",
              "      <td>Programmatic Notebooks with papermill</td>\n",
              "      <td>37</td>\n",
              "      <td>False</td>\n",
              "      <td>P</td>\n",
              "    </tr>\n",
              "    <tr>\n",
              "      <th>66</th>\n",
              "      <td>Put down the deep learning: When not to use neural networks and what to do instead</td>\n",
              "      <td>82</td>\n",
              "      <td>True</td>\n",
              "      <td>P</td>\n",
              "    </tr>\n",
              "    <tr>\n",
              "      <th>67</th>\n",
              "      <td>Python on Windows is Okay, Actually</td>\n",
              "      <td>35</td>\n",
              "      <td>False</td>\n",
              "      <td>P</td>\n",
              "    </tr>\n",
              "    <tr>\n",
              "      <th>68</th>\n",
              "      <td>Python Security Tools</td>\n",
              "      <td>21</td>\n",
              "      <td>False</td>\n",
              "      <td>P</td>\n",
              "    </tr>\n",
              "  </tbody>\n",
              "</table>\n",
              "</div>"
            ],
            "text/plain": [
              "                                                                                 title  \\\n",
              "61                           Plan your next eclipse viewing with Jupyter and geopandas   \n",
              "62                                            Plugins: Adding Flexibility to Your Apps   \n",
              "63                           Plug-n-Stream Player Piano: Signal Processing With Python   \n",
              "64                                                                Practical decorators   \n",
              "65                                               Programmatic Notebooks with papermill   \n",
              "66  Put down the deep learning: When not to use neural networks and what to do instead   \n",
              "67                                                 Python on Windows is Okay, Actually   \n",
              "68                                                               Python Security Tools   \n",
              "\n",
              "    title length  long title first letter  \n",
              "61            57       False            P  \n",
              "62            40       False            P  \n",
              "63            57       False            P  \n",
              "64            20       False            P  \n",
              "65            37       False            P  \n",
              "66            82        True            P  \n",
              "67            35       False            P  \n",
              "68            21       False            P  "
            ]
          },
          "metadata": {
            "tags": []
          },
          "execution_count": 54
        }
      ]
    },
    {
      "metadata": {
        "id": "FGAsdmvn7YSJ",
        "colab_type": "code",
        "colab": {
          "base_uri": "https://localhost:8080/",
          "height": 77
        },
        "outputId": "bd55ed57-9e29-49c9-da0c-e3410c0cdd1e"
      },
      "cell_type": "code",
      "source": [
        "'python is good'.startswith('p')\n",
        "df[df['title'].str.contains('neural')]"
      ],
      "execution_count": 58,
      "outputs": [
        {
          "output_type": "execute_result",
          "data": {
            "text/html": [
              "<div>\n",
              "<style scoped>\n",
              "    .dataframe tbody tr th:only-of-type {\n",
              "        vertical-align: middle;\n",
              "    }\n",
              "\n",
              "    .dataframe tbody tr th {\n",
              "        vertical-align: top;\n",
              "    }\n",
              "\n",
              "    .dataframe thead th {\n",
              "        text-align: right;\n",
              "    }\n",
              "</style>\n",
              "<table border=\"1\" class=\"dataframe\">\n",
              "  <thead>\n",
              "    <tr style=\"text-align: right;\">\n",
              "      <th></th>\n",
              "      <th>title</th>\n",
              "      <th>title length</th>\n",
              "      <th>long title</th>\n",
              "      <th>first letter</th>\n",
              "    </tr>\n",
              "  </thead>\n",
              "  <tbody>\n",
              "    <tr>\n",
              "      <th>66</th>\n",
              "      <td>Put down the deep learning: When not to use neural networks and what to do instead</td>\n",
              "      <td>82</td>\n",
              "      <td>True</td>\n",
              "      <td>P</td>\n",
              "    </tr>\n",
              "  </tbody>\n",
              "</table>\n",
              "</div>"
            ],
            "text/plain": [
              "                                                                                 title  \\\n",
              "66  Put down the deep learning: When not to use neural networks and what to do instead   \n",
              "\n",
              "    title length  long title first letter  \n",
              "66            82        True            P  "
            ]
          },
          "metadata": {
            "tags": []
          },
          "execution_count": 58
        }
      ]
    },
    {
      "metadata": {
        "colab_type": "text",
        "id": "Etz1XeLKs6DL"
      },
      "cell_type": "markdown",
      "source": [
        "### word count\n",
        "\n",
        "Using [`textstat`](https://github.com/shivam5992/textstat)"
      ]
    },
    {
      "metadata": {
        "colab_type": "code",
        "id": "GVIkRWchs4zR",
        "colab": {
          "base_uri": "https://localhost:8080/",
          "height": 168
        },
        "outputId": "b938fc80-cbeb-4c5c-8d72-28a3b6e878dd"
      },
      "cell_type": "code",
      "source": [
        "!pip install textstat"
      ],
      "execution_count": 59,
      "outputs": [
        {
          "output_type": "stream",
          "text": [
            "Collecting textstat\n",
            "  Downloading https://files.pythonhosted.org/packages/4c/92/95fe083fb083b69ff6c319451c60dbd0eaea09a14bb4252bdfec666bb821/textstat-0.5.5-py3-none-any.whl\n",
            "Collecting pyphen (from textstat)\n",
            "\u001b[?25l  Downloading https://files.pythonhosted.org/packages/15/82/08a3629dce8d1f3d91db843bb36d4d7db6b6269d5067259613a0d5c8a9db/Pyphen-0.9.5-py2.py3-none-any.whl (3.0MB)\n",
            "\u001b[K    100% |████████████████████████████████| 3.0MB 7.6MB/s \n",
            "\u001b[?25hCollecting repoze.lru (from textstat)\n",
            "  Downloading https://files.pythonhosted.org/packages/b0/30/6cc0c95f0b59ad4b3b9163bff7cdcf793cc96fac64cf398ff26271f5cf5e/repoze.lru-0.7-py3-none-any.whl\n",
            "Installing collected packages: pyphen, repoze.lru, textstat\n",
            "Successfully installed pyphen-0.9.5 repoze.lru-0.7 textstat-0.5.5\n"
          ],
          "name": "stdout"
        }
      ]
    },
    {
      "metadata": {
        "colab_type": "code",
        "id": "mY_M_MuaBFrF",
        "colab": {}
      },
      "cell_type": "code",
      "source": [
        "import textstat"
      ],
      "execution_count": 0,
      "outputs": []
    },
    {
      "metadata": {
        "id": "85wOUQyN9aT-",
        "colab_type": "code",
        "colab": {
          "base_uri": "https://localhost:8080/",
          "height": 195
        },
        "outputId": "22c3e4af-a34b-4909-a41d-d61cf7c6ac03"
      },
      "cell_type": "code",
      "source": [
        "df['title word count'] = df['title'].apply(textstat.lexicon_count)\n",
        "df.head()"
      ],
      "execution_count": 62,
      "outputs": [
        {
          "output_type": "execute_result",
          "data": {
            "text/html": [
              "<div>\n",
              "<style scoped>\n",
              "    .dataframe tbody tr th:only-of-type {\n",
              "        vertical-align: middle;\n",
              "    }\n",
              "\n",
              "    .dataframe tbody tr th {\n",
              "        vertical-align: top;\n",
              "    }\n",
              "\n",
              "    .dataframe thead th {\n",
              "        text-align: right;\n",
              "    }\n",
              "</style>\n",
              "<table border=\"1\" class=\"dataframe\">\n",
              "  <thead>\n",
              "    <tr style=\"text-align: right;\">\n",
              "      <th></th>\n",
              "      <th>title</th>\n",
              "      <th>title length</th>\n",
              "      <th>long title</th>\n",
              "      <th>first letter</th>\n",
              "      <th>title word count</th>\n",
              "    </tr>\n",
              "  </thead>\n",
              "  <tbody>\n",
              "    <tr>\n",
              "      <th>0</th>\n",
              "      <td>5 Steps to Build Python Native GUI Widgets for BeeWare</td>\n",
              "      <td>54</td>\n",
              "      <td>False</td>\n",
              "      <td>5</td>\n",
              "      <td>10</td>\n",
              "    </tr>\n",
              "    <tr>\n",
              "      <th>1</th>\n",
              "      <td>8 things that happen at the dot:  Attribute Access &amp; Descriptors</td>\n",
              "      <td>64</td>\n",
              "      <td>False</td>\n",
              "      <td>8</td>\n",
              "      <td>10</td>\n",
              "    </tr>\n",
              "    <tr>\n",
              "      <th>2</th>\n",
              "      <td>Account Security Patterns: How Logged-In Are you?</td>\n",
              "      <td>49</td>\n",
              "      <td>False</td>\n",
              "      <td>A</td>\n",
              "      <td>7</td>\n",
              "    </tr>\n",
              "    <tr>\n",
              "      <th>3</th>\n",
              "      <td>Ace Your Technical Interview Using Python</td>\n",
              "      <td>41</td>\n",
              "      <td>False</td>\n",
              "      <td>A</td>\n",
              "      <td>6</td>\n",
              "    </tr>\n",
              "    <tr>\n",
              "      <th>4</th>\n",
              "      <td>Advanced asyncio: Solving Real-world Production Problems</td>\n",
              "      <td>56</td>\n",
              "      <td>False</td>\n",
              "      <td>A</td>\n",
              "      <td>6</td>\n",
              "    </tr>\n",
              "  </tbody>\n",
              "</table>\n",
              "</div>"
            ],
            "text/plain": [
              "                                                              title  \\\n",
              "0            5 Steps to Build Python Native GUI Widgets for BeeWare   \n",
              "1  8 things that happen at the dot:  Attribute Access & Descriptors   \n",
              "2                 Account Security Patterns: How Logged-In Are you?   \n",
              "3                         Ace Your Technical Interview Using Python   \n",
              "4          Advanced asyncio: Solving Real-world Production Problems   \n",
              "\n",
              "   title length  long title first letter  title word count  \n",
              "0            54       False            5                10  \n",
              "1            64       False            8                10  \n",
              "2            49       False            A                 7  \n",
              "3            41       False            A                 6  \n",
              "4            56       False            A                 6  "
            ]
          },
          "metadata": {
            "tags": []
          },
          "execution_count": 62
        }
      ]
    },
    {
      "metadata": {
        "id": "lIPQnZvN9-J6",
        "colab_type": "code",
        "colab": {
          "base_uri": "https://localhost:8080/",
          "height": 136
        },
        "outputId": "f5cc567c-da0d-407b-f710-9ed29b7ca34b"
      },
      "cell_type": "code",
      "source": [
        "df[df['title word count']<= 3]"
      ],
      "execution_count": 63,
      "outputs": [
        {
          "output_type": "execute_result",
          "data": {
            "text/html": [
              "<div>\n",
              "<style scoped>\n",
              "    .dataframe tbody tr th:only-of-type {\n",
              "        vertical-align: middle;\n",
              "    }\n",
              "\n",
              "    .dataframe tbody tr th {\n",
              "        vertical-align: top;\n",
              "    }\n",
              "\n",
              "    .dataframe thead th {\n",
              "        text-align: right;\n",
              "    }\n",
              "</style>\n",
              "<table border=\"1\" class=\"dataframe\">\n",
              "  <thead>\n",
              "    <tr style=\"text-align: right;\">\n",
              "      <th></th>\n",
              "      <th>title</th>\n",
              "      <th>title length</th>\n",
              "      <th>long title</th>\n",
              "      <th>first letter</th>\n",
              "      <th>title word count</th>\n",
              "    </tr>\n",
              "  </thead>\n",
              "  <tbody>\n",
              "    <tr>\n",
              "      <th>56</th>\n",
              "      <td>Measuring Model Fairness</td>\n",
              "      <td>24</td>\n",
              "      <td>False</td>\n",
              "      <td>M</td>\n",
              "      <td>3</td>\n",
              "    </tr>\n",
              "    <tr>\n",
              "      <th>64</th>\n",
              "      <td>Practical decorators</td>\n",
              "      <td>20</td>\n",
              "      <td>False</td>\n",
              "      <td>P</td>\n",
              "      <td>2</td>\n",
              "    </tr>\n",
              "    <tr>\n",
              "      <th>68</th>\n",
              "      <td>Python Security Tools</td>\n",
              "      <td>21</td>\n",
              "      <td>False</td>\n",
              "      <td>P</td>\n",
              "      <td>3</td>\n",
              "    </tr>\n",
              "  </tbody>\n",
              "</table>\n",
              "</div>"
            ],
            "text/plain": [
              "                       title  title length  long title first letter  \\\n",
              "56  Measuring Model Fairness            24       False            M   \n",
              "64      Practical decorators            20       False            P   \n",
              "68     Python Security Tools            21       False            P   \n",
              "\n",
              "    title word count  \n",
              "56                 3  \n",
              "64                 2  \n",
              "68                 3  "
            ]
          },
          "metadata": {
            "tags": []
          },
          "execution_count": 63
        }
      ]
    },
    {
      "metadata": {
        "colab_type": "text",
        "id": "UN_7FABhwDqc"
      },
      "cell_type": "markdown",
      "source": [
        "## Rename column\n",
        "\n",
        "`title length` --> `title character count`\n",
        "\n",
        "pandas documentation: [rename](https://pandas.pydata.org/pandas-docs/stable/generated/pandas.DataFrame.rename.html)"
      ]
    },
    {
      "metadata": {
        "colab_type": "code",
        "id": "jvTif7sBBMpN",
        "colab": {
          "base_uri": "https://localhost:8080/",
          "height": 195
        },
        "outputId": "48a38dbf-bb5b-4dc0-8316-9d8b347f4421"
      },
      "cell_type": "code",
      "source": [
        "df = df.rename(columns = {'title length':'title character count'})\n",
        "df.head()"
      ],
      "execution_count": 66,
      "outputs": [
        {
          "output_type": "execute_result",
          "data": {
            "text/html": [
              "<div>\n",
              "<style scoped>\n",
              "    .dataframe tbody tr th:only-of-type {\n",
              "        vertical-align: middle;\n",
              "    }\n",
              "\n",
              "    .dataframe tbody tr th {\n",
              "        vertical-align: top;\n",
              "    }\n",
              "\n",
              "    .dataframe thead th {\n",
              "        text-align: right;\n",
              "    }\n",
              "</style>\n",
              "<table border=\"1\" class=\"dataframe\">\n",
              "  <thead>\n",
              "    <tr style=\"text-align: right;\">\n",
              "      <th></th>\n",
              "      <th>title</th>\n",
              "      <th>title character count</th>\n",
              "      <th>long title</th>\n",
              "      <th>first letter</th>\n",
              "      <th>title word count</th>\n",
              "    </tr>\n",
              "  </thead>\n",
              "  <tbody>\n",
              "    <tr>\n",
              "      <th>0</th>\n",
              "      <td>5 Steps to Build Python Native GUI Widgets for BeeWare</td>\n",
              "      <td>54</td>\n",
              "      <td>False</td>\n",
              "      <td>5</td>\n",
              "      <td>10</td>\n",
              "    </tr>\n",
              "    <tr>\n",
              "      <th>1</th>\n",
              "      <td>8 things that happen at the dot:  Attribute Access &amp; Descriptors</td>\n",
              "      <td>64</td>\n",
              "      <td>False</td>\n",
              "      <td>8</td>\n",
              "      <td>10</td>\n",
              "    </tr>\n",
              "    <tr>\n",
              "      <th>2</th>\n",
              "      <td>Account Security Patterns: How Logged-In Are you?</td>\n",
              "      <td>49</td>\n",
              "      <td>False</td>\n",
              "      <td>A</td>\n",
              "      <td>7</td>\n",
              "    </tr>\n",
              "    <tr>\n",
              "      <th>3</th>\n",
              "      <td>Ace Your Technical Interview Using Python</td>\n",
              "      <td>41</td>\n",
              "      <td>False</td>\n",
              "      <td>A</td>\n",
              "      <td>6</td>\n",
              "    </tr>\n",
              "    <tr>\n",
              "      <th>4</th>\n",
              "      <td>Advanced asyncio: Solving Real-world Production Problems</td>\n",
              "      <td>56</td>\n",
              "      <td>False</td>\n",
              "      <td>A</td>\n",
              "      <td>6</td>\n",
              "    </tr>\n",
              "  </tbody>\n",
              "</table>\n",
              "</div>"
            ],
            "text/plain": [
              "                                                              title  \\\n",
              "0            5 Steps to Build Python Native GUI Widgets for BeeWare   \n",
              "1  8 things that happen at the dot:  Attribute Access & Descriptors   \n",
              "2                 Account Security Patterns: How Logged-In Are you?   \n",
              "3                         Ace Your Technical Interview Using Python   \n",
              "4          Advanced asyncio: Solving Real-world Production Problems   \n",
              "\n",
              "   title character count  long title first letter  title word count  \n",
              "0                     54       False            5                10  \n",
              "1                     64       False            8                10  \n",
              "2                     49       False            A                 7  \n",
              "3                     41       False            A                 6  \n",
              "4                     56       False            A                 6  "
            ]
          },
          "metadata": {
            "tags": []
          },
          "execution_count": 66
        }
      ]
    },
    {
      "metadata": {
        "colab_type": "text",
        "id": "ca2pDtytr5tR"
      },
      "cell_type": "markdown",
      "source": [
        "## Analyze the dataframe"
      ]
    },
    {
      "metadata": {
        "colab_type": "text",
        "id": "AitNVDCFwWwc"
      },
      "cell_type": "markdown",
      "source": [
        "### Describe\n",
        "\n",
        "pandas documentation: [describe](https://pandas.pydata.org/pandas-docs/stable/generated/pandas.DataFrame.describe.html)"
      ]
    },
    {
      "metadata": {
        "colab_type": "code",
        "id": "yPo9RdxYBQ64",
        "colab": {
          "base_uri": "https://localhost:8080/",
          "height": 166
        },
        "outputId": "7c47dcb5-1b5c-44d8-e6ef-137d7fd28c6c"
      },
      "cell_type": "code",
      "source": [
        "#df.describe()\n",
        "#df.describe(include='all')\n",
        "df.describe(exclude = 'number')"
      ],
      "execution_count": 71,
      "outputs": [
        {
          "output_type": "execute_result",
          "data": {
            "text/html": [
              "<div>\n",
              "<style scoped>\n",
              "    .dataframe tbody tr th:only-of-type {\n",
              "        vertical-align: middle;\n",
              "    }\n",
              "\n",
              "    .dataframe tbody tr th {\n",
              "        vertical-align: top;\n",
              "    }\n",
              "\n",
              "    .dataframe thead th {\n",
              "        text-align: right;\n",
              "    }\n",
              "</style>\n",
              "<table border=\"1\" class=\"dataframe\">\n",
              "  <thead>\n",
              "    <tr style=\"text-align: right;\">\n",
              "      <th></th>\n",
              "      <th>title</th>\n",
              "      <th>long title</th>\n",
              "      <th>first letter</th>\n",
              "    </tr>\n",
              "  </thead>\n",
              "  <tbody>\n",
              "    <tr>\n",
              "      <th>count</th>\n",
              "      <td>95</td>\n",
              "      <td>95</td>\n",
              "      <td>95</td>\n",
              "    </tr>\n",
              "    <tr>\n",
              "      <th>unique</th>\n",
              "      <td>95</td>\n",
              "      <td>2</td>\n",
              "      <td>22</td>\n",
              "    </tr>\n",
              "    <tr>\n",
              "      <th>top</th>\n",
              "      <td>Floats are Friends: making the most of IEEE754.00000000000000002</td>\n",
              "      <td>False</td>\n",
              "      <td>T</td>\n",
              "    </tr>\n",
              "    <tr>\n",
              "      <th>freq</th>\n",
              "      <td>1</td>\n",
              "      <td>87</td>\n",
              "      <td>12</td>\n",
              "    </tr>\n",
              "  </tbody>\n",
              "</table>\n",
              "</div>"
            ],
            "text/plain": [
              "                                                                   title  \\\n",
              "count                                                                 95   \n",
              "unique                                                                95   \n",
              "top     Floats are Friends: making the most of IEEE754.00000000000000002   \n",
              "freq                                                                   1   \n",
              "\n",
              "       long title first letter  \n",
              "count          95           95  \n",
              "unique          2           22  \n",
              "top         False            T  \n",
              "freq           87           12  "
            ]
          },
          "metadata": {
            "tags": []
          },
          "execution_count": 71
        }
      ]
    },
    {
      "metadata": {
        "colab_type": "text",
        "id": "T0lc_o-xyjZU"
      },
      "cell_type": "markdown",
      "source": [
        "### Sort values\n",
        "\n",
        "pandas documentation: [sort_values](https://pandas.pydata.org/pandas-docs/stable/generated/pandas.DataFrame.sort_values.html)"
      ]
    },
    {
      "metadata": {
        "colab_type": "text",
        "id": "kxE2swJ9-cG_"
      },
      "cell_type": "markdown",
      "source": [
        "Five shortest titles, by character count"
      ]
    },
    {
      "metadata": {
        "colab_type": "code",
        "id": "7t8DlpLhBVQa",
        "colab": {
          "base_uri": "https://localhost:8080/",
          "height": 195
        },
        "outputId": "a7f895ab-5b47-4356-ad80-191937e59f6d"
      },
      "cell_type": "code",
      "source": [
        "df.sort_values(by='title character count').head(5)"
      ],
      "execution_count": 73,
      "outputs": [
        {
          "output_type": "execute_result",
          "data": {
            "text/html": [
              "<div>\n",
              "<style scoped>\n",
              "    .dataframe tbody tr th:only-of-type {\n",
              "        vertical-align: middle;\n",
              "    }\n",
              "\n",
              "    .dataframe tbody tr th {\n",
              "        vertical-align: top;\n",
              "    }\n",
              "\n",
              "    .dataframe thead th {\n",
              "        text-align: right;\n",
              "    }\n",
              "</style>\n",
              "<table border=\"1\" class=\"dataframe\">\n",
              "  <thead>\n",
              "    <tr style=\"text-align: right;\">\n",
              "      <th></th>\n",
              "      <th>title</th>\n",
              "      <th>title character count</th>\n",
              "      <th>long title</th>\n",
              "      <th>first letter</th>\n",
              "      <th>title word count</th>\n",
              "    </tr>\n",
              "  </thead>\n",
              "  <tbody>\n",
              "    <tr>\n",
              "      <th>64</th>\n",
              "      <td>Practical decorators</td>\n",
              "      <td>20</td>\n",
              "      <td>False</td>\n",
              "      <td>P</td>\n",
              "      <td>2</td>\n",
              "    </tr>\n",
              "    <tr>\n",
              "      <th>68</th>\n",
              "      <td>Python Security Tools</td>\n",
              "      <td>21</td>\n",
              "      <td>False</td>\n",
              "      <td>P</td>\n",
              "      <td>3</td>\n",
              "    </tr>\n",
              "    <tr>\n",
              "      <th>89</th>\n",
              "      <td>Type hinting (and mypy)</td>\n",
              "      <td>23</td>\n",
              "      <td>False</td>\n",
              "      <td>T</td>\n",
              "      <td>4</td>\n",
              "    </tr>\n",
              "    <tr>\n",
              "      <th>82</th>\n",
              "      <td>The Zen of Python Teams</td>\n",
              "      <td>23</td>\n",
              "      <td>False</td>\n",
              "      <td>T</td>\n",
              "      <td>5</td>\n",
              "    </tr>\n",
              "    <tr>\n",
              "      <th>56</th>\n",
              "      <td>Measuring Model Fairness</td>\n",
              "      <td>24</td>\n",
              "      <td>False</td>\n",
              "      <td>M</td>\n",
              "      <td>3</td>\n",
              "    </tr>\n",
              "  </tbody>\n",
              "</table>\n",
              "</div>"
            ],
            "text/plain": [
              "                       title  title character count  long title first letter  \\\n",
              "64      Practical decorators                     20       False            P   \n",
              "68     Python Security Tools                     21       False            P   \n",
              "89   Type hinting (and mypy)                     23       False            T   \n",
              "82   The Zen of Python Teams                     23       False            T   \n",
              "56  Measuring Model Fairness                     24       False            M   \n",
              "\n",
              "    title word count  \n",
              "64                 2  \n",
              "68                 3  \n",
              "89                 4  \n",
              "82                 5  \n",
              "56                 3  "
            ]
          },
          "metadata": {
            "tags": []
          },
          "execution_count": 73
        }
      ]
    },
    {
      "metadata": {
        "colab_type": "text",
        "id": "NOEH4Ef5-kvo"
      },
      "cell_type": "markdown",
      "source": [
        "Titles sorted reverse alphabetically"
      ]
    },
    {
      "metadata": {
        "colab_type": "code",
        "id": "WkymeWDjBV8X",
        "colab": {
          "base_uri": "https://localhost:8080/",
          "height": 195
        },
        "outputId": "3e10ea42-4b42-42bf-c6f7-46c8dea6f510"
      },
      "cell_type": "code",
      "source": [
        "df.sort_values(by='first letter', ascending = False).head(5)"
      ],
      "execution_count": 74,
      "outputs": [
        {
          "output_type": "execute_result",
          "data": {
            "text/html": [
              "<div>\n",
              "<style scoped>\n",
              "    .dataframe tbody tr th:only-of-type {\n",
              "        vertical-align: middle;\n",
              "    }\n",
              "\n",
              "    .dataframe tbody tr th {\n",
              "        vertical-align: top;\n",
              "    }\n",
              "\n",
              "    .dataframe thead th {\n",
              "        text-align: right;\n",
              "    }\n",
              "</style>\n",
              "<table border=\"1\" class=\"dataframe\">\n",
              "  <thead>\n",
              "    <tr style=\"text-align: right;\">\n",
              "      <th></th>\n",
              "      <th>title</th>\n",
              "      <th>title character count</th>\n",
              "      <th>long title</th>\n",
              "      <th>first letter</th>\n",
              "      <th>title word count</th>\n",
              "    </tr>\n",
              "  </thead>\n",
              "  <tbody>\n",
              "    <tr>\n",
              "      <th>30</th>\n",
              "      <td>¡Escuincla babosa!: Creating a telenovela script in three Python deep learning frameworks</td>\n",
              "      <td>89</td>\n",
              "      <td>True</td>\n",
              "      <td>¡</td>\n",
              "      <td>12</td>\n",
              "    </tr>\n",
              "    <tr>\n",
              "      <th>88</th>\n",
              "      <td>to GIL or not to GIL: the Future of Multi-Core (C)Python</td>\n",
              "      <td>56</td>\n",
              "      <td>False</td>\n",
              "      <td>t</td>\n",
              "      <td>11</td>\n",
              "    </tr>\n",
              "    <tr>\n",
              "      <th>94</th>\n",
              "      <td>Working with Time Zones: Everything You Wish You Didn't Need to Know</td>\n",
              "      <td>68</td>\n",
              "      <td>False</td>\n",
              "      <td>W</td>\n",
              "      <td>12</td>\n",
              "    </tr>\n",
              "    <tr>\n",
              "      <th>93</th>\n",
              "      <td>Wily Python: Writing simpler and more maintainable Python</td>\n",
              "      <td>57</td>\n",
              "      <td>False</td>\n",
              "      <td>W</td>\n",
              "      <td>8</td>\n",
              "    </tr>\n",
              "    <tr>\n",
              "      <th>92</th>\n",
              "      <td>What's new in Python 3.7</td>\n",
              "      <td>24</td>\n",
              "      <td>False</td>\n",
              "      <td>W</td>\n",
              "      <td>5</td>\n",
              "    </tr>\n",
              "  </tbody>\n",
              "</table>\n",
              "</div>"
            ],
            "text/plain": [
              "                                                                                        title  \\\n",
              "30  ¡Escuincla babosa!: Creating a telenovela script in three Python deep learning frameworks   \n",
              "88                                   to GIL or not to GIL: the Future of Multi-Core (C)Python   \n",
              "94                       Working with Time Zones: Everything You Wish You Didn't Need to Know   \n",
              "93                                  Wily Python: Writing simpler and more maintainable Python   \n",
              "92                                                                   What's new in Python 3.7   \n",
              "\n",
              "    title character count  long title first letter  title word count  \n",
              "30                     89        True            ¡                12  \n",
              "88                     56       False            t                11  \n",
              "94                     68       False            W                12  \n",
              "93                     57       False            W                 8  \n",
              "92                     24       False            W                 5  "
            ]
          },
          "metadata": {
            "tags": []
          },
          "execution_count": 74
        }
      ]
    },
    {
      "metadata": {
        "colab_type": "text",
        "id": "e4wr42FB0GV-"
      },
      "cell_type": "markdown",
      "source": [
        "### Get value counts\n",
        "\n",
        "pandas documentation: [value_counts](https://pandas.pydata.org/pandas-docs/stable/generated/pandas.Series.value_counts.html)\n"
      ]
    },
    {
      "metadata": {
        "colab_type": "text",
        "id": "D81LNGaI-6ya"
      },
      "cell_type": "markdown",
      "source": [
        "Frequency counts of first letters"
      ]
    },
    {
      "metadata": {
        "colab_type": "code",
        "id": "AdTQYsRKBZio",
        "colab": {
          "base_uri": "https://localhost:8080/",
          "height": 403
        },
        "outputId": "2315147e-a1b2-4900-eb1a-6dfe2de407a3"
      },
      "cell_type": "code",
      "source": [
        "df['first letter'].value_counts()"
      ],
      "execution_count": 75,
      "outputs": [
        {
          "output_type": "execute_result",
          "data": {
            "text/plain": [
              "T    12\n",
              "A    11\n",
              "P     8\n",
              "M     8\n",
              "E     7\n",
              "S     6\n",
              "B     6\n",
              "H     5\n",
              "G     4\n",
              "D     4\n",
              "L     4\n",
              "W     4\n",
              "F     3\n",
              "C     3\n",
              "R     2\n",
              "I     2\n",
              "O     1\n",
              "t     1\n",
              "5     1\n",
              "U     1\n",
              "8     1\n",
              "¡     1\n",
              "Name: first letter, dtype: int64"
            ]
          },
          "metadata": {
            "tags": []
          },
          "execution_count": 75
        }
      ]
    },
    {
      "metadata": {
        "colab_type": "text",
        "id": "04NVokvTAwqK"
      },
      "cell_type": "markdown",
      "source": [
        "Percentage of talks with long titles"
      ]
    },
    {
      "metadata": {
        "colab_type": "code",
        "id": "uS8qp4hrBat6",
        "colab": {
          "base_uri": "https://localhost:8080/",
          "height": 67
        },
        "outputId": "ec8534db-4936-4e23-e4ab-054bf8a6eb26"
      },
      "cell_type": "code",
      "source": [
        "#df['long title'].value_counts() / len(df)\n",
        "df['long title'].value_counts(normalize = True)"
      ],
      "execution_count": 78,
      "outputs": [
        {
          "output_type": "execute_result",
          "data": {
            "text/plain": [
              "False    0.915789\n",
              "True     0.084211\n",
              "Name: long title, dtype: float64"
            ]
          },
          "metadata": {
            "tags": []
          },
          "execution_count": 78
        }
      ]
    },
    {
      "metadata": {
        "colab_type": "text",
        "id": "mmYZL2QL0lgd"
      },
      "cell_type": "markdown",
      "source": [
        "### Plot\n",
        "\n",
        "pandas documentation: [Visualization](https://pandas.pydata.org/pandas-docs/stable/visualization.html)\n",
        "\n",
        "\n",
        "\n"
      ]
    },
    {
      "metadata": {
        "colab_type": "text",
        "id": "c6gCotA9_B68"
      },
      "cell_type": "markdown",
      "source": [
        "Top 5 most frequent first letters"
      ]
    },
    {
      "metadata": {
        "colab_type": "code",
        "id": "DUmcVcdXBdkw",
        "colab": {
          "base_uri": "https://localhost:8080/",
          "height": 280
        },
        "outputId": "8d3727e7-61c9-4bc1-9d03-b8f271f358d9"
      },
      "cell_type": "code",
      "source": [
        "% matplotlib inline\n",
        "(df['first letter']\n",
        " .value_counts()\n",
        " .head(5)\n",
        ".plot.barh(color = 'grey', title = 'hjhjhj'));"
      ],
      "execution_count": 91,
      "outputs": [
        {
          "output_type": "display_data",
          "data": {
            "image/png": "[encoded data removed]",
            "text/plain": [
              "<Figure size 432x288 with 1 Axes>"
            ]
          },
          "metadata": {
            "tags": []
          }
        }
      ]
    },
    {
      "metadata": {
        "colab_type": "text",
        "id": "_Ngegk0bASty"
      },
      "cell_type": "markdown",
      "source": [
        "Histogram of title lengths, in characters"
      ]
    },
    {
      "metadata": {
        "colab_type": "code",
        "id": "y5oLu2D4BeKw",
        "colab": {
          "base_uri": "https://localhost:8080/",
          "height": 297
        },
        "outputId": "235201b0-6e4e-48a2-dc34-c744c1ff967c"
      },
      "cell_type": "code",
      "source": [
        "title = 'tiiihidhifhihgi'\n",
        "df['title character count'].plot.hist(title =title)"
      ],
      "execution_count": 86,
      "outputs": [
        {
          "output_type": "execute_result",
          "data": {
            "text/plain": [
              "<matplotlib.axes._subplots.AxesSubplot at 0x7fd6876f7c50>"
            ]
          },
          "metadata": {
            "tags": []
          },
          "execution_count": 86
        },
        {
          "output_type": "display_data",
          "data": {
            "image/png": "[encoded data removed]",
            "text/plain": [
              "<Figure size 432x288 with 1 Axes>"
            ]
          },
          "metadata": {
            "tags": []
          }
        }
      ]
    },
    {
      "metadata": {
        "colab_type": "text",
        "id": "DiylH7LQw44u"
      },
      "cell_type": "markdown",
      "source": [
        "# Assignment\n",
        "\n",
        "**Scrape** the talk descriptions. Hint: `soup.select('.presentation-description')`\n",
        "\n",
        "**Make** new columns in the dataframe:\n",
        "- description\n",
        "- description character count\n",
        "- description word count\n",
        "\n",
        "**Describe** all the dataframe's columns. What's the average description word count? The minimum? The maximum?\n",
        "\n",
        "**Answer** the question: Which descriptions could fit in a tweet?\n",
        "\n",
        "\n",
        "# Stretch Challenge\n",
        "\n",
        "**Make** another new column in the dataframe:\n",
        "- description grade level (you can use [this `textstat` function](https://github.com/shivam5992/textstat#the-flesch-kincaid-grade-level) to get the Flesh-Kincaid grade level)\n",
        "\n",
        "**Answer** the question: What's the distribution of grade levels? Plot a histogram.\n",
        "\n",
        "**Be aware** that [Textstat has issues when sentences aren't separated by spaces](https://github.com/shivam5992/textstat/issues/77#issuecomment-453734048). (A Lambda School Data Science student helped identify this issue, and emailed with the developer.) \n",
        "\n",
        "Also, [BeautifulSoup doesn't separate paragraph tags with spaces](https://bugs.launchpad.net/beautifulsoup/+bug/1768330).\n",
        "\n",
        "So, you may get some inaccurate or surprising grade level estimates here. Don't worry, that's ok — but optionally, can you do anything to try improving the grade level estimates?"
      ]
    },
    {
      "metadata": {
        "id": "KPSJbCVbLBKf",
        "colab_type": "code",
        "colab": {
          "base_uri": "https://localhost:8080/",
          "height": 54
        },
        "outputId": "b40a0975-8730-4f11-b155-9cd41320fa14"
      },
      "cell_type": "code",
      "source": [
        "#checking request and stripped version\n",
        "descriptions = soup.select('.presentation-description')\n",
        "descriptions[0].text.strip().replace('\\r\\n\\r\\n',' ')"
      ],
      "execution_count": 140,
      "outputs": [
        {
          "output_type": "execute_result",
          "data": {
            "text/plain": [
              "\"Have you ever wanted to write a GUI application in Python that you can run on both your laptop and your phone? Have you been looking to contribute to an open source project, but you don't know where to start? BeeWare is a set of software libraries for cross-platform native app development from a single Python codebase and tools to simplify app deployment. The project aims to build, deploy, and run apps for Windows, Linux, macOS, Android, iPhone, and the web. It is native because it is actually using your platform's native GUI widgets, not a theme, icon pack, or webpage wrapper. This talk will teach you how Toga, the BeeWare GUI toolkit, is architected and then show you how you can contribute to Toga by creating your own GUI widget in five easy steps.\""
            ]
          },
          "metadata": {
            "tags": []
          },
          "execution_count": 140
        }
      ]
    },
    {
      "metadata": {
        "id": "F1ZR98KHLT8A",
        "colab_type": "code",
        "colab": {
          "base_uri": "https://localhost:8080/",
          "height": 397
        },
        "outputId": "db294dc1-6bf6-4825-b119-4ac1deea9522"
      },
      "cell_type": "code",
      "source": [
        "#creating new column using list comprehension\n",
        "df['description'] = [description.text.strip().replace('\\r\\n\\r\\n',' ').replace('\\r\\n+','.') for description in descriptions]\n",
        "df.head()"
      ],
      "execution_count": 196,
      "outputs": [
        {
          "output_type": "execute_result",
          "data": {
            "text/html": [
              "<div>\n",
              "<style scoped>\n",
              "    .dataframe tbody tr th:only-of-type {\n",
              "        vertical-align: middle;\n",
              "    }\n",
              "\n",
              "    .dataframe tbody tr th {\n",
              "        vertical-align: top;\n",
              "    }\n",
              "\n",
              "    .dataframe thead th {\n",
              "        text-align: right;\n",
              "    }\n",
              "</style>\n",
              "<table border=\"1\" class=\"dataframe\">\n",
              "  <thead>\n",
              "    <tr style=\"text-align: right;\">\n",
              "      <th></th>\n",
              "      <th>title</th>\n",
              "      <th>title character count</th>\n",
              "      <th>long title</th>\n",
              "      <th>first letter</th>\n",
              "      <th>title word count</th>\n",
              "      <th>description</th>\n",
              "      <th>description character count</th>\n",
              "      <th>description word count</th>\n",
              "      <th>description grade level</th>\n",
              "    </tr>\n",
              "  </thead>\n",
              "  <tbody>\n",
              "    <tr>\n",
              "      <th>0</th>\n",
              "      <td>5 Steps to Build Python Native GUI Widgets for BeeWare</td>\n",
              "      <td>54</td>\n",
              "      <td>False</td>\n",
              "      <td>5</td>\n",
              "      <td>10</td>\n",
              "      <td>Have you ever wanted to write a GUI application in Python that you can run on both your laptop and your phone? Have you been looking to contribute to an open source project, but you don't know whe...</td>\n",
              "      <td>760</td>\n",
              "      <td>135</td>\n",
              "      <td>9.7</td>\n",
              "    </tr>\n",
              "    <tr>\n",
              "      <th>1</th>\n",
              "      <td>8 things that happen at the dot:  Attribute Access &amp; Descriptors</td>\n",
              "      <td>64</td>\n",
              "      <td>False</td>\n",
              "      <td>8</td>\n",
              "      <td>10</td>\n",
              "      <td>We rarely think about the dot “.” between our objects and their fields, but there are quite a lot of things that happen every time we use one in Python. This talk will explore the details of what ...</td>\n",
              "      <td>296</td>\n",
              "      <td>56</td>\n",
              "      <td>10.7</td>\n",
              "    </tr>\n",
              "    <tr>\n",
              "      <th>2</th>\n",
              "      <td>Account Security Patterns: How Logged-In Are you?</td>\n",
              "      <td>49</td>\n",
              "      <td>False</td>\n",
              "      <td>A</td>\n",
              "      <td>7</td>\n",
              "      <td>Account security means making sure your users are only ones who can access their accounts. Account takeovers happen for a variety of reasons -- password re-use, compromised computers, guessable pa...</td>\n",
              "      <td>426</td>\n",
              "      <td>66</td>\n",
              "      <td>8.5</td>\n",
              "    </tr>\n",
              "    <tr>\n",
              "      <th>3</th>\n",
              "      <td>Ace Your Technical Interview Using Python</td>\n",
              "      <td>41</td>\n",
              "      <td>False</td>\n",
              "      <td>A</td>\n",
              "      <td>6</td>\n",
              "      <td>Do you feel overwhelmed by the prospect of having to find a new software engineering job because you dread the technical interviewing process? Have you been putting off submitting your job applica...</td>\n",
              "      <td>504</td>\n",
              "      <td>84</td>\n",
              "      <td>17.3</td>\n",
              "    </tr>\n",
              "    <tr>\n",
              "      <th>4</th>\n",
              "      <td>Advanced asyncio: Solving Real-world Production Problems</td>\n",
              "      <td>56</td>\n",
              "      <td>False</td>\n",
              "      <td>A</td>\n",
              "      <td>6</td>\n",
              "      <td>Everyone’s talking about it. Everyone’s using it. But most likely, they’re doing it wrong, just like we did. By building a simplified chaos monkey service, we will walk through how to create a goo...</td>\n",
              "      <td>644</td>\n",
              "      <td>96</td>\n",
              "      <td>9.5</td>\n",
              "    </tr>\n",
              "  </tbody>\n",
              "</table>\n",
              "</div>"
            ],
            "text/plain": [
              "                                                              title  \\\n",
              "0            5 Steps to Build Python Native GUI Widgets for BeeWare   \n",
              "1  8 things that happen at the dot:  Attribute Access & Descriptors   \n",
              "2                 Account Security Patterns: How Logged-In Are you?   \n",
              "3                         Ace Your Technical Interview Using Python   \n",
              "4          Advanced asyncio: Solving Real-world Production Problems   \n",
              "\n",
              "   title character count  long title first letter  title word count  \\\n",
              "0                     54       False            5                10   \n",
              "1                     64       False            8                10   \n",
              "2                     49       False            A                 7   \n",
              "3                     41       False            A                 6   \n",
              "4                     56       False            A                 6   \n",
              "\n",
              "                                                                                                                                                                                               description  \\\n",
              "0  Have you ever wanted to write a GUI application in Python that you can run on both your laptop and your phone? Have you been looking to contribute to an open source project, but you don't know whe...   \n",
              "1  We rarely think about the dot “.” between our objects and their fields, but there are quite a lot of things that happen every time we use one in Python. This talk will explore the details of what ...   \n",
              "2  Account security means making sure your users are only ones who can access their accounts. Account takeovers happen for a variety of reasons -- password re-use, compromised computers, guessable pa...   \n",
              "3  Do you feel overwhelmed by the prospect of having to find a new software engineering job because you dread the technical interviewing process? Have you been putting off submitting your job applica...   \n",
              "4  Everyone’s talking about it. Everyone’s using it. But most likely, they’re doing it wrong, just like we did. By building a simplified chaos monkey service, we will walk through how to create a goo...   \n",
              "\n",
              "   description character count  description word count  \\\n",
              "0                          760                     135   \n",
              "1                          296                      56   \n",
              "2                          426                      66   \n",
              "3                          504                      84   \n",
              "4                          644                      96   \n",
              "\n",
              "   description grade level  \n",
              "0                      9.7  \n",
              "1                     10.7  \n",
              "2                      8.5  \n",
              "3                     17.3  \n",
              "4                      9.5  "
            ]
          },
          "metadata": {
            "tags": []
          },
          "execution_count": 196
        }
      ]
    },
    {
      "metadata": {
        "id": "p0XcO2CKMFZE",
        "colab_type": "code",
        "colab": {
          "base_uri": "https://localhost:8080/",
          "height": 397
        },
        "outputId": "9d4d7ac3-564b-4b7a-a5d9-309de9f814ce"
      },
      "cell_type": "code",
      "source": [
        "#creating  new columns with character count and word count\n",
        "df['description character count'] = df['description'].str.len()\n",
        "df['description word count'] = df['description'].apply(textstat.lexicon_count)\n",
        "df.head()"
      ],
      "execution_count": 197,
      "outputs": [
        {
          "output_type": "execute_result",
          "data": {
            "text/html": [
              "<div>\n",
              "<style scoped>\n",
              "    .dataframe tbody tr th:only-of-type {\n",
              "        vertical-align: middle;\n",
              "    }\n",
              "\n",
              "    .dataframe tbody tr th {\n",
              "        vertical-align: top;\n",
              "    }\n",
              "\n",
              "    .dataframe thead th {\n",
              "        text-align: right;\n",
              "    }\n",
              "</style>\n",
              "<table border=\"1\" class=\"dataframe\">\n",
              "  <thead>\n",
              "    <tr style=\"text-align: right;\">\n",
              "      <th></th>\n",
              "      <th>title</th>\n",
              "      <th>title character count</th>\n",
              "      <th>long title</th>\n",
              "      <th>first letter</th>\n",
              "      <th>title word count</th>\n",
              "      <th>description</th>\n",
              "      <th>description character count</th>\n",
              "      <th>description word count</th>\n",
              "      <th>description grade level</th>\n",
              "    </tr>\n",
              "  </thead>\n",
              "  <tbody>\n",
              "    <tr>\n",
              "      <th>0</th>\n",
              "      <td>5 Steps to Build Python Native GUI Widgets for BeeWare</td>\n",
              "      <td>54</td>\n",
              "      <td>False</td>\n",
              "      <td>5</td>\n",
              "      <td>10</td>\n",
              "      <td>Have you ever wanted to write a GUI application in Python that you can run on both your laptop and your phone? Have you been looking to contribute to an open source project, but you don't know whe...</td>\n",
              "      <td>760</td>\n",
              "      <td>135</td>\n",
              "      <td>9.7</td>\n",
              "    </tr>\n",
              "    <tr>\n",
              "      <th>1</th>\n",
              "      <td>8 things that happen at the dot:  Attribute Access &amp; Descriptors</td>\n",
              "      <td>64</td>\n",
              "      <td>False</td>\n",
              "      <td>8</td>\n",
              "      <td>10</td>\n",
              "      <td>We rarely think about the dot “.” between our objects and their fields, but there are quite a lot of things that happen every time we use one in Python. This talk will explore the details of what ...</td>\n",
              "      <td>296</td>\n",
              "      <td>56</td>\n",
              "      <td>10.7</td>\n",
              "    </tr>\n",
              "    <tr>\n",
              "      <th>2</th>\n",
              "      <td>Account Security Patterns: How Logged-In Are you?</td>\n",
              "      <td>49</td>\n",
              "      <td>False</td>\n",
              "      <td>A</td>\n",
              "      <td>7</td>\n",
              "      <td>Account security means making sure your users are only ones who can access their accounts. Account takeovers happen for a variety of reasons -- password re-use, compromised computers, guessable pa...</td>\n",
              "      <td>426</td>\n",
              "      <td>66</td>\n",
              "      <td>8.5</td>\n",
              "    </tr>\n",
              "    <tr>\n",
              "      <th>3</th>\n",
              "      <td>Ace Your Technical Interview Using Python</td>\n",
              "      <td>41</td>\n",
              "      <td>False</td>\n",
              "      <td>A</td>\n",
              "      <td>6</td>\n",
              "      <td>Do you feel overwhelmed by the prospect of having to find a new software engineering job because you dread the technical interviewing process? Have you been putting off submitting your job applica...</td>\n",
              "      <td>504</td>\n",
              "      <td>84</td>\n",
              "      <td>17.3</td>\n",
              "    </tr>\n",
              "    <tr>\n",
              "      <th>4</th>\n",
              "      <td>Advanced asyncio: Solving Real-world Production Problems</td>\n",
              "      <td>56</td>\n",
              "      <td>False</td>\n",
              "      <td>A</td>\n",
              "      <td>6</td>\n",
              "      <td>Everyone’s talking about it. Everyone’s using it. But most likely, they’re doing it wrong, just like we did. By building a simplified chaos monkey service, we will walk through how to create a goo...</td>\n",
              "      <td>644</td>\n",
              "      <td>96</td>\n",
              "      <td>9.5</td>\n",
              "    </tr>\n",
              "  </tbody>\n",
              "</table>\n",
              "</div>"
            ],
            "text/plain": [
              "                                                              title  \\\n",
              "0            5 Steps to Build Python Native GUI Widgets for BeeWare   \n",
              "1  8 things that happen at the dot:  Attribute Access & Descriptors   \n",
              "2                 Account Security Patterns: How Logged-In Are you?   \n",
              "3                         Ace Your Technical Interview Using Python   \n",
              "4          Advanced asyncio: Solving Real-world Production Problems   \n",
              "\n",
              "   title character count  long title first letter  title word count  \\\n",
              "0                     54       False            5                10   \n",
              "1                     64       False            8                10   \n",
              "2                     49       False            A                 7   \n",
              "3                     41       False            A                 6   \n",
              "4                     56       False            A                 6   \n",
              "\n",
              "                                                                                                                                                                                               description  \\\n",
              "0  Have you ever wanted to write a GUI application in Python that you can run on both your laptop and your phone? Have you been looking to contribute to an open source project, but you don't know whe...   \n",
              "1  We rarely think about the dot “.” between our objects and their fields, but there are quite a lot of things that happen every time we use one in Python. This talk will explore the details of what ...   \n",
              "2  Account security means making sure your users are only ones who can access their accounts. Account takeovers happen for a variety of reasons -- password re-use, compromised computers, guessable pa...   \n",
              "3  Do you feel overwhelmed by the prospect of having to find a new software engineering job because you dread the technical interviewing process? Have you been putting off submitting your job applica...   \n",
              "4  Everyone’s talking about it. Everyone’s using it. But most likely, they’re doing it wrong, just like we did. By building a simplified chaos monkey service, we will walk through how to create a goo...   \n",
              "\n",
              "   description character count  description word count  \\\n",
              "0                          760                     135   \n",
              "1                          296                      56   \n",
              "2                          426                      66   \n",
              "3                          504                      84   \n",
              "4                          644                      96   \n",
              "\n",
              "   description grade level  \n",
              "0                      9.7  \n",
              "1                     10.7  \n",
              "2                      8.5  \n",
              "3                     17.3  \n",
              "4                      9.5  "
            ]
          },
          "metadata": {
            "tags": []
          },
          "execution_count": 197
        }
      ]
    },
    {
      "metadata": {
        "id": "MyfpBaZXM4_r",
        "colab_type": "code",
        "colab": {
          "base_uri": "https://localhost:8080/",
          "height": 284
        },
        "outputId": "86608c3d-0363-4ad5-bd1b-b75342dd88dd"
      },
      "cell_type": "code",
      "source": [
        "#What's the average description word count? 130.821053\n",
        "#The minimum? 20\n",
        "#The maximum? 421\n",
        "df.describe()"
      ],
      "execution_count": 198,
      "outputs": [
        {
          "output_type": "execute_result",
          "data": {
            "text/html": [
              "<div>\n",
              "<style scoped>\n",
              "    .dataframe tbody tr th:only-of-type {\n",
              "        vertical-align: middle;\n",
              "    }\n",
              "\n",
              "    .dataframe tbody tr th {\n",
              "        vertical-align: top;\n",
              "    }\n",
              "\n",
              "    .dataframe thead th {\n",
              "        text-align: right;\n",
              "    }\n",
              "</style>\n",
              "<table border=\"1\" class=\"dataframe\">\n",
              "  <thead>\n",
              "    <tr style=\"text-align: right;\">\n",
              "      <th></th>\n",
              "      <th>title character count</th>\n",
              "      <th>title word count</th>\n",
              "      <th>description character count</th>\n",
              "      <th>description word count</th>\n",
              "      <th>description grade level</th>\n",
              "    </tr>\n",
              "  </thead>\n",
              "  <tbody>\n",
              "    <tr>\n",
              "      <th>count</th>\n",
              "      <td>95.000000</td>\n",
              "      <td>95.000000</td>\n",
              "      <td>95.000000</td>\n",
              "      <td>95.000000</td>\n",
              "      <td>95.000000</td>\n",
              "    </tr>\n",
              "    <tr>\n",
              "      <th>mean</th>\n",
              "      <td>51.347368</td>\n",
              "      <td>7.978947</td>\n",
              "      <td>808.484211</td>\n",
              "      <td>130.821053</td>\n",
              "      <td>14.288421</td>\n",
              "    </tr>\n",
              "    <tr>\n",
              "      <th>std</th>\n",
              "      <td>17.729509</td>\n",
              "      <td>3.218890</td>\n",
              "      <td>412.507069</td>\n",
              "      <td>64.357872</td>\n",
              "      <td>7.300843</td>\n",
              "    </tr>\n",
              "    <tr>\n",
              "      <th>min</th>\n",
              "      <td>20.000000</td>\n",
              "      <td>2.000000</td>\n",
              "      <td>121.000000</td>\n",
              "      <td>20.000000</td>\n",
              "      <td>5.600000</td>\n",
              "    </tr>\n",
              "    <tr>\n",
              "      <th>25%</th>\n",
              "      <td>37.000000</td>\n",
              "      <td>6.000000</td>\n",
              "      <td>539.500000</td>\n",
              "      <td>85.500000</td>\n",
              "      <td>10.350000</td>\n",
              "    </tr>\n",
              "    <tr>\n",
              "      <th>50%</th>\n",
              "      <td>52.000000</td>\n",
              "      <td>7.000000</td>\n",
              "      <td>718.000000</td>\n",
              "      <td>116.000000</td>\n",
              "      <td>12.000000</td>\n",
              "    </tr>\n",
              "    <tr>\n",
              "      <th>75%</th>\n",
              "      <td>62.000000</td>\n",
              "      <td>9.500000</td>\n",
              "      <td>1010.500000</td>\n",
              "      <td>165.000000</td>\n",
              "      <td>16.150000</td>\n",
              "    </tr>\n",
              "    <tr>\n",
              "      <th>max</th>\n",
              "      <td>95.000000</td>\n",
              "      <td>19.000000</td>\n",
              "      <td>2818.000000</td>\n",
              "      <td>421.000000</td>\n",
              "      <td>48.900000</td>\n",
              "    </tr>\n",
              "  </tbody>\n",
              "</table>\n",
              "</div>"
            ],
            "text/plain": [
              "       title character count  title word count  description character count  \\\n",
              "count              95.000000         95.000000                    95.000000   \n",
              "mean               51.347368          7.978947                   808.484211   \n",
              "std                17.729509          3.218890                   412.507069   \n",
              "min                20.000000          2.000000                   121.000000   \n",
              "25%                37.000000          6.000000                   539.500000   \n",
              "50%                52.000000          7.000000                   718.000000   \n",
              "75%                62.000000          9.500000                  1010.500000   \n",
              "max                95.000000         19.000000                  2818.000000   \n",
              "\n",
              "       description word count  description grade level  \n",
              "count               95.000000                95.000000  \n",
              "mean               130.821053                14.288421  \n",
              "std                 64.357872                 7.300843  \n",
              "min                 20.000000                 5.600000  \n",
              "25%                 85.500000                10.350000  \n",
              "50%                116.000000                12.000000  \n",
              "75%                165.000000                16.150000  \n",
              "max                421.000000                48.900000  "
            ]
          },
          "metadata": {
            "tags": []
          },
          "execution_count": 198
        }
      ]
    },
    {
      "metadata": {
        "id": "yzys9cWKNjrp",
        "colab_type": "code",
        "colab": {
          "base_uri": "https://localhost:8080/",
          "height": 34
        },
        "outputId": "914ca1d3-3758-4ed7-c33b-c01b8237328d"
      },
      "cell_type": "code",
      "source": [
        "#tweet is max 280 characters so...\n",
        "answerlist = df[df['description character count']<=280]['description']\n",
        "list(answerlist)[0]"
      ],
      "execution_count": 199,
      "outputs": [
        {
          "output_type": "execute_result",
          "data": {
            "text/plain": [
              "\"Learn how to make music with Python, SuperCollider and FoxDot. We'll create a song together in this live coded adventure.\""
            ]
          },
          "metadata": {
            "tags": []
          },
          "execution_count": 199
        }
      ]
    },
    {
      "metadata": {
        "id": "BP-WpyolODIR",
        "colab_type": "code",
        "colab": {
          "base_uri": "https://localhost:8080/",
          "height": 118
        },
        "outputId": "adec630c-bb2c-48d4-9270-26e13ffa9d01"
      },
      "cell_type": "code",
      "source": [
        "#checking there is only one tweetable description\n",
        "df['description character count'].sort_values()[:5]"
      ],
      "execution_count": 200,
      "outputs": [
        {
          "output_type": "execute_result",
          "data": {
            "text/plain": [
              "54    121\n",
              "1     296\n",
              "77    334\n",
              "44    336\n",
              "8     337\n",
              "Name: description character count, dtype: int64"
            ]
          },
          "metadata": {
            "tags": []
          },
          "execution_count": 200
        }
      ]
    },
    {
      "metadata": {
        "id": "Rg2XZ9kEQGPf",
        "colab_type": "code",
        "colab": {
          "base_uri": "https://localhost:8080/",
          "height": 397
        },
        "outputId": "35bceecc-c56e-4a54-dea9-72dd744eb505"
      },
      "cell_type": "code",
      "source": [
        "#onto the stretch goals\n",
        "df['description grade level'] = df['description'].apply(textstat.flesch_kincaid_grade)\n",
        "df.head()"
      ],
      "execution_count": 201,
      "outputs": [
        {
          "output_type": "execute_result",
          "data": {
            "text/html": [
              "<div>\n",
              "<style scoped>\n",
              "    .dataframe tbody tr th:only-of-type {\n",
              "        vertical-align: middle;\n",
              "    }\n",
              "\n",
              "    .dataframe tbody tr th {\n",
              "        vertical-align: top;\n",
              "    }\n",
              "\n",
              "    .dataframe thead th {\n",
              "        text-align: right;\n",
              "    }\n",
              "</style>\n",
              "<table border=\"1\" class=\"dataframe\">\n",
              "  <thead>\n",
              "    <tr style=\"text-align: right;\">\n",
              "      <th></th>\n",
              "      <th>title</th>\n",
              "      <th>title character count</th>\n",
              "      <th>long title</th>\n",
              "      <th>first letter</th>\n",
              "      <th>title word count</th>\n",
              "      <th>description</th>\n",
              "      <th>description character count</th>\n",
              "      <th>description word count</th>\n",
              "      <th>description grade level</th>\n",
              "    </tr>\n",
              "  </thead>\n",
              "  <tbody>\n",
              "    <tr>\n",
              "      <th>0</th>\n",
              "      <td>5 Steps to Build Python Native GUI Widgets for BeeWare</td>\n",
              "      <td>54</td>\n",
              "      <td>False</td>\n",
              "      <td>5</td>\n",
              "      <td>10</td>\n",
              "      <td>Have you ever wanted to write a GUI application in Python that you can run on both your laptop and your phone? Have you been looking to contribute to an open source project, but you don't know whe...</td>\n",
              "      <td>760</td>\n",
              "      <td>135</td>\n",
              "      <td>9.7</td>\n",
              "    </tr>\n",
              "    <tr>\n",
              "      <th>1</th>\n",
              "      <td>8 things that happen at the dot:  Attribute Access &amp; Descriptors</td>\n",
              "      <td>64</td>\n",
              "      <td>False</td>\n",
              "      <td>8</td>\n",
              "      <td>10</td>\n",
              "      <td>We rarely think about the dot “.” between our objects and their fields, but there are quite a lot of things that happen every time we use one in Python. This talk will explore the details of what ...</td>\n",
              "      <td>296</td>\n",
              "      <td>56</td>\n",
              "      <td>10.7</td>\n",
              "    </tr>\n",
              "    <tr>\n",
              "      <th>2</th>\n",
              "      <td>Account Security Patterns: How Logged-In Are you?</td>\n",
              "      <td>49</td>\n",
              "      <td>False</td>\n",
              "      <td>A</td>\n",
              "      <td>7</td>\n",
              "      <td>Account security means making sure your users are only ones who can access their accounts. Account takeovers happen for a variety of reasons -- password re-use, compromised computers, guessable pa...</td>\n",
              "      <td>426</td>\n",
              "      <td>66</td>\n",
              "      <td>8.5</td>\n",
              "    </tr>\n",
              "    <tr>\n",
              "      <th>3</th>\n",
              "      <td>Ace Your Technical Interview Using Python</td>\n",
              "      <td>41</td>\n",
              "      <td>False</td>\n",
              "      <td>A</td>\n",
              "      <td>6</td>\n",
              "      <td>Do you feel overwhelmed by the prospect of having to find a new software engineering job because you dread the technical interviewing process? Have you been putting off submitting your job applica...</td>\n",
              "      <td>504</td>\n",
              "      <td>84</td>\n",
              "      <td>17.3</td>\n",
              "    </tr>\n",
              "    <tr>\n",
              "      <th>4</th>\n",
              "      <td>Advanced asyncio: Solving Real-world Production Problems</td>\n",
              "      <td>56</td>\n",
              "      <td>False</td>\n",
              "      <td>A</td>\n",
              "      <td>6</td>\n",
              "      <td>Everyone’s talking about it. Everyone’s using it. But most likely, they’re doing it wrong, just like we did. By building a simplified chaos monkey service, we will walk through how to create a goo...</td>\n",
              "      <td>644</td>\n",
              "      <td>96</td>\n",
              "      <td>9.5</td>\n",
              "    </tr>\n",
              "  </tbody>\n",
              "</table>\n",
              "</div>"
            ],
            "text/plain": [
              "                                                              title  \\\n",
              "0            5 Steps to Build Python Native GUI Widgets for BeeWare   \n",
              "1  8 things that happen at the dot:  Attribute Access & Descriptors   \n",
              "2                 Account Security Patterns: How Logged-In Are you?   \n",
              "3                         Ace Your Technical Interview Using Python   \n",
              "4          Advanced asyncio: Solving Real-world Production Problems   \n",
              "\n",
              "   title character count  long title first letter  title word count  \\\n",
              "0                     54       False            5                10   \n",
              "1                     64       False            8                10   \n",
              "2                     49       False            A                 7   \n",
              "3                     41       False            A                 6   \n",
              "4                     56       False            A                 6   \n",
              "\n",
              "                                                                                                                                                                                               description  \\\n",
              "0  Have you ever wanted to write a GUI application in Python that you can run on both your laptop and your phone? Have you been looking to contribute to an open source project, but you don't know whe...   \n",
              "1  We rarely think about the dot “.” between our objects and their fields, but there are quite a lot of things that happen every time we use one in Python. This talk will explore the details of what ...   \n",
              "2  Account security means making sure your users are only ones who can access their accounts. Account takeovers happen for a variety of reasons -- password re-use, compromised computers, guessable pa...   \n",
              "3  Do you feel overwhelmed by the prospect of having to find a new software engineering job because you dread the technical interviewing process? Have you been putting off submitting your job applica...   \n",
              "4  Everyone’s talking about it. Everyone’s using it. But most likely, they’re doing it wrong, just like we did. By building a simplified chaos monkey service, we will walk through how to create a goo...   \n",
              "\n",
              "   description character count  description word count  \\\n",
              "0                          760                     135   \n",
              "1                          296                      56   \n",
              "2                          426                      66   \n",
              "3                          504                      84   \n",
              "4                          644                      96   \n",
              "\n",
              "   description grade level  \n",
              "0                      9.7  \n",
              "1                     10.7  \n",
              "2                      8.5  \n",
              "3                     17.3  \n",
              "4                      9.5  "
            ]
          },
          "metadata": {
            "tags": []
          },
          "execution_count": 201
        }
      ]
    },
    {
      "metadata": {
        "id": "fNGB1e3oQ6Po",
        "colab_type": "code",
        "colab": {
          "base_uri": "https://localhost:8080/",
          "height": 297
        },
        "outputId": "9d59c618-0dcc-4189-950b-0a91a184fa2d"
      },
      "cell_type": "code",
      "source": [
        "df['description grade level'].plot.hist(title ='histogram of description grade level')"
      ],
      "execution_count": 202,
      "outputs": [
        {
          "output_type": "execute_result",
          "data": {
            "text/plain": [
              "<matplotlib.axes._subplots.AxesSubplot at 0x7fd686fd49e8>"
            ]
          },
          "metadata": {
            "tags": []
          },
          "execution_count": 202
        },
        {
          "output_type": "display_data",
          "data": {
            "image/png": "[encoded data removed]",
            "text/plain": [
              "<Figure size 432x288 with 1 Axes>"
            ]
          },
          "metadata": {
            "tags": []
          }
        }
      ]
    },
    {
      "metadata": {
        "id": "gbExwDvKRLE_",
        "colab_type": "code",
        "colab": {
          "base_uri": "https://localhost:8080/",
          "height": 54
        },
        "outputId": "cc94e1c0-6a4f-4e44-d078-3b61196b48ca"
      },
      "cell_type": "code",
      "source": [
        "#finding instances where grade level is greater than 20\n",
        "levelchecker = df[df['description grade level']>20].copy()\n",
        "#list(levelchecker['description'])[0]\n",
        "levelchecker['description'].loc[34]"
      ],
      "execution_count": 203,
      "outputs": [
        {
          "output_type": "execute_result",
          "data": {
            "text/plain": [
              "'Methane, the primary component of natural gas, is a 60 times more powerful climate change agent than carbon dioxide.  Current technologies for finding methane leaks in oil and gas infrastructure rely on driving well to well with a handheld camera.  At Kairos Aerospace, we have developed a plane-mounted sensor for detecting methane leaks, but the sensor is only part of the solution: getting information off the sensor and into customers’ hands required us to build an entire plane-to-report pipeline.  I’ll discuss the challenges we faced in developing a scalable, reliable, and cost-effective scientific computing platform in Python, with examples of novel solutions using Python’s extensive ecosystem of GIS, cloud computing and machine learning tools.'"
            ]
          },
          "metadata": {
            "tags": []
          },
          "execution_count": 203
        }
      ]
    },
    {
      "metadata": {
        "id": "KY_2JXmYS8Iw",
        "colab_type": "code",
        "colab": {
          "base_uri": "https://localhost:8080/",
          "height": 34
        },
        "outputId": "fd0e7ff1-d6b6-488e-fccf-d8b5553e05c0"
      },
      "cell_type": "code",
      "source": [
        "#this sentence seems to have a lot of dashes which are makign simple words seem complicated on teh syllable count maybe.try replacing them with spaces and recalculationf\n",
        "trialsentence = levelchecker['description'].loc[34].replace('-',' ').replace(':','.').replace('60','sixty')\n",
        "textstat.flesch_kincaid_grade(trialsentence)\n",
        "#i trie da few things but nothing gets the score down"
      ],
      "execution_count": 204,
      "outputs": [
        {
          "output_type": "execute_result",
          "data": {
            "text/plain": [
              "50.5"
            ]
          },
          "metadata": {
            "tags": []
          },
          "execution_count": 204
        }
      ]
    },
    {
      "metadata": {
        "id": "oEJ56YoFVNAL",
        "colab_type": "code",
        "colab": {
          "base_uri": "https://localhost:8080/",
          "height": 54
        },
        "outputId": "b1512778-5a5b-4fe6-810e-92bccf78e7fb"
      },
      "cell_type": "code",
      "source": [
        "#can't see why this sentnce is giving a crazy score either apart from very long sentences\n",
        "levelchecker['description'].loc[68]"
      ],
      "execution_count": 208,
      "outputs": [
        {
          "output_type": "execute_result",
          "data": {
            "text/plain": [
              "\"While high-level security concepts may transcend languages, each language has its own sets of tools and edge cases that are worth knowing.  Python is one of many popular languages that is rarely the focus in security training, but that doesn't mean python code is automatically secure (no matter what the internet tells you).  Learn why people who say “pylint will help you with security” aren’t doing you any favours, how to use Bandit for security-focused linting and talk about other options for static analysis.  Take a deeper look at why scanning for publicly known vulnerabilities is complicated, and how to use Pyup Safety to make it easier.  We’ll also explore some language myths and best practices.\""
            ]
          },
          "metadata": {
            "tags": []
          },
          "execution_count": 208
        }
      ]
    },
    {
      "metadata": {
        "id": "F78Fc5V7XBFT",
        "colab_type": "code",
        "colab": {}
      },
      "cell_type": "code",
      "source": [
        ""
      ],
      "execution_count": 0,
      "outputs": []
    }
  ]
}