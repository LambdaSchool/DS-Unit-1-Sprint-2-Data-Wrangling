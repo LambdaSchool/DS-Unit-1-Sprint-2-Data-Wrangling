{
  "nbformat": 4,
  "nbformat_minor": 0,
  "metadata": {
    "colab": {
      "name": "Black_Friday.ipynb",
      "version": "0.3.2",
      "provenance": [],
      "include_colab_link": true
    },
    "kernelspec": {
      "name": "python3",
      "display_name": "Python 3"
    }
  },
  "cells": [
    {
      "cell_type": "markdown",
      "metadata": {
        "id": "view-in-github",
        "colab_type": "text"
      },
      "source": [
        "<a href=\"https://colab.research.google.com/github/newnativeabq/DS-Unit-1-Sprint-2-Data-Wrangling-and-Storytelling/blob/master/Black_Friday.ipynb\" target=\"_parent\"><img src=\"https://colab.research.google.com/assets/colab-badge.svg\" alt=\"Open In Colab\"/></a>"
      ]
    },
    {
      "cell_type": "code",
      "metadata": {
        "id": "V1BwEsXIVPIZ",
        "colab_type": "code",
        "colab": {}
      },
      "source": [
        "# Imports\n",
        "import pandas as pd"
      ],
      "execution_count": 0,
      "outputs": []
    },
    {
      "cell_type": "code",
      "metadata": {
        "id": "5BVwJxMsWhF5",
        "colab_type": "code",
        "colab": {}
      },
      "source": [
        "# Url\n",
        "black_friday_csv_link = \"https://raw.githubusercontent.com/pierretd/datasets-1/master/BlackFriday.csv\"\n",
        "# Reading in csv\n",
        "black_friday_df = pd.read_csv(black_friday_csv_link)"
      ],
      "execution_count": 0,
      "outputs": []
    },
    {
      "cell_type": "markdown",
      "metadata": {
        "id": "Y_RjJBf4W5lC",
        "colab_type": "text"
      },
      "source": [
        "### The above dataset has already been loaded in for you, answer the following questions. If you get done quickly, move onto stretch goals and super stretch goals. Work on improving your model until 8:40."
      ]
    },
    {
      "cell_type": "markdown",
      "metadata": {
        "id": "GAB5N5ZoXZqu",
        "colab_type": "text"
      },
      "source": [
        "#### 1) Clean the data set and drop the Null/NaN values. Rename  Product_Category_1-3 columns with an actual Product."
      ]
    },
    {
      "cell_type": "code",
      "metadata": {
        "id": "TFXUso8FW2Gw",
        "colab_type": "code",
        "colab": {}
      },
      "source": [
        ""
      ],
      "execution_count": 0,
      "outputs": []
    },
    {
      "cell_type": "markdown",
      "metadata": {
        "id": "7XXlsraEXeAq",
        "colab_type": "text"
      },
      "source": [
        "#### 2) How many unique user_ids does the data set contain?"
      ]
    },
    {
      "cell_type": "code",
      "metadata": {
        "id": "KCHHpSCpXj6g",
        "colab_type": "code",
        "colab": {}
      },
      "source": [
        ""
      ],
      "execution_count": 0,
      "outputs": []
    },
    {
      "cell_type": "markdown",
      "metadata": {
        "id": "qqLizmpUXksc",
        "colab_type": "text"
      },
      "source": [
        "#### 3) How many unique age brackets are in the dataset. Which Age bracket has the most entries? Which has the least?"
      ]
    },
    {
      "cell_type": "code",
      "metadata": {
        "id": "Jom2PqhUXqZD",
        "colab_type": "code",
        "colab": {}
      },
      "source": [
        ""
      ],
      "execution_count": 0,
      "outputs": []
    },
    {
      "cell_type": "markdown",
      "metadata": {
        "id": "hks2UMEyXrWP",
        "colab_type": "text"
      },
      "source": [
        "#### 4) Transform the Gender categorical variable into a numerical variable. Then transform that numerical value into a Boolean."
      ]
    },
    {
      "cell_type": "code",
      "metadata": {
        "id": "HoRL3kkFXvjY",
        "colab_type": "code",
        "colab": {}
      },
      "source": [
        ""
      ],
      "execution_count": 0,
      "outputs": []
    },
    {
      "cell_type": "markdown",
      "metadata": {
        "id": "lXblhoqYXv8I",
        "colab_type": "text"
      },
      "source": [
        "#### 5) What is the average Occupation score? What is the Standard Deviation? What is the maximum and minimum value?"
      ]
    },
    {
      "cell_type": "code",
      "metadata": {
        "id": "o1EUtoSNX2Rz",
        "colab_type": "code",
        "colab": {}
      },
      "source": [
        ""
      ],
      "execution_count": 0,
      "outputs": []
    },
    {
      "cell_type": "markdown",
      "metadata": {
        "id": "GdikpPUNX_P0",
        "colab_type": "text"
      },
      "source": [
        "#### 6) Group Age by Gender and print out a cross tab with age as the y axis"
      ]
    },
    {
      "cell_type": "code",
      "metadata": {
        "id": "8fqJloO9X8E5",
        "colab_type": "code",
        "colab": {}
      },
      "source": [
        ""
      ],
      "execution_count": 0,
      "outputs": []
    },
    {
      "cell_type": "markdown",
      "metadata": {
        "id": "XC3P8TLBYDo9",
        "colab_type": "text"
      },
      "source": [
        "### Stretch Goal:"
      ]
    },
    {
      "cell_type": "markdown",
      "metadata": {
        "id": "qzT3W1oCYKf3",
        "colab_type": "text"
      },
      "source": [
        "#### Build a linear regression model to predict the purchase amount given the other features in the data set with scikit learn."
      ]
    },
    {
      "cell_type": "code",
      "metadata": {
        "id": "1UcyhmmuYGKX",
        "colab_type": "code",
        "colab": {}
      },
      "source": [
        ""
      ],
      "execution_count": 0,
      "outputs": []
    },
    {
      "cell_type": "markdown",
      "metadata": {
        "id": "DUS03cXoYNBW",
        "colab_type": "text"
      },
      "source": [
        "### Super Stretch Goals: "
      ]
    },
    {
      "cell_type": "markdown",
      "metadata": {
        "id": "OJRqGSQ9YRXI",
        "colab_type": "text"
      },
      "source": [
        "#### Plot the actual values vs the predicted values."
      ]
    },
    {
      "cell_type": "code",
      "metadata": {
        "id": "bYvnC2QUYQcx",
        "colab_type": "code",
        "colab": {}
      },
      "source": [
        ""
      ],
      "execution_count": 0,
      "outputs": []
    },
    {
      "cell_type": "markdown",
      "metadata": {
        "id": "gsAhdD-zYZxD",
        "colab_type": "text"
      },
      "source": [
        "#### Find a good way to measure your model's predictive power.\n"
      ]
    },
    {
      "cell_type": "code",
      "metadata": {
        "id": "Lwx2wzikYXNu",
        "colab_type": "code",
        "colab": {}
      },
      "source": [
        ""
      ],
      "execution_count": 0,
      "outputs": []
    }
  ]
}