{
  "nbformat": 4,
  "nbformat_minor": 0,
  "metadata": {
    "colab": {
      "name": "Nico_montoya_DS3_Unit_1_Sprint_Challenge_2_Data_Wrangling.ipynb",
      "version": "0.3.2",
      "provenance": [],
      "collapsed_sections": [],
      "include_colab_link": true
    },
    "kernelspec": {
      "name": "python3",
      "display_name": "Python 3"
    }
  },
  "cells": [
    {
      "cell_type": "markdown",
      "metadata": {
        "id": "view-in-github",
        "colab_type": "text"
      },
      "source": [
        "<a href=\"https://colab.research.google.com/github/NicoMontoya/DS-Unit-1-Sprint-2-Data-Wrangling/blob/master/Nico_montoya_DS3_Unit_1_Sprint_Challenge_2_Data_Wrangling.ipynb\" target=\"_parent\"><img src=\"https://colab.research.google.com/assets/colab-badge.svg\" alt=\"Open In Colab\"/></a>"
      ]
    },
    {
      "metadata": {
        "id": "4yMHi_PX9hEz",
        "colab_type": "text"
      },
      "cell_type": "markdown",
      "source": [
        "# Data Science Unit 1 Sprint Challenge 2\n",
        "\n",
        "## Data Wrangling\n",
        "\n",
        "In this Sprint Challenge you will use data from [Gapminder](https://www.gapminder.org/about-gapminder/), a Swedish non-profit co-founded by Hans Rosling. \"Gapminder produces free teaching resources making the world understandable based on reliable statistics.\"\n",
        "- [Cell phones (total), by country and year](https://raw.githubusercontent.com/open-numbers/ddf--gapminder--systema_globalis/master/ddf--datapoints--cell_phones_total--by--geo--time.csv)\n",
        "- [Population (total), by country and year](https://raw.githubusercontent.com/open-numbers/ddf--gapminder--systema_globalis/master/ddf--datapoints--population_total--by--geo--time.csv)\n",
        "- [Geo country codes](https://github.com/open-numbers/ddf--gapminder--systema_globalis/blob/master/ddf--entities--geo--country.csv)\n",
        "\n",
        "These two links have everything you need to successfully complete the Sprint Challenge!\n",
        "- [Pandas documentation: Working with Text Data](https://pandas.pydata.org/pandas-docs/stable/text.html]) (one question)\n",
        "- [Pandas Cheat Sheet](https://github.com/pandas-dev/pandas/blob/master/doc/cheatsheet/Pandas_Cheat_Sheet.pdf) (everything else)"
      ]
    },
    {
      "metadata": {
        "id": "wWEU2GemX68A",
        "colab_type": "text"
      },
      "cell_type": "markdown",
      "source": [
        "## Part 0. Load data\n",
        "\n",
        "You don't need to add or change anything here. Just run this cell and it loads the data for you, into three dataframes."
      ]
    },
    {
      "metadata": {
        "id": "bxKtSi5sRQOl",
        "colab_type": "code",
        "colab": {}
      },
      "cell_type": "code",
      "source": [
        "import pandas as pd\n",
        "\n",
        "cell_phones = pd.read_csv('https://raw.githubusercontent.com/open-numbers/ddf--gapminder--systema_globalis/master/ddf--datapoints--cell_phones_total--by--geo--time.csv')\n",
        "\n",
        "population = pd.read_csv('https://raw.githubusercontent.com/open-numbers/ddf--gapminder--systema_globalis/master/ddf--datapoints--population_total--by--geo--time.csv')\n",
        "\n",
        "geo_country_codes = (pd.read_csv('https://raw.githubusercontent.com/open-numbers/ddf--gapminder--systema_globalis/master/ddf--entities--geo--country.csv')\n",
        "                       .rename(columns={'country': 'geo', 'name': 'country'}))"
      ],
      "execution_count": 0,
      "outputs": []
    },
    {
      "metadata": {
        "id": "AZmVTeCsX9RC",
        "colab_type": "text"
      },
      "cell_type": "markdown",
      "source": [
        "## Part 1. Join data"
      ]
    },
    {
      "metadata": {
        "id": "GLzX58u4SfEy",
        "colab_type": "text"
      },
      "cell_type": "markdown",
      "source": [
        "First, join the `cell_phones` and `population` dataframes (with an inner join on `geo` and `time`).\n",
        "\n",
        "The resulting dataframe's shape should be: (8590, 4)"
      ]
    },
    {
      "metadata": {
        "id": "GVV7Hnj4SXBa",
        "colab_type": "code",
        "colab": {
          "base_uri": "https://localhost:8080/",
          "height": 204
        },
        "outputId": "6b0f5542-4193-421e-98e4-7befb797e648"
      },
      "cell_type": "code",
      "source": [
        "cell_phones.head()"
      ],
      "execution_count": 2,
      "outputs": [
        {
          "output_type": "execute_result",
          "data": {
            "text/html": [
              "<div>\n",
              "<style scoped>\n",
              "    .dataframe tbody tr th:only-of-type {\n",
              "        vertical-align: middle;\n",
              "    }\n",
              "\n",
              "    .dataframe tbody tr th {\n",
              "        vertical-align: top;\n",
              "    }\n",
              "\n",
              "    .dataframe thead th {\n",
              "        text-align: right;\n",
              "    }\n",
              "</style>\n",
              "<table border=\"1\" class=\"dataframe\">\n",
              "  <thead>\n",
              "    <tr style=\"text-align: right;\">\n",
              "      <th></th>\n",
              "      <th>geo</th>\n",
              "      <th>time</th>\n",
              "      <th>cell_phones_total</th>\n",
              "    </tr>\n",
              "  </thead>\n",
              "  <tbody>\n",
              "    <tr>\n",
              "      <th>0</th>\n",
              "      <td>abw</td>\n",
              "      <td>1960</td>\n",
              "      <td>0.0</td>\n",
              "    </tr>\n",
              "    <tr>\n",
              "      <th>1</th>\n",
              "      <td>abw</td>\n",
              "      <td>1965</td>\n",
              "      <td>0.0</td>\n",
              "    </tr>\n",
              "    <tr>\n",
              "      <th>2</th>\n",
              "      <td>abw</td>\n",
              "      <td>1970</td>\n",
              "      <td>0.0</td>\n",
              "    </tr>\n",
              "    <tr>\n",
              "      <th>3</th>\n",
              "      <td>abw</td>\n",
              "      <td>1975</td>\n",
              "      <td>0.0</td>\n",
              "    </tr>\n",
              "    <tr>\n",
              "      <th>4</th>\n",
              "      <td>abw</td>\n",
              "      <td>1976</td>\n",
              "      <td>0.0</td>\n",
              "    </tr>\n",
              "  </tbody>\n",
              "</table>\n",
              "</div>"
            ],
            "text/plain": [
              "   geo  time  cell_phones_total\n",
              "0  abw  1960                0.0\n",
              "1  abw  1965                0.0\n",
              "2  abw  1970                0.0\n",
              "3  abw  1975                0.0\n",
              "4  abw  1976                0.0"
            ]
          },
          "metadata": {
            "tags": []
          },
          "execution_count": 2
        }
      ]
    },
    {
      "metadata": {
        "id": "Ox-adl_f9_Mg",
        "colab_type": "code",
        "colab": {
          "base_uri": "https://localhost:8080/",
          "height": 204
        },
        "outputId": "bcd87ea6-a33b-4e34-9166-99a6ebd456a5"
      },
      "cell_type": "code",
      "source": [
        "population.head()"
      ],
      "execution_count": 3,
      "outputs": [
        {
          "output_type": "execute_result",
          "data": {
            "text/html": [
              "<div>\n",
              "<style scoped>\n",
              "    .dataframe tbody tr th:only-of-type {\n",
              "        vertical-align: middle;\n",
              "    }\n",
              "\n",
              "    .dataframe tbody tr th {\n",
              "        vertical-align: top;\n",
              "    }\n",
              "\n",
              "    .dataframe thead th {\n",
              "        text-align: right;\n",
              "    }\n",
              "</style>\n",
              "<table border=\"1\" class=\"dataframe\">\n",
              "  <thead>\n",
              "    <tr style=\"text-align: right;\">\n",
              "      <th></th>\n",
              "      <th>geo</th>\n",
              "      <th>time</th>\n",
              "      <th>population_total</th>\n",
              "    </tr>\n",
              "  </thead>\n",
              "  <tbody>\n",
              "    <tr>\n",
              "      <th>0</th>\n",
              "      <td>afg</td>\n",
              "      <td>1800</td>\n",
              "      <td>3280000</td>\n",
              "    </tr>\n",
              "    <tr>\n",
              "      <th>1</th>\n",
              "      <td>afg</td>\n",
              "      <td>1801</td>\n",
              "      <td>3280000</td>\n",
              "    </tr>\n",
              "    <tr>\n",
              "      <th>2</th>\n",
              "      <td>afg</td>\n",
              "      <td>1802</td>\n",
              "      <td>3280000</td>\n",
              "    </tr>\n",
              "    <tr>\n",
              "      <th>3</th>\n",
              "      <td>afg</td>\n",
              "      <td>1803</td>\n",
              "      <td>3280000</td>\n",
              "    </tr>\n",
              "    <tr>\n",
              "      <th>4</th>\n",
              "      <td>afg</td>\n",
              "      <td>1804</td>\n",
              "      <td>3280000</td>\n",
              "    </tr>\n",
              "  </tbody>\n",
              "</table>\n",
              "</div>"
            ],
            "text/plain": [
              "   geo  time  population_total\n",
              "0  afg  1800           3280000\n",
              "1  afg  1801           3280000\n",
              "2  afg  1802           3280000\n",
              "3  afg  1803           3280000\n",
              "4  afg  1804           3280000"
            ]
          },
          "metadata": {
            "tags": []
          },
          "execution_count": 3
        }
      ]
    },
    {
      "metadata": {
        "id": "X6XOnuBQ-RgV",
        "colab_type": "code",
        "colab": {
          "base_uri": "https://localhost:8080/",
          "height": 204
        },
        "outputId": "453e1746-6fd5-418c-8335-f6e1f58d44c3"
      },
      "cell_type": "code",
      "source": [
        "cell_phones_and_population = pd.merge(cell_phones, population, how='inner', on=['geo', 'time'])\n",
        "cell_phones_and_population.head()"
      ],
      "execution_count": 5,
      "outputs": [
        {
          "output_type": "execute_result",
          "data": {
            "text/html": [
              "<div>\n",
              "<style scoped>\n",
              "    .dataframe tbody tr th:only-of-type {\n",
              "        vertical-align: middle;\n",
              "    }\n",
              "\n",
              "    .dataframe tbody tr th {\n",
              "        vertical-align: top;\n",
              "    }\n",
              "\n",
              "    .dataframe thead th {\n",
              "        text-align: right;\n",
              "    }\n",
              "</style>\n",
              "<table border=\"1\" class=\"dataframe\">\n",
              "  <thead>\n",
              "    <tr style=\"text-align: right;\">\n",
              "      <th></th>\n",
              "      <th>geo</th>\n",
              "      <th>time</th>\n",
              "      <th>cell_phones_total</th>\n",
              "      <th>population_total</th>\n",
              "    </tr>\n",
              "  </thead>\n",
              "  <tbody>\n",
              "    <tr>\n",
              "      <th>0</th>\n",
              "      <td>afg</td>\n",
              "      <td>1960</td>\n",
              "      <td>0.0</td>\n",
              "      <td>8996351</td>\n",
              "    </tr>\n",
              "    <tr>\n",
              "      <th>1</th>\n",
              "      <td>afg</td>\n",
              "      <td>1965</td>\n",
              "      <td>0.0</td>\n",
              "      <td>9938414</td>\n",
              "    </tr>\n",
              "    <tr>\n",
              "      <th>2</th>\n",
              "      <td>afg</td>\n",
              "      <td>1970</td>\n",
              "      <td>0.0</td>\n",
              "      <td>11126123</td>\n",
              "    </tr>\n",
              "    <tr>\n",
              "      <th>3</th>\n",
              "      <td>afg</td>\n",
              "      <td>1975</td>\n",
              "      <td>0.0</td>\n",
              "      <td>12590286</td>\n",
              "    </tr>\n",
              "    <tr>\n",
              "      <th>4</th>\n",
              "      <td>afg</td>\n",
              "      <td>1976</td>\n",
              "      <td>0.0</td>\n",
              "      <td>12840299</td>\n",
              "    </tr>\n",
              "  </tbody>\n",
              "</table>\n",
              "</div>"
            ],
            "text/plain": [
              "   geo  time  cell_phones_total  population_total\n",
              "0  afg  1960                0.0           8996351\n",
              "1  afg  1965                0.0           9938414\n",
              "2  afg  1970                0.0          11126123\n",
              "3  afg  1975                0.0          12590286\n",
              "4  afg  1976                0.0          12840299"
            ]
          },
          "metadata": {
            "tags": []
          },
          "execution_count": 5
        }
      ]
    },
    {
      "metadata": {
        "id": "tqXiCiI8_J1r",
        "colab_type": "code",
        "colab": {
          "base_uri": "https://localhost:8080/",
          "height": 34
        },
        "outputId": "758ef59f-ad42-481c-c447-d154744a1115"
      },
      "cell_type": "code",
      "source": [
        "## check to see that final shape is (8590, 4) \n",
        "\n",
        "cell_phones.shape, population.shape, cell_phones_and_population.shape"
      ],
      "execution_count": 9,
      "outputs": [
        {
          "output_type": "execute_result",
          "data": {
            "text/plain": [
              "((9215, 3), (59297, 3), (8590, 4))"
            ]
          },
          "metadata": {
            "tags": []
          },
          "execution_count": 9
        }
      ]
    },
    {
      "metadata": {
        "id": "xsXpDbwwW241",
        "colab_type": "text"
      },
      "cell_type": "markdown",
      "source": [
        "Then, select the `geo` and `country` columns from the `geo_country_codes` dataframe, and join with your population and cell phone data.\n",
        "\n",
        "The resulting dataframe's shape should be: (8590, 5)"
      ]
    },
    {
      "metadata": {
        "id": "Q2LaZta_W2CE",
        "colab_type": "code",
        "colab": {
          "base_uri": "https://localhost:8080/",
          "height": 204
        },
        "outputId": "8d6dc35f-e75f-428b-940d-a0eb280b1ccb"
      },
      "cell_type": "code",
      "source": [
        "cp_pop_country = pd.merge(geo_country_codes[['geo', 'country']], cell_phones_and_population, how='inner', on='geo')\n",
        "cp_pop_country.head()"
      ],
      "execution_count": 23,
      "outputs": [
        {
          "output_type": "execute_result",
          "data": {
            "text/html": [
              "<div>\n",
              "<style scoped>\n",
              "    .dataframe tbody tr th:only-of-type {\n",
              "        vertical-align: middle;\n",
              "    }\n",
              "\n",
              "    .dataframe tbody tr th {\n",
              "        vertical-align: top;\n",
              "    }\n",
              "\n",
              "    .dataframe thead th {\n",
              "        text-align: right;\n",
              "    }\n",
              "</style>\n",
              "<table border=\"1\" class=\"dataframe\">\n",
              "  <thead>\n",
              "    <tr style=\"text-align: right;\">\n",
              "      <th></th>\n",
              "      <th>geo</th>\n",
              "      <th>country</th>\n",
              "      <th>time</th>\n",
              "      <th>cell_phones_total</th>\n",
              "      <th>population_total</th>\n",
              "    </tr>\n",
              "  </thead>\n",
              "  <tbody>\n",
              "    <tr>\n",
              "      <th>0</th>\n",
              "      <td>afg</td>\n",
              "      <td>Afghanistan</td>\n",
              "      <td>1960</td>\n",
              "      <td>0.0</td>\n",
              "      <td>8996351</td>\n",
              "    </tr>\n",
              "    <tr>\n",
              "      <th>1</th>\n",
              "      <td>afg</td>\n",
              "      <td>Afghanistan</td>\n",
              "      <td>1965</td>\n",
              "      <td>0.0</td>\n",
              "      <td>9938414</td>\n",
              "    </tr>\n",
              "    <tr>\n",
              "      <th>2</th>\n",
              "      <td>afg</td>\n",
              "      <td>Afghanistan</td>\n",
              "      <td>1970</td>\n",
              "      <td>0.0</td>\n",
              "      <td>11126123</td>\n",
              "    </tr>\n",
              "    <tr>\n",
              "      <th>3</th>\n",
              "      <td>afg</td>\n",
              "      <td>Afghanistan</td>\n",
              "      <td>1975</td>\n",
              "      <td>0.0</td>\n",
              "      <td>12590286</td>\n",
              "    </tr>\n",
              "    <tr>\n",
              "      <th>4</th>\n",
              "      <td>afg</td>\n",
              "      <td>Afghanistan</td>\n",
              "      <td>1976</td>\n",
              "      <td>0.0</td>\n",
              "      <td>12840299</td>\n",
              "    </tr>\n",
              "  </tbody>\n",
              "</table>\n",
              "</div>"
            ],
            "text/plain": [
              "   geo      country  time  cell_phones_total  population_total\n",
              "0  afg  Afghanistan  1960                0.0           8996351\n",
              "1  afg  Afghanistan  1965                0.0           9938414\n",
              "2  afg  Afghanistan  1970                0.0          11126123\n",
              "3  afg  Afghanistan  1975                0.0          12590286\n",
              "4  afg  Afghanistan  1976                0.0          12840299"
            ]
          },
          "metadata": {
            "tags": []
          },
          "execution_count": 23
        }
      ]
    },
    {
      "metadata": {
        "id": "4fud3WbPBR-K",
        "colab_type": "code",
        "colab": {
          "base_uri": "https://localhost:8080/",
          "height": 34
        },
        "outputId": "f320af32-c8ae-4f14-f5c5-1fdba312407c"
      },
      "cell_type": "code",
      "source": [
        "## check to see if the shape is still good\n",
        "cp_pop_country.shape"
      ],
      "execution_count": 25,
      "outputs": [
        {
          "output_type": "execute_result",
          "data": {
            "text/plain": [
              "(8590, 5)"
            ]
          },
          "metadata": {
            "tags": []
          },
          "execution_count": 25
        }
      ]
    },
    {
      "metadata": {
        "id": "oK96Uj7vYjFX",
        "colab_type": "text"
      },
      "cell_type": "markdown",
      "source": [
        "## Part 2. Make features"
      ]
    },
    {
      "metadata": {
        "id": "AD2fBNrOYzCG",
        "colab_type": "text"
      },
      "cell_type": "markdown",
      "source": [
        "Calculate the number of cell phones per person, and add this column onto your dataframe.\n",
        "\n",
        "(You've calculated correctly if you get 1.220 cell phones per person in the United States in 2017.)"
      ]
    },
    {
      "metadata": {
        "id": "wXI9nQthYnFK",
        "colab_type": "code",
        "colab": {}
      },
      "cell_type": "code",
      "source": [
        "## cell phones per person = 'cell_phones_total' / population_total\n",
        "cp_pop_country['cp_per_person'] = cp_pop_country['cell_phones_total'] / cp_pop_country['population_total']\n"
      ],
      "execution_count": 0,
      "outputs": []
    },
    {
      "metadata": {
        "id": "Yhnxs370DLKW",
        "colab_type": "code",
        "colab": {
          "base_uri": "https://localhost:8080/",
          "height": 80
        },
        "outputId": "ba24598f-b553-43fb-aec6-dd05df79bddc"
      },
      "cell_type": "code",
      "source": [
        "## check to see if it worked\n",
        "cp_pop_country[(cp_pop_country['country'] == 'United States') & (cp_pop_country['time'] == 2017)]"
      ],
      "execution_count": 35,
      "outputs": [
        {
          "output_type": "execute_result",
          "data": {
            "text/html": [
              "<div>\n",
              "<style scoped>\n",
              "    .dataframe tbody tr th:only-of-type {\n",
              "        vertical-align: middle;\n",
              "    }\n",
              "\n",
              "    .dataframe tbody tr th {\n",
              "        vertical-align: top;\n",
              "    }\n",
              "\n",
              "    .dataframe thead th {\n",
              "        text-align: right;\n",
              "    }\n",
              "</style>\n",
              "<table border=\"1\" class=\"dataframe\">\n",
              "  <thead>\n",
              "    <tr style=\"text-align: right;\">\n",
              "      <th></th>\n",
              "      <th>geo</th>\n",
              "      <th>country</th>\n",
              "      <th>time</th>\n",
              "      <th>cell_phones_total</th>\n",
              "      <th>population_total</th>\n",
              "      <th>cp_per_person</th>\n",
              "    </tr>\n",
              "  </thead>\n",
              "  <tbody>\n",
              "    <tr>\n",
              "      <th>8134</th>\n",
              "      <td>usa</td>\n",
              "      <td>United States</td>\n",
              "      <td>2017</td>\n",
              "      <td>395881000.0</td>\n",
              "      <td>324459463</td>\n",
              "      <td>1.220125</td>\n",
              "    </tr>\n",
              "  </tbody>\n",
              "</table>\n",
              "</div>"
            ],
            "text/plain": [
              "      geo        country  time  cell_phones_total  population_total  \\\n",
              "8134  usa  United States  2017        395881000.0         324459463   \n",
              "\n",
              "      cp_per_person  \n",
              "8134       1.220125  "
            ]
          },
          "metadata": {
            "tags": []
          },
          "execution_count": 35
        }
      ]
    },
    {
      "metadata": {
        "id": "S3QFdsnRZMH6",
        "colab_type": "text"
      },
      "cell_type": "markdown",
      "source": [
        "Modify the `geo` column to make the geo codes uppercase instead of lowercase."
      ]
    },
    {
      "metadata": {
        "id": "93ADij8_YkOq",
        "colab_type": "code",
        "colab": {}
      },
      "cell_type": "code",
      "source": [
        "cp_pop_country['geo'] = cp_pop_country['geo'].str.upper()"
      ],
      "execution_count": 0,
      "outputs": []
    },
    {
      "metadata": {
        "id": "5IjNPVtfD_Wq",
        "colab_type": "code",
        "colab": {
          "base_uri": "https://localhost:8080/",
          "height": 204
        },
        "outputId": "c8e1b27d-8485-4247-f9c6-efaa200a1cf2"
      },
      "cell_type": "code",
      "source": [
        "cp_pop_country.tail()"
      ],
      "execution_count": 40,
      "outputs": [
        {
          "output_type": "execute_result",
          "data": {
            "text/html": [
              "<div>\n",
              "<style scoped>\n",
              "    .dataframe tbody tr th:only-of-type {\n",
              "        vertical-align: middle;\n",
              "    }\n",
              "\n",
              "    .dataframe tbody tr th {\n",
              "        vertical-align: top;\n",
              "    }\n",
              "\n",
              "    .dataframe thead th {\n",
              "        text-align: right;\n",
              "    }\n",
              "</style>\n",
              "<table border=\"1\" class=\"dataframe\">\n",
              "  <thead>\n",
              "    <tr style=\"text-align: right;\">\n",
              "      <th></th>\n",
              "      <th>geo</th>\n",
              "      <th>country</th>\n",
              "      <th>time</th>\n",
              "      <th>cell_phones_total</th>\n",
              "      <th>population_total</th>\n",
              "      <th>cp_per_person</th>\n",
              "    </tr>\n",
              "  </thead>\n",
              "  <tbody>\n",
              "    <tr>\n",
              "      <th>8585</th>\n",
              "      <td>ZWE</td>\n",
              "      <td>Zimbabwe</td>\n",
              "      <td>2013</td>\n",
              "      <td>13633167.0</td>\n",
              "      <td>15054506</td>\n",
              "      <td>0.905587</td>\n",
              "    </tr>\n",
              "    <tr>\n",
              "      <th>8586</th>\n",
              "      <td>ZWE</td>\n",
              "      <td>Zimbabwe</td>\n",
              "      <td>2014</td>\n",
              "      <td>11798652.0</td>\n",
              "      <td>15411675</td>\n",
              "      <td>0.765566</td>\n",
              "    </tr>\n",
              "    <tr>\n",
              "      <th>8587</th>\n",
              "      <td>ZWE</td>\n",
              "      <td>Zimbabwe</td>\n",
              "      <td>2015</td>\n",
              "      <td>12757410.0</td>\n",
              "      <td>15777451</td>\n",
              "      <td>0.808585</td>\n",
              "    </tr>\n",
              "    <tr>\n",
              "      <th>8588</th>\n",
              "      <td>ZWE</td>\n",
              "      <td>Zimbabwe</td>\n",
              "      <td>2016</td>\n",
              "      <td>12878926.0</td>\n",
              "      <td>16150362</td>\n",
              "      <td>0.797439</td>\n",
              "    </tr>\n",
              "    <tr>\n",
              "      <th>8589</th>\n",
              "      <td>ZWE</td>\n",
              "      <td>Zimbabwe</td>\n",
              "      <td>2017</td>\n",
              "      <td>14092104.0</td>\n",
              "      <td>16529904</td>\n",
              "      <td>0.852522</td>\n",
              "    </tr>\n",
              "  </tbody>\n",
              "</table>\n",
              "</div>"
            ],
            "text/plain": [
              "      geo   country  time  cell_phones_total  population_total  cp_per_person\n",
              "8585  ZWE  Zimbabwe  2013         13633167.0          15054506       0.905587\n",
              "8586  ZWE  Zimbabwe  2014         11798652.0          15411675       0.765566\n",
              "8587  ZWE  Zimbabwe  2015         12757410.0          15777451       0.808585\n",
              "8588  ZWE  Zimbabwe  2016         12878926.0          16150362       0.797439\n",
              "8589  ZWE  Zimbabwe  2017         14092104.0          16529904       0.852522"
            ]
          },
          "metadata": {
            "tags": []
          },
          "execution_count": 40
        }
      ]
    },
    {
      "metadata": {
        "id": "hlPDAFCfaF6C",
        "colab_type": "text"
      },
      "cell_type": "markdown",
      "source": [
        "## Part 3. Process data"
      ]
    },
    {
      "metadata": {
        "id": "k-pudNWve2SQ",
        "colab_type": "text"
      },
      "cell_type": "markdown",
      "source": [
        "Use the describe function, to describe your dataframe's numeric columns, and then its non-numeric columns.\n",
        "\n",
        "(You'll see the time period ranges from 1960 to 2017, and there are 195 unique countries represented.)"
      ]
    },
    {
      "metadata": {
        "id": "g26yemKre2Cu",
        "colab_type": "code",
        "colab": {
          "base_uri": "https://localhost:8080/",
          "height": 297
        },
        "outputId": "73bf2880-3ea3-44e1-a229-c9112643ea77"
      },
      "cell_type": "code",
      "source": [
        "## describe numeric colummns\n",
        "\n",
        "cp_pop_country.describe()"
      ],
      "execution_count": 41,
      "outputs": [
        {
          "output_type": "execute_result",
          "data": {
            "text/html": [
              "<div>\n",
              "<style scoped>\n",
              "    .dataframe tbody tr th:only-of-type {\n",
              "        vertical-align: middle;\n",
              "    }\n",
              "\n",
              "    .dataframe tbody tr th {\n",
              "        vertical-align: top;\n",
              "    }\n",
              "\n",
              "    .dataframe thead th {\n",
              "        text-align: right;\n",
              "    }\n",
              "</style>\n",
              "<table border=\"1\" class=\"dataframe\">\n",
              "  <thead>\n",
              "    <tr style=\"text-align: right;\">\n",
              "      <th></th>\n",
              "      <th>time</th>\n",
              "      <th>cell_phones_total</th>\n",
              "      <th>population_total</th>\n",
              "      <th>cp_per_person</th>\n",
              "    </tr>\n",
              "  </thead>\n",
              "  <tbody>\n",
              "    <tr>\n",
              "      <th>count</th>\n",
              "      <td>8590.000000</td>\n",
              "      <td>8.590000e+03</td>\n",
              "      <td>8.590000e+03</td>\n",
              "      <td>8590.000000</td>\n",
              "    </tr>\n",
              "    <tr>\n",
              "      <th>mean</th>\n",
              "      <td>1994.193481</td>\n",
              "      <td>9.004950e+06</td>\n",
              "      <td>2.983823e+07</td>\n",
              "      <td>0.279639</td>\n",
              "    </tr>\n",
              "    <tr>\n",
              "      <th>std</th>\n",
              "      <td>14.257975</td>\n",
              "      <td>5.573408e+07</td>\n",
              "      <td>1.161284e+08</td>\n",
              "      <td>0.454247</td>\n",
              "    </tr>\n",
              "    <tr>\n",
              "      <th>min</th>\n",
              "      <td>1960.000000</td>\n",
              "      <td>0.000000e+00</td>\n",
              "      <td>4.433000e+03</td>\n",
              "      <td>0.000000</td>\n",
              "    </tr>\n",
              "    <tr>\n",
              "      <th>25%</th>\n",
              "      <td>1983.000000</td>\n",
              "      <td>0.000000e+00</td>\n",
              "      <td>1.456148e+06</td>\n",
              "      <td>0.000000</td>\n",
              "    </tr>\n",
              "    <tr>\n",
              "      <th>50%</th>\n",
              "      <td>1995.000000</td>\n",
              "      <td>6.200000e+03</td>\n",
              "      <td>5.725062e+06</td>\n",
              "      <td>0.001564</td>\n",
              "    </tr>\n",
              "    <tr>\n",
              "      <th>75%</th>\n",
              "      <td>2006.000000</td>\n",
              "      <td>1.697652e+06</td>\n",
              "      <td>1.810581e+07</td>\n",
              "      <td>0.461149</td>\n",
              "    </tr>\n",
              "    <tr>\n",
              "      <th>max</th>\n",
              "      <td>2017.000000</td>\n",
              "      <td>1.474097e+09</td>\n",
              "      <td>1.409517e+09</td>\n",
              "      <td>2.490243</td>\n",
              "    </tr>\n",
              "  </tbody>\n",
              "</table>\n",
              "</div>"
            ],
            "text/plain": [
              "              time  cell_phones_total  population_total  cp_per_person\n",
              "count  8590.000000       8.590000e+03      8.590000e+03    8590.000000\n",
              "mean   1994.193481       9.004950e+06      2.983823e+07       0.279639\n",
              "std      14.257975       5.573408e+07      1.161284e+08       0.454247\n",
              "min    1960.000000       0.000000e+00      4.433000e+03       0.000000\n",
              "25%    1983.000000       0.000000e+00      1.456148e+06       0.000000\n",
              "50%    1995.000000       6.200000e+03      5.725062e+06       0.001564\n",
              "75%    2006.000000       1.697652e+06      1.810581e+07       0.461149\n",
              "max    2017.000000       1.474097e+09      1.409517e+09       2.490243"
            ]
          },
          "metadata": {
            "tags": []
          },
          "execution_count": 41
        }
      ]
    },
    {
      "metadata": {
        "id": "bgsLkp2lEVo-",
        "colab_type": "code",
        "colab": {
          "base_uri": "https://localhost:8080/",
          "height": 173
        },
        "outputId": "b0744603-53a8-4373-85ea-1b10d212266d"
      },
      "cell_type": "code",
      "source": [
        "## describe non-numeric columns\n",
        "cp_pop_country.describe(exclude='number')"
      ],
      "execution_count": 43,
      "outputs": [
        {
          "output_type": "execute_result",
          "data": {
            "text/html": [
              "<div>\n",
              "<style scoped>\n",
              "    .dataframe tbody tr th:only-of-type {\n",
              "        vertical-align: middle;\n",
              "    }\n",
              "\n",
              "    .dataframe tbody tr th {\n",
              "        vertical-align: top;\n",
              "    }\n",
              "\n",
              "    .dataframe thead th {\n",
              "        text-align: right;\n",
              "    }\n",
              "</style>\n",
              "<table border=\"1\" class=\"dataframe\">\n",
              "  <thead>\n",
              "    <tr style=\"text-align: right;\">\n",
              "      <th></th>\n",
              "      <th>geo</th>\n",
              "      <th>country</th>\n",
              "    </tr>\n",
              "  </thead>\n",
              "  <tbody>\n",
              "    <tr>\n",
              "      <th>count</th>\n",
              "      <td>8590</td>\n",
              "      <td>8590</td>\n",
              "    </tr>\n",
              "    <tr>\n",
              "      <th>unique</th>\n",
              "      <td>195</td>\n",
              "      <td>195</td>\n",
              "    </tr>\n",
              "    <tr>\n",
              "      <th>top</th>\n",
              "      <td>MDG</td>\n",
              "      <td>Rwanda</td>\n",
              "    </tr>\n",
              "    <tr>\n",
              "      <th>freq</th>\n",
              "      <td>46</td>\n",
              "      <td>46</td>\n",
              "    </tr>\n",
              "  </tbody>\n",
              "</table>\n",
              "</div>"
            ],
            "text/plain": [
              "         geo country\n",
              "count   8590    8590\n",
              "unique   195     195\n",
              "top      MDG  Rwanda\n",
              "freq      46      46"
            ]
          },
          "metadata": {
            "tags": []
          },
          "execution_count": 43
        }
      ]
    },
    {
      "metadata": {
        "id": "zALg-RrYaLcI",
        "colab_type": "text"
      },
      "cell_type": "markdown",
      "source": [
        "In 2017, what were the top 5 countries with the most cell phones total?\n",
        "\n",
        "Your list of countries should have these totals:\n",
        "\n",
        "| country | cell phones total |\n",
        "|:-------:|:-----------------:|\n",
        "|    ?    |     1,474,097,000 |\n",
        "|    ?    |     1,168,902,277 |\n",
        "|    ?    |       458,923,202 |\n",
        "|    ?    |       395,881,000 |\n",
        "|    ?    |       236,488,548 |\n",
        "\n"
      ]
    },
    {
      "metadata": {
        "id": "JdlWvezHaZxD",
        "colab_type": "code",
        "colab": {}
      },
      "cell_type": "code",
      "source": [
        "# This optional code formats float numbers with comma separators\n",
        "pd.options.display.float_format = '{:,}'.format"
      ],
      "execution_count": 0,
      "outputs": []
    },
    {
      "metadata": {
        "id": "smX8vzu4cyju",
        "colab_type": "code",
        "colab": {
          "base_uri": "https://localhost:8080/",
          "height": 204
        },
        "outputId": "b7c756be-6b0e-4c1f-f84b-665f7ef70690"
      },
      "cell_type": "code",
      "source": [
        "## first I chose rows where 'time' column was equal to '2017'\n",
        "## second I sorted the values by 'cell_phones_total' in descending order.\n",
        "## third I picked the columns I wanted to show\n",
        "## lastly I chose to display only five from the top of the list\n",
        "cp_pop_country[cp_pop_country['time']==2017].sort_values(by='cell_phones_total', ascending=False)[['country', 'cell_phones_total']].head()"
      ],
      "execution_count": 52,
      "outputs": [
        {
          "output_type": "execute_result",
          "data": {
            "text/html": [
              "<div>\n",
              "<style scoped>\n",
              "    .dataframe tbody tr th:only-of-type {\n",
              "        vertical-align: middle;\n",
              "    }\n",
              "\n",
              "    .dataframe tbody tr th {\n",
              "        vertical-align: top;\n",
              "    }\n",
              "\n",
              "    .dataframe thead th {\n",
              "        text-align: right;\n",
              "    }\n",
              "</style>\n",
              "<table border=\"1\" class=\"dataframe\">\n",
              "  <thead>\n",
              "    <tr style=\"text-align: right;\">\n",
              "      <th></th>\n",
              "      <th>country</th>\n",
              "      <th>cell_phones_total</th>\n",
              "    </tr>\n",
              "  </thead>\n",
              "  <tbody>\n",
              "    <tr>\n",
              "      <th>1496</th>\n",
              "      <td>China</td>\n",
              "      <td>1,474,097,000.0</td>\n",
              "    </tr>\n",
              "    <tr>\n",
              "      <th>3595</th>\n",
              "      <td>India</td>\n",
              "      <td>1,168,902,277.0</td>\n",
              "    </tr>\n",
              "    <tr>\n",
              "      <th>3549</th>\n",
              "      <td>Indonesia</td>\n",
              "      <td>458,923,202.0</td>\n",
              "    </tr>\n",
              "    <tr>\n",
              "      <th>8134</th>\n",
              "      <td>United States</td>\n",
              "      <td>395,881,000.0</td>\n",
              "    </tr>\n",
              "    <tr>\n",
              "      <th>1084</th>\n",
              "      <td>Brazil</td>\n",
              "      <td>236,488,548.0</td>\n",
              "    </tr>\n",
              "  </tbody>\n",
              "</table>\n",
              "</div>"
            ],
            "text/plain": [
              "            country  cell_phones_total\n",
              "1496          China    1,474,097,000.0\n",
              "3595          India    1,168,902,277.0\n",
              "3549      Indonesia      458,923,202.0\n",
              "8134  United States      395,881,000.0\n",
              "1084         Brazil      236,488,548.0"
            ]
          },
          "metadata": {
            "tags": []
          },
          "execution_count": 52
        }
      ]
    },
    {
      "metadata": {
        "id": "03V3Wln_h0dj",
        "colab_type": "text"
      },
      "cell_type": "markdown",
      "source": [
        "2017 was the first year that China had more cell phones than people.\n",
        "\n",
        "What was the first year that the USA had more cell phones than people?"
      ]
    },
    {
      "metadata": {
        "id": "KONQkQZ3haNC",
        "colab_type": "code",
        "colab": {
          "base_uri": "https://localhost:8080/",
          "height": 173
        },
        "outputId": "703c47c5-713c-496e-8e70-c8a012b97948"
      },
      "cell_type": "code",
      "source": [
        "## want USA rows only\n",
        "## want rows only where USA cell phones total is greater than population\n",
        "## want to show data in format where 'year' is ascending\n",
        "\n",
        "(cp_pop_country[(cp_pop_country['cell_phones_total'] > cp_pop_country['population_total'])\n",
        "                & (cp_pop_country['geo'] == 'USA')].sort_values(by='time', ascending=True))"
      ],
      "execution_count": 62,
      "outputs": [
        {
          "output_type": "execute_result",
          "data": {
            "text/html": [
              "<div>\n",
              "<style scoped>\n",
              "    .dataframe tbody tr th:only-of-type {\n",
              "        vertical-align: middle;\n",
              "    }\n",
              "\n",
              "    .dataframe tbody tr th {\n",
              "        vertical-align: top;\n",
              "    }\n",
              "\n",
              "    .dataframe thead th {\n",
              "        text-align: right;\n",
              "    }\n",
              "</style>\n",
              "<table border=\"1\" class=\"dataframe\">\n",
              "  <thead>\n",
              "    <tr style=\"text-align: right;\">\n",
              "      <th></th>\n",
              "      <th>geo</th>\n",
              "      <th>country</th>\n",
              "      <th>time</th>\n",
              "      <th>cell_phones_total</th>\n",
              "      <th>population_total</th>\n",
              "      <th>cp_per_person</th>\n",
              "    </tr>\n",
              "  </thead>\n",
              "  <tbody>\n",
              "    <tr>\n",
              "      <th>8131</th>\n",
              "      <td>USA</td>\n",
              "      <td>United States</td>\n",
              "      <td>2014</td>\n",
              "      <td>355,500,000.0</td>\n",
              "      <td>317718779</td>\n",
              "      <td>1.118914031833164</td>\n",
              "    </tr>\n",
              "    <tr>\n",
              "      <th>8132</th>\n",
              "      <td>USA</td>\n",
              "      <td>United States</td>\n",
              "      <td>2015</td>\n",
              "      <td>382,307,000.0</td>\n",
              "      <td>319929162</td>\n",
              "      <td>1.1949739048796058</td>\n",
              "    </tr>\n",
              "    <tr>\n",
              "      <th>8133</th>\n",
              "      <td>USA</td>\n",
              "      <td>United States</td>\n",
              "      <td>2016</td>\n",
              "      <td>395,881,000.0</td>\n",
              "      <td>322179605</td>\n",
              "      <td>1.228758722948959</td>\n",
              "    </tr>\n",
              "    <tr>\n",
              "      <th>8134</th>\n",
              "      <td>USA</td>\n",
              "      <td>United States</td>\n",
              "      <td>2017</td>\n",
              "      <td>395,881,000.0</td>\n",
              "      <td>324459463</td>\n",
              "      <td>1.2201246847283354</td>\n",
              "    </tr>\n",
              "  </tbody>\n",
              "</table>\n",
              "</div>"
            ],
            "text/plain": [
              "      geo        country  time  cell_phones_total  population_total  \\\n",
              "8131  USA  United States  2014      355,500,000.0         317718779   \n",
              "8132  USA  United States  2015      382,307,000.0         319929162   \n",
              "8133  USA  United States  2016      395,881,000.0         322179605   \n",
              "8134  USA  United States  2017      395,881,000.0         324459463   \n",
              "\n",
              "          cp_per_person  \n",
              "8131  1.118914031833164  \n",
              "8132 1.1949739048796058  \n",
              "8133  1.228758722948959  \n",
              "8134 1.2201246847283354  "
            ]
          },
          "metadata": {
            "tags": []
          },
          "execution_count": 62
        }
      ]
    },
    {
      "metadata": {
        "id": "wNhAoOZmIaXX",
        "colab_type": "code",
        "colab": {
          "base_uri": "https://localhost:8080/",
          "height": 80
        },
        "outputId": "aee037e3-d427-4df1-a6f6-14185361b8b1"
      },
      "cell_type": "code",
      "source": [
        "## quick check to see that in 2013, USA did still have more people than cell phones\n",
        "\n",
        "cp_pop_country[(cp_pop_country['time'] == 2013) & (cp_pop_country['geo'] == 'USA')]"
      ],
      "execution_count": 64,
      "outputs": [
        {
          "output_type": "execute_result",
          "data": {
            "text/html": [
              "<div>\n",
              "<style scoped>\n",
              "    .dataframe tbody tr th:only-of-type {\n",
              "        vertical-align: middle;\n",
              "    }\n",
              "\n",
              "    .dataframe tbody tr th {\n",
              "        vertical-align: top;\n",
              "    }\n",
              "\n",
              "    .dataframe thead th {\n",
              "        text-align: right;\n",
              "    }\n",
              "</style>\n",
              "<table border=\"1\" class=\"dataframe\">\n",
              "  <thead>\n",
              "    <tr style=\"text-align: right;\">\n",
              "      <th></th>\n",
              "      <th>geo</th>\n",
              "      <th>country</th>\n",
              "      <th>time</th>\n",
              "      <th>cell_phones_total</th>\n",
              "      <th>population_total</th>\n",
              "      <th>cp_per_person</th>\n",
              "    </tr>\n",
              "  </thead>\n",
              "  <tbody>\n",
              "    <tr>\n",
              "      <th>8130</th>\n",
              "      <td>USA</td>\n",
              "      <td>United States</td>\n",
              "      <td>2013</td>\n",
              "      <td>310,698,000.0</td>\n",
              "      <td>315536676</td>\n",
              "      <td>0.9846652501340288</td>\n",
              "    </tr>\n",
              "  </tbody>\n",
              "</table>\n",
              "</div>"
            ],
            "text/plain": [
              "      geo        country  time  cell_phones_total  population_total  \\\n",
              "8130  USA  United States  2013      310,698,000.0         315536676   \n",
              "\n",
              "          cp_per_person  \n",
              "8130 0.9846652501340288  "
            ]
          },
          "metadata": {
            "tags": []
          },
          "execution_count": 64
        }
      ]
    },
    {
      "metadata": {
        "id": "ggHmJPLTI-A1",
        "colab_type": "text"
      },
      "cell_type": "markdown",
      "source": [
        "**Looking at the data, it seems that the first year USA had more cell phones than people was in 2014**"
      ]
    },
    {
      "metadata": {
        "id": "6J7iwMnTg8KZ",
        "colab_type": "text"
      },
      "cell_type": "markdown",
      "source": [
        "## Part 4. Reshape data"
      ]
    },
    {
      "metadata": {
        "id": "LP9InazRkUxG",
        "colab_type": "text"
      },
      "cell_type": "markdown",
      "source": [
        "Create a pivot table:\n",
        "- Columns: Years 2007—2017\n",
        "- Rows: China, India, United States, Indonesia, Brazil (order doesn't matter)\n",
        "- Values: Cell Phones Total\n",
        "\n",
        "The table's shape should be: (5, 11)"
      ]
    },
    {
      "metadata": {
        "id": "JD7mXXjLj4Ue",
        "colab_type": "code",
        "colab": {}
      },
      "cell_type": "code",
      "source": [
        "## make a df that only has years after 2007(including 2007)\n",
        "cpc_year = cp_pop_country[cp_pop_country['time'] >= 2007]\n"
      ],
      "execution_count": 0,
      "outputs": []
    },
    {
      "metadata": {
        "id": "UQje04BAKl0i",
        "colab_type": "code",
        "colab": {}
      },
      "cell_type": "code",
      "source": [
        "## modify a df further by including only the countries that you are interested in\n",
        "\n",
        "countries = ['China', 'India', 'United States', 'Indonesia', 'Brazil']\n",
        "cpc_year_country = cpc_year[cpc_year['country'].isin(countries)]\n"
      ],
      "execution_count": 0,
      "outputs": []
    },
    {
      "metadata": {
        "id": "Im_5HrljLB1F",
        "colab_type": "code",
        "colab": {}
      },
      "cell_type": "code",
      "source": [
        "## create pivot table. index = countries, columns = time, values = cell phones total\n",
        "cpc_pivot_table = cpc_year_country.pivot_table(index='country', columns='time', values='cell_phones_total')"
      ],
      "execution_count": 0,
      "outputs": []
    },
    {
      "metadata": {
        "id": "GkUG_utWLVsO",
        "colab_type": "code",
        "colab": {
          "base_uri": "https://localhost:8080/",
          "height": 34
        },
        "outputId": "95b9e99e-7041-4307-85e9-d5b05b197521"
      },
      "cell_type": "code",
      "source": [
        "## check to see correctness\n",
        "cpc_pivot_table.shape"
      ],
      "execution_count": 72,
      "outputs": [
        {
          "output_type": "execute_result",
          "data": {
            "text/plain": [
              "(5, 11)"
            ]
          },
          "metadata": {
            "tags": []
          },
          "execution_count": 72
        }
      ]
    },
    {
      "metadata": {
        "id": "UHRIWLcWLaIs",
        "colab_type": "code",
        "colab": {
          "base_uri": "https://localhost:8080/",
          "height": 292
        },
        "outputId": "83dabaf7-df19-43d0-8803-7c7a45b9f5e4"
      },
      "cell_type": "code",
      "source": [
        "cpc_pivot_table"
      ],
      "execution_count": 73,
      "outputs": [
        {
          "output_type": "execute_result",
          "data": {
            "text/html": [
              "<div>\n",
              "<style scoped>\n",
              "    .dataframe tbody tr th:only-of-type {\n",
              "        vertical-align: middle;\n",
              "    }\n",
              "\n",
              "    .dataframe tbody tr th {\n",
              "        vertical-align: top;\n",
              "    }\n",
              "\n",
              "    .dataframe thead th {\n",
              "        text-align: right;\n",
              "    }\n",
              "</style>\n",
              "<table border=\"1\" class=\"dataframe\">\n",
              "  <thead>\n",
              "    <tr style=\"text-align: right;\">\n",
              "      <th>time</th>\n",
              "      <th>2007</th>\n",
              "      <th>2008</th>\n",
              "      <th>2009</th>\n",
              "      <th>2010</th>\n",
              "      <th>2011</th>\n",
              "      <th>2012</th>\n",
              "      <th>2013</th>\n",
              "      <th>2014</th>\n",
              "      <th>2015</th>\n",
              "      <th>2016</th>\n",
              "      <th>2017</th>\n",
              "    </tr>\n",
              "    <tr>\n",
              "      <th>country</th>\n",
              "      <th></th>\n",
              "      <th></th>\n",
              "      <th></th>\n",
              "      <th></th>\n",
              "      <th></th>\n",
              "      <th></th>\n",
              "      <th></th>\n",
              "      <th></th>\n",
              "      <th></th>\n",
              "      <th></th>\n",
              "      <th></th>\n",
              "    </tr>\n",
              "  </thead>\n",
              "  <tbody>\n",
              "    <tr>\n",
              "      <th>Brazil</th>\n",
              "      <td>120,980,103.0</td>\n",
              "      <td>150,641,403.0</td>\n",
              "      <td>169,385,584.0</td>\n",
              "      <td>196,929,978.0</td>\n",
              "      <td>234,357,507.0</td>\n",
              "      <td>248,323,703.0</td>\n",
              "      <td>271,099,799.0</td>\n",
              "      <td>280,728,796.0</td>\n",
              "      <td>257,814,274.0</td>\n",
              "      <td>244,067,356.0</td>\n",
              "      <td>236,488,548.0</td>\n",
              "    </tr>\n",
              "    <tr>\n",
              "      <th>China</th>\n",
              "      <td>547,306,000.0</td>\n",
              "      <td>641,245,000.0</td>\n",
              "      <td>747,214,000.0</td>\n",
              "      <td>859,003,000.0</td>\n",
              "      <td>986,253,000.0</td>\n",
              "      <td>1,112,155,000.0</td>\n",
              "      <td>1,229,113,000.0</td>\n",
              "      <td>1,286,093,000.0</td>\n",
              "      <td>1,291,984,200.0</td>\n",
              "      <td>1,364,934,000.0</td>\n",
              "      <td>1,474,097,000.0</td>\n",
              "    </tr>\n",
              "    <tr>\n",
              "      <th>India</th>\n",
              "      <td>233,620,000.0</td>\n",
              "      <td>346,890,000.0</td>\n",
              "      <td>525,090,000.0</td>\n",
              "      <td>752,190,000.0</td>\n",
              "      <td>893,862,478.0</td>\n",
              "      <td>864,720,917.0</td>\n",
              "      <td>886,304,245.0</td>\n",
              "      <td>944,008,677.0</td>\n",
              "      <td>1,001,056,000.0</td>\n",
              "      <td>1,127,809,000.0</td>\n",
              "      <td>1,168,902,277.0</td>\n",
              "    </tr>\n",
              "    <tr>\n",
              "      <th>Indonesia</th>\n",
              "      <td>93,386,881.0</td>\n",
              "      <td>140,578,243.0</td>\n",
              "      <td>163,676,961.0</td>\n",
              "      <td>211,290,235.0</td>\n",
              "      <td>249,805,619.0</td>\n",
              "      <td>281,963,665.0</td>\n",
              "      <td>313,226,914.0</td>\n",
              "      <td>325,582,819.0</td>\n",
              "      <td>338,948,340.0</td>\n",
              "      <td>385,573,398.0</td>\n",
              "      <td>458,923,202.0</td>\n",
              "    </tr>\n",
              "    <tr>\n",
              "      <th>United States</th>\n",
              "      <td>249,300,000.0</td>\n",
              "      <td>261,300,000.0</td>\n",
              "      <td>274,283,000.0</td>\n",
              "      <td>285,118,000.0</td>\n",
              "      <td>297,404,000.0</td>\n",
              "      <td>304,838,000.0</td>\n",
              "      <td>310,698,000.0</td>\n",
              "      <td>355,500,000.0</td>\n",
              "      <td>382,307,000.0</td>\n",
              "      <td>395,881,000.0</td>\n",
              "      <td>395,881,000.0</td>\n",
              "    </tr>\n",
              "  </tbody>\n",
              "</table>\n",
              "</div>"
            ],
            "text/plain": [
              "time                   2007          2008          2009          2010  \\\n",
              "country                                                                 \n",
              "Brazil        120,980,103.0 150,641,403.0 169,385,584.0 196,929,978.0   \n",
              "China         547,306,000.0 641,245,000.0 747,214,000.0 859,003,000.0   \n",
              "India         233,620,000.0 346,890,000.0 525,090,000.0 752,190,000.0   \n",
              "Indonesia      93,386,881.0 140,578,243.0 163,676,961.0 211,290,235.0   \n",
              "United States 249,300,000.0 261,300,000.0 274,283,000.0 285,118,000.0   \n",
              "\n",
              "time                   2011            2012            2013            2014  \\\n",
              "country                                                                       \n",
              "Brazil        234,357,507.0   248,323,703.0   271,099,799.0   280,728,796.0   \n",
              "China         986,253,000.0 1,112,155,000.0 1,229,113,000.0 1,286,093,000.0   \n",
              "India         893,862,478.0   864,720,917.0   886,304,245.0   944,008,677.0   \n",
              "Indonesia     249,805,619.0   281,963,665.0   313,226,914.0   325,582,819.0   \n",
              "United States 297,404,000.0   304,838,000.0   310,698,000.0   355,500,000.0   \n",
              "\n",
              "time                     2015            2016            2017  \n",
              "country                                                        \n",
              "Brazil          257,814,274.0   244,067,356.0   236,488,548.0  \n",
              "China         1,291,984,200.0 1,364,934,000.0 1,474,097,000.0  \n",
              "India         1,001,056,000.0 1,127,809,000.0 1,168,902,277.0  \n",
              "Indonesia       338,948,340.0   385,573,398.0   458,923,202.0  \n",
              "United States   382,307,000.0   395,881,000.0   395,881,000.0  "
            ]
          },
          "metadata": {
            "tags": []
          },
          "execution_count": 73
        }
      ]
    },
    {
      "metadata": {
        "id": "CNKTu2DCnAo6",
        "colab_type": "text"
      },
      "cell_type": "markdown",
      "source": [
        "#### OPTIONAL BONUS QUESTION!\n",
        "\n",
        "Sort these 5 countries, by biggest increase in cell phones from 2007 to 2017.\n",
        "\n",
        "Which country had 935,282,277 more cell phones in 2017 versus 2007?"
      ]
    },
    {
      "metadata": {
        "id": "O4Aecv1fmQlj",
        "colab_type": "code",
        "colab": {}
      },
      "cell_type": "code",
      "source": [
        "## list of 2017 total cell phones\n",
        "last_year = list(cpc_year_country[cpc_year_country['time'] == 2017]['cell_phones_total'])"
      ],
      "execution_count": 0,
      "outputs": []
    },
    {
      "metadata": {
        "id": "lv_2geYBOnoZ",
        "colab_type": "code",
        "colab": {}
      },
      "cell_type": "code",
      "source": [
        "## list of 2007 total cell phones\n",
        "first_year = list(cpc_year_country[cpc_year_country['time'] == 2007]['cell_phones_total'])"
      ],
      "execution_count": 0,
      "outputs": []
    },
    {
      "metadata": {
        "id": "vlXTyn9BPDfY",
        "colab_type": "code",
        "colab": {
          "base_uri": "https://localhost:8080/",
          "height": 34
        },
        "outputId": "d0826ac5-8549-45c3-cf0e-c9b291036360"
      },
      "cell_type": "code",
      "source": [
        "## list comprehension that gives the differences of cell phones total\n",
        "## from 2017 and 2007\n",
        "\n",
        "dif = [last_year[i]-first_year[i] for i in range(5)]\n",
        "dif\n",
        "  "
      ],
      "execution_count": 92,
      "outputs": [
        {
          "output_type": "execute_result",
          "data": {
            "text/plain": [
              "[115508445.0, 926791000.0, 365536321.0, 935282277.0, 146581000.0]"
            ]
          },
          "metadata": {
            "tags": []
          },
          "execution_count": 92
        }
      ]
    },
    {
      "metadata": {
        "id": "_XI-jzyqQLuh",
        "colab_type": "code",
        "colab": {
          "base_uri": "https://localhost:8080/",
          "height": 119
        },
        "outputId": "4a5c9542-85ea-4502-f5b1-ac5da3d36aa1"
      },
      "cell_type": "code",
      "source": [
        "# made a dataframe with corresponding difference counts.. not the best way.\n",
        "\n",
        "df = pd.DataFrame(\n",
        "        {'Brazil': 115508445.0,\n",
        "        'China': 926791000.0,\n",
        "        'India': 365536321.0,\n",
        "        'Indonesia': 935282277.0,\n",
        "        'United States': 146581000.0},\n",
        "        index=[1,2,3,4,5])\n",
        "df.T.sort_values(by=1, ascending=False)[1]"
      ],
      "execution_count": 125,
      "outputs": [
        {
          "output_type": "execute_result",
          "data": {
            "text/plain": [
              "Indonesia       935,282,277.0\n",
              "China           926,791,000.0\n",
              "India           365,536,321.0\n",
              "United States   146,581,000.0\n",
              "Brazil          115,508,445.0\n",
              "Name: 1, dtype: float64"
            ]
          },
          "metadata": {
            "tags": []
          },
          "execution_count": 125
        }
      ]
    },
    {
      "metadata": {
        "id": "IgaQ2y9gUKMO",
        "colab_type": "text"
      },
      "cell_type": "markdown",
      "source": [
        "Solution is not the cleanest.. to get to the table.  But I was able to figure out that it was \n",
        "Indonesia that had the largest increase in cell phones from 2007 to 2017.  They are the ones that increased by 935, 282,277 cell phones"
      ]
    },
    {
      "metadata": {
        "id": "7iHkMsa3Rorh",
        "colab_type": "text"
      },
      "cell_type": "markdown",
      "source": [
        "If you have the time and curiosity, what other questions can you ask and answer with this data?"
      ]
    }
  ]
}