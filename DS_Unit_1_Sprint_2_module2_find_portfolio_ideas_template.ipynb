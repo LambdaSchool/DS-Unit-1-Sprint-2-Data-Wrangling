{
  "nbformat": 4,
  "nbformat_minor": 0,
  "metadata": {
    "colab": {
      "name": "DS-Unit-1-Sprint-2-module2-find-portfolio-ideas/template.ipynb",
      "version": "0.3.2",
      "provenance": [],
      "include_colab_link": true
    },
    "kernelspec": {
      "name": "python3",
      "display_name": "Python 3"
    }
  },
  "cells": [
    {
      "cell_type": "markdown",
      "metadata": {
        "id": "view-in-github",
        "colab_type": "text"
      },
      "source": [
        "<a href=\"https://colab.research.google.com/github/maiormarso/DS-Unit-1-Sprint-2-Data-Wrangling-and-Storytelling/blob/master/DS_Unit_1_Sprint_2_module2_find_portfolio_ideas_template.ipynb\" target=\"_parent\"><img src=\"https://colab.research.google.com/assets/colab-badge.svg\" alt=\"Open In Colab\"/></a>"
      ]
    },
    {
      "cell_type": "code",
      "metadata": {
        "id": "BOhLJytE_wf9",
        "colab_type": "code",
        "colab": {}
      },
      "source": [
        "DS-Unit-1-Sprint-2-Data-Wrangling-and-Storytelling/blob/master/module2-find-portfolio-ideas/template.md"
      ],
      "execution_count": 0,
      "outputs": []
    },
    {
      "cell_type": "markdown",
      "metadata": {
        "id": "54oxWhaD_6yx",
        "colab_type": "text"
      },
      "source": [
        "# Ideas for data storytelling\n",
        "\n",
        "## You\n",
        "\n",
        "What do you care about?\n",
        "Art\n",
        "\n",
        "Art Galleries\n",
        "\n",
        "Ast Supplies\n",
        "\n",
        "What do you know about?\n",
        "\n",
        "Art\n",
        "\n",
        "What decisions do you face?\n",
        "\n",
        "\n",
        "\n",
        "## Seven templates\n",
        "\n",
        "Training Kit (https://learn.lambdaschool.com/ds/module/recedjanlbpqxic2r) explains the seven templates from Priceonomics.\n",
        "\n",
        "Can you apply the templates to your topics? \n",
        "\n",
        "1. Geographic Variation\n",
        "United States\n",
        "\n",
        "2. Trend related to the news\n",
        "\n",
        "\n",
        "3. Who does that?\n",
        "\n",
        "\n",
        "4. Answering a question people care about\n",
        "\n",
        "\n",
        "5. Valuable to businesses\n",
        "\n",
        "\n",
        "6. What's the most popular?\n",
        "\n",
        "\n",
        "7. Cost/Money rankings\n",
        "\n",
        "\n",
        "## Misconceptions\n",
        "\n",
        "What misconceptions do people have about your topic?\n",
        "\n",
        "\n",
        "## Examples\n",
        "\n",
        "What data storytelling example inspires you?\n",
        "\n",
        "\n",
        "Could you do a new hypothesis, for the same question?\n",
        "\n",
        "\n",
        "Could you do a new question, for the same topic?\n",
        "\n",
        "\n",
        "Could you do a new topic, with the same \"style\"?\n",
        "\n",
        "\n",
        "## Data\n",
        "\n",
        "Where could you search for data about your topic?\n",
        "\n",
        "\n",
        "# Assignment!\n",
        "\n",
        "Fill out the above template *twice*, for two different ideas.\n",
        "\n",
        "Then compare and contrast and select one as the idea you're leaning towards\n",
        "working on for your project week."
      ]
    }
  ]
}