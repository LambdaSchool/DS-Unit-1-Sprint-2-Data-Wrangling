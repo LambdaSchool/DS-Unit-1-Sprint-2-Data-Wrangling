{
  "nbformat": 4,
  "nbformat_minor": 0,
  "metadata": {
    "colab": {
      "name": "Copy of LS_DS_121_Join_and_Reshape_Data.ipynb",
      "version": "0.3.2",
      "provenance": [],
      "collapsed_sections": [
        "RsA14wiKr03j",
        "cbHumXOiJfy2",
        "Z1YRw5ypJuv2",
        "3K1p0QHuKPnt",
        "dDfzKXJdwApV",
        "jr0jQy6Oxqi7"
      ],
      "toc_visible": true,
      "include_colab_link": true
    },
    "kernelspec": {
      "display_name": "Python 3",
      "language": "python",
      "name": "python3"
    }
  },
  "cells": [
    {
      "cell_type": "markdown",
      "metadata": {
        "id": "view-in-github",
        "colab_type": "text"
      },
      "source": [
        "<a href=\"https://colab.research.google.com/github/Aquianet/DS-Unit-1-Sprint-2-Data-Wrangling-and-Storytelling/blob/master/module1-join-and-reshape-data/Copy_of_LS_DS_121_Join_and_Reshape_Data.ipynb\" target=\"_parent\"><img src=\"https://colab.research.google.com/assets/colab-badge.svg\" alt=\"Open In Colab\"/></a>"
      ]
    },
    {
      "cell_type": "markdown",
      "metadata": {
        "colab_type": "text",
        "id": "pmU5YUal1eTZ"
      },
      "source": [
        "_Lambda School Data Science_\n",
        "\n",
        "# Join and Reshape datasets\n",
        "\n",
        "Objectives\n",
        "- concatenate data with pandas\n",
        "- merge data with pandas\n",
        "-  understand tidy data formatting\n",
        "-  melt and pivot data with pandas\n",
        "\n",
        "Links\n",
        "- [Pandas Cheat Sheet](https://github.com/pandas-dev/pandas/blob/master/doc/cheatsheet/Pandas_Cheat_Sheet.pdf)\n",
        "- [Tidy Data](https://en.wikipedia.org/wiki/Tidy_data)\n",
        "  - Combine Data Sets: Standard Joins\n",
        "  - Tidy Data\n",
        "  - Reshaping Data\n",
        "- Python Data Science Handbook\n",
        "  - [Chapter 3.6](https://jakevdp.github.io/PythonDataScienceHandbook/03.06-concat-and-append.html), Combining Datasets: Concat and Append\n",
        "  - [Chapter 3.7](https://jakevdp.github.io/PythonDataScienceHandbook/03.07-merge-and-join.html), Combining Datasets: Merge and Join\n",
        "  - [Chapter 3.8](https://jakevdp.github.io/PythonDataScienceHandbook/03.08-aggregation-and-grouping.html), Aggregation and Grouping\n",
        "  - [Chapter 3.9](https://jakevdp.github.io/PythonDataScienceHandbook/03.09-pivot-tables.html), Pivot Tables\n",
        "  \n",
        "Reference\n",
        "- Pandas Documentation: [Reshaping and Pivot Tables](https://pandas.pydata.org/pandas-docs/stable/reshaping.html)\n",
        "- Modern Pandas, Part 5: [Tidy Data](https://tomaugspurger.github.io/modern-5-tidy.html)\n",
        "\n",
        "noes:\n",
        "\n",
        "youll only shape once in the beginning of the project. most of the time is epnt buidling visuals and models. \n",
        "\n",
        "sql:\n",
        "Select column_names\n",
        "FROM table1\n",
        "LEFT JOIN Orders\n",
        "ON CUstomer.customerIID.CUstomerID\n",
        "ORDER BY Customer.CUstomernamey\n",
        "\n",
        "tidyu data \n",
        "\n",
        "each var forsm a c lomun and contains values \n",
        "each obnservatiuon from s a row \n",
        "each tupr of observatuion unit forms a table\n",
        "\n",
        "how to visuallize data top 4\n",
        "1.value count \n",
        "2.pivot table\n",
        "3.corsstabe \n",
        "4.melt\n",
        "\n",
        "finding data source ideas\n",
        "data story telling project\n",
        "+++\n"
      ]
    },
    {
      "cell_type": "markdown",
      "metadata": {
        "colab_type": "text",
        "id": "Mmi3J5fXrwZ3"
      },
      "source": [
        "## Download data\n",
        "\n",
        "We’ll work with a dataset of [3 Million Instacart Orders, Open Sourced](https://tech.instacart.com/3-million-instacart-orders-open-sourced-d40d29ead6f2)!"
      ]
    },
    {
      "cell_type": "code",
      "metadata": {
        "colab_type": "code",
        "id": "K2kcrJVybjrW",
        "outputId": "41de7bd7-a65a-4360-a518-19cdeee353ae",
        "colab": {
          "base_uri": "https://localhost:8080/",
          "height": 219
        }
      },
      "source": [
        "!wget https://s3.amazonaws.com/instacart-datasets/instacart_online_grocery_shopping_2017_05_01.tar.gz"
      ],
      "execution_count": 0,
      "outputs": [
        {
          "output_type": "stream",
          "text": [
            "--2019-08-02 03:37:52--  https://s3.amazonaws.com/instacart-datasets/instacart_online_grocery_shopping_2017_05_01.tar.gz\n",
            "Resolving s3.amazonaws.com (s3.amazonaws.com)... 52.216.146.61\n",
            "Connecting to s3.amazonaws.com (s3.amazonaws.com)|52.216.146.61|:443... connected.\n",
            "HTTP request sent, awaiting response... 200 OK\n",
            "Length: 205548478 (196M) [application/x-gzip]\n",
            "Saving to: ‘instacart_online_grocery_shopping_2017_05_01.tar.gz’\n",
            "\n",
            "instacart_online_gr 100%[===================>] 196.03M  57.5MB/s    in 3.4s    \n",
            "\n",
            "2019-08-02 03:37:56 (57.5 MB/s) - ‘instacart_online_grocery_shopping_2017_05_01.tar.gz’ saved [205548478/205548478]\n",
            "\n"
          ],
          "name": "stdout"
        }
      ]
    },
    {
      "cell_type": "code",
      "metadata": {
        "colab_type": "code",
        "id": "kqX40b2kdgAb",
        "outputId": "b667666b-5a16-4a13-bf60-185407591b8c",
        "colab": {
          "base_uri": "https://localhost:8080/",
          "height": 256
        }
      },
      "source": [
        "!tar --gunzip --extract --verbose --file=instacart_online_grocery_shopping_2017_05_01.tar.gz"
      ],
      "execution_count": 0,
      "outputs": [
        {
          "output_type": "stream",
          "text": [
            "instacart_2017_05_01/\n",
            "instacart_2017_05_01/._aisles.csv\n",
            "instacart_2017_05_01/aisles.csv\n",
            "instacart_2017_05_01/._departments.csv\n",
            "instacart_2017_05_01/departments.csv\n",
            "instacart_2017_05_01/._order_products__prior.csv\n",
            "instacart_2017_05_01/order_products__prior.csv\n",
            "instacart_2017_05_01/._order_products__train.csv\n",
            "instacart_2017_05_01/order_products__train.csv\n",
            "instacart_2017_05_01/._orders.csv\n",
            "instacart_2017_05_01/orders.csv\n",
            "instacart_2017_05_01/._products.csv\n",
            "instacart_2017_05_01/products.csv\n"
          ],
          "name": "stdout"
        }
      ]
    },
    {
      "cell_type": "code",
      "metadata": {
        "colab_type": "code",
        "id": "YbCvZZCBfHCI",
        "outputId": "309f9603-d177-4a38-c13a-9b5ec4d11543",
        "colab": {
          "base_uri": "https://localhost:8080/",
          "height": 35
        }
      },
      "source": [
        "%cd instacart_2017_05_01"
      ],
      "execution_count": 0,
      "outputs": [
        {
          "output_type": "stream",
          "text": [
            "/content/instacart_2017_05_01\n"
          ],
          "name": "stdout"
        }
      ]
    },
    {
      "cell_type": "code",
      "metadata": {
        "id": "etshR5kpvWOj",
        "colab_type": "code",
        "outputId": "6ebc0b37-c34e-420d-c0f8-ee5354bf11c1",
        "colab": {
          "base_uri": "https://localhost:8080/",
          "height": 127
        }
      },
      "source": [
        "!ls -lh *.csv"
      ],
      "execution_count": 0,
      "outputs": [
        {
          "output_type": "stream",
          "text": [
            "-rw-r--r-- 1 502 staff 2.6K May  2  2017 aisles.csv\n",
            "-rw-r--r-- 1 502 staff  270 May  2  2017 departments.csv\n",
            "-rw-r--r-- 1 502 staff 551M May  2  2017 order_products__prior.csv\n",
            "-rw-r--r-- 1 502 staff  24M May  2  2017 order_products__train.csv\n",
            "-rw-r--r-- 1 502 staff 104M May  2  2017 orders.csv\n",
            "-rw-r--r-- 1 502 staff 2.1M May  2  2017 products.csv\n"
          ],
          "name": "stdout"
        }
      ]
    },
    {
      "cell_type": "markdown",
      "metadata": {
        "id": "RcCu3Tlgv6J2",
        "colab_type": "text"
      },
      "source": [
        "# Join Datasets"
      ]
    },
    {
      "cell_type": "markdown",
      "metadata": {
        "colab_type": "text",
        "id": "RsA14wiKr03j"
      },
      "source": [
        "## Goal: Reproduce this example\n",
        "\n",
        "The first two orders for user id 1:"
      ]
    },
    {
      "cell_type": "code",
      "metadata": {
        "colab_type": "code",
        "id": "vLqOTMcfjprg",
        "outputId": "aaa86e4a-4ad1-4e84-85a7-01aac2f6b8fd",
        "colab": {
          "base_uri": "https://localhost:8080/",
          "height": 332
        }
      },
      "source": [
        "from IPython.display import display, Image\n",
        "url = 'https://cdn-images-1.medium.com/max/1600/1*vYGFQCafJtGBBX5mbl0xyw.png'\n",
        "example = Image(url=url, width=600)\n",
        "\n",
        "display(example)"
      ],
      "execution_count": 0,
      "outputs": [
        {
          "output_type": "display_data",
          "data": {
            "text/html": [
              "<img src=\"https://cdn-images-1.medium.com/max/1600/1*vYGFQCafJtGBBX5mbl0xyw.png\" width=\"600\"/>"
            ],
            "text/plain": [
              "<IPython.core.display.Image object>"
            ]
          },
          "metadata": {
            "tags": []
          }
        }
      ]
    },
    {
      "cell_type": "markdown",
      "metadata": {
        "colab_type": "text",
        "id": "nPwG8aM_txl4"
      },
      "source": [
        "## Load data\n",
        "\n",
        "Here's a list of all six CSV filenames"
      ]
    },
    {
      "cell_type": "code",
      "metadata": {
        "colab_type": "code",
        "id": "Ksah0cOrfdJQ",
        "outputId": "4395d93f-8626-42fb-fbc2-7b9765042b48",
        "colab": {
          "base_uri": "https://localhost:8080/",
          "height": 127
        }
      },
      "source": [
        "!ls -lh *.csv"
      ],
      "execution_count": 0,
      "outputs": [
        {
          "output_type": "stream",
          "text": [
            "-rw-r--r-- 1 502 staff 2.6K May  2  2017 aisles.csv\n",
            "-rw-r--r-- 1 502 staff  270 May  2  2017 departments.csv\n",
            "-rw-r--r-- 1 502 staff 551M May  2  2017 order_products__prior.csv\n",
            "-rw-r--r-- 1 502 staff  24M May  2  2017 order_products__train.csv\n",
            "-rw-r--r-- 1 502 staff 104M May  2  2017 orders.csv\n",
            "-rw-r--r-- 1 502 staff 2.1M May  2  2017 products.csv\n"
          ],
          "name": "stdout"
        }
      ]
    },
    {
      "cell_type": "markdown",
      "metadata": {
        "colab_type": "text",
        "id": "AHT7fKuxvPgV"
      },
      "source": [
        "For each CSV\n",
        "- Load it with pandas\n",
        "- Look at the dataframe's shape\n",
        "- Look at its head (first rows)\n",
        "- `display(example)`\n",
        "- Which columns does it have in common with the example we want to reproduce?"
      ]
    },
    {
      "cell_type": "markdown",
      "metadata": {
        "colab_type": "text",
        "id": "cB_5T6TprcUH"
      },
      "source": [
        "### aisles"
      ]
    },
    {
      "cell_type": "code",
      "metadata": {
        "colab_type": "code",
        "id": "JB3bvwSDK6v3",
        "outputId": "69052c41-320d-4929-fd35-ec8775238082",
        "colab": {
          "base_uri": "https://localhost:8080/",
          "height": 224
        }
      },
      "source": [
        "import pandas as pd\n",
        "\n",
        "aisles = pd.read_csv('aisles.csv')\n",
        "print(aisles.shape)\n",
        "aisles.head()"
      ],
      "execution_count": 0,
      "outputs": [
        {
          "output_type": "stream",
          "text": [
            "(134, 2)\n"
          ],
          "name": "stdout"
        },
        {
          "output_type": "execute_result",
          "data": {
            "text/html": [
              "<div>\n",
              "<style scoped>\n",
              "    .dataframe tbody tr th:only-of-type {\n",
              "        vertical-align: middle;\n",
              "    }\n",
              "\n",
              "    .dataframe tbody tr th {\n",
              "        vertical-align: top;\n",
              "    }\n",
              "\n",
              "    .dataframe thead th {\n",
              "        text-align: right;\n",
              "    }\n",
              "</style>\n",
              "<table border=\"1\" class=\"dataframe\">\n",
              "  <thead>\n",
              "    <tr style=\"text-align: right;\">\n",
              "      <th></th>\n",
              "      <th>aisle_id</th>\n",
              "      <th>aisle</th>\n",
              "    </tr>\n",
              "  </thead>\n",
              "  <tbody>\n",
              "    <tr>\n",
              "      <th>0</th>\n",
              "      <td>1</td>\n",
              "      <td>prepared soups salads</td>\n",
              "    </tr>\n",
              "    <tr>\n",
              "      <th>1</th>\n",
              "      <td>2</td>\n",
              "      <td>specialty cheeses</td>\n",
              "    </tr>\n",
              "    <tr>\n",
              "      <th>2</th>\n",
              "      <td>3</td>\n",
              "      <td>energy granola bars</td>\n",
              "    </tr>\n",
              "    <tr>\n",
              "      <th>3</th>\n",
              "      <td>4</td>\n",
              "      <td>instant foods</td>\n",
              "    </tr>\n",
              "    <tr>\n",
              "      <th>4</th>\n",
              "      <td>5</td>\n",
              "      <td>marinades meat preparation</td>\n",
              "    </tr>\n",
              "  </tbody>\n",
              "</table>\n",
              "</div>"
            ],
            "text/plain": [
              "   aisle_id                       aisle\n",
              "0         1       prepared soups salads\n",
              "1         2           specialty cheeses\n",
              "2         3         energy granola bars\n",
              "3         4               instant foods\n",
              "4         5  marinades meat preparation"
            ]
          },
          "metadata": {
            "tags": []
          },
          "execution_count": 5
        }
      ]
    },
    {
      "cell_type": "markdown",
      "metadata": {
        "colab_type": "text",
        "id": "9-GrkqM6rfXr"
      },
      "source": [
        "### departments"
      ]
    },
    {
      "cell_type": "code",
      "metadata": {
        "id": "yxFd5n20yOVn",
        "colab_type": "code",
        "outputId": "1f5da394-8a55-4e78-fe02-f4211d086e65",
        "colab": {
          "base_uri": "https://localhost:8080/",
          "height": 224
        }
      },
      "source": [
        "departments = pd.read_csv('departments.csv')\n",
        "print(departments.shape)\n",
        "departments.head()"
      ],
      "execution_count": 0,
      "outputs": [
        {
          "output_type": "stream",
          "text": [
            "(21, 2)\n"
          ],
          "name": "stdout"
        },
        {
          "output_type": "execute_result",
          "data": {
            "text/html": [
              "<div>\n",
              "<style scoped>\n",
              "    .dataframe tbody tr th:only-of-type {\n",
              "        vertical-align: middle;\n",
              "    }\n",
              "\n",
              "    .dataframe tbody tr th {\n",
              "        vertical-align: top;\n",
              "    }\n",
              "\n",
              "    .dataframe thead th {\n",
              "        text-align: right;\n",
              "    }\n",
              "</style>\n",
              "<table border=\"1\" class=\"dataframe\">\n",
              "  <thead>\n",
              "    <tr style=\"text-align: right;\">\n",
              "      <th></th>\n",
              "      <th>department_id</th>\n",
              "      <th>department</th>\n",
              "    </tr>\n",
              "  </thead>\n",
              "  <tbody>\n",
              "    <tr>\n",
              "      <th>0</th>\n",
              "      <td>1</td>\n",
              "      <td>frozen</td>\n",
              "    </tr>\n",
              "    <tr>\n",
              "      <th>1</th>\n",
              "      <td>2</td>\n",
              "      <td>other</td>\n",
              "    </tr>\n",
              "    <tr>\n",
              "      <th>2</th>\n",
              "      <td>3</td>\n",
              "      <td>bakery</td>\n",
              "    </tr>\n",
              "    <tr>\n",
              "      <th>3</th>\n",
              "      <td>4</td>\n",
              "      <td>produce</td>\n",
              "    </tr>\n",
              "    <tr>\n",
              "      <th>4</th>\n",
              "      <td>5</td>\n",
              "      <td>alcohol</td>\n",
              "    </tr>\n",
              "  </tbody>\n",
              "</table>\n",
              "</div>"
            ],
            "text/plain": [
              "   department_id department\n",
              "0              1     frozen\n",
              "1              2      other\n",
              "2              3     bakery\n",
              "3              4    produce\n",
              "4              5    alcohol"
            ]
          },
          "metadata": {
            "tags": []
          },
          "execution_count": 13
        }
      ]
    },
    {
      "cell_type": "markdown",
      "metadata": {
        "colab_type": "text",
        "id": "VhhVcn9kK-nG"
      },
      "source": [
        "### order_products__prior"
      ]
    },
    {
      "cell_type": "code",
      "metadata": {
        "id": "86rIMNFSzKaG",
        "colab_type": "code",
        "outputId": "cfa89d75-347d-4112-99e5-780a92da27d1",
        "colab": {
          "base_uri": "https://localhost:8080/",
          "height": 224
        }
      },
      "source": [
        "order_products__prior = pd.read_csv('order_products__prior.csv')\n",
        "print(order_products__prior.shape)\n",
        "order_products__prior.head()"
      ],
      "execution_count": 0,
      "outputs": [
        {
          "output_type": "stream",
          "text": [
            "(32434489, 4)\n"
          ],
          "name": "stdout"
        },
        {
          "output_type": "execute_result",
          "data": {
            "text/html": [
              "<div>\n",
              "<style scoped>\n",
              "    .dataframe tbody tr th:only-of-type {\n",
              "        vertical-align: middle;\n",
              "    }\n",
              "\n",
              "    .dataframe tbody tr th {\n",
              "        vertical-align: top;\n",
              "    }\n",
              "\n",
              "    .dataframe thead th {\n",
              "        text-align: right;\n",
              "    }\n",
              "</style>\n",
              "<table border=\"1\" class=\"dataframe\">\n",
              "  <thead>\n",
              "    <tr style=\"text-align: right;\">\n",
              "      <th></th>\n",
              "      <th>order_id</th>\n",
              "      <th>product_id</th>\n",
              "      <th>add_to_cart_order</th>\n",
              "      <th>reordered</th>\n",
              "    </tr>\n",
              "  </thead>\n",
              "  <tbody>\n",
              "    <tr>\n",
              "      <th>0</th>\n",
              "      <td>2</td>\n",
              "      <td>33120</td>\n",
              "      <td>1</td>\n",
              "      <td>1</td>\n",
              "    </tr>\n",
              "    <tr>\n",
              "      <th>1</th>\n",
              "      <td>2</td>\n",
              "      <td>28985</td>\n",
              "      <td>2</td>\n",
              "      <td>1</td>\n",
              "    </tr>\n",
              "    <tr>\n",
              "      <th>2</th>\n",
              "      <td>2</td>\n",
              "      <td>9327</td>\n",
              "      <td>3</td>\n",
              "      <td>0</td>\n",
              "    </tr>\n",
              "    <tr>\n",
              "      <th>3</th>\n",
              "      <td>2</td>\n",
              "      <td>45918</td>\n",
              "      <td>4</td>\n",
              "      <td>1</td>\n",
              "    </tr>\n",
              "    <tr>\n",
              "      <th>4</th>\n",
              "      <td>2</td>\n",
              "      <td>30035</td>\n",
              "      <td>5</td>\n",
              "      <td>0</td>\n",
              "    </tr>\n",
              "  </tbody>\n",
              "</table>\n",
              "</div>"
            ],
            "text/plain": [
              "   order_id  product_id  add_to_cart_order  reordered\n",
              "0         2       33120                  1          1\n",
              "1         2       28985                  2          1\n",
              "2         2        9327                  3          0\n",
              "3         2       45918                  4          1\n",
              "4         2       30035                  5          0"
            ]
          },
          "metadata": {
            "tags": []
          },
          "execution_count": 14
        }
      ]
    },
    {
      "cell_type": "markdown",
      "metadata": {
        "colab_type": "text",
        "id": "HVYJEKJcLBut"
      },
      "source": [
        "### order_products__train"
      ]
    },
    {
      "cell_type": "code",
      "metadata": {
        "id": "xgwSUCBk6Ciy",
        "colab_type": "code",
        "outputId": "d4f81565-6d8d-48a3-eff6-e39a2e1c7e22",
        "colab": {
          "base_uri": "https://localhost:8080/",
          "height": 224
        }
      },
      "source": [
        "order_products__train = pd.read_csv('order_products__train.csv')\n",
        "print(order_products__train.shape)\n",
        "order_products__train.head()"
      ],
      "execution_count": 0,
      "outputs": [
        {
          "output_type": "stream",
          "text": [
            "(1384617, 4)\n"
          ],
          "name": "stdout"
        },
        {
          "output_type": "execute_result",
          "data": {
            "text/html": [
              "<div>\n",
              "<style scoped>\n",
              "    .dataframe tbody tr th:only-of-type {\n",
              "        vertical-align: middle;\n",
              "    }\n",
              "\n",
              "    .dataframe tbody tr th {\n",
              "        vertical-align: top;\n",
              "    }\n",
              "\n",
              "    .dataframe thead th {\n",
              "        text-align: right;\n",
              "    }\n",
              "</style>\n",
              "<table border=\"1\" class=\"dataframe\">\n",
              "  <thead>\n",
              "    <tr style=\"text-align: right;\">\n",
              "      <th></th>\n",
              "      <th>order_id</th>\n",
              "      <th>product_id</th>\n",
              "      <th>add_to_cart_order</th>\n",
              "      <th>reordered</th>\n",
              "    </tr>\n",
              "  </thead>\n",
              "  <tbody>\n",
              "    <tr>\n",
              "      <th>0</th>\n",
              "      <td>1</td>\n",
              "      <td>49302</td>\n",
              "      <td>1</td>\n",
              "      <td>1</td>\n",
              "    </tr>\n",
              "    <tr>\n",
              "      <th>1</th>\n",
              "      <td>1</td>\n",
              "      <td>11109</td>\n",
              "      <td>2</td>\n",
              "      <td>1</td>\n",
              "    </tr>\n",
              "    <tr>\n",
              "      <th>2</th>\n",
              "      <td>1</td>\n",
              "      <td>10246</td>\n",
              "      <td>3</td>\n",
              "      <td>0</td>\n",
              "    </tr>\n",
              "    <tr>\n",
              "      <th>3</th>\n",
              "      <td>1</td>\n",
              "      <td>49683</td>\n",
              "      <td>4</td>\n",
              "      <td>0</td>\n",
              "    </tr>\n",
              "    <tr>\n",
              "      <th>4</th>\n",
              "      <td>1</td>\n",
              "      <td>43633</td>\n",
              "      <td>5</td>\n",
              "      <td>1</td>\n",
              "    </tr>\n",
              "  </tbody>\n",
              "</table>\n",
              "</div>"
            ],
            "text/plain": [
              "   order_id  product_id  add_to_cart_order  reordered\n",
              "0         1       49302                  1          1\n",
              "1         1       11109                  2          1\n",
              "2         1       10246                  3          0\n",
              "3         1       49683                  4          0\n",
              "4         1       43633                  5          1"
            ]
          },
          "metadata": {
            "tags": []
          },
          "execution_count": 15
        }
      ]
    },
    {
      "cell_type": "code",
      "metadata": {
        "id": "TBKzM4lC0oC8",
        "colab_type": "code",
        "outputId": "64b3bf7f-2fba-4d28-e728-f62d00bcdf65",
        "colab": {
          "base_uri": "https://localhost:8080/",
          "height": 72
        }
      },
      "source": [
        "#good to check mem resources,\n",
        "#you can delete a var with del to free up mem.\n",
        "!free -m"
      ],
      "execution_count": 0,
      "outputs": [
        {
          "output_type": "stream",
          "text": [
            "              total        used        free      shared  buff/cache   available\n",
            "Mem:          13022        2477        6707           0        3837       12256\n",
            "Swap:             0           0           0\n"
          ],
          "name": "stdout"
        }
      ]
    },
    {
      "cell_type": "markdown",
      "metadata": {
        "colab_type": "text",
        "id": "LYPrWUJnrp7G"
      },
      "source": [
        "### orders"
      ]
    },
    {
      "cell_type": "code",
      "metadata": {
        "id": "UfPRTW5w128P",
        "colab_type": "code",
        "outputId": "a4af5c72-1beb-44dd-a217-609fc22c9e3d",
        "colab": {
          "base_uri": "https://localhost:8080/",
          "height": 224
        }
      },
      "source": [
        "orders = pd.read_csv('orders.csv')\n",
        "print(orders.shape)\n",
        "orders.head()"
      ],
      "execution_count": 0,
      "outputs": [
        {
          "output_type": "stream",
          "text": [
            "(3421083, 7)\n"
          ],
          "name": "stdout"
        },
        {
          "output_type": "execute_result",
          "data": {
            "text/html": [
              "<div>\n",
              "<style scoped>\n",
              "    .dataframe tbody tr th:only-of-type {\n",
              "        vertical-align: middle;\n",
              "    }\n",
              "\n",
              "    .dataframe tbody tr th {\n",
              "        vertical-align: top;\n",
              "    }\n",
              "\n",
              "    .dataframe thead th {\n",
              "        text-align: right;\n",
              "    }\n",
              "</style>\n",
              "<table border=\"1\" class=\"dataframe\">\n",
              "  <thead>\n",
              "    <tr style=\"text-align: right;\">\n",
              "      <th></th>\n",
              "      <th>order_id</th>\n",
              "      <th>user_id</th>\n",
              "      <th>eval_set</th>\n",
              "      <th>order_number</th>\n",
              "      <th>order_dow</th>\n",
              "      <th>order_hour_of_day</th>\n",
              "      <th>days_since_prior_order</th>\n",
              "    </tr>\n",
              "  </thead>\n",
              "  <tbody>\n",
              "    <tr>\n",
              "      <th>0</th>\n",
              "      <td>2539329</td>\n",
              "      <td>1</td>\n",
              "      <td>prior</td>\n",
              "      <td>1</td>\n",
              "      <td>2</td>\n",
              "      <td>8</td>\n",
              "      <td>NaN</td>\n",
              "    </tr>\n",
              "    <tr>\n",
              "      <th>1</th>\n",
              "      <td>2398795</td>\n",
              "      <td>1</td>\n",
              "      <td>prior</td>\n",
              "      <td>2</td>\n",
              "      <td>3</td>\n",
              "      <td>7</td>\n",
              "      <td>15.0</td>\n",
              "    </tr>\n",
              "    <tr>\n",
              "      <th>2</th>\n",
              "      <td>473747</td>\n",
              "      <td>1</td>\n",
              "      <td>prior</td>\n",
              "      <td>3</td>\n",
              "      <td>3</td>\n",
              "      <td>12</td>\n",
              "      <td>21.0</td>\n",
              "    </tr>\n",
              "    <tr>\n",
              "      <th>3</th>\n",
              "      <td>2254736</td>\n",
              "      <td>1</td>\n",
              "      <td>prior</td>\n",
              "      <td>4</td>\n",
              "      <td>4</td>\n",
              "      <td>7</td>\n",
              "      <td>29.0</td>\n",
              "    </tr>\n",
              "    <tr>\n",
              "      <th>4</th>\n",
              "      <td>431534</td>\n",
              "      <td>1</td>\n",
              "      <td>prior</td>\n",
              "      <td>5</td>\n",
              "      <td>4</td>\n",
              "      <td>15</td>\n",
              "      <td>28.0</td>\n",
              "    </tr>\n",
              "  </tbody>\n",
              "</table>\n",
              "</div>"
            ],
            "text/plain": [
              "   order_id  user_id  ... order_hour_of_day  days_since_prior_order\n",
              "0   2539329        1  ...                 8                     NaN\n",
              "1   2398795        1  ...                 7                    15.0\n",
              "2    473747        1  ...                12                    21.0\n",
              "3   2254736        1  ...                 7                    29.0\n",
              "4    431534        1  ...                15                    28.0\n",
              "\n",
              "[5 rows x 7 columns]"
            ]
          },
          "metadata": {
            "tags": []
          },
          "execution_count": 38
        }
      ]
    },
    {
      "cell_type": "markdown",
      "metadata": {
        "colab_type": "text",
        "id": "nIX3SYXersao"
      },
      "source": [
        "### products"
      ]
    },
    {
      "cell_type": "code",
      "metadata": {
        "id": "3BKG5dxy2IOA",
        "colab_type": "code",
        "colab": {}
      },
      "source": [
        "#unique identifer = data that is unquie no matter how long it is. \n",
        "#knowing what you can join data tables on is generally the first step.\n"
      ],
      "execution_count": 0,
      "outputs": []
    },
    {
      "cell_type": "code",
      "metadata": {
        "id": "ICw76QA72Msy",
        "colab_type": "code",
        "outputId": "6331ec03-ec90-4e65-cb86-47aa33e375a0",
        "colab": {
          "base_uri": "https://localhost:8080/",
          "height": 224
        }
      },
      "source": [
        "products = pd.read_csv('products.csv')\n",
        "print(products.shape)\n",
        "products.head()"
      ],
      "execution_count": 0,
      "outputs": [
        {
          "output_type": "stream",
          "text": [
            "(49688, 4)\n"
          ],
          "name": "stdout"
        },
        {
          "output_type": "execute_result",
          "data": {
            "text/html": [
              "<div>\n",
              "<style scoped>\n",
              "    .dataframe tbody tr th:only-of-type {\n",
              "        vertical-align: middle;\n",
              "    }\n",
              "\n",
              "    .dataframe tbody tr th {\n",
              "        vertical-align: top;\n",
              "    }\n",
              "\n",
              "    .dataframe thead th {\n",
              "        text-align: right;\n",
              "    }\n",
              "</style>\n",
              "<table border=\"1\" class=\"dataframe\">\n",
              "  <thead>\n",
              "    <tr style=\"text-align: right;\">\n",
              "      <th></th>\n",
              "      <th>product_id</th>\n",
              "      <th>product_name</th>\n",
              "      <th>aisle_id</th>\n",
              "      <th>department_id</th>\n",
              "    </tr>\n",
              "  </thead>\n",
              "  <tbody>\n",
              "    <tr>\n",
              "      <th>0</th>\n",
              "      <td>1</td>\n",
              "      <td>Chocolate Sandwich Cookies</td>\n",
              "      <td>61</td>\n",
              "      <td>19</td>\n",
              "    </tr>\n",
              "    <tr>\n",
              "      <th>1</th>\n",
              "      <td>2</td>\n",
              "      <td>All-Seasons Salt</td>\n",
              "      <td>104</td>\n",
              "      <td>13</td>\n",
              "    </tr>\n",
              "    <tr>\n",
              "      <th>2</th>\n",
              "      <td>3</td>\n",
              "      <td>Robust Golden Unsweetened Oolong Tea</td>\n",
              "      <td>94</td>\n",
              "      <td>7</td>\n",
              "    </tr>\n",
              "    <tr>\n",
              "      <th>3</th>\n",
              "      <td>4</td>\n",
              "      <td>Smart Ones Classic Favorites Mini Rigatoni Wit...</td>\n",
              "      <td>38</td>\n",
              "      <td>1</td>\n",
              "    </tr>\n",
              "    <tr>\n",
              "      <th>4</th>\n",
              "      <td>5</td>\n",
              "      <td>Green Chile Anytime Sauce</td>\n",
              "      <td>5</td>\n",
              "      <td>13</td>\n",
              "    </tr>\n",
              "  </tbody>\n",
              "</table>\n",
              "</div>"
            ],
            "text/plain": [
              "   product_id  ... department_id\n",
              "0           1  ...            19\n",
              "1           2  ...            13\n",
              "2           3  ...             7\n",
              "3           4  ...             1\n",
              "4           5  ...            13\n",
              "\n",
              "[5 rows x 4 columns]"
            ]
          },
          "metadata": {
            "tags": []
          },
          "execution_count": 37
        }
      ]
    },
    {
      "cell_type": "markdown",
      "metadata": {
        "colab_type": "text",
        "id": "cbHumXOiJfy2"
      },
      "source": [
        "## Concatenate order_products__prior and order_products__train"
      ]
    },
    {
      "cell_type": "code",
      "metadata": {
        "colab_type": "code",
        "id": "TJ23kqpAY8Vv",
        "outputId": "5bb68a1a-494a-47c1-fb35-851ef79d5628",
        "colab": {
          "base_uri": "https://localhost:8080/",
          "height": 225
        }
      },
      "source": [
        "order_products = pd.concat([order_products__prior, order_products__train])\n",
        "print(order_products.shape)\n",
        "order_products.head()\n",
        "\n",
        "#use assertion error as a validation technique"
      ],
      "execution_count": 0,
      "outputs": [
        {
          "output_type": "stream",
          "text": [
            "(33819106, 4)\n"
          ],
          "name": "stdout"
        },
        {
          "output_type": "execute_result",
          "data": {
            "text/html": [
              "<div>\n",
              "<style scoped>\n",
              "    .dataframe tbody tr th:only-of-type {\n",
              "        vertical-align: middle;\n",
              "    }\n",
              "\n",
              "    .dataframe tbody tr th {\n",
              "        vertical-align: top;\n",
              "    }\n",
              "\n",
              "    .dataframe thead th {\n",
              "        text-align: right;\n",
              "    }\n",
              "</style>\n",
              "<table border=\"1\" class=\"dataframe\">\n",
              "  <thead>\n",
              "    <tr style=\"text-align: right;\">\n",
              "      <th></th>\n",
              "      <th>order_id</th>\n",
              "      <th>product_id</th>\n",
              "      <th>add_to_cart_order</th>\n",
              "      <th>reordered</th>\n",
              "    </tr>\n",
              "  </thead>\n",
              "  <tbody>\n",
              "    <tr>\n",
              "      <th>0</th>\n",
              "      <td>2</td>\n",
              "      <td>33120</td>\n",
              "      <td>1</td>\n",
              "      <td>1</td>\n",
              "    </tr>\n",
              "    <tr>\n",
              "      <th>1</th>\n",
              "      <td>2</td>\n",
              "      <td>28985</td>\n",
              "      <td>2</td>\n",
              "      <td>1</td>\n",
              "    </tr>\n",
              "    <tr>\n",
              "      <th>2</th>\n",
              "      <td>2</td>\n",
              "      <td>9327</td>\n",
              "      <td>3</td>\n",
              "      <td>0</td>\n",
              "    </tr>\n",
              "    <tr>\n",
              "      <th>3</th>\n",
              "      <td>2</td>\n",
              "      <td>45918</td>\n",
              "      <td>4</td>\n",
              "      <td>1</td>\n",
              "    </tr>\n",
              "    <tr>\n",
              "      <th>4</th>\n",
              "      <td>2</td>\n",
              "      <td>30035</td>\n",
              "      <td>5</td>\n",
              "      <td>0</td>\n",
              "    </tr>\n",
              "  </tbody>\n",
              "</table>\n",
              "</div>"
            ],
            "text/plain": [
              "   order_id  product_id  add_to_cart_order  reordered\n",
              "0         2       33120                  1          1\n",
              "1         2       28985                  2          1\n",
              "2         2        9327                  3          0\n",
              "3         2       45918                  4          1\n",
              "4         2       30035                  5          0"
            ]
          },
          "metadata": {
            "tags": []
          },
          "execution_count": 18
        }
      ]
    },
    {
      "cell_type": "markdown",
      "metadata": {
        "colab_type": "text",
        "id": "Z1YRw5ypJuv2"
      },
      "source": [
        "## Get a subset of orders — the first two orders for user id 1"
      ]
    },
    {
      "cell_type": "markdown",
      "metadata": {
        "id": "eJ9EixWs6K64",
        "colab_type": "text"
      },
      "source": [
        "From `orders` dataframe:\n",
        "- user_id\n",
        "- order_id\n",
        "- order_number\n",
        "- order_dow\n",
        "- order_hour_of_day"
      ]
    },
    {
      "cell_type": "markdown",
      "metadata": {
        "colab_type": "text",
        "id": "3K1p0QHuKPnt"
      },
      "source": [
        "## Merge dataframes"
      ]
    },
    {
      "cell_type": "markdown",
      "metadata": {
        "id": "4MVZ9vb1BuO0",
        "colab_type": "text"
      },
      "source": [
        "Merge the subset from `orders` with columns from `order_products`"
      ]
    },
    {
      "cell_type": "code",
      "metadata": {
        "id": "3lajwEE86iKc",
        "colab_type": "code",
        "outputId": "94baf701-0078-4f9d-84f6-4a2bdf0c7114",
        "colab": {
          "base_uri": "https://localhost:8080/",
          "height": 132
        }
      },
      "source": [
        "#write a boolean statment to subset date\n",
        "#creat a list of columsn you want to subset\n",
        "\n",
        "orders.head(2)\n",
        "columns = ['order_id', \t'user_id' ,\t'eval_set', \t'order_number', \t'order_dow' ,\t'order_hour_of_day', \t'days_since_prior_order']\n",
        "subset = orders.loc[(orders.user_id == 1)&(orders.order_number <= 2), columns]\n",
        "subset"
      ],
      "execution_count": 0,
      "outputs": [
        {
          "output_type": "execute_result",
          "data": {
            "text/html": [
              "<div>\n",
              "<style scoped>\n",
              "    .dataframe tbody tr th:only-of-type {\n",
              "        vertical-align: middle;\n",
              "    }\n",
              "\n",
              "    .dataframe tbody tr th {\n",
              "        vertical-align: top;\n",
              "    }\n",
              "\n",
              "    .dataframe thead th {\n",
              "        text-align: right;\n",
              "    }\n",
              "</style>\n",
              "<table border=\"1\" class=\"dataframe\">\n",
              "  <thead>\n",
              "    <tr style=\"text-align: right;\">\n",
              "      <th></th>\n",
              "      <th>order_id</th>\n",
              "      <th>user_id</th>\n",
              "      <th>eval_set</th>\n",
              "      <th>order_number</th>\n",
              "      <th>order_dow</th>\n",
              "      <th>order_hour_of_day</th>\n",
              "      <th>days_since_prior_order</th>\n",
              "    </tr>\n",
              "  </thead>\n",
              "  <tbody>\n",
              "    <tr>\n",
              "      <th>0</th>\n",
              "      <td>2539329</td>\n",
              "      <td>1</td>\n",
              "      <td>prior</td>\n",
              "      <td>1</td>\n",
              "      <td>2</td>\n",
              "      <td>8</td>\n",
              "      <td>NaN</td>\n",
              "    </tr>\n",
              "    <tr>\n",
              "      <th>1</th>\n",
              "      <td>2398795</td>\n",
              "      <td>1</td>\n",
              "      <td>prior</td>\n",
              "      <td>2</td>\n",
              "      <td>3</td>\n",
              "      <td>7</td>\n",
              "      <td>15.0</td>\n",
              "    </tr>\n",
              "  </tbody>\n",
              "</table>\n",
              "</div>"
            ],
            "text/plain": [
              "   order_id  user_id  ... order_hour_of_day  days_since_prior_order\n",
              "0   2539329        1  ...                 8                     NaN\n",
              "1   2398795        1  ...                 7                    15.0\n",
              "\n",
              "[2 rows x 7 columns]"
            ]
          },
          "metadata": {
            "tags": []
          },
          "execution_count": 24
        }
      ]
    },
    {
      "cell_type": "markdown",
      "metadata": {
        "id": "i1uLO1bxByfz",
        "colab_type": "text"
      },
      "source": [
        "Merge with columns from `products`"
      ]
    },
    {
      "cell_type": "code",
      "metadata": {
        "id": "D3Hfo2dkJlmh",
        "colab_type": "code",
        "outputId": "986153d5-961d-4012-9c05-65d625e6c0c2",
        "colab": {
          "base_uri": "https://localhost:8080/",
          "height": 112
        }
      },
      "source": [
        "products.head(2)"
      ],
      "execution_count": 0,
      "outputs": [
        {
          "output_type": "execute_result",
          "data": {
            "text/html": [
              "<div>\n",
              "<style scoped>\n",
              "    .dataframe tbody tr th:only-of-type {\n",
              "        vertical-align: middle;\n",
              "    }\n",
              "\n",
              "    .dataframe tbody tr th {\n",
              "        vertical-align: top;\n",
              "    }\n",
              "\n",
              "    .dataframe thead th {\n",
              "        text-align: right;\n",
              "    }\n",
              "</style>\n",
              "<table border=\"1\" class=\"dataframe\">\n",
              "  <thead>\n",
              "    <tr style=\"text-align: right;\">\n",
              "      <th></th>\n",
              "      <th>product_id</th>\n",
              "      <th>product_name</th>\n",
              "      <th>aisle_id</th>\n",
              "      <th>department_id</th>\n",
              "    </tr>\n",
              "  </thead>\n",
              "  <tbody>\n",
              "    <tr>\n",
              "      <th>0</th>\n",
              "      <td>1</td>\n",
              "      <td>Chocolate Sandwich Cookies</td>\n",
              "      <td>61</td>\n",
              "      <td>19</td>\n",
              "    </tr>\n",
              "    <tr>\n",
              "      <th>1</th>\n",
              "      <td>2</td>\n",
              "      <td>All-Seasons Salt</td>\n",
              "      <td>104</td>\n",
              "      <td>13</td>\n",
              "    </tr>\n",
              "  </tbody>\n",
              "</table>\n",
              "</div>"
            ],
            "text/plain": [
              "   product_id                product_name  aisle_id  department_id\n",
              "0           1  Chocolate Sandwich Cookies        61             19\n",
              "1           2            All-Seasons Salt       104             13"
            ]
          },
          "metadata": {
            "tags": []
          },
          "execution_count": 26
        }
      ]
    },
    {
      "cell_type": "code",
      "metadata": {
        "id": "Un1xbycl8QiP",
        "colab_type": "code",
        "outputId": "acf1c5af-d28b-44e1-806f-9bf5a71b720b",
        "colab": {
          "base_uri": "https://localhost:8080/",
          "height": 226
        }
      },
      "source": [
        "merged = pd.merge(subset, order_products[['order_id', 'add_to_cart_order']], how='left', on='order_id')\n",
        "merged.head()"
      ],
      "execution_count": 0,
      "outputs": [
        {
          "output_type": "execute_result",
          "data": {
            "text/html": [
              "<div>\n",
              "<style scoped>\n",
              "    .dataframe tbody tr th:only-of-type {\n",
              "        vertical-align: middle;\n",
              "    }\n",
              "\n",
              "    .dataframe tbody tr th {\n",
              "        vertical-align: top;\n",
              "    }\n",
              "\n",
              "    .dataframe thead th {\n",
              "        text-align: right;\n",
              "    }\n",
              "</style>\n",
              "<table border=\"1\" class=\"dataframe\">\n",
              "  <thead>\n",
              "    <tr style=\"text-align: right;\">\n",
              "      <th></th>\n",
              "      <th>order_id</th>\n",
              "      <th>user_id</th>\n",
              "      <th>eval_set</th>\n",
              "      <th>order_number</th>\n",
              "      <th>order_dow</th>\n",
              "      <th>order_hour_of_day</th>\n",
              "      <th>days_since_prior_order</th>\n",
              "      <th>add_to_cart_order</th>\n",
              "    </tr>\n",
              "  </thead>\n",
              "  <tbody>\n",
              "    <tr>\n",
              "      <th>0</th>\n",
              "      <td>2539329</td>\n",
              "      <td>1</td>\n",
              "      <td>prior</td>\n",
              "      <td>1</td>\n",
              "      <td>2</td>\n",
              "      <td>8</td>\n",
              "      <td>NaN</td>\n",
              "      <td>1</td>\n",
              "    </tr>\n",
              "    <tr>\n",
              "      <th>1</th>\n",
              "      <td>2539329</td>\n",
              "      <td>1</td>\n",
              "      <td>prior</td>\n",
              "      <td>1</td>\n",
              "      <td>2</td>\n",
              "      <td>8</td>\n",
              "      <td>NaN</td>\n",
              "      <td>2</td>\n",
              "    </tr>\n",
              "    <tr>\n",
              "      <th>2</th>\n",
              "      <td>2539329</td>\n",
              "      <td>1</td>\n",
              "      <td>prior</td>\n",
              "      <td>1</td>\n",
              "      <td>2</td>\n",
              "      <td>8</td>\n",
              "      <td>NaN</td>\n",
              "      <td>3</td>\n",
              "    </tr>\n",
              "    <tr>\n",
              "      <th>3</th>\n",
              "      <td>2539329</td>\n",
              "      <td>1</td>\n",
              "      <td>prior</td>\n",
              "      <td>1</td>\n",
              "      <td>2</td>\n",
              "      <td>8</td>\n",
              "      <td>NaN</td>\n",
              "      <td>4</td>\n",
              "    </tr>\n",
              "    <tr>\n",
              "      <th>4</th>\n",
              "      <td>2539329</td>\n",
              "      <td>1</td>\n",
              "      <td>prior</td>\n",
              "      <td>1</td>\n",
              "      <td>2</td>\n",
              "      <td>8</td>\n",
              "      <td>NaN</td>\n",
              "      <td>5</td>\n",
              "    </tr>\n",
              "  </tbody>\n",
              "</table>\n",
              "</div>"
            ],
            "text/plain": [
              "   order_id  user_id  ... days_since_prior_order  add_to_cart_order\n",
              "0   2539329        1  ...                    NaN                  1\n",
              "1   2539329        1  ...                    NaN                  2\n",
              "2   2539329        1  ...                    NaN                  3\n",
              "3   2539329        1  ...                    NaN                  4\n",
              "4   2539329        1  ...                    NaN                  5\n",
              "\n",
              "[5 rows x 8 columns]"
            ]
          },
          "metadata": {
            "tags": []
          },
          "execution_count": 30
        }
      ]
    },
    {
      "cell_type": "code",
      "metadata": {
        "id": "mnBzWcow9I1f",
        "colab_type": "code",
        "outputId": "bb08f3e1-608c-4375-8429-58f722b91057",
        "colab": {
          "base_uri": "https://localhost:8080/",
          "height": 81
        }
      },
      "source": [
        "products.head(1)"
      ],
      "execution_count": 0,
      "outputs": [
        {
          "output_type": "execute_result",
          "data": {
            "text/html": [
              "<div>\n",
              "<style scoped>\n",
              "    .dataframe tbody tr th:only-of-type {\n",
              "        vertical-align: middle;\n",
              "    }\n",
              "\n",
              "    .dataframe tbody tr th {\n",
              "        vertical-align: top;\n",
              "    }\n",
              "\n",
              "    .dataframe thead th {\n",
              "        text-align: right;\n",
              "    }\n",
              "</style>\n",
              "<table border=\"1\" class=\"dataframe\">\n",
              "  <thead>\n",
              "    <tr style=\"text-align: right;\">\n",
              "      <th></th>\n",
              "      <th>product_id</th>\n",
              "      <th>product_name</th>\n",
              "      <th>aisle_id</th>\n",
              "      <th>department_id</th>\n",
              "    </tr>\n",
              "  </thead>\n",
              "  <tbody>\n",
              "    <tr>\n",
              "      <th>0</th>\n",
              "      <td>1</td>\n",
              "      <td>Chocolate Sandwich Cookies</td>\n",
              "      <td>61</td>\n",
              "      <td>19</td>\n",
              "    </tr>\n",
              "  </tbody>\n",
              "</table>\n",
              "</div>"
            ],
            "text/plain": [
              "   product_id                product_name  aisle_id  department_id\n",
              "0           1  Chocolate Sandwich Cookies        61             19"
            ]
          },
          "metadata": {
            "tags": []
          },
          "execution_count": 31
        }
      ]
    },
    {
      "cell_type": "code",
      "metadata": {
        "id": "hj_qk9Gk9Pve",
        "colab_type": "code",
        "outputId": "5581f006-08e5-4045-b827-4d9428269c6e",
        "colab": {
          "base_uri": "https://localhost:8080/",
          "height": 345
        }
      },
      "source": [
        "#dont forget the double brakets \n",
        "final = pd.merge(merged, products[['product', 'product_name']], how='left', on='product_name')"
      ],
      "execution_count": 0,
      "outputs": [
        {
          "output_type": "error",
          "ename": "KeyError",
          "evalue": "ignored",
          "traceback": [
            "\u001b[0;31m---------------------------------------------------------------------------\u001b[0m",
            "\u001b[0;31mKeyError\u001b[0m                                  Traceback (most recent call last)",
            "\u001b[0;32m<ipython-input-32-2407eaf3a149>\u001b[0m in \u001b[0;36m<module>\u001b[0;34m()\u001b[0m\n\u001b[0;32m----> 1\u001b[0;31m \u001b[0mfinal\u001b[0m \u001b[0;34m=\u001b[0m \u001b[0mpd\u001b[0m\u001b[0;34m.\u001b[0m\u001b[0mmerge\u001b[0m\u001b[0;34m(\u001b[0m\u001b[0mmerged\u001b[0m\u001b[0;34m,\u001b[0m \u001b[0mproducts\u001b[0m\u001b[0;34m[\u001b[0m\u001b[0;34m[\u001b[0m\u001b[0;34m'product'\u001b[0m\u001b[0;34m,\u001b[0m \u001b[0;34m'product_name'\u001b[0m\u001b[0;34m]\u001b[0m\u001b[0;34m]\u001b[0m\u001b[0;34m,\u001b[0m \u001b[0mhow\u001b[0m\u001b[0;34m=\u001b[0m\u001b[0;34m'left'\u001b[0m\u001b[0;34m,\u001b[0m \u001b[0mon\u001b[0m\u001b[0;34m=\u001b[0m\u001b[0;34m'product_name'\u001b[0m\u001b[0;34m)\u001b[0m\u001b[0;34m\u001b[0m\u001b[0;34m\u001b[0m\u001b[0m\n\u001b[0m",
            "\u001b[0;32m/usr/local/lib/python3.6/dist-packages/pandas/core/frame.py\u001b[0m in \u001b[0;36m__getitem__\u001b[0;34m(self, key)\u001b[0m\n\u001b[1;32m   2932\u001b[0m                 \u001b[0mkey\u001b[0m \u001b[0;34m=\u001b[0m \u001b[0mlist\u001b[0m\u001b[0;34m(\u001b[0m\u001b[0mkey\u001b[0m\u001b[0;34m)\u001b[0m\u001b[0;34m\u001b[0m\u001b[0;34m\u001b[0m\u001b[0m\n\u001b[1;32m   2933\u001b[0m             indexer = self.loc._convert_to_indexer(key, axis=1,\n\u001b[0;32m-> 2934\u001b[0;31m                                                    raise_missing=True)\n\u001b[0m\u001b[1;32m   2935\u001b[0m \u001b[0;34m\u001b[0m\u001b[0m\n\u001b[1;32m   2936\u001b[0m         \u001b[0;31m# take() does not accept boolean indexers\u001b[0m\u001b[0;34m\u001b[0m\u001b[0;34m\u001b[0m\u001b[0;34m\u001b[0m\u001b[0m\n",
            "\u001b[0;32m/usr/local/lib/python3.6/dist-packages/pandas/core/indexing.py\u001b[0m in \u001b[0;36m_convert_to_indexer\u001b[0;34m(self, obj, axis, is_setter, raise_missing)\u001b[0m\n\u001b[1;32m   1352\u001b[0m                 kwargs = {'raise_missing': True if is_setter else\n\u001b[1;32m   1353\u001b[0m                           raise_missing}\n\u001b[0;32m-> 1354\u001b[0;31m                 \u001b[0;32mreturn\u001b[0m \u001b[0mself\u001b[0m\u001b[0;34m.\u001b[0m\u001b[0m_get_listlike_indexer\u001b[0m\u001b[0;34m(\u001b[0m\u001b[0mobj\u001b[0m\u001b[0;34m,\u001b[0m \u001b[0maxis\u001b[0m\u001b[0;34m,\u001b[0m \u001b[0;34m**\u001b[0m\u001b[0mkwargs\u001b[0m\u001b[0;34m)\u001b[0m\u001b[0;34m[\u001b[0m\u001b[0;36m1\u001b[0m\u001b[0;34m]\u001b[0m\u001b[0;34m\u001b[0m\u001b[0;34m\u001b[0m\u001b[0m\n\u001b[0m\u001b[1;32m   1355\u001b[0m         \u001b[0;32melse\u001b[0m\u001b[0;34m:\u001b[0m\u001b[0;34m\u001b[0m\u001b[0;34m\u001b[0m\u001b[0m\n\u001b[1;32m   1356\u001b[0m             \u001b[0;32mtry\u001b[0m\u001b[0;34m:\u001b[0m\u001b[0;34m\u001b[0m\u001b[0;34m\u001b[0m\u001b[0m\n",
            "\u001b[0;32m/usr/local/lib/python3.6/dist-packages/pandas/core/indexing.py\u001b[0m in \u001b[0;36m_get_listlike_indexer\u001b[0;34m(self, key, axis, raise_missing)\u001b[0m\n\u001b[1;32m   1159\u001b[0m         self._validate_read_indexer(keyarr, indexer,\n\u001b[1;32m   1160\u001b[0m                                     \u001b[0mo\u001b[0m\u001b[0;34m.\u001b[0m\u001b[0m_get_axis_number\u001b[0m\u001b[0;34m(\u001b[0m\u001b[0maxis\u001b[0m\u001b[0;34m)\u001b[0m\u001b[0;34m,\u001b[0m\u001b[0;34m\u001b[0m\u001b[0;34m\u001b[0m\u001b[0m\n\u001b[0;32m-> 1161\u001b[0;31m                                     raise_missing=raise_missing)\n\u001b[0m\u001b[1;32m   1162\u001b[0m         \u001b[0;32mreturn\u001b[0m \u001b[0mkeyarr\u001b[0m\u001b[0;34m,\u001b[0m \u001b[0mindexer\u001b[0m\u001b[0;34m\u001b[0m\u001b[0;34m\u001b[0m\u001b[0m\n\u001b[1;32m   1163\u001b[0m \u001b[0;34m\u001b[0m\u001b[0m\n",
            "\u001b[0;32m/usr/local/lib/python3.6/dist-packages/pandas/core/indexing.py\u001b[0m in \u001b[0;36m_validate_read_indexer\u001b[0;34m(self, key, indexer, axis, raise_missing)\u001b[0m\n\u001b[1;32m   1250\u001b[0m             \u001b[0;32mif\u001b[0m \u001b[0;32mnot\u001b[0m\u001b[0;34m(\u001b[0m\u001b[0mself\u001b[0m\u001b[0;34m.\u001b[0m\u001b[0mname\u001b[0m \u001b[0;34m==\u001b[0m \u001b[0;34m'loc'\u001b[0m \u001b[0;32mand\u001b[0m \u001b[0;32mnot\u001b[0m \u001b[0mraise_missing\u001b[0m\u001b[0;34m)\u001b[0m\u001b[0;34m:\u001b[0m\u001b[0;34m\u001b[0m\u001b[0;34m\u001b[0m\u001b[0m\n\u001b[1;32m   1251\u001b[0m                 \u001b[0mnot_found\u001b[0m \u001b[0;34m=\u001b[0m \u001b[0mlist\u001b[0m\u001b[0;34m(\u001b[0m\u001b[0mset\u001b[0m\u001b[0;34m(\u001b[0m\u001b[0mkey\u001b[0m\u001b[0;34m)\u001b[0m \u001b[0;34m-\u001b[0m \u001b[0mset\u001b[0m\u001b[0;34m(\u001b[0m\u001b[0max\u001b[0m\u001b[0;34m)\u001b[0m\u001b[0;34m)\u001b[0m\u001b[0;34m\u001b[0m\u001b[0;34m\u001b[0m\u001b[0m\n\u001b[0;32m-> 1252\u001b[0;31m                 \u001b[0;32mraise\u001b[0m \u001b[0mKeyError\u001b[0m\u001b[0;34m(\u001b[0m\u001b[0;34m\"{} not in index\"\u001b[0m\u001b[0;34m.\u001b[0m\u001b[0mformat\u001b[0m\u001b[0;34m(\u001b[0m\u001b[0mnot_found\u001b[0m\u001b[0;34m)\u001b[0m\u001b[0;34m)\u001b[0m\u001b[0;34m\u001b[0m\u001b[0;34m\u001b[0m\u001b[0m\n\u001b[0m\u001b[1;32m   1253\u001b[0m \u001b[0;34m\u001b[0m\u001b[0m\n\u001b[1;32m   1254\u001b[0m             \u001b[0;31m# we skip the warning on Categorical/Interval\u001b[0m\u001b[0;34m\u001b[0m\u001b[0;34m\u001b[0m\u001b[0;34m\u001b[0m\u001b[0m\n",
            "\u001b[0;31mKeyError\u001b[0m: \"['product'] not in index\""
          ]
        }
      ]
    },
    {
      "cell_type": "markdown",
      "metadata": {
        "id": "dDfzKXJdwApV",
        "colab_type": "text"
      },
      "source": [
        "# Reshape Datasets"
      ]
    },
    {
      "cell_type": "markdown",
      "metadata": {
        "id": "4stCppWhwIx0",
        "colab_type": "text"
      },
      "source": [
        "## Why reshape data?\n",
        "\n",
        "#### Some libraries prefer data in different formats\n",
        "\n",
        "For example, the Seaborn data visualization library prefers data in \"Tidy\" format often (but not always).\n",
        "\n",
        "> \"[Seaborn will be most powerful when your datasets have a particular organization.](https://seaborn.pydata.org/introduction.html#organizing-datasets) This format ia alternately called “long-form” or “tidy” data and is described in detail by Hadley Wickham. The rules can be simply stated:\n",
        "\n",
        "> - Each variable is a column\n",
        "- Each observation is a row\n",
        "\n",
        "> A helpful mindset for determining whether your data are tidy is to think backwards from the plot you want to draw. From this perspective, a “variable” is something that will be assigned a role in the plot.\"\n",
        "\n",
        "#### Data science is often about putting square pegs in round holes\n",
        "\n",
        "Here's an inspiring [video clip from _Apollo 13_](https://www.youtube.com/watch?v=ry55--J4_VQ): “Invent a way to put a square peg in a round hole.” It's a good metaphor for data wrangling!"
      ]
    },
    {
      "cell_type": "markdown",
      "metadata": {
        "id": "79KITszBwXp7",
        "colab_type": "text"
      },
      "source": [
        "## Hadley Wickham's Examples\n",
        "\n",
        "From his paper, [Tidy Data](http://vita.had.co.nz/papers/tidy-data.html)"
      ]
    },
    {
      "cell_type": "code",
      "metadata": {
        "id": "Jna5sk5FwYHr",
        "colab_type": "code",
        "colab": {}
      },
      "source": [
        "%matplotlib inline\n",
        "import pandas as pd\n",
        "import numpy as np\n",
        "import seaborn as sns\n",
        "\n",
        "table1 = pd.DataFrame(\n",
        "    [[np.nan, 2],\n",
        "     [16,    11], \n",
        "     [3,      1]],\n",
        "    index=['John Smith', 'Jane Doe', 'Mary Johnson'], \n",
        "    columns=['treatmenta', 'treatmentb'])\n",
        "\n",
        "table2 = table1.T"
      ],
      "execution_count": 0,
      "outputs": []
    },
    {
      "cell_type": "markdown",
      "metadata": {
        "id": "eWe5rpI9wdvT",
        "colab_type": "text"
      },
      "source": [
        "\"Table 1 provides some data about an imaginary experiment in a format commonly seen in the wild. \n",
        "\n",
        "The table has two columns and three rows, and both rows and columns are labelled.\""
      ]
    },
    {
      "cell_type": "code",
      "metadata": {
        "id": "SdUp5LbcwgNK",
        "colab_type": "code",
        "outputId": "176dd9b1-a8f4-49ea-9b0f-2ae4421d935f",
        "colab": {
          "base_uri": "https://localhost:8080/",
          "height": 136
        }
      },
      "source": [
        "table1"
      ],
      "execution_count": 0,
      "outputs": [
        {
          "output_type": "execute_result",
          "data": {
            "text/html": [
              "<div>\n",
              "<style scoped>\n",
              "    .dataframe tbody tr th:only-of-type {\n",
              "        vertical-align: middle;\n",
              "    }\n",
              "\n",
              "    .dataframe tbody tr th {\n",
              "        vertical-align: top;\n",
              "    }\n",
              "\n",
              "    .dataframe thead th {\n",
              "        text-align: right;\n",
              "    }\n",
              "</style>\n",
              "<table border=\"1\" class=\"dataframe\">\n",
              "  <thead>\n",
              "    <tr style=\"text-align: right;\">\n",
              "      <th></th>\n",
              "      <th>treatmenta</th>\n",
              "      <th>treatmentb</th>\n",
              "    </tr>\n",
              "  </thead>\n",
              "  <tbody>\n",
              "    <tr>\n",
              "      <th>John Smith</th>\n",
              "      <td>NaN</td>\n",
              "      <td>2</td>\n",
              "    </tr>\n",
              "    <tr>\n",
              "      <th>Jane Doe</th>\n",
              "      <td>16.0</td>\n",
              "      <td>11</td>\n",
              "    </tr>\n",
              "    <tr>\n",
              "      <th>Mary Johnson</th>\n",
              "      <td>3.0</td>\n",
              "      <td>1</td>\n",
              "    </tr>\n",
              "  </tbody>\n",
              "</table>\n",
              "</div>"
            ],
            "text/plain": [
              "              treatmenta  treatmentb\n",
              "John Smith           NaN           2\n",
              "Jane Doe            16.0          11\n",
              "Mary Johnson         3.0           1"
            ]
          },
          "metadata": {
            "tags": []
          },
          "execution_count": 3
        }
      ]
    },
    {
      "cell_type": "markdown",
      "metadata": {
        "id": "SaEcDmZhwmon",
        "colab_type": "text"
      },
      "source": [
        "\"There are many ways to structure the same underlying data. \n",
        "\n",
        "Table 2 shows the same data as Table 1, but the rows and columns have been transposed. The data is the same, but the layout is different.\""
      ]
    },
    {
      "cell_type": "code",
      "metadata": {
        "id": "SwDVoCj5woAn",
        "colab_type": "code",
        "outputId": "8390f63c-c5a0-433e-9f5e-fdb928ff30a9",
        "colab": {
          "base_uri": "https://localhost:8080/",
          "height": 106
        }
      },
      "source": [
        "table2"
      ],
      "execution_count": 0,
      "outputs": [
        {
          "output_type": "execute_result",
          "data": {
            "text/html": [
              "<div>\n",
              "<style scoped>\n",
              "    .dataframe tbody tr th:only-of-type {\n",
              "        vertical-align: middle;\n",
              "    }\n",
              "\n",
              "    .dataframe tbody tr th {\n",
              "        vertical-align: top;\n",
              "    }\n",
              "\n",
              "    .dataframe thead th {\n",
              "        text-align: right;\n",
              "    }\n",
              "</style>\n",
              "<table border=\"1\" class=\"dataframe\">\n",
              "  <thead>\n",
              "    <tr style=\"text-align: right;\">\n",
              "      <th></th>\n",
              "      <th>John Smith</th>\n",
              "      <th>Jane Doe</th>\n",
              "      <th>Mary Johnson</th>\n",
              "    </tr>\n",
              "  </thead>\n",
              "  <tbody>\n",
              "    <tr>\n",
              "      <th>treatmenta</th>\n",
              "      <td>NaN</td>\n",
              "      <td>16.0</td>\n",
              "      <td>3.0</td>\n",
              "    </tr>\n",
              "    <tr>\n",
              "      <th>treatmentb</th>\n",
              "      <td>2.0</td>\n",
              "      <td>11.0</td>\n",
              "      <td>1.0</td>\n",
              "    </tr>\n",
              "  </tbody>\n",
              "</table>\n",
              "</div>"
            ],
            "text/plain": [
              "            John Smith  Jane Doe  Mary Johnson\n",
              "treatmenta         NaN      16.0           3.0\n",
              "treatmentb         2.0      11.0           1.0"
            ]
          },
          "metadata": {
            "tags": []
          },
          "execution_count": 4
        }
      ]
    },
    {
      "cell_type": "markdown",
      "metadata": {
        "id": "k3ratDNbwsyN",
        "colab_type": "text"
      },
      "source": [
        "\"Table 3 reorganises Table 1 to make the values, variables and obserations more clear.\n",
        "\n",
        "Table 3 is the tidy version of Table 1. Each row represents an observation, the result of one treatment on one person, and each column is a variable.\"\n",
        "\n",
        "| name         | trt | result |\n",
        "|--------------|-----|--------|\n",
        "| John Smith   | a   | -      |\n",
        "| Jane Doe     | a   | 16     |\n",
        "| Mary Johnson | a   | 3      |\n",
        "| John Smith   | b   | 2      |\n",
        "| Jane Doe     | b   | 11     |\n",
        "| Mary Johnson | b   | 1      |"
      ]
    },
    {
      "cell_type": "markdown",
      "metadata": {
        "id": "WsvD1I3TwwnI",
        "colab_type": "text"
      },
      "source": [
        "## Table 1 --> Tidy\n",
        "\n",
        "We can use the pandas `melt` function to reshape Table 1 into Tidy format."
      ]
    },
    {
      "cell_type": "code",
      "metadata": {
        "id": "S48tKmC46veF",
        "colab_type": "code",
        "colab": {}
      },
      "source": [
        ""
      ],
      "execution_count": 0,
      "outputs": []
    },
    {
      "cell_type": "markdown",
      "metadata": {
        "id": "Ck15sXaJxPrd",
        "colab_type": "text"
      },
      "source": [
        "## Table 2 --> Tidy"
      ]
    },
    {
      "cell_type": "code",
      "metadata": {
        "id": "k2Qn94RIxQhV",
        "colab_type": "code",
        "colab": {}
      },
      "source": [
        "##### LEAVE BLANK --an assignment exercise #####"
      ],
      "execution_count": 0,
      "outputs": []
    },
    {
      "cell_type": "markdown",
      "metadata": {
        "id": "As0W7PWLxea3",
        "colab_type": "text"
      },
      "source": [
        "## Tidy --> Table 1\n",
        "\n",
        "The `pivot_table` function is the inverse of `melt`."
      ]
    },
    {
      "cell_type": "code",
      "metadata": {
        "id": "CdZZiLYoxfJC",
        "colab_type": "code",
        "colab": {}
      },
      "source": [
        ""
      ],
      "execution_count": 0,
      "outputs": []
    },
    {
      "cell_type": "markdown",
      "metadata": {
        "id": "3GeAKoSZxoPS",
        "colab_type": "text"
      },
      "source": [
        "## Tidy --> Table 2"
      ]
    },
    {
      "cell_type": "code",
      "metadata": {
        "id": "W2jjciN2xk9r",
        "colab_type": "code",
        "colab": {}
      },
      "source": [
        "##### LEAVE BLANK --an assignment exercise #####"
      ],
      "execution_count": 0,
      "outputs": []
    },
    {
      "cell_type": "markdown",
      "metadata": {
        "id": "jr0jQy6Oxqi7",
        "colab_type": "text"
      },
      "source": [
        "# Seaborn example\n",
        "\n",
        "The rules can be simply stated:\n",
        "\n",
        "- Each variable is a column\n",
        "- Each observation is a row\n",
        "\n",
        "A helpful mindset for determining whether your data are tidy is to think backwards from the plot you want to draw. From this perspective, a “variable” is something that will be assigned a role in the plot.\""
      ]
    },
    {
      "cell_type": "code",
      "metadata": {
        "id": "kWo3FIP9xuKo",
        "colab_type": "code",
        "outputId": "25a90cb8-2bfc-4858-851f-d2fec3aa652d",
        "colab": {
          "base_uri": "https://localhost:8080/",
          "height": 153
        }
      },
      "source": [
        "sns.catplot(x='trt', y='result', col='name', \n",
        "            kind='bar', data=tidy, height=2);"
      ],
      "execution_count": 0,
      "outputs": [
        {
          "output_type": "display_data",
          "data": {
            "image/png": "[encoded data removed]",
            "text/plain": [
              "<Figure size 432x144 with 3 Axes>"
            ]
          },
          "metadata": {
            "tags": []
          }
        }
      ]
    },
    {
      "cell_type": "markdown",
      "metadata": {
        "id": "cIgT41Rxx4oj",
        "colab_type": "text"
      },
      "source": [
        "## Now with Instacart data"
      ]
    },
    {
      "cell_type": "code",
      "metadata": {
        "id": "Oydw0VvGxyDJ",
        "colab_type": "code",
        "colab": {}
      },
      "source": [
        "products = pd.read_csv('products.csv')\n",
        "\n",
        "order_products = pd.concat([pd.read_csv('order_products__prior.csv'), \n",
        "                            pd.read_csv('order_products__train.csv')])\n",
        "\n",
        "orders = pd.read_csv('orders.csv')"
      ],
      "execution_count": 0,
      "outputs": []
    },
    {
      "cell_type": "markdown",
      "metadata": {
        "id": "6p-IsG0jyXQj",
        "colab_type": "text"
      },
      "source": [
        "## Goal: Reproduce part of this example\n",
        "\n",
        "Instead of a plot with 50 products, we'll just do two — the first products from each list\n",
        "- Half And Half Ultra Pasteurized\n",
        "- Half Baked Frozen Yogurt"
      ]
    },
    {
      "cell_type": "code",
      "metadata": {
        "id": "Rs-_n9yjyZ15",
        "colab_type": "code",
        "outputId": "87a7427c-41e5-48af-e5c4-e6fb99c81519",
        "colab": {
          "base_uri": "https://localhost:8080/",
          "height": 383
        }
      },
      "source": [
        "from IPython.display import display, Image\n",
        "url = 'https://cdn-images-1.medium.com/max/1600/1*wKfV6OV-_1Ipwrl7AjjSuw.png'\n",
        "example = Image(url=url, width=600)\n",
        "\n",
        "display(example)"
      ],
      "execution_count": 0,
      "outputs": [
        {
          "output_type": "display_data",
          "data": {
            "text/html": [
              "<img src=\"https://cdn-images-1.medium.com/max/1600/1*wKfV6OV-_1Ipwrl7AjjSuw.png\" width=\"600\"/>"
            ],
            "text/plain": [
              "<IPython.core.display.Image object>"
            ]
          },
          "metadata": {
            "tags": []
          }
        }
      ]
    },
    {
      "cell_type": "markdown",
      "metadata": {
        "id": "Vj5GR7I4ydBg",
        "colab_type": "text"
      },
      "source": [
        "So, given a `product_name` we need to calculate its `order_hour_of_day` pattern."
      ]
    },
    {
      "cell_type": "markdown",
      "metadata": {
        "id": "Vc9_s7-LyhBI",
        "colab_type": "text"
      },
      "source": [
        "## Subset and Merge\n",
        "\n",
        "One challenge of performing a merge on this data is that the `products` and `orders` datasets do not have any common columns that we can merge on. Due to this we will have to use the `order_products` dataset to provide the columns that we will use to perform the merge."
      ]
    },
    {
      "cell_type": "code",
      "metadata": {
        "id": "W1yHMS-OyUTH",
        "colab_type": "code",
        "colab": {}
      },
      "source": [
        ""
      ],
      "execution_count": 0,
      "outputs": []
    },
    {
      "cell_type": "markdown",
      "metadata": {
        "id": "UvhcadjFzx0Q",
        "colab_type": "text"
      },
      "source": [
        "## 4 ways to reshape and plot"
      ]
    },
    {
      "cell_type": "markdown",
      "metadata": {
        "id": "aEE_nCWjzz7f",
        "colab_type": "text"
      },
      "source": [
        "### 1. value_counts"
      ]
    },
    {
      "cell_type": "code",
      "metadata": {
        "id": "vTL3Cko87VL-",
        "colab_type": "code",
        "colab": {}
      },
      "source": [
        ""
      ],
      "execution_count": 0,
      "outputs": []
    },
    {
      "cell_type": "markdown",
      "metadata": {
        "id": "tMSd6YDj0BjE",
        "colab_type": "text"
      },
      "source": [
        "### 2. crosstab"
      ]
    },
    {
      "cell_type": "code",
      "metadata": {
        "id": "Slu2bWYK0CZD",
        "colab_type": "code",
        "colab": {}
      },
      "source": [
        ""
      ],
      "execution_count": 0,
      "outputs": []
    },
    {
      "cell_type": "markdown",
      "metadata": {
        "id": "ICjPVqO70Hv8",
        "colab_type": "text"
      },
      "source": [
        "### 3. Pivot Table"
      ]
    },
    {
      "cell_type": "code",
      "metadata": {
        "id": "LQtMNVa10I_S",
        "colab_type": "code",
        "colab": {}
      },
      "source": [
        ""
      ],
      "execution_count": 0,
      "outputs": []
    },
    {
      "cell_type": "markdown",
      "metadata": {
        "id": "7A9jfBVv0M7e",
        "colab_type": "text"
      },
      "source": [
        "### 4. melt"
      ]
    },
    {
      "cell_type": "code",
      "metadata": {
        "id": "2AmbAKm20PAg",
        "colab_type": "code",
        "colab": {}
      },
      "source": [
        ""
      ],
      "execution_count": 0,
      "outputs": []
    },
    {
      "cell_type": "markdown",
      "metadata": {
        "colab_type": "text",
        "id": "kAMtvSQWPUcj"
      },
      "source": [
        "# Assignment\n",
        "\n",
        "## Join Data Section\n",
        "\n",
        "These are the top 10 most frequently ordered products. How many times was each ordered? \n",
        "\n",
        "1. Banana\n",
        "2. Bag of Organic Bananas\n",
        "3. Organic Strawberries\n",
        "4. Organic Baby Spinach \n",
        "5. Organic Hass Avocado\n",
        "6. Organic Avocado\n",
        "7. Large Lemon \n",
        "8. Strawberries\n",
        "9. Limes \n",
        "10. Organic Whole Milk\n",
        "\n",
        "First, write down which columns you need and which dataframes have them.\n",
        "\n",
        "Next, merge these into a single dataframe.\n",
        "\n",
        "Then, use pandas functions from the previous lesson to get the counts of the top 10 most frequently ordered products.\n",
        "\n",
        "## Reshape Data Section\n",
        "\n",
        "- Replicate the lesson code\n",
        "- Complete the code cells we skipped near the beginning of the notebook\n",
        "- Table 2 --> Tidy\n",
        "- Tidy --> Table 2\n",
        "- Load seaborn's `flights` dataset by running the cell below. Then create a pivot table showing the number of passengers by month and year. Use year for the index and month for the columns. You've done it right if you get 112 passengers for January 1949 and 432 passengers for December 1960."
      ]
    },
    {
      "cell_type": "code",
      "metadata": {
        "id": "fgxulJQq0uLw",
        "colab_type": "code",
        "colab": {}
      },
      "source": [
        "flights = sns.load_dataset('flights')"
      ],
      "execution_count": 0,
      "outputs": []
    },
    {
      "cell_type": "code",
      "metadata": {
        "id": "OUMosMcNr_fg",
        "colab_type": "code",
        "colab": {}
      },
      "source": [
        "import pandas as pd\n",
        "import numpy as np\n",
        "import matplotlib.pyplot as plt"
      ],
      "execution_count": 0,
      "outputs": []
    },
    {
      "cell_type": "code",
      "metadata": {
        "id": "1qKc88WI0up-",
        "colab_type": "code",
        "outputId": "cfac735e-4679-4da7-f6b8-df328a020c71",
        "colab": {
          "base_uri": "https://localhost:8080/",
          "height": 225
        }
      },
      "source": [
        "order_products__prior = pd.read_csv('order_products__prior.csv')\n",
        "print(order_products__prior.shape)\n",
        "order_products__prior.head()"
      ],
      "execution_count": 0,
      "outputs": [
        {
          "output_type": "stream",
          "text": [
            "(32434489, 4)\n"
          ],
          "name": "stdout"
        },
        {
          "output_type": "execute_result",
          "data": {
            "text/html": [
              "<div>\n",
              "<style scoped>\n",
              "    .dataframe tbody tr th:only-of-type {\n",
              "        vertical-align: middle;\n",
              "    }\n",
              "\n",
              "    .dataframe tbody tr th {\n",
              "        vertical-align: top;\n",
              "    }\n",
              "\n",
              "    .dataframe thead th {\n",
              "        text-align: right;\n",
              "    }\n",
              "</style>\n",
              "<table border=\"1\" class=\"dataframe\">\n",
              "  <thead>\n",
              "    <tr style=\"text-align: right;\">\n",
              "      <th></th>\n",
              "      <th>order_id</th>\n",
              "      <th>product_id</th>\n",
              "      <th>add_to_cart_order</th>\n",
              "      <th>reordered</th>\n",
              "    </tr>\n",
              "  </thead>\n",
              "  <tbody>\n",
              "    <tr>\n",
              "      <th>0</th>\n",
              "      <td>2</td>\n",
              "      <td>33120</td>\n",
              "      <td>1</td>\n",
              "      <td>1</td>\n",
              "    </tr>\n",
              "    <tr>\n",
              "      <th>1</th>\n",
              "      <td>2</td>\n",
              "      <td>28985</td>\n",
              "      <td>2</td>\n",
              "      <td>1</td>\n",
              "    </tr>\n",
              "    <tr>\n",
              "      <th>2</th>\n",
              "      <td>2</td>\n",
              "      <td>9327</td>\n",
              "      <td>3</td>\n",
              "      <td>0</td>\n",
              "    </tr>\n",
              "    <tr>\n",
              "      <th>3</th>\n",
              "      <td>2</td>\n",
              "      <td>45918</td>\n",
              "      <td>4</td>\n",
              "      <td>1</td>\n",
              "    </tr>\n",
              "    <tr>\n",
              "      <th>4</th>\n",
              "      <td>2</td>\n",
              "      <td>30035</td>\n",
              "      <td>5</td>\n",
              "      <td>0</td>\n",
              "    </tr>\n",
              "  </tbody>\n",
              "</table>\n",
              "</div>"
            ],
            "text/plain": [
              "   order_id  product_id  add_to_cart_order  reordered\n",
              "0         2       33120                  1          1\n",
              "1         2       28985                  2          1\n",
              "2         2        9327                  3          0\n",
              "3         2       45918                  4          1\n",
              "4         2       30035                  5          0"
            ]
          },
          "metadata": {
            "tags": []
          },
          "execution_count": 6
        }
      ]
    },
    {
      "cell_type": "code",
      "metadata": {
        "id": "WjI_kUpHsSvw",
        "colab_type": "code",
        "outputId": "ed94c619-b227-48d1-938b-6b8562c62389",
        "colab": {
          "base_uri": "https://localhost:8080/",
          "height": 225
        }
      },
      "source": [
        "products = pd.read_csv('products.csv')\n",
        "print(products.shape)\n",
        "products.head()"
      ],
      "execution_count": 0,
      "outputs": [
        {
          "output_type": "stream",
          "text": [
            "(49688, 4)\n"
          ],
          "name": "stdout"
        },
        {
          "output_type": "execute_result",
          "data": {
            "text/html": [
              "<div>\n",
              "<style scoped>\n",
              "    .dataframe tbody tr th:only-of-type {\n",
              "        vertical-align: middle;\n",
              "    }\n",
              "\n",
              "    .dataframe tbody tr th {\n",
              "        vertical-align: top;\n",
              "    }\n",
              "\n",
              "    .dataframe thead th {\n",
              "        text-align: right;\n",
              "    }\n",
              "</style>\n",
              "<table border=\"1\" class=\"dataframe\">\n",
              "  <thead>\n",
              "    <tr style=\"text-align: right;\">\n",
              "      <th></th>\n",
              "      <th>product_id</th>\n",
              "      <th>product_name</th>\n",
              "      <th>aisle_id</th>\n",
              "      <th>department_id</th>\n",
              "    </tr>\n",
              "  </thead>\n",
              "  <tbody>\n",
              "    <tr>\n",
              "      <th>0</th>\n",
              "      <td>1</td>\n",
              "      <td>Chocolate Sandwich Cookies</td>\n",
              "      <td>61</td>\n",
              "      <td>19</td>\n",
              "    </tr>\n",
              "    <tr>\n",
              "      <th>1</th>\n",
              "      <td>2</td>\n",
              "      <td>All-Seasons Salt</td>\n",
              "      <td>104</td>\n",
              "      <td>13</td>\n",
              "    </tr>\n",
              "    <tr>\n",
              "      <th>2</th>\n",
              "      <td>3</td>\n",
              "      <td>Robust Golden Unsweetened Oolong Tea</td>\n",
              "      <td>94</td>\n",
              "      <td>7</td>\n",
              "    </tr>\n",
              "    <tr>\n",
              "      <th>3</th>\n",
              "      <td>4</td>\n",
              "      <td>Smart Ones Classic Favorites Mini Rigatoni Wit...</td>\n",
              "      <td>38</td>\n",
              "      <td>1</td>\n",
              "    </tr>\n",
              "    <tr>\n",
              "      <th>4</th>\n",
              "      <td>5</td>\n",
              "      <td>Green Chile Anytime Sauce</td>\n",
              "      <td>5</td>\n",
              "      <td>13</td>\n",
              "    </tr>\n",
              "  </tbody>\n",
              "</table>\n",
              "</div>"
            ],
            "text/plain": [
              "   product_id  ... department_id\n",
              "0           1  ...            19\n",
              "1           2  ...            13\n",
              "2           3  ...             7\n",
              "3           4  ...             1\n",
              "4           5  ...            13\n",
              "\n",
              "[5 rows x 4 columns]"
            ]
          },
          "metadata": {
            "tags": []
          },
          "execution_count": 7
        }
      ]
    },
    {
      "cell_type": "code",
      "metadata": {
        "id": "Vt6Rx3zrsVKD",
        "colab_type": "code",
        "outputId": "5d31c4f7-fa29-4fd2-be54-88b399fa776f",
        "colab": {
          "base_uri": "https://localhost:8080/",
          "height": 35
        }
      },
      "source": [
        "# Banana = int(products[products.product_name == 'Banana']['product_id'])\n",
        "# print(Banana)\n",
        "#          products.product_name == 'Bag of Organic Bananas' or\n",
        "#          products.product_name == 'Organic Strawberries' or\n",
        "#          products.product_name == 'Organic Baby Spinach' or\n",
        "#          products.product_name == 'Organic Avocado' or\n",
        "#          products.product_name == 'Limes' or\n",
        "#          products.product_name == 'Strawberries' or\n",
        "#          products.product_name == 'Organic Whole Milk']\n",
        "#testing int() vs. pd.value\n",
        "print(products[products.product_name == 'Banana']['product_id'].values)"
      ],
      "execution_count": 0,
      "outputs": [
        {
          "output_type": "stream",
          "text": [
            "[24852]\n"
          ],
          "name": "stdout"
        }
      ]
    },
    {
      "cell_type": "code",
      "metadata": {
        "id": "-BO31LAFGzMI",
        "colab_type": "code",
        "colab": {}
      },
      "source": [
        "#function to create a list of product number from string of product name\n",
        "func_product_numbers = lambda string : int(products[products.product_name == string]['product_id'])\n",
        "\n",
        "#top 10 most frequently ordered products\n",
        "product_names = [\n",
        "    'Banana',\n",
        "    'Bag of Organic Bananas',\n",
        "    'Organic Strawberries',\n",
        "    'Organic Baby Spinach',\n",
        "    'Organic Hass Avocado',\n",
        "    'Organic Avocado',\n",
        "    'Large Lemon',\n",
        "    'Strawberries',\n",
        "    'Limes',\n",
        "    'Organic Whole Milk',\n",
        "]\n",
        "#generating list of product numbers \n",
        "# product_numbers = [func_product_numbers(x) for x in  product_names]\n",
        "# product_numbers"
      ],
      "execution_count": 0,
      "outputs": []
    },
    {
      "cell_type": "code",
      "metadata": {
        "id": "biv23G4O8UuS",
        "colab_type": "code",
        "outputId": "fc77f0a8-3271-428d-db7f-37a5acda65e6",
        "colab": {
          "base_uri": "https://localhost:8080/",
          "height": 201
        }
      },
      "source": [
        "#generating a dict i think would be more effiecent to keep track of what numbers and product names together\n",
        "\n",
        "#dict_products = {}\n",
        "#[dict_products() for k in product_names]\n",
        "#dict_products()\n",
        "\n",
        "#creating dict using dict comprehension. \n",
        "dict_products = {x:func_product_numbers(x) for x in product_names}\n",
        "dict_products"
      ],
      "execution_count": 0,
      "outputs": [
        {
          "output_type": "execute_result",
          "data": {
            "text/plain": [
              "{'Bag of Organic Bananas': 13176,\n",
              " 'Banana': 24852,\n",
              " 'Large Lemon': 47626,\n",
              " 'Limes': 26209,\n",
              " 'Organic Avocado': 47766,\n",
              " 'Organic Baby Spinach': 21903,\n",
              " 'Organic Hass Avocado': 47209,\n",
              " 'Organic Strawberries': 21137,\n",
              " 'Organic Whole Milk': 27845,\n",
              " 'Strawberries': 16797}"
            ]
          },
          "metadata": {
            "tags": []
          },
          "execution_count": 9
        }
      ]
    },
    {
      "cell_type": "code",
      "metadata": {
        "id": "Q227arjEt8sJ",
        "colab_type": "code",
        "outputId": "982b4d9e-5989-4ca8-bbdf-e29c2509d5fe",
        "colab": {
          "base_uri": "https://localhost:8080/",
          "height": 1000
        }
      },
      "source": [
        "\n",
        "#dict_products_df = {k:order_products__prior[order_products__prior.product_id == v].copy() for k,v in dict_products }\n",
        "dict_products_df = {k:order_products__prior[order_products__prior.product_id == v].copy() for k,v in dict_products.items() }\n",
        "dict_products_df"
      ],
      "execution_count": 0,
      "outputs": [
        {
          "output_type": "execute_result",
          "data": {
            "text/plain": [
              "{'Bag of Organic Bananas':           order_id  product_id  add_to_cart_order  reordered\n",
              " 30               5       13176                  1          1\n",
              " 241             27       13176                  1          1\n",
              " 286             29       13176                  3          1\n",
              " 304             32       13176                  3          1\n",
              " 341             42       13176                  3          1\n",
              " 445             55       13176                  6          1\n",
              " 482             58       13176                  4          1\n",
              " 492             60       13176                  5          1\n",
              " 549             67       13176                  1          1\n",
              " 698             83       13176                  1          1\n",
              " 828             93       13176                 12          0\n",
              " 917            105       13176                  3          1\n",
              " 1127           125       13176                  7          1\n",
              " 1168           128       13176                  4          1\n",
              " 1175           129       13176                  1          0\n",
              " 1403           152       13176                  1          1\n",
              " 1482           163       13176                  7          1\n",
              " 1623           180       13176                 11          0\n",
              " 1729           193       13176                  6          1\n",
              " 1744           195       13176                  1          1\n",
              " 1802           199       13176                  4          0\n",
              " 1917           219       13176                  1          1\n",
              " 2035           228       13176                 24          1\n",
              " 2087           232       13176                  3          0\n",
              " 2124           235       13176                  5          1\n",
              " 2187           242       13176                  3          0\n",
              " 2259           251       13176                  6          1\n",
              " 2296           254       13176                  7          1\n",
              " 2422           265       13176                  3          1\n",
              " 2594           280       13176                 17          1\n",
              " ...            ...         ...                ...        ...\n",
              " 32432049   3420822       13176                 11          0\n",
              " 32432131   3420829       13176                  1          1\n",
              " 32432277   3420844       13176                  8          0\n",
              " 32432327   3420847       13176                  2          1\n",
              " 32432416   3420855       13176                 12          1\n",
              " 32432456   3420861       13176                  1          1\n",
              " 32432602   3420880       13176                  1          1\n",
              " 32432719   3420898       13176                  1          1\n",
              " 32432736   3420899       13176                  4          1\n",
              " 32432771   3420901       13176                 11          1\n",
              " 32432788   3420904       13176                  6          1\n",
              " 32432843   3420910       13176                  2          1\n",
              " 32432949   3420920       13176                  9          1\n",
              " 32432993   3420924       13176                 11          1\n",
              " 32432999   3420925       13176                  2          1\n",
              " 32433169   3420938       13176                  6          1\n",
              " 32433177   3420939       13176                  2          1\n",
              " 32433234   3420945       13176                  2          1\n",
              " 32433431   3420965       13176                  1          0\n",
              " 32433448   3420966       13176                 10          1\n",
              " 32433555   3420981       13176                  1          1\n",
              " 32433573   3420982       13176                  7          1\n",
              " 32433689   3420990       13176                  7          1\n",
              " 32433748   3421000       13176                  2          1\n",
              " 32433779   3421002       13176                  3          1\n",
              " 32434053   3421033       13176                  2          0\n",
              " 32434128   3421036       13176                 20          1\n",
              " 32434334   3421061       13176                  2          1\n",
              " 32434355   3421062       13176                  1          0\n",
              " 32434378   3421068       13176                  2          1\n",
              " \n",
              " [379450 rows x 4 columns],\n",
              " 'Banana':           order_id  product_id  add_to_cart_order  reordered\n",
              " 77              10       24852                  1          1\n",
              " 180             20       24852                  6          0\n",
              " 190             22       24852                  3          1\n",
              " 234             26       24852                  2          1\n",
              " 414             52       24852                  2          1\n",
              " 418             53       24852                  1          1\n",
              " 434             54       24852                  2          0\n",
              " 598             72       24852                  8          1\n",
              " 675             80       24852                  4          1\n",
              " 758             88       24852                  6          1\n",
              " 812             92       24852                 21          1\n",
              " 1003           110       24852                  6          0\n",
              " 1197           130       24852                  5          0\n",
              " 1314           143       24852                  3          1\n",
              " 1444           158       24852                  6          1\n",
              " 1550           174       24852                  1          1\n",
              " 1566           175       24852                  3          1\n",
              " 1604           177       24852                 17          1\n",
              " 1634           181       24852                  5          1\n",
              " 1646           184       24852                  2          1\n",
              " 1672           187       24852                  1          1\n",
              " 1793           198       24852                  5          1\n",
              " 1847           208       24852                  7          1\n",
              " 1892           213       24852                 10          1\n",
              " 1898           214       24852                  4          1\n",
              " 1933           222       24852                  1          1\n",
              " 1952           223       24852                  2          1\n",
              " 1996           225       24852                  2          1\n",
              " 2336           255       24852                 15          1\n",
              " 2354           258       24852                  1          1\n",
              " ...            ...         ...                ...        ...\n",
              " 32431327   3420748       24852                  1          1\n",
              " 32431361   3420750       24852                  1          1\n",
              " 32431386   3420751       24852                  7          1\n",
              " 32431472   3420762       24852                  2          1\n",
              " 32431528   3420768       24852                  1          1\n",
              " 32431546   3420770       24852                  3          1\n",
              " 32431650   3420778       24852                  4          1\n",
              " 32431747   3420787       24852                 10          1\n",
              " 32431972   3420815       24852                 10          1\n",
              " 32432030   3420820       24852                  2          1\n",
              " 32432256   3420842       24852                  1          1\n",
              " 32432283   3420845       24852                  1          1\n",
              " 32432446   3420858       24852                  5          1\n",
              " 32432498   3420866       24852                  2          1\n",
              " 32432584   3420878       24852                  1          1\n",
              " 32432859   3420911       24852                  5          1\n",
              " 32432865   3420912       24852                  1          0\n",
              " 32433091   3420932       24852                 14          1\n",
              " 32433117   3420933       24852                 20          1\n",
              " 32433133   3420935       24852                  2          1\n",
              " 32433192   3420942       24852                  1          1\n",
              " 32433462   3420968       24852                  9          1\n",
              " 32433473   3420971       24852                  6          1\n",
              " 32433651   3420987       24852                  1          1\n",
              " 32433871   3421012       24852                  7          1\n",
              " 32433984   3421027       24852                  3          1\n",
              " 32434016   3421030       24852                  9          1\n",
              " 32434146   3421038       24852                  2          0\n",
              " 32434447   3421078       24852                  2          1\n",
              " 32434487   3421083       24852                  9          1\n",
              " \n",
              " [472565 rows x 4 columns],\n",
              " 'Large Lemon':           order_id  product_id  add_to_cart_order  reordered\n",
              " 273             28       47626                  6          1\n",
              " 430             53       47626                 13          0\n",
              " 646             77       47626                  9          1\n",
              " 755             88       47626                  3          1\n",
              " 896            101       47626                 12          0\n",
              " 1312           143       47626                  1          1\n",
              " 1497           164       47626                  3          1\n",
              " 1507           165       47626                  7          1\n",
              " 1828           206       47626                  1          0\n",
              " 1860           210       47626                  1          1\n",
              " 1934           222       47626                  2          1\n",
              " 2143           237       47626                  1          0\n",
              " 2180           241       47626                  1          0\n",
              " 2558           278       47626                  2          0\n",
              " 2575           279       47626                 13          1\n",
              " 2894           315       47626                 14          1\n",
              " 2929           317       47626                  4          0\n",
              " 3112           331       47626                 26          0\n",
              " 3197           338       47626                  9          1\n",
              " 3344           354       47626                  2          0\n",
              " 3755           397       47626                  2          1\n",
              " 4109           431       47626                 27          1\n",
              " 4120           432       47626                  2          1\n",
              " 4398           459       47626                  7          1\n",
              " 4447           461       47626                 27          0\n",
              " 4825           506       47626                  3          1\n",
              " 5250           555       47626                 10          1\n",
              " 5559           582       47626                 22          0\n",
              " 5954           620       47626                  1          1\n",
              " 6158           641       47626                  7          0\n",
              " ...            ...         ...                ...        ...\n",
              " 32428454   3420459       47626                  3          1\n",
              " 32428822   3420493       47626                  1          1\n",
              " 32429564   3420564       47626                  6          0\n",
              " 32429591   3420568       47626                  8          1\n",
              " 32429712   3420579       47626                  7          1\n",
              " 32429979   3420608       47626                  4          1\n",
              " 32429993   3420609       47626                  8          1\n",
              " 32430058   3420616       47626                  8          1\n",
              " 32430137   3420626       47626                  7          1\n",
              " 32430218   3420637       47626                  5          0\n",
              " 32430412   3420660       47626                  5          1\n",
              " 32430810   3420694       47626                 16          1\n",
              " 32430824   3420697       47626                  1          1\n",
              " 32431140   3420724       47626                 14          0\n",
              " 32431354   3420749       47626                 17          1\n",
              " 32431370   3420750       47626                 10          1\n",
              " 32431525   3420767       47626                  7          0\n",
              " 32431534   3420768       47626                  7          0\n",
              " 32431600   3420774       47626                  3          1\n",
              " 32431752   3420787       47626                 15          1\n",
              " 32431990   3420818       47626                 13          1\n",
              " 32432421   3420855       47626                 17          1\n",
              " 32432983   3420924       47626                  1          1\n",
              " 32433195   3420942       47626                  4          1\n",
              " 32433275   3420947       47626                 28          1\n",
              " 32433474   3420971       47626                  7          1\n",
              " 32433506   3420976       47626                  7          1\n",
              " 32433904   3421016       47626                  2          0\n",
              " 32434147   3421038       47626                  3          0\n",
              " 32434340   3421061       47626                  8          1\n",
              " \n",
              " [152657 rows x 4 columns],\n",
              " 'Limes':           order_id  product_id  add_to_cart_order  reordered\n",
              " 521             62       26209                  4          0\n",
              " 588             71       26209                  8          1\n",
              " 1485           163       26209                 10          1\n",
              " 2608           281       26209                  2          1\n",
              " 3198           338       26209                 10          1\n",
              " 3393           359       26209                 12          1\n",
              " 3477           367       26209                  4          1\n",
              " 3633           384       26209                  4          1\n",
              " 3668           388       26209                 14          1\n",
              " 3756           397       26209                  3          1\n",
              " 3930           413       26209                  7          0\n",
              " 4037           426       26209                  2          1\n",
              " 4194           439       26209                 12          0\n",
              " 4259           446       26209                  4          1\n",
              " 4304           451       26209                  6          1\n",
              " 4377           457       26209                  5          1\n",
              " 4422           461       26209                  2          1\n",
              " 4467           464       26209                  4          1\n",
              " 4656           488       26209                  4          1\n",
              " 4929           522       26209                  6          1\n",
              " 5186           549       26209                  8          1\n",
              " 5496           578       26209                  8          0\n",
              " 5702           595       26209                  9          1\n",
              " 5883           612       26209                 10          1\n",
              " 6157           641       26209                  6          1\n",
              " 6302           655       26209                  6          1\n",
              " 7278           750       26209                  4          1\n",
              " 7584           782       26209                 17          1\n",
              " 8586           891       26209                 13          0\n",
              " 8651           899       26209                  6          0\n",
              " ...            ...         ...                ...        ...\n",
              " 32429528   3420560       26209                 15          0\n",
              " 32429687   3420575       26209                 11          0\n",
              " 32429844   3420590       26209                  9          1\n",
              " 32430085   3420622       26209                  5          1\n",
              " 32430417   3420660       26209                 10          1\n",
              " 32430495   3420667       26209                 21          1\n",
              " 32430595   3420673       26209                 25          0\n",
              " 32430776   3420692       26209                  5          1\n",
              " 32431034   3420717       26209                  4          1\n",
              " 32431089   3420719       26209                 24          1\n",
              " 32431139   3420724       26209                 13          1\n",
              " 32431166   3420728       26209                  3          1\n",
              " 32431340   3420749       26209                  3          1\n",
              " 32431450   3420759       26209                 16          1\n",
              " 32431984   3420818       26209                  7          1\n",
              " 32432176   3420831       26209                 21          0\n",
              " 32432387   3420852       26209                 10          1\n",
              " 32432401   3420854       26209                  7          0\n",
              " 32432985   3420924       26209                  3          1\n",
              " 32433166   3420938       26209                  3          1\n",
              " 32433194   3420942       26209                  3          1\n",
              " 32433681   3420988       26209                  7          1\n",
              " 32433698   3420991       26209                  5          1\n",
              " 32433845   3421009       26209                  2          1\n",
              " 32433925   3421018       26209                  9          0\n",
              " 32433976   3421024       26209                  5          0\n",
              " 32434045   3421030       26209                 38          1\n",
              " 32434150   3421039       26209                  2          0\n",
              " 32434284   3421053       26209                  8          1\n",
              " 32434412   3421072       26209                  5          0\n",
              " \n",
              " [140627 rows x 4 columns],\n",
              " 'Organic Avocado':           order_id  product_id  add_to_cart_order  reordered\n",
              " 80              10       47766                  4          1\n",
              " 170             18       47766                 27          1\n",
              " 206             23       47766                  5          1\n",
              " 240             26       47766                  8          1\n",
              " 247             27       47766                  7          1\n",
              " 522             62       47766                  5          0\n",
              " 764             88       47766                 12          0\n",
              " 844             95       47766                 10          1\n",
              " 1265           136       47766                  1          0\n",
              " 1468           162       47766                  4          1\n",
              " 2584           280       47766                  7          1\n",
              " 2610           281       47766                  4          1\n",
              " 2764           297       47766                 12          0\n",
              " 2782           300       47766                  1          1\n",
              " 2889           315       47766                  9          1\n",
              " 3063           329       47766                 10          1\n",
              " 3144           335       47766                 10          0\n",
              " 3479           367       47766                  6          1\n",
              " 4228           442       47766                  4          1\n",
              " 4331           454       47766                  7          1\n",
              " 4452           462       47766                  3          1\n",
              " 4497           466       47766                  2          1\n",
              " 4676           490       47766                 11          1\n",
              " 4895           518       47766                  1          1\n",
              " 5034           533       47766                  1          1\n",
              " 5244           555       47766                  4          1\n",
              " 5451           575       47766                  2          1\n",
              " 5774           602       47766                  2          1\n",
              " 5957           620       47766                  4          1\n",
              " 6091           633       47766                 15          1\n",
              " ...            ...         ...                ...        ...\n",
              " 32429618   3420571       47766                  8          1\n",
              " 32429692   3420575       47766                 16          1\n",
              " 32430045   3420615       47766                 11          1\n",
              " 32430052   3420616       47766                  2          1\n",
              " 32430433   3420662       47766                  6          1\n",
              " 32430499   3420667       47766                 25          1\n",
              " 32430775   3420692       47766                  4          1\n",
              " 32430991   3420715       47766                 14          0\n",
              " 32431008   3420716       47766                  3          0\n",
              " 32431135   3420724       47766                  9          1\n",
              " 32431173   3420728       47766                 10          1\n",
              " 32431339   3420749       47766                  2          1\n",
              " 32431677   3420782       47766                  1          1\n",
              " 32432161   3420831       47766                  6          1\n",
              " 32432384   3420852       47766                  7          1\n",
              " 32432499   3420866       47766                  3          1\n",
              " 32432546   3420872       47766                 13          1\n",
              " 32432823   3420907       47766                  3          1\n",
              " 32432936   3420919       47766                  7          0\n",
              " 32433118   3420933       47766                 21          1\n",
              " 32433455   3420968       47766                  2          1\n",
              " 32433482   3420973       47766                  3          1\n",
              " 32433488   3420974       47766                  1          0\n",
              " 32433522   3420980       47766                  1          1\n",
              " 32433801   3421003       47766                  4          1\n",
              " 32433836   3421007       47766                  1          1\n",
              " 32433903   3421016       47766                  1          1\n",
              " 32433975   3421024       47766                  4          0\n",
              " 32434007   3421029       47766                 11          1\n",
              " 32434217   3421047       47766                  3          1\n",
              " \n",
              " [176815 rows x 4 columns],\n",
              " 'Organic Baby Spinach':           order_id  product_id  add_to_cart_order  reordered\n",
              " 12               3       21903                  4          1\n",
              " 238             26       21903                  6          0\n",
              " 294             31       21903                  3          1\n",
              " 331             39       21903                  4          0\n",
              " 469             56       21903                  8          1\n",
              " 472             57       21903                  1          0\n",
              " 605             73       21903                  4          1\n",
              " 793             92       21903                  2          1\n",
              " 1016           113       21903                  4          0\n",
              " 1259           135       21903                  5          1\n",
              " 1278           139       21903                  4          1\n",
              " 1386           148       21903                  8          1\n",
              " 1529           169       21903                  1          0\n",
              " 1588           177       21903                  1          1\n",
              " 1693           190       21903                  1          0\n",
              " 1891           213       21903                  9          1\n",
              " 1919           219       21903                  3          1\n",
              " 1936           222       21903                  4          1\n",
              " 2164           239       21903                 17          1\n",
              " 2228           248       21903                  4          1\n",
              " 2255           251       21903                  2          1\n",
              " 2548           277       21903                  1          1\n",
              " 2574           279       21903                 12          1\n",
              " 2614           281       21903                  8          1\n",
              " 2783           300       21903                  2          1\n",
              " 3170           337       21903                  4          1\n",
              " 3289           347       21903                  5          1\n",
              " 3396           359       21903                 15          1\n",
              " 3460           364       21903                  4          1\n",
              " 3513           371       21903                  6          1\n",
              " ...            ...         ...                ...        ...\n",
              " 32429797   3420584       21903                 20          1\n",
              " 32429805   3420585       21903                  8          0\n",
              " 32429849   3420592       21903                  2          1\n",
              " 32429887   3420594       21903                 10          0\n",
              " 32430067   3420619       21903                  2          1\n",
              " 32430313   3420650       21903                  4          1\n",
              " 32430338   3420653       21903                  6          0\n",
              " 32430823   3420696       21903                  8          1\n",
              " 32431124   3420723       21903                 15          0\n",
              " 32431387   3420751       21903                  8          1\n",
              " 32431535   3420768       21903                  8          0\n",
              " 32431819   3420797       21903                 10          1\n",
              " 32431932   3420813       21903                 12          1\n",
              " 32431940   3420814       21903                  2          1\n",
              " 32432143   3420830       21903                  9          0\n",
              " 32432203   3420834       21903                  8          0\n",
              " 32432268   3420842       21903                 13          1\n",
              " 32432419   3420855       21903                 15          1\n",
              " 32432444   3420858       21903                  3          1\n",
              " 32432447   3420859       21903                  1          0\n",
              " 32432485   3420864       21903                  3          1\n",
              " 32432586   3420878       21903                  3          0\n",
              " 32432786   3420904       21903                  4          1\n",
              " 32432838   3420908       21903                  3          1\n",
              " 32433277   3420947       21903                 30          1\n",
              " 32433312   3420952       21903                  4          1\n",
              " 32433418   3420962       21903                  5          1\n",
              " 32433594   3420983       21903                  3          1\n",
              " 32433677   3420988       21903                  3          0\n",
              " 32433732   3420997       21903                  6          1\n",
              " \n",
              " [241921 rows x 4 columns],\n",
              " 'Organic Hass Avocado':           order_id  product_id  add_to_cart_order  reordered\n",
              " 51               5       47209                 22          0\n",
              " 279             28       47209                 12          1\n",
              " 420             53       47209                  3          1\n",
              " 468             56       47209                  7          1\n",
              " 477             57       47209                  6          0\n",
              " 583             71       47209                  3          1\n",
              " 682             81       47209                  4          1\n",
              " 1151           126       47209                  5          0\n",
              " 1391           148       47209                 13          1\n",
              " 1446           158       47209                  8          1\n",
              " 1627           180       47209                 15          1\n",
              " 2034           228       47209                 23          1\n",
              " 2155           239       47209                  8          1\n",
              " 2202           244       47209                  9          1\n",
              " 2714           292       47209                  5          1\n",
              " 2998           323       47209                  1          1\n",
              " 3280           346       47209                  2          1\n",
              " 3292           347       47209                  8          1\n",
              " 3311           350       47209                  9          1\n",
              " 3334           352       47209                  2          1\n",
              " 3466           366       47209                  2          1\n",
              " 3605           381       47209                 15          0\n",
              " 3823           403       47209                 13          1\n",
              " 3848           405       47209                  9          1\n",
              " 3977           420       47209                  6          1\n",
              " 4029           425       47209                 10          1\n",
              " 4036           426       47209                  1          1\n",
              " 4082           430       47209                  5          1\n",
              " 4421           461       47209                  1          1\n",
              " 4644           487       47209                  3          1\n",
              " ...            ...         ...                ...        ...\n",
              " 32431401   3420753       47209                  3          0\n",
              " 32431436   3420759       47209                  2          1\n",
              " 32431471   3420762       47209                  1          0\n",
              " 32431504   3420765       47209                 17          1\n",
              " 32431533   3420768       47209                  6          0\n",
              " 32431560   3420771       47209                 10          1\n",
              " 32431815   3420797       47209                  6          1\n",
              " 32431890   3420808       47209                  2          1\n",
              " 32432403   3420854       47209                  9          0\n",
              " 32432423   3420855       47209                 19          1\n",
              " 32432465   3420861       47209                 10          1\n",
              " 32432521   3420867       47209                  9          1\n",
              " 32432640   3420886       47209                  8          1\n",
              " 32432703   3420893       47209                 16          0\n",
              " 32432765   3420901       47209                  5          1\n",
              " 32432785   3420904       47209                  3          1\n",
              " 32432989   3420924       47209                  7          1\n",
              " 32433001   3420925       47209                  4          0\n",
              " 32433128   3420934       47209                  3          1\n",
              " 32433264   3420947       47209                 17          1\n",
              " 32433377   3420959       47209                  5          1\n",
              " 32433419   3420963       47209                  1          1\n",
              " 32433427   3420964       47209                  6          1\n",
              " 32433612   3420984       47209                  1          1\n",
              " 32433705   3420991       47209                 12          1\n",
              " 32433841   3421008       47209                  2          1\n",
              " 32434120   3421036       47209                 12          1\n",
              " 32434257   3421051       47209                 14          1\n",
              " 32434303   3421055       47209                 18          0\n",
              " 32434318   3421060       47209                  3          1\n",
              " \n",
              " [213584 rows x 4 columns],\n",
              " 'Organic Strawberries':           order_id  product_id  add_to_cart_order  reordered\n",
              " 83              10       21137                  7          1\n",
              " 474             57       21137                  3          0\n",
              " 686             81       21137                  8          1\n",
              " 760             88       21137                  8          1\n",
              " 811             92       21137                 20          0\n",
              " 842             95       21137                  8          1\n",
              " 1452           160       21137                  2          1\n",
              " 1774           196       21137                  6          0\n",
              " 1780           197       21137                  2          1\n",
              " 1880           212       21137                  2          1\n",
              " 1909           216       21137                  4          1\n",
              " 2098           232       21137                 14          0\n",
              " 2299           254       21137                 10          1\n",
              " 2430           265       21137                 11          1\n",
              " 2469           267       21137                  5          1\n",
              " 2586           280       21137                  9          1\n",
              " 2710           292       21137                  1          1\n",
              " 2883           315       21137                  3          1\n",
              " 2973           321       21137                  7          1\n",
              " 3044           328       21137                  2          1\n",
              " 3442           361       21137                 24          0\n",
              " 3467           366       21137                  3          1\n",
              " 3577           380       21137                  1          0\n",
              " 3616           382       21137                  4          1\n",
              " 4093           431       21137                 11          1\n",
              " 4200           440       21137                  4          1\n",
              " 4453           462       21137                  4          1\n",
              " 4707           493       21137                  4          1\n",
              " 4796           503       21137                  7          1\n",
              " 4864           512       21137                  3          1\n",
              " ...            ...         ...                ...        ...\n",
              " 32431276   3420742       21137                  1          1\n",
              " 32431424   3420756       21137                  5          1\n",
              " 32431536   3420768       21137                  9          1\n",
              " 32431596   3420773       21137                 15          0\n",
              " 32431648   3420778       21137                  2          1\n",
              " 32431727   3420785       21137                  5          1\n",
              " 32431746   3420787       21137                  9          1\n",
              " 32431798   3420794       21137                 14          1\n",
              " 32431810   3420797       21137                  1          1\n",
              " 32431947   3420814       21137                  9          1\n",
              " 32432157   3420831       21137                  2          1\n",
              " 32432201   3420834       21137                  6          0\n",
              " 32432274   3420844       21137                  5          0\n",
              " 32432459   3420861       21137                  4          1\n",
              " 32432523   3420868       21137                  1          1\n",
              " 32432587   3420878       21137                  4          0\n",
              " 32432618   3420884       21137                  5          1\n",
              " 32432939   3420919       21137                 10          0\n",
              " 32433340   3420953       21137                 17          1\n",
              " 32433447   3420966       21137                  9          1\n",
              " 32433456   3420968       21137                  3          1\n",
              " 32433472   3420971       21137                  5          1\n",
              " 32433554   3420980       21137                 33          1\n",
              " 32433559   3420981       21137                  5          1\n",
              " 32433569   3420982       21137                  3          1\n",
              " 32433731   3420997       21137                  5          1\n",
              " 32433777   3421002       21137                  1          1\n",
              " 32433814   3421004       21137                  7          1\n",
              " 32434250   3421051       21137                  7          1\n",
              " 32434398   3421069       21137                  8          1\n",
              " \n",
              " [264683 rows x 4 columns],\n",
              " 'Organic Whole Milk':           order_id  product_id  add_to_cart_order  reordered\n",
              " 126             14       27845                  2          1\n",
              " 567             69       27845                  2          1\n",
              " 673             80       27845                  2          1\n",
              " 1192           129       27845                 18          1\n",
              " 2070           231       27845                 10          1\n",
              " 2421           265       27845                  2          1\n",
              " 2759           297       27845                  7          0\n",
              " 2975           321       27845                  9          1\n",
              " 3048           328       27845                  6          1\n",
              " 3229           340       27845                  8          1\n",
              " 3257           343       27845                  5          1\n",
              " 3474           367       27845                  1          1\n",
              " 3503           370       27845                  4          1\n",
              " 4135           433       27845                  2          1\n",
              " 4229           442       27845                  5          1\n",
              " 4556           472       27845                  5          1\n",
              " 5777           602       27845                  5          1\n",
              " 6044           628       27845                  1          1\n",
              " 6075           632       27845                  7          1\n",
              " 6254           651       27845                  7          1\n",
              " 6356           659       27845                  3          1\n",
              " 6585           685       27845                  6          1\n",
              " 7436           771       27845                 12          1\n",
              " 8218           854       27845                 19          1\n",
              " 8463           880       27845                  2          1\n",
              " 8639           897       27845                  9          1\n",
              " 8711           906       27845                  1          1\n",
              " 9482           976       27845                  7          1\n",
              " 9538           978       27845                  3          0\n",
              " 9773          1005       27845                  3          1\n",
              " ...            ...         ...                ...        ...\n",
              " 32428796   3420491       27845                  4          1\n",
              " 32428831   3420495       27845                  3          1\n",
              " 32428879   3420499       27845                 20          1\n",
              " 32428968   3420510       27845                  1          1\n",
              " 32429109   3420522       27845                  2          1\n",
              " 32429580   3420567       27845                  1          0\n",
              " 32429622   3420571       27845                 12          0\n",
              " 32429735   3420582       27845                  4          1\n",
              " 32430078   3420619       27845                 13          1\n",
              " 32430403   3420659       27845                 13          0\n",
              " 32430509   3420669       27845                  1          0\n",
              " 32430837   3420698       27845                  1          1\n",
              " 32430919   3420708       27845                 10          1\n",
              " 32431042   3420717       27845                 12          0\n",
              " 32431381   3420751       27845                  2          1\n",
              " 32431427   3420756       27845                  8          1\n",
              " 32431552   3420771       27845                  2          1\n",
              " 32431779   3420793       27845                  1          1\n",
              " 32432221   3420836       27845                  1          1\n",
              " 32432542   3420872       27845                  9          1\n",
              " 32432783   3420904       27845                  1          1\n",
              " 32432862   3420911       27845                  8          1\n",
              " 32433047   3420928       27845                 17          0\n",
              " 32433215   3420943       27845                 14          1\n",
              " 32433652   3420987       27845                  2          1\n",
              " 32433872   3421012       27845                  8          1\n",
              " 32434207   3421046       27845                  1          0\n",
              " 32434298   3421055       27845                 13          1\n",
              " 32434445   3421077       27845                  4          0\n",
              " 32434456   3421080       27845                  1          1\n",
              " \n",
              " [137905 rows x 4 columns],\n",
              " 'Strawberries':           order_id  product_id  add_to_cart_order  reordered\n",
              " 380             47       16797                  1          1\n",
              " 663             78       16797                  5          0\n",
              " 696             82       16797                  7          0\n",
              " 721             85       16797                  1          1\n",
              " 738             87       16797                  1          1\n",
              " 1008           111       16797                  1          1\n",
              " 1153           127       16797                  1          1\n",
              " 1363           146       16797                 10          1\n",
              " 1650           184       16797                  6          1\n",
              " 1679           187       16797                  8          1\n",
              " 1695           190       16797                  3          0\n",
              " 1755           195       16797                 12          1\n",
              " 1878           211       16797                  2          0\n",
              " 2186           242       16797                  2          1\n",
              " 2359           258       16797                  6          1\n",
              " 2779           299       16797                  5          0\n",
              " 2965           320       16797                  5          0\n",
              " 3011           324       16797                  2          1\n",
              " 3140           335       16797                  6          1\n",
              " 3209           338       16797                 21          1\n",
              " 3490           367       16797                 17          0\n",
              " 3649           387       16797                  6          1\n",
              " 3834           404       16797                  1          1\n",
              " 4026           425       16797                  7          1\n",
              " 4050           426       16797                 15          1\n",
              " 4401           459       16797                 10          1\n",
              " 4626           484       16797                  3          1\n",
              " 4671           490       16797                  6          1\n",
              " 4747           498       16797                  2          1\n",
              " 5099           541       16797                  2          0\n",
              " ...            ...         ...                ...        ...\n",
              " 32428699   3420480       16797                  6          1\n",
              " 32428786   3420489       16797                  2          0\n",
              " 32429030   3420515       16797                  5          0\n",
              " 32429070   3420517       16797                 24          0\n",
              " 32429082   3420519       16797                  1          1\n",
              " 32429186   3420530       16797                 16          1\n",
              " 32429501   3420558       16797                  5          1\n",
              " 32429565   3420565       16797                  1          1\n",
              " 32429804   3420585       16797                  7          0\n",
              " 32429923   3420600       16797                  1          1\n",
              " 32430043   3420615       16797                  9          1\n",
              " 32430420   3420661       16797                  2          1\n",
              " 32430909   3420707       16797                  5          0\n",
              " 32431070   3420719       16797                  5          1\n",
              " 32431358   3420749       16797                 21          1\n",
              " 32431391   3420751       16797                 12          0\n",
              " 32431416   3420755       16797                  4          1\n",
              " 32431672   3420781       16797                  5          1\n",
              " 32431715   3420784       16797                 11          1\n",
              " 32432555   3420872       16797                 22          1\n",
              " 32432713   3420897       16797                  5          1\n",
              " 32432723   3420898       16797                  5          1\n",
              " 32432837   3420908       16797                  2          1\n",
              " 32432915   3420918       16797                  1          0\n",
              " 32433119   3420933       16797                 22          1\n",
              " 32433722   3420995       16797                  2          1\n",
              " 32433847   3421009       16797                  4          1\n",
              " 32434243   3421050       16797                 13          1\n",
              " 32434377   3421068       16797                  1          0\n",
              " 32434474   3421082       16797                  3          0\n",
              " \n",
              " [142951 rows x 4 columns]}"
            ]
          },
          "metadata": {
            "tags": []
          },
          "execution_count": 18
        }
      ]
    },
    {
      "cell_type": "code",
      "metadata": {
        "id": "52sJxl_owpfq",
        "colab_type": "code",
        "outputId": "5a30b497-9cf1-4c4d-f776-76b04e6c66ff",
        "colab": {
          "base_uri": "https://localhost:8080/",
          "height": 224
        }
      },
      "source": [
        "#test code that generate a dataframe of one of the products\n",
        "Banana = int(products[products.product_name == 'Banana']['product_id']) #setting product number to Banana\n",
        "df_Banana = order_products__prior[order_products__prior.product_id == Banana].copy() #creating subset df of banana\n",
        "print(df_Banana.shape)\n",
        "df_Banana.head()\n"
      ],
      "execution_count": 0,
      "outputs": [
        {
          "output_type": "stream",
          "text": [
            "(472565, 4)\n"
          ],
          "name": "stdout"
        },
        {
          "output_type": "execute_result",
          "data": {
            "text/html": [
              "<div>\n",
              "<style scoped>\n",
              "    .dataframe tbody tr th:only-of-type {\n",
              "        vertical-align: middle;\n",
              "    }\n",
              "\n",
              "    .dataframe tbody tr th {\n",
              "        vertical-align: top;\n",
              "    }\n",
              "\n",
              "    .dataframe thead th {\n",
              "        text-align: right;\n",
              "    }\n",
              "</style>\n",
              "<table border=\"1\" class=\"dataframe\">\n",
              "  <thead>\n",
              "    <tr style=\"text-align: right;\">\n",
              "      <th></th>\n",
              "      <th>order_id</th>\n",
              "      <th>product_id</th>\n",
              "      <th>add_to_cart_order</th>\n",
              "      <th>reordered</th>\n",
              "    </tr>\n",
              "  </thead>\n",
              "  <tbody>\n",
              "    <tr>\n",
              "      <th>77</th>\n",
              "      <td>10</td>\n",
              "      <td>24852</td>\n",
              "      <td>1</td>\n",
              "      <td>1</td>\n",
              "    </tr>\n",
              "    <tr>\n",
              "      <th>180</th>\n",
              "      <td>20</td>\n",
              "      <td>24852</td>\n",
              "      <td>6</td>\n",
              "      <td>0</td>\n",
              "    </tr>\n",
              "    <tr>\n",
              "      <th>190</th>\n",
              "      <td>22</td>\n",
              "      <td>24852</td>\n",
              "      <td>3</td>\n",
              "      <td>1</td>\n",
              "    </tr>\n",
              "    <tr>\n",
              "      <th>234</th>\n",
              "      <td>26</td>\n",
              "      <td>24852</td>\n",
              "      <td>2</td>\n",
              "      <td>1</td>\n",
              "    </tr>\n",
              "    <tr>\n",
              "      <th>414</th>\n",
              "      <td>52</td>\n",
              "      <td>24852</td>\n",
              "      <td>2</td>\n",
              "      <td>1</td>\n",
              "    </tr>\n",
              "  </tbody>\n",
              "</table>\n",
              "</div>"
            ],
            "text/plain": [
              "     order_id  product_id  add_to_cart_order  reordered\n",
              "77         10       24852                  1          1\n",
              "180        20       24852                  6          0\n",
              "190        22       24852                  3          1\n",
              "234        26       24852                  2          1\n",
              "414        52       24852                  2          1"
            ]
          },
          "metadata": {
            "tags": []
          },
          "execution_count": 10
        }
      ]
    },
    {
      "cell_type": "code",
      "metadata": {
        "id": "Q9XB0K2UynK_",
        "colab_type": "code",
        "outputId": "71396f39-67c0-4e23-e747-21e6eba6e8c3",
        "colab": {
          "base_uri": "https://localhost:8080/",
          "height": 35
        }
      },
      "source": [
        "#creating dict keys from list\n",
        "list_items = ['item_1', 'item_2', 'item_3']\n",
        "#dict_items = {}\n",
        "#dict_items.update(list_items[0] = 1)\n",
        "\n",
        "dict_items  = dict.fromkeys([x for x in list_items], 0)\n",
        "dict_items"
      ],
      "execution_count": 0,
      "outputs": [
        {
          "output_type": "execute_result",
          "data": {
            "text/plain": [
              "{'item_1': 0, 'item_2': 0, 'item_3': 0}"
            ]
          },
          "metadata": {
            "tags": []
          },
          "execution_count": 55
        }
      ]
    },
    {
      "cell_type": "code",
      "metadata": {
        "id": "ObMgRHeALaNz",
        "colab_type": "code",
        "colab": {}
      },
      "source": [
        "#saving dataframe in dict item\n",
        "dict_items['item_1'] = order_products__prior[order_products__prior.product_id == Banana].copy()"
      ],
      "execution_count": 0,
      "outputs": []
    },
    {
      "cell_type": "code",
      "metadata": {
        "id": "iYFLZVUJyIta",
        "colab_type": "code",
        "colab": {}
      },
      "source": [
        "def df_subset_function(dataframe, columns, items):\n",
        "  dict_items = {}\n",
        "  dict_items[]\n",
        "  "
      ],
      "execution_count": 0,
      "outputs": []
    },
    {
      "cell_type": "code",
      "metadata": {
        "id": "njFFFGw0P2pd",
        "colab_type": "code",
        "outputId": "3bf954bf-1d56-4cb6-aa40-370bf0f29cce",
        "colab": {
          "base_uri": "https://localhost:8080/",
          "height": 108
        }
      },
      "source": [
        "df_Banana.isna().sum()"
      ],
      "execution_count": 0,
      "outputs": [
        {
          "output_type": "execute_result",
          "data": {
            "text/plain": [
              "order_id             0\n",
              "product_id           0\n",
              "add_to_cart_order    0\n",
              "reordered            0\n",
              "dtype: int64"
            ]
          },
          "metadata": {
            "tags": []
          },
          "execution_count": 11
        }
      ]
    },
    {
      "cell_type": "code",
      "metadata": {
        "id": "MPFC5fgVc4lw",
        "colab_type": "code",
        "colab": {}
      },
      "source": [
        "#df_func = lambda :dataframe[dataframe.column == list_of_items_to_copy[i]].copy()"
      ],
      "execution_count": 0,
      "outputs": []
    },
    {
      "cell_type": "code",
      "metadata": {
        "id": "sxuG6FmoPKEB",
        "colab_type": "code",
        "outputId": "f37b591c-e396-43ca-b97e-63d528942ded",
        "colab": {
          "base_uri": "https://localhost:8080/",
          "height": 242
        }
      },
      "source": [
        "#creating subset df for Limes\n",
        "Limes = int(products[products.product_name == 'Limes']['product_id'])\n",
        "print(Limes)\n",
        "df_Limes = order_products__prior[order_products__prior.product_id == Limes].copy()\n",
        "print(df_Limes.shape)\n",
        "df_Limes.head()"
      ],
      "execution_count": 0,
      "outputs": [
        {
          "output_type": "stream",
          "text": [
            "26209\n",
            "(140627, 4)\n"
          ],
          "name": "stdout"
        },
        {
          "output_type": "execute_result",
          "data": {
            "text/html": [
              "<div>\n",
              "<style scoped>\n",
              "    .dataframe tbody tr th:only-of-type {\n",
              "        vertical-align: middle;\n",
              "    }\n",
              "\n",
              "    .dataframe tbody tr th {\n",
              "        vertical-align: top;\n",
              "    }\n",
              "\n",
              "    .dataframe thead th {\n",
              "        text-align: right;\n",
              "    }\n",
              "</style>\n",
              "<table border=\"1\" class=\"dataframe\">\n",
              "  <thead>\n",
              "    <tr style=\"text-align: right;\">\n",
              "      <th></th>\n",
              "      <th>order_id</th>\n",
              "      <th>product_id</th>\n",
              "      <th>add_to_cart_order</th>\n",
              "      <th>reordered</th>\n",
              "    </tr>\n",
              "  </thead>\n",
              "  <tbody>\n",
              "    <tr>\n",
              "      <th>521</th>\n",
              "      <td>62</td>\n",
              "      <td>26209</td>\n",
              "      <td>4</td>\n",
              "      <td>0</td>\n",
              "    </tr>\n",
              "    <tr>\n",
              "      <th>588</th>\n",
              "      <td>71</td>\n",
              "      <td>26209</td>\n",
              "      <td>8</td>\n",
              "      <td>1</td>\n",
              "    </tr>\n",
              "    <tr>\n",
              "      <th>1485</th>\n",
              "      <td>163</td>\n",
              "      <td>26209</td>\n",
              "      <td>10</td>\n",
              "      <td>1</td>\n",
              "    </tr>\n",
              "    <tr>\n",
              "      <th>2608</th>\n",
              "      <td>281</td>\n",
              "      <td>26209</td>\n",
              "      <td>2</td>\n",
              "      <td>1</td>\n",
              "    </tr>\n",
              "    <tr>\n",
              "      <th>3198</th>\n",
              "      <td>338</td>\n",
              "      <td>26209</td>\n",
              "      <td>10</td>\n",
              "      <td>1</td>\n",
              "    </tr>\n",
              "  </tbody>\n",
              "</table>\n",
              "</div>"
            ],
            "text/plain": [
              "      order_id  product_id  add_to_cart_order  reordered\n",
              "521         62       26209                  4          0\n",
              "588         71       26209                  8          1\n",
              "1485       163       26209                 10          1\n",
              "2608       281       26209                  2          1\n",
              "3198       338       26209                 10          1"
            ]
          },
          "metadata": {
            "tags": []
          },
          "execution_count": 12
        }
      ]
    },
    {
      "cell_type": "code",
      "metadata": {
        "id": "PNW7qdqhP-kf",
        "colab_type": "code",
        "outputId": "444fa718-2d8f-43f4-d5d4-95a46d4cc6fe",
        "colab": {
          "base_uri": "https://localhost:8080/",
          "height": 108
        }
      },
      "source": [
        "df_Limes.isna().sum()"
      ],
      "execution_count": 0,
      "outputs": [
        {
          "output_type": "execute_result",
          "data": {
            "text/plain": [
              "order_id             0\n",
              "product_id           0\n",
              "add_to_cart_order    0\n",
              "reordered            0\n",
              "dtype: int64"
            ]
          },
          "metadata": {
            "tags": []
          },
          "execution_count": 13
        }
      ]
    },
    {
      "cell_type": "code",
      "metadata": {
        "id": "5iLuIE41eGNp",
        "colab_type": "code",
        "colab": {}
      },
      "source": [
        "#creating merged dataframe\n",
        "df_top_10 = "
      ],
      "execution_count": 0,
      "outputs": []
    },
    {
      "cell_type": "code",
      "metadata": {
        "id": "4wdgkFupRX9v",
        "colab_type": "code",
        "outputId": "2c6baf54-c38c-4ee8-b0d3-391b820a6db7",
        "colab": {
          "base_uri": "https://localhost:8080/",
          "height": 224
        }
      },
      "source": [
        "df_Limes_Banana = pd.concat([df_Limes , df_Banana]) #merging limes subset snd banana subset\n",
        "print(df_Limes_Banana.shape)\n",
        "df_Limes_Banana.head()"
      ],
      "execution_count": 0,
      "outputs": [
        {
          "output_type": "stream",
          "text": [
            "(613192, 4)\n"
          ],
          "name": "stdout"
        },
        {
          "output_type": "execute_result",
          "data": {
            "text/html": [
              "<div>\n",
              "<style scoped>\n",
              "    .dataframe tbody tr th:only-of-type {\n",
              "        vertical-align: middle;\n",
              "    }\n",
              "\n",
              "    .dataframe tbody tr th {\n",
              "        vertical-align: top;\n",
              "    }\n",
              "\n",
              "    .dataframe thead th {\n",
              "        text-align: right;\n",
              "    }\n",
              "</style>\n",
              "<table border=\"1\" class=\"dataframe\">\n",
              "  <thead>\n",
              "    <tr style=\"text-align: right;\">\n",
              "      <th></th>\n",
              "      <th>order_id</th>\n",
              "      <th>product_id</th>\n",
              "      <th>add_to_cart_order</th>\n",
              "      <th>reordered</th>\n",
              "    </tr>\n",
              "  </thead>\n",
              "  <tbody>\n",
              "    <tr>\n",
              "      <th>521</th>\n",
              "      <td>62</td>\n",
              "      <td>26209</td>\n",
              "      <td>4</td>\n",
              "      <td>0</td>\n",
              "    </tr>\n",
              "    <tr>\n",
              "      <th>588</th>\n",
              "      <td>71</td>\n",
              "      <td>26209</td>\n",
              "      <td>8</td>\n",
              "      <td>1</td>\n",
              "    </tr>\n",
              "    <tr>\n",
              "      <th>1485</th>\n",
              "      <td>163</td>\n",
              "      <td>26209</td>\n",
              "      <td>10</td>\n",
              "      <td>1</td>\n",
              "    </tr>\n",
              "    <tr>\n",
              "      <th>2608</th>\n",
              "      <td>281</td>\n",
              "      <td>26209</td>\n",
              "      <td>2</td>\n",
              "      <td>1</td>\n",
              "    </tr>\n",
              "    <tr>\n",
              "      <th>3198</th>\n",
              "      <td>338</td>\n",
              "      <td>26209</td>\n",
              "      <td>10</td>\n",
              "      <td>1</td>\n",
              "    </tr>\n",
              "  </tbody>\n",
              "</table>\n",
              "</div>"
            ],
            "text/plain": [
              "      order_id  product_id  add_to_cart_order  reordered\n",
              "521         62       26209                  4          0\n",
              "588         71       26209                  8          1\n",
              "1485       163       26209                 10          1\n",
              "2608       281       26209                  2          1\n",
              "3198       338       26209                 10          1"
            ]
          },
          "metadata": {
            "tags": []
          },
          "execution_count": 14
        }
      ]
    },
    {
      "cell_type": "code",
      "metadata": {
        "id": "xO3xjnX5Ru9o",
        "colab_type": "code",
        "outputId": "e88f4305-ed0b-4467-d5fe-693593722b43",
        "colab": {
          "base_uri": "https://localhost:8080/",
          "height": 35
        }
      },
      "source": [
        "len(df_Banana) + len(df_Limes) == len(df_Limes_Banana)"
      ],
      "execution_count": 0,
      "outputs": [
        {
          "output_type": "execute_result",
          "data": {
            "text/plain": [
              "True"
            ]
          },
          "metadata": {
            "tags": []
          },
          "execution_count": 15
        }
      ]
    },
    {
      "cell_type": "code",
      "metadata": {
        "id": "7VhIqK0prG_e",
        "colab_type": "code",
        "colab": {}
      },
      "source": [
        "[]"
      ],
      "execution_count": 0,
      "outputs": []
    },
    {
      "cell_type": "code",
      "metadata": {
        "id": "1jp43LpfS42V",
        "colab_type": "code",
        "colab": {}
      },
      "source": [
        "#beta1\n",
        "# def df_concat_row(dataframe, column, list_of_items_to_copy):\n",
        "#   i=0\n",
        "#   df = lambda i: dataframe[dataframe.column == list_of_items_to_copy[i]].copy()\n",
        "#   ['df_'+str(list_of_items_to_copy[i]) = df(i) for i in list_of_items_to_copy]\n",
        "#   return new_dataframe\n",
        "\n",
        "# #df_Banana = order_products__prior[order_products__prior.product_id == Banana].copy()\n",
        "\n",
        "#beta2\n",
        "def df_concat_row(dataframe, column, list_of_items_to_copy):\n",
        "  dict_dataframes = {}\n",
        "  []\n",
        "  df = lambda i: dataframe[dataframe.column == list_of_items_to_copy[i]].copy()\n",
        "  ['df_'+str(list_of_items_to_copy[i]) = df(i) for i in list_of_items_to_copy]\n",
        "  return new_dataframe\n",
        "\n",
        "\n"
      ],
      "execution_count": 0,
      "outputs": []
    },
    {
      "cell_type": "code",
      "metadata": {
        "id": "I6SeaHpRZ3S-",
        "colab_type": "code",
        "colab": {}
      },
      "source": [
        "#'df' + str(1)\n",
        "#['df'+str(i+1) for i in range(0,5)]\n",
        "df_func = lambda dataframe, column, item : dataframe[dataframe[column] == item].copy()\n",
        "\n",
        "# df100 = df_func(order_products__prior, 'product_id', 26209)\n",
        "# df100.head()\n",
        "item_list = (26209, 24852)\n",
        "\n",
        "[df_func(order_products__prior, 'product_id', x) for x in item_list]\n",
        "# for x in item_list:\n",
        "#   df_func(order_products__prior, 'product_id', x)"
      ],
      "execution_count": 0,
      "outputs": []
    },
    {
      "cell_type": "code",
      "metadata": {
        "id": "F8caCgdDtpav",
        "colab_type": "code",
        "colab": {}
      },
      "source": [
        "https://stackoverflow.com/questions/21949076/making-multiple-pandas-data-frames-using-a-loop-or-list-comprehension"
      ],
      "execution_count": 0,
      "outputs": []
    },
    {
      "cell_type": "code",
      "metadata": {
        "id": "zj7Pnjs23wLQ",
        "colab_type": "code",
        "colab": {}
      },
      "source": [
        "from google.colab import drive\n",
        "drive.mount('/content/drive')"
      ],
      "execution_count": 0,
      "outputs": []
    },
    {
      "cell_type": "code",
      "metadata": {
        "id": "zN66LaRGtpUH",
        "colab_type": "code",
        "outputId": "9f7d18b4-b71f-4032-f5fd-63a9e6693b0c",
        "colab": {
          "base_uri": "https://localhost:8080/",
          "height": 342
        }
      },
      "source": [
        "order_products__prior.groupby(by=26209)"
      ],
      "execution_count": 0,
      "outputs": [
        {
          "output_type": "error",
          "ename": "KeyError",
          "evalue": "ignored",
          "traceback": [
            "\u001b[0;31m---------------------------------------------------------------------------\u001b[0m",
            "\u001b[0;31mKeyError\u001b[0m                                  Traceback (most recent call last)",
            "\u001b[0;32m<ipython-input-29-210e1972aaf6>\u001b[0m in \u001b[0;36m<module>\u001b[0;34m()\u001b[0m\n\u001b[0;32m----> 1\u001b[0;31m \u001b[0morder_products__prior\u001b[0m\u001b[0;34m.\u001b[0m\u001b[0mgroupby\u001b[0m\u001b[0;34m(\u001b[0m\u001b[0mby\u001b[0m\u001b[0;34m=\u001b[0m\u001b[0;36m26209\u001b[0m\u001b[0;34m)\u001b[0m\u001b[0;34m\u001b[0m\u001b[0;34m\u001b[0m\u001b[0m\n\u001b[0m",
            "\u001b[0;32m/usr/local/lib/python3.6/dist-packages/pandas/core/generic.py\u001b[0m in \u001b[0;36mgroupby\u001b[0;34m(self, by, axis, level, as_index, sort, group_keys, squeeze, observed, **kwargs)\u001b[0m\n\u001b[1;32m   7630\u001b[0m         return groupby(self, by=by, axis=axis, level=level, as_index=as_index,\n\u001b[1;32m   7631\u001b[0m                        \u001b[0msort\u001b[0m\u001b[0;34m=\u001b[0m\u001b[0msort\u001b[0m\u001b[0;34m,\u001b[0m \u001b[0mgroup_keys\u001b[0m\u001b[0;34m=\u001b[0m\u001b[0mgroup_keys\u001b[0m\u001b[0;34m,\u001b[0m \u001b[0msqueeze\u001b[0m\u001b[0;34m=\u001b[0m\u001b[0msqueeze\u001b[0m\u001b[0;34m,\u001b[0m\u001b[0;34m\u001b[0m\u001b[0;34m\u001b[0m\u001b[0m\n\u001b[0;32m-> 7632\u001b[0;31m                        observed=observed, **kwargs)\n\u001b[0m\u001b[1;32m   7633\u001b[0m \u001b[0;34m\u001b[0m\u001b[0m\n\u001b[1;32m   7634\u001b[0m     def asfreq(self, freq, method=None, how=None, normalize=False,\n",
            "\u001b[0;32m/usr/local/lib/python3.6/dist-packages/pandas/core/groupby/groupby.py\u001b[0m in \u001b[0;36mgroupby\u001b[0;34m(obj, by, **kwds)\u001b[0m\n\u001b[1;32m   2108\u001b[0m         \u001b[0;32mraise\u001b[0m \u001b[0mTypeError\u001b[0m\u001b[0;34m(\u001b[0m\u001b[0;34m'invalid type: {}'\u001b[0m\u001b[0;34m.\u001b[0m\u001b[0mformat\u001b[0m\u001b[0;34m(\u001b[0m\u001b[0mobj\u001b[0m\u001b[0;34m)\u001b[0m\u001b[0;34m)\u001b[0m\u001b[0;34m\u001b[0m\u001b[0;34m\u001b[0m\u001b[0m\n\u001b[1;32m   2109\u001b[0m \u001b[0;34m\u001b[0m\u001b[0m\n\u001b[0;32m-> 2110\u001b[0;31m     \u001b[0;32mreturn\u001b[0m \u001b[0mklass\u001b[0m\u001b[0;34m(\u001b[0m\u001b[0mobj\u001b[0m\u001b[0;34m,\u001b[0m \u001b[0mby\u001b[0m\u001b[0;34m,\u001b[0m \u001b[0;34m**\u001b[0m\u001b[0mkwds\u001b[0m\u001b[0;34m)\u001b[0m\u001b[0;34m\u001b[0m\u001b[0;34m\u001b[0m\u001b[0m\n\u001b[0m",
            "\u001b[0;32m/usr/local/lib/python3.6/dist-packages/pandas/core/groupby/groupby.py\u001b[0m in \u001b[0;36m__init__\u001b[0;34m(self, obj, keys, axis, level, grouper, exclusions, selection, as_index, sort, group_keys, squeeze, observed, **kwargs)\u001b[0m\n\u001b[1;32m    358\u001b[0m                                                     \u001b[0msort\u001b[0m\u001b[0;34m=\u001b[0m\u001b[0msort\u001b[0m\u001b[0;34m,\u001b[0m\u001b[0;34m\u001b[0m\u001b[0;34m\u001b[0m\u001b[0m\n\u001b[1;32m    359\u001b[0m                                                     \u001b[0mobserved\u001b[0m\u001b[0;34m=\u001b[0m\u001b[0mobserved\u001b[0m\u001b[0;34m,\u001b[0m\u001b[0;34m\u001b[0m\u001b[0;34m\u001b[0m\u001b[0m\n\u001b[0;32m--> 360\u001b[0;31m                                                     mutated=self.mutated)\n\u001b[0m\u001b[1;32m    361\u001b[0m \u001b[0;34m\u001b[0m\u001b[0m\n\u001b[1;32m    362\u001b[0m         \u001b[0mself\u001b[0m\u001b[0;34m.\u001b[0m\u001b[0mobj\u001b[0m \u001b[0;34m=\u001b[0m \u001b[0mobj\u001b[0m\u001b[0;34m\u001b[0m\u001b[0;34m\u001b[0m\u001b[0m\n",
            "\u001b[0;32m/usr/local/lib/python3.6/dist-packages/pandas/core/groupby/grouper.py\u001b[0m in \u001b[0;36m_get_grouper\u001b[0;34m(obj, key, axis, level, sort, observed, mutated, validate)\u001b[0m\n\u001b[1;32m    576\u001b[0m                 \u001b[0min_axis\u001b[0m\u001b[0;34m,\u001b[0m \u001b[0mname\u001b[0m\u001b[0;34m,\u001b[0m \u001b[0mlevel\u001b[0m\u001b[0;34m,\u001b[0m \u001b[0mgpr\u001b[0m \u001b[0;34m=\u001b[0m \u001b[0;32mFalse\u001b[0m\u001b[0;34m,\u001b[0m \u001b[0;32mNone\u001b[0m\u001b[0;34m,\u001b[0m \u001b[0mgpr\u001b[0m\u001b[0;34m,\u001b[0m \u001b[0;32mNone\u001b[0m\u001b[0;34m\u001b[0m\u001b[0;34m\u001b[0m\u001b[0m\n\u001b[1;32m    577\u001b[0m             \u001b[0;32melse\u001b[0m\u001b[0;34m:\u001b[0m\u001b[0;34m\u001b[0m\u001b[0;34m\u001b[0m\u001b[0m\n\u001b[0;32m--> 578\u001b[0;31m                 \u001b[0;32mraise\u001b[0m \u001b[0mKeyError\u001b[0m\u001b[0;34m(\u001b[0m\u001b[0mgpr\u001b[0m\u001b[0;34m)\u001b[0m\u001b[0;34m\u001b[0m\u001b[0;34m\u001b[0m\u001b[0m\n\u001b[0m\u001b[1;32m    579\u001b[0m         \u001b[0;32melif\u001b[0m \u001b[0misinstance\u001b[0m\u001b[0;34m(\u001b[0m\u001b[0mgpr\u001b[0m\u001b[0;34m,\u001b[0m \u001b[0mGrouper\u001b[0m\u001b[0;34m)\u001b[0m \u001b[0;32mand\u001b[0m \u001b[0mgpr\u001b[0m\u001b[0;34m.\u001b[0m\u001b[0mkey\u001b[0m \u001b[0;32mis\u001b[0m \u001b[0;32mnot\u001b[0m \u001b[0;32mNone\u001b[0m\u001b[0;34m:\u001b[0m\u001b[0;34m\u001b[0m\u001b[0;34m\u001b[0m\u001b[0m\n\u001b[1;32m    580\u001b[0m             \u001b[0;31m# Add key to exclusions\u001b[0m\u001b[0;34m\u001b[0m\u001b[0;34m\u001b[0m\u001b[0;34m\u001b[0m\u001b[0m\n",
            "\u001b[0;31mKeyError\u001b[0m: 26209"
          ]
        }
      ]
    },
    {
      "cell_type": "code",
      "metadata": {
        "id": "hacQ0TE_smtm",
        "colab_type": "code",
        "outputId": "44c55711-8124-446d-fa0a-3a7c29fa2208",
        "colab": {
          "base_uri": "https://localhost:8080/",
          "height": 35
        }
      },
      "source": [
        "#dict_items = {'item1': 1, 'item2':2, 'item2':3}\n",
        "#{'items':[x for x in range(0,5)]}\n",
        "#dict_items1 = \n",
        "\n",
        "dict_"
      ],
      "execution_count": 0,
      "outputs": [
        {
          "output_type": "execute_result",
          "data": {
            "text/plain": [
              "{'items': [0, 1, 2, 3, 4]}"
            ]
          },
          "metadata": {
            "tags": []
          },
          "execution_count": 21
        }
      ]
    },
    {
      "cell_type": "markdown",
      "metadata": {
        "id": "mnOuqL9K0dqh",
        "colab_type": "text"
      },
      "source": [
        "## Join Data Stretch Challenge\n",
        "\n",
        "The [Instacart blog post](https://tech.instacart.com/3-million-instacart-orders-open-sourced-d40d29ead6f2) has a visualization of \"**Popular products** purchased earliest in the day (green) and latest in the day (red).\" \n",
        "\n",
        "The post says,\n",
        "\n",
        "> \"We can also see the time of day that users purchase specific products.\n",
        "\n",
        "> Healthier snacks and staples tend to be purchased earlier in the day, whereas ice cream (especially Half Baked and The Tonight Dough) are far more popular when customers are ordering in the evening.\n",
        "\n",
        "> **In fact, of the top 25 latest ordered products, the first 24 are ice cream! The last one, of course, is a frozen pizza.**\"\n",
        "\n",
        "Your challenge is to reproduce the list of the top 25 latest ordered popular products.\n",
        "\n",
        "We'll define \"popular products\" as products with more than 2,900 orders.\n",
        "\n",
        "## Reshape Data Stretch Challenge\n",
        "\n",
        "_Try whatever sounds most interesting to you!_\n",
        "\n",
        "- Replicate more of Instacart's visualization showing \"Hour of Day Ordered\" vs \"Percent of Orders by Product\"\n",
        "- Replicate parts of the other visualization from [Instacart's blog post](https://tech.instacart.com/3-million-instacart-orders-open-sourced-d40d29ead6f2), showing \"Number of Purchases\" vs \"Percent Reorder Purchases\"\n",
        "- Get the most recent order for each user in Instacart's dataset. This is a useful baseline when [predicting a user's next order](https://www.kaggle.com/c/instacart-market-basket-analysis)\n",
        "- Replicate parts of the blog post linked at the top of this notebook: [Modern Pandas, Part 5: Tidy Data](https://tomaugspurger.github.io/modern-5-tidy.html)"
      ]
    }
  ]
}