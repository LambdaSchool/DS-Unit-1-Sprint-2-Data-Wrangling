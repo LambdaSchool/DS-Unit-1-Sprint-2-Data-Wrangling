{
  "nbformat": 4,
  "nbformat_minor": 0,
  "metadata": {
    "colab": {
      "name": "LS_DS_121_Join_and_Reshape_Data_Assignment.ipynb",
      "version": "0.3.2",
      "provenance": [],
      "collapsed_sections": [],
      "machine_shape": "hm",
      "include_colab_link": true
    },
    "kernelspec": {
      "display_name": "Python 3",
      "language": "python",
      "name": "python3"
    }
  },
  "cells": [
    {
      "cell_type": "markdown",
      "metadata": {
        "id": "view-in-github",
        "colab_type": "text"
      },
      "source": [
        "<a href=\"https://colab.research.google.com/github/salexashenko/DS-Unit-1-Sprint-2-Data-Wrangling-and-Storytelling/blob/master/module1-join-and-reshape-data/LS_DS_121_Join_and_Reshape_Data_Assignment.ipynb\" target=\"_parent\"><img src=\"https://colab.research.google.com/assets/colab-badge.svg\" alt=\"Open In Colab\"/></a>"
      ]
    },
    {
      "cell_type": "markdown",
      "metadata": {
        "colab_type": "text",
        "id": "pmU5YUal1eTZ"
      },
      "source": [
        "_Lambda School Data Science_\n",
        "\n",
        "# Join and Reshape datasets\n",
        "\n",
        "Objectives\n",
        "- concatenate data with pandas\n",
        "- merge data with pandas\n",
        "-  understand tidy data formatting\n",
        "-  melt and pivot data with pandas\n",
        "\n",
        "Links\n",
        "- [Pandas Cheat Sheet](https://github.com/pandas-dev/pandas/blob/master/doc/cheatsheet/Pandas_Cheat_Sheet.pdf)\n",
        "- [Tidy Data](https://en.wikipedia.org/wiki/Tidy_data)\n",
        "  - Combine Data Sets: Standard Joins\n",
        "  - Tidy Data\n",
        "  - Reshaping Data\n",
        "- Python Data Science Handbook\n",
        "  - [Chapter 3.6](https://jakevdp.github.io/PythonDataScienceHandbook/03.06-concat-and-append.html), Combining Datasets: Concat and Append\n",
        "  - [Chapter 3.7](https://jakevdp.github.io/PythonDataScienceHandbook/03.07-merge-and-join.html), Combining Datasets: Merge and Join\n",
        "  - [Chapter 3.8](https://jakevdp.github.io/PythonDataScienceHandbook/03.08-aggregation-and-grouping.html), Aggregation and Grouping\n",
        "  - [Chapter 3.9](https://jakevdp.github.io/PythonDataScienceHandbook/03.09-pivot-tables.html), Pivot Tables\n",
        "  \n",
        "Reference\n",
        "- Pandas Documentation: [Reshaping and Pivot Tables](https://pandas.pydata.org/pandas-docs/stable/reshaping.html)\n",
        "- Modern Pandas, Part 5: [Tidy Data](https://tomaugspurger.github.io/modern-5-tidy.html)"
      ]
    },
    {
      "cell_type": "code",
      "metadata": {
        "id": "5MsWLLW4Xg_i",
        "colab_type": "code",
        "outputId": "e399a46e-8ed0-4694-bfbe-c77aed0a4751",
        "colab": {
          "base_uri": "https://localhost:8080/",
          "height": 208
        }
      },
      "source": [
        "!wget https://s3.amazonaws.com/instacart-datasets/instacart_online_grocery_shopping_2017_05_01.tar.gz"
      ],
      "execution_count": 1,
      "outputs": [
        {
          "output_type": "stream",
          "text": [
            "--2019-09-09 19:59:04--  https://s3.amazonaws.com/instacart-datasets/instacart_online_grocery_shopping_2017_05_01.tar.gz\n",
            "Resolving s3.amazonaws.com (s3.amazonaws.com)... 52.216.129.149\n",
            "Connecting to s3.amazonaws.com (s3.amazonaws.com)|52.216.129.149|:443... connected.\n",
            "HTTP request sent, awaiting response... 200 OK\n",
            "Length: 205548478 (196M) [application/x-gzip]\n",
            "Saving to: ‘instacart_online_grocery_shopping_2017_05_01.tar.gz’\n",
            "\n",
            "instacart_online_gr 100%[===================>] 196.03M  25.8MB/s    in 8.2s    \n",
            "\n",
            "2019-09-09 19:59:13 (23.9 MB/s) - ‘instacart_online_grocery_shopping_2017_05_01.tar.gz’ saved [205548478/205548478]\n",
            "\n"
          ],
          "name": "stdout"
        }
      ]
    },
    {
      "cell_type": "code",
      "metadata": {
        "id": "gfr4_Ya0XkLI",
        "colab_type": "code",
        "outputId": "76a77d49-74d5-44c7-d800-e820d88c4fd8",
        "colab": {
          "base_uri": "https://localhost:8080/",
          "height": 243
        }
      },
      "source": [
        "!tar --gunzip --extract --verbose --file=instacart_online_grocery_shopping_2017_05_01.tar.gz"
      ],
      "execution_count": 2,
      "outputs": [
        {
          "output_type": "stream",
          "text": [
            "instacart_2017_05_01/\n",
            "instacart_2017_05_01/._aisles.csv\n",
            "instacart_2017_05_01/aisles.csv\n",
            "instacart_2017_05_01/._departments.csv\n",
            "instacart_2017_05_01/departments.csv\n",
            "instacart_2017_05_01/._order_products__prior.csv\n",
            "instacart_2017_05_01/order_products__prior.csv\n",
            "instacart_2017_05_01/._order_products__train.csv\n",
            "instacart_2017_05_01/order_products__train.csv\n",
            "instacart_2017_05_01/._orders.csv\n",
            "instacart_2017_05_01/orders.csv\n",
            "instacart_2017_05_01/._products.csv\n",
            "instacart_2017_05_01/products.csv\n"
          ],
          "name": "stdout"
        }
      ]
    },
    {
      "cell_type": "code",
      "metadata": {
        "id": "N4YyGPNdXrT0",
        "colab_type": "code",
        "outputId": "8fd7f693-26b7-498d-f5e8-0e4adc94da1a",
        "colab": {
          "base_uri": "https://localhost:8080/",
          "height": 35
        }
      },
      "source": [
        "%cd instacart_2017_05_01"
      ],
      "execution_count": 3,
      "outputs": [
        {
          "output_type": "stream",
          "text": [
            "/content/instacart_2017_05_01\n"
          ],
          "name": "stdout"
        }
      ]
    },
    {
      "cell_type": "code",
      "metadata": {
        "id": "b26wmLUiXtlM",
        "colab_type": "code",
        "outputId": "36d32a6e-5196-44d1-e1ed-3955810278cb",
        "colab": {
          "base_uri": "https://localhost:8080/",
          "height": 121
        }
      },
      "source": [
        "!ls -lh *.csv"
      ],
      "execution_count": 4,
      "outputs": [
        {
          "output_type": "stream",
          "text": [
            "-rw-r--r-- 1 502 staff 2.6K May  2  2017 aisles.csv\n",
            "-rw-r--r-- 1 502 staff  270 May  2  2017 departments.csv\n",
            "-rw-r--r-- 1 502 staff 551M May  2  2017 order_products__prior.csv\n",
            "-rw-r--r-- 1 502 staff  24M May  2  2017 order_products__train.csv\n",
            "-rw-r--r-- 1 502 staff 104M May  2  2017 orders.csv\n",
            "-rw-r--r-- 1 502 staff 2.1M May  2  2017 products.csv\n"
          ],
          "name": "stdout"
        }
      ]
    },
    {
      "cell_type": "markdown",
      "metadata": {
        "colab_type": "text",
        "id": "kAMtvSQWPUcj"
      },
      "source": [
        "# Assignment\n",
        "\n",
        "## Join Data Practice\n",
        "\n",
        "These are the top 10 most frequently ordered products. How many times was each ordered? \n",
        "\n",
        "1. Banana\n",
        "2. Bag of Organic Bananas\n",
        "3. Organic Strawberries\n",
        "4. Organic Baby Spinach \n",
        "5. Organic Hass Avocado\n",
        "6. Organic Avocado\n",
        "7. Large Lemon \n",
        "8. Strawberries\n",
        "9. Limes \n",
        "10. Organic Whole Milk\n",
        "\n",
        "First, write down which columns you need and which dataframes have them.\n",
        "\n",
        "Next, merge these into a single dataframe.\n",
        "\n",
        "Then, use pandas functions from the previous lesson to get the counts of the top 10 most frequently ordered products."
      ]
    },
    {
      "cell_type": "code",
      "metadata": {
        "id": "vvE0EVHgXMFO",
        "colab_type": "code",
        "colab": {
          "base_uri": "https://localhost:8080/",
          "height": 202
        },
        "outputId": "dc2b5e9a-2d03-4144-e83b-1e49dbc06d00"
      },
      "source": [
        "import pandas as pd\n",
        "aisles_df=pd.read_csv('aisles.csv')\n",
        "aisles_df.shape\n",
        "aisles_df.head()\n",
        "departments_df=pd.read_csv('departments.csv')\n",
        "departments_df.shape\n",
        "departments_df.head()\n",
        "order_products_prior_df=pd.read_csv('order_products__prior.csv')\n",
        "order_products_prior_df.head()\n",
        "# we need product id from the merged"
      ],
      "execution_count": 5,
      "outputs": [
        {
          "output_type": "execute_result",
          "data": {
            "text/html": [
              "<div>\n",
              "<style scoped>\n",
              "    .dataframe tbody tr th:only-of-type {\n",
              "        vertical-align: middle;\n",
              "    }\n",
              "\n",
              "    .dataframe tbody tr th {\n",
              "        vertical-align: top;\n",
              "    }\n",
              "\n",
              "    .dataframe thead th {\n",
              "        text-align: right;\n",
              "    }\n",
              "</style>\n",
              "<table border=\"1\" class=\"dataframe\">\n",
              "  <thead>\n",
              "    <tr style=\"text-align: right;\">\n",
              "      <th></th>\n",
              "      <th>order_id</th>\n",
              "      <th>product_id</th>\n",
              "      <th>add_to_cart_order</th>\n",
              "      <th>reordered</th>\n",
              "    </tr>\n",
              "  </thead>\n",
              "  <tbody>\n",
              "    <tr>\n",
              "      <th>0</th>\n",
              "      <td>2</td>\n",
              "      <td>33120</td>\n",
              "      <td>1</td>\n",
              "      <td>1</td>\n",
              "    </tr>\n",
              "    <tr>\n",
              "      <th>1</th>\n",
              "      <td>2</td>\n",
              "      <td>28985</td>\n",
              "      <td>2</td>\n",
              "      <td>1</td>\n",
              "    </tr>\n",
              "    <tr>\n",
              "      <th>2</th>\n",
              "      <td>2</td>\n",
              "      <td>9327</td>\n",
              "      <td>3</td>\n",
              "      <td>0</td>\n",
              "    </tr>\n",
              "    <tr>\n",
              "      <th>3</th>\n",
              "      <td>2</td>\n",
              "      <td>45918</td>\n",
              "      <td>4</td>\n",
              "      <td>1</td>\n",
              "    </tr>\n",
              "    <tr>\n",
              "      <th>4</th>\n",
              "      <td>2</td>\n",
              "      <td>30035</td>\n",
              "      <td>5</td>\n",
              "      <td>0</td>\n",
              "    </tr>\n",
              "  </tbody>\n",
              "</table>\n",
              "</div>"
            ],
            "text/plain": [
              "   order_id  product_id  add_to_cart_order  reordered\n",
              "0         2       33120                  1          1\n",
              "1         2       28985                  2          1\n",
              "2         2        9327                  3          0\n",
              "3         2       45918                  4          1\n",
              "4         2       30035                  5          0"
            ]
          },
          "metadata": {
            "tags": []
          },
          "execution_count": 5
        }
      ]
    },
    {
      "cell_type": "code",
      "metadata": {
        "id": "7M5mthcHbg7E",
        "colab_type": "code",
        "colab": {
          "base_uri": "https://localhost:8080/",
          "height": 35
        },
        "outputId": "2552dd34-9520-4932-dbdd-a0fc83ad9b3a"
      },
      "source": [
        "order_products_train_df=pd.read_csv('order_products__train.csv')\n",
        "order_products_train_df.head()\n",
        "order_products = pd.concat([order_products_prior_df,order_products_train_df])\n",
        "order_products.shape\n",
        "\n",
        "#Need product id here"
      ],
      "execution_count": 6,
      "outputs": [
        {
          "output_type": "execute_result",
          "data": {
            "text/plain": [
              "(33819106, 4)"
            ]
          },
          "metadata": {
            "tags": []
          },
          "execution_count": 6
        }
      ]
    },
    {
      "cell_type": "code",
      "metadata": {
        "id": "l3uTIAuPbnq8",
        "colab_type": "code",
        "colab": {
          "base_uri": "https://localhost:8080/",
          "height": 202
        },
        "outputId": "d4a454c8-1476-4e29-a19f-b25c6dde2698"
      },
      "source": [
        "orders_df=pd.read_csv('orders.csv')\n",
        "orders_df.head()\n"
      ],
      "execution_count": 7,
      "outputs": [
        {
          "output_type": "execute_result",
          "data": {
            "text/html": [
              "<div>\n",
              "<style scoped>\n",
              "    .dataframe tbody tr th:only-of-type {\n",
              "        vertical-align: middle;\n",
              "    }\n",
              "\n",
              "    .dataframe tbody tr th {\n",
              "        vertical-align: top;\n",
              "    }\n",
              "\n",
              "    .dataframe thead th {\n",
              "        text-align: right;\n",
              "    }\n",
              "</style>\n",
              "<table border=\"1\" class=\"dataframe\">\n",
              "  <thead>\n",
              "    <tr style=\"text-align: right;\">\n",
              "      <th></th>\n",
              "      <th>order_id</th>\n",
              "      <th>user_id</th>\n",
              "      <th>eval_set</th>\n",
              "      <th>order_number</th>\n",
              "      <th>order_dow</th>\n",
              "      <th>order_hour_of_day</th>\n",
              "      <th>days_since_prior_order</th>\n",
              "    </tr>\n",
              "  </thead>\n",
              "  <tbody>\n",
              "    <tr>\n",
              "      <th>0</th>\n",
              "      <td>2539329</td>\n",
              "      <td>1</td>\n",
              "      <td>prior</td>\n",
              "      <td>1</td>\n",
              "      <td>2</td>\n",
              "      <td>8</td>\n",
              "      <td>NaN</td>\n",
              "    </tr>\n",
              "    <tr>\n",
              "      <th>1</th>\n",
              "      <td>2398795</td>\n",
              "      <td>1</td>\n",
              "      <td>prior</td>\n",
              "      <td>2</td>\n",
              "      <td>3</td>\n",
              "      <td>7</td>\n",
              "      <td>15.0</td>\n",
              "    </tr>\n",
              "    <tr>\n",
              "      <th>2</th>\n",
              "      <td>473747</td>\n",
              "      <td>1</td>\n",
              "      <td>prior</td>\n",
              "      <td>3</td>\n",
              "      <td>3</td>\n",
              "      <td>12</td>\n",
              "      <td>21.0</td>\n",
              "    </tr>\n",
              "    <tr>\n",
              "      <th>3</th>\n",
              "      <td>2254736</td>\n",
              "      <td>1</td>\n",
              "      <td>prior</td>\n",
              "      <td>4</td>\n",
              "      <td>4</td>\n",
              "      <td>7</td>\n",
              "      <td>29.0</td>\n",
              "    </tr>\n",
              "    <tr>\n",
              "      <th>4</th>\n",
              "      <td>431534</td>\n",
              "      <td>1</td>\n",
              "      <td>prior</td>\n",
              "      <td>5</td>\n",
              "      <td>4</td>\n",
              "      <td>15</td>\n",
              "      <td>28.0</td>\n",
              "    </tr>\n",
              "  </tbody>\n",
              "</table>\n",
              "</div>"
            ],
            "text/plain": [
              "   order_id  user_id  ... order_hour_of_day  days_since_prior_order\n",
              "0   2539329        1  ...                 8                     NaN\n",
              "1   2398795        1  ...                 7                    15.0\n",
              "2    473747        1  ...                12                    21.0\n",
              "3   2254736        1  ...                 7                    29.0\n",
              "4    431534        1  ...                15                    28.0\n",
              "\n",
              "[5 rows x 7 columns]"
            ]
          },
          "metadata": {
            "tags": []
          },
          "execution_count": 7
        }
      ]
    },
    {
      "cell_type": "code",
      "metadata": {
        "id": "b1pqZjhmdjMk",
        "colab_type": "code",
        "colab": {
          "base_uri": "https://localhost:8080/",
          "height": 202
        },
        "outputId": "4f2d3254-d19e-4f74-f8ae-b422041c4019"
      },
      "source": [
        "products_df=pd.read_csv('products.csv')\n",
        "products_df.head()\n",
        "\n",
        "# we need product id product name"
      ],
      "execution_count": 8,
      "outputs": [
        {
          "output_type": "execute_result",
          "data": {
            "text/html": [
              "<div>\n",
              "<style scoped>\n",
              "    .dataframe tbody tr th:only-of-type {\n",
              "        vertical-align: middle;\n",
              "    }\n",
              "\n",
              "    .dataframe tbody tr th {\n",
              "        vertical-align: top;\n",
              "    }\n",
              "\n",
              "    .dataframe thead th {\n",
              "        text-align: right;\n",
              "    }\n",
              "</style>\n",
              "<table border=\"1\" class=\"dataframe\">\n",
              "  <thead>\n",
              "    <tr style=\"text-align: right;\">\n",
              "      <th></th>\n",
              "      <th>product_id</th>\n",
              "      <th>product_name</th>\n",
              "      <th>aisle_id</th>\n",
              "      <th>department_id</th>\n",
              "    </tr>\n",
              "  </thead>\n",
              "  <tbody>\n",
              "    <tr>\n",
              "      <th>0</th>\n",
              "      <td>1</td>\n",
              "      <td>Chocolate Sandwich Cookies</td>\n",
              "      <td>61</td>\n",
              "      <td>19</td>\n",
              "    </tr>\n",
              "    <tr>\n",
              "      <th>1</th>\n",
              "      <td>2</td>\n",
              "      <td>All-Seasons Salt</td>\n",
              "      <td>104</td>\n",
              "      <td>13</td>\n",
              "    </tr>\n",
              "    <tr>\n",
              "      <th>2</th>\n",
              "      <td>3</td>\n",
              "      <td>Robust Golden Unsweetened Oolong Tea</td>\n",
              "      <td>94</td>\n",
              "      <td>7</td>\n",
              "    </tr>\n",
              "    <tr>\n",
              "      <th>3</th>\n",
              "      <td>4</td>\n",
              "      <td>Smart Ones Classic Favorites Mini Rigatoni Wit...</td>\n",
              "      <td>38</td>\n",
              "      <td>1</td>\n",
              "    </tr>\n",
              "    <tr>\n",
              "      <th>4</th>\n",
              "      <td>5</td>\n",
              "      <td>Green Chile Anytime Sauce</td>\n",
              "      <td>5</td>\n",
              "      <td>13</td>\n",
              "    </tr>\n",
              "  </tbody>\n",
              "</table>\n",
              "</div>"
            ],
            "text/plain": [
              "   product_id  ... department_id\n",
              "0           1  ...            19\n",
              "1           2  ...            13\n",
              "2           3  ...             7\n",
              "3           4  ...             1\n",
              "4           5  ...            13\n",
              "\n",
              "[5 rows x 4 columns]"
            ]
          },
          "metadata": {
            "tags": []
          },
          "execution_count": 8
        }
      ]
    },
    {
      "cell_type": "code",
      "metadata": {
        "id": "ypQ-CIgvd9zG",
        "colab_type": "code",
        "colab": {
          "base_uri": "https://localhost:8080/",
          "height": 202
        },
        "outputId": "c325f494-0e3d-4435-f327-e4d14cf58da8"
      },
      "source": [
        "columns = ['product_id','product_name']\n",
        "subset = products_df.loc[:,columns]\n",
        "subset.head()"
      ],
      "execution_count": 9,
      "outputs": [
        {
          "output_type": "execute_result",
          "data": {
            "text/html": [
              "<div>\n",
              "<style scoped>\n",
              "    .dataframe tbody tr th:only-of-type {\n",
              "        vertical-align: middle;\n",
              "    }\n",
              "\n",
              "    .dataframe tbody tr th {\n",
              "        vertical-align: top;\n",
              "    }\n",
              "\n",
              "    .dataframe thead th {\n",
              "        text-align: right;\n",
              "    }\n",
              "</style>\n",
              "<table border=\"1\" class=\"dataframe\">\n",
              "  <thead>\n",
              "    <tr style=\"text-align: right;\">\n",
              "      <th></th>\n",
              "      <th>product_id</th>\n",
              "      <th>product_name</th>\n",
              "    </tr>\n",
              "  </thead>\n",
              "  <tbody>\n",
              "    <tr>\n",
              "      <th>0</th>\n",
              "      <td>1</td>\n",
              "      <td>Chocolate Sandwich Cookies</td>\n",
              "    </tr>\n",
              "    <tr>\n",
              "      <th>1</th>\n",
              "      <td>2</td>\n",
              "      <td>All-Seasons Salt</td>\n",
              "    </tr>\n",
              "    <tr>\n",
              "      <th>2</th>\n",
              "      <td>3</td>\n",
              "      <td>Robust Golden Unsweetened Oolong Tea</td>\n",
              "    </tr>\n",
              "    <tr>\n",
              "      <th>3</th>\n",
              "      <td>4</td>\n",
              "      <td>Smart Ones Classic Favorites Mini Rigatoni Wit...</td>\n",
              "    </tr>\n",
              "    <tr>\n",
              "      <th>4</th>\n",
              "      <td>5</td>\n",
              "      <td>Green Chile Anytime Sauce</td>\n",
              "    </tr>\n",
              "  </tbody>\n",
              "</table>\n",
              "</div>"
            ],
            "text/plain": [
              "   product_id                                       product_name\n",
              "0           1                         Chocolate Sandwich Cookies\n",
              "1           2                                   All-Seasons Salt\n",
              "2           3               Robust Golden Unsweetened Oolong Tea\n",
              "3           4  Smart Ones Classic Favorites Mini Rigatoni Wit...\n",
              "4           5                          Green Chile Anytime Sauce"
            ]
          },
          "metadata": {
            "tags": []
          },
          "execution_count": 9
        }
      ]
    },
    {
      "cell_type": "code",
      "metadata": {
        "id": "OnblLwntdaog",
        "colab_type": "code",
        "colab": {}
      },
      "source": [
        "merged = pd.merge(subset, order_products, how='inner', on='product_id')"
      ],
      "execution_count": 0,
      "outputs": []
    },
    {
      "cell_type": "code",
      "metadata": {
        "id": "Hjdj8wH7gHUN",
        "colab_type": "code",
        "colab": {
          "base_uri": "https://localhost:8080/",
          "height": 1000
        },
        "outputId": "12ea5134-c855-4338-daf4-eeaed0ee026f"
      },
      "source": [
        "merged['product_name'].value_counts()"
      ],
      "execution_count": 11,
      "outputs": [
        {
          "output_type": "execute_result",
          "data": {
            "text/plain": [
              "Banana                                                       491291\n",
              "Bag of Organic Bananas                                       394930\n",
              "Organic Strawberries                                         275577\n",
              "Organic Baby Spinach                                         251705\n",
              "Organic Hass Avocado                                         220877\n",
              "Organic Avocado                                              184224\n",
              "Large Lemon                                                  160792\n",
              "Strawberries                                                 149445\n",
              "Limes                                                        146660\n",
              "Organic Whole Milk                                           142813\n",
              "Organic Raspberries                                          142603\n",
              "Organic Yellow Onion                                         117716\n",
              "Organic Garlic                                               113936\n",
              "Organic Zucchini                                             109412\n",
              "Organic Blueberries                                          105026\n",
              "Cucumber Kirby                                                99728\n",
              "Organic Fuji Apple                                            92889\n",
              "Organic Lemon                                                 91251\n",
              "Organic Grape Tomatoes                                        88078\n",
              "Apple Honeycrisp Organic                                      87272\n",
              "Seedless Red Grapes                                           86748\n",
              "Organic Cucumber                                              85005\n",
              "Honeycrisp Apple                                              83320\n",
              "Organic Baby Carrots                                          80493\n",
              "Sparkling Water Grapefruit                                    79245\n",
              "Organic Half & Half                                           79006\n",
              "Organic Large Extra Fancy Fuji Apple                          78056\n",
              "Yellow Onions                                                 76929\n",
              "Organic Baby Arugula                                          75752\n",
              "Organic Gala Apples                                           75655\n",
              "                                                              ...  \n",
              "Pure Performance Restorative Shampoo Chamomile & Honey            1\n",
              "12 Inch Taper Candle White                                        1\n",
              "Miss Treated Conditioner                                          1\n",
              "Flatbread Pizza All Natural                                       1\n",
              "Pappardelle Nests Pasta                                           1\n",
              "Brut Prosecco                                                     1\n",
              "Strawberry Energy Gel                                             1\n",
              "11.3 Oz. Oreo Fudge Creme Double Chocolate                        1\n",
              "Chocolate Peppermint Tart                                         1\n",
              "Hennepin Farmhouse Ale                                            1\n",
              "Indulgent Cherry & Dark Chocolate Whole Milk Greek Yogurt         1\n",
              "Orange Flavored Ice Cubes                                         1\n",
              "Tangerine Melon Bubble Bath                                       1\n",
              "Peachtree Schnapps                                                1\n",
              "Cinnamon Rice Pudding Snacks                                      1\n",
              "Seasoned Southern Style Red Beans And Rice                        1\n",
              "Escapes Variety Pack                                              1\n",
              "Pantene Pro-V Color Preserve Volume Conditioner                   1\n",
              "Berry Sprouted Blend Cereal                                       1\n",
              "Buddy Bear Probiotic Orange Flavor Chewable                       1\n",
              "Multigrain Penne Rigate                                           1\n",
              "Bite Size Caramel Chocolates                                      1\n",
              "Florentine Spinach and Cheese Pasta Sauce                         1\n",
              "All Natural Stevia Liquid Extract Sweetener                       1\n",
              "Aged Parmesan Cheese Sticks                                       1\n",
              "'Swingtop' Premium Lager                                          1\n",
              "Yellow Fish Breading                                              1\n",
              "Super Nutrition Vanilla Shake                                     1\n",
              "Thick 'n Chunky Salsa Mild                                        1\n",
              "String Of Pearl White Sprinkles                                   1\n",
              "Name: product_name, Length: 49685, dtype: int64"
            ]
          },
          "metadata": {
            "tags": []
          },
          "execution_count": 11
        }
      ]
    },
    {
      "cell_type": "markdown",
      "metadata": {
        "id": "RsiWi4DuXPLP",
        "colab_type": "text"
      },
      "source": [
        "## Reshape Data Section\n",
        "\n",
        "- Replicate the lesson code\n",
        "- Complete the code cells we skipped near the beginning of the notebook\n",
        "- Table 2 --> Tidy\n",
        "- Tidy --> Table 2\n",
        "- Load seaborn's `flights` dataset by running the cell below. Then create a pivot table showing the number of passengers by month and year. Use year for the index and month for the columns. You've done it right if you get 112 passengers for January 1949 and 432 passengers for December 1960."
      ]
    },
    {
      "cell_type": "code",
      "metadata": {
        "id": "fgxulJQq0uLw",
        "colab_type": "code",
        "colab": {}
      },
      "source": [
        "import seaborn as sns\n",
        "flights = sns.load_dataset('flights')"
      ],
      "execution_count": 0,
      "outputs": []
    },
    {
      "cell_type": "code",
      "metadata": {
        "id": "1qKc88WI0up-",
        "colab_type": "code",
        "colab": {
          "base_uri": "https://localhost:8080/",
          "height": 447
        },
        "outputId": "c7c24032-8aff-4eec-abd4-c4c259cce008"
      },
      "source": [
        "flights.head()\n",
        "flights.pivot_table(index='year',columns='month',values='passengers')"
      ],
      "execution_count": 13,
      "outputs": [
        {
          "output_type": "execute_result",
          "data": {
            "text/html": [
              "<div>\n",
              "<style scoped>\n",
              "    .dataframe tbody tr th:only-of-type {\n",
              "        vertical-align: middle;\n",
              "    }\n",
              "\n",
              "    .dataframe tbody tr th {\n",
              "        vertical-align: top;\n",
              "    }\n",
              "\n",
              "    .dataframe thead th {\n",
              "        text-align: right;\n",
              "    }\n",
              "</style>\n",
              "<table border=\"1\" class=\"dataframe\">\n",
              "  <thead>\n",
              "    <tr style=\"text-align: right;\">\n",
              "      <th>month</th>\n",
              "      <th>January</th>\n",
              "      <th>February</th>\n",
              "      <th>March</th>\n",
              "      <th>April</th>\n",
              "      <th>May</th>\n",
              "      <th>June</th>\n",
              "      <th>July</th>\n",
              "      <th>August</th>\n",
              "      <th>September</th>\n",
              "      <th>October</th>\n",
              "      <th>November</th>\n",
              "      <th>December</th>\n",
              "    </tr>\n",
              "    <tr>\n",
              "      <th>year</th>\n",
              "      <th></th>\n",
              "      <th></th>\n",
              "      <th></th>\n",
              "      <th></th>\n",
              "      <th></th>\n",
              "      <th></th>\n",
              "      <th></th>\n",
              "      <th></th>\n",
              "      <th></th>\n",
              "      <th></th>\n",
              "      <th></th>\n",
              "      <th></th>\n",
              "    </tr>\n",
              "  </thead>\n",
              "  <tbody>\n",
              "    <tr>\n",
              "      <th>1949</th>\n",
              "      <td>112</td>\n",
              "      <td>118</td>\n",
              "      <td>132</td>\n",
              "      <td>129</td>\n",
              "      <td>121</td>\n",
              "      <td>135</td>\n",
              "      <td>148</td>\n",
              "      <td>148</td>\n",
              "      <td>136</td>\n",
              "      <td>119</td>\n",
              "      <td>104</td>\n",
              "      <td>118</td>\n",
              "    </tr>\n",
              "    <tr>\n",
              "      <th>1950</th>\n",
              "      <td>115</td>\n",
              "      <td>126</td>\n",
              "      <td>141</td>\n",
              "      <td>135</td>\n",
              "      <td>125</td>\n",
              "      <td>149</td>\n",
              "      <td>170</td>\n",
              "      <td>170</td>\n",
              "      <td>158</td>\n",
              "      <td>133</td>\n",
              "      <td>114</td>\n",
              "      <td>140</td>\n",
              "    </tr>\n",
              "    <tr>\n",
              "      <th>1951</th>\n",
              "      <td>145</td>\n",
              "      <td>150</td>\n",
              "      <td>178</td>\n",
              "      <td>163</td>\n",
              "      <td>172</td>\n",
              "      <td>178</td>\n",
              "      <td>199</td>\n",
              "      <td>199</td>\n",
              "      <td>184</td>\n",
              "      <td>162</td>\n",
              "      <td>146</td>\n",
              "      <td>166</td>\n",
              "    </tr>\n",
              "    <tr>\n",
              "      <th>1952</th>\n",
              "      <td>171</td>\n",
              "      <td>180</td>\n",
              "      <td>193</td>\n",
              "      <td>181</td>\n",
              "      <td>183</td>\n",
              "      <td>218</td>\n",
              "      <td>230</td>\n",
              "      <td>242</td>\n",
              "      <td>209</td>\n",
              "      <td>191</td>\n",
              "      <td>172</td>\n",
              "      <td>194</td>\n",
              "    </tr>\n",
              "    <tr>\n",
              "      <th>1953</th>\n",
              "      <td>196</td>\n",
              "      <td>196</td>\n",
              "      <td>236</td>\n",
              "      <td>235</td>\n",
              "      <td>229</td>\n",
              "      <td>243</td>\n",
              "      <td>264</td>\n",
              "      <td>272</td>\n",
              "      <td>237</td>\n",
              "      <td>211</td>\n",
              "      <td>180</td>\n",
              "      <td>201</td>\n",
              "    </tr>\n",
              "    <tr>\n",
              "      <th>1954</th>\n",
              "      <td>204</td>\n",
              "      <td>188</td>\n",
              "      <td>235</td>\n",
              "      <td>227</td>\n",
              "      <td>234</td>\n",
              "      <td>264</td>\n",
              "      <td>302</td>\n",
              "      <td>293</td>\n",
              "      <td>259</td>\n",
              "      <td>229</td>\n",
              "      <td>203</td>\n",
              "      <td>229</td>\n",
              "    </tr>\n",
              "    <tr>\n",
              "      <th>1955</th>\n",
              "      <td>242</td>\n",
              "      <td>233</td>\n",
              "      <td>267</td>\n",
              "      <td>269</td>\n",
              "      <td>270</td>\n",
              "      <td>315</td>\n",
              "      <td>364</td>\n",
              "      <td>347</td>\n",
              "      <td>312</td>\n",
              "      <td>274</td>\n",
              "      <td>237</td>\n",
              "      <td>278</td>\n",
              "    </tr>\n",
              "    <tr>\n",
              "      <th>1956</th>\n",
              "      <td>284</td>\n",
              "      <td>277</td>\n",
              "      <td>317</td>\n",
              "      <td>313</td>\n",
              "      <td>318</td>\n",
              "      <td>374</td>\n",
              "      <td>413</td>\n",
              "      <td>405</td>\n",
              "      <td>355</td>\n",
              "      <td>306</td>\n",
              "      <td>271</td>\n",
              "      <td>306</td>\n",
              "    </tr>\n",
              "    <tr>\n",
              "      <th>1957</th>\n",
              "      <td>315</td>\n",
              "      <td>301</td>\n",
              "      <td>356</td>\n",
              "      <td>348</td>\n",
              "      <td>355</td>\n",
              "      <td>422</td>\n",
              "      <td>465</td>\n",
              "      <td>467</td>\n",
              "      <td>404</td>\n",
              "      <td>347</td>\n",
              "      <td>305</td>\n",
              "      <td>336</td>\n",
              "    </tr>\n",
              "    <tr>\n",
              "      <th>1958</th>\n",
              "      <td>340</td>\n",
              "      <td>318</td>\n",
              "      <td>362</td>\n",
              "      <td>348</td>\n",
              "      <td>363</td>\n",
              "      <td>435</td>\n",
              "      <td>491</td>\n",
              "      <td>505</td>\n",
              "      <td>404</td>\n",
              "      <td>359</td>\n",
              "      <td>310</td>\n",
              "      <td>337</td>\n",
              "    </tr>\n",
              "    <tr>\n",
              "      <th>1959</th>\n",
              "      <td>360</td>\n",
              "      <td>342</td>\n",
              "      <td>406</td>\n",
              "      <td>396</td>\n",
              "      <td>420</td>\n",
              "      <td>472</td>\n",
              "      <td>548</td>\n",
              "      <td>559</td>\n",
              "      <td>463</td>\n",
              "      <td>407</td>\n",
              "      <td>362</td>\n",
              "      <td>405</td>\n",
              "    </tr>\n",
              "    <tr>\n",
              "      <th>1960</th>\n",
              "      <td>417</td>\n",
              "      <td>391</td>\n",
              "      <td>419</td>\n",
              "      <td>461</td>\n",
              "      <td>472</td>\n",
              "      <td>535</td>\n",
              "      <td>622</td>\n",
              "      <td>606</td>\n",
              "      <td>508</td>\n",
              "      <td>461</td>\n",
              "      <td>390</td>\n",
              "      <td>432</td>\n",
              "    </tr>\n",
              "  </tbody>\n",
              "</table>\n",
              "</div>"
            ],
            "text/plain": [
              "month  January  February  March  April  ...  September  October  November  December\n",
              "year                                    ...                                        \n",
              "1949       112       118    132    129  ...        136      119       104       118\n",
              "1950       115       126    141    135  ...        158      133       114       140\n",
              "1951       145       150    178    163  ...        184      162       146       166\n",
              "1952       171       180    193    181  ...        209      191       172       194\n",
              "1953       196       196    236    235  ...        237      211       180       201\n",
              "1954       204       188    235    227  ...        259      229       203       229\n",
              "1955       242       233    267    269  ...        312      274       237       278\n",
              "1956       284       277    317    313  ...        355      306       271       306\n",
              "1957       315       301    356    348  ...        404      347       305       336\n",
              "1958       340       318    362    348  ...        404      359       310       337\n",
              "1959       360       342    406    396  ...        463      407       362       405\n",
              "1960       417       391    419    461  ...        508      461       390       432\n",
              "\n",
              "[12 rows x 12 columns]"
            ]
          },
          "metadata": {
            "tags": []
          },
          "execution_count": 13
        }
      ]
    },
    {
      "cell_type": "markdown",
      "metadata": {
        "id": "mnOuqL9K0dqh",
        "colab_type": "text"
      },
      "source": [
        "## Join Data Stretch Challenge\n",
        "\n",
        "The [Instacart blog post](https://tech.instacart.com/3-million-instacart-orders-open-sourced-d40d29ead6f2) has a visualization of \"**Popular products** purchased earliest in the day (green) and latest in the day (red).\" \n",
        "\n",
        "The post says,\n",
        "\n",
        "> \"We can also see the time of day that users purchase specific products.\n",
        "\n",
        "> Healthier snacks and staples tend to be purchased earlier in the day, whereas ice cream (especially Half Baked and The Tonight Dough) are far more popular when customers are ordering in the evening.\n",
        "\n",
        "> **In fact, of the top 25 latest ordered products, the first 24 are ice cream! The last one, of course, is a frozen pizza.**\"\n",
        "\n",
        "Your challenge is to reproduce the list of the top 25 latest ordered popular products.\n",
        "\n",
        "We'll define \"popular products\" as products with more than 2,900 orders.\n",
        "\n"
      ]
    },
    {
      "cell_type": "code",
      "metadata": {
        "id": "h7C0ml_lr7aF",
        "colab_type": "code",
        "colab": {
          "base_uri": "https://localhost:8080/",
          "height": 35
        },
        "outputId": "5fe0073d-11de-49eb-97d5-3ec2e2f77712"
      },
      "source": [
        "orders_df.shape"
      ],
      "execution_count": 34,
      "outputs": [
        {
          "output_type": "execute_result",
          "data": {
            "text/plain": [
              "(3421083, 7)"
            ]
          },
          "metadata": {
            "tags": []
          },
          "execution_count": 34
        }
      ]
    },
    {
      "cell_type": "code",
      "metadata": {
        "id": "B-QNMrVkYap4",
        "colab_type": "code",
        "colab": {}
      },
      "source": [
        "merged2 = pd.merge(merged, orders_df, how='inner', on='order_id')"
      ],
      "execution_count": 0,
      "outputs": []
    },
    {
      "cell_type": "code",
      "metadata": {
        "id": "YM6SFpy1sD39",
        "colab_type": "code",
        "colab": {
          "base_uri": "https://localhost:8080/",
          "height": 225
        },
        "outputId": "9893826b-b47f-4c65-8d84-82afba8e472a"
      },
      "source": [
        "merged2.isna().sum()"
      ],
      "execution_count": 36,
      "outputs": [
        {
          "output_type": "execute_result",
          "data": {
            "text/plain": [
              "product_id                      0\n",
              "product_name                    0\n",
              "order_id                        0\n",
              "add_to_cart_order               0\n",
              "reordered                       0\n",
              "user_id                         0\n",
              "eval_set                        0\n",
              "order_number                    0\n",
              "order_dow                       0\n",
              "order_hour_of_day               0\n",
              "days_since_prior_order    2078068\n",
              "dtype: int64"
            ]
          },
          "metadata": {
            "tags": []
          },
          "execution_count": 36
        }
      ]
    },
    {
      "cell_type": "code",
      "metadata": {
        "id": "KUjSICCekxcQ",
        "colab_type": "code",
        "colab": {}
      },
      "source": [
        "top_products = merged['product_name'].value_counts()\n",
        "top_products.shape\n",
        "top_products=top_products[top_products > 2900]"
      ],
      "execution_count": 0,
      "outputs": []
    },
    {
      "cell_type": "code",
      "metadata": {
        "id": "S4L0WmM-lnnR",
        "colab_type": "code",
        "colab": {
          "base_uri": "https://localhost:8080/",
          "height": 121
        },
        "outputId": "262c2470-df76-4901-a007-2bf25d0fe931"
      },
      "source": [
        "top_products.head()"
      ],
      "execution_count": 16,
      "outputs": [
        {
          "output_type": "execute_result",
          "data": {
            "text/plain": [
              "Banana                    491291\n",
              "Bag of Organic Bananas    394930\n",
              "Organic Strawberries      275577\n",
              "Organic Baby Spinach      251705\n",
              "Organic Hass Avocado      220877\n",
              "Name: product_name, dtype: int64"
            ]
          },
          "metadata": {
            "tags": []
          },
          "execution_count": 16
        }
      ]
    },
    {
      "cell_type": "code",
      "metadata": {
        "id": "dVgr9-GLmC9m",
        "colab_type": "code",
        "colab": {}
      },
      "source": [
        "merged3=merged2[merged2['product_name'].isin(top_products.index)]"
      ],
      "execution_count": 0,
      "outputs": []
    },
    {
      "cell_type": "code",
      "metadata": {
        "id": "E6EnJ1TAmkOg",
        "colab_type": "code",
        "colab": {}
      },
      "source": [
        "merged3=merged3.groupby(['product_name']).mean()"
      ],
      "execution_count": 0,
      "outputs": []
    },
    {
      "cell_type": "code",
      "metadata": {
        "id": "J6Ku2HnWnxs6",
        "colab_type": "code",
        "colab": {
          "base_uri": "https://localhost:8080/",
          "height": 233
        },
        "outputId": "699785f9-bb9e-49c3-d11d-66e680b046c6"
      },
      "source": [
        "merged3.head()"
      ],
      "execution_count": 21,
      "outputs": [
        {
          "output_type": "execute_result",
          "data": {
            "text/html": [
              "<div>\n",
              "<style scoped>\n",
              "    .dataframe tbody tr th:only-of-type {\n",
              "        vertical-align: middle;\n",
              "    }\n",
              "\n",
              "    .dataframe tbody tr th {\n",
              "        vertical-align: top;\n",
              "    }\n",
              "\n",
              "    .dataframe thead th {\n",
              "        text-align: right;\n",
              "    }\n",
              "</style>\n",
              "<table border=\"1\" class=\"dataframe\">\n",
              "  <thead>\n",
              "    <tr style=\"text-align: right;\">\n",
              "      <th></th>\n",
              "      <th>product_id</th>\n",
              "      <th>order_id</th>\n",
              "      <th>add_to_cart_order</th>\n",
              "      <th>reordered</th>\n",
              "      <th>user_id</th>\n",
              "      <th>order_number</th>\n",
              "      <th>order_dow</th>\n",
              "      <th>order_hour_of_day</th>\n",
              "      <th>days_since_prior_order</th>\n",
              "    </tr>\n",
              "    <tr>\n",
              "      <th>product_name</th>\n",
              "      <th></th>\n",
              "      <th></th>\n",
              "      <th></th>\n",
              "      <th></th>\n",
              "      <th></th>\n",
              "      <th></th>\n",
              "      <th></th>\n",
              "      <th></th>\n",
              "      <th></th>\n",
              "    </tr>\n",
              "  </thead>\n",
              "  <tbody>\n",
              "    <tr>\n",
              "      <th>0% Fat Free Organic Milk</th>\n",
              "      <td>49517.0</td>\n",
              "      <td>1.735806e+06</td>\n",
              "      <td>6.208937</td>\n",
              "      <td>0.710185</td>\n",
              "      <td>106560.103095</td>\n",
              "      <td>14.837494</td>\n",
              "      <td>2.687968</td>\n",
              "      <td>13.233899</td>\n",
              "      <td>12.045393</td>\n",
              "    </tr>\n",
              "    <tr>\n",
              "      <th>0% Greek Strained Yogurt</th>\n",
              "      <td>38928.0</td>\n",
              "      <td>1.704922e+06</td>\n",
              "      <td>3.493956</td>\n",
              "      <td>0.826826</td>\n",
              "      <td>103434.735404</td>\n",
              "      <td>20.243059</td>\n",
              "      <td>2.734818</td>\n",
              "      <td>12.298806</td>\n",
              "      <td>10.375760</td>\n",
              "    </tr>\n",
              "    <tr>\n",
              "      <th>1 Liter</th>\n",
              "      <td>5428.0</td>\n",
              "      <td>1.700314e+06</td>\n",
              "      <td>5.562880</td>\n",
              "      <td>0.737260</td>\n",
              "      <td>104586.972651</td>\n",
              "      <td>19.000000</td>\n",
              "      <td>2.816737</td>\n",
              "      <td>13.696120</td>\n",
              "      <td>10.107948</td>\n",
              "    </tr>\n",
              "    <tr>\n",
              "      <th>1% Low Fat Milk</th>\n",
              "      <td>31981.0</td>\n",
              "      <td>1.688792e+06</td>\n",
              "      <td>5.464010</td>\n",
              "      <td>0.792679</td>\n",
              "      <td>104185.473077</td>\n",
              "      <td>15.279525</td>\n",
              "      <td>2.733908</td>\n",
              "      <td>13.377029</td>\n",
              "      <td>11.950156</td>\n",
              "    </tr>\n",
              "    <tr>\n",
              "      <th>1% Lowfat Milk</th>\n",
              "      <td>24024.0</td>\n",
              "      <td>1.715519e+06</td>\n",
              "      <td>5.657909</td>\n",
              "      <td>0.814729</td>\n",
              "      <td>104166.936632</td>\n",
              "      <td>17.276069</td>\n",
              "      <td>2.762524</td>\n",
              "      <td>13.285121</td>\n",
              "      <td>11.115526</td>\n",
              "    </tr>\n",
              "  </tbody>\n",
              "</table>\n",
              "</div>"
            ],
            "text/plain": [
              "                          product_id  ...  days_since_prior_order\n",
              "product_name                          ...                        \n",
              "0% Fat Free Organic Milk     49517.0  ...               12.045393\n",
              "0% Greek Strained Yogurt     38928.0  ...               10.375760\n",
              "1 Liter                       5428.0  ...               10.107948\n",
              "1% Low Fat Milk              31981.0  ...               11.950156\n",
              "1% Lowfat Milk               24024.0  ...               11.115526\n",
              "\n",
              "[5 rows x 9 columns]"
            ]
          },
          "metadata": {
            "tags": []
          },
          "execution_count": 21
        }
      ]
    },
    {
      "cell_type": "code",
      "metadata": {
        "id": "8YBEwsjEnzsY",
        "colab_type": "code",
        "colab": {
          "base_uri": "https://localhost:8080/",
          "height": 846
        },
        "outputId": "2a4c7aef-bed3-460b-b5f6-68878409bdb4"
      },
      "source": [
        "merged3.nlargest(25,'order_hour_of_day')"
      ],
      "execution_count": 22,
      "outputs": [
        {
          "output_type": "execute_result",
          "data": {
            "text/html": [
              "<div>\n",
              "<style scoped>\n",
              "    .dataframe tbody tr th:only-of-type {\n",
              "        vertical-align: middle;\n",
              "    }\n",
              "\n",
              "    .dataframe tbody tr th {\n",
              "        vertical-align: top;\n",
              "    }\n",
              "\n",
              "    .dataframe thead th {\n",
              "        text-align: right;\n",
              "    }\n",
              "</style>\n",
              "<table border=\"1\" class=\"dataframe\">\n",
              "  <thead>\n",
              "    <tr style=\"text-align: right;\">\n",
              "      <th></th>\n",
              "      <th>product_id</th>\n",
              "      <th>order_id</th>\n",
              "      <th>add_to_cart_order</th>\n",
              "      <th>reordered</th>\n",
              "      <th>user_id</th>\n",
              "      <th>order_number</th>\n",
              "      <th>order_dow</th>\n",
              "      <th>order_hour_of_day</th>\n",
              "      <th>days_since_prior_order</th>\n",
              "    </tr>\n",
              "    <tr>\n",
              "      <th>product_name</th>\n",
              "      <th></th>\n",
              "      <th></th>\n",
              "      <th></th>\n",
              "      <th></th>\n",
              "      <th></th>\n",
              "      <th></th>\n",
              "      <th></th>\n",
              "      <th></th>\n",
              "      <th></th>\n",
              "    </tr>\n",
              "  </thead>\n",
              "  <tbody>\n",
              "    <tr>\n",
              "      <th>Half Baked Frozen Yogurt</th>\n",
              "      <td>30668.0</td>\n",
              "      <td>1.709979e+06</td>\n",
              "      <td>8.413342</td>\n",
              "      <td>0.454241</td>\n",
              "      <td>102580.086825</td>\n",
              "      <td>12.721757</td>\n",
              "      <td>2.859202</td>\n",
              "      <td>14.526986</td>\n",
              "      <td>12.968406</td>\n",
              "    </tr>\n",
              "    <tr>\n",
              "      <th>The Tonight Dough™ Ice Cream</th>\n",
              "      <td>45541.0</td>\n",
              "      <td>1.710629e+06</td>\n",
              "      <td>8.073637</td>\n",
              "      <td>0.458400</td>\n",
              "      <td>104264.941664</td>\n",
              "      <td>13.680905</td>\n",
              "      <td>3.008288</td>\n",
              "      <td>14.526299</td>\n",
              "      <td>12.454922</td>\n",
              "    </tr>\n",
              "    <tr>\n",
              "      <th>Americone Dream® Ice Cream</th>\n",
              "      <td>45681.0</td>\n",
              "      <td>1.707003e+06</td>\n",
              "      <td>8.323406</td>\n",
              "      <td>0.490461</td>\n",
              "      <td>104286.720645</td>\n",
              "      <td>12.883512</td>\n",
              "      <td>2.950830</td>\n",
              "      <td>14.394912</td>\n",
              "      <td>12.384097</td>\n",
              "    </tr>\n",
              "    <tr>\n",
              "      <th>Half Baked® Ice Cream</th>\n",
              "      <td>46175.0</td>\n",
              "      <td>1.697562e+06</td>\n",
              "      <td>8.465124</td>\n",
              "      <td>0.450659</td>\n",
              "      <td>102859.179524</td>\n",
              "      <td>12.111218</td>\n",
              "      <td>2.889103</td>\n",
              "      <td>14.388942</td>\n",
              "      <td>12.941580</td>\n",
              "    </tr>\n",
              "    <tr>\n",
              "      <th>Phish Food® Ice Cream</th>\n",
              "      <td>14335.0</td>\n",
              "      <td>1.722130e+06</td>\n",
              "      <td>8.341832</td>\n",
              "      <td>0.524709</td>\n",
              "      <td>102616.117721</td>\n",
              "      <td>14.655965</td>\n",
              "      <td>2.917847</td>\n",
              "      <td>14.373308</td>\n",
              "      <td>12.254232</td>\n",
              "    </tr>\n",
              "    <tr>\n",
              "      <th>Milk and Cookies Ice Cream</th>\n",
              "      <td>38374.0</td>\n",
              "      <td>1.703600e+06</td>\n",
              "      <td>8.532070</td>\n",
              "      <td>0.521539</td>\n",
              "      <td>102538.192035</td>\n",
              "      <td>15.169634</td>\n",
              "      <td>2.919969</td>\n",
              "      <td>14.369711</td>\n",
              "      <td>11.823154</td>\n",
              "    </tr>\n",
              "    <tr>\n",
              "      <th>Sicilian Pistachio</th>\n",
              "      <td>38003.0</td>\n",
              "      <td>1.718808e+06</td>\n",
              "      <td>8.695168</td>\n",
              "      <td>0.444056</td>\n",
              "      <td>103767.440242</td>\n",
              "      <td>13.903369</td>\n",
              "      <td>3.045772</td>\n",
              "      <td>14.306421</td>\n",
              "      <td>11.836289</td>\n",
              "    </tr>\n",
              "    <tr>\n",
              "      <th>Chocolate Peanut Butter Cup Gelato</th>\n",
              "      <td>28682.0</td>\n",
              "      <td>1.750513e+06</td>\n",
              "      <td>8.933939</td>\n",
              "      <td>0.496121</td>\n",
              "      <td>102972.399911</td>\n",
              "      <td>14.260253</td>\n",
              "      <td>2.969851</td>\n",
              "      <td>14.303480</td>\n",
              "      <td>11.917144</td>\n",
              "    </tr>\n",
              "    <tr>\n",
              "      <th>Birthday Cake Light Ice Cream</th>\n",
              "      <td>48523.0</td>\n",
              "      <td>1.722630e+06</td>\n",
              "      <td>7.132918</td>\n",
              "      <td>0.458989</td>\n",
              "      <td>99547.009703</td>\n",
              "      <td>14.599597</td>\n",
              "      <td>2.818198</td>\n",
              "      <td>14.292018</td>\n",
              "      <td>12.486755</td>\n",
              "    </tr>\n",
              "    <tr>\n",
              "      <th>Cherry Garcia Ice Cream</th>\n",
              "      <td>47993.0</td>\n",
              "      <td>1.711088e+06</td>\n",
              "      <td>8.431368</td>\n",
              "      <td>0.514794</td>\n",
              "      <td>104013.834705</td>\n",
              "      <td>13.952836</td>\n",
              "      <td>3.002892</td>\n",
              "      <td>14.270300</td>\n",
              "      <td>12.256435</td>\n",
              "    </tr>\n",
              "    <tr>\n",
              "      <th>Strawberry Ice Cream</th>\n",
              "      <td>40002.0</td>\n",
              "      <td>1.702488e+06</td>\n",
              "      <td>7.898112</td>\n",
              "      <td>0.470276</td>\n",
              "      <td>103242.442971</td>\n",
              "      <td>14.390232</td>\n",
              "      <td>2.894211</td>\n",
              "      <td>14.268841</td>\n",
              "      <td>11.823677</td>\n",
              "    </tr>\n",
              "    <tr>\n",
              "      <th>Vanilla Bean Light Ice Cream</th>\n",
              "      <td>21463.0</td>\n",
              "      <td>1.675462e+06</td>\n",
              "      <td>6.364207</td>\n",
              "      <td>0.549254</td>\n",
              "      <td>102429.582810</td>\n",
              "      <td>15.303571</td>\n",
              "      <td>2.837323</td>\n",
              "      <td>14.257849</td>\n",
              "      <td>11.255265</td>\n",
              "    </tr>\n",
              "    <tr>\n",
              "      <th>Coffee Ice Cream</th>\n",
              "      <td>17334.0</td>\n",
              "      <td>1.719317e+06</td>\n",
              "      <td>7.733824</td>\n",
              "      <td>0.537681</td>\n",
              "      <td>102171.027150</td>\n",
              "      <td>14.142857</td>\n",
              "      <td>2.929206</td>\n",
              "      <td>14.256280</td>\n",
              "      <td>12.088659</td>\n",
              "    </tr>\n",
              "    <tr>\n",
              "      <th>Roman Raspberry Sorbetto</th>\n",
              "      <td>45368.0</td>\n",
              "      <td>1.693957e+06</td>\n",
              "      <td>9.459264</td>\n",
              "      <td>0.411136</td>\n",
              "      <td>106383.274615</td>\n",
              "      <td>15.270211</td>\n",
              "      <td>2.944637</td>\n",
              "      <td>14.248191</td>\n",
              "      <td>11.768481</td>\n",
              "    </tr>\n",
              "    <tr>\n",
              "      <th>Mediterranean Mint Gelato</th>\n",
              "      <td>20754.0</td>\n",
              "      <td>1.704625e+06</td>\n",
              "      <td>9.141458</td>\n",
              "      <td>0.508621</td>\n",
              "      <td>100236.804598</td>\n",
              "      <td>14.933516</td>\n",
              "      <td>2.925418</td>\n",
              "      <td>14.233542</td>\n",
              "      <td>12.149333</td>\n",
              "    </tr>\n",
              "    <tr>\n",
              "      <th>Caramel Cookie Crunch Gelato</th>\n",
              "      <td>13885.0</td>\n",
              "      <td>1.722033e+06</td>\n",
              "      <td>8.920413</td>\n",
              "      <td>0.458282</td>\n",
              "      <td>100121.213923</td>\n",
              "      <td>13.364527</td>\n",
              "      <td>2.930558</td>\n",
              "      <td>14.224069</td>\n",
              "      <td>11.828550</td>\n",
              "    </tr>\n",
              "    <tr>\n",
              "      <th>Chocolate Chip Cookie Dough Ice Cream</th>\n",
              "      <td>12276.0</td>\n",
              "      <td>1.699407e+06</td>\n",
              "      <td>8.587726</td>\n",
              "      <td>0.474693</td>\n",
              "      <td>102386.172881</td>\n",
              "      <td>13.201052</td>\n",
              "      <td>2.923904</td>\n",
              "      <td>14.204325</td>\n",
              "      <td>12.334609</td>\n",
              "    </tr>\n",
              "    <tr>\n",
              "      <th>Mint Chip</th>\n",
              "      <td>2361.0</td>\n",
              "      <td>1.730589e+06</td>\n",
              "      <td>7.172202</td>\n",
              "      <td>0.497871</td>\n",
              "      <td>103736.740249</td>\n",
              "      <td>16.004429</td>\n",
              "      <td>2.763924</td>\n",
              "      <td>14.189235</td>\n",
              "      <td>12.115254</td>\n",
              "    </tr>\n",
              "    <tr>\n",
              "      <th>Coconut Almond Minis Frozen Dessert Bars</th>\n",
              "      <td>47652.0</td>\n",
              "      <td>1.706274e+06</td>\n",
              "      <td>9.023699</td>\n",
              "      <td>0.515318</td>\n",
              "      <td>103281.137572</td>\n",
              "      <td>15.915607</td>\n",
              "      <td>2.847977</td>\n",
              "      <td>14.156069</td>\n",
              "      <td>11.236098</td>\n",
              "    </tr>\n",
              "    <tr>\n",
              "      <th>Mint Chocolate Chip Ice Cream</th>\n",
              "      <td>38563.0</td>\n",
              "      <td>1.727455e+06</td>\n",
              "      <td>9.224148</td>\n",
              "      <td>0.491336</td>\n",
              "      <td>101839.814142</td>\n",
              "      <td>13.750419</td>\n",
              "      <td>2.903018</td>\n",
              "      <td>14.134992</td>\n",
              "      <td>11.844398</td>\n",
              "    </tr>\n",
              "    <tr>\n",
              "      <th>Chocolate Peanut Butter Ice Cream</th>\n",
              "      <td>22620.0</td>\n",
              "      <td>1.747070e+06</td>\n",
              "      <td>7.254038</td>\n",
              "      <td>0.562825</td>\n",
              "      <td>109418.673145</td>\n",
              "      <td>14.645497</td>\n",
              "      <td>2.989050</td>\n",
              "      <td>14.120449</td>\n",
              "      <td>11.840341</td>\n",
              "    </tr>\n",
              "    <tr>\n",
              "      <th>Vanilla Milk Chocolate Almond Ice Cream Bars</th>\n",
              "      <td>8638.0</td>\n",
              "      <td>1.699342e+06</td>\n",
              "      <td>7.893473</td>\n",
              "      <td>0.521678</td>\n",
              "      <td>103964.079720</td>\n",
              "      <td>13.097902</td>\n",
              "      <td>2.870862</td>\n",
              "      <td>14.104662</td>\n",
              "      <td>12.139576</td>\n",
              "    </tr>\n",
              "    <tr>\n",
              "      <th>Sea Salt Caramel Gelato</th>\n",
              "      <td>41319.0</td>\n",
              "      <td>1.737457e+06</td>\n",
              "      <td>9.310914</td>\n",
              "      <td>0.417467</td>\n",
              "      <td>101306.666284</td>\n",
              "      <td>14.053635</td>\n",
              "      <td>3.066542</td>\n",
              "      <td>14.083895</td>\n",
              "      <td>12.220155</td>\n",
              "    </tr>\n",
              "    <tr>\n",
              "      <th>Vanilla Bean Ice Cream</th>\n",
              "      <td>4932.0</td>\n",
              "      <td>1.712352e+06</td>\n",
              "      <td>8.896641</td>\n",
              "      <td>0.492679</td>\n",
              "      <td>102641.523040</td>\n",
              "      <td>17.595177</td>\n",
              "      <td>2.986003</td>\n",
              "      <td>14.039406</td>\n",
              "      <td>10.615156</td>\n",
              "    </tr>\n",
              "    <tr>\n",
              "      <th>Rising Crust Pepperoni Pizza</th>\n",
              "      <td>27179.0</td>\n",
              "      <td>1.732711e+06</td>\n",
              "      <td>8.288118</td>\n",
              "      <td>0.527828</td>\n",
              "      <td>106161.965830</td>\n",
              "      <td>10.686254</td>\n",
              "      <td>2.853999</td>\n",
              "      <td>14.027699</td>\n",
              "      <td>14.306543</td>\n",
              "    </tr>\n",
              "  </tbody>\n",
              "</table>\n",
              "</div>"
            ],
            "text/plain": [
              "                                              product_id  ...  days_since_prior_order\n",
              "product_name                                              ...                        \n",
              "Half Baked Frozen Yogurt                         30668.0  ...               12.968406\n",
              "The Tonight Dough™ Ice Cream                     45541.0  ...               12.454922\n",
              "Americone Dream® Ice Cream                       45681.0  ...               12.384097\n",
              "Half Baked® Ice Cream                            46175.0  ...               12.941580\n",
              "Phish Food® Ice Cream                            14335.0  ...               12.254232\n",
              "Milk and Cookies Ice Cream                       38374.0  ...               11.823154\n",
              "Sicilian Pistachio                               38003.0  ...               11.836289\n",
              "Chocolate Peanut Butter Cup Gelato               28682.0  ...               11.917144\n",
              "Birthday Cake Light Ice Cream                    48523.0  ...               12.486755\n",
              "Cherry Garcia Ice Cream                          47993.0  ...               12.256435\n",
              "Strawberry Ice Cream                             40002.0  ...               11.823677\n",
              "Vanilla Bean Light Ice Cream                     21463.0  ...               11.255265\n",
              "Coffee Ice Cream                                 17334.0  ...               12.088659\n",
              "Roman Raspberry Sorbetto                         45368.0  ...               11.768481\n",
              "Mediterranean Mint Gelato                        20754.0  ...               12.149333\n",
              "Caramel Cookie Crunch Gelato                     13885.0  ...               11.828550\n",
              "Chocolate Chip Cookie Dough Ice Cream            12276.0  ...               12.334609\n",
              "Mint Chip                                         2361.0  ...               12.115254\n",
              "Coconut Almond Minis Frozen Dessert Bars         47652.0  ...               11.236098\n",
              "Mint Chocolate Chip Ice Cream                    38563.0  ...               11.844398\n",
              "Chocolate Peanut Butter Ice Cream                22620.0  ...               11.840341\n",
              "Vanilla Milk Chocolate Almond Ice Cream Bars      8638.0  ...               12.139576\n",
              "Sea Salt Caramel Gelato                          41319.0  ...               12.220155\n",
              "Vanilla Bean Ice Cream                            4932.0  ...               10.615156\n",
              "Rising Crust Pepperoni Pizza                     27179.0  ...               14.306543\n",
              "\n",
              "[25 rows x 9 columns]"
            ]
          },
          "metadata": {
            "tags": []
          },
          "execution_count": 22
        }
      ]
    },
    {
      "cell_type": "markdown",
      "metadata": {
        "id": "Ij8S60q0YXxo",
        "colab_type": "text"
      },
      "source": [
        "## Reshape Data Stretch Challenge\n",
        "\n",
        "_Try whatever sounds most interesting to you!_\n",
        "\n",
        "- Replicate more of Instacart's visualization showing \"Hour of Day Ordered\" vs \"Percent of Orders by Product\"\n",
        "- Replicate parts of the other visualization from [Instacart's blog post](https://tech.instacart.com/3-million-instacart-orders-open-sourced-d40d29ead6f2), showing \"Number of Purchases\" vs \"Percent Reorder Purchases\"\n",
        "- Get the most recent order for each user in Instacart's dataset. This is a useful baseline when [predicting a user's next order](https://www.kaggle.com/c/instacart-market-basket-analysis)\n",
        "- Replicate parts of the blog post linked at the top of this notebook: [Modern Pandas, Part 5: Tidy Data](https://tomaugspurger.github.io/modern-5-tidy.html)"
      ]
    },
    {
      "cell_type": "code",
      "metadata": {
        "id": "_d6IA2R0YXFY",
        "colab_type": "code",
        "colab": {}
      },
      "source": [
        "last_orders = merged2.sort_values('order_id', ascending=False).drop_duplicates(['user_id'])"
      ],
      "execution_count": 0,
      "outputs": []
    },
    {
      "cell_type": "code",
      "metadata": {
        "id": "a6TEttFUq_rh",
        "colab_type": "code",
        "colab": {}
      },
      "source": [
        "last_orders=last_orders[['user_id',\n",
        "                       'order_id']]"
      ],
      "execution_count": 0,
      "outputs": []
    },
    {
      "cell_type": "code",
      "metadata": {
        "id": "cVy1el60rBH-",
        "colab_type": "code",
        "colab": {
          "base_uri": "https://localhost:8080/",
          "height": 202
        },
        "outputId": "15750643-73a4-40f9-e5a5-edff98e808f8"
      },
      "source": [
        "last_orders.head()"
      ],
      "execution_count": 30,
      "outputs": [
        {
          "output_type": "execute_result",
          "data": {
            "text/html": [
              "<div>\n",
              "<style scoped>\n",
              "    .dataframe tbody tr th:only-of-type {\n",
              "        vertical-align: middle;\n",
              "    }\n",
              "\n",
              "    .dataframe tbody tr th {\n",
              "        vertical-align: top;\n",
              "    }\n",
              "\n",
              "    .dataframe thead th {\n",
              "        text-align: right;\n",
              "    }\n",
              "</style>\n",
              "<table border=\"1\" class=\"dataframe\">\n",
              "  <thead>\n",
              "    <tr style=\"text-align: right;\">\n",
              "      <th></th>\n",
              "      <th>user_id</th>\n",
              "      <th>order_id</th>\n",
              "    </tr>\n",
              "  </thead>\n",
              "  <tbody>\n",
              "    <tr>\n",
              "      <th>20538670</th>\n",
              "      <td>25247</td>\n",
              "      <td>3421083</td>\n",
              "    </tr>\n",
              "    <tr>\n",
              "      <th>30734620</th>\n",
              "      <td>175185</td>\n",
              "      <td>3421082</td>\n",
              "    </tr>\n",
              "    <tr>\n",
              "      <th>16352924</th>\n",
              "      <td>117076</td>\n",
              "      <td>3421081</td>\n",
              "    </tr>\n",
              "    <tr>\n",
              "      <th>22071001</th>\n",
              "      <td>52726</td>\n",
              "      <td>3421080</td>\n",
              "    </tr>\n",
              "    <tr>\n",
              "      <th>33621850</th>\n",
              "      <td>108687</td>\n",
              "      <td>3421079</td>\n",
              "    </tr>\n",
              "  </tbody>\n",
              "</table>\n",
              "</div>"
            ],
            "text/plain": [
              "          user_id  order_id\n",
              "20538670    25247   3421083\n",
              "30734620   175185   3421082\n",
              "16352924   117076   3421081\n",
              "22071001    52726   3421080\n",
              "33621850   108687   3421079"
            ]
          },
          "metadata": {
            "tags": []
          },
          "execution_count": 30
        }
      ]
    },
    {
      "cell_type": "code",
      "metadata": {
        "id": "K1s0CbTDrYiX",
        "colab_type": "code",
        "colab": {}
      },
      "source": [
        ""
      ],
      "execution_count": 0,
      "outputs": []
    }
  ]
}