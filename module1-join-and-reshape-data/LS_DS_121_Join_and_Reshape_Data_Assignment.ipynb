<<<<<<< HEAD
{"cells":[{"source":"# Change directory to VSCode workspace root so that relative path loads work correctly. Turn this addition off with the DataScience.changeDirOnImportExport setting\nimport os\ntry:\n\tos.chdir(os.path.join(os.getcwd(), '..'))\n\tprint(os.getcwd())\nexcept:\n\tpass\n","cell_type":"code","outputs":[],"metadata":{},"execution_count":0},{"source":["import os\n","try:\n","\tos.chdir(os.path.join(os.getcwd(), 'module1-join-and-reshape-data'))\n","\t#print(os.getcwd())\n","except:\n","\tpass"],"cell_type":"code","outputs":[],"metadata":{},"execution_count":1},{"cell_type":"markdown","source":[" _Lambda School Data Science_\n","\n"," # Join and Reshape datasets\n","\n"," Objectives\n"," - concatenate data with pandas\n"," - merge data with pandas\n"," -  understand tidy data formatting\n"," -  melt and pivot data with pandas\n","\n"," Links\n"," - [Pandas Cheat Sheet](https://github.com/pandas-dev/pandas/blob/master/doc/cheatsheet/Pandas_Cheat_Sheet.pdf)\n"," - [Tidy Data](https://en.wikipedia.org/wiki/Tidy_data)\n","   - Combine Data Sets: Standard Joins\n","   - Tidy Data\n","   - Reshaping Data\n"," - Python Data Science Handbook\n","   - [Chapter 3.6](https://jakevdp.github.io/PythonDataScienceHandbook/03.06-concat-and-append.html), Combining Datasets: Concat and Append\n","   - [Chapter 3.7](https://jakevdp.github.io/PythonDataScienceHandbook/03.07-merge-and-join.html), Combining Datasets: Merge and Join\n","   - [Chapter 3.8](https://jakevdp.github.io/PythonDataScienceHandbook/03.08-aggregation-and-grouping.html), Aggregation and Grouping\n","   - [Chapter 3.9](https://jakevdp.github.io/PythonDataScienceHandbook/03.09-pivot-tables.html), Pivot Tables\n","\n"," Reference\n"," - Pandas Documentation: [Reshaping and Pivot Tables](https://pandas.pydata.org/pandas-docs/stable/reshaping.html)\n"," - Modern Pandas, Part 5: [Tidy Data](https://tomaugspurger.github.io/modern-5-tidy.html)"],"metadata":{}},{"source":["get_ipython().system('rm instacart_2017_05_01/*')\n","get_ipython().system('wget -N https://s3.amazonaws.com/instacart-datasets/instacart_online_grocery_shopping_2017_05_01.tar.gz')\n","\n",""],"cell_type":"code","outputs":[{"output_type":"stream","name":"stdout","text":"rm: cannot remove ‘instacart_2017_05_01/*’: No such file or directory\r\n--2019-09-09 14:09:05--  https://s3.amazonaws.com/instacart-datasets/instacart_online_grocery_shopping_2017_05_01.tar.gz\r\nResolving s3.amazonaws.com (s3.amazonaws.com)... 52.216.95.141\r\nConnecting to s3.amazonaws.com (s3.amazonaws.com)|52.216.95.141|:443... connected.\r\nHTTP request sent, awaiting response... 200 OK\r\nLength: 205548478 (196M) [application/x-gzip]\r\nSaving to: ‘instacart_online_grocery_shopping_2017_05_01.tar.gz’\r\n\r\n\r 0% [                                       ] 0           --.-K/s              \r 0% [                                       ] 146,995      552KB/s             \r 0% [                                       ] 808,499     1.67MB/s             \r 1% [                                       ] 2,413,771   3.47MB/s             \r 1% [                                       ] 3,904,835   4.30MB/s             \r 2% [>                                      ] 5,314,099   4.74MB/s             \r 3% [>                                      ] 6,706,619   5.01MB/s             \r 3% [>                                      ] 8,050,059   5.18MB/s             \r 4% [>                                      ] 9,442,579   5.34MB/s             \r 5% [=>                                     ] 10,802,379  5.45MB/s             \r 5% [=>                                     ] 12,080,379  5.51MB/s             \r 6% [=>                                     ] 13,522,363  5.62MB/s             \r 7% [=>                                     ] 14,996,683  5.73MB/s             \r 7% [==>                                    ] 16,405,947  5.79MB/s             \r 8% [==>                                    ] 17,749,387  5.83MB/s             \r 9% [==>                                    ] 19,076,467  5.86MB/s  eta 30s    \r 9% [==>                                    ] 20,403,547  6.19MB/s  eta 30s    \r10% [===>                                   ] 21,714,267  6.46MB/s  eta 30s    \r11% [===>                                   ] 23,156,251  6.50MB/s  eta 30s    \r11% [===>                                   ] 24,548,771  6.48MB/s  eta 30s    \r12% [===>                                   ] 25,892,211  6.48MB/s  eta 29s    \r13% [====>                                  ] 27,186,571  6.42MB/s  eta 29s    \r13% [====>                                  ] 28,759,435  6.47MB/s  eta 29s    \r14% [====>                                  ] 30,201,035  6.49MB/s  eta 29s    \r15% [=====>                                 ] 31,626,659  6.52MB/s  eta 29s    \r16% [=====>                                 ] 32,888,299  6.48MB/s  eta 27s    \r16% [=====>                                 ] 34,264,459  6.46MB/s  eta 27s    \r17% [=====>                                 ] 35,640,619  6.49MB/s  eta 27s    \r17% [======>                                ] 36,984,059  6.48MB/s  eta 27s    \r18% [======>                                ] 38,344,243  6.47MB/s  eta 27s    \r19% [======>                                ] 39,695,851  6.44MB/s  eta 26s    \r19% [======>                                ] 40,998,403  6.43MB/s  eta 26s    \r20% [=======>                               ] 42,325,483  6.43MB/s  eta 26s    \r21% [=======>                               ] 43,718,003  6.44MB/s  eta 26s    \r21% [=======>                               ] 44,996,003  6.39MB/s  eta 26s    \r22% [=======>                               ] 46,306,723  6.37MB/s  eta 25s    \r23% [========>                              ] 47,731,963  6.42MB/s  eta 25s    \r23% [========>                              ] 49,026,323  6.26MB/s  eta 25s    \r24% [========>                              ] 50,402,867  6.28MB/s  eta 25s    \r25% [========>                              ] 51,844,467  6.33MB/s  eta 25s    \r25% [=========>                             ] 53,302,811  6.35MB/s  eta 23s    \r26% [=========>                             ] 54,892,035  6.40MB/s  eta 23s    \r27% [=========>                             ] 56,268,195  6.41MB/s  eta 23s    \r28% [=========>                             ] 57,677,075  6.42MB/s  eta 23s    \r28% [==========>                            ] 59,045,043  6.45MB/s  eta 23s    \r29% [==========>                            ] 60,462,499  6.48MB/s  eta 22s    \r30% [==========>                            ] 61,724,139  6.44MB/s  eta 22s    \r30% [==========>                            ] 63,149,379  6.46MB/s  eta 22s    \r31% [===========>                           ] 64,541,899  6.48MB/s  eta 22s    \r32% [===========>                           ] 66,032,963  6.51MB/s  eta 22s    \r32% [===========>                           ] 67,212,803  6.48MB/s  eta 21s    \r33% [============>                          ] 68,556,243  6.48MB/s  eta 21s    \r33% [============>                          ] 69,719,339  6.40MB/s  eta 21s    \r34% [============>                          ] 70,767,915  6.33MB/s  eta 21s    \r35% [============>                          ] 72,357,139  6.42MB/s  eta 21s    \r35% [============>                          ] 73,651,499  6.37MB/s  eta 20s    \r36% [=============>                         ] 74,945,859  6.36MB/s  eta 20s    \r37% [=============>                         ] 76,207,499  6.29MB/s  eta 20s    \r37% [=============>                         ] 77,469,139  6.19MB/s  eta 20s    \r38% [=============>                         ] 78,648,595  6.14MB/s  eta 20s    \r38% [==============>                        ] 80,025,139  6.18MB/s  eta 19s    \r39% [==============>                        ] 81,302,755  6.12MB/s  eta 19s    \r40% [==============>                        ] 82,679,299  6.11MB/s  eta 19s    \r40% [==============>                        ] 84,022,739  6.12MB/s  eta 19s    \r41% [===============>                       ] 85,202,195  6.05MB/s  eta 19s    \r42% [===============>                       ] 86,545,635  6.07MB/s  eta 18s    \r42% [===============>                       ] 87,938,539  6.01MB/s  eta 18s    \r43% [===============>                       ] 89,347,419  6.18MB/s  eta 18s    \r44% [================>                      ] 90,592,699  6.20MB/s  eta 18s    \r44% [================>                      ] 91,985,219  6.28MB/s  eta 18s    \r45% [================>                      ] 93,214,139  6.20MB/s  eta 17s    \r45% [================>                      ] 94,328,155  6.14MB/s  eta 17s    \r46% [=================>                     ] 95,573,435  6.10MB/s  eta 17s    \r47% [=================>                     ] 96,703,811  6.06MB/s  eta 17s    \r47% [=================>                     ] 98,030,891  6.06MB/s  eta 17s    \r48% [=================>                     ] 99,341,611  6.08MB/s  eta 16s    \r48% [==================>                    ] 100,652,331 6.09MB/s  eta 16s    \r49% [==================>                    ] 101,832,171 6.06MB/s  eta 16s    \r50% [==================>                    ] 103,027,987 6.01MB/s  eta 16s    \r50% [==================>                    ] 104,224,187 5.99MB/s  eta 16s    \r51% [==================>                    ] 105,403,643 5.85MB/s  eta 15s    \r51% [===================>                   ] 106,698,003 5.86MB/s  eta 15s    \r52% [===================>                   ] 108,057,803 5.88MB/s  eta 15s    \r53% [===================>                   ] 109,335,803 5.88MB/s  eta 15s    \r53% [====================>                  ] 110,728,707 5.89MB/s  eta 15s    \r54% [====================>                  ] 112,072,147 5.90MB/s  eta 14s    \r55% [====================>                  ] 113,399,227 5.94MB/s  eta 14s    \r55% [====================>                  ] 114,791,747 5.99MB/s  eta 14s    \r56% [=====================>                 ] 116,102,467 6.06MB/s  eta 14s    \r57% [=====================>                 ] 117,445,907 6.07MB/s  eta 14s    \r57% [=====================>                 ] 118,789,347 6.09MB/s  eta 13s    \r58% [=====================>                 ] 120,116,427 6.10MB/s  eta 13s    \r59% [======================>                ] 121,492,971 6.13MB/s  eta 13s    \r59% [======================>                ] 122,852,771 6.17MB/s  eta 13s    \r60% [======================>                ] 124,212,571 6.25MB/s  eta 13s    \r61% [======================>                ] 125,539,651 6.27MB/s  eta 12s    \r61% [=======================>               ] 126,850,371 6.36MB/s  eta 12s    \r62% [=======================>               ] 128,210,171 6.30MB/s  eta 12s    \r63% [=======================>               ] 129,586,715 6.32MB/s  eta 12s    \r63% [=======================>               ] 130,930,155 6.32MB/s  eta 12s    \r64% [========================>              ] 132,273,595 6.32MB/s  eta 11s    \r64% [========================>              ] 133,584,315 6.31MB/s  eta 11s    \r65% [========================>              ] 134,903,203 6.31MB/s  eta 11s    \r66% [========================>              ] 136,238,475 6.29MB/s  eta 11s    \r66% [=========================>             ] 137,663,715 6.31MB/s  eta 11s    \r67% [=========================>             ] 139,056,619 6.33MB/s  eta 10s    \r68% [=========================>             ] 140,416,419 6.35MB/s  eta 10s    \r68% [=========================>             ] 141,808,939 6.35MB/s  eta 10s    \r69% [==========================>            ] 143,152,379 6.35MB/s  eta 10s    \r70% [==========================>            ] 144,397,659 6.31MB/s  eta 10s    \r70% [==========================>            ] 145,692,019 6.31MB/s  eta 9s     \r71% [==========================>            ] 146,937,299 6.29MB/s  eta 9s     \r72% [===========================>           ] 148,231,659 6.28MB/s  eta 9s     \r72% [===========================>           ] 149,591,459 6.28MB/s  eta 9s     \r73% [===========================>           ] 150,934,899 6.28MB/s  eta 9s     \r74% [===========================>           ] 152,327,419 6.31MB/s  eta 8s     \r74% [============================>          ] 153,621,779 6.30MB/s  eta 8s     \r75% [============================>          ] 155,031,043 6.31MB/s  eta 8s     \r76% [============================>          ] 156,358,123 6.31MB/s  eta 8s     \r76% [============================>          ] 157,652,483 6.27MB/s  eta 8s     \r77% [=============================>         ] 158,553,435 6.14MB/s  eta 7s     \r77% [=============================>         ] 159,602,011 6.03MB/s  eta 7s     \r78% [=============================>         ] 160,814,571 5.98MB/s  eta 7s     \r78% [=============================>         ] 162,272,531 6.04MB/s  eta 7s     \r79% [==============================>        ] 163,763,595 6.08MB/s  eta 7s     \r80% [==============================>        ] 165,172,475 6.10MB/s  eta 6s     \r81% [==============================>        ] 166,598,099 6.14MB/s  eta 6s     \r81% [==============================>        ] 167,974,259 6.18MB/s  eta 6s     \r82% [===============================>       ] 169,350,419 6.19MB/s  eta 6s     \r83% [===============================>       ] 170,808,763 6.20MB/s  eta 6s     \r83% [===============================>       ] 172,168,563 6.23MB/s  eta 5s     \r84% [===============================>       ] 173,643,267 6.26MB/s  eta 5s     \r85% [================================>      ] 175,035,787 6.27MB/s  eta 5s     \r85% [================================>      ] 176,461,027 6.30MB/s  eta 5s     \r86% [================================>      ] 177,722,667 6.26MB/s  eta 5s     \r87% [================================>      ] 178,967,947 6.31MB/s  eta 4s     \r87% [=================================>     ] 180,229,587 6.39MB/s  eta 4s     \r88% [=================================>     ] 181,425,403 6.41MB/s  eta 4s     \r88% [=================================>     ] 182,605,243 6.20MB/s  eta 4s     \r89% [=================================>     ] 183,883,243 6.19MB/s  eta 4s     \r90% [==================================>    ] 185,210,323 6.19MB/s  eta 3s     \r90% [==================================>    ] 186,684,643 6.21MB/s  eta 3s     \r91% [==================================>    ] 187,766,323 5.93MB/s  eta 3s     \r92% [==================================>    ] 189,339,187 5.83MB/s  eta 3s     \r93% [===================================>   ] 191,174,195 5.94MB/s  eta 2s     \r93% [===================================>   ] 192,648,515 5.95MB/s  eta 2s     \r94% [===================================>   ] 194,074,139 5.94MB/s  eta 2s     \r95% [====================================>  ] 195,515,739 5.98MB/s  eta 2s     \r95% [====================================>  ] 196,957,723 6.00MB/s  eta 2s     \r96% [====================================>  ] 198,366,603 6.06MB/s  eta 1s     \r97% [====================================>  ] 199,546,059 6.09MB/s  eta 1s     \r97% [=====================================> ] 200,758,619 6.06MB/s  eta 1s     \r98% [=====================================> ] 201,930,267 5.98MB/s  eta 1s     \r98% [=====================================> ] 203,117,915 6.00MB/s  eta 1s     \r99% [=====================================> ] 204,461,355 6.09MB/s  eta 0s     \r100%[======================================>] 205,548,478 6.06MB/s   in 32s    \r\n\r\n2019-09-09 14:09:37 (6.18 MB/s) - ‘instacart_online_grocery_shopping_2017_05_01.tar.gz’ saved [205548478/205548478]\r\n\r\n"}],"metadata":{},"execution_count":2},{"source":["get_ipython().system('tar -xzvf instacart_online_grocery_shopping_2017_05_01.tar.gz')\n",""],"cell_type":"code","outputs":[{"output_type":"stream","name":"stdout","text":"instacart_2017_05_01/\r\ninstacart_2017_05_01/._aisles.csv\r\ninstacart_2017_05_01/aisles.csv\r\ninstacart_2017_05_01/._departments.csv\r\ninstacart_2017_05_01/departments.csv\r\ninstacart_2017_05_01/._order_products__prior.csv\r\ninstacart_2017_05_01/order_products__prior.csv\r\ninstacart_2017_05_01/._order_products__train.csv\r\ninstacart_2017_05_01/order_products__train.csv\r\ninstacart_2017_05_01/._orders.csv\r\ninstacart_2017_05_01/orders.csv\r\ninstacart_2017_05_01/._products.csv\r\ninstacart_2017_05_01/products.csv\r\n"}],"metadata":{},"execution_count":3},{"source":["get_ipython().system('ls instacart_2017_05_01 -Alh')\n","\n",""],"cell_type":"code","outputs":[{"output_type":"stream","name":"stdout","text":"total 681M\r\n-rw-r--r--. 1 larkeith larkeith  226 May  2  2017 ._aisles.csv\r\n-rw-r--r--. 1 larkeith larkeith 2.6K May  2  2017 aisles.csv\r\n-rw-r--r--. 1 larkeith larkeith  226 May  2  2017 ._departments.csv\r\n-rw-r--r--. 1 larkeith larkeith  270 May  2  2017 departments.csv\r\n-rw-r--r--. 1 larkeith larkeith  226 May  2  2017 ._order_products__prior.csv\r\n-rw-r--r--. 1 larkeith larkeith 551M May  2  2017 order_products__prior.csv\r\n-rw-r--r--. 1 larkeith larkeith  226 May  2  2017 ._order_products__train.csv\r\n-rw-r--r--. 1 larkeith larkeith  24M May  2  2017 order_products__train.csv\r\n-rw-r--r--. 1 larkeith larkeith  226 May  2  2017 ._orders.csv\r\n-rw-r--r--. 1 larkeith larkeith 104M May  2  2017 orders.csv\r\n-rw-r--r--. 1 larkeith larkeith  226 May  2  2017 ._products.csv\r\n-rw-r--r--. 1 larkeith larkeith 2.1M May  2  2017 products.csv\r\n"}],"metadata":{},"execution_count":4},{"source":["get_ipython().system('head instacart_2017_05_01/*.csv -n 3')\n",""],"cell_type":"code","outputs":[{"output_type":"stream","name":"stdout","text":"==> instacart_2017_05_01/aisles.csv <==\r\naisle_id,aisle\r\n1,prepared soups salads\r\n2,specialty cheeses\r\n\r\n==> instacart_2017_05_01/departments.csv <==\r\ndepartment_id,department\r\n1,frozen\r\n2,other\r\n\r\n==> instacart_2017_05_01/order_products__prior.csv <==\r\norder_id,product_id,add_to_cart_order,reordered\r\n2,33120,1,1\r\n2,28985,2,1\r\n\r\n==> instacart_2017_05_01/order_products__train.csv <==\r\norder_id,product_id,add_to_cart_order,reordered\r\n1,49302,1,1\r\n1,11109,2,1\r\n\r\n==> instacart_2017_05_01/orders.csv <==\r\norder_id,user_id,eval_set,order_number,order_dow,order_hour_of_day,days_since_prior_order\r\n2539329,1,prior,1,2,08,\r\n2398795,1,prior,2,3,07,15.0\r\n\r\n==> instacart_2017_05_01/products.csv <==\r\nproduct_id,product_name,aisle_id,department_id\r\n1,Chocolate Sandwich Cookies,61,19\r\n2,All-Seasons Salt,104,13\r\n"}],"metadata":{},"execution_count":5},{"cell_type":"markdown","source":[" # Assignment\n","\n"," ## Join Data Practice\n","\n"," These are the top 10 most frequently ordered products. How many times was each ordered?\n","\n"," 1. Banana\n"," 2. Bag of Organic Bananas\n"," 3. Organic Strawberries\n"," 4. Organic Baby Spinach\n"," 5. Organic Hass Avocado\n"," 6. Organic Avocado\n"," 7. Large Lemon\n"," 8. Strawberries\n"," 9. Limes\n"," 10. Organic Whole Milk\n","\n"," First, write down which columns you need and which dataframes have them.\n","\n"," Next, merge these into a single dataframe.\n","\n"," Then, use pandas functions from the previous lesson to get the counts of the top 10 most frequently ordered products."],"metadata":{}},{"source":["import pandas\n","order_products = pandas.read_csv('instacart_2017_05_01/order_products__prior.csv')\n","orders = pandas.read_csv('instacart_2017_05_01/orders.csv')\n","products = pandas.read_csv('instacart_2017_05_01/products.csv')\n","\n","order_columns = ['order_id', 'order_hour_of_day']\n","product_columns = ['product_id', 'product_name']\n","order_product_columns = ['order_id', 'product_id']\n","\n","df_instacart = pandas.merge(orders[order_columns],\n","\t\t\t\t\tpandas.merge(products[product_columns], \n","\t\t\t\t\t\t\t\torder_products[order_product_columns], \n","\t\t\t\t\t\t\t\ton='product_id'),\n","\t\t\t\t\ton='order_id')\n","\n","df_instacart['product_name'].value_counts().head(10)\n",""],"cell_type":"code","outputs":[{"output_type":"execute_result","data":{"text/plain":"Banana                    472565\nBag of Organic Bananas    379450\nOrganic Strawberries      264683\nOrganic Baby Spinach      241921\nOrganic Hass Avocado      213584\nOrganic Avocado           176815\nLarge Lemon               152657\nStrawberries              142951\nLimes                     140627\nOrganic Whole Milk        137905\nName: product_name, dtype: int64"},"metadata":{},"execution_count":6}],"metadata":{},"execution_count":6},{"cell_type":"markdown","source":[" ## Reshape Data Section\n","\n"," - Replicate the lesson code\n"," - Complete the code cells we skipped near the beginning of the notebook\n"," - Table 2 --> Tidy\n"," - Tidy --> Table 2\n"," - Load seaborn's `flights` dataset by running the cell below. Then create a pivot table showing the number of passengers by month and year. Use year for the index and month for the columns. You've done it right if you get 112 passengers for January 1949 and 432 passengers for December 1960."],"metadata":{}},{"source":["import pandas, numpy\n","table1 = pandas.DataFrame(\n","    [[numpy.nan, 2],\n","     [16,    11], \n","     [3,      1]],\n","    index=['John Smith', 'Jane Doe', 'Mary Johnson'], \n","    columns=['treatmenta', 'treatmentb'])\n","\n","table2 = table1.T.reset_index().rename(columns={'index':'treatment'})\n","table2.head(10)\n",""],"cell_type":"code","outputs":[{"output_type":"execute_result","data":{"text/plain":"    treatment  John Smith  Jane Doe  Mary Johnson\n0  treatmenta         NaN      16.0           3.0\n1  treatmentb         2.0      11.0           1.0","text/html":"<div>\n<style scoped>\n    .dataframe tbody tr th:only-of-type {\n        vertical-align: middle;\n    }\n\n    .dataframe tbody tr th {\n        vertical-align: top;\n    }\n\n    .dataframe thead th {\n        text-align: right;\n    }\n</style>\n<table border=\"1\" class=\"dataframe\">\n  <thead>\n    <tr style=\"text-align: right;\">\n      <th></th>\n      <th>treatment</th>\n      <th>John Smith</th>\n      <th>Jane Doe</th>\n      <th>Mary Johnson</th>\n    </tr>\n  </thead>\n  <tbody>\n    <tr>\n      <td>0</td>\n      <td>treatmenta</td>\n      <td>NaN</td>\n      <td>16.0</td>\n      <td>3.0</td>\n    </tr>\n    <tr>\n      <td>1</td>\n      <td>treatmentb</td>\n      <td>2.0</td>\n      <td>11.0</td>\n      <td>1.0</td>\n    </tr>\n  </tbody>\n</table>\n</div>"},"metadata":{},"execution_count":7}],"metadata":{},"execution_count":7},{"source":["\n","\n","tidy = table2.melt(\n","\t\t\t\tid_vars=['treatment'], \n","\t\t\t\tvalue_vars=['John Smith', 'Jane Doe', 'Mary Johnson'],\n","\t\t\t\tvar_name='name',\n","\t\t\t\tvalue_name='result'\n","\t\t\t\t).replace(\n","\t\t\t\t\t\tto_replace={'treatmenta': 'a',\n","\t\t\t\t\t\t\t\t\t'treatmentb': 'b'}\n","\t\t\t\t\t\t)\n","\n","tidy.head(10)\n",""],"cell_type":"code","outputs":[{"output_type":"execute_result","data":{"text/plain":"  treatment          name  result\n0         a    John Smith     NaN\n1         b    John Smith     2.0\n2         a      Jane Doe    16.0\n3         b      Jane Doe    11.0\n4         a  Mary Johnson     3.0\n5         b  Mary Johnson     1.0","text/html":"<div>\n<style scoped>\n    .dataframe tbody tr th:only-of-type {\n        vertical-align: middle;\n    }\n\n    .dataframe tbody tr th {\n        vertical-align: top;\n    }\n\n    .dataframe thead th {\n        text-align: right;\n    }\n</style>\n<table border=\"1\" class=\"dataframe\">\n  <thead>\n    <tr style=\"text-align: right;\">\n      <th></th>\n      <th>treatment</th>\n      <th>name</th>\n      <th>result</th>\n    </tr>\n  </thead>\n  <tbody>\n    <tr>\n      <td>0</td>\n      <td>a</td>\n      <td>John Smith</td>\n      <td>NaN</td>\n    </tr>\n    <tr>\n      <td>1</td>\n      <td>b</td>\n      <td>John Smith</td>\n      <td>2.0</td>\n    </tr>\n    <tr>\n      <td>2</td>\n      <td>a</td>\n      <td>Jane Doe</td>\n      <td>16.0</td>\n    </tr>\n    <tr>\n      <td>3</td>\n      <td>b</td>\n      <td>Jane Doe</td>\n      <td>11.0</td>\n    </tr>\n    <tr>\n      <td>4</td>\n      <td>a</td>\n      <td>Mary Johnson</td>\n      <td>3.0</td>\n    </tr>\n    <tr>\n      <td>5</td>\n      <td>b</td>\n      <td>Mary Johnson</td>\n      <td>1.0</td>\n    </tr>\n  </tbody>\n</table>\n</div>"},"metadata":{},"execution_count":8}],"metadata":{},"execution_count":8},{"source":["table2_rebuilt = tidy.replace(\n","\t\t\t\t\t\t\tto_replace={'a': 'treatmenta',\n","\t\t\t\t\t\t\t\t\t\t'b': 'treatmentb'}\n","\t\t\t\t\t\t\t).pivot_table(\n","\t\t\t\t\t\t\t\t\t\tindex='treatment',\n","\t\t\t\t\t\t\t\t\t\tcolumns='name',\n","\t\t\t\t\t\t\t\t\t\tvalues='result'\n","\t\t\t\t\t\t\t\t\t\t)\n","\n","table2_rebuilt.head(10)\n",""],"cell_type":"code","outputs":[{"output_type":"execute_result","data":{"text/plain":"name        Jane Doe  John Smith  Mary Johnson\ntreatment                                     \ntreatmenta      16.0         NaN           3.0\ntreatmentb      11.0         2.0           1.0","text/html":"<div>\n<style scoped>\n    .dataframe tbody tr th:only-of-type {\n        vertical-align: middle;\n    }\n\n    .dataframe tbody tr th {\n        vertical-align: top;\n    }\n\n    .dataframe thead th {\n        text-align: right;\n    }\n</style>\n<table border=\"1\" class=\"dataframe\">\n  <thead>\n    <tr style=\"text-align: right;\">\n      <th>name</th>\n      <th>Jane Doe</th>\n      <th>John Smith</th>\n      <th>Mary Johnson</th>\n    </tr>\n    <tr>\n      <th>treatment</th>\n      <th></th>\n      <th></th>\n      <th></th>\n    </tr>\n  </thead>\n  <tbody>\n    <tr>\n      <td>treatmenta</td>\n      <td>16.0</td>\n      <td>NaN</td>\n      <td>3.0</td>\n    </tr>\n    <tr>\n      <td>treatmentb</td>\n      <td>11.0</td>\n      <td>2.0</td>\n      <td>1.0</td>\n    </tr>\n  </tbody>\n</table>\n</div>"},"metadata":{},"execution_count":9}],"metadata":{},"execution_count":9},{"source":["import seaborn\n","flights = seaborn.load_dataset('flights')\n","flights.head(30)\n","\n",""],"cell_type":"code","outputs":[{"output_type":"execute_result","data":{"text/plain":"    year      month  passengers\n0   1949    January         112\n1   1949   February         118\n2   1949      March         132\n3   1949      April         129\n4   1949        May         121\n5   1949       June         135\n6   1949       July         148\n7   1949     August         148\n8   1949  September         136\n9   1949    October         119\n10  1949   November         104\n11  1949   December         118\n12  1950    January         115\n13  1950   February         126\n14  1950      March         141\n15  1950      April         135\n16  1950        May         125\n17  1950       June         149\n18  1950       July         170\n19  1950     August         170\n20  1950  September         158\n21  1950    October         133\n22  1950   November         114\n23  1950   December         140\n24  1951    January         145\n25  1951   February         150\n26  1951      March         178\n27  1951      April         163\n28  1951        May         172\n29  1951       June         178","text/html":"<div>\n<style scoped>\n    .dataframe tbody tr th:only-of-type {\n        vertical-align: middle;\n    }\n\n    .dataframe tbody tr th {\n        vertical-align: top;\n    }\n\n    .dataframe thead th {\n        text-align: right;\n    }\n</style>\n<table border=\"1\" class=\"dataframe\">\n  <thead>\n    <tr style=\"text-align: right;\">\n      <th></th>\n      <th>year</th>\n      <th>month</th>\n      <th>passengers</th>\n    </tr>\n  </thead>\n  <tbody>\n    <tr>\n      <td>0</td>\n      <td>1949</td>\n      <td>January</td>\n      <td>112</td>\n    </tr>\n    <tr>\n      <td>1</td>\n      <td>1949</td>\n      <td>February</td>\n      <td>118</td>\n    </tr>\n    <tr>\n      <td>2</td>\n      <td>1949</td>\n      <td>March</td>\n      <td>132</td>\n    </tr>\n    <tr>\n      <td>3</td>\n      <td>1949</td>\n      <td>April</td>\n      <td>129</td>\n    </tr>\n    <tr>\n      <td>4</td>\n      <td>1949</td>\n      <td>May</td>\n      <td>121</td>\n    </tr>\n    <tr>\n      <td>5</td>\n      <td>1949</td>\n      <td>June</td>\n      <td>135</td>\n    </tr>\n    <tr>\n      <td>6</td>\n      <td>1949</td>\n      <td>July</td>\n      <td>148</td>\n    </tr>\n    <tr>\n      <td>7</td>\n      <td>1949</td>\n      <td>August</td>\n      <td>148</td>\n    </tr>\n    <tr>\n      <td>8</td>\n      <td>1949</td>\n      <td>September</td>\n      <td>136</td>\n    </tr>\n    <tr>\n      <td>9</td>\n      <td>1949</td>\n      <td>October</td>\n      <td>119</td>\n    </tr>\n    <tr>\n      <td>10</td>\n      <td>1949</td>\n      <td>November</td>\n      <td>104</td>\n    </tr>\n    <tr>\n      <td>11</td>\n      <td>1949</td>\n      <td>December</td>\n      <td>118</td>\n    </tr>\n    <tr>\n      <td>12</td>\n      <td>1950</td>\n      <td>January</td>\n      <td>115</td>\n    </tr>\n    <tr>\n      <td>13</td>\n      <td>1950</td>\n      <td>February</td>\n      <td>126</td>\n    </tr>\n    <tr>\n      <td>14</td>\n      <td>1950</td>\n      <td>March</td>\n      <td>141</td>\n    </tr>\n    <tr>\n      <td>15</td>\n      <td>1950</td>\n      <td>April</td>\n      <td>135</td>\n    </tr>\n    <tr>\n      <td>16</td>\n      <td>1950</td>\n      <td>May</td>\n      <td>125</td>\n    </tr>\n    <tr>\n      <td>17</td>\n      <td>1950</td>\n      <td>June</td>\n      <td>149</td>\n    </tr>\n    <tr>\n      <td>18</td>\n      <td>1950</td>\n      <td>July</td>\n      <td>170</td>\n    </tr>\n    <tr>\n      <td>19</td>\n      <td>1950</td>\n      <td>August</td>\n      <td>170</td>\n    </tr>\n    <tr>\n      <td>20</td>\n      <td>1950</td>\n      <td>September</td>\n      <td>158</td>\n    </tr>\n    <tr>\n      <td>21</td>\n      <td>1950</td>\n      <td>October</td>\n      <td>133</td>\n    </tr>\n    <tr>\n      <td>22</td>\n      <td>1950</td>\n      <td>November</td>\n      <td>114</td>\n    </tr>\n    <tr>\n      <td>23</td>\n      <td>1950</td>\n      <td>December</td>\n      <td>140</td>\n    </tr>\n    <tr>\n      <td>24</td>\n      <td>1951</td>\n      <td>January</td>\n      <td>145</td>\n    </tr>\n    <tr>\n      <td>25</td>\n      <td>1951</td>\n      <td>February</td>\n      <td>150</td>\n    </tr>\n    <tr>\n      <td>26</td>\n      <td>1951</td>\n      <td>March</td>\n      <td>178</td>\n    </tr>\n    <tr>\n      <td>27</td>\n      <td>1951</td>\n      <td>April</td>\n      <td>163</td>\n    </tr>\n    <tr>\n      <td>28</td>\n      <td>1951</td>\n      <td>May</td>\n      <td>172</td>\n    </tr>\n    <tr>\n      <td>29</td>\n      <td>1951</td>\n      <td>June</td>\n      <td>178</td>\n    </tr>\n  </tbody>\n</table>\n</div>"},"metadata":{},"execution_count":10}],"metadata":{},"execution_count":10},{"source":["flights.pivot_table(\n","\t\t\t\t\tindex='year',\n","\t\t\t\t\tcolumns='month',\n","\t\t\t\t\tvalues='passengers'\n","\t\t\t\t\t)\n",""],"cell_type":"code","outputs":[{"output_type":"execute_result","data":{"text/plain":"month  January  February  March  April  May  June  July  August  September  \\\nyear                                                                         \n1949       112       118    132    129  121   135   148     148        136   \n1950       115       126    141    135  125   149   170     170        158   \n1951       145       150    178    163  172   178   199     199        184   \n1952       171       180    193    181  183   218   230     242        209   \n1953       196       196    236    235  229   243   264     272        237   \n1954       204       188    235    227  234   264   302     293        259   \n1955       242       233    267    269  270   315   364     347        312   \n1956       284       277    317    313  318   374   413     405        355   \n1957       315       301    356    348  355   422   465     467        404   \n1958       340       318    362    348  363   435   491     505        404   \n1959       360       342    406    396  420   472   548     559        463   \n1960       417       391    419    461  472   535   622     606        508   \n\nmonth  October  November  December  \nyear                                \n1949       119       104       118  \n1950       133       114       140  \n1951       162       146       166  \n1952       191       172       194  \n1953       211       180       201  \n1954       229       203       229  \n1955       274       237       278  \n1956       306       271       306  \n1957       347       305       336  \n1958       359       310       337  \n1959       407       362       405  \n1960       461       390       432  ","text/html":"<div>\n<style scoped>\n    .dataframe tbody tr th:only-of-type {\n        vertical-align: middle;\n    }\n\n    .dataframe tbody tr th {\n        vertical-align: top;\n    }\n\n    .dataframe thead th {\n        text-align: right;\n    }\n</style>\n<table border=\"1\" class=\"dataframe\">\n  <thead>\n    <tr style=\"text-align: right;\">\n      <th>month</th>\n      <th>January</th>\n      <th>February</th>\n      <th>March</th>\n      <th>April</th>\n      <th>May</th>\n      <th>June</th>\n      <th>July</th>\n      <th>August</th>\n      <th>September</th>\n      <th>October</th>\n      <th>November</th>\n      <th>December</th>\n    </tr>\n    <tr>\n      <th>year</th>\n      <th></th>\n      <th></th>\n      <th></th>\n      <th></th>\n      <th></th>\n      <th></th>\n      <th></th>\n      <th></th>\n      <th></th>\n      <th></th>\n      <th></th>\n      <th></th>\n    </tr>\n  </thead>\n  <tbody>\n    <tr>\n      <td>1949</td>\n      <td>112</td>\n      <td>118</td>\n      <td>132</td>\n      <td>129</td>\n      <td>121</td>\n      <td>135</td>\n      <td>148</td>\n      <td>148</td>\n      <td>136</td>\n      <td>119</td>\n      <td>104</td>\n      <td>118</td>\n    </tr>\n    <tr>\n      <td>1950</td>\n      <td>115</td>\n      <td>126</td>\n      <td>141</td>\n      <td>135</td>\n      <td>125</td>\n      <td>149</td>\n      <td>170</td>\n      <td>170</td>\n      <td>158</td>\n      <td>133</td>\n      <td>114</td>\n      <td>140</td>\n    </tr>\n    <tr>\n      <td>1951</td>\n      <td>145</td>\n      <td>150</td>\n      <td>178</td>\n      <td>163</td>\n      <td>172</td>\n      <td>178</td>\n      <td>199</td>\n      <td>199</td>\n      <td>184</td>\n      <td>162</td>\n      <td>146</td>\n      <td>166</td>\n    </tr>\n    <tr>\n      <td>1952</td>\n      <td>171</td>\n      <td>180</td>\n      <td>193</td>\n      <td>181</td>\n      <td>183</td>\n      <td>218</td>\n      <td>230</td>\n      <td>242</td>\n      <td>209</td>\n      <td>191</td>\n      <td>172</td>\n      <td>194</td>\n    </tr>\n    <tr>\n      <td>1953</td>\n      <td>196</td>\n      <td>196</td>\n      <td>236</td>\n      <td>235</td>\n      <td>229</td>\n      <td>243</td>\n      <td>264</td>\n      <td>272</td>\n      <td>237</td>\n      <td>211</td>\n      <td>180</td>\n      <td>201</td>\n    </tr>\n    <tr>\n      <td>1954</td>\n      <td>204</td>\n      <td>188</td>\n      <td>235</td>\n      <td>227</td>\n      <td>234</td>\n      <td>264</td>\n      <td>302</td>\n      <td>293</td>\n      <td>259</td>\n      <td>229</td>\n      <td>203</td>\n      <td>229</td>\n    </tr>\n    <tr>\n      <td>1955</td>\n      <td>242</td>\n      <td>233</td>\n      <td>267</td>\n      <td>269</td>\n      <td>270</td>\n      <td>315</td>\n      <td>364</td>\n      <td>347</td>\n      <td>312</td>\n      <td>274</td>\n      <td>237</td>\n      <td>278</td>\n    </tr>\n    <tr>\n      <td>1956</td>\n      <td>284</td>\n      <td>277</td>\n      <td>317</td>\n      <td>313</td>\n      <td>318</td>\n      <td>374</td>\n      <td>413</td>\n      <td>405</td>\n      <td>355</td>\n      <td>306</td>\n      <td>271</td>\n      <td>306</td>\n    </tr>\n    <tr>\n      <td>1957</td>\n      <td>315</td>\n      <td>301</td>\n      <td>356</td>\n      <td>348</td>\n      <td>355</td>\n      <td>422</td>\n      <td>465</td>\n      <td>467</td>\n      <td>404</td>\n      <td>347</td>\n      <td>305</td>\n      <td>336</td>\n    </tr>\n    <tr>\n      <td>1958</td>\n      <td>340</td>\n      <td>318</td>\n      <td>362</td>\n      <td>348</td>\n      <td>363</td>\n      <td>435</td>\n      <td>491</td>\n      <td>505</td>\n      <td>404</td>\n      <td>359</td>\n      <td>310</td>\n      <td>337</td>\n    </tr>\n    <tr>\n      <td>1959</td>\n      <td>360</td>\n      <td>342</td>\n      <td>406</td>\n      <td>396</td>\n      <td>420</td>\n      <td>472</td>\n      <td>548</td>\n      <td>559</td>\n      <td>463</td>\n      <td>407</td>\n      <td>362</td>\n      <td>405</td>\n    </tr>\n    <tr>\n      <td>1960</td>\n      <td>417</td>\n      <td>391</td>\n      <td>419</td>\n      <td>461</td>\n      <td>472</td>\n      <td>535</td>\n      <td>622</td>\n      <td>606</td>\n      <td>508</td>\n      <td>461</td>\n      <td>390</td>\n      <td>432</td>\n    </tr>\n  </tbody>\n</table>\n</div>"},"metadata":{},"execution_count":11}],"metadata":{},"execution_count":11},{"cell_type":"markdown","source":[" ## Join Data Stretch Challenge\n","\n"," The [Instacart blog post](https://tech.instacart.com/3-million-instacart-orders-open-sourced-d40d29ead6f2) has a visualization of \"**Popular products** purchased earliest in the day (green) and latest in the day (red).\"\n","\n"," The post says,\n","\n"," > \"We can also see the time of day that users purchase specific products.\n","\n"," > Healthier snacks and staples tend to be purchased earlier in the day, whereas ice cream (especially Half Baked and The Tonight Dough) are far more popular when customers are ordering in the evening.\n","\n"," > **In fact, of the top 25 latest ordered products, the first 24 are ice cream! The last one, of course, is a frozen pizza.**\"\n","\n"," Your challenge is to reproduce the list of the top 25 latest ordered popular products.\n","\n"," We'll define \"popular products\" as products with more than 2,900 orders.\n","\n",""],"metadata":{}},{"source":["##### YOUR CODE HERE #####\n",""],"cell_type":"code","outputs":[],"metadata":{},"execution_count":12},{"cell_type":"markdown","source":[" ## Reshape Data Stretch Challenge\n","\n"," _Try whatever sounds most interesting to you!_\n","\n"," - Replicate more of Instacart's visualization showing \"Hour of Day Ordered\" vs \"Percent of Orders by Product\"\n"," - Replicate parts of the other visualization from [Instacart's blog post](https://tech.instacart.com/3-million-instacart-orders-open-sourced-d40d29ead6f2), showing \"Number of Purchases\" vs \"Percent Reorder Purchases\"\n"," - Get the most recent order for each user in Instacart's dataset. This is a useful baseline when [predicting a user's next order](https://www.kaggle.com/c/instacart-market-basket-analysis)\n"," - Replicate parts of the blog post linked at the top of this notebook: [Modern Pandas, Part 5: Tidy Data](https://tomaugspurger.github.io/modern-5-tidy.html)"],"metadata":{}},{"source":["##### YOUR CODE HERE #####\n","\n","\n",""],"cell_type":"code","outputs":[],"metadata":{},"execution_count":13}],"nbformat":4,"nbformat_minor":2,"metadata":{"language_info":{"name":"python","codemirror_mode":{"name":"ipython","version":3}},"orig_nbformat":2,"file_extension":".py","mimetype":"text/x-python","name":"python","npconvert_exporter":"python","pygments_lexer":"ipython3","version":3}}
=======
{
  "nbformat": 4,
  "nbformat_minor": 0,
  "metadata": {
    "colab": {
      "name": "LS_DS_121_Join_and_Reshape_Data_Assignment.ipynb",
      "version": "0.3.2",
      "provenance": [],
      "collapsed_sections": [],
      "include_colab_link": true
    },
    "kernelspec": {
      "display_name": "Python 3",
      "language": "python",
      "name": "python3"
    }
  },
  "cells": [
    {
      "cell_type": "markdown",
      "metadata": {
        "id": "view-in-github",
        "colab_type": "text"
      },
      "source": [
        "<a href=\"https://colab.research.google.com/github/ryanleeallred/DS-Unit-1-Sprint-2-Data-Wrangling-and-Storytelling/blob/master/module1-join-and-reshape-data/LS_DS_121_Join_and_Reshape_Data_Assignment.ipynb\" target=\"_parent\"><img src=\"https://colab.research.google.com/assets/colab-badge.svg\" alt=\"Open In Colab\"/></a>"
      ]
    },
    {
      "cell_type": "markdown",
      "metadata": {
        "colab_type": "text",
        "id": "pmU5YUal1eTZ"
      },
      "source": [
        "_Lambda School Data Science_\n",
        "\n",
        "# Join and Reshape datasets\n",
        "\n",
        "Objectives\n",
        "- concatenate data with pandas\n",
        "- merge data with pandas\n",
        "-  understand tidy data formatting\n",
        "-  melt and pivot data with pandas\n",
        "\n",
        "Links\n",
        "- [Pandas Cheat Sheet](https://github.com/pandas-dev/pandas/blob/master/doc/cheatsheet/Pandas_Cheat_Sheet.pdf)\n",
        "- [Tidy Data](https://en.wikipedia.org/wiki/Tidy_data)\n",
        "  - Combine Data Sets: Standard Joins\n",
        "  - Tidy Data\n",
        "  - Reshaping Data\n",
        "- Python Data Science Handbook\n",
        "  - [Chapter 3.6](https://jakevdp.github.io/PythonDataScienceHandbook/03.06-concat-and-append.html), Combining Datasets: Concat and Append\n",
        "  - [Chapter 3.7](https://jakevdp.github.io/PythonDataScienceHandbook/03.07-merge-and-join.html), Combining Datasets: Merge and Join\n",
        "  - [Chapter 3.8](https://jakevdp.github.io/PythonDataScienceHandbook/03.08-aggregation-and-grouping.html), Aggregation and Grouping\n",
        "  - [Chapter 3.9](https://jakevdp.github.io/PythonDataScienceHandbook/03.09-pivot-tables.html), Pivot Tables\n",
        "  \n",
        "Reference\n",
        "- Pandas Documentation: [Reshaping and Pivot Tables](https://pandas.pydata.org/pandas-docs/stable/reshaping.html)\n",
        "- Modern Pandas, Part 5: [Tidy Data](https://tomaugspurger.github.io/modern-5-tidy.html)"
      ]
    },
    {
      "cell_type": "code",
      "metadata": {
        "id": "5MsWLLW4Xg_i",
        "colab_type": "code",
        "colab": {
          "base_uri": "https://localhost:8080/",
          "height": 207
        },
        "outputId": "00f1e793-0ef5-49f4-b76f-c085bba4ff2e"
      },
      "source": [
        "!wget https://s3.amazonaws.com/instacart-datasets/instacart_online_grocery_shopping_2017_05_01.tar.gz"
      ],
      "execution_count": 1,
      "outputs": [
        {
          "output_type": "stream",
          "text": [
            "--2019-08-12 15:08:58--  https://s3.amazonaws.com/instacart-datasets/instacart_online_grocery_shopping_2017_05_01.tar.gz\n",
            "Resolving s3.amazonaws.com (s3.amazonaws.com)... 52.216.171.37\n",
            "Connecting to s3.amazonaws.com (s3.amazonaws.com)|52.216.171.37|:443... connected.\n",
            "HTTP request sent, awaiting response... 200 OK\n",
            "Length: 205548478 (196M) [application/x-gzip]\n",
            "Saving to: ‘instacart_online_grocery_shopping_2017_05_01.tar.gz’\n",
            "\n",
            "instacart_online_gr 100%[===================>] 196.03M  30.8MB/s    in 6.9s    \n",
            "\n",
            "2019-08-12 15:09:05 (28.3 MB/s) - ‘instacart_online_grocery_shopping_2017_05_01.tar.gz’ saved [205548478/205548478]\n",
            "\n"
          ],
          "name": "stdout"
        }
      ]
    },
    {
      "cell_type": "code",
      "metadata": {
        "id": "gfr4_Ya0XkLI",
        "colab_type": "code",
        "colab": {
          "base_uri": "https://localhost:8080/",
          "height": 242
        },
        "outputId": "b666e7a1-ddc9-4c3b-8ebf-0ce52f83c1f1"
      },
      "source": [
        "!tar --gunzip --extract --verbose --file=instacart_online_grocery_shopping_2017_05_01.tar.gz"
      ],
      "execution_count": 2,
      "outputs": [
        {
          "output_type": "stream",
          "text": [
            "instacart_2017_05_01/\n",
            "instacart_2017_05_01/._aisles.csv\n",
            "instacart_2017_05_01/aisles.csv\n",
            "instacart_2017_05_01/._departments.csv\n",
            "instacart_2017_05_01/departments.csv\n",
            "instacart_2017_05_01/._order_products__prior.csv\n",
            "instacart_2017_05_01/order_products__prior.csv\n",
            "instacart_2017_05_01/._order_products__train.csv\n",
            "instacart_2017_05_01/order_products__train.csv\n",
            "instacart_2017_05_01/._orders.csv\n",
            "instacart_2017_05_01/orders.csv\n",
            "instacart_2017_05_01/._products.csv\n",
            "instacart_2017_05_01/products.csv\n"
          ],
          "name": "stdout"
        }
      ]
    },
    {
      "cell_type": "code",
      "metadata": {
        "id": "N4YyGPNdXrT0",
        "colab_type": "code",
        "colab": {
          "base_uri": "https://localhost:8080/",
          "height": 35
        },
        "outputId": "854868ef-38a9-413d-d5d2-d1b0c454d437"
      },
      "source": [
        "%cd instacart_2017_05_01"
      ],
      "execution_count": 3,
      "outputs": [
        {
          "output_type": "stream",
          "text": [
            "/content/instacart_2017_05_01\n"
          ],
          "name": "stdout"
        }
      ]
    },
    {
      "cell_type": "code",
      "metadata": {
        "id": "b26wmLUiXtlM",
        "colab_type": "code",
        "colab": {
          "base_uri": "https://localhost:8080/",
          "height": 121
        },
        "outputId": "8e089fc5-2469-4c15-e25c-ba4c3b3275fa"
      },
      "source": [
        "!ls -lh *.csv"
      ],
      "execution_count": 4,
      "outputs": [
        {
          "output_type": "stream",
          "text": [
            "-rw-r--r-- 1 502 staff 2.6K May  2  2017 aisles.csv\n",
            "-rw-r--r-- 1 502 staff  270 May  2  2017 departments.csv\n",
            "-rw-r--r-- 1 502 staff 551M May  2  2017 order_products__prior.csv\n",
            "-rw-r--r-- 1 502 staff  24M May  2  2017 order_products__train.csv\n",
            "-rw-r--r-- 1 502 staff 104M May  2  2017 orders.csv\n",
            "-rw-r--r-- 1 502 staff 2.1M May  2  2017 products.csv\n"
          ],
          "name": "stdout"
        }
      ]
    },
    {
      "cell_type": "markdown",
      "metadata": {
        "colab_type": "text",
        "id": "kAMtvSQWPUcj"
      },
      "source": [
        "# Assignment\n",
        "\n",
        "## Join Data Practice\n",
        "\n",
        "These are the top 10 most frequently ordered products. How many times was each ordered? \n",
        "\n",
        "1. Banana\n",
        "2. Bag of Organic Bananas\n",
        "3. Organic Strawberries\n",
        "4. Organic Baby Spinach \n",
        "5. Organic Hass Avocado\n",
        "6. Organic Avocado\n",
        "7. Large Lemon \n",
        "8. Strawberries\n",
        "9. Limes \n",
        "10. Organic Whole Milk\n",
        "\n",
        "First, write down which columns you need and which dataframes have them.\n",
        "\n",
        "Next, merge these into a single dataframe.\n",
        "\n",
        "Then, use pandas functions from the previous lesson to get the counts of the top 10 most frequently ordered products."
      ]
    },
    {
      "cell_type": "code",
      "metadata": {
        "id": "vvE0EVHgXMFO",
        "colab_type": "code",
        "colab": {}
      },
      "source": [
        "##### YOUR CODE HERE #####"
      ],
      "execution_count": 0,
      "outputs": []
    },
    {
      "cell_type": "markdown",
      "metadata": {
        "id": "RsiWi4DuXPLP",
        "colab_type": "text"
      },
      "source": [
        "## Reshape Data Section\n",
        "\n",
        "- Replicate the lesson code\n",
        "- Complete the code cells we skipped near the beginning of the notebook\n",
        "- Table 2 --> Tidy\n",
        "- Tidy --> Table 2\n",
        "- Load seaborn's `flights` dataset by running the cell below. Then create a pivot table showing the number of passengers by month and year. Use year for the index and month for the columns. You've done it right if you get 112 passengers for January 1949 and 432 passengers for December 1960."
      ]
    },
    {
      "cell_type": "code",
      "metadata": {
        "id": "fgxulJQq0uLw",
        "colab_type": "code",
        "colab": {}
      },
      "source": [
        "flights = sns.load_dataset('flights')"
      ],
      "execution_count": 0,
      "outputs": []
    },
    {
      "cell_type": "code",
      "metadata": {
        "id": "1qKc88WI0up-",
        "colab_type": "code",
        "colab": {}
      },
      "source": [
        "##### YOUR CODE HERE #####"
      ],
      "execution_count": 0,
      "outputs": []
    },
    {
      "cell_type": "markdown",
      "metadata": {
        "id": "mnOuqL9K0dqh",
        "colab_type": "text"
      },
      "source": [
        "## Join Data Stretch Challenge\n",
        "\n",
        "The [Instacart blog post](https://tech.instacart.com/3-million-instacart-orders-open-sourced-d40d29ead6f2) has a visualization of \"**Popular products** purchased earliest in the day (green) and latest in the day (red).\" \n",
        "\n",
        "The post says,\n",
        "\n",
        "> \"We can also see the time of day that users purchase specific products.\n",
        "\n",
        "> Healthier snacks and staples tend to be purchased earlier in the day, whereas ice cream (especially Half Baked and The Tonight Dough) are far more popular when customers are ordering in the evening.\n",
        "\n",
        "> **In fact, of the top 25 latest ordered products, the first 24 are ice cream! The last one, of course, is a frozen pizza.**\"\n",
        "\n",
        "Your challenge is to reproduce the list of the top 25 latest ordered popular products.\n",
        "\n",
        "We'll define \"popular products\" as products with more than 2,900 orders.\n",
        "\n"
      ]
    },
    {
      "cell_type": "code",
      "metadata": {
        "id": "B-QNMrVkYap4",
        "colab_type": "code",
        "colab": {}
      },
      "source": [
        "##### YOUR CODE HERE #####"
      ],
      "execution_count": 0,
      "outputs": []
    },
    {
      "cell_type": "markdown",
      "metadata": {
        "id": "Ij8S60q0YXxo",
        "colab_type": "text"
      },
      "source": [
        "## Reshape Data Stretch Challenge\n",
        "\n",
        "_Try whatever sounds most interesting to you!_\n",
        "\n",
        "- Replicate more of Instacart's visualization showing \"Hour of Day Ordered\" vs \"Percent of Orders by Product\"\n",
        "- Replicate parts of the other visualization from [Instacart's blog post](https://tech.instacart.com/3-million-instacart-orders-open-sourced-d40d29ead6f2), showing \"Number of Purchases\" vs \"Percent Reorder Purchases\"\n",
        "- Get the most recent order for each user in Instacart's dataset. This is a useful baseline when [predicting a user's next order](https://www.kaggle.com/c/instacart-market-basket-analysis)\n",
        "- Replicate parts of the blog post linked at the top of this notebook: [Modern Pandas, Part 5: Tidy Data](https://tomaugspurger.github.io/modern-5-tidy.html)"
      ]
    },
    {
      "cell_type": "code",
      "metadata": {
        "id": "_d6IA2R0YXFY",
        "colab_type": "code",
        "colab": {}
      },
      "source": [
        "##### YOUR CODE HERE #####"
      ],
      "execution_count": 0,
      "outputs": []
    }
  ]
}
>>>>>>> 885ed548bf291b581b7a495db13cde15744981f4
