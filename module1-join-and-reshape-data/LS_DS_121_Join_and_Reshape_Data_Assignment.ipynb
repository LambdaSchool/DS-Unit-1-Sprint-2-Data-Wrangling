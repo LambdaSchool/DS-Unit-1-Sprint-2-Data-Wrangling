{
  "nbformat": 4,
  "nbformat_minor": 0,
  "metadata": {
    "colab": {
      "name": "LS_DS_121_Join_and_Reshape_Data_Assignment.ipynb",
      "version": "0.3.2",
      "provenance": [],
      "collapsed_sections": [],
      "include_colab_link": true
    },
    "kernelspec": {
      "display_name": "Python 3",
      "language": "python",
      "name": "python3"
    }
  },
  "cells": [
    {
      "cell_type": "markdown",
      "metadata": {
        "id": "view-in-github",
        "colab_type": "text"
      },
      "source": [
        "<a href=\"https://colab.research.google.com/github/scottwmwork/DS-Unit-1-Sprint-2-Data-Wrangling-and-Storytelling/blob/master/module1-join-and-reshape-data/LS_DS_121_Join_and_Reshape_Data_Assignment.ipynb\" target=\"_parent\"><img src=\"https://colab.research.google.com/assets/colab-badge.svg\" alt=\"Open In Colab\"/></a>"
      ]
    },
    {
      "cell_type": "markdown",
      "metadata": {
        "colab_type": "text",
        "id": "pmU5YUal1eTZ"
      },
      "source": [
        "_Lambda School Data Science_\n",
        "\n",
        "# Join and Reshape datasets\n",
        "\n",
        "Objectives\n",
        "- concatenate data with pandas\n",
        "- merge data with pandas\n",
        "-  understand tidy data formatting\n",
        "-  melt and pivot data with pandas\n",
        "\n",
        "Links\n",
        "- [Pandas Cheat Sheet](https://github.com/pandas-dev/pandas/blob/master/doc/cheatsheet/Pandas_Cheat_Sheet.pdf)\n",
        "- [Tidy Data](https://en.wikipedia.org/wiki/Tidy_data)\n",
        "  - Combine Data Sets: Standard Joins\n",
        "  - Tidy Data\n",
        "  - Reshaping Data\n",
        "- Python Data Science Handbook\n",
        "  - [Chapter 3.6](https://jakevdp.github.io/PythonDataScienceHandbook/03.06-concat-and-append.html), Combining Datasets: Concat and Append\n",
        "  - [Chapter 3.7](https://jakevdp.github.io/PythonDataScienceHandbook/03.07-merge-and-join.html), Combining Datasets: Merge and Join\n",
        "  - [Chapter 3.8](https://jakevdp.github.io/PythonDataScienceHandbook/03.08-aggregation-and-grouping.html), Aggregation and Grouping\n",
        "  - [Chapter 3.9](https://jakevdp.github.io/PythonDataScienceHandbook/03.09-pivot-tables.html), Pivot Tables\n",
        "  \n",
        "Reference\n",
        "- Pandas Documentation: [Reshaping and Pivot Tables](https://pandas.pydata.org/pandas-docs/stable/reshaping.html)\n",
        "- Modern Pandas, Part 5: [Tidy Data](https://tomaugspurger.github.io/modern-5-tidy.html)"
      ]
    },
    {
      "cell_type": "code",
      "metadata": {
        "id": "5MsWLLW4Xg_i",
        "colab_type": "code",
        "outputId": "852e659b-d844-4d01-d7d8-a0baa893d2fd",
        "colab": {
          "base_uri": "https://localhost:8080/",
          "height": 204
        }
      },
      "source": [
        "!wget https://s3.amazonaws.com/instacart-datasets/instacart_online_grocery_shopping_2017_05_01.tar.gz"
      ],
      "execution_count": 0,
      "outputs": [
        {
          "output_type": "stream",
          "text": [
            "--2019-08-13 00:01:30--  https://s3.amazonaws.com/instacart-datasets/instacart_online_grocery_shopping_2017_05_01.tar.gz\n",
            "Resolving s3.amazonaws.com (s3.amazonaws.com)... 52.216.133.45\n",
            "Connecting to s3.amazonaws.com (s3.amazonaws.com)|52.216.133.45|:443... connected.\n",
            "HTTP request sent, awaiting response... 200 OK\n",
            "Length: 205548478 (196M) [application/x-gzip]\n",
            "Saving to: ‘instacart_online_grocery_shopping_2017_05_01.tar.gz.1’\n",
            "\n",
            "instacart_online_gr 100%[===================>] 196.03M  34.4MB/s    in 6.0s    \n",
            "\n",
            "2019-08-13 00:01:36 (32.7 MB/s) - ‘instacart_online_grocery_shopping_2017_05_01.tar.gz.1’ saved [205548478/205548478]\n",
            "\n"
          ],
          "name": "stdout"
        }
      ]
    },
    {
      "cell_type": "code",
      "metadata": {
        "id": "gfr4_Ya0XkLI",
        "colab_type": "code",
        "outputId": "5b258a54-4863-4ace-e95e-c7bbc91a9c42",
        "colab": {
          "base_uri": "https://localhost:8080/",
          "height": 238
        }
      },
      "source": [
        "!tar --gunzip --extract --verbose --file=instacart_online_grocery_shopping_2017_05_01.tar.gz"
      ],
      "execution_count": 0,
      "outputs": [
        {
          "output_type": "stream",
          "text": [
            "instacart_2017_05_01/\n",
            "instacart_2017_05_01/._aisles.csv\n",
            "instacart_2017_05_01/aisles.csv\n",
            "instacart_2017_05_01/._departments.csv\n",
            "instacart_2017_05_01/departments.csv\n",
            "instacart_2017_05_01/._order_products__prior.csv\n",
            "instacart_2017_05_01/order_products__prior.csv\n",
            "instacart_2017_05_01/._order_products__train.csv\n",
            "instacart_2017_05_01/order_products__train.csv\n",
            "instacart_2017_05_01/._orders.csv\n",
            "instacart_2017_05_01/orders.csv\n",
            "instacart_2017_05_01/._products.csv\n",
            "instacart_2017_05_01/products.csv\n"
          ],
          "name": "stdout"
        }
      ]
    },
    {
      "cell_type": "code",
      "metadata": {
        "id": "N4YyGPNdXrT0",
        "colab_type": "code",
        "outputId": "29e0aa51-a085-4d03-e193-cdd3665e4bc2",
        "colab": {
          "base_uri": "https://localhost:8080/",
          "height": 34
        }
      },
      "source": [
        "%cd instacart_2017_05_01"
      ],
      "execution_count": 0,
      "outputs": [
        {
          "output_type": "stream",
          "text": [
            "/content/instacart_2017_05_01\n"
          ],
          "name": "stdout"
        }
      ]
    },
    {
      "cell_type": "code",
      "metadata": {
        "id": "b26wmLUiXtlM",
        "colab_type": "code",
        "outputId": "2076df0c-bc4f-43b4-ba5a-84e328e7e8fb",
        "colab": {
          "base_uri": "https://localhost:8080/",
          "height": 119
        }
      },
      "source": [
        "!ls -lh *.csv"
      ],
      "execution_count": 0,
      "outputs": [
        {
          "output_type": "stream",
          "text": [
            "-rw-r--r-- 1 502 staff 2.6K May  2  2017 aisles.csv\n",
            "-rw-r--r-- 1 502 staff  270 May  2  2017 departments.csv\n",
            "-rw-r--r-- 1 502 staff 551M May  2  2017 order_products__prior.csv\n",
            "-rw-r--r-- 1 502 staff  24M May  2  2017 order_products__train.csv\n",
            "-rw-r--r-- 1 502 staff 104M May  2  2017 orders.csv\n",
            "-rw-r--r-- 1 502 staff 2.1M May  2  2017 products.csv\n"
          ],
          "name": "stdout"
        }
      ]
    },
    {
      "cell_type": "markdown",
      "metadata": {
        "colab_type": "text",
        "id": "kAMtvSQWPUcj"
      },
      "source": [
        "# Assignment\n",
        "\n",
        "## Join Data Practice\n",
        "\n",
        "These are the top 10 most frequently ordered products. How many times was each ordered? \n",
        "\n",
        "1. Banana\n",
        "2. Bag of Organic Bananas\n",
        "3. Organic Strawberries\n",
        "4. Organic Baby Spinach \n",
        "5. Organic Hass Avocado\n",
        "6. Organic Avocado\n",
        "7. Large Lemon \n",
        "8. Strawberries\n",
        "9. Limes \n",
        "10. Organic Whole Milk\n",
        "\n",
        "First, write down which columns you need and which dataframes have them.\n",
        "\n",
        "Next, merge these into a single dataframe.\n",
        "\n",
        "Then, use pandas functions from the previous lesson to get the counts of the top 10 most frequently ordered products."
      ]
    },
    {
      "cell_type": "code",
      "metadata": {
        "id": "vvE0EVHgXMFO",
        "colab_type": "code",
        "colab": {}
      },
      "source": [
        "##### YOUR CODE HERE #####\n",
        "import pandas as pd\n",
        "\n",
        "# What I need\n",
        "#1.) Product name\n",
        "#2.) Product ID\n",
        "#3.) Order ID"
      ],
      "execution_count": 0,
      "outputs": []
    },
    {
      "cell_type": "code",
      "metadata": {
        "id": "nXiHsX_kmbrv",
        "colab_type": "code",
        "colab": {}
      },
      "source": [
        "#loading in dataframes\n",
        "order_products__prior = pd.read_csv('order_products__prior.csv')\n",
        "order_products__train = pd.read_csv('order_products__train.csv')\n",
        "orders = pd.read_csv('orders.csv')\n",
        "products = pd.read_csv('products.csv') "
      ],
      "execution_count": 0,
      "outputs": []
    },
    {
      "cell_type": "code",
      "metadata": {
        "id": "GAag1F8DFTMo",
        "colab_type": "code",
        "colab": {}
      },
      "source": [
        "order_products = pd.concat([order_products__prior, order_products__train])"
      ],
      "execution_count": 0,
      "outputs": []
    },
    {
      "cell_type": "code",
      "metadata": {
        "id": "7fnEh2YCTmpZ",
        "colab_type": "code",
        "colab": {}
      },
      "source": [
        "#merge dataframe\n",
        "newDataFrame = pd.merge(products,order_products, how = 'inner', on = 'product_id')"
      ],
      "execution_count": 0,
      "outputs": []
    },
    {
      "cell_type": "code",
      "metadata": {
        "id": "vXeUhomfVdjn",
        "colab_type": "code",
        "outputId": "4e76a3f2-a39c-4f87-804a-803f1241798f",
        "colab": {
          "base_uri": "https://localhost:8080/",
          "height": 204
        }
      },
      "source": [
        "newDataFrame['product_name'].value_counts().head(10) #prints out the frequency of each variable "
      ],
      "execution_count": 0,
      "outputs": [
        {
          "output_type": "execute_result",
          "data": {
            "text/plain": [
              "Banana                    491291\n",
              "Bag of Organic Bananas    394930\n",
              "Organic Strawberries      275577\n",
              "Organic Baby Spinach      251705\n",
              "Organic Hass Avocado      220877\n",
              "Organic Avocado           184224\n",
              "Large Lemon               160792\n",
              "Strawberries              149445\n",
              "Limes                     146660\n",
              "Organic Whole Milk        142813\n",
              "Name: product_name, dtype: int64"
            ]
          },
          "metadata": {
            "tags": []
          },
          "execution_count": 45
        }
      ]
    },
    {
      "cell_type": "markdown",
      "metadata": {
        "id": "PdB9GjWSlBGT",
        "colab_type": "text"
      },
      "source": [
        "#From the data we now know: \n",
        "\n",
        "Banana  was ordered                  **491291** times\n",
        "\n",
        "Bag of Organic Bananas  was ordered  **394930** times\n",
        "\n",
        "Organic Strawberries was ordered     **275577** times\n",
        "\n",
        "Organic Baby Spinach was ordered      **251705** times\n",
        "\n",
        "Organic Hass Avocado was ordered      **220877** times \n",
        "\n",
        "Organic Avocado  was ordered          **184224** times \n",
        "\n",
        "Large Lemon was ordered               **160792** times\n",
        "\n",
        "Strawberries was ordered              **149445** times\n",
        "\n",
        "Limes  was ordered                    **146660** times\n",
        "\n",
        "Organic Whole Milk  was ordered       **142813** times\n"
      ]
    },
    {
      "cell_type": "markdown",
      "metadata": {
        "id": "Y-jJ4_PTk_cJ",
        "colab_type": "text"
      },
      "source": [
        ""
      ]
    },
    {
      "cell_type": "markdown",
      "metadata": {
        "id": "RsiWi4DuXPLP",
        "colab_type": "text"
      },
      "source": [
        "## Reshape Data Section\n",
        "\n",
        "- Replicate the lesson code\n",
        "- Complete the code cells we skipped near the beginning of the notebook\n",
        "- Table 2 --> Tidy\n",
        "- Tidy --> Table 2\n",
        "- Load seaborn's `flights` dataset by running the cell below. Then create a pivot table showing the number of passengers by month and year. Use year for the index and month for the columns. You've done it right if you get 112 passengers for January 1949 and 432 passengers for December 1960."
      ]
    },
    {
      "cell_type": "code",
      "metadata": {
        "id": "fgxulJQq0uLw",
        "colab_type": "code",
        "colab": {}
      },
      "source": [
        "#oroginal code in this cell was broken, but I was able to find the dataset\n",
        "flights = pd.read_csv('https://raw.githubusercontent.com/mwaskom/seaborn-data/master/flights.csv')"
      ],
      "execution_count": 0,
      "outputs": []
    },
    {
      "cell_type": "code",
      "metadata": {
        "id": "1qKc88WI0up-",
        "colab_type": "code",
        "colab": {}
      },
      "source": [
        "##### YOUR CODE HERE #####\n",
        "%matplotlib inline\n",
        "import pandas as pd\n",
        "import numpy as np\n",
        "import seaborn as sns\n",
        "\n",
        "table1 = pd.DataFrame(\n",
        "    [[np.nan, 2],\n",
        "     [16,    11], \n",
        "     [3,      1]],\n",
        "    index=['John Smith', 'Jane Doe', 'Mary Johnson'], \n",
        "    columns=['treatmenta', 'treatmentb'])\n",
        "\n",
        "table2 = table1.T"
      ],
      "execution_count": 0,
      "outputs": []
    },
    {
      "cell_type": "code",
      "metadata": {
        "id": "_9A0_3P7oooA",
        "colab_type": "code",
        "outputId": "2f30dd18-e6d0-4c3b-ac8f-7dd10338af07",
        "colab": {
          "base_uri": "https://localhost:8080/",
          "height": 142
        }
      },
      "source": [
        "table1 = table1.reset_index()\n",
        "table1"
      ],
      "execution_count": 304,
      "outputs": [
        {
          "output_type": "execute_result",
          "data": {
            "text/html": [
              "<div>\n",
              "<style scoped>\n",
              "    .dataframe tbody tr th:only-of-type {\n",
              "        vertical-align: middle;\n",
              "    }\n",
              "\n",
              "    .dataframe tbody tr th {\n",
              "        vertical-align: top;\n",
              "    }\n",
              "\n",
              "    .dataframe thead th {\n",
              "        text-align: right;\n",
              "    }\n",
              "</style>\n",
              "<table border=\"1\" class=\"dataframe\">\n",
              "  <thead>\n",
              "    <tr style=\"text-align: right;\">\n",
              "      <th></th>\n",
              "      <th>index</th>\n",
              "      <th>treatmenta</th>\n",
              "      <th>treatmentb</th>\n",
              "    </tr>\n",
              "  </thead>\n",
              "  <tbody>\n",
              "    <tr>\n",
              "      <th>0</th>\n",
              "      <td>John Smith</td>\n",
              "      <td>NaN</td>\n",
              "      <td>2</td>\n",
              "    </tr>\n",
              "    <tr>\n",
              "      <th>1</th>\n",
              "      <td>Jane Doe</td>\n",
              "      <td>16.0</td>\n",
              "      <td>11</td>\n",
              "    </tr>\n",
              "    <tr>\n",
              "      <th>2</th>\n",
              "      <td>Mary Johnson</td>\n",
              "      <td>3.0</td>\n",
              "      <td>1</td>\n",
              "    </tr>\n",
              "  </tbody>\n",
              "</table>\n",
              "</div>"
            ],
            "text/plain": [
              "          index  treatmenta  treatmentb\n",
              "0    John Smith         NaN           2\n",
              "1      Jane Doe        16.0          11\n",
              "2  Mary Johnson         3.0           1"
            ]
          },
          "metadata": {
            "tags": []
          },
          "execution_count": 304
        }
      ]
    },
    {
      "cell_type": "code",
      "metadata": {
        "id": "K9rRi8jzo7si",
        "colab_type": "code",
        "colab": {
          "base_uri": "https://localhost:8080/",
          "height": 34
        },
        "outputId": "13255802-0704-43f6-e920-d34aeb550457"
      },
      "source": [
        "table1.columns.to_list()"
      ],
      "execution_count": 305,
      "outputs": [
        {
          "output_type": "execute_result",
          "data": {
            "text/plain": [
              "['index', 'treatmenta', 'treatmentb']"
            ]
          },
          "metadata": {
            "tags": []
          },
          "execution_count": 305
        }
      ]
    },
    {
      "cell_type": "code",
      "metadata": {
        "id": "uzTZi56apsuq",
        "colab_type": "code",
        "colab": {
          "base_uri": "https://localhost:8080/",
          "height": 235
        },
        "outputId": "80d3c5c5-0bbd-4639-990d-389b566fbe28"
      },
      "source": [
        "tidy = table1.melt(id_vars='index')\n",
        "tidy = table1.melt(id_vars='index', value_vars =['treatmenta','treatmentb'])\n",
        "tidy"
      ],
      "execution_count": 306,
      "outputs": [
        {
          "output_type": "execute_result",
          "data": {
            "text/html": [
              "<div>\n",
              "<style scoped>\n",
              "    .dataframe tbody tr th:only-of-type {\n",
              "        vertical-align: middle;\n",
              "    }\n",
              "\n",
              "    .dataframe tbody tr th {\n",
              "        vertical-align: top;\n",
              "    }\n",
              "\n",
              "    .dataframe thead th {\n",
              "        text-align: right;\n",
              "    }\n",
              "</style>\n",
              "<table border=\"1\" class=\"dataframe\">\n",
              "  <thead>\n",
              "    <tr style=\"text-align: right;\">\n",
              "      <th></th>\n",
              "      <th>index</th>\n",
              "      <th>variable</th>\n",
              "      <th>value</th>\n",
              "    </tr>\n",
              "  </thead>\n",
              "  <tbody>\n",
              "    <tr>\n",
              "      <th>0</th>\n",
              "      <td>John Smith</td>\n",
              "      <td>treatmenta</td>\n",
              "      <td>NaN</td>\n",
              "    </tr>\n",
              "    <tr>\n",
              "      <th>1</th>\n",
              "      <td>Jane Doe</td>\n",
              "      <td>treatmenta</td>\n",
              "      <td>16.0</td>\n",
              "    </tr>\n",
              "    <tr>\n",
              "      <th>2</th>\n",
              "      <td>Mary Johnson</td>\n",
              "      <td>treatmenta</td>\n",
              "      <td>3.0</td>\n",
              "    </tr>\n",
              "    <tr>\n",
              "      <th>3</th>\n",
              "      <td>John Smith</td>\n",
              "      <td>treatmentb</td>\n",
              "      <td>2.0</td>\n",
              "    </tr>\n",
              "    <tr>\n",
              "      <th>4</th>\n",
              "      <td>Jane Doe</td>\n",
              "      <td>treatmentb</td>\n",
              "      <td>11.0</td>\n",
              "    </tr>\n",
              "    <tr>\n",
              "      <th>5</th>\n",
              "      <td>Mary Johnson</td>\n",
              "      <td>treatmentb</td>\n",
              "      <td>1.0</td>\n",
              "    </tr>\n",
              "  </tbody>\n",
              "</table>\n",
              "</div>"
            ],
            "text/plain": [
              "          index    variable  value\n",
              "0    John Smith  treatmenta    NaN\n",
              "1      Jane Doe  treatmenta   16.0\n",
              "2  Mary Johnson  treatmenta    3.0\n",
              "3    John Smith  treatmentb    2.0\n",
              "4      Jane Doe  treatmentb   11.0\n",
              "5  Mary Johnson  treatmentb    1.0"
            ]
          },
          "metadata": {
            "tags": []
          },
          "execution_count": 306
        }
      ]
    },
    {
      "cell_type": "code",
      "metadata": {
        "id": "brpBg_TNrdHW",
        "colab_type": "code",
        "colab": {
          "base_uri": "https://localhost:8080/",
          "height": 235
        },
        "outputId": "d7c6f3e3-6c2b-4f03-d940-6345b3a6d008"
      },
      "source": [
        "tidy = tidy.rename(columns={\n",
        "    'index': 'name', \n",
        "    'variable': 'trt', \n",
        "    'value': 'result'\n",
        "})\n",
        "\n",
        "tidy"
      ],
      "execution_count": 307,
      "outputs": [
        {
          "output_type": "execute_result",
          "data": {
            "text/html": [
              "<div>\n",
              "<style scoped>\n",
              "    .dataframe tbody tr th:only-of-type {\n",
              "        vertical-align: middle;\n",
              "    }\n",
              "\n",
              "    .dataframe tbody tr th {\n",
              "        vertical-align: top;\n",
              "    }\n",
              "\n",
              "    .dataframe thead th {\n",
              "        text-align: right;\n",
              "    }\n",
              "</style>\n",
              "<table border=\"1\" class=\"dataframe\">\n",
              "  <thead>\n",
              "    <tr style=\"text-align: right;\">\n",
              "      <th></th>\n",
              "      <th>name</th>\n",
              "      <th>trt</th>\n",
              "      <th>result</th>\n",
              "    </tr>\n",
              "  </thead>\n",
              "  <tbody>\n",
              "    <tr>\n",
              "      <th>0</th>\n",
              "      <td>John Smith</td>\n",
              "      <td>treatmenta</td>\n",
              "      <td>NaN</td>\n",
              "    </tr>\n",
              "    <tr>\n",
              "      <th>1</th>\n",
              "      <td>Jane Doe</td>\n",
              "      <td>treatmenta</td>\n",
              "      <td>16.0</td>\n",
              "    </tr>\n",
              "    <tr>\n",
              "      <th>2</th>\n",
              "      <td>Mary Johnson</td>\n",
              "      <td>treatmenta</td>\n",
              "      <td>3.0</td>\n",
              "    </tr>\n",
              "    <tr>\n",
              "      <th>3</th>\n",
              "      <td>John Smith</td>\n",
              "      <td>treatmentb</td>\n",
              "      <td>2.0</td>\n",
              "    </tr>\n",
              "    <tr>\n",
              "      <th>4</th>\n",
              "      <td>Jane Doe</td>\n",
              "      <td>treatmentb</td>\n",
              "      <td>11.0</td>\n",
              "    </tr>\n",
              "    <tr>\n",
              "      <th>5</th>\n",
              "      <td>Mary Johnson</td>\n",
              "      <td>treatmentb</td>\n",
              "      <td>1.0</td>\n",
              "    </tr>\n",
              "  </tbody>\n",
              "</table>\n",
              "</div>"
            ],
            "text/plain": [
              "           name         trt  result\n",
              "0    John Smith  treatmenta     NaN\n",
              "1      Jane Doe  treatmenta    16.0\n",
              "2  Mary Johnson  treatmenta     3.0\n",
              "3    John Smith  treatmentb     2.0\n",
              "4      Jane Doe  treatmentb    11.0\n",
              "5  Mary Johnson  treatmentb     1.0"
            ]
          },
          "metadata": {
            "tags": []
          },
          "execution_count": 307
        }
      ]
    },
    {
      "cell_type": "code",
      "metadata": {
        "id": "BuQf9-H-rru9",
        "colab_type": "code",
        "colab": {
          "base_uri": "https://localhost:8080/",
          "height": 235
        },
        "outputId": "2a494281-a851-43fc-976c-5b827fe2fc3c"
      },
      "source": [
        "tidy.trt = tidy.trt.str.replace('treatment', '')\n",
        "\n",
        "tidy"
      ],
      "execution_count": 308,
      "outputs": [
        {
          "output_type": "execute_result",
          "data": {
            "text/html": [
              "<div>\n",
              "<style scoped>\n",
              "    .dataframe tbody tr th:only-of-type {\n",
              "        vertical-align: middle;\n",
              "    }\n",
              "\n",
              "    .dataframe tbody tr th {\n",
              "        vertical-align: top;\n",
              "    }\n",
              "\n",
              "    .dataframe thead th {\n",
              "        text-align: right;\n",
              "    }\n",
              "</style>\n",
              "<table border=\"1\" class=\"dataframe\">\n",
              "  <thead>\n",
              "    <tr style=\"text-align: right;\">\n",
              "      <th></th>\n",
              "      <th>name</th>\n",
              "      <th>trt</th>\n",
              "      <th>result</th>\n",
              "    </tr>\n",
              "  </thead>\n",
              "  <tbody>\n",
              "    <tr>\n",
              "      <th>0</th>\n",
              "      <td>John Smith</td>\n",
              "      <td>a</td>\n",
              "      <td>NaN</td>\n",
              "    </tr>\n",
              "    <tr>\n",
              "      <th>1</th>\n",
              "      <td>Jane Doe</td>\n",
              "      <td>a</td>\n",
              "      <td>16.0</td>\n",
              "    </tr>\n",
              "    <tr>\n",
              "      <th>2</th>\n",
              "      <td>Mary Johnson</td>\n",
              "      <td>a</td>\n",
              "      <td>3.0</td>\n",
              "    </tr>\n",
              "    <tr>\n",
              "      <th>3</th>\n",
              "      <td>John Smith</td>\n",
              "      <td>b</td>\n",
              "      <td>2.0</td>\n",
              "    </tr>\n",
              "    <tr>\n",
              "      <th>4</th>\n",
              "      <td>Jane Doe</td>\n",
              "      <td>b</td>\n",
              "      <td>11.0</td>\n",
              "    </tr>\n",
              "    <tr>\n",
              "      <th>5</th>\n",
              "      <td>Mary Johnson</td>\n",
              "      <td>b</td>\n",
              "      <td>1.0</td>\n",
              "    </tr>\n",
              "  </tbody>\n",
              "</table>\n",
              "</div>"
            ],
            "text/plain": [
              "           name trt  result\n",
              "0    John Smith   a     NaN\n",
              "1      Jane Doe   a    16.0\n",
              "2  Mary Johnson   a     3.0\n",
              "3    John Smith   b     2.0\n",
              "4      Jane Doe   b    11.0\n",
              "5  Mary Johnson   b     1.0"
            ]
          },
          "metadata": {
            "tags": []
          },
          "execution_count": 308
        }
      ]
    },
    {
      "cell_type": "code",
      "metadata": {
        "id": "z7Y-Pc8GrzX0",
        "colab_type": "code",
        "colab": {
          "base_uri": "https://localhost:8080/",
          "height": 173
        },
        "outputId": "8b875aa5-bc31-46e1-8cc8-37cebff39a11"
      },
      "source": [
        "### Table 1 ---> Tidy\n",
        "table_1 = tidy\n",
        "table_1.trt = table_1.trt.str.replace('a', 'treatmenta')\n",
        "table_1.trt = table_1.trt.str.replace('b', 'treatmentb')\n",
        "table_1 = table_1.pivot(index = 'name', columns = 'trt', values = 'result')\n",
        "table_1.rename(columns={\n",
        "    'name': ' ', \n",
        "    'trt' : ' '\n",
        "})\n",
        "\n",
        "#Couldn't figure out how to remove trt and name"
      ],
      "execution_count": 348,
      "outputs": [
        {
          "output_type": "execute_result",
          "data": {
            "text/html": [
              "<div>\n",
              "<style scoped>\n",
              "    .dataframe tbody tr th:only-of-type {\n",
              "        vertical-align: middle;\n",
              "    }\n",
              "\n",
              "    .dataframe tbody tr th {\n",
              "        vertical-align: top;\n",
              "    }\n",
              "\n",
              "    .dataframe thead th {\n",
              "        text-align: right;\n",
              "    }\n",
              "</style>\n",
              "<table border=\"1\" class=\"dataframe\">\n",
              "  <thead>\n",
              "    <tr style=\"text-align: right;\">\n",
              "      <th>trt</th>\n",
              "      <th>tretreatmentatmenttreatmenta</th>\n",
              "      <th>tretreatmentatmenttreatmentb</th>\n",
              "    </tr>\n",
              "    <tr>\n",
              "      <th>name</th>\n",
              "      <th></th>\n",
              "      <th></th>\n",
              "    </tr>\n",
              "  </thead>\n",
              "  <tbody>\n",
              "    <tr>\n",
              "      <th>Jane Doe</th>\n",
              "      <td>16.0</td>\n",
              "      <td>11.0</td>\n",
              "    </tr>\n",
              "    <tr>\n",
              "      <th>John Smith</th>\n",
              "      <td>NaN</td>\n",
              "      <td>2.0</td>\n",
              "    </tr>\n",
              "    <tr>\n",
              "      <th>Mary Johnson</th>\n",
              "      <td>3.0</td>\n",
              "      <td>1.0</td>\n",
              "    </tr>\n",
              "  </tbody>\n",
              "</table>\n",
              "</div>"
            ],
            "text/plain": [
              "trt           tretreatmentatmenttreatmenta  tretreatmentatmenttreatmentb\n",
              "name                                                                    \n",
              "Jane Doe                              16.0                          11.0\n",
              "John Smith                             NaN                           2.0\n",
              "Mary Johnson                           3.0                           1.0"
            ]
          },
          "metadata": {
            "tags": []
          },
          "execution_count": 348
        }
      ]
    },
    {
      "cell_type": "code",
      "metadata": {
        "id": "q1Ri6HdT9Nc9",
        "colab_type": "code",
        "colab": {}
      },
      "source": [
        "table1 = pd.DataFrame(\n",
        "    [[np.nan, 2],\n",
        "     [16,    11], \n",
        "     [3,      1]],\n",
        "    index=['John Smith', 'Jane Doe', 'Mary Johnson'], \n",
        "    columns=['treatmenta', 'treatmentb'])"
      ],
      "execution_count": 0,
      "outputs": []
    },
    {
      "cell_type": "code",
      "metadata": {
        "id": "KAm4pAJh6Eh1",
        "colab_type": "code",
        "colab": {
          "base_uri": "https://localhost:8080/",
          "height": 111
        },
        "outputId": "e2aab716-2341-468f-b0c9-ababe921f2b1"
      },
      "source": [
        "table2 = table1.T\n",
        "table2\n"
      ],
      "execution_count": 354,
      "outputs": [
        {
          "output_type": "execute_result",
          "data": {
            "text/html": [
              "<div>\n",
              "<style scoped>\n",
              "    .dataframe tbody tr th:only-of-type {\n",
              "        vertical-align: middle;\n",
              "    }\n",
              "\n",
              "    .dataframe tbody tr th {\n",
              "        vertical-align: top;\n",
              "    }\n",
              "\n",
              "    .dataframe thead th {\n",
              "        text-align: right;\n",
              "    }\n",
              "</style>\n",
              "<table border=\"1\" class=\"dataframe\">\n",
              "  <thead>\n",
              "    <tr style=\"text-align: right;\">\n",
              "      <th></th>\n",
              "      <th>John Smith</th>\n",
              "      <th>Jane Doe</th>\n",
              "      <th>Mary Johnson</th>\n",
              "    </tr>\n",
              "  </thead>\n",
              "  <tbody>\n",
              "    <tr>\n",
              "      <th>treatmenta</th>\n",
              "      <td>NaN</td>\n",
              "      <td>16.0</td>\n",
              "      <td>3.0</td>\n",
              "    </tr>\n",
              "    <tr>\n",
              "      <th>treatmentb</th>\n",
              "      <td>2.0</td>\n",
              "      <td>11.0</td>\n",
              "      <td>1.0</td>\n",
              "    </tr>\n",
              "  </tbody>\n",
              "</table>\n",
              "</div>"
            ],
            "text/plain": [
              "            John Smith  Jane Doe  Mary Johnson\n",
              "treatmenta         NaN      16.0           3.0\n",
              "treatmentb         2.0      11.0           1.0"
            ]
          },
          "metadata": {
            "tags": []
          },
          "execution_count": 354
        }
      ]
    },
    {
      "cell_type": "code",
      "metadata": {
        "id": "bK36Sj9O6Kw3",
        "colab_type": "code",
        "colab": {
          "base_uri": "https://localhost:8080/",
          "height": 235
        },
        "outputId": "ecd50730-e87a-4cb8-fbdd-f2e268fbf0db"
      },
      "source": [
        "### Table 2 --> Tidy ###\n",
        "table2 = table2.T #transpose it back\n",
        "table2 = table2.reset_index() \n",
        "tidy = table2.melt(id_vars='index')\n",
        "tidy = table2.melt(id_vars='index', value_vars =['treatmenta','treatmentb'])\n",
        " tidy"
      ],
      "execution_count": 355,
      "outputs": [
        {
          "output_type": "execute_result",
          "data": {
            "text/html": [
              "<div>\n",
              "<style scoped>\n",
              "    .dataframe tbody tr th:only-of-type {\n",
              "        vertical-align: middle;\n",
              "    }\n",
              "\n",
              "    .dataframe tbody tr th {\n",
              "        vertical-align: top;\n",
              "    }\n",
              "\n",
              "    .dataframe thead th {\n",
              "        text-align: right;\n",
              "    }\n",
              "</style>\n",
              "<table border=\"1\" class=\"dataframe\">\n",
              "  <thead>\n",
              "    <tr style=\"text-align: right;\">\n",
              "      <th></th>\n",
              "      <th>index</th>\n",
              "      <th>variable</th>\n",
              "      <th>value</th>\n",
              "    </tr>\n",
              "  </thead>\n",
              "  <tbody>\n",
              "    <tr>\n",
              "      <th>0</th>\n",
              "      <td>John Smith</td>\n",
              "      <td>treatmenta</td>\n",
              "      <td>NaN</td>\n",
              "    </tr>\n",
              "    <tr>\n",
              "      <th>1</th>\n",
              "      <td>Jane Doe</td>\n",
              "      <td>treatmenta</td>\n",
              "      <td>16.0</td>\n",
              "    </tr>\n",
              "    <tr>\n",
              "      <th>2</th>\n",
              "      <td>Mary Johnson</td>\n",
              "      <td>treatmenta</td>\n",
              "      <td>3.0</td>\n",
              "    </tr>\n",
              "    <tr>\n",
              "      <th>3</th>\n",
              "      <td>John Smith</td>\n",
              "      <td>treatmentb</td>\n",
              "      <td>2.0</td>\n",
              "    </tr>\n",
              "    <tr>\n",
              "      <th>4</th>\n",
              "      <td>Jane Doe</td>\n",
              "      <td>treatmentb</td>\n",
              "      <td>11.0</td>\n",
              "    </tr>\n",
              "    <tr>\n",
              "      <th>5</th>\n",
              "      <td>Mary Johnson</td>\n",
              "      <td>treatmentb</td>\n",
              "      <td>1.0</td>\n",
              "    </tr>\n",
              "  </tbody>\n",
              "</table>\n",
              "</div>"
            ],
            "text/plain": [
              "          index    variable  value\n",
              "0    John Smith  treatmenta    NaN\n",
              "1      Jane Doe  treatmenta   16.0\n",
              "2  Mary Johnson  treatmenta    3.0\n",
              "3    John Smith  treatmentb    2.0\n",
              "4      Jane Doe  treatmentb   11.0\n",
              "5  Mary Johnson  treatmentb    1.0"
            ]
          },
          "metadata": {
            "tags": []
          },
          "execution_count": 355
        }
      ]
    },
    {
      "cell_type": "code",
      "metadata": {
        "id": "UNY-dZxRqwgs",
        "colab_type": "code",
        "colab": {
          "base_uri": "https://localhost:8080/",
          "height": 421
        },
        "outputId": "46482a17-6f68-46de-91e0-cc8bc54e8bf1"
      },
      "source": [
        "# Load seaborn's flights dataset.\n",
        "# Then create a pivot table showing the number of passengers by month and year. Use year for the index and month for the columns. \n",
        "# You've done it right if you get 112 passengers for January 1949 and 432 passengers for December 1960.\n",
        "flights.head(12)"
      ],
      "execution_count": 357,
      "outputs": [
        {
          "output_type": "execute_result",
          "data": {
            "text/html": [
              "<div>\n",
              "<style scoped>\n",
              "    .dataframe tbody tr th:only-of-type {\n",
              "        vertical-align: middle;\n",
              "    }\n",
              "\n",
              "    .dataframe tbody tr th {\n",
              "        vertical-align: top;\n",
              "    }\n",
              "\n",
              "    .dataframe thead th {\n",
              "        text-align: right;\n",
              "    }\n",
              "</style>\n",
              "<table border=\"1\" class=\"dataframe\">\n",
              "  <thead>\n",
              "    <tr style=\"text-align: right;\">\n",
              "      <th></th>\n",
              "      <th>index</th>\n",
              "      <th>year</th>\n",
              "      <th>month</th>\n",
              "      <th>passengers</th>\n",
              "    </tr>\n",
              "  </thead>\n",
              "  <tbody>\n",
              "    <tr>\n",
              "      <th>0</th>\n",
              "      <td>0</td>\n",
              "      <td>1949</td>\n",
              "      <td>January</td>\n",
              "      <td>112</td>\n",
              "    </tr>\n",
              "    <tr>\n",
              "      <th>1</th>\n",
              "      <td>1</td>\n",
              "      <td>1949</td>\n",
              "      <td>February</td>\n",
              "      <td>118</td>\n",
              "    </tr>\n",
              "    <tr>\n",
              "      <th>2</th>\n",
              "      <td>2</td>\n",
              "      <td>1949</td>\n",
              "      <td>March</td>\n",
              "      <td>132</td>\n",
              "    </tr>\n",
              "    <tr>\n",
              "      <th>3</th>\n",
              "      <td>3</td>\n",
              "      <td>1949</td>\n",
              "      <td>April</td>\n",
              "      <td>129</td>\n",
              "    </tr>\n",
              "    <tr>\n",
              "      <th>4</th>\n",
              "      <td>4</td>\n",
              "      <td>1949</td>\n",
              "      <td>May</td>\n",
              "      <td>121</td>\n",
              "    </tr>\n",
              "    <tr>\n",
              "      <th>5</th>\n",
              "      <td>5</td>\n",
              "      <td>1949</td>\n",
              "      <td>June</td>\n",
              "      <td>135</td>\n",
              "    </tr>\n",
              "    <tr>\n",
              "      <th>6</th>\n",
              "      <td>6</td>\n",
              "      <td>1949</td>\n",
              "      <td>July</td>\n",
              "      <td>148</td>\n",
              "    </tr>\n",
              "    <tr>\n",
              "      <th>7</th>\n",
              "      <td>7</td>\n",
              "      <td>1949</td>\n",
              "      <td>August</td>\n",
              "      <td>148</td>\n",
              "    </tr>\n",
              "    <tr>\n",
              "      <th>8</th>\n",
              "      <td>8</td>\n",
              "      <td>1949</td>\n",
              "      <td>September</td>\n",
              "      <td>136</td>\n",
              "    </tr>\n",
              "    <tr>\n",
              "      <th>9</th>\n",
              "      <td>9</td>\n",
              "      <td>1949</td>\n",
              "      <td>October</td>\n",
              "      <td>119</td>\n",
              "    </tr>\n",
              "    <tr>\n",
              "      <th>10</th>\n",
              "      <td>10</td>\n",
              "      <td>1949</td>\n",
              "      <td>November</td>\n",
              "      <td>104</td>\n",
              "    </tr>\n",
              "    <tr>\n",
              "      <th>11</th>\n",
              "      <td>11</td>\n",
              "      <td>1949</td>\n",
              "      <td>December</td>\n",
              "      <td>118</td>\n",
              "    </tr>\n",
              "  </tbody>\n",
              "</table>\n",
              "</div>"
            ],
            "text/plain": [
              "    index  year      month  passengers\n",
              "0       0  1949    January         112\n",
              "1       1  1949   February         118\n",
              "2       2  1949      March         132\n",
              "3       3  1949      April         129\n",
              "4       4  1949        May         121\n",
              "5       5  1949       June         135\n",
              "6       6  1949       July         148\n",
              "7       7  1949     August         148\n",
              "8       8  1949  September         136\n",
              "9       9  1949    October         119\n",
              "10     10  1949   November         104\n",
              "11     11  1949   December         118"
            ]
          },
          "metadata": {
            "tags": []
          },
          "execution_count": 357
        }
      ]
    },
    {
      "cell_type": "code",
      "metadata": {
        "id": "O2qmhnjYrGQq",
        "colab_type": "code",
        "colab": {
          "base_uri": "https://localhost:8080/",
          "height": 452
        },
        "outputId": "e9f1956a-751d-44cc-8427-a720bd32d49f"
      },
      "source": [
        "flights_pivot = flights.pivot(index = 'month', columns = 'year', values = 'passengers')\n",
        "flights_pivot #display new dataframe"
      ],
      "execution_count": 366,
      "outputs": [
        {
          "output_type": "execute_result",
          "data": {
            "text/html": [
              "<div>\n",
              "<style scoped>\n",
              "    .dataframe tbody tr th:only-of-type {\n",
              "        vertical-align: middle;\n",
              "    }\n",
              "\n",
              "    .dataframe tbody tr th {\n",
              "        vertical-align: top;\n",
              "    }\n",
              "\n",
              "    .dataframe thead th {\n",
              "        text-align: right;\n",
              "    }\n",
              "</style>\n",
              "<table border=\"1\" class=\"dataframe\">\n",
              "  <thead>\n",
              "    <tr style=\"text-align: right;\">\n",
              "      <th>year</th>\n",
              "      <th>1949</th>\n",
              "      <th>1950</th>\n",
              "      <th>1951</th>\n",
              "      <th>1952</th>\n",
              "      <th>1953</th>\n",
              "      <th>1954</th>\n",
              "      <th>1955</th>\n",
              "      <th>1956</th>\n",
              "      <th>1957</th>\n",
              "      <th>1958</th>\n",
              "      <th>1959</th>\n",
              "      <th>1960</th>\n",
              "    </tr>\n",
              "    <tr>\n",
              "      <th>month</th>\n",
              "      <th></th>\n",
              "      <th></th>\n",
              "      <th></th>\n",
              "      <th></th>\n",
              "      <th></th>\n",
              "      <th></th>\n",
              "      <th></th>\n",
              "      <th></th>\n",
              "      <th></th>\n",
              "      <th></th>\n",
              "      <th></th>\n",
              "      <th></th>\n",
              "    </tr>\n",
              "  </thead>\n",
              "  <tbody>\n",
              "    <tr>\n",
              "      <th>April</th>\n",
              "      <td>129</td>\n",
              "      <td>135</td>\n",
              "      <td>163</td>\n",
              "      <td>181</td>\n",
              "      <td>235</td>\n",
              "      <td>227</td>\n",
              "      <td>269</td>\n",
              "      <td>313</td>\n",
              "      <td>348</td>\n",
              "      <td>348</td>\n",
              "      <td>396</td>\n",
              "      <td>461</td>\n",
              "    </tr>\n",
              "    <tr>\n",
              "      <th>August</th>\n",
              "      <td>148</td>\n",
              "      <td>170</td>\n",
              "      <td>199</td>\n",
              "      <td>242</td>\n",
              "      <td>272</td>\n",
              "      <td>293</td>\n",
              "      <td>347</td>\n",
              "      <td>405</td>\n",
              "      <td>467</td>\n",
              "      <td>505</td>\n",
              "      <td>559</td>\n",
              "      <td>606</td>\n",
              "    </tr>\n",
              "    <tr>\n",
              "      <th>December</th>\n",
              "      <td>118</td>\n",
              "      <td>140</td>\n",
              "      <td>166</td>\n",
              "      <td>194</td>\n",
              "      <td>201</td>\n",
              "      <td>229</td>\n",
              "      <td>278</td>\n",
              "      <td>306</td>\n",
              "      <td>336</td>\n",
              "      <td>337</td>\n",
              "      <td>405</td>\n",
              "      <td>432</td>\n",
              "    </tr>\n",
              "    <tr>\n",
              "      <th>February</th>\n",
              "      <td>118</td>\n",
              "      <td>126</td>\n",
              "      <td>150</td>\n",
              "      <td>180</td>\n",
              "      <td>196</td>\n",
              "      <td>188</td>\n",
              "      <td>233</td>\n",
              "      <td>277</td>\n",
              "      <td>301</td>\n",
              "      <td>318</td>\n",
              "      <td>342</td>\n",
              "      <td>391</td>\n",
              "    </tr>\n",
              "    <tr>\n",
              "      <th>January</th>\n",
              "      <td>112</td>\n",
              "      <td>115</td>\n",
              "      <td>145</td>\n",
              "      <td>171</td>\n",
              "      <td>196</td>\n",
              "      <td>204</td>\n",
              "      <td>242</td>\n",
              "      <td>284</td>\n",
              "      <td>315</td>\n",
              "      <td>340</td>\n",
              "      <td>360</td>\n",
              "      <td>417</td>\n",
              "    </tr>\n",
              "    <tr>\n",
              "      <th>July</th>\n",
              "      <td>148</td>\n",
              "      <td>170</td>\n",
              "      <td>199</td>\n",
              "      <td>230</td>\n",
              "      <td>264</td>\n",
              "      <td>302</td>\n",
              "      <td>364</td>\n",
              "      <td>413</td>\n",
              "      <td>465</td>\n",
              "      <td>491</td>\n",
              "      <td>548</td>\n",
              "      <td>622</td>\n",
              "    </tr>\n",
              "    <tr>\n",
              "      <th>June</th>\n",
              "      <td>135</td>\n",
              "      <td>149</td>\n",
              "      <td>178</td>\n",
              "      <td>218</td>\n",
              "      <td>243</td>\n",
              "      <td>264</td>\n",
              "      <td>315</td>\n",
              "      <td>374</td>\n",
              "      <td>422</td>\n",
              "      <td>435</td>\n",
              "      <td>472</td>\n",
              "      <td>535</td>\n",
              "    </tr>\n",
              "    <tr>\n",
              "      <th>March</th>\n",
              "      <td>132</td>\n",
              "      <td>141</td>\n",
              "      <td>178</td>\n",
              "      <td>193</td>\n",
              "      <td>236</td>\n",
              "      <td>235</td>\n",
              "      <td>267</td>\n",
              "      <td>317</td>\n",
              "      <td>356</td>\n",
              "      <td>362</td>\n",
              "      <td>406</td>\n",
              "      <td>419</td>\n",
              "    </tr>\n",
              "    <tr>\n",
              "      <th>May</th>\n",
              "      <td>121</td>\n",
              "      <td>125</td>\n",
              "      <td>172</td>\n",
              "      <td>183</td>\n",
              "      <td>229</td>\n",
              "      <td>234</td>\n",
              "      <td>270</td>\n",
              "      <td>318</td>\n",
              "      <td>355</td>\n",
              "      <td>363</td>\n",
              "      <td>420</td>\n",
              "      <td>472</td>\n",
              "    </tr>\n",
              "    <tr>\n",
              "      <th>November</th>\n",
              "      <td>104</td>\n",
              "      <td>114</td>\n",
              "      <td>146</td>\n",
              "      <td>172</td>\n",
              "      <td>180</td>\n",
              "      <td>203</td>\n",
              "      <td>237</td>\n",
              "      <td>271</td>\n",
              "      <td>305</td>\n",
              "      <td>310</td>\n",
              "      <td>362</td>\n",
              "      <td>390</td>\n",
              "    </tr>\n",
              "    <tr>\n",
              "      <th>October</th>\n",
              "      <td>119</td>\n",
              "      <td>133</td>\n",
              "      <td>162</td>\n",
              "      <td>191</td>\n",
              "      <td>211</td>\n",
              "      <td>229</td>\n",
              "      <td>274</td>\n",
              "      <td>306</td>\n",
              "      <td>347</td>\n",
              "      <td>359</td>\n",
              "      <td>407</td>\n",
              "      <td>461</td>\n",
              "    </tr>\n",
              "    <tr>\n",
              "      <th>September</th>\n",
              "      <td>136</td>\n",
              "      <td>158</td>\n",
              "      <td>184</td>\n",
              "      <td>209</td>\n",
              "      <td>237</td>\n",
              "      <td>259</td>\n",
              "      <td>312</td>\n",
              "      <td>355</td>\n",
              "      <td>404</td>\n",
              "      <td>404</td>\n",
              "      <td>463</td>\n",
              "      <td>508</td>\n",
              "    </tr>\n",
              "  </tbody>\n",
              "</table>\n",
              "</div>"
            ],
            "text/plain": [
              "year       1949  1950  1951  1952  1953  ...  1956  1957  1958  1959  1960\n",
              "month                                    ...                              \n",
              "April       129   135   163   181   235  ...   313   348   348   396   461\n",
              "August      148   170   199   242   272  ...   405   467   505   559   606\n",
              "December    118   140   166   194   201  ...   306   336   337   405   432\n",
              "February    118   126   150   180   196  ...   277   301   318   342   391\n",
              "January     112   115   145   171   196  ...   284   315   340   360   417\n",
              "July        148   170   199   230   264  ...   413   465   491   548   622\n",
              "June        135   149   178   218   243  ...   374   422   435   472   535\n",
              "March       132   141   178   193   236  ...   317   356   362   406   419\n",
              "May         121   125   172   183   229  ...   318   355   363   420   472\n",
              "November    104   114   146   172   180  ...   271   305   310   362   390\n",
              "October     119   133   162   191   211  ...   306   347   359   407   461\n",
              "September   136   158   184   209   237  ...   355   404   404   463   508\n",
              "\n",
              "[12 rows x 12 columns]"
            ]
          },
          "metadata": {
            "tags": []
          },
          "execution_count": 366
        }
      ]
    },
    {
      "cell_type": "markdown",
      "metadata": {
        "id": "mnOuqL9K0dqh",
        "colab_type": "text"
      },
      "source": [
        "## Join Data Stretch Challenge\n",
        "\n",
        "The [Instacart blog post](https://tech.instacart.com/3-million-instacart-orders-open-sourced-d40d29ead6f2) has a visualization of \"**Popular products** purchased earliest in the day (green) and latest in the day (red).\" \n",
        "\n",
        "The post says,\n",
        "\n",
        "> \"We can also see the time of day that users purchase specific products.\n",
        "\n",
        "> Healthier snacks and staples tend to be purchased earlier in the day, whereas ice cream (especially Half Baked and The Tonight Dough) are far more popular when customers are ordering in the evening.\n",
        "\n",
        "> **In fact, of the top 25 latest ordered products, the first 24 are ice cream! The last one, of course, is a frozen pizza.**\"\n",
        "\n",
        "Your challenge is to reproduce the list of the top 25 latest ordered popular products.\n",
        "\n",
        "We'll define \"popular products\" as products with more than 2,900 orders.\n",
        "\n"
      ]
    },
    {
      "cell_type": "code",
      "metadata": {
        "id": "B-QNMrVkYap4",
        "colab_type": "code",
        "colab": {}
      },
      "source": [
        "##### YOUR CODE HERE #####"
      ],
      "execution_count": 0,
      "outputs": []
    },
    {
      "cell_type": "markdown",
      "metadata": {
        "id": "Ij8S60q0YXxo",
        "colab_type": "text"
      },
      "source": [
        "## Reshape Data Stretch Challenge\n",
        "\n",
        "_Try whatever sounds most interesting to you!_\n",
        "\n",
        "- Replicate more of Instacart's visualization showing \"Hour of Day Ordered\" vs \"Percent of Orders by Product\"\n",
        "- Replicate parts of the other visualization from [Instacart's blog post](https://tech.instacart.com/3-million-instacart-orders-open-sourced-d40d29ead6f2), showing \"Number of Purchases\" vs \"Percent Reorder Purchases\"\n",
        "- Get the most recent order for each user in Instacart's dataset. This is a useful baseline when [predicting a user's next order](https://www.kaggle.com/c/instacart-market-basket-analysis)\n",
        "- Replicate parts of the blog post linked at the top of this notebook: [Modern Pandas, Part 5: Tidy Data](https://tomaugspurger.github.io/modern-5-tidy.html)"
      ]
    },
    {
      "cell_type": "code",
      "metadata": {
        "id": "_d6IA2R0YXFY",
        "colab_type": "code",
        "colab": {}
      },
      "source": [
        "##### YOUR CODE HERE #####"
      ],
      "execution_count": 0,
      "outputs": []
    }
  ]
}