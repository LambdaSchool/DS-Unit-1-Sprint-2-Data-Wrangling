{
  "nbformat": 4,
  "nbformat_minor": 0,
  "metadata": {
    "colab": {
      "name": "LS_DS3_121_Scrape_and_process_data_LIVE_LESSON.ipynb",
      "version": "0.3.2",
      "provenance": [],
      "collapsed_sections": [],
      "include_colab_link": true
    },
    "kernelspec": {
      "display_name": "Python 3",
      "language": "python",
      "name": "python3"
    }
  },
  "cells": [
    {
      "cell_type": "markdown",
      "metadata": {
        "id": "view-in-github",
        "colab_type": "text"
      },
      "source": [
        "<a href=\"https://colab.research.google.com/github/tomfox1/DS-Unit-1-Sprint-2-Data-Wrangling/blob/master/LS_DS3_121_Scrape_and_process_data_LIVE_LESSON.ipynb\" target=\"_parent\"><img src=\"https://colab.research.google.com/assets/colab-badge.svg\" alt=\"Open In Colab\"/></a>"
      ]
    },
    {
      "metadata": {
        "colab_type": "text",
        "id": "oR4Yeg3P07gu"
      },
      "cell_type": "markdown",
      "source": [
        "_Lambda School Data Science_\n",
        "\n",
        "# Scrape and process data\n",
        "\n",
        "Objectives\n",
        "- scrape and parse web pages\n",
        "- use list comprehensions\n",
        "- select rows and columns with pandas\n",
        "\n",
        "Links\n",
        "-  [Automate the Boring Stuff with Python, Chapter 11](https://automatetheboringstuff.com/chapter11/)\n",
        "  - Requests\n",
        "  - Beautiful Soup\n",
        "- [Python List Comprehensions: Explained Visually](https://treyhunner.com/2015/12/python-list-comprehensions-now-in-color/)\n",
        "- [Pandas Cheat Sheet](https://github.com/pandas-dev/pandas/blob/master/doc/cheatsheet/Pandas_Cheat_Sheet.pdf)\n",
        "  - Subset Observations (Rows)\n",
        "  - Subset Variables (Columns)\n",
        "- Python Data Science Handbook\n",
        "  - [Chapter 3.1](https://jakevdp.github.io/PythonDataScienceHandbook/03.01-introducing-pandas-objects.html), Introducing Pandas Objects\n",
        "  - [Chapter 3.2](https://jakevdp.github.io/PythonDataScienceHandbook/03.02-data-indexing-and-selection.html), Data Indexing and Selection\n"
      ]
    },
    {
      "metadata": {
        "colab_type": "text",
        "id": "I_NRVchqgGvM"
      },
      "cell_type": "markdown",
      "source": [
        "## Scrape the titles of PyCon 2019 talks"
      ]
    },
    {
      "metadata": {
        "colab_type": "code",
        "id": "3elw_8Nc7Tpe",
        "colab": {}
      },
      "cell_type": "code",
      "source": [
        "url = 'https://us.pycon.org/2019/schedule/talks/list/'"
      ],
      "execution_count": 0,
      "outputs": []
    },
    {
      "metadata": {
        "colab_type": "code",
        "id": "SFNsyjVsTU4b",
        "colab": {}
      },
      "cell_type": "code",
      "source": [
        "import bs4\n",
        "import requests\n",
        "\n",
        "result = requests.get(url)"
      ],
      "execution_count": 0,
      "outputs": []
    },
    {
      "metadata": {
        "id": "1bprX20Wn8L7",
        "colab_type": "code",
        "outputId": "1c14262c-1d66-41f6-c9c7-ba9dcd7b4c62",
        "colab": {
          "base_uri": "https://localhost:8080/",
          "height": 34
        }
      },
      "cell_type": "code",
      "source": [
        "result"
      ],
      "execution_count": 76,
      "outputs": [
        {
          "output_type": "execute_result",
          "data": {
            "text/plain": [
              "<Response [200]>"
            ]
          },
          "metadata": {
            "tags": []
          },
          "execution_count": 76
        }
      ]
    },
    {
      "metadata": {
        "id": "ib_JJ8P_oJ6p",
        "colab_type": "code",
        "outputId": "642219d8-c50f-42a0-8eb3-8e803108a786",
        "colab": {
          "base_uri": "https://localhost:8080/",
          "height": 34
        }
      },
      "cell_type": "code",
      "source": [
        "type(result)"
      ],
      "execution_count": 77,
      "outputs": [
        {
          "output_type": "execute_result",
          "data": {
            "text/plain": [
              "requests.models.Response"
            ]
          },
          "metadata": {
            "tags": []
          },
          "execution_count": 77
        }
      ]
    },
    {
      "metadata": {
        "id": "SeOWUFPvoUIi",
        "colab_type": "code",
        "colab": {}
      },
      "cell_type": "code",
      "source": [
        "#result.text"
      ],
      "execution_count": 0,
      "outputs": []
    },
    {
      "metadata": {
        "id": "Ll11XyMao7Zt",
        "colab_type": "code",
        "outputId": "26b8c6f3-3972-4f17-c748-165af9771fdb",
        "colab": {
          "base_uri": "https://localhost:8080/",
          "height": 34
        }
      },
      "cell_type": "code",
      "source": [
        "type(result.text)"
      ],
      "execution_count": 79,
      "outputs": [
        {
          "output_type": "execute_result",
          "data": {
            "text/plain": [
              "str"
            ]
          },
          "metadata": {
            "tags": []
          },
          "execution_count": 79
        }
      ]
    },
    {
      "metadata": {
        "id": "uyswhYlTpIYk",
        "colab_type": "code",
        "colab": {}
      },
      "cell_type": "code",
      "source": [
        "soup = bs4.BeautifulSoup(result.text)"
      ],
      "execution_count": 0,
      "outputs": []
    },
    {
      "metadata": {
        "id": "f01jAutjpXtW",
        "colab_type": "code",
        "colab": {}
      },
      "cell_type": "code",
      "source": [
        "#soup"
      ],
      "execution_count": 0,
      "outputs": []
    },
    {
      "metadata": {
        "id": "TnM0ZBWzpZKg",
        "colab_type": "code",
        "outputId": "6d5820d9-7fd1-4ccf-fb53-fd60653d45fe",
        "colab": {
          "base_uri": "https://localhost:8080/",
          "height": 34
        }
      },
      "cell_type": "code",
      "source": [
        "type(soup)"
      ],
      "execution_count": 82,
      "outputs": [
        {
          "output_type": "execute_result",
          "data": {
            "text/plain": [
              "bs4.BeautifulSoup"
            ]
          },
          "metadata": {
            "tags": []
          },
          "execution_count": 82
        }
      ]
    },
    {
      "metadata": {
        "id": "HTImXjZBpi6z",
        "colab_type": "code",
        "colab": {}
      },
      "cell_type": "code",
      "source": [
        "#soup.select('h2')"
      ],
      "execution_count": 0,
      "outputs": []
    },
    {
      "metadata": {
        "id": "UGzCedBAqeOe",
        "colab_type": "code",
        "outputId": "787486ee-e7dc-4643-c141-270edf22b997",
        "colab": {
          "base_uri": "https://localhost:8080/",
          "height": 34
        }
      },
      "cell_type": "code",
      "source": [
        "type(soup.select('h2'))"
      ],
      "execution_count": 84,
      "outputs": [
        {
          "output_type": "execute_result",
          "data": {
            "text/plain": [
              "list"
            ]
          },
          "metadata": {
            "tags": []
          },
          "execution_count": 84
        }
      ]
    },
    {
      "metadata": {
        "id": "q3aaNKylqszP",
        "colab_type": "code",
        "outputId": "868903d0-ce7e-4863-ebe8-f0bd865dc89a",
        "colab": {
          "base_uri": "https://localhost:8080/",
          "height": 34
        }
      },
      "cell_type": "code",
      "source": [
        "len(soup.select('h2'))"
      ],
      "execution_count": 85,
      "outputs": [
        {
          "output_type": "execute_result",
          "data": {
            "text/plain": [
              "95"
            ]
          },
          "metadata": {
            "tags": []
          },
          "execution_count": 85
        }
      ]
    },
    {
      "metadata": {
        "id": "jKUFI4SZq1Ha",
        "colab_type": "code",
        "colab": {}
      },
      "cell_type": "code",
      "source": [
        "first = soup.select('h2')[0]"
      ],
      "execution_count": 0,
      "outputs": []
    },
    {
      "metadata": {
        "id": "J7FHnLzorKJd",
        "colab_type": "code",
        "outputId": "ae6630f3-93ce-4415-b064-f73c13bcdd87",
        "colab": {
          "base_uri": "https://localhost:8080/",
          "height": 102
        }
      },
      "cell_type": "code",
      "source": [
        "first"
      ],
      "execution_count": 87,
      "outputs": [
        {
          "output_type": "execute_result",
          "data": {
            "text/plain": [
              "<h2>\n",
              "<a href=\"/2019/schedule/presentation/235/\" id=\"presentation-235\">\n",
              "        5 Steps to Build Python Native GUI Widgets for BeeWare\n",
              "      </a>\n",
              "</h2>"
            ]
          },
          "metadata": {
            "tags": []
          },
          "execution_count": 87
        }
      ]
    },
    {
      "metadata": {
        "id": "oAYCbNdvrWk5",
        "colab_type": "code",
        "outputId": "e921d4cf-bbed-4e1f-ff03-447a3aa81381",
        "colab": {
          "base_uri": "https://localhost:8080/",
          "height": 34
        }
      },
      "cell_type": "code",
      "source": [
        "type(first)"
      ],
      "execution_count": 88,
      "outputs": [
        {
          "output_type": "execute_result",
          "data": {
            "text/plain": [
              "bs4.element.Tag"
            ]
          },
          "metadata": {
            "tags": []
          },
          "execution_count": 88
        }
      ]
    },
    {
      "metadata": {
        "id": "j5mGcuoLrXqY",
        "colab_type": "code",
        "outputId": "efdac957-462e-4e37-c4e9-136dc56e92b3",
        "colab": {
          "base_uri": "https://localhost:8080/",
          "height": 34
        }
      },
      "cell_type": "code",
      "source": [
        "first.text"
      ],
      "execution_count": 89,
      "outputs": [
        {
          "output_type": "execute_result",
          "data": {
            "text/plain": [
              "'\\n\\n        5 Steps to Build Python Native GUI Widgets for BeeWare\\n      \\n'"
            ]
          },
          "metadata": {
            "tags": []
          },
          "execution_count": 89
        }
      ]
    },
    {
      "metadata": {
        "id": "N9qBTlirrifi",
        "colab_type": "code",
        "outputId": "772a7449-7a32-407e-dfb1-ea6b01d40258",
        "colab": {
          "base_uri": "https://localhost:8080/",
          "height": 34
        }
      },
      "cell_type": "code",
      "source": [
        "type(first.text)"
      ],
      "execution_count": 90,
      "outputs": [
        {
          "output_type": "execute_result",
          "data": {
            "text/plain": [
              "str"
            ]
          },
          "metadata": {
            "tags": []
          },
          "execution_count": 90
        }
      ]
    },
    {
      "metadata": {
        "id": "9Cab_evdrq2g",
        "colab_type": "code",
        "outputId": "f46337e6-bcf3-4abf-d1f1-ac6ed65b16b7",
        "colab": {
          "base_uri": "https://localhost:8080/",
          "height": 34
        }
      },
      "cell_type": "code",
      "source": [
        "first.text.strip()"
      ],
      "execution_count": 91,
      "outputs": [
        {
          "output_type": "execute_result",
          "data": {
            "text/plain": [
              "'5 Steps to Build Python Native GUI Widgets for BeeWare'"
            ]
          },
          "metadata": {
            "tags": []
          },
          "execution_count": 91
        }
      ]
    },
    {
      "metadata": {
        "id": "IUvXaP7xr9ti",
        "colab_type": "code",
        "outputId": "39066118-e2f8-4e92-f83a-4e9183a8ec7c",
        "colab": {
          "base_uri": "https://localhost:8080/",
          "height": 34
        }
      },
      "cell_type": "code",
      "source": [
        "last = soup.select('h2')[-1]\n",
        "last.text.strip()"
      ],
      "execution_count": 92,
      "outputs": [
        {
          "output_type": "execute_result",
          "data": {
            "text/plain": [
              "\"Working with Time Zones: Everything You Wish You Didn't Need to Know\""
            ]
          },
          "metadata": {
            "tags": []
          },
          "execution_count": 92
        }
      ]
    },
    {
      "metadata": {
        "id": "UyXS90Wkscnw",
        "colab_type": "code",
        "colab": {}
      },
      "cell_type": "code",
      "source": [
        "# This ...\n",
        "titles = []\n",
        "for tag in soup.select('h2'):\n",
        "    title = tag.text.strip()\n",
        "    titles.append(title)\n",
        "    \n",
        "\n",
        "# ... is the same as this:\n",
        "titles = [tag.text.strip() \n",
        "          for tag in soup.select('h2')]"
      ],
      "execution_count": 0,
      "outputs": []
    },
    {
      "metadata": {
        "id": "K8VEXKAft549",
        "colab_type": "code",
        "outputId": "8ed994c4-0ca5-4f64-cbdd-5f3ab68206d1",
        "colab": {
          "base_uri": "https://localhost:8080/",
          "height": 34
        }
      },
      "cell_type": "code",
      "source": [
        "type(titles), len(titles)"
      ],
      "execution_count": 94,
      "outputs": [
        {
          "output_type": "execute_result",
          "data": {
            "text/plain": [
              "(list, 95)"
            ]
          },
          "metadata": {
            "tags": []
          },
          "execution_count": 94
        }
      ]
    },
    {
      "metadata": {
        "id": "C_zw92wttVp7",
        "colab_type": "code",
        "outputId": "dbf174b1-be30-434f-f7d8-92039843e1f8",
        "colab": {
          "base_uri": "https://localhost:8080/",
          "height": 51
        }
      },
      "cell_type": "code",
      "source": [
        "titles[0], titles[-1]"
      ],
      "execution_count": 95,
      "outputs": [
        {
          "output_type": "execute_result",
          "data": {
            "text/plain": [
              "('5 Steps to Build Python Native GUI Widgets for BeeWare',\n",
              " \"Working with Time Zones: Everything You Wish You Didn't Need to Know\")"
            ]
          },
          "metadata": {
            "tags": []
          },
          "execution_count": 95
        }
      ]
    },
    {
      "metadata": {
        "colab_type": "text",
        "id": "vqkNgAzYpeK7"
      },
      "cell_type": "markdown",
      "source": [
        "## 5 ways to look at long titles\n",
        "\n",
        "Let's define a long title as greater than 80 characters"
      ]
    },
    {
      "metadata": {
        "colab_type": "text",
        "id": "N7tqeZh14Fws"
      },
      "cell_type": "markdown",
      "source": [
        "### 1. For Loop"
      ]
    },
    {
      "metadata": {
        "colab_type": "code",
        "id": "kKxs5tqDApuZ",
        "outputId": "c6059892-df6f-4f9a-f8ec-327268c2361d",
        "colab": {
          "base_uri": "https://localhost:8080/",
          "height": 153
        }
      },
      "cell_type": "code",
      "source": [
        "long_titles = []\n",
        "for title in titles:\n",
        "    if len(title) > 80:\n",
        "        long_titles.append(title)\n",
        "        \n",
        "long_titles"
      ],
      "execution_count": 96,
      "outputs": [
        {
          "output_type": "execute_result",
          "data": {
            "text/plain": [
              "['¡Escuincla babosa!: Creating a telenovela script in three Python deep learning frameworks',\n",
              " 'Getting started with Deep Learning: Using Keras & Numpy to detect voice disorders',\n",
              " 'How to engage Python contributors in the long term? Tech is easy, people are hard.',\n",
              " 'Lessons learned from building a community of Python users among thousands of analysts',\n",
              " 'Life Is Better Painted Black, or: How to Stop Worrying and Embrace Auto-Formatting',\n",
              " 'One Engineer, an API, and an MVP: Or, how I spent one hour improving hiring data at my company.',\n",
              " 'Put down the deep learning: When not to use neural networks and what to do instead',\n",
              " 'Thinking Inside the Box: How Python Helped Us Adapt to An Existing Data Ingestion Pipeline']"
            ]
          },
          "metadata": {
            "tags": []
          },
          "execution_count": 96
        }
      ]
    },
    {
      "metadata": {
        "colab_type": "text",
        "id": "I21jcEnK4IN7"
      },
      "cell_type": "markdown",
      "source": [
        "### 2. List Comprehension"
      ]
    },
    {
      "metadata": {
        "colab_type": "code",
        "id": "qaXe9UldAs3H",
        "outputId": "46d58759-d464-44e7-e572-37eb96307850",
        "colab": {
          "base_uri": "https://localhost:8080/",
          "height": 153
        }
      },
      "cell_type": "code",
      "source": [
        "[title for title in titles \n",
        " if len(title) > 80]"
      ],
      "execution_count": 97,
      "outputs": [
        {
          "output_type": "execute_result",
          "data": {
            "text/plain": [
              "['¡Escuincla babosa!: Creating a telenovela script in three Python deep learning frameworks',\n",
              " 'Getting started with Deep Learning: Using Keras & Numpy to detect voice disorders',\n",
              " 'How to engage Python contributors in the long term? Tech is easy, people are hard.',\n",
              " 'Lessons learned from building a community of Python users among thousands of analysts',\n",
              " 'Life Is Better Painted Black, or: How to Stop Worrying and Embrace Auto-Formatting',\n",
              " 'One Engineer, an API, and an MVP: Or, how I spent one hour improving hiring data at my company.',\n",
              " 'Put down the deep learning: When not to use neural networks and what to do instead',\n",
              " 'Thinking Inside the Box: How Python Helped Us Adapt to An Existing Data Ingestion Pipeline']"
            ]
          },
          "metadata": {
            "tags": []
          },
          "execution_count": 97
        }
      ]
    },
    {
      "metadata": {
        "colab_type": "text",
        "id": "2kn8pxL-4yMG"
      },
      "cell_type": "markdown",
      "source": [
        "### 3. Filter with named function"
      ]
    },
    {
      "metadata": {
        "colab_type": "code",
        "id": "ywLqqFJNAvFm",
        "outputId": "57faaab2-b7ba-4d93-cbc7-4c95f30915f7",
        "colab": {
          "base_uri": "https://localhost:8080/",
          "height": 34
        }
      },
      "cell_type": "code",
      "source": [
        "def long(title):\n",
        "    return len(title) > 80\n",
        "\n",
        "long('Python is good!')"
      ],
      "execution_count": 98,
      "outputs": [
        {
          "output_type": "execute_result",
          "data": {
            "text/plain": [
              "False"
            ]
          },
          "metadata": {
            "tags": []
          },
          "execution_count": 98
        }
      ]
    },
    {
      "metadata": {
        "id": "7eHzBvQNv1lA",
        "colab_type": "code",
        "outputId": "a74b1da9-1287-4542-875c-adfb80ea2f86",
        "colab": {
          "base_uri": "https://localhost:8080/",
          "height": 34
        }
      },
      "cell_type": "code",
      "source": [
        "long('Thinking Inside the Box: How Python Helped Us Adapt to An Existing Data Ingestion Pipeline')"
      ],
      "execution_count": 99,
      "outputs": [
        {
          "output_type": "execute_result",
          "data": {
            "text/plain": [
              "True"
            ]
          },
          "metadata": {
            "tags": []
          },
          "execution_count": 99
        }
      ]
    },
    {
      "metadata": {
        "id": "lEHdazqPv8sG",
        "colab_type": "code",
        "outputId": "2318db07-0be9-47c6-c996-68b9c84b7395",
        "colab": {
          "base_uri": "https://localhost:8080/",
          "height": 153
        }
      },
      "cell_type": "code",
      "source": [
        "list(filter(long, titles))"
      ],
      "execution_count": 100,
      "outputs": [
        {
          "output_type": "execute_result",
          "data": {
            "text/plain": [
              "['¡Escuincla babosa!: Creating a telenovela script in three Python deep learning frameworks',\n",
              " 'Getting started with Deep Learning: Using Keras & Numpy to detect voice disorders',\n",
              " 'How to engage Python contributors in the long term? Tech is easy, people are hard.',\n",
              " 'Lessons learned from building a community of Python users among thousands of analysts',\n",
              " 'Life Is Better Painted Black, or: How to Stop Worrying and Embrace Auto-Formatting',\n",
              " 'One Engineer, an API, and an MVP: Or, how I spent one hour improving hiring data at my company.',\n",
              " 'Put down the deep learning: When not to use neural networks and what to do instead',\n",
              " 'Thinking Inside the Box: How Python Helped Us Adapt to An Existing Data Ingestion Pipeline']"
            ]
          },
          "metadata": {
            "tags": []
          },
          "execution_count": 100
        }
      ]
    },
    {
      "metadata": {
        "colab_type": "text",
        "id": "IPIT6oXz40Q3"
      },
      "cell_type": "markdown",
      "source": [
        "### 4. Filter with anonymous function"
      ]
    },
    {
      "metadata": {
        "colab_type": "code",
        "id": "giIcFYkiAwiR",
        "outputId": "3037a185-fc56-4c35-cfef-d15558dc6765",
        "colab": {
          "base_uri": "https://localhost:8080/",
          "height": 153
        }
      },
      "cell_type": "code",
      "source": [
        "list(filter(lambda t: len(t) > 80, titles))"
      ],
      "execution_count": 101,
      "outputs": [
        {
          "output_type": "execute_result",
          "data": {
            "text/plain": [
              "['¡Escuincla babosa!: Creating a telenovela script in three Python deep learning frameworks',\n",
              " 'Getting started with Deep Learning: Using Keras & Numpy to detect voice disorders',\n",
              " 'How to engage Python contributors in the long term? Tech is easy, people are hard.',\n",
              " 'Lessons learned from building a community of Python users among thousands of analysts',\n",
              " 'Life Is Better Painted Black, or: How to Stop Worrying and Embrace Auto-Formatting',\n",
              " 'One Engineer, an API, and an MVP: Or, how I spent one hour improving hiring data at my company.',\n",
              " 'Put down the deep learning: When not to use neural networks and what to do instead',\n",
              " 'Thinking Inside the Box: How Python Helped Us Adapt to An Existing Data Ingestion Pipeline']"
            ]
          },
          "metadata": {
            "tags": []
          },
          "execution_count": 101
        }
      ]
    },
    {
      "metadata": {
        "colab_type": "text",
        "id": "qj8Yod8_45z4"
      },
      "cell_type": "markdown",
      "source": [
        "### 5. Pandas\n",
        "\n",
        "pandas documentation: [Working with Text Data](https://pandas.pydata.org/pandas-docs/stable/text.html)"
      ]
    },
    {
      "metadata": {
        "colab_type": "code",
        "id": "yRwPEHNcAzc_",
        "colab": {}
      },
      "cell_type": "code",
      "source": [
        "import pandas as pd\n",
        "pd.options.display.max_colwidth = 200"
      ],
      "execution_count": 0,
      "outputs": []
    },
    {
      "metadata": {
        "id": "XxQQYuzdx9ya",
        "colab_type": "code",
        "outputId": "e8ac7e12-6de8-4324-dbdd-09f4caa3dcb6",
        "colab": {
          "base_uri": "https://localhost:8080/",
          "height": 34
        }
      },
      "cell_type": "code",
      "source": [
        "df = pd.DataFrame({'title': titles})\n",
        "df.shape"
      ],
      "execution_count": 103,
      "outputs": [
        {
          "output_type": "execute_result",
          "data": {
            "text/plain": [
              "(95, 1)"
            ]
          },
          "metadata": {
            "tags": []
          },
          "execution_count": 103
        }
      ]
    },
    {
      "metadata": {
        "id": "VZI-q3sGyWZd",
        "colab_type": "code",
        "outputId": "52eb22a2-8050-4ec3-d874-965f918d073d",
        "colab": {
          "base_uri": "https://localhost:8080/",
          "height": 297
        }
      },
      "cell_type": "code",
      "source": [
        "df[ df['title'].str.len() > 80 ]"
      ],
      "execution_count": 104,
      "outputs": [
        {
          "output_type": "execute_result",
          "data": {
            "text/html": [
              "<div>\n",
              "<style scoped>\n",
              "    .dataframe tbody tr th:only-of-type {\n",
              "        vertical-align: middle;\n",
              "    }\n",
              "\n",
              "    .dataframe tbody tr th {\n",
              "        vertical-align: top;\n",
              "    }\n",
              "\n",
              "    .dataframe thead th {\n",
              "        text-align: right;\n",
              "    }\n",
              "</style>\n",
              "<table border=\"1\" class=\"dataframe\">\n",
              "  <thead>\n",
              "    <tr style=\"text-align: right;\">\n",
              "      <th></th>\n",
              "      <th>title</th>\n",
              "    </tr>\n",
              "  </thead>\n",
              "  <tbody>\n",
              "    <tr>\n",
              "      <th>30</th>\n",
              "      <td>¡Escuincla babosa!: Creating a telenovela script in three Python deep learning frameworks</td>\n",
              "    </tr>\n",
              "    <tr>\n",
              "      <th>38</th>\n",
              "      <td>Getting started with Deep Learning: Using Keras &amp; Numpy to detect voice disorders</td>\n",
              "    </tr>\n",
              "    <tr>\n",
              "      <th>43</th>\n",
              "      <td>How to engage Python contributors in the long term? Tech is easy, people are hard.</td>\n",
              "    </tr>\n",
              "    <tr>\n",
              "      <th>48</th>\n",
              "      <td>Lessons learned from building a community of Python users among thousands of analysts</td>\n",
              "    </tr>\n",
              "    <tr>\n",
              "      <th>50</th>\n",
              "      <td>Life Is Better Painted Black, or: How to Stop Worrying and Embrace Auto-Formatting</td>\n",
              "    </tr>\n",
              "    <tr>\n",
              "      <th>60</th>\n",
              "      <td>One Engineer, an API, and an MVP: Or, how I spent one hour improving hiring data at my company.</td>\n",
              "    </tr>\n",
              "    <tr>\n",
              "      <th>66</th>\n",
              "      <td>Put down the deep learning: When not to use neural networks and what to do instead</td>\n",
              "    </tr>\n",
              "    <tr>\n",
              "      <th>84</th>\n",
              "      <td>Thinking Inside the Box: How Python Helped Us Adapt to An Existing Data Ingestion Pipeline</td>\n",
              "    </tr>\n",
              "  </tbody>\n",
              "</table>\n",
              "</div>"
            ],
            "text/plain": [
              "                                                                                              title\n",
              "30        ¡Escuincla babosa!: Creating a telenovela script in three Python deep learning frameworks\n",
              "38                Getting started with Deep Learning: Using Keras & Numpy to detect voice disorders\n",
              "43               How to engage Python contributors in the long term? Tech is easy, people are hard.\n",
              "48            Lessons learned from building a community of Python users among thousands of analysts\n",
              "50               Life Is Better Painted Black, or: How to Stop Worrying and Embrace Auto-Formatting\n",
              "60  One Engineer, an API, and an MVP: Or, how I spent one hour improving hiring data at my company.\n",
              "66               Put down the deep learning: When not to use neural networks and what to do instead\n",
              "84       Thinking Inside the Box: How Python Helped Us Adapt to An Existing Data Ingestion Pipeline"
            ]
          },
          "metadata": {
            "tags": []
          },
          "execution_count": 104
        }
      ]
    },
    {
      "metadata": {
        "id": "fDVNAa_cygxc",
        "colab_type": "code",
        "outputId": "66e55e72-a7f9-4f20-93a8-36a153e1db8e",
        "colab": {
          "base_uri": "https://localhost:8080/",
          "height": 297
        }
      },
      "cell_type": "code",
      "source": [
        "condition = df['title'].str.len() > 80\n",
        "df[condition]"
      ],
      "execution_count": 105,
      "outputs": [
        {
          "output_type": "execute_result",
          "data": {
            "text/html": [
              "<div>\n",
              "<style scoped>\n",
              "    .dataframe tbody tr th:only-of-type {\n",
              "        vertical-align: middle;\n",
              "    }\n",
              "\n",
              "    .dataframe tbody tr th {\n",
              "        vertical-align: top;\n",
              "    }\n",
              "\n",
              "    .dataframe thead th {\n",
              "        text-align: right;\n",
              "    }\n",
              "</style>\n",
              "<table border=\"1\" class=\"dataframe\">\n",
              "  <thead>\n",
              "    <tr style=\"text-align: right;\">\n",
              "      <th></th>\n",
              "      <th>title</th>\n",
              "    </tr>\n",
              "  </thead>\n",
              "  <tbody>\n",
              "    <tr>\n",
              "      <th>30</th>\n",
              "      <td>¡Escuincla babosa!: Creating a telenovela script in three Python deep learning frameworks</td>\n",
              "    </tr>\n",
              "    <tr>\n",
              "      <th>38</th>\n",
              "      <td>Getting started with Deep Learning: Using Keras &amp; Numpy to detect voice disorders</td>\n",
              "    </tr>\n",
              "    <tr>\n",
              "      <th>43</th>\n",
              "      <td>How to engage Python contributors in the long term? Tech is easy, people are hard.</td>\n",
              "    </tr>\n",
              "    <tr>\n",
              "      <th>48</th>\n",
              "      <td>Lessons learned from building a community of Python users among thousands of analysts</td>\n",
              "    </tr>\n",
              "    <tr>\n",
              "      <th>50</th>\n",
              "      <td>Life Is Better Painted Black, or: How to Stop Worrying and Embrace Auto-Formatting</td>\n",
              "    </tr>\n",
              "    <tr>\n",
              "      <th>60</th>\n",
              "      <td>One Engineer, an API, and an MVP: Or, how I spent one hour improving hiring data at my company.</td>\n",
              "    </tr>\n",
              "    <tr>\n",
              "      <th>66</th>\n",
              "      <td>Put down the deep learning: When not to use neural networks and what to do instead</td>\n",
              "    </tr>\n",
              "    <tr>\n",
              "      <th>84</th>\n",
              "      <td>Thinking Inside the Box: How Python Helped Us Adapt to An Existing Data Ingestion Pipeline</td>\n",
              "    </tr>\n",
              "  </tbody>\n",
              "</table>\n",
              "</div>"
            ],
            "text/plain": [
              "                                                                                              title\n",
              "30        ¡Escuincla babosa!: Creating a telenovela script in three Python deep learning frameworks\n",
              "38                Getting started with Deep Learning: Using Keras & Numpy to detect voice disorders\n",
              "43               How to engage Python contributors in the long term? Tech is easy, people are hard.\n",
              "48            Lessons learned from building a community of Python users among thousands of analysts\n",
              "50               Life Is Better Painted Black, or: How to Stop Worrying and Embrace Auto-Formatting\n",
              "60  One Engineer, an API, and an MVP: Or, how I spent one hour improving hiring data at my company.\n",
              "66               Put down the deep learning: When not to use neural networks and what to do instead\n",
              "84       Thinking Inside the Box: How Python Helped Us Adapt to An Existing Data Ingestion Pipeline"
            ]
          },
          "metadata": {
            "tags": []
          },
          "execution_count": 105
        }
      ]
    },
    {
      "metadata": {
        "colab_type": "text",
        "id": "8YaUZJvRp681"
      },
      "cell_type": "markdown",
      "source": [
        "## Make new dataframe columns\n",
        "\n",
        "pandas documentation: [apply](https://pandas.pydata.org/pandas-docs/stable/generated/pandas.Series.apply.html)"
      ]
    },
    {
      "metadata": {
        "colab_type": "text",
        "id": "Ua74pMrGrsZR"
      },
      "cell_type": "markdown",
      "source": [
        "### title length"
      ]
    },
    {
      "metadata": {
        "colab_type": "code",
        "id": "p-Euz7tgA8Fd",
        "colab": {}
      },
      "cell_type": "code",
      "source": [
        "df['title length'] = df['title'].apply(len)"
      ],
      "execution_count": 0,
      "outputs": []
    },
    {
      "metadata": {
        "id": "E3_fksEb3fGZ",
        "colab_type": "code",
        "outputId": "ee463d99-35fe-4d85-876e-ab13af3f8d7d",
        "colab": {
          "base_uri": "https://localhost:8080/",
          "height": 34
        }
      },
      "cell_type": "code",
      "source": [
        "df.shape"
      ],
      "execution_count": 107,
      "outputs": [
        {
          "output_type": "execute_result",
          "data": {
            "text/plain": [
              "(95, 2)"
            ]
          },
          "metadata": {
            "tags": []
          },
          "execution_count": 107
        }
      ]
    },
    {
      "metadata": {
        "id": "Rw75pcug3XDi",
        "colab_type": "code",
        "outputId": "5f5b3901-5af3-4c24-a7af-96635f20c0e0",
        "colab": {
          "base_uri": "https://localhost:8080/",
          "height": 204
        }
      },
      "cell_type": "code",
      "source": [
        "df.head()"
      ],
      "execution_count": 108,
      "outputs": [
        {
          "output_type": "execute_result",
          "data": {
            "text/html": [
              "<div>\n",
              "<style scoped>\n",
              "    .dataframe tbody tr th:only-of-type {\n",
              "        vertical-align: middle;\n",
              "    }\n",
              "\n",
              "    .dataframe tbody tr th {\n",
              "        vertical-align: top;\n",
              "    }\n",
              "\n",
              "    .dataframe thead th {\n",
              "        text-align: right;\n",
              "    }\n",
              "</style>\n",
              "<table border=\"1\" class=\"dataframe\">\n",
              "  <thead>\n",
              "    <tr style=\"text-align: right;\">\n",
              "      <th></th>\n",
              "      <th>title</th>\n",
              "      <th>title length</th>\n",
              "    </tr>\n",
              "  </thead>\n",
              "  <tbody>\n",
              "    <tr>\n",
              "      <th>0</th>\n",
              "      <td>5 Steps to Build Python Native GUI Widgets for BeeWare</td>\n",
              "      <td>54</td>\n",
              "    </tr>\n",
              "    <tr>\n",
              "      <th>1</th>\n",
              "      <td>8 things that happen at the dot:  Attribute Access &amp; Descriptors</td>\n",
              "      <td>64</td>\n",
              "    </tr>\n",
              "    <tr>\n",
              "      <th>2</th>\n",
              "      <td>Account Security Patterns: How Logged-In Are you?</td>\n",
              "      <td>49</td>\n",
              "    </tr>\n",
              "    <tr>\n",
              "      <th>3</th>\n",
              "      <td>Ace Your Technical Interview Using Python</td>\n",
              "      <td>41</td>\n",
              "    </tr>\n",
              "    <tr>\n",
              "      <th>4</th>\n",
              "      <td>Advanced asyncio: Solving Real-world Production Problems</td>\n",
              "      <td>56</td>\n",
              "    </tr>\n",
              "  </tbody>\n",
              "</table>\n",
              "</div>"
            ],
            "text/plain": [
              "                                                              title  \\\n",
              "0            5 Steps to Build Python Native GUI Widgets for BeeWare   \n",
              "1  8 things that happen at the dot:  Attribute Access & Descriptors   \n",
              "2                 Account Security Patterns: How Logged-In Are you?   \n",
              "3                         Ace Your Technical Interview Using Python   \n",
              "4          Advanced asyncio: Solving Real-world Production Problems   \n",
              "\n",
              "   title length  \n",
              "0            54  \n",
              "1            64  \n",
              "2            49  \n",
              "3            41  \n",
              "4            56  "
            ]
          },
          "metadata": {
            "tags": []
          },
          "execution_count": 108
        }
      ]
    },
    {
      "metadata": {
        "id": "izSbmyEw3ixL",
        "colab_type": "code",
        "outputId": "d29395c1-fe0e-4588-f787-9037b4fc4916",
        "colab": {
          "base_uri": "https://localhost:8080/",
          "height": 297
        }
      },
      "cell_type": "code",
      "source": [
        "df[ df['title length'] > 80 ]"
      ],
      "execution_count": 109,
      "outputs": [
        {
          "output_type": "execute_result",
          "data": {
            "text/html": [
              "<div>\n",
              "<style scoped>\n",
              "    .dataframe tbody tr th:only-of-type {\n",
              "        vertical-align: middle;\n",
              "    }\n",
              "\n",
              "    .dataframe tbody tr th {\n",
              "        vertical-align: top;\n",
              "    }\n",
              "\n",
              "    .dataframe thead th {\n",
              "        text-align: right;\n",
              "    }\n",
              "</style>\n",
              "<table border=\"1\" class=\"dataframe\">\n",
              "  <thead>\n",
              "    <tr style=\"text-align: right;\">\n",
              "      <th></th>\n",
              "      <th>title</th>\n",
              "      <th>title length</th>\n",
              "    </tr>\n",
              "  </thead>\n",
              "  <tbody>\n",
              "    <tr>\n",
              "      <th>30</th>\n",
              "      <td>¡Escuincla babosa!: Creating a telenovela script in three Python deep learning frameworks</td>\n",
              "      <td>89</td>\n",
              "    </tr>\n",
              "    <tr>\n",
              "      <th>38</th>\n",
              "      <td>Getting started with Deep Learning: Using Keras &amp; Numpy to detect voice disorders</td>\n",
              "      <td>81</td>\n",
              "    </tr>\n",
              "    <tr>\n",
              "      <th>43</th>\n",
              "      <td>How to engage Python contributors in the long term? Tech is easy, people are hard.</td>\n",
              "      <td>82</td>\n",
              "    </tr>\n",
              "    <tr>\n",
              "      <th>48</th>\n",
              "      <td>Lessons learned from building a community of Python users among thousands of analysts</td>\n",
              "      <td>85</td>\n",
              "    </tr>\n",
              "    <tr>\n",
              "      <th>50</th>\n",
              "      <td>Life Is Better Painted Black, or: How to Stop Worrying and Embrace Auto-Formatting</td>\n",
              "      <td>82</td>\n",
              "    </tr>\n",
              "    <tr>\n",
              "      <th>60</th>\n",
              "      <td>One Engineer, an API, and an MVP: Or, how I spent one hour improving hiring data at my company.</td>\n",
              "      <td>95</td>\n",
              "    </tr>\n",
              "    <tr>\n",
              "      <th>66</th>\n",
              "      <td>Put down the deep learning: When not to use neural networks and what to do instead</td>\n",
              "      <td>82</td>\n",
              "    </tr>\n",
              "    <tr>\n",
              "      <th>84</th>\n",
              "      <td>Thinking Inside the Box: How Python Helped Us Adapt to An Existing Data Ingestion Pipeline</td>\n",
              "      <td>90</td>\n",
              "    </tr>\n",
              "  </tbody>\n",
              "</table>\n",
              "</div>"
            ],
            "text/plain": [
              "                                                                                              title  \\\n",
              "30        ¡Escuincla babosa!: Creating a telenovela script in three Python deep learning frameworks   \n",
              "38                Getting started with Deep Learning: Using Keras & Numpy to detect voice disorders   \n",
              "43               How to engage Python contributors in the long term? Tech is easy, people are hard.   \n",
              "48            Lessons learned from building a community of Python users among thousands of analysts   \n",
              "50               Life Is Better Painted Black, or: How to Stop Worrying and Embrace Auto-Formatting   \n",
              "60  One Engineer, an API, and an MVP: Or, how I spent one hour improving hiring data at my company.   \n",
              "66               Put down the deep learning: When not to use neural networks and what to do instead   \n",
              "84       Thinking Inside the Box: How Python Helped Us Adapt to An Existing Data Ingestion Pipeline   \n",
              "\n",
              "    title length  \n",
              "30            89  \n",
              "38            81  \n",
              "43            82  \n",
              "48            85  \n",
              "50            82  \n",
              "60            95  \n",
              "66            82  \n",
              "84            90  "
            ]
          },
          "metadata": {
            "tags": []
          },
          "execution_count": 109
        }
      ]
    },
    {
      "metadata": {
        "id": "7X0diqYs3sdn",
        "colab_type": "code",
        "outputId": "1592db16-e578-45bc-ea0d-88407f8ffc90",
        "colab": {
          "base_uri": "https://localhost:8080/",
          "height": 170
        }
      },
      "cell_type": "code",
      "source": [
        "df.loc[ df['title length'] > 80, 'title']"
      ],
      "execution_count": 110,
      "outputs": [
        {
          "output_type": "execute_result",
          "data": {
            "text/plain": [
              "30          ¡Escuincla babosa!: Creating a telenovela script in three Python deep learning frameworks\n",
              "38                  Getting started with Deep Learning: Using Keras & Numpy to detect voice disorders\n",
              "43                 How to engage Python contributors in the long term? Tech is easy, people are hard.\n",
              "48              Lessons learned from building a community of Python users among thousands of analysts\n",
              "50                 Life Is Better Painted Black, or: How to Stop Worrying and Embrace Auto-Formatting\n",
              "60    One Engineer, an API, and an MVP: Or, how I spent one hour improving hiring data at my company.\n",
              "66                 Put down the deep learning: When not to use neural networks and what to do instead\n",
              "84         Thinking Inside the Box: How Python Helped Us Adapt to An Existing Data Ingestion Pipeline\n",
              "Name: title, dtype: object"
            ]
          },
          "metadata": {
            "tags": []
          },
          "execution_count": 110
        }
      ]
    },
    {
      "metadata": {
        "colab_type": "text",
        "id": "OgsKArXPrz5n"
      },
      "cell_type": "markdown",
      "source": [
        "### long title"
      ]
    },
    {
      "metadata": {
        "colab_type": "code",
        "id": "b_WCRvvKA-IP",
        "outputId": "41a9024b-baea-4807-c52d-7f8328da9a7a",
        "colab": {
          "base_uri": "https://localhost:8080/",
          "height": 34
        }
      },
      "cell_type": "code",
      "source": [
        "df['long title'] = df['title length'] > 80\n",
        "\n",
        "df.shape"
      ],
      "execution_count": 111,
      "outputs": [
        {
          "output_type": "execute_result",
          "data": {
            "text/plain": [
              "(95, 3)"
            ]
          },
          "metadata": {
            "tags": []
          },
          "execution_count": 111
        }
      ]
    },
    {
      "metadata": {
        "id": "yjt59jFe4a3w",
        "colab_type": "code",
        "outputId": "0f7d3cff-8fb5-4d4d-db61-d8ff07f3af31",
        "colab": {
          "base_uri": "https://localhost:8080/",
          "height": 204
        }
      },
      "cell_type": "code",
      "source": [
        "df.head()"
      ],
      "execution_count": 112,
      "outputs": [
        {
          "output_type": "execute_result",
          "data": {
            "text/html": [
              "<div>\n",
              "<style scoped>\n",
              "    .dataframe tbody tr th:only-of-type {\n",
              "        vertical-align: middle;\n",
              "    }\n",
              "\n",
              "    .dataframe tbody tr th {\n",
              "        vertical-align: top;\n",
              "    }\n",
              "\n",
              "    .dataframe thead th {\n",
              "        text-align: right;\n",
              "    }\n",
              "</style>\n",
              "<table border=\"1\" class=\"dataframe\">\n",
              "  <thead>\n",
              "    <tr style=\"text-align: right;\">\n",
              "      <th></th>\n",
              "      <th>title</th>\n",
              "      <th>title length</th>\n",
              "      <th>long title</th>\n",
              "    </tr>\n",
              "  </thead>\n",
              "  <tbody>\n",
              "    <tr>\n",
              "      <th>0</th>\n",
              "      <td>5 Steps to Build Python Native GUI Widgets for BeeWare</td>\n",
              "      <td>54</td>\n",
              "      <td>False</td>\n",
              "    </tr>\n",
              "    <tr>\n",
              "      <th>1</th>\n",
              "      <td>8 things that happen at the dot:  Attribute Access &amp; Descriptors</td>\n",
              "      <td>64</td>\n",
              "      <td>False</td>\n",
              "    </tr>\n",
              "    <tr>\n",
              "      <th>2</th>\n",
              "      <td>Account Security Patterns: How Logged-In Are you?</td>\n",
              "      <td>49</td>\n",
              "      <td>False</td>\n",
              "    </tr>\n",
              "    <tr>\n",
              "      <th>3</th>\n",
              "      <td>Ace Your Technical Interview Using Python</td>\n",
              "      <td>41</td>\n",
              "      <td>False</td>\n",
              "    </tr>\n",
              "    <tr>\n",
              "      <th>4</th>\n",
              "      <td>Advanced asyncio: Solving Real-world Production Problems</td>\n",
              "      <td>56</td>\n",
              "      <td>False</td>\n",
              "    </tr>\n",
              "  </tbody>\n",
              "</table>\n",
              "</div>"
            ],
            "text/plain": [
              "                                                              title  \\\n",
              "0            5 Steps to Build Python Native GUI Widgets for BeeWare   \n",
              "1  8 things that happen at the dot:  Attribute Access & Descriptors   \n",
              "2                 Account Security Patterns: How Logged-In Are you?   \n",
              "3                         Ace Your Technical Interview Using Python   \n",
              "4          Advanced asyncio: Solving Real-world Production Problems   \n",
              "\n",
              "   title length  long title  \n",
              "0            54       False  \n",
              "1            64       False  \n",
              "2            49       False  \n",
              "3            41       False  \n",
              "4            56       False  "
            ]
          },
          "metadata": {
            "tags": []
          },
          "execution_count": 112
        }
      ]
    },
    {
      "metadata": {
        "id": "IDSLr1Wp4k8u",
        "colab_type": "code",
        "outputId": "c552ca63-16a8-4401-c5aa-97e5ad6a9a60",
        "colab": {
          "base_uri": "https://localhost:8080/",
          "height": 297
        }
      },
      "cell_type": "code",
      "source": [
        "df[ df['long title']==True]"
      ],
      "execution_count": 113,
      "outputs": [
        {
          "output_type": "execute_result",
          "data": {
            "text/html": [
              "<div>\n",
              "<style scoped>\n",
              "    .dataframe tbody tr th:only-of-type {\n",
              "        vertical-align: middle;\n",
              "    }\n",
              "\n",
              "    .dataframe tbody tr th {\n",
              "        vertical-align: top;\n",
              "    }\n",
              "\n",
              "    .dataframe thead th {\n",
              "        text-align: right;\n",
              "    }\n",
              "</style>\n",
              "<table border=\"1\" class=\"dataframe\">\n",
              "  <thead>\n",
              "    <tr style=\"text-align: right;\">\n",
              "      <th></th>\n",
              "      <th>title</th>\n",
              "      <th>title length</th>\n",
              "      <th>long title</th>\n",
              "    </tr>\n",
              "  </thead>\n",
              "  <tbody>\n",
              "    <tr>\n",
              "      <th>30</th>\n",
              "      <td>¡Escuincla babosa!: Creating a telenovela script in three Python deep learning frameworks</td>\n",
              "      <td>89</td>\n",
              "      <td>True</td>\n",
              "    </tr>\n",
              "    <tr>\n",
              "      <th>38</th>\n",
              "      <td>Getting started with Deep Learning: Using Keras &amp; Numpy to detect voice disorders</td>\n",
              "      <td>81</td>\n",
              "      <td>True</td>\n",
              "    </tr>\n",
              "    <tr>\n",
              "      <th>43</th>\n",
              "      <td>How to engage Python contributors in the long term? Tech is easy, people are hard.</td>\n",
              "      <td>82</td>\n",
              "      <td>True</td>\n",
              "    </tr>\n",
              "    <tr>\n",
              "      <th>48</th>\n",
              "      <td>Lessons learned from building a community of Python users among thousands of analysts</td>\n",
              "      <td>85</td>\n",
              "      <td>True</td>\n",
              "    </tr>\n",
              "    <tr>\n",
              "      <th>50</th>\n",
              "      <td>Life Is Better Painted Black, or: How to Stop Worrying and Embrace Auto-Formatting</td>\n",
              "      <td>82</td>\n",
              "      <td>True</td>\n",
              "    </tr>\n",
              "    <tr>\n",
              "      <th>60</th>\n",
              "      <td>One Engineer, an API, and an MVP: Or, how I spent one hour improving hiring data at my company.</td>\n",
              "      <td>95</td>\n",
              "      <td>True</td>\n",
              "    </tr>\n",
              "    <tr>\n",
              "      <th>66</th>\n",
              "      <td>Put down the deep learning: When not to use neural networks and what to do instead</td>\n",
              "      <td>82</td>\n",
              "      <td>True</td>\n",
              "    </tr>\n",
              "    <tr>\n",
              "      <th>84</th>\n",
              "      <td>Thinking Inside the Box: How Python Helped Us Adapt to An Existing Data Ingestion Pipeline</td>\n",
              "      <td>90</td>\n",
              "      <td>True</td>\n",
              "    </tr>\n",
              "  </tbody>\n",
              "</table>\n",
              "</div>"
            ],
            "text/plain": [
              "                                                                                              title  \\\n",
              "30        ¡Escuincla babosa!: Creating a telenovela script in three Python deep learning frameworks   \n",
              "38                Getting started with Deep Learning: Using Keras & Numpy to detect voice disorders   \n",
              "43               How to engage Python contributors in the long term? Tech is easy, people are hard.   \n",
              "48            Lessons learned from building a community of Python users among thousands of analysts   \n",
              "50               Life Is Better Painted Black, or: How to Stop Worrying and Embrace Auto-Formatting   \n",
              "60  One Engineer, an API, and an MVP: Or, how I spent one hour improving hiring data at my company.   \n",
              "66               Put down the deep learning: When not to use neural networks and what to do instead   \n",
              "84       Thinking Inside the Box: How Python Helped Us Adapt to An Existing Data Ingestion Pipeline   \n",
              "\n",
              "    title length  long title  \n",
              "30            89        True  \n",
              "38            81        True  \n",
              "43            82        True  \n",
              "48            85        True  \n",
              "50            82        True  \n",
              "60            95        True  \n",
              "66            82        True  \n",
              "84            90        True  "
            ]
          },
          "metadata": {
            "tags": []
          },
          "execution_count": 113
        }
      ]
    },
    {
      "metadata": {
        "id": "J8ngmSC34rDt",
        "colab_type": "code",
        "outputId": "b904a220-64ad-4730-e693-a4aa4b28d54e",
        "colab": {
          "base_uri": "https://localhost:8080/",
          "height": 297
        }
      },
      "cell_type": "code",
      "source": [
        "df[df['long title']]"
      ],
      "execution_count": 114,
      "outputs": [
        {
          "output_type": "execute_result",
          "data": {
            "text/html": [
              "<div>\n",
              "<style scoped>\n",
              "    .dataframe tbody tr th:only-of-type {\n",
              "        vertical-align: middle;\n",
              "    }\n",
              "\n",
              "    .dataframe tbody tr th {\n",
              "        vertical-align: top;\n",
              "    }\n",
              "\n",
              "    .dataframe thead th {\n",
              "        text-align: right;\n",
              "    }\n",
              "</style>\n",
              "<table border=\"1\" class=\"dataframe\">\n",
              "  <thead>\n",
              "    <tr style=\"text-align: right;\">\n",
              "      <th></th>\n",
              "      <th>title</th>\n",
              "      <th>title length</th>\n",
              "      <th>long title</th>\n",
              "    </tr>\n",
              "  </thead>\n",
              "  <tbody>\n",
              "    <tr>\n",
              "      <th>30</th>\n",
              "      <td>¡Escuincla babosa!: Creating a telenovela script in three Python deep learning frameworks</td>\n",
              "      <td>89</td>\n",
              "      <td>True</td>\n",
              "    </tr>\n",
              "    <tr>\n",
              "      <th>38</th>\n",
              "      <td>Getting started with Deep Learning: Using Keras &amp; Numpy to detect voice disorders</td>\n",
              "      <td>81</td>\n",
              "      <td>True</td>\n",
              "    </tr>\n",
              "    <tr>\n",
              "      <th>43</th>\n",
              "      <td>How to engage Python contributors in the long term? Tech is easy, people are hard.</td>\n",
              "      <td>82</td>\n",
              "      <td>True</td>\n",
              "    </tr>\n",
              "    <tr>\n",
              "      <th>48</th>\n",
              "      <td>Lessons learned from building a community of Python users among thousands of analysts</td>\n",
              "      <td>85</td>\n",
              "      <td>True</td>\n",
              "    </tr>\n",
              "    <tr>\n",
              "      <th>50</th>\n",
              "      <td>Life Is Better Painted Black, or: How to Stop Worrying and Embrace Auto-Formatting</td>\n",
              "      <td>82</td>\n",
              "      <td>True</td>\n",
              "    </tr>\n",
              "    <tr>\n",
              "      <th>60</th>\n",
              "      <td>One Engineer, an API, and an MVP: Or, how I spent one hour improving hiring data at my company.</td>\n",
              "      <td>95</td>\n",
              "      <td>True</td>\n",
              "    </tr>\n",
              "    <tr>\n",
              "      <th>66</th>\n",
              "      <td>Put down the deep learning: When not to use neural networks and what to do instead</td>\n",
              "      <td>82</td>\n",
              "      <td>True</td>\n",
              "    </tr>\n",
              "    <tr>\n",
              "      <th>84</th>\n",
              "      <td>Thinking Inside the Box: How Python Helped Us Adapt to An Existing Data Ingestion Pipeline</td>\n",
              "      <td>90</td>\n",
              "      <td>True</td>\n",
              "    </tr>\n",
              "  </tbody>\n",
              "</table>\n",
              "</div>"
            ],
            "text/plain": [
              "                                                                                              title  \\\n",
              "30        ¡Escuincla babosa!: Creating a telenovela script in three Python deep learning frameworks   \n",
              "38                Getting started with Deep Learning: Using Keras & Numpy to detect voice disorders   \n",
              "43               How to engage Python contributors in the long term? Tech is easy, people are hard.   \n",
              "48            Lessons learned from building a community of Python users among thousands of analysts   \n",
              "50               Life Is Better Painted Black, or: How to Stop Worrying and Embrace Auto-Formatting   \n",
              "60  One Engineer, an API, and an MVP: Or, how I spent one hour improving hiring data at my company.   \n",
              "66               Put down the deep learning: When not to use neural networks and what to do instead   \n",
              "84       Thinking Inside the Box: How Python Helped Us Adapt to An Existing Data Ingestion Pipeline   \n",
              "\n",
              "    title length  long title  \n",
              "30            89        True  \n",
              "38            81        True  \n",
              "43            82        True  \n",
              "48            85        True  \n",
              "50            82        True  \n",
              "60            95        True  \n",
              "66            82        True  \n",
              "84            90        True  "
            ]
          },
          "metadata": {
            "tags": []
          },
          "execution_count": 114
        }
      ]
    },
    {
      "metadata": {
        "colab_type": "text",
        "id": "TonCXYPesUsT"
      },
      "cell_type": "markdown",
      "source": [
        "### first letter"
      ]
    },
    {
      "metadata": {
        "colab_type": "code",
        "id": "fhO4aABpBBgA",
        "colab": {}
      },
      "cell_type": "code",
      "source": [
        "# 'Python is great!'[0]\n",
        "\n",
        "df['first letter'] = df['title'].str[0]"
      ],
      "execution_count": 0,
      "outputs": []
    },
    {
      "metadata": {
        "id": "iSxLd4KA62Qa",
        "colab_type": "code",
        "outputId": "ed98bcef-d3b2-4d25-f4d8-25796196b116",
        "colab": {
          "base_uri": "https://localhost:8080/",
          "height": 297
        }
      },
      "cell_type": "code",
      "source": [
        "df[ df['first letter']=='P' ]"
      ],
      "execution_count": 116,
      "outputs": [
        {
          "output_type": "execute_result",
          "data": {
            "text/html": [
              "<div>\n",
              "<style scoped>\n",
              "    .dataframe tbody tr th:only-of-type {\n",
              "        vertical-align: middle;\n",
              "    }\n",
              "\n",
              "    .dataframe tbody tr th {\n",
              "        vertical-align: top;\n",
              "    }\n",
              "\n",
              "    .dataframe thead th {\n",
              "        text-align: right;\n",
              "    }\n",
              "</style>\n",
              "<table border=\"1\" class=\"dataframe\">\n",
              "  <thead>\n",
              "    <tr style=\"text-align: right;\">\n",
              "      <th></th>\n",
              "      <th>title</th>\n",
              "      <th>title length</th>\n",
              "      <th>long title</th>\n",
              "      <th>first letter</th>\n",
              "    </tr>\n",
              "  </thead>\n",
              "  <tbody>\n",
              "    <tr>\n",
              "      <th>61</th>\n",
              "      <td>Plan your next eclipse viewing with Jupyter and geopandas</td>\n",
              "      <td>57</td>\n",
              "      <td>False</td>\n",
              "      <td>P</td>\n",
              "    </tr>\n",
              "    <tr>\n",
              "      <th>62</th>\n",
              "      <td>Plugins: Adding Flexibility to Your Apps</td>\n",
              "      <td>40</td>\n",
              "      <td>False</td>\n",
              "      <td>P</td>\n",
              "    </tr>\n",
              "    <tr>\n",
              "      <th>63</th>\n",
              "      <td>Plug-n-Stream Player Piano: Signal Processing With Python</td>\n",
              "      <td>57</td>\n",
              "      <td>False</td>\n",
              "      <td>P</td>\n",
              "    </tr>\n",
              "    <tr>\n",
              "      <th>64</th>\n",
              "      <td>Practical decorators</td>\n",
              "      <td>20</td>\n",
              "      <td>False</td>\n",
              "      <td>P</td>\n",
              "    </tr>\n",
              "    <tr>\n",
              "      <th>65</th>\n",
              "      <td>Programmatic Notebooks with papermill</td>\n",
              "      <td>37</td>\n",
              "      <td>False</td>\n",
              "      <td>P</td>\n",
              "    </tr>\n",
              "    <tr>\n",
              "      <th>66</th>\n",
              "      <td>Put down the deep learning: When not to use neural networks and what to do instead</td>\n",
              "      <td>82</td>\n",
              "      <td>True</td>\n",
              "      <td>P</td>\n",
              "    </tr>\n",
              "    <tr>\n",
              "      <th>67</th>\n",
              "      <td>Python on Windows is Okay, Actually</td>\n",
              "      <td>35</td>\n",
              "      <td>False</td>\n",
              "      <td>P</td>\n",
              "    </tr>\n",
              "    <tr>\n",
              "      <th>68</th>\n",
              "      <td>Python Security Tools</td>\n",
              "      <td>21</td>\n",
              "      <td>False</td>\n",
              "      <td>P</td>\n",
              "    </tr>\n",
              "  </tbody>\n",
              "</table>\n",
              "</div>"
            ],
            "text/plain": [
              "                                                                                 title  \\\n",
              "61                           Plan your next eclipse viewing with Jupyter and geopandas   \n",
              "62                                            Plugins: Adding Flexibility to Your Apps   \n",
              "63                           Plug-n-Stream Player Piano: Signal Processing With Python   \n",
              "64                                                                Practical decorators   \n",
              "65                                               Programmatic Notebooks with papermill   \n",
              "66  Put down the deep learning: When not to use neural networks and what to do instead   \n",
              "67                                                 Python on Windows is Okay, Actually   \n",
              "68                                                               Python Security Tools   \n",
              "\n",
              "    title length  long title first letter  \n",
              "61            57       False            P  \n",
              "62            40       False            P  \n",
              "63            57       False            P  \n",
              "64            20       False            P  \n",
              "65            37       False            P  \n",
              "66            82        True            P  \n",
              "67            35       False            P  \n",
              "68            21       False            P  "
            ]
          },
          "metadata": {
            "tags": []
          },
          "execution_count": 116
        }
      ]
    },
    {
      "metadata": {
        "id": "fvZlE02X7TIL",
        "colab_type": "code",
        "outputId": "3c6df60e-d921-4227-aa36-972c4bf15d90",
        "colab": {
          "base_uri": "https://localhost:8080/",
          "height": 297
        }
      },
      "cell_type": "code",
      "source": [
        "df[ df['title'].str.startswith('P') ]"
      ],
      "execution_count": 117,
      "outputs": [
        {
          "output_type": "execute_result",
          "data": {
            "text/html": [
              "<div>\n",
              "<style scoped>\n",
              "    .dataframe tbody tr th:only-of-type {\n",
              "        vertical-align: middle;\n",
              "    }\n",
              "\n",
              "    .dataframe tbody tr th {\n",
              "        vertical-align: top;\n",
              "    }\n",
              "\n",
              "    .dataframe thead th {\n",
              "        text-align: right;\n",
              "    }\n",
              "</style>\n",
              "<table border=\"1\" class=\"dataframe\">\n",
              "  <thead>\n",
              "    <tr style=\"text-align: right;\">\n",
              "      <th></th>\n",
              "      <th>title</th>\n",
              "      <th>title length</th>\n",
              "      <th>long title</th>\n",
              "      <th>first letter</th>\n",
              "    </tr>\n",
              "  </thead>\n",
              "  <tbody>\n",
              "    <tr>\n",
              "      <th>61</th>\n",
              "      <td>Plan your next eclipse viewing with Jupyter and geopandas</td>\n",
              "      <td>57</td>\n",
              "      <td>False</td>\n",
              "      <td>P</td>\n",
              "    </tr>\n",
              "    <tr>\n",
              "      <th>62</th>\n",
              "      <td>Plugins: Adding Flexibility to Your Apps</td>\n",
              "      <td>40</td>\n",
              "      <td>False</td>\n",
              "      <td>P</td>\n",
              "    </tr>\n",
              "    <tr>\n",
              "      <th>63</th>\n",
              "      <td>Plug-n-Stream Player Piano: Signal Processing With Python</td>\n",
              "      <td>57</td>\n",
              "      <td>False</td>\n",
              "      <td>P</td>\n",
              "    </tr>\n",
              "    <tr>\n",
              "      <th>64</th>\n",
              "      <td>Practical decorators</td>\n",
              "      <td>20</td>\n",
              "      <td>False</td>\n",
              "      <td>P</td>\n",
              "    </tr>\n",
              "    <tr>\n",
              "      <th>65</th>\n",
              "      <td>Programmatic Notebooks with papermill</td>\n",
              "      <td>37</td>\n",
              "      <td>False</td>\n",
              "      <td>P</td>\n",
              "    </tr>\n",
              "    <tr>\n",
              "      <th>66</th>\n",
              "      <td>Put down the deep learning: When not to use neural networks and what to do instead</td>\n",
              "      <td>82</td>\n",
              "      <td>True</td>\n",
              "      <td>P</td>\n",
              "    </tr>\n",
              "    <tr>\n",
              "      <th>67</th>\n",
              "      <td>Python on Windows is Okay, Actually</td>\n",
              "      <td>35</td>\n",
              "      <td>False</td>\n",
              "      <td>P</td>\n",
              "    </tr>\n",
              "    <tr>\n",
              "      <th>68</th>\n",
              "      <td>Python Security Tools</td>\n",
              "      <td>21</td>\n",
              "      <td>False</td>\n",
              "      <td>P</td>\n",
              "    </tr>\n",
              "  </tbody>\n",
              "</table>\n",
              "</div>"
            ],
            "text/plain": [
              "                                                                                 title  \\\n",
              "61                           Plan your next eclipse viewing with Jupyter and geopandas   \n",
              "62                                            Plugins: Adding Flexibility to Your Apps   \n",
              "63                           Plug-n-Stream Player Piano: Signal Processing With Python   \n",
              "64                                                                Practical decorators   \n",
              "65                                               Programmatic Notebooks with papermill   \n",
              "66  Put down the deep learning: When not to use neural networks and what to do instead   \n",
              "67                                                 Python on Windows is Okay, Actually   \n",
              "68                                                               Python Security Tools   \n",
              "\n",
              "    title length  long title first letter  \n",
              "61            57       False            P  \n",
              "62            40       False            P  \n",
              "63            57       False            P  \n",
              "64            20       False            P  \n",
              "65            37       False            P  \n",
              "66            82        True            P  \n",
              "67            35       False            P  \n",
              "68            21       False            P  "
            ]
          },
          "metadata": {
            "tags": []
          },
          "execution_count": 117
        }
      ]
    },
    {
      "metadata": {
        "colab_type": "text",
        "id": "Etz1XeLKs6DL"
      },
      "cell_type": "markdown",
      "source": [
        "### word count\n",
        "\n",
        "Using [`textstat`](https://github.com/shivam5992/textstat)"
      ]
    },
    {
      "metadata": {
        "colab_type": "code",
        "id": "GVIkRWchs4zR",
        "outputId": "4e3e503f-6bd7-4a8b-9975-8579ad17eb71",
        "colab": {
          "base_uri": "https://localhost:8080/",
          "height": 68
        }
      },
      "cell_type": "code",
      "source": [
        "!pip install textstat"
      ],
      "execution_count": 118,
      "outputs": [
        {
          "output_type": "stream",
          "text": [
            "Requirement already satisfied: textstat in /usr/local/lib/python3.6/dist-packages (0.5.5)\n",
            "Requirement already satisfied: pyphen in /usr/local/lib/python3.6/dist-packages (from textstat) (0.9.5)\n",
            "Requirement already satisfied: repoze.lru in /usr/local/lib/python3.6/dist-packages (from textstat) (0.7)\n"
          ],
          "name": "stdout"
        }
      ]
    },
    {
      "metadata": {
        "colab_type": "code",
        "id": "mY_M_MuaBFrF",
        "colab": {}
      },
      "cell_type": "code",
      "source": [
        "import textstat"
      ],
      "execution_count": 0,
      "outputs": []
    },
    {
      "metadata": {
        "id": "oIh08lfd9WZk",
        "colab_type": "code",
        "colab": {}
      },
      "cell_type": "code",
      "source": [
        "df['title word count'] = df['title'].apply(textstat.lexicon_count)"
      ],
      "execution_count": 0,
      "outputs": []
    },
    {
      "metadata": {
        "id": "cZySg9ih9rOy",
        "colab_type": "code",
        "outputId": "64fc6cca-c4c4-45e3-fd08-3632ddca494f",
        "colab": {
          "base_uri": "https://localhost:8080/",
          "height": 34
        }
      },
      "cell_type": "code",
      "source": [
        "df.shape"
      ],
      "execution_count": 121,
      "outputs": [
        {
          "output_type": "execute_result",
          "data": {
            "text/plain": [
              "(95, 5)"
            ]
          },
          "metadata": {
            "tags": []
          },
          "execution_count": 121
        }
      ]
    },
    {
      "metadata": {
        "id": "WCZF5Rlw9sVs",
        "colab_type": "code",
        "outputId": "28caeabf-48ed-4a57-d956-a8661370fedd",
        "colab": {
          "base_uri": "https://localhost:8080/",
          "height": 204
        }
      },
      "cell_type": "code",
      "source": [
        "df.head()"
      ],
      "execution_count": 122,
      "outputs": [
        {
          "output_type": "execute_result",
          "data": {
            "text/html": [
              "<div>\n",
              "<style scoped>\n",
              "    .dataframe tbody tr th:only-of-type {\n",
              "        vertical-align: middle;\n",
              "    }\n",
              "\n",
              "    .dataframe tbody tr th {\n",
              "        vertical-align: top;\n",
              "    }\n",
              "\n",
              "    .dataframe thead th {\n",
              "        text-align: right;\n",
              "    }\n",
              "</style>\n",
              "<table border=\"1\" class=\"dataframe\">\n",
              "  <thead>\n",
              "    <tr style=\"text-align: right;\">\n",
              "      <th></th>\n",
              "      <th>title</th>\n",
              "      <th>title length</th>\n",
              "      <th>long title</th>\n",
              "      <th>first letter</th>\n",
              "      <th>title word count</th>\n",
              "    </tr>\n",
              "  </thead>\n",
              "  <tbody>\n",
              "    <tr>\n",
              "      <th>0</th>\n",
              "      <td>5 Steps to Build Python Native GUI Widgets for BeeWare</td>\n",
              "      <td>54</td>\n",
              "      <td>False</td>\n",
              "      <td>5</td>\n",
              "      <td>10</td>\n",
              "    </tr>\n",
              "    <tr>\n",
              "      <th>1</th>\n",
              "      <td>8 things that happen at the dot:  Attribute Access &amp; Descriptors</td>\n",
              "      <td>64</td>\n",
              "      <td>False</td>\n",
              "      <td>8</td>\n",
              "      <td>10</td>\n",
              "    </tr>\n",
              "    <tr>\n",
              "      <th>2</th>\n",
              "      <td>Account Security Patterns: How Logged-In Are you?</td>\n",
              "      <td>49</td>\n",
              "      <td>False</td>\n",
              "      <td>A</td>\n",
              "      <td>7</td>\n",
              "    </tr>\n",
              "    <tr>\n",
              "      <th>3</th>\n",
              "      <td>Ace Your Technical Interview Using Python</td>\n",
              "      <td>41</td>\n",
              "      <td>False</td>\n",
              "      <td>A</td>\n",
              "      <td>6</td>\n",
              "    </tr>\n",
              "    <tr>\n",
              "      <th>4</th>\n",
              "      <td>Advanced asyncio: Solving Real-world Production Problems</td>\n",
              "      <td>56</td>\n",
              "      <td>False</td>\n",
              "      <td>A</td>\n",
              "      <td>6</td>\n",
              "    </tr>\n",
              "  </tbody>\n",
              "</table>\n",
              "</div>"
            ],
            "text/plain": [
              "                                                              title  \\\n",
              "0            5 Steps to Build Python Native GUI Widgets for BeeWare   \n",
              "1  8 things that happen at the dot:  Attribute Access & Descriptors   \n",
              "2                 Account Security Patterns: How Logged-In Are you?   \n",
              "3                         Ace Your Technical Interview Using Python   \n",
              "4          Advanced asyncio: Solving Real-world Production Problems   \n",
              "\n",
              "   title length  long title first letter  title word count  \n",
              "0            54       False            5                10  \n",
              "1            64       False            8                10  \n",
              "2            49       False            A                 7  \n",
              "3            41       False            A                 6  \n",
              "4            56       False            A                 6  "
            ]
          },
          "metadata": {
            "tags": []
          },
          "execution_count": 122
        }
      ]
    },
    {
      "metadata": {
        "id": "Kgx4OdbU9w7J",
        "colab_type": "code",
        "outputId": "95ba3ce0-8d8f-4295-b0eb-19026c702cb2",
        "colab": {
          "base_uri": "https://localhost:8080/",
          "height": 142
        }
      },
      "cell_type": "code",
      "source": [
        "df[ df['title word count'] <= 3 ]"
      ],
      "execution_count": 123,
      "outputs": [
        {
          "output_type": "execute_result",
          "data": {
            "text/html": [
              "<div>\n",
              "<style scoped>\n",
              "    .dataframe tbody tr th:only-of-type {\n",
              "        vertical-align: middle;\n",
              "    }\n",
              "\n",
              "    .dataframe tbody tr th {\n",
              "        vertical-align: top;\n",
              "    }\n",
              "\n",
              "    .dataframe thead th {\n",
              "        text-align: right;\n",
              "    }\n",
              "</style>\n",
              "<table border=\"1\" class=\"dataframe\">\n",
              "  <thead>\n",
              "    <tr style=\"text-align: right;\">\n",
              "      <th></th>\n",
              "      <th>title</th>\n",
              "      <th>title length</th>\n",
              "      <th>long title</th>\n",
              "      <th>first letter</th>\n",
              "      <th>title word count</th>\n",
              "    </tr>\n",
              "  </thead>\n",
              "  <tbody>\n",
              "    <tr>\n",
              "      <th>56</th>\n",
              "      <td>Measuring Model Fairness</td>\n",
              "      <td>24</td>\n",
              "      <td>False</td>\n",
              "      <td>M</td>\n",
              "      <td>3</td>\n",
              "    </tr>\n",
              "    <tr>\n",
              "      <th>64</th>\n",
              "      <td>Practical decorators</td>\n",
              "      <td>20</td>\n",
              "      <td>False</td>\n",
              "      <td>P</td>\n",
              "      <td>2</td>\n",
              "    </tr>\n",
              "    <tr>\n",
              "      <th>68</th>\n",
              "      <td>Python Security Tools</td>\n",
              "      <td>21</td>\n",
              "      <td>False</td>\n",
              "      <td>P</td>\n",
              "      <td>3</td>\n",
              "    </tr>\n",
              "  </tbody>\n",
              "</table>\n",
              "</div>"
            ],
            "text/plain": [
              "                       title  title length  long title first letter  \\\n",
              "56  Measuring Model Fairness            24       False            M   \n",
              "64      Practical decorators            20       False            P   \n",
              "68     Python Security Tools            21       False            P   \n",
              "\n",
              "    title word count  \n",
              "56                 3  \n",
              "64                 2  \n",
              "68                 3  "
            ]
          },
          "metadata": {
            "tags": []
          },
          "execution_count": 123
        }
      ]
    },
    {
      "metadata": {
        "colab_type": "text",
        "id": "UN_7FABhwDqc"
      },
      "cell_type": "markdown",
      "source": [
        "## Rename column\n",
        "\n",
        "`title length` --> `title character count`\n",
        "\n",
        "pandas documentation: [rename](https://pandas.pydata.org/pandas-docs/stable/generated/pandas.DataFrame.rename.html)"
      ]
    },
    {
      "metadata": {
        "colab_type": "code",
        "id": "jvTif7sBBMpN",
        "colab": {}
      },
      "cell_type": "code",
      "source": [
        "df = df.rename(columns={'title length': 'title character count'})"
      ],
      "execution_count": 0,
      "outputs": []
    },
    {
      "metadata": {
        "colab_type": "text",
        "id": "ca2pDtytr5tR"
      },
      "cell_type": "markdown",
      "source": [
        "## Analyze the dataframe"
      ]
    },
    {
      "metadata": {
        "colab_type": "text",
        "id": "AitNVDCFwWwc"
      },
      "cell_type": "markdown",
      "source": [
        "### Describe\n",
        "\n",
        "pandas documentation: [describe](https://pandas.pydata.org/pandas-docs/stable/generated/pandas.DataFrame.describe.html)"
      ]
    },
    {
      "metadata": {
        "colab_type": "code",
        "id": "yPo9RdxYBQ64",
        "outputId": "57f0dd5b-7f25-480e-8878-d17d82ec211a",
        "colab": {
          "base_uri": "https://localhost:8080/",
          "height": 297
        }
      },
      "cell_type": "code",
      "source": [
        "df.describe()"
      ],
      "execution_count": 125,
      "outputs": [
        {
          "output_type": "execute_result",
          "data": {
            "text/html": [
              "<div>\n",
              "<style scoped>\n",
              "    .dataframe tbody tr th:only-of-type {\n",
              "        vertical-align: middle;\n",
              "    }\n",
              "\n",
              "    .dataframe tbody tr th {\n",
              "        vertical-align: top;\n",
              "    }\n",
              "\n",
              "    .dataframe thead th {\n",
              "        text-align: right;\n",
              "    }\n",
              "</style>\n",
              "<table border=\"1\" class=\"dataframe\">\n",
              "  <thead>\n",
              "    <tr style=\"text-align: right;\">\n",
              "      <th></th>\n",
              "      <th>title character count</th>\n",
              "      <th>title word count</th>\n",
              "    </tr>\n",
              "  </thead>\n",
              "  <tbody>\n",
              "    <tr>\n",
              "      <th>count</th>\n",
              "      <td>95.000000</td>\n",
              "      <td>95.000000</td>\n",
              "    </tr>\n",
              "    <tr>\n",
              "      <th>mean</th>\n",
              "      <td>51.347368</td>\n",
              "      <td>7.978947</td>\n",
              "    </tr>\n",
              "    <tr>\n",
              "      <th>std</th>\n",
              "      <td>17.729509</td>\n",
              "      <td>3.218890</td>\n",
              "    </tr>\n",
              "    <tr>\n",
              "      <th>min</th>\n",
              "      <td>20.000000</td>\n",
              "      <td>2.000000</td>\n",
              "    </tr>\n",
              "    <tr>\n",
              "      <th>25%</th>\n",
              "      <td>37.000000</td>\n",
              "      <td>6.000000</td>\n",
              "    </tr>\n",
              "    <tr>\n",
              "      <th>50%</th>\n",
              "      <td>52.000000</td>\n",
              "      <td>7.000000</td>\n",
              "    </tr>\n",
              "    <tr>\n",
              "      <th>75%</th>\n",
              "      <td>62.000000</td>\n",
              "      <td>9.500000</td>\n",
              "    </tr>\n",
              "    <tr>\n",
              "      <th>max</th>\n",
              "      <td>95.000000</td>\n",
              "      <td>19.000000</td>\n",
              "    </tr>\n",
              "  </tbody>\n",
              "</table>\n",
              "</div>"
            ],
            "text/plain": [
              "       title character count  title word count\n",
              "count              95.000000         95.000000\n",
              "mean               51.347368          7.978947\n",
              "std                17.729509          3.218890\n",
              "min                20.000000          2.000000\n",
              "25%                37.000000          6.000000\n",
              "50%                52.000000          7.000000\n",
              "75%                62.000000          9.500000\n",
              "max                95.000000         19.000000"
            ]
          },
          "metadata": {
            "tags": []
          },
          "execution_count": 125
        }
      ]
    },
    {
      "metadata": {
        "id": "AjlISMsA_ELx",
        "colab_type": "code",
        "outputId": "91c838ea-6e17-4d6b-92d2-9b725e89b2b9",
        "colab": {
          "base_uri": "https://localhost:8080/",
          "height": 390
        }
      },
      "cell_type": "code",
      "source": [
        "df.describe(include='all')"
      ],
      "execution_count": 126,
      "outputs": [
        {
          "output_type": "execute_result",
          "data": {
            "text/html": [
              "<div>\n",
              "<style scoped>\n",
              "    .dataframe tbody tr th:only-of-type {\n",
              "        vertical-align: middle;\n",
              "    }\n",
              "\n",
              "    .dataframe tbody tr th {\n",
              "        vertical-align: top;\n",
              "    }\n",
              "\n",
              "    .dataframe thead th {\n",
              "        text-align: right;\n",
              "    }\n",
              "</style>\n",
              "<table border=\"1\" class=\"dataframe\">\n",
              "  <thead>\n",
              "    <tr style=\"text-align: right;\">\n",
              "      <th></th>\n",
              "      <th>title</th>\n",
              "      <th>title character count</th>\n",
              "      <th>long title</th>\n",
              "      <th>first letter</th>\n",
              "      <th>title word count</th>\n",
              "    </tr>\n",
              "  </thead>\n",
              "  <tbody>\n",
              "    <tr>\n",
              "      <th>count</th>\n",
              "      <td>95</td>\n",
              "      <td>95.000000</td>\n",
              "      <td>95</td>\n",
              "      <td>95</td>\n",
              "      <td>95.000000</td>\n",
              "    </tr>\n",
              "    <tr>\n",
              "      <th>unique</th>\n",
              "      <td>95</td>\n",
              "      <td>NaN</td>\n",
              "      <td>2</td>\n",
              "      <td>22</td>\n",
              "      <td>NaN</td>\n",
              "    </tr>\n",
              "    <tr>\n",
              "      <th>top</th>\n",
              "      <td>Syntax Trees and Python - Automated Code Transformations</td>\n",
              "      <td>NaN</td>\n",
              "      <td>False</td>\n",
              "      <td>T</td>\n",
              "      <td>NaN</td>\n",
              "    </tr>\n",
              "    <tr>\n",
              "      <th>freq</th>\n",
              "      <td>1</td>\n",
              "      <td>NaN</td>\n",
              "      <td>87</td>\n",
              "      <td>12</td>\n",
              "      <td>NaN</td>\n",
              "    </tr>\n",
              "    <tr>\n",
              "      <th>mean</th>\n",
              "      <td>NaN</td>\n",
              "      <td>51.347368</td>\n",
              "      <td>NaN</td>\n",
              "      <td>NaN</td>\n",
              "      <td>7.978947</td>\n",
              "    </tr>\n",
              "    <tr>\n",
              "      <th>std</th>\n",
              "      <td>NaN</td>\n",
              "      <td>17.729509</td>\n",
              "      <td>NaN</td>\n",
              "      <td>NaN</td>\n",
              "      <td>3.218890</td>\n",
              "    </tr>\n",
              "    <tr>\n",
              "      <th>min</th>\n",
              "      <td>NaN</td>\n",
              "      <td>20.000000</td>\n",
              "      <td>NaN</td>\n",
              "      <td>NaN</td>\n",
              "      <td>2.000000</td>\n",
              "    </tr>\n",
              "    <tr>\n",
              "      <th>25%</th>\n",
              "      <td>NaN</td>\n",
              "      <td>37.000000</td>\n",
              "      <td>NaN</td>\n",
              "      <td>NaN</td>\n",
              "      <td>6.000000</td>\n",
              "    </tr>\n",
              "    <tr>\n",
              "      <th>50%</th>\n",
              "      <td>NaN</td>\n",
              "      <td>52.000000</td>\n",
              "      <td>NaN</td>\n",
              "      <td>NaN</td>\n",
              "      <td>7.000000</td>\n",
              "    </tr>\n",
              "    <tr>\n",
              "      <th>75%</th>\n",
              "      <td>NaN</td>\n",
              "      <td>62.000000</td>\n",
              "      <td>NaN</td>\n",
              "      <td>NaN</td>\n",
              "      <td>9.500000</td>\n",
              "    </tr>\n",
              "    <tr>\n",
              "      <th>max</th>\n",
              "      <td>NaN</td>\n",
              "      <td>95.000000</td>\n",
              "      <td>NaN</td>\n",
              "      <td>NaN</td>\n",
              "      <td>19.000000</td>\n",
              "    </tr>\n",
              "  </tbody>\n",
              "</table>\n",
              "</div>"
            ],
            "text/plain": [
              "                                                           title  \\\n",
              "count                                                         95   \n",
              "unique                                                        95   \n",
              "top     Syntax Trees and Python - Automated Code Transformations   \n",
              "freq                                                           1   \n",
              "mean                                                         NaN   \n",
              "std                                                          NaN   \n",
              "min                                                          NaN   \n",
              "25%                                                          NaN   \n",
              "50%                                                          NaN   \n",
              "75%                                                          NaN   \n",
              "max                                                          NaN   \n",
              "\n",
              "        title character count long title first letter  title word count  \n",
              "count               95.000000         95           95         95.000000  \n",
              "unique                    NaN          2           22               NaN  \n",
              "top                       NaN      False            T               NaN  \n",
              "freq                      NaN         87           12               NaN  \n",
              "mean                51.347368        NaN          NaN          7.978947  \n",
              "std                 17.729509        NaN          NaN          3.218890  \n",
              "min                 20.000000        NaN          NaN          2.000000  \n",
              "25%                 37.000000        NaN          NaN          6.000000  \n",
              "50%                 52.000000        NaN          NaN          7.000000  \n",
              "75%                 62.000000        NaN          NaN          9.500000  \n",
              "max                 95.000000        NaN          NaN         19.000000  "
            ]
          },
          "metadata": {
            "tags": []
          },
          "execution_count": 126
        }
      ]
    },
    {
      "metadata": {
        "id": "wzx6hP4T_NrA",
        "colab_type": "code",
        "outputId": "a08b05e5-f235-4fda-e87f-010a9f4a0cf3",
        "colab": {
          "base_uri": "https://localhost:8080/",
          "height": 173
        }
      },
      "cell_type": "code",
      "source": [
        "df.describe(exclude='number')"
      ],
      "execution_count": 127,
      "outputs": [
        {
          "output_type": "execute_result",
          "data": {
            "text/html": [
              "<div>\n",
              "<style scoped>\n",
              "    .dataframe tbody tr th:only-of-type {\n",
              "        vertical-align: middle;\n",
              "    }\n",
              "\n",
              "    .dataframe tbody tr th {\n",
              "        vertical-align: top;\n",
              "    }\n",
              "\n",
              "    .dataframe thead th {\n",
              "        text-align: right;\n",
              "    }\n",
              "</style>\n",
              "<table border=\"1\" class=\"dataframe\">\n",
              "  <thead>\n",
              "    <tr style=\"text-align: right;\">\n",
              "      <th></th>\n",
              "      <th>title</th>\n",
              "      <th>long title</th>\n",
              "      <th>first letter</th>\n",
              "    </tr>\n",
              "  </thead>\n",
              "  <tbody>\n",
              "    <tr>\n",
              "      <th>count</th>\n",
              "      <td>95</td>\n",
              "      <td>95</td>\n",
              "      <td>95</td>\n",
              "    </tr>\n",
              "    <tr>\n",
              "      <th>unique</th>\n",
              "      <td>95</td>\n",
              "      <td>2</td>\n",
              "      <td>22</td>\n",
              "    </tr>\n",
              "    <tr>\n",
              "      <th>top</th>\n",
              "      <td>Syntax Trees and Python - Automated Code Transformations</td>\n",
              "      <td>False</td>\n",
              "      <td>T</td>\n",
              "    </tr>\n",
              "    <tr>\n",
              "      <th>freq</th>\n",
              "      <td>1</td>\n",
              "      <td>87</td>\n",
              "      <td>12</td>\n",
              "    </tr>\n",
              "  </tbody>\n",
              "</table>\n",
              "</div>"
            ],
            "text/plain": [
              "                                                           title long title  \\\n",
              "count                                                         95         95   \n",
              "unique                                                        95          2   \n",
              "top     Syntax Trees and Python - Automated Code Transformations      False   \n",
              "freq                                                           1         87   \n",
              "\n",
              "       first letter  \n",
              "count            95  \n",
              "unique           22  \n",
              "top               T  \n",
              "freq             12  "
            ]
          },
          "metadata": {
            "tags": []
          },
          "execution_count": 127
        }
      ]
    },
    {
      "metadata": {
        "colab_type": "text",
        "id": "T0lc_o-xyjZU"
      },
      "cell_type": "markdown",
      "source": [
        "### Sort values\n",
        "\n",
        "pandas documentation: [sort_values](https://pandas.pydata.org/pandas-docs/stable/generated/pandas.DataFrame.sort_values.html)"
      ]
    },
    {
      "metadata": {
        "colab_type": "text",
        "id": "kxE2swJ9-cG_"
      },
      "cell_type": "markdown",
      "source": [
        "Five shortest titles, by character count"
      ]
    },
    {
      "metadata": {
        "colab_type": "code",
        "id": "7t8DlpLhBVQa",
        "outputId": "a56c8714-0a9d-4889-c931-44a33b644144",
        "colab": {
          "base_uri": "https://localhost:8080/",
          "height": 204
        }
      },
      "cell_type": "code",
      "source": [
        "df.sort_values(by='title character count').head(5)"
      ],
      "execution_count": 128,
      "outputs": [
        {
          "output_type": "execute_result",
          "data": {
            "text/html": [
              "<div>\n",
              "<style scoped>\n",
              "    .dataframe tbody tr th:only-of-type {\n",
              "        vertical-align: middle;\n",
              "    }\n",
              "\n",
              "    .dataframe tbody tr th {\n",
              "        vertical-align: top;\n",
              "    }\n",
              "\n",
              "    .dataframe thead th {\n",
              "        text-align: right;\n",
              "    }\n",
              "</style>\n",
              "<table border=\"1\" class=\"dataframe\">\n",
              "  <thead>\n",
              "    <tr style=\"text-align: right;\">\n",
              "      <th></th>\n",
              "      <th>title</th>\n",
              "      <th>title character count</th>\n",
              "      <th>long title</th>\n",
              "      <th>first letter</th>\n",
              "      <th>title word count</th>\n",
              "    </tr>\n",
              "  </thead>\n",
              "  <tbody>\n",
              "    <tr>\n",
              "      <th>64</th>\n",
              "      <td>Practical decorators</td>\n",
              "      <td>20</td>\n",
              "      <td>False</td>\n",
              "      <td>P</td>\n",
              "      <td>2</td>\n",
              "    </tr>\n",
              "    <tr>\n",
              "      <th>68</th>\n",
              "      <td>Python Security Tools</td>\n",
              "      <td>21</td>\n",
              "      <td>False</td>\n",
              "      <td>P</td>\n",
              "      <td>3</td>\n",
              "    </tr>\n",
              "    <tr>\n",
              "      <th>89</th>\n",
              "      <td>Type hinting (and mypy)</td>\n",
              "      <td>23</td>\n",
              "      <td>False</td>\n",
              "      <td>T</td>\n",
              "      <td>4</td>\n",
              "    </tr>\n",
              "    <tr>\n",
              "      <th>82</th>\n",
              "      <td>The Zen of Python Teams</td>\n",
              "      <td>23</td>\n",
              "      <td>False</td>\n",
              "      <td>T</td>\n",
              "      <td>5</td>\n",
              "    </tr>\n",
              "    <tr>\n",
              "      <th>56</th>\n",
              "      <td>Measuring Model Fairness</td>\n",
              "      <td>24</td>\n",
              "      <td>False</td>\n",
              "      <td>M</td>\n",
              "      <td>3</td>\n",
              "    </tr>\n",
              "  </tbody>\n",
              "</table>\n",
              "</div>"
            ],
            "text/plain": [
              "                       title  title character count  long title first letter  \\\n",
              "64      Practical decorators                     20       False            P   \n",
              "68     Python Security Tools                     21       False            P   \n",
              "89   Type hinting (and mypy)                     23       False            T   \n",
              "82   The Zen of Python Teams                     23       False            T   \n",
              "56  Measuring Model Fairness                     24       False            M   \n",
              "\n",
              "    title word count  \n",
              "64                 2  \n",
              "68                 3  \n",
              "89                 4  \n",
              "82                 5  \n",
              "56                 3  "
            ]
          },
          "metadata": {
            "tags": []
          },
          "execution_count": 128
        }
      ]
    },
    {
      "metadata": {
        "colab_type": "text",
        "id": "NOEH4Ef5-kvo"
      },
      "cell_type": "markdown",
      "source": [
        "Titles sorted reverse alphabetically"
      ]
    },
    {
      "metadata": {
        "colab_type": "code",
        "id": "WkymeWDjBV8X",
        "outputId": "2e65fda5-9104-4600-aa71-eba08ce55714",
        "colab": {
          "base_uri": "https://localhost:8080/",
          "height": 204
        }
      },
      "cell_type": "code",
      "source": [
        "df.sort_values(by='first letter', ascending=False).head()"
      ],
      "execution_count": 129,
      "outputs": [
        {
          "output_type": "execute_result",
          "data": {
            "text/html": [
              "<div>\n",
              "<style scoped>\n",
              "    .dataframe tbody tr th:only-of-type {\n",
              "        vertical-align: middle;\n",
              "    }\n",
              "\n",
              "    .dataframe tbody tr th {\n",
              "        vertical-align: top;\n",
              "    }\n",
              "\n",
              "    .dataframe thead th {\n",
              "        text-align: right;\n",
              "    }\n",
              "</style>\n",
              "<table border=\"1\" class=\"dataframe\">\n",
              "  <thead>\n",
              "    <tr style=\"text-align: right;\">\n",
              "      <th></th>\n",
              "      <th>title</th>\n",
              "      <th>title character count</th>\n",
              "      <th>long title</th>\n",
              "      <th>first letter</th>\n",
              "      <th>title word count</th>\n",
              "    </tr>\n",
              "  </thead>\n",
              "  <tbody>\n",
              "    <tr>\n",
              "      <th>30</th>\n",
              "      <td>¡Escuincla babosa!: Creating a telenovela script in three Python deep learning frameworks</td>\n",
              "      <td>89</td>\n",
              "      <td>True</td>\n",
              "      <td>¡</td>\n",
              "      <td>12</td>\n",
              "    </tr>\n",
              "    <tr>\n",
              "      <th>88</th>\n",
              "      <td>to GIL or not to GIL: the Future of Multi-Core (C)Python</td>\n",
              "      <td>56</td>\n",
              "      <td>False</td>\n",
              "      <td>t</td>\n",
              "      <td>11</td>\n",
              "    </tr>\n",
              "    <tr>\n",
              "      <th>94</th>\n",
              "      <td>Working with Time Zones: Everything You Wish You Didn't Need to Know</td>\n",
              "      <td>68</td>\n",
              "      <td>False</td>\n",
              "      <td>W</td>\n",
              "      <td>12</td>\n",
              "    </tr>\n",
              "    <tr>\n",
              "      <th>93</th>\n",
              "      <td>Wily Python: Writing simpler and more maintainable Python</td>\n",
              "      <td>57</td>\n",
              "      <td>False</td>\n",
              "      <td>W</td>\n",
              "      <td>8</td>\n",
              "    </tr>\n",
              "    <tr>\n",
              "      <th>92</th>\n",
              "      <td>What's new in Python 3.7</td>\n",
              "      <td>24</td>\n",
              "      <td>False</td>\n",
              "      <td>W</td>\n",
              "      <td>5</td>\n",
              "    </tr>\n",
              "  </tbody>\n",
              "</table>\n",
              "</div>"
            ],
            "text/plain": [
              "                                                                                        title  \\\n",
              "30  ¡Escuincla babosa!: Creating a telenovela script in three Python deep learning frameworks   \n",
              "88                                   to GIL or not to GIL: the Future of Multi-Core (C)Python   \n",
              "94                       Working with Time Zones: Everything You Wish You Didn't Need to Know   \n",
              "93                                  Wily Python: Writing simpler and more maintainable Python   \n",
              "92                                                                   What's new in Python 3.7   \n",
              "\n",
              "    title character count  long title first letter  title word count  \n",
              "30                     89        True            ¡                12  \n",
              "88                     56       False            t                11  \n",
              "94                     68       False            W                12  \n",
              "93                     57       False            W                 8  \n",
              "92                     24       False            W                 5  "
            ]
          },
          "metadata": {
            "tags": []
          },
          "execution_count": 129
        }
      ]
    },
    {
      "metadata": {
        "colab_type": "text",
        "id": "e4wr42FB0GV-"
      },
      "cell_type": "markdown",
      "source": [
        "### Get value counts\n",
        "\n",
        "pandas documentation: [value_counts](https://pandas.pydata.org/pandas-docs/stable/generated/pandas.Series.value_counts.html)\n"
      ]
    },
    {
      "metadata": {
        "colab_type": "text",
        "id": "D81LNGaI-6ya"
      },
      "cell_type": "markdown",
      "source": [
        "Frequency counts of first letters"
      ]
    },
    {
      "metadata": {
        "colab_type": "code",
        "id": "AdTQYsRKBZio",
        "outputId": "2ae552dd-d6ac-42f7-e6e8-033bc75f9c41",
        "colab": {
          "base_uri": "https://localhost:8080/",
          "height": 408
        }
      },
      "cell_type": "code",
      "source": [
        "df['first letter'].value_counts()"
      ],
      "execution_count": 130,
      "outputs": [
        {
          "output_type": "execute_result",
          "data": {
            "text/plain": [
              "T    12\n",
              "A    11\n",
              "P     8\n",
              "M     8\n",
              "E     7\n",
              "B     6\n",
              "S     6\n",
              "H     5\n",
              "D     4\n",
              "W     4\n",
              "L     4\n",
              "G     4\n",
              "F     3\n",
              "C     3\n",
              "R     2\n",
              "I     2\n",
              "O     1\n",
              "U     1\n",
              "t     1\n",
              "5     1\n",
              "¡     1\n",
              "8     1\n",
              "Name: first letter, dtype: int64"
            ]
          },
          "metadata": {
            "tags": []
          },
          "execution_count": 130
        }
      ]
    },
    {
      "metadata": {
        "colab_type": "text",
        "id": "04NVokvTAwqK"
      },
      "cell_type": "markdown",
      "source": [
        "Percentage of talks with long titles"
      ]
    },
    {
      "metadata": {
        "colab_type": "code",
        "id": "uS8qp4hrBat6",
        "outputId": "e823c55b-9f50-43e7-8aa3-398924e88356",
        "colab": {
          "base_uri": "https://localhost:8080/",
          "height": 68
        }
      },
      "cell_type": "code",
      "source": [
        "df['long title'].value_counts(normalize=True)"
      ],
      "execution_count": 131,
      "outputs": [
        {
          "output_type": "execute_result",
          "data": {
            "text/plain": [
              "False    0.915789\n",
              "True     0.084211\n",
              "Name: long title, dtype: float64"
            ]
          },
          "metadata": {
            "tags": []
          },
          "execution_count": 131
        }
      ]
    },
    {
      "metadata": {
        "colab_type": "text",
        "id": "mmYZL2QL0lgd"
      },
      "cell_type": "markdown",
      "source": [
        "### Plot\n",
        "\n",
        "pandas documentation: [Visualization](https://pandas.pydata.org/pandas-docs/stable/visualization.html)\n",
        "\n",
        "\n",
        "\n"
      ]
    },
    {
      "metadata": {
        "colab_type": "text",
        "id": "c6gCotA9_B68"
      },
      "cell_type": "markdown",
      "source": [
        "Top 5 most frequent first letters"
      ]
    },
    {
      "metadata": {
        "colab_type": "code",
        "id": "DUmcVcdXBdkw",
        "outputId": "f7ec62e3-35bc-47fb-b46e-c6726f9ccfe2",
        "colab": {
          "base_uri": "https://localhost:8080/",
          "height": 280
        }
      },
      "cell_type": "code",
      "source": [
        "%matplotlib inline\n",
        "\n",
        "(df['first letter']\n",
        " .value_counts()\n",
        " .head(5)\n",
        " .plot\n",
        " .barh(color='grey', \n",
        "       title='Top 5 most frequent first letters, PyCon 2019 talks'));"
      ],
      "execution_count": 132,
      "outputs": [
        {
          "output_type": "display_data",
          "data": {
            "image/png": "[encoded data removed]",
            "text/plain": [
              "<Figure size 432x288 with 1 Axes>"
            ]
          },
          "metadata": {
            "tags": []
          }
        }
      ]
    },
    {
      "metadata": {
        "colab_type": "text",
        "id": "_Ngegk0bASty"
      },
      "cell_type": "markdown",
      "source": [
        "Histogram of title lengths, in characters"
      ]
    },
    {
      "metadata": {
        "colab_type": "code",
        "id": "y5oLu2D4BeKw",
        "outputId": "abaa0689-a89d-4fbe-e7b1-1f70ef58a525",
        "colab": {
          "base_uri": "https://localhost:8080/",
          "height": 280
        }
      },
      "cell_type": "code",
      "source": [
        "title = 'Distribution of title length, in characters'\n",
        "df['title character count'].plot.hist(title=title);"
      ],
      "execution_count": 133,
      "outputs": [
        {
          "output_type": "display_data",
          "data": {
            "image/png": "[encoded data removed]",
            "text/plain": [
              "<Figure size 432x288 with 1 Axes>"
            ]
          },
          "metadata": {
            "tags": []
          }
        }
      ]
    },
    {
      "metadata": {
        "colab_type": "text",
        "id": "DiylH7LQw44u"
      },
      "cell_type": "markdown",
      "source": [
        "# Assignment\n",
        "\n",
        "**Scrape** the talk descriptions. Hint: `soup.select('.presentation-description')`\n",
        "\n",
        "**Make** new columns in the dataframe:\n",
        "- description\n",
        "- description character count\n",
        "- description word count\n",
        "\n",
        "**Describe** all the dataframe's columns. What's the average description word count? The minimum? The maximum?\n",
        "\n",
        "**Answer** the question: Which descriptions could fit in a tweet?"
      ]
    },
    {
      "metadata": {
        "id": "eTI68IC3oUwx",
        "colab_type": "code",
        "colab": {
          "base_uri": "https://localhost:8080/",
          "height": 34
        },
        "outputId": "8438b5c7-2f79-459d-af7f-e5ce9e08f293"
      },
      "cell_type": "code",
      "source": [
        "#importing our libraries once more to practice \n",
        "import pandas as pd\n",
        "import bs4\n",
        "import requests\n",
        "\n",
        "#the url is the same as the one above, however, we re-write to program our brains and increase clarity\n",
        "url = \"https://us.pycon.org/2019/schedule/talks/list/\"\n",
        "\n",
        "result = requests.get(url)\n",
        "soup = bs4.BeautifulSoup(result.text)\n",
        "\n",
        "#we create a for loop in order to iterate through presentation descriptions and clean any whitespace from our text\n",
        "#the empty list pre_des is created in order to append our presentation descriptions which we'll later use as a pandas df \n",
        "pre_des = []\n",
        "for tag in soup.select(\".presentation-description\"): \n",
        "  description = tag.text.strip()\n",
        "  pre_des.append(description)\n",
        "\n",
        "#passing type and len in order to verify we have our lists and that the length matches what we'd expect ~ approx 100   \n",
        "type(pre_des), len(pre_des)"
      ],
      "execution_count": 134,
      "outputs": [
        {
          "output_type": "execute_result",
          "data": {
            "text/plain": [
              "(list, 95)"
            ]
          },
          "metadata": {
            "tags": []
          },
          "execution_count": 134
        }
      ]
    },
    {
      "metadata": {
        "id": "Um_dHpKMtVMD",
        "colab_type": "code",
        "colab": {
          "base_uri": "https://localhost:8080/",
          "height": 255
        },
        "outputId": "bc414641-b995-4476-e7a6-7203353d378d"
      },
      "cell_type": "code",
      "source": [
        "#creating a column header named \"Description\" and inputing our presentation descriptions from our variable pre_des\n",
        "df = pd.DataFrame({\"Description\": pre_des})\n",
        "df.head()"
      ],
      "execution_count": 135,
      "outputs": [
        {
          "output_type": "execute_result",
          "data": {
            "text/html": [
              "<div>\n",
              "<style scoped>\n",
              "    .dataframe tbody tr th:only-of-type {\n",
              "        vertical-align: middle;\n",
              "    }\n",
              "\n",
              "    .dataframe tbody tr th {\n",
              "        vertical-align: top;\n",
              "    }\n",
              "\n",
              "    .dataframe thead th {\n",
              "        text-align: right;\n",
              "    }\n",
              "</style>\n",
              "<table border=\"1\" class=\"dataframe\">\n",
              "  <thead>\n",
              "    <tr style=\"text-align: right;\">\n",
              "      <th></th>\n",
              "      <th>Description</th>\n",
              "    </tr>\n",
              "  </thead>\n",
              "  <tbody>\n",
              "    <tr>\n",
              "      <th>0</th>\n",
              "      <td>Have you ever wanted to write a GUI application in Python that you can run on both your laptop and your phone? Have you been looking to contribute to an open source project, but you don't know whe...</td>\n",
              "    </tr>\n",
              "    <tr>\n",
              "      <th>1</th>\n",
              "      <td>We rarely think about the dot “.” between our objects and their fields, but there are quite a lot of things that happen every time we use one in Python. This talk will explore the details of what ...</td>\n",
              "    </tr>\n",
              "    <tr>\n",
              "      <th>2</th>\n",
              "      <td>Account security means making sure your users are only ones who can access their accounts. Account takeovers happen for a variety of reasons -- password re-use, compromised computers, guessable pa...</td>\n",
              "    </tr>\n",
              "    <tr>\n",
              "      <th>3</th>\n",
              "      <td>Do you feel overwhelmed by the prospect of having to find a new software engineering job because you dread the technical interviewing process? Have you been putting off submitting your job applica...</td>\n",
              "    </tr>\n",
              "    <tr>\n",
              "      <th>4</th>\n",
              "      <td>Everyone’s talking about it. Everyone’s using it. But most likely, they’re doing it wrong, just like we did.\\r\\n\\r\\nBy building a simplified chaos monkey service, we will walk through how to creat...</td>\n",
              "    </tr>\n",
              "  </tbody>\n",
              "</table>\n",
              "</div>"
            ],
            "text/plain": [
              "                                                                                                                                                                                               Description\n",
              "0  Have you ever wanted to write a GUI application in Python that you can run on both your laptop and your phone? Have you been looking to contribute to an open source project, but you don't know whe...\n",
              "1  We rarely think about the dot “.” between our objects and their fields, but there are quite a lot of things that happen every time we use one in Python. This talk will explore the details of what ...\n",
              "2  Account security means making sure your users are only ones who can access their accounts. Account takeovers happen for a variety of reasons -- password re-use, compromised computers, guessable pa...\n",
              "3  Do you feel overwhelmed by the prospect of having to find a new software engineering job because you dread the technical interviewing process? Have you been putting off submitting your job applica...\n",
              "4  Everyone’s talking about it. Everyone’s using it. But most likely, they’re doing it wrong, just like we did.\\r\\n\\r\\nBy building a simplified chaos monkey service, we will walk through how to creat..."
            ]
          },
          "metadata": {
            "tags": []
          },
          "execution_count": 135
        }
      ]
    },
    {
      "metadata": {
        "id": "rUFKvprfxsSW",
        "colab_type": "code",
        "colab": {
          "base_uri": "https://localhost:8080/",
          "height": 306
        },
        "outputId": "bc54d98a-0a05-4c9c-ef29-0fcfad0243e7"
      },
      "cell_type": "code",
      "source": [
        "#creating column header \"Description Character Count\"\n",
        "df[\"Description Character Count\"] = df[\"Description\"].apply(len)\n",
        "df.head()"
      ],
      "execution_count": 136,
      "outputs": [
        {
          "output_type": "execute_result",
          "data": {
            "text/html": [
              "<div>\n",
              "<style scoped>\n",
              "    .dataframe tbody tr th:only-of-type {\n",
              "        vertical-align: middle;\n",
              "    }\n",
              "\n",
              "    .dataframe tbody tr th {\n",
              "        vertical-align: top;\n",
              "    }\n",
              "\n",
              "    .dataframe thead th {\n",
              "        text-align: right;\n",
              "    }\n",
              "</style>\n",
              "<table border=\"1\" class=\"dataframe\">\n",
              "  <thead>\n",
              "    <tr style=\"text-align: right;\">\n",
              "      <th></th>\n",
              "      <th>Description</th>\n",
              "      <th>Description Character Count</th>\n",
              "    </tr>\n",
              "  </thead>\n",
              "  <tbody>\n",
              "    <tr>\n",
              "      <th>0</th>\n",
              "      <td>Have you ever wanted to write a GUI application in Python that you can run on both your laptop and your phone? Have you been looking to contribute to an open source project, but you don't know whe...</td>\n",
              "      <td>766</td>\n",
              "    </tr>\n",
              "    <tr>\n",
              "      <th>1</th>\n",
              "      <td>We rarely think about the dot “.” between our objects and their fields, but there are quite a lot of things that happen every time we use one in Python. This talk will explore the details of what ...</td>\n",
              "      <td>296</td>\n",
              "    </tr>\n",
              "    <tr>\n",
              "      <th>2</th>\n",
              "      <td>Account security means making sure your users are only ones who can access their accounts. Account takeovers happen for a variety of reasons -- password re-use, compromised computers, guessable pa...</td>\n",
              "      <td>426</td>\n",
              "    </tr>\n",
              "    <tr>\n",
              "      <th>3</th>\n",
              "      <td>Do you feel overwhelmed by the prospect of having to find a new software engineering job because you dread the technical interviewing process? Have you been putting off submitting your job applica...</td>\n",
              "      <td>507</td>\n",
              "    </tr>\n",
              "    <tr>\n",
              "      <th>4</th>\n",
              "      <td>Everyone’s talking about it. Everyone’s using it. But most likely, they’re doing it wrong, just like we did.\\r\\n\\r\\nBy building a simplified chaos monkey service, we will walk through how to creat...</td>\n",
              "      <td>647</td>\n",
              "    </tr>\n",
              "  </tbody>\n",
              "</table>\n",
              "</div>"
            ],
            "text/plain": [
              "                                                                                                                                                                                               Description  \\\n",
              "0  Have you ever wanted to write a GUI application in Python that you can run on both your laptop and your phone? Have you been looking to contribute to an open source project, but you don't know whe...   \n",
              "1  We rarely think about the dot “.” between our objects and their fields, but there are quite a lot of things that happen every time we use one in Python. This talk will explore the details of what ...   \n",
              "2  Account security means making sure your users are only ones who can access their accounts. Account takeovers happen for a variety of reasons -- password re-use, compromised computers, guessable pa...   \n",
              "3  Do you feel overwhelmed by the prospect of having to find a new software engineering job because you dread the technical interviewing process? Have you been putting off submitting your job applica...   \n",
              "4  Everyone’s talking about it. Everyone’s using it. But most likely, they’re doing it wrong, just like we did.\\r\\n\\r\\nBy building a simplified chaos monkey service, we will walk through how to creat...   \n",
              "\n",
              "   Description Character Count  \n",
              "0                          766  \n",
              "1                          296  \n",
              "2                          426  \n",
              "3                          507  \n",
              "4                          647  "
            ]
          },
          "metadata": {
            "tags": []
          },
          "execution_count": 136
        }
      ]
    },
    {
      "metadata": {
        "id": "jQOrxVx1ynJQ",
        "colab_type": "code",
        "colab": {
          "base_uri": "https://localhost:8080/",
          "height": 68
        },
        "outputId": "5bd5e7e7-d83f-4d5d-f9c3-1697c130065a"
      },
      "cell_type": "code",
      "source": [
        "#installing texstat\n",
        "!pip install textstat\n",
        "import textstat\n"
      ],
      "execution_count": 137,
      "outputs": [
        {
          "output_type": "stream",
          "text": [
            "Requirement already satisfied: textstat in /usr/local/lib/python3.6/dist-packages (0.5.5)\n",
            "Requirement already satisfied: pyphen in /usr/local/lib/python3.6/dist-packages (from textstat) (0.9.5)\n",
            "Requirement already satisfied: repoze.lru in /usr/local/lib/python3.6/dist-packages (from textstat) (0.7)\n"
          ],
          "name": "stdout"
        }
      ]
    },
    {
      "metadata": {
        "id": "96FShK8-zoTc",
        "colab_type": "code",
        "colab": {
          "base_uri": "https://localhost:8080/",
          "height": 306
        },
        "outputId": "539f67d4-fdfd-4175-9756-be79c6d27024"
      },
      "cell_type": "code",
      "source": [
        "#using texstat to calculate word count \n",
        "df[\"Description Word Count\"] = df[\"Description\"].apply(textstat.lexicon_count)\n",
        "df.head()"
      ],
      "execution_count": 138,
      "outputs": [
        {
          "output_type": "execute_result",
          "data": {
            "text/html": [
              "<div>\n",
              "<style scoped>\n",
              "    .dataframe tbody tr th:only-of-type {\n",
              "        vertical-align: middle;\n",
              "    }\n",
              "\n",
              "    .dataframe tbody tr th {\n",
              "        vertical-align: top;\n",
              "    }\n",
              "\n",
              "    .dataframe thead th {\n",
              "        text-align: right;\n",
              "    }\n",
              "</style>\n",
              "<table border=\"1\" class=\"dataframe\">\n",
              "  <thead>\n",
              "    <tr style=\"text-align: right;\">\n",
              "      <th></th>\n",
              "      <th>Description</th>\n",
              "      <th>Description Character Count</th>\n",
              "      <th>Description Word Count</th>\n",
              "    </tr>\n",
              "  </thead>\n",
              "  <tbody>\n",
              "    <tr>\n",
              "      <th>0</th>\n",
              "      <td>Have you ever wanted to write a GUI application in Python that you can run on both your laptop and your phone? Have you been looking to contribute to an open source project, but you don't know whe...</td>\n",
              "      <td>766</td>\n",
              "      <td>135</td>\n",
              "    </tr>\n",
              "    <tr>\n",
              "      <th>1</th>\n",
              "      <td>We rarely think about the dot “.” between our objects and their fields, but there are quite a lot of things that happen every time we use one in Python. This talk will explore the details of what ...</td>\n",
              "      <td>296</td>\n",
              "      <td>56</td>\n",
              "    </tr>\n",
              "    <tr>\n",
              "      <th>2</th>\n",
              "      <td>Account security means making sure your users are only ones who can access their accounts. Account takeovers happen for a variety of reasons -- password re-use, compromised computers, guessable pa...</td>\n",
              "      <td>426</td>\n",
              "      <td>66</td>\n",
              "    </tr>\n",
              "    <tr>\n",
              "      <th>3</th>\n",
              "      <td>Do you feel overwhelmed by the prospect of having to find a new software engineering job because you dread the technical interviewing process? Have you been putting off submitting your job applica...</td>\n",
              "      <td>507</td>\n",
              "      <td>84</td>\n",
              "    </tr>\n",
              "    <tr>\n",
              "      <th>4</th>\n",
              "      <td>Everyone’s talking about it. Everyone’s using it. But most likely, they’re doing it wrong, just like we did.\\r\\n\\r\\nBy building a simplified chaos monkey service, we will walk through how to creat...</td>\n",
              "      <td>647</td>\n",
              "      <td>96</td>\n",
              "    </tr>\n",
              "  </tbody>\n",
              "</table>\n",
              "</div>"
            ],
            "text/plain": [
              "                                                                                                                                                                                               Description  \\\n",
              "0  Have you ever wanted to write a GUI application in Python that you can run on both your laptop and your phone? Have you been looking to contribute to an open source project, but you don't know whe...   \n",
              "1  We rarely think about the dot “.” between our objects and their fields, but there are quite a lot of things that happen every time we use one in Python. This talk will explore the details of what ...   \n",
              "2  Account security means making sure your users are only ones who can access their accounts. Account takeovers happen for a variety of reasons -- password re-use, compromised computers, guessable pa...   \n",
              "3  Do you feel overwhelmed by the prospect of having to find a new software engineering job because you dread the technical interviewing process? Have you been putting off submitting your job applica...   \n",
              "4  Everyone’s talking about it. Everyone’s using it. But most likely, they’re doing it wrong, just like we did.\\r\\n\\r\\nBy building a simplified chaos monkey service, we will walk through how to creat...   \n",
              "\n",
              "   Description Character Count  Description Word Count  \n",
              "0                          766                     135  \n",
              "1                          296                      56  \n",
              "2                          426                      66  \n",
              "3                          507                      84  \n",
              "4                          647                      96  "
            ]
          },
          "metadata": {
            "tags": []
          },
          "execution_count": 138
        }
      ]
    },
    {
      "metadata": {
        "id": "W6u8YrFD0His",
        "colab_type": "code",
        "colab": {
          "base_uri": "https://localhost:8080/",
          "height": 424
        },
        "outputId": "8652bc60-e785-4d02-b229-36e57e08e374"
      },
      "cell_type": "code",
      "source": [
        "#description word count: mean ~ 130; min = 121, max = 2827\n",
        "df.describe(include = \"all\")"
      ],
      "execution_count": 139,
      "outputs": [
        {
          "output_type": "execute_result",
          "data": {
            "text/html": [
              "<div>\n",
              "<style scoped>\n",
              "    .dataframe tbody tr th:only-of-type {\n",
              "        vertical-align: middle;\n",
              "    }\n",
              "\n",
              "    .dataframe tbody tr th {\n",
              "        vertical-align: top;\n",
              "    }\n",
              "\n",
              "    .dataframe thead th {\n",
              "        text-align: right;\n",
              "    }\n",
              "</style>\n",
              "<table border=\"1\" class=\"dataframe\">\n",
              "  <thead>\n",
              "    <tr style=\"text-align: right;\">\n",
              "      <th></th>\n",
              "      <th>Description</th>\n",
              "      <th>Description Character Count</th>\n",
              "      <th>Description Word Count</th>\n",
              "    </tr>\n",
              "  </thead>\n",
              "  <tbody>\n",
              "    <tr>\n",
              "      <th>count</th>\n",
              "      <td>95</td>\n",
              "      <td>95.000000</td>\n",
              "      <td>95.000000</td>\n",
              "    </tr>\n",
              "    <tr>\n",
              "      <th>unique</th>\n",
              "      <td>95</td>\n",
              "      <td>NaN</td>\n",
              "      <td>NaN</td>\n",
              "    </tr>\n",
              "    <tr>\n",
              "      <th>top</th>\n",
              "      <td>Extracting tables from PDFs is hard. The Portable Document Format was not designed for tabular data. Sadly, a lot of open data is shared as PDFs and getting tables out for analysis is a pain. A si...</td>\n",
              "      <td>NaN</td>\n",
              "      <td>NaN</td>\n",
              "    </tr>\n",
              "    <tr>\n",
              "      <th>freq</th>\n",
              "      <td>1</td>\n",
              "      <td>NaN</td>\n",
              "      <td>NaN</td>\n",
              "    </tr>\n",
              "    <tr>\n",
              "      <th>mean</th>\n",
              "      <td>NaN</td>\n",
              "      <td>813.073684</td>\n",
              "      <td>130.821053</td>\n",
              "    </tr>\n",
              "    <tr>\n",
              "      <th>std</th>\n",
              "      <td>NaN</td>\n",
              "      <td>415.988191</td>\n",
              "      <td>64.357872</td>\n",
              "    </tr>\n",
              "    <tr>\n",
              "      <th>min</th>\n",
              "      <td>NaN</td>\n",
              "      <td>121.000000</td>\n",
              "      <td>20.000000</td>\n",
              "    </tr>\n",
              "    <tr>\n",
              "      <th>25%</th>\n",
              "      <td>NaN</td>\n",
              "      <td>542.500000</td>\n",
              "      <td>85.500000</td>\n",
              "    </tr>\n",
              "    <tr>\n",
              "      <th>50%</th>\n",
              "      <td>NaN</td>\n",
              "      <td>718.000000</td>\n",
              "      <td>116.000000</td>\n",
              "    </tr>\n",
              "    <tr>\n",
              "      <th>75%</th>\n",
              "      <td>NaN</td>\n",
              "      <td>1016.500000</td>\n",
              "      <td>165.000000</td>\n",
              "    </tr>\n",
              "    <tr>\n",
              "      <th>max</th>\n",
              "      <td>NaN</td>\n",
              "      <td>2827.000000</td>\n",
              "      <td>421.000000</td>\n",
              "    </tr>\n",
              "  </tbody>\n",
              "</table>\n",
              "</div>"
            ],
            "text/plain": [
              "                                                                                                                                                                                                    Description  \\\n",
              "count                                                                                                                                                                                                        95   \n",
              "unique                                                                                                                                                                                                       95   \n",
              "top     Extracting tables from PDFs is hard. The Portable Document Format was not designed for tabular data. Sadly, a lot of open data is shared as PDFs and getting tables out for analysis is a pain. A si...   \n",
              "freq                                                                                                                                                                                                          1   \n",
              "mean                                                                                                                                                                                                        NaN   \n",
              "std                                                                                                                                                                                                         NaN   \n",
              "min                                                                                                                                                                                                         NaN   \n",
              "25%                                                                                                                                                                                                         NaN   \n",
              "50%                                                                                                                                                                                                         NaN   \n",
              "75%                                                                                                                                                                                                         NaN   \n",
              "max                                                                                                                                                                                                         NaN   \n",
              "\n",
              "        Description Character Count  Description Word Count  \n",
              "count                     95.000000               95.000000  \n",
              "unique                          NaN                     NaN  \n",
              "top                             NaN                     NaN  \n",
              "freq                            NaN                     NaN  \n",
              "mean                     813.073684              130.821053  \n",
              "std                      415.988191               64.357872  \n",
              "min                      121.000000               20.000000  \n",
              "25%                      542.500000               85.500000  \n",
              "50%                      718.000000              116.000000  \n",
              "75%                     1016.500000              165.000000  \n",
              "max                     2827.000000              421.000000  "
            ]
          },
          "metadata": {
            "tags": []
          },
          "execution_count": 139
        }
      ]
    },
    {
      "metadata": {
        "id": "ne2n3-7k1RJj",
        "colab_type": "code",
        "colab": {
          "base_uri": "https://localhost:8080/",
          "height": 114
        },
        "outputId": "a12703b6-c490-4a41-9f0f-aaaa252de348"
      },
      "cell_type": "code",
      "source": [
        "# Since the character limit for 1 tweet is 280 characters, only one presentation description would fit in a tweet\n",
        "df[df[\"Description Character Count\"] <= 280]\n"
      ],
      "execution_count": 140,
      "outputs": [
        {
          "output_type": "execute_result",
          "data": {
            "text/html": [
              "<div>\n",
              "<style scoped>\n",
              "    .dataframe tbody tr th:only-of-type {\n",
              "        vertical-align: middle;\n",
              "    }\n",
              "\n",
              "    .dataframe tbody tr th {\n",
              "        vertical-align: top;\n",
              "    }\n",
              "\n",
              "    .dataframe thead th {\n",
              "        text-align: right;\n",
              "    }\n",
              "</style>\n",
              "<table border=\"1\" class=\"dataframe\">\n",
              "  <thead>\n",
              "    <tr style=\"text-align: right;\">\n",
              "      <th></th>\n",
              "      <th>Description</th>\n",
              "      <th>Description Character Count</th>\n",
              "      <th>Description Word Count</th>\n",
              "    </tr>\n",
              "  </thead>\n",
              "  <tbody>\n",
              "    <tr>\n",
              "      <th>54</th>\n",
              "      <td>Learn how to make music with Python, SuperCollider and FoxDot. We'll create a song together in this live coded adventure.</td>\n",
              "      <td>121</td>\n",
              "      <td>20</td>\n",
              "    </tr>\n",
              "  </tbody>\n",
              "</table>\n",
              "</div>"
            ],
            "text/plain": [
              "                                                                                                                  Description  \\\n",
              "54  Learn how to make music with Python, SuperCollider and FoxDot. We'll create a song together in this live coded adventure.   \n",
              "\n",
              "    Description Character Count  Description Word Count  \n",
              "54                          121                      20  "
            ]
          },
          "metadata": {
            "tags": []
          },
          "execution_count": 140
        }
      ]
    },
    {
      "metadata": {
        "id": "-gcLcsyQoPqp",
        "colab_type": "text"
      },
      "cell_type": "markdown",
      "source": [
        "# Stretch Challenge\n",
        "\n",
        "**Make** another new column in the dataframe:\n",
        "- description grade level (you can use [this `textstat` function](https://github.com/shivam5992/textstat#the-flesch-kincaid-grade-level) to get the Flesh-Kincaid grade level)\n",
        "\n",
        "**Answer** the question: What's the distribution of grade levels? Plot a histogram.\n",
        "\n",
        "**Be aware** that [Textstat has issues when sentences aren't separated by spaces](https://github.com/shivam5992/textstat/issues/77#issuecomment-453734048). (A Lambda School Data Science student helped identify this issue, and emailed with the developer.) \n",
        "\n",
        "Also, [BeautifulSoup doesn't separate paragraph tags with spaces](https://bugs.launchpad.net/beautifulsoup/+bug/1768330).\n",
        "\n",
        "So, you may get some inaccurate or surprising grade level estimates here. Don't worry, that's ok — but optionally, can you do anything to try improving the grade level estimates?"
      ]
    },
    {
      "metadata": {
        "id": "TP64ZPrj5U20",
        "colab_type": "code",
        "colab": {
          "base_uri": "https://localhost:8080/",
          "height": 306
        },
        "outputId": "3fbe0d67-ec93-497a-9d1e-b168891f7df8"
      },
      "cell_type": "code",
      "source": [
        "#using textstat once again to calculate \"Description Grade Level\"\n",
        "df[\"Description Grade Level\"] = df[\"Description\"].apply(textstat.flesch_kincaid_grade)\n",
        "df.head()"
      ],
      "execution_count": 145,
      "outputs": [
        {
          "output_type": "execute_result",
          "data": {
            "text/html": [
              "<div>\n",
              "<style scoped>\n",
              "    .dataframe tbody tr th:only-of-type {\n",
              "        vertical-align: middle;\n",
              "    }\n",
              "\n",
              "    .dataframe tbody tr th {\n",
              "        vertical-align: top;\n",
              "    }\n",
              "\n",
              "    .dataframe thead th {\n",
              "        text-align: right;\n",
              "    }\n",
              "</style>\n",
              "<table border=\"1\" class=\"dataframe\">\n",
              "  <thead>\n",
              "    <tr style=\"text-align: right;\">\n",
              "      <th></th>\n",
              "      <th>Description</th>\n",
              "      <th>Description Character Count</th>\n",
              "      <th>Description Word Count</th>\n",
              "      <th>Description Grade Level</th>\n",
              "    </tr>\n",
              "  </thead>\n",
              "  <tbody>\n",
              "    <tr>\n",
              "      <th>0</th>\n",
              "      <td>Have you ever wanted to write a GUI application in Python that you can run on both your laptop and your phone? Have you been looking to contribute to an open source project, but you don't know whe...</td>\n",
              "      <td>766</td>\n",
              "      <td>135</td>\n",
              "      <td>14.1</td>\n",
              "    </tr>\n",
              "    <tr>\n",
              "      <th>1</th>\n",
              "      <td>We rarely think about the dot “.” between our objects and their fields, but there are quite a lot of things that happen every time we use one in Python. This talk will explore the details of what ...</td>\n",
              "      <td>296</td>\n",
              "      <td>56</td>\n",
              "      <td>10.7</td>\n",
              "    </tr>\n",
              "    <tr>\n",
              "      <th>2</th>\n",
              "      <td>Account security means making sure your users are only ones who can access their accounts. Account takeovers happen for a variety of reasons -- password re-use, compromised computers, guessable pa...</td>\n",
              "      <td>426</td>\n",
              "      <td>66</td>\n",
              "      <td>8.5</td>\n",
              "    </tr>\n",
              "    <tr>\n",
              "      <th>3</th>\n",
              "      <td>Do you feel overwhelmed by the prospect of having to find a new software engineering job because you dread the technical interviewing process? Have you been putting off submitting your job applica...</td>\n",
              "      <td>507</td>\n",
              "      <td>84</td>\n",
              "      <td>17.3</td>\n",
              "    </tr>\n",
              "    <tr>\n",
              "      <th>4</th>\n",
              "      <td>Everyone’s talking about it. Everyone’s using it. But most likely, they’re doing it wrong, just like we did.\\r\\n\\r\\nBy building a simplified chaos monkey service, we will walk through how to creat...</td>\n",
              "      <td>647</td>\n",
              "      <td>96</td>\n",
              "      <td>10.8</td>\n",
              "    </tr>\n",
              "  </tbody>\n",
              "</table>\n",
              "</div>"
            ],
            "text/plain": [
              "                                                                                                                                                                                               Description  \\\n",
              "0  Have you ever wanted to write a GUI application in Python that you can run on both your laptop and your phone? Have you been looking to contribute to an open source project, but you don't know whe...   \n",
              "1  We rarely think about the dot “.” between our objects and their fields, but there are quite a lot of things that happen every time we use one in Python. This talk will explore the details of what ...   \n",
              "2  Account security means making sure your users are only ones who can access their accounts. Account takeovers happen for a variety of reasons -- password re-use, compromised computers, guessable pa...   \n",
              "3  Do you feel overwhelmed by the prospect of having to find a new software engineering job because you dread the technical interviewing process? Have you been putting off submitting your job applica...   \n",
              "4  Everyone’s talking about it. Everyone’s using it. But most likely, they’re doing it wrong, just like we did.\\r\\n\\r\\nBy building a simplified chaos monkey service, we will walk through how to creat...   \n",
              "\n",
              "   Description Character Count  Description Word Count  \\\n",
              "0                          766                     135   \n",
              "1                          296                      56   \n",
              "2                          426                      66   \n",
              "3                          507                      84   \n",
              "4                          647                      96   \n",
              "\n",
              "   Description Grade Level  \n",
              "0                     14.1  \n",
              "1                     10.7  \n",
              "2                      8.5  \n",
              "3                     17.3  \n",
              "4                     10.8  "
            ]
          },
          "metadata": {
            "tags": []
          },
          "execution_count": 145
        }
      ]
    },
    {
      "metadata": {
        "id": "1burOWFD6Idw",
        "colab_type": "code",
        "colab": {
          "base_uri": "https://localhost:8080/",
          "height": 294
        },
        "outputId": "42b1d801-ac38-48d6-f20d-10e342c3d4ed"
      },
      "cell_type": "code",
      "source": [
        "#plotting our histogram of the grade levels and adding a title and labels to increase clarity\n",
        "#it would be useful to investigate how the idiosyncracies of textstat affect our calculations of grade level\n",
        "ax = df[\"Description Grade Level\"].plot.hist()\n",
        "\n",
        "ax.set_xlabel(\"Description Grade Level\")\n",
        "ax.set_ylabel(\"Frequency\")\n",
        "ax.set_title(\"Description Grade Level Histogram\")\n",
        "ax;"
      ],
      "execution_count": 143,
      "outputs": [
        {
          "output_type": "display_data",
          "data": {
            "image/png": "[encoded data removed]",
            "text/plain": [
              "<Figure size 432x288 with 1 Axes>"
            ]
          },
          "metadata": {
            "tags": []
          }
        }
      ]
    },
    {
      "metadata": {
        "id": "RVCcwvVT8ScT",
        "colab_type": "code",
        "colab": {}
      },
      "cell_type": "code",
      "source": [
        "@"
      ],
      "execution_count": 0,
      "outputs": []
    }
  ]
}