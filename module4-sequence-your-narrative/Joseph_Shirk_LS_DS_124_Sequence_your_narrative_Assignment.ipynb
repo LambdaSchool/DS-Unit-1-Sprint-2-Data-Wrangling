{
  "nbformat": 4,
  "nbformat_minor": 0,
  "metadata": {
    "colab": {
      "name": "Joseph_Shirk_LS_DS_124_Sequence_your_narrative_Assignment.ipynb",
      "provenance": [],
      "collapsed_sections": [],
      "include_colab_link": true
    },
    "kernelspec": {
      "display_name": "Python 3",
      "language": "python",
      "name": "python3"
    },
    "language_info": {
      "codemirror_mode": {
        "name": "ipython",
        "version": 3
      },
      "file_extension": ".py",
      "mimetype": "text/x-python",
      "name": "python",
      "nbconvert_exporter": "python",
      "pygments_lexer": "ipython3",
      "version": "3.7.1"
    }
  },
  "cells": [
    {
      "cell_type": "markdown",
      "metadata": {
        "id": "view-in-github",
        "colab_type": "text"
      },
      "source": [
        "<a href=\"https://colab.research.google.com/github/jbshirk/DS-Unit-1-Sprint-2-Data-Wrangling-and-Storytelling/blob/master/module4-sequence-your-narrative/Joseph_Shirk_LS_DS_124_Sequence_your_narrative_Assignment.ipynb\" target=\"_parent\"><img src=\"https://colab.research.google.com/assets/colab-badge.svg\" alt=\"Open In Colab\"/></a>"
      ]
    },
    {
      "cell_type": "markdown",
      "metadata": {
        "colab_type": "text",
        "id": "JbDHnhet8CWy"
      },
      "source": [
        "_Lambda School Data Science_\n",
        "\n",
        "## Save to:\n",
        "  module4-sequence-your-narrative/\n",
        "\n",
        "# Sequence Your Narrative - Assignment\n",
        "\n",
        "Today we will create a sequence of visualizations inspired by [Hans Rosling's 200 Countries, 200 Years, 4 Minutes](https://www.youtube.com/watch?v=jbkSRLYSojo).\n",
        "\n",
        "Using this [data from Gapminder](https://github.com/open-numbers/ddf--gapminder--systema_globalis/):\n",
        "- [Income Per Person (GDP Per Capital, Inflation Adjusted) by Geo & Time](https://raw.githubusercontent.com/open-numbers/ddf--gapminder--systema_globalis/master/ddf--datapoints--income_per_person_gdppercapita_ppp_inflation_adjusted--by--geo--time.csv)\n",
        "- [Life Expectancy (in Years) by Geo & Time](https://raw.githubusercontent.com/open-numbers/ddf--gapminder--systema_globalis/master/ddf--datapoints--life_expectancy_years--by--geo--time.csv)\n",
        "- [Population Totals, by Geo & Time](https://raw.githubusercontent.com/open-numbers/ddf--gapminder--systema_globalis/master/ddf--datapoints--population_total--by--geo--time.csv)\n",
        "- [Entities](https://raw.githubusercontent.com/open-numbers/ddf--gapminder--systema_globalis/master/ddf--entities--geo--country.csv)\n",
        "- [Concepts](https://raw.githubusercontent.com/open-numbers/ddf--gapminder--systema_globalis/master/ddf--concepts.csv)"
      ]
    },
    {
      "cell_type": "markdown",
      "metadata": {
        "colab_type": "text",
        "id": "zyPYtsY6HtIK"
      },
      "source": [
        "Objectives\n",
        "- sequence multiple visualizations\n",
        "- combine qualitative anecdotes with quantitative aggregates\n",
        "\n",
        "Links\n",
        "- [Hans Rosling’s TED talks](https://www.ted.com/speakers/hans_rosling)\n",
        "- [Spiralling global temperatures from 1850-2016](https://twitter.com/ed_hawkins/status/729753441459945474)\n",
        "- \"[The Pudding](https://pudding.cool/) explains ideas debated in culture with visual essays.\"\n",
        "- [A Data Point Walks Into a Bar](https://lisacharlotterost.github.io/2016/12/27/datapoint-in-bar/): a thoughtful blog post about emotion and empathy in data storytelling"
      ]
    },
    {
      "cell_type": "markdown",
      "metadata": {
        "colab_type": "text",
        "id": "_R1bj8aXzyVA"
      },
      "source": [
        "# ASSIGNMENT\n",
        " \n",
        "\n",
        "1.   Replicate the Lesson Code\n",
        "2.   Take it further by using the same gapminder dataset to create a sequence of visualizations that combined tell a story of your choosing.\n",
        "\n",
        "Get creative! Use text annotations to call out specific countries, maybe: change how the points are colored, change the opacity of the points, change their sized, pick a specific time window. Maybe only work with a subset of countries, change fonts, change background colors, etc. make it your own!"
      ]
    },
    {
      "cell_type": "markdown",
      "metadata": {
        "id": "RbkP0h-DWOZb",
        "colab_type": "text"
      },
      "source": [
        "## Plan\n",
        "\n",
        "Variables to visual encodings\n",
        "- x : Income (which should rightly be called Purchasing Power)\n",
        "- y: Lifespan (which should rightly be called Longevity)\n",
        "- color : Region category\n",
        "- dot size : Population\n",
        "- time slice for animated GIF, etc : Year\n",
        "- annotations : Country\n",
        "\n",
        "Qualitative\n",
        "- Editorial - I wiould like to add popup annotations / alt-text for 'Regime' : Stalin, Mao, Roosevelt, Churchill, etc\n",
        "\n",
        "Columns\n",
        "\n",
        "Year | Country | Region | PurchPower | Longevity | Population"
      ]
    },
    {
      "cell_type": "code",
      "metadata": {
        "id": "gBE_yQRk3pYZ",
        "colab_type": "code",
        "colab": {
          "base_uri": "https://localhost:8080/",
          "height": 35
        },
        "outputId": "ac296673-3506-4e88-e95f-238768d8a3ab"
      },
      "source": [
        "# check seaborn version\n",
        "import seaborn as sns\n",
        "sns.__version__"
      ],
      "execution_count": 1,
      "outputs": [
        {
          "output_type": "execute_result",
          "data": {
            "text/plain": [
              "'0.9.0'"
            ]
          },
          "metadata": {
            "tags": []
          },
          "execution_count": 1
        }
      ]
    },
    {
      "cell_type": "code",
      "metadata": {
        "id": "WVpLiJOgYA7H",
        "colab_type": "code",
        "colab": {}
      },
      "source": [
        "%matplotlib inline\n",
        "import matplotlib.pyplot as plt\n",
        "import numpy as np\n",
        "import pandas as pd"
      ],
      "execution_count": 0,
      "outputs": []
    },
    {
      "cell_type": "code",
      "metadata": {
        "id": "R_Gw4q-xYO8a",
        "colab_type": "code",
        "colab": {}
      },
      "source": [
        "income = pd.read_csv('https://raw.githubusercontent.com/open-numbers/ddf--gapminder--systema_globalis/master/ddf--datapoints--income_per_person_gdppercapita_ppp_inflation_adjusted--by--geo--time.csv')"
      ],
      "execution_count": 0,
      "outputs": []
    },
    {
      "cell_type": "code",
      "metadata": {
        "id": "u7sH_MEbYRlH",
        "colab_type": "code",
        "colab": {}
      },
      "source": [
        "population = pd.read_csv('https://raw.githubusercontent.com/open-numbers/ddf--gapminder--systema_globalis/master/ddf--datapoints--population_total--by--geo--time.csv')"
      ],
      "execution_count": 0,
      "outputs": []
    },
    {
      "cell_type": "code",
      "metadata": {
        "id": "L-XCGBSVY_VK",
        "colab_type": "code",
        "colab": {}
      },
      "source": [
        "lifespan = pd.read_csv('https://raw.githubusercontent.com/open-numbers/ddf--gapminder--systema_globalis/master/ddf--datapoints--life_expectancy_years--by--geo--time.csv')"
      ],
      "execution_count": 0,
      "outputs": []
    },
    {
      "cell_type": "code",
      "metadata": {
        "id": "JknYZpk1Yh_h",
        "colab_type": "code",
        "colab": {}
      },
      "source": [
        "# names of countries and regions\n",
        "entities = pd.read_csv('https://raw.githubusercontent.com/open-numbers/ddf--gapminder--systema_globalis/master/ddf--entities--geo--country.csv')"
      ],
      "execution_count": 0,
      "outputs": []
    },
    {
      "cell_type": "code",
      "metadata": {
        "id": "jMMzB-xEYlfl",
        "colab_type": "code",
        "colab": {}
      },
      "source": [
        "concepts = pd.read_csv('https://raw.githubusercontent.com/open-numbers/ddf--gapminder--systema_globalis/master/ddf--concepts.csv')"
      ],
      "execution_count": 0,
      "outputs": []
    },
    {
      "cell_type": "code",
      "metadata": {
        "id": "lCknG5_pYyMn",
        "colab_type": "code",
        "colab": {
          "base_uri": "https://localhost:8080/",
          "height": 35
        },
        "outputId": "c6be6bee-2dfc-4b22-a2e4-210dcd8ddf80"
      },
      "source": [
        "income.shape, lifespan.shape, population.shape, entities.shape, concepts.shape"
      ],
      "execution_count": 10,
      "outputs": [
        {
          "output_type": "execute_result",
          "data": {
            "text/plain": [
              "((46513, 3), (44370, 3), (59297, 3), (273, 33), (590, 16))"
            ]
          },
          "metadata": {
            "tags": []
          },
          "execution_count": 10
        }
      ]
    },
    {
      "cell_type": "markdown",
      "metadata": {
        "id": "HC5dc742ZHkh",
        "colab_type": "text"
      },
      "source": [
        "There are less than about 44,000 intersections for merge\n"
      ]
    },
    {
      "cell_type": "code",
      "metadata": {
        "id": "Gmkpu3VSZZdO",
        "colab_type": "code",
        "colab": {
          "base_uri": "https://localhost:8080/",
          "height": 206
        },
        "outputId": "bc7fbf80-e33b-4e81-abc2-c2de0315dd28"
      },
      "source": [
        "# pppp = purchasing power per person\n",
        "income.rename(columns={'income_per_person_gdppercapita_ppp_inflation_adjusted' : 'pppp'}, inplace=True)\n",
        "income.head()"
      ],
      "execution_count": 13,
      "outputs": [
        {
          "output_type": "execute_result",
          "data": {
            "text/html": [
              "<div>\n",
              "<style scoped>\n",
              "    .dataframe tbody tr th:only-of-type {\n",
              "        vertical-align: middle;\n",
              "    }\n",
              "\n",
              "    .dataframe tbody tr th {\n",
              "        vertical-align: top;\n",
              "    }\n",
              "\n",
              "    .dataframe thead th {\n",
              "        text-align: right;\n",
              "    }\n",
              "</style>\n",
              "<table border=\"1\" class=\"dataframe\">\n",
              "  <thead>\n",
              "    <tr style=\"text-align: right;\">\n",
              "      <th></th>\n",
              "      <th>geo</th>\n",
              "      <th>time</th>\n",
              "      <th>pppp</th>\n",
              "    </tr>\n",
              "  </thead>\n",
              "  <tbody>\n",
              "    <tr>\n",
              "      <th>0</th>\n",
              "      <td>afg</td>\n",
              "      <td>1800</td>\n",
              "      <td>603</td>\n",
              "    </tr>\n",
              "    <tr>\n",
              "      <th>1</th>\n",
              "      <td>afg</td>\n",
              "      <td>1801</td>\n",
              "      <td>603</td>\n",
              "    </tr>\n",
              "    <tr>\n",
              "      <th>2</th>\n",
              "      <td>afg</td>\n",
              "      <td>1802</td>\n",
              "      <td>603</td>\n",
              "    </tr>\n",
              "    <tr>\n",
              "      <th>3</th>\n",
              "      <td>afg</td>\n",
              "      <td>1803</td>\n",
              "      <td>603</td>\n",
              "    </tr>\n",
              "    <tr>\n",
              "      <th>4</th>\n",
              "      <td>afg</td>\n",
              "      <td>1804</td>\n",
              "      <td>603</td>\n",
              "    </tr>\n",
              "  </tbody>\n",
              "</table>\n",
              "</div>"
            ],
            "text/plain": [
              "   geo  time  pppp\n",
              "0  afg  1800   603\n",
              "1  afg  1801   603\n",
              "2  afg  1802   603\n",
              "3  afg  1803   603\n",
              "4  afg  1804   603"
            ]
          },
          "metadata": {
            "tags": []
          },
          "execution_count": 13
        }
      ]
    },
    {
      "cell_type": "code",
      "metadata": {
        "id": "sBV093tJbJVv",
        "colab_type": "code",
        "colab": {}
      },
      "source": [
        "income.sample(9)"
      ],
      "execution_count": 0,
      "outputs": []
    },
    {
      "cell_type": "code",
      "metadata": {
        "id": "t44docNobWTv",
        "colab_type": "code",
        "colab": {
          "base_uri": "https://localhost:8080/",
          "height": 206
        },
        "outputId": "b7c18f34-b6af-47cc-bdf5-dd1e8b74d5f5"
      },
      "source": [
        "lifespan.rename(columns={'life_expectancy_years' : 'longevity'}, inplace=True)\n",
        "lifespan.head()"
      ],
      "execution_count": 18,
      "outputs": [
        {
          "output_type": "execute_result",
          "data": {
            "text/html": [
              "<div>\n",
              "<style scoped>\n",
              "    .dataframe tbody tr th:only-of-type {\n",
              "        vertical-align: middle;\n",
              "    }\n",
              "\n",
              "    .dataframe tbody tr th {\n",
              "        vertical-align: top;\n",
              "    }\n",
              "\n",
              "    .dataframe thead th {\n",
              "        text-align: right;\n",
              "    }\n",
              "</style>\n",
              "<table border=\"1\" class=\"dataframe\">\n",
              "  <thead>\n",
              "    <tr style=\"text-align: right;\">\n",
              "      <th></th>\n",
              "      <th>geo</th>\n",
              "      <th>time</th>\n",
              "      <th>longevity</th>\n",
              "    </tr>\n",
              "  </thead>\n",
              "  <tbody>\n",
              "    <tr>\n",
              "      <th>0</th>\n",
              "      <td>abw</td>\n",
              "      <td>1800</td>\n",
              "      <td>34.42</td>\n",
              "    </tr>\n",
              "    <tr>\n",
              "      <th>1</th>\n",
              "      <td>abw</td>\n",
              "      <td>1801</td>\n",
              "      <td>34.42</td>\n",
              "    </tr>\n",
              "    <tr>\n",
              "      <th>2</th>\n",
              "      <td>abw</td>\n",
              "      <td>1802</td>\n",
              "      <td>34.42</td>\n",
              "    </tr>\n",
              "    <tr>\n",
              "      <th>3</th>\n",
              "      <td>abw</td>\n",
              "      <td>1803</td>\n",
              "      <td>34.42</td>\n",
              "    </tr>\n",
              "    <tr>\n",
              "      <th>4</th>\n",
              "      <td>abw</td>\n",
              "      <td>1804</td>\n",
              "      <td>34.42</td>\n",
              "    </tr>\n",
              "  </tbody>\n",
              "</table>\n",
              "</div>"
            ],
            "text/plain": [
              "   geo  time  longevity\n",
              "0  abw  1800      34.42\n",
              "1  abw  1801      34.42\n",
              "2  abw  1802      34.42\n",
              "3  abw  1803      34.42\n",
              "4  abw  1804      34.42"
            ]
          },
          "metadata": {
            "tags": []
          },
          "execution_count": 18
        }
      ]
    },
    {
      "cell_type": "code",
      "metadata": {
        "id": "i9q6Znbyb9i8",
        "colab_type": "code",
        "colab": {
          "base_uri": "https://localhost:8080/",
          "height": 206
        },
        "outputId": "3a3d243a-fcd2-483d-9930-d23d161972fb"
      },
      "source": [
        "population.rename(columns={'population_total' : 'pop'}, inplace=True)\n",
        "population.head()"
      ],
      "execution_count": 19,
      "outputs": [
        {
          "output_type": "execute_result",
          "data": {
            "text/html": [
              "<div>\n",
              "<style scoped>\n",
              "    .dataframe tbody tr th:only-of-type {\n",
              "        vertical-align: middle;\n",
              "    }\n",
              "\n",
              "    .dataframe tbody tr th {\n",
              "        vertical-align: top;\n",
              "    }\n",
              "\n",
              "    .dataframe thead th {\n",
              "        text-align: right;\n",
              "    }\n",
              "</style>\n",
              "<table border=\"1\" class=\"dataframe\">\n",
              "  <thead>\n",
              "    <tr style=\"text-align: right;\">\n",
              "      <th></th>\n",
              "      <th>geo</th>\n",
              "      <th>time</th>\n",
              "      <th>pop</th>\n",
              "    </tr>\n",
              "  </thead>\n",
              "  <tbody>\n",
              "    <tr>\n",
              "      <th>0</th>\n",
              "      <td>afg</td>\n",
              "      <td>1800</td>\n",
              "      <td>3280000</td>\n",
              "    </tr>\n",
              "    <tr>\n",
              "      <th>1</th>\n",
              "      <td>afg</td>\n",
              "      <td>1801</td>\n",
              "      <td>3280000</td>\n",
              "    </tr>\n",
              "    <tr>\n",
              "      <th>2</th>\n",
              "      <td>afg</td>\n",
              "      <td>1802</td>\n",
              "      <td>3280000</td>\n",
              "    </tr>\n",
              "    <tr>\n",
              "      <th>3</th>\n",
              "      <td>afg</td>\n",
              "      <td>1803</td>\n",
              "      <td>3280000</td>\n",
              "    </tr>\n",
              "    <tr>\n",
              "      <th>4</th>\n",
              "      <td>afg</td>\n",
              "      <td>1804</td>\n",
              "      <td>3280000</td>\n",
              "    </tr>\n",
              "  </tbody>\n",
              "</table>\n",
              "</div>"
            ],
            "text/plain": [
              "   geo  time      pop\n",
              "0  afg  1800  3280000\n",
              "1  afg  1801  3280000\n",
              "2  afg  1802  3280000\n",
              "3  afg  1803  3280000\n",
              "4  afg  1804  3280000"
            ]
          },
          "metadata": {
            "tags": []
          },
          "execution_count": 19
        }
      ]
    },
    {
      "cell_type": "code",
      "metadata": {
        "id": "1fifIl-0caxz",
        "colab_type": "code",
        "colab": {}
      },
      "source": [
        "entities.shape\n",
        "pd.options.display.max_columns = 33\n",
        "entities.rename(columns={'country':'geo', 'world_4region':'region4','world_6region':'region6'}, inplace=True)\n"
      ],
      "execution_count": 0,
      "outputs": []
    },
    {
      "cell_type": "code",
      "metadata": {
        "id": "6pjyQkSDfB39",
        "colab_type": "code",
        "colab": {}
      },
      "source": [
        "entities.drop(columns=[\n",
        "        'alt_5', \t'alternative_1', \t'alternative_2', \t'alternative_3', \t'alternative_4_cdiac',\n",
        "         \t'arb1', \t'arb2', \t'arb3', \t'arb4', \t'arb5', \t'arb6' \t], inplace=True)"
      ],
      "execution_count": 0,
      "outputs": []
    },
    {
      "cell_type": "code",
      "metadata": {
        "id": "uWL-EF65exHy",
        "colab_type": "code",
        "colab": {
          "base_uri": "https://localhost:8080/",
          "height": 244
        },
        "outputId": "a30da7e9-bfe8-4ab6-efae-4867e8d9f5f6"
      },
      "source": [
        "entities.head()"
      ],
      "execution_count": 28,
      "outputs": [
        {
          "output_type": "execute_result",
          "data": {
            "text/html": [
              "<div>\n",
              "<style scoped>\n",
              "    .dataframe tbody tr th:only-of-type {\n",
              "        vertical-align: middle;\n",
              "    }\n",
              "\n",
              "    .dataframe tbody tr th {\n",
              "        vertical-align: top;\n",
              "    }\n",
              "\n",
              "    .dataframe thead th {\n",
              "        text-align: right;\n",
              "    }\n",
              "</style>\n",
              "<table border=\"1\" class=\"dataframe\">\n",
              "  <thead>\n",
              "    <tr style=\"text-align: right;\">\n",
              "      <th></th>\n",
              "      <th>geo</th>\n",
              "      <th>g77_and_oecd_countries</th>\n",
              "      <th>gapminder_list</th>\n",
              "      <th>god_id</th>\n",
              "      <th>gwid</th>\n",
              "      <th>income_groups</th>\n",
              "      <th>is--country</th>\n",
              "      <th>iso3166_1_alpha2</th>\n",
              "      <th>iso3166_1_alpha3</th>\n",
              "      <th>iso3166_1_numeric</th>\n",
              "      <th>iso3166_2</th>\n",
              "      <th>landlocked</th>\n",
              "      <th>latitude</th>\n",
              "      <th>longitude</th>\n",
              "      <th>main_religion_2008</th>\n",
              "      <th>name</th>\n",
              "      <th>pandg</th>\n",
              "      <th>un_state</th>\n",
              "      <th>unicode_region_subtag</th>\n",
              "      <th>upper_case_name</th>\n",
              "      <th>region4</th>\n",
              "      <th>region6</th>\n",
              "    </tr>\n",
              "  </thead>\n",
              "  <tbody>\n",
              "    <tr>\n",
              "      <th>0</th>\n",
              "      <td>abkh</td>\n",
              "      <td>others</td>\n",
              "      <td>Abkhazia</td>\n",
              "      <td>GE-AB</td>\n",
              "      <td>i0</td>\n",
              "      <td>NaN</td>\n",
              "      <td>True</td>\n",
              "      <td>NaN</td>\n",
              "      <td>NaN</td>\n",
              "      <td>NaN</td>\n",
              "      <td>NaN</td>\n",
              "      <td>NaN</td>\n",
              "      <td>NaN</td>\n",
              "      <td>NaN</td>\n",
              "      <td>NaN</td>\n",
              "      <td>Abkhazia</td>\n",
              "      <td>NaN</td>\n",
              "      <td>False</td>\n",
              "      <td>NaN</td>\n",
              "      <td>NaN</td>\n",
              "      <td>europe</td>\n",
              "      <td>europe_central_asia</td>\n",
              "    </tr>\n",
              "    <tr>\n",
              "      <th>1</th>\n",
              "      <td>abw</td>\n",
              "      <td>others</td>\n",
              "      <td>Aruba</td>\n",
              "      <td>AW</td>\n",
              "      <td>i12</td>\n",
              "      <td>high_income</td>\n",
              "      <td>True</td>\n",
              "      <td>AW</td>\n",
              "      <td>ABW</td>\n",
              "      <td>533.0</td>\n",
              "      <td>NaN</td>\n",
              "      <td>coastline</td>\n",
              "      <td>12.50000</td>\n",
              "      <td>-69.96667</td>\n",
              "      <td>christian</td>\n",
              "      <td>Aruba</td>\n",
              "      <td>NaN</td>\n",
              "      <td>False</td>\n",
              "      <td>AW</td>\n",
              "      <td>ARUBA</td>\n",
              "      <td>americas</td>\n",
              "      <td>america</td>\n",
              "    </tr>\n",
              "    <tr>\n",
              "      <th>2</th>\n",
              "      <td>afg</td>\n",
              "      <td>g77</td>\n",
              "      <td>Afghanistan</td>\n",
              "      <td>AF</td>\n",
              "      <td>i1</td>\n",
              "      <td>low_income</td>\n",
              "      <td>True</td>\n",
              "      <td>AF</td>\n",
              "      <td>AFG</td>\n",
              "      <td>4.0</td>\n",
              "      <td>NaN</td>\n",
              "      <td>landlocked</td>\n",
              "      <td>33.00000</td>\n",
              "      <td>66.00000</td>\n",
              "      <td>muslim</td>\n",
              "      <td>Afghanistan</td>\n",
              "      <td>AFGHANISTAN</td>\n",
              "      <td>True</td>\n",
              "      <td>AF</td>\n",
              "      <td>AFGHANISTAN</td>\n",
              "      <td>asia</td>\n",
              "      <td>south_asia</td>\n",
              "    </tr>\n",
              "    <tr>\n",
              "      <th>3</th>\n",
              "      <td>ago</td>\n",
              "      <td>g77</td>\n",
              "      <td>Angola</td>\n",
              "      <td>AO</td>\n",
              "      <td>i7</td>\n",
              "      <td>upper_middle_income</td>\n",
              "      <td>True</td>\n",
              "      <td>AO</td>\n",
              "      <td>AGO</td>\n",
              "      <td>24.0</td>\n",
              "      <td>NaN</td>\n",
              "      <td>coastline</td>\n",
              "      <td>-12.50000</td>\n",
              "      <td>18.50000</td>\n",
              "      <td>christian</td>\n",
              "      <td>Angola</td>\n",
              "      <td>ANGOLA</td>\n",
              "      <td>True</td>\n",
              "      <td>AO</td>\n",
              "      <td>ANGOLA</td>\n",
              "      <td>africa</td>\n",
              "      <td>sub_saharan_africa</td>\n",
              "    </tr>\n",
              "    <tr>\n",
              "      <th>4</th>\n",
              "      <td>aia</td>\n",
              "      <td>others</td>\n",
              "      <td>Anguilla</td>\n",
              "      <td>AI</td>\n",
              "      <td>i8</td>\n",
              "      <td>NaN</td>\n",
              "      <td>True</td>\n",
              "      <td>AI</td>\n",
              "      <td>AIA</td>\n",
              "      <td>660.0</td>\n",
              "      <td>NaN</td>\n",
              "      <td>coastline</td>\n",
              "      <td>18.21667</td>\n",
              "      <td>-63.05000</td>\n",
              "      <td>christian</td>\n",
              "      <td>Anguilla</td>\n",
              "      <td>NaN</td>\n",
              "      <td>False</td>\n",
              "      <td>AI</td>\n",
              "      <td>ANGUILLA</td>\n",
              "      <td>americas</td>\n",
              "      <td>america</td>\n",
              "    </tr>\n",
              "  </tbody>\n",
              "</table>\n",
              "</div>"
            ],
            "text/plain": [
              "    geo g77_and_oecd_countries gapminder_list god_id gwid  \\\n",
              "0  abkh                 others       Abkhazia  GE-AB   i0   \n",
              "1   abw                 others          Aruba     AW  i12   \n",
              "2   afg                    g77    Afghanistan     AF   i1   \n",
              "3   ago                    g77         Angola     AO   i7   \n",
              "4   aia                 others       Anguilla     AI   i8   \n",
              "\n",
              "         income_groups  is--country iso3166_1_alpha2 iso3166_1_alpha3  \\\n",
              "0                  NaN         True              NaN              NaN   \n",
              "1          high_income         True               AW              ABW   \n",
              "2           low_income         True               AF              AFG   \n",
              "3  upper_middle_income         True               AO              AGO   \n",
              "4                  NaN         True               AI              AIA   \n",
              "\n",
              "   iso3166_1_numeric iso3166_2  landlocked  latitude  longitude  \\\n",
              "0                NaN       NaN         NaN       NaN        NaN   \n",
              "1              533.0       NaN   coastline  12.50000  -69.96667   \n",
              "2                4.0       NaN  landlocked  33.00000   66.00000   \n",
              "3               24.0       NaN   coastline -12.50000   18.50000   \n",
              "4              660.0       NaN   coastline  18.21667  -63.05000   \n",
              "\n",
              "  main_religion_2008         name        pandg  un_state  \\\n",
              "0                NaN     Abkhazia          NaN     False   \n",
              "1          christian        Aruba          NaN     False   \n",
              "2             muslim  Afghanistan  AFGHANISTAN      True   \n",
              "3          christian       Angola       ANGOLA      True   \n",
              "4          christian     Anguilla          NaN     False   \n",
              "\n",
              "  unicode_region_subtag upper_case_name   region4              region6  \n",
              "0                   NaN             NaN    europe  europe_central_asia  \n",
              "1                    AW           ARUBA  americas              america  \n",
              "2                    AF     AFGHANISTAN      asia           south_asia  \n",
              "3                    AO          ANGOLA    africa   sub_saharan_africa  \n",
              "4                    AI        ANGUILLA  americas              america  "
            ]
          },
          "metadata": {
            "tags": []
          },
          "execution_count": 28
        }
      ]
    },
    {
      "cell_type": "code",
      "metadata": {
        "id": "gBjkYdG3f2hl",
        "colab_type": "code",
        "colab": {}
      },
      "source": [
        "df = pd.merge(income,lifespan)"
      ],
      "execution_count": 0,
      "outputs": []
    },
    {
      "cell_type": "code",
      "metadata": {
        "id": "_IQ0vXERgct1",
        "colab_type": "code",
        "colab": {}
      },
      "source": [
        "df =pd.merge(df,population)"
      ],
      "execution_count": 0,
      "outputs": []
    },
    {
      "cell_type": "code",
      "metadata": {
        "id": "D2n9Y_FvgvQy",
        "colab_type": "code",
        "colab": {}
      },
      "source": [
        "df = pd.merge(df,entities)"
      ],
      "execution_count": 0,
      "outputs": []
    },
    {
      "cell_type": "code",
      "metadata": {
        "id": "UZcB2Y9EhC6I",
        "colab_type": "code",
        "colab": {}
      },
      "source": [
        "df.rename(columns={'time':'year','g77_and_oecd_countries':'g77oecd'},inplace=True)"
      ],
      "execution_count": 0,
      "outputs": []
    },
    {
      "cell_type": "code",
      "metadata": {
        "id": "NdaWcTEGgQz8",
        "colab_type": "code",
        "colab": {
          "base_uri": "https://localhost:8080/",
          "height": 244
        },
        "outputId": "0c5cde3b-4c6d-493f-e09b-06ce17cfc517"
      },
      "source": [
        "df.head()"
      ],
      "execution_count": 37,
      "outputs": [
        {
          "output_type": "execute_result",
          "data": {
            "text/html": [
              "<div>\n",
              "<style scoped>\n",
              "    .dataframe tbody tr th:only-of-type {\n",
              "        vertical-align: middle;\n",
              "    }\n",
              "\n",
              "    .dataframe tbody tr th {\n",
              "        vertical-align: top;\n",
              "    }\n",
              "\n",
              "    .dataframe thead th {\n",
              "        text-align: right;\n",
              "    }\n",
              "</style>\n",
              "<table border=\"1\" class=\"dataframe\">\n",
              "  <thead>\n",
              "    <tr style=\"text-align: right;\">\n",
              "      <th></th>\n",
              "      <th>geo</th>\n",
              "      <th>year</th>\n",
              "      <th>pppp</th>\n",
              "      <th>longevity</th>\n",
              "      <th>pop</th>\n",
              "      <th>g77oecd</th>\n",
              "      <th>gapminder_list</th>\n",
              "      <th>god_id</th>\n",
              "      <th>gwid</th>\n",
              "      <th>income_groups</th>\n",
              "      <th>is--country</th>\n",
              "      <th>iso3166_1_alpha2</th>\n",
              "      <th>iso3166_1_alpha3</th>\n",
              "      <th>iso3166_1_numeric</th>\n",
              "      <th>iso3166_2</th>\n",
              "      <th>landlocked</th>\n",
              "      <th>latitude</th>\n",
              "      <th>longitude</th>\n",
              "      <th>main_religion_2008</th>\n",
              "      <th>name</th>\n",
              "      <th>pandg</th>\n",
              "      <th>un_state</th>\n",
              "      <th>unicode_region_subtag</th>\n",
              "      <th>upper_case_name</th>\n",
              "      <th>region4</th>\n",
              "      <th>region6</th>\n",
              "    </tr>\n",
              "  </thead>\n",
              "  <tbody>\n",
              "    <tr>\n",
              "      <th>0</th>\n",
              "      <td>afg</td>\n",
              "      <td>1800</td>\n",
              "      <td>603</td>\n",
              "      <td>28.21</td>\n",
              "      <td>3280000</td>\n",
              "      <td>g77</td>\n",
              "      <td>Afghanistan</td>\n",
              "      <td>AF</td>\n",
              "      <td>i1</td>\n",
              "      <td>low_income</td>\n",
              "      <td>True</td>\n",
              "      <td>AF</td>\n",
              "      <td>AFG</td>\n",
              "      <td>4.0</td>\n",
              "      <td>NaN</td>\n",
              "      <td>landlocked</td>\n",
              "      <td>33.0</td>\n",
              "      <td>66.0</td>\n",
              "      <td>muslim</td>\n",
              "      <td>Afghanistan</td>\n",
              "      <td>AFGHANISTAN</td>\n",
              "      <td>True</td>\n",
              "      <td>AF</td>\n",
              "      <td>AFGHANISTAN</td>\n",
              "      <td>asia</td>\n",
              "      <td>south_asia</td>\n",
              "    </tr>\n",
              "    <tr>\n",
              "      <th>1</th>\n",
              "      <td>afg</td>\n",
              "      <td>1801</td>\n",
              "      <td>603</td>\n",
              "      <td>28.20</td>\n",
              "      <td>3280000</td>\n",
              "      <td>g77</td>\n",
              "      <td>Afghanistan</td>\n",
              "      <td>AF</td>\n",
              "      <td>i1</td>\n",
              "      <td>low_income</td>\n",
              "      <td>True</td>\n",
              "      <td>AF</td>\n",
              "      <td>AFG</td>\n",
              "      <td>4.0</td>\n",
              "      <td>NaN</td>\n",
              "      <td>landlocked</td>\n",
              "      <td>33.0</td>\n",
              "      <td>66.0</td>\n",
              "      <td>muslim</td>\n",
              "      <td>Afghanistan</td>\n",
              "      <td>AFGHANISTAN</td>\n",
              "      <td>True</td>\n",
              "      <td>AF</td>\n",
              "      <td>AFGHANISTAN</td>\n",
              "      <td>asia</td>\n",
              "      <td>south_asia</td>\n",
              "    </tr>\n",
              "    <tr>\n",
              "      <th>2</th>\n",
              "      <td>afg</td>\n",
              "      <td>1802</td>\n",
              "      <td>603</td>\n",
              "      <td>28.19</td>\n",
              "      <td>3280000</td>\n",
              "      <td>g77</td>\n",
              "      <td>Afghanistan</td>\n",
              "      <td>AF</td>\n",
              "      <td>i1</td>\n",
              "      <td>low_income</td>\n",
              "      <td>True</td>\n",
              "      <td>AF</td>\n",
              "      <td>AFG</td>\n",
              "      <td>4.0</td>\n",
              "      <td>NaN</td>\n",
              "      <td>landlocked</td>\n",
              "      <td>33.0</td>\n",
              "      <td>66.0</td>\n",
              "      <td>muslim</td>\n",
              "      <td>Afghanistan</td>\n",
              "      <td>AFGHANISTAN</td>\n",
              "      <td>True</td>\n",
              "      <td>AF</td>\n",
              "      <td>AFGHANISTAN</td>\n",
              "      <td>asia</td>\n",
              "      <td>south_asia</td>\n",
              "    </tr>\n",
              "    <tr>\n",
              "      <th>3</th>\n",
              "      <td>afg</td>\n",
              "      <td>1803</td>\n",
              "      <td>603</td>\n",
              "      <td>28.18</td>\n",
              "      <td>3280000</td>\n",
              "      <td>g77</td>\n",
              "      <td>Afghanistan</td>\n",
              "      <td>AF</td>\n",
              "      <td>i1</td>\n",
              "      <td>low_income</td>\n",
              "      <td>True</td>\n",
              "      <td>AF</td>\n",
              "      <td>AFG</td>\n",
              "      <td>4.0</td>\n",
              "      <td>NaN</td>\n",
              "      <td>landlocked</td>\n",
              "      <td>33.0</td>\n",
              "      <td>66.0</td>\n",
              "      <td>muslim</td>\n",
              "      <td>Afghanistan</td>\n",
              "      <td>AFGHANISTAN</td>\n",
              "      <td>True</td>\n",
              "      <td>AF</td>\n",
              "      <td>AFGHANISTAN</td>\n",
              "      <td>asia</td>\n",
              "      <td>south_asia</td>\n",
              "    </tr>\n",
              "    <tr>\n",
              "      <th>4</th>\n",
              "      <td>afg</td>\n",
              "      <td>1804</td>\n",
              "      <td>603</td>\n",
              "      <td>28.17</td>\n",
              "      <td>3280000</td>\n",
              "      <td>g77</td>\n",
              "      <td>Afghanistan</td>\n",
              "      <td>AF</td>\n",
              "      <td>i1</td>\n",
              "      <td>low_income</td>\n",
              "      <td>True</td>\n",
              "      <td>AF</td>\n",
              "      <td>AFG</td>\n",
              "      <td>4.0</td>\n",
              "      <td>NaN</td>\n",
              "      <td>landlocked</td>\n",
              "      <td>33.0</td>\n",
              "      <td>66.0</td>\n",
              "      <td>muslim</td>\n",
              "      <td>Afghanistan</td>\n",
              "      <td>AFGHANISTAN</td>\n",
              "      <td>True</td>\n",
              "      <td>AF</td>\n",
              "      <td>AFGHANISTAN</td>\n",
              "      <td>asia</td>\n",
              "      <td>south_asia</td>\n",
              "    </tr>\n",
              "  </tbody>\n",
              "</table>\n",
              "</div>"
            ],
            "text/plain": [
              "   geo  year  pppp  longevity      pop g77oecd gapminder_list god_id gwid  \\\n",
              "0  afg  1800   603      28.21  3280000     g77    Afghanistan     AF   i1   \n",
              "1  afg  1801   603      28.20  3280000     g77    Afghanistan     AF   i1   \n",
              "2  afg  1802   603      28.19  3280000     g77    Afghanistan     AF   i1   \n",
              "3  afg  1803   603      28.18  3280000     g77    Afghanistan     AF   i1   \n",
              "4  afg  1804   603      28.17  3280000     g77    Afghanistan     AF   i1   \n",
              "\n",
              "  income_groups  is--country iso3166_1_alpha2 iso3166_1_alpha3  \\\n",
              "0    low_income         True               AF              AFG   \n",
              "1    low_income         True               AF              AFG   \n",
              "2    low_income         True               AF              AFG   \n",
              "3    low_income         True               AF              AFG   \n",
              "4    low_income         True               AF              AFG   \n",
              "\n",
              "   iso3166_1_numeric iso3166_2  landlocked  latitude  longitude  \\\n",
              "0                4.0       NaN  landlocked      33.0       66.0   \n",
              "1                4.0       NaN  landlocked      33.0       66.0   \n",
              "2                4.0       NaN  landlocked      33.0       66.0   \n",
              "3                4.0       NaN  landlocked      33.0       66.0   \n",
              "4                4.0       NaN  landlocked      33.0       66.0   \n",
              "\n",
              "  main_religion_2008         name        pandg  un_state  \\\n",
              "0             muslim  Afghanistan  AFGHANISTAN      True   \n",
              "1             muslim  Afghanistan  AFGHANISTAN      True   \n",
              "2             muslim  Afghanistan  AFGHANISTAN      True   \n",
              "3             muslim  Afghanistan  AFGHANISTAN      True   \n",
              "4             muslim  Afghanistan  AFGHANISTAN      True   \n",
              "\n",
              "  unicode_region_subtag upper_case_name region4     region6  \n",
              "0                    AF     AFGHANISTAN    asia  south_asia  \n",
              "1                    AF     AFGHANISTAN    asia  south_asia  \n",
              "2                    AF     AFGHANISTAN    asia  south_asia  \n",
              "3                    AF     AFGHANISTAN    asia  south_asia  \n",
              "4                    AF     AFGHANISTAN    asia  south_asia  "
            ]
          },
          "metadata": {
            "tags": []
          },
          "execution_count": 37
        }
      ]
    },
    {
      "cell_type": "code",
      "metadata": {
        "id": "IaTrbHY_hX4T",
        "colab_type": "code",
        "colab": {
          "base_uri": "https://localhost:8080/",
          "height": 499
        },
        "outputId": "f0785a1a-9b0b-4c0c-9157-08ce25ac22d6"
      },
      "source": [
        "df.dtypes"
      ],
      "execution_count": 38,
      "outputs": [
        {
          "output_type": "execute_result",
          "data": {
            "text/plain": [
              "geo                       object\n",
              "year                       int64\n",
              "pppp                       int64\n",
              "longevity                float64\n",
              "pop                        int64\n",
              "g77oecd                   object\n",
              "gapminder_list            object\n",
              "god_id                    object\n",
              "gwid                      object\n",
              "income_groups             object\n",
              "is--country                 bool\n",
              "iso3166_1_alpha2          object\n",
              "iso3166_1_alpha3          object\n",
              "iso3166_1_numeric        float64\n",
              "iso3166_2                 object\n",
              "landlocked                object\n",
              "latitude                 float64\n",
              "longitude                float64\n",
              "main_religion_2008        object\n",
              "name                      object\n",
              "pandg                     object\n",
              "un_state                    bool\n",
              "unicode_region_subtag     object\n",
              "upper_case_name           object\n",
              "region4                   object\n",
              "region6                   object\n",
              "dtype: object"
            ]
          },
          "metadata": {
            "tags": []
          },
          "execution_count": 38
        }
      ]
    },
    {
      "cell_type": "code",
      "metadata": {
        "id": "rTqA7zTPhvti",
        "colab_type": "code",
        "colab": {
          "base_uri": "https://localhost:8080/",
          "height": 330
        },
        "outputId": "4306f863-4a1d-49ff-d66b-d94208b1029a"
      },
      "source": [
        "mask_usa = df['name'] == 'United States'\n",
        "usa = df[mask_usa]\n",
        "usa.head()"
      ],
      "execution_count": 40,
      "outputs": [
        {
          "output_type": "execute_result",
          "data": {
            "text/html": [
              "<div>\n",
              "<style scoped>\n",
              "    .dataframe tbody tr th:only-of-type {\n",
              "        vertical-align: middle;\n",
              "    }\n",
              "\n",
              "    .dataframe tbody tr th {\n",
              "        vertical-align: top;\n",
              "    }\n",
              "\n",
              "    .dataframe thead th {\n",
              "        text-align: right;\n",
              "    }\n",
              "</style>\n",
              "<table border=\"1\" class=\"dataframe\">\n",
              "  <thead>\n",
              "    <tr style=\"text-align: right;\">\n",
              "      <th></th>\n",
              "      <th>geo</th>\n",
              "      <th>year</th>\n",
              "      <th>pppp</th>\n",
              "      <th>longevity</th>\n",
              "      <th>pop</th>\n",
              "      <th>g77oecd</th>\n",
              "      <th>gapminder_list</th>\n",
              "      <th>god_id</th>\n",
              "      <th>gwid</th>\n",
              "      <th>income_groups</th>\n",
              "      <th>is--country</th>\n",
              "      <th>iso3166_1_alpha2</th>\n",
              "      <th>iso3166_1_alpha3</th>\n",
              "      <th>iso3166_1_numeric</th>\n",
              "      <th>iso3166_2</th>\n",
              "      <th>landlocked</th>\n",
              "      <th>latitude</th>\n",
              "      <th>longitude</th>\n",
              "      <th>main_religion_2008</th>\n",
              "      <th>name</th>\n",
              "      <th>pandg</th>\n",
              "      <th>un_state</th>\n",
              "      <th>unicode_region_subtag</th>\n",
              "      <th>upper_case_name</th>\n",
              "      <th>region4</th>\n",
              "      <th>region6</th>\n",
              "    </tr>\n",
              "  </thead>\n",
              "  <tbody>\n",
              "    <tr>\n",
              "      <th>38028</th>\n",
              "      <td>usa</td>\n",
              "      <td>1800</td>\n",
              "      <td>2127</td>\n",
              "      <td>39.41</td>\n",
              "      <td>6801854</td>\n",
              "      <td>oecd</td>\n",
              "      <td>United States</td>\n",
              "      <td>US</td>\n",
              "      <td>i240</td>\n",
              "      <td>high_income</td>\n",
              "      <td>True</td>\n",
              "      <td>US</td>\n",
              "      <td>USA</td>\n",
              "      <td>840.0</td>\n",
              "      <td>NaN</td>\n",
              "      <td>coastline</td>\n",
              "      <td>39.76</td>\n",
              "      <td>-98.5</td>\n",
              "      <td>christian</td>\n",
              "      <td>United States</td>\n",
              "      <td>UNITED STATES</td>\n",
              "      <td>True</td>\n",
              "      <td>US</td>\n",
              "      <td>UNITED STATES</td>\n",
              "      <td>americas</td>\n",
              "      <td>america</td>\n",
              "    </tr>\n",
              "    <tr>\n",
              "      <th>38029</th>\n",
              "      <td>usa</td>\n",
              "      <td>1801</td>\n",
              "      <td>2167</td>\n",
              "      <td>39.41</td>\n",
              "      <td>6933517</td>\n",
              "      <td>oecd</td>\n",
              "      <td>United States</td>\n",
              "      <td>US</td>\n",
              "      <td>i240</td>\n",
              "      <td>high_income</td>\n",
              "      <td>True</td>\n",
              "      <td>US</td>\n",
              "      <td>USA</td>\n",
              "      <td>840.0</td>\n",
              "      <td>NaN</td>\n",
              "      <td>coastline</td>\n",
              "      <td>39.76</td>\n",
              "      <td>-98.5</td>\n",
              "      <td>christian</td>\n",
              "      <td>United States</td>\n",
              "      <td>UNITED STATES</td>\n",
              "      <td>True</td>\n",
              "      <td>US</td>\n",
              "      <td>UNITED STATES</td>\n",
              "      <td>americas</td>\n",
              "      <td>america</td>\n",
              "    </tr>\n",
              "    <tr>\n",
              "      <th>38030</th>\n",
              "      <td>usa</td>\n",
              "      <td>1802</td>\n",
              "      <td>2202</td>\n",
              "      <td>39.41</td>\n",
              "      <td>7067728</td>\n",
              "      <td>oecd</td>\n",
              "      <td>United States</td>\n",
              "      <td>US</td>\n",
              "      <td>i240</td>\n",
              "      <td>high_income</td>\n",
              "      <td>True</td>\n",
              "      <td>US</td>\n",
              "      <td>USA</td>\n",
              "      <td>840.0</td>\n",
              "      <td>NaN</td>\n",
              "      <td>coastline</td>\n",
              "      <td>39.76</td>\n",
              "      <td>-98.5</td>\n",
              "      <td>christian</td>\n",
              "      <td>United States</td>\n",
              "      <td>UNITED STATES</td>\n",
              "      <td>True</td>\n",
              "      <td>US</td>\n",
              "      <td>UNITED STATES</td>\n",
              "      <td>americas</td>\n",
              "      <td>america</td>\n",
              "    </tr>\n",
              "    <tr>\n",
              "      <th>38031</th>\n",
              "      <td>usa</td>\n",
              "      <td>1803</td>\n",
              "      <td>2166</td>\n",
              "      <td>39.41</td>\n",
              "      <td>7204538</td>\n",
              "      <td>oecd</td>\n",
              "      <td>United States</td>\n",
              "      <td>US</td>\n",
              "      <td>i240</td>\n",
              "      <td>high_income</td>\n",
              "      <td>True</td>\n",
              "      <td>US</td>\n",
              "      <td>USA</td>\n",
              "      <td>840.0</td>\n",
              "      <td>NaN</td>\n",
              "      <td>coastline</td>\n",
              "      <td>39.76</td>\n",
              "      <td>-98.5</td>\n",
              "      <td>christian</td>\n",
              "      <td>United States</td>\n",
              "      <td>UNITED STATES</td>\n",
              "      <td>True</td>\n",
              "      <td>US</td>\n",
              "      <td>UNITED STATES</td>\n",
              "      <td>americas</td>\n",
              "      <td>america</td>\n",
              "    </tr>\n",
              "    <tr>\n",
              "      <th>38032</th>\n",
              "      <td>usa</td>\n",
              "      <td>1804</td>\n",
              "      <td>2165</td>\n",
              "      <td>39.41</td>\n",
              "      <td>7343995</td>\n",
              "      <td>oecd</td>\n",
              "      <td>United States</td>\n",
              "      <td>US</td>\n",
              "      <td>i240</td>\n",
              "      <td>high_income</td>\n",
              "      <td>True</td>\n",
              "      <td>US</td>\n",
              "      <td>USA</td>\n",
              "      <td>840.0</td>\n",
              "      <td>NaN</td>\n",
              "      <td>coastline</td>\n",
              "      <td>39.76</td>\n",
              "      <td>-98.5</td>\n",
              "      <td>christian</td>\n",
              "      <td>United States</td>\n",
              "      <td>UNITED STATES</td>\n",
              "      <td>True</td>\n",
              "      <td>US</td>\n",
              "      <td>UNITED STATES</td>\n",
              "      <td>americas</td>\n",
              "      <td>america</td>\n",
              "    </tr>\n",
              "  </tbody>\n",
              "</table>\n",
              "</div>"
            ],
            "text/plain": [
              "       geo  year  pppp  longevity      pop g77oecd gapminder_list god_id  \\\n",
              "38028  usa  1800  2127      39.41  6801854    oecd  United States     US   \n",
              "38029  usa  1801  2167      39.41  6933517    oecd  United States     US   \n",
              "38030  usa  1802  2202      39.41  7067728    oecd  United States     US   \n",
              "38031  usa  1803  2166      39.41  7204538    oecd  United States     US   \n",
              "38032  usa  1804  2165      39.41  7343995    oecd  United States     US   \n",
              "\n",
              "       gwid income_groups  is--country iso3166_1_alpha2 iso3166_1_alpha3  \\\n",
              "38028  i240   high_income         True               US              USA   \n",
              "38029  i240   high_income         True               US              USA   \n",
              "38030  i240   high_income         True               US              USA   \n",
              "38031  i240   high_income         True               US              USA   \n",
              "38032  i240   high_income         True               US              USA   \n",
              "\n",
              "       iso3166_1_numeric iso3166_2 landlocked  latitude  longitude  \\\n",
              "38028              840.0       NaN  coastline     39.76      -98.5   \n",
              "38029              840.0       NaN  coastline     39.76      -98.5   \n",
              "38030              840.0       NaN  coastline     39.76      -98.5   \n",
              "38031              840.0       NaN  coastline     39.76      -98.5   \n",
              "38032              840.0       NaN  coastline     39.76      -98.5   \n",
              "\n",
              "      main_religion_2008           name          pandg  un_state  \\\n",
              "38028          christian  United States  UNITED STATES      True   \n",
              "38029          christian  United States  UNITED STATES      True   \n",
              "38030          christian  United States  UNITED STATES      True   \n",
              "38031          christian  United States  UNITED STATES      True   \n",
              "38032          christian  United States  UNITED STATES      True   \n",
              "\n",
              "      unicode_region_subtag upper_case_name   region4  region6  \n",
              "38028                    US   UNITED STATES  americas  america  \n",
              "38029                    US   UNITED STATES  americas  america  \n",
              "38030                    US   UNITED STATES  americas  america  \n",
              "38031                    US   UNITED STATES  americas  america  \n",
              "38032                    US   UNITED STATES  americas  america  "
            ]
          },
          "metadata": {
            "tags": []
          },
          "execution_count": 40
        }
      ]
    },
    {
      "cell_type": "markdown",
      "metadata": {
        "id": "6__zN1lmibeE",
        "colab_type": "text"
      },
      "source": [
        "#Visualization"
      ]
    },
    {
      "cell_type": "code",
      "metadata": {
        "id": "XARXDMp5iZxv",
        "colab_type": "code",
        "colab": {}
      },
      "source": [
        "import seaborn as sns"
      ],
      "execution_count": 0,
      "outputs": []
    },
    {
      "cell_type": "code",
      "metadata": {
        "id": "uPdG8XMyikTn",
        "colab_type": "code",
        "colab": {
          "base_uri": "https://localhost:8080/",
          "height": 261
        },
        "outputId": "792e51a1-2a50-478a-8dd0-5ab544262fe8"
      },
      "source": [
        "now = df[df['year'] == 2018]\n",
        "now.head()"
      ],
      "execution_count": 45,
      "outputs": [
        {
          "output_type": "execute_result",
          "data": {
            "text/html": [
              "<div>\n",
              "<style scoped>\n",
              "    .dataframe tbody tr th:only-of-type {\n",
              "        vertical-align: middle;\n",
              "    }\n",
              "\n",
              "    .dataframe tbody tr th {\n",
              "        vertical-align: top;\n",
              "    }\n",
              "\n",
              "    .dataframe thead th {\n",
              "        text-align: right;\n",
              "    }\n",
              "</style>\n",
              "<table border=\"1\" class=\"dataframe\">\n",
              "  <thead>\n",
              "    <tr style=\"text-align: right;\">\n",
              "      <th></th>\n",
              "      <th>geo</th>\n",
              "      <th>year</th>\n",
              "      <th>pppp</th>\n",
              "      <th>longevity</th>\n",
              "      <th>pop</th>\n",
              "      <th>g77oecd</th>\n",
              "      <th>gapminder_list</th>\n",
              "      <th>god_id</th>\n",
              "      <th>gwid</th>\n",
              "      <th>income_groups</th>\n",
              "      <th>is--country</th>\n",
              "      <th>iso3166_1_alpha2</th>\n",
              "      <th>iso3166_1_alpha3</th>\n",
              "      <th>iso3166_1_numeric</th>\n",
              "      <th>iso3166_2</th>\n",
              "      <th>landlocked</th>\n",
              "      <th>latitude</th>\n",
              "      <th>longitude</th>\n",
              "      <th>main_religion_2008</th>\n",
              "      <th>name</th>\n",
              "      <th>pandg</th>\n",
              "      <th>un_state</th>\n",
              "      <th>unicode_region_subtag</th>\n",
              "      <th>upper_case_name</th>\n",
              "      <th>region4</th>\n",
              "      <th>region6</th>\n",
              "    </tr>\n",
              "  </thead>\n",
              "  <tbody>\n",
              "    <tr>\n",
              "      <th>218</th>\n",
              "      <td>afg</td>\n",
              "      <td>2018</td>\n",
              "      <td>1867</td>\n",
              "      <td>58.69</td>\n",
              "      <td>36373176</td>\n",
              "      <td>g77</td>\n",
              "      <td>Afghanistan</td>\n",
              "      <td>AF</td>\n",
              "      <td>i1</td>\n",
              "      <td>low_income</td>\n",
              "      <td>True</td>\n",
              "      <td>AF</td>\n",
              "      <td>AFG</td>\n",
              "      <td>4.0</td>\n",
              "      <td>NaN</td>\n",
              "      <td>landlocked</td>\n",
              "      <td>33.00</td>\n",
              "      <td>66.0</td>\n",
              "      <td>muslim</td>\n",
              "      <td>Afghanistan</td>\n",
              "      <td>AFGHANISTAN</td>\n",
              "      <td>True</td>\n",
              "      <td>AF</td>\n",
              "      <td>AFGHANISTAN</td>\n",
              "      <td>asia</td>\n",
              "      <td>south_asia</td>\n",
              "    </tr>\n",
              "    <tr>\n",
              "      <th>437</th>\n",
              "      <td>ago</td>\n",
              "      <td>2018</td>\n",
              "      <td>5846</td>\n",
              "      <td>65.19</td>\n",
              "      <td>30774205</td>\n",
              "      <td>g77</td>\n",
              "      <td>Angola</td>\n",
              "      <td>AO</td>\n",
              "      <td>i7</td>\n",
              "      <td>upper_middle_income</td>\n",
              "      <td>True</td>\n",
              "      <td>AO</td>\n",
              "      <td>AGO</td>\n",
              "      <td>24.0</td>\n",
              "      <td>NaN</td>\n",
              "      <td>coastline</td>\n",
              "      <td>-12.50</td>\n",
              "      <td>18.5</td>\n",
              "      <td>christian</td>\n",
              "      <td>Angola</td>\n",
              "      <td>ANGOLA</td>\n",
              "      <td>True</td>\n",
              "      <td>AO</td>\n",
              "      <td>ANGOLA</td>\n",
              "      <td>africa</td>\n",
              "      <td>sub_saharan_africa</td>\n",
              "    </tr>\n",
              "    <tr>\n",
              "      <th>656</th>\n",
              "      <td>alb</td>\n",
              "      <td>2018</td>\n",
              "      <td>12424</td>\n",
              "      <td>78.01</td>\n",
              "      <td>2934363</td>\n",
              "      <td>others</td>\n",
              "      <td>Albania</td>\n",
              "      <td>AL</td>\n",
              "      <td>i3</td>\n",
              "      <td>upper_middle_income</td>\n",
              "      <td>True</td>\n",
              "      <td>AL</td>\n",
              "      <td>ALB</td>\n",
              "      <td>8.0</td>\n",
              "      <td>NaN</td>\n",
              "      <td>coastline</td>\n",
              "      <td>41.00</td>\n",
              "      <td>20.0</td>\n",
              "      <td>muslim</td>\n",
              "      <td>Albania</td>\n",
              "      <td>ALBANIA</td>\n",
              "      <td>True</td>\n",
              "      <td>AL</td>\n",
              "      <td>ALBANIA</td>\n",
              "      <td>europe</td>\n",
              "      <td>europe_central_asia</td>\n",
              "    </tr>\n",
              "    <tr>\n",
              "      <th>922</th>\n",
              "      <td>are</td>\n",
              "      <td>2018</td>\n",
              "      <td>68231</td>\n",
              "      <td>76.89</td>\n",
              "      <td>9541615</td>\n",
              "      <td>g77</td>\n",
              "      <td>United Arab Emirates</td>\n",
              "      <td>AE</td>\n",
              "      <td>i238</td>\n",
              "      <td>high_income</td>\n",
              "      <td>True</td>\n",
              "      <td>AE</td>\n",
              "      <td>ARE</td>\n",
              "      <td>784.0</td>\n",
              "      <td>NaN</td>\n",
              "      <td>coastline</td>\n",
              "      <td>23.75</td>\n",
              "      <td>54.5</td>\n",
              "      <td>muslim</td>\n",
              "      <td>United Arab Emirates</td>\n",
              "      <td>UNITED ARAB EMIRATES</td>\n",
              "      <td>True</td>\n",
              "      <td>AE</td>\n",
              "      <td>UNITED ARAB EMIRATES</td>\n",
              "      <td>asia</td>\n",
              "      <td>middle_east_north_africa</td>\n",
              "    </tr>\n",
              "    <tr>\n",
              "      <th>1141</th>\n",
              "      <td>arg</td>\n",
              "      <td>2018</td>\n",
              "      <td>18942</td>\n",
              "      <td>76.97</td>\n",
              "      <td>44688864</td>\n",
              "      <td>g77</td>\n",
              "      <td>Argentina</td>\n",
              "      <td>AR</td>\n",
              "      <td>i10</td>\n",
              "      <td>upper_middle_income</td>\n",
              "      <td>True</td>\n",
              "      <td>AR</td>\n",
              "      <td>ARG</td>\n",
              "      <td>32.0</td>\n",
              "      <td>NaN</td>\n",
              "      <td>coastline</td>\n",
              "      <td>-34.00</td>\n",
              "      <td>-64.0</td>\n",
              "      <td>christian</td>\n",
              "      <td>Argentina</td>\n",
              "      <td>ARGENTINA</td>\n",
              "      <td>True</td>\n",
              "      <td>AR</td>\n",
              "      <td>ARGENTINA</td>\n",
              "      <td>americas</td>\n",
              "      <td>america</td>\n",
              "    </tr>\n",
              "  </tbody>\n",
              "</table>\n",
              "</div>"
            ],
            "text/plain": [
              "      geo  year   pppp  longevity       pop g77oecd        gapminder_list  \\\n",
              "218   afg  2018   1867      58.69  36373176     g77           Afghanistan   \n",
              "437   ago  2018   5846      65.19  30774205     g77                Angola   \n",
              "656   alb  2018  12424      78.01   2934363  others               Albania   \n",
              "922   are  2018  68231      76.89   9541615     g77  United Arab Emirates   \n",
              "1141  arg  2018  18942      76.97  44688864     g77             Argentina   \n",
              "\n",
              "     god_id  gwid        income_groups  is--country iso3166_1_alpha2  \\\n",
              "218      AF    i1           low_income         True               AF   \n",
              "437      AO    i7  upper_middle_income         True               AO   \n",
              "656      AL    i3  upper_middle_income         True               AL   \n",
              "922      AE  i238          high_income         True               AE   \n",
              "1141     AR   i10  upper_middle_income         True               AR   \n",
              "\n",
              "     iso3166_1_alpha3  iso3166_1_numeric iso3166_2  landlocked  latitude  \\\n",
              "218               AFG                4.0       NaN  landlocked     33.00   \n",
              "437               AGO               24.0       NaN   coastline    -12.50   \n",
              "656               ALB                8.0       NaN   coastline     41.00   \n",
              "922               ARE              784.0       NaN   coastline     23.75   \n",
              "1141              ARG               32.0       NaN   coastline    -34.00   \n",
              "\n",
              "      longitude main_religion_2008                  name  \\\n",
              "218        66.0             muslim           Afghanistan   \n",
              "437        18.5          christian                Angola   \n",
              "656        20.0             muslim               Albania   \n",
              "922        54.5             muslim  United Arab Emirates   \n",
              "1141      -64.0          christian             Argentina   \n",
              "\n",
              "                     pandg  un_state unicode_region_subtag  \\\n",
              "218            AFGHANISTAN      True                    AF   \n",
              "437                 ANGOLA      True                    AO   \n",
              "656                ALBANIA      True                    AL   \n",
              "922   UNITED ARAB EMIRATES      True                    AE   \n",
              "1141             ARGENTINA      True                    AR   \n",
              "\n",
              "           upper_case_name   region4                   region6  \n",
              "218            AFGHANISTAN      asia                south_asia  \n",
              "437                 ANGOLA    africa        sub_saharan_africa  \n",
              "656                ALBANIA    europe       europe_central_asia  \n",
              "922   UNITED ARAB EMIRATES      asia  middle_east_north_africa  \n",
              "1141             ARGENTINA  americas                   america  "
            ]
          },
          "metadata": {
            "tags": []
          },
          "execution_count": 45
        }
      ]
    },
    {
      "cell_type": "code",
      "metadata": {
        "id": "4uBF3TmpkKV2",
        "colab_type": "code",
        "colab": {
          "base_uri": "https://localhost:8080/",
          "height": 404
        },
        "outputId": "ffb6c97d-ebce-4dd6-c624-f1c9dde91604"
      },
      "source": [
        "sns.relplot(x='pppp', \n",
        "            y='longevity', \n",
        "            hue='region6',\n",
        "            size='pop',\n",
        "            sizes=(40, 400),\n",
        "            data=now);\n",
        "plt.xscale('log')\n",
        "#plt.ylim([30, 90])\n",
        "plt.title('The World in 2018')\n",
        "plt.xlabel(\"Purchasing Power\")\n",
        "plt.ylabel(\"Longevity\")\n",
        "#plt.legend(labels = \"Regions & Population Density\");"
      ],
      "execution_count": 55,
      "outputs": [
        {
          "output_type": "execute_result",
          "data": {
            "text/plain": [
              "Text(40.81656250000002, 0.5, 'Longevity')"
            ]
          },
          "metadata": {
            "tags": []
          },
          "execution_count": 55
        },
        {
          "output_type": "display_data",
          "data": {
            "image/png": "[encoded data removed]",
            "text/plain": [
              "<Figure size 521.75x360 with 1 Axes>"
            ]
          },
          "metadata": {
            "tags": []
          }
        }
      ]
    },
    {
      "cell_type": "markdown",
      "metadata": {
        "id": "FZCiAYzKn4Uh",
        "colab_type": "text"
      },
      "source": [
        "## Create a sequence of visualizations \n",
        "that combined tell a story of your choosing."
      ]
    },
    {
      "cell_type": "code",
      "metadata": {
        "id": "bxKCkgVvpF3B",
        "colab_type": "code",
        "colab": {}
      },
      "source": [
        "df2 = pd.merge(income,lifespan)\n",
        "df2 =pd.merge(df2,population)\n",
        "df2 = pd.merge(df2,entities)\n",
        "df2.rename(columns={'time':'year','g77_and_oecd_countries':'g77oecd'},inplace=True)"
      ],
      "execution_count": 0,
      "outputs": []
    },
    {
      "cell_type": "code",
      "metadata": {
        "id": "biTHGCFaqKFH",
        "colab_type": "code",
        "colab": {}
      },
      "source": [
        "pd.set_option('display.max_row', 500)\n",
        "#df2[('name')].nunique\n",
        "#df2.name.unique\n",
        "entities.name.unique"
      ],
      "execution_count": 0,
      "outputs": []
    },
    {
      "cell_type": "code",
      "metadata": {
        "id": "lOsnDVaZog-e",
        "colab_type": "code",
        "colab": {}
      },
      "source": [
        "countrylist = ['United States','China','United Kingdom','Russia','USSR' 'Germany','France']\n",
        "mask_countries = df2['name'].isin(countrylist)"
      ],
      "execution_count": 0,
      "outputs": []
    },
    {
      "cell_type": "code",
      "metadata": {
        "id": "fy0u_US0s-B2",
        "colab_type": "code",
        "colab": {}
      },
      "source": [
        "years80 = np.arange(1900,1999,5)"
      ],
      "execution_count": 0,
      "outputs": []
    },
    {
      "cell_type": "code",
      "metadata": {
        "id": "oC5U8yMqtKot",
        "colab_type": "code",
        "colab": {}
      },
      "source": [
        "mask_years80 = df2['year'].isin(years80)"
      ],
      "execution_count": 0,
      "outputs": []
    },
    {
      "cell_type": "code",
      "metadata": {
        "id": "XUWJs1wisHk6",
        "colab_type": "code",
        "colab": {
          "base_uri": "https://localhost:8080/",
          "height": 402
        },
        "outputId": "29d1669c-d645-4c2d-93b1-e07d350a46a9"
      },
      "source": [
        "#df2[mask_countries,mask_years80]\n",
        "df2 = df2[mask_countries]\n",
        "df2 = df2[mask_years80]\n",
        "df2.tail()"
      ],
      "execution_count": 75,
      "outputs": [
        {
          "output_type": "stream",
          "text": [
            "/usr/local/lib/python3.6/dist-packages/ipykernel_launcher.py:1: UserWarning: Boolean Series key will be reindexed to match DataFrame index.\n",
            "  \"\"\"Entry point for launching an IPython kernel.\n",
            "/usr/local/lib/python3.6/dist-packages/ipykernel_launcher.py:2: UserWarning: Boolean Series key will be reindexed to match DataFrame index.\n",
            "  \n"
          ],
          "name": "stderr"
        },
        {
          "output_type": "execute_result",
          "data": {
            "text/html": [
              "<div>\n",
              "<style scoped>\n",
              "    .dataframe tbody tr th:only-of-type {\n",
              "        vertical-align: middle;\n",
              "    }\n",
              "\n",
              "    .dataframe tbody tr th {\n",
              "        vertical-align: top;\n",
              "    }\n",
              "\n",
              "    .dataframe thead th {\n",
              "        text-align: right;\n",
              "    }\n",
              "</style>\n",
              "<table border=\"1\" class=\"dataframe\">\n",
              "  <thead>\n",
              "    <tr style=\"text-align: right;\">\n",
              "      <th></th>\n",
              "      <th>geo</th>\n",
              "      <th>year</th>\n",
              "      <th>pppp</th>\n",
              "      <th>longevity</th>\n",
              "      <th>pop</th>\n",
              "      <th>g77oecd</th>\n",
              "      <th>gapminder_list</th>\n",
              "      <th>god_id</th>\n",
              "      <th>gwid</th>\n",
              "      <th>income_groups</th>\n",
              "      <th>is--country</th>\n",
              "      <th>iso3166_1_alpha2</th>\n",
              "      <th>iso3166_1_alpha3</th>\n",
              "      <th>iso3166_1_numeric</th>\n",
              "      <th>iso3166_2</th>\n",
              "      <th>landlocked</th>\n",
              "      <th>latitude</th>\n",
              "      <th>longitude</th>\n",
              "      <th>main_religion_2008</th>\n",
              "      <th>name</th>\n",
              "      <th>pandg</th>\n",
              "      <th>un_state</th>\n",
              "      <th>unicode_region_subtag</th>\n",
              "      <th>upper_case_name</th>\n",
              "      <th>region4</th>\n",
              "      <th>region6</th>\n",
              "    </tr>\n",
              "  </thead>\n",
              "  <tbody>\n",
              "    <tr>\n",
              "      <th>38203</th>\n",
              "      <td>usa</td>\n",
              "      <td>1975</td>\n",
              "      <td>25934</td>\n",
              "      <td>72.44</td>\n",
              "      <td>219205296</td>\n",
              "      <td>oecd</td>\n",
              "      <td>United States</td>\n",
              "      <td>US</td>\n",
              "      <td>i240</td>\n",
              "      <td>high_income</td>\n",
              "      <td>True</td>\n",
              "      <td>US</td>\n",
              "      <td>USA</td>\n",
              "      <td>840.0</td>\n",
              "      <td>NaN</td>\n",
              "      <td>coastline</td>\n",
              "      <td>39.76</td>\n",
              "      <td>-98.5</td>\n",
              "      <td>christian</td>\n",
              "      <td>United States</td>\n",
              "      <td>UNITED STATES</td>\n",
              "      <td>True</td>\n",
              "      <td>US</td>\n",
              "      <td>UNITED STATES</td>\n",
              "      <td>americas</td>\n",
              "      <td>america</td>\n",
              "    </tr>\n",
              "    <tr>\n",
              "      <th>38208</th>\n",
              "      <td>usa</td>\n",
              "      <td>1980</td>\n",
              "      <td>29619</td>\n",
              "      <td>73.91</td>\n",
              "      <td>229763052</td>\n",
              "      <td>oecd</td>\n",
              "      <td>United States</td>\n",
              "      <td>US</td>\n",
              "      <td>i240</td>\n",
              "      <td>high_income</td>\n",
              "      <td>True</td>\n",
              "      <td>US</td>\n",
              "      <td>USA</td>\n",
              "      <td>840.0</td>\n",
              "      <td>NaN</td>\n",
              "      <td>coastline</td>\n",
              "      <td>39.76</td>\n",
              "      <td>-98.5</td>\n",
              "      <td>christian</td>\n",
              "      <td>United States</td>\n",
              "      <td>UNITED STATES</td>\n",
              "      <td>True</td>\n",
              "      <td>US</td>\n",
              "      <td>UNITED STATES</td>\n",
              "      <td>americas</td>\n",
              "      <td>america</td>\n",
              "    </tr>\n",
              "    <tr>\n",
              "      <th>38213</th>\n",
              "      <td>usa</td>\n",
              "      <td>1985</td>\n",
              "      <td>33065</td>\n",
              "      <td>74.72</td>\n",
              "      <td>240824120</td>\n",
              "      <td>oecd</td>\n",
              "      <td>United States</td>\n",
              "      <td>US</td>\n",
              "      <td>i240</td>\n",
              "      <td>high_income</td>\n",
              "      <td>True</td>\n",
              "      <td>US</td>\n",
              "      <td>USA</td>\n",
              "      <td>840.0</td>\n",
              "      <td>NaN</td>\n",
              "      <td>coastline</td>\n",
              "      <td>39.76</td>\n",
              "      <td>-98.5</td>\n",
              "      <td>christian</td>\n",
              "      <td>United States</td>\n",
              "      <td>UNITED STATES</td>\n",
              "      <td>True</td>\n",
              "      <td>US</td>\n",
              "      <td>UNITED STATES</td>\n",
              "      <td>americas</td>\n",
              "      <td>america</td>\n",
              "    </tr>\n",
              "    <tr>\n",
              "      <th>38218</th>\n",
              "      <td>usa</td>\n",
              "      <td>1990</td>\n",
              "      <td>37062</td>\n",
              "      <td>75.40</td>\n",
              "      <td>252529950</td>\n",
              "      <td>oecd</td>\n",
              "      <td>United States</td>\n",
              "      <td>US</td>\n",
              "      <td>i240</td>\n",
              "      <td>high_income</td>\n",
              "      <td>True</td>\n",
              "      <td>US</td>\n",
              "      <td>USA</td>\n",
              "      <td>840.0</td>\n",
              "      <td>NaN</td>\n",
              "      <td>coastline</td>\n",
              "      <td>39.76</td>\n",
              "      <td>-98.5</td>\n",
              "      <td>christian</td>\n",
              "      <td>United States</td>\n",
              "      <td>UNITED STATES</td>\n",
              "      <td>True</td>\n",
              "      <td>US</td>\n",
              "      <td>UNITED STATES</td>\n",
              "      <td>americas</td>\n",
              "      <td>america</td>\n",
              "    </tr>\n",
              "    <tr>\n",
              "      <th>38223</th>\n",
              "      <td>usa</td>\n",
              "      <td>1995</td>\n",
              "      <td>39476</td>\n",
              "      <td>75.91</td>\n",
              "      <td>265658849</td>\n",
              "      <td>oecd</td>\n",
              "      <td>United States</td>\n",
              "      <td>US</td>\n",
              "      <td>i240</td>\n",
              "      <td>high_income</td>\n",
              "      <td>True</td>\n",
              "      <td>US</td>\n",
              "      <td>USA</td>\n",
              "      <td>840.0</td>\n",
              "      <td>NaN</td>\n",
              "      <td>coastline</td>\n",
              "      <td>39.76</td>\n",
              "      <td>-98.5</td>\n",
              "      <td>christian</td>\n",
              "      <td>United States</td>\n",
              "      <td>UNITED STATES</td>\n",
              "      <td>True</td>\n",
              "      <td>US</td>\n",
              "      <td>UNITED STATES</td>\n",
              "      <td>americas</td>\n",
              "      <td>america</td>\n",
              "    </tr>\n",
              "  </tbody>\n",
              "</table>\n",
              "</div>"
            ],
            "text/plain": [
              "       geo  year   pppp  longevity        pop g77oecd gapminder_list god_id  \\\n",
              "38203  usa  1975  25934      72.44  219205296    oecd  United States     US   \n",
              "38208  usa  1980  29619      73.91  229763052    oecd  United States     US   \n",
              "38213  usa  1985  33065      74.72  240824120    oecd  United States     US   \n",
              "38218  usa  1990  37062      75.40  252529950    oecd  United States     US   \n",
              "38223  usa  1995  39476      75.91  265658849    oecd  United States     US   \n",
              "\n",
              "       gwid income_groups  is--country iso3166_1_alpha2 iso3166_1_alpha3  \\\n",
              "38203  i240   high_income         True               US              USA   \n",
              "38208  i240   high_income         True               US              USA   \n",
              "38213  i240   high_income         True               US              USA   \n",
              "38218  i240   high_income         True               US              USA   \n",
              "38223  i240   high_income         True               US              USA   \n",
              "\n",
              "       iso3166_1_numeric iso3166_2 landlocked  latitude  longitude  \\\n",
              "38203              840.0       NaN  coastline     39.76      -98.5   \n",
              "38208              840.0       NaN  coastline     39.76      -98.5   \n",
              "38213              840.0       NaN  coastline     39.76      -98.5   \n",
              "38218              840.0       NaN  coastline     39.76      -98.5   \n",
              "38223              840.0       NaN  coastline     39.76      -98.5   \n",
              "\n",
              "      main_religion_2008           name          pandg  un_state  \\\n",
              "38203          christian  United States  UNITED STATES      True   \n",
              "38208          christian  United States  UNITED STATES      True   \n",
              "38213          christian  United States  UNITED STATES      True   \n",
              "38218          christian  United States  UNITED STATES      True   \n",
              "38223          christian  United States  UNITED STATES      True   \n",
              "\n",
              "      unicode_region_subtag upper_case_name   region4  region6  \n",
              "38203                    US   UNITED STATES  americas  america  \n",
              "38208                    US   UNITED STATES  americas  america  \n",
              "38213                    US   UNITED STATES  americas  america  \n",
              "38218                    US   UNITED STATES  americas  america  \n",
              "38223                    US   UNITED STATES  americas  america  "
            ]
          },
          "metadata": {
            "tags": []
          },
          "execution_count": 75
        }
      ]
    },
    {
      "cell_type": "code",
      "metadata": {
        "id": "044vLwa7uges",
        "colab_type": "code",
        "colab": {
          "base_uri": "https://localhost:8080/",
          "height": 313
        },
        "outputId": "7c6c614c-9be6-4717-acc0-1bfbe9700deb"
      },
      "source": [
        "#plot df2\n",
        "sns.lineplot(x='year', # this should be GDP, let's pretend it is\n",
        "            y='longevity', # pop size may be better\n",
        "            hue='name',\n",
        "            #size='pop',\n",
        "            #sizes=(40, 400),\n",
        "            data=df2);\n",
        "\n",
        "#plt.ylim([30, 90])\n",
        "plt.title('20th Century Conflict: War and Revolution')\n",
        "plt.xlabel(\"Year\")\n",
        "plt.ylabel(\"Longevity\")\n",
        "#plt.legend(labels = \"Regions & Population Density\");\n"
      ],
      "execution_count": 78,
      "outputs": [
        {
          "output_type": "execute_result",
          "data": {
            "text/plain": [
              "Text(0, 0.5, 'Longevity')"
            ]
          },
          "metadata": {
            "tags": []
          },
          "execution_count": 78
        },
        {
          "output_type": "display_data",
          "data": {
            "image/png": "[encoded data removed]",
            "text/plain": [
              "<Figure size 432x288 with 1 Axes>"
            ]
          },
          "metadata": {
            "tags": []
          }
        }
      ]
    },
    {
      "cell_type": "markdown",
      "metadata": {
        "id": "PKjJTQXI3qGI",
        "colab_type": "text"
      },
      "source": [
        "# STRETCH OPTIONS\n",
        "\n",
        "## 1. Animate!\n",
        "\n",
        "- [How to Create Animated Graphs in Python](https://towardsdatascience.com/how-to-create-animated-graphs-in-python-bb619cc2dec1)\n",
        "- Try using [Plotly](https://plot.ly/python/animations/)!\n",
        "- [The Ultimate Day of Chicago Bikeshare](https://chrisluedtke.github.io/divvy-data.html) (Lambda School Data Science student)\n",
        "- [Using Phoebe for animations in Google Colab](https://colab.research.google.com/github/phoebe-project/phoebe2-docs/blob/2.1/tutorials/animations.ipynb)\n",
        "\n",
        "## 2. Study for the Sprint Challenge\n",
        "\n",
        "- Concatenate DataFrames\n",
        "- Merge DataFrames\n",
        "- Reshape data with `pivot_table()` and `.melt()`\n",
        "- Be able to reproduce a FiveThirtyEight graph using Matplotlib or Seaborn.\n",
        "\n",
        "## 3. Work on anything related to your portfolio site / Data Storytelling Project"
      ]
    },
    {
      "cell_type": "code",
      "metadata": {
        "id": "7lLHHhW0z0vf",
        "colab_type": "code",
        "colab": {}
      },
      "source": [
        "# TODO"
      ],
      "execution_count": 0,
      "outputs": []
    }
  ]
}