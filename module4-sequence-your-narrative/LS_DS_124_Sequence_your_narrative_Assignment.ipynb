{
  "nbformat": 4,
  "nbformat_minor": 0,
  "metadata": {
    "colab": {
      "name": "LS_DS_124_Sequence_your_narrative_Assignment.ipynb",
      "version": "0.3.2",
      "provenance": [],
      "collapsed_sections": [],
      "include_colab_link": true
    },
    "kernelspec": {
      "display_name": "Python 3",
      "language": "python",
      "name": "python3"
    },
    "language_info": {
      "codemirror_mode": {
        "name": "ipython",
        "version": 3
      },
      "file_extension": ".py",
      "mimetype": "text/x-python",
      "name": "python",
      "nbconvert_exporter": "python",
      "pygments_lexer": "ipython3",
      "version": "3.7.1"
    }
  },
  "cells": [
    {
      "cell_type": "markdown",
      "metadata": {
        "id": "view-in-github",
        "colab_type": "text"
      },
      "source": [
        "<a href=\"https://colab.research.google.com/github/HakujouRyu/DS-Unit-1-Sprint-2-Data-Wrangling-and-Storytelling/blob/master/module4-sequence-your-narrative/LS_DS_124_Sequence_your_narrative_Assignment.ipynb\" target=\"_parent\"><img src=\"https://colab.research.google.com/assets/colab-badge.svg\" alt=\"Open In Colab\"/></a>"
      ]
    },
    {
      "cell_type": "markdown",
      "metadata": {
        "colab_type": "text",
        "id": "JbDHnhet8CWy"
      },
      "source": [
        "_Lambda School Data Science_\n",
        "\n",
        "# Sequence Your Narrative - Assignment\n",
        "\n",
        "Today we will create a sequence of visualizations inspired by [Hans Rosling's 200 Countries, 200 Years, 4 Minutes](https://www.youtube.com/watch?v=jbkSRLYSojo).\n",
        "\n",
        "Using this [data from Gapminder](https://github.com/open-numbers/ddf--gapminder--systema_globalis/):\n",
        "- [Income Per Person (GDP Per Capital, Inflation Adjusted) by Geo & Time](https://raw.githubusercontent.com/open-numbers/ddf--gapminder--systema_globalis/master/ddf--datapoints--income_per_person_gdppercapita_ppp_inflation_adjusted--by--geo--time.csv)\n",
        "- [Life Expectancy (in Years) by Geo & Time](https://raw.githubusercontent.com/open-numbers/ddf--gapminder--systema_globalis/master/ddf--datapoints--life_expectancy_years--by--geo--time.csv)\n",
        "- [Population Totals, by Geo & Time](https://raw.githubusercontent.com/open-numbers/ddf--gapminder--systema_globalis/master/ddf--datapoints--population_total--by--geo--time.csv)\n",
        "- [Entities](https://raw.githubusercontent.com/open-numbers/ddf--gapminder--systema_globalis/master/ddf--entities--geo--country.csv)\n",
        "- [Concepts](https://raw.githubusercontent.com/open-numbers/ddf--gapminder--systema_globalis/master/ddf--concepts.csv)"
      ]
    },
    {
      "cell_type": "markdown",
      "metadata": {
        "colab_type": "text",
        "id": "zyPYtsY6HtIK"
      },
      "source": [
        "Objectives\n",
        "- sequence multiple visualizations\n",
        "- combine qualitative anecdotes with quantitative aggregates\n",
        "\n",
        "Links\n",
        "- [Hans Rosling’s TED talks](https://www.ted.com/speakers/hans_rosling)\n",
        "- [Spiralling global temperatures from 1850-2016](https://twitter.com/ed_hawkins/status/729753441459945474)\n",
        "- \"[The Pudding](https://pudding.cool/) explains ideas debated in culture with visual essays.\"\n",
        "- [A Data Point Walks Into a Bar](https://lisacharlotterost.github.io/2016/12/27/datapoint-in-bar/): a thoughtful blog post about emotion and empathy in data storytelling"
      ]
    },
    {
      "cell_type": "markdown",
      "metadata": {
        "colab_type": "text",
        "id": "_R1bj8aXzyVA"
      },
      "source": [
        "# ASSIGNMENT\n",
        " \n",
        "\n",
        "1.   Replicate the Lesson Code\n",
        "2.   Take it further by using the same gapminder dataset to create a sequence of visualizations that combined tell a story of your choosing.\n",
        "\n",
        "Get creative! Use text annotations to call out specific countries, maybe: change how the points are colored, change the opacity of the points, change their sized, pick a specific time window. Maybe only work with a subset of countries, change fonts, change background colors, etc. make it your own!"
      ]
    },
    {
      "cell_type": "markdown",
      "metadata": {
        "id": "aXQTlZ5x9WCe",
        "colab_type": "text"
      },
      "source": [
        "## Part one\n",
        "#### Replicate\n"
      ]
    },
    {
      "cell_type": "code",
      "metadata": {
        "id": "l5IOCMF3-IQG",
        "colab_type": "code",
        "colab": {
          "base_uri": "https://localhost:8080/",
          "height": 204
        },
        "outputId": "8a6f3e3f-a807-4151-b0c4-85acd8ab8c76"
      },
      "source": [
        "#Merge data\n",
        "merged = pd.merge(income,lifespan)\n",
        "merged.head()"
      ],
      "execution_count": 16,
      "outputs": [
        {
          "output_type": "execute_result",
          "data": {
            "text/html": [
              "<div>\n",
              "<style scoped>\n",
              "    .dataframe tbody tr th:only-of-type {\n",
              "        vertical-align: middle;\n",
              "    }\n",
              "\n",
              "    .dataframe tbody tr th {\n",
              "        vertical-align: top;\n",
              "    }\n",
              "\n",
              "    .dataframe thead th {\n",
              "        text-align: right;\n",
              "    }\n",
              "</style>\n",
              "<table border=\"1\" class=\"dataframe\">\n",
              "  <thead>\n",
              "    <tr style=\"text-align: right;\">\n",
              "      <th></th>\n",
              "      <th>geo</th>\n",
              "      <th>time</th>\n",
              "      <th>income_per_person_gdppercapita_ppp_inflation_adjusted</th>\n",
              "      <th>life_expectancy_years</th>\n",
              "    </tr>\n",
              "  </thead>\n",
              "  <tbody>\n",
              "    <tr>\n",
              "      <th>0</th>\n",
              "      <td>afg</td>\n",
              "      <td>1800</td>\n",
              "      <td>603</td>\n",
              "      <td>28.21</td>\n",
              "    </tr>\n",
              "    <tr>\n",
              "      <th>1</th>\n",
              "      <td>afg</td>\n",
              "      <td>1801</td>\n",
              "      <td>603</td>\n",
              "      <td>28.20</td>\n",
              "    </tr>\n",
              "    <tr>\n",
              "      <th>2</th>\n",
              "      <td>afg</td>\n",
              "      <td>1802</td>\n",
              "      <td>603</td>\n",
              "      <td>28.19</td>\n",
              "    </tr>\n",
              "    <tr>\n",
              "      <th>3</th>\n",
              "      <td>afg</td>\n",
              "      <td>1803</td>\n",
              "      <td>603</td>\n",
              "      <td>28.18</td>\n",
              "    </tr>\n",
              "    <tr>\n",
              "      <th>4</th>\n",
              "      <td>afg</td>\n",
              "      <td>1804</td>\n",
              "      <td>603</td>\n",
              "      <td>28.17</td>\n",
              "    </tr>\n",
              "  </tbody>\n",
              "</table>\n",
              "</div>"
            ],
            "text/plain": [
              "   geo  ...  life_expectancy_years\n",
              "0  afg  ...                  28.21\n",
              "1  afg  ...                  28.20\n",
              "2  afg  ...                  28.19\n",
              "3  afg  ...                  28.18\n",
              "4  afg  ...                  28.17\n",
              "\n",
              "[5 rows x 4 columns]"
            ]
          },
          "metadata": {
            "tags": []
          },
          "execution_count": 16
        }
      ]
    },
    {
      "cell_type": "code",
      "metadata": {
        "id": "ariJMmdS-8Ey",
        "colab_type": "code",
        "colab": {
          "base_uri": "https://localhost:8080/",
          "height": 51
        },
        "outputId": "21fd7d47-0149-472b-d5a8-593cf6b93d6a"
      },
      "source": [
        "merged.duplicated(subset=['geo','time']).value_counts()"
      ],
      "execution_count": 17,
      "outputs": [
        {
          "output_type": "execute_result",
          "data": {
            "text/plain": [
              "False    40437\n",
              "dtype: int64"
            ]
          },
          "metadata": {
            "tags": []
          },
          "execution_count": 17
        }
      ]
    },
    {
      "cell_type": "code",
      "metadata": {
        "id": "e6dkfXeX_X-b",
        "colab_type": "code",
        "colab": {}
      },
      "source": [
        "df = pd.merge(merged, population)"
      ],
      "execution_count": 0,
      "outputs": []
    },
    {
      "cell_type": "code",
      "metadata": {
        "id": "c0p0LMHe_chg",
        "colab_type": "code",
        "colab": {
          "base_uri": "https://localhost:8080/",
          "height": 204
        },
        "outputId": "53fec21c-e6f2-444d-93e6-a061a061a6e5"
      },
      "source": [
        "df.head()"
      ],
      "execution_count": 19,
      "outputs": [
        {
          "output_type": "execute_result",
          "data": {
            "text/html": [
              "<div>\n",
              "<style scoped>\n",
              "    .dataframe tbody tr th:only-of-type {\n",
              "        vertical-align: middle;\n",
              "    }\n",
              "\n",
              "    .dataframe tbody tr th {\n",
              "        vertical-align: top;\n",
              "    }\n",
              "\n",
              "    .dataframe thead th {\n",
              "        text-align: right;\n",
              "    }\n",
              "</style>\n",
              "<table border=\"1\" class=\"dataframe\">\n",
              "  <thead>\n",
              "    <tr style=\"text-align: right;\">\n",
              "      <th></th>\n",
              "      <th>geo</th>\n",
              "      <th>time</th>\n",
              "      <th>income_per_person_gdppercapita_ppp_inflation_adjusted</th>\n",
              "      <th>life_expectancy_years</th>\n",
              "      <th>population_total</th>\n",
              "    </tr>\n",
              "  </thead>\n",
              "  <tbody>\n",
              "    <tr>\n",
              "      <th>0</th>\n",
              "      <td>afg</td>\n",
              "      <td>1800</td>\n",
              "      <td>603</td>\n",
              "      <td>28.21</td>\n",
              "      <td>3280000</td>\n",
              "    </tr>\n",
              "    <tr>\n",
              "      <th>1</th>\n",
              "      <td>afg</td>\n",
              "      <td>1801</td>\n",
              "      <td>603</td>\n",
              "      <td>28.20</td>\n",
              "      <td>3280000</td>\n",
              "    </tr>\n",
              "    <tr>\n",
              "      <th>2</th>\n",
              "      <td>afg</td>\n",
              "      <td>1802</td>\n",
              "      <td>603</td>\n",
              "      <td>28.19</td>\n",
              "      <td>3280000</td>\n",
              "    </tr>\n",
              "    <tr>\n",
              "      <th>3</th>\n",
              "      <td>afg</td>\n",
              "      <td>1803</td>\n",
              "      <td>603</td>\n",
              "      <td>28.18</td>\n",
              "      <td>3280000</td>\n",
              "    </tr>\n",
              "    <tr>\n",
              "      <th>4</th>\n",
              "      <td>afg</td>\n",
              "      <td>1804</td>\n",
              "      <td>603</td>\n",
              "      <td>28.17</td>\n",
              "      <td>3280000</td>\n",
              "    </tr>\n",
              "  </tbody>\n",
              "</table>\n",
              "</div>"
            ],
            "text/plain": [
              "   geo  time  ...  life_expectancy_years  population_total\n",
              "0  afg  1800  ...                  28.21           3280000\n",
              "1  afg  1801  ...                  28.20           3280000\n",
              "2  afg  1802  ...                  28.19           3280000\n",
              "3  afg  1803  ...                  28.18           3280000\n",
              "4  afg  1804  ...                  28.17           3280000\n",
              "\n",
              "[5 rows x 5 columns]"
            ]
          },
          "metadata": {
            "tags": []
          },
          "execution_count": 19
        }
      ]
    },
    {
      "cell_type": "code",
      "metadata": {
        "id": "Sjn4iBot_d-7",
        "colab_type": "code",
        "colab": {
          "base_uri": "https://localhost:8080/",
          "height": 204
        },
        "outputId": "719644f0-b1e7-47bb-c1a3-2bbd26e70b5b"
      },
      "source": [
        "#Drop the columns we don't need from entities when we merge\n",
        "df = pd.merge(df, \n",
        "              entities[['country', 'name', 'world_4region', 'world_6region']], \n",
        "              left_on='geo', right_on='country')\n",
        "df.head()"
      ],
      "execution_count": 20,
      "outputs": [
        {
          "output_type": "execute_result",
          "data": {
            "text/html": [
              "<div>\n",
              "<style scoped>\n",
              "    .dataframe tbody tr th:only-of-type {\n",
              "        vertical-align: middle;\n",
              "    }\n",
              "\n",
              "    .dataframe tbody tr th {\n",
              "        vertical-align: top;\n",
              "    }\n",
              "\n",
              "    .dataframe thead th {\n",
              "        text-align: right;\n",
              "    }\n",
              "</style>\n",
              "<table border=\"1\" class=\"dataframe\">\n",
              "  <thead>\n",
              "    <tr style=\"text-align: right;\">\n",
              "      <th></th>\n",
              "      <th>geo</th>\n",
              "      <th>time</th>\n",
              "      <th>income_per_person_gdppercapita_ppp_inflation_adjusted</th>\n",
              "      <th>life_expectancy_years</th>\n",
              "      <th>population_total</th>\n",
              "      <th>country</th>\n",
              "      <th>name</th>\n",
              "      <th>world_4region</th>\n",
              "      <th>world_6region</th>\n",
              "    </tr>\n",
              "  </thead>\n",
              "  <tbody>\n",
              "    <tr>\n",
              "      <th>0</th>\n",
              "      <td>afg</td>\n",
              "      <td>1800</td>\n",
              "      <td>603</td>\n",
              "      <td>28.21</td>\n",
              "      <td>3280000</td>\n",
              "      <td>afg</td>\n",
              "      <td>Afghanistan</td>\n",
              "      <td>asia</td>\n",
              "      <td>south_asia</td>\n",
              "    </tr>\n",
              "    <tr>\n",
              "      <th>1</th>\n",
              "      <td>afg</td>\n",
              "      <td>1801</td>\n",
              "      <td>603</td>\n",
              "      <td>28.20</td>\n",
              "      <td>3280000</td>\n",
              "      <td>afg</td>\n",
              "      <td>Afghanistan</td>\n",
              "      <td>asia</td>\n",
              "      <td>south_asia</td>\n",
              "    </tr>\n",
              "    <tr>\n",
              "      <th>2</th>\n",
              "      <td>afg</td>\n",
              "      <td>1802</td>\n",
              "      <td>603</td>\n",
              "      <td>28.19</td>\n",
              "      <td>3280000</td>\n",
              "      <td>afg</td>\n",
              "      <td>Afghanistan</td>\n",
              "      <td>asia</td>\n",
              "      <td>south_asia</td>\n",
              "    </tr>\n",
              "    <tr>\n",
              "      <th>3</th>\n",
              "      <td>afg</td>\n",
              "      <td>1803</td>\n",
              "      <td>603</td>\n",
              "      <td>28.18</td>\n",
              "      <td>3280000</td>\n",
              "      <td>afg</td>\n",
              "      <td>Afghanistan</td>\n",
              "      <td>asia</td>\n",
              "      <td>south_asia</td>\n",
              "    </tr>\n",
              "    <tr>\n",
              "      <th>4</th>\n",
              "      <td>afg</td>\n",
              "      <td>1804</td>\n",
              "      <td>603</td>\n",
              "      <td>28.17</td>\n",
              "      <td>3280000</td>\n",
              "      <td>afg</td>\n",
              "      <td>Afghanistan</td>\n",
              "      <td>asia</td>\n",
              "      <td>south_asia</td>\n",
              "    </tr>\n",
              "  </tbody>\n",
              "</table>\n",
              "</div>"
            ],
            "text/plain": [
              "   geo  time  ...  world_4region  world_6region\n",
              "0  afg  1800  ...           asia     south_asia\n",
              "1  afg  1801  ...           asia     south_asia\n",
              "2  afg  1802  ...           asia     south_asia\n",
              "3  afg  1803  ...           asia     south_asia\n",
              "4  afg  1804  ...           asia     south_asia\n",
              "\n",
              "[5 rows x 9 columns]"
            ]
          },
          "metadata": {
            "tags": []
          },
          "execution_count": 20
        }
      ]
    },
    {
      "cell_type": "code",
      "metadata": {
        "id": "Xa6JG8gI_x7g",
        "colab_type": "code",
        "colab": {
          "base_uri": "https://localhost:8080/",
          "height": 34
        },
        "outputId": "b13a3c75-64d8-4f96-8ac5-05fcd32219b4"
      },
      "source": [
        "df.shape"
      ],
      "execution_count": 22,
      "outputs": [
        {
          "output_type": "execute_result",
          "data": {
            "text/plain": [
              "(40437, 9)"
            ]
          },
          "metadata": {
            "tags": []
          },
          "execution_count": 22
        }
      ]
    },
    {
      "cell_type": "code",
      "metadata": {
        "id": "r74n3NX7_zb2",
        "colab_type": "code",
        "colab": {
          "base_uri": "https://localhost:8080/",
          "height": 204
        },
        "outputId": "eae00955-cb9a-432f-9f36-764e3d7e328c"
      },
      "source": [
        "df = df.rename(columns= {\n",
        "    'country': 'country_code',\n",
        "    'time': 'year', \n",
        "    'income_per_person_gdppercapita_ppp_inflation_adjusted': 'income', \n",
        "    'life_expectancy_years': 'lifespan',\n",
        "    'population_total': 'population',\n",
        "    'name': 'country',\n",
        "    'world_6region': '6region',\n",
        "    'world_4region': '4region'})\n",
        "\n",
        "df.head()"
      ],
      "execution_count": 23,
      "outputs": [
        {
          "output_type": "execute_result",
          "data": {
            "text/html": [
              "<div>\n",
              "<style scoped>\n",
              "    .dataframe tbody tr th:only-of-type {\n",
              "        vertical-align: middle;\n",
              "    }\n",
              "\n",
              "    .dataframe tbody tr th {\n",
              "        vertical-align: top;\n",
              "    }\n",
              "\n",
              "    .dataframe thead th {\n",
              "        text-align: right;\n",
              "    }\n",
              "</style>\n",
              "<table border=\"1\" class=\"dataframe\">\n",
              "  <thead>\n",
              "    <tr style=\"text-align: right;\">\n",
              "      <th></th>\n",
              "      <th>geo</th>\n",
              "      <th>year</th>\n",
              "      <th>income</th>\n",
              "      <th>lifespan</th>\n",
              "      <th>population</th>\n",
              "      <th>country_code</th>\n",
              "      <th>country</th>\n",
              "      <th>4region</th>\n",
              "      <th>6region</th>\n",
              "    </tr>\n",
              "  </thead>\n",
              "  <tbody>\n",
              "    <tr>\n",
              "      <th>0</th>\n",
              "      <td>afg</td>\n",
              "      <td>1800</td>\n",
              "      <td>603</td>\n",
              "      <td>28.21</td>\n",
              "      <td>3280000</td>\n",
              "      <td>afg</td>\n",
              "      <td>Afghanistan</td>\n",
              "      <td>asia</td>\n",
              "      <td>south_asia</td>\n",
              "    </tr>\n",
              "    <tr>\n",
              "      <th>1</th>\n",
              "      <td>afg</td>\n",
              "      <td>1801</td>\n",
              "      <td>603</td>\n",
              "      <td>28.20</td>\n",
              "      <td>3280000</td>\n",
              "      <td>afg</td>\n",
              "      <td>Afghanistan</td>\n",
              "      <td>asia</td>\n",
              "      <td>south_asia</td>\n",
              "    </tr>\n",
              "    <tr>\n",
              "      <th>2</th>\n",
              "      <td>afg</td>\n",
              "      <td>1802</td>\n",
              "      <td>603</td>\n",
              "      <td>28.19</td>\n",
              "      <td>3280000</td>\n",
              "      <td>afg</td>\n",
              "      <td>Afghanistan</td>\n",
              "      <td>asia</td>\n",
              "      <td>south_asia</td>\n",
              "    </tr>\n",
              "    <tr>\n",
              "      <th>3</th>\n",
              "      <td>afg</td>\n",
              "      <td>1803</td>\n",
              "      <td>603</td>\n",
              "      <td>28.18</td>\n",
              "      <td>3280000</td>\n",
              "      <td>afg</td>\n",
              "      <td>Afghanistan</td>\n",
              "      <td>asia</td>\n",
              "      <td>south_asia</td>\n",
              "    </tr>\n",
              "    <tr>\n",
              "      <th>4</th>\n",
              "      <td>afg</td>\n",
              "      <td>1804</td>\n",
              "      <td>603</td>\n",
              "      <td>28.17</td>\n",
              "      <td>3280000</td>\n",
              "      <td>afg</td>\n",
              "      <td>Afghanistan</td>\n",
              "      <td>asia</td>\n",
              "      <td>south_asia</td>\n",
              "    </tr>\n",
              "  </tbody>\n",
              "</table>\n",
              "</div>"
            ],
            "text/plain": [
              "   geo  year  income  lifespan  ...  country_code      country 4region     6region\n",
              "0  afg  1800     603     28.21  ...           afg  Afghanistan    asia  south_asia\n",
              "1  afg  1801     603     28.20  ...           afg  Afghanistan    asia  south_asia\n",
              "2  afg  1802     603     28.19  ...           afg  Afghanistan    asia  south_asia\n",
              "3  afg  1803     603     28.18  ...           afg  Afghanistan    asia  south_asia\n",
              "4  afg  1804     603     28.17  ...           afg  Afghanistan    asia  south_asia\n",
              "\n",
              "[5 rows x 9 columns]"
            ]
          },
          "metadata": {
            "tags": []
          },
          "execution_count": 23
        }
      ]
    },
    {
      "cell_type": "code",
      "metadata": {
        "id": "U3cKGj9GAG4A",
        "colab_type": "code",
        "colab": {
          "base_uri": "https://localhost:8080/",
          "height": 187
        },
        "outputId": "51139b53-91df-4f05-8e2c-d03e6002c77d"
      },
      "source": [
        "#Explore\n",
        "df.dtypes"
      ],
      "execution_count": 24,
      "outputs": [
        {
          "output_type": "execute_result",
          "data": {
            "text/plain": [
              "geo              object\n",
              "year              int64\n",
              "income            int64\n",
              "lifespan        float64\n",
              "population        int64\n",
              "country_code     object\n",
              "country          object\n",
              "4region          object\n",
              "6region          object\n",
              "dtype: object"
            ]
          },
          "metadata": {
            "tags": []
          },
          "execution_count": 24
        }
      ]
    },
    {
      "cell_type": "code",
      "metadata": {
        "id": "-aE2JhzXAQ7A",
        "colab_type": "code",
        "colab": {
          "base_uri": "https://localhost:8080/",
          "height": 297
        },
        "outputId": "b9f23a8e-254d-4fba-d33f-aff688656409"
      },
      "source": [
        "df.describe()"
      ],
      "execution_count": 25,
      "outputs": [
        {
          "output_type": "execute_result",
          "data": {
            "text/html": [
              "<div>\n",
              "<style scoped>\n",
              "    .dataframe tbody tr th:only-of-type {\n",
              "        vertical-align: middle;\n",
              "    }\n",
              "\n",
              "    .dataframe tbody tr th {\n",
              "        vertical-align: top;\n",
              "    }\n",
              "\n",
              "    .dataframe thead th {\n",
              "        text-align: right;\n",
              "    }\n",
              "</style>\n",
              "<table border=\"1\" class=\"dataframe\">\n",
              "  <thead>\n",
              "    <tr style=\"text-align: right;\">\n",
              "      <th></th>\n",
              "      <th>year</th>\n",
              "      <th>income</th>\n",
              "      <th>lifespan</th>\n",
              "      <th>population</th>\n",
              "    </tr>\n",
              "  </thead>\n",
              "  <tbody>\n",
              "    <tr>\n",
              "      <th>count</th>\n",
              "      <td>40437.000000</td>\n",
              "      <td>40437.000000</td>\n",
              "      <td>40437.000000</td>\n",
              "      <td>4.043700e+04</td>\n",
              "    </tr>\n",
              "    <tr>\n",
              "      <th>mean</th>\n",
              "      <td>1909.292900</td>\n",
              "      <td>4619.492717</td>\n",
              "      <td>43.132080</td>\n",
              "      <td>1.371204e+07</td>\n",
              "    </tr>\n",
              "    <tr>\n",
              "      <th>std</th>\n",
              "      <td>63.308682</td>\n",
              "      <td>10209.571045</td>\n",
              "      <td>16.313228</td>\n",
              "      <td>6.606335e+07</td>\n",
              "    </tr>\n",
              "    <tr>\n",
              "      <th>min</th>\n",
              "      <td>1800.000000</td>\n",
              "      <td>247.000000</td>\n",
              "      <td>1.000000</td>\n",
              "      <td>2.128000e+03</td>\n",
              "    </tr>\n",
              "    <tr>\n",
              "      <th>25%</th>\n",
              "      <td>1854.000000</td>\n",
              "      <td>876.000000</td>\n",
              "      <td>31.160000</td>\n",
              "      <td>4.113310e+05</td>\n",
              "    </tr>\n",
              "    <tr>\n",
              "      <th>50%</th>\n",
              "      <td>1909.000000</td>\n",
              "      <td>1442.000000</td>\n",
              "      <td>35.500000</td>\n",
              "      <td>1.985952e+06</td>\n",
              "    </tr>\n",
              "    <tr>\n",
              "      <th>75%</th>\n",
              "      <td>1964.000000</td>\n",
              "      <td>3488.000000</td>\n",
              "      <td>55.970000</td>\n",
              "      <td>6.499707e+06</td>\n",
              "    </tr>\n",
              "    <tr>\n",
              "      <th>max</th>\n",
              "      <td>2018.000000</td>\n",
              "      <td>177522.000000</td>\n",
              "      <td>84.170000</td>\n",
              "      <td>1.415046e+09</td>\n",
              "    </tr>\n",
              "  </tbody>\n",
              "</table>\n",
              "</div>"
            ],
            "text/plain": [
              "               year         income      lifespan    population\n",
              "count  40437.000000   40437.000000  40437.000000  4.043700e+04\n",
              "mean    1909.292900    4619.492717     43.132080  1.371204e+07\n",
              "std       63.308682   10209.571045     16.313228  6.606335e+07\n",
              "min     1800.000000     247.000000      1.000000  2.128000e+03\n",
              "25%     1854.000000     876.000000     31.160000  4.113310e+05\n",
              "50%     1909.000000    1442.000000     35.500000  1.985952e+06\n",
              "75%     1964.000000    3488.000000     55.970000  6.499707e+06\n",
              "max     2018.000000  177522.000000     84.170000  1.415046e+09"
            ]
          },
          "metadata": {
            "tags": []
          },
          "execution_count": 25
        }
      ]
    },
    {
      "cell_type": "code",
      "metadata": {
        "id": "aB_ywLtMATYA",
        "colab_type": "code",
        "colab": {
          "base_uri": "https://localhost:8080/",
          "height": 173
        },
        "outputId": "4c9c0f47-2561-4a06-b344-8bc25d531225"
      },
      "source": [
        "df.describe(exclude='number')"
      ],
      "execution_count": 26,
      "outputs": [
        {
          "output_type": "execute_result",
          "data": {
            "text/html": [
              "<div>\n",
              "<style scoped>\n",
              "    .dataframe tbody tr th:only-of-type {\n",
              "        vertical-align: middle;\n",
              "    }\n",
              "\n",
              "    .dataframe tbody tr th {\n",
              "        vertical-align: top;\n",
              "    }\n",
              "\n",
              "    .dataframe thead th {\n",
              "        text-align: right;\n",
              "    }\n",
              "</style>\n",
              "<table border=\"1\" class=\"dataframe\">\n",
              "  <thead>\n",
              "    <tr style=\"text-align: right;\">\n",
              "      <th></th>\n",
              "      <th>geo</th>\n",
              "      <th>country_code</th>\n",
              "      <th>country</th>\n",
              "      <th>4region</th>\n",
              "      <th>6region</th>\n",
              "    </tr>\n",
              "  </thead>\n",
              "  <tbody>\n",
              "    <tr>\n",
              "      <th>count</th>\n",
              "      <td>40437</td>\n",
              "      <td>40437</td>\n",
              "      <td>40437</td>\n",
              "      <td>40437</td>\n",
              "      <td>40437</td>\n",
              "    </tr>\n",
              "    <tr>\n",
              "      <th>unique</th>\n",
              "      <td>187</td>\n",
              "      <td>187</td>\n",
              "      <td>187</td>\n",
              "      <td>4</td>\n",
              "      <td>6</td>\n",
              "    </tr>\n",
              "    <tr>\n",
              "      <th>top</th>\n",
              "      <td>mda</td>\n",
              "      <td>mda</td>\n",
              "      <td>Thailand</td>\n",
              "      <td>africa</td>\n",
              "      <td>europe_central_asia</td>\n",
              "    </tr>\n",
              "    <tr>\n",
              "      <th>freq</th>\n",
              "      <td>219</td>\n",
              "      <td>219</td>\n",
              "      <td>219</td>\n",
              "      <td>11826</td>\n",
              "      <td>10778</td>\n",
              "    </tr>\n",
              "  </tbody>\n",
              "</table>\n",
              "</div>"
            ],
            "text/plain": [
              "          geo country_code   country 4region              6region\n",
              "count   40437        40437     40437   40437                40437\n",
              "unique    187          187       187       4                    6\n",
              "top       mda          mda  Thailand  africa  europe_central_asia\n",
              "freq      219          219       219   11826                10778"
            ]
          },
          "metadata": {
            "tags": []
          },
          "execution_count": 26
        }
      ]
    },
    {
      "cell_type": "code",
      "metadata": {
        "id": "KqCENifoAZFr",
        "colab_type": "code",
        "colab": {
          "base_uri": "https://localhost:8080/",
          "height": 204
        },
        "outputId": "39a06d7d-8c36-40c4-93c2-b152db4bac69"
      },
      "source": [
        "usa = df[df.country == 'United States']\n",
        "usa.head()"
      ],
      "execution_count": 27,
      "outputs": [
        {
          "output_type": "execute_result",
          "data": {
            "text/html": [
              "<div>\n",
              "<style scoped>\n",
              "    .dataframe tbody tr th:only-of-type {\n",
              "        vertical-align: middle;\n",
              "    }\n",
              "\n",
              "    .dataframe tbody tr th {\n",
              "        vertical-align: top;\n",
              "    }\n",
              "\n",
              "    .dataframe thead th {\n",
              "        text-align: right;\n",
              "    }\n",
              "</style>\n",
              "<table border=\"1\" class=\"dataframe\">\n",
              "  <thead>\n",
              "    <tr style=\"text-align: right;\">\n",
              "      <th></th>\n",
              "      <th>geo</th>\n",
              "      <th>year</th>\n",
              "      <th>income</th>\n",
              "      <th>lifespan</th>\n",
              "      <th>population</th>\n",
              "      <th>country_code</th>\n",
              "      <th>country</th>\n",
              "      <th>4region</th>\n",
              "      <th>6region</th>\n",
              "    </tr>\n",
              "  </thead>\n",
              "  <tbody>\n",
              "    <tr>\n",
              "      <th>38028</th>\n",
              "      <td>usa</td>\n",
              "      <td>1800</td>\n",
              "      <td>2127</td>\n",
              "      <td>39.41</td>\n",
              "      <td>6801854</td>\n",
              "      <td>usa</td>\n",
              "      <td>United States</td>\n",
              "      <td>americas</td>\n",
              "      <td>america</td>\n",
              "    </tr>\n",
              "    <tr>\n",
              "      <th>38029</th>\n",
              "      <td>usa</td>\n",
              "      <td>1801</td>\n",
              "      <td>2167</td>\n",
              "      <td>39.41</td>\n",
              "      <td>6933517</td>\n",
              "      <td>usa</td>\n",
              "      <td>United States</td>\n",
              "      <td>americas</td>\n",
              "      <td>america</td>\n",
              "    </tr>\n",
              "    <tr>\n",
              "      <th>38030</th>\n",
              "      <td>usa</td>\n",
              "      <td>1802</td>\n",
              "      <td>2202</td>\n",
              "      <td>39.41</td>\n",
              "      <td>7067728</td>\n",
              "      <td>usa</td>\n",
              "      <td>United States</td>\n",
              "      <td>americas</td>\n",
              "      <td>america</td>\n",
              "    </tr>\n",
              "    <tr>\n",
              "      <th>38031</th>\n",
              "      <td>usa</td>\n",
              "      <td>1803</td>\n",
              "      <td>2166</td>\n",
              "      <td>39.41</td>\n",
              "      <td>7204538</td>\n",
              "      <td>usa</td>\n",
              "      <td>United States</td>\n",
              "      <td>americas</td>\n",
              "      <td>america</td>\n",
              "    </tr>\n",
              "    <tr>\n",
              "      <th>38032</th>\n",
              "      <td>usa</td>\n",
              "      <td>1804</td>\n",
              "      <td>2165</td>\n",
              "      <td>39.41</td>\n",
              "      <td>7343995</td>\n",
              "      <td>usa</td>\n",
              "      <td>United States</td>\n",
              "      <td>americas</td>\n",
              "      <td>america</td>\n",
              "    </tr>\n",
              "  </tbody>\n",
              "</table>\n",
              "</div>"
            ],
            "text/plain": [
              "       geo  year  income  ...        country   4region  6region\n",
              "38028  usa  1800    2127  ...  United States  americas  america\n",
              "38029  usa  1801    2167  ...  United States  americas  america\n",
              "38030  usa  1802    2202  ...  United States  americas  america\n",
              "38031  usa  1803    2166  ...  United States  americas  america\n",
              "38032  usa  1804    2165  ...  United States  americas  america\n",
              "\n",
              "[5 rows x 9 columns]"
            ]
          },
          "metadata": {
            "tags": []
          },
          "execution_count": 27
        }
      ]
    },
    {
      "cell_type": "code",
      "metadata": {
        "id": "ky9vRIyhAkJn",
        "colab_type": "code",
        "colab": {
          "base_uri": "https://localhost:8080/",
          "height": 297
        },
        "outputId": "4da89771-cbbb-43bf-c3db-c7e455d7c1e0"
      },
      "source": [
        "usa.describe()"
      ],
      "execution_count": 28,
      "outputs": [
        {
          "output_type": "execute_result",
          "data": {
            "text/html": [
              "<div>\n",
              "<style scoped>\n",
              "    .dataframe tbody tr th:only-of-type {\n",
              "        vertical-align: middle;\n",
              "    }\n",
              "\n",
              "    .dataframe tbody tr th {\n",
              "        vertical-align: top;\n",
              "    }\n",
              "\n",
              "    .dataframe thead th {\n",
              "        text-align: right;\n",
              "    }\n",
              "</style>\n",
              "<table border=\"1\" class=\"dataframe\">\n",
              "  <thead>\n",
              "    <tr style=\"text-align: right;\">\n",
              "      <th></th>\n",
              "      <th>year</th>\n",
              "      <th>income</th>\n",
              "      <th>lifespan</th>\n",
              "      <th>population</th>\n",
              "    </tr>\n",
              "  </thead>\n",
              "  <tbody>\n",
              "    <tr>\n",
              "      <th>count</th>\n",
              "      <td>219.000000</td>\n",
              "      <td>219.000000</td>\n",
              "      <td>219.000000</td>\n",
              "      <td>2.190000e+02</td>\n",
              "    </tr>\n",
              "    <tr>\n",
              "      <th>mean</th>\n",
              "      <td>1909.000000</td>\n",
              "      <td>14572.936073</td>\n",
              "      <td>54.846256</td>\n",
              "      <td>1.163662e+08</td>\n",
              "    </tr>\n",
              "    <tr>\n",
              "      <th>std</th>\n",
              "      <td>63.364028</td>\n",
              "      <td>15066.042247</td>\n",
              "      <td>15.202079</td>\n",
              "      <td>9.738644e+07</td>\n",
              "    </tr>\n",
              "    <tr>\n",
              "      <th>min</th>\n",
              "      <td>1800.000000</td>\n",
              "      <td>2113.000000</td>\n",
              "      <td>31.000000</td>\n",
              "      <td>6.801854e+06</td>\n",
              "    </tr>\n",
              "    <tr>\n",
              "      <th>25%</th>\n",
              "      <td>1854.500000</td>\n",
              "      <td>3512.500000</td>\n",
              "      <td>39.410000</td>\n",
              "      <td>2.752198e+07</td>\n",
              "    </tr>\n",
              "    <tr>\n",
              "      <th>50%</th>\n",
              "      <td>1909.000000</td>\n",
              "      <td>7989.000000</td>\n",
              "      <td>51.780000</td>\n",
              "      <td>9.236198e+07</td>\n",
              "    </tr>\n",
              "    <tr>\n",
              "      <th>75%</th>\n",
              "      <td>1963.500000</td>\n",
              "      <td>20090.500000</td>\n",
              "      <td>70.270000</td>\n",
              "      <td>1.962540e+08</td>\n",
              "    </tr>\n",
              "    <tr>\n",
              "      <th>max</th>\n",
              "      <td>2018.000000</td>\n",
              "      <td>54898.000000</td>\n",
              "      <td>79.140000</td>\n",
              "      <td>3.267667e+08</td>\n",
              "    </tr>\n",
              "  </tbody>\n",
              "</table>\n",
              "</div>"
            ],
            "text/plain": [
              "              year        income    lifespan    population\n",
              "count   219.000000    219.000000  219.000000  2.190000e+02\n",
              "mean   1909.000000  14572.936073   54.846256  1.163662e+08\n",
              "std      63.364028  15066.042247   15.202079  9.738644e+07\n",
              "min    1800.000000   2113.000000   31.000000  6.801854e+06\n",
              "25%    1854.500000   3512.500000   39.410000  2.752198e+07\n",
              "50%    1909.000000   7989.000000   51.780000  9.236198e+07\n",
              "75%    1963.500000  20090.500000   70.270000  1.962540e+08\n",
              "max    2018.000000  54898.000000   79.140000  3.267667e+08"
            ]
          },
          "metadata": {
            "tags": []
          },
          "execution_count": 28
        }
      ]
    },
    {
      "cell_type": "code",
      "metadata": {
        "id": "_YXzRXhbAm8b",
        "colab_type": "code",
        "colab": {
          "base_uri": "https://localhost:8080/",
          "height": 142
        },
        "outputId": "8ba7c37a-2027-46df-a7a0-9811b70fbaff"
      },
      "source": [
        "usa[usa.year.isin([1818,1918,2018])]"
      ],
      "execution_count": 29,
      "outputs": [
        {
          "output_type": "execute_result",
          "data": {
            "text/html": [
              "<div>\n",
              "<style scoped>\n",
              "    .dataframe tbody tr th:only-of-type {\n",
              "        vertical-align: middle;\n",
              "    }\n",
              "\n",
              "    .dataframe tbody tr th {\n",
              "        vertical-align: top;\n",
              "    }\n",
              "\n",
              "    .dataframe thead th {\n",
              "        text-align: right;\n",
              "    }\n",
              "</style>\n",
              "<table border=\"1\" class=\"dataframe\">\n",
              "  <thead>\n",
              "    <tr style=\"text-align: right;\">\n",
              "      <th></th>\n",
              "      <th>geo</th>\n",
              "      <th>year</th>\n",
              "      <th>income</th>\n",
              "      <th>lifespan</th>\n",
              "      <th>population</th>\n",
              "      <th>country_code</th>\n",
              "      <th>country</th>\n",
              "      <th>4region</th>\n",
              "      <th>6region</th>\n",
              "    </tr>\n",
              "  </thead>\n",
              "  <tbody>\n",
              "    <tr>\n",
              "      <th>38046</th>\n",
              "      <td>usa</td>\n",
              "      <td>1818</td>\n",
              "      <td>2258</td>\n",
              "      <td>39.41</td>\n",
              "      <td>9879049</td>\n",
              "      <td>usa</td>\n",
              "      <td>United States</td>\n",
              "      <td>americas</td>\n",
              "      <td>america</td>\n",
              "    </tr>\n",
              "    <tr>\n",
              "      <th>38146</th>\n",
              "      <td>usa</td>\n",
              "      <td>1918</td>\n",
              "      <td>9371</td>\n",
              "      <td>47.18</td>\n",
              "      <td>106721812</td>\n",
              "      <td>usa</td>\n",
              "      <td>United States</td>\n",
              "      <td>americas</td>\n",
              "      <td>america</td>\n",
              "    </tr>\n",
              "    <tr>\n",
              "      <th>38246</th>\n",
              "      <td>usa</td>\n",
              "      <td>2018</td>\n",
              "      <td>54898</td>\n",
              "      <td>79.14</td>\n",
              "      <td>326766748</td>\n",
              "      <td>usa</td>\n",
              "      <td>United States</td>\n",
              "      <td>americas</td>\n",
              "      <td>america</td>\n",
              "    </tr>\n",
              "  </tbody>\n",
              "</table>\n",
              "</div>"
            ],
            "text/plain": [
              "       geo  year  income  ...        country   4region  6region\n",
              "38046  usa  1818    2258  ...  United States  americas  america\n",
              "38146  usa  1918    9371  ...  United States  americas  america\n",
              "38246  usa  2018   54898  ...  United States  americas  america\n",
              "\n",
              "[3 rows x 9 columns]"
            ]
          },
          "metadata": {
            "tags": []
          },
          "execution_count": 29
        }
      ]
    },
    {
      "cell_type": "code",
      "metadata": {
        "id": "856DYlBuAun1",
        "colab_type": "code",
        "colab": {
          "base_uri": "https://localhost:8080/",
          "height": 142
        },
        "outputId": "97c21060-a234-4b2a-aff8-c204fc6d0a40"
      },
      "source": [
        "china = df[df.country=='China']\n",
        "china[china.year.isin([1818,1918,2018])]"
      ],
      "execution_count": 32,
      "outputs": [
        {
          "output_type": "execute_result",
          "data": {
            "text/html": [
              "<div>\n",
              "<style scoped>\n",
              "    .dataframe tbody tr th:only-of-type {\n",
              "        vertical-align: middle;\n",
              "    }\n",
              "\n",
              "    .dataframe tbody tr th {\n",
              "        vertical-align: top;\n",
              "    }\n",
              "\n",
              "    .dataframe thead th {\n",
              "        text-align: right;\n",
              "    }\n",
              "</style>\n",
              "<table border=\"1\" class=\"dataframe\">\n",
              "  <thead>\n",
              "    <tr style=\"text-align: right;\">\n",
              "      <th></th>\n",
              "      <th>geo</th>\n",
              "      <th>year</th>\n",
              "      <th>income</th>\n",
              "      <th>lifespan</th>\n",
              "      <th>population</th>\n",
              "      <th>country_code</th>\n",
              "      <th>country</th>\n",
              "      <th>4region</th>\n",
              "      <th>6region</th>\n",
              "    </tr>\n",
              "  </thead>\n",
              "  <tbody>\n",
              "    <tr>\n",
              "      <th>6854</th>\n",
              "      <td>chn</td>\n",
              "      <td>1818</td>\n",
              "      <td>985</td>\n",
              "      <td>32.00</td>\n",
              "      <td>374161494</td>\n",
              "      <td>chn</td>\n",
              "      <td>China</td>\n",
              "      <td>asia</td>\n",
              "      <td>east_asia_pacific</td>\n",
              "    </tr>\n",
              "    <tr>\n",
              "      <th>6954</th>\n",
              "      <td>chn</td>\n",
              "      <td>1918</td>\n",
              "      <td>989</td>\n",
              "      <td>22.13</td>\n",
              "      <td>462444535</td>\n",
              "      <td>chn</td>\n",
              "      <td>China</td>\n",
              "      <td>asia</td>\n",
              "      <td>east_asia_pacific</td>\n",
              "    </tr>\n",
              "    <tr>\n",
              "      <th>7054</th>\n",
              "      <td>chn</td>\n",
              "      <td>2018</td>\n",
              "      <td>16018</td>\n",
              "      <td>76.92</td>\n",
              "      <td>1415045928</td>\n",
              "      <td>chn</td>\n",
              "      <td>China</td>\n",
              "      <td>asia</td>\n",
              "      <td>east_asia_pacific</td>\n",
              "    </tr>\n",
              "  </tbody>\n",
              "</table>\n",
              "</div>"
            ],
            "text/plain": [
              "      geo  year  income  ...  country  4region            6region\n",
              "6854  chn  1818     985  ...    China     asia  east_asia_pacific\n",
              "6954  chn  1918     989  ...    China     asia  east_asia_pacific\n",
              "7054  chn  2018   16018  ...    China     asia  east_asia_pacific\n",
              "\n",
              "[3 rows x 9 columns]"
            ]
          },
          "metadata": {
            "tags": []
          },
          "execution_count": 32
        }
      ]
    },
    {
      "cell_type": "code",
      "metadata": {
        "id": "Up_vApMIA4WC",
        "colab_type": "code",
        "colab": {
          "base_uri": "https://localhost:8080/",
          "height": 204
        },
        "outputId": "bd00d07e-b65f-4e6e-964e-ad2fc0217ab9"
      },
      "source": [
        "#Plot time\n",
        "import seaborn as sns\n",
        "\n",
        "now = df[df.year == 2018]\n",
        "then = df[df.year == 1918]\n",
        "now.head()"
      ],
      "execution_count": 33,
      "outputs": [
        {
          "output_type": "execute_result",
          "data": {
            "text/html": [
              "<div>\n",
              "<style scoped>\n",
              "    .dataframe tbody tr th:only-of-type {\n",
              "        vertical-align: middle;\n",
              "    }\n",
              "\n",
              "    .dataframe tbody tr th {\n",
              "        vertical-align: top;\n",
              "    }\n",
              "\n",
              "    .dataframe thead th {\n",
              "        text-align: right;\n",
              "    }\n",
              "</style>\n",
              "<table border=\"1\" class=\"dataframe\">\n",
              "  <thead>\n",
              "    <tr style=\"text-align: right;\">\n",
              "      <th></th>\n",
              "      <th>geo</th>\n",
              "      <th>year</th>\n",
              "      <th>income</th>\n",
              "      <th>lifespan</th>\n",
              "      <th>population</th>\n",
              "      <th>country_code</th>\n",
              "      <th>country</th>\n",
              "      <th>4region</th>\n",
              "      <th>6region</th>\n",
              "    </tr>\n",
              "  </thead>\n",
              "  <tbody>\n",
              "    <tr>\n",
              "      <th>218</th>\n",
              "      <td>afg</td>\n",
              "      <td>2018</td>\n",
              "      <td>1867</td>\n",
              "      <td>58.69</td>\n",
              "      <td>36373176</td>\n",
              "      <td>afg</td>\n",
              "      <td>Afghanistan</td>\n",
              "      <td>asia</td>\n",
              "      <td>south_asia</td>\n",
              "    </tr>\n",
              "    <tr>\n",
              "      <th>437</th>\n",
              "      <td>ago</td>\n",
              "      <td>2018</td>\n",
              "      <td>5846</td>\n",
              "      <td>65.19</td>\n",
              "      <td>30774205</td>\n",
              "      <td>ago</td>\n",
              "      <td>Angola</td>\n",
              "      <td>africa</td>\n",
              "      <td>sub_saharan_africa</td>\n",
              "    </tr>\n",
              "    <tr>\n",
              "      <th>656</th>\n",
              "      <td>alb</td>\n",
              "      <td>2018</td>\n",
              "      <td>12424</td>\n",
              "      <td>78.01</td>\n",
              "      <td>2934363</td>\n",
              "      <td>alb</td>\n",
              "      <td>Albania</td>\n",
              "      <td>europe</td>\n",
              "      <td>europe_central_asia</td>\n",
              "    </tr>\n",
              "    <tr>\n",
              "      <th>922</th>\n",
              "      <td>are</td>\n",
              "      <td>2018</td>\n",
              "      <td>68231</td>\n",
              "      <td>76.89</td>\n",
              "      <td>9541615</td>\n",
              "      <td>are</td>\n",
              "      <td>United Arab Emirates</td>\n",
              "      <td>asia</td>\n",
              "      <td>middle_east_north_africa</td>\n",
              "    </tr>\n",
              "    <tr>\n",
              "      <th>1141</th>\n",
              "      <td>arg</td>\n",
              "      <td>2018</td>\n",
              "      <td>18942</td>\n",
              "      <td>76.97</td>\n",
              "      <td>44688864</td>\n",
              "      <td>arg</td>\n",
              "      <td>Argentina</td>\n",
              "      <td>americas</td>\n",
              "      <td>america</td>\n",
              "    </tr>\n",
              "  </tbody>\n",
              "</table>\n",
              "</div>"
            ],
            "text/plain": [
              "      geo  year  ...   4region                   6region\n",
              "218   afg  2018  ...      asia                south_asia\n",
              "437   ago  2018  ...    africa        sub_saharan_africa\n",
              "656   alb  2018  ...    europe       europe_central_asia\n",
              "922   are  2018  ...      asia  middle_east_north_africa\n",
              "1141  arg  2018  ...  americas                   america\n",
              "\n",
              "[5 rows x 9 columns]"
            ]
          },
          "metadata": {
            "tags": []
          },
          "execution_count": 33
        }
      ]
    },
    {
      "cell_type": "code",
      "metadata": {
        "id": "4ZsqJeKUBf66",
        "colab_type": "code",
        "colab": {
          "base_uri": "https://localhost:8080/",
          "height": 772
        },
        "outputId": "c561b4aa-672c-4675-f083-945b649e7f81"
      },
      "source": [
        "sns.relplot(x='income', y='lifespan',hue='6region', size='population',\n",
        "            sizes=(30, 400), alpha=0.7, data=then)\n",
        "plt.xscale('log')\n",
        "plt.title('The World in 1918')\n",
        "plt.ylim(0,85)\n",
        "plt.xlim(483.5453734847516,100000)\n",
        "\n",
        "\n",
        "sns.relplot(x='income', y='lifespan', hue='6region', size='population', \n",
        "            sizes=(30, 400), alpha=0.7, data=now)\n",
        "plt.xscale('log')\n",
        "plt.title(\"the World in 2018\")\n",
        "plt.ylim(0,85)\n",
        "plt.xlim(483.5453734847516,100000)"
      ],
      "execution_count": 37,
      "outputs": [
        {
          "output_type": "execute_result",
          "data": {
            "text/plain": [
              "(483.5453734847516, 100000)"
            ]
          },
          "metadata": {
            "tags": []
          },
          "execution_count": 37
        },
        {
          "output_type": "display_data",
          "data": {
            "image/png": "[encoded data removed]",
            "text/plain": [
              "<Figure size 521.75x360 with 1 Axes>"
            ]
          },
          "metadata": {
            "tags": []
          }
        },
        {
          "output_type": "display_data",
          "data": {
            "image/png": "[encoded data removed]",
            "text/plain": [
              "<Figure size 521.75x360 with 1 Axes>"
            ]
          },
          "metadata": {
            "tags": []
          }
        }
      ]
    },
    {
      "cell_type": "code",
      "metadata": {
        "id": "_Cu60vnDKlNj",
        "colab_type": "code",
        "colab": {
          "base_uri": "https://localhost:8080/",
          "height": 1000
        },
        "outputId": "2cfbfece-6022-4e74-f064-81b656efbc99"
      },
      "source": [
        "fig, ax = plt.subplots(nrows=1, ncols=2, figsize=(16,8))\n",
        "\n",
        "sns.relplot(x='income', y='lifespan', hue='6region', size='population', \n",
        "            sizes=(30, 400), alpha=0.7, data=then, ax=ax[0]);\n",
        "\n",
        "sns.relplot(x='income', y='lifespan', hue='6region', size='population', \n",
        "                        sizes=(30, 400), alpha=0.7, data=now, ax=ax[1]);"
      ],
      "execution_count": 39,
      "outputs": [
        {
          "output_type": "display_data",
          "data": {
            "image/png": "[encoded data removed]",
            "text/plain": [
              "<Figure size 1152x576 with 2 Axes>"
            ]
          },
          "metadata": {
            "tags": []
          }
        },
        {
          "output_type": "display_data",
          "data": {
            "image/png": "[encoded data removed]",
            "text/plain": [
              "<Figure size 521.75x360 with 1 Axes>"
            ]
          },
          "metadata": {
            "tags": []
          }
        },
        {
          "output_type": "display_data",
          "data": {
            "image/png": "[encoded data removed]",
            "text/plain": [
              "<Figure size 521.75x360 with 1 Axes>"
            ]
          },
          "metadata": {
            "tags": []
          }
        }
      ]
    },
    {
      "cell_type": "code",
      "metadata": {
        "id": "NiRhEn6mLBbl",
        "colab_type": "code",
        "colab": {
          "base_uri": "https://localhost:8080/",
          "height": 374
        },
        "outputId": "1bab15fd-3728-4cde-aaa4-5dc8dd3b6f19"
      },
      "source": [
        "now.income.nlargest(20)"
      ],
      "execution_count": 40,
      "outputs": [
        {
          "output_type": "execute_result",
          "data": {
            "text/plain": [
              "30362    121033\n",
              "22212     99034\n",
              "31895     83888\n",
              "5521      76943\n",
              "20241     68359\n",
              "922       68231\n",
              "16956     65622\n",
              "27296     64846\n",
              "6616      57133\n",
              "38246     54898\n",
              "31238     50114\n",
              "27077     48542\n",
              "34304     47520\n",
              "17613     47356\n",
              "10167     46583\n",
              "1798      45783\n",
              "9682      45166\n",
              "2017      44645\n",
              "3769      44330\n",
              "6397      43773\n",
              "Name: income, dtype: int64"
            ]
          },
          "metadata": {
            "tags": []
          },
          "execution_count": 40
        }
      ]
    },
    {
      "cell_type": "code",
      "metadata": {
        "id": "97cuy0l2MA41",
        "colab_type": "code",
        "colab": {
          "base_uri": "https://localhost:8080/",
          "height": 80
        },
        "outputId": "7070fc3c-40e5-41d3-965d-89af7857562c"
      },
      "source": [
        "now_qatar = now[now.country=='Qatar']\n",
        "now_qatar.head()"
      ],
      "execution_count": 41,
      "outputs": [
        {
          "output_type": "execute_result",
          "data": {
            "text/html": [
              "<div>\n",
              "<style scoped>\n",
              "    .dataframe tbody tr th:only-of-type {\n",
              "        vertical-align: middle;\n",
              "    }\n",
              "\n",
              "    .dataframe tbody tr th {\n",
              "        vertical-align: top;\n",
              "    }\n",
              "\n",
              "    .dataframe thead th {\n",
              "        text-align: right;\n",
              "    }\n",
              "</style>\n",
              "<table border=\"1\" class=\"dataframe\">\n",
              "  <thead>\n",
              "    <tr style=\"text-align: right;\">\n",
              "      <th></th>\n",
              "      <th>geo</th>\n",
              "      <th>year</th>\n",
              "      <th>income</th>\n",
              "      <th>lifespan</th>\n",
              "      <th>population</th>\n",
              "      <th>country_code</th>\n",
              "      <th>country</th>\n",
              "      <th>4region</th>\n",
              "      <th>6region</th>\n",
              "    </tr>\n",
              "  </thead>\n",
              "  <tbody>\n",
              "    <tr>\n",
              "      <th>30362</th>\n",
              "      <td>qat</td>\n",
              "      <td>2018</td>\n",
              "      <td>121033</td>\n",
              "      <td>80.71</td>\n",
              "      <td>2694849</td>\n",
              "      <td>qat</td>\n",
              "      <td>Qatar</td>\n",
              "      <td>asia</td>\n",
              "      <td>middle_east_north_africa</td>\n",
              "    </tr>\n",
              "  </tbody>\n",
              "</table>\n",
              "</div>"
            ],
            "text/plain": [
              "       geo  year  income  ...  country  4region                   6region\n",
              "30362  qat  2018  121033  ...    Qatar     asia  middle_east_north_africa\n",
              "\n",
              "[1 rows x 9 columns]"
            ]
          },
          "metadata": {
            "tags": []
          },
          "execution_count": 41
        }
      ]
    },
    {
      "cell_type": "code",
      "metadata": {
        "id": "ilKRouR8MRsQ",
        "colab_type": "code",
        "colab": {
          "base_uri": "https://localhost:8080/",
          "height": 386
        },
        "outputId": "967a5997-4c5f-4da3-8d31-8c2330e3bfa0"
      },
      "source": [
        "sns.relplot(x='income', y='lifespan', hue='6region', size='population', \n",
        "            sizes=(30,400), data=now)\n",
        "plt.xscale('log')\n",
        "plt.ylim(0,90)\n",
        "plt.title(\"Qatar is really rich\")\n",
        "plt.text(x=now_qatar.income-5000, y= now_qatar.lifespan+1, s='Qatar')\n",
        "plt.show()"
      ],
      "execution_count": 43,
      "outputs": [
        {
          "output_type": "display_data",
          "data": {
            "image/png": "[encoded data removed]",
            "text/plain": [
              "<Figure size 521.75x360 with 1 Axes>"
            ]
          },
          "metadata": {
            "tags": []
          }
        }
      ]
    },
    {
      "cell_type": "code",
      "metadata": {
        "id": "6lK9Qbp2MVM6",
        "colab_type": "code",
        "colab": {
          "base_uri": "https://localhost:8080/",
          "height": 204
        },
        "outputId": "c19e188d-d855-4d59-86f2-8923f03a11b9"
      },
      "source": [
        "years = [1818, 1918, 2018]\n",
        "centuries = df[df.year.isin(years)]\n",
        "\n",
        "centuries.head()"
      ],
      "execution_count": 44,
      "outputs": [
        {
          "output_type": "execute_result",
          "data": {
            "text/html": [
              "<div>\n",
              "<style scoped>\n",
              "    .dataframe tbody tr th:only-of-type {\n",
              "        vertical-align: middle;\n",
              "    }\n",
              "\n",
              "    .dataframe tbody tr th {\n",
              "        vertical-align: top;\n",
              "    }\n",
              "\n",
              "    .dataframe thead th {\n",
              "        text-align: right;\n",
              "    }\n",
              "</style>\n",
              "<table border=\"1\" class=\"dataframe\">\n",
              "  <thead>\n",
              "    <tr style=\"text-align: right;\">\n",
              "      <th></th>\n",
              "      <th>geo</th>\n",
              "      <th>year</th>\n",
              "      <th>income</th>\n",
              "      <th>lifespan</th>\n",
              "      <th>population</th>\n",
              "      <th>country_code</th>\n",
              "      <th>country</th>\n",
              "      <th>4region</th>\n",
              "      <th>6region</th>\n",
              "    </tr>\n",
              "  </thead>\n",
              "  <tbody>\n",
              "    <tr>\n",
              "      <th>18</th>\n",
              "      <td>afg</td>\n",
              "      <td>1818</td>\n",
              "      <td>604</td>\n",
              "      <td>28.03</td>\n",
              "      <td>3308390</td>\n",
              "      <td>afg</td>\n",
              "      <td>Afghanistan</td>\n",
              "      <td>asia</td>\n",
              "      <td>south_asia</td>\n",
              "    </tr>\n",
              "    <tr>\n",
              "      <th>118</th>\n",
              "      <td>afg</td>\n",
              "      <td>1918</td>\n",
              "      <td>849</td>\n",
              "      <td>7.89</td>\n",
              "      <td>5704092</td>\n",
              "      <td>afg</td>\n",
              "      <td>Afghanistan</td>\n",
              "      <td>asia</td>\n",
              "      <td>south_asia</td>\n",
              "    </tr>\n",
              "    <tr>\n",
              "      <th>218</th>\n",
              "      <td>afg</td>\n",
              "      <td>2018</td>\n",
              "      <td>1867</td>\n",
              "      <td>58.69</td>\n",
              "      <td>36373176</td>\n",
              "      <td>afg</td>\n",
              "      <td>Afghanistan</td>\n",
              "      <td>asia</td>\n",
              "      <td>south_asia</td>\n",
              "    </tr>\n",
              "    <tr>\n",
              "      <th>237</th>\n",
              "      <td>ago</td>\n",
              "      <td>1818</td>\n",
              "      <td>668</td>\n",
              "      <td>26.98</td>\n",
              "      <td>1586896</td>\n",
              "      <td>ago</td>\n",
              "      <td>Angola</td>\n",
              "      <td>africa</td>\n",
              "      <td>sub_saharan_africa</td>\n",
              "    </tr>\n",
              "    <tr>\n",
              "      <th>337</th>\n",
              "      <td>ago</td>\n",
              "      <td>1918</td>\n",
              "      <td>1174</td>\n",
              "      <td>12.01</td>\n",
              "      <td>3487015</td>\n",
              "      <td>ago</td>\n",
              "      <td>Angola</td>\n",
              "      <td>africa</td>\n",
              "      <td>sub_saharan_africa</td>\n",
              "    </tr>\n",
              "  </tbody>\n",
              "</table>\n",
              "</div>"
            ],
            "text/plain": [
              "     geo  year  income  ...      country  4region             6region\n",
              "18   afg  1818     604  ...  Afghanistan     asia          south_asia\n",
              "118  afg  1918     849  ...  Afghanistan     asia          south_asia\n",
              "218  afg  2018    1867  ...  Afghanistan     asia          south_asia\n",
              "237  ago  1818     668  ...       Angola   africa  sub_saharan_africa\n",
              "337  ago  1918    1174  ...       Angola   africa  sub_saharan_africa\n",
              "\n",
              "[5 rows x 9 columns]"
            ]
          },
          "metadata": {
            "tags": []
          },
          "execution_count": 44
        }
      ]
    },
    {
      "cell_type": "code",
      "metadata": {
        "id": "0tLTs4_GMolZ",
        "colab_type": "code",
        "colab": {
          "base_uri": "https://localhost:8080/",
          "height": 371
        },
        "outputId": "2a56f899-6297-4e7a-dc2e-ea80cb4e1584"
      },
      "source": [
        "fig = sns.relplot(x='income', y='lifespan', hue='6region', size='population', \n",
        "                  sizes=(30,400), col='year', data=centuries)\n",
        "\n",
        "axes = fig.axes.flatten()\n",
        "axes[0].set_title('Poor and Sick in 1818')\n",
        "axes[1].set_title('Healthy and Poor in 1918')\n",
        "axes[2].set_title('Healthy and Wealthy in 2018');"
      ],
      "execution_count": 45,
      "outputs": [
        {
          "output_type": "display_data",
          "data": {
            "image/png": "[encoded data removed]",
            "text/plain": [
              "<Figure size 1241.75x360 with 3 Axes>"
            ]
          },
          "metadata": {
            "tags": []
          }
        }
      ]
    },
    {
      "cell_type": "code",
      "metadata": {
        "id": "S6DWgRbiObU2",
        "colab_type": "code",
        "colab": {}
      },
      "source": [
        "years = [1918, 1938, 1978, 1998, 2018]"
      ],
      "execution_count": 0,
      "outputs": []
    },
    {
      "cell_type": "code",
      "metadata": {
        "id": "Drzi7Zn1PfHw",
        "colab_type": "code",
        "colab": {
          "base_uri": "https://localhost:8080/",
          "height": 1000
        },
        "outputId": "0bca2bfd-0e39-41ce-f017-4abfb6f891d6"
      },
      "source": [
        "for year in years:\n",
        "  sns.relplot(x='income', y='lifespan', hue='6region', size='population', \n",
        "              sizes=(30,400), data=df[df.year==year])\n",
        "  plt.xscale('log')\n",
        "  plt.xlim((150, 150000))\n",
        "  plt.ylim((0, 90))\n",
        "  plt.title('Countries Above the Poverty Line in ' + str(year))\n",
        "  plt.axvline(x=1000, color='grey')"
      ],
      "execution_count": 47,
      "outputs": [
        {
          "output_type": "display_data",
          "data": {
            "image/png": "[encoded data removed]",
            "text/plain": [
              "<Figure size 521.75x360 with 1 Axes>"
            ]
          },
          "metadata": {
            "tags": []
          }
        },
        {
          "output_type": "display_data",
          "data": {
            "image/png": "[encoded data removed]",
            "text/plain": [
              "<Figure size 521.75x360 with 1 Axes>"
            ]
          },
          "metadata": {
            "tags": []
          }
        },
        {
          "output_type": "display_data",
          "data": {
            "image/png": "[encoded data removed]",
            "text/plain": [
              "<Figure size 521.75x360 with 1 Axes>"
            ]
          },
          "metadata": {
            "tags": []
          }
        },
        {
          "output_type": "display_data",
          "data": {
            "image/png": "[encoded data removed]",
            "text/plain": [
              "<Figure size 521.75x360 with 1 Axes>"
            ]
          },
          "metadata": {
            "tags": []
          }
        },
        {
          "output_type": "display_data",
          "data": {
            "image/png": "[encoded data removed]",
            "text/plain": [
              "<Figure size 521.75x360 with 1 Axes>"
            ]
          },
          "metadata": {
            "tags": []
          }
        }
      ]
    },
    {
      "cell_type": "code",
      "metadata": {
        "id": "gBE_yQRk3pYZ",
        "colab_type": "code",
        "colab": {}
      },
      "source": [
        "%matplotlib inline\n",
        "import matplotlib.pyplot as plt\n",
        "import numpy as np\n",
        "import pandas as pd"
      ],
      "execution_count": 0,
      "outputs": []
    },
    {
      "cell_type": "code",
      "metadata": {
        "colab_type": "code",
        "id": "-uE25LHD8CW0",
        "colab": {}
      },
      "source": [
        "income = pd.read_csv('https://raw.githubusercontent.com/open-numbers/ddf--gapminder--systema_globalis/master/ddf--datapoints--income_per_person_gdppercapita_ppp_inflation_adjusted--by--geo--time.csv')"
      ],
      "execution_count": 0,
      "outputs": []
    },
    {
      "cell_type": "code",
      "metadata": {
        "colab_type": "code",
        "id": "gg_pJslMY2bq",
        "colab": {}
      },
      "source": [
        "lifespan = pd.read_csv('https://raw.githubusercontent.com/open-numbers/ddf--gapminder--systema_globalis/master/ddf--datapoints--life_expectancy_years--by--geo--time.csv')"
      ],
      "execution_count": 0,
      "outputs": []
    },
    {
      "cell_type": "code",
      "metadata": {
        "colab_type": "code",
        "id": "F6knDUevY-xR",
        "colab": {}
      },
      "source": [
        "population = pd.read_csv('https://raw.githubusercontent.com/open-numbers/ddf--gapminder--systema_globalis/master/ddf--datapoints--population_total--by--geo--time.csv')"
      ],
      "execution_count": 0,
      "outputs": []
    },
    {
      "cell_type": "code",
      "metadata": {
        "colab_type": "code",
        "id": "hX6abI-iZGLl",
        "colab": {}
      },
      "source": [
        "entities = pd.read_csv('https://raw.githubusercontent.com/open-numbers/ddf--gapminder--systema_globalis/master/ddf--entities--geo--country.csv')"
      ],
      "execution_count": 0,
      "outputs": []
    },
    {
      "cell_type": "code",
      "metadata": {
        "colab_type": "code",
        "id": "AI-zcaDkZHXm",
        "colab": {}
      },
      "source": [
        "concepts = pd.read_csv('https://raw.githubusercontent.com/open-numbers/ddf--gapminder--systema_globalis/master/ddf--concepts.csv')"
      ],
      "execution_count": 0,
      "outputs": []
    },
    {
      "cell_type": "code",
      "metadata": {
        "colab_type": "code",
        "id": "EgFw-g0nZLJy",
        "outputId": "0f967284-3240-4ef3-c6c3-273f9e8d2cb8",
        "colab": {
          "base_uri": "https://localhost:8080/",
          "height": 34
        }
      },
      "source": [
        "income.shape, lifespan.shape, population.shape, entities.shape, concepts.shape"
      ],
      "execution_count": 7,
      "outputs": [
        {
          "output_type": "execute_result",
          "data": {
            "text/plain": [
              "((46513, 3), (44370, 3), (59297, 3), (273, 33), (590, 16))"
            ]
          },
          "metadata": {
            "tags": []
          },
          "execution_count": 7
        }
      ]
    },
    {
      "cell_type": "code",
      "metadata": {
        "id": "LrSv3Fn49524",
        "colab_type": "code",
        "colab": {
          "base_uri": "https://localhost:8080/",
          "height": 204
        },
        "outputId": "1621d0b5-fc47-46a7-cc2e-35437efe803c"
      },
      "source": [
        "income.head()"
      ],
      "execution_count": 8,
      "outputs": [
        {
          "output_type": "execute_result",
          "data": {
            "text/html": [
              "<div>\n",
              "<style scoped>\n",
              "    .dataframe tbody tr th:only-of-type {\n",
              "        vertical-align: middle;\n",
              "    }\n",
              "\n",
              "    .dataframe tbody tr th {\n",
              "        vertical-align: top;\n",
              "    }\n",
              "\n",
              "    .dataframe thead th {\n",
              "        text-align: right;\n",
              "    }\n",
              "</style>\n",
              "<table border=\"1\" class=\"dataframe\">\n",
              "  <thead>\n",
              "    <tr style=\"text-align: right;\">\n",
              "      <th></th>\n",
              "      <th>geo</th>\n",
              "      <th>time</th>\n",
              "      <th>income_per_person_gdppercapita_ppp_inflation_adjusted</th>\n",
              "    </tr>\n",
              "  </thead>\n",
              "  <tbody>\n",
              "    <tr>\n",
              "      <th>0</th>\n",
              "      <td>afg</td>\n",
              "      <td>1800</td>\n",
              "      <td>603</td>\n",
              "    </tr>\n",
              "    <tr>\n",
              "      <th>1</th>\n",
              "      <td>afg</td>\n",
              "      <td>1801</td>\n",
              "      <td>603</td>\n",
              "    </tr>\n",
              "    <tr>\n",
              "      <th>2</th>\n",
              "      <td>afg</td>\n",
              "      <td>1802</td>\n",
              "      <td>603</td>\n",
              "    </tr>\n",
              "    <tr>\n",
              "      <th>3</th>\n",
              "      <td>afg</td>\n",
              "      <td>1803</td>\n",
              "      <td>603</td>\n",
              "    </tr>\n",
              "    <tr>\n",
              "      <th>4</th>\n",
              "      <td>afg</td>\n",
              "      <td>1804</td>\n",
              "      <td>603</td>\n",
              "    </tr>\n",
              "  </tbody>\n",
              "</table>\n",
              "</div>"
            ],
            "text/plain": [
              "   geo  time  income_per_person_gdppercapita_ppp_inflation_adjusted\n",
              "0  afg  1800                                                603    \n",
              "1  afg  1801                                                603    \n",
              "2  afg  1802                                                603    \n",
              "3  afg  1803                                                603    \n",
              "4  afg  1804                                                603    "
            ]
          },
          "metadata": {
            "tags": []
          },
          "execution_count": 8
        }
      ]
    },
    {
      "cell_type": "code",
      "metadata": {
        "id": "l4h8KZcR99qg",
        "colab_type": "code",
        "colab": {
          "base_uri": "https://localhost:8080/",
          "height": 204
        },
        "outputId": "d107ebdd-c60e-4d03-ed70-1d96db25f50b"
      },
      "source": [
        "lifespan.head()"
      ],
      "execution_count": 9,
      "outputs": [
        {
          "output_type": "execute_result",
          "data": {
            "text/html": [
              "<div>\n",
              "<style scoped>\n",
              "    .dataframe tbody tr th:only-of-type {\n",
              "        vertical-align: middle;\n",
              "    }\n",
              "\n",
              "    .dataframe tbody tr th {\n",
              "        vertical-align: top;\n",
              "    }\n",
              "\n",
              "    .dataframe thead th {\n",
              "        text-align: right;\n",
              "    }\n",
              "</style>\n",
              "<table border=\"1\" class=\"dataframe\">\n",
              "  <thead>\n",
              "    <tr style=\"text-align: right;\">\n",
              "      <th></th>\n",
              "      <th>geo</th>\n",
              "      <th>time</th>\n",
              "      <th>life_expectancy_years</th>\n",
              "    </tr>\n",
              "  </thead>\n",
              "  <tbody>\n",
              "    <tr>\n",
              "      <th>0</th>\n",
              "      <td>abw</td>\n",
              "      <td>1800</td>\n",
              "      <td>34.42</td>\n",
              "    </tr>\n",
              "    <tr>\n",
              "      <th>1</th>\n",
              "      <td>abw</td>\n",
              "      <td>1801</td>\n",
              "      <td>34.42</td>\n",
              "    </tr>\n",
              "    <tr>\n",
              "      <th>2</th>\n",
              "      <td>abw</td>\n",
              "      <td>1802</td>\n",
              "      <td>34.42</td>\n",
              "    </tr>\n",
              "    <tr>\n",
              "      <th>3</th>\n",
              "      <td>abw</td>\n",
              "      <td>1803</td>\n",
              "      <td>34.42</td>\n",
              "    </tr>\n",
              "    <tr>\n",
              "      <th>4</th>\n",
              "      <td>abw</td>\n",
              "      <td>1804</td>\n",
              "      <td>34.42</td>\n",
              "    </tr>\n",
              "  </tbody>\n",
              "</table>\n",
              "</div>"
            ],
            "text/plain": [
              "   geo  time  life_expectancy_years\n",
              "0  abw  1800                  34.42\n",
              "1  abw  1801                  34.42\n",
              "2  abw  1802                  34.42\n",
              "3  abw  1803                  34.42\n",
              "4  abw  1804                  34.42"
            ]
          },
          "metadata": {
            "tags": []
          },
          "execution_count": 9
        }
      ]
    },
    {
      "cell_type": "code",
      "metadata": {
        "id": "UzkukPOp9_Td",
        "colab_type": "code",
        "colab": {
          "base_uri": "https://localhost:8080/",
          "height": 204
        },
        "outputId": "5755f116-9b86-41c4-835a-d58704b34f19"
      },
      "source": [
        "population.head()"
      ],
      "execution_count": 10,
      "outputs": [
        {
          "output_type": "execute_result",
          "data": {
            "text/html": [
              "<div>\n",
              "<style scoped>\n",
              "    .dataframe tbody tr th:only-of-type {\n",
              "        vertical-align: middle;\n",
              "    }\n",
              "\n",
              "    .dataframe tbody tr th {\n",
              "        vertical-align: top;\n",
              "    }\n",
              "\n",
              "    .dataframe thead th {\n",
              "        text-align: right;\n",
              "    }\n",
              "</style>\n",
              "<table border=\"1\" class=\"dataframe\">\n",
              "  <thead>\n",
              "    <tr style=\"text-align: right;\">\n",
              "      <th></th>\n",
              "      <th>geo</th>\n",
              "      <th>time</th>\n",
              "      <th>population_total</th>\n",
              "    </tr>\n",
              "  </thead>\n",
              "  <tbody>\n",
              "    <tr>\n",
              "      <th>0</th>\n",
              "      <td>afg</td>\n",
              "      <td>1800</td>\n",
              "      <td>3280000</td>\n",
              "    </tr>\n",
              "    <tr>\n",
              "      <th>1</th>\n",
              "      <td>afg</td>\n",
              "      <td>1801</td>\n",
              "      <td>3280000</td>\n",
              "    </tr>\n",
              "    <tr>\n",
              "      <th>2</th>\n",
              "      <td>afg</td>\n",
              "      <td>1802</td>\n",
              "      <td>3280000</td>\n",
              "    </tr>\n",
              "    <tr>\n",
              "      <th>3</th>\n",
              "      <td>afg</td>\n",
              "      <td>1803</td>\n",
              "      <td>3280000</td>\n",
              "    </tr>\n",
              "    <tr>\n",
              "      <th>4</th>\n",
              "      <td>afg</td>\n",
              "      <td>1804</td>\n",
              "      <td>3280000</td>\n",
              "    </tr>\n",
              "  </tbody>\n",
              "</table>\n",
              "</div>"
            ],
            "text/plain": [
              "   geo  time  population_total\n",
              "0  afg  1800           3280000\n",
              "1  afg  1801           3280000\n",
              "2  afg  1802           3280000\n",
              "3  afg  1803           3280000\n",
              "4  afg  1804           3280000"
            ]
          },
          "metadata": {
            "tags": []
          },
          "execution_count": 10
        }
      ]
    },
    {
      "cell_type": "code",
      "metadata": {
        "id": "HBp0pKkQ-BP2",
        "colab_type": "code",
        "colab": {
          "base_uri": "https://localhost:8080/",
          "height": 275
        },
        "outputId": "77649a2d-be94-4348-c0b9-2cab34604650"
      },
      "source": [
        "entities.head()"
      ],
      "execution_count": 11,
      "outputs": [
        {
          "output_type": "execute_result",
          "data": {
            "text/html": [
              "<div>\n",
              "<style scoped>\n",
              "    .dataframe tbody tr th:only-of-type {\n",
              "        vertical-align: middle;\n",
              "    }\n",
              "\n",
              "    .dataframe tbody tr th {\n",
              "        vertical-align: top;\n",
              "    }\n",
              "\n",
              "    .dataframe thead th {\n",
              "        text-align: right;\n",
              "    }\n",
              "</style>\n",
              "<table border=\"1\" class=\"dataframe\">\n",
              "  <thead>\n",
              "    <tr style=\"text-align: right;\">\n",
              "      <th></th>\n",
              "      <th>country</th>\n",
              "      <th>alt_5</th>\n",
              "      <th>alternative_1</th>\n",
              "      <th>alternative_2</th>\n",
              "      <th>alternative_3</th>\n",
              "      <th>alternative_4_cdiac</th>\n",
              "      <th>arb1</th>\n",
              "      <th>arb2</th>\n",
              "      <th>arb3</th>\n",
              "      <th>arb4</th>\n",
              "      <th>arb5</th>\n",
              "      <th>arb6</th>\n",
              "      <th>g77_and_oecd_countries</th>\n",
              "      <th>gapminder_list</th>\n",
              "      <th>god_id</th>\n",
              "      <th>gwid</th>\n",
              "      <th>income_groups</th>\n",
              "      <th>is--country</th>\n",
              "      <th>iso3166_1_alpha2</th>\n",
              "      <th>iso3166_1_alpha3</th>\n",
              "      <th>iso3166_1_numeric</th>\n",
              "      <th>iso3166_2</th>\n",
              "      <th>landlocked</th>\n",
              "      <th>latitude</th>\n",
              "      <th>longitude</th>\n",
              "      <th>main_religion_2008</th>\n",
              "      <th>name</th>\n",
              "      <th>pandg</th>\n",
              "      <th>un_state</th>\n",
              "      <th>unicode_region_subtag</th>\n",
              "      <th>upper_case_name</th>\n",
              "      <th>world_4region</th>\n",
              "      <th>world_6region</th>\n",
              "    </tr>\n",
              "  </thead>\n",
              "  <tbody>\n",
              "    <tr>\n",
              "      <th>0</th>\n",
              "      <td>abkh</td>\n",
              "      <td>NaN</td>\n",
              "      <td>NaN</td>\n",
              "      <td>NaN</td>\n",
              "      <td>NaN</td>\n",
              "      <td>NaN</td>\n",
              "      <td>NaN</td>\n",
              "      <td>NaN</td>\n",
              "      <td>NaN</td>\n",
              "      <td>NaN</td>\n",
              "      <td>NaN</td>\n",
              "      <td>NaN</td>\n",
              "      <td>others</td>\n",
              "      <td>Abkhazia</td>\n",
              "      <td>GE-AB</td>\n",
              "      <td>i0</td>\n",
              "      <td>NaN</td>\n",
              "      <td>True</td>\n",
              "      <td>NaN</td>\n",
              "      <td>NaN</td>\n",
              "      <td>NaN</td>\n",
              "      <td>NaN</td>\n",
              "      <td>NaN</td>\n",
              "      <td>NaN</td>\n",
              "      <td>NaN</td>\n",
              "      <td>NaN</td>\n",
              "      <td>Abkhazia</td>\n",
              "      <td>NaN</td>\n",
              "      <td>False</td>\n",
              "      <td>NaN</td>\n",
              "      <td>NaN</td>\n",
              "      <td>europe</td>\n",
              "      <td>europe_central_asia</td>\n",
              "    </tr>\n",
              "    <tr>\n",
              "      <th>1</th>\n",
              "      <td>abw</td>\n",
              "      <td>NaN</td>\n",
              "      <td>NaN</td>\n",
              "      <td>NaN</td>\n",
              "      <td>NaN</td>\n",
              "      <td>Aruba</td>\n",
              "      <td>NaN</td>\n",
              "      <td>NaN</td>\n",
              "      <td>NaN</td>\n",
              "      <td>NaN</td>\n",
              "      <td>NaN</td>\n",
              "      <td>NaN</td>\n",
              "      <td>others</td>\n",
              "      <td>Aruba</td>\n",
              "      <td>AW</td>\n",
              "      <td>i12</td>\n",
              "      <td>high_income</td>\n",
              "      <td>True</td>\n",
              "      <td>AW</td>\n",
              "      <td>ABW</td>\n",
              "      <td>533.0</td>\n",
              "      <td>NaN</td>\n",
              "      <td>coastline</td>\n",
              "      <td>12.50000</td>\n",
              "      <td>-69.96667</td>\n",
              "      <td>christian</td>\n",
              "      <td>Aruba</td>\n",
              "      <td>NaN</td>\n",
              "      <td>False</td>\n",
              "      <td>AW</td>\n",
              "      <td>ARUBA</td>\n",
              "      <td>americas</td>\n",
              "      <td>america</td>\n",
              "    </tr>\n",
              "    <tr>\n",
              "      <th>2</th>\n",
              "      <td>afg</td>\n",
              "      <td>NaN</td>\n",
              "      <td>Islamic Republic of Afghanistan</td>\n",
              "      <td>NaN</td>\n",
              "      <td>NaN</td>\n",
              "      <td>Afghanistan</td>\n",
              "      <td>NaN</td>\n",
              "      <td>NaN</td>\n",
              "      <td>NaN</td>\n",
              "      <td>NaN</td>\n",
              "      <td>NaN</td>\n",
              "      <td>NaN</td>\n",
              "      <td>g77</td>\n",
              "      <td>Afghanistan</td>\n",
              "      <td>AF</td>\n",
              "      <td>i1</td>\n",
              "      <td>low_income</td>\n",
              "      <td>True</td>\n",
              "      <td>AF</td>\n",
              "      <td>AFG</td>\n",
              "      <td>4.0</td>\n",
              "      <td>NaN</td>\n",
              "      <td>landlocked</td>\n",
              "      <td>33.00000</td>\n",
              "      <td>66.00000</td>\n",
              "      <td>muslim</td>\n",
              "      <td>Afghanistan</td>\n",
              "      <td>AFGHANISTAN</td>\n",
              "      <td>True</td>\n",
              "      <td>AF</td>\n",
              "      <td>AFGHANISTAN</td>\n",
              "      <td>asia</td>\n",
              "      <td>south_asia</td>\n",
              "    </tr>\n",
              "    <tr>\n",
              "      <th>3</th>\n",
              "      <td>ago</td>\n",
              "      <td>NaN</td>\n",
              "      <td>NaN</td>\n",
              "      <td>NaN</td>\n",
              "      <td>NaN</td>\n",
              "      <td>Angola</td>\n",
              "      <td>NaN</td>\n",
              "      <td>NaN</td>\n",
              "      <td>NaN</td>\n",
              "      <td>NaN</td>\n",
              "      <td>NaN</td>\n",
              "      <td>NaN</td>\n",
              "      <td>g77</td>\n",
              "      <td>Angola</td>\n",
              "      <td>AO</td>\n",
              "      <td>i7</td>\n",
              "      <td>upper_middle_income</td>\n",
              "      <td>True</td>\n",
              "      <td>AO</td>\n",
              "      <td>AGO</td>\n",
              "      <td>24.0</td>\n",
              "      <td>NaN</td>\n",
              "      <td>coastline</td>\n",
              "      <td>-12.50000</td>\n",
              "      <td>18.50000</td>\n",
              "      <td>christian</td>\n",
              "      <td>Angola</td>\n",
              "      <td>ANGOLA</td>\n",
              "      <td>True</td>\n",
              "      <td>AO</td>\n",
              "      <td>ANGOLA</td>\n",
              "      <td>africa</td>\n",
              "      <td>sub_saharan_africa</td>\n",
              "    </tr>\n",
              "    <tr>\n",
              "      <th>4</th>\n",
              "      <td>aia</td>\n",
              "      <td>NaN</td>\n",
              "      <td>NaN</td>\n",
              "      <td>NaN</td>\n",
              "      <td>NaN</td>\n",
              "      <td>NaN</td>\n",
              "      <td>NaN</td>\n",
              "      <td>NaN</td>\n",
              "      <td>NaN</td>\n",
              "      <td>NaN</td>\n",
              "      <td>NaN</td>\n",
              "      <td>NaN</td>\n",
              "      <td>others</td>\n",
              "      <td>Anguilla</td>\n",
              "      <td>AI</td>\n",
              "      <td>i8</td>\n",
              "      <td>NaN</td>\n",
              "      <td>True</td>\n",
              "      <td>AI</td>\n",
              "      <td>AIA</td>\n",
              "      <td>660.0</td>\n",
              "      <td>NaN</td>\n",
              "      <td>coastline</td>\n",
              "      <td>18.21667</td>\n",
              "      <td>-63.05000</td>\n",
              "      <td>christian</td>\n",
              "      <td>Anguilla</td>\n",
              "      <td>NaN</td>\n",
              "      <td>False</td>\n",
              "      <td>AI</td>\n",
              "      <td>ANGUILLA</td>\n",
              "      <td>americas</td>\n",
              "      <td>america</td>\n",
              "    </tr>\n",
              "  </tbody>\n",
              "</table>\n",
              "</div>"
            ],
            "text/plain": [
              "  country alt_5  ... world_4region        world_6region\n",
              "0    abkh   NaN  ...        europe  europe_central_asia\n",
              "1     abw   NaN  ...      americas              america\n",
              "2     afg   NaN  ...          asia           south_asia\n",
              "3     ago   NaN  ...        africa   sub_saharan_africa\n",
              "4     aia   NaN  ...      americas              america\n",
              "\n",
              "[5 rows x 33 columns]"
            ]
          },
          "metadata": {
            "tags": []
          },
          "execution_count": 11
        }
      ]
    },
    {
      "cell_type": "code",
      "metadata": {
        "id": "Udt7xCdz-Fdl",
        "colab_type": "code",
        "colab": {
          "base_uri": "https://localhost:8080/",
          "height": 564
        },
        "outputId": "39194b84-1477-42d1-af1d-fa306cd10dd2"
      },
      "source": [
        "concepts.head()"
      ],
      "execution_count": 12,
      "outputs": [
        {
          "output_type": "execute_result",
          "data": {
            "text/html": [
              "<div>\n",
              "<style scoped>\n",
              "    .dataframe tbody tr th:only-of-type {\n",
              "        vertical-align: middle;\n",
              "    }\n",
              "\n",
              "    .dataframe tbody tr th {\n",
              "        vertical-align: top;\n",
              "    }\n",
              "\n",
              "    .dataframe thead th {\n",
              "        text-align: right;\n",
              "    }\n",
              "</style>\n",
              "<table border=\"1\" class=\"dataframe\">\n",
              "  <thead>\n",
              "    <tr style=\"text-align: right;\">\n",
              "      <th></th>\n",
              "      <th>concept</th>\n",
              "      <th>color</th>\n",
              "      <th>concept_type</th>\n",
              "      <th>description</th>\n",
              "      <th>description_long</th>\n",
              "      <th>domain</th>\n",
              "      <th>drill_up</th>\n",
              "      <th>indicator_url</th>\n",
              "      <th>name</th>\n",
              "      <th>name_catalog</th>\n",
              "      <th>name_short</th>\n",
              "      <th>scales</th>\n",
              "      <th>source</th>\n",
              "      <th>source_long</th>\n",
              "      <th>source_url</th>\n",
              "      <th>tags</th>\n",
              "    </tr>\n",
              "  </thead>\n",
              "  <tbody>\n",
              "    <tr>\n",
              "      <th>0</th>\n",
              "      <td>adults_with_hiv_percent_age_15_49</td>\n",
              "      <td>NaN</td>\n",
              "      <td>measure</td>\n",
              "      <td>The estimated percentage of adults aged 15 to ...</td>\n",
              "      <td>NaN</td>\n",
              "      <td>NaN</td>\n",
              "      <td>NaN</td>\n",
              "      <td>NaN</td>\n",
              "      <td>Adults with HIV (%, age 15-49)</td>\n",
              "      <td>Adults with HIV (%, age 15-49)</td>\n",
              "      <td>Adults with HIV</td>\n",
              "      <td>[\"log\", \"linear\"]</td>\n",
              "      <td>NaN</td>\n",
              "      <td>NaN</td>\n",
              "      <td>https://www.gapminder.org/gapminder-world/docu...</td>\n",
              "      <td>hiv</td>\n",
              "    </tr>\n",
              "    <tr>\n",
              "      <th>1</th>\n",
              "      <td>age_at_1st_marriage_women</td>\n",
              "      <td>NaN</td>\n",
              "      <td>measure</td>\n",
              "      <td>The mean age, in years, of first marriage for ...</td>\n",
              "      <td>NaN</td>\n",
              "      <td>NaN</td>\n",
              "      <td>NaN</td>\n",
              "      <td>NaN</td>\n",
              "      <td>Age at 1st marriage (women)</td>\n",
              "      <td>Age at 1st marriage (women)</td>\n",
              "      <td>Age at 1st marriage</td>\n",
              "      <td>[\"linear\", \"log\"]</td>\n",
              "      <td>NaN</td>\n",
              "      <td>NaN</td>\n",
              "      <td>https://www.gapminder.org/data/documentation/g...</td>\n",
              "      <td>population</td>\n",
              "    </tr>\n",
              "    <tr>\n",
              "      <th>2</th>\n",
              "      <td>aged_15_24_employment_rate_percent</td>\n",
              "      <td>NaN</td>\n",
              "      <td>measure</td>\n",
              "      <td>Percentage of total population, age group 15-2...</td>\n",
              "      <td>NaN</td>\n",
              "      <td>NaN</td>\n",
              "      <td>NaN</td>\n",
              "      <td>NaN</td>\n",
              "      <td>Aged 15-24 employment rate (%)</td>\n",
              "      <td>Aged 15-24</td>\n",
              "      <td>Employment rate (%)</td>\n",
              "      <td>[\"linear\", \"log\"]</td>\n",
              "      <td>NaN</td>\n",
              "      <td>NaN</td>\n",
              "      <td>https://www.ilo.org/ilostat/</td>\n",
              "      <td>employment_rate</td>\n",
              "    </tr>\n",
              "    <tr>\n",
              "      <th>3</th>\n",
              "      <td>aged_15_24_unemployment_rate_percent</td>\n",
              "      <td>NaN</td>\n",
              "      <td>measure</td>\n",
              "      <td>Percentage of total population, age group 15-2...</td>\n",
              "      <td>NaN</td>\n",
              "      <td>NaN</td>\n",
              "      <td>NaN</td>\n",
              "      <td>NaN</td>\n",
              "      <td>Aged 15-24 unemployment rate (%)</td>\n",
              "      <td>Aged 15-24</td>\n",
              "      <td>Unemployment rate (%)</td>\n",
              "      <td>[\"linear\", \"log\"]</td>\n",
              "      <td>NaN</td>\n",
              "      <td>NaN</td>\n",
              "      <td>https://www.ilo.org/ilostat/</td>\n",
              "      <td>unemployment</td>\n",
              "    </tr>\n",
              "    <tr>\n",
              "      <th>4</th>\n",
              "      <td>aged_15_64_labour_force_participation_rate_per...</td>\n",
              "      <td>NaN</td>\n",
              "      <td>measure</td>\n",
              "      <td>For age group 15-64, percentage of all labour ...</td>\n",
              "      <td>NaN</td>\n",
              "      <td>NaN</td>\n",
              "      <td>NaN</td>\n",
              "      <td>NaN</td>\n",
              "      <td>Aged 15-64 labour force participation rate (%)</td>\n",
              "      <td>Aged 15-64</td>\n",
              "      <td>Labour force participation rate (%)</td>\n",
              "      <td>[\"linear\", \"log\"]</td>\n",
              "      <td>NaN</td>\n",
              "      <td>NaN</td>\n",
              "      <td>https://www.ilo.org/ilostat/</td>\n",
              "      <td>labour_force_participation</td>\n",
              "    </tr>\n",
              "  </tbody>\n",
              "</table>\n",
              "</div>"
            ],
            "text/plain": [
              "                                             concept  ...                        tags\n",
              "0                  adults_with_hiv_percent_age_15_49  ...                         hiv\n",
              "1                          age_at_1st_marriage_women  ...                  population\n",
              "2                 aged_15_24_employment_rate_percent  ...             employment_rate\n",
              "3               aged_15_24_unemployment_rate_percent  ...                unemployment\n",
              "4  aged_15_64_labour_force_participation_rate_per...  ...  labour_force_participation\n",
              "\n",
              "[5 rows x 16 columns]"
            ]
          },
          "metadata": {
            "tags": []
          },
          "execution_count": 12
        }
      ]
    },
    {
      "cell_type": "markdown",
      "metadata": {
        "id": "tqr2qeRcQyzd",
        "colab_type": "text"
      },
      "source": [
        "## Part Two"
      ]
    },
    {
      "cell_type": "code",
      "metadata": {
        "id": "U33SPpniQ3KZ",
        "colab_type": "code",
        "colab": {}
      },
      "source": [
        "import numpy as np\n",
        "import pandas as pd\n",
        "import seaborn as sns\n",
        "import matplotlib.pyplot as plt\n",
        "%matplotlib inline\n",
        "import altair as alt"
      ],
      "execution_count": 0,
      "outputs": []
    },
    {
      "cell_type": "code",
      "metadata": {
        "colab_type": "code",
        "id": "SM1NlT1ZRcb_",
        "colab": {}
      },
      "source": [
        "income = pd.read_csv('https://raw.githubusercontent.com/open-numbers/ddf--gapminder--systema_globalis/master/ddf--datapoints--income_per_person_gdppercapita_ppp_inflation_adjusted--by--geo--time.csv')"
      ],
      "execution_count": 0,
      "outputs": []
    },
    {
      "cell_type": "code",
      "metadata": {
        "colab_type": "code",
        "id": "qwIrVHVaRccF",
        "colab": {}
      },
      "source": [
        "lifespan = pd.read_csv('https://raw.githubusercontent.com/open-numbers/ddf--gapminder--systema_globalis/master/ddf--datapoints--life_expectancy_years--by--geo--time.csv')"
      ],
      "execution_count": 0,
      "outputs": []
    },
    {
      "cell_type": "code",
      "metadata": {
        "colab_type": "code",
        "id": "4_Vm-UrhRccI",
        "colab": {}
      },
      "source": [
        "population = pd.read_csv('https://raw.githubusercontent.com/open-numbers/ddf--gapminder--systema_globalis/master/ddf--datapoints--population_total--by--geo--time.csv')"
      ],
      "execution_count": 0,
      "outputs": []
    },
    {
      "cell_type": "code",
      "metadata": {
        "colab_type": "code",
        "id": "c0OmiKYmRccJ",
        "colab": {}
      },
      "source": [
        "entities = pd.read_csv('https://raw.githubusercontent.com/open-numbers/ddf--gapminder--systema_globalis/master/ddf--entities--geo--country.csv')"
      ],
      "execution_count": 0,
      "outputs": []
    },
    {
      "cell_type": "code",
      "metadata": {
        "colab_type": "code",
        "outputId": "efbc8b8f-b4c6-4043-c9a3-c4d5ce7daddd",
        "id": "F2G1rSD9RccN",
        "colab": {
          "base_uri": "https://localhost:8080/",
          "height": 34
        }
      },
      "source": [
        "income.shape, lifespan.shape, population.shape, entities.shape"
      ],
      "execution_count": 66,
      "outputs": [
        {
          "output_type": "execute_result",
          "data": {
            "text/plain": [
              "((46513, 3), (44370, 3), (59297, 3), (273, 33))"
            ]
          },
          "metadata": {
            "tags": []
          },
          "execution_count": 66
        }
      ]
    },
    {
      "cell_type": "code",
      "metadata": {
        "colab_type": "code",
        "outputId": "a1c995a9-051d-48be-f1dc-e07a5218a0d1",
        "id": "Tz2Y2Dd_RccQ",
        "colab": {
          "base_uri": "https://localhost:8080/",
          "height": 204
        }
      },
      "source": [
        "income.head()"
      ],
      "execution_count": 58,
      "outputs": [
        {
          "output_type": "execute_result",
          "data": {
            "text/html": [
              "<div>\n",
              "<style scoped>\n",
              "    .dataframe tbody tr th:only-of-type {\n",
              "        vertical-align: middle;\n",
              "    }\n",
              "\n",
              "    .dataframe tbody tr th {\n",
              "        vertical-align: top;\n",
              "    }\n",
              "\n",
              "    .dataframe thead th {\n",
              "        text-align: right;\n",
              "    }\n",
              "</style>\n",
              "<table border=\"1\" class=\"dataframe\">\n",
              "  <thead>\n",
              "    <tr style=\"text-align: right;\">\n",
              "      <th></th>\n",
              "      <th>geo</th>\n",
              "      <th>time</th>\n",
              "      <th>income_per_person_gdppercapita_ppp_inflation_adjusted</th>\n",
              "    </tr>\n",
              "  </thead>\n",
              "  <tbody>\n",
              "    <tr>\n",
              "      <th>0</th>\n",
              "      <td>afg</td>\n",
              "      <td>1800</td>\n",
              "      <td>603</td>\n",
              "    </tr>\n",
              "    <tr>\n",
              "      <th>1</th>\n",
              "      <td>afg</td>\n",
              "      <td>1801</td>\n",
              "      <td>603</td>\n",
              "    </tr>\n",
              "    <tr>\n",
              "      <th>2</th>\n",
              "      <td>afg</td>\n",
              "      <td>1802</td>\n",
              "      <td>603</td>\n",
              "    </tr>\n",
              "    <tr>\n",
              "      <th>3</th>\n",
              "      <td>afg</td>\n",
              "      <td>1803</td>\n",
              "      <td>603</td>\n",
              "    </tr>\n",
              "    <tr>\n",
              "      <th>4</th>\n",
              "      <td>afg</td>\n",
              "      <td>1804</td>\n",
              "      <td>603</td>\n",
              "    </tr>\n",
              "  </tbody>\n",
              "</table>\n",
              "</div>"
            ],
            "text/plain": [
              "   geo  time  income_per_person_gdppercapita_ppp_inflation_adjusted\n",
              "0  afg  1800                                                603    \n",
              "1  afg  1801                                                603    \n",
              "2  afg  1802                                                603    \n",
              "3  afg  1803                                                603    \n",
              "4  afg  1804                                                603    "
            ]
          },
          "metadata": {
            "tags": []
          },
          "execution_count": 58
        }
      ]
    },
    {
      "cell_type": "code",
      "metadata": {
        "colab_type": "code",
        "outputId": "e5476637-4fc3-4472-a3d5-18255852a1be",
        "id": "pVpAaNKpRccR",
        "colab": {
          "base_uri": "https://localhost:8080/",
          "height": 204
        }
      },
      "source": [
        "lifespan.head()"
      ],
      "execution_count": 59,
      "outputs": [
        {
          "output_type": "execute_result",
          "data": {
            "text/html": [
              "<div>\n",
              "<style scoped>\n",
              "    .dataframe tbody tr th:only-of-type {\n",
              "        vertical-align: middle;\n",
              "    }\n",
              "\n",
              "    .dataframe tbody tr th {\n",
              "        vertical-align: top;\n",
              "    }\n",
              "\n",
              "    .dataframe thead th {\n",
              "        text-align: right;\n",
              "    }\n",
              "</style>\n",
              "<table border=\"1\" class=\"dataframe\">\n",
              "  <thead>\n",
              "    <tr style=\"text-align: right;\">\n",
              "      <th></th>\n",
              "      <th>geo</th>\n",
              "      <th>time</th>\n",
              "      <th>life_expectancy_years</th>\n",
              "    </tr>\n",
              "  </thead>\n",
              "  <tbody>\n",
              "    <tr>\n",
              "      <th>0</th>\n",
              "      <td>abw</td>\n",
              "      <td>1800</td>\n",
              "      <td>34.42</td>\n",
              "    </tr>\n",
              "    <tr>\n",
              "      <th>1</th>\n",
              "      <td>abw</td>\n",
              "      <td>1801</td>\n",
              "      <td>34.42</td>\n",
              "    </tr>\n",
              "    <tr>\n",
              "      <th>2</th>\n",
              "      <td>abw</td>\n",
              "      <td>1802</td>\n",
              "      <td>34.42</td>\n",
              "    </tr>\n",
              "    <tr>\n",
              "      <th>3</th>\n",
              "      <td>abw</td>\n",
              "      <td>1803</td>\n",
              "      <td>34.42</td>\n",
              "    </tr>\n",
              "    <tr>\n",
              "      <th>4</th>\n",
              "      <td>abw</td>\n",
              "      <td>1804</td>\n",
              "      <td>34.42</td>\n",
              "    </tr>\n",
              "  </tbody>\n",
              "</table>\n",
              "</div>"
            ],
            "text/plain": [
              "   geo  time  life_expectancy_years\n",
              "0  abw  1800                  34.42\n",
              "1  abw  1801                  34.42\n",
              "2  abw  1802                  34.42\n",
              "3  abw  1803                  34.42\n",
              "4  abw  1804                  34.42"
            ]
          },
          "metadata": {
            "tags": []
          },
          "execution_count": 59
        }
      ]
    },
    {
      "cell_type": "code",
      "metadata": {
        "colab_type": "code",
        "outputId": "d12d45ee-cb1f-4e6b-ee48-c068cf987acf",
        "id": "beuaSGS7RccW",
        "colab": {
          "base_uri": "https://localhost:8080/",
          "height": 204
        }
      },
      "source": [
        "population.head()"
      ],
      "execution_count": 60,
      "outputs": [
        {
          "output_type": "execute_result",
          "data": {
            "text/html": [
              "<div>\n",
              "<style scoped>\n",
              "    .dataframe tbody tr th:only-of-type {\n",
              "        vertical-align: middle;\n",
              "    }\n",
              "\n",
              "    .dataframe tbody tr th {\n",
              "        vertical-align: top;\n",
              "    }\n",
              "\n",
              "    .dataframe thead th {\n",
              "        text-align: right;\n",
              "    }\n",
              "</style>\n",
              "<table border=\"1\" class=\"dataframe\">\n",
              "  <thead>\n",
              "    <tr style=\"text-align: right;\">\n",
              "      <th></th>\n",
              "      <th>geo</th>\n",
              "      <th>time</th>\n",
              "      <th>population_total</th>\n",
              "    </tr>\n",
              "  </thead>\n",
              "  <tbody>\n",
              "    <tr>\n",
              "      <th>0</th>\n",
              "      <td>afg</td>\n",
              "      <td>1800</td>\n",
              "      <td>3280000</td>\n",
              "    </tr>\n",
              "    <tr>\n",
              "      <th>1</th>\n",
              "      <td>afg</td>\n",
              "      <td>1801</td>\n",
              "      <td>3280000</td>\n",
              "    </tr>\n",
              "    <tr>\n",
              "      <th>2</th>\n",
              "      <td>afg</td>\n",
              "      <td>1802</td>\n",
              "      <td>3280000</td>\n",
              "    </tr>\n",
              "    <tr>\n",
              "      <th>3</th>\n",
              "      <td>afg</td>\n",
              "      <td>1803</td>\n",
              "      <td>3280000</td>\n",
              "    </tr>\n",
              "    <tr>\n",
              "      <th>4</th>\n",
              "      <td>afg</td>\n",
              "      <td>1804</td>\n",
              "      <td>3280000</td>\n",
              "    </tr>\n",
              "  </tbody>\n",
              "</table>\n",
              "</div>"
            ],
            "text/plain": [
              "   geo  time  population_total\n",
              "0  afg  1800           3280000\n",
              "1  afg  1801           3280000\n",
              "2  afg  1802           3280000\n",
              "3  afg  1803           3280000\n",
              "4  afg  1804           3280000"
            ]
          },
          "metadata": {
            "tags": []
          },
          "execution_count": 60
        }
      ]
    },
    {
      "cell_type": "code",
      "metadata": {
        "colab_type": "code",
        "outputId": "3f5fab5e-566e-447c-8253-4b6115028456",
        "id": "eEXLY4bfRccX",
        "colab": {
          "base_uri": "https://localhost:8080/",
          "height": 275
        }
      },
      "source": [
        "entities.head()"
      ],
      "execution_count": 96,
      "outputs": [
        {
          "output_type": "execute_result",
          "data": {
            "text/html": [
              "<div>\n",
              "<style scoped>\n",
              "    .dataframe tbody tr th:only-of-type {\n",
              "        vertical-align: middle;\n",
              "    }\n",
              "\n",
              "    .dataframe tbody tr th {\n",
              "        vertical-align: top;\n",
              "    }\n",
              "\n",
              "    .dataframe thead th {\n",
              "        text-align: right;\n",
              "    }\n",
              "</style>\n",
              "<table border=\"1\" class=\"dataframe\">\n",
              "  <thead>\n",
              "    <tr style=\"text-align: right;\">\n",
              "      <th></th>\n",
              "      <th>country</th>\n",
              "      <th>alt_5</th>\n",
              "      <th>alternative_1</th>\n",
              "      <th>alternative_2</th>\n",
              "      <th>alternative_3</th>\n",
              "      <th>alternative_4_cdiac</th>\n",
              "      <th>arb1</th>\n",
              "      <th>arb2</th>\n",
              "      <th>arb3</th>\n",
              "      <th>arb4</th>\n",
              "      <th>arb5</th>\n",
              "      <th>arb6</th>\n",
              "      <th>g77_and_oecd_countries</th>\n",
              "      <th>gapminder_list</th>\n",
              "      <th>god_id</th>\n",
              "      <th>gwid</th>\n",
              "      <th>income_groups</th>\n",
              "      <th>is--country</th>\n",
              "      <th>iso3166_1_alpha2</th>\n",
              "      <th>iso3166_1_alpha3</th>\n",
              "      <th>iso3166_1_numeric</th>\n",
              "      <th>iso3166_2</th>\n",
              "      <th>landlocked</th>\n",
              "      <th>latitude</th>\n",
              "      <th>longitude</th>\n",
              "      <th>main_religion_2008</th>\n",
              "      <th>name</th>\n",
              "      <th>pandg</th>\n",
              "      <th>un_state</th>\n",
              "      <th>unicode_region_subtag</th>\n",
              "      <th>upper_case_name</th>\n",
              "      <th>world_4region</th>\n",
              "      <th>world_6region</th>\n",
              "    </tr>\n",
              "  </thead>\n",
              "  <tbody>\n",
              "    <tr>\n",
              "      <th>0</th>\n",
              "      <td>abkh</td>\n",
              "      <td>NaN</td>\n",
              "      <td>NaN</td>\n",
              "      <td>NaN</td>\n",
              "      <td>NaN</td>\n",
              "      <td>NaN</td>\n",
              "      <td>NaN</td>\n",
              "      <td>NaN</td>\n",
              "      <td>NaN</td>\n",
              "      <td>NaN</td>\n",
              "      <td>NaN</td>\n",
              "      <td>NaN</td>\n",
              "      <td>others</td>\n",
              "      <td>Abkhazia</td>\n",
              "      <td>GE-AB</td>\n",
              "      <td>i0</td>\n",
              "      <td>NaN</td>\n",
              "      <td>True</td>\n",
              "      <td>NaN</td>\n",
              "      <td>NaN</td>\n",
              "      <td>NaN</td>\n",
              "      <td>NaN</td>\n",
              "      <td>NaN</td>\n",
              "      <td>NaN</td>\n",
              "      <td>NaN</td>\n",
              "      <td>NaN</td>\n",
              "      <td>Abkhazia</td>\n",
              "      <td>NaN</td>\n",
              "      <td>False</td>\n",
              "      <td>NaN</td>\n",
              "      <td>NaN</td>\n",
              "      <td>europe</td>\n",
              "      <td>europe_central_asia</td>\n",
              "    </tr>\n",
              "    <tr>\n",
              "      <th>1</th>\n",
              "      <td>abw</td>\n",
              "      <td>NaN</td>\n",
              "      <td>NaN</td>\n",
              "      <td>NaN</td>\n",
              "      <td>NaN</td>\n",
              "      <td>Aruba</td>\n",
              "      <td>NaN</td>\n",
              "      <td>NaN</td>\n",
              "      <td>NaN</td>\n",
              "      <td>NaN</td>\n",
              "      <td>NaN</td>\n",
              "      <td>NaN</td>\n",
              "      <td>others</td>\n",
              "      <td>Aruba</td>\n",
              "      <td>AW</td>\n",
              "      <td>i12</td>\n",
              "      <td>high_income</td>\n",
              "      <td>True</td>\n",
              "      <td>AW</td>\n",
              "      <td>ABW</td>\n",
              "      <td>533.0</td>\n",
              "      <td>NaN</td>\n",
              "      <td>coastline</td>\n",
              "      <td>12.50000</td>\n",
              "      <td>-69.96667</td>\n",
              "      <td>christian</td>\n",
              "      <td>Aruba</td>\n",
              "      <td>NaN</td>\n",
              "      <td>False</td>\n",
              "      <td>AW</td>\n",
              "      <td>ARUBA</td>\n",
              "      <td>americas</td>\n",
              "      <td>america</td>\n",
              "    </tr>\n",
              "    <tr>\n",
              "      <th>2</th>\n",
              "      <td>afg</td>\n",
              "      <td>NaN</td>\n",
              "      <td>Islamic Republic of Afghanistan</td>\n",
              "      <td>NaN</td>\n",
              "      <td>NaN</td>\n",
              "      <td>Afghanistan</td>\n",
              "      <td>NaN</td>\n",
              "      <td>NaN</td>\n",
              "      <td>NaN</td>\n",
              "      <td>NaN</td>\n",
              "      <td>NaN</td>\n",
              "      <td>NaN</td>\n",
              "      <td>g77</td>\n",
              "      <td>Afghanistan</td>\n",
              "      <td>AF</td>\n",
              "      <td>i1</td>\n",
              "      <td>low_income</td>\n",
              "      <td>True</td>\n",
              "      <td>AF</td>\n",
              "      <td>AFG</td>\n",
              "      <td>4.0</td>\n",
              "      <td>NaN</td>\n",
              "      <td>landlocked</td>\n",
              "      <td>33.00000</td>\n",
              "      <td>66.00000</td>\n",
              "      <td>muslim</td>\n",
              "      <td>Afghanistan</td>\n",
              "      <td>AFGHANISTAN</td>\n",
              "      <td>True</td>\n",
              "      <td>AF</td>\n",
              "      <td>AFGHANISTAN</td>\n",
              "      <td>asia</td>\n",
              "      <td>south_asia</td>\n",
              "    </tr>\n",
              "    <tr>\n",
              "      <th>3</th>\n",
              "      <td>ago</td>\n",
              "      <td>NaN</td>\n",
              "      <td>NaN</td>\n",
              "      <td>NaN</td>\n",
              "      <td>NaN</td>\n",
              "      <td>Angola</td>\n",
              "      <td>NaN</td>\n",
              "      <td>NaN</td>\n",
              "      <td>NaN</td>\n",
              "      <td>NaN</td>\n",
              "      <td>NaN</td>\n",
              "      <td>NaN</td>\n",
              "      <td>g77</td>\n",
              "      <td>Angola</td>\n",
              "      <td>AO</td>\n",
              "      <td>i7</td>\n",
              "      <td>upper_middle_income</td>\n",
              "      <td>True</td>\n",
              "      <td>AO</td>\n",
              "      <td>AGO</td>\n",
              "      <td>24.0</td>\n",
              "      <td>NaN</td>\n",
              "      <td>coastline</td>\n",
              "      <td>-12.50000</td>\n",
              "      <td>18.50000</td>\n",
              "      <td>christian</td>\n",
              "      <td>Angola</td>\n",
              "      <td>ANGOLA</td>\n",
              "      <td>True</td>\n",
              "      <td>AO</td>\n",
              "      <td>ANGOLA</td>\n",
              "      <td>africa</td>\n",
              "      <td>sub_saharan_africa</td>\n",
              "    </tr>\n",
              "    <tr>\n",
              "      <th>4</th>\n",
              "      <td>aia</td>\n",
              "      <td>NaN</td>\n",
              "      <td>NaN</td>\n",
              "      <td>NaN</td>\n",
              "      <td>NaN</td>\n",
              "      <td>NaN</td>\n",
              "      <td>NaN</td>\n",
              "      <td>NaN</td>\n",
              "      <td>NaN</td>\n",
              "      <td>NaN</td>\n",
              "      <td>NaN</td>\n",
              "      <td>NaN</td>\n",
              "      <td>others</td>\n",
              "      <td>Anguilla</td>\n",
              "      <td>AI</td>\n",
              "      <td>i8</td>\n",
              "      <td>NaN</td>\n",
              "      <td>True</td>\n",
              "      <td>AI</td>\n",
              "      <td>AIA</td>\n",
              "      <td>660.0</td>\n",
              "      <td>NaN</td>\n",
              "      <td>coastline</td>\n",
              "      <td>18.21667</td>\n",
              "      <td>-63.05000</td>\n",
              "      <td>christian</td>\n",
              "      <td>Anguilla</td>\n",
              "      <td>NaN</td>\n",
              "      <td>False</td>\n",
              "      <td>AI</td>\n",
              "      <td>ANGUILLA</td>\n",
              "      <td>americas</td>\n",
              "      <td>america</td>\n",
              "    </tr>\n",
              "  </tbody>\n",
              "</table>\n",
              "</div>"
            ],
            "text/plain": [
              "  country alt_5  ... world_4region        world_6region\n",
              "0    abkh   NaN  ...        europe  europe_central_asia\n",
              "1     abw   NaN  ...      americas              america\n",
              "2     afg   NaN  ...          asia           south_asia\n",
              "3     ago   NaN  ...        africa   sub_saharan_africa\n",
              "4     aia   NaN  ...      americas              america\n",
              "\n",
              "[5 rows x 33 columns]"
            ]
          },
          "metadata": {
            "tags": []
          },
          "execution_count": 96
        }
      ]
    },
    {
      "cell_type": "code",
      "metadata": {
        "id": "WARjJ9GOSiJW",
        "colab_type": "code",
        "colab": {
          "base_uri": "https://localhost:8080/",
          "height": 34
        },
        "outputId": "44af4341-472d-40aa-9df4-01748b714ba2"
      },
      "source": [
        "entities.shape"
      ],
      "execution_count": 92,
      "outputs": [
        {
          "output_type": "execute_result",
          "data": {
            "text/plain": [
              "(273, 33)"
            ]
          },
          "metadata": {
            "tags": []
          },
          "execution_count": 92
        }
      ]
    },
    {
      "cell_type": "code",
      "metadata": {
        "id": "ISTzTIlTSAS1",
        "colab_type": "code",
        "colab": {
          "base_uri": "https://localhost:8080/",
          "height": 34
        },
        "outputId": "42c173b2-830b-4c25-f059-226b2abe2dcf"
      },
      "source": [
        "entities.main_religion_2008.isna().sum()"
      ],
      "execution_count": 93,
      "outputs": [
        {
          "output_type": "execute_result",
          "data": {
            "text/plain": [
              "57"
            ]
          },
          "metadata": {
            "tags": []
          },
          "execution_count": 93
        }
      ]
    },
    {
      "cell_type": "code",
      "metadata": {
        "id": "t9rDRlMzUOlA",
        "colab_type": "code",
        "colab": {}
      },
      "source": [
        "entities = entities[~entities['main_religion_2008'].isna()]"
      ],
      "execution_count": 0,
      "outputs": []
    },
    {
      "cell_type": "code",
      "metadata": {
        "id": "RSQenRO7U8c0",
        "colab_type": "code",
        "colab": {
          "base_uri": "https://localhost:8080/",
          "height": 34
        },
        "outputId": "8bbe05cb-a756-4815-9ef0-a556862f3c49"
      },
      "source": [
        "entities.shape"
      ],
      "execution_count": 99,
      "outputs": [
        {
          "output_type": "execute_result",
          "data": {
            "text/plain": [
              "(216, 33)"
            ]
          },
          "metadata": {
            "tags": []
          },
          "execution_count": 99
        }
      ]
    },
    {
      "cell_type": "code",
      "metadata": {
        "id": "_5AL08ycU_KO",
        "colab_type": "code",
        "colab": {
          "base_uri": "https://localhost:8080/",
          "height": 204
        },
        "outputId": "4aa5b02b-2735-4286-ff57-98c7a9974f3a"
      },
      "source": [
        "merged.head()"
      ],
      "execution_count": 100,
      "outputs": [
        {
          "output_type": "execute_result",
          "data": {
            "text/html": [
              "<div>\n",
              "<style scoped>\n",
              "    .dataframe tbody tr th:only-of-type {\n",
              "        vertical-align: middle;\n",
              "    }\n",
              "\n",
              "    .dataframe tbody tr th {\n",
              "        vertical-align: top;\n",
              "    }\n",
              "\n",
              "    .dataframe thead th {\n",
              "        text-align: right;\n",
              "    }\n",
              "</style>\n",
              "<table border=\"1\" class=\"dataframe\">\n",
              "  <thead>\n",
              "    <tr style=\"text-align: right;\">\n",
              "      <th></th>\n",
              "      <th>geo</th>\n",
              "      <th>time</th>\n",
              "      <th>income_per_person_gdppercapita_ppp_inflation_adjusted</th>\n",
              "      <th>life_expectancy_years</th>\n",
              "    </tr>\n",
              "  </thead>\n",
              "  <tbody>\n",
              "    <tr>\n",
              "      <th>0</th>\n",
              "      <td>afg</td>\n",
              "      <td>1800</td>\n",
              "      <td>603</td>\n",
              "      <td>28.21</td>\n",
              "    </tr>\n",
              "    <tr>\n",
              "      <th>1</th>\n",
              "      <td>afg</td>\n",
              "      <td>1801</td>\n",
              "      <td>603</td>\n",
              "      <td>28.20</td>\n",
              "    </tr>\n",
              "    <tr>\n",
              "      <th>2</th>\n",
              "      <td>afg</td>\n",
              "      <td>1802</td>\n",
              "      <td>603</td>\n",
              "      <td>28.19</td>\n",
              "    </tr>\n",
              "    <tr>\n",
              "      <th>3</th>\n",
              "      <td>afg</td>\n",
              "      <td>1803</td>\n",
              "      <td>603</td>\n",
              "      <td>28.18</td>\n",
              "    </tr>\n",
              "    <tr>\n",
              "      <th>4</th>\n",
              "      <td>afg</td>\n",
              "      <td>1804</td>\n",
              "      <td>603</td>\n",
              "      <td>28.17</td>\n",
              "    </tr>\n",
              "  </tbody>\n",
              "</table>\n",
              "</div>"
            ],
            "text/plain": [
              "   geo  ...  life_expectancy_years\n",
              "0  afg  ...                  28.21\n",
              "1  afg  ...                  28.20\n",
              "2  afg  ...                  28.19\n",
              "3  afg  ...                  28.18\n",
              "4  afg  ...                  28.17\n",
              "\n",
              "[5 rows x 4 columns]"
            ]
          },
          "metadata": {
            "tags": []
          },
          "execution_count": 100
        }
      ]
    },
    {
      "cell_type": "code",
      "metadata": {
        "id": "jbJHUmg0XTnu",
        "colab_type": "code",
        "colab": {
          "base_uri": "https://localhost:8080/",
          "height": 204
        },
        "outputId": "3ac77160-743d-4415-b6ea-2b9c8bef4312"
      },
      "source": [
        "final = pd.merge(merged, entities[['country', 'main_religion_2008']], how='inner', left_on='geo', right_on='country')\n",
        "final.head()"
      ],
      "execution_count": 108,
      "outputs": [
        {
          "output_type": "execute_result",
          "data": {
            "text/html": [
              "<div>\n",
              "<style scoped>\n",
              "    .dataframe tbody tr th:only-of-type {\n",
              "        vertical-align: middle;\n",
              "    }\n",
              "\n",
              "    .dataframe tbody tr th {\n",
              "        vertical-align: top;\n",
              "    }\n",
              "\n",
              "    .dataframe thead th {\n",
              "        text-align: right;\n",
              "    }\n",
              "</style>\n",
              "<table border=\"1\" class=\"dataframe\">\n",
              "  <thead>\n",
              "    <tr style=\"text-align: right;\">\n",
              "      <th></th>\n",
              "      <th>geo</th>\n",
              "      <th>time</th>\n",
              "      <th>income_per_person_gdppercapita_ppp_inflation_adjusted</th>\n",
              "      <th>life_expectancy_years</th>\n",
              "      <th>country</th>\n",
              "      <th>main_religion_2008</th>\n",
              "    </tr>\n",
              "  </thead>\n",
              "  <tbody>\n",
              "    <tr>\n",
              "      <th>0</th>\n",
              "      <td>afg</td>\n",
              "      <td>1800</td>\n",
              "      <td>603</td>\n",
              "      <td>28.21</td>\n",
              "      <td>afg</td>\n",
              "      <td>muslim</td>\n",
              "    </tr>\n",
              "    <tr>\n",
              "      <th>1</th>\n",
              "      <td>afg</td>\n",
              "      <td>1801</td>\n",
              "      <td>603</td>\n",
              "      <td>28.20</td>\n",
              "      <td>afg</td>\n",
              "      <td>muslim</td>\n",
              "    </tr>\n",
              "    <tr>\n",
              "      <th>2</th>\n",
              "      <td>afg</td>\n",
              "      <td>1802</td>\n",
              "      <td>603</td>\n",
              "      <td>28.19</td>\n",
              "      <td>afg</td>\n",
              "      <td>muslim</td>\n",
              "    </tr>\n",
              "    <tr>\n",
              "      <th>3</th>\n",
              "      <td>afg</td>\n",
              "      <td>1803</td>\n",
              "      <td>603</td>\n",
              "      <td>28.18</td>\n",
              "      <td>afg</td>\n",
              "      <td>muslim</td>\n",
              "    </tr>\n",
              "    <tr>\n",
              "      <th>4</th>\n",
              "      <td>afg</td>\n",
              "      <td>1804</td>\n",
              "      <td>603</td>\n",
              "      <td>28.17</td>\n",
              "      <td>afg</td>\n",
              "      <td>muslim</td>\n",
              "    </tr>\n",
              "  </tbody>\n",
              "</table>\n",
              "</div>"
            ],
            "text/plain": [
              "   geo  time  ...  country  main_religion_2008\n",
              "0  afg  1800  ...      afg              muslim\n",
              "1  afg  1801  ...      afg              muslim\n",
              "2  afg  1802  ...      afg              muslim\n",
              "3  afg  1803  ...      afg              muslim\n",
              "4  afg  1804  ...      afg              muslim\n",
              "\n",
              "[5 rows x 6 columns]"
            ]
          },
          "metadata": {
            "tags": []
          },
          "execution_count": 108
        }
      ]
    },
    {
      "cell_type": "code",
      "metadata": {
        "id": "lWDhK4vObDdW",
        "colab_type": "code",
        "colab": {}
      },
      "source": [
        "final = pd.merge(final, population)"
      ],
      "execution_count": 0,
      "outputs": []
    },
    {
      "cell_type": "code",
      "metadata": {
        "id": "cbsBKmm_fBal",
        "colab_type": "code",
        "colab": {}
      },
      "source": [
        "final = final.rename(columns={'income_per_person_gdppercapita_ppp_inflation_adjusted': 'avg_income/person'})"
      ],
      "execution_count": 0,
      "outputs": []
    },
    {
      "cell_type": "code",
      "metadata": {
        "id": "Hq87KZ_GbzXk",
        "colab_type": "code",
        "colab": {
          "base_uri": "https://localhost:8080/",
          "height": 153
        },
        "outputId": "9babf8d8-a1c4-44bf-a93d-b869fe67a7d0"
      },
      "source": [
        "final.isna().sum()"
      ],
      "execution_count": 137,
      "outputs": [
        {
          "output_type": "execute_result",
          "data": {
            "text/plain": [
              "geo                      0\n",
              "time                     0\n",
              "avg_income/person        0\n",
              "life_expectancy_years    0\n",
              "country                  0\n",
              "main_religion_2008       0\n",
              "population_total         0\n",
              "dtype: int64"
            ]
          },
          "metadata": {
            "tags": []
          },
          "execution_count": 137
        }
      ]
    },
    {
      "cell_type": "code",
      "metadata": {
        "id": "ghwcS7lucwG_",
        "colab_type": "code",
        "colab": {
          "base_uri": "https://localhost:8080/",
          "height": 204
        },
        "outputId": "1b569dd4-0708-43f5-e78d-eec13a019919"
      },
      "source": [
        "final[final['time']==1800].head()"
      ],
      "execution_count": 138,
      "outputs": [
        {
          "output_type": "execute_result",
          "data": {
            "text/html": [
              "<div>\n",
              "<style scoped>\n",
              "    .dataframe tbody tr th:only-of-type {\n",
              "        vertical-align: middle;\n",
              "    }\n",
              "\n",
              "    .dataframe tbody tr th {\n",
              "        vertical-align: top;\n",
              "    }\n",
              "\n",
              "    .dataframe thead th {\n",
              "        text-align: right;\n",
              "    }\n",
              "</style>\n",
              "<table border=\"1\" class=\"dataframe\">\n",
              "  <thead>\n",
              "    <tr style=\"text-align: right;\">\n",
              "      <th></th>\n",
              "      <th>geo</th>\n",
              "      <th>time</th>\n",
              "      <th>avg_income/person</th>\n",
              "      <th>life_expectancy_years</th>\n",
              "      <th>country</th>\n",
              "      <th>main_religion_2008</th>\n",
              "      <th>population_total</th>\n",
              "    </tr>\n",
              "  </thead>\n",
              "  <tbody>\n",
              "    <tr>\n",
              "      <th>0</th>\n",
              "      <td>afg</td>\n",
              "      <td>1800</td>\n",
              "      <td>603</td>\n",
              "      <td>28.21</td>\n",
              "      <td>afg</td>\n",
              "      <td>muslim</td>\n",
              "      <td>3280000</td>\n",
              "    </tr>\n",
              "    <tr>\n",
              "      <th>219</th>\n",
              "      <td>ago</td>\n",
              "      <td>1800</td>\n",
              "      <td>618</td>\n",
              "      <td>26.98</td>\n",
              "      <td>ago</td>\n",
              "      <td>christian</td>\n",
              "      <td>1567028</td>\n",
              "    </tr>\n",
              "    <tr>\n",
              "      <th>438</th>\n",
              "      <td>alb</td>\n",
              "      <td>1800</td>\n",
              "      <td>667</td>\n",
              "      <td>35.40</td>\n",
              "      <td>alb</td>\n",
              "      <td>muslim</td>\n",
              "      <td>410445</td>\n",
              "    </tr>\n",
              "    <tr>\n",
              "      <th>704</th>\n",
              "      <td>are</td>\n",
              "      <td>1800</td>\n",
              "      <td>998</td>\n",
              "      <td>30.70</td>\n",
              "      <td>are</td>\n",
              "      <td>muslim</td>\n",
              "      <td>40153</td>\n",
              "    </tr>\n",
              "    <tr>\n",
              "      <th>923</th>\n",
              "      <td>arg</td>\n",
              "      <td>1800</td>\n",
              "      <td>1507</td>\n",
              "      <td>33.20</td>\n",
              "      <td>arg</td>\n",
              "      <td>christian</td>\n",
              "      <td>534000</td>\n",
              "    </tr>\n",
              "  </tbody>\n",
              "</table>\n",
              "</div>"
            ],
            "text/plain": [
              "     geo  time  avg_income/person  ...  country main_religion_2008 population_total\n",
              "0    afg  1800                603  ...      afg             muslim          3280000\n",
              "219  ago  1800                618  ...      ago          christian          1567028\n",
              "438  alb  1800                667  ...      alb             muslim           410445\n",
              "704  are  1800                998  ...      are             muslim            40153\n",
              "923  arg  1800               1507  ...      arg          christian           534000\n",
              "\n",
              "[5 rows x 7 columns]"
            ]
          },
          "metadata": {
            "tags": []
          },
          "execution_count": 138
        }
      ]
    },
    {
      "cell_type": "code",
      "metadata": {
        "id": "UEBfFEy3Xx6O",
        "colab_type": "code",
        "colab": {
          "base_uri": "https://localhost:8080/",
          "height": 468
        },
        "outputId": "297f8e3c-a162-4d5f-8132-46deea6a9245"
      },
      "source": [
        "brush = alt.selection(type='interval')\n",
        "base = alt.Chart(final[final['time']==1800]).mark_point().encode(\n",
        "    y='life_expectancy_years',\n",
        "    x='avg_income/person',\n",
        "    size='population_total',\n",
        "    tooltip=['geo', 'avg_income/person', 'main_religion_2008', 'population_total'],\n",
        "    color=alt.condition(brush, 'main_religion_2008', alt.ColorValue('gray'))\n",
        ").add_selection(brush).properties(width=400,height=400)\n",
        "base.encode(x='avg_income/person')"
      ],
      "execution_count": 206,
      "outputs": [
        {
          "output_type": "execute_result",
          "data": {
            "text/plain": [
              "alt.Chart(...)"
            ],
            "text/html": [
              "<!DOCTYPE html>\n",
              "<html>\n",
              "<head>\n",
              "  <style>\n",
              "    .vega-actions a {\n",
              "        margin-right: 12px;\n",
              "        color: #757575;\n",
              "        font-weight: normal;\n",
              "        font-size: 13px;\n",
              "    }\n",
              "    .error {\n",
              "        color: red;\n",
              "    }\n",
              "  </style>\n",
              "  <script type=\"text/javascript\" src=\"https://cdn.jsdelivr.net/npm//vega@5\"></script>\n",
              "  <script type=\"text/javascript\" src=\"https://cdn.jsdelivr.net/npm//vega-lite@3.4.0\"></script>\n",
              "  <script type=\"text/javascript\" src=\"https://cdn.jsdelivr.net/npm//vega-embed@4\"></script>\n",
              "</head>\n",
              "<body>\n",
              "  <div id=\"altair-viz\"></div>\n",
              "  <script>\n",
              "    (function(vegaEmbed) {\n",
              "      var spec = {\"config\": {\"view\": {\"width\": 400, \"height\": 300}, \"mark\": {\"tooltip\": null}}, \"data\": {\"name\": \"data-52272495e4b0c903b0f87568d353eca4\"}, \"mark\": \"point\", \"encoding\": {\"color\": {\"condition\": {\"type\": \"nominal\", \"field\": \"main_religion_2008\", \"selection\": \"selector060\"}, \"value\": \"gray\"}, \"size\": {\"type\": \"quantitative\", \"field\": \"population_total\"}, \"tooltip\": [{\"type\": \"nominal\", \"field\": \"geo\"}, {\"type\": \"quantitative\", \"field\": \"avg_income/person\"}, {\"type\": \"nominal\", \"field\": \"main_religion_2008\"}, {\"type\": \"quantitative\", \"field\": \"population_total\"}], \"x\": {\"type\": \"quantitative\", \"field\": \"avg_income/person\"}, \"y\": {\"type\": \"quantitative\", \"field\": \"life_expectancy_years\"}}, \"height\": 400, \"selection\": {\"selector060\": {\"type\": \"interval\"}}, \"width\": 400, \"$schema\": \"https://vega.github.io/schema/vega-lite/v3.4.0.json\", \"datasets\": {\"data-52272495e4b0c903b0f87568d353eca4\": [{\"geo\": \"afg\", \"time\": 1800, \"avg_income/person\": 603, \"life_expectancy_years\": 28.21, \"country\": \"afg\", \"main_religion_2008\": \"muslim\", \"population_total\": 3280000}, {\"geo\": \"ago\", \"time\": 1800, \"avg_income/person\": 618, \"life_expectancy_years\": 26.98, \"country\": \"ago\", \"main_religion_2008\": \"christian\", \"population_total\": 1567028}, {\"geo\": \"alb\", \"time\": 1800, \"avg_income/person\": 667, \"life_expectancy_years\": 35.4, \"country\": \"alb\", \"main_religion_2008\": \"muslim\", \"population_total\": 410445}, {\"geo\": \"are\", \"time\": 1800, \"avg_income/person\": 998, \"life_expectancy_years\": 30.7, \"country\": \"are\", \"main_religion_2008\": \"muslim\", \"population_total\": 40153}, {\"geo\": \"arg\", \"time\": 1800, \"avg_income/person\": 1507, \"life_expectancy_years\": 33.2, \"country\": \"arg\", \"main_religion_2008\": \"christian\", \"population_total\": 534000}, {\"geo\": \"arm\", \"time\": 1800, \"avg_income/person\": 514, \"life_expectancy_years\": 34.0, \"country\": \"arm\", \"main_religion_2008\": \"christian\", \"population_total\": 413326}, {\"geo\": \"atg\", \"time\": 1800, \"avg_income/person\": 757, \"life_expectancy_years\": 33.54, \"country\": \"atg\", \"main_religion_2008\": \"christian\", \"population_total\": 37000}, {\"geo\": \"aus\", \"time\": 1800, \"avg_income/person\": 814, \"life_expectancy_years\": 34.05, \"country\": \"aus\", \"main_religion_2008\": \"christian\", \"population_total\": 351014}, {\"geo\": \"aut\", \"time\": 1800, \"avg_income/person\": 1847, \"life_expectancy_years\": 34.4, \"country\": \"aut\", \"main_religion_2008\": \"christian\", \"population_total\": 3205587}, {\"geo\": \"aze\", \"time\": 1800, \"avg_income/person\": 775, \"life_expectancy_years\": 29.17, \"country\": \"aze\", \"main_religion_2008\": \"muslim\", \"population_total\": 879960}, {\"geo\": \"bdi\", \"time\": 1800, \"avg_income/person\": 418, \"life_expectancy_years\": 31.5, \"country\": \"bdi\", \"main_religion_2008\": \"christian\", \"population_total\": 899097}, {\"geo\": \"bel\", \"time\": 1800, \"avg_income/person\": 2411, \"life_expectancy_years\": 40.0, \"country\": \"bel\", \"main_religion_2008\": \"christian\", \"population_total\": 3138137}, {\"geo\": \"bfa\", \"time\": 1800, \"avg_income/person\": 480, \"life_expectancy_years\": 29.2, \"country\": \"bfa\", \"main_religion_2008\": \"muslim\", \"population_total\": 1665421}, {\"geo\": \"bgd\", \"time\": 1800, \"avg_income/person\": 876, \"life_expectancy_years\": 25.5, \"country\": \"bgd\", \"main_religion_2008\": \"muslim\", \"population_total\": 19227358}, {\"geo\": \"bgr\", \"time\": 1800, \"avg_income/person\": 1088, \"life_expectancy_years\": 35.8, \"country\": \"bgr\", \"main_religion_2008\": \"christian\", \"population_total\": 1992320}, {\"geo\": \"bhr\", \"time\": 1800, \"avg_income/person\": 1235, \"life_expectancy_years\": 30.3, \"country\": \"bhr\", \"main_religion_2008\": \"muslim\", \"population_total\": 64474}, {\"geo\": \"bhs\", \"time\": 1800, \"avg_income/person\": 1445, \"life_expectancy_years\": 35.18, \"country\": \"bhs\", \"main_religion_2008\": \"christian\", \"population_total\": 27350}, {\"geo\": \"blr\", \"time\": 1800, \"avg_income/person\": 608, \"life_expectancy_years\": 36.2, \"country\": \"blr\", \"main_religion_2008\": \"christian\", \"population_total\": 2355081}, {\"geo\": \"blz\", \"time\": 1800, \"avg_income/person\": 579, \"life_expectancy_years\": 26.5, \"country\": \"blz\", \"main_religion_2008\": \"christian\", \"population_total\": 25526}, {\"geo\": \"bol\", \"time\": 1800, \"avg_income/person\": 854, \"life_expectancy_years\": 33.0, \"country\": \"bol\", \"main_religion_2008\": \"christian\", \"population_total\": 1100000}, {\"geo\": \"bra\", \"time\": 1800, \"avg_income/person\": 1108, \"life_expectancy_years\": 32.0, \"country\": \"bra\", \"main_religion_2008\": \"christian\", \"population_total\": 3639636}, {\"geo\": \"brb\", \"time\": 1800, \"avg_income/person\": 913, \"life_expectancy_years\": 32.12, \"country\": \"brb\", \"main_religion_2008\": \"christian\", \"population_total\": 81729}, {\"geo\": \"brn\", \"time\": 1800, \"avg_income/person\": 1512, \"life_expectancy_years\": 29.2, \"country\": \"brn\", \"main_religion_2008\": \"muslim\", \"population_total\": 2128}, {\"geo\": \"btn\", \"time\": 1800, \"avg_income/person\": 629, \"life_expectancy_years\": 28.8, \"country\": \"btn\", \"main_religion_2008\": \"eastern_religions\", \"population_total\": 89989}, {\"geo\": \"bwa\", \"time\": 1800, \"avg_income/person\": 397, \"life_expectancy_years\": 33.6, \"country\": \"bwa\", \"main_religion_2008\": \"christian\", \"population_total\": 121000}, {\"geo\": \"can\", \"time\": 1800, \"avg_income/person\": 1313, \"life_expectancy_years\": 39.0, \"country\": \"can\", \"main_religion_2008\": \"christian\", \"population_total\": 645526}, {\"geo\": \"che\", \"time\": 1800, \"avg_income/person\": 2700, \"life_expectancy_years\": 38.0, \"country\": \"che\", \"main_religion_2008\": \"christian\", \"population_total\": 1826051}, {\"geo\": \"chl\", \"time\": 1800, \"avg_income/person\": 1026, \"life_expectancy_years\": 32.0, \"country\": \"chl\", \"main_religion_2008\": \"christian\", \"population_total\": 771447}, {\"geo\": \"chn\", \"time\": 1800, \"avg_income/person\": 984, \"life_expectancy_years\": 32.0, \"country\": \"chn\", \"main_religion_2008\": \"eastern_religions\", \"population_total\": 321675013}, {\"geo\": \"cmr\", \"time\": 1800, \"avg_income/person\": 626, \"life_expectancy_years\": 28.75, \"country\": \"cmr\", \"main_religion_2008\": \"christian\", \"population_total\": 1860054}, {\"geo\": \"cod\", \"time\": 1800, \"avg_income/person\": 485, \"life_expectancy_years\": 31.6, \"country\": \"cod\", \"main_religion_2008\": \"christian\", \"population_total\": 5163819}, {\"geo\": \"cog\", \"time\": 1800, \"avg_income/person\": 575, \"life_expectancy_years\": 32.7, \"country\": \"cog\", \"main_religion_2008\": \"christian\", \"population_total\": 314465}, {\"geo\": \"col\", \"time\": 1800, \"avg_income/person\": 962, \"life_expectancy_years\": 32.0, \"country\": \"col\", \"main_religion_2008\": \"christian\", \"population_total\": 1206000}, {\"geo\": \"com\", \"time\": 1800, \"avg_income/person\": 696, \"life_expectancy_years\": 32.1, \"country\": \"com\", \"main_religion_2008\": \"muslim\", \"population_total\": 56346}, {\"geo\": \"cpv\", \"time\": 1800, \"avg_income/person\": 529, \"life_expectancy_years\": 33.8, \"country\": \"cpv\", \"main_religion_2008\": \"christian\", \"population_total\": 55716}, {\"geo\": \"cri\", \"time\": 1800, \"avg_income/person\": 775, \"life_expectancy_years\": 30.21, \"country\": \"cri\", \"main_religion_2008\": \"christian\", \"population_total\": 51987}, {\"geo\": \"cub\", \"time\": 1800, \"avg_income/person\": 864, \"life_expectancy_years\": 32.2, \"country\": \"cub\", \"main_religion_2008\": \"christian\", \"population_total\": 345043}, {\"geo\": \"cyp\", \"time\": 1800, \"avg_income/person\": 853, \"life_expectancy_years\": 38.5, \"country\": \"cyp\", \"main_religion_2008\": \"christian\", \"population_total\": 184392}, {\"geo\": \"cze\", \"time\": 1800, \"avg_income/person\": 1915, \"life_expectancy_years\": 34.95, \"country\": \"cze\", \"main_religion_2008\": \"christian\", \"population_total\": 5516349}, {\"geo\": \"deu\", \"time\": 1800, \"avg_income/person\": 1639, \"life_expectancy_years\": 38.37, \"country\": \"deu\", \"main_religion_2008\": \"christian\", \"population_total\": 22886919}, {\"geo\": \"dji\", \"time\": 1800, \"avg_income/person\": 752, \"life_expectancy_years\": 29.9, \"country\": \"dji\", \"main_religion_2008\": \"muslim\", \"population_total\": 22848}, {\"geo\": \"dnk\", \"time\": 1800, \"avg_income/person\": 2012, \"life_expectancy_years\": 37.41, \"country\": \"dnk\", \"main_religion_2008\": \"christian\", \"population_total\": 1062514}, {\"geo\": \"dom\", \"time\": 1800, \"avg_income/person\": 667, \"life_expectancy_years\": 29.9, \"country\": \"dom\", \"main_religion_2008\": \"christian\", \"population_total\": 89000}, {\"geo\": \"dza\", \"time\": 1800, \"avg_income/person\": 715, \"life_expectancy_years\": 28.82, \"country\": \"dza\", \"main_religion_2008\": \"muslim\", \"population_total\": 2503218}, {\"geo\": \"ecu\", \"time\": 1800, \"avg_income/person\": 529, \"life_expectancy_years\": 32.9, \"country\": \"ecu\", \"main_religion_2008\": \"christian\", \"population_total\": 500000}, {\"geo\": \"egy\", \"time\": 1800, \"avg_income/person\": 790, \"life_expectancy_years\": 33.0, \"country\": \"egy\", \"main_religion_2008\": \"muslim\", \"population_total\": 4243515}, {\"geo\": \"eri\", \"time\": 1800, \"avg_income/person\": 532, \"life_expectancy_years\": 30.2, \"country\": \"eri\", \"main_religion_2008\": \"muslim\", \"population_total\": 205010}, {\"geo\": \"esp\", \"time\": 1800, \"avg_income/person\": 1517, \"life_expectancy_years\": 29.5, \"country\": \"esp\", \"main_religion_2008\": \"christian\", \"population_total\": 11549294}, {\"geo\": \"est\", \"time\": 1800, \"avg_income/person\": 938, \"life_expectancy_years\": 36.14, \"country\": \"est\", \"main_religion_2008\": \"christian\", \"population_total\": 334136}, {\"geo\": \"eth\", \"time\": 1800, \"avg_income/person\": 523, \"life_expectancy_years\": 29.7, \"country\": \"eth\", \"main_religion_2008\": \"christian\", \"population_total\": 2948990}, {\"geo\": \"fin\", \"time\": 1800, \"avg_income/person\": 1243, \"life_expectancy_years\": 36.57, \"country\": \"fin\", \"main_religion_2008\": \"christian\", \"population_total\": 977662}, {\"geo\": \"fji\", \"time\": 1800, \"avg_income/person\": 785, \"life_expectancy_years\": 26.1, \"country\": \"fji\", \"main_religion_2008\": \"christian\", \"population_total\": 130533}, {\"geo\": \"fra\", \"time\": 1800, \"avg_income/person\": 1802, \"life_expectancy_years\": 33.97, \"country\": \"fra\", \"main_religion_2008\": \"christian\", \"population_total\": 29355111}, {\"geo\": \"fsm\", \"time\": 1800, \"avg_income/person\": 518, \"life_expectancy_years\": 26.7, \"country\": \"fsm\", \"main_religion_2008\": \"christian\", \"population_total\": 16416}, {\"geo\": \"gab\", \"time\": 1800, \"avg_income/person\": 390, \"life_expectancy_years\": 30.6, \"country\": \"gab\", \"main_religion_2008\": \"christian\", \"population_total\": 158227}, {\"geo\": \"gbr\", \"time\": 1800, \"avg_income/person\": 3429, \"life_expectancy_years\": 38.65, \"country\": \"gbr\", \"main_religion_2008\": \"christian\", \"population_total\": 12327466}, {\"geo\": \"geo\", \"time\": 1800, \"avg_income/person\": 543, \"life_expectancy_years\": 31.87, \"country\": \"geo\", \"main_religion_2008\": \"christian\", \"population_total\": 1072178}, {\"geo\": \"gha\", \"time\": 1800, \"avg_income/person\": 696, \"life_expectancy_years\": 28.0, \"country\": \"gha\", \"main_religion_2008\": \"christian\", \"population_total\": 2016034}, {\"geo\": \"gin\", \"time\": 1800, \"avg_income/person\": 450, \"life_expectancy_years\": 29.5, \"country\": \"gin\", \"main_religion_2008\": \"muslim\", \"population_total\": 983959}, {\"geo\": \"gmb\", \"time\": 1800, \"avg_income/person\": 813, \"life_expectancy_years\": 28.8, \"country\": \"gmb\", \"main_religion_2008\": \"muslim\", \"population_total\": 103274}, {\"geo\": \"gnq\", \"time\": 1800, \"avg_income/person\": 356, \"life_expectancy_years\": 29.8, \"country\": \"gnq\", \"main_religion_2008\": \"christian\", \"population_total\": 80377}, {\"geo\": \"grc\", \"time\": 1800, \"avg_income/person\": 1370, \"life_expectancy_years\": 36.6, \"country\": \"grc\", \"main_religion_2008\": \"christian\", \"population_total\": 2151155}, {\"geo\": \"grd\", \"time\": 1800, \"avg_income/person\": 959, \"life_expectancy_years\": 31.4, \"country\": \"grd\", \"main_religion_2008\": \"christian\", \"population_total\": 29409}, {\"geo\": \"gtm\", \"time\": 1800, \"avg_income/person\": 857, \"life_expectancy_years\": 25.8, \"country\": \"gtm\", \"main_religion_2008\": \"christian\", \"population_total\": 458965}, {\"geo\": \"guy\", \"time\": 1800, \"avg_income/person\": 1214, \"life_expectancy_years\": 31.12, \"country\": \"guy\", \"main_religion_2008\": \"christian\", \"population_total\": 166034}, {\"geo\": \"hnd\", \"time\": 1800, \"avg_income/person\": 675, \"life_expectancy_years\": 33.9, \"country\": \"hnd\", \"main_religion_2008\": \"christian\", \"population_total\": 126118}, {\"geo\": \"hrv\", \"time\": 1800, \"avg_income/person\": 1078, \"life_expectancy_years\": 36.1, \"country\": \"hrv\", \"main_religion_2008\": \"christian\", \"population_total\": 1227886}, {\"geo\": \"hti\", \"time\": 1800, \"avg_income/person\": 633, \"life_expectancy_years\": 29.0, \"country\": \"hti\", \"main_religion_2008\": \"christian\", \"population_total\": 723000}, {\"geo\": \"hun\", \"time\": 1800, \"avg_income/person\": 1248, \"life_expectancy_years\": 36.0, \"country\": \"hun\", \"main_religion_2008\": \"christian\", \"population_total\": 3499771}, {\"geo\": \"idn\", \"time\": 1800, \"avg_income/person\": 994, \"life_expectancy_years\": 30.0, \"country\": \"idn\", \"main_religion_2008\": \"muslim\", \"population_total\": 16108545}, {\"geo\": \"ind\", \"time\": 1800, \"avg_income/person\": 1052, \"life_expectancy_years\": 25.44, \"country\": \"ind\", \"main_religion_2008\": \"eastern_religions\", \"population_total\": 168574895}, {\"geo\": \"irl\", \"time\": 1800, \"avg_income/person\": 1446, \"life_expectancy_years\": 38.3, \"country\": \"irl\", \"main_religion_2008\": \"christian\", \"population_total\": 4064749}, {\"geo\": \"irn\", \"time\": 1800, \"avg_income/person\": 976, \"life_expectancy_years\": 25.6, \"country\": \"irn\", \"main_religion_2008\": \"muslim\", \"population_total\": 6269721}, {\"geo\": \"irq\", \"time\": 1800, \"avg_income/person\": 969, \"life_expectancy_years\": 31.2, \"country\": \"irq\", \"main_religion_2008\": \"muslim\", \"population_total\": 1076920}, {\"geo\": \"isl\", \"time\": 1800, \"avg_income/person\": 926, \"life_expectancy_years\": 42.85, \"country\": \"isl\", \"main_religion_2008\": \"christian\", \"population_total\": 61428}, {\"geo\": \"ita\", \"time\": 1800, \"avg_income/person\": 2224, \"life_expectancy_years\": 29.69, \"country\": \"ita\", \"main_religion_2008\": \"christian\", \"population_total\": 18822234}, {\"geo\": \"jam\", \"time\": 1800, \"avg_income/person\": 1170, \"life_expectancy_years\": 34.2, \"country\": \"jam\", \"main_religion_2008\": \"christian\", \"population_total\": 401000}, {\"geo\": \"jor\", \"time\": 1800, \"avg_income/person\": 976, \"life_expectancy_years\": 31.7, \"country\": \"jor\", \"main_religion_2008\": \"muslim\", \"population_total\": 217000}, {\"geo\": \"jpn\", \"time\": 1800, \"avg_income/person\": 1049, \"life_expectancy_years\": 36.4, \"country\": \"jpn\", \"main_religion_2008\": \"eastern_religions\", \"population_total\": 30294378}, {\"geo\": \"kaz\", \"time\": 1800, \"avg_income/person\": 1140, \"life_expectancy_years\": 26.2, \"country\": \"kaz\", \"main_religion_2008\": \"muslim\", \"population_total\": 2041282}, {\"geo\": \"ken\", \"time\": 1800, \"avg_income/person\": 854, \"life_expectancy_years\": 25.5, \"country\": \"ken\", \"main_religion_2008\": \"christian\", \"population_total\": 2574000}, {\"geo\": \"kgz\", \"time\": 1800, \"avg_income/person\": 508, \"life_expectancy_years\": 23.94, \"country\": \"kgz\", \"main_religion_2008\": \"muslim\", \"population_total\": 530343}, {\"geo\": \"khm\", \"time\": 1800, \"avg_income/person\": 903, \"life_expectancy_years\": 35.0, \"country\": \"khm\", \"main_religion_2008\": \"eastern_religions\", \"population_total\": 2090000}, {\"geo\": \"kir\", \"time\": 1800, \"avg_income/person\": 551, \"life_expectancy_years\": 24.9, \"country\": \"kir\", \"main_religion_2008\": \"christian\", \"population_total\": 17876}, {\"geo\": \"kwt\", \"time\": 1800, \"avg_income/person\": 1097, \"life_expectancy_years\": 26.0, \"country\": \"kwt\", \"main_religion_2008\": \"muslim\", \"population_total\": 81280}, {\"geo\": \"lao\", \"time\": 1800, \"avg_income/person\": 864, \"life_expectancy_years\": 31.9, \"country\": \"lao\", \"main_religion_2008\": \"eastern_religions\", \"population_total\": 470000}, {\"geo\": \"lby\", \"time\": 1800, \"avg_income/person\": 1050, \"life_expectancy_years\": 33.1, \"country\": \"lby\", \"main_religion_2008\": \"muslim\", \"population_total\": 531472}, {\"geo\": \"lca\", \"time\": 1800, \"avg_income/person\": 874, \"life_expectancy_years\": 28.01, \"country\": \"lca\", \"main_religion_2008\": \"christian\", \"population_total\": 24000}, {\"geo\": \"lka\", \"time\": 1800, \"avg_income/person\": 898, \"life_expectancy_years\": 32.6, \"country\": \"lka\", \"main_religion_2008\": \"eastern_religions\", \"population_total\": 1213000}, {\"geo\": \"lso\", \"time\": 1800, \"avg_income/person\": 393, \"life_expectancy_years\": 32.8, \"country\": \"lso\", \"main_religion_2008\": \"christian\", \"population_total\": 276361}, {\"geo\": \"ltu\", \"time\": 1800, \"avg_income/person\": 1270, \"life_expectancy_years\": 28.9, \"country\": \"ltu\", \"main_religion_2008\": \"christian\", \"population_total\": 778655}, {\"geo\": \"lux\", \"time\": 1800, \"avg_income/person\": 1453, \"life_expectancy_years\": 36.9, \"country\": \"lux\", \"main_religion_2008\": \"christian\", \"population_total\": 127030}, {\"geo\": \"lva\", \"time\": 1800, \"avg_income/person\": 751, \"life_expectancy_years\": 33.0, \"country\": \"lva\", \"main_religion_2008\": \"christian\", \"population_total\": 590588}, {\"geo\": \"mar\", \"time\": 1800, \"avg_income/person\": 714, \"life_expectancy_years\": 33.1, \"country\": \"mar\", \"main_religion_2008\": \"muslim\", \"population_total\": 2503218}, {\"geo\": \"mda\", \"time\": 1800, \"avg_income/person\": 621, \"life_expectancy_years\": 33.15, \"country\": \"mda\", \"main_religion_2008\": \"christian\", \"population_total\": 712558}, {\"geo\": \"mdv\", \"time\": 1800, \"avg_income/person\": 842, \"life_expectancy_years\": 32.65, \"country\": \"mdv\", \"main_religion_2008\": \"muslim\", \"population_total\": 42378}, {\"geo\": \"mex\", \"time\": 1800, \"avg_income/person\": 1378, \"life_expectancy_years\": 26.9, \"country\": \"mex\", \"main_religion_2008\": \"christian\", \"population_total\": 6181708}, {\"geo\": \"mkd\", \"time\": 1800, \"avg_income/person\": 690, \"life_expectancy_years\": 36.1, \"country\": \"mkd\", \"main_religion_2008\": \"christian\", \"population_total\": 391865}, {\"geo\": \"mli\", \"time\": 1800, \"avg_income/person\": 603, \"life_expectancy_years\": 26.41, \"country\": \"mli\", \"main_religion_2008\": \"muslim\", \"population_total\": 1403398}, {\"geo\": \"mlt\", \"time\": 1800, \"avg_income/person\": 781, \"life_expectancy_years\": 28.7, \"country\": \"mlt\", \"main_religion_2008\": \"christian\", \"population_total\": 134072}, {\"geo\": \"mmr\", \"time\": 1800, \"avg_income/person\": 840, \"life_expectancy_years\": 30.8, \"country\": \"mmr\", \"main_religion_2008\": \"eastern_religions\", \"population_total\": 3506000}, {\"geo\": \"mne\", \"time\": 1800, \"avg_income/person\": 1057, \"life_expectancy_years\": 35.4, \"country\": \"mne\", \"main_religion_2008\": \"christian\", \"population_total\": 126582}, {\"geo\": \"moz\", \"time\": 1800, \"avg_income/person\": 390, \"life_expectancy_years\": 30.28, \"country\": \"moz\", \"main_religion_2008\": \"christian\", \"population_total\": 1982324}, {\"geo\": \"mrt\", \"time\": 1800, \"avg_income/person\": 527, \"life_expectancy_years\": 32.0, \"country\": \"mrt\", \"main_religion_2008\": \"muslim\", \"population_total\": 382696}, {\"geo\": \"mwi\", \"time\": 1800, \"avg_income/person\": 350, \"life_expectancy_years\": 30.3, \"country\": \"mwi\", \"main_religion_2008\": \"christian\", \"population_total\": 737000}, {\"geo\": \"mys\", \"time\": 1800, \"avg_income/person\": 997, \"life_expectancy_years\": 30.6, \"country\": \"mys\", \"main_religion_2008\": \"muslim\", \"population_total\": 287000}, {\"geo\": \"nam\", \"time\": 1800, \"avg_income/person\": 540, \"life_expectancy_years\": 32.4, \"country\": \"nam\", \"main_religion_2008\": \"christian\", \"population_total\": 229000}, {\"geo\": \"ner\", \"time\": 1800, \"avg_income/person\": 446, \"life_expectancy_years\": 30.8, \"country\": \"ner\", \"main_religion_2008\": \"muslim\", \"population_total\": 1244861}, {\"geo\": \"nic\", \"time\": 1800, \"avg_income/person\": 973, \"life_expectancy_years\": 25.4, \"country\": \"nic\", \"main_religion_2008\": \"christian\", \"population_total\": 219387}, {\"geo\": \"nld\", \"time\": 1800, \"avg_income/person\": 4233, \"life_expectancy_years\": 39.86, \"country\": \"nld\", \"main_religion_2008\": \"christian\", \"population_total\": 2254522}, {\"geo\": \"nor\", \"time\": 1800, \"avg_income/person\": 1277, \"life_expectancy_years\": 37.92, \"country\": \"nor\", \"main_religion_2008\": \"christian\", \"population_total\": 868570}, {\"geo\": \"npl\", \"time\": 1800, \"avg_income/person\": 654, \"life_expectancy_years\": 32.8, \"country\": \"npl\", \"main_religion_2008\": \"eastern_religions\", \"population_total\": 3881000}, {\"geo\": \"nzl\", \"time\": 1800, \"avg_income/person\": 658, \"life_expectancy_years\": 34.05, \"country\": \"nzl\", \"main_religion_2008\": \"christian\", \"population_total\": 100000}, {\"geo\": \"omn\", \"time\": 1800, \"avg_income/person\": 915, \"life_expectancy_years\": 32.3, \"country\": \"omn\", \"main_religion_2008\": \"muslim\", \"population_total\": 318000}, {\"geo\": \"pak\", \"time\": 1800, \"avg_income/person\": 1021, \"life_expectancy_years\": 25.8, \"country\": \"pak\", \"main_religion_2008\": \"muslim\", \"population_total\": 13123633}, {\"geo\": \"pan\", \"time\": 1800, \"avg_income/person\": 847, \"life_expectancy_years\": 32.9, \"country\": \"pan\", \"main_religion_2008\": \"christian\", \"population_total\": 78842}, {\"geo\": \"per\", \"time\": 1800, \"avg_income/person\": 1203, \"life_expectancy_years\": 35.7, \"country\": \"per\", \"main_religion_2008\": \"christian\", \"population_total\": 1314151}, {\"geo\": \"phl\", \"time\": 1800, \"avg_income/person\": 962, \"life_expectancy_years\": 30.9, \"country\": \"phl\", \"main_religion_2008\": \"christian\", \"population_total\": 1894389}, {\"geo\": \"png\", \"time\": 1800, \"avg_income/person\": 546, \"life_expectancy_years\": 31.5, \"country\": \"png\", \"main_religion_2008\": \"christian\", \"population_total\": 754894}, {\"geo\": \"pol\", \"time\": 1800, \"avg_income/person\": 1212, \"life_expectancy_years\": 35.9, \"country\": \"pol\", \"main_religion_2008\": \"christian\", \"population_total\": 9508747}, {\"geo\": \"prt\", \"time\": 1800, \"avg_income/person\": 1684, \"life_expectancy_years\": 35.6, \"country\": \"prt\", \"main_religion_2008\": \"christian\", \"population_total\": 3033454}, {\"geo\": \"pry\", \"time\": 1800, \"avg_income/person\": 835, \"life_expectancy_years\": 35.5, \"country\": \"pry\", \"main_religion_2008\": \"christian\", \"population_total\": 143000}, {\"geo\": \"pse\", \"time\": 1800, \"avg_income/person\": 1220, \"life_expectancy_years\": 32.1, \"country\": \"pse\", \"main_religion_2008\": \"muslim\", \"population_total\": 165944}, {\"geo\": \"qat\", \"time\": 1800, \"avg_income/person\": 1097, \"life_expectancy_years\": 30.8, \"country\": \"qat\", \"main_religion_2008\": \"muslim\", \"population_total\": 14092}, {\"geo\": \"rou\", \"time\": 1800, \"avg_income/person\": 815, \"life_expectancy_years\": 35.7, \"country\": \"rou\", \"main_religion_2008\": \"christian\", \"population_total\": 5464085}, {\"geo\": \"rus\", \"time\": 1800, \"avg_income/person\": 1430, \"life_expectancy_years\": 29.57, \"country\": \"rus\", \"main_religion_2008\": \"christian\", \"population_total\": 31088398}, {\"geo\": \"rwa\", \"time\": 1800, \"avg_income/person\": 431, \"life_expectancy_years\": 31.8, \"country\": \"rwa\", \"main_religion_2008\": \"christian\", \"population_total\": 928368}, {\"geo\": \"sau\", \"time\": 1800, \"avg_income/person\": 846, \"life_expectancy_years\": 32.1, \"country\": \"sau\", \"main_religion_2008\": \"muslim\", \"population_total\": 2091000}, {\"geo\": \"sdn\", \"time\": 1800, \"avg_income/person\": 518, \"life_expectancy_years\": 31.4, \"country\": \"sdn\", \"main_religion_2008\": \"muslim\", \"population_total\": 3994154}, {\"geo\": \"sen\", \"time\": 1800, \"avg_income/person\": 497, \"life_expectancy_years\": 25.2, \"country\": \"sen\", \"main_religion_2008\": \"muslim\", \"population_total\": 1009886}, {\"geo\": \"sgp\", \"time\": 1800, \"avg_income/person\": 1021, \"life_expectancy_years\": 29.1, \"country\": \"sgp\", \"main_religion_2008\": \"eastern_religions\", \"population_total\": 30000}, {\"geo\": \"slb\", \"time\": 1800, \"avg_income/person\": 363, \"life_expectancy_years\": 25.1, \"country\": \"slb\", \"main_religion_2008\": \"christian\", \"population_total\": 56998}, {\"geo\": \"slv\", \"time\": 1800, \"avg_income/person\": 974, \"life_expectancy_years\": 28.7, \"country\": \"slv\", \"main_religion_2008\": \"christian\", \"population_total\": 248000}, {\"geo\": \"som\", \"time\": 1800, \"avg_income/person\": 694, \"life_expectancy_years\": 29.4, \"country\": \"som\", \"main_religion_2008\": \"muslim\", \"population_total\": 991488}, {\"geo\": \"srb\", \"time\": 1800, \"avg_income/person\": 1358, \"life_expectancy_years\": 35.5, \"country\": \"srb\", \"main_religion_2008\": \"christian\", \"population_total\": 2147197}, {\"geo\": \"stp\", \"time\": 1800, \"avg_income/person\": 850, \"life_expectancy_years\": 31.0, \"country\": \"stp\", \"main_religion_2008\": \"christian\", \"population_total\": 22731}, {\"geo\": \"sur\", \"time\": 1800, \"avg_income/person\": 1636, \"life_expectancy_years\": 32.9, \"country\": \"sur\", \"main_religion_2008\": \"christian\", \"population_total\": 80721}, {\"geo\": \"svk\", \"time\": 1800, \"avg_income/person\": 1427, \"life_expectancy_years\": 36.4, \"country\": \"svk\", \"main_religion_2008\": \"christian\", \"population_total\": 2140651}, {\"geo\": \"svn\", \"time\": 1800, \"avg_income/person\": 1409, \"life_expectancy_years\": 36.6, \"country\": \"svn\", \"main_religion_2008\": \"christian\", \"population_total\": 469664}, {\"geo\": \"swe\", \"time\": 1800, \"avg_income/person\": 1413, \"life_expectancy_years\": 32.16, \"country\": \"swe\", \"main_religion_2008\": \"christian\", \"population_total\": 2354189}, {\"geo\": \"swz\", \"time\": 1800, \"avg_income/person\": 490, \"life_expectancy_years\": 32.3, \"country\": \"swz\", \"main_religion_2008\": \"christian\", \"population_total\": 86000}, {\"geo\": \"syc\", \"time\": 1800, \"avg_income/person\": 792, \"life_expectancy_years\": 37.0, \"country\": \"syc\", \"main_religion_2008\": \"christian\", \"population_total\": 12522}, {\"geo\": \"syr\", \"time\": 1800, \"avg_income/person\": 1080, \"life_expectancy_years\": 31.1, \"country\": \"syr\", \"main_religion_2008\": \"muslim\", \"population_total\": 1337000}, {\"geo\": \"tcd\", \"time\": 1800, \"avg_income/person\": 418, \"life_expectancy_years\": 30.9, \"country\": \"tcd\", \"main_religion_2008\": \"muslim\", \"population_total\": 1432000}, {\"geo\": \"tha\", \"time\": 1800, \"avg_income/person\": 931, \"life_expectancy_years\": 30.4, \"country\": \"tha\", \"main_religion_2008\": \"eastern_religions\", \"population_total\": 4665000}, {\"geo\": \"tjk\", \"time\": 1800, \"avg_income/person\": 556, \"life_expectancy_years\": 24.24, \"country\": \"tjk\", \"main_religion_2008\": \"muslim\", \"population_total\": 466629}, {\"geo\": \"tkm\", \"time\": 1800, \"avg_income/person\": 943, \"life_expectancy_years\": 24.0, \"country\": \"tkm\", \"main_religion_2008\": \"muslim\", \"population_total\": 367215}, {\"geo\": \"tls\", \"time\": 1800, \"avg_income/person\": 521, \"life_expectancy_years\": 28.95, \"country\": \"tls\", \"main_religion_2008\": \"christian\", \"population_total\": 137262}, {\"geo\": \"ton\", \"time\": 1800, \"avg_income/person\": 663, \"life_expectancy_years\": 28.2, \"country\": \"ton\", \"main_religion_2008\": \"christian\", \"population_total\": 18658}, {\"geo\": \"tto\", \"time\": 1800, \"avg_income/person\": 1230, \"life_expectancy_years\": 32.9, \"country\": \"tto\", \"main_religion_2008\": \"christian\", \"population_total\": 60000}, {\"geo\": \"tun\", \"time\": 1800, \"avg_income/person\": 715, \"life_expectancy_years\": 28.8, \"country\": \"tun\", \"main_religion_2008\": \"muslim\", \"population_total\": 862029}, {\"geo\": \"tur\", \"time\": 1800, \"avg_income/person\": 1221, \"life_expectancy_years\": 35.0, \"country\": \"tur\", \"main_religion_2008\": \"muslim\", \"population_total\": 9773456}, {\"geo\": \"tza\", \"time\": 1800, \"avg_income/person\": 562, \"life_expectancy_years\": 32.2, \"country\": \"tza\", \"main_religion_2008\": \"christian\", \"population_total\": 3019768}, {\"geo\": \"uga\", \"time\": 1800, \"avg_income/person\": 464, \"life_expectancy_years\": 25.3, \"country\": \"uga\", \"main_religion_2008\": \"christian\", \"population_total\": 2101397}, {\"geo\": \"ukr\", \"time\": 1800, \"avg_income/person\": 763, \"life_expectancy_years\": 36.6, \"country\": \"ukr\", \"main_religion_2008\": \"christian\", \"population_total\": 11215490}, {\"geo\": \"ury\", \"time\": 1800, \"avg_income/person\": 1757, \"life_expectancy_years\": 32.9, \"country\": \"ury\", \"main_religion_2008\": \"christian\", \"population_total\": 55000}, {\"geo\": \"usa\", \"time\": 1800, \"avg_income/person\": 2127, \"life_expectancy_years\": 39.41, \"country\": \"usa\", \"main_religion_2008\": \"christian\", \"population_total\": 6801854}, {\"geo\": \"uzb\", \"time\": 1800, \"avg_income/person\": 502, \"life_expectancy_years\": 26.93, \"country\": \"uzb\", \"main_religion_2008\": \"muslim\", \"population_total\": 1919159}, {\"geo\": \"vct\", \"time\": 1800, \"avg_income/person\": 838, \"life_expectancy_years\": 25.99, \"country\": \"vct\", \"main_religion_2008\": \"christian\", \"population_total\": 25781}, {\"geo\": \"ven\", \"time\": 1800, \"avg_income/person\": 682, \"life_expectancy_years\": 32.2, \"country\": \"ven\", \"main_religion_2008\": \"christian\", \"population_total\": 718000}, {\"geo\": \"vnm\", \"time\": 1800, \"avg_income/person\": 861, \"life_expectancy_years\": 32.0, \"country\": \"vnm\", \"main_religion_2008\": \"eastern_religions\", \"population_total\": 6551000}, {\"geo\": \"vut\", \"time\": 1800, \"avg_income/person\": 585, \"life_expectancy_years\": 24.3, \"country\": \"vut\", \"main_religion_2008\": \"christian\", \"population_total\": 27791}, {\"geo\": \"wsm\", \"time\": 1800, \"avg_income/person\": 1400, \"life_expectancy_years\": 25.4, \"country\": \"wsm\", \"main_religion_2008\": \"christian\", \"population_total\": 47300}, {\"geo\": \"yem\", \"time\": 1800, \"avg_income/person\": 877, \"life_expectancy_years\": 23.39, \"country\": \"yem\", \"main_religion_2008\": \"muslim\", \"population_total\": 2593000}, {\"geo\": \"zaf\", \"time\": 1800, \"avg_income/person\": 1479, \"life_expectancy_years\": 33.5, \"country\": \"zaf\", \"main_religion_2008\": \"christian\", \"population_total\": 1440820}, {\"geo\": \"zmb\", \"time\": 1800, \"avg_income/person\": 663, \"life_expectancy_years\": 32.6, \"country\": \"zmb\", \"main_religion_2008\": \"christian\", \"population_total\": 747000}, {\"geo\": \"zwe\", \"time\": 1800, \"avg_income/person\": 869, \"life_expectancy_years\": 33.7, \"country\": \"zwe\", \"main_religion_2008\": \"christian\", \"population_total\": 1085814}]}};\n",
              "      var embedOpt = {\"mode\": \"vega-lite\"};\n",
              "\n",
              "      function showError(el, error){\n",
              "          el.innerHTML = ('<div class=\"error\" style=\"color:red;\">'\n",
              "                          + '<p>JavaScript Error: ' + error.message + '</p>'\n",
              "                          + \"<p>This usually means there's a typo in your chart specification. \"\n",
              "                          + \"See the javascript console for the full traceback.</p>\"\n",
              "                          + '</div>');\n",
              "          throw error;\n",
              "      }\n",
              "      const el = document.getElementById('altair-viz');\n",
              "      vegaEmbed(\"#altair-viz\", spec, embedOpt)\n",
              "        .catch(error => showError(el, error));\n",
              "    })(vegaEmbed);\n",
              "\n",
              "  </script>\n",
              "</body>\n",
              "</html>"
            ]
          },
          "metadata": {
            "tags": []
          },
          "execution_count": 206
        }
      ]
    },
    {
      "cell_type": "code",
      "metadata": {
        "id": "Ln3MO2FijWyF",
        "colab_type": "code",
        "colab": {
          "base_uri": "https://localhost:8080/",
          "height": 468
        },
        "outputId": "02a350c6-032e-406a-ce2d-9b297db37d44"
      },
      "source": [
        "brush = alt.selection(type='interval')\n",
        "base = alt.Chart(final[final['time']==1900]).mark_point().encode(\n",
        "    y='life_expectancy_years',\n",
        "    x='avg_income/person',\n",
        "    size='population_total',\n",
        "    tooltip=['geo', 'avg_income/person', 'main_religion_2008', 'population_total'],\n",
        "    color=alt.condition(brush, 'main_religion_2008', alt.ColorValue('gray'))\n",
        ").add_selection(brush).properties(width=400,height=400)\n",
        "base.encode(x='avg_income/person')"
      ],
      "execution_count": 167,
      "outputs": [
        {
          "output_type": "execute_result",
          "data": {
            "text/plain": [
              "alt.Chart(...)"
            ],
            "text/html": [
              "<!DOCTYPE html>\n",
              "<html>\n",
              "<head>\n",
              "  <style>\n",
              "    .vega-actions a {\n",
              "        margin-right: 12px;\n",
              "        color: #757575;\n",
              "        font-weight: normal;\n",
              "        font-size: 13px;\n",
              "    }\n",
              "    .error {\n",
              "        color: red;\n",
              "    }\n",
              "  </style>\n",
              "  <script type=\"text/javascript\" src=\"https://cdn.jsdelivr.net/npm//vega@5\"></script>\n",
              "  <script type=\"text/javascript\" src=\"https://cdn.jsdelivr.net/npm//vega-lite@3.4.0\"></script>\n",
              "  <script type=\"text/javascript\" src=\"https://cdn.jsdelivr.net/npm//vega-embed@4\"></script>\n",
              "</head>\n",
              "<body>\n",
              "  <div id=\"altair-viz\"></div>\n",
              "  <script>\n",
              "    (function(vegaEmbed) {\n",
              "      var spec = {\"config\": {\"view\": {\"width\": 400, \"height\": 300}, \"mark\": {\"tooltip\": null}}, \"data\": {\"name\": \"data-46e3785cb2952b04467e9cde5663555d\"}, \"mark\": \"point\", \"encoding\": {\"color\": {\"condition\": {\"type\": \"nominal\", \"field\": \"main_religion_2008\", \"selection\": \"selector039\"}, \"value\": \"gray\"}, \"size\": {\"type\": \"quantitative\", \"field\": \"population_total\"}, \"tooltip\": [{\"type\": \"nominal\", \"field\": \"geo\"}, {\"type\": \"quantitative\", \"field\": \"avg_income/person\"}, {\"type\": \"nominal\", \"field\": \"main_religion_2008\"}, {\"type\": \"quantitative\", \"field\": \"population_total\"}], \"x\": {\"type\": \"quantitative\", \"field\": \"avg_income/person\"}, \"y\": {\"type\": \"quantitative\", \"field\": \"life_expectancy_years\"}}, \"height\": 400, \"selection\": {\"selector039\": {\"type\": \"interval\"}}, \"width\": 400, \"$schema\": \"https://vega.github.io/schema/vega-lite/v3.4.0.json\", \"datasets\": {\"data-46e3785cb2952b04467e9cde5663555d\": [{\"geo\": \"afg\", \"time\": 1900, \"avg_income/person\": 793, \"life_expectancy_years\": 29.22, \"country\": \"afg\", \"main_religion_2008\": \"muslim\", \"population_total\": 5021241}, {\"geo\": \"ago\", \"time\": 1900, \"avg_income/person\": 958, \"life_expectancy_years\": 29.54, \"country\": \"ago\", \"main_religion_2008\": \"christian\", \"population_total\": 2995663}, {\"geo\": \"alb\", \"time\": 1900, \"avg_income/person\": 1156, \"life_expectancy_years\": 35.47, \"country\": \"alb\", \"main_religion_2008\": \"muslim\", \"population_total\": 819951}, {\"geo\": \"are\", \"time\": 1900, \"avg_income/person\": 2001, \"life_expectancy_years\": 31.24, \"country\": \"are\", \"main_religion_2008\": \"muslim\", \"population_total\": 47853}, {\"geo\": \"arg\", \"time\": 1900, \"avg_income/person\": 5999, \"life_expectancy_years\": 36.62, \"country\": \"arg\", \"main_religion_2008\": \"christian\", \"population_total\": 4756635}, {\"geo\": \"arm\", \"time\": 1900, \"avg_income/person\": 886, \"life_expectancy_years\": 35.18, \"country\": \"arm\", \"main_religion_2008\": \"christian\", \"population_total\": 855315}, {\"geo\": \"atg\", \"time\": 1900, \"avg_income/person\": 1301, \"life_expectancy_years\": 33.68, \"country\": \"atg\", \"main_religion_2008\": \"christian\", \"population_total\": 34926}, {\"geo\": \"aus\", \"time\": 1900, \"avg_income/person\": 6685, \"life_expectancy_years\": 50.02, \"country\": \"aus\", \"main_religion_2008\": \"christian\", \"population_total\": 3743707}, {\"geo\": \"aut\", \"time\": 1900, \"avg_income/person\": 5701, \"life_expectancy_years\": 41.52, \"country\": \"aut\", \"main_religion_2008\": \"christian\", \"population_total\": 5979721}, {\"geo\": \"aze\", \"time\": 1900, \"avg_income/person\": 1522, \"life_expectancy_years\": 30.52, \"country\": \"aze\", \"main_religion_2008\": \"muslim\", \"population_total\": 1840715}, {\"geo\": \"bdi\", \"time\": 1900, \"avg_income/person\": 459, \"life_expectancy_years\": 31.69, \"country\": \"bdi\", \"main_religion_2008\": \"christian\", \"population_total\": 1589451}, {\"geo\": \"bel\", \"time\": 1900, \"avg_income/person\": 6964, \"life_expectancy_years\": 46.59, \"country\": \"bel\", \"main_religion_2008\": \"christian\", \"population_total\": 6767030}, {\"geo\": \"bfa\", \"time\": 1900, \"avg_income/person\": 526, \"life_expectancy_years\": 30.38, \"country\": \"bfa\", \"main_religion_2008\": \"muslim\", \"population_total\": 2977812}, {\"geo\": \"bgd\", \"time\": 1900, \"avg_income/person\": 995, \"life_expectancy_years\": 21.27, \"country\": \"bgd\", \"main_religion_2008\": \"muslim\", \"population_total\": 29230700}, {\"geo\": \"bgr\", \"time\": 1900, \"avg_income/person\": 2043, \"life_expectancy_years\": 40.16, \"country\": \"bgr\", \"main_religion_2008\": \"christian\", \"population_total\": 3992259}, {\"geo\": \"bhr\", \"time\": 1900, \"avg_income/person\": 2700, \"life_expectancy_years\": 30.49, \"country\": \"bhr\", \"main_religion_2008\": \"muslim\", \"population_total\": 76156}, {\"geo\": \"bhs\", \"time\": 1900, \"avg_income/person\": 2484, \"life_expectancy_years\": 35.0, \"country\": \"bhs\", \"main_religion_2008\": \"christian\", \"population_total\": 53100}, {\"geo\": \"blr\", \"time\": 1900, \"avg_income/person\": 1229, \"life_expectancy_years\": 35.99, \"country\": \"blr\", \"main_religion_2008\": \"christian\", \"population_total\": 4917314}, {\"geo\": \"blz\", \"time\": 1900, \"avg_income/person\": 995, \"life_expectancy_years\": 26.61, \"country\": \"blz\", \"main_religion_2008\": \"christian\", \"population_total\": 36115}, {\"geo\": \"bol\", \"time\": 1900, \"avg_income/person\": 1826, \"life_expectancy_years\": 33.96, \"country\": \"bol\", \"main_religion_2008\": \"christian\", \"population_total\": 1826430}, {\"geo\": \"bra\", \"time\": 1900, \"avg_income/person\": 1200, \"life_expectancy_years\": 32.4, \"country\": \"bra\", \"main_religion_2008\": \"christian\", \"population_total\": 18103490}, {\"geo\": \"brb\", \"time\": 1900, \"avg_income/person\": 1570, \"life_expectancy_years\": 32.73, \"country\": \"brb\", \"main_religion_2008\": \"christian\", \"population_total\": 191119}, {\"geo\": \"brn\", \"time\": 1900, \"avg_income/person\": 1989, \"life_expectancy_years\": 28.98, \"country\": \"brn\", \"main_religion_2008\": \"muslim\", \"population_total\": 15507}, {\"geo\": \"btn\", \"time\": 1900, \"avg_income/person\": 739, \"life_expectancy_years\": 31.56, \"country\": \"btn\", \"main_religion_2008\": \"eastern_religions\", \"population_total\": 136236}, {\"geo\": \"bwa\", \"time\": 1900, \"avg_income/person\": 586, \"life_expectancy_years\": 33.93, \"country\": \"bwa\", \"main_religion_2008\": \"christian\", \"population_total\": 122551}, {\"geo\": \"can\", \"time\": 1900, \"avg_income/person\": 4855, \"life_expectancy_years\": 48.31, \"country\": \"can\", \"main_religion_2008\": \"christian\", \"population_total\": 5529722}, {\"geo\": \"che\", \"time\": 1900, \"avg_income/person\": 9634, \"life_expectancy_years\": 47.45, \"country\": \"che\", \"main_religion_2008\": \"christian\", \"population_total\": 3297231}, {\"geo\": \"chl\", \"time\": 1900, \"avg_income/person\": 3293, \"life_expectancy_years\": 32.22, \"country\": \"chl\", \"main_religion_2008\": \"christian\", \"population_total\": 2998051}, {\"geo\": \"chn\", \"time\": 1900, \"avg_income/person\": 893, \"life_expectancy_years\": 31.75, \"country\": \"chn\", \"main_religion_2008\": \"eastern_religions\", \"population_total\": 400774182}, {\"geo\": \"cmr\", \"time\": 1900, \"avg_income/person\": 924, \"life_expectancy_years\": 29.8, \"country\": \"cmr\", \"main_religion_2008\": \"christian\", \"population_total\": 2297739}, {\"geo\": \"cod\", \"time\": 1900, \"avg_income/person\": 732, \"life_expectancy_years\": 32.98, \"country\": \"cod\", \"main_religion_2008\": \"christian\", \"population_total\": 8727833}, {\"geo\": \"cog\", \"time\": 1900, \"avg_income/person\": 763, \"life_expectancy_years\": 31.86, \"country\": \"cog\", \"main_religion_2008\": \"christian\", \"population_total\": 570398}, {\"geo\": \"col\", \"time\": 1900, \"avg_income/person\": 1186, \"life_expectancy_years\": 32.8, \"country\": \"col\", \"main_religion_2008\": \"christian\", \"population_total\": 4109030}, {\"geo\": \"com\", \"time\": 1900, \"avg_income/person\": 770, \"life_expectancy_years\": 32.79, \"country\": \"com\", \"main_religion_2008\": \"muslim\", \"population_total\": 106702}, {\"geo\": \"cpv\", \"time\": 1900, \"avg_income/person\": 746, \"life_expectancy_years\": 34.84, \"country\": \"cpv\", \"main_religion_2008\": \"christian\", \"population_total\": 113570}, {\"geo\": \"cri\", \"time\": 1900, \"avg_income/person\": 1900, \"life_expectancy_years\": 35.03, \"country\": \"cri\", \"main_religion_2008\": \"christian\", \"population_total\": 297911}, {\"geo\": \"cub\", \"time\": 1900, \"avg_income/person\": 2755, \"life_expectancy_years\": 33.42, \"country\": \"cub\", \"main_religion_2008\": \"christian\", \"population_total\": 1762226}, {\"geo\": \"cyp\", \"time\": 1900, \"avg_income/person\": 2203, \"life_expectancy_years\": 41.37, \"country\": \"cyp\", \"main_religion_2008\": \"christian\", \"population_total\": 235258}, {\"geo\": \"cze\", \"time\": 1900, \"avg_income/person\": 3959, \"life_expectancy_years\": 40.29, \"country\": \"cze\", \"main_religion_2008\": \"christian\", \"population_total\": 7399101}, {\"geo\": \"deu\", \"time\": 1900, \"avg_income/person\": 4594, \"life_expectancy_years\": 43.9, \"country\": \"deu\", \"main_religion_2008\": \"christian\", \"population_total\": 55400945}, {\"geo\": \"dji\", \"time\": 1900, \"avg_income/person\": 1032, \"life_expectancy_years\": 31.84, \"country\": \"dji\", \"main_religion_2008\": \"muslim\", \"population_total\": 42078}, {\"geo\": \"dnk\", \"time\": 1900, \"avg_income/person\": 5563, \"life_expectancy_years\": 51.94, \"country\": \"dnk\", \"main_religion_2008\": \"christian\", \"population_total\": 2557581}, {\"geo\": \"dom\", \"time\": 1900, \"avg_income/person\": 1032, \"life_expectancy_years\": 30.89, \"country\": \"dom\", \"main_religion_2008\": \"christian\", \"population_total\": 529756}, {\"geo\": \"dza\", \"time\": 1900, \"avg_income/person\": 1749, \"life_expectancy_years\": 30.08, \"country\": \"dza\", \"main_religion_2008\": \"muslim\", \"population_total\": 4946166}, {\"geo\": \"ecu\", \"time\": 1900, \"avg_income/person\": 884, \"life_expectancy_years\": 33.81, \"country\": \"ecu\", \"main_religion_2008\": \"christian\", \"population_total\": 1455092}, {\"geo\": \"egy\", \"time\": 1900, \"avg_income/person\": 1294, \"life_expectancy_years\": 32.88, \"country\": \"egy\", \"main_religion_2008\": \"muslim\", \"population_total\": 9999403}, {\"geo\": \"eri\", \"time\": 1900, \"avg_income/person\": 654, \"life_expectancy_years\": 31.28, \"country\": \"eri\", \"main_religion_2008\": \"muslim\", \"population_total\": 589731}, {\"geo\": \"esp\", \"time\": 1900, \"avg_income/person\": 2729, \"life_expectancy_years\": 34.75, \"country\": \"esp\", \"main_religion_2008\": \"christian\", \"population_total\": 18652445}, {\"geo\": \"est\", \"time\": 1900, \"avg_income/person\": 2024, \"life_expectancy_years\": 43.12, \"country\": \"est\", \"main_religion_2008\": \"christian\", \"population_total\": 695836}, {\"geo\": \"eth\", \"time\": 1900, \"avg_income/person\": 539, \"life_expectancy_years\": 29.86, \"country\": \"eth\", \"main_religion_2008\": \"christian\", \"population_total\": 8993179}, {\"geo\": \"fin\", \"time\": 1900, \"avg_income/person\": 2788, \"life_expectancy_years\": 41.74, \"country\": \"fin\", \"main_religion_2008\": \"christian\", \"population_total\": 2633387}, {\"geo\": \"fji\", \"time\": 1900, \"avg_income/person\": 1033, \"life_expectancy_years\": 26.71, \"country\": \"fji\", \"main_religion_2008\": \"christian\", \"population_total\": 121905}, {\"geo\": \"fra\", \"time\": 1900, \"avg_income/person\": 4312, \"life_expectancy_years\": 45.14, \"country\": \"fra\", \"main_religion_2008\": \"christian\", \"population_total\": 40628637}, {\"geo\": \"fsm\", \"time\": 1900, \"avg_income/person\": 551, \"life_expectancy_years\": 26.47, \"country\": \"fsm\", \"main_religion_2008\": \"christian\", \"population_total\": 24523}, {\"geo\": \"gab\", \"time\": 1900, \"avg_income/person\": 396, \"life_expectancy_years\": 31.66, \"country\": \"gab\", \"main_religion_2008\": \"christian\", \"population_total\": 311588}, {\"geo\": \"gbr\", \"time\": 1900, \"avg_income/person\": 8008, \"life_expectancy_years\": 46.29, \"country\": \"gbr\", \"main_religion_2008\": \"christian\", \"population_total\": 37995760}, {\"geo\": \"geo\", \"time\": 1900, \"avg_income/person\": 1003, \"life_expectancy_years\": 33.29, \"country\": \"geo\", \"main_religion_2008\": \"christian\", \"population_total\": 2227932}, {\"geo\": \"gha\", \"time\": 1900, \"avg_income/person\": 724, \"life_expectancy_years\": 29.0, \"country\": \"gha\", \"main_religion_2008\": \"christian\", \"population_total\": 1891249}, {\"geo\": \"gin\", \"time\": 1900, \"avg_income/person\": 532, \"life_expectancy_years\": 32.65, \"country\": \"gin\", \"main_religion_2008\": \"muslim\", \"population_total\": 1988973}, {\"geo\": \"gmb\", \"time\": 1900, \"avg_income/person\": 864, \"life_expectancy_years\": 32.73, \"country\": \"gmb\", \"main_religion_2008\": \"muslim\", \"population_total\": 187276}, {\"geo\": \"gnq\", \"time\": 1900, \"avg_income/person\": 406, \"life_expectancy_years\": 30.81, \"country\": \"gnq\", \"main_religion_2008\": \"christian\", \"population_total\": 105183}, {\"geo\": \"grc\", \"time\": 1900, \"avg_income/person\": 3026, \"life_expectancy_years\": 40.43, \"country\": \"grc\", \"main_religion_2008\": \"christian\", \"population_total\": 4932256}, {\"geo\": \"grd\", \"time\": 1900, \"avg_income/person\": 1350, \"life_expectancy_years\": 37.91, \"country\": \"grd\", \"main_religion_2008\": \"christian\", \"population_total\": 61608}, {\"geo\": \"gtm\", \"time\": 1900, \"avg_income/person\": 1648, \"life_expectancy_years\": 25.64, \"country\": \"gtm\", \"main_religion_2008\": \"christian\", \"population_total\": 1390945}, {\"geo\": \"guy\", \"time\": 1900, \"avg_income/person\": 2087, \"life_expectancy_years\": 31.33, \"country\": \"guy\", \"main_religion_2008\": \"christian\", \"population_total\": 285690}, {\"geo\": \"hnd\", \"time\": 1900, \"avg_income/person\": 1878, \"life_expectancy_years\": 34.83, \"country\": \"hnd\", \"main_religion_2008\": \"christian\", \"population_total\": 531097}, {\"geo\": \"hrv\", \"time\": 1900, \"avg_income/person\": 2821, \"life_expectancy_years\": 36.03, \"country\": \"hrv\", \"main_religion_2008\": \"christian\", \"population_total\": 2483125}, {\"geo\": \"hti\", \"time\": 1900, \"avg_income/person\": 1434, \"life_expectancy_years\": 28.7, \"country\": \"hti\", \"main_religion_2008\": \"christian\", \"population_total\": 1584085}, {\"geo\": \"hun\", \"time\": 1900, \"avg_income/person\": 2861, \"life_expectancy_years\": 37.33, \"country\": \"hun\", \"main_religion_2008\": \"christian\", \"population_total\": 7115393}, {\"geo\": \"idn\", \"time\": 1900, \"avg_income/person\": 1198, \"life_expectancy_years\": 30.24, \"country\": \"idn\", \"main_religion_2008\": \"muslim\", \"population_total\": 38159333}, {\"geo\": \"ind\", \"time\": 1900, \"avg_income/person\": 1194, \"life_expectancy_years\": 18.37, \"country\": \"ind\", \"main_religion_2008\": \"eastern_religions\", \"population_total\": 243073944}, {\"geo\": \"irl\", \"time\": 1900, \"avg_income/person\": 4016, \"life_expectancy_years\": 49.2, \"country\": \"irl\", \"main_religion_2008\": \"christian\", \"population_total\": 3163836}, {\"geo\": \"irn\", \"time\": 1900, \"avg_income/person\": 1322, \"life_expectancy_years\": 26.31, \"country\": \"irn\", \"main_religion_2008\": \"muslim\", \"population_total\": 9993086}, {\"geo\": \"irq\", \"time\": 1900, \"avg_income/person\": 1509, \"life_expectancy_years\": 31.58, \"country\": \"irq\", \"main_religion_2008\": \"muslim\", \"population_total\": 2238359}, {\"geo\": \"isl\", \"time\": 1900, \"avg_income/person\": 2352, \"life_expectancy_years\": 46.66, \"country\": \"isl\", \"main_religion_2008\": \"christian\", \"population_total\": 102914}, {\"geo\": \"ita\", \"time\": 1900, \"avg_income/person\": 3526, \"life_expectancy_years\": 41.64, \"country\": \"ita\", \"main_religion_2008\": \"christian\", \"population_total\": 33736335}, {\"geo\": \"jam\", \"time\": 1900, \"avg_income/person\": 991, \"life_expectancy_years\": 37.89, \"country\": \"jam\", \"main_religion_2008\": \"christian\", \"population_total\": 719181}, {\"geo\": \"jor\", \"time\": 1900, \"avg_income/person\": 1519, \"life_expectancy_years\": 32.02, \"country\": \"jor\", \"main_religion_2008\": \"muslim\", \"population_total\": 328750}, {\"geo\": \"jpn\", \"time\": 1900, \"avg_income/person\": 1839, \"life_expectancy_years\": 38.63, \"country\": \"jpn\", \"main_religion_2008\": \"eastern_religions\", \"population_total\": 44282076}, {\"geo\": \"kaz\", \"time\": 1900, \"avg_income/person\": 2461, \"life_expectancy_years\": 28.26, \"country\": \"kaz\", \"main_religion_2008\": \"muslim\", \"population_total\": 4234117}, {\"geo\": \"ken\", \"time\": 1900, \"avg_income/person\": 1167, \"life_expectancy_years\": 26.34, \"country\": \"ken\", \"main_religion_2008\": \"christian\", \"population_total\": 2629263}, {\"geo\": \"kgz\", \"time\": 1900, \"avg_income/person\": 1028, \"life_expectancy_years\": 25.72, \"country\": \"kgz\", \"main_religion_2008\": \"muslim\", \"population_total\": 1101062}, {\"geo\": \"khm\", \"time\": 1900, \"avg_income/person\": 1020, \"life_expectancy_years\": 35.76, \"country\": \"khm\", \"main_religion_2008\": \"eastern_religions\", \"population_total\": 2859325}, {\"geo\": \"kir\", \"time\": 1900, \"avg_income/person\": 602, \"life_expectancy_years\": 25.4, \"country\": \"kir\", \"main_religion_2008\": \"christian\", \"population_total\": 26946}, {\"geo\": \"kwt\", \"time\": 1900, \"avg_income/person\": 2201, \"life_expectancy_years\": 26.44, \"country\": \"kwt\", \"main_religion_2008\": \"muslim\", \"population_total\": 94866}, {\"geo\": \"lao\", \"time\": 1900, \"avg_income/person\": 1049, \"life_expectancy_years\": 31.05, \"country\": \"lao\", \"main_religion_2008\": \"eastern_religions\", \"population_total\": 1149618}, {\"geo\": \"lby\", \"time\": 1900, \"avg_income/person\": 2806, \"life_expectancy_years\": 34.88, \"country\": \"lby\", \"main_religion_2008\": \"muslim\", \"population_total\": 857537}, {\"geo\": \"lca\", \"time\": 1900, \"avg_income/person\": 1141, \"life_expectancy_years\": 28.37, \"country\": \"lca\", \"main_religion_2008\": \"christian\", \"population_total\": 48642}, {\"geo\": \"lka\", \"time\": 1900, \"avg_income/person\": 2138, \"life_expectancy_years\": 32.72, \"country\": \"lka\", \"main_religion_2008\": \"eastern_religions\", \"population_total\": 3941352}, {\"geo\": \"lso\", \"time\": 1900, \"avg_income/person\": 416, \"life_expectancy_years\": 34.16, \"country\": \"lso\", \"main_religion_2008\": \"christian\", \"population_total\": 503399}, {\"geo\": \"ltu\", \"time\": 1900, \"avg_income/person\": 2741, \"life_expectancy_years\": 41.7, \"country\": \"ltu\", \"main_religion_2008\": \"christian\", \"population_total\": 1626629}, {\"geo\": \"lux\", \"time\": 1900, \"avg_income/person\": 3751, \"life_expectancy_years\": 47.56, \"country\": \"lux\", \"main_religion_2008\": \"christian\", \"population_total\": 213965}, {\"geo\": \"lva\", \"time\": 1900, \"avg_income/person\": 1621, \"life_expectancy_years\": 46.17, \"country\": \"lva\", \"main_religion_2008\": \"christian\", \"population_total\": 1223090}, {\"geo\": \"mar\", \"time\": 1900, \"avg_income/person\": 824, \"life_expectancy_years\": 33.61, \"country\": \"mar\", \"main_religion_2008\": \"muslim\", \"population_total\": 4667601}, {\"geo\": \"mda\", \"time\": 1900, \"avg_income/person\": 1209, \"life_expectancy_years\": 32.77, \"country\": \"mda\", \"main_religion_2008\": \"christian\", \"population_total\": 1479149}, {\"geo\": \"mdv\", \"time\": 1900, \"avg_income/person\": 838, \"life_expectancy_years\": 31.53, \"country\": \"mdv\", \"main_religion_2008\": \"muslim\", \"population_total\": 63981}, {\"geo\": \"mex\", \"time\": 1900, \"avg_income/person\": 2163, \"life_expectancy_years\": 27.68, \"country\": \"mex\", \"main_religion_2008\": \"christian\", \"population_total\": 13662641}, {\"geo\": \"mkd\", \"time\": 1900, \"avg_income/person\": 1446, \"life_expectancy_years\": 36.29, \"country\": \"mkd\", \"main_religion_2008\": \"christian\", \"population_total\": 800063}, {\"geo\": \"mli\", \"time\": 1900, \"avg_income/person\": 621, \"life_expectancy_years\": 28.23, \"country\": \"mli\", \"main_religion_2008\": \"muslim\", \"population_total\": 2961060}, {\"geo\": \"mlt\", \"time\": 1900, \"avg_income/person\": 1631, \"life_expectancy_years\": 41.76, \"country\": \"mlt\", \"main_religion_2008\": \"christian\", \"population_total\": 225709}, {\"geo\": \"mmr\", \"time\": 1900, \"avg_income/person\": 1169, \"life_expectancy_years\": 30.34, \"country\": \"mmr\", \"main_religion_2008\": \"eastern_religions\", \"population_total\": 10013993}, {\"geo\": \"mne\", \"time\": 1900, \"avg_income/person\": 2216, \"life_expectancy_years\": 35.81, \"country\": \"mne\", \"main_religion_2008\": \"christian\", \"population_total\": 254700}, {\"geo\": \"moz\", \"time\": 1900, \"avg_income/person\": 414, \"life_expectancy_years\": 32.2, \"country\": \"moz\", \"main_religion_2008\": \"christian\", \"population_total\": 4037289}, {\"geo\": \"mrt\", \"time\": 1900, \"avg_income/person\": 778, \"life_expectancy_years\": 32.99, \"country\": \"mrt\", \"main_religion_2008\": \"muslim\", \"population_total\": 533349}, {\"geo\": \"mwi\", \"time\": 1900, \"avg_income/person\": 355, \"life_expectancy_years\": 30.94, \"country\": \"mwi\", \"main_religion_2008\": \"christian\", \"population_total\": 780171}, {\"geo\": \"mys\", \"time\": 1900, \"avg_income/person\": 1277, \"life_expectancy_years\": 30.62, \"country\": \"mys\", \"main_religion_2008\": \"muslim\", \"population_total\": 2204407}, {\"geo\": \"nam\", \"time\": 1900, \"avg_income/person\": 1788, \"life_expectancy_years\": 33.46, \"country\": \"nam\", \"main_religion_2008\": \"christian\", \"population_total\": 231994}, {\"geo\": \"ner\", \"time\": 1900, \"avg_income/person\": 658, \"life_expectancy_years\": 32.66, \"country\": \"ner\", \"main_religion_2008\": \"muslim\", \"population_total\": 1938530}, {\"geo\": \"nic\", \"time\": 1900, \"avg_income/person\": 2282, \"life_expectancy_years\": 26.07, \"country\": \"nic\", \"main_religion_2008\": \"christian\", \"population_total\": 571352}, {\"geo\": \"nld\", \"time\": 1900, \"avg_income/person\": 6060, \"life_expectancy_years\": 48.42, \"country\": \"nld\", \"main_religion_2008\": \"christian\", \"population_total\": 5158807}, {\"geo\": \"nor\", \"time\": 1900, \"avg_income/person\": 3642, \"life_expectancy_years\": 53.46, \"country\": \"nor\", \"main_religion_2008\": \"christian\", \"population_total\": 2214921}, {\"geo\": \"npl\", \"time\": 1900, \"avg_income/person\": 821, \"life_expectancy_years\": 34.32, \"country\": \"npl\", \"main_religion_2008\": \"eastern_religions\", \"population_total\": 5419485}, {\"geo\": \"nzl\", \"time\": 1900, \"avg_income/person\": 7178, \"life_expectancy_years\": 47.48, \"country\": \"nzl\", \"main_religion_2008\": \"christian\", \"population_total\": 815519}, {\"geo\": \"omn\", \"time\": 1900, \"avg_income/person\": 1439, \"life_expectancy_years\": 32.37, \"country\": \"omn\", \"main_religion_2008\": \"muslim\", \"population_total\": 417606}, {\"geo\": \"pak\", \"time\": 1900, \"avg_income/person\": 1159, \"life_expectancy_years\": 21.47, \"country\": \"pak\", \"main_religion_2008\": \"muslim\", \"population_total\": 18819216}, {\"geo\": \"pan\", \"time\": 1900, \"avg_income/person\": 2093, \"life_expectancy_years\": 33.32, \"country\": \"pan\", \"main_religion_2008\": \"christian\", \"population_total\": 266472}, {\"geo\": \"per\", \"time\": 1900, \"avg_income/person\": 1815, \"life_expectancy_years\": 34.53, \"country\": \"per\", \"main_religion_2008\": \"christian\", \"population_total\": 3680342}, {\"geo\": \"phl\", \"time\": 1900, \"avg_income/person\": 1119, \"life_expectancy_years\": 31.24, \"country\": \"phl\", \"main_religion_2008\": \"christian\", \"population_total\": 6480589}, {\"geo\": \"png\", \"time\": 1900, \"avg_income/person\": 719, \"life_expectancy_years\": 33.14, \"country\": \"png\", \"main_religion_2008\": \"christian\", \"population_total\": 1227442}, {\"geo\": \"pol\", \"time\": 1900, \"avg_income/person\": 2582, \"life_expectancy_years\": 40.42, \"country\": \"pol\", \"main_religion_2008\": \"christian\", \"population_total\": 24700969}, {\"geo\": \"prt\", \"time\": 1900, \"avg_income/person\": 2411, \"life_expectancy_years\": 35.64, \"country\": \"prt\", \"main_religion_2008\": \"christian\", \"population_total\": 5426479}, {\"geo\": \"pry\", \"time\": 1900, \"avg_income/person\": 2278, \"life_expectancy_years\": 36.16, \"country\": \"pry\", \"main_religion_2008\": \"christian\", \"population_total\": 457183}, {\"geo\": \"pse\", \"time\": 1900, \"avg_income/person\": 1334, \"life_expectancy_years\": 33.26, \"country\": \"pse\", \"main_religion_2008\": \"muslim\", \"population_total\": 288776}, {\"geo\": \"qat\", \"time\": 1900, \"avg_income/person\": 2201, \"life_expectancy_years\": 30.67, \"country\": \"qat\", \"main_religion_2008\": \"muslim\", \"population_total\": 16292}, {\"geo\": \"rou\", \"time\": 1900, \"avg_income/person\": 2472, \"life_expectancy_years\": 35.74, \"country\": \"rou\", \"main_religion_2008\": \"christian\", \"population_total\": 10978551}, {\"geo\": \"rus\", \"time\": 1900, \"avg_income/person\": 3087, \"life_expectancy_years\": 30.68, \"country\": \"rus\", \"main_religion_2008\": \"christian\", \"population_total\": 64836675}, {\"geo\": \"rwa\", \"time\": 1900, \"avg_income/person\": 489, \"life_expectancy_years\": 25.37, \"country\": \"rwa\", \"main_religion_2008\": \"christian\", \"population_total\": 1576434}, {\"geo\": \"sau\", \"time\": 1900, \"avg_income/person\": 982, \"life_expectancy_years\": 34.27, \"country\": \"sau\", \"main_religion_2008\": \"muslim\", \"population_total\": 2556758}, {\"geo\": \"sdn\", \"time\": 1900, \"avg_income/person\": 765, \"life_expectancy_years\": 31.46, \"country\": \"sdn\", \"main_religion_2008\": \"muslim\", \"population_total\": 4888065}, {\"geo\": \"sen\", \"time\": 1900, \"avg_income/person\": 734, \"life_expectancy_years\": 26.81, \"country\": \"sen\", \"main_religion_2008\": \"muslim\", \"population_total\": 1759892}, {\"geo\": \"sgp\", \"time\": 1900, \"avg_income/person\": 2622, \"life_expectancy_years\": 34.09, \"country\": \"sgp\", \"main_religion_2008\": \"eastern_religions\", \"population_total\": 215875}, {\"geo\": \"slb\", \"time\": 1900, \"avg_income/person\": 482, \"life_expectancy_years\": 25.15, \"country\": \"slb\", \"main_religion_2008\": \"christian\", \"population_total\": 71961}, {\"geo\": \"slv\", \"time\": 1900, \"avg_income/person\": 1912, \"life_expectancy_years\": 29.06, \"country\": \"slv\", \"main_religion_2008\": \"christian\", \"population_total\": 774733}, {\"geo\": \"som\", \"time\": 1900, \"avg_income/person\": 763, \"life_expectancy_years\": 31.3, \"country\": \"som\", \"main_religion_2008\": \"muslim\", \"population_total\": 1647387}, {\"geo\": \"srb\", \"time\": 1900, \"avg_income/person\": 2845, \"life_expectancy_years\": 35.86, \"country\": \"srb\", \"main_religion_2008\": \"christian\", \"population_total\": 4331770}, {\"geo\": \"stp\", \"time\": 1900, \"avg_income/person\": 1023, \"life_expectancy_years\": 31.44, \"country\": \"stp\", \"main_religion_2008\": \"christian\", \"population_total\": 41545}, {\"geo\": \"sur\", \"time\": 1900, \"avg_income/person\": 2813, \"life_expectancy_years\": 33.11, \"country\": \"sur\", \"main_religion_2008\": \"christian\", \"population_total\": 146521}, {\"geo\": \"svk\", \"time\": 1900, \"avg_income/person\": 2949, \"life_expectancy_years\": 37.92, \"country\": \"svk\", \"main_religion_2008\": \"christian\", \"population_total\": 2855334}, {\"geo\": \"svn\", \"time\": 1900, \"avg_income/person\": 2952, \"life_expectancy_years\": 36.38, \"country\": \"svn\", \"main_religion_2008\": \"christian\", \"population_total\": 949546}, {\"geo\": \"swe\", \"time\": 1900, \"avg_income/person\": 3487, \"life_expectancy_years\": 52.24, \"country\": \"swe\", \"main_religion_2008\": \"christian\", \"population_total\": 5111095}, {\"geo\": \"swz\", \"time\": 1900, \"avg_income/person\": 722, \"life_expectancy_years\": 32.96, \"country\": \"swz\", \"main_religion_2008\": \"christian\", \"population_total\": 87753}, {\"geo\": \"syc\", \"time\": 1900, \"avg_income/person\": 1176, \"life_expectancy_years\": 44.81, \"country\": \"syc\", \"main_religion_2008\": \"christian\", \"population_total\": 18739}, {\"geo\": \"syr\", \"time\": 1900, \"avg_income/person\": 1521, \"life_expectancy_years\": 31.98, \"country\": \"syr\", \"main_religion_2008\": \"muslim\", \"population_total\": 1854881}, {\"geo\": \"tcd\", \"time\": 1900, \"avg_income/person\": 617, \"life_expectancy_years\": 32.66, \"country\": \"tcd\", \"main_religion_2008\": \"muslim\", \"population_total\": 1471359}, {\"geo\": \"tha\", \"time\": 1900, \"avg_income/person\": 1340, \"life_expectancy_years\": 30.84, \"country\": \"tha\", \"main_religion_2008\": \"eastern_religions\", \"population_total\": 7482399}, {\"geo\": \"tjk\", \"time\": 1900, \"avg_income/person\": 1107, \"life_expectancy_years\": 25.64, \"country\": \"tjk\", \"main_religion_2008\": \"muslim\", \"population_total\": 965052}, {\"geo\": \"tkm\", \"time\": 1900, \"avg_income/person\": 2035, \"life_expectancy_years\": 24.04, \"country\": \"tkm\", \"main_religion_2008\": \"muslim\", \"population_total\": 764616}, {\"geo\": \"tls\", \"time\": 1900, \"avg_income/person\": 635, \"life_expectancy_years\": 29.91, \"country\": \"tls\", \"main_religion_2008\": \"christian\", \"population_total\": 330692}, {\"geo\": \"ton\", \"time\": 1900, \"avg_income/person\": 872, \"life_expectancy_years\": 28.28, \"country\": \"ton\", \"main_religion_2008\": \"christian\", \"population_total\": 20512}, {\"geo\": \"tto\", \"time\": 1900, \"avg_income/person\": 1904, \"life_expectancy_years\": 38.87, \"country\": \"tto\", \"main_religion_2008\": \"christian\", \"population_total\": 270875}, {\"geo\": \"tun\", \"time\": 1900, \"avg_income/person\": 1053, \"life_expectancy_years\": 29.89, \"country\": \"tun\", \"main_religion_2008\": \"muslim\", \"population_total\": 1651652}, {\"geo\": \"tur\", \"time\": 1900, \"avg_income/person\": 1984, \"life_expectancy_years\": 35.96, \"country\": \"tur\", \"main_religion_2008\": \"muslim\", \"population_total\": 14030306}, {\"geo\": \"tza\", \"time\": 1900, \"avg_income/person\": 699, \"life_expectancy_years\": 33.35, \"country\": \"tza\", \"main_religion_2008\": \"christian\", \"population_total\": 3974658}, {\"geo\": \"uga\", \"time\": 1900, \"avg_income/person\": 684, \"life_expectancy_years\": 25.53, \"country\": \"uga\", \"main_religion_2008\": \"christian\", \"population_total\": 2734805}, {\"geo\": \"ukr\", \"time\": 1900, \"avg_income/person\": 1647, \"life_expectancy_years\": 36.31, \"country\": \"ukr\", \"main_religion_2008\": \"christian\", \"population_total\": 23471937}, {\"geo\": \"ury\", \"time\": 1900, \"avg_income/person\": 5817, \"life_expectancy_years\": 32.89, \"country\": \"ury\", \"main_religion_2008\": \"christian\", \"population_total\": 904637}, {\"geo\": \"usa\", \"time\": 1900, \"avg_income/person\": 6816, \"life_expectancy_years\": 48.92, \"country\": \"usa\", \"main_religion_2008\": \"christian\", \"population_total\": 77781471}, {\"geo\": \"uzb\", \"time\": 1900, \"avg_income/person\": 816, \"life_expectancy_years\": 28.89, \"country\": \"uzb\", \"main_religion_2008\": \"muslim\", \"population_total\": 3957768}, {\"geo\": \"vct\", \"time\": 1900, \"avg_income/person\": 1440, \"life_expectancy_years\": 25.95, \"country\": \"vct\", \"main_religion_2008\": \"christian\", \"population_total\": 46070}, {\"geo\": \"ven\", \"time\": 1900, \"avg_income/person\": 1236, \"life_expectancy_years\": 32.49, \"country\": \"ven\", \"main_religion_2008\": \"christian\", \"population_total\": 2695885}, {\"geo\": \"vnm\", \"time\": 1900, \"avg_income/person\": 1079, \"life_expectancy_years\": 31.07, \"country\": \"vnm\", \"main_religion_2008\": \"eastern_religions\", \"population_total\": 14597796}, {\"geo\": \"vut\", \"time\": 1900, \"avg_income/person\": 770, \"life_expectancy_years\": 24.94, \"country\": \"vut\", \"main_religion_2008\": \"christian\", \"population_total\": 38546}, {\"geo\": \"wsm\", \"time\": 1900, \"avg_income/person\": 1842, \"life_expectancy_years\": 26.83, \"country\": \"wsm\", \"main_religion_2008\": \"christian\", \"population_total\": 34308}, {\"geo\": \"yem\", \"time\": 1900, \"avg_income/person\": 1164, \"life_expectancy_years\": 23.53, \"country\": \"yem\", \"main_religion_2008\": \"muslim\", \"population_total\": 3183724}, {\"geo\": \"zaf\", \"time\": 1900, \"avg_income/person\": 2800, \"life_expectancy_years\": 34.33, \"country\": \"zaf\", \"main_religion_2008\": \"christian\", \"population_total\": 4706972}, {\"geo\": \"zmb\", \"time\": 1900, \"avg_income/person\": 845, \"life_expectancy_years\": 33.92, \"country\": \"zmb\", \"main_religion_2008\": \"christian\", \"population_total\": 741629}, {\"geo\": \"zwe\", \"time\": 1900, \"avg_income/person\": 980, \"life_expectancy_years\": 34.19, \"country\": \"zwe\", \"main_religion_2008\": \"christian\", \"population_total\": 1911594}]}};\n",
              "      var embedOpt = {\"mode\": \"vega-lite\"};\n",
              "\n",
              "      function showError(el, error){\n",
              "          el.innerHTML = ('<div class=\"error\" style=\"color:red;\">'\n",
              "                          + '<p>JavaScript Error: ' + error.message + '</p>'\n",
              "                          + \"<p>This usually means there's a typo in your chart specification. \"\n",
              "                          + \"See the javascript console for the full traceback.</p>\"\n",
              "                          + '</div>');\n",
              "          throw error;\n",
              "      }\n",
              "      const el = document.getElementById('altair-viz');\n",
              "      vegaEmbed(\"#altair-viz\", spec, embedOpt)\n",
              "        .catch(error => showError(el, error));\n",
              "    })(vegaEmbed);\n",
              "\n",
              "  </script>\n",
              "</body>\n",
              "</html>"
            ]
          },
          "metadata": {
            "tags": []
          },
          "execution_count": 167
        }
      ]
    },
    {
      "cell_type": "code",
      "metadata": {
        "id": "fwB-Tu4rjmfB",
        "colab_type": "code",
        "colab": {
          "base_uri": "https://localhost:8080/",
          "height": 468
        },
        "outputId": "96fadb8e-a523-4304-9520-903e3d16491e"
      },
      "source": [
        "brush = alt.selection(type='interval')\n",
        "base = alt.Chart(final[final['time']==2000]).mark_point().encode(\n",
        "    alt.X('avg_income/person:Q', scale=alt.Scale(type='log')),\n",
        "    alt.Y('life_expectancy_years:Q', scale=alt.Scale(zero=False)),\n",
        "    size='population_total',\n",
        "    tooltip=['geo', 'avg_income/person', 'main_religion_2008', 'population_total'],\n",
        "    color=alt.condition(brush, 'main_religion_2008', alt.ColorValue('gray')),\n",
        ").add_selection(brush).properties(width=400,height=400)\n",
        "base.encode(x='avg_income/person')"
      ],
      "execution_count": 222,
      "outputs": [
        {
          "output_type": "execute_result",
          "data": {
            "text/plain": [
              "alt.Chart(...)"
            ],
            "text/html": [
              "<!DOCTYPE html>\n",
              "<html>\n",
              "<head>\n",
              "  <style>\n",
              "    .vega-actions a {\n",
              "        margin-right: 12px;\n",
              "        color: #757575;\n",
              "        font-weight: normal;\n",
              "        font-size: 13px;\n",
              "    }\n",
              "    .error {\n",
              "        color: red;\n",
              "    }\n",
              "  </style>\n",
              "  <script type=\"text/javascript\" src=\"https://cdn.jsdelivr.net/npm//vega@5\"></script>\n",
              "  <script type=\"text/javascript\" src=\"https://cdn.jsdelivr.net/npm//vega-lite@3.4.0\"></script>\n",
              "  <script type=\"text/javascript\" src=\"https://cdn.jsdelivr.net/npm//vega-embed@4\"></script>\n",
              "</head>\n",
              "<body>\n",
              "  <div id=\"altair-viz\"></div>\n",
              "  <script>\n",
              "    (function(vegaEmbed) {\n",
              "      var spec = {\"config\": {\"view\": {\"width\": 400, \"height\": 300}, \"mark\": {\"tooltip\": null}}, \"data\": {\"name\": \"data-1143c20f874985fd021afb1e98b36225\"}, \"mark\": \"point\", \"encoding\": {\"color\": {\"condition\": {\"type\": \"nominal\", \"field\": \"main_religion_2008\", \"selection\": \"selector074\"}, \"value\": \"gray\"}, \"size\": {\"type\": \"quantitative\", \"field\": \"population_total\"}, \"tooltip\": [{\"type\": \"nominal\", \"field\": \"geo\"}, {\"type\": \"quantitative\", \"field\": \"avg_income/person\"}, {\"type\": \"nominal\", \"field\": \"main_religion_2008\"}, {\"type\": \"quantitative\", \"field\": \"population_total\"}], \"x\": {\"type\": \"quantitative\", \"field\": \"avg_income/person\"}, \"y\": {\"type\": \"quantitative\", \"field\": \"life_expectancy_years\", \"scale\": {\"zero\": false}}}, \"height\": 400, \"selection\": {\"selector074\": {\"type\": \"interval\"}}, \"width\": 400, \"$schema\": \"https://vega.github.io/schema/vega-lite/v3.4.0.json\", \"datasets\": {\"data-1143c20f874985fd021afb1e98b36225\": [{\"geo\": \"afg\", \"time\": 2000, \"avg_income/person\": 972, \"life_expectancy_years\": 51.63, \"country\": \"afg\", \"main_religion_2008\": \"muslim\", \"population_total\": 20093756}, {\"geo\": \"ago\", \"time\": 2000, \"avg_income/person\": 3509, \"life_expectancy_years\": 53.36, \"country\": \"ago\", \"main_religion_2008\": \"christian\", \"population_total\": 16440924}, {\"geo\": \"alb\", \"time\": 2000, \"avg_income/person\": 5470, \"life_expectancy_years\": 74.43, \"country\": \"alb\", \"main_religion_2008\": \"muslim\", \"population_total\": 3121970}, {\"geo\": \"and\", \"time\": 2000, \"avg_income/person\": 31662, \"life_expectancy_years\": 81.8, \"country\": \"and\", \"main_religion_2008\": \"christian\", \"population_total\": 65390}, {\"geo\": \"are\", \"time\": 2000, \"avg_income/person\": 103224, \"life_expectancy_years\": 74.83, \"country\": \"are\", \"main_religion_2008\": \"muslim\", \"population_total\": 3154925}, {\"geo\": \"arg\", \"time\": 2000, \"avg_income/person\": 14900, \"life_expectancy_years\": 74.21, \"country\": \"arg\", \"main_religion_2008\": \"christian\", \"population_total\": 37057452}, {\"geo\": \"arm\", \"time\": 2000, \"avg_income/person\": 2925, \"life_expectancy_years\": 71.85, \"country\": \"arm\", \"main_religion_2008\": \"christian\", \"population_total\": 3069588}, {\"geo\": \"atg\", \"time\": 2000, \"avg_income/person\": 18800, \"life_expectancy_years\": 74.74, \"country\": \"atg\", \"main_religion_2008\": \"christian\", \"population_total\": 83584}, {\"geo\": \"aus\", \"time\": 2000, \"avg_income/person\": 35281, \"life_expectancy_years\": 79.7, \"country\": \"aus\", \"main_religion_2008\": \"christian\", \"population_total\": 19065837}, {\"geo\": \"aut\", \"time\": 2000, \"avg_income/person\": 38812, \"life_expectancy_years\": 78.12, \"country\": \"aut\", \"main_religion_2008\": \"christian\", \"population_total\": 8069276}, {\"geo\": \"aze\", \"time\": 2000, \"avg_income/person\": 4459, \"life_expectancy_years\": 66.56, \"country\": \"aze\", \"main_religion_2008\": \"muslim\", \"population_total\": 8122741}, {\"geo\": \"bdi\", \"time\": 2000, \"avg_income/person\": 754, \"life_expectancy_years\": 47.91, \"country\": \"bdi\", \"main_religion_2008\": \"christian\", \"population_total\": 6400706}, {\"geo\": \"bel\", \"time\": 2000, \"avg_income/person\": 37253, \"life_expectancy_years\": 77.8, \"country\": \"bel\", \"main_religion_2008\": \"christian\", \"population_total\": 10282033}, {\"geo\": \"bfa\", \"time\": 2000, \"avg_income/person\": 1046, \"life_expectancy_years\": 52.16, \"country\": \"bfa\", \"main_religion_2008\": \"muslim\", \"population_total\": 11607942}, {\"geo\": \"bgd\", \"time\": 2000, \"avg_income/person\": 1642, \"life_expectancy_years\": 65.48, \"country\": \"bgd\", \"main_religion_2008\": \"muslim\", \"population_total\": 131581243}, {\"geo\": \"bgr\", \"time\": 2000, \"avg_income/person\": 8958, \"life_expectancy_years\": 71.75, \"country\": \"bgr\", \"main_religion_2008\": \"christian\", \"population_total\": 7997787}, {\"geo\": \"bhr\", \"time\": 2000, \"avg_income/person\": 45537, \"life_expectancy_years\": 71.67, \"country\": \"bhr\", \"main_religion_2008\": \"muslim\", \"population_total\": 664614}, {\"geo\": \"bhs\", \"time\": 2000, \"avg_income/person\": 25847, \"life_expectancy_years\": 71.28, \"country\": \"bhs\", \"main_religion_2008\": \"christian\", \"population_total\": 297890}, {\"geo\": \"blr\", \"time\": 2000, \"avg_income/person\": 7563, \"life_expectancy_years\": 68.46, \"country\": \"blr\", \"main_religion_2008\": \"christian\", \"population_total\": 9933609}, {\"geo\": \"blz\", \"time\": 2000, \"avg_income/person\": 6959, \"life_expectancy_years\": 68.87, \"country\": \"blz\", \"main_religion_2008\": \"christian\", \"population_total\": 247315}, {\"geo\": \"bol\", \"time\": 2000, \"avg_income/person\": 4412, \"life_expectancy_years\": 67.66, \"country\": \"bol\", \"main_religion_2008\": \"christian\", \"population_total\": 8339512}, {\"geo\": \"bra\", \"time\": 2000, \"avg_income/person\": 11371, \"life_expectancy_years\": 71.44, \"country\": \"bra\", \"main_religion_2008\": \"christian\", \"population_total\": 175287587}, {\"geo\": \"brb\", \"time\": 2000, \"avg_income/person\": 14440, \"life_expectancy_years\": 74.87, \"country\": \"brb\", \"main_religion_2008\": \"christian\", \"population_total\": 269847}, {\"geo\": \"brn\", \"time\": 2000, \"avg_income/person\": 82050, \"life_expectancy_years\": 76.0, \"country\": \"brn\", \"main_religion_2008\": \"muslim\", \"population_total\": 333241}, {\"geo\": \"btn\", \"time\": 2000, \"avg_income/person\": 3539, \"life_expectancy_years\": 65.62, \"country\": \"btn\", \"main_religion_2008\": \"eastern_religions\", \"population_total\": 573416}, {\"geo\": \"bwa\", \"time\": 2000, \"avg_income/person\": 10411, \"life_expectancy_years\": 46.67, \"country\": \"bwa\", \"main_religion_2008\": \"christian\", \"population_total\": 1728340}, {\"geo\": \"can\", \"time\": 2000, \"avg_income/person\": 37432, \"life_expectancy_years\": 79.21, \"country\": \"can\", \"main_religion_2008\": \"christian\", \"population_total\": 30735773}, {\"geo\": \"che\", \"time\": 2000, \"avg_income/person\": 50314, \"life_expectancy_years\": 79.87, \"country\": \"che\", \"main_religion_2008\": \"christian\", \"population_total\": 7167250}, {\"geo\": \"chl\", \"time\": 2000, \"avg_income/person\": 14315, \"life_expectancy_years\": 77.24, \"country\": \"chl\", \"main_religion_2008\": \"christian\", \"population_total\": 15262754}, {\"geo\": \"chn\", \"time\": 2000, \"avg_income/person\": 3701, \"life_expectancy_years\": 70.03, \"country\": \"chn\", \"main_religion_2008\": \"eastern_religions\", \"population_total\": 1283198970}, {\"geo\": \"cmr\", \"time\": 2000, \"avg_income/person\": 2507, \"life_expectancy_years\": 54.46, \"country\": \"cmr\", \"main_religion_2008\": \"christian\", \"population_total\": 15274234}, {\"geo\": \"cod\", \"time\": 2000, \"avg_income/person\": 529, \"life_expectancy_years\": 53.37, \"country\": \"cod\", \"main_religion_2008\": \"christian\", \"population_total\": 47076387}, {\"geo\": \"cog\", \"time\": 2000, \"avg_income/person\": 4480, \"life_expectancy_years\": 52.78, \"country\": \"cog\", \"main_religion_2008\": \"christian\", \"population_total\": 3225727}, {\"geo\": \"col\", \"time\": 2000, \"avg_income/person\": 8308, \"life_expectancy_years\": 73.25, \"country\": \"col\", \"main_religion_2008\": \"christian\", \"population_total\": 40403958}, {\"geo\": \"com\", \"time\": 2000, \"avg_income/person\": 1481, \"life_expectancy_years\": 61.48, \"country\": \"com\", \"main_religion_2008\": \"muslim\", \"population_total\": 542357}, {\"geo\": \"cpv\", \"time\": 2000, \"avg_income/person\": 3835, \"life_expectancy_years\": 69.75, \"country\": \"cpv\", \"main_religion_2008\": \"christian\", \"population_total\": 435079}, {\"geo\": \"cri\", \"time\": 2000, \"avg_income/person\": 9878, \"life_expectancy_years\": 78.0, \"country\": \"cri\", \"main_religion_2008\": \"christian\", \"population_total\": 3925443}, {\"geo\": \"cub\", \"time\": 2000, \"avg_income/person\": 11622, \"life_expectancy_years\": 76.58, \"country\": \"cub\", \"main_religion_2008\": \"christian\", \"population_total\": 11150736}, {\"geo\": \"cyp\", \"time\": 2000, \"avg_income/person\": 30086, \"life_expectancy_years\": 76.83, \"country\": \"cyp\", \"main_religion_2008\": \"christian\", \"population_total\": 943286}, {\"geo\": \"cze\", \"time\": 2000, \"avg_income/person\": 21137, \"life_expectancy_years\": 74.99, \"country\": \"cze\", \"main_religion_2008\": \"christian\", \"population_total\": 10289594}, {\"geo\": \"deu\", \"time\": 2000, \"avg_income/person\": 36765, \"life_expectancy_years\": 77.89, \"country\": \"deu\", \"main_religion_2008\": \"christian\", \"population_total\": 81487757}, {\"geo\": \"dji\", \"time\": 2000, \"avg_income/person\": 2131, \"life_expectancy_years\": 61.37, \"country\": \"dji\", \"main_religion_2008\": \"muslim\", \"population_total\": 717584}, {\"geo\": \"dma\", \"time\": 2000, \"avg_income/person\": 8175, \"life_expectancy_years\": 72.92, \"country\": \"dma\", \"main_religion_2008\": \"christian\", \"population_total\": 69676}, {\"geo\": \"dnk\", \"time\": 2000, \"avg_income/person\": 42338, \"life_expectancy_years\": 76.92, \"country\": \"dnk\", \"main_religion_2008\": \"christian\", \"population_total\": 5341194}, {\"geo\": \"dom\", \"time\": 2000, \"avg_income/person\": 7964, \"life_expectancy_years\": 73.21, \"country\": \"dom\", \"main_religion_2008\": \"christian\", \"population_total\": 8562622}, {\"geo\": \"dza\", \"time\": 2000, \"avg_income/person\": 10211, \"life_expectancy_years\": 73.87, \"country\": \"dza\", \"main_religion_2008\": \"muslim\", \"population_total\": 31183660}, {\"geo\": \"ecu\", \"time\": 2000, \"avg_income/person\": 7388, \"life_expectancy_years\": 74.27, \"country\": \"ecu\", \"main_religion_2008\": \"christian\", \"population_total\": 12628596}, {\"geo\": \"egy\", \"time\": 2000, \"avg_income/person\": 7388, \"life_expectancy_years\": 69.88, \"country\": \"egy\", \"main_religion_2008\": \"muslim\", \"population_total\": 69905988}, {\"geo\": \"eri\", \"time\": 2000, \"avg_income/person\": 1679, \"life_expectancy_years\": 58.15, \"country\": \"eri\", \"main_religion_2008\": \"muslim\", \"population_total\": 3392801}, {\"geo\": \"esp\", \"time\": 2000, \"avg_income/person\": 29967, \"life_expectancy_years\": 79.39, \"country\": \"esp\", \"main_religion_2008\": \"christian\", \"population_total\": 40903711}, {\"geo\": \"est\", \"time\": 2000, \"avg_income/person\": 15703, \"life_expectancy_years\": 70.79, \"country\": \"est\", \"main_religion_2008\": \"christian\", \"population_total\": 1399112}, {\"geo\": \"eth\", \"time\": 2000, \"avg_income/person\": 618, \"life_expectancy_years\": 51.14, \"country\": \"eth\", \"main_religion_2008\": \"christian\", \"population_total\": 66537331}, {\"geo\": \"fin\", \"time\": 2000, \"avg_income/person\": 34887, \"life_expectancy_years\": 77.73, \"country\": \"fin\", \"main_religion_2008\": \"christian\", \"population_total\": 5187954}, {\"geo\": \"fji\", \"time\": 2000, \"avg_income/person\": 6674, \"life_expectancy_years\": 64.3, \"country\": \"fji\", \"main_religion_2008\": \"christian\", \"population_total\": 811223}, {\"geo\": \"fra\", \"time\": 2000, \"avg_income/person\": 34896, \"life_expectancy_years\": 79.09, \"country\": \"fra\", \"main_religion_2008\": \"christian\", \"population_total\": 59608201}, {\"geo\": \"fsm\", \"time\": 2000, \"avg_income/person\": 3167, \"life_expectancy_years\": 64.77, \"country\": \"fsm\", \"main_religion_2008\": \"christian\", \"population_total\": 107432}, {\"geo\": \"gab\", \"time\": 2000, \"avg_income/person\": 17783, \"life_expectancy_years\": 59.15, \"country\": \"gab\", \"main_religion_2008\": \"christian\", \"population_total\": 1231122}, {\"geo\": \"gbr\", \"time\": 2000, \"avg_income/person\": 32962, \"life_expectancy_years\": 77.78, \"country\": \"gbr\", \"main_religion_2008\": \"christian\", \"population_total\": 58950848}, {\"geo\": \"geo\", \"time\": 2000, \"avg_income/person\": 3264, \"life_expectancy_years\": 71.71, \"country\": \"geo\", \"main_religion_2008\": \"christian\", \"population_total\": 4722059}, {\"geo\": \"gha\", \"time\": 2000, \"avg_income/person\": 2259, \"life_expectancy_years\": 59.34, \"country\": \"gha\", \"main_religion_2008\": \"christian\", \"population_total\": 18938762}, {\"geo\": \"gin\", \"time\": 2000, \"avg_income/person\": 1131, \"life_expectancy_years\": 54.67, \"country\": \"gin\", \"main_religion_2008\": \"muslim\", \"population_total\": 8808546}, {\"geo\": \"gmb\", \"time\": 2000, \"avg_income/person\": 1560, \"life_expectancy_years\": 63.32, \"country\": \"gmb\", \"main_religion_2008\": \"muslim\", \"population_total\": 1231844}, {\"geo\": \"gnq\", \"time\": 2000, \"avg_income/person\": 10793, \"life_expectancy_years\": 54.36, \"country\": \"gnq\", \"main_religion_2008\": \"christian\", \"population_total\": 614323}, {\"geo\": \"grc\", \"time\": 2000, \"avg_income/person\": 24839, \"life_expectancy_years\": 78.64, \"country\": \"grc\", \"main_religion_2008\": \"christian\", \"population_total\": 11142119}, {\"geo\": \"grd\", \"time\": 2000, \"avg_income/person\": 9651, \"life_expectancy_years\": 71.23, \"country\": \"grd\", \"main_religion_2008\": \"christian\", \"population_total\": 101619}, {\"geo\": \"gtm\", \"time\": 2000, \"avg_income/person\": 6071, \"life_expectancy_years\": 68.63, \"country\": \"gtm\", \"main_religion_2008\": \"christian\", \"population_total\": 11650743}, {\"geo\": \"guy\", \"time\": 2000, \"avg_income/person\": 4513, \"life_expectancy_years\": 65.61, \"country\": \"guy\", \"main_religion_2008\": \"christian\", \"population_total\": 753301}, {\"geo\": \"hnd\", \"time\": 2000, \"avg_income/person\": 3329, \"life_expectancy_years\": 69.57, \"country\": \"hnd\", \"main_religion_2008\": \"christian\", \"population_total\": 6524283}, {\"geo\": \"hrv\", \"time\": 2000, \"avg_income/person\": 15745, \"life_expectancy_years\": 73.88, \"country\": \"hrv\", \"main_religion_2008\": \"christian\", \"population_total\": 4428072}, {\"geo\": \"hti\", \"time\": 2000, \"avg_income/person\": 1739, \"life_expectancy_years\": 56.8, \"country\": \"hti\", \"main_religion_2008\": \"christian\", \"population_total\": 8549200}, {\"geo\": \"hun\", \"time\": 2000, \"avg_income/person\": 17855, \"life_expectancy_years\": 71.8, \"country\": \"hun\", \"main_religion_2008\": \"christian\", \"population_total\": 10221051}, {\"geo\": \"idn\", \"time\": 2000, \"avg_income/person\": 5806, \"life_expectancy_years\": 67.27, \"country\": \"idn\", \"main_religion_2008\": \"muslim\", \"population_total\": 211540429}, {\"geo\": \"ind\", \"time\": 2000, \"avg_income/person\": 2495, \"life_expectancy_years\": 62.34, \"country\": \"ind\", \"main_religion_2008\": \"eastern_religions\", \"population_total\": 1053050912}, {\"geo\": \"irl\", \"time\": 2000, \"avg_income/person\": 40815, \"life_expectancy_years\": 76.65, \"country\": \"irl\", \"main_religion_2008\": \"christian\", \"population_total\": 3848776}, {\"geo\": \"irn\", \"time\": 2000, \"avg_income/person\": 11854, \"life_expectancy_years\": 71.61, \"country\": \"irn\", \"main_religion_2008\": \"muslim\", \"population_total\": 66131854}, {\"geo\": \"irq\", \"time\": 2000, \"avg_income/person\": 12177, \"life_expectancy_years\": 65.99, \"country\": \"irq\", \"main_religion_2008\": \"muslim\", \"population_total\": 23565413}, {\"geo\": \"isl\", \"time\": 2000, \"avg_income/person\": 34097, \"life_expectancy_years\": 79.88, \"country\": \"isl\", \"main_religion_2008\": \"christian\", \"population_total\": 280435}, {\"geo\": \"ita\", \"time\": 2000, \"avg_income/person\": 36536, \"life_expectancy_years\": 79.52, \"country\": \"ita\", \"main_religion_2008\": \"christian\", \"population_total\": 57293721}, {\"geo\": \"jam\", \"time\": 2000, \"avg_income/person\": 7932, \"life_expectancy_years\": 73.83, \"country\": \"jam\", \"main_religion_2008\": \"christian\", \"population_total\": 2656864}, {\"geo\": \"jor\", \"time\": 2000, \"avg_income/person\": 7235, \"life_expectancy_years\": 73.08, \"country\": \"jor\", \"main_religion_2008\": \"muslim\", \"population_total\": 5103130}, {\"geo\": \"jpn\", \"time\": 2000, \"avg_income/person\": 33872, \"life_expectancy_years\": 80.95, \"country\": \"jpn\", \"main_religion_2008\": \"eastern_religions\", \"population_total\": 127533934}, {\"geo\": \"kaz\", \"time\": 2000, \"avg_income/person\": 9952, \"life_expectancy_years\": 64.56, \"country\": \"kaz\", \"main_religion_2008\": \"muslim\", \"population_total\": 15057363}, {\"geo\": \"ken\", \"time\": 2000, \"avg_income/person\": 2132, \"life_expectancy_years\": 55.21, \"country\": \"ken\", \"main_religion_2008\": \"christian\", \"population_total\": 31450483}, {\"geo\": \"kgz\", \"time\": 2000, \"avg_income/person\": 2075, \"life_expectancy_years\": 66.41, \"country\": \"kgz\", \"main_religion_2008\": \"muslim\", \"population_total\": 4920718}, {\"geo\": \"khm\", \"time\": 2000, \"avg_income/person\": 1376, \"life_expectancy_years\": 59.47, \"country\": \"khm\", \"main_religion_2008\": \"eastern_religions\", \"population_total\": 12152354}, {\"geo\": \"kir\", \"time\": 2000, \"avg_income/person\": 2007, \"life_expectancy_years\": 59.47, \"country\": \"kir\", \"main_religion_2008\": \"christian\", \"population_total\": 84406}, {\"geo\": \"kwt\", \"time\": 2000, \"avg_income/person\": 69920, \"life_expectancy_years\": 76.46, \"country\": \"kwt\", \"main_religion_2008\": \"muslim\", \"population_total\": 2050741}, {\"geo\": \"lao\", \"time\": 2000, \"avg_income/person\": 2346, \"life_expectancy_years\": 57.06, \"country\": \"lao\", \"main_religion_2008\": \"eastern_religions\", \"population_total\": 5329304}, {\"geo\": \"lby\", \"time\": 2000, \"avg_income/person\": 21922, \"life_expectancy_years\": 74.4, \"country\": \"lby\", \"main_religion_2008\": \"muslim\", \"population_total\": 5355751}, {\"geo\": \"lca\", \"time\": 2000, \"avg_income/person\": 10006, \"life_expectancy_years\": 74.18, \"country\": \"lca\", \"main_religion_2008\": \"christian\", \"population_total\": 156949}, {\"geo\": \"lka\", \"time\": 2000, \"avg_income/person\": 5580, \"life_expectancy_years\": 72.75, \"country\": \"lka\", \"main_religion_2008\": \"eastern_religions\", \"population_total\": 18781938}, {\"geo\": \"lso\", \"time\": 2000, \"avg_income/person\": 1782, \"life_expectancy_years\": 48.8, \"country\": \"lso\", \"main_religion_2008\": \"christian\", \"population_total\": 1868699}, {\"geo\": \"ltu\", \"time\": 2000, \"avg_income/person\": 12189, \"life_expectancy_years\": 72.02, \"country\": \"ltu\", \"main_religion_2008\": \"christian\", \"population_total\": 3501835}, {\"geo\": \"lux\", \"time\": 2000, \"avg_income/person\": 81690, \"life_expectancy_years\": 78.42, \"country\": \"lux\", \"main_religion_2008\": \"christian\", \"population_total\": 436103}, {\"geo\": \"lva\", \"time\": 2000, \"avg_income/person\": 11159, \"life_expectancy_years\": 70.42, \"country\": \"lva\", \"main_religion_2008\": \"christian\", \"population_total\": 2384163}, {\"geo\": \"mar\", \"time\": 2000, \"avg_income/person\": 4484, \"life_expectancy_years\": 70.87, \"country\": \"mar\", \"main_religion_2008\": \"muslim\", \"population_total\": 28849621}, {\"geo\": \"mda\", \"time\": 2000, \"avg_income/person\": 2321, \"life_expectancy_years\": 67.58, \"country\": \"mda\", \"main_religion_2008\": \"christian\", \"population_total\": 4201089}, {\"geo\": \"mdv\", \"time\": 2000, \"avg_income/person\": 6863, \"life_expectancy_years\": 72.13, \"country\": \"mdv\", \"main_religion_2008\": \"muslim\", \"population_total\": 280384}, {\"geo\": \"mex\", \"time\": 2000, \"avg_income/person\": 15015, \"life_expectancy_years\": 74.61, \"country\": \"mex\", \"main_religion_2008\": \"christian\", \"population_total\": 101719673}, {\"geo\": \"mhl\", \"time\": 2000, \"avg_income/person\": 2872, \"life_expectancy_years\": 63.31, \"country\": \"mhl\", \"main_religion_2008\": \"christian\", \"population_total\": 52159}, {\"geo\": \"mkd\", \"time\": 2000, \"avg_income/person\": 8621, \"life_expectancy_years\": 72.23, \"country\": \"mkd\", \"main_religion_2008\": \"christian\", \"population_total\": 2034819}, {\"geo\": \"mli\", \"time\": 2000, \"avg_income/person\": 1463, \"life_expectancy_years\": 53.35, \"country\": \"mli\", \"main_religion_2008\": \"muslim\", \"population_total\": 10967690}, {\"geo\": \"mlt\", \"time\": 2000, \"avg_income/person\": 24586, \"life_expectancy_years\": 77.49, \"country\": \"mlt\", \"main_religion_2008\": \"christian\", \"population_total\": 396668}, {\"geo\": \"mmr\", \"time\": 2000, \"avg_income/person\": 1306, \"life_expectancy_years\": 61.13, \"country\": \"mmr\", \"main_religion_2008\": \"eastern_religions\", \"population_total\": 46095462}, {\"geo\": \"mne\", \"time\": 2000, \"avg_income/person\": 10075, \"life_expectancy_years\": 73.84, \"country\": \"mne\", \"main_religion_2008\": \"christian\", \"population_total\": 613560}, {\"geo\": \"moz\", \"time\": 2000, \"avg_income/person\": 562, \"life_expectancy_years\": 51.32, \"country\": \"moz\", \"main_religion_2008\": \"christian\", \"population_total\": 18067687}, {\"geo\": \"mrt\", \"time\": 2000, \"avg_income/person\": 2751, \"life_expectancy_years\": 63.7, \"country\": \"mrt\", \"main_religion_2008\": \"muslim\", \"population_total\": 2709359}, {\"geo\": \"mwi\", \"time\": 2000, \"avg_income/person\": 866, \"life_expectancy_years\": 44.73, \"country\": \"mwi\", \"main_religion_2008\": \"christian\", \"population_total\": 11376172}, {\"geo\": \"mys\", \"time\": 2000, \"avg_income/person\": 16310, \"life_expectancy_years\": 73.12, \"country\": \"mys\", \"main_religion_2008\": \"muslim\", \"population_total\": 23185608}, {\"geo\": \"nam\", \"time\": 2000, \"avg_income/person\": 6106, \"life_expectancy_years\": 53.65, \"country\": \"nam\", \"main_religion_2008\": \"christian\", \"population_total\": 1899257}, {\"geo\": \"ner\", \"time\": 2000, \"avg_income/person\": 753, \"life_expectancy_years\": 52.18, \"country\": \"ner\", \"main_religion_2008\": \"muslim\", \"population_total\": 11352973}, {\"geo\": \"nic\", \"time\": 2000, \"avg_income/person\": 3456, \"life_expectancy_years\": 75.62, \"country\": \"nic\", \"main_religion_2008\": \"christian\", \"population_total\": 5026796}, {\"geo\": \"nld\", \"time\": 2000, \"avg_income/person\": 41722, \"life_expectancy_years\": 78.06, \"country\": \"nld\", \"main_religion_2008\": \"christian\", \"population_total\": 15926188}, {\"geo\": \"nor\", \"time\": 2000, \"avg_income/person\": 58067, \"life_expectancy_years\": 78.71, \"country\": \"nor\", \"main_religion_2008\": \"christian\", \"population_total\": 4499367}, {\"geo\": \"npl\", \"time\": 2000, \"avg_income/person\": 1540, \"life_expectancy_years\": 63.7, \"country\": \"npl\", \"main_religion_2008\": \"eastern_religions\", \"population_total\": 23740911}, {\"geo\": \"nzl\", \"time\": 2000, \"avg_income/person\": 28265, \"life_expectancy_years\": 78.51, \"country\": \"nzl\", \"main_religion_2008\": \"christian\", \"population_total\": 3858999}, {\"geo\": \"omn\", \"time\": 2000, \"avg_income/person\": 43966, \"life_expectancy_years\": 74.55, \"country\": \"omn\", \"main_religion_2008\": \"muslim\", \"population_total\": 2267991}, {\"geo\": \"pak\", \"time\": 2000, \"avg_income/person\": 3495, \"life_expectancy_years\": 62.63, \"country\": \"pak\", \"main_religion_2008\": \"muslim\", \"population_total\": 138523285}, {\"geo\": \"pan\", \"time\": 2000, \"avg_income/person\": 10572, \"life_expectancy_years\": 76.87, \"country\": \"pan\", \"main_religion_2008\": \"christian\", \"population_total\": 3030347}, {\"geo\": \"per\", \"time\": 2000, \"avg_income/person\": 6563, \"life_expectancy_years\": 74.83, \"country\": \"per\", \"main_religion_2008\": \"christian\", \"population_total\": 25914879}, {\"geo\": \"phl\", \"time\": 2000, \"avg_income/person\": 4224, \"life_expectancy_years\": 68.24, \"country\": \"phl\", \"main_religion_2008\": \"christian\", \"population_total\": 77991569}, {\"geo\": \"png\", \"time\": 2000, \"avg_income/person\": 1791, \"life_expectancy_years\": 57.64, \"country\": \"png\", \"main_religion_2008\": \"christian\", \"population_total\": 5572222}, {\"geo\": \"pol\", \"time\": 2000, \"avg_income/person\": 14732, \"life_expectancy_years\": 73.76, \"country\": \"pol\", \"main_religion_2008\": \"christian\", \"population_total\": 38550495}, {\"geo\": \"prt\", \"time\": 2000, \"avg_income/person\": 25999, \"life_expectancy_years\": 76.68, \"country\": \"prt\", \"main_religion_2008\": \"christian\", \"population_total\": 10355117}, {\"geo\": \"pry\", \"time\": 2000, \"avg_income/person\": 6085, \"life_expectancy_years\": 74.42, \"country\": \"pry\", \"main_religion_2008\": \"christian\", \"population_total\": 5302700}, {\"geo\": \"pse\", \"time\": 2000, \"avg_income/person\": 2256, \"life_expectancy_years\": 71.43, \"country\": \"pse\", \"main_religion_2008\": \"muslim\", \"population_total\": 3223009}, {\"geo\": \"qat\", \"time\": 2000, \"avg_income/person\": 108324, \"life_expectancy_years\": 75.31, \"country\": \"qat\", \"main_religion_2008\": \"muslim\", \"population_total\": 592267}, {\"geo\": \"rou\", \"time\": 2000, \"avg_income/person\": 10523, \"life_expectancy_years\": 71.19, \"country\": \"rou\", \"main_religion_2008\": \"christian\", \"population_total\": 22128128}, {\"geo\": \"rus\", \"time\": 2000, \"avg_income/person\": 14051, \"life_expectancy_years\": 65.59, \"country\": \"rus\", \"main_religion_2008\": \"christian\", \"population_total\": 146396514}, {\"geo\": \"rwa\", \"time\": 2000, \"avg_income/person\": 785, \"life_expectancy_years\": 49.37, \"country\": \"rwa\", \"main_religion_2008\": \"christian\", \"population_total\": 8025703}, {\"geo\": \"sau\", \"time\": 2000, \"avg_income/person\": 43071, \"life_expectancy_years\": 73.01, \"country\": \"sau\", \"main_religion_2008\": \"muslim\", \"population_total\": 20764312}, {\"geo\": \"sdn\", \"time\": 2000, \"avg_income/person\": 2287, \"life_expectancy_years\": 62.59, \"country\": \"sdn\", \"main_religion_2008\": \"muslim\", \"population_total\": 27250535}, {\"geo\": \"sen\", \"time\": 2000, \"avg_income/person\": 1908, \"life_expectancy_years\": 59.64, \"country\": \"sen\", \"main_religion_2008\": \"muslim\", \"population_total\": 9884052}, {\"geo\": \"sgp\", \"time\": 2000, \"avg_income/person\": 51699, \"life_expectancy_years\": 79.38, \"country\": \"sgp\", \"main_religion_2008\": \"eastern_religions\", \"population_total\": 3913960}, {\"geo\": \"slb\", \"time\": 2000, \"avg_income/person\": 1729, \"life_expectancy_years\": 61.45, \"country\": \"slb\", \"main_religion_2008\": \"christian\", \"population_total\": 412609}, {\"geo\": \"slv\", \"time\": 2000, \"avg_income/person\": 6364, \"life_expectancy_years\": 72.19, \"country\": \"slv\", \"main_religion_2008\": \"christian\", \"population_total\": 5867626}, {\"geo\": \"som\", \"time\": 2000, \"avg_income/person\": 603, \"life_expectancy_years\": 52.06, \"country\": \"som\", \"main_religion_2008\": \"muslim\", \"population_total\": 9011479}, {\"geo\": \"srb\", \"time\": 2000, \"avg_income/person\": 7985, \"life_expectancy_years\": 72.16, \"country\": \"srb\", \"main_religion_2008\": \"christian\", \"population_total\": 9487615}, {\"geo\": \"stp\", \"time\": 2000, \"avg_income/person\": 1998, \"life_expectancy_years\": 64.56, \"country\": \"stp\", \"main_religion_2008\": \"christian\", \"population_total\": 138606}, {\"geo\": \"sur\", \"time\": 2000, \"avg_income/person\": 9731, \"life_expectancy_years\": 69.69, \"country\": \"sur\", \"main_religion_2008\": \"christian\", \"population_total\": 472390}, {\"geo\": \"svk\", \"time\": 2000, \"avg_income/person\": 15605, \"life_expectancy_years\": 73.26, \"country\": \"svk\", \"main_religion_2008\": \"christian\", \"population_total\": 5399211}, {\"geo\": \"svn\", \"time\": 2000, \"avg_income/person\": 22723, \"life_expectancy_years\": 75.94, \"country\": \"svn\", \"main_religion_2008\": \"christian\", \"population_total\": 1988499}, {\"geo\": \"swe\", \"time\": 2000, \"avg_income/person\": 36855, \"life_expectancy_years\": 79.66, \"country\": \"swe\", \"main_religion_2008\": \"christian\", \"population_total\": 8881640}, {\"geo\": \"swz\", \"time\": 2000, \"avg_income/person\": 5839, \"life_expectancy_years\": 47.49, \"country\": \"swz\", \"main_religion_2008\": \"christian\", \"population_total\": 1061468}, {\"geo\": \"syc\", \"time\": 2000, \"avg_income/person\": 18453, \"life_expectancy_years\": 71.15, \"country\": \"syc\", \"main_religion_2008\": \"christian\", \"population_total\": 81151}, {\"geo\": \"syr\", \"time\": 2000, \"avg_income/person\": 5188, \"life_expectancy_years\": 73.32, \"country\": \"syr\", \"main_religion_2008\": \"muslim\", \"population_total\": 16410848}, {\"geo\": \"tcd\", \"time\": 2000, \"avg_income/person\": 993, \"life_expectancy_years\": 52.16, \"country\": \"tcd\", \"main_religion_2008\": \"muslim\", \"population_total\": 8342559}, {\"geo\": \"tha\", \"time\": 2000, \"avg_income/person\": 9189, \"life_expectancy_years\": 71.97, \"country\": \"tha\", \"main_religion_2008\": \"eastern_religions\", \"population_total\": 62958021}, {\"geo\": \"tjk\", \"time\": 2000, \"avg_income/person\": 1180, \"life_expectancy_years\": 65.21, \"country\": \"tjk\", \"main_religion_2008\": \"muslim\", \"population_total\": 6216205}, {\"geo\": \"tkm\", \"time\": 2000, \"avg_income/person\": 5333, \"life_expectancy_years\": 63.69, \"country\": \"tkm\", \"main_religion_2008\": \"muslim\", \"population_total\": 4516131}, {\"geo\": \"tls\", \"time\": 2000, \"avg_income/person\": 1391, \"life_expectancy_years\": 63.69, \"country\": \"tls\", \"main_religion_2008\": \"christian\", \"population_total\": 871607}, {\"geo\": \"ton\", \"time\": 2000, \"avg_income/person\": 4602, \"life_expectancy_years\": 68.75, \"country\": \"ton\", \"main_religion_2008\": \"christian\", \"population_total\": 98082}, {\"geo\": \"tto\", \"time\": 2000, \"avg_income/person\": 18324, \"life_expectancy_years\": 69.51, \"country\": \"tto\", \"main_religion_2008\": \"christian\", \"population_total\": 1267984}, {\"geo\": \"tun\", \"time\": 2000, \"avg_income/person\": 7574, \"life_expectancy_years\": 75.01, \"country\": \"tun\", \"main_religion_2008\": \"muslim\", \"population_total\": 9699197}, {\"geo\": \"tur\", \"time\": 2000, \"avg_income/person\": 13862, \"life_expectancy_years\": 74.11, \"country\": \"tur\", \"main_religion_2008\": \"muslim\", \"population_total\": 63240121}, {\"geo\": \"tza\", \"time\": 2000, \"avg_income/person\": 1482, \"life_expectancy_years\": 52.86, \"country\": \"tza\", \"main_religion_2008\": \"christian\", \"population_total\": 34178042}, {\"geo\": \"uga\", \"time\": 2000, \"avg_income/person\": 1067, \"life_expectancy_years\": 48.71, \"country\": \"uga\", \"main_religion_2008\": \"christian\", \"population_total\": 24039274}, {\"geo\": \"ukr\", \"time\": 2000, \"avg_income/person\": 4797, \"life_expectancy_years\": 67.44, \"country\": \"ukr\", \"main_religion_2008\": \"christian\", \"population_total\": 48840074}, {\"geo\": \"ury\", \"time\": 2000, \"avg_income/person\": 12875, \"life_expectancy_years\": 74.82, \"country\": \"ury\", \"main_religion_2008\": \"christian\", \"population_total\": 3321245}, {\"geo\": \"usa\", \"time\": 2000, \"avg_income/person\": 45986, \"life_expectancy_years\": 76.9, \"country\": \"usa\", \"main_religion_2008\": \"christian\", \"population_total\": 281982778}, {\"geo\": \"uzb\", \"time\": 2000, \"avg_income/person\": 2504, \"life_expectancy_years\": 66.36, \"country\": \"uzb\", \"main_religion_2008\": \"muslim\", \"population_total\": 24848920}, {\"geo\": \"vct\", \"time\": 2000, \"avg_income/person\": 7555, \"life_expectancy_years\": 70.22, \"country\": \"vct\", \"main_religion_2008\": \"christian\", \"population_total\": 107898}, {\"geo\": \"ven\", \"time\": 2000, \"avg_income/person\": 14413, \"life_expectancy_years\": 74.3, \"country\": \"ven\", \"main_religion_2008\": \"christian\", \"population_total\": 24488340}, {\"geo\": \"vnm\", \"time\": 2000, \"avg_income/person\": 2650, \"life_expectancy_years\": 70.71, \"country\": \"vnm\", \"main_religion_2008\": \"eastern_religions\", \"population_total\": 80285562}, {\"geo\": \"vut\", \"time\": 2000, \"avg_income/person\": 2823, \"life_expectancy_years\": 62.39, \"country\": \"vut\", \"main_religion_2008\": \"christian\", \"population_total\": 185063}, {\"geo\": \"wsm\", \"time\": 2000, \"avg_income/person\": 4326, \"life_expectancy_years\": 70.45, \"country\": \"wsm\", \"main_religion_2008\": \"christian\", \"population_total\": 174610}, {\"geo\": \"yem\", \"time\": 2000, \"avg_income/person\": 3894, \"life_expectancy_years\": 62.61, \"country\": \"yem\", \"main_religion_2008\": \"muslim\", \"population_total\": 17874725}, {\"geo\": \"zaf\", \"time\": 2000, \"avg_income/person\": 9716, \"life_expectancy_years\": 55.43, \"country\": \"zaf\", \"main_religion_2008\": \"christian\", \"population_total\": 45728315}, {\"geo\": \"zmb\", \"time\": 2000, \"avg_income/person\": 2103, \"life_expectancy_years\": 44.15, \"country\": \"zmb\", \"main_religion_2008\": \"christian\", \"population_total\": 10531221}, {\"geo\": \"zwe\", \"time\": 2000, \"avg_income/person\": 2571, \"life_expectancy_years\": 46.69, \"country\": \"zwe\", \"main_religion_2008\": \"christian\", \"population_total\": 12222251}]}};\n",
              "      var embedOpt = {\"mode\": \"vega-lite\"};\n",
              "\n",
              "      function showError(el, error){\n",
              "          el.innerHTML = ('<div class=\"error\" style=\"color:red;\">'\n",
              "                          + '<p>JavaScript Error: ' + error.message + '</p>'\n",
              "                          + \"<p>This usually means there's a typo in your chart specification. \"\n",
              "                          + \"See the javascript console for the full traceback.</p>\"\n",
              "                          + '</div>');\n",
              "          throw error;\n",
              "      }\n",
              "      const el = document.getElementById('altair-viz');\n",
              "      vegaEmbed(\"#altair-viz\", spec, embedOpt)\n",
              "        .catch(error => showError(el, error));\n",
              "    })(vegaEmbed);\n",
              "\n",
              "  </script>\n",
              "</body>\n",
              "</html>"
            ]
          },
          "metadata": {
            "tags": []
          },
          "execution_count": 222
        }
      ]
    },
    {
      "cell_type": "markdown",
      "metadata": {
        "id": "PKjJTQXI3qGI",
        "colab_type": "text"
      },
      "source": [
        "# STRETCH OPTIONS\n",
        "\n",
        "## 1. Animate!\n",
        "\n",
        "- [How to Create Animated Graphs in Python](https://towardsdatascience.com/how-to-create-animated-graphs-in-python-bb619cc2dec1)\n",
        "- Try using [Plotly](https://plot.ly/python/animations/)!\n",
        "- [The Ultimate Day of Chicago Bikeshare](https://chrisluedtke.github.io/divvy-data.html) (Lambda School Data Science student)\n",
        "- [Using Phoebe for animations in Google Colab](https://colab.research.google.com/github/phoebe-project/phoebe2-docs/blob/2.1/tutorials/animations.ipynb)\n",
        "\n",
        "## 2. Study for the Sprint Challenge\n",
        "\n",
        "- Concatenate DataFrames\n",
        "- Merge DataFrames\n",
        "- Reshape data with `pivot_table()` and `.melt()`\n",
        "- Be able to reproduce a FiveThirtyEight graph using Matplotlib or Seaborn.\n",
        "\n",
        "## 3. Work on anything related to your portfolio site / Data Storytelling Project"
      ]
    },
    {
      "cell_type": "code",
      "metadata": {
        "id": "7lLHHhW0z0vf",
        "colab_type": "code",
        "colab": {}
      },
      "source": [
        "# TODO"
      ],
      "execution_count": 0,
      "outputs": []
    }
  ]
}