{
  "nbformat": 4,
  "nbformat_minor": 0,
  "metadata": {
    "colab": {
      "name": "LS_DS_224_Sequence_your_narrative.ipynb",
      "version": "0.3.2",
      "provenance": [],
      "collapsed_sections": []
    },
    "kernelspec": {
      "display_name": "Python 3",
      "language": "python",
      "name": "python3"
    },
    "language_info": {
      "codemirror_mode": {
        "name": "ipython",
        "version": 3
      },
      "file_extension": ".py",
      "mimetype": "text/x-python",
      "name": "python",
      "nbconvert_exporter": "python",
      "pygments_lexer": "ipython3",
      "version": "3.7.1"
    }
  },
  "cells": [
    {
      "cell_type": "markdown",
      "metadata": {
        "colab_type": "text",
        "id": "JbDHnhet8CWy"
      },
      "source": [
        "_Lambda School Data Science_\n",
        "\n",
        "# Sequence your narrative\n",
        "\n",
        "Today we will create a sequence of visualizations inspired by [Hans Rosling's 200 Countries, 200 Years, 4 Minutes](https://www.youtube.com/watch?v=jbkSRLYSojo).\n",
        "\n",
        "Using this [data from Gapminder](https://github.com/open-numbers/ddf--gapminder--systema_globalis/):\n",
        "- [Income Per Person (GDP Per Capital, Inflation Adjusted) by Geo & Time](https://raw.githubusercontent.com/open-numbers/ddf--gapminder--systema_globalis/master/ddf--datapoints--income_per_person_gdppercapita_ppp_inflation_adjusted--by--geo--time.csv)\n",
        "- [Life Expectancy (in Years) by Geo & Time](https://raw.githubusercontent.com/open-numbers/ddf--gapminder--systema_globalis/master/ddf--datapoints--life_expectancy_years--by--geo--time.csv)\n",
        "- [Population Totals, by Geo & Time](https://raw.githubusercontent.com/open-numbers/ddf--gapminder--systema_globalis/master/ddf--datapoints--population_total--by--geo--time.csv)\n",
        "- [Entities](https://raw.githubusercontent.com/open-numbers/ddf--gapminder--systema_globalis/master/ddf--entities--geo--country.csv)\n",
        "- [Concepts](https://raw.githubusercontent.com/open-numbers/ddf--gapminder--systema_globalis/master/ddf--concepts.csv)"
      ]
    },
    {
      "cell_type": "markdown",
      "metadata": {
        "colab_type": "text",
        "id": "zyPYtsY6HtIK"
      },
      "source": [
        "Objectives\n",
        "- sequence multiple visualizations\n",
        "- combine qualitative anecdotes with quantitative aggregates\n",
        "\n",
        "Links\n",
        "- [Hans Rosling’s TED talks](https://www.ted.com/speakers/hans_rosling)\n",
        "- [Spiralling global temperatures from 1850-2016](https://twitter.com/ed_hawkins/status/729753441459945474)\n",
        "- \"[The Pudding](https://pudding.cool/) explains ideas debated in culture with visual essays.\"\n",
        "- [A Data Point Walks Into a Bar](https://lisacharlotterost.github.io/2016/12/27/datapoint-in-bar/): a thoughtful blog post about emotion and empathy in data storytelling"
      ]
    },
    {
      "cell_type": "markdown",
      "metadata": {
        "colab_type": "text",
        "id": "SxTJBgRAW3jD"
      },
      "source": [
        "## Make a plan\n",
        "\n",
        "#### How to present the data?\n",
        "\n",
        "Variables --> Visual Encodings\n",
        "- Income --> x\n",
        "- Lifespan --> y\n",
        "- Region --> color\n",
        "- Population --> size\n",
        "- Year --> animation frame (alternative: small multiple)\n",
        "- Country --> annotation\n",
        "\n",
        "Qualitative --> Verbal\n",
        "- Editorial / contextual explanation --> audio narration (alternative: text)\n",
        "\n",
        "\n",
        "#### How to structure the data?\n",
        "\n",
        "| Year | Country | Region   | Income | Lifespan | Population |\n",
        "|------|---------|----------|--------|----------|------------|\n",
        "| 1818 | USA     | Americas | ###    | ##       | #          |\n",
        "| 1918 | USA     | Americas | ####   | ###      | ##         |\n",
        "| 2018 | USA     | Americas | #####  | ###      | ###        |\n",
        "| 1818 | China   | Asia     | #      | #        | #          |\n",
        "| 1918 | China   | Asia     | ##     | ##       | ###        |\n",
        "| 2018 | China   | Asia     | ###    | ###      | #####      |\n"
      ]
    },
    {
      "cell_type": "markdown",
      "metadata": {
        "colab_type": "text",
        "id": "3ebEjShbWsIy"
      },
      "source": [
        "## Upgrade Seaborn\n",
        "\n",
        "Make sure you have at least version 0.9.0.\n",
        "\n",
        "In Colab, go to **Restart runtime** after you run the `pip` command."
      ]
    },
    {
      "cell_type": "code",
      "metadata": {
        "colab_type": "code",
        "id": "4RSxbu7rWr1p",
        "colab": {
          "base_uri": "https://localhost:8080/",
          "height": 237
        },
        "outputId": "eff5f6fd-4be8-41ac-be9e-ee7a02d62662"
      },
      "source": [
        "!pip install --upgrade seaborn"
      ],
      "execution_count": 1,
      "outputs": [
        {
          "output_type": "stream",
          "text": [
            "Requirement already up-to-date: seaborn in /usr/local/lib/python3.6/dist-packages (0.9.0)\n",
            "Requirement already satisfied, skipping upgrade: numpy>=1.9.3 in /usr/local/lib/python3.6/dist-packages (from seaborn) (1.16.4)\n",
            "Requirement already satisfied, skipping upgrade: pandas>=0.15.2 in /usr/local/lib/python3.6/dist-packages (from seaborn) (0.24.2)\n",
            "Requirement already satisfied, skipping upgrade: matplotlib>=1.4.3 in /usr/local/lib/python3.6/dist-packages (from seaborn) (3.0.3)\n",
            "Requirement already satisfied, skipping upgrade: scipy>=0.14.0 in /usr/local/lib/python3.6/dist-packages (from seaborn) (1.3.0)\n",
            "Requirement already satisfied, skipping upgrade: pytz>=2011k in /usr/local/lib/python3.6/dist-packages (from pandas>=0.15.2->seaborn) (2018.9)\n",
            "Requirement already satisfied, skipping upgrade: python-dateutil>=2.5.0 in /usr/local/lib/python3.6/dist-packages (from pandas>=0.15.2->seaborn) (2.5.3)\n",
            "Requirement already satisfied, skipping upgrade: cycler>=0.10 in /usr/local/lib/python3.6/dist-packages (from matplotlib>=1.4.3->seaborn) (0.10.0)\n",
            "Requirement already satisfied, skipping upgrade: kiwisolver>=1.0.1 in /usr/local/lib/python3.6/dist-packages (from matplotlib>=1.4.3->seaborn) (1.1.0)\n",
            "Requirement already satisfied, skipping upgrade: pyparsing!=2.0.4,!=2.1.2,!=2.1.6,>=2.0.1 in /usr/local/lib/python3.6/dist-packages (from matplotlib>=1.4.3->seaborn) (2.4.0)\n",
            "Requirement already satisfied, skipping upgrade: six>=1.5 in /usr/local/lib/python3.6/dist-packages (from python-dateutil>=2.5.0->pandas>=0.15.2->seaborn) (1.12.0)\n",
            "Requirement already satisfied, skipping upgrade: setuptools in /usr/local/lib/python3.6/dist-packages (from kiwisolver>=1.0.1->matplotlib>=1.4.3->seaborn) (41.0.1)\n"
          ],
          "name": "stdout"
        }
      ]
    },
    {
      "cell_type": "code",
      "metadata": {
        "colab_type": "code",
        "id": "5sQ0-7JUWyN4",
        "colab": {
          "base_uri": "https://localhost:8080/",
          "height": 33
        },
        "outputId": "dadab977-b10b-4b8f-b442-1a103da2daa2"
      },
      "source": [
        "import seaborn as sns\n",
        "sns.__version__"
      ],
      "execution_count": 2,
      "outputs": [
        {
          "output_type": "execute_result",
          "data": {
            "text/plain": [
              "'0.9.0'"
            ]
          },
          "metadata": {
            "tags": []
          },
          "execution_count": 2
        }
      ]
    },
    {
      "cell_type": "markdown",
      "metadata": {
        "colab_type": "text",
        "id": "S2dXWRTFTsgd"
      },
      "source": [
        "## More imports"
      ]
    },
    {
      "cell_type": "code",
      "metadata": {
        "colab_type": "code",
        "id": "y-TgL_mA8OkF",
        "colab": {}
      },
      "source": [
        "%matplotlib inline\n",
        "import matplotlib.pyplot as plt\n",
        "import numpy as np\n",
        "import pandas as pd"
      ],
      "execution_count": 0,
      "outputs": []
    },
    {
      "cell_type": "markdown",
      "metadata": {
        "colab_type": "text",
        "id": "CZGG5prcTxrQ"
      },
      "source": [
        "## Load & look at data"
      ]
    },
    {
      "cell_type": "code",
      "metadata": {
        "colab_type": "code",
        "id": "-uE25LHD8CW0",
        "colab": {}
      },
      "source": [
        "income = pd.read_csv('https://raw.githubusercontent.com/open-numbers/ddf--gapminder--systema_globalis/master/ddf--datapoints--income_per_person_gdppercapita_ppp_inflation_adjusted--by--geo--time.csv')"
      ],
      "execution_count": 0,
      "outputs": []
    },
    {
      "cell_type": "code",
      "metadata": {
        "colab_type": "code",
        "id": "gg_pJslMY2bq",
        "colab": {}
      },
      "source": [
        "lifespan = pd.read_csv('https://raw.githubusercontent.com/open-numbers/ddf--gapminder--systema_globalis/master/ddf--datapoints--life_expectancy_years--by--geo--time.csv')"
      ],
      "execution_count": 0,
      "outputs": []
    },
    {
      "cell_type": "code",
      "metadata": {
        "colab_type": "code",
        "id": "F6knDUevY-xR",
        "colab": {}
      },
      "source": [
        "population = pd.read_csv('https://raw.githubusercontent.com/open-numbers/ddf--gapminder--systema_globalis/master/ddf--datapoints--population_total--by--geo--time.csv')"
      ],
      "execution_count": 0,
      "outputs": []
    },
    {
      "cell_type": "code",
      "metadata": {
        "colab_type": "code",
        "id": "hX6abI-iZGLl",
        "colab": {}
      },
      "source": [
        "entities = pd.read_csv('https://raw.githubusercontent.com/open-numbers/ddf--gapminder--systema_globalis/master/ddf--entities--geo--country.csv')"
      ],
      "execution_count": 0,
      "outputs": []
    },
    {
      "cell_type": "code",
      "metadata": {
        "colab_type": "code",
        "id": "AI-zcaDkZHXm",
        "colab": {}
      },
      "source": [
        "concepts = pd.read_csv('https://raw.githubusercontent.com/open-numbers/ddf--gapminder--systema_globalis/master/ddf--concepts.csv')"
      ],
      "execution_count": 0,
      "outputs": []
    },
    {
      "cell_type": "code",
      "metadata": {
        "colab_type": "code",
        "id": "EgFw-g0nZLJy",
        "colab": {
          "base_uri": "https://localhost:8080/",
          "height": 33
        },
        "outputId": "bfcd080f-d361-4637-a58b-5d71a3184b06"
      },
      "source": [
        "income.shape, lifespan.shape, population.shape, entities.shape, concepts.shape"
      ],
      "execution_count": 9,
      "outputs": [
        {
          "output_type": "execute_result",
          "data": {
            "text/plain": [
              "((46513, 3), (44370, 3), (59297, 3), (273, 33), (590, 16))"
            ]
          },
          "metadata": {
            "tags": []
          },
          "execution_count": 9
        }
      ]
    },
    {
      "cell_type": "code",
      "metadata": {
        "colab_type": "code",
        "id": "I-T62v7FZQu5",
        "colab": {
          "base_uri": "https://localhost:8080/",
          "height": 196
        },
        "outputId": "a1a5d01f-28ea-4199-aecd-62192f4d3ed9"
      },
      "source": [
        "income.head()"
      ],
      "execution_count": 10,
      "outputs": [
        {
          "output_type": "execute_result",
          "data": {
            "text/html": [
              "<div>\n",
              "<style scoped>\n",
              "    .dataframe tbody tr th:only-of-type {\n",
              "        vertical-align: middle;\n",
              "    }\n",
              "\n",
              "    .dataframe tbody tr th {\n",
              "        vertical-align: top;\n",
              "    }\n",
              "\n",
              "    .dataframe thead th {\n",
              "        text-align: right;\n",
              "    }\n",
              "</style>\n",
              "<table border=\"1\" class=\"dataframe\">\n",
              "  <thead>\n",
              "    <tr style=\"text-align: right;\">\n",
              "      <th></th>\n",
              "      <th>geo</th>\n",
              "      <th>time</th>\n",
              "      <th>income_per_person_gdppercapita_ppp_inflation_adjusted</th>\n",
              "    </tr>\n",
              "  </thead>\n",
              "  <tbody>\n",
              "    <tr>\n",
              "      <th>0</th>\n",
              "      <td>afg</td>\n",
              "      <td>1800</td>\n",
              "      <td>603</td>\n",
              "    </tr>\n",
              "    <tr>\n",
              "      <th>1</th>\n",
              "      <td>afg</td>\n",
              "      <td>1801</td>\n",
              "      <td>603</td>\n",
              "    </tr>\n",
              "    <tr>\n",
              "      <th>2</th>\n",
              "      <td>afg</td>\n",
              "      <td>1802</td>\n",
              "      <td>603</td>\n",
              "    </tr>\n",
              "    <tr>\n",
              "      <th>3</th>\n",
              "      <td>afg</td>\n",
              "      <td>1803</td>\n",
              "      <td>603</td>\n",
              "    </tr>\n",
              "    <tr>\n",
              "      <th>4</th>\n",
              "      <td>afg</td>\n",
              "      <td>1804</td>\n",
              "      <td>603</td>\n",
              "    </tr>\n",
              "  </tbody>\n",
              "</table>\n",
              "</div>"
            ],
            "text/plain": [
              "   geo  time  income_per_person_gdppercapita_ppp_inflation_adjusted\n",
              "0  afg  1800                                                603    \n",
              "1  afg  1801                                                603    \n",
              "2  afg  1802                                                603    \n",
              "3  afg  1803                                                603    \n",
              "4  afg  1804                                                603    "
            ]
          },
          "metadata": {
            "tags": []
          },
          "execution_count": 10
        }
      ]
    },
    {
      "cell_type": "code",
      "metadata": {
        "colab_type": "code",
        "id": "2zIdtDESZYG5",
        "colab": {
          "base_uri": "https://localhost:8080/",
          "height": 196
        },
        "outputId": "9b48d1d5-0016-4875-99e5-6266609e5d53"
      },
      "source": [
        "lifespan.head()"
      ],
      "execution_count": 11,
      "outputs": [
        {
          "output_type": "execute_result",
          "data": {
            "text/html": [
              "<div>\n",
              "<style scoped>\n",
              "    .dataframe tbody tr th:only-of-type {\n",
              "        vertical-align: middle;\n",
              "    }\n",
              "\n",
              "    .dataframe tbody tr th {\n",
              "        vertical-align: top;\n",
              "    }\n",
              "\n",
              "    .dataframe thead th {\n",
              "        text-align: right;\n",
              "    }\n",
              "</style>\n",
              "<table border=\"1\" class=\"dataframe\">\n",
              "  <thead>\n",
              "    <tr style=\"text-align: right;\">\n",
              "      <th></th>\n",
              "      <th>geo</th>\n",
              "      <th>time</th>\n",
              "      <th>life_expectancy_years</th>\n",
              "    </tr>\n",
              "  </thead>\n",
              "  <tbody>\n",
              "    <tr>\n",
              "      <th>0</th>\n",
              "      <td>abw</td>\n",
              "      <td>1800</td>\n",
              "      <td>34.42</td>\n",
              "    </tr>\n",
              "    <tr>\n",
              "      <th>1</th>\n",
              "      <td>abw</td>\n",
              "      <td>1801</td>\n",
              "      <td>34.42</td>\n",
              "    </tr>\n",
              "    <tr>\n",
              "      <th>2</th>\n",
              "      <td>abw</td>\n",
              "      <td>1802</td>\n",
              "      <td>34.42</td>\n",
              "    </tr>\n",
              "    <tr>\n",
              "      <th>3</th>\n",
              "      <td>abw</td>\n",
              "      <td>1803</td>\n",
              "      <td>34.42</td>\n",
              "    </tr>\n",
              "    <tr>\n",
              "      <th>4</th>\n",
              "      <td>abw</td>\n",
              "      <td>1804</td>\n",
              "      <td>34.42</td>\n",
              "    </tr>\n",
              "  </tbody>\n",
              "</table>\n",
              "</div>"
            ],
            "text/plain": [
              "   geo  time  life_expectancy_years\n",
              "0  abw  1800                  34.42\n",
              "1  abw  1801                  34.42\n",
              "2  abw  1802                  34.42\n",
              "3  abw  1803                  34.42\n",
              "4  abw  1804                  34.42"
            ]
          },
          "metadata": {
            "tags": []
          },
          "execution_count": 11
        }
      ]
    },
    {
      "cell_type": "code",
      "metadata": {
        "colab_type": "code",
        "id": "58AXNVMKZj3T",
        "colab": {
          "base_uri": "https://localhost:8080/",
          "height": 196
        },
        "outputId": "21ba51bf-e7c9-4e98-ef51-31f7993b0363"
      },
      "source": [
        "population.head()"
      ],
      "execution_count": 12,
      "outputs": [
        {
          "output_type": "execute_result",
          "data": {
            "text/html": [
              "<div>\n",
              "<style scoped>\n",
              "    .dataframe tbody tr th:only-of-type {\n",
              "        vertical-align: middle;\n",
              "    }\n",
              "\n",
              "    .dataframe tbody tr th {\n",
              "        vertical-align: top;\n",
              "    }\n",
              "\n",
              "    .dataframe thead th {\n",
              "        text-align: right;\n",
              "    }\n",
              "</style>\n",
              "<table border=\"1\" class=\"dataframe\">\n",
              "  <thead>\n",
              "    <tr style=\"text-align: right;\">\n",
              "      <th></th>\n",
              "      <th>geo</th>\n",
              "      <th>time</th>\n",
              "      <th>population_total</th>\n",
              "    </tr>\n",
              "  </thead>\n",
              "  <tbody>\n",
              "    <tr>\n",
              "      <th>0</th>\n",
              "      <td>afg</td>\n",
              "      <td>1800</td>\n",
              "      <td>3280000</td>\n",
              "    </tr>\n",
              "    <tr>\n",
              "      <th>1</th>\n",
              "      <td>afg</td>\n",
              "      <td>1801</td>\n",
              "      <td>3280000</td>\n",
              "    </tr>\n",
              "    <tr>\n",
              "      <th>2</th>\n",
              "      <td>afg</td>\n",
              "      <td>1802</td>\n",
              "      <td>3280000</td>\n",
              "    </tr>\n",
              "    <tr>\n",
              "      <th>3</th>\n",
              "      <td>afg</td>\n",
              "      <td>1803</td>\n",
              "      <td>3280000</td>\n",
              "    </tr>\n",
              "    <tr>\n",
              "      <th>4</th>\n",
              "      <td>afg</td>\n",
              "      <td>1804</td>\n",
              "      <td>3280000</td>\n",
              "    </tr>\n",
              "  </tbody>\n",
              "</table>\n",
              "</div>"
            ],
            "text/plain": [
              "   geo  time  population_total\n",
              "0  afg  1800           3280000\n",
              "1  afg  1801           3280000\n",
              "2  afg  1802           3280000\n",
              "3  afg  1803           3280000\n",
              "4  afg  1804           3280000"
            ]
          },
          "metadata": {
            "tags": []
          },
          "execution_count": 12
        }
      ]
    },
    {
      "cell_type": "code",
      "metadata": {
        "colab_type": "code",
        "id": "0ywWDL2MZqlF",
        "colab": {
          "base_uri": "https://localhost:8080/",
          "height": 266
        },
        "outputId": "30f4d5cc-7877-466f-8e43-fa0da03166c2"
      },
      "source": [
        "pd.options.display.max_columns = 500\n",
        "entities.head()"
      ],
      "execution_count": 13,
      "outputs": [
        {
          "output_type": "execute_result",
          "data": {
            "text/html": [
              "<div>\n",
              "<style scoped>\n",
              "    .dataframe tbody tr th:only-of-type {\n",
              "        vertical-align: middle;\n",
              "    }\n",
              "\n",
              "    .dataframe tbody tr th {\n",
              "        vertical-align: top;\n",
              "    }\n",
              "\n",
              "    .dataframe thead th {\n",
              "        text-align: right;\n",
              "    }\n",
              "</style>\n",
              "<table border=\"1\" class=\"dataframe\">\n",
              "  <thead>\n",
              "    <tr style=\"text-align: right;\">\n",
              "      <th></th>\n",
              "      <th>country</th>\n",
              "      <th>alt_5</th>\n",
              "      <th>alternative_1</th>\n",
              "      <th>alternative_2</th>\n",
              "      <th>alternative_3</th>\n",
              "      <th>alternative_4_cdiac</th>\n",
              "      <th>arb1</th>\n",
              "      <th>arb2</th>\n",
              "      <th>arb3</th>\n",
              "      <th>arb4</th>\n",
              "      <th>arb5</th>\n",
              "      <th>arb6</th>\n",
              "      <th>g77_and_oecd_countries</th>\n",
              "      <th>gapminder_list</th>\n",
              "      <th>god_id</th>\n",
              "      <th>gwid</th>\n",
              "      <th>income_groups</th>\n",
              "      <th>is--country</th>\n",
              "      <th>iso3166_1_alpha2</th>\n",
              "      <th>iso3166_1_alpha3</th>\n",
              "      <th>iso3166_1_numeric</th>\n",
              "      <th>iso3166_2</th>\n",
              "      <th>landlocked</th>\n",
              "      <th>latitude</th>\n",
              "      <th>longitude</th>\n",
              "      <th>main_religion_2008</th>\n",
              "      <th>name</th>\n",
              "      <th>pandg</th>\n",
              "      <th>un_state</th>\n",
              "      <th>unicode_region_subtag</th>\n",
              "      <th>upper_case_name</th>\n",
              "      <th>world_4region</th>\n",
              "      <th>world_6region</th>\n",
              "    </tr>\n",
              "  </thead>\n",
              "  <tbody>\n",
              "    <tr>\n",
              "      <th>0</th>\n",
              "      <td>abkh</td>\n",
              "      <td>NaN</td>\n",
              "      <td>NaN</td>\n",
              "      <td>NaN</td>\n",
              "      <td>NaN</td>\n",
              "      <td>NaN</td>\n",
              "      <td>NaN</td>\n",
              "      <td>NaN</td>\n",
              "      <td>NaN</td>\n",
              "      <td>NaN</td>\n",
              "      <td>NaN</td>\n",
              "      <td>NaN</td>\n",
              "      <td>others</td>\n",
              "      <td>Abkhazia</td>\n",
              "      <td>GE-AB</td>\n",
              "      <td>i0</td>\n",
              "      <td>NaN</td>\n",
              "      <td>True</td>\n",
              "      <td>NaN</td>\n",
              "      <td>NaN</td>\n",
              "      <td>NaN</td>\n",
              "      <td>NaN</td>\n",
              "      <td>NaN</td>\n",
              "      <td>NaN</td>\n",
              "      <td>NaN</td>\n",
              "      <td>NaN</td>\n",
              "      <td>Abkhazia</td>\n",
              "      <td>NaN</td>\n",
              "      <td>False</td>\n",
              "      <td>NaN</td>\n",
              "      <td>NaN</td>\n",
              "      <td>europe</td>\n",
              "      <td>europe_central_asia</td>\n",
              "    </tr>\n",
              "    <tr>\n",
              "      <th>1</th>\n",
              "      <td>abw</td>\n",
              "      <td>NaN</td>\n",
              "      <td>NaN</td>\n",
              "      <td>NaN</td>\n",
              "      <td>NaN</td>\n",
              "      <td>Aruba</td>\n",
              "      <td>NaN</td>\n",
              "      <td>NaN</td>\n",
              "      <td>NaN</td>\n",
              "      <td>NaN</td>\n",
              "      <td>NaN</td>\n",
              "      <td>NaN</td>\n",
              "      <td>others</td>\n",
              "      <td>Aruba</td>\n",
              "      <td>AW</td>\n",
              "      <td>i12</td>\n",
              "      <td>high_income</td>\n",
              "      <td>True</td>\n",
              "      <td>AW</td>\n",
              "      <td>ABW</td>\n",
              "      <td>533.0</td>\n",
              "      <td>NaN</td>\n",
              "      <td>coastline</td>\n",
              "      <td>12.50000</td>\n",
              "      <td>-69.96667</td>\n",
              "      <td>christian</td>\n",
              "      <td>Aruba</td>\n",
              "      <td>NaN</td>\n",
              "      <td>False</td>\n",
              "      <td>AW</td>\n",
              "      <td>ARUBA</td>\n",
              "      <td>americas</td>\n",
              "      <td>america</td>\n",
              "    </tr>\n",
              "    <tr>\n",
              "      <th>2</th>\n",
              "      <td>afg</td>\n",
              "      <td>NaN</td>\n",
              "      <td>Islamic Republic of Afghanistan</td>\n",
              "      <td>NaN</td>\n",
              "      <td>NaN</td>\n",
              "      <td>Afghanistan</td>\n",
              "      <td>NaN</td>\n",
              "      <td>NaN</td>\n",
              "      <td>NaN</td>\n",
              "      <td>NaN</td>\n",
              "      <td>NaN</td>\n",
              "      <td>NaN</td>\n",
              "      <td>g77</td>\n",
              "      <td>Afghanistan</td>\n",
              "      <td>AF</td>\n",
              "      <td>i1</td>\n",
              "      <td>low_income</td>\n",
              "      <td>True</td>\n",
              "      <td>AF</td>\n",
              "      <td>AFG</td>\n",
              "      <td>4.0</td>\n",
              "      <td>NaN</td>\n",
              "      <td>landlocked</td>\n",
              "      <td>33.00000</td>\n",
              "      <td>66.00000</td>\n",
              "      <td>muslim</td>\n",
              "      <td>Afghanistan</td>\n",
              "      <td>AFGHANISTAN</td>\n",
              "      <td>True</td>\n",
              "      <td>AF</td>\n",
              "      <td>AFGHANISTAN</td>\n",
              "      <td>asia</td>\n",
              "      <td>south_asia</td>\n",
              "    </tr>\n",
              "    <tr>\n",
              "      <th>3</th>\n",
              "      <td>ago</td>\n",
              "      <td>NaN</td>\n",
              "      <td>NaN</td>\n",
              "      <td>NaN</td>\n",
              "      <td>NaN</td>\n",
              "      <td>Angola</td>\n",
              "      <td>NaN</td>\n",
              "      <td>NaN</td>\n",
              "      <td>NaN</td>\n",
              "      <td>NaN</td>\n",
              "      <td>NaN</td>\n",
              "      <td>NaN</td>\n",
              "      <td>g77</td>\n",
              "      <td>Angola</td>\n",
              "      <td>AO</td>\n",
              "      <td>i7</td>\n",
              "      <td>upper_middle_income</td>\n",
              "      <td>True</td>\n",
              "      <td>AO</td>\n",
              "      <td>AGO</td>\n",
              "      <td>24.0</td>\n",
              "      <td>NaN</td>\n",
              "      <td>coastline</td>\n",
              "      <td>-12.50000</td>\n",
              "      <td>18.50000</td>\n",
              "      <td>christian</td>\n",
              "      <td>Angola</td>\n",
              "      <td>ANGOLA</td>\n",
              "      <td>True</td>\n",
              "      <td>AO</td>\n",
              "      <td>ANGOLA</td>\n",
              "      <td>africa</td>\n",
              "      <td>sub_saharan_africa</td>\n",
              "    </tr>\n",
              "    <tr>\n",
              "      <th>4</th>\n",
              "      <td>aia</td>\n",
              "      <td>NaN</td>\n",
              "      <td>NaN</td>\n",
              "      <td>NaN</td>\n",
              "      <td>NaN</td>\n",
              "      <td>NaN</td>\n",
              "      <td>NaN</td>\n",
              "      <td>NaN</td>\n",
              "      <td>NaN</td>\n",
              "      <td>NaN</td>\n",
              "      <td>NaN</td>\n",
              "      <td>NaN</td>\n",
              "      <td>others</td>\n",
              "      <td>Anguilla</td>\n",
              "      <td>AI</td>\n",
              "      <td>i8</td>\n",
              "      <td>NaN</td>\n",
              "      <td>True</td>\n",
              "      <td>AI</td>\n",
              "      <td>AIA</td>\n",
              "      <td>660.0</td>\n",
              "      <td>NaN</td>\n",
              "      <td>coastline</td>\n",
              "      <td>18.21667</td>\n",
              "      <td>-63.05000</td>\n",
              "      <td>christian</td>\n",
              "      <td>Anguilla</td>\n",
              "      <td>NaN</td>\n",
              "      <td>False</td>\n",
              "      <td>AI</td>\n",
              "      <td>ANGUILLA</td>\n",
              "      <td>americas</td>\n",
              "      <td>america</td>\n",
              "    </tr>\n",
              "  </tbody>\n",
              "</table>\n",
              "</div>"
            ],
            "text/plain": [
              "  country alt_5                    alternative_1 alternative_2 alternative_3  \\\n",
              "0    abkh   NaN                              NaN           NaN           NaN   \n",
              "1     abw   NaN                              NaN           NaN           NaN   \n",
              "2     afg   NaN  Islamic Republic of Afghanistan           NaN           NaN   \n",
              "3     ago   NaN                              NaN           NaN           NaN   \n",
              "4     aia   NaN                              NaN           NaN           NaN   \n",
              "\n",
              "  alternative_4_cdiac arb1 arb2 arb3 arb4 arb5 arb6 g77_and_oecd_countries  \\\n",
              "0                 NaN  NaN  NaN  NaN  NaN  NaN  NaN                 others   \n",
              "1               Aruba  NaN  NaN  NaN  NaN  NaN  NaN                 others   \n",
              "2         Afghanistan  NaN  NaN  NaN  NaN  NaN  NaN                    g77   \n",
              "3              Angola  NaN  NaN  NaN  NaN  NaN  NaN                    g77   \n",
              "4                 NaN  NaN  NaN  NaN  NaN  NaN  NaN                 others   \n",
              "\n",
              "  gapminder_list god_id gwid        income_groups  is--country  \\\n",
              "0       Abkhazia  GE-AB   i0                  NaN         True   \n",
              "1          Aruba     AW  i12          high_income         True   \n",
              "2    Afghanistan     AF   i1           low_income         True   \n",
              "3         Angola     AO   i7  upper_middle_income         True   \n",
              "4       Anguilla     AI   i8                  NaN         True   \n",
              "\n",
              "  iso3166_1_alpha2 iso3166_1_alpha3  iso3166_1_numeric iso3166_2  landlocked  \\\n",
              "0              NaN              NaN                NaN       NaN         NaN   \n",
              "1               AW              ABW              533.0       NaN   coastline   \n",
              "2               AF              AFG                4.0       NaN  landlocked   \n",
              "3               AO              AGO               24.0       NaN   coastline   \n",
              "4               AI              AIA              660.0       NaN   coastline   \n",
              "\n",
              "   latitude  longitude main_religion_2008         name        pandg  un_state  \\\n",
              "0       NaN        NaN                NaN     Abkhazia          NaN     False   \n",
              "1  12.50000  -69.96667          christian        Aruba          NaN     False   \n",
              "2  33.00000   66.00000             muslim  Afghanistan  AFGHANISTAN      True   \n",
              "3 -12.50000   18.50000          christian       Angola       ANGOLA      True   \n",
              "4  18.21667  -63.05000          christian     Anguilla          NaN     False   \n",
              "\n",
              "  unicode_region_subtag upper_case_name world_4region        world_6region  \n",
              "0                   NaN             NaN        europe  europe_central_asia  \n",
              "1                    AW           ARUBA      americas              america  \n",
              "2                    AF     AFGHANISTAN          asia           south_asia  \n",
              "3                    AO          ANGOLA        africa   sub_saharan_africa  \n",
              "4                    AI        ANGUILLA      americas              america  "
            ]
          },
          "metadata": {
            "tags": []
          },
          "execution_count": 13
        }
      ]
    },
    {
      "cell_type": "code",
      "metadata": {
        "colab_type": "code",
        "id": "mk_R0eFZZ0G5",
        "colab": {
          "base_uri": "https://localhost:8080/",
          "height": 551
        },
        "outputId": "0118b4a3-7043-45f1-fd69-7d07bec9b6a7"
      },
      "source": [
        "concepts.head()"
      ],
      "execution_count": 14,
      "outputs": [
        {
          "output_type": "execute_result",
          "data": {
            "text/html": [
              "<div>\n",
              "<style scoped>\n",
              "    .dataframe tbody tr th:only-of-type {\n",
              "        vertical-align: middle;\n",
              "    }\n",
              "\n",
              "    .dataframe tbody tr th {\n",
              "        vertical-align: top;\n",
              "    }\n",
              "\n",
              "    .dataframe thead th {\n",
              "        text-align: right;\n",
              "    }\n",
              "</style>\n",
              "<table border=\"1\" class=\"dataframe\">\n",
              "  <thead>\n",
              "    <tr style=\"text-align: right;\">\n",
              "      <th></th>\n",
              "      <th>concept</th>\n",
              "      <th>color</th>\n",
              "      <th>concept_type</th>\n",
              "      <th>description</th>\n",
              "      <th>description_long</th>\n",
              "      <th>domain</th>\n",
              "      <th>drill_up</th>\n",
              "      <th>indicator_url</th>\n",
              "      <th>name</th>\n",
              "      <th>name_catalog</th>\n",
              "      <th>name_short</th>\n",
              "      <th>scales</th>\n",
              "      <th>source</th>\n",
              "      <th>source_long</th>\n",
              "      <th>source_url</th>\n",
              "      <th>tags</th>\n",
              "    </tr>\n",
              "  </thead>\n",
              "  <tbody>\n",
              "    <tr>\n",
              "      <th>0</th>\n",
              "      <td>adults_with_hiv_percent_age_15_49</td>\n",
              "      <td>NaN</td>\n",
              "      <td>measure</td>\n",
              "      <td>The estimated percentage of adults aged 15 to ...</td>\n",
              "      <td>NaN</td>\n",
              "      <td>NaN</td>\n",
              "      <td>NaN</td>\n",
              "      <td>NaN</td>\n",
              "      <td>Adults with HIV (%, age 15-49)</td>\n",
              "      <td>Adults with HIV (%, age 15-49)</td>\n",
              "      <td>Adults with HIV</td>\n",
              "      <td>[\"log\", \"linear\"]</td>\n",
              "      <td>NaN</td>\n",
              "      <td>NaN</td>\n",
              "      <td>https://www.gapminder.org/gapminder-world/docu...</td>\n",
              "      <td>hiv</td>\n",
              "    </tr>\n",
              "    <tr>\n",
              "      <th>1</th>\n",
              "      <td>age_at_1st_marriage_women</td>\n",
              "      <td>NaN</td>\n",
              "      <td>measure</td>\n",
              "      <td>The mean age, in years, of first marriage for ...</td>\n",
              "      <td>NaN</td>\n",
              "      <td>NaN</td>\n",
              "      <td>NaN</td>\n",
              "      <td>NaN</td>\n",
              "      <td>Age at 1st marriage (women)</td>\n",
              "      <td>Age at 1st marriage (women)</td>\n",
              "      <td>Age at 1st marriage</td>\n",
              "      <td>[\"linear\", \"log\"]</td>\n",
              "      <td>NaN</td>\n",
              "      <td>NaN</td>\n",
              "      <td>https://www.gapminder.org/data/documentation/g...</td>\n",
              "      <td>population</td>\n",
              "    </tr>\n",
              "    <tr>\n",
              "      <th>2</th>\n",
              "      <td>aged_15_24_employment_rate_percent</td>\n",
              "      <td>NaN</td>\n",
              "      <td>measure</td>\n",
              "      <td>Percentage of total population, age group 15-2...</td>\n",
              "      <td>NaN</td>\n",
              "      <td>NaN</td>\n",
              "      <td>NaN</td>\n",
              "      <td>NaN</td>\n",
              "      <td>Aged 15-24 employment rate (%)</td>\n",
              "      <td>Aged 15-24</td>\n",
              "      <td>Employment rate (%)</td>\n",
              "      <td>[\"linear\", \"log\"]</td>\n",
              "      <td>NaN</td>\n",
              "      <td>NaN</td>\n",
              "      <td>https://www.ilo.org/ilostat/</td>\n",
              "      <td>employment_rate</td>\n",
              "    </tr>\n",
              "    <tr>\n",
              "      <th>3</th>\n",
              "      <td>aged_15_24_unemployment_rate_percent</td>\n",
              "      <td>NaN</td>\n",
              "      <td>measure</td>\n",
              "      <td>Percentage of total population, age group 15-2...</td>\n",
              "      <td>NaN</td>\n",
              "      <td>NaN</td>\n",
              "      <td>NaN</td>\n",
              "      <td>NaN</td>\n",
              "      <td>Aged 15-24 unemployment rate (%)</td>\n",
              "      <td>Aged 15-24</td>\n",
              "      <td>Unemployment rate (%)</td>\n",
              "      <td>[\"linear\", \"log\"]</td>\n",
              "      <td>NaN</td>\n",
              "      <td>NaN</td>\n",
              "      <td>https://www.ilo.org/ilostat/</td>\n",
              "      <td>unemployment</td>\n",
              "    </tr>\n",
              "    <tr>\n",
              "      <th>4</th>\n",
              "      <td>aged_15_64_labour_force_participation_rate_per...</td>\n",
              "      <td>NaN</td>\n",
              "      <td>measure</td>\n",
              "      <td>For age group 15-64, percentage of all labour ...</td>\n",
              "      <td>NaN</td>\n",
              "      <td>NaN</td>\n",
              "      <td>NaN</td>\n",
              "      <td>NaN</td>\n",
              "      <td>Aged 15-64 labour force participation rate (%)</td>\n",
              "      <td>Aged 15-64</td>\n",
              "      <td>Labour force participation rate (%)</td>\n",
              "      <td>[\"linear\", \"log\"]</td>\n",
              "      <td>NaN</td>\n",
              "      <td>NaN</td>\n",
              "      <td>https://www.ilo.org/ilostat/</td>\n",
              "      <td>labour_force_participation</td>\n",
              "    </tr>\n",
              "  </tbody>\n",
              "</table>\n",
              "</div>"
            ],
            "text/plain": [
              "                                             concept color concept_type  \\\n",
              "0                  adults_with_hiv_percent_age_15_49   NaN      measure   \n",
              "1                          age_at_1st_marriage_women   NaN      measure   \n",
              "2                 aged_15_24_employment_rate_percent   NaN      measure   \n",
              "3               aged_15_24_unemployment_rate_percent   NaN      measure   \n",
              "4  aged_15_64_labour_force_participation_rate_per...   NaN      measure   \n",
              "\n",
              "                                         description description_long domain  \\\n",
              "0  The estimated percentage of adults aged 15 to ...              NaN    NaN   \n",
              "1  The mean age, in years, of first marriage for ...              NaN    NaN   \n",
              "2  Percentage of total population, age group 15-2...              NaN    NaN   \n",
              "3  Percentage of total population, age group 15-2...              NaN    NaN   \n",
              "4  For age group 15-64, percentage of all labour ...              NaN    NaN   \n",
              "\n",
              "  drill_up indicator_url                                            name  \\\n",
              "0      NaN           NaN                  Adults with HIV (%, age 15-49)   \n",
              "1      NaN           NaN                     Age at 1st marriage (women)   \n",
              "2      NaN           NaN                  Aged 15-24 employment rate (%)   \n",
              "3      NaN           NaN                Aged 15-24 unemployment rate (%)   \n",
              "4      NaN           NaN  Aged 15-64 labour force participation rate (%)   \n",
              "\n",
              "                     name_catalog                           name_short  \\\n",
              "0  Adults with HIV (%, age 15-49)                      Adults with HIV   \n",
              "1     Age at 1st marriage (women)                  Age at 1st marriage   \n",
              "2                      Aged 15-24                  Employment rate (%)   \n",
              "3                      Aged 15-24                Unemployment rate (%)   \n",
              "4                      Aged 15-64  Labour force participation rate (%)   \n",
              "\n",
              "              scales source source_long  \\\n",
              "0  [\"log\", \"linear\"]    NaN         NaN   \n",
              "1  [\"linear\", \"log\"]    NaN         NaN   \n",
              "2  [\"linear\", \"log\"]    NaN         NaN   \n",
              "3  [\"linear\", \"log\"]    NaN         NaN   \n",
              "4  [\"linear\", \"log\"]    NaN         NaN   \n",
              "\n",
              "                                          source_url  \\\n",
              "0  https://www.gapminder.org/gapminder-world/docu...   \n",
              "1  https://www.gapminder.org/data/documentation/g...   \n",
              "2                       https://www.ilo.org/ilostat/   \n",
              "3                       https://www.ilo.org/ilostat/   \n",
              "4                       https://www.ilo.org/ilostat/   \n",
              "\n",
              "                         tags  \n",
              "0                         hiv  \n",
              "1                  population  \n",
              "2             employment_rate  \n",
              "3                unemployment  \n",
              "4  labour_force_participation  "
            ]
          },
          "metadata": {
            "tags": []
          },
          "execution_count": 14
        }
      ]
    },
    {
      "cell_type": "markdown",
      "metadata": {
        "colab_type": "text",
        "id": "6HYUytvLT8Kf"
      },
      "source": [
        "## Merge data"
      ]
    },
    {
      "cell_type": "markdown",
      "metadata": {
        "colab_type": "text",
        "id": "dhALZDsh9n9L"
      },
      "source": [
        "https://github.com/pandas-dev/pandas/blob/master/doc/cheatsheet/Pandas_Cheat_Sheet.pdf"
      ]
    },
    {
      "cell_type": "code",
      "metadata": {
        "colab_type": "code",
        "id": "A-tnI-hK6yDG",
        "colab": {
          "base_uri": "https://localhost:8080/",
          "height": 213
        },
        "outputId": "bae403e6-1ffb-42d9-a62d-c2c80a411f8d"
      },
      "source": [
        "merged=pd.merge(income, lifespan)\n",
        "print(merged.shape)\n",
        "merged.head()"
      ],
      "execution_count": 24,
      "outputs": [
        {
          "output_type": "stream",
          "text": [
            "(40437, 4)\n"
          ],
          "name": "stdout"
        },
        {
          "output_type": "execute_result",
          "data": {
            "text/html": [
              "<div>\n",
              "<style scoped>\n",
              "    .dataframe tbody tr th:only-of-type {\n",
              "        vertical-align: middle;\n",
              "    }\n",
              "\n",
              "    .dataframe tbody tr th {\n",
              "        vertical-align: top;\n",
              "    }\n",
              "\n",
              "    .dataframe thead th {\n",
              "        text-align: right;\n",
              "    }\n",
              "</style>\n",
              "<table border=\"1\" class=\"dataframe\">\n",
              "  <thead>\n",
              "    <tr style=\"text-align: right;\">\n",
              "      <th></th>\n",
              "      <th>geo</th>\n",
              "      <th>time</th>\n",
              "      <th>income_per_person_gdppercapita_ppp_inflation_adjusted</th>\n",
              "      <th>life_expectancy_years</th>\n",
              "    </tr>\n",
              "  </thead>\n",
              "  <tbody>\n",
              "    <tr>\n",
              "      <th>0</th>\n",
              "      <td>afg</td>\n",
              "      <td>1800</td>\n",
              "      <td>603</td>\n",
              "      <td>28.21</td>\n",
              "    </tr>\n",
              "    <tr>\n",
              "      <th>1</th>\n",
              "      <td>afg</td>\n",
              "      <td>1801</td>\n",
              "      <td>603</td>\n",
              "      <td>28.20</td>\n",
              "    </tr>\n",
              "    <tr>\n",
              "      <th>2</th>\n",
              "      <td>afg</td>\n",
              "      <td>1802</td>\n",
              "      <td>603</td>\n",
              "      <td>28.19</td>\n",
              "    </tr>\n",
              "    <tr>\n",
              "      <th>3</th>\n",
              "      <td>afg</td>\n",
              "      <td>1803</td>\n",
              "      <td>603</td>\n",
              "      <td>28.18</td>\n",
              "    </tr>\n",
              "    <tr>\n",
              "      <th>4</th>\n",
              "      <td>afg</td>\n",
              "      <td>1804</td>\n",
              "      <td>603</td>\n",
              "      <td>28.17</td>\n",
              "    </tr>\n",
              "  </tbody>\n",
              "</table>\n",
              "</div>"
            ],
            "text/plain": [
              "   geo  time  income_per_person_gdppercapita_ppp_inflation_adjusted  \\\n",
              "0  afg  1800                                                603       \n",
              "1  afg  1801                                                603       \n",
              "2  afg  1802                                                603       \n",
              "3  afg  1803                                                603       \n",
              "4  afg  1804                                                603       \n",
              "\n",
              "   life_expectancy_years  \n",
              "0                  28.21  \n",
              "1                  28.20  \n",
              "2                  28.19  \n",
              "3                  28.18  \n",
              "4                  28.17  "
            ]
          },
          "metadata": {
            "tags": []
          },
          "execution_count": 24
        }
      ]
    },
    {
      "cell_type": "code",
      "metadata": {
        "id": "FzRFFKKdNiUM",
        "colab_type": "code",
        "colab": {}
      },
      "source": [
        "help(pd.merge)"
      ],
      "execution_count": 0,
      "outputs": []
    },
    {
      "cell_type": "code",
      "metadata": {
        "id": "i9O3feCENiq3",
        "colab_type": "code",
        "colab": {
          "base_uri": "https://localhost:8080/",
          "height": 213
        },
        "outputId": "6043d852-a8ff-44a4-e73e-4bced965e32b"
      },
      "source": [
        "merged1= pd.merge(merged, population)\n",
        "print(merged1.shape)\n",
        "merged1.head()"
      ],
      "execution_count": 25,
      "outputs": [
        {
          "output_type": "stream",
          "text": [
            "(40437, 5)\n"
          ],
          "name": "stdout"
        },
        {
          "output_type": "execute_result",
          "data": {
            "text/html": [
              "<div>\n",
              "<style scoped>\n",
              "    .dataframe tbody tr th:only-of-type {\n",
              "        vertical-align: middle;\n",
              "    }\n",
              "\n",
              "    .dataframe tbody tr th {\n",
              "        vertical-align: top;\n",
              "    }\n",
              "\n",
              "    .dataframe thead th {\n",
              "        text-align: right;\n",
              "    }\n",
              "</style>\n",
              "<table border=\"1\" class=\"dataframe\">\n",
              "  <thead>\n",
              "    <tr style=\"text-align: right;\">\n",
              "      <th></th>\n",
              "      <th>geo</th>\n",
              "      <th>time</th>\n",
              "      <th>income_per_person_gdppercapita_ppp_inflation_adjusted</th>\n",
              "      <th>life_expectancy_years</th>\n",
              "      <th>population_total</th>\n",
              "    </tr>\n",
              "  </thead>\n",
              "  <tbody>\n",
              "    <tr>\n",
              "      <th>0</th>\n",
              "      <td>afg</td>\n",
              "      <td>1800</td>\n",
              "      <td>603</td>\n",
              "      <td>28.21</td>\n",
              "      <td>3280000</td>\n",
              "    </tr>\n",
              "    <tr>\n",
              "      <th>1</th>\n",
              "      <td>afg</td>\n",
              "      <td>1801</td>\n",
              "      <td>603</td>\n",
              "      <td>28.20</td>\n",
              "      <td>3280000</td>\n",
              "    </tr>\n",
              "    <tr>\n",
              "      <th>2</th>\n",
              "      <td>afg</td>\n",
              "      <td>1802</td>\n",
              "      <td>603</td>\n",
              "      <td>28.19</td>\n",
              "      <td>3280000</td>\n",
              "    </tr>\n",
              "    <tr>\n",
              "      <th>3</th>\n",
              "      <td>afg</td>\n",
              "      <td>1803</td>\n",
              "      <td>603</td>\n",
              "      <td>28.18</td>\n",
              "      <td>3280000</td>\n",
              "    </tr>\n",
              "    <tr>\n",
              "      <th>4</th>\n",
              "      <td>afg</td>\n",
              "      <td>1804</td>\n",
              "      <td>603</td>\n",
              "      <td>28.17</td>\n",
              "      <td>3280000</td>\n",
              "    </tr>\n",
              "  </tbody>\n",
              "</table>\n",
              "</div>"
            ],
            "text/plain": [
              "   geo  time  income_per_person_gdppercapita_ppp_inflation_adjusted  \\\n",
              "0  afg  1800                                                603       \n",
              "1  afg  1801                                                603       \n",
              "2  afg  1802                                                603       \n",
              "3  afg  1803                                                603       \n",
              "4  afg  1804                                                603       \n",
              "\n",
              "   life_expectancy_years  population_total  \n",
              "0                  28.21           3280000  \n",
              "1                  28.20           3280000  \n",
              "2                  28.19           3280000  \n",
              "3                  28.18           3280000  \n",
              "4                  28.17           3280000  "
            ]
          },
          "metadata": {
            "tags": []
          },
          "execution_count": 25
        }
      ]
    },
    {
      "cell_type": "code",
      "metadata": {
        "id": "dVj5Q92VPMAL",
        "colab_type": "code",
        "colab": {
          "base_uri": "https://localhost:8080/",
          "height": 213
        },
        "outputId": "10821cc8-073b-4022-9eaf-6db57b57afa6"
      },
      "source": [
        "df=pd.merge(merged1, entities[['country', 'name','world_4region','world_6region']], how='inner', left_on='geo', right_on='country')\n",
        "print(df.shape)\n",
        "df.head()"
      ],
      "execution_count": 42,
      "outputs": [
        {
          "output_type": "stream",
          "text": [
            "(40437, 9)\n"
          ],
          "name": "stdout"
        },
        {
          "output_type": "execute_result",
          "data": {
            "text/html": [
              "<div>\n",
              "<style scoped>\n",
              "    .dataframe tbody tr th:only-of-type {\n",
              "        vertical-align: middle;\n",
              "    }\n",
              "\n",
              "    .dataframe tbody tr th {\n",
              "        vertical-align: top;\n",
              "    }\n",
              "\n",
              "    .dataframe thead th {\n",
              "        text-align: right;\n",
              "    }\n",
              "</style>\n",
              "<table border=\"1\" class=\"dataframe\">\n",
              "  <thead>\n",
              "    <tr style=\"text-align: right;\">\n",
              "      <th></th>\n",
              "      <th>geo</th>\n",
              "      <th>time</th>\n",
              "      <th>income_per_person_gdppercapita_ppp_inflation_adjusted</th>\n",
              "      <th>life_expectancy_years</th>\n",
              "      <th>population_total</th>\n",
              "      <th>country</th>\n",
              "      <th>name</th>\n",
              "      <th>world_4region</th>\n",
              "      <th>world_6region</th>\n",
              "    </tr>\n",
              "  </thead>\n",
              "  <tbody>\n",
              "    <tr>\n",
              "      <th>0</th>\n",
              "      <td>afg</td>\n",
              "      <td>1800</td>\n",
              "      <td>603</td>\n",
              "      <td>28.21</td>\n",
              "      <td>3280000</td>\n",
              "      <td>afg</td>\n",
              "      <td>Afghanistan</td>\n",
              "      <td>asia</td>\n",
              "      <td>south_asia</td>\n",
              "    </tr>\n",
              "    <tr>\n",
              "      <th>1</th>\n",
              "      <td>afg</td>\n",
              "      <td>1801</td>\n",
              "      <td>603</td>\n",
              "      <td>28.20</td>\n",
              "      <td>3280000</td>\n",
              "      <td>afg</td>\n",
              "      <td>Afghanistan</td>\n",
              "      <td>asia</td>\n",
              "      <td>south_asia</td>\n",
              "    </tr>\n",
              "    <tr>\n",
              "      <th>2</th>\n",
              "      <td>afg</td>\n",
              "      <td>1802</td>\n",
              "      <td>603</td>\n",
              "      <td>28.19</td>\n",
              "      <td>3280000</td>\n",
              "      <td>afg</td>\n",
              "      <td>Afghanistan</td>\n",
              "      <td>asia</td>\n",
              "      <td>south_asia</td>\n",
              "    </tr>\n",
              "    <tr>\n",
              "      <th>3</th>\n",
              "      <td>afg</td>\n",
              "      <td>1803</td>\n",
              "      <td>603</td>\n",
              "      <td>28.18</td>\n",
              "      <td>3280000</td>\n",
              "      <td>afg</td>\n",
              "      <td>Afghanistan</td>\n",
              "      <td>asia</td>\n",
              "      <td>south_asia</td>\n",
              "    </tr>\n",
              "    <tr>\n",
              "      <th>4</th>\n",
              "      <td>afg</td>\n",
              "      <td>1804</td>\n",
              "      <td>603</td>\n",
              "      <td>28.17</td>\n",
              "      <td>3280000</td>\n",
              "      <td>afg</td>\n",
              "      <td>Afghanistan</td>\n",
              "      <td>asia</td>\n",
              "      <td>south_asia</td>\n",
              "    </tr>\n",
              "  </tbody>\n",
              "</table>\n",
              "</div>"
            ],
            "text/plain": [
              "   geo  time  income_per_person_gdppercapita_ppp_inflation_adjusted  \\\n",
              "0  afg  1800                                                603       \n",
              "1  afg  1801                                                603       \n",
              "2  afg  1802                                                603       \n",
              "3  afg  1803                                                603       \n",
              "4  afg  1804                                                603       \n",
              "\n",
              "   life_expectancy_years  population_total country         name world_4region  \\\n",
              "0                  28.21           3280000     afg  Afghanistan          asia   \n",
              "1                  28.20           3280000     afg  Afghanistan          asia   \n",
              "2                  28.19           3280000     afg  Afghanistan          asia   \n",
              "3                  28.18           3280000     afg  Afghanistan          asia   \n",
              "4                  28.17           3280000     afg  Afghanistan          asia   \n",
              "\n",
              "  world_6region  \n",
              "0    south_asia  \n",
              "1    south_asia  \n",
              "2    south_asia  \n",
              "3    south_asia  \n",
              "4    south_asia  "
            ]
          },
          "metadata": {
            "tags": []
          },
          "execution_count": 42
        }
      ]
    },
    {
      "cell_type": "code",
      "metadata": {
        "id": "4ISoRCphSJBB",
        "colab_type": "code",
        "colab": {
          "base_uri": "https://localhost:8080/",
          "height": 213
        },
        "outputId": "c241365a-ceb4-4988-9bed-1ddcd10ca7a4"
      },
      "source": [
        "df=df.drop(columns=['geo', 'country'])\n",
        "df= df.rename(columns= {\n",
        "    'time':'year',\n",
        "    'income_per_person_gdppercapita_ppp_inflation_adjusted':'income',\n",
        "    'life_expectancy_years':'lifespan',\n",
        "    'population_total':'population',\n",
        "    'name':'country',\n",
        "    'world_4region':'region4',\n",
        "    'world_6region': 'region6'\n",
        "      })\n",
        "print(df.shape)\n",
        "df.head()"
      ],
      "execution_count": 43,
      "outputs": [
        {
          "output_type": "stream",
          "text": [
            "(40437, 7)\n"
          ],
          "name": "stdout"
        },
        {
          "output_type": "execute_result",
          "data": {
            "text/html": [
              "<div>\n",
              "<style scoped>\n",
              "    .dataframe tbody tr th:only-of-type {\n",
              "        vertical-align: middle;\n",
              "    }\n",
              "\n",
              "    .dataframe tbody tr th {\n",
              "        vertical-align: top;\n",
              "    }\n",
              "\n",
              "    .dataframe thead th {\n",
              "        text-align: right;\n",
              "    }\n",
              "</style>\n",
              "<table border=\"1\" class=\"dataframe\">\n",
              "  <thead>\n",
              "    <tr style=\"text-align: right;\">\n",
              "      <th></th>\n",
              "      <th>year</th>\n",
              "      <th>income</th>\n",
              "      <th>lifespan</th>\n",
              "      <th>population</th>\n",
              "      <th>country</th>\n",
              "      <th>region4</th>\n",
              "      <th>region6</th>\n",
              "    </tr>\n",
              "  </thead>\n",
              "  <tbody>\n",
              "    <tr>\n",
              "      <th>0</th>\n",
              "      <td>1800</td>\n",
              "      <td>603</td>\n",
              "      <td>28.21</td>\n",
              "      <td>3280000</td>\n",
              "      <td>Afghanistan</td>\n",
              "      <td>asia</td>\n",
              "      <td>south_asia</td>\n",
              "    </tr>\n",
              "    <tr>\n",
              "      <th>1</th>\n",
              "      <td>1801</td>\n",
              "      <td>603</td>\n",
              "      <td>28.20</td>\n",
              "      <td>3280000</td>\n",
              "      <td>Afghanistan</td>\n",
              "      <td>asia</td>\n",
              "      <td>south_asia</td>\n",
              "    </tr>\n",
              "    <tr>\n",
              "      <th>2</th>\n",
              "      <td>1802</td>\n",
              "      <td>603</td>\n",
              "      <td>28.19</td>\n",
              "      <td>3280000</td>\n",
              "      <td>Afghanistan</td>\n",
              "      <td>asia</td>\n",
              "      <td>south_asia</td>\n",
              "    </tr>\n",
              "    <tr>\n",
              "      <th>3</th>\n",
              "      <td>1803</td>\n",
              "      <td>603</td>\n",
              "      <td>28.18</td>\n",
              "      <td>3280000</td>\n",
              "      <td>Afghanistan</td>\n",
              "      <td>asia</td>\n",
              "      <td>south_asia</td>\n",
              "    </tr>\n",
              "    <tr>\n",
              "      <th>4</th>\n",
              "      <td>1804</td>\n",
              "      <td>603</td>\n",
              "      <td>28.17</td>\n",
              "      <td>3280000</td>\n",
              "      <td>Afghanistan</td>\n",
              "      <td>asia</td>\n",
              "      <td>south_asia</td>\n",
              "    </tr>\n",
              "  </tbody>\n",
              "</table>\n",
              "</div>"
            ],
            "text/plain": [
              "   year  income  lifespan  population      country region4     region6\n",
              "0  1800     603     28.21     3280000  Afghanistan    asia  south_asia\n",
              "1  1801     603     28.20     3280000  Afghanistan    asia  south_asia\n",
              "2  1802     603     28.19     3280000  Afghanistan    asia  south_asia\n",
              "3  1803     603     28.18     3280000  Afghanistan    asia  south_asia\n",
              "4  1804     603     28.17     3280000  Afghanistan    asia  south_asia"
            ]
          },
          "metadata": {
            "tags": []
          },
          "execution_count": 43
        }
      ]
    },
    {
      "cell_type": "code",
      "metadata": {
        "id": "hz9tfgVxXAOl",
        "colab_type": "code",
        "colab": {
          "base_uri": "https://localhost:8080/",
          "height": 150
        },
        "outputId": "ef6ab586-dd2a-4082-fa48-cc742f96dadd"
      },
      "source": [
        "df.isna().sum()"
      ],
      "execution_count": 44,
      "outputs": [
        {
          "output_type": "execute_result",
          "data": {
            "text/plain": [
              "year          0\n",
              "income        0\n",
              "lifespan      0\n",
              "population    0\n",
              "country       0\n",
              "region4       0\n",
              "region6       0\n",
              "dtype: int64"
            ]
          },
          "metadata": {
            "tags": []
          },
          "execution_count": 44
        }
      ]
    },
    {
      "cell_type": "code",
      "metadata": {
        "id": "C_8cOfWTX73L",
        "colab_type": "code",
        "colab": {
          "base_uri": "https://localhost:8080/",
          "height": 217
        },
        "outputId": "3b502418-f54b-401e-b6fe-bf40b7cdfbf1"
      },
      "source": [
        "df.info()"
      ],
      "execution_count": 45,
      "outputs": [
        {
          "output_type": "stream",
          "text": [
            "<class 'pandas.core.frame.DataFrame'>\n",
            "Int64Index: 40437 entries, 0 to 40436\n",
            "Data columns (total 7 columns):\n",
            "year          40437 non-null int64\n",
            "income        40437 non-null int64\n",
            "lifespan      40437 non-null float64\n",
            "population    40437 non-null int64\n",
            "country       40437 non-null object\n",
            "region4       40437 non-null object\n",
            "region6       40437 non-null object\n",
            "dtypes: float64(1), int64(3), object(3)\n",
            "memory usage: 2.5+ MB\n"
          ],
          "name": "stdout"
        }
      ]
    },
    {
      "cell_type": "code",
      "metadata": {
        "id": "Icyi29O2X76B",
        "colab_type": "code",
        "colab": {
          "base_uri": "https://localhost:8080/",
          "height": 286
        },
        "outputId": "fb275599-bac4-40db-d5be-b6a3328a5cab"
      },
      "source": [
        "df.describe()"
      ],
      "execution_count": 46,
      "outputs": [
        {
          "output_type": "execute_result",
          "data": {
            "text/html": [
              "<div>\n",
              "<style scoped>\n",
              "    .dataframe tbody tr th:only-of-type {\n",
              "        vertical-align: middle;\n",
              "    }\n",
              "\n",
              "    .dataframe tbody tr th {\n",
              "        vertical-align: top;\n",
              "    }\n",
              "\n",
              "    .dataframe thead th {\n",
              "        text-align: right;\n",
              "    }\n",
              "</style>\n",
              "<table border=\"1\" class=\"dataframe\">\n",
              "  <thead>\n",
              "    <tr style=\"text-align: right;\">\n",
              "      <th></th>\n",
              "      <th>year</th>\n",
              "      <th>income</th>\n",
              "      <th>lifespan</th>\n",
              "      <th>population</th>\n",
              "    </tr>\n",
              "  </thead>\n",
              "  <tbody>\n",
              "    <tr>\n",
              "      <th>count</th>\n",
              "      <td>40437.000000</td>\n",
              "      <td>40437.000000</td>\n",
              "      <td>40437.000000</td>\n",
              "      <td>4.043700e+04</td>\n",
              "    </tr>\n",
              "    <tr>\n",
              "      <th>mean</th>\n",
              "      <td>1909.292900</td>\n",
              "      <td>4619.492717</td>\n",
              "      <td>43.132080</td>\n",
              "      <td>1.371204e+07</td>\n",
              "    </tr>\n",
              "    <tr>\n",
              "      <th>std</th>\n",
              "      <td>63.308682</td>\n",
              "      <td>10209.571045</td>\n",
              "      <td>16.313228</td>\n",
              "      <td>6.606335e+07</td>\n",
              "    </tr>\n",
              "    <tr>\n",
              "      <th>min</th>\n",
              "      <td>1800.000000</td>\n",
              "      <td>247.000000</td>\n",
              "      <td>1.000000</td>\n",
              "      <td>2.128000e+03</td>\n",
              "    </tr>\n",
              "    <tr>\n",
              "      <th>25%</th>\n",
              "      <td>1854.000000</td>\n",
              "      <td>876.000000</td>\n",
              "      <td>31.160000</td>\n",
              "      <td>4.113310e+05</td>\n",
              "    </tr>\n",
              "    <tr>\n",
              "      <th>50%</th>\n",
              "      <td>1909.000000</td>\n",
              "      <td>1442.000000</td>\n",
              "      <td>35.500000</td>\n",
              "      <td>1.985952e+06</td>\n",
              "    </tr>\n",
              "    <tr>\n",
              "      <th>75%</th>\n",
              "      <td>1964.000000</td>\n",
              "      <td>3488.000000</td>\n",
              "      <td>55.970000</td>\n",
              "      <td>6.499707e+06</td>\n",
              "    </tr>\n",
              "    <tr>\n",
              "      <th>max</th>\n",
              "      <td>2018.000000</td>\n",
              "      <td>177522.000000</td>\n",
              "      <td>84.170000</td>\n",
              "      <td>1.415046e+09</td>\n",
              "    </tr>\n",
              "  </tbody>\n",
              "</table>\n",
              "</div>"
            ],
            "text/plain": [
              "               year         income      lifespan    population\n",
              "count  40437.000000   40437.000000  40437.000000  4.043700e+04\n",
              "mean    1909.292900    4619.492717     43.132080  1.371204e+07\n",
              "std       63.308682   10209.571045     16.313228  6.606335e+07\n",
              "min     1800.000000     247.000000      1.000000  2.128000e+03\n",
              "25%     1854.000000     876.000000     31.160000  4.113310e+05\n",
              "50%     1909.000000    1442.000000     35.500000  1.985952e+06\n",
              "75%     1964.000000    3488.000000     55.970000  6.499707e+06\n",
              "max     2018.000000  177522.000000     84.170000  1.415046e+09"
            ]
          },
          "metadata": {
            "tags": []
          },
          "execution_count": 46
        }
      ]
    },
    {
      "cell_type": "code",
      "metadata": {
        "id": "ZkbgZQ0gZEHQ",
        "colab_type": "code",
        "colab": {
          "base_uri": "https://localhost:8080/",
          "height": 166
        },
        "outputId": "db2e0621-357d-4941-f928-257ab0dab732"
      },
      "source": [
        "#for categorical variable\n",
        "df.describe(exclude='number')"
      ],
      "execution_count": 47,
      "outputs": [
        {
          "output_type": "execute_result",
          "data": {
            "text/html": [
              "<div>\n",
              "<style scoped>\n",
              "    .dataframe tbody tr th:only-of-type {\n",
              "        vertical-align: middle;\n",
              "    }\n",
              "\n",
              "    .dataframe tbody tr th {\n",
              "        vertical-align: top;\n",
              "    }\n",
              "\n",
              "    .dataframe thead th {\n",
              "        text-align: right;\n",
              "    }\n",
              "</style>\n",
              "<table border=\"1\" class=\"dataframe\">\n",
              "  <thead>\n",
              "    <tr style=\"text-align: right;\">\n",
              "      <th></th>\n",
              "      <th>country</th>\n",
              "      <th>region4</th>\n",
              "      <th>region6</th>\n",
              "    </tr>\n",
              "  </thead>\n",
              "  <tbody>\n",
              "    <tr>\n",
              "      <th>count</th>\n",
              "      <td>40437</td>\n",
              "      <td>40437</td>\n",
              "      <td>40437</td>\n",
              "    </tr>\n",
              "    <tr>\n",
              "      <th>unique</th>\n",
              "      <td>187</td>\n",
              "      <td>4</td>\n",
              "      <td>6</td>\n",
              "    </tr>\n",
              "    <tr>\n",
              "      <th>top</th>\n",
              "      <td>Fiji</td>\n",
              "      <td>africa</td>\n",
              "      <td>europe_central_asia</td>\n",
              "    </tr>\n",
              "    <tr>\n",
              "      <th>freq</th>\n",
              "      <td>219</td>\n",
              "      <td>11826</td>\n",
              "      <td>10778</td>\n",
              "    </tr>\n",
              "  </tbody>\n",
              "</table>\n",
              "</div>"
            ],
            "text/plain": [
              "       country region4              region6\n",
              "count    40437   40437                40437\n",
              "unique     187       4                    6\n",
              "top       Fiji  africa  europe_central_asia\n",
              "freq       219   11826                10778"
            ]
          },
          "metadata": {
            "tags": []
          },
          "execution_count": 47
        }
      ]
    },
    {
      "cell_type": "markdown",
      "metadata": {
        "colab_type": "text",
        "id": "4OdEr5IFVdF5"
      },
      "source": [
        "## Explore data"
      ]
    },
    {
      "cell_type": "code",
      "metadata": {
        "id": "0jIKSB-kZnhw",
        "colab_type": "code",
        "colab": {
          "base_uri": "https://localhost:8080/",
          "height": 1000
        },
        "outputId": "d4f38ff5-7ee8-4bec-c106-cf4203b18d01"
      },
      "source": [
        "df.country.value_counts()"
      ],
      "execution_count": 48,
      "outputs": [
        {
          "output_type": "execute_result",
          "data": {
            "text/plain": [
              "Fiji                        219\n",
              "Timor-Leste                 219\n",
              "Canada                      219\n",
              "Ethiopia                    219\n",
              "Guinea                      219\n",
              "Vietnam                     219\n",
              "Spain                       219\n",
              "Afghanistan                 219\n",
              "Ecuador                     219\n",
              "Kyrgyz Republic             219\n",
              "Thailand                    219\n",
              "Macedonia, FYR              219\n",
              "Lao                         219\n",
              "Sweden                      219\n",
              "Bangladesh                  219\n",
              "Kazakhstan                  219\n",
              "Niger                       219\n",
              "Belgium                     219\n",
              "Poland                      219\n",
              "Bolivia                     219\n",
              "Bahrain                     219\n",
              "Australia                   219\n",
              "Rwanda                      219\n",
              "Grenada                     219\n",
              "Togo                        219\n",
              "Lebanon                     219\n",
              "Eritrea                     219\n",
              "Denmark                     219\n",
              "Philippines                 219\n",
              "Dominican Republic          219\n",
              "                           ... \n",
              "Malawi                      219\n",
              "Senegal                     219\n",
              "Haiti                       219\n",
              "Czech Republic              219\n",
              "Italy                       219\n",
              "Estonia                     219\n",
              "Yemen                       219\n",
              "Mauritania                  219\n",
              "North Korea                 219\n",
              "Germany                     219\n",
              "Bhutan                      219\n",
              "Syria                       219\n",
              "Greece                      219\n",
              "Tonga                       219\n",
              "Bosnia and Herzegovina      219\n",
              "Luxembourg                  219\n",
              "Sudan                       219\n",
              "Antigua and Barbuda         219\n",
              "Cyprus                      219\n",
              "Uganda                      219\n",
              "Nicaragua                   219\n",
              "Central African Republic    219\n",
              "St. Lucia                   219\n",
              "Iraq                        219\n",
              "Gambia                      219\n",
              "Singapore                   219\n",
              "Malta                       219\n",
              "Andorra                      47\n",
              "Marshall Islands             47\n",
              "Dominica                     47\n",
              "Name: country, Length: 187, dtype: int64"
            ]
          },
          "metadata": {
            "tags": []
          },
          "execution_count": 48
        }
      ]
    },
    {
      "cell_type": "code",
      "metadata": {
        "id": "ZqRHp9ttco61",
        "colab_type": "code",
        "colab": {}
      },
      "source": [
        "df.country.unique()"
      ],
      "execution_count": 0,
      "outputs": []
    },
    {
      "cell_type": "code",
      "metadata": {
        "colab_type": "code",
        "id": "4IzXea0T64x4",
        "colab": {
          "base_uri": "https://localhost:8080/",
          "height": 137
        },
        "outputId": "277cd090-8b50-4350-9033-c9aaefaf7c9b"
      },
      "source": [
        "usa=df[df.country=='United States']\n",
        "usa[usa.year.isin([1818,1918,2018])]"
      ],
      "execution_count": 58,
      "outputs": [
        {
          "output_type": "execute_result",
          "data": {
            "text/html": [
              "<div>\n",
              "<style scoped>\n",
              "    .dataframe tbody tr th:only-of-type {\n",
              "        vertical-align: middle;\n",
              "    }\n",
              "\n",
              "    .dataframe tbody tr th {\n",
              "        vertical-align: top;\n",
              "    }\n",
              "\n",
              "    .dataframe thead th {\n",
              "        text-align: right;\n",
              "    }\n",
              "</style>\n",
              "<table border=\"1\" class=\"dataframe\">\n",
              "  <thead>\n",
              "    <tr style=\"text-align: right;\">\n",
              "      <th></th>\n",
              "      <th>year</th>\n",
              "      <th>income</th>\n",
              "      <th>lifespan</th>\n",
              "      <th>population</th>\n",
              "      <th>country</th>\n",
              "      <th>region4</th>\n",
              "      <th>region6</th>\n",
              "    </tr>\n",
              "  </thead>\n",
              "  <tbody>\n",
              "    <tr>\n",
              "      <th>38046</th>\n",
              "      <td>1818</td>\n",
              "      <td>2258</td>\n",
              "      <td>39.41</td>\n",
              "      <td>9879049</td>\n",
              "      <td>United States</td>\n",
              "      <td>americas</td>\n",
              "      <td>america</td>\n",
              "    </tr>\n",
              "    <tr>\n",
              "      <th>38146</th>\n",
              "      <td>1918</td>\n",
              "      <td>9371</td>\n",
              "      <td>47.18</td>\n",
              "      <td>106721812</td>\n",
              "      <td>United States</td>\n",
              "      <td>americas</td>\n",
              "      <td>america</td>\n",
              "    </tr>\n",
              "    <tr>\n",
              "      <th>38246</th>\n",
              "      <td>2018</td>\n",
              "      <td>54898</td>\n",
              "      <td>79.14</td>\n",
              "      <td>326766748</td>\n",
              "      <td>United States</td>\n",
              "      <td>americas</td>\n",
              "      <td>america</td>\n",
              "    </tr>\n",
              "  </tbody>\n",
              "</table>\n",
              "</div>"
            ],
            "text/plain": [
              "       year  income  lifespan  population        country   region4  region6\n",
              "38046  1818    2258     39.41     9879049  United States  americas  america\n",
              "38146  1918    9371     47.18   106721812  United States  americas  america\n",
              "38246  2018   54898     79.14   326766748  United States  americas  america"
            ]
          },
          "metadata": {
            "tags": []
          },
          "execution_count": 58
        }
      ]
    },
    {
      "cell_type": "code",
      "metadata": {
        "id": "wC_FI5yNeGDs",
        "colab_type": "code",
        "colab": {
          "base_uri": "https://localhost:8080/",
          "height": 137
        },
        "outputId": "7c0bedb5-b90d-4039-f3dd-333c66cbd958"
      },
      "source": [
        "china = df[df.country == 'China']\n",
        "china[china.year.isin([1818, 1918, 2018])]"
      ],
      "execution_count": 61,
      "outputs": [
        {
          "output_type": "execute_result",
          "data": {
            "text/html": [
              "<div>\n",
              "<style scoped>\n",
              "    .dataframe tbody tr th:only-of-type {\n",
              "        vertical-align: middle;\n",
              "    }\n",
              "\n",
              "    .dataframe tbody tr th {\n",
              "        vertical-align: top;\n",
              "    }\n",
              "\n",
              "    .dataframe thead th {\n",
              "        text-align: right;\n",
              "    }\n",
              "</style>\n",
              "<table border=\"1\" class=\"dataframe\">\n",
              "  <thead>\n",
              "    <tr style=\"text-align: right;\">\n",
              "      <th></th>\n",
              "      <th>year</th>\n",
              "      <th>income</th>\n",
              "      <th>lifespan</th>\n",
              "      <th>population</th>\n",
              "      <th>country</th>\n",
              "      <th>region4</th>\n",
              "      <th>region6</th>\n",
              "    </tr>\n",
              "  </thead>\n",
              "  <tbody>\n",
              "    <tr>\n",
              "      <th>6854</th>\n",
              "      <td>1818</td>\n",
              "      <td>985</td>\n",
              "      <td>32.00</td>\n",
              "      <td>374161494</td>\n",
              "      <td>China</td>\n",
              "      <td>asia</td>\n",
              "      <td>east_asia_pacific</td>\n",
              "    </tr>\n",
              "    <tr>\n",
              "      <th>6954</th>\n",
              "      <td>1918</td>\n",
              "      <td>989</td>\n",
              "      <td>22.13</td>\n",
              "      <td>462444535</td>\n",
              "      <td>China</td>\n",
              "      <td>asia</td>\n",
              "      <td>east_asia_pacific</td>\n",
              "    </tr>\n",
              "    <tr>\n",
              "      <th>7054</th>\n",
              "      <td>2018</td>\n",
              "      <td>16018</td>\n",
              "      <td>76.92</td>\n",
              "      <td>1415045928</td>\n",
              "      <td>China</td>\n",
              "      <td>asia</td>\n",
              "      <td>east_asia_pacific</td>\n",
              "    </tr>\n",
              "  </tbody>\n",
              "</table>\n",
              "</div>"
            ],
            "text/plain": [
              "      year  income  lifespan  population country region4            region6\n",
              "6854  1818     985     32.00   374161494   China    asia  east_asia_pacific\n",
              "6954  1918     989     22.13   462444535   China    asia  east_asia_pacific\n",
              "7054  2018   16018     76.92  1415045928   China    asia  east_asia_pacific"
            ]
          },
          "metadata": {
            "tags": []
          },
          "execution_count": 61
        }
      ]
    },
    {
      "cell_type": "code",
      "metadata": {
        "id": "5tCqsb0RgqFn",
        "colab_type": "code",
        "colab": {}
      },
      "source": [
        "now=df[df.year==2018]"
      ],
      "execution_count": 0,
      "outputs": []
    },
    {
      "cell_type": "markdown",
      "metadata": {
        "colab_type": "text",
        "id": "hecscpimY6Oz"
      },
      "source": [
        "## Plot visualization"
      ]
    },
    {
      "cell_type": "code",
      "metadata": {
        "colab_type": "code",
        "id": "_o8RmX2M67ai",
        "colab": {
          "base_uri": "https://localhost:8080/",
          "height": 437
        },
        "outputId": "19255601-c400-4a2c-baa7-abd66b26b02e"
      },
      "source": [
        "import seaborn as sns\n",
        "sns.set(style=\"white\")\n",
        "sns.relplot(x=\"income\", y=\"lifespan\", hue=\"region6\", size=\"population\",\n",
        "            sizes=(40, 200), alpha=.5, palette=\"muted\", height=6, data=now);\n"
      ],
      "execution_count": 65,
      "outputs": [
        {
          "output_type": "display_data",
          "data": {
            "image/png": "[encoded data removed]",
            "text/plain": [
              "<Figure size 610.85x432 with 1 Axes>"
            ]
          },
          "metadata": {
            "tags": []
          }
        }
      ]
    },
    {
      "cell_type": "markdown",
      "metadata": {
        "colab_type": "text",
        "id": "8OFxenCdhocj"
      },
      "source": [
        "## Analyze outliers"
      ]
    },
    {
      "cell_type": "code",
      "metadata": {
        "colab_type": "code",
        "id": "D59bn-7k6-Io",
        "colab": {
          "base_uri": "https://localhost:8080/",
          "height": 137
        },
        "outputId": "2bd0b1fa-fa56-413f-dac4-67555e886b49"
      },
      "source": [
        "now[now.income> 80000].sort_values(by='income',ascending=False)"
      ],
      "execution_count": 69,
      "outputs": [
        {
          "output_type": "execute_result",
          "data": {
            "text/html": [
              "<div>\n",
              "<style scoped>\n",
              "    .dataframe tbody tr th:only-of-type {\n",
              "        vertical-align: middle;\n",
              "    }\n",
              "\n",
              "    .dataframe tbody tr th {\n",
              "        vertical-align: top;\n",
              "    }\n",
              "\n",
              "    .dataframe thead th {\n",
              "        text-align: right;\n",
              "    }\n",
              "</style>\n",
              "<table border=\"1\" class=\"dataframe\">\n",
              "  <thead>\n",
              "    <tr style=\"text-align: right;\">\n",
              "      <th></th>\n",
              "      <th>year</th>\n",
              "      <th>income</th>\n",
              "      <th>lifespan</th>\n",
              "      <th>population</th>\n",
              "      <th>country</th>\n",
              "      <th>region4</th>\n",
              "      <th>region6</th>\n",
              "    </tr>\n",
              "  </thead>\n",
              "  <tbody>\n",
              "    <tr>\n",
              "      <th>30362</th>\n",
              "      <td>2018</td>\n",
              "      <td>121033</td>\n",
              "      <td>80.71</td>\n",
              "      <td>2694849</td>\n",
              "      <td>Qatar</td>\n",
              "      <td>asia</td>\n",
              "      <td>middle_east_north_africa</td>\n",
              "    </tr>\n",
              "    <tr>\n",
              "      <th>22212</th>\n",
              "      <td>2018</td>\n",
              "      <td>99034</td>\n",
              "      <td>82.39</td>\n",
              "      <td>590321</td>\n",
              "      <td>Luxembourg</td>\n",
              "      <td>europe</td>\n",
              "      <td>europe_central_asia</td>\n",
              "    </tr>\n",
              "    <tr>\n",
              "      <th>31895</th>\n",
              "      <td>2018</td>\n",
              "      <td>83888</td>\n",
              "      <td>84.03</td>\n",
              "      <td>5791901</td>\n",
              "      <td>Singapore</td>\n",
              "      <td>asia</td>\n",
              "      <td>east_asia_pacific</td>\n",
              "    </tr>\n",
              "  </tbody>\n",
              "</table>\n",
              "</div>"
            ],
            "text/plain": [
              "       year  income  lifespan  population     country region4  \\\n",
              "30362  2018  121033     80.71     2694849       Qatar    asia   \n",
              "22212  2018   99034     82.39      590321  Luxembourg  europe   \n",
              "31895  2018   83888     84.03     5791901   Singapore    asia   \n",
              "\n",
              "                        region6  \n",
              "30362  middle_east_north_africa  \n",
              "22212       europe_central_asia  \n",
              "31895         east_asia_pacific  "
            ]
          },
          "metadata": {
            "tags": []
          },
          "execution_count": 69
        }
      ]
    },
    {
      "cell_type": "code",
      "metadata": {
        "colab_type": "code",
        "id": "JkTUmYGF7BQt",
        "colab": {}
      },
      "source": [
        "qatar=now[now.country=='Qatar']\n",
        "qatar_income=qatar.income.values[0]\n",
        "qatar_lifespan=qatar.lifespan.values[0]"
      ],
      "execution_count": 0,
      "outputs": []
    },
    {
      "cell_type": "code",
      "metadata": {
        "id": "lt3EHk1ZmIVZ",
        "colab_type": "code",
        "colab": {
          "base_uri": "https://localhost:8080/",
          "height": 449
        },
        "outputId": "4a41d76e-dd28-441a-9f3a-aafd778d97c6"
      },
      "source": [
        "sns.relplot(x=\"income\", y=\"lifespan\", hue=\"region6\", size=\"population\",\n",
        "            sizes=(40, 200), alpha=.5, palette=\"muted\", height=6, data=now);\n",
        "\n",
        "plt.title('Qatar has the highest average incomes in 2018', fontsize=15)\n",
        "plt.text(x=qatar_income-7000, y=qatar_lifespan+1, s = 'Qatar');\n",
        "\n"
      ],
      "execution_count": 78,
      "outputs": [
        {
          "output_type": "display_data",
          "data": {
            "image/png": "[encoded data removed]",
            "text/plain": [
              "<Figure size 610.85x432 with 1 Axes>"
            ]
          },
          "metadata": {
            "tags": []
          }
        }
      ]
    },
    {
      "cell_type": "code",
      "metadata": {
        "id": "atP5gG6UlpQJ",
        "colab_type": "code",
        "colab": {
          "base_uri": "https://localhost:8080/",
          "height": 33
        },
        "outputId": "68b2ff70-20cf-4fdd-9171-ab3a306a52ef"
      },
      "source": [
        "qatar.income.values[0]"
      ],
      "execution_count": 76,
      "outputs": [
        {
          "output_type": "execute_result",
          "data": {
            "text/plain": [
              "121033"
            ]
          },
          "metadata": {
            "tags": []
          },
          "execution_count": 76
        }
      ]
    },
    {
      "cell_type": "markdown",
      "metadata": {
        "colab_type": "text",
        "id": "DNTMMBkVhrGk"
      },
      "source": [
        "## Plot multiple years"
      ]
    },
    {
      "cell_type": "code",
      "metadata": {
        "id": "e27cVB561ssN",
        "colab_type": "code",
        "colab": {
          "base_uri": "https://localhost:8080/",
          "height": 33
        },
        "outputId": "a972affc-088a-428e-9a16-cf3202e11d5c"
      },
      "source": [
        "years=[1818,1918,2018]\n",
        "countries=df[df.year.isin(years)]\n",
        "countries.shape"
      ],
      "execution_count": 83,
      "outputs": [
        {
          "output_type": "execute_result",
          "data": {
            "text/plain": [
              "(552, 7)"
            ]
          },
          "metadata": {
            "tags": []
          },
          "execution_count": 83
        }
      ]
    },
    {
      "cell_type": "markdown",
      "metadata": {
        "colab_type": "text",
        "id": "BB1Ki0v6hxCA"
      },
      "source": [
        "## Point out a story"
      ]
    },
    {
      "cell_type": "code",
      "metadata": {
        "id": "fxLyoYnN1svE",
        "colab_type": "code",
        "colab": {
          "base_uri": "https://localhost:8080/",
          "height": 458
        },
        "outputId": "a1ad63bf-6274-4de0-a6ec-2feb5d706e7c"
      },
      "source": [
        "sns.relplot(x=\"income\", y=\"lifespan\", hue=\"region6\", size=\"population\",col='year',\n",
        "            sizes=(40, 200), alpha=.5, palette=\"muted\", height=6, data=countries);\n",
        "\n",
        "plt.title('Qatar has the highest average incomes in 2018', fontsize=15)\n",
        "plt.text(x=qatar_income-7000, y=qatar_lifespan+1, s = 'Qatar');\n",
        "\n"
      ],
      "execution_count": 86,
      "outputs": [
        {
          "output_type": "display_data",
          "data": {
            "image/png": "[encoded data removed]",
            "text/plain": [
              "<Figure size 1474.85x432 with 3 Axes>"
            ]
          },
          "metadata": {
            "tags": []
          }
        }
      ]
    },
    {
      "cell_type": "code",
      "metadata": {
        "colab_type": "code",
        "id": "eSgZhD3v7HIe",
        "colab": {}
      },
      "source": [
        ""
      ],
      "execution_count": 0,
      "outputs": []
    },
    {
      "cell_type": "markdown",
      "metadata": {
        "id": "ieVbdl8b9iGS",
        "colab_type": "text"
      },
      "source": [
        "# ASSIGNMENT\n",
        "Replicate the lesson code\n",
        "\n",
        "# STRETCH OPTIONS\n",
        "\n",
        "## 1. Animate!\n",
        "- [Making animations work in Google Colaboratory](https://medium.com/lambda-school-machine-learning/making-animations-work-in-google-colaboratory-new-home-for-ml-prototyping-c6147186ae75)\n",
        "- [How to Create Animated Graphs in Python](https://towardsdatascience.com/how-to-create-animated-graphs-in-python-bb619cc2dec1)\n",
        "- [The Ultimate Day of Chicago Bikeshare](https://chrisluedtke.github.io/divvy-data.html) (Lambda School Data Science student)\n",
        "\n",
        "## 2. Work on anything related to your portfolio site / project"
      ]
    }
  ]
}