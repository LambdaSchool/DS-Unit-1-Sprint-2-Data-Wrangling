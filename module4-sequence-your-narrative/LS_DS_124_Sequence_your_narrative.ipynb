{
 "cells": [
  {
   "cell_type": "markdown",
   "metadata": {
    "colab_type": "text",
    "id": "JbDHnhet8CWy"
   },
   "source": [
    "_Lambda School Data Science_\n",
    "\n",
    "# Sequence your narrative\n",
    "\n",
    "Today we will create a sequence of visualizations inspired by [Hans Rosling's 200 Countries, 200 Years, 4 Minutes](https://www.youtube.com/watch?v=jbkSRLYSojo).\n",
    "\n",
    "Using this [data from Gapminder](https://github.com/open-numbers/ddf--gapminder--systema_globalis/):\n",
    "- [Income Per Person (GDP Per Capital, Inflation Adjusted) by Geo & Time](https://raw.githubusercontent.com/open-numbers/ddf--gapminder--systema_globalis/master/ddf--datapoints--income_per_person_gdppercapita_ppp_inflation_adjusted--by--geo--time.csv)\n",
    "- [Life Expectancy (in Years) by Geo & Time](https://raw.githubusercontent.com/open-numbers/ddf--gapminder--systema_globalis/master/ddf--datapoints--life_expectancy_years--by--geo--time.csv)\n",
    "- [Population Totals, by Geo & Time](https://raw.githubusercontent.com/open-numbers/ddf--gapminder--systema_globalis/master/ddf--datapoints--population_total--by--geo--time.csv)\n",
    "- [Entities](https://raw.githubusercontent.com/open-numbers/ddf--gapminder--systema_globalis/master/ddf--entities--geo--country.csv)\n",
    "- [Concepts](https://raw.githubusercontent.com/open-numbers/ddf--gapminder--systema_globalis/master/ddf--concepts.csv)"
   ]
  },
  {
   "cell_type": "markdown",
   "metadata": {
    "colab_type": "text",
    "id": "zyPYtsY6HtIK"
   },
   "source": [
    "Objectives\n",
    "- sequence multiple visualizations\n",
    "- combine qualitative anecdotes with quantitative aggregates\n",
    "\n",
    "Links\n",
    "- [Hans Rosling’s TED talks](https://www.ted.com/speakers/hans_rosling)\n",
    "- [Spiralling global temperatures from 1850-2016](https://twitter.com/ed_hawkins/status/729753441459945474)\n",
    "- \"[The Pudding](https://pudding.cool/) explains ideas debated in culture with visual essays.\"\n",
    "- [A Data Point Walks Into a Bar](https://lisacharlotterost.github.io/2016/12/27/datapoint-in-bar/): a thoughtful blog post about emotion and empathy in data storytelling"
   ]
  },
  {
   "cell_type": "markdown",
   "metadata": {
    "colab_type": "text",
    "id": "SxTJBgRAW3jD"
   },
   "source": [
    "## Make a plan\n",
    "\n",
    "#### How to present the data?\n",
    "\n",
    "Variables --> Visual Encodings\n",
    "- Income --> x\n",
    "- Lifespan --> y\n",
    "- Region --> color\n",
    "- Population --> size\n",
    "- Year --> animation frame (alternative: small multiple)\n",
    "- Country --> annotation\n",
    "\n",
    "Qualitative --> Verbal\n",
    "- Editorial / contextual explanation --> audio narration (alternative: text)\n",
    "\n",
    "\n",
    "#### How to structure the data?\n",
    "\n",
    "| Year | Country | Region   | Income | Lifespan | Population |\n",
    "|------|---------|----------|--------|----------|------------|\n",
    "| 1818 | USA     | Americas | ###    | ##       | #          |\n",
    "| 1918 | USA     | Americas | ####   | ###      | ##         |\n",
    "| 2018 | USA     | Americas | #####  | ###      | ###        |\n",
    "| 1818 | China   | Asia     | #      | #        | #          |\n",
    "| 1918 | China   | Asia     | ##     | ##       | ###        |\n",
    "| 2018 | China   | Asia     | ###    | ###      | #####      |\n"
   ]
  },
  {
   "cell_type": "markdown",
   "metadata": {
    "colab_type": "text",
    "id": "3ebEjShbWsIy"
   },
   "source": [
    "## Upgrade Seaborn\n",
    "\n",
    "Make sure you have at least version 0.9.0.\n",
    "\n",
    "In Colab, go to **Restart runtime** after you run the `pip` command."
   ]
  },
  {
   "cell_type": "code",
   "execution_count": 1,
   "metadata": {
    "colab": {},
    "colab_type": "code",
    "id": "5sQ0-7JUWyN4"
   },
   "outputs": [],
   "source": [
    "import seaborn as sns"
   ]
  },
  {
   "cell_type": "markdown",
   "metadata": {
    "colab_type": "text",
    "id": "S2dXWRTFTsgd"
   },
   "source": [
    "## More imports"
   ]
  },
  {
   "cell_type": "code",
   "execution_count": 2,
   "metadata": {
    "colab": {},
    "colab_type": "code",
    "id": "y-TgL_mA8OkF"
   },
   "outputs": [],
   "source": [
    "%matplotlib inline\n",
    "import matplotlib.pyplot as plt\n",
    "import numpy as np\n",
    "import pandas as pd"
   ]
  },
  {
   "cell_type": "markdown",
   "metadata": {
    "colab_type": "text",
    "id": "CZGG5prcTxrQ"
   },
   "source": [
    "## Load & look at data"
   ]
  },
  {
   "cell_type": "code",
   "execution_count": 3,
   "metadata": {},
   "outputs": [],
   "source": [
    "file_list = {\n",
    "    'income': 'https://raw.githubusercontent.com/open-numbers/ddf--gapminder--systema_globalis/master/ddf--datapoints--income_per_person_gdppercapita_ppp_inflation_adjusted--by--geo--time.csv',\n",
    "    'lifespan': 'https://raw.githubusercontent.com/open-numbers/ddf--gapminder--systema_globalis/master/ddf--datapoints--life_expectancy_years--by--geo--time.csv',\n",
    "    'population': 'https://raw.githubusercontent.com/open-numbers/ddf--gapminder--systema_globalis/master/ddf--datapoints--population_total--by--geo--time.csv',\n",
    "    'entities': 'https://raw.githubusercontent.com/open-numbers/ddf--gapminder--systema_globalis/master/ddf--entities--geo--country.csv',\n",
    "    'concepts': 'https://raw.githubusercontent.com/open-numbers/ddf--gapminder--systema_globalis/master/ddf--concepts.csv',\n",
    "}"
   ]
  },
  {
   "cell_type": "code",
   "execution_count": 4,
   "metadata": {},
   "outputs": [
    {
     "name": "stdout",
     "output_type": "stream",
     "text": [
      "File already exists\n",
      "File already exists\n",
      "File already exists\n",
      "File already exists\n",
      "File already exists\n"
     ]
    }
   ],
   "source": [
    "# Get the data\n",
    "import wget\n",
    "from snippets.files import DownloadFile\n",
    "\n",
    "for name, url in file_list.items():\n",
    "    DownloadFile(url, name)"
   ]
  },
  {
   "cell_type": "code",
   "execution_count": 5,
   "metadata": {},
   "outputs": [],
   "source": [
    "# Load the data\n",
    "income = pd.read_csv('income.csv')\n",
    "lifespan = pd.read_csv('lifespan.csv')\n",
    "population = pd.read_csv('population.csv')\n",
    "entities = pd.read_csv('entities.csv')\n",
    "concepts = pd.read_csv('concepts.csv')"
   ]
  },
  {
   "cell_type": "code",
   "execution_count": 6,
   "metadata": {
    "colab": {},
    "colab_type": "code",
    "id": "EgFw-g0nZLJy"
   },
   "outputs": [
    {
     "data": {
      "text/plain": [
       "((46513, 3), (44370, 3), (59297, 3), (273, 33), (590, 16))"
      ]
     },
     "execution_count": 6,
     "metadata": {},
     "output_type": "execute_result"
    }
   ],
   "source": [
    "income.shape, lifespan.shape, population.shape, entities.shape, concepts.shape"
   ]
  },
  {
   "cell_type": "code",
   "execution_count": 7,
   "metadata": {
    "colab": {},
    "colab_type": "code",
    "id": "I-T62v7FZQu5"
   },
   "outputs": [
    {
     "data": {
      "text/html": [
       "<div>\n",
       "<style scoped>\n",
       "    .dataframe tbody tr th:only-of-type {\n",
       "        vertical-align: middle;\n",
       "    }\n",
       "\n",
       "    .dataframe tbody tr th {\n",
       "        vertical-align: top;\n",
       "    }\n",
       "\n",
       "    .dataframe thead th {\n",
       "        text-align: right;\n",
       "    }\n",
       "</style>\n",
       "<table border=\"1\" class=\"dataframe\">\n",
       "  <thead>\n",
       "    <tr style=\"text-align: right;\">\n",
       "      <th></th>\n",
       "      <th>geo</th>\n",
       "      <th>time</th>\n",
       "      <th>income_per_person_gdppercapita_ppp_inflation_adjusted</th>\n",
       "    </tr>\n",
       "  </thead>\n",
       "  <tbody>\n",
       "    <tr>\n",
       "      <th>0</th>\n",
       "      <td>afg</td>\n",
       "      <td>1800</td>\n",
       "      <td>603</td>\n",
       "    </tr>\n",
       "    <tr>\n",
       "      <th>1</th>\n",
       "      <td>afg</td>\n",
       "      <td>1801</td>\n",
       "      <td>603</td>\n",
       "    </tr>\n",
       "    <tr>\n",
       "      <th>2</th>\n",
       "      <td>afg</td>\n",
       "      <td>1802</td>\n",
       "      <td>603</td>\n",
       "    </tr>\n",
       "    <tr>\n",
       "      <th>3</th>\n",
       "      <td>afg</td>\n",
       "      <td>1803</td>\n",
       "      <td>603</td>\n",
       "    </tr>\n",
       "    <tr>\n",
       "      <th>4</th>\n",
       "      <td>afg</td>\n",
       "      <td>1804</td>\n",
       "      <td>603</td>\n",
       "    </tr>\n",
       "  </tbody>\n",
       "</table>\n",
       "</div>"
      ],
      "text/plain": [
       "   geo  time  income_per_person_gdppercapita_ppp_inflation_adjusted\n",
       "0  afg  1800                                                603    \n",
       "1  afg  1801                                                603    \n",
       "2  afg  1802                                                603    \n",
       "3  afg  1803                                                603    \n",
       "4  afg  1804                                                603    "
      ]
     },
     "execution_count": 7,
     "metadata": {},
     "output_type": "execute_result"
    }
   ],
   "source": [
    "income.head()"
   ]
  },
  {
   "cell_type": "code",
   "execution_count": 8,
   "metadata": {
    "colab": {},
    "colab_type": "code",
    "id": "2zIdtDESZYG5"
   },
   "outputs": [
    {
     "data": {
      "text/html": [
       "<div>\n",
       "<style scoped>\n",
       "    .dataframe tbody tr th:only-of-type {\n",
       "        vertical-align: middle;\n",
       "    }\n",
       "\n",
       "    .dataframe tbody tr th {\n",
       "        vertical-align: top;\n",
       "    }\n",
       "\n",
       "    .dataframe thead th {\n",
       "        text-align: right;\n",
       "    }\n",
       "</style>\n",
       "<table border=\"1\" class=\"dataframe\">\n",
       "  <thead>\n",
       "    <tr style=\"text-align: right;\">\n",
       "      <th></th>\n",
       "      <th>geo</th>\n",
       "      <th>time</th>\n",
       "      <th>life_expectancy_years</th>\n",
       "    </tr>\n",
       "  </thead>\n",
       "  <tbody>\n",
       "    <tr>\n",
       "      <th>0</th>\n",
       "      <td>abw</td>\n",
       "      <td>1800</td>\n",
       "      <td>34.42</td>\n",
       "    </tr>\n",
       "    <tr>\n",
       "      <th>1</th>\n",
       "      <td>abw</td>\n",
       "      <td>1801</td>\n",
       "      <td>34.42</td>\n",
       "    </tr>\n",
       "    <tr>\n",
       "      <th>2</th>\n",
       "      <td>abw</td>\n",
       "      <td>1802</td>\n",
       "      <td>34.42</td>\n",
       "    </tr>\n",
       "    <tr>\n",
       "      <th>3</th>\n",
       "      <td>abw</td>\n",
       "      <td>1803</td>\n",
       "      <td>34.42</td>\n",
       "    </tr>\n",
       "    <tr>\n",
       "      <th>4</th>\n",
       "      <td>abw</td>\n",
       "      <td>1804</td>\n",
       "      <td>34.42</td>\n",
       "    </tr>\n",
       "  </tbody>\n",
       "</table>\n",
       "</div>"
      ],
      "text/plain": [
       "   geo  time  life_expectancy_years\n",
       "0  abw  1800                  34.42\n",
       "1  abw  1801                  34.42\n",
       "2  abw  1802                  34.42\n",
       "3  abw  1803                  34.42\n",
       "4  abw  1804                  34.42"
      ]
     },
     "execution_count": 8,
     "metadata": {},
     "output_type": "execute_result"
    }
   ],
   "source": [
    "lifespan.head()"
   ]
  },
  {
   "cell_type": "code",
   "execution_count": 9,
   "metadata": {
    "colab": {},
    "colab_type": "code",
    "id": "58AXNVMKZj3T"
   },
   "outputs": [
    {
     "data": {
      "text/html": [
       "<div>\n",
       "<style scoped>\n",
       "    .dataframe tbody tr th:only-of-type {\n",
       "        vertical-align: middle;\n",
       "    }\n",
       "\n",
       "    .dataframe tbody tr th {\n",
       "        vertical-align: top;\n",
       "    }\n",
       "\n",
       "    .dataframe thead th {\n",
       "        text-align: right;\n",
       "    }\n",
       "</style>\n",
       "<table border=\"1\" class=\"dataframe\">\n",
       "  <thead>\n",
       "    <tr style=\"text-align: right;\">\n",
       "      <th></th>\n",
       "      <th>geo</th>\n",
       "      <th>time</th>\n",
       "      <th>population_total</th>\n",
       "    </tr>\n",
       "  </thead>\n",
       "  <tbody>\n",
       "    <tr>\n",
       "      <th>0</th>\n",
       "      <td>afg</td>\n",
       "      <td>1800</td>\n",
       "      <td>3280000</td>\n",
       "    </tr>\n",
       "    <tr>\n",
       "      <th>1</th>\n",
       "      <td>afg</td>\n",
       "      <td>1801</td>\n",
       "      <td>3280000</td>\n",
       "    </tr>\n",
       "    <tr>\n",
       "      <th>2</th>\n",
       "      <td>afg</td>\n",
       "      <td>1802</td>\n",
       "      <td>3280000</td>\n",
       "    </tr>\n",
       "    <tr>\n",
       "      <th>3</th>\n",
       "      <td>afg</td>\n",
       "      <td>1803</td>\n",
       "      <td>3280000</td>\n",
       "    </tr>\n",
       "    <tr>\n",
       "      <th>4</th>\n",
       "      <td>afg</td>\n",
       "      <td>1804</td>\n",
       "      <td>3280000</td>\n",
       "    </tr>\n",
       "  </tbody>\n",
       "</table>\n",
       "</div>"
      ],
      "text/plain": [
       "   geo  time  population_total\n",
       "0  afg  1800           3280000\n",
       "1  afg  1801           3280000\n",
       "2  afg  1802           3280000\n",
       "3  afg  1803           3280000\n",
       "4  afg  1804           3280000"
      ]
     },
     "execution_count": 9,
     "metadata": {},
     "output_type": "execute_result"
    }
   ],
   "source": [
    "population.head()"
   ]
  },
  {
   "cell_type": "code",
   "execution_count": 10,
   "metadata": {
    "colab": {},
    "colab_type": "code",
    "id": "0ywWDL2MZqlF"
   },
   "outputs": [
    {
     "data": {
      "text/html": [
       "<div>\n",
       "<style scoped>\n",
       "    .dataframe tbody tr th:only-of-type {\n",
       "        vertical-align: middle;\n",
       "    }\n",
       "\n",
       "    .dataframe tbody tr th {\n",
       "        vertical-align: top;\n",
       "    }\n",
       "\n",
       "    .dataframe thead th {\n",
       "        text-align: right;\n",
       "    }\n",
       "</style>\n",
       "<table border=\"1\" class=\"dataframe\">\n",
       "  <thead>\n",
       "    <tr style=\"text-align: right;\">\n",
       "      <th></th>\n",
       "      <th>country</th>\n",
       "      <th>alt_5</th>\n",
       "      <th>alternative_1</th>\n",
       "      <th>alternative_2</th>\n",
       "      <th>alternative_3</th>\n",
       "      <th>alternative_4_cdiac</th>\n",
       "      <th>arb1</th>\n",
       "      <th>arb2</th>\n",
       "      <th>arb3</th>\n",
       "      <th>arb4</th>\n",
       "      <th>arb5</th>\n",
       "      <th>arb6</th>\n",
       "      <th>g77_and_oecd_countries</th>\n",
       "      <th>gapminder_list</th>\n",
       "      <th>god_id</th>\n",
       "      <th>gwid</th>\n",
       "      <th>income_groups</th>\n",
       "      <th>is--country</th>\n",
       "      <th>iso3166_1_alpha2</th>\n",
       "      <th>iso3166_1_alpha3</th>\n",
       "      <th>iso3166_1_numeric</th>\n",
       "      <th>iso3166_2</th>\n",
       "      <th>landlocked</th>\n",
       "      <th>latitude</th>\n",
       "      <th>longitude</th>\n",
       "      <th>main_religion_2008</th>\n",
       "      <th>name</th>\n",
       "      <th>pandg</th>\n",
       "      <th>un_state</th>\n",
       "      <th>unicode_region_subtag</th>\n",
       "      <th>upper_case_name</th>\n",
       "      <th>world_4region</th>\n",
       "      <th>world_6region</th>\n",
       "    </tr>\n",
       "  </thead>\n",
       "  <tbody>\n",
       "    <tr>\n",
       "      <th>0</th>\n",
       "      <td>abkh</td>\n",
       "      <td>NaN</td>\n",
       "      <td>NaN</td>\n",
       "      <td>NaN</td>\n",
       "      <td>NaN</td>\n",
       "      <td>NaN</td>\n",
       "      <td>NaN</td>\n",
       "      <td>NaN</td>\n",
       "      <td>NaN</td>\n",
       "      <td>NaN</td>\n",
       "      <td>NaN</td>\n",
       "      <td>NaN</td>\n",
       "      <td>others</td>\n",
       "      <td>Abkhazia</td>\n",
       "      <td>GE-AB</td>\n",
       "      <td>i0</td>\n",
       "      <td>NaN</td>\n",
       "      <td>True</td>\n",
       "      <td>NaN</td>\n",
       "      <td>NaN</td>\n",
       "      <td>NaN</td>\n",
       "      <td>NaN</td>\n",
       "      <td>NaN</td>\n",
       "      <td>NaN</td>\n",
       "      <td>NaN</td>\n",
       "      <td>NaN</td>\n",
       "      <td>Abkhazia</td>\n",
       "      <td>NaN</td>\n",
       "      <td>False</td>\n",
       "      <td>NaN</td>\n",
       "      <td>NaN</td>\n",
       "      <td>europe</td>\n",
       "      <td>europe_central_asia</td>\n",
       "    </tr>\n",
       "    <tr>\n",
       "      <th>1</th>\n",
       "      <td>abw</td>\n",
       "      <td>NaN</td>\n",
       "      <td>NaN</td>\n",
       "      <td>NaN</td>\n",
       "      <td>NaN</td>\n",
       "      <td>Aruba</td>\n",
       "      <td>NaN</td>\n",
       "      <td>NaN</td>\n",
       "      <td>NaN</td>\n",
       "      <td>NaN</td>\n",
       "      <td>NaN</td>\n",
       "      <td>NaN</td>\n",
       "      <td>others</td>\n",
       "      <td>Aruba</td>\n",
       "      <td>AW</td>\n",
       "      <td>i12</td>\n",
       "      <td>high_income</td>\n",
       "      <td>True</td>\n",
       "      <td>AW</td>\n",
       "      <td>ABW</td>\n",
       "      <td>533.0</td>\n",
       "      <td>NaN</td>\n",
       "      <td>coastline</td>\n",
       "      <td>12.50000</td>\n",
       "      <td>-69.96667</td>\n",
       "      <td>christian</td>\n",
       "      <td>Aruba</td>\n",
       "      <td>NaN</td>\n",
       "      <td>False</td>\n",
       "      <td>AW</td>\n",
       "      <td>ARUBA</td>\n",
       "      <td>americas</td>\n",
       "      <td>america</td>\n",
       "    </tr>\n",
       "    <tr>\n",
       "      <th>2</th>\n",
       "      <td>afg</td>\n",
       "      <td>NaN</td>\n",
       "      <td>Islamic Republic of Afghanistan</td>\n",
       "      <td>NaN</td>\n",
       "      <td>NaN</td>\n",
       "      <td>Afghanistan</td>\n",
       "      <td>NaN</td>\n",
       "      <td>NaN</td>\n",
       "      <td>NaN</td>\n",
       "      <td>NaN</td>\n",
       "      <td>NaN</td>\n",
       "      <td>NaN</td>\n",
       "      <td>g77</td>\n",
       "      <td>Afghanistan</td>\n",
       "      <td>AF</td>\n",
       "      <td>i1</td>\n",
       "      <td>low_income</td>\n",
       "      <td>True</td>\n",
       "      <td>AF</td>\n",
       "      <td>AFG</td>\n",
       "      <td>4.0</td>\n",
       "      <td>NaN</td>\n",
       "      <td>landlocked</td>\n",
       "      <td>33.00000</td>\n",
       "      <td>66.00000</td>\n",
       "      <td>muslim</td>\n",
       "      <td>Afghanistan</td>\n",
       "      <td>AFGHANISTAN</td>\n",
       "      <td>True</td>\n",
       "      <td>AF</td>\n",
       "      <td>AFGHANISTAN</td>\n",
       "      <td>asia</td>\n",
       "      <td>south_asia</td>\n",
       "    </tr>\n",
       "    <tr>\n",
       "      <th>3</th>\n",
       "      <td>ago</td>\n",
       "      <td>NaN</td>\n",
       "      <td>NaN</td>\n",
       "      <td>NaN</td>\n",
       "      <td>NaN</td>\n",
       "      <td>Angola</td>\n",
       "      <td>NaN</td>\n",
       "      <td>NaN</td>\n",
       "      <td>NaN</td>\n",
       "      <td>NaN</td>\n",
       "      <td>NaN</td>\n",
       "      <td>NaN</td>\n",
       "      <td>g77</td>\n",
       "      <td>Angola</td>\n",
       "      <td>AO</td>\n",
       "      <td>i7</td>\n",
       "      <td>upper_middle_income</td>\n",
       "      <td>True</td>\n",
       "      <td>AO</td>\n",
       "      <td>AGO</td>\n",
       "      <td>24.0</td>\n",
       "      <td>NaN</td>\n",
       "      <td>coastline</td>\n",
       "      <td>-12.50000</td>\n",
       "      <td>18.50000</td>\n",
       "      <td>christian</td>\n",
       "      <td>Angola</td>\n",
       "      <td>ANGOLA</td>\n",
       "      <td>True</td>\n",
       "      <td>AO</td>\n",
       "      <td>ANGOLA</td>\n",
       "      <td>africa</td>\n",
       "      <td>sub_saharan_africa</td>\n",
       "    </tr>\n",
       "    <tr>\n",
       "      <th>4</th>\n",
       "      <td>aia</td>\n",
       "      <td>NaN</td>\n",
       "      <td>NaN</td>\n",
       "      <td>NaN</td>\n",
       "      <td>NaN</td>\n",
       "      <td>NaN</td>\n",
       "      <td>NaN</td>\n",
       "      <td>NaN</td>\n",
       "      <td>NaN</td>\n",
       "      <td>NaN</td>\n",
       "      <td>NaN</td>\n",
       "      <td>NaN</td>\n",
       "      <td>others</td>\n",
       "      <td>Anguilla</td>\n",
       "      <td>AI</td>\n",
       "      <td>i8</td>\n",
       "      <td>NaN</td>\n",
       "      <td>True</td>\n",
       "      <td>AI</td>\n",
       "      <td>AIA</td>\n",
       "      <td>660.0</td>\n",
       "      <td>NaN</td>\n",
       "      <td>coastline</td>\n",
       "      <td>18.21667</td>\n",
       "      <td>-63.05000</td>\n",
       "      <td>christian</td>\n",
       "      <td>Anguilla</td>\n",
       "      <td>NaN</td>\n",
       "      <td>False</td>\n",
       "      <td>AI</td>\n",
       "      <td>ANGUILLA</td>\n",
       "      <td>americas</td>\n",
       "      <td>america</td>\n",
       "    </tr>\n",
       "  </tbody>\n",
       "</table>\n",
       "</div>"
      ],
      "text/plain": [
       "  country alt_5                    alternative_1 alternative_2 alternative_3  \\\n",
       "0    abkh   NaN                              NaN           NaN           NaN   \n",
       "1     abw   NaN                              NaN           NaN           NaN   \n",
       "2     afg   NaN  Islamic Republic of Afghanistan           NaN           NaN   \n",
       "3     ago   NaN                              NaN           NaN           NaN   \n",
       "4     aia   NaN                              NaN           NaN           NaN   \n",
       "\n",
       "  alternative_4_cdiac arb1 arb2 arb3 arb4 arb5 arb6 g77_and_oecd_countries  \\\n",
       "0                 NaN  NaN  NaN  NaN  NaN  NaN  NaN                 others   \n",
       "1               Aruba  NaN  NaN  NaN  NaN  NaN  NaN                 others   \n",
       "2         Afghanistan  NaN  NaN  NaN  NaN  NaN  NaN                    g77   \n",
       "3              Angola  NaN  NaN  NaN  NaN  NaN  NaN                    g77   \n",
       "4                 NaN  NaN  NaN  NaN  NaN  NaN  NaN                 others   \n",
       "\n",
       "  gapminder_list god_id gwid        income_groups  is--country  \\\n",
       "0       Abkhazia  GE-AB   i0                  NaN         True   \n",
       "1          Aruba     AW  i12          high_income         True   \n",
       "2    Afghanistan     AF   i1           low_income         True   \n",
       "3         Angola     AO   i7  upper_middle_income         True   \n",
       "4       Anguilla     AI   i8                  NaN         True   \n",
       "\n",
       "  iso3166_1_alpha2 iso3166_1_alpha3  iso3166_1_numeric iso3166_2  landlocked  \\\n",
       "0              NaN              NaN                NaN       NaN         NaN   \n",
       "1               AW              ABW              533.0       NaN   coastline   \n",
       "2               AF              AFG                4.0       NaN  landlocked   \n",
       "3               AO              AGO               24.0       NaN   coastline   \n",
       "4               AI              AIA              660.0       NaN   coastline   \n",
       "\n",
       "   latitude  longitude main_religion_2008         name        pandg  un_state  \\\n",
       "0       NaN        NaN                NaN     Abkhazia          NaN     False   \n",
       "1  12.50000  -69.96667          christian        Aruba          NaN     False   \n",
       "2  33.00000   66.00000             muslim  Afghanistan  AFGHANISTAN      True   \n",
       "3 -12.50000   18.50000          christian       Angola       ANGOLA      True   \n",
       "4  18.21667  -63.05000          christian     Anguilla          NaN     False   \n",
       "\n",
       "  unicode_region_subtag upper_case_name world_4region        world_6region  \n",
       "0                   NaN             NaN        europe  europe_central_asia  \n",
       "1                    AW           ARUBA      americas              america  \n",
       "2                    AF     AFGHANISTAN          asia           south_asia  \n",
       "3                    AO          ANGOLA        africa   sub_saharan_africa  \n",
       "4                    AI        ANGUILLA      americas              america  "
      ]
     },
     "execution_count": 10,
     "metadata": {},
     "output_type": "execute_result"
    }
   ],
   "source": [
    "pd.options.display.max_columns = 500\n",
    "entities.head()"
   ]
  },
  {
   "cell_type": "code",
   "execution_count": 11,
   "metadata": {
    "colab": {},
    "colab_type": "code",
    "id": "mk_R0eFZZ0G5"
   },
   "outputs": [
    {
     "data": {
      "text/html": [
       "<div>\n",
       "<style scoped>\n",
       "    .dataframe tbody tr th:only-of-type {\n",
       "        vertical-align: middle;\n",
       "    }\n",
       "\n",
       "    .dataframe tbody tr th {\n",
       "        vertical-align: top;\n",
       "    }\n",
       "\n",
       "    .dataframe thead th {\n",
       "        text-align: right;\n",
       "    }\n",
       "</style>\n",
       "<table border=\"1\" class=\"dataframe\">\n",
       "  <thead>\n",
       "    <tr style=\"text-align: right;\">\n",
       "      <th></th>\n",
       "      <th>concept</th>\n",
       "      <th>color</th>\n",
       "      <th>concept_type</th>\n",
       "      <th>description</th>\n",
       "      <th>description_long</th>\n",
       "      <th>domain</th>\n",
       "      <th>drill_up</th>\n",
       "      <th>indicator_url</th>\n",
       "      <th>name</th>\n",
       "      <th>name_catalog</th>\n",
       "      <th>name_short</th>\n",
       "      <th>scales</th>\n",
       "      <th>source</th>\n",
       "      <th>source_long</th>\n",
       "      <th>source_url</th>\n",
       "      <th>tags</th>\n",
       "    </tr>\n",
       "  </thead>\n",
       "  <tbody>\n",
       "    <tr>\n",
       "      <th>0</th>\n",
       "      <td>adults_with_hiv_percent_age_15_49</td>\n",
       "      <td>NaN</td>\n",
       "      <td>measure</td>\n",
       "      <td>The estimated percentage of adults aged 15 to ...</td>\n",
       "      <td>NaN</td>\n",
       "      <td>NaN</td>\n",
       "      <td>NaN</td>\n",
       "      <td>NaN</td>\n",
       "      <td>Adults with HIV (%, age 15-49)</td>\n",
       "      <td>Adults with HIV (%, age 15-49)</td>\n",
       "      <td>Adults with HIV</td>\n",
       "      <td>[\"log\", \"linear\"]</td>\n",
       "      <td>NaN</td>\n",
       "      <td>NaN</td>\n",
       "      <td>https://www.gapminder.org/gapminder-world/docu...</td>\n",
       "      <td>hiv</td>\n",
       "    </tr>\n",
       "    <tr>\n",
       "      <th>1</th>\n",
       "      <td>age_at_1st_marriage_women</td>\n",
       "      <td>NaN</td>\n",
       "      <td>measure</td>\n",
       "      <td>The mean age, in years, of first marriage for ...</td>\n",
       "      <td>NaN</td>\n",
       "      <td>NaN</td>\n",
       "      <td>NaN</td>\n",
       "      <td>NaN</td>\n",
       "      <td>Age at 1st marriage (women)</td>\n",
       "      <td>Age at 1st marriage (women)</td>\n",
       "      <td>Age at 1st marriage</td>\n",
       "      <td>[\"linear\", \"log\"]</td>\n",
       "      <td>NaN</td>\n",
       "      <td>NaN</td>\n",
       "      <td>https://www.gapminder.org/data/documentation/g...</td>\n",
       "      <td>population</td>\n",
       "    </tr>\n",
       "    <tr>\n",
       "      <th>2</th>\n",
       "      <td>aged_15_24_employment_rate_percent</td>\n",
       "      <td>NaN</td>\n",
       "      <td>measure</td>\n",
       "      <td>Percentage of total population, age group 15-2...</td>\n",
       "      <td>NaN</td>\n",
       "      <td>NaN</td>\n",
       "      <td>NaN</td>\n",
       "      <td>NaN</td>\n",
       "      <td>Aged 15-24 employment rate (%)</td>\n",
       "      <td>Aged 15-24</td>\n",
       "      <td>Employment rate (%)</td>\n",
       "      <td>[\"linear\", \"log\"]</td>\n",
       "      <td>NaN</td>\n",
       "      <td>NaN</td>\n",
       "      <td>https://www.ilo.org/ilostat/</td>\n",
       "      <td>employment_rate</td>\n",
       "    </tr>\n",
       "    <tr>\n",
       "      <th>3</th>\n",
       "      <td>aged_15_24_unemployment_rate_percent</td>\n",
       "      <td>NaN</td>\n",
       "      <td>measure</td>\n",
       "      <td>Percentage of total population, age group 15-2...</td>\n",
       "      <td>NaN</td>\n",
       "      <td>NaN</td>\n",
       "      <td>NaN</td>\n",
       "      <td>NaN</td>\n",
       "      <td>Aged 15-24 unemployment rate (%)</td>\n",
       "      <td>Aged 15-24</td>\n",
       "      <td>Unemployment rate (%)</td>\n",
       "      <td>[\"linear\", \"log\"]</td>\n",
       "      <td>NaN</td>\n",
       "      <td>NaN</td>\n",
       "      <td>https://www.ilo.org/ilostat/</td>\n",
       "      <td>unemployment</td>\n",
       "    </tr>\n",
       "    <tr>\n",
       "      <th>4</th>\n",
       "      <td>aged_15_64_labour_force_participation_rate_per...</td>\n",
       "      <td>NaN</td>\n",
       "      <td>measure</td>\n",
       "      <td>For age group 15-64, percentage of all labour ...</td>\n",
       "      <td>NaN</td>\n",
       "      <td>NaN</td>\n",
       "      <td>NaN</td>\n",
       "      <td>NaN</td>\n",
       "      <td>Aged 15-64 labour force participation rate (%)</td>\n",
       "      <td>Aged 15-64</td>\n",
       "      <td>Labour force participation rate (%)</td>\n",
       "      <td>[\"linear\", \"log\"]</td>\n",
       "      <td>NaN</td>\n",
       "      <td>NaN</td>\n",
       "      <td>https://www.ilo.org/ilostat/</td>\n",
       "      <td>labour_force_participation</td>\n",
       "    </tr>\n",
       "  </tbody>\n",
       "</table>\n",
       "</div>"
      ],
      "text/plain": [
       "                                             concept color concept_type  \\\n",
       "0                  adults_with_hiv_percent_age_15_49   NaN      measure   \n",
       "1                          age_at_1st_marriage_women   NaN      measure   \n",
       "2                 aged_15_24_employment_rate_percent   NaN      measure   \n",
       "3               aged_15_24_unemployment_rate_percent   NaN      measure   \n",
       "4  aged_15_64_labour_force_participation_rate_per...   NaN      measure   \n",
       "\n",
       "                                         description description_long domain  \\\n",
       "0  The estimated percentage of adults aged 15 to ...              NaN    NaN   \n",
       "1  The mean age, in years, of first marriage for ...              NaN    NaN   \n",
       "2  Percentage of total population, age group 15-2...              NaN    NaN   \n",
       "3  Percentage of total population, age group 15-2...              NaN    NaN   \n",
       "4  For age group 15-64, percentage of all labour ...              NaN    NaN   \n",
       "\n",
       "  drill_up indicator_url                                            name  \\\n",
       "0      NaN           NaN                  Adults with HIV (%, age 15-49)   \n",
       "1      NaN           NaN                     Age at 1st marriage (women)   \n",
       "2      NaN           NaN                  Aged 15-24 employment rate (%)   \n",
       "3      NaN           NaN                Aged 15-24 unemployment rate (%)   \n",
       "4      NaN           NaN  Aged 15-64 labour force participation rate (%)   \n",
       "\n",
       "                     name_catalog                           name_short  \\\n",
       "0  Adults with HIV (%, age 15-49)                      Adults with HIV   \n",
       "1     Age at 1st marriage (women)                  Age at 1st marriage   \n",
       "2                      Aged 15-24                  Employment rate (%)   \n",
       "3                      Aged 15-24                Unemployment rate (%)   \n",
       "4                      Aged 15-64  Labour force participation rate (%)   \n",
       "\n",
       "              scales source source_long  \\\n",
       "0  [\"log\", \"linear\"]    NaN         NaN   \n",
       "1  [\"linear\", \"log\"]    NaN         NaN   \n",
       "2  [\"linear\", \"log\"]    NaN         NaN   \n",
       "3  [\"linear\", \"log\"]    NaN         NaN   \n",
       "4  [\"linear\", \"log\"]    NaN         NaN   \n",
       "\n",
       "                                          source_url  \\\n",
       "0  https://www.gapminder.org/gapminder-world/docu...   \n",
       "1  https://www.gapminder.org/data/documentation/g...   \n",
       "2                       https://www.ilo.org/ilostat/   \n",
       "3                       https://www.ilo.org/ilostat/   \n",
       "4                       https://www.ilo.org/ilostat/   \n",
       "\n",
       "                         tags  \n",
       "0                         hiv  \n",
       "1                  population  \n",
       "2             employment_rate  \n",
       "3                unemployment  \n",
       "4  labour_force_participation  "
      ]
     },
     "execution_count": 11,
     "metadata": {},
     "output_type": "execute_result"
    }
   ],
   "source": [
    "concepts.head()"
   ]
  },
  {
   "cell_type": "markdown",
   "metadata": {
    "colab_type": "text",
    "id": "6HYUytvLT8Kf"
   },
   "source": [
    "## Merge data"
   ]
  },
  {
   "cell_type": "markdown",
   "metadata": {
    "colab_type": "text",
    "id": "dhALZDsh9n9L"
   },
   "source": [
    "https://github.com/pandas-dev/pandas/blob/master/doc/cheatsheet/Pandas_Cheat_Sheet.pdf"
   ]
  },
  {
   "cell_type": "code",
   "execution_count": 12,
   "metadata": {
    "colab": {},
    "colab_type": "code",
    "id": "A-tnI-hK6yDG"
   },
   "outputs": [],
   "source": [
    "# Some renaming\n",
    "income.columns = ['geo', 'time', 'income']\n",
    "lifespan.columns = ['geo', 'time', 'lifespan']\n",
    "population.columns = ['geo', 'time', 'population']\n",
    "\n",
    "# Entities cleanup\n",
    "entities = entities[['country', 'gapminder_list']]\n",
    "entities.columns = ['geo', 'country']"
   ]
  },
  {
   "cell_type": "code",
   "execution_count": 13,
   "metadata": {},
   "outputs": [
    {
     "data": {
      "text/plain": [
       "geo       object\n",
       "time       int64\n",
       "income     int64\n",
       "dtype: object"
      ]
     },
     "metadata": {},
     "output_type": "display_data"
    },
    {
     "data": {
      "text/plain": [
       "geo          object\n",
       "time          int64\n",
       "lifespan    float64\n",
       "dtype: object"
      ]
     },
     "metadata": {},
     "output_type": "display_data"
    },
    {
     "data": {
      "text/plain": [
       "geo           object\n",
       "time           int64\n",
       "population     int64\n",
       "dtype: object"
      ]
     },
     "metadata": {},
     "output_type": "display_data"
    }
   ],
   "source": [
    "from IPython.display import display\n",
    "\n",
    "# Check types\n",
    "display(income.dtypes, lifespan.dtypes, population.dtypes)"
   ]
  },
  {
   "cell_type": "code",
   "execution_count": 14,
   "metadata": {},
   "outputs": [
    {
     "data": {
      "text/plain": [
       "(40437, 5)"
      ]
     },
     "metadata": {},
     "output_type": "display_data"
    },
    {
     "data": {
      "text/html": [
       "<div>\n",
       "<style scoped>\n",
       "    .dataframe tbody tr th:only-of-type {\n",
       "        vertical-align: middle;\n",
       "    }\n",
       "\n",
       "    .dataframe tbody tr th {\n",
       "        vertical-align: top;\n",
       "    }\n",
       "\n",
       "    .dataframe thead th {\n",
       "        text-align: right;\n",
       "    }\n",
       "</style>\n",
       "<table border=\"1\" class=\"dataframe\">\n",
       "  <thead>\n",
       "    <tr style=\"text-align: right;\">\n",
       "      <th></th>\n",
       "      <th>time</th>\n",
       "      <th>income</th>\n",
       "      <th>lifespan</th>\n",
       "      <th>population</th>\n",
       "      <th>country</th>\n",
       "    </tr>\n",
       "  </thead>\n",
       "  <tbody>\n",
       "    <tr>\n",
       "      <th>0</th>\n",
       "      <td>1800</td>\n",
       "      <td>603</td>\n",
       "      <td>28.21</td>\n",
       "      <td>3280000</td>\n",
       "      <td>Afghanistan</td>\n",
       "    </tr>\n",
       "    <tr>\n",
       "      <th>1</th>\n",
       "      <td>1801</td>\n",
       "      <td>603</td>\n",
       "      <td>28.20</td>\n",
       "      <td>3280000</td>\n",
       "      <td>Afghanistan</td>\n",
       "    </tr>\n",
       "    <tr>\n",
       "      <th>2</th>\n",
       "      <td>1802</td>\n",
       "      <td>603</td>\n",
       "      <td>28.19</td>\n",
       "      <td>3280000</td>\n",
       "      <td>Afghanistan</td>\n",
       "    </tr>\n",
       "    <tr>\n",
       "      <th>3</th>\n",
       "      <td>1803</td>\n",
       "      <td>603</td>\n",
       "      <td>28.18</td>\n",
       "      <td>3280000</td>\n",
       "      <td>Afghanistan</td>\n",
       "    </tr>\n",
       "    <tr>\n",
       "      <th>4</th>\n",
       "      <td>1804</td>\n",
       "      <td>603</td>\n",
       "      <td>28.17</td>\n",
       "      <td>3280000</td>\n",
       "      <td>Afghanistan</td>\n",
       "    </tr>\n",
       "  </tbody>\n",
       "</table>\n",
       "</div>"
      ],
      "text/plain": [
       "   time  income  lifespan  population      country\n",
       "0  1800     603     28.21     3280000  Afghanistan\n",
       "1  1801     603     28.20     3280000  Afghanistan\n",
       "2  1802     603     28.19     3280000  Afghanistan\n",
       "3  1803     603     28.18     3280000  Afghanistan\n",
       "4  1804     603     28.17     3280000  Afghanistan"
      ]
     },
     "metadata": {},
     "output_type": "display_data"
    },
    {
     "data": {
      "text/plain": [
       "time          0\n",
       "income        0\n",
       "lifespan      0\n",
       "population    0\n",
       "country       0\n",
       "dtype: int64"
      ]
     },
     "metadata": {},
     "output_type": "display_data"
    }
   ],
   "source": [
    "# The data types should be alright.  We can begin to merge.\n",
    "\n",
    "df = income.merge(lifespan, how='inner', on=['geo', 'time'])\n",
    "df = df.merge(population, how='inner', on=['geo', 'time'])\n",
    "df = df.merge(entities[['geo', 'country']])\n",
    "df = df.drop(columns = ['geo'])\n",
    "display(df.shape, df.head(), df.isna().sum())"
   ]
  },
  {
   "cell_type": "markdown",
   "metadata": {
    "colab_type": "text",
    "id": "4OdEr5IFVdF5"
   },
   "source": [
    "## Explore data"
   ]
  },
  {
   "cell_type": "code",
   "execution_count": 15,
   "metadata": {
    "colab": {},
    "colab_type": "code",
    "id": "4IzXea0T64x4"
   },
   "outputs": [
    {
     "data": {
      "text/html": [
       "<div>\n",
       "<style scoped>\n",
       "    .dataframe tbody tr th:only-of-type {\n",
       "        vertical-align: middle;\n",
       "    }\n",
       "\n",
       "    .dataframe tbody tr th {\n",
       "        vertical-align: top;\n",
       "    }\n",
       "\n",
       "    .dataframe thead th {\n",
       "        text-align: right;\n",
       "    }\n",
       "</style>\n",
       "<table border=\"1\" class=\"dataframe\">\n",
       "  <thead>\n",
       "    <tr style=\"text-align: right;\">\n",
       "      <th></th>\n",
       "      <th>country</th>\n",
       "    </tr>\n",
       "  </thead>\n",
       "  <tbody>\n",
       "    <tr>\n",
       "      <th>count</th>\n",
       "      <td>40437</td>\n",
       "    </tr>\n",
       "    <tr>\n",
       "      <th>unique</th>\n",
       "      <td>187</td>\n",
       "    </tr>\n",
       "    <tr>\n",
       "      <th>top</th>\n",
       "      <td>Nicaragua</td>\n",
       "    </tr>\n",
       "    <tr>\n",
       "      <th>freq</th>\n",
       "      <td>219</td>\n",
       "    </tr>\n",
       "  </tbody>\n",
       "</table>\n",
       "</div>"
      ],
      "text/plain": [
       "          country\n",
       "count       40437\n",
       "unique        187\n",
       "top     Nicaragua\n",
       "freq          219"
      ]
     },
     "metadata": {},
     "output_type": "display_data"
    },
    {
     "data": {
      "text/html": [
       "<div>\n",
       "<style scoped>\n",
       "    .dataframe tbody tr th:only-of-type {\n",
       "        vertical-align: middle;\n",
       "    }\n",
       "\n",
       "    .dataframe tbody tr th {\n",
       "        vertical-align: top;\n",
       "    }\n",
       "\n",
       "    .dataframe thead th {\n",
       "        text-align: right;\n",
       "    }\n",
       "</style>\n",
       "<table border=\"1\" class=\"dataframe\">\n",
       "  <thead>\n",
       "    <tr style=\"text-align: right;\">\n",
       "      <th></th>\n",
       "      <th>time</th>\n",
       "      <th>income</th>\n",
       "      <th>lifespan</th>\n",
       "      <th>population</th>\n",
       "    </tr>\n",
       "  </thead>\n",
       "  <tbody>\n",
       "    <tr>\n",
       "      <th>count</th>\n",
       "      <td>40437.000000</td>\n",
       "      <td>40437.000000</td>\n",
       "      <td>40437.000000</td>\n",
       "      <td>4.043700e+04</td>\n",
       "    </tr>\n",
       "    <tr>\n",
       "      <th>mean</th>\n",
       "      <td>1909.292900</td>\n",
       "      <td>4619.492717</td>\n",
       "      <td>43.132080</td>\n",
       "      <td>1.371204e+07</td>\n",
       "    </tr>\n",
       "    <tr>\n",
       "      <th>std</th>\n",
       "      <td>63.308682</td>\n",
       "      <td>10209.571045</td>\n",
       "      <td>16.313228</td>\n",
       "      <td>6.606335e+07</td>\n",
       "    </tr>\n",
       "    <tr>\n",
       "      <th>min</th>\n",
       "      <td>1800.000000</td>\n",
       "      <td>247.000000</td>\n",
       "      <td>1.000000</td>\n",
       "      <td>2.128000e+03</td>\n",
       "    </tr>\n",
       "    <tr>\n",
       "      <th>25%</th>\n",
       "      <td>1854.000000</td>\n",
       "      <td>876.000000</td>\n",
       "      <td>31.160000</td>\n",
       "      <td>4.113310e+05</td>\n",
       "    </tr>\n",
       "    <tr>\n",
       "      <th>50%</th>\n",
       "      <td>1909.000000</td>\n",
       "      <td>1442.000000</td>\n",
       "      <td>35.500000</td>\n",
       "      <td>1.985952e+06</td>\n",
       "    </tr>\n",
       "    <tr>\n",
       "      <th>75%</th>\n",
       "      <td>1964.000000</td>\n",
       "      <td>3488.000000</td>\n",
       "      <td>55.970000</td>\n",
       "      <td>6.499707e+06</td>\n",
       "    </tr>\n",
       "    <tr>\n",
       "      <th>max</th>\n",
       "      <td>2018.000000</td>\n",
       "      <td>177522.000000</td>\n",
       "      <td>84.170000</td>\n",
       "      <td>1.415046e+09</td>\n",
       "    </tr>\n",
       "  </tbody>\n",
       "</table>\n",
       "</div>"
      ],
      "text/plain": [
       "               time         income      lifespan    population\n",
       "count  40437.000000   40437.000000  40437.000000  4.043700e+04\n",
       "mean    1909.292900    4619.492717     43.132080  1.371204e+07\n",
       "std       63.308682   10209.571045     16.313228  6.606335e+07\n",
       "min     1800.000000     247.000000      1.000000  2.128000e+03\n",
       "25%     1854.000000     876.000000     31.160000  4.113310e+05\n",
       "50%     1909.000000    1442.000000     35.500000  1.985952e+06\n",
       "75%     1964.000000    3488.000000     55.970000  6.499707e+06\n",
       "max     2018.000000  177522.000000     84.170000  1.415046e+09"
      ]
     },
     "metadata": {},
     "output_type": "display_data"
    }
   ],
   "source": [
    "display(df.describe(exclude='number'), df.describe())"
   ]
  },
  {
   "cell_type": "code",
   "execution_count": 30,
   "metadata": {
    "scrolled": false
   },
   "outputs": [
    {
     "data": {
      "text/html": [
       "<div>\n",
       "<style scoped>\n",
       "    .dataframe tbody tr th:only-of-type {\n",
       "        vertical-align: middle;\n",
       "    }\n",
       "\n",
       "    .dataframe tbody tr th {\n",
       "        vertical-align: top;\n",
       "    }\n",
       "\n",
       "    .dataframe thead th {\n",
       "        text-align: right;\n",
       "    }\n",
       "</style>\n",
       "<table border=\"1\" class=\"dataframe\">\n",
       "  <thead>\n",
       "    <tr style=\"text-align: right;\">\n",
       "      <th></th>\n",
       "      <th>time</th>\n",
       "      <th>income</th>\n",
       "      <th>lifespan</th>\n",
       "      <th>population</th>\n",
       "      <th>country</th>\n",
       "    </tr>\n",
       "  </thead>\n",
       "  <tbody>\n",
       "    <tr>\n",
       "      <th>38029</th>\n",
       "      <td>1801</td>\n",
       "      <td>2167</td>\n",
       "      <td>39.41</td>\n",
       "      <td>6933517</td>\n",
       "      <td>United States</td>\n",
       "    </tr>\n",
       "    <tr>\n",
       "      <th>38108</th>\n",
       "      <td>1880</td>\n",
       "      <td>5289</td>\n",
       "      <td>39.41</td>\n",
       "      <td>51402380</td>\n",
       "      <td>United States</td>\n",
       "    </tr>\n",
       "    <tr>\n",
       "      <th>38133</th>\n",
       "      <td>1905</td>\n",
       "      <td>7739</td>\n",
       "      <td>50.29</td>\n",
       "      <td>85524307</td>\n",
       "      <td>United States</td>\n",
       "    </tr>\n",
       "  </tbody>\n",
       "</table>\n",
       "</div>"
      ],
      "text/plain": [
       "       time  income  lifespan  population        country\n",
       "38029  1801    2167     39.41     6933517  United States\n",
       "38108  1880    5289     39.41    51402380  United States\n",
       "38133  1905    7739     50.29    85524307  United States"
      ]
     },
     "execution_count": 30,
     "metadata": {},
     "output_type": "execute_result"
    }
   ],
   "source": [
    "# Pull out a single country\n",
    "country_cond = df.country == 'United States' \n",
    "usa = df[country_cond]\n",
    "\n",
    "usa[usa.time.isin([1801, 1880, 1905])]"
   ]
  },
  {
   "cell_type": "markdown",
   "metadata": {
    "colab_type": "text",
    "id": "hecscpimY6Oz"
   },
   "source": [
    "## Plot visualization"
   ]
  },
  {
   "cell_type": "code",
   "execution_count": 31,
   "metadata": {
    "colab": {},
    "colab_type": "code",
    "id": "_o8RmX2M67ai"
   },
   "outputs": [
    {
     "data": {
      "text/html": [
       "<div>\n",
       "<style scoped>\n",
       "    .dataframe tbody tr th:only-of-type {\n",
       "        vertical-align: middle;\n",
       "    }\n",
       "\n",
       "    .dataframe tbody tr th {\n",
       "        vertical-align: top;\n",
       "    }\n",
       "\n",
       "    .dataframe thead th {\n",
       "        text-align: right;\n",
       "    }\n",
       "</style>\n",
       "<table border=\"1\" class=\"dataframe\">\n",
       "  <thead>\n",
       "    <tr style=\"text-align: right;\">\n",
       "      <th></th>\n",
       "      <th>time</th>\n",
       "      <th>income</th>\n",
       "      <th>lifespan</th>\n",
       "      <th>population</th>\n",
       "      <th>country</th>\n",
       "    </tr>\n",
       "  </thead>\n",
       "  <tbody>\n",
       "    <tr>\n",
       "      <th>210</th>\n",
       "      <td>2010</td>\n",
       "      <td>1614</td>\n",
       "      <td>56.20</td>\n",
       "      <td>28803167</td>\n",
       "      <td>Afghanistan</td>\n",
       "    </tr>\n",
       "    <tr>\n",
       "      <th>429</th>\n",
       "      <td>2010</td>\n",
       "      <td>5895</td>\n",
       "      <td>60.08</td>\n",
       "      <td>23369131</td>\n",
       "      <td>Angola</td>\n",
       "    </tr>\n",
       "    <tr>\n",
       "      <th>648</th>\n",
       "      <td>2010</td>\n",
       "      <td>9927</td>\n",
       "      <td>76.31</td>\n",
       "      <td>2940525</td>\n",
       "      <td>Albania</td>\n",
       "    </tr>\n",
       "    <tr>\n",
       "      <th>697</th>\n",
       "      <td>2010</td>\n",
       "      <td>38982</td>\n",
       "      <td>82.66</td>\n",
       "      <td>84449</td>\n",
       "      <td>Andorra</td>\n",
       "    </tr>\n",
       "    <tr>\n",
       "      <th>914</th>\n",
       "      <td>2010</td>\n",
       "      <td>57580</td>\n",
       "      <td>76.51</td>\n",
       "      <td>8270684</td>\n",
       "      <td>United Arab Emirates</td>\n",
       "    </tr>\n",
       "  </tbody>\n",
       "</table>\n",
       "</div>"
      ],
      "text/plain": [
       "     time  income  lifespan  population               country\n",
       "210  2010    1614     56.20    28803167           Afghanistan\n",
       "429  2010    5895     60.08    23369131                Angola\n",
       "648  2010    9927     76.31     2940525               Albania\n",
       "697  2010   38982     82.66       84449               Andorra\n",
       "914  2010   57580     76.51     8270684  United Arab Emirates"
      ]
     },
     "execution_count": 31,
     "metadata": {},
     "output_type": "execute_result"
    }
   ],
   "source": [
    "# Splice a year and plot with seaborn's relplot\n",
    "subset = df[df.time==2010]\n",
    "subset.head()"
   ]
  },
  {
   "cell_type": "code",
   "execution_count": 45,
   "metadata": {},
   "outputs": [
    {
     "data": {
      "image/png": "[encoded data removed]",
      "text/plain": [
       "<Figure size 360x360 with 1 Axes>"
      ]
     },
     "metadata": {},
     "output_type": "display_data"
    }
   ],
   "source": [
    "# Set sns render parameters\n",
    "sns.set(style='ticks')\n",
    "\n",
    "# Build test plot\n",
    "fig = sns.relplot(x='income', y='lifespan',\n",
    "            hue='country', legend=False,\n",
    "            size='population', sizes=(25,1000),\n",
    "            data=subset)\n",
    "axes = fig.axes.flatten()\n",
    "axes[0].set_title('Income Strong Predictor of Lifespan')\n",
    "plt.xscale('log')"
   ]
  },
  {
   "cell_type": "code",
   "execution_count": null,
   "metadata": {},
   "outputs": [],
   "source": [
    "# I can see why a general area would be useful for hue=*, there are too many countries to make sense of the color here."
   ]
  },
  {
   "cell_type": "markdown",
   "metadata": {
    "colab_type": "text",
    "id": "8OFxenCdhocj"
   },
   "source": [
    "## Analyze outliers"
   ]
  },
  {
   "cell_type": "code",
   "execution_count": 46,
   "metadata": {
    "colab": {},
    "colab_type": "code",
    "id": "D59bn-7k6-Io"
   },
   "outputs": [
    {
     "data": {
      "text/html": [
       "<div>\n",
       "<style scoped>\n",
       "    .dataframe tbody tr th:only-of-type {\n",
       "        vertical-align: middle;\n",
       "    }\n",
       "\n",
       "    .dataframe tbody tr th {\n",
       "        vertical-align: top;\n",
       "    }\n",
       "\n",
       "    .dataframe thead th {\n",
       "        text-align: right;\n",
       "    }\n",
       "</style>\n",
       "<table border=\"1\" class=\"dataframe\">\n",
       "  <thead>\n",
       "    <tr style=\"text-align: right;\">\n",
       "      <th></th>\n",
       "      <th>time</th>\n",
       "      <th>income</th>\n",
       "      <th>lifespan</th>\n",
       "      <th>population</th>\n",
       "      <th>country</th>\n",
       "    </tr>\n",
       "  </thead>\n",
       "  <tbody>\n",
       "    <tr>\n",
       "      <th>16072</th>\n",
       "      <td>2010</td>\n",
       "      <td>1502</td>\n",
       "      <td>32.11</td>\n",
       "      <td>9999617</td>\n",
       "      <td>Haiti</td>\n",
       "    </tr>\n",
       "  </tbody>\n",
       "</table>\n",
       "</div>"
      ],
      "text/plain": [
       "       time  income  lifespan  population country\n",
       "16072  2010    1502     32.11     9999617   Haiti"
      ]
     },
     "execution_count": 46,
     "metadata": {},
     "output_type": "execute_result"
    }
   ],
   "source": [
    "subset[subset.lifespan < 40]"
   ]
  },
  {
   "cell_type": "code",
   "execution_count": 53,
   "metadata": {},
   "outputs": [
    {
     "name": "stderr",
     "output_type": "stream",
     "text": [
      "'c' argument looks like a single numeric RGB or RGBA sequence, which should be avoided as value-mapping will have precedence in case its length matches with 'x' & 'y'.  Please use a 2-D array with a single row if you really want to specify the same RGB or RGBA value for all points.\n"
     ]
    },
    {
     "data": {
      "text/plain": [
       "<matplotlib.axes._subplots.AxesSubplot at 0x152fedba4e0>"
      ]
     },
     "execution_count": 53,
     "metadata": {},
     "output_type": "execute_result"
    },
    {
     "data": {
      "image/png": "[encoded data removed]",
      "text/plain": [
       "<Figure size 432x288 with 1 Axes>"
      ]
     },
     "metadata": {},
     "output_type": "display_data"
    }
   ],
   "source": [
    "# Poor Haiti.  Was it always that bad?\n",
    "haiti = df[df.country == 'Haiti']\n",
    "haiti.plot.scatter(x='time', y='lifespan')"
   ]
  },
  {
   "cell_type": "code",
   "execution_count": null,
   "metadata": {},
   "outputs": [],
   "source": [
    "# Some bad years there..."
   ]
  },
  {
   "cell_type": "markdown",
   "metadata": {
    "colab_type": "text",
    "id": "DNTMMBkVhrGk"
   },
   "source": [
    "## Plot multiple years"
   ]
  },
  {
   "cell_type": "code",
   "execution_count": 65,
   "metadata": {
    "colab": {},
    "colab_type": "code",
    "id": "JkTUmYGF7BQt"
   },
   "outputs": [
    {
     "data": {
      "image/png": "[encoded data removed]",
      "text/plain": [
       "<Figure size 360x360 with 1 Axes>"
      ]
     },
     "metadata": {},
     "output_type": "display_data"
    },
    {
     "data": {
      "image/png": "[encoded data removed]",
      "text/plain": [
       "<Figure size 360x360 with 1 Axes>"
      ]
     },
     "metadata": {},
     "output_type": "display_data"
    },
    {
     "data": {
      "image/png": "[encoded data removed]",
      "text/plain": [
       "<Figure size 360x360 with 1 Axes>"
      ]
     },
     "metadata": {},
     "output_type": "display_data"
    },
    {
     "data": {
      "text/plain": [
       "None"
      ]
     },
     "metadata": {},
     "output_type": "display_data"
    },
    {
     "data": {
      "text/plain": [
       "None"
      ]
     },
     "metadata": {},
     "output_type": "display_data"
    },
    {
     "data": {
      "text/plain": [
       "None"
      ]
     },
     "metadata": {},
     "output_type": "display_data"
    }
   ],
   "source": [
    "from __future__ import print_function\n",
    "from ipywidgets import interact, interactive, fixed, interact_manual\n",
    "import ipywidgets as widgets\n",
    "\n",
    "# display(interact(plot_data, x=widgets.IntSlider(min=-1890, max=2015)))\n",
    "# not working.  will revisit\n",
    "\n",
    "from time import sleep\n",
    "\n",
    "def plot_data(x):\n",
    "    year = x\n",
    "    fig = sns.relplot(x='income', y='lifespan',\n",
    "                hue='country', legend=False,\n",
    "                size='population', sizes=(25,1000),\n",
    "                data=df[df.time==year])\n",
    "    axes = fig.axes.flatten()\n",
    "    axes[0].set_title('Income Strong Predictor of Lifespan')\n",
    "    plt.xscale('log')\n",
    "    plt.show()\n",
    "    \n",
    "display(plot_data(1850), plot_data(1950), plot_data(2015))\n"
   ]
  },
  {
   "cell_type": "markdown",
   "metadata": {
    "colab_type": "text",
    "id": "BB1Ki0v6hxCA"
   },
   "source": [
    "## Point out a story"
   ]
  },
  {
   "cell_type": "code",
   "execution_count": null,
   "metadata": {
    "colab": {},
    "colab_type": "code",
    "id": "eSgZhD3v7HIe"
   },
   "outputs": [],
   "source": [
    "# Haiti's outlier is an interesting story.  What caused their lifespan to fall so drastically?  \n",
    "# In 2010 they had a catastrophic earthquake, destroying infrastucture and ending many lives..."
   ]
  },
  {
   "cell_type": "markdown",
   "metadata": {},
   "source": [
    "# ASSIGNMENT\n",
    "Replicate the lesson code\n",
    "\n",
    "# STRETCH OPTIONS\n",
    "\n",
    "## 1. Animate!\n",
    "- [Making animations work in Google Colaboratory](https://medium.com/lambda-school-machine-learning/making-animations-work-in-google-colaboratory-new-home-for-ml-prototyping-c6147186ae75)\n",
    "- [How to Create Animated Graphs in Python](https://towardsdatascience.com/how-to-create-animated-graphs-in-python-bb619cc2dec1)\n",
    "- [The Ultimate Day of Chicago Bikeshare](https://chrisluedtke.github.io/divvy-data.html) (Lambda School Data Science student)\n",
    "\n",
    "## 2. Work on anything related to your portfolio site / project"
   ]
  }
 ],
 "metadata": {
  "colab": {
   "collapsed_sections": [],
   "name": "LS_DS_224_Sequence_your_narrative.ipynb",
   "provenance": [],
   "version": "0.3.2"
  },
  "kernelspec": {
   "display_name": "Python 3",
   "language": "python",
   "name": "python3"
  },
  "language_info": {
   "codemirror_mode": {
    "name": "ipython",
    "version": 3
   },
   "file_extension": ".py",
   "mimetype": "text/x-python",
   "name": "python",
   "nbconvert_exporter": "python",
   "pygments_lexer": "ipython3",
   "version": "3.7.0"
  }
 },
 "nbformat": 4,
 "nbformat_minor": 1
}
