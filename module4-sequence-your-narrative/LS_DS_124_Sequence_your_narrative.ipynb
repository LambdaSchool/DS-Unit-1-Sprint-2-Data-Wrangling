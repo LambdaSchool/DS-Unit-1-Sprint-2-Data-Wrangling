{
 "cells": [
  {
   "cell_type": "code",
   "execution_count": 135,
   "metadata": {
    "colab": {},
    "colab_type": "code",
    "id": "y-TgL_mA8OkF"
   },
   "outputs": [],
   "source": [
    "%matplotlib inline\n",
    "import matplotlib.pyplot as plt\n",
    "import numpy as np\n",
    "import pandas as pd\n",
    "import seaborn as sns\n",
    "pd.options.display.max_columns = 500"
   ]
  },
  {
   "cell_type": "markdown",
   "metadata": {
    "colab_type": "text",
    "id": "CZGG5prcTxrQ"
   },
   "source": [
    "## Load & look at data"
   ]
  },
  {
   "cell_type": "code",
   "execution_count": 136,
   "metadata": {
    "colab": {},
    "colab_type": "code",
    "id": "-uE25LHD8CW0"
   },
   "outputs": [
    {
     "data": {
      "text/plain": [
       "((46513, 3), (44370, 3), (59297, 3), (273, 33), (590, 16))"
      ]
     },
     "execution_count": 136,
     "metadata": {},
     "output_type": "execute_result"
    }
   ],
   "source": [
    "income = pd.read_csv('https://raw.githubusercontent.com/open-numbers/ddf--gapminder--systema_globalis/master/ddf--datapoints--income_per_person_gdppercapita_ppp_inflation_adjusted--by--geo--time.csv')\n",
    "\n",
    "lifespan = pd.read_csv('https://raw.githubusercontent.com/open-numbers/ddf--gapminder--systema_globalis/master/ddf--datapoints--life_expectancy_years--by--geo--time.csv')\n",
    "\n",
    "population = pd.read_csv('https://raw.githubusercontent.com/open-numbers/ddf--gapminder--systema_globalis/master/ddf--datapoints--population_total--by--geo--time.csv')\n",
    "\n",
    "entities = pd.read_csv('https://raw.githubusercontent.com/open-numbers/ddf--gapminder--systema_globalis/master/ddf--entities--geo--country.csv')\n",
    "\n",
    "concepts = pd.read_csv('https://raw.githubusercontent.com/open-numbers/ddf--gapminder--systema_globalis/master/ddf--concepts.csv')\n",
    "\n",
    "income.shape, lifespan.shape, population.shape, entities.shape, concepts.shape"
   ]
  },
  {
   "cell_type": "code",
   "execution_count": 152,
   "metadata": {
    "colab": {},
    "colab_type": "code",
    "id": "A-tnI-hK6yDG"
   },
   "outputs": [],
   "source": [
    "# merging lifespan population\n",
    "df = income.merge(lifespan).merge(population)\n",
    "\n",
    "#df = pd.merge(income,lifespan)\n",
    "#df = pd.merge(df, population)  "
   ]
  },
  {
   "cell_type": "code",
   "execution_count": 145,
   "metadata": {},
   "outputs": [
    {
     "data": {
      "text/html": [
       "<div>\n",
       "<style scoped>\n",
       "    .dataframe tbody tr th:only-of-type {\n",
       "        vertical-align: middle;\n",
       "    }\n",
       "\n",
       "    .dataframe tbody tr th {\n",
       "        vertical-align: top;\n",
       "    }\n",
       "\n",
       "    .dataframe thead th {\n",
       "        text-align: right;\n",
       "    }\n",
       "</style>\n",
       "<table border=\"1\" class=\"dataframe\">\n",
       "  <thead>\n",
       "    <tr style=\"text-align: right;\">\n",
       "      <th></th>\n",
       "      <th>geo</th>\n",
       "      <th>time</th>\n",
       "      <th>income_per_person_gdppercapita_ppp_inflation_adjusted</th>\n",
       "      <th>life_expectancy_years</th>\n",
       "      <th>population_total</th>\n",
       "    </tr>\n",
       "  </thead>\n",
       "  <tbody>\n",
       "    <tr>\n",
       "      <th>0</th>\n",
       "      <td>afg</td>\n",
       "      <td>1800</td>\n",
       "      <td>603</td>\n",
       "      <td>28.21</td>\n",
       "      <td>3280000</td>\n",
       "    </tr>\n",
       "    <tr>\n",
       "      <th>1</th>\n",
       "      <td>afg</td>\n",
       "      <td>1801</td>\n",
       "      <td>603</td>\n",
       "      <td>28.20</td>\n",
       "      <td>3280000</td>\n",
       "    </tr>\n",
       "    <tr>\n",
       "      <th>2</th>\n",
       "      <td>afg</td>\n",
       "      <td>1802</td>\n",
       "      <td>603</td>\n",
       "      <td>28.19</td>\n",
       "      <td>3280000</td>\n",
       "    </tr>\n",
       "    <tr>\n",
       "      <th>3</th>\n",
       "      <td>afg</td>\n",
       "      <td>1803</td>\n",
       "      <td>603</td>\n",
       "      <td>28.18</td>\n",
       "      <td>3280000</td>\n",
       "    </tr>\n",
       "    <tr>\n",
       "      <th>4</th>\n",
       "      <td>afg</td>\n",
       "      <td>1804</td>\n",
       "      <td>603</td>\n",
       "      <td>28.17</td>\n",
       "      <td>3280000</td>\n",
       "    </tr>\n",
       "  </tbody>\n",
       "</table>\n",
       "</div>"
      ],
      "text/plain": [
       "   geo  time  income_per_person_gdppercapita_ppp_inflation_adjusted  \\\n",
       "0  afg  1800                                                603       \n",
       "1  afg  1801                                                603       \n",
       "2  afg  1802                                                603       \n",
       "3  afg  1803                                                603       \n",
       "4  afg  1804                                                603       \n",
       "\n",
       "   life_expectancy_years  population_total  \n",
       "0                  28.21           3280000  \n",
       "1                  28.20           3280000  \n",
       "2                  28.19           3280000  \n",
       "3                  28.18           3280000  \n",
       "4                  28.17           3280000  "
      ]
     },
     "execution_count": 145,
     "metadata": {},
     "output_type": "execute_result"
    }
   ],
   "source": [
    "df.head()"
   ]
  },
  {
   "cell_type": "code",
   "execution_count": 153,
   "metadata": {},
   "outputs": [],
   "source": [
    "#countynameworld_region\n",
    "things_we_want = entities[['country','world_6region','name']] \n",
    "\n",
    "df = pd.merge(df, things_we_want, left_on='geo', right_on='country')"
   ]
  },
  {
   "cell_type": "code",
   "execution_count": 148,
   "metadata": {
    "colab": {},
    "colab_type": "code",
    "id": "4IzXea0T64x4"
   },
   "outputs": [
    {
     "data": {
      "text/html": [
       "<div>\n",
       "<style scoped>\n",
       "    .dataframe tbody tr th:only-of-type {\n",
       "        vertical-align: middle;\n",
       "    }\n",
       "\n",
       "    .dataframe tbody tr th {\n",
       "        vertical-align: top;\n",
       "    }\n",
       "\n",
       "    .dataframe thead th {\n",
       "        text-align: right;\n",
       "    }\n",
       "</style>\n",
       "<table border=\"1\" class=\"dataframe\">\n",
       "  <thead>\n",
       "    <tr style=\"text-align: right;\">\n",
       "      <th></th>\n",
       "      <th>geo</th>\n",
       "      <th>time</th>\n",
       "      <th>income_per_person_gdppercapita_ppp_inflation_adjusted</th>\n",
       "      <th>life_expectancy_years</th>\n",
       "      <th>population_total</th>\n",
       "      <th>country</th>\n",
       "      <th>world_6region</th>\n",
       "      <th>name</th>\n",
       "    </tr>\n",
       "  </thead>\n",
       "  <tbody>\n",
       "    <tr>\n",
       "      <th>0</th>\n",
       "      <td>afg</td>\n",
       "      <td>1800</td>\n",
       "      <td>603</td>\n",
       "      <td>28.21</td>\n",
       "      <td>3280000</td>\n",
       "      <td>afg</td>\n",
       "      <td>south_asia</td>\n",
       "      <td>Afghanistan</td>\n",
       "    </tr>\n",
       "    <tr>\n",
       "      <th>1</th>\n",
       "      <td>afg</td>\n",
       "      <td>1801</td>\n",
       "      <td>603</td>\n",
       "      <td>28.20</td>\n",
       "      <td>3280000</td>\n",
       "      <td>afg</td>\n",
       "      <td>south_asia</td>\n",
       "      <td>Afghanistan</td>\n",
       "    </tr>\n",
       "    <tr>\n",
       "      <th>2</th>\n",
       "      <td>afg</td>\n",
       "      <td>1802</td>\n",
       "      <td>603</td>\n",
       "      <td>28.19</td>\n",
       "      <td>3280000</td>\n",
       "      <td>afg</td>\n",
       "      <td>south_asia</td>\n",
       "      <td>Afghanistan</td>\n",
       "    </tr>\n",
       "    <tr>\n",
       "      <th>3</th>\n",
       "      <td>afg</td>\n",
       "      <td>1803</td>\n",
       "      <td>603</td>\n",
       "      <td>28.18</td>\n",
       "      <td>3280000</td>\n",
       "      <td>afg</td>\n",
       "      <td>south_asia</td>\n",
       "      <td>Afghanistan</td>\n",
       "    </tr>\n",
       "    <tr>\n",
       "      <th>4</th>\n",
       "      <td>afg</td>\n",
       "      <td>1804</td>\n",
       "      <td>603</td>\n",
       "      <td>28.17</td>\n",
       "      <td>3280000</td>\n",
       "      <td>afg</td>\n",
       "      <td>south_asia</td>\n",
       "      <td>Afghanistan</td>\n",
       "    </tr>\n",
       "  </tbody>\n",
       "</table>\n",
       "</div>"
      ],
      "text/plain": [
       "   geo  time  income_per_person_gdppercapita_ppp_inflation_adjusted  \\\n",
       "0  afg  1800                                                603       \n",
       "1  afg  1801                                                603       \n",
       "2  afg  1802                                                603       \n",
       "3  afg  1803                                                603       \n",
       "4  afg  1804                                                603       \n",
       "\n",
       "   life_expectancy_years  population_total country world_6region         name  \n",
       "0                  28.21           3280000     afg    south_asia  Afghanistan  \n",
       "1                  28.20           3280000     afg    south_asia  Afghanistan  \n",
       "2                  28.19           3280000     afg    south_asia  Afghanistan  \n",
       "3                  28.18           3280000     afg    south_asia  Afghanistan  \n",
       "4                  28.17           3280000     afg    south_asia  Afghanistan  "
      ]
     },
     "execution_count": 148,
     "metadata": {},
     "output_type": "execute_result"
    }
   ],
   "source": [
    "df.head()"
   ]
  },
  {
   "cell_type": "code",
   "execution_count": 154,
   "metadata": {},
   "outputs": [
    {
     "data": {
      "text/html": [
       "<div>\n",
       "<style scoped>\n",
       "    .dataframe tbody tr th:only-of-type {\n",
       "        vertical-align: middle;\n",
       "    }\n",
       "\n",
       "    .dataframe tbody tr th {\n",
       "        vertical-align: top;\n",
       "    }\n",
       "\n",
       "    .dataframe thead th {\n",
       "        text-align: right;\n",
       "    }\n",
       "</style>\n",
       "<table border=\"1\" class=\"dataframe\">\n",
       "  <thead>\n",
       "    <tr style=\"text-align: right;\">\n",
       "      <th></th>\n",
       "      <th>time</th>\n",
       "      <th>income_per_person_gdppercapita_ppp_inflation_adjusted</th>\n",
       "      <th>life_expectancy_years</th>\n",
       "      <th>population_total</th>\n",
       "      <th>world_6region</th>\n",
       "      <th>name</th>\n",
       "    </tr>\n",
       "  </thead>\n",
       "  <tbody>\n",
       "    <tr>\n",
       "      <th>0</th>\n",
       "      <td>1800</td>\n",
       "      <td>603</td>\n",
       "      <td>28.21</td>\n",
       "      <td>3280000</td>\n",
       "      <td>south_asia</td>\n",
       "      <td>Afghanistan</td>\n",
       "    </tr>\n",
       "    <tr>\n",
       "      <th>1</th>\n",
       "      <td>1801</td>\n",
       "      <td>603</td>\n",
       "      <td>28.20</td>\n",
       "      <td>3280000</td>\n",
       "      <td>south_asia</td>\n",
       "      <td>Afghanistan</td>\n",
       "    </tr>\n",
       "    <tr>\n",
       "      <th>2</th>\n",
       "      <td>1802</td>\n",
       "      <td>603</td>\n",
       "      <td>28.19</td>\n",
       "      <td>3280000</td>\n",
       "      <td>south_asia</td>\n",
       "      <td>Afghanistan</td>\n",
       "    </tr>\n",
       "    <tr>\n",
       "      <th>3</th>\n",
       "      <td>1803</td>\n",
       "      <td>603</td>\n",
       "      <td>28.18</td>\n",
       "      <td>3280000</td>\n",
       "      <td>south_asia</td>\n",
       "      <td>Afghanistan</td>\n",
       "    </tr>\n",
       "    <tr>\n",
       "      <th>4</th>\n",
       "      <td>1804</td>\n",
       "      <td>603</td>\n",
       "      <td>28.17</td>\n",
       "      <td>3280000</td>\n",
       "      <td>south_asia</td>\n",
       "      <td>Afghanistan</td>\n",
       "    </tr>\n",
       "  </tbody>\n",
       "</table>\n",
       "</div>"
      ],
      "text/plain": [
       "   time  income_per_person_gdppercapita_ppp_inflation_adjusted  \\\n",
       "0  1800                                                603       \n",
       "1  1801                                                603       \n",
       "2  1802                                                603       \n",
       "3  1803                                                603       \n",
       "4  1804                                                603       \n",
       "\n",
       "   life_expectancy_years  population_total world_6region         name  \n",
       "0                  28.21           3280000    south_asia  Afghanistan  \n",
       "1                  28.20           3280000    south_asia  Afghanistan  \n",
       "2                  28.19           3280000    south_asia  Afghanistan  \n",
       "3                  28.18           3280000    south_asia  Afghanistan  \n",
       "4                  28.17           3280000    south_asia  Afghanistan  "
      ]
     },
     "execution_count": 154,
     "metadata": {},
     "output_type": "execute_result"
    }
   ],
   "source": [
    "df = df.drop(columns=['geo', 'country'], axis='columns')\n",
    "\n",
    "df.head()"
   ]
  },
  {
   "cell_type": "code",
   "execution_count": 155,
   "metadata": {},
   "outputs": [
    {
     "data": {
      "text/html": [
       "<div>\n",
       "<style scoped>\n",
       "    .dataframe tbody tr th:only-of-type {\n",
       "        vertical-align: middle;\n",
       "    }\n",
       "\n",
       "    .dataframe tbody tr th {\n",
       "        vertical-align: top;\n",
       "    }\n",
       "\n",
       "    .dataframe thead th {\n",
       "        text-align: right;\n",
       "    }\n",
       "</style>\n",
       "<table border=\"1\" class=\"dataframe\">\n",
       "  <thead>\n",
       "    <tr style=\"text-align: right;\">\n",
       "      <th></th>\n",
       "      <th>year</th>\n",
       "      <th>income</th>\n",
       "      <th>lifespan</th>\n",
       "      <th>population</th>\n",
       "      <th>region</th>\n",
       "      <th>country</th>\n",
       "    </tr>\n",
       "  </thead>\n",
       "  <tbody>\n",
       "    <tr>\n",
       "      <th>0</th>\n",
       "      <td>1800</td>\n",
       "      <td>603</td>\n",
       "      <td>28.21</td>\n",
       "      <td>3280000</td>\n",
       "      <td>south_asia</td>\n",
       "      <td>Afghanistan</td>\n",
       "    </tr>\n",
       "    <tr>\n",
       "      <th>1</th>\n",
       "      <td>1801</td>\n",
       "      <td>603</td>\n",
       "      <td>28.20</td>\n",
       "      <td>3280000</td>\n",
       "      <td>south_asia</td>\n",
       "      <td>Afghanistan</td>\n",
       "    </tr>\n",
       "    <tr>\n",
       "      <th>2</th>\n",
       "      <td>1802</td>\n",
       "      <td>603</td>\n",
       "      <td>28.19</td>\n",
       "      <td>3280000</td>\n",
       "      <td>south_asia</td>\n",
       "      <td>Afghanistan</td>\n",
       "    </tr>\n",
       "    <tr>\n",
       "      <th>3</th>\n",
       "      <td>1803</td>\n",
       "      <td>603</td>\n",
       "      <td>28.18</td>\n",
       "      <td>3280000</td>\n",
       "      <td>south_asia</td>\n",
       "      <td>Afghanistan</td>\n",
       "    </tr>\n",
       "    <tr>\n",
       "      <th>4</th>\n",
       "      <td>1804</td>\n",
       "      <td>603</td>\n",
       "      <td>28.17</td>\n",
       "      <td>3280000</td>\n",
       "      <td>south_asia</td>\n",
       "      <td>Afghanistan</td>\n",
       "    </tr>\n",
       "  </tbody>\n",
       "</table>\n",
       "</div>"
      ],
      "text/plain": [
       "   year  income  lifespan  population      region      country\n",
       "0  1800     603     28.21     3280000  south_asia  Afghanistan\n",
       "1  1801     603     28.20     3280000  south_asia  Afghanistan\n",
       "2  1802     603     28.19     3280000  south_asia  Afghanistan\n",
       "3  1803     603     28.18     3280000  south_asia  Afghanistan\n",
       "4  1804     603     28.17     3280000  south_asia  Afghanistan"
      ]
     },
     "execution_count": 155,
     "metadata": {},
     "output_type": "execute_result"
    }
   ],
   "source": [
    "\n",
    "df = df.rename(columns={\n",
    "    'time': 'year'\n",
    "    , 'income_per_person_gdppercapita_ppp_inflation_adjusted': 'income'\n",
    "    , 'life_expectancy_years': 'lifespan'\n",
    "    , 'population_total': 'population'\n",
    "    , 'world_6region': 'region'\n",
    "    , 'name' : 'country'\n",
    "})\n",
    "\n",
    "df.head()"
   ]
  },
  {
   "cell_type": "code",
   "execution_count": 157,
   "metadata": {},
   "outputs": [
    {
     "data": {
      "text/html": [
       "<div>\n",
       "<style scoped>\n",
       "    .dataframe tbody tr th:only-of-type {\n",
       "        vertical-align: middle;\n",
       "    }\n",
       "\n",
       "    .dataframe tbody tr th {\n",
       "        vertical-align: top;\n",
       "    }\n",
       "\n",
       "    .dataframe thead th {\n",
       "        text-align: right;\n",
       "    }\n",
       "</style>\n",
       "<table border=\"1\" class=\"dataframe\">\n",
       "  <thead>\n",
       "    <tr style=\"text-align: right;\">\n",
       "      <th></th>\n",
       "      <th>year</th>\n",
       "      <th>income</th>\n",
       "      <th>lifespan</th>\n",
       "      <th>population</th>\n",
       "      <th>region</th>\n",
       "      <th>country</th>\n",
       "    </tr>\n",
       "  </thead>\n",
       "  <tbody>\n",
       "    <tr>\n",
       "      <th>0</th>\n",
       "      <td>1800</td>\n",
       "      <td>603</td>\n",
       "      <td>28.21</td>\n",
       "      <td>3280000</td>\n",
       "      <td>South Asia</td>\n",
       "      <td>Afghanistan</td>\n",
       "    </tr>\n",
       "    <tr>\n",
       "      <th>1</th>\n",
       "      <td>1801</td>\n",
       "      <td>603</td>\n",
       "      <td>28.20</td>\n",
       "      <td>3280000</td>\n",
       "      <td>South Asia</td>\n",
       "      <td>Afghanistan</td>\n",
       "    </tr>\n",
       "    <tr>\n",
       "      <th>2</th>\n",
       "      <td>1802</td>\n",
       "      <td>603</td>\n",
       "      <td>28.19</td>\n",
       "      <td>3280000</td>\n",
       "      <td>South Asia</td>\n",
       "      <td>Afghanistan</td>\n",
       "    </tr>\n",
       "    <tr>\n",
       "      <th>3</th>\n",
       "      <td>1803</td>\n",
       "      <td>603</td>\n",
       "      <td>28.18</td>\n",
       "      <td>3280000</td>\n",
       "      <td>South Asia</td>\n",
       "      <td>Afghanistan</td>\n",
       "    </tr>\n",
       "    <tr>\n",
       "      <th>4</th>\n",
       "      <td>1804</td>\n",
       "      <td>603</td>\n",
       "      <td>28.17</td>\n",
       "      <td>3280000</td>\n",
       "      <td>South Asia</td>\n",
       "      <td>Afghanistan</td>\n",
       "    </tr>\n",
       "  </tbody>\n",
       "</table>\n",
       "</div>"
      ],
      "text/plain": [
       "   year  income  lifespan  population      region      country\n",
       "0  1800     603     28.21     3280000  South Asia  Afghanistan\n",
       "1  1801     603     28.20     3280000  South Asia  Afghanistan\n",
       "2  1802     603     28.19     3280000  South Asia  Afghanistan\n",
       "3  1803     603     28.18     3280000  South Asia  Afghanistan\n",
       "4  1804     603     28.17     3280000  South Asia  Afghanistan"
      ]
     },
     "execution_count": 157,
     "metadata": {},
     "output_type": "execute_result"
    }
   ],
   "source": [
    "df['region'] = df['region'].replace('_', ' ', regex=True).str.title()\n",
    "df.head()"
   ]
  },
  {
   "cell_type": "markdown",
   "metadata": {
    "colab_type": "text",
    "id": "4OdEr5IFVdF5"
   },
   "source": [
    "## Explore data"
   ]
  },
  {
   "cell_type": "code",
   "execution_count": 158,
   "metadata": {},
   "outputs": [
    {
     "data": {
      "text/plain": [
       "year          -0.005098\n",
       "income         6.300582\n",
       "lifespan       0.825236\n",
       "population    13.031487\n",
       "dtype: float64"
      ]
     },
     "execution_count": 158,
     "metadata": {},
     "output_type": "execute_result"
    }
   ],
   "source": [
    "df.skew()"
   ]
  },
  {
   "cell_type": "code",
   "execution_count": 159,
   "metadata": {},
   "outputs": [
    {
     "data": {
      "text/html": [
       "<div>\n",
       "<style scoped>\n",
       "    .dataframe tbody tr th:only-of-type {\n",
       "        vertical-align: middle;\n",
       "    }\n",
       "\n",
       "    .dataframe tbody tr th {\n",
       "        vertical-align: top;\n",
       "    }\n",
       "\n",
       "    .dataframe thead th {\n",
       "        text-align: right;\n",
       "    }\n",
       "</style>\n",
       "<table border=\"1\" class=\"dataframe\">\n",
       "  <thead>\n",
       "    <tr style=\"text-align: right;\">\n",
       "      <th></th>\n",
       "      <th>region</th>\n",
       "      <th>country</th>\n",
       "    </tr>\n",
       "  </thead>\n",
       "  <tbody>\n",
       "    <tr>\n",
       "      <th>count</th>\n",
       "      <td>40437</td>\n",
       "      <td>40437</td>\n",
       "    </tr>\n",
       "    <tr>\n",
       "      <th>unique</th>\n",
       "      <td>6</td>\n",
       "      <td>187</td>\n",
       "    </tr>\n",
       "    <tr>\n",
       "      <th>top</th>\n",
       "      <td>Europe Central Asia</td>\n",
       "      <td>Canada</td>\n",
       "    </tr>\n",
       "    <tr>\n",
       "      <th>freq</th>\n",
       "      <td>10778</td>\n",
       "      <td>219</td>\n",
       "    </tr>\n",
       "  </tbody>\n",
       "</table>\n",
       "</div>"
      ],
      "text/plain": [
       "                     region country\n",
       "count                 40437   40437\n",
       "unique                    6     187\n",
       "top     Europe Central Asia  Canada\n",
       "freq                  10778     219"
      ]
     },
     "execution_count": 159,
     "metadata": {},
     "output_type": "execute_result"
    }
   ],
   "source": [
    "df.describe(exclude='number')"
   ]
  },
  {
   "cell_type": "code",
   "execution_count": 167,
   "metadata": {},
   "outputs": [
    {
     "data": {
      "text/html": [
       "<div>\n",
       "<style scoped>\n",
       "    .dataframe tbody tr th:only-of-type {\n",
       "        vertical-align: middle;\n",
       "    }\n",
       "\n",
       "    .dataframe tbody tr th {\n",
       "        vertical-align: top;\n",
       "    }\n",
       "\n",
       "    .dataframe thead th {\n",
       "        text-align: right;\n",
       "    }\n",
       "</style>\n",
       "<table border=\"1\" class=\"dataframe\">\n",
       "  <thead>\n",
       "    <tr style=\"text-align: right;\">\n",
       "      <th></th>\n",
       "      <th>year</th>\n",
       "      <th>income</th>\n",
       "      <th>lifespan</th>\n",
       "      <th>population</th>\n",
       "      <th>region</th>\n",
       "      <th>country</th>\n",
       "    </tr>\n",
       "  </thead>\n",
       "  <tbody>\n",
       "    <tr>\n",
       "      <th>38028</th>\n",
       "      <td>1800</td>\n",
       "      <td>2127</td>\n",
       "      <td>39.41</td>\n",
       "      <td>6801854</td>\n",
       "      <td>America</td>\n",
       "      <td>United States</td>\n",
       "    </tr>\n",
       "    <tr>\n",
       "      <th>38029</th>\n",
       "      <td>1801</td>\n",
       "      <td>2167</td>\n",
       "      <td>39.41</td>\n",
       "      <td>6933517</td>\n",
       "      <td>America</td>\n",
       "      <td>United States</td>\n",
       "    </tr>\n",
       "    <tr>\n",
       "      <th>38030</th>\n",
       "      <td>1802</td>\n",
       "      <td>2202</td>\n",
       "      <td>39.41</td>\n",
       "      <td>7067728</td>\n",
       "      <td>America</td>\n",
       "      <td>United States</td>\n",
       "    </tr>\n",
       "    <tr>\n",
       "      <th>38031</th>\n",
       "      <td>1803</td>\n",
       "      <td>2166</td>\n",
       "      <td>39.41</td>\n",
       "      <td>7204538</td>\n",
       "      <td>America</td>\n",
       "      <td>United States</td>\n",
       "    </tr>\n",
       "    <tr>\n",
       "      <th>38032</th>\n",
       "      <td>1804</td>\n",
       "      <td>2165</td>\n",
       "      <td>39.41</td>\n",
       "      <td>7343995</td>\n",
       "      <td>America</td>\n",
       "      <td>United States</td>\n",
       "    </tr>\n",
       "  </tbody>\n",
       "</table>\n",
       "</div>"
      ],
      "text/plain": [
       "       year  income  lifespan  population   region        country\n",
       "38028  1800    2127     39.41     6801854  America  United States\n",
       "38029  1801    2167     39.41     6933517  America  United States\n",
       "38030  1802    2202     39.41     7067728  America  United States\n",
       "38031  1803    2166     39.41     7204538  America  United States\n",
       "38032  1804    2165     39.41     7343995  America  United States"
      ]
     },
     "execution_count": 167,
     "metadata": {},
     "output_type": "execute_result"
    }
   ],
   "source": [
    "usa = df[df['country'] == 'United States']\n",
    "usa.head()"
   ]
  },
  {
   "cell_type": "code",
   "execution_count": 168,
   "metadata": {},
   "outputs": [
    {
     "data": {
      "text/html": [
       "<div>\n",
       "<style scoped>\n",
       "    .dataframe tbody tr th:only-of-type {\n",
       "        vertical-align: middle;\n",
       "    }\n",
       "\n",
       "    .dataframe tbody tr th {\n",
       "        vertical-align: top;\n",
       "    }\n",
       "\n",
       "    .dataframe thead th {\n",
       "        text-align: right;\n",
       "    }\n",
       "</style>\n",
       "<table border=\"1\" class=\"dataframe\">\n",
       "  <thead>\n",
       "    <tr style=\"text-align: right;\">\n",
       "      <th></th>\n",
       "      <th>year</th>\n",
       "      <th>income</th>\n",
       "      <th>lifespan</th>\n",
       "      <th>population</th>\n",
       "      <th>region</th>\n",
       "      <th>country</th>\n",
       "    </tr>\n",
       "  </thead>\n",
       "  <tbody>\n",
       "    <tr>\n",
       "      <th>38046</th>\n",
       "      <td>1818</td>\n",
       "      <td>2258</td>\n",
       "      <td>39.41</td>\n",
       "      <td>9879049</td>\n",
       "      <td>America</td>\n",
       "      <td>United States</td>\n",
       "    </tr>\n",
       "    <tr>\n",
       "      <th>38146</th>\n",
       "      <td>1918</td>\n",
       "      <td>9371</td>\n",
       "      <td>47.18</td>\n",
       "      <td>106721812</td>\n",
       "      <td>America</td>\n",
       "      <td>United States</td>\n",
       "    </tr>\n",
       "    <tr>\n",
       "      <th>38246</th>\n",
       "      <td>2018</td>\n",
       "      <td>54898</td>\n",
       "      <td>79.14</td>\n",
       "      <td>326766748</td>\n",
       "      <td>America</td>\n",
       "      <td>United States</td>\n",
       "    </tr>\n",
       "  </tbody>\n",
       "</table>\n",
       "</div>"
      ],
      "text/plain": [
       "       year  income  lifespan  population   region        country\n",
       "38046  1818    2258     39.41     9879049  America  United States\n",
       "38146  1918    9371     47.18   106721812  America  United States\n",
       "38246  2018   54898     79.14   326766748  America  United States"
      ]
     },
     "execution_count": 168,
     "metadata": {},
     "output_type": "execute_result"
    }
   ],
   "source": [
    "usa[usa['year'].isin([1818, 1918, 2018])]"
   ]
  },
  {
   "cell_type": "code",
   "execution_count": 170,
   "metadata": {},
   "outputs": [
    {
     "data": {
      "text/html": [
       "<div>\n",
       "<style scoped>\n",
       "    .dataframe tbody tr th:only-of-type {\n",
       "        vertical-align: middle;\n",
       "    }\n",
       "\n",
       "    .dataframe tbody tr th {\n",
       "        vertical-align: top;\n",
       "    }\n",
       "\n",
       "    .dataframe thead th {\n",
       "        text-align: right;\n",
       "    }\n",
       "</style>\n",
       "<table border=\"1\" class=\"dataframe\">\n",
       "  <thead>\n",
       "    <tr style=\"text-align: right;\">\n",
       "      <th></th>\n",
       "      <th>year</th>\n",
       "      <th>income</th>\n",
       "      <th>lifespan</th>\n",
       "      <th>population</th>\n",
       "      <th>region</th>\n",
       "      <th>country</th>\n",
       "    </tr>\n",
       "  </thead>\n",
       "  <tbody>\n",
       "    <tr>\n",
       "      <th>6854</th>\n",
       "      <td>1818</td>\n",
       "      <td>985</td>\n",
       "      <td>32.00</td>\n",
       "      <td>374161494</td>\n",
       "      <td>East Asia Pacific</td>\n",
       "      <td>China</td>\n",
       "    </tr>\n",
       "    <tr>\n",
       "      <th>6954</th>\n",
       "      <td>1918</td>\n",
       "      <td>989</td>\n",
       "      <td>22.13</td>\n",
       "      <td>462444535</td>\n",
       "      <td>East Asia Pacific</td>\n",
       "      <td>China</td>\n",
       "    </tr>\n",
       "    <tr>\n",
       "      <th>7054</th>\n",
       "      <td>2018</td>\n",
       "      <td>16018</td>\n",
       "      <td>76.92</td>\n",
       "      <td>1415045928</td>\n",
       "      <td>East Asia Pacific</td>\n",
       "      <td>China</td>\n",
       "    </tr>\n",
       "  </tbody>\n",
       "</table>\n",
       "</div>"
      ],
      "text/plain": [
       "      year  income  lifespan  population             region country\n",
       "6854  1818     985     32.00   374161494  East Asia Pacific   China\n",
       "6954  1918     989     22.13   462444535  East Asia Pacific   China\n",
       "7054  2018   16018     76.92  1415045928  East Asia Pacific   China"
      ]
     },
     "execution_count": 170,
     "metadata": {},
     "output_type": "execute_result"
    }
   ],
   "source": [
    "china = df[df['country'] == 'China']\n",
    "china[china['year'].isin([1818, 1918, 2018])]"
   ]
  },
  {
   "cell_type": "markdown",
   "metadata": {
    "colab_type": "text",
    "id": "hecscpimY6Oz"
   },
   "source": [
    "## Plot visualization"
   ]
  },
  {
   "cell_type": "code",
   "execution_count": 171,
   "metadata": {
    "colab": {},
    "colab_type": "code",
    "id": "_o8RmX2M67ai"
   },
   "outputs": [
    {
     "data": {
      "text/html": [
       "<div>\n",
       "<style scoped>\n",
       "    .dataframe tbody tr th:only-of-type {\n",
       "        vertical-align: middle;\n",
       "    }\n",
       "\n",
       "    .dataframe tbody tr th {\n",
       "        vertical-align: top;\n",
       "    }\n",
       "\n",
       "    .dataframe thead th {\n",
       "        text-align: right;\n",
       "    }\n",
       "</style>\n",
       "<table border=\"1\" class=\"dataframe\">\n",
       "  <thead>\n",
       "    <tr style=\"text-align: right;\">\n",
       "      <th></th>\n",
       "      <th>year</th>\n",
       "      <th>income</th>\n",
       "      <th>lifespan</th>\n",
       "      <th>population</th>\n",
       "      <th>region</th>\n",
       "      <th>country</th>\n",
       "    </tr>\n",
       "  </thead>\n",
       "  <tbody>\n",
       "    <tr>\n",
       "      <th>218</th>\n",
       "      <td>2018</td>\n",
       "      <td>1867</td>\n",
       "      <td>58.69</td>\n",
       "      <td>36373176</td>\n",
       "      <td>South Asia</td>\n",
       "      <td>Afghanistan</td>\n",
       "    </tr>\n",
       "    <tr>\n",
       "      <th>437</th>\n",
       "      <td>2018</td>\n",
       "      <td>5846</td>\n",
       "      <td>65.19</td>\n",
       "      <td>30774205</td>\n",
       "      <td>Sub Saharan Africa</td>\n",
       "      <td>Angola</td>\n",
       "    </tr>\n",
       "    <tr>\n",
       "      <th>656</th>\n",
       "      <td>2018</td>\n",
       "      <td>12424</td>\n",
       "      <td>78.01</td>\n",
       "      <td>2934363</td>\n",
       "      <td>Europe Central Asia</td>\n",
       "      <td>Albania</td>\n",
       "    </tr>\n",
       "    <tr>\n",
       "      <th>922</th>\n",
       "      <td>2018</td>\n",
       "      <td>68231</td>\n",
       "      <td>76.89</td>\n",
       "      <td>9541615</td>\n",
       "      <td>Middle East North Africa</td>\n",
       "      <td>United Arab Emirates</td>\n",
       "    </tr>\n",
       "    <tr>\n",
       "      <th>1141</th>\n",
       "      <td>2018</td>\n",
       "      <td>18942</td>\n",
       "      <td>76.97</td>\n",
       "      <td>44688864</td>\n",
       "      <td>America</td>\n",
       "      <td>Argentina</td>\n",
       "    </tr>\n",
       "  </tbody>\n",
       "</table>\n",
       "</div>"
      ],
      "text/plain": [
       "      year  income  lifespan  population                    region  \\\n",
       "218   2018    1867     58.69    36373176                South Asia   \n",
       "437   2018    5846     65.19    30774205        Sub Saharan Africa   \n",
       "656   2018   12424     78.01     2934363       Europe Central Asia   \n",
       "922   2018   68231     76.89     9541615  Middle East North Africa   \n",
       "1141  2018   18942     76.97    44688864                   America   \n",
       "\n",
       "                   country  \n",
       "218            Afghanistan  \n",
       "437                 Angola  \n",
       "656                Albania  \n",
       "922   United Arab Emirates  \n",
       "1141             Argentina  "
      ]
     },
     "execution_count": 171,
     "metadata": {},
     "output_type": "execute_result"
    }
   ],
   "source": [
    "present = df[df['year']==2018]\n",
    "present.head()"
   ]
  },
  {
   "cell_type": "markdown",
   "metadata": {
    "colab_type": "text",
    "id": "8OFxenCdhocj"
   },
   "source": [
    "## Analyze outliers"
   ]
  },
  {
   "cell_type": "code",
   "execution_count": 172,
   "metadata": {
    "colab": {},
    "colab_type": "code",
    "id": "D59bn-7k6-Io"
   },
   "outputs": [
    {
     "data": {
      "image/png": "[encoded data removed]",
      "text/plain": [
       "<Figure size 432x288 with 4 Axes>"
      ]
     },
     "metadata": {
      "needs_background": "light"
     },
     "output_type": "display_data"
    }
   ],
   "source": [
    "#pd.plotting.scatter_matrix(present);\n",
    "#crap plot\n",
    "present.hist();"
   ]
  },
  {
   "cell_type": "markdown",
   "metadata": {
    "colab_type": "text",
    "id": "DNTMMBkVhrGk"
   },
   "source": [
    "## Plot multiple years"
   ]
  },
  {
   "cell_type": "code",
   "execution_count": 180,
   "metadata": {
    "colab": {},
    "colab_type": "code",
    "id": "JkTUmYGF7BQt"
   },
   "outputs": [
    {
     "data": {
      "text/plain": [
       "<seaborn.axisgrid.FacetGrid at 0x7fca0f717a58>"
      ]
     },
     "execution_count": 180,
     "metadata": {},
     "output_type": "execute_result"
    },
    {
     "data": {
      "image/png": "[encoded data removed]",
      "text/plain": [
       "<Figure size 517.125x360 with 1 Axes>"
      ]
     },
     "metadata": {
      "needs_background": "light"
     },
     "output_type": "display_data"
    }
   ],
   "source": [
    "sns.relplot(x='income', y='lifespan', hue='region', size='population', data=present,sizes=(25, 2500))"
   ]
  },
  {
   "cell_type": "code",
   "execution_count": 174,
   "metadata": {
    "colab": {},
    "colab_type": "code",
    "id": "eSgZhD3v7HIe"
   },
   "outputs": [
    {
     "name": "stderr",
     "output_type": "stream",
     "text": [
      "/home/gunther/anaconda3/lib/python3.7/site-packages/ipykernel_launcher.py:1: SettingWithCopyWarning: \n",
      "A value is trying to be set on a copy of a slice from a DataFrame.\n",
      "Try using .loc[row_indexer,col_indexer] = value instead\n",
      "\n",
      "See the caveats in the documentation: http://pandas.pydata.org/pandas-docs/stable/indexing.html#indexing-view-versus-copy\n",
      "  \"\"\"Entry point for launching an IPython kernel.\n"
     ]
    }
   ],
   "source": [
    "present['log_income'] = np.log(present['income'])"
   ]
  },
  {
   "cell_type": "code",
   "execution_count": 65,
   "metadata": {},
   "outputs": [
    {
     "data": {
      "text/plain": [
       "<matplotlib.axes._subplots.AxesSubplot at 0x7fca0deb9400>"
      ]
     },
     "execution_count": 65,
     "metadata": {},
     "output_type": "execute_result"
    },
    {
     "data": {
      "image/png": "[encoded data removed]",
      "text/plain": [
       "<Figure size 432x288 with 1 Axes>"
      ]
     },
     "metadata": {
      "needs_background": "light"
     },
     "output_type": "display_data"
    }
   ],
   "source": [
    "present.income.hist()"
   ]
  },
  {
   "cell_type": "code",
   "execution_count": 66,
   "metadata": {},
   "outputs": [
    {
     "data": {
      "text/plain": [
       "<matplotlib.axes._subplots.AxesSubplot at 0x7fca0fb72588>"
      ]
     },
     "execution_count": 66,
     "metadata": {},
     "output_type": "execute_result"
    },
    {
     "data": {
      "image/png": "[encoded data removed]",
      "text/plain": [
       "<Figure size 432x288 with 1 Axes>"
      ]
     },
     "metadata": {
      "needs_background": "light"
     },
     "output_type": "display_data"
    }
   ],
   "source": [
    "present.log_income.hist()"
   ]
  },
  {
   "cell_type": "code",
   "execution_count": 67,
   "metadata": {},
   "outputs": [
    {
     "data": {
      "text/plain": [
       "<seaborn.axisgrid.FacetGrid at 0x7fca0f83d400>"
      ]
     },
     "execution_count": 67,
     "metadata": {},
     "output_type": "execute_result"
    },
    {
     "data": {
      "image/png": "[encoded data removed]",
      "text/plain": [
       "<Figure size 517.125x360 with 1 Axes>"
      ]
     },
     "metadata": {
      "needs_background": "light"
     },
     "output_type": "display_data"
    }
   ],
   "source": [
    "sns.relplot(x='log_income', y='lifespan', hue='region', size='population', data=present)"
   ]
  },
  {
   "cell_type": "code",
   "execution_count": 68,
   "metadata": {},
   "outputs": [
    {
     "data": {
      "text/html": [
       "<div>\n",
       "<style scoped>\n",
       "    .dataframe tbody tr th:only-of-type {\n",
       "        vertical-align: middle;\n",
       "    }\n",
       "\n",
       "    .dataframe tbody tr th {\n",
       "        vertical-align: top;\n",
       "    }\n",
       "\n",
       "    .dataframe thead th {\n",
       "        text-align: right;\n",
       "    }\n",
       "</style>\n",
       "<table border=\"1\" class=\"dataframe\">\n",
       "  <thead>\n",
       "    <tr style=\"text-align: right;\">\n",
       "      <th></th>\n",
       "      <th>year</th>\n",
       "      <th>income</th>\n",
       "      <th>lifespan</th>\n",
       "      <th>population</th>\n",
       "      <th>region</th>\n",
       "      <th>name</th>\n",
       "      <th>log_income</th>\n",
       "    </tr>\n",
       "  </thead>\n",
       "  <tbody>\n",
       "    <tr>\n",
       "      <th>27296</th>\n",
       "      <td>2018</td>\n",
       "      <td>64846</td>\n",
       "      <td>82.39</td>\n",
       "      <td>5353363</td>\n",
       "      <td>Europe Central Asia</td>\n",
       "      <td>Norway</td>\n",
       "      <td>11.079771</td>\n",
       "    </tr>\n",
       "    <tr>\n",
       "      <th>16956</th>\n",
       "      <td>2018</td>\n",
       "      <td>65622</td>\n",
       "      <td>81.49</td>\n",
       "      <td>4803748</td>\n",
       "      <td>Europe Central Asia</td>\n",
       "      <td>Ireland</td>\n",
       "      <td>11.091666</td>\n",
       "    </tr>\n",
       "    <tr>\n",
       "      <th>922</th>\n",
       "      <td>2018</td>\n",
       "      <td>68231</td>\n",
       "      <td>76.89</td>\n",
       "      <td>9541615</td>\n",
       "      <td>Middle East North Africa</td>\n",
       "      <td>United Arab Emirates</td>\n",
       "      <td>11.130654</td>\n",
       "    </tr>\n",
       "    <tr>\n",
       "      <th>20241</th>\n",
       "      <td>2018</td>\n",
       "      <td>68359</td>\n",
       "      <td>79.96</td>\n",
       "      <td>4197128</td>\n",
       "      <td>Middle East North Africa</td>\n",
       "      <td>Kuwait</td>\n",
       "      <td>11.132529</td>\n",
       "    </tr>\n",
       "    <tr>\n",
       "      <th>5521</th>\n",
       "      <td>2018</td>\n",
       "      <td>76943</td>\n",
       "      <td>77.36</td>\n",
       "      <td>434076</td>\n",
       "      <td>East Asia Pacific</td>\n",
       "      <td>Brunei</td>\n",
       "      <td>11.250820</td>\n",
       "    </tr>\n",
       "    <tr>\n",
       "      <th>31895</th>\n",
       "      <td>2018</td>\n",
       "      <td>83888</td>\n",
       "      <td>84.03</td>\n",
       "      <td>5791901</td>\n",
       "      <td>East Asia Pacific</td>\n",
       "      <td>Singapore</td>\n",
       "      <td>11.337238</td>\n",
       "    </tr>\n",
       "    <tr>\n",
       "      <th>22212</th>\n",
       "      <td>2018</td>\n",
       "      <td>99034</td>\n",
       "      <td>82.39</td>\n",
       "      <td>590321</td>\n",
       "      <td>Europe Central Asia</td>\n",
       "      <td>Luxembourg</td>\n",
       "      <td>11.503219</td>\n",
       "    </tr>\n",
       "    <tr>\n",
       "      <th>30362</th>\n",
       "      <td>2018</td>\n",
       "      <td>121033</td>\n",
       "      <td>80.71</td>\n",
       "      <td>2694849</td>\n",
       "      <td>Middle East North Africa</td>\n",
       "      <td>Qatar</td>\n",
       "      <td>11.703819</td>\n",
       "    </tr>\n",
       "  </tbody>\n",
       "</table>\n",
       "</div>"
      ],
      "text/plain": [
       "       year  income  lifespan  population                    region  \\\n",
       "27296  2018   64846     82.39     5353363       Europe Central Asia   \n",
       "16956  2018   65622     81.49     4803748       Europe Central Asia   \n",
       "922    2018   68231     76.89     9541615  Middle East North Africa   \n",
       "20241  2018   68359     79.96     4197128  Middle East North Africa   \n",
       "5521   2018   76943     77.36      434076         East Asia Pacific   \n",
       "31895  2018   83888     84.03     5791901         East Asia Pacific   \n",
       "22212  2018   99034     82.39      590321       Europe Central Asia   \n",
       "30362  2018  121033     80.71     2694849  Middle East North Africa   \n",
       "\n",
       "                       name  log_income  \n",
       "27296                Norway   11.079771  \n",
       "16956               Ireland   11.091666  \n",
       "922    United Arab Emirates   11.130654  \n",
       "20241                Kuwait   11.132529  \n",
       "5521                 Brunei   11.250820  \n",
       "31895             Singapore   11.337238  \n",
       "22212            Luxembourg   11.503219  \n",
       "30362                 Qatar   11.703819  "
      ]
     },
     "execution_count": 68,
     "metadata": {},
     "output_type": "execute_result"
    }
   ],
   "source": [
    "present[present['log_income'] >= 11].sort_values(by='log_income')"
   ]
  },
  {
   "cell_type": "code",
   "execution_count": 72,
   "metadata": {},
   "outputs": [
    {
     "name": "stdout",
     "output_type": "stream",
     "text": [
      "11.703818514668283\n"
     ]
    }
   ],
   "source": [
    "qatar = present[present['name'] == 'Qatar']\n",
    "qatar_income = qatar['log_income'].values[0]\n",
    "#qatar_income = qatar['log_income'].iloc[0]\n",
    "qatar_lifespan =qatar['lifespan'].values[0]\n",
    "print(qatar_income)\n",
    "\n"
   ]
  },
  {
   "cell_type": "code",
   "execution_count": 75,
   "metadata": {},
   "outputs": [
    {
     "data": {
      "text/plain": [
       "Text(0.5, 1.0, 'Qatar is all good')"
      ]
     },
     "execution_count": 75,
     "metadata": {},
     "output_type": "execute_result"
    },
    {
     "data": {
      "image/png": "[encoded data removed]",
      "text/plain": [
       "<Figure size 517.125x360 with 1 Axes>"
      ]
     },
     "metadata": {
      "needs_background": "light"
     },
     "output_type": "display_data"
    }
   ],
   "source": [
    "sns.relplot(x='log_income', y='lifespan', hue='region', size='population', data=present)\n",
    "\n",
    "plt.text(x=qatar_income+.1,y=qatar_lifespan-.5,s='Qatar')\n",
    "plt.title(\"Qatar is all good\")"
   ]
  },
  {
   "cell_type": "markdown",
   "metadata": {
    "colab_type": "text",
    "id": "BB1Ki0v6hxCA"
   },
   "source": [
    "## Point out a story"
   ]
  },
  {
   "cell_type": "markdown",
   "metadata": {},
   "source": [
    "# ASSIGNMENT\n",
    "Replicate the lesson code\n",
    "\n",
    "# STRETCH OPTIONS\n",
    "\n",
    "## 1. Animate!\n",
    "- [Making animations work in Google Colaboratory](https://medium.com/lambda-school-machine-learning/making-animations-work-in-google-colaboratory-new-home-for-ml-prototyping-c6147186ae75)\n",
    "- [How to Create Animated Graphs in Python](https://towardsdatascience.com/how-to-create-animated-graphs-in-python-bb619cc2dec1)\n",
    "- [The Ultimate Day of Chicago Bikeshare](https://chrisluedtke.github.io/divvy-data.html) (Lambda School Data Science student)\n",
    "\n",
    "## 2. Work on anything related to your portfolio site / project"
   ]
  }
 ],
 "metadata": {
  "colab": {
   "collapsed_sections": [],
   "name": "LS_DS_224_Sequence_your_narrative.ipynb",
   "provenance": [],
   "version": "0.3.2"
  },
  "kernelspec": {
   "display_name": "Python 3",
   "language": "python",
   "name": "python3"
  },
  "language_info": {
   "codemirror_mode": {
    "name": "ipython",
    "version": 3
   },
   "file_extension": ".py",
   "mimetype": "text/x-python",
   "name": "python",
   "nbconvert_exporter": "python",
   "pygments_lexer": "ipython3",
   "version": "3.7.3"
  }
 },
 "nbformat": 4,
 "nbformat_minor": 1
}
