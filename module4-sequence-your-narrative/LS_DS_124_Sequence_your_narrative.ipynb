{
  "nbformat": 4,
  "nbformat_minor": 0,
  "metadata": {
    "colab": {
      "name": "LS_DS_224_Sequence_your_narrative.ipynb",
      "version": "0.3.2",
      "provenance": [],
      "collapsed_sections": [],
      "include_colab_link": true
    },
    "language_info": {
      "codemirror_mode": {
        "name": "ipython",
        "version": 3
      },
      "file_extension": ".py",
      "mimetype": "text/x-python",
      "name": "python",
      "nbconvert_exporter": "python",
      "pygments_lexer": "ipython3",
      "version": "3.7.1"
    },
    "kernelspec": {
      "display_name": "Python 3",
      "language": "python",
      "name": "python3"
    }
  },
  "cells": [
    {
      "cell_type": "markdown",
      "metadata": {
        "id": "view-in-github",
        "colab_type": "text"
      },
      "source": [
        "<a href=\"https://colab.research.google.com/github/nchibana/DS-Unit-1-Sprint-2-Data-Wrangling-and-Storytelling/blob/master/module4-sequence-your-narrative/LS_DS_124_Sequence_your_narrative.ipynb\" target=\"_parent\"><img src=\"https://colab.research.google.com/assets/colab-badge.svg\" alt=\"Open In Colab\"/></a>"
      ]
    },
    {
      "cell_type": "markdown",
      "metadata": {
        "colab_type": "text",
        "id": "JbDHnhet8CWy"
      },
      "source": [
        "_Lambda School Data Science_\n",
        "\n",
        "# Sequence your narrative\n",
        "\n",
        "Today we will create a sequence of visualizations inspired by [Hans Rosling's 200 Countries, 200 Years, 4 Minutes](https://www.youtube.com/watch?v=jbkSRLYSojo).\n",
        "\n",
        "Using this [data from Gapminder](https://github.com/open-numbers/ddf--gapminder--systema_globalis/):\n",
        "- [Income Per Person (GDP Per Capital, Inflation Adjusted) by Geo & Time](https://raw.githubusercontent.com/open-numbers/ddf--gapminder--systema_globalis/master/ddf--datapoints--income_per_person_gdppercapita_ppp_inflation_adjusted--by--geo--time.csv)\n",
        "- [Life Expectancy (in Years) by Geo & Time](https://raw.githubusercontent.com/open-numbers/ddf--gapminder--systema_globalis/master/ddf--datapoints--life_expectancy_years--by--geo--time.csv)\n",
        "- [Population Totals, by Geo & Time](https://raw.githubusercontent.com/open-numbers/ddf--gapminder--systema_globalis/master/ddf--datapoints--population_total--by--geo--time.csv)\n",
        "- [Entities](https://raw.githubusercontent.com/open-numbers/ddf--gapminder--systema_globalis/master/ddf--entities--geo--country.csv)\n",
        "- [Concepts](https://raw.githubusercontent.com/open-numbers/ddf--gapminder--systema_globalis/master/ddf--concepts.csv)"
      ]
    },
    {
      "cell_type": "markdown",
      "metadata": {
        "colab_type": "text",
        "id": "zyPYtsY6HtIK"
      },
      "source": [
        "Objectives\n",
        "- sequence multiple visualizations\n",
        "- combine qualitative anecdotes with quantitative aggregates\n",
        "\n",
        "Links\n",
        "- [Hans Rosling’s TED talks](https://www.ted.com/speakers/hans_rosling)\n",
        "- [Spiralling global temperatures from 1850-2016](https://twitter.com/ed_hawkins/status/729753441459945474)\n",
        "- \"[The Pudding](https://pudding.cool/) explains ideas debated in culture with visual essays.\"\n",
        "- [A Data Point Walks Into a Bar](https://lisacharlotterost.github.io/2016/12/27/datapoint-in-bar/): a thoughtful blog post about emotion and empathy in data storytelling"
      ]
    },
    {
      "cell_type": "markdown",
      "metadata": {
        "colab_type": "text",
        "id": "SxTJBgRAW3jD"
      },
      "source": [
        "## Make a plan\n",
        "\n",
        "#### How to present the data?\n",
        "\n",
        "Variables --> Visual Encodings\n",
        "- Income --> x\n",
        "- Lifespan --> y\n",
        "- Region --> color\n",
        "- Population --> size\n",
        "- Year --> animation frame (alternative: small multiple)\n",
        "- Country --> annotation\n",
        "\n",
        "Qualitative --> Verbal\n",
        "- Editorial / contextual explanation --> audio narration (alternative: text)\n",
        "\n",
        "\n",
        "#### How to structure the data?\n",
        "\n",
        "| Year | Country | Region   | Income | Lifespan | Population |\n",
        "|------|---------|----------|--------|----------|------------|\n",
        "| 1818 | USA     | Americas | ###    | ##       | #          |\n",
        "| 1918 | USA     | Americas | ####   | ###      | ##         |\n",
        "| 2018 | USA     | Americas | #####  | ###      | ###        |\n",
        "| 1818 | China   | Asia     | #      | #        | #          |\n",
        "| 1918 | China   | Asia     | ##     | ##       | ###        |\n",
        "| 2018 | China   | Asia     | ###    | ###      | #####      |\n"
      ]
    },
    {
      "cell_type": "markdown",
      "metadata": {
        "colab_type": "text",
        "id": "3ebEjShbWsIy"
      },
      "source": [
        "## Upgrade Seaborn\n",
        "\n",
        "Make sure you have at least version 0.9.0.\n",
        "\n",
        "In Colab, go to **Restart runtime** after you run the `pip` command."
      ]
    },
    {
      "cell_type": "code",
      "metadata": {
        "colab_type": "code",
        "id": "4RSxbu7rWr1p",
        "outputId": "9e959a5e-c865-4ee5-b59b-246f69fd5d9a",
        "colab": {
          "base_uri": "https://localhost:8080/",
          "height": 221
        }
      },
      "source": [
        "!pip install --upgrade seaborn"
      ],
      "execution_count": 2,
      "outputs": [
        {
          "output_type": "stream",
          "text": [
            "Requirement already up-to-date: seaborn in /usr/local/lib/python3.6/dist-packages (0.9.0)\n",
            "Requirement already satisfied, skipping upgrade: pandas>=0.15.2 in /usr/local/lib/python3.6/dist-packages (from seaborn) (0.24.2)\n",
            "Requirement already satisfied, skipping upgrade: matplotlib>=1.4.3 in /usr/local/lib/python3.6/dist-packages (from seaborn) (3.0.3)\n",
            "Requirement already satisfied, skipping upgrade: scipy>=0.14.0 in /usr/local/lib/python3.6/dist-packages (from seaborn) (1.3.0)\n",
            "Requirement already satisfied, skipping upgrade: numpy>=1.9.3 in /usr/local/lib/python3.6/dist-packages (from seaborn) (1.16.4)\n",
            "Requirement already satisfied, skipping upgrade: python-dateutil>=2.5.0 in /usr/local/lib/python3.6/dist-packages (from pandas>=0.15.2->seaborn) (2.5.3)\n",
            "Requirement already satisfied, skipping upgrade: pytz>=2011k in /usr/local/lib/python3.6/dist-packages (from pandas>=0.15.2->seaborn) (2018.9)\n",
            "Requirement already satisfied, skipping upgrade: kiwisolver>=1.0.1 in /usr/local/lib/python3.6/dist-packages (from matplotlib>=1.4.3->seaborn) (1.1.0)\n",
            "Requirement already satisfied, skipping upgrade: pyparsing!=2.0.4,!=2.1.2,!=2.1.6,>=2.0.1 in /usr/local/lib/python3.6/dist-packages (from matplotlib>=1.4.3->seaborn) (2.4.0)\n",
            "Requirement already satisfied, skipping upgrade: cycler>=0.10 in /usr/local/lib/python3.6/dist-packages (from matplotlib>=1.4.3->seaborn) (0.10.0)\n",
            "Requirement already satisfied, skipping upgrade: six>=1.5 in /usr/local/lib/python3.6/dist-packages (from python-dateutil>=2.5.0->pandas>=0.15.2->seaborn) (1.12.0)\n",
            "Requirement already satisfied, skipping upgrade: setuptools in /usr/local/lib/python3.6/dist-packages (from kiwisolver>=1.0.1->matplotlib>=1.4.3->seaborn) (41.0.1)\n"
          ],
          "name": "stdout"
        }
      ]
    },
    {
      "cell_type": "code",
      "metadata": {
        "colab_type": "code",
        "id": "5sQ0-7JUWyN4",
        "outputId": "c6140b0c-245c-45e0-ef1d-b3bbec69eaaa",
        "colab": {
          "base_uri": "https://localhost:8080/",
          "height": 34
        }
      },
      "source": [
        "import seaborn as sns\n",
        "sns.__version__"
      ],
      "execution_count": 3,
      "outputs": [
        {
          "output_type": "execute_result",
          "data": {
            "text/plain": [
              "'0.9.0'"
            ]
          },
          "metadata": {
            "tags": []
          },
          "execution_count": 3
        }
      ]
    },
    {
      "cell_type": "markdown",
      "metadata": {
        "colab_type": "text",
        "id": "S2dXWRTFTsgd"
      },
      "source": [
        "## More imports"
      ]
    },
    {
      "cell_type": "code",
      "metadata": {
        "colab_type": "code",
        "id": "y-TgL_mA8OkF",
        "colab": {}
      },
      "source": [
        "%matplotlib inline\n",
        "import matplotlib.pyplot as plt\n",
        "import numpy as np\n",
        "import pandas as pd"
      ],
      "execution_count": 0,
      "outputs": []
    },
    {
      "cell_type": "markdown",
      "metadata": {
        "colab_type": "text",
        "id": "CZGG5prcTxrQ"
      },
      "source": [
        "## Load & look at data"
      ]
    },
    {
      "cell_type": "code",
      "metadata": {
        "colab_type": "code",
        "id": "-uE25LHD8CW0",
        "colab": {}
      },
      "source": [
        "income = pd.read_csv('https://raw.githubusercontent.com/open-numbers/ddf--gapminder--systema_globalis/master/ddf--datapoints--income_per_person_gdppercapita_ppp_inflation_adjusted--by--geo--time.csv')"
      ],
      "execution_count": 0,
      "outputs": []
    },
    {
      "cell_type": "code",
      "metadata": {
        "colab_type": "code",
        "id": "gg_pJslMY2bq",
        "colab": {}
      },
      "source": [
        "lifespan = pd.read_csv('https://raw.githubusercontent.com/open-numbers/ddf--gapminder--systema_globalis/master/ddf--datapoints--life_expectancy_years--by--geo--time.csv')"
      ],
      "execution_count": 0,
      "outputs": []
    },
    {
      "cell_type": "code",
      "metadata": {
        "colab_type": "code",
        "id": "F6knDUevY-xR",
        "colab": {}
      },
      "source": [
        "population = pd.read_csv('https://raw.githubusercontent.com/open-numbers/ddf--gapminder--systema_globalis/master/ddf--datapoints--population_total--by--geo--time.csv')"
      ],
      "execution_count": 0,
      "outputs": []
    },
    {
      "cell_type": "code",
      "metadata": {
        "colab_type": "code",
        "id": "hX6abI-iZGLl",
        "colab": {}
      },
      "source": [
        "entities = pd.read_csv('https://raw.githubusercontent.com/open-numbers/ddf--gapminder--systema_globalis/master/ddf--entities--geo--country.csv')"
      ],
      "execution_count": 0,
      "outputs": []
    },
    {
      "cell_type": "code",
      "metadata": {
        "colab_type": "code",
        "id": "AI-zcaDkZHXm",
        "colab": {}
      },
      "source": [
        "concepts = pd.read_csv('https://raw.githubusercontent.com/open-numbers/ddf--gapminder--systema_globalis/master/ddf--concepts.csv')"
      ],
      "execution_count": 0,
      "outputs": []
    },
    {
      "cell_type": "code",
      "metadata": {
        "colab_type": "code",
        "id": "EgFw-g0nZLJy",
        "outputId": "021ef171-5a1b-493e-d604-187cb76099cb",
        "colab": {
          "base_uri": "https://localhost:8080/",
          "height": 34
        }
      },
      "source": [
        "income.shape, lifespan.shape, population.shape, entities.shape, concepts.shape"
      ],
      "execution_count": 10,
      "outputs": [
        {
          "output_type": "execute_result",
          "data": {
            "text/plain": [
              "((46513, 3), (44370, 3), (59297, 3), (273, 33), (590, 16))"
            ]
          },
          "metadata": {
            "tags": []
          },
          "execution_count": 10
        }
      ]
    },
    {
      "cell_type": "code",
      "metadata": {
        "colab_type": "code",
        "id": "I-T62v7FZQu5",
        "outputId": "104a21de-dc0c-464a-9038-f699c8fc70f6",
        "colab": {
          "base_uri": "https://localhost:8080/",
          "height": 204
        }
      },
      "source": [
        "income.head()"
      ],
      "execution_count": 11,
      "outputs": [
        {
          "output_type": "execute_result",
          "data": {
            "text/html": [
              "<div>\n",
              "<style scoped>\n",
              "    .dataframe tbody tr th:only-of-type {\n",
              "        vertical-align: middle;\n",
              "    }\n",
              "\n",
              "    .dataframe tbody tr th {\n",
              "        vertical-align: top;\n",
              "    }\n",
              "\n",
              "    .dataframe thead th {\n",
              "        text-align: right;\n",
              "    }\n",
              "</style>\n",
              "<table border=\"1\" class=\"dataframe\">\n",
              "  <thead>\n",
              "    <tr style=\"text-align: right;\">\n",
              "      <th></th>\n",
              "      <th>geo</th>\n",
              "      <th>time</th>\n",
              "      <th>income_per_person_gdppercapita_ppp_inflation_adjusted</th>\n",
              "    </tr>\n",
              "  </thead>\n",
              "  <tbody>\n",
              "    <tr>\n",
              "      <th>0</th>\n",
              "      <td>afg</td>\n",
              "      <td>1800</td>\n",
              "      <td>603</td>\n",
              "    </tr>\n",
              "    <tr>\n",
              "      <th>1</th>\n",
              "      <td>afg</td>\n",
              "      <td>1801</td>\n",
              "      <td>603</td>\n",
              "    </tr>\n",
              "    <tr>\n",
              "      <th>2</th>\n",
              "      <td>afg</td>\n",
              "      <td>1802</td>\n",
              "      <td>603</td>\n",
              "    </tr>\n",
              "    <tr>\n",
              "      <th>3</th>\n",
              "      <td>afg</td>\n",
              "      <td>1803</td>\n",
              "      <td>603</td>\n",
              "    </tr>\n",
              "    <tr>\n",
              "      <th>4</th>\n",
              "      <td>afg</td>\n",
              "      <td>1804</td>\n",
              "      <td>603</td>\n",
              "    </tr>\n",
              "  </tbody>\n",
              "</table>\n",
              "</div>"
            ],
            "text/plain": [
              "   geo  time  income_per_person_gdppercapita_ppp_inflation_adjusted\n",
              "0  afg  1800                                                603    \n",
              "1  afg  1801                                                603    \n",
              "2  afg  1802                                                603    \n",
              "3  afg  1803                                                603    \n",
              "4  afg  1804                                                603    "
            ]
          },
          "metadata": {
            "tags": []
          },
          "execution_count": 11
        }
      ]
    },
    {
      "cell_type": "code",
      "metadata": {
        "colab_type": "code",
        "id": "2zIdtDESZYG5",
        "outputId": "9179fc3c-553a-446c-87e2-bfd43989f285",
        "colab": {
          "base_uri": "https://localhost:8080/",
          "height": 204
        }
      },
      "source": [
        "lifespan.head()"
      ],
      "execution_count": 12,
      "outputs": [
        {
          "output_type": "execute_result",
          "data": {
            "text/html": [
              "<div>\n",
              "<style scoped>\n",
              "    .dataframe tbody tr th:only-of-type {\n",
              "        vertical-align: middle;\n",
              "    }\n",
              "\n",
              "    .dataframe tbody tr th {\n",
              "        vertical-align: top;\n",
              "    }\n",
              "\n",
              "    .dataframe thead th {\n",
              "        text-align: right;\n",
              "    }\n",
              "</style>\n",
              "<table border=\"1\" class=\"dataframe\">\n",
              "  <thead>\n",
              "    <tr style=\"text-align: right;\">\n",
              "      <th></th>\n",
              "      <th>geo</th>\n",
              "      <th>time</th>\n",
              "      <th>life_expectancy_years</th>\n",
              "    </tr>\n",
              "  </thead>\n",
              "  <tbody>\n",
              "    <tr>\n",
              "      <th>0</th>\n",
              "      <td>abw</td>\n",
              "      <td>1800</td>\n",
              "      <td>34.42</td>\n",
              "    </tr>\n",
              "    <tr>\n",
              "      <th>1</th>\n",
              "      <td>abw</td>\n",
              "      <td>1801</td>\n",
              "      <td>34.42</td>\n",
              "    </tr>\n",
              "    <tr>\n",
              "      <th>2</th>\n",
              "      <td>abw</td>\n",
              "      <td>1802</td>\n",
              "      <td>34.42</td>\n",
              "    </tr>\n",
              "    <tr>\n",
              "      <th>3</th>\n",
              "      <td>abw</td>\n",
              "      <td>1803</td>\n",
              "      <td>34.42</td>\n",
              "    </tr>\n",
              "    <tr>\n",
              "      <th>4</th>\n",
              "      <td>abw</td>\n",
              "      <td>1804</td>\n",
              "      <td>34.42</td>\n",
              "    </tr>\n",
              "  </tbody>\n",
              "</table>\n",
              "</div>"
            ],
            "text/plain": [
              "   geo  time  life_expectancy_years\n",
              "0  abw  1800                  34.42\n",
              "1  abw  1801                  34.42\n",
              "2  abw  1802                  34.42\n",
              "3  abw  1803                  34.42\n",
              "4  abw  1804                  34.42"
            ]
          },
          "metadata": {
            "tags": []
          },
          "execution_count": 12
        }
      ]
    },
    {
      "cell_type": "code",
      "metadata": {
        "colab_type": "code",
        "id": "58AXNVMKZj3T",
        "outputId": "5d18124c-f990-435c-d020-0c4a4d9634b6",
        "colab": {
          "base_uri": "https://localhost:8080/",
          "height": 204
        }
      },
      "source": [
        "population.head()"
      ],
      "execution_count": 13,
      "outputs": [
        {
          "output_type": "execute_result",
          "data": {
            "text/html": [
              "<div>\n",
              "<style scoped>\n",
              "    .dataframe tbody tr th:only-of-type {\n",
              "        vertical-align: middle;\n",
              "    }\n",
              "\n",
              "    .dataframe tbody tr th {\n",
              "        vertical-align: top;\n",
              "    }\n",
              "\n",
              "    .dataframe thead th {\n",
              "        text-align: right;\n",
              "    }\n",
              "</style>\n",
              "<table border=\"1\" class=\"dataframe\">\n",
              "  <thead>\n",
              "    <tr style=\"text-align: right;\">\n",
              "      <th></th>\n",
              "      <th>geo</th>\n",
              "      <th>time</th>\n",
              "      <th>population_total</th>\n",
              "    </tr>\n",
              "  </thead>\n",
              "  <tbody>\n",
              "    <tr>\n",
              "      <th>0</th>\n",
              "      <td>afg</td>\n",
              "      <td>1800</td>\n",
              "      <td>3280000</td>\n",
              "    </tr>\n",
              "    <tr>\n",
              "      <th>1</th>\n",
              "      <td>afg</td>\n",
              "      <td>1801</td>\n",
              "      <td>3280000</td>\n",
              "    </tr>\n",
              "    <tr>\n",
              "      <th>2</th>\n",
              "      <td>afg</td>\n",
              "      <td>1802</td>\n",
              "      <td>3280000</td>\n",
              "    </tr>\n",
              "    <tr>\n",
              "      <th>3</th>\n",
              "      <td>afg</td>\n",
              "      <td>1803</td>\n",
              "      <td>3280000</td>\n",
              "    </tr>\n",
              "    <tr>\n",
              "      <th>4</th>\n",
              "      <td>afg</td>\n",
              "      <td>1804</td>\n",
              "      <td>3280000</td>\n",
              "    </tr>\n",
              "  </tbody>\n",
              "</table>\n",
              "</div>"
            ],
            "text/plain": [
              "   geo  time  population_total\n",
              "0  afg  1800           3280000\n",
              "1  afg  1801           3280000\n",
              "2  afg  1802           3280000\n",
              "3  afg  1803           3280000\n",
              "4  afg  1804           3280000"
            ]
          },
          "metadata": {
            "tags": []
          },
          "execution_count": 13
        }
      ]
    },
    {
      "cell_type": "code",
      "metadata": {
        "colab_type": "code",
        "id": "0ywWDL2MZqlF",
        "outputId": "21bd89df-ab13-424c-9bca-ffa228194f9a",
        "colab": {
          "base_uri": "https://localhost:8080/",
          "height": 275
        }
      },
      "source": [
        "pd.options.display.max_columns = 500\n",
        "entities.head()"
      ],
      "execution_count": 14,
      "outputs": [
        {
          "output_type": "execute_result",
          "data": {
            "text/html": [
              "<div>\n",
              "<style scoped>\n",
              "    .dataframe tbody tr th:only-of-type {\n",
              "        vertical-align: middle;\n",
              "    }\n",
              "\n",
              "    .dataframe tbody tr th {\n",
              "        vertical-align: top;\n",
              "    }\n",
              "\n",
              "    .dataframe thead th {\n",
              "        text-align: right;\n",
              "    }\n",
              "</style>\n",
              "<table border=\"1\" class=\"dataframe\">\n",
              "  <thead>\n",
              "    <tr style=\"text-align: right;\">\n",
              "      <th></th>\n",
              "      <th>country</th>\n",
              "      <th>alt_5</th>\n",
              "      <th>alternative_1</th>\n",
              "      <th>alternative_2</th>\n",
              "      <th>alternative_3</th>\n",
              "      <th>alternative_4_cdiac</th>\n",
              "      <th>arb1</th>\n",
              "      <th>arb2</th>\n",
              "      <th>arb3</th>\n",
              "      <th>arb4</th>\n",
              "      <th>arb5</th>\n",
              "      <th>arb6</th>\n",
              "      <th>g77_and_oecd_countries</th>\n",
              "      <th>gapminder_list</th>\n",
              "      <th>god_id</th>\n",
              "      <th>gwid</th>\n",
              "      <th>income_groups</th>\n",
              "      <th>is--country</th>\n",
              "      <th>iso3166_1_alpha2</th>\n",
              "      <th>iso3166_1_alpha3</th>\n",
              "      <th>iso3166_1_numeric</th>\n",
              "      <th>iso3166_2</th>\n",
              "      <th>landlocked</th>\n",
              "      <th>latitude</th>\n",
              "      <th>longitude</th>\n",
              "      <th>main_religion_2008</th>\n",
              "      <th>name</th>\n",
              "      <th>pandg</th>\n",
              "      <th>un_state</th>\n",
              "      <th>unicode_region_subtag</th>\n",
              "      <th>upper_case_name</th>\n",
              "      <th>world_4region</th>\n",
              "      <th>world_6region</th>\n",
              "    </tr>\n",
              "  </thead>\n",
              "  <tbody>\n",
              "    <tr>\n",
              "      <th>0</th>\n",
              "      <td>abkh</td>\n",
              "      <td>NaN</td>\n",
              "      <td>NaN</td>\n",
              "      <td>NaN</td>\n",
              "      <td>NaN</td>\n",
              "      <td>NaN</td>\n",
              "      <td>NaN</td>\n",
              "      <td>NaN</td>\n",
              "      <td>NaN</td>\n",
              "      <td>NaN</td>\n",
              "      <td>NaN</td>\n",
              "      <td>NaN</td>\n",
              "      <td>others</td>\n",
              "      <td>Abkhazia</td>\n",
              "      <td>GE-AB</td>\n",
              "      <td>i0</td>\n",
              "      <td>NaN</td>\n",
              "      <td>True</td>\n",
              "      <td>NaN</td>\n",
              "      <td>NaN</td>\n",
              "      <td>NaN</td>\n",
              "      <td>NaN</td>\n",
              "      <td>NaN</td>\n",
              "      <td>NaN</td>\n",
              "      <td>NaN</td>\n",
              "      <td>NaN</td>\n",
              "      <td>Abkhazia</td>\n",
              "      <td>NaN</td>\n",
              "      <td>False</td>\n",
              "      <td>NaN</td>\n",
              "      <td>NaN</td>\n",
              "      <td>europe</td>\n",
              "      <td>europe_central_asia</td>\n",
              "    </tr>\n",
              "    <tr>\n",
              "      <th>1</th>\n",
              "      <td>abw</td>\n",
              "      <td>NaN</td>\n",
              "      <td>NaN</td>\n",
              "      <td>NaN</td>\n",
              "      <td>NaN</td>\n",
              "      <td>Aruba</td>\n",
              "      <td>NaN</td>\n",
              "      <td>NaN</td>\n",
              "      <td>NaN</td>\n",
              "      <td>NaN</td>\n",
              "      <td>NaN</td>\n",
              "      <td>NaN</td>\n",
              "      <td>others</td>\n",
              "      <td>Aruba</td>\n",
              "      <td>AW</td>\n",
              "      <td>i12</td>\n",
              "      <td>high_income</td>\n",
              "      <td>True</td>\n",
              "      <td>AW</td>\n",
              "      <td>ABW</td>\n",
              "      <td>533.0</td>\n",
              "      <td>NaN</td>\n",
              "      <td>coastline</td>\n",
              "      <td>12.50000</td>\n",
              "      <td>-69.96667</td>\n",
              "      <td>christian</td>\n",
              "      <td>Aruba</td>\n",
              "      <td>NaN</td>\n",
              "      <td>False</td>\n",
              "      <td>AW</td>\n",
              "      <td>ARUBA</td>\n",
              "      <td>americas</td>\n",
              "      <td>america</td>\n",
              "    </tr>\n",
              "    <tr>\n",
              "      <th>2</th>\n",
              "      <td>afg</td>\n",
              "      <td>NaN</td>\n",
              "      <td>Islamic Republic of Afghanistan</td>\n",
              "      <td>NaN</td>\n",
              "      <td>NaN</td>\n",
              "      <td>Afghanistan</td>\n",
              "      <td>NaN</td>\n",
              "      <td>NaN</td>\n",
              "      <td>NaN</td>\n",
              "      <td>NaN</td>\n",
              "      <td>NaN</td>\n",
              "      <td>NaN</td>\n",
              "      <td>g77</td>\n",
              "      <td>Afghanistan</td>\n",
              "      <td>AF</td>\n",
              "      <td>i1</td>\n",
              "      <td>low_income</td>\n",
              "      <td>True</td>\n",
              "      <td>AF</td>\n",
              "      <td>AFG</td>\n",
              "      <td>4.0</td>\n",
              "      <td>NaN</td>\n",
              "      <td>landlocked</td>\n",
              "      <td>33.00000</td>\n",
              "      <td>66.00000</td>\n",
              "      <td>muslim</td>\n",
              "      <td>Afghanistan</td>\n",
              "      <td>AFGHANISTAN</td>\n",
              "      <td>True</td>\n",
              "      <td>AF</td>\n",
              "      <td>AFGHANISTAN</td>\n",
              "      <td>asia</td>\n",
              "      <td>south_asia</td>\n",
              "    </tr>\n",
              "    <tr>\n",
              "      <th>3</th>\n",
              "      <td>ago</td>\n",
              "      <td>NaN</td>\n",
              "      <td>NaN</td>\n",
              "      <td>NaN</td>\n",
              "      <td>NaN</td>\n",
              "      <td>Angola</td>\n",
              "      <td>NaN</td>\n",
              "      <td>NaN</td>\n",
              "      <td>NaN</td>\n",
              "      <td>NaN</td>\n",
              "      <td>NaN</td>\n",
              "      <td>NaN</td>\n",
              "      <td>g77</td>\n",
              "      <td>Angola</td>\n",
              "      <td>AO</td>\n",
              "      <td>i7</td>\n",
              "      <td>upper_middle_income</td>\n",
              "      <td>True</td>\n",
              "      <td>AO</td>\n",
              "      <td>AGO</td>\n",
              "      <td>24.0</td>\n",
              "      <td>NaN</td>\n",
              "      <td>coastline</td>\n",
              "      <td>-12.50000</td>\n",
              "      <td>18.50000</td>\n",
              "      <td>christian</td>\n",
              "      <td>Angola</td>\n",
              "      <td>ANGOLA</td>\n",
              "      <td>True</td>\n",
              "      <td>AO</td>\n",
              "      <td>ANGOLA</td>\n",
              "      <td>africa</td>\n",
              "      <td>sub_saharan_africa</td>\n",
              "    </tr>\n",
              "    <tr>\n",
              "      <th>4</th>\n",
              "      <td>aia</td>\n",
              "      <td>NaN</td>\n",
              "      <td>NaN</td>\n",
              "      <td>NaN</td>\n",
              "      <td>NaN</td>\n",
              "      <td>NaN</td>\n",
              "      <td>NaN</td>\n",
              "      <td>NaN</td>\n",
              "      <td>NaN</td>\n",
              "      <td>NaN</td>\n",
              "      <td>NaN</td>\n",
              "      <td>NaN</td>\n",
              "      <td>others</td>\n",
              "      <td>Anguilla</td>\n",
              "      <td>AI</td>\n",
              "      <td>i8</td>\n",
              "      <td>NaN</td>\n",
              "      <td>True</td>\n",
              "      <td>AI</td>\n",
              "      <td>AIA</td>\n",
              "      <td>660.0</td>\n",
              "      <td>NaN</td>\n",
              "      <td>coastline</td>\n",
              "      <td>18.21667</td>\n",
              "      <td>-63.05000</td>\n",
              "      <td>christian</td>\n",
              "      <td>Anguilla</td>\n",
              "      <td>NaN</td>\n",
              "      <td>False</td>\n",
              "      <td>AI</td>\n",
              "      <td>ANGUILLA</td>\n",
              "      <td>americas</td>\n",
              "      <td>america</td>\n",
              "    </tr>\n",
              "  </tbody>\n",
              "</table>\n",
              "</div>"
            ],
            "text/plain": [
              "  country alt_5                    alternative_1 alternative_2 alternative_3  \\\n",
              "0    abkh   NaN                              NaN           NaN           NaN   \n",
              "1     abw   NaN                              NaN           NaN           NaN   \n",
              "2     afg   NaN  Islamic Republic of Afghanistan           NaN           NaN   \n",
              "3     ago   NaN                              NaN           NaN           NaN   \n",
              "4     aia   NaN                              NaN           NaN           NaN   \n",
              "\n",
              "  alternative_4_cdiac arb1 arb2 arb3 arb4 arb5 arb6 g77_and_oecd_countries  \\\n",
              "0                 NaN  NaN  NaN  NaN  NaN  NaN  NaN                 others   \n",
              "1               Aruba  NaN  NaN  NaN  NaN  NaN  NaN                 others   \n",
              "2         Afghanistan  NaN  NaN  NaN  NaN  NaN  NaN                    g77   \n",
              "3              Angola  NaN  NaN  NaN  NaN  NaN  NaN                    g77   \n",
              "4                 NaN  NaN  NaN  NaN  NaN  NaN  NaN                 others   \n",
              "\n",
              "  gapminder_list god_id gwid        income_groups  is--country  \\\n",
              "0       Abkhazia  GE-AB   i0                  NaN         True   \n",
              "1          Aruba     AW  i12          high_income         True   \n",
              "2    Afghanistan     AF   i1           low_income         True   \n",
              "3         Angola     AO   i7  upper_middle_income         True   \n",
              "4       Anguilla     AI   i8                  NaN         True   \n",
              "\n",
              "  iso3166_1_alpha2 iso3166_1_alpha3  iso3166_1_numeric iso3166_2  landlocked  \\\n",
              "0              NaN              NaN                NaN       NaN         NaN   \n",
              "1               AW              ABW              533.0       NaN   coastline   \n",
              "2               AF              AFG                4.0       NaN  landlocked   \n",
              "3               AO              AGO               24.0       NaN   coastline   \n",
              "4               AI              AIA              660.0       NaN   coastline   \n",
              "\n",
              "   latitude  longitude main_religion_2008         name        pandg  un_state  \\\n",
              "0       NaN        NaN                NaN     Abkhazia          NaN     False   \n",
              "1  12.50000  -69.96667          christian        Aruba          NaN     False   \n",
              "2  33.00000   66.00000             muslim  Afghanistan  AFGHANISTAN      True   \n",
              "3 -12.50000   18.50000          christian       Angola       ANGOLA      True   \n",
              "4  18.21667  -63.05000          christian     Anguilla          NaN     False   \n",
              "\n",
              "  unicode_region_subtag upper_case_name world_4region        world_6region  \n",
              "0                   NaN             NaN        europe  europe_central_asia  \n",
              "1                    AW           ARUBA      americas              america  \n",
              "2                    AF     AFGHANISTAN          asia           south_asia  \n",
              "3                    AO          ANGOLA        africa   sub_saharan_africa  \n",
              "4                    AI        ANGUILLA      americas              america  "
            ]
          },
          "metadata": {
            "tags": []
          },
          "execution_count": 14
        }
      ]
    },
    {
      "cell_type": "code",
      "metadata": {
        "colab_type": "code",
        "id": "mk_R0eFZZ0G5",
        "outputId": "36c81b1c-4a00-4a98-975d-79677d729817",
        "colab": {
          "base_uri": "https://localhost:8080/",
          "height": 564
        }
      },
      "source": [
        "concepts.head()"
      ],
      "execution_count": 15,
      "outputs": [
        {
          "output_type": "execute_result",
          "data": {
            "text/html": [
              "<div>\n",
              "<style scoped>\n",
              "    .dataframe tbody tr th:only-of-type {\n",
              "        vertical-align: middle;\n",
              "    }\n",
              "\n",
              "    .dataframe tbody tr th {\n",
              "        vertical-align: top;\n",
              "    }\n",
              "\n",
              "    .dataframe thead th {\n",
              "        text-align: right;\n",
              "    }\n",
              "</style>\n",
              "<table border=\"1\" class=\"dataframe\">\n",
              "  <thead>\n",
              "    <tr style=\"text-align: right;\">\n",
              "      <th></th>\n",
              "      <th>concept</th>\n",
              "      <th>color</th>\n",
              "      <th>concept_type</th>\n",
              "      <th>description</th>\n",
              "      <th>description_long</th>\n",
              "      <th>domain</th>\n",
              "      <th>drill_up</th>\n",
              "      <th>indicator_url</th>\n",
              "      <th>name</th>\n",
              "      <th>name_catalog</th>\n",
              "      <th>name_short</th>\n",
              "      <th>scales</th>\n",
              "      <th>source</th>\n",
              "      <th>source_long</th>\n",
              "      <th>source_url</th>\n",
              "      <th>tags</th>\n",
              "    </tr>\n",
              "  </thead>\n",
              "  <tbody>\n",
              "    <tr>\n",
              "      <th>0</th>\n",
              "      <td>adults_with_hiv_percent_age_15_49</td>\n",
              "      <td>NaN</td>\n",
              "      <td>measure</td>\n",
              "      <td>The estimated percentage of adults aged 15 to ...</td>\n",
              "      <td>NaN</td>\n",
              "      <td>NaN</td>\n",
              "      <td>NaN</td>\n",
              "      <td>NaN</td>\n",
              "      <td>Adults with HIV (%, age 15-49)</td>\n",
              "      <td>Adults with HIV (%, age 15-49)</td>\n",
              "      <td>Adults with HIV</td>\n",
              "      <td>[\"log\", \"linear\"]</td>\n",
              "      <td>NaN</td>\n",
              "      <td>NaN</td>\n",
              "      <td>https://www.gapminder.org/gapminder-world/docu...</td>\n",
              "      <td>hiv</td>\n",
              "    </tr>\n",
              "    <tr>\n",
              "      <th>1</th>\n",
              "      <td>age_at_1st_marriage_women</td>\n",
              "      <td>NaN</td>\n",
              "      <td>measure</td>\n",
              "      <td>The mean age, in years, of first marriage for ...</td>\n",
              "      <td>NaN</td>\n",
              "      <td>NaN</td>\n",
              "      <td>NaN</td>\n",
              "      <td>NaN</td>\n",
              "      <td>Age at 1st marriage (women)</td>\n",
              "      <td>Age at 1st marriage (women)</td>\n",
              "      <td>Age at 1st marriage</td>\n",
              "      <td>[\"linear\", \"log\"]</td>\n",
              "      <td>NaN</td>\n",
              "      <td>NaN</td>\n",
              "      <td>https://www.gapminder.org/data/documentation/g...</td>\n",
              "      <td>population</td>\n",
              "    </tr>\n",
              "    <tr>\n",
              "      <th>2</th>\n",
              "      <td>aged_15_24_employment_rate_percent</td>\n",
              "      <td>NaN</td>\n",
              "      <td>measure</td>\n",
              "      <td>Percentage of total population, age group 15-2...</td>\n",
              "      <td>NaN</td>\n",
              "      <td>NaN</td>\n",
              "      <td>NaN</td>\n",
              "      <td>NaN</td>\n",
              "      <td>Aged 15-24 employment rate (%)</td>\n",
              "      <td>Aged 15-24</td>\n",
              "      <td>Employment rate (%)</td>\n",
              "      <td>[\"linear\", \"log\"]</td>\n",
              "      <td>NaN</td>\n",
              "      <td>NaN</td>\n",
              "      <td>https://www.ilo.org/ilostat/</td>\n",
              "      <td>employment_rate</td>\n",
              "    </tr>\n",
              "    <tr>\n",
              "      <th>3</th>\n",
              "      <td>aged_15_24_unemployment_rate_percent</td>\n",
              "      <td>NaN</td>\n",
              "      <td>measure</td>\n",
              "      <td>Percentage of total population, age group 15-2...</td>\n",
              "      <td>NaN</td>\n",
              "      <td>NaN</td>\n",
              "      <td>NaN</td>\n",
              "      <td>NaN</td>\n",
              "      <td>Aged 15-24 unemployment rate (%)</td>\n",
              "      <td>Aged 15-24</td>\n",
              "      <td>Unemployment rate (%)</td>\n",
              "      <td>[\"linear\", \"log\"]</td>\n",
              "      <td>NaN</td>\n",
              "      <td>NaN</td>\n",
              "      <td>https://www.ilo.org/ilostat/</td>\n",
              "      <td>unemployment</td>\n",
              "    </tr>\n",
              "    <tr>\n",
              "      <th>4</th>\n",
              "      <td>aged_15_64_labour_force_participation_rate_per...</td>\n",
              "      <td>NaN</td>\n",
              "      <td>measure</td>\n",
              "      <td>For age group 15-64, percentage of all labour ...</td>\n",
              "      <td>NaN</td>\n",
              "      <td>NaN</td>\n",
              "      <td>NaN</td>\n",
              "      <td>NaN</td>\n",
              "      <td>Aged 15-64 labour force participation rate (%)</td>\n",
              "      <td>Aged 15-64</td>\n",
              "      <td>Labour force participation rate (%)</td>\n",
              "      <td>[\"linear\", \"log\"]</td>\n",
              "      <td>NaN</td>\n",
              "      <td>NaN</td>\n",
              "      <td>https://www.ilo.org/ilostat/</td>\n",
              "      <td>labour_force_participation</td>\n",
              "    </tr>\n",
              "  </tbody>\n",
              "</table>\n",
              "</div>"
            ],
            "text/plain": [
              "                                             concept color concept_type  \\\n",
              "0                  adults_with_hiv_percent_age_15_49   NaN      measure   \n",
              "1                          age_at_1st_marriage_women   NaN      measure   \n",
              "2                 aged_15_24_employment_rate_percent   NaN      measure   \n",
              "3               aged_15_24_unemployment_rate_percent   NaN      measure   \n",
              "4  aged_15_64_labour_force_participation_rate_per...   NaN      measure   \n",
              "\n",
              "                                         description description_long domain  \\\n",
              "0  The estimated percentage of adults aged 15 to ...              NaN    NaN   \n",
              "1  The mean age, in years, of first marriage for ...              NaN    NaN   \n",
              "2  Percentage of total population, age group 15-2...              NaN    NaN   \n",
              "3  Percentage of total population, age group 15-2...              NaN    NaN   \n",
              "4  For age group 15-64, percentage of all labour ...              NaN    NaN   \n",
              "\n",
              "  drill_up indicator_url                                            name  \\\n",
              "0      NaN           NaN                  Adults with HIV (%, age 15-49)   \n",
              "1      NaN           NaN                     Age at 1st marriage (women)   \n",
              "2      NaN           NaN                  Aged 15-24 employment rate (%)   \n",
              "3      NaN           NaN                Aged 15-24 unemployment rate (%)   \n",
              "4      NaN           NaN  Aged 15-64 labour force participation rate (%)   \n",
              "\n",
              "                     name_catalog                           name_short  \\\n",
              "0  Adults with HIV (%, age 15-49)                      Adults with HIV   \n",
              "1     Age at 1st marriage (women)                  Age at 1st marriage   \n",
              "2                      Aged 15-24                  Employment rate (%)   \n",
              "3                      Aged 15-24                Unemployment rate (%)   \n",
              "4                      Aged 15-64  Labour force participation rate (%)   \n",
              "\n",
              "              scales source source_long  \\\n",
              "0  [\"log\", \"linear\"]    NaN         NaN   \n",
              "1  [\"linear\", \"log\"]    NaN         NaN   \n",
              "2  [\"linear\", \"log\"]    NaN         NaN   \n",
              "3  [\"linear\", \"log\"]    NaN         NaN   \n",
              "4  [\"linear\", \"log\"]    NaN         NaN   \n",
              "\n",
              "                                          source_url  \\\n",
              "0  https://www.gapminder.org/gapminder-world/docu...   \n",
              "1  https://www.gapminder.org/data/documentation/g...   \n",
              "2                       https://www.ilo.org/ilostat/   \n",
              "3                       https://www.ilo.org/ilostat/   \n",
              "4                       https://www.ilo.org/ilostat/   \n",
              "\n",
              "                         tags  \n",
              "0                         hiv  \n",
              "1                  population  \n",
              "2             employment_rate  \n",
              "3                unemployment  \n",
              "4  labour_force_participation  "
            ]
          },
          "metadata": {
            "tags": []
          },
          "execution_count": 15
        }
      ]
    },
    {
      "cell_type": "markdown",
      "metadata": {
        "colab_type": "text",
        "id": "6HYUytvLT8Kf"
      },
      "source": [
        "## Merge data"
      ]
    },
    {
      "cell_type": "markdown",
      "metadata": {
        "colab_type": "text",
        "id": "dhALZDsh9n9L"
      },
      "source": [
        "https://github.com/pandas-dev/pandas/blob/master/doc/cheatsheet/Pandas_Cheat_Sheet.pdf"
      ]
    },
    {
      "cell_type": "code",
      "metadata": {
        "colab_type": "code",
        "id": "A-tnI-hK6yDG",
        "colab": {}
      },
      "source": [
        "df = income.merge(lifespan).merge(population)"
      ],
      "execution_count": 0,
      "outputs": []
    },
    {
      "cell_type": "markdown",
      "metadata": {
        "colab_type": "text",
        "id": "4OdEr5IFVdF5"
      },
      "source": [
        "## Explore data"
      ]
    },
    {
      "cell_type": "code",
      "metadata": {
        "colab_type": "code",
        "id": "4IzXea0T64x4",
        "outputId": "6d362827-6862-4ad6-a515-aa05f7ed96e4",
        "colab": {
          "base_uri": "https://localhost:8080/",
          "height": 34
        }
      },
      "source": [
        "df.shape"
      ],
      "execution_count": 17,
      "outputs": [
        {
          "output_type": "execute_result",
          "data": {
            "text/plain": [
              "(40437, 5)"
            ]
          },
          "metadata": {
            "tags": []
          },
          "execution_count": 17
        }
      ]
    },
    {
      "cell_type": "code",
      "metadata": {
        "id": "FbK1eeQoaFhY",
        "colab_type": "code",
        "outputId": "59891500-2688-4fc4-b54d-5eb707b31b31",
        "colab": {
          "base_uri": "https://localhost:8080/",
          "height": 204
        }
      },
      "source": [
        "df.head()"
      ],
      "execution_count": 18,
      "outputs": [
        {
          "output_type": "execute_result",
          "data": {
            "text/html": [
              "<div>\n",
              "<style scoped>\n",
              "    .dataframe tbody tr th:only-of-type {\n",
              "        vertical-align: middle;\n",
              "    }\n",
              "\n",
              "    .dataframe tbody tr th {\n",
              "        vertical-align: top;\n",
              "    }\n",
              "\n",
              "    .dataframe thead th {\n",
              "        text-align: right;\n",
              "    }\n",
              "</style>\n",
              "<table border=\"1\" class=\"dataframe\">\n",
              "  <thead>\n",
              "    <tr style=\"text-align: right;\">\n",
              "      <th></th>\n",
              "      <th>geo</th>\n",
              "      <th>time</th>\n",
              "      <th>income_per_person_gdppercapita_ppp_inflation_adjusted</th>\n",
              "      <th>life_expectancy_years</th>\n",
              "      <th>population_total</th>\n",
              "    </tr>\n",
              "  </thead>\n",
              "  <tbody>\n",
              "    <tr>\n",
              "      <th>0</th>\n",
              "      <td>afg</td>\n",
              "      <td>1800</td>\n",
              "      <td>603</td>\n",
              "      <td>28.21</td>\n",
              "      <td>3280000</td>\n",
              "    </tr>\n",
              "    <tr>\n",
              "      <th>1</th>\n",
              "      <td>afg</td>\n",
              "      <td>1801</td>\n",
              "      <td>603</td>\n",
              "      <td>28.20</td>\n",
              "      <td>3280000</td>\n",
              "    </tr>\n",
              "    <tr>\n",
              "      <th>2</th>\n",
              "      <td>afg</td>\n",
              "      <td>1802</td>\n",
              "      <td>603</td>\n",
              "      <td>28.19</td>\n",
              "      <td>3280000</td>\n",
              "    </tr>\n",
              "    <tr>\n",
              "      <th>3</th>\n",
              "      <td>afg</td>\n",
              "      <td>1803</td>\n",
              "      <td>603</td>\n",
              "      <td>28.18</td>\n",
              "      <td>3280000</td>\n",
              "    </tr>\n",
              "    <tr>\n",
              "      <th>4</th>\n",
              "      <td>afg</td>\n",
              "      <td>1804</td>\n",
              "      <td>603</td>\n",
              "      <td>28.17</td>\n",
              "      <td>3280000</td>\n",
              "    </tr>\n",
              "  </tbody>\n",
              "</table>\n",
              "</div>"
            ],
            "text/plain": [
              "   geo  time  income_per_person_gdppercapita_ppp_inflation_adjusted  \\\n",
              "0  afg  1800                                                603       \n",
              "1  afg  1801                                                603       \n",
              "2  afg  1802                                                603       \n",
              "3  afg  1803                                                603       \n",
              "4  afg  1804                                                603       \n",
              "\n",
              "   life_expectancy_years  population_total  \n",
              "0                  28.21           3280000  \n",
              "1                  28.20           3280000  \n",
              "2                  28.19           3280000  \n",
              "3                  28.18           3280000  \n",
              "4                  28.17           3280000  "
            ]
          },
          "metadata": {
            "tags": []
          },
          "execution_count": 18
        }
      ]
    },
    {
      "cell_type": "code",
      "metadata": {
        "id": "ta7NMhc1aIQQ",
        "colab_type": "code",
        "outputId": "237f03b7-07ca-42c6-a882-4dd68ed4aa05",
        "colab": {
          "base_uri": "https://localhost:8080/",
          "height": 204
        }
      },
      "source": [
        "entities_name_region = entities[['country', 'name', 'world_6region']]\n",
        "entities_name_region.head()"
      ],
      "execution_count": 19,
      "outputs": [
        {
          "output_type": "execute_result",
          "data": {
            "text/html": [
              "<div>\n",
              "<style scoped>\n",
              "    .dataframe tbody tr th:only-of-type {\n",
              "        vertical-align: middle;\n",
              "    }\n",
              "\n",
              "    .dataframe tbody tr th {\n",
              "        vertical-align: top;\n",
              "    }\n",
              "\n",
              "    .dataframe thead th {\n",
              "        text-align: right;\n",
              "    }\n",
              "</style>\n",
              "<table border=\"1\" class=\"dataframe\">\n",
              "  <thead>\n",
              "    <tr style=\"text-align: right;\">\n",
              "      <th></th>\n",
              "      <th>country</th>\n",
              "      <th>name</th>\n",
              "      <th>world_6region</th>\n",
              "    </tr>\n",
              "  </thead>\n",
              "  <tbody>\n",
              "    <tr>\n",
              "      <th>0</th>\n",
              "      <td>abkh</td>\n",
              "      <td>Abkhazia</td>\n",
              "      <td>europe_central_asia</td>\n",
              "    </tr>\n",
              "    <tr>\n",
              "      <th>1</th>\n",
              "      <td>abw</td>\n",
              "      <td>Aruba</td>\n",
              "      <td>america</td>\n",
              "    </tr>\n",
              "    <tr>\n",
              "      <th>2</th>\n",
              "      <td>afg</td>\n",
              "      <td>Afghanistan</td>\n",
              "      <td>south_asia</td>\n",
              "    </tr>\n",
              "    <tr>\n",
              "      <th>3</th>\n",
              "      <td>ago</td>\n",
              "      <td>Angola</td>\n",
              "      <td>sub_saharan_africa</td>\n",
              "    </tr>\n",
              "    <tr>\n",
              "      <th>4</th>\n",
              "      <td>aia</td>\n",
              "      <td>Anguilla</td>\n",
              "      <td>america</td>\n",
              "    </tr>\n",
              "  </tbody>\n",
              "</table>\n",
              "</div>"
            ],
            "text/plain": [
              "  country         name        world_6region\n",
              "0    abkh     Abkhazia  europe_central_asia\n",
              "1     abw        Aruba              america\n",
              "2     afg  Afghanistan           south_asia\n",
              "3     ago       Angola   sub_saharan_africa\n",
              "4     aia     Anguilla              america"
            ]
          },
          "metadata": {
            "tags": []
          },
          "execution_count": 19
        }
      ]
    },
    {
      "cell_type": "code",
      "metadata": {
        "id": "tsS0i-sKazS5",
        "colab_type": "code",
        "outputId": "b26c5813-3d70-4984-c707-a99a687b01b1",
        "colab": {
          "base_uri": "https://localhost:8080/",
          "height": 221
        }
      },
      "source": [
        "df = pd.merge(df, entities_name_region, left_on='geo', right_on='country')\n",
        "print(df.shape)\n",
        "df.head()"
      ],
      "execution_count": 20,
      "outputs": [
        {
          "output_type": "stream",
          "text": [
            "(40437, 8)\n"
          ],
          "name": "stdout"
        },
        {
          "output_type": "execute_result",
          "data": {
            "text/html": [
              "<div>\n",
              "<style scoped>\n",
              "    .dataframe tbody tr th:only-of-type {\n",
              "        vertical-align: middle;\n",
              "    }\n",
              "\n",
              "    .dataframe tbody tr th {\n",
              "        vertical-align: top;\n",
              "    }\n",
              "\n",
              "    .dataframe thead th {\n",
              "        text-align: right;\n",
              "    }\n",
              "</style>\n",
              "<table border=\"1\" class=\"dataframe\">\n",
              "  <thead>\n",
              "    <tr style=\"text-align: right;\">\n",
              "      <th></th>\n",
              "      <th>geo</th>\n",
              "      <th>time</th>\n",
              "      <th>income_per_person_gdppercapita_ppp_inflation_adjusted</th>\n",
              "      <th>life_expectancy_years</th>\n",
              "      <th>population_total</th>\n",
              "      <th>country</th>\n",
              "      <th>name</th>\n",
              "      <th>world_6region</th>\n",
              "    </tr>\n",
              "  </thead>\n",
              "  <tbody>\n",
              "    <tr>\n",
              "      <th>0</th>\n",
              "      <td>afg</td>\n",
              "      <td>1800</td>\n",
              "      <td>603</td>\n",
              "      <td>28.21</td>\n",
              "      <td>3280000</td>\n",
              "      <td>afg</td>\n",
              "      <td>Afghanistan</td>\n",
              "      <td>south_asia</td>\n",
              "    </tr>\n",
              "    <tr>\n",
              "      <th>1</th>\n",
              "      <td>afg</td>\n",
              "      <td>1801</td>\n",
              "      <td>603</td>\n",
              "      <td>28.20</td>\n",
              "      <td>3280000</td>\n",
              "      <td>afg</td>\n",
              "      <td>Afghanistan</td>\n",
              "      <td>south_asia</td>\n",
              "    </tr>\n",
              "    <tr>\n",
              "      <th>2</th>\n",
              "      <td>afg</td>\n",
              "      <td>1802</td>\n",
              "      <td>603</td>\n",
              "      <td>28.19</td>\n",
              "      <td>3280000</td>\n",
              "      <td>afg</td>\n",
              "      <td>Afghanistan</td>\n",
              "      <td>south_asia</td>\n",
              "    </tr>\n",
              "    <tr>\n",
              "      <th>3</th>\n",
              "      <td>afg</td>\n",
              "      <td>1803</td>\n",
              "      <td>603</td>\n",
              "      <td>28.18</td>\n",
              "      <td>3280000</td>\n",
              "      <td>afg</td>\n",
              "      <td>Afghanistan</td>\n",
              "      <td>south_asia</td>\n",
              "    </tr>\n",
              "    <tr>\n",
              "      <th>4</th>\n",
              "      <td>afg</td>\n",
              "      <td>1804</td>\n",
              "      <td>603</td>\n",
              "      <td>28.17</td>\n",
              "      <td>3280000</td>\n",
              "      <td>afg</td>\n",
              "      <td>Afghanistan</td>\n",
              "      <td>south_asia</td>\n",
              "    </tr>\n",
              "  </tbody>\n",
              "</table>\n",
              "</div>"
            ],
            "text/plain": [
              "   geo  time  income_per_person_gdppercapita_ppp_inflation_adjusted  \\\n",
              "0  afg  1800                                                603       \n",
              "1  afg  1801                                                603       \n",
              "2  afg  1802                                                603       \n",
              "3  afg  1803                                                603       \n",
              "4  afg  1804                                                603       \n",
              "\n",
              "   life_expectancy_years  population_total country         name world_6region  \n",
              "0                  28.21           3280000     afg  Afghanistan    south_asia  \n",
              "1                  28.20           3280000     afg  Afghanistan    south_asia  \n",
              "2                  28.19           3280000     afg  Afghanistan    south_asia  \n",
              "3                  28.18           3280000     afg  Afghanistan    south_asia  \n",
              "4                  28.17           3280000     afg  Afghanistan    south_asia  "
            ]
          },
          "metadata": {
            "tags": []
          },
          "execution_count": 20
        }
      ]
    },
    {
      "cell_type": "code",
      "metadata": {
        "id": "9CeH7PNveglF",
        "colab_type": "code",
        "outputId": "d802252a-ad99-4b51-ee48-3c38411f458b",
        "colab": {
          "base_uri": "https://localhost:8080/",
          "height": 204
        }
      },
      "source": [
        "df = df.drop(columns=['geo', 'country'], axis='columns')\n",
        "df.head()"
      ],
      "execution_count": 21,
      "outputs": [
        {
          "output_type": "execute_result",
          "data": {
            "text/html": [
              "<div>\n",
              "<style scoped>\n",
              "    .dataframe tbody tr th:only-of-type {\n",
              "        vertical-align: middle;\n",
              "    }\n",
              "\n",
              "    .dataframe tbody tr th {\n",
              "        vertical-align: top;\n",
              "    }\n",
              "\n",
              "    .dataframe thead th {\n",
              "        text-align: right;\n",
              "    }\n",
              "</style>\n",
              "<table border=\"1\" class=\"dataframe\">\n",
              "  <thead>\n",
              "    <tr style=\"text-align: right;\">\n",
              "      <th></th>\n",
              "      <th>time</th>\n",
              "      <th>income_per_person_gdppercapita_ppp_inflation_adjusted</th>\n",
              "      <th>life_expectancy_years</th>\n",
              "      <th>population_total</th>\n",
              "      <th>name</th>\n",
              "      <th>world_6region</th>\n",
              "    </tr>\n",
              "  </thead>\n",
              "  <tbody>\n",
              "    <tr>\n",
              "      <th>0</th>\n",
              "      <td>1800</td>\n",
              "      <td>603</td>\n",
              "      <td>28.21</td>\n",
              "      <td>3280000</td>\n",
              "      <td>Afghanistan</td>\n",
              "      <td>south_asia</td>\n",
              "    </tr>\n",
              "    <tr>\n",
              "      <th>1</th>\n",
              "      <td>1801</td>\n",
              "      <td>603</td>\n",
              "      <td>28.20</td>\n",
              "      <td>3280000</td>\n",
              "      <td>Afghanistan</td>\n",
              "      <td>south_asia</td>\n",
              "    </tr>\n",
              "    <tr>\n",
              "      <th>2</th>\n",
              "      <td>1802</td>\n",
              "      <td>603</td>\n",
              "      <td>28.19</td>\n",
              "      <td>3280000</td>\n",
              "      <td>Afghanistan</td>\n",
              "      <td>south_asia</td>\n",
              "    </tr>\n",
              "    <tr>\n",
              "      <th>3</th>\n",
              "      <td>1803</td>\n",
              "      <td>603</td>\n",
              "      <td>28.18</td>\n",
              "      <td>3280000</td>\n",
              "      <td>Afghanistan</td>\n",
              "      <td>south_asia</td>\n",
              "    </tr>\n",
              "    <tr>\n",
              "      <th>4</th>\n",
              "      <td>1804</td>\n",
              "      <td>603</td>\n",
              "      <td>28.17</td>\n",
              "      <td>3280000</td>\n",
              "      <td>Afghanistan</td>\n",
              "      <td>south_asia</td>\n",
              "    </tr>\n",
              "  </tbody>\n",
              "</table>\n",
              "</div>"
            ],
            "text/plain": [
              "   time  income_per_person_gdppercapita_ppp_inflation_adjusted  \\\n",
              "0  1800                                                603       \n",
              "1  1801                                                603       \n",
              "2  1802                                                603       \n",
              "3  1803                                                603       \n",
              "4  1804                                                603       \n",
              "\n",
              "   life_expectancy_years  population_total         name world_6region  \n",
              "0                  28.21           3280000  Afghanistan    south_asia  \n",
              "1                  28.20           3280000  Afghanistan    south_asia  \n",
              "2                  28.19           3280000  Afghanistan    south_asia  \n",
              "3                  28.18           3280000  Afghanistan    south_asia  \n",
              "4                  28.17           3280000  Afghanistan    south_asia  "
            ]
          },
          "metadata": {
            "tags": []
          },
          "execution_count": 21
        }
      ]
    },
    {
      "cell_type": "code",
      "metadata": {
        "id": "KEC6Zd5Mhizv",
        "colab_type": "code",
        "outputId": "58bc2bdd-031f-452d-be89-889a03ad5bf7",
        "colab": {
          "base_uri": "https://localhost:8080/",
          "height": 204
        }
      },
      "source": [
        "df = df.rename(columns={\n",
        "    'time': 'year',\n",
        "    'income_per_person_gdppercapita_ppp_inflation_adjusted': 'income',\n",
        "    'life_expectancy_years': 'lifespan',\n",
        "    'population_total': 'population',\n",
        "    'world_6region': 'region'\n",
        "})\n",
        "\n",
        "df.tail()"
      ],
      "execution_count": 22,
      "outputs": [
        {
          "output_type": "execute_result",
          "data": {
            "text/html": [
              "<div>\n",
              "<style scoped>\n",
              "    .dataframe tbody tr th:only-of-type {\n",
              "        vertical-align: middle;\n",
              "    }\n",
              "\n",
              "    .dataframe tbody tr th {\n",
              "        vertical-align: top;\n",
              "    }\n",
              "\n",
              "    .dataframe thead th {\n",
              "        text-align: right;\n",
              "    }\n",
              "</style>\n",
              "<table border=\"1\" class=\"dataframe\">\n",
              "  <thead>\n",
              "    <tr style=\"text-align: right;\">\n",
              "      <th></th>\n",
              "      <th>year</th>\n",
              "      <th>income</th>\n",
              "      <th>lifespan</th>\n",
              "      <th>population</th>\n",
              "      <th>name</th>\n",
              "      <th>region</th>\n",
              "    </tr>\n",
              "  </thead>\n",
              "  <tbody>\n",
              "    <tr>\n",
              "      <th>40432</th>\n",
              "      <td>2014</td>\n",
              "      <td>1908</td>\n",
              "      <td>56.99</td>\n",
              "      <td>15411675</td>\n",
              "      <td>Zimbabwe</td>\n",
              "      <td>sub_saharan_africa</td>\n",
              "    </tr>\n",
              "    <tr>\n",
              "      <th>40433</th>\n",
              "      <td>2015</td>\n",
              "      <td>1891</td>\n",
              "      <td>58.27</td>\n",
              "      <td>15777451</td>\n",
              "      <td>Zimbabwe</td>\n",
              "      <td>sub_saharan_africa</td>\n",
              "    </tr>\n",
              "    <tr>\n",
              "      <th>40434</th>\n",
              "      <td>2016</td>\n",
              "      <td>1860</td>\n",
              "      <td>59.27</td>\n",
              "      <td>16150362</td>\n",
              "      <td>Zimbabwe</td>\n",
              "      <td>sub_saharan_africa</td>\n",
              "    </tr>\n",
              "    <tr>\n",
              "      <th>40435</th>\n",
              "      <td>2017</td>\n",
              "      <td>1907</td>\n",
              "      <td>59.80</td>\n",
              "      <td>16529904</td>\n",
              "      <td>Zimbabwe</td>\n",
              "      <td>sub_saharan_africa</td>\n",
              "    </tr>\n",
              "    <tr>\n",
              "      <th>40436</th>\n",
              "      <td>2018</td>\n",
              "      <td>1952</td>\n",
              "      <td>60.18</td>\n",
              "      <td>16913261</td>\n",
              "      <td>Zimbabwe</td>\n",
              "      <td>sub_saharan_africa</td>\n",
              "    </tr>\n",
              "  </tbody>\n",
              "</table>\n",
              "</div>"
            ],
            "text/plain": [
              "       year  income  lifespan  population      name              region\n",
              "40432  2014    1908     56.99    15411675  Zimbabwe  sub_saharan_africa\n",
              "40433  2015    1891     58.27    15777451  Zimbabwe  sub_saharan_africa\n",
              "40434  2016    1860     59.27    16150362  Zimbabwe  sub_saharan_africa\n",
              "40435  2017    1907     59.80    16529904  Zimbabwe  sub_saharan_africa\n",
              "40436  2018    1952     60.18    16913261  Zimbabwe  sub_saharan_africa"
            ]
          },
          "metadata": {
            "tags": []
          },
          "execution_count": 22
        }
      ]
    },
    {
      "cell_type": "code",
      "metadata": {
        "id": "DJAg99OgkIXD",
        "colab_type": "code",
        "outputId": "d7095c93-c602-49d4-a03d-82e11201b1c4",
        "colab": {
          "base_uri": "https://localhost:8080/",
          "height": 204
        }
      },
      "source": [
        "df['region'] = df['region'].replace('_', ' ', regex=True).str.title()\n",
        "df.tail()"
      ],
      "execution_count": 23,
      "outputs": [
        {
          "output_type": "execute_result",
          "data": {
            "text/html": [
              "<div>\n",
              "<style scoped>\n",
              "    .dataframe tbody tr th:only-of-type {\n",
              "        vertical-align: middle;\n",
              "    }\n",
              "\n",
              "    .dataframe tbody tr th {\n",
              "        vertical-align: top;\n",
              "    }\n",
              "\n",
              "    .dataframe thead th {\n",
              "        text-align: right;\n",
              "    }\n",
              "</style>\n",
              "<table border=\"1\" class=\"dataframe\">\n",
              "  <thead>\n",
              "    <tr style=\"text-align: right;\">\n",
              "      <th></th>\n",
              "      <th>year</th>\n",
              "      <th>income</th>\n",
              "      <th>lifespan</th>\n",
              "      <th>population</th>\n",
              "      <th>name</th>\n",
              "      <th>region</th>\n",
              "    </tr>\n",
              "  </thead>\n",
              "  <tbody>\n",
              "    <tr>\n",
              "      <th>40432</th>\n",
              "      <td>2014</td>\n",
              "      <td>1908</td>\n",
              "      <td>56.99</td>\n",
              "      <td>15411675</td>\n",
              "      <td>Zimbabwe</td>\n",
              "      <td>Sub Saharan Africa</td>\n",
              "    </tr>\n",
              "    <tr>\n",
              "      <th>40433</th>\n",
              "      <td>2015</td>\n",
              "      <td>1891</td>\n",
              "      <td>58.27</td>\n",
              "      <td>15777451</td>\n",
              "      <td>Zimbabwe</td>\n",
              "      <td>Sub Saharan Africa</td>\n",
              "    </tr>\n",
              "    <tr>\n",
              "      <th>40434</th>\n",
              "      <td>2016</td>\n",
              "      <td>1860</td>\n",
              "      <td>59.27</td>\n",
              "      <td>16150362</td>\n",
              "      <td>Zimbabwe</td>\n",
              "      <td>Sub Saharan Africa</td>\n",
              "    </tr>\n",
              "    <tr>\n",
              "      <th>40435</th>\n",
              "      <td>2017</td>\n",
              "      <td>1907</td>\n",
              "      <td>59.80</td>\n",
              "      <td>16529904</td>\n",
              "      <td>Zimbabwe</td>\n",
              "      <td>Sub Saharan Africa</td>\n",
              "    </tr>\n",
              "    <tr>\n",
              "      <th>40436</th>\n",
              "      <td>2018</td>\n",
              "      <td>1952</td>\n",
              "      <td>60.18</td>\n",
              "      <td>16913261</td>\n",
              "      <td>Zimbabwe</td>\n",
              "      <td>Sub Saharan Africa</td>\n",
              "    </tr>\n",
              "  </tbody>\n",
              "</table>\n",
              "</div>"
            ],
            "text/plain": [
              "       year  income  lifespan  population      name              region\n",
              "40432  2014    1908     56.99    15411675  Zimbabwe  Sub Saharan Africa\n",
              "40433  2015    1891     58.27    15777451  Zimbabwe  Sub Saharan Africa\n",
              "40434  2016    1860     59.27    16150362  Zimbabwe  Sub Saharan Africa\n",
              "40435  2017    1907     59.80    16529904  Zimbabwe  Sub Saharan Africa\n",
              "40436  2018    1952     60.18    16913261  Zimbabwe  Sub Saharan Africa"
            ]
          },
          "metadata": {
            "tags": []
          },
          "execution_count": 23
        }
      ]
    },
    {
      "cell_type": "code",
      "metadata": {
        "id": "xlOPrZ5BkW4_",
        "colab_type": "code",
        "outputId": "ae46496b-c111-4d65-f4ca-574d87d0cf8a",
        "colab": {
          "base_uri": "https://localhost:8080/",
          "height": 297
        }
      },
      "source": [
        "df.describe()"
      ],
      "execution_count": 24,
      "outputs": [
        {
          "output_type": "execute_result",
          "data": {
            "text/html": [
              "<div>\n",
              "<style scoped>\n",
              "    .dataframe tbody tr th:only-of-type {\n",
              "        vertical-align: middle;\n",
              "    }\n",
              "\n",
              "    .dataframe tbody tr th {\n",
              "        vertical-align: top;\n",
              "    }\n",
              "\n",
              "    .dataframe thead th {\n",
              "        text-align: right;\n",
              "    }\n",
              "</style>\n",
              "<table border=\"1\" class=\"dataframe\">\n",
              "  <thead>\n",
              "    <tr style=\"text-align: right;\">\n",
              "      <th></th>\n",
              "      <th>year</th>\n",
              "      <th>income</th>\n",
              "      <th>lifespan</th>\n",
              "      <th>population</th>\n",
              "    </tr>\n",
              "  </thead>\n",
              "  <tbody>\n",
              "    <tr>\n",
              "      <th>count</th>\n",
              "      <td>40437.000000</td>\n",
              "      <td>40437.000000</td>\n",
              "      <td>40437.000000</td>\n",
              "      <td>4.043700e+04</td>\n",
              "    </tr>\n",
              "    <tr>\n",
              "      <th>mean</th>\n",
              "      <td>1909.292900</td>\n",
              "      <td>4619.492717</td>\n",
              "      <td>43.132080</td>\n",
              "      <td>1.371204e+07</td>\n",
              "    </tr>\n",
              "    <tr>\n",
              "      <th>std</th>\n",
              "      <td>63.308682</td>\n",
              "      <td>10209.571045</td>\n",
              "      <td>16.313228</td>\n",
              "      <td>6.606335e+07</td>\n",
              "    </tr>\n",
              "    <tr>\n",
              "      <th>min</th>\n",
              "      <td>1800.000000</td>\n",
              "      <td>247.000000</td>\n",
              "      <td>1.000000</td>\n",
              "      <td>2.128000e+03</td>\n",
              "    </tr>\n",
              "    <tr>\n",
              "      <th>25%</th>\n",
              "      <td>1854.000000</td>\n",
              "      <td>876.000000</td>\n",
              "      <td>31.160000</td>\n",
              "      <td>4.113310e+05</td>\n",
              "    </tr>\n",
              "    <tr>\n",
              "      <th>50%</th>\n",
              "      <td>1909.000000</td>\n",
              "      <td>1442.000000</td>\n",
              "      <td>35.500000</td>\n",
              "      <td>1.985952e+06</td>\n",
              "    </tr>\n",
              "    <tr>\n",
              "      <th>75%</th>\n",
              "      <td>1964.000000</td>\n",
              "      <td>3488.000000</td>\n",
              "      <td>55.970000</td>\n",
              "      <td>6.499707e+06</td>\n",
              "    </tr>\n",
              "    <tr>\n",
              "      <th>max</th>\n",
              "      <td>2018.000000</td>\n",
              "      <td>177522.000000</td>\n",
              "      <td>84.170000</td>\n",
              "      <td>1.415046e+09</td>\n",
              "    </tr>\n",
              "  </tbody>\n",
              "</table>\n",
              "</div>"
            ],
            "text/plain": [
              "               year         income      lifespan    population\n",
              "count  40437.000000   40437.000000  40437.000000  4.043700e+04\n",
              "mean    1909.292900    4619.492717     43.132080  1.371204e+07\n",
              "std       63.308682   10209.571045     16.313228  6.606335e+07\n",
              "min     1800.000000     247.000000      1.000000  2.128000e+03\n",
              "25%     1854.000000     876.000000     31.160000  4.113310e+05\n",
              "50%     1909.000000    1442.000000     35.500000  1.985952e+06\n",
              "75%     1964.000000    3488.000000     55.970000  6.499707e+06\n",
              "max     2018.000000  177522.000000     84.170000  1.415046e+09"
            ]
          },
          "metadata": {
            "tags": []
          },
          "execution_count": 24
        }
      ]
    },
    {
      "cell_type": "code",
      "metadata": {
        "id": "wttTGThXlXYW",
        "colab_type": "code",
        "outputId": "89c6f476-ee2a-4f6c-beac-ce4879bb4de7",
        "colab": {
          "base_uri": "https://localhost:8080/",
          "height": 102
        }
      },
      "source": [
        "df.skew()"
      ],
      "execution_count": 25,
      "outputs": [
        {
          "output_type": "execute_result",
          "data": {
            "text/plain": [
              "year          -0.005098\n",
              "income         6.300582\n",
              "lifespan       0.825236\n",
              "population    13.031487\n",
              "dtype: float64"
            ]
          },
          "metadata": {
            "tags": []
          },
          "execution_count": 25
        }
      ]
    },
    {
      "cell_type": "code",
      "metadata": {
        "id": "deLeJVfGlZnK",
        "colab_type": "code",
        "outputId": "c8655f10-2a8b-41c4-dc93-32e5127f9379",
        "colab": {
          "base_uri": "https://localhost:8080/",
          "height": 102
        }
      },
      "source": [
        "df[df['year'] == 2018].skew()"
      ],
      "execution_count": 28,
      "outputs": [
        {
          "output_type": "execute_result",
          "data": {
            "text/plain": [
              "year          0.000000\n",
              "income        2.056521\n",
              "lifespan     -0.506461\n",
              "population    8.224550\n",
              "dtype: float64"
            ]
          },
          "metadata": {
            "tags": []
          },
          "execution_count": 28
        }
      ]
    },
    {
      "cell_type": "code",
      "metadata": {
        "id": "DpnlT2kKlf_k",
        "colab_type": "code",
        "outputId": "b517e6f7-50b8-4e5c-83a5-36e77e368fa1",
        "colab": {
          "base_uri": "https://localhost:8080/",
          "height": 102
        }
      },
      "source": [
        "df[df['year'] == 1800].skew()"
      ],
      "execution_count": 29,
      "outputs": [
        {
          "output_type": "execute_result",
          "data": {
            "text/plain": [
              "year           0.000000\n",
              "income         2.709177\n",
              "lifespan       0.090251\n",
              "population    10.199690\n",
              "dtype: float64"
            ]
          },
          "metadata": {
            "tags": []
          },
          "execution_count": 29
        }
      ]
    },
    {
      "cell_type": "code",
      "metadata": {
        "id": "aYkdUgdqlkbJ",
        "colab_type": "code",
        "outputId": "1b9bbbb7-79ce-4577-d5e0-4351fcdbaf09",
        "colab": {
          "base_uri": "https://localhost:8080/",
          "height": 173
        }
      },
      "source": [
        "df.describe(exclude='number')"
      ],
      "execution_count": 30,
      "outputs": [
        {
          "output_type": "execute_result",
          "data": {
            "text/html": [
              "<div>\n",
              "<style scoped>\n",
              "    .dataframe tbody tr th:only-of-type {\n",
              "        vertical-align: middle;\n",
              "    }\n",
              "\n",
              "    .dataframe tbody tr th {\n",
              "        vertical-align: top;\n",
              "    }\n",
              "\n",
              "    .dataframe thead th {\n",
              "        text-align: right;\n",
              "    }\n",
              "</style>\n",
              "<table border=\"1\" class=\"dataframe\">\n",
              "  <thead>\n",
              "    <tr style=\"text-align: right;\">\n",
              "      <th></th>\n",
              "      <th>name</th>\n",
              "      <th>region</th>\n",
              "    </tr>\n",
              "  </thead>\n",
              "  <tbody>\n",
              "    <tr>\n",
              "      <th>count</th>\n",
              "      <td>40437</td>\n",
              "      <td>40437</td>\n",
              "    </tr>\n",
              "    <tr>\n",
              "      <th>unique</th>\n",
              "      <td>187</td>\n",
              "      <td>6</td>\n",
              "    </tr>\n",
              "    <tr>\n",
              "      <th>top</th>\n",
              "      <td>Samoa</td>\n",
              "      <td>Europe Central Asia</td>\n",
              "    </tr>\n",
              "    <tr>\n",
              "      <th>freq</th>\n",
              "      <td>219</td>\n",
              "      <td>10778</td>\n",
              "    </tr>\n",
              "  </tbody>\n",
              "</table>\n",
              "</div>"
            ],
            "text/plain": [
              "         name               region\n",
              "count   40437                40437\n",
              "unique    187                    6\n",
              "top     Samoa  Europe Central Asia\n",
              "freq      219                10778"
            ]
          },
          "metadata": {
            "tags": []
          },
          "execution_count": 30
        }
      ]
    },
    {
      "cell_type": "code",
      "metadata": {
        "id": "3tkWvlC-ln_2",
        "colab_type": "code",
        "outputId": "c7dc31b8-a456-4004-ca67-f71b5b293ad8",
        "colab": {
          "base_uri": "https://localhost:8080/",
          "height": 204
        }
      },
      "source": [
        "usa = df[df['name'] == 'United States']\n",
        "usa.head()"
      ],
      "execution_count": 31,
      "outputs": [
        {
          "output_type": "execute_result",
          "data": {
            "text/html": [
              "<div>\n",
              "<style scoped>\n",
              "    .dataframe tbody tr th:only-of-type {\n",
              "        vertical-align: middle;\n",
              "    }\n",
              "\n",
              "    .dataframe tbody tr th {\n",
              "        vertical-align: top;\n",
              "    }\n",
              "\n",
              "    .dataframe thead th {\n",
              "        text-align: right;\n",
              "    }\n",
              "</style>\n",
              "<table border=\"1\" class=\"dataframe\">\n",
              "  <thead>\n",
              "    <tr style=\"text-align: right;\">\n",
              "      <th></th>\n",
              "      <th>year</th>\n",
              "      <th>income</th>\n",
              "      <th>lifespan</th>\n",
              "      <th>population</th>\n",
              "      <th>name</th>\n",
              "      <th>region</th>\n",
              "    </tr>\n",
              "  </thead>\n",
              "  <tbody>\n",
              "    <tr>\n",
              "      <th>38028</th>\n",
              "      <td>1800</td>\n",
              "      <td>2127</td>\n",
              "      <td>39.41</td>\n",
              "      <td>6801854</td>\n",
              "      <td>United States</td>\n",
              "      <td>America</td>\n",
              "    </tr>\n",
              "    <tr>\n",
              "      <th>38029</th>\n",
              "      <td>1801</td>\n",
              "      <td>2167</td>\n",
              "      <td>39.41</td>\n",
              "      <td>6933517</td>\n",
              "      <td>United States</td>\n",
              "      <td>America</td>\n",
              "    </tr>\n",
              "    <tr>\n",
              "      <th>38030</th>\n",
              "      <td>1802</td>\n",
              "      <td>2202</td>\n",
              "      <td>39.41</td>\n",
              "      <td>7067728</td>\n",
              "      <td>United States</td>\n",
              "      <td>America</td>\n",
              "    </tr>\n",
              "    <tr>\n",
              "      <th>38031</th>\n",
              "      <td>1803</td>\n",
              "      <td>2166</td>\n",
              "      <td>39.41</td>\n",
              "      <td>7204538</td>\n",
              "      <td>United States</td>\n",
              "      <td>America</td>\n",
              "    </tr>\n",
              "    <tr>\n",
              "      <th>38032</th>\n",
              "      <td>1804</td>\n",
              "      <td>2165</td>\n",
              "      <td>39.41</td>\n",
              "      <td>7343995</td>\n",
              "      <td>United States</td>\n",
              "      <td>America</td>\n",
              "    </tr>\n",
              "  </tbody>\n",
              "</table>\n",
              "</div>"
            ],
            "text/plain": [
              "       year  income  lifespan  population           name   region\n",
              "38028  1800    2127     39.41     6801854  United States  America\n",
              "38029  1801    2167     39.41     6933517  United States  America\n",
              "38030  1802    2202     39.41     7067728  United States  America\n",
              "38031  1803    2166     39.41     7204538  United States  America\n",
              "38032  1804    2165     39.41     7343995  United States  America"
            ]
          },
          "metadata": {
            "tags": []
          },
          "execution_count": 31
        }
      ]
    },
    {
      "cell_type": "code",
      "metadata": {
        "id": "dCmYbyHSlyJZ",
        "colab_type": "code",
        "outputId": "e5b0f187-e2a5-4585-bd1b-0c3159cb8d5d",
        "colab": {
          "base_uri": "https://localhost:8080/",
          "height": 142
        }
      },
      "source": [
        "usa[usa['year'].isin([1818, 1918, 2018])]"
      ],
      "execution_count": 32,
      "outputs": [
        {
          "output_type": "execute_result",
          "data": {
            "text/html": [
              "<div>\n",
              "<style scoped>\n",
              "    .dataframe tbody tr th:only-of-type {\n",
              "        vertical-align: middle;\n",
              "    }\n",
              "\n",
              "    .dataframe tbody tr th {\n",
              "        vertical-align: top;\n",
              "    }\n",
              "\n",
              "    .dataframe thead th {\n",
              "        text-align: right;\n",
              "    }\n",
              "</style>\n",
              "<table border=\"1\" class=\"dataframe\">\n",
              "  <thead>\n",
              "    <tr style=\"text-align: right;\">\n",
              "      <th></th>\n",
              "      <th>year</th>\n",
              "      <th>income</th>\n",
              "      <th>lifespan</th>\n",
              "      <th>population</th>\n",
              "      <th>name</th>\n",
              "      <th>region</th>\n",
              "    </tr>\n",
              "  </thead>\n",
              "  <tbody>\n",
              "    <tr>\n",
              "      <th>38046</th>\n",
              "      <td>1818</td>\n",
              "      <td>2258</td>\n",
              "      <td>39.41</td>\n",
              "      <td>9879049</td>\n",
              "      <td>United States</td>\n",
              "      <td>America</td>\n",
              "    </tr>\n",
              "    <tr>\n",
              "      <th>38146</th>\n",
              "      <td>1918</td>\n",
              "      <td>9371</td>\n",
              "      <td>47.18</td>\n",
              "      <td>106721812</td>\n",
              "      <td>United States</td>\n",
              "      <td>America</td>\n",
              "    </tr>\n",
              "    <tr>\n",
              "      <th>38246</th>\n",
              "      <td>2018</td>\n",
              "      <td>54898</td>\n",
              "      <td>79.14</td>\n",
              "      <td>326766748</td>\n",
              "      <td>United States</td>\n",
              "      <td>America</td>\n",
              "    </tr>\n",
              "  </tbody>\n",
              "</table>\n",
              "</div>"
            ],
            "text/plain": [
              "       year  income  lifespan  population           name   region\n",
              "38046  1818    2258     39.41     9879049  United States  America\n",
              "38146  1918    9371     47.18   106721812  United States  America\n",
              "38246  2018   54898     79.14   326766748  United States  America"
            ]
          },
          "metadata": {
            "tags": []
          },
          "execution_count": 32
        }
      ]
    },
    {
      "cell_type": "code",
      "metadata": {
        "id": "O2areyngoGr8",
        "colab_type": "code",
        "outputId": "e0c45b9a-1082-4ee2-827c-54414575faf6",
        "colab": {
          "base_uri": "https://localhost:8080/",
          "height": 142
        }
      },
      "source": [
        "china = df[df['name'] == 'China']\n",
        "china[china['year'].isin([1818, 1918, 2018])]"
      ],
      "execution_count": 33,
      "outputs": [
        {
          "output_type": "execute_result",
          "data": {
            "text/html": [
              "<div>\n",
              "<style scoped>\n",
              "    .dataframe tbody tr th:only-of-type {\n",
              "        vertical-align: middle;\n",
              "    }\n",
              "\n",
              "    .dataframe tbody tr th {\n",
              "        vertical-align: top;\n",
              "    }\n",
              "\n",
              "    .dataframe thead th {\n",
              "        text-align: right;\n",
              "    }\n",
              "</style>\n",
              "<table border=\"1\" class=\"dataframe\">\n",
              "  <thead>\n",
              "    <tr style=\"text-align: right;\">\n",
              "      <th></th>\n",
              "      <th>year</th>\n",
              "      <th>income</th>\n",
              "      <th>lifespan</th>\n",
              "      <th>population</th>\n",
              "      <th>name</th>\n",
              "      <th>region</th>\n",
              "    </tr>\n",
              "  </thead>\n",
              "  <tbody>\n",
              "    <tr>\n",
              "      <th>6854</th>\n",
              "      <td>1818</td>\n",
              "      <td>985</td>\n",
              "      <td>32.00</td>\n",
              "      <td>374161494</td>\n",
              "      <td>China</td>\n",
              "      <td>East Asia Pacific</td>\n",
              "    </tr>\n",
              "    <tr>\n",
              "      <th>6954</th>\n",
              "      <td>1918</td>\n",
              "      <td>989</td>\n",
              "      <td>22.13</td>\n",
              "      <td>462444535</td>\n",
              "      <td>China</td>\n",
              "      <td>East Asia Pacific</td>\n",
              "    </tr>\n",
              "    <tr>\n",
              "      <th>7054</th>\n",
              "      <td>2018</td>\n",
              "      <td>16018</td>\n",
              "      <td>76.92</td>\n",
              "      <td>1415045928</td>\n",
              "      <td>China</td>\n",
              "      <td>East Asia Pacific</td>\n",
              "    </tr>\n",
              "  </tbody>\n",
              "</table>\n",
              "</div>"
            ],
            "text/plain": [
              "      year  income  lifespan  population   name             region\n",
              "6854  1818     985     32.00   374161494  China  East Asia Pacific\n",
              "6954  1918     989     22.13   462444535  China  East Asia Pacific\n",
              "7054  2018   16018     76.92  1415045928  China  East Asia Pacific"
            ]
          },
          "metadata": {
            "tags": []
          },
          "execution_count": 33
        }
      ]
    },
    {
      "cell_type": "markdown",
      "metadata": {
        "colab_type": "text",
        "id": "hecscpimY6Oz"
      },
      "source": [
        "## Plot visualization"
      ]
    },
    {
      "cell_type": "code",
      "metadata": {
        "id": "IcWSpUFtlWtY",
        "colab_type": "code",
        "colab": {
          "base_uri": "https://localhost:8080/",
          "height": 204
        },
        "outputId": "79660726-abc6-478a-bf63-f1de57c9dd3c"
      },
      "source": [
        "present = df[df['year'] == 2018]\n",
        "present.head()"
      ],
      "execution_count": 34,
      "outputs": [
        {
          "output_type": "execute_result",
          "data": {
            "text/html": [
              "<div>\n",
              "<style scoped>\n",
              "    .dataframe tbody tr th:only-of-type {\n",
              "        vertical-align: middle;\n",
              "    }\n",
              "\n",
              "    .dataframe tbody tr th {\n",
              "        vertical-align: top;\n",
              "    }\n",
              "\n",
              "    .dataframe thead th {\n",
              "        text-align: right;\n",
              "    }\n",
              "</style>\n",
              "<table border=\"1\" class=\"dataframe\">\n",
              "  <thead>\n",
              "    <tr style=\"text-align: right;\">\n",
              "      <th></th>\n",
              "      <th>year</th>\n",
              "      <th>income</th>\n",
              "      <th>lifespan</th>\n",
              "      <th>population</th>\n",
              "      <th>name</th>\n",
              "      <th>region</th>\n",
              "    </tr>\n",
              "  </thead>\n",
              "  <tbody>\n",
              "    <tr>\n",
              "      <th>218</th>\n",
              "      <td>2018</td>\n",
              "      <td>1867</td>\n",
              "      <td>58.69</td>\n",
              "      <td>36373176</td>\n",
              "      <td>Afghanistan</td>\n",
              "      <td>South Asia</td>\n",
              "    </tr>\n",
              "    <tr>\n",
              "      <th>437</th>\n",
              "      <td>2018</td>\n",
              "      <td>5846</td>\n",
              "      <td>65.19</td>\n",
              "      <td>30774205</td>\n",
              "      <td>Angola</td>\n",
              "      <td>Sub Saharan Africa</td>\n",
              "    </tr>\n",
              "    <tr>\n",
              "      <th>656</th>\n",
              "      <td>2018</td>\n",
              "      <td>12424</td>\n",
              "      <td>78.01</td>\n",
              "      <td>2934363</td>\n",
              "      <td>Albania</td>\n",
              "      <td>Europe Central Asia</td>\n",
              "    </tr>\n",
              "    <tr>\n",
              "      <th>922</th>\n",
              "      <td>2018</td>\n",
              "      <td>68231</td>\n",
              "      <td>76.89</td>\n",
              "      <td>9541615</td>\n",
              "      <td>United Arab Emirates</td>\n",
              "      <td>Middle East North Africa</td>\n",
              "    </tr>\n",
              "    <tr>\n",
              "      <th>1141</th>\n",
              "      <td>2018</td>\n",
              "      <td>18942</td>\n",
              "      <td>76.97</td>\n",
              "      <td>44688864</td>\n",
              "      <td>Argentina</td>\n",
              "      <td>America</td>\n",
              "    </tr>\n",
              "  </tbody>\n",
              "</table>\n",
              "</div>"
            ],
            "text/plain": [
              "      year  income  lifespan  population                  name  \\\n",
              "218   2018    1867     58.69    36373176           Afghanistan   \n",
              "437   2018    5846     65.19    30774205                Angola   \n",
              "656   2018   12424     78.01     2934363               Albania   \n",
              "922   2018   68231     76.89     9541615  United Arab Emirates   \n",
              "1141  2018   18942     76.97    44688864             Argentina   \n",
              "\n",
              "                        region  \n",
              "218                 South Asia  \n",
              "437         Sub Saharan Africa  \n",
              "656        Europe Central Asia  \n",
              "922   Middle East North Africa  \n",
              "1141                   America  "
            ]
          },
          "metadata": {
            "tags": []
          },
          "execution_count": 34
        }
      ]
    },
    {
      "cell_type": "markdown",
      "metadata": {
        "colab_type": "text",
        "id": "8OFxenCdhocj"
      },
      "source": [
        "## Analyze outliers"
      ]
    },
    {
      "cell_type": "code",
      "metadata": {
        "colab_type": "code",
        "id": "D59bn-7k6-Io",
        "colab": {
          "base_uri": "https://localhost:8080/",
          "height": 379
        },
        "outputId": "d0810fbc-c2e7-4151-d2ad-ef03db423be7"
      },
      "source": [
        "present.hist()"
      ],
      "execution_count": 35,
      "outputs": [
        {
          "output_type": "execute_result",
          "data": {
            "text/plain": [
              "array([[<matplotlib.axes._subplots.AxesSubplot object at 0x7f21e8c6f0b8>,\n",
              "        <matplotlib.axes._subplots.AxesSubplot object at 0x7f21e84e5470>],\n",
              "       [<matplotlib.axes._subplots.AxesSubplot object at 0x7f21e85019e8>,\n",
              "        <matplotlib.axes._subplots.AxesSubplot object at 0x7f21e872bf60>]],\n",
              "      dtype=object)"
            ]
          },
          "metadata": {
            "tags": []
          },
          "execution_count": 35
        },
        {
          "output_type": "display_data",
          "data": {
            "image/png": "[encoded data removed]",
            "text/plain": [
              "<Figure size 432x288 with 4 Axes>"
            ]
          },
          "metadata": {
            "tags": []
          }
        }
      ]
    },
    {
      "cell_type": "code",
      "metadata": {
        "id": "pDSh8m5aucXx",
        "colab_type": "code",
        "colab": {
          "base_uri": "https://localhost:8080/",
          "height": 779
        },
        "outputId": "941d287d-cc0d-4c10-a045-3ea3f66b7808"
      },
      "source": [
        "pd.plotting.scatter_matrix(present);"
      ],
      "execution_count": 36,
      "outputs": [
        {
          "output_type": "stream",
          "text": [
            "/usr/local/lib/python3.6/dist-packages/pandas/plotting/_misc.py:100: UserWarning: Attempting to set identical left==right results\n",
            "in singular transformations; automatically expanding.\n",
            "left=2018.0, right=2018.0\n",
            "  ax.set_xlim(boundaries_list[i])\n",
            "/usr/local/lib/python3.6/dist-packages/pandas/plotting/_misc.py:109: UserWarning: Attempting to set identical bottom==top results\n",
            "in singular transformations; automatically expanding.\n",
            "bottom=2018.0, top=2018.0\n",
            "  ax.set_ylim(boundaries_list[i])\n",
            "/usr/local/lib/python3.6/dist-packages/pandas/plotting/_misc.py:109: UserWarning: Attempting to set identical bottom==top results\n",
            "in singular transformations; automatically expanding.\n",
            "bottom=2018.0, top=2018.0\n",
            "  ax.set_ylim(boundaries_list[i])\n",
            "/usr/local/lib/python3.6/dist-packages/pandas/plotting/_misc.py:109: UserWarning: Attempting to set identical bottom==top results\n",
            "in singular transformations; automatically expanding.\n",
            "bottom=2018.0, top=2018.0\n",
            "  ax.set_ylim(boundaries_list[i])\n",
            "/usr/local/lib/python3.6/dist-packages/pandas/plotting/_misc.py:108: UserWarning: Attempting to set identical left==right results\n",
            "in singular transformations; automatically expanding.\n",
            "left=2018.0, right=2018.0\n",
            "  ax.set_xlim(boundaries_list[j])\n",
            "/usr/local/lib/python3.6/dist-packages/pandas/plotting/_misc.py:108: UserWarning: Attempting to set identical left==right results\n",
            "in singular transformations; automatically expanding.\n",
            "left=2018.0, right=2018.0\n",
            "  ax.set_xlim(boundaries_list[j])\n",
            "/usr/local/lib/python3.6/dist-packages/pandas/plotting/_misc.py:108: UserWarning: Attempting to set identical left==right results\n",
            "in singular transformations; automatically expanding.\n",
            "left=2018.0, right=2018.0\n",
            "  ax.set_xlim(boundaries_list[j])\n"
          ],
          "name": "stderr"
        },
        {
          "output_type": "display_data",
          "data": {
            "image/png": "[encoded data removed]",
            "text/plain": [
              "<Figure size 432x288 with 16 Axes>"
            ]
          },
          "metadata": {
            "tags": []
          }
        }
      ]
    },
    {
      "cell_type": "markdown",
      "metadata": {
        "colab_type": "text",
        "id": "DNTMMBkVhrGk"
      },
      "source": [
        "## Plot multiple years"
      ]
    },
    {
      "cell_type": "code",
      "metadata": {
        "colab_type": "code",
        "id": "JkTUmYGF7BQt",
        "colab": {}
      },
      "source": [
        "import seaborn as sns"
      ],
      "execution_count": 0,
      "outputs": []
    },
    {
      "cell_type": "code",
      "metadata": {
        "id": "Ar7U7M5VxZbW",
        "colab_type": "code",
        "colab": {
          "base_uri": "https://localhost:8080/",
          "height": 386
        },
        "outputId": "1fc556c0-05f7-43b3-902f-f595ab10bbf1"
      },
      "source": [
        "sns.relplot(x='income', y='lifespan', hue='region', size='population', data=present)"
      ],
      "execution_count": 38,
      "outputs": [
        {
          "output_type": "execute_result",
          "data": {
            "text/plain": [
              "<seaborn.axisgrid.FacetGrid at 0x7f21e8b8f8d0>"
            ]
          },
          "metadata": {
            "tags": []
          },
          "execution_count": 38
        },
        {
          "output_type": "display_data",
          "data": {
            "image/png": "[encoded data removed]",
            "text/plain": [
              "<Figure size 517.125x360 with 1 Axes>"
            ]
          },
          "metadata": {
            "tags": []
          }
        }
      ]
    },
    {
      "cell_type": "code",
      "metadata": {
        "id": "lRWm6asQxkml",
        "colab_type": "code",
        "colab": {
          "base_uri": "https://localhost:8080/",
          "height": 119
        },
        "outputId": "6e8eb558-b345-4d46-a100-f6258c575d53"
      },
      "source": [
        "present['log_income'] = np.log(present['income'])"
      ],
      "execution_count": 39,
      "outputs": [
        {
          "output_type": "stream",
          "text": [
            "/usr/local/lib/python3.6/dist-packages/ipykernel_launcher.py:1: SettingWithCopyWarning: \n",
            "A value is trying to be set on a copy of a slice from a DataFrame.\n",
            "Try using .loc[row_indexer,col_indexer] = value instead\n",
            "\n",
            "See the caveats in the documentation: http://pandas.pydata.org/pandas-docs/stable/indexing.html#indexing-view-versus-copy\n",
            "  \"\"\"Entry point for launching an IPython kernel.\n"
          ],
          "name": "stderr"
        }
      ]
    },
    {
      "cell_type": "code",
      "metadata": {
        "id": "0MdO84FexyRe",
        "colab_type": "code",
        "colab": {
          "base_uri": "https://localhost:8080/",
          "height": 286
        },
        "outputId": "cbc5bfed-f72c-4899-f1cf-f5742cbfb7c8"
      },
      "source": [
        "present.income.hist()"
      ],
      "execution_count": 40,
      "outputs": [
        {
          "output_type": "execute_result",
          "data": {
            "text/plain": [
              "<matplotlib.axes._subplots.AxesSubplot at 0x7f21e5c5fcf8>"
            ]
          },
          "metadata": {
            "tags": []
          },
          "execution_count": 40
        },
        {
          "output_type": "display_data",
          "data": {
            "image/png": "[encoded data removed]",
            "text/plain": [
              "<Figure size 432x288 with 1 Axes>"
            ]
          },
          "metadata": {
            "tags": []
          }
        }
      ]
    },
    {
      "cell_type": "code",
      "metadata": {
        "id": "nDOPoEfXx07t",
        "colab_type": "code",
        "colab": {
          "base_uri": "https://localhost:8080/",
          "height": 286
        },
        "outputId": "e4ff995d-7423-46fd-aa46-37b194d5eaa0"
      },
      "source": [
        "present.log_income.hist()"
      ],
      "execution_count": 41,
      "outputs": [
        {
          "output_type": "execute_result",
          "data": {
            "text/plain": [
              "<matplotlib.axes._subplots.AxesSubplot at 0x7f21e5bf1630>"
            ]
          },
          "metadata": {
            "tags": []
          },
          "execution_count": 41
        },
        {
          "output_type": "display_data",
          "data": {
            "image/png": "[encoded data removed]",
            "text/plain": [
              "<Figure size 432x288 with 1 Axes>"
            ]
          },
          "metadata": {
            "tags": []
          }
        }
      ]
    },
    {
      "cell_type": "code",
      "metadata": {
        "id": "gusN5FJPx4R8",
        "colab_type": "code",
        "colab": {
          "base_uri": "https://localhost:8080/",
          "height": 386
        },
        "outputId": "b8ca0e89-1330-4910-bb92-b9229220be4f"
      },
      "source": [
        "sns.relplot(x='log_income', y='lifespan', hue='region', size='population', data=present)"
      ],
      "execution_count": 43,
      "outputs": [
        {
          "output_type": "execute_result",
          "data": {
            "text/plain": [
              "<seaborn.axisgrid.FacetGrid at 0x7f21e86939e8>"
            ]
          },
          "metadata": {
            "tags": []
          },
          "execution_count": 43
        },
        {
          "output_type": "display_data",
          "data": {
            "image/png": "[encoded data removed]",
            "text/plain": [
              "<Figure size 517.125x360 with 1 Axes>"
            ]
          },
          "metadata": {
            "tags": []
          }
        }
      ]
    },
    {
      "cell_type": "code",
      "metadata": {
        "id": "wX5R5jGgyFM2",
        "colab_type": "code",
        "colab": {
          "base_uri": "https://localhost:8080/",
          "height": 297
        },
        "outputId": "e12cbcbe-0d2d-4f1d-a33d-5aba95845d01"
      },
      "source": [
        "present[present['log_income'] >= 11].sort_values(by='log_income')"
      ],
      "execution_count": 44,
      "outputs": [
        {
          "output_type": "execute_result",
          "data": {
            "text/html": [
              "<div>\n",
              "<style scoped>\n",
              "    .dataframe tbody tr th:only-of-type {\n",
              "        vertical-align: middle;\n",
              "    }\n",
              "\n",
              "    .dataframe tbody tr th {\n",
              "        vertical-align: top;\n",
              "    }\n",
              "\n",
              "    .dataframe thead th {\n",
              "        text-align: right;\n",
              "    }\n",
              "</style>\n",
              "<table border=\"1\" class=\"dataframe\">\n",
              "  <thead>\n",
              "    <tr style=\"text-align: right;\">\n",
              "      <th></th>\n",
              "      <th>year</th>\n",
              "      <th>income</th>\n",
              "      <th>lifespan</th>\n",
              "      <th>population</th>\n",
              "      <th>name</th>\n",
              "      <th>region</th>\n",
              "      <th>log_income</th>\n",
              "    </tr>\n",
              "  </thead>\n",
              "  <tbody>\n",
              "    <tr>\n",
              "      <th>27296</th>\n",
              "      <td>2018</td>\n",
              "      <td>64846</td>\n",
              "      <td>82.39</td>\n",
              "      <td>5353363</td>\n",
              "      <td>Norway</td>\n",
              "      <td>Europe Central Asia</td>\n",
              "      <td>11.079771</td>\n",
              "    </tr>\n",
              "    <tr>\n",
              "      <th>16956</th>\n",
              "      <td>2018</td>\n",
              "      <td>65622</td>\n",
              "      <td>81.49</td>\n",
              "      <td>4803748</td>\n",
              "      <td>Ireland</td>\n",
              "      <td>Europe Central Asia</td>\n",
              "      <td>11.091666</td>\n",
              "    </tr>\n",
              "    <tr>\n",
              "      <th>922</th>\n",
              "      <td>2018</td>\n",
              "      <td>68231</td>\n",
              "      <td>76.89</td>\n",
              "      <td>9541615</td>\n",
              "      <td>United Arab Emirates</td>\n",
              "      <td>Middle East North Africa</td>\n",
              "      <td>11.130654</td>\n",
              "    </tr>\n",
              "    <tr>\n",
              "      <th>20241</th>\n",
              "      <td>2018</td>\n",
              "      <td>68359</td>\n",
              "      <td>79.96</td>\n",
              "      <td>4197128</td>\n",
              "      <td>Kuwait</td>\n",
              "      <td>Middle East North Africa</td>\n",
              "      <td>11.132529</td>\n",
              "    </tr>\n",
              "    <tr>\n",
              "      <th>5521</th>\n",
              "      <td>2018</td>\n",
              "      <td>76943</td>\n",
              "      <td>77.36</td>\n",
              "      <td>434076</td>\n",
              "      <td>Brunei</td>\n",
              "      <td>East Asia Pacific</td>\n",
              "      <td>11.250820</td>\n",
              "    </tr>\n",
              "    <tr>\n",
              "      <th>31895</th>\n",
              "      <td>2018</td>\n",
              "      <td>83888</td>\n",
              "      <td>84.03</td>\n",
              "      <td>5791901</td>\n",
              "      <td>Singapore</td>\n",
              "      <td>East Asia Pacific</td>\n",
              "      <td>11.337238</td>\n",
              "    </tr>\n",
              "    <tr>\n",
              "      <th>22212</th>\n",
              "      <td>2018</td>\n",
              "      <td>99034</td>\n",
              "      <td>82.39</td>\n",
              "      <td>590321</td>\n",
              "      <td>Luxembourg</td>\n",
              "      <td>Europe Central Asia</td>\n",
              "      <td>11.503219</td>\n",
              "    </tr>\n",
              "    <tr>\n",
              "      <th>30362</th>\n",
              "      <td>2018</td>\n",
              "      <td>121033</td>\n",
              "      <td>80.71</td>\n",
              "      <td>2694849</td>\n",
              "      <td>Qatar</td>\n",
              "      <td>Middle East North Africa</td>\n",
              "      <td>11.703819</td>\n",
              "    </tr>\n",
              "  </tbody>\n",
              "</table>\n",
              "</div>"
            ],
            "text/plain": [
              "       year  income  lifespan  population                  name  \\\n",
              "27296  2018   64846     82.39     5353363                Norway   \n",
              "16956  2018   65622     81.49     4803748               Ireland   \n",
              "922    2018   68231     76.89     9541615  United Arab Emirates   \n",
              "20241  2018   68359     79.96     4197128                Kuwait   \n",
              "5521   2018   76943     77.36      434076                Brunei   \n",
              "31895  2018   83888     84.03     5791901             Singapore   \n",
              "22212  2018   99034     82.39      590321            Luxembourg   \n",
              "30362  2018  121033     80.71     2694849                 Qatar   \n",
              "\n",
              "                         region  log_income  \n",
              "27296       Europe Central Asia   11.079771  \n",
              "16956       Europe Central Asia   11.091666  \n",
              "922    Middle East North Africa   11.130654  \n",
              "20241  Middle East North Africa   11.132529  \n",
              "5521          East Asia Pacific   11.250820  \n",
              "31895         East Asia Pacific   11.337238  \n",
              "22212       Europe Central Asia   11.503219  \n",
              "30362  Middle East North Africa   11.703819  "
            ]
          },
          "metadata": {
            "tags": []
          },
          "execution_count": 44
        }
      ]
    },
    {
      "cell_type": "code",
      "metadata": {
        "id": "bB05iYZNykrP",
        "colab_type": "code",
        "colab": {
          "base_uri": "https://localhost:8080/",
          "height": 34
        },
        "outputId": "f70913c4-039f-4c9b-846f-806b7c5b84ee"
      },
      "source": [
        "qatar = present[present['name'] == 'Qatar']\n",
        "qatar_income = qatar['log_income'].iloc[0]\n",
        "qatar_lifespan = qatar['lifespan'].iloc[0]\n",
        "print(qatar_income, qatar_lifespan)"
      ],
      "execution_count": 47,
      "outputs": [
        {
          "output_type": "stream",
          "text": [
            "11.703818514668283 80.71\n"
          ],
          "name": "stdout"
        }
      ]
    },
    {
      "cell_type": "code",
      "metadata": {
        "id": "Z4EirKaNzFdP",
        "colab_type": "code",
        "colab": {
          "base_uri": "https://localhost:8080/",
          "height": 382
        },
        "outputId": "54818fbf-63cc-41d0-e136-c70f539ba511"
      },
      "source": [
        "sns.relplot(x='log_income', y='lifespan', hue='region', size='population', data=present)\n",
        "plt.text(x=qatar_income+.1, y=qatar_lifespan-.5, s='Qatar')\n",
        "plt.title(\"Qatar has the highest GDP per capita in 2018\");"
      ],
      "execution_count": 49,
      "outputs": [
        {
          "output_type": "display_data",
          "data": {
            "image/png": "[encoded data removed]",
            "text/plain": [
              "<Figure size 517.125x360 with 1 Axes>"
            ]
          },
          "metadata": {
            "tags": []
          }
        }
      ]
    },
    {
      "cell_type": "code",
      "metadata": {
        "id": "24Xs0cs8zijC",
        "colab_type": "code",
        "colab": {}
      },
      "source": [
        ""
      ],
      "execution_count": 0,
      "outputs": []
    },
    {
      "cell_type": "markdown",
      "metadata": {
        "colab_type": "text",
        "id": "BB1Ki0v6hxCA"
      },
      "source": [
        "## Point out a story"
      ]
    },
    {
      "cell_type": "code",
      "metadata": {
        "colab_type": "code",
        "id": "eSgZhD3v7HIe",
        "colab": {}
      },
      "source": [
        ""
      ],
      "execution_count": 0,
      "outputs": []
    },
    {
      "cell_type": "markdown",
      "metadata": {
        "id": "YpiMbOK7R6av",
        "colab_type": "text"
      },
      "source": [
        "# ASSIGNMENT\n",
        "Replicate the lesson code\n",
        "\n",
        "# STRETCH OPTIONS\n",
        "\n",
        "## 1. Animate!\n",
        "- [Making animations work in Google Colaboratory](https://medium.com/lambda-school-machine-learning/making-animations-work-in-google-colaboratory-new-home-for-ml-prototyping-c6147186ae75)\n",
        "- [How to Create Animated Graphs in Python](https://towardsdatascience.com/how-to-create-animated-graphs-in-python-bb619cc2dec1)\n",
        "- [The Ultimate Day of Chicago Bikeshare](https://chrisluedtke.github.io/divvy-data.html) (Lambda School Data Science student)\n",
        "\n",
        "## 2. Work on anything related to your portfolio site / project"
      ]
    }
  ]
}