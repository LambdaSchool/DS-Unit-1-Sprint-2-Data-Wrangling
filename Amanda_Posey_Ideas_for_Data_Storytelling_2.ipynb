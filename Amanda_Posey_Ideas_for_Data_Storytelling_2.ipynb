{
  "nbformat": 4,
  "nbformat_minor": 0,
  "metadata": {
    "colab": {
      "name": "Amanda Posey - Ideas for Data Storytelling 2",
      "version": "0.3.2",
      "provenance": [],
      "collapsed_sections": [],
      "include_colab_link": true
    },
    "kernelspec": {
      "name": "python3",
      "display_name": "Python 3"
    }
  },
  "cells": [
    {
      "cell_type": "markdown",
      "metadata": {
        "id": "view-in-github",
        "colab_type": "text"
      },
      "source": [
        "<a href=\"https://colab.research.google.com/github/aposey394/DS-Unit-1-Sprint-2-Data-Wrangling-and-Storytelling/blob/master/Amanda_Posey_Ideas_for_Data_Storytelling_2.ipynb\" target=\"_parent\"><img src=\"https://colab.research.google.com/assets/colab-badge.svg\" alt=\"Open In Colab\"/></a>"
      ]
    },
    {
      "cell_type": "markdown",
      "metadata": {
        "id": "tIBzQbuJCPZi",
        "colab_type": "text"
      },
      "source": [
        "# **Ideas for data storytelling**\n",
        "\n",
        "##You\n",
        "\n",
        "**What do you care about?**\n",
        "\n",
        "*Buffy the Vampire Slayer (TV series, not movie)*\n",
        "\n",
        "**What do you know about?**\n",
        "\n",
        "*Embarrasingly, I know almost every episode by heart.*\n",
        "\n",
        "**What decisions do you face?**\n",
        "\n",
        "*Buffy is gone, so there aren't a lot of choices left to make. There are things left to wonder, as a \"details person,\" though. How many vamps did she stake? How many demons did she kill? What is the kill count for the rest of the Scooby gang? Who comes in second? Who did almost nothing and didn't carry their weight? When did the show jump the shark?*\n",
        "\n",
        "## **Seven templates**\n",
        "\n",
        "Training Kit (https://learn.lambdaschool.com/ds/module/recedjanlbpqxic2r) explains the seven templates from Priceonomics.\n",
        "\n",
        "Can you apply the templates to your topics?\n",
        "\n",
        "\n",
        "1.   **Geographic Variation**\n",
        "\n",
        "\n",
        "2.   **Trend related to the news**\n",
        "\n",
        "\n",
        "3. **Who does that?**\n",
        "\n",
        "\n",
        "4. **Answering a question people care about**\n",
        "  *Well, I mean... Maybe? Do people who aren't me still care about Buffy?*\n",
        "\n",
        "5. **Valuable to businesses**\n",
        "\n",
        "\n",
        "6. **What's the most popular?**\n",
        "  *This one is a little more sensible. Most/least popular is kind of what I want to measure. Also, this will be similar to The Simpsons data, and this is the number assigned to that project.*\n",
        "\n",
        "7. **Cost/Money rankings**\n",
        "\n",
        "\n",
        "\n",
        "##Misconceptions\n",
        "\n",
        "**What misconceptions do people have about your topic?**\n",
        "\n",
        "*It's hard to have misconceptions about something as campy as Buffy. Let's be real. I guess many people don't realize that there are a whole lot of 30-something women who still love this show. I still watch it when I need a pick-me-up.*\n",
        "\n",
        "##Examples\n",
        "\n",
        "**What data storytelling example inspires you?**\n",
        "*The example about The Simpsons, obviously. I want to do something very similar, and I will need to follow that student's code pretty closely. I'll have to scrape the show's wiki to get my data, so I'll really be starting from scratch.*\n",
        "\n",
        "**Could you do a new hypothesis, for the same question?**\n",
        "*I'm only using his idea; not his data. I guess that qualifies as a new hypothesis, though.*\n",
        "\n",
        "**Could you do a new question, for the same topic?**\n",
        "*He pretty much extrapolated everything about The Simpsons from his data.*\n",
        "\n",
        "**Could you do a new topic, with the same \"style\"?**\n",
        "*I think this is the best way to categorize my plan. I'm going to borrow his style, for sure, but I'll be using his methods for an entirely different data set.*\n",
        "\n",
        "##Data\n",
        "\n",
        "**Where could you search for data about your topic?**\n",
        "\n",
        "*I'll have to scrape the show's wiki for the information. I could also use Wikipedia itself. In the end, I'll just have to see where the best/most organized data comes from.*\n",
        "\n",
        "##Assignment!\n",
        "\n",
        "Fill out the above template twice, for two different ideas.\n",
        "\n",
        "Then compare and contrast and select one as the idea you're leaning towards working on for your project week."
      ]
    },
    {
      "cell_type": "markdown",
      "metadata": {
        "id": "fPILN2QlI3nk",
        "colab_type": "text"
      },
      "source": [
        "#Compare and Contrast\n",
        "\n",
        "These are very similar project ideas. I will essentially modify The Simpsons code to get my data no matter which path I choose. I'm sure some of the questions have already been answered, but it will be neat to see if my data matches those answers. I think there's more interest in Buffy, so I have the potential to be seen by a larger audience when I publish my data. \n",
        "\n",
        "I will go after the Buffy project. I may revisit 'Lost' in the future, though. Or the past. (You have to be a fan to get it.)"
      ]
    }
  ]
}