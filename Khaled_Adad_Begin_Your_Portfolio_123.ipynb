{
  "nbformat": 4,
  "nbformat_minor": 0,
  "metadata": {
    "colab": {
      "name": "Khaled Adad Begin Your Portfolio 123.ipynb",
      "version": "0.3.2",
      "provenance": [],
      "collapsed_sections": [],
      "include_colab_link": true
    },
    "kernelspec": {
      "name": "python3",
      "display_name": "Python 3"
    }
  },
  "cells": [
    {
      "cell_type": "markdown",
      "metadata": {
        "id": "view-in-github",
        "colab_type": "text"
      },
      "source": [
        "<a href=\"https://colab.research.google.com/github/khaloodi/DS-Unit-1-Sprint-2-Data-Wrangling-and-Storytelling/blob/master/Khaled_Adad_Begin_Your_Portfolio_123.ipynb\" target=\"_parent\"><img src=\"https://colab.research.google.com/assets/colab-badge.svg\" alt=\"Open In Colab\"/></a>"
      ]
    },
    {
      "metadata": {
        "id": "r1BDQ4_jqHdE",
        "colab_type": "text"
      },
      "cell_type": "markdown",
      "source": [
        "For Today:\n",
        "\n",
        "- Come up with two ideas and apply the 7 templates to each\n",
        "- Make your base portfolio site and add the link to the module for today\n",
        "\n",
        "Stretch goals:\n",
        "- More project ideas/exploration, find actual data\n",
        "- Make your portfolio site shinier, add content\n",
        "- Check out Anaconda/local install"
      ]
    },
    {
      "metadata": {
        "id": "RjJHdV0hpdSZ",
        "colab_type": "text"
      },
      "cell_type": "markdown",
      "source": [
        "Idea one: Financial Analysis of Apple\n",
        "\n",
        "1. Geographic Variation: Rank order of ios users across the globe such as device preferences for mobile and desktop.\n",
        "2. Trend related to the news: Looking at Apple's share price after they announced that they would no longer provide information about iphone sales to general public and the impact this information has on investors.\n",
        "3. Who does that?: Analysis of screen time or usage of devices (similar to #1 Geographic Variation)\n",
        "4. Secret data answering question people care about: ... this is potentially a powerful question, get feedback\n",
        "5. Data you have that is valuable to businesses: Looking at overall public opinion of Apple devices via survey data etc.\n",
        "6. What's the most popular X?: What are the most popular electronic devices across subcategory's that include Apple products.\n",
        "7. Cost/Money rankings: Financial analysis and benchmarking, such as dividend analysis and value to shareholders or different types of investors (value, short/term, and long/term investors)\n"
      ]
    },
    {
      "metadata": {
        "id": "U1uM2Ik3xb4m",
        "colab_type": "text"
      },
      "cell_type": "markdown",
      "source": [
        "Idea two: TV show analysis of either Rick and Morty or Dragon Ball Z\n",
        "\n",
        "1. Geographic Variation: \n",
        "2. Trend related to the news: Public opinion of a character's impact on show. Ex: What is Evil Morty's plan?\n",
        "3. Who does that?: Who is watching what, when and how often. Ex: how are customers viewing our shows: tv/cable services, or online streaming sites\n",
        "4. Secret data answering question people care about:\n",
        "5. Data you have that is valuable to businesses: \n",
        "6. What's the most popular X?: Who is the most popular character on the show?\n",
        "7. Cost/Money rankings: "
      ]
    }
  ]
}