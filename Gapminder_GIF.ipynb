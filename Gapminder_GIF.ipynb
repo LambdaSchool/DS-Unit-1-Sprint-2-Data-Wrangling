{
  "nbformat": 4,
  "nbformat_minor": 0,
  "metadata": {
    "colab": {
      "name": "Gapminder_GIF.ipynb",
      "version": "0.3.2",
      "provenance": [],
      "include_colab_link": true
    },
    "kernelspec": {
      "name": "python3",
      "display_name": "Python 3"
    }
  },
  "cells": [
    {
      "cell_type": "markdown",
      "metadata": {
        "id": "view-in-github",
        "colab_type": "text"
      },
      "source": [
        "<a href=\"https://colab.research.google.com/github/rgolds5/DS-Unit-1-Sprint-2-Data-Wrangling-and-Storytelling/blob/master/Gapminder_GIF.ipynb\" target=\"_parent\"><img src=\"https://colab.research.google.com/assets/colab-badge.svg\" alt=\"Open In Colab\"/></a>"
      ]
    },
    {
      "cell_type": "code",
      "metadata": {
        "id": "m6nPCKaDYzf1",
        "colab_type": "code",
        "colab": {}
      },
      "source": [
        ":\n",
        "###Do not run this in jupyter..it will likely crash. Implemented in Visual Studio Code\n",
        "\n",
        "\n",
        "\n",
        "# Importing in necessary libraries\n",
        "import pandas as pd \n",
        "import numpy as np \n",
        "import matplotlib.pyplot as plt\n",
        "import seaborn as sns\n",
        "import glob\n",
        "import os\n",
        "\n",
        "sns.set_style('white')\n",
        "\n",
        "\n",
        "csv_dict = {\n",
        "    'income': 'https://raw.githubusercontent.com/open-numbers/ddf--gapminder--systema_globalis/master/ddf--datapoints--income_per_person_gdppercapita_ppp_inflation_adjusted--by--geo--time.csv',\n",
        "    'lifespan': 'https://raw.githubusercontent.com/open-numbers/ddf--gapminder--systema_globalis/master/ddf--datapoints--life_expectancy_years--by--geo--time.csv',\n",
        "    'population': 'https://raw.githubusercontent.com/open-numbers/ddf--gapminder--systema_globalis/master/ddf--datapoints--population_total--by--geo--time.csv',\n",
        "    'entities': 'https://raw.githubusercontent.com/open-numbers/ddf--gapminder--systema_globalis/master/ddf--entities--geo--country.csv',\n",
        "    'concepts': 'https://raw.githubusercontent.com/open-numbers/ddf--gapminder--systema_globalis/master/ddf--concepts.csv',\n",
        "}\n",
        "\n",
        "dfs = {}\n",
        "\n",
        "for k in csv_dict:\n",
        "    dfs[k] = pd.read_csv(csv_dict[k])\n",
        "\n",
        "df = (dfs['income']\n",
        "    .merge(dfs['lifespan'])\n",
        "    .merge(dfs['population'])\n",
        "    .merge(dfs['entities'][['country', 'name', 'world_6region']], \n",
        "        left_on = 'geo', right_on = 'country')\n",
        "    .drop(columns = ['geo', 'country'])\n",
        "    .rename(columns = {'time': 'year', \n",
        "                'income_per_person_gdppercapita_ppp_inflation_adjusted': 'income',\n",
        "                'life_expectancy_years': 'lifespan',\n",
        "                'name': 'country',\n",
        "                'population_total': 'population',\n",
        "                'world_6region': 'region'}))\n",
        "\n",
        "#Loop that creates a chart for each year..for this set it creates 200+ separate \n",
        "#charts, so can be a data overload...but it can be filtered down to smaller number\n",
        "#of charts.\n",
        "\n",
        "for year in df['year'].unique():\n",
        "    tmp = df[df['year'] == year]\n",
        "    sns.relplot(x = 'income',\n",
        "            y = 'lifespan',\n",
        "            hue = 'region',\n",
        "            size = 'population',\n",
        "            data = tmp,\n",
        "            sizes = (5,1000),\n",
        "            height = 5,\n",
        "            aspect = 1.5)\n",
        "  plt.xscale('log')\n",
        "  plt.xlabel('Income Per Person')\n",
        "  plt.ylabel('Average Lifespan')\n",
        "  plt.title(f'Year: {str(year)}')\n",
        "  plt.xlim(10, 1300000)\n",
        "  plt.ylim(0, 100)\n",
        "  filename = f'Gapminderstep_{year}.png'\n",
        "  plt.savefig(filename, dpi = 96)\n",
        "  plt.gca()\n",
        "\n",
        "\n",
        "\n",
        "#ImageMagick Implementation\n",
        "\n",
        "gif_name = 'animated_gapminder'\n",
        "file_list = glob.glob('*.png')\n",
        "list.sort(file_list, key = lambda x: int(x.split('_')[1].split('.png')[0]))\n",
        "\n",
        "with open('image_list.txt', 'w') as file:\n",
        "  for item in file_list:\n",
        "    file.write('%s\\n' % item)\n",
        "\n",
        "os.system(f'magick -delay 1x10 @image_list.txt {gif_name}.gif')"
      ],
      "execution_count": 0,
      "outputs": []
    }
  ]
}