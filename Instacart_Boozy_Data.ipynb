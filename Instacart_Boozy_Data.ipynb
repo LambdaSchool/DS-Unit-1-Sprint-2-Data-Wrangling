{
  "nbformat": 4,
  "nbformat_minor": 0,
  "metadata": {
    "colab": {
      "name": "Instacart Boozy Data.ipynb",
      "version": "0.3.2",
      "provenance": [],
      "include_colab_link": true
    },
    "kernelspec": {
      "name": "python3",
      "display_name": "Python 3"
    }
  },
  "cells": [
    {
      "cell_type": "markdown",
      "metadata": {
        "id": "view-in-github",
        "colab_type": "text"
      },
      "source": [
        "<a href=\"https://colab.research.google.com/github/tbradshaw91/DS-Unit-1-Sprint-2-Data-Wrangling/blob/master/Instacart_Boozy_Data.ipynb\" target=\"_parent\"><img src=\"https://colab.research.google.com/assets/colab-badge.svg\" alt=\"Open In Colab\"/></a>"
      ]
    },
    {
      "metadata": {
        "id": "GFV04YceG4gP",
        "colab_type": "text"
      },
      "cell_type": "markdown",
      "source": [
        "### Importing all the necessary packages"
      ]
    },
    {
      "metadata": {
        "id": "oklm-FQYEidN",
        "colab_type": "code",
        "colab": {}
      },
      "cell_type": "code",
      "source": [
        "!pip install seaborn --upgrade\n",
        "import os\n",
        "os.kill(os.getpid(), 9)"
      ],
      "execution_count": 0,
      "outputs": []
    },
    {
      "metadata": {
        "id": "026kU-PLGELP",
        "colab_type": "code",
        "colab": {}
      },
      "cell_type": "code",
      "source": [
        "import pandas as pd\n",
        "import numpy as np\n",
        "import seaborn as sns"
      ],
      "execution_count": 0,
      "outputs": []
    },
    {
      "metadata": {
        "id": "62PCs-_UGcvd",
        "colab_type": "code",
        "colab": {}
      },
      "cell_type": "code",
      "source": [
        "!wget https://s3.amazonaws.com/instacart-datasets/instacart_online_grocery_shopping_2017_05_01.tar.gz"
      ],
      "execution_count": 0,
      "outputs": []
    },
    {
      "metadata": {
        "id": "MO5fcZpbGfB0",
        "colab_type": "code",
        "colab": {
          "base_uri": "https://localhost:8080/",
          "height": 238
        },
        "outputId": "178bed0c-0051-45e7-d5a9-c29d05091e07"
      },
      "cell_type": "code",
      "source": [
        "!tar --gunzip --extract --verbose --file=instacart_online_grocery_shopping_2017_05_01.tar.gz"
      ],
      "execution_count": 3,
      "outputs": [
        {
          "output_type": "stream",
          "text": [
            "instacart_2017_05_01/\n",
            "instacart_2017_05_01/._aisles.csv\n",
            "instacart_2017_05_01/aisles.csv\n",
            "instacart_2017_05_01/._departments.csv\n",
            "instacart_2017_05_01/departments.csv\n",
            "instacart_2017_05_01/._order_products__prior.csv\n",
            "instacart_2017_05_01/order_products__prior.csv\n",
            "instacart_2017_05_01/._order_products__train.csv\n",
            "instacart_2017_05_01/order_products__train.csv\n",
            "instacart_2017_05_01/._orders.csv\n",
            "instacart_2017_05_01/orders.csv\n",
            "instacart_2017_05_01/._products.csv\n",
            "instacart_2017_05_01/products.csv\n"
          ],
          "name": "stdout"
        }
      ]
    },
    {
      "metadata": {
        "id": "rF0Iv-wYGn8g",
        "colab_type": "code",
        "colab": {
          "base_uri": "https://localhost:8080/",
          "height": 34
        },
        "outputId": "9d4c6416-294c-4f88-c5b9-5fdc7019dabf"
      },
      "cell_type": "code",
      "source": [
        "%cd instacart_2017_05_01"
      ],
      "execution_count": 4,
      "outputs": [
        {
          "output_type": "stream",
          "text": [
            "/content/instacart_2017_05_01\n"
          ],
          "name": "stdout"
        }
      ]
    },
    {
      "metadata": {
        "id": "adMB3Y43G9h_",
        "colab_type": "text"
      },
      "cell_type": "markdown",
      "source": [
        "### Importing Products and Orders \n"
      ]
    },
    {
      "metadata": {
        "id": "JZU8sT4GGqWE",
        "colab_type": "code",
        "colab": {}
      },
      "cell_type": "code",
      "source": [
        "products = pd.read_csv('products.csv')\n",
        "\n",
        "order_products = pd.concat([pd.read_csv('order_products__prior.csv'), # Another interesting way to read in multiple pandas functions\n",
        "                            pd.read_csv('order_products__train.csv')]) # \"composing functions\"\n",
        "\n",
        "orders = pd.read_csv('orders.csv')"
      ],
      "execution_count": 0,
      "outputs": []
    },
    {
      "metadata": {
        "id": "WLBXn8WAHWkt",
        "colab_type": "text"
      },
      "cell_type": "markdown",
      "source": [
        "**Looking at Product Names to Find Wine**"
      ]
    },
    {
      "metadata": {
        "id": "FvNjPy4THEUC",
        "colab_type": "code",
        "colab": {
          "base_uri": "https://localhost:8080/",
          "height": 34
        },
        "outputId": "acb4f521-232b-4bc6-b7ca-929ced6a16fe"
      },
      "cell_type": "code",
      "source": [
        "products['product_name'].head()\n",
        "products.columns"
      ],
      "execution_count": 6,
      "outputs": [
        {
          "output_type": "execute_result",
          "data": {
            "text/plain": [
              "Index(['product_id', 'product_name', 'aisle_id', 'department_id'], dtype='object')"
            ]
          },
          "metadata": {
            "tags": []
          },
          "execution_count": 6
        }
      ]
    },
    {
      "metadata": {
        "id": "af6xnz3DHo3B",
        "colab_type": "code",
        "colab": {
          "base_uri": "https://localhost:8080/",
          "height": 34
        },
        "outputId": "7bc89ae9-5c59-423f-d0f4-68400bcba638"
      },
      "cell_type": "code",
      "source": [
        "pd.options.display.max_columns = 500\n",
        "aisles = pd.read_csv('aisles.csv')\n",
        "aisles.columns.tolist()"
      ],
      "execution_count": 7,
      "outputs": [
        {
          "output_type": "execute_result",
          "data": {
            "text/plain": [
              "['aisle_id', 'aisle']"
            ]
          },
          "metadata": {
            "tags": []
          },
          "execution_count": 7
        }
      ]
    },
    {
      "metadata": {
        "id": "id4geMwtIyTq",
        "colab_type": "code",
        "colab": {}
      },
      "cell_type": "code",
      "source": [
        "aisles['aisle'].tail(50) #red wines #white wines #specialty wines champagnes"
      ],
      "execution_count": 0,
      "outputs": []
    },
    {
      "metadata": {
        "id": "dHA1CxlcIccC",
        "colab_type": "code",
        "colab": {
          "base_uri": "https://localhost:8080/",
          "height": 34
        },
        "outputId": "960dbf6d-66a0-48c4-f554-c3604fea2a67"
      },
      "cell_type": "code",
      "source": [
        "departments = pd.read_csv('departments.csv')\n",
        "departments.columns.tolist()\n",
        "#departments['department'] # I want the alcohol one(4) #snacks is secondary (18)"
      ],
      "execution_count": 9,
      "outputs": [
        {
          "output_type": "execute_result",
          "data": {
            "text/plain": [
              "['department_id', 'department']"
            ]
          },
          "metadata": {
            "tags": []
          },
          "execution_count": 9
        }
      ]
    },
    {
      "metadata": {
        "id": "tmYVoaTWLC9j",
        "colab_type": "code",
        "colab": {}
      },
      "cell_type": "code",
      "source": [
        "# Merged products, aisle, and departments\n",
        "merged = (products[['aisle_id', 'product_name', 'department_id', 'product_id']]\n",
        "          .merge(aisles[['aisle_id', 'aisle']])\n",
        "          .merge(departments[['department_id', 'department']]))"
      ],
      "execution_count": 0,
      "outputs": []
    },
    {
      "metadata": {
        "id": "Lyjs7UUuMfWZ",
        "colab_type": "code",
        "colab": {
          "base_uri": "https://localhost:8080/",
          "height": 34
        },
        "outputId": "119581c8-54fa-4474-b038-f7f168c38a9f"
      },
      "cell_type": "code",
      "source": [
        "merged.shape, products.shape, aisles.shape, departments.shape"
      ],
      "execution_count": 11,
      "outputs": [
        {
          "output_type": "execute_result",
          "data": {
            "text/plain": [
              "((49688, 6), (49688, 4), (134, 2), (21, 2))"
            ]
          },
          "metadata": {
            "tags": []
          },
          "execution_count": 11
        }
      ]
    },
    {
      "metadata": {
        "id": "PBKupgI4MxZF",
        "colab_type": "code",
        "colab": {
          "base_uri": "https://localhost:8080/",
          "height": 204
        },
        "outputId": "5a6d8968-87bd-4602-9fe3-450a78f41d44"
      },
      "cell_type": "code",
      "source": [
        "# It worked\n",
        "merged.head()"
      ],
      "execution_count": 12,
      "outputs": [
        {
          "output_type": "execute_result",
          "data": {
            "text/html": [
              "<div>\n",
              "<style scoped>\n",
              "    .dataframe tbody tr th:only-of-type {\n",
              "        vertical-align: middle;\n",
              "    }\n",
              "\n",
              "    .dataframe tbody tr th {\n",
              "        vertical-align: top;\n",
              "    }\n",
              "\n",
              "    .dataframe thead th {\n",
              "        text-align: right;\n",
              "    }\n",
              "</style>\n",
              "<table border=\"1\" class=\"dataframe\">\n",
              "  <thead>\n",
              "    <tr style=\"text-align: right;\">\n",
              "      <th></th>\n",
              "      <th>aisle_id</th>\n",
              "      <th>product_name</th>\n",
              "      <th>department_id</th>\n",
              "      <th>product_id</th>\n",
              "      <th>aisle</th>\n",
              "      <th>department</th>\n",
              "    </tr>\n",
              "  </thead>\n",
              "  <tbody>\n",
              "    <tr>\n",
              "      <th>0</th>\n",
              "      <td>61</td>\n",
              "      <td>Chocolate Sandwich Cookies</td>\n",
              "      <td>19</td>\n",
              "      <td>1</td>\n",
              "      <td>cookies cakes</td>\n",
              "      <td>snacks</td>\n",
              "    </tr>\n",
              "    <tr>\n",
              "      <th>1</th>\n",
              "      <td>61</td>\n",
              "      <td>Nutter Butter Cookie Bites Go-Pak</td>\n",
              "      <td>19</td>\n",
              "      <td>78</td>\n",
              "      <td>cookies cakes</td>\n",
              "      <td>snacks</td>\n",
              "    </tr>\n",
              "    <tr>\n",
              "      <th>2</th>\n",
              "      <td>61</td>\n",
              "      <td>Danish Butter Cookies</td>\n",
              "      <td>19</td>\n",
              "      <td>102</td>\n",
              "      <td>cookies cakes</td>\n",
              "      <td>snacks</td>\n",
              "    </tr>\n",
              "    <tr>\n",
              "      <th>3</th>\n",
              "      <td>61</td>\n",
              "      <td>Gluten Free All Natural Chocolate Chip Cookies</td>\n",
              "      <td>19</td>\n",
              "      <td>172</td>\n",
              "      <td>cookies cakes</td>\n",
              "      <td>snacks</td>\n",
              "    </tr>\n",
              "    <tr>\n",
              "      <th>4</th>\n",
              "      <td>61</td>\n",
              "      <td>Mini Nilla Wafers Munch Pack</td>\n",
              "      <td>19</td>\n",
              "      <td>285</td>\n",
              "      <td>cookies cakes</td>\n",
              "      <td>snacks</td>\n",
              "    </tr>\n",
              "  </tbody>\n",
              "</table>\n",
              "</div>"
            ],
            "text/plain": [
              "   aisle_id                                    product_name  department_id  \\\n",
              "0        61                      Chocolate Sandwich Cookies             19   \n",
              "1        61               Nutter Butter Cookie Bites Go-Pak             19   \n",
              "2        61                           Danish Butter Cookies             19   \n",
              "3        61  Gluten Free All Natural Chocolate Chip Cookies             19   \n",
              "4        61                    Mini Nilla Wafers Munch Pack             19   \n",
              "\n",
              "   product_id          aisle department  \n",
              "0           1  cookies cakes     snacks  \n",
              "1          78  cookies cakes     snacks  \n",
              "2         102  cookies cakes     snacks  \n",
              "3         172  cookies cakes     snacks  \n",
              "4         285  cookies cakes     snacks  "
            ]
          },
          "metadata": {
            "tags": []
          },
          "execution_count": 12
        }
      ]
    },
    {
      "metadata": {
        "id": "Tv_r_FimOViG",
        "colab_type": "text"
      },
      "cell_type": "markdown",
      "source": [
        "### **Aisle Conditions**"
      ]
    },
    {
      "metadata": {
        "id": "136dpQsoM6tC",
        "colab_type": "code",
        "colab": {}
      },
      "cell_type": "code",
      "source": [
        "# What condion will filter merged DF to just the 2 products that we care about?\n",
        "# OMFG this is exactly what I was attempting yesterday\n",
        "\n",
        "\n",
        "condition1 = ((merged['aisle'] == 'red wines') | \n",
        "              (merged['aisle'] == 'white wines') |\n",
        "              (merged['aisle'] == 'specialty wines champagnes')|\n",
        "              (merged['aisle'] == 'spirits'))\n",
        "\n",
        "# to this....\n",
        "drunk_aisles = ['red wines', 'white wines','specialty wines champagnes', 'spirits' ]\n",
        "\n",
        "condition1 = merged['aisle'].isin(drunk_aisles)\n",
        "subset_aisles = merged[condition1]"
      ],
      "execution_count": 0,
      "outputs": []
    },
    {
      "metadata": {
        "id": "TY6PmshION5R",
        "colab_type": "code",
        "colab": {
          "base_uri": "https://localhost:8080/",
          "height": 34
        },
        "outputId": "fedc8b11-e3ee-4049-9037-7a1a6eb127e2"
      },
      "cell_type": "code",
      "source": [
        "subset_aisles.shape"
      ],
      "execution_count": 14,
      "outputs": [
        {
          "output_type": "execute_result",
          "data": {
            "text/plain": [
              "(669, 6)"
            ]
          },
          "metadata": {
            "tags": []
          },
          "execution_count": 14
        }
      ]
    },
    {
      "metadata": {
        "id": "3H3SPaTpOh4F",
        "colab_type": "code",
        "colab": {
          "base_uri": "https://localhost:8080/",
          "height": 204
        },
        "outputId": "d4dae853-4f6f-4f64-807d-389a28da973e"
      },
      "cell_type": "code",
      "source": [
        "subset_aisles.head()"
      ],
      "execution_count": 15,
      "outputs": [
        {
          "output_type": "execute_result",
          "data": {
            "text/html": [
              "<div>\n",
              "<style scoped>\n",
              "    .dataframe tbody tr th:only-of-type {\n",
              "        vertical-align: middle;\n",
              "    }\n",
              "\n",
              "    .dataframe tbody tr th {\n",
              "        vertical-align: top;\n",
              "    }\n",
              "\n",
              "    .dataframe thead th {\n",
              "        text-align: right;\n",
              "    }\n",
              "</style>\n",
              "<table border=\"1\" class=\"dataframe\">\n",
              "  <thead>\n",
              "    <tr style=\"text-align: right;\">\n",
              "      <th></th>\n",
              "      <th>aisle_id</th>\n",
              "      <th>product_name</th>\n",
              "      <th>department_id</th>\n",
              "      <th>product_id</th>\n",
              "      <th>aisle</th>\n",
              "      <th>department</th>\n",
              "    </tr>\n",
              "  </thead>\n",
              "  <tbody>\n",
              "    <tr>\n",
              "      <th>46532</th>\n",
              "      <td>134</td>\n",
              "      <td>Mirabelle Brut Rose</td>\n",
              "      <td>5</td>\n",
              "      <td>52</td>\n",
              "      <td>specialty wines champagnes</td>\n",
              "      <td>alcohol</td>\n",
              "    </tr>\n",
              "    <tr>\n",
              "      <th>46533</th>\n",
              "      <td>134</td>\n",
              "      <td>Brut Rosé</td>\n",
              "      <td>5</td>\n",
              "      <td>150</td>\n",
              "      <td>specialty wines champagnes</td>\n",
              "      <td>alcohol</td>\n",
              "    </tr>\n",
              "    <tr>\n",
              "      <th>46534</th>\n",
              "      <td>134</td>\n",
              "      <td>Champagne</td>\n",
              "      <td>5</td>\n",
              "      <td>1808</td>\n",
              "      <td>specialty wines champagnes</td>\n",
              "      <td>alcohol</td>\n",
              "    </tr>\n",
              "    <tr>\n",
              "      <th>46535</th>\n",
              "      <td>134</td>\n",
              "      <td>Brut Cuvee Sparkling Champagne</td>\n",
              "      <td>5</td>\n",
              "      <td>2022</td>\n",
              "      <td>specialty wines champagnes</td>\n",
              "      <td>alcohol</td>\n",
              "    </tr>\n",
              "    <tr>\n",
              "      <th>46536</th>\n",
              "      <td>134</td>\n",
              "      <td>California Champagne</td>\n",
              "      <td>5</td>\n",
              "      <td>2216</td>\n",
              "      <td>specialty wines champagnes</td>\n",
              "      <td>alcohol</td>\n",
              "    </tr>\n",
              "  </tbody>\n",
              "</table>\n",
              "</div>"
            ],
            "text/plain": [
              "       aisle_id                    product_name  department_id  product_id  \\\n",
              "46532       134             Mirabelle Brut Rose              5          52   \n",
              "46533       134                       Brut Rosé              5         150   \n",
              "46534       134                       Champagne              5        1808   \n",
              "46535       134  Brut Cuvee Sparkling Champagne              5        2022   \n",
              "46536       134            California Champagne              5        2216   \n",
              "\n",
              "                            aisle department  \n",
              "46532  specialty wines champagnes    alcohol  \n",
              "46533  specialty wines champagnes    alcohol  \n",
              "46534  specialty wines champagnes    alcohol  \n",
              "46535  specialty wines champagnes    alcohol  \n",
              "46536  specialty wines champagnes    alcohol  "
            ]
          },
          "metadata": {
            "tags": []
          },
          "execution_count": 15
        }
      ]
    },
    {
      "metadata": {
        "id": "E8FxtDgOPTMg",
        "colab_type": "text"
      },
      "cell_type": "markdown",
      "source": [
        "### Departments Conditions"
      ]
    },
    {
      "metadata": {
        "id": "V_Fs1VK9Orzt",
        "colab_type": "code",
        "colab": {}
      },
      "cell_type": "code",
      "source": [
        "condition2 = ((merged['department'] == 'alcohol'))\n",
        "\n",
        "# to this....\n",
        "dds = ['alcohol']\n",
        "\n",
        "condition2 = merged['department'].isin(dds)\n",
        "subset_dds = merged[condition2]"
      ],
      "execution_count": 0,
      "outputs": []
    },
    {
      "metadata": {
        "id": "H7iIxkqWPLcM",
        "colab_type": "code",
        "colab": {
          "base_uri": "https://localhost:8080/",
          "height": 204
        },
        "outputId": "8ec94190-243f-43e4-aeb1-07613e24d539"
      },
      "cell_type": "code",
      "source": [
        "subset_dds.head()"
      ],
      "execution_count": 17,
      "outputs": [
        {
          "output_type": "execute_result",
          "data": {
            "text/html": [
              "<div>\n",
              "<style scoped>\n",
              "    .dataframe tbody tr th:only-of-type {\n",
              "        vertical-align: middle;\n",
              "    }\n",
              "\n",
              "    .dataframe tbody tr th {\n",
              "        vertical-align: top;\n",
              "    }\n",
              "\n",
              "    .dataframe thead th {\n",
              "        text-align: right;\n",
              "    }\n",
              "</style>\n",
              "<table border=\"1\" class=\"dataframe\">\n",
              "  <thead>\n",
              "    <tr style=\"text-align: right;\">\n",
              "      <th></th>\n",
              "      <th>aisle_id</th>\n",
              "      <th>product_name</th>\n",
              "      <th>department_id</th>\n",
              "      <th>product_id</th>\n",
              "      <th>aisle</th>\n",
              "      <th>department</th>\n",
              "    </tr>\n",
              "  </thead>\n",
              "  <tbody>\n",
              "    <tr>\n",
              "      <th>46532</th>\n",
              "      <td>134</td>\n",
              "      <td>Mirabelle Brut Rose</td>\n",
              "      <td>5</td>\n",
              "      <td>52</td>\n",
              "      <td>specialty wines champagnes</td>\n",
              "      <td>alcohol</td>\n",
              "    </tr>\n",
              "    <tr>\n",
              "      <th>46533</th>\n",
              "      <td>134</td>\n",
              "      <td>Brut Rosé</td>\n",
              "      <td>5</td>\n",
              "      <td>150</td>\n",
              "      <td>specialty wines champagnes</td>\n",
              "      <td>alcohol</td>\n",
              "    </tr>\n",
              "    <tr>\n",
              "      <th>46534</th>\n",
              "      <td>134</td>\n",
              "      <td>Champagne</td>\n",
              "      <td>5</td>\n",
              "      <td>1808</td>\n",
              "      <td>specialty wines champagnes</td>\n",
              "      <td>alcohol</td>\n",
              "    </tr>\n",
              "    <tr>\n",
              "      <th>46535</th>\n",
              "      <td>134</td>\n",
              "      <td>Brut Cuvee Sparkling Champagne</td>\n",
              "      <td>5</td>\n",
              "      <td>2022</td>\n",
              "      <td>specialty wines champagnes</td>\n",
              "      <td>alcohol</td>\n",
              "    </tr>\n",
              "    <tr>\n",
              "      <th>46536</th>\n",
              "      <td>134</td>\n",
              "      <td>California Champagne</td>\n",
              "      <td>5</td>\n",
              "      <td>2216</td>\n",
              "      <td>specialty wines champagnes</td>\n",
              "      <td>alcohol</td>\n",
              "    </tr>\n",
              "  </tbody>\n",
              "</table>\n",
              "</div>"
            ],
            "text/plain": [
              "       aisle_id                    product_name  department_id  product_id  \\\n",
              "46532       134             Mirabelle Brut Rose              5          52   \n",
              "46533       134                       Brut Rosé              5         150   \n",
              "46534       134                       Champagne              5        1808   \n",
              "46535       134  Brut Cuvee Sparkling Champagne              5        2022   \n",
              "46536       134            California Champagne              5        2216   \n",
              "\n",
              "                            aisle department  \n",
              "46532  specialty wines champagnes    alcohol  \n",
              "46533  specialty wines champagnes    alcohol  \n",
              "46534  specialty wines champagnes    alcohol  \n",
              "46535  specialty wines champagnes    alcohol  \n",
              "46536  specialty wines champagnes    alcohol  "
            ]
          },
          "metadata": {
            "tags": []
          },
          "execution_count": 17
        }
      ]
    },
    {
      "metadata": {
        "id": "PzjOKaUYPpSn",
        "colab_type": "code",
        "colab": {
          "base_uri": "https://localhost:8080/",
          "height": 34
        },
        "outputId": "2568e4f7-4661-4adf-c17b-c1816da8cb6f"
      },
      "cell_type": "code",
      "source": [
        "subset_dds.shape"
      ],
      "execution_count": 18,
      "outputs": [
        {
          "output_type": "execute_result",
          "data": {
            "text/plain": [
              "(1054, 6)"
            ]
          },
          "metadata": {
            "tags": []
          },
          "execution_count": 18
        }
      ]
    },
    {
      "metadata": {
        "id": "CjI_xvOUZF3K",
        "colab_type": "code",
        "colab": {}
      },
      "cell_type": "code",
      "source": [
        "grand_merge = pd.merge(subset_aisles, subset_dds)"
      ],
      "execution_count": 0,
      "outputs": []
    },
    {
      "metadata": {
        "id": "EtgF255XctbC",
        "colab_type": "code",
        "colab": {
          "base_uri": "https://localhost:8080/",
          "height": 34
        },
        "outputId": "83ae2fc1-f66d-4f55-9561-8ede843fb70f"
      },
      "cell_type": "code",
      "source": [
        "grand_merge.shape"
      ],
      "execution_count": 20,
      "outputs": [
        {
          "output_type": "execute_result",
          "data": {
            "text/plain": [
              "(669, 6)"
            ]
          },
          "metadata": {
            "tags": []
          },
          "execution_count": 20
        }
      ]
    },
    {
      "metadata": {
        "id": "2X5OzhUEQY3f",
        "colab_type": "text"
      },
      "cell_type": "markdown",
      "source": [
        "## Merging Many to One"
      ]
    },
    {
      "metadata": {
        "id": "eFpSrZEEQYEO",
        "colab_type": "code",
        "colab": {
          "base_uri": "https://localhost:8080/",
          "height": 68
        },
        "outputId": "9ed49cbd-f32f-4837-8dbd-63b8935e5df3"
      },
      "cell_type": "code",
      "source": [
        "orders.columns"
      ],
      "execution_count": 21,
      "outputs": [
        {
          "output_type": "execute_result",
          "data": {
            "text/plain": [
              "Index(['order_id', 'user_id', 'eval_set', 'order_number', 'order_dow',\n",
              "       'order_hour_of_day', 'days_since_prior_order'],\n",
              "      dtype='object')"
            ]
          },
          "metadata": {
            "tags": []
          },
          "execution_count": 21
        }
      ]
    },
    {
      "metadata": {
        "id": "NMuNgwwlRm7f",
        "colab_type": "code",
        "colab": {
          "base_uri": "https://localhost:8080/",
          "height": 34
        },
        "outputId": "2d85c79a-645d-4905-cb4b-9b45bb4eca9b"
      },
      "cell_type": "code",
      "source": [
        "order_products.columns"
      ],
      "execution_count": 22,
      "outputs": [
        {
          "output_type": "execute_result",
          "data": {
            "text/plain": [
              "Index(['order_id', 'product_id', 'add_to_cart_order', 'reordered'], dtype='object')"
            ]
          },
          "metadata": {
            "tags": []
          },
          "execution_count": 22
        }
      ]
    },
    {
      "metadata": {
        "id": "s1-OoypNRrvD",
        "colab_type": "code",
        "colab": {}
      },
      "cell_type": "code",
      "source": [
        "le_orders = pd.merge(orders, order_products)"
      ],
      "execution_count": 0,
      "outputs": []
    },
    {
      "metadata": {
        "id": "wzpBQGCzSEmh",
        "colab_type": "code",
        "colab": {
          "base_uri": "https://localhost:8080/",
          "height": 204
        },
        "outputId": "a070f871-b974-438b-e488-422337a2c80e"
      },
      "cell_type": "code",
      "source": [
        "le_orders.head()"
      ],
      "execution_count": 24,
      "outputs": [
        {
          "output_type": "execute_result",
          "data": {
            "text/html": [
              "<div>\n",
              "<style scoped>\n",
              "    .dataframe tbody tr th:only-of-type {\n",
              "        vertical-align: middle;\n",
              "    }\n",
              "\n",
              "    .dataframe tbody tr th {\n",
              "        vertical-align: top;\n",
              "    }\n",
              "\n",
              "    .dataframe thead th {\n",
              "        text-align: right;\n",
              "    }\n",
              "</style>\n",
              "<table border=\"1\" class=\"dataframe\">\n",
              "  <thead>\n",
              "    <tr style=\"text-align: right;\">\n",
              "      <th></th>\n",
              "      <th>order_id</th>\n",
              "      <th>user_id</th>\n",
              "      <th>eval_set</th>\n",
              "      <th>order_number</th>\n",
              "      <th>order_dow</th>\n",
              "      <th>order_hour_of_day</th>\n",
              "      <th>days_since_prior_order</th>\n",
              "      <th>product_id</th>\n",
              "      <th>add_to_cart_order</th>\n",
              "      <th>reordered</th>\n",
              "    </tr>\n",
              "  </thead>\n",
              "  <tbody>\n",
              "    <tr>\n",
              "      <th>0</th>\n",
              "      <td>2539329</td>\n",
              "      <td>1</td>\n",
              "      <td>prior</td>\n",
              "      <td>1</td>\n",
              "      <td>2</td>\n",
              "      <td>8</td>\n",
              "      <td>NaN</td>\n",
              "      <td>196</td>\n",
              "      <td>1</td>\n",
              "      <td>0</td>\n",
              "    </tr>\n",
              "    <tr>\n",
              "      <th>1</th>\n",
              "      <td>2539329</td>\n",
              "      <td>1</td>\n",
              "      <td>prior</td>\n",
              "      <td>1</td>\n",
              "      <td>2</td>\n",
              "      <td>8</td>\n",
              "      <td>NaN</td>\n",
              "      <td>14084</td>\n",
              "      <td>2</td>\n",
              "      <td>0</td>\n",
              "    </tr>\n",
              "    <tr>\n",
              "      <th>2</th>\n",
              "      <td>2539329</td>\n",
              "      <td>1</td>\n",
              "      <td>prior</td>\n",
              "      <td>1</td>\n",
              "      <td>2</td>\n",
              "      <td>8</td>\n",
              "      <td>NaN</td>\n",
              "      <td>12427</td>\n",
              "      <td>3</td>\n",
              "      <td>0</td>\n",
              "    </tr>\n",
              "    <tr>\n",
              "      <th>3</th>\n",
              "      <td>2539329</td>\n",
              "      <td>1</td>\n",
              "      <td>prior</td>\n",
              "      <td>1</td>\n",
              "      <td>2</td>\n",
              "      <td>8</td>\n",
              "      <td>NaN</td>\n",
              "      <td>26088</td>\n",
              "      <td>4</td>\n",
              "      <td>0</td>\n",
              "    </tr>\n",
              "    <tr>\n",
              "      <th>4</th>\n",
              "      <td>2539329</td>\n",
              "      <td>1</td>\n",
              "      <td>prior</td>\n",
              "      <td>1</td>\n",
              "      <td>2</td>\n",
              "      <td>8</td>\n",
              "      <td>NaN</td>\n",
              "      <td>26405</td>\n",
              "      <td>5</td>\n",
              "      <td>0</td>\n",
              "    </tr>\n",
              "  </tbody>\n",
              "</table>\n",
              "</div>"
            ],
            "text/plain": [
              "   order_id  user_id eval_set  order_number  order_dow  order_hour_of_day  \\\n",
              "0   2539329        1    prior             1          2                  8   \n",
              "1   2539329        1    prior             1          2                  8   \n",
              "2   2539329        1    prior             1          2                  8   \n",
              "3   2539329        1    prior             1          2                  8   \n",
              "4   2539329        1    prior             1          2                  8   \n",
              "\n",
              "   days_since_prior_order  product_id  add_to_cart_order  reordered  \n",
              "0                     NaN         196                  1          0  \n",
              "1                     NaN       14084                  2          0  \n",
              "2                     NaN       12427                  3          0  \n",
              "3                     NaN       26088                  4          0  \n",
              "4                     NaN       26405                  5          0  "
            ]
          },
          "metadata": {
            "tags": []
          },
          "execution_count": 24
        }
      ]
    },
    {
      "metadata": {
        "id": "Wyy72ZR3RCW5",
        "colab_type": "code",
        "colab": {}
      },
      "cell_type": "code",
      "source": [
        "final = pd.merge(grand_merge, le_orders)"
      ],
      "execution_count": 0,
      "outputs": []
    },
    {
      "metadata": {
        "id": "emsO5trWS4EH",
        "colab_type": "code",
        "colab": {
          "base_uri": "https://localhost:8080/",
          "height": 204
        },
        "outputId": "3741cbae-af93-4412-c862-34015381912c"
      },
      "cell_type": "code",
      "source": [
        "final.head()"
      ],
      "execution_count": 26,
      "outputs": [
        {
          "output_type": "execute_result",
          "data": {
            "text/html": [
              "<div>\n",
              "<style scoped>\n",
              "    .dataframe tbody tr th:only-of-type {\n",
              "        vertical-align: middle;\n",
              "    }\n",
              "\n",
              "    .dataframe tbody tr th {\n",
              "        vertical-align: top;\n",
              "    }\n",
              "\n",
              "    .dataframe thead th {\n",
              "        text-align: right;\n",
              "    }\n",
              "</style>\n",
              "<table border=\"1\" class=\"dataframe\">\n",
              "  <thead>\n",
              "    <tr style=\"text-align: right;\">\n",
              "      <th></th>\n",
              "      <th>aisle_id</th>\n",
              "      <th>product_name</th>\n",
              "      <th>department_id</th>\n",
              "      <th>product_id</th>\n",
              "      <th>aisle</th>\n",
              "      <th>department</th>\n",
              "      <th>order_id</th>\n",
              "      <th>user_id</th>\n",
              "      <th>eval_set</th>\n",
              "      <th>order_number</th>\n",
              "      <th>order_dow</th>\n",
              "      <th>order_hour_of_day</th>\n",
              "      <th>days_since_prior_order</th>\n",
              "      <th>add_to_cart_order</th>\n",
              "      <th>reordered</th>\n",
              "    </tr>\n",
              "  </thead>\n",
              "  <tbody>\n",
              "    <tr>\n",
              "      <th>0</th>\n",
              "      <td>134</td>\n",
              "      <td>Mirabelle Brut Rose</td>\n",
              "      <td>5</td>\n",
              "      <td>52</td>\n",
              "      <td>specialty wines champagnes</td>\n",
              "      <td>alcohol</td>\n",
              "      <td>1114232</td>\n",
              "      <td>626</td>\n",
              "      <td>prior</td>\n",
              "      <td>43</td>\n",
              "      <td>1</td>\n",
              "      <td>12</td>\n",
              "      <td>4.0</td>\n",
              "      <td>3</td>\n",
              "      <td>0</td>\n",
              "    </tr>\n",
              "    <tr>\n",
              "      <th>1</th>\n",
              "      <td>134</td>\n",
              "      <td>Mirabelle Brut Rose</td>\n",
              "      <td>5</td>\n",
              "      <td>52</td>\n",
              "      <td>specialty wines champagnes</td>\n",
              "      <td>alcohol</td>\n",
              "      <td>2390070</td>\n",
              "      <td>21631</td>\n",
              "      <td>prior</td>\n",
              "      <td>3</td>\n",
              "      <td>5</td>\n",
              "      <td>12</td>\n",
              "      <td>6.0</td>\n",
              "      <td>9</td>\n",
              "      <td>0</td>\n",
              "    </tr>\n",
              "    <tr>\n",
              "      <th>2</th>\n",
              "      <td>134</td>\n",
              "      <td>Mirabelle Brut Rose</td>\n",
              "      <td>5</td>\n",
              "      <td>52</td>\n",
              "      <td>specialty wines champagnes</td>\n",
              "      <td>alcohol</td>\n",
              "      <td>2375085</td>\n",
              "      <td>52689</td>\n",
              "      <td>prior</td>\n",
              "      <td>2</td>\n",
              "      <td>6</td>\n",
              "      <td>9</td>\n",
              "      <td>2.0</td>\n",
              "      <td>3</td>\n",
              "      <td>0</td>\n",
              "    </tr>\n",
              "    <tr>\n",
              "      <th>3</th>\n",
              "      <td>134</td>\n",
              "      <td>Mirabelle Brut Rose</td>\n",
              "      <td>5</td>\n",
              "      <td>52</td>\n",
              "      <td>specialty wines champagnes</td>\n",
              "      <td>alcohol</td>\n",
              "      <td>3384749</td>\n",
              "      <td>52689</td>\n",
              "      <td>prior</td>\n",
              "      <td>3</td>\n",
              "      <td>2</td>\n",
              "      <td>21</td>\n",
              "      <td>3.0</td>\n",
              "      <td>5</td>\n",
              "      <td>1</td>\n",
              "    </tr>\n",
              "    <tr>\n",
              "      <th>4</th>\n",
              "      <td>134</td>\n",
              "      <td>Mirabelle Brut Rose</td>\n",
              "      <td>5</td>\n",
              "      <td>52</td>\n",
              "      <td>specialty wines champagnes</td>\n",
              "      <td>alcohol</td>\n",
              "      <td>1091852</td>\n",
              "      <td>52689</td>\n",
              "      <td>prior</td>\n",
              "      <td>6</td>\n",
              "      <td>6</td>\n",
              "      <td>8</td>\n",
              "      <td>2.0</td>\n",
              "      <td>1</td>\n",
              "      <td>1</td>\n",
              "    </tr>\n",
              "  </tbody>\n",
              "</table>\n",
              "</div>"
            ],
            "text/plain": [
              "   aisle_id         product_name  department_id  product_id  \\\n",
              "0       134  Mirabelle Brut Rose              5          52   \n",
              "1       134  Mirabelle Brut Rose              5          52   \n",
              "2       134  Mirabelle Brut Rose              5          52   \n",
              "3       134  Mirabelle Brut Rose              5          52   \n",
              "4       134  Mirabelle Brut Rose              5          52   \n",
              "\n",
              "                        aisle department  order_id  user_id eval_set  \\\n",
              "0  specialty wines champagnes    alcohol   1114232      626    prior   \n",
              "1  specialty wines champagnes    alcohol   2390070    21631    prior   \n",
              "2  specialty wines champagnes    alcohol   2375085    52689    prior   \n",
              "3  specialty wines champagnes    alcohol   3384749    52689    prior   \n",
              "4  specialty wines champagnes    alcohol   1091852    52689    prior   \n",
              "\n",
              "   order_number  order_dow  order_hour_of_day  days_since_prior_order  \\\n",
              "0            43          1                 12                     4.0   \n",
              "1             3          5                 12                     6.0   \n",
              "2             2          6                  9                     2.0   \n",
              "3             3          2                 21                     3.0   \n",
              "4             6          6                  8                     2.0   \n",
              "\n",
              "   add_to_cart_order  reordered  \n",
              "0                  3          0  \n",
              "1                  9          0  \n",
              "2                  3          0  \n",
              "3                  5          1  \n",
              "4                  1          1  "
            ]
          },
          "metadata": {
            "tags": []
          },
          "execution_count": 26
        }
      ]
    },
    {
      "metadata": {
        "id": "zSBH2_FzcCge",
        "colab_type": "code",
        "colab": {
          "base_uri": "https://localhost:8080/",
          "height": 119
        },
        "outputId": "45020dde-d5ba-4d92-af50-8d5eb3cea8ed"
      },
      "cell_type": "code",
      "source": [
        "final['product_name'].value_counts().head()"
      ],
      "execution_count": 32,
      "outputs": [
        {
          "output_type": "execute_result",
          "data": {
            "text/plain": [
              "Sauvignon Blanc       8541\n",
              "Cabernet Sauvignon    6352\n",
              "Chardonnay            6346\n",
              "Vodka                 5666\n",
              "Pinot Noir            4116\n",
              "Name: product_name, dtype: int64"
            ]
          },
          "metadata": {
            "tags": []
          },
          "execution_count": 32
        }
      ]
    },
    {
      "metadata": {
        "id": "SvZhdjKPehGP",
        "colab_type": "code",
        "colab": {
          "base_uri": "https://localhost:8080/",
          "height": 289
        },
        "outputId": "98eb927b-a218-4ce8-8a0e-75ba9bd92249"
      },
      "cell_type": "code",
      "source": [
        "final.isnull().sum()"
      ],
      "execution_count": 33,
      "outputs": [
        {
          "output_type": "execute_result",
          "data": {
            "text/plain": [
              "aisle_id                     0\n",
              "product_name                 0\n",
              "department_id                0\n",
              "product_id                   0\n",
              "aisle                        0\n",
              "department                   0\n",
              "order_id                     0\n",
              "user_id                      0\n",
              "eval_set                     0\n",
              "order_number                 0\n",
              "order_dow                    0\n",
              "order_hour_of_day            0\n",
              "days_since_prior_order    8742\n",
              "add_to_cart_order            0\n",
              "reordered                    0\n",
              "dtype: int64"
            ]
          },
          "metadata": {
            "tags": []
          },
          "execution_count": 33
        }
      ]
    },
    {
      "metadata": {
        "id": "_JLwalQgelEt",
        "colab_type": "code",
        "colab": {}
      },
      "cell_type": "code",
      "source": [
        "# Getting rid of NaNs\n",
        "final['days_since_prior_order'] = final['days_since_prior_order'].replace(np.nan, 0)"
      ],
      "execution_count": 0,
      "outputs": []
    },
    {
      "metadata": {
        "id": "J0R3-PIieuUN",
        "colab_type": "code",
        "colab": {}
      },
      "cell_type": "code",
      "source": [
        "# Getting rid of eval_set\n",
        "final.drop('eval_set', axis=1)"
      ],
      "execution_count": 0,
      "outputs": []
    },
    {
      "metadata": {
        "id": "_8R2GNd0gh7b",
        "colab_type": "code",
        "colab": {
          "base_uri": "https://localhost:8080/",
          "height": 204
        },
        "outputId": "2de1975a-c5bd-4993-b6a5-773fe0d3b662"
      },
      "cell_type": "code",
      "source": [
        "final.head()"
      ],
      "execution_count": 45,
      "outputs": [
        {
          "output_type": "execute_result",
          "data": {
            "text/html": [
              "<div>\n",
              "<style scoped>\n",
              "    .dataframe tbody tr th:only-of-type {\n",
              "        vertical-align: middle;\n",
              "    }\n",
              "\n",
              "    .dataframe tbody tr th {\n",
              "        vertical-align: top;\n",
              "    }\n",
              "\n",
              "    .dataframe thead th {\n",
              "        text-align: right;\n",
              "    }\n",
              "</style>\n",
              "<table border=\"1\" class=\"dataframe\">\n",
              "  <thead>\n",
              "    <tr style=\"text-align: right;\">\n",
              "      <th></th>\n",
              "      <th>aisle_id</th>\n",
              "      <th>product_name</th>\n",
              "      <th>department_id</th>\n",
              "      <th>product_id</th>\n",
              "      <th>aisle</th>\n",
              "      <th>department</th>\n",
              "      <th>order_id</th>\n",
              "      <th>user_id</th>\n",
              "      <th>order_number</th>\n",
              "      <th>order_dow</th>\n",
              "      <th>order_hour_of_day</th>\n",
              "      <th>days_since_prior_order</th>\n",
              "      <th>add_to_cart_order</th>\n",
              "      <th>reordered</th>\n",
              "    </tr>\n",
              "  </thead>\n",
              "  <tbody>\n",
              "    <tr>\n",
              "      <th>0</th>\n",
              "      <td>134</td>\n",
              "      <td>Mirabelle Brut Rose</td>\n",
              "      <td>5</td>\n",
              "      <td>52</td>\n",
              "      <td>specialty wines champagnes</td>\n",
              "      <td>alcohol</td>\n",
              "      <td>1114232</td>\n",
              "      <td>626</td>\n",
              "      <td>43</td>\n",
              "      <td>1</td>\n",
              "      <td>12</td>\n",
              "      <td>4.0</td>\n",
              "      <td>3</td>\n",
              "      <td>0</td>\n",
              "    </tr>\n",
              "    <tr>\n",
              "      <th>1</th>\n",
              "      <td>134</td>\n",
              "      <td>Mirabelle Brut Rose</td>\n",
              "      <td>5</td>\n",
              "      <td>52</td>\n",
              "      <td>specialty wines champagnes</td>\n",
              "      <td>alcohol</td>\n",
              "      <td>2390070</td>\n",
              "      <td>21631</td>\n",
              "      <td>3</td>\n",
              "      <td>5</td>\n",
              "      <td>12</td>\n",
              "      <td>6.0</td>\n",
              "      <td>9</td>\n",
              "      <td>0</td>\n",
              "    </tr>\n",
              "    <tr>\n",
              "      <th>2</th>\n",
              "      <td>134</td>\n",
              "      <td>Mirabelle Brut Rose</td>\n",
              "      <td>5</td>\n",
              "      <td>52</td>\n",
              "      <td>specialty wines champagnes</td>\n",
              "      <td>alcohol</td>\n",
              "      <td>2375085</td>\n",
              "      <td>52689</td>\n",
              "      <td>2</td>\n",
              "      <td>6</td>\n",
              "      <td>9</td>\n",
              "      <td>2.0</td>\n",
              "      <td>3</td>\n",
              "      <td>0</td>\n",
              "    </tr>\n",
              "    <tr>\n",
              "      <th>3</th>\n",
              "      <td>134</td>\n",
              "      <td>Mirabelle Brut Rose</td>\n",
              "      <td>5</td>\n",
              "      <td>52</td>\n",
              "      <td>specialty wines champagnes</td>\n",
              "      <td>alcohol</td>\n",
              "      <td>3384749</td>\n",
              "      <td>52689</td>\n",
              "      <td>3</td>\n",
              "      <td>2</td>\n",
              "      <td>21</td>\n",
              "      <td>3.0</td>\n",
              "      <td>5</td>\n",
              "      <td>1</td>\n",
              "    </tr>\n",
              "    <tr>\n",
              "      <th>4</th>\n",
              "      <td>134</td>\n",
              "      <td>Mirabelle Brut Rose</td>\n",
              "      <td>5</td>\n",
              "      <td>52</td>\n",
              "      <td>specialty wines champagnes</td>\n",
              "      <td>alcohol</td>\n",
              "      <td>1091852</td>\n",
              "      <td>52689</td>\n",
              "      <td>6</td>\n",
              "      <td>6</td>\n",
              "      <td>8</td>\n",
              "      <td>2.0</td>\n",
              "      <td>1</td>\n",
              "      <td>1</td>\n",
              "    </tr>\n",
              "  </tbody>\n",
              "</table>\n",
              "</div>"
            ],
            "text/plain": [
              "   aisle_id         product_name  department_id  product_id  \\\n",
              "0       134  Mirabelle Brut Rose              5          52   \n",
              "1       134  Mirabelle Brut Rose              5          52   \n",
              "2       134  Mirabelle Brut Rose              5          52   \n",
              "3       134  Mirabelle Brut Rose              5          52   \n",
              "4       134  Mirabelle Brut Rose              5          52   \n",
              "\n",
              "                        aisle department  order_id  user_id  order_number  \\\n",
              "0  specialty wines champagnes    alcohol   1114232      626            43   \n",
              "1  specialty wines champagnes    alcohol   2390070    21631             3   \n",
              "2  specialty wines champagnes    alcohol   2375085    52689             2   \n",
              "3  specialty wines champagnes    alcohol   3384749    52689             3   \n",
              "4  specialty wines champagnes    alcohol   1091852    52689             6   \n",
              "\n",
              "   order_dow  order_hour_of_day  days_since_prior_order  add_to_cart_order  \\\n",
              "0          1                 12                     4.0                  3   \n",
              "1          5                 12                     6.0                  9   \n",
              "2          6                  9                     2.0                  3   \n",
              "3          2                 21                     3.0                  5   \n",
              "4          6                  8                     2.0                  1   \n",
              "\n",
              "   reordered  \n",
              "0          0  \n",
              "1          0  \n",
              "2          0  \n",
              "3          1  \n",
              "4          1  "
            ]
          },
          "metadata": {
            "tags": []
          },
          "execution_count": 45
        }
      ]
    },
    {
      "metadata": {
        "id": "IkCXI5bsgoPn",
        "colab_type": "text"
      },
      "cell_type": "markdown",
      "source": [
        "## Plotting"
      ]
    },
    {
      "metadata": {
        "id": "wOFEJgUMgsXa",
        "colab_type": "text"
      },
      "cell_type": "markdown",
      "source": [
        "**I would like to look at:\n",
        "\n",
        "*   Top Alcohols Ordered\n",
        "*    Alcohol vs DOW\n",
        "*    Alcohol vs HOD\n"
      ]
    },
    {
      "metadata": {
        "id": "U6lvQSEQhaop",
        "colab_type": "code",
        "colab": {}
      },
      "cell_type": "code",
      "source": [
        "sns.catplot(x='aisle', y='order_dow', col='product_name',\n",
        "           kind='bar', data=final, color='hotpink');"
      ],
      "execution_count": 0,
      "outputs": []
    },
    {
      "metadata": {
        "id": "gDfaYG8Igrdw",
        "colab_type": "code",
        "colab": {}
      },
      "cell_type": "code",
      "source": [
        "final.pivot_table(index='year', columns='product_name', values='passengers')"
      ],
      "execution_count": 0,
      "outputs": []
    }
  ]
}