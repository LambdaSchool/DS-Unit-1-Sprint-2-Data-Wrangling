{
  "nbformat": 4,
  "nbformat_minor": 0,
  "metadata": {
    "colab": {
      "name": "LS_DS_124_Make_features_Ned_Horsey_3_28_19.ipynb",
      "version": "0.3.2",
      "provenance": [],
      "collapsed_sections": [],
      "include_colab_link": true
    },
    "kernelspec": {
      "display_name": "Python 3",
      "language": "python",
      "name": "python3"
    }
  },
  "cells": [
    {
      "cell_type": "markdown",
      "metadata": {
        "id": "view-in-github",
        "colab_type": "text"
      },
      "source": [
        "<a href=\"https://colab.research.google.com/github/Rice-from-data/DS-Unit-1-Sprint-2-Data-Wrangling/blob/master/LS_DS_124_Make_features_Ned_Horsey_3_28_19.ipynb\" target=\"_parent\"><img src=\"https://colab.research.google.com/assets/colab-badge.svg\" alt=\"Open In Colab\"/></a>"
      ]
    },
    {
      "metadata": {
        "colab_type": "text",
        "id": "qacqiXogluN_"
      },
      "cell_type": "markdown",
      "source": [
        "_Lambda School Data Science_\n",
        "\n",
        "# Make features\n",
        "\n",
        "Objectives\n",
        "-  understand the purpose of feature engineering\n",
        "-  work with strings in pandas\n",
        "- work with dates and times in pandas\n",
        "\n",
        "Links\n",
        "- [Feature Engineering](https://en.wikipedia.org/wiki/Feature_engineering)\n",
        "- Python Data Science Handbook\n",
        "  - [Chapter 3.10](https://jakevdp.github.io/PythonDataScienceHandbook/03.10-working-with-strings.html), Vectorized String Operations\n",
        "  - [Chapter 3.11](https://jakevdp.github.io/PythonDataScienceHandbook/03.11-working-with-time-series.html), Working with Time Series"
      ]
    },
    {
      "metadata": {
        "colab_type": "text",
        "id": "iSGiSktAoWIx"
      },
      "cell_type": "markdown",
      "source": [
        "## Get LendingClub data\n",
        "\n",
        "[Source](https://www.lendingclub.com/info/download-data.action)"
      ]
    },
    {
      "metadata": {
        "colab_type": "code",
        "id": "2ugxlWXimoHn",
        "colab": {
          "base_uri": "https://localhost:8080/",
          "height": 208
        },
        "outputId": "a147dcd5-c91e-4da4-9715-b9fc28492951"
      },
      "cell_type": "code",
      "source": [
        "!wget https://resources.lendingclub.com/LoanStats_2018Q4.csv.zip"
      ],
      "execution_count": 1,
      "outputs": [
        {
          "output_type": "stream",
          "text": [
            "--2019-03-28 16:06:28--  https://resources.lendingclub.com/LoanStats_2018Q4.csv.zip\n",
            "Resolving resources.lendingclub.com (resources.lendingclub.com)... 64.48.1.20\n",
            "Connecting to resources.lendingclub.com (resources.lendingclub.com)|64.48.1.20|:443... connected.\n",
            "HTTP request sent, awaiting response... 200 OK\n",
            "Length: unspecified [application/zip]\n",
            "Saving to: ‘LoanStats_2018Q4.csv.zip’\n",
            "\n",
            "LoanStats_2018Q4.cs     [               <=>  ]  21.29M   876KB/s    in 25s     \n",
            "\n",
            "2019-03-28 16:06:53 (868 KB/s) - ‘LoanStats_2018Q4.csv.zip’ saved [22329081]\n",
            "\n"
          ],
          "name": "stdout"
        }
      ]
    },
    {
      "metadata": {
        "colab_type": "code",
        "id": "-4sk6qPgmpmN",
        "colab": {
          "base_uri": "https://localhost:8080/",
          "height": 52
        },
        "outputId": "e698db56-f088-468e-f0b6-dc3ba63fd85c"
      },
      "cell_type": "code",
      "source": [
        "!unzip LoanStats_2018Q4.csv.zip"
      ],
      "execution_count": 2,
      "outputs": [
        {
          "output_type": "stream",
          "text": [
            "Archive:  LoanStats_2018Q4.csv.zip\n",
            "  inflating: LoanStats_2018Q4.csv    \n"
          ],
          "name": "stdout"
        }
      ]
    },
    {
      "metadata": {
        "colab_type": "code",
        "id": "seh5oNE1nD0X",
        "colab": {
          "base_uri": "https://localhost:8080/",
          "height": 211
        },
        "outputId": "ac690500-e2ce-442b-8792-039780ba10fc"
      },
      "cell_type": "code",
      "source": [
        "!head LoanStats_2018Q4.csv"
      ],
      "execution_count": 3,
      "outputs": [
        {
          "output_type": "stream",
          "text": [
            "Notes offered by Prospectus (https://www.lendingclub.com/info/prospectus.action)\n",
            "\"id\",\"member_id\",\"loan_amnt\",\"funded_amnt\",\"funded_amnt_inv\",\"term\",\"int_rate\",\"installment\",\"grade\",\"sub_grade\",\"emp_title\",\"emp_length\",\"home_ownership\",\"annual_inc\",\"verification_status\",\"issue_d\",\"loan_status\",\"pymnt_plan\",\"url\",\"desc\",\"purpose\",\"title\",\"zip_code\",\"addr_state\",\"dti\",\"delinq_2yrs\",\"earliest_cr_line\",\"inq_last_6mths\",\"mths_since_last_delinq\",\"mths_since_last_record\",\"open_acc\",\"pub_rec\",\"revol_bal\",\"revol_util\",\"total_acc\",\"initial_list_status\",\"out_prncp\",\"out_prncp_inv\",\"total_pymnt\",\"total_pymnt_inv\",\"total_rec_prncp\",\"total_rec_int\",\"total_rec_late_fee\",\"recoveries\",\"collection_recovery_fee\",\"last_pymnt_d\",\"last_pymnt_amnt\",\"next_pymnt_d\",\"last_credit_pull_d\",\"collections_12_mths_ex_med\",\"mths_since_last_major_derog\",\"policy_code\",\"application_type\",\"annual_inc_joint\",\"dti_joint\",\"verification_status_joint\",\"acc_now_delinq\",\"tot_coll_amt\",\"tot_cur_bal\",\"open_acc_6m\",\"open_act_il\",\"open_il_12m\",\"open_il_24m\",\"mths_since_rcnt_il\",\"total_bal_il\",\"il_util\",\"open_rv_12m\",\"open_rv_24m\",\"max_bal_bc\",\"all_util\",\"total_rev_hi_lim\",\"inq_fi\",\"total_cu_tl\",\"inq_last_12m\",\"acc_open_past_24mths\",\"avg_cur_bal\",\"bc_open_to_buy\",\"bc_util\",\"chargeoff_within_12_mths\",\"delinq_amnt\",\"mo_sin_old_il_acct\",\"mo_sin_old_rev_tl_op\",\"mo_sin_rcnt_rev_tl_op\",\"mo_sin_rcnt_tl\",\"mort_acc\",\"mths_since_recent_bc\",\"mths_since_recent_bc_dlq\",\"mths_since_recent_inq\",\"mths_since_recent_revol_delinq\",\"num_accts_ever_120_pd\",\"num_actv_bc_tl\",\"num_actv_rev_tl\",\"num_bc_sats\",\"num_bc_tl\",\"num_il_tl\",\"num_op_rev_tl\",\"num_rev_accts\",\"num_rev_tl_bal_gt_0\",\"num_sats\",\"num_tl_120dpd_2m\",\"num_tl_30dpd\",\"num_tl_90g_dpd_24m\",\"num_tl_op_past_12m\",\"pct_tl_nvr_dlq\",\"percent_bc_gt_75\",\"pub_rec_bankruptcies\",\"tax_liens\",\"tot_hi_cred_lim\",\"total_bal_ex_mort\",\"total_bc_limit\",\"total_il_high_credit_limit\",\"revol_bal_joint\",\"sec_app_earliest_cr_line\",\"sec_app_inq_last_6mths\",\"sec_app_mort_acc\",\"sec_app_open_acc\",\"sec_app_revol_util\",\"sec_app_open_act_il\",\"sec_app_num_rev_accts\",\"sec_app_chargeoff_within_12_mths\",\"sec_app_collections_12_mths_ex_med\",\"sec_app_mths_since_last_major_derog\",\"hardship_flag\",\"hardship_type\",\"hardship_reason\",\"hardship_status\",\"deferral_term\",\"hardship_amount\",\"hardship_start_date\",\"hardship_end_date\",\"payment_plan_start_date\",\"hardship_length\",\"hardship_dpd\",\"hardship_loan_status\",\"orig_projected_additional_accrued_interest\",\"hardship_payoff_balance_amount\",\"hardship_last_payment_amount\",\"disbursement_method\",\"debt_settlement_flag\",\"debt_settlement_flag_date\",\"settlement_status\",\"settlement_date\",\"settlement_amount\",\"settlement_percentage\",\"settlement_term\"\n",
            "\"\",\"\",\"2500\",\"2500\",\"2500\",\" 36 months\",\" 13.56%\",\"84.92\",\"C\",\"C1\",\"Chef\",\"10+ years\",\"RENT\",\"55000\",\"Not Verified\",\"Dec-2018\",\"Current\",\"n\",\"\",\"\",\"debt_consolidation\",\"Debt consolidation\",\"109xx\",\"NY\",\"18.24\",\"0\",\"Apr-2001\",\"1\",\"\",\"45\",\"9\",\"1\",\"4341\",\"10.3%\",\"34\",\"w\",\"2386.02\",\"2386.02\",\"167.02\",\"167.02\",\"113.98\",\"53.04\",\"0.0\",\"0.0\",\"0.0\",\"Feb-2019\",\"84.92\",\"Mar-2019\",\"Feb-2019\",\"0\",\"\",\"1\",\"Individual\",\"\",\"\",\"\",\"0\",\"0\",\"16901\",\"2\",\"2\",\"1\",\"2\",\"2\",\"12560\",\"69\",\"2\",\"7\",\"2137\",\"28\",\"42000\",\"1\",\"11\",\"2\",\"9\",\"1878\",\"34360\",\"5.9\",\"0\",\"0\",\"140\",\"212\",\"1\",\"1\",\"0\",\"1\",\"\",\"2\",\"\",\"0\",\"2\",\"5\",\"3\",\"3\",\"16\",\"7\",\"18\",\"5\",\"9\",\"0\",\"0\",\"0\",\"3\",\"100\",\"0\",\"1\",\"0\",\"60124\",\"16901\",\"36500\",\"18124\",\"\",\"\",\"\",\"\",\"\",\"\",\"\",\"\",\"\",\"\",\"\",\"N\",\"\",\"\",\"\",\"\",\"\",\"\",\"\",\"\",\"\",\"\",\"\",\"\",\"\",\"\",\"Cash\",\"N\",\"\",\"\",\"\",\"\",\"\",\"\"\n",
            "\"\",\"\",\"30000\",\"30000\",\"30000\",\" 60 months\",\" 18.94%\",\"777.23\",\"D\",\"D2\",\"Postmaster \",\"10+ years\",\"MORTGAGE\",\"90000\",\"Source Verified\",\"Dec-2018\",\"Current\",\"n\",\"\",\"\",\"debt_consolidation\",\"Debt consolidation\",\"713xx\",\"LA\",\"26.52\",\"0\",\"Jun-1987\",\"0\",\"71\",\"75\",\"13\",\"1\",\"12315\",\"24.2%\",\"44\",\"w\",\"29387.75\",\"29387.75\",\"1507.11\",\"1507.11\",\"612.25\",\"894.86\",\"0.0\",\"0.0\",\"0.0\",\"Feb-2019\",\"777.23\",\"Mar-2019\",\"Feb-2019\",\"0\",\"\",\"1\",\"Individual\",\"\",\"\",\"\",\"0\",\"1208\",\"321915\",\"4\",\"4\",\"2\",\"3\",\"3\",\"87153\",\"88\",\"4\",\"5\",\"998\",\"57\",\"50800\",\"2\",\"15\",\"2\",\"10\",\"24763\",\"13761\",\"8.3\",\"0\",\"0\",\"163\",\"378\",\"4\",\"3\",\"3\",\"4\",\"\",\"4\",\"\",\"0\",\"2\",\"4\",\"4\",\"9\",\"27\",\"8\",\"14\",\"4\",\"13\",\"0\",\"0\",\"0\",\"6\",\"95\",\"0\",\"1\",\"0\",\"372872\",\"99468\",\"15000\",\"94072\",\"\",\"\",\"\",\"\",\"\",\"\",\"\",\"\",\"\",\"\",\"\",\"N\",\"\",\"\",\"\",\"\",\"\",\"\",\"\",\"\",\"\",\"\",\"\",\"\",\"\",\"\",\"Cash\",\"N\",\"\",\"\",\"\",\"\",\"\",\"\"\n",
            "\"\",\"\",\"5000\",\"5000\",\"5000\",\" 36 months\",\" 17.97%\",\"180.69\",\"D\",\"D1\",\"Administrative\",\"6 years\",\"MORTGAGE\",\"59280\",\"Source Verified\",\"Dec-2018\",\"Current\",\"n\",\"\",\"\",\"debt_consolidation\",\"Debt consolidation\",\"490xx\",\"MI\",\"10.51\",\"0\",\"Apr-2011\",\"0\",\"\",\"\",\"8\",\"0\",\"4599\",\"19.1%\",\"13\",\"w\",\"4787.21\",\"4787.21\",\"353.89\",\"353.89\",\"212.79\",\"141.10\",\"0.0\",\"0.0\",\"0.0\",\"Feb-2019\",\"180.69\",\"Mar-2019\",\"Feb-2019\",\"0\",\"\",\"1\",\"Individual\",\"\",\"\",\"\",\"0\",\"0\",\"110299\",\"0\",\"1\",\"0\",\"2\",\"14\",\"7150\",\"72\",\"0\",\"2\",\"0\",\"35\",\"24100\",\"1\",\"5\",\"0\",\"4\",\"18383\",\"13800\",\"0\",\"0\",\"0\",\"87\",\"92\",\"15\",\"14\",\"2\",\"77\",\"\",\"14\",\"\",\"0\",\"0\",\"3\",\"3\",\"3\",\"4\",\"6\",\"7\",\"3\",\"8\",\"0\",\"0\",\"0\",\"0\",\"100\",\"0\",\"0\",\"0\",\"136927\",\"11749\",\"13800\",\"10000\",\"\",\"\",\"\",\"\",\"\",\"\",\"\",\"\",\"\",\"\",\"\",\"N\",\"\",\"\",\"\",\"\",\"\",\"\",\"\",\"\",\"\",\"\",\"\",\"\",\"\",\"\",\"Cash\",\"N\",\"\",\"\",\"\",\"\",\"\",\"\"\n",
            "\"\",\"\",\"4000\",\"4000\",\"4000\",\" 36 months\",\" 18.94%\",\"146.51\",\"D\",\"D2\",\"IT Supervisor\",\"10+ years\",\"MORTGAGE\",\"92000\",\"Source Verified\",\"Dec-2018\",\"Current\",\"n\",\"\",\"\",\"debt_consolidation\",\"Debt consolidation\",\"985xx\",\"WA\",\"16.74\",\"0\",\"Feb-2006\",\"0\",\"\",\"\",\"10\",\"0\",\"5468\",\"78.1%\",\"13\",\"w\",\"3831.93\",\"3831.93\",\"286.71\",\"286.71\",\"168.07\",\"118.64\",\"0.0\",\"0.0\",\"0.0\",\"Feb-2019\",\"146.51\",\"Mar-2019\",\"Feb-2019\",\"0\",\"\",\"1\",\"Individual\",\"\",\"\",\"\",\"0\",\"686\",\"305049\",\"1\",\"5\",\"3\",\"5\",\"5\",\"30683\",\"68\",\"0\",\"0\",\"3761\",\"70\",\"7000\",\"2\",\"4\",\"3\",\"5\",\"30505\",\"1239\",\"75.2\",\"0\",\"0\",\"62\",\"154\",\"64\",\"5\",\"3\",\"64\",\"\",\"5\",\"\",\"0\",\"1\",\"2\",\"1\",\"2\",\"7\",\"2\",\"3\",\"2\",\"10\",\"0\",\"0\",\"0\",\"3\",\"100\",\"100\",\"0\",\"0\",\"385183\",\"36151\",\"5000\",\"44984\",\"\",\"\",\"\",\"\",\"\",\"\",\"\",\"\",\"\",\"\",\"\",\"N\",\"\",\"\",\"\",\"\",\"\",\"\",\"\",\"\",\"\",\"\",\"\",\"\",\"\",\"\",\"Cash\",\"N\",\"\",\"\",\"\",\"\",\"\",\"\"\n",
            "\"\",\"\",\"30000\",\"30000\",\"30000\",\" 60 months\",\" 16.14%\",\"731.78\",\"C\",\"C4\",\"Mechanic\",\"10+ years\",\"MORTGAGE\",\"57250\",\"Not Verified\",\"Dec-2018\",\"Current\",\"n\",\"\",\"\",\"debt_consolidation\",\"Debt consolidation\",\"212xx\",\"MD\",\"26.35\",\"0\",\"Dec-2000\",\"0\",\"\",\"\",\"12\",\"0\",\"829\",\"3.6%\",\"26\",\"w\",\"29339.02\",\"29339.02\",\"1423.21\",\"1423.21\",\"660.98\",\"762.23\",\"0.0\",\"0.0\",\"0.0\",\"Feb-2019\",\"731.78\",\"Mar-2019\",\"Feb-2019\",\"0\",\"\",\"1\",\"Individual\",\"\",\"\",\"\",\"0\",\"0\",\"116007\",\"3\",\"5\",\"3\",\"5\",\"4\",\"28845\",\"89\",\"2\",\"4\",\"516\",\"54\",\"23100\",\"1\",\"0\",\"0\",\"9\",\"9667\",\"8471\",\"8.9\",\"0\",\"0\",\"53\",\"216\",\"2\",\"2\",\"2\",\"2\",\"\",\"13\",\"\",\"0\",\"2\",\"2\",\"3\",\"8\",\"9\",\"6\",\"15\",\"2\",\"12\",\"0\",\"0\",\"0\",\"5\",\"92.3\",\"0\",\"0\",\"0\",\"157548\",\"29674\",\"9300\",\"32332\",\"\",\"\",\"\",\"\",\"\",\"\",\"\",\"\",\"\",\"\",\"\",\"N\",\"\",\"\",\"\",\"\",\"\",\"\",\"\",\"\",\"\",\"\",\"\",\"\",\"\",\"\",\"Cash\",\"N\",\"\",\"\",\"\",\"\",\"\",\"\"\n",
            "\"\",\"\",\"5550\",\"5550\",\"5550\",\" 36 months\",\" 15.02%\",\"192.45\",\"C\",\"C3\",\"Director COE\",\"10+ years\",\"MORTGAGE\",\"152500\",\"Not Verified\",\"Dec-2018\",\"Current\",\"n\",\"\",\"\",\"credit_card\",\"Credit card refinancing\",\"461xx\",\"IN\",\"37.94\",\"0\",\"Sep-2002\",\"3\",\"\",\"\",\"18\",\"0\",\"53854\",\"48.1%\",\"44\",\"w\",\"5302.50\",\"5302.50\",\"377.95\",\"377.95\",\"247.50\",\"130.45\",\"0.0\",\"0.0\",\"0.0\",\"Feb-2019\",\"192.45\",\"Mar-2019\",\"Feb-2019\",\"0\",\"\",\"1\",\"Individual\",\"\",\"\",\"\",\"0\",\"0\",\"685749\",\"1\",\"7\",\"2\",\"3\",\"4\",\"131524\",\"72\",\"1\",\"4\",\"17584\",\"58\",\"111900\",\"2\",\"4\",\"6\",\"8\",\"40338\",\"23746\",\"64\",\"0\",\"0\",\"195\",\"176\",\"10\",\"4\",\"6\",\"20\",\"\",\"3\",\"\",\"0\",\"4\",\"6\",\"6\",\"10\",\"23\",\"9\",\"15\",\"7\",\"18\",\"0\",\"0\",\"0\",\"4\",\"100\",\"60\",\"0\",\"0\",\"831687\",\"185378\",\"65900\",\"203159\",\"\",\"\",\"\",\"\",\"\",\"\",\"\",\"\",\"\",\"\",\"\",\"N\",\"\",\"\",\"\",\"\",\"\",\"\",\"\",\"\",\"\",\"\",\"\",\"\",\"\",\"\",\"Cash\",\"N\",\"\",\"\",\"\",\"\",\"\",\"\"\n",
            "\"\",\"\",\"2000\",\"2000\",\"2000\",\" 36 months\",\" 17.97%\",\"72.28\",\"D\",\"D1\",\"Account Manager\",\"4 years\",\"RENT\",\"51000\",\"Source Verified\",\"Dec-2018\",\"Current\",\"n\",\"\",\"\",\"debt_consolidation\",\"Debt consolidation\",\"606xx\",\"IL\",\"2.4\",\"0\",\"Nov-2004\",\"1\",\"\",\"\",\"1\",\"0\",\"0\",\"\",\"9\",\"w\",\"1914.71\",\"1914.71\",\"141.56\",\"141.56\",\"85.29\",\"56.27\",\"0.0\",\"0.0\",\"0.0\",\"Feb-2019\",\"72.28\",\"Mar-2019\",\"Feb-2019\",\"0\",\"\",\"1\",\"Individual\",\"\",\"\",\"\",\"0\",\"0\",\"854\",\"0\",\"0\",\"2\",\"3\",\"7\",\"0\",\"\",\"0\",\"1\",\"0\",\"100\",\"0\",\"0\",\"0\",\"1\",\"4\",\"854\",\"\",\"\",\"0\",\"0\",\"169\",\"40\",\"23\",\"7\",\"0\",\"\",\"\",\"1\",\"\",\"0\",\"0\",\"0\",\"0\",\"3\",\"5\",\"0\",\"3\",\"0\",\"1\",\"0\",\"0\",\"0\",\"2\",\"100\",\"\",\"0\",\"0\",\"854\",\"854\",\"0\",\"0\",\"\",\"\",\"\",\"\",\"\",\"\",\"\",\"\",\"\",\"\",\"\",\"N\",\"\",\"\",\"\",\"\",\"\",\"\",\"\",\"\",\"\",\"\",\"\",\"\",\"\",\"\",\"Cash\",\"N\",\"\",\"\",\"\",\"\",\"\",\"\"\n",
            "\"\",\"\",\"6000\",\"6000\",\"6000\",\" 36 months\",\" 13.56%\",\"203.79\",\"C\",\"C1\",\"Assistant Director\",\"10+ years\",\"RENT\",\"65000\",\"Source Verified\",\"Dec-2018\",\"Current\",\"n\",\"\",\"\",\"credit_card\",\"Credit card refinancing\",\"460xx\",\"IN\",\"30.1\",\"0\",\"Nov-1997\",\"0\",\"\",\"\",\"19\",\"0\",\"38476\",\"69.3%\",\"37\",\"w\",\"5864.01\",\"5864.01\",\"201.53\",\"201.53\",\"135.99\",\"65.54\",\"0.0\",\"0.0\",\"0.0\",\"Feb-2019\",\"208.31\",\"Mar-2019\",\"Feb-2019\",\"0\",\"\",\"1\",\"Individual\",\"\",\"\",\"\",\"0\",\"0\",\"91535\",\"0\",\"5\",\"0\",\"1\",\"23\",\"53059\",\"87\",\"0\",\"2\",\"9413\",\"74\",\"55500\",\"1\",\"2\",\"0\",\"3\",\"5085\",\"3034\",\"90.8\",\"0\",\"0\",\"169\",\"253\",\"13\",\"13\",\"1\",\"14\",\"\",\"13\",\"\",\"0\",\"7\",\"12\",\"8\",\"10\",\"15\",\"14\",\"20\",\"12\",\"19\",\"0\",\"0\",\"0\",\"0\",\"100\",\"85.7\",\"0\",\"0\",\"117242\",\"91535\",\"33100\",\"61742\",\"\",\"\",\"\",\"\",\"\",\"\",\"\",\"\",\"\",\"\",\"\",\"N\",\"\",\"\",\"\",\"\",\"\",\"\",\"\",\"\",\"\",\"\",\"\",\"\",\"\",\"\",\"DirectPay\",\"N\",\"\",\"\",\"\",\"\",\"\",\"\"\n"
          ],
          "name": "stdout"
        }
      ]
    },
    {
      "metadata": {
        "id": "vk5WsNvuEMhg",
        "colab_type": "text"
      },
      "cell_type": "markdown",
      "source": [
        "most are comma seperated values but there's a url in the first line"
      ]
    },
    {
      "metadata": {
        "id": "yH_DBJ-8EBZT",
        "colab_type": "code",
        "colab": {
          "base_uri": "https://localhost:8080/",
          "height": 211
        },
        "outputId": "b1a0649e-da08-4ff1-9b0e-521d3796d330"
      },
      "cell_type": "code",
      "source": [
        "!tail LoanStats_2018Q4.csv"
      ],
      "execution_count": 4,
      "outputs": [
        {
          "output_type": "stream",
          "text": [
            "\"\",\"\",\"5600\",\"5600\",\"5600\",\" 36 months\",\" 13.56%\",\"190.21\",\"C\",\"C1\",\"\",\"n/a\",\"RENT\",\"15600\",\"Not Verified\",\"Oct-2018\",\"Current\",\"n\",\"\",\"\",\"credit_card\",\"Credit card refinancing\",\"836xx\",\"ID\",\"15.31\",\"0\",\"Aug-2012\",\"0\",\"\",\"97\",\"9\",\"1\",\"5996\",\"34.5%\",\"11\",\"w\",\"5083.61\",\"5083.61\",\"750.29\",\"750.29\",\"516.39\",\"233.90\",\"0.0\",\"0.0\",\"0.0\",\"Feb-2019\",\"190.21\",\"Mar-2019\",\"Feb-2019\",\"0\",\"\",\"1\",\"Individual\",\"\",\"\",\"\",\"0\",\"0\",\"5996\",\"0\",\"0\",\"0\",\"1\",\"20\",\"0\",\"\",\"0\",\"2\",\"3017\",\"35\",\"17400\",\"1\",\"0\",\"0\",\"3\",\"750\",\"4689\",\"45.5\",\"0\",\"0\",\"20\",\"73\",\"13\",\"13\",\"0\",\"13\",\"\",\"20\",\"\",\"0\",\"3\",\"5\",\"4\",\"4\",\"1\",\"9\",\"10\",\"5\",\"9\",\"0\",\"0\",\"0\",\"0\",\"100\",\"25\",\"1\",\"0\",\"17400\",\"5996\",\"8600\",\"0\",\"\",\"\",\"\",\"\",\"\",\"\",\"\",\"\",\"\",\"\",\"\",\"N\",\"\",\"\",\"\",\"\",\"\",\"\",\"\",\"\",\"\",\"\",\"\",\"\",\"\",\"\",\"Cash\",\"N\",\"\",\"\",\"\",\"\",\"\",\"\"\n",
            "\"\",\"\",\"23000\",\"23000\",\"23000\",\" 36 months\",\" 15.02%\",\"797.53\",\"C\",\"C3\",\"Tax Consultant\",\"10+ years\",\"MORTGAGE\",\"75000\",\"Source Verified\",\"Oct-2018\",\"Charged Off\",\"n\",\"\",\"\",\"debt_consolidation\",\"Debt consolidation\",\"352xx\",\"AL\",\"20.95\",\"1\",\"Aug-1985\",\"2\",\"22\",\"\",\"12\",\"0\",\"22465\",\"43.6%\",\"28\",\"w\",\"0.00\",\"0.00\",\"1547.08\",\"1547.08\",\"1025.67\",\"521.41\",\"0.0\",\"0.0\",\"0.0\",\"Dec-2018\",\"797.53\",\"\",\"Nov-2018\",\"0\",\"\",\"1\",\"Individual\",\"\",\"\",\"\",\"0\",\"0\",\"259658\",\"4\",\"2\",\"3\",\"3\",\"6\",\"18149\",\"86\",\"4\",\"6\",\"12843\",\"56\",\"51500\",\"2\",\"2\",\"5\",\"11\",\"21638\",\"26321\",\"44.1\",\"0\",\"0\",\"12\",\"397\",\"4\",\"4\",\"6\",\"5\",\"22\",\"4\",\"22\",\"0\",\"4\",\"5\",\"7\",\"14\",\"3\",\"9\",\"19\",\"5\",\"12\",\"0\",\"0\",\"0\",\"7\",\"96.4\",\"14.3\",\"0\",\"0\",\"296500\",\"40614\",\"47100\",\"21000\",\"\",\"\",\"\",\"\",\"\",\"\",\"\",\"\",\"\",\"\",\"\",\"N\",\"\",\"\",\"\",\"\",\"\",\"\",\"\",\"\",\"\",\"\",\"\",\"\",\"\",\"\",\"Cash\",\"N\",\"\",\"\",\"\",\"\",\"\",\"\"\n",
            "\"\",\"\",\"10000\",\"10000\",\"10000\",\" 36 months\",\" 15.02%\",\"346.76\",\"C\",\"C3\",\"security guard\",\"5 years\",\"MORTGAGE\",\"38000\",\"Not Verified\",\"Oct-2018\",\"Current\",\"n\",\"\",\"\",\"debt_consolidation\",\"Debt consolidation\",\"443xx\",\"OH\",\"13.16\",\"3\",\"Jul-1982\",\"0\",\"6\",\"\",\"11\",\"0\",\"5634\",\"37.1%\",\"16\",\"w\",\"9096.85\",\"9096.85\",\"1378.7\",\"1378.70\",\"903.15\",\"475.55\",\"0.0\",\"0.0\",\"0.0\",\"Feb-2019\",\"346.76\",\"Mar-2019\",\"Feb-2019\",\"0\",\"\",\"1\",\"Individual\",\"\",\"\",\"\",\"0\",\"155\",\"77424\",\"0\",\"1\",\"0\",\"0\",\"34\",\"200\",\"10\",\"1\",\"1\",\"1866\",\"42\",\"15200\",\"2\",\"0\",\"0\",\"2\",\"7039\",\"4537\",\"50.1\",\"0\",\"0\",\"34\",\"434\",\"11\",\"11\",\"3\",\"11\",\"6\",\"17\",\"6\",\"0\",\"3\",\"5\",\"5\",\"6\",\"1\",\"8\",\"11\",\"5\",\"11\",\"0\",\"0\",\"0\",\"1\",\"73.3\",\"40\",\"0\",\"0\",\"91403\",\"9323\",\"9100\",\"2000\",\"\",\"\",\"\",\"\",\"\",\"\",\"\",\"\",\"\",\"\",\"\",\"N\",\"\",\"\",\"\",\"\",\"\",\"\",\"\",\"\",\"\",\"\",\"\",\"\",\"\",\"\",\"Cash\",\"N\",\"\",\"\",\"\",\"\",\"\",\"\"\n",
            "\"\",\"\",\"5000\",\"5000\",\"5000\",\" 36 months\",\" 13.56%\",\"169.83\",\"C\",\"C1\",\"Payoff Clerk\",\"10+ years\",\"MORTGAGE\",\"35360\",\"Not Verified\",\"Oct-2018\",\"Current\",\"n\",\"\",\"\",\"debt_consolidation\",\"Debt consolidation\",\"381xx\",\"TN\",\"11.3\",\"1\",\"Jun-2006\",\"0\",\"21\",\"\",\"9\",\"0\",\"2597\",\"27.3%\",\"15\",\"f\",\"4538.94\",\"4538.94\",\"675.55\",\"675.55\",\"461.06\",\"214.49\",\"0.0\",\"0.0\",\"0.0\",\"Feb-2019\",\"169.83\",\"Mar-2019\",\"Feb-2019\",\"0\",\"\",\"1\",\"Individual\",\"\",\"\",\"\",\"0\",\"1413\",\"69785\",\"0\",\"2\",\"0\",\"1\",\"16\",\"2379\",\"40\",\"3\",\"4\",\"1826\",\"32\",\"9500\",\"0\",\"0\",\"1\",\"5\",\"8723\",\"1174\",\"60.9\",\"0\",\"0\",\"147\",\"85\",\"9\",\"9\",\"2\",\"10\",\"21\",\"9\",\"21\",\"0\",\"1\",\"3\",\"2\",\"2\",\"6\",\"6\",\"7\",\"3\",\"9\",\"0\",\"0\",\"0\",\"3\",\"92.9\",\"50\",\"0\",\"0\",\"93908\",\"4976\",\"3000\",\"6028\",\"\",\"\",\"\",\"\",\"\",\"\",\"\",\"\",\"\",\"\",\"\",\"N\",\"\",\"\",\"\",\"\",\"\",\"\",\"\",\"\",\"\",\"\",\"\",\"\",\"\",\"\",\"Cash\",\"N\",\"\",\"\",\"\",\"\",\"\",\"\"\n",
            "\"\",\"\",\"10000\",\"10000\",\"9750\",\" 36 months\",\" 11.06%\",\"327.68\",\"B\",\"B3\",\"\",\"n/a\",\"RENT\",\"44400\",\"Source Verified\",\"Oct-2018\",\"Current\",\"n\",\"\",\"\",\"credit_card\",\"Credit card refinancing\",\"980xx\",\"WA\",\"11.78\",\"0\",\"Oct-2008\",\"2\",\"40\",\"\",\"15\",\"0\",\"6269\",\"13.1%\",\"25\",\"f\",\"9044.84\",\"8818.72\",\"1295.36\",\"1262.98\",\"955.16\",\"340.20\",\"0.0\",\"0.0\",\"0.0\",\"Feb-2019\",\"327.68\",\"Mar-2019\",\"Feb-2019\",\"0\",\"53\",\"1\",\"Individual\",\"\",\"\",\"\",\"0\",\"520\",\"16440\",\"3\",\"1\",\"1\",\"1\",\"2\",\"10171\",\"100\",\"2\",\"5\",\"404\",\"28\",\"47700\",\"0\",\"3\",\"5\",\"6\",\"1265\",\"20037\",\"2.3\",\"0\",\"0\",\"61\",\"119\",\"1\",\"1\",\"0\",\"1\",\"\",\"1\",\"40\",\"1\",\"2\",\"4\",\"6\",\"8\",\"3\",\"14\",\"22\",\"4\",\"15\",\"0\",\"0\",\"0\",\"3\",\"92\",\"0\",\"0\",\"0\",\"57871\",\"16440\",\"20500\",\"10171\",\"\",\"\",\"\",\"\",\"\",\"\",\"\",\"\",\"\",\"\",\"\",\"N\",\"\",\"\",\"\",\"\",\"\",\"\",\"\",\"\",\"\",\"\",\"\",\"\",\"\",\"\",\"Cash\",\"N\",\"\",\"\",\"\",\"\",\"\",\"\"\n",
            "\"\",\"\",\"10000\",\"10000\",\"10000\",\" 36 months\",\" 16.91%\",\"356.08\",\"C\",\"C5\",\"Key Accounts Manager\",\"2 years\",\"RENT\",\"80000\",\"Not Verified\",\"Oct-2018\",\"Current\",\"n\",\"\",\"\",\"other\",\"Other\",\"021xx\",\"MA\",\"17.72\",\"1\",\"Sep-2006\",\"0\",\"14\",\"\",\"17\",\"0\",\"1942\",\"30.8%\",\"31\",\"w\",\"9120.98\",\"9120.98\",\"1414.93\",\"1414.93\",\"879.02\",\"535.91\",\"0.0\",\"0.0\",\"0.0\",\"Feb-2019\",\"356.08\",\"Mar-2019\",\"Feb-2019\",\"0\",\"25\",\"1\",\"Individual\",\"\",\"\",\"\",\"0\",\"0\",\"59194\",\"0\",\"15\",\"1\",\"1\",\"12\",\"57252\",\"85\",\"0\",\"0\",\"1942\",\"80\",\"6300\",\"0\",\"5\",\"0\",\"1\",\"3482\",\"2058\",\"48.5\",\"0\",\"0\",\"144\",\"142\",\"40\",\"12\",\"0\",\"131\",\"30\",\"\",\"30\",\"3\",\"1\",\"1\",\"1\",\"5\",\"22\",\"2\",\"9\",\"1\",\"17\",\"0\",\"0\",\"0\",\"1\",\"74.2\",\"0\",\"0\",\"0\",\"73669\",\"59194\",\"4000\",\"67369\",\"\",\"\",\"\",\"\",\"\",\"\",\"\",\"\",\"\",\"\",\"\",\"N\",\"\",\"\",\"\",\"\",\"\",\"\",\"\",\"\",\"\",\"\",\"\",\"\",\"\",\"\",\"Cash\",\"N\",\"\",\"\",\"\",\"\",\"\",\"\"\n",
            "\n",
            "\n",
            "Total amount funded in policy code 1: 2050909275\n",
            "Total amount funded in policy code 2: 820109297\n"
          ],
          "name": "stdout"
        }
      ]
    },
    {
      "metadata": {
        "colab_type": "text",
        "id": "3nAIRCZdofrY"
      },
      "cell_type": "markdown",
      "source": [
        "## Load LendingClub data\n",
        "\n",
        "pandas documentation\n",
        "- [`read_csv`](https://pandas.pydata.org/pandas-docs/stable/generated/pandas.read_csv.html)\n",
        "- [`options.display`](https://pandas.pydata.org/pandas-docs/stable/options.html#available-options)"
      ]
    },
    {
      "metadata": {
        "colab_type": "code",
        "id": "3-8Vn3y6ooBC",
        "colab": {}
      },
      "cell_type": "code",
      "source": [
        "import pandas as pd\n",
        "\n",
        "df = pd.read_csv('LoanStats_2018Q4.csv', skiprows=1, skipfooter=2, engine='python')"
      ],
      "execution_count": 0,
      "outputs": []
    },
    {
      "metadata": {
        "id": "Oy4Xi07MEYOD",
        "colab_type": "code",
        "colab": {
          "base_uri": "https://localhost:8080/",
          "height": 35
        },
        "outputId": "de9c9288-a974-4e48-949e-b2c2b924dfc4"
      },
      "cell_type": "code",
      "source": [
        "df.shape"
      ],
      "execution_count": 25,
      "outputs": [
        {
          "output_type": "execute_result",
          "data": {
            "text/plain": [
              "(128412, 145)"
            ]
          },
          "metadata": {
            "tags": []
          },
          "execution_count": 25
        }
      ]
    },
    {
      "metadata": {
        "id": "VQ2Hb5DzF2Uc",
        "colab_type": "code",
        "colab": {
          "base_uri": "https://localhost:8080/",
          "height": 309
        },
        "outputId": "269aa177-529f-4fdb-9733-a112f5f077a9"
      },
      "cell_type": "code",
      "source": [
        "pd.options.display.max_columns = 500\n",
        "pd.options.display.max_rows = 500\n",
        "df.head()"
      ],
      "execution_count": 31,
      "outputs": [
        {
          "output_type": "execute_result",
          "data": {
            "text/html": [
              "<div>\n",
              "<style scoped>\n",
              "    .dataframe tbody tr th:only-of-type {\n",
              "        vertical-align: middle;\n",
              "    }\n",
              "\n",
              "    .dataframe tbody tr th {\n",
              "        vertical-align: top;\n",
              "    }\n",
              "\n",
              "    .dataframe thead th {\n",
              "        text-align: right;\n",
              "    }\n",
              "</style>\n",
              "<table border=\"1\" class=\"dataframe\">\n",
              "  <thead>\n",
              "    <tr style=\"text-align: right;\">\n",
              "      <th></th>\n",
              "      <th>id</th>\n",
              "      <th>member_id</th>\n",
              "      <th>loan_amnt</th>\n",
              "      <th>funded_amnt</th>\n",
              "      <th>funded_amnt_inv</th>\n",
              "      <th>term</th>\n",
              "      <th>int_rate</th>\n",
              "      <th>installment</th>\n",
              "      <th>grade</th>\n",
              "      <th>sub_grade</th>\n",
              "      <th>emp_title</th>\n",
              "      <th>emp_length</th>\n",
              "      <th>home_ownership</th>\n",
              "      <th>annual_inc</th>\n",
              "      <th>verification_status</th>\n",
              "      <th>issue_d</th>\n",
              "      <th>loan_status</th>\n",
              "      <th>pymnt_plan</th>\n",
              "      <th>url</th>\n",
              "      <th>desc</th>\n",
              "      <th>purpose</th>\n",
              "      <th>title</th>\n",
              "      <th>zip_code</th>\n",
              "      <th>addr_state</th>\n",
              "      <th>dti</th>\n",
              "      <th>delinq_2yrs</th>\n",
              "      <th>earliest_cr_line</th>\n",
              "      <th>inq_last_6mths</th>\n",
              "      <th>mths_since_last_delinq</th>\n",
              "      <th>mths_since_last_record</th>\n",
              "      <th>open_acc</th>\n",
              "      <th>pub_rec</th>\n",
              "      <th>revol_bal</th>\n",
              "      <th>revol_util</th>\n",
              "      <th>total_acc</th>\n",
              "      <th>initial_list_status</th>\n",
              "      <th>out_prncp</th>\n",
              "      <th>out_prncp_inv</th>\n",
              "      <th>total_pymnt</th>\n",
              "      <th>total_pymnt_inv</th>\n",
              "      <th>total_rec_prncp</th>\n",
              "      <th>total_rec_int</th>\n",
              "      <th>total_rec_late_fee</th>\n",
              "      <th>recoveries</th>\n",
              "      <th>collection_recovery_fee</th>\n",
              "      <th>last_pymnt_d</th>\n",
              "      <th>last_pymnt_amnt</th>\n",
              "      <th>next_pymnt_d</th>\n",
              "      <th>last_credit_pull_d</th>\n",
              "      <th>collections_12_mths_ex_med</th>\n",
              "      <th>mths_since_last_major_derog</th>\n",
              "      <th>policy_code</th>\n",
              "      <th>application_type</th>\n",
              "      <th>annual_inc_joint</th>\n",
              "      <th>dti_joint</th>\n",
              "      <th>verification_status_joint</th>\n",
              "      <th>acc_now_delinq</th>\n",
              "      <th>tot_coll_amt</th>\n",
              "      <th>tot_cur_bal</th>\n",
              "      <th>open_acc_6m</th>\n",
              "      <th>open_act_il</th>\n",
              "      <th>open_il_12m</th>\n",
              "      <th>open_il_24m</th>\n",
              "      <th>mths_since_rcnt_il</th>\n",
              "      <th>total_bal_il</th>\n",
              "      <th>il_util</th>\n",
              "      <th>open_rv_12m</th>\n",
              "      <th>open_rv_24m</th>\n",
              "      <th>max_bal_bc</th>\n",
              "      <th>all_util</th>\n",
              "      <th>total_rev_hi_lim</th>\n",
              "      <th>inq_fi</th>\n",
              "      <th>total_cu_tl</th>\n",
              "      <th>inq_last_12m</th>\n",
              "      <th>acc_open_past_24mths</th>\n",
              "      <th>avg_cur_bal</th>\n",
              "      <th>bc_open_to_buy</th>\n",
              "      <th>bc_util</th>\n",
              "      <th>chargeoff_within_12_mths</th>\n",
              "      <th>delinq_amnt</th>\n",
              "      <th>mo_sin_old_il_acct</th>\n",
              "      <th>mo_sin_old_rev_tl_op</th>\n",
              "      <th>mo_sin_rcnt_rev_tl_op</th>\n",
              "      <th>mo_sin_rcnt_tl</th>\n",
              "      <th>mort_acc</th>\n",
              "      <th>mths_since_recent_bc</th>\n",
              "      <th>mths_since_recent_bc_dlq</th>\n",
              "      <th>mths_since_recent_inq</th>\n",
              "      <th>mths_since_recent_revol_delinq</th>\n",
              "      <th>num_accts_ever_120_pd</th>\n",
              "      <th>num_actv_bc_tl</th>\n",
              "      <th>num_actv_rev_tl</th>\n",
              "      <th>num_bc_sats</th>\n",
              "      <th>num_bc_tl</th>\n",
              "      <th>num_il_tl</th>\n",
              "      <th>num_op_rev_tl</th>\n",
              "      <th>num_rev_accts</th>\n",
              "      <th>num_rev_tl_bal_gt_0</th>\n",
              "      <th>num_sats</th>\n",
              "      <th>num_tl_120dpd_2m</th>\n",
              "      <th>num_tl_30dpd</th>\n",
              "      <th>num_tl_90g_dpd_24m</th>\n",
              "      <th>num_tl_op_past_12m</th>\n",
              "      <th>pct_tl_nvr_dlq</th>\n",
              "      <th>percent_bc_gt_75</th>\n",
              "      <th>pub_rec_bankruptcies</th>\n",
              "      <th>tax_liens</th>\n",
              "      <th>tot_hi_cred_lim</th>\n",
              "      <th>total_bal_ex_mort</th>\n",
              "      <th>total_bc_limit</th>\n",
              "      <th>total_il_high_credit_limit</th>\n",
              "      <th>revol_bal_joint</th>\n",
              "      <th>sec_app_earliest_cr_line</th>\n",
              "      <th>sec_app_inq_last_6mths</th>\n",
              "      <th>sec_app_mort_acc</th>\n",
              "      <th>sec_app_open_acc</th>\n",
              "      <th>sec_app_revol_util</th>\n",
              "      <th>sec_app_open_act_il</th>\n",
              "      <th>sec_app_num_rev_accts</th>\n",
              "      <th>sec_app_chargeoff_within_12_mths</th>\n",
              "      <th>sec_app_collections_12_mths_ex_med</th>\n",
              "      <th>sec_app_mths_since_last_major_derog</th>\n",
              "      <th>hardship_flag</th>\n",
              "      <th>hardship_type</th>\n",
              "      <th>hardship_reason</th>\n",
              "      <th>hardship_status</th>\n",
              "      <th>deferral_term</th>\n",
              "      <th>hardship_amount</th>\n",
              "      <th>hardship_start_date</th>\n",
              "      <th>hardship_end_date</th>\n",
              "      <th>payment_plan_start_date</th>\n",
              "      <th>hardship_length</th>\n",
              "      <th>hardship_dpd</th>\n",
              "      <th>hardship_loan_status</th>\n",
              "      <th>orig_projected_additional_accrued_interest</th>\n",
              "      <th>hardship_payoff_balance_amount</th>\n",
              "      <th>hardship_last_payment_amount</th>\n",
              "      <th>disbursement_method</th>\n",
              "      <th>debt_settlement_flag</th>\n",
              "      <th>debt_settlement_flag_date</th>\n",
              "      <th>settlement_status</th>\n",
              "      <th>settlement_date</th>\n",
              "      <th>settlement_amount</th>\n",
              "      <th>settlement_percentage</th>\n",
              "      <th>settlement_term</th>\n",
              "    </tr>\n",
              "  </thead>\n",
              "  <tbody>\n",
              "    <tr>\n",
              "      <th>0</th>\n",
              "      <td>NaN</td>\n",
              "      <td>NaN</td>\n",
              "      <td>2500</td>\n",
              "      <td>2500</td>\n",
              "      <td>2500.0</td>\n",
              "      <td>36 months</td>\n",
              "      <td>13.56%</td>\n",
              "      <td>84.92</td>\n",
              "      <td>C</td>\n",
              "      <td>C1</td>\n",
              "      <td>Chef</td>\n",
              "      <td>10+ years</td>\n",
              "      <td>RENT</td>\n",
              "      <td>55000.0</td>\n",
              "      <td>Not Verified</td>\n",
              "      <td>Dec-2018</td>\n",
              "      <td>Current</td>\n",
              "      <td>n</td>\n",
              "      <td>NaN</td>\n",
              "      <td>NaN</td>\n",
              "      <td>debt_consolidation</td>\n",
              "      <td>Debt consolidation</td>\n",
              "      <td>109xx</td>\n",
              "      <td>NY</td>\n",
              "      <td>18.24</td>\n",
              "      <td>0</td>\n",
              "      <td>Apr-2001</td>\n",
              "      <td>1</td>\n",
              "      <td>NaN</td>\n",
              "      <td>45.0</td>\n",
              "      <td>9</td>\n",
              "      <td>1</td>\n",
              "      <td>4341</td>\n",
              "      <td>10.3%</td>\n",
              "      <td>34</td>\n",
              "      <td>w</td>\n",
              "      <td>2386.02</td>\n",
              "      <td>2386.02</td>\n",
              "      <td>167.02</td>\n",
              "      <td>167.02</td>\n",
              "      <td>113.98</td>\n",
              "      <td>53.04</td>\n",
              "      <td>0.0</td>\n",
              "      <td>0.0</td>\n",
              "      <td>0.0</td>\n",
              "      <td>Feb-2019</td>\n",
              "      <td>84.92</td>\n",
              "      <td>Mar-2019</td>\n",
              "      <td>Feb-2019</td>\n",
              "      <td>0</td>\n",
              "      <td>NaN</td>\n",
              "      <td>1</td>\n",
              "      <td>Individual</td>\n",
              "      <td>NaN</td>\n",
              "      <td>NaN</td>\n",
              "      <td>NaN</td>\n",
              "      <td>0</td>\n",
              "      <td>0</td>\n",
              "      <td>16901</td>\n",
              "      <td>2</td>\n",
              "      <td>2</td>\n",
              "      <td>1</td>\n",
              "      <td>2</td>\n",
              "      <td>2.0</td>\n",
              "      <td>12560</td>\n",
              "      <td>69.0</td>\n",
              "      <td>2</td>\n",
              "      <td>7</td>\n",
              "      <td>2137</td>\n",
              "      <td>28.0</td>\n",
              "      <td>42000</td>\n",
              "      <td>1</td>\n",
              "      <td>11</td>\n",
              "      <td>2</td>\n",
              "      <td>9</td>\n",
              "      <td>1878.0</td>\n",
              "      <td>34360.0</td>\n",
              "      <td>5.9</td>\n",
              "      <td>0</td>\n",
              "      <td>0</td>\n",
              "      <td>140.0</td>\n",
              "      <td>212</td>\n",
              "      <td>1</td>\n",
              "      <td>1</td>\n",
              "      <td>0</td>\n",
              "      <td>1.0</td>\n",
              "      <td>NaN</td>\n",
              "      <td>2.0</td>\n",
              "      <td>NaN</td>\n",
              "      <td>0</td>\n",
              "      <td>2</td>\n",
              "      <td>5</td>\n",
              "      <td>3</td>\n",
              "      <td>3</td>\n",
              "      <td>16</td>\n",
              "      <td>7</td>\n",
              "      <td>18</td>\n",
              "      <td>5</td>\n",
              "      <td>9</td>\n",
              "      <td>0.0</td>\n",
              "      <td>0</td>\n",
              "      <td>0</td>\n",
              "      <td>3</td>\n",
              "      <td>100.0</td>\n",
              "      <td>0.0</td>\n",
              "      <td>1</td>\n",
              "      <td>0</td>\n",
              "      <td>60124</td>\n",
              "      <td>16901</td>\n",
              "      <td>36500</td>\n",
              "      <td>18124</td>\n",
              "      <td>NaN</td>\n",
              "      <td>NaN</td>\n",
              "      <td>NaN</td>\n",
              "      <td>NaN</td>\n",
              "      <td>NaN</td>\n",
              "      <td>NaN</td>\n",
              "      <td>NaN</td>\n",
              "      <td>NaN</td>\n",
              "      <td>NaN</td>\n",
              "      <td>NaN</td>\n",
              "      <td>NaN</td>\n",
              "      <td>N</td>\n",
              "      <td>NaN</td>\n",
              "      <td>NaN</td>\n",
              "      <td>NaN</td>\n",
              "      <td>NaN</td>\n",
              "      <td>NaN</td>\n",
              "      <td>NaN</td>\n",
              "      <td>NaN</td>\n",
              "      <td>NaN</td>\n",
              "      <td>NaN</td>\n",
              "      <td>NaN</td>\n",
              "      <td>NaN</td>\n",
              "      <td>NaN</td>\n",
              "      <td>NaN</td>\n",
              "      <td>NaN</td>\n",
              "      <td>Cash</td>\n",
              "      <td>N</td>\n",
              "      <td>NaN</td>\n",
              "      <td>NaN</td>\n",
              "      <td>NaN</td>\n",
              "      <td>NaN</td>\n",
              "      <td>NaN</td>\n",
              "      <td>NaN</td>\n",
              "    </tr>\n",
              "    <tr>\n",
              "      <th>1</th>\n",
              "      <td>NaN</td>\n",
              "      <td>NaN</td>\n",
              "      <td>30000</td>\n",
              "      <td>30000</td>\n",
              "      <td>30000.0</td>\n",
              "      <td>60 months</td>\n",
              "      <td>18.94%</td>\n",
              "      <td>777.23</td>\n",
              "      <td>D</td>\n",
              "      <td>D2</td>\n",
              "      <td>Postmaster</td>\n",
              "      <td>10+ years</td>\n",
              "      <td>MORTGAGE</td>\n",
              "      <td>90000.0</td>\n",
              "      <td>Source Verified</td>\n",
              "      <td>Dec-2018</td>\n",
              "      <td>Current</td>\n",
              "      <td>n</td>\n",
              "      <td>NaN</td>\n",
              "      <td>NaN</td>\n",
              "      <td>debt_consolidation</td>\n",
              "      <td>Debt consolidation</td>\n",
              "      <td>713xx</td>\n",
              "      <td>LA</td>\n",
              "      <td>26.52</td>\n",
              "      <td>0</td>\n",
              "      <td>Jun-1987</td>\n",
              "      <td>0</td>\n",
              "      <td>71.0</td>\n",
              "      <td>75.0</td>\n",
              "      <td>13</td>\n",
              "      <td>1</td>\n",
              "      <td>12315</td>\n",
              "      <td>24.2%</td>\n",
              "      <td>44</td>\n",
              "      <td>w</td>\n",
              "      <td>29387.75</td>\n",
              "      <td>29387.75</td>\n",
              "      <td>1507.11</td>\n",
              "      <td>1507.11</td>\n",
              "      <td>612.25</td>\n",
              "      <td>894.86</td>\n",
              "      <td>0.0</td>\n",
              "      <td>0.0</td>\n",
              "      <td>0.0</td>\n",
              "      <td>Feb-2019</td>\n",
              "      <td>777.23</td>\n",
              "      <td>Mar-2019</td>\n",
              "      <td>Feb-2019</td>\n",
              "      <td>0</td>\n",
              "      <td>NaN</td>\n",
              "      <td>1</td>\n",
              "      <td>Individual</td>\n",
              "      <td>NaN</td>\n",
              "      <td>NaN</td>\n",
              "      <td>NaN</td>\n",
              "      <td>0</td>\n",
              "      <td>1208</td>\n",
              "      <td>321915</td>\n",
              "      <td>4</td>\n",
              "      <td>4</td>\n",
              "      <td>2</td>\n",
              "      <td>3</td>\n",
              "      <td>3.0</td>\n",
              "      <td>87153</td>\n",
              "      <td>88.0</td>\n",
              "      <td>4</td>\n",
              "      <td>5</td>\n",
              "      <td>998</td>\n",
              "      <td>57.0</td>\n",
              "      <td>50800</td>\n",
              "      <td>2</td>\n",
              "      <td>15</td>\n",
              "      <td>2</td>\n",
              "      <td>10</td>\n",
              "      <td>24763.0</td>\n",
              "      <td>13761.0</td>\n",
              "      <td>8.3</td>\n",
              "      <td>0</td>\n",
              "      <td>0</td>\n",
              "      <td>163.0</td>\n",
              "      <td>378</td>\n",
              "      <td>4</td>\n",
              "      <td>3</td>\n",
              "      <td>3</td>\n",
              "      <td>4.0</td>\n",
              "      <td>NaN</td>\n",
              "      <td>4.0</td>\n",
              "      <td>NaN</td>\n",
              "      <td>0</td>\n",
              "      <td>2</td>\n",
              "      <td>4</td>\n",
              "      <td>4</td>\n",
              "      <td>9</td>\n",
              "      <td>27</td>\n",
              "      <td>8</td>\n",
              "      <td>14</td>\n",
              "      <td>4</td>\n",
              "      <td>13</td>\n",
              "      <td>0.0</td>\n",
              "      <td>0</td>\n",
              "      <td>0</td>\n",
              "      <td>6</td>\n",
              "      <td>95.0</td>\n",
              "      <td>0.0</td>\n",
              "      <td>1</td>\n",
              "      <td>0</td>\n",
              "      <td>372872</td>\n",
              "      <td>99468</td>\n",
              "      <td>15000</td>\n",
              "      <td>94072</td>\n",
              "      <td>NaN</td>\n",
              "      <td>NaN</td>\n",
              "      <td>NaN</td>\n",
              "      <td>NaN</td>\n",
              "      <td>NaN</td>\n",
              "      <td>NaN</td>\n",
              "      <td>NaN</td>\n",
              "      <td>NaN</td>\n",
              "      <td>NaN</td>\n",
              "      <td>NaN</td>\n",
              "      <td>NaN</td>\n",
              "      <td>N</td>\n",
              "      <td>NaN</td>\n",
              "      <td>NaN</td>\n",
              "      <td>NaN</td>\n",
              "      <td>NaN</td>\n",
              "      <td>NaN</td>\n",
              "      <td>NaN</td>\n",
              "      <td>NaN</td>\n",
              "      <td>NaN</td>\n",
              "      <td>NaN</td>\n",
              "      <td>NaN</td>\n",
              "      <td>NaN</td>\n",
              "      <td>NaN</td>\n",
              "      <td>NaN</td>\n",
              "      <td>NaN</td>\n",
              "      <td>Cash</td>\n",
              "      <td>N</td>\n",
              "      <td>NaN</td>\n",
              "      <td>NaN</td>\n",
              "      <td>NaN</td>\n",
              "      <td>NaN</td>\n",
              "      <td>NaN</td>\n",
              "      <td>NaN</td>\n",
              "    </tr>\n",
              "    <tr>\n",
              "      <th>2</th>\n",
              "      <td>NaN</td>\n",
              "      <td>NaN</td>\n",
              "      <td>5000</td>\n",
              "      <td>5000</td>\n",
              "      <td>5000.0</td>\n",
              "      <td>36 months</td>\n",
              "      <td>17.97%</td>\n",
              "      <td>180.69</td>\n",
              "      <td>D</td>\n",
              "      <td>D1</td>\n",
              "      <td>Administrative</td>\n",
              "      <td>6 years</td>\n",
              "      <td>MORTGAGE</td>\n",
              "      <td>59280.0</td>\n",
              "      <td>Source Verified</td>\n",
              "      <td>Dec-2018</td>\n",
              "      <td>Current</td>\n",
              "      <td>n</td>\n",
              "      <td>NaN</td>\n",
              "      <td>NaN</td>\n",
              "      <td>debt_consolidation</td>\n",
              "      <td>Debt consolidation</td>\n",
              "      <td>490xx</td>\n",
              "      <td>MI</td>\n",
              "      <td>10.51</td>\n",
              "      <td>0</td>\n",
              "      <td>Apr-2011</td>\n",
              "      <td>0</td>\n",
              "      <td>NaN</td>\n",
              "      <td>NaN</td>\n",
              "      <td>8</td>\n",
              "      <td>0</td>\n",
              "      <td>4599</td>\n",
              "      <td>19.1%</td>\n",
              "      <td>13</td>\n",
              "      <td>w</td>\n",
              "      <td>4787.21</td>\n",
              "      <td>4787.21</td>\n",
              "      <td>353.89</td>\n",
              "      <td>353.89</td>\n",
              "      <td>212.79</td>\n",
              "      <td>141.10</td>\n",
              "      <td>0.0</td>\n",
              "      <td>0.0</td>\n",
              "      <td>0.0</td>\n",
              "      <td>Feb-2019</td>\n",
              "      <td>180.69</td>\n",
              "      <td>Mar-2019</td>\n",
              "      <td>Feb-2019</td>\n",
              "      <td>0</td>\n",
              "      <td>NaN</td>\n",
              "      <td>1</td>\n",
              "      <td>Individual</td>\n",
              "      <td>NaN</td>\n",
              "      <td>NaN</td>\n",
              "      <td>NaN</td>\n",
              "      <td>0</td>\n",
              "      <td>0</td>\n",
              "      <td>110299</td>\n",
              "      <td>0</td>\n",
              "      <td>1</td>\n",
              "      <td>0</td>\n",
              "      <td>2</td>\n",
              "      <td>14.0</td>\n",
              "      <td>7150</td>\n",
              "      <td>72.0</td>\n",
              "      <td>0</td>\n",
              "      <td>2</td>\n",
              "      <td>0</td>\n",
              "      <td>35.0</td>\n",
              "      <td>24100</td>\n",
              "      <td>1</td>\n",
              "      <td>5</td>\n",
              "      <td>0</td>\n",
              "      <td>4</td>\n",
              "      <td>18383.0</td>\n",
              "      <td>13800.0</td>\n",
              "      <td>0.0</td>\n",
              "      <td>0</td>\n",
              "      <td>0</td>\n",
              "      <td>87.0</td>\n",
              "      <td>92</td>\n",
              "      <td>15</td>\n",
              "      <td>14</td>\n",
              "      <td>2</td>\n",
              "      <td>77.0</td>\n",
              "      <td>NaN</td>\n",
              "      <td>14.0</td>\n",
              "      <td>NaN</td>\n",
              "      <td>0</td>\n",
              "      <td>0</td>\n",
              "      <td>3</td>\n",
              "      <td>3</td>\n",
              "      <td>3</td>\n",
              "      <td>4</td>\n",
              "      <td>6</td>\n",
              "      <td>7</td>\n",
              "      <td>3</td>\n",
              "      <td>8</td>\n",
              "      <td>0.0</td>\n",
              "      <td>0</td>\n",
              "      <td>0</td>\n",
              "      <td>0</td>\n",
              "      <td>100.0</td>\n",
              "      <td>0.0</td>\n",
              "      <td>0</td>\n",
              "      <td>0</td>\n",
              "      <td>136927</td>\n",
              "      <td>11749</td>\n",
              "      <td>13800</td>\n",
              "      <td>10000</td>\n",
              "      <td>NaN</td>\n",
              "      <td>NaN</td>\n",
              "      <td>NaN</td>\n",
              "      <td>NaN</td>\n",
              "      <td>NaN</td>\n",
              "      <td>NaN</td>\n",
              "      <td>NaN</td>\n",
              "      <td>NaN</td>\n",
              "      <td>NaN</td>\n",
              "      <td>NaN</td>\n",
              "      <td>NaN</td>\n",
              "      <td>N</td>\n",
              "      <td>NaN</td>\n",
              "      <td>NaN</td>\n",
              "      <td>NaN</td>\n",
              "      <td>NaN</td>\n",
              "      <td>NaN</td>\n",
              "      <td>NaN</td>\n",
              "      <td>NaN</td>\n",
              "      <td>NaN</td>\n",
              "      <td>NaN</td>\n",
              "      <td>NaN</td>\n",
              "      <td>NaN</td>\n",
              "      <td>NaN</td>\n",
              "      <td>NaN</td>\n",
              "      <td>NaN</td>\n",
              "      <td>Cash</td>\n",
              "      <td>N</td>\n",
              "      <td>NaN</td>\n",
              "      <td>NaN</td>\n",
              "      <td>NaN</td>\n",
              "      <td>NaN</td>\n",
              "      <td>NaN</td>\n",
              "      <td>NaN</td>\n",
              "    </tr>\n",
              "    <tr>\n",
              "      <th>3</th>\n",
              "      <td>NaN</td>\n",
              "      <td>NaN</td>\n",
              "      <td>4000</td>\n",
              "      <td>4000</td>\n",
              "      <td>4000.0</td>\n",
              "      <td>36 months</td>\n",
              "      <td>18.94%</td>\n",
              "      <td>146.51</td>\n",
              "      <td>D</td>\n",
              "      <td>D2</td>\n",
              "      <td>IT Supervisor</td>\n",
              "      <td>10+ years</td>\n",
              "      <td>MORTGAGE</td>\n",
              "      <td>92000.0</td>\n",
              "      <td>Source Verified</td>\n",
              "      <td>Dec-2018</td>\n",
              "      <td>Current</td>\n",
              "      <td>n</td>\n",
              "      <td>NaN</td>\n",
              "      <td>NaN</td>\n",
              "      <td>debt_consolidation</td>\n",
              "      <td>Debt consolidation</td>\n",
              "      <td>985xx</td>\n",
              "      <td>WA</td>\n",
              "      <td>16.74</td>\n",
              "      <td>0</td>\n",
              "      <td>Feb-2006</td>\n",
              "      <td>0</td>\n",
              "      <td>NaN</td>\n",
              "      <td>NaN</td>\n",
              "      <td>10</td>\n",
              "      <td>0</td>\n",
              "      <td>5468</td>\n",
              "      <td>78.1%</td>\n",
              "      <td>13</td>\n",
              "      <td>w</td>\n",
              "      <td>3831.93</td>\n",
              "      <td>3831.93</td>\n",
              "      <td>286.71</td>\n",
              "      <td>286.71</td>\n",
              "      <td>168.07</td>\n",
              "      <td>118.64</td>\n",
              "      <td>0.0</td>\n",
              "      <td>0.0</td>\n",
              "      <td>0.0</td>\n",
              "      <td>Feb-2019</td>\n",
              "      <td>146.51</td>\n",
              "      <td>Mar-2019</td>\n",
              "      <td>Feb-2019</td>\n",
              "      <td>0</td>\n",
              "      <td>NaN</td>\n",
              "      <td>1</td>\n",
              "      <td>Individual</td>\n",
              "      <td>NaN</td>\n",
              "      <td>NaN</td>\n",
              "      <td>NaN</td>\n",
              "      <td>0</td>\n",
              "      <td>686</td>\n",
              "      <td>305049</td>\n",
              "      <td>1</td>\n",
              "      <td>5</td>\n",
              "      <td>3</td>\n",
              "      <td>5</td>\n",
              "      <td>5.0</td>\n",
              "      <td>30683</td>\n",
              "      <td>68.0</td>\n",
              "      <td>0</td>\n",
              "      <td>0</td>\n",
              "      <td>3761</td>\n",
              "      <td>70.0</td>\n",
              "      <td>7000</td>\n",
              "      <td>2</td>\n",
              "      <td>4</td>\n",
              "      <td>3</td>\n",
              "      <td>5</td>\n",
              "      <td>30505.0</td>\n",
              "      <td>1239.0</td>\n",
              "      <td>75.2</td>\n",
              "      <td>0</td>\n",
              "      <td>0</td>\n",
              "      <td>62.0</td>\n",
              "      <td>154</td>\n",
              "      <td>64</td>\n",
              "      <td>5</td>\n",
              "      <td>3</td>\n",
              "      <td>64.0</td>\n",
              "      <td>NaN</td>\n",
              "      <td>5.0</td>\n",
              "      <td>NaN</td>\n",
              "      <td>0</td>\n",
              "      <td>1</td>\n",
              "      <td>2</td>\n",
              "      <td>1</td>\n",
              "      <td>2</td>\n",
              "      <td>7</td>\n",
              "      <td>2</td>\n",
              "      <td>3</td>\n",
              "      <td>2</td>\n",
              "      <td>10</td>\n",
              "      <td>0.0</td>\n",
              "      <td>0</td>\n",
              "      <td>0</td>\n",
              "      <td>3</td>\n",
              "      <td>100.0</td>\n",
              "      <td>100.0</td>\n",
              "      <td>0</td>\n",
              "      <td>0</td>\n",
              "      <td>385183</td>\n",
              "      <td>36151</td>\n",
              "      <td>5000</td>\n",
              "      <td>44984</td>\n",
              "      <td>NaN</td>\n",
              "      <td>NaN</td>\n",
              "      <td>NaN</td>\n",
              "      <td>NaN</td>\n",
              "      <td>NaN</td>\n",
              "      <td>NaN</td>\n",
              "      <td>NaN</td>\n",
              "      <td>NaN</td>\n",
              "      <td>NaN</td>\n",
              "      <td>NaN</td>\n",
              "      <td>NaN</td>\n",
              "      <td>N</td>\n",
              "      <td>NaN</td>\n",
              "      <td>NaN</td>\n",
              "      <td>NaN</td>\n",
              "      <td>NaN</td>\n",
              "      <td>NaN</td>\n",
              "      <td>NaN</td>\n",
              "      <td>NaN</td>\n",
              "      <td>NaN</td>\n",
              "      <td>NaN</td>\n",
              "      <td>NaN</td>\n",
              "      <td>NaN</td>\n",
              "      <td>NaN</td>\n",
              "      <td>NaN</td>\n",
              "      <td>NaN</td>\n",
              "      <td>Cash</td>\n",
              "      <td>N</td>\n",
              "      <td>NaN</td>\n",
              "      <td>NaN</td>\n",
              "      <td>NaN</td>\n",
              "      <td>NaN</td>\n",
              "      <td>NaN</td>\n",
              "      <td>NaN</td>\n",
              "    </tr>\n",
              "    <tr>\n",
              "      <th>4</th>\n",
              "      <td>NaN</td>\n",
              "      <td>NaN</td>\n",
              "      <td>30000</td>\n",
              "      <td>30000</td>\n",
              "      <td>30000.0</td>\n",
              "      <td>60 months</td>\n",
              "      <td>16.14%</td>\n",
              "      <td>731.78</td>\n",
              "      <td>C</td>\n",
              "      <td>C4</td>\n",
              "      <td>Mechanic</td>\n",
              "      <td>10+ years</td>\n",
              "      <td>MORTGAGE</td>\n",
              "      <td>57250.0</td>\n",
              "      <td>Not Verified</td>\n",
              "      <td>Dec-2018</td>\n",
              "      <td>Current</td>\n",
              "      <td>n</td>\n",
              "      <td>NaN</td>\n",
              "      <td>NaN</td>\n",
              "      <td>debt_consolidation</td>\n",
              "      <td>Debt consolidation</td>\n",
              "      <td>212xx</td>\n",
              "      <td>MD</td>\n",
              "      <td>26.35</td>\n",
              "      <td>0</td>\n",
              "      <td>Dec-2000</td>\n",
              "      <td>0</td>\n",
              "      <td>NaN</td>\n",
              "      <td>NaN</td>\n",
              "      <td>12</td>\n",
              "      <td>0</td>\n",
              "      <td>829</td>\n",
              "      <td>3.6%</td>\n",
              "      <td>26</td>\n",
              "      <td>w</td>\n",
              "      <td>29339.02</td>\n",
              "      <td>29339.02</td>\n",
              "      <td>1423.21</td>\n",
              "      <td>1423.21</td>\n",
              "      <td>660.98</td>\n",
              "      <td>762.23</td>\n",
              "      <td>0.0</td>\n",
              "      <td>0.0</td>\n",
              "      <td>0.0</td>\n",
              "      <td>Feb-2019</td>\n",
              "      <td>731.78</td>\n",
              "      <td>Mar-2019</td>\n",
              "      <td>Feb-2019</td>\n",
              "      <td>0</td>\n",
              "      <td>NaN</td>\n",
              "      <td>1</td>\n",
              "      <td>Individual</td>\n",
              "      <td>NaN</td>\n",
              "      <td>NaN</td>\n",
              "      <td>NaN</td>\n",
              "      <td>0</td>\n",
              "      <td>0</td>\n",
              "      <td>116007</td>\n",
              "      <td>3</td>\n",
              "      <td>5</td>\n",
              "      <td>3</td>\n",
              "      <td>5</td>\n",
              "      <td>4.0</td>\n",
              "      <td>28845</td>\n",
              "      <td>89.0</td>\n",
              "      <td>2</td>\n",
              "      <td>4</td>\n",
              "      <td>516</td>\n",
              "      <td>54.0</td>\n",
              "      <td>23100</td>\n",
              "      <td>1</td>\n",
              "      <td>0</td>\n",
              "      <td>0</td>\n",
              "      <td>9</td>\n",
              "      <td>9667.0</td>\n",
              "      <td>8471.0</td>\n",
              "      <td>8.9</td>\n",
              "      <td>0</td>\n",
              "      <td>0</td>\n",
              "      <td>53.0</td>\n",
              "      <td>216</td>\n",
              "      <td>2</td>\n",
              "      <td>2</td>\n",
              "      <td>2</td>\n",
              "      <td>2.0</td>\n",
              "      <td>NaN</td>\n",
              "      <td>13.0</td>\n",
              "      <td>NaN</td>\n",
              "      <td>0</td>\n",
              "      <td>2</td>\n",
              "      <td>2</td>\n",
              "      <td>3</td>\n",
              "      <td>8</td>\n",
              "      <td>9</td>\n",
              "      <td>6</td>\n",
              "      <td>15</td>\n",
              "      <td>2</td>\n",
              "      <td>12</td>\n",
              "      <td>0.0</td>\n",
              "      <td>0</td>\n",
              "      <td>0</td>\n",
              "      <td>5</td>\n",
              "      <td>92.3</td>\n",
              "      <td>0.0</td>\n",
              "      <td>0</td>\n",
              "      <td>0</td>\n",
              "      <td>157548</td>\n",
              "      <td>29674</td>\n",
              "      <td>9300</td>\n",
              "      <td>32332</td>\n",
              "      <td>NaN</td>\n",
              "      <td>NaN</td>\n",
              "      <td>NaN</td>\n",
              "      <td>NaN</td>\n",
              "      <td>NaN</td>\n",
              "      <td>NaN</td>\n",
              "      <td>NaN</td>\n",
              "      <td>NaN</td>\n",
              "      <td>NaN</td>\n",
              "      <td>NaN</td>\n",
              "      <td>NaN</td>\n",
              "      <td>N</td>\n",
              "      <td>NaN</td>\n",
              "      <td>NaN</td>\n",
              "      <td>NaN</td>\n",
              "      <td>NaN</td>\n",
              "      <td>NaN</td>\n",
              "      <td>NaN</td>\n",
              "      <td>NaN</td>\n",
              "      <td>NaN</td>\n",
              "      <td>NaN</td>\n",
              "      <td>NaN</td>\n",
              "      <td>NaN</td>\n",
              "      <td>NaN</td>\n",
              "      <td>NaN</td>\n",
              "      <td>NaN</td>\n",
              "      <td>Cash</td>\n",
              "      <td>N</td>\n",
              "      <td>NaN</td>\n",
              "      <td>NaN</td>\n",
              "      <td>NaN</td>\n",
              "      <td>NaN</td>\n",
              "      <td>NaN</td>\n",
              "      <td>NaN</td>\n",
              "    </tr>\n",
              "  </tbody>\n",
              "</table>\n",
              "</div>"
            ],
            "text/plain": [
              "   id  member_id  loan_amnt  funded_amnt  funded_amnt_inv        term  \\\n",
              "0 NaN        NaN       2500         2500           2500.0   36 months   \n",
              "1 NaN        NaN      30000        30000          30000.0   60 months   \n",
              "2 NaN        NaN       5000         5000           5000.0   36 months   \n",
              "3 NaN        NaN       4000         4000           4000.0   36 months   \n",
              "4 NaN        NaN      30000        30000          30000.0   60 months   \n",
              "\n",
              "  int_rate  installment grade sub_grade       emp_title emp_length  \\\n",
              "0   13.56%        84.92     C        C1            Chef  10+ years   \n",
              "1   18.94%       777.23     D        D2     Postmaster   10+ years   \n",
              "2   17.97%       180.69     D        D1  Administrative    6 years   \n",
              "3   18.94%       146.51     D        D2   IT Supervisor  10+ years   \n",
              "4   16.14%       731.78     C        C4        Mechanic  10+ years   \n",
              "\n",
              "  home_ownership  annual_inc verification_status   issue_d loan_status  \\\n",
              "0           RENT     55000.0        Not Verified  Dec-2018     Current   \n",
              "1       MORTGAGE     90000.0     Source Verified  Dec-2018     Current   \n",
              "2       MORTGAGE     59280.0     Source Verified  Dec-2018     Current   \n",
              "3       MORTGAGE     92000.0     Source Verified  Dec-2018     Current   \n",
              "4       MORTGAGE     57250.0        Not Verified  Dec-2018     Current   \n",
              "\n",
              "  pymnt_plan  url  desc             purpose               title zip_code  \\\n",
              "0          n  NaN   NaN  debt_consolidation  Debt consolidation    109xx   \n",
              "1          n  NaN   NaN  debt_consolidation  Debt consolidation    713xx   \n",
              "2          n  NaN   NaN  debt_consolidation  Debt consolidation    490xx   \n",
              "3          n  NaN   NaN  debt_consolidation  Debt consolidation    985xx   \n",
              "4          n  NaN   NaN  debt_consolidation  Debt consolidation    212xx   \n",
              "\n",
              "  addr_state    dti  delinq_2yrs earliest_cr_line  inq_last_6mths  \\\n",
              "0         NY  18.24            0         Apr-2001               1   \n",
              "1         LA  26.52            0         Jun-1987               0   \n",
              "2         MI  10.51            0         Apr-2011               0   \n",
              "3         WA  16.74            0         Feb-2006               0   \n",
              "4         MD  26.35            0         Dec-2000               0   \n",
              "\n",
              "   mths_since_last_delinq  mths_since_last_record  open_acc  pub_rec  \\\n",
              "0                     NaN                    45.0         9        1   \n",
              "1                    71.0                    75.0        13        1   \n",
              "2                     NaN                     NaN         8        0   \n",
              "3                     NaN                     NaN        10        0   \n",
              "4                     NaN                     NaN        12        0   \n",
              "\n",
              "   revol_bal revol_util  total_acc initial_list_status  out_prncp  \\\n",
              "0       4341      10.3%         34                   w    2386.02   \n",
              "1      12315      24.2%         44                   w   29387.75   \n",
              "2       4599      19.1%         13                   w    4787.21   \n",
              "3       5468      78.1%         13                   w    3831.93   \n",
              "4        829       3.6%         26                   w   29339.02   \n",
              "\n",
              "   out_prncp_inv  total_pymnt  total_pymnt_inv  total_rec_prncp  \\\n",
              "0        2386.02       167.02           167.02           113.98   \n",
              "1       29387.75      1507.11          1507.11           612.25   \n",
              "2        4787.21       353.89           353.89           212.79   \n",
              "3        3831.93       286.71           286.71           168.07   \n",
              "4       29339.02      1423.21          1423.21           660.98   \n",
              "\n",
              "   total_rec_int  total_rec_late_fee  recoveries  collection_recovery_fee  \\\n",
              "0          53.04                 0.0         0.0                      0.0   \n",
              "1         894.86                 0.0         0.0                      0.0   \n",
              "2         141.10                 0.0         0.0                      0.0   \n",
              "3         118.64                 0.0         0.0                      0.0   \n",
              "4         762.23                 0.0         0.0                      0.0   \n",
              "\n",
              "  last_pymnt_d  last_pymnt_amnt next_pymnt_d last_credit_pull_d  \\\n",
              "0     Feb-2019            84.92     Mar-2019           Feb-2019   \n",
              "1     Feb-2019           777.23     Mar-2019           Feb-2019   \n",
              "2     Feb-2019           180.69     Mar-2019           Feb-2019   \n",
              "3     Feb-2019           146.51     Mar-2019           Feb-2019   \n",
              "4     Feb-2019           731.78     Mar-2019           Feb-2019   \n",
              "\n",
              "   collections_12_mths_ex_med  mths_since_last_major_derog  policy_code  \\\n",
              "0                           0                          NaN            1   \n",
              "1                           0                          NaN            1   \n",
              "2                           0                          NaN            1   \n",
              "3                           0                          NaN            1   \n",
              "4                           0                          NaN            1   \n",
              "\n",
              "  application_type  annual_inc_joint  dti_joint verification_status_joint  \\\n",
              "0       Individual               NaN        NaN                       NaN   \n",
              "1       Individual               NaN        NaN                       NaN   \n",
              "2       Individual               NaN        NaN                       NaN   \n",
              "3       Individual               NaN        NaN                       NaN   \n",
              "4       Individual               NaN        NaN                       NaN   \n",
              "\n",
              "   acc_now_delinq  tot_coll_amt  tot_cur_bal  open_acc_6m  open_act_il  \\\n",
              "0               0             0        16901            2            2   \n",
              "1               0          1208       321915            4            4   \n",
              "2               0             0       110299            0            1   \n",
              "3               0           686       305049            1            5   \n",
              "4               0             0       116007            3            5   \n",
              "\n",
              "   open_il_12m  open_il_24m  mths_since_rcnt_il  total_bal_il  il_util  \\\n",
              "0            1            2                 2.0         12560     69.0   \n",
              "1            2            3                 3.0         87153     88.0   \n",
              "2            0            2                14.0          7150     72.0   \n",
              "3            3            5                 5.0         30683     68.0   \n",
              "4            3            5                 4.0         28845     89.0   \n",
              "\n",
              "   open_rv_12m  open_rv_24m  max_bal_bc  all_util  total_rev_hi_lim  inq_fi  \\\n",
              "0            2            7        2137      28.0             42000       1   \n",
              "1            4            5         998      57.0             50800       2   \n",
              "2            0            2           0      35.0             24100       1   \n",
              "3            0            0        3761      70.0              7000       2   \n",
              "4            2            4         516      54.0             23100       1   \n",
              "\n",
              "   total_cu_tl  inq_last_12m  acc_open_past_24mths  avg_cur_bal  \\\n",
              "0           11             2                     9       1878.0   \n",
              "1           15             2                    10      24763.0   \n",
              "2            5             0                     4      18383.0   \n",
              "3            4             3                     5      30505.0   \n",
              "4            0             0                     9       9667.0   \n",
              "\n",
              "   bc_open_to_buy  bc_util  chargeoff_within_12_mths  delinq_amnt  \\\n",
              "0         34360.0      5.9                         0            0   \n",
              "1         13761.0      8.3                         0            0   \n",
              "2         13800.0      0.0                         0            0   \n",
              "3          1239.0     75.2                         0            0   \n",
              "4          8471.0      8.9                         0            0   \n",
              "\n",
              "   mo_sin_old_il_acct  mo_sin_old_rev_tl_op  mo_sin_rcnt_rev_tl_op  \\\n",
              "0               140.0                   212                      1   \n",
              "1               163.0                   378                      4   \n",
              "2                87.0                    92                     15   \n",
              "3                62.0                   154                     64   \n",
              "4                53.0                   216                      2   \n",
              "\n",
              "   mo_sin_rcnt_tl  mort_acc  mths_since_recent_bc  mths_since_recent_bc_dlq  \\\n",
              "0               1         0                   1.0                       NaN   \n",
              "1               3         3                   4.0                       NaN   \n",
              "2              14         2                  77.0                       NaN   \n",
              "3               5         3                  64.0                       NaN   \n",
              "4               2         2                   2.0                       NaN   \n",
              "\n",
              "   mths_since_recent_inq  mths_since_recent_revol_delinq  \\\n",
              "0                    2.0                             NaN   \n",
              "1                    4.0                             NaN   \n",
              "2                   14.0                             NaN   \n",
              "3                    5.0                             NaN   \n",
              "4                   13.0                             NaN   \n",
              "\n",
              "   num_accts_ever_120_pd  num_actv_bc_tl  num_actv_rev_tl  num_bc_sats  \\\n",
              "0                      0               2                5            3   \n",
              "1                      0               2                4            4   \n",
              "2                      0               0                3            3   \n",
              "3                      0               1                2            1   \n",
              "4                      0               2                2            3   \n",
              "\n",
              "   num_bc_tl  num_il_tl  num_op_rev_tl  num_rev_accts  num_rev_tl_bal_gt_0  \\\n",
              "0          3         16              7             18                    5   \n",
              "1          9         27              8             14                    4   \n",
              "2          3          4              6              7                    3   \n",
              "3          2          7              2              3                    2   \n",
              "4          8          9              6             15                    2   \n",
              "\n",
              "   num_sats  num_tl_120dpd_2m  num_tl_30dpd  num_tl_90g_dpd_24m  \\\n",
              "0         9               0.0             0                   0   \n",
              "1        13               0.0             0                   0   \n",
              "2         8               0.0             0                   0   \n",
              "3        10               0.0             0                   0   \n",
              "4        12               0.0             0                   0   \n",
              "\n",
              "   num_tl_op_past_12m  pct_tl_nvr_dlq  percent_bc_gt_75  pub_rec_bankruptcies  \\\n",
              "0                   3           100.0               0.0                     1   \n",
              "1                   6            95.0               0.0                     1   \n",
              "2                   0           100.0               0.0                     0   \n",
              "3                   3           100.0             100.0                     0   \n",
              "4                   5            92.3               0.0                     0   \n",
              "\n",
              "   tax_liens  tot_hi_cred_lim  total_bal_ex_mort  total_bc_limit  \\\n",
              "0          0            60124              16901           36500   \n",
              "1          0           372872              99468           15000   \n",
              "2          0           136927              11749           13800   \n",
              "3          0           385183              36151            5000   \n",
              "4          0           157548              29674            9300   \n",
              "\n",
              "   total_il_high_credit_limit  revol_bal_joint sec_app_earliest_cr_line  \\\n",
              "0                       18124              NaN                      NaN   \n",
              "1                       94072              NaN                      NaN   \n",
              "2                       10000              NaN                      NaN   \n",
              "3                       44984              NaN                      NaN   \n",
              "4                       32332              NaN                      NaN   \n",
              "\n",
              "   sec_app_inq_last_6mths  sec_app_mort_acc  sec_app_open_acc  \\\n",
              "0                     NaN               NaN               NaN   \n",
              "1                     NaN               NaN               NaN   \n",
              "2                     NaN               NaN               NaN   \n",
              "3                     NaN               NaN               NaN   \n",
              "4                     NaN               NaN               NaN   \n",
              "\n",
              "   sec_app_revol_util  sec_app_open_act_il  sec_app_num_rev_accts  \\\n",
              "0                 NaN                  NaN                    NaN   \n",
              "1                 NaN                  NaN                    NaN   \n",
              "2                 NaN                  NaN                    NaN   \n",
              "3                 NaN                  NaN                    NaN   \n",
              "4                 NaN                  NaN                    NaN   \n",
              "\n",
              "   sec_app_chargeoff_within_12_mths  sec_app_collections_12_mths_ex_med  \\\n",
              "0                               NaN                                 NaN   \n",
              "1                               NaN                                 NaN   \n",
              "2                               NaN                                 NaN   \n",
              "3                               NaN                                 NaN   \n",
              "4                               NaN                                 NaN   \n",
              "\n",
              "   sec_app_mths_since_last_major_derog hardship_flag hardship_type  \\\n",
              "0                                  NaN             N           NaN   \n",
              "1                                  NaN             N           NaN   \n",
              "2                                  NaN             N           NaN   \n",
              "3                                  NaN             N           NaN   \n",
              "4                                  NaN             N           NaN   \n",
              "\n",
              "  hardship_reason hardship_status  deferral_term  hardship_amount  \\\n",
              "0             NaN             NaN            NaN              NaN   \n",
              "1             NaN             NaN            NaN              NaN   \n",
              "2             NaN             NaN            NaN              NaN   \n",
              "3             NaN             NaN            NaN              NaN   \n",
              "4             NaN             NaN            NaN              NaN   \n",
              "\n",
              "  hardship_start_date hardship_end_date payment_plan_start_date  \\\n",
              "0                 NaN               NaN                     NaN   \n",
              "1                 NaN               NaN                     NaN   \n",
              "2                 NaN               NaN                     NaN   \n",
              "3                 NaN               NaN                     NaN   \n",
              "4                 NaN               NaN                     NaN   \n",
              "\n",
              "   hardship_length  hardship_dpd hardship_loan_status  \\\n",
              "0              NaN           NaN                  NaN   \n",
              "1              NaN           NaN                  NaN   \n",
              "2              NaN           NaN                  NaN   \n",
              "3              NaN           NaN                  NaN   \n",
              "4              NaN           NaN                  NaN   \n",
              "\n",
              "   orig_projected_additional_accrued_interest  hardship_payoff_balance_amount  \\\n",
              "0                                         NaN                             NaN   \n",
              "1                                         NaN                             NaN   \n",
              "2                                         NaN                             NaN   \n",
              "3                                         NaN                             NaN   \n",
              "4                                         NaN                             NaN   \n",
              "\n",
              "   hardship_last_payment_amount disbursement_method debt_settlement_flag  \\\n",
              "0                           NaN                Cash                    N   \n",
              "1                           NaN                Cash                    N   \n",
              "2                           NaN                Cash                    N   \n",
              "3                           NaN                Cash                    N   \n",
              "4                           NaN                Cash                    N   \n",
              "\n",
              "  debt_settlement_flag_date settlement_status settlement_date  \\\n",
              "0                       NaN               NaN             NaN   \n",
              "1                       NaN               NaN             NaN   \n",
              "2                       NaN               NaN             NaN   \n",
              "3                       NaN               NaN             NaN   \n",
              "4                       NaN               NaN             NaN   \n",
              "\n",
              "   settlement_amount  settlement_percentage  settlement_term  \n",
              "0                NaN                    NaN              NaN  \n",
              "1                NaN                    NaN              NaN  \n",
              "2                NaN                    NaN              NaN  \n",
              "3                NaN                    NaN              NaN  \n",
              "4                NaN                    NaN              NaN  "
            ]
          },
          "metadata": {
            "tags": []
          },
          "execution_count": 31
        }
      ]
    },
    {
      "metadata": {
        "id": "na9XpuZGFfGD",
        "colab_type": "code",
        "colab": {
          "base_uri": "https://localhost:8080/",
          "height": 1092
        },
        "outputId": "976e959d-c368-4722-bb4c-106f3832f76a"
      },
      "cell_type": "code",
      "source": [
        "df.isnull().sum().sort_values(ascending=False)"
      ],
      "execution_count": 27,
      "outputs": [
        {
          "output_type": "execute_result",
          "data": {
            "text/plain": [
              "id                                            128412\n",
              "member_id                                     128412\n",
              "url                                           128412\n",
              "desc                                          128412\n",
              "hardship_loan_status                          128411\n",
              "hardship_amount                               128411\n",
              "hardship_start_date                           128411\n",
              "hardship_end_date                             128411\n",
              "payment_plan_start_date                       128411\n",
              "hardship_length                               128411\n",
              "hardship_dpd                                  128411\n",
              "hardship_payoff_balance_amount                128411\n",
              "orig_projected_additional_accrued_interest    128411\n",
              "hardship_status                               128411\n",
              "hardship_last_payment_amount                  128411\n",
              "hardship_reason                               128411\n",
              "hardship_type                                 128411\n",
              "deferral_term                                 128411\n",
              "settlement_percentage                         128410\n",
              "settlement_term                               128410\n",
              "settlement_status                             128410\n",
              "debt_settlement_flag_date                     128410\n",
              "settlement_amount                             128410\n",
              "settlement_date                               128410\n",
              "sec_app_mths_since_last_major_derog           123258\n",
              "verification_status_joint                     113564\n",
              "mths_since_last_record                        112962\n",
              "sec_app_revol_util                            111888\n",
              "sec_app_num_rev_accts                         111630\n",
              "sec_app_open_act_il                           111630\n",
              "                                               ...  \n",
              "tax_liens                                          0\n",
              "tot_hi_cred_lim                                    0\n",
              "total_bal_ex_mort                                  0\n",
              "total_bc_limit                                     0\n",
              "total_il_high_credit_limit                         0\n",
              "hardship_flag                                      0\n",
              "num_accts_ever_120_pd                              0\n",
              "mort_acc                                           0\n",
              "mo_sin_rcnt_tl                                     0\n",
              "mo_sin_rcnt_rev_tl_op                              0\n",
              "application_type                                   0\n",
              "acc_now_delinq                                     0\n",
              "tot_coll_amt                                       0\n",
              "tot_cur_bal                                        0\n",
              "open_acc_6m                                        0\n",
              "open_act_il                                        0\n",
              "open_il_12m                                        0\n",
              "debt_settlement_flag                               0\n",
              "total_bal_il                                       0\n",
              "open_rv_12m                                        0\n",
              "open_rv_24m                                        0\n",
              "max_bal_bc                                         0\n",
              "total_rev_hi_lim                                   0\n",
              "inq_fi                                             0\n",
              "inq_last_12m                                       0\n",
              "acc_open_past_24mths                               0\n",
              "chargeoff_within_12_mths                           0\n",
              "delinq_amnt                                        0\n",
              "mo_sin_old_rev_tl_op                               0\n",
              "total_cu_tl                                        0\n",
              "Length: 145, dtype: int64"
            ]
          },
          "metadata": {
            "tags": []
          },
          "execution_count": 27
        }
      ]
    },
    {
      "metadata": {
        "colab_type": "text",
        "id": "1b5_hMTio2Ly"
      },
      "cell_type": "markdown",
      "source": [
        "## Work with strings"
      ]
    },
    {
      "metadata": {
        "id": "yR8fn-jhCrUl",
        "colab_type": "text"
      },
      "cell_type": "markdown",
      "source": [
        "For machine learning, we usually want to replace strings with numbers.\n",
        "\n",
        "We can get info about which columns have a datatype of \"object\" (strings)"
      ]
    },
    {
      "metadata": {
        "colab_type": "code",
        "id": "WOL7QPVNo3F4",
        "colab": {
          "base_uri": "https://localhost:8080/",
          "height": 243
        },
        "outputId": "29bd58c7-16eb-47ec-a476-350cedfbe6fd"
      },
      "cell_type": "code",
      "source": [
        "df.describe(exclude='number')"
      ],
      "execution_count": 32,
      "outputs": [
        {
          "output_type": "execute_result",
          "data": {
            "text/html": [
              "<div>\n",
              "<style scoped>\n",
              "    .dataframe tbody tr th:only-of-type {\n",
              "        vertical-align: middle;\n",
              "    }\n",
              "\n",
              "    .dataframe tbody tr th {\n",
              "        vertical-align: top;\n",
              "    }\n",
              "\n",
              "    .dataframe thead th {\n",
              "        text-align: right;\n",
              "    }\n",
              "</style>\n",
              "<table border=\"1\" class=\"dataframe\">\n",
              "  <thead>\n",
              "    <tr style=\"text-align: right;\">\n",
              "      <th></th>\n",
              "      <th>term</th>\n",
              "      <th>int_rate</th>\n",
              "      <th>grade</th>\n",
              "      <th>sub_grade</th>\n",
              "      <th>emp_title</th>\n",
              "      <th>emp_length</th>\n",
              "      <th>home_ownership</th>\n",
              "      <th>verification_status</th>\n",
              "      <th>issue_d</th>\n",
              "      <th>loan_status</th>\n",
              "      <th>pymnt_plan</th>\n",
              "      <th>purpose</th>\n",
              "      <th>title</th>\n",
              "      <th>zip_code</th>\n",
              "      <th>addr_state</th>\n",
              "      <th>earliest_cr_line</th>\n",
              "      <th>revol_util</th>\n",
              "      <th>initial_list_status</th>\n",
              "      <th>last_pymnt_d</th>\n",
              "      <th>next_pymnt_d</th>\n",
              "      <th>last_credit_pull_d</th>\n",
              "      <th>application_type</th>\n",
              "      <th>verification_status_joint</th>\n",
              "      <th>sec_app_earliest_cr_line</th>\n",
              "      <th>hardship_flag</th>\n",
              "      <th>hardship_type</th>\n",
              "      <th>hardship_reason</th>\n",
              "      <th>hardship_status</th>\n",
              "      <th>hardship_start_date</th>\n",
              "      <th>hardship_end_date</th>\n",
              "      <th>payment_plan_start_date</th>\n",
              "      <th>hardship_loan_status</th>\n",
              "      <th>disbursement_method</th>\n",
              "      <th>debt_settlement_flag</th>\n",
              "      <th>debt_settlement_flag_date</th>\n",
              "      <th>settlement_status</th>\n",
              "      <th>settlement_date</th>\n",
              "    </tr>\n",
              "  </thead>\n",
              "  <tbody>\n",
              "    <tr>\n",
              "      <th>count</th>\n",
              "      <td>128412</td>\n",
              "      <td>128412</td>\n",
              "      <td>128412</td>\n",
              "      <td>128412</td>\n",
              "      <td>107465</td>\n",
              "      <td>116708</td>\n",
              "      <td>128412</td>\n",
              "      <td>128412</td>\n",
              "      <td>128412</td>\n",
              "      <td>128412</td>\n",
              "      <td>128412</td>\n",
              "      <td>128412</td>\n",
              "      <td>128412</td>\n",
              "      <td>128412</td>\n",
              "      <td>128412</td>\n",
              "      <td>128412</td>\n",
              "      <td>128256</td>\n",
              "      <td>128412</td>\n",
              "      <td>128250</td>\n",
              "      <td>124941</td>\n",
              "      <td>128411</td>\n",
              "      <td>128412</td>\n",
              "      <td>14848</td>\n",
              "      <td>16782</td>\n",
              "      <td>128412</td>\n",
              "      <td>1</td>\n",
              "      <td>1</td>\n",
              "      <td>1</td>\n",
              "      <td>1</td>\n",
              "      <td>1</td>\n",
              "      <td>1</td>\n",
              "      <td>1</td>\n",
              "      <td>128412</td>\n",
              "      <td>128412</td>\n",
              "      <td>2</td>\n",
              "      <td>2</td>\n",
              "      <td>2</td>\n",
              "    </tr>\n",
              "    <tr>\n",
              "      <th>unique</th>\n",
              "      <td>2</td>\n",
              "      <td>46</td>\n",
              "      <td>7</td>\n",
              "      <td>35</td>\n",
              "      <td>43892</td>\n",
              "      <td>11</td>\n",
              "      <td>4</td>\n",
              "      <td>3</td>\n",
              "      <td>3</td>\n",
              "      <td>6</td>\n",
              "      <td>2</td>\n",
              "      <td>12</td>\n",
              "      <td>12</td>\n",
              "      <td>880</td>\n",
              "      <td>50</td>\n",
              "      <td>644</td>\n",
              "      <td>1074</td>\n",
              "      <td>2</td>\n",
              "      <td>5</td>\n",
              "      <td>3</td>\n",
              "      <td>7</td>\n",
              "      <td>2</td>\n",
              "      <td>3</td>\n",
              "      <td>573</td>\n",
              "      <td>2</td>\n",
              "      <td>1</td>\n",
              "      <td>1</td>\n",
              "      <td>1</td>\n",
              "      <td>1</td>\n",
              "      <td>1</td>\n",
              "      <td>1</td>\n",
              "      <td>1</td>\n",
              "      <td>2</td>\n",
              "      <td>2</td>\n",
              "      <td>1</td>\n",
              "      <td>1</td>\n",
              "      <td>1</td>\n",
              "    </tr>\n",
              "    <tr>\n",
              "      <th>top</th>\n",
              "      <td>36 months</td>\n",
              "      <td>13.56%</td>\n",
              "      <td>A</td>\n",
              "      <td>A4</td>\n",
              "      <td>Teacher</td>\n",
              "      <td>10+ years</td>\n",
              "      <td>MORTGAGE</td>\n",
              "      <td>Not Verified</td>\n",
              "      <td>Oct-2018</td>\n",
              "      <td>Current</td>\n",
              "      <td>n</td>\n",
              "      <td>debt_consolidation</td>\n",
              "      <td>Debt consolidation</td>\n",
              "      <td>112xx</td>\n",
              "      <td>CA</td>\n",
              "      <td>Aug-2006</td>\n",
              "      <td>0%</td>\n",
              "      <td>w</td>\n",
              "      <td>Feb-2019</td>\n",
              "      <td>Mar-2019</td>\n",
              "      <td>Feb-2019</td>\n",
              "      <td>Individual</td>\n",
              "      <td>Not Verified</td>\n",
              "      <td>Aug-2006</td>\n",
              "      <td>N</td>\n",
              "      <td>INTEREST ONLY-3 MONTHS DEFERRAL</td>\n",
              "      <td>UNEMPLOYMENT</td>\n",
              "      <td>ACTIVE</td>\n",
              "      <td>Feb-2019</td>\n",
              "      <td>Apr-2019</td>\n",
              "      <td>Feb-2019</td>\n",
              "      <td>Late (16-30 days)</td>\n",
              "      <td>Cash</td>\n",
              "      <td>N</td>\n",
              "      <td>Feb-2019</td>\n",
              "      <td>ACTIVE</td>\n",
              "      <td>Feb-2019</td>\n",
              "    </tr>\n",
              "    <tr>\n",
              "      <th>freq</th>\n",
              "      <td>88179</td>\n",
              "      <td>6976</td>\n",
              "      <td>38011</td>\n",
              "      <td>9770</td>\n",
              "      <td>2090</td>\n",
              "      <td>38826</td>\n",
              "      <td>63490</td>\n",
              "      <td>58350</td>\n",
              "      <td>46305</td>\n",
              "      <td>123768</td>\n",
              "      <td>128411</td>\n",
              "      <td>70603</td>\n",
              "      <td>70603</td>\n",
              "      <td>1370</td>\n",
              "      <td>17879</td>\n",
              "      <td>1130</td>\n",
              "      <td>1132</td>\n",
              "      <td>114498</td>\n",
              "      <td>123797</td>\n",
              "      <td>124903</td>\n",
              "      <td>125061</td>\n",
              "      <td>111630</td>\n",
              "      <td>6360</td>\n",
              "      <td>155</td>\n",
              "      <td>128411</td>\n",
              "      <td>1</td>\n",
              "      <td>1</td>\n",
              "      <td>1</td>\n",
              "      <td>1</td>\n",
              "      <td>1</td>\n",
              "      <td>1</td>\n",
              "      <td>1</td>\n",
              "      <td>102516</td>\n",
              "      <td>128410</td>\n",
              "      <td>2</td>\n",
              "      <td>2</td>\n",
              "      <td>2</td>\n",
              "    </tr>\n",
              "  </tbody>\n",
              "</table>\n",
              "</div>"
            ],
            "text/plain": [
              "              term int_rate   grade sub_grade emp_title emp_length  \\\n",
              "count       128412   128412  128412    128412    107465     116708   \n",
              "unique           2       46       7        35     43892         11   \n",
              "top      36 months   13.56%       A        A4   Teacher  10+ years   \n",
              "freq         88179     6976   38011      9770      2090      38826   \n",
              "\n",
              "       home_ownership verification_status   issue_d loan_status pymnt_plan  \\\n",
              "count          128412              128412    128412      128412     128412   \n",
              "unique              4                   3         3           6          2   \n",
              "top          MORTGAGE        Not Verified  Oct-2018     Current          n   \n",
              "freq            63490               58350     46305      123768     128411   \n",
              "\n",
              "                   purpose               title zip_code addr_state  \\\n",
              "count               128412              128412   128412     128412   \n",
              "unique                  12                  12      880         50   \n",
              "top     debt_consolidation  Debt consolidation    112xx         CA   \n",
              "freq                 70603               70603     1370      17879   \n",
              "\n",
              "       earliest_cr_line revol_util initial_list_status last_pymnt_d  \\\n",
              "count            128412     128256              128412       128250   \n",
              "unique              644       1074                   2            5   \n",
              "top            Aug-2006         0%                   w     Feb-2019   \n",
              "freq               1130       1132              114498       123797   \n",
              "\n",
              "       next_pymnt_d last_credit_pull_d application_type  \\\n",
              "count        124941             128411           128412   \n",
              "unique            3                  7                2   \n",
              "top        Mar-2019           Feb-2019       Individual   \n",
              "freq         124903             125061           111630   \n",
              "\n",
              "       verification_status_joint sec_app_earliest_cr_line hardship_flag  \\\n",
              "count                      14848                    16782        128412   \n",
              "unique                         3                      573             2   \n",
              "top                 Not Verified                 Aug-2006             N   \n",
              "freq                        6360                      155        128411   \n",
              "\n",
              "                          hardship_type hardship_reason hardship_status  \\\n",
              "count                                 1               1               1   \n",
              "unique                                1               1               1   \n",
              "top     INTEREST ONLY-3 MONTHS DEFERRAL    UNEMPLOYMENT          ACTIVE   \n",
              "freq                                  1               1               1   \n",
              "\n",
              "       hardship_start_date hardship_end_date payment_plan_start_date  \\\n",
              "count                    1                 1                       1   \n",
              "unique                   1                 1                       1   \n",
              "top               Feb-2019          Apr-2019                Feb-2019   \n",
              "freq                     1                 1                       1   \n",
              "\n",
              "       hardship_loan_status disbursement_method debt_settlement_flag  \\\n",
              "count                     1              128412               128412   \n",
              "unique                    1                   2                    2   \n",
              "top       Late (16-30 days)                Cash                    N   \n",
              "freq                      1              102516               128410   \n",
              "\n",
              "       debt_settlement_flag_date settlement_status settlement_date  \n",
              "count                          2                 2               2  \n",
              "unique                         1                 1               1  \n",
              "top                     Feb-2019            ACTIVE        Feb-2019  \n",
              "freq                           2                 2               2  "
            ]
          },
          "metadata": {
            "tags": []
          },
          "execution_count": 32
        }
      ]
    },
    {
      "metadata": {
        "id": "XaoITC4WCrUq",
        "colab_type": "text"
      },
      "cell_type": "markdown",
      "source": [
        "### Convert `int_rate`\n",
        "\n"
      ]
    },
    {
      "metadata": {
        "id": "BYQ98YL5IMtz",
        "colab_type": "code",
        "colab": {
          "base_uri": "https://localhost:8080/",
          "height": 35
        },
        "outputId": "976b97df-d14a-4936-d8a0-1e4d4ea6beb9"
      },
      "cell_type": "code",
      "source": [
        "type(float('13.56%'.strip('%')))"
      ],
      "execution_count": 39,
      "outputs": [
        {
          "output_type": "execute_result",
          "data": {
            "text/plain": [
              "float"
            ]
          },
          "metadata": {
            "tags": []
          },
          "execution_count": 39
        }
      ]
    },
    {
      "metadata": {
        "id": "yywK0hMbLLBf",
        "colab_type": "code",
        "colab": {}
      },
      "cell_type": "code",
      "source": [
        "df.int_rate.str.strip('%').astype(float).head()"
      ],
      "execution_count": 0,
      "outputs": []
    },
    {
      "metadata": {
        "id": "qqUoQBQgLMCF",
        "colab_type": "code",
        "colab": {}
      },
      "cell_type": "code",
      "source": [
        "df.int_rate = df.int_rate.str.strip('%').astype(float)"
      ],
      "execution_count": 0,
      "outputs": []
    },
    {
      "metadata": {
        "id": "2NuHUQtuILj8",
        "colab_type": "text"
      },
      "cell_type": "markdown",
      "source": [
        "Define a function to remove percent signs from strings and convert to floats"
      ]
    },
    {
      "metadata": {
        "id": "WERLBXffCrUs",
        "colab_type": "code",
        "colab": {
          "base_uri": "https://localhost:8080/",
          "height": 131
        },
        "outputId": "2dccfeb9-adc8-4b69-9bf0-760ee1ce6e4d"
      },
      "cell_type": "code",
      "source": [
        "string = '13.56%'\n",
        "\n",
        "def remove_percent(string):\n",
        "    return float(string.strip('%'))\n",
        "  \n",
        "    \n",
        "   \n",
        "    \n",
        "remove_percent(string)"
      ],
      "execution_count": 62,
      "outputs": [
        {
          "output_type": "error",
          "ename": "SyntaxError",
          "evalue": "ignored",
          "traceback": [
            "\u001b[0;36m  File \u001b[0;32m\"<ipython-input-62-25e904df7c26>\"\u001b[0;36m, line \u001b[0;32m7\u001b[0m\n\u001b[0;31m    break\u001b[0m\n\u001b[0m    ^\u001b[0m\n\u001b[0;31mSyntaxError\u001b[0m\u001b[0;31m:\u001b[0m 'break' outside loop\n"
          ]
        }
      ]
    },
    {
      "metadata": {
        "id": "JI2ZPx1LCrUz",
        "colab_type": "text"
      },
      "cell_type": "markdown",
      "source": [
        "Apply the function to the `int_rate` column"
      ]
    },
    {
      "metadata": {
        "id": "YjmqqO_wCrU0",
        "colab_type": "code",
        "colab": {}
      },
      "cell_type": "code",
      "source": [
        "df.int_rate = df['int_rate'].apply(remove_percent)"
      ],
      "execution_count": 0,
      "outputs": []
    },
    {
      "metadata": {
        "id": "BS9NUDEYJ2Q3",
        "colab_type": "code",
        "colab": {
          "base_uri": "https://localhost:8080/",
          "height": 121
        },
        "outputId": "16edb015-dc23-470d-a6b6-6fa8c3b7d6e1"
      },
      "cell_type": "code",
      "source": [
        "(df['int_rate'] / 100).head()"
      ],
      "execution_count": 46,
      "outputs": [
        {
          "output_type": "execute_result",
          "data": {
            "text/plain": [
              "0    0.1356\n",
              "1    0.1894\n",
              "2    0.1797\n",
              "3    0.1894\n",
              "4    0.1614\n",
              "Name: int_rate, dtype: float64"
            ]
          },
          "metadata": {
            "tags": []
          },
          "execution_count": 46
        }
      ]
    },
    {
      "metadata": {
        "id": "IUtEAWr2CrU2",
        "colab_type": "text"
      },
      "cell_type": "markdown",
      "source": [
        "### Clean `emp_title`\n",
        "\n",
        "Look at top 20 titles"
      ]
    },
    {
      "metadata": {
        "id": "mT3Mc8WCCrU3",
        "colab_type": "code",
        "colab": {
          "base_uri": "https://localhost:8080/",
          "height": 381
        },
        "outputId": "690f5d14-d2f0-41b8-9ba9-8ee17b311493"
      },
      "cell_type": "code",
      "source": [
        "df['emp_title'].value_counts().head(20)"
      ],
      "execution_count": 65,
      "outputs": [
        {
          "output_type": "execute_result",
          "data": {
            "text/plain": [
              "Teacher                     2090\n",
              "Manager                     1773\n",
              "Registered Nurse             952\n",
              "Driver                       924\n",
              "RN                           726\n",
              "Supervisor                   697\n",
              "Sales                        580\n",
              "Project Manager              526\n",
              "General Manager              523\n",
              "Office Manager               521\n",
              "Owner                        420\n",
              "Director                     402\n",
              "Truck Driver                 387\n",
              "Operations Manager           387\n",
              "Nurse                        326\n",
              "Engineer                     325\n",
              "Sales Manager                304\n",
              "manager                      301\n",
              "Supervisor                   270\n",
              "Administrative Assistant     269\n",
              "Name: emp_title, dtype: int64"
            ]
          },
          "metadata": {
            "tags": []
          },
          "execution_count": 65
        }
      ]
    },
    {
      "metadata": {
        "id": "y780bunECrU6",
        "colab_type": "text"
      },
      "cell_type": "markdown",
      "source": [
        "How often is `emp_title` null?"
      ]
    },
    {
      "metadata": {
        "id": "H092wLk5CrU8",
        "colab_type": "code",
        "colab": {
          "base_uri": "https://localhost:8080/",
          "height": 35
        },
        "outputId": "3d86614d-a05c-493e-9a0d-2b332770cb7f"
      },
      "cell_type": "code",
      "source": [
        "df['emp_title'].isnull().sum()"
      ],
      "execution_count": 66,
      "outputs": [
        {
          "output_type": "execute_result",
          "data": {
            "text/plain": [
              "20947"
            ]
          },
          "metadata": {
            "tags": []
          },
          "execution_count": 66
        }
      ]
    },
    {
      "metadata": {
        "id": "SVR5pae2CrVA",
        "colab_type": "text"
      },
      "cell_type": "markdown",
      "source": [
        "Clean the title and handle missing values\n",
        "- Capitalize\n",
        "- Strip Spaces\n",
        "- Replace `NaN` with `Unknown`"
      ]
    },
    {
      "metadata": {
        "id": "qxdLgTOwCrVD",
        "colab_type": "code",
        "colab": {
          "base_uri": "https://localhost:8080/",
          "height": 35
        },
        "outputId": "a200318a-0094-4285-b6ad-5a26effe28b2"
      },
      "cell_type": "code",
      "source": [
        "import numpy as np\n",
        "examples = ['owner', 'Supervisor ', ' Project Manager', np.nan]\n",
        "\n",
        "def clean_title(x):\n",
        "  if isinstance(x, str):\n",
        "    return x.strip().title()\n",
        "  else:\n",
        "    return 'Unknown'\n",
        "  \n",
        "[clean_title(x) for x in examples]"
      ],
      "execution_count": 70,
      "outputs": [
        {
          "output_type": "execute_result",
          "data": {
            "text/plain": [
              "['Owner', 'Supervisor', 'Project Manager', 'Unknown']"
            ]
          },
          "metadata": {
            "tags": []
          },
          "execution_count": 70
        }
      ]
    },
    {
      "metadata": {
        "id": "-lO6zzwPPZiy",
        "colab_type": "code",
        "colab": {
          "base_uri": "https://localhost:8080/",
          "height": 381
        },
        "outputId": "19ee7afe-b8b7-4eb7-fd64-589c139dc020"
      },
      "cell_type": "code",
      "source": [
        "df['emp_title'].apply(clean_title).value_counts().head(20)"
      ],
      "execution_count": 71,
      "outputs": [
        {
          "output_type": "execute_result",
          "data": {
            "text/plain": [
              "Unknown               20947\n",
              "Teacher                2557\n",
              "Manager                2395\n",
              "Registered Nurse       1418\n",
              "Driver                 1258\n",
              "Supervisor             1160\n",
              "Truck Driver            920\n",
              "Rn                      834\n",
              "Office Manager          805\n",
              "Sales                   803\n",
              "General Manager         791\n",
              "Project Manager         720\n",
              "Owner                   625\n",
              "Director                523\n",
              "Operations Manager      518\n",
              "Sales Manager           500\n",
              "Police Officer          440\n",
              "Nurse                   425\n",
              "Technician              420\n",
              "Engineer                412\n",
              "Name: emp_title, dtype: int64"
            ]
          },
          "metadata": {
            "tags": []
          },
          "execution_count": 71
        }
      ]
    },
    {
      "metadata": {
        "id": "3iK3QRy9P478",
        "colab_type": "code",
        "colab": {}
      },
      "cell_type": "code",
      "source": [
        ""
      ],
      "execution_count": 0,
      "outputs": []
    },
    {
      "metadata": {
        "id": "yVwBy_v_CrVK",
        "colab_type": "text"
      },
      "cell_type": "markdown",
      "source": [
        "### Create `emp_title_manager`\n",
        "\n",
        "pandas documentation: [`str.contains`](https://pandas.pydata.org/pandas-docs/stable/generated/pandas.Series.str.contains.html)"
      ]
    },
    {
      "metadata": {
        "id": "8aEY9yYXCrVN",
        "colab_type": "code",
        "colab": {}
      },
      "cell_type": "code",
      "source": [
        "df['emp_title_manager'] = df['emp_title'].str.contains('Manager')"
      ],
      "execution_count": 0,
      "outputs": []
    },
    {
      "metadata": {
        "id": "M8dlMmeCT7X_",
        "colab_type": "code",
        "colab": {
          "base_uri": "https://localhost:8080/",
          "height": 69
        },
        "outputId": "72f92ce2-331c-4fac-da87-9dfbd7ee6d34"
      },
      "cell_type": "code",
      "source": [
        "df['emp_title_manager'].value_counts(normalize=True)"
      ],
      "execution_count": 73,
      "outputs": [
        {
          "output_type": "execute_result",
          "data": {
            "text/plain": [
              "False    0.869055\n",
              "True     0.130945\n",
              "Name: emp_title_manager, dtype: float64"
            ]
          },
          "metadata": {
            "tags": []
          },
          "execution_count": 73
        }
      ]
    },
    {
      "metadata": {
        "id": "xaa_tO_iUB2A",
        "colab_type": "code",
        "colab": {
          "base_uri": "https://localhost:8080/",
          "height": 87
        },
        "outputId": "b91aa30e-daf7-4fe3-b189-dfb563e4f121"
      },
      "cell_type": "code",
      "source": [
        "df.groupby('emp_title_manager')['int_rate'].mean()"
      ],
      "execution_count": 74,
      "outputs": [
        {
          "output_type": "execute_result",
          "data": {
            "text/plain": [
              "emp_title_manager\n",
              "False    12.954774\n",
              "True     12.655238\n",
              "Name: int_rate, dtype: float64"
            ]
          },
          "metadata": {
            "tags": []
          },
          "execution_count": 74
        }
      ]
    },
    {
      "metadata": {
        "id": "a0Sp6PcBUjty",
        "colab_type": "code",
        "colab": {
          "base_uri": "https://localhost:8080/",
          "height": 35
        },
        "outputId": "2c10868a-2922-414d-968c-36b5810f1434"
      },
      "cell_type": "code",
      "source": [
        "df['emp_title'].nunique()"
      ],
      "execution_count": 79,
      "outputs": [
        {
          "output_type": "execute_result",
          "data": {
            "text/plain": [
              "43892"
            ]
          },
          "metadata": {
            "tags": []
          },
          "execution_count": 79
        }
      ]
    },
    {
      "metadata": {
        "id": "8u_DxxkyUnm-",
        "colab_type": "code",
        "colab": {
          "base_uri": "https://localhost:8080/",
          "height": 468
        },
        "outputId": "f6fac2de-7f96-44bb-e42f-48dcbf3c06a6"
      },
      "cell_type": "code",
      "source": [
        "df['emp_title'].value_counts().head(25)"
      ],
      "execution_count": 81,
      "outputs": [
        {
          "output_type": "execute_result",
          "data": {
            "text/plain": [
              "Teacher                     2090\n",
              "Manager                     1773\n",
              "Registered Nurse             952\n",
              "Driver                       924\n",
              "RN                           726\n",
              "Supervisor                   697\n",
              "Sales                        580\n",
              "Project Manager              526\n",
              "General Manager              523\n",
              "Office Manager               521\n",
              "Owner                        420\n",
              "Director                     402\n",
              "Truck Driver                 387\n",
              "Operations Manager           387\n",
              "Nurse                        326\n",
              "Engineer                     325\n",
              "Sales Manager                304\n",
              "manager                      301\n",
              "Supervisor                   270\n",
              "Administrative Assistant     269\n",
              "Accountant                   268\n",
              "Server                       265\n",
              "Vice President               261\n",
              "Mechanic                     258\n",
              "Account Manager              254\n",
              "Name: emp_title, dtype: int64"
            ]
          },
          "metadata": {
            "tags": []
          },
          "execution_count": 81
        }
      ]
    },
    {
      "metadata": {
        "id": "anw6Jti4UNEW",
        "colab_type": "code",
        "colab": {
          "base_uri": "https://localhost:8080/",
          "height": 8736
        },
        "outputId": "0a5061e8-8791-4a3d-d029-0baa8c8c7c4a"
      },
      "cell_type": "code",
      "source": [
        "df.groupby('emp_title')['int_rate'].mean()"
      ],
      "execution_count": 83,
      "outputs": [
        {
          "output_type": "execute_result",
          "data": {
            "text/plain": [
              "emp_title\n",
              "\\tSlot technician                           16.910000\n",
              "\\tVP - Operations                           12.980000\n",
              " \\tAuto Body Repair                         11.550000\n",
              " \\tSr highway safety Specialist             25.340000\n",
              "     CNA                                    14.470000\n",
              "  Director                                  19.920000\n",
              "  Supervisor                                13.560000\n",
              "  Supervisory                               17.970000\n",
              "  Teacher                                   16.140000\n",
              "  Truck driver                              20.890000\n",
              " 2                                          16.910000\n",
              " Account Development Specialist             17.970000\n",
              " Accountant                                  8.190000\n",
              " Accounts Payable specialist                16.910000\n",
              " Admin                                       7.210000\n",
              " Assistant Manager                           8.810000\n",
              " Assistant manager                          24.370000\n",
              " BK Operational Specialist II               18.940000\n",
              " BR MANAGER                                 16.140000\n",
              " Behavioral Specialist                      20.890000\n",
              " Branch Manager                              8.190000\n",
              " Branch manager                              7.560000\n",
              " Building Maintenance Tech                  12.980000\n",
              " Business Development                       13.560000\n",
              " Casino administrator                       22.350000\n",
              " Certified registered nurse practitioner     7.840000\n",
              " Certified veterinary technician            13.560000\n",
              " Chief operations officer                   10.470000\n",
              " Claims adjuster                             6.460000\n",
              " Client Partner Connected Solutions         14.470000\n",
              " Clinical Social Worker                      8.190000\n",
              " Coach/Educator                             10.330000\n",
              " Commercial Lending Assistant               13.560000\n",
              " Consultant                                 11.800000\n",
              " Correction Officer- Sargeant               12.980000\n",
              " Customer service                           10.720000\n",
              " Customer service agent                     16.910000\n",
              " Dietary Manager                            10.720000\n",
              " Director IT SOM                             7.840000\n",
              " Director Quality Assurance                 10.330000\n",
              " Director of CR Field Services              11.310000\n",
              " Director of Community Life                 12.980000\n",
              " Director of assessment                      6.460000\n",
              " Driver                                      8.190000\n",
              " Educational diagnostician                  11.310000\n",
              " Educator                                   15.020000\n",
              " Electrican                                 10.470000\n",
              " Electrician                                13.305000\n",
              " Engineer                                   15.020000\n",
              " Estimator                                  19.920000\n",
              " Events Officer                              6.110000\n",
              " Examiner support specialists               16.140000\n",
              " Excavator                                  22.350000\n",
              " Facility manager                           12.980000\n",
              " Financial Analyst                          24.370000\n",
              " Fire fighter                               11.550000\n",
              " Fire safety technician Salesman            12.730000\n",
              " Food service manager                        6.110000\n",
              " Fulfillment Associate                      27.270000\n",
              " General manager                             7.840000\n",
              " Guest service agent                        18.940000\n",
              " Heavy equipment  Operator                  17.970000\n",
              " Hilton North Hills                         16.910000\n",
              " Horticulture interior gardener             12.980000\n",
              " Inventory                                  19.920000\n",
              " Journey man sign installer                 10.080000\n",
              " Journeyman plumber                         14.470000\n",
              " Laborer                                    10.720000\n",
              " Lead DIESEL FLEET TECH                     10.720000\n",
              " Lead enrollment counselor                  11.310000\n",
              " Lead installer                             11.310000\n",
              " MANAGER                                     7.020000\n",
              " MASSAGE THERAPIST                          15.020000\n",
              " Mail handler                               16.910000\n",
              " Maintenance                                19.920000\n",
              " Maintenance dispatcher                      7.210000\n",
              " Maintenance engineer                       16.140000\n",
              " Maintenance painter                        16.140000\n",
              " Maintenance supervisor                     11.800000\n",
              " Manager                                    13.103333\n",
              " Manager, People Business Partners           6.460000\n",
              " Manuf Operator                             14.470000\n",
              " Matrone                                    11.800000\n",
              " Mechanic                                   14.470000\n",
              " Mechanic                                   13.560000\n",
              " Medical assistant                          10.080000\n",
              " Medical records technician                 15.020000\n",
              " Mental  Health  Professional               19.920000\n",
              " Motorcycle Technician                      18.940000\n",
              " National Sales Director                    17.970000\n",
              " Network Telecom Engineer                   16.140000\n",
              " Nurse                                      14.470000\n",
              " Operation Senior Manager                   15.020000\n",
              " Operations manager                         13.560000\n",
              " Organizer                                   8.460000\n",
              " Parts Whole sale manager                   17.970000\n",
              " Payroll Administrator                      13.560000\n",
              " Personal assistant                         10.080000\n",
              " Personnel Manager                          26.310000\n",
              " Pharmaceutical sales representative        25.340000\n",
              " Pharmacy technician                        26.310000\n",
              " Photographer                                7.840000\n",
              " Porter/ receiver                            7.840000\n",
              " Preschool teacher                          26.310000\n",
              " Principal                                  11.550000\n",
              " Private Client Banker                      14.470000\n",
              " Product Sales Logistics Manager            23.400000\n",
              " Project manager/ Site superviser           13.560000\n",
              " Protective Security Officer                 6.670000\n",
              " Provider Resolution Specialist              8.460000\n",
              " Public Works Director                       7.020000\n",
              " RN, Staff Development Coordinator          26.310000\n",
              " Railroad Engineer                           6.670000\n",
              " Regional manager                           14.470000\n",
              " Registered Nurse                            7.840000\n",
              " Registered nurse                           16.910000\n",
              " Reimbursement Dept                         10.330000\n",
              " Repair man                                 20.890000\n",
              " Research Assistant                         13.560000\n",
              " Resolutions clerk                          13.560000\n",
              " Respiratory Therapist                       8.190000\n",
              " Risk manager                               16.140000\n",
              " Rural Carrier                              11.060000\n",
              " Rural carrier                              17.970000\n",
              " SALES AGENT                                10.330000\n",
              " Sales Manager                              16.140000\n",
              " Sales Manager                              10.080000\n",
              " Sales and Marketing Coordinator             8.810000\n",
              " Sandwich artist                            14.470000\n",
              " Security Officer                            6.110000\n",
              " Security officer                           19.920000\n",
              " Senior  maintenance technician              7.840000\n",
              " Senior ClientOfficer                       14.470000\n",
              " Senior Systems Engineer                     7.840000\n",
              " Senior Technology Lifecycle Coordinator    15.020000\n",
              " Senior manager                             10.330000\n",
              " Shipping Manager                           12.980000\n",
              " Sr. HSSE Tech                              26.310000\n",
              " Sterile processing technician              19.920000\n",
              " Superintend                                20.890000\n",
              " Superintendent                             10.470000\n",
              " Superintendent                              7.840000\n",
              " Supervisor                                 21.125000\n",
              " Teacher                                    11.155000\n",
              " Teacher                                    13.560000\n",
              " Technical Analyst                          16.910000\n",
              " Technician                                 10.720000\n",
              " Technology Support Specialist              11.060000\n",
              " Terminal manager / Driver                  15.020000\n",
              " Treasury Associate                         14.470000\n",
              " Truck Driver                                7.840000\n",
              " VP Human Resources                         10.470000\n",
              " Veterinary Technician                      10.330000\n",
              " Vice President                              8.190000\n",
              " Welder                                      6.670000\n",
              " X-ray technition                           15.020000\n",
              " associate                                  12.980000\n",
              " auditor                                    16.140000\n",
              " bartender                                  11.800000\n",
              " burner                                     12.980000\n",
              " bussiness operation analyst                25.340000\n",
              " caseworker                                  8.810000\n",
              " clerk                                      11.800000\n",
              " counter sales                              18.940000\n",
              " electronic technician                      19.920000\n",
              " engineering                                15.020000\n",
              " field engineer                              6.110000\n",
              " floor associate/customer service expert    10.470000\n",
              " foreman                                    13.560000\n",
              " key account manager                        27.270000\n",
              " lead senior process tech                   10.720000\n",
              " mental health counselor                    18.940000\n",
              " nurse                                      11.800000\n",
              " operario de maquina                        22.350000\n",
              " operator                                    7.840000\n",
              " owner                                      11.550000\n",
              " project coordinator                        13.560000\n",
              " registered nurse                           11.310000\n",
              " returns processor                          13.560000\n",
              " server                                     10.470000\n",
              " service electrician                        16.140000\n",
              " state bail administrator                   16.910000\n",
              " supervisor                                 10.465000\n",
              " support staff supervisor                   19.920000\n",
              " tech asst                                  16.140000\n",
              "(MPE) mechi                                 16.140000\n",
              "/STYLIST                                    11.060000\n",
              "043 Toolclerk                               11.550000\n",
              "04A                                         15.020000\n",
              "09S (Officer Candidate)                     16.910000\n",
              "0operations manager                         13.560000\n",
              "0ptician                                    20.890000\n",
              "1 on 1                                       7.210000\n",
              "100% share holder                           26.310000\n",
              "11-7 nursing supervisor                     22.350000\n",
              "112                                         12.730000\n",
              "11CMF Infantry Instructor                    7.840000\n",
              "11b                                         11.550000\n",
              "121 Gamma Drive                              6.670000\n",
              "13F                                         16.140000\n",
              "14P                                         27.270000\n",
              "15T20                                       11.060000\n",
              "18-wheeler driver                           10.720000\n",
              "18D Special forces Medical Sgt              11.060000\n",
              "1A                                           7.210000\n",
              "1class u&m substation line side              6.460000\n",
              "1st AD                                      10.720000\n",
              "1st Assistant                               24.370000\n",
              "1st Assistant                               16.910000\n",
              "1st Class Mechanic                          11.060000\n",
              "1st Engineer                                10.720000\n",
              "1st Field Clerk                             12.980000\n",
              "1st Grade Teacher                            6.110000\n",
              "1st Lieutenant                              12.980000\n",
              "1st SGT                                     15.020000\n",
              "1st VP Operations Manager                   13.560000\n",
              "1st VP Senior Manager                       14.470000\n",
              "1st class engineering                        8.460000\n",
              "1st grade teacher                           14.470000\n",
              "1st mate                                    13.560000\n",
              "1st pressman                                11.060000\n",
              "21 dealer                                   11.550000\n",
              "2LT                                          6.110000\n",
              "2nd AC                                       8.460000\n",
              "2nd Assistant                               12.400000\n",
              "2nd Assistant Store Director                17.970000\n",
              "2nd Asst. Admin                             13.560000\n",
              "2nd Deptuy                                  10.720000\n",
              "2nd Grade Teacher                           16.276667\n",
              "2nd Lieutenant                              12.980000\n",
              "2nd Shift Supervisor                        16.910000\n",
              "2nd grade teacher                           12.980000\n",
              "2nd grade teacher                           12.980000\n",
              "2nd mate                                     6.670000\n",
              "2nd operator                                22.350000\n",
              "2nd shift Lead Man                          16.140000\n",
              "2ndry billing Coordnator                    10.330000\n",
              "31C                                         16.910000\n",
              "340B Account Operations Specialist          11.800000\n",
              "3D Designer                                 11.550000\n",
              "3D Printing Specialist                      10.330000\n",
              "3D Product Owner                            10.470000\n",
              "3d visual artist                             8.190000\n",
              "3rd Grade Teacher                            6.110000\n",
              "3rd Key Carrier (Person In Charge)          17.970000\n",
              "3rd Key Manager                             11.800000\n",
              "3rd grade teacher                            9.846667\n",
              "3rd shift mod crew                          12.980000\n",
              "3rd shift supervisor                        15.020000\n",
              "3rd shift supervisor                        16.140000\n",
              "                                              ...    \n",
              "traffic signal technician                    7.840000\n",
              "train conductor                             16.910000\n",
              "train operator                              22.350000\n",
              "trainee                                     12.980000\n",
              "trainer                                      8.876000\n",
              "training                                    11.550000\n",
              "training administrator                      16.910000\n",
              "training coordinater                         6.460000\n",
              "training coordinator                        10.470000\n",
              "trans supervisor                            17.970000\n",
              "transcriber                                 11.310000\n",
              "transcript evaluator                        11.800000\n",
              "transcriptionist 2                           6.670000\n",
              "transit operator                            12.026667\n",
              "transit operator                             8.810000\n",
              "transitional work serviced instructor        7.840000\n",
              "transport administrator                     14.470000\n",
              "transport driver                             6.460000\n",
              "transportation                              15.020000\n",
              "transportation                              11.550000\n",
              "transportation consultant                   10.470000\n",
              "transportation manager                      11.060000\n",
              "transportation mgr.                         11.800000\n",
              "transportation officer                       7.210000\n",
              "transportation router                        7.840000\n",
              "transportation supervisor                   11.800000\n",
              "transporter                                 25.340000\n",
              "transportion services supervisor II         12.980000\n",
              "trasnsportation manager                     10.470000\n",
              "travel RN                                   12.980000\n",
              "travel agent                                 8.190000\n",
              "travel nurse                                18.940000\n",
              "travel tech                                 13.560000\n",
              "treasury clerk                              15.020000\n",
              "treatment coordinator                       12.390000\n",
              "triage screener                             18.940000\n",
              "trim saw operator                           20.890000\n",
              "trk driver                                  20.890000\n",
              "trock dravi concrete finiche                11.800000\n",
              "trooper                                     10.330000\n",
              "tropical plant technician                   25.340000\n",
              "truck Driver                                10.413333\n",
              "truck diver                                 15.020000\n",
              "truck driver                                13.888087\n",
              "truck driver                                13.630000\n",
              "truck driver/ Courier Officer               30.790000\n",
              "truck driver/laborer                        11.310000\n",
              "truck driver/owner operator                 10.330000\n",
              "truckdriver                                 11.597500\n",
              "trucker                                     16.910000\n",
              "trucking                                     8.190000\n",
              "truss plant superviser                      16.910000\n",
              "tube bender                                 12.730000\n",
              "tug captain                                  7.840000\n",
              "tv director                                 11.310000\n",
              "uber driver                                 24.370000\n",
              "uc tax regional director                     8.810000\n",
              "ui developer                                14.470000\n",
              "ultrasound tech                             14.745000\n",
              "ultrasound tech                             11.310000\n",
              "ultrasound technologist                     14.470000\n",
              "underground miner                           10.720000\n",
              "underwriter                                 13.305000\n",
              "underwriting consultant                     16.140000\n",
              "uniform attendant                            6.460000\n",
              "union carpenter                             16.910000\n",
              "union glazer                                10.470000\n",
              "union glazier                               15.020000\n",
              "union operator                              21.225000\n",
              "union pipefitter                            10.080000\n",
              "union represenative                         15.020000\n",
              "union worker                                14.470000\n",
              "unit Coordinator                             8.190000\n",
              "unit manager                                16.910000\n",
              "unloader                                    11.800000\n",
              "uph pd                                       8.460000\n",
              "upholster                                    8.810000\n",
              "upholstery                                  10.470000\n",
              "us army recruiter                           11.550000\n",
              "used sales manager                          16.140000\n",
              "utility billing coordinator                 13.560000\n",
              "utility instructor                          12.730000\n",
              "utility line clearanceforeman               25.340000\n",
              "utility mechanic                            10.720000\n",
              "utility operator                            16.140000\n",
              "utility porter                              20.890000\n",
              "utility supervisor                          14.470000\n",
              "utility systems operator                    13.560000\n",
              "utility tech                                20.890000\n",
              "utility worker                              13.165000\n",
              "utilization review nurse                    27.270000\n",
              "utilization review specialist               10.720000\n",
              "vArchitect                                  19.920000\n",
              "valet                                       17.225000\n",
              "validation technician                       10.080000\n",
              "valve tech                                  17.925000\n",
              "vegetation manager                           8.190000\n",
              "vendor                                       8.460000\n",
              "vendor                                      12.730000\n",
              "vendor receive                              15.020000\n",
              "ventas                                       8.460000\n",
              "verification                                16.910000\n",
              "verification Specialist                     19.920000\n",
              "verification manager                        14.470000\n",
              "verifier/checker                            11.550000\n",
              "vessel factory foreman                       7.020000\n",
              "vet assistant                               16.140000\n",
              "vet tech                                    13.880000\n",
              "veterinarian                                 7.255000\n",
              "veterinarian, medical director              12.730000\n",
              "veterinary technician                       12.470000\n",
              "vice President                              13.560000\n",
              "vice precident of ground operatiosn         18.940000\n",
              "vice president                              11.391333\n",
              "vice president interactive                  11.060000\n",
              "vice president of operations                11.800000\n",
              "vice president tecnology                    11.310000\n",
              "vice president, finance manager              8.190000\n",
              "vice presient                               11.800000\n",
              "vicepresident of sales                      11.060000\n",
              "video editor                                 7.020000\n",
              "vision center manager                        8.810000\n",
              "visitor's svcs mgr                          19.920000\n",
              "visual merchandise display                  16.140000\n",
              "vocational case manager                      7.840000\n",
              "vocational supervisor                       22.350000\n",
              "voice and video engineer                     6.110000\n",
              "voyage coordinator                          16.140000\n",
              "vp                                          15.438333\n",
              "vp lending                                   7.210000\n",
              "vp of sales                                 14.470000\n",
              "vp of sales and merchandising                6.110000\n",
              "vp operations                                7.840000\n",
              "vp records mgmt                             23.400000\n",
              "vp sales                                     6.460000\n",
              "vp sales and marketing                      20.890000\n",
              "vp, risk management                         10.470000\n",
              "waist oil furnace technician                12.980000\n",
              "waiter                                      13.919000\n",
              "waiter-caddy                                 8.810000\n",
              "waiters                                     15.020000\n",
              "waitress                                    12.534286\n",
              "waitress supervisor                         11.310000\n",
              "waiver office coordinator                   17.970000\n",
              "wallpaper hanger                             7.210000\n",
              "warehouse                                   11.626316\n",
              "warehouse                                   13.540000\n",
              "warehouse MANAGER                           12.730000\n",
              "warehouse assoc.                             8.810000\n",
              "warehouse associate                         12.011429\n",
              "warehouse associate                         19.920000\n",
              "warehouse clerical                           6.460000\n",
              "warehouse clerk                             10.895000\n",
              "warehouse drive release                     15.020000\n",
              "warehouse driver assitant                    8.810000\n",
              "warehouse laborer                           18.685000\n",
              "warehouse logistics assistant manager       11.800000\n",
              "warehouse manager                           15.090000\n",
              "warehouse manager                           13.560000\n",
              "warehouse operations supervisor              8.190000\n",
              "warehouse operator                          12.730000\n",
              "warehouse pick                               8.460000\n",
              "warehouse specialist                        13.636667\n",
              "warehouse supervisor                        12.371250\n",
              "warehouse supervisor/apprentice plumber     16.910000\n",
              "warehouse tec.                              15.020000\n",
              "warehouse tech                              22.350000\n",
              "warehouse worker                            12.436667\n",
              "warehouse worker                            12.980000\n",
              "warehouse/inventory control                 13.560000\n",
              "warehouse/shipping                          10.470000\n",
              "warehouseman                                13.950000\n",
              "warehouseworker II                           7.840000\n",
              "warehousman                                 15.020000\n",
              "warehuose                                    8.190000\n",
              "warranty                                    15.020000\n",
              "warranty admin                              10.080000\n",
              "waste operator                              13.560000\n",
              "waste water operator                        25.340000\n",
              "waste water treatment operator               6.460000\n",
              "waste water treatment plant                 16.910000\n",
              "wastewater operator                         17.540000\n",
              "wastewater plant operator                   20.890000\n",
              "watch captain                               16.140000\n",
              "water dept supervisor                       19.920000\n",
              "water dept.                                 11.060000\n",
              "water plant operator                        11.800000\n",
              "water pumping operator 1                     7.840000\n",
              "water treatment operator                    18.940000\n",
              "water truck driver                          23.400000\n",
              "water utility                               18.940000\n",
              "water waste operator                        17.970000\n",
              "wax specialist                              11.310000\n",
              "wax tex                                      8.460000\n",
              "we developer                                12.980000\n",
              "wealth manager                               7.840000\n",
              "weapon expediter                            24.370000\n",
              "web developer                               16.250000\n",
              "web master                                  17.970000\n",
              "weigh master                                11.310000\n",
              "weld specialist                             16.140000\n",
              "welder                                      14.262000\n",
              "welder                                       6.670000\n",
              "welder / carpenter                          20.890000\n",
              "welder / ironworker                         14.470000\n",
              "welder/Additive Manufacturing               16.140000\n",
              "welder/HVAC                                 12.730000\n",
              "welder/fabricator                           24.370000\n",
              "welder/fitter                               16.910000\n",
              "wellness nurse                              13.560000\n",
              "wells assemble                              16.140000\n",
              "werehouse                                   19.920000\n",
              "west virginia lottery investigator          18.940000\n",
              "western regonal account manager             25.340000\n",
              "wharehouse                                   7.210000\n",
              "wharehouse supervisor                       15.020000\n",
              "whey supervisor                             10.080000\n",
              "whse technician                             10.720000\n",
              "winder                                      12.980000\n",
              "window cleaner                              23.400000\n",
              "window cleaning                             11.060000\n",
              "wine director                                7.560000\n",
              "wine tasting associate                       7.210000\n",
              "winemaker                                   12.980000\n",
              "wire tech                                   15.020000\n",
              "wireless Tech                               17.970000\n",
              "woodshop                                    13.560000\n",
              "woodworker                                  13.560000\n",
              "work for nonprofit agency                   14.470000\n",
              "work monitor                                22.350000\n",
              "work supervisor                              8.460000\n",
              "worker                                      12.890000\n",
              "worker                                      11.060000\n",
              "writer                                      12.980000\n",
              "wtp manager                                 27.270000\n",
              "x-ray tech                                   7.875000\n",
              "x-ray technician                            11.800000\n",
              "xray                                        10.720000\n",
              "xray tech                                   15.473333\n",
              "xray technician                             23.400000\n",
              "xray technologist                            6.740000\n",
              "yard                                        14.705000\n",
              "yard driver                                 16.950000\n",
              "yard foreman                                16.345000\n",
              "yard goat driver                             6.460000\n",
              "yard manager                                11.065000\n",
              "yard specialist                             15.020000\n",
              "yard superintendent                         23.400000\n",
              "yardspotter                                 17.970000\n",
              "youthworker                                  8.460000\n",
              "Name: int_rate, Length: 43892, dtype: float64"
            ]
          },
          "metadata": {
            "tags": []
          },
          "execution_count": 83
        }
      ]
    },
    {
      "metadata": {
        "colab_type": "text",
        "id": "s8BcCY6so3by"
      },
      "cell_type": "markdown",
      "source": [
        "## Work with dates"
      ]
    },
    {
      "metadata": {
        "id": "kFw09yYsVS2M",
        "colab_type": "code",
        "colab": {
          "base_uri": "https://localhost:8080/",
          "height": 2565
        },
        "outputId": "f90290a0-f796-4e77-e3e7-971bbc438879"
      },
      "cell_type": "code",
      "source": [
        "df.isnull().sum().sort_values(ascending=False) / len(df)"
      ],
      "execution_count": 84,
      "outputs": [
        {
          "output_type": "execute_result",
          "data": {
            "text/plain": [
              "id                                            1.000000\n",
              "desc                                          1.000000\n",
              "url                                           1.000000\n",
              "member_id                                     1.000000\n",
              "hardship_dpd                                  0.999992\n",
              "hardship_reason                               0.999992\n",
              "hardship_status                               0.999992\n",
              "deferral_term                                 0.999992\n",
              "hardship_amount                               0.999992\n",
              "hardship_start_date                           0.999992\n",
              "hardship_end_date                             0.999992\n",
              "payment_plan_start_date                       0.999992\n",
              "hardship_length                               0.999992\n",
              "hardship_type                                 0.999992\n",
              "hardship_loan_status                          0.999992\n",
              "orig_projected_additional_accrued_interest    0.999992\n",
              "hardship_payoff_balance_amount                0.999992\n",
              "hardship_last_payment_amount                  0.999992\n",
              "settlement_term                               0.999984\n",
              "debt_settlement_flag_date                     0.999984\n",
              "settlement_status                             0.999984\n",
              "settlement_date                               0.999984\n",
              "settlement_amount                             0.999984\n",
              "settlement_percentage                         0.999984\n",
              "sec_app_mths_since_last_major_derog           0.959864\n",
              "verification_status_joint                     0.884372\n",
              "mths_since_last_record                        0.879684\n",
              "sec_app_revol_util                            0.871320\n",
              "sec_app_open_act_il                           0.869311\n",
              "sec_app_num_rev_accts                         0.869311\n",
              "sec_app_open_acc                              0.869311\n",
              "sec_app_mort_acc                              0.869311\n",
              "sec_app_inq_last_6mths                        0.869311\n",
              "sec_app_earliest_cr_line                      0.869311\n",
              "revol_bal_joint                               0.869311\n",
              "sec_app_chargeoff_within_12_mths              0.869311\n",
              "sec_app_collections_12_mths_ex_med            0.869311\n",
              "annual_inc_joint                              0.869311\n",
              "dti_joint                                     0.869311\n",
              "mths_since_recent_bc_dlq                      0.803998\n",
              "mths_since_last_major_derog                   0.772763\n",
              "mths_since_recent_revol_delinq                0.713563\n",
              "mths_since_last_delinq                        0.562222\n",
              "emp_title                                     0.163123\n",
              "emp_title_manager                             0.163123\n",
              "il_util                                       0.157882\n",
              "mths_since_recent_inq                         0.124965\n",
              "emp_length                                    0.091144\n",
              "mths_since_rcnt_il                            0.034872\n",
              "mo_sin_old_il_acct                            0.034872\n",
              "next_pymnt_d                                  0.027030\n",
              "num_tl_120dpd_2m                              0.022264\n",
              "bc_util                                       0.013659\n",
              "percent_bc_gt_75                              0.013176\n",
              "bc_open_to_buy                                0.013169\n",
              "mths_since_recent_bc                          0.012390\n",
              "dti                                           0.001846\n",
              "last_pymnt_d                                  0.001262\n",
              "revol_util                                    0.001215\n",
              "all_util                                      0.000288\n",
              "avg_cur_bal                                   0.000101\n",
              "last_credit_pull_d                            0.000008\n",
              "earliest_cr_line                              0.000000\n",
              "inq_last_6mths                                0.000000\n",
              "total_bal_ex_mort                             0.000000\n",
              "total_bc_limit                                0.000000\n",
              "num_tl_30dpd                                  0.000000\n",
              "open_acc                                      0.000000\n",
              "pub_rec                                       0.000000\n",
              "revol_bal                                     0.000000\n",
              "delinq_2yrs                                   0.000000\n",
              "initial_list_status                           0.000000\n",
              "out_prncp                                     0.000000\n",
              "out_prncp_inv                                 0.000000\n",
              "total_pymnt                                   0.000000\n",
              "total_pymnt_inv                               0.000000\n",
              "total_rec_prncp                               0.000000\n",
              "total_acc                                     0.000000\n",
              "title                                         0.000000\n",
              "addr_state                                    0.000000\n",
              "disbursement_method                           0.000000\n",
              "debt_settlement_flag                          0.000000\n",
              "loan_amnt                                     0.000000\n",
              "funded_amnt                                   0.000000\n",
              "funded_amnt_inv                               0.000000\n",
              "term                                          0.000000\n",
              "int_rate                                      0.000000\n",
              "installment                                   0.000000\n",
              "grade                                         0.000000\n",
              "sub_grade                                     0.000000\n",
              "home_ownership                                0.000000\n",
              "zip_code                                      0.000000\n",
              "annual_inc                                    0.000000\n",
              "verification_status                           0.000000\n",
              "issue_d                                       0.000000\n",
              "loan_status                                   0.000000\n",
              "pymnt_plan                                    0.000000\n",
              "hardship_flag                                 0.000000\n",
              "total_il_high_credit_limit                    0.000000\n",
              "purpose                                       0.000000\n",
              "total_rec_late_fee                            0.000000\n",
              "total_rec_int                                 0.000000\n",
              "tot_hi_cred_lim                               0.000000\n",
              "recoveries                                    0.000000\n",
              "num_accts_ever_120_pd                         0.000000\n",
              "chargeoff_within_12_mths                      0.000000\n",
              "delinq_amnt                                   0.000000\n",
              "mo_sin_old_rev_tl_op                          0.000000\n",
              "mo_sin_rcnt_rev_tl_op                         0.000000\n",
              "mo_sin_rcnt_tl                                0.000000\n",
              "mort_acc                                      0.000000\n",
              "num_tl_op_past_12m                            0.000000\n",
              "num_tl_90g_dpd_24m                            0.000000\n",
              "num_actv_bc_tl                                0.000000\n",
              "inq_last_12m                                  0.000000\n",
              "num_actv_rev_tl                               0.000000\n",
              "num_bc_sats                                   0.000000\n",
              "num_bc_tl                                     0.000000\n",
              "num_il_tl                                     0.000000\n",
              "num_op_rev_tl                                 0.000000\n",
              "num_rev_accts                                 0.000000\n",
              "num_rev_tl_bal_gt_0                           0.000000\n",
              "num_sats                                      0.000000\n",
              "acc_open_past_24mths                          0.000000\n",
              "pct_tl_nvr_dlq                                0.000000\n",
              "collection_recovery_fee                       0.000000\n",
              "tot_cur_bal                                   0.000000\n",
              "last_pymnt_amnt                               0.000000\n",
              "collections_12_mths_ex_med                    0.000000\n",
              "policy_code                                   0.000000\n",
              "application_type                              0.000000\n",
              "tax_liens                                     0.000000\n",
              "pub_rec_bankruptcies                          0.000000\n",
              "acc_now_delinq                                0.000000\n",
              "tot_coll_amt                                  0.000000\n",
              "open_acc_6m                                   0.000000\n",
              "inq_fi                                        0.000000\n",
              "open_act_il                                   0.000000\n",
              "open_il_12m                                   0.000000\n",
              "open_il_24m                                   0.000000\n",
              "total_bal_il                                  0.000000\n",
              "open_rv_12m                                   0.000000\n",
              "open_rv_24m                                   0.000000\n",
              "max_bal_bc                                    0.000000\n",
              "total_rev_hi_lim                              0.000000\n",
              "total_cu_tl                                   0.000000\n",
              "dtype: float64"
            ]
          },
          "metadata": {
            "tags": []
          },
          "execution_count": 84
        }
      ]
    },
    {
      "metadata": {
        "id": "2nIFf2uuCrVQ",
        "colab_type": "text"
      },
      "cell_type": "markdown",
      "source": [
        "pandas documentation\n",
        "- [to_datetime](https://pandas.pydata.org/pandas-docs/stable/generated/pandas.to_datetime.html)\n",
        "- [Time/Date Components](https://pandas.pydata.org/pandas-docs/stable/timeseries.html#time-date-components) \"You can access these properties via the `.dt` accessor\""
      ]
    },
    {
      "metadata": {
        "colab_type": "code",
        "id": "kNrKxOTeo4W3",
        "colab": {
          "base_uri": "https://localhost:8080/",
          "height": 52
        },
        "outputId": "5e1106e5-953b-4b3e-ab27-7f7ca1622e31"
      },
      "cell_type": "code",
      "source": [
        "df['issue_d'].head().values"
      ],
      "execution_count": 86,
      "outputs": [
        {
          "output_type": "execute_result",
          "data": {
            "text/plain": [
              "array(['Dec-2018', 'Dec-2018', 'Dec-2018', 'Dec-2018', 'Dec-2018'],\n",
              "      dtype=object)"
            ]
          },
          "metadata": {
            "tags": []
          },
          "execution_count": 86
        }
      ]
    },
    {
      "metadata": {
        "id": "GbhhulptWnhv",
        "colab_type": "code",
        "colab": {
          "base_uri": "https://localhost:8080/",
          "height": 104
        },
        "outputId": "ad34985b-bb8b-4373-87f0-6259d70d20c9"
      },
      "cell_type": "code",
      "source": [
        "df['issue_d'].describe()"
      ],
      "execution_count": 87,
      "outputs": [
        {
          "output_type": "execute_result",
          "data": {
            "text/plain": [
              "count       128412\n",
              "unique           3\n",
              "top       Oct-2018\n",
              "freq         46305\n",
              "Name: issue_d, dtype: object"
            ]
          },
          "metadata": {
            "tags": []
          },
          "execution_count": 87
        }
      ]
    },
    {
      "metadata": {
        "id": "-QpSTcBuWtG6",
        "colab_type": "code",
        "colab": {}
      },
      "cell_type": "code",
      "source": [
        "df['issue_d'] = pd.to_datetime(df['issue_d'], infer_datetime_format=True)"
      ],
      "execution_count": 0,
      "outputs": []
    },
    {
      "metadata": {
        "id": "4okjeerJXVSp",
        "colab_type": "code",
        "colab": {
          "base_uri": "https://localhost:8080/",
          "height": 69
        },
        "outputId": "bc72becf-1857-4ee0-e88c-8f2a56fba6a3"
      },
      "cell_type": "code",
      "source": [
        "df['issue_d'].head().values"
      ],
      "execution_count": 90,
      "outputs": [
        {
          "output_type": "execute_result",
          "data": {
            "text/plain": [
              "array(['2018-12-01T00:00:00.000000000', '2018-12-01T00:00:00.000000000',\n",
              "       '2018-12-01T00:00:00.000000000', '2018-12-01T00:00:00.000000000',\n",
              "       '2018-12-01T00:00:00.000000000'], dtype='datetime64[ns]')"
            ]
          },
          "metadata": {
            "tags": []
          },
          "execution_count": 90
        }
      ]
    },
    {
      "metadata": {
        "id": "UuTDHWIgXiuS",
        "colab_type": "code",
        "colab": {
          "base_uri": "https://localhost:8080/",
          "height": 139
        },
        "outputId": "aa6755c0-db35-45d8-c2cd-cf44510a44c9"
      },
      "cell_type": "code",
      "source": [
        "df['issue_d'].describe()"
      ],
      "execution_count": 94,
      "outputs": [
        {
          "output_type": "execute_result",
          "data": {
            "text/plain": [
              "count                  128412\n",
              "unique                      3\n",
              "top       2018-10-01 00:00:00\n",
              "freq                    46305\n",
              "first     2018-10-01 00:00:00\n",
              "last      2018-12-01 00:00:00\n",
              "Name: issue_d, dtype: object"
            ]
          },
          "metadata": {
            "tags": []
          },
          "execution_count": 94
        }
      ]
    },
    {
      "metadata": {
        "id": "3ZCYwnimY_sY",
        "colab_type": "code",
        "colab": {}
      },
      "cell_type": "code",
      "source": [
        "df['earliest_cr_line'] = pd.to_datetime(df['earliest_cr_line'], infer_datetime_format=True)"
      ],
      "execution_count": 0,
      "outputs": []
    },
    {
      "metadata": {
        "id": "JKB79VwfZjPp",
        "colab_type": "code",
        "colab": {}
      },
      "cell_type": "code",
      "source": [
        "df['days_from_earliest_credit_to_issue'] = (df['issue_d'] - df['earliest_cr_line']).dt.days"
      ],
      "execution_count": 0,
      "outputs": []
    },
    {
      "metadata": {
        "id": "Uq_d04xAaJ96",
        "colab_type": "code",
        "colab": {
          "base_uri": "https://localhost:8080/",
          "height": 173
        },
        "outputId": "3e261010-9168-457f-fadb-b1570d7e2d49"
      },
      "cell_type": "code",
      "source": [
        "df['days_from_earliest_credit_to_issue'].describe()"
      ],
      "execution_count": 103,
      "outputs": [
        {
          "output_type": "execute_result",
          "data": {
            "text/plain": [
              "count    128412.000000\n",
              "mean       5859.891490\n",
              "std        2886.535578\n",
              "min        1126.000000\n",
              "25%        4049.000000\n",
              "50%        5266.000000\n",
              "75%        7244.000000\n",
              "max       25171.000000\n",
              "Name: days_from_earliest_credit_to_issue, dtype: float64"
            ]
          },
          "metadata": {
            "tags": []
          },
          "execution_count": 103
        }
      ]
    },
    {
      "metadata": {
        "id": "sucSvqsnbEA9",
        "colab_type": "code",
        "colab": {
          "base_uri": "https://localhost:8080/",
          "height": 35
        },
        "outputId": "17da979c-5462-4408-b09f-f20b826052bc"
      },
      "cell_type": "code",
      "source": [
        "# this will iterate over columns\n",
        "[col for col in df if col.endswith('_d')]"
      ],
      "execution_count": 104,
      "outputs": [
        {
          "output_type": "execute_result",
          "data": {
            "text/plain": [
              "['issue_d', 'last_pymnt_d', 'next_pymnt_d', 'last_credit_pull_d']"
            ]
          },
          "metadata": {
            "tags": []
          },
          "execution_count": 104
        }
      ]
    },
    {
      "metadata": {
        "id": "rn_BMqclbZpa",
        "colab_type": "code",
        "colab": {
          "base_uri": "https://localhost:8080/",
          "height": 87
        },
        "outputId": "23f2b558-b3c9-4d2f-eb50-0df9abf525eb"
      },
      "cell_type": "code",
      "source": [
        "for col in [col for col in df if col.endswith('_d')]:\n",
        "  print(col)\n",
        "  df[col] = pd.to_datetime(df[col], infer_datetime_format=True)"
      ],
      "execution_count": 113,
      "outputs": [
        {
          "output_type": "stream",
          "text": [
            "issue_d\n",
            "last_pymnt_d\n",
            "next_pymnt_d\n",
            "last_credit_pull_d\n"
          ],
          "name": "stdout"
        }
      ]
    },
    {
      "metadata": {
        "id": "kApmSW22b3sY",
        "colab_type": "code",
        "colab": {
          "base_uri": "https://localhost:8080/",
          "height": 233
        },
        "outputId": "298dfdf4-0ced-43ae-8c93-f8f7a257a828"
      },
      "cell_type": "code",
      "source": [
        "df.describe(include='datetime')"
      ],
      "execution_count": 114,
      "outputs": [
        {
          "output_type": "execute_result",
          "data": {
            "text/html": [
              "<div>\n",
              "<style scoped>\n",
              "    .dataframe tbody tr th:only-of-type {\n",
              "        vertical-align: middle;\n",
              "    }\n",
              "\n",
              "    .dataframe tbody tr th {\n",
              "        vertical-align: top;\n",
              "    }\n",
              "\n",
              "    .dataframe thead th {\n",
              "        text-align: right;\n",
              "    }\n",
              "</style>\n",
              "<table border=\"1\" class=\"dataframe\">\n",
              "  <thead>\n",
              "    <tr style=\"text-align: right;\">\n",
              "      <th></th>\n",
              "      <th>issue_d</th>\n",
              "      <th>earliest_cr_line</th>\n",
              "      <th>last_pymnt_d</th>\n",
              "      <th>next_pymnt_d</th>\n",
              "      <th>last_credit_pull_d</th>\n",
              "    </tr>\n",
              "  </thead>\n",
              "  <tbody>\n",
              "    <tr>\n",
              "      <th>count</th>\n",
              "      <td>128412</td>\n",
              "      <td>128412</td>\n",
              "      <td>128250</td>\n",
              "      <td>124941</td>\n",
              "      <td>128411</td>\n",
              "    </tr>\n",
              "    <tr>\n",
              "      <th>unique</th>\n",
              "      <td>3</td>\n",
              "      <td>644</td>\n",
              "      <td>5</td>\n",
              "      <td>3</td>\n",
              "      <td>7</td>\n",
              "    </tr>\n",
              "    <tr>\n",
              "      <th>top</th>\n",
              "      <td>2018-10-01 00:00:00</td>\n",
              "      <td>2006-08-01 00:00:00</td>\n",
              "      <td>2019-02-01 00:00:00</td>\n",
              "      <td>2019-03-01 00:00:00</td>\n",
              "      <td>2019-02-01 00:00:00</td>\n",
              "    </tr>\n",
              "    <tr>\n",
              "      <th>freq</th>\n",
              "      <td>46305</td>\n",
              "      <td>1130</td>\n",
              "      <td>123797</td>\n",
              "      <td>124903</td>\n",
              "      <td>125061</td>\n",
              "    </tr>\n",
              "    <tr>\n",
              "      <th>first</th>\n",
              "      <td>2018-10-01 00:00:00</td>\n",
              "      <td>1950-01-01 00:00:00</td>\n",
              "      <td>2018-10-01 00:00:00</td>\n",
              "      <td>2019-02-01 00:00:00</td>\n",
              "      <td>2018-08-01 00:00:00</td>\n",
              "    </tr>\n",
              "    <tr>\n",
              "      <th>last</th>\n",
              "      <td>2018-12-01 00:00:00</td>\n",
              "      <td>2015-11-01 00:00:00</td>\n",
              "      <td>2019-02-01 00:00:00</td>\n",
              "      <td>2019-04-01 00:00:00</td>\n",
              "      <td>2019-02-01 00:00:00</td>\n",
              "    </tr>\n",
              "  </tbody>\n",
              "</table>\n",
              "</div>"
            ],
            "text/plain": [
              "                    issue_d     earliest_cr_line         last_pymnt_d  \\\n",
              "count                128412               128412               128250   \n",
              "unique                    3                  644                    5   \n",
              "top     2018-10-01 00:00:00  2006-08-01 00:00:00  2019-02-01 00:00:00   \n",
              "freq                  46305                 1130               123797   \n",
              "first   2018-10-01 00:00:00  1950-01-01 00:00:00  2018-10-01 00:00:00   \n",
              "last    2018-12-01 00:00:00  2015-11-01 00:00:00  2019-02-01 00:00:00   \n",
              "\n",
              "               next_pymnt_d   last_credit_pull_d  \n",
              "count                124941               128411  \n",
              "unique                    3                    7  \n",
              "top     2019-03-01 00:00:00  2019-02-01 00:00:00  \n",
              "freq                 124903               125061  \n",
              "first   2019-02-01 00:00:00  2018-08-01 00:00:00  \n",
              "last    2019-04-01 00:00:00  2019-02-01 00:00:00  "
            ]
          },
          "metadata": {
            "tags": []
          },
          "execution_count": 114
        }
      ]
    },
    {
      "metadata": {
        "id": "YbJlGLp3bRUM",
        "colab_type": "code",
        "colab": {
          "base_uri": "https://localhost:8080/",
          "height": 35
        },
        "outputId": "15165250-7b63-4f0b-8896-ef277e9abef4"
      },
      "cell_type": "code",
      "source": [
        "[col for col in df if col.endswith('credit')]"
      ],
      "execution_count": 106,
      "outputs": [
        {
          "output_type": "execute_result",
          "data": {
            "text/plain": [
              "[]"
            ]
          },
          "metadata": {
            "tags": []
          },
          "execution_count": 106
        }
      ]
    },
    {
      "metadata": {
        "id": "Q2AQgGj7CrVU",
        "colab_type": "text"
      },
      "cell_type": "markdown",
      "source": [
        "# ASSIGNMENT\n",
        "\n",
        "- Replicate the lesson code.\n",
        "\n",
        "- Convert the `term` column from string to integer.\n",
        "\n",
        "- Make a column named `loan_status_is_great`. It should contain the integer 1 if `loan_status` is \"Current\" or \"Fully Paid.\" Else it should contain the integer 0.\n",
        "\n",
        "- Make `last_pymnt_d_month` and `last_pymnt_d_year` columns."
      ]
    },
    {
      "metadata": {
        "id": "c3TqJSIjcaAh",
        "colab_type": "code",
        "colab": {
          "base_uri": "https://localhost:8080/",
          "height": 69
        },
        "outputId": "83ee7699-2b5f-4dd5-e00d-e3e3ede1219b"
      },
      "cell_type": "code",
      "source": [
        "# First we'll check value counts and include nans\n",
        "df.term.value_counts(dropna=False)"
      ],
      "execution_count": 116,
      "outputs": [
        {
          "output_type": "execute_result",
          "data": {
            "text/plain": [
              " 36 months    88179\n",
              " 60 months    40233\n",
              "Name: term, dtype: int64"
            ]
          },
          "metadata": {
            "tags": []
          },
          "execution_count": 116
        }
      ]
    },
    {
      "metadata": {
        "id": "z58UaPWxcixL",
        "colab_type": "code",
        "colab": {
          "base_uri": "https://localhost:8080/",
          "height": 35
        },
        "outputId": "fb097c9e-62b7-4163-eb42-d2395fc7c55d"
      },
      "cell_type": "code",
      "source": [
        "# looks like no nans but I'll sum it to check again\n",
        "df.term.isna().sum()"
      ],
      "execution_count": 118,
      "outputs": [
        {
          "output_type": "execute_result",
          "data": {
            "text/plain": [
              "0"
            ]
          },
          "metadata": {
            "tags": []
          },
          "execution_count": 118
        }
      ]
    },
    {
      "metadata": {
        "id": "ZhO6-SUwffZZ",
        "colab_type": "code",
        "colab": {
          "base_uri": "https://localhost:8080/",
          "height": 104
        },
        "outputId": "a9baa923-c622-4549-9969-8cc37a996424"
      },
      "cell_type": "code",
      "source": [
        "# ok so now we check out the df, and it seems to have  just 2 values\n",
        "df.term.describe()"
      ],
      "execution_count": 119,
      "outputs": [
        {
          "output_type": "execute_result",
          "data": {
            "text/plain": [
              "count         128412\n",
              "unique             2\n",
              "top        36 months\n",
              "freq           88179\n",
              "Name: term, dtype: object"
            ]
          },
          "metadata": {
            "tags": []
          },
          "execution_count": 119
        }
      ]
    },
    {
      "metadata": {
        "id": "qZCdEuWwf0Kg",
        "colab_type": "code",
        "colab": {}
      },
      "cell_type": "code",
      "source": [
        "# I'm going to make a test list for my function\n",
        "term_examples = df['term'].head().values.tolist()"
      ],
      "execution_count": 0,
      "outputs": []
    },
    {
      "metadata": {
        "id": "pLuT7RX6fKhI",
        "colab_type": "code",
        "colab": {
          "base_uri": "https://localhost:8080/",
          "height": 35
        },
        "outputId": "72971dfb-97f7-47e5-e8cf-d1c44af69adf"
      },
      "cell_type": "code",
      "source": [
        "# basically stealing ryan's function, but keeping it super simple\n",
        "\n",
        "def clean_term(x):\n",
        "  if isinstance(x, str):\n",
        "    return int(x.strip('months').strip())\n",
        "#   else:\n",
        "#     return 'Unknown'\n",
        "\n",
        "# checking this out, and it seems to be working\n",
        "[clean_term(x) for x in term_examples], type([clean_term(x) for x in term_examples][1])"
      ],
      "execution_count": 142,
      "outputs": [
        {
          "output_type": "execute_result",
          "data": {
            "text/plain": [
              "([36, 60, 36, 36, 60], int)"
            ]
          },
          "metadata": {
            "tags": []
          },
          "execution_count": 142
        }
      ]
    },
    {
      "metadata": {
        "id": "_hujd193gmFH",
        "colab_type": "code",
        "colab": {}
      },
      "cell_type": "code",
      "source": [
        "# applied now I'll check dtype\n",
        "df.term = df['term'].apply(clean_term)"
      ],
      "execution_count": 0,
      "outputs": []
    },
    {
      "metadata": {
        "id": "V9TNicfOhh-9",
        "colab_type": "code",
        "colab": {
          "base_uri": "https://localhost:8080/",
          "height": 35
        },
        "outputId": "35a68267-8dca-433a-ea39-9ce7940fd9b2"
      },
      "cell_type": "code",
      "source": [
        "df.term.dtype\n",
        "# I'm getting an int, that's right"
      ],
      "execution_count": 139,
      "outputs": [
        {
          "output_type": "execute_result",
          "data": {
            "text/plain": [
              "dtype('int64')"
            ]
          },
          "metadata": {
            "tags": []
          },
          "execution_count": 139
        }
      ]
    },
    {
      "metadata": {
        "id": "U-_IjwsHiahX",
        "colab_type": "code",
        "colab": {
          "base_uri": "https://localhost:8080/",
          "height": 121
        },
        "outputId": "d2e683bc-a2b3-4ae1-dca9-ca7abf79ce26"
      },
      "cell_type": "code",
      "source": [
        "# Everything looks right\n",
        "df.term.head()"
      ],
      "execution_count": 143,
      "outputs": [
        {
          "output_type": "execute_result",
          "data": {
            "text/plain": [
              "0    36\n",
              "1    60\n",
              "2    36\n",
              "3    36\n",
              "4    60\n",
              "Name: term, dtype: int64"
            ]
          },
          "metadata": {
            "tags": []
          },
          "execution_count": 143
        }
      ]
    },
    {
      "metadata": {
        "id": "51DAyrP872ig",
        "colab_type": "text"
      },
      "cell_type": "markdown",
      "source": [
        "- Make a column named `loan_status_is_great`. It should contain the integer 1 if `loan_status` is \"Current\" or \"Fully Paid.\" Else it should contain the integer 0.\n",
        "\n"
      ]
    },
    {
      "metadata": {
        "id": "F37nca1I73iL",
        "colab_type": "code",
        "colab": {
          "base_uri": "https://localhost:8080/",
          "height": 35
        },
        "outputId": "c1bd9c7f-0916-4682-965a-e9effb04022e"
      },
      "cell_type": "code",
      "source": [
        "# explore the loan_status column so I know what I'm working with\n",
        "df.loan_status.isna().sum()"
      ],
      "execution_count": 144,
      "outputs": [
        {
          "output_type": "execute_result",
          "data": {
            "text/plain": [
              "0"
            ]
          },
          "metadata": {
            "tags": []
          },
          "execution_count": 144
        }
      ]
    },
    {
      "metadata": {
        "id": "iJRoAQEh8D4C",
        "colab_type": "code",
        "colab": {
          "base_uri": "https://localhost:8080/",
          "height": 104
        },
        "outputId": "edeeb5c9-24de-4098-98ec-7b97099518f4"
      },
      "cell_type": "code",
      "source": [
        "df.loan_status.describe()\n",
        "# 6 uniques, I'd like to know what they are so I can deal with them"
      ],
      "execution_count": 145,
      "outputs": [
        {
          "output_type": "execute_result",
          "data": {
            "text/plain": [
              "count      128412\n",
              "unique          6\n",
              "top       Current\n",
              "freq       123768\n",
              "Name: loan_status, dtype: object"
            ]
          },
          "metadata": {
            "tags": []
          },
          "execution_count": 145
        }
      ]
    },
    {
      "metadata": {
        "id": "A62-QO8E8R8J",
        "colab_type": "code",
        "colab": {
          "base_uri": "https://localhost:8080/",
          "height": 52
        },
        "outputId": "61e0ad7a-5b42-47b9-f23e-6f255d8364fb"
      },
      "cell_type": "code",
      "source": [
        "df.loan_status.unique()"
      ],
      "execution_count": 146,
      "outputs": [
        {
          "output_type": "execute_result",
          "data": {
            "text/plain": [
              "array(['Current', 'Fully Paid', 'Late (31-120 days)', 'In Grace Period',\n",
              "       'Charged Off', 'Late (16-30 days)'], dtype=object)"
            ]
          },
          "metadata": {
            "tags": []
          },
          "execution_count": 146
        }
      ]
    },
    {
      "metadata": {
        "id": "6FXHmTbV8dt4",
        "colab_type": "code",
        "colab": {
          "base_uri": "https://localhost:8080/",
          "height": 52
        },
        "outputId": "d7b09d6e-e5b6-431d-bad6-396c7fcb7f5f"
      },
      "cell_type": "code",
      "source": [
        "# So it looks like we will want to read these strings and output a 1 for Current or Fully Paid, and a 0 otherwise\n",
        "\n",
        "test_status = df.loan_status.unique().tolist()\n",
        "\n",
        "print(test_status)\n",
        "\n",
        "def loan_reader(status):\n",
        "   if isinstance(status, str):\n",
        "      if status == 'Current' or status == 'Fully Paid':\n",
        "        return 1\n",
        "      else:\n",
        "        return 0\n",
        "\n",
        "# checking this out, and it seems to be working\n",
        "[loan_reader(x) for x in test_status], type([loan_reader(x) for x in test_status][1])"
      ],
      "execution_count": 156,
      "outputs": [
        {
          "output_type": "stream",
          "text": [
            "['Current', 'Fully Paid', 'Late (31-120 days)', 'In Grace Period', 'Charged Off', 'Late (16-30 days)']\n"
          ],
          "name": "stdout"
        },
        {
          "output_type": "execute_result",
          "data": {
            "text/plain": [
              "([1, 1, 0, 0, 0, 0], int)"
            ]
          },
          "metadata": {
            "tags": []
          },
          "execution_count": 156
        }
      ]
    },
    {
      "metadata": {
        "id": "P6VPpB6t-IaS",
        "colab_type": "code",
        "colab": {}
      },
      "cell_type": "code",
      "source": [
        "# now to apply it\n",
        "\n",
        "df['loan_status_is_great'] = df['loan_status'].apply(loan_reader)"
      ],
      "execution_count": 0,
      "outputs": []
    },
    {
      "metadata": {
        "id": "q1XTlsCH-bBH",
        "colab_type": "code",
        "colab": {
          "base_uri": "https://localhost:8080/",
          "height": 35
        },
        "outputId": "56d1a6d8-1202-4019-bc1a-f7735d0cc078"
      },
      "cell_type": "code",
      "source": [
        "# now to check our output\n",
        "# df['loan_status_is_great'].describe()\n",
        "# df['loan_status_is_great'].unique()\n",
        "# df['loan_status_is_great'].tail()\n",
        "df['loan_status'].shape, df['loan_status_is_great'].shape"
      ],
      "execution_count": 164,
      "outputs": [
        {
          "output_type": "execute_result",
          "data": {
            "text/plain": [
              "((128412,), (128412,))"
            ]
          },
          "metadata": {
            "tags": []
          },
          "execution_count": 164
        }
      ]
    },
    {
      "metadata": {
        "id": "xKmYnESa-0QQ",
        "colab_type": "text"
      },
      "cell_type": "markdown",
      "source": [
        "- Make `last_pymnt_d_month` and `last_pymnt_d_year` columns."
      ]
    },
    {
      "metadata": {
        "id": "b85BavzY-zan",
        "colab_type": "code",
        "colab": {
          "base_uri": "https://localhost:8080/",
          "height": 260
        },
        "outputId": "25d827c2-cd27-46d2-dbe4-4e2ef7a17cff"
      },
      "cell_type": "code",
      "source": [
        "# I'll check the last_pymnt_d paramater first\n",
        "df.last_pymnt_d.head(), df.last_pymnt_d.shape, df.last_pymnt_d.describe()"
      ],
      "execution_count": 168,
      "outputs": [
        {
          "output_type": "execute_result",
          "data": {
            "text/plain": [
              "(0   2019-02-01\n",
              " 1   2019-02-01\n",
              " 2   2019-02-01\n",
              " 3   2019-02-01\n",
              " 4   2019-02-01\n",
              " Name: last_pymnt_d, dtype: datetime64[ns],\n",
              " (128412,),\n",
              " count                  128250\n",
              " unique                      5\n",
              " top       2019-02-01 00:00:00\n",
              " freq                   123797\n",
              " first     2018-10-01 00:00:00\n",
              " last      2019-02-01 00:00:00\n",
              " Name: last_pymnt_d, dtype: object)"
            ]
          },
          "metadata": {
            "tags": []
          },
          "execution_count": 168
        }
      ]
    },
    {
      "metadata": {
        "id": "4cQ-ipxZ_cnk",
        "colab_type": "code",
        "colab": {
          "base_uri": "https://localhost:8080/",
          "height": 121
        },
        "outputId": "4f8d3c41-109f-492f-c00b-c0a9222d37bc"
      },
      "cell_type": "code",
      "source": [
        "# I'll test a method to extract the month\n",
        "df.last_pymnt_d.dt.month.head()\n",
        "\n",
        "# that worked for the head, so what about the year?\n",
        "\n",
        "df.last_pymnt_d.dt.year.head()"
      ],
      "execution_count": 171,
      "outputs": [
        {
          "output_type": "execute_result",
          "data": {
            "text/plain": [
              "0    2019.0\n",
              "1    2019.0\n",
              "2    2019.0\n",
              "3    2019.0\n",
              "4    2019.0\n",
              "Name: last_pymnt_d, dtype: float64"
            ]
          },
          "metadata": {
            "tags": []
          },
          "execution_count": 171
        }
      ]
    },
    {
      "metadata": {
        "id": "k3cgllyu_y6o",
        "colab_type": "code",
        "colab": {}
      },
      "cell_type": "code",
      "source": [
        "# so I can make these columns with this simple mehtod:\n",
        "df['last_pymnt_d_month'] = df.last_pymnt_d.dt.month\n",
        "df['last_pymnt_d_d'] = df.last_pymnt_d.dt.day"
      ],
      "execution_count": 0,
      "outputs": []
    },
    {
      "metadata": {
        "id": "JaDvlHaVAcy-",
        "colab_type": "code",
        "colab": {
          "base_uri": "https://localhost:8080/",
          "height": 286
        },
        "outputId": "408adadd-71fa-4738-b6fc-c19a62c92cf1"
      },
      "cell_type": "code",
      "source": [
        "df['last_pymnt_d_month'].head(), df['last_pymnt_d_d'].head(), df['last_pymnt_d'].head()\n",
        "# df['last_pymnt_d_month'].dtype"
      ],
      "execution_count": 191,
      "outputs": [
        {
          "output_type": "execute_result",
          "data": {
            "text/plain": [
              "(0   1970-01-01 00:00:00.000000002\n",
              " 1   1970-01-01 00:00:00.000000002\n",
              " 2   1970-01-01 00:00:00.000000002\n",
              " 3   1970-01-01 00:00:00.000000002\n",
              " 4   1970-01-01 00:00:00.000000002\n",
              " Name: last_pymnt_d_month, dtype: datetime64[ns], 0    1.0\n",
              " 1    1.0\n",
              " 2    1.0\n",
              " 3    1.0\n",
              " 4    1.0\n",
              " Name: last_pymnt_d_d, dtype: float64, 0   2019-02-01\n",
              " 1   2019-02-01\n",
              " 2   2019-02-01\n",
              " 3   2019-02-01\n",
              " 4   2019-02-01\n",
              " Name: last_pymnt_d, dtype: datetime64[ns])"
            ]
          },
          "metadata": {
            "tags": []
          },
          "execution_count": 191
        }
      ]
    },
    {
      "metadata": {
        "id": "Y9_yWc21BXq5",
        "colab_type": "text"
      },
      "cell_type": "markdown",
      "source": [
        "Looks good but these guys are floats not datetime, let's see if I can fix that"
      ]
    },
    {
      "metadata": {
        "id": "ETcwgu6-BuCH",
        "colab_type": "code",
        "colab": {
          "base_uri": "https://localhost:8080/",
          "height": 118
        },
        "outputId": "a7f95a2f-036f-404e-b1a2-678690654f95"
      },
      "cell_type": "code",
      "source": [
        "pd.to_datetime(df.last_pymnt_d.dt.month).head()"
      ],
      "execution_count": 193,
      "outputs": [
        {
          "output_type": "execute_result",
          "data": {
            "text/plain": [
              "0   1970-01-01 00:00:00.000000002\n",
              "1   1970-01-01 00:00:00.000000002\n",
              "2   1970-01-01 00:00:00.000000002\n",
              "3   1970-01-01 00:00:00.000000002\n",
              "4   1970-01-01 00:00:00.000000002\n",
              "Name: last_pymnt_d, dtype: datetime64[ns]"
            ]
          },
          "metadata": {
            "tags": []
          },
          "execution_count": 193
        }
      ]
    },
    {
      "metadata": {
        "id": "sm7s4a4-B1ag",
        "colab_type": "text"
      },
      "cell_type": "markdown",
      "source": [
        "Whelp. Looks like I can't fix that with date time since a DT object needs a year. Without one it's just an int."
      ]
    },
    {
      "metadata": {
        "colab_type": "text",
        "id": "L8k0LiHmo5EU"
      },
      "cell_type": "markdown",
      "source": [
        "# STRETCH OPTIONS\n",
        "\n",
        "You can do more with the LendingClub or Instacart datasets.\n",
        "\n",
        "LendingClub options:\n",
        "- There's one other column in the dataframe with percent signs. Remove them and convert to floats. You'll need to handle missing values.\n",
        "- Modify the `emp_title` column to replace titles with 'Other' if the title is not in the top 20. \n",
        "- Take initiatve and work on your own ideas!\n",
        "\n",
        "Instacart options:\n",
        "- Read [Instacart Market Basket Analysis, Winner's Interview: 2nd place, Kazuki Onodera](http://blog.kaggle.com/2017/09/21/instacart-market-basket-analysis-winners-interview-2nd-place-kazuki-onodera/), especially the **Feature Engineering** section. (Can you choose one feature from his bulleted lists, and try to engineer it with pandas code?)\n",
        "- Read and replicate parts of [Simple Exploration Notebook - Instacart](https://www.kaggle.com/sudalairajkumar/simple-exploration-notebook-instacart). (It's the Python Notebook with the most upvotes for this Kaggle competition.)\n",
        "- Take initiative and work on your own ideas!"
      ]
    },
    {
      "metadata": {
        "colab_type": "text",
        "id": "0_7PXF7lpEXg"
      },
      "cell_type": "markdown",
      "source": [
        "You can uncomment and run the cells below to re-download and extract the Instacart data"
      ]
    },
    {
      "metadata": {
        "id": "Gvca6vs1CrVZ",
        "colab_type": "code",
        "colab": {}
      },
      "cell_type": "code",
      "source": [
        "# !wget https://s3.amazonaws.com/instacart-datasets/instacart_online_grocery_shopping_2017_05_01.tar.gz"
      ],
      "execution_count": 0,
      "outputs": []
    },
    {
      "metadata": {
        "id": "2iGWvP9tCrVh",
        "colab_type": "code",
        "colab": {}
      },
      "cell_type": "code",
      "source": [
        "# !tar --gunzip --extract --verbose --file=instacart_online_grocery_shopping_2017_05_01.tar.gz"
      ],
      "execution_count": 0,
      "outputs": []
    },
    {
      "metadata": {
        "id": "83m1IvJTCrVl",
        "colab_type": "code",
        "colab": {}
      },
      "cell_type": "code",
      "source": [
        "# %cd instacart_2017_05_01"
      ],
      "execution_count": 0,
      "outputs": []
    }
  ]
}