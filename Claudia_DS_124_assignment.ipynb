{
  "nbformat": 4,
  "nbformat_minor": 0,
  "metadata": {
    "colab": {
      "name": "Claudia:DS:124:assignment",
      "version": "0.3.2",
      "provenance": [],
      "collapsed_sections": [],
      "include_colab_link": true
    },
    "kernelspec": {
      "display_name": "Python 3",
      "language": "python",
      "name": "python3"
    },
    "language_info": {
      "codemirror_mode": {
        "name": "ipython",
        "version": 3
      },
      "file_extension": ".py",
      "mimetype": "text/x-python",
      "name": "python",
      "nbconvert_exporter": "python",
      "pygments_lexer": "ipython3",
      "version": "3.7.1"
    }
  },
  "cells": [
    {
      "cell_type": "markdown",
      "metadata": {
        "id": "view-in-github",
        "colab_type": "text"
      },
      "source": [
        "<a href=\"https://colab.research.google.com/github/claudiasofiaC/DS-Unit-1-Sprint-2-Data-Wrangling-and-Storytelling/blob/master/Claudia_DS_124_assignment.ipynb\" target=\"_parent\"><img src=\"https://colab.research.google.com/assets/colab-badge.svg\" alt=\"Open In Colab\"/></a>"
      ]
    },
    {
      "cell_type": "markdown",
      "metadata": {
        "colab_type": "text",
        "id": "JbDHnhet8CWy"
      },
      "source": [
        "_Lambda School Data Science_\n",
        "\n",
        "# Sequence Your Narrative - Assignment\n",
        "\n",
        "Today we will create a sequence of visualizations inspired by [Hans Rosling's 200 Countries, 200 Years, 4 Minutes](https://www.youtube.com/watch?v=jbkSRLYSojo).\n",
        "\n",
        "Using this [data from Gapminder](https://github.com/open-numbers/ddf--gapminder--systema_globalis/):\n",
        "- [Income Per Person (GDP Per Capital, Inflation Adjusted) by Geo & Time](https://raw.githubusercontent.com/open-numbers/ddf--gapminder--systema_globalis/master/ddf--datapoints--income_per_person_gdppercapita_ppp_inflation_adjusted--by--geo--time.csv)\n",
        "- [Life Expectancy (in Years) by Geo & Time](https://raw.githubusercontent.com/open-numbers/ddf--gapminder--systema_globalis/master/ddf--datapoints--life_expectancy_years--by--geo--time.csv)\n",
        "- [Population Totals, by Geo & Time](https://raw.githubusercontent.com/open-numbers/ddf--gapminder--systema_globalis/master/ddf--datapoints--population_total--by--geo--time.csv)\n",
        "- [Entities](https://raw.githubusercontent.com/open-numbers/ddf--gapminder--systema_globalis/master/ddf--entities--geo--country.csv)\n",
        "- [Concepts](https://raw.githubusercontent.com/open-numbers/ddf--gapminder--systema_globalis/master/ddf--concepts.csv)"
      ]
    },
    {
      "cell_type": "markdown",
      "metadata": {
        "colab_type": "text",
        "id": "zyPYtsY6HtIK"
      },
      "source": [
        "Objectives\n",
        "- sequence multiple visualizations\n",
        "- combine qualitative anecdotes with quantitative aggregates\n",
        "\n",
        "Links\n",
        "- [Hans Rosling’s TED talks](https://www.ted.com/speakers/hans_rosling)\n",
        "- [Spiralling global temperatures from 1850-2016](https://twitter.com/ed_hawkins/status/729753441459945474)\n",
        "- \"[The Pudding](https://pudding.cool/) explains ideas debated in culture with visual essays.\"\n",
        "- [A Data Point Walks Into a Bar](https://lisacharlotterost.github.io/2016/12/27/datapoint-in-bar/): a thoughtful blog post about emotion and empathy in data storytelling"
      ]
    },
    {
      "cell_type": "markdown",
      "metadata": {
        "colab_type": "text",
        "id": "_R1bj8aXzyVA"
      },
      "source": [
        "# ASSIGNMENT\n",
        " \n",
        "\n",
        "1.   Replicate the Lesson Code\n",
        "2.   Take it further by using the same gapminder dataset to create a sequence of visualizations that combined tell a story of your choosing.\n",
        "\n",
        "Get creative! Use text annotations to call out specific countries, maybe: change how the points are colored, change the opacity of the points, change their sized, pick a specific time window. Maybe only work with a subset of countries, change fonts, change background colors, etc. make it your own!"
      ]
    },
    {
      "cell_type": "code",
      "metadata": {
        "id": "gBE_yQRk3pYZ",
        "colab_type": "code",
        "colab": {
          "base_uri": "https://localhost:8080/",
          "height": 241
        },
        "outputId": "8b7af489-ddda-4cd1-b6ed-38a128d78617"
      },
      "source": [
        "# TODO\n",
        "\n",
        "!pip install --upgrade seaborn"
      ],
      "execution_count": 1,
      "outputs": [
        {
          "output_type": "stream",
          "text": [
            "Requirement already up-to-date: seaborn in /usr/local/lib/python3.6/dist-packages (0.9.0)\n",
            "Requirement already satisfied, skipping upgrade: scipy>=0.14.0 in /usr/local/lib/python3.6/dist-packages (from seaborn) (1.3.1)\n",
            "Requirement already satisfied, skipping upgrade: numpy>=1.9.3 in /usr/local/lib/python3.6/dist-packages (from seaborn) (1.16.5)\n",
            "Requirement already satisfied, skipping upgrade: matplotlib>=1.4.3 in /usr/local/lib/python3.6/dist-packages (from seaborn) (3.0.3)\n",
            "Requirement already satisfied, skipping upgrade: pandas>=0.15.2 in /usr/local/lib/python3.6/dist-packages (from seaborn) (0.24.2)\n",
            "Requirement already satisfied, skipping upgrade: python-dateutil>=2.1 in /usr/local/lib/python3.6/dist-packages (from matplotlib>=1.4.3->seaborn) (2.5.3)\n",
            "Requirement already satisfied, skipping upgrade: pyparsing!=2.0.4,!=2.1.2,!=2.1.6,>=2.0.1 in /usr/local/lib/python3.6/dist-packages (from matplotlib>=1.4.3->seaborn) (2.4.2)\n",
            "Requirement already satisfied, skipping upgrade: kiwisolver>=1.0.1 in /usr/local/lib/python3.6/dist-packages (from matplotlib>=1.4.3->seaborn) (1.1.0)\n",
            "Requirement already satisfied, skipping upgrade: cycler>=0.10 in /usr/local/lib/python3.6/dist-packages (from matplotlib>=1.4.3->seaborn) (0.10.0)\n",
            "Requirement already satisfied, skipping upgrade: pytz>=2011k in /usr/local/lib/python3.6/dist-packages (from pandas>=0.15.2->seaborn) (2018.9)\n",
            "Requirement already satisfied, skipping upgrade: six>=1.5 in /usr/local/lib/python3.6/dist-packages (from python-dateutil>=2.1->matplotlib>=1.4.3->seaborn) (1.12.0)\n",
            "Requirement already satisfied, skipping upgrade: setuptools in /usr/local/lib/python3.6/dist-packages (from kiwisolver>=1.0.1->matplotlib>=1.4.3->seaborn) (41.2.0)\n"
          ],
          "name": "stdout"
        }
      ]
    },
    {
      "cell_type": "code",
      "metadata": {
        "id": "lYWGzB2f6bMl",
        "colab_type": "code",
        "colab": {
          "base_uri": "https://localhost:8080/",
          "height": 34
        },
        "outputId": "ef8ff59a-f134-4069-e0ad-a8b1fb92983d"
      },
      "source": [
        "import seaborn as sns\n",
        "sns.__version__"
      ],
      "execution_count": 2,
      "outputs": [
        {
          "output_type": "execute_result",
          "data": {
            "text/plain": [
              "'0.9.0'"
            ]
          },
          "metadata": {
            "tags": []
          },
          "execution_count": 2
        }
      ]
    },
    {
      "cell_type": "code",
      "metadata": {
        "id": "11n1qMKA6bPP",
        "colab_type": "code",
        "colab": {}
      },
      "source": [
        "%matplotlib inline\n",
        "import matplotlib.pyplot as plt\n",
        "import numpy as np\n",
        "import pandas as pd\n"
      ],
      "execution_count": 0,
      "outputs": []
    },
    {
      "cell_type": "code",
      "metadata": {
        "id": "d3m2850a6bRl",
        "colab_type": "code",
        "colab": {}
      },
      "source": [
        "income = pd.read_csv('https://raw.githubusercontent.com/open-numbers/ddf--gapminder--systema_globalis/master/ddf--datapoints--income_per_person_gdppercapita_ppp_inflation_adjusted--by--geo--time.csv')"
      ],
      "execution_count": 0,
      "outputs": []
    },
    {
      "cell_type": "code",
      "metadata": {
        "id": "ty9Xdwyz6bTU",
        "colab_type": "code",
        "colab": {}
      },
      "source": [
        "lifespan = pd.read_csv('https://raw.githubusercontent.com/open-numbers/ddf--gapminder--systema_globalis/master/ddf--datapoints--life_expectancy_years--by--geo--time.csv')"
      ],
      "execution_count": 0,
      "outputs": []
    },
    {
      "cell_type": "code",
      "metadata": {
        "id": "R7GU4Ckh6bXc",
        "colab_type": "code",
        "colab": {}
      },
      "source": [
        "population = pd.read_csv('https://raw.githubusercontent.com/open-numbers/ddf--gapminder--systema_globalis/master/ddf--datapoints--population_total--by--geo--time.csv')"
      ],
      "execution_count": 0,
      "outputs": []
    },
    {
      "cell_type": "code",
      "metadata": {
        "id": "DqEblnQ-6bZl",
        "colab_type": "code",
        "colab": {}
      },
      "source": [
        "entities = pd.read_csv('https://raw.githubusercontent.com/open-numbers/ddf--gapminder--systema_globalis/master/ddf--entities--geo--country.csv')"
      ],
      "execution_count": 0,
      "outputs": []
    },
    {
      "cell_type": "code",
      "metadata": {
        "id": "LAYQuP3i6bbs",
        "colab_type": "code",
        "colab": {}
      },
      "source": [
        "concepts = pd.read_csv('https://raw.githubusercontent.com/open-numbers/ddf--gapminder--systema_globalis/master/ddf--concepts.csv')"
      ],
      "execution_count": 0,
      "outputs": []
    },
    {
      "cell_type": "code",
      "metadata": {
        "id": "w4hzu7106beH",
        "colab_type": "code",
        "colab": {
          "base_uri": "https://localhost:8080/",
          "height": 34
        },
        "outputId": "3f22025c-8368-4ff3-b0f1-ec753a2a7a9a"
      },
      "source": [
        "income.shape, lifespan.shape, population.shape, entities.shape, concepts.shape"
      ],
      "execution_count": 10,
      "outputs": [
        {
          "output_type": "execute_result",
          "data": {
            "text/plain": [
              "((46513, 3), (44370, 3), (59297, 3), (273, 33), (590, 16))"
            ]
          },
          "metadata": {
            "tags": []
          },
          "execution_count": 10
        }
      ]
    },
    {
      "cell_type": "code",
      "metadata": {
        "id": "M2LUqzF96bgX",
        "colab_type": "code",
        "colab": {
          "base_uri": "https://localhost:8080/",
          "height": 204
        },
        "outputId": "31f78b70-af43-4abf-83f9-56dc727bfb1c"
      },
      "source": [
        "income.head()"
      ],
      "execution_count": 11,
      "outputs": [
        {
          "output_type": "execute_result",
          "data": {
            "text/html": [
              "<div>\n",
              "<style scoped>\n",
              "    .dataframe tbody tr th:only-of-type {\n",
              "        vertical-align: middle;\n",
              "    }\n",
              "\n",
              "    .dataframe tbody tr th {\n",
              "        vertical-align: top;\n",
              "    }\n",
              "\n",
              "    .dataframe thead th {\n",
              "        text-align: right;\n",
              "    }\n",
              "</style>\n",
              "<table border=\"1\" class=\"dataframe\">\n",
              "  <thead>\n",
              "    <tr style=\"text-align: right;\">\n",
              "      <th></th>\n",
              "      <th>geo</th>\n",
              "      <th>time</th>\n",
              "      <th>income_per_person_gdppercapita_ppp_inflation_adjusted</th>\n",
              "    </tr>\n",
              "  </thead>\n",
              "  <tbody>\n",
              "    <tr>\n",
              "      <th>0</th>\n",
              "      <td>afg</td>\n",
              "      <td>1800</td>\n",
              "      <td>603</td>\n",
              "    </tr>\n",
              "    <tr>\n",
              "      <th>1</th>\n",
              "      <td>afg</td>\n",
              "      <td>1801</td>\n",
              "      <td>603</td>\n",
              "    </tr>\n",
              "    <tr>\n",
              "      <th>2</th>\n",
              "      <td>afg</td>\n",
              "      <td>1802</td>\n",
              "      <td>603</td>\n",
              "    </tr>\n",
              "    <tr>\n",
              "      <th>3</th>\n",
              "      <td>afg</td>\n",
              "      <td>1803</td>\n",
              "      <td>603</td>\n",
              "    </tr>\n",
              "    <tr>\n",
              "      <th>4</th>\n",
              "      <td>afg</td>\n",
              "      <td>1804</td>\n",
              "      <td>603</td>\n",
              "    </tr>\n",
              "  </tbody>\n",
              "</table>\n",
              "</div>"
            ],
            "text/plain": [
              "   geo  time  income_per_person_gdppercapita_ppp_inflation_adjusted\n",
              "0  afg  1800                                                603    \n",
              "1  afg  1801                                                603    \n",
              "2  afg  1802                                                603    \n",
              "3  afg  1803                                                603    \n",
              "4  afg  1804                                                603    "
            ]
          },
          "metadata": {
            "tags": []
          },
          "execution_count": 11
        }
      ]
    },
    {
      "cell_type": "code",
      "metadata": {
        "id": "3_W3FyBU6biy",
        "colab_type": "code",
        "colab": {
          "base_uri": "https://localhost:8080/",
          "height": 204
        },
        "outputId": "ca9ce14f-5f5e-4d80-f344-1971e8910dcb"
      },
      "source": [
        "lifespan.head()"
      ],
      "execution_count": 12,
      "outputs": [
        {
          "output_type": "execute_result",
          "data": {
            "text/html": [
              "<div>\n",
              "<style scoped>\n",
              "    .dataframe tbody tr th:only-of-type {\n",
              "        vertical-align: middle;\n",
              "    }\n",
              "\n",
              "    .dataframe tbody tr th {\n",
              "        vertical-align: top;\n",
              "    }\n",
              "\n",
              "    .dataframe thead th {\n",
              "        text-align: right;\n",
              "    }\n",
              "</style>\n",
              "<table border=\"1\" class=\"dataframe\">\n",
              "  <thead>\n",
              "    <tr style=\"text-align: right;\">\n",
              "      <th></th>\n",
              "      <th>geo</th>\n",
              "      <th>time</th>\n",
              "      <th>life_expectancy_years</th>\n",
              "    </tr>\n",
              "  </thead>\n",
              "  <tbody>\n",
              "    <tr>\n",
              "      <th>0</th>\n",
              "      <td>abw</td>\n",
              "      <td>1800</td>\n",
              "      <td>34.42</td>\n",
              "    </tr>\n",
              "    <tr>\n",
              "      <th>1</th>\n",
              "      <td>abw</td>\n",
              "      <td>1801</td>\n",
              "      <td>34.42</td>\n",
              "    </tr>\n",
              "    <tr>\n",
              "      <th>2</th>\n",
              "      <td>abw</td>\n",
              "      <td>1802</td>\n",
              "      <td>34.42</td>\n",
              "    </tr>\n",
              "    <tr>\n",
              "      <th>3</th>\n",
              "      <td>abw</td>\n",
              "      <td>1803</td>\n",
              "      <td>34.42</td>\n",
              "    </tr>\n",
              "    <tr>\n",
              "      <th>4</th>\n",
              "      <td>abw</td>\n",
              "      <td>1804</td>\n",
              "      <td>34.42</td>\n",
              "    </tr>\n",
              "  </tbody>\n",
              "</table>\n",
              "</div>"
            ],
            "text/plain": [
              "   geo  time  life_expectancy_years\n",
              "0  abw  1800                  34.42\n",
              "1  abw  1801                  34.42\n",
              "2  abw  1802                  34.42\n",
              "3  abw  1803                  34.42\n",
              "4  abw  1804                  34.42"
            ]
          },
          "metadata": {
            "tags": []
          },
          "execution_count": 12
        }
      ]
    },
    {
      "cell_type": "code",
      "metadata": {
        "id": "qcvRqJnv6bk4",
        "colab_type": "code",
        "colab": {
          "base_uri": "https://localhost:8080/",
          "height": 204
        },
        "outputId": "607dde27-6624-4d4b-888f-9156311c6aaf"
      },
      "source": [
        "population.head()"
      ],
      "execution_count": 13,
      "outputs": [
        {
          "output_type": "execute_result",
          "data": {
            "text/html": [
              "<div>\n",
              "<style scoped>\n",
              "    .dataframe tbody tr th:only-of-type {\n",
              "        vertical-align: middle;\n",
              "    }\n",
              "\n",
              "    .dataframe tbody tr th {\n",
              "        vertical-align: top;\n",
              "    }\n",
              "\n",
              "    .dataframe thead th {\n",
              "        text-align: right;\n",
              "    }\n",
              "</style>\n",
              "<table border=\"1\" class=\"dataframe\">\n",
              "  <thead>\n",
              "    <tr style=\"text-align: right;\">\n",
              "      <th></th>\n",
              "      <th>geo</th>\n",
              "      <th>time</th>\n",
              "      <th>population_total</th>\n",
              "    </tr>\n",
              "  </thead>\n",
              "  <tbody>\n",
              "    <tr>\n",
              "      <th>0</th>\n",
              "      <td>afg</td>\n",
              "      <td>1800</td>\n",
              "      <td>3280000</td>\n",
              "    </tr>\n",
              "    <tr>\n",
              "      <th>1</th>\n",
              "      <td>afg</td>\n",
              "      <td>1801</td>\n",
              "      <td>3280000</td>\n",
              "    </tr>\n",
              "    <tr>\n",
              "      <th>2</th>\n",
              "      <td>afg</td>\n",
              "      <td>1802</td>\n",
              "      <td>3280000</td>\n",
              "    </tr>\n",
              "    <tr>\n",
              "      <th>3</th>\n",
              "      <td>afg</td>\n",
              "      <td>1803</td>\n",
              "      <td>3280000</td>\n",
              "    </tr>\n",
              "    <tr>\n",
              "      <th>4</th>\n",
              "      <td>afg</td>\n",
              "      <td>1804</td>\n",
              "      <td>3280000</td>\n",
              "    </tr>\n",
              "  </tbody>\n",
              "</table>\n",
              "</div>"
            ],
            "text/plain": [
              "   geo  time  population_total\n",
              "0  afg  1800           3280000\n",
              "1  afg  1801           3280000\n",
              "2  afg  1802           3280000\n",
              "3  afg  1803           3280000\n",
              "4  afg  1804           3280000"
            ]
          },
          "metadata": {
            "tags": []
          },
          "execution_count": 13
        }
      ]
    },
    {
      "cell_type": "code",
      "metadata": {
        "id": "Uvhedv_p6bm_",
        "colab_type": "code",
        "colab": {}
      },
      "source": [
        "pd.options.display.max_columns = 500\n",
        "entities.head(100)\n",
        "\n",
        "#need country column"
      ],
      "execution_count": 0,
      "outputs": []
    },
    {
      "cell_type": "code",
      "metadata": {
        "id": "1Il5HFDb6bpL",
        "colab_type": "code",
        "colab": {
          "base_uri": "https://localhost:8080/",
          "height": 513
        },
        "outputId": "ff2f47fc-25e9-4674-954d-156033d1187b"
      },
      "source": [
        "concepts.head() #dont need it"
      ],
      "execution_count": 53,
      "outputs": [
        {
          "output_type": "execute_result",
          "data": {
            "text/html": [
              "<div>\n",
              "<style scoped>\n",
              "    .dataframe tbody tr th:only-of-type {\n",
              "        vertical-align: middle;\n",
              "    }\n",
              "\n",
              "    .dataframe tbody tr th {\n",
              "        vertical-align: top;\n",
              "    }\n",
              "\n",
              "    .dataframe thead th {\n",
              "        text-align: right;\n",
              "    }\n",
              "</style>\n",
              "<table border=\"1\" class=\"dataframe\">\n",
              "  <thead>\n",
              "    <tr style=\"text-align: right;\">\n",
              "      <th></th>\n",
              "      <th>concept</th>\n",
              "      <th>color</th>\n",
              "      <th>concept_type</th>\n",
              "      <th>description</th>\n",
              "      <th>description_long</th>\n",
              "      <th>domain</th>\n",
              "      <th>drill_up</th>\n",
              "      <th>indicator_url</th>\n",
              "      <th>name</th>\n",
              "      <th>name_catalog</th>\n",
              "      <th>name_short</th>\n",
              "      <th>scales</th>\n",
              "      <th>source</th>\n",
              "      <th>source_long</th>\n",
              "      <th>source_url</th>\n",
              "      <th>tags</th>\n",
              "    </tr>\n",
              "  </thead>\n",
              "  <tbody>\n",
              "    <tr>\n",
              "      <th>0</th>\n",
              "      <td>adults_with_hiv_percent_age_15_49</td>\n",
              "      <td>NaN</td>\n",
              "      <td>measure</td>\n",
              "      <td>The estimated percentage of adults aged 15 to ...</td>\n",
              "      <td>NaN</td>\n",
              "      <td>NaN</td>\n",
              "      <td>NaN</td>\n",
              "      <td>NaN</td>\n",
              "      <td>Adults with HIV (%, age 15-49)</td>\n",
              "      <td>Adults with HIV (%, age 15-49)</td>\n",
              "      <td>Adults with HIV</td>\n",
              "      <td>[\"log\", \"linear\"]</td>\n",
              "      <td>NaN</td>\n",
              "      <td>NaN</td>\n",
              "      <td>https://www.gapminder.org/gapminder-world/docu...</td>\n",
              "      <td>hiv</td>\n",
              "    </tr>\n",
              "    <tr>\n",
              "      <th>1</th>\n",
              "      <td>age_at_1st_marriage_women</td>\n",
              "      <td>NaN</td>\n",
              "      <td>measure</td>\n",
              "      <td>The mean age, in years, of first marriage for ...</td>\n",
              "      <td>NaN</td>\n",
              "      <td>NaN</td>\n",
              "      <td>NaN</td>\n",
              "      <td>NaN</td>\n",
              "      <td>Age at 1st marriage (women)</td>\n",
              "      <td>Age at 1st marriage (women)</td>\n",
              "      <td>Age at 1st marriage</td>\n",
              "      <td>[\"linear\", \"log\"]</td>\n",
              "      <td>NaN</td>\n",
              "      <td>NaN</td>\n",
              "      <td>https://www.gapminder.org/data/documentation/g...</td>\n",
              "      <td>population</td>\n",
              "    </tr>\n",
              "    <tr>\n",
              "      <th>2</th>\n",
              "      <td>aged_15_24_employment_rate_percent</td>\n",
              "      <td>NaN</td>\n",
              "      <td>measure</td>\n",
              "      <td>Percentage of total population, age group 15-2...</td>\n",
              "      <td>NaN</td>\n",
              "      <td>NaN</td>\n",
              "      <td>NaN</td>\n",
              "      <td>NaN</td>\n",
              "      <td>Aged 15-24 employment rate (%)</td>\n",
              "      <td>Aged 15-24</td>\n",
              "      <td>Employment rate (%)</td>\n",
              "      <td>[\"linear\", \"log\"]</td>\n",
              "      <td>NaN</td>\n",
              "      <td>NaN</td>\n",
              "      <td>https://www.ilo.org/ilostat/</td>\n",
              "      <td>employment_rate</td>\n",
              "    </tr>\n",
              "    <tr>\n",
              "      <th>3</th>\n",
              "      <td>aged_15_24_unemployment_rate_percent</td>\n",
              "      <td>NaN</td>\n",
              "      <td>measure</td>\n",
              "      <td>Percentage of total population, age group 15-2...</td>\n",
              "      <td>NaN</td>\n",
              "      <td>NaN</td>\n",
              "      <td>NaN</td>\n",
              "      <td>NaN</td>\n",
              "      <td>Aged 15-24 unemployment rate (%)</td>\n",
              "      <td>Aged 15-24</td>\n",
              "      <td>Unemployment rate (%)</td>\n",
              "      <td>[\"linear\", \"log\"]</td>\n",
              "      <td>NaN</td>\n",
              "      <td>NaN</td>\n",
              "      <td>https://www.ilo.org/ilostat/</td>\n",
              "      <td>unemployment</td>\n",
              "    </tr>\n",
              "    <tr>\n",
              "      <th>4</th>\n",
              "      <td>aged_15_64_labour_force_participation_rate_per...</td>\n",
              "      <td>NaN</td>\n",
              "      <td>measure</td>\n",
              "      <td>For age group 15-64, percentage of all labour ...</td>\n",
              "      <td>NaN</td>\n",
              "      <td>NaN</td>\n",
              "      <td>NaN</td>\n",
              "      <td>NaN</td>\n",
              "      <td>Aged 15-64 labour force participation rate (%)</td>\n",
              "      <td>Aged 15-64</td>\n",
              "      <td>Labour force participation rate (%)</td>\n",
              "      <td>[\"linear\", \"log\"]</td>\n",
              "      <td>NaN</td>\n",
              "      <td>NaN</td>\n",
              "      <td>https://www.ilo.org/ilostat/</td>\n",
              "      <td>labour_force_participation</td>\n",
              "    </tr>\n",
              "  </tbody>\n",
              "</table>\n",
              "</div>"
            ],
            "text/plain": [
              "                                             concept color concept_type  \\\n",
              "0                  adults_with_hiv_percent_age_15_49   NaN      measure   \n",
              "1                          age_at_1st_marriage_women   NaN      measure   \n",
              "2                 aged_15_24_employment_rate_percent   NaN      measure   \n",
              "3               aged_15_24_unemployment_rate_percent   NaN      measure   \n",
              "4  aged_15_64_labour_force_participation_rate_per...   NaN      measure   \n",
              "\n",
              "                                         description description_long domain  \\\n",
              "0  The estimated percentage of adults aged 15 to ...              NaN    NaN   \n",
              "1  The mean age, in years, of first marriage for ...              NaN    NaN   \n",
              "2  Percentage of total population, age group 15-2...              NaN    NaN   \n",
              "3  Percentage of total population, age group 15-2...              NaN    NaN   \n",
              "4  For age group 15-64, percentage of all labour ...              NaN    NaN   \n",
              "\n",
              "  drill_up indicator_url                                            name  \\\n",
              "0      NaN           NaN                  Adults with HIV (%, age 15-49)   \n",
              "1      NaN           NaN                     Age at 1st marriage (women)   \n",
              "2      NaN           NaN                  Aged 15-24 employment rate (%)   \n",
              "3      NaN           NaN                Aged 15-24 unemployment rate (%)   \n",
              "4      NaN           NaN  Aged 15-64 labour force participation rate (%)   \n",
              "\n",
              "                     name_catalog                           name_short  \\\n",
              "0  Adults with HIV (%, age 15-49)                      Adults with HIV   \n",
              "1     Age at 1st marriage (women)                  Age at 1st marriage   \n",
              "2                      Aged 15-24                  Employment rate (%)   \n",
              "3                      Aged 15-24                Unemployment rate (%)   \n",
              "4                      Aged 15-64  Labour force participation rate (%)   \n",
              "\n",
              "              scales source source_long  \\\n",
              "0  [\"log\", \"linear\"]    NaN         NaN   \n",
              "1  [\"linear\", \"log\"]    NaN         NaN   \n",
              "2  [\"linear\", \"log\"]    NaN         NaN   \n",
              "3  [\"linear\", \"log\"]    NaN         NaN   \n",
              "4  [\"linear\", \"log\"]    NaN         NaN   \n",
              "\n",
              "                                          source_url  \\\n",
              "0  https://www.gapminder.org/gapminder-world/docu...   \n",
              "1  https://www.gapminder.org/data/documentation/g...   \n",
              "2                       https://www.ilo.org/ilostat/   \n",
              "3                       https://www.ilo.org/ilostat/   \n",
              "4                       https://www.ilo.org/ilostat/   \n",
              "\n",
              "                         tags  \n",
              "0                         hiv  \n",
              "1                  population  \n",
              "2             employment_rate  \n",
              "3                unemployment  \n",
              "4  labour_force_participation  "
            ]
          },
          "metadata": {
            "tags": []
          },
          "execution_count": 53
        }
      ]
    },
    {
      "cell_type": "code",
      "metadata": {
        "id": "YdkPmSvU71GZ",
        "colab_type": "code",
        "colab": {
          "base_uri": "https://localhost:8080/",
          "height": 51
        },
        "outputId": "222c2a8f-1d01-473d-d07a-a5fdfbde924d"
      },
      "source": [
        "#merge \n",
        "print(income.shape)\n",
        "print(lifespan.shape)"
      ],
      "execution_count": 16,
      "outputs": [
        {
          "output_type": "stream",
          "text": [
            "(46513, 3)\n",
            "(44370, 3)\n"
          ],
          "name": "stdout"
        }
      ]
    },
    {
      "cell_type": "code",
      "metadata": {
        "id": "e6lSSJUw71KL",
        "colab_type": "code",
        "colab": {
          "base_uri": "https://localhost:8080/",
          "height": 34
        },
        "outputId": "ab03e687-83d0-4c91-8a4e-7eaab2ae81df"
      },
      "source": [
        "merged = pd.merge(income, lifespan, how='inner', on=['geo', 'time'])\n",
        "    \n",
        "\n",
        "\n",
        "merged.shape"
      ],
      "execution_count": 43,
      "outputs": [
        {
          "output_type": "execute_result",
          "data": {
            "text/plain": [
              "(40437, 4)"
            ]
          },
          "metadata": {
            "tags": []
          },
          "execution_count": 43
        }
      ]
    },
    {
      "cell_type": "code",
      "metadata": {
        "id": "Th2GvFNiL8BV",
        "colab_type": "code",
        "colab": {
          "base_uri": "https://localhost:8080/",
          "height": 34
        },
        "outputId": "fc82566d-e2ef-40cb-9c10-0369002e50c5"
      },
      "source": [
        "merged = pd.merge(income, lifespan)\n",
        "merged = pd.merge(income, lifespan, how='outer', on=['geo', 'time'])\n",
        "\n",
        "merged.shape"
      ],
      "execution_count": 25,
      "outputs": [
        {
          "output_type": "execute_result",
          "data": {
            "text/plain": [
              "(50446, 4)"
            ]
          },
          "metadata": {
            "tags": []
          },
          "execution_count": 25
        }
      ]
    },
    {
      "cell_type": "code",
      "metadata": {
        "id": "SFESocdpL8cO",
        "colab_type": "code",
        "colab": {
          "base_uri": "https://localhost:8080/",
          "height": 221
        },
        "outputId": "bddd94c0-ead1-40be-cc1f-a29ef6189e46"
      },
      "source": [
        "merged = pd.merge(income, lifespan, how='left', on=['geo', 'time'])\n",
        "\n",
        "print(merged.shape)\n",
        "merged.head()\n"
      ],
      "execution_count": 39,
      "outputs": [
        {
          "output_type": "stream",
          "text": [
            "(46513, 4)\n"
          ],
          "name": "stdout"
        },
        {
          "output_type": "execute_result",
          "data": {
            "text/html": [
              "<div>\n",
              "<style scoped>\n",
              "    .dataframe tbody tr th:only-of-type {\n",
              "        vertical-align: middle;\n",
              "    }\n",
              "\n",
              "    .dataframe tbody tr th {\n",
              "        vertical-align: top;\n",
              "    }\n",
              "\n",
              "    .dataframe thead th {\n",
              "        text-align: right;\n",
              "    }\n",
              "</style>\n",
              "<table border=\"1\" class=\"dataframe\">\n",
              "  <thead>\n",
              "    <tr style=\"text-align: right;\">\n",
              "      <th></th>\n",
              "      <th>geo</th>\n",
              "      <th>time</th>\n",
              "      <th>income_per_person_gdppercapita_ppp_inflation_adjusted</th>\n",
              "      <th>life_expectancy_years</th>\n",
              "    </tr>\n",
              "  </thead>\n",
              "  <tbody>\n",
              "    <tr>\n",
              "      <th>0</th>\n",
              "      <td>afg</td>\n",
              "      <td>1800</td>\n",
              "      <td>603</td>\n",
              "      <td>28.21</td>\n",
              "    </tr>\n",
              "    <tr>\n",
              "      <th>1</th>\n",
              "      <td>afg</td>\n",
              "      <td>1801</td>\n",
              "      <td>603</td>\n",
              "      <td>28.20</td>\n",
              "    </tr>\n",
              "    <tr>\n",
              "      <th>2</th>\n",
              "      <td>afg</td>\n",
              "      <td>1802</td>\n",
              "      <td>603</td>\n",
              "      <td>28.19</td>\n",
              "    </tr>\n",
              "    <tr>\n",
              "      <th>3</th>\n",
              "      <td>afg</td>\n",
              "      <td>1803</td>\n",
              "      <td>603</td>\n",
              "      <td>28.18</td>\n",
              "    </tr>\n",
              "    <tr>\n",
              "      <th>4</th>\n",
              "      <td>afg</td>\n",
              "      <td>1804</td>\n",
              "      <td>603</td>\n",
              "      <td>28.17</td>\n",
              "    </tr>\n",
              "  </tbody>\n",
              "</table>\n",
              "</div>"
            ],
            "text/plain": [
              "   geo  time  income_per_person_gdppercapita_ppp_inflation_adjusted  \\\n",
              "0  afg  1800                                                603       \n",
              "1  afg  1801                                                603       \n",
              "2  afg  1802                                                603       \n",
              "3  afg  1803                                                603       \n",
              "4  afg  1804                                                603       \n",
              "\n",
              "   life_expectancy_years  \n",
              "0                  28.21  \n",
              "1                  28.20  \n",
              "2                  28.19  \n",
              "3                  28.18  \n",
              "4                  28.17  "
            ]
          },
          "metadata": {
            "tags": []
          },
          "execution_count": 39
        }
      ]
    },
    {
      "cell_type": "code",
      "metadata": {
        "id": "z6i6JippL8er",
        "colab_type": "code",
        "colab": {
          "base_uri": "https://localhost:8080/",
          "height": 51
        },
        "outputId": "980f1e9a-1de8-4de8-a355-67ec9857e7e8"
      },
      "source": [
        "#check for dups\n",
        "\n",
        "merged.duplicated(subset=['geo', 'time']).value_counts()"
      ],
      "execution_count": 32,
      "outputs": [
        {
          "output_type": "execute_result",
          "data": {
            "text/plain": [
              "False    46513\n",
              "dtype: int64"
            ]
          },
          "metadata": {
            "tags": []
          },
          "execution_count": 32
        }
      ]
    },
    {
      "cell_type": "code",
      "metadata": {
        "id": "EuLYXyuAL8hU",
        "colab_type": "code",
        "colab": {
          "base_uri": "https://localhost:8080/",
          "height": 34
        },
        "outputId": "a100f596-52ac-44a1-ac22-7a079cda40bf"
      },
      "source": [
        "#count unique vals\n",
        "\n",
        "merged['geo'].nunique()"
      ],
      "execution_count": 33,
      "outputs": [
        {
          "output_type": "execute_result",
          "data": {
            "text/plain": [
              "193"
            ]
          },
          "metadata": {
            "tags": []
          },
          "execution_count": 33
        }
      ]
    },
    {
      "cell_type": "code",
      "metadata": {
        "id": "DurezAsz71Mj",
        "colab_type": "code",
        "colab": {
          "base_uri": "https://localhost:8080/",
          "height": 34
        },
        "outputId": "a38a7ae5-bbba-406e-97fb-4de5d5d88c1a"
      },
      "source": [
        "merged = pd.merge(income, lifespan, how='outer', on=['geo', 'time'])\n",
        "\n",
        "merged.shape"
      ],
      "execution_count": 34,
      "outputs": [
        {
          "output_type": "execute_result",
          "data": {
            "text/plain": [
              "(50446, 4)"
            ]
          },
          "metadata": {
            "tags": []
          },
          "execution_count": 34
        }
      ]
    },
    {
      "cell_type": "code",
      "metadata": {
        "id": "9qyQsUDD71Oi",
        "colab_type": "code",
        "colab": {
          "base_uri": "https://localhost:8080/",
          "height": 221
        },
        "outputId": "066a3ac9-eef3-47c0-a2be-fd28bf8bf6db"
      },
      "source": [
        "df = pd.merge(merged, population)\n",
        "\n",
        "print(df.shape)\n",
        "\n",
        "df.head()"
      ],
      "execution_count": 44,
      "outputs": [
        {
          "output_type": "stream",
          "text": [
            "(40437, 5)\n"
          ],
          "name": "stdout"
        },
        {
          "output_type": "execute_result",
          "data": {
            "text/html": [
              "<div>\n",
              "<style scoped>\n",
              "    .dataframe tbody tr th:only-of-type {\n",
              "        vertical-align: middle;\n",
              "    }\n",
              "\n",
              "    .dataframe tbody tr th {\n",
              "        vertical-align: top;\n",
              "    }\n",
              "\n",
              "    .dataframe thead th {\n",
              "        text-align: right;\n",
              "    }\n",
              "</style>\n",
              "<table border=\"1\" class=\"dataframe\">\n",
              "  <thead>\n",
              "    <tr style=\"text-align: right;\">\n",
              "      <th></th>\n",
              "      <th>geo</th>\n",
              "      <th>time</th>\n",
              "      <th>income_per_person_gdppercapita_ppp_inflation_adjusted</th>\n",
              "      <th>life_expectancy_years</th>\n",
              "      <th>population_total</th>\n",
              "    </tr>\n",
              "  </thead>\n",
              "  <tbody>\n",
              "    <tr>\n",
              "      <th>0</th>\n",
              "      <td>afg</td>\n",
              "      <td>1800</td>\n",
              "      <td>603</td>\n",
              "      <td>28.21</td>\n",
              "      <td>3280000</td>\n",
              "    </tr>\n",
              "    <tr>\n",
              "      <th>1</th>\n",
              "      <td>afg</td>\n",
              "      <td>1801</td>\n",
              "      <td>603</td>\n",
              "      <td>28.20</td>\n",
              "      <td>3280000</td>\n",
              "    </tr>\n",
              "    <tr>\n",
              "      <th>2</th>\n",
              "      <td>afg</td>\n",
              "      <td>1802</td>\n",
              "      <td>603</td>\n",
              "      <td>28.19</td>\n",
              "      <td>3280000</td>\n",
              "    </tr>\n",
              "    <tr>\n",
              "      <th>3</th>\n",
              "      <td>afg</td>\n",
              "      <td>1803</td>\n",
              "      <td>603</td>\n",
              "      <td>28.18</td>\n",
              "      <td>3280000</td>\n",
              "    </tr>\n",
              "    <tr>\n",
              "      <th>4</th>\n",
              "      <td>afg</td>\n",
              "      <td>1804</td>\n",
              "      <td>603</td>\n",
              "      <td>28.17</td>\n",
              "      <td>3280000</td>\n",
              "    </tr>\n",
              "  </tbody>\n",
              "</table>\n",
              "</div>"
            ],
            "text/plain": [
              "   geo  time  income_per_person_gdppercapita_ppp_inflation_adjusted  \\\n",
              "0  afg  1800                                                603       \n",
              "1  afg  1801                                                603       \n",
              "2  afg  1802                                                603       \n",
              "3  afg  1803                                                603       \n",
              "4  afg  1804                                                603       \n",
              "\n",
              "   life_expectancy_years  population_total  \n",
              "0                  28.21           3280000  \n",
              "1                  28.20           3280000  \n",
              "2                  28.19           3280000  \n",
              "3                  28.18           3280000  \n",
              "4                  28.17           3280000  "
            ]
          },
          "metadata": {
            "tags": []
          },
          "execution_count": 44
        }
      ]
    },
    {
      "cell_type": "code",
      "metadata": {
        "id": "xGU4utkX71Qp",
        "colab_type": "code",
        "colab": {
          "base_uri": "https://localhost:8080/",
          "height": 241
        },
        "outputId": "8b788645-0b73-468f-8db6-f974ea7bc982"
      },
      "source": [
        "df = pd.merge(df, \n",
        "           entities[['country', 'name', 'world_4region', 'world_6region']],\n",
        "           left_on='geo', right_on='country')\n",
        "\n",
        "print(df.shape)\n",
        "df.head()"
      ],
      "execution_count": 45,
      "outputs": [
        {
          "output_type": "stream",
          "text": [
            "(40437, 9)\n"
          ],
          "name": "stdout"
        },
        {
          "output_type": "execute_result",
          "data": {
            "text/html": [
              "<div>\n",
              "<style scoped>\n",
              "    .dataframe tbody tr th:only-of-type {\n",
              "        vertical-align: middle;\n",
              "    }\n",
              "\n",
              "    .dataframe tbody tr th {\n",
              "        vertical-align: top;\n",
              "    }\n",
              "\n",
              "    .dataframe thead th {\n",
              "        text-align: right;\n",
              "    }\n",
              "</style>\n",
              "<table border=\"1\" class=\"dataframe\">\n",
              "  <thead>\n",
              "    <tr style=\"text-align: right;\">\n",
              "      <th></th>\n",
              "      <th>geo</th>\n",
              "      <th>time</th>\n",
              "      <th>income_per_person_gdppercapita_ppp_inflation_adjusted</th>\n",
              "      <th>life_expectancy_years</th>\n",
              "      <th>population_total</th>\n",
              "      <th>country</th>\n",
              "      <th>name</th>\n",
              "      <th>world_4region</th>\n",
              "      <th>world_6region</th>\n",
              "    </tr>\n",
              "  </thead>\n",
              "  <tbody>\n",
              "    <tr>\n",
              "      <th>0</th>\n",
              "      <td>afg</td>\n",
              "      <td>1800</td>\n",
              "      <td>603</td>\n",
              "      <td>28.21</td>\n",
              "      <td>3280000</td>\n",
              "      <td>afg</td>\n",
              "      <td>Afghanistan</td>\n",
              "      <td>asia</td>\n",
              "      <td>south_asia</td>\n",
              "    </tr>\n",
              "    <tr>\n",
              "      <th>1</th>\n",
              "      <td>afg</td>\n",
              "      <td>1801</td>\n",
              "      <td>603</td>\n",
              "      <td>28.20</td>\n",
              "      <td>3280000</td>\n",
              "      <td>afg</td>\n",
              "      <td>Afghanistan</td>\n",
              "      <td>asia</td>\n",
              "      <td>south_asia</td>\n",
              "    </tr>\n",
              "    <tr>\n",
              "      <th>2</th>\n",
              "      <td>afg</td>\n",
              "      <td>1802</td>\n",
              "      <td>603</td>\n",
              "      <td>28.19</td>\n",
              "      <td>3280000</td>\n",
              "      <td>afg</td>\n",
              "      <td>Afghanistan</td>\n",
              "      <td>asia</td>\n",
              "      <td>south_asia</td>\n",
              "    </tr>\n",
              "    <tr>\n",
              "      <th>3</th>\n",
              "      <td>afg</td>\n",
              "      <td>1803</td>\n",
              "      <td>603</td>\n",
              "      <td>28.18</td>\n",
              "      <td>3280000</td>\n",
              "      <td>afg</td>\n",
              "      <td>Afghanistan</td>\n",
              "      <td>asia</td>\n",
              "      <td>south_asia</td>\n",
              "    </tr>\n",
              "    <tr>\n",
              "      <th>4</th>\n",
              "      <td>afg</td>\n",
              "      <td>1804</td>\n",
              "      <td>603</td>\n",
              "      <td>28.17</td>\n",
              "      <td>3280000</td>\n",
              "      <td>afg</td>\n",
              "      <td>Afghanistan</td>\n",
              "      <td>asia</td>\n",
              "      <td>south_asia</td>\n",
              "    </tr>\n",
              "  </tbody>\n",
              "</table>\n",
              "</div>"
            ],
            "text/plain": [
              "   geo  time  income_per_person_gdppercapita_ppp_inflation_adjusted  \\\n",
              "0  afg  1800                                                603       \n",
              "1  afg  1801                                                603       \n",
              "2  afg  1802                                                603       \n",
              "3  afg  1803                                                603       \n",
              "4  afg  1804                                                603       \n",
              "\n",
              "   life_expectancy_years  population_total country         name world_4region  \\\n",
              "0                  28.21           3280000     afg  Afghanistan          asia   \n",
              "1                  28.20           3280000     afg  Afghanistan          asia   \n",
              "2                  28.19           3280000     afg  Afghanistan          asia   \n",
              "3                  28.18           3280000     afg  Afghanistan          asia   \n",
              "4                  28.17           3280000     afg  Afghanistan          asia   \n",
              "\n",
              "  world_6region  \n",
              "0    south_asia  \n",
              "1    south_asia  \n",
              "2    south_asia  \n",
              "3    south_asia  \n",
              "4    south_asia  "
            ]
          },
          "metadata": {
            "tags": []
          },
          "execution_count": 45
        }
      ]
    },
    {
      "cell_type": "code",
      "metadata": {
        "id": "c8R4D6SQ71UW",
        "colab_type": "code",
        "colab": {
          "base_uri": "https://localhost:8080/",
          "height": 204
        },
        "outputId": "7df526d2-7b8f-4476-fe17-96b43e281076"
      },
      "source": [
        "df = df.rename(columns = {\n",
        "    'country': 'country_code',\n",
        "    'time': 'year',\n",
        "    'income_per_person_gdppercapita_ppp_inflation_adjusted': 'income',\n",
        "    'life_expectancy_years': 'lifespan',\n",
        "    'population_total': 'population',\n",
        "    'name': 'country',\n",
        "    'world_6region': '6region',\n",
        "    'world_4region': '4region'\n",
        "})\n",
        "\n",
        "\n",
        "df.head()\n",
        "\n"
      ],
      "execution_count": 46,
      "outputs": [
        {
          "output_type": "execute_result",
          "data": {
            "text/html": [
              "<div>\n",
              "<style scoped>\n",
              "    .dataframe tbody tr th:only-of-type {\n",
              "        vertical-align: middle;\n",
              "    }\n",
              "\n",
              "    .dataframe tbody tr th {\n",
              "        vertical-align: top;\n",
              "    }\n",
              "\n",
              "    .dataframe thead th {\n",
              "        text-align: right;\n",
              "    }\n",
              "</style>\n",
              "<table border=\"1\" class=\"dataframe\">\n",
              "  <thead>\n",
              "    <tr style=\"text-align: right;\">\n",
              "      <th></th>\n",
              "      <th>geo</th>\n",
              "      <th>year</th>\n",
              "      <th>income</th>\n",
              "      <th>lifespan</th>\n",
              "      <th>population</th>\n",
              "      <th>country_code</th>\n",
              "      <th>country</th>\n",
              "      <th>4region</th>\n",
              "      <th>6region</th>\n",
              "    </tr>\n",
              "  </thead>\n",
              "  <tbody>\n",
              "    <tr>\n",
              "      <th>0</th>\n",
              "      <td>afg</td>\n",
              "      <td>1800</td>\n",
              "      <td>603</td>\n",
              "      <td>28.21</td>\n",
              "      <td>3280000</td>\n",
              "      <td>afg</td>\n",
              "      <td>Afghanistan</td>\n",
              "      <td>asia</td>\n",
              "      <td>south_asia</td>\n",
              "    </tr>\n",
              "    <tr>\n",
              "      <th>1</th>\n",
              "      <td>afg</td>\n",
              "      <td>1801</td>\n",
              "      <td>603</td>\n",
              "      <td>28.20</td>\n",
              "      <td>3280000</td>\n",
              "      <td>afg</td>\n",
              "      <td>Afghanistan</td>\n",
              "      <td>asia</td>\n",
              "      <td>south_asia</td>\n",
              "    </tr>\n",
              "    <tr>\n",
              "      <th>2</th>\n",
              "      <td>afg</td>\n",
              "      <td>1802</td>\n",
              "      <td>603</td>\n",
              "      <td>28.19</td>\n",
              "      <td>3280000</td>\n",
              "      <td>afg</td>\n",
              "      <td>Afghanistan</td>\n",
              "      <td>asia</td>\n",
              "      <td>south_asia</td>\n",
              "    </tr>\n",
              "    <tr>\n",
              "      <th>3</th>\n",
              "      <td>afg</td>\n",
              "      <td>1803</td>\n",
              "      <td>603</td>\n",
              "      <td>28.18</td>\n",
              "      <td>3280000</td>\n",
              "      <td>afg</td>\n",
              "      <td>Afghanistan</td>\n",
              "      <td>asia</td>\n",
              "      <td>south_asia</td>\n",
              "    </tr>\n",
              "    <tr>\n",
              "      <th>4</th>\n",
              "      <td>afg</td>\n",
              "      <td>1804</td>\n",
              "      <td>603</td>\n",
              "      <td>28.17</td>\n",
              "      <td>3280000</td>\n",
              "      <td>afg</td>\n",
              "      <td>Afghanistan</td>\n",
              "      <td>asia</td>\n",
              "      <td>south_asia</td>\n",
              "    </tr>\n",
              "  </tbody>\n",
              "</table>\n",
              "</div>"
            ],
            "text/plain": [
              "   geo  year  income  lifespan  population country_code      country 4region  \\\n",
              "0  afg  1800     603     28.21     3280000          afg  Afghanistan    asia   \n",
              "1  afg  1801     603     28.20     3280000          afg  Afghanistan    asia   \n",
              "2  afg  1802     603     28.19     3280000          afg  Afghanistan    asia   \n",
              "3  afg  1803     603     28.18     3280000          afg  Afghanistan    asia   \n",
              "4  afg  1804     603     28.17     3280000          afg  Afghanistan    asia   \n",
              "\n",
              "      6region  \n",
              "0  south_asia  \n",
              "1  south_asia  \n",
              "2  south_asia  \n",
              "3  south_asia  \n",
              "4  south_asia  "
            ]
          },
          "metadata": {
            "tags": []
          },
          "execution_count": 46
        }
      ]
    },
    {
      "cell_type": "code",
      "metadata": {
        "id": "guEldV0L71W1",
        "colab_type": "code",
        "colab": {
          "base_uri": "https://localhost:8080/",
          "height": 187
        },
        "outputId": "cbaad77f-aa49-4f84-e736-29b4a03d9786"
      },
      "source": [
        "df.dtypes"
      ],
      "execution_count": 47,
      "outputs": [
        {
          "output_type": "execute_result",
          "data": {
            "text/plain": [
              "geo              object\n",
              "year              int64\n",
              "income            int64\n",
              "lifespan        float64\n",
              "population        int64\n",
              "country_code     object\n",
              "country          object\n",
              "4region          object\n",
              "6region          object\n",
              "dtype: object"
            ]
          },
          "metadata": {
            "tags": []
          },
          "execution_count": 47
        }
      ]
    },
    {
      "cell_type": "code",
      "metadata": {
        "id": "Z_cBiGwK71ai",
        "colab_type": "code",
        "colab": {
          "base_uri": "https://localhost:8080/",
          "height": 297
        },
        "outputId": "30af3ada-3b7e-46c0-aa4f-6addbb9bfbb2"
      },
      "source": [
        "df.describe()"
      ],
      "execution_count": 48,
      "outputs": [
        {
          "output_type": "execute_result",
          "data": {
            "text/html": [
              "<div>\n",
              "<style scoped>\n",
              "    .dataframe tbody tr th:only-of-type {\n",
              "        vertical-align: middle;\n",
              "    }\n",
              "\n",
              "    .dataframe tbody tr th {\n",
              "        vertical-align: top;\n",
              "    }\n",
              "\n",
              "    .dataframe thead th {\n",
              "        text-align: right;\n",
              "    }\n",
              "</style>\n",
              "<table border=\"1\" class=\"dataframe\">\n",
              "  <thead>\n",
              "    <tr style=\"text-align: right;\">\n",
              "      <th></th>\n",
              "      <th>year</th>\n",
              "      <th>income</th>\n",
              "      <th>lifespan</th>\n",
              "      <th>population</th>\n",
              "    </tr>\n",
              "  </thead>\n",
              "  <tbody>\n",
              "    <tr>\n",
              "      <th>count</th>\n",
              "      <td>40437.000000</td>\n",
              "      <td>40437.000000</td>\n",
              "      <td>40437.000000</td>\n",
              "      <td>4.043700e+04</td>\n",
              "    </tr>\n",
              "    <tr>\n",
              "      <th>mean</th>\n",
              "      <td>1909.292900</td>\n",
              "      <td>4619.492717</td>\n",
              "      <td>43.132080</td>\n",
              "      <td>1.371204e+07</td>\n",
              "    </tr>\n",
              "    <tr>\n",
              "      <th>std</th>\n",
              "      <td>63.308682</td>\n",
              "      <td>10209.571045</td>\n",
              "      <td>16.313228</td>\n",
              "      <td>6.606335e+07</td>\n",
              "    </tr>\n",
              "    <tr>\n",
              "      <th>min</th>\n",
              "      <td>1800.000000</td>\n",
              "      <td>247.000000</td>\n",
              "      <td>1.000000</td>\n",
              "      <td>2.128000e+03</td>\n",
              "    </tr>\n",
              "    <tr>\n",
              "      <th>25%</th>\n",
              "      <td>1854.000000</td>\n",
              "      <td>876.000000</td>\n",
              "      <td>31.160000</td>\n",
              "      <td>4.113310e+05</td>\n",
              "    </tr>\n",
              "    <tr>\n",
              "      <th>50%</th>\n",
              "      <td>1909.000000</td>\n",
              "      <td>1442.000000</td>\n",
              "      <td>35.500000</td>\n",
              "      <td>1.985952e+06</td>\n",
              "    </tr>\n",
              "    <tr>\n",
              "      <th>75%</th>\n",
              "      <td>1964.000000</td>\n",
              "      <td>3488.000000</td>\n",
              "      <td>55.970000</td>\n",
              "      <td>6.499707e+06</td>\n",
              "    </tr>\n",
              "    <tr>\n",
              "      <th>max</th>\n",
              "      <td>2018.000000</td>\n",
              "      <td>177522.000000</td>\n",
              "      <td>84.170000</td>\n",
              "      <td>1.415046e+09</td>\n",
              "    </tr>\n",
              "  </tbody>\n",
              "</table>\n",
              "</div>"
            ],
            "text/plain": [
              "               year         income      lifespan    population\n",
              "count  40437.000000   40437.000000  40437.000000  4.043700e+04\n",
              "mean    1909.292900    4619.492717     43.132080  1.371204e+07\n",
              "std       63.308682   10209.571045     16.313228  6.606335e+07\n",
              "min     1800.000000     247.000000      1.000000  2.128000e+03\n",
              "25%     1854.000000     876.000000     31.160000  4.113310e+05\n",
              "50%     1909.000000    1442.000000     35.500000  1.985952e+06\n",
              "75%     1964.000000    3488.000000     55.970000  6.499707e+06\n",
              "max     2018.000000  177522.000000     84.170000  1.415046e+09"
            ]
          },
          "metadata": {
            "tags": []
          },
          "execution_count": 48
        }
      ]
    },
    {
      "cell_type": "code",
      "metadata": {
        "id": "l3L9TvMq71dB",
        "colab_type": "code",
        "colab": {
          "base_uri": "https://localhost:8080/",
          "height": 173
        },
        "outputId": "00c3d35f-0b6c-4582-f4f0-87f62925167b"
      },
      "source": [
        "df.describe(exclude='number')"
      ],
      "execution_count": 49,
      "outputs": [
        {
          "output_type": "execute_result",
          "data": {
            "text/html": [
              "<div>\n",
              "<style scoped>\n",
              "    .dataframe tbody tr th:only-of-type {\n",
              "        vertical-align: middle;\n",
              "    }\n",
              "\n",
              "    .dataframe tbody tr th {\n",
              "        vertical-align: top;\n",
              "    }\n",
              "\n",
              "    .dataframe thead th {\n",
              "        text-align: right;\n",
              "    }\n",
              "</style>\n",
              "<table border=\"1\" class=\"dataframe\">\n",
              "  <thead>\n",
              "    <tr style=\"text-align: right;\">\n",
              "      <th></th>\n",
              "      <th>geo</th>\n",
              "      <th>country_code</th>\n",
              "      <th>country</th>\n",
              "      <th>4region</th>\n",
              "      <th>6region</th>\n",
              "    </tr>\n",
              "  </thead>\n",
              "  <tbody>\n",
              "    <tr>\n",
              "      <th>count</th>\n",
              "      <td>40437</td>\n",
              "      <td>40437</td>\n",
              "      <td>40437</td>\n",
              "      <td>40437</td>\n",
              "      <td>40437</td>\n",
              "    </tr>\n",
              "    <tr>\n",
              "      <th>unique</th>\n",
              "      <td>187</td>\n",
              "      <td>187</td>\n",
              "      <td>187</td>\n",
              "      <td>4</td>\n",
              "      <td>6</td>\n",
              "    </tr>\n",
              "    <tr>\n",
              "      <th>top</th>\n",
              "      <td>gha</td>\n",
              "      <td>gha</td>\n",
              "      <td>Botswana</td>\n",
              "      <td>africa</td>\n",
              "      <td>europe_central_asia</td>\n",
              "    </tr>\n",
              "    <tr>\n",
              "      <th>freq</th>\n",
              "      <td>219</td>\n",
              "      <td>219</td>\n",
              "      <td>219</td>\n",
              "      <td>11826</td>\n",
              "      <td>10778</td>\n",
              "    </tr>\n",
              "  </tbody>\n",
              "</table>\n",
              "</div>"
            ],
            "text/plain": [
              "          geo country_code   country 4region              6region\n",
              "count   40437        40437     40437   40437                40437\n",
              "unique    187          187       187       4                    6\n",
              "top       gha          gha  Botswana  africa  europe_central_asia\n",
              "freq      219          219       219   11826                10778"
            ]
          },
          "metadata": {
            "tags": []
          },
          "execution_count": 49
        }
      ]
    },
    {
      "cell_type": "code",
      "metadata": {
        "id": "crs22xSP71fL",
        "colab_type": "code",
        "colab": {
          "base_uri": "https://localhost:8080/",
          "height": 204
        },
        "outputId": "74ec546a-a809-4772-81ce-37285fb183c0"
      },
      "source": [
        "usa = df[df.country == 'United States']\n",
        "usa.head()"
      ],
      "execution_count": 50,
      "outputs": [
        {
          "output_type": "execute_result",
          "data": {
            "text/html": [
              "<div>\n",
              "<style scoped>\n",
              "    .dataframe tbody tr th:only-of-type {\n",
              "        vertical-align: middle;\n",
              "    }\n",
              "\n",
              "    .dataframe tbody tr th {\n",
              "        vertical-align: top;\n",
              "    }\n",
              "\n",
              "    .dataframe thead th {\n",
              "        text-align: right;\n",
              "    }\n",
              "</style>\n",
              "<table border=\"1\" class=\"dataframe\">\n",
              "  <thead>\n",
              "    <tr style=\"text-align: right;\">\n",
              "      <th></th>\n",
              "      <th>geo</th>\n",
              "      <th>year</th>\n",
              "      <th>income</th>\n",
              "      <th>lifespan</th>\n",
              "      <th>population</th>\n",
              "      <th>country_code</th>\n",
              "      <th>country</th>\n",
              "      <th>4region</th>\n",
              "      <th>6region</th>\n",
              "    </tr>\n",
              "  </thead>\n",
              "  <tbody>\n",
              "    <tr>\n",
              "      <th>38028</th>\n",
              "      <td>usa</td>\n",
              "      <td>1800</td>\n",
              "      <td>2127</td>\n",
              "      <td>39.41</td>\n",
              "      <td>6801854</td>\n",
              "      <td>usa</td>\n",
              "      <td>United States</td>\n",
              "      <td>americas</td>\n",
              "      <td>america</td>\n",
              "    </tr>\n",
              "    <tr>\n",
              "      <th>38029</th>\n",
              "      <td>usa</td>\n",
              "      <td>1801</td>\n",
              "      <td>2167</td>\n",
              "      <td>39.41</td>\n",
              "      <td>6933517</td>\n",
              "      <td>usa</td>\n",
              "      <td>United States</td>\n",
              "      <td>americas</td>\n",
              "      <td>america</td>\n",
              "    </tr>\n",
              "    <tr>\n",
              "      <th>38030</th>\n",
              "      <td>usa</td>\n",
              "      <td>1802</td>\n",
              "      <td>2202</td>\n",
              "      <td>39.41</td>\n",
              "      <td>7067728</td>\n",
              "      <td>usa</td>\n",
              "      <td>United States</td>\n",
              "      <td>americas</td>\n",
              "      <td>america</td>\n",
              "    </tr>\n",
              "    <tr>\n",
              "      <th>38031</th>\n",
              "      <td>usa</td>\n",
              "      <td>1803</td>\n",
              "      <td>2166</td>\n",
              "      <td>39.41</td>\n",
              "      <td>7204538</td>\n",
              "      <td>usa</td>\n",
              "      <td>United States</td>\n",
              "      <td>americas</td>\n",
              "      <td>america</td>\n",
              "    </tr>\n",
              "    <tr>\n",
              "      <th>38032</th>\n",
              "      <td>usa</td>\n",
              "      <td>1804</td>\n",
              "      <td>2165</td>\n",
              "      <td>39.41</td>\n",
              "      <td>7343995</td>\n",
              "      <td>usa</td>\n",
              "      <td>United States</td>\n",
              "      <td>americas</td>\n",
              "      <td>america</td>\n",
              "    </tr>\n",
              "  </tbody>\n",
              "</table>\n",
              "</div>"
            ],
            "text/plain": [
              "       geo  year  income  lifespan  population country_code        country  \\\n",
              "38028  usa  1800    2127     39.41     6801854          usa  United States   \n",
              "38029  usa  1801    2167     39.41     6933517          usa  United States   \n",
              "38030  usa  1802    2202     39.41     7067728          usa  United States   \n",
              "38031  usa  1803    2166     39.41     7204538          usa  United States   \n",
              "38032  usa  1804    2165     39.41     7343995          usa  United States   \n",
              "\n",
              "        4region  6region  \n",
              "38028  americas  america  \n",
              "38029  americas  america  \n",
              "38030  americas  america  \n",
              "38031  americas  america  \n",
              "38032  americas  america  "
            ]
          },
          "metadata": {
            "tags": []
          },
          "execution_count": 50
        }
      ]
    },
    {
      "cell_type": "code",
      "metadata": {
        "id": "0Enuy-WK71jB",
        "colab_type": "code",
        "colab": {
          "base_uri": "https://localhost:8080/",
          "height": 297
        },
        "outputId": "fb7c7622-660c-4865-e6f6-5791e08c6bdf"
      },
      "source": [
        "usa.describe()"
      ],
      "execution_count": 51,
      "outputs": [
        {
          "output_type": "execute_result",
          "data": {
            "text/html": [
              "<div>\n",
              "<style scoped>\n",
              "    .dataframe tbody tr th:only-of-type {\n",
              "        vertical-align: middle;\n",
              "    }\n",
              "\n",
              "    .dataframe tbody tr th {\n",
              "        vertical-align: top;\n",
              "    }\n",
              "\n",
              "    .dataframe thead th {\n",
              "        text-align: right;\n",
              "    }\n",
              "</style>\n",
              "<table border=\"1\" class=\"dataframe\">\n",
              "  <thead>\n",
              "    <tr style=\"text-align: right;\">\n",
              "      <th></th>\n",
              "      <th>year</th>\n",
              "      <th>income</th>\n",
              "      <th>lifespan</th>\n",
              "      <th>population</th>\n",
              "    </tr>\n",
              "  </thead>\n",
              "  <tbody>\n",
              "    <tr>\n",
              "      <th>count</th>\n",
              "      <td>219.000000</td>\n",
              "      <td>219.000000</td>\n",
              "      <td>219.000000</td>\n",
              "      <td>2.190000e+02</td>\n",
              "    </tr>\n",
              "    <tr>\n",
              "      <th>mean</th>\n",
              "      <td>1909.000000</td>\n",
              "      <td>14572.936073</td>\n",
              "      <td>54.846256</td>\n",
              "      <td>1.163662e+08</td>\n",
              "    </tr>\n",
              "    <tr>\n",
              "      <th>std</th>\n",
              "      <td>63.364028</td>\n",
              "      <td>15066.042247</td>\n",
              "      <td>15.202079</td>\n",
              "      <td>9.738644e+07</td>\n",
              "    </tr>\n",
              "    <tr>\n",
              "      <th>min</th>\n",
              "      <td>1800.000000</td>\n",
              "      <td>2113.000000</td>\n",
              "      <td>31.000000</td>\n",
              "      <td>6.801854e+06</td>\n",
              "    </tr>\n",
              "    <tr>\n",
              "      <th>25%</th>\n",
              "      <td>1854.500000</td>\n",
              "      <td>3512.500000</td>\n",
              "      <td>39.410000</td>\n",
              "      <td>2.752198e+07</td>\n",
              "    </tr>\n",
              "    <tr>\n",
              "      <th>50%</th>\n",
              "      <td>1909.000000</td>\n",
              "      <td>7989.000000</td>\n",
              "      <td>51.780000</td>\n",
              "      <td>9.236198e+07</td>\n",
              "    </tr>\n",
              "    <tr>\n",
              "      <th>75%</th>\n",
              "      <td>1963.500000</td>\n",
              "      <td>20090.500000</td>\n",
              "      <td>70.270000</td>\n",
              "      <td>1.962540e+08</td>\n",
              "    </tr>\n",
              "    <tr>\n",
              "      <th>max</th>\n",
              "      <td>2018.000000</td>\n",
              "      <td>54898.000000</td>\n",
              "      <td>79.140000</td>\n",
              "      <td>3.267667e+08</td>\n",
              "    </tr>\n",
              "  </tbody>\n",
              "</table>\n",
              "</div>"
            ],
            "text/plain": [
              "              year        income    lifespan    population\n",
              "count   219.000000    219.000000  219.000000  2.190000e+02\n",
              "mean   1909.000000  14572.936073   54.846256  1.163662e+08\n",
              "std      63.364028  15066.042247   15.202079  9.738644e+07\n",
              "min    1800.000000   2113.000000   31.000000  6.801854e+06\n",
              "25%    1854.500000   3512.500000   39.410000  2.752198e+07\n",
              "50%    1909.000000   7989.000000   51.780000  9.236198e+07\n",
              "75%    1963.500000  20090.500000   70.270000  1.962540e+08\n",
              "max    2018.000000  54898.000000   79.140000  3.267667e+08"
            ]
          },
          "metadata": {
            "tags": []
          },
          "execution_count": 51
        }
      ]
    },
    {
      "cell_type": "code",
      "metadata": {
        "id": "B1oTb3nj71lC",
        "colab_type": "code",
        "colab": {
          "base_uri": "https://localhost:8080/",
          "height": 142
        },
        "outputId": "790a8936-c76c-4bd5-bfa0-95c9154d05c1"
      },
      "source": [
        "usa[usa.year.isin([1818, 1918, 2018])]"
      ],
      "execution_count": 52,
      "outputs": [
        {
          "output_type": "execute_result",
          "data": {
            "text/html": [
              "<div>\n",
              "<style scoped>\n",
              "    .dataframe tbody tr th:only-of-type {\n",
              "        vertical-align: middle;\n",
              "    }\n",
              "\n",
              "    .dataframe tbody tr th {\n",
              "        vertical-align: top;\n",
              "    }\n",
              "\n",
              "    .dataframe thead th {\n",
              "        text-align: right;\n",
              "    }\n",
              "</style>\n",
              "<table border=\"1\" class=\"dataframe\">\n",
              "  <thead>\n",
              "    <tr style=\"text-align: right;\">\n",
              "      <th></th>\n",
              "      <th>geo</th>\n",
              "      <th>year</th>\n",
              "      <th>income</th>\n",
              "      <th>lifespan</th>\n",
              "      <th>population</th>\n",
              "      <th>country_code</th>\n",
              "      <th>country</th>\n",
              "      <th>4region</th>\n",
              "      <th>6region</th>\n",
              "    </tr>\n",
              "  </thead>\n",
              "  <tbody>\n",
              "    <tr>\n",
              "      <th>38046</th>\n",
              "      <td>usa</td>\n",
              "      <td>1818</td>\n",
              "      <td>2258</td>\n",
              "      <td>39.41</td>\n",
              "      <td>9879049</td>\n",
              "      <td>usa</td>\n",
              "      <td>United States</td>\n",
              "      <td>americas</td>\n",
              "      <td>america</td>\n",
              "    </tr>\n",
              "    <tr>\n",
              "      <th>38146</th>\n",
              "      <td>usa</td>\n",
              "      <td>1918</td>\n",
              "      <td>9371</td>\n",
              "      <td>47.18</td>\n",
              "      <td>106721812</td>\n",
              "      <td>usa</td>\n",
              "      <td>United States</td>\n",
              "      <td>americas</td>\n",
              "      <td>america</td>\n",
              "    </tr>\n",
              "    <tr>\n",
              "      <th>38246</th>\n",
              "      <td>usa</td>\n",
              "      <td>2018</td>\n",
              "      <td>54898</td>\n",
              "      <td>79.14</td>\n",
              "      <td>326766748</td>\n",
              "      <td>usa</td>\n",
              "      <td>United States</td>\n",
              "      <td>americas</td>\n",
              "      <td>america</td>\n",
              "    </tr>\n",
              "  </tbody>\n",
              "</table>\n",
              "</div>"
            ],
            "text/plain": [
              "       geo  year  income  lifespan  population country_code        country  \\\n",
              "38046  usa  1818    2258     39.41     9879049          usa  United States   \n",
              "38146  usa  1918    9371     47.18   106721812          usa  United States   \n",
              "38246  usa  2018   54898     79.14   326766748          usa  United States   \n",
              "\n",
              "        4region  6region  \n",
              "38046  americas  america  \n",
              "38146  americas  america  \n",
              "38246  americas  america  "
            ]
          },
          "metadata": {
            "tags": []
          },
          "execution_count": 52
        }
      ]
    },
    {
      "cell_type": "code",
      "metadata": {
        "id": "M80BcoPL71nk",
        "colab_type": "code",
        "colab": {
          "base_uri": "https://localhost:8080/",
          "height": 142
        },
        "outputId": "a007b016-80b2-4f94-c1a9-ff9c7de9f856"
      },
      "source": [
        "china = df[df.country == 'China']\n",
        "\n",
        "china[china.year.isin([1818, 1918, 2018])]"
      ],
      "execution_count": 55,
      "outputs": [
        {
          "output_type": "execute_result",
          "data": {
            "text/html": [
              "<div>\n",
              "<style scoped>\n",
              "    .dataframe tbody tr th:only-of-type {\n",
              "        vertical-align: middle;\n",
              "    }\n",
              "\n",
              "    .dataframe tbody tr th {\n",
              "        vertical-align: top;\n",
              "    }\n",
              "\n",
              "    .dataframe thead th {\n",
              "        text-align: right;\n",
              "    }\n",
              "</style>\n",
              "<table border=\"1\" class=\"dataframe\">\n",
              "  <thead>\n",
              "    <tr style=\"text-align: right;\">\n",
              "      <th></th>\n",
              "      <th>geo</th>\n",
              "      <th>year</th>\n",
              "      <th>income</th>\n",
              "      <th>lifespan</th>\n",
              "      <th>population</th>\n",
              "      <th>country_code</th>\n",
              "      <th>country</th>\n",
              "      <th>4region</th>\n",
              "      <th>6region</th>\n",
              "    </tr>\n",
              "  </thead>\n",
              "  <tbody>\n",
              "    <tr>\n",
              "      <th>6854</th>\n",
              "      <td>chn</td>\n",
              "      <td>1818</td>\n",
              "      <td>985</td>\n",
              "      <td>32.00</td>\n",
              "      <td>374161494</td>\n",
              "      <td>chn</td>\n",
              "      <td>China</td>\n",
              "      <td>asia</td>\n",
              "      <td>east_asia_pacific</td>\n",
              "    </tr>\n",
              "    <tr>\n",
              "      <th>6954</th>\n",
              "      <td>chn</td>\n",
              "      <td>1918</td>\n",
              "      <td>989</td>\n",
              "      <td>22.13</td>\n",
              "      <td>462444535</td>\n",
              "      <td>chn</td>\n",
              "      <td>China</td>\n",
              "      <td>asia</td>\n",
              "      <td>east_asia_pacific</td>\n",
              "    </tr>\n",
              "    <tr>\n",
              "      <th>7054</th>\n",
              "      <td>chn</td>\n",
              "      <td>2018</td>\n",
              "      <td>16018</td>\n",
              "      <td>76.92</td>\n",
              "      <td>1415045928</td>\n",
              "      <td>chn</td>\n",
              "      <td>China</td>\n",
              "      <td>asia</td>\n",
              "      <td>east_asia_pacific</td>\n",
              "    </tr>\n",
              "  </tbody>\n",
              "</table>\n",
              "</div>"
            ],
            "text/plain": [
              "      geo  year  income  lifespan  population country_code country 4region  \\\n",
              "6854  chn  1818     985     32.00   374161494          chn   China    asia   \n",
              "6954  chn  1918     989     22.13   462444535          chn   China    asia   \n",
              "7054  chn  2018   16018     76.92  1415045928          chn   China    asia   \n",
              "\n",
              "                6region  \n",
              "6854  east_asia_pacific  \n",
              "6954  east_asia_pacific  \n",
              "7054  east_asia_pacific  "
            ]
          },
          "metadata": {
            "tags": []
          },
          "execution_count": 55
        }
      ]
    },
    {
      "cell_type": "code",
      "metadata": {
        "id": "Eq-RKEdT71ro",
        "colab_type": "code",
        "colab": {}
      },
      "source": [
        ""
      ],
      "execution_count": 0,
      "outputs": []
    },
    {
      "cell_type": "code",
      "metadata": {
        "id": "EaOt3oJ471qP",
        "colab_type": "code",
        "colab": {
          "base_uri": "https://localhost:8080/",
          "height": 204
        },
        "outputId": "0e58207c-ccbd-4bb5-9847-e60a47a5afc4"
      },
      "source": [
        "import seaborn as sns\n",
        "\n",
        "now = df[df.year == 2018]\n",
        "then = df[df.year == 1918]\n",
        "\n",
        "now.head()"
      ],
      "execution_count": 64,
      "outputs": [
        {
          "output_type": "execute_result",
          "data": {
            "text/html": [
              "<div>\n",
              "<style scoped>\n",
              "    .dataframe tbody tr th:only-of-type {\n",
              "        vertical-align: middle;\n",
              "    }\n",
              "\n",
              "    .dataframe tbody tr th {\n",
              "        vertical-align: top;\n",
              "    }\n",
              "\n",
              "    .dataframe thead th {\n",
              "        text-align: right;\n",
              "    }\n",
              "</style>\n",
              "<table border=\"1\" class=\"dataframe\">\n",
              "  <thead>\n",
              "    <tr style=\"text-align: right;\">\n",
              "      <th></th>\n",
              "      <th>geo</th>\n",
              "      <th>year</th>\n",
              "      <th>income</th>\n",
              "      <th>lifespan</th>\n",
              "      <th>population</th>\n",
              "      <th>country_code</th>\n",
              "      <th>country</th>\n",
              "      <th>4region</th>\n",
              "      <th>6region</th>\n",
              "    </tr>\n",
              "  </thead>\n",
              "  <tbody>\n",
              "    <tr>\n",
              "      <th>218</th>\n",
              "      <td>afg</td>\n",
              "      <td>2018</td>\n",
              "      <td>1867</td>\n",
              "      <td>58.69</td>\n",
              "      <td>36373176</td>\n",
              "      <td>afg</td>\n",
              "      <td>Afghanistan</td>\n",
              "      <td>asia</td>\n",
              "      <td>south_asia</td>\n",
              "    </tr>\n",
              "    <tr>\n",
              "      <th>437</th>\n",
              "      <td>ago</td>\n",
              "      <td>2018</td>\n",
              "      <td>5846</td>\n",
              "      <td>65.19</td>\n",
              "      <td>30774205</td>\n",
              "      <td>ago</td>\n",
              "      <td>Angola</td>\n",
              "      <td>africa</td>\n",
              "      <td>sub_saharan_africa</td>\n",
              "    </tr>\n",
              "    <tr>\n",
              "      <th>656</th>\n",
              "      <td>alb</td>\n",
              "      <td>2018</td>\n",
              "      <td>12424</td>\n",
              "      <td>78.01</td>\n",
              "      <td>2934363</td>\n",
              "      <td>alb</td>\n",
              "      <td>Albania</td>\n",
              "      <td>europe</td>\n",
              "      <td>europe_central_asia</td>\n",
              "    </tr>\n",
              "    <tr>\n",
              "      <th>922</th>\n",
              "      <td>are</td>\n",
              "      <td>2018</td>\n",
              "      <td>68231</td>\n",
              "      <td>76.89</td>\n",
              "      <td>9541615</td>\n",
              "      <td>are</td>\n",
              "      <td>United Arab Emirates</td>\n",
              "      <td>asia</td>\n",
              "      <td>middle_east_north_africa</td>\n",
              "    </tr>\n",
              "    <tr>\n",
              "      <th>1141</th>\n",
              "      <td>arg</td>\n",
              "      <td>2018</td>\n",
              "      <td>18942</td>\n",
              "      <td>76.97</td>\n",
              "      <td>44688864</td>\n",
              "      <td>arg</td>\n",
              "      <td>Argentina</td>\n",
              "      <td>americas</td>\n",
              "      <td>america</td>\n",
              "    </tr>\n",
              "  </tbody>\n",
              "</table>\n",
              "</div>"
            ],
            "text/plain": [
              "      geo  year  income  lifespan  population country_code  \\\n",
              "218   afg  2018    1867     58.69    36373176          afg   \n",
              "437   ago  2018    5846     65.19    30774205          ago   \n",
              "656   alb  2018   12424     78.01     2934363          alb   \n",
              "922   are  2018   68231     76.89     9541615          are   \n",
              "1141  arg  2018   18942     76.97    44688864          arg   \n",
              "\n",
              "                   country   4region                   6region  \n",
              "218            Afghanistan      asia                south_asia  \n",
              "437                 Angola    africa        sub_saharan_africa  \n",
              "656                Albania    europe       europe_central_asia  \n",
              "922   United Arab Emirates      asia  middle_east_north_africa  \n",
              "1141             Argentina  americas                   america  "
            ]
          },
          "metadata": {
            "tags": []
          },
          "execution_count": 64
        }
      ]
    },
    {
      "cell_type": "code",
      "metadata": {
        "id": "YKQDVCnF71hw",
        "colab_type": "code",
        "colab": {
          "base_uri": "https://localhost:8080/",
          "height": 1000
        },
        "outputId": "10d5e1f4-75ed-480f-f460-e44659386c91"
      },
      "source": [
        "\n",
        "fig, ax = plt.subplots(nrows=1, ncols=2)\n",
        "\n",
        "sns.relplot(x='income', y='lifespan', hue='6region', size='population', \n",
        "            sizes=(30,400), alpha=0.7, data=now, ax=ax[0])\n",
        "\n",
        "sns.relplot(x='income', y='lifespan', hue='6region', size='population',\n",
        "           sizes=(30,400), alpha=0.7, data=then, ax=ax[1])\n",
        "\n",
        "\n",
        "plt.xscale('log')\n",
        "plt.title(\"The World in 2018\");\n"
      ],
      "execution_count": 67,
      "outputs": [
        {
          "output_type": "display_data",
          "data": {
            "image/png": "[encoded data removed]",
            "text/plain": [
              "<Figure size 432x288 with 2 Axes>"
            ]
          },
          "metadata": {
            "tags": []
          }
        },
        {
          "output_type": "display_data",
          "data": {
            "image/png": "[encoded data removed]",
            "text/plain": [
              "<Figure size 521.75x360 with 1 Axes>"
            ]
          },
          "metadata": {
            "tags": []
          }
        },
        {
          "output_type": "display_data",
          "data": {
            "image/png": "[encoded data removed]",
            "text/plain": [
              "<Figure size 521.75x360 with 1 Axes>"
            ]
          },
          "metadata": {
            "tags": []
          }
        }
      ]
    },
    {
      "cell_type": "code",
      "metadata": {
        "id": "8UZGLo0nkRAc",
        "colab_type": "code",
        "colab": {}
      },
      "source": [
        "years = [1918, 1938, 1978, 1998, 2018]"
      ],
      "execution_count": 0,
      "outputs": []
    },
    {
      "cell_type": "code",
      "metadata": {
        "id": "1us0o4m9jL3o",
        "colab_type": "code",
        "colab": {
          "base_uri": "https://localhost:8080/",
          "height": 1000
        },
        "outputId": "c7ceb871-d41c-4ecc-e91d-890fa27c5ede"
      },
      "source": [
        "for year in years: \n",
        "  sns.relplot(x='income', y='lifespan', hue='6region', size='population',\n",
        "            sizes=(30,400), data=df[df.year==year])\n",
        "  plt.xscale('log')\n",
        "  plt.xlim((150,150000))\n",
        "  plt.ylim((0,90))\n",
        "  plt.title('Countries Above the Poverty Line in' + str(year))\n",
        "  plt.axvline(x=1000, color='lightgrey')"
      ],
      "execution_count": 72,
      "outputs": [
        {
          "output_type": "display_data",
          "data": {
            "image/png": "[encoded data removed]",
            "text/plain": [
              "<Figure size 521.75x360 with 1 Axes>"
            ]
          },
          "metadata": {
            "tags": []
          }
        },
        {
          "output_type": "display_data",
          "data": {
            "image/png": "[encoded data removed]",
            "text/plain": [
              "<Figure size 521.75x360 with 1 Axes>"
            ]
          },
          "metadata": {
            "tags": []
          }
        },
        {
          "output_type": "display_data",
          "data": {
            "image/png": "[encoded data removed]",
            "text/plain": [
              "<Figure size 521.75x360 with 1 Axes>"
            ]
          },
          "metadata": {
            "tags": []
          }
        },
        {
          "output_type": "display_data",
          "data": {
            "image/png": "[encoded data removed]",
            "text/plain": [
              "<Figure size 521.75x360 with 1 Axes>"
            ]
          },
          "metadata": {
            "tags": []
          }
        },
        {
          "output_type": "display_data",
          "data": {
            "image/png": "[encoded data removed]",
            "text/plain": [
              "<Figure size 521.75x360 with 1 Axes>"
            ]
          },
          "metadata": {
            "tags": []
          }
        }
      ]
    },
    {
      "cell_type": "code",
      "metadata": {
        "id": "ropWOjg671S-",
        "colab_type": "code",
        "colab": {
          "base_uri": "https://localhost:8080/",
          "height": 266
        },
        "outputId": "7ea8a48c-b974-468a-86e4-6af0dfd32ecc"
      },
      "source": [
        "botswana = df[df.country == 'Botswana']\n",
        "\n",
        "botswana[botswana.year.isin([1815, 1830, 1900, 1915, 1930, 2000, 2015])]"
      ],
      "execution_count": 75,
      "outputs": [
        {
          "output_type": "execute_result",
          "data": {
            "text/html": [
              "<div>\n",
              "<style scoped>\n",
              "    .dataframe tbody tr th:only-of-type {\n",
              "        vertical-align: middle;\n",
              "    }\n",
              "\n",
              "    .dataframe tbody tr th {\n",
              "        vertical-align: top;\n",
              "    }\n",
              "\n",
              "    .dataframe thead th {\n",
              "        text-align: right;\n",
              "    }\n",
              "</style>\n",
              "<table border=\"1\" class=\"dataframe\">\n",
              "  <thead>\n",
              "    <tr style=\"text-align: right;\">\n",
              "      <th></th>\n",
              "      <th>geo</th>\n",
              "      <th>year</th>\n",
              "      <th>income</th>\n",
              "      <th>lifespan</th>\n",
              "      <th>population</th>\n",
              "      <th>country_code</th>\n",
              "      <th>country</th>\n",
              "      <th>4region</th>\n",
              "      <th>6region</th>\n",
              "    </tr>\n",
              "  </thead>\n",
              "  <tbody>\n",
              "    <tr>\n",
              "      <th>5756</th>\n",
              "      <td>bwa</td>\n",
              "      <td>1815</td>\n",
              "      <td>398</td>\n",
              "      <td>33.60</td>\n",
              "      <td>121000</td>\n",
              "      <td>bwa</td>\n",
              "      <td>Botswana</td>\n",
              "      <td>africa</td>\n",
              "      <td>sub_saharan_africa</td>\n",
              "    </tr>\n",
              "    <tr>\n",
              "      <th>5771</th>\n",
              "      <td>bwa</td>\n",
              "      <td>1830</td>\n",
              "      <td>418</td>\n",
              "      <td>33.60</td>\n",
              "      <td>121000</td>\n",
              "      <td>bwa</td>\n",
              "      <td>Botswana</td>\n",
              "      <td>africa</td>\n",
              "      <td>sub_saharan_africa</td>\n",
              "    </tr>\n",
              "    <tr>\n",
              "      <th>5841</th>\n",
              "      <td>bwa</td>\n",
              "      <td>1900</td>\n",
              "      <td>586</td>\n",
              "      <td>33.93</td>\n",
              "      <td>122551</td>\n",
              "      <td>bwa</td>\n",
              "      <td>Botswana</td>\n",
              "      <td>africa</td>\n",
              "      <td>sub_saharan_africa</td>\n",
              "    </tr>\n",
              "    <tr>\n",
              "      <th>5856</th>\n",
              "      <td>bwa</td>\n",
              "      <td>1915</td>\n",
              "      <td>633</td>\n",
              "      <td>34.09</td>\n",
              "      <td>137728</td>\n",
              "      <td>bwa</td>\n",
              "      <td>Botswana</td>\n",
              "      <td>africa</td>\n",
              "      <td>sub_saharan_africa</td>\n",
              "    </tr>\n",
              "    <tr>\n",
              "      <th>5871</th>\n",
              "      <td>bwa</td>\n",
              "      <td>1930</td>\n",
              "      <td>713</td>\n",
              "      <td>34.25</td>\n",
              "      <td>216829</td>\n",
              "      <td>bwa</td>\n",
              "      <td>Botswana</td>\n",
              "      <td>africa</td>\n",
              "      <td>sub_saharan_africa</td>\n",
              "    </tr>\n",
              "    <tr>\n",
              "      <th>5941</th>\n",
              "      <td>bwa</td>\n",
              "      <td>2000</td>\n",
              "      <td>10411</td>\n",
              "      <td>46.67</td>\n",
              "      <td>1728340</td>\n",
              "      <td>bwa</td>\n",
              "      <td>Botswana</td>\n",
              "      <td>africa</td>\n",
              "      <td>sub_saharan_africa</td>\n",
              "    </tr>\n",
              "    <tr>\n",
              "      <th>5956</th>\n",
              "      <td>bwa</td>\n",
              "      <td>2015</td>\n",
              "      <td>15356</td>\n",
              "      <td>64.64</td>\n",
              "      <td>2209197</td>\n",
              "      <td>bwa</td>\n",
              "      <td>Botswana</td>\n",
              "      <td>africa</td>\n",
              "      <td>sub_saharan_africa</td>\n",
              "    </tr>\n",
              "  </tbody>\n",
              "</table>\n",
              "</div>"
            ],
            "text/plain": [
              "      geo  year  income  lifespan  population country_code   country 4region  \\\n",
              "5756  bwa  1815     398     33.60      121000          bwa  Botswana  africa   \n",
              "5771  bwa  1830     418     33.60      121000          bwa  Botswana  africa   \n",
              "5841  bwa  1900     586     33.93      122551          bwa  Botswana  africa   \n",
              "5856  bwa  1915     633     34.09      137728          bwa  Botswana  africa   \n",
              "5871  bwa  1930     713     34.25      216829          bwa  Botswana  africa   \n",
              "5941  bwa  2000   10411     46.67     1728340          bwa  Botswana  africa   \n",
              "5956  bwa  2015   15356     64.64     2209197          bwa  Botswana  africa   \n",
              "\n",
              "                 6region  \n",
              "5756  sub_saharan_africa  \n",
              "5771  sub_saharan_africa  \n",
              "5841  sub_saharan_africa  \n",
              "5856  sub_saharan_africa  \n",
              "5871  sub_saharan_africa  \n",
              "5941  sub_saharan_africa  \n",
              "5956  sub_saharan_africa  "
            ]
          },
          "metadata": {
            "tags": []
          },
          "execution_count": 75
        }
      ]
    },
    {
      "cell_type": "code",
      "metadata": {
        "id": "FWBzwIrj71ZO",
        "colab_type": "code",
        "colab": {
          "base_uri": "https://localhost:8080/",
          "height": 232
        },
        "outputId": "228fb0f5-c389-40ec-d392-db9a7de16dca"
      },
      "source": [
        "\n",
        "x = np.array(list(\"\"))\n",
        "y1 = np.arange('year')\n",
        "sns.barplot(x=x, y=y1, palette=\"rocket\", ax=ax1)\n",
        "ax1.axhline(0, color=\"k\", clip_on=False)\n",
        "ax1.set_ylabel(\"Sequential\")"
      ],
      "execution_count": 76,
      "outputs": [
        {
          "output_type": "error",
          "ename": "TypeError",
          "evalue": "ignored",
          "traceback": [
            "\u001b[0;31m---------------------------------------------------------------------------\u001b[0m",
            "\u001b[0;31mTypeError\u001b[0m                                 Traceback (most recent call last)",
            "\u001b[0;32m<ipython-input-76-c0aa592c7373>\u001b[0m in \u001b[0;36m<module>\u001b[0;34m()\u001b[0m\n\u001b[1;32m      1\u001b[0m \u001b[0;34m\u001b[0m\u001b[0m\n\u001b[1;32m      2\u001b[0m \u001b[0mx\u001b[0m \u001b[0;34m=\u001b[0m \u001b[0mnp\u001b[0m\u001b[0;34m.\u001b[0m\u001b[0marray\u001b[0m\u001b[0;34m(\u001b[0m\u001b[0mlist\u001b[0m\u001b[0;34m(\u001b[0m\u001b[0;34m\"\"\u001b[0m\u001b[0;34m)\u001b[0m\u001b[0;34m)\u001b[0m\u001b[0;34m\u001b[0m\u001b[0;34m\u001b[0m\u001b[0m\n\u001b[0;32m----> 3\u001b[0;31m \u001b[0my1\u001b[0m \u001b[0;34m=\u001b[0m \u001b[0mnp\u001b[0m\u001b[0;34m.\u001b[0m\u001b[0marange\u001b[0m\u001b[0;34m(\u001b[0m\u001b[0;34m'year'\u001b[0m\u001b[0;34m)\u001b[0m\u001b[0;34m\u001b[0m\u001b[0;34m\u001b[0m\u001b[0m\n\u001b[0m\u001b[1;32m      4\u001b[0m \u001b[0msns\u001b[0m\u001b[0;34m.\u001b[0m\u001b[0mbarplot\u001b[0m\u001b[0;34m(\u001b[0m\u001b[0mx\u001b[0m\u001b[0;34m=\u001b[0m\u001b[0mx\u001b[0m\u001b[0;34m,\u001b[0m \u001b[0my\u001b[0m\u001b[0;34m=\u001b[0m\u001b[0my1\u001b[0m\u001b[0;34m,\u001b[0m \u001b[0mpalette\u001b[0m\u001b[0;34m=\u001b[0m\u001b[0;34m\"rocket\"\u001b[0m\u001b[0;34m,\u001b[0m \u001b[0max\u001b[0m\u001b[0;34m=\u001b[0m\u001b[0max1\u001b[0m\u001b[0;34m)\u001b[0m\u001b[0;34m\u001b[0m\u001b[0;34m\u001b[0m\u001b[0m\n\u001b[1;32m      5\u001b[0m \u001b[0max1\u001b[0m\u001b[0;34m.\u001b[0m\u001b[0maxhline\u001b[0m\u001b[0;34m(\u001b[0m\u001b[0;36m0\u001b[0m\u001b[0;34m,\u001b[0m \u001b[0mcolor\u001b[0m\u001b[0;34m=\u001b[0m\u001b[0;34m\"k\"\u001b[0m\u001b[0;34m,\u001b[0m \u001b[0mclip_on\u001b[0m\u001b[0;34m=\u001b[0m\u001b[0;32mFalse\u001b[0m\u001b[0;34m)\u001b[0m\u001b[0;34m\u001b[0m\u001b[0;34m\u001b[0m\u001b[0m\n",
            "\u001b[0;31mTypeError\u001b[0m: unsupported operand type(s) for -: 'str' and 'int'"
          ]
        }
      ]
    },
    {
      "cell_type": "markdown",
      "metadata": {
        "id": "PKjJTQXI3qGI",
        "colab_type": "text"
      },
      "source": [
        "# STRETCH OPTIONS\n",
        "\n",
        "## 1. Animate!\n",
        "\n",
        "- [How to Create Animated Graphs in Python](https://towardsdatascience.com/how-to-create-animated-graphs-in-python-bb619cc2dec1)\n",
        "- Try using [Plotly](https://plot.ly/python/animations/)!\n",
        "- [The Ultimate Day of Chicago Bikeshare](https://chrisluedtke.github.io/divvy-data.html) (Lambda School Data Science student)\n",
        "- [Using Phoebe for animations in Google Colab](https://colab.research.google.com/github/phoebe-project/phoebe2-docs/blob/2.1/tutorials/animations.ipynb)\n",
        "\n",
        "## 2. Study for the Sprint Challenge\n",
        "\n",
        "- Concatenate DataFrames\n",
        "- Merge DataFrames\n",
        "- Reshape data with `pivot_table()` and `.melt()`\n",
        "- Be able to reproduce a FiveThirtyEight graph using Matplotlib or Seaborn.\n",
        "\n",
        "## 3. Work on anything related to your portfolio site / Data Storytelling Project"
      ]
    },
    {
      "cell_type": "code",
      "metadata": {
        "id": "7lLHHhW0z0vf",
        "colab_type": "code",
        "colab": {}
      },
      "source": [
        "# TODO"
      ],
      "execution_count": 0,
      "outputs": []
    }
  ]
}