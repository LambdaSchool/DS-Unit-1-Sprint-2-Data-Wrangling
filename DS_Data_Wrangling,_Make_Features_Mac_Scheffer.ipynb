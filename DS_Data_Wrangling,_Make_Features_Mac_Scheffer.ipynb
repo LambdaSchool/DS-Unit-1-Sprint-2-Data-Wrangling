{
  "nbformat": 4,
  "nbformat_minor": 0,
  "metadata": {
    "colab": {
      "name": "DS: Data Wrangling, Make Features. Mac Scheffer",
      "version": "0.3.2",
      "provenance": [],
      "collapsed_sections": [],
      "toc_visible": true,
      "include_colab_link": true
    },
    "kernelspec": {
      "name": "python3",
      "display_name": "Python 3"
    }
  },
  "cells": [
    {
      "cell_type": "markdown",
      "metadata": {
        "id": "view-in-github",
        "colab_type": "text"
      },
      "source": [
        "<a href=\"https://colab.research.google.com/github/macscheffer/DS-Unit-1-Sprint-2-Data-Wrangling/blob/master/DS_Data_Wrangling%2C_Make_Features_Mac_Scheffer.ipynb\" target=\"_parent\"><img src=\"https://colab.research.google.com/assets/colab-badge.svg\" alt=\"Open In Colab\"/></a>"
      ]
    },
    {
      "metadata": {
        "id": "9etkuLf_whqg",
        "colab_type": "text"
      },
      "cell_type": "markdown",
      "source": [
        ""
      ]
    },
    {
      "metadata": {
        "id": "qacqiXogluN_",
        "colab_type": "text"
      },
      "cell_type": "markdown",
      "source": [
        "_Lambda School Data Science_\n",
        "\n",
        "# Make features\n",
        "\n",
        "Objectives\n",
        "-  understand the purpose of feature engineering\n",
        "-  work with strings in pandas\n",
        "- work with dates and times in pandas\n",
        "\n",
        "Links\n",
        "- [Feature Engineering](https://en.wikipedia.org/wiki/Feature_engineering)\n",
        "- Python Data Science Handbook\n",
        "  - [Chapter 3.10](https://jakevdp.github.io/PythonDataScienceHandbook/03.10-working-with-strings.html), Vectorized String Operations\n",
        "  - [Chapter 3.11](https://jakevdp.github.io/PythonDataScienceHandbook/03.11-working-with-time-series.html), Working with Time Series"
      ]
    },
    {
      "metadata": {
        "id": "iSGiSktAoWIx",
        "colab_type": "text"
      },
      "cell_type": "markdown",
      "source": [
        "## Get LendingClub data\n",
        "\n",
        "[Source](https://www.lendingclub.com/info/download-data.action)"
      ]
    },
    {
      "metadata": {
        "id": "2ugxlWXimoHn",
        "colab_type": "code",
        "outputId": "54a69fc6-6051-4304-cc93-3dd24bba9814",
        "colab": {
          "base_uri": "https://localhost:8080/",
          "height": 223
        }
      },
      "cell_type": "code",
      "source": [
        "!wget https://resources.lendingclub.com/LoanStats_2018Q3.csv.zip"
      ],
      "execution_count": 0,
      "outputs": [
        {
          "output_type": "stream",
          "text": [
            "--2019-01-17 18:54:40--  https://resources.lendingclub.com/LoanStats_2018Q3.csv.zip\n",
            "Resolving resources.lendingclub.com (resources.lendingclub.com)... 64.48.1.20\n",
            "Connecting to resources.lendingclub.com (resources.lendingclub.com)|64.48.1.20|:443... connected.\n",
            "HTTP request sent, awaiting response... 200 OK\n",
            "Length: unspecified [application/zip]\n",
            "Saving to: ‘LoanStats_2018Q3.csv.zip’\n",
            "\n",
            "LoanStats_2018Q3.cs     [         <=>        ]  21.42M  1.68MB/s    in 13s     \n",
            "\n",
            "2019-01-17 18:54:53 (1.66 MB/s) - ‘LoanStats_2018Q3.csv.zip’ saved [22461905]\n",
            "\n"
          ],
          "name": "stdout"
        }
      ]
    },
    {
      "metadata": {
        "id": "-4sk6qPgmpmN",
        "colab_type": "code",
        "outputId": "91433aa7-caab-42a4-fbce-eecb35768763",
        "colab": {
          "base_uri": "https://localhost:8080/",
          "height": 55
        }
      },
      "cell_type": "code",
      "source": [
        "!unzip LoanStats_2018Q3.csv.zip"
      ],
      "execution_count": 0,
      "outputs": [
        {
          "output_type": "stream",
          "text": [
            "Archive:  LoanStats_2018Q3.csv.zip\n",
            "  inflating: LoanStats_2018Q3.csv    \n"
          ],
          "name": "stdout"
        }
      ]
    },
    {
      "metadata": {
        "id": "seh5oNE1nD0X",
        "colab_type": "code",
        "outputId": "df55cce2-6584-438f-a5bb-ff19f7d019e4",
        "colab": {
          "base_uri": "https://localhost:8080/",
          "height": 207
        }
      },
      "cell_type": "code",
      "source": [
        "!head LoanStats_2018Q3.csv"
      ],
      "execution_count": 0,
      "outputs": [
        {
          "output_type": "stream",
          "text": [
            "Notes offered by Prospectus (https://www.lendingclub.com/info/prospectus.action)\n",
            "\"id\",\"member_id\",\"loan_amnt\",\"funded_amnt\",\"funded_amnt_inv\",\"term\",\"int_rate\",\"installment\",\"grade\",\"sub_grade\",\"emp_title\",\"emp_length\",\"home_ownership\",\"annual_inc\",\"verification_status\",\"issue_d\",\"loan_status\",\"pymnt_plan\",\"url\",\"desc\",\"purpose\",\"title\",\"zip_code\",\"addr_state\",\"dti\",\"delinq_2yrs\",\"earliest_cr_line\",\"inq_last_6mths\",\"mths_since_last_delinq\",\"mths_since_last_record\",\"open_acc\",\"pub_rec\",\"revol_bal\",\"revol_util\",\"total_acc\",\"initial_list_status\",\"out_prncp\",\"out_prncp_inv\",\"total_pymnt\",\"total_pymnt_inv\",\"total_rec_prncp\",\"total_rec_int\",\"total_rec_late_fee\",\"recoveries\",\"collection_recovery_fee\",\"last_pymnt_d\",\"last_pymnt_amnt\",\"next_pymnt_d\",\"last_credit_pull_d\",\"collections_12_mths_ex_med\",\"mths_since_last_major_derog\",\"policy_code\",\"application_type\",\"annual_inc_joint\",\"dti_joint\",\"verification_status_joint\",\"acc_now_delinq\",\"tot_coll_amt\",\"tot_cur_bal\",\"open_acc_6m\",\"open_act_il\",\"open_il_12m\",\"open_il_24m\",\"mths_since_rcnt_il\",\"total_bal_il\",\"il_util\",\"open_rv_12m\",\"open_rv_24m\",\"max_bal_bc\",\"all_util\",\"total_rev_hi_lim\",\"inq_fi\",\"total_cu_tl\",\"inq_last_12m\",\"acc_open_past_24mths\",\"avg_cur_bal\",\"bc_open_to_buy\",\"bc_util\",\"chargeoff_within_12_mths\",\"delinq_amnt\",\"mo_sin_old_il_acct\",\"mo_sin_old_rev_tl_op\",\"mo_sin_rcnt_rev_tl_op\",\"mo_sin_rcnt_tl\",\"mort_acc\",\"mths_since_recent_bc\",\"mths_since_recent_bc_dlq\",\"mths_since_recent_inq\",\"mths_since_recent_revol_delinq\",\"num_accts_ever_120_pd\",\"num_actv_bc_tl\",\"num_actv_rev_tl\",\"num_bc_sats\",\"num_bc_tl\",\"num_il_tl\",\"num_op_rev_tl\",\"num_rev_accts\",\"num_rev_tl_bal_gt_0\",\"num_sats\",\"num_tl_120dpd_2m\",\"num_tl_30dpd\",\"num_tl_90g_dpd_24m\",\"num_tl_op_past_12m\",\"pct_tl_nvr_dlq\",\"percent_bc_gt_75\",\"pub_rec_bankruptcies\",\"tax_liens\",\"tot_hi_cred_lim\",\"total_bal_ex_mort\",\"total_bc_limit\",\"total_il_high_credit_limit\",\"revol_bal_joint\",\"sec_app_earliest_cr_line\",\"sec_app_inq_last_6mths\",\"sec_app_mort_acc\",\"sec_app_open_acc\",\"sec_app_revol_util\",\"sec_app_open_act_il\",\"sec_app_num_rev_accts\",\"sec_app_chargeoff_within_12_mths\",\"sec_app_collections_12_mths_ex_med\",\"sec_app_mths_since_last_major_derog\",\"hardship_flag\",\"hardship_type\",\"hardship_reason\",\"hardship_status\",\"deferral_term\",\"hardship_amount\",\"hardship_start_date\",\"hardship_end_date\",\"payment_plan_start_date\",\"hardship_length\",\"hardship_dpd\",\"hardship_loan_status\",\"orig_projected_additional_accrued_interest\",\"hardship_payoff_balance_amount\",\"hardship_last_payment_amount\",\"disbursement_method\",\"debt_settlement_flag\",\"debt_settlement_flag_date\",\"settlement_status\",\"settlement_date\",\"settlement_amount\",\"settlement_percentage\",\"settlement_term\"\n",
            "\"\",\"\",\"20000\",\"20000\",\"20000\",\" 60 months\",\" 17.97%\",\"507.55\",\"D\",\"D1\",\"Motor Vehicle Operator\",\"7 years\",\"RENT\",\"68000\",\"Source Verified\",\"Sep-2018\",\"Current\",\"n\",\"\",\"\",\"debt_consolidation\",\"Debt consolidation\",\"254xx\",\"WV\",\"15.8\",\"0\",\"Feb-2009\",\"1\",\"30\",\"118\",\"11\",\"1\",\"13483\",\"69.1%\",\"26\",\"w\",\"19580.78\",\"19580.78\",\"975.17\",\"975.17\",\"419.22\",\"555.95\",\"0.0\",\"0.0\",\"0.0\",\"Dec-2018\",\"507.55\",\"Jan-2019\",\"Dec-2018\",\"0\",\"\",\"1\",\"Individual\",\"\",\"\",\"\",\"0\",\"0\",\"194908\",\"0\",\"2\",\"0\",\"2\",\"17\",\"45299\",\"93\",\"0\",\"1\",\"9815\",\"86\",\"19500\",\"1\",\"4\",\"2\",\"5\",\"19491\",\"2185\",\"81.8\",\"0\",\"0\",\"115\",\"94\",\"13\",\"7\",\"4\",\"25\",\"\",\"2\",\"30\",\"0\",\"1\",\"3\",\"2\",\"4\",\"11\",\"8\",\"10\",\"3\",\"11\",\"0\",\"0\",\"0\",\"1\",\"92.3\",\"50\",\"1\",\"0\",\"205625\",\"58782\",\"12000\",\"48733\",\"\",\"\",\"\",\"\",\"\",\"\",\"\",\"\",\"\",\"\",\"\",\"N\",\"\",\"\",\"\",\"\",\"\",\"\",\"\",\"\",\"\",\"\",\"\",\"\",\"\",\"\",\"DirectPay\",\"N\",\"\",\"\",\"\",\"\",\"\",\"\"\n",
            "\"\",\"\",\"25000\",\"25000\",\"25000\",\" 60 months\",\" 13.56%\",\"576.02\",\"C\",\"C1\",\"Firefighter\",\"7 years\",\"MORTGAGE\",\"61000\",\"Verified\",\"Sep-2018\",\"Current\",\"n\",\"\",\"\",\"major_purchase\",\"Major purchase\",\"770xx\",\"TX\",\"16.74\",\"0\",\"Jan-2009\",\"0\",\"\",\"\",\"5\",\"0\",\"6299\",\"48.5%\",\"14\",\"w\",\"24109.45\",\"24109.45\",\"1567.98\",\"1567.98\",\"890.55\",\"677.43\",\"0.0\",\"0.0\",\"0.0\",\"Dec-2018\",\"576.02\",\"Jan-2019\",\"Dec-2018\",\"0\",\"\",\"1\",\"Individual\",\"\",\"\",\"\",\"0\",\"0\",\"204007\",\"1\",\"2\",\"0\",\"1\",\"19\",\"13862\",\"37\",\"0\",\"0\",\"0\",\"40\",\"13000\",\"0\",\"7\",\"4\",\"2\",\"40801\",\"1500\",\"0\",\"0\",\"0\",\"54\",\"116\",\"26\",\"3\",\"1\",\"74\",\"\",\"4\",\"\",\"0\",\"0\",\"1\",\"1\",\"2\",\"5\",\"2\",\"8\",\"1\",\"5\",\"0\",\"0\",\"0\",\"1\",\"100\",\"0\",\"0\",\"0\",\"234573\",\"20161\",\"1500\",\"37273\",\"\",\"\",\"\",\"\",\"\",\"\",\"\",\"\",\"\",\"\",\"\",\"N\",\"\",\"\",\"\",\"\",\"\",\"\",\"\",\"\",\"\",\"\",\"\",\"\",\"\",\"\",\"Cash\",\"N\",\"\",\"\",\"\",\"\",\"\",\"\"\n",
            "\"\",\"\",\"30000\",\"30000\",\"30000\",\" 36 months\",\" 18.94%\",\"1098.78\",\"D\",\"D2\",\"\",\"< 1 year\",\"RENT\",\"100000\",\"Source Verified\",\"Sep-2018\",\"Current\",\"n\",\"\",\"\",\"debt_consolidation\",\"Debt consolidation\",\"300xx\",\"GA\",\"16.07\",\"0\",\"Mar-2008\",\"1\",\"\",\"114\",\"6\",\"1\",\"14574\",\"70.1%\",\"9\",\"w\",\"28739.57\",\"28739.57\",\"2134.43\",\"2134.43\",\"1260.43\",\"874.00\",\"0.0\",\"0.0\",\"0.0\",\"Dec-2018\",\"1098.78\",\"Jan-2019\",\"Dec-2018\",\"0\",\"\",\"1\",\"Individual\",\"\",\"\",\"\",\"0\",\"0\",\"44048\",\"1\",\"2\",\"1\",\"1\",\"1\",\"29474\",\"69\",\"1\",\"2\",\"8521\",\"69\",\"20800\",\"1\",\"0\",\"2\",\"3\",\"8810\",\"5226\",\"73.6\",\"0\",\"0\",\"126\",\"104\",\"11\",\"1\",\"0\",\"17\",\"\",\"1\",\"\",\"0\",\"2\",\"2\",\"2\",\"2\",\"4\",\"4\",\"5\",\"2\",\"6\",\"0\",\"0\",\"0\",\"2\",\"100\",\"0\",\"1\",\"0\",\"63636\",\"44048\",\"19800\",\"42836\",\"\",\"\",\"\",\"\",\"\",\"\",\"\",\"\",\"\",\"\",\"\",\"N\",\"\",\"\",\"\",\"\",\"\",\"\",\"\",\"\",\"\",\"\",\"\",\"\",\"\",\"\",\"Cash\",\"N\",\"\",\"\",\"\",\"\",\"\",\"\"\n",
            "\"\",\"\",\"6000\",\"6000\",\"6000\",\" 36 months\",\"  7.84%\",\"187.58\",\"A\",\"A4\",\"\",\"n/a\",\"RENT\",\"30000\",\"Not Verified\",\"Sep-2018\",\"Current\",\"n\",\"\",\"\",\"debt_consolidation\",\"Debt consolidation\",\"923xx\",\"CA\",\"5.44\",\"0\",\"Apr-2000\",\"0\",\"\",\"104\",\"8\",\"1\",\"5936\",\"34.5%\",\"11\",\"w\",\"5702.27\",\"5702.27\",\"369.93\",\"369.93\",\"297.73\",\"72.20\",\"0.0\",\"0.0\",\"0.0\",\"Dec-2018\",\"187.58\",\"Jan-2019\",\"Dec-2018\",\"0\",\"\",\"1\",\"Individual\",\"\",\"\",\"\",\"0\",\"350\",\"5936\",\"0\",\"0\",\"0\",\"1\",\"23\",\"0\",\"\",\"1\",\"4\",\"2913\",\"35\",\"17200\",\"2\",\"0\",\"0\",\"5\",\"848\",\"7698\",\"35.9\",\"0\",\"0\",\"139\",\"221\",\"7\",\"7\",\"0\",\"7\",\"\",\"18\",\"\",\"0\",\"2\",\"3\",\"4\",\"4\",\"2\",\"8\",\"9\",\"3\",\"8\",\"0\",\"0\",\"0\",\"1\",\"100\",\"33.3\",\"1\",\"0\",\"17200\",\"5936\",\"12000\",\"0\",\"\",\"\",\"\",\"\",\"\",\"\",\"\",\"\",\"\",\"\",\"\",\"N\",\"\",\"\",\"\",\"\",\"\",\"\",\"\",\"\",\"\",\"\",\"\",\"\",\"\",\"\",\"DirectPay\",\"N\",\"\",\"\",\"\",\"\",\"\",\"\"\n",
            "\"\",\"\",\"10650\",\"10650\",\"10650\",\" 36 months\",\"  7.84%\",\"332.95\",\"A\",\"A4\",\"\",\"n/a\",\"RENT\",\"28000\",\"Verified\",\"Sep-2018\",\"Current\",\"n\",\"\",\"\",\"medical\",\"Medical expenses\",\"430xx\",\"OH\",\"16.89\",\"0\",\"Nov-2002\",\"0\",\"\",\"\",\"3\",\"0\",\"37\",\"0.3%\",\"3\",\"w\",\"10121.54\",\"10121.54\",\"656.62\",\"656.62\",\"528.46\",\"128.16\",\"0.0\",\"0.0\",\"0.0\",\"Dec-2018\",\"332.95\",\"Jan-2019\",\"Dec-2018\",\"0\",\"\",\"1\",\"Joint App\",\"43000\",\"14.01\",\"Source Verified\",\"0\",\"0\",\"18254\",\"0\",\"1\",\"0\",\"1\",\"16\",\"18217\",\"81\",\"0\",\"0\",\"0\",\"54\",\"11500\",\"1\",\"1\",\"0\",\"1\",\"6085\",\"\",\"\",\"0\",\"0\",\"16\",\"190\",\"113\",\"16\",\"0\",\"\",\"\",\"16\",\"\",\"0\",\"0\",\"1\",\"0\",\"0\",\"1\",\"2\",\"2\",\"2\",\"3\",\"0\",\"0\",\"0\",\"0\",\"100\",\"\",\"0\",\"0\",\"33876\",\"18254\",\"0\",\"22376\",\"2024\",\"Oct-1996\",\"0\",\"0\",\"8\",\"18.7\",\"1\",\"9\",\"0\",\"0\",\"\",\"N\",\"\",\"\",\"\",\"\",\"\",\"\",\"\",\"\",\"\",\"\",\"\",\"\",\"\",\"\",\"Cash\",\"N\",\"\",\"\",\"\",\"\",\"\",\"\"\n",
            "\"\",\"\",\"9000\",\"9000\",\"9000\",\" 36 months\",\"  6.11%\",\"274.25\",\"A\",\"A1\",\"\",\"n/a\",\"OWN\",\"25000\",\"Not Verified\",\"Sep-2018\",\"Current\",\"n\",\"\",\"\",\"credit_card\",\"Credit card refinancing\",\"224xx\",\"VA\",\"12.1\",\"0\",\"Apr-1999\",\"0\",\"56\",\"\",\"6\",\"0\",\"8996\",\"33.8%\",\"18\",\"w\",\"8541.98\",\"8541.98\",\"550.03\",\"550.03\",\"458.02\",\"92.01\",\"0.0\",\"0.0\",\"0.0\",\"Dec-2018\",\"274.25\",\"Jan-2019\",\"Dec-2018\",\"0\",\"56\",\"1\",\"Individual\",\"\",\"\",\"\",\"0\",\"160\",\"8996\",\"0\",\"0\",\"0\",\"0\",\"66\",\"0\",\"\",\"0\",\"1\",\"6920\",\"34\",\"26600\",\"0\",\"0\",\"0\",\"1\",\"1799\",\"13466\",\"35.3\",\"0\",\"0\",\"66\",\"233\",\"14\",\"14\",\"2\",\"77\",\"\",\"14\",\"56\",\"2\",\"2\",\"4\",\"3\",\"4\",\"1\",\"6\",\"15\",\"4\",\"6\",\"0\",\"0\",\"0\",\"0\",\"83.3\",\"0\",\"0\",\"0\",\"26600\",\"8996\",\"20800\",\"0\",\"\",\"\",\"\",\"\",\"\",\"\",\"\",\"\",\"\",\"\",\"\",\"N\",\"\",\"\",\"\",\"\",\"\",\"\",\"\",\"\",\"\",\"\",\"\",\"\",\"\",\"\",\"DirectPay\",\"N\",\"\",\"\",\"\",\"\",\"\",\"\"\n",
            "\"\",\"\",\"20000\",\"20000\",\"20000\",\" 36 months\",\"  6.67%\",\"614.53\",\"A\",\"A2\",\"General Manager\",\"< 1 year\",\"MORTGAGE\",\"125000\",\"Not Verified\",\"Sep-2018\",\"Current\",\"n\",\"\",\"\",\"house\",\"Home buying\",\"750xx\",\"TX\",\"15.55\",\"1\",\"Jul-2003\",\"0\",\"21\",\"\",\"24\",\"0\",\"5832\",\"11.4%\",\"36\",\"w\",\"18990.48\",\"18990.48\",\"1214.24\",\"1214.24\",\"1009.52\",\"204.72\",\"0.0\",\"0.0\",\"0.0\",\"Dec-2018\",\"614.53\",\"Jan-2019\",\"Dec-2018\",\"0\",\"\",\"1\",\"Individual\",\"\",\"\",\"\",\"0\",\"0\",\"63577\",\"2\",\"1\",\"0\",\"1\",\"22\",\"54244\",\"\",\"2\",\"4\",\"3048\",\"17\",\"51100\",\"1\",\"0\",\"6\",\"6\",\"3027\",\"36050\",\"11.9\",\"0\",\"0\",\"148\",\"182\",\"6\",\"6\",\"2\",\"24\",\"21\",\"1\",\"21\",\"0\",\"5\",\"6\",\"16\",\"19\",\"6\",\"22\",\"26\",\"6\",\"24\",\"0\",\"0\",\"0\",\"2\",\"97.2\",\"7.7\",\"0\",\"0\",\"133998\",\"63577\",\"40900\",\"78764\",\"\",\"\",\"\",\"\",\"\",\"\",\"\",\"\",\"\",\"\",\"\",\"N\",\"\",\"\",\"\",\"\",\"\",\"\",\"\",\"\",\"\",\"\",\"\",\"\",\"\",\"\",\"Cash\",\"N\",\"\",\"\",\"\",\"\",\"\",\"\"\n",
            "\"\",\"\",\"20000\",\"20000\",\"20000\",\" 36 months\",\"  7.84%\",\"625.26\",\"A\",\"A4\",\"Teacher\",\"10+ years\",\"MORTGAGE\",\"48186\",\"Not Verified\",\"Sep-2018\",\"Current\",\"n\",\"\",\"\",\"debt_consolidation\",\"Debt consolidation\",\"641xx\",\"MO\",\"24.68\",\"0\",\"Aug-1996\",\"0\",\"\",\"\",\"17\",\"0\",\"23822\",\"58.8%\",\"38\",\"w\",\"18506.50\",\"18506.50\",\"1803.14\",\"1803.14\",\"1493.50\",\"309.64\",\"0.0\",\"0.0\",\"0.0\",\"Dec-2018\",\"625.26\",\"Jan-2019\",\"Dec-2018\",\"0\",\"\",\"1\",\"Individual\",\"\",\"\",\"\",\"0\",\"0\",\"191246\",\"0\",\"9\",\"0\",\"2\",\"16\",\"14800\",\"48\",\"1\",\"1\",\"11800\",\"54\",\"40500\",\"1\",\"0\",\"0\",\"3\",\"11250\",\"13078\",\"57.8\",\"0\",\"0\",\"265\",\"239\",\"8\",\"8\",\"2\",\"8\",\"\",\"16\",\"\",\"0\",\"3\",\"4\",\"6\",\"7\",\"27\",\"7\",\"9\",\"4\",\"17\",\"0\",\"0\",\"0\",\"1\",\"100\",\"16.7\",\"0\",\"0\",\"234182\",\"38622\",\"31000\",\"30832\",\"\",\"\",\"\",\"\",\"\",\"\",\"\",\"\",\"\",\"\",\"\",\"N\",\"\",\"\",\"\",\"\",\"\",\"\",\"\",\"\",\"\",\"\",\"\",\"\",\"\",\"\",\"DirectPay\",\"N\",\"\",\"\",\"\",\"\",\"\",\"\"\n"
          ],
          "name": "stdout"
        }
      ]
    },
    {
      "metadata": {
        "id": "KUSHRmUBTuRu",
        "colab_type": "code",
        "outputId": "c39d4f8b-294a-4037-cb76-c6cd39f8df6f",
        "colab": {
          "base_uri": "https://localhost:8080/",
          "height": 207
        }
      },
      "cell_type": "code",
      "source": [
        "!tail LoanStats_2018Q3.csv"
      ],
      "execution_count": 0,
      "outputs": [
        {
          "output_type": "stream",
          "text": [
            "\"\",\"\",\"12000\",\"12000\",\"12000\",\" 36 months\",\" 14.03%\",\"410.31\",\"C\",\"C2\",\"Medical Support Staff\",\"10+ years\",\"OWN\",\"53414\",\"Source Verified\",\"Jul-2018\",\"Current\",\"n\",\"\",\"\",\"home_improvement\",\"Home improvement\",\"136xx\",\"NY\",\"25.68\",\"0\",\"Mar-1997\",\"0\",\"\",\"\",\"8\",\"0\",\"6527\",\"44.4%\",\"20\",\"w\",\"10618.01\",\"10618.01\",\"2037.52\",\"2037.52\",\"1381.99\",\"655.53\",\"0.0\",\"0.0\",\"0.0\",\"Dec-2018\",\"410.31\",\"Jan-2019\",\"Dec-2018\",\"0\",\"\",\"1\",\"Individual\",\"\",\"\",\"\",\"0\",\"0\",\"29869\",\"0\",\"2\",\"0\",\"2\",\"13\",\"23342\",\"73\",\"0\",\"0\",\"3977\",\"64\",\"14700\",\"1\",\"1\",\"0\",\"2\",\"3734\",\"7173\",\"47.6\",\"0\",\"0\",\"139\",\"255\",\"42\",\"13\",\"0\",\"66\",\"\",\"18\",\"\",\"0\",\"2\",\"2\",\"5\",\"9\",\"8\",\"6\",\"12\",\"2\",\"8\",\"0\",\"0\",\"0\",\"0\",\"100\",\"40\",\"0\",\"0\",\"46792\",\"29869\",\"13700\",\"32092\",\"\",\"\",\"\",\"\",\"\",\"\",\"\",\"\",\"\",\"\",\"\",\"N\",\"\",\"\",\"\",\"\",\"\",\"\",\"\",\"\",\"\",\"\",\"\",\"\",\"\",\"\",\"Cash\",\"N\",\"\",\"\",\"\",\"\",\"\",\"\"\n",
            "\"\",\"\",\"5000\",\"5000\",\"5000\",\" 36 months\",\" 16.46%\",\"176.93\",\"C\",\"C5\",\"Labor Worker\",\"3 years\",\"MORTGAGE\",\"57000\",\"Not Verified\",\"Jul-2018\",\"Current\",\"n\",\"\",\"\",\"debt_consolidation\",\"Debt consolidation\",\"781xx\",\"TX\",\"33.09\",\"0\",\"Jul-2008\",\"0\",\"25\",\"\",\"11\",\"0\",\"7449\",\"41.4%\",\"47\",\"w\",\"4443.20\",\"4443.20\",\"875.51\",\"875.51\",\"556.80\",\"318.71\",\"0.0\",\"0.0\",\"0.0\",\"Dec-2018\",\"176.93\",\"Jan-2019\",\"Dec-2018\",\"0\",\"\",\"1\",\"Individual\",\"\",\"\",\"\",\"0\",\"236\",\"45088\",\"1\",\"5\",\"3\",\"4\",\"7\",\"37639\",\"58\",\"1\",\"2\",\"0\",\"54\",\"18000\",\"3\",\"10\",\"1\",\"6\",\"4099\",\"\",\"\",\"0\",\"0\",\"119\",\"80\",\"1\",\"1\",\"0\",\"\",\"\",\"8\",\"25\",\"0\",\"0\",\"4\",\"0\",\"1\",\"39\",\"6\",\"8\",\"4\",\"11\",\"0\",\"0\",\"0\",\"4\",\"93.6\",\"\",\"0\",\"0\",\"83496\",\"45088\",\"0\",\"65496\",\"\",\"\",\"\",\"\",\"\",\"\",\"\",\"\",\"\",\"\",\"\",\"N\",\"\",\"\",\"\",\"\",\"\",\"\",\"\",\"\",\"\",\"\",\"\",\"\",\"\",\"\",\"Cash\",\"N\",\"\",\"\",\"\",\"\",\"\",\"\"\n",
            "\"\",\"\",\"5000\",\"5000\",\"5000\",\" 36 months\",\"  6.19%\",\"152.55\",\"A\",\"A2\",\"Host/cashier\",\"4 years\",\"RENT\",\"22000\",\"Not Verified\",\"Jul-2018\",\"Current\",\"n\",\"\",\"\",\"credit_card\",\"Credit card refinancing\",\"731xx\",\"OK\",\"11.67\",\"0\",\"Apr-2001\",\"0\",\"\",\"\",\"6\",\"0\",\"7118\",\"23.3%\",\"19\",\"w\",\"4359.64\",\"4359.64\",\"759.31\",\"759.31\",\"640.36\",\"118.95\",\"0.0\",\"0.0\",\"0.0\",\"Dec-2018\",\"152.55\",\"Jan-2019\",\"Dec-2018\",\"0\",\"\",\"1\",\"Individual\",\"\",\"\",\"\",\"0\",\"0\",\"7118\",\"1\",\"0\",\"0\",\"0\",\"127\",\"0\",\"\",\"1\",\"1\",\"3841\",\"23\",\"30500\",\"1\",\"0\",\"0\",\"1\",\"1186\",\"23382\",\"23.3\",\"0\",\"0\",\"168\",\"206\",\"3\",\"3\",\"0\",\"3\",\"\",\"17\",\"\",\"0\",\"3\",\"3\",\"6\",\"10\",\"4\",\"6\",\"15\",\"3\",\"6\",\"0\",\"0\",\"0\",\"1\",\"100\",\"0\",\"0\",\"0\",\"30500\",\"7118\",\"30500\",\"0\",\"\",\"\",\"\",\"\",\"\",\"\",\"\",\"\",\"\",\"\",\"\",\"N\",\"\",\"\",\"\",\"\",\"\",\"\",\"\",\"\",\"\",\"\",\"\",\"\",\"\",\"\",\"Cash\",\"N\",\"\",\"\",\"\",\"\",\"\",\"\"\n",
            "\"\",\"\",\"20000\",\"20000\",\"20000\",\" 36 months\",\" 15.49%\",\"698.12\",\"C\",\"C4\",\"Client manager\",\"10+ years\",\"MORTGAGE\",\"80000\",\"Verified\",\"Jul-2018\",\"Current\",\"n\",\"\",\"\",\"debt_consolidation\",\"Debt consolidation\",\"913xx\",\"CA\",\"22.14\",\"0\",\"Apr-1994\",\"0\",\"43\",\"\",\"27\",\"0\",\"28994\",\"63%\",\"47\",\"w\",\"17742.70\",\"17742.70\",\"3456.18\",\"3456.18\",\"2257.30\",\"1198.88\",\"0.0\",\"0.0\",\"0.0\",\"Dec-2018\",\"698.12\",\"Jan-2019\",\"Dec-2018\",\"0\",\"43\",\"1\",\"Individual\",\"\",\"\",\"\",\"0\",\"0\",\"314886\",\"0\",\"1\",\"0\",\"0\",\"37\",\"15336\",\"61\",\"1\",\"9\",\"5067\",\"64\",\"46000\",\"1\",\"6\",\"0\",\"10\",\"11662\",\"3359\",\"83.8\",\"0\",\"0\",\"129\",\"186\",\"10\",\"10\",\"3\",\"10\",\"43\",\"13\",\"43\",\"3\",\"8\",\"22\",\"8\",\"15\",\"6\",\"24\",\"36\",\"22\",\"27\",\"0\",\"0\",\"0\",\"1\",\"93.6\",\"75\",\"0\",\"0\",\"349879\",\"47229\",\"20700\",\"25295\",\"\",\"\",\"\",\"\",\"\",\"\",\"\",\"\",\"\",\"\",\"\",\"N\",\"\",\"\",\"\",\"\",\"\",\"\",\"\",\"\",\"\",\"\",\"\",\"\",\"\",\"\",\"Cash\",\"N\",\"\",\"\",\"\",\"\",\"\",\"\"\n",
            "\"\",\"\",\"10000\",\"10000\",\"10000\",\" 36 months\",\" 11.05%\",\"327.63\",\"B\",\"B4\",\"Operator\",\"5 years\",\"RENT\",\"60000\",\"Not Verified\",\"Jul-2018\",\"Current\",\"n\",\"\",\"\",\"credit_card\",\"Credit card refinancing\",\"952xx\",\"CA\",\"10.72\",\"0\",\"Apr-2015\",\"0\",\"27\",\"\",\"8\",\"0\",\"2301\",\"28.1%\",\"12\",\"w\",\"8800.60\",\"8800.60\",\"1628.94\",\"1628.94\",\"1199.40\",\"429.54\",\"0.0\",\"0.0\",\"0.0\",\"Dec-2018\",\"327.63\",\"Jan-2019\",\"Dec-2018\",\"0\",\"27\",\"1\",\"Individual\",\"\",\"\",\"\",\"0\",\"0\",\"9572\",\"0\",\"2\",\"1\",\"1\",\"12\",\"7271\",\"60\",\"3\",\"4\",\"1624\",\"47\",\"8200\",\"0\",\"0\",\"1\",\"5\",\"1197\",\"3099\",\"42.6\",\"0\",\"0\",\"34\",\"38\",\"9\",\"9\",\"0\",\"11\",\"\",\"9\",\"\",\"1\",\"3\",\"3\",\"5\",\"6\",\"3\",\"6\",\"8\",\"3\",\"8\",\"0\",\"0\",\"0\",\"4\",\"100\",\"20\",\"0\",\"0\",\"20377\",\"9572\",\"5400\",\"12177\",\"\",\"\",\"\",\"\",\"\",\"\",\"\",\"\",\"\",\"\",\"\",\"N\",\"\",\"\",\"\",\"\",\"\",\"\",\"\",\"\",\"\",\"\",\"\",\"\",\"\",\"\",\"Cash\",\"N\",\"\",\"\",\"\",\"\",\"\",\"\"\n",
            "\"\",\"\",\"4000\",\"4000\",\"4000\",\" 36 months\",\" 16.46%\",\"141.54\",\"C\",\"C5\",\"jewelry\",\"5 years\",\"RENT\",\"9600\",\"Source Verified\",\"Jul-2018\",\"Current\",\"n\",\"\",\"\",\"debt_consolidation\",\"Debt consolidation\",\"925xx\",\"CA\",\"14.5\",\"1\",\"Nov-2014\",\"0\",\"15\",\"\",\"5\",\"0\",\"3545\",\"45.4%\",\"5\",\"w\",\"3554.58\",\"3554.58\",\"700.38\",\"700.38\",\"445.42\",\"254.96\",\"0.0\",\"0.0\",\"0.0\",\"Dec-2018\",\"141.54\",\"Jan-2019\",\"Dec-2018\",\"0\",\"\",\"1\",\"Individual\",\"\",\"\",\"\",\"0\",\"0\",\"3545\",\"1\",\"0\",\"0\",\"0\",\"\",\"0\",\"\",\"1\",\"2\",\"1515\",\"45\",\"7800\",\"0\",\"0\",\"0\",\"2\",\"709\",\"285\",\"84.2\",\"0\",\"0\",\"\",\"43\",\"1\",\"1\",\"0\",\"33\",\"\",\"\",\"15\",\"0\",\"1\",\"3\",\"1\",\"1\",\"0\",\"5\",\"5\",\"3\",\"5\",\"0\",\"0\",\"0\",\"1\",\"80\",\"100\",\"0\",\"0\",\"7800\",\"3545\",\"1800\",\"0\",\"\",\"\",\"\",\"\",\"\",\"\",\"\",\"\",\"\",\"\",\"\",\"N\",\"\",\"\",\"\",\"\",\"\",\"\",\"\",\"\",\"\",\"\",\"\",\"\",\"\",\"\",\"Cash\",\"N\",\"\",\"\",\"\",\"\",\"\",\"\"\n",
            "\n",
            "\n",
            "Total amount funded in policy code 1: 2063142975\n",
            "Total amount funded in policy code 2: 823319310\n"
          ],
          "name": "stdout"
        }
      ]
    },
    {
      "metadata": {
        "id": "3nAIRCZdofrY",
        "colab_type": "text"
      },
      "cell_type": "markdown",
      "source": [
        "## Load LendingClub data"
      ]
    },
    {
      "metadata": {
        "id": "6GJn0y0D59sF",
        "colab_type": "text"
      },
      "cell_type": "markdown",
      "source": [
        "pandas documentation\n",
        "- [`read_csv`](https://pandas.pydata.org/pandas-docs/stable/generated/pandas.read_csv.html)\n",
        "- [`options.display`](https://pandas.pydata.org/pandas-docs/stable/options.html#available-options)"
      ]
    },
    {
      "metadata": {
        "id": "3-8Vn3y6ooBC",
        "colab_type": "code",
        "outputId": "07436483-9216-41f4-d6f4-6ce99c2bc45d",
        "colab": {
          "base_uri": "https://localhost:8080/",
          "height": 93
        }
      },
      "cell_type": "code",
      "source": [
        "import pandas as pd\n",
        "\n",
        "df = pd.read_csv('LoanStats_2018Q3.csv', skiprows=1, skipfooter=2)\n",
        "\n",
        "df.shape"
      ],
      "execution_count": 0,
      "outputs": [
        {
          "output_type": "stream",
          "text": [
            "/usr/local/lib/python3.6/dist-packages/ipykernel_launcher.py:3: ParserWarning: Falling back to the 'python' engine because the 'c' engine does not support skipfooter; you can avoid this warning by specifying engine='python'.\n",
            "  This is separate from the ipykernel package so we can avoid doing imports until\n"
          ],
          "name": "stderr"
        },
        {
          "output_type": "execute_result",
          "data": {
            "text/plain": [
              "(128194, 145)"
            ]
          },
          "metadata": {
            "tags": []
          },
          "execution_count": 4
        }
      ]
    },
    {
      "metadata": {
        "id": "naqWg3C81Xlh",
        "colab_type": "code",
        "colab": {}
      },
      "cell_type": "code",
      "source": [
        "pd.options.display.max_columns = 500\n",
        "pd.options.display.max_rows = 500"
      ],
      "execution_count": 0,
      "outputs": []
    },
    {
      "metadata": {
        "id": "6iGa2K-h1YOR",
        "colab_type": "code",
        "outputId": "af272855-3b11-4335-f0e3-27ffc74775ee",
        "colab": {
          "base_uri": "https://localhost:8080/",
          "height": 36
        }
      },
      "cell_type": "code",
      "source": [
        "df['hardship_payoff_balance_amount'].isnull().sum() / len(df)"
      ],
      "execution_count": 0,
      "outputs": [
        {
          "output_type": "execute_result",
          "data": {
            "text/plain": [
              "0.999898591197716"
            ]
          },
          "metadata": {
            "tags": []
          },
          "execution_count": 6
        }
      ]
    },
    {
      "metadata": {
        "id": "1b5_hMTio2Ly",
        "colab_type": "text"
      },
      "cell_type": "markdown",
      "source": [
        "## Work with strings"
      ]
    },
    {
      "metadata": {
        "id": "arC__wBS5XRn",
        "colab_type": "text"
      },
      "cell_type": "markdown",
      "source": [
        "For machine learning, we usually want to replace strings with numbers"
      ]
    },
    {
      "metadata": {
        "id": "NRgNhbCAm-jG",
        "colab_type": "code",
        "colab": {}
      },
      "cell_type": "code",
      "source": [
        "import numpy as np\n",
        "\n",
        "def all_numeric(df):\n",
        "    return all((df.dtypes==np.number) | \n",
        "               (df.dtypes==bool))\n",
        "\n",
        "def no_nulls(df):\n",
        "    return not any(df.isnull().sum())\n",
        "\n",
        "def ready_for_sklearn(df):\n",
        "    return all_numeric(df) and no_nulls(df)"
      ],
      "execution_count": 0,
      "outputs": []
    },
    {
      "metadata": {
        "id": "nPye8R9WrsaR",
        "colab_type": "code",
        "outputId": "a08aeb94-8b7d-43ee-f9be-da8f740d601e",
        "colab": {
          "base_uri": "https://localhost:8080/",
          "height": 36
        }
      },
      "cell_type": "code",
      "source": [
        "ready_for_sklearn(df)"
      ],
      "execution_count": 0,
      "outputs": [
        {
          "output_type": "execute_result",
          "data": {
            "text/plain": [
              "False"
            ]
          },
          "metadata": {
            "tags": []
          },
          "execution_count": 8
        }
      ]
    },
    {
      "metadata": {
        "id": "YcL6LEkx3O-u",
        "colab_type": "code",
        "outputId": "92987c57-f31e-4563-ba8c-78dd57f1a558",
        "colab": {
          "base_uri": "https://localhost:8080/",
          "height": 36
        }
      },
      "cell_type": "code",
      "source": [
        "all_numeric(df)"
      ],
      "execution_count": 0,
      "outputs": [
        {
          "output_type": "execute_result",
          "data": {
            "text/plain": [
              "False"
            ]
          },
          "metadata": {
            "tags": []
          },
          "execution_count": 9
        }
      ]
    },
    {
      "metadata": {
        "id": "8ARYtpADluD8",
        "colab_type": "text"
      },
      "cell_type": "markdown",
      "source": [
        "We can get info about which columns have a datatype of \"object\" (strings)"
      ]
    },
    {
      "metadata": {
        "id": "WOL7QPVNo3F4",
        "colab_type": "code",
        "outputId": "c14010dd-c6d6-4591-8307-ed2ff6dd6cef",
        "colab": {
          "base_uri": "https://localhost:8080/",
          "height": 805
        }
      },
      "cell_type": "code",
      "source": [
        "df.select_dtypes('object').info()"
      ],
      "execution_count": 0,
      "outputs": [
        {
          "output_type": "stream",
          "text": [
            "<class 'pandas.core.frame.DataFrame'>\n",
            "RangeIndex: 128194 entries, 0 to 128193\n",
            "Data columns (total 37 columns):\n",
            "term                         128194 non-null object\n",
            "int_rate                     128194 non-null object\n",
            "grade                        128194 non-null object\n",
            "sub_grade                    128194 non-null object\n",
            "emp_title                    114757 non-null object\n",
            "emp_length                   117807 non-null object\n",
            "home_ownership               128194 non-null object\n",
            "verification_status          128194 non-null object\n",
            "issue_d                      128194 non-null object\n",
            "loan_status                  128194 non-null object\n",
            "pymnt_plan                   128194 non-null object\n",
            "purpose                      128194 non-null object\n",
            "title                        128194 non-null object\n",
            "zip_code                     128194 non-null object\n",
            "addr_state                   128194 non-null object\n",
            "earliest_cr_line             128194 non-null object\n",
            "revol_util                   128065 non-null object\n",
            "initial_list_status          128194 non-null object\n",
            "last_pymnt_d                 128048 non-null object\n",
            "next_pymnt_d                 123298 non-null object\n",
            "last_credit_pull_d           128190 non-null object\n",
            "application_type             128194 non-null object\n",
            "verification_status_joint    15729 non-null object\n",
            "sec_app_earliest_cr_line     17785 non-null object\n",
            "hardship_flag                128194 non-null object\n",
            "hardship_type                13 non-null object\n",
            "hardship_reason              13 non-null object\n",
            "hardship_status              13 non-null object\n",
            "hardship_start_date          13 non-null object\n",
            "hardship_end_date            13 non-null object\n",
            "payment_plan_start_date      13 non-null object\n",
            "hardship_loan_status         13 non-null object\n",
            "disbursement_method          128194 non-null object\n",
            "debt_settlement_flag         128194 non-null object\n",
            "debt_settlement_flag_date    5 non-null object\n",
            "settlement_status            5 non-null object\n",
            "settlement_date              5 non-null object\n",
            "dtypes: object(37)\n",
            "memory usage: 36.2+ MB\n"
          ],
          "name": "stdout"
        }
      ]
    },
    {
      "metadata": {
        "id": "m1mY5VDh6yir",
        "colab_type": "text"
      },
      "cell_type": "markdown",
      "source": [
        "### Convert `int_rate`"
      ]
    },
    {
      "metadata": {
        "id": "-gE7YmLWv2S7",
        "colab_type": "code",
        "outputId": "474d2fdc-48c0-41e3-c53a-1c01b191748a",
        "colab": {
          "base_uri": "https://localhost:8080/",
          "height": 55
        }
      },
      "cell_type": "code",
      "source": [
        "df.int_rate.head().values"
      ],
      "execution_count": 0,
      "outputs": [
        {
          "output_type": "execute_result",
          "data": {
            "text/plain": [
              "array([' 17.97%', ' 13.56%', ' 18.94%', '  7.84%', '  7.84%'],\n",
              "      dtype=object)"
            ]
          },
          "metadata": {
            "tags": []
          },
          "execution_count": 11
        }
      ]
    },
    {
      "metadata": {
        "id": "OeK2BaYVNmMn",
        "colab_type": "text"
      },
      "cell_type": "markdown",
      "source": [
        "Define a function to remove percent signs from strings and convert to floats"
      ]
    },
    {
      "metadata": {
        "id": "gXF3kQRY5zwE",
        "colab_type": "code",
        "colab": {}
      },
      "cell_type": "code",
      "source": [
        "def remove_percent(string):\n",
        "    return float(string.strip('%'))/100"
      ],
      "execution_count": 0,
      "outputs": []
    },
    {
      "metadata": {
        "id": "NkQHMGVOZ5Re",
        "colab_type": "text"
      },
      "cell_type": "markdown",
      "source": [
        "Apply the function to the `int_rate` column"
      ]
    },
    {
      "metadata": {
        "id": "Y8MqCBissw7T",
        "colab_type": "code",
        "colab": {}
      },
      "cell_type": "code",
      "source": [
        "df['int_rate'] = df['int_rate'].apply(remove_percent)"
      ],
      "execution_count": 0,
      "outputs": []
    },
    {
      "metadata": {
        "id": "LkF5IxLX6JJw",
        "colab_type": "code",
        "outputId": "cc68a859-d64c-4348-fe3e-6d6b0891d846",
        "colab": {
          "base_uri": "https://localhost:8080/",
          "height": 130
        }
      },
      "cell_type": "code",
      "source": [
        "df['int_rate'].head()"
      ],
      "execution_count": 0,
      "outputs": [
        {
          "output_type": "execute_result",
          "data": {
            "text/plain": [
              "0    0.1797\n",
              "1    0.1356\n",
              "2    0.1894\n",
              "3    0.0784\n",
              "4    0.0784\n",
              "Name: int_rate, dtype: float64"
            ]
          },
          "metadata": {
            "tags": []
          },
          "execution_count": 15
        }
      ]
    },
    {
      "metadata": {
        "id": "c_X3PxjM6-rc",
        "colab_type": "text"
      },
      "cell_type": "markdown",
      "source": [
        "### Clean `emp_title`"
      ]
    },
    {
      "metadata": {
        "id": "FirzP2i273My",
        "colab_type": "text"
      },
      "cell_type": "markdown",
      "source": [
        "Look at top 20 titles"
      ]
    },
    {
      "metadata": {
        "id": "aKGq7dZ2tKR6",
        "colab_type": "code",
        "outputId": "ff35cafa-a259-4ec2-ce1f-6ef6ad7ee4c5",
        "colab": {
          "base_uri": "https://localhost:8080/",
          "height": 411
        }
      },
      "cell_type": "code",
      "source": [
        "df['emp_title'].value_counts().head(20)"
      ],
      "execution_count": 0,
      "outputs": [
        {
          "output_type": "execute_result",
          "data": {
            "text/plain": [
              "Teacher               2294\n",
              "Manager               2075\n",
              "Owner                 1231\n",
              "Driver                1089\n",
              "Registered Nurse       944\n",
              "Supervisor             810\n",
              "RN                     757\n",
              "Sales                  726\n",
              "Project Manager        637\n",
              "General Manager        548\n",
              "Office Manager         542\n",
              "Director               482\n",
              "owner                  398\n",
              "Engineer               383\n",
              "Truck Driver           367\n",
              "Operations Manager     366\n",
              "President              350\n",
              "Sales Manager          323\n",
              "Supervisor             321\n",
              "Server                 319\n",
              "Name: emp_title, dtype: int64"
            ]
          },
          "metadata": {
            "tags": []
          },
          "execution_count": 16
        }
      ]
    },
    {
      "metadata": {
        "id": "X_aumFyc7f8k",
        "colab_type": "code",
        "outputId": "0818d65e-95e1-42c6-b923-019f923a617e",
        "colab": {
          "base_uri": "https://localhost:8080/",
          "height": 130
        }
      },
      "cell_type": "code",
      "source": [
        "df['emp_title'].value_counts().head(20).index"
      ],
      "execution_count": 0,
      "outputs": [
        {
          "output_type": "execute_result",
          "data": {
            "text/plain": [
              "Index(['Teacher', 'Manager', 'Owner', 'Driver', 'Registered Nurse',\n",
              "       'Supervisor', 'RN', 'Sales', 'Project Manager', 'General Manager',\n",
              "       'Office Manager', 'Director', 'owner', 'Engineer', 'Truck Driver',\n",
              "       'Operations Manager', 'President', 'Sales Manager', 'Supervisor ',\n",
              "       'Server'],\n",
              "      dtype='object')"
            ]
          },
          "metadata": {
            "tags": []
          },
          "execution_count": 17
        }
      ]
    },
    {
      "metadata": {
        "id": "SFMSgs2NOg3W",
        "colab_type": "text"
      },
      "cell_type": "markdown",
      "source": [
        "How often is `emp_title` null?"
      ]
    },
    {
      "metadata": {
        "id": "n2j6JCXdOcBl",
        "colab_type": "code",
        "outputId": "7e6e8ac1-0574-4657-bdab-df5891dd09d9",
        "colab": {
          "base_uri": "https://localhost:8080/",
          "height": 36
        }
      },
      "cell_type": "code",
      "source": [
        "df['emp_title'].isnull().sum()"
      ],
      "execution_count": 0,
      "outputs": [
        {
          "output_type": "execute_result",
          "data": {
            "text/plain": [
              "13437"
            ]
          },
          "metadata": {
            "tags": []
          },
          "execution_count": 18
        }
      ]
    },
    {
      "metadata": {
        "id": "4krE3uwK7-vs",
        "colab_type": "text"
      },
      "cell_type": "markdown",
      "source": [
        "Clean the title and handle missing values"
      ]
    },
    {
      "metadata": {
        "id": "usnWwZlztln7",
        "colab_type": "code",
        "outputId": "3ec1152c-3313-420b-b879-5c210d14d29b",
        "colab": {
          "base_uri": "https://localhost:8080/",
          "height": 92
        }
      },
      "cell_type": "code",
      "source": [
        "examples = ['owner', 'Supervisor ', \n",
        "            ' Project manager', np.nan]\n",
        "\n",
        "def clean_title(x):\n",
        "    if isinstance(x, str):        \n",
        "        return x.strip().title()\n",
        "    else:\n",
        "        return 'Unknown'\n",
        "\n",
        "for example in examples:\n",
        "    print(clean_title(example))"
      ],
      "execution_count": 0,
      "outputs": [
        {
          "output_type": "stream",
          "text": [
            "Owner\n",
            "Supervisor\n",
            "Project Manager\n",
            "Unknown\n"
          ],
          "name": "stdout"
        }
      ]
    },
    {
      "metadata": {
        "id": "OkOltpIV87eP",
        "colab_type": "code",
        "colab": {}
      },
      "cell_type": "code",
      "source": [
        "df['emp_title'] = df['emp_title'].apply(clean_title)"
      ],
      "execution_count": 0,
      "outputs": []
    },
    {
      "metadata": {
        "id": "wLWm4x1P_ujt",
        "colab_type": "code",
        "outputId": "b6baa1b5-c24d-4155-f421-caa1e8dd89e9",
        "colab": {
          "base_uri": "https://localhost:8080/",
          "height": 411
        }
      },
      "cell_type": "code",
      "source": [
        "df['emp_title'].value_counts().head(20)"
      ],
      "execution_count": 0,
      "outputs": [
        {
          "output_type": "execute_result",
          "data": {
            "text/plain": [
              "Unknown                     13437\n",
              "Teacher                      2843\n",
              "Manager                      2749\n",
              "Owner                        1856\n",
              "Driver                       1498\n",
              "Registered Nurse             1386\n",
              "Supervisor                   1345\n",
              "Sales                         980\n",
              "Truck Driver                  921\n",
              "Rn                            905\n",
              "Office Manager                846\n",
              "Project Manager               835\n",
              "General Manager               809\n",
              "Director                      585\n",
              "Operations Manager            516\n",
              "Sales Manager                 510\n",
              "Engineer                      474\n",
              "Administrative Assistant      466\n",
              "Store Manager                 466\n",
              "President                     464\n",
              "Name: emp_title, dtype: int64"
            ]
          },
          "metadata": {
            "tags": []
          },
          "execution_count": 21
        }
      ]
    },
    {
      "metadata": {
        "id": "oyz4mcqn7EOU",
        "colab_type": "text"
      },
      "cell_type": "markdown",
      "source": [
        "### Create `emp_title_manager`\n",
        "\n",
        "pandas documentation: [`str.contains`](https://pandas.pydata.org/pandas-docs/stable/generated/pandas.Series.str.contains.html)"
      ]
    },
    {
      "metadata": {
        "id": "iX6p6MQWvieC",
        "colab_type": "code",
        "colab": {}
      },
      "cell_type": "code",
      "source": [
        "# Boolean column, True if `emp_title` contains 'Manager',\n",
        "# otherwise False"
      ],
      "execution_count": 0,
      "outputs": []
    },
    {
      "metadata": {
        "id": "b1OsSNKdAVnO",
        "colab_type": "code",
        "colab": {}
      },
      "cell_type": "code",
      "source": [
        "df['emp_title_manager'] = df['emp_title'].str.contains('Manager')"
      ],
      "execution_count": 0,
      "outputs": []
    },
    {
      "metadata": {
        "id": "6hMnE4QMEz8P",
        "colab_type": "code",
        "outputId": "08976654-d5c7-49d8-ff16-a07aa35c7021",
        "colab": {
          "base_uri": "https://localhost:8080/",
          "height": 73
        }
      },
      "cell_type": "code",
      "source": [
        "df['emp_title_manager'].value_counts()"
      ],
      "execution_count": 0,
      "outputs": [
        {
          "output_type": "execute_result",
          "data": {
            "text/plain": [
              "False    109498\n",
              "True      18696\n",
              "Name: emp_title_manager, dtype: int64"
            ]
          },
          "metadata": {
            "tags": []
          },
          "execution_count": 23
        }
      ]
    },
    {
      "metadata": {
        "id": "-3MaHKnBFClS",
        "colab_type": "code",
        "outputId": "3ebd5bcd-aa58-4a5b-f1ce-60310c10f2e7",
        "colab": {
          "base_uri": "https://localhost:8080/",
          "height": 330
        }
      },
      "cell_type": "code",
      "source": [
        "df.head()"
      ],
      "execution_count": 0,
      "outputs": [
        {
          "output_type": "execute_result",
          "data": {
            "text/html": [
              "<div>\n",
              "<style scoped>\n",
              "    .dataframe tbody tr th:only-of-type {\n",
              "        vertical-align: middle;\n",
              "    }\n",
              "\n",
              "    .dataframe tbody tr th {\n",
              "        vertical-align: top;\n",
              "    }\n",
              "\n",
              "    .dataframe thead th {\n",
              "        text-align: right;\n",
              "    }\n",
              "</style>\n",
              "<table border=\"1\" class=\"dataframe\">\n",
              "  <thead>\n",
              "    <tr style=\"text-align: right;\">\n",
              "      <th></th>\n",
              "      <th>id</th>\n",
              "      <th>member_id</th>\n",
              "      <th>loan_amnt</th>\n",
              "      <th>funded_amnt</th>\n",
              "      <th>funded_amnt_inv</th>\n",
              "      <th>term</th>\n",
              "      <th>int_rate</th>\n",
              "      <th>installment</th>\n",
              "      <th>grade</th>\n",
              "      <th>sub_grade</th>\n",
              "      <th>emp_title</th>\n",
              "      <th>emp_length</th>\n",
              "      <th>home_ownership</th>\n",
              "      <th>annual_inc</th>\n",
              "      <th>verification_status</th>\n",
              "      <th>issue_d</th>\n",
              "      <th>loan_status</th>\n",
              "      <th>pymnt_plan</th>\n",
              "      <th>url</th>\n",
              "      <th>desc</th>\n",
              "      <th>purpose</th>\n",
              "      <th>title</th>\n",
              "      <th>zip_code</th>\n",
              "      <th>addr_state</th>\n",
              "      <th>dti</th>\n",
              "      <th>delinq_2yrs</th>\n",
              "      <th>earliest_cr_line</th>\n",
              "      <th>inq_last_6mths</th>\n",
              "      <th>mths_since_last_delinq</th>\n",
              "      <th>mths_since_last_record</th>\n",
              "      <th>open_acc</th>\n",
              "      <th>pub_rec</th>\n",
              "      <th>revol_bal</th>\n",
              "      <th>revol_util</th>\n",
              "      <th>total_acc</th>\n",
              "      <th>initial_list_status</th>\n",
              "      <th>out_prncp</th>\n",
              "      <th>out_prncp_inv</th>\n",
              "      <th>total_pymnt</th>\n",
              "      <th>total_pymnt_inv</th>\n",
              "      <th>total_rec_prncp</th>\n",
              "      <th>total_rec_int</th>\n",
              "      <th>total_rec_late_fee</th>\n",
              "      <th>recoveries</th>\n",
              "      <th>collection_recovery_fee</th>\n",
              "      <th>last_pymnt_d</th>\n",
              "      <th>last_pymnt_amnt</th>\n",
              "      <th>next_pymnt_d</th>\n",
              "      <th>last_credit_pull_d</th>\n",
              "      <th>collections_12_mths_ex_med</th>\n",
              "      <th>mths_since_last_major_derog</th>\n",
              "      <th>policy_code</th>\n",
              "      <th>application_type</th>\n",
              "      <th>annual_inc_joint</th>\n",
              "      <th>dti_joint</th>\n",
              "      <th>verification_status_joint</th>\n",
              "      <th>acc_now_delinq</th>\n",
              "      <th>tot_coll_amt</th>\n",
              "      <th>tot_cur_bal</th>\n",
              "      <th>open_acc_6m</th>\n",
              "      <th>open_act_il</th>\n",
              "      <th>open_il_12m</th>\n",
              "      <th>open_il_24m</th>\n",
              "      <th>mths_since_rcnt_il</th>\n",
              "      <th>total_bal_il</th>\n",
              "      <th>il_util</th>\n",
              "      <th>open_rv_12m</th>\n",
              "      <th>open_rv_24m</th>\n",
              "      <th>max_bal_bc</th>\n",
              "      <th>all_util</th>\n",
              "      <th>total_rev_hi_lim</th>\n",
              "      <th>inq_fi</th>\n",
              "      <th>total_cu_tl</th>\n",
              "      <th>inq_last_12m</th>\n",
              "      <th>acc_open_past_24mths</th>\n",
              "      <th>avg_cur_bal</th>\n",
              "      <th>bc_open_to_buy</th>\n",
              "      <th>bc_util</th>\n",
              "      <th>chargeoff_within_12_mths</th>\n",
              "      <th>delinq_amnt</th>\n",
              "      <th>mo_sin_old_il_acct</th>\n",
              "      <th>mo_sin_old_rev_tl_op</th>\n",
              "      <th>mo_sin_rcnt_rev_tl_op</th>\n",
              "      <th>mo_sin_rcnt_tl</th>\n",
              "      <th>mort_acc</th>\n",
              "      <th>mths_since_recent_bc</th>\n",
              "      <th>mths_since_recent_bc_dlq</th>\n",
              "      <th>mths_since_recent_inq</th>\n",
              "      <th>mths_since_recent_revol_delinq</th>\n",
              "      <th>num_accts_ever_120_pd</th>\n",
              "      <th>num_actv_bc_tl</th>\n",
              "      <th>num_actv_rev_tl</th>\n",
              "      <th>num_bc_sats</th>\n",
              "      <th>num_bc_tl</th>\n",
              "      <th>num_il_tl</th>\n",
              "      <th>num_op_rev_tl</th>\n",
              "      <th>num_rev_accts</th>\n",
              "      <th>num_rev_tl_bal_gt_0</th>\n",
              "      <th>num_sats</th>\n",
              "      <th>num_tl_120dpd_2m</th>\n",
              "      <th>num_tl_30dpd</th>\n",
              "      <th>num_tl_90g_dpd_24m</th>\n",
              "      <th>num_tl_op_past_12m</th>\n",
              "      <th>pct_tl_nvr_dlq</th>\n",
              "      <th>percent_bc_gt_75</th>\n",
              "      <th>pub_rec_bankruptcies</th>\n",
              "      <th>tax_liens</th>\n",
              "      <th>tot_hi_cred_lim</th>\n",
              "      <th>total_bal_ex_mort</th>\n",
              "      <th>total_bc_limit</th>\n",
              "      <th>total_il_high_credit_limit</th>\n",
              "      <th>revol_bal_joint</th>\n",
              "      <th>sec_app_earliest_cr_line</th>\n",
              "      <th>sec_app_inq_last_6mths</th>\n",
              "      <th>sec_app_mort_acc</th>\n",
              "      <th>sec_app_open_acc</th>\n",
              "      <th>sec_app_revol_util</th>\n",
              "      <th>sec_app_open_act_il</th>\n",
              "      <th>sec_app_num_rev_accts</th>\n",
              "      <th>sec_app_chargeoff_within_12_mths</th>\n",
              "      <th>sec_app_collections_12_mths_ex_med</th>\n",
              "      <th>sec_app_mths_since_last_major_derog</th>\n",
              "      <th>hardship_flag</th>\n",
              "      <th>hardship_type</th>\n",
              "      <th>hardship_reason</th>\n",
              "      <th>hardship_status</th>\n",
              "      <th>deferral_term</th>\n",
              "      <th>hardship_amount</th>\n",
              "      <th>hardship_start_date</th>\n",
              "      <th>hardship_end_date</th>\n",
              "      <th>payment_plan_start_date</th>\n",
              "      <th>hardship_length</th>\n",
              "      <th>hardship_dpd</th>\n",
              "      <th>hardship_loan_status</th>\n",
              "      <th>orig_projected_additional_accrued_interest</th>\n",
              "      <th>hardship_payoff_balance_amount</th>\n",
              "      <th>hardship_last_payment_amount</th>\n",
              "      <th>disbursement_method</th>\n",
              "      <th>debt_settlement_flag</th>\n",
              "      <th>debt_settlement_flag_date</th>\n",
              "      <th>settlement_status</th>\n",
              "      <th>settlement_date</th>\n",
              "      <th>settlement_amount</th>\n",
              "      <th>settlement_percentage</th>\n",
              "      <th>settlement_term</th>\n",
              "      <th>emp_title_manager</th>\n",
              "    </tr>\n",
              "  </thead>\n",
              "  <tbody>\n",
              "    <tr>\n",
              "      <th>0</th>\n",
              "      <td>NaN</td>\n",
              "      <td>NaN</td>\n",
              "      <td>20000</td>\n",
              "      <td>20000</td>\n",
              "      <td>20000</td>\n",
              "      <td>60 months</td>\n",
              "      <td>0.1797</td>\n",
              "      <td>507.55</td>\n",
              "      <td>D</td>\n",
              "      <td>D1</td>\n",
              "      <td>Motor Vehicle Operator</td>\n",
              "      <td>7 years</td>\n",
              "      <td>RENT</td>\n",
              "      <td>68000.0</td>\n",
              "      <td>Source Verified</td>\n",
              "      <td>Sep-2018</td>\n",
              "      <td>Current</td>\n",
              "      <td>n</td>\n",
              "      <td>NaN</td>\n",
              "      <td>NaN</td>\n",
              "      <td>debt_consolidation</td>\n",
              "      <td>Debt consolidation</td>\n",
              "      <td>254xx</td>\n",
              "      <td>WV</td>\n",
              "      <td>15.80</td>\n",
              "      <td>0</td>\n",
              "      <td>Feb-2009</td>\n",
              "      <td>1</td>\n",
              "      <td>30.0</td>\n",
              "      <td>118.0</td>\n",
              "      <td>11</td>\n",
              "      <td>1</td>\n",
              "      <td>13483</td>\n",
              "      <td>69.1%</td>\n",
              "      <td>26</td>\n",
              "      <td>w</td>\n",
              "      <td>19580.78</td>\n",
              "      <td>19580.78</td>\n",
              "      <td>975.17</td>\n",
              "      <td>975.17</td>\n",
              "      <td>419.22</td>\n",
              "      <td>555.95</td>\n",
              "      <td>0.0</td>\n",
              "      <td>0.0</td>\n",
              "      <td>0.0</td>\n",
              "      <td>Dec-2018</td>\n",
              "      <td>507.55</td>\n",
              "      <td>Jan-2019</td>\n",
              "      <td>Dec-2018</td>\n",
              "      <td>0</td>\n",
              "      <td>NaN</td>\n",
              "      <td>1</td>\n",
              "      <td>Individual</td>\n",
              "      <td>NaN</td>\n",
              "      <td>NaN</td>\n",
              "      <td>NaN</td>\n",
              "      <td>0</td>\n",
              "      <td>0</td>\n",
              "      <td>194908</td>\n",
              "      <td>0</td>\n",
              "      <td>2</td>\n",
              "      <td>0</td>\n",
              "      <td>2</td>\n",
              "      <td>17.0</td>\n",
              "      <td>45299</td>\n",
              "      <td>93.0</td>\n",
              "      <td>0</td>\n",
              "      <td>1</td>\n",
              "      <td>9815</td>\n",
              "      <td>86.0</td>\n",
              "      <td>19500</td>\n",
              "      <td>1</td>\n",
              "      <td>4</td>\n",
              "      <td>2</td>\n",
              "      <td>5</td>\n",
              "      <td>19491.0</td>\n",
              "      <td>2185.0</td>\n",
              "      <td>81.8</td>\n",
              "      <td>0</td>\n",
              "      <td>0</td>\n",
              "      <td>115.0</td>\n",
              "      <td>94</td>\n",
              "      <td>13</td>\n",
              "      <td>7</td>\n",
              "      <td>4</td>\n",
              "      <td>25.0</td>\n",
              "      <td>NaN</td>\n",
              "      <td>2.0</td>\n",
              "      <td>30.0</td>\n",
              "      <td>0</td>\n",
              "      <td>1</td>\n",
              "      <td>3</td>\n",
              "      <td>2</td>\n",
              "      <td>4</td>\n",
              "      <td>11</td>\n",
              "      <td>8</td>\n",
              "      <td>10</td>\n",
              "      <td>3</td>\n",
              "      <td>11</td>\n",
              "      <td>0.0</td>\n",
              "      <td>0</td>\n",
              "      <td>0</td>\n",
              "      <td>1</td>\n",
              "      <td>92.3</td>\n",
              "      <td>50.0</td>\n",
              "      <td>1</td>\n",
              "      <td>0</td>\n",
              "      <td>205625</td>\n",
              "      <td>58782</td>\n",
              "      <td>12000</td>\n",
              "      <td>48733</td>\n",
              "      <td>NaN</td>\n",
              "      <td>NaN</td>\n",
              "      <td>NaN</td>\n",
              "      <td>NaN</td>\n",
              "      <td>NaN</td>\n",
              "      <td>NaN</td>\n",
              "      <td>NaN</td>\n",
              "      <td>NaN</td>\n",
              "      <td>NaN</td>\n",
              "      <td>NaN</td>\n",
              "      <td>NaN</td>\n",
              "      <td>N</td>\n",
              "      <td>NaN</td>\n",
              "      <td>NaN</td>\n",
              "      <td>NaN</td>\n",
              "      <td>NaN</td>\n",
              "      <td>NaN</td>\n",
              "      <td>NaN</td>\n",
              "      <td>NaN</td>\n",
              "      <td>NaN</td>\n",
              "      <td>NaN</td>\n",
              "      <td>NaN</td>\n",
              "      <td>NaN</td>\n",
              "      <td>NaN</td>\n",
              "      <td>NaN</td>\n",
              "      <td>NaN</td>\n",
              "      <td>DirectPay</td>\n",
              "      <td>N</td>\n",
              "      <td>NaN</td>\n",
              "      <td>NaN</td>\n",
              "      <td>NaN</td>\n",
              "      <td>NaN</td>\n",
              "      <td>NaN</td>\n",
              "      <td>NaN</td>\n",
              "      <td>False</td>\n",
              "    </tr>\n",
              "    <tr>\n",
              "      <th>1</th>\n",
              "      <td>NaN</td>\n",
              "      <td>NaN</td>\n",
              "      <td>25000</td>\n",
              "      <td>25000</td>\n",
              "      <td>25000</td>\n",
              "      <td>60 months</td>\n",
              "      <td>0.1356</td>\n",
              "      <td>576.02</td>\n",
              "      <td>C</td>\n",
              "      <td>C1</td>\n",
              "      <td>Firefighter</td>\n",
              "      <td>7 years</td>\n",
              "      <td>MORTGAGE</td>\n",
              "      <td>61000.0</td>\n",
              "      <td>Verified</td>\n",
              "      <td>Sep-2018</td>\n",
              "      <td>Current</td>\n",
              "      <td>n</td>\n",
              "      <td>NaN</td>\n",
              "      <td>NaN</td>\n",
              "      <td>major_purchase</td>\n",
              "      <td>Major purchase</td>\n",
              "      <td>770xx</td>\n",
              "      <td>TX</td>\n",
              "      <td>16.74</td>\n",
              "      <td>0</td>\n",
              "      <td>Jan-2009</td>\n",
              "      <td>0</td>\n",
              "      <td>NaN</td>\n",
              "      <td>NaN</td>\n",
              "      <td>5</td>\n",
              "      <td>0</td>\n",
              "      <td>6299</td>\n",
              "      <td>48.5%</td>\n",
              "      <td>14</td>\n",
              "      <td>w</td>\n",
              "      <td>24109.45</td>\n",
              "      <td>24109.45</td>\n",
              "      <td>1567.98</td>\n",
              "      <td>1567.98</td>\n",
              "      <td>890.55</td>\n",
              "      <td>677.43</td>\n",
              "      <td>0.0</td>\n",
              "      <td>0.0</td>\n",
              "      <td>0.0</td>\n",
              "      <td>Dec-2018</td>\n",
              "      <td>576.02</td>\n",
              "      <td>Jan-2019</td>\n",
              "      <td>Dec-2018</td>\n",
              "      <td>0</td>\n",
              "      <td>NaN</td>\n",
              "      <td>1</td>\n",
              "      <td>Individual</td>\n",
              "      <td>NaN</td>\n",
              "      <td>NaN</td>\n",
              "      <td>NaN</td>\n",
              "      <td>0</td>\n",
              "      <td>0</td>\n",
              "      <td>204007</td>\n",
              "      <td>1</td>\n",
              "      <td>2</td>\n",
              "      <td>0</td>\n",
              "      <td>1</td>\n",
              "      <td>19.0</td>\n",
              "      <td>13862</td>\n",
              "      <td>37.0</td>\n",
              "      <td>0</td>\n",
              "      <td>0</td>\n",
              "      <td>0</td>\n",
              "      <td>40.0</td>\n",
              "      <td>13000</td>\n",
              "      <td>0</td>\n",
              "      <td>7</td>\n",
              "      <td>4</td>\n",
              "      <td>2</td>\n",
              "      <td>40801.0</td>\n",
              "      <td>1500.0</td>\n",
              "      <td>0.0</td>\n",
              "      <td>0</td>\n",
              "      <td>0</td>\n",
              "      <td>54.0</td>\n",
              "      <td>116</td>\n",
              "      <td>26</td>\n",
              "      <td>3</td>\n",
              "      <td>1</td>\n",
              "      <td>74.0</td>\n",
              "      <td>NaN</td>\n",
              "      <td>4.0</td>\n",
              "      <td>NaN</td>\n",
              "      <td>0</td>\n",
              "      <td>0</td>\n",
              "      <td>1</td>\n",
              "      <td>1</td>\n",
              "      <td>2</td>\n",
              "      <td>5</td>\n",
              "      <td>2</td>\n",
              "      <td>8</td>\n",
              "      <td>1</td>\n",
              "      <td>5</td>\n",
              "      <td>0.0</td>\n",
              "      <td>0</td>\n",
              "      <td>0</td>\n",
              "      <td>1</td>\n",
              "      <td>100.0</td>\n",
              "      <td>0.0</td>\n",
              "      <td>0</td>\n",
              "      <td>0</td>\n",
              "      <td>234573</td>\n",
              "      <td>20161</td>\n",
              "      <td>1500</td>\n",
              "      <td>37273</td>\n",
              "      <td>NaN</td>\n",
              "      <td>NaN</td>\n",
              "      <td>NaN</td>\n",
              "      <td>NaN</td>\n",
              "      <td>NaN</td>\n",
              "      <td>NaN</td>\n",
              "      <td>NaN</td>\n",
              "      <td>NaN</td>\n",
              "      <td>NaN</td>\n",
              "      <td>NaN</td>\n",
              "      <td>NaN</td>\n",
              "      <td>N</td>\n",
              "      <td>NaN</td>\n",
              "      <td>NaN</td>\n",
              "      <td>NaN</td>\n",
              "      <td>NaN</td>\n",
              "      <td>NaN</td>\n",
              "      <td>NaN</td>\n",
              "      <td>NaN</td>\n",
              "      <td>NaN</td>\n",
              "      <td>NaN</td>\n",
              "      <td>NaN</td>\n",
              "      <td>NaN</td>\n",
              "      <td>NaN</td>\n",
              "      <td>NaN</td>\n",
              "      <td>NaN</td>\n",
              "      <td>Cash</td>\n",
              "      <td>N</td>\n",
              "      <td>NaN</td>\n",
              "      <td>NaN</td>\n",
              "      <td>NaN</td>\n",
              "      <td>NaN</td>\n",
              "      <td>NaN</td>\n",
              "      <td>NaN</td>\n",
              "      <td>False</td>\n",
              "    </tr>\n",
              "    <tr>\n",
              "      <th>2</th>\n",
              "      <td>NaN</td>\n",
              "      <td>NaN</td>\n",
              "      <td>30000</td>\n",
              "      <td>30000</td>\n",
              "      <td>30000</td>\n",
              "      <td>36 months</td>\n",
              "      <td>0.1894</td>\n",
              "      <td>1098.78</td>\n",
              "      <td>D</td>\n",
              "      <td>D2</td>\n",
              "      <td>Unknown</td>\n",
              "      <td>&lt; 1 year</td>\n",
              "      <td>RENT</td>\n",
              "      <td>100000.0</td>\n",
              "      <td>Source Verified</td>\n",
              "      <td>Sep-2018</td>\n",
              "      <td>Current</td>\n",
              "      <td>n</td>\n",
              "      <td>NaN</td>\n",
              "      <td>NaN</td>\n",
              "      <td>debt_consolidation</td>\n",
              "      <td>Debt consolidation</td>\n",
              "      <td>300xx</td>\n",
              "      <td>GA</td>\n",
              "      <td>16.07</td>\n",
              "      <td>0</td>\n",
              "      <td>Mar-2008</td>\n",
              "      <td>1</td>\n",
              "      <td>NaN</td>\n",
              "      <td>114.0</td>\n",
              "      <td>6</td>\n",
              "      <td>1</td>\n",
              "      <td>14574</td>\n",
              "      <td>70.1%</td>\n",
              "      <td>9</td>\n",
              "      <td>w</td>\n",
              "      <td>28739.57</td>\n",
              "      <td>28739.57</td>\n",
              "      <td>2134.43</td>\n",
              "      <td>2134.43</td>\n",
              "      <td>1260.43</td>\n",
              "      <td>874.00</td>\n",
              "      <td>0.0</td>\n",
              "      <td>0.0</td>\n",
              "      <td>0.0</td>\n",
              "      <td>Dec-2018</td>\n",
              "      <td>1098.78</td>\n",
              "      <td>Jan-2019</td>\n",
              "      <td>Dec-2018</td>\n",
              "      <td>0</td>\n",
              "      <td>NaN</td>\n",
              "      <td>1</td>\n",
              "      <td>Individual</td>\n",
              "      <td>NaN</td>\n",
              "      <td>NaN</td>\n",
              "      <td>NaN</td>\n",
              "      <td>0</td>\n",
              "      <td>0</td>\n",
              "      <td>44048</td>\n",
              "      <td>1</td>\n",
              "      <td>2</td>\n",
              "      <td>1</td>\n",
              "      <td>1</td>\n",
              "      <td>1.0</td>\n",
              "      <td>29474</td>\n",
              "      <td>69.0</td>\n",
              "      <td>1</td>\n",
              "      <td>2</td>\n",
              "      <td>8521</td>\n",
              "      <td>69.0</td>\n",
              "      <td>20800</td>\n",
              "      <td>1</td>\n",
              "      <td>0</td>\n",
              "      <td>2</td>\n",
              "      <td>3</td>\n",
              "      <td>8810.0</td>\n",
              "      <td>5226.0</td>\n",
              "      <td>73.6</td>\n",
              "      <td>0</td>\n",
              "      <td>0</td>\n",
              "      <td>126.0</td>\n",
              "      <td>104</td>\n",
              "      <td>11</td>\n",
              "      <td>1</td>\n",
              "      <td>0</td>\n",
              "      <td>17.0</td>\n",
              "      <td>NaN</td>\n",
              "      <td>1.0</td>\n",
              "      <td>NaN</td>\n",
              "      <td>0</td>\n",
              "      <td>2</td>\n",
              "      <td>2</td>\n",
              "      <td>2</td>\n",
              "      <td>2</td>\n",
              "      <td>4</td>\n",
              "      <td>4</td>\n",
              "      <td>5</td>\n",
              "      <td>2</td>\n",
              "      <td>6</td>\n",
              "      <td>0.0</td>\n",
              "      <td>0</td>\n",
              "      <td>0</td>\n",
              "      <td>2</td>\n",
              "      <td>100.0</td>\n",
              "      <td>0.0</td>\n",
              "      <td>1</td>\n",
              "      <td>0</td>\n",
              "      <td>63636</td>\n",
              "      <td>44048</td>\n",
              "      <td>19800</td>\n",
              "      <td>42836</td>\n",
              "      <td>NaN</td>\n",
              "      <td>NaN</td>\n",
              "      <td>NaN</td>\n",
              "      <td>NaN</td>\n",
              "      <td>NaN</td>\n",
              "      <td>NaN</td>\n",
              "      <td>NaN</td>\n",
              "      <td>NaN</td>\n",
              "      <td>NaN</td>\n",
              "      <td>NaN</td>\n",
              "      <td>NaN</td>\n",
              "      <td>N</td>\n",
              "      <td>NaN</td>\n",
              "      <td>NaN</td>\n",
              "      <td>NaN</td>\n",
              "      <td>NaN</td>\n",
              "      <td>NaN</td>\n",
              "      <td>NaN</td>\n",
              "      <td>NaN</td>\n",
              "      <td>NaN</td>\n",
              "      <td>NaN</td>\n",
              "      <td>NaN</td>\n",
              "      <td>NaN</td>\n",
              "      <td>NaN</td>\n",
              "      <td>NaN</td>\n",
              "      <td>NaN</td>\n",
              "      <td>Cash</td>\n",
              "      <td>N</td>\n",
              "      <td>NaN</td>\n",
              "      <td>NaN</td>\n",
              "      <td>NaN</td>\n",
              "      <td>NaN</td>\n",
              "      <td>NaN</td>\n",
              "      <td>NaN</td>\n",
              "      <td>False</td>\n",
              "    </tr>\n",
              "    <tr>\n",
              "      <th>3</th>\n",
              "      <td>NaN</td>\n",
              "      <td>NaN</td>\n",
              "      <td>6000</td>\n",
              "      <td>6000</td>\n",
              "      <td>6000</td>\n",
              "      <td>36 months</td>\n",
              "      <td>0.0784</td>\n",
              "      <td>187.58</td>\n",
              "      <td>A</td>\n",
              "      <td>A4</td>\n",
              "      <td>Unknown</td>\n",
              "      <td>NaN</td>\n",
              "      <td>RENT</td>\n",
              "      <td>30000.0</td>\n",
              "      <td>Not Verified</td>\n",
              "      <td>Sep-2018</td>\n",
              "      <td>Current</td>\n",
              "      <td>n</td>\n",
              "      <td>NaN</td>\n",
              "      <td>NaN</td>\n",
              "      <td>debt_consolidation</td>\n",
              "      <td>Debt consolidation</td>\n",
              "      <td>923xx</td>\n",
              "      <td>CA</td>\n",
              "      <td>5.44</td>\n",
              "      <td>0</td>\n",
              "      <td>Apr-2000</td>\n",
              "      <td>0</td>\n",
              "      <td>NaN</td>\n",
              "      <td>104.0</td>\n",
              "      <td>8</td>\n",
              "      <td>1</td>\n",
              "      <td>5936</td>\n",
              "      <td>34.5%</td>\n",
              "      <td>11</td>\n",
              "      <td>w</td>\n",
              "      <td>5702.27</td>\n",
              "      <td>5702.27</td>\n",
              "      <td>369.93</td>\n",
              "      <td>369.93</td>\n",
              "      <td>297.73</td>\n",
              "      <td>72.20</td>\n",
              "      <td>0.0</td>\n",
              "      <td>0.0</td>\n",
              "      <td>0.0</td>\n",
              "      <td>Dec-2018</td>\n",
              "      <td>187.58</td>\n",
              "      <td>Jan-2019</td>\n",
              "      <td>Dec-2018</td>\n",
              "      <td>0</td>\n",
              "      <td>NaN</td>\n",
              "      <td>1</td>\n",
              "      <td>Individual</td>\n",
              "      <td>NaN</td>\n",
              "      <td>NaN</td>\n",
              "      <td>NaN</td>\n",
              "      <td>0</td>\n",
              "      <td>350</td>\n",
              "      <td>5936</td>\n",
              "      <td>0</td>\n",
              "      <td>0</td>\n",
              "      <td>0</td>\n",
              "      <td>1</td>\n",
              "      <td>23.0</td>\n",
              "      <td>0</td>\n",
              "      <td>NaN</td>\n",
              "      <td>1</td>\n",
              "      <td>4</td>\n",
              "      <td>2913</td>\n",
              "      <td>35.0</td>\n",
              "      <td>17200</td>\n",
              "      <td>2</td>\n",
              "      <td>0</td>\n",
              "      <td>0</td>\n",
              "      <td>5</td>\n",
              "      <td>848.0</td>\n",
              "      <td>7698.0</td>\n",
              "      <td>35.9</td>\n",
              "      <td>0</td>\n",
              "      <td>0</td>\n",
              "      <td>139.0</td>\n",
              "      <td>221</td>\n",
              "      <td>7</td>\n",
              "      <td>7</td>\n",
              "      <td>0</td>\n",
              "      <td>7.0</td>\n",
              "      <td>NaN</td>\n",
              "      <td>18.0</td>\n",
              "      <td>NaN</td>\n",
              "      <td>0</td>\n",
              "      <td>2</td>\n",
              "      <td>3</td>\n",
              "      <td>4</td>\n",
              "      <td>4</td>\n",
              "      <td>2</td>\n",
              "      <td>8</td>\n",
              "      <td>9</td>\n",
              "      <td>3</td>\n",
              "      <td>8</td>\n",
              "      <td>0.0</td>\n",
              "      <td>0</td>\n",
              "      <td>0</td>\n",
              "      <td>1</td>\n",
              "      <td>100.0</td>\n",
              "      <td>33.3</td>\n",
              "      <td>1</td>\n",
              "      <td>0</td>\n",
              "      <td>17200</td>\n",
              "      <td>5936</td>\n",
              "      <td>12000</td>\n",
              "      <td>0</td>\n",
              "      <td>NaN</td>\n",
              "      <td>NaN</td>\n",
              "      <td>NaN</td>\n",
              "      <td>NaN</td>\n",
              "      <td>NaN</td>\n",
              "      <td>NaN</td>\n",
              "      <td>NaN</td>\n",
              "      <td>NaN</td>\n",
              "      <td>NaN</td>\n",
              "      <td>NaN</td>\n",
              "      <td>NaN</td>\n",
              "      <td>N</td>\n",
              "      <td>NaN</td>\n",
              "      <td>NaN</td>\n",
              "      <td>NaN</td>\n",
              "      <td>NaN</td>\n",
              "      <td>NaN</td>\n",
              "      <td>NaN</td>\n",
              "      <td>NaN</td>\n",
              "      <td>NaN</td>\n",
              "      <td>NaN</td>\n",
              "      <td>NaN</td>\n",
              "      <td>NaN</td>\n",
              "      <td>NaN</td>\n",
              "      <td>NaN</td>\n",
              "      <td>NaN</td>\n",
              "      <td>DirectPay</td>\n",
              "      <td>N</td>\n",
              "      <td>NaN</td>\n",
              "      <td>NaN</td>\n",
              "      <td>NaN</td>\n",
              "      <td>NaN</td>\n",
              "      <td>NaN</td>\n",
              "      <td>NaN</td>\n",
              "      <td>False</td>\n",
              "    </tr>\n",
              "    <tr>\n",
              "      <th>4</th>\n",
              "      <td>NaN</td>\n",
              "      <td>NaN</td>\n",
              "      <td>10650</td>\n",
              "      <td>10650</td>\n",
              "      <td>10650</td>\n",
              "      <td>36 months</td>\n",
              "      <td>0.0784</td>\n",
              "      <td>332.95</td>\n",
              "      <td>A</td>\n",
              "      <td>A4</td>\n",
              "      <td>Unknown</td>\n",
              "      <td>NaN</td>\n",
              "      <td>RENT</td>\n",
              "      <td>28000.0</td>\n",
              "      <td>Verified</td>\n",
              "      <td>Sep-2018</td>\n",
              "      <td>Current</td>\n",
              "      <td>n</td>\n",
              "      <td>NaN</td>\n",
              "      <td>NaN</td>\n",
              "      <td>medical</td>\n",
              "      <td>Medical expenses</td>\n",
              "      <td>430xx</td>\n",
              "      <td>OH</td>\n",
              "      <td>16.89</td>\n",
              "      <td>0</td>\n",
              "      <td>Nov-2002</td>\n",
              "      <td>0</td>\n",
              "      <td>NaN</td>\n",
              "      <td>NaN</td>\n",
              "      <td>3</td>\n",
              "      <td>0</td>\n",
              "      <td>37</td>\n",
              "      <td>0.3%</td>\n",
              "      <td>3</td>\n",
              "      <td>w</td>\n",
              "      <td>10121.54</td>\n",
              "      <td>10121.54</td>\n",
              "      <td>656.62</td>\n",
              "      <td>656.62</td>\n",
              "      <td>528.46</td>\n",
              "      <td>128.16</td>\n",
              "      <td>0.0</td>\n",
              "      <td>0.0</td>\n",
              "      <td>0.0</td>\n",
              "      <td>Dec-2018</td>\n",
              "      <td>332.95</td>\n",
              "      <td>Jan-2019</td>\n",
              "      <td>Dec-2018</td>\n",
              "      <td>0</td>\n",
              "      <td>NaN</td>\n",
              "      <td>1</td>\n",
              "      <td>Joint App</td>\n",
              "      <td>43000.0</td>\n",
              "      <td>14.01</td>\n",
              "      <td>Source Verified</td>\n",
              "      <td>0</td>\n",
              "      <td>0</td>\n",
              "      <td>18254</td>\n",
              "      <td>0</td>\n",
              "      <td>1</td>\n",
              "      <td>0</td>\n",
              "      <td>1</td>\n",
              "      <td>16.0</td>\n",
              "      <td>18217</td>\n",
              "      <td>81.0</td>\n",
              "      <td>0</td>\n",
              "      <td>0</td>\n",
              "      <td>0</td>\n",
              "      <td>54.0</td>\n",
              "      <td>11500</td>\n",
              "      <td>1</td>\n",
              "      <td>1</td>\n",
              "      <td>0</td>\n",
              "      <td>1</td>\n",
              "      <td>6085.0</td>\n",
              "      <td>NaN</td>\n",
              "      <td>NaN</td>\n",
              "      <td>0</td>\n",
              "      <td>0</td>\n",
              "      <td>16.0</td>\n",
              "      <td>190</td>\n",
              "      <td>113</td>\n",
              "      <td>16</td>\n",
              "      <td>0</td>\n",
              "      <td>NaN</td>\n",
              "      <td>NaN</td>\n",
              "      <td>16.0</td>\n",
              "      <td>NaN</td>\n",
              "      <td>0</td>\n",
              "      <td>0</td>\n",
              "      <td>1</td>\n",
              "      <td>0</td>\n",
              "      <td>0</td>\n",
              "      <td>1</td>\n",
              "      <td>2</td>\n",
              "      <td>2</td>\n",
              "      <td>2</td>\n",
              "      <td>3</td>\n",
              "      <td>0.0</td>\n",
              "      <td>0</td>\n",
              "      <td>0</td>\n",
              "      <td>0</td>\n",
              "      <td>100.0</td>\n",
              "      <td>NaN</td>\n",
              "      <td>0</td>\n",
              "      <td>0</td>\n",
              "      <td>33876</td>\n",
              "      <td>18254</td>\n",
              "      <td>0</td>\n",
              "      <td>22376</td>\n",
              "      <td>2024.0</td>\n",
              "      <td>Oct-1996</td>\n",
              "      <td>0.0</td>\n",
              "      <td>0.0</td>\n",
              "      <td>8.0</td>\n",
              "      <td>18.7</td>\n",
              "      <td>1.0</td>\n",
              "      <td>9.0</td>\n",
              "      <td>0.0</td>\n",
              "      <td>0.0</td>\n",
              "      <td>NaN</td>\n",
              "      <td>N</td>\n",
              "      <td>NaN</td>\n",
              "      <td>NaN</td>\n",
              "      <td>NaN</td>\n",
              "      <td>NaN</td>\n",
              "      <td>NaN</td>\n",
              "      <td>NaN</td>\n",
              "      <td>NaN</td>\n",
              "      <td>NaN</td>\n",
              "      <td>NaN</td>\n",
              "      <td>NaN</td>\n",
              "      <td>NaN</td>\n",
              "      <td>NaN</td>\n",
              "      <td>NaN</td>\n",
              "      <td>NaN</td>\n",
              "      <td>Cash</td>\n",
              "      <td>N</td>\n",
              "      <td>NaN</td>\n",
              "      <td>NaN</td>\n",
              "      <td>NaN</td>\n",
              "      <td>NaN</td>\n",
              "      <td>NaN</td>\n",
              "      <td>NaN</td>\n",
              "      <td>False</td>\n",
              "    </tr>\n",
              "  </tbody>\n",
              "</table>\n",
              "</div>"
            ],
            "text/plain": [
              "   id  member_id  loan_amnt  funded_amnt  funded_amnt_inv        term  \\\n",
              "0 NaN        NaN      20000        20000            20000   60 months   \n",
              "1 NaN        NaN      25000        25000            25000   60 months   \n",
              "2 NaN        NaN      30000        30000            30000   36 months   \n",
              "3 NaN        NaN       6000         6000             6000   36 months   \n",
              "4 NaN        NaN      10650        10650            10650   36 months   \n",
              "\n",
              "   int_rate  installment grade sub_grade               emp_title emp_length  \\\n",
              "0    0.1797       507.55     D        D1  Motor Vehicle Operator    7 years   \n",
              "1    0.1356       576.02     C        C1             Firefighter    7 years   \n",
              "2    0.1894      1098.78     D        D2                 Unknown   < 1 year   \n",
              "3    0.0784       187.58     A        A4                 Unknown        NaN   \n",
              "4    0.0784       332.95     A        A4                 Unknown        NaN   \n",
              "\n",
              "  home_ownership  annual_inc verification_status   issue_d loan_status  \\\n",
              "0           RENT     68000.0     Source Verified  Sep-2018     Current   \n",
              "1       MORTGAGE     61000.0            Verified  Sep-2018     Current   \n",
              "2           RENT    100000.0     Source Verified  Sep-2018     Current   \n",
              "3           RENT     30000.0        Not Verified  Sep-2018     Current   \n",
              "4           RENT     28000.0            Verified  Sep-2018     Current   \n",
              "\n",
              "  pymnt_plan  url  desc             purpose               title zip_code  \\\n",
              "0          n  NaN   NaN  debt_consolidation  Debt consolidation    254xx   \n",
              "1          n  NaN   NaN      major_purchase      Major purchase    770xx   \n",
              "2          n  NaN   NaN  debt_consolidation  Debt consolidation    300xx   \n",
              "3          n  NaN   NaN  debt_consolidation  Debt consolidation    923xx   \n",
              "4          n  NaN   NaN             medical    Medical expenses    430xx   \n",
              "\n",
              "  addr_state    dti  delinq_2yrs earliest_cr_line  inq_last_6mths  \\\n",
              "0         WV  15.80            0         Feb-2009               1   \n",
              "1         TX  16.74            0         Jan-2009               0   \n",
              "2         GA  16.07            0         Mar-2008               1   \n",
              "3         CA   5.44            0         Apr-2000               0   \n",
              "4         OH  16.89            0         Nov-2002               0   \n",
              "\n",
              "   mths_since_last_delinq  mths_since_last_record  open_acc  pub_rec  \\\n",
              "0                    30.0                   118.0        11        1   \n",
              "1                     NaN                     NaN         5        0   \n",
              "2                     NaN                   114.0         6        1   \n",
              "3                     NaN                   104.0         8        1   \n",
              "4                     NaN                     NaN         3        0   \n",
              "\n",
              "   revol_bal revol_util  total_acc initial_list_status  out_prncp  \\\n",
              "0      13483      69.1%         26                   w   19580.78   \n",
              "1       6299      48.5%         14                   w   24109.45   \n",
              "2      14574      70.1%          9                   w   28739.57   \n",
              "3       5936      34.5%         11                   w    5702.27   \n",
              "4         37       0.3%          3                   w   10121.54   \n",
              "\n",
              "   out_prncp_inv  total_pymnt  total_pymnt_inv  total_rec_prncp  \\\n",
              "0       19580.78       975.17           975.17           419.22   \n",
              "1       24109.45      1567.98          1567.98           890.55   \n",
              "2       28739.57      2134.43          2134.43          1260.43   \n",
              "3        5702.27       369.93           369.93           297.73   \n",
              "4       10121.54       656.62           656.62           528.46   \n",
              "\n",
              "   total_rec_int  total_rec_late_fee  recoveries  collection_recovery_fee  \\\n",
              "0         555.95                 0.0         0.0                      0.0   \n",
              "1         677.43                 0.0         0.0                      0.0   \n",
              "2         874.00                 0.0         0.0                      0.0   \n",
              "3          72.20                 0.0         0.0                      0.0   \n",
              "4         128.16                 0.0         0.0                      0.0   \n",
              "\n",
              "  last_pymnt_d  last_pymnt_amnt next_pymnt_d last_credit_pull_d  \\\n",
              "0     Dec-2018           507.55     Jan-2019           Dec-2018   \n",
              "1     Dec-2018           576.02     Jan-2019           Dec-2018   \n",
              "2     Dec-2018          1098.78     Jan-2019           Dec-2018   \n",
              "3     Dec-2018           187.58     Jan-2019           Dec-2018   \n",
              "4     Dec-2018           332.95     Jan-2019           Dec-2018   \n",
              "\n",
              "   collections_12_mths_ex_med  mths_since_last_major_derog  policy_code  \\\n",
              "0                           0                          NaN            1   \n",
              "1                           0                          NaN            1   \n",
              "2                           0                          NaN            1   \n",
              "3                           0                          NaN            1   \n",
              "4                           0                          NaN            1   \n",
              "\n",
              "  application_type  annual_inc_joint  dti_joint verification_status_joint  \\\n",
              "0       Individual               NaN        NaN                       NaN   \n",
              "1       Individual               NaN        NaN                       NaN   \n",
              "2       Individual               NaN        NaN                       NaN   \n",
              "3       Individual               NaN        NaN                       NaN   \n",
              "4        Joint App           43000.0      14.01           Source Verified   \n",
              "\n",
              "   acc_now_delinq  tot_coll_amt  tot_cur_bal  open_acc_6m  open_act_il  \\\n",
              "0               0             0       194908            0            2   \n",
              "1               0             0       204007            1            2   \n",
              "2               0             0        44048            1            2   \n",
              "3               0           350         5936            0            0   \n",
              "4               0             0        18254            0            1   \n",
              "\n",
              "   open_il_12m  open_il_24m  mths_since_rcnt_il  total_bal_il  il_util  \\\n",
              "0            0            2                17.0         45299     93.0   \n",
              "1            0            1                19.0         13862     37.0   \n",
              "2            1            1                 1.0         29474     69.0   \n",
              "3            0            1                23.0             0      NaN   \n",
              "4            0            1                16.0         18217     81.0   \n",
              "\n",
              "   open_rv_12m  open_rv_24m  max_bal_bc  all_util  total_rev_hi_lim  inq_fi  \\\n",
              "0            0            1        9815      86.0             19500       1   \n",
              "1            0            0           0      40.0             13000       0   \n",
              "2            1            2        8521      69.0             20800       1   \n",
              "3            1            4        2913      35.0             17200       2   \n",
              "4            0            0           0      54.0             11500       1   \n",
              "\n",
              "   total_cu_tl  inq_last_12m  acc_open_past_24mths  avg_cur_bal  \\\n",
              "0            4             2                     5      19491.0   \n",
              "1            7             4                     2      40801.0   \n",
              "2            0             2                     3       8810.0   \n",
              "3            0             0                     5        848.0   \n",
              "4            1             0                     1       6085.0   \n",
              "\n",
              "   bc_open_to_buy  bc_util  chargeoff_within_12_mths  delinq_amnt  \\\n",
              "0          2185.0     81.8                         0            0   \n",
              "1          1500.0      0.0                         0            0   \n",
              "2          5226.0     73.6                         0            0   \n",
              "3          7698.0     35.9                         0            0   \n",
              "4             NaN      NaN                         0            0   \n",
              "\n",
              "   mo_sin_old_il_acct  mo_sin_old_rev_tl_op  mo_sin_rcnt_rev_tl_op  \\\n",
              "0               115.0                    94                     13   \n",
              "1                54.0                   116                     26   \n",
              "2               126.0                   104                     11   \n",
              "3               139.0                   221                      7   \n",
              "4                16.0                   190                    113   \n",
              "\n",
              "   mo_sin_rcnt_tl  mort_acc  mths_since_recent_bc  mths_since_recent_bc_dlq  \\\n",
              "0               7         4                  25.0                       NaN   \n",
              "1               3         1                  74.0                       NaN   \n",
              "2               1         0                  17.0                       NaN   \n",
              "3               7         0                   7.0                       NaN   \n",
              "4              16         0                   NaN                       NaN   \n",
              "\n",
              "   mths_since_recent_inq  mths_since_recent_revol_delinq  \\\n",
              "0                    2.0                            30.0   \n",
              "1                    4.0                             NaN   \n",
              "2                    1.0                             NaN   \n",
              "3                   18.0                             NaN   \n",
              "4                   16.0                             NaN   \n",
              "\n",
              "   num_accts_ever_120_pd  num_actv_bc_tl  num_actv_rev_tl  num_bc_sats  \\\n",
              "0                      0               1                3            2   \n",
              "1                      0               0                1            1   \n",
              "2                      0               2                2            2   \n",
              "3                      0               2                3            4   \n",
              "4                      0               0                1            0   \n",
              "\n",
              "   num_bc_tl  num_il_tl  num_op_rev_tl  num_rev_accts  num_rev_tl_bal_gt_0  \\\n",
              "0          4         11              8             10                    3   \n",
              "1          2          5              2              8                    1   \n",
              "2          2          4              4              5                    2   \n",
              "3          4          2              8              9                    3   \n",
              "4          0          1              2              2                    2   \n",
              "\n",
              "   num_sats  num_tl_120dpd_2m  num_tl_30dpd  num_tl_90g_dpd_24m  \\\n",
              "0        11               0.0             0                   0   \n",
              "1         5               0.0             0                   0   \n",
              "2         6               0.0             0                   0   \n",
              "3         8               0.0             0                   0   \n",
              "4         3               0.0             0                   0   \n",
              "\n",
              "   num_tl_op_past_12m  pct_tl_nvr_dlq  percent_bc_gt_75  pub_rec_bankruptcies  \\\n",
              "0                   1            92.3              50.0                     1   \n",
              "1                   1           100.0               0.0                     0   \n",
              "2                   2           100.0               0.0                     1   \n",
              "3                   1           100.0              33.3                     1   \n",
              "4                   0           100.0               NaN                     0   \n",
              "\n",
              "   tax_liens  tot_hi_cred_lim  total_bal_ex_mort  total_bc_limit  \\\n",
              "0          0           205625              58782           12000   \n",
              "1          0           234573              20161            1500   \n",
              "2          0            63636              44048           19800   \n",
              "3          0            17200               5936           12000   \n",
              "4          0            33876              18254               0   \n",
              "\n",
              "   total_il_high_credit_limit  revol_bal_joint sec_app_earliest_cr_line  \\\n",
              "0                       48733              NaN                      NaN   \n",
              "1                       37273              NaN                      NaN   \n",
              "2                       42836              NaN                      NaN   \n",
              "3                           0              NaN                      NaN   \n",
              "4                       22376           2024.0                 Oct-1996   \n",
              "\n",
              "   sec_app_inq_last_6mths  sec_app_mort_acc  sec_app_open_acc  \\\n",
              "0                     NaN               NaN               NaN   \n",
              "1                     NaN               NaN               NaN   \n",
              "2                     NaN               NaN               NaN   \n",
              "3                     NaN               NaN               NaN   \n",
              "4                     0.0               0.0               8.0   \n",
              "\n",
              "   sec_app_revol_util  sec_app_open_act_il  sec_app_num_rev_accts  \\\n",
              "0                 NaN                  NaN                    NaN   \n",
              "1                 NaN                  NaN                    NaN   \n",
              "2                 NaN                  NaN                    NaN   \n",
              "3                 NaN                  NaN                    NaN   \n",
              "4                18.7                  1.0                    9.0   \n",
              "\n",
              "   sec_app_chargeoff_within_12_mths  sec_app_collections_12_mths_ex_med  \\\n",
              "0                               NaN                                 NaN   \n",
              "1                               NaN                                 NaN   \n",
              "2                               NaN                                 NaN   \n",
              "3                               NaN                                 NaN   \n",
              "4                               0.0                                 0.0   \n",
              "\n",
              "   sec_app_mths_since_last_major_derog hardship_flag hardship_type  \\\n",
              "0                                  NaN             N           NaN   \n",
              "1                                  NaN             N           NaN   \n",
              "2                                  NaN             N           NaN   \n",
              "3                                  NaN             N           NaN   \n",
              "4                                  NaN             N           NaN   \n",
              "\n",
              "  hardship_reason hardship_status  deferral_term  hardship_amount  \\\n",
              "0             NaN             NaN            NaN              NaN   \n",
              "1             NaN             NaN            NaN              NaN   \n",
              "2             NaN             NaN            NaN              NaN   \n",
              "3             NaN             NaN            NaN              NaN   \n",
              "4             NaN             NaN            NaN              NaN   \n",
              "\n",
              "  hardship_start_date hardship_end_date payment_plan_start_date  \\\n",
              "0                 NaN               NaN                     NaN   \n",
              "1                 NaN               NaN                     NaN   \n",
              "2                 NaN               NaN                     NaN   \n",
              "3                 NaN               NaN                     NaN   \n",
              "4                 NaN               NaN                     NaN   \n",
              "\n",
              "   hardship_length  hardship_dpd hardship_loan_status  \\\n",
              "0              NaN           NaN                  NaN   \n",
              "1              NaN           NaN                  NaN   \n",
              "2              NaN           NaN                  NaN   \n",
              "3              NaN           NaN                  NaN   \n",
              "4              NaN           NaN                  NaN   \n",
              "\n",
              "   orig_projected_additional_accrued_interest  hardship_payoff_balance_amount  \\\n",
              "0                                         NaN                             NaN   \n",
              "1                                         NaN                             NaN   \n",
              "2                                         NaN                             NaN   \n",
              "3                                         NaN                             NaN   \n",
              "4                                         NaN                             NaN   \n",
              "\n",
              "   hardship_last_payment_amount disbursement_method debt_settlement_flag  \\\n",
              "0                           NaN           DirectPay                    N   \n",
              "1                           NaN                Cash                    N   \n",
              "2                           NaN                Cash                    N   \n",
              "3                           NaN           DirectPay                    N   \n",
              "4                           NaN                Cash                    N   \n",
              "\n",
              "  debt_settlement_flag_date settlement_status settlement_date  \\\n",
              "0                       NaN               NaN             NaN   \n",
              "1                       NaN               NaN             NaN   \n",
              "2                       NaN               NaN             NaN   \n",
              "3                       NaN               NaN             NaN   \n",
              "4                       NaN               NaN             NaN   \n",
              "\n",
              "   settlement_amount  settlement_percentage  settlement_term  \\\n",
              "0                NaN                    NaN              NaN   \n",
              "1                NaN                    NaN              NaN   \n",
              "2                NaN                    NaN              NaN   \n",
              "3                NaN                    NaN              NaN   \n",
              "4                NaN                    NaN              NaN   \n",
              "\n",
              "   emp_title_manager  \n",
              "0              False  \n",
              "1              False  \n",
              "2              False  \n",
              "3              False  \n",
              "4              False  "
            ]
          },
          "metadata": {
            "tags": []
          },
          "execution_count": 24
        }
      ]
    },
    {
      "metadata": {
        "id": "C8CIC8oFFMCr",
        "colab_type": "code",
        "outputId": "7b7a6528-accf-47dd-880e-1673b9b2d8ba",
        "colab": {
          "base_uri": "https://localhost:8080/",
          "height": 36
        }
      },
      "cell_type": "code",
      "source": [
        "df.shape"
      ],
      "execution_count": 0,
      "outputs": [
        {
          "output_type": "execute_result",
          "data": {
            "text/plain": [
              "(128194, 146)"
            ]
          },
          "metadata": {
            "tags": []
          },
          "execution_count": 25
        }
      ]
    },
    {
      "metadata": {
        "id": "s8BcCY6so3by",
        "colab_type": "text"
      },
      "cell_type": "markdown",
      "source": [
        "## Work with dates\n",
        "\n",
        "pandas documentation\n",
        "- [to_datetime](https://pandas.pydata.org/pandas-docs/stable/generated/pandas.to_datetime.html)\n",
        "- [Time/Date Components](https://pandas.pydata.org/pandas-docs/stable/timeseries.html#time-date-components) \"You can access these properties via the `.dt` accessor\""
      ]
    },
    {
      "metadata": {
        "id": "bhcgKbTAropd",
        "colab_type": "code",
        "outputId": "849d496a-26f6-43f9-eceb-dde99e0523a1",
        "colab": {
          "base_uri": "https://localhost:8080/",
          "height": 55
        }
      },
      "cell_type": "code",
      "source": [
        "df['issue_d'].head().values"
      ],
      "execution_count": 0,
      "outputs": [
        {
          "output_type": "execute_result",
          "data": {
            "text/plain": [
              "array(['Sep-2018', 'Sep-2018', 'Sep-2018', 'Sep-2018', 'Sep-2018'],\n",
              "      dtype=object)"
            ]
          },
          "metadata": {
            "tags": []
          },
          "execution_count": 26
        }
      ]
    },
    {
      "metadata": {
        "id": "JvW84Xg1F72M",
        "colab_type": "code",
        "colab": {}
      },
      "cell_type": "code",
      "source": [
        "df['issue_d'] = pd.to_datetime(df['issue_d'], \n",
        "                               infer_datetime_format=True)"
      ],
      "execution_count": 0,
      "outputs": []
    },
    {
      "metadata": {
        "id": "oBmpEI8LGkpM",
        "colab_type": "code",
        "outputId": "9234142a-8a0a-47ff-9941-7027ff7bbc10",
        "colab": {
          "base_uri": "https://localhost:8080/",
          "height": 73
        }
      },
      "cell_type": "code",
      "source": [
        "df['issue_d'].head().values"
      ],
      "execution_count": 0,
      "outputs": [
        {
          "output_type": "execute_result",
          "data": {
            "text/plain": [
              "array(['2018-09-01T00:00:00.000000000', '2018-09-01T00:00:00.000000000',\n",
              "       '2018-09-01T00:00:00.000000000', '2018-09-01T00:00:00.000000000',\n",
              "       '2018-09-01T00:00:00.000000000'], dtype='datetime64[ns]')"
            ]
          },
          "metadata": {
            "tags": []
          },
          "execution_count": 28
        }
      ]
    },
    {
      "metadata": {
        "id": "gHJ4qTf_Gqyk",
        "colab_type": "code",
        "outputId": "ed07edf9-5ac9-4eb0-feb5-5ac511051544",
        "colab": {
          "base_uri": "https://localhost:8080/",
          "height": 148
        }
      },
      "cell_type": "code",
      "source": [
        "df['issue_d'].describe()"
      ],
      "execution_count": 0,
      "outputs": [
        {
          "output_type": "execute_result",
          "data": {
            "text/plain": [
              "count                  128194\n",
              "unique                      3\n",
              "top       2018-08-01 00:00:00\n",
              "freq                    46079\n",
              "first     2018-07-01 00:00:00\n",
              "last      2018-09-01 00:00:00\n",
              "Name: issue_d, dtype: object"
            ]
          },
          "metadata": {
            "tags": []
          },
          "execution_count": 29
        }
      ]
    },
    {
      "metadata": {
        "id": "WH2HbHCZG5BH",
        "colab_type": "code",
        "colab": {}
      },
      "cell_type": "code",
      "source": [
        "df['issue_year']  = df['issue_d'].dt.year\n",
        "df['issue_month'] = df['issue_d'].dt.month"
      ],
      "execution_count": 0,
      "outputs": []
    },
    {
      "metadata": {
        "id": "8u1XM0rmHrPv",
        "colab_type": "code",
        "outputId": "65e8aef8-38f0-4abc-e8e0-735eb37c9f82",
        "colab": {
          "base_uri": "https://localhost:8080/",
          "height": 36
        }
      },
      "cell_type": "code",
      "source": [
        "df['issue_month'].sample(n=10).values"
      ],
      "execution_count": 0,
      "outputs": [
        {
          "output_type": "execute_result",
          "data": {
            "text/plain": [
              "array([8, 8, 9, 9, 9, 7, 8, 9, 8, 8])"
            ]
          },
          "metadata": {
            "tags": []
          },
          "execution_count": 31
        }
      ]
    },
    {
      "metadata": {
        "id": "bcQuKb6fGodY",
        "colab_type": "code",
        "colab": {}
      },
      "cell_type": "code",
      "source": [
        "df['earliest_cr_line'] = pd.to_datetime(df['earliest_cr_line'], \n",
        "                                        infer_datetime_format=True)"
      ],
      "execution_count": 0,
      "outputs": []
    },
    {
      "metadata": {
        "id": "pbdnag0EILcX",
        "colab_type": "code",
        "colab": {}
      },
      "cell_type": "code",
      "source": [
        "df['days_from_earliest_credit_to_issue'] = (\n",
        "    df['issue_d'] - df['earliest_cr_line']).dt.days"
      ],
      "execution_count": 0,
      "outputs": []
    },
    {
      "metadata": {
        "id": "iHSNTp4lI3cb",
        "colab_type": "code",
        "outputId": "f378ec21-c318-412f-a745-7ff7104f209e",
        "colab": {
          "base_uri": "https://localhost:8080/",
          "height": 36
        }
      },
      "cell_type": "code",
      "source": [
        "df['days_from_earliest_credit_to_issue'].head().values"
      ],
      "execution_count": 0,
      "outputs": [
        {
          "output_type": "execute_result",
          "data": {
            "text/plain": [
              "array([3499, 3530, 3836, 6727, 5783])"
            ]
          },
          "metadata": {
            "tags": []
          },
          "execution_count": 34
        }
      ]
    },
    {
      "metadata": {
        "id": "BQSsYPHzJQXc",
        "colab_type": "code",
        "outputId": "8f951bd6-b159-4ddc-d8be-13a81a15b7e3",
        "colab": {
          "base_uri": "https://localhost:8080/",
          "height": 36
        }
      },
      "cell_type": "code",
      "source": [
        "[col for col in df if col.endswith('_d')]"
      ],
      "execution_count": 0,
      "outputs": [
        {
          "output_type": "execute_result",
          "data": {
            "text/plain": [
              "['issue_d', 'last_pymnt_d', 'next_pymnt_d', 'last_credit_pull_d']"
            ]
          },
          "metadata": {
            "tags": []
          },
          "execution_count": 35
        }
      ]
    },
    {
      "metadata": {
        "id": "b6_ubkeuJaPB",
        "colab_type": "code",
        "colab": {}
      },
      "cell_type": "code",
      "source": [
        "for col in ['last_pymnt_d', 'next_pymnt_d', 'last_credit_pull_d']:\n",
        "    df[col] = pd.to_datetime(df[col],\n",
        "                             infer_datetime_format=True)\n",
        "    "
      ],
      "execution_count": 0,
      "outputs": []
    },
    {
      "metadata": {
        "id": "jtmEQjOv9FNo",
        "colab_type": "text"
      },
      "cell_type": "markdown",
      "source": [
        "# ASSIGNMENT"
      ]
    },
    {
      "metadata": {
        "id": "0r-41N_vwneG",
        "colab_type": "text"
      },
      "cell_type": "markdown",
      "source": [
        "- Replicate the lesson code.\n",
        "\n",
        "- Convert the `term` column from string to integer.\n",
        "\n",
        "- Make a column named `loan_status_is_great`. It should contain the integer 1 if `loan_status` is \"Current\" or \"Fully Paid.\" Else it should contain the integer 0.\n",
        "\n",
        "- Make `last_pymnt_d_month` and `last_pymnt_d_year` columns.\n",
        "\n"
      ]
    },
    {
      "metadata": {
        "id": "BVnrkH4nOKho",
        "colab_type": "code",
        "outputId": "7b54e38f-1dd6-427e-9b7e-822c58e8f211",
        "colab": {
          "base_uri": "https://localhost:8080/",
          "height": 167
        }
      },
      "cell_type": "code",
      "source": [
        "df.columns"
      ],
      "execution_count": 0,
      "outputs": [
        {
          "output_type": "execute_result",
          "data": {
            "text/plain": [
              "Index(['id', 'member_id', 'loan_amnt', 'funded_amnt', 'funded_amnt_inv',\n",
              "       'term', 'int_rate', 'installment', 'grade', 'sub_grade',\n",
              "       ...\n",
              "       'debt_settlement_flag_date', 'settlement_status', 'settlement_date',\n",
              "       'settlement_amount', 'settlement_percentage', 'settlement_term',\n",
              "       'emp_title_manager', 'issue_year', 'issue_month',\n",
              "       'days_from_earliest_credit_to_issue'],\n",
              "      dtype='object', length=149)"
            ]
          },
          "metadata": {
            "tags": []
          },
          "execution_count": 37
        }
      ]
    },
    {
      "metadata": {
        "id": "-iaw_JHuOeHu",
        "colab_type": "code",
        "colab": {}
      },
      "cell_type": "code",
      "source": [
        "df['term'] = df.term.str.replace('months','').astype(int)"
      ],
      "execution_count": 0,
      "outputs": []
    },
    {
      "metadata": {
        "id": "CwUiI_3fOeRH",
        "colab_type": "code",
        "outputId": "478b1266-cf50-4c4a-ba24-32f7920e1c0c",
        "colab": {
          "base_uri": "https://localhost:8080/",
          "height": 130
        }
      },
      "cell_type": "code",
      "source": [
        "df['term'].sample(n=5)"
      ],
      "execution_count": 0,
      "outputs": [
        {
          "output_type": "execute_result",
          "data": {
            "text/plain": [
              "106685    36\n",
              "20865     36\n",
              "52541     36\n",
              "125179    36\n",
              "51693     36\n",
              "Name: term, dtype: int64"
            ]
          },
          "metadata": {
            "tags": []
          },
          "execution_count": 58
        }
      ]
    },
    {
      "metadata": {
        "id": "cEP6w26GOeWD",
        "colab_type": "code",
        "outputId": "7804beac-5552-42d3-edbb-856da809d333",
        "colab": {
          "base_uri": "https://localhost:8080/",
          "height": 167
        }
      },
      "cell_type": "code",
      "source": [
        "df.columns"
      ],
      "execution_count": 0,
      "outputs": [
        {
          "output_type": "execute_result",
          "data": {
            "text/plain": [
              "Index(['id', 'member_id', 'loan_amnt', 'funded_amnt', 'funded_amnt_inv',\n",
              "       'term', 'int_rate', 'installment', 'grade', 'sub_grade',\n",
              "       ...\n",
              "       'debt_settlement_flag_date', 'settlement_status', 'settlement_date',\n",
              "       'settlement_amount', 'settlement_percentage', 'settlement_term',\n",
              "       'emp_title_manager', 'issue_year', 'issue_month',\n",
              "       'days_from_earliest_credit_to_issue'],\n",
              "      dtype='object', length=149)"
            ]
          },
          "metadata": {
            "tags": []
          },
          "execution_count": 60
        }
      ]
    },
    {
      "metadata": {
        "id": "yldTUFaLRnvj",
        "colab_type": "code",
        "outputId": "7d5383c9-3b1d-4815-cd73-dda169ab9313",
        "colab": {
          "base_uri": "https://localhost:8080/",
          "height": 55
        }
      },
      "cell_type": "code",
      "source": [
        "df.loan_status.unique()"
      ],
      "execution_count": 0,
      "outputs": [
        {
          "output_type": "execute_result",
          "data": {
            "text/plain": [
              "array(['Current', 'Fully Paid', 'In Grace Period', 'Late (31-120 days)',\n",
              "       'Late (16-30 days)', 'Charged Off'], dtype=object)"
            ]
          },
          "metadata": {
            "tags": []
          },
          "execution_count": 61
        }
      ]
    },
    {
      "metadata": {
        "id": "uWAP9N9BOeaL",
        "colab_type": "code",
        "colab": {}
      },
      "cell_type": "code",
      "source": [
        "def loanstatus(series):\n",
        "  if series == 'Current' or series == 'Fully Paid':\n",
        "    series = 1\n",
        "  else:\n",
        "    series = 0\n",
        "  return series\n",
        "\n",
        "df['loan_status_is_great'] = df.loan_status.apply(loanstatus)"
      ],
      "execution_count": 0,
      "outputs": []
    },
    {
      "metadata": {
        "id": "Hj_6QWXiSCkG",
        "colab_type": "code",
        "colab": {}
      },
      "cell_type": "code",
      "source": [
        "df.loan_status_is_great.sample(25)"
      ],
      "execution_count": 0,
      "outputs": []
    },
    {
      "metadata": {
        "id": "kLMo7m12Xpp7",
        "colab_type": "code",
        "colab": {}
      },
      "cell_type": "code",
      "source": [
        "# Make last_pymnt_d_month and last_pymnt_d_year columns.\n",
        "\n",
        "df['last_pymnt_d_month'] = df.last_pymnt_d.dt.month\n",
        "df['last_pymnt_d_year'] = df.last_pymnt_d.dt.year"
      ],
      "execution_count": 0,
      "outputs": []
    },
    {
      "metadata": {
        "id": "mkXZP34V2tXI",
        "colab_type": "text"
      },
      "cell_type": "markdown",
      "source": [
        "# STRETCH OPTIONS\n",
        "\n",
        "You can do more with the LendingClub or Instacart datasets.\n",
        "\n",
        "LendingClub options:\n",
        "- There's one other column in the dataframe with percent signs. Remove them and convert to floats. You'll need to handle missing values.\n",
        "- Modify the `emp_title` column to replace titles with 'Other' if the title is not in the top 20. \n",
        "- Process the dataframe so that `ready_for_sklearn(df)` returns `True`. You can drop columns, or select the subset of numeric columns with no missing values. (Or you can try automating the process to handle missing values and convert objects to numbers!)\n",
        "- Take initiatve and work on your own ideas!\n",
        "\n",
        "Instacart options:\n",
        "- Read [Instacart Market Basket Analysis, Winner's Interview: 2nd place, Kazuki Onodera](http://blog.kaggle.com/2017/09/21/instacart-market-basket-analysis-winners-interview-2nd-place-kazuki-onodera/), especially the **Feature Engineering** section. (Can you choose one feature from his bulleted lists, and try to engineer it with pandas code?)\n",
        "- Read and replicate parts of [Simple Exploration Notebook - Instacart](https://www.kaggle.com/sudalairajkumar/simple-exploration-notebook-instacart). (It's the Python Notebook with the most upvotes for this Kaggle competition.)\n",
        "- Take initiative and work on your own ideas!"
      ]
    },
    {
      "metadata": {
        "id": "5-MhSSyESCxg",
        "colab_type": "code",
        "outputId": "62ba1b6f-1bbe-42b2-e932-eb65349dcd05",
        "colab": {
          "base_uri": "https://localhost:8080/",
          "height": 130
        }
      },
      "cell_type": "code",
      "source": [
        "df.grade.head()"
      ],
      "execution_count": 0,
      "outputs": [
        {
          "output_type": "execute_result",
          "data": {
            "text/plain": [
              "0    D\n",
              "1    C\n",
              "2    D\n",
              "3    A\n",
              "4    A\n",
              "Name: grade, dtype: object"
            ]
          },
          "metadata": {
            "tags": []
          },
          "execution_count": 70
        }
      ]
    },
    {
      "metadata": {
        "id": "aheOawuRTlym",
        "colab_type": "code",
        "outputId": "eec14771-ed51-4fef-baef-7b00aee8beb8",
        "colab": {
          "base_uri": "https://localhost:8080/",
          "height": 130
        }
      },
      "cell_type": "code",
      "source": [
        "df.sub_grade.head()"
      ],
      "execution_count": 0,
      "outputs": [
        {
          "output_type": "execute_result",
          "data": {
            "text/plain": [
              "0    D1\n",
              "1    C1\n",
              "2    D2\n",
              "3    A4\n",
              "4    A4\n",
              "Name: sub_grade, dtype: object"
            ]
          },
          "metadata": {
            "tags": []
          },
          "execution_count": 72
        }
      ]
    },
    {
      "metadata": {
        "id": "Almo5Pz8T-Hq",
        "colab_type": "code",
        "colab": {}
      },
      "cell_type": "code",
      "source": [
        "df['lc_grade'] = str(df.grade) + df.sub_grade"
      ],
      "execution_count": 0,
      "outputs": []
    },
    {
      "metadata": {
        "id": "T2uR1CynURMA",
        "colab_type": "code",
        "colab": {}
      },
      "cell_type": "code",
      "source": [
        "df = df.drop('lc_grade',axis='columns')"
      ],
      "execution_count": 0,
      "outputs": []
    },
    {
      "metadata": {
        "id": "BNVgkixHUpMW",
        "colab_type": "code",
        "colab": {}
      },
      "cell_type": "code",
      "source": [
        "df.pivot_table(index='sub_grade', values='int_rate').plot.bar();"
      ],
      "execution_count": 0,
      "outputs": []
    },
    {
      "metadata": {
        "id": "HjQ9mFCVU6ix",
        "colab_type": "code",
        "colab": {}
      },
      "cell_type": "code",
      "source": [
        "df.pivot_table(index='sub_grade', values='annual_inc').plot.bar();"
      ],
      "execution_count": 0,
      "outputs": []
    },
    {
      "metadata": {
        "id": "z9_WXDmEVeWO",
        "colab_type": "code",
        "colab": {}
      },
      "cell_type": "code",
      "source": [
        "df.pivot_table(index='sub_grade', values='annual_inc_joint').plot.bar();"
      ],
      "execution_count": 0,
      "outputs": []
    },
    {
      "metadata": {
        "id": "vHAA8bl0WEP8",
        "colab_type": "code",
        "colab": {}
      },
      "cell_type": "code",
      "source": [
        "# if you open up the annual_inc and annual_inc_joint you can see that when there is not a big discrep, \n",
        "# they are usually placed in the lowest sub_grade\n",
        "\n",
        "df['annual_inc_joint_minus_single'] = df.annual_inc_joint - df.annual_inc"
      ],
      "execution_count": 0,
      "outputs": []
    },
    {
      "metadata": {
        "id": "hB8tBH2pWvfC",
        "colab_type": "code",
        "outputId": "28d85324-cd51-4748-f333-54d3d576834a",
        "colab": {
          "base_uri": "https://localhost:8080/",
          "height": 36
        }
      },
      "cell_type": "code",
      "source": [
        "df.annual_inc_joint_minus_single.corr(df.int_rate)"
      ],
      "execution_count": 0,
      "outputs": [
        {
          "output_type": "execute_result",
          "data": {
            "text/plain": [
              "-0.09285012438557147"
            ]
          },
          "metadata": {
            "tags": []
          },
          "execution_count": 92
        }
      ]
    },
    {
      "metadata": {
        "id": "lJK-OuPJWzRB",
        "colab_type": "code",
        "colab": {}
      },
      "cell_type": "code",
      "source": [
        ""
      ],
      "execution_count": 0,
      "outputs": []
    },
    {
      "metadata": {
        "id": "j-llx-6iXAz6",
        "colab_type": "code",
        "colab": {}
      },
      "cell_type": "code",
      "source": [
        ""
      ],
      "execution_count": 0,
      "outputs": []
    }
  ]
}