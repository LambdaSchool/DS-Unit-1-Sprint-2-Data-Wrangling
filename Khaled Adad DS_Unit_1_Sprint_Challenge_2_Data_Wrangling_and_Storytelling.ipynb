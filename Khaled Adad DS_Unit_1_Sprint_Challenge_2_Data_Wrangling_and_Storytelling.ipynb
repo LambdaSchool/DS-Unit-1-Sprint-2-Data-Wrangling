{
 "cells": [
  {
   "cell_type": "markdown",
   "metadata": {
    "colab_type": "text",
    "id": "4yMHi_PX9hEz"
   },
   "source": [
    "# Data Science Unit 1 Sprint Challenge 2\n",
    "\n",
    "## Data Wrangling and Storytelling\n",
    "\n",
    "Taming data from its raw form into informative insights and stories."
   ]
  },
  {
   "cell_type": "markdown",
   "metadata": {
    "colab_type": "text",
    "id": "9wIvtOss9H_i"
   },
   "source": [
    "## Data Wrangling\n",
    "\n",
    "In this Sprint Challenge you will first \"wrangle\" some data from [Gapminder](https://www.gapminder.org/about-gapminder/), a Swedish non-profit co-founded by Hans Rosling. \"Gapminder produces free teaching resources making the world understandable based on reliable statistics.\"\n",
    "- [Cell phones (total), by country and year](https://raw.githubusercontent.com/open-numbers/ddf--gapminder--systema_globalis/master/ddf--datapoints--cell_phones_total--by--geo--time.csv)\n",
    "- [Population (total), by country and year](https://raw.githubusercontent.com/open-numbers/ddf--gapminder--systema_globalis/master/ddf--datapoints--population_total--by--geo--time.csv)\n",
    "- [Geo country codes](https://github.com/open-numbers/ddf--gapminder--systema_globalis/blob/master/ddf--entities--geo--country.csv)\n",
    "\n",
    "These two links have everything you need to successfully complete the first part of this sprint challenge.\n",
    "- [Pandas documentation: Working with Text Data](https://pandas.pydata.org/pandas-docs/stable/text.html) (one question)\n",
    "- [Pandas Cheat Sheet](https://github.com/pandas-dev/pandas/blob/master/doc/cheatsheet/Pandas_Cheat_Sheet.pdf) (everything else)"
   ]
  },
  {
   "cell_type": "markdown",
   "metadata": {
    "colab_type": "text",
    "id": "wWEU2GemX68A"
   },
   "source": [
    "### Part 0. Load data\n",
    "\n",
    "You don't need to add or change anything here. Just run this cell and it loads the data for you, into three dataframes."
   ]
  },
  {
   "cell_type": "code",
   "execution_count": 191,
   "metadata": {
    "colab": {},
    "colab_type": "code",
    "collapsed": true,
    "id": "bxKtSi5sRQOl"
   },
   "outputs": [],
   "source": [
    "import pandas as pd\n",
    "\n",
    "cell_phones = pd.read_csv('https://raw.githubusercontent.com/open-numbers/ddf--gapminder--systema_globalis/master/ddf--datapoints--cell_phones_total--by--geo--time.csv')\n",
    "\n",
    "population = pd.read_csv('https://raw.githubusercontent.com/open-numbers/ddf--gapminder--systema_globalis/master/ddf--datapoints--population_total--by--geo--time.csv')\n",
    "\n",
    "geo_country_codes = (pd.read_csv('https://raw.githubusercontent.com/open-numbers/ddf--gapminder--systema_globalis/master/ddf--entities--geo--country.csv')\n",
    "                       .rename(columns={'country': 'geo', 'name': 'country'}))"
   ]
  },
  {
   "cell_type": "code",
   "execution_count": 125,
   "metadata": {
    "collapsed": true
   },
   "outputs": [],
   "source": [
    "import matplotlib.pyplot as plt\n",
    "import numpy as np"
   ]
  },
  {
   "cell_type": "markdown",
   "metadata": {
    "colab_type": "text",
    "id": "AZmVTeCsX9RC"
   },
   "source": [
    "### Part 1. Join data"
   ]
  },
  {
   "cell_type": "markdown",
   "metadata": {
    "colab_type": "text",
    "id": "GLzX58u4SfEy"
   },
   "source": [
    "First, join the `cell_phones` and `population` dataframes (with an inner join on `geo` and `time`).\n",
    "\n",
    "The resulting dataframe's shape should be: (8590, 4)"
   ]
  },
  {
   "cell_type": "code",
   "execution_count": 126,
   "metadata": {
    "colab": {},
    "colab_type": "code",
    "id": "GVV7Hnj4SXBa"
   },
   "outputs": [
    {
     "data": {
      "text/html": [
       "<div>\n",
       "<style scoped>\n",
       "    .dataframe tbody tr th:only-of-type {\n",
       "        vertical-align: middle;\n",
       "    }\n",
       "\n",
       "    .dataframe tbody tr th {\n",
       "        vertical-align: top;\n",
       "    }\n",
       "\n",
       "    .dataframe thead th {\n",
       "        text-align: right;\n",
       "    }\n",
       "</style>\n",
       "<table border=\"1\" class=\"dataframe\">\n",
       "  <thead>\n",
       "    <tr style=\"text-align: right;\">\n",
       "      <th></th>\n",
       "      <th>geo</th>\n",
       "      <th>time</th>\n",
       "      <th>cell_phones_total</th>\n",
       "    </tr>\n",
       "  </thead>\n",
       "  <tbody>\n",
       "    <tr>\n",
       "      <th>0</th>\n",
       "      <td>abw</td>\n",
       "      <td>1960</td>\n",
       "      <td>0.0</td>\n",
       "    </tr>\n",
       "    <tr>\n",
       "      <th>1</th>\n",
       "      <td>abw</td>\n",
       "      <td>1965</td>\n",
       "      <td>0.0</td>\n",
       "    </tr>\n",
       "    <tr>\n",
       "      <th>2</th>\n",
       "      <td>abw</td>\n",
       "      <td>1970</td>\n",
       "      <td>0.0</td>\n",
       "    </tr>\n",
       "    <tr>\n",
       "      <th>3</th>\n",
       "      <td>abw</td>\n",
       "      <td>1975</td>\n",
       "      <td>0.0</td>\n",
       "    </tr>\n",
       "    <tr>\n",
       "      <th>4</th>\n",
       "      <td>abw</td>\n",
       "      <td>1976</td>\n",
       "      <td>0.0</td>\n",
       "    </tr>\n",
       "  </tbody>\n",
       "</table>\n",
       "</div>"
      ],
      "text/plain": [
       "   geo  time  cell_phones_total\n",
       "0  abw  1960                0.0\n",
       "1  abw  1965                0.0\n",
       "2  abw  1970                0.0\n",
       "3  abw  1975                0.0\n",
       "4  abw  1976                0.0"
      ]
     },
     "execution_count": 126,
     "metadata": {},
     "output_type": "execute_result"
    }
   ],
   "source": [
    "cell_phones.head()"
   ]
  },
  {
   "cell_type": "code",
   "execution_count": 127,
   "metadata": {},
   "outputs": [
    {
     "data": {
      "text/html": [
       "<div>\n",
       "<style scoped>\n",
       "    .dataframe tbody tr th:only-of-type {\n",
       "        vertical-align: middle;\n",
       "    }\n",
       "\n",
       "    .dataframe tbody tr th {\n",
       "        vertical-align: top;\n",
       "    }\n",
       "\n",
       "    .dataframe thead th {\n",
       "        text-align: right;\n",
       "    }\n",
       "</style>\n",
       "<table border=\"1\" class=\"dataframe\">\n",
       "  <thead>\n",
       "    <tr style=\"text-align: right;\">\n",
       "      <th></th>\n",
       "      <th>geo</th>\n",
       "      <th>time</th>\n",
       "      <th>population_total</th>\n",
       "    </tr>\n",
       "  </thead>\n",
       "  <tbody>\n",
       "    <tr>\n",
       "      <th>0</th>\n",
       "      <td>afg</td>\n",
       "      <td>1800</td>\n",
       "      <td>3280000</td>\n",
       "    </tr>\n",
       "    <tr>\n",
       "      <th>1</th>\n",
       "      <td>afg</td>\n",
       "      <td>1801</td>\n",
       "      <td>3280000</td>\n",
       "    </tr>\n",
       "    <tr>\n",
       "      <th>2</th>\n",
       "      <td>afg</td>\n",
       "      <td>1802</td>\n",
       "      <td>3280000</td>\n",
       "    </tr>\n",
       "    <tr>\n",
       "      <th>3</th>\n",
       "      <td>afg</td>\n",
       "      <td>1803</td>\n",
       "      <td>3280000</td>\n",
       "    </tr>\n",
       "    <tr>\n",
       "      <th>4</th>\n",
       "      <td>afg</td>\n",
       "      <td>1804</td>\n",
       "      <td>3280000</td>\n",
       "    </tr>\n",
       "  </tbody>\n",
       "</table>\n",
       "</div>"
      ],
      "text/plain": [
       "   geo  time  population_total\n",
       "0  afg  1800           3280000\n",
       "1  afg  1801           3280000\n",
       "2  afg  1802           3280000\n",
       "3  afg  1803           3280000\n",
       "4  afg  1804           3280000"
      ]
     },
     "execution_count": 127,
     "metadata": {},
     "output_type": "execute_result"
    }
   ],
   "source": [
    "population.head()"
   ]
  },
  {
   "cell_type": "code",
   "execution_count": 192,
   "metadata": {
    "collapsed": true
   },
   "outputs": [],
   "source": [
    "df = cell_phones.merge(population)"
   ]
  },
  {
   "cell_type": "code",
   "execution_count": 129,
   "metadata": {},
   "outputs": [
    {
     "data": {
      "text/html": [
       "<div>\n",
       "<style scoped>\n",
       "    .dataframe tbody tr th:only-of-type {\n",
       "        vertical-align: middle;\n",
       "    }\n",
       "\n",
       "    .dataframe tbody tr th {\n",
       "        vertical-align: top;\n",
       "    }\n",
       "\n",
       "    .dataframe thead th {\n",
       "        text-align: right;\n",
       "    }\n",
       "</style>\n",
       "<table border=\"1\" class=\"dataframe\">\n",
       "  <thead>\n",
       "    <tr style=\"text-align: right;\">\n",
       "      <th></th>\n",
       "      <th>geo</th>\n",
       "      <th>time</th>\n",
       "      <th>cell_phones_total</th>\n",
       "      <th>population_total</th>\n",
       "    </tr>\n",
       "  </thead>\n",
       "  <tbody>\n",
       "    <tr>\n",
       "      <th>0</th>\n",
       "      <td>afg</td>\n",
       "      <td>1960</td>\n",
       "      <td>0.0</td>\n",
       "      <td>8996351</td>\n",
       "    </tr>\n",
       "    <tr>\n",
       "      <th>1</th>\n",
       "      <td>afg</td>\n",
       "      <td>1965</td>\n",
       "      <td>0.0</td>\n",
       "      <td>9938414</td>\n",
       "    </tr>\n",
       "    <tr>\n",
       "      <th>2</th>\n",
       "      <td>afg</td>\n",
       "      <td>1970</td>\n",
       "      <td>0.0</td>\n",
       "      <td>11126123</td>\n",
       "    </tr>\n",
       "    <tr>\n",
       "      <th>3</th>\n",
       "      <td>afg</td>\n",
       "      <td>1975</td>\n",
       "      <td>0.0</td>\n",
       "      <td>12590286</td>\n",
       "    </tr>\n",
       "    <tr>\n",
       "      <th>4</th>\n",
       "      <td>afg</td>\n",
       "      <td>1976</td>\n",
       "      <td>0.0</td>\n",
       "      <td>12840299</td>\n",
       "    </tr>\n",
       "  </tbody>\n",
       "</table>\n",
       "</div>"
      ],
      "text/plain": [
       "   geo  time  cell_phones_total  population_total\n",
       "0  afg  1960                0.0           8996351\n",
       "1  afg  1965                0.0           9938414\n",
       "2  afg  1970                0.0          11126123\n",
       "3  afg  1975                0.0          12590286\n",
       "4  afg  1976                0.0          12840299"
      ]
     },
     "execution_count": 129,
     "metadata": {},
     "output_type": "execute_result"
    }
   ],
   "source": [
    "df.head()"
   ]
  },
  {
   "cell_type": "code",
   "execution_count": 130,
   "metadata": {},
   "outputs": [
    {
     "data": {
      "text/plain": [
       "(8590, 4)"
      ]
     },
     "execution_count": 130,
     "metadata": {},
     "output_type": "execute_result"
    }
   ],
   "source": [
    "df.shape"
   ]
  },
  {
   "cell_type": "markdown",
   "metadata": {
    "colab_type": "text",
    "id": "xsXpDbwwW241"
   },
   "source": [
    "Then, select the `geo` and `country` columns from the `geo_country_codes` dataframe, and join with your population and cell phone data.\n",
    "\n",
    "The resulting dataframe's shape should be: (8590, 5)"
   ]
  },
  {
   "cell_type": "code",
   "execution_count": 131,
   "metadata": {
    "colab": {},
    "colab_type": "code",
    "id": "Q2LaZta_W2CE"
   },
   "outputs": [
    {
     "data": {
      "text/html": [
       "<div>\n",
       "<style scoped>\n",
       "    .dataframe tbody tr th:only-of-type {\n",
       "        vertical-align: middle;\n",
       "    }\n",
       "\n",
       "    .dataframe tbody tr th {\n",
       "        vertical-align: top;\n",
       "    }\n",
       "\n",
       "    .dataframe thead th {\n",
       "        text-align: right;\n",
       "    }\n",
       "</style>\n",
       "<table border=\"1\" class=\"dataframe\">\n",
       "  <thead>\n",
       "    <tr style=\"text-align: right;\">\n",
       "      <th></th>\n",
       "      <th>geo</th>\n",
       "      <th>alt_5</th>\n",
       "      <th>alternative_1</th>\n",
       "      <th>alternative_2</th>\n",
       "      <th>alternative_3</th>\n",
       "      <th>alternative_4_cdiac</th>\n",
       "      <th>arb1</th>\n",
       "      <th>arb2</th>\n",
       "      <th>arb3</th>\n",
       "      <th>arb4</th>\n",
       "      <th>...</th>\n",
       "      <th>latitude</th>\n",
       "      <th>longitude</th>\n",
       "      <th>main_religion_2008</th>\n",
       "      <th>country</th>\n",
       "      <th>pandg</th>\n",
       "      <th>un_state</th>\n",
       "      <th>unicode_region_subtag</th>\n",
       "      <th>upper_case_name</th>\n",
       "      <th>world_4region</th>\n",
       "      <th>world_6region</th>\n",
       "    </tr>\n",
       "  </thead>\n",
       "  <tbody>\n",
       "    <tr>\n",
       "      <th>0</th>\n",
       "      <td>abkh</td>\n",
       "      <td>NaN</td>\n",
       "      <td>NaN</td>\n",
       "      <td>NaN</td>\n",
       "      <td>NaN</td>\n",
       "      <td>NaN</td>\n",
       "      <td>NaN</td>\n",
       "      <td>NaN</td>\n",
       "      <td>NaN</td>\n",
       "      <td>NaN</td>\n",
       "      <td>...</td>\n",
       "      <td>nan</td>\n",
       "      <td>nan</td>\n",
       "      <td>NaN</td>\n",
       "      <td>Abkhazia</td>\n",
       "      <td>NaN</td>\n",
       "      <td>False</td>\n",
       "      <td>NaN</td>\n",
       "      <td>NaN</td>\n",
       "      <td>europe</td>\n",
       "      <td>europe_central_asia</td>\n",
       "    </tr>\n",
       "    <tr>\n",
       "      <th>1</th>\n",
       "      <td>abw</td>\n",
       "      <td>NaN</td>\n",
       "      <td>NaN</td>\n",
       "      <td>NaN</td>\n",
       "      <td>NaN</td>\n",
       "      <td>Aruba</td>\n",
       "      <td>NaN</td>\n",
       "      <td>NaN</td>\n",
       "      <td>NaN</td>\n",
       "      <td>NaN</td>\n",
       "      <td>...</td>\n",
       "      <td>12.5</td>\n",
       "      <td>-69.96667</td>\n",
       "      <td>christian</td>\n",
       "      <td>Aruba</td>\n",
       "      <td>NaN</td>\n",
       "      <td>False</td>\n",
       "      <td>AW</td>\n",
       "      <td>ARUBA</td>\n",
       "      <td>americas</td>\n",
       "      <td>america</td>\n",
       "    </tr>\n",
       "    <tr>\n",
       "      <th>2</th>\n",
       "      <td>afg</td>\n",
       "      <td>NaN</td>\n",
       "      <td>Islamic Republic of Afghanistan</td>\n",
       "      <td>NaN</td>\n",
       "      <td>NaN</td>\n",
       "      <td>Afghanistan</td>\n",
       "      <td>NaN</td>\n",
       "      <td>NaN</td>\n",
       "      <td>NaN</td>\n",
       "      <td>NaN</td>\n",
       "      <td>...</td>\n",
       "      <td>33.0</td>\n",
       "      <td>66.0</td>\n",
       "      <td>muslim</td>\n",
       "      <td>Afghanistan</td>\n",
       "      <td>AFGHANISTAN</td>\n",
       "      <td>True</td>\n",
       "      <td>AF</td>\n",
       "      <td>AFGHANISTAN</td>\n",
       "      <td>asia</td>\n",
       "      <td>south_asia</td>\n",
       "    </tr>\n",
       "    <tr>\n",
       "      <th>3</th>\n",
       "      <td>ago</td>\n",
       "      <td>NaN</td>\n",
       "      <td>NaN</td>\n",
       "      <td>NaN</td>\n",
       "      <td>NaN</td>\n",
       "      <td>Angola</td>\n",
       "      <td>NaN</td>\n",
       "      <td>NaN</td>\n",
       "      <td>NaN</td>\n",
       "      <td>NaN</td>\n",
       "      <td>...</td>\n",
       "      <td>-12.5</td>\n",
       "      <td>18.5</td>\n",
       "      <td>christian</td>\n",
       "      <td>Angola</td>\n",
       "      <td>ANGOLA</td>\n",
       "      <td>True</td>\n",
       "      <td>AO</td>\n",
       "      <td>ANGOLA</td>\n",
       "      <td>africa</td>\n",
       "      <td>sub_saharan_africa</td>\n",
       "    </tr>\n",
       "    <tr>\n",
       "      <th>4</th>\n",
       "      <td>aia</td>\n",
       "      <td>NaN</td>\n",
       "      <td>NaN</td>\n",
       "      <td>NaN</td>\n",
       "      <td>NaN</td>\n",
       "      <td>NaN</td>\n",
       "      <td>NaN</td>\n",
       "      <td>NaN</td>\n",
       "      <td>NaN</td>\n",
       "      <td>NaN</td>\n",
       "      <td>...</td>\n",
       "      <td>18.21667</td>\n",
       "      <td>-63.05</td>\n",
       "      <td>christian</td>\n",
       "      <td>Anguilla</td>\n",
       "      <td>NaN</td>\n",
       "      <td>False</td>\n",
       "      <td>AI</td>\n",
       "      <td>ANGUILLA</td>\n",
       "      <td>americas</td>\n",
       "      <td>america</td>\n",
       "    </tr>\n",
       "  </tbody>\n",
       "</table>\n",
       "<p>5 rows × 33 columns</p>\n",
       "</div>"
      ],
      "text/plain": [
       "    geo alt_5                    alternative_1 alternative_2 alternative_3  \\\n",
       "0  abkh   NaN                              NaN           NaN           NaN   \n",
       "1   abw   NaN                              NaN           NaN           NaN   \n",
       "2   afg   NaN  Islamic Republic of Afghanistan           NaN           NaN   \n",
       "3   ago   NaN                              NaN           NaN           NaN   \n",
       "4   aia   NaN                              NaN           NaN           NaN   \n",
       "\n",
       "  alternative_4_cdiac arb1 arb2 arb3 arb4         ...          latitude  \\\n",
       "0                 NaN  NaN  NaN  NaN  NaN         ...               nan   \n",
       "1               Aruba  NaN  NaN  NaN  NaN         ...              12.5   \n",
       "2         Afghanistan  NaN  NaN  NaN  NaN         ...              33.0   \n",
       "3              Angola  NaN  NaN  NaN  NaN         ...             -12.5   \n",
       "4                 NaN  NaN  NaN  NaN  NaN         ...          18.21667   \n",
       "\n",
       "  longitude main_religion_2008      country        pandg un_state  \\\n",
       "0       nan                NaN     Abkhazia          NaN    False   \n",
       "1 -69.96667          christian        Aruba          NaN    False   \n",
       "2      66.0             muslim  Afghanistan  AFGHANISTAN     True   \n",
       "3      18.5          christian       Angola       ANGOLA     True   \n",
       "4    -63.05          christian     Anguilla          NaN    False   \n",
       "\n",
       "  unicode_region_subtag  upper_case_name world_4region        world_6region  \n",
       "0                   NaN              NaN        europe  europe_central_asia  \n",
       "1                    AW            ARUBA      americas              america  \n",
       "2                    AF      AFGHANISTAN          asia           south_asia  \n",
       "3                    AO           ANGOLA        africa   sub_saharan_africa  \n",
       "4                    AI         ANGUILLA      americas              america  \n",
       "\n",
       "[5 rows x 33 columns]"
      ]
     },
     "execution_count": 131,
     "metadata": {},
     "output_type": "execute_result"
    }
   ],
   "source": [
    "geo_country_codes.head()"
   ]
  },
  {
   "cell_type": "code",
   "execution_count": 132,
   "metadata": {},
   "outputs": [
    {
     "data": {
      "text/html": [
       "<div>\n",
       "<style scoped>\n",
       "    .dataframe tbody tr th:only-of-type {\n",
       "        vertical-align: middle;\n",
       "    }\n",
       "\n",
       "    .dataframe tbody tr th {\n",
       "        vertical-align: top;\n",
       "    }\n",
       "\n",
       "    .dataframe thead th {\n",
       "        text-align: right;\n",
       "    }\n",
       "</style>\n",
       "<table border=\"1\" class=\"dataframe\">\n",
       "  <thead>\n",
       "    <tr style=\"text-align: right;\">\n",
       "      <th></th>\n",
       "      <th>geo</th>\n",
       "      <th>country</th>\n",
       "    </tr>\n",
       "  </thead>\n",
       "  <tbody>\n",
       "    <tr>\n",
       "      <th>0</th>\n",
       "      <td>abkh</td>\n",
       "      <td>Abkhazia</td>\n",
       "    </tr>\n",
       "    <tr>\n",
       "      <th>1</th>\n",
       "      <td>abw</td>\n",
       "      <td>Aruba</td>\n",
       "    </tr>\n",
       "    <tr>\n",
       "      <th>2</th>\n",
       "      <td>afg</td>\n",
       "      <td>Afghanistan</td>\n",
       "    </tr>\n",
       "    <tr>\n",
       "      <th>3</th>\n",
       "      <td>ago</td>\n",
       "      <td>Angola</td>\n",
       "    </tr>\n",
       "    <tr>\n",
       "      <th>4</th>\n",
       "      <td>aia</td>\n",
       "      <td>Anguilla</td>\n",
       "    </tr>\n",
       "  </tbody>\n",
       "</table>\n",
       "</div>"
      ],
      "text/plain": [
       "    geo      country\n",
       "0  abkh     Abkhazia\n",
       "1   abw        Aruba\n",
       "2   afg  Afghanistan\n",
       "3   ago       Angola\n",
       "4   aia     Anguilla"
      ]
     },
     "execution_count": 132,
     "metadata": {},
     "output_type": "execute_result"
    }
   ],
   "source": [
    "geo_country_codes[['geo', 'country']].head()"
   ]
  },
  {
   "cell_type": "code",
   "execution_count": 193,
   "metadata": {},
   "outputs": [],
   "source": [
    "df = df.merge(geo_country_codes[['geo', 'country']])"
   ]
  },
  {
   "cell_type": "code",
   "execution_count": 134,
   "metadata": {},
   "outputs": [
    {
     "data": {
      "text/html": [
       "<div>\n",
       "<style scoped>\n",
       "    .dataframe tbody tr th:only-of-type {\n",
       "        vertical-align: middle;\n",
       "    }\n",
       "\n",
       "    .dataframe tbody tr th {\n",
       "        vertical-align: top;\n",
       "    }\n",
       "\n",
       "    .dataframe thead th {\n",
       "        text-align: right;\n",
       "    }\n",
       "</style>\n",
       "<table border=\"1\" class=\"dataframe\">\n",
       "  <thead>\n",
       "    <tr style=\"text-align: right;\">\n",
       "      <th></th>\n",
       "      <th>geo</th>\n",
       "      <th>time</th>\n",
       "      <th>cell_phones_total</th>\n",
       "      <th>population_total</th>\n",
       "      <th>country</th>\n",
       "    </tr>\n",
       "  </thead>\n",
       "  <tbody>\n",
       "    <tr>\n",
       "      <th>0</th>\n",
       "      <td>afg</td>\n",
       "      <td>1960</td>\n",
       "      <td>0.0</td>\n",
       "      <td>8996351</td>\n",
       "      <td>Afghanistan</td>\n",
       "    </tr>\n",
       "    <tr>\n",
       "      <th>1</th>\n",
       "      <td>afg</td>\n",
       "      <td>1965</td>\n",
       "      <td>0.0</td>\n",
       "      <td>9938414</td>\n",
       "      <td>Afghanistan</td>\n",
       "    </tr>\n",
       "    <tr>\n",
       "      <th>2</th>\n",
       "      <td>afg</td>\n",
       "      <td>1970</td>\n",
       "      <td>0.0</td>\n",
       "      <td>11126123</td>\n",
       "      <td>Afghanistan</td>\n",
       "    </tr>\n",
       "    <tr>\n",
       "      <th>3</th>\n",
       "      <td>afg</td>\n",
       "      <td>1975</td>\n",
       "      <td>0.0</td>\n",
       "      <td>12590286</td>\n",
       "      <td>Afghanistan</td>\n",
       "    </tr>\n",
       "    <tr>\n",
       "      <th>4</th>\n",
       "      <td>afg</td>\n",
       "      <td>1976</td>\n",
       "      <td>0.0</td>\n",
       "      <td>12840299</td>\n",
       "      <td>Afghanistan</td>\n",
       "    </tr>\n",
       "  </tbody>\n",
       "</table>\n",
       "</div>"
      ],
      "text/plain": [
       "   geo  time  cell_phones_total  population_total      country\n",
       "0  afg  1960                0.0           8996351  Afghanistan\n",
       "1  afg  1965                0.0           9938414  Afghanistan\n",
       "2  afg  1970                0.0          11126123  Afghanistan\n",
       "3  afg  1975                0.0          12590286  Afghanistan\n",
       "4  afg  1976                0.0          12840299  Afghanistan"
      ]
     },
     "execution_count": 134,
     "metadata": {},
     "output_type": "execute_result"
    }
   ],
   "source": [
    "df.head()"
   ]
  },
  {
   "cell_type": "markdown",
   "metadata": {
    "colab_type": "text",
    "id": "LxCJMpbk8jy6"
   },
   "source": [
    "***Optional bonus for Part 1: Take initiative to join more data.***"
   ]
  },
  {
   "cell_type": "code",
   "execution_count": 137,
   "metadata": {},
   "outputs": [
    {
     "data": {
      "text/html": [
       "<div>\n",
       "<style scoped>\n",
       "    .dataframe tbody tr th:only-of-type {\n",
       "        vertical-align: middle;\n",
       "    }\n",
       "\n",
       "    .dataframe tbody tr th {\n",
       "        vertical-align: top;\n",
       "    }\n",
       "\n",
       "    .dataframe thead th {\n",
       "        text-align: right;\n",
       "    }\n",
       "</style>\n",
       "<table border=\"1\" class=\"dataframe\">\n",
       "  <thead>\n",
       "    <tr style=\"text-align: right;\">\n",
       "      <th></th>\n",
       "      <th>geo</th>\n",
       "      <th>time</th>\n",
       "      <th>cell_phones_total</th>\n",
       "      <th>population_total</th>\n",
       "      <th>country</th>\n",
       "      <th>world_4region</th>\n",
       "      <th>un_state</th>\n",
       "    </tr>\n",
       "  </thead>\n",
       "  <tbody>\n",
       "    <tr>\n",
       "      <th>0</th>\n",
       "      <td>afg</td>\n",
       "      <td>1960</td>\n",
       "      <td>0.0</td>\n",
       "      <td>8996351</td>\n",
       "      <td>Afghanistan</td>\n",
       "      <td>asia</td>\n",
       "      <td>True</td>\n",
       "    </tr>\n",
       "    <tr>\n",
       "      <th>1</th>\n",
       "      <td>afg</td>\n",
       "      <td>1965</td>\n",
       "      <td>0.0</td>\n",
       "      <td>9938414</td>\n",
       "      <td>Afghanistan</td>\n",
       "      <td>asia</td>\n",
       "      <td>True</td>\n",
       "    </tr>\n",
       "    <tr>\n",
       "      <th>2</th>\n",
       "      <td>afg</td>\n",
       "      <td>1970</td>\n",
       "      <td>0.0</td>\n",
       "      <td>11126123</td>\n",
       "      <td>Afghanistan</td>\n",
       "      <td>asia</td>\n",
       "      <td>True</td>\n",
       "    </tr>\n",
       "    <tr>\n",
       "      <th>3</th>\n",
       "      <td>afg</td>\n",
       "      <td>1975</td>\n",
       "      <td>0.0</td>\n",
       "      <td>12590286</td>\n",
       "      <td>Afghanistan</td>\n",
       "      <td>asia</td>\n",
       "      <td>True</td>\n",
       "    </tr>\n",
       "    <tr>\n",
       "      <th>4</th>\n",
       "      <td>afg</td>\n",
       "      <td>1976</td>\n",
       "      <td>0.0</td>\n",
       "      <td>12840299</td>\n",
       "      <td>Afghanistan</td>\n",
       "      <td>asia</td>\n",
       "      <td>True</td>\n",
       "    </tr>\n",
       "  </tbody>\n",
       "</table>\n",
       "</div>"
      ],
      "text/plain": [
       "   geo  time  cell_phones_total  population_total      country world_4region  \\\n",
       "0  afg  1960                0.0           8996351  Afghanistan          asia   \n",
       "1  afg  1965                0.0           9938414  Afghanistan          asia   \n",
       "2  afg  1970                0.0          11126123  Afghanistan          asia   \n",
       "3  afg  1975                0.0          12590286  Afghanistan          asia   \n",
       "4  afg  1976                0.0          12840299  Afghanistan          asia   \n",
       "\n",
       "   un_state  \n",
       "0      True  \n",
       "1      True  \n",
       "2      True  \n",
       "3      True  \n",
       "4      True  "
      ]
     },
     "execution_count": 137,
     "metadata": {},
     "output_type": "execute_result"
    }
   ],
   "source": [
    "df = df.merge(geo_country_codes[['geo', 'world_4region', 'un_state']]) #added the continent and whether or not in un_state\n",
    "df.head()"
   ]
  },
  {
   "cell_type": "markdown",
   "metadata": {
    "colab_type": "text",
    "id": "oK96Uj7vYjFX"
   },
   "source": [
    "### Part 2. Make features"
   ]
  },
  {
   "cell_type": "markdown",
   "metadata": {
    "colab_type": "text",
    "id": "AD2fBNrOYzCG"
   },
   "source": [
    "Calculate the number of cell phones per person, and add this column onto your dataframe.\n",
    "\n",
    "(You've calculated correctly if you get 1.220 cell phones per person in the United States in 2017.)"
   ]
  },
  {
   "cell_type": "code",
   "execution_count": 194,
   "metadata": {
    "colab": {},
    "colab_type": "code",
    "id": "wXI9nQthYnFK"
   },
   "outputs": [],
   "source": [
    "df['cell_per_person'] = df['cell_phones_total'] / df['population_total']"
   ]
  },
  {
   "cell_type": "code",
   "execution_count": 195,
   "metadata": {},
   "outputs": [
    {
     "data": {
      "text/html": [
       "<div>\n",
       "<style scoped>\n",
       "    .dataframe tbody tr th:only-of-type {\n",
       "        vertical-align: middle;\n",
       "    }\n",
       "\n",
       "    .dataframe tbody tr th {\n",
       "        vertical-align: top;\n",
       "    }\n",
       "\n",
       "    .dataframe thead th {\n",
       "        text-align: right;\n",
       "    }\n",
       "</style>\n",
       "<table border=\"1\" class=\"dataframe\">\n",
       "  <thead>\n",
       "    <tr style=\"text-align: right;\">\n",
       "      <th></th>\n",
       "      <th>geo</th>\n",
       "      <th>time</th>\n",
       "      <th>cell_phones_total</th>\n",
       "      <th>population_total</th>\n",
       "      <th>country</th>\n",
       "      <th>cell_per_person</th>\n",
       "    </tr>\n",
       "  </thead>\n",
       "  <tbody>\n",
       "    <tr>\n",
       "      <th>0</th>\n",
       "      <td>afg</td>\n",
       "      <td>1960</td>\n",
       "      <td>0.0</td>\n",
       "      <td>8996351</td>\n",
       "      <td>Afghanistan</td>\n",
       "      <td>0.0</td>\n",
       "    </tr>\n",
       "    <tr>\n",
       "      <th>1</th>\n",
       "      <td>afg</td>\n",
       "      <td>1965</td>\n",
       "      <td>0.0</td>\n",
       "      <td>9938414</td>\n",
       "      <td>Afghanistan</td>\n",
       "      <td>0.0</td>\n",
       "    </tr>\n",
       "    <tr>\n",
       "      <th>2</th>\n",
       "      <td>afg</td>\n",
       "      <td>1970</td>\n",
       "      <td>0.0</td>\n",
       "      <td>11126123</td>\n",
       "      <td>Afghanistan</td>\n",
       "      <td>0.0</td>\n",
       "    </tr>\n",
       "    <tr>\n",
       "      <th>3</th>\n",
       "      <td>afg</td>\n",
       "      <td>1975</td>\n",
       "      <td>0.0</td>\n",
       "      <td>12590286</td>\n",
       "      <td>Afghanistan</td>\n",
       "      <td>0.0</td>\n",
       "    </tr>\n",
       "    <tr>\n",
       "      <th>4</th>\n",
       "      <td>afg</td>\n",
       "      <td>1976</td>\n",
       "      <td>0.0</td>\n",
       "      <td>12840299</td>\n",
       "      <td>Afghanistan</td>\n",
       "      <td>0.0</td>\n",
       "    </tr>\n",
       "  </tbody>\n",
       "</table>\n",
       "</div>"
      ],
      "text/plain": [
       "   geo  time  cell_phones_total  population_total      country  \\\n",
       "0  afg  1960                0.0           8996351  Afghanistan   \n",
       "1  afg  1965                0.0           9938414  Afghanistan   \n",
       "2  afg  1970                0.0          11126123  Afghanistan   \n",
       "3  afg  1975                0.0          12590286  Afghanistan   \n",
       "4  afg  1976                0.0          12840299  Afghanistan   \n",
       "\n",
       "   cell_per_person  \n",
       "0              0.0  \n",
       "1              0.0  \n",
       "2              0.0  \n",
       "3              0.0  \n",
       "4              0.0  "
      ]
     },
     "execution_count": 195,
     "metadata": {},
     "output_type": "execute_result"
    }
   ],
   "source": [
    "df.head()"
   ]
  },
  {
   "cell_type": "code",
   "execution_count": 196,
   "metadata": {},
   "outputs": [
    {
     "data": {
      "text/html": [
       "<div>\n",
       "<style scoped>\n",
       "    .dataframe tbody tr th:only-of-type {\n",
       "        vertical-align: middle;\n",
       "    }\n",
       "\n",
       "    .dataframe tbody tr th {\n",
       "        vertical-align: top;\n",
       "    }\n",
       "\n",
       "    .dataframe thead th {\n",
       "        text-align: right;\n",
       "    }\n",
       "</style>\n",
       "<table border=\"1\" class=\"dataframe\">\n",
       "  <thead>\n",
       "    <tr style=\"text-align: right;\">\n",
       "      <th></th>\n",
       "      <th>geo</th>\n",
       "      <th>time</th>\n",
       "      <th>cell_phones_total</th>\n",
       "      <th>population_total</th>\n",
       "      <th>country</th>\n",
       "      <th>cell_per_person</th>\n",
       "    </tr>\n",
       "  </thead>\n",
       "  <tbody>\n",
       "    <tr>\n",
       "      <th>8134</th>\n",
       "      <td>usa</td>\n",
       "      <td>2017</td>\n",
       "      <td>395,881,000.0</td>\n",
       "      <td>324459463</td>\n",
       "      <td>United States</td>\n",
       "      <td>1.2201246847283354</td>\n",
       "    </tr>\n",
       "  </tbody>\n",
       "</table>\n",
       "</div>"
      ],
      "text/plain": [
       "      geo  time  cell_phones_total  population_total        country  \\\n",
       "8134  usa  2017      395,881,000.0         324459463  United States   \n",
       "\n",
       "        cell_per_person  \n",
       "8134 1.2201246847283354  "
      ]
     },
     "execution_count": 196,
     "metadata": {},
     "output_type": "execute_result"
    }
   ],
   "source": [
    "df[(df['time'] == 2017) & (df['country'] == 'United States')]"
   ]
  },
  {
   "cell_type": "markdown",
   "metadata": {
    "colab_type": "text",
    "id": "S3QFdsnRZMH6"
   },
   "source": [
    "Modify the `geo` column to make the geo codes uppercase instead of lowercase."
   ]
  },
  {
   "cell_type": "code",
   "execution_count": 197,
   "metadata": {
    "colab": {},
    "colab_type": "code",
    "collapsed": true,
    "id": "93ADij8_YkOq"
   },
   "outputs": [],
   "source": [
    "def make_capital(entry):\n",
    "    return entry.upper()\n",
    "\n",
    "df['geo'] = df['geo'].apply(make_capital)"
   ]
  },
  {
   "cell_type": "code",
   "execution_count": 198,
   "metadata": {},
   "outputs": [
    {
     "data": {
      "text/html": [
       "<div>\n",
       "<style scoped>\n",
       "    .dataframe tbody tr th:only-of-type {\n",
       "        vertical-align: middle;\n",
       "    }\n",
       "\n",
       "    .dataframe tbody tr th {\n",
       "        vertical-align: top;\n",
       "    }\n",
       "\n",
       "    .dataframe thead th {\n",
       "        text-align: right;\n",
       "    }\n",
       "</style>\n",
       "<table border=\"1\" class=\"dataframe\">\n",
       "  <thead>\n",
       "    <tr style=\"text-align: right;\">\n",
       "      <th></th>\n",
       "      <th>geo</th>\n",
       "      <th>time</th>\n",
       "      <th>cell_phones_total</th>\n",
       "      <th>population_total</th>\n",
       "      <th>country</th>\n",
       "      <th>cell_per_person</th>\n",
       "    </tr>\n",
       "  </thead>\n",
       "  <tbody>\n",
       "    <tr>\n",
       "      <th>0</th>\n",
       "      <td>AFG</td>\n",
       "      <td>1960</td>\n",
       "      <td>0.0</td>\n",
       "      <td>8996351</td>\n",
       "      <td>Afghanistan</td>\n",
       "      <td>0.0</td>\n",
       "    </tr>\n",
       "    <tr>\n",
       "      <th>1</th>\n",
       "      <td>AFG</td>\n",
       "      <td>1965</td>\n",
       "      <td>0.0</td>\n",
       "      <td>9938414</td>\n",
       "      <td>Afghanistan</td>\n",
       "      <td>0.0</td>\n",
       "    </tr>\n",
       "    <tr>\n",
       "      <th>2</th>\n",
       "      <td>AFG</td>\n",
       "      <td>1970</td>\n",
       "      <td>0.0</td>\n",
       "      <td>11126123</td>\n",
       "      <td>Afghanistan</td>\n",
       "      <td>0.0</td>\n",
       "    </tr>\n",
       "    <tr>\n",
       "      <th>3</th>\n",
       "      <td>AFG</td>\n",
       "      <td>1975</td>\n",
       "      <td>0.0</td>\n",
       "      <td>12590286</td>\n",
       "      <td>Afghanistan</td>\n",
       "      <td>0.0</td>\n",
       "    </tr>\n",
       "    <tr>\n",
       "      <th>4</th>\n",
       "      <td>AFG</td>\n",
       "      <td>1976</td>\n",
       "      <td>0.0</td>\n",
       "      <td>12840299</td>\n",
       "      <td>Afghanistan</td>\n",
       "      <td>0.0</td>\n",
       "    </tr>\n",
       "  </tbody>\n",
       "</table>\n",
       "</div>"
      ],
      "text/plain": [
       "   geo  time  cell_phones_total  population_total      country  \\\n",
       "0  AFG  1960                0.0           8996351  Afghanistan   \n",
       "1  AFG  1965                0.0           9938414  Afghanistan   \n",
       "2  AFG  1970                0.0          11126123  Afghanistan   \n",
       "3  AFG  1975                0.0          12590286  Afghanistan   \n",
       "4  AFG  1976                0.0          12840299  Afghanistan   \n",
       "\n",
       "   cell_per_person  \n",
       "0              0.0  \n",
       "1              0.0  \n",
       "2              0.0  \n",
       "3              0.0  \n",
       "4              0.0  "
      ]
     },
     "execution_count": 198,
     "metadata": {},
     "output_type": "execute_result"
    }
   ],
   "source": [
    "df.head()"
   ]
  },
  {
   "cell_type": "code",
   "execution_count": 189,
   "metadata": {
    "collapsed": true
   },
   "outputs": [],
   "source": [
    "def make_title(entry):\n",
    "    return entry.title()\n",
    "\n",
    "df['world_4region'] = df['world_4region'].apply(make_title)"
   ]
  },
  {
   "cell_type": "code",
   "execution_count": 190,
   "metadata": {},
   "outputs": [
    {
     "data": {
      "text/html": [
       "<div>\n",
       "<style scoped>\n",
       "    .dataframe tbody tr th:only-of-type {\n",
       "        vertical-align: middle;\n",
       "    }\n",
       "\n",
       "    .dataframe tbody tr th {\n",
       "        vertical-align: top;\n",
       "    }\n",
       "\n",
       "    .dataframe thead th {\n",
       "        text-align: right;\n",
       "    }\n",
       "</style>\n",
       "<table border=\"1\" class=\"dataframe\">\n",
       "  <thead>\n",
       "    <tr style=\"text-align: right;\">\n",
       "      <th></th>\n",
       "      <th>geo</th>\n",
       "      <th>time</th>\n",
       "      <th>cell_phones_total</th>\n",
       "      <th>population_total</th>\n",
       "      <th>country</th>\n",
       "      <th>world_4region</th>\n",
       "      <th>un_state</th>\n",
       "      <th>cell_per_person</th>\n",
       "    </tr>\n",
       "  </thead>\n",
       "  <tbody>\n",
       "    <tr>\n",
       "      <th>0</th>\n",
       "      <td>AFG</td>\n",
       "      <td>1960</td>\n",
       "      <td>0.0</td>\n",
       "      <td>8996351</td>\n",
       "      <td>Afghanistan</td>\n",
       "      <td>Asia</td>\n",
       "      <td>True</td>\n",
       "      <td>0.0</td>\n",
       "    </tr>\n",
       "    <tr>\n",
       "      <th>1</th>\n",
       "      <td>AFG</td>\n",
       "      <td>1965</td>\n",
       "      <td>0.0</td>\n",
       "      <td>9938414</td>\n",
       "      <td>Afghanistan</td>\n",
       "      <td>Asia</td>\n",
       "      <td>True</td>\n",
       "      <td>0.0</td>\n",
       "    </tr>\n",
       "    <tr>\n",
       "      <th>2</th>\n",
       "      <td>AFG</td>\n",
       "      <td>1970</td>\n",
       "      <td>0.0</td>\n",
       "      <td>11126123</td>\n",
       "      <td>Afghanistan</td>\n",
       "      <td>Asia</td>\n",
       "      <td>True</td>\n",
       "      <td>0.0</td>\n",
       "    </tr>\n",
       "    <tr>\n",
       "      <th>3</th>\n",
       "      <td>AFG</td>\n",
       "      <td>1975</td>\n",
       "      <td>0.0</td>\n",
       "      <td>12590286</td>\n",
       "      <td>Afghanistan</td>\n",
       "      <td>Asia</td>\n",
       "      <td>True</td>\n",
       "      <td>0.0</td>\n",
       "    </tr>\n",
       "    <tr>\n",
       "      <th>4</th>\n",
       "      <td>AFG</td>\n",
       "      <td>1976</td>\n",
       "      <td>0.0</td>\n",
       "      <td>12840299</td>\n",
       "      <td>Afghanistan</td>\n",
       "      <td>Asia</td>\n",
       "      <td>True</td>\n",
       "      <td>0.0</td>\n",
       "    </tr>\n",
       "  </tbody>\n",
       "</table>\n",
       "</div>"
      ],
      "text/plain": [
       "   geo  time  cell_phones_total  population_total      country world_4region  \\\n",
       "0  AFG  1960                0.0           8996351  Afghanistan          Asia   \n",
       "1  AFG  1965                0.0           9938414  Afghanistan          Asia   \n",
       "2  AFG  1970                0.0          11126123  Afghanistan          Asia   \n",
       "3  AFG  1975                0.0          12590286  Afghanistan          Asia   \n",
       "4  AFG  1976                0.0          12840299  Afghanistan          Asia   \n",
       "\n",
       "   un_state  cell_per_person  \n",
       "0      True              0.0  \n",
       "1      True              0.0  \n",
       "2      True              0.0  \n",
       "3      True              0.0  \n",
       "4      True              0.0  "
      ]
     },
     "execution_count": 190,
     "metadata": {},
     "output_type": "execute_result"
    }
   ],
   "source": [
    "df.head()"
   ]
  },
  {
   "cell_type": "markdown",
   "metadata": {
    "colab_type": "text",
    "id": "cQR5RhDa8jzO"
   },
   "source": [
    "***Optional bonus for Part 2: Take initiative to make more features.***"
   ]
  },
  {
   "cell_type": "markdown",
   "metadata": {
    "colab_type": "text",
    "id": "hlPDAFCfaF6C"
   },
   "source": [
    "### Part 3. Process data"
   ]
  },
  {
   "cell_type": "markdown",
   "metadata": {
    "colab_type": "text",
    "id": "k-pudNWve2SQ"
   },
   "source": [
    "Use the describe function, to describe your dataframe's numeric columns, and then its non-numeric columns.\n",
    "\n",
    "(You'll see the time period ranges from 1960 to 2017, and there are 195 unique countries represented.)"
   ]
  },
  {
   "cell_type": "code",
   "execution_count": 199,
   "metadata": {
    "colab": {},
    "colab_type": "code",
    "id": "g26yemKre2Cu"
   },
   "outputs": [
    {
     "data": {
      "text/html": [
       "<div>\n",
       "<style scoped>\n",
       "    .dataframe tbody tr th:only-of-type {\n",
       "        vertical-align: middle;\n",
       "    }\n",
       "\n",
       "    .dataframe tbody tr th {\n",
       "        vertical-align: top;\n",
       "    }\n",
       "\n",
       "    .dataframe thead th {\n",
       "        text-align: right;\n",
       "    }\n",
       "</style>\n",
       "<table border=\"1\" class=\"dataframe\">\n",
       "  <thead>\n",
       "    <tr style=\"text-align: right;\">\n",
       "      <th></th>\n",
       "      <th>time</th>\n",
       "      <th>cell_phones_total</th>\n",
       "      <th>population_total</th>\n",
       "      <th>cell_per_person</th>\n",
       "    </tr>\n",
       "  </thead>\n",
       "  <tbody>\n",
       "    <tr>\n",
       "      <th>count</th>\n",
       "      <td>8,590.0</td>\n",
       "      <td>8,590.0</td>\n",
       "      <td>8,590.0</td>\n",
       "      <td>8,590.0</td>\n",
       "    </tr>\n",
       "    <tr>\n",
       "      <th>mean</th>\n",
       "      <td>1,994.1934807916182</td>\n",
       "      <td>9,004,949.642905472</td>\n",
       "      <td>29,838,230.581722934</td>\n",
       "      <td>0.2796385558059151</td>\n",
       "    </tr>\n",
       "    <tr>\n",
       "      <th>std</th>\n",
       "      <td>14.257974607310302</td>\n",
       "      <td>55,734,084.872179635</td>\n",
       "      <td>116,128,377.47477299</td>\n",
       "      <td>0.454246656214052</td>\n",
       "    </tr>\n",
       "    <tr>\n",
       "      <th>min</th>\n",
       "      <td>1,960.0</td>\n",
       "      <td>0.0</td>\n",
       "      <td>4,433.0</td>\n",
       "      <td>0.0</td>\n",
       "    </tr>\n",
       "    <tr>\n",
       "      <th>25%</th>\n",
       "      <td>1,983.0</td>\n",
       "      <td>0.0</td>\n",
       "      <td>1,456,148.0</td>\n",
       "      <td>0.0</td>\n",
       "    </tr>\n",
       "    <tr>\n",
       "      <th>50%</th>\n",
       "      <td>1,995.0</td>\n",
       "      <td>6,200.0</td>\n",
       "      <td>5,725,062.5</td>\n",
       "      <td>0.0015636266438163813</td>\n",
       "    </tr>\n",
       "    <tr>\n",
       "      <th>75%</th>\n",
       "      <td>2,006.0</td>\n",
       "      <td>1,697,652.0</td>\n",
       "      <td>18,105,812.0</td>\n",
       "      <td>0.4611491855201403</td>\n",
       "    </tr>\n",
       "    <tr>\n",
       "      <th>max</th>\n",
       "      <td>2,017.0</td>\n",
       "      <td>1,474,097,000.0</td>\n",
       "      <td>1,409,517,397.0</td>\n",
       "      <td>2.490242818521353</td>\n",
       "    </tr>\n",
       "  </tbody>\n",
       "</table>\n",
       "</div>"
      ],
      "text/plain": [
       "                     time    cell_phones_total     population_total  \\\n",
       "count             8,590.0              8,590.0              8,590.0   \n",
       "mean  1,994.1934807916182  9,004,949.642905472 29,838,230.581722934   \n",
       "std    14.257974607310302 55,734,084.872179635 116,128,377.47477299   \n",
       "min               1,960.0                  0.0              4,433.0   \n",
       "25%               1,983.0                  0.0          1,456,148.0   \n",
       "50%               1,995.0              6,200.0          5,725,062.5   \n",
       "75%               2,006.0          1,697,652.0         18,105,812.0   \n",
       "max               2,017.0      1,474,097,000.0      1,409,517,397.0   \n",
       "\n",
       "            cell_per_person  \n",
       "count               8,590.0  \n",
       "mean     0.2796385558059151  \n",
       "std       0.454246656214052  \n",
       "min                     0.0  \n",
       "25%                     0.0  \n",
       "50%   0.0015636266438163813  \n",
       "75%      0.4611491855201403  \n",
       "max       2.490242818521353  "
      ]
     },
     "execution_count": 199,
     "metadata": {},
     "output_type": "execute_result"
    }
   ],
   "source": [
    "df.describe()"
   ]
  },
  {
   "cell_type": "code",
   "execution_count": 200,
   "metadata": {},
   "outputs": [
    {
     "data": {
      "text/html": [
       "<div>\n",
       "<style scoped>\n",
       "    .dataframe tbody tr th:only-of-type {\n",
       "        vertical-align: middle;\n",
       "    }\n",
       "\n",
       "    .dataframe tbody tr th {\n",
       "        vertical-align: top;\n",
       "    }\n",
       "\n",
       "    .dataframe thead th {\n",
       "        text-align: right;\n",
       "    }\n",
       "</style>\n",
       "<table border=\"1\" class=\"dataframe\">\n",
       "  <thead>\n",
       "    <tr style=\"text-align: right;\">\n",
       "      <th></th>\n",
       "      <th>geo</th>\n",
       "      <th>country</th>\n",
       "    </tr>\n",
       "  </thead>\n",
       "  <tbody>\n",
       "    <tr>\n",
       "      <th>count</th>\n",
       "      <td>8590</td>\n",
       "      <td>8590</td>\n",
       "    </tr>\n",
       "    <tr>\n",
       "      <th>unique</th>\n",
       "      <td>195</td>\n",
       "      <td>195</td>\n",
       "    </tr>\n",
       "    <tr>\n",
       "      <th>top</th>\n",
       "      <td>MWI</td>\n",
       "      <td>Bosnia and Herzegovina</td>\n",
       "    </tr>\n",
       "    <tr>\n",
       "      <th>freq</th>\n",
       "      <td>46</td>\n",
       "      <td>46</td>\n",
       "    </tr>\n",
       "  </tbody>\n",
       "</table>\n",
       "</div>"
      ],
      "text/plain": [
       "         geo                 country\n",
       "count   8590                    8590\n",
       "unique   195                     195\n",
       "top      MWI  Bosnia and Herzegovina\n",
       "freq      46                      46"
      ]
     },
     "execution_count": 200,
     "metadata": {},
     "output_type": "execute_result"
    }
   ],
   "source": [
    "df.describe(exclude=np.number)"
   ]
  },
  {
   "cell_type": "markdown",
   "metadata": {
    "colab_type": "text",
    "id": "zALg-RrYaLcI"
   },
   "source": [
    "In 2017, what were the top 5 countries with the most cell phones total?\n",
    "\n",
    "Your list of countries should have these totals:\n",
    "\n",
    "| country | cell phones total |\n",
    "|:-------:|:-----------------:|\n",
    "|    ?    |     1,474,097,000 |\n",
    "|    ?    |     1,168,902,277 |\n",
    "|    ?    |       458,923,202 |\n",
    "|    ?    |       395,881,000 |\n",
    "|    ?    |       236,488,548 |\n",
    "\n"
   ]
  },
  {
   "cell_type": "code",
   "execution_count": 201,
   "metadata": {
    "colab": {},
    "colab_type": "code",
    "collapsed": true,
    "id": "JdlWvezHaZxD"
   },
   "outputs": [],
   "source": [
    "# This optional code formats float numbers with comma separators\n",
    "pd.options.display.float_format = '{:,}'.format"
   ]
  },
  {
   "cell_type": "code",
   "execution_count": 207,
   "metadata": {},
   "outputs": [
    {
     "data": {
      "text/html": [
       "<div>\n",
       "<style scoped>\n",
       "    .dataframe tbody tr th:only-of-type {\n",
       "        vertical-align: middle;\n",
       "    }\n",
       "\n",
       "    .dataframe tbody tr th {\n",
       "        vertical-align: top;\n",
       "    }\n",
       "\n",
       "    .dataframe thead th {\n",
       "        text-align: right;\n",
       "    }\n",
       "</style>\n",
       "<table border=\"1\" class=\"dataframe\">\n",
       "  <thead>\n",
       "    <tr style=\"text-align: right;\">\n",
       "      <th></th>\n",
       "      <th>geo</th>\n",
       "      <th>time</th>\n",
       "      <th>cell_phones_total</th>\n",
       "      <th>population_total</th>\n",
       "      <th>country</th>\n",
       "      <th>cell_per_person</th>\n",
       "    </tr>\n",
       "  </thead>\n",
       "  <tbody>\n",
       "    <tr>\n",
       "      <th>1496</th>\n",
       "      <td>CHN</td>\n",
       "      <td>2017</td>\n",
       "      <td>1,474,097,000.0</td>\n",
       "      <td>1409517397</td>\n",
       "      <td>China</td>\n",
       "      <td>1.0458168186766978</td>\n",
       "    </tr>\n",
       "    <tr>\n",
       "      <th>3595</th>\n",
       "      <td>IND</td>\n",
       "      <td>2017</td>\n",
       "      <td>1,168,902,277.0</td>\n",
       "      <td>1339180127</td>\n",
       "      <td>India</td>\n",
       "      <td>0.8728491809526382</td>\n",
       "    </tr>\n",
       "    <tr>\n",
       "      <th>3549</th>\n",
       "      <td>IDN</td>\n",
       "      <td>2017</td>\n",
       "      <td>458,923,202.0</td>\n",
       "      <td>263991379</td>\n",
       "      <td>Indonesia</td>\n",
       "      <td>1.738402230172827</td>\n",
       "    </tr>\n",
       "    <tr>\n",
       "      <th>8134</th>\n",
       "      <td>USA</td>\n",
       "      <td>2017</td>\n",
       "      <td>395,881,000.0</td>\n",
       "      <td>324459463</td>\n",
       "      <td>United States</td>\n",
       "      <td>1.2201246847283354</td>\n",
       "    </tr>\n",
       "    <tr>\n",
       "      <th>1084</th>\n",
       "      <td>BRA</td>\n",
       "      <td>2017</td>\n",
       "      <td>236,488,548.0</td>\n",
       "      <td>209288278</td>\n",
       "      <td>Brazil</td>\n",
       "      <td>1.1299655683535224</td>\n",
       "    </tr>\n",
       "  </tbody>\n",
       "</table>\n",
       "</div>"
      ],
      "text/plain": [
       "      geo  time  cell_phones_total  population_total        country  \\\n",
       "1496  CHN  2017    1,474,097,000.0        1409517397          China   \n",
       "3595  IND  2017    1,168,902,277.0        1339180127          India   \n",
       "3549  IDN  2017      458,923,202.0         263991379      Indonesia   \n",
       "8134  USA  2017      395,881,000.0         324459463  United States   \n",
       "1084  BRA  2017      236,488,548.0         209288278         Brazil   \n",
       "\n",
       "        cell_per_person  \n",
       "1496 1.0458168186766978  \n",
       "3595 0.8728491809526382  \n",
       "3549  1.738402230172827  \n",
       "8134 1.2201246847283354  \n",
       "1084 1.1299655683535224  "
      ]
     },
     "execution_count": 207,
     "metadata": {},
     "output_type": "execute_result"
    }
   ],
   "source": [
    "df[df['time'] == 2017].sort_values(by=['cell_phones_total'], ascending=False).head()"
   ]
  },
  {
   "cell_type": "markdown",
   "metadata": {
    "colab_type": "text",
    "id": "03V3Wln_h0dj"
   },
   "source": [
    "What was the first year that the USA had more cell phones than people?"
   ]
  },
  {
   "cell_type": "code",
   "execution_count": 209,
   "metadata": {
    "colab": {},
    "colab_type": "code",
    "id": "KONQkQZ3haNC"
   },
   "outputs": [
    {
     "data": {
      "text/html": [
       "<div>\n",
       "<style scoped>\n",
       "    .dataframe tbody tr th:only-of-type {\n",
       "        vertical-align: middle;\n",
       "    }\n",
       "\n",
       "    .dataframe tbody tr th {\n",
       "        vertical-align: top;\n",
       "    }\n",
       "\n",
       "    .dataframe thead th {\n",
       "        text-align: right;\n",
       "    }\n",
       "</style>\n",
       "<table border=\"1\" class=\"dataframe\">\n",
       "  <thead>\n",
       "    <tr style=\"text-align: right;\">\n",
       "      <th></th>\n",
       "      <th>geo</th>\n",
       "      <th>time</th>\n",
       "      <th>cell_phones_total</th>\n",
       "      <th>population_total</th>\n",
       "      <th>country</th>\n",
       "      <th>cell_per_person</th>\n",
       "    </tr>\n",
       "  </thead>\n",
       "  <tbody>\n",
       "    <tr>\n",
       "      <th>8134</th>\n",
       "      <td>USA</td>\n",
       "      <td>2017</td>\n",
       "      <td>395,881,000.0</td>\n",
       "      <td>324459463</td>\n",
       "      <td>United States</td>\n",
       "      <td>1.2201246847283354</td>\n",
       "    </tr>\n",
       "    <tr>\n",
       "      <th>8133</th>\n",
       "      <td>USA</td>\n",
       "      <td>2016</td>\n",
       "      <td>395,881,000.0</td>\n",
       "      <td>322179605</td>\n",
       "      <td>United States</td>\n",
       "      <td>1.228758722948959</td>\n",
       "    </tr>\n",
       "    <tr>\n",
       "      <th>8132</th>\n",
       "      <td>USA</td>\n",
       "      <td>2015</td>\n",
       "      <td>382,307,000.0</td>\n",
       "      <td>319929162</td>\n",
       "      <td>United States</td>\n",
       "      <td>1.1949739048796058</td>\n",
       "    </tr>\n",
       "    <tr>\n",
       "      <th>8131</th>\n",
       "      <td>USA</td>\n",
       "      <td>2014</td>\n",
       "      <td>355,500,000.0</td>\n",
       "      <td>317718779</td>\n",
       "      <td>United States</td>\n",
       "      <td>1.118914031833164</td>\n",
       "    </tr>\n",
       "    <tr>\n",
       "      <th>8130</th>\n",
       "      <td>USA</td>\n",
       "      <td>2013</td>\n",
       "      <td>310,698,000.0</td>\n",
       "      <td>315536676</td>\n",
       "      <td>United States</td>\n",
       "      <td>0.9846652501340288</td>\n",
       "    </tr>\n",
       "  </tbody>\n",
       "</table>\n",
       "</div>"
      ],
      "text/plain": [
       "      geo  time  cell_phones_total  population_total        country  \\\n",
       "8134  USA  2017      395,881,000.0         324459463  United States   \n",
       "8133  USA  2016      395,881,000.0         322179605  United States   \n",
       "8132  USA  2015      382,307,000.0         319929162  United States   \n",
       "8131  USA  2014      355,500,000.0         317718779  United States   \n",
       "8130  USA  2013      310,698,000.0         315536676  United States   \n",
       "\n",
       "        cell_per_person  \n",
       "8134 1.2201246847283354  \n",
       "8133  1.228758722948959  \n",
       "8132 1.1949739048796058  \n",
       "8131  1.118914031833164  \n",
       "8130 0.9846652501340288  "
      ]
     },
     "execution_count": 209,
     "metadata": {},
     "output_type": "execute_result"
    }
   ],
   "source": [
    "df[df['country'] == 'United States'].sort_values(by=['cell_phones_total'], ascending=False).head()"
   ]
  },
  {
   "cell_type": "markdown",
   "metadata": {},
   "source": [
    "The first year that the USA had more cell phones than people was 2014."
   ]
  },
  {
   "cell_type": "markdown",
   "metadata": {
    "colab_type": "text",
    "id": "4pHjHTwp8jzn"
   },
   "source": [
    "***Optional bonus for Part 3: Take initiative to do more exploratory data analysis.***"
   ]
  },
  {
   "cell_type": "code",
   "execution_count": 211,
   "metadata": {},
   "outputs": [
    {
     "data": {
      "text/html": [
       "<div>\n",
       "<style scoped>\n",
       "    .dataframe tbody tr th:only-of-type {\n",
       "        vertical-align: middle;\n",
       "    }\n",
       "\n",
       "    .dataframe tbody tr th {\n",
       "        vertical-align: top;\n",
       "    }\n",
       "\n",
       "    .dataframe thead th {\n",
       "        text-align: right;\n",
       "    }\n",
       "</style>\n",
       "<table border=\"1\" class=\"dataframe\">\n",
       "  <thead>\n",
       "    <tr style=\"text-align: right;\">\n",
       "      <th></th>\n",
       "      <th>geo</th>\n",
       "      <th>time</th>\n",
       "      <th>cell_phones_total</th>\n",
       "      <th>population_total</th>\n",
       "      <th>country</th>\n",
       "      <th>cell_per_person</th>\n",
       "    </tr>\n",
       "  </thead>\n",
       "  <tbody>\n",
       "    <tr>\n",
       "      <th>1496</th>\n",
       "      <td>CHN</td>\n",
       "      <td>2017</td>\n",
       "      <td>1,474,097,000.0</td>\n",
       "      <td>1409517397</td>\n",
       "      <td>China</td>\n",
       "      <td>1.0458168186766978</td>\n",
       "    </tr>\n",
       "    <tr>\n",
       "      <th>1495</th>\n",
       "      <td>CHN</td>\n",
       "      <td>2016</td>\n",
       "      <td>1,364,934,000.0</td>\n",
       "      <td>1403500365</td>\n",
       "      <td>China</td>\n",
       "      <td>0.9725213003418065</td>\n",
       "    </tr>\n",
       "    <tr>\n",
       "      <th>1494</th>\n",
       "      <td>CHN</td>\n",
       "      <td>2015</td>\n",
       "      <td>1,291,984,200.0</td>\n",
       "      <td>1397028553</td>\n",
       "      <td>China</td>\n",
       "      <td>0.9248087286588194</td>\n",
       "    </tr>\n",
       "    <tr>\n",
       "      <th>1493</th>\n",
       "      <td>CHN</td>\n",
       "      <td>2014</td>\n",
       "      <td>1,286,093,000.0</td>\n",
       "      <td>1390110388</td>\n",
       "      <td>China</td>\n",
       "      <td>0.9251732891877361</td>\n",
       "    </tr>\n",
       "    <tr>\n",
       "      <th>1492</th>\n",
       "      <td>CHN</td>\n",
       "      <td>2013</td>\n",
       "      <td>1,229,113,000.0</td>\n",
       "      <td>1382793212</td>\n",
       "      <td>China</td>\n",
       "      <td>0.8888624772913624</td>\n",
       "    </tr>\n",
       "  </tbody>\n",
       "</table>\n",
       "</div>"
      ],
      "text/plain": [
       "      geo  time  cell_phones_total  population_total country  \\\n",
       "1496  CHN  2017    1,474,097,000.0        1409517397   China   \n",
       "1495  CHN  2016    1,364,934,000.0        1403500365   China   \n",
       "1494  CHN  2015    1,291,984,200.0        1397028553   China   \n",
       "1493  CHN  2014    1,286,093,000.0        1390110388   China   \n",
       "1492  CHN  2013    1,229,113,000.0        1382793212   China   \n",
       "\n",
       "        cell_per_person  \n",
       "1496 1.0458168186766978  \n",
       "1495 0.9725213003418065  \n",
       "1494 0.9248087286588194  \n",
       "1493 0.9251732891877361  \n",
       "1492 0.8888624772913624  "
      ]
     },
     "execution_count": 211,
     "metadata": {},
     "output_type": "execute_result"
    }
   ],
   "source": [
    "df[df['country'] == 'China'].sort_values(by=['cell_phones_total'], ascending=False).head()"
   ]
  },
  {
   "cell_type": "markdown",
   "metadata": {},
   "source": [
    "2017 was the first year that China had more cell phones than people."
   ]
  },
  {
   "cell_type": "code",
   "execution_count": 213,
   "metadata": {},
   "outputs": [
    {
     "data": {
      "text/html": [
       "<div>\n",
       "<style scoped>\n",
       "    .dataframe tbody tr th:only-of-type {\n",
       "        vertical-align: middle;\n",
       "    }\n",
       "\n",
       "    .dataframe tbody tr th {\n",
       "        vertical-align: top;\n",
       "    }\n",
       "\n",
       "    .dataframe thead th {\n",
       "        text-align: right;\n",
       "    }\n",
       "</style>\n",
       "<table border=\"1\" class=\"dataframe\">\n",
       "  <thead>\n",
       "    <tr style=\"text-align: right;\">\n",
       "      <th></th>\n",
       "      <th>geo</th>\n",
       "      <th>time</th>\n",
       "      <th>cell_phones_total</th>\n",
       "      <th>population_total</th>\n",
       "      <th>country</th>\n",
       "      <th>cell_per_person</th>\n",
       "    </tr>\n",
       "  </thead>\n",
       "  <tbody>\n",
       "    <tr>\n",
       "      <th>3595</th>\n",
       "      <td>IND</td>\n",
       "      <td>2017</td>\n",
       "      <td>1,168,902,277.0</td>\n",
       "      <td>1339180127</td>\n",
       "      <td>India</td>\n",
       "      <td>0.8728491809526382</td>\n",
       "    </tr>\n",
       "    <tr>\n",
       "      <th>3594</th>\n",
       "      <td>IND</td>\n",
       "      <td>2016</td>\n",
       "      <td>1,127,809,000.0</td>\n",
       "      <td>1324171354</td>\n",
       "      <td>India</td>\n",
       "      <td>0.8517092569576913</td>\n",
       "    </tr>\n",
       "    <tr>\n",
       "      <th>3593</th>\n",
       "      <td>IND</td>\n",
       "      <td>2015</td>\n",
       "      <td>1,001,056,000.0</td>\n",
       "      <td>1309053980</td>\n",
       "      <td>India</td>\n",
       "      <td>0.7647171280133154</td>\n",
       "    </tr>\n",
       "    <tr>\n",
       "      <th>3592</th>\n",
       "      <td>IND</td>\n",
       "      <td>2014</td>\n",
       "      <td>944,008,677.0</td>\n",
       "      <td>1293859294</td>\n",
       "      <td>India</td>\n",
       "      <td>0.7296069065451255</td>\n",
       "    </tr>\n",
       "    <tr>\n",
       "      <th>3589</th>\n",
       "      <td>IND</td>\n",
       "      <td>2011</td>\n",
       "      <td>893,862,478.0</td>\n",
       "      <td>1247236029</td>\n",
       "      <td>India</td>\n",
       "      <td>0.7166746768185286</td>\n",
       "    </tr>\n",
       "  </tbody>\n",
       "</table>\n",
       "</div>"
      ],
      "text/plain": [
       "      geo  time  cell_phones_total  population_total country  \\\n",
       "3595  IND  2017    1,168,902,277.0        1339180127   India   \n",
       "3594  IND  2016    1,127,809,000.0        1324171354   India   \n",
       "3593  IND  2015    1,001,056,000.0        1309053980   India   \n",
       "3592  IND  2014      944,008,677.0        1293859294   India   \n",
       "3589  IND  2011      893,862,478.0        1247236029   India   \n",
       "\n",
       "        cell_per_person  \n",
       "3595 0.8728491809526382  \n",
       "3594 0.8517092569576913  \n",
       "3593 0.7647171280133154  \n",
       "3592 0.7296069065451255  \n",
       "3589 0.7166746768185286  "
      ]
     },
     "execution_count": 213,
     "metadata": {},
     "output_type": "execute_result"
    }
   ],
   "source": [
    "df[df['country'] == 'India'].sort_values(by=['cell_phones_total'], ascending=False).head()"
   ]
  },
  {
   "cell_type": "markdown",
   "metadata": {},
   "source": [
    "India still does not have as many cell phones as they do people!"
   ]
  },
  {
   "cell_type": "markdown",
   "metadata": {
    "colab_type": "text",
    "id": "6J7iwMnTg8KZ"
   },
   "source": [
    "### (OPTIONAL) Part 4. Reshape data"
   ]
  },
  {
   "cell_type": "markdown",
   "metadata": {
    "colab_type": "text",
    "id": "LP9InazRkUxG"
   },
   "source": [
    "*This part is not needed to pass the sprint challenge, only to get a 3! Only work on this after completing the other sections.*\n",
    "\n",
    "Create a pivot table:\n",
    "- Columns: Years 2007—2017\n",
    "- Rows: China, India, United States, Indonesia, Brazil (order doesn't matter)\n",
    "- Values: Cell Phones Total\n",
    "\n",
    "The table's shape should be: (5, 11)"
   ]
  },
  {
   "cell_type": "code",
   "execution_count": 214,
   "metadata": {
    "colab": {},
    "colab_type": "code",
    "id": "JD7mXXjLj4Ue"
   },
   "outputs": [],
   "source": [
    "table = pd.pivot_table(df,index='country',  values='cell_phones_total', columns=['time'])"
   ]
  },
  {
   "cell_type": "code",
   "execution_count": 216,
   "metadata": {},
   "outputs": [],
   "source": [
    "table1 = table.query('country == [\"China\", \"India\", \"United States\", \"Indonesia\", \"Brazil\"]')"
   ]
  },
  {
   "cell_type": "code",
   "execution_count": 222,
   "metadata": {},
   "outputs": [],
   "source": [
    "table2 = table1.T"
   ]
  },
  {
   "cell_type": "code",
   "execution_count": 228,
   "metadata": {
    "colab": {},
    "colab_type": "code",
    "id": "O4Aecv1fmQlj"
   },
   "outputs": [],
   "source": [
    "table2 = table2.query('time == [2007, 2008, 2009, 2010, 2011, 2012, 2013, 2014, 2015, 2016, 2017]')"
   ]
  },
  {
   "cell_type": "code",
   "execution_count": 229,
   "metadata": {
    "collapsed": true
   },
   "outputs": [],
   "source": [
    "final = table2.T"
   ]
  },
  {
   "cell_type": "code",
   "execution_count": 231,
   "metadata": {},
   "outputs": [
    {
     "data": {
      "text/html": [
       "<div>\n",
       "<style scoped>\n",
       "    .dataframe tbody tr th:only-of-type {\n",
       "        vertical-align: middle;\n",
       "    }\n",
       "\n",
       "    .dataframe tbody tr th {\n",
       "        vertical-align: top;\n",
       "    }\n",
       "\n",
       "    .dataframe thead th {\n",
       "        text-align: right;\n",
       "    }\n",
       "</style>\n",
       "<table border=\"1\" class=\"dataframe\">\n",
       "  <thead>\n",
       "    <tr style=\"text-align: right;\">\n",
       "      <th>time</th>\n",
       "      <th>2007</th>\n",
       "      <th>2008</th>\n",
       "      <th>2009</th>\n",
       "      <th>2010</th>\n",
       "      <th>2011</th>\n",
       "      <th>2012</th>\n",
       "      <th>2013</th>\n",
       "      <th>2014</th>\n",
       "      <th>2015</th>\n",
       "      <th>2016</th>\n",
       "      <th>2017</th>\n",
       "    </tr>\n",
       "    <tr>\n",
       "      <th>country</th>\n",
       "      <th></th>\n",
       "      <th></th>\n",
       "      <th></th>\n",
       "      <th></th>\n",
       "      <th></th>\n",
       "      <th></th>\n",
       "      <th></th>\n",
       "      <th></th>\n",
       "      <th></th>\n",
       "      <th></th>\n",
       "      <th></th>\n",
       "    </tr>\n",
       "  </thead>\n",
       "  <tbody>\n",
       "    <tr>\n",
       "      <th>Brazil</th>\n",
       "      <td>120,980,103.0</td>\n",
       "      <td>150,641,403.0</td>\n",
       "      <td>169,385,584.0</td>\n",
       "      <td>196,929,978.0</td>\n",
       "      <td>234,357,507.0</td>\n",
       "      <td>248,323,703.0</td>\n",
       "      <td>271,099,799.0</td>\n",
       "      <td>280,728,796.0</td>\n",
       "      <td>257,814,274.0</td>\n",
       "      <td>244,067,356.0</td>\n",
       "      <td>236,488,548.0</td>\n",
       "    </tr>\n",
       "    <tr>\n",
       "      <th>China</th>\n",
       "      <td>547,306,000.0</td>\n",
       "      <td>641,245,000.0</td>\n",
       "      <td>747,214,000.0</td>\n",
       "      <td>859,003,000.0</td>\n",
       "      <td>986,253,000.0</td>\n",
       "      <td>1,112,155,000.0</td>\n",
       "      <td>1,229,113,000.0</td>\n",
       "      <td>1,286,093,000.0</td>\n",
       "      <td>1,291,984,200.0</td>\n",
       "      <td>1,364,934,000.0</td>\n",
       "      <td>1,474,097,000.0</td>\n",
       "    </tr>\n",
       "    <tr>\n",
       "      <th>India</th>\n",
       "      <td>233,620,000.0</td>\n",
       "      <td>346,890,000.0</td>\n",
       "      <td>525,090,000.0</td>\n",
       "      <td>752,190,000.0</td>\n",
       "      <td>893,862,478.0</td>\n",
       "      <td>864,720,917.0</td>\n",
       "      <td>886,304,245.0</td>\n",
       "      <td>944,008,677.0</td>\n",
       "      <td>1,001,056,000.0</td>\n",
       "      <td>1,127,809,000.0</td>\n",
       "      <td>1,168,902,277.0</td>\n",
       "    </tr>\n",
       "    <tr>\n",
       "      <th>Indonesia</th>\n",
       "      <td>93,386,881.0</td>\n",
       "      <td>140,578,243.0</td>\n",
       "      <td>163,676,961.0</td>\n",
       "      <td>211,290,235.0</td>\n",
       "      <td>249,805,619.0</td>\n",
       "      <td>281,963,665.0</td>\n",
       "      <td>313,226,914.0</td>\n",
       "      <td>325,582,819.0</td>\n",
       "      <td>338,948,340.0</td>\n",
       "      <td>385,573,398.0</td>\n",
       "      <td>458,923,202.0</td>\n",
       "    </tr>\n",
       "    <tr>\n",
       "      <th>United States</th>\n",
       "      <td>249,300,000.0</td>\n",
       "      <td>261,300,000.0</td>\n",
       "      <td>274,283,000.0</td>\n",
       "      <td>285,118,000.0</td>\n",
       "      <td>297,404,000.0</td>\n",
       "      <td>304,838,000.0</td>\n",
       "      <td>310,698,000.0</td>\n",
       "      <td>355,500,000.0</td>\n",
       "      <td>382,307,000.0</td>\n",
       "      <td>395,881,000.0</td>\n",
       "      <td>395,881,000.0</td>\n",
       "    </tr>\n",
       "  </tbody>\n",
       "</table>\n",
       "</div>"
      ],
      "text/plain": [
       "time                   2007          2008          2009          2010  \\\n",
       "country                                                                 \n",
       "Brazil        120,980,103.0 150,641,403.0 169,385,584.0 196,929,978.0   \n",
       "China         547,306,000.0 641,245,000.0 747,214,000.0 859,003,000.0   \n",
       "India         233,620,000.0 346,890,000.0 525,090,000.0 752,190,000.0   \n",
       "Indonesia      93,386,881.0 140,578,243.0 163,676,961.0 211,290,235.0   \n",
       "United States 249,300,000.0 261,300,000.0 274,283,000.0 285,118,000.0   \n",
       "\n",
       "time                   2011            2012            2013            2014  \\\n",
       "country                                                                       \n",
       "Brazil        234,357,507.0   248,323,703.0   271,099,799.0   280,728,796.0   \n",
       "China         986,253,000.0 1,112,155,000.0 1,229,113,000.0 1,286,093,000.0   \n",
       "India         893,862,478.0   864,720,917.0   886,304,245.0   944,008,677.0   \n",
       "Indonesia     249,805,619.0   281,963,665.0   313,226,914.0   325,582,819.0   \n",
       "United States 297,404,000.0   304,838,000.0   310,698,000.0   355,500,000.0   \n",
       "\n",
       "time                     2015            2016            2017  \n",
       "country                                                        \n",
       "Brazil          257,814,274.0   244,067,356.0   236,488,548.0  \n",
       "China         1,291,984,200.0 1,364,934,000.0 1,474,097,000.0  \n",
       "India         1,001,056,000.0 1,127,809,000.0 1,168,902,277.0  \n",
       "Indonesia       338,948,340.0   385,573,398.0   458,923,202.0  \n",
       "United States   382,307,000.0   395,881,000.0   395,881,000.0  "
      ]
     },
     "execution_count": 231,
     "metadata": {},
     "output_type": "execute_result"
    }
   ],
   "source": [
    "final"
   ]
  },
  {
   "cell_type": "code",
   "execution_count": 233,
   "metadata": {},
   "outputs": [
    {
     "data": {
      "text/plain": [
       "(5, 11)"
      ]
     },
     "execution_count": 233,
     "metadata": {},
     "output_type": "execute_result"
    }
   ],
   "source": [
    "final.shape"
   ]
  },
  {
   "cell_type": "markdown",
   "metadata": {
    "colab_type": "text",
    "id": "CNKTu2DCnAo6"
   },
   "source": [
    "Sort these 5 countries, by biggest increase in cell phones from 2007 to 2017.\n",
    "\n",
    "Which country had 935,282,277 more cell phones in 2017 versus 2007?"
   ]
  },
  {
   "cell_type": "code",
   "execution_count": null,
   "metadata": {
    "collapsed": true
   },
   "outputs": [],
   "source": []
  },
  {
   "cell_type": "markdown",
   "metadata": {
    "colab_type": "text",
    "id": "7iHkMsa3Rorh"
   },
   "source": [
    "If you have the time and curiosity, what other questions can you ask and answer with this data?"
   ]
  },
  {
   "cell_type": "markdown",
   "metadata": {
    "colab_type": "text",
    "id": "vtcAJOAV9k3X"
   },
   "source": [
    "## Data Storytelling\n",
    "\n",
    "In this part of the sprint challenge you'll work with a dataset from **FiveThirtyEight's article, [Every Guest Jon Stewart Ever Had On ‘The Daily Show’](https://fivethirtyeight.com/features/every-guest-jon-stewart-ever-had-on-the-daily-show/)**!"
   ]
  },
  {
   "cell_type": "markdown",
   "metadata": {
    "colab_type": "text",
    "id": "UtjoIqvm9yFg"
   },
   "source": [
    "### Part 0 — Run this starter code\n",
    "\n",
    "You don't need to add or change anything here. Just run this cell and it loads the data for you, into a dataframe named `df`.\n",
    "\n",
    "(You can explore the data if you want, but it's not required to pass the Sprint Challenge.)"
   ]
  },
  {
   "cell_type": "code",
   "execution_count": 22,
   "metadata": {
    "colab": {},
    "colab_type": "code",
    "collapsed": true,
    "id": "tYujbhIz9zKU"
   },
   "outputs": [],
   "source": [
    "%matplotlib inline\n",
    "import matplotlib.pyplot as plt\n",
    "import numpy as np\n",
    "import pandas as pd\n",
    "\n",
    "url = 'https://raw.githubusercontent.com/fivethirtyeight/data/master/daily-show-guests/daily_show_guests.csv'\n",
    "df = pd.read_csv(url).rename(columns={'YEAR': 'Year', 'Raw_Guest_List': 'Guest'})\n",
    "\n",
    "def get_occupation(group):\n",
    "    if group in ['Acting', 'Comedy', 'Musician']:\n",
    "        return 'Acting, Comedy & Music'\n",
    "    elif group in ['Media', 'media']:\n",
    "        return 'Media'\n",
    "    elif group in ['Government', 'Politician', 'Political Aide']:\n",
    "        return 'Government and Politics'\n",
    "    else:\n",
    "        return 'Other'\n",
    "      \n",
    "df['Occupation'] = df['Group'].apply(get_occupation)"
   ]
  },
  {
   "cell_type": "markdown",
   "metadata": {
    "colab_type": "text",
    "id": "5hjnMK3j90Rp"
   },
   "source": [
    "### Part 1 — What's the breakdown of guests’ occupations per year?\n",
    "\n",
    "For example, in 1999, what percentage of guests were actors, comedians, or musicians? What percentage were in the media? What percentage were in politics? What percentage were from another occupation?\n",
    "\n",
    "Then, what about in 2000? In 2001? And so on, up through 2015.\n",
    "\n",
    "So, **for each year of _The Daily Show_, calculate the percentage of guests from each occupation:**\n",
    "- Acting, Comedy & Music\n",
    "- Government and Politics\n",
    "- Media\n",
    "- Other\n",
    "\n",
    "#### Hints:\n",
    "You can make a crosstab. (See pandas documentation for examples, explanation, and parameters.)\n",
    "\n",
    "You'll know you've calculated correctly when the percentage of \"Acting, Comedy & Music\" guests is 90.36% in 1999, and 45% in 2015.\n",
    "\n",
    "**Optional Bonus Challenge:** Do additional insightful data exploration."
   ]
  },
  {
   "cell_type": "code",
   "execution_count": 23,
   "metadata": {
    "colab": {},
    "colab_type": "code",
    "id": "EbobyiHv916F"
   },
   "outputs": [
    {
     "data": {
      "text/html": [
       "<div>\n",
       "<style scoped>\n",
       "    .dataframe tbody tr th:only-of-type {\n",
       "        vertical-align: middle;\n",
       "    }\n",
       "\n",
       "    .dataframe tbody tr th {\n",
       "        vertical-align: top;\n",
       "    }\n",
       "\n",
       "    .dataframe thead th {\n",
       "        text-align: right;\n",
       "    }\n",
       "</style>\n",
       "<table border=\"1\" class=\"dataframe\">\n",
       "  <thead>\n",
       "    <tr style=\"text-align: right;\">\n",
       "      <th></th>\n",
       "      <th>Year</th>\n",
       "      <th>GoogleKnowlege_Occupation</th>\n",
       "      <th>Show</th>\n",
       "      <th>Group</th>\n",
       "      <th>Guest</th>\n",
       "      <th>Occupation</th>\n",
       "    </tr>\n",
       "  </thead>\n",
       "  <tbody>\n",
       "    <tr>\n",
       "      <th>0</th>\n",
       "      <td>1999</td>\n",
       "      <td>actor</td>\n",
       "      <td>1/11/99</td>\n",
       "      <td>Acting</td>\n",
       "      <td>Michael J. Fox</td>\n",
       "      <td>Acting, Comedy &amp; Music</td>\n",
       "    </tr>\n",
       "    <tr>\n",
       "      <th>1</th>\n",
       "      <td>1999</td>\n",
       "      <td>Comedian</td>\n",
       "      <td>1/12/99</td>\n",
       "      <td>Comedy</td>\n",
       "      <td>Sandra Bernhard</td>\n",
       "      <td>Acting, Comedy &amp; Music</td>\n",
       "    </tr>\n",
       "    <tr>\n",
       "      <th>2</th>\n",
       "      <td>1999</td>\n",
       "      <td>television actress</td>\n",
       "      <td>1/13/99</td>\n",
       "      <td>Acting</td>\n",
       "      <td>Tracey Ullman</td>\n",
       "      <td>Acting, Comedy &amp; Music</td>\n",
       "    </tr>\n",
       "    <tr>\n",
       "      <th>3</th>\n",
       "      <td>1999</td>\n",
       "      <td>film actress</td>\n",
       "      <td>1/14/99</td>\n",
       "      <td>Acting</td>\n",
       "      <td>Gillian Anderson</td>\n",
       "      <td>Acting, Comedy &amp; Music</td>\n",
       "    </tr>\n",
       "    <tr>\n",
       "      <th>4</th>\n",
       "      <td>1999</td>\n",
       "      <td>actor</td>\n",
       "      <td>1/18/99</td>\n",
       "      <td>Acting</td>\n",
       "      <td>David Alan Grier</td>\n",
       "      <td>Acting, Comedy &amp; Music</td>\n",
       "    </tr>\n",
       "  </tbody>\n",
       "</table>\n",
       "</div>"
      ],
      "text/plain": [
       "   Year GoogleKnowlege_Occupation     Show   Group             Guest  \\\n",
       "0  1999                     actor  1/11/99  Acting    Michael J. Fox   \n",
       "1  1999                  Comedian  1/12/99  Comedy   Sandra Bernhard   \n",
       "2  1999        television actress  1/13/99  Acting     Tracey Ullman   \n",
       "3  1999              film actress  1/14/99  Acting  Gillian Anderson   \n",
       "4  1999                     actor  1/18/99  Acting  David Alan Grier   \n",
       "\n",
       "               Occupation  \n",
       "0  Acting, Comedy & Music  \n",
       "1  Acting, Comedy & Music  \n",
       "2  Acting, Comedy & Music  \n",
       "3  Acting, Comedy & Music  \n",
       "4  Acting, Comedy & Music  "
      ]
     },
     "execution_count": 23,
     "metadata": {},
     "output_type": "execute_result"
    }
   ],
   "source": [
    "df.head()"
   ]
  },
  {
   "cell_type": "code",
   "execution_count": 24,
   "metadata": {},
   "outputs": [
    {
     "data": {
      "text/html": [
       "<div>\n",
       "<style scoped>\n",
       "    .dataframe tbody tr th:only-of-type {\n",
       "        vertical-align: middle;\n",
       "    }\n",
       "\n",
       "    .dataframe tbody tr th {\n",
       "        vertical-align: top;\n",
       "    }\n",
       "\n",
       "    .dataframe thead th {\n",
       "        text-align: right;\n",
       "    }\n",
       "</style>\n",
       "<table border=\"1\" class=\"dataframe\">\n",
       "  <thead>\n",
       "    <tr style=\"text-align: right;\">\n",
       "      <th>Occupation</th>\n",
       "      <th>Acting, Comedy &amp; Music</th>\n",
       "      <th>Government and Politics</th>\n",
       "      <th>Media</th>\n",
       "      <th>Other</th>\n",
       "    </tr>\n",
       "    <tr>\n",
       "      <th>Year</th>\n",
       "      <th></th>\n",
       "      <th></th>\n",
       "      <th></th>\n",
       "      <th></th>\n",
       "    </tr>\n",
       "  </thead>\n",
       "  <tbody>\n",
       "    <tr>\n",
       "      <th>1999</th>\n",
       "      <td>0.9036144578313253</td>\n",
       "      <td>0.012048192771084338</td>\n",
       "      <td>0.06626506024096386</td>\n",
       "      <td>0.018072289156626505</td>\n",
       "    </tr>\n",
       "    <tr>\n",
       "      <th>2000</th>\n",
       "      <td>0.7396449704142012</td>\n",
       "      <td>0.08284023668639054</td>\n",
       "      <td>0.1242603550295858</td>\n",
       "      <td>0.05325443786982249</td>\n",
       "    </tr>\n",
       "    <tr>\n",
       "      <th>2001</th>\n",
       "      <td>0.7261146496815286</td>\n",
       "      <td>0.03821656050955414</td>\n",
       "      <td>0.19745222929936307</td>\n",
       "      <td>0.03821656050955414</td>\n",
       "    </tr>\n",
       "    <tr>\n",
       "      <th>2002</th>\n",
       "      <td>0.6226415094339622</td>\n",
       "      <td>0.06918238993710692</td>\n",
       "      <td>0.2641509433962264</td>\n",
       "      <td>0.0440251572327044</td>\n",
       "    </tr>\n",
       "    <tr>\n",
       "      <th>2003</th>\n",
       "      <td>0.5602409638554217</td>\n",
       "      <td>0.10240963855421686</td>\n",
       "      <td>0.2469879518072289</td>\n",
       "      <td>0.09036144578313253</td>\n",
       "    </tr>\n",
       "    <tr>\n",
       "      <th>2004</th>\n",
       "      <td>0.38414634146341464</td>\n",
       "      <td>0.22560975609756098</td>\n",
       "      <td>0.27439024390243905</td>\n",
       "      <td>0.11585365853658537</td>\n",
       "    </tr>\n",
       "    <tr>\n",
       "      <th>2005</th>\n",
       "      <td>0.37037037037037035</td>\n",
       "      <td>0.16049382716049382</td>\n",
       "      <td>0.3333333333333333</td>\n",
       "      <td>0.13580246913580246</td>\n",
       "    </tr>\n",
       "    <tr>\n",
       "      <th>2006</th>\n",
       "      <td>0.36024844720496896</td>\n",
       "      <td>0.19254658385093168</td>\n",
       "      <td>0.2919254658385093</td>\n",
       "      <td>0.15527950310559005</td>\n",
       "    </tr>\n",
       "    <tr>\n",
       "      <th>2007</th>\n",
       "      <td>0.2553191489361702</td>\n",
       "      <td>0.1702127659574468</td>\n",
       "      <td>0.3333333333333333</td>\n",
       "      <td>0.24113475177304963</td>\n",
       "    </tr>\n",
       "    <tr>\n",
       "      <th>2008</th>\n",
       "      <td>0.2073170731707317</td>\n",
       "      <td>0.20121951219512196</td>\n",
       "      <td>0.4695121951219512</td>\n",
       "      <td>0.12195121951219512</td>\n",
       "    </tr>\n",
       "    <tr>\n",
       "      <th>2009</th>\n",
       "      <td>0.2085889570552147</td>\n",
       "      <td>0.2085889570552147</td>\n",
       "      <td>0.3619631901840491</td>\n",
       "      <td>0.22085889570552147</td>\n",
       "    </tr>\n",
       "    <tr>\n",
       "      <th>2010</th>\n",
       "      <td>0.3515151515151515</td>\n",
       "      <td>0.18181818181818182</td>\n",
       "      <td>0.30303030303030304</td>\n",
       "      <td>0.16363636363636364</td>\n",
       "    </tr>\n",
       "    <tr>\n",
       "      <th>2011</th>\n",
       "      <td>0.3374233128834356</td>\n",
       "      <td>0.1656441717791411</td>\n",
       "      <td>0.3128834355828221</td>\n",
       "      <td>0.18404907975460122</td>\n",
       "    </tr>\n",
       "    <tr>\n",
       "      <th>2012</th>\n",
       "      <td>0.2682926829268293</td>\n",
       "      <td>0.20121951219512196</td>\n",
       "      <td>0.3170731707317073</td>\n",
       "      <td>0.21341463414634146</td>\n",
       "    </tr>\n",
       "    <tr>\n",
       "      <th>2013</th>\n",
       "      <td>0.42771084337349397</td>\n",
       "      <td>0.12650602409638553</td>\n",
       "      <td>0.3072289156626506</td>\n",
       "      <td>0.13855421686746988</td>\n",
       "    </tr>\n",
       "    <tr>\n",
       "      <th>2014</th>\n",
       "      <td>0.39263803680981596</td>\n",
       "      <td>0.12883435582822086</td>\n",
       "      <td>0.32515337423312884</td>\n",
       "      <td>0.15337423312883436</td>\n",
       "    </tr>\n",
       "    <tr>\n",
       "      <th>2015</th>\n",
       "      <td>0.45</td>\n",
       "      <td>0.17</td>\n",
       "      <td>0.24</td>\n",
       "      <td>0.14</td>\n",
       "    </tr>\n",
       "  </tbody>\n",
       "</table>\n",
       "</div>"
      ],
      "text/plain": [
       "Occupation  Acting, Comedy & Music  Government and Politics  \\\n",
       "Year                                                          \n",
       "1999            0.9036144578313253     0.012048192771084338   \n",
       "2000            0.7396449704142012      0.08284023668639054   \n",
       "2001            0.7261146496815286      0.03821656050955414   \n",
       "2002            0.6226415094339622      0.06918238993710692   \n",
       "2003            0.5602409638554217      0.10240963855421686   \n",
       "2004           0.38414634146341464      0.22560975609756098   \n",
       "2005           0.37037037037037035      0.16049382716049382   \n",
       "2006           0.36024844720496896      0.19254658385093168   \n",
       "2007            0.2553191489361702       0.1702127659574468   \n",
       "2008            0.2073170731707317      0.20121951219512196   \n",
       "2009            0.2085889570552147       0.2085889570552147   \n",
       "2010            0.3515151515151515      0.18181818181818182   \n",
       "2011            0.3374233128834356       0.1656441717791411   \n",
       "2012            0.2682926829268293      0.20121951219512196   \n",
       "2013           0.42771084337349397      0.12650602409638553   \n",
       "2014           0.39263803680981596      0.12883435582822086   \n",
       "2015                          0.45                     0.17   \n",
       "\n",
       "Occupation               Media                Other  \n",
       "Year                                                 \n",
       "1999       0.06626506024096386 0.018072289156626505  \n",
       "2000        0.1242603550295858  0.05325443786982249  \n",
       "2001       0.19745222929936307  0.03821656050955414  \n",
       "2002        0.2641509433962264   0.0440251572327044  \n",
       "2003        0.2469879518072289  0.09036144578313253  \n",
       "2004       0.27439024390243905  0.11585365853658537  \n",
       "2005        0.3333333333333333  0.13580246913580246  \n",
       "2006        0.2919254658385093  0.15527950310559005  \n",
       "2007        0.3333333333333333  0.24113475177304963  \n",
       "2008        0.4695121951219512  0.12195121951219512  \n",
       "2009        0.3619631901840491  0.22085889570552147  \n",
       "2010       0.30303030303030304  0.16363636363636364  \n",
       "2011        0.3128834355828221  0.18404907975460122  \n",
       "2012        0.3170731707317073  0.21341463414634146  \n",
       "2013        0.3072289156626506  0.13855421686746988  \n",
       "2014       0.32515337423312884  0.15337423312883436  \n",
       "2015                      0.24                 0.14  "
      ]
     },
     "execution_count": 24,
     "metadata": {},
     "output_type": "execute_result"
    }
   ],
   "source": [
    "pd.crosstab(df.Year, df.Occupation, normalize='index')"
   ]
  },
  {
   "cell_type": "markdown",
   "metadata": {
    "colab_type": "text",
    "id": "Kiq56dZb92LY"
   },
   "source": [
    "### Part 2 — Recreate this explanatory visualization:"
   ]
  },
  {
   "cell_type": "code",
   "execution_count": 25,
   "metadata": {
    "colab": {
     "base_uri": "https://localhost:8080/",
     "height": 406
    },
    "colab_type": "code",
    "id": "HKLDMWwP98vz",
    "outputId": "0397fcdf-80e5-4072-88f4-af2f14fcf0f2"
   },
   "outputs": [
    {
     "data": {
      "image/png": "[encoded data removed]",
      "text/plain": [
       "<IPython.core.display.Image object>"
      ]
     },
     "metadata": {
      "image/png": {
       "width": 500
      }
     },
     "output_type": "display_data"
    }
   ],
   "source": [
    "from IPython.display import display, Image\n",
    "png = 'https://fivethirtyeight.com/wp-content/uploads/2015/08/hickey-datalab-dailyshow.png'\n",
    "example = Image(png, width=500)\n",
    "display(example)"
   ]
  },
  {
   "cell_type": "markdown",
   "metadata": {
    "colab_type": "text",
    "id": "TK5fDIag9-F6"
   },
   "source": [
    "**Hints:**\n",
    "- You can choose any Python visualization library you want. I've verified the plot can be reproduced with matplotlib, pandas plot, or seaborn. I assume other libraries like altair or plotly would work too.\n",
    "- If you choose to use seaborn, you may want to upgrade the version to 0.9.0.\n",
    "\n",
    "**Expectations:** Your plot should include:\n",
    "- 3 lines visualizing \"occupation of guests, by year.\" The shapes of the lines should look roughly identical to 538's example. Each line should be a different color. (But you don't need to use the _same_ colors as 538.)\n",
    "- Legend or labels for the lines. (But you don't need each label positioned next to its line or colored like 538.)\n",
    "- Title in the upper left: _\"Who Got To Be On 'The Daily Show'?\"_ with more visual emphasis than the subtitle. (Bolder and/or larger font.)\n",
    "- Subtitle underneath the title: _\"Occupation of guests, by year\"_\n",
    "\n",
    "**Optional Bonus Challenge:**\n",
    "- Give your plot polished aesthetics, with improved resemblance to the 538 example.\n",
    "- Any visual element not specifically mentioned in the expectations is an optional bonus."
   ]
  },
  {
   "cell_type": "code",
   "execution_count": 26,
   "metadata": {
    "colab": {},
    "colab_type": "code",
    "id": "CaB8MMV099Kh"
   },
   "outputs": [
    {
     "data": {
      "text/plain": [
       "'0.9.0'"
      ]
     },
     "execution_count": 26,
     "metadata": {},
     "output_type": "execute_result"
    }
   ],
   "source": [
    "import seaborn as sns\n",
    "sns.__version__"
   ]
  },
  {
   "cell_type": "code",
   "execution_count": 31,
   "metadata": {},
   "outputs": [],
   "source": [
    "#!pip install --upgrade seaborn"
   ]
  },
  {
   "cell_type": "code",
   "execution_count": 28,
   "metadata": {},
   "outputs": [
    {
     "data": {
      "text/plain": [
       "'0.9.0'"
      ]
     },
     "execution_count": 28,
     "metadata": {},
     "output_type": "execute_result"
    }
   ],
   "source": [
    "import seaborn as sns\n",
    "sns.__version__"
   ]
  },
  {
   "cell_type": "code",
   "execution_count": 69,
   "metadata": {},
   "outputs": [],
   "source": [
    "#sns.lineplot(pd.crosstab(df.Year, df.Occupation, normalize='index'), )"
   ]
  },
  {
   "cell_type": "code",
   "execution_count": 72,
   "metadata": {},
   "outputs": [
    {
     "data": {
      "text/plain": [
       "array([1999, 2000, 2001, 2002, 2003, 2004, 2005, 2006, 2007, 2008, 2009,\n",
       "       2010, 2011, 2012, 2013, 2014, 2015])"
      ]
     },
     "execution_count": 72,
     "metadata": {},
     "output_type": "execute_result"
    }
   ],
   "source": [
    "df.Year.unique()"
   ]
  },
  {
   "cell_type": "code",
   "execution_count": 73,
   "metadata": {
    "collapsed": true
   },
   "outputs": [],
   "source": [
    "last = pd.crosstab(df.Year, df.Occupation, normalize='index')"
   ]
  },
  {
   "cell_type": "code",
   "execution_count": 81,
   "metadata": {},
   "outputs": [
    {
     "name": "stdout",
     "output_type": "stream",
     "text": [
      "Occupation\n",
      "Acting, Comedy & Music      0.9036144578313253\n",
      "Government and Politics   0.012048192771084338\n",
      "Media                      0.06626506024096386\n",
      "Other                     0.018072289156626505\n",
      "Name: 1999, dtype: float64\n"
     ]
    }
   ],
   "source": [
    "print(last.iloc[0])"
   ]
  },
  {
   "cell_type": "code",
   "execution_count": 83,
   "metadata": {},
   "outputs": [
    {
     "data": {
      "text/plain": [
       "Index(['Acting, Comedy & Music', 'Government and Politics', 'Media', 'Other'], dtype='object', name='Occupation')"
      ]
     },
     "execution_count": 83,
     "metadata": {},
     "output_type": "execute_result"
    }
   ],
   "source": [
    "last.columns"
   ]
  },
  {
   "cell_type": "code",
   "execution_count": 90,
   "metadata": {},
   "outputs": [],
   "source": [
    "last.index.name = None #trying to get rid of the name = Occupation!!!"
   ]
  },
  {
   "cell_type": "code",
   "execution_count": 92,
   "metadata": {},
   "outputs": [
    {
     "data": {
      "text/plain": [
       "Index(['Acting, Comedy & Music', 'Government and Politics', 'Media', 'Other'], dtype='object', name='Occupation')"
      ]
     },
     "execution_count": 92,
     "metadata": {},
     "output_type": "execute_result"
    }
   ],
   "source": [
    "last.columns #still can't get rid of the stupid name"
   ]
  },
  {
   "cell_type": "code",
   "execution_count": 94,
   "metadata": {},
   "outputs": [
    {
     "data": {
      "text/html": [
       "<div>\n",
       "<style scoped>\n",
       "    .dataframe tbody tr th:only-of-type {\n",
       "        vertical-align: middle;\n",
       "    }\n",
       "\n",
       "    .dataframe tbody tr th {\n",
       "        vertical-align: top;\n",
       "    }\n",
       "\n",
       "    .dataframe thead th {\n",
       "        text-align: right;\n",
       "    }\n",
       "</style>\n",
       "<table border=\"1\" class=\"dataframe\">\n",
       "  <thead>\n",
       "    <tr style=\"text-align: right;\">\n",
       "      <th>Occupation</th>\n",
       "      <th>Acting, Comedy &amp; Music</th>\n",
       "      <th>Government and Politics</th>\n",
       "      <th>Media</th>\n",
       "      <th>Other</th>\n",
       "    </tr>\n",
       "  </thead>\n",
       "  <tbody>\n",
       "    <tr>\n",
       "      <th>1999</th>\n",
       "      <td>0.9036144578313253</td>\n",
       "      <td>0.012048192771084338</td>\n",
       "      <td>0.06626506024096386</td>\n",
       "      <td>0.018072289156626505</td>\n",
       "    </tr>\n",
       "    <tr>\n",
       "      <th>2000</th>\n",
       "      <td>0.7396449704142012</td>\n",
       "      <td>0.08284023668639054</td>\n",
       "      <td>0.1242603550295858</td>\n",
       "      <td>0.05325443786982249</td>\n",
       "    </tr>\n",
       "    <tr>\n",
       "      <th>2001</th>\n",
       "      <td>0.7261146496815286</td>\n",
       "      <td>0.03821656050955414</td>\n",
       "      <td>0.19745222929936307</td>\n",
       "      <td>0.03821656050955414</td>\n",
       "    </tr>\n",
       "    <tr>\n",
       "      <th>2002</th>\n",
       "      <td>0.6226415094339622</td>\n",
       "      <td>0.06918238993710692</td>\n",
       "      <td>0.2641509433962264</td>\n",
       "      <td>0.0440251572327044</td>\n",
       "    </tr>\n",
       "    <tr>\n",
       "      <th>2003</th>\n",
       "      <td>0.5602409638554217</td>\n",
       "      <td>0.10240963855421686</td>\n",
       "      <td>0.2469879518072289</td>\n",
       "      <td>0.09036144578313253</td>\n",
       "    </tr>\n",
       "  </tbody>\n",
       "</table>\n",
       "</div>"
      ],
      "text/plain": [
       "Occupation  Acting, Comedy & Music  Government and Politics  \\\n",
       "1999            0.9036144578313253     0.012048192771084338   \n",
       "2000            0.7396449704142012      0.08284023668639054   \n",
       "2001            0.7261146496815286      0.03821656050955414   \n",
       "2002            0.6226415094339622      0.06918238993710692   \n",
       "2003            0.5602409638554217      0.10240963855421686   \n",
       "\n",
       "Occupation               Media                Other  \n",
       "1999       0.06626506024096386 0.018072289156626505  \n",
       "2000        0.1242603550295858  0.05325443786982249  \n",
       "2001       0.19745222929936307  0.03821656050955414  \n",
       "2002        0.2641509433962264   0.0440251572327044  \n",
       "2003        0.2469879518072289  0.09036144578313253  "
      ]
     },
     "execution_count": 94,
     "metadata": {},
     "output_type": "execute_result"
    }
   ],
   "source": [
    "last.head()"
   ]
  },
  {
   "cell_type": "code",
   "execution_count": 122,
   "metadata": {},
   "outputs": [],
   "source": [
    "last['Year'] = last.index #making my own column of unique years"
   ]
  },
  {
   "cell_type": "code",
   "execution_count": 123,
   "metadata": {},
   "outputs": [
    {
     "data": {
      "text/html": [
       "<div>\n",
       "<style scoped>\n",
       "    .dataframe tbody tr th:only-of-type {\n",
       "        vertical-align: middle;\n",
       "    }\n",
       "\n",
       "    .dataframe tbody tr th {\n",
       "        vertical-align: top;\n",
       "    }\n",
       "\n",
       "    .dataframe thead th {\n",
       "        text-align: right;\n",
       "    }\n",
       "</style>\n",
       "<table border=\"1\" class=\"dataframe\">\n",
       "  <thead>\n",
       "    <tr style=\"text-align: right;\">\n",
       "      <th>Occupation</th>\n",
       "      <th>Acting, Comedy &amp; Music</th>\n",
       "      <th>Government and Politics</th>\n",
       "      <th>Media</th>\n",
       "      <th>Other</th>\n",
       "      <th>Year</th>\n",
       "    </tr>\n",
       "  </thead>\n",
       "  <tbody>\n",
       "    <tr>\n",
       "      <th>1999</th>\n",
       "      <td>0.9036144578313253</td>\n",
       "      <td>0.012048192771084338</td>\n",
       "      <td>0.06626506024096386</td>\n",
       "      <td>0.018072289156626505</td>\n",
       "      <td>1999</td>\n",
       "    </tr>\n",
       "    <tr>\n",
       "      <th>2000</th>\n",
       "      <td>0.7396449704142012</td>\n",
       "      <td>0.08284023668639054</td>\n",
       "      <td>0.1242603550295858</td>\n",
       "      <td>0.05325443786982249</td>\n",
       "      <td>2000</td>\n",
       "    </tr>\n",
       "    <tr>\n",
       "      <th>2001</th>\n",
       "      <td>0.7261146496815286</td>\n",
       "      <td>0.03821656050955414</td>\n",
       "      <td>0.19745222929936307</td>\n",
       "      <td>0.03821656050955414</td>\n",
       "      <td>2001</td>\n",
       "    </tr>\n",
       "    <tr>\n",
       "      <th>2002</th>\n",
       "      <td>0.6226415094339622</td>\n",
       "      <td>0.06918238993710692</td>\n",
       "      <td>0.2641509433962264</td>\n",
       "      <td>0.0440251572327044</td>\n",
       "      <td>2002</td>\n",
       "    </tr>\n",
       "    <tr>\n",
       "      <th>2003</th>\n",
       "      <td>0.5602409638554217</td>\n",
       "      <td>0.10240963855421686</td>\n",
       "      <td>0.2469879518072289</td>\n",
       "      <td>0.09036144578313253</td>\n",
       "      <td>2003</td>\n",
       "    </tr>\n",
       "  </tbody>\n",
       "</table>\n",
       "</div>"
      ],
      "text/plain": [
       "Occupation  Acting, Comedy & Music  Government and Politics  \\\n",
       "1999            0.9036144578313253     0.012048192771084338   \n",
       "2000            0.7396449704142012      0.08284023668639054   \n",
       "2001            0.7261146496815286      0.03821656050955414   \n",
       "2002            0.6226415094339622      0.06918238993710692   \n",
       "2003            0.5602409638554217      0.10240963855421686   \n",
       "\n",
       "Occupation               Media                Other  Year  \n",
       "1999       0.06626506024096386 0.018072289156626505  1999  \n",
       "2000        0.1242603550295858  0.05325443786982249  2000  \n",
       "2001       0.19745222929936307  0.03821656050955414  2001  \n",
       "2002        0.2641509433962264   0.0440251572327044  2002  \n",
       "2003        0.2469879518072289  0.09036144578313253  2003  "
      ]
     },
     "execution_count": 123,
     "metadata": {},
     "output_type": "execute_result"
    }
   ],
   "source": [
    "last.head()"
   ]
  },
  {
   "cell_type": "code",
   "execution_count": 100,
   "metadata": {
    "collapsed": true
   },
   "outputs": [],
   "source": [
    "del last.index.name"
   ]
  },
  {
   "cell_type": "code",
   "execution_count": 105,
   "metadata": {},
   "outputs": [],
   "source": [
    "last_one = last[['Year', 'Acting, Comedy & Music', 'Government and Politics', 'Media']] #I try grabbing just the years I want from the crosstab"
   ]
  },
  {
   "cell_type": "code",
   "execution_count": 115,
   "metadata": {},
   "outputs": [
    {
     "data": {
      "text/plain": [
       "Index(['Year', 'Acting, Comedy & Music', 'Government and Politics', 'Media'], dtype='object', name='Occupation')"
      ]
     },
     "execution_count": 115,
     "metadata": {},
     "output_type": "execute_result"
    }
   ],
   "source": [
    "last_one.name = None\n",
    "last_one.columns"
   ]
  },
  {
   "cell_type": "code",
   "execution_count": 187,
   "metadata": {},
   "outputs": [
    {
     "data": {
      "text/plain": [
       "<matplotlib.axes._subplots.AxesSubplot at 0x11724a630>"
      ]
     },
     "execution_count": 187,
     "metadata": {},
     "output_type": "execute_result"
    },
    {
     "data": {
      "image/png": "[encoded data removed]",
      "text/plain": [
       "<Figure size 432x288 with 1 Axes>"
      ]
     },
     "metadata": {},
     "output_type": "display_data"
    }
   ],
   "source": [
    "sns.lineplot(data=last)"
   ]
  },
  {
   "cell_type": "markdown",
   "metadata": {
    "colab_type": "text",
    "id": "kW36zxl4-BiW"
   },
   "source": [
    "### (OPTIONAL) Part 3 — Who were the top 10 guests on _The Daily Show_?\n",
    "\n",
    "*This part is not needed to pass the sprint challenge, only to get a 3! Only work on this after completing the other sections.*\n",
    "\n",
    "**Make a plot** that shows their names and number of appearances.\n",
    "\n",
    "**Add a title** of your choice.\n",
    "\n",
    "**Expectations:** It's ok to make a simple, quick plot: exploratory, instead of explanatory. \n",
    "\n",
    "**Optional Bonus Challenge:** You can change aesthetics and add more annotation. For example, in a relevant location, could you add the text \"19\" to show that Fareed Zakaria appeared 19 times on _The Daily Show_? (And so on, for each of the top 10 guests.)"
   ]
  },
  {
   "cell_type": "code",
   "execution_count": null,
   "metadata": {
    "colab": {},
    "colab_type": "code",
    "collapsed": true,
    "id": "B3cqzskY-QbM"
   },
   "outputs": [],
   "source": []
  }
 ],
 "metadata": {
  "colab": {
   "collapsed_sections": [],
   "name": "DS_Unit_1_Sprint_Challenge_2_Data_Wrangling_and_Storytelling.ipynb",
   "provenance": [],
   "version": "0.3.2"
  },
  "kernelspec": {
   "display_name": "Python 3",
   "language": "python",
   "name": "python3"
  },
  "language_info": {
   "codemirror_mode": {
    "name": "ipython",
    "version": 3
   },
   "file_extension": ".py",
   "mimetype": "text/x-python",
   "name": "python",
   "nbconvert_exporter": "python",
   "pygments_lexer": "ipython3",
   "version": "3.6.3"
  }
 },
 "nbformat": 4,
 "nbformat_minor": 1
}
