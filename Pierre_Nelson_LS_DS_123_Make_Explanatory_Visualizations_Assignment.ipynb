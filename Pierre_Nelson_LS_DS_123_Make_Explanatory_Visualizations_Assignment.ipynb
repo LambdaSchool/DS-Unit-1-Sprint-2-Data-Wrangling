{
  "nbformat": 4,
  "nbformat_minor": 0,
  "metadata": {
    "colab": {
      "name": "Pierre Nelson LS_DS_123_Make_Explanatory_Visualizations_Assignment.ipynb",
      "version": "0.3.2",
      "provenance": [],
      "collapsed_sections": [],
      "include_colab_link": true
    },
    "language_info": {
      "codemirror_mode": {
        "name": "ipython",
        "version": 3
      },
      "file_extension": ".py",
      "mimetype": "text/x-python",
      "name": "python",
      "nbconvert_exporter": "python",
      "pygments_lexer": "ipython3",
      "version": "3.7.1"
    },
    "kernelspec": {
      "display_name": "Python 3",
      "language": "python",
      "name": "python3"
    }
  },
  "cells": [
    {
      "cell_type": "markdown",
      "metadata": {
        "id": "view-in-github",
        "colab_type": "text"
      },
      "source": [
        "<a href=\"https://colab.research.google.com/github/alxanderpierre/DS-Unit-1-Sprint-2-Data-Wrangling-and-Storytelling/blob/master/Pierre_Nelson_LS_DS_123_Make_Explanatory_Visualizations_Assignment.ipynb\" target=\"_parent\"><img src=\"https://colab.research.google.com/assets/colab-badge.svg\" alt=\"Open In Colab\"/></a>"
      ]
    },
    {
      "cell_type": "markdown",
      "metadata": {
        "colab_type": "text",
        "id": "NMEswXWh9mqw"
      },
      "source": [
        "# ASSIGNMENT\n",
        "\n",
        "### 1) Replicate the lesson code. I recommend that you [do not copy-paste](https://docs.google.com/document/d/1ubOw9B3Hfip27hF2ZFnW3a3z9xAgrUDRReOEo-FHCVs/edit).\n",
        "\n",
        "### 2) Reproduce one of the following using the matplotlib or seaborn libraries:\n",
        "\n",
        "- [thanksgiving-2015](https://fivethirtyeight.com/features/heres-what-your-part-of-america-eats-on-thanksgiving/) (try the [`altair`](https://altair-viz.github.io/gallery/index.html#maps) library)\n",
        "- [candy-power-ranking](https://fivethirtyeight.com/features/the-ultimate-halloween-candy-power-ranking/) (try the [`statsmodels`](https://www.statsmodels.org/stable/index.html) library)\n",
        "- or another example of your choice!\n",
        "\n",
        "\n",
        "\n",
        "\n",
        "\n",
        "\n",
        "\n",
        "\n",
        "\n"
      ]
    },
    {
      "cell_type": "code",
      "metadata": {
        "id": "7SY1ZHawyZvz",
        "colab_type": "code",
        "colab": {}
      },
      "source": [
        "# Your Work Here"
      ],
      "execution_count": 0,
      "outputs": []
    },
    {
      "cell_type": "code",
      "metadata": {
        "id": "Px35D-V6srXz",
        "colab_type": "code",
        "outputId": "96b03a1d-5d54-46b5-e18c-93105eb9f242",
        "colab": {
          "base_uri": "https://localhost:8080/",
          "height": 285
        }
      },
      "source": [
        "%matplotlib inline\n",
        "import matplotlib.pyplot as plt\n",
        "import numpy as np\n",
        "import pandas as pd\n",
        "\n",
        "\n",
        "plt.style.use('fivethirtyeight')\n",
        "\n",
        "fake = pd.Series([38, 3, 2, 1, 2, 4, 6, 5, 5, 33], \n",
        "                 index=range(1,11))\n",
        "\n",
        "fake.plot.bar(color='C1', width=0.9);"
      ],
      "execution_count": 0,
      "outputs": [
        {
          "output_type": "display_data",
          "data": {
            "image/png": "[encoded data removed]",
            "text/plain": [
              "<Figure size 432x288 with 1 Axes>"
            ]
          },
          "metadata": {
            "tags": []
          }
        }
      ]
    },
    {
      "cell_type": "code",
      "metadata": {
        "id": "JJvpDPrCwcaX",
        "colab_type": "code",
        "outputId": "20d804b9-37eb-4f88-c9f5-6270cfb0313b",
        "colab": {
          "base_uri": "https://localhost:8080/",
          "height": 289
        }
      },
      "source": [
        "fake2 = pd.Series([1, 1, 1, 1, 1, 1, 1, 1, 1, 1, 1, 1, 1, 1, 1, 1, 1, 1, 1, 1, 1, 1, 1, 1,\n",
        "     2, 2, 2, \n",
        "     3, 3, 3,\n",
        "     4, 4,\n",
        "     5, 5, 5,\n",
        "     6, 6, 6, 6,\n",
        "     7, 7, 7, 7, 7,\n",
        "     8, 8, 8, 8,\n",
        "     9, 9, 9, 9, \n",
        "     10, 10, 10, 10, 10, 10, 10, 10, 10, 10, 10, 10, 10, 10, 10, 10, 10, 10])\n",
        "fake2.value_counts().sort_index().plot.bar(color='C1', width=0.9);"
      ],
      "execution_count": 0,
      "outputs": [
        {
          "output_type": "display_data",
          "data": {
            "image/png": "[encoded data removed]",
            "text/plain": [
              "<Figure size 432x288 with 1 Axes>"
            ]
          },
          "metadata": {
            "tags": []
          }
        }
      ]
    },
    {
      "cell_type": "code",
      "metadata": {
        "id": "QQ1KugkvxfCA",
        "colab_type": "code",
        "colab": {}
      },
      "source": [
        "import matplotlib.pyplot as plt\n"
      ],
      "execution_count": 0,
      "outputs": []
    },
    {
      "cell_type": "code",
      "metadata": {
        "id": "e49wF_LYxe86",
        "colab_type": "code",
        "outputId": "b818aa9b-44e2-4851-e4fa-e25dc2ef33b3",
        "colab": {
          "base_uri": "https://localhost:8080/",
          "height": 344
        }
      },
      "source": [
        "plt.style.use('fivethirtyeight')\n",
        "\n",
        "fig = plt.figure()\n",
        "fig.patch.set_facecolor('white')\n",
        "ax = fake.plot.bar(color= 'C1', width=0.9)\n",
        "ax.set(facecolor='white')\n",
        "ax.text(x=-1.9, y=45, s='An Inconvenient Sequel: Truth To Power is divisive', fontsize=13, fontweight='bold');\n",
        "ax.text(x=-1.9, y=43, s='IMDd Rating for the film as of Aug. 29', fontsize=10)\n",
        "\n",
        "ax.set_xticklabels(range(1,11,1), rotation=0)\n",
        "ax.set_yticks(range(0,50,10))\n",
        "ax.set_yticklabels(range(0,50,10))\n",
        "\n",
        "plt.xlabel('Rating')\n",
        "plt.ylabel('Percent of Total Votes')\n",
        "\n",
        "plt.show()\n"
      ],
      "execution_count": 0,
      "outputs": [
        {
          "output_type": "display_data",
          "data": {
            "image/png": "[encoded data removed]",
            "text/plain": [
              "<Figure size 432x288 with 1 Axes>"
            ]
          },
          "metadata": {
            "tags": []
          }
        }
      ]
    },
    {
      "cell_type": "code",
      "metadata": {
        "id": "RRF78UDcxez9",
        "colab_type": "code",
        "colab": {}
      },
      "source": [
        ""
      ],
      "execution_count": 0,
      "outputs": []
    },
    {
      "cell_type": "code",
      "metadata": {
        "id": "2Jw2i2I-xeuK",
        "colab_type": "code",
        "colab": {}
      },
      "source": [
        ""
      ],
      "execution_count": 0,
      "outputs": []
    },
    {
      "cell_type": "code",
      "metadata": {
        "id": "DgDmHMPWJOVT",
        "colab_type": "code",
        "colab": {}
      },
      "source": [
        "import matplotlib.pyplot as plt #2:21\n",
        "plt.style('fivethirtyeight')\n",
        "\n",
        "fig = plt.figure #( cant access a figure unless you save it to a var, every time you make a plot a figure is created by deflaut ) (order is important the figure has to be first)\n",
        "fig,patch.set_facecolor('blue') # this creates the color around the figure of the graph\n",
        "fig = plt.figure #( cant access a figure unless you save it to a var, every time you make a plot a figure is created by deflaut )\n",
        "\n",
        "ax = fake.plot.bar(color='C1', width=.9)\n",
        "ax.set(facecolor='Red') #creates the background color the sythax is different from when we did it on the figure level \n",
        "\n",
        "plt.xlable('Rating')\n",
        "plt.ylable('Percent of Total Votes') #this is controling my x and y axis "
      ],
      "execution_count": 0,
      "outputs": []
    },
    {
      "cell_type": "code",
      "metadata": {
        "id": "t1y-HTsMNsp9",
        "colab_type": "code",
        "colab": {}
      },
      "source": [
        "import matplotlib.pyplot as plt #2:21\n",
        "\n",
        "plt.style.use('fivethirtyeight')\n",
        "\n",
        "fig = plt.figure() #( cant access a figure unless you save it to a var, every time you make a plot a figure is created by deflaut ) (order is important the figure has to be first)\n",
        "fig.patch.set(facecolor='white') # this creates the color around the figure of the graph\n",
        "fig = plt.figure #( cant access a figure unless you save it to a var, every time you make a plot a figure is created by deflaut )\n",
        "#fig.patch.set_alpha(0) makes figure transparent\n",
        "ax = fake.plot.bar(color='C1', width=.9)\n",
        "ax.set(facecolor='Red') #creates the background color the sythax is different from when we did it on the figure level \n",
        "\n",
        "plt.xlable('Rating')\n",
        "plt.ylable('Percent of Total Votes') #this is controling my x and y axis "
      ],
      "execution_count": 0,
      "outputs": []
    },
    {
      "cell_type": "markdown",
      "metadata": {
        "id": "PUI0yx2pYD-F",
        "colab_type": "text"
      },
      "source": [
        "2) Reproduce one of the following using the matplotlib or seaborn libraries:\n",
        "thanksgiving-2015 (try the altair library)\n",
        "candy-power-ranking (try the statsmodels library)\n",
        "or another example of your choice!\n",
        "\n"
      ]
    },
    {
      "cell_type": "markdown",
      "metadata": {
        "id": "0wSrBzmJyWaV",
        "colab_type": "text"
      },
      "source": [
        "# STRETCH OPTIONS\n",
        "\n",
        "### 2) Reproduce another example from [FiveThityEight's shared data repository](https://data.fivethirtyeight.com/).\n",
        "\n",
        "\n",
        "### 3) Make more charts!\n",
        "\n",
        "Choose a chart you want to make, from [Visual Vocabulary - Vega Edition](http://ft.com/vocabulary).\n",
        "\n",
        "Find the chart in an example gallery of a Python data visualization library:\n",
        "- [Seaborn](http://seaborn.pydata.org/examples/index.html)\n",
        "- [Altair](https://altair-viz.github.io/gallery/index.html)\n",
        "- [Matplotlib](https://matplotlib.org/gallery.html)\n",
        "- [Pandas](https://pandas.pydata.org/pandas-docs/stable/visualization.html)\n",
        "\n",
        "Reproduce the chart. [Optionally, try the \"Ben Franklin Method.\"](https://docs.google.com/document/d/1ubOw9B3Hfip27hF2ZFnW3a3z9xAgrUDRReOEo-FHCVs/edit) If you want, experiment and make changes.\n",
        "\n",
        "Take notes. Consider sharing your work with your cohort!"
      ]
    },
    {
      "cell_type": "code",
      "metadata": {
        "id": "dRJkKftiy5BJ",
        "colab_type": "code",
        "colab": {}
      },
      "source": [
        "# More Work Here"
      ],
      "execution_count": 0,
      "outputs": []
    }
  ]
}