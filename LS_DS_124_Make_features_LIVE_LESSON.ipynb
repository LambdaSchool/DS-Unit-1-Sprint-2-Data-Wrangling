{
  "nbformat": 4,
  "nbformat_minor": 0,
  "metadata": {
    "colab": {
      "name": "LS_DS_124_Make_features LIVE LESSON.ipynb",
      "version": "0.3.2",
      "provenance": [],
      "collapsed_sections": [],
      "include_colab_link": true
    },
    "kernelspec": {
      "name": "python3",
      "display_name": "Python 3"
    }
  },
  "cells": [
    {
      "cell_type": "markdown",
      "metadata": {
        "id": "view-in-github",
        "colab_type": "text"
      },
      "source": [
        "<a href=\"https://colab.research.google.com/github/derek-shing/DS-Unit-1-Sprint-2-Data-Wrangling/blob/master/LS_DS_124_Make_features_LIVE_LESSON.ipynb\" target=\"_parent\"><img src=\"https://colab.research.google.com/assets/colab-badge.svg\" alt=\"Open In Colab\"/></a>"
      ]
    },
    {
      "metadata": {
        "id": "9etkuLf_whqg",
        "colab_type": "text"
      },
      "cell_type": "markdown",
      "source": [
        ""
      ]
    },
    {
      "metadata": {
        "id": "qacqiXogluN_",
        "colab_type": "text"
      },
      "cell_type": "markdown",
      "source": [
        "_Lambda School Data Science_\n",
        "\n",
        "# Make features\n",
        "\n",
        "Objectives\n",
        "-  understand the purpose of feature engineering\n",
        "-  work with strings in pandas\n",
        "- work with dates and times in pandas\n",
        "\n",
        "Links\n",
        "- [Feature Engineering](https://en.wikipedia.org/wiki/Feature_engineering)\n",
        "- Python Data Science Handbook\n",
        "  - [Chapter 3.10](https://jakevdp.github.io/PythonDataScienceHandbook/03.10-working-with-strings.html), Vectorized String Operations\n",
        "  - [Chapter 3.11](https://jakevdp.github.io/PythonDataScienceHandbook/03.11-working-with-time-series.html), Working with Time Series"
      ]
    },
    {
      "metadata": {
        "id": "iSGiSktAoWIx",
        "colab_type": "text"
      },
      "cell_type": "markdown",
      "source": [
        "## Get LendingClub data\n",
        "\n",
        "[Source](https://www.lendingclub.com/info/download-data.action)"
      ]
    },
    {
      "metadata": {
        "id": "2ugxlWXimoHn",
        "colab_type": "code",
        "colab": {
          "base_uri": "https://localhost:8080/",
          "height": 204
        },
        "outputId": "40150d03-c112-4a4e-bba5-165135c88fba"
      },
      "cell_type": "code",
      "source": [
        "!wget https://resources.lendingclub.com/LoanStats_2018Q3.csv.zip"
      ],
      "execution_count": 2,
      "outputs": [
        {
          "output_type": "stream",
          "text": [
            "--2019-01-17 23:03:48--  https://resources.lendingclub.com/LoanStats_2018Q3.csv.zip\n",
            "Resolving resources.lendingclub.com (resources.lendingclub.com)... 64.48.1.20\n",
            "Connecting to resources.lendingclub.com (resources.lendingclub.com)|64.48.1.20|:443... connected.\n",
            "HTTP request sent, awaiting response... 200 OK\n",
            "Length: unspecified [application/zip]\n",
            "Saving to: ‘LoanStats_2018Q3.csv.zip’\n",
            "\n",
            "LoanStats_2018Q3.cs     [         <=>        ]  21.42M  1.66MB/s    in 13s     \n",
            "\n",
            "2019-01-17 23:04:02 (1.65 MB/s) - ‘LoanStats_2018Q3.csv.zip’ saved [22461905]\n",
            "\n"
          ],
          "name": "stdout"
        }
      ]
    },
    {
      "metadata": {
        "id": "-4sk6qPgmpmN",
        "colab_type": "code",
        "colab": {
          "base_uri": "https://localhost:8080/",
          "height": 51
        },
        "outputId": "7a168dfe-435a-4c67-d646-edb4a4900501"
      },
      "cell_type": "code",
      "source": [
        "!unzip LoanStats_2018Q3.csv.zip"
      ],
      "execution_count": 3,
      "outputs": [
        {
          "output_type": "stream",
          "text": [
            "Archive:  LoanStats_2018Q3.csv.zip\n",
            "  inflating: LoanStats_2018Q3.csv    \n"
          ],
          "name": "stdout"
        }
      ]
    },
    {
      "metadata": {
        "id": "seh5oNE1nD0X",
        "colab_type": "code",
        "colab": {
          "base_uri": "https://localhost:8080/",
          "height": 207
        },
        "outputId": "0bd0a07b-9ba1-44e8-84b1-3a47567dba87"
      },
      "cell_type": "code",
      "source": [
        "!head LoanStats_2018Q3.csv"
      ],
      "execution_count": 4,
      "outputs": [
        {
          "output_type": "stream",
          "text": [
            "Notes offered by Prospectus (https://www.lendingclub.com/info/prospectus.action)\n",
            "\"id\",\"member_id\",\"loan_amnt\",\"funded_amnt\",\"funded_amnt_inv\",\"term\",\"int_rate\",\"installment\",\"grade\",\"sub_grade\",\"emp_title\",\"emp_length\",\"home_ownership\",\"annual_inc\",\"verification_status\",\"issue_d\",\"loan_status\",\"pymnt_plan\",\"url\",\"desc\",\"purpose\",\"title\",\"zip_code\",\"addr_state\",\"dti\",\"delinq_2yrs\",\"earliest_cr_line\",\"inq_last_6mths\",\"mths_since_last_delinq\",\"mths_since_last_record\",\"open_acc\",\"pub_rec\",\"revol_bal\",\"revol_util\",\"total_acc\",\"initial_list_status\",\"out_prncp\",\"out_prncp_inv\",\"total_pymnt\",\"total_pymnt_inv\",\"total_rec_prncp\",\"total_rec_int\",\"total_rec_late_fee\",\"recoveries\",\"collection_recovery_fee\",\"last_pymnt_d\",\"last_pymnt_amnt\",\"next_pymnt_d\",\"last_credit_pull_d\",\"collections_12_mths_ex_med\",\"mths_since_last_major_derog\",\"policy_code\",\"application_type\",\"annual_inc_joint\",\"dti_joint\",\"verification_status_joint\",\"acc_now_delinq\",\"tot_coll_amt\",\"tot_cur_bal\",\"open_acc_6m\",\"open_act_il\",\"open_il_12m\",\"open_il_24m\",\"mths_since_rcnt_il\",\"total_bal_il\",\"il_util\",\"open_rv_12m\",\"open_rv_24m\",\"max_bal_bc\",\"all_util\",\"total_rev_hi_lim\",\"inq_fi\",\"total_cu_tl\",\"inq_last_12m\",\"acc_open_past_24mths\",\"avg_cur_bal\",\"bc_open_to_buy\",\"bc_util\",\"chargeoff_within_12_mths\",\"delinq_amnt\",\"mo_sin_old_il_acct\",\"mo_sin_old_rev_tl_op\",\"mo_sin_rcnt_rev_tl_op\",\"mo_sin_rcnt_tl\",\"mort_acc\",\"mths_since_recent_bc\",\"mths_since_recent_bc_dlq\",\"mths_since_recent_inq\",\"mths_since_recent_revol_delinq\",\"num_accts_ever_120_pd\",\"num_actv_bc_tl\",\"num_actv_rev_tl\",\"num_bc_sats\",\"num_bc_tl\",\"num_il_tl\",\"num_op_rev_tl\",\"num_rev_accts\",\"num_rev_tl_bal_gt_0\",\"num_sats\",\"num_tl_120dpd_2m\",\"num_tl_30dpd\",\"num_tl_90g_dpd_24m\",\"num_tl_op_past_12m\",\"pct_tl_nvr_dlq\",\"percent_bc_gt_75\",\"pub_rec_bankruptcies\",\"tax_liens\",\"tot_hi_cred_lim\",\"total_bal_ex_mort\",\"total_bc_limit\",\"total_il_high_credit_limit\",\"revol_bal_joint\",\"sec_app_earliest_cr_line\",\"sec_app_inq_last_6mths\",\"sec_app_mort_acc\",\"sec_app_open_acc\",\"sec_app_revol_util\",\"sec_app_open_act_il\",\"sec_app_num_rev_accts\",\"sec_app_chargeoff_within_12_mths\",\"sec_app_collections_12_mths_ex_med\",\"sec_app_mths_since_last_major_derog\",\"hardship_flag\",\"hardship_type\",\"hardship_reason\",\"hardship_status\",\"deferral_term\",\"hardship_amount\",\"hardship_start_date\",\"hardship_end_date\",\"payment_plan_start_date\",\"hardship_length\",\"hardship_dpd\",\"hardship_loan_status\",\"orig_projected_additional_accrued_interest\",\"hardship_payoff_balance_amount\",\"hardship_last_payment_amount\",\"disbursement_method\",\"debt_settlement_flag\",\"debt_settlement_flag_date\",\"settlement_status\",\"settlement_date\",\"settlement_amount\",\"settlement_percentage\",\"settlement_term\"\n",
            "\"\",\"\",\"20000\",\"20000\",\"20000\",\" 60 months\",\" 17.97%\",\"507.55\",\"D\",\"D1\",\"Motor Vehicle Operator\",\"7 years\",\"RENT\",\"68000\",\"Source Verified\",\"Sep-2018\",\"Current\",\"n\",\"\",\"\",\"debt_consolidation\",\"Debt consolidation\",\"254xx\",\"WV\",\"15.8\",\"0\",\"Feb-2009\",\"1\",\"30\",\"118\",\"11\",\"1\",\"13483\",\"69.1%\",\"26\",\"w\",\"19580.78\",\"19580.78\",\"975.17\",\"975.17\",\"419.22\",\"555.95\",\"0.0\",\"0.0\",\"0.0\",\"Dec-2018\",\"507.55\",\"Jan-2019\",\"Dec-2018\",\"0\",\"\",\"1\",\"Individual\",\"\",\"\",\"\",\"0\",\"0\",\"194908\",\"0\",\"2\",\"0\",\"2\",\"17\",\"45299\",\"93\",\"0\",\"1\",\"9815\",\"86\",\"19500\",\"1\",\"4\",\"2\",\"5\",\"19491\",\"2185\",\"81.8\",\"0\",\"0\",\"115\",\"94\",\"13\",\"7\",\"4\",\"25\",\"\",\"2\",\"30\",\"0\",\"1\",\"3\",\"2\",\"4\",\"11\",\"8\",\"10\",\"3\",\"11\",\"0\",\"0\",\"0\",\"1\",\"92.3\",\"50\",\"1\",\"0\",\"205625\",\"58782\",\"12000\",\"48733\",\"\",\"\",\"\",\"\",\"\",\"\",\"\",\"\",\"\",\"\",\"\",\"N\",\"\",\"\",\"\",\"\",\"\",\"\",\"\",\"\",\"\",\"\",\"\",\"\",\"\",\"\",\"DirectPay\",\"N\",\"\",\"\",\"\",\"\",\"\",\"\"\n",
            "\"\",\"\",\"25000\",\"25000\",\"25000\",\" 60 months\",\" 13.56%\",\"576.02\",\"C\",\"C1\",\"Firefighter\",\"7 years\",\"MORTGAGE\",\"61000\",\"Verified\",\"Sep-2018\",\"Current\",\"n\",\"\",\"\",\"major_purchase\",\"Major purchase\",\"770xx\",\"TX\",\"16.74\",\"0\",\"Jan-2009\",\"0\",\"\",\"\",\"5\",\"0\",\"6299\",\"48.5%\",\"14\",\"w\",\"24109.45\",\"24109.45\",\"1567.98\",\"1567.98\",\"890.55\",\"677.43\",\"0.0\",\"0.0\",\"0.0\",\"Dec-2018\",\"576.02\",\"Jan-2019\",\"Dec-2018\",\"0\",\"\",\"1\",\"Individual\",\"\",\"\",\"\",\"0\",\"0\",\"204007\",\"1\",\"2\",\"0\",\"1\",\"19\",\"13862\",\"37\",\"0\",\"0\",\"0\",\"40\",\"13000\",\"0\",\"7\",\"4\",\"2\",\"40801\",\"1500\",\"0\",\"0\",\"0\",\"54\",\"116\",\"26\",\"3\",\"1\",\"74\",\"\",\"4\",\"\",\"0\",\"0\",\"1\",\"1\",\"2\",\"5\",\"2\",\"8\",\"1\",\"5\",\"0\",\"0\",\"0\",\"1\",\"100\",\"0\",\"0\",\"0\",\"234573\",\"20161\",\"1500\",\"37273\",\"\",\"\",\"\",\"\",\"\",\"\",\"\",\"\",\"\",\"\",\"\",\"N\",\"\",\"\",\"\",\"\",\"\",\"\",\"\",\"\",\"\",\"\",\"\",\"\",\"\",\"\",\"Cash\",\"N\",\"\",\"\",\"\",\"\",\"\",\"\"\n",
            "\"\",\"\",\"30000\",\"30000\",\"30000\",\" 36 months\",\" 18.94%\",\"1098.78\",\"D\",\"D2\",\"\",\"< 1 year\",\"RENT\",\"100000\",\"Source Verified\",\"Sep-2018\",\"Current\",\"n\",\"\",\"\",\"debt_consolidation\",\"Debt consolidation\",\"300xx\",\"GA\",\"16.07\",\"0\",\"Mar-2008\",\"1\",\"\",\"114\",\"6\",\"1\",\"14574\",\"70.1%\",\"9\",\"w\",\"28739.57\",\"28739.57\",\"2134.43\",\"2134.43\",\"1260.43\",\"874.00\",\"0.0\",\"0.0\",\"0.0\",\"Dec-2018\",\"1098.78\",\"Jan-2019\",\"Dec-2018\",\"0\",\"\",\"1\",\"Individual\",\"\",\"\",\"\",\"0\",\"0\",\"44048\",\"1\",\"2\",\"1\",\"1\",\"1\",\"29474\",\"69\",\"1\",\"2\",\"8521\",\"69\",\"20800\",\"1\",\"0\",\"2\",\"3\",\"8810\",\"5226\",\"73.6\",\"0\",\"0\",\"126\",\"104\",\"11\",\"1\",\"0\",\"17\",\"\",\"1\",\"\",\"0\",\"2\",\"2\",\"2\",\"2\",\"4\",\"4\",\"5\",\"2\",\"6\",\"0\",\"0\",\"0\",\"2\",\"100\",\"0\",\"1\",\"0\",\"63636\",\"44048\",\"19800\",\"42836\",\"\",\"\",\"\",\"\",\"\",\"\",\"\",\"\",\"\",\"\",\"\",\"N\",\"\",\"\",\"\",\"\",\"\",\"\",\"\",\"\",\"\",\"\",\"\",\"\",\"\",\"\",\"Cash\",\"N\",\"\",\"\",\"\",\"\",\"\",\"\"\n",
            "\"\",\"\",\"6000\",\"6000\",\"6000\",\" 36 months\",\"  7.84%\",\"187.58\",\"A\",\"A4\",\"\",\"n/a\",\"RENT\",\"30000\",\"Not Verified\",\"Sep-2018\",\"Current\",\"n\",\"\",\"\",\"debt_consolidation\",\"Debt consolidation\",\"923xx\",\"CA\",\"5.44\",\"0\",\"Apr-2000\",\"0\",\"\",\"104\",\"8\",\"1\",\"5936\",\"34.5%\",\"11\",\"w\",\"5702.27\",\"5702.27\",\"369.93\",\"369.93\",\"297.73\",\"72.20\",\"0.0\",\"0.0\",\"0.0\",\"Dec-2018\",\"187.58\",\"Jan-2019\",\"Dec-2018\",\"0\",\"\",\"1\",\"Individual\",\"\",\"\",\"\",\"0\",\"350\",\"5936\",\"0\",\"0\",\"0\",\"1\",\"23\",\"0\",\"\",\"1\",\"4\",\"2913\",\"35\",\"17200\",\"2\",\"0\",\"0\",\"5\",\"848\",\"7698\",\"35.9\",\"0\",\"0\",\"139\",\"221\",\"7\",\"7\",\"0\",\"7\",\"\",\"18\",\"\",\"0\",\"2\",\"3\",\"4\",\"4\",\"2\",\"8\",\"9\",\"3\",\"8\",\"0\",\"0\",\"0\",\"1\",\"100\",\"33.3\",\"1\",\"0\",\"17200\",\"5936\",\"12000\",\"0\",\"\",\"\",\"\",\"\",\"\",\"\",\"\",\"\",\"\",\"\",\"\",\"N\",\"\",\"\",\"\",\"\",\"\",\"\",\"\",\"\",\"\",\"\",\"\",\"\",\"\",\"\",\"DirectPay\",\"N\",\"\",\"\",\"\",\"\",\"\",\"\"\n",
            "\"\",\"\",\"10650\",\"10650\",\"10650\",\" 36 months\",\"  7.84%\",\"332.95\",\"A\",\"A4\",\"\",\"n/a\",\"RENT\",\"28000\",\"Verified\",\"Sep-2018\",\"Current\",\"n\",\"\",\"\",\"medical\",\"Medical expenses\",\"430xx\",\"OH\",\"16.89\",\"0\",\"Nov-2002\",\"0\",\"\",\"\",\"3\",\"0\",\"37\",\"0.3%\",\"3\",\"w\",\"10121.54\",\"10121.54\",\"656.62\",\"656.62\",\"528.46\",\"128.16\",\"0.0\",\"0.0\",\"0.0\",\"Dec-2018\",\"332.95\",\"Jan-2019\",\"Dec-2018\",\"0\",\"\",\"1\",\"Joint App\",\"43000\",\"14.01\",\"Source Verified\",\"0\",\"0\",\"18254\",\"0\",\"1\",\"0\",\"1\",\"16\",\"18217\",\"81\",\"0\",\"0\",\"0\",\"54\",\"11500\",\"1\",\"1\",\"0\",\"1\",\"6085\",\"\",\"\",\"0\",\"0\",\"16\",\"190\",\"113\",\"16\",\"0\",\"\",\"\",\"16\",\"\",\"0\",\"0\",\"1\",\"0\",\"0\",\"1\",\"2\",\"2\",\"2\",\"3\",\"0\",\"0\",\"0\",\"0\",\"100\",\"\",\"0\",\"0\",\"33876\",\"18254\",\"0\",\"22376\",\"2024\",\"Oct-1996\",\"0\",\"0\",\"8\",\"18.7\",\"1\",\"9\",\"0\",\"0\",\"\",\"N\",\"\",\"\",\"\",\"\",\"\",\"\",\"\",\"\",\"\",\"\",\"\",\"\",\"\",\"\",\"Cash\",\"N\",\"\",\"\",\"\",\"\",\"\",\"\"\n",
            "\"\",\"\",\"9000\",\"9000\",\"9000\",\" 36 months\",\"  6.11%\",\"274.25\",\"A\",\"A1\",\"\",\"n/a\",\"OWN\",\"25000\",\"Not Verified\",\"Sep-2018\",\"Current\",\"n\",\"\",\"\",\"credit_card\",\"Credit card refinancing\",\"224xx\",\"VA\",\"12.1\",\"0\",\"Apr-1999\",\"0\",\"56\",\"\",\"6\",\"0\",\"8996\",\"33.8%\",\"18\",\"w\",\"8541.98\",\"8541.98\",\"550.03\",\"550.03\",\"458.02\",\"92.01\",\"0.0\",\"0.0\",\"0.0\",\"Dec-2018\",\"274.25\",\"Jan-2019\",\"Dec-2018\",\"0\",\"56\",\"1\",\"Individual\",\"\",\"\",\"\",\"0\",\"160\",\"8996\",\"0\",\"0\",\"0\",\"0\",\"66\",\"0\",\"\",\"0\",\"1\",\"6920\",\"34\",\"26600\",\"0\",\"0\",\"0\",\"1\",\"1799\",\"13466\",\"35.3\",\"0\",\"0\",\"66\",\"233\",\"14\",\"14\",\"2\",\"77\",\"\",\"14\",\"56\",\"2\",\"2\",\"4\",\"3\",\"4\",\"1\",\"6\",\"15\",\"4\",\"6\",\"0\",\"0\",\"0\",\"0\",\"83.3\",\"0\",\"0\",\"0\",\"26600\",\"8996\",\"20800\",\"0\",\"\",\"\",\"\",\"\",\"\",\"\",\"\",\"\",\"\",\"\",\"\",\"N\",\"\",\"\",\"\",\"\",\"\",\"\",\"\",\"\",\"\",\"\",\"\",\"\",\"\",\"\",\"DirectPay\",\"N\",\"\",\"\",\"\",\"\",\"\",\"\"\n",
            "\"\",\"\",\"20000\",\"20000\",\"20000\",\" 36 months\",\"  6.67%\",\"614.53\",\"A\",\"A2\",\"General Manager\",\"< 1 year\",\"MORTGAGE\",\"125000\",\"Not Verified\",\"Sep-2018\",\"Current\",\"n\",\"\",\"\",\"house\",\"Home buying\",\"750xx\",\"TX\",\"15.55\",\"1\",\"Jul-2003\",\"0\",\"21\",\"\",\"24\",\"0\",\"5832\",\"11.4%\",\"36\",\"w\",\"18990.48\",\"18990.48\",\"1214.24\",\"1214.24\",\"1009.52\",\"204.72\",\"0.0\",\"0.0\",\"0.0\",\"Dec-2018\",\"614.53\",\"Jan-2019\",\"Dec-2018\",\"0\",\"\",\"1\",\"Individual\",\"\",\"\",\"\",\"0\",\"0\",\"63577\",\"2\",\"1\",\"0\",\"1\",\"22\",\"54244\",\"\",\"2\",\"4\",\"3048\",\"17\",\"51100\",\"1\",\"0\",\"6\",\"6\",\"3027\",\"36050\",\"11.9\",\"0\",\"0\",\"148\",\"182\",\"6\",\"6\",\"2\",\"24\",\"21\",\"1\",\"21\",\"0\",\"5\",\"6\",\"16\",\"19\",\"6\",\"22\",\"26\",\"6\",\"24\",\"0\",\"0\",\"0\",\"2\",\"97.2\",\"7.7\",\"0\",\"0\",\"133998\",\"63577\",\"40900\",\"78764\",\"\",\"\",\"\",\"\",\"\",\"\",\"\",\"\",\"\",\"\",\"\",\"N\",\"\",\"\",\"\",\"\",\"\",\"\",\"\",\"\",\"\",\"\",\"\",\"\",\"\",\"\",\"Cash\",\"N\",\"\",\"\",\"\",\"\",\"\",\"\"\n",
            "\"\",\"\",\"20000\",\"20000\",\"20000\",\" 36 months\",\"  7.84%\",\"625.26\",\"A\",\"A4\",\"Teacher\",\"10+ years\",\"MORTGAGE\",\"48186\",\"Not Verified\",\"Sep-2018\",\"Current\",\"n\",\"\",\"\",\"debt_consolidation\",\"Debt consolidation\",\"641xx\",\"MO\",\"24.68\",\"0\",\"Aug-1996\",\"0\",\"\",\"\",\"17\",\"0\",\"23822\",\"58.8%\",\"38\",\"w\",\"18506.50\",\"18506.50\",\"1803.14\",\"1803.14\",\"1493.50\",\"309.64\",\"0.0\",\"0.0\",\"0.0\",\"Dec-2018\",\"625.26\",\"Jan-2019\",\"Dec-2018\",\"0\",\"\",\"1\",\"Individual\",\"\",\"\",\"\",\"0\",\"0\",\"191246\",\"0\",\"9\",\"0\",\"2\",\"16\",\"14800\",\"48\",\"1\",\"1\",\"11800\",\"54\",\"40500\",\"1\",\"0\",\"0\",\"3\",\"11250\",\"13078\",\"57.8\",\"0\",\"0\",\"265\",\"239\",\"8\",\"8\",\"2\",\"8\",\"\",\"16\",\"\",\"0\",\"3\",\"4\",\"6\",\"7\",\"27\",\"7\",\"9\",\"4\",\"17\",\"0\",\"0\",\"0\",\"1\",\"100\",\"16.7\",\"0\",\"0\",\"234182\",\"38622\",\"31000\",\"30832\",\"\",\"\",\"\",\"\",\"\",\"\",\"\",\"\",\"\",\"\",\"\",\"N\",\"\",\"\",\"\",\"\",\"\",\"\",\"\",\"\",\"\",\"\",\"\",\"\",\"\",\"\",\"DirectPay\",\"N\",\"\",\"\",\"\",\"\",\"\",\"\"\n"
          ],
          "name": "stdout"
        }
      ]
    },
    {
      "metadata": {
        "id": "KUSHRmUBTuRu",
        "colab_type": "code",
        "colab": {}
      },
      "cell_type": "code",
      "source": [
        "!tail LoanStats_2018Q3.csv"
      ],
      "execution_count": 0,
      "outputs": []
    },
    {
      "metadata": {
        "id": "3nAIRCZdofrY",
        "colab_type": "text"
      },
      "cell_type": "markdown",
      "source": [
        "## Load LendingClub data"
      ]
    },
    {
      "metadata": {
        "id": "6GJn0y0D59sF",
        "colab_type": "text"
      },
      "cell_type": "markdown",
      "source": [
        "pandas documentation\n",
        "- [`read_csv`](https://pandas.pydata.org/pandas-docs/stable/generated/pandas.read_csv.html)\n",
        "- [`options.display`](https://pandas.pydata.org/pandas-docs/stable/options.html#available-options)"
      ]
    },
    {
      "metadata": {
        "id": "3-8Vn3y6ooBC",
        "colab_type": "code",
        "colab": {
          "base_uri": "https://localhost:8080/",
          "height": 372
        },
        "outputId": "698720be-2c0b-4d09-cab8-0db7d913f14d"
      },
      "cell_type": "code",
      "source": [
        "import pandas as pd\n",
        "\n",
        "#want to skip some row in the csv file\n",
        "\n",
        "df = pd.read_csv('LoanStats_2018Q3.csv', skipfooter=2, skiprows=1)\n",
        "\n",
        "df.shape\n",
        "\n",
        "df.head()"
      ],
      "execution_count": 5,
      "outputs": [
        {
          "output_type": "stream",
          "text": [
            "/usr/local/lib/python3.6/dist-packages/ipykernel_launcher.py:5: ParserWarning: Falling back to the 'python' engine because the 'c' engine does not support skipfooter; you can avoid this warning by specifying engine='python'.\n",
            "  \"\"\"\n"
          ],
          "name": "stderr"
        },
        {
          "output_type": "execute_result",
          "data": {
            "text/html": [
              "<div>\n",
              "<style scoped>\n",
              "    .dataframe tbody tr th:only-of-type {\n",
              "        vertical-align: middle;\n",
              "    }\n",
              "\n",
              "    .dataframe tbody tr th {\n",
              "        vertical-align: top;\n",
              "    }\n",
              "\n",
              "    .dataframe thead th {\n",
              "        text-align: right;\n",
              "    }\n",
              "</style>\n",
              "<table border=\"1\" class=\"dataframe\">\n",
              "  <thead>\n",
              "    <tr style=\"text-align: right;\">\n",
              "      <th></th>\n",
              "      <th>id</th>\n",
              "      <th>member_id</th>\n",
              "      <th>loan_amnt</th>\n",
              "      <th>funded_amnt</th>\n",
              "      <th>funded_amnt_inv</th>\n",
              "      <th>term</th>\n",
              "      <th>int_rate</th>\n",
              "      <th>installment</th>\n",
              "      <th>grade</th>\n",
              "      <th>sub_grade</th>\n",
              "      <th>...</th>\n",
              "      <th>hardship_payoff_balance_amount</th>\n",
              "      <th>hardship_last_payment_amount</th>\n",
              "      <th>disbursement_method</th>\n",
              "      <th>debt_settlement_flag</th>\n",
              "      <th>debt_settlement_flag_date</th>\n",
              "      <th>settlement_status</th>\n",
              "      <th>settlement_date</th>\n",
              "      <th>settlement_amount</th>\n",
              "      <th>settlement_percentage</th>\n",
              "      <th>settlement_term</th>\n",
              "    </tr>\n",
              "  </thead>\n",
              "  <tbody>\n",
              "    <tr>\n",
              "      <th>0</th>\n",
              "      <td>NaN</td>\n",
              "      <td>NaN</td>\n",
              "      <td>20000</td>\n",
              "      <td>20000</td>\n",
              "      <td>20000</td>\n",
              "      <td>60 months</td>\n",
              "      <td>17.97%</td>\n",
              "      <td>507.55</td>\n",
              "      <td>D</td>\n",
              "      <td>D1</td>\n",
              "      <td>...</td>\n",
              "      <td>NaN</td>\n",
              "      <td>NaN</td>\n",
              "      <td>DirectPay</td>\n",
              "      <td>N</td>\n",
              "      <td>NaN</td>\n",
              "      <td>NaN</td>\n",
              "      <td>NaN</td>\n",
              "      <td>NaN</td>\n",
              "      <td>NaN</td>\n",
              "      <td>NaN</td>\n",
              "    </tr>\n",
              "    <tr>\n",
              "      <th>1</th>\n",
              "      <td>NaN</td>\n",
              "      <td>NaN</td>\n",
              "      <td>25000</td>\n",
              "      <td>25000</td>\n",
              "      <td>25000</td>\n",
              "      <td>60 months</td>\n",
              "      <td>13.56%</td>\n",
              "      <td>576.02</td>\n",
              "      <td>C</td>\n",
              "      <td>C1</td>\n",
              "      <td>...</td>\n",
              "      <td>NaN</td>\n",
              "      <td>NaN</td>\n",
              "      <td>Cash</td>\n",
              "      <td>N</td>\n",
              "      <td>NaN</td>\n",
              "      <td>NaN</td>\n",
              "      <td>NaN</td>\n",
              "      <td>NaN</td>\n",
              "      <td>NaN</td>\n",
              "      <td>NaN</td>\n",
              "    </tr>\n",
              "    <tr>\n",
              "      <th>2</th>\n",
              "      <td>NaN</td>\n",
              "      <td>NaN</td>\n",
              "      <td>30000</td>\n",
              "      <td>30000</td>\n",
              "      <td>30000</td>\n",
              "      <td>36 months</td>\n",
              "      <td>18.94%</td>\n",
              "      <td>1098.78</td>\n",
              "      <td>D</td>\n",
              "      <td>D2</td>\n",
              "      <td>...</td>\n",
              "      <td>NaN</td>\n",
              "      <td>NaN</td>\n",
              "      <td>Cash</td>\n",
              "      <td>N</td>\n",
              "      <td>NaN</td>\n",
              "      <td>NaN</td>\n",
              "      <td>NaN</td>\n",
              "      <td>NaN</td>\n",
              "      <td>NaN</td>\n",
              "      <td>NaN</td>\n",
              "    </tr>\n",
              "    <tr>\n",
              "      <th>3</th>\n",
              "      <td>NaN</td>\n",
              "      <td>NaN</td>\n",
              "      <td>6000</td>\n",
              "      <td>6000</td>\n",
              "      <td>6000</td>\n",
              "      <td>36 months</td>\n",
              "      <td>7.84%</td>\n",
              "      <td>187.58</td>\n",
              "      <td>A</td>\n",
              "      <td>A4</td>\n",
              "      <td>...</td>\n",
              "      <td>NaN</td>\n",
              "      <td>NaN</td>\n",
              "      <td>DirectPay</td>\n",
              "      <td>N</td>\n",
              "      <td>NaN</td>\n",
              "      <td>NaN</td>\n",
              "      <td>NaN</td>\n",
              "      <td>NaN</td>\n",
              "      <td>NaN</td>\n",
              "      <td>NaN</td>\n",
              "    </tr>\n",
              "    <tr>\n",
              "      <th>4</th>\n",
              "      <td>NaN</td>\n",
              "      <td>NaN</td>\n",
              "      <td>10650</td>\n",
              "      <td>10650</td>\n",
              "      <td>10650</td>\n",
              "      <td>36 months</td>\n",
              "      <td>7.84%</td>\n",
              "      <td>332.95</td>\n",
              "      <td>A</td>\n",
              "      <td>A4</td>\n",
              "      <td>...</td>\n",
              "      <td>NaN</td>\n",
              "      <td>NaN</td>\n",
              "      <td>Cash</td>\n",
              "      <td>N</td>\n",
              "      <td>NaN</td>\n",
              "      <td>NaN</td>\n",
              "      <td>NaN</td>\n",
              "      <td>NaN</td>\n",
              "      <td>NaN</td>\n",
              "      <td>NaN</td>\n",
              "    </tr>\n",
              "  </tbody>\n",
              "</table>\n",
              "<p>5 rows × 145 columns</p>\n",
              "</div>"
            ],
            "text/plain": [
              "   id  member_id  loan_amnt  funded_amnt  funded_amnt_inv        term  \\\n",
              "0 NaN        NaN      20000        20000            20000   60 months   \n",
              "1 NaN        NaN      25000        25000            25000   60 months   \n",
              "2 NaN        NaN      30000        30000            30000   36 months   \n",
              "3 NaN        NaN       6000         6000             6000   36 months   \n",
              "4 NaN        NaN      10650        10650            10650   36 months   \n",
              "\n",
              "  int_rate  installment grade sub_grade       ...         \\\n",
              "0   17.97%       507.55     D        D1       ...          \n",
              "1   13.56%       576.02     C        C1       ...          \n",
              "2   18.94%      1098.78     D        D2       ...          \n",
              "3    7.84%       187.58     A        A4       ...          \n",
              "4    7.84%       332.95     A        A4       ...          \n",
              "\n",
              "  hardship_payoff_balance_amount hardship_last_payment_amount  \\\n",
              "0                            NaN                          NaN   \n",
              "1                            NaN                          NaN   \n",
              "2                            NaN                          NaN   \n",
              "3                            NaN                          NaN   \n",
              "4                            NaN                          NaN   \n",
              "\n",
              "  disbursement_method  debt_settlement_flag debt_settlement_flag_date  \\\n",
              "0           DirectPay                     N                       NaN   \n",
              "1                Cash                     N                       NaN   \n",
              "2                Cash                     N                       NaN   \n",
              "3           DirectPay                     N                       NaN   \n",
              "4                Cash                     N                       NaN   \n",
              "\n",
              "  settlement_status settlement_date settlement_amount  settlement_percentage  \\\n",
              "0               NaN             NaN               NaN                    NaN   \n",
              "1               NaN             NaN               NaN                    NaN   \n",
              "2               NaN             NaN               NaN                    NaN   \n",
              "3               NaN             NaN               NaN                    NaN   \n",
              "4               NaN             NaN               NaN                    NaN   \n",
              "\n",
              "   settlement_term  \n",
              "0              NaN  \n",
              "1              NaN  \n",
              "2              NaN  \n",
              "3              NaN  \n",
              "4              NaN  \n",
              "\n",
              "[5 rows x 145 columns]"
            ]
          },
          "metadata": {
            "tags": []
          },
          "execution_count": 5
        }
      ]
    },
    {
      "metadata": {
        "id": "SSza9uLM1ZIF",
        "colab_type": "code",
        "colab": {}
      },
      "cell_type": "code",
      "source": [
        "pd.options.display.max_columns = 500"
      ],
      "execution_count": 0,
      "outputs": []
    },
    {
      "metadata": {
        "id": "f1DUOyg01wjZ",
        "colab_type": "code",
        "colab": {}
      },
      "cell_type": "code",
      "source": [
        "df.head().T"
      ],
      "execution_count": 0,
      "outputs": []
    },
    {
      "metadata": {
        "id": "1b5_hMTio2Ly",
        "colab_type": "text"
      },
      "cell_type": "markdown",
      "source": [
        "## Work with strings"
      ]
    },
    {
      "metadata": {
        "id": "xgv97K7C2C8J",
        "colab_type": "code",
        "colab": {}
      },
      "cell_type": "code",
      "source": [
        "pd.options.display.max_rows = 500"
      ],
      "execution_count": 0,
      "outputs": []
    },
    {
      "metadata": {
        "id": "-XD4dwyx2IqA",
        "colab_type": "code",
        "colab": {}
      },
      "cell_type": "code",
      "source": [
        "df.head().T"
      ],
      "execution_count": 0,
      "outputs": []
    },
    {
      "metadata": {
        "id": "arC__wBS5XRn",
        "colab_type": "text"
      },
      "cell_type": "markdown",
      "source": [
        "For machine learning, we usually want to replace strings with numbers"
      ]
    },
    {
      "metadata": {
        "id": "NRgNhbCAm-jG",
        "colab_type": "code",
        "colab": {}
      },
      "cell_type": "code",
      "source": [
        "import numpy as np\n",
        "\n",
        "def all_numeric(df):\n",
        "    return all((df.dtypes==np.number) | \n",
        "               (df.dtypes==bool))\n",
        "\n",
        "def no_nulls(df):\n",
        "    return not any(df.isnull().sum())\n",
        "\n",
        "def ready_for_sklearn(df):\n",
        "    return all_numeric(df) and no_nulls(df)"
      ],
      "execution_count": 0,
      "outputs": []
    },
    {
      "metadata": {
        "id": "nPye8R9WrsaR",
        "colab_type": "code",
        "colab": {}
      },
      "cell_type": "code",
      "source": [
        ""
      ],
      "execution_count": 0,
      "outputs": []
    },
    {
      "metadata": {
        "id": "8ARYtpADluD8",
        "colab_type": "text"
      },
      "cell_type": "markdown",
      "source": [
        "We can get info about which columns have a datatype of \"object\" (strings)"
      ]
    },
    {
      "metadata": {
        "id": "WOL7QPVNo3F4",
        "colab_type": "code",
        "colab": {
          "base_uri": "https://localhost:8080/",
          "height": 731
        },
        "outputId": "711d8e46-d6c3-4c7f-97f3-2363ae46b233"
      },
      "cell_type": "code",
      "source": [
        "df.select_dtypes('object').info()"
      ],
      "execution_count": 10,
      "outputs": [
        {
          "output_type": "stream",
          "text": [
            "<class 'pandas.core.frame.DataFrame'>\n",
            "RangeIndex: 128194 entries, 0 to 128193\n",
            "Data columns (total 37 columns):\n",
            "term                         128194 non-null object\n",
            "int_rate                     128194 non-null object\n",
            "grade                        128194 non-null object\n",
            "sub_grade                    128194 non-null object\n",
            "emp_title                    114757 non-null object\n",
            "emp_length                   117807 non-null object\n",
            "home_ownership               128194 non-null object\n",
            "verification_status          128194 non-null object\n",
            "issue_d                      128194 non-null object\n",
            "loan_status                  128194 non-null object\n",
            "pymnt_plan                   128194 non-null object\n",
            "purpose                      128194 non-null object\n",
            "title                        128194 non-null object\n",
            "zip_code                     128194 non-null object\n",
            "addr_state                   128194 non-null object\n",
            "earliest_cr_line             128194 non-null object\n",
            "revol_util                   128065 non-null object\n",
            "initial_list_status          128194 non-null object\n",
            "last_pymnt_d                 128048 non-null object\n",
            "next_pymnt_d                 123298 non-null object\n",
            "last_credit_pull_d           128190 non-null object\n",
            "application_type             128194 non-null object\n",
            "verification_status_joint    15729 non-null object\n",
            "sec_app_earliest_cr_line     17785 non-null object\n",
            "hardship_flag                128194 non-null object\n",
            "hardship_type                13 non-null object\n",
            "hardship_reason              13 non-null object\n",
            "hardship_status              13 non-null object\n",
            "hardship_start_date          13 non-null object\n",
            "hardship_end_date            13 non-null object\n",
            "payment_plan_start_date      13 non-null object\n",
            "hardship_loan_status         13 non-null object\n",
            "disbursement_method          128194 non-null object\n",
            "debt_settlement_flag         128194 non-null object\n",
            "debt_settlement_flag_date    5 non-null object\n",
            "settlement_status            5 non-null object\n",
            "settlement_date              5 non-null object\n",
            "dtypes: object(37)\n",
            "memory usage: 36.2+ MB\n"
          ],
          "name": "stdout"
        }
      ]
    },
    {
      "metadata": {
        "id": "m1mY5VDh6yir",
        "colab_type": "text"
      },
      "cell_type": "markdown",
      "source": [
        "### Convert `int_rate`"
      ]
    },
    {
      "metadata": {
        "id": "OeK2BaYVNmMn",
        "colab_type": "text"
      },
      "cell_type": "markdown",
      "source": [
        "Define a function to remove percent signs from strings and convert to floats"
      ]
    },
    {
      "metadata": {
        "id": "-gE7YmLWv2S7",
        "colab_type": "code",
        "colab": {
          "base_uri": "https://localhost:8080/",
          "height": 34
        },
        "outputId": "aa643fed-2c45-4621-da19-156d5e5c3821"
      },
      "cell_type": "code",
      "source": [
        "string = '17.97%'\n",
        "\n",
        "float(string.replace('%',''))\n",
        "\n",
        "def remove_percent(string):\n",
        "  return float(string.strip('%'))\n",
        "\n",
        "remove_percent(string)"
      ],
      "execution_count": 11,
      "outputs": [
        {
          "output_type": "execute_result",
          "data": {
            "text/plain": [
              "17.97"
            ]
          },
          "metadata": {
            "tags": []
          },
          "execution_count": 11
        }
      ]
    },
    {
      "metadata": {
        "id": "NkQHMGVOZ5Re",
        "colab_type": "text"
      },
      "cell_type": "markdown",
      "source": [
        "Apply the function to the `int_rate` column"
      ]
    },
    {
      "metadata": {
        "id": "Y8MqCBissw7T",
        "colab_type": "code",
        "colab": {}
      },
      "cell_type": "code",
      "source": [
        "df['int_rate'] = df['int_rate'].apply(remove_percent)"
      ],
      "execution_count": 0,
      "outputs": []
    },
    {
      "metadata": {
        "id": "veHKtF976PmM",
        "colab_type": "code",
        "colab": {
          "base_uri": "https://localhost:8080/",
          "height": 119
        },
        "outputId": "34f51893-b23e-4cda-cbc0-7049ffe6e57e"
      },
      "cell_type": "code",
      "source": [
        "df.int_rate.head()"
      ],
      "execution_count": 13,
      "outputs": [
        {
          "output_type": "execute_result",
          "data": {
            "text/plain": [
              "0    17.97\n",
              "1    13.56\n",
              "2    18.94\n",
              "3     7.84\n",
              "4     7.84\n",
              "Name: int_rate, dtype: float64"
            ]
          },
          "metadata": {
            "tags": []
          },
          "execution_count": 13
        }
      ]
    },
    {
      "metadata": {
        "id": "c_X3PxjM6-rc",
        "colab_type": "text"
      },
      "cell_type": "markdown",
      "source": [
        "### Clean `emp_title`"
      ]
    },
    {
      "metadata": {
        "id": "FirzP2i273My",
        "colab_type": "text"
      },
      "cell_type": "markdown",
      "source": [
        "Look at top 20 titles"
      ]
    },
    {
      "metadata": {
        "id": "aKGq7dZ2tKR6",
        "colab_type": "code",
        "colab": {
          "base_uri": "https://localhost:8080/",
          "height": 1071
        },
        "outputId": "ec05c369-b8ff-4d14-d439-ed5625903603"
      },
      "cell_type": "code",
      "source": [
        "df.select_dtypes('object').info()\n",
        "\n",
        "df['emp_title'].value_counts().head(20)"
      ],
      "execution_count": 14,
      "outputs": [
        {
          "output_type": "stream",
          "text": [
            "<class 'pandas.core.frame.DataFrame'>\n",
            "RangeIndex: 128194 entries, 0 to 128193\n",
            "Data columns (total 36 columns):\n",
            "term                         128194 non-null object\n",
            "grade                        128194 non-null object\n",
            "sub_grade                    128194 non-null object\n",
            "emp_title                    114757 non-null object\n",
            "emp_length                   117807 non-null object\n",
            "home_ownership               128194 non-null object\n",
            "verification_status          128194 non-null object\n",
            "issue_d                      128194 non-null object\n",
            "loan_status                  128194 non-null object\n",
            "pymnt_plan                   128194 non-null object\n",
            "purpose                      128194 non-null object\n",
            "title                        128194 non-null object\n",
            "zip_code                     128194 non-null object\n",
            "addr_state                   128194 non-null object\n",
            "earliest_cr_line             128194 non-null object\n",
            "revol_util                   128065 non-null object\n",
            "initial_list_status          128194 non-null object\n",
            "last_pymnt_d                 128048 non-null object\n",
            "next_pymnt_d                 123298 non-null object\n",
            "last_credit_pull_d           128190 non-null object\n",
            "application_type             128194 non-null object\n",
            "verification_status_joint    15729 non-null object\n",
            "sec_app_earliest_cr_line     17785 non-null object\n",
            "hardship_flag                128194 non-null object\n",
            "hardship_type                13 non-null object\n",
            "hardship_reason              13 non-null object\n",
            "hardship_status              13 non-null object\n",
            "hardship_start_date          13 non-null object\n",
            "hardship_end_date            13 non-null object\n",
            "payment_plan_start_date      13 non-null object\n",
            "hardship_loan_status         13 non-null object\n",
            "disbursement_method          128194 non-null object\n",
            "debt_settlement_flag         128194 non-null object\n",
            "debt_settlement_flag_date    5 non-null object\n",
            "settlement_status            5 non-null object\n",
            "settlement_date              5 non-null object\n",
            "dtypes: object(36)\n",
            "memory usage: 35.2+ MB\n"
          ],
          "name": "stdout"
        },
        {
          "output_type": "execute_result",
          "data": {
            "text/plain": [
              "Teacher               2294\n",
              "Manager               2075\n",
              "Owner                 1231\n",
              "Driver                1089\n",
              "Registered Nurse       944\n",
              "Supervisor             810\n",
              "RN                     757\n",
              "Sales                  726\n",
              "Project Manager        637\n",
              "General Manager        548\n",
              "Office Manager         542\n",
              "Director               482\n",
              "owner                  398\n",
              "Engineer               383\n",
              "Truck Driver           367\n",
              "Operations Manager     366\n",
              "President              350\n",
              "Sales Manager          323\n",
              "Supervisor             321\n",
              "Server                 319\n",
              "Name: emp_title, dtype: int64"
            ]
          },
          "metadata": {
            "tags": []
          },
          "execution_count": 14
        }
      ]
    },
    {
      "metadata": {
        "id": "SFMSgs2NOg3W",
        "colab_type": "text"
      },
      "cell_type": "markdown",
      "source": [
        "How often is `emp_title` null?"
      ]
    },
    {
      "metadata": {
        "id": "n2j6JCXdOcBl",
        "colab_type": "code",
        "colab": {
          "base_uri": "https://localhost:8080/",
          "height": 34
        },
        "outputId": "7a6e1464-24cb-4758-9ea2-06246d3b7d7c"
      },
      "cell_type": "code",
      "source": [
        "df['emp_title'].isnull().sum()"
      ],
      "execution_count": 15,
      "outputs": [
        {
          "output_type": "execute_result",
          "data": {
            "text/plain": [
              "13437"
            ]
          },
          "metadata": {
            "tags": []
          },
          "execution_count": 15
        }
      ]
    },
    {
      "metadata": {
        "id": "4krE3uwK7-vs",
        "colab_type": "text"
      },
      "cell_type": "markdown",
      "source": [
        "Clean the title and handle missing values"
      ]
    },
    {
      "metadata": {
        "id": "usnWwZlztln7",
        "colab_type": "code",
        "colab": {}
      },
      "cell_type": "code",
      "source": [
        "examples = ['owner','Supervisor ', ' Project Manager',42,np.nan]\n",
        "\n",
        "def clean_title(x):\n",
        "  if isinstance(x, str):\n",
        "    return x.strip().title()\n",
        "  else:\n",
        "    return 'Unkown'\n",
        "\n",
        "for example in examples:\n",
        "  print(clean_title(example))"
      ],
      "execution_count": 0,
      "outputs": []
    },
    {
      "metadata": {
        "id": "1pjZVPpC_tcp",
        "colab_type": "code",
        "colab": {}
      },
      "cell_type": "code",
      "source": [
        "df['emp_title'] = df['emp_title'].apply(clean_title)"
      ],
      "execution_count": 0,
      "outputs": []
    },
    {
      "metadata": {
        "id": "rL0rrjuC_7i6",
        "colab_type": "code",
        "colab": {
          "base_uri": "https://localhost:8080/",
          "height": 374
        },
        "outputId": "7f47049b-893f-45ce-e891-d64911d62dcb"
      },
      "cell_type": "code",
      "source": [
        "df['emp_title'].value_counts().head(20)"
      ],
      "execution_count": 18,
      "outputs": [
        {
          "output_type": "execute_result",
          "data": {
            "text/plain": [
              "Unkown                      13437\n",
              "Teacher                      2843\n",
              "Manager                      2749\n",
              "Owner                        1856\n",
              "Driver                       1498\n",
              "Registered Nurse             1386\n",
              "Supervisor                   1345\n",
              "Sales                         980\n",
              "Truck Driver                  921\n",
              "Rn                            905\n",
              "Office Manager                846\n",
              "Project Manager               835\n",
              "General Manager               809\n",
              "Director                      585\n",
              "Operations Manager            516\n",
              "Sales Manager                 510\n",
              "Engineer                      474\n",
              "Store Manager                 466\n",
              "Administrative Assistant      466\n",
              "President                     464\n",
              "Name: emp_title, dtype: int64"
            ]
          },
          "metadata": {
            "tags": []
          },
          "execution_count": 18
        }
      ]
    },
    {
      "metadata": {
        "id": "oyz4mcqn7EOU",
        "colab_type": "text"
      },
      "cell_type": "markdown",
      "source": [
        "### Create `emp_title_manager`\n",
        "\n",
        "pandas documentation: [`str.contains`](https://pandas.pydata.org/pandas-docs/stable/generated/pandas.Series.str.contains.html)"
      ]
    },
    {
      "metadata": {
        "id": "iX6p6MQWvieC",
        "colab_type": "code",
        "colab": {}
      },
      "cell_type": "code",
      "source": [
        "df['emp_title_manager'] = df['emp_title'].str.contains('Manager')\n"
      ],
      "execution_count": 0,
      "outputs": []
    },
    {
      "metadata": {
        "id": "F9NAlvcjFJjy",
        "colab_type": "code",
        "colab": {
          "base_uri": "https://localhost:8080/",
          "height": 68
        },
        "outputId": "13b62c29-541e-4732-b4a2-d494ef52f2a0"
      },
      "cell_type": "code",
      "source": [
        "df['emp_title_manager'].value_counts()"
      ],
      "execution_count": 20,
      "outputs": [
        {
          "output_type": "execute_result",
          "data": {
            "text/plain": [
              "False    109498\n",
              "True      18696\n",
              "Name: emp_title_manager, dtype: int64"
            ]
          },
          "metadata": {
            "tags": []
          },
          "execution_count": 20
        }
      ]
    },
    {
      "metadata": {
        "id": "s8BcCY6so3by",
        "colab_type": "text"
      },
      "cell_type": "markdown",
      "source": [
        "## Work with dates\n",
        "\n",
        "pandas documentation\n",
        "- [to_datetime](https://pandas.pydata.org/pandas-docs/stable/generated/pandas.to_datetime.html)\n",
        "- [Time/Date Components](https://pandas.pydata.org/pandas-docs/stable/timeseries.html#time-date-components) \"You can access these properties via the `.dt` accessor\""
      ]
    },
    {
      "metadata": {
        "id": "bhcgKbTAropd",
        "colab_type": "code",
        "colab": {
          "base_uri": "https://localhost:8080/",
          "height": 51
        },
        "outputId": "358d12b9-7659-4924-ff3d-16521d1a7254"
      },
      "cell_type": "code",
      "source": [
        "df['issue_d'].head().values"
      ],
      "execution_count": 21,
      "outputs": [
        {
          "output_type": "execute_result",
          "data": {
            "text/plain": [
              "array(['Sep-2018', 'Sep-2018', 'Sep-2018', 'Sep-2018', 'Sep-2018'],\n",
              "      dtype=object)"
            ]
          },
          "metadata": {
            "tags": []
          },
          "execution_count": 21
        }
      ]
    },
    {
      "metadata": {
        "id": "0Ok4BmjNGPWF",
        "colab_type": "code",
        "colab": {}
      },
      "cell_type": "code",
      "source": [
        "df['issue_d']= pd.to_datetime(df['issue_d'],infer_datetime_format=True)"
      ],
      "execution_count": 0,
      "outputs": []
    },
    {
      "metadata": {
        "id": "eDJI97ZJHEhA",
        "colab_type": "code",
        "colab": {}
      },
      "cell_type": "code",
      "source": [
        "df['issue_year'] = df['issue_d'].dt.year\n",
        "df['issue_month'] = df['issue_d'].dt.month"
      ],
      "execution_count": 0,
      "outputs": []
    },
    {
      "metadata": {
        "id": "i7hrTd4UH4JN",
        "colab_type": "code",
        "colab": {
          "base_uri": "https://localhost:8080/",
          "height": 204
        },
        "outputId": "37c6aee1-d3d8-4d03-a4ce-07cdb3a62949"
      },
      "cell_type": "code",
      "source": [
        "df['issue_month'].sample(10)"
      ],
      "execution_count": 24,
      "outputs": [
        {
          "output_type": "execute_result",
          "data": {
            "text/plain": [
              "14365     9\n",
              "38015     9\n",
              "62214     8\n",
              "108416    7\n",
              "89450     7\n",
              "102158    7\n",
              "107328    7\n",
              "42303     8\n",
              "106517    7\n",
              "37129     9\n",
              "Name: issue_month, dtype: int64"
            ]
          },
          "metadata": {
            "tags": []
          },
          "execution_count": 24
        }
      ]
    },
    {
      "metadata": {
        "id": "SqF63r0UI-M8",
        "colab_type": "code",
        "colab": {}
      },
      "cell_type": "code",
      "source": [
        ""
      ],
      "execution_count": 0,
      "outputs": []
    },
    {
      "metadata": {
        "id": "_GUxhksJIsx-",
        "colab_type": "code",
        "colab": {}
      },
      "cell_type": "code",
      "source": [
        "df.head(1)\n",
        "\n",
        "df['earliest_cr_line'] = pd.to_datetime(df['earliest_cr_line'], infer_datetime_format=True)"
      ],
      "execution_count": 0,
      "outputs": []
    },
    {
      "metadata": {
        "id": "YB9JO1-wJVSs",
        "colab_type": "code",
        "colab": {}
      },
      "cell_type": "code",
      "source": [
        "date_col = [col for col in df if col.endswith('_d')]\n",
        "\n"
      ],
      "execution_count": 0,
      "outputs": []
    },
    {
      "metadata": {
        "id": "gD5PfYugJqfG",
        "colab_type": "code",
        "colab": {}
      },
      "cell_type": "code",
      "source": [
        "for col in date_col:\n",
        "  df[col] = pd.to_datetime(df[col],infer_datetime_format=True)"
      ],
      "execution_count": 0,
      "outputs": []
    },
    {
      "metadata": {
        "id": "iABiVmQ_KrXe",
        "colab_type": "code",
        "colab": {
          "base_uri": "https://localhost:8080/",
          "height": 360
        },
        "outputId": "2ff3f2f5-57ab-4fc2-a45b-32fca7c55e08"
      },
      "cell_type": "code",
      "source": [
        "df.sample(5)"
      ],
      "execution_count": 29,
      "outputs": [
        {
          "output_type": "execute_result",
          "data": {
            "text/html": [
              "<div>\n",
              "<style scoped>\n",
              "    .dataframe tbody tr th:only-of-type {\n",
              "        vertical-align: middle;\n",
              "    }\n",
              "\n",
              "    .dataframe tbody tr th {\n",
              "        vertical-align: top;\n",
              "    }\n",
              "\n",
              "    .dataframe thead th {\n",
              "        text-align: right;\n",
              "    }\n",
              "</style>\n",
              "<table border=\"1\" class=\"dataframe\">\n",
              "  <thead>\n",
              "    <tr style=\"text-align: right;\">\n",
              "      <th></th>\n",
              "      <th>id</th>\n",
              "      <th>member_id</th>\n",
              "      <th>loan_amnt</th>\n",
              "      <th>funded_amnt</th>\n",
              "      <th>funded_amnt_inv</th>\n",
              "      <th>term</th>\n",
              "      <th>int_rate</th>\n",
              "      <th>installment</th>\n",
              "      <th>grade</th>\n",
              "      <th>sub_grade</th>\n",
              "      <th>emp_title</th>\n",
              "      <th>emp_length</th>\n",
              "      <th>home_ownership</th>\n",
              "      <th>annual_inc</th>\n",
              "      <th>verification_status</th>\n",
              "      <th>issue_d</th>\n",
              "      <th>loan_status</th>\n",
              "      <th>pymnt_plan</th>\n",
              "      <th>url</th>\n",
              "      <th>desc</th>\n",
              "      <th>purpose</th>\n",
              "      <th>title</th>\n",
              "      <th>zip_code</th>\n",
              "      <th>addr_state</th>\n",
              "      <th>dti</th>\n",
              "      <th>delinq_2yrs</th>\n",
              "      <th>earliest_cr_line</th>\n",
              "      <th>inq_last_6mths</th>\n",
              "      <th>mths_since_last_delinq</th>\n",
              "      <th>mths_since_last_record</th>\n",
              "      <th>open_acc</th>\n",
              "      <th>pub_rec</th>\n",
              "      <th>revol_bal</th>\n",
              "      <th>revol_util</th>\n",
              "      <th>total_acc</th>\n",
              "      <th>initial_list_status</th>\n",
              "      <th>out_prncp</th>\n",
              "      <th>out_prncp_inv</th>\n",
              "      <th>total_pymnt</th>\n",
              "      <th>total_pymnt_inv</th>\n",
              "      <th>total_rec_prncp</th>\n",
              "      <th>total_rec_int</th>\n",
              "      <th>total_rec_late_fee</th>\n",
              "      <th>recoveries</th>\n",
              "      <th>collection_recovery_fee</th>\n",
              "      <th>last_pymnt_d</th>\n",
              "      <th>last_pymnt_amnt</th>\n",
              "      <th>next_pymnt_d</th>\n",
              "      <th>last_credit_pull_d</th>\n",
              "      <th>collections_12_mths_ex_med</th>\n",
              "      <th>mths_since_last_major_derog</th>\n",
              "      <th>policy_code</th>\n",
              "      <th>application_type</th>\n",
              "      <th>annual_inc_joint</th>\n",
              "      <th>dti_joint</th>\n",
              "      <th>verification_status_joint</th>\n",
              "      <th>acc_now_delinq</th>\n",
              "      <th>tot_coll_amt</th>\n",
              "      <th>tot_cur_bal</th>\n",
              "      <th>open_acc_6m</th>\n",
              "      <th>open_act_il</th>\n",
              "      <th>open_il_12m</th>\n",
              "      <th>open_il_24m</th>\n",
              "      <th>mths_since_rcnt_il</th>\n",
              "      <th>total_bal_il</th>\n",
              "      <th>il_util</th>\n",
              "      <th>open_rv_12m</th>\n",
              "      <th>open_rv_24m</th>\n",
              "      <th>max_bal_bc</th>\n",
              "      <th>all_util</th>\n",
              "      <th>total_rev_hi_lim</th>\n",
              "      <th>inq_fi</th>\n",
              "      <th>total_cu_tl</th>\n",
              "      <th>inq_last_12m</th>\n",
              "      <th>acc_open_past_24mths</th>\n",
              "      <th>avg_cur_bal</th>\n",
              "      <th>bc_open_to_buy</th>\n",
              "      <th>bc_util</th>\n",
              "      <th>chargeoff_within_12_mths</th>\n",
              "      <th>delinq_amnt</th>\n",
              "      <th>mo_sin_old_il_acct</th>\n",
              "      <th>mo_sin_old_rev_tl_op</th>\n",
              "      <th>mo_sin_rcnt_rev_tl_op</th>\n",
              "      <th>mo_sin_rcnt_tl</th>\n",
              "      <th>mort_acc</th>\n",
              "      <th>mths_since_recent_bc</th>\n",
              "      <th>mths_since_recent_bc_dlq</th>\n",
              "      <th>mths_since_recent_inq</th>\n",
              "      <th>mths_since_recent_revol_delinq</th>\n",
              "      <th>num_accts_ever_120_pd</th>\n",
              "      <th>num_actv_bc_tl</th>\n",
              "      <th>num_actv_rev_tl</th>\n",
              "      <th>num_bc_sats</th>\n",
              "      <th>num_bc_tl</th>\n",
              "      <th>num_il_tl</th>\n",
              "      <th>num_op_rev_tl</th>\n",
              "      <th>num_rev_accts</th>\n",
              "      <th>num_rev_tl_bal_gt_0</th>\n",
              "      <th>num_sats</th>\n",
              "      <th>num_tl_120dpd_2m</th>\n",
              "      <th>num_tl_30dpd</th>\n",
              "      <th>num_tl_90g_dpd_24m</th>\n",
              "      <th>num_tl_op_past_12m</th>\n",
              "      <th>pct_tl_nvr_dlq</th>\n",
              "      <th>percent_bc_gt_75</th>\n",
              "      <th>pub_rec_bankruptcies</th>\n",
              "      <th>tax_liens</th>\n",
              "      <th>tot_hi_cred_lim</th>\n",
              "      <th>total_bal_ex_mort</th>\n",
              "      <th>total_bc_limit</th>\n",
              "      <th>total_il_high_credit_limit</th>\n",
              "      <th>revol_bal_joint</th>\n",
              "      <th>sec_app_earliest_cr_line</th>\n",
              "      <th>sec_app_inq_last_6mths</th>\n",
              "      <th>sec_app_mort_acc</th>\n",
              "      <th>sec_app_open_acc</th>\n",
              "      <th>sec_app_revol_util</th>\n",
              "      <th>sec_app_open_act_il</th>\n",
              "      <th>sec_app_num_rev_accts</th>\n",
              "      <th>sec_app_chargeoff_within_12_mths</th>\n",
              "      <th>sec_app_collections_12_mths_ex_med</th>\n",
              "      <th>sec_app_mths_since_last_major_derog</th>\n",
              "      <th>hardship_flag</th>\n",
              "      <th>hardship_type</th>\n",
              "      <th>hardship_reason</th>\n",
              "      <th>hardship_status</th>\n",
              "      <th>deferral_term</th>\n",
              "      <th>hardship_amount</th>\n",
              "      <th>hardship_start_date</th>\n",
              "      <th>hardship_end_date</th>\n",
              "      <th>payment_plan_start_date</th>\n",
              "      <th>hardship_length</th>\n",
              "      <th>hardship_dpd</th>\n",
              "      <th>hardship_loan_status</th>\n",
              "      <th>orig_projected_additional_accrued_interest</th>\n",
              "      <th>hardship_payoff_balance_amount</th>\n",
              "      <th>hardship_last_payment_amount</th>\n",
              "      <th>disbursement_method</th>\n",
              "      <th>debt_settlement_flag</th>\n",
              "      <th>debt_settlement_flag_date</th>\n",
              "      <th>settlement_status</th>\n",
              "      <th>settlement_date</th>\n",
              "      <th>settlement_amount</th>\n",
              "      <th>settlement_percentage</th>\n",
              "      <th>settlement_term</th>\n",
              "      <th>emp_title_manager</th>\n",
              "      <th>issue_year</th>\n",
              "      <th>issue_month</th>\n",
              "    </tr>\n",
              "  </thead>\n",
              "  <tbody>\n",
              "    <tr>\n",
              "      <th>114448</th>\n",
              "      <td>NaN</td>\n",
              "      <td>NaN</td>\n",
              "      <td>6000</td>\n",
              "      <td>6000</td>\n",
              "      <td>6000</td>\n",
              "      <td>36 months</td>\n",
              "      <td>17.97</td>\n",
              "      <td>216.83</td>\n",
              "      <td>D</td>\n",
              "      <td>D1</td>\n",
              "      <td>Clerk</td>\n",
              "      <td>10+ years</td>\n",
              "      <td>OWN</td>\n",
              "      <td>45000.0</td>\n",
              "      <td>Source Verified</td>\n",
              "      <td>2018-07-01</td>\n",
              "      <td>Current</td>\n",
              "      <td>n</td>\n",
              "      <td>NaN</td>\n",
              "      <td>NaN</td>\n",
              "      <td>other</td>\n",
              "      <td>Other</td>\n",
              "      <td>760xx</td>\n",
              "      <td>TX</td>\n",
              "      <td>21.31</td>\n",
              "      <td>0</td>\n",
              "      <td>2001-05-01</td>\n",
              "      <td>1</td>\n",
              "      <td>26.0</td>\n",
              "      <td>NaN</td>\n",
              "      <td>14</td>\n",
              "      <td>0</td>\n",
              "      <td>12951</td>\n",
              "      <td>50%</td>\n",
              "      <td>24</td>\n",
              "      <td>w</td>\n",
              "      <td>5345.80</td>\n",
              "      <td>5345.80</td>\n",
              "      <td>1072.17</td>\n",
              "      <td>1072.17</td>\n",
              "      <td>654.20</td>\n",
              "      <td>417.97</td>\n",
              "      <td>0.0</td>\n",
              "      <td>0.0</td>\n",
              "      <td>0.0</td>\n",
              "      <td>2018-12-01</td>\n",
              "      <td>216.830000</td>\n",
              "      <td>2019-01-01</td>\n",
              "      <td>2018-12-01</td>\n",
              "      <td>0</td>\n",
              "      <td>NaN</td>\n",
              "      <td>1</td>\n",
              "      <td>Individual</td>\n",
              "      <td>NaN</td>\n",
              "      <td>NaN</td>\n",
              "      <td>NaN</td>\n",
              "      <td>0</td>\n",
              "      <td>175</td>\n",
              "      <td>24744</td>\n",
              "      <td>3</td>\n",
              "      <td>1</td>\n",
              "      <td>0</td>\n",
              "      <td>0</td>\n",
              "      <td>28.0</td>\n",
              "      <td>11793</td>\n",
              "      <td>66.0</td>\n",
              "      <td>3</td>\n",
              "      <td>3</td>\n",
              "      <td>5468</td>\n",
              "      <td>57.0</td>\n",
              "      <td>25900</td>\n",
              "      <td>0</td>\n",
              "      <td>1</td>\n",
              "      <td>1</td>\n",
              "      <td>3</td>\n",
              "      <td>1767.0</td>\n",
              "      <td>3249.0</td>\n",
              "      <td>73.6</td>\n",
              "      <td>0</td>\n",
              "      <td>0</td>\n",
              "      <td>206.0</td>\n",
              "      <td>108</td>\n",
              "      <td>4</td>\n",
              "      <td>4</td>\n",
              "      <td>0</td>\n",
              "      <td>5.0</td>\n",
              "      <td>26.0</td>\n",
              "      <td>5.0</td>\n",
              "      <td>26.0</td>\n",
              "      <td>0</td>\n",
              "      <td>4</td>\n",
              "      <td>8</td>\n",
              "      <td>5</td>\n",
              "      <td>7</td>\n",
              "      <td>7</td>\n",
              "      <td>13</td>\n",
              "      <td>17</td>\n",
              "      <td>8</td>\n",
              "      <td>14</td>\n",
              "      <td>0.0</td>\n",
              "      <td>0</td>\n",
              "      <td>0</td>\n",
              "      <td>3</td>\n",
              "      <td>91.7</td>\n",
              "      <td>60.0</td>\n",
              "      <td>0</td>\n",
              "      <td>0</td>\n",
              "      <td>43778</td>\n",
              "      <td>24744</td>\n",
              "      <td>12300</td>\n",
              "      <td>17878</td>\n",
              "      <td>NaN</td>\n",
              "      <td>NaN</td>\n",
              "      <td>NaN</td>\n",
              "      <td>NaN</td>\n",
              "      <td>NaN</td>\n",
              "      <td>NaN</td>\n",
              "      <td>NaN</td>\n",
              "      <td>NaN</td>\n",
              "      <td>NaN</td>\n",
              "      <td>NaN</td>\n",
              "      <td>NaN</td>\n",
              "      <td>N</td>\n",
              "      <td>NaN</td>\n",
              "      <td>NaN</td>\n",
              "      <td>NaN</td>\n",
              "      <td>NaN</td>\n",
              "      <td>NaN</td>\n",
              "      <td>NaN</td>\n",
              "      <td>NaN</td>\n",
              "      <td>NaN</td>\n",
              "      <td>NaN</td>\n",
              "      <td>NaN</td>\n",
              "      <td>NaN</td>\n",
              "      <td>NaN</td>\n",
              "      <td>NaN</td>\n",
              "      <td>NaN</td>\n",
              "      <td>Cash</td>\n",
              "      <td>N</td>\n",
              "      <td>NaN</td>\n",
              "      <td>NaN</td>\n",
              "      <td>NaN</td>\n",
              "      <td>NaN</td>\n",
              "      <td>NaN</td>\n",
              "      <td>NaN</td>\n",
              "      <td>False</td>\n",
              "      <td>2018</td>\n",
              "      <td>7</td>\n",
              "    </tr>\n",
              "    <tr>\n",
              "      <th>84910</th>\n",
              "      <td>NaN</td>\n",
              "      <td>NaN</td>\n",
              "      <td>10000</td>\n",
              "      <td>10000</td>\n",
              "      <td>10000</td>\n",
              "      <td>36 months</td>\n",
              "      <td>13.56</td>\n",
              "      <td>339.65</td>\n",
              "      <td>C</td>\n",
              "      <td>C1</td>\n",
              "      <td>Rn</td>\n",
              "      <td>10+ years</td>\n",
              "      <td>RENT</td>\n",
              "      <td>105000.0</td>\n",
              "      <td>Source Verified</td>\n",
              "      <td>2018-07-01</td>\n",
              "      <td>Current</td>\n",
              "      <td>n</td>\n",
              "      <td>NaN</td>\n",
              "      <td>NaN</td>\n",
              "      <td>debt_consolidation</td>\n",
              "      <td>Debt consolidation</td>\n",
              "      <td>021xx</td>\n",
              "      <td>MA</td>\n",
              "      <td>15.54</td>\n",
              "      <td>0</td>\n",
              "      <td>1983-06-01</td>\n",
              "      <td>0</td>\n",
              "      <td>72.0</td>\n",
              "      <td>NaN</td>\n",
              "      <td>16</td>\n",
              "      <td>0</td>\n",
              "      <td>12072</td>\n",
              "      <td>39.6%</td>\n",
              "      <td>28</td>\n",
              "      <td>f</td>\n",
              "      <td>9077.91</td>\n",
              "      <td>9077.91</td>\n",
              "      <td>1388.74</td>\n",
              "      <td>1388.74</td>\n",
              "      <td>922.09</td>\n",
              "      <td>466.65</td>\n",
              "      <td>0.0</td>\n",
              "      <td>0.0</td>\n",
              "      <td>0.0</td>\n",
              "      <td>2018-12-01</td>\n",
              "      <td>339.650000</td>\n",
              "      <td>2019-01-01</td>\n",
              "      <td>2018-12-01</td>\n",
              "      <td>0</td>\n",
              "      <td>72.0</td>\n",
              "      <td>1</td>\n",
              "      <td>Individual</td>\n",
              "      <td>NaN</td>\n",
              "      <td>NaN</td>\n",
              "      <td>NaN</td>\n",
              "      <td>0</td>\n",
              "      <td>237</td>\n",
              "      <td>37838</td>\n",
              "      <td>2</td>\n",
              "      <td>4</td>\n",
              "      <td>3</td>\n",
              "      <td>3</td>\n",
              "      <td>1.0</td>\n",
              "      <td>25766</td>\n",
              "      <td>81.0</td>\n",
              "      <td>1</td>\n",
              "      <td>2</td>\n",
              "      <td>6363</td>\n",
              "      <td>61.0</td>\n",
              "      <td>30500</td>\n",
              "      <td>0</td>\n",
              "      <td>0</td>\n",
              "      <td>0</td>\n",
              "      <td>5</td>\n",
              "      <td>2365.0</td>\n",
              "      <td>6443.0</td>\n",
              "      <td>64.4</td>\n",
              "      <td>0</td>\n",
              "      <td>0</td>\n",
              "      <td>153.0</td>\n",
              "      <td>421</td>\n",
              "      <td>8</td>\n",
              "      <td>1</td>\n",
              "      <td>0</td>\n",
              "      <td>43.0</td>\n",
              "      <td>NaN</td>\n",
              "      <td>NaN</td>\n",
              "      <td>NaN</td>\n",
              "      <td>1</td>\n",
              "      <td>5</td>\n",
              "      <td>6</td>\n",
              "      <td>6</td>\n",
              "      <td>7</td>\n",
              "      <td>12</td>\n",
              "      <td>12</td>\n",
              "      <td>16</td>\n",
              "      <td>6</td>\n",
              "      <td>16</td>\n",
              "      <td>0.0</td>\n",
              "      <td>0</td>\n",
              "      <td>0</td>\n",
              "      <td>4</td>\n",
              "      <td>82.1</td>\n",
              "      <td>16.7</td>\n",
              "      <td>0</td>\n",
              "      <td>0</td>\n",
              "      <td>62262</td>\n",
              "      <td>37838</td>\n",
              "      <td>18100</td>\n",
              "      <td>31762</td>\n",
              "      <td>NaN</td>\n",
              "      <td>NaN</td>\n",
              "      <td>NaN</td>\n",
              "      <td>NaN</td>\n",
              "      <td>NaN</td>\n",
              "      <td>NaN</td>\n",
              "      <td>NaN</td>\n",
              "      <td>NaN</td>\n",
              "      <td>NaN</td>\n",
              "      <td>NaN</td>\n",
              "      <td>NaN</td>\n",
              "      <td>N</td>\n",
              "      <td>NaN</td>\n",
              "      <td>NaN</td>\n",
              "      <td>NaN</td>\n",
              "      <td>NaN</td>\n",
              "      <td>NaN</td>\n",
              "      <td>NaN</td>\n",
              "      <td>NaN</td>\n",
              "      <td>NaN</td>\n",
              "      <td>NaN</td>\n",
              "      <td>NaN</td>\n",
              "      <td>NaN</td>\n",
              "      <td>NaN</td>\n",
              "      <td>NaN</td>\n",
              "      <td>NaN</td>\n",
              "      <td>Cash</td>\n",
              "      <td>N</td>\n",
              "      <td>NaN</td>\n",
              "      <td>NaN</td>\n",
              "      <td>NaN</td>\n",
              "      <td>NaN</td>\n",
              "      <td>NaN</td>\n",
              "      <td>NaN</td>\n",
              "      <td>False</td>\n",
              "      <td>2018</td>\n",
              "      <td>7</td>\n",
              "    </tr>\n",
              "    <tr>\n",
              "      <th>33201</th>\n",
              "      <td>NaN</td>\n",
              "      <td>NaN</td>\n",
              "      <td>5100</td>\n",
              "      <td>5100</td>\n",
              "      <td>5100</td>\n",
              "      <td>36 months</td>\n",
              "      <td>23.40</td>\n",
              "      <td>198.49</td>\n",
              "      <td>E</td>\n",
              "      <td>E1</td>\n",
              "      <td>Driver</td>\n",
              "      <td>4 years</td>\n",
              "      <td>RENT</td>\n",
              "      <td>87500.0</td>\n",
              "      <td>Not Verified</td>\n",
              "      <td>2018-09-01</td>\n",
              "      <td>Current</td>\n",
              "      <td>n</td>\n",
              "      <td>NaN</td>\n",
              "      <td>NaN</td>\n",
              "      <td>home_improvement</td>\n",
              "      <td>Home improvement</td>\n",
              "      <td>112xx</td>\n",
              "      <td>NY</td>\n",
              "      <td>18.30</td>\n",
              "      <td>0</td>\n",
              "      <td>2012-07-01</td>\n",
              "      <td>1</td>\n",
              "      <td>37.0</td>\n",
              "      <td>NaN</td>\n",
              "      <td>14</td>\n",
              "      <td>0</td>\n",
              "      <td>6669</td>\n",
              "      <td>36.6%</td>\n",
              "      <td>17</td>\n",
              "      <td>w</td>\n",
              "      <td>4797.05</td>\n",
              "      <td>4797.05</td>\n",
              "      <td>582.21</td>\n",
              "      <td>582.21</td>\n",
              "      <td>302.95</td>\n",
              "      <td>279.26</td>\n",
              "      <td>0.0</td>\n",
              "      <td>0.0</td>\n",
              "      <td>0.0</td>\n",
              "      <td>2018-12-01</td>\n",
              "      <td>198.493706</td>\n",
              "      <td>2019-01-01</td>\n",
              "      <td>2018-12-01</td>\n",
              "      <td>0</td>\n",
              "      <td>37.0</td>\n",
              "      <td>1</td>\n",
              "      <td>Individual</td>\n",
              "      <td>NaN</td>\n",
              "      <td>NaN</td>\n",
              "      <td>NaN</td>\n",
              "      <td>0</td>\n",
              "      <td>0</td>\n",
              "      <td>19900</td>\n",
              "      <td>2</td>\n",
              "      <td>1</td>\n",
              "      <td>0</td>\n",
              "      <td>0</td>\n",
              "      <td>39.0</td>\n",
              "      <td>13231</td>\n",
              "      <td>52.0</td>\n",
              "      <td>2</td>\n",
              "      <td>10</td>\n",
              "      <td>2069</td>\n",
              "      <td>46.0</td>\n",
              "      <td>18200</td>\n",
              "      <td>0</td>\n",
              "      <td>0</td>\n",
              "      <td>1</td>\n",
              "      <td>10</td>\n",
              "      <td>1421.0</td>\n",
              "      <td>2886.0</td>\n",
              "      <td>57.6</td>\n",
              "      <td>0</td>\n",
              "      <td>0</td>\n",
              "      <td>46.0</td>\n",
              "      <td>73</td>\n",
              "      <td>5</td>\n",
              "      <td>5</td>\n",
              "      <td>0</td>\n",
              "      <td>17.0</td>\n",
              "      <td>64.0</td>\n",
              "      <td>6.0</td>\n",
              "      <td>64.0</td>\n",
              "      <td>1</td>\n",
              "      <td>4</td>\n",
              "      <td>7</td>\n",
              "      <td>4</td>\n",
              "      <td>5</td>\n",
              "      <td>2</td>\n",
              "      <td>13</td>\n",
              "      <td>15</td>\n",
              "      <td>7</td>\n",
              "      <td>14</td>\n",
              "      <td>0.0</td>\n",
              "      <td>0</td>\n",
              "      <td>0</td>\n",
              "      <td>2</td>\n",
              "      <td>88.2</td>\n",
              "      <td>50.0</td>\n",
              "      <td>0</td>\n",
              "      <td>0</td>\n",
              "      <td>43751</td>\n",
              "      <td>19900</td>\n",
              "      <td>6800</td>\n",
              "      <td>25551</td>\n",
              "      <td>NaN</td>\n",
              "      <td>NaN</td>\n",
              "      <td>NaN</td>\n",
              "      <td>NaN</td>\n",
              "      <td>NaN</td>\n",
              "      <td>NaN</td>\n",
              "      <td>NaN</td>\n",
              "      <td>NaN</td>\n",
              "      <td>NaN</td>\n",
              "      <td>NaN</td>\n",
              "      <td>NaN</td>\n",
              "      <td>N</td>\n",
              "      <td>NaN</td>\n",
              "      <td>NaN</td>\n",
              "      <td>NaN</td>\n",
              "      <td>NaN</td>\n",
              "      <td>NaN</td>\n",
              "      <td>NaN</td>\n",
              "      <td>NaN</td>\n",
              "      <td>NaN</td>\n",
              "      <td>NaN</td>\n",
              "      <td>NaN</td>\n",
              "      <td>NaN</td>\n",
              "      <td>NaN</td>\n",
              "      <td>NaN</td>\n",
              "      <td>NaN</td>\n",
              "      <td>Cash</td>\n",
              "      <td>N</td>\n",
              "      <td>NaN</td>\n",
              "      <td>NaN</td>\n",
              "      <td>NaN</td>\n",
              "      <td>NaN</td>\n",
              "      <td>NaN</td>\n",
              "      <td>NaN</td>\n",
              "      <td>False</td>\n",
              "      <td>2018</td>\n",
              "      <td>9</td>\n",
              "    </tr>\n",
              "    <tr>\n",
              "      <th>28631</th>\n",
              "      <td>NaN</td>\n",
              "      <td>NaN</td>\n",
              "      <td>8000</td>\n",
              "      <td>8000</td>\n",
              "      <td>8000</td>\n",
              "      <td>36 months</td>\n",
              "      <td>11.06</td>\n",
              "      <td>262.14</td>\n",
              "      <td>B</td>\n",
              "      <td>B3</td>\n",
              "      <td>Public Relations Account Coordinator</td>\n",
              "      <td>3 years</td>\n",
              "      <td>RENT</td>\n",
              "      <td>58000.0</td>\n",
              "      <td>Not Verified</td>\n",
              "      <td>2018-09-01</td>\n",
              "      <td>Current</td>\n",
              "      <td>n</td>\n",
              "      <td>NaN</td>\n",
              "      <td>NaN</td>\n",
              "      <td>debt_consolidation</td>\n",
              "      <td>Debt consolidation</td>\n",
              "      <td>336xx</td>\n",
              "      <td>FL</td>\n",
              "      <td>16.99</td>\n",
              "      <td>0</td>\n",
              "      <td>1996-10-01</td>\n",
              "      <td>0</td>\n",
              "      <td>67.0</td>\n",
              "      <td>55.0</td>\n",
              "      <td>9</td>\n",
              "      <td>1</td>\n",
              "      <td>7516</td>\n",
              "      <td>32.4%</td>\n",
              "      <td>28</td>\n",
              "      <td>w</td>\n",
              "      <td>7429.55</td>\n",
              "      <td>7429.55</td>\n",
              "      <td>781.50</td>\n",
              "      <td>781.50</td>\n",
              "      <td>570.45</td>\n",
              "      <td>211.05</td>\n",
              "      <td>0.0</td>\n",
              "      <td>0.0</td>\n",
              "      <td>0.0</td>\n",
              "      <td>2018-12-01</td>\n",
              "      <td>262.140000</td>\n",
              "      <td>2019-01-01</td>\n",
              "      <td>2018-12-01</td>\n",
              "      <td>0</td>\n",
              "      <td>67.0</td>\n",
              "      <td>1</td>\n",
              "      <td>Individual</td>\n",
              "      <td>NaN</td>\n",
              "      <td>NaN</td>\n",
              "      <td>NaN</td>\n",
              "      <td>0</td>\n",
              "      <td>0</td>\n",
              "      <td>43269</td>\n",
              "      <td>2</td>\n",
              "      <td>1</td>\n",
              "      <td>1</td>\n",
              "      <td>1</td>\n",
              "      <td>4.0</td>\n",
              "      <td>35753</td>\n",
              "      <td>NaN</td>\n",
              "      <td>2</td>\n",
              "      <td>5</td>\n",
              "      <td>3367</td>\n",
              "      <td>32.0</td>\n",
              "      <td>23200</td>\n",
              "      <td>0</td>\n",
              "      <td>8</td>\n",
              "      <td>1</td>\n",
              "      <td>6</td>\n",
              "      <td>4808.0</td>\n",
              "      <td>2840.0</td>\n",
              "      <td>71.0</td>\n",
              "      <td>0</td>\n",
              "      <td>0</td>\n",
              "      <td>153.0</td>\n",
              "      <td>263</td>\n",
              "      <td>3</td>\n",
              "      <td>3</td>\n",
              "      <td>2</td>\n",
              "      <td>15.0</td>\n",
              "      <td>NaN</td>\n",
              "      <td>12.0</td>\n",
              "      <td>NaN</td>\n",
              "      <td>1</td>\n",
              "      <td>3</td>\n",
              "      <td>5</td>\n",
              "      <td>3</td>\n",
              "      <td>6</td>\n",
              "      <td>11</td>\n",
              "      <td>8</td>\n",
              "      <td>15</td>\n",
              "      <td>5</td>\n",
              "      <td>9</td>\n",
              "      <td>0.0</td>\n",
              "      <td>0</td>\n",
              "      <td>0</td>\n",
              "      <td>3</td>\n",
              "      <td>95.5</td>\n",
              "      <td>33.3</td>\n",
              "      <td>1</td>\n",
              "      <td>0</td>\n",
              "      <td>60315</td>\n",
              "      <td>43269</td>\n",
              "      <td>9800</td>\n",
              "      <td>37115</td>\n",
              "      <td>NaN</td>\n",
              "      <td>NaN</td>\n",
              "      <td>NaN</td>\n",
              "      <td>NaN</td>\n",
              "      <td>NaN</td>\n",
              "      <td>NaN</td>\n",
              "      <td>NaN</td>\n",
              "      <td>NaN</td>\n",
              "      <td>NaN</td>\n",
              "      <td>NaN</td>\n",
              "      <td>NaN</td>\n",
              "      <td>N</td>\n",
              "      <td>NaN</td>\n",
              "      <td>NaN</td>\n",
              "      <td>NaN</td>\n",
              "      <td>NaN</td>\n",
              "      <td>NaN</td>\n",
              "      <td>NaN</td>\n",
              "      <td>NaN</td>\n",
              "      <td>NaN</td>\n",
              "      <td>NaN</td>\n",
              "      <td>NaN</td>\n",
              "      <td>NaN</td>\n",
              "      <td>NaN</td>\n",
              "      <td>NaN</td>\n",
              "      <td>NaN</td>\n",
              "      <td>Cash</td>\n",
              "      <td>N</td>\n",
              "      <td>NaN</td>\n",
              "      <td>NaN</td>\n",
              "      <td>NaN</td>\n",
              "      <td>NaN</td>\n",
              "      <td>NaN</td>\n",
              "      <td>NaN</td>\n",
              "      <td>False</td>\n",
              "      <td>2018</td>\n",
              "      <td>9</td>\n",
              "    </tr>\n",
              "    <tr>\n",
              "      <th>115226</th>\n",
              "      <td>NaN</td>\n",
              "      <td>NaN</td>\n",
              "      <td>5000</td>\n",
              "      <td>5000</td>\n",
              "      <td>5000</td>\n",
              "      <td>36 months</td>\n",
              "      <td>7.84</td>\n",
              "      <td>156.32</td>\n",
              "      <td>A</td>\n",
              "      <td>A4</td>\n",
              "      <td>Business Process Analyst</td>\n",
              "      <td>5 years</td>\n",
              "      <td>RENT</td>\n",
              "      <td>87000.0</td>\n",
              "      <td>Not Verified</td>\n",
              "      <td>2018-07-01</td>\n",
              "      <td>Current</td>\n",
              "      <td>n</td>\n",
              "      <td>NaN</td>\n",
              "      <td>NaN</td>\n",
              "      <td>other</td>\n",
              "      <td>Other</td>\n",
              "      <td>951xx</td>\n",
              "      <td>CA</td>\n",
              "      <td>2.48</td>\n",
              "      <td>0</td>\n",
              "      <td>2002-06-01</td>\n",
              "      <td>0</td>\n",
              "      <td>NaN</td>\n",
              "      <td>NaN</td>\n",
              "      <td>11</td>\n",
              "      <td>0</td>\n",
              "      <td>7234</td>\n",
              "      <td>11.4%</td>\n",
              "      <td>29</td>\n",
              "      <td>f</td>\n",
              "      <td>4373.60</td>\n",
              "      <td>4373.60</td>\n",
              "      <td>779.42</td>\n",
              "      <td>779.42</td>\n",
              "      <td>626.40</td>\n",
              "      <td>153.02</td>\n",
              "      <td>0.0</td>\n",
              "      <td>0.0</td>\n",
              "      <td>0.0</td>\n",
              "      <td>2018-12-01</td>\n",
              "      <td>156.320000</td>\n",
              "      <td>2019-01-01</td>\n",
              "      <td>2018-12-01</td>\n",
              "      <td>0</td>\n",
              "      <td>NaN</td>\n",
              "      <td>1</td>\n",
              "      <td>Individual</td>\n",
              "      <td>NaN</td>\n",
              "      <td>NaN</td>\n",
              "      <td>NaN</td>\n",
              "      <td>0</td>\n",
              "      <td>0</td>\n",
              "      <td>13234</td>\n",
              "      <td>1</td>\n",
              "      <td>1</td>\n",
              "      <td>2</td>\n",
              "      <td>3</td>\n",
              "      <td>1.0</td>\n",
              "      <td>6000</td>\n",
              "      <td>100.0</td>\n",
              "      <td>1</td>\n",
              "      <td>3</td>\n",
              "      <td>4528</td>\n",
              "      <td>19.0</td>\n",
              "      <td>63400</td>\n",
              "      <td>3</td>\n",
              "      <td>3</td>\n",
              "      <td>1</td>\n",
              "      <td>6</td>\n",
              "      <td>1654.0</td>\n",
              "      <td>52666.0</td>\n",
              "      <td>12.1</td>\n",
              "      <td>0</td>\n",
              "      <td>0</td>\n",
              "      <td>177.0</td>\n",
              "      <td>170</td>\n",
              "      <td>9</td>\n",
              "      <td>1</td>\n",
              "      <td>2</td>\n",
              "      <td>9.0</td>\n",
              "      <td>NaN</td>\n",
              "      <td>7.0</td>\n",
              "      <td>NaN</td>\n",
              "      <td>0</td>\n",
              "      <td>2</td>\n",
              "      <td>2</td>\n",
              "      <td>7</td>\n",
              "      <td>8</td>\n",
              "      <td>14</td>\n",
              "      <td>10</td>\n",
              "      <td>12</td>\n",
              "      <td>2</td>\n",
              "      <td>11</td>\n",
              "      <td>0.0</td>\n",
              "      <td>0</td>\n",
              "      <td>0</td>\n",
              "      <td>3</td>\n",
              "      <td>100.0</td>\n",
              "      <td>0.0</td>\n",
              "      <td>0</td>\n",
              "      <td>0</td>\n",
              "      <td>69400</td>\n",
              "      <td>13234</td>\n",
              "      <td>59900</td>\n",
              "      <td>6000</td>\n",
              "      <td>NaN</td>\n",
              "      <td>NaN</td>\n",
              "      <td>NaN</td>\n",
              "      <td>NaN</td>\n",
              "      <td>NaN</td>\n",
              "      <td>NaN</td>\n",
              "      <td>NaN</td>\n",
              "      <td>NaN</td>\n",
              "      <td>NaN</td>\n",
              "      <td>NaN</td>\n",
              "      <td>NaN</td>\n",
              "      <td>N</td>\n",
              "      <td>NaN</td>\n",
              "      <td>NaN</td>\n",
              "      <td>NaN</td>\n",
              "      <td>NaN</td>\n",
              "      <td>NaN</td>\n",
              "      <td>NaN</td>\n",
              "      <td>NaN</td>\n",
              "      <td>NaN</td>\n",
              "      <td>NaN</td>\n",
              "      <td>NaN</td>\n",
              "      <td>NaN</td>\n",
              "      <td>NaN</td>\n",
              "      <td>NaN</td>\n",
              "      <td>NaN</td>\n",
              "      <td>Cash</td>\n",
              "      <td>N</td>\n",
              "      <td>NaN</td>\n",
              "      <td>NaN</td>\n",
              "      <td>NaN</td>\n",
              "      <td>NaN</td>\n",
              "      <td>NaN</td>\n",
              "      <td>NaN</td>\n",
              "      <td>False</td>\n",
              "      <td>2018</td>\n",
              "      <td>7</td>\n",
              "    </tr>\n",
              "  </tbody>\n",
              "</table>\n",
              "</div>"
            ],
            "text/plain": [
              "        id  member_id  loan_amnt  funded_amnt  funded_amnt_inv        term  \\\n",
              "114448 NaN        NaN       6000         6000             6000   36 months   \n",
              "84910  NaN        NaN      10000        10000            10000   36 months   \n",
              "33201  NaN        NaN       5100         5100             5100   36 months   \n",
              "28631  NaN        NaN       8000         8000             8000   36 months   \n",
              "115226 NaN        NaN       5000         5000             5000   36 months   \n",
              "\n",
              "        int_rate  installment grade sub_grade  \\\n",
              "114448     17.97       216.83     D        D1   \n",
              "84910      13.56       339.65     C        C1   \n",
              "33201      23.40       198.49     E        E1   \n",
              "28631      11.06       262.14     B        B3   \n",
              "115226      7.84       156.32     A        A4   \n",
              "\n",
              "                                   emp_title emp_length home_ownership  \\\n",
              "114448                                 Clerk  10+ years            OWN   \n",
              "84910                                     Rn  10+ years           RENT   \n",
              "33201                                 Driver    4 years           RENT   \n",
              "28631   Public Relations Account Coordinator    3 years           RENT   \n",
              "115226              Business Process Analyst    5 years           RENT   \n",
              "\n",
              "        annual_inc verification_status    issue_d loan_status pymnt_plan  url  \\\n",
              "114448     45000.0     Source Verified 2018-07-01     Current          n  NaN   \n",
              "84910     105000.0     Source Verified 2018-07-01     Current          n  NaN   \n",
              "33201      87500.0        Not Verified 2018-09-01     Current          n  NaN   \n",
              "28631      58000.0        Not Verified 2018-09-01     Current          n  NaN   \n",
              "115226     87000.0        Not Verified 2018-07-01     Current          n  NaN   \n",
              "\n",
              "        desc             purpose               title zip_code addr_state  \\\n",
              "114448   NaN               other               Other    760xx         TX   \n",
              "84910    NaN  debt_consolidation  Debt consolidation    021xx         MA   \n",
              "33201    NaN    home_improvement    Home improvement    112xx         NY   \n",
              "28631    NaN  debt_consolidation  Debt consolidation    336xx         FL   \n",
              "115226   NaN               other               Other    951xx         CA   \n",
              "\n",
              "          dti  delinq_2yrs earliest_cr_line  inq_last_6mths  \\\n",
              "114448  21.31            0       2001-05-01               1   \n",
              "84910   15.54            0       1983-06-01               0   \n",
              "33201   18.30            0       2012-07-01               1   \n",
              "28631   16.99            0       1996-10-01               0   \n",
              "115226   2.48            0       2002-06-01               0   \n",
              "\n",
              "        mths_since_last_delinq  mths_since_last_record  open_acc  pub_rec  \\\n",
              "114448                    26.0                     NaN        14        0   \n",
              "84910                     72.0                     NaN        16        0   \n",
              "33201                     37.0                     NaN        14        0   \n",
              "28631                     67.0                    55.0         9        1   \n",
              "115226                     NaN                     NaN        11        0   \n",
              "\n",
              "        revol_bal revol_util  total_acc initial_list_status  out_prncp  \\\n",
              "114448      12951        50%         24                   w    5345.80   \n",
              "84910       12072      39.6%         28                   f    9077.91   \n",
              "33201        6669      36.6%         17                   w    4797.05   \n",
              "28631        7516      32.4%         28                   w    7429.55   \n",
              "115226       7234      11.4%         29                   f    4373.60   \n",
              "\n",
              "        out_prncp_inv  total_pymnt  total_pymnt_inv  total_rec_prncp  \\\n",
              "114448        5345.80      1072.17          1072.17           654.20   \n",
              "84910         9077.91      1388.74          1388.74           922.09   \n",
              "33201         4797.05       582.21           582.21           302.95   \n",
              "28631         7429.55       781.50           781.50           570.45   \n",
              "115226        4373.60       779.42           779.42           626.40   \n",
              "\n",
              "        total_rec_int  total_rec_late_fee  recoveries  \\\n",
              "114448         417.97                 0.0         0.0   \n",
              "84910          466.65                 0.0         0.0   \n",
              "33201          279.26                 0.0         0.0   \n",
              "28631          211.05                 0.0         0.0   \n",
              "115226         153.02                 0.0         0.0   \n",
              "\n",
              "        collection_recovery_fee last_pymnt_d  last_pymnt_amnt next_pymnt_d  \\\n",
              "114448                      0.0   2018-12-01       216.830000   2019-01-01   \n",
              "84910                       0.0   2018-12-01       339.650000   2019-01-01   \n",
              "33201                       0.0   2018-12-01       198.493706   2019-01-01   \n",
              "28631                       0.0   2018-12-01       262.140000   2019-01-01   \n",
              "115226                      0.0   2018-12-01       156.320000   2019-01-01   \n",
              "\n",
              "       last_credit_pull_d  collections_12_mths_ex_med  \\\n",
              "114448         2018-12-01                           0   \n",
              "84910          2018-12-01                           0   \n",
              "33201          2018-12-01                           0   \n",
              "28631          2018-12-01                           0   \n",
              "115226         2018-12-01                           0   \n",
              "\n",
              "        mths_since_last_major_derog  policy_code application_type  \\\n",
              "114448                          NaN            1       Individual   \n",
              "84910                          72.0            1       Individual   \n",
              "33201                          37.0            1       Individual   \n",
              "28631                          67.0            1       Individual   \n",
              "115226                          NaN            1       Individual   \n",
              "\n",
              "        annual_inc_joint  dti_joint verification_status_joint  acc_now_delinq  \\\n",
              "114448               NaN        NaN                       NaN               0   \n",
              "84910                NaN        NaN                       NaN               0   \n",
              "33201                NaN        NaN                       NaN               0   \n",
              "28631                NaN        NaN                       NaN               0   \n",
              "115226               NaN        NaN                       NaN               0   \n",
              "\n",
              "        tot_coll_amt  tot_cur_bal  open_acc_6m  open_act_il  open_il_12m  \\\n",
              "114448           175        24744            3            1            0   \n",
              "84910            237        37838            2            4            3   \n",
              "33201              0        19900            2            1            0   \n",
              "28631              0        43269            2            1            1   \n",
              "115226             0        13234            1            1            2   \n",
              "\n",
              "        open_il_24m  mths_since_rcnt_il  total_bal_il  il_util  open_rv_12m  \\\n",
              "114448            0                28.0         11793     66.0            3   \n",
              "84910             3                 1.0         25766     81.0            1   \n",
              "33201             0                39.0         13231     52.0            2   \n",
              "28631             1                 4.0         35753      NaN            2   \n",
              "115226            3                 1.0          6000    100.0            1   \n",
              "\n",
              "        open_rv_24m  max_bal_bc  all_util  total_rev_hi_lim  inq_fi  \\\n",
              "114448            3        5468      57.0             25900       0   \n",
              "84910             2        6363      61.0             30500       0   \n",
              "33201            10        2069      46.0             18200       0   \n",
              "28631             5        3367      32.0             23200       0   \n",
              "115226            3        4528      19.0             63400       3   \n",
              "\n",
              "        total_cu_tl  inq_last_12m  acc_open_past_24mths  avg_cur_bal  \\\n",
              "114448            1             1                     3       1767.0   \n",
              "84910             0             0                     5       2365.0   \n",
              "33201             0             1                    10       1421.0   \n",
              "28631             8             1                     6       4808.0   \n",
              "115226            3             1                     6       1654.0   \n",
              "\n",
              "        bc_open_to_buy  bc_util  chargeoff_within_12_mths  delinq_amnt  \\\n",
              "114448          3249.0     73.6                         0            0   \n",
              "84910           6443.0     64.4                         0            0   \n",
              "33201           2886.0     57.6                         0            0   \n",
              "28631           2840.0     71.0                         0            0   \n",
              "115226         52666.0     12.1                         0            0   \n",
              "\n",
              "        mo_sin_old_il_acct  mo_sin_old_rev_tl_op  mo_sin_rcnt_rev_tl_op  \\\n",
              "114448               206.0                   108                      4   \n",
              "84910                153.0                   421                      8   \n",
              "33201                 46.0                    73                      5   \n",
              "28631                153.0                   263                      3   \n",
              "115226               177.0                   170                      9   \n",
              "\n",
              "        mo_sin_rcnt_tl  mort_acc  mths_since_recent_bc  \\\n",
              "114448               4         0                   5.0   \n",
              "84910                1         0                  43.0   \n",
              "33201                5         0                  17.0   \n",
              "28631                3         2                  15.0   \n",
              "115226               1         2                   9.0   \n",
              "\n",
              "        mths_since_recent_bc_dlq  mths_since_recent_inq  \\\n",
              "114448                      26.0                    5.0   \n",
              "84910                        NaN                    NaN   \n",
              "33201                       64.0                    6.0   \n",
              "28631                        NaN                   12.0   \n",
              "115226                       NaN                    7.0   \n",
              "\n",
              "        mths_since_recent_revol_delinq  num_accts_ever_120_pd  num_actv_bc_tl  \\\n",
              "114448                            26.0                      0               4   \n",
              "84910                              NaN                      1               5   \n",
              "33201                             64.0                      1               4   \n",
              "28631                              NaN                      1               3   \n",
              "115226                             NaN                      0               2   \n",
              "\n",
              "        num_actv_rev_tl  num_bc_sats  num_bc_tl  num_il_tl  num_op_rev_tl  \\\n",
              "114448                8            5          7          7             13   \n",
              "84910                 6            6          7         12             12   \n",
              "33201                 7            4          5          2             13   \n",
              "28631                 5            3          6         11              8   \n",
              "115226                2            7          8         14             10   \n",
              "\n",
              "        num_rev_accts  num_rev_tl_bal_gt_0  num_sats  num_tl_120dpd_2m  \\\n",
              "114448             17                    8        14               0.0   \n",
              "84910              16                    6        16               0.0   \n",
              "33201              15                    7        14               0.0   \n",
              "28631              15                    5         9               0.0   \n",
              "115226             12                    2        11               0.0   \n",
              "\n",
              "        num_tl_30dpd  num_tl_90g_dpd_24m  num_tl_op_past_12m  pct_tl_nvr_dlq  \\\n",
              "114448             0                   0                   3            91.7   \n",
              "84910              0                   0                   4            82.1   \n",
              "33201              0                   0                   2            88.2   \n",
              "28631              0                   0                   3            95.5   \n",
              "115226             0                   0                   3           100.0   \n",
              "\n",
              "        percent_bc_gt_75  pub_rec_bankruptcies  tax_liens  tot_hi_cred_lim  \\\n",
              "114448              60.0                     0          0            43778   \n",
              "84910               16.7                     0          0            62262   \n",
              "33201               50.0                     0          0            43751   \n",
              "28631               33.3                     1          0            60315   \n",
              "115226               0.0                     0          0            69400   \n",
              "\n",
              "        total_bal_ex_mort  total_bc_limit  total_il_high_credit_limit  \\\n",
              "114448              24744           12300                       17878   \n",
              "84910               37838           18100                       31762   \n",
              "33201               19900            6800                       25551   \n",
              "28631               43269            9800                       37115   \n",
              "115226              13234           59900                        6000   \n",
              "\n",
              "        revol_bal_joint sec_app_earliest_cr_line  sec_app_inq_last_6mths  \\\n",
              "114448              NaN                      NaN                     NaN   \n",
              "84910               NaN                      NaN                     NaN   \n",
              "33201               NaN                      NaN                     NaN   \n",
              "28631               NaN                      NaN                     NaN   \n",
              "115226              NaN                      NaN                     NaN   \n",
              "\n",
              "        sec_app_mort_acc  sec_app_open_acc  sec_app_revol_util  \\\n",
              "114448               NaN               NaN                 NaN   \n",
              "84910                NaN               NaN                 NaN   \n",
              "33201                NaN               NaN                 NaN   \n",
              "28631                NaN               NaN                 NaN   \n",
              "115226               NaN               NaN                 NaN   \n",
              "\n",
              "        sec_app_open_act_il  sec_app_num_rev_accts  \\\n",
              "114448                  NaN                    NaN   \n",
              "84910                   NaN                    NaN   \n",
              "33201                   NaN                    NaN   \n",
              "28631                   NaN                    NaN   \n",
              "115226                  NaN                    NaN   \n",
              "\n",
              "        sec_app_chargeoff_within_12_mths  sec_app_collections_12_mths_ex_med  \\\n",
              "114448                               NaN                                 NaN   \n",
              "84910                                NaN                                 NaN   \n",
              "33201                                NaN                                 NaN   \n",
              "28631                                NaN                                 NaN   \n",
              "115226                               NaN                                 NaN   \n",
              "\n",
              "        sec_app_mths_since_last_major_derog hardship_flag hardship_type  \\\n",
              "114448                                  NaN             N           NaN   \n",
              "84910                                   NaN             N           NaN   \n",
              "33201                                   NaN             N           NaN   \n",
              "28631                                   NaN             N           NaN   \n",
              "115226                                  NaN             N           NaN   \n",
              "\n",
              "       hardship_reason hardship_status  deferral_term  hardship_amount  \\\n",
              "114448             NaN             NaN            NaN              NaN   \n",
              "84910              NaN             NaN            NaN              NaN   \n",
              "33201              NaN             NaN            NaN              NaN   \n",
              "28631              NaN             NaN            NaN              NaN   \n",
              "115226             NaN             NaN            NaN              NaN   \n",
              "\n",
              "       hardship_start_date hardship_end_date payment_plan_start_date  \\\n",
              "114448                 NaN               NaN                     NaN   \n",
              "84910                  NaN               NaN                     NaN   \n",
              "33201                  NaN               NaN                     NaN   \n",
              "28631                  NaN               NaN                     NaN   \n",
              "115226                 NaN               NaN                     NaN   \n",
              "\n",
              "        hardship_length  hardship_dpd hardship_loan_status  \\\n",
              "114448              NaN           NaN                  NaN   \n",
              "84910               NaN           NaN                  NaN   \n",
              "33201               NaN           NaN                  NaN   \n",
              "28631               NaN           NaN                  NaN   \n",
              "115226              NaN           NaN                  NaN   \n",
              "\n",
              "        orig_projected_additional_accrued_interest  \\\n",
              "114448                                         NaN   \n",
              "84910                                          NaN   \n",
              "33201                                          NaN   \n",
              "28631                                          NaN   \n",
              "115226                                         NaN   \n",
              "\n",
              "        hardship_payoff_balance_amount  hardship_last_payment_amount  \\\n",
              "114448                             NaN                           NaN   \n",
              "84910                              NaN                           NaN   \n",
              "33201                              NaN                           NaN   \n",
              "28631                              NaN                           NaN   \n",
              "115226                             NaN                           NaN   \n",
              "\n",
              "       disbursement_method debt_settlement_flag debt_settlement_flag_date  \\\n",
              "114448                Cash                    N                       NaN   \n",
              "84910                 Cash                    N                       NaN   \n",
              "33201                 Cash                    N                       NaN   \n",
              "28631                 Cash                    N                       NaN   \n",
              "115226                Cash                    N                       NaN   \n",
              "\n",
              "       settlement_status settlement_date  settlement_amount  \\\n",
              "114448               NaN             NaN                NaN   \n",
              "84910                NaN             NaN                NaN   \n",
              "33201                NaN             NaN                NaN   \n",
              "28631                NaN             NaN                NaN   \n",
              "115226               NaN             NaN                NaN   \n",
              "\n",
              "        settlement_percentage  settlement_term  emp_title_manager  issue_year  \\\n",
              "114448                    NaN              NaN              False        2018   \n",
              "84910                     NaN              NaN              False        2018   \n",
              "33201                     NaN              NaN              False        2018   \n",
              "28631                     NaN              NaN              False        2018   \n",
              "115226                    NaN              NaN              False        2018   \n",
              "\n",
              "        issue_month  \n",
              "114448            7  \n",
              "84910             7  \n",
              "33201             9  \n",
              "28631             9  \n",
              "115226            7  "
            ]
          },
          "metadata": {
            "tags": []
          },
          "execution_count": 29
        }
      ]
    },
    {
      "metadata": {
        "id": "jtmEQjOv9FNo",
        "colab_type": "text"
      },
      "cell_type": "markdown",
      "source": [
        "# ASSIGNMENT"
      ]
    },
    {
      "metadata": {
        "id": "0r-41N_vwneG",
        "colab_type": "text"
      },
      "cell_type": "markdown",
      "source": [
        "- Replicate the lesson code.\n",
        "\n",
        "- Convert the `term` column from string to integer.\n",
        "\n",
        "- Make a column named `loan_status_is_great`. It should contain the integer 1 if `loan_status` is \"Current\" or \"Fully Paid.\" Else it should contain the integer 0.\n",
        "\n",
        "- Make `last_pymnt_d_month` and `last_pymnt_d_year` columns.\n",
        "\n"
      ]
    },
    {
      "metadata": {
        "id": "rNxDh9nHLGtG",
        "colab_type": "code",
        "colab": {
          "base_uri": "https://localhost:8080/",
          "height": 119
        },
        "outputId": "30c13e94-5430-42cc-ffea-117ebf817058"
      },
      "cell_type": "code",
      "source": [
        "def conv_term(term):\n",
        "  return int(term.strip('months'))\n",
        "\n",
        "example = df['term'][0]\n",
        "\n",
        "example\n",
        "conv_term(example)\n",
        "\n",
        "df['term'] = df['term'].apply(conv_term)\n",
        "\n",
        "df['term'].sample(5)\n"
      ],
      "execution_count": 30,
      "outputs": [
        {
          "output_type": "execute_result",
          "data": {
            "text/plain": [
              "29008    36\n",
              "16393    36\n",
              "87855    36\n",
              "25422    36\n",
              "54454    60\n",
              "Name: term, dtype: int64"
            ]
          },
          "metadata": {
            "tags": []
          },
          "execution_count": 30
        }
      ]
    },
    {
      "metadata": {
        "id": "MUu6WcB6NX6-",
        "colab_type": "code",
        "colab": {
          "base_uri": "https://localhost:8080/",
          "height": 136
        },
        "outputId": "f58ef393-a7c8-47c9-88dd-08b9760a7f58"
      },
      "cell_type": "code",
      "source": [
        "df['loan_status'].value_counts()"
      ],
      "execution_count": 31,
      "outputs": [
        {
          "output_type": "execute_result",
          "data": {
            "text/plain": [
              "Current               121082\n",
              "Fully Paid              4786\n",
              "In Grace Period          948\n",
              "Late (31-120 days)       920\n",
              "Late (16-30 days)        348\n",
              "Charged Off              110\n",
              "Name: loan_status, dtype: int64"
            ]
          },
          "metadata": {
            "tags": []
          },
          "execution_count": 31
        }
      ]
    },
    {
      "metadata": {
        "id": "oHcrqCDNNf0I",
        "colab_type": "code",
        "colab": {}
      },
      "cell_type": "code",
      "source": [
        "def loan_status_is_great(status):\n",
        "  \n",
        "  great_status=['Current','Fully Paid']\n",
        "  if status in (great_status):\n",
        "    return 1\n",
        "  else:\n",
        "    return 0\n",
        "\n",
        "df['loan_status_is_great'] = df['loan_status'].apply(loan_status_is_great)\n",
        "\n",
        "  "
      ],
      "execution_count": 0,
      "outputs": []
    },
    {
      "metadata": {
        "id": "vl9DDQ17PBng",
        "colab_type": "code",
        "colab": {
          "base_uri": "https://localhost:8080/",
          "height": 669
        },
        "outputId": "aa250cf5-d3e5-4fc4-a4ba-23e04aa492b7"
      },
      "cell_type": "code",
      "source": [
        "df.loc[df['loan_status_is_great']==0,['loan_status_is_great','loan_status']].sample(20)"
      ],
      "execution_count": 33,
      "outputs": [
        {
          "output_type": "execute_result",
          "data": {
            "text/html": [
              "<div>\n",
              "<style scoped>\n",
              "    .dataframe tbody tr th:only-of-type {\n",
              "        vertical-align: middle;\n",
              "    }\n",
              "\n",
              "    .dataframe tbody tr th {\n",
              "        vertical-align: top;\n",
              "    }\n",
              "\n",
              "    .dataframe thead th {\n",
              "        text-align: right;\n",
              "    }\n",
              "</style>\n",
              "<table border=\"1\" class=\"dataframe\">\n",
              "  <thead>\n",
              "    <tr style=\"text-align: right;\">\n",
              "      <th></th>\n",
              "      <th>loan_status_is_great</th>\n",
              "      <th>loan_status</th>\n",
              "    </tr>\n",
              "  </thead>\n",
              "  <tbody>\n",
              "    <tr>\n",
              "      <th>53824</th>\n",
              "      <td>0</td>\n",
              "      <td>In Grace Period</td>\n",
              "    </tr>\n",
              "    <tr>\n",
              "      <th>53763</th>\n",
              "      <td>0</td>\n",
              "      <td>In Grace Period</td>\n",
              "    </tr>\n",
              "    <tr>\n",
              "      <th>62230</th>\n",
              "      <td>0</td>\n",
              "      <td>Charged Off</td>\n",
              "    </tr>\n",
              "    <tr>\n",
              "      <th>124701</th>\n",
              "      <td>0</td>\n",
              "      <td>Late (31-120 days)</td>\n",
              "    </tr>\n",
              "    <tr>\n",
              "      <th>23407</th>\n",
              "      <td>0</td>\n",
              "      <td>Late (16-30 days)</td>\n",
              "    </tr>\n",
              "    <tr>\n",
              "      <th>58736</th>\n",
              "      <td>0</td>\n",
              "      <td>Late (31-120 days)</td>\n",
              "    </tr>\n",
              "    <tr>\n",
              "      <th>67815</th>\n",
              "      <td>0</td>\n",
              "      <td>In Grace Period</td>\n",
              "    </tr>\n",
              "    <tr>\n",
              "      <th>50558</th>\n",
              "      <td>0</td>\n",
              "      <td>In Grace Period</td>\n",
              "    </tr>\n",
              "    <tr>\n",
              "      <th>92914</th>\n",
              "      <td>0</td>\n",
              "      <td>Late (31-120 days)</td>\n",
              "    </tr>\n",
              "    <tr>\n",
              "      <th>112555</th>\n",
              "      <td>0</td>\n",
              "      <td>Late (16-30 days)</td>\n",
              "    </tr>\n",
              "    <tr>\n",
              "      <th>53822</th>\n",
              "      <td>0</td>\n",
              "      <td>In Grace Period</td>\n",
              "    </tr>\n",
              "    <tr>\n",
              "      <th>127000</th>\n",
              "      <td>0</td>\n",
              "      <td>Late (31-120 days)</td>\n",
              "    </tr>\n",
              "    <tr>\n",
              "      <th>51999</th>\n",
              "      <td>0</td>\n",
              "      <td>Late (31-120 days)</td>\n",
              "    </tr>\n",
              "    <tr>\n",
              "      <th>124695</th>\n",
              "      <td>0</td>\n",
              "      <td>In Grace Period</td>\n",
              "    </tr>\n",
              "    <tr>\n",
              "      <th>61352</th>\n",
              "      <td>0</td>\n",
              "      <td>In Grace Period</td>\n",
              "    </tr>\n",
              "    <tr>\n",
              "      <th>115538</th>\n",
              "      <td>0</td>\n",
              "      <td>Charged Off</td>\n",
              "    </tr>\n",
              "    <tr>\n",
              "      <th>83840</th>\n",
              "      <td>0</td>\n",
              "      <td>Late (16-30 days)</td>\n",
              "    </tr>\n",
              "    <tr>\n",
              "      <th>126267</th>\n",
              "      <td>0</td>\n",
              "      <td>Late (31-120 days)</td>\n",
              "    </tr>\n",
              "    <tr>\n",
              "      <th>126955</th>\n",
              "      <td>0</td>\n",
              "      <td>Late (31-120 days)</td>\n",
              "    </tr>\n",
              "    <tr>\n",
              "      <th>103771</th>\n",
              "      <td>0</td>\n",
              "      <td>In Grace Period</td>\n",
              "    </tr>\n",
              "  </tbody>\n",
              "</table>\n",
              "</div>"
            ],
            "text/plain": [
              "        loan_status_is_great         loan_status\n",
              "53824                      0     In Grace Period\n",
              "53763                      0     In Grace Period\n",
              "62230                      0         Charged Off\n",
              "124701                     0  Late (31-120 days)\n",
              "23407                      0   Late (16-30 days)\n",
              "58736                      0  Late (31-120 days)\n",
              "67815                      0     In Grace Period\n",
              "50558                      0     In Grace Period\n",
              "92914                      0  Late (31-120 days)\n",
              "112555                     0   Late (16-30 days)\n",
              "53822                      0     In Grace Period\n",
              "127000                     0  Late (31-120 days)\n",
              "51999                      0  Late (31-120 days)\n",
              "124695                     0     In Grace Period\n",
              "61352                      0     In Grace Period\n",
              "115538                     0         Charged Off\n",
              "83840                      0   Late (16-30 days)\n",
              "126267                     0  Late (31-120 days)\n",
              "126955                     0  Late (31-120 days)\n",
              "103771                     0     In Grace Period"
            ]
          },
          "metadata": {
            "tags": []
          },
          "execution_count": 33
        }
      ]
    },
    {
      "metadata": {
        "id": "OBZqGxKqRSt7",
        "colab_type": "code",
        "colab": {
          "base_uri": "https://localhost:8080/",
          "height": 374
        },
        "outputId": "7fe7b083-50d2-4823-cec8-2662998f4494"
      },
      "cell_type": "code",
      "source": [
        "df['last_pymnt_d'].sample(20)"
      ],
      "execution_count": 34,
      "outputs": [
        {
          "output_type": "execute_result",
          "data": {
            "text/plain": [
              "21082    2018-12-01\n",
              "39706    2018-12-01\n",
              "49185    2018-12-01\n",
              "96305    2018-12-01\n",
              "71191    2018-12-01\n",
              "89685    2018-11-01\n",
              "61861    2018-12-01\n",
              "26293    2018-12-01\n",
              "116655   2018-12-01\n",
              "48783    2018-12-01\n",
              "75320    2018-12-01\n",
              "111925   2018-12-01\n",
              "90270    2018-11-01\n",
              "29489    2018-12-01\n",
              "70226    2018-12-01\n",
              "45222    2018-12-01\n",
              "13260    2018-12-01\n",
              "118997   2018-12-01\n",
              "35465    2018-12-01\n",
              "54318    2018-12-01\n",
              "Name: last_pymnt_d, dtype: datetime64[ns]"
            ]
          },
          "metadata": {
            "tags": []
          },
          "execution_count": 34
        }
      ]
    },
    {
      "metadata": {
        "id": "_b1lu0UVRvGk",
        "colab_type": "code",
        "colab": {}
      },
      "cell_type": "code",
      "source": [
        "df['last_pymnt_d']= pd.to_datetime(df['last_pymnt_d'],infer_datetime_format=True)"
      ],
      "execution_count": 0,
      "outputs": []
    },
    {
      "metadata": {
        "id": "MW63FdtWR797",
        "colab_type": "code",
        "colab": {}
      },
      "cell_type": "code",
      "source": [
        "df['last_pymnt_d_year'] = df['last_pymnt_d'].dt.year\n",
        "df['last_pymnt_d_month'] = df['last_pymnt_d'].dt.month\n"
      ],
      "execution_count": 0,
      "outputs": []
    },
    {
      "metadata": {
        "id": "9sK7YpwqSR9m",
        "colab_type": "code",
        "colab": {
          "base_uri": "https://localhost:8080/",
          "height": 51
        },
        "outputId": "9e28d9fb-6790-457f-e396-d079b4a7cf70"
      },
      "cell_type": "code",
      "source": [
        "df['last_pymnt_d_year'].value_counts()"
      ],
      "execution_count": 37,
      "outputs": [
        {
          "output_type": "execute_result",
          "data": {
            "text/plain": [
              "2018.0    128048\n",
              "Name: last_pymnt_d_year, dtype: int64"
            ]
          },
          "metadata": {
            "tags": []
          },
          "execution_count": 37
        }
      ]
    },
    {
      "metadata": {
        "id": "QxGDX2m7S5hG",
        "colab_type": "code",
        "colab": {
          "base_uri": "https://localhost:8080/",
          "height": 136
        },
        "outputId": "640a6c10-4be4-40aa-d0c7-3fe11ae500f6"
      },
      "cell_type": "code",
      "source": [
        "df['last_pymnt_d_month'].value_counts()"
      ],
      "execution_count": 38,
      "outputs": [
        {
          "output_type": "execute_result",
          "data": {
            "text/plain": [
              "12.0    116465\n",
              "11.0      7793\n",
              "10.0      1594\n",
              "9.0       1136\n",
              "8.0        838\n",
              "7.0        222\n",
              "Name: last_pymnt_d_month, dtype: int64"
            ]
          },
          "metadata": {
            "tags": []
          },
          "execution_count": 38
        }
      ]
    },
    {
      "metadata": {
        "id": "mkXZP34V2tXI",
        "colab_type": "text"
      },
      "cell_type": "markdown",
      "source": [
        "# STRETCH OPTIONS\n",
        "\n",
        "You can do more with the LendingClub or Instacart datasets.\n",
        "\n",
        "LendingClub options:\n",
        "- There's one other column in the dataframe with percent signs. Remove them and convert to floats. You'll need to handle missing values.\n",
        "- Modify the `emp_title` column to replace titles with 'Other' if the title is not in the top 20. \n",
        "- Process the dataframe so that `ready_for_sklearn(df)` returns `True`. You can drop columns, or select the subset of numeric columns with no missing values. (Or you can try automating the process to handle missing values and convert objects to numbers!)\n",
        "- Take initiatve and work on your own ideas!\n",
        "\n",
        "Instacart options:\n",
        "- Read [Instacart Market Basket Analysis, Winner's Interview: 2nd place, Kazuki Onodera](http://blog.kaggle.com/2017/09/21/instacart-market-basket-analysis-winners-interview-2nd-place-kazuki-onodera/), especially the **Feature Engineering** section. (Can you choose one feature from his bulleted lists, and try to engineer it with pandas code?)\n",
        "- Read and replicate parts of [Simple Exploration Notebook - Instacart](https://www.kaggle.com/sudalairajkumar/simple-exploration-notebook-instacart). (It's the Python Notebook with the most upvotes for this Kaggle competition.)\n",
        "- Take initiative and work on your own ideas!"
      ]
    },
    {
      "metadata": {
        "id": "0_7PXF7lpEXg",
        "colab_type": "text"
      },
      "cell_type": "markdown",
      "source": [
        "You can uncomment and run the cells below to re-download and extract the Instacart data"
      ]
    },
    {
      "metadata": {
        "id": "eqADJbAipBmM",
        "colab_type": "code",
        "colab": {}
      },
      "cell_type": "code",
      "source": [
        "# !wget https://s3.amazonaws.com/instacart-datasets/instacart_online_grocery_shopping_2017_05_01.tar.gz"
      ],
      "execution_count": 0,
      "outputs": []
    },
    {
      "metadata": {
        "id": "zZm3Tk9gpGxk",
        "colab_type": "code",
        "colab": {}
      },
      "cell_type": "code",
      "source": [
        "# !tar --gunzip --extract --verbose --file=instacart_online_grocery_shopping_2017_05_01.tar.gz"
      ],
      "execution_count": 0,
      "outputs": []
    },
    {
      "metadata": {
        "id": "llt7qLvWpIsL",
        "colab_type": "code",
        "colab": {}
      },
      "cell_type": "code",
      "source": [
        "# %cd instacart_2017_05_01"
      ],
      "execution_count": 0,
      "outputs": []
    },
    {
      "metadata": {
        "id": "hFqUZG6KEZ2P",
        "colab_type": "code",
        "colab": {}
      },
      "cell_type": "code",
      "source": [
        "df.T"
      ],
      "execution_count": 0,
      "outputs": []
    },
    {
      "metadata": {
        "id": "jO_O9wENFVk7",
        "colab_type": "code",
        "colab": {}
      },
      "cell_type": "code",
      "source": [
        "df.revol_util.fillna(0)\n",
        "\n",
        "df.loc[df.revol_util.isnull()]"
      ],
      "execution_count": 0,
      "outputs": []
    },
    {
      "metadata": {
        "id": "qkBgzqh0EcFA",
        "colab_type": "code",
        "colab": {
          "base_uri": "https://localhost:8080/",
          "height": 170
        },
        "outputId": "c4f774bf-4d7e-43dd-b534-d6e4c962fd76"
      },
      "cell_type": "code",
      "source": [
        "def conv_revol_util(x):\n",
        "  if isinstance(x, str):\n",
        "    return float(x.strip('%'))\n",
        "  else:\n",
        "    return 0\n",
        "\n",
        "df.revol_util=df.revol_util.apply(conv_revol_util)\n",
        "df['revol_util']\n",
        "\n",
        "df.revol_util.describe()"
      ],
      "execution_count": 48,
      "outputs": [
        {
          "output_type": "execute_result",
          "data": {
            "text/plain": [
              "count    128194.0\n",
              "mean          0.0\n",
              "std           0.0\n",
              "min           0.0\n",
              "25%           0.0\n",
              "50%           0.0\n",
              "75%           0.0\n",
              "max           0.0\n",
              "Name: revol_util, dtype: float64"
            ]
          },
          "metadata": {
            "tags": []
          },
          "execution_count": 48
        }
      ]
    },
    {
      "metadata": {
        "id": "-fA8VYUAG04b",
        "colab_type": "code",
        "colab": {}
      },
      "cell_type": "code",
      "source": [
        "top20 = df['emp_title'].value_counts().head(21).index.tolist()"
      ],
      "execution_count": 0,
      "outputs": []
    },
    {
      "metadata": {
        "id": "SH4MYGZZHX35",
        "colab_type": "code",
        "colab": {
          "base_uri": "https://localhost:8080/",
          "height": 357
        },
        "outputId": "18b4f0cf-2528-4154-fe72-d6875e2b1490"
      },
      "cell_type": "code",
      "source": [
        "top20=top20[1:21]\n",
        "top20"
      ],
      "execution_count": 60,
      "outputs": [
        {
          "output_type": "execute_result",
          "data": {
            "text/plain": [
              "['Teacher',\n",
              " 'Manager',\n",
              " 'Owner',\n",
              " 'Driver',\n",
              " 'Registered Nurse',\n",
              " 'Supervisor',\n",
              " 'Sales',\n",
              " 'Truck Driver',\n",
              " 'Rn',\n",
              " 'Office Manager',\n",
              " 'Project Manager',\n",
              " 'General Manager',\n",
              " 'Director',\n",
              " 'Operations Manager',\n",
              " 'Sales Manager',\n",
              " 'Engineer',\n",
              " 'Store Manager',\n",
              " 'Administrative Assistant',\n",
              " 'President',\n",
              " 'Technician']"
            ]
          },
          "metadata": {
            "tags": []
          },
          "execution_count": 60
        }
      ]
    },
    {
      "metadata": {
        "id": "45LDujiAHh69",
        "colab_type": "code",
        "colab": {
          "base_uri": "https://localhost:8080/",
          "height": 34
        },
        "outputId": "81166deb-dfad-44a6-be3f-2477a47dfb88"
      },
      "cell_type": "code",
      "source": [
        "len(top20)"
      ],
      "execution_count": 66,
      "outputs": [
        {
          "output_type": "execute_result",
          "data": {
            "text/plain": [
              "20"
            ]
          },
          "metadata": {
            "tags": []
          },
          "execution_count": 66
        }
      ]
    },
    {
      "metadata": {
        "id": "i5UCTRj0HwuI",
        "colab_type": "code",
        "colab": {}
      },
      "cell_type": "code",
      "source": [
        "other = set(df.loc[~df['emp_title'].isin(top20)]['emp_title'].tolist())"
      ],
      "execution_count": 0,
      "outputs": []
    },
    {
      "metadata": {
        "id": "EePZksUGIwC-",
        "colab_type": "code",
        "colab": {}
      },
      "cell_type": "code",
      "source": [
        "other\n",
        "\n",
        "def conv_other(x):\n",
        "  if x in other:\n",
        "    return 'Other'\n",
        "  else:\n",
        "    return x\n",
        "\n",
        "df['emp_title']=df['emp_title'].apply(conv_other)"
      ],
      "execution_count": 0,
      "outputs": []
    },
    {
      "metadata": {
        "id": "SNdYSVAQKc-u",
        "colab_type": "code",
        "colab": {
          "base_uri": "https://localhost:8080/",
          "height": 391
        },
        "outputId": "484c987e-0d32-4016-aed0-313355bca007"
      },
      "cell_type": "code",
      "source": [
        "# Modify the emp_title column to replace titles with 'Other' if the title is not in the top 20.\n",
        "\n",
        "df['emp_title'].value_counts()"
      ],
      "execution_count": 79,
      "outputs": [
        {
          "output_type": "execute_result",
          "data": {
            "text/plain": [
              "Other                       107290\n",
              "Teacher                       2843\n",
              "Manager                       2749\n",
              "Owner                         1856\n",
              "Driver                        1498\n",
              "Registered Nurse              1386\n",
              "Supervisor                    1345\n",
              "Sales                          980\n",
              "Truck Driver                   921\n",
              "Rn                             905\n",
              "Office Manager                 846\n",
              "Project Manager                835\n",
              "General Manager                809\n",
              "Director                       585\n",
              "Operations Manager             516\n",
              "Sales Manager                  510\n",
              "Engineer                       474\n",
              "Administrative Assistant       466\n",
              "Store Manager                  466\n",
              "President                      464\n",
              "Technician                     450\n",
              "Name: emp_title, dtype: int64"
            ]
          },
          "metadata": {
            "tags": []
          },
          "execution_count": 79
        }
      ]
    },
    {
      "metadata": {
        "id": "dgcZcsg1Mpcv",
        "colab_type": "code",
        "colab": {}
      },
      "cell_type": "code",
      "source": [
        "#df[df['loan_status_is_great']==0,['loan_status_is_great','emp_title']].groupby('emp_title').agg('count')\n",
        "\n",
        "bad_status_df= df.loc[df['loan_status_is_great']==0,['loan_status_is_great','emp_title']]"
      ],
      "execution_count": 0,
      "outputs": []
    },
    {
      "metadata": {
        "id": "HRfV_zUZSRkP",
        "colab_type": "code",
        "colab": {}
      },
      "cell_type": "code",
      "source": [
        "final = bad_status_df.groupby('emp_title').agg('count').sort_values('loan_status_is_great', ascending=False).drop(['Other'])"
      ],
      "execution_count": 0,
      "outputs": []
    },
    {
      "metadata": {
        "id": "aGXDNSqATdm7",
        "colab_type": "code",
        "colab": {}
      },
      "cell_type": "code",
      "source": [
        "final.reset_index()"
      ],
      "execution_count": 0,
      "outputs": []
    },
    {
      "metadata": {
        "id": "1zoOifLRUElF",
        "colab_type": "code",
        "colab": {}
      },
      "cell_type": "code",
      "source": [
        "import matplotlib.pyplot as plt\n",
        "\n",
        "#plt.plot(final.index,final.loan_status_is_great)"
      ],
      "execution_count": 0,
      "outputs": []
    },
    {
      "metadata": {
        "id": "CKW1Fi-zUQqU",
        "colab_type": "code",
        "colab": {
          "base_uri": "https://localhost:8080/",
          "height": 700
        },
        "outputId": "4ac13dd1-fd86-4507-f3c3-731f614787c5"
      },
      "cell_type": "code",
      "source": [
        "final"
      ],
      "execution_count": 104,
      "outputs": [
        {
          "output_type": "execute_result",
          "data": {
            "text/html": [
              "<div>\n",
              "<style scoped>\n",
              "    .dataframe tbody tr th:only-of-type {\n",
              "        vertical-align: middle;\n",
              "    }\n",
              "\n",
              "    .dataframe tbody tr th {\n",
              "        vertical-align: top;\n",
              "    }\n",
              "\n",
              "    .dataframe thead th {\n",
              "        text-align: right;\n",
              "    }\n",
              "</style>\n",
              "<table border=\"1\" class=\"dataframe\">\n",
              "  <thead>\n",
              "    <tr style=\"text-align: right;\">\n",
              "      <th></th>\n",
              "      <th>loan_status_is_great</th>\n",
              "    </tr>\n",
              "    <tr>\n",
              "      <th>emp_title</th>\n",
              "      <th></th>\n",
              "    </tr>\n",
              "  </thead>\n",
              "  <tbody>\n",
              "    <tr>\n",
              "      <th>Manager</th>\n",
              "      <td>63</td>\n",
              "    </tr>\n",
              "    <tr>\n",
              "      <th>Owner</th>\n",
              "      <td>54</td>\n",
              "    </tr>\n",
              "    <tr>\n",
              "      <th>Teacher</th>\n",
              "      <td>51</td>\n",
              "    </tr>\n",
              "    <tr>\n",
              "      <th>Supervisor</th>\n",
              "      <td>39</td>\n",
              "    </tr>\n",
              "    <tr>\n",
              "      <th>Driver</th>\n",
              "      <td>37</td>\n",
              "    </tr>\n",
              "    <tr>\n",
              "      <th>Sales</th>\n",
              "      <td>27</td>\n",
              "    </tr>\n",
              "    <tr>\n",
              "      <th>Truck Driver</th>\n",
              "      <td>19</td>\n",
              "    </tr>\n",
              "    <tr>\n",
              "      <th>Rn</th>\n",
              "      <td>17</td>\n",
              "    </tr>\n",
              "    <tr>\n",
              "      <th>Registered Nurse</th>\n",
              "      <td>16</td>\n",
              "    </tr>\n",
              "    <tr>\n",
              "      <th>President</th>\n",
              "      <td>16</td>\n",
              "    </tr>\n",
              "    <tr>\n",
              "      <th>Sales Manager</th>\n",
              "      <td>12</td>\n",
              "    </tr>\n",
              "    <tr>\n",
              "      <th>General Manager</th>\n",
              "      <td>11</td>\n",
              "    </tr>\n",
              "    <tr>\n",
              "      <th>Project Manager</th>\n",
              "      <td>10</td>\n",
              "    </tr>\n",
              "    <tr>\n",
              "      <th>Office Manager</th>\n",
              "      <td>9</td>\n",
              "    </tr>\n",
              "    <tr>\n",
              "      <th>Engineer</th>\n",
              "      <td>9</td>\n",
              "    </tr>\n",
              "    <tr>\n",
              "      <th>Technician</th>\n",
              "      <td>9</td>\n",
              "    </tr>\n",
              "    <tr>\n",
              "      <th>Administrative Assistant</th>\n",
              "      <td>9</td>\n",
              "    </tr>\n",
              "    <tr>\n",
              "      <th>Operations Manager</th>\n",
              "      <td>7</td>\n",
              "    </tr>\n",
              "    <tr>\n",
              "      <th>Director</th>\n",
              "      <td>6</td>\n",
              "    </tr>\n",
              "    <tr>\n",
              "      <th>Store Manager</th>\n",
              "      <td>4</td>\n",
              "    </tr>\n",
              "  </tbody>\n",
              "</table>\n",
              "</div>"
            ],
            "text/plain": [
              "                          loan_status_is_great\n",
              "emp_title                                     \n",
              "Manager                                     63\n",
              "Owner                                       54\n",
              "Teacher                                     51\n",
              "Supervisor                                  39\n",
              "Driver                                      37\n",
              "Sales                                       27\n",
              "Truck Driver                                19\n",
              "Rn                                          17\n",
              "Registered Nurse                            16\n",
              "President                                   16\n",
              "Sales Manager                               12\n",
              "General Manager                             11\n",
              "Project Manager                             10\n",
              "Office Manager                               9\n",
              "Engineer                                     9\n",
              "Technician                                   9\n",
              "Administrative Assistant                     9\n",
              "Operations Manager                           7\n",
              "Director                                     6\n",
              "Store Manager                                4"
            ]
          },
          "metadata": {
            "tags": []
          },
          "execution_count": 104
        }
      ]
    },
    {
      "metadata": {
        "id": "XBZPKDH-VAdl",
        "colab_type": "code",
        "colab": {}
      },
      "cell_type": "code",
      "source": [
        ""
      ],
      "execution_count": 0,
      "outputs": []
    }
  ]
}