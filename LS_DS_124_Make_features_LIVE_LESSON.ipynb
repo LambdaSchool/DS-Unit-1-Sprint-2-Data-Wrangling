{
  "nbformat": 4,
  "nbformat_minor": 0,
  "metadata": {
    "colab": {
      "name": "LS_DS_124_Make_features LIVE LESSON.ipynb",
      "version": "0.3.2",
      "provenance": [],
      "collapsed_sections": [],
      "include_colab_link": true
    },
    "kernelspec": {
      "name": "python3",
      "display_name": "Python 3"
    }
  },
  "cells": [
    {
      "cell_type": "markdown",
      "metadata": {
        "id": "view-in-github",
        "colab_type": "text"
      },
      "source": [
        "<a href=\"https://colab.research.google.com/github/derek-shing/DS-Unit-1-Sprint-2-Data-Wrangling/blob/master/LS_DS_124_Make_features_LIVE_LESSON.ipynb\" target=\"_parent\"><img src=\"https://colab.research.google.com/assets/colab-badge.svg\" alt=\"Open In Colab\"/></a>"
      ]
    },
    {
      "metadata": {
        "id": "9etkuLf_whqg",
        "colab_type": "text"
      },
      "cell_type": "markdown",
      "source": [
        ""
      ]
    },
    {
      "metadata": {
        "id": "qacqiXogluN_",
        "colab_type": "text"
      },
      "cell_type": "markdown",
      "source": [
        "_Lambda School Data Science_\n",
        "\n",
        "# Make features\n",
        "\n",
        "Objectives\n",
        "-  understand the purpose of feature engineering\n",
        "-  work with strings in pandas\n",
        "- work with dates and times in pandas\n",
        "\n",
        "Links\n",
        "- [Feature Engineering](https://en.wikipedia.org/wiki/Feature_engineering)\n",
        "- Python Data Science Handbook\n",
        "  - [Chapter 3.10](https://jakevdp.github.io/PythonDataScienceHandbook/03.10-working-with-strings.html), Vectorized String Operations\n",
        "  - [Chapter 3.11](https://jakevdp.github.io/PythonDataScienceHandbook/03.11-working-with-time-series.html), Working with Time Series"
      ]
    },
    {
      "metadata": {
        "id": "iSGiSktAoWIx",
        "colab_type": "text"
      },
      "cell_type": "markdown",
      "source": [
        "## Get LendingClub data\n",
        "\n",
        "[Source](https://www.lendingclub.com/info/download-data.action)"
      ]
    },
    {
      "metadata": {
        "id": "2ugxlWXimoHn",
        "colab_type": "code",
        "colab": {}
      },
      "cell_type": "code",
      "source": [
        "!wget https://resources.lendingclub.com/LoanStats_2018Q3.csv.zip"
      ],
      "execution_count": 0,
      "outputs": []
    },
    {
      "metadata": {
        "id": "-4sk6qPgmpmN",
        "colab_type": "code",
        "colab": {}
      },
      "cell_type": "code",
      "source": [
        "!unzip LoanStats_2018Q3.csv.zip"
      ],
      "execution_count": 0,
      "outputs": []
    },
    {
      "metadata": {
        "id": "seh5oNE1nD0X",
        "colab_type": "code",
        "colab": {}
      },
      "cell_type": "code",
      "source": [
        "!head LoanStats_2018Q3.csv"
      ],
      "execution_count": 0,
      "outputs": []
    },
    {
      "metadata": {
        "id": "KUSHRmUBTuRu",
        "colab_type": "code",
        "colab": {}
      },
      "cell_type": "code",
      "source": [
        "!tail LoanStats_2018Q3.csv"
      ],
      "execution_count": 0,
      "outputs": []
    },
    {
      "metadata": {
        "id": "3nAIRCZdofrY",
        "colab_type": "text"
      },
      "cell_type": "markdown",
      "source": [
        "## Load LendingClub data"
      ]
    },
    {
      "metadata": {
        "id": "6GJn0y0D59sF",
        "colab_type": "text"
      },
      "cell_type": "markdown",
      "source": [
        "pandas documentation\n",
        "- [`read_csv`](https://pandas.pydata.org/pandas-docs/stable/generated/pandas.read_csv.html)\n",
        "- [`options.display`](https://pandas.pydata.org/pandas-docs/stable/options.html#available-options)"
      ]
    },
    {
      "metadata": {
        "id": "3-8Vn3y6ooBC",
        "colab_type": "code",
        "colab": {}
      },
      "cell_type": "code",
      "source": [
        "import pandas as pd\n",
        "\n",
        "#want to skip some row in the csv file\n",
        "\n",
        "df = pd.read_csv('LoanStats_2018Q3.csv', skipfooter=2, skiprows=1)\n",
        "\n",
        "df.shape\n",
        "\n",
        "df.head()"
      ],
      "execution_count": 0,
      "outputs": []
    },
    {
      "metadata": {
        "id": "SSza9uLM1ZIF",
        "colab_type": "code",
        "colab": {}
      },
      "cell_type": "code",
      "source": [
        "pd.options.display.max_columns = 500"
      ],
      "execution_count": 0,
      "outputs": []
    },
    {
      "metadata": {
        "id": "f1DUOyg01wjZ",
        "colab_type": "code",
        "colab": {}
      },
      "cell_type": "code",
      "source": [
        "df.head().T"
      ],
      "execution_count": 0,
      "outputs": []
    },
    {
      "metadata": {
        "id": "1b5_hMTio2Ly",
        "colab_type": "text"
      },
      "cell_type": "markdown",
      "source": [
        "## Work with strings"
      ]
    },
    {
      "metadata": {
        "id": "xgv97K7C2C8J",
        "colab_type": "code",
        "colab": {}
      },
      "cell_type": "code",
      "source": [
        "pd.options.display.max_rows = 500"
      ],
      "execution_count": 0,
      "outputs": []
    },
    {
      "metadata": {
        "id": "-XD4dwyx2IqA",
        "colab_type": "code",
        "colab": {}
      },
      "cell_type": "code",
      "source": [
        "df.head().T"
      ],
      "execution_count": 0,
      "outputs": []
    },
    {
      "metadata": {
        "id": "arC__wBS5XRn",
        "colab_type": "text"
      },
      "cell_type": "markdown",
      "source": [
        "For machine learning, we usually want to replace strings with numbers"
      ]
    },
    {
      "metadata": {
        "id": "NRgNhbCAm-jG",
        "colab_type": "code",
        "colab": {}
      },
      "cell_type": "code",
      "source": [
        "import numpy as np\n",
        "\n",
        "def all_numeric(df):\n",
        "    return all((df.dtypes==np.number) | \n",
        "               (df.dtypes==bool))\n",
        "\n",
        "def no_nulls(df):\n",
        "    return not any(df.isnull().sum())\n",
        "\n",
        "def ready_for_sklearn(df):\n",
        "    return all_numeric(df) and no_nulls(df)"
      ],
      "execution_count": 0,
      "outputs": []
    },
    {
      "metadata": {
        "id": "nPye8R9WrsaR",
        "colab_type": "code",
        "colab": {}
      },
      "cell_type": "code",
      "source": [
        ""
      ],
      "execution_count": 0,
      "outputs": []
    },
    {
      "metadata": {
        "id": "8ARYtpADluD8",
        "colab_type": "text"
      },
      "cell_type": "markdown",
      "source": [
        "We can get info about which columns have a datatype of \"object\" (strings)"
      ]
    },
    {
      "metadata": {
        "id": "WOL7QPVNo3F4",
        "colab_type": "code",
        "colab": {}
      },
      "cell_type": "code",
      "source": [
        "df.select_dtypes('object').info()"
      ],
      "execution_count": 0,
      "outputs": []
    },
    {
      "metadata": {
        "id": "m1mY5VDh6yir",
        "colab_type": "text"
      },
      "cell_type": "markdown",
      "source": [
        "### Convert `int_rate`"
      ]
    },
    {
      "metadata": {
        "id": "OeK2BaYVNmMn",
        "colab_type": "text"
      },
      "cell_type": "markdown",
      "source": [
        "Define a function to remove percent signs from strings and convert to floats"
      ]
    },
    {
      "metadata": {
        "id": "-gE7YmLWv2S7",
        "colab_type": "code",
        "colab": {}
      },
      "cell_type": "code",
      "source": [
        "string = '17.97%'\n",
        "\n",
        "float(string.replace('%',''))\n",
        "\n",
        "def remove_percent(string):\n",
        "  return float(string.strip('%'))\n",
        "\n",
        "remove_percent(string)"
      ],
      "execution_count": 0,
      "outputs": []
    },
    {
      "metadata": {
        "id": "NkQHMGVOZ5Re",
        "colab_type": "text"
      },
      "cell_type": "markdown",
      "source": [
        "Apply the function to the `int_rate` column"
      ]
    },
    {
      "metadata": {
        "id": "Y8MqCBissw7T",
        "colab_type": "code",
        "colab": {}
      },
      "cell_type": "code",
      "source": [
        "df['int_rate'] = df['int_rate'].apply(remove_percent)"
      ],
      "execution_count": 0,
      "outputs": []
    },
    {
      "metadata": {
        "id": "veHKtF976PmM",
        "colab_type": "code",
        "colab": {}
      },
      "cell_type": "code",
      "source": [
        "df.int_rate.head()"
      ],
      "execution_count": 0,
      "outputs": []
    },
    {
      "metadata": {
        "id": "c_X3PxjM6-rc",
        "colab_type": "text"
      },
      "cell_type": "markdown",
      "source": [
        "### Clean `emp_title`"
      ]
    },
    {
      "metadata": {
        "id": "FirzP2i273My",
        "colab_type": "text"
      },
      "cell_type": "markdown",
      "source": [
        "Look at top 20 titles"
      ]
    },
    {
      "metadata": {
        "id": "aKGq7dZ2tKR6",
        "colab_type": "code",
        "colab": {}
      },
      "cell_type": "code",
      "source": [
        "df.select_dtypes('object').info()\n",
        "\n",
        "df['emp_title'].value_counts().head(20)"
      ],
      "execution_count": 0,
      "outputs": []
    },
    {
      "metadata": {
        "id": "SFMSgs2NOg3W",
        "colab_type": "text"
      },
      "cell_type": "markdown",
      "source": [
        "How often is `emp_title` null?"
      ]
    },
    {
      "metadata": {
        "id": "n2j6JCXdOcBl",
        "colab_type": "code",
        "colab": {}
      },
      "cell_type": "code",
      "source": [
        "df['emp_title'].isnull().sum()"
      ],
      "execution_count": 0,
      "outputs": []
    },
    {
      "metadata": {
        "id": "4krE3uwK7-vs",
        "colab_type": "text"
      },
      "cell_type": "markdown",
      "source": [
        "Clean the title and handle missing values"
      ]
    },
    {
      "metadata": {
        "id": "usnWwZlztln7",
        "colab_type": "code",
        "colab": {}
      },
      "cell_type": "code",
      "source": [
        "examples = ['owner','Supervisor ', ' Project Manager',42,np.nan]\n",
        "\n",
        "def clean_title(x):\n",
        "  if isinstance(x, str):\n",
        "    return x.strip().title()\n",
        "  else:\n",
        "    return 'Unkown'\n",
        "\n",
        "for example in examples:\n",
        "  print(clean_title(example))"
      ],
      "execution_count": 0,
      "outputs": []
    },
    {
      "metadata": {
        "id": "1pjZVPpC_tcp",
        "colab_type": "code",
        "colab": {}
      },
      "cell_type": "code",
      "source": [
        "df['emp_title'] = df['emp_title'].apply(clean_title)"
      ],
      "execution_count": 0,
      "outputs": []
    },
    {
      "metadata": {
        "id": "rL0rrjuC_7i6",
        "colab_type": "code",
        "colab": {}
      },
      "cell_type": "code",
      "source": [
        "df['emp_title'].value_counts().head(20)"
      ],
      "execution_count": 0,
      "outputs": []
    },
    {
      "metadata": {
        "id": "oyz4mcqn7EOU",
        "colab_type": "text"
      },
      "cell_type": "markdown",
      "source": [
        "### Create `emp_title_manager`\n",
        "\n",
        "pandas documentation: [`str.contains`](https://pandas.pydata.org/pandas-docs/stable/generated/pandas.Series.str.contains.html)"
      ]
    },
    {
      "metadata": {
        "id": "iX6p6MQWvieC",
        "colab_type": "code",
        "colab": {}
      },
      "cell_type": "code",
      "source": [
        "df['emp_title_manager'] = df['emp_title'].str.contains('Manager')\n"
      ],
      "execution_count": 0,
      "outputs": []
    },
    {
      "metadata": {
        "id": "F9NAlvcjFJjy",
        "colab_type": "code",
        "colab": {}
      },
      "cell_type": "code",
      "source": [
        "df['emp_title_manager'].value_counts()"
      ],
      "execution_count": 0,
      "outputs": []
    },
    {
      "metadata": {
        "id": "s8BcCY6so3by",
        "colab_type": "text"
      },
      "cell_type": "markdown",
      "source": [
        "## Work with dates\n",
        "\n",
        "pandas documentation\n",
        "- [to_datetime](https://pandas.pydata.org/pandas-docs/stable/generated/pandas.to_datetime.html)\n",
        "- [Time/Date Components](https://pandas.pydata.org/pandas-docs/stable/timeseries.html#time-date-components) \"You can access these properties via the `.dt` accessor\""
      ]
    },
    {
      "metadata": {
        "id": "bhcgKbTAropd",
        "colab_type": "code",
        "colab": {
          "base_uri": "https://localhost:8080/",
          "height": 51
        },
        "outputId": "419002de-e260-4faf-b428-55cbf0272313"
      },
      "cell_type": "code",
      "source": [
        "df['issue_d'].head().values"
      ],
      "execution_count": 42,
      "outputs": [
        {
          "output_type": "execute_result",
          "data": {
            "text/plain": [
              "array(['Sep-2018', 'Sep-2018', 'Sep-2018', 'Sep-2018', 'Sep-2018'],\n",
              "      dtype=object)"
            ]
          },
          "metadata": {
            "tags": []
          },
          "execution_count": 42
        }
      ]
    },
    {
      "metadata": {
        "id": "0Ok4BmjNGPWF",
        "colab_type": "code",
        "colab": {}
      },
      "cell_type": "code",
      "source": [
        "df['issue_d']= pd.to_datetime(df['issue_d'],infer_datetime_format=True)"
      ],
      "execution_count": 0,
      "outputs": []
    },
    {
      "metadata": {
        "id": "eDJI97ZJHEhA",
        "colab_type": "code",
        "colab": {}
      },
      "cell_type": "code",
      "source": [
        "df['issue_year'] = df['issue_d'].dt.year\n",
        "df['issue_month'] = df['issue_d'].dt.month"
      ],
      "execution_count": 0,
      "outputs": []
    },
    {
      "metadata": {
        "id": "i7hrTd4UH4JN",
        "colab_type": "code",
        "colab": {
          "base_uri": "https://localhost:8080/",
          "height": 204
        },
        "outputId": "80b01ff3-9d73-424d-9148-66a9e65823e3"
      },
      "cell_type": "code",
      "source": [
        "df['issue_month'].sample(10)"
      ],
      "execution_count": 50,
      "outputs": [
        {
          "output_type": "execute_result",
          "data": {
            "text/plain": [
              "123904    7\n",
              "19709     9\n",
              "81971     8\n",
              "87641     7\n",
              "36225     9\n",
              "98781     7\n",
              "101620    7\n",
              "120075    7\n",
              "50717     8\n",
              "116837    7\n",
              "Name: issue_month, dtype: int64"
            ]
          },
          "metadata": {
            "tags": []
          },
          "execution_count": 50
        }
      ]
    },
    {
      "metadata": {
        "id": "SqF63r0UI-M8",
        "colab_type": "code",
        "colab": {}
      },
      "cell_type": "code",
      "source": [
        ""
      ],
      "execution_count": 0,
      "outputs": []
    },
    {
      "metadata": {
        "id": "_GUxhksJIsx-",
        "colab_type": "code",
        "colab": {}
      },
      "cell_type": "code",
      "source": [
        "df.head(1)\n",
        "\n",
        "df['earliest_cr_line'] = pd.to_datetime(df['earliest_cr_line'], infer_datetime_format=True)"
      ],
      "execution_count": 0,
      "outputs": []
    },
    {
      "metadata": {
        "id": "YB9JO1-wJVSs",
        "colab_type": "code",
        "colab": {}
      },
      "cell_type": "code",
      "source": [
        "date_col = [col for col in df if col.endswith('_d')]\n",
        "\n"
      ],
      "execution_count": 0,
      "outputs": []
    },
    {
      "metadata": {
        "id": "gD5PfYugJqfG",
        "colab_type": "code",
        "colab": {}
      },
      "cell_type": "code",
      "source": [
        "for col in date_col:\n",
        "  df[col] = pd.to_datetime(df[col],infer_datetime_format=True)"
      ],
      "execution_count": 0,
      "outputs": []
    },
    {
      "metadata": {
        "id": "iABiVmQ_KrXe",
        "colab_type": "code",
        "colab": {
          "base_uri": "https://localhost:8080/",
          "height": 343
        },
        "outputId": "d595136c-35ce-4f81-e31e-daa9c388104e"
      },
      "cell_type": "code",
      "source": [
        "df.sample(5)"
      ],
      "execution_count": 59,
      "outputs": [
        {
          "output_type": "execute_result",
          "data": {
            "text/html": [
              "<div>\n",
              "<style scoped>\n",
              "    .dataframe tbody tr th:only-of-type {\n",
              "        vertical-align: middle;\n",
              "    }\n",
              "\n",
              "    .dataframe tbody tr th {\n",
              "        vertical-align: top;\n",
              "    }\n",
              "\n",
              "    .dataframe thead th {\n",
              "        text-align: right;\n",
              "    }\n",
              "</style>\n",
              "<table border=\"1\" class=\"dataframe\">\n",
              "  <thead>\n",
              "    <tr style=\"text-align: right;\">\n",
              "      <th></th>\n",
              "      <th>id</th>\n",
              "      <th>member_id</th>\n",
              "      <th>loan_amnt</th>\n",
              "      <th>funded_amnt</th>\n",
              "      <th>funded_amnt_inv</th>\n",
              "      <th>term</th>\n",
              "      <th>int_rate</th>\n",
              "      <th>installment</th>\n",
              "      <th>grade</th>\n",
              "      <th>sub_grade</th>\n",
              "      <th>emp_title</th>\n",
              "      <th>emp_length</th>\n",
              "      <th>home_ownership</th>\n",
              "      <th>annual_inc</th>\n",
              "      <th>verification_status</th>\n",
              "      <th>issue_d</th>\n",
              "      <th>loan_status</th>\n",
              "      <th>pymnt_plan</th>\n",
              "      <th>url</th>\n",
              "      <th>desc</th>\n",
              "      <th>purpose</th>\n",
              "      <th>title</th>\n",
              "      <th>zip_code</th>\n",
              "      <th>addr_state</th>\n",
              "      <th>dti</th>\n",
              "      <th>delinq_2yrs</th>\n",
              "      <th>earliest_cr_line</th>\n",
              "      <th>inq_last_6mths</th>\n",
              "      <th>mths_since_last_delinq</th>\n",
              "      <th>mths_since_last_record</th>\n",
              "      <th>open_acc</th>\n",
              "      <th>pub_rec</th>\n",
              "      <th>revol_bal</th>\n",
              "      <th>revol_util</th>\n",
              "      <th>total_acc</th>\n",
              "      <th>initial_list_status</th>\n",
              "      <th>out_prncp</th>\n",
              "      <th>out_prncp_inv</th>\n",
              "      <th>total_pymnt</th>\n",
              "      <th>total_pymnt_inv</th>\n",
              "      <th>total_rec_prncp</th>\n",
              "      <th>total_rec_int</th>\n",
              "      <th>total_rec_late_fee</th>\n",
              "      <th>recoveries</th>\n",
              "      <th>collection_recovery_fee</th>\n",
              "      <th>last_pymnt_d</th>\n",
              "      <th>last_pymnt_amnt</th>\n",
              "      <th>next_pymnt_d</th>\n",
              "      <th>last_credit_pull_d</th>\n",
              "      <th>collections_12_mths_ex_med</th>\n",
              "      <th>mths_since_last_major_derog</th>\n",
              "      <th>policy_code</th>\n",
              "      <th>application_type</th>\n",
              "      <th>annual_inc_joint</th>\n",
              "      <th>dti_joint</th>\n",
              "      <th>verification_status_joint</th>\n",
              "      <th>acc_now_delinq</th>\n",
              "      <th>tot_coll_amt</th>\n",
              "      <th>tot_cur_bal</th>\n",
              "      <th>open_acc_6m</th>\n",
              "      <th>open_act_il</th>\n",
              "      <th>open_il_12m</th>\n",
              "      <th>open_il_24m</th>\n",
              "      <th>mths_since_rcnt_il</th>\n",
              "      <th>total_bal_il</th>\n",
              "      <th>il_util</th>\n",
              "      <th>open_rv_12m</th>\n",
              "      <th>open_rv_24m</th>\n",
              "      <th>max_bal_bc</th>\n",
              "      <th>all_util</th>\n",
              "      <th>total_rev_hi_lim</th>\n",
              "      <th>inq_fi</th>\n",
              "      <th>total_cu_tl</th>\n",
              "      <th>inq_last_12m</th>\n",
              "      <th>acc_open_past_24mths</th>\n",
              "      <th>avg_cur_bal</th>\n",
              "      <th>bc_open_to_buy</th>\n",
              "      <th>bc_util</th>\n",
              "      <th>chargeoff_within_12_mths</th>\n",
              "      <th>delinq_amnt</th>\n",
              "      <th>mo_sin_old_il_acct</th>\n",
              "      <th>mo_sin_old_rev_tl_op</th>\n",
              "      <th>mo_sin_rcnt_rev_tl_op</th>\n",
              "      <th>mo_sin_rcnt_tl</th>\n",
              "      <th>mort_acc</th>\n",
              "      <th>mths_since_recent_bc</th>\n",
              "      <th>mths_since_recent_bc_dlq</th>\n",
              "      <th>mths_since_recent_inq</th>\n",
              "      <th>mths_since_recent_revol_delinq</th>\n",
              "      <th>num_accts_ever_120_pd</th>\n",
              "      <th>num_actv_bc_tl</th>\n",
              "      <th>num_actv_rev_tl</th>\n",
              "      <th>num_bc_sats</th>\n",
              "      <th>num_bc_tl</th>\n",
              "      <th>num_il_tl</th>\n",
              "      <th>num_op_rev_tl</th>\n",
              "      <th>num_rev_accts</th>\n",
              "      <th>num_rev_tl_bal_gt_0</th>\n",
              "      <th>num_sats</th>\n",
              "      <th>num_tl_120dpd_2m</th>\n",
              "      <th>num_tl_30dpd</th>\n",
              "      <th>num_tl_90g_dpd_24m</th>\n",
              "      <th>num_tl_op_past_12m</th>\n",
              "      <th>pct_tl_nvr_dlq</th>\n",
              "      <th>percent_bc_gt_75</th>\n",
              "      <th>pub_rec_bankruptcies</th>\n",
              "      <th>tax_liens</th>\n",
              "      <th>tot_hi_cred_lim</th>\n",
              "      <th>total_bal_ex_mort</th>\n",
              "      <th>total_bc_limit</th>\n",
              "      <th>total_il_high_credit_limit</th>\n",
              "      <th>revol_bal_joint</th>\n",
              "      <th>sec_app_earliest_cr_line</th>\n",
              "      <th>sec_app_inq_last_6mths</th>\n",
              "      <th>sec_app_mort_acc</th>\n",
              "      <th>sec_app_open_acc</th>\n",
              "      <th>sec_app_revol_util</th>\n",
              "      <th>sec_app_open_act_il</th>\n",
              "      <th>sec_app_num_rev_accts</th>\n",
              "      <th>sec_app_chargeoff_within_12_mths</th>\n",
              "      <th>sec_app_collections_12_mths_ex_med</th>\n",
              "      <th>sec_app_mths_since_last_major_derog</th>\n",
              "      <th>hardship_flag</th>\n",
              "      <th>hardship_type</th>\n",
              "      <th>hardship_reason</th>\n",
              "      <th>hardship_status</th>\n",
              "      <th>deferral_term</th>\n",
              "      <th>hardship_amount</th>\n",
              "      <th>hardship_start_date</th>\n",
              "      <th>hardship_end_date</th>\n",
              "      <th>payment_plan_start_date</th>\n",
              "      <th>hardship_length</th>\n",
              "      <th>hardship_dpd</th>\n",
              "      <th>hardship_loan_status</th>\n",
              "      <th>orig_projected_additional_accrued_interest</th>\n",
              "      <th>hardship_payoff_balance_amount</th>\n",
              "      <th>hardship_last_payment_amount</th>\n",
              "      <th>disbursement_method</th>\n",
              "      <th>debt_settlement_flag</th>\n",
              "      <th>debt_settlement_flag_date</th>\n",
              "      <th>settlement_status</th>\n",
              "      <th>settlement_date</th>\n",
              "      <th>settlement_amount</th>\n",
              "      <th>settlement_percentage</th>\n",
              "      <th>settlement_term</th>\n",
              "      <th>emp_title_manager</th>\n",
              "      <th>issue_year</th>\n",
              "      <th>issue_month</th>\n",
              "    </tr>\n",
              "  </thead>\n",
              "  <tbody>\n",
              "    <tr>\n",
              "      <th>43201</th>\n",
              "      <td>NaN</td>\n",
              "      <td>NaN</td>\n",
              "      <td>36000</td>\n",
              "      <td>36000</td>\n",
              "      <td>36000</td>\n",
              "      <td>60 months</td>\n",
              "      <td>13.56</td>\n",
              "      <td>829.47</td>\n",
              "      <td>C</td>\n",
              "      <td>C1</td>\n",
              "      <td>Hearing Instrument Specialist</td>\n",
              "      <td>1 year</td>\n",
              "      <td>MORTGAGE</td>\n",
              "      <td>74500.0</td>\n",
              "      <td>Source Verified</td>\n",
              "      <td>2018-08-01</td>\n",
              "      <td>Current</td>\n",
              "      <td>n</td>\n",
              "      <td>NaN</td>\n",
              "      <td>NaN</td>\n",
              "      <td>credit_card</td>\n",
              "      <td>Credit card refinancing</td>\n",
              "      <td>530xx</td>\n",
              "      <td>WI</td>\n",
              "      <td>15.85</td>\n",
              "      <td>0</td>\n",
              "      <td>2005-01-01</td>\n",
              "      <td>1</td>\n",
              "      <td>48.0</td>\n",
              "      <td>NaN</td>\n",
              "      <td>11</td>\n",
              "      <td>0</td>\n",
              "      <td>19657</td>\n",
              "      <td>65.1%</td>\n",
              "      <td>26</td>\n",
              "      <td>w</td>\n",
              "      <td>34717.61</td>\n",
              "      <td>34717.61</td>\n",
              "      <td>2461.29</td>\n",
              "      <td>2461.29</td>\n",
              "      <td>1282.39</td>\n",
              "      <td>1178.90</td>\n",
              "      <td>0.0</td>\n",
              "      <td>0.0</td>\n",
              "      <td>0.0</td>\n",
              "      <td>2018-12-01</td>\n",
              "      <td>829.47</td>\n",
              "      <td>2019-01-01</td>\n",
              "      <td>2018-12-01</td>\n",
              "      <td>0</td>\n",
              "      <td>48.0</td>\n",
              "      <td>1</td>\n",
              "      <td>Joint App</td>\n",
              "      <td>202500.0</td>\n",
              "      <td>8.36</td>\n",
              "      <td>Source Verified</td>\n",
              "      <td>0</td>\n",
              "      <td>0</td>\n",
              "      <td>42912</td>\n",
              "      <td>0</td>\n",
              "      <td>1</td>\n",
              "      <td>0</td>\n",
              "      <td>1</td>\n",
              "      <td>17.0</td>\n",
              "      <td>23017</td>\n",
              "      <td>80.0</td>\n",
              "      <td>0</td>\n",
              "      <td>0</td>\n",
              "      <td>6657</td>\n",
              "      <td>73.0</td>\n",
              "      <td>30200</td>\n",
              "      <td>0</td>\n",
              "      <td>10</td>\n",
              "      <td>3</td>\n",
              "      <td>2</td>\n",
              "      <td>3901.0</td>\n",
              "      <td>8335.0</td>\n",
              "      <td>65.6</td>\n",
              "      <td>0</td>\n",
              "      <td>0</td>\n",
              "      <td>160.0</td>\n",
              "      <td>163</td>\n",
              "      <td>32</td>\n",
              "      <td>17</td>\n",
              "      <td>3</td>\n",
              "      <td>32.0</td>\n",
              "      <td>NaN</td>\n",
              "      <td>0.0</td>\n",
              "      <td>48.0</td>\n",
              "      <td>2</td>\n",
              "      <td>6</td>\n",
              "      <td>8</td>\n",
              "      <td>6</td>\n",
              "      <td>6</td>\n",
              "      <td>9</td>\n",
              "      <td>9</td>\n",
              "      <td>12</td>\n",
              "      <td>8</td>\n",
              "      <td>11</td>\n",
              "      <td>0.0</td>\n",
              "      <td>0</td>\n",
              "      <td>0</td>\n",
              "      <td>0</td>\n",
              "      <td>84.6</td>\n",
              "      <td>16.7</td>\n",
              "      <td>0</td>\n",
              "      <td>0</td>\n",
              "      <td>59215</td>\n",
              "      <td>42912</td>\n",
              "      <td>24200</td>\n",
              "      <td>28777</td>\n",
              "      <td>36449.0</td>\n",
              "      <td>Sep-2004</td>\n",
              "      <td>0.0</td>\n",
              "      <td>5.0</td>\n",
              "      <td>7.0</td>\n",
              "      <td>76.1</td>\n",
              "      <td>1.0</td>\n",
              "      <td>11.0</td>\n",
              "      <td>0.0</td>\n",
              "      <td>0.0</td>\n",
              "      <td>NaN</td>\n",
              "      <td>N</td>\n",
              "      <td>NaN</td>\n",
              "      <td>NaN</td>\n",
              "      <td>NaN</td>\n",
              "      <td>NaN</td>\n",
              "      <td>NaN</td>\n",
              "      <td>NaN</td>\n",
              "      <td>NaN</td>\n",
              "      <td>NaN</td>\n",
              "      <td>NaN</td>\n",
              "      <td>NaN</td>\n",
              "      <td>NaN</td>\n",
              "      <td>NaN</td>\n",
              "      <td>NaN</td>\n",
              "      <td>NaN</td>\n",
              "      <td>Cash</td>\n",
              "      <td>N</td>\n",
              "      <td>NaN</td>\n",
              "      <td>NaN</td>\n",
              "      <td>NaN</td>\n",
              "      <td>NaN</td>\n",
              "      <td>NaN</td>\n",
              "      <td>NaN</td>\n",
              "      <td>False</td>\n",
              "      <td>2018</td>\n",
              "      <td>8</td>\n",
              "    </tr>\n",
              "    <tr>\n",
              "      <th>49304</th>\n",
              "      <td>NaN</td>\n",
              "      <td>NaN</td>\n",
              "      <td>5900</td>\n",
              "      <td>5900</td>\n",
              "      <td>5900</td>\n",
              "      <td>36 months</td>\n",
              "      <td>27.27</td>\n",
              "      <td>241.73</td>\n",
              "      <td>E</td>\n",
              "      <td>E5</td>\n",
              "      <td>Tax Repairer</td>\n",
              "      <td>10+ years</td>\n",
              "      <td>OWN</td>\n",
              "      <td>98200.0</td>\n",
              "      <td>Not Verified</td>\n",
              "      <td>2018-08-01</td>\n",
              "      <td>Current</td>\n",
              "      <td>n</td>\n",
              "      <td>NaN</td>\n",
              "      <td>NaN</td>\n",
              "      <td>home_improvement</td>\n",
              "      <td>Home improvement</td>\n",
              "      <td>925xx</td>\n",
              "      <td>CA</td>\n",
              "      <td>27.07</td>\n",
              "      <td>0</td>\n",
              "      <td>2004-05-01</td>\n",
              "      <td>0</td>\n",
              "      <td>77.0</td>\n",
              "      <td>82.0</td>\n",
              "      <td>10</td>\n",
              "      <td>1</td>\n",
              "      <td>6593</td>\n",
              "      <td>37%</td>\n",
              "      <td>14</td>\n",
              "      <td>f</td>\n",
              "      <td>5454.49</td>\n",
              "      <td>5454.49</td>\n",
              "      <td>949.04</td>\n",
              "      <td>949.04</td>\n",
              "      <td>445.51</td>\n",
              "      <td>503.53</td>\n",
              "      <td>0.0</td>\n",
              "      <td>0.0</td>\n",
              "      <td>0.0</td>\n",
              "      <td>2018-12-01</td>\n",
              "      <td>241.73</td>\n",
              "      <td>2019-01-01</td>\n",
              "      <td>2018-12-01</td>\n",
              "      <td>0</td>\n",
              "      <td>NaN</td>\n",
              "      <td>1</td>\n",
              "      <td>Individual</td>\n",
              "      <td>NaN</td>\n",
              "      <td>NaN</td>\n",
              "      <td>NaN</td>\n",
              "      <td>0</td>\n",
              "      <td>0</td>\n",
              "      <td>60668</td>\n",
              "      <td>1</td>\n",
              "      <td>3</td>\n",
              "      <td>1</td>\n",
              "      <td>1</td>\n",
              "      <td>1.0</td>\n",
              "      <td>54075</td>\n",
              "      <td>25.0</td>\n",
              "      <td>1</td>\n",
              "      <td>2</td>\n",
              "      <td>1853</td>\n",
              "      <td>28.0</td>\n",
              "      <td>17800</td>\n",
              "      <td>2</td>\n",
              "      <td>0</td>\n",
              "      <td>3</td>\n",
              "      <td>3</td>\n",
              "      <td>6741.0</td>\n",
              "      <td>6098.0</td>\n",
              "      <td>44.6</td>\n",
              "      <td>0</td>\n",
              "      <td>0</td>\n",
              "      <td>113.0</td>\n",
              "      <td>80</td>\n",
              "      <td>12</td>\n",
              "      <td>1</td>\n",
              "      <td>1</td>\n",
              "      <td>12.0</td>\n",
              "      <td>NaN</td>\n",
              "      <td>1.0</td>\n",
              "      <td>NaN</td>\n",
              "      <td>0</td>\n",
              "      <td>4</td>\n",
              "      <td>5</td>\n",
              "      <td>5</td>\n",
              "      <td>5</td>\n",
              "      <td>5</td>\n",
              "      <td>7</td>\n",
              "      <td>8</td>\n",
              "      <td>5</td>\n",
              "      <td>10</td>\n",
              "      <td>0.0</td>\n",
              "      <td>0</td>\n",
              "      <td>0</td>\n",
              "      <td>2</td>\n",
              "      <td>92.3</td>\n",
              "      <td>25.0</td>\n",
              "      <td>1</td>\n",
              "      <td>0</td>\n",
              "      <td>107064</td>\n",
              "      <td>60668</td>\n",
              "      <td>11000</td>\n",
              "      <td>89264</td>\n",
              "      <td>NaN</td>\n",
              "      <td>NaN</td>\n",
              "      <td>NaN</td>\n",
              "      <td>NaN</td>\n",
              "      <td>NaN</td>\n",
              "      <td>NaN</td>\n",
              "      <td>NaN</td>\n",
              "      <td>NaN</td>\n",
              "      <td>NaN</td>\n",
              "      <td>NaN</td>\n",
              "      <td>NaN</td>\n",
              "      <td>N</td>\n",
              "      <td>NaN</td>\n",
              "      <td>NaN</td>\n",
              "      <td>NaN</td>\n",
              "      <td>NaN</td>\n",
              "      <td>NaN</td>\n",
              "      <td>NaN</td>\n",
              "      <td>NaN</td>\n",
              "      <td>NaN</td>\n",
              "      <td>NaN</td>\n",
              "      <td>NaN</td>\n",
              "      <td>NaN</td>\n",
              "      <td>NaN</td>\n",
              "      <td>NaN</td>\n",
              "      <td>NaN</td>\n",
              "      <td>Cash</td>\n",
              "      <td>N</td>\n",
              "      <td>NaN</td>\n",
              "      <td>NaN</td>\n",
              "      <td>NaN</td>\n",
              "      <td>NaN</td>\n",
              "      <td>NaN</td>\n",
              "      <td>NaN</td>\n",
              "      <td>False</td>\n",
              "      <td>2018</td>\n",
              "      <td>8</td>\n",
              "    </tr>\n",
              "    <tr>\n",
              "      <th>95252</th>\n",
              "      <td>NaN</td>\n",
              "      <td>NaN</td>\n",
              "      <td>25000</td>\n",
              "      <td>25000</td>\n",
              "      <td>25000</td>\n",
              "      <td>60 months</td>\n",
              "      <td>15.02</td>\n",
              "      <td>595.02</td>\n",
              "      <td>C</td>\n",
              "      <td>C3</td>\n",
              "      <td>Juvenile Probation Officer</td>\n",
              "      <td>3 years</td>\n",
              "      <td>MORTGAGE</td>\n",
              "      <td>72000.0</td>\n",
              "      <td>Verified</td>\n",
              "      <td>2018-07-01</td>\n",
              "      <td>Current</td>\n",
              "      <td>n</td>\n",
              "      <td>NaN</td>\n",
              "      <td>NaN</td>\n",
              "      <td>debt_consolidation</td>\n",
              "      <td>Debt consolidation</td>\n",
              "      <td>765xx</td>\n",
              "      <td>TX</td>\n",
              "      <td>33.23</td>\n",
              "      <td>0</td>\n",
              "      <td>2005-04-01</td>\n",
              "      <td>0</td>\n",
              "      <td>NaN</td>\n",
              "      <td>87.0</td>\n",
              "      <td>10</td>\n",
              "      <td>1</td>\n",
              "      <td>22898</td>\n",
              "      <td>79%</td>\n",
              "      <td>25</td>\n",
              "      <td>w</td>\n",
              "      <td>22917.07</td>\n",
              "      <td>22917.07</td>\n",
              "      <td>3462.62</td>\n",
              "      <td>3462.62</td>\n",
              "      <td>2082.93</td>\n",
              "      <td>1379.69</td>\n",
              "      <td>0.0</td>\n",
              "      <td>0.0</td>\n",
              "      <td>0.0</td>\n",
              "      <td>2018-12-01</td>\n",
              "      <td>595.02</td>\n",
              "      <td>2019-01-01</td>\n",
              "      <td>2018-12-01</td>\n",
              "      <td>0</td>\n",
              "      <td>NaN</td>\n",
              "      <td>1</td>\n",
              "      <td>Individual</td>\n",
              "      <td>NaN</td>\n",
              "      <td>NaN</td>\n",
              "      <td>NaN</td>\n",
              "      <td>0</td>\n",
              "      <td>0</td>\n",
              "      <td>155053</td>\n",
              "      <td>2</td>\n",
              "      <td>3</td>\n",
              "      <td>2</td>\n",
              "      <td>3</td>\n",
              "      <td>6.0</td>\n",
              "      <td>50889</td>\n",
              "      <td>64.0</td>\n",
              "      <td>2</td>\n",
              "      <td>3</td>\n",
              "      <td>587</td>\n",
              "      <td>68.0</td>\n",
              "      <td>29000</td>\n",
              "      <td>0</td>\n",
              "      <td>2</td>\n",
              "      <td>1</td>\n",
              "      <td>7</td>\n",
              "      <td>15505.0</td>\n",
              "      <td>249.0</td>\n",
              "      <td>75.1</td>\n",
              "      <td>0</td>\n",
              "      <td>0</td>\n",
              "      <td>67.0</td>\n",
              "      <td>159</td>\n",
              "      <td>0</td>\n",
              "      <td>0</td>\n",
              "      <td>1</td>\n",
              "      <td>50.0</td>\n",
              "      <td>NaN</td>\n",
              "      <td>12.0</td>\n",
              "      <td>NaN</td>\n",
              "      <td>0</td>\n",
              "      <td>2</td>\n",
              "      <td>5</td>\n",
              "      <td>2</td>\n",
              "      <td>4</td>\n",
              "      <td>13</td>\n",
              "      <td>6</td>\n",
              "      <td>11</td>\n",
              "      <td>5</td>\n",
              "      <td>10</td>\n",
              "      <td>0.0</td>\n",
              "      <td>0</td>\n",
              "      <td>0</td>\n",
              "      <td>4</td>\n",
              "      <td>100.0</td>\n",
              "      <td>50.0</td>\n",
              "      <td>1</td>\n",
              "      <td>0</td>\n",
              "      <td>194081</td>\n",
              "      <td>73787</td>\n",
              "      <td>1000</td>\n",
              "      <td>80081</td>\n",
              "      <td>NaN</td>\n",
              "      <td>NaN</td>\n",
              "      <td>NaN</td>\n",
              "      <td>NaN</td>\n",
              "      <td>NaN</td>\n",
              "      <td>NaN</td>\n",
              "      <td>NaN</td>\n",
              "      <td>NaN</td>\n",
              "      <td>NaN</td>\n",
              "      <td>NaN</td>\n",
              "      <td>NaN</td>\n",
              "      <td>N</td>\n",
              "      <td>NaN</td>\n",
              "      <td>NaN</td>\n",
              "      <td>NaN</td>\n",
              "      <td>NaN</td>\n",
              "      <td>NaN</td>\n",
              "      <td>NaN</td>\n",
              "      <td>NaN</td>\n",
              "      <td>NaN</td>\n",
              "      <td>NaN</td>\n",
              "      <td>NaN</td>\n",
              "      <td>NaN</td>\n",
              "      <td>NaN</td>\n",
              "      <td>NaN</td>\n",
              "      <td>NaN</td>\n",
              "      <td>Cash</td>\n",
              "      <td>N</td>\n",
              "      <td>NaN</td>\n",
              "      <td>NaN</td>\n",
              "      <td>NaN</td>\n",
              "      <td>NaN</td>\n",
              "      <td>NaN</td>\n",
              "      <td>NaN</td>\n",
              "      <td>False</td>\n",
              "      <td>2018</td>\n",
              "      <td>7</td>\n",
              "    </tr>\n",
              "    <tr>\n",
              "      <th>104170</th>\n",
              "      <td>NaN</td>\n",
              "      <td>NaN</td>\n",
              "      <td>35000</td>\n",
              "      <td>35000</td>\n",
              "      <td>35000</td>\n",
              "      <td>60 months</td>\n",
              "      <td>12.73</td>\n",
              "      <td>791.53</td>\n",
              "      <td>B</td>\n",
              "      <td>B5</td>\n",
              "      <td>Unkown</td>\n",
              "      <td>NaN</td>\n",
              "      <td>OWN</td>\n",
              "      <td>110559.0</td>\n",
              "      <td>Verified</td>\n",
              "      <td>2018-07-01</td>\n",
              "      <td>Current</td>\n",
              "      <td>n</td>\n",
              "      <td>NaN</td>\n",
              "      <td>NaN</td>\n",
              "      <td>debt_consolidation</td>\n",
              "      <td>Debt consolidation</td>\n",
              "      <td>891xx</td>\n",
              "      <td>NV</td>\n",
              "      <td>19.78</td>\n",
              "      <td>0</td>\n",
              "      <td>1985-09-01</td>\n",
              "      <td>0</td>\n",
              "      <td>NaN</td>\n",
              "      <td>110.0</td>\n",
              "      <td>8</td>\n",
              "      <td>1</td>\n",
              "      <td>38031</td>\n",
              "      <td>55.4%</td>\n",
              "      <td>25</td>\n",
              "      <td>w</td>\n",
              "      <td>32853.75</td>\n",
              "      <td>32853.75</td>\n",
              "      <td>3908.14</td>\n",
              "      <td>3908.14</td>\n",
              "      <td>2146.25</td>\n",
              "      <td>1761.89</td>\n",
              "      <td>0.0</td>\n",
              "      <td>0.0</td>\n",
              "      <td>0.0</td>\n",
              "      <td>2018-12-01</td>\n",
              "      <td>791.53</td>\n",
              "      <td>2019-01-01</td>\n",
              "      <td>2018-12-01</td>\n",
              "      <td>0</td>\n",
              "      <td>NaN</td>\n",
              "      <td>1</td>\n",
              "      <td>Individual</td>\n",
              "      <td>NaN</td>\n",
              "      <td>NaN</td>\n",
              "      <td>NaN</td>\n",
              "      <td>0</td>\n",
              "      <td>0</td>\n",
              "      <td>470439</td>\n",
              "      <td>0</td>\n",
              "      <td>1</td>\n",
              "      <td>1</td>\n",
              "      <td>1</td>\n",
              "      <td>12.0</td>\n",
              "      <td>14386</td>\n",
              "      <td>72.0</td>\n",
              "      <td>2</td>\n",
              "      <td>2</td>\n",
              "      <td>16337</td>\n",
              "      <td>59.0</td>\n",
              "      <td>68700</td>\n",
              "      <td>1</td>\n",
              "      <td>2</td>\n",
              "      <td>3</td>\n",
              "      <td>5</td>\n",
              "      <td>58805.0</td>\n",
              "      <td>23986.0</td>\n",
              "      <td>59.8</td>\n",
              "      <td>0</td>\n",
              "      <td>0</td>\n",
              "      <td>172.0</td>\n",
              "      <td>394</td>\n",
              "      <td>9</td>\n",
              "      <td>9</td>\n",
              "      <td>2</td>\n",
              "      <td>9.0</td>\n",
              "      <td>NaN</td>\n",
              "      <td>12.0</td>\n",
              "      <td>NaN</td>\n",
              "      <td>0</td>\n",
              "      <td>4</td>\n",
              "      <td>5</td>\n",
              "      <td>5</td>\n",
              "      <td>9</td>\n",
              "      <td>10</td>\n",
              "      <td>6</td>\n",
              "      <td>13</td>\n",
              "      <td>5</td>\n",
              "      <td>8</td>\n",
              "      <td>0.0</td>\n",
              "      <td>0</td>\n",
              "      <td>0</td>\n",
              "      <td>5</td>\n",
              "      <td>100.0</td>\n",
              "      <td>40.0</td>\n",
              "      <td>1</td>\n",
              "      <td>0</td>\n",
              "      <td>512800</td>\n",
              "      <td>52417</td>\n",
              "      <td>59700</td>\n",
              "      <td>20000</td>\n",
              "      <td>NaN</td>\n",
              "      <td>NaN</td>\n",
              "      <td>NaN</td>\n",
              "      <td>NaN</td>\n",
              "      <td>NaN</td>\n",
              "      <td>NaN</td>\n",
              "      <td>NaN</td>\n",
              "      <td>NaN</td>\n",
              "      <td>NaN</td>\n",
              "      <td>NaN</td>\n",
              "      <td>NaN</td>\n",
              "      <td>N</td>\n",
              "      <td>NaN</td>\n",
              "      <td>NaN</td>\n",
              "      <td>NaN</td>\n",
              "      <td>NaN</td>\n",
              "      <td>NaN</td>\n",
              "      <td>NaN</td>\n",
              "      <td>NaN</td>\n",
              "      <td>NaN</td>\n",
              "      <td>NaN</td>\n",
              "      <td>NaN</td>\n",
              "      <td>NaN</td>\n",
              "      <td>NaN</td>\n",
              "      <td>NaN</td>\n",
              "      <td>NaN</td>\n",
              "      <td>Cash</td>\n",
              "      <td>N</td>\n",
              "      <td>NaN</td>\n",
              "      <td>NaN</td>\n",
              "      <td>NaN</td>\n",
              "      <td>NaN</td>\n",
              "      <td>NaN</td>\n",
              "      <td>NaN</td>\n",
              "      <td>False</td>\n",
              "      <td>2018</td>\n",
              "      <td>7</td>\n",
              "    </tr>\n",
              "    <tr>\n",
              "      <th>28526</th>\n",
              "      <td>NaN</td>\n",
              "      <td>NaN</td>\n",
              "      <td>30800</td>\n",
              "      <td>30800</td>\n",
              "      <td>30800</td>\n",
              "      <td>60 months</td>\n",
              "      <td>17.97</td>\n",
              "      <td>781.62</td>\n",
              "      <td>D</td>\n",
              "      <td>D1</td>\n",
              "      <td>Principal</td>\n",
              "      <td>6 years</td>\n",
              "      <td>MORTGAGE</td>\n",
              "      <td>104000.0</td>\n",
              "      <td>Source Verified</td>\n",
              "      <td>2018-09-01</td>\n",
              "      <td>Current</td>\n",
              "      <td>n</td>\n",
              "      <td>NaN</td>\n",
              "      <td>NaN</td>\n",
              "      <td>debt_consolidation</td>\n",
              "      <td>Debt consolidation</td>\n",
              "      <td>752xx</td>\n",
              "      <td>TX</td>\n",
              "      <td>11.04</td>\n",
              "      <td>0</td>\n",
              "      <td>2002-09-01</td>\n",
              "      <td>0</td>\n",
              "      <td>NaN</td>\n",
              "      <td>NaN</td>\n",
              "      <td>16</td>\n",
              "      <td>0</td>\n",
              "      <td>38803</td>\n",
              "      <td>54.8%</td>\n",
              "      <td>35</td>\n",
              "      <td>w</td>\n",
              "      <td>29824.36</td>\n",
              "      <td>29824.36</td>\n",
              "      <td>2437.11</td>\n",
              "      <td>2437.11</td>\n",
              "      <td>975.64</td>\n",
              "      <td>1461.47</td>\n",
              "      <td>0.0</td>\n",
              "      <td>0.0</td>\n",
              "      <td>0.0</td>\n",
              "      <td>2018-12-01</td>\n",
              "      <td>781.62</td>\n",
              "      <td>2019-01-01</td>\n",
              "      <td>2018-12-01</td>\n",
              "      <td>0</td>\n",
              "      <td>NaN</td>\n",
              "      <td>1</td>\n",
              "      <td>Individual</td>\n",
              "      <td>NaN</td>\n",
              "      <td>NaN</td>\n",
              "      <td>NaN</td>\n",
              "      <td>0</td>\n",
              "      <td>9313</td>\n",
              "      <td>285280</td>\n",
              "      <td>1</td>\n",
              "      <td>3</td>\n",
              "      <td>0</td>\n",
              "      <td>3</td>\n",
              "      <td>16.0</td>\n",
              "      <td>58773</td>\n",
              "      <td>45.0</td>\n",
              "      <td>2</td>\n",
              "      <td>3</td>\n",
              "      <td>14450</td>\n",
              "      <td>52.0</td>\n",
              "      <td>70800</td>\n",
              "      <td>3</td>\n",
              "      <td>1</td>\n",
              "      <td>0</td>\n",
              "      <td>7</td>\n",
              "      <td>17830.0</td>\n",
              "      <td>17522.0</td>\n",
              "      <td>66.6</td>\n",
              "      <td>0</td>\n",
              "      <td>0</td>\n",
              "      <td>169.0</td>\n",
              "      <td>192</td>\n",
              "      <td>4</td>\n",
              "      <td>4</td>\n",
              "      <td>3</td>\n",
              "      <td>11.0</td>\n",
              "      <td>NaN</td>\n",
              "      <td>13.0</td>\n",
              "      <td>NaN</td>\n",
              "      <td>0</td>\n",
              "      <td>7</td>\n",
              "      <td>10</td>\n",
              "      <td>7</td>\n",
              "      <td>11</td>\n",
              "      <td>11</td>\n",
              "      <td>12</td>\n",
              "      <td>21</td>\n",
              "      <td>10</td>\n",
              "      <td>16</td>\n",
              "      <td>0.0</td>\n",
              "      <td>0</td>\n",
              "      <td>0</td>\n",
              "      <td>3</td>\n",
              "      <td>100.0</td>\n",
              "      <td>42.9</td>\n",
              "      <td>0</td>\n",
              "      <td>0</td>\n",
              "      <td>330032</td>\n",
              "      <td>97576</td>\n",
              "      <td>52500</td>\n",
              "      <td>69232</td>\n",
              "      <td>NaN</td>\n",
              "      <td>NaN</td>\n",
              "      <td>NaN</td>\n",
              "      <td>NaN</td>\n",
              "      <td>NaN</td>\n",
              "      <td>NaN</td>\n",
              "      <td>NaN</td>\n",
              "      <td>NaN</td>\n",
              "      <td>NaN</td>\n",
              "      <td>NaN</td>\n",
              "      <td>NaN</td>\n",
              "      <td>N</td>\n",
              "      <td>NaN</td>\n",
              "      <td>NaN</td>\n",
              "      <td>NaN</td>\n",
              "      <td>NaN</td>\n",
              "      <td>NaN</td>\n",
              "      <td>NaN</td>\n",
              "      <td>NaN</td>\n",
              "      <td>NaN</td>\n",
              "      <td>NaN</td>\n",
              "      <td>NaN</td>\n",
              "      <td>NaN</td>\n",
              "      <td>NaN</td>\n",
              "      <td>NaN</td>\n",
              "      <td>NaN</td>\n",
              "      <td>Cash</td>\n",
              "      <td>N</td>\n",
              "      <td>NaN</td>\n",
              "      <td>NaN</td>\n",
              "      <td>NaN</td>\n",
              "      <td>NaN</td>\n",
              "      <td>NaN</td>\n",
              "      <td>NaN</td>\n",
              "      <td>False</td>\n",
              "      <td>2018</td>\n",
              "      <td>9</td>\n",
              "    </tr>\n",
              "  </tbody>\n",
              "</table>\n",
              "</div>"
            ],
            "text/plain": [
              "        id  member_id  loan_amnt  funded_amnt  funded_amnt_inv        term  \\\n",
              "43201  NaN        NaN      36000        36000            36000   60 months   \n",
              "49304  NaN        NaN       5900         5900             5900   36 months   \n",
              "95252  NaN        NaN      25000        25000            25000   60 months   \n",
              "104170 NaN        NaN      35000        35000            35000   60 months   \n",
              "28526  NaN        NaN      30800        30800            30800   60 months   \n",
              "\n",
              "        int_rate  installment grade sub_grade                      emp_title  \\\n",
              "43201      13.56       829.47     C        C1  Hearing Instrument Specialist   \n",
              "49304      27.27       241.73     E        E5                   Tax Repairer   \n",
              "95252      15.02       595.02     C        C3     Juvenile Probation Officer   \n",
              "104170     12.73       791.53     B        B5                         Unkown   \n",
              "28526      17.97       781.62     D        D1                      Principal   \n",
              "\n",
              "       emp_length home_ownership  annual_inc verification_status    issue_d  \\\n",
              "43201      1 year       MORTGAGE     74500.0     Source Verified 2018-08-01   \n",
              "49304   10+ years            OWN     98200.0        Not Verified 2018-08-01   \n",
              "95252     3 years       MORTGAGE     72000.0            Verified 2018-07-01   \n",
              "104170        NaN            OWN    110559.0            Verified 2018-07-01   \n",
              "28526     6 years       MORTGAGE    104000.0     Source Verified 2018-09-01   \n",
              "\n",
              "       loan_status pymnt_plan  url  desc             purpose  \\\n",
              "43201      Current          n  NaN   NaN         credit_card   \n",
              "49304      Current          n  NaN   NaN    home_improvement   \n",
              "95252      Current          n  NaN   NaN  debt_consolidation   \n",
              "104170     Current          n  NaN   NaN  debt_consolidation   \n",
              "28526      Current          n  NaN   NaN  debt_consolidation   \n",
              "\n",
              "                          title zip_code addr_state    dti  delinq_2yrs  \\\n",
              "43201   Credit card refinancing    530xx         WI  15.85            0   \n",
              "49304          Home improvement    925xx         CA  27.07            0   \n",
              "95252        Debt consolidation    765xx         TX  33.23            0   \n",
              "104170       Debt consolidation    891xx         NV  19.78            0   \n",
              "28526        Debt consolidation    752xx         TX  11.04            0   \n",
              "\n",
              "       earliest_cr_line  inq_last_6mths  mths_since_last_delinq  \\\n",
              "43201        2005-01-01               1                    48.0   \n",
              "49304        2004-05-01               0                    77.0   \n",
              "95252        2005-04-01               0                     NaN   \n",
              "104170       1985-09-01               0                     NaN   \n",
              "28526        2002-09-01               0                     NaN   \n",
              "\n",
              "        mths_since_last_record  open_acc  pub_rec  revol_bal revol_util  \\\n",
              "43201                      NaN        11        0      19657      65.1%   \n",
              "49304                     82.0        10        1       6593        37%   \n",
              "95252                     87.0        10        1      22898        79%   \n",
              "104170                   110.0         8        1      38031      55.4%   \n",
              "28526                      NaN        16        0      38803      54.8%   \n",
              "\n",
              "        total_acc initial_list_status  out_prncp  out_prncp_inv  total_pymnt  \\\n",
              "43201          26                   w   34717.61       34717.61      2461.29   \n",
              "49304          14                   f    5454.49        5454.49       949.04   \n",
              "95252          25                   w   22917.07       22917.07      3462.62   \n",
              "104170         25                   w   32853.75       32853.75      3908.14   \n",
              "28526          35                   w   29824.36       29824.36      2437.11   \n",
              "\n",
              "        total_pymnt_inv  total_rec_prncp  total_rec_int  total_rec_late_fee  \\\n",
              "43201           2461.29          1282.39        1178.90                 0.0   \n",
              "49304            949.04           445.51         503.53                 0.0   \n",
              "95252           3462.62          2082.93        1379.69                 0.0   \n",
              "104170          3908.14          2146.25        1761.89                 0.0   \n",
              "28526           2437.11           975.64        1461.47                 0.0   \n",
              "\n",
              "        recoveries  collection_recovery_fee last_pymnt_d  last_pymnt_amnt  \\\n",
              "43201          0.0                      0.0   2018-12-01           829.47   \n",
              "49304          0.0                      0.0   2018-12-01           241.73   \n",
              "95252          0.0                      0.0   2018-12-01           595.02   \n",
              "104170         0.0                      0.0   2018-12-01           791.53   \n",
              "28526          0.0                      0.0   2018-12-01           781.62   \n",
              "\n",
              "       next_pymnt_d last_credit_pull_d  collections_12_mths_ex_med  \\\n",
              "43201    2019-01-01         2018-12-01                           0   \n",
              "49304    2019-01-01         2018-12-01                           0   \n",
              "95252    2019-01-01         2018-12-01                           0   \n",
              "104170   2019-01-01         2018-12-01                           0   \n",
              "28526    2019-01-01         2018-12-01                           0   \n",
              "\n",
              "        mths_since_last_major_derog  policy_code application_type  \\\n",
              "43201                          48.0            1        Joint App   \n",
              "49304                           NaN            1       Individual   \n",
              "95252                           NaN            1       Individual   \n",
              "104170                          NaN            1       Individual   \n",
              "28526                           NaN            1       Individual   \n",
              "\n",
              "        annual_inc_joint  dti_joint verification_status_joint  acc_now_delinq  \\\n",
              "43201           202500.0       8.36           Source Verified               0   \n",
              "49304                NaN        NaN                       NaN               0   \n",
              "95252                NaN        NaN                       NaN               0   \n",
              "104170               NaN        NaN                       NaN               0   \n",
              "28526                NaN        NaN                       NaN               0   \n",
              "\n",
              "        tot_coll_amt  tot_cur_bal  open_acc_6m  open_act_il  open_il_12m  \\\n",
              "43201              0        42912            0            1            0   \n",
              "49304              0        60668            1            3            1   \n",
              "95252              0       155053            2            3            2   \n",
              "104170             0       470439            0            1            1   \n",
              "28526           9313       285280            1            3            0   \n",
              "\n",
              "        open_il_24m  mths_since_rcnt_il  total_bal_il  il_util  open_rv_12m  \\\n",
              "43201             1                17.0         23017     80.0            0   \n",
              "49304             1                 1.0         54075     25.0            1   \n",
              "95252             3                 6.0         50889     64.0            2   \n",
              "104170            1                12.0         14386     72.0            2   \n",
              "28526             3                16.0         58773     45.0            2   \n",
              "\n",
              "        open_rv_24m  max_bal_bc  all_util  total_rev_hi_lim  inq_fi  \\\n",
              "43201             0        6657      73.0             30200       0   \n",
              "49304             2        1853      28.0             17800       2   \n",
              "95252             3         587      68.0             29000       0   \n",
              "104170            2       16337      59.0             68700       1   \n",
              "28526             3       14450      52.0             70800       3   \n",
              "\n",
              "        total_cu_tl  inq_last_12m  acc_open_past_24mths  avg_cur_bal  \\\n",
              "43201            10             3                     2       3901.0   \n",
              "49304             0             3                     3       6741.0   \n",
              "95252             2             1                     7      15505.0   \n",
              "104170            2             3                     5      58805.0   \n",
              "28526             1             0                     7      17830.0   \n",
              "\n",
              "        bc_open_to_buy  bc_util  chargeoff_within_12_mths  delinq_amnt  \\\n",
              "43201           8335.0     65.6                         0            0   \n",
              "49304           6098.0     44.6                         0            0   \n",
              "95252            249.0     75.1                         0            0   \n",
              "104170         23986.0     59.8                         0            0   \n",
              "28526          17522.0     66.6                         0            0   \n",
              "\n",
              "        mo_sin_old_il_acct  mo_sin_old_rev_tl_op  mo_sin_rcnt_rev_tl_op  \\\n",
              "43201                160.0                   163                     32   \n",
              "49304                113.0                    80                     12   \n",
              "95252                 67.0                   159                      0   \n",
              "104170               172.0                   394                      9   \n",
              "28526                169.0                   192                      4   \n",
              "\n",
              "        mo_sin_rcnt_tl  mort_acc  mths_since_recent_bc  \\\n",
              "43201               17         3                  32.0   \n",
              "49304                1         1                  12.0   \n",
              "95252                0         1                  50.0   \n",
              "104170               9         2                   9.0   \n",
              "28526                4         3                  11.0   \n",
              "\n",
              "        mths_since_recent_bc_dlq  mths_since_recent_inq  \\\n",
              "43201                        NaN                    0.0   \n",
              "49304                        NaN                    1.0   \n",
              "95252                        NaN                   12.0   \n",
              "104170                       NaN                   12.0   \n",
              "28526                        NaN                   13.0   \n",
              "\n",
              "        mths_since_recent_revol_delinq  num_accts_ever_120_pd  num_actv_bc_tl  \\\n",
              "43201                             48.0                      2               6   \n",
              "49304                              NaN                      0               4   \n",
              "95252                              NaN                      0               2   \n",
              "104170                             NaN                      0               4   \n",
              "28526                              NaN                      0               7   \n",
              "\n",
              "        num_actv_rev_tl  num_bc_sats  num_bc_tl  num_il_tl  num_op_rev_tl  \\\n",
              "43201                 8            6          6          9              9   \n",
              "49304                 5            5          5          5              7   \n",
              "95252                 5            2          4         13              6   \n",
              "104170                5            5          9         10              6   \n",
              "28526                10            7         11         11             12   \n",
              "\n",
              "        num_rev_accts  num_rev_tl_bal_gt_0  num_sats  num_tl_120dpd_2m  \\\n",
              "43201              12                    8        11               0.0   \n",
              "49304               8                    5        10               0.0   \n",
              "95252              11                    5        10               0.0   \n",
              "104170             13                    5         8               0.0   \n",
              "28526              21                   10        16               0.0   \n",
              "\n",
              "        num_tl_30dpd  num_tl_90g_dpd_24m  num_tl_op_past_12m  pct_tl_nvr_dlq  \\\n",
              "43201              0                   0                   0            84.6   \n",
              "49304              0                   0                   2            92.3   \n",
              "95252              0                   0                   4           100.0   \n",
              "104170             0                   0                   5           100.0   \n",
              "28526              0                   0                   3           100.0   \n",
              "\n",
              "        percent_bc_gt_75  pub_rec_bankruptcies  tax_liens  tot_hi_cred_lim  \\\n",
              "43201               16.7                     0          0            59215   \n",
              "49304               25.0                     1          0           107064   \n",
              "95252               50.0                     1          0           194081   \n",
              "104170              40.0                     1          0           512800   \n",
              "28526               42.9                     0          0           330032   \n",
              "\n",
              "        total_bal_ex_mort  total_bc_limit  total_il_high_credit_limit  \\\n",
              "43201               42912           24200                       28777   \n",
              "49304               60668           11000                       89264   \n",
              "95252               73787            1000                       80081   \n",
              "104170              52417           59700                       20000   \n",
              "28526               97576           52500                       69232   \n",
              "\n",
              "        revol_bal_joint sec_app_earliest_cr_line  sec_app_inq_last_6mths  \\\n",
              "43201           36449.0                 Sep-2004                     0.0   \n",
              "49304               NaN                      NaN                     NaN   \n",
              "95252               NaN                      NaN                     NaN   \n",
              "104170              NaN                      NaN                     NaN   \n",
              "28526               NaN                      NaN                     NaN   \n",
              "\n",
              "        sec_app_mort_acc  sec_app_open_acc  sec_app_revol_util  \\\n",
              "43201                5.0               7.0                76.1   \n",
              "49304                NaN               NaN                 NaN   \n",
              "95252                NaN               NaN                 NaN   \n",
              "104170               NaN               NaN                 NaN   \n",
              "28526                NaN               NaN                 NaN   \n",
              "\n",
              "        sec_app_open_act_il  sec_app_num_rev_accts  \\\n",
              "43201                   1.0                   11.0   \n",
              "49304                   NaN                    NaN   \n",
              "95252                   NaN                    NaN   \n",
              "104170                  NaN                    NaN   \n",
              "28526                   NaN                    NaN   \n",
              "\n",
              "        sec_app_chargeoff_within_12_mths  sec_app_collections_12_mths_ex_med  \\\n",
              "43201                                0.0                                 0.0   \n",
              "49304                                NaN                                 NaN   \n",
              "95252                                NaN                                 NaN   \n",
              "104170                               NaN                                 NaN   \n",
              "28526                                NaN                                 NaN   \n",
              "\n",
              "        sec_app_mths_since_last_major_derog hardship_flag hardship_type  \\\n",
              "43201                                   NaN             N           NaN   \n",
              "49304                                   NaN             N           NaN   \n",
              "95252                                   NaN             N           NaN   \n",
              "104170                                  NaN             N           NaN   \n",
              "28526                                   NaN             N           NaN   \n",
              "\n",
              "       hardship_reason hardship_status  deferral_term  hardship_amount  \\\n",
              "43201              NaN             NaN            NaN              NaN   \n",
              "49304              NaN             NaN            NaN              NaN   \n",
              "95252              NaN             NaN            NaN              NaN   \n",
              "104170             NaN             NaN            NaN              NaN   \n",
              "28526              NaN             NaN            NaN              NaN   \n",
              "\n",
              "       hardship_start_date hardship_end_date payment_plan_start_date  \\\n",
              "43201                  NaN               NaN                     NaN   \n",
              "49304                  NaN               NaN                     NaN   \n",
              "95252                  NaN               NaN                     NaN   \n",
              "104170                 NaN               NaN                     NaN   \n",
              "28526                  NaN               NaN                     NaN   \n",
              "\n",
              "        hardship_length  hardship_dpd hardship_loan_status  \\\n",
              "43201               NaN           NaN                  NaN   \n",
              "49304               NaN           NaN                  NaN   \n",
              "95252               NaN           NaN                  NaN   \n",
              "104170              NaN           NaN                  NaN   \n",
              "28526               NaN           NaN                  NaN   \n",
              "\n",
              "        orig_projected_additional_accrued_interest  \\\n",
              "43201                                          NaN   \n",
              "49304                                          NaN   \n",
              "95252                                          NaN   \n",
              "104170                                         NaN   \n",
              "28526                                          NaN   \n",
              "\n",
              "        hardship_payoff_balance_amount  hardship_last_payment_amount  \\\n",
              "43201                              NaN                           NaN   \n",
              "49304                              NaN                           NaN   \n",
              "95252                              NaN                           NaN   \n",
              "104170                             NaN                           NaN   \n",
              "28526                              NaN                           NaN   \n",
              "\n",
              "       disbursement_method debt_settlement_flag debt_settlement_flag_date  \\\n",
              "43201                 Cash                    N                       NaN   \n",
              "49304                 Cash                    N                       NaN   \n",
              "95252                 Cash                    N                       NaN   \n",
              "104170                Cash                    N                       NaN   \n",
              "28526                 Cash                    N                       NaN   \n",
              "\n",
              "       settlement_status settlement_date  settlement_amount  \\\n",
              "43201                NaN             NaN                NaN   \n",
              "49304                NaN             NaN                NaN   \n",
              "95252                NaN             NaN                NaN   \n",
              "104170               NaN             NaN                NaN   \n",
              "28526                NaN             NaN                NaN   \n",
              "\n",
              "        settlement_percentage  settlement_term  emp_title_manager  issue_year  \\\n",
              "43201                     NaN              NaN              False        2018   \n",
              "49304                     NaN              NaN              False        2018   \n",
              "95252                     NaN              NaN              False        2018   \n",
              "104170                    NaN              NaN              False        2018   \n",
              "28526                     NaN              NaN              False        2018   \n",
              "\n",
              "        issue_month  \n",
              "43201             8  \n",
              "49304             8  \n",
              "95252             7  \n",
              "104170            7  \n",
              "28526             9  "
            ]
          },
          "metadata": {
            "tags": []
          },
          "execution_count": 59
        }
      ]
    },
    {
      "metadata": {
        "id": "jtmEQjOv9FNo",
        "colab_type": "text"
      },
      "cell_type": "markdown",
      "source": [
        "# ASSIGNMENT"
      ]
    },
    {
      "metadata": {
        "id": "0r-41N_vwneG",
        "colab_type": "text"
      },
      "cell_type": "markdown",
      "source": [
        "- Replicate the lesson code.\n",
        "\n",
        "- Convert the `term` column from string to integer.\n",
        "\n",
        "- Make a column named `loan_status_is_great`. It should contain the integer 1 if `loan_status` is \"Current\" or \"Fully Paid.\" Else it should contain the integer 0.\n",
        "\n",
        "- Make `last_pymnt_d_month` and `last_pymnt_d_year` columns.\n",
        "\n"
      ]
    },
    {
      "metadata": {
        "id": "rNxDh9nHLGtG",
        "colab_type": "code",
        "colab": {
          "base_uri": "https://localhost:8080/",
          "height": 119
        },
        "outputId": "ce022c15-7d89-4fb1-c8e0-520b96cb300c"
      },
      "cell_type": "code",
      "source": [
        "def conv_term(term):\n",
        "  return int(term.strip('months'))\n",
        "\n",
        "example = df['term'][0]\n",
        "\n",
        "example\n",
        "conv_term(example)\n",
        "\n",
        "df['term'] = df['term'].apply(conv_term)\n",
        "\n",
        "df['term'].sample(5)\n"
      ],
      "execution_count": 65,
      "outputs": [
        {
          "output_type": "execute_result",
          "data": {
            "text/plain": [
              "55955     36\n",
              "4391      36\n",
              "114242    36\n",
              "65142     36\n",
              "51430     36\n",
              "Name: term, dtype: int64"
            ]
          },
          "metadata": {
            "tags": []
          },
          "execution_count": 65
        }
      ]
    },
    {
      "metadata": {
        "id": "MUu6WcB6NX6-",
        "colab_type": "code",
        "colab": {
          "base_uri": "https://localhost:8080/",
          "height": 136
        },
        "outputId": "f4b716d0-13ae-41b0-d058-d07ae3fb7e67"
      },
      "cell_type": "code",
      "source": [
        "df['loan_status'].value_counts()"
      ],
      "execution_count": 66,
      "outputs": [
        {
          "output_type": "execute_result",
          "data": {
            "text/plain": [
              "Current               121082\n",
              "Fully Paid              4786\n",
              "In Grace Period          948\n",
              "Late (31-120 days)       920\n",
              "Late (16-30 days)        348\n",
              "Charged Off              110\n",
              "Name: loan_status, dtype: int64"
            ]
          },
          "metadata": {
            "tags": []
          },
          "execution_count": 66
        }
      ]
    },
    {
      "metadata": {
        "id": "oHcrqCDNNf0I",
        "colab_type": "code",
        "colab": {}
      },
      "cell_type": "code",
      "source": [
        "def loan_status_is_great(status):\n",
        "  \n",
        "  great_status=['Current','Fully Paid']\n",
        "  if status in (great_status):\n",
        "    return 1\n",
        "  else:\n",
        "    return 0\n",
        "\n",
        "df['loan_status_is_great'] = df['loan_status'].apply(loan_status_is_great)\n",
        "\n",
        "  "
      ],
      "execution_count": 0,
      "outputs": []
    },
    {
      "metadata": {
        "id": "vl9DDQ17PBng",
        "colab_type": "code",
        "colab": {}
      },
      "cell_type": "code",
      "source": [
        "df.loc[df['loan_status_is_great']==0,['loan_status_is_great','loan_status']].sample(20)"
      ],
      "execution_count": 0,
      "outputs": []
    },
    {
      "metadata": {
        "id": "OBZqGxKqRSt7",
        "colab_type": "code",
        "colab": {
          "base_uri": "https://localhost:8080/",
          "height": 374
        },
        "outputId": "23a569e6-4cd1-43ee-c687-9f902f20d294"
      },
      "cell_type": "code",
      "source": [
        "df['last_pymnt_d'].sample(20)"
      ],
      "execution_count": 85,
      "outputs": [
        {
          "output_type": "execute_result",
          "data": {
            "text/plain": [
              "49503    2018-12-01\n",
              "115418   2018-12-01\n",
              "46596    2018-11-01\n",
              "127657   2018-12-01\n",
              "73536    2018-12-01\n",
              "2449     2018-12-01\n",
              "83395    2018-12-01\n",
              "112856   2018-12-01\n",
              "23360    2018-12-01\n",
              "17695    2018-12-01\n",
              "86591    2018-12-01\n",
              "80361    2018-12-01\n",
              "48353    2018-11-01\n",
              "91889    2018-12-01\n",
              "52459    2018-12-01\n",
              "22213    2018-12-01\n",
              "74498    2018-12-01\n",
              "107422   2018-12-01\n",
              "12631    2018-11-01\n",
              "77971    2018-12-01\n",
              "Name: last_pymnt_d, dtype: datetime64[ns]"
            ]
          },
          "metadata": {
            "tags": []
          },
          "execution_count": 85
        }
      ]
    },
    {
      "metadata": {
        "id": "_b1lu0UVRvGk",
        "colab_type": "code",
        "colab": {}
      },
      "cell_type": "code",
      "source": [
        "df['last_pymnt_d']= pd.to_datetime(df['last_pymnt_d'],infer_datetime_format=True)"
      ],
      "execution_count": 0,
      "outputs": []
    },
    {
      "metadata": {
        "id": "MW63FdtWR797",
        "colab_type": "code",
        "colab": {}
      },
      "cell_type": "code",
      "source": [
        "df['last_pymnt_d_year'] = df['last_pymnt_d'].dt.year\n",
        "df['last_pymnt_d_month'] = df['last_pymnt_d'].dt.month\n"
      ],
      "execution_count": 0,
      "outputs": []
    },
    {
      "metadata": {
        "id": "9sK7YpwqSR9m",
        "colab_type": "code",
        "colab": {
          "base_uri": "https://localhost:8080/",
          "height": 136
        },
        "outputId": "7e64006a-83e7-49cd-e2f2-d2514d6dc40d"
      },
      "cell_type": "code",
      "source": [
        "df['last_pymnt_d_month'].value_counts()"
      ],
      "execution_count": 89,
      "outputs": [
        {
          "output_type": "execute_result",
          "data": {
            "text/plain": [
              "12.0    116465\n",
              "11.0      7793\n",
              "10.0      1594\n",
              "9.0       1136\n",
              "8.0        838\n",
              "7.0        222\n",
              "Name: last_pymnt_d_month, dtype: int64"
            ]
          },
          "metadata": {
            "tags": []
          },
          "execution_count": 89
        }
      ]
    },
    {
      "metadata": {
        "id": "mkXZP34V2tXI",
        "colab_type": "text"
      },
      "cell_type": "markdown",
      "source": [
        "# STRETCH OPTIONS\n",
        "\n",
        "You can do more with the LendingClub or Instacart datasets.\n",
        "\n",
        "LendingClub options:\n",
        "- There's one other column in the dataframe with percent signs. Remove them and convert to floats. You'll need to handle missing values.\n",
        "- Modify the `emp_title` column to replace titles with 'Other' if the title is not in the top 20. \n",
        "- Process the dataframe so that `ready_for_sklearn(df)` returns `True`. You can drop columns, or select the subset of numeric columns with no missing values. (Or you can try automating the process to handle missing values and convert objects to numbers!)\n",
        "- Take initiatve and work on your own ideas!\n",
        "\n",
        "Instacart options:\n",
        "- Read [Instacart Market Basket Analysis, Winner's Interview: 2nd place, Kazuki Onodera](http://blog.kaggle.com/2017/09/21/instacart-market-basket-analysis-winners-interview-2nd-place-kazuki-onodera/), especially the **Feature Engineering** section. (Can you choose one feature from his bulleted lists, and try to engineer it with pandas code?)\n",
        "- Read and replicate parts of [Simple Exploration Notebook - Instacart](https://www.kaggle.com/sudalairajkumar/simple-exploration-notebook-instacart). (It's the Python Notebook with the most upvotes for this Kaggle competition.)\n",
        "- Take initiative and work on your own ideas!"
      ]
    },
    {
      "metadata": {
        "id": "0_7PXF7lpEXg",
        "colab_type": "text"
      },
      "cell_type": "markdown",
      "source": [
        "You can uncomment and run the cells below to re-download and extract the Instacart data"
      ]
    },
    {
      "metadata": {
        "id": "eqADJbAipBmM",
        "colab_type": "code",
        "colab": {}
      },
      "cell_type": "code",
      "source": [
        "# !wget https://s3.amazonaws.com/instacart-datasets/instacart_online_grocery_shopping_2017_05_01.tar.gz"
      ],
      "execution_count": 0,
      "outputs": []
    },
    {
      "metadata": {
        "id": "zZm3Tk9gpGxk",
        "colab_type": "code",
        "colab": {}
      },
      "cell_type": "code",
      "source": [
        "# !tar --gunzip --extract --verbose --file=instacart_online_grocery_shopping_2017_05_01.tar.gz"
      ],
      "execution_count": 0,
      "outputs": []
    },
    {
      "metadata": {
        "id": "llt7qLvWpIsL",
        "colab_type": "code",
        "colab": {}
      },
      "cell_type": "code",
      "source": [
        "# %cd instacart_2017_05_01"
      ],
      "execution_count": 0,
      "outputs": []
    }
  ]
}