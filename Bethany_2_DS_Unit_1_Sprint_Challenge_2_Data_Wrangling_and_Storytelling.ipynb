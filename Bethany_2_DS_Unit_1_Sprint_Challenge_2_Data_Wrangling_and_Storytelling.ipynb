{
  "nbformat": 4,
  "nbformat_minor": 0,
  "metadata": {
    "colab": {
      "name": "Bethany 2 DS_Unit_1_Sprint_Challenge_2_Data_Wrangling_and_Storytelling.ipynb",
      "version": "0.3.2",
      "provenance": [],
      "collapsed_sections": [],
      "include_colab_link": true
    },
    "language_info": {
      "codemirror_mode": {
        "name": "ipython",
        "version": 3
      },
      "file_extension": ".py",
      "mimetype": "text/x-python",
      "name": "python",
      "nbconvert_exporter": "python",
      "pygments_lexer": "ipython3",
      "version": "3.7.1"
    },
    "kernelspec": {
      "display_name": "Python 3",
      "language": "python",
      "name": "python3"
    }
  },
  "cells": [
    {
      "cell_type": "markdown",
      "metadata": {
        "id": "view-in-github",
        "colab_type": "text"
      },
      "source": [
        "<a href=\"https://colab.research.google.com/github/Ravenha/DS-Unit-1-Sprint-2-Data-Wrangling-and-Storytelling/blob/master/Bethany_2_DS_Unit_1_Sprint_Challenge_2_Data_Wrangling_and_Storytelling.ipynb\" target=\"_parent\"><img src=\"https://colab.research.google.com/assets/colab-badge.svg\" alt=\"Open In Colab\"/></a>"
      ]
    },
    {
      "cell_type": "markdown",
      "metadata": {
        "colab_type": "text",
        "id": "4yMHi_PX9hEz"
      },
      "source": [
        "# Data Science Unit 1 Sprint Challenge 2\n",
        "\n",
        "## Data Wrangling and Storytelling\n",
        "\n",
        "Taming data from its raw form into informative insights and stories."
      ]
    },
    {
      "cell_type": "markdown",
      "metadata": {
        "id": "9wIvtOss9H_i",
        "colab_type": "text"
      },
      "source": [
        "## Data Wrangling\n",
        "\n",
        "In this Sprint Challenge you will first \"wrangle\" some data from [Gapminder](https://www.gapminder.org/about-gapminder/), a Swedish non-profit co-founded by Hans Rosling. \"Gapminder produces free teaching resources making the world understandable based on reliable statistics.\"\n",
        "- [Cell phones (total), by country and year](https://raw.githubusercontent.com/open-numbers/ddf--gapminder--systema_globalis/master/ddf--datapoints--cell_phones_total--by--geo--time.csv)\n",
        "- [Population (total), by country and year](https://raw.githubusercontent.com/open-numbers/ddf--gapminder--systema_globalis/master/ddf--datapoints--population_total--by--geo--time.csv)\n",
        "- [Geo country codes](https://github.com/open-numbers/ddf--gapminder--systema_globalis/blob/master/ddf--entities--geo--country.csv)\n",
        "\n",
        "These two links have everything you need to successfully complete the first part of this sprint challenge.\n",
        "- [Pandas documentation: Working with Text Data](https://pandas.pydata.org/pandas-docs/stable/text.html) (one question)\n",
        "- [Pandas Cheat Sheet](https://github.com/pandas-dev/pandas/blob/master/doc/cheatsheet/Pandas_Cheat_Sheet.pdf) (everything else)"
      ]
    },
    {
      "cell_type": "markdown",
      "metadata": {
        "colab_type": "text",
        "id": "wWEU2GemX68A"
      },
      "source": [
        "### Part 0. Load data\n",
        "\n",
        "You don't need to add or change anything here. Just run this cell and it loads the data for you, into three dataframes."
      ]
    },
    {
      "cell_type": "code",
      "metadata": {
        "colab_type": "code",
        "id": "bxKtSi5sRQOl",
        "colab": {}
      },
      "source": [
        "import pandas as pd\n",
        "\n",
        "cell_phones = pd.read_csv('https://raw.githubusercontent.com/open-numbers/ddf--gapminder--systema_globalis/master/ddf--datapoints--cell_phones_total--by--geo--time.csv')\n",
        "\n",
        "population = pd.read_csv('https://raw.githubusercontent.com/open-numbers/ddf--gapminder--systema_globalis/master/ddf--datapoints--population_total--by--geo--time.csv')\n",
        "\n",
        "geo_country_codes = (pd.read_csv('https://raw.githubusercontent.com/open-numbers/ddf--gapminder--systema_globalis/master/ddf--entities--geo--country.csv')\n",
        "                       .rename(columns={'country': 'geo', 'name': 'country'}))"
      ],
      "execution_count": 0,
      "outputs": []
    },
    {
      "cell_type": "markdown",
      "metadata": {
        "colab_type": "text",
        "id": "AZmVTeCsX9RC"
      },
      "source": [
        "### Part 1. Join data"
      ]
    },
    {
      "cell_type": "markdown",
      "metadata": {
        "colab_type": "text",
        "id": "GLzX58u4SfEy"
      },
      "source": [
        "First, join the `cell_phones` and `population` dataframes (with an inner join on `geo` and `time`).\n",
        "\n",
        "The resulting dataframe's shape should be: (8590, 4)"
      ]
    },
    {
      "cell_type": "code",
      "metadata": {
        "id": "o_5gH_lZAm7t",
        "colab_type": "code",
        "outputId": "3baa188a-b9d2-4398-86c0-694c648345aa",
        "colab": {
          "base_uri": "https://localhost:8080/",
          "height": 198
        }
      },
      "source": [
        "cell_phones.head()"
      ],
      "execution_count": 2,
      "outputs": [
        {
          "output_type": "execute_result",
          "data": {
            "text/html": [
              "<div>\n",
              "<style scoped>\n",
              "    .dataframe tbody tr th:only-of-type {\n",
              "        vertical-align: middle;\n",
              "    }\n",
              "\n",
              "    .dataframe tbody tr th {\n",
              "        vertical-align: top;\n",
              "    }\n",
              "\n",
              "    .dataframe thead th {\n",
              "        text-align: right;\n",
              "    }\n",
              "</style>\n",
              "<table border=\"1\" class=\"dataframe\">\n",
              "  <thead>\n",
              "    <tr style=\"text-align: right;\">\n",
              "      <th></th>\n",
              "      <th>geo</th>\n",
              "      <th>time</th>\n",
              "      <th>cell_phones_total</th>\n",
              "    </tr>\n",
              "  </thead>\n",
              "  <tbody>\n",
              "    <tr>\n",
              "      <th>0</th>\n",
              "      <td>abw</td>\n",
              "      <td>1960</td>\n",
              "      <td>0.0</td>\n",
              "    </tr>\n",
              "    <tr>\n",
              "      <th>1</th>\n",
              "      <td>abw</td>\n",
              "      <td>1965</td>\n",
              "      <td>0.0</td>\n",
              "    </tr>\n",
              "    <tr>\n",
              "      <th>2</th>\n",
              "      <td>abw</td>\n",
              "      <td>1970</td>\n",
              "      <td>0.0</td>\n",
              "    </tr>\n",
              "    <tr>\n",
              "      <th>3</th>\n",
              "      <td>abw</td>\n",
              "      <td>1975</td>\n",
              "      <td>0.0</td>\n",
              "    </tr>\n",
              "    <tr>\n",
              "      <th>4</th>\n",
              "      <td>abw</td>\n",
              "      <td>1976</td>\n",
              "      <td>0.0</td>\n",
              "    </tr>\n",
              "  </tbody>\n",
              "</table>\n",
              "</div>"
            ],
            "text/plain": [
              "   geo  time  cell_phones_total\n",
              "0  abw  1960                0.0\n",
              "1  abw  1965                0.0\n",
              "2  abw  1970                0.0\n",
              "3  abw  1975                0.0\n",
              "4  abw  1976                0.0"
            ]
          },
          "metadata": {
            "tags": []
          },
          "execution_count": 2
        }
      ]
    },
    {
      "cell_type": "code",
      "metadata": {
        "id": "20dkuYkUAquP",
        "colab_type": "code",
        "outputId": "cd0051cb-d8bb-4326-bbc0-510276655bf8",
        "colab": {
          "base_uri": "https://localhost:8080/",
          "height": 198
        }
      },
      "source": [
        "population.head()"
      ],
      "execution_count": 3,
      "outputs": [
        {
          "output_type": "execute_result",
          "data": {
            "text/html": [
              "<div>\n",
              "<style scoped>\n",
              "    .dataframe tbody tr th:only-of-type {\n",
              "        vertical-align: middle;\n",
              "    }\n",
              "\n",
              "    .dataframe tbody tr th {\n",
              "        vertical-align: top;\n",
              "    }\n",
              "\n",
              "    .dataframe thead th {\n",
              "        text-align: right;\n",
              "    }\n",
              "</style>\n",
              "<table border=\"1\" class=\"dataframe\">\n",
              "  <thead>\n",
              "    <tr style=\"text-align: right;\">\n",
              "      <th></th>\n",
              "      <th>geo</th>\n",
              "      <th>time</th>\n",
              "      <th>population_total</th>\n",
              "    </tr>\n",
              "  </thead>\n",
              "  <tbody>\n",
              "    <tr>\n",
              "      <th>0</th>\n",
              "      <td>afg</td>\n",
              "      <td>1800</td>\n",
              "      <td>3280000</td>\n",
              "    </tr>\n",
              "    <tr>\n",
              "      <th>1</th>\n",
              "      <td>afg</td>\n",
              "      <td>1801</td>\n",
              "      <td>3280000</td>\n",
              "    </tr>\n",
              "    <tr>\n",
              "      <th>2</th>\n",
              "      <td>afg</td>\n",
              "      <td>1802</td>\n",
              "      <td>3280000</td>\n",
              "    </tr>\n",
              "    <tr>\n",
              "      <th>3</th>\n",
              "      <td>afg</td>\n",
              "      <td>1803</td>\n",
              "      <td>3280000</td>\n",
              "    </tr>\n",
              "    <tr>\n",
              "      <th>4</th>\n",
              "      <td>afg</td>\n",
              "      <td>1804</td>\n",
              "      <td>3280000</td>\n",
              "    </tr>\n",
              "  </tbody>\n",
              "</table>\n",
              "</div>"
            ],
            "text/plain": [
              "   geo  time  population_total\n",
              "0  afg  1800           3280000\n",
              "1  afg  1801           3280000\n",
              "2  afg  1802           3280000\n",
              "3  afg  1803           3280000\n",
              "4  afg  1804           3280000"
            ]
          },
          "metadata": {
            "tags": []
          },
          "execution_count": 3
        }
      ]
    },
    {
      "cell_type": "code",
      "metadata": {
        "colab_type": "code",
        "id": "GVV7Hnj4SXBa",
        "outputId": "a1861062-4b05-4fa8-e1ce-f53499197d89",
        "colab": {
          "base_uri": "https://localhost:8080/",
          "height": 362
        }
      },
      "source": [
        "merged = pd.concat([population, cell_phones])\n",
        "print(merged.shape)\n",
        "merged.head()"
      ],
      "execution_count": 4,
      "outputs": [
        {
          "output_type": "stream",
          "text": [
            "(68512, 4)\n"
          ],
          "name": "stdout"
        },
        {
          "output_type": "stream",
          "text": [
            "/usr/local/lib/python3.6/dist-packages/ipykernel_launcher.py:1: FutureWarning: Sorting because non-concatenation axis is not aligned. A future version\n",
            "of pandas will change to not sort by default.\n",
            "\n",
            "To accept the future behavior, pass 'sort=False'.\n",
            "\n",
            "To retain the current behavior and silence the warning, pass 'sort=True'.\n",
            "\n",
            "  \"\"\"Entry point for launching an IPython kernel.\n"
          ],
          "name": "stderr"
        },
        {
          "output_type": "execute_result",
          "data": {
            "text/html": [
              "<div>\n",
              "<style scoped>\n",
              "    .dataframe tbody tr th:only-of-type {\n",
              "        vertical-align: middle;\n",
              "    }\n",
              "\n",
              "    .dataframe tbody tr th {\n",
              "        vertical-align: top;\n",
              "    }\n",
              "\n",
              "    .dataframe thead th {\n",
              "        text-align: right;\n",
              "    }\n",
              "</style>\n",
              "<table border=\"1\" class=\"dataframe\">\n",
              "  <thead>\n",
              "    <tr style=\"text-align: right;\">\n",
              "      <th></th>\n",
              "      <th>cell_phones_total</th>\n",
              "      <th>geo</th>\n",
              "      <th>population_total</th>\n",
              "      <th>time</th>\n",
              "    </tr>\n",
              "  </thead>\n",
              "  <tbody>\n",
              "    <tr>\n",
              "      <th>0</th>\n",
              "      <td>NaN</td>\n",
              "      <td>afg</td>\n",
              "      <td>3280000.0</td>\n",
              "      <td>1800</td>\n",
              "    </tr>\n",
              "    <tr>\n",
              "      <th>1</th>\n",
              "      <td>NaN</td>\n",
              "      <td>afg</td>\n",
              "      <td>3280000.0</td>\n",
              "      <td>1801</td>\n",
              "    </tr>\n",
              "    <tr>\n",
              "      <th>2</th>\n",
              "      <td>NaN</td>\n",
              "      <td>afg</td>\n",
              "      <td>3280000.0</td>\n",
              "      <td>1802</td>\n",
              "    </tr>\n",
              "    <tr>\n",
              "      <th>3</th>\n",
              "      <td>NaN</td>\n",
              "      <td>afg</td>\n",
              "      <td>3280000.0</td>\n",
              "      <td>1803</td>\n",
              "    </tr>\n",
              "    <tr>\n",
              "      <th>4</th>\n",
              "      <td>NaN</td>\n",
              "      <td>afg</td>\n",
              "      <td>3280000.0</td>\n",
              "      <td>1804</td>\n",
              "    </tr>\n",
              "  </tbody>\n",
              "</table>\n",
              "</div>"
            ],
            "text/plain": [
              "   cell_phones_total  geo  population_total  time\n",
              "0                NaN  afg         3280000.0  1800\n",
              "1                NaN  afg         3280000.0  1801\n",
              "2                NaN  afg         3280000.0  1802\n",
              "3                NaN  afg         3280000.0  1803\n",
              "4                NaN  afg         3280000.0  1804"
            ]
          },
          "metadata": {
            "tags": []
          },
          "execution_count": 4
        }
      ]
    },
    {
      "cell_type": "markdown",
      "metadata": {
        "colab_type": "text",
        "id": "xsXpDbwwW241"
      },
      "source": [
        "Then, select the `geo` and `country` columns from the `geo_country_codes` dataframe, and join with your population and cell phone data.\n",
        "\n",
        "The resulting dataframe's shape should be: (8590, 5)"
      ]
    },
    {
      "cell_type": "code",
      "metadata": {
        "colab_type": "code",
        "id": "Q2LaZta_W2CE",
        "outputId": "32a1a824-d577-4939-ff97-d1d929188ec5",
        "colab": {
          "base_uri": "https://localhost:8080/",
          "height": 198
        }
      },
      "source": [
        "final = pd.merge(merged, geo_country_codes[['country','geo']], how='left', on='geo')\n",
        "final.head()"
      ],
      "execution_count": 5,
      "outputs": [
        {
          "output_type": "execute_result",
          "data": {
            "text/html": [
              "<div>\n",
              "<style scoped>\n",
              "    .dataframe tbody tr th:only-of-type {\n",
              "        vertical-align: middle;\n",
              "    }\n",
              "\n",
              "    .dataframe tbody tr th {\n",
              "        vertical-align: top;\n",
              "    }\n",
              "\n",
              "    .dataframe thead th {\n",
              "        text-align: right;\n",
              "    }\n",
              "</style>\n",
              "<table border=\"1\" class=\"dataframe\">\n",
              "  <thead>\n",
              "    <tr style=\"text-align: right;\">\n",
              "      <th></th>\n",
              "      <th>cell_phones_total</th>\n",
              "      <th>geo</th>\n",
              "      <th>population_total</th>\n",
              "      <th>time</th>\n",
              "      <th>country</th>\n",
              "    </tr>\n",
              "  </thead>\n",
              "  <tbody>\n",
              "    <tr>\n",
              "      <th>0</th>\n",
              "      <td>NaN</td>\n",
              "      <td>afg</td>\n",
              "      <td>3280000.0</td>\n",
              "      <td>1800</td>\n",
              "      <td>Afghanistan</td>\n",
              "    </tr>\n",
              "    <tr>\n",
              "      <th>1</th>\n",
              "      <td>NaN</td>\n",
              "      <td>afg</td>\n",
              "      <td>3280000.0</td>\n",
              "      <td>1801</td>\n",
              "      <td>Afghanistan</td>\n",
              "    </tr>\n",
              "    <tr>\n",
              "      <th>2</th>\n",
              "      <td>NaN</td>\n",
              "      <td>afg</td>\n",
              "      <td>3280000.0</td>\n",
              "      <td>1802</td>\n",
              "      <td>Afghanistan</td>\n",
              "    </tr>\n",
              "    <tr>\n",
              "      <th>3</th>\n",
              "      <td>NaN</td>\n",
              "      <td>afg</td>\n",
              "      <td>3280000.0</td>\n",
              "      <td>1803</td>\n",
              "      <td>Afghanistan</td>\n",
              "    </tr>\n",
              "    <tr>\n",
              "      <th>4</th>\n",
              "      <td>NaN</td>\n",
              "      <td>afg</td>\n",
              "      <td>3280000.0</td>\n",
              "      <td>1804</td>\n",
              "      <td>Afghanistan</td>\n",
              "    </tr>\n",
              "  </tbody>\n",
              "</table>\n",
              "</div>"
            ],
            "text/plain": [
              "   cell_phones_total  geo  population_total  time      country\n",
              "0                NaN  afg         3280000.0  1800  Afghanistan\n",
              "1                NaN  afg         3280000.0  1801  Afghanistan\n",
              "2                NaN  afg         3280000.0  1802  Afghanistan\n",
              "3                NaN  afg         3280000.0  1803  Afghanistan\n",
              "4                NaN  afg         3280000.0  1804  Afghanistan"
            ]
          },
          "metadata": {
            "tags": []
          },
          "execution_count": 5
        }
      ]
    },
    {
      "cell_type": "code",
      "metadata": {
        "id": "3HG87gSgRIgU",
        "colab_type": "code",
        "outputId": "fac310ae-42dc-4a87-f531-ac4bbb967d40",
        "colab": {
          "base_uri": "https://localhost:8080/",
          "height": 126
        }
      },
      "source": [
        "final.isna().sum()"
      ],
      "execution_count": 6,
      "outputs": [
        {
          "output_type": "execute_result",
          "data": {
            "text/plain": [
              "cell_phones_total    59297\n",
              "geo                      0\n",
              "population_total      9215\n",
              "time                     0\n",
              "country                  0\n",
              "dtype: int64"
            ]
          },
          "metadata": {
            "tags": []
          },
          "execution_count": 6
        }
      ]
    },
    {
      "cell_type": "code",
      "metadata": {
        "id": "jfmna6hFRmFn",
        "colab_type": "code",
        "colab": {}
      },
      "source": [
        "final.fillna(0, inplace=True)"
      ],
      "execution_count": 0,
      "outputs": []
    },
    {
      "cell_type": "code",
      "metadata": {
        "id": "m9S5ywTpRuLr",
        "colab_type": "code",
        "outputId": "e94a3464-e135-45da-f987-e9c5326fca8e",
        "colab": {
          "base_uri": "https://localhost:8080/",
          "height": 348
        }
      },
      "source": [
        "final.head(10)"
      ],
      "execution_count": 8,
      "outputs": [
        {
          "output_type": "execute_result",
          "data": {
            "text/html": [
              "<div>\n",
              "<style scoped>\n",
              "    .dataframe tbody tr th:only-of-type {\n",
              "        vertical-align: middle;\n",
              "    }\n",
              "\n",
              "    .dataframe tbody tr th {\n",
              "        vertical-align: top;\n",
              "    }\n",
              "\n",
              "    .dataframe thead th {\n",
              "        text-align: right;\n",
              "    }\n",
              "</style>\n",
              "<table border=\"1\" class=\"dataframe\">\n",
              "  <thead>\n",
              "    <tr style=\"text-align: right;\">\n",
              "      <th></th>\n",
              "      <th>cell_phones_total</th>\n",
              "      <th>geo</th>\n",
              "      <th>population_total</th>\n",
              "      <th>time</th>\n",
              "      <th>country</th>\n",
              "    </tr>\n",
              "  </thead>\n",
              "  <tbody>\n",
              "    <tr>\n",
              "      <th>0</th>\n",
              "      <td>0.0</td>\n",
              "      <td>afg</td>\n",
              "      <td>3280000.0</td>\n",
              "      <td>1800</td>\n",
              "      <td>Afghanistan</td>\n",
              "    </tr>\n",
              "    <tr>\n",
              "      <th>1</th>\n",
              "      <td>0.0</td>\n",
              "      <td>afg</td>\n",
              "      <td>3280000.0</td>\n",
              "      <td>1801</td>\n",
              "      <td>Afghanistan</td>\n",
              "    </tr>\n",
              "    <tr>\n",
              "      <th>2</th>\n",
              "      <td>0.0</td>\n",
              "      <td>afg</td>\n",
              "      <td>3280000.0</td>\n",
              "      <td>1802</td>\n",
              "      <td>Afghanistan</td>\n",
              "    </tr>\n",
              "    <tr>\n",
              "      <th>3</th>\n",
              "      <td>0.0</td>\n",
              "      <td>afg</td>\n",
              "      <td>3280000.0</td>\n",
              "      <td>1803</td>\n",
              "      <td>Afghanistan</td>\n",
              "    </tr>\n",
              "    <tr>\n",
              "      <th>4</th>\n",
              "      <td>0.0</td>\n",
              "      <td>afg</td>\n",
              "      <td>3280000.0</td>\n",
              "      <td>1804</td>\n",
              "      <td>Afghanistan</td>\n",
              "    </tr>\n",
              "    <tr>\n",
              "      <th>5</th>\n",
              "      <td>0.0</td>\n",
              "      <td>afg</td>\n",
              "      <td>3280000.0</td>\n",
              "      <td>1805</td>\n",
              "      <td>Afghanistan</td>\n",
              "    </tr>\n",
              "    <tr>\n",
              "      <th>6</th>\n",
              "      <td>0.0</td>\n",
              "      <td>afg</td>\n",
              "      <td>3280000.0</td>\n",
              "      <td>1806</td>\n",
              "      <td>Afghanistan</td>\n",
              "    </tr>\n",
              "    <tr>\n",
              "      <th>7</th>\n",
              "      <td>0.0</td>\n",
              "      <td>afg</td>\n",
              "      <td>3280000.0</td>\n",
              "      <td>1807</td>\n",
              "      <td>Afghanistan</td>\n",
              "    </tr>\n",
              "    <tr>\n",
              "      <th>8</th>\n",
              "      <td>0.0</td>\n",
              "      <td>afg</td>\n",
              "      <td>3280000.0</td>\n",
              "      <td>1808</td>\n",
              "      <td>Afghanistan</td>\n",
              "    </tr>\n",
              "    <tr>\n",
              "      <th>9</th>\n",
              "      <td>0.0</td>\n",
              "      <td>afg</td>\n",
              "      <td>3280000.0</td>\n",
              "      <td>1809</td>\n",
              "      <td>Afghanistan</td>\n",
              "    </tr>\n",
              "  </tbody>\n",
              "</table>\n",
              "</div>"
            ],
            "text/plain": [
              "   cell_phones_total  geo  population_total  time      country\n",
              "0                0.0  afg         3280000.0  1800  Afghanistan\n",
              "1                0.0  afg         3280000.0  1801  Afghanistan\n",
              "2                0.0  afg         3280000.0  1802  Afghanistan\n",
              "3                0.0  afg         3280000.0  1803  Afghanistan\n",
              "4                0.0  afg         3280000.0  1804  Afghanistan\n",
              "5                0.0  afg         3280000.0  1805  Afghanistan\n",
              "6                0.0  afg         3280000.0  1806  Afghanistan\n",
              "7                0.0  afg         3280000.0  1807  Afghanistan\n",
              "8                0.0  afg         3280000.0  1808  Afghanistan\n",
              "9                0.0  afg         3280000.0  1809  Afghanistan"
            ]
          },
          "metadata": {
            "tags": []
          },
          "execution_count": 8
        }
      ]
    },
    {
      "cell_type": "markdown",
      "metadata": {
        "colab_type": "text",
        "id": "oK96Uj7vYjFX"
      },
      "source": [
        "### Part 2. Make features"
      ]
    },
    {
      "cell_type": "markdown",
      "metadata": {
        "colab_type": "text",
        "id": "AD2fBNrOYzCG"
      },
      "source": [
        "Calculate the number of cell phones per person, and add this column onto your dataframe.\n",
        "\n",
        "(You've calculated correctly if you get 1.220 cell phones per person in the United States in 2017.)"
      ]
    },
    {
      "cell_type": "code",
      "metadata": {
        "colab_type": "code",
        "id": "wXI9nQthYnFK",
        "outputId": "8245a1a8-552f-4b27-c1a0-411c15a41959",
        "colab": {
          "base_uri": "https://localhost:8080/",
          "height": 35
        }
      },
      "source": [
        "final.columns"
      ],
      "execution_count": 9,
      "outputs": [
        {
          "output_type": "execute_result",
          "data": {
            "text/plain": [
              "Index(['cell_phones_total', 'geo', 'population_total', 'time', 'country'], dtype='object')"
            ]
          },
          "metadata": {
            "tags": []
          },
          "execution_count": 9
        }
      ]
    },
    {
      "cell_type": "code",
      "metadata": {
        "id": "sMRXbm7UNDnF",
        "colab_type": "code",
        "outputId": "5007539c-0d85-4a0c-adf9-5aeed1f2579f",
        "colab": {
          "base_uri": "https://localhost:8080/",
          "height": 198
        }
      },
      "source": [
        "table1 = final.reset_index()\n",
        "table1.head()"
      ],
      "execution_count": 10,
      "outputs": [
        {
          "output_type": "execute_result",
          "data": {
            "text/html": [
              "<div>\n",
              "<style scoped>\n",
              "    .dataframe tbody tr th:only-of-type {\n",
              "        vertical-align: middle;\n",
              "    }\n",
              "\n",
              "    .dataframe tbody tr th {\n",
              "        vertical-align: top;\n",
              "    }\n",
              "\n",
              "    .dataframe thead th {\n",
              "        text-align: right;\n",
              "    }\n",
              "</style>\n",
              "<table border=\"1\" class=\"dataframe\">\n",
              "  <thead>\n",
              "    <tr style=\"text-align: right;\">\n",
              "      <th></th>\n",
              "      <th>index</th>\n",
              "      <th>cell_phones_total</th>\n",
              "      <th>geo</th>\n",
              "      <th>population_total</th>\n",
              "      <th>time</th>\n",
              "      <th>country</th>\n",
              "    </tr>\n",
              "  </thead>\n",
              "  <tbody>\n",
              "    <tr>\n",
              "      <th>0</th>\n",
              "      <td>0</td>\n",
              "      <td>0.0</td>\n",
              "      <td>afg</td>\n",
              "      <td>3280000.0</td>\n",
              "      <td>1800</td>\n",
              "      <td>Afghanistan</td>\n",
              "    </tr>\n",
              "    <tr>\n",
              "      <th>1</th>\n",
              "      <td>1</td>\n",
              "      <td>0.0</td>\n",
              "      <td>afg</td>\n",
              "      <td>3280000.0</td>\n",
              "      <td>1801</td>\n",
              "      <td>Afghanistan</td>\n",
              "    </tr>\n",
              "    <tr>\n",
              "      <th>2</th>\n",
              "      <td>2</td>\n",
              "      <td>0.0</td>\n",
              "      <td>afg</td>\n",
              "      <td>3280000.0</td>\n",
              "      <td>1802</td>\n",
              "      <td>Afghanistan</td>\n",
              "    </tr>\n",
              "    <tr>\n",
              "      <th>3</th>\n",
              "      <td>3</td>\n",
              "      <td>0.0</td>\n",
              "      <td>afg</td>\n",
              "      <td>3280000.0</td>\n",
              "      <td>1803</td>\n",
              "      <td>Afghanistan</td>\n",
              "    </tr>\n",
              "    <tr>\n",
              "      <th>4</th>\n",
              "      <td>4</td>\n",
              "      <td>0.0</td>\n",
              "      <td>afg</td>\n",
              "      <td>3280000.0</td>\n",
              "      <td>1804</td>\n",
              "      <td>Afghanistan</td>\n",
              "    </tr>\n",
              "  </tbody>\n",
              "</table>\n",
              "</div>"
            ],
            "text/plain": [
              "   index  cell_phones_total  geo  population_total  time      country\n",
              "0      0                0.0  afg         3280000.0  1800  Afghanistan\n",
              "1      1                0.0  afg         3280000.0  1801  Afghanistan\n",
              "2      2                0.0  afg         3280000.0  1802  Afghanistan\n",
              "3      3                0.0  afg         3280000.0  1803  Afghanistan\n",
              "4      4                0.0  afg         3280000.0  1804  Afghanistan"
            ]
          },
          "metadata": {
            "tags": []
          },
          "execution_count": 10
        }
      ]
    },
    {
      "cell_type": "code",
      "metadata": {
        "id": "zAPh2zQSS3eN",
        "colab_type": "code",
        "colab": {}
      },
      "source": [
        "import numpy as np"
      ],
      "execution_count": 0,
      "outputs": []
    },
    {
      "cell_type": "code",
      "metadata": {
        "id": "6_Khj8NoSBSx",
        "colab_type": "code",
        "outputId": "e3f226ea-1367-40db-dd2c-de2b369960a6",
        "colab": {
          "base_uri": "https://localhost:8080/",
          "height": 163
        }
      },
      "source": [
        "final['cell_phones_total/population_total'] = np.where(final['population_total'] < 1, final['population_total'], final['cell_phones_total']/final['population_total'])\n",
        "print(final.head())"
      ],
      "execution_count": 12,
      "outputs": [
        {
          "output_type": "stream",
          "text": [
            "   cell_phones_total  geo  ...      country  cell_phones_total/population_total\n",
            "0                0.0  afg  ...  Afghanistan                                 0.0\n",
            "1                0.0  afg  ...  Afghanistan                                 0.0\n",
            "2                0.0  afg  ...  Afghanistan                                 0.0\n",
            "3                0.0  afg  ...  Afghanistan                                 0.0\n",
            "4                0.0  afg  ...  Afghanistan                                 0.0\n",
            "\n",
            "[5 rows x 6 columns]\n"
          ],
          "name": "stdout"
        }
      ]
    },
    {
      "cell_type": "markdown",
      "metadata": {
        "colab_type": "text",
        "id": "S3QFdsnRZMH6"
      },
      "source": [
        "Modify the `geo` column to make the geo codes uppercase instead of lowercase."
      ]
    },
    {
      "cell_type": "code",
      "metadata": {
        "colab_type": "code",
        "id": "93ADij8_YkOq",
        "outputId": "2ac89452-c508-4680-8c02-5b149b690ad4",
        "colab": {
          "base_uri": "https://localhost:8080/",
          "height": 348
        }
      },
      "source": [
        "table1['geo'] = table1['geo'].str.upper()\n",
        "table1.head(10)"
      ],
      "execution_count": 13,
      "outputs": [
        {
          "output_type": "execute_result",
          "data": {
            "text/html": [
              "<div>\n",
              "<style scoped>\n",
              "    .dataframe tbody tr th:only-of-type {\n",
              "        vertical-align: middle;\n",
              "    }\n",
              "\n",
              "    .dataframe tbody tr th {\n",
              "        vertical-align: top;\n",
              "    }\n",
              "\n",
              "    .dataframe thead th {\n",
              "        text-align: right;\n",
              "    }\n",
              "</style>\n",
              "<table border=\"1\" class=\"dataframe\">\n",
              "  <thead>\n",
              "    <tr style=\"text-align: right;\">\n",
              "      <th></th>\n",
              "      <th>index</th>\n",
              "      <th>cell_phones_total</th>\n",
              "      <th>geo</th>\n",
              "      <th>population_total</th>\n",
              "      <th>time</th>\n",
              "      <th>country</th>\n",
              "    </tr>\n",
              "  </thead>\n",
              "  <tbody>\n",
              "    <tr>\n",
              "      <th>0</th>\n",
              "      <td>0</td>\n",
              "      <td>0.0</td>\n",
              "      <td>AFG</td>\n",
              "      <td>3280000.0</td>\n",
              "      <td>1800</td>\n",
              "      <td>Afghanistan</td>\n",
              "    </tr>\n",
              "    <tr>\n",
              "      <th>1</th>\n",
              "      <td>1</td>\n",
              "      <td>0.0</td>\n",
              "      <td>AFG</td>\n",
              "      <td>3280000.0</td>\n",
              "      <td>1801</td>\n",
              "      <td>Afghanistan</td>\n",
              "    </tr>\n",
              "    <tr>\n",
              "      <th>2</th>\n",
              "      <td>2</td>\n",
              "      <td>0.0</td>\n",
              "      <td>AFG</td>\n",
              "      <td>3280000.0</td>\n",
              "      <td>1802</td>\n",
              "      <td>Afghanistan</td>\n",
              "    </tr>\n",
              "    <tr>\n",
              "      <th>3</th>\n",
              "      <td>3</td>\n",
              "      <td>0.0</td>\n",
              "      <td>AFG</td>\n",
              "      <td>3280000.0</td>\n",
              "      <td>1803</td>\n",
              "      <td>Afghanistan</td>\n",
              "    </tr>\n",
              "    <tr>\n",
              "      <th>4</th>\n",
              "      <td>4</td>\n",
              "      <td>0.0</td>\n",
              "      <td>AFG</td>\n",
              "      <td>3280000.0</td>\n",
              "      <td>1804</td>\n",
              "      <td>Afghanistan</td>\n",
              "    </tr>\n",
              "    <tr>\n",
              "      <th>5</th>\n",
              "      <td>5</td>\n",
              "      <td>0.0</td>\n",
              "      <td>AFG</td>\n",
              "      <td>3280000.0</td>\n",
              "      <td>1805</td>\n",
              "      <td>Afghanistan</td>\n",
              "    </tr>\n",
              "    <tr>\n",
              "      <th>6</th>\n",
              "      <td>6</td>\n",
              "      <td>0.0</td>\n",
              "      <td>AFG</td>\n",
              "      <td>3280000.0</td>\n",
              "      <td>1806</td>\n",
              "      <td>Afghanistan</td>\n",
              "    </tr>\n",
              "    <tr>\n",
              "      <th>7</th>\n",
              "      <td>7</td>\n",
              "      <td>0.0</td>\n",
              "      <td>AFG</td>\n",
              "      <td>3280000.0</td>\n",
              "      <td>1807</td>\n",
              "      <td>Afghanistan</td>\n",
              "    </tr>\n",
              "    <tr>\n",
              "      <th>8</th>\n",
              "      <td>8</td>\n",
              "      <td>0.0</td>\n",
              "      <td>AFG</td>\n",
              "      <td>3280000.0</td>\n",
              "      <td>1808</td>\n",
              "      <td>Afghanistan</td>\n",
              "    </tr>\n",
              "    <tr>\n",
              "      <th>9</th>\n",
              "      <td>9</td>\n",
              "      <td>0.0</td>\n",
              "      <td>AFG</td>\n",
              "      <td>3280000.0</td>\n",
              "      <td>1809</td>\n",
              "      <td>Afghanistan</td>\n",
              "    </tr>\n",
              "  </tbody>\n",
              "</table>\n",
              "</div>"
            ],
            "text/plain": [
              "   index  cell_phones_total  geo  population_total  time      country\n",
              "0      0                0.0  AFG         3280000.0  1800  Afghanistan\n",
              "1      1                0.0  AFG         3280000.0  1801  Afghanistan\n",
              "2      2                0.0  AFG         3280000.0  1802  Afghanistan\n",
              "3      3                0.0  AFG         3280000.0  1803  Afghanistan\n",
              "4      4                0.0  AFG         3280000.0  1804  Afghanistan\n",
              "5      5                0.0  AFG         3280000.0  1805  Afghanistan\n",
              "6      6                0.0  AFG         3280000.0  1806  Afghanistan\n",
              "7      7                0.0  AFG         3280000.0  1807  Afghanistan\n",
              "8      8                0.0  AFG         3280000.0  1808  Afghanistan\n",
              "9      9                0.0  AFG         3280000.0  1809  Afghanistan"
            ]
          },
          "metadata": {
            "tags": []
          },
          "execution_count": 13
        }
      ]
    },
    {
      "cell_type": "markdown",
      "metadata": {
        "colab_type": "text",
        "id": "hlPDAFCfaF6C"
      },
      "source": [
        "### Part 3. Process data"
      ]
    },
    {
      "cell_type": "markdown",
      "metadata": {
        "colab_type": "text",
        "id": "k-pudNWve2SQ"
      },
      "source": [
        "Use the describe function, to describe your dataframe's numeric columns, and then its non-numeric columns.\n",
        "\n",
        "(You'll see the time period ranges from 1960 to 2017, and there are 195 unique countries represented.)"
      ]
    },
    {
      "cell_type": "code",
      "metadata": {
        "colab_type": "code",
        "id": "g26yemKre2Cu",
        "outputId": "9aed9258-e65a-4d7f-9b68-47158a89b2da",
        "colab": {
          "base_uri": "https://localhost:8080/",
          "height": 288
        }
      },
      "source": [
        "table1.describe()"
      ],
      "execution_count": 14,
      "outputs": [
        {
          "output_type": "execute_result",
          "data": {
            "text/html": [
              "<div>\n",
              "<style scoped>\n",
              "    .dataframe tbody tr th:only-of-type {\n",
              "        vertical-align: middle;\n",
              "    }\n",
              "\n",
              "    .dataframe tbody tr th {\n",
              "        vertical-align: top;\n",
              "    }\n",
              "\n",
              "    .dataframe thead th {\n",
              "        text-align: right;\n",
              "    }\n",
              "</style>\n",
              "<table border=\"1\" class=\"dataframe\">\n",
              "  <thead>\n",
              "    <tr style=\"text-align: right;\">\n",
              "      <th></th>\n",
              "      <th>index</th>\n",
              "      <th>cell_phones_total</th>\n",
              "      <th>population_total</th>\n",
              "      <th>time</th>\n",
              "    </tr>\n",
              "  </thead>\n",
              "  <tbody>\n",
              "    <tr>\n",
              "      <th>count</th>\n",
              "      <td>68512.000000</td>\n",
              "      <td>6.851200e+04</td>\n",
              "      <td>6.851200e+04</td>\n",
              "      <td>68512.000000</td>\n",
              "    </tr>\n",
              "    <tr>\n",
              "      <th>mean</th>\n",
              "      <td>34255.500000</td>\n",
              "      <td>1.130252e+06</td>\n",
              "      <td>2.000724e+07</td>\n",
              "      <td>1955.924991</td>\n",
              "    </tr>\n",
              "    <tr>\n",
              "      <th>std</th>\n",
              "      <td>19777.855158</td>\n",
              "      <td>1.995788e+07</td>\n",
              "      <td>9.338641e+07</td>\n",
              "      <td>82.388329</td>\n",
              "    </tr>\n",
              "    <tr>\n",
              "      <th>min</th>\n",
              "      <td>0.000000</td>\n",
              "      <td>0.000000e+00</td>\n",
              "      <td>0.000000e+00</td>\n",
              "      <td>1800.000000</td>\n",
              "    </tr>\n",
              "    <tr>\n",
              "      <th>25%</th>\n",
              "      <td>17127.750000</td>\n",
              "      <td>0.000000e+00</td>\n",
              "      <td>9.538775e+04</td>\n",
              "      <td>1886.000000</td>\n",
              "    </tr>\n",
              "    <tr>\n",
              "      <th>50%</th>\n",
              "      <td>34255.500000</td>\n",
              "      <td>0.000000e+00</td>\n",
              "      <td>1.688538e+06</td>\n",
              "      <td>1970.000000</td>\n",
              "    </tr>\n",
              "    <tr>\n",
              "      <th>75%</th>\n",
              "      <td>51383.250000</td>\n",
              "      <td>0.000000e+00</td>\n",
              "      <td>8.581238e+06</td>\n",
              "      <td>2015.000000</td>\n",
              "    </tr>\n",
              "    <tr>\n",
              "      <th>max</th>\n",
              "      <td>68511.000000</td>\n",
              "      <td>1.474097e+09</td>\n",
              "      <td>1.678656e+09</td>\n",
              "      <td>2100.000000</td>\n",
              "    </tr>\n",
              "  </tbody>\n",
              "</table>\n",
              "</div>"
            ],
            "text/plain": [
              "              index  cell_phones_total  population_total          time\n",
              "count  68512.000000       6.851200e+04      6.851200e+04  68512.000000\n",
              "mean   34255.500000       1.130252e+06      2.000724e+07   1955.924991\n",
              "std    19777.855158       1.995788e+07      9.338641e+07     82.388329\n",
              "min        0.000000       0.000000e+00      0.000000e+00   1800.000000\n",
              "25%    17127.750000       0.000000e+00      9.538775e+04   1886.000000\n",
              "50%    34255.500000       0.000000e+00      1.688538e+06   1970.000000\n",
              "75%    51383.250000       0.000000e+00      8.581238e+06   2015.000000\n",
              "max    68511.000000       1.474097e+09      1.678656e+09   2100.000000"
            ]
          },
          "metadata": {
            "tags": []
          },
          "execution_count": 14
        }
      ]
    },
    {
      "cell_type": "code",
      "metadata": {
        "id": "JvJ9YHmmT69o",
        "colab_type": "code",
        "outputId": "3e881431-6581-44e6-d490-e2fbd72aea65",
        "colab": {
          "base_uri": "https://localhost:8080/",
          "height": 378
        }
      },
      "source": [
        "table1.describe(include='all')"
      ],
      "execution_count": 15,
      "outputs": [
        {
          "output_type": "execute_result",
          "data": {
            "text/html": [
              "<div>\n",
              "<style scoped>\n",
              "    .dataframe tbody tr th:only-of-type {\n",
              "        vertical-align: middle;\n",
              "    }\n",
              "\n",
              "    .dataframe tbody tr th {\n",
              "        vertical-align: top;\n",
              "    }\n",
              "\n",
              "    .dataframe thead th {\n",
              "        text-align: right;\n",
              "    }\n",
              "</style>\n",
              "<table border=\"1\" class=\"dataframe\">\n",
              "  <thead>\n",
              "    <tr style=\"text-align: right;\">\n",
              "      <th></th>\n",
              "      <th>index</th>\n",
              "      <th>cell_phones_total</th>\n",
              "      <th>geo</th>\n",
              "      <th>population_total</th>\n",
              "      <th>time</th>\n",
              "      <th>country</th>\n",
              "    </tr>\n",
              "  </thead>\n",
              "  <tbody>\n",
              "    <tr>\n",
              "      <th>count</th>\n",
              "      <td>68512.000000</td>\n",
              "      <td>6.851200e+04</td>\n",
              "      <td>68512</td>\n",
              "      <td>6.851200e+04</td>\n",
              "      <td>68512.000000</td>\n",
              "      <td>68512</td>\n",
              "    </tr>\n",
              "    <tr>\n",
              "      <th>unique</th>\n",
              "      <td>NaN</td>\n",
              "      <td>NaN</td>\n",
              "      <td>216</td>\n",
              "      <td>NaN</td>\n",
              "      <td>NaN</td>\n",
              "      <td>216</td>\n",
              "    </tr>\n",
              "    <tr>\n",
              "      <th>top</th>\n",
              "      <td>NaN</td>\n",
              "      <td>NaN</td>\n",
              "      <td>DEU</td>\n",
              "      <td>NaN</td>\n",
              "      <td>NaN</td>\n",
              "      <td>Nicaragua</td>\n",
              "    </tr>\n",
              "    <tr>\n",
              "      <th>freq</th>\n",
              "      <td>NaN</td>\n",
              "      <td>NaN</td>\n",
              "      <td>347</td>\n",
              "      <td>NaN</td>\n",
              "      <td>NaN</td>\n",
              "      <td>347</td>\n",
              "    </tr>\n",
              "    <tr>\n",
              "      <th>mean</th>\n",
              "      <td>34255.500000</td>\n",
              "      <td>1.130252e+06</td>\n",
              "      <td>NaN</td>\n",
              "      <td>2.000724e+07</td>\n",
              "      <td>1955.924991</td>\n",
              "      <td>NaN</td>\n",
              "    </tr>\n",
              "    <tr>\n",
              "      <th>std</th>\n",
              "      <td>19777.855158</td>\n",
              "      <td>1.995788e+07</td>\n",
              "      <td>NaN</td>\n",
              "      <td>9.338641e+07</td>\n",
              "      <td>82.388329</td>\n",
              "      <td>NaN</td>\n",
              "    </tr>\n",
              "    <tr>\n",
              "      <th>min</th>\n",
              "      <td>0.000000</td>\n",
              "      <td>0.000000e+00</td>\n",
              "      <td>NaN</td>\n",
              "      <td>0.000000e+00</td>\n",
              "      <td>1800.000000</td>\n",
              "      <td>NaN</td>\n",
              "    </tr>\n",
              "    <tr>\n",
              "      <th>25%</th>\n",
              "      <td>17127.750000</td>\n",
              "      <td>0.000000e+00</td>\n",
              "      <td>NaN</td>\n",
              "      <td>9.538775e+04</td>\n",
              "      <td>1886.000000</td>\n",
              "      <td>NaN</td>\n",
              "    </tr>\n",
              "    <tr>\n",
              "      <th>50%</th>\n",
              "      <td>34255.500000</td>\n",
              "      <td>0.000000e+00</td>\n",
              "      <td>NaN</td>\n",
              "      <td>1.688538e+06</td>\n",
              "      <td>1970.000000</td>\n",
              "      <td>NaN</td>\n",
              "    </tr>\n",
              "    <tr>\n",
              "      <th>75%</th>\n",
              "      <td>51383.250000</td>\n",
              "      <td>0.000000e+00</td>\n",
              "      <td>NaN</td>\n",
              "      <td>8.581238e+06</td>\n",
              "      <td>2015.000000</td>\n",
              "      <td>NaN</td>\n",
              "    </tr>\n",
              "    <tr>\n",
              "      <th>max</th>\n",
              "      <td>68511.000000</td>\n",
              "      <td>1.474097e+09</td>\n",
              "      <td>NaN</td>\n",
              "      <td>1.678656e+09</td>\n",
              "      <td>2100.000000</td>\n",
              "      <td>NaN</td>\n",
              "    </tr>\n",
              "  </tbody>\n",
              "</table>\n",
              "</div>"
            ],
            "text/plain": [
              "               index  cell_phones_total  ...          time    country\n",
              "count   68512.000000       6.851200e+04  ...  68512.000000      68512\n",
              "unique           NaN                NaN  ...           NaN        216\n",
              "top              NaN                NaN  ...           NaN  Nicaragua\n",
              "freq             NaN                NaN  ...           NaN        347\n",
              "mean    34255.500000       1.130252e+06  ...   1955.924991        NaN\n",
              "std     19777.855158       1.995788e+07  ...     82.388329        NaN\n",
              "min         0.000000       0.000000e+00  ...   1800.000000        NaN\n",
              "25%     17127.750000       0.000000e+00  ...   1886.000000        NaN\n",
              "50%     34255.500000       0.000000e+00  ...   1970.000000        NaN\n",
              "75%     51383.250000       0.000000e+00  ...   2015.000000        NaN\n",
              "max     68511.000000       1.474097e+09  ...   2100.000000        NaN\n",
              "\n",
              "[11 rows x 6 columns]"
            ]
          },
          "metadata": {
            "tags": []
          },
          "execution_count": 15
        }
      ]
    },
    {
      "cell_type": "markdown",
      "metadata": {
        "colab_type": "text",
        "id": "zALg-RrYaLcI"
      },
      "source": [
        "In 2017, what were the top 5 countries with the most cell phones total?\n",
        "\n",
        "Your list of countries should have these totals:\n",
        "\n",
        "| country | cell phones total |\n",
        "|:-------:|:-----------------:|\n",
        "|    ?    |     1,474,097,000 |\n",
        "|    ?    |     1,168,902,277 |\n",
        "|    ?    |       458,923,202 |\n",
        "|    ?    |       395,881,000 |\n",
        "|    ?    |       236,488,548 |\n",
        "\n"
      ]
    },
    {
      "cell_type": "code",
      "metadata": {
        "colab_type": "code",
        "id": "JdlWvezHaZxD",
        "colab": {}
      },
      "source": [
        "# This optional code formats float numbers with comma separators\n",
        "pd.options.display.float_format = '{:,}'.format"
      ],
      "execution_count": 0,
      "outputs": []
    },
    {
      "cell_type": "code",
      "metadata": {
        "id": "-mvIN7DqVBBe",
        "colab_type": "code",
        "outputId": "6ec3f553-cdb3-4bdd-beaa-e89535b08049",
        "colab": {
          "base_uri": "https://localhost:8080/",
          "height": 198
        }
      },
      "source": [
        "table1.head(5)"
      ],
      "execution_count": 17,
      "outputs": [
        {
          "output_type": "execute_result",
          "data": {
            "text/html": [
              "<div>\n",
              "<style scoped>\n",
              "    .dataframe tbody tr th:only-of-type {\n",
              "        vertical-align: middle;\n",
              "    }\n",
              "\n",
              "    .dataframe tbody tr th {\n",
              "        vertical-align: top;\n",
              "    }\n",
              "\n",
              "    .dataframe thead th {\n",
              "        text-align: right;\n",
              "    }\n",
              "</style>\n",
              "<table border=\"1\" class=\"dataframe\">\n",
              "  <thead>\n",
              "    <tr style=\"text-align: right;\">\n",
              "      <th></th>\n",
              "      <th>index</th>\n",
              "      <th>cell_phones_total</th>\n",
              "      <th>geo</th>\n",
              "      <th>population_total</th>\n",
              "      <th>time</th>\n",
              "      <th>country</th>\n",
              "    </tr>\n",
              "  </thead>\n",
              "  <tbody>\n",
              "    <tr>\n",
              "      <th>0</th>\n",
              "      <td>0</td>\n",
              "      <td>0.0</td>\n",
              "      <td>AFG</td>\n",
              "      <td>3,280,000.0</td>\n",
              "      <td>1800</td>\n",
              "      <td>Afghanistan</td>\n",
              "    </tr>\n",
              "    <tr>\n",
              "      <th>1</th>\n",
              "      <td>1</td>\n",
              "      <td>0.0</td>\n",
              "      <td>AFG</td>\n",
              "      <td>3,280,000.0</td>\n",
              "      <td>1801</td>\n",
              "      <td>Afghanistan</td>\n",
              "    </tr>\n",
              "    <tr>\n",
              "      <th>2</th>\n",
              "      <td>2</td>\n",
              "      <td>0.0</td>\n",
              "      <td>AFG</td>\n",
              "      <td>3,280,000.0</td>\n",
              "      <td>1802</td>\n",
              "      <td>Afghanistan</td>\n",
              "    </tr>\n",
              "    <tr>\n",
              "      <th>3</th>\n",
              "      <td>3</td>\n",
              "      <td>0.0</td>\n",
              "      <td>AFG</td>\n",
              "      <td>3,280,000.0</td>\n",
              "      <td>1803</td>\n",
              "      <td>Afghanistan</td>\n",
              "    </tr>\n",
              "    <tr>\n",
              "      <th>4</th>\n",
              "      <td>4</td>\n",
              "      <td>0.0</td>\n",
              "      <td>AFG</td>\n",
              "      <td>3,280,000.0</td>\n",
              "      <td>1804</td>\n",
              "      <td>Afghanistan</td>\n",
              "    </tr>\n",
              "  </tbody>\n",
              "</table>\n",
              "</div>"
            ],
            "text/plain": [
              "   index  cell_phones_total  geo  population_total  time      country\n",
              "0      0                0.0  AFG       3,280,000.0  1800  Afghanistan\n",
              "1      1                0.0  AFG       3,280,000.0  1801  Afghanistan\n",
              "2      2                0.0  AFG       3,280,000.0  1802  Afghanistan\n",
              "3      3                0.0  AFG       3,280,000.0  1803  Afghanistan\n",
              "4      4                0.0  AFG       3,280,000.0  1804  Afghanistan"
            ]
          },
          "metadata": {
            "tags": []
          },
          "execution_count": 17
        }
      ]
    },
    {
      "cell_type": "code",
      "metadata": {
        "colab_type": "code",
        "id": "smX8vzu4cyju",
        "outputId": "51d8f017-821c-4447-c0bc-d942c68ddcf9",
        "colab": {
          "base_uri": "https://localhost:8080/",
          "height": 126
        }
      },
      "source": [
        "table1.iloc[:,1].tail(5)"
      ],
      "execution_count": 18,
      "outputs": [
        {
          "output_type": "execute_result",
          "data": {
            "text/plain": [
              "68507   13,633,167.0\n",
              "68508   11,798,652.0\n",
              "68509   12,757,410.0\n",
              "68510   12,878,926.0\n",
              "68511   14,092,104.0\n",
              "Name: cell_phones_total, dtype: float64"
            ]
          },
          "metadata": {
            "tags": []
          },
          "execution_count": 18
        }
      ]
    },
    {
      "cell_type": "markdown",
      "metadata": {
        "colab_type": "text",
        "id": "03V3Wln_h0dj"
      },
      "source": [
        "2017 was the first year that China had more cell phones than people.\n",
        "\n",
        "What was the first year that the USA had more cell phones than people?"
      ]
    },
    {
      "cell_type": "code",
      "metadata": {
        "colab_type": "code",
        "id": "KONQkQZ3haNC",
        "outputId": "c8f0f23d-7673-47bd-e258-583accf6e4c6",
        "colab": {
          "base_uri": "https://localhost:8080/",
          "height": 1000
        }
      },
      "source": [
        "table1.iloc[67960:68002, 1:5]"
      ],
      "execution_count": 19,
      "outputs": [
        {
          "output_type": "execute_result",
          "data": {
            "text/html": [
              "<div>\n",
              "<style scoped>\n",
              "    .dataframe tbody tr th:only-of-type {\n",
              "        vertical-align: middle;\n",
              "    }\n",
              "\n",
              "    .dataframe tbody tr th {\n",
              "        vertical-align: top;\n",
              "    }\n",
              "\n",
              "    .dataframe thead th {\n",
              "        text-align: right;\n",
              "    }\n",
              "</style>\n",
              "<table border=\"1\" class=\"dataframe\">\n",
              "  <thead>\n",
              "    <tr style=\"text-align: right;\">\n",
              "      <th></th>\n",
              "      <th>cell_phones_total</th>\n",
              "      <th>geo</th>\n",
              "      <th>population_total</th>\n",
              "      <th>time</th>\n",
              "    </tr>\n",
              "  </thead>\n",
              "  <tbody>\n",
              "    <tr>\n",
              "      <th>67960</th>\n",
              "      <td>0.0</td>\n",
              "      <td>USA</td>\n",
              "      <td>0.0</td>\n",
              "      <td>1960</td>\n",
              "    </tr>\n",
              "    <tr>\n",
              "      <th>67961</th>\n",
              "      <td>0.0</td>\n",
              "      <td>USA</td>\n",
              "      <td>0.0</td>\n",
              "      <td>1965</td>\n",
              "    </tr>\n",
              "    <tr>\n",
              "      <th>67962</th>\n",
              "      <td>0.0</td>\n",
              "      <td>USA</td>\n",
              "      <td>0.0</td>\n",
              "      <td>1970</td>\n",
              "    </tr>\n",
              "    <tr>\n",
              "      <th>67963</th>\n",
              "      <td>0.0</td>\n",
              "      <td>USA</td>\n",
              "      <td>0.0</td>\n",
              "      <td>1975</td>\n",
              "    </tr>\n",
              "    <tr>\n",
              "      <th>67964</th>\n",
              "      <td>0.0</td>\n",
              "      <td>USA</td>\n",
              "      <td>0.0</td>\n",
              "      <td>1976</td>\n",
              "    </tr>\n",
              "    <tr>\n",
              "      <th>67965</th>\n",
              "      <td>0.0</td>\n",
              "      <td>USA</td>\n",
              "      <td>0.0</td>\n",
              "      <td>1977</td>\n",
              "    </tr>\n",
              "    <tr>\n",
              "      <th>67966</th>\n",
              "      <td>0.0</td>\n",
              "      <td>USA</td>\n",
              "      <td>0.0</td>\n",
              "      <td>1978</td>\n",
              "    </tr>\n",
              "    <tr>\n",
              "      <th>67967</th>\n",
              "      <td>0.0</td>\n",
              "      <td>USA</td>\n",
              "      <td>0.0</td>\n",
              "      <td>1979</td>\n",
              "    </tr>\n",
              "    <tr>\n",
              "      <th>67968</th>\n",
              "      <td>0.0</td>\n",
              "      <td>USA</td>\n",
              "      <td>0.0</td>\n",
              "      <td>1980</td>\n",
              "    </tr>\n",
              "    <tr>\n",
              "      <th>67969</th>\n",
              "      <td>91,600.0</td>\n",
              "      <td>USA</td>\n",
              "      <td>0.0</td>\n",
              "      <td>1984</td>\n",
              "    </tr>\n",
              "    <tr>\n",
              "      <th>67970</th>\n",
              "      <td>340,213.0</td>\n",
              "      <td>USA</td>\n",
              "      <td>0.0</td>\n",
              "      <td>1985</td>\n",
              "    </tr>\n",
              "    <tr>\n",
              "      <th>67971</th>\n",
              "      <td>681,825.0</td>\n",
              "      <td>USA</td>\n",
              "      <td>0.0</td>\n",
              "      <td>1986</td>\n",
              "    </tr>\n",
              "    <tr>\n",
              "      <th>67972</th>\n",
              "      <td>1,230,855.0</td>\n",
              "      <td>USA</td>\n",
              "      <td>0.0</td>\n",
              "      <td>1987</td>\n",
              "    </tr>\n",
              "    <tr>\n",
              "      <th>67973</th>\n",
              "      <td>2,069,441.0</td>\n",
              "      <td>USA</td>\n",
              "      <td>0.0</td>\n",
              "      <td>1988</td>\n",
              "    </tr>\n",
              "    <tr>\n",
              "      <th>67974</th>\n",
              "      <td>3,508,944.0</td>\n",
              "      <td>USA</td>\n",
              "      <td>0.0</td>\n",
              "      <td>1989</td>\n",
              "    </tr>\n",
              "    <tr>\n",
              "      <th>67975</th>\n",
              "      <td>5,283,055.0</td>\n",
              "      <td>USA</td>\n",
              "      <td>0.0</td>\n",
              "      <td>1990</td>\n",
              "    </tr>\n",
              "    <tr>\n",
              "      <th>67976</th>\n",
              "      <td>7,557,148.0</td>\n",
              "      <td>USA</td>\n",
              "      <td>0.0</td>\n",
              "      <td>1991</td>\n",
              "    </tr>\n",
              "    <tr>\n",
              "      <th>67977</th>\n",
              "      <td>11,032,753.0</td>\n",
              "      <td>USA</td>\n",
              "      <td>0.0</td>\n",
              "      <td>1992</td>\n",
              "    </tr>\n",
              "    <tr>\n",
              "      <th>67978</th>\n",
              "      <td>16,009,461.0</td>\n",
              "      <td>USA</td>\n",
              "      <td>0.0</td>\n",
              "      <td>1993</td>\n",
              "    </tr>\n",
              "    <tr>\n",
              "      <th>67979</th>\n",
              "      <td>24,134,421.0</td>\n",
              "      <td>USA</td>\n",
              "      <td>0.0</td>\n",
              "      <td>1994</td>\n",
              "    </tr>\n",
              "    <tr>\n",
              "      <th>67980</th>\n",
              "      <td>33,785,661.0</td>\n",
              "      <td>USA</td>\n",
              "      <td>0.0</td>\n",
              "      <td>1995</td>\n",
              "    </tr>\n",
              "    <tr>\n",
              "      <th>67981</th>\n",
              "      <td>44,042,992.0</td>\n",
              "      <td>USA</td>\n",
              "      <td>0.0</td>\n",
              "      <td>1996</td>\n",
              "    </tr>\n",
              "    <tr>\n",
              "      <th>67982</th>\n",
              "      <td>55,312,293.0</td>\n",
              "      <td>USA</td>\n",
              "      <td>0.0</td>\n",
              "      <td>1997</td>\n",
              "    </tr>\n",
              "    <tr>\n",
              "      <th>67983</th>\n",
              "      <td>69,209,321.0</td>\n",
              "      <td>USA</td>\n",
              "      <td>0.0</td>\n",
              "      <td>1998</td>\n",
              "    </tr>\n",
              "    <tr>\n",
              "      <th>67984</th>\n",
              "      <td>86,047,003.0</td>\n",
              "      <td>USA</td>\n",
              "      <td>0.0</td>\n",
              "      <td>1999</td>\n",
              "    </tr>\n",
              "    <tr>\n",
              "      <th>67985</th>\n",
              "      <td>109,478,031.0</td>\n",
              "      <td>USA</td>\n",
              "      <td>0.0</td>\n",
              "      <td>2000</td>\n",
              "    </tr>\n",
              "    <tr>\n",
              "      <th>67986</th>\n",
              "      <td>128,500,000.0</td>\n",
              "      <td>USA</td>\n",
              "      <td>0.0</td>\n",
              "      <td>2001</td>\n",
              "    </tr>\n",
              "    <tr>\n",
              "      <th>67987</th>\n",
              "      <td>141,800,000.0</td>\n",
              "      <td>USA</td>\n",
              "      <td>0.0</td>\n",
              "      <td>2002</td>\n",
              "    </tr>\n",
              "    <tr>\n",
              "      <th>67988</th>\n",
              "      <td>160,637,000.0</td>\n",
              "      <td>USA</td>\n",
              "      <td>0.0</td>\n",
              "      <td>2003</td>\n",
              "    </tr>\n",
              "    <tr>\n",
              "      <th>67989</th>\n",
              "      <td>184,819,000.0</td>\n",
              "      <td>USA</td>\n",
              "      <td>0.0</td>\n",
              "      <td>2004</td>\n",
              "    </tr>\n",
              "    <tr>\n",
              "      <th>67990</th>\n",
              "      <td>203,700,000.0</td>\n",
              "      <td>USA</td>\n",
              "      <td>0.0</td>\n",
              "      <td>2005</td>\n",
              "    </tr>\n",
              "    <tr>\n",
              "      <th>67991</th>\n",
              "      <td>229,600,000.0</td>\n",
              "      <td>USA</td>\n",
              "      <td>0.0</td>\n",
              "      <td>2006</td>\n",
              "    </tr>\n",
              "    <tr>\n",
              "      <th>67992</th>\n",
              "      <td>249,300,000.0</td>\n",
              "      <td>USA</td>\n",
              "      <td>0.0</td>\n",
              "      <td>2007</td>\n",
              "    </tr>\n",
              "    <tr>\n",
              "      <th>67993</th>\n",
              "      <td>261,300,000.0</td>\n",
              "      <td>USA</td>\n",
              "      <td>0.0</td>\n",
              "      <td>2008</td>\n",
              "    </tr>\n",
              "    <tr>\n",
              "      <th>67994</th>\n",
              "      <td>274,283,000.0</td>\n",
              "      <td>USA</td>\n",
              "      <td>0.0</td>\n",
              "      <td>2009</td>\n",
              "    </tr>\n",
              "    <tr>\n",
              "      <th>67995</th>\n",
              "      <td>285,118,000.0</td>\n",
              "      <td>USA</td>\n",
              "      <td>0.0</td>\n",
              "      <td>2010</td>\n",
              "    </tr>\n",
              "    <tr>\n",
              "      <th>67996</th>\n",
              "      <td>297,404,000.0</td>\n",
              "      <td>USA</td>\n",
              "      <td>0.0</td>\n",
              "      <td>2011</td>\n",
              "    </tr>\n",
              "    <tr>\n",
              "      <th>67997</th>\n",
              "      <td>304,838,000.0</td>\n",
              "      <td>USA</td>\n",
              "      <td>0.0</td>\n",
              "      <td>2012</td>\n",
              "    </tr>\n",
              "    <tr>\n",
              "      <th>67998</th>\n",
              "      <td>310,698,000.0</td>\n",
              "      <td>USA</td>\n",
              "      <td>0.0</td>\n",
              "      <td>2013</td>\n",
              "    </tr>\n",
              "    <tr>\n",
              "      <th>67999</th>\n",
              "      <td>355,500,000.0</td>\n",
              "      <td>USA</td>\n",
              "      <td>0.0</td>\n",
              "      <td>2014</td>\n",
              "    </tr>\n",
              "    <tr>\n",
              "      <th>68000</th>\n",
              "      <td>382,307,000.0</td>\n",
              "      <td>USA</td>\n",
              "      <td>0.0</td>\n",
              "      <td>2015</td>\n",
              "    </tr>\n",
              "    <tr>\n",
              "      <th>68001</th>\n",
              "      <td>395,881,000.0</td>\n",
              "      <td>USA</td>\n",
              "      <td>0.0</td>\n",
              "      <td>2016</td>\n",
              "    </tr>\n",
              "  </tbody>\n",
              "</table>\n",
              "</div>"
            ],
            "text/plain": [
              "       cell_phones_total  geo  population_total  time\n",
              "67960                0.0  USA               0.0  1960\n",
              "67961                0.0  USA               0.0  1965\n",
              "67962                0.0  USA               0.0  1970\n",
              "67963                0.0  USA               0.0  1975\n",
              "67964                0.0  USA               0.0  1976\n",
              "67965                0.0  USA               0.0  1977\n",
              "67966                0.0  USA               0.0  1978\n",
              "67967                0.0  USA               0.0  1979\n",
              "67968                0.0  USA               0.0  1980\n",
              "67969           91,600.0  USA               0.0  1984\n",
              "67970          340,213.0  USA               0.0  1985\n",
              "67971          681,825.0  USA               0.0  1986\n",
              "67972        1,230,855.0  USA               0.0  1987\n",
              "67973        2,069,441.0  USA               0.0  1988\n",
              "67974        3,508,944.0  USA               0.0  1989\n",
              "67975        5,283,055.0  USA               0.0  1990\n",
              "67976        7,557,148.0  USA               0.0  1991\n",
              "67977       11,032,753.0  USA               0.0  1992\n",
              "67978       16,009,461.0  USA               0.0  1993\n",
              "67979       24,134,421.0  USA               0.0  1994\n",
              "67980       33,785,661.0  USA               0.0  1995\n",
              "67981       44,042,992.0  USA               0.0  1996\n",
              "67982       55,312,293.0  USA               0.0  1997\n",
              "67983       69,209,321.0  USA               0.0  1998\n",
              "67984       86,047,003.0  USA               0.0  1999\n",
              "67985      109,478,031.0  USA               0.0  2000\n",
              "67986      128,500,000.0  USA               0.0  2001\n",
              "67987      141,800,000.0  USA               0.0  2002\n",
              "67988      160,637,000.0  USA               0.0  2003\n",
              "67989      184,819,000.0  USA               0.0  2004\n",
              "67990      203,700,000.0  USA               0.0  2005\n",
              "67991      229,600,000.0  USA               0.0  2006\n",
              "67992      249,300,000.0  USA               0.0  2007\n",
              "67993      261,300,000.0  USA               0.0  2008\n",
              "67994      274,283,000.0  USA               0.0  2009\n",
              "67995      285,118,000.0  USA               0.0  2010\n",
              "67996      297,404,000.0  USA               0.0  2011\n",
              "67997      304,838,000.0  USA               0.0  2012\n",
              "67998      310,698,000.0  USA               0.0  2013\n",
              "67999      355,500,000.0  USA               0.0  2014\n",
              "68000      382,307,000.0  USA               0.0  2015\n",
              "68001      395,881,000.0  USA               0.0  2016"
            ]
          },
          "metadata": {
            "tags": []
          },
          "execution_count": 19
        }
      ]
    },
    {
      "cell_type": "markdown",
      "metadata": {
        "id": "ZDpXEEOGYjkB",
        "colab_type": "text"
      },
      "source": [
        "2011"
      ]
    },
    {
      "cell_type": "markdown",
      "metadata": {
        "colab_type": "text",
        "id": "6J7iwMnTg8KZ"
      },
      "source": [
        "### Part 4. Reshape data"
      ]
    },
    {
      "cell_type": "markdown",
      "metadata": {
        "colab_type": "text",
        "id": "LP9InazRkUxG"
      },
      "source": [
        "*This part is not needed to pass the sprint challenge, only to get a 3! Only work on this after completing the other sections.*\n",
        "\n",
        "Create a pivot table:\n",
        "- Columns: Years 2007—2017\n",
        "- Rows: China, India, United States, Indonesia, Brazil (order doesn't matter)\n",
        "- Values: Cell Phones Total\n",
        "\n",
        "The table's shape should be: (5, 11)"
      ]
    },
    {
      "cell_type": "code",
      "metadata": {
        "colab_type": "code",
        "id": "JD7mXXjLj4Ue",
        "colab": {}
      },
      "source": [
        ""
      ],
      "execution_count": 0,
      "outputs": []
    },
    {
      "cell_type": "markdown",
      "metadata": {
        "colab_type": "text",
        "id": "CNKTu2DCnAo6"
      },
      "source": [
        "Sort these 5 countries, by biggest increase in cell phones from 2007 to 2017.\n",
        "\n",
        "Which country had 935,282,277 more cell phones in 2017 versus 2007?"
      ]
    },
    {
      "cell_type": "code",
      "metadata": {
        "colab_type": "code",
        "id": "O4Aecv1fmQlj",
        "colab": {}
      },
      "source": [
        ""
      ],
      "execution_count": 0,
      "outputs": []
    },
    {
      "cell_type": "markdown",
      "metadata": {
        "colab_type": "text",
        "id": "7iHkMsa3Rorh"
      },
      "source": [
        "If you have the time and curiosity, what other questions can you ask and answer with this data?"
      ]
    },
    {
      "cell_type": "markdown",
      "metadata": {
        "id": "vtcAJOAV9k3X",
        "colab_type": "text"
      },
      "source": [
        "## Data Storytelling\n",
        "\n",
        "In this part of the sprint challenge you'll work with a dataset from **FiveThirtyEight's article, [Every Guest Jon Stewart Ever Had On ‘The Daily Show’](https://fivethirtyeight.com/features/every-guest-jon-stewart-ever-had-on-the-daily-show/)**!"
      ]
    },
    {
      "cell_type": "markdown",
      "metadata": {
        "id": "UtjoIqvm9yFg",
        "colab_type": "text"
      },
      "source": [
        "### Part 0 — Run this starter code\n",
        "\n",
        "You don't need to add or change anything here. Just run this cell and it loads the data for you, into a dataframe named `df`.\n",
        "\n",
        "(You can explore the data if you want, but it's not required to pass the Sprint Challenge.)"
      ]
    },
    {
      "cell_type": "code",
      "metadata": {
        "id": "tYujbhIz9zKU",
        "colab_type": "code",
        "colab": {}
      },
      "source": [
        "%matplotlib inline\n",
        "import matplotlib.pyplot as plt\n",
        "import numpy as np\n",
        "import pandas as pd\n",
        "\n",
        "url = 'https://raw.githubusercontent.com/fivethirtyeight/data/master/daily-show-guests/daily_show_guests.csv'\n",
        "df = pd.read_csv(url).rename(columns={'YEAR': 'Year', 'Raw_Guest_List': 'Guest'})\n",
        "\n",
        "def get_occupation(group):\n",
        "    if group in ['Acting', 'Comedy', 'Musician']:\n",
        "        return 'Acting, Comedy & Music'\n",
        "    elif group in ['Media', 'media']:\n",
        "        return 'Media'\n",
        "    elif group in ['Government', 'Politician', 'Political Aide']:\n",
        "        return 'Government and Politics'\n",
        "    else:\n",
        "        return 'Other'\n",
        "      \n",
        "df['Occupation'] = df['Group'].apply(get_occupation)"
      ],
      "execution_count": 0,
      "outputs": []
    },
    {
      "cell_type": "markdown",
      "metadata": {
        "id": "5hjnMK3j90Rp",
        "colab_type": "text"
      },
      "source": [
        "### Part 1 — What's the breakdown of guests’ occupations per year?\n",
        "\n",
        "For example, in 1999, what percentage of guests were actors, comedians, or musicians? What percentage were in the media? What percentage were in politics? What percentage were from another occupation?\n",
        "\n",
        "Then, what about in 2000? In 2001? And so on, up through 2015.\n",
        "\n",
        "So, **for each year of _The Daily Show_, calculate the percentage of guests from each occupation:**\n",
        "- Acting, Comedy & Music\n",
        "- Government and Politics\n",
        "- Media\n",
        "- Other\n",
        "\n",
        "#### Hints:\n",
        "You can make a crosstab. (See pandas documentation for examples, explanation, and parameters.)\n",
        "\n",
        "You'll know you've calculated correctly when the percentage of \"Acting, Comedy & Music\" guests is 90.36% in 1999, and 45% in 2015."
      ]
    },
    {
      "cell_type": "code",
      "metadata": {
        "id": "Y-8yCXP8Zy3g",
        "colab_type": "code",
        "outputId": "11f7e4d7-d4c0-482a-ded2-e36a24c2a80e",
        "colab": {
          "base_uri": "https://localhost:8080/",
          "height": 198
        }
      },
      "source": [
        "df.head()"
      ],
      "execution_count": 21,
      "outputs": [
        {
          "output_type": "execute_result",
          "data": {
            "text/html": [
              "<div>\n",
              "<style scoped>\n",
              "    .dataframe tbody tr th:only-of-type {\n",
              "        vertical-align: middle;\n",
              "    }\n",
              "\n",
              "    .dataframe tbody tr th {\n",
              "        vertical-align: top;\n",
              "    }\n",
              "\n",
              "    .dataframe thead th {\n",
              "        text-align: right;\n",
              "    }\n",
              "</style>\n",
              "<table border=\"1\" class=\"dataframe\">\n",
              "  <thead>\n",
              "    <tr style=\"text-align: right;\">\n",
              "      <th></th>\n",
              "      <th>Year</th>\n",
              "      <th>GoogleKnowlege_Occupation</th>\n",
              "      <th>Show</th>\n",
              "      <th>Group</th>\n",
              "      <th>Guest</th>\n",
              "      <th>Occupation</th>\n",
              "    </tr>\n",
              "  </thead>\n",
              "  <tbody>\n",
              "    <tr>\n",
              "      <th>0</th>\n",
              "      <td>1999</td>\n",
              "      <td>actor</td>\n",
              "      <td>1/11/99</td>\n",
              "      <td>Acting</td>\n",
              "      <td>Michael J. Fox</td>\n",
              "      <td>Acting, Comedy &amp; Music</td>\n",
              "    </tr>\n",
              "    <tr>\n",
              "      <th>1</th>\n",
              "      <td>1999</td>\n",
              "      <td>Comedian</td>\n",
              "      <td>1/12/99</td>\n",
              "      <td>Comedy</td>\n",
              "      <td>Sandra Bernhard</td>\n",
              "      <td>Acting, Comedy &amp; Music</td>\n",
              "    </tr>\n",
              "    <tr>\n",
              "      <th>2</th>\n",
              "      <td>1999</td>\n",
              "      <td>television actress</td>\n",
              "      <td>1/13/99</td>\n",
              "      <td>Acting</td>\n",
              "      <td>Tracey Ullman</td>\n",
              "      <td>Acting, Comedy &amp; Music</td>\n",
              "    </tr>\n",
              "    <tr>\n",
              "      <th>3</th>\n",
              "      <td>1999</td>\n",
              "      <td>film actress</td>\n",
              "      <td>1/14/99</td>\n",
              "      <td>Acting</td>\n",
              "      <td>Gillian Anderson</td>\n",
              "      <td>Acting, Comedy &amp; Music</td>\n",
              "    </tr>\n",
              "    <tr>\n",
              "      <th>4</th>\n",
              "      <td>1999</td>\n",
              "      <td>actor</td>\n",
              "      <td>1/18/99</td>\n",
              "      <td>Acting</td>\n",
              "      <td>David Alan Grier</td>\n",
              "      <td>Acting, Comedy &amp; Music</td>\n",
              "    </tr>\n",
              "  </tbody>\n",
              "</table>\n",
              "</div>"
            ],
            "text/plain": [
              "   Year GoogleKnowlege_Occupation  ...             Guest              Occupation\n",
              "0  1999                     actor  ...    Michael J. Fox  Acting, Comedy & Music\n",
              "1  1999                  Comedian  ...   Sandra Bernhard  Acting, Comedy & Music\n",
              "2  1999        television actress  ...     Tracey Ullman  Acting, Comedy & Music\n",
              "3  1999              film actress  ...  Gillian Anderson  Acting, Comedy & Music\n",
              "4  1999                     actor  ...  David Alan Grier  Acting, Comedy & Music\n",
              "\n",
              "[5 rows x 6 columns]"
            ]
          },
          "metadata": {
            "tags": []
          },
          "execution_count": 21
        }
      ]
    },
    {
      "cell_type": "code",
      "metadata": {
        "id": "wJ3UFNYEakQH",
        "colab_type": "code",
        "outputId": "530ea0f3-6028-47ea-c4c1-e12dbd37a5cc",
        "colab": {
          "base_uri": "https://localhost:8080/",
          "height": 270
        }
      },
      "source": [
        "pd.crosstab([df.Occupation], df.Year,  margins=True, normalize='columns')"
      ],
      "execution_count": 22,
      "outputs": [
        {
          "output_type": "execute_result",
          "data": {
            "text/html": [
              "<div>\n",
              "<style scoped>\n",
              "    .dataframe tbody tr th:only-of-type {\n",
              "        vertical-align: middle;\n",
              "    }\n",
              "\n",
              "    .dataframe tbody tr th {\n",
              "        vertical-align: top;\n",
              "    }\n",
              "\n",
              "    .dataframe thead th {\n",
              "        text-align: right;\n",
              "    }\n",
              "</style>\n",
              "<table border=\"1\" class=\"dataframe\">\n",
              "  <thead>\n",
              "    <tr style=\"text-align: right;\">\n",
              "      <th>Year</th>\n",
              "      <th>1999</th>\n",
              "      <th>2000</th>\n",
              "      <th>2001</th>\n",
              "      <th>2002</th>\n",
              "      <th>2003</th>\n",
              "      <th>2004</th>\n",
              "      <th>2005</th>\n",
              "      <th>2006</th>\n",
              "      <th>2007</th>\n",
              "      <th>2008</th>\n",
              "      <th>2009</th>\n",
              "      <th>2010</th>\n",
              "      <th>2011</th>\n",
              "      <th>2012</th>\n",
              "      <th>2013</th>\n",
              "      <th>2014</th>\n",
              "      <th>2015</th>\n",
              "      <th>All</th>\n",
              "    </tr>\n",
              "    <tr>\n",
              "      <th>Occupation</th>\n",
              "      <th></th>\n",
              "      <th></th>\n",
              "      <th></th>\n",
              "      <th></th>\n",
              "      <th></th>\n",
              "      <th></th>\n",
              "      <th></th>\n",
              "      <th></th>\n",
              "      <th></th>\n",
              "      <th></th>\n",
              "      <th></th>\n",
              "      <th></th>\n",
              "      <th></th>\n",
              "      <th></th>\n",
              "      <th></th>\n",
              "      <th></th>\n",
              "      <th></th>\n",
              "      <th></th>\n",
              "    </tr>\n",
              "  </thead>\n",
              "  <tbody>\n",
              "    <tr>\n",
              "      <th>Acting, Comedy &amp; Music</th>\n",
              "      <td>0.9036144578313253</td>\n",
              "      <td>0.7396449704142012</td>\n",
              "      <td>0.7261146496815286</td>\n",
              "      <td>0.6226415094339622</td>\n",
              "      <td>0.5602409638554217</td>\n",
              "      <td>0.38414634146341464</td>\n",
              "      <td>0.37037037037037035</td>\n",
              "      <td>0.36024844720496896</td>\n",
              "      <td>0.2553191489361702</td>\n",
              "      <td>0.2073170731707317</td>\n",
              "      <td>0.2085889570552147</td>\n",
              "      <td>0.3515151515151515</td>\n",
              "      <td>0.3374233128834356</td>\n",
              "      <td>0.2682926829268293</td>\n",
              "      <td>0.42771084337349397</td>\n",
              "      <td>0.39263803680981596</td>\n",
              "      <td>0.45</td>\n",
              "      <td>0.4467137021908652</td>\n",
              "    </tr>\n",
              "    <tr>\n",
              "      <th>Government and Politics</th>\n",
              "      <td>0.012048192771084338</td>\n",
              "      <td>0.08284023668639054</td>\n",
              "      <td>0.03821656050955414</td>\n",
              "      <td>0.06918238993710692</td>\n",
              "      <td>0.10240963855421686</td>\n",
              "      <td>0.22560975609756098</td>\n",
              "      <td>0.16049382716049382</td>\n",
              "      <td>0.19254658385093168</td>\n",
              "      <td>0.1702127659574468</td>\n",
              "      <td>0.20121951219512196</td>\n",
              "      <td>0.2085889570552147</td>\n",
              "      <td>0.18181818181818182</td>\n",
              "      <td>0.1656441717791411</td>\n",
              "      <td>0.20121951219512196</td>\n",
              "      <td>0.12650602409638553</td>\n",
              "      <td>0.12883435582822086</td>\n",
              "      <td>0.17</td>\n",
              "      <td>0.14259190493873003</td>\n",
              "    </tr>\n",
              "    <tr>\n",
              "      <th>Media</th>\n",
              "      <td>0.06626506024096386</td>\n",
              "      <td>0.1242603550295858</td>\n",
              "      <td>0.19745222929936307</td>\n",
              "      <td>0.2641509433962264</td>\n",
              "      <td>0.2469879518072289</td>\n",
              "      <td>0.27439024390243905</td>\n",
              "      <td>0.3333333333333333</td>\n",
              "      <td>0.2919254658385093</td>\n",
              "      <td>0.3333333333333333</td>\n",
              "      <td>0.4695121951219512</td>\n",
              "      <td>0.3619631901840491</td>\n",
              "      <td>0.30303030303030304</td>\n",
              "      <td>0.3128834355828221</td>\n",
              "      <td>0.3170731707317073</td>\n",
              "      <td>0.3072289156626506</td>\n",
              "      <td>0.32515337423312884</td>\n",
              "      <td>0.24</td>\n",
              "      <td>0.28072781284812476</td>\n",
              "    </tr>\n",
              "    <tr>\n",
              "      <th>Other</th>\n",
              "      <td>0.018072289156626505</td>\n",
              "      <td>0.05325443786982249</td>\n",
              "      <td>0.03821656050955414</td>\n",
              "      <td>0.0440251572327044</td>\n",
              "      <td>0.09036144578313253</td>\n",
              "      <td>0.11585365853658537</td>\n",
              "      <td>0.13580246913580246</td>\n",
              "      <td>0.15527950310559005</td>\n",
              "      <td>0.24113475177304963</td>\n",
              "      <td>0.12195121951219512</td>\n",
              "      <td>0.22085889570552147</td>\n",
              "      <td>0.16363636363636364</td>\n",
              "      <td>0.18404907975460122</td>\n",
              "      <td>0.21341463414634146</td>\n",
              "      <td>0.13855421686746988</td>\n",
              "      <td>0.15337423312883436</td>\n",
              "      <td>0.14</td>\n",
              "      <td>0.12996658002227998</td>\n",
              "    </tr>\n",
              "  </tbody>\n",
              "</table>\n",
              "</div>"
            ],
            "text/plain": [
              "Year                                    1999  ...                 All\n",
              "Occupation                                    ...                    \n",
              "Acting, Comedy & Music    0.9036144578313253  ...  0.4467137021908652\n",
              "Government and Politics 0.012048192771084338  ... 0.14259190493873003\n",
              "Media                    0.06626506024096386  ... 0.28072781284812476\n",
              "Other                   0.018072289156626505  ... 0.12996658002227998\n",
              "\n",
              "[4 rows x 18 columns]"
            ]
          },
          "metadata": {
            "tags": []
          },
          "execution_count": 22
        }
      ]
    },
    {
      "cell_type": "markdown",
      "metadata": {
        "id": "Kiq56dZb92LY",
        "colab_type": "text"
      },
      "source": [
        "### Part 2 — Recreate this explanatory visualization:"
      ]
    },
    {
      "cell_type": "code",
      "metadata": {
        "id": "HKLDMWwP98vz",
        "colab_type": "code",
        "outputId": "a07155e9-43af-4640-df3d-d4e7b4a38a8b",
        "colab": {
          "base_uri": "https://localhost:8080/",
          "height": 406
        }
      },
      "source": [
        "from IPython.display import display, Image\n",
        "png = 'https://fivethirtyeight.com/wp-content/uploads/2015/08/hickey-datalab-dailyshow.png'\n",
        "example = Image(png, width=500)\n",
        "display(example)"
      ],
      "execution_count": 65,
      "outputs": [
        {
          "output_type": "display_data",
          "data": {
            "image/png": "[encoded data removed]",
            "text/plain": [
              "<IPython.core.display.Image object>"
            ]
          },
          "metadata": {
            "tags": [],
            "image/png": {
              "width": 500
            }
          }
        }
      ]
    },
    {
      "cell_type": "markdown",
      "metadata": {
        "id": "TK5fDIag9-F6",
        "colab_type": "text"
      },
      "source": [
        "**Hints:**\n",
        "- You can choose any Python visualization library you want. I've verified the plot can be reproduced with matplotlib, pandas plot, or seaborn. I assume other libraries like altair or plotly would work too.\n",
        "- If you choose to use seaborn, you may want to upgrade the version to 0.9.0.\n",
        "\n",
        "**Expectations:** Your plot should include:\n",
        "- 3 lines visualizing \"occupation of guests, by year.\" The shapes of the lines should look roughly identical to 538's example. Each line should be a different color. (But you don't need to use the _same_ colors as 538.)\n",
        "- Legend or labels for the lines. (But you don't need each label positioned next to its line or colored like 538.)\n",
        "- Title in the upper left: _\"Who Got To Be On 'The Daily Show'?\"_ with more visual emphasis than the subtitle. (Bolder and/or larger font.)\n",
        "- Subtitle underneath the title: _\"Occupation of guests, by year\"_\n",
        "\n",
        "**Optional Bonus Challenge:**\n",
        "- Give your plot polished aesthetics, with improved resemblance to the 538 example.\n",
        "- Any visual element not specifically mentioned in the expectations is an optional bonus."
      ]
    },
    {
      "cell_type": "code",
      "metadata": {
        "id": "CaB8MMV099Kh",
        "colab_type": "code",
        "colab": {}
      },
      "source": [
        "url = 'https://raw.githubusercontent.com/fivethirtyeight/data/master/daily-show-guests/daily_show_guests.csv'\n",
        "df = pd.read_csv(url).rename(columns={'YEAR': 'Year', 'Raw_Guest_List': 'Guest'})"
      ],
      "execution_count": 0,
      "outputs": []
    },
    {
      "cell_type": "code",
      "metadata": {
        "id": "kjJOKUpeSsrM",
        "colab_type": "code",
        "colab": {
          "base_uri": "https://localhost:8080/",
          "height": 490
        },
        "outputId": "f4f984c5-04aa-49b2-841a-89691a40c10e"
      },
      "source": [
        "import matplotlib.style as style\n",
        "style.available"
      ],
      "execution_count": 73,
      "outputs": [
        {
          "output_type": "execute_result",
          "data": {
            "text/plain": [
              "['seaborn-dark-palette',\n",
              " 'seaborn-deep',\n",
              " 'Solarize_Light2',\n",
              " '_classic_test',\n",
              " 'ggplot',\n",
              " 'seaborn-darkgrid',\n",
              " 'seaborn',\n",
              " 'tableau-colorblind10',\n",
              " 'seaborn-white',\n",
              " 'seaborn-colorblind',\n",
              " 'seaborn-muted',\n",
              " 'seaborn-talk',\n",
              " 'fast',\n",
              " 'bmh',\n",
              " 'seaborn-whitegrid',\n",
              " 'seaborn-dark',\n",
              " 'seaborn-pastel',\n",
              " 'seaborn-notebook',\n",
              " 'seaborn-poster',\n",
              " 'seaborn-bright',\n",
              " 'dark_background',\n",
              " 'seaborn-paper',\n",
              " 'seaborn-ticks',\n",
              " 'grayscale',\n",
              " 'classic',\n",
              " 'fivethirtyeight']"
            ]
          },
          "metadata": {
            "tags": []
          },
          "execution_count": 73
        }
      ]
    },
    {
      "cell_type": "code",
      "metadata": {
        "id": "lTbZBWpKThI0",
        "colab_type": "code",
        "colab": {
          "base_uri": "https://localhost:8080/",
          "height": 198
        },
        "outputId": "b40734a0-9e9b-4af3-a5ba-5cb49b4116d9"
      },
      "source": [
        "%matplotlib inline\n",
        "import matplotlib.pyplot as plt\n",
        "import numpy as np\n",
        "import pandas as pd\n",
        "import seaborn as sns\n",
        "df = pd.read_csv('https://raw.githubusercontent.com/fivethirtyeight/data/master/daily-show-guests/daily_show_guests.csv')\n",
        "\n",
        "df.head()"
      ],
      "execution_count": 77,
      "outputs": [
        {
          "output_type": "execute_result",
          "data": {
            "text/html": [
              "<div>\n",
              "<style scoped>\n",
              "    .dataframe tbody tr th:only-of-type {\n",
              "        vertical-align: middle;\n",
              "    }\n",
              "\n",
              "    .dataframe tbody tr th {\n",
              "        vertical-align: top;\n",
              "    }\n",
              "\n",
              "    .dataframe thead th {\n",
              "        text-align: right;\n",
              "    }\n",
              "</style>\n",
              "<table border=\"1\" class=\"dataframe\">\n",
              "  <thead>\n",
              "    <tr style=\"text-align: right;\">\n",
              "      <th></th>\n",
              "      <th>YEAR</th>\n",
              "      <th>GoogleKnowlege_Occupation</th>\n",
              "      <th>Show</th>\n",
              "      <th>Group</th>\n",
              "      <th>Raw_Guest_List</th>\n",
              "    </tr>\n",
              "  </thead>\n",
              "  <tbody>\n",
              "    <tr>\n",
              "      <th>0</th>\n",
              "      <td>1999</td>\n",
              "      <td>actor</td>\n",
              "      <td>1/11/99</td>\n",
              "      <td>Acting</td>\n",
              "      <td>Michael J. Fox</td>\n",
              "    </tr>\n",
              "    <tr>\n",
              "      <th>1</th>\n",
              "      <td>1999</td>\n",
              "      <td>Comedian</td>\n",
              "      <td>1/12/99</td>\n",
              "      <td>Comedy</td>\n",
              "      <td>Sandra Bernhard</td>\n",
              "    </tr>\n",
              "    <tr>\n",
              "      <th>2</th>\n",
              "      <td>1999</td>\n",
              "      <td>television actress</td>\n",
              "      <td>1/13/99</td>\n",
              "      <td>Acting</td>\n",
              "      <td>Tracey Ullman</td>\n",
              "    </tr>\n",
              "    <tr>\n",
              "      <th>3</th>\n",
              "      <td>1999</td>\n",
              "      <td>film actress</td>\n",
              "      <td>1/14/99</td>\n",
              "      <td>Acting</td>\n",
              "      <td>Gillian Anderson</td>\n",
              "    </tr>\n",
              "    <tr>\n",
              "      <th>4</th>\n",
              "      <td>1999</td>\n",
              "      <td>actor</td>\n",
              "      <td>1/18/99</td>\n",
              "      <td>Acting</td>\n",
              "      <td>David Alan Grier</td>\n",
              "    </tr>\n",
              "  </tbody>\n",
              "</table>\n",
              "</div>"
            ],
            "text/plain": [
              "   YEAR GoogleKnowlege_Occupation     Show   Group    Raw_Guest_List\n",
              "0  1999                     actor  1/11/99  Acting    Michael J. Fox\n",
              "1  1999                  Comedian  1/12/99  Comedy   Sandra Bernhard\n",
              "2  1999        television actress  1/13/99  Acting     Tracey Ullman\n",
              "3  1999              film actress  1/14/99  Acting  Gillian Anderson\n",
              "4  1999                     actor  1/18/99  Acting  David Alan Grier"
            ]
          },
          "metadata": {
            "tags": []
          },
          "execution_count": 77
        }
      ]
    },
    {
      "cell_type": "code",
      "metadata": {
        "id": "TweOZZKfTox-",
        "colab_type": "code",
        "colab": {}
      },
      "source": [
        "df.rename(columns={'YEAR': 'Year', 'Raw_Guest_List': 'Guest'}, inplace=True)"
      ],
      "execution_count": 0,
      "outputs": []
    },
    {
      "cell_type": "code",
      "metadata": {
        "id": "4zTeP8IfTs2J",
        "colab_type": "code",
        "colab": {}
      },
      "source": [
        "def get_occupation(group):\n",
        "    if group in ['Acting', 'Comedy', 'Musician']:\n",
        "        return 'Acting, Comedy & Music'\n",
        "    elif group in ['Media', 'media']:\n",
        "        return 'Media'\n",
        "    elif group in ['Government', 'Politician', 'Political Aide']:\n",
        "        return 'Government and Politics'\n",
        "    else:\n",
        "        return 'Other'\n",
        "df['Occupation'] = df['Group'].apply(get_occupation)"
      ],
      "execution_count": 0,
      "outputs": []
    },
    {
      "cell_type": "code",
      "metadata": {
        "id": "py7aU2f7TuzJ",
        "colab_type": "code",
        "colab": {}
      },
      "source": [
        "ct = pd.crosstab(df.Year, df.Occupation, normalize='index')*100"
      ],
      "execution_count": 0,
      "outputs": []
    },
    {
      "cell_type": "code",
      "metadata": {
        "id": "Ly1X58aJTwvZ",
        "colab_type": "code",
        "colab": {}
      },
      "source": [
        "ct = ct.drop(columns=['Other'])"
      ],
      "execution_count": 0,
      "outputs": []
    },
    {
      "cell_type": "code",
      "metadata": {
        "id": "Wukg4qSETypJ",
        "colab_type": "code",
        "colab": {}
      },
      "source": [
        "year = ct.index.tolist()"
      ],
      "execution_count": 0,
      "outputs": []
    },
    {
      "cell_type": "code",
      "metadata": {
        "id": "04ks9podT2rZ",
        "colab_type": "code",
        "colab": {
          "base_uri": "https://localhost:8080/",
          "height": 465
        },
        "outputId": "c61a68d8-055d-42ff-b35a-9b10fb29bdf9"
      },
      "source": [
        "plt.style.use('fivethirtyeight')\n",
        "\n",
        "\n",
        "fig, ax = plt.subplots(figsize=(8,6))\n",
        "    \n",
        "\n",
        "ax1 = sns.lineplot(x=year, y=ct['Acting, Comedy & Music'].tolist(), color='#0F95D7', lw=2.5)\n",
        "ax2 = sns.lineplot(x=year, y=ct['Government and Politics'].tolist(), color='#FF2700', lw=2.5)\n",
        "ax3 = sns.lineplot(x=year, y=ct['Media'].tolist(), color='#810F7C', lw=2.5)\n",
        "\n",
        "plt.ylim(-5,110)\n",
        "\n",
        "\n",
        "ax1.axhline(y=0, color='#414141', linewidth=1.5, alpha=.5)\n",
        "\n",
        "\n",
        "ax.set_yticks([0, 25, 50, 75, 100])\n",
        "ax.set_yticklabels(labels=['0', '25', '50', '75', '100%'], fontsize=14, color='#414141')\n",
        "\n",
        "\n",
        "ax.set_xticks([2000, 2004, 2008, 2012])\n",
        "ax.set_xticklabels(['2000', '2004', '20008', '2012'], fontsize=14, color='#414141')\n",
        "\n",
        "\n",
        "ax.text(x=1996.7, y=118, s=\"Who Got to Be On 'The Daily Show'?\", fontsize=18.5, fontweight='semibold', color='#414141')\n",
        "\n",
        "ax.text(x=1996.7, y=112, s='Occupation of guests, by year', fontsize=16.5, color='#414141')\n",
        "\n",
        "ax.text(x=2000.5, y=81, s=\"Acting, Comedy & Music\", fontsize=13, fontweight='semibold', color='#0F95D7')\n",
        "ax.text(x=2008.5, y=6, s=\"Government and Politics\", fontsize=13, fontweight='semibold', color='#FF2700')\n",
        "ax.text(x=2007.1, y=52, s=\"Media\", fontsize=13, fontweight='semibold', color='#810F7C')\n",
        "\n",
        "ax1.text(x = 1996.7, y = -18.5,\n",
        "    s = '   Occupation of guests, by year',\n",
        "    fontsize = 14, color = '#f0f0f0', backgroundcolor = '#414141');"
      ],
      "execution_count": 87,
      "outputs": [
        {
          "output_type": "display_data",
          "data": {
            "image/png": "[encoded data removed]",
            "text/plain": [
              "<Figure size 576x432 with 1 Axes>"
            ]
          },
          "metadata": {
            "tags": []
          }
        }
      ]
    }
  ]
}