{
  "nbformat": 4,
  "nbformat_minor": 0,
  "metadata": {
    "colab": {
      "name": "Luc Guittard - LS_DS_123_Make_Explanatory_Visualizations_Assignment.ipynb",
      "version": "0.3.2",
      "provenance": [],
      "collapsed_sections": [],
      "include_colab_link": true
    },
    "language_info": {
      "codemirror_mode": {
        "name": "ipython",
        "version": 3
      },
      "file_extension": ".py",
      "mimetype": "text/x-python",
      "name": "python",
      "nbconvert_exporter": "python",
      "pygments_lexer": "ipython3",
      "version": "3.7.1"
    },
    "kernelspec": {
      "display_name": "Python 3",
      "language": "python",
      "name": "python3"
    }
  },
  "cells": [
    {
      "cell_type": "markdown",
      "metadata": {
        "id": "view-in-github",
        "colab_type": "text"
      },
      "source": [
        "<a href=\"https://colab.research.google.com/github/lucguittard/DS-Unit-1-Sprint-2-Data-Wrangling-and-Storytelling/blob/master/Luc_Guittard_LS_DS_123_Make_Explanatory_Visualizations_Assignment.ipynb\" target=\"_parent\"><img src=\"https://colab.research.google.com/assets/colab-badge.svg\" alt=\"Open In Colab\"/></a>"
      ]
    },
    {
      "cell_type": "markdown",
      "metadata": {
        "colab_type": "text",
        "id": "NMEswXWh9mqw"
      },
      "source": [
        "# ASSIGNMENT\n",
        "\n",
        "### 1) Replicate the lesson code. I recommend that you [do not copy-paste](https://docs.google.com/document/d/1ubOw9B3Hfip27hF2ZFnW3a3z9xAgrUDRReOEo-FHCVs/edit).\n",
        "\n",
        "### 2) Reproduce one of the following using the matplotlib or seaborn libraries:\n",
        "\n",
        "- [thanksgiving-2015](https://fivethirtyeight.com/features/heres-what-your-part-of-america-eats-on-thanksgiving/) (try the [`altair`](https://altair-viz.github.io/gallery/index.html#maps) library)\n",
        "- [candy-power-ranking](https://fivethirtyeight.com/features/the-ultimate-halloween-candy-power-ranking/) (try the [`statsmodels`](https://www.statsmodels.org/stable/index.html) library)\n",
        "- or another example of your choice!\n",
        "\n",
        "\n",
        "\n",
        "\n",
        "\n",
        "\n",
        "\n",
        "\n",
        "\n"
      ]
    },
    {
      "cell_type": "code",
      "metadata": {
        "id": "7SY1ZHawyZvz",
        "colab_type": "code",
        "outputId": "1b4585b7-5f90-4e96-d92b-7c6b42405cce",
        "colab": {
          "base_uri": "https://localhost:8080/",
          "height": 355
        }
      },
      "source": [
        "# Your Work Here\n",
        "\n",
        "#replication of lesson code\n",
        "\n",
        "from IPython.display import display, Image\n",
        "\n",
        "url = 'https://fivethirtyeight.com/wp-content/uploads/2017/09/mehtahickey-inconvenient-0830-1.png'\n",
        "example = Image(url=url, width=400)\n",
        "\n",
        "display(example)"
      ],
      "execution_count": 0,
      "outputs": [
        {
          "output_type": "display_data",
          "data": {
            "text/html": [
              "<img src=\"https://fivethirtyeight.com/wp-content/uploads/2017/09/mehtahickey-inconvenient-0830-1.png\" width=\"400\"/>"
            ],
            "text/plain": [
              "<IPython.core.display.Image object>"
            ]
          },
          "metadata": {
            "tags": []
          }
        }
      ]
    },
    {
      "cell_type": "code",
      "metadata": {
        "id": "ttdI_eZLGi4W",
        "colab_type": "code",
        "colab": {}
      },
      "source": [
        "import matplotlib.pyplot as plt\n",
        "import numpy as np\n",
        "import pandas as pd\n",
        "\n",
        "plt.style.use('fivethirtyeight')\n",
        "\n",
        "fake = pd.Series([20,5,4,6,2,10],index = range(1,7))"
      ],
      "execution_count": 0,
      "outputs": []
    },
    {
      "cell_type": "code",
      "metadata": {
        "id": "sEG9jsu_G2l_",
        "colab_type": "code",
        "colab": {}
      },
      "source": [
        "fake1 = pd.Series([3,4,5,\n",
        "                 6,7,8,6,8,\n",
        "                  3,3,3,4,5,\n",
        "                  5,5,5,5,\n",
        "                  5,5,5,9])\n",
        "fake1.plot.bar(color='C3', width=0.9);\n",
        "#fake.value_counts()"
      ],
      "execution_count": 0,
      "outputs": []
    },
    {
      "cell_type": "code",
      "metadata": {
        "id": "Ng_-_QaOHpSI",
        "colab_type": "code",
        "colab": {}
      },
      "source": [
        "fake1.value_counts().sort_index().plot.bar(color = 'C2',width = .5);"
      ],
      "execution_count": 0,
      "outputs": []
    },
    {
      "cell_type": "code",
      "metadata": {
        "id": "iEhKBSwSI40R",
        "colab_type": "code",
        "colab": {}
      },
      "source": [
        "import matplotlib.pyplot as plt\n",
        "plt.style.use('fivethirtyeight')\n",
        "fig = plt.figure()\n",
        "\n",
        "ax = fake1.plot.bar(color='C1', width =.5)"
      ],
      "execution_count": 0,
      "outputs": []
    },
    {
      "cell_type": "code",
      "metadata": {
        "id": "oyNA5l4aKX9q",
        "colab_type": "code",
        "outputId": "24c99711-b476-40d7-8e44-4fae25c0b248",
        "colab": {
          "base_uri": "https://localhost:8080/",
          "height": 324
        }
      },
      "source": [
        "#display(example)\n",
        "# plt.style.use('fivethirtyeight')\n",
        "# plt.xlabel('Rating')\n",
        "# plt.ylabel('Percent total votes')\n",
        "\n",
        "fig = plt.figure\n",
        "#fig.patch.set(facecolor = 'white')\n",
        "#fig.patch.set_alpha(0) #, no go for patch\n",
        "\n",
        "ax = fake.plot.bar(color='C1',width=.5)\n",
        "ax.set(facecolor='white')\n",
        "#ax.patch.set_alpha(.1) #, Patch not working\n",
        "\n",
        "plt.style.use('fivethirtyeight')\n",
        "plt.xlabel('Rating')\n",
        "plt.ylabel('Percent total votes')\n",
        "plt.title('The Ratings Are...', fontsize = 18 , fontweight = 'bold', x=-.12,y=1,\n",
        "          loc = 'left')\n",
        "\n",
        "#plt.suptitle(...)\n",
        "ax.text(x=-1.2,y=20, s='This is a test', fontsize=10) #setting a text obj on the output\n",
        "\n",
        "ax.set_xticklabels(range(1,7,1),rotation = 0)\n",
        "ax.set_yticks(range(0,21,2))\n",
        "ax.set_yticklabels(range(0,21,2))\n",
        "\n",
        "\n",
        "#check out kwargs from matplotlib.text\n",
        "\n",
        "plt.show()"
      ],
      "execution_count": 0,
      "outputs": [
        {
          "output_type": "display_data",
          "data": {
            "image/png": "[encoded data removed]",
            "text/plain": [
              "<Figure size 432x288 with 1 Axes>"
            ]
          },
          "metadata": {
            "tags": []
          }
        }
      ]
    },
    {
      "cell_type": "code",
      "metadata": {
        "id": "HCfKsewXqEAx",
        "colab_type": "code",
        "colab": {}
      },
      "source": [
        "import statsmodels.api as sm\n",
        "import pandas as pd\n",
        "import numpy as np\n",
        "import matplotlib.pyplot as plt"
      ],
      "execution_count": 0,
      "outputs": []
    },
    {
      "cell_type": "code",
      "metadata": {
        "id": "kHf0rNW3_sy2",
        "colab_type": "code",
        "outputId": "f35e22e0-982b-4a10-9f36-d921c00e3a22",
        "colab": {
          "base_uri": "https://localhost:8080/",
          "height": 416
        }
      },
      "source": [
        "#bad-drivers dataset - horizontal bars\n",
        "\n",
        "df = pd.read_csv('https://raw.githubusercontent.com/fivethirtyeight/data/master/bad-drivers/bad-drivers.csv')\n",
        "print(df.shape)\n",
        "df.head()"
      ],
      "execution_count": 0,
      "outputs": [
        {
          "output_type": "stream",
          "text": [
            "(51, 8)\n"
          ],
          "name": "stdout"
        },
        {
          "output_type": "execute_result",
          "data": {
            "text/html": [
              "<div>\n",
              "<style scoped>\n",
              "    .dataframe tbody tr th:only-of-type {\n",
              "        vertical-align: middle;\n",
              "    }\n",
              "\n",
              "    .dataframe tbody tr th {\n",
              "        vertical-align: top;\n",
              "    }\n",
              "\n",
              "    .dataframe thead th {\n",
              "        text-align: right;\n",
              "    }\n",
              "</style>\n",
              "<table border=\"1\" class=\"dataframe\">\n",
              "  <thead>\n",
              "    <tr style=\"text-align: right;\">\n",
              "      <th></th>\n",
              "      <th>State</th>\n",
              "      <th>Number of drivers involved in fatal collisions per billion miles</th>\n",
              "      <th>Percentage Of Drivers Involved In Fatal Collisions Who Were Speeding</th>\n",
              "      <th>Percentage Of Drivers Involved In Fatal Collisions Who Were Alcohol-Impaired</th>\n",
              "      <th>Percentage Of Drivers Involved In Fatal Collisions Who Were Not Distracted</th>\n",
              "      <th>Percentage Of Drivers Involved In Fatal Collisions Who Had Not Been Involved In Any Previous Accidents</th>\n",
              "      <th>Car Insurance Premiums ($)</th>\n",
              "      <th>Losses incurred by insurance companies for collisions per insured driver ($)</th>\n",
              "    </tr>\n",
              "  </thead>\n",
              "  <tbody>\n",
              "    <tr>\n",
              "      <th>0</th>\n",
              "      <td>Alabama</td>\n",
              "      <td>18.8</td>\n",
              "      <td>39</td>\n",
              "      <td>30</td>\n",
              "      <td>96</td>\n",
              "      <td>80</td>\n",
              "      <td>784.55</td>\n",
              "      <td>145.08</td>\n",
              "    </tr>\n",
              "    <tr>\n",
              "      <th>1</th>\n",
              "      <td>Alaska</td>\n",
              "      <td>18.1</td>\n",
              "      <td>41</td>\n",
              "      <td>25</td>\n",
              "      <td>90</td>\n",
              "      <td>94</td>\n",
              "      <td>1053.48</td>\n",
              "      <td>133.93</td>\n",
              "    </tr>\n",
              "    <tr>\n",
              "      <th>2</th>\n",
              "      <td>Arizona</td>\n",
              "      <td>18.6</td>\n",
              "      <td>35</td>\n",
              "      <td>28</td>\n",
              "      <td>84</td>\n",
              "      <td>96</td>\n",
              "      <td>899.47</td>\n",
              "      <td>110.35</td>\n",
              "    </tr>\n",
              "    <tr>\n",
              "      <th>3</th>\n",
              "      <td>Arkansas</td>\n",
              "      <td>22.4</td>\n",
              "      <td>18</td>\n",
              "      <td>26</td>\n",
              "      <td>94</td>\n",
              "      <td>95</td>\n",
              "      <td>827.34</td>\n",
              "      <td>142.39</td>\n",
              "    </tr>\n",
              "    <tr>\n",
              "      <th>4</th>\n",
              "      <td>California</td>\n",
              "      <td>12.0</td>\n",
              "      <td>35</td>\n",
              "      <td>28</td>\n",
              "      <td>91</td>\n",
              "      <td>89</td>\n",
              "      <td>878.41</td>\n",
              "      <td>165.63</td>\n",
              "    </tr>\n",
              "  </tbody>\n",
              "</table>\n",
              "</div>"
            ],
            "text/plain": [
              "        State  ...  Losses incurred by insurance companies for collisions per insured driver ($)\n",
              "0     Alabama  ...                                             145.08                           \n",
              "1      Alaska  ...                                             133.93                           \n",
              "2     Arizona  ...                                             110.35                           \n",
              "3    Arkansas  ...                                             142.39                           \n",
              "4  California  ...                                             165.63                           \n",
              "\n",
              "[5 rows x 8 columns]"
            ]
          },
          "metadata": {
            "tags": []
          },
          "execution_count": 4
        }
      ]
    },
    {
      "cell_type": "code",
      "metadata": {
        "id": "mOLcrNSpCt6a",
        "colab_type": "code",
        "outputId": "dabc228e-fb3e-40b1-905c-15e46a43a7f3",
        "colab": {
          "base_uri": "https://localhost:8080/",
          "height": 922
        }
      },
      "source": [
        "url = 'https://fivethirtyeight.com/wp-content/uploads/2014/10/chalabi-dearmona-distracted.png?w=1150'\n",
        "from IPython.display import display, Image\n",
        "goal = Image(url=url, width=400)\n",
        "\n",
        "display(goal)"
      ],
      "execution_count": 0,
      "outputs": [
        {
          "output_type": "display_data",
          "data": {
            "text/html": [
              "<img src=\"https://fivethirtyeight.com/wp-content/uploads/2014/10/chalabi-dearmona-distracted.png?w=1150\" width=\"400\"/>"
            ],
            "text/plain": [
              "<IPython.core.display.Image object>"
            ]
          },
          "metadata": {
            "tags": []
          }
        }
      ]
    },
    {
      "cell_type": "code",
      "metadata": {
        "id": "QbPQI-u5mgJt",
        "colab_type": "code",
        "colab": {}
      },
      "source": [
        "#ax.get_loc #refer to proper syntax to change orientation of ax"
      ],
      "execution_count": 0,
      "outputs": []
    },
    {
      "cell_type": "code",
      "metadata": {
        "id": "RG6ZGbARvn49",
        "colab_type": "code",
        "colab": {}
      },
      "source": [
        "df['w']"
      ],
      "execution_count": 0,
      "outputs": []
    },
    {
      "cell_type": "code",
      "metadata": {
        "id": "qcUUO_aa_1Fs",
        "colab_type": "code",
        "outputId": "032ac750-ae17-48f4-d25d-40d3bbe741c3",
        "colab": {
          "base_uri": "https://localhost:8080/",
          "height": 725
        }
      },
      "source": [
        "plt.style.use('fivethirtyeight')\n",
        "\n",
        "\n",
        "fig, ax = plt.subplots()\n",
        "states = list(df['State'])\n",
        "y_pos = np.arange(len(states))\n",
        "wrecks_total = list(df['Number of drivers involved in fatal collisions per billion miles'])\n",
        "#wrecks_not_distracted = list(df[''])\n",
        "\n",
        "# insert code here for changing the ax size\n",
        "fig.set_size_inches(18.5, 10.5, forward=True)\n",
        "\n",
        "\n",
        "#for tunning of the bar width\n",
        "width = .3; \n",
        "ax.set_ylim(20)\n",
        "\n",
        "#dropping the hgrid lines\n",
        "ax.grid(b=None, axis='y')\n",
        "ax.grid(b=True, axis = 'x') #mic drop\n",
        "\n",
        "#more on the plot itself\n",
        "ax.barh(y_pos, wrecks_total, width, align = 'center', label = 'a', color = 'orange') \n",
        "#bar2 = ax.barh(y_pos, , wrecks_not_distracted, width, align = 'center', label = 'b', color = 'orange')\n",
        "\n",
        "ax.set_yticks(y_pos)\n",
        "ax.set_yticklabels(states, fontsize = 5)\n",
        "#ax.invert_yaxis() #inverts index\n",
        "ax.set_title('Drivers Involved In Fatal Collisions Who Were Not Distracted',fontsize = 12 , fontweight = 'bold', x=-.19,y=1, loc = 'left')\n",
        "\n",
        "ax.text(x=-4.7, y=-1.2, s='As a share...', fontsize=10)\n",
        "ax.legend(loc = 'upper left') #legend element\n",
        "#left limit for title lines up with NH, rename Distric of Columbia to DC, add stacked element\n"
      ],
      "execution_count": 76,
      "outputs": [
        {
          "output_type": "execute_result",
          "data": {
            "text/plain": [
              "<matplotlib.legend.Legend at 0x7f3e94789fd0>"
            ]
          },
          "metadata": {
            "tags": []
          },
          "execution_count": 76
        },
        {
          "output_type": "display_data",
          "data": {
            "image/png": "[encoded data removed]",
            "text/plain": [
              "<Figure size 1332x756 with 1 Axes>"
            ]
          },
          "metadata": {
            "tags": []
          }
        }
      ]
    },
    {
      "cell_type": "code",
      "metadata": {
        "id": "kHlPsRoUrryC",
        "colab_type": "code",
        "colab": {}
      },
      "source": [
        "# Candy-Power\n",
        "pd.read_csv('https://raw.githubusercontent.com/fivethirtyeight/data/master/candy-power-ranking/candy-data.csv')"
      ],
      "execution_count": 0,
      "outputs": []
    },
    {
      "cell_type": "code",
      "metadata": {
        "id": "Ya4oV4nJ7_mD",
        "colab_type": "code",
        "colab": {}
      },
      "source": [
        "#Columns/variables of interest: rank, candy, win percentage\n",
        "#Need to add a rank column and set as the index column\n",
        "candy1 = candy.sort_values(by=['winpercent'],ascending = False)\n",
        "candy1['RK'] = candy1['winpercent'].rank(ascending = False)\n",
        "candy1.head()\n",
        "#got all the requisit columns, now need to experiment with proper *table* formating"
      ],
      "execution_count": 0,
      "outputs": []
    },
    {
      "cell_type": "code",
      "metadata": {
        "id": "TmrvXmZX_PGX",
        "colab_type": "code",
        "colab": {}
      },
      "source": [
        "import matplotlib.pyplot as plt\n",
        "plt.style.use('fivethirtyeight')\n",
        "\n",
        "fig, ax = plt.subplots()\n",
        "candy_names = list(candy1['competitorname'])\n",
        "win_percents = list(candy1['winpercent'])\n",
        "ranks = list(candy1['RK'])\n",
        "cell_text = [candy_names,ranks]\n",
        "\n",
        "plt.barh(ranks,win_percents) #-> need to invert somehow\n",
        "\n",
        "\n",
        "#see if possible to add stacked index with candy_names and win_percents\n",
        "\n",
        "#check out https://stackoverflow.com/questions/54138482/matplotlib-bar-plot-with-table-formatting\n",
        "\n",
        "# fig = plt.figure()\n",
        "# ax = candy1.plt.barh(color='C2',width=.5)\n",
        "\n",
        "the_table = plt.table(cellText = cell_text, loc = 'left')\n"
      ],
      "execution_count": 0,
      "outputs": []
    },
    {
      "cell_type": "code",
      "metadata": {
        "id": "pbV-zvwNFzPp",
        "colab_type": "code",
        "colab": {}
      },
      "source": [
        ""
      ],
      "execution_count": 0,
      "outputs": []
    },
    {
      "cell_type": "code",
      "metadata": {
        "id": "j2gdMUEgtkBY",
        "colab_type": "code",
        "colab": {}
      },
      "source": [
        "df.plot(x = 'competitorname', y = 'winpercent', figsize = (10,10))\n"
      ],
      "execution_count": 0,
      "outputs": []
    },
    {
      "cell_type": "code",
      "metadata": {
        "id": "tTLgZs0_4Dod",
        "colab_type": "code",
        "colab": {}
      },
      "source": [
        "import matplotlib.style as style\n",
        "style.available"
      ],
      "execution_count": 0,
      "outputs": []
    },
    {
      "cell_type": "code",
      "metadata": {
        "id": "2JBmxKpw4Tzn",
        "colab_type": "code",
        "colab": {}
      },
      "source": [
        "style.use('fivethirtyeight')\n",
        "df.plot(x = 'competitorname', y = 'winpercent', figsize = (10,10))\n"
      ],
      "execution_count": 0,
      "outputs": []
    },
    {
      "cell_type": "code",
      "metadata": {
        "id": "hIRQfgTz5jOb",
        "colab_type": "code",
        "colab": {}
      },
      "source": [
        "# check out http://cican17.com/data-visualization-with-python/ for choropleth example\n",
        "\n",
        "df2=pd.read_csv('https://raw.githubusercontent.com/fivethirtyeight/data/master/thanksgiving-2015/thanksgiving-2015-poll-data.csv')\n",
        "df2.plot()\n",
        "import altair as alt\n",
        "df2.plot()"
      ],
      "execution_count": 0,
      "outputs": []
    },
    {
      "cell_type": "code",
      "metadata": {
        "id": "CXix_Zs3XYsz",
        "colab_type": "code",
        "outputId": "e6aea722-4c69-4ff9-838d-6be8d691ba33",
        "colab": {
          "base_uri": "https://localhost:8080/",
          "height": 586
        }
      },
      "source": [
        "# fig = plt.figure(figsize=(8, 8))\n",
        "# ax = fig.add_subplot(1, 1, 1, aspect=1)\n",
        "\n",
        "import numpy as np\n",
        "import matplotlib.pyplot as plt\n",
        "\n",
        "\n",
        "data = [[ 66386, 174296,  75131, 577908,  32015],\n",
        "        [ 58230, 381139,  78045,  99308, 160454],\n",
        "        [ 89135,  80552, 152558, 497981, 603535],\n",
        "        [ 78415,  81858, 150656, 193263,  69638],\n",
        "        [139361, 331509, 343164, 781380,  52269]]\n",
        "\n",
        "columns = ('RK', 'Candy', 'Win Percentage', 't','he')\n",
        "\n",
        "values = np.arange(0, 86, 1)\n",
        "#value_increment = 1000\n",
        "\n",
        "# Get some pastel shades for the colors\n",
        "\n",
        "#n_rows = len(data)\n",
        "\n",
        "index = np.arange(len(columns)) + 0.3\n",
        "bar_width = 0.4\n",
        "\n",
        "# Initialize the vertical-offset for the stacked bar chart.\n",
        "#y_offset = np.zeros(len(columns))\n",
        "\n",
        "# Plot bars and create text labels for the table\n",
        "cell_text = []\n",
        "\n",
        "for row in range(n_rows):\n",
        "    plt.bar(index, data[row], bar_width, bottom=y_offset, color=colors[row])\n",
        "    y_offset = y_offset + data[row]\n",
        "    cell_text.append(['%1.1f' % (x / 1000.0) for x in y_offset])\n",
        "\n",
        "\n",
        "# Add a table to the left of bars\n",
        "the_table = plt.table(cellText=cell_text,\n",
        "                      colLabels=columns,\n",
        "                      loc='left')\n",
        "\n",
        "cell_text.reverse() #reorders column values in table to descending\n",
        "\n",
        "plt.yticks([]) #removes default of ticks for specified axis - no more ticks of any sort\n",
        "\n"
      ],
      "execution_count": 0,
      "outputs": [
        {
          "output_type": "execute_result",
          "data": {
            "text/plain": [
              "([], <a list of 0 Text yticklabel objects>)"
            ]
          },
          "metadata": {
            "tags": []
          },
          "execution_count": 131
        },
        {
          "output_type": "stream",
          "text": [
            "/usr/local/lib/python3.6/dist-packages/matplotlib/font_manager.py:1241: UserWarning: findfont: Font family ['Times New Roman'] not found. Falling back to DejaVu Sans.\n",
            "  (prop.get_family(), self.defaultFamily[fontext]))\n"
          ],
          "name": "stderr"
        },
        {
          "output_type": "display_data",
          "data": {
            "image/png": "[encoded data removed]",
            "text/plain": [
              "<Figure size 800x550 with 1 Axes>"
            ]
          },
          "metadata": {
            "tags": []
          }
        }
      ]
    },
    {
      "cell_type": "markdown",
      "metadata": {
        "id": "0wSrBzmJyWaV",
        "colab_type": "text"
      },
      "source": [
        "# STRETCH OPTIONS\n",
        "\n",
        "### 2) Reproduce another example from [FiveThityEight's shared data repository](https://data.fivethirtyeight.com/).\n",
        "\n",
        "\n",
        "### 3) Make more charts!\n",
        "\n",
        "Choose a chart you want to make, from [Visual Vocabulary - Vega Edition](http://ft.com/vocabulary).\n",
        "\n",
        "Find the chart in an example gallery of a Python data visualization library:\n",
        "- [Seaborn](http://seaborn.pydata.org/examples/index.html)\n",
        "- [Altair](https://altair-viz.github.io/gallery/index.html)\n",
        "- [Matplotlib](https://matplotlib.org/gallery.html)\n",
        "- [Pandas](https://pandas.pydata.org/pandas-docs/stable/visualization.html)\n",
        "\n",
        "Reproduce the chart. [Optionally, try the \"Ben Franklin Method.\"](https://docs.google.com/document/d/1ubOw9B3Hfip27hF2ZFnW3a3z9xAgrUDRReOEo-FHCVs/edit) If you want, experiment and make changes.\n",
        "\n",
        "Take notes. Consider sharing your work with your cohort!"
      ]
    },
    {
      "cell_type": "code",
      "metadata": {
        "id": "dRJkKftiy5BJ",
        "colab_type": "code",
        "colab": {}
      },
      "source": [
        "# More Work Here"
      ],
      "execution_count": 0,
      "outputs": []
    }
  ]
}