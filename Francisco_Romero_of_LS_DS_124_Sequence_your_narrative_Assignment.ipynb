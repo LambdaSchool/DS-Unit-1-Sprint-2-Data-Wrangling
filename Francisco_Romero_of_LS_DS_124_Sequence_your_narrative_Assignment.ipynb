{
  "nbformat": 4,
  "nbformat_minor": 0,
  "metadata": {
    "colab": {
      "name": "Francisco Romero of LS_DS_124_Sequence_your_narrative_Assignment.ipynb",
      "provenance": [],
      "collapsed_sections": [],
      "include_colab_link": true
    },
    "kernelspec": {
      "display_name": "Python 3",
      "language": "python",
      "name": "python3"
    },
    "language_info": {
      "codemirror_mode": {
        "name": "ipython",
        "version": 3
      },
      "file_extension": ".py",
      "mimetype": "text/x-python",
      "name": "python",
      "nbconvert_exporter": "python",
      "pygments_lexer": "ipython3",
      "version": "3.7.1"
    }
  },
  "cells": [
    {
      "cell_type": "markdown",
      "metadata": {
        "id": "view-in-github",
        "colab_type": "text"
      },
      "source": [
        "<a href=\"https://colab.research.google.com/github/Seiaku/DS-Unit-1-Sprint-2-Data-Wrangling-and-Storytelling/blob/master/Francisco_Romero_of_LS_DS_124_Sequence_your_narrative_Assignment.ipynb\" target=\"_parent\"><img src=\"https://colab.research.google.com/assets/colab-badge.svg\" alt=\"Open In Colab\"/></a>"
      ]
    },
    {
      "cell_type": "markdown",
      "metadata": {
        "colab_type": "text",
        "id": "JbDHnhet8CWy"
      },
      "source": [
        "_Lambda School Data Science_\n",
        "\n",
        "# Sequence Your Narrative - Assignment\n",
        "\n",
        "Today we will create a sequence of visualizations inspired by [Hans Rosling's 200 Countries, 200 Years, 4 Minutes](https://www.youtube.com/watch?v=jbkSRLYSojo).\n",
        "\n",
        "Using this [data from Gapminder](https://github.com/open-numbers/ddf--gapminder--systema_globalis/):\n",
        "- [Income Per Person (GDP Per Capital, Inflation Adjusted) by Geo & Time](https://raw.githubusercontent.com/open-numbers/ddf--gapminder--systema_globalis/master/ddf--datapoints--income_per_person_gdppercapita_ppp_inflation_adjusted--by--geo--time.csv)\n",
        "- [Life Expectancy (in Years) by Geo & Time](https://raw.githubusercontent.com/open-numbers/ddf--gapminder--systema_globalis/master/ddf--datapoints--life_expectancy_years--by--geo--time.csv)\n",
        "- [Population Totals, by Geo & Time](https://raw.githubusercontent.com/open-numbers/ddf--gapminder--systema_globalis/master/ddf--datapoints--population_total--by--geo--time.csv)\n",
        "- [Entities](https://raw.githubusercontent.com/open-numbers/ddf--gapminder--systema_globalis/master/ddf--entities--geo--country.csv)\n",
        "- [Concepts](https://raw.githubusercontent.com/open-numbers/ddf--gapminder--systema_globalis/master/ddf--concepts.csv)"
      ]
    },
    {
      "cell_type": "markdown",
      "metadata": {
        "colab_type": "text",
        "id": "zyPYtsY6HtIK"
      },
      "source": [
        "Objectives\n",
        "- sequence multiple visualizations\n",
        "- combine qualitative anecdotes with quantitative aggregates\n",
        "\n",
        "Links\n",
        "- [Hans Rosling’s TED talks](https://www.ted.com/speakers/hans_rosling)\n",
        "- [Spiralling global temperatures from 1850-2016](https://twitter.com/ed_hawkins/status/729753441459945474)\n",
        "- \"[The Pudding](https://pudding.cool/) explains ideas debated in culture with visual essays.\"\n",
        "- [A Data Point Walks Into a Bar](https://lisacharlotterost.github.io/2016/12/27/datapoint-in-bar/): a thoughtful blog post about emotion and empathy in data storytelling"
      ]
    },
    {
      "cell_type": "markdown",
      "metadata": {
        "colab_type": "text",
        "id": "_R1bj8aXzyVA"
      },
      "source": [
        "# ASSIGNMENT\n",
        " \n",
        "\n",
        "1.   Replicate the Lesson Code\n",
        "2.   Take it further by using the same gapminder dataset to create a sequence of visualizations that combined tell a story of your choosing.\n",
        "\n",
        "Get creative! Use text annotations to call out specific countries, maybe: change how the points are colored, change the opacity of the points, change their sized, pick a specific time window. Maybe only work with a subset of countries, change fonts, change background colors, etc. make it your own!"
      ]
    },
    {
      "cell_type": "code",
      "metadata": {
        "id": "gBE_yQRk3pYZ",
        "colab_type": "code",
        "colab": {
          "base_uri": "https://localhost:8080/",
          "height": 33
        },
        "outputId": "57e90633-f750-4e9a-f268-dbb4834b1a07"
      },
      "source": [
        "# TODO\n",
        "import seaborn as sns\n",
        "sns.__version__"
      ],
      "execution_count": 340,
      "outputs": [
        {
          "output_type": "execute_result",
          "data": {
            "text/plain": [
              "'0.9.0'"
            ]
          },
          "metadata": {
            "tags": []
          },
          "execution_count": 340
        }
      ]
    },
    {
      "cell_type": "code",
      "metadata": {
        "id": "olJeHsxnSBul",
        "colab_type": "code",
        "colab": {}
      },
      "source": [
        "%matplotlib inline\n",
        "import matplotlib.pyplot as plt\n",
        "import numpy as np\n",
        "import pandas as pd"
      ],
      "execution_count": 0,
      "outputs": []
    },
    {
      "cell_type": "code",
      "metadata": {
        "id": "PHt_VyqWbjd8",
        "colab_type": "code",
        "colab": {}
      },
      "source": [
        "urban_geo = pd.read_csv('https://raw.githubusercontent.com/open-numbers/ddf--gapminder--systema_globalis/master/ddf--datapoints--urban_population--by--geo--time.csv')"
      ],
      "execution_count": 0,
      "outputs": []
    },
    {
      "cell_type": "code",
      "metadata": {
        "id": "xWevo95scQUP",
        "colab_type": "code",
        "colab": {}
      },
      "source": [
        "urban_growth = pd.read_csv('https://raw.githubusercontent.com/open-numbers/ddf--gapminder--systema_globalis/master/ddf--datapoints--urban_population_growth_annual_percent--by--geo--time.csv')"
      ],
      "execution_count": 0,
      "outputs": []
    },
    {
      "cell_type": "code",
      "metadata": {
        "id": "QWPlXDcvcSB9",
        "colab_type": "code",
        "colab": {}
      },
      "source": [
        "urban_total = pd.read_csv('https://raw.githubusercontent.com/open-numbers/ddf--gapminder--systema_globalis/master/ddf--datapoints--urban_population_percent_of_total--by--geo--time.csv')"
      ],
      "execution_count": 0,
      "outputs": []
    },
    {
      "cell_type": "code",
      "metadata": {
        "id": "t2rWZ9QzcSEC",
        "colab_type": "code",
        "colab": {}
      },
      "source": [
        "urban_poverty = pd.read_csv('https://raw.githubusercontent.com/open-numbers/ddf--gapminder--systema_globalis/master/ddf--datapoints--urban_poverty_percent_urban_people_below_national_urban--by--geo--time.csv')"
      ],
      "execution_count": 0,
      "outputs": []
    },
    {
      "cell_type": "code",
      "metadata": {
        "id": "X6hGiN8rdAf0",
        "colab_type": "code",
        "colab": {
          "base_uri": "https://localhost:8080/",
          "height": 197
        },
        "outputId": "2689ecda-4a72-4dd7-86aa-7de40a3043e2"
      },
      "source": [
        "urban_geo.head()"
      ],
      "execution_count": 346,
      "outputs": [
        {
          "output_type": "execute_result",
          "data": {
            "text/html": [
              "<div>\n",
              "<style scoped>\n",
              "    .dataframe tbody tr th:only-of-type {\n",
              "        vertical-align: middle;\n",
              "    }\n",
              "\n",
              "    .dataframe tbody tr th {\n",
              "        vertical-align: top;\n",
              "    }\n",
              "\n",
              "    .dataframe thead th {\n",
              "        text-align: right;\n",
              "    }\n",
              "</style>\n",
              "<table border=\"1\" class=\"dataframe\">\n",
              "  <thead>\n",
              "    <tr style=\"text-align: right;\">\n",
              "      <th></th>\n",
              "      <th>geo</th>\n",
              "      <th>time</th>\n",
              "      <th>urban_population</th>\n",
              "    </tr>\n",
              "  </thead>\n",
              "  <tbody>\n",
              "    <tr>\n",
              "      <th>0</th>\n",
              "      <td>abw</td>\n",
              "      <td>1960</td>\n",
              "      <td>27526</td>\n",
              "    </tr>\n",
              "    <tr>\n",
              "      <th>1</th>\n",
              "      <td>abw</td>\n",
              "      <td>1961</td>\n",
              "      <td>28141</td>\n",
              "    </tr>\n",
              "    <tr>\n",
              "      <th>2</th>\n",
              "      <td>abw</td>\n",
              "      <td>1962</td>\n",
              "      <td>28532</td>\n",
              "    </tr>\n",
              "    <tr>\n",
              "      <th>3</th>\n",
              "      <td>abw</td>\n",
              "      <td>1963</td>\n",
              "      <td>28761</td>\n",
              "    </tr>\n",
              "    <tr>\n",
              "      <th>4</th>\n",
              "      <td>abw</td>\n",
              "      <td>1964</td>\n",
              "      <td>28924</td>\n",
              "    </tr>\n",
              "  </tbody>\n",
              "</table>\n",
              "</div>"
            ],
            "text/plain": [
              "   geo  time  urban_population\n",
              "0  abw  1960             27526\n",
              "1  abw  1961             28141\n",
              "2  abw  1962             28532\n",
              "3  abw  1963             28761\n",
              "4  abw  1964             28924"
            ]
          },
          "metadata": {
            "tags": []
          },
          "execution_count": 346
        }
      ]
    },
    {
      "cell_type": "code",
      "metadata": {
        "id": "AH-4fgXcdAhv",
        "colab_type": "code",
        "colab": {
          "base_uri": "https://localhost:8080/",
          "height": 197
        },
        "outputId": "b3e5cdc1-301f-49ff-8959-29fec52a3a4c"
      },
      "source": [
        "urban_growth.head()"
      ],
      "execution_count": 347,
      "outputs": [
        {
          "output_type": "execute_result",
          "data": {
            "text/html": [
              "<div>\n",
              "<style scoped>\n",
              "    .dataframe tbody tr th:only-of-type {\n",
              "        vertical-align: middle;\n",
              "    }\n",
              "\n",
              "    .dataframe tbody tr th {\n",
              "        vertical-align: top;\n",
              "    }\n",
              "\n",
              "    .dataframe thead th {\n",
              "        text-align: right;\n",
              "    }\n",
              "</style>\n",
              "<table border=\"1\" class=\"dataframe\">\n",
              "  <thead>\n",
              "    <tr style=\"text-align: right;\">\n",
              "      <th></th>\n",
              "      <th>geo</th>\n",
              "      <th>time</th>\n",
              "      <th>urban_population_growth_annual_percent</th>\n",
              "    </tr>\n",
              "  </thead>\n",
              "  <tbody>\n",
              "    <tr>\n",
              "      <th>0</th>\n",
              "      <td>abw</td>\n",
              "      <td>1960</td>\n",
              "      <td>3.11793</td>\n",
              "    </tr>\n",
              "    <tr>\n",
              "      <th>1</th>\n",
              "      <td>abw</td>\n",
              "      <td>1961</td>\n",
              "      <td>2.20966</td>\n",
              "    </tr>\n",
              "    <tr>\n",
              "      <th>2</th>\n",
              "      <td>abw</td>\n",
              "      <td>1962</td>\n",
              "      <td>1.37987</td>\n",
              "    </tr>\n",
              "    <tr>\n",
              "      <th>3</th>\n",
              "      <td>abw</td>\n",
              "      <td>1963</td>\n",
              "      <td>0.79940</td>\n",
              "    </tr>\n",
              "    <tr>\n",
              "      <th>4</th>\n",
              "      <td>abw</td>\n",
              "      <td>1964</td>\n",
              "      <td>0.56514</td>\n",
              "    </tr>\n",
              "  </tbody>\n",
              "</table>\n",
              "</div>"
            ],
            "text/plain": [
              "   geo  time  urban_population_growth_annual_percent\n",
              "0  abw  1960                                 3.11793\n",
              "1  abw  1961                                 2.20966\n",
              "2  abw  1962                                 1.37987\n",
              "3  abw  1963                                 0.79940\n",
              "4  abw  1964                                 0.56514"
            ]
          },
          "metadata": {
            "tags": []
          },
          "execution_count": 347
        }
      ]
    },
    {
      "cell_type": "code",
      "metadata": {
        "id": "qRxt2ybAdAjk",
        "colab_type": "code",
        "colab": {
          "base_uri": "https://localhost:8080/",
          "height": 197
        },
        "outputId": "75b56fd3-19a3-4459-c621-c025f6a96241"
      },
      "source": [
        "urban_total.head()"
      ],
      "execution_count": 348,
      "outputs": [
        {
          "output_type": "execute_result",
          "data": {
            "text/html": [
              "<div>\n",
              "<style scoped>\n",
              "    .dataframe tbody tr th:only-of-type {\n",
              "        vertical-align: middle;\n",
              "    }\n",
              "\n",
              "    .dataframe tbody tr th {\n",
              "        vertical-align: top;\n",
              "    }\n",
              "\n",
              "    .dataframe thead th {\n",
              "        text-align: right;\n",
              "    }\n",
              "</style>\n",
              "<table border=\"1\" class=\"dataframe\">\n",
              "  <thead>\n",
              "    <tr style=\"text-align: right;\">\n",
              "      <th></th>\n",
              "      <th>geo</th>\n",
              "      <th>time</th>\n",
              "      <th>urban_population_percent_of_total</th>\n",
              "    </tr>\n",
              "  </thead>\n",
              "  <tbody>\n",
              "    <tr>\n",
              "      <th>0</th>\n",
              "      <td>abw</td>\n",
              "      <td>1960</td>\n",
              "      <td>50.776</td>\n",
              "    </tr>\n",
              "    <tr>\n",
              "      <th>1</th>\n",
              "      <td>abw</td>\n",
              "      <td>1961</td>\n",
              "      <td>50.761</td>\n",
              "    </tr>\n",
              "    <tr>\n",
              "      <th>2</th>\n",
              "      <td>abw</td>\n",
              "      <td>1962</td>\n",
              "      <td>50.746</td>\n",
              "    </tr>\n",
              "    <tr>\n",
              "      <th>3</th>\n",
              "      <td>abw</td>\n",
              "      <td>1963</td>\n",
              "      <td>50.730</td>\n",
              "    </tr>\n",
              "    <tr>\n",
              "      <th>4</th>\n",
              "      <td>abw</td>\n",
              "      <td>1964</td>\n",
              "      <td>50.715</td>\n",
              "    </tr>\n",
              "  </tbody>\n",
              "</table>\n",
              "</div>"
            ],
            "text/plain": [
              "   geo  time  urban_population_percent_of_total\n",
              "0  abw  1960                             50.776\n",
              "1  abw  1961                             50.761\n",
              "2  abw  1962                             50.746\n",
              "3  abw  1963                             50.730\n",
              "4  abw  1964                             50.715"
            ]
          },
          "metadata": {
            "tags": []
          },
          "execution_count": 348
        }
      ]
    },
    {
      "cell_type": "code",
      "metadata": {
        "id": "jrxrC7FgdAnz",
        "colab_type": "code",
        "colab": {
          "base_uri": "https://localhost:8080/",
          "height": 197
        },
        "outputId": "c614917e-3275-459e-ed9b-fd9ea701dc81"
      },
      "source": [
        "urban_poverty.head()"
      ],
      "execution_count": 349,
      "outputs": [
        {
          "output_type": "execute_result",
          "data": {
            "text/html": [
              "<div>\n",
              "<style scoped>\n",
              "    .dataframe tbody tr th:only-of-type {\n",
              "        vertical-align: middle;\n",
              "    }\n",
              "\n",
              "    .dataframe tbody tr th {\n",
              "        vertical-align: top;\n",
              "    }\n",
              "\n",
              "    .dataframe thead th {\n",
              "        text-align: right;\n",
              "    }\n",
              "</style>\n",
              "<table border=\"1\" class=\"dataframe\">\n",
              "  <thead>\n",
              "    <tr style=\"text-align: right;\">\n",
              "      <th></th>\n",
              "      <th>geo</th>\n",
              "      <th>time</th>\n",
              "      <th>urban_poverty_percent_urban_people_below_national_urban</th>\n",
              "    </tr>\n",
              "  </thead>\n",
              "  <tbody>\n",
              "    <tr>\n",
              "      <th>0</th>\n",
              "      <td>afg</td>\n",
              "      <td>2007</td>\n",
              "      <td>28.9</td>\n",
              "    </tr>\n",
              "    <tr>\n",
              "      <th>1</th>\n",
              "      <td>afg</td>\n",
              "      <td>2011</td>\n",
              "      <td>27.6</td>\n",
              "    </tr>\n",
              "    <tr>\n",
              "      <th>2</th>\n",
              "      <td>ago</td>\n",
              "      <td>2008</td>\n",
              "      <td>18.7</td>\n",
              "    </tr>\n",
              "    <tr>\n",
              "      <th>3</th>\n",
              "      <td>alb</td>\n",
              "      <td>2002</td>\n",
              "      <td>19.5</td>\n",
              "    </tr>\n",
              "    <tr>\n",
              "      <th>4</th>\n",
              "      <td>alb</td>\n",
              "      <td>2005</td>\n",
              "      <td>11.2</td>\n",
              "    </tr>\n",
              "  </tbody>\n",
              "</table>\n",
              "</div>"
            ],
            "text/plain": [
              "   geo  time  urban_poverty_percent_urban_people_below_national_urban\n",
              "0  afg  2007                                               28.9      \n",
              "1  afg  2011                                               27.6      \n",
              "2  ago  2008                                               18.7      \n",
              "3  alb  2002                                               19.5      \n",
              "4  alb  2005                                               11.2      "
            ]
          },
          "metadata": {
            "tags": []
          },
          "execution_count": 349
        }
      ]
    },
    {
      "cell_type": "code",
      "metadata": {
        "id": "n7osD8YmdAsA",
        "colab_type": "code",
        "colab": {}
      },
      "source": [
        "entities = pd.read_csv('https://raw.githubusercontent.com/open-numbers/ddf--gapminder--systema_globalis/master/ddf--entities--geo--country.csv')"
      ],
      "execution_count": 0,
      "outputs": []
    },
    {
      "cell_type": "code",
      "metadata": {
        "id": "eInpd_cTdAuG",
        "colab_type": "code",
        "colab": {
          "base_uri": "https://localhost:8080/",
          "height": 267
        },
        "outputId": "0131a633-f311-4619-d5ac-4f88e2d2826b"
      },
      "source": [
        "entities.head()"
      ],
      "execution_count": 351,
      "outputs": [
        {
          "output_type": "execute_result",
          "data": {
            "text/html": [
              "<div>\n",
              "<style scoped>\n",
              "    .dataframe tbody tr th:only-of-type {\n",
              "        vertical-align: middle;\n",
              "    }\n",
              "\n",
              "    .dataframe tbody tr th {\n",
              "        vertical-align: top;\n",
              "    }\n",
              "\n",
              "    .dataframe thead th {\n",
              "        text-align: right;\n",
              "    }\n",
              "</style>\n",
              "<table border=\"1\" class=\"dataframe\">\n",
              "  <thead>\n",
              "    <tr style=\"text-align: right;\">\n",
              "      <th></th>\n",
              "      <th>country</th>\n",
              "      <th>alt_5</th>\n",
              "      <th>alternative_1</th>\n",
              "      <th>alternative_2</th>\n",
              "      <th>alternative_3</th>\n",
              "      <th>alternative_4_cdiac</th>\n",
              "      <th>arb1</th>\n",
              "      <th>arb2</th>\n",
              "      <th>arb3</th>\n",
              "      <th>arb4</th>\n",
              "      <th>arb5</th>\n",
              "      <th>arb6</th>\n",
              "      <th>g77_and_oecd_countries</th>\n",
              "      <th>gapminder_list</th>\n",
              "      <th>god_id</th>\n",
              "      <th>gwid</th>\n",
              "      <th>income_groups</th>\n",
              "      <th>is--country</th>\n",
              "      <th>iso3166_1_alpha2</th>\n",
              "      <th>iso3166_1_alpha3</th>\n",
              "      <th>iso3166_1_numeric</th>\n",
              "      <th>iso3166_2</th>\n",
              "      <th>landlocked</th>\n",
              "      <th>latitude</th>\n",
              "      <th>longitude</th>\n",
              "      <th>main_religion_2008</th>\n",
              "      <th>name</th>\n",
              "      <th>pandg</th>\n",
              "      <th>un_state</th>\n",
              "      <th>unicode_region_subtag</th>\n",
              "      <th>upper_case_name</th>\n",
              "      <th>world_4region</th>\n",
              "      <th>world_6region</th>\n",
              "    </tr>\n",
              "  </thead>\n",
              "  <tbody>\n",
              "    <tr>\n",
              "      <th>0</th>\n",
              "      <td>abkh</td>\n",
              "      <td>NaN</td>\n",
              "      <td>NaN</td>\n",
              "      <td>NaN</td>\n",
              "      <td>NaN</td>\n",
              "      <td>NaN</td>\n",
              "      <td>NaN</td>\n",
              "      <td>NaN</td>\n",
              "      <td>NaN</td>\n",
              "      <td>NaN</td>\n",
              "      <td>NaN</td>\n",
              "      <td>NaN</td>\n",
              "      <td>others</td>\n",
              "      <td>Abkhazia</td>\n",
              "      <td>GE-AB</td>\n",
              "      <td>i0</td>\n",
              "      <td>NaN</td>\n",
              "      <td>True</td>\n",
              "      <td>NaN</td>\n",
              "      <td>NaN</td>\n",
              "      <td>NaN</td>\n",
              "      <td>NaN</td>\n",
              "      <td>NaN</td>\n",
              "      <td>NaN</td>\n",
              "      <td>NaN</td>\n",
              "      <td>NaN</td>\n",
              "      <td>Abkhazia</td>\n",
              "      <td>NaN</td>\n",
              "      <td>False</td>\n",
              "      <td>NaN</td>\n",
              "      <td>NaN</td>\n",
              "      <td>europe</td>\n",
              "      <td>europe_central_asia</td>\n",
              "    </tr>\n",
              "    <tr>\n",
              "      <th>1</th>\n",
              "      <td>abw</td>\n",
              "      <td>NaN</td>\n",
              "      <td>NaN</td>\n",
              "      <td>NaN</td>\n",
              "      <td>NaN</td>\n",
              "      <td>Aruba</td>\n",
              "      <td>NaN</td>\n",
              "      <td>NaN</td>\n",
              "      <td>NaN</td>\n",
              "      <td>NaN</td>\n",
              "      <td>NaN</td>\n",
              "      <td>NaN</td>\n",
              "      <td>others</td>\n",
              "      <td>Aruba</td>\n",
              "      <td>AW</td>\n",
              "      <td>i12</td>\n",
              "      <td>high_income</td>\n",
              "      <td>True</td>\n",
              "      <td>AW</td>\n",
              "      <td>ABW</td>\n",
              "      <td>533.0</td>\n",
              "      <td>NaN</td>\n",
              "      <td>coastline</td>\n",
              "      <td>12.50000</td>\n",
              "      <td>-69.96667</td>\n",
              "      <td>christian</td>\n",
              "      <td>Aruba</td>\n",
              "      <td>NaN</td>\n",
              "      <td>False</td>\n",
              "      <td>AW</td>\n",
              "      <td>ARUBA</td>\n",
              "      <td>americas</td>\n",
              "      <td>america</td>\n",
              "    </tr>\n",
              "    <tr>\n",
              "      <th>2</th>\n",
              "      <td>afg</td>\n",
              "      <td>NaN</td>\n",
              "      <td>Islamic Republic of Afghanistan</td>\n",
              "      <td>NaN</td>\n",
              "      <td>NaN</td>\n",
              "      <td>Afghanistan</td>\n",
              "      <td>NaN</td>\n",
              "      <td>NaN</td>\n",
              "      <td>NaN</td>\n",
              "      <td>NaN</td>\n",
              "      <td>NaN</td>\n",
              "      <td>NaN</td>\n",
              "      <td>g77</td>\n",
              "      <td>Afghanistan</td>\n",
              "      <td>AF</td>\n",
              "      <td>i1</td>\n",
              "      <td>low_income</td>\n",
              "      <td>True</td>\n",
              "      <td>AF</td>\n",
              "      <td>AFG</td>\n",
              "      <td>4.0</td>\n",
              "      <td>NaN</td>\n",
              "      <td>landlocked</td>\n",
              "      <td>33.00000</td>\n",
              "      <td>66.00000</td>\n",
              "      <td>muslim</td>\n",
              "      <td>Afghanistan</td>\n",
              "      <td>AFGHANISTAN</td>\n",
              "      <td>True</td>\n",
              "      <td>AF</td>\n",
              "      <td>AFGHANISTAN</td>\n",
              "      <td>asia</td>\n",
              "      <td>south_asia</td>\n",
              "    </tr>\n",
              "    <tr>\n",
              "      <th>3</th>\n",
              "      <td>ago</td>\n",
              "      <td>NaN</td>\n",
              "      <td>NaN</td>\n",
              "      <td>NaN</td>\n",
              "      <td>NaN</td>\n",
              "      <td>Angola</td>\n",
              "      <td>NaN</td>\n",
              "      <td>NaN</td>\n",
              "      <td>NaN</td>\n",
              "      <td>NaN</td>\n",
              "      <td>NaN</td>\n",
              "      <td>NaN</td>\n",
              "      <td>g77</td>\n",
              "      <td>Angola</td>\n",
              "      <td>AO</td>\n",
              "      <td>i7</td>\n",
              "      <td>upper_middle_income</td>\n",
              "      <td>True</td>\n",
              "      <td>AO</td>\n",
              "      <td>AGO</td>\n",
              "      <td>24.0</td>\n",
              "      <td>NaN</td>\n",
              "      <td>coastline</td>\n",
              "      <td>-12.50000</td>\n",
              "      <td>18.50000</td>\n",
              "      <td>christian</td>\n",
              "      <td>Angola</td>\n",
              "      <td>ANGOLA</td>\n",
              "      <td>True</td>\n",
              "      <td>AO</td>\n",
              "      <td>ANGOLA</td>\n",
              "      <td>africa</td>\n",
              "      <td>sub_saharan_africa</td>\n",
              "    </tr>\n",
              "    <tr>\n",
              "      <th>4</th>\n",
              "      <td>aia</td>\n",
              "      <td>NaN</td>\n",
              "      <td>NaN</td>\n",
              "      <td>NaN</td>\n",
              "      <td>NaN</td>\n",
              "      <td>NaN</td>\n",
              "      <td>NaN</td>\n",
              "      <td>NaN</td>\n",
              "      <td>NaN</td>\n",
              "      <td>NaN</td>\n",
              "      <td>NaN</td>\n",
              "      <td>NaN</td>\n",
              "      <td>others</td>\n",
              "      <td>Anguilla</td>\n",
              "      <td>AI</td>\n",
              "      <td>i8</td>\n",
              "      <td>NaN</td>\n",
              "      <td>True</td>\n",
              "      <td>AI</td>\n",
              "      <td>AIA</td>\n",
              "      <td>660.0</td>\n",
              "      <td>NaN</td>\n",
              "      <td>coastline</td>\n",
              "      <td>18.21667</td>\n",
              "      <td>-63.05000</td>\n",
              "      <td>christian</td>\n",
              "      <td>Anguilla</td>\n",
              "      <td>NaN</td>\n",
              "      <td>False</td>\n",
              "      <td>AI</td>\n",
              "      <td>ANGUILLA</td>\n",
              "      <td>americas</td>\n",
              "      <td>america</td>\n",
              "    </tr>\n",
              "  </tbody>\n",
              "</table>\n",
              "</div>"
            ],
            "text/plain": [
              "  country alt_5                    alternative_1 alternative_2 alternative_3  \\\n",
              "0    abkh   NaN                              NaN           NaN           NaN   \n",
              "1     abw   NaN                              NaN           NaN           NaN   \n",
              "2     afg   NaN  Islamic Republic of Afghanistan           NaN           NaN   \n",
              "3     ago   NaN                              NaN           NaN           NaN   \n",
              "4     aia   NaN                              NaN           NaN           NaN   \n",
              "\n",
              "  alternative_4_cdiac arb1 arb2 arb3 arb4 arb5 arb6 g77_and_oecd_countries  \\\n",
              "0                 NaN  NaN  NaN  NaN  NaN  NaN  NaN                 others   \n",
              "1               Aruba  NaN  NaN  NaN  NaN  NaN  NaN                 others   \n",
              "2         Afghanistan  NaN  NaN  NaN  NaN  NaN  NaN                    g77   \n",
              "3              Angola  NaN  NaN  NaN  NaN  NaN  NaN                    g77   \n",
              "4                 NaN  NaN  NaN  NaN  NaN  NaN  NaN                 others   \n",
              "\n",
              "  gapminder_list god_id gwid        income_groups  is--country  \\\n",
              "0       Abkhazia  GE-AB   i0                  NaN         True   \n",
              "1          Aruba     AW  i12          high_income         True   \n",
              "2    Afghanistan     AF   i1           low_income         True   \n",
              "3         Angola     AO   i7  upper_middle_income         True   \n",
              "4       Anguilla     AI   i8                  NaN         True   \n",
              "\n",
              "  iso3166_1_alpha2 iso3166_1_alpha3  iso3166_1_numeric iso3166_2  landlocked  \\\n",
              "0              NaN              NaN                NaN       NaN         NaN   \n",
              "1               AW              ABW              533.0       NaN   coastline   \n",
              "2               AF              AFG                4.0       NaN  landlocked   \n",
              "3               AO              AGO               24.0       NaN   coastline   \n",
              "4               AI              AIA              660.0       NaN   coastline   \n",
              "\n",
              "   latitude  longitude main_religion_2008         name        pandg  un_state  \\\n",
              "0       NaN        NaN                NaN     Abkhazia          NaN     False   \n",
              "1  12.50000  -69.96667          christian        Aruba          NaN     False   \n",
              "2  33.00000   66.00000             muslim  Afghanistan  AFGHANISTAN      True   \n",
              "3 -12.50000   18.50000          christian       Angola       ANGOLA      True   \n",
              "4  18.21667  -63.05000          christian     Anguilla          NaN     False   \n",
              "\n",
              "  unicode_region_subtag upper_case_name world_4region        world_6region  \n",
              "0                   NaN             NaN        europe  europe_central_asia  \n",
              "1                    AW           ARUBA      americas              america  \n",
              "2                    AF     AFGHANISTAN          asia           south_asia  \n",
              "3                    AO          ANGOLA        africa   sub_saharan_africa  \n",
              "4                    AI        ANGUILLA      americas              america  "
            ]
          },
          "metadata": {
            "tags": []
          },
          "execution_count": 351
        }
      ]
    },
    {
      "cell_type": "code",
      "metadata": {
        "id": "jtaQix-bj9iX",
        "colab_type": "code",
        "colab": {
          "base_uri": "https://localhost:8080/",
          "height": 267
        },
        "outputId": "17ef5919-6d52-4b34-fd4a-abd186ca62df"
      },
      "source": [
        "mapping_1 = {'country': 'Country code'}\n",
        "\n",
        "entities = entities.rename(columns = mapping_1)\n",
        "entities.head()"
      ],
      "execution_count": 352,
      "outputs": [
        {
          "output_type": "execute_result",
          "data": {
            "text/html": [
              "<div>\n",
              "<style scoped>\n",
              "    .dataframe tbody tr th:only-of-type {\n",
              "        vertical-align: middle;\n",
              "    }\n",
              "\n",
              "    .dataframe tbody tr th {\n",
              "        vertical-align: top;\n",
              "    }\n",
              "\n",
              "    .dataframe thead th {\n",
              "        text-align: right;\n",
              "    }\n",
              "</style>\n",
              "<table border=\"1\" class=\"dataframe\">\n",
              "  <thead>\n",
              "    <tr style=\"text-align: right;\">\n",
              "      <th></th>\n",
              "      <th>Country code</th>\n",
              "      <th>alt_5</th>\n",
              "      <th>alternative_1</th>\n",
              "      <th>alternative_2</th>\n",
              "      <th>alternative_3</th>\n",
              "      <th>alternative_4_cdiac</th>\n",
              "      <th>arb1</th>\n",
              "      <th>arb2</th>\n",
              "      <th>arb3</th>\n",
              "      <th>arb4</th>\n",
              "      <th>arb5</th>\n",
              "      <th>arb6</th>\n",
              "      <th>g77_and_oecd_countries</th>\n",
              "      <th>gapminder_list</th>\n",
              "      <th>god_id</th>\n",
              "      <th>gwid</th>\n",
              "      <th>income_groups</th>\n",
              "      <th>is--country</th>\n",
              "      <th>iso3166_1_alpha2</th>\n",
              "      <th>iso3166_1_alpha3</th>\n",
              "      <th>iso3166_1_numeric</th>\n",
              "      <th>iso3166_2</th>\n",
              "      <th>landlocked</th>\n",
              "      <th>latitude</th>\n",
              "      <th>longitude</th>\n",
              "      <th>main_religion_2008</th>\n",
              "      <th>name</th>\n",
              "      <th>pandg</th>\n",
              "      <th>un_state</th>\n",
              "      <th>unicode_region_subtag</th>\n",
              "      <th>upper_case_name</th>\n",
              "      <th>world_4region</th>\n",
              "      <th>world_6region</th>\n",
              "    </tr>\n",
              "  </thead>\n",
              "  <tbody>\n",
              "    <tr>\n",
              "      <th>0</th>\n",
              "      <td>abkh</td>\n",
              "      <td>NaN</td>\n",
              "      <td>NaN</td>\n",
              "      <td>NaN</td>\n",
              "      <td>NaN</td>\n",
              "      <td>NaN</td>\n",
              "      <td>NaN</td>\n",
              "      <td>NaN</td>\n",
              "      <td>NaN</td>\n",
              "      <td>NaN</td>\n",
              "      <td>NaN</td>\n",
              "      <td>NaN</td>\n",
              "      <td>others</td>\n",
              "      <td>Abkhazia</td>\n",
              "      <td>GE-AB</td>\n",
              "      <td>i0</td>\n",
              "      <td>NaN</td>\n",
              "      <td>True</td>\n",
              "      <td>NaN</td>\n",
              "      <td>NaN</td>\n",
              "      <td>NaN</td>\n",
              "      <td>NaN</td>\n",
              "      <td>NaN</td>\n",
              "      <td>NaN</td>\n",
              "      <td>NaN</td>\n",
              "      <td>NaN</td>\n",
              "      <td>Abkhazia</td>\n",
              "      <td>NaN</td>\n",
              "      <td>False</td>\n",
              "      <td>NaN</td>\n",
              "      <td>NaN</td>\n",
              "      <td>europe</td>\n",
              "      <td>europe_central_asia</td>\n",
              "    </tr>\n",
              "    <tr>\n",
              "      <th>1</th>\n",
              "      <td>abw</td>\n",
              "      <td>NaN</td>\n",
              "      <td>NaN</td>\n",
              "      <td>NaN</td>\n",
              "      <td>NaN</td>\n",
              "      <td>Aruba</td>\n",
              "      <td>NaN</td>\n",
              "      <td>NaN</td>\n",
              "      <td>NaN</td>\n",
              "      <td>NaN</td>\n",
              "      <td>NaN</td>\n",
              "      <td>NaN</td>\n",
              "      <td>others</td>\n",
              "      <td>Aruba</td>\n",
              "      <td>AW</td>\n",
              "      <td>i12</td>\n",
              "      <td>high_income</td>\n",
              "      <td>True</td>\n",
              "      <td>AW</td>\n",
              "      <td>ABW</td>\n",
              "      <td>533.0</td>\n",
              "      <td>NaN</td>\n",
              "      <td>coastline</td>\n",
              "      <td>12.50000</td>\n",
              "      <td>-69.96667</td>\n",
              "      <td>christian</td>\n",
              "      <td>Aruba</td>\n",
              "      <td>NaN</td>\n",
              "      <td>False</td>\n",
              "      <td>AW</td>\n",
              "      <td>ARUBA</td>\n",
              "      <td>americas</td>\n",
              "      <td>america</td>\n",
              "    </tr>\n",
              "    <tr>\n",
              "      <th>2</th>\n",
              "      <td>afg</td>\n",
              "      <td>NaN</td>\n",
              "      <td>Islamic Republic of Afghanistan</td>\n",
              "      <td>NaN</td>\n",
              "      <td>NaN</td>\n",
              "      <td>Afghanistan</td>\n",
              "      <td>NaN</td>\n",
              "      <td>NaN</td>\n",
              "      <td>NaN</td>\n",
              "      <td>NaN</td>\n",
              "      <td>NaN</td>\n",
              "      <td>NaN</td>\n",
              "      <td>g77</td>\n",
              "      <td>Afghanistan</td>\n",
              "      <td>AF</td>\n",
              "      <td>i1</td>\n",
              "      <td>low_income</td>\n",
              "      <td>True</td>\n",
              "      <td>AF</td>\n",
              "      <td>AFG</td>\n",
              "      <td>4.0</td>\n",
              "      <td>NaN</td>\n",
              "      <td>landlocked</td>\n",
              "      <td>33.00000</td>\n",
              "      <td>66.00000</td>\n",
              "      <td>muslim</td>\n",
              "      <td>Afghanistan</td>\n",
              "      <td>AFGHANISTAN</td>\n",
              "      <td>True</td>\n",
              "      <td>AF</td>\n",
              "      <td>AFGHANISTAN</td>\n",
              "      <td>asia</td>\n",
              "      <td>south_asia</td>\n",
              "    </tr>\n",
              "    <tr>\n",
              "      <th>3</th>\n",
              "      <td>ago</td>\n",
              "      <td>NaN</td>\n",
              "      <td>NaN</td>\n",
              "      <td>NaN</td>\n",
              "      <td>NaN</td>\n",
              "      <td>Angola</td>\n",
              "      <td>NaN</td>\n",
              "      <td>NaN</td>\n",
              "      <td>NaN</td>\n",
              "      <td>NaN</td>\n",
              "      <td>NaN</td>\n",
              "      <td>NaN</td>\n",
              "      <td>g77</td>\n",
              "      <td>Angola</td>\n",
              "      <td>AO</td>\n",
              "      <td>i7</td>\n",
              "      <td>upper_middle_income</td>\n",
              "      <td>True</td>\n",
              "      <td>AO</td>\n",
              "      <td>AGO</td>\n",
              "      <td>24.0</td>\n",
              "      <td>NaN</td>\n",
              "      <td>coastline</td>\n",
              "      <td>-12.50000</td>\n",
              "      <td>18.50000</td>\n",
              "      <td>christian</td>\n",
              "      <td>Angola</td>\n",
              "      <td>ANGOLA</td>\n",
              "      <td>True</td>\n",
              "      <td>AO</td>\n",
              "      <td>ANGOLA</td>\n",
              "      <td>africa</td>\n",
              "      <td>sub_saharan_africa</td>\n",
              "    </tr>\n",
              "    <tr>\n",
              "      <th>4</th>\n",
              "      <td>aia</td>\n",
              "      <td>NaN</td>\n",
              "      <td>NaN</td>\n",
              "      <td>NaN</td>\n",
              "      <td>NaN</td>\n",
              "      <td>NaN</td>\n",
              "      <td>NaN</td>\n",
              "      <td>NaN</td>\n",
              "      <td>NaN</td>\n",
              "      <td>NaN</td>\n",
              "      <td>NaN</td>\n",
              "      <td>NaN</td>\n",
              "      <td>others</td>\n",
              "      <td>Anguilla</td>\n",
              "      <td>AI</td>\n",
              "      <td>i8</td>\n",
              "      <td>NaN</td>\n",
              "      <td>True</td>\n",
              "      <td>AI</td>\n",
              "      <td>AIA</td>\n",
              "      <td>660.0</td>\n",
              "      <td>NaN</td>\n",
              "      <td>coastline</td>\n",
              "      <td>18.21667</td>\n",
              "      <td>-63.05000</td>\n",
              "      <td>christian</td>\n",
              "      <td>Anguilla</td>\n",
              "      <td>NaN</td>\n",
              "      <td>False</td>\n",
              "      <td>AI</td>\n",
              "      <td>ANGUILLA</td>\n",
              "      <td>americas</td>\n",
              "      <td>america</td>\n",
              "    </tr>\n",
              "  </tbody>\n",
              "</table>\n",
              "</div>"
            ],
            "text/plain": [
              "  Country code alt_5                    alternative_1 alternative_2  \\\n",
              "0         abkh   NaN                              NaN           NaN   \n",
              "1          abw   NaN                              NaN           NaN   \n",
              "2          afg   NaN  Islamic Republic of Afghanistan           NaN   \n",
              "3          ago   NaN                              NaN           NaN   \n",
              "4          aia   NaN                              NaN           NaN   \n",
              "\n",
              "  alternative_3 alternative_4_cdiac arb1 arb2 arb3 arb4 arb5 arb6  \\\n",
              "0           NaN                 NaN  NaN  NaN  NaN  NaN  NaN  NaN   \n",
              "1           NaN               Aruba  NaN  NaN  NaN  NaN  NaN  NaN   \n",
              "2           NaN         Afghanistan  NaN  NaN  NaN  NaN  NaN  NaN   \n",
              "3           NaN              Angola  NaN  NaN  NaN  NaN  NaN  NaN   \n",
              "4           NaN                 NaN  NaN  NaN  NaN  NaN  NaN  NaN   \n",
              "\n",
              "  g77_and_oecd_countries gapminder_list god_id gwid        income_groups  \\\n",
              "0                 others       Abkhazia  GE-AB   i0                  NaN   \n",
              "1                 others          Aruba     AW  i12          high_income   \n",
              "2                    g77    Afghanistan     AF   i1           low_income   \n",
              "3                    g77         Angola     AO   i7  upper_middle_income   \n",
              "4                 others       Anguilla     AI   i8                  NaN   \n",
              "\n",
              "   is--country iso3166_1_alpha2 iso3166_1_alpha3  iso3166_1_numeric iso3166_2  \\\n",
              "0         True              NaN              NaN                NaN       NaN   \n",
              "1         True               AW              ABW              533.0       NaN   \n",
              "2         True               AF              AFG                4.0       NaN   \n",
              "3         True               AO              AGO               24.0       NaN   \n",
              "4         True               AI              AIA              660.0       NaN   \n",
              "\n",
              "   landlocked  latitude  longitude main_religion_2008         name  \\\n",
              "0         NaN       NaN        NaN                NaN     Abkhazia   \n",
              "1   coastline  12.50000  -69.96667          christian        Aruba   \n",
              "2  landlocked  33.00000   66.00000             muslim  Afghanistan   \n",
              "3   coastline -12.50000   18.50000          christian       Angola   \n",
              "4   coastline  18.21667  -63.05000          christian     Anguilla   \n",
              "\n",
              "         pandg  un_state unicode_region_subtag upper_case_name world_4region  \\\n",
              "0          NaN     False                   NaN             NaN        europe   \n",
              "1          NaN     False                    AW           ARUBA      americas   \n",
              "2  AFGHANISTAN      True                    AF     AFGHANISTAN          asia   \n",
              "3       ANGOLA      True                    AO          ANGOLA        africa   \n",
              "4          NaN     False                    AI        ANGUILLA      americas   \n",
              "\n",
              "         world_6region  \n",
              "0  europe_central_asia  \n",
              "1              america  \n",
              "2           south_asia  \n",
              "3   sub_saharan_africa  \n",
              "4              america  "
            ]
          },
          "metadata": {
            "tags": []
          },
          "execution_count": 352
        }
      ]
    },
    {
      "cell_type": "code",
      "metadata": {
        "id": "twtLSOxcdAv_",
        "colab_type": "code",
        "colab": {
          "base_uri": "https://localhost:8080/",
          "height": 33
        },
        "outputId": "b5e077cc-58cb-4d4d-d6ff-0a447e517475"
      },
      "source": [
        "urban_geo.shape"
      ],
      "execution_count": 353,
      "outputs": [
        {
          "output_type": "execute_result",
          "data": {
            "text/plain": [
              "(12363, 3)"
            ]
          },
          "metadata": {
            "tags": []
          },
          "execution_count": 353
        }
      ]
    },
    {
      "cell_type": "code",
      "metadata": {
        "id": "_01o86D1dBNa",
        "colab_type": "code",
        "colab": {
          "base_uri": "https://localhost:8080/",
          "height": 33
        },
        "outputId": "cb62d4df-3eb0-414b-aefa-822d04f73dfa"
      },
      "source": [
        "urban_growth.shape"
      ],
      "execution_count": 354,
      "outputs": [
        {
          "output_type": "execute_result",
          "data": {
            "text/plain": [
              "(12359, 3)"
            ]
          },
          "metadata": {
            "tags": []
          },
          "execution_count": 354
        }
      ]
    },
    {
      "cell_type": "code",
      "metadata": {
        "id": "iH0C40SQdBPa",
        "colab_type": "code",
        "colab": {
          "base_uri": "https://localhost:8080/",
          "height": 33
        },
        "outputId": "caf3931b-3adb-4922-ef84-7aba53aeee59"
      },
      "source": [
        "urban_total.shape"
      ],
      "execution_count": 355,
      "outputs": [
        {
          "output_type": "execute_result",
          "data": {
            "text/plain": [
              "(12404, 3)"
            ]
          },
          "metadata": {
            "tags": []
          },
          "execution_count": 355
        }
      ]
    },
    {
      "cell_type": "code",
      "metadata": {
        "id": "dg_81KBadBRc",
        "colab_type": "code",
        "colab": {
          "base_uri": "https://localhost:8080/",
          "height": 33
        },
        "outputId": "d7e930f5-4a5b-49f0-ef44-40b7bf409b81"
      },
      "source": [
        "urban_poverty.shape"
      ],
      "execution_count": 356,
      "outputs": [
        {
          "output_type": "execute_result",
          "data": {
            "text/plain": [
              "(409, 3)"
            ]
          },
          "metadata": {
            "tags": []
          },
          "execution_count": 356
        }
      ]
    },
    {
      "cell_type": "code",
      "metadata": {
        "id": "1cUCu6_qdBTj",
        "colab_type": "code",
        "colab": {
          "base_uri": "https://localhost:8080/",
          "height": 33
        },
        "outputId": "1688681d-3588-4dd3-a82b-8f1c344dad05"
      },
      "source": [
        "Urban = pd.merge(urban_total, urban_poverty, on = ['geo', 'time'], how = 'inner')\n",
        "Urban.shape"
      ],
      "execution_count": 357,
      "outputs": [
        {
          "output_type": "execute_result",
          "data": {
            "text/plain": [
              "(409, 4)"
            ]
          },
          "metadata": {
            "tags": []
          },
          "execution_count": 357
        }
      ]
    },
    {
      "cell_type": "code",
      "metadata": {
        "id": "zQGkHw55dBVl",
        "colab_type": "code",
        "colab": {
          "base_uri": "https://localhost:8080/",
          "height": 197
        },
        "outputId": "8063e3e7-57c9-4877-a86a-829440fb79d3"
      },
      "source": [
        "Urban.head()"
      ],
      "execution_count": 358,
      "outputs": [
        {
          "output_type": "execute_result",
          "data": {
            "text/html": [
              "<div>\n",
              "<style scoped>\n",
              "    .dataframe tbody tr th:only-of-type {\n",
              "        vertical-align: middle;\n",
              "    }\n",
              "\n",
              "    .dataframe tbody tr th {\n",
              "        vertical-align: top;\n",
              "    }\n",
              "\n",
              "    .dataframe thead th {\n",
              "        text-align: right;\n",
              "    }\n",
              "</style>\n",
              "<table border=\"1\" class=\"dataframe\">\n",
              "  <thead>\n",
              "    <tr style=\"text-align: right;\">\n",
              "      <th></th>\n",
              "      <th>geo</th>\n",
              "      <th>time</th>\n",
              "      <th>urban_population_percent_of_total</th>\n",
              "      <th>urban_poverty_percent_urban_people_below_national_urban</th>\n",
              "    </tr>\n",
              "  </thead>\n",
              "  <tbody>\n",
              "    <tr>\n",
              "      <th>0</th>\n",
              "      <td>afg</td>\n",
              "      <td>2007</td>\n",
              "      <td>23.113</td>\n",
              "      <td>28.9</td>\n",
              "    </tr>\n",
              "    <tr>\n",
              "      <th>1</th>\n",
              "      <td>afg</td>\n",
              "      <td>2011</td>\n",
              "      <td>23.948</td>\n",
              "      <td>27.6</td>\n",
              "    </tr>\n",
              "    <tr>\n",
              "      <th>2</th>\n",
              "      <td>ago</td>\n",
              "      <td>2008</td>\n",
              "      <td>58.282</td>\n",
              "      <td>18.7</td>\n",
              "    </tr>\n",
              "    <tr>\n",
              "      <th>3</th>\n",
              "      <td>alb</td>\n",
              "      <td>2002</td>\n",
              "      <td>43.501</td>\n",
              "      <td>19.5</td>\n",
              "    </tr>\n",
              "    <tr>\n",
              "      <th>4</th>\n",
              "      <td>alb</td>\n",
              "      <td>2005</td>\n",
              "      <td>46.731</td>\n",
              "      <td>11.2</td>\n",
              "    </tr>\n",
              "  </tbody>\n",
              "</table>\n",
              "</div>"
            ],
            "text/plain": [
              "   geo  time  urban_population_percent_of_total  \\\n",
              "0  afg  2007                             23.113   \n",
              "1  afg  2011                             23.948   \n",
              "2  ago  2008                             58.282   \n",
              "3  alb  2002                             43.501   \n",
              "4  alb  2005                             46.731   \n",
              "\n",
              "   urban_poverty_percent_urban_people_below_national_urban  \n",
              "0                                               28.9        \n",
              "1                                               27.6        \n",
              "2                                               18.7        \n",
              "3                                               19.5        \n",
              "4                                               11.2        "
            ]
          },
          "metadata": {
            "tags": []
          },
          "execution_count": 358
        }
      ]
    },
    {
      "cell_type": "code",
      "metadata": {
        "id": "x2a0BRmQdBXi",
        "colab_type": "code",
        "colab": {
          "base_uri": "https://localhost:8080/",
          "height": 33
        },
        "outputId": "50e3df75-1622-49ea-e59f-d67621ac9d2f"
      },
      "source": [
        "Urban = pd.merge(Urban, urban_geo)\n",
        "Urban.shape"
      ],
      "execution_count": 359,
      "outputs": [
        {
          "output_type": "execute_result",
          "data": {
            "text/plain": [
              "(409, 5)"
            ]
          },
          "metadata": {
            "tags": []
          },
          "execution_count": 359
        }
      ]
    },
    {
      "cell_type": "code",
      "metadata": {
        "id": "fzVXuXXkdBZ6",
        "colab_type": "code",
        "colab": {
          "base_uri": "https://localhost:8080/",
          "height": 33
        },
        "outputId": "43528019-3665-48e6-f244-9051a3204ecb"
      },
      "source": [
        "Urban = pd.merge(Urban, urban_growth)\n",
        "Urban.shape"
      ],
      "execution_count": 360,
      "outputs": [
        {
          "output_type": "execute_result",
          "data": {
            "text/plain": [
              "(409, 6)"
            ]
          },
          "metadata": {
            "tags": []
          },
          "execution_count": 360
        }
      ]
    },
    {
      "cell_type": "code",
      "metadata": {
        "id": "j3paaBHEdBb-",
        "colab_type": "code",
        "colab": {
          "base_uri": "https://localhost:8080/",
          "height": 217
        },
        "outputId": "fc994444-c357-4418-8fb3-0f26109e54e1"
      },
      "source": [
        "Urban.head()"
      ],
      "execution_count": 361,
      "outputs": [
        {
          "output_type": "execute_result",
          "data": {
            "text/html": [
              "<div>\n",
              "<style scoped>\n",
              "    .dataframe tbody tr th:only-of-type {\n",
              "        vertical-align: middle;\n",
              "    }\n",
              "\n",
              "    .dataframe tbody tr th {\n",
              "        vertical-align: top;\n",
              "    }\n",
              "\n",
              "    .dataframe thead th {\n",
              "        text-align: right;\n",
              "    }\n",
              "</style>\n",
              "<table border=\"1\" class=\"dataframe\">\n",
              "  <thead>\n",
              "    <tr style=\"text-align: right;\">\n",
              "      <th></th>\n",
              "      <th>geo</th>\n",
              "      <th>time</th>\n",
              "      <th>urban_population_percent_of_total</th>\n",
              "      <th>urban_poverty_percent_urban_people_below_national_urban</th>\n",
              "      <th>urban_population</th>\n",
              "      <th>urban_population_growth_annual_percent</th>\n",
              "    </tr>\n",
              "  </thead>\n",
              "  <tbody>\n",
              "    <tr>\n",
              "      <th>0</th>\n",
              "      <td>afg</td>\n",
              "      <td>2007</td>\n",
              "      <td>23.113</td>\n",
              "      <td>28.9</td>\n",
              "      <td>6151939</td>\n",
              "      <td>3.65049</td>\n",
              "    </tr>\n",
              "    <tr>\n",
              "      <th>1</th>\n",
              "      <td>afg</td>\n",
              "      <td>2011</td>\n",
              "      <td>23.948</td>\n",
              "      <td>27.6</td>\n",
              "      <td>7114615</td>\n",
              "      <td>3.98009</td>\n",
              "    </tr>\n",
              "    <tr>\n",
              "      <th>2</th>\n",
              "      <td>ago</td>\n",
              "      <td>2008</td>\n",
              "      <td>58.282</td>\n",
              "      <td>18.7</td>\n",
              "      <td>12681825</td>\n",
              "      <td>4.87256</td>\n",
              "    </tr>\n",
              "    <tr>\n",
              "      <th>3</th>\n",
              "      <td>alb</td>\n",
              "      <td>2002</td>\n",
              "      <td>43.501</td>\n",
              "      <td>19.5</td>\n",
              "      <td>1327220</td>\n",
              "      <td>2.18121</td>\n",
              "    </tr>\n",
              "    <tr>\n",
              "      <th>4</th>\n",
              "      <td>alb</td>\n",
              "      <td>2005</td>\n",
              "      <td>46.731</td>\n",
              "      <td>11.2</td>\n",
              "      <td>1407298</td>\n",
              "      <td>1.82643</td>\n",
              "    </tr>\n",
              "  </tbody>\n",
              "</table>\n",
              "</div>"
            ],
            "text/plain": [
              "   geo  time  urban_population_percent_of_total  \\\n",
              "0  afg  2007                             23.113   \n",
              "1  afg  2011                             23.948   \n",
              "2  ago  2008                             58.282   \n",
              "3  alb  2002                             43.501   \n",
              "4  alb  2005                             46.731   \n",
              "\n",
              "   urban_poverty_percent_urban_people_below_national_urban  urban_population  \\\n",
              "0                                               28.9                 6151939   \n",
              "1                                               27.6                 7114615   \n",
              "2                                               18.7                12681825   \n",
              "3                                               19.5                 1327220   \n",
              "4                                               11.2                 1407298   \n",
              "\n",
              "   urban_population_growth_annual_percent  \n",
              "0                                 3.65049  \n",
              "1                                 3.98009  \n",
              "2                                 4.87256  \n",
              "3                                 2.18121  \n",
              "4                                 1.82643  "
            ]
          },
          "metadata": {
            "tags": []
          },
          "execution_count": 361
        }
      ]
    },
    {
      "cell_type": "code",
      "metadata": {
        "id": "Xoq_SQNbdBeE",
        "colab_type": "code",
        "colab": {
          "base_uri": "https://localhost:8080/",
          "height": 214
        },
        "outputId": "cada3c95-bba3-4eb0-9fb6-8bacc153e8da"
      },
      "source": [
        "mapping = {'urban_population_percent_of_total': 'Urban population (%)',\n",
        "           'urban_poverty_percent_urban_people_below_national_urban': 'Urban poverty (%) below average',\n",
        "           'urban_population': 'Urban population',\n",
        "           'urban_population_growth_annual_percent': 'Urban population growth (%)',\n",
        "           'geo': 'Country code',\n",
        "           'time': 'Year'\n",
        "          }\n",
        "\n",
        "Urban = Urban.rename(columns = mapping)\n",
        "Urban.head()"
      ],
      "execution_count": 362,
      "outputs": [
        {
          "output_type": "execute_result",
          "data": {
            "text/html": [
              "<div>\n",
              "<style scoped>\n",
              "    .dataframe tbody tr th:only-of-type {\n",
              "        vertical-align: middle;\n",
              "    }\n",
              "\n",
              "    .dataframe tbody tr th {\n",
              "        vertical-align: top;\n",
              "    }\n",
              "\n",
              "    .dataframe thead th {\n",
              "        text-align: right;\n",
              "    }\n",
              "</style>\n",
              "<table border=\"1\" class=\"dataframe\">\n",
              "  <thead>\n",
              "    <tr style=\"text-align: right;\">\n",
              "      <th></th>\n",
              "      <th>Country code</th>\n",
              "      <th>Year</th>\n",
              "      <th>Urban population (%)</th>\n",
              "      <th>Urban poverty (%) below average</th>\n",
              "      <th>Urban population</th>\n",
              "      <th>Urban population growth (%)</th>\n",
              "    </tr>\n",
              "  </thead>\n",
              "  <tbody>\n",
              "    <tr>\n",
              "      <th>0</th>\n",
              "      <td>afg</td>\n",
              "      <td>2007</td>\n",
              "      <td>23.113</td>\n",
              "      <td>28.9</td>\n",
              "      <td>6151939</td>\n",
              "      <td>3.65049</td>\n",
              "    </tr>\n",
              "    <tr>\n",
              "      <th>1</th>\n",
              "      <td>afg</td>\n",
              "      <td>2011</td>\n",
              "      <td>23.948</td>\n",
              "      <td>27.6</td>\n",
              "      <td>7114615</td>\n",
              "      <td>3.98009</td>\n",
              "    </tr>\n",
              "    <tr>\n",
              "      <th>2</th>\n",
              "      <td>ago</td>\n",
              "      <td>2008</td>\n",
              "      <td>58.282</td>\n",
              "      <td>18.7</td>\n",
              "      <td>12681825</td>\n",
              "      <td>4.87256</td>\n",
              "    </tr>\n",
              "    <tr>\n",
              "      <th>3</th>\n",
              "      <td>alb</td>\n",
              "      <td>2002</td>\n",
              "      <td>43.501</td>\n",
              "      <td>19.5</td>\n",
              "      <td>1327220</td>\n",
              "      <td>2.18121</td>\n",
              "    </tr>\n",
              "    <tr>\n",
              "      <th>4</th>\n",
              "      <td>alb</td>\n",
              "      <td>2005</td>\n",
              "      <td>46.731</td>\n",
              "      <td>11.2</td>\n",
              "      <td>1407298</td>\n",
              "      <td>1.82643</td>\n",
              "    </tr>\n",
              "  </tbody>\n",
              "</table>\n",
              "</div>"
            ],
            "text/plain": [
              "  Country code  Year  Urban population (%)  Urban poverty (%) below average  \\\n",
              "0          afg  2007                23.113                             28.9   \n",
              "1          afg  2011                23.948                             27.6   \n",
              "2          ago  2008                58.282                             18.7   \n",
              "3          alb  2002                43.501                             19.5   \n",
              "4          alb  2005                46.731                             11.2   \n",
              "\n",
              "   Urban population  Urban population growth (%)  \n",
              "0           6151939                      3.65049  \n",
              "1           7114615                      3.98009  \n",
              "2          12681825                      4.87256  \n",
              "3           1327220                      2.18121  \n",
              "4           1407298                      1.82643  "
            ]
          },
          "metadata": {
            "tags": []
          },
          "execution_count": 362
        }
      ]
    },
    {
      "cell_type": "code",
      "metadata": {
        "id": "u7gbej_ddBiX",
        "colab_type": "code",
        "colab": {
          "base_uri": "https://localhost:8080/",
          "height": 133
        },
        "outputId": "3566c4c7-2b00-460b-c88a-1e05243f7737"
      },
      "source": [
        "Urban.dtypes"
      ],
      "execution_count": 363,
      "outputs": [
        {
          "output_type": "execute_result",
          "data": {
            "text/plain": [
              "Country code                        object\n",
              "Year                                 int64\n",
              "Urban population (%)               float64\n",
              "Urban poverty (%) below average    float64\n",
              "Urban population                     int64\n",
              "Urban population growth (%)        float64\n",
              "dtype: object"
            ]
          },
          "metadata": {
            "tags": []
          },
          "execution_count": 363
        }
      ]
    },
    {
      "cell_type": "code",
      "metadata": {
        "id": "-n8ZQo_4dBkm",
        "colab_type": "code",
        "colab": {
          "base_uri": "https://localhost:8080/",
          "height": 1000
        },
        "outputId": "2221be9a-a697-4da4-f781-596d475a3f83"
      },
      "source": [
        "Urban['Country code'].value_counts()"
      ],
      "execution_count": 364,
      "outputs": [
        {
          "output_type": "execute_result",
          "data": {
            "text/plain": [
              "kaz    15\n",
              "idn    15\n",
              "ecu    14\n",
              "hnd    14\n",
              "dom    14\n",
              "bol    13\n",
              "ury    13\n",
              "chl    12\n",
              "col    12\n",
              "blr    12\n",
              "tur    12\n",
              "arg    11\n",
              "tha    11\n",
              "per    11\n",
              "slv    10\n",
              "kgz    10\n",
              "mne     9\n",
              "arm     7\n",
              "jam     7\n",
              "khm     7\n",
              "mda     7\n",
              "uga     7\n",
              "mys     6\n",
              "cri     6\n",
              "eth     4\n",
              "lao     4\n",
              "mex     4\n",
              "egy     4\n",
              "ben     4\n",
              "mng     4\n",
              "       ..\n",
              "pse     2\n",
              "afg     2\n",
              "gnb     2\n",
              "tza     1\n",
              "gab     1\n",
              "npl     1\n",
              "cpv     1\n",
              "ken     1\n",
              "caf     1\n",
              "ssd     1\n",
              "bdi     1\n",
              "gnq     1\n",
              "zaf     1\n",
              "tuv     1\n",
              "ner     1\n",
              "ago     1\n",
              "sdn     1\n",
              "lbr     1\n",
              "eri     1\n",
              "dza     1\n",
              "hti     1\n",
              "cog     1\n",
              "mdg     1\n",
              "com     1\n",
              "aze     1\n",
              "png     1\n",
              "pak     1\n",
              "yem     1\n",
              "gmb     1\n",
              "jor     1\n",
              "Name: Country code, Length: 94, dtype: int64"
            ]
          },
          "metadata": {
            "tags": []
          },
          "execution_count": 364
        }
      ]
    },
    {
      "cell_type": "code",
      "metadata": {
        "id": "1Ik-YiqNdBmi",
        "colab_type": "code",
        "colab": {
          "base_uri": "https://localhost:8080/",
          "height": 514
        },
        "outputId": "fe778127-618c-4435-a45b-a16198a60ccf"
      },
      "source": [
        "mask_kaz = Urban['Country code'] == 'kaz'\n",
        "kaz = Urban[mask_kaz]\n",
        "kaz.head(15)"
      ],
      "execution_count": 365,
      "outputs": [
        {
          "output_type": "execute_result",
          "data": {
            "text/html": [
              "<div>\n",
              "<style scoped>\n",
              "    .dataframe tbody tr th:only-of-type {\n",
              "        vertical-align: middle;\n",
              "    }\n",
              "\n",
              "    .dataframe tbody tr th {\n",
              "        vertical-align: top;\n",
              "    }\n",
              "\n",
              "    .dataframe thead th {\n",
              "        text-align: right;\n",
              "    }\n",
              "</style>\n",
              "<table border=\"1\" class=\"dataframe\">\n",
              "  <thead>\n",
              "    <tr style=\"text-align: right;\">\n",
              "      <th></th>\n",
              "      <th>Country code</th>\n",
              "      <th>Year</th>\n",
              "      <th>Urban population (%)</th>\n",
              "      <th>Urban poverty (%) below average</th>\n",
              "      <th>Urban population</th>\n",
              "      <th>Urban population growth (%)</th>\n",
              "    </tr>\n",
              "  </thead>\n",
              "  <tbody>\n",
              "    <tr>\n",
              "      <th>207</th>\n",
              "      <td>kaz</td>\n",
              "      <td>2001</td>\n",
              "      <td>56.171</td>\n",
              "      <td>36.0</td>\n",
              "      <td>8346075</td>\n",
              "      <td>-0.04003</td>\n",
              "    </tr>\n",
              "    <tr>\n",
              "      <th>208</th>\n",
              "      <td>kaz</td>\n",
              "      <td>2002</td>\n",
              "      <td>56.244</td>\n",
              "      <td>33.0</td>\n",
              "      <td>8357267</td>\n",
              "      <td>0.13401</td>\n",
              "    </tr>\n",
              "    <tr>\n",
              "      <th>209</th>\n",
              "      <td>kaz</td>\n",
              "      <td>2003</td>\n",
              "      <td>56.317</td>\n",
              "      <td>24.7</td>\n",
              "      <td>8396312</td>\n",
              "      <td>0.46611</td>\n",
              "    </tr>\n",
              "    <tr>\n",
              "      <th>210</th>\n",
              "      <td>kaz</td>\n",
              "      <td>2004</td>\n",
              "      <td>56.390</td>\n",
              "      <td>23.4</td>\n",
              "      <td>8465822</td>\n",
              "      <td>0.82446</td>\n",
              "    </tr>\n",
              "    <tr>\n",
              "      <th>211</th>\n",
              "      <td>kaz</td>\n",
              "      <td>2005</td>\n",
              "      <td>56.463</td>\n",
              "      <td>20.2</td>\n",
              "      <td>8552467</td>\n",
              "      <td>1.01827</td>\n",
              "    </tr>\n",
              "    <tr>\n",
              "      <th>212</th>\n",
              "      <td>kaz</td>\n",
              "      <td>2006</td>\n",
              "      <td>56.536</td>\n",
              "      <td>13.6</td>\n",
              "      <td>8654578</td>\n",
              "      <td>1.18687</td>\n",
              "    </tr>\n",
              "    <tr>\n",
              "      <th>213</th>\n",
              "      <td>kaz</td>\n",
              "      <td>2007</td>\n",
              "      <td>56.609</td>\n",
              "      <td>6.9</td>\n",
              "      <td>8765446</td>\n",
              "      <td>1.27290</td>\n",
              "    </tr>\n",
              "    <tr>\n",
              "      <th>214</th>\n",
              "      <td>kaz</td>\n",
              "      <td>2008</td>\n",
              "      <td>56.682</td>\n",
              "      <td>8.1</td>\n",
              "      <td>8884337</td>\n",
              "      <td>1.34724</td>\n",
              "    </tr>\n",
              "    <tr>\n",
              "      <th>215</th>\n",
              "      <td>kaz</td>\n",
              "      <td>2009</td>\n",
              "      <td>56.755</td>\n",
              "      <td>4.1</td>\n",
              "      <td>9133481</td>\n",
              "      <td>2.76571</td>\n",
              "    </tr>\n",
              "    <tr>\n",
              "      <th>216</th>\n",
              "      <td>kaz</td>\n",
              "      <td>2010</td>\n",
              "      <td>56.827</td>\n",
              "      <td>3.7</td>\n",
              "      <td>9275230</td>\n",
              "      <td>1.54005</td>\n",
              "    </tr>\n",
              "    <tr>\n",
              "      <th>217</th>\n",
              "      <td>kaz</td>\n",
              "      <td>2011</td>\n",
              "      <td>56.900</td>\n",
              "      <td>2.4</td>\n",
              "      <td>9421047</td>\n",
              "      <td>1.55988</td>\n",
              "    </tr>\n",
              "    <tr>\n",
              "      <th>218</th>\n",
              "      <td>kaz</td>\n",
              "      <td>2012</td>\n",
              "      <td>56.973</td>\n",
              "      <td>1.9</td>\n",
              "      <td>9566957</td>\n",
              "      <td>1.53690</td>\n",
              "    </tr>\n",
              "    <tr>\n",
              "      <th>219</th>\n",
              "      <td>kaz</td>\n",
              "      <td>2013</td>\n",
              "      <td>57.046</td>\n",
              "      <td>1.3</td>\n",
              "      <td>9718100</td>\n",
              "      <td>1.56749</td>\n",
              "    </tr>\n",
              "    <tr>\n",
              "      <th>220</th>\n",
              "      <td>kaz</td>\n",
              "      <td>2014</td>\n",
              "      <td>57.118</td>\n",
              "      <td>1.3</td>\n",
              "      <td>9874723</td>\n",
              "      <td>1.59881</td>\n",
              "    </tr>\n",
              "    <tr>\n",
              "      <th>221</th>\n",
              "      <td>kaz</td>\n",
              "      <td>2015</td>\n",
              "      <td>57.191</td>\n",
              "      <td>1.3</td>\n",
              "      <td>10032906</td>\n",
              "      <td>1.58920</td>\n",
              "    </tr>\n",
              "  </tbody>\n",
              "</table>\n",
              "</div>"
            ],
            "text/plain": [
              "    Country code  Year  Urban population (%)  Urban poverty (%) below average  \\\n",
              "207          kaz  2001                56.171                             36.0   \n",
              "208          kaz  2002                56.244                             33.0   \n",
              "209          kaz  2003                56.317                             24.7   \n",
              "210          kaz  2004                56.390                             23.4   \n",
              "211          kaz  2005                56.463                             20.2   \n",
              "212          kaz  2006                56.536                             13.6   \n",
              "213          kaz  2007                56.609                              6.9   \n",
              "214          kaz  2008                56.682                              8.1   \n",
              "215          kaz  2009                56.755                              4.1   \n",
              "216          kaz  2010                56.827                              3.7   \n",
              "217          kaz  2011                56.900                              2.4   \n",
              "218          kaz  2012                56.973                              1.9   \n",
              "219          kaz  2013                57.046                              1.3   \n",
              "220          kaz  2014                57.118                              1.3   \n",
              "221          kaz  2015                57.191                              1.3   \n",
              "\n",
              "     Urban population  Urban population growth (%)  \n",
              "207           8346075                     -0.04003  \n",
              "208           8357267                      0.13401  \n",
              "209           8396312                      0.46611  \n",
              "210           8465822                      0.82446  \n",
              "211           8552467                      1.01827  \n",
              "212           8654578                      1.18687  \n",
              "213           8765446                      1.27290  \n",
              "214           8884337                      1.34724  \n",
              "215           9133481                      2.76571  \n",
              "216           9275230                      1.54005  \n",
              "217           9421047                      1.55988  \n",
              "218           9566957                      1.53690  \n",
              "219           9718100                      1.56749  \n",
              "220           9874723                      1.59881  \n",
              "221          10032906                      1.58920  "
            ]
          },
          "metadata": {
            "tags": []
          },
          "execution_count": 365
        }
      ]
    },
    {
      "cell_type": "code",
      "metadata": {
        "id": "iwdTOrPadBob",
        "colab_type": "code",
        "colab": {
          "base_uri": "https://localhost:8080/",
          "height": 154
        },
        "outputId": "05dc44a3-4abf-4da5-9221-685bfe233fd5"
      },
      "source": [
        "kaz[kaz['Year'].isin([2001, 2008, 2015])]"
      ],
      "execution_count": 366,
      "outputs": [
        {
          "output_type": "execute_result",
          "data": {
            "text/html": [
              "<div>\n",
              "<style scoped>\n",
              "    .dataframe tbody tr th:only-of-type {\n",
              "        vertical-align: middle;\n",
              "    }\n",
              "\n",
              "    .dataframe tbody tr th {\n",
              "        vertical-align: top;\n",
              "    }\n",
              "\n",
              "    .dataframe thead th {\n",
              "        text-align: right;\n",
              "    }\n",
              "</style>\n",
              "<table border=\"1\" class=\"dataframe\">\n",
              "  <thead>\n",
              "    <tr style=\"text-align: right;\">\n",
              "      <th></th>\n",
              "      <th>Country code</th>\n",
              "      <th>Year</th>\n",
              "      <th>Urban population (%)</th>\n",
              "      <th>Urban poverty (%) below average</th>\n",
              "      <th>Urban population</th>\n",
              "      <th>Urban population growth (%)</th>\n",
              "    </tr>\n",
              "  </thead>\n",
              "  <tbody>\n",
              "    <tr>\n",
              "      <th>207</th>\n",
              "      <td>kaz</td>\n",
              "      <td>2001</td>\n",
              "      <td>56.171</td>\n",
              "      <td>36.0</td>\n",
              "      <td>8346075</td>\n",
              "      <td>-0.04003</td>\n",
              "    </tr>\n",
              "    <tr>\n",
              "      <th>214</th>\n",
              "      <td>kaz</td>\n",
              "      <td>2008</td>\n",
              "      <td>56.682</td>\n",
              "      <td>8.1</td>\n",
              "      <td>8884337</td>\n",
              "      <td>1.34724</td>\n",
              "    </tr>\n",
              "    <tr>\n",
              "      <th>221</th>\n",
              "      <td>kaz</td>\n",
              "      <td>2015</td>\n",
              "      <td>57.191</td>\n",
              "      <td>1.3</td>\n",
              "      <td>10032906</td>\n",
              "      <td>1.58920</td>\n",
              "    </tr>\n",
              "  </tbody>\n",
              "</table>\n",
              "</div>"
            ],
            "text/plain": [
              "    Country code  Year  Urban population (%)  Urban poverty (%) below average  \\\n",
              "207          kaz  2001                56.171                             36.0   \n",
              "214          kaz  2008                56.682                              8.1   \n",
              "221          kaz  2015                57.191                              1.3   \n",
              "\n",
              "     Urban population  Urban population growth (%)  \n",
              "207           8346075                     -0.04003  \n",
              "214           8884337                      1.34724  \n",
              "221          10032906                      1.58920  "
            ]
          },
          "metadata": {
            "tags": []
          },
          "execution_count": 366
        }
      ]
    },
    {
      "cell_type": "code",
      "metadata": {
        "id": "443GkxqmnxDy",
        "colab_type": "code",
        "colab": {
          "base_uri": "https://localhost:8080/",
          "height": 398
        },
        "outputId": "0d48972c-274e-414b-fae1-811cd272b8f0"
      },
      "source": [
        "sns.set_palette('RdPu', 2)\n",
        "sns.relplot(x = 'Year',\n",
        "            y = 'Urban population (%)',\n",
        "            hue = 'Country code',\n",
        "            size = 'Urban population',\n",
        "            sizes = (10, 300),\n",
        "            data = kaz,\n",
        "            );\n",
        "\n",
        "\n",
        "plt.ylim(55, 58)\n",
        "plt.title('Kaz urban growth')"
      ],
      "execution_count": 367,
      "outputs": [
        {
          "output_type": "execute_result",
          "data": {
            "text/plain": [
              "Text(0.5, 1.0, 'Kaz urban growth')"
            ]
          },
          "metadata": {
            "tags": []
          },
          "execution_count": 367
        },
        {
          "output_type": "display_data",
          "data": {
            "image/png": "[encoded data removed]",
            "text/plain": [
              "<Figure size 482.375x360 with 1 Axes>"
            ]
          },
          "metadata": {
            "tags": []
          }
        }
      ]
    },
    {
      "cell_type": "code",
      "metadata": {
        "id": "77Pxv19mshnM",
        "colab_type": "code",
        "colab": {}
      },
      "source": [
        "kaz_closer = kaz[kaz['Year'].isin([2001, 2008, 2015])]"
      ],
      "execution_count": 0,
      "outputs": []
    },
    {
      "cell_type": "code",
      "metadata": {
        "id": "K7T5MI5BsmLA",
        "colab_type": "code",
        "colab": {
          "base_uri": "https://localhost:8080/",
          "height": 398
        },
        "outputId": "30dcccbf-2ffc-41a5-fbaf-f6240370c528"
      },
      "source": [
        "sns.set_palette(\"pastel\")\n",
        "sns.relplot(x = 'Year',\n",
        "            y = 'Urban population (%)',\n",
        "            hue = 'Country code',\n",
        "            size = 'Urban population',\n",
        "            sizes = (10, 500),\n",
        "            data = kaz_closer);\n",
        "\n",
        "\n",
        "plt.ylim(55, 58)\n",
        "plt.title('Kaz close look')"
      ],
      "execution_count": 369,
      "outputs": [
        {
          "output_type": "execute_result",
          "data": {
            "text/plain": [
              "Text(0.5, 1.0, 'Kaz close look')"
            ]
          },
          "metadata": {
            "tags": []
          },
          "execution_count": 369
        },
        {
          "output_type": "display_data",
          "data": {
            "image/png": "[encoded data removed]",
            "text/plain": [
              "<Figure size 482.375x360 with 1 Axes>"
            ]
          },
          "metadata": {
            "tags": []
          }
        }
      ]
    },
    {
      "cell_type": "code",
      "metadata": {
        "id": "PkXtpDEqsshi",
        "colab_type": "code",
        "colab": {}
      },
      "source": [
        ""
      ],
      "execution_count": 0,
      "outputs": []
    },
    {
      "cell_type": "code",
      "metadata": {
        "id": "Up0JYInMrtcN",
        "colab_type": "code",
        "colab": {
          "base_uri": "https://localhost:8080/",
          "height": 274
        },
        "outputId": "879be1ce-47c3-43f7-b9b8-ac2205d52750"
      },
      "source": [
        "mask_arm = Urban['Country code'] == 'arm'\n",
        "arm = Urban[mask_arm]\n",
        "arm.head(10)"
      ],
      "execution_count": 370,
      "outputs": [
        {
          "output_type": "execute_result",
          "data": {
            "text/html": [
              "<div>\n",
              "<style scoped>\n",
              "    .dataframe tbody tr th:only-of-type {\n",
              "        vertical-align: middle;\n",
              "    }\n",
              "\n",
              "    .dataframe tbody tr th {\n",
              "        vertical-align: top;\n",
              "    }\n",
              "\n",
              "    .dataframe thead th {\n",
              "        text-align: right;\n",
              "    }\n",
              "</style>\n",
              "<table border=\"1\" class=\"dataframe\">\n",
              "  <thead>\n",
              "    <tr style=\"text-align: right;\">\n",
              "      <th></th>\n",
              "      <th>Country code</th>\n",
              "      <th>Year</th>\n",
              "      <th>Urban population (%)</th>\n",
              "      <th>Urban poverty (%) below average</th>\n",
              "      <th>Urban population</th>\n",
              "      <th>Urban population growth (%)</th>\n",
              "    </tr>\n",
              "  </thead>\n",
              "  <tbody>\n",
              "    <tr>\n",
              "      <th>18</th>\n",
              "      <td>arm</td>\n",
              "      <td>2008</td>\n",
              "      <td>63.640</td>\n",
              "      <td>27.6</td>\n",
              "      <td>1850791</td>\n",
              "      <td>-1.00584</td>\n",
              "    </tr>\n",
              "    <tr>\n",
              "      <th>19</th>\n",
              "      <td>arm</td>\n",
              "      <td>2009</td>\n",
              "      <td>63.540</td>\n",
              "      <td>33.7</td>\n",
              "      <td>1835406</td>\n",
              "      <td>-0.83474</td>\n",
              "    </tr>\n",
              "    <tr>\n",
              "      <th>20</th>\n",
              "      <td>arm</td>\n",
              "      <td>2010</td>\n",
              "      <td>63.440</td>\n",
              "      <td>35.7</td>\n",
              "      <td>1825366</td>\n",
              "      <td>-0.54852</td>\n",
              "    </tr>\n",
              "    <tr>\n",
              "      <th>21</th>\n",
              "      <td>arm</td>\n",
              "      <td>2011</td>\n",
              "      <td>63.340</td>\n",
              "      <td>35.2</td>\n",
              "      <td>1821393</td>\n",
              "      <td>-0.21789</td>\n",
              "    </tr>\n",
              "    <tr>\n",
              "      <th>22</th>\n",
              "      <td>arm</td>\n",
              "      <td>2012</td>\n",
              "      <td>63.240</td>\n",
              "      <td>32.5</td>\n",
              "      <td>1822527</td>\n",
              "      <td>0.06224</td>\n",
              "    </tr>\n",
              "    <tr>\n",
              "      <th>23</th>\n",
              "      <td>arm</td>\n",
              "      <td>2013</td>\n",
              "      <td>63.164</td>\n",
              "      <td>32.2</td>\n",
              "      <td>1827656</td>\n",
              "      <td>0.28103</td>\n",
              "    </tr>\n",
              "    <tr>\n",
              "      <th>24</th>\n",
              "      <td>arm</td>\n",
              "      <td>2014</td>\n",
              "      <td>63.112</td>\n",
              "      <td>30.0</td>\n",
              "      <td>1834174</td>\n",
              "      <td>0.35600</td>\n",
              "    </tr>\n",
              "  </tbody>\n",
              "</table>\n",
              "</div>"
            ],
            "text/plain": [
              "   Country code  Year  Urban population (%)  Urban poverty (%) below average  \\\n",
              "18          arm  2008                63.640                             27.6   \n",
              "19          arm  2009                63.540                             33.7   \n",
              "20          arm  2010                63.440                             35.7   \n",
              "21          arm  2011                63.340                             35.2   \n",
              "22          arm  2012                63.240                             32.5   \n",
              "23          arm  2013                63.164                             32.2   \n",
              "24          arm  2014                63.112                             30.0   \n",
              "\n",
              "    Urban population  Urban population growth (%)  \n",
              "18           1850791                     -1.00584  \n",
              "19           1835406                     -0.83474  \n",
              "20           1825366                     -0.54852  \n",
              "21           1821393                     -0.21789  \n",
              "22           1822527                      0.06224  \n",
              "23           1827656                      0.28103  \n",
              "24           1834174                      0.35600  "
            ]
          },
          "metadata": {
            "tags": []
          },
          "execution_count": 370
        }
      ]
    },
    {
      "cell_type": "code",
      "metadata": {
        "id": "-KsZGDI_zOKB",
        "colab_type": "code",
        "colab": {
          "base_uri": "https://localhost:8080/",
          "height": 304
        },
        "outputId": "84f64403-29dd-47b5-93c2-bf71f4420efc"
      },
      "source": [
        "Urban.describe()"
      ],
      "execution_count": 371,
      "outputs": [
        {
          "output_type": "execute_result",
          "data": {
            "text/html": [
              "<div>\n",
              "<style scoped>\n",
              "    .dataframe tbody tr th:only-of-type {\n",
              "        vertical-align: middle;\n",
              "    }\n",
              "\n",
              "    .dataframe tbody tr th {\n",
              "        vertical-align: top;\n",
              "    }\n",
              "\n",
              "    .dataframe thead th {\n",
              "        text-align: right;\n",
              "    }\n",
              "</style>\n",
              "<table border=\"1\" class=\"dataframe\">\n",
              "  <thead>\n",
              "    <tr style=\"text-align: right;\">\n",
              "      <th></th>\n",
              "      <th>Year</th>\n",
              "      <th>Urban population (%)</th>\n",
              "      <th>Urban poverty (%) below average</th>\n",
              "      <th>Urban population</th>\n",
              "      <th>Urban population growth (%)</th>\n",
              "    </tr>\n",
              "  </thead>\n",
              "  <tbody>\n",
              "    <tr>\n",
              "      <th>count</th>\n",
              "      <td>409.000000</td>\n",
              "      <td>409.000000</td>\n",
              "      <td>409.000000</td>\n",
              "      <td>4.090000e+02</td>\n",
              "      <td>409.000000</td>\n",
              "    </tr>\n",
              "    <tr>\n",
              "      <th>mean</th>\n",
              "      <td>2007.058680</td>\n",
              "      <td>53.733626</td>\n",
              "      <td>24.323716</td>\n",
              "      <td>1.849943e+07</td>\n",
              "      <td>2.507655</td>\n",
              "    </tr>\n",
              "    <tr>\n",
              "      <th>std</th>\n",
              "      <td>5.270755</td>\n",
              "      <td>21.216384</td>\n",
              "      <td>14.954634</td>\n",
              "      <td>3.987401e+07</td>\n",
              "      <td>1.575347</td>\n",
              "    </tr>\n",
              "    <tr>\n",
              "      <th>min</th>\n",
              "      <td>1985.000000</td>\n",
              "      <td>11.776000</td>\n",
              "      <td>0.300000</td>\n",
              "      <td>5.771000e+03</td>\n",
              "      <td>-1.005840</td>\n",
              "    </tr>\n",
              "    <tr>\n",
              "      <th>25%</th>\n",
              "      <td>2004.000000</td>\n",
              "      <td>37.235000</td>\n",
              "      <td>12.100000</td>\n",
              "      <td>2.286080e+06</td>\n",
              "      <td>1.495640</td>\n",
              "    </tr>\n",
              "    <tr>\n",
              "      <th>50%</th>\n",
              "      <td>2008.000000</td>\n",
              "      <td>54.570000</td>\n",
              "      <td>23.500000</td>\n",
              "      <td>6.008252e+06</td>\n",
              "      <td>2.366280</td>\n",
              "    </tr>\n",
              "    <tr>\n",
              "      <th>75%</th>\n",
              "      <td>2011.000000</td>\n",
              "      <td>69.053000</td>\n",
              "      <td>34.100000</td>\n",
              "      <td>1.906143e+07</td>\n",
              "      <td>3.424290</td>\n",
              "    </tr>\n",
              "    <tr>\n",
              "      <th>max</th>\n",
              "      <td>2015.000000</td>\n",
              "      <td>94.945000</td>\n",
              "      <td>63.600000</td>\n",
              "      <td>3.900855e+08</td>\n",
              "      <td>13.405890</td>\n",
              "    </tr>\n",
              "  </tbody>\n",
              "</table>\n",
              "</div>"
            ],
            "text/plain": [
              "              Year  Urban population (%)  Urban poverty (%) below average  \\\n",
              "count   409.000000            409.000000                       409.000000   \n",
              "mean   2007.058680             53.733626                        24.323716   \n",
              "std       5.270755             21.216384                        14.954634   \n",
              "min    1985.000000             11.776000                         0.300000   \n",
              "25%    2004.000000             37.235000                        12.100000   \n",
              "50%    2008.000000             54.570000                        23.500000   \n",
              "75%    2011.000000             69.053000                        34.100000   \n",
              "max    2015.000000             94.945000                        63.600000   \n",
              "\n",
              "       Urban population  Urban population growth (%)  \n",
              "count      4.090000e+02                   409.000000  \n",
              "mean       1.849943e+07                     2.507655  \n",
              "std        3.987401e+07                     1.575347  \n",
              "min        5.771000e+03                    -1.005840  \n",
              "25%        2.286080e+06                     1.495640  \n",
              "50%        6.008252e+06                     2.366280  \n",
              "75%        1.906143e+07                     3.424290  \n",
              "max        3.900855e+08                    13.405890  "
            ]
          },
          "metadata": {
            "tags": []
          },
          "execution_count": 371
        }
      ]
    },
    {
      "cell_type": "code",
      "metadata": {
        "id": "Bl0TW_Aj7Te4",
        "colab_type": "code",
        "colab": {
          "base_uri": "https://localhost:8080/",
          "height": 1000
        },
        "outputId": "91497c55-0751-47ae-c308-9a0c38dff455"
      },
      "source": [
        "sns.set_palette(\"pastel\")\n",
        "sns.relplot(x = 'Urban poverty (%) below average',\n",
        "            y = 'Urban population (%)',\n",
        "            hue = 'Country code',\n",
        "            size = 'Urban population',\n",
        "            sizes = (50, 400),\n",
        "            data = Urban);\n",
        "\n",
        "\n",
        "plt.ylim(0, 95)\n",
        "plt.title('Urban population vs poverty')"
      ],
      "execution_count": 392,
      "outputs": [
        {
          "output_type": "execute_result",
          "data": {
            "text/plain": [
              "Text(0.5, 1.0, 'Urban population vs poverty')"
            ]
          },
          "metadata": {
            "tags": []
          },
          "execution_count": 392
        },
        {
          "output_type": "display_data",
          "data": {
            "image/png": "[encoded data removed]",
            "text/plain": [
              "<Figure size 482.375x360 with 1 Axes>"
            ]
          },
          "metadata": {
            "tags": []
          }
        }
      ]
    },
    {
      "cell_type": "code",
      "metadata": {
        "id": "uZB6kJQ72AyF",
        "colab_type": "code",
        "colab": {
          "base_uri": "https://localhost:8080/",
          "height": 214
        },
        "outputId": "ff1fa145-778a-499d-ad94-05ecdd305295"
      },
      "source": [
        "now = Urban[Urban['Year']==2015]\n",
        "now.head()"
      ],
      "execution_count": 372,
      "outputs": [
        {
          "output_type": "execute_result",
          "data": {
            "text/html": [
              "<div>\n",
              "<style scoped>\n",
              "    .dataframe tbody tr th:only-of-type {\n",
              "        vertical-align: middle;\n",
              "    }\n",
              "\n",
              "    .dataframe tbody tr th {\n",
              "        vertical-align: top;\n",
              "    }\n",
              "\n",
              "    .dataframe thead th {\n",
              "        text-align: right;\n",
              "    }\n",
              "</style>\n",
              "<table border=\"1\" class=\"dataframe\">\n",
              "  <thead>\n",
              "    <tr style=\"text-align: right;\">\n",
              "      <th></th>\n",
              "      <th>Country code</th>\n",
              "      <th>Year</th>\n",
              "      <th>Urban population (%)</th>\n",
              "      <th>Urban poverty (%) below average</th>\n",
              "      <th>Urban population</th>\n",
              "      <th>Urban population growth (%)</th>\n",
              "    </tr>\n",
              "  </thead>\n",
              "  <tbody>\n",
              "    <tr>\n",
              "      <th>48</th>\n",
              "      <td>blr</td>\n",
              "      <td>2015</td>\n",
              "      <td>77.181</td>\n",
              "      <td>3.7</td>\n",
              "      <td>7324181</td>\n",
              "      <td>0.79359</td>\n",
              "    </tr>\n",
              "    <tr>\n",
              "      <th>83</th>\n",
              "      <td>civ</td>\n",
              "      <td>2015</td>\n",
              "      <td>49.444</td>\n",
              "      <td>35.9</td>\n",
              "      <td>11425753</td>\n",
              "      <td>3.40264</td>\n",
              "    </tr>\n",
              "    <tr>\n",
              "      <th>100</th>\n",
              "      <td>col</td>\n",
              "      <td>2015</td>\n",
              "      <td>79.764</td>\n",
              "      <td>24.1</td>\n",
              "      <td>38469138</td>\n",
              "      <td>1.34828</td>\n",
              "    </tr>\n",
              "    <tr>\n",
              "      <th>108</th>\n",
              "      <td>cri</td>\n",
              "      <td>2015</td>\n",
              "      <td>76.862</td>\n",
              "      <td>19.4</td>\n",
              "      <td>3695411</td>\n",
              "      <td>2.25672</td>\n",
              "    </tr>\n",
              "    <tr>\n",
              "      <th>221</th>\n",
              "      <td>kaz</td>\n",
              "      <td>2015</td>\n",
              "      <td>57.191</td>\n",
              "      <td>1.3</td>\n",
              "      <td>10032906</td>\n",
              "      <td>1.58920</td>\n",
              "    </tr>\n",
              "  </tbody>\n",
              "</table>\n",
              "</div>"
            ],
            "text/plain": [
              "    Country code  Year  Urban population (%)  Urban poverty (%) below average  \\\n",
              "48           blr  2015                77.181                              3.7   \n",
              "83           civ  2015                49.444                             35.9   \n",
              "100          col  2015                79.764                             24.1   \n",
              "108          cri  2015                76.862                             19.4   \n",
              "221          kaz  2015                57.191                              1.3   \n",
              "\n",
              "     Urban population  Urban population growth (%)  \n",
              "48            7324181                      0.79359  \n",
              "83           11425753                      3.40264  \n",
              "100          38469138                      1.34828  \n",
              "108           3695411                      2.25672  \n",
              "221          10032906                      1.58920  "
            ]
          },
          "metadata": {
            "tags": []
          },
          "execution_count": 372
        }
      ]
    },
    {
      "cell_type": "code",
      "metadata": {
        "id": "TkaArT422Q0j",
        "colab_type": "code",
        "colab": {
          "base_uri": "https://localhost:8080/",
          "height": 398
        },
        "outputId": "e0993393-7889-4d97-ad0c-f35b61c50887"
      },
      "source": [
        "sns.set_palette(\"pastel\")\n",
        "sns.relplot(x = 'Year',\n",
        "            y = 'Urban population (%)',\n",
        "            hue = 'Country code',\n",
        "            size = 'Urban population',\n",
        "            sizes = (50, 400),\n",
        "            data = now);\n",
        "\n",
        "\n",
        "plt.ylim(0, 100)\n",
        "plt.title('urban 2018')"
      ],
      "execution_count": 383,
      "outputs": [
        {
          "output_type": "execute_result",
          "data": {
            "text/plain": [
              "Text(0.5, 1.0, 'urban 2018')"
            ]
          },
          "metadata": {
            "tags": []
          },
          "execution_count": 383
        },
        {
          "output_type": "display_data",
          "data": {
            "image/png": "[encoded data removed]",
            "text/plain": [
              "<Figure size 482.375x360 with 1 Axes>"
            ]
          },
          "metadata": {
            "tags": []
          }
        }
      ]
    },
    {
      "cell_type": "code",
      "metadata": {
        "id": "aOM3qJ4q8TuA",
        "colab_type": "code",
        "colab": {
          "base_uri": "https://localhost:8080/",
          "height": 304
        },
        "outputId": "b6278f52-b626-482a-8009-06e9e8da1d35"
      },
      "source": [
        "Urban.describe()"
      ],
      "execution_count": 386,
      "outputs": [
        {
          "output_type": "execute_result",
          "data": {
            "text/html": [
              "<div>\n",
              "<style scoped>\n",
              "    .dataframe tbody tr th:only-of-type {\n",
              "        vertical-align: middle;\n",
              "    }\n",
              "\n",
              "    .dataframe tbody tr th {\n",
              "        vertical-align: top;\n",
              "    }\n",
              "\n",
              "    .dataframe thead th {\n",
              "        text-align: right;\n",
              "    }\n",
              "</style>\n",
              "<table border=\"1\" class=\"dataframe\">\n",
              "  <thead>\n",
              "    <tr style=\"text-align: right;\">\n",
              "      <th></th>\n",
              "      <th>Year</th>\n",
              "      <th>Urban population (%)</th>\n",
              "      <th>Urban poverty (%) below average</th>\n",
              "      <th>Urban population</th>\n",
              "      <th>Urban population growth (%)</th>\n",
              "    </tr>\n",
              "  </thead>\n",
              "  <tbody>\n",
              "    <tr>\n",
              "      <th>count</th>\n",
              "      <td>409.000000</td>\n",
              "      <td>409.000000</td>\n",
              "      <td>409.000000</td>\n",
              "      <td>4.090000e+02</td>\n",
              "      <td>409.000000</td>\n",
              "    </tr>\n",
              "    <tr>\n",
              "      <th>mean</th>\n",
              "      <td>2007.058680</td>\n",
              "      <td>53.733626</td>\n",
              "      <td>24.323716</td>\n",
              "      <td>1.849943e+07</td>\n",
              "      <td>2.507655</td>\n",
              "    </tr>\n",
              "    <tr>\n",
              "      <th>std</th>\n",
              "      <td>5.270755</td>\n",
              "      <td>21.216384</td>\n",
              "      <td>14.954634</td>\n",
              "      <td>3.987401e+07</td>\n",
              "      <td>1.575347</td>\n",
              "    </tr>\n",
              "    <tr>\n",
              "      <th>min</th>\n",
              "      <td>1985.000000</td>\n",
              "      <td>11.776000</td>\n",
              "      <td>0.300000</td>\n",
              "      <td>5.771000e+03</td>\n",
              "      <td>-1.005840</td>\n",
              "    </tr>\n",
              "    <tr>\n",
              "      <th>25%</th>\n",
              "      <td>2004.000000</td>\n",
              "      <td>37.235000</td>\n",
              "      <td>12.100000</td>\n",
              "      <td>2.286080e+06</td>\n",
              "      <td>1.495640</td>\n",
              "    </tr>\n",
              "    <tr>\n",
              "      <th>50%</th>\n",
              "      <td>2008.000000</td>\n",
              "      <td>54.570000</td>\n",
              "      <td>23.500000</td>\n",
              "      <td>6.008252e+06</td>\n",
              "      <td>2.366280</td>\n",
              "    </tr>\n",
              "    <tr>\n",
              "      <th>75%</th>\n",
              "      <td>2011.000000</td>\n",
              "      <td>69.053000</td>\n",
              "      <td>34.100000</td>\n",
              "      <td>1.906143e+07</td>\n",
              "      <td>3.424290</td>\n",
              "    </tr>\n",
              "    <tr>\n",
              "      <th>max</th>\n",
              "      <td>2015.000000</td>\n",
              "      <td>94.945000</td>\n",
              "      <td>63.600000</td>\n",
              "      <td>3.900855e+08</td>\n",
              "      <td>13.405890</td>\n",
              "    </tr>\n",
              "  </tbody>\n",
              "</table>\n",
              "</div>"
            ],
            "text/plain": [
              "              Year  Urban population (%)  Urban poverty (%) below average  \\\n",
              "count   409.000000            409.000000                       409.000000   \n",
              "mean   2007.058680             53.733626                        24.323716   \n",
              "std       5.270755             21.216384                        14.954634   \n",
              "min    1985.000000             11.776000                         0.300000   \n",
              "25%    2004.000000             37.235000                        12.100000   \n",
              "50%    2008.000000             54.570000                        23.500000   \n",
              "75%    2011.000000             69.053000                        34.100000   \n",
              "max    2015.000000             94.945000                        63.600000   \n",
              "\n",
              "       Urban population  Urban population growth (%)  \n",
              "count      4.090000e+02                   409.000000  \n",
              "mean       1.849943e+07                     2.507655  \n",
              "std        3.987401e+07                     1.575347  \n",
              "min        5.771000e+03                    -1.005840  \n",
              "25%        2.286080e+06                     1.495640  \n",
              "50%        6.008252e+06                     2.366280  \n",
              "75%        1.906143e+07                     3.424290  \n",
              "max        3.900855e+08                    13.405890  "
            ]
          },
          "metadata": {
            "tags": []
          },
          "execution_count": 386
        }
      ]
    },
    {
      "cell_type": "code",
      "metadata": {
        "id": "MwmEA58Dsdld",
        "colab_type": "code",
        "colab": {
          "base_uri": "https://localhost:8080/",
          "height": 1000
        },
        "outputId": "b3dc7c8b-919e-4a28-fbb9-5e07aab039ca"
      },
      "source": [
        "years = [1985, 2000, 2005, 2015]\n",
        "\n",
        "for year in years:\n",
        "  Urban_year = Urban[Urban['Year']==year]\n",
        "  sns.relplot(x='Urban population (%)',\n",
        "              y='Urban poverty (%) below average',\n",
        "              hue='Country code',\n",
        "              size='Urban population',\n",
        "              sizes=(80,300),\n",
        "              data=Urban_year);\n",
        "  \n",
        "  plt.ylim(0, 64)\n",
        "  plt.title(f'arm population in {year}')"
      ],
      "execution_count": 385,
      "outputs": [
        {
          "output_type": "display_data",
          "data": {
            "image/png": "[encoded data removed]",
            "text/plain": [
              "<Figure size 482.375x360 with 1 Axes>"
            ]
          },
          "metadata": {
            "tags": []
          }
        },
        {
          "output_type": "display_data",
          "data": {
            "image/png": "[encoded data removed]",
            "text/plain": [
              "<Figure size 482.375x360 with 1 Axes>"
            ]
          },
          "metadata": {
            "tags": []
          }
        },
        {
          "output_type": "display_data",
          "data": {
            "image/png": "[encoded data removed]",
            "text/plain": [
              "<Figure size 482.375x360 with 1 Axes>"
            ]
          },
          "metadata": {
            "tags": []
          }
        },
        {
          "output_type": "display_data",
          "data": {
            "image/png": "[encoded data removed]",
            "text/plain": [
              "<Figure size 482.375x360 with 1 Axes>"
            ]
          },
          "metadata": {
            "tags": []
          }
        }
      ]
    },
    {
      "cell_type": "markdown",
      "metadata": {
        "id": "PKjJTQXI3qGI",
        "colab_type": "text"
      },
      "source": [
        "# STRETCH OPTIONS\n",
        "\n",
        "## 1. Animate!\n",
        "\n",
        "- [How to Create Animated Graphs in Python](https://towardsdatascience.com/how-to-create-animated-graphs-in-python-bb619cc2dec1)\n",
        "- Try using [Plotly](https://plot.ly/python/animations/)!\n",
        "- [The Ultimate Day of Chicago Bikeshare](https://chrisluedtke.github.io/divvy-data.html) (Lambda School Data Science student)\n",
        "- [Using Phoebe for animations in Google Colab](https://colab.research.google.com/github/phoebe-project/phoebe2-docs/blob/2.1/tutorials/animations.ipynb)\n",
        "\n",
        "## 2. Study for the Sprint Challenge\n",
        "\n",
        "- Concatenate DataFrames\n",
        "- Merge DataFrames\n",
        "- Reshape data with `pivot_table()` and `.melt()`\n",
        "- Be able to reproduce a FiveThirtyEight graph using Matplotlib or Seaborn.\n",
        "\n",
        "## 3. Work on anything related to your portfolio site / Data Storytelling Project"
      ]
    },
    {
      "cell_type": "code",
      "metadata": {
        "id": "7lLHHhW0z0vf",
        "colab_type": "code",
        "colab": {}
      },
      "source": [
        "# TODO"
      ],
      "execution_count": 0,
      "outputs": []
    }
  ]
}