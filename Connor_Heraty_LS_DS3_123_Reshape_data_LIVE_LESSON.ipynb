{
  "nbformat": 4,
  "nbformat_minor": 0,
  "metadata": {
    "colab": {
      "name": "Connor Heraty - LS_DS3_123_Reshape_data_LIVE_LESSON.ipynb",
      "version": "0.3.2",
      "provenance": [],
      "collapsed_sections": [],
      "include_colab_link": true
    },
    "kernelspec": {
      "display_name": "Python 3",
      "language": "python",
      "name": "python3"
    }
  },
  "cells": [
    {
      "cell_type": "markdown",
      "metadata": {
        "id": "view-in-github",
        "colab_type": "text"
      },
      "source": [
        "<a href=\"https://colab.research.google.com/github/connorpheraty/DS-Unit-1-Sprint-2-Data-Wrangling/blob/master/Connor_Heraty_LS_DS3_123_Reshape_data_LIVE_LESSON.ipynb\" target=\"_parent\"><img src=\"https://colab.research.google.com/assets/colab-badge.svg\" alt=\"Open In Colab\"/></a>"
      ]
    },
    {
      "metadata": {
        "colab_type": "text",
        "id": "oeWq7mGFZm6L"
      },
      "cell_type": "markdown",
      "source": [
        "_Lambda School Data Science_\n",
        "\n",
        "# Reshape data\n",
        "\n",
        "Objectives\n",
        "-  understand tidy data formatting\n",
        "-  melt and pivot data with pandas\n",
        "\n",
        "Links\n",
        "- [Tidy Data](https://en.wikipedia.org/wiki/Tidy_data)\n",
        "- [Pandas Cheat Sheet](https://github.com/pandas-dev/pandas/blob/master/doc/cheatsheet/Pandas_Cheat_Sheet.pdf)\n",
        "  - Tidy Data\n",
        "  - Reshaping Data\n",
        "- Python Data Science Handbook\n",
        "  - [Chapter 3.8](https://jakevdp.github.io/PythonDataScienceHandbook/03.08-aggregation-and-grouping.html), Aggregation and Grouping\n",
        "  - [Chapter 3.9](https://jakevdp.github.io/PythonDataScienceHandbook/03.09-pivot-tables.html), Pivot Tables\n",
        "  \n",
        "Reference\n",
        "- pandas documentation: [Reshaping and Pivot Tables](https://pandas.pydata.org/pandas-docs/stable/reshaping.html)\n",
        "- Modern Pandas, Part 5: [Tidy Data](https://tomaugspurger.github.io/modern-5-tidy.html)"
      ]
    },
    {
      "metadata": {
        "colab_type": "text",
        "id": "u2-7QkU3eR_e"
      },
      "cell_type": "markdown",
      "source": [
        "## Why reshape data?\n",
        "\n",
        "#### Some libraries prefer data in different formats\n",
        "\n",
        "For example, the Seaborn data visualization library prefers data in \"Tidy\" format often (but not always).\n",
        "\n",
        "> \"[Seaborn will be most powerful when your datasets have a particular organization.](https://seaborn.pydata.org/introduction.html#organizing-datasets) This format ia alternately called “long-form” or “tidy” data and is described in detail by Hadley Wickham. The rules can be simply stated:\n",
        "\n",
        "> - Each variable is a column\n",
        "- Each observation is a row\n",
        "\n",
        "> A helpful mindset for determining whether your data are tidy is to think backwards from the plot you want to draw. From this perspective, a “variable” is something that will be assigned a role in the plot.\"\n",
        "\n",
        "#### Data science is often about putting square pegs in round holes\n",
        "\n",
        "Here's an inspiring [video clip from _Apollo 13_](https://www.youtube.com/watch?v=ry55--J4_VQ): “Invent a way to put a square peg in a round hole.” It's a good metaphor for data wrangling!"
      ]
    },
    {
      "metadata": {
        "colab_type": "text",
        "id": "3av1dYbRZ4k2"
      },
      "cell_type": "markdown",
      "source": [
        "## Upgrade Seaborn\n",
        "\n",
        "Run the cell below which upgrades Seaborn and automatically restarts your Google Colab Runtime."
      ]
    },
    {
      "metadata": {
        "colab_type": "code",
        "id": "AOLhnquFxao7",
        "outputId": "4c2717d6-03d9-483b-9904-4268d4422186",
        "colab": {
          "base_uri": "https://localhost:8080/",
          "height": 221
        }
      },
      "cell_type": "code",
      "source": [
        "!pip install seaborn --upgrade\n",
        "import os\n",
        "os.kill(os.getpid(), 9)"
      ],
      "execution_count": 0,
      "outputs": [
        {
          "output_type": "stream",
          "text": [
            "Requirement already up-to-date: seaborn in /usr/local/lib/python3.6/dist-packages (0.9.0)\n",
            "Requirement already satisfied, skipping upgrade: matplotlib>=1.4.3 in /usr/local/lib/python3.6/dist-packages (from seaborn) (3.0.3)\n",
            "Requirement already satisfied, skipping upgrade: numpy>=1.9.3 in /usr/local/lib/python3.6/dist-packages (from seaborn) (1.14.6)\n",
            "Requirement already satisfied, skipping upgrade: scipy>=0.14.0 in /usr/local/lib/python3.6/dist-packages (from seaborn) (1.1.0)\n",
            "Requirement already satisfied, skipping upgrade: pandas>=0.15.2 in /usr/local/lib/python3.6/dist-packages (from seaborn) (0.22.0)\n",
            "Requirement already satisfied, skipping upgrade: kiwisolver>=1.0.1 in /usr/local/lib/python3.6/dist-packages (from matplotlib>=1.4.3->seaborn) (1.0.1)\n",
            "Requirement already satisfied, skipping upgrade: pyparsing!=2.0.4,!=2.1.2,!=2.1.6,>=2.0.1 in /usr/local/lib/python3.6/dist-packages (from matplotlib>=1.4.3->seaborn) (2.3.1)\n",
            "Requirement already satisfied, skipping upgrade: cycler>=0.10 in /usr/local/lib/python3.6/dist-packages (from matplotlib>=1.4.3->seaborn) (0.10.0)\n",
            "Requirement already satisfied, skipping upgrade: python-dateutil>=2.1 in /usr/local/lib/python3.6/dist-packages (from matplotlib>=1.4.3->seaborn) (2.5.3)\n",
            "Requirement already satisfied, skipping upgrade: pytz>=2011k in /usr/local/lib/python3.6/dist-packages (from pandas>=0.15.2->seaborn) (2018.9)\n",
            "Requirement already satisfied, skipping upgrade: setuptools in /usr/local/lib/python3.6/dist-packages (from kiwisolver>=1.0.1->matplotlib>=1.4.3->seaborn) (40.8.0)\n",
            "Requirement already satisfied, skipping upgrade: six in /usr/local/lib/python3.6/dist-packages (from cycler>=0.10->matplotlib>=1.4.3->seaborn) (1.11.0)\n"
          ],
          "name": "stdout"
        }
      ]
    },
    {
      "metadata": {
        "colab_type": "text",
        "id": "tE_BXOAjaWB_"
      },
      "cell_type": "markdown",
      "source": [
        "## Hadley Wickham's Examples\n",
        "\n",
        "From his paper, [Tidy Data](http://vita.had.co.nz/papers/tidy-data.html)"
      ]
    },
    {
      "metadata": {
        "colab_type": "code",
        "id": "PL6hzS3yYsNt",
        "colab": {}
      },
      "cell_type": "code",
      "source": [
        "%matplotlib inline\n",
        "import pandas as pd\n",
        "import numpy as np\n",
        "import seaborn as sns\n",
        "\n",
        "table1 = pd.DataFrame(\n",
        "    [[np.nan, 2],\n",
        "     [16,    11], \n",
        "     [3,      1]],\n",
        "    index=['John Smith', 'Jane Doe', 'Mary Johnson'], \n",
        "    columns=['treatmenta', 'treatmentb'])\n",
        "\n",
        "table2 = table1.T"
      ],
      "execution_count": 0,
      "outputs": []
    },
    {
      "metadata": {
        "colab_type": "text",
        "id": "YvfghLi3bu6S"
      },
      "cell_type": "markdown",
      "source": [
        "\"Table 1 provides some data about an imaginary experiment in a format commonly seen in the wild. \n",
        "\n",
        "The table has two columns and three rows, and both rows and columns are labelled.\""
      ]
    },
    {
      "metadata": {
        "colab_type": "code",
        "id": "5ZidjYdNikwF",
        "outputId": "8d2d8367-c896-4d7d-d8e2-d56751279721",
        "colab": {
          "base_uri": "https://localhost:8080/",
          "height": 142
        }
      },
      "cell_type": "code",
      "source": [
        "table1"
      ],
      "execution_count": 2,
      "outputs": [
        {
          "output_type": "execute_result",
          "data": {
            "text/html": [
              "<div>\n",
              "<style scoped>\n",
              "    .dataframe tbody tr th:only-of-type {\n",
              "        vertical-align: middle;\n",
              "    }\n",
              "\n",
              "    .dataframe tbody tr th {\n",
              "        vertical-align: top;\n",
              "    }\n",
              "\n",
              "    .dataframe thead th {\n",
              "        text-align: right;\n",
              "    }\n",
              "</style>\n",
              "<table border=\"1\" class=\"dataframe\">\n",
              "  <thead>\n",
              "    <tr style=\"text-align: right;\">\n",
              "      <th></th>\n",
              "      <th>treatmenta</th>\n",
              "      <th>treatmentb</th>\n",
              "    </tr>\n",
              "  </thead>\n",
              "  <tbody>\n",
              "    <tr>\n",
              "      <th>John Smith</th>\n",
              "      <td>NaN</td>\n",
              "      <td>2</td>\n",
              "    </tr>\n",
              "    <tr>\n",
              "      <th>Jane Doe</th>\n",
              "      <td>16.0</td>\n",
              "      <td>11</td>\n",
              "    </tr>\n",
              "    <tr>\n",
              "      <th>Mary Johnson</th>\n",
              "      <td>3.0</td>\n",
              "      <td>1</td>\n",
              "    </tr>\n",
              "  </tbody>\n",
              "</table>\n",
              "</div>"
            ],
            "text/plain": [
              "              treatmenta  treatmentb\n",
              "John Smith           NaN           2\n",
              "Jane Doe            16.0          11\n",
              "Mary Johnson         3.0           1"
            ]
          },
          "metadata": {
            "tags": []
          },
          "execution_count": 2
        }
      ]
    },
    {
      "metadata": {
        "colab_type": "text",
        "id": "wIfPYP4rcDbO"
      },
      "cell_type": "markdown",
      "source": [
        "\"There are many ways to structure the same underlying data. \n",
        "\n",
        "Table 2 shows the same data as Table 1, but the rows and columns have been transposed. The data is the same, but the layout is different.\""
      ]
    },
    {
      "metadata": {
        "colab_type": "code",
        "id": "mYBLbVTVKR2h",
        "outputId": "6dc1ae37-f70b-470f-ac1f-44f79e011687",
        "colab": {
          "base_uri": "https://localhost:8080/",
          "height": 111
        }
      },
      "cell_type": "code",
      "source": [
        "table2"
      ],
      "execution_count": 3,
      "outputs": [
        {
          "output_type": "execute_result",
          "data": {
            "text/html": [
              "<div>\n",
              "<style scoped>\n",
              "    .dataframe tbody tr th:only-of-type {\n",
              "        vertical-align: middle;\n",
              "    }\n",
              "\n",
              "    .dataframe tbody tr th {\n",
              "        vertical-align: top;\n",
              "    }\n",
              "\n",
              "    .dataframe thead th {\n",
              "        text-align: right;\n",
              "    }\n",
              "</style>\n",
              "<table border=\"1\" class=\"dataframe\">\n",
              "  <thead>\n",
              "    <tr style=\"text-align: right;\">\n",
              "      <th></th>\n",
              "      <th>John Smith</th>\n",
              "      <th>Jane Doe</th>\n",
              "      <th>Mary Johnson</th>\n",
              "    </tr>\n",
              "  </thead>\n",
              "  <tbody>\n",
              "    <tr>\n",
              "      <th>treatmenta</th>\n",
              "      <td>NaN</td>\n",
              "      <td>16.0</td>\n",
              "      <td>3.0</td>\n",
              "    </tr>\n",
              "    <tr>\n",
              "      <th>treatmentb</th>\n",
              "      <td>2.0</td>\n",
              "      <td>11.0</td>\n",
              "      <td>1.0</td>\n",
              "    </tr>\n",
              "  </tbody>\n",
              "</table>\n",
              "</div>"
            ],
            "text/plain": [
              "            John Smith  Jane Doe  Mary Johnson\n",
              "treatmenta         NaN      16.0           3.0\n",
              "treatmentb         2.0      11.0           1.0"
            ]
          },
          "metadata": {
            "tags": []
          },
          "execution_count": 3
        }
      ]
    },
    {
      "metadata": {
        "colab_type": "text",
        "id": "RaZuIwqNcRpr"
      },
      "cell_type": "markdown",
      "source": [
        "\"Table 3 reorganises Table 1 to make the values, variables and obserations more clear.\n",
        "\n",
        "Table 3 is the tidy version of Table 1. Each row represents an observation, the result of one treatment on one person, and each column is a variable.\"\n",
        "\n",
        "| name         | trt | result |\n",
        "|--------------|-----|--------|\n",
        "| John Smith   | a   | -      |\n",
        "| Jane Doe     | a   | 16     |\n",
        "| Mary Johnson | a   | 3      |\n",
        "| John Smith   | b   | 2      |\n",
        "| Jane Doe     | b   | 11     |\n",
        "| Mary Johnson | b   | 1      |"
      ]
    },
    {
      "metadata": {
        "colab_type": "text",
        "id": "8P88YyUvaxAV"
      },
      "cell_type": "markdown",
      "source": [
        "## Table 1 --> Tidy\n",
        "\n",
        "We can use the pandas `melt` function to reshape Table 1 into Tidy format."
      ]
    },
    {
      "metadata": {
        "colab_type": "code",
        "id": "vOUzvON0t8El",
        "outputId": "ef258625-c6a9-4e48-ca87-edd20964718a",
        "colab": {
          "base_uri": "https://localhost:8080/",
          "height": 34
        }
      },
      "cell_type": "code",
      "source": [
        "table1.columns"
      ],
      "execution_count": 4,
      "outputs": [
        {
          "output_type": "execute_result",
          "data": {
            "text/plain": [
              "Index(['treatmenta', 'treatmentb'], dtype='object')"
            ]
          },
          "metadata": {
            "tags": []
          },
          "execution_count": 4
        }
      ]
    },
    {
      "metadata": {
        "id": "RWNVKLak9chm",
        "colab_type": "code",
        "outputId": "5bc77016-f2a0-4daa-8a06-394090d93e88",
        "colab": {
          "base_uri": "https://localhost:8080/",
          "height": 34
        }
      },
      "cell_type": "code",
      "source": [
        "table1.index.tolist()"
      ],
      "execution_count": 5,
      "outputs": [
        {
          "output_type": "execute_result",
          "data": {
            "text/plain": [
              "['John Smith', 'Jane Doe', 'Mary Johnson']"
            ]
          },
          "metadata": {
            "tags": []
          },
          "execution_count": 5
        }
      ]
    },
    {
      "metadata": {
        "id": "dJTQWWGd9x2G",
        "colab_type": "code",
        "outputId": "08f0d471-170f-4152-a7fb-d657c904b8a0",
        "colab": {
          "base_uri": "https://localhost:8080/",
          "height": 235
        }
      },
      "cell_type": "code",
      "source": [
        "tidy = table1.reset_index().melt(id_vars='index')  \n",
        "\n",
        "tidy = tidy.rename(columns={\n",
        "    'index':'name',\n",
        "    'variable':'trt',\n",
        "    'value': 'result'\n",
        "})\n",
        "\n",
        "tidy['trt'] = tidy['trt'].str.replace('treatment', '')\n",
        "\n",
        "tidy"
      ],
      "execution_count": 6,
      "outputs": [
        {
          "output_type": "execute_result",
          "data": {
            "text/html": [
              "<div>\n",
              "<style scoped>\n",
              "    .dataframe tbody tr th:only-of-type {\n",
              "        vertical-align: middle;\n",
              "    }\n",
              "\n",
              "    .dataframe tbody tr th {\n",
              "        vertical-align: top;\n",
              "    }\n",
              "\n",
              "    .dataframe thead th {\n",
              "        text-align: right;\n",
              "    }\n",
              "</style>\n",
              "<table border=\"1\" class=\"dataframe\">\n",
              "  <thead>\n",
              "    <tr style=\"text-align: right;\">\n",
              "      <th></th>\n",
              "      <th>name</th>\n",
              "      <th>trt</th>\n",
              "      <th>result</th>\n",
              "    </tr>\n",
              "  </thead>\n",
              "  <tbody>\n",
              "    <tr>\n",
              "      <th>0</th>\n",
              "      <td>John Smith</td>\n",
              "      <td>a</td>\n",
              "      <td>NaN</td>\n",
              "    </tr>\n",
              "    <tr>\n",
              "      <th>1</th>\n",
              "      <td>Jane Doe</td>\n",
              "      <td>a</td>\n",
              "      <td>16.0</td>\n",
              "    </tr>\n",
              "    <tr>\n",
              "      <th>2</th>\n",
              "      <td>Mary Johnson</td>\n",
              "      <td>a</td>\n",
              "      <td>3.0</td>\n",
              "    </tr>\n",
              "    <tr>\n",
              "      <th>3</th>\n",
              "      <td>John Smith</td>\n",
              "      <td>b</td>\n",
              "      <td>2.0</td>\n",
              "    </tr>\n",
              "    <tr>\n",
              "      <th>4</th>\n",
              "      <td>Jane Doe</td>\n",
              "      <td>b</td>\n",
              "      <td>11.0</td>\n",
              "    </tr>\n",
              "    <tr>\n",
              "      <th>5</th>\n",
              "      <td>Mary Johnson</td>\n",
              "      <td>b</td>\n",
              "      <td>1.0</td>\n",
              "    </tr>\n",
              "  </tbody>\n",
              "</table>\n",
              "</div>"
            ],
            "text/plain": [
              "           name trt  result\n",
              "0    John Smith   a     NaN\n",
              "1      Jane Doe   a    16.0\n",
              "2  Mary Johnson   a     3.0\n",
              "3    John Smith   b     2.0\n",
              "4      Jane Doe   b    11.0\n",
              "5  Mary Johnson   b     1.0"
            ]
          },
          "metadata": {
            "tags": []
          },
          "execution_count": 6
        }
      ]
    },
    {
      "metadata": {
        "id": "lb-KqUXqCu-3",
        "colab_type": "code",
        "outputId": "4d4fcf58-6fc1-4965-a346-d76a03fb6f95",
        "colab": {
          "base_uri": "https://localhost:8080/",
          "height": 136
        }
      },
      "cell_type": "code",
      "source": [
        "tidy['trt'].replace(['a','b'],[0,1])"
      ],
      "execution_count": 7,
      "outputs": [
        {
          "output_type": "execute_result",
          "data": {
            "text/plain": [
              "0    0\n",
              "1    0\n",
              "2    0\n",
              "3    1\n",
              "4    1\n",
              "5    1\n",
              "Name: trt, dtype: int64"
            ]
          },
          "metadata": {
            "tags": []
          },
          "execution_count": 7
        }
      ]
    },
    {
      "metadata": {
        "id": "l96bDAJOC7Fa",
        "colab_type": "code",
        "outputId": "f25ae2ed-a9f7-475e-bb79-ae0b5891190d",
        "colab": {
          "base_uri": "https://localhost:8080/",
          "height": 136
        }
      },
      "cell_type": "code",
      "source": [
        "(tidy['trt'] == 'b').astype(int)"
      ],
      "execution_count": 8,
      "outputs": [
        {
          "output_type": "execute_result",
          "data": {
            "text/plain": [
              "0    0\n",
              "1    0\n",
              "2    0\n",
              "3    1\n",
              "4    1\n",
              "5    1\n",
              "Name: trt, dtype: int64"
            ]
          },
          "metadata": {
            "tags": []
          },
          "execution_count": 8
        }
      ]
    },
    {
      "metadata": {
        "id": "VZuoxwe1EUJE",
        "colab_type": "code",
        "outputId": "947b0c09-3c78-4907-ccf1-bbd5dd82857e",
        "colab": {
          "base_uri": "https://localhost:8080/",
          "height": 136
        }
      },
      "cell_type": "code",
      "source": [
        "tidy['trt'].apply(lambda x: ord(x) - ord('a'))"
      ],
      "execution_count": 9,
      "outputs": [
        {
          "output_type": "execute_result",
          "data": {
            "text/plain": [
              "0    0\n",
              "1    0\n",
              "2    0\n",
              "3    1\n",
              "4    1\n",
              "5    1\n",
              "Name: trt, dtype: int64"
            ]
          },
          "metadata": {
            "tags": []
          },
          "execution_count": 9
        }
      ]
    },
    {
      "metadata": {
        "colab_type": "text",
        "id": "uYb2vG44az2m"
      },
      "cell_type": "markdown",
      "source": [
        "## Table 2 --> Tidy"
      ]
    },
    {
      "metadata": {
        "colab_type": "code",
        "id": "yP_oYbGsazdU",
        "outputId": "d3c73a4a-cd8d-433a-b18d-2fdab0c4dcac",
        "colab": {
          "base_uri": "https://localhost:8080/",
          "height": 111
        }
      },
      "cell_type": "code",
      "source": [
        "# Original Form\n",
        "table2"
      ],
      "execution_count": 10,
      "outputs": [
        {
          "output_type": "execute_result",
          "data": {
            "text/html": [
              "<div>\n",
              "<style scoped>\n",
              "    .dataframe tbody tr th:only-of-type {\n",
              "        vertical-align: middle;\n",
              "    }\n",
              "\n",
              "    .dataframe tbody tr th {\n",
              "        vertical-align: top;\n",
              "    }\n",
              "\n",
              "    .dataframe thead th {\n",
              "        text-align: right;\n",
              "    }\n",
              "</style>\n",
              "<table border=\"1\" class=\"dataframe\">\n",
              "  <thead>\n",
              "    <tr style=\"text-align: right;\">\n",
              "      <th></th>\n",
              "      <th>John Smith</th>\n",
              "      <th>Jane Doe</th>\n",
              "      <th>Mary Johnson</th>\n",
              "    </tr>\n",
              "  </thead>\n",
              "  <tbody>\n",
              "    <tr>\n",
              "      <th>treatmenta</th>\n",
              "      <td>NaN</td>\n",
              "      <td>16.0</td>\n",
              "      <td>3.0</td>\n",
              "    </tr>\n",
              "    <tr>\n",
              "      <th>treatmentb</th>\n",
              "      <td>2.0</td>\n",
              "      <td>11.0</td>\n",
              "      <td>1.0</td>\n",
              "    </tr>\n",
              "  </tbody>\n",
              "</table>\n",
              "</div>"
            ],
            "text/plain": [
              "            John Smith  Jane Doe  Mary Johnson\n",
              "treatmenta         NaN      16.0           3.0\n",
              "treatmentb         2.0      11.0           1.0"
            ]
          },
          "metadata": {
            "tags": []
          },
          "execution_count": 10
        }
      ]
    },
    {
      "metadata": {
        "id": "PSOnd34TfBn2",
        "colab_type": "code",
        "outputId": "05a4b4c6-57c1-4b89-95e2-bb79dc559206",
        "colab": {
          "base_uri": "https://localhost:8080/",
          "height": 235
        }
      },
      "cell_type": "code",
      "source": [
        "# Tidy Form\n",
        "tidy2 = table2.reset_index().melt(id_vars='index')\n",
        "\n",
        "tidy2 = tidy2.rename(columns={\n",
        "    'index':'trt',\n",
        "    'variable':'name',\n",
        "    'value': 'result'\n",
        "})\n",
        "\n",
        "tidy2['trt'] = tidy2['trt'].str.replace('treatment', '')\n",
        "\n",
        "tidy2"
      ],
      "execution_count": 11,
      "outputs": [
        {
          "output_type": "execute_result",
          "data": {
            "text/html": [
              "<div>\n",
              "<style scoped>\n",
              "    .dataframe tbody tr th:only-of-type {\n",
              "        vertical-align: middle;\n",
              "    }\n",
              "\n",
              "    .dataframe tbody tr th {\n",
              "        vertical-align: top;\n",
              "    }\n",
              "\n",
              "    .dataframe thead th {\n",
              "        text-align: right;\n",
              "    }\n",
              "</style>\n",
              "<table border=\"1\" class=\"dataframe\">\n",
              "  <thead>\n",
              "    <tr style=\"text-align: right;\">\n",
              "      <th></th>\n",
              "      <th>trt</th>\n",
              "      <th>name</th>\n",
              "      <th>result</th>\n",
              "    </tr>\n",
              "  </thead>\n",
              "  <tbody>\n",
              "    <tr>\n",
              "      <th>0</th>\n",
              "      <td>a</td>\n",
              "      <td>John Smith</td>\n",
              "      <td>NaN</td>\n",
              "    </tr>\n",
              "    <tr>\n",
              "      <th>1</th>\n",
              "      <td>b</td>\n",
              "      <td>John Smith</td>\n",
              "      <td>2.0</td>\n",
              "    </tr>\n",
              "    <tr>\n",
              "      <th>2</th>\n",
              "      <td>a</td>\n",
              "      <td>Jane Doe</td>\n",
              "      <td>16.0</td>\n",
              "    </tr>\n",
              "    <tr>\n",
              "      <th>3</th>\n",
              "      <td>b</td>\n",
              "      <td>Jane Doe</td>\n",
              "      <td>11.0</td>\n",
              "    </tr>\n",
              "    <tr>\n",
              "      <th>4</th>\n",
              "      <td>a</td>\n",
              "      <td>Mary Johnson</td>\n",
              "      <td>3.0</td>\n",
              "    </tr>\n",
              "    <tr>\n",
              "      <th>5</th>\n",
              "      <td>b</td>\n",
              "      <td>Mary Johnson</td>\n",
              "      <td>1.0</td>\n",
              "    </tr>\n",
              "  </tbody>\n",
              "</table>\n",
              "</div>"
            ],
            "text/plain": [
              "  trt          name  result\n",
              "0   a    John Smith     NaN\n",
              "1   b    John Smith     2.0\n",
              "2   a      Jane Doe    16.0\n",
              "3   b      Jane Doe    11.0\n",
              "4   a  Mary Johnson     3.0\n",
              "5   b  Mary Johnson     1.0"
            ]
          },
          "metadata": {
            "tags": []
          },
          "execution_count": 11
        }
      ]
    },
    {
      "metadata": {
        "colab_type": "text",
        "id": "kRwnCeDYa27n"
      },
      "cell_type": "markdown",
      "source": [
        "## Tidy --> Table 1\n",
        "\n",
        "The `pivot_table` function is the inverse of `melt`."
      ]
    },
    {
      "metadata": {
        "colab_type": "code",
        "id": "BxcwXHS9H7RB",
        "outputId": "00bd0922-7f86-44c5-cdfb-b1bf2d2adf43",
        "colab": {
          "base_uri": "https://localhost:8080/",
          "height": 173
        }
      },
      "cell_type": "code",
      "source": [
        "tidy.pivot_table(index='name', columns = 'trt', values = 'result')"
      ],
      "execution_count": 12,
      "outputs": [
        {
          "output_type": "execute_result",
          "data": {
            "text/html": [
              "<div>\n",
              "<style scoped>\n",
              "    .dataframe tbody tr th:only-of-type {\n",
              "        vertical-align: middle;\n",
              "    }\n",
              "\n",
              "    .dataframe tbody tr th {\n",
              "        vertical-align: top;\n",
              "    }\n",
              "\n",
              "    .dataframe thead th {\n",
              "        text-align: right;\n",
              "    }\n",
              "</style>\n",
              "<table border=\"1\" class=\"dataframe\">\n",
              "  <thead>\n",
              "    <tr style=\"text-align: right;\">\n",
              "      <th>trt</th>\n",
              "      <th>a</th>\n",
              "      <th>b</th>\n",
              "    </tr>\n",
              "    <tr>\n",
              "      <th>name</th>\n",
              "      <th></th>\n",
              "      <th></th>\n",
              "    </tr>\n",
              "  </thead>\n",
              "  <tbody>\n",
              "    <tr>\n",
              "      <th>Jane Doe</th>\n",
              "      <td>16.0</td>\n",
              "      <td>11.0</td>\n",
              "    </tr>\n",
              "    <tr>\n",
              "      <th>John Smith</th>\n",
              "      <td>NaN</td>\n",
              "      <td>2.0</td>\n",
              "    </tr>\n",
              "    <tr>\n",
              "      <th>Mary Johnson</th>\n",
              "      <td>3.0</td>\n",
              "      <td>1.0</td>\n",
              "    </tr>\n",
              "  </tbody>\n",
              "</table>\n",
              "</div>"
            ],
            "text/plain": [
              "trt              a     b\n",
              "name                    \n",
              "Jane Doe      16.0  11.0\n",
              "John Smith     NaN   2.0\n",
              "Mary Johnson   3.0   1.0"
            ]
          },
          "metadata": {
            "tags": []
          },
          "execution_count": 12
        }
      ]
    },
    {
      "metadata": {
        "colab_type": "text",
        "id": "nR4dlpFQa5Pw"
      },
      "cell_type": "markdown",
      "source": [
        "## Tidy --> Table 2"
      ]
    },
    {
      "metadata": {
        "colab_type": "code",
        "id": "flcwLnVdJ-TD",
        "outputId": "17739017-d1cc-46e1-ce3f-cc303e4eb565",
        "colab": {
          "base_uri": "https://localhost:8080/",
          "height": 142
        }
      },
      "cell_type": "code",
      "source": [
        "# Use pivot_table to revert tidied table to original form\n",
        "tidy2.pivot_table(index='trt',columns='name',values='result')"
      ],
      "execution_count": 13,
      "outputs": [
        {
          "output_type": "execute_result",
          "data": {
            "text/html": [
              "<div>\n",
              "<style scoped>\n",
              "    .dataframe tbody tr th:only-of-type {\n",
              "        vertical-align: middle;\n",
              "    }\n",
              "\n",
              "    .dataframe tbody tr th {\n",
              "        vertical-align: top;\n",
              "    }\n",
              "\n",
              "    .dataframe thead th {\n",
              "        text-align: right;\n",
              "    }\n",
              "</style>\n",
              "<table border=\"1\" class=\"dataframe\">\n",
              "  <thead>\n",
              "    <tr style=\"text-align: right;\">\n",
              "      <th>name</th>\n",
              "      <th>Jane Doe</th>\n",
              "      <th>John Smith</th>\n",
              "      <th>Mary Johnson</th>\n",
              "    </tr>\n",
              "    <tr>\n",
              "      <th>trt</th>\n",
              "      <th></th>\n",
              "      <th></th>\n",
              "      <th></th>\n",
              "    </tr>\n",
              "  </thead>\n",
              "  <tbody>\n",
              "    <tr>\n",
              "      <th>a</th>\n",
              "      <td>16.0</td>\n",
              "      <td>NaN</td>\n",
              "      <td>3.0</td>\n",
              "    </tr>\n",
              "    <tr>\n",
              "      <th>b</th>\n",
              "      <td>11.0</td>\n",
              "      <td>2.0</td>\n",
              "      <td>1.0</td>\n",
              "    </tr>\n",
              "  </tbody>\n",
              "</table>\n",
              "</div>"
            ],
            "text/plain": [
              "name  Jane Doe  John Smith  Mary Johnson\n",
              "trt                                     \n",
              "a         16.0         NaN           3.0\n",
              "b         11.0         2.0           1.0"
            ]
          },
          "metadata": {
            "tags": []
          },
          "execution_count": 13
        }
      ]
    },
    {
      "metadata": {
        "id": "WrraJGWXJRzT",
        "colab_type": "text"
      },
      "cell_type": "markdown",
      "source": [
        "# Seaborn Example"
      ]
    },
    {
      "metadata": {
        "id": "cXjPsOzcJTVz",
        "colab_type": "code",
        "outputId": "00011695-e797-4589-930d-56dc8122ca1a",
        "colab": {
          "base_uri": "https://localhost:8080/",
          "height": 235
        }
      },
      "cell_type": "code",
      "source": [
        "tidy"
      ],
      "execution_count": 14,
      "outputs": [
        {
          "output_type": "execute_result",
          "data": {
            "text/html": [
              "<div>\n",
              "<style scoped>\n",
              "    .dataframe tbody tr th:only-of-type {\n",
              "        vertical-align: middle;\n",
              "    }\n",
              "\n",
              "    .dataframe tbody tr th {\n",
              "        vertical-align: top;\n",
              "    }\n",
              "\n",
              "    .dataframe thead th {\n",
              "        text-align: right;\n",
              "    }\n",
              "</style>\n",
              "<table border=\"1\" class=\"dataframe\">\n",
              "  <thead>\n",
              "    <tr style=\"text-align: right;\">\n",
              "      <th></th>\n",
              "      <th>name</th>\n",
              "      <th>trt</th>\n",
              "      <th>result</th>\n",
              "    </tr>\n",
              "  </thead>\n",
              "  <tbody>\n",
              "    <tr>\n",
              "      <th>0</th>\n",
              "      <td>John Smith</td>\n",
              "      <td>a</td>\n",
              "      <td>NaN</td>\n",
              "    </tr>\n",
              "    <tr>\n",
              "      <th>1</th>\n",
              "      <td>Jane Doe</td>\n",
              "      <td>a</td>\n",
              "      <td>16.0</td>\n",
              "    </tr>\n",
              "    <tr>\n",
              "      <th>2</th>\n",
              "      <td>Mary Johnson</td>\n",
              "      <td>a</td>\n",
              "      <td>3.0</td>\n",
              "    </tr>\n",
              "    <tr>\n",
              "      <th>3</th>\n",
              "      <td>John Smith</td>\n",
              "      <td>b</td>\n",
              "      <td>2.0</td>\n",
              "    </tr>\n",
              "    <tr>\n",
              "      <th>4</th>\n",
              "      <td>Jane Doe</td>\n",
              "      <td>b</td>\n",
              "      <td>11.0</td>\n",
              "    </tr>\n",
              "    <tr>\n",
              "      <th>5</th>\n",
              "      <td>Mary Johnson</td>\n",
              "      <td>b</td>\n",
              "      <td>1.0</td>\n",
              "    </tr>\n",
              "  </tbody>\n",
              "</table>\n",
              "</div>"
            ],
            "text/plain": [
              "           name trt  result\n",
              "0    John Smith   a     NaN\n",
              "1      Jane Doe   a    16.0\n",
              "2  Mary Johnson   a     3.0\n",
              "3    John Smith   b     2.0\n",
              "4      Jane Doe   b    11.0\n",
              "5  Mary Johnson   b     1.0"
            ]
          },
          "metadata": {
            "tags": []
          },
          "execution_count": 14
        }
      ]
    },
    {
      "metadata": {
        "id": "Xx0J3hiVJXpA",
        "colab_type": "code",
        "outputId": "37f63587-53cc-4b70-ba2c-bd3d37283654",
        "colab": {
          "base_uri": "https://localhost:8080/",
          "height": 369
        }
      },
      "cell_type": "code",
      "source": [
        "sns.catplot(x='trt', y='result', col='name',\n",
        "           kind='bar', data=tidy, height=5);"
      ],
      "execution_count": 15,
      "outputs": [
        {
          "output_type": "display_data",
          "data": {
            "image/png": "[encoded data removed]",
            "text/plain": [
              "<Figure size 1080x360 with 3 Axes>"
            ]
          },
          "metadata": {
            "tags": []
          }
        }
      ]
    },
    {
      "metadata": {
        "id": "527u0G-8JXrX",
        "colab_type": "code",
        "colab": {}
      },
      "cell_type": "code",
      "source": [
        "\n"
      ],
      "execution_count": 0,
      "outputs": []
    },
    {
      "metadata": {
        "colab_type": "text",
        "id": "7OwdtbQqgG4j"
      },
      "cell_type": "markdown",
      "source": [
        "## Load Instacart data\n",
        "\n",
        "Let's return to the dataset of [3 Million Instacart Orders](https://tech.instacart.com/3-million-instacart-orders-open-sourced-d40d29ead6f2)"
      ]
    },
    {
      "metadata": {
        "colab_type": "text",
        "id": "RdXhRmSbgbBc"
      },
      "cell_type": "markdown",
      "source": [
        "If necessary, uncomment and run the cells below to re-download and extract the data"
      ]
    },
    {
      "metadata": {
        "colab_type": "code",
        "id": "SoX-00UugVZD",
        "outputId": "9568466e-67d1-48a7-b140-ce491e11de13",
        "colab": {
          "base_uri": "https://localhost:8080/",
          "height": 204
        }
      },
      "cell_type": "code",
      "source": [
        " !wget https://s3.amazonaws.com/instacart-datasets/instacart_online_grocery_shopping_2017_05_01.tar.gz"
      ],
      "execution_count": 2,
      "outputs": [
        {
          "output_type": "stream",
          "text": [
            "--2019-03-27 22:40:48--  https://s3.amazonaws.com/instacart-datasets/instacart_online_grocery_shopping_2017_05_01.tar.gz\n",
            "Resolving s3.amazonaws.com (s3.amazonaws.com)... 52.216.108.101\n",
            "Connecting to s3.amazonaws.com (s3.amazonaws.com)|52.216.108.101|:443... connected.\n",
            "HTTP request sent, awaiting response... 200 OK\n",
            "Length: 205548478 (196M) [application/x-gzip]\n",
            "Saving to: ‘instacart_online_grocery_shopping_2017_05_01.tar.gz.5’\n",
            "\n",
            "instacart_online_gr 100%[===================>] 196.03M  98.7MB/s    in 2.0s    \n",
            "\n",
            "2019-03-27 22:40:50 (98.7 MB/s) - ‘instacart_online_grocery_shopping_2017_05_01.tar.gz.5’ saved [205548478/205548478]\n",
            "\n"
          ],
          "name": "stdout"
        }
      ]
    },
    {
      "metadata": {
        "colab_type": "code",
        "id": "tDGkv5vngXTw",
        "outputId": "3b71a10a-2339-4331-a97c-dccfa456c2d3",
        "colab": {
          "base_uri": "https://localhost:8080/",
          "height": 238
        }
      },
      "cell_type": "code",
      "source": [
        " !tar --gunzip --extract --verbose --file=instacart_online_grocery_shopping_2017_05_01.tar.gz"
      ],
      "execution_count": 3,
      "outputs": [
        {
          "output_type": "stream",
          "text": [
            "instacart_2017_05_01/\n",
            "instacart_2017_05_01/._aisles.csv\n",
            "instacart_2017_05_01/aisles.csv\n",
            "instacart_2017_05_01/._departments.csv\n",
            "instacart_2017_05_01/departments.csv\n",
            "instacart_2017_05_01/._order_products__prior.csv\n",
            "instacart_2017_05_01/order_products__prior.csv\n",
            "instacart_2017_05_01/._order_products__train.csv\n",
            "instacart_2017_05_01/order_products__train.csv\n",
            "instacart_2017_05_01/._orders.csv\n",
            "instacart_2017_05_01/orders.csv\n",
            "instacart_2017_05_01/._products.csv\n",
            "instacart_2017_05_01/products.csv\n"
          ],
          "name": "stdout"
        }
      ]
    },
    {
      "metadata": {
        "colab_type": "text",
        "id": "covQKAHggl80"
      },
      "cell_type": "markdown",
      "source": [
        "Run these cells to load the data"
      ]
    },
    {
      "metadata": {
        "colab_type": "code",
        "id": "dsbev9Gi0JYo",
        "outputId": "f2aec3d6-030a-4116-ecde-4581ede4c3a5",
        "colab": {
          "base_uri": "https://localhost:8080/",
          "height": 34
        }
      },
      "cell_type": "code",
      "source": [
        "%cd instacart_2017_05_01"
      ],
      "execution_count": 4,
      "outputs": [
        {
          "output_type": "stream",
          "text": [
            "/content/instacart_2017_05_01\n"
          ],
          "name": "stdout"
        }
      ]
    },
    {
      "metadata": {
        "colab_type": "code",
        "id": "1AHEpFPcMTn1",
        "colab": {}
      },
      "cell_type": "code",
      "source": [
        "products = pd.read_csv('products.csv')\n",
        "\n",
        "order_products = pd.concat([pd.read_csv('order_products__prior.csv'), \n",
        "                            pd.read_csv('order_products__train.csv')])\n",
        "\n",
        "orders = pd.read_csv('orders.csv')\n",
        "\n",
        "department = pd.read_csv('departments.csv')"
      ],
      "execution_count": 0,
      "outputs": []
    },
    {
      "metadata": {
        "colab_type": "text",
        "id": "bmgW_DxohBV5"
      },
      "cell_type": "markdown",
      "source": [
        "## Goal: Reproduce part of this example\n",
        "\n",
        "Instead of a plot with 50 products, we'll just do two — the first products from each list\n",
        "- Half And Half Ultra Pasteurized\n",
        "- Half Baked Frozen Yogurt"
      ]
    },
    {
      "metadata": {
        "colab_type": "code",
        "id": "p4CdH8hkg5RJ",
        "outputId": "b3e5c3e4-e5f0-41d8-9e8d-301528355d61",
        "colab": {
          "base_uri": "https://localhost:8080/",
          "height": 383
        }
      },
      "cell_type": "code",
      "source": [
        "from IPython.display import display, Image\n",
        "url = 'https://cdn-images-1.medium.com/max/1600/1*wKfV6OV-_1Ipwrl7AjjSuw.png'\n",
        "example = Image(url=url, width=600)\n",
        "\n",
        "display(example)"
      ],
      "execution_count": 6,
      "outputs": [
        {
          "output_type": "display_data",
          "data": {
            "text/html": [
              "<img src=\"https://cdn-images-1.medium.com/max/1600/1*wKfV6OV-_1Ipwrl7AjjSuw.png\" width=\"600\"/>"
            ],
            "text/plain": [
              "<IPython.core.display.Image object>"
            ]
          },
          "metadata": {
            "tags": []
          }
        }
      ]
    },
    {
      "metadata": {
        "colab_type": "text",
        "id": "VgXHJM-mhvuo"
      },
      "cell_type": "markdown",
      "source": [
        "So, given a `product_name` we need to calculate its `order_hour_of_day` pattern."
      ]
    },
    {
      "metadata": {
        "colab_type": "text",
        "id": "PZxgqPU7h8cj"
      },
      "cell_type": "markdown",
      "source": [
        "## Subset and Merge"
      ]
    },
    {
      "metadata": {
        "colab_type": "code",
        "id": "6IymsG0BRYQY",
        "colab": {}
      },
      "cell_type": "code",
      "source": [
        "product_names = ['Half Baked Frozen Yogurt', 'Half And Half Ultra Pasteurized']"
      ],
      "execution_count": 0,
      "outputs": []
    },
    {
      "metadata": {
        "colab_type": "code",
        "id": "LUoNA7_UTNkp",
        "outputId": "a14eebb1-636a-4389-ebb5-a3e21ac0818d",
        "colab": {
          "base_uri": "https://localhost:8080/",
          "height": 34
        }
      },
      "cell_type": "code",
      "source": [
        "products.columns.tolist()"
      ],
      "execution_count": 8,
      "outputs": [
        {
          "output_type": "execute_result",
          "data": {
            "text/plain": [
              "['product_id', 'product_name', 'aisle_id', 'department_id']"
            ]
          },
          "metadata": {
            "tags": []
          },
          "execution_count": 8
        }
      ]
    },
    {
      "metadata": {
        "id": "c49KOTYHLP5M",
        "colab_type": "code",
        "outputId": "3d266e3b-2b91-49aa-d1df-812e1a3efb1e",
        "colab": {
          "base_uri": "https://localhost:8080/",
          "height": 136
        }
      },
      "cell_type": "code",
      "source": [
        "orders.columns.tolist()"
      ],
      "execution_count": 9,
      "outputs": [
        {
          "output_type": "execute_result",
          "data": {
            "text/plain": [
              "['order_id',\n",
              " 'user_id',\n",
              " 'eval_set',\n",
              " 'order_number',\n",
              " 'order_dow',\n",
              " 'order_hour_of_day',\n",
              " 'days_since_prior_order']"
            ]
          },
          "metadata": {
            "tags": []
          },
          "execution_count": 9
        }
      ]
    },
    {
      "metadata": {
        "id": "3I8OfSTnLBL7",
        "colab_type": "code",
        "outputId": "8d5f6519-3bc2-439e-e93f-964816abb537",
        "colab": {
          "base_uri": "https://localhost:8080/",
          "height": 34
        }
      },
      "cell_type": "code",
      "source": [
        "order_products.columns.tolist()"
      ],
      "execution_count": 10,
      "outputs": [
        {
          "output_type": "execute_result",
          "data": {
            "text/plain": [
              "['order_id', 'product_id', 'add_to_cart_order', 'reordered']"
            ]
          },
          "metadata": {
            "tags": []
          },
          "execution_count": 10
        }
      ]
    },
    {
      "metadata": {
        "id": "RLz-DoyrLIEe",
        "colab_type": "code",
        "colab": {}
      },
      "cell_type": "code",
      "source": [
        "merged = (products[['product_id', 'product_name']]\n",
        "          .merge(order_products[['order_id','product_id']])\n",
        "          .merge(orders[['order_id','order_hour_of_day']]))"
      ],
      "execution_count": 0,
      "outputs": []
    },
    {
      "metadata": {
        "id": "qd1zRoQMLIGz",
        "colab_type": "code",
        "outputId": "c28e59f9-187c-4bd1-b3b0-873bf8ecc179",
        "colab": {
          "base_uri": "https://localhost:8080/",
          "height": 34
        }
      },
      "cell_type": "code",
      "source": [
        "products.shape, order_products.shape, orders.shape, merged.shape"
      ],
      "execution_count": 12,
      "outputs": [
        {
          "output_type": "execute_result",
          "data": {
            "text/plain": [
              "((49688, 4), (33819106, 4), (3421083, 7), (33819106, 4))"
            ]
          },
          "metadata": {
            "tags": []
          },
          "execution_count": 12
        }
      ]
    },
    {
      "metadata": {
        "id": "nJxQ5NHjLIJi",
        "colab_type": "code",
        "outputId": "9c1c853e-6840-4554-b384-9d8f556f115a",
        "colab": {
          "base_uri": "https://localhost:8080/",
          "height": 204
        }
      },
      "cell_type": "code",
      "source": [
        "merged.head()"
      ],
      "execution_count": 13,
      "outputs": [
        {
          "output_type": "execute_result",
          "data": {
            "text/html": [
              "<div>\n",
              "<style scoped>\n",
              "    .dataframe tbody tr th:only-of-type {\n",
              "        vertical-align: middle;\n",
              "    }\n",
              "\n",
              "    .dataframe tbody tr th {\n",
              "        vertical-align: top;\n",
              "    }\n",
              "\n",
              "    .dataframe thead th {\n",
              "        text-align: right;\n",
              "    }\n",
              "</style>\n",
              "<table border=\"1\" class=\"dataframe\">\n",
              "  <thead>\n",
              "    <tr style=\"text-align: right;\">\n",
              "      <th></th>\n",
              "      <th>product_id</th>\n",
              "      <th>product_name</th>\n",
              "      <th>order_id</th>\n",
              "      <th>order_hour_of_day</th>\n",
              "    </tr>\n",
              "  </thead>\n",
              "  <tbody>\n",
              "    <tr>\n",
              "      <th>0</th>\n",
              "      <td>1</td>\n",
              "      <td>Chocolate Sandwich Cookies</td>\n",
              "      <td>1107</td>\n",
              "      <td>11</td>\n",
              "    </tr>\n",
              "    <tr>\n",
              "      <th>1</th>\n",
              "      <td>769</td>\n",
              "      <td>Sliced American Cheese</td>\n",
              "      <td>1107</td>\n",
              "      <td>11</td>\n",
              "    </tr>\n",
              "    <tr>\n",
              "      <th>2</th>\n",
              "      <td>6184</td>\n",
              "      <td>Clementines</td>\n",
              "      <td>1107</td>\n",
              "      <td>11</td>\n",
              "    </tr>\n",
              "    <tr>\n",
              "      <th>3</th>\n",
              "      <td>8048</td>\n",
              "      <td>Packaged Grape Tomatoes</td>\n",
              "      <td>1107</td>\n",
              "      <td>11</td>\n",
              "    </tr>\n",
              "    <tr>\n",
              "      <th>4</th>\n",
              "      <td>9007</td>\n",
              "      <td>Frosted Flakes</td>\n",
              "      <td>1107</td>\n",
              "      <td>11</td>\n",
              "    </tr>\n",
              "  </tbody>\n",
              "</table>\n",
              "</div>"
            ],
            "text/plain": [
              "   product_id                product_name  order_id  order_hour_of_day\n",
              "0           1  Chocolate Sandwich Cookies      1107                 11\n",
              "1         769      Sliced American Cheese      1107                 11\n",
              "2        6184                 Clementines      1107                 11\n",
              "3        8048     Packaged Grape Tomatoes      1107                 11\n",
              "4        9007              Frosted Flakes      1107                 11"
            ]
          },
          "metadata": {
            "tags": []
          },
          "execution_count": 13
        }
      ]
    },
    {
      "metadata": {
        "id": "dTmyn50kNRv7",
        "colab_type": "code",
        "colab": {}
      },
      "cell_type": "code",
      "source": [
        "# What condition will filter 'merged' to just the 2 products that we care about\n",
        "\n",
        "condition = ((merged['product_name']=='Half Baked Frozen Yogurt') |\n",
        "             (merged['product_name']=='Half and Half Ultra Pasteurized'))\n",
        "\n",
        "# ... to this:\n",
        "\n",
        "product_names = ['Half Baked Frozen Yogurt', 'Half And Half Ultra Pasteurized']\n",
        "\n",
        "condition = merged['product_name'].isin(product_names)\n",
        "\n",
        "subset = merged[condition]"
      ],
      "execution_count": 0,
      "outputs": []
    },
    {
      "metadata": {
        "id": "HKtgAI_DOJbx",
        "colab_type": "code",
        "outputId": "38c20faa-d893-415f-ae95-8235a7140b7b",
        "colab": {
          "base_uri": "https://localhost:8080/",
          "height": 34
        }
      },
      "cell_type": "code",
      "source": [
        "merged.shape, subset.shape"
      ],
      "execution_count": 15,
      "outputs": [
        {
          "output_type": "execute_result",
          "data": {
            "text/plain": [
              "((33819106, 4), (5978, 4))"
            ]
          },
          "metadata": {
            "tags": []
          },
          "execution_count": 15
        }
      ]
    },
    {
      "metadata": {
        "id": "yHP3YUDgOTa5",
        "colab_type": "code",
        "outputId": "8e709795-42f9-4511-f712-871131ebfc31",
        "colab": {
          "base_uri": "https://localhost:8080/",
          "height": 204
        }
      },
      "cell_type": "code",
      "source": [
        "subset.sample(5)"
      ],
      "execution_count": 16,
      "outputs": [
        {
          "output_type": "execute_result",
          "data": {
            "text/html": [
              "<div>\n",
              "<style scoped>\n",
              "    .dataframe tbody tr th:only-of-type {\n",
              "        vertical-align: middle;\n",
              "    }\n",
              "\n",
              "    .dataframe tbody tr th {\n",
              "        vertical-align: top;\n",
              "    }\n",
              "\n",
              "    .dataframe thead th {\n",
              "        text-align: right;\n",
              "    }\n",
              "</style>\n",
              "<table border=\"1\" class=\"dataframe\">\n",
              "  <thead>\n",
              "    <tr style=\"text-align: right;\">\n",
              "      <th></th>\n",
              "      <th>product_id</th>\n",
              "      <th>product_name</th>\n",
              "      <th>order_id</th>\n",
              "      <th>order_hour_of_day</th>\n",
              "    </tr>\n",
              "  </thead>\n",
              "  <tbody>\n",
              "    <tr>\n",
              "      <th>14434711</th>\n",
              "      <td>30668</td>\n",
              "      <td>Half Baked Frozen Yogurt</td>\n",
              "      <td>2876545</td>\n",
              "      <td>14</td>\n",
              "    </tr>\n",
              "    <tr>\n",
              "      <th>5006824</th>\n",
              "      <td>9292</td>\n",
              "      <td>Half And Half Ultra Pasteurized</td>\n",
              "      <td>180130</td>\n",
              "      <td>8</td>\n",
              "    </tr>\n",
              "    <tr>\n",
              "      <th>29197925</th>\n",
              "      <td>9292</td>\n",
              "      <td>Half And Half Ultra Pasteurized</td>\n",
              "      <td>2072895</td>\n",
              "      <td>10</td>\n",
              "    </tr>\n",
              "    <tr>\n",
              "      <th>700959</th>\n",
              "      <td>9292</td>\n",
              "      <td>Half And Half Ultra Pasteurized</td>\n",
              "      <td>1814776</td>\n",
              "      <td>13</td>\n",
              "    </tr>\n",
              "    <tr>\n",
              "      <th>6239817</th>\n",
              "      <td>30668</td>\n",
              "      <td>Half Baked Frozen Yogurt</td>\n",
              "      <td>74481</td>\n",
              "      <td>16</td>\n",
              "    </tr>\n",
              "  </tbody>\n",
              "</table>\n",
              "</div>"
            ],
            "text/plain": [
              "          product_id                     product_name  order_id  \\\n",
              "14434711       30668         Half Baked Frozen Yogurt   2876545   \n",
              "5006824         9292  Half And Half Ultra Pasteurized    180130   \n",
              "29197925        9292  Half And Half Ultra Pasteurized   2072895   \n",
              "700959          9292  Half And Half Ultra Pasteurized   1814776   \n",
              "6239817        30668         Half Baked Frozen Yogurt     74481   \n",
              "\n",
              "          order_hour_of_day  \n",
              "14434711                 14  \n",
              "5006824                   8  \n",
              "29197925                 10  \n",
              "700959                   13  \n",
              "6239817                  16  "
            ]
          },
          "metadata": {
            "tags": []
          },
          "execution_count": 16
        }
      ]
    },
    {
      "metadata": {
        "colab_type": "text",
        "id": "lOw6aZ3oiPLf"
      },
      "cell_type": "markdown",
      "source": [
        "## 4 ways to reshape and plot"
      ]
    },
    {
      "metadata": {
        "colab_type": "text",
        "id": "5W-vHcWZiFKv"
      },
      "cell_type": "markdown",
      "source": [
        "### 1. value_counts"
      ]
    },
    {
      "metadata": {
        "colab_type": "code",
        "id": "QApT8TeRTsgh",
        "outputId": "27f0480d-a750-499a-c72d-4cf2e7a5a103",
        "colab": {
          "base_uri": "https://localhost:8080/",
          "height": 1969
        }
      },
      "cell_type": "code",
      "source": [
        "froyo = subset[subset['product_name']=='Half Baked Frozen Yogurt']\n",
        "cream = subset[subset['product_name']=='Half And Half Ultra Pasteurized']\n",
        "cream"
      ],
      "execution_count": 17,
      "outputs": [
        {
          "output_type": "execute_result",
          "data": {
            "text/html": [
              "<div>\n",
              "<style scoped>\n",
              "    .dataframe tbody tr th:only-of-type {\n",
              "        vertical-align: middle;\n",
              "    }\n",
              "\n",
              "    .dataframe tbody tr th {\n",
              "        vertical-align: top;\n",
              "    }\n",
              "\n",
              "    .dataframe thead th {\n",
              "        text-align: right;\n",
              "    }\n",
              "</style>\n",
              "<table border=\"1\" class=\"dataframe\">\n",
              "  <thead>\n",
              "    <tr style=\"text-align: right;\">\n",
              "      <th></th>\n",
              "      <th>product_id</th>\n",
              "      <th>product_name</th>\n",
              "      <th>order_id</th>\n",
              "      <th>order_hour_of_day</th>\n",
              "    </tr>\n",
              "  </thead>\n",
              "  <tbody>\n",
              "    <tr>\n",
              "      <th>45167</th>\n",
              "      <td>9292</td>\n",
              "      <td>Half And Half Ultra Pasteurized</td>\n",
              "      <td>802884</td>\n",
              "      <td>8</td>\n",
              "    </tr>\n",
              "    <tr>\n",
              "      <th>74055</th>\n",
              "      <td>9292</td>\n",
              "      <td>Half And Half Ultra Pasteurized</td>\n",
              "      <td>3230936</td>\n",
              "      <td>14</td>\n",
              "    </tr>\n",
              "    <tr>\n",
              "      <th>163486</th>\n",
              "      <td>9292</td>\n",
              "      <td>Half And Half Ultra Pasteurized</td>\n",
              "      <td>1599440</td>\n",
              "      <td>11</td>\n",
              "    </tr>\n",
              "    <tr>\n",
              "      <th>191375</th>\n",
              "      <td>9292</td>\n",
              "      <td>Half And Half Ultra Pasteurized</td>\n",
              "      <td>212295</td>\n",
              "      <td>8</td>\n",
              "    </tr>\n",
              "    <tr>\n",
              "      <th>200888</th>\n",
              "      <td>9292</td>\n",
              "      <td>Half And Half Ultra Pasteurized</td>\n",
              "      <td>507671</td>\n",
              "      <td>14</td>\n",
              "    </tr>\n",
              "    <tr>\n",
              "      <th>206291</th>\n",
              "      <td>9292</td>\n",
              "      <td>Half And Half Ultra Pasteurized</td>\n",
              "      <td>675670</td>\n",
              "      <td>19</td>\n",
              "    </tr>\n",
              "    <tr>\n",
              "      <th>208991</th>\n",
              "      <td>9292</td>\n",
              "      <td>Half And Half Ultra Pasteurized</td>\n",
              "      <td>770276</td>\n",
              "      <td>13</td>\n",
              "    </tr>\n",
              "    <tr>\n",
              "      <th>223939</th>\n",
              "      <td>9292</td>\n",
              "      <td>Half And Half Ultra Pasteurized</td>\n",
              "      <td>1251727</td>\n",
              "      <td>13</td>\n",
              "    </tr>\n",
              "    <tr>\n",
              "      <th>230893</th>\n",
              "      <td>9292</td>\n",
              "      <td>Half And Half Ultra Pasteurized</td>\n",
              "      <td>1475099</td>\n",
              "      <td>18</td>\n",
              "    </tr>\n",
              "    <tr>\n",
              "      <th>238012</th>\n",
              "      <td>9292</td>\n",
              "      <td>Half And Half Ultra Pasteurized</td>\n",
              "      <td>1686226</td>\n",
              "      <td>9</td>\n",
              "    </tr>\n",
              "    <tr>\n",
              "      <th>245506</th>\n",
              "      <td>9292</td>\n",
              "      <td>Half And Half Ultra Pasteurized</td>\n",
              "      <td>1913251</td>\n",
              "      <td>17</td>\n",
              "    </tr>\n",
              "    <tr>\n",
              "      <th>261328</th>\n",
              "      <td>9292</td>\n",
              "      <td>Half And Half Ultra Pasteurized</td>\n",
              "      <td>2383724</td>\n",
              "      <td>19</td>\n",
              "    </tr>\n",
              "    <tr>\n",
              "      <th>264737</th>\n",
              "      <td>9292</td>\n",
              "      <td>Half And Half Ultra Pasteurized</td>\n",
              "      <td>2494488</td>\n",
              "      <td>10</td>\n",
              "    </tr>\n",
              "    <tr>\n",
              "      <th>268830</th>\n",
              "      <td>9292</td>\n",
              "      <td>Half And Half Ultra Pasteurized</td>\n",
              "      <td>2630088</td>\n",
              "      <td>20</td>\n",
              "    </tr>\n",
              "    <tr>\n",
              "      <th>270107</th>\n",
              "      <td>9292</td>\n",
              "      <td>Half And Half Ultra Pasteurized</td>\n",
              "      <td>2666546</td>\n",
              "      <td>16</td>\n",
              "    </tr>\n",
              "    <tr>\n",
              "      <th>270417</th>\n",
              "      <td>9292</td>\n",
              "      <td>Half And Half Ultra Pasteurized</td>\n",
              "      <td>2678081</td>\n",
              "      <td>21</td>\n",
              "    </tr>\n",
              "    <tr>\n",
              "      <th>273817</th>\n",
              "      <td>9292</td>\n",
              "      <td>Half And Half Ultra Pasteurized</td>\n",
              "      <td>2801696</td>\n",
              "      <td>10</td>\n",
              "    </tr>\n",
              "    <tr>\n",
              "      <th>290271</th>\n",
              "      <td>9292</td>\n",
              "      <td>Half And Half Ultra Pasteurized</td>\n",
              "      <td>3319358</td>\n",
              "      <td>16</td>\n",
              "    </tr>\n",
              "    <tr>\n",
              "      <th>290752</th>\n",
              "      <td>9292</td>\n",
              "      <td>Half And Half Ultra Pasteurized</td>\n",
              "      <td>3339565</td>\n",
              "      <td>15</td>\n",
              "    </tr>\n",
              "    <tr>\n",
              "      <th>349007</th>\n",
              "      <td>9292</td>\n",
              "      <td>Half And Half Ultra Pasteurized</td>\n",
              "      <td>240035</td>\n",
              "      <td>15</td>\n",
              "    </tr>\n",
              "    <tr>\n",
              "      <th>352449</th>\n",
              "      <td>9292</td>\n",
              "      <td>Half And Half Ultra Pasteurized</td>\n",
              "      <td>280558</td>\n",
              "      <td>11</td>\n",
              "    </tr>\n",
              "    <tr>\n",
              "      <th>360889</th>\n",
              "      <td>9292</td>\n",
              "      <td>Half And Half Ultra Pasteurized</td>\n",
              "      <td>376002</td>\n",
              "      <td>15</td>\n",
              "    </tr>\n",
              "    <tr>\n",
              "      <th>362141</th>\n",
              "      <td>9292</td>\n",
              "      <td>Half And Half Ultra Pasteurized</td>\n",
              "      <td>391727</td>\n",
              "      <td>10</td>\n",
              "    </tr>\n",
              "    <tr>\n",
              "      <th>409771</th>\n",
              "      <td>9292</td>\n",
              "      <td>Half And Half Ultra Pasteurized</td>\n",
              "      <td>939839</td>\n",
              "      <td>15</td>\n",
              "    </tr>\n",
              "    <tr>\n",
              "      <th>463584</th>\n",
              "      <td>9292</td>\n",
              "      <td>Half And Half Ultra Pasteurized</td>\n",
              "      <td>1567245</td>\n",
              "      <td>10</td>\n",
              "    </tr>\n",
              "    <tr>\n",
              "      <th>465400</th>\n",
              "      <td>9292</td>\n",
              "      <td>Half And Half Ultra Pasteurized</td>\n",
              "      <td>1588648</td>\n",
              "      <td>10</td>\n",
              "    </tr>\n",
              "    <tr>\n",
              "      <th>496698</th>\n",
              "      <td>9292</td>\n",
              "      <td>Half And Half Ultra Pasteurized</td>\n",
              "      <td>1944686</td>\n",
              "      <td>11</td>\n",
              "    </tr>\n",
              "    <tr>\n",
              "      <th>525949</th>\n",
              "      <td>9292</td>\n",
              "      <td>Half And Half Ultra Pasteurized</td>\n",
              "      <td>2281817</td>\n",
              "      <td>13</td>\n",
              "    </tr>\n",
              "    <tr>\n",
              "      <th>557002</th>\n",
              "      <td>9292</td>\n",
              "      <td>Half And Half Ultra Pasteurized</td>\n",
              "      <td>2641987</td>\n",
              "      <td>16</td>\n",
              "    </tr>\n",
              "    <tr>\n",
              "      <th>558950</th>\n",
              "      <td>9292</td>\n",
              "      <td>Half And Half Ultra Pasteurized</td>\n",
              "      <td>2664274</td>\n",
              "      <td>11</td>\n",
              "    </tr>\n",
              "    <tr>\n",
              "      <th>...</th>\n",
              "      <td>...</td>\n",
              "      <td>...</td>\n",
              "      <td>...</td>\n",
              "      <td>...</td>\n",
              "    </tr>\n",
              "    <tr>\n",
              "      <th>29199740</th>\n",
              "      <td>9292</td>\n",
              "      <td>Half And Half Ultra Pasteurized</td>\n",
              "      <td>3417652</td>\n",
              "      <td>14</td>\n",
              "    </tr>\n",
              "    <tr>\n",
              "      <th>29199749</th>\n",
              "      <td>9292</td>\n",
              "      <td>Half And Half Ultra Pasteurized</td>\n",
              "      <td>3420177</td>\n",
              "      <td>9</td>\n",
              "    </tr>\n",
              "    <tr>\n",
              "      <th>29199756</th>\n",
              "      <td>9292</td>\n",
              "      <td>Half And Half Ultra Pasteurized</td>\n",
              "      <td>191784</td>\n",
              "      <td>14</td>\n",
              "    </tr>\n",
              "    <tr>\n",
              "      <th>29199761</th>\n",
              "      <td>9292</td>\n",
              "      <td>Half And Half Ultra Pasteurized</td>\n",
              "      <td>243223</td>\n",
              "      <td>11</td>\n",
              "    </tr>\n",
              "    <tr>\n",
              "      <th>29199766</th>\n",
              "      <td>9292</td>\n",
              "      <td>Half And Half Ultra Pasteurized</td>\n",
              "      <td>245796</td>\n",
              "      <td>10</td>\n",
              "    </tr>\n",
              "    <tr>\n",
              "      <th>29199773</th>\n",
              "      <td>9292</td>\n",
              "      <td>Half And Half Ultra Pasteurized</td>\n",
              "      <td>422609</td>\n",
              "      <td>14</td>\n",
              "    </tr>\n",
              "    <tr>\n",
              "      <th>29199778</th>\n",
              "      <td>9292</td>\n",
              "      <td>Half And Half Ultra Pasteurized</td>\n",
              "      <td>491436</td>\n",
              "      <td>10</td>\n",
              "    </tr>\n",
              "    <tr>\n",
              "      <th>29199780</th>\n",
              "      <td>9292</td>\n",
              "      <td>Half And Half Ultra Pasteurized</td>\n",
              "      <td>673967</td>\n",
              "      <td>9</td>\n",
              "    </tr>\n",
              "    <tr>\n",
              "      <th>29199785</th>\n",
              "      <td>9292</td>\n",
              "      <td>Half And Half Ultra Pasteurized</td>\n",
              "      <td>705383</td>\n",
              "      <td>9</td>\n",
              "    </tr>\n",
              "    <tr>\n",
              "      <th>29199791</th>\n",
              "      <td>9292</td>\n",
              "      <td>Half And Half Ultra Pasteurized</td>\n",
              "      <td>772327</td>\n",
              "      <td>11</td>\n",
              "    </tr>\n",
              "    <tr>\n",
              "      <th>29199798</th>\n",
              "      <td>9292</td>\n",
              "      <td>Half And Half Ultra Pasteurized</td>\n",
              "      <td>800773</td>\n",
              "      <td>13</td>\n",
              "    </tr>\n",
              "    <tr>\n",
              "      <th>29199801</th>\n",
              "      <td>9292</td>\n",
              "      <td>Half And Half Ultra Pasteurized</td>\n",
              "      <td>851079</td>\n",
              "      <td>9</td>\n",
              "    </tr>\n",
              "    <tr>\n",
              "      <th>29199804</th>\n",
              "      <td>9292</td>\n",
              "      <td>Half And Half Ultra Pasteurized</td>\n",
              "      <td>963600</td>\n",
              "      <td>10</td>\n",
              "    </tr>\n",
              "    <tr>\n",
              "      <th>29199809</th>\n",
              "      <td>9292</td>\n",
              "      <td>Half And Half Ultra Pasteurized</td>\n",
              "      <td>1017699</td>\n",
              "      <td>10</td>\n",
              "    </tr>\n",
              "    <tr>\n",
              "      <th>29199817</th>\n",
              "      <td>9292</td>\n",
              "      <td>Half And Half Ultra Pasteurized</td>\n",
              "      <td>1073108</td>\n",
              "      <td>14</td>\n",
              "    </tr>\n",
              "    <tr>\n",
              "      <th>29199821</th>\n",
              "      <td>9292</td>\n",
              "      <td>Half And Half Ultra Pasteurized</td>\n",
              "      <td>1153392</td>\n",
              "      <td>12</td>\n",
              "    </tr>\n",
              "    <tr>\n",
              "      <th>29199843</th>\n",
              "      <td>9292</td>\n",
              "      <td>Half And Half Ultra Pasteurized</td>\n",
              "      <td>1238503</td>\n",
              "      <td>8</td>\n",
              "    </tr>\n",
              "    <tr>\n",
              "      <th>29199852</th>\n",
              "      <td>9292</td>\n",
              "      <td>Half And Half Ultra Pasteurized</td>\n",
              "      <td>1255925</td>\n",
              "      <td>10</td>\n",
              "    </tr>\n",
              "    <tr>\n",
              "      <th>29199855</th>\n",
              "      <td>9292</td>\n",
              "      <td>Half And Half Ultra Pasteurized</td>\n",
              "      <td>1260333</td>\n",
              "      <td>9</td>\n",
              "    </tr>\n",
              "    <tr>\n",
              "      <th>29199856</th>\n",
              "      <td>9292</td>\n",
              "      <td>Half And Half Ultra Pasteurized</td>\n",
              "      <td>1860044</td>\n",
              "      <td>17</td>\n",
              "    </tr>\n",
              "    <tr>\n",
              "      <th>29199857</th>\n",
              "      <td>9292</td>\n",
              "      <td>Half And Half Ultra Pasteurized</td>\n",
              "      <td>1889316</td>\n",
              "      <td>12</td>\n",
              "    </tr>\n",
              "    <tr>\n",
              "      <th>29199860</th>\n",
              "      <td>9292</td>\n",
              "      <td>Half And Half Ultra Pasteurized</td>\n",
              "      <td>2003271</td>\n",
              "      <td>21</td>\n",
              "    </tr>\n",
              "    <tr>\n",
              "      <th>29199874</th>\n",
              "      <td>9292</td>\n",
              "      <td>Half And Half Ultra Pasteurized</td>\n",
              "      <td>2081304</td>\n",
              "      <td>15</td>\n",
              "    </tr>\n",
              "    <tr>\n",
              "      <th>29199879</th>\n",
              "      <td>9292</td>\n",
              "      <td>Half And Half Ultra Pasteurized</td>\n",
              "      <td>2109557</td>\n",
              "      <td>13</td>\n",
              "    </tr>\n",
              "    <tr>\n",
              "      <th>29199889</th>\n",
              "      <td>9292</td>\n",
              "      <td>Half And Half Ultra Pasteurized</td>\n",
              "      <td>2120687</td>\n",
              "      <td>8</td>\n",
              "    </tr>\n",
              "    <tr>\n",
              "      <th>29199891</th>\n",
              "      <td>9292</td>\n",
              "      <td>Half And Half Ultra Pasteurized</td>\n",
              "      <td>2280328</td>\n",
              "      <td>12</td>\n",
              "    </tr>\n",
              "    <tr>\n",
              "      <th>29199897</th>\n",
              "      <td>9292</td>\n",
              "      <td>Half And Half Ultra Pasteurized</td>\n",
              "      <td>2379224</td>\n",
              "      <td>14</td>\n",
              "    </tr>\n",
              "    <tr>\n",
              "      <th>29199898</th>\n",
              "      <td>9292</td>\n",
              "      <td>Half And Half Ultra Pasteurized</td>\n",
              "      <td>2512364</td>\n",
              "      <td>15</td>\n",
              "    </tr>\n",
              "    <tr>\n",
              "      <th>29199903</th>\n",
              "      <td>9292</td>\n",
              "      <td>Half And Half Ultra Pasteurized</td>\n",
              "      <td>2846920</td>\n",
              "      <td>11</td>\n",
              "    </tr>\n",
              "    <tr>\n",
              "      <th>29199909</th>\n",
              "      <td>9292</td>\n",
              "      <td>Half And Half Ultra Pasteurized</td>\n",
              "      <td>3034300</td>\n",
              "      <td>18</td>\n",
              "    </tr>\n",
              "  </tbody>\n",
              "</table>\n",
              "<p>2995 rows × 4 columns</p>\n",
              "</div>"
            ],
            "text/plain": [
              "          product_id                     product_name  order_id  \\\n",
              "45167           9292  Half And Half Ultra Pasteurized    802884   \n",
              "74055           9292  Half And Half Ultra Pasteurized   3230936   \n",
              "163486          9292  Half And Half Ultra Pasteurized   1599440   \n",
              "191375          9292  Half And Half Ultra Pasteurized    212295   \n",
              "200888          9292  Half And Half Ultra Pasteurized    507671   \n",
              "206291          9292  Half And Half Ultra Pasteurized    675670   \n",
              "208991          9292  Half And Half Ultra Pasteurized    770276   \n",
              "223939          9292  Half And Half Ultra Pasteurized   1251727   \n",
              "230893          9292  Half And Half Ultra Pasteurized   1475099   \n",
              "238012          9292  Half And Half Ultra Pasteurized   1686226   \n",
              "245506          9292  Half And Half Ultra Pasteurized   1913251   \n",
              "261328          9292  Half And Half Ultra Pasteurized   2383724   \n",
              "264737          9292  Half And Half Ultra Pasteurized   2494488   \n",
              "268830          9292  Half And Half Ultra Pasteurized   2630088   \n",
              "270107          9292  Half And Half Ultra Pasteurized   2666546   \n",
              "270417          9292  Half And Half Ultra Pasteurized   2678081   \n",
              "273817          9292  Half And Half Ultra Pasteurized   2801696   \n",
              "290271          9292  Half And Half Ultra Pasteurized   3319358   \n",
              "290752          9292  Half And Half Ultra Pasteurized   3339565   \n",
              "349007          9292  Half And Half Ultra Pasteurized    240035   \n",
              "352449          9292  Half And Half Ultra Pasteurized    280558   \n",
              "360889          9292  Half And Half Ultra Pasteurized    376002   \n",
              "362141          9292  Half And Half Ultra Pasteurized    391727   \n",
              "409771          9292  Half And Half Ultra Pasteurized    939839   \n",
              "463584          9292  Half And Half Ultra Pasteurized   1567245   \n",
              "465400          9292  Half And Half Ultra Pasteurized   1588648   \n",
              "496698          9292  Half And Half Ultra Pasteurized   1944686   \n",
              "525949          9292  Half And Half Ultra Pasteurized   2281817   \n",
              "557002          9292  Half And Half Ultra Pasteurized   2641987   \n",
              "558950          9292  Half And Half Ultra Pasteurized   2664274   \n",
              "...              ...                              ...       ...   \n",
              "29199740        9292  Half And Half Ultra Pasteurized   3417652   \n",
              "29199749        9292  Half And Half Ultra Pasteurized   3420177   \n",
              "29199756        9292  Half And Half Ultra Pasteurized    191784   \n",
              "29199761        9292  Half And Half Ultra Pasteurized    243223   \n",
              "29199766        9292  Half And Half Ultra Pasteurized    245796   \n",
              "29199773        9292  Half And Half Ultra Pasteurized    422609   \n",
              "29199778        9292  Half And Half Ultra Pasteurized    491436   \n",
              "29199780        9292  Half And Half Ultra Pasteurized    673967   \n",
              "29199785        9292  Half And Half Ultra Pasteurized    705383   \n",
              "29199791        9292  Half And Half Ultra Pasteurized    772327   \n",
              "29199798        9292  Half And Half Ultra Pasteurized    800773   \n",
              "29199801        9292  Half And Half Ultra Pasteurized    851079   \n",
              "29199804        9292  Half And Half Ultra Pasteurized    963600   \n",
              "29199809        9292  Half And Half Ultra Pasteurized   1017699   \n",
              "29199817        9292  Half And Half Ultra Pasteurized   1073108   \n",
              "29199821        9292  Half And Half Ultra Pasteurized   1153392   \n",
              "29199843        9292  Half And Half Ultra Pasteurized   1238503   \n",
              "29199852        9292  Half And Half Ultra Pasteurized   1255925   \n",
              "29199855        9292  Half And Half Ultra Pasteurized   1260333   \n",
              "29199856        9292  Half And Half Ultra Pasteurized   1860044   \n",
              "29199857        9292  Half And Half Ultra Pasteurized   1889316   \n",
              "29199860        9292  Half And Half Ultra Pasteurized   2003271   \n",
              "29199874        9292  Half And Half Ultra Pasteurized   2081304   \n",
              "29199879        9292  Half And Half Ultra Pasteurized   2109557   \n",
              "29199889        9292  Half And Half Ultra Pasteurized   2120687   \n",
              "29199891        9292  Half And Half Ultra Pasteurized   2280328   \n",
              "29199897        9292  Half And Half Ultra Pasteurized   2379224   \n",
              "29199898        9292  Half And Half Ultra Pasteurized   2512364   \n",
              "29199903        9292  Half And Half Ultra Pasteurized   2846920   \n",
              "29199909        9292  Half And Half Ultra Pasteurized   3034300   \n",
              "\n",
              "          order_hour_of_day  \n",
              "45167                     8  \n",
              "74055                    14  \n",
              "163486                   11  \n",
              "191375                    8  \n",
              "200888                   14  \n",
              "206291                   19  \n",
              "208991                   13  \n",
              "223939                   13  \n",
              "230893                   18  \n",
              "238012                    9  \n",
              "245506                   17  \n",
              "261328                   19  \n",
              "264737                   10  \n",
              "268830                   20  \n",
              "270107                   16  \n",
              "270417                   21  \n",
              "273817                   10  \n",
              "290271                   16  \n",
              "290752                   15  \n",
              "349007                   15  \n",
              "352449                   11  \n",
              "360889                   15  \n",
              "362141                   10  \n",
              "409771                   15  \n",
              "463584                   10  \n",
              "465400                   10  \n",
              "496698                   11  \n",
              "525949                   13  \n",
              "557002                   16  \n",
              "558950                   11  \n",
              "...                     ...  \n",
              "29199740                 14  \n",
              "29199749                  9  \n",
              "29199756                 14  \n",
              "29199761                 11  \n",
              "29199766                 10  \n",
              "29199773                 14  \n",
              "29199778                 10  \n",
              "29199780                  9  \n",
              "29199785                  9  \n",
              "29199791                 11  \n",
              "29199798                 13  \n",
              "29199801                  9  \n",
              "29199804                 10  \n",
              "29199809                 10  \n",
              "29199817                 14  \n",
              "29199821                 12  \n",
              "29199843                  8  \n",
              "29199852                 10  \n",
              "29199855                  9  \n",
              "29199856                 17  \n",
              "29199857                 12  \n",
              "29199860                 21  \n",
              "29199874                 15  \n",
              "29199879                 13  \n",
              "29199889                  8  \n",
              "29199891                 12  \n",
              "29199897                 14  \n",
              "29199898                 15  \n",
              "29199903                 11  \n",
              "29199909                 18  \n",
              "\n",
              "[2995 rows x 4 columns]"
            ]
          },
          "metadata": {
            "tags": []
          },
          "execution_count": 17
        }
      ]
    },
    {
      "metadata": {
        "id": "dEe5SPeRO5Jz",
        "colab_type": "code",
        "outputId": "1aeaa096-a414-4a94-800b-a88bc301afdc",
        "colab": {
          "base_uri": "https://localhost:8080/",
          "height": 269
        }
      },
      "cell_type": "code",
      "source": [
        "(cream['order_hour_of_day']\n",
        " .value_counts(normalize=True)\n",
        " .sort_index()\n",
        " .plot());\n",
        " \n",
        "(froyo['order_hour_of_day']\n",
        " .value_counts(normalize=True)\n",
        " .sort_index()\n",
        " .plot());"
      ],
      "execution_count": 18,
      "outputs": [
        {
          "output_type": "display_data",
          "data": {
            "image/png": "[encoded data removed]",
            "text/plain": [
              "<Figure size 432x288 with 1 Axes>"
            ]
          },
          "metadata": {
            "tags": []
          }
        }
      ]
    },
    {
      "metadata": {
        "colab_type": "text",
        "id": "CiB9xmZ4iIqt"
      },
      "cell_type": "markdown",
      "source": [
        "### 2. crosstab"
      ]
    },
    {
      "metadata": {
        "colab_type": "code",
        "id": "aCzF5spQWd_f",
        "outputId": "5f16ad8f-305e-47db-9f10-2e7642d86265",
        "colab": {
          "base_uri": "https://localhost:8080/",
          "height": 824
        }
      },
      "cell_type": "code",
      "source": [
        "pd.crosstab(subset['order_hour_of_day'],\n",
        "           subset['product_name'],\n",
        "           normalize='columns')"
      ],
      "execution_count": 19,
      "outputs": [
        {
          "output_type": "execute_result",
          "data": {
            "text/html": [
              "<div>\n",
              "<style scoped>\n",
              "    .dataframe tbody tr th:only-of-type {\n",
              "        vertical-align: middle;\n",
              "    }\n",
              "\n",
              "    .dataframe tbody tr th {\n",
              "        vertical-align: top;\n",
              "    }\n",
              "\n",
              "    .dataframe thead th {\n",
              "        text-align: right;\n",
              "    }\n",
              "</style>\n",
              "<table border=\"1\" class=\"dataframe\">\n",
              "  <thead>\n",
              "    <tr style=\"text-align: right;\">\n",
              "      <th>product_name</th>\n",
              "      <th>Half And Half Ultra Pasteurized</th>\n",
              "      <th>Half Baked Frozen Yogurt</th>\n",
              "    </tr>\n",
              "    <tr>\n",
              "      <th>order_hour_of_day</th>\n",
              "      <th></th>\n",
              "      <th></th>\n",
              "    </tr>\n",
              "  </thead>\n",
              "  <tbody>\n",
              "    <tr>\n",
              "      <th>0</th>\n",
              "      <td>0.002003</td>\n",
              "      <td>0.005364</td>\n",
              "    </tr>\n",
              "    <tr>\n",
              "      <th>1</th>\n",
              "      <td>0.000334</td>\n",
              "      <td>0.002682</td>\n",
              "    </tr>\n",
              "    <tr>\n",
              "      <th>2</th>\n",
              "      <td>0.000334</td>\n",
              "      <td>0.002682</td>\n",
              "    </tr>\n",
              "    <tr>\n",
              "      <th>3</th>\n",
              "      <td>0.000000</td>\n",
              "      <td>0.001006</td>\n",
              "    </tr>\n",
              "    <tr>\n",
              "      <th>4</th>\n",
              "      <td>0.000334</td>\n",
              "      <td>0.000670</td>\n",
              "    </tr>\n",
              "    <tr>\n",
              "      <th>5</th>\n",
              "      <td>0.001336</td>\n",
              "      <td>0.003352</td>\n",
              "    </tr>\n",
              "    <tr>\n",
              "      <th>6</th>\n",
              "      <td>0.008347</td>\n",
              "      <td>0.006034</td>\n",
              "    </tr>\n",
              "    <tr>\n",
              "      <th>7</th>\n",
              "      <td>0.031720</td>\n",
              "      <td>0.019779</td>\n",
              "    </tr>\n",
              "    <tr>\n",
              "      <th>8</th>\n",
              "      <td>0.107846</td>\n",
              "      <td>0.029836</td>\n",
              "    </tr>\n",
              "    <tr>\n",
              "      <th>9</th>\n",
              "      <td>0.160267</td>\n",
              "      <td>0.042910</td>\n",
              "    </tr>\n",
              "    <tr>\n",
              "      <th>10</th>\n",
              "      <td>0.143239</td>\n",
              "      <td>0.059001</td>\n",
              "    </tr>\n",
              "    <tr>\n",
              "      <th>11</th>\n",
              "      <td>0.097496</td>\n",
              "      <td>0.067717</td>\n",
              "    </tr>\n",
              "    <tr>\n",
              "      <th>12</th>\n",
              "      <td>0.066778</td>\n",
              "      <td>0.065035</td>\n",
              "    </tr>\n",
              "    <tr>\n",
              "      <th>13</th>\n",
              "      <td>0.071119</td>\n",
              "      <td>0.078780</td>\n",
              "    </tr>\n",
              "    <tr>\n",
              "      <th>14</th>\n",
              "      <td>0.071786</td>\n",
              "      <td>0.084479</td>\n",
              "    </tr>\n",
              "    <tr>\n",
              "      <th>15</th>\n",
              "      <td>0.074124</td>\n",
              "      <td>0.095206</td>\n",
              "    </tr>\n",
              "    <tr>\n",
              "      <th>16</th>\n",
              "      <td>0.072788</td>\n",
              "      <td>0.092189</td>\n",
              "    </tr>\n",
              "    <tr>\n",
              "      <th>17</th>\n",
              "      <td>0.037062</td>\n",
              "      <td>0.084814</td>\n",
              "    </tr>\n",
              "    <tr>\n",
              "      <th>18</th>\n",
              "      <td>0.018698</td>\n",
              "      <td>0.085484</td>\n",
              "    </tr>\n",
              "    <tr>\n",
              "      <th>19</th>\n",
              "      <td>0.009349</td>\n",
              "      <td>0.066376</td>\n",
              "    </tr>\n",
              "    <tr>\n",
              "      <th>20</th>\n",
              "      <td>0.010684</td>\n",
              "      <td>0.049279</td>\n",
              "    </tr>\n",
              "    <tr>\n",
              "      <th>21</th>\n",
              "      <td>0.007679</td>\n",
              "      <td>0.028830</td>\n",
              "    </tr>\n",
              "    <tr>\n",
              "      <th>22</th>\n",
              "      <td>0.004007</td>\n",
              "      <td>0.016426</td>\n",
              "    </tr>\n",
              "    <tr>\n",
              "      <th>23</th>\n",
              "      <td>0.002671</td>\n",
              "      <td>0.012068</td>\n",
              "    </tr>\n",
              "  </tbody>\n",
              "</table>\n",
              "</div>"
            ],
            "text/plain": [
              "product_name       Half And Half Ultra Pasteurized  Half Baked Frozen Yogurt\n",
              "order_hour_of_day                                                           \n",
              "0                                         0.002003                  0.005364\n",
              "1                                         0.000334                  0.002682\n",
              "2                                         0.000334                  0.002682\n",
              "3                                         0.000000                  0.001006\n",
              "4                                         0.000334                  0.000670\n",
              "5                                         0.001336                  0.003352\n",
              "6                                         0.008347                  0.006034\n",
              "7                                         0.031720                  0.019779\n",
              "8                                         0.107846                  0.029836\n",
              "9                                         0.160267                  0.042910\n",
              "10                                        0.143239                  0.059001\n",
              "11                                        0.097496                  0.067717\n",
              "12                                        0.066778                  0.065035\n",
              "13                                        0.071119                  0.078780\n",
              "14                                        0.071786                  0.084479\n",
              "15                                        0.074124                  0.095206\n",
              "16                                        0.072788                  0.092189\n",
              "17                                        0.037062                  0.084814\n",
              "18                                        0.018698                  0.085484\n",
              "19                                        0.009349                  0.066376\n",
              "20                                        0.010684                  0.049279\n",
              "21                                        0.007679                  0.028830\n",
              "22                                        0.004007                  0.016426\n",
              "23                                        0.002671                  0.012068"
            ]
          },
          "metadata": {
            "tags": []
          },
          "execution_count": 19
        }
      ]
    },
    {
      "metadata": {
        "id": "z7hFk3SRQY91",
        "colab_type": "code",
        "outputId": "85864df8-8ed1-494f-b392-f14bc66cae90",
        "colab": {
          "base_uri": "https://localhost:8080/",
          "height": 284
        }
      },
      "cell_type": "code",
      "source": [
        "(pd.crosstab(subset['order_hour_of_day'],\n",
        "           subset['product_name'],\n",
        "           normalize='columns') * 100).plot();"
      ],
      "execution_count": 20,
      "outputs": [
        {
          "output_type": "display_data",
          "data": {
            "image/png": "[encoded data removed]",
            "text/plain": [
              "<Figure size 432x288 with 1 Axes>"
            ]
          },
          "metadata": {
            "tags": []
          }
        }
      ]
    },
    {
      "metadata": {
        "colab_type": "text",
        "id": "wCp-qjbriUze"
      },
      "cell_type": "markdown",
      "source": [
        "### 3. pivot_table"
      ]
    },
    {
      "metadata": {
        "colab_type": "code",
        "id": "O8d6_TDKNsxB",
        "outputId": "a9db78c8-5f25-47f3-f174-2340bd37d1ba",
        "colab": {
          "base_uri": "https://localhost:8080/",
          "height": 284
        }
      },
      "cell_type": "code",
      "source": [
        "subset.pivot_table(index='order_hour_of_day',\n",
        "                  columns='product_name',\n",
        "                  values='order_id',\n",
        "                  aggfunc=len).plot();"
      ],
      "execution_count": 21,
      "outputs": [
        {
          "output_type": "display_data",
          "data": {
            "image/png": "[encoded data removed]",
            "text/plain": [
              "<Figure size 432x288 with 1 Axes>"
            ]
          },
          "metadata": {
            "tags": []
          }
        }
      ]
    },
    {
      "metadata": {
        "colab_type": "text",
        "id": "48wCoJowigCf"
      },
      "cell_type": "markdown",
      "source": [
        "### 4. melt"
      ]
    },
    {
      "metadata": {
        "colab_type": "code",
        "id": "VnslvFfvYSIk",
        "outputId": "0419264c-7831-4cd8-c703-7f80a67eb24c",
        "colab": {
          "base_uri": "https://localhost:8080/",
          "height": 1537
        }
      },
      "cell_type": "code",
      "source": [
        "table = pd.crosstab(subset['order_hour_of_day'],\n",
        "                   subset['product_name'],\n",
        "                   normalize=True)\n",
        "\n",
        "melted = (table.reset_index().melt(id_vars='order_hour_of_day'))\n",
        "melted"
      ],
      "execution_count": 22,
      "outputs": [
        {
          "output_type": "execute_result",
          "data": {
            "text/html": [
              "<div>\n",
              "<style scoped>\n",
              "    .dataframe tbody tr th:only-of-type {\n",
              "        vertical-align: middle;\n",
              "    }\n",
              "\n",
              "    .dataframe tbody tr th {\n",
              "        vertical-align: top;\n",
              "    }\n",
              "\n",
              "    .dataframe thead th {\n",
              "        text-align: right;\n",
              "    }\n",
              "</style>\n",
              "<table border=\"1\" class=\"dataframe\">\n",
              "  <thead>\n",
              "    <tr style=\"text-align: right;\">\n",
              "      <th></th>\n",
              "      <th>order_hour_of_day</th>\n",
              "      <th>product_name</th>\n",
              "      <th>value</th>\n",
              "    </tr>\n",
              "  </thead>\n",
              "  <tbody>\n",
              "    <tr>\n",
              "      <th>0</th>\n",
              "      <td>0</td>\n",
              "      <td>Half And Half Ultra Pasteurized</td>\n",
              "      <td>0.001004</td>\n",
              "    </tr>\n",
              "    <tr>\n",
              "      <th>1</th>\n",
              "      <td>1</td>\n",
              "      <td>Half And Half Ultra Pasteurized</td>\n",
              "      <td>0.000167</td>\n",
              "    </tr>\n",
              "    <tr>\n",
              "      <th>2</th>\n",
              "      <td>2</td>\n",
              "      <td>Half And Half Ultra Pasteurized</td>\n",
              "      <td>0.000167</td>\n",
              "    </tr>\n",
              "    <tr>\n",
              "      <th>3</th>\n",
              "      <td>3</td>\n",
              "      <td>Half And Half Ultra Pasteurized</td>\n",
              "      <td>0.000000</td>\n",
              "    </tr>\n",
              "    <tr>\n",
              "      <th>4</th>\n",
              "      <td>4</td>\n",
              "      <td>Half And Half Ultra Pasteurized</td>\n",
              "      <td>0.000167</td>\n",
              "    </tr>\n",
              "    <tr>\n",
              "      <th>5</th>\n",
              "      <td>5</td>\n",
              "      <td>Half And Half Ultra Pasteurized</td>\n",
              "      <td>0.000669</td>\n",
              "    </tr>\n",
              "    <tr>\n",
              "      <th>6</th>\n",
              "      <td>6</td>\n",
              "      <td>Half And Half Ultra Pasteurized</td>\n",
              "      <td>0.004182</td>\n",
              "    </tr>\n",
              "    <tr>\n",
              "      <th>7</th>\n",
              "      <td>7</td>\n",
              "      <td>Half And Half Ultra Pasteurized</td>\n",
              "      <td>0.015892</td>\n",
              "    </tr>\n",
              "    <tr>\n",
              "      <th>8</th>\n",
              "      <td>8</td>\n",
              "      <td>Half And Half Ultra Pasteurized</td>\n",
              "      <td>0.054031</td>\n",
              "    </tr>\n",
              "    <tr>\n",
              "      <th>9</th>\n",
              "      <td>9</td>\n",
              "      <td>Half And Half Ultra Pasteurized</td>\n",
              "      <td>0.080294</td>\n",
              "    </tr>\n",
              "    <tr>\n",
              "      <th>10</th>\n",
              "      <td>10</td>\n",
              "      <td>Half And Half Ultra Pasteurized</td>\n",
              "      <td>0.071763</td>\n",
              "    </tr>\n",
              "    <tr>\n",
              "      <th>11</th>\n",
              "      <td>11</td>\n",
              "      <td>Half And Half Ultra Pasteurized</td>\n",
              "      <td>0.048846</td>\n",
              "    </tr>\n",
              "    <tr>\n",
              "      <th>12</th>\n",
              "      <td>12</td>\n",
              "      <td>Half And Half Ultra Pasteurized</td>\n",
              "      <td>0.033456</td>\n",
              "    </tr>\n",
              "    <tr>\n",
              "      <th>13</th>\n",
              "      <td>13</td>\n",
              "      <td>Half And Half Ultra Pasteurized</td>\n",
              "      <td>0.035631</td>\n",
              "    </tr>\n",
              "    <tr>\n",
              "      <th>14</th>\n",
              "      <td>14</td>\n",
              "      <td>Half And Half Ultra Pasteurized</td>\n",
              "      <td>0.035965</td>\n",
              "    </tr>\n",
              "    <tr>\n",
              "      <th>15</th>\n",
              "      <td>15</td>\n",
              "      <td>Half And Half Ultra Pasteurized</td>\n",
              "      <td>0.037136</td>\n",
              "    </tr>\n",
              "    <tr>\n",
              "      <th>16</th>\n",
              "      <td>16</td>\n",
              "      <td>Half And Half Ultra Pasteurized</td>\n",
              "      <td>0.036467</td>\n",
              "    </tr>\n",
              "    <tr>\n",
              "      <th>17</th>\n",
              "      <td>17</td>\n",
              "      <td>Half And Half Ultra Pasteurized</td>\n",
              "      <td>0.018568</td>\n",
              "    </tr>\n",
              "    <tr>\n",
              "      <th>18</th>\n",
              "      <td>18</td>\n",
              "      <td>Half And Half Ultra Pasteurized</td>\n",
              "      <td>0.009368</td>\n",
              "    </tr>\n",
              "    <tr>\n",
              "      <th>19</th>\n",
              "      <td>19</td>\n",
              "      <td>Half And Half Ultra Pasteurized</td>\n",
              "      <td>0.004684</td>\n",
              "    </tr>\n",
              "    <tr>\n",
              "      <th>20</th>\n",
              "      <td>20</td>\n",
              "      <td>Half And Half Ultra Pasteurized</td>\n",
              "      <td>0.005353</td>\n",
              "    </tr>\n",
              "    <tr>\n",
              "      <th>21</th>\n",
              "      <td>21</td>\n",
              "      <td>Half And Half Ultra Pasteurized</td>\n",
              "      <td>0.003847</td>\n",
              "    </tr>\n",
              "    <tr>\n",
              "      <th>22</th>\n",
              "      <td>22</td>\n",
              "      <td>Half And Half Ultra Pasteurized</td>\n",
              "      <td>0.002007</td>\n",
              "    </tr>\n",
              "    <tr>\n",
              "      <th>23</th>\n",
              "      <td>23</td>\n",
              "      <td>Half And Half Ultra Pasteurized</td>\n",
              "      <td>0.001338</td>\n",
              "    </tr>\n",
              "    <tr>\n",
              "      <th>24</th>\n",
              "      <td>0</td>\n",
              "      <td>Half Baked Frozen Yogurt</td>\n",
              "      <td>0.002676</td>\n",
              "    </tr>\n",
              "    <tr>\n",
              "      <th>25</th>\n",
              "      <td>1</td>\n",
              "      <td>Half Baked Frozen Yogurt</td>\n",
              "      <td>0.001338</td>\n",
              "    </tr>\n",
              "    <tr>\n",
              "      <th>26</th>\n",
              "      <td>2</td>\n",
              "      <td>Half Baked Frozen Yogurt</td>\n",
              "      <td>0.001338</td>\n",
              "    </tr>\n",
              "    <tr>\n",
              "      <th>27</th>\n",
              "      <td>3</td>\n",
              "      <td>Half Baked Frozen Yogurt</td>\n",
              "      <td>0.000502</td>\n",
              "    </tr>\n",
              "    <tr>\n",
              "      <th>28</th>\n",
              "      <td>4</td>\n",
              "      <td>Half Baked Frozen Yogurt</td>\n",
              "      <td>0.000335</td>\n",
              "    </tr>\n",
              "    <tr>\n",
              "      <th>29</th>\n",
              "      <td>5</td>\n",
              "      <td>Half Baked Frozen Yogurt</td>\n",
              "      <td>0.001673</td>\n",
              "    </tr>\n",
              "    <tr>\n",
              "      <th>30</th>\n",
              "      <td>6</td>\n",
              "      <td>Half Baked Frozen Yogurt</td>\n",
              "      <td>0.003011</td>\n",
              "    </tr>\n",
              "    <tr>\n",
              "      <th>31</th>\n",
              "      <td>7</td>\n",
              "      <td>Half Baked Frozen Yogurt</td>\n",
              "      <td>0.009870</td>\n",
              "    </tr>\n",
              "    <tr>\n",
              "      <th>32</th>\n",
              "      <td>8</td>\n",
              "      <td>Half Baked Frozen Yogurt</td>\n",
              "      <td>0.014888</td>\n",
              "    </tr>\n",
              "    <tr>\n",
              "      <th>33</th>\n",
              "      <td>9</td>\n",
              "      <td>Half Baked Frozen Yogurt</td>\n",
              "      <td>0.021412</td>\n",
              "    </tr>\n",
              "    <tr>\n",
              "      <th>34</th>\n",
              "      <td>10</td>\n",
              "      <td>Half Baked Frozen Yogurt</td>\n",
              "      <td>0.029441</td>\n",
              "    </tr>\n",
              "    <tr>\n",
              "      <th>35</th>\n",
              "      <td>11</td>\n",
              "      <td>Half Baked Frozen Yogurt</td>\n",
              "      <td>0.033791</td>\n",
              "    </tr>\n",
              "    <tr>\n",
              "      <th>36</th>\n",
              "      <td>12</td>\n",
              "      <td>Half Baked Frozen Yogurt</td>\n",
              "      <td>0.032452</td>\n",
              "    </tr>\n",
              "    <tr>\n",
              "      <th>37</th>\n",
              "      <td>13</td>\n",
              "      <td>Half Baked Frozen Yogurt</td>\n",
              "      <td>0.039311</td>\n",
              "    </tr>\n",
              "    <tr>\n",
              "      <th>38</th>\n",
              "      <td>14</td>\n",
              "      <td>Half Baked Frozen Yogurt</td>\n",
              "      <td>0.042155</td>\n",
              "    </tr>\n",
              "    <tr>\n",
              "      <th>39</th>\n",
              "      <td>15</td>\n",
              "      <td>Half Baked Frozen Yogurt</td>\n",
              "      <td>0.047508</td>\n",
              "    </tr>\n",
              "    <tr>\n",
              "      <th>40</th>\n",
              "      <td>16</td>\n",
              "      <td>Half Baked Frozen Yogurt</td>\n",
              "      <td>0.046002</td>\n",
              "    </tr>\n",
              "    <tr>\n",
              "      <th>41</th>\n",
              "      <td>17</td>\n",
              "      <td>Half Baked Frozen Yogurt</td>\n",
              "      <td>0.042322</td>\n",
              "    </tr>\n",
              "    <tr>\n",
              "      <th>42</th>\n",
              "      <td>18</td>\n",
              "      <td>Half Baked Frozen Yogurt</td>\n",
              "      <td>0.042656</td>\n",
              "    </tr>\n",
              "    <tr>\n",
              "      <th>43</th>\n",
              "      <td>19</td>\n",
              "      <td>Half Baked Frozen Yogurt</td>\n",
              "      <td>0.033121</td>\n",
              "    </tr>\n",
              "    <tr>\n",
              "      <th>44</th>\n",
              "      <td>20</td>\n",
              "      <td>Half Baked Frozen Yogurt</td>\n",
              "      <td>0.024590</td>\n",
              "    </tr>\n",
              "    <tr>\n",
              "      <th>45</th>\n",
              "      <td>21</td>\n",
              "      <td>Half Baked Frozen Yogurt</td>\n",
              "      <td>0.014386</td>\n",
              "    </tr>\n",
              "    <tr>\n",
              "      <th>46</th>\n",
              "      <td>22</td>\n",
              "      <td>Half Baked Frozen Yogurt</td>\n",
              "      <td>0.008197</td>\n",
              "    </tr>\n",
              "    <tr>\n",
              "      <th>47</th>\n",
              "      <td>23</td>\n",
              "      <td>Half Baked Frozen Yogurt</td>\n",
              "      <td>0.006022</td>\n",
              "    </tr>\n",
              "  </tbody>\n",
              "</table>\n",
              "</div>"
            ],
            "text/plain": [
              "    order_hour_of_day                     product_name     value\n",
              "0                   0  Half And Half Ultra Pasteurized  0.001004\n",
              "1                   1  Half And Half Ultra Pasteurized  0.000167\n",
              "2                   2  Half And Half Ultra Pasteurized  0.000167\n",
              "3                   3  Half And Half Ultra Pasteurized  0.000000\n",
              "4                   4  Half And Half Ultra Pasteurized  0.000167\n",
              "5                   5  Half And Half Ultra Pasteurized  0.000669\n",
              "6                   6  Half And Half Ultra Pasteurized  0.004182\n",
              "7                   7  Half And Half Ultra Pasteurized  0.015892\n",
              "8                   8  Half And Half Ultra Pasteurized  0.054031\n",
              "9                   9  Half And Half Ultra Pasteurized  0.080294\n",
              "10                 10  Half And Half Ultra Pasteurized  0.071763\n",
              "11                 11  Half And Half Ultra Pasteurized  0.048846\n",
              "12                 12  Half And Half Ultra Pasteurized  0.033456\n",
              "13                 13  Half And Half Ultra Pasteurized  0.035631\n",
              "14                 14  Half And Half Ultra Pasteurized  0.035965\n",
              "15                 15  Half And Half Ultra Pasteurized  0.037136\n",
              "16                 16  Half And Half Ultra Pasteurized  0.036467\n",
              "17                 17  Half And Half Ultra Pasteurized  0.018568\n",
              "18                 18  Half And Half Ultra Pasteurized  0.009368\n",
              "19                 19  Half And Half Ultra Pasteurized  0.004684\n",
              "20                 20  Half And Half Ultra Pasteurized  0.005353\n",
              "21                 21  Half And Half Ultra Pasteurized  0.003847\n",
              "22                 22  Half And Half Ultra Pasteurized  0.002007\n",
              "23                 23  Half And Half Ultra Pasteurized  0.001338\n",
              "24                  0         Half Baked Frozen Yogurt  0.002676\n",
              "25                  1         Half Baked Frozen Yogurt  0.001338\n",
              "26                  2         Half Baked Frozen Yogurt  0.001338\n",
              "27                  3         Half Baked Frozen Yogurt  0.000502\n",
              "28                  4         Half Baked Frozen Yogurt  0.000335\n",
              "29                  5         Half Baked Frozen Yogurt  0.001673\n",
              "30                  6         Half Baked Frozen Yogurt  0.003011\n",
              "31                  7         Half Baked Frozen Yogurt  0.009870\n",
              "32                  8         Half Baked Frozen Yogurt  0.014888\n",
              "33                  9         Half Baked Frozen Yogurt  0.021412\n",
              "34                 10         Half Baked Frozen Yogurt  0.029441\n",
              "35                 11         Half Baked Frozen Yogurt  0.033791\n",
              "36                 12         Half Baked Frozen Yogurt  0.032452\n",
              "37                 13         Half Baked Frozen Yogurt  0.039311\n",
              "38                 14         Half Baked Frozen Yogurt  0.042155\n",
              "39                 15         Half Baked Frozen Yogurt  0.047508\n",
              "40                 16         Half Baked Frozen Yogurt  0.046002\n",
              "41                 17         Half Baked Frozen Yogurt  0.042322\n",
              "42                 18         Half Baked Frozen Yogurt  0.042656\n",
              "43                 19         Half Baked Frozen Yogurt  0.033121\n",
              "44                 20         Half Baked Frozen Yogurt  0.024590\n",
              "45                 21         Half Baked Frozen Yogurt  0.014386\n",
              "46                 22         Half Baked Frozen Yogurt  0.008197\n",
              "47                 23         Half Baked Frozen Yogurt  0.006022"
            ]
          },
          "metadata": {
            "tags": []
          },
          "execution_count": 22
        }
      ]
    },
    {
      "metadata": {
        "id": "gHDaLmVBkH3j",
        "colab_type": "text"
      },
      "cell_type": "markdown",
      "source": [
        "# ASSIGNMENT\n",
        "- Replicate the lesson code\n",
        "- Complete the code cells we skipped near the beginning of the notebook\n",
        "  - Table 2 --> Tidy\n",
        "  - Tidy --> Table 2"
      ]
    },
    {
      "metadata": {
        "id": "cf5Fs-3-kH3k",
        "colab_type": "text"
      },
      "cell_type": "markdown",
      "source": [
        "- Load seaborn's `flights` dataset by running the cell below. Then create a pivot table showing the number of passengers by month and year. Use year for the index and month for the columns. You've done it right if you get 112 passengers for January 1949 and 432 passengers for December 1960."
      ]
    },
    {
      "metadata": {
        "id": "I-lJ8wHhkH3k",
        "colab_type": "code",
        "colab": {}
      },
      "cell_type": "code",
      "source": [
        "flights = sns.load_dataset('flights')"
      ],
      "execution_count": 0,
      "outputs": []
    },
    {
      "metadata": {
        "id": "Exs8zpP7kH3m",
        "colab_type": "code",
        "outputId": "4b375ae1-1225-4c29-de0f-2c0ab593bb97",
        "colab": {
          "base_uri": "https://localhost:8080/",
          "height": 204
        }
      },
      "cell_type": "code",
      "source": [
        "flights.head()"
      ],
      "execution_count": 24,
      "outputs": [
        {
          "output_type": "execute_result",
          "data": {
            "text/html": [
              "<div>\n",
              "<style scoped>\n",
              "    .dataframe tbody tr th:only-of-type {\n",
              "        vertical-align: middle;\n",
              "    }\n",
              "\n",
              "    .dataframe tbody tr th {\n",
              "        vertical-align: top;\n",
              "    }\n",
              "\n",
              "    .dataframe thead th {\n",
              "        text-align: right;\n",
              "    }\n",
              "</style>\n",
              "<table border=\"1\" class=\"dataframe\">\n",
              "  <thead>\n",
              "    <tr style=\"text-align: right;\">\n",
              "      <th></th>\n",
              "      <th>year</th>\n",
              "      <th>month</th>\n",
              "      <th>passengers</th>\n",
              "    </tr>\n",
              "  </thead>\n",
              "  <tbody>\n",
              "    <tr>\n",
              "      <th>0</th>\n",
              "      <td>1949</td>\n",
              "      <td>January</td>\n",
              "      <td>112</td>\n",
              "    </tr>\n",
              "    <tr>\n",
              "      <th>1</th>\n",
              "      <td>1949</td>\n",
              "      <td>February</td>\n",
              "      <td>118</td>\n",
              "    </tr>\n",
              "    <tr>\n",
              "      <th>2</th>\n",
              "      <td>1949</td>\n",
              "      <td>March</td>\n",
              "      <td>132</td>\n",
              "    </tr>\n",
              "    <tr>\n",
              "      <th>3</th>\n",
              "      <td>1949</td>\n",
              "      <td>April</td>\n",
              "      <td>129</td>\n",
              "    </tr>\n",
              "    <tr>\n",
              "      <th>4</th>\n",
              "      <td>1949</td>\n",
              "      <td>May</td>\n",
              "      <td>121</td>\n",
              "    </tr>\n",
              "  </tbody>\n",
              "</table>\n",
              "</div>"
            ],
            "text/plain": [
              "   year     month  passengers\n",
              "0  1949   January         112\n",
              "1  1949  February         118\n",
              "2  1949     March         132\n",
              "3  1949     April         129\n",
              "4  1949       May         121"
            ]
          },
          "metadata": {
            "tags": []
          },
          "execution_count": 24
        }
      ]
    },
    {
      "metadata": {
        "id": "6WfAxaNpgpGb",
        "colab_type": "code",
        "outputId": "3f5b5a3e-12c0-4f6e-b098-ca3d09a9b68f",
        "colab": {
          "base_uri": "https://localhost:8080/",
          "height": 452
        }
      },
      "cell_type": "code",
      "source": [
        "# Pivot table showing number of passengers by month and year\n",
        "flights.pivot_table(index ='year', columns = 'month', values='passengers')"
      ],
      "execution_count": 25,
      "outputs": [
        {
          "output_type": "execute_result",
          "data": {
            "text/html": [
              "<div>\n",
              "<style scoped>\n",
              "    .dataframe tbody tr th:only-of-type {\n",
              "        vertical-align: middle;\n",
              "    }\n",
              "\n",
              "    .dataframe tbody tr th {\n",
              "        vertical-align: top;\n",
              "    }\n",
              "\n",
              "    .dataframe thead th {\n",
              "        text-align: right;\n",
              "    }\n",
              "</style>\n",
              "<table border=\"1\" class=\"dataframe\">\n",
              "  <thead>\n",
              "    <tr style=\"text-align: right;\">\n",
              "      <th>month</th>\n",
              "      <th>January</th>\n",
              "      <th>February</th>\n",
              "      <th>March</th>\n",
              "      <th>April</th>\n",
              "      <th>May</th>\n",
              "      <th>June</th>\n",
              "      <th>July</th>\n",
              "      <th>August</th>\n",
              "      <th>September</th>\n",
              "      <th>October</th>\n",
              "      <th>November</th>\n",
              "      <th>December</th>\n",
              "    </tr>\n",
              "    <tr>\n",
              "      <th>year</th>\n",
              "      <th></th>\n",
              "      <th></th>\n",
              "      <th></th>\n",
              "      <th></th>\n",
              "      <th></th>\n",
              "      <th></th>\n",
              "      <th></th>\n",
              "      <th></th>\n",
              "      <th></th>\n",
              "      <th></th>\n",
              "      <th></th>\n",
              "      <th></th>\n",
              "    </tr>\n",
              "  </thead>\n",
              "  <tbody>\n",
              "    <tr>\n",
              "      <th>1949</th>\n",
              "      <td>112</td>\n",
              "      <td>118</td>\n",
              "      <td>132</td>\n",
              "      <td>129</td>\n",
              "      <td>121</td>\n",
              "      <td>135</td>\n",
              "      <td>148</td>\n",
              "      <td>148</td>\n",
              "      <td>136</td>\n",
              "      <td>119</td>\n",
              "      <td>104</td>\n",
              "      <td>118</td>\n",
              "    </tr>\n",
              "    <tr>\n",
              "      <th>1950</th>\n",
              "      <td>115</td>\n",
              "      <td>126</td>\n",
              "      <td>141</td>\n",
              "      <td>135</td>\n",
              "      <td>125</td>\n",
              "      <td>149</td>\n",
              "      <td>170</td>\n",
              "      <td>170</td>\n",
              "      <td>158</td>\n",
              "      <td>133</td>\n",
              "      <td>114</td>\n",
              "      <td>140</td>\n",
              "    </tr>\n",
              "    <tr>\n",
              "      <th>1951</th>\n",
              "      <td>145</td>\n",
              "      <td>150</td>\n",
              "      <td>178</td>\n",
              "      <td>163</td>\n",
              "      <td>172</td>\n",
              "      <td>178</td>\n",
              "      <td>199</td>\n",
              "      <td>199</td>\n",
              "      <td>184</td>\n",
              "      <td>162</td>\n",
              "      <td>146</td>\n",
              "      <td>166</td>\n",
              "    </tr>\n",
              "    <tr>\n",
              "      <th>1952</th>\n",
              "      <td>171</td>\n",
              "      <td>180</td>\n",
              "      <td>193</td>\n",
              "      <td>181</td>\n",
              "      <td>183</td>\n",
              "      <td>218</td>\n",
              "      <td>230</td>\n",
              "      <td>242</td>\n",
              "      <td>209</td>\n",
              "      <td>191</td>\n",
              "      <td>172</td>\n",
              "      <td>194</td>\n",
              "    </tr>\n",
              "    <tr>\n",
              "      <th>1953</th>\n",
              "      <td>196</td>\n",
              "      <td>196</td>\n",
              "      <td>236</td>\n",
              "      <td>235</td>\n",
              "      <td>229</td>\n",
              "      <td>243</td>\n",
              "      <td>264</td>\n",
              "      <td>272</td>\n",
              "      <td>237</td>\n",
              "      <td>211</td>\n",
              "      <td>180</td>\n",
              "      <td>201</td>\n",
              "    </tr>\n",
              "    <tr>\n",
              "      <th>1954</th>\n",
              "      <td>204</td>\n",
              "      <td>188</td>\n",
              "      <td>235</td>\n",
              "      <td>227</td>\n",
              "      <td>234</td>\n",
              "      <td>264</td>\n",
              "      <td>302</td>\n",
              "      <td>293</td>\n",
              "      <td>259</td>\n",
              "      <td>229</td>\n",
              "      <td>203</td>\n",
              "      <td>229</td>\n",
              "    </tr>\n",
              "    <tr>\n",
              "      <th>1955</th>\n",
              "      <td>242</td>\n",
              "      <td>233</td>\n",
              "      <td>267</td>\n",
              "      <td>269</td>\n",
              "      <td>270</td>\n",
              "      <td>315</td>\n",
              "      <td>364</td>\n",
              "      <td>347</td>\n",
              "      <td>312</td>\n",
              "      <td>274</td>\n",
              "      <td>237</td>\n",
              "      <td>278</td>\n",
              "    </tr>\n",
              "    <tr>\n",
              "      <th>1956</th>\n",
              "      <td>284</td>\n",
              "      <td>277</td>\n",
              "      <td>317</td>\n",
              "      <td>313</td>\n",
              "      <td>318</td>\n",
              "      <td>374</td>\n",
              "      <td>413</td>\n",
              "      <td>405</td>\n",
              "      <td>355</td>\n",
              "      <td>306</td>\n",
              "      <td>271</td>\n",
              "      <td>306</td>\n",
              "    </tr>\n",
              "    <tr>\n",
              "      <th>1957</th>\n",
              "      <td>315</td>\n",
              "      <td>301</td>\n",
              "      <td>356</td>\n",
              "      <td>348</td>\n",
              "      <td>355</td>\n",
              "      <td>422</td>\n",
              "      <td>465</td>\n",
              "      <td>467</td>\n",
              "      <td>404</td>\n",
              "      <td>347</td>\n",
              "      <td>305</td>\n",
              "      <td>336</td>\n",
              "    </tr>\n",
              "    <tr>\n",
              "      <th>1958</th>\n",
              "      <td>340</td>\n",
              "      <td>318</td>\n",
              "      <td>362</td>\n",
              "      <td>348</td>\n",
              "      <td>363</td>\n",
              "      <td>435</td>\n",
              "      <td>491</td>\n",
              "      <td>505</td>\n",
              "      <td>404</td>\n",
              "      <td>359</td>\n",
              "      <td>310</td>\n",
              "      <td>337</td>\n",
              "    </tr>\n",
              "    <tr>\n",
              "      <th>1959</th>\n",
              "      <td>360</td>\n",
              "      <td>342</td>\n",
              "      <td>406</td>\n",
              "      <td>396</td>\n",
              "      <td>420</td>\n",
              "      <td>472</td>\n",
              "      <td>548</td>\n",
              "      <td>559</td>\n",
              "      <td>463</td>\n",
              "      <td>407</td>\n",
              "      <td>362</td>\n",
              "      <td>405</td>\n",
              "    </tr>\n",
              "    <tr>\n",
              "      <th>1960</th>\n",
              "      <td>417</td>\n",
              "      <td>391</td>\n",
              "      <td>419</td>\n",
              "      <td>461</td>\n",
              "      <td>472</td>\n",
              "      <td>535</td>\n",
              "      <td>622</td>\n",
              "      <td>606</td>\n",
              "      <td>508</td>\n",
              "      <td>461</td>\n",
              "      <td>390</td>\n",
              "      <td>432</td>\n",
              "    </tr>\n",
              "  </tbody>\n",
              "</table>\n",
              "</div>"
            ],
            "text/plain": [
              "month  January  February  March  April  May  June  July  August  September  \\\n",
              "year                                                                         \n",
              "1949       112       118    132    129  121   135   148     148        136   \n",
              "1950       115       126    141    135  125   149   170     170        158   \n",
              "1951       145       150    178    163  172   178   199     199        184   \n",
              "1952       171       180    193    181  183   218   230     242        209   \n",
              "1953       196       196    236    235  229   243   264     272        237   \n",
              "1954       204       188    235    227  234   264   302     293        259   \n",
              "1955       242       233    267    269  270   315   364     347        312   \n",
              "1956       284       277    317    313  318   374   413     405        355   \n",
              "1957       315       301    356    348  355   422   465     467        404   \n",
              "1958       340       318    362    348  363   435   491     505        404   \n",
              "1959       360       342    406    396  420   472   548     559        463   \n",
              "1960       417       391    419    461  472   535   622     606        508   \n",
              "\n",
              "month  October  November  December  \n",
              "year                                \n",
              "1949       119       104       118  \n",
              "1950       133       114       140  \n",
              "1951       162       146       166  \n",
              "1952       191       172       194  \n",
              "1953       211       180       201  \n",
              "1954       229       203       229  \n",
              "1955       274       237       278  \n",
              "1956       306       271       306  \n",
              "1957       347       305       336  \n",
              "1958       359       310       337  \n",
              "1959       407       362       405  \n",
              "1960       461       390       432  "
            ]
          },
          "metadata": {
            "tags": []
          },
          "execution_count": 25
        }
      ]
    },
    {
      "metadata": {
        "id": "5OrgJqt6hi5r",
        "colab_type": "code",
        "colab": {}
      },
      "cell_type": "code",
      "source": [
        "flight_pivot = flights.pivot_table(index ='year', columns = 'month', values='passengers' )"
      ],
      "execution_count": 0,
      "outputs": []
    },
    {
      "metadata": {
        "id": "GO1cXgfJhtjt",
        "colab_type": "code",
        "outputId": "9d4df10e-8533-404c-d0f7-e4147b29ea50",
        "colab": {
          "base_uri": "https://localhost:8080/",
          "height": 609
        }
      },
      "cell_type": "code",
      "source": [
        "# Classic heatmap use case!\n",
        "# We can see the increase in flights during the summer months and the increase in flights year over year\n",
        "\n",
        "import matplotlib.pyplot as plt\n",
        "\n",
        "fig, ax = plt.subplots(figsize=(20,10))\n",
        "\n",
        "sns.heatmap(data=flight_pivot, cmap=\"YlGnBu\");"
      ],
      "execution_count": 27,
      "outputs": [
        {
          "output_type": "display_data",
          "data": {
            "image/png": "[encoded data removed]",
            "text/plain": [
              "<Figure size 1440x720 with 2 Axes>"
            ]
          },
          "metadata": {
            "tags": []
          }
        }
      ]
    },
    {
      "metadata": {
        "id": "L93MbpVvkH3n",
        "colab_type": "text"
      },
      "cell_type": "markdown",
      "source": [
        "# STRETCH OPTIONS\n",
        "\n",
        "_Try whatever sounds most interesting to you!_\n",
        "\n",
        "- Replicate more of Instacart's visualization showing \"Hour of Day Ordered\" vs \"Percent of Orders by Product\"\n",
        "- Replicate parts of the other visualization from [Instacart's blog post](https://tech.instacart.com/3-million-instacart-orders-open-sourced-d40d29ead6f2), showing \"Number of Purchases\" vs \"Percent Reorder Purchases\"\n",
        "- Get the most recent order for each user in Instacart's dataset. This is a useful baseline when [predicting a user's next order](https://www.kaggle.com/c/instacart-market-basket-analysis)\n",
        "- Replicate parts of the blog post linked at the top of this notebook: [Modern Pandas, Part 5: Tidy Data](https://tomaugspurger.github.io/modern-5-tidy.html)"
      ]
    },
    {
      "metadata": {
        "id": "9--9zcqAIPBr",
        "colab_type": "text"
      },
      "cell_type": "markdown",
      "source": [
        "## Stretch Goal"
      ]
    },
    {
      "metadata": {
        "id": "fEHVjWF5IR7A",
        "colab_type": "text"
      },
      "cell_type": "markdown",
      "source": [
        "For my first stretch goal, I will attempt to reproduce the other visualization on the Instacart blog post."
      ]
    },
    {
      "metadata": {
        "id": "4IfCK5EtIaDB",
        "colab_type": "text"
      },
      "cell_type": "markdown",
      "source": [
        "![alt text](https://cdn-images-1.medium.com/max/1200/1*jwDcKJTXV8D1DK0KOlUJAQ.png)"
      ]
    },
    {
      "metadata": {
        "id": "1WPvuKD1ImBF",
        "colab_type": "text"
      },
      "cell_type": "markdown",
      "source": [
        "To obtain the data for 'Percent Reorder Purchases' and 'Number of Purchases' we will need the following features:\n",
        "- **product_name**\n",
        "- **reordered**\n",
        "\n",
        "The data is plotted by department, so we will also need to grab the **department** feature."
      ]
    },
    {
      "metadata": {
        "id": "8ag44ejdjcCx",
        "colab_type": "code",
        "outputId": "246dea99-493a-4c44-ae1f-4fac94c1b18e",
        "colab": {
          "base_uri": "https://localhost:8080/",
          "height": 34
        }
      },
      "cell_type": "code",
      "source": [
        "# Checking the headers of all csv_files for the features noted above\n",
        "products.columns.tolist()"
      ],
      "execution_count": 28,
      "outputs": [
        {
          "output_type": "execute_result",
          "data": {
            "text/plain": [
              "['product_id', 'product_name', 'aisle_id', 'department_id']"
            ]
          },
          "metadata": {
            "tags": []
          },
          "execution_count": 28
        }
      ]
    },
    {
      "metadata": {
        "id": "3LqtcbfOjcFK",
        "colab_type": "code",
        "outputId": "f55a426e-da5c-4c05-f19d-9653d3152bd7",
        "colab": {
          "base_uri": "https://localhost:8080/",
          "height": 34
        }
      },
      "cell_type": "code",
      "source": [
        "order_products.columns.tolist()"
      ],
      "execution_count": 29,
      "outputs": [
        {
          "output_type": "execute_result",
          "data": {
            "text/plain": [
              "['order_id', 'product_id', 'add_to_cart_order', 'reordered']"
            ]
          },
          "metadata": {
            "tags": []
          },
          "execution_count": 29
        }
      ]
    },
    {
      "metadata": {
        "id": "FSJuX68I3P7i",
        "colab_type": "code",
        "colab": {
          "base_uri": "https://localhost:8080/",
          "height": 34
        },
        "outputId": "2bb1b0e0-d79d-4b22-fd0c-bd5bf8abbe6b"
      },
      "cell_type": "code",
      "source": [
        "department.columns.tolist()"
      ],
      "execution_count": 30,
      "outputs": [
        {
          "output_type": "execute_result",
          "data": {
            "text/plain": [
              "['department_id', 'department']"
            ]
          },
          "metadata": {
            "tags": []
          },
          "execution_count": 30
        }
      ]
    },
    {
      "metadata": {
        "id": "TQ68EaCwJlL0",
        "colab_type": "text"
      },
      "cell_type": "markdown",
      "source": [
        "Now that we have the dataframes we need, lets create a new dataframe by merging on the features they share in common."
      ]
    },
    {
      "metadata": {
        "id": "hMzZltRGjcHU",
        "colab_type": "code",
        "colab": {}
      },
      "cell_type": "code",
      "source": [
        "merged = (products[['product_id', 'product_name','department_id']]\n",
        "          .merge(order_products[['product_id','reordered']])\n",
        "         .merge(department[['department_id','department']]))"
      ],
      "execution_count": 0,
      "outputs": []
    },
    {
      "metadata": {
        "id": "fXzRgMnzFjs1",
        "colab_type": "code",
        "colab": {
          "base_uri": "https://localhost:8080/",
          "height": 204
        },
        "outputId": "f2f9a52b-485d-453a-8d17-b5bfd4758d87"
      },
      "cell_type": "code",
      "source": [
        "# Check - Everything looks good!\n",
        "merged.head()"
      ],
      "execution_count": 32,
      "outputs": [
        {
          "output_type": "execute_result",
          "data": {
            "text/html": [
              "<div>\n",
              "<style scoped>\n",
              "    .dataframe tbody tr th:only-of-type {\n",
              "        vertical-align: middle;\n",
              "    }\n",
              "\n",
              "    .dataframe tbody tr th {\n",
              "        vertical-align: top;\n",
              "    }\n",
              "\n",
              "    .dataframe thead th {\n",
              "        text-align: right;\n",
              "    }\n",
              "</style>\n",
              "<table border=\"1\" class=\"dataframe\">\n",
              "  <thead>\n",
              "    <tr style=\"text-align: right;\">\n",
              "      <th></th>\n",
              "      <th>product_id</th>\n",
              "      <th>product_name</th>\n",
              "      <th>department_id</th>\n",
              "      <th>reordered</th>\n",
              "      <th>department</th>\n",
              "    </tr>\n",
              "  </thead>\n",
              "  <tbody>\n",
              "    <tr>\n",
              "      <th>0</th>\n",
              "      <td>1</td>\n",
              "      <td>Chocolate Sandwich Cookies</td>\n",
              "      <td>19</td>\n",
              "      <td>0</td>\n",
              "      <td>snacks</td>\n",
              "    </tr>\n",
              "    <tr>\n",
              "      <th>1</th>\n",
              "      <td>1</td>\n",
              "      <td>Chocolate Sandwich Cookies</td>\n",
              "      <td>19</td>\n",
              "      <td>1</td>\n",
              "      <td>snacks</td>\n",
              "    </tr>\n",
              "    <tr>\n",
              "      <th>2</th>\n",
              "      <td>1</td>\n",
              "      <td>Chocolate Sandwich Cookies</td>\n",
              "      <td>19</td>\n",
              "      <td>1</td>\n",
              "      <td>snacks</td>\n",
              "    </tr>\n",
              "    <tr>\n",
              "      <th>3</th>\n",
              "      <td>1</td>\n",
              "      <td>Chocolate Sandwich Cookies</td>\n",
              "      <td>19</td>\n",
              "      <td>0</td>\n",
              "      <td>snacks</td>\n",
              "    </tr>\n",
              "    <tr>\n",
              "      <th>4</th>\n",
              "      <td>1</td>\n",
              "      <td>Chocolate Sandwich Cookies</td>\n",
              "      <td>19</td>\n",
              "      <td>0</td>\n",
              "      <td>snacks</td>\n",
              "    </tr>\n",
              "  </tbody>\n",
              "</table>\n",
              "</div>"
            ],
            "text/plain": [
              "   product_id                product_name  department_id  reordered department\n",
              "0           1  Chocolate Sandwich Cookies             19          0     snacks\n",
              "1           1  Chocolate Sandwich Cookies             19          1     snacks\n",
              "2           1  Chocolate Sandwich Cookies             19          1     snacks\n",
              "3           1  Chocolate Sandwich Cookies             19          0     snacks\n",
              "4           1  Chocolate Sandwich Cookies             19          0     snacks"
            ]
          },
          "metadata": {
            "tags": []
          },
          "execution_count": 32
        }
      ]
    },
    {
      "metadata": {
        "id": "V1LfrfGcKTiv",
        "colab_type": "text"
      },
      "cell_type": "markdown",
      "source": [
        "We will use the groupby function to aggregate the mean and total count of the reorder column for each department in our database."
      ]
    },
    {
      "metadata": {
        "id": "iX8bpWmlxHqB",
        "colab_type": "code",
        "colab": {}
      },
      "cell_type": "code",
      "source": [
        "reordered = (merged\n",
        "            .groupby('department')\n",
        "            .reordered.agg(['mean','count'])\n",
        "            .rename(columns={'mean':'Percent Reorder Purchases', 'count':'Number of Purchases'})\n",
        "            .reset_index())"
      ],
      "execution_count": 0,
      "outputs": []
    },
    {
      "metadata": {
        "id": "67oUE1-iCv8I",
        "colab_type": "code",
        "colab": {
          "base_uri": "https://localhost:8080/",
          "height": 204
        },
        "outputId": "1fe1c17c-5774-4f06-df44-6c05a49bea62"
      },
      "cell_type": "code",
      "source": [
        "# Check - it looks good!\n",
        "reordered.head()"
      ],
      "execution_count": 34,
      "outputs": [
        {
          "output_type": "execute_result",
          "data": {
            "text/html": [
              "<div>\n",
              "<style scoped>\n",
              "    .dataframe tbody tr th:only-of-type {\n",
              "        vertical-align: middle;\n",
              "    }\n",
              "\n",
              "    .dataframe tbody tr th {\n",
              "        vertical-align: top;\n",
              "    }\n",
              "\n",
              "    .dataframe thead th {\n",
              "        text-align: right;\n",
              "    }\n",
              "</style>\n",
              "<table border=\"1\" class=\"dataframe\">\n",
              "  <thead>\n",
              "    <tr style=\"text-align: right;\">\n",
              "      <th></th>\n",
              "      <th>department</th>\n",
              "      <th>Percent Reorder Purchases</th>\n",
              "      <th>Number of Purchases</th>\n",
              "    </tr>\n",
              "  </thead>\n",
              "  <tbody>\n",
              "    <tr>\n",
              "      <th>0</th>\n",
              "      <td>alcohol</td>\n",
              "      <td>0.571221</td>\n",
              "      <td>159294</td>\n",
              "    </tr>\n",
              "    <tr>\n",
              "      <th>1</th>\n",
              "      <td>babies</td>\n",
              "      <td>0.577680</td>\n",
              "      <td>438743</td>\n",
              "    </tr>\n",
              "    <tr>\n",
              "      <th>2</th>\n",
              "      <td>bakery</td>\n",
              "      <td>0.628381</td>\n",
              "      <td>1225181</td>\n",
              "    </tr>\n",
              "    <tr>\n",
              "      <th>3</th>\n",
              "      <td>beverages</td>\n",
              "      <td>0.653651</td>\n",
              "      <td>2804175</td>\n",
              "    </tr>\n",
              "    <tr>\n",
              "      <th>4</th>\n",
              "      <td>breakfast</td>\n",
              "      <td>0.561351</td>\n",
              "      <td>739069</td>\n",
              "    </tr>\n",
              "  </tbody>\n",
              "</table>\n",
              "</div>"
            ],
            "text/plain": [
              "  department  Percent Reorder Purchases  Number of Purchases\n",
              "0    alcohol                   0.571221               159294\n",
              "1     babies                   0.577680               438743\n",
              "2     bakery                   0.628381              1225181\n",
              "3  beverages                   0.653651              2804175\n",
              "4  breakfast                   0.561351               739069"
            ]
          },
          "metadata": {
            "tags": []
          },
          "execution_count": 34
        }
      ]
    },
    {
      "metadata": {
        "id": "YlWYbTBHL-R4",
        "colab_type": "text"
      },
      "cell_type": "markdown",
      "source": [
        "# Final Plot\n",
        "\n",
        "The plot from the website (pictured above) is not ideal for two reasons:\n",
        "- The text-markers make it difficult to see the departments that are aggregated on the left.\n",
        "- The log scale can be misleading for the not-so mathematically minded people that may find this information useful.\n",
        "\n",
        "I have replaced the text-markers with circles that are color coordinated and which reveal the associated department when the cursor is hovered over the marker. Now each department marker is easier to discern for the plots end user. With the logarithm scale taken out, it is visibly apparent how much produce is purchased over all other departments. "
      ]
    },
    {
      "metadata": {
        "id": "hURhWbss6qiC",
        "colab_type": "code",
        "colab": {
          "base_uri": "https://localhost:8080/",
          "height": 472
        },
        "outputId": "880e9b64-eac1-4056-da3b-65d382c0b26a"
      },
      "cell_type": "code",
      "source": [
        "import altair as alt\n",
        "\n",
        "alt.Chart(reordered,height=400,width=700).mark_circle(size=100).encode(\n",
        "    x='Number of Purchases',\n",
        "    y='Percent Reorder Purchases',\n",
        "    tooltip='department',\n",
        "    color='department',\n",
        "    \n",
        "    \n",
        ").interactive()"
      ],
      "execution_count": 35,
      "outputs": [
        {
          "output_type": "execute_result",
          "data": {
            "text/plain": [
              "Chart({\n",
              "  data:          department  Percent Reorder Purchases  Number of Purchases\n",
              "  0           alcohol                   0.571221               159294\n",
              "  1            babies                   0.577680               438743\n",
              "  2            bakery                   0.628381              1225181\n",
              "  3         beverages                   0.653651              2804175\n",
              "  4         breakfast                   0.561351               739069\n",
              "  5              bulk                   0.577090                35932\n",
              "  6      canned goods                   0.458639              1114857\n",
              "  7        dairy eggs                   0.670161              5631067\n",
              "  8              deli                   0.608130              1095540\n",
              "  9   dry goods pasta                   0.462220               905340\n",
              "  10           frozen                   0.542634              2336858\n",
              "  11        household                   0.403339               774652\n",
              "  12    international                   0.369682               281155\n",
              "  13     meat seafood                   0.568625               739238\n",
              "  14          missing                   0.394323                77396\n",
              "  15            other                   0.407052                38086\n",
              "  16           pantry                   0.347400              1956819\n",
              "  17    personal care                   0.321863               468693\n",
              "  18             pets                   0.602557               102221\n",
              "  19          produce                   0.650521              9888378\n",
              "  20           snacks                   0.574464              3006412,\n",
              "  encoding: EncodingWithFacet({\n",
              "    color: Color({\n",
              "      shorthand: 'department'\n",
              "    }),\n",
              "    tooltip: Tooltip({\n",
              "      shorthand: 'department'\n",
              "    }),\n",
              "    x: X({\n",
              "      shorthand: 'Number of Purchases'\n",
              "    }),\n",
              "    y: Y({\n",
              "      shorthand: 'Percent Reorder Purchases'\n",
              "    })\n",
              "  }),\n",
              "  height: 400,\n",
              "  mark: MarkDef({\n",
              "    size: 100,\n",
              "    type: 'circle'\n",
              "  }),\n",
              "  selection: SelectionMapping({\n",
              "    selector001: SelectionDef({\n",
              "      bind: 'scales',\n",
              "      encodings: ['x', 'y'],\n",
              "      type: 'interval'\n",
              "    })\n",
              "  }),\n",
              "  width: 700\n",
              "})"
            ],
            "text/html": [
              "<!DOCTYPE html>\n",
              "<html>\n",
              "<head>\n",
              "  <style>\n",
              "    .vega-actions a {\n",
              "        margin-right: 12px;\n",
              "        color: #757575;\n",
              "        font-weight: normal;\n",
              "        font-size: 13px;\n",
              "    }\n",
              "    .error {\n",
              "        color: red;\n",
              "    }\n",
              "  </style>\n",
              "  <script type=\"text/javascript\" src=\"https://cdn.jsdelivr.net/npm//vega@4\"></script>\n",
              "  <script type=\"text/javascript\" src=\"https://cdn.jsdelivr.net/npm//vega-lite@2.6.0\"></script>\n",
              "  <script type=\"text/javascript\" src=\"https://cdn.jsdelivr.net/npm//vega-embed@3\"></script>\n",
              "</head>\n",
              "<body>\n",
              "  <div id=\"altair-viz\"></div>\n",
              "  <script>\n",
              "      var spec = {\"config\": {\"view\": {\"width\": 400, \"height\": 300}}, \"data\": {\"name\": \"data-9b57b8231c3cd8e4dcfb88148cad01f4\"}, \"mark\": {\"type\": \"circle\", \"size\": 100}, \"encoding\": {\"color\": {\"type\": \"nominal\", \"field\": \"department\"}, \"tooltip\": {\"type\": \"nominal\", \"field\": \"department\"}, \"x\": {\"type\": \"quantitative\", \"field\": \"Number of Purchases\"}, \"y\": {\"type\": \"quantitative\", \"field\": \"Percent Reorder Purchases\"}}, \"height\": 400, \"selection\": {\"selector001\": {\"type\": \"interval\", \"bind\": \"scales\", \"encodings\": [\"x\", \"y\"]}}, \"width\": 700, \"$schema\": \"https://vega.github.io/schema/vega-lite/v2.6.0.json\", \"datasets\": {\"data-9b57b8231c3cd8e4dcfb88148cad01f4\": [{\"department\": \"alcohol\", \"Percent Reorder Purchases\": 0.5712205105025927, \"Number of Purchases\": 159294}, {\"department\": \"babies\", \"Percent Reorder Purchases\": 0.5776798718156188, \"Number of Purchases\": 438743}, {\"department\": \"bakery\", \"Percent Reorder Purchases\": 0.6283806229446914, \"Number of Purchases\": 1225181}, {\"department\": \"beverages\", \"Percent Reorder Purchases\": 0.6536510738452486, \"Number of Purchases\": 2804175}, {\"department\": \"breakfast\", \"Percent Reorder Purchases\": 0.5613508346311373, \"Number of Purchases\": 739069}, {\"department\": \"bulk\", \"Percent Reorder Purchases\": 0.5770900590003339, \"Number of Purchases\": 35932}, {\"department\": \"canned goods\", \"Percent Reorder Purchases\": 0.4586390900357624, \"Number of Purchases\": 1114857}, {\"department\": \"dairy eggs\", \"Percent Reorder Purchases\": 0.6701612678378716, \"Number of Purchases\": 5631067}, {\"department\": \"deli\", \"Percent Reorder Purchases\": 0.6081302371433266, \"Number of Purchases\": 1095540}, {\"department\": \"dry goods pasta\", \"Percent Reorder Purchases\": 0.4622197185587735, \"Number of Purchases\": 905340}, {\"department\": \"frozen\", \"Percent Reorder Purchases\": 0.5426337415452714, \"Number of Purchases\": 2336858}, {\"department\": \"household\", \"Percent Reorder Purchases\": 0.40333853136634257, \"Number of Purchases\": 774652}, {\"department\": \"international\", \"Percent Reorder Purchases\": 0.3696822037666056, \"Number of Purchases\": 281155}, {\"department\": \"meat seafood\", \"Percent Reorder Purchases\": 0.5686247189673691, \"Number of Purchases\": 739238}, {\"department\": \"missing\", \"Percent Reorder Purchases\": 0.3943227040157114, \"Number of Purchases\": 77396}, {\"department\": \"other\", \"Percent Reorder Purchases\": 0.40705246022160374, \"Number of Purchases\": 38086}, {\"department\": \"pantry\", \"Percent Reorder Purchases\": 0.3474000405760574, \"Number of Purchases\": 1956819}, {\"department\": \"personal care\", \"Percent Reorder Purchases\": 0.3218631385576486, \"Number of Purchases\": 468693}, {\"department\": \"pets\", \"Percent Reorder Purchases\": 0.6025572044883145, \"Number of Purchases\": 102221}, {\"department\": \"produce\", \"Percent Reorder Purchases\": 0.650520843762243, \"Number of Purchases\": 9888378}, {\"department\": \"snacks\", \"Percent Reorder Purchases\": 0.5744638459399444, \"Number of Purchases\": 3006412}]}};\n",
              "      var embedOpt = {\"mode\": \"vega-lite\"};\n",
              "\n",
              "      function showError(el, error){\n",
              "          el.innerHTML = ('<div class=\"error\" style=\"color:red;\">'\n",
              "                          + '<p>JavaScript Error: ' + error.message + '</p>'\n",
              "                          + \"<p>This usually means there's a typo in your chart specification. \"\n",
              "                          + \"See the javascript console for the full traceback.</p>\"\n",
              "                          + '</div>');\n",
              "          throw error;\n",
              "      }\n",
              "      const el = document.getElementById('altair-viz');\n",
              "      vegaEmbed(\"#altair-viz\", spec, embedOpt)\n",
              "        .catch(error => showError(el, error));\n",
              "\n",
              "  </script>\n",
              "</body>\n",
              "</html>"
            ]
          },
          "metadata": {
            "tags": []
          },
          "execution_count": 35
        }
      ]
    },
    {
      "metadata": {
        "id": "SZnITSKrBPQM",
        "colab_type": "code",
        "colab": {}
      },
      "cell_type": "code",
      "source": [
        ""
      ],
      "execution_count": 0,
      "outputs": []
    },
    {
      "metadata": {
        "id": "ffB7CYRXjcOO",
        "colab_type": "code",
        "colab": {}
      },
      "cell_type": "code",
      "source": [
        ""
      ],
      "execution_count": 0,
      "outputs": []
    },
    {
      "metadata": {
        "id": "MhjIuiAwjcQK",
        "colab_type": "code",
        "colab": {}
      },
      "cell_type": "code",
      "source": [
        ""
      ],
      "execution_count": 0,
      "outputs": []
    },
    {
      "metadata": {
        "id": "_seRQeVSPRGm",
        "colab_type": "code",
        "colab": {}
      },
      "cell_type": "code",
      "source": [
        ""
      ],
      "execution_count": 0,
      "outputs": []
    },
    {
      "metadata": {
        "id": "1ivXbtjZPUfP",
        "colab_type": "code",
        "colab": {}
      },
      "cell_type": "code",
      "source": [
        ""
      ],
      "execution_count": 0,
      "outputs": []
    },
    {
      "metadata": {
        "id": "XYu1C1PzPYjy",
        "colab_type": "code",
        "colab": {}
      },
      "cell_type": "code",
      "source": [
        ""
      ],
      "execution_count": 0,
      "outputs": []
    },
    {
      "metadata": {
        "id": "-epJ6N8APjJ1",
        "colab_type": "code",
        "colab": {}
      },
      "cell_type": "code",
      "source": [
        ""
      ],
      "execution_count": 0,
      "outputs": []
    },
    {
      "metadata": {
        "id": "3AFL5LGlPkdw",
        "colab_type": "code",
        "colab": {}
      },
      "cell_type": "code",
      "source": [
        ""
      ],
      "execution_count": 0,
      "outputs": []
    }
  ]
}