{
  "nbformat": 4,
  "nbformat_minor": 0,
  "metadata": {
    "colab": {
      "name": "DS_Unit_1_Sprint_Challenge_2_Data_Wrangling_and_Storytelling.ipynb",
      "version": "0.3.2",
      "provenance": [],
      "collapsed_sections": []
    },
    "language_info": {
      "codemirror_mode": {
        "name": "ipython",
        "version": 3
      },
      "file_extension": ".py",
      "mimetype": "text/x-python",
      "name": "python",
      "nbconvert_exporter": "python",
      "pygments_lexer": "ipython3",
      "version": "3.5.2"
    },
    "kernelspec": {
      "display_name": "Python 3",
      "language": "python",
      "name": "python3"
    }
  },
  "cells": [
    {
      "cell_type": "markdown",
      "metadata": {
        "colab_type": "text",
        "id": "4yMHi_PX9hEz"
      },
      "source": [
        "# Data Science Unit 1 Sprint Challenge 2\n",
        "\n",
        "## Data Wrangling and Storytelling\n",
        "\n",
        "Taming data from its raw form into informative insights and stories."
      ]
    },
    {
      "cell_type": "markdown",
      "metadata": {
        "colab_type": "text",
        "id": "9wIvtOss9H_i"
      },
      "source": [
        "## Data Wrangling\n",
        "\n",
        "In this Sprint Challenge you will first \"wrangle\" some data from [Gapminder](https://www.gapminder.org/about-gapminder/), a Swedish non-profit co-founded by Hans Rosling. \"Gapminder produces free teaching resources making the world understandable based on reliable statistics.\"\n",
        "- [Cell phones (total), by country and year](https://raw.githubusercontent.com/open-numbers/ddf--gapminder--systema_globalis/master/ddf--datapoints--cell_phones_total--by--geo--time.csv)\n",
        "- [Population (total), by country and year](https://raw.githubusercontent.com/open-numbers/ddf--gapminder--systema_globalis/master/ddf--datapoints--population_total--by--geo--time.csv)\n",
        "- [Geo country codes](https://github.com/open-numbers/ddf--gapminder--systema_globalis/blob/master/ddf--entities--geo--country.csv)\n",
        "\n",
        "These two links have everything you need to successfully complete the first part of this sprint challenge.\n",
        "- [Pandas documentation: Working with Text Data](https://pandas.pydata.org/pandas-docs/stable/text.html) (one question)\n",
        "- [Pandas Cheat Sheet](https://github.com/pandas-dev/pandas/blob/master/doc/cheatsheet/Pandas_Cheat_Sheet.pdf) (everything else)"
      ]
    },
    {
      "cell_type": "markdown",
      "metadata": {
        "colab_type": "text",
        "id": "wWEU2GemX68A"
      },
      "source": [
        "### Part 0. Load data\n",
        "\n",
        "You don't need to add or change anything here. Just run this cell and it loads the data for you, into three dataframes."
      ]
    },
    {
      "cell_type": "code",
      "metadata": {
        "colab_type": "code",
        "id": "bxKtSi5sRQOl",
        "colab": {}
      },
      "source": [
        "import pandas as pd\n",
        "\n",
        "cell_phones = pd.read_csv('https://raw.githubusercontent.com/open-numbers/ddf--gapminder--systema_globalis/master/ddf--datapoints--cell_phones_total--by--geo--time.csv')\n",
        "\n",
        "population = pd.read_csv('https://raw.githubusercontent.com/open-numbers/ddf--gapminder--systema_globalis/master/ddf--datapoints--population_total--by--geo--time.csv')\n",
        "\n",
        "geo_country_codes = (pd.read_csv('https://raw.githubusercontent.com/open-numbers/ddf--gapminder--systema_globalis/master/ddf--entities--geo--country.csv')\n",
        "                       .rename(columns={'country': 'geo', 'name': 'country'}))"
      ],
      "execution_count": 0,
      "outputs": []
    },
    {
      "cell_type": "markdown",
      "metadata": {
        "colab_type": "text",
        "id": "AZmVTeCsX9RC"
      },
      "source": [
        "### Part 1. Join data"
      ]
    },
    {
      "cell_type": "markdown",
      "metadata": {
        "colab_type": "text",
        "id": "GLzX58u4SfEy"
      },
      "source": [
        "First, join the `cell_phones` and `population` dataframes (with an inner join on `geo` and `time`).\n",
        "\n",
        "The resulting dataframe's shape should be: (8590, 4)"
      ]
    },
    {
      "cell_type": "code",
      "metadata": {
        "colab_type": "code",
        "id": "GVV7Hnj4SXBa",
        "colab": {}
      },
      "source": [
        "df = pd.merge(cell_phones, population)\n",
        "\n",
        "assert df.shape == (8590, 4)"
      ],
      "execution_count": 0,
      "outputs": []
    },
    {
      "cell_type": "markdown",
      "metadata": {
        "colab_type": "text",
        "id": "xsXpDbwwW241"
      },
      "source": [
        "Then, select the `geo` and `country` columns from the `geo_country_codes` dataframe, and join with your population and cell phone data.\n",
        "\n",
        "The resulting dataframe's shape should be: (8590, 5)"
      ]
    },
    {
      "cell_type": "code",
      "metadata": {
        "colab_type": "code",
        "id": "Q2LaZta_W2CE",
        "colab": {}
      },
      "source": [
        "df = pd.merge(df, geo_country_codes[['geo', 'country']])\n",
        "\n",
        "assert df.shape == (8590, 5)"
      ],
      "execution_count": 0,
      "outputs": []
    },
    {
      "cell_type": "markdown",
      "metadata": {
        "colab_type": "text",
        "id": "LxCJMpbk8jy6"
      },
      "source": [
        "***Optional bonus for Part 1: Take initiative to join more data.***"
      ]
    },
    {
      "cell_type": "markdown",
      "metadata": {
        "colab_type": "text",
        "id": "oK96Uj7vYjFX"
      },
      "source": [
        "### Part 2. Make features"
      ]
    },
    {
      "cell_type": "markdown",
      "metadata": {
        "colab_type": "text",
        "id": "AD2fBNrOYzCG"
      },
      "source": [
        "Calculate the number of cell phones per person, and add this column onto your dataframe.\n",
        "\n",
        "(You've calculated correctly if you get 1.220 cell phones per person in the United States in 2017.)"
      ]
    },
    {
      "cell_type": "code",
      "metadata": {
        "colab_type": "code",
        "id": "wXI9nQthYnFK",
        "colab": {
          "base_uri": "https://localhost:8080/",
          "height": 80
        },
        "outputId": "d6d24aa7-c4f5-40cd-cf0e-69b00f373f35"
      },
      "source": [
        "df['cell_phones_pp'] = df['cell_phones_total'] / df['population_total']\n",
        "\n",
        "df_test = df[(df['geo'] == 'usa') & (df['time'] == 2017)]\n",
        "\n",
        "df_test"
      ],
      "execution_count": 189,
      "outputs": [
        {
          "output_type": "execute_result",
          "data": {
            "text/html": [
              "<div>\n",
              "<style scoped>\n",
              "    .dataframe tbody tr th:only-of-type {\n",
              "        vertical-align: middle;\n",
              "    }\n",
              "\n",
              "    .dataframe tbody tr th {\n",
              "        vertical-align: top;\n",
              "    }\n",
              "\n",
              "    .dataframe thead th {\n",
              "        text-align: right;\n",
              "    }\n",
              "</style>\n",
              "<table border=\"1\" class=\"dataframe\">\n",
              "  <thead>\n",
              "    <tr style=\"text-align: right;\">\n",
              "      <th></th>\n",
              "      <th>geo</th>\n",
              "      <th>time</th>\n",
              "      <th>cell_phones_total</th>\n",
              "      <th>population_total</th>\n",
              "      <th>country</th>\n",
              "      <th>cell_phones_pp</th>\n",
              "    </tr>\n",
              "  </thead>\n",
              "  <tbody>\n",
              "    <tr>\n",
              "      <th>8134</th>\n",
              "      <td>usa</td>\n",
              "      <td>2017</td>\n",
              "      <td>395,881,000.0</td>\n",
              "      <td>324459463</td>\n",
              "      <td>United States</td>\n",
              "      <td>1.2201246847283354</td>\n",
              "    </tr>\n",
              "  </tbody>\n",
              "</table>\n",
              "</div>"
            ],
            "text/plain": [
              "      geo  time  ...        country     cell_phones_pp\n",
              "8134  usa  2017  ...  United States 1.2201246847283354\n",
              "\n",
              "[1 rows x 6 columns]"
            ]
          },
          "metadata": {
            "tags": []
          },
          "execution_count": 189
        }
      ]
    },
    {
      "cell_type": "markdown",
      "metadata": {
        "colab_type": "text",
        "id": "S3QFdsnRZMH6"
      },
      "source": [
        "Modify the `geo` column to make the geo codes uppercase instead of lowercase."
      ]
    },
    {
      "cell_type": "code",
      "metadata": {
        "colab_type": "code",
        "id": "93ADij8_YkOq",
        "colab": {
          "base_uri": "https://localhost:8080/",
          "height": 204
        },
        "outputId": "24f2a3a4-c0b1-4cb9-e7d5-6a114e6ac474"
      },
      "source": [
        "df['geo'] = df['geo'].str.upper()\n",
        "\n",
        "df.head()"
      ],
      "execution_count": 190,
      "outputs": [
        {
          "output_type": "execute_result",
          "data": {
            "text/html": [
              "<div>\n",
              "<style scoped>\n",
              "    .dataframe tbody tr th:only-of-type {\n",
              "        vertical-align: middle;\n",
              "    }\n",
              "\n",
              "    .dataframe tbody tr th {\n",
              "        vertical-align: top;\n",
              "    }\n",
              "\n",
              "    .dataframe thead th {\n",
              "        text-align: right;\n",
              "    }\n",
              "</style>\n",
              "<table border=\"1\" class=\"dataframe\">\n",
              "  <thead>\n",
              "    <tr style=\"text-align: right;\">\n",
              "      <th></th>\n",
              "      <th>geo</th>\n",
              "      <th>time</th>\n",
              "      <th>cell_phones_total</th>\n",
              "      <th>population_total</th>\n",
              "      <th>country</th>\n",
              "      <th>cell_phones_pp</th>\n",
              "    </tr>\n",
              "  </thead>\n",
              "  <tbody>\n",
              "    <tr>\n",
              "      <th>0</th>\n",
              "      <td>AFG</td>\n",
              "      <td>1960</td>\n",
              "      <td>0.0</td>\n",
              "      <td>8996351</td>\n",
              "      <td>Afghanistan</td>\n",
              "      <td>0.0</td>\n",
              "    </tr>\n",
              "    <tr>\n",
              "      <th>1</th>\n",
              "      <td>AFG</td>\n",
              "      <td>1965</td>\n",
              "      <td>0.0</td>\n",
              "      <td>9938414</td>\n",
              "      <td>Afghanistan</td>\n",
              "      <td>0.0</td>\n",
              "    </tr>\n",
              "    <tr>\n",
              "      <th>2</th>\n",
              "      <td>AFG</td>\n",
              "      <td>1970</td>\n",
              "      <td>0.0</td>\n",
              "      <td>11126123</td>\n",
              "      <td>Afghanistan</td>\n",
              "      <td>0.0</td>\n",
              "    </tr>\n",
              "    <tr>\n",
              "      <th>3</th>\n",
              "      <td>AFG</td>\n",
              "      <td>1975</td>\n",
              "      <td>0.0</td>\n",
              "      <td>12590286</td>\n",
              "      <td>Afghanistan</td>\n",
              "      <td>0.0</td>\n",
              "    </tr>\n",
              "    <tr>\n",
              "      <th>4</th>\n",
              "      <td>AFG</td>\n",
              "      <td>1976</td>\n",
              "      <td>0.0</td>\n",
              "      <td>12840299</td>\n",
              "      <td>Afghanistan</td>\n",
              "      <td>0.0</td>\n",
              "    </tr>\n",
              "  </tbody>\n",
              "</table>\n",
              "</div>"
            ],
            "text/plain": [
              "   geo  time  cell_phones_total  population_total      country  cell_phones_pp\n",
              "0  AFG  1960                0.0           8996351  Afghanistan             0.0\n",
              "1  AFG  1965                0.0           9938414  Afghanistan             0.0\n",
              "2  AFG  1970                0.0          11126123  Afghanistan             0.0\n",
              "3  AFG  1975                0.0          12590286  Afghanistan             0.0\n",
              "4  AFG  1976                0.0          12840299  Afghanistan             0.0"
            ]
          },
          "metadata": {
            "tags": []
          },
          "execution_count": 190
        }
      ]
    },
    {
      "cell_type": "markdown",
      "metadata": {
        "colab_type": "text",
        "id": "cQR5RhDa8jzO"
      },
      "source": [
        "***Optional bonus for Part 2: Take initiative to make more features.***"
      ]
    },
    {
      "cell_type": "markdown",
      "metadata": {
        "colab_type": "text",
        "id": "hlPDAFCfaF6C"
      },
      "source": [
        "### Part 3. Process data"
      ]
    },
    {
      "cell_type": "markdown",
      "metadata": {
        "colab_type": "text",
        "id": "k-pudNWve2SQ"
      },
      "source": [
        "Use the describe function, to describe your dataframe's numeric columns, and then its non-numeric columns.\n",
        "\n",
        "(You'll see the time period ranges from 1960 to 2017, and there are 195 unique countries represented.)"
      ]
    },
    {
      "cell_type": "code",
      "metadata": {
        "colab_type": "code",
        "id": "g26yemKre2Cu",
        "colab": {
          "base_uri": "https://localhost:8080/",
          "height": 390
        },
        "outputId": "e2f6a9d4-6062-48bc-f1bf-8eece1325d30"
      },
      "source": [
        "df.describe(include = 'all')"
      ],
      "execution_count": 191,
      "outputs": [
        {
          "output_type": "execute_result",
          "data": {
            "text/html": [
              "<div>\n",
              "<style scoped>\n",
              "    .dataframe tbody tr th:only-of-type {\n",
              "        vertical-align: middle;\n",
              "    }\n",
              "\n",
              "    .dataframe tbody tr th {\n",
              "        vertical-align: top;\n",
              "    }\n",
              "\n",
              "    .dataframe thead th {\n",
              "        text-align: right;\n",
              "    }\n",
              "</style>\n",
              "<table border=\"1\" class=\"dataframe\">\n",
              "  <thead>\n",
              "    <tr style=\"text-align: right;\">\n",
              "      <th></th>\n",
              "      <th>geo</th>\n",
              "      <th>time</th>\n",
              "      <th>cell_phones_total</th>\n",
              "      <th>population_total</th>\n",
              "      <th>country</th>\n",
              "      <th>cell_phones_pp</th>\n",
              "    </tr>\n",
              "  </thead>\n",
              "  <tbody>\n",
              "    <tr>\n",
              "      <th>count</th>\n",
              "      <td>8590</td>\n",
              "      <td>8,590.0</td>\n",
              "      <td>8,590.0</td>\n",
              "      <td>8,590.0</td>\n",
              "      <td>8590</td>\n",
              "      <td>8,590.0</td>\n",
              "    </tr>\n",
              "    <tr>\n",
              "      <th>unique</th>\n",
              "      <td>195</td>\n",
              "      <td>nan</td>\n",
              "      <td>nan</td>\n",
              "      <td>nan</td>\n",
              "      <td>195</td>\n",
              "      <td>nan</td>\n",
              "    </tr>\n",
              "    <tr>\n",
              "      <th>top</th>\n",
              "      <td>BDI</td>\n",
              "      <td>nan</td>\n",
              "      <td>nan</td>\n",
              "      <td>nan</td>\n",
              "      <td>Pakistan</td>\n",
              "      <td>nan</td>\n",
              "    </tr>\n",
              "    <tr>\n",
              "      <th>freq</th>\n",
              "      <td>46</td>\n",
              "      <td>nan</td>\n",
              "      <td>nan</td>\n",
              "      <td>nan</td>\n",
              "      <td>46</td>\n",
              "      <td>nan</td>\n",
              "    </tr>\n",
              "    <tr>\n",
              "      <th>mean</th>\n",
              "      <td>NaN</td>\n",
              "      <td>1,994.1934807916182</td>\n",
              "      <td>9,004,949.642905472</td>\n",
              "      <td>29,838,230.581722934</td>\n",
              "      <td>NaN</td>\n",
              "      <td>0.2796385558059151</td>\n",
              "    </tr>\n",
              "    <tr>\n",
              "      <th>std</th>\n",
              "      <td>NaN</td>\n",
              "      <td>14.257974607310302</td>\n",
              "      <td>55,734,084.872179635</td>\n",
              "      <td>116,128,377.47477299</td>\n",
              "      <td>NaN</td>\n",
              "      <td>0.454246656214052</td>\n",
              "    </tr>\n",
              "    <tr>\n",
              "      <th>min</th>\n",
              "      <td>NaN</td>\n",
              "      <td>1,960.0</td>\n",
              "      <td>0.0</td>\n",
              "      <td>4,433.0</td>\n",
              "      <td>NaN</td>\n",
              "      <td>0.0</td>\n",
              "    </tr>\n",
              "    <tr>\n",
              "      <th>25%</th>\n",
              "      <td>NaN</td>\n",
              "      <td>1,983.0</td>\n",
              "      <td>0.0</td>\n",
              "      <td>1,456,148.0</td>\n",
              "      <td>NaN</td>\n",
              "      <td>0.0</td>\n",
              "    </tr>\n",
              "    <tr>\n",
              "      <th>50%</th>\n",
              "      <td>NaN</td>\n",
              "      <td>1,995.0</td>\n",
              "      <td>6,200.0</td>\n",
              "      <td>5,725,062.5</td>\n",
              "      <td>NaN</td>\n",
              "      <td>0.0015636266438163813</td>\n",
              "    </tr>\n",
              "    <tr>\n",
              "      <th>75%</th>\n",
              "      <td>NaN</td>\n",
              "      <td>2,006.0</td>\n",
              "      <td>1,697,652.0</td>\n",
              "      <td>18,105,812.0</td>\n",
              "      <td>NaN</td>\n",
              "      <td>0.4611491855201403</td>\n",
              "    </tr>\n",
              "    <tr>\n",
              "      <th>max</th>\n",
              "      <td>NaN</td>\n",
              "      <td>2,017.0</td>\n",
              "      <td>1,474,097,000.0</td>\n",
              "      <td>1,409,517,397.0</td>\n",
              "      <td>NaN</td>\n",
              "      <td>2.490242818521353</td>\n",
              "    </tr>\n",
              "  </tbody>\n",
              "</table>\n",
              "</div>"
            ],
            "text/plain": [
              "         geo                time  ...   country        cell_phones_pp\n",
              "count   8590             8,590.0  ...      8590               8,590.0\n",
              "unique   195                 nan  ...       195                   nan\n",
              "top      BDI                 nan  ...  Pakistan                   nan\n",
              "freq      46                 nan  ...        46                   nan\n",
              "mean     NaN 1,994.1934807916182  ...       NaN    0.2796385558059151\n",
              "std      NaN  14.257974607310302  ...       NaN     0.454246656214052\n",
              "min      NaN             1,960.0  ...       NaN                   0.0\n",
              "25%      NaN             1,983.0  ...       NaN                   0.0\n",
              "50%      NaN             1,995.0  ...       NaN 0.0015636266438163813\n",
              "75%      NaN             2,006.0  ...       NaN    0.4611491855201403\n",
              "max      NaN             2,017.0  ...       NaN     2.490242818521353\n",
              "\n",
              "[11 rows x 6 columns]"
            ]
          },
          "metadata": {
            "tags": []
          },
          "execution_count": 191
        }
      ]
    },
    {
      "cell_type": "markdown",
      "metadata": {
        "colab_type": "text",
        "id": "zALg-RrYaLcI"
      },
      "source": [
        "In 2017, what were the top 5 countries with the most cell phones total?\n",
        "\n",
        "Your list of countries should have these totals:\n",
        "\n",
        "| country | cell phones total |\n",
        "|:-------:|:-----------------:|\n",
        "|    ?    |     1,474,097,000 |\n",
        "|    ?    |     1,168,902,277 |\n",
        "|    ?    |       458,923,202 |\n",
        "|    ?    |       395,881,000 |\n",
        "|    ?    |       236,488,548 |\n",
        "\n"
      ]
    },
    {
      "cell_type": "code",
      "metadata": {
        "colab_type": "code",
        "id": "JdlWvezHaZxD",
        "colab": {
          "base_uri": "https://localhost:8080/",
          "height": 204
        },
        "outputId": "bec75c7a-bed6-48bb-fb5c-2d1d461bf616"
      },
      "source": [
        "# This optional code formats float numbers with comma separators\n",
        "pd.options.display.float_format = '{:,}'.format\n",
        "\n",
        "df_top_5 = df[df['time'] == 2017].nlargest(5, 'cell_phones_total')\n",
        "df_top_5 = df_top_5[['country', 'cell_phones_total']]\n",
        "df_top_5"
      ],
      "execution_count": 192,
      "outputs": [
        {
          "output_type": "execute_result",
          "data": {
            "text/html": [
              "<div>\n",
              "<style scoped>\n",
              "    .dataframe tbody tr th:only-of-type {\n",
              "        vertical-align: middle;\n",
              "    }\n",
              "\n",
              "    .dataframe tbody tr th {\n",
              "        vertical-align: top;\n",
              "    }\n",
              "\n",
              "    .dataframe thead th {\n",
              "        text-align: right;\n",
              "    }\n",
              "</style>\n",
              "<table border=\"1\" class=\"dataframe\">\n",
              "  <thead>\n",
              "    <tr style=\"text-align: right;\">\n",
              "      <th></th>\n",
              "      <th>country</th>\n",
              "      <th>cell_phones_total</th>\n",
              "    </tr>\n",
              "  </thead>\n",
              "  <tbody>\n",
              "    <tr>\n",
              "      <th>1496</th>\n",
              "      <td>China</td>\n",
              "      <td>1,474,097,000.0</td>\n",
              "    </tr>\n",
              "    <tr>\n",
              "      <th>3595</th>\n",
              "      <td>India</td>\n",
              "      <td>1,168,902,277.0</td>\n",
              "    </tr>\n",
              "    <tr>\n",
              "      <th>3549</th>\n",
              "      <td>Indonesia</td>\n",
              "      <td>458,923,202.0</td>\n",
              "    </tr>\n",
              "    <tr>\n",
              "      <th>8134</th>\n",
              "      <td>United States</td>\n",
              "      <td>395,881,000.0</td>\n",
              "    </tr>\n",
              "    <tr>\n",
              "      <th>1084</th>\n",
              "      <td>Brazil</td>\n",
              "      <td>236,488,548.0</td>\n",
              "    </tr>\n",
              "  </tbody>\n",
              "</table>\n",
              "</div>"
            ],
            "text/plain": [
              "            country  cell_phones_total\n",
              "1496          China    1,474,097,000.0\n",
              "3595          India    1,168,902,277.0\n",
              "3549      Indonesia      458,923,202.0\n",
              "8134  United States      395,881,000.0\n",
              "1084         Brazil      236,488,548.0"
            ]
          },
          "metadata": {
            "tags": []
          },
          "execution_count": 192
        }
      ]
    },
    {
      "cell_type": "markdown",
      "metadata": {
        "colab_type": "text",
        "id": "03V3Wln_h0dj"
      },
      "source": [
        "2017 was the first year that China had more cell phones than people.\n",
        "\n",
        "What was the first year that the USA had more cell phones than people?"
      ]
    },
    {
      "cell_type": "code",
      "metadata": {
        "colab_type": "code",
        "id": "KONQkQZ3haNC",
        "colab": {
          "base_uri": "https://localhost:8080/",
          "height": 80
        },
        "outputId": "faa6d506-36a2-429b-b3a9-7dbb33d8ba1c"
      },
      "source": [
        "df_pop_vs_phone = (df[(df['country'] == 'United States') \n",
        "                      & (df['cell_phones_pp'] > 1)]\n",
        "                   .nsmallest(1, 'time'))\n",
        "df_pop_vs_phone = df_pop_vs_phone[['time', 'cell_phones_pp']]\n",
        "df_pop_vs_phone"
      ],
      "execution_count": 193,
      "outputs": [
        {
          "output_type": "execute_result",
          "data": {
            "text/html": [
              "<div>\n",
              "<style scoped>\n",
              "    .dataframe tbody tr th:only-of-type {\n",
              "        vertical-align: middle;\n",
              "    }\n",
              "\n",
              "    .dataframe tbody tr th {\n",
              "        vertical-align: top;\n",
              "    }\n",
              "\n",
              "    .dataframe thead th {\n",
              "        text-align: right;\n",
              "    }\n",
              "</style>\n",
              "<table border=\"1\" class=\"dataframe\">\n",
              "  <thead>\n",
              "    <tr style=\"text-align: right;\">\n",
              "      <th></th>\n",
              "      <th>time</th>\n",
              "      <th>cell_phones_pp</th>\n",
              "    </tr>\n",
              "  </thead>\n",
              "  <tbody>\n",
              "    <tr>\n",
              "      <th>8131</th>\n",
              "      <td>2014</td>\n",
              "      <td>1.118914031833164</td>\n",
              "    </tr>\n",
              "  </tbody>\n",
              "</table>\n",
              "</div>"
            ],
            "text/plain": [
              "      time    cell_phones_pp\n",
              "8131  2014 1.118914031833164"
            ]
          },
          "metadata": {
            "tags": []
          },
          "execution_count": 193
        }
      ]
    },
    {
      "cell_type": "markdown",
      "metadata": {
        "colab_type": "text",
        "id": "4pHjHTwp8jzn"
      },
      "source": [
        "***Optional bonus for Part 3: Take initiative to do more exploratory data analysis.***"
      ]
    },
    {
      "cell_type": "markdown",
      "metadata": {
        "colab_type": "text",
        "id": "6J7iwMnTg8KZ"
      },
      "source": [
        "### (OPTIONAL) Part 4. Reshape data"
      ]
    },
    {
      "cell_type": "markdown",
      "metadata": {
        "colab_type": "text",
        "id": "LP9InazRkUxG"
      },
      "source": [
        "*This part is not needed to pass the sprint challenge, only to get a 3! Only work on this after completing the other sections.*\n",
        "\n",
        "Create a pivot table:\n",
        "- Columns: Years 2007—2017\n",
        "- Rows: China, India, United States, Indonesia, Brazil (order doesn't matter)\n",
        "- Values: Cell Phones Total\n",
        "\n",
        "The table's shape should be: (5, 11)"
      ]
    },
    {
      "cell_type": "code",
      "metadata": {
        "colab_type": "code",
        "id": "JD7mXXjLj4Ue",
        "colab": {}
      },
      "source": [
        ""
      ],
      "execution_count": 0,
      "outputs": []
    },
    {
      "cell_type": "markdown",
      "metadata": {
        "colab_type": "text",
        "id": "CNKTu2DCnAo6"
      },
      "source": [
        "Sort these 5 countries, by biggest increase in cell phones from 2007 to 2017.\n",
        "\n",
        "Which country had 935,282,277 more cell phones in 2017 versus 2007?"
      ]
    },
    {
      "cell_type": "code",
      "metadata": {
        "colab_type": "code",
        "id": "O4Aecv1fmQlj",
        "colab": {}
      },
      "source": [
        ""
      ],
      "execution_count": 0,
      "outputs": []
    },
    {
      "cell_type": "markdown",
      "metadata": {
        "colab_type": "text",
        "id": "7iHkMsa3Rorh"
      },
      "source": [
        "If you have the time and curiosity, what other questions can you ask and answer with this data?"
      ]
    },
    {
      "cell_type": "markdown",
      "metadata": {
        "colab_type": "text",
        "id": "vtcAJOAV9k3X"
      },
      "source": [
        "## Data Storytelling\n",
        "\n",
        "In this part of the sprint challenge you'll work with a dataset from **FiveThirtyEight's article, [Every Guest Jon Stewart Ever Had On ‘The Daily Show’](https://fivethirtyeight.com/features/every-guest-jon-stewart-ever-had-on-the-daily-show/)**!"
      ]
    },
    {
      "cell_type": "markdown",
      "metadata": {
        "colab_type": "text",
        "id": "UtjoIqvm9yFg"
      },
      "source": [
        "### Part 0 — Run this starter code\n",
        "\n",
        "You don't need to add or change anything here. Just run this cell and it loads the data for you, into a dataframe named `df`.\n",
        "\n",
        "(You can explore the data if you want, but it's not required to pass the Sprint Challenge.)"
      ]
    },
    {
      "cell_type": "code",
      "metadata": {
        "colab_type": "code",
        "id": "tYujbhIz9zKU",
        "colab": {}
      },
      "source": [
        "%matplotlib inline\n",
        "import matplotlib.pyplot as plt\n",
        "import numpy as np\n",
        "import pandas as pd\n",
        "\n",
        "url = 'https://raw.githubusercontent.com/fivethirtyeight/data/master/daily-show-guests/daily_show_guests.csv'\n",
        "df = pd.read_csv(url).rename(columns={'YEAR': 'Year', 'Raw_Guest_List': 'Guest'})\n",
        "\n",
        "def get_occupation(group):\n",
        "    if group in ['Acting', 'Comedy', 'Musician']:\n",
        "        return 'Acting, Comedy & Music'\n",
        "    elif group in ['Media', 'media']:\n",
        "        return 'Media'\n",
        "    elif group in ['Government', 'Politician', 'Political Aide']:\n",
        "        return 'Government and Politics'\n",
        "    else:\n",
        "        return 'Other'\n",
        "      \n",
        "df['Occupation'] = df['Group'].apply(get_occupation)"
      ],
      "execution_count": 0,
      "outputs": []
    },
    {
      "cell_type": "markdown",
      "metadata": {
        "colab_type": "text",
        "id": "5hjnMK3j90Rp"
      },
      "source": [
        "### Part 1 — What's the breakdown of guests’ occupations per year?\n",
        "\n",
        "For example, in 1999, what percentage of guests were actors, comedians, or musicians? What percentage were in the media? What percentage were in politics? What percentage were from another occupation?\n",
        "\n",
        "Then, what about in 2000? In 2001? And so on, up through 2015.\n",
        "\n",
        "So, **for each year of _The Daily Show_, calculate the percentage of guests from each occupation:**\n",
        "- Acting, Comedy & Music\n",
        "- Government and Politics\n",
        "- Media\n",
        "- Other\n",
        "\n",
        "#### Hints:\n",
        "You can make a crosstab. (See pandas documentation for examples, explanation, and parameters.)\n",
        "\n",
        "You'll know you've calculated correctly when the percentage of \"Acting, Comedy & Music\" guests is 90.36% in 1999, and 45% in 2015.\n",
        "\n",
        "**Optional Bonus Challenge:** Do additional insightful data exploration."
      ]
    },
    {
      "cell_type": "code",
      "metadata": {
        "colab_type": "code",
        "id": "EbobyiHv916F",
        "colab": {
          "base_uri": "https://localhost:8080/",
          "height": 607
        },
        "outputId": "7d0b33a2-4e30-446d-86c5-c98218f1b145"
      },
      "source": [
        "df_1 = (pd.crosstab(index = df['Year'], columns = df['Occupation'], \n",
        "             normalize = 'index')*100).round(2)\n",
        "\n",
        "df_1"
      ],
      "execution_count": 92,
      "outputs": [
        {
          "output_type": "execute_result",
          "data": {
            "text/html": [
              "<div>\n",
              "<style scoped>\n",
              "    .dataframe tbody tr th:only-of-type {\n",
              "        vertical-align: middle;\n",
              "    }\n",
              "\n",
              "    .dataframe tbody tr th {\n",
              "        vertical-align: top;\n",
              "    }\n",
              "\n",
              "    .dataframe thead th {\n",
              "        text-align: right;\n",
              "    }\n",
              "</style>\n",
              "<table border=\"1\" class=\"dataframe\">\n",
              "  <thead>\n",
              "    <tr style=\"text-align: right;\">\n",
              "      <th>Occupation</th>\n",
              "      <th>Acting, Comedy &amp; Music</th>\n",
              "      <th>Government and Politics</th>\n",
              "      <th>Media</th>\n",
              "      <th>Other</th>\n",
              "    </tr>\n",
              "    <tr>\n",
              "      <th>Year</th>\n",
              "      <th></th>\n",
              "      <th></th>\n",
              "      <th></th>\n",
              "      <th></th>\n",
              "    </tr>\n",
              "  </thead>\n",
              "  <tbody>\n",
              "    <tr>\n",
              "      <th>1999</th>\n",
              "      <td>90.36</td>\n",
              "      <td>1.2</td>\n",
              "      <td>6.63</td>\n",
              "      <td>1.81</td>\n",
              "    </tr>\n",
              "    <tr>\n",
              "      <th>2000</th>\n",
              "      <td>73.96</td>\n",
              "      <td>8.28</td>\n",
              "      <td>12.43</td>\n",
              "      <td>5.33</td>\n",
              "    </tr>\n",
              "    <tr>\n",
              "      <th>2001</th>\n",
              "      <td>72.61</td>\n",
              "      <td>3.82</td>\n",
              "      <td>19.75</td>\n",
              "      <td>3.82</td>\n",
              "    </tr>\n",
              "    <tr>\n",
              "      <th>2002</th>\n",
              "      <td>62.26</td>\n",
              "      <td>6.92</td>\n",
              "      <td>26.42</td>\n",
              "      <td>4.4</td>\n",
              "    </tr>\n",
              "    <tr>\n",
              "      <th>2003</th>\n",
              "      <td>56.02</td>\n",
              "      <td>10.24</td>\n",
              "      <td>24.7</td>\n",
              "      <td>9.04</td>\n",
              "    </tr>\n",
              "    <tr>\n",
              "      <th>2004</th>\n",
              "      <td>38.41</td>\n",
              "      <td>22.56</td>\n",
              "      <td>27.44</td>\n",
              "      <td>11.59</td>\n",
              "    </tr>\n",
              "    <tr>\n",
              "      <th>2005</th>\n",
              "      <td>37.04</td>\n",
              "      <td>16.05</td>\n",
              "      <td>33.33</td>\n",
              "      <td>13.58</td>\n",
              "    </tr>\n",
              "    <tr>\n",
              "      <th>2006</th>\n",
              "      <td>36.02</td>\n",
              "      <td>19.25</td>\n",
              "      <td>29.19</td>\n",
              "      <td>15.53</td>\n",
              "    </tr>\n",
              "    <tr>\n",
              "      <th>2007</th>\n",
              "      <td>25.53</td>\n",
              "      <td>17.02</td>\n",
              "      <td>33.33</td>\n",
              "      <td>24.11</td>\n",
              "    </tr>\n",
              "    <tr>\n",
              "      <th>2008</th>\n",
              "      <td>20.73</td>\n",
              "      <td>20.12</td>\n",
              "      <td>46.95</td>\n",
              "      <td>12.2</td>\n",
              "    </tr>\n",
              "    <tr>\n",
              "      <th>2009</th>\n",
              "      <td>20.86</td>\n",
              "      <td>20.86</td>\n",
              "      <td>36.2</td>\n",
              "      <td>22.09</td>\n",
              "    </tr>\n",
              "    <tr>\n",
              "      <th>2010</th>\n",
              "      <td>35.15</td>\n",
              "      <td>18.18</td>\n",
              "      <td>30.3</td>\n",
              "      <td>16.36</td>\n",
              "    </tr>\n",
              "    <tr>\n",
              "      <th>2011</th>\n",
              "      <td>33.74</td>\n",
              "      <td>16.56</td>\n",
              "      <td>31.29</td>\n",
              "      <td>18.4</td>\n",
              "    </tr>\n",
              "    <tr>\n",
              "      <th>2012</th>\n",
              "      <td>26.83</td>\n",
              "      <td>20.12</td>\n",
              "      <td>31.71</td>\n",
              "      <td>21.34</td>\n",
              "    </tr>\n",
              "    <tr>\n",
              "      <th>2013</th>\n",
              "      <td>42.77</td>\n",
              "      <td>12.65</td>\n",
              "      <td>30.72</td>\n",
              "      <td>13.86</td>\n",
              "    </tr>\n",
              "    <tr>\n",
              "      <th>2014</th>\n",
              "      <td>39.26</td>\n",
              "      <td>12.88</td>\n",
              "      <td>32.52</td>\n",
              "      <td>15.34</td>\n",
              "    </tr>\n",
              "    <tr>\n",
              "      <th>2015</th>\n",
              "      <td>45.0</td>\n",
              "      <td>17.0</td>\n",
              "      <td>24.0</td>\n",
              "      <td>14.0</td>\n",
              "    </tr>\n",
              "  </tbody>\n",
              "</table>\n",
              "</div>"
            ],
            "text/plain": [
              "Occupation  Acting, Comedy & Music  Government and Politics  Media  Other\n",
              "Year                                                                     \n",
              "1999                         90.36                      1.2   6.63   1.81\n",
              "2000                         73.96                     8.28  12.43   5.33\n",
              "2001                         72.61                     3.82  19.75   3.82\n",
              "2002                         62.26                     6.92  26.42    4.4\n",
              "2003                         56.02                    10.24   24.7   9.04\n",
              "2004                         38.41                    22.56  27.44  11.59\n",
              "2005                         37.04                    16.05  33.33  13.58\n",
              "2006                         36.02                    19.25  29.19  15.53\n",
              "2007                         25.53                    17.02  33.33  24.11\n",
              "2008                         20.73                    20.12  46.95   12.2\n",
              "2009                         20.86                    20.86   36.2  22.09\n",
              "2010                         35.15                    18.18   30.3  16.36\n",
              "2011                         33.74                    16.56  31.29   18.4\n",
              "2012                         26.83                    20.12  31.71  21.34\n",
              "2013                         42.77                    12.65  30.72  13.86\n",
              "2014                         39.26                    12.88  32.52  15.34\n",
              "2015                          45.0                     17.0   24.0   14.0"
            ]
          },
          "metadata": {
            "tags": []
          },
          "execution_count": 92
        }
      ]
    },
    {
      "cell_type": "markdown",
      "metadata": {
        "colab_type": "text",
        "id": "Kiq56dZb92LY"
      },
      "source": [
        "### Part 2 — Recreate this explanatory visualization:"
      ]
    },
    {
      "cell_type": "code",
      "metadata": {
        "colab_type": "code",
        "id": "HKLDMWwP98vz",
        "outputId": "0397fcdf-80e5-4072-88f4-af2f14fcf0f2",
        "scrolled": true,
        "colab": {
          "base_uri": "https://localhost:8080/",
          "height": 406
        }
      },
      "source": [
        "from IPython.display import display, Image\n",
        "png = 'https://fivethirtyeight.com/wp-content/uploads/2015/08/hickey-datalab-dailyshow.png'\n",
        "example = Image(png, width=500)\n",
        "display(example)"
      ],
      "execution_count": 0,
      "outputs": [
        {
          "output_type": "display_data",
          "data": {
            "image/png": "[encoded data removed]",
            "text/plain": [
              "<IPython.core.display.Image object>"
            ]
          },
          "metadata": {
            "tags": [],
            "image/png": {
              "width": 500
            }
          }
        }
      ]
    },
    {
      "cell_type": "markdown",
      "metadata": {
        "colab_type": "text",
        "id": "TK5fDIag9-F6"
      },
      "source": [
        "**Hints:**\n",
        "- You can choose any Python visualization library you want. I've verified the plot can be reproduced with matplotlib, pandas plot, or seaborn. I assume other libraries like altair or plotly would work too.\n",
        "\n",
        "**Expectations:** Your plot should include:\n",
        "- 3 lines visualizing \"occupation of guests, by year.\" The shapes of the lines should look roughly identical to 538's example. Each line should be a different color. (But you don't need to use the _same_ colors as 538.)\n",
        "- Legend or labels for the lines. (But you don't need each label positioned next to its line or colored like 538.)\n",
        "- Title in the upper left: _\"Who Got To Be On 'The Daily Show'?\"_ with more visual emphasis than the subtitle. (Bolder and/or larger font.)\n",
        "- Subtitle underneath the title: _\"Occupation of guests, by year\"_\n",
        "\n",
        "**Optional Bonus Challenge:**\n",
        "- Give your plot polished aesthetics, with improved resemblance to the 538 example.\n",
        "- Any visual element not specifically mentioned in the expectations is an optional bonus."
      ]
    },
    {
      "cell_type": "code",
      "metadata": {
        "colab_type": "code",
        "id": "CaB8MMV099Kh",
        "colab": {
          "base_uri": "https://localhost:8080/",
          "height": 617
        },
        "outputId": "30de75ce-9818-49c2-dfc4-da996ddae8ad"
      },
      "source": [
        "import matplotlib.style as style\n",
        "style.use('fivethirtyeight')\n",
        "\n",
        "colors = [[0,0,0], [230/255,159/255,0], [86/255,180/255,233/255]]\n",
        "\n",
        "df_1_graph = (df_1.drop(columns = 'Other').plot(figsize = (12, 8),\n",
        "                                                xticks = [2000, 2004, 2008, 2012],\n",
        "                                               yticks = [0, 25, 50, 75, 100],\n",
        "                                               xlim = (1997, 2016),\n",
        "                                               ylim = (0, 100), legend = False,\n",
        "                                               color = colors))\n",
        "df_1_graph.tick_params(axis = 'both', which = 'major', labelsize = 18)\n",
        "df_1_graph.axhline(y = 0, color = 'black', linewidth = 1.3, alpha = .7)\n",
        "df_1_graph.xaxis.label.set_visible(False)\n",
        "df_1_graph.text(x = 1996, y = -8,\n",
        "               s = 'FIVETHIRTYEIGHT' + ' '*90 + 'Source: Wikipedia, GoogleKnowledgeGraph',\n",
        "               fontsize = 14, color = '#f0f0f0', backgroundcolor = 'grey')\n",
        "df_1_graph.text(x = 1996, y = 112.7,\n",
        "               s = \"Who Got To Be On 'The Daily Show'?\", fontsize = 26,\n",
        "               weight = 'bold', alpha = .75)\n",
        "df_1_graph.text(x = 1996, y = 107,\n",
        "               s = 'Occupation of guests, by year', fontsize = 19, alpha = .85)\n",
        "df_1_graph.text(x = 2002, y = 70, s = 'Acting, Comedy & Music', fontsize = 18,\n",
        "                color = colors[0], weight = 'bold', backgroundcolor = '#f0f0f0')\n",
        "df_1_graph.text(x = 2008, y = 50, s = 'Media', fontsize = 18,\n",
        "                color = colors[2], weight = 'bold', backgroundcolor = '#f0f0f0')\n",
        "df_1_graph.text(x = 2010, y = 7, s = 'Government & Politics', fontsize = 18,\n",
        "                color = colors[1], weight = 'bold', backgroundcolor = '#f0f0f0')\n",
        "\n",
        "df_1_graph;\n",
        "\n",
        "\n",
        "\n"
      ],
      "execution_count": 129,
      "outputs": [
        {
          "output_type": "display_data",
          "data": {
            "image/png": "[encoded data removed]",
            "text/plain": [
              "<Figure size 864x576 with 1 Axes>"
            ]
          },
          "metadata": {
            "tags": []
          }
        }
      ]
    },
    {
      "cell_type": "markdown",
      "metadata": {
        "colab_type": "text",
        "id": "kW36zxl4-BiW"
      },
      "source": [
        "### (OPTIONAL) Part 3 — Who were the top 10 guests on _The Daily Show_?\n",
        "\n",
        "*This part is not needed to pass the sprint challenge, only to get a 3! Only work on this after completing the other sections.*\n",
        "\n",
        "**Make a plot** that shows their names and number of appearances.\n",
        "\n",
        "**Add a title** of your choice.\n",
        "\n",
        "**Expectations:** It's ok to make a simple, quick plot: exploratory, instead of explanatory. \n",
        "\n",
        "**Optional Bonus Challenge:** You can change aesthetics and add more annotation. For example, in a relevant location, could you add the text \"19\" to show that Fareed Zakaria appeared 19 times on _The Daily Show_? (And so on, for each of the top 10 guests.)"
      ]
    },
    {
      "cell_type": "code",
      "metadata": {
        "colab_type": "code",
        "id": "B3cqzskY-QbM",
        "colab": {}
      },
      "source": [
        ""
      ],
      "execution_count": 0,
      "outputs": []
    }
  ]
}