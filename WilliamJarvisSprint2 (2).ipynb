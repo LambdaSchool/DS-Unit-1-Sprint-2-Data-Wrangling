{
 "cells": [
  {
   "cell_type": "markdown",
   "metadata": {
    "colab_type": "text",
    "id": "4yMHi_PX9hEz"
   },
   "source": [
    "# Data Science Unit 1 Sprint Challenge 2\n",
    "\n",
    "## Data Wrangling\n",
    "\n",
    "In this Sprint Challenge you will use data from [Gapminder](https://www.gapminder.org/about-gapminder/), a Swedish non-profit co-founded by Hans Rosling. \"Gapminder produces free teaching resources making the world understandable based on reliable statistics.\"\n",
    "- [Cell phones (total), by country and year](https://raw.githubusercontent.com/open-numbers/ddf--gapminder--systema_globalis/master/ddf--datapoints--cell_phones_total--by--geo--time.csv)\n",
    "- [Population (total), by country and year](https://raw.githubusercontent.com/open-numbers/ddf--gapminder--systema_globalis/master/ddf--datapoints--population_total--by--geo--time.csv)\n",
    "- [Geo country codes](https://github.com/open-numbers/ddf--gapminder--systema_globalis/blob/master/ddf--entities--geo--country.csv)\n",
    "\n",
    "These two links have everything you need to successfully complete the Sprint Challenge!\n",
    "- [Pandas documentation: Working with Text Data](https://pandas.pydata.org/pandas-docs/stable/text.html]) (one question)\n",
    "- [Pandas Cheat Sheet](https://github.com/pandas-dev/pandas/blob/master/doc/cheatsheet/Pandas_Cheat_Sheet.pdf) (everything else)"
   ]
  },
  {
   "cell_type": "markdown",
   "metadata": {
    "colab_type": "text",
    "id": "wWEU2GemX68A"
   },
   "source": [
    "## Part 0. Load data\n",
    "\n",
    "You don't need to add or change anything here. Just run this cell and it loads the data for you, into three dataframes."
   ]
  },
  {
   "cell_type": "code",
   "execution_count": 1,
   "metadata": {
    "colab": {},
    "colab_type": "code",
    "id": "bxKtSi5sRQOl"
   },
   "outputs": [],
   "source": [
    "import pandas as pd\n",
    "\n",
    "cell_phones = pd.read_csv('https://raw.githubusercontent.com/open-numbers/ddf--gapminder--systema_globalis/master/ddf--datapoints--cell_phones_total--by--geo--time.csv')\n",
    "\n",
    "population = pd.read_csv('https://raw.githubusercontent.com/open-numbers/ddf--gapminder--systema_globalis/master/ddf--datapoints--population_total--by--geo--time.csv')\n",
    "\n",
    "geo_country_codes = (pd.read_csv('https://raw.githubusercontent.com/open-numbers/ddf--gapminder--systema_globalis/master/ddf--entities--geo--country.csv')\n",
    "                       .rename(columns={'country': 'geo', 'name': 'country'}))"
   ]
  },
  {
   "cell_type": "markdown",
   "metadata": {
    "colab_type": "text",
    "id": "AZmVTeCsX9RC"
   },
   "source": [
    "## Part 1. Join data"
   ]
  },
  {
   "cell_type": "markdown",
   "metadata": {
    "colab_type": "text",
    "id": "GLzX58u4SfEy"
   },
   "source": [
    "First, join the `cell_phones` and `population` dataframes (with an inner join on `geo` and `time`).\n",
    "\n",
    "The resulting dataframe's shape should be: (8590, 4)"
   ]
  },
  {
   "cell_type": "code",
   "execution_count": 7,
   "metadata": {
    "colab": {},
    "colab_type": "code",
    "id": "GVV7Hnj4SXBa"
   },
   "outputs": [],
   "source": [
    "df2 = pd.merge(cell_phones, population, how='inner', on=('geo','time'))"
   ]
  },
  {
   "cell_type": "markdown",
   "metadata": {
    "colab_type": "text",
    "id": "xsXpDbwwW241"
   },
   "source": [
    "Then, select the `geo` and `country` columns from the `geo_country_codes` dataframe, and join with your population and cell phone data.\n",
    "\n",
    "The resulting dataframe's shape should be: (8590, 5)"
   ]
  },
  {
   "cell_type": "code",
   "execution_count": 28,
   "metadata": {
    "colab": {},
    "colab_type": "code",
    "id": "Q2LaZta_W2CE"
   },
   "outputs": [
    {
     "name": "stdout",
     "output_type": "stream",
     "text": [
      "df2 shape: (8590, 4)\n",
      "\n",
      "\n",
      "   geo  time  cell_phones_total  population_total\n",
      "0  afg  1960                0.0           8996351\n",
      "\n",
      "\n",
      "df3 shape: (8590, 5)\n"
     ]
    },
    {
     "data": {
      "text/html": [
       "<div>\n",
       "<style scoped>\n",
       "    .dataframe tbody tr th:only-of-type {\n",
       "        vertical-align: middle;\n",
       "    }\n",
       "\n",
       "    .dataframe tbody tr th {\n",
       "        vertical-align: top;\n",
       "    }\n",
       "\n",
       "    .dataframe thead th {\n",
       "        text-align: right;\n",
       "    }\n",
       "</style>\n",
       "<table border=\"1\" class=\"dataframe\">\n",
       "  <thead>\n",
       "    <tr style=\"text-align: right;\">\n",
       "      <th></th>\n",
       "      <th>geo</th>\n",
       "      <th>time</th>\n",
       "      <th>cell_phones_total</th>\n",
       "      <th>population_total</th>\n",
       "      <th>country</th>\n",
       "    </tr>\n",
       "  </thead>\n",
       "  <tbody>\n",
       "    <tr>\n",
       "      <th>0</th>\n",
       "      <td>afg</td>\n",
       "      <td>1960</td>\n",
       "      <td>0.0</td>\n",
       "      <td>8996351</td>\n",
       "      <td>Afghanistan</td>\n",
       "    </tr>\n",
       "    <tr>\n",
       "      <th>1</th>\n",
       "      <td>afg</td>\n",
       "      <td>1965</td>\n",
       "      <td>0.0</td>\n",
       "      <td>9938414</td>\n",
       "      <td>Afghanistan</td>\n",
       "    </tr>\n",
       "    <tr>\n",
       "      <th>2</th>\n",
       "      <td>afg</td>\n",
       "      <td>1970</td>\n",
       "      <td>0.0</td>\n",
       "      <td>11126123</td>\n",
       "      <td>Afghanistan</td>\n",
       "    </tr>\n",
       "    <tr>\n",
       "      <th>3</th>\n",
       "      <td>afg</td>\n",
       "      <td>1975</td>\n",
       "      <td>0.0</td>\n",
       "      <td>12590286</td>\n",
       "      <td>Afghanistan</td>\n",
       "    </tr>\n",
       "    <tr>\n",
       "      <th>4</th>\n",
       "      <td>afg</td>\n",
       "      <td>1976</td>\n",
       "      <td>0.0</td>\n",
       "      <td>12840299</td>\n",
       "      <td>Afghanistan</td>\n",
       "    </tr>\n",
       "  </tbody>\n",
       "</table>\n",
       "</div>"
      ],
      "text/plain": [
       "   geo  time  cell_phones_total  population_total      country\n",
       "0  afg  1960                0.0           8996351  Afghanistan\n",
       "1  afg  1965                0.0           9938414  Afghanistan\n",
       "2  afg  1970                0.0          11126123  Afghanistan\n",
       "3  afg  1975                0.0          12590286  Afghanistan\n",
       "4  afg  1976                0.0          12840299  Afghanistan"
      ]
     },
     "execution_count": 28,
     "metadata": {},
     "output_type": "execute_result"
    }
   ],
   "source": [
    "# Printing shape to confirm my answer\n",
    "print ('df2 shape:', df2.shape)\n",
    "print ('\\n')\n",
    "\n",
    "# Checking the head to make sure all looks right there\n",
    "print (df2.head(1))\n",
    "print ('\\n')\n",
    "\n",
    "# Making the next merge\n",
    "df3 = pd.merge(df2, geo_country_codes[['geo', 'country']], on='geo', how='left')\n",
    "\n",
    "# Checking answers again with head and shape\n",
    "print ('df3 shape:', df3.shape)\n",
    "df3.head()"
   ]
  },
  {
   "cell_type": "markdown",
   "metadata": {
    "colab_type": "text",
    "id": "oK96Uj7vYjFX"
   },
   "source": [
    "## Part 2. Make features"
   ]
  },
  {
   "cell_type": "markdown",
   "metadata": {
    "colab_type": "text",
    "id": "AD2fBNrOYzCG"
   },
   "source": [
    "Calculate the number of cell phones per person, and add this column onto your dataframe.\n",
    "\n",
    "(You've calculated correctly if you get 1.220 cell phones per person in the United States in 2017.)"
   ]
  },
  {
   "cell_type": "code",
   "execution_count": 54,
   "metadata": {
    "colab": {},
    "colab_type": "code",
    "id": "wXI9nQthYnFK"
   },
   "outputs": [
    {
     "name": "stdout",
     "output_type": "stream",
     "text": [
      "            country  time  phones_per_person\n",
      "8134  United States  2017           1.220125\n"
     ]
    }
   ],
   "source": [
    "# Creating a new column with the ratio of 2 existing columns\n",
    "df3['phones_per_person'] = (df3['cell_phones_total']/df3['population_total'])\n",
    "\n",
    "# Creating a new df with only USA data to confirm my answer\n",
    "usa = df3.loc[df3['country'] == 'United States', ['country', 'time', 'phones_per_person']]\n",
    "usa2017 = usa.loc[usa['time'] == 2017]\n",
    "print (usa2017)"
   ]
  },
  {
   "cell_type": "markdown",
   "metadata": {
    "colab_type": "text",
    "id": "S3QFdsnRZMH6"
   },
   "source": [
    "Modify the `geo` column to make the geo codes uppercase instead of lowercase."
   ]
  },
  {
   "cell_type": "code",
   "execution_count": 40,
   "metadata": {
    "colab": {},
    "colab_type": "code",
    "id": "93ADij8_YkOq"
   },
   "outputs": [
    {
     "name": "stdout",
     "output_type": "stream",
     "text": [
      "0    afg\n",
      "1    afg\n",
      "2    afg\n",
      "3    afg\n",
      "4    afg\n",
      "Name: geo, dtype: object\n",
      "0    AFG\n",
      "1    AFG\n",
      "2    AFG\n",
      "3    AFG\n",
      "4    AFG\n",
      "Name: geo, dtype: object\n"
     ]
    }
   ],
   "source": [
    "# Applying the uppercase method on the column 'geo'\n",
    "print (df3['geo'].head())\n",
    "df3['geo'] = df3['geo'].str.upper()\n",
    "print (df3['geo'].head())"
   ]
  },
  {
   "cell_type": "markdown",
   "metadata": {
    "colab_type": "text",
    "id": "hlPDAFCfaF6C"
   },
   "source": [
    "## Part 3. Process data"
   ]
  },
  {
   "cell_type": "markdown",
   "metadata": {
    "colab_type": "text",
    "id": "k-pudNWve2SQ"
   },
   "source": [
    "Use the describe function, to describe your dataframe's numeric columns, and then its non-numeric columns.\n",
    "\n",
    "(You'll see the time period ranges from 1960 to 2017, and there are 195 unique countries represented.)"
   ]
  },
  {
   "cell_type": "code",
   "execution_count": 59,
   "metadata": {
    "colab": {},
    "colab_type": "code",
    "id": "g26yemKre2Cu"
   },
   "outputs": [
    {
     "name": "stdout",
     "output_type": "stream",
     "text": [
      "datatypes for df3 columns: \n",
      " \n",
      " geo                   object\n",
      "time                   int64\n",
      "cell_phones_total    float64\n",
      "population_total       int64\n",
      "country               object\n",
      "phones_per_person    float64\n",
      "dtype: object\n",
      "\n",
      "\n",
      "              time  cell_phones_total  population_total  phones_per_person\n",
      "count  8590.000000       8.590000e+03      8.590000e+03        8590.000000\n",
      "mean   1994.193481       9.004950e+06      2.983823e+07           0.279639\n",
      "std      14.257975       5.573408e+07      1.161284e+08           0.454247\n",
      "min    1960.000000       0.000000e+00      4.433000e+03           0.000000\n",
      "25%    1983.000000       0.000000e+00      1.456148e+06           0.000000\n",
      "50%    1995.000000       6.200000e+03      5.725062e+06           0.001564\n",
      "75%    2006.000000       1.697652e+06      1.810581e+07           0.461149\n",
      "max    2017.000000       1.474097e+09      1.409517e+09           2.490243\n",
      "\n",
      "\n",
      "         geo country\n",
      "count   8590    8590\n",
      "unique   195     195\n",
      "top      FJI   India\n",
      "freq      46      46\n",
      "\n",
      "\n"
     ]
    }
   ],
   "source": [
    "# Printing the datatypes of each column to know confirm my anticipated outputs\n",
    "print ('datatypes for df3 columns:', '\\n', '\\n', df3.dtypes)\n",
    "print ('\\n')\n",
    "\n",
    "# Creating separate dfs for numeric and non-numeric columns for clarity\n",
    "numeric_features = df3[['time', 'cell_phones_total', 'population_total', 'phones_per_person']]\n",
    "non_numeric_features = df3[['geo', 'country']]\n",
    "\n",
    "# Printing answers \n",
    "print (numeric_features.describe())\n",
    "print ('\\n')\n",
    "print (non_numeric_features.describe())\n",
    "print ('\\n')"
   ]
  },
  {
   "cell_type": "markdown",
   "metadata": {
    "colab_type": "text",
    "id": "zALg-RrYaLcI"
   },
   "source": [
    "In 2017, what were the top 5 countries with the most cell phones total?\n",
    "\n",
    "Your list of countries should have these totals:\n",
    "\n",
    "| country | cell phones total |\n",
    "|:-------:|:-----------------:|\n",
    "|    ?    |     1,474,097,000 |\n",
    "|    ?    |     1,168,902,277 |\n",
    "|    ?    |       458,923,202 |\n",
    "|    ?    |       395,881,000 |\n",
    "|    ?    |       236,488,548 |\n",
    "\n"
   ]
  },
  {
   "cell_type": "code",
   "execution_count": 60,
   "metadata": {
    "colab": {},
    "colab_type": "code",
    "id": "JdlWvezHaZxD"
   },
   "outputs": [],
   "source": [
    "# This optional code formats float numbers with comma separators\n",
    "pd.options.display.float_format = '{:,}'.format"
   ]
  },
  {
   "cell_type": "code",
   "execution_count": 88,
   "metadata": {
    "colab": {},
    "colab_type": "code",
    "id": "smX8vzu4cyju"
   },
   "outputs": [
    {
     "data": {
      "text/html": [
       "<div>\n",
       "<style scoped>\n",
       "    .dataframe tbody tr th:only-of-type {\n",
       "        vertical-align: middle;\n",
       "    }\n",
       "\n",
       "    .dataframe tbody tr th {\n",
       "        vertical-align: top;\n",
       "    }\n",
       "\n",
       "    .dataframe thead th {\n",
       "        text-align: right;\n",
       "    }\n",
       "</style>\n",
       "<table border=\"1\" class=\"dataframe\">\n",
       "  <thead>\n",
       "    <tr style=\"text-align: right;\">\n",
       "      <th></th>\n",
       "      <th>geo</th>\n",
       "      <th>time</th>\n",
       "      <th>cell_phones_total</th>\n",
       "      <th>population_total</th>\n",
       "      <th>country</th>\n",
       "      <th>phones_per_person</th>\n",
       "    </tr>\n",
       "  </thead>\n",
       "  <tbody>\n",
       "    <tr>\n",
       "      <th>1496</th>\n",
       "      <td>CHN</td>\n",
       "      <td>2017</td>\n",
       "      <td>1,474,097,000.0</td>\n",
       "      <td>1409517397</td>\n",
       "      <td>China</td>\n",
       "      <td>1.0458168186766978</td>\n",
       "    </tr>\n",
       "    <tr>\n",
       "      <th>3595</th>\n",
       "      <td>IND</td>\n",
       "      <td>2017</td>\n",
       "      <td>1,168,902,277.0</td>\n",
       "      <td>1339180127</td>\n",
       "      <td>India</td>\n",
       "      <td>0.8728491809526382</td>\n",
       "    </tr>\n",
       "    <tr>\n",
       "      <th>3549</th>\n",
       "      <td>IDN</td>\n",
       "      <td>2017</td>\n",
       "      <td>458,923,202.0</td>\n",
       "      <td>263991379</td>\n",
       "      <td>Indonesia</td>\n",
       "      <td>1.738402230172827</td>\n",
       "    </tr>\n",
       "    <tr>\n",
       "      <th>8134</th>\n",
       "      <td>USA</td>\n",
       "      <td>2017</td>\n",
       "      <td>395,881,000.0</td>\n",
       "      <td>324459463</td>\n",
       "      <td>United States</td>\n",
       "      <td>1.2201246847283354</td>\n",
       "    </tr>\n",
       "    <tr>\n",
       "      <th>1084</th>\n",
       "      <td>BRA</td>\n",
       "      <td>2017</td>\n",
       "      <td>236,488,548.0</td>\n",
       "      <td>209288278</td>\n",
       "      <td>Brazil</td>\n",
       "      <td>1.1299655683535224</td>\n",
       "    </tr>\n",
       "  </tbody>\n",
       "</table>\n",
       "</div>"
      ],
      "text/plain": [
       "      geo  time  cell_phones_total  population_total        country  \\\n",
       "1496  CHN  2017    1,474,097,000.0        1409517397          China   \n",
       "3595  IND  2017    1,168,902,277.0        1339180127          India   \n",
       "3549  IDN  2017      458,923,202.0         263991379      Indonesia   \n",
       "8134  USA  2017      395,881,000.0         324459463  United States   \n",
       "1084  BRA  2017      236,488,548.0         209288278         Brazil   \n",
       "\n",
       "      phones_per_person  \n",
       "1496 1.0458168186766978  \n",
       "3595 0.8728491809526382  \n",
       "3549  1.738402230172827  \n",
       "8134 1.2201246847283354  \n",
       "1084 1.1299655683535224  "
      ]
     },
     "execution_count": 88,
     "metadata": {},
     "output_type": "execute_result"
    }
   ],
   "source": [
    "# Creating a df with only 2017 as the time as it is the only relevant time for this question\n",
    "df2017 = df3.loc[df3['time'] == 2017]\n",
    "\n",
    "# Here I am actually creating some more time-realted dfs for the bonus at the end\n",
    "phone_lovers = df3.loc[df3['time'] >= 2007]\n",
    "phone_loving_places = ('China', 'India', 'Indonesia', 'United States', 'Brazil')\n",
    "phone_lovers = phone_lovers.loc[phone_lovers['country'].isin (phone_loving_places)]\n",
    "\n",
    "# Sorting the df by the phone totals and checking my answer\n",
    "df2017_sorted = df2017.sort_values(by=['cell_phones_total'], ascending=False)\n",
    "df2017_sorted.head(5)\n",
    "#phone_lovers.country.nunique() gives 5 (number of countries needed)"
   ]
  },
  {
   "cell_type": "markdown",
   "metadata": {
    "colab_type": "text",
    "id": "03V3Wln_h0dj"
   },
   "source": [
    "2017 was the first year that China had more cell phones than people.\n",
    "\n",
    "What was the first year that the USA had more cell phones than people?"
   ]
  },
  {
   "cell_type": "code",
   "execution_count": 78,
   "metadata": {
    "colab": {},
    "colab_type": "code",
    "id": "KONQkQZ3haNC"
   },
   "outputs": [
    {
     "name": "stdout",
     "output_type": "stream",
     "text": [
      "These are all years where USA phone count has exceeded population:\n",
      "            country  time  phones_per_person\n",
      "8131  United States  2014  1.118914031833164\n",
      "8132  United States  2015 1.1949739048796058\n",
      "8133  United States  2016  1.228758722948959\n",
      "8134  United States  2017 1.2201246847283354\n",
      "\n",
      "\n",
      "This would be the first year it happened:\n",
      "            country  time  phones_per_person\n",
      "8131  United States  2014  1.118914031833164\n",
      "\n",
      "\n",
      "Here is the whole subet of USA data to quickly, visually confirm my answer:\n",
      "\n",
      "\n",
      "            country  time     phones_per_person\n",
      "8092  United States  1960                   0.0\n",
      "8093  United States  1965                   0.0\n",
      "8094  United States  1970                   0.0\n",
      "8095  United States  1975                   0.0\n",
      "8096  United States  1976                   0.0\n",
      "8097  United States  1977                   0.0\n",
      "8098  United States  1978                   0.0\n",
      "8099  United States  1979                   0.0\n",
      "8100  United States  1980                   0.0\n",
      "8101  United States  1984 0.0003839481811462992\n",
      "8102  United States  1985 0.0014127031793991398\n",
      "8103  United States  1986 0.0028047222831313516\n",
      "8104  United States  1987  0.005015650510093476\n",
      "8105  United States  1988  0.008353291723887707\n",
      "8106  United States  1989   0.01402942420624947\n",
      "8107  United States  1990   0.02092050863669834\n",
      "8108  United States  1991   0.02963880131237587\n",
      "8109  United States  1992  0.042853252624010636\n",
      "8110  United States  1993   0.06157006979450434\n",
      "8111  United States  1994   0.09185612070227213\n",
      "8112  United States  1995   0.12717687036278622\n",
      "8113  United States  1996   0.16384832955104026\n",
      "8114  United States  1997   0.20325198065731348\n",
      "8115  United States  1998   0.25117466499363805\n",
      "8116  United States  1999   0.30856451408807795\n",
      "8117  United States  2000    0.3882436784845066\n",
      "8118  United States  2001   0.45111083515532086\n",
      "8119  United States  2002    0.4932056452902494\n",
      "8120  United States  2003    0.5538679308699229\n",
      "8121  United States  2004    0.6317748925952943\n",
      "8122  United States  2005    0.6902054837276331\n",
      "8123  United States  2006    0.7709164231374367\n",
      "8124  United States  2007    0.8293546295279024\n",
      "8125  United States  2008    0.8613129084629373\n",
      "8126  United States  2009    0.8961260458264333\n",
      "8127  United States  2010    0.9237840688710478\n",
      "8128  United States  2011    0.9561250192584747\n",
      "8129  United States  2012    0.9728807457559626\n",
      "8130  United States  2013    0.9846652501340288\n",
      "8131  United States  2014     1.118914031833164\n",
      "8132  United States  2015    1.1949739048796058\n",
      "8133  United States  2016     1.228758722948959\n",
      "8134  United States  2017    1.2201246847283354\n"
     ]
    }
   ],
   "source": [
    "# Here I am defining a new df of years where the US had a phone to person ratio > 1\n",
    "# ...which would obviously mean more phones than people\n",
    "usa_more_phones = usa.loc[usa['phones_per_person'] > 1]\n",
    "print ('These are all years where USA phone count has exceeded population:')\n",
    "print (usa_more_phones)\n",
    "print ('\\n')\n",
    "print ('This would be the first year it happened:')\n",
    "\n",
    "# Here I am finding the first year it happened by finding the least numbered year\n",
    "# where phone to person ratio is still > 1\n",
    "print (usa_more_phones.loc[usa_more_phones['time'] == usa_more_phones['time'].min()])\n",
    "print ('\\n')\n",
    "\n",
    "# This is unneccesary, but I like to visually check when possible\n",
    "print ('Here is the whole subet of USA data to quickly, visually confirm my answer:')\n",
    "print ('\\n')\n",
    "print (usa)"
   ]
  },
  {
   "cell_type": "markdown",
   "metadata": {
    "colab_type": "text",
    "id": "6J7iwMnTg8KZ"
   },
   "source": [
    "## Part 4. Reshape data"
   ]
  },
  {
   "cell_type": "markdown",
   "metadata": {
    "colab_type": "text",
    "id": "LP9InazRkUxG"
   },
   "source": [
    "Create a pivot table:\n",
    "- Columns: Years 2007—2017\n",
    "- Rows: China, India, United States, Indonesia, Brazil (order doesn't matter)\n",
    "- Values: Cell Phones Total\n",
    "\n",
    "The table's shape should be: (5, 11)"
   ]
  },
  {
   "cell_type": "code",
   "execution_count": 93,
   "metadata": {
    "colab": {},
    "colab_type": "code",
    "id": "JD7mXXjLj4Ue",
    "scrolled": true
   },
   "outputs": [
    {
     "name": "stdout",
     "output_type": "stream",
     "text": [
      "Pivot table shape: (5, 11)\n"
     ]
    }
   ],
   "source": [
    "# Pretty straight-forward pivot table creation and then printing to check answer\n",
    "phone_lovers_pivot = phone_lovers.pivot_table(index='country', columns='time',\n",
    "                                             values='cell_phones_total')\n",
    "\n",
    "print ('Pivot table shape:', phone_lovers_pivot.shape)"
   ]
  },
  {
   "cell_type": "markdown",
   "metadata": {
    "colab_type": "text",
    "id": "CNKTu2DCnAo6"
   },
   "source": [
    "#### OPTIONAL BONUS QUESTION!\n",
    "\n",
    "Sort these 5 countries, by biggest increase in cell phones from 2007 to 2017.\n",
    "\n",
    "Which country had 935,282,277 more cell phones in 2017 versus 2007?"
   ]
  },
  {
   "cell_type": "code",
   "execution_count": 137,
   "metadata": {
    "colab": {},
    "colab_type": "code",
    "id": "O4Aecv1fmQlj"
   },
   "outputs": [
    {
     "name": "stdout",
     "output_type": "stream",
     "text": [
      "   level_0  index  geo  time  cell_phones_total  population_total  \\\n",
      "0        2   3585  IND  2007      233,620,000.0        1179681239   \n",
      "1        1   1486  CHN  2007      547,306,000.0        1336800506   \n",
      "2        3   3539  IDN  2007       93,386,881.0         232989141   \n",
      "3        4   8124  USA  2007      249,300,000.0         300595175   \n",
      "4        0   1074  BRA  2007      120,980,103.0         191026637   \n",
      "\n",
      "         country   phones_per_person  10-yr nom. increase  \n",
      "0          India 0.19803654773558707        935,282,277.0  \n",
      "1          China   0.409414865975522        926,791,000.0  \n",
      "2      Indonesia 0.40082074468869777        365,536,321.0  \n",
      "3  United States  0.8293546295279024        146,581,000.0  \n",
      "4         Brazil  0.6333153580042348        115,508,445.0  \n",
      "\n",
      "\n",
      "The country that gained 935,282,277 phones is India\n"
     ]
    }
   ],
   "source": [
    "# Defining phone totals for the relevant countries for the bottom of the relevant year range\n",
    "phone_lovers_since_07 = phone_lovers.loc[phone_lovers['time'] == 2007]\n",
    "\n",
    "# Defining phone totals for the relevant countries for the top end of the relevant year range\n",
    "recent_phone_lovers = phone_lovers.loc[phone_lovers['time'] == 2017]\n",
    "\n",
    "# Creating the df for my 10 year increase\n",
    "more_phone_lovers_than_ever = phone_lovers_since_07\n",
    "\n",
    "# Adjusting the data a bit\n",
    "more_phone_lovers_than_ever = more_phone_lovers_than_ever.sort_values(by='country').reset_index()\n",
    "phone_lovers_since_07 = phone_lovers_since_07.sort_values(by='country').reset_index()\n",
    "recent_phone_lovers = recent_phone_lovers.sort_values(by='country').reset_index()\n",
    "\n",
    "# Creating the column with the 10-yr increase \n",
    "more_phone_lovers_than_ever['10-yr nom. increase'] = (recent_phone_lovers['cell_phones_total'] - \n",
    "                                                      phone_lovers_since_07['cell_phones_total'])\n",
    "# Sorting as specified\n",
    "more_phone_lovers_than_ever = more_phone_lovers_than_ever.sort_values(\n",
    "    by='10-yr nom. increase', ascending=False)\n",
    "more_phone_lovers_than_ever = more_phone_lovers_than_ever.reset_index()\n",
    "\n",
    "# Printing to check answers\n",
    "print (more_phone_lovers_than_ever.head())\n",
    "print ('\\n')\n",
    "print ('The country that gained 935,282,277 phones is', more_phone_lovers_than_ever.at[0,'country'])\n",
    "\n",
    "\n",
    "# What Questions can be answered: a lot. One that comes to mind might be emerging market population growth as it\n",
    "# relates to phone count growth. This could be pretty important for a company like Apple who just got done saying\n",
    "# trade tensions and EM slowdown have hurt their growth in China"
   ]
  },
  {
   "cell_type": "markdown",
   "metadata": {
    "colab_type": "text",
    "id": "7iHkMsa3Rorh"
   },
   "source": [
    "If you have the time and curiosity, what other questions can you ask and answer with this data?"
   ]
  }
 ],
 "metadata": {
  "colab": {
   "collapsed_sections": [],
   "name": "DS_Unit_1_Sprint_Challenge_2_Data_Wrangling.ipynb",
   "provenance": [],
   "version": "0.3.2"
  },
  "kernelspec": {
   "display_name": "Python 3",
   "language": "python",
   "name": "python3"
  },
  "language_info": {
   "codemirror_mode": {
    "name": "ipython",
    "version": 3
   },
   "file_extension": ".py",
   "mimetype": "text/x-python",
   "name": "python",
   "nbconvert_exporter": "python",
   "pygments_lexer": "ipython3",
   "version": "3.7.1"
  }
 },
 "nbformat": 4,
 "nbformat_minor": 1
}
