{
  "nbformat": 4,
  "nbformat_minor": 0,
  "metadata": {
    "colab": {
      "name": "Tyler_Sheeppard_Ideas_for_data_storytelling.ipynb",
      "version": "0.3.2",
      "provenance": [],
      "collapsed_sections": [],
      "include_colab_link": true
    },
    "kernelspec": {
      "name": "python3",
      "display_name": "Python 3"
    }
  },
  "cells": [
    {
      "cell_type": "markdown",
      "metadata": {
        "id": "view-in-github",
        "colab_type": "text"
      },
      "source": [
        "<a href=\"https://colab.research.google.com/github/ty3117/DS-Unit-1-Sprint-2-Data-Wrangling-and-Storytelling/blob/master/Tyler_Sheeppard_Ideas_for_data_storytelling.ipynb\" target=\"_parent\"><img src=\"https://colab.research.google.com/assets/colab-badge.svg\" alt=\"Open In Colab\"/></a>"
      ]
    },
    {
      "cell_type": "code",
      "metadata": {
        "id": "WHug4xxlp8R5",
        "colab_type": "code",
        "colab": {}
      },
      "source": [
        ""
      ],
      "execution_count": 0,
      "outputs": []
    },
    {
      "cell_type": "markdown",
      "metadata": {
        "id": "ypWxam8Op9hV",
        "colab_type": "text"
      },
      "source": [
        "# Ideas for data storytelling\n",
        "\n",
        "## You\n",
        "\n",
        "What do you care about?\n",
        "- health\n",
        "- finance\n",
        "\n",
        "What do you know about?\n",
        "- art\n",
        "- random facts about information no one would think to look up\n",
        "\n",
        "What decisions do you face?\n",
        "- what I want to do after graduation\n",
        "- what to do while still enrolled in school for a job\n",
        "\n",
        "## Seven templates\n",
        "\n",
        "Training Kit (https://learn.lambdaschool.com/ds/module/recedjanlbpqxic2r) explains the seven templates from Priceonomics.\n",
        "\n",
        "Can you apply the templates to your topics? \n",
        "\n",
        "1. Geographic Variation\n",
        "- yes\n",
        "- yes\n",
        "\n",
        "2. Trend related to the news\n",
        "- yes\n",
        "=yes\n",
        "\n",
        "3. Who does that?\n",
        "- yes\n",
        "- yes\n",
        "\n",
        "4. Answering a question people care about\n",
        "- yes \n",
        "- yes\n",
        "\n",
        "5. Valuable to businesses\n",
        "- yes\n",
        "- yes\n",
        "\n",
        "6. What's the most popular?\n",
        "- yes\n",
        "- es\n",
        "\n",
        "7. Cost/Money rankings\n",
        "- yes\n",
        "- es\n",
        "\n",
        "## Misconceptions\n",
        "\n",
        "What misconceptions do people have about your topic?\n",
        "- health has to do with how you take care of yourself only\n",
        "- only the rich become rich\n",
        "\n",
        "\n",
        "## Examples\n",
        "\n",
        "What data storytelling example inspires you?\n",
        "https://www.forbes.com/sites/brentdykes/2016/03/31/data-storytelling-the-essential-data-science-skill-everyone-needs/#74feb8d152ad\n",
        "\n",
        "Could you do a new hypothesis, for the same question?\n",
        "- maybe\n",
        "\n",
        "Could you do a new question, for the same topic?\n",
        "- yes\n",
        "\n",
        "Could you do a new topic, with the same \"style\"?\n",
        "- maybe\n",
        "\n",
        "## Data\n",
        "\n",
        "Where could you search for data about your topic?\n",
        "- any medical journal willing to share their data\n",
        "- stocks, public info for money/income census\n",
        "\n",
        "# Assignment!\n",
        "\n",
        "Fill out the above template *twice*, for two different ideas.\n",
        "\n",
        "Then compare and contrast and select one as the idea you're leaning towards\n",
        "working on for your project week."
      ]
    }
  ]
}