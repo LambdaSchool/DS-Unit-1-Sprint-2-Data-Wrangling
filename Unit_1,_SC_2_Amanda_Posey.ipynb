{
  "nbformat": 4,
  "nbformat_minor": 0,
  "metadata": {
    "colab": {
      "name": "Unit 1, SC 2 - Amanda Posey",
      "version": "0.3.2",
      "provenance": [],
      "collapsed_sections": [],
      "include_colab_link": true
    },
    "language_info": {
      "codemirror_mode": {
        "name": "ipython",
        "version": 3
      },
      "file_extension": ".py",
      "mimetype": "text/x-python",
      "name": "python",
      "nbconvert_exporter": "python",
      "pygments_lexer": "ipython3",
      "version": "3.7.1"
    },
    "kernelspec": {
      "display_name": "Python 3",
      "language": "python",
      "name": "python3"
    }
  },
  "cells": [
    {
      "cell_type": "markdown",
      "metadata": {
        "id": "view-in-github",
        "colab_type": "text"
      },
      "source": [
        "<a href=\"https://colab.research.google.com/github/aposey394/DS-Unit-1-Sprint-2-Data-Wrangling-and-Storytelling/blob/master/Unit_1%2C_SC_2_Amanda_Posey.ipynb\" target=\"_parent\"><img src=\"https://colab.research.google.com/assets/colab-badge.svg\" alt=\"Open In Colab\"/></a>"
      ]
    },
    {
      "cell_type": "markdown",
      "metadata": {
        "colab_type": "text",
        "id": "4yMHi_PX9hEz"
      },
      "source": [
        "# Data Science Unit 1 Sprint Challenge 2\n",
        "\n",
        "## Data Wrangling and Storytelling\n",
        "\n",
        "Taming data from its raw form into informative insights and stories."
      ]
    },
    {
      "cell_type": "markdown",
      "metadata": {
        "id": "9wIvtOss9H_i",
        "colab_type": "text"
      },
      "source": [
        "## Data Wrangling\n",
        "\n",
        "In this Sprint Challenge you will first \"wrangle\" some data from [Gapminder](https://www.gapminder.org/about-gapminder/), a Swedish non-profit co-founded by Hans Rosling. \"Gapminder produces free teaching resources making the world understandable based on reliable statistics.\"\n",
        "- [Cell phones (total), by country and year](https://raw.githubusercontent.com/open-numbers/ddf--gapminder--systema_globalis/master/ddf--datapoints--cell_phones_total--by--geo--time.csv)\n",
        "- [Population (total), by country and year](https://raw.githubusercontent.com/open-numbers/ddf--gapminder--systema_globalis/master/ddf--datapoints--population_total--by--geo--time.csv)\n",
        "- [Geo country codes](https://github.com/open-numbers/ddf--gapminder--systema_globalis/blob/master/ddf--entities--geo--country.csv)\n",
        "\n",
        "These two links have everything you need to successfully complete the first part of this sprint challenge.\n",
        "- [Pandas documentation: Working with Text Data](https://pandas.pydata.org/pandas-docs/stable/text.html) (one question)\n",
        "- [Pandas Cheat Sheet](https://github.com/pandas-dev/pandas/blob/master/doc/cheatsheet/Pandas_Cheat_Sheet.pdf) (everything else)"
      ]
    },
    {
      "cell_type": "markdown",
      "metadata": {
        "colab_type": "text",
        "id": "wWEU2GemX68A"
      },
      "source": [
        "### Part 0. Load data\n",
        "\n",
        "You don't need to add or change anything here. Just run this cell and it loads the data for you, into three dataframes."
      ]
    },
    {
      "cell_type": "code",
      "metadata": {
        "colab_type": "code",
        "id": "bxKtSi5sRQOl",
        "colab": {}
      },
      "source": [
        "import pandas as pd\n",
        "\n",
        "cell_phones = pd.read_csv('https://raw.githubusercontent.com/open-numbers/ddf--gapminder--systema_globalis/master/ddf--datapoints--cell_phones_total--by--geo--time.csv')\n",
        "\n",
        "population = pd.read_csv('https://raw.githubusercontent.com/open-numbers/ddf--gapminder--systema_globalis/master/ddf--datapoints--population_total--by--geo--time.csv')\n",
        "\n",
        "geo_country_codes = (pd.read_csv('https://raw.githubusercontent.com/open-numbers/ddf--gapminder--systema_globalis/master/ddf--entities--geo--country.csv')\n",
        "                       .rename(columns={'country': 'geo', 'name': 'country'}))"
      ],
      "execution_count": 0,
      "outputs": []
    },
    {
      "cell_type": "markdown",
      "metadata": {
        "colab_type": "text",
        "id": "AZmVTeCsX9RC"
      },
      "source": [
        "### Part 1. Join data"
      ]
    },
    {
      "cell_type": "markdown",
      "metadata": {
        "colab_type": "text",
        "id": "GLzX58u4SfEy"
      },
      "source": [
        "First, join the `cell_phones` and `population` dataframes (with an inner join on `geo` and `time`).\n",
        "\n",
        "The resulting dataframe's shape should be: (8590, 4)"
      ]
    },
    {
      "cell_type": "code",
      "metadata": {
        "colab_type": "code",
        "id": "GVV7Hnj4SXBa",
        "outputId": "c3c62f95-9303-4b9c-fb07-aa06c732c33d",
        "colab": {
          "base_uri": "https://localhost:8080/",
          "height": 204
        }
      },
      "source": [
        "cell_phones.head()"
      ],
      "execution_count": 0,
      "outputs": [
        {
          "output_type": "execute_result",
          "data": {
            "text/html": [
              "<div>\n",
              "<style scoped>\n",
              "    .dataframe tbody tr th:only-of-type {\n",
              "        vertical-align: middle;\n",
              "    }\n",
              "\n",
              "    .dataframe tbody tr th {\n",
              "        vertical-align: top;\n",
              "    }\n",
              "\n",
              "    .dataframe thead th {\n",
              "        text-align: right;\n",
              "    }\n",
              "</style>\n",
              "<table border=\"1\" class=\"dataframe\">\n",
              "  <thead>\n",
              "    <tr style=\"text-align: right;\">\n",
              "      <th></th>\n",
              "      <th>geo</th>\n",
              "      <th>time</th>\n",
              "      <th>cell_phones_total</th>\n",
              "    </tr>\n",
              "  </thead>\n",
              "  <tbody>\n",
              "    <tr>\n",
              "      <th>0</th>\n",
              "      <td>abw</td>\n",
              "      <td>1960</td>\n",
              "      <td>0.0</td>\n",
              "    </tr>\n",
              "    <tr>\n",
              "      <th>1</th>\n",
              "      <td>abw</td>\n",
              "      <td>1965</td>\n",
              "      <td>0.0</td>\n",
              "    </tr>\n",
              "    <tr>\n",
              "      <th>2</th>\n",
              "      <td>abw</td>\n",
              "      <td>1970</td>\n",
              "      <td>0.0</td>\n",
              "    </tr>\n",
              "    <tr>\n",
              "      <th>3</th>\n",
              "      <td>abw</td>\n",
              "      <td>1975</td>\n",
              "      <td>0.0</td>\n",
              "    </tr>\n",
              "    <tr>\n",
              "      <th>4</th>\n",
              "      <td>abw</td>\n",
              "      <td>1976</td>\n",
              "      <td>0.0</td>\n",
              "    </tr>\n",
              "  </tbody>\n",
              "</table>\n",
              "</div>"
            ],
            "text/plain": [
              "   geo  time  cell_phones_total\n",
              "0  abw  1960                0.0\n",
              "1  abw  1965                0.0\n",
              "2  abw  1970                0.0\n",
              "3  abw  1975                0.0\n",
              "4  abw  1976                0.0"
            ]
          },
          "metadata": {
            "tags": []
          },
          "execution_count": 2
        }
      ]
    },
    {
      "cell_type": "code",
      "metadata": {
        "id": "7tkKNa8N87Ch",
        "colab_type": "code",
        "outputId": "d7bab561-a1d4-49e5-ebb9-20eb2ef1e192",
        "colab": {
          "base_uri": "https://localhost:8080/",
          "height": 204
        }
      },
      "source": [
        "population.head()"
      ],
      "execution_count": 0,
      "outputs": [
        {
          "output_type": "execute_result",
          "data": {
            "text/html": [
              "<div>\n",
              "<style scoped>\n",
              "    .dataframe tbody tr th:only-of-type {\n",
              "        vertical-align: middle;\n",
              "    }\n",
              "\n",
              "    .dataframe tbody tr th {\n",
              "        vertical-align: top;\n",
              "    }\n",
              "\n",
              "    .dataframe thead th {\n",
              "        text-align: right;\n",
              "    }\n",
              "</style>\n",
              "<table border=\"1\" class=\"dataframe\">\n",
              "  <thead>\n",
              "    <tr style=\"text-align: right;\">\n",
              "      <th></th>\n",
              "      <th>geo</th>\n",
              "      <th>time</th>\n",
              "      <th>population_total</th>\n",
              "    </tr>\n",
              "  </thead>\n",
              "  <tbody>\n",
              "    <tr>\n",
              "      <th>0</th>\n",
              "      <td>afg</td>\n",
              "      <td>1800</td>\n",
              "      <td>3280000</td>\n",
              "    </tr>\n",
              "    <tr>\n",
              "      <th>1</th>\n",
              "      <td>afg</td>\n",
              "      <td>1801</td>\n",
              "      <td>3280000</td>\n",
              "    </tr>\n",
              "    <tr>\n",
              "      <th>2</th>\n",
              "      <td>afg</td>\n",
              "      <td>1802</td>\n",
              "      <td>3280000</td>\n",
              "    </tr>\n",
              "    <tr>\n",
              "      <th>3</th>\n",
              "      <td>afg</td>\n",
              "      <td>1803</td>\n",
              "      <td>3280000</td>\n",
              "    </tr>\n",
              "    <tr>\n",
              "      <th>4</th>\n",
              "      <td>afg</td>\n",
              "      <td>1804</td>\n",
              "      <td>3280000</td>\n",
              "    </tr>\n",
              "  </tbody>\n",
              "</table>\n",
              "</div>"
            ],
            "text/plain": [
              "   geo  time  population_total\n",
              "0  afg  1800           3280000\n",
              "1  afg  1801           3280000\n",
              "2  afg  1802           3280000\n",
              "3  afg  1803           3280000\n",
              "4  afg  1804           3280000"
            ]
          },
          "metadata": {
            "tags": []
          },
          "execution_count": 3
        }
      ]
    },
    {
      "cell_type": "code",
      "metadata": {
        "id": "Q8ZUCCtd9ufQ",
        "colab_type": "code",
        "outputId": "1be26d2b-bdc7-45e4-9c78-5c1b791bb2ff",
        "colab": {
          "base_uri": "https://localhost:8080/",
          "height": 136
        }
      },
      "source": [
        "df_v2 = pd.merge(cell_phones, population, how='inner', on=('geo', 'time'))\n",
        "\n",
        "print(df_v2.head())\n",
        "\n",
        "# The df would have turned out the same if I hadn't added how and on, but I wasn't \n",
        "# sure if you just wanted to see it.\n",
        "\n",
        "print(df_v2.shape)"
      ],
      "execution_count": 0,
      "outputs": [
        {
          "output_type": "stream",
          "text": [
            "   geo  time  cell_phones_total  population_total\n",
            "0  afg  1960                0.0           8996351\n",
            "1  afg  1965                0.0           9938414\n",
            "2  afg  1970                0.0          11126123\n",
            "3  afg  1975                0.0          12590286\n",
            "4  afg  1976                0.0          12840299\n",
            "(8590, 4)\n"
          ],
          "name": "stdout"
        }
      ]
    },
    {
      "cell_type": "markdown",
      "metadata": {
        "colab_type": "text",
        "id": "xsXpDbwwW241"
      },
      "source": [
        "Then, select the `geo` and `country` columns from the `geo_country_codes` dataframe, and join with your population and cell phone data.\n",
        "\n",
        "The resulting dataframe's shape should be: (8590, 5)"
      ]
    },
    {
      "cell_type": "code",
      "metadata": {
        "colab_type": "code",
        "id": "Q2LaZta_W2CE",
        "outputId": "9b6b563c-695a-4fac-bc20-920e6e36f01a",
        "colab": {
          "base_uri": "https://localhost:8080/",
          "height": 136
        }
      },
      "source": [
        "df_v3 = pd.merge(df_v2,\n",
        "                geo_country_codes[['geo', 'country']],\n",
        "                 on='geo')\n",
        "\n",
        "print(df_v3.head())\n",
        "print(df_v3.shape)"
      ],
      "execution_count": 0,
      "outputs": [
        {
          "output_type": "stream",
          "text": [
            "   geo  time  cell_phones_total  population_total      country\n",
            "0  afg  1960                0.0           8996351  Afghanistan\n",
            "1  afg  1965                0.0           9938414  Afghanistan\n",
            "2  afg  1970                0.0          11126123  Afghanistan\n",
            "3  afg  1975                0.0          12590286  Afghanistan\n",
            "4  afg  1976                0.0          12840299  Afghanistan\n",
            "(8590, 5)\n"
          ],
          "name": "stdout"
        }
      ]
    },
    {
      "cell_type": "markdown",
      "metadata": {
        "id": "LxCJMpbk8jy6",
        "colab_type": "text"
      },
      "source": [
        "***Optional bonus for Part 1: Take initiative to join more data.***"
      ]
    },
    {
      "cell_type": "markdown",
      "metadata": {
        "colab_type": "text",
        "id": "oK96Uj7vYjFX"
      },
      "source": [
        "### Part 2. Make features"
      ]
    },
    {
      "cell_type": "markdown",
      "metadata": {
        "colab_type": "text",
        "id": "AD2fBNrOYzCG"
      },
      "source": [
        "Calculate the number of cell phones per person, and add this column onto your dataframe.\n",
        "\n",
        "(You've calculated correctly if you get 1.220 cell phones per person in the United States in 2017.)"
      ]
    },
    {
      "cell_type": "code",
      "metadata": {
        "id": "SE2qRoZ5B3Hd",
        "colab_type": "code",
        "outputId": "8fae0eef-d14e-461c-8b63-059cb5b7dcb8",
        "colab": {
          "base_uri": "https://localhost:8080/",
          "height": 34
        }
      },
      "source": [
        "usa = df_v3.loc[df_v3['country'] == 'United States']\n",
        "\n",
        "usa_2017 = usa[usa['time'].isin([2017])]\n",
        "\n",
        "print(395881000.0/324459463)"
      ],
      "execution_count": 0,
      "outputs": [
        {
          "output_type": "stream",
          "text": [
            "1.2201246847283354\n"
          ],
          "name": "stdout"
        }
      ]
    },
    {
      "cell_type": "code",
      "metadata": {
        "id": "M_s_rcF9HXUS",
        "colab_type": "code",
        "colab": {}
      },
      "source": [
        "pd.set_option('mode.chained_assignment', None)"
      ],
      "execution_count": 0,
      "outputs": []
    },
    {
      "cell_type": "code",
      "metadata": {
        "colab_type": "code",
        "id": "wXI9nQthYnFK",
        "outputId": "e4b0735a-6d92-4910-aeaf-3dc96ad81b84",
        "colab": {
          "base_uri": "https://localhost:8080/",
          "height": 80
        }
      },
      "source": [
        "usa_2017['phones_per_person'] = usa_2017['cell_phones_total']/usa_2017['population_total']\n",
        "\n",
        "usa_2017.head()"
      ],
      "execution_count": 0,
      "outputs": [
        {
          "output_type": "execute_result",
          "data": {
            "text/html": [
              "<div>\n",
              "<style scoped>\n",
              "    .dataframe tbody tr th:only-of-type {\n",
              "        vertical-align: middle;\n",
              "    }\n",
              "\n",
              "    .dataframe tbody tr th {\n",
              "        vertical-align: top;\n",
              "    }\n",
              "\n",
              "    .dataframe thead th {\n",
              "        text-align: right;\n",
              "    }\n",
              "</style>\n",
              "<table border=\"1\" class=\"dataframe\">\n",
              "  <thead>\n",
              "    <tr style=\"text-align: right;\">\n",
              "      <th></th>\n",
              "      <th>geo</th>\n",
              "      <th>time</th>\n",
              "      <th>cell_phones_total</th>\n",
              "      <th>population_total</th>\n",
              "      <th>country</th>\n",
              "      <th>phones_per_person</th>\n",
              "    </tr>\n",
              "  </thead>\n",
              "  <tbody>\n",
              "    <tr>\n",
              "      <th>8134</th>\n",
              "      <td>usa</td>\n",
              "      <td>2017</td>\n",
              "      <td>395881000.0</td>\n",
              "      <td>324459463</td>\n",
              "      <td>United States</td>\n",
              "      <td>1.220125</td>\n",
              "    </tr>\n",
              "  </tbody>\n",
              "</table>\n",
              "</div>"
            ],
            "text/plain": [
              "      geo  time  ...        country  phones_per_person\n",
              "8134  usa  2017  ...  United States           1.220125\n",
              "\n",
              "[1 rows x 6 columns]"
            ]
          },
          "metadata": {
            "tags": []
          },
          "execution_count": 44
        }
      ]
    },
    {
      "cell_type": "markdown",
      "metadata": {
        "colab_type": "text",
        "id": "S3QFdsnRZMH6"
      },
      "source": [
        "Modify the `geo` column to make the geo codes uppercase instead of lowercase."
      ]
    },
    {
      "cell_type": "code",
      "metadata": {
        "colab_type": "code",
        "id": "93ADij8_YkOq",
        "outputId": "f3bb6402-3c1f-4d2c-f244-fdb024a1e50d",
        "colab": {
          "base_uri": "https://localhost:8080/",
          "height": 204
        }
      },
      "source": [
        "df_v3['phones_per_person'] = df_v3['cell_phones_total']/df_v3['population_total']\n",
        "\n",
        "df_v3['geo'] = df_v3['geo'].str.upper()\n",
        "\n",
        "#data['Name'] = data['Name'].str.upper() \n",
        "\n",
        "df_v3.head()"
      ],
      "execution_count": 0,
      "outputs": [
        {
          "output_type": "execute_result",
          "data": {
            "text/html": [
              "<div>\n",
              "<style scoped>\n",
              "    .dataframe tbody tr th:only-of-type {\n",
              "        vertical-align: middle;\n",
              "    }\n",
              "\n",
              "    .dataframe tbody tr th {\n",
              "        vertical-align: top;\n",
              "    }\n",
              "\n",
              "    .dataframe thead th {\n",
              "        text-align: right;\n",
              "    }\n",
              "</style>\n",
              "<table border=\"1\" class=\"dataframe\">\n",
              "  <thead>\n",
              "    <tr style=\"text-align: right;\">\n",
              "      <th></th>\n",
              "      <th>geo</th>\n",
              "      <th>time</th>\n",
              "      <th>cell_phones_total</th>\n",
              "      <th>population_total</th>\n",
              "      <th>country</th>\n",
              "      <th>phones_per_person</th>\n",
              "    </tr>\n",
              "  </thead>\n",
              "  <tbody>\n",
              "    <tr>\n",
              "      <th>0</th>\n",
              "      <td>AFG</td>\n",
              "      <td>1960</td>\n",
              "      <td>0.0</td>\n",
              "      <td>8996351</td>\n",
              "      <td>Afghanistan</td>\n",
              "      <td>0.0</td>\n",
              "    </tr>\n",
              "    <tr>\n",
              "      <th>1</th>\n",
              "      <td>AFG</td>\n",
              "      <td>1965</td>\n",
              "      <td>0.0</td>\n",
              "      <td>9938414</td>\n",
              "      <td>Afghanistan</td>\n",
              "      <td>0.0</td>\n",
              "    </tr>\n",
              "    <tr>\n",
              "      <th>2</th>\n",
              "      <td>AFG</td>\n",
              "      <td>1970</td>\n",
              "      <td>0.0</td>\n",
              "      <td>11126123</td>\n",
              "      <td>Afghanistan</td>\n",
              "      <td>0.0</td>\n",
              "    </tr>\n",
              "    <tr>\n",
              "      <th>3</th>\n",
              "      <td>AFG</td>\n",
              "      <td>1975</td>\n",
              "      <td>0.0</td>\n",
              "      <td>12590286</td>\n",
              "      <td>Afghanistan</td>\n",
              "      <td>0.0</td>\n",
              "    </tr>\n",
              "    <tr>\n",
              "      <th>4</th>\n",
              "      <td>AFG</td>\n",
              "      <td>1976</td>\n",
              "      <td>0.0</td>\n",
              "      <td>12840299</td>\n",
              "      <td>Afghanistan</td>\n",
              "      <td>0.0</td>\n",
              "    </tr>\n",
              "  </tbody>\n",
              "</table>\n",
              "</div>"
            ],
            "text/plain": [
              "   geo  time  ...      country  phones_per_person\n",
              "0  AFG  1960  ...  Afghanistan                0.0\n",
              "1  AFG  1965  ...  Afghanistan                0.0\n",
              "2  AFG  1970  ...  Afghanistan                0.0\n",
              "3  AFG  1975  ...  Afghanistan                0.0\n",
              "4  AFG  1976  ...  Afghanistan                0.0\n",
              "\n",
              "[5 rows x 6 columns]"
            ]
          },
          "metadata": {
            "tags": []
          },
          "execution_count": 47
        }
      ]
    },
    {
      "cell_type": "markdown",
      "metadata": {
        "id": "cQR5RhDa8jzO",
        "colab_type": "text"
      },
      "source": [
        "***Optional bonus for Part 2: Take initiative to make more features.***"
      ]
    },
    {
      "cell_type": "markdown",
      "metadata": {
        "colab_type": "text",
        "id": "hlPDAFCfaF6C"
      },
      "source": [
        "### Part 3. Process data"
      ]
    },
    {
      "cell_type": "markdown",
      "metadata": {
        "colab_type": "text",
        "id": "k-pudNWve2SQ"
      },
      "source": [
        "Use the describe function, to describe your dataframe's numeric columns, and then its non-numeric columns.\n",
        "\n",
        "(You'll see the time period ranges from 1960 to 2017, and there are 195 unique countries represented.)"
      ]
    },
    {
      "cell_type": "code",
      "metadata": {
        "colab_type": "code",
        "id": "g26yemKre2Cu",
        "outputId": "b6a2356f-c185-40a6-85f0-b156039f8b4b",
        "colab": {
          "base_uri": "https://localhost:8080/",
          "height": 297
        }
      },
      "source": [
        "import numpy as np\n",
        "\n",
        "df_v3.describe(include=[np.number])"
      ],
      "execution_count": 50,
      "outputs": [
        {
          "output_type": "execute_result",
          "data": {
            "text/html": [
              "<div>\n",
              "<style scoped>\n",
              "    .dataframe tbody tr th:only-of-type {\n",
              "        vertical-align: middle;\n",
              "    }\n",
              "\n",
              "    .dataframe tbody tr th {\n",
              "        vertical-align: top;\n",
              "    }\n",
              "\n",
              "    .dataframe thead th {\n",
              "        text-align: right;\n",
              "    }\n",
              "</style>\n",
              "<table border=\"1\" class=\"dataframe\">\n",
              "  <thead>\n",
              "    <tr style=\"text-align: right;\">\n",
              "      <th></th>\n",
              "      <th>time</th>\n",
              "      <th>cell_phones_total</th>\n",
              "      <th>population_total</th>\n",
              "      <th>phones_per_person</th>\n",
              "    </tr>\n",
              "  </thead>\n",
              "  <tbody>\n",
              "    <tr>\n",
              "      <th>count</th>\n",
              "      <td>8590.000000</td>\n",
              "      <td>8.590000e+03</td>\n",
              "      <td>8.590000e+03</td>\n",
              "      <td>8590.000000</td>\n",
              "    </tr>\n",
              "    <tr>\n",
              "      <th>mean</th>\n",
              "      <td>1994.193481</td>\n",
              "      <td>9.004950e+06</td>\n",
              "      <td>2.983823e+07</td>\n",
              "      <td>0.279639</td>\n",
              "    </tr>\n",
              "    <tr>\n",
              "      <th>std</th>\n",
              "      <td>14.257975</td>\n",
              "      <td>5.573408e+07</td>\n",
              "      <td>1.161284e+08</td>\n",
              "      <td>0.454247</td>\n",
              "    </tr>\n",
              "    <tr>\n",
              "      <th>min</th>\n",
              "      <td>1960.000000</td>\n",
              "      <td>0.000000e+00</td>\n",
              "      <td>4.433000e+03</td>\n",
              "      <td>0.000000</td>\n",
              "    </tr>\n",
              "    <tr>\n",
              "      <th>25%</th>\n",
              "      <td>1983.000000</td>\n",
              "      <td>0.000000e+00</td>\n",
              "      <td>1.456148e+06</td>\n",
              "      <td>0.000000</td>\n",
              "    </tr>\n",
              "    <tr>\n",
              "      <th>50%</th>\n",
              "      <td>1995.000000</td>\n",
              "      <td>6.200000e+03</td>\n",
              "      <td>5.725062e+06</td>\n",
              "      <td>0.001564</td>\n",
              "    </tr>\n",
              "    <tr>\n",
              "      <th>75%</th>\n",
              "      <td>2006.000000</td>\n",
              "      <td>1.697652e+06</td>\n",
              "      <td>1.810581e+07</td>\n",
              "      <td>0.461149</td>\n",
              "    </tr>\n",
              "    <tr>\n",
              "      <th>max</th>\n",
              "      <td>2017.000000</td>\n",
              "      <td>1.474097e+09</td>\n",
              "      <td>1.409517e+09</td>\n",
              "      <td>2.490243</td>\n",
              "    </tr>\n",
              "  </tbody>\n",
              "</table>\n",
              "</div>"
            ],
            "text/plain": [
              "              time  cell_phones_total  population_total  phones_per_person\n",
              "count  8590.000000       8.590000e+03      8.590000e+03        8590.000000\n",
              "mean   1994.193481       9.004950e+06      2.983823e+07           0.279639\n",
              "std      14.257975       5.573408e+07      1.161284e+08           0.454247\n",
              "min    1960.000000       0.000000e+00      4.433000e+03           0.000000\n",
              "25%    1983.000000       0.000000e+00      1.456148e+06           0.000000\n",
              "50%    1995.000000       6.200000e+03      5.725062e+06           0.001564\n",
              "75%    2006.000000       1.697652e+06      1.810581e+07           0.461149\n",
              "max    2017.000000       1.474097e+09      1.409517e+09           2.490243"
            ]
          },
          "metadata": {
            "tags": []
          },
          "execution_count": 50
        }
      ]
    },
    {
      "cell_type": "code",
      "metadata": {
        "id": "4ZoOotgIJ8BK",
        "colab_type": "code",
        "colab": {
          "base_uri": "https://localhost:8080/",
          "height": 173
        },
        "outputId": "4296c0d9-34af-44cf-e86d-36323aa8486f"
      },
      "source": [
        "df_v3.describe(include=[np.object])"
      ],
      "execution_count": 52,
      "outputs": [
        {
          "output_type": "execute_result",
          "data": {
            "text/html": [
              "<div>\n",
              "<style scoped>\n",
              "    .dataframe tbody tr th:only-of-type {\n",
              "        vertical-align: middle;\n",
              "    }\n",
              "\n",
              "    .dataframe tbody tr th {\n",
              "        vertical-align: top;\n",
              "    }\n",
              "\n",
              "    .dataframe thead th {\n",
              "        text-align: right;\n",
              "    }\n",
              "</style>\n",
              "<table border=\"1\" class=\"dataframe\">\n",
              "  <thead>\n",
              "    <tr style=\"text-align: right;\">\n",
              "      <th></th>\n",
              "      <th>geo</th>\n",
              "      <th>country</th>\n",
              "    </tr>\n",
              "  </thead>\n",
              "  <tbody>\n",
              "    <tr>\n",
              "      <th>count</th>\n",
              "      <td>8590</td>\n",
              "      <td>8590</td>\n",
              "    </tr>\n",
              "    <tr>\n",
              "      <th>unique</th>\n",
              "      <td>195</td>\n",
              "      <td>195</td>\n",
              "    </tr>\n",
              "    <tr>\n",
              "      <th>top</th>\n",
              "      <td>AUS</td>\n",
              "      <td>Kyrgyz Republic</td>\n",
              "    </tr>\n",
              "    <tr>\n",
              "      <th>freq</th>\n",
              "      <td>46</td>\n",
              "      <td>46</td>\n",
              "    </tr>\n",
              "  </tbody>\n",
              "</table>\n",
              "</div>"
            ],
            "text/plain": [
              "         geo          country\n",
              "count   8590             8590\n",
              "unique   195              195\n",
              "top      AUS  Kyrgyz Republic\n",
              "freq      46               46"
            ]
          },
          "metadata": {
            "tags": []
          },
          "execution_count": 52
        }
      ]
    },
    {
      "cell_type": "markdown",
      "metadata": {
        "colab_type": "text",
        "id": "zALg-RrYaLcI"
      },
      "source": [
        "In 2017, what were the top 5 countries with the most cell phones total?\n",
        "\n",
        "Your list of countries should have these totals:\n",
        "\n",
        "| country | cell phones total |\n",
        "|:-------:|:-----------------:|\n",
        "|    ?    |     1,474,097,000 |\n",
        "|    ?    |     1,168,902,277 |\n",
        "|    ?    |       458,923,202 |\n",
        "|    ?    |       395,881,000 |\n",
        "|    ?    |       236,488,548 |\n",
        "\n"
      ]
    },
    {
      "cell_type": "code",
      "metadata": {
        "colab_type": "code",
        "id": "JdlWvezHaZxD",
        "colab": {}
      },
      "source": [
        "# This optional code formats float numbers with comma separators\n",
        "pd.options.display.float_format = '{:,}'.format"
      ],
      "execution_count": 0,
      "outputs": []
    },
    {
      "cell_type": "code",
      "metadata": {
        "id": "LcgP-Nt2NEtA",
        "colab_type": "code",
        "colab": {
          "base_uri": "https://localhost:8080/",
          "height": 1969
        },
        "outputId": "53e91704-0139-4f5b-8545-003d5ddc6316"
      },
      "source": [
        "df_v3.sort_values('cell_phones_total', ascending=False)\n",
        "\n",
        "# I've tried way too long to get a grouped df to sort properly. \n",
        "# Please tell me how after we're done."
      ],
      "execution_count": 76,
      "outputs": [
        {
          "output_type": "execute_result",
          "data": {
            "text/html": [
              "<div>\n",
              "<style scoped>\n",
              "    .dataframe tbody tr th:only-of-type {\n",
              "        vertical-align: middle;\n",
              "    }\n",
              "\n",
              "    .dataframe tbody tr th {\n",
              "        vertical-align: top;\n",
              "    }\n",
              "\n",
              "    .dataframe thead th {\n",
              "        text-align: right;\n",
              "    }\n",
              "</style>\n",
              "<table border=\"1\" class=\"dataframe\">\n",
              "  <thead>\n",
              "    <tr style=\"text-align: right;\">\n",
              "      <th></th>\n",
              "      <th>geo</th>\n",
              "      <th>time</th>\n",
              "      <th>cell_phones_total</th>\n",
              "      <th>population_total</th>\n",
              "      <th>country</th>\n",
              "      <th>phones_per_person</th>\n",
              "    </tr>\n",
              "  </thead>\n",
              "  <tbody>\n",
              "    <tr>\n",
              "      <th>1496</th>\n",
              "      <td>CHN</td>\n",
              "      <td>2017</td>\n",
              "      <td>1,474,097,000.0</td>\n",
              "      <td>1409517397</td>\n",
              "      <td>China</td>\n",
              "      <td>1.0458168186766978</td>\n",
              "    </tr>\n",
              "    <tr>\n",
              "      <th>1495</th>\n",
              "      <td>CHN</td>\n",
              "      <td>2016</td>\n",
              "      <td>1,364,934,000.0</td>\n",
              "      <td>1403500365</td>\n",
              "      <td>China</td>\n",
              "      <td>0.9725213003418065</td>\n",
              "    </tr>\n",
              "    <tr>\n",
              "      <th>1494</th>\n",
              "      <td>CHN</td>\n",
              "      <td>2015</td>\n",
              "      <td>1,291,984,200.0</td>\n",
              "      <td>1397028553</td>\n",
              "      <td>China</td>\n",
              "      <td>0.9248087286588194</td>\n",
              "    </tr>\n",
              "    <tr>\n",
              "      <th>1493</th>\n",
              "      <td>CHN</td>\n",
              "      <td>2014</td>\n",
              "      <td>1,286,093,000.0</td>\n",
              "      <td>1390110388</td>\n",
              "      <td>China</td>\n",
              "      <td>0.9251732891877361</td>\n",
              "    </tr>\n",
              "    <tr>\n",
              "      <th>1492</th>\n",
              "      <td>CHN</td>\n",
              "      <td>2013</td>\n",
              "      <td>1,229,113,000.0</td>\n",
              "      <td>1382793212</td>\n",
              "      <td>China</td>\n",
              "      <td>0.8888624772913624</td>\n",
              "    </tr>\n",
              "    <tr>\n",
              "      <th>3595</th>\n",
              "      <td>IND</td>\n",
              "      <td>2017</td>\n",
              "      <td>1,168,902,277.0</td>\n",
              "      <td>1339180127</td>\n",
              "      <td>India</td>\n",
              "      <td>0.8728491809526382</td>\n",
              "    </tr>\n",
              "    <tr>\n",
              "      <th>3594</th>\n",
              "      <td>IND</td>\n",
              "      <td>2016</td>\n",
              "      <td>1,127,809,000.0</td>\n",
              "      <td>1324171354</td>\n",
              "      <td>India</td>\n",
              "      <td>0.8517092569576913</td>\n",
              "    </tr>\n",
              "    <tr>\n",
              "      <th>1491</th>\n",
              "      <td>CHN</td>\n",
              "      <td>2012</td>\n",
              "      <td>1,112,155,000.0</td>\n",
              "      <td>1375198619</td>\n",
              "      <td>China</td>\n",
              "      <td>0.8087231797896388</td>\n",
              "    </tr>\n",
              "    <tr>\n",
              "      <th>3593</th>\n",
              "      <td>IND</td>\n",
              "      <td>2015</td>\n",
              "      <td>1,001,056,000.0</td>\n",
              "      <td>1309053980</td>\n",
              "      <td>India</td>\n",
              "      <td>0.7647171280133154</td>\n",
              "    </tr>\n",
              "    <tr>\n",
              "      <th>1490</th>\n",
              "      <td>CHN</td>\n",
              "      <td>2011</td>\n",
              "      <td>986,253,000.0</td>\n",
              "      <td>1367480264</td>\n",
              "      <td>China</td>\n",
              "      <td>0.7212191838989495</td>\n",
              "    </tr>\n",
              "    <tr>\n",
              "      <th>3592</th>\n",
              "      <td>IND</td>\n",
              "      <td>2014</td>\n",
              "      <td>944,008,677.0</td>\n",
              "      <td>1293859294</td>\n",
              "      <td>India</td>\n",
              "      <td>0.7296069065451255</td>\n",
              "    </tr>\n",
              "    <tr>\n",
              "      <th>3589</th>\n",
              "      <td>IND</td>\n",
              "      <td>2011</td>\n",
              "      <td>893,862,478.0</td>\n",
              "      <td>1247236029</td>\n",
              "      <td>India</td>\n",
              "      <td>0.7166746768185286</td>\n",
              "    </tr>\n",
              "    <tr>\n",
              "      <th>3591</th>\n",
              "      <td>IND</td>\n",
              "      <td>2013</td>\n",
              "      <td>886,304,245.0</td>\n",
              "      <td>1278562207</td>\n",
              "      <td>India</td>\n",
              "      <td>0.6932038505029893</td>\n",
              "    </tr>\n",
              "    <tr>\n",
              "      <th>3590</th>\n",
              "      <td>IND</td>\n",
              "      <td>2012</td>\n",
              "      <td>864,720,917.0</td>\n",
              "      <td>1263065852</td>\n",
              "      <td>India</td>\n",
              "      <td>0.6846206123225949</td>\n",
              "    </tr>\n",
              "    <tr>\n",
              "      <th>1489</th>\n",
              "      <td>CHN</td>\n",
              "      <td>2010</td>\n",
              "      <td>859,003,000.0</td>\n",
              "      <td>1359755102</td>\n",
              "      <td>China</td>\n",
              "      <td>0.6317336105130495</td>\n",
              "    </tr>\n",
              "    <tr>\n",
              "      <th>3588</th>\n",
              "      <td>IND</td>\n",
              "      <td>2010</td>\n",
              "      <td>752,190,000.0</td>\n",
              "      <td>1230980691</td>\n",
              "      <td>India</td>\n",
              "      <td>0.6110493897259677</td>\n",
              "    </tr>\n",
              "    <tr>\n",
              "      <th>1488</th>\n",
              "      <td>CHN</td>\n",
              "      <td>2009</td>\n",
              "      <td>747,214,000.0</td>\n",
              "      <td>1352068091</td>\n",
              "      <td>China</td>\n",
              "      <td>0.5526452439590929</td>\n",
              "    </tr>\n",
              "    <tr>\n",
              "      <th>1487</th>\n",
              "      <td>CHN</td>\n",
              "      <td>2008</td>\n",
              "      <td>641,245,000.0</td>\n",
              "      <td>1344415227</td>\n",
              "      <td>China</td>\n",
              "      <td>0.4769694564014336</td>\n",
              "    </tr>\n",
              "    <tr>\n",
              "      <th>1486</th>\n",
              "      <td>CHN</td>\n",
              "      <td>2007</td>\n",
              "      <td>547,306,000.0</td>\n",
              "      <td>1336800506</td>\n",
              "      <td>China</td>\n",
              "      <td>0.409414865975522</td>\n",
              "    </tr>\n",
              "    <tr>\n",
              "      <th>3587</th>\n",
              "      <td>IND</td>\n",
              "      <td>2009</td>\n",
              "      <td>525,090,000.0</td>\n",
              "      <td>1214270132</td>\n",
              "      <td>India</td>\n",
              "      <td>0.43243260800225297</td>\n",
              "    </tr>\n",
              "    <tr>\n",
              "      <th>1485</th>\n",
              "      <td>CHN</td>\n",
              "      <td>2006</td>\n",
              "      <td>461,058,000.0</td>\n",
              "      <td>1329209094</td>\n",
              "      <td>China</td>\n",
              "      <td>0.3468664200998914</td>\n",
              "    </tr>\n",
              "    <tr>\n",
              "      <th>3549</th>\n",
              "      <td>IDN</td>\n",
              "      <td>2017</td>\n",
              "      <td>458,923,202.0</td>\n",
              "      <td>263991379</td>\n",
              "      <td>Indonesia</td>\n",
              "      <td>1.738402230172827</td>\n",
              "    </tr>\n",
              "    <tr>\n",
              "      <th>8134</th>\n",
              "      <td>USA</td>\n",
              "      <td>2017</td>\n",
              "      <td>395,881,000.0</td>\n",
              "      <td>324459463</td>\n",
              "      <td>United States</td>\n",
              "      <td>1.2201246847283354</td>\n",
              "    </tr>\n",
              "    <tr>\n",
              "      <th>8133</th>\n",
              "      <td>USA</td>\n",
              "      <td>2016</td>\n",
              "      <td>395,881,000.0</td>\n",
              "      <td>322179605</td>\n",
              "      <td>United States</td>\n",
              "      <td>1.228758722948959</td>\n",
              "    </tr>\n",
              "    <tr>\n",
              "      <th>1484</th>\n",
              "      <td>CHN</td>\n",
              "      <td>2005</td>\n",
              "      <td>393,406,000.0</td>\n",
              "      <td>1321623490</td>\n",
              "      <td>China</td>\n",
              "      <td>0.2976687407394673</td>\n",
              "    </tr>\n",
              "    <tr>\n",
              "      <th>3548</th>\n",
              "      <td>IDN</td>\n",
              "      <td>2016</td>\n",
              "      <td>385,573,398.0</td>\n",
              "      <td>261115456</td>\n",
              "      <td>Indonesia</td>\n",
              "      <td>1.4766395061654258</td>\n",
              "    </tr>\n",
              "    <tr>\n",
              "      <th>8132</th>\n",
              "      <td>USA</td>\n",
              "      <td>2015</td>\n",
              "      <td>382,307,000.0</td>\n",
              "      <td>319929162</td>\n",
              "      <td>United States</td>\n",
              "      <td>1.1949739048796058</td>\n",
              "    </tr>\n",
              "    <tr>\n",
              "      <th>8131</th>\n",
              "      <td>USA</td>\n",
              "      <td>2014</td>\n",
              "      <td>355,500,000.0</td>\n",
              "      <td>317718779</td>\n",
              "      <td>United States</td>\n",
              "      <td>1.118914031833164</td>\n",
              "    </tr>\n",
              "    <tr>\n",
              "      <th>3586</th>\n",
              "      <td>IND</td>\n",
              "      <td>2008</td>\n",
              "      <td>346,890,000.0</td>\n",
              "      <td>1197146906</td>\n",
              "      <td>India</td>\n",
              "      <td>0.2897639364571018</td>\n",
              "    </tr>\n",
              "    <tr>\n",
              "      <th>3547</th>\n",
              "      <td>IDN</td>\n",
              "      <td>2015</td>\n",
              "      <td>338,948,340.0</td>\n",
              "      <td>258162113</td>\n",
              "      <td>Indonesia</td>\n",
              "      <td>1.3129282839422685</td>\n",
              "    </tr>\n",
              "    <tr>\n",
              "      <th>...</th>\n",
              "      <td>...</td>\n",
              "      <td>...</td>\n",
              "      <td>...</td>\n",
              "      <td>...</td>\n",
              "      <td>...</td>\n",
              "      <td>...</td>\n",
              "    </tr>\n",
              "    <tr>\n",
              "      <th>3064</th>\n",
              "      <td>GNQ</td>\n",
              "      <td>1991</td>\n",
              "      <td>0.0</td>\n",
              "      <td>440624</td>\n",
              "      <td>Equatorial Guinea</td>\n",
              "      <td>0.0</td>\n",
              "    </tr>\n",
              "    <tr>\n",
              "      <th>3021</th>\n",
              "      <td>GNB</td>\n",
              "      <td>1994</td>\n",
              "      <td>0.0</td>\n",
              "      <td>1113541</td>\n",
              "      <td>Guinea-Bissau</td>\n",
              "      <td>0.0</td>\n",
              "    </tr>\n",
              "    <tr>\n",
              "      <th>3063</th>\n",
              "      <td>GNQ</td>\n",
              "      <td>1990</td>\n",
              "      <td>0.0</td>\n",
              "      <td>426846</td>\n",
              "      <td>Equatorial Guinea</td>\n",
              "      <td>0.0</td>\n",
              "    </tr>\n",
              "    <tr>\n",
              "      <th>3062</th>\n",
              "      <td>GNQ</td>\n",
              "      <td>1989</td>\n",
              "      <td>0.0</td>\n",
              "      <td>414138</td>\n",
              "      <td>Equatorial Guinea</td>\n",
              "      <td>0.0</td>\n",
              "    </tr>\n",
              "    <tr>\n",
              "      <th>3061</th>\n",
              "      <td>GNQ</td>\n",
              "      <td>1988</td>\n",
              "      <td>0.0</td>\n",
              "      <td>402326</td>\n",
              "      <td>Equatorial Guinea</td>\n",
              "      <td>0.0</td>\n",
              "    </tr>\n",
              "    <tr>\n",
              "      <th>3060</th>\n",
              "      <td>GNQ</td>\n",
              "      <td>1987</td>\n",
              "      <td>0.0</td>\n",
              "      <td>390173</td>\n",
              "      <td>Equatorial Guinea</td>\n",
              "      <td>0.0</td>\n",
              "    </tr>\n",
              "    <tr>\n",
              "      <th>3059</th>\n",
              "      <td>GNQ</td>\n",
              "      <td>1986</td>\n",
              "      <td>0.0</td>\n",
              "      <td>376024</td>\n",
              "      <td>Equatorial Guinea</td>\n",
              "      <td>0.0</td>\n",
              "    </tr>\n",
              "    <tr>\n",
              "      <th>3058</th>\n",
              "      <td>GNQ</td>\n",
              "      <td>1985</td>\n",
              "      <td>0.0</td>\n",
              "      <td>358896</td>\n",
              "      <td>Equatorial Guinea</td>\n",
              "      <td>0.0</td>\n",
              "    </tr>\n",
              "    <tr>\n",
              "      <th>3057</th>\n",
              "      <td>GNQ</td>\n",
              "      <td>1984</td>\n",
              "      <td>0.0</td>\n",
              "      <td>338086</td>\n",
              "      <td>Equatorial Guinea</td>\n",
              "      <td>0.0</td>\n",
              "    </tr>\n",
              "    <tr>\n",
              "      <th>3056</th>\n",
              "      <td>GNQ</td>\n",
              "      <td>1983</td>\n",
              "      <td>0.0</td>\n",
              "      <td>314475</td>\n",
              "      <td>Equatorial Guinea</td>\n",
              "      <td>0.0</td>\n",
              "    </tr>\n",
              "    <tr>\n",
              "      <th>3055</th>\n",
              "      <td>GNQ</td>\n",
              "      <td>1982</td>\n",
              "      <td>0.0</td>\n",
              "      <td>290617</td>\n",
              "      <td>Equatorial Guinea</td>\n",
              "      <td>0.0</td>\n",
              "    </tr>\n",
              "    <tr>\n",
              "      <th>3054</th>\n",
              "      <td>GNQ</td>\n",
              "      <td>1981</td>\n",
              "      <td>0.0</td>\n",
              "      <td>270063</td>\n",
              "      <td>Equatorial Guinea</td>\n",
              "      <td>0.0</td>\n",
              "    </tr>\n",
              "    <tr>\n",
              "      <th>3053</th>\n",
              "      <td>GNQ</td>\n",
              "      <td>1980</td>\n",
              "      <td>0.0</td>\n",
              "      <td>255325</td>\n",
              "      <td>Equatorial Guinea</td>\n",
              "      <td>0.0</td>\n",
              "    </tr>\n",
              "    <tr>\n",
              "      <th>3052</th>\n",
              "      <td>GNQ</td>\n",
              "      <td>1979</td>\n",
              "      <td>0.0</td>\n",
              "      <td>247078</td>\n",
              "      <td>Equatorial Guinea</td>\n",
              "      <td>0.0</td>\n",
              "    </tr>\n",
              "    <tr>\n",
              "      <th>3051</th>\n",
              "      <td>GNQ</td>\n",
              "      <td>1978</td>\n",
              "      <td>0.0</td>\n",
              "      <td>244485</td>\n",
              "      <td>Equatorial Guinea</td>\n",
              "      <td>0.0</td>\n",
              "    </tr>\n",
              "    <tr>\n",
              "      <th>3050</th>\n",
              "      <td>GNQ</td>\n",
              "      <td>1977</td>\n",
              "      <td>0.0</td>\n",
              "      <td>246677</td>\n",
              "      <td>Equatorial Guinea</td>\n",
              "      <td>0.0</td>\n",
              "    </tr>\n",
              "    <tr>\n",
              "      <th>3049</th>\n",
              "      <td>GNQ</td>\n",
              "      <td>1976</td>\n",
              "      <td>0.0</td>\n",
              "      <td>252194</td>\n",
              "      <td>Equatorial Guinea</td>\n",
              "      <td>0.0</td>\n",
              "    </tr>\n",
              "    <tr>\n",
              "      <th>3048</th>\n",
              "      <td>GNQ</td>\n",
              "      <td>1975</td>\n",
              "      <td>0.0</td>\n",
              "      <td>259747</td>\n",
              "      <td>Equatorial Guinea</td>\n",
              "      <td>0.0</td>\n",
              "    </tr>\n",
              "    <tr>\n",
              "      <th>3047</th>\n",
              "      <td>GNQ</td>\n",
              "      <td>1970</td>\n",
              "      <td>0.0</td>\n",
              "      <td>306515</td>\n",
              "      <td>Equatorial Guinea</td>\n",
              "      <td>0.0</td>\n",
              "    </tr>\n",
              "    <tr>\n",
              "      <th>3046</th>\n",
              "      <td>GNQ</td>\n",
              "      <td>1965</td>\n",
              "      <td>0.0</td>\n",
              "      <td>277396</td>\n",
              "      <td>Equatorial Guinea</td>\n",
              "      <td>0.0</td>\n",
              "    </tr>\n",
              "    <tr>\n",
              "      <th>3045</th>\n",
              "      <td>GNQ</td>\n",
              "      <td>1960</td>\n",
              "      <td>0.0</td>\n",
              "      <td>255323</td>\n",
              "      <td>Equatorial Guinea</td>\n",
              "      <td>0.0</td>\n",
              "    </tr>\n",
              "    <tr>\n",
              "      <th>3029</th>\n",
              "      <td>GNB</td>\n",
              "      <td>2002</td>\n",
              "      <td>0.0</td>\n",
              "      <td>1293523</td>\n",
              "      <td>Guinea-Bissau</td>\n",
              "      <td>0.0</td>\n",
              "    </tr>\n",
              "    <tr>\n",
              "      <th>3028</th>\n",
              "      <td>GNB</td>\n",
              "      <td>2001</td>\n",
              "      <td>0.0</td>\n",
              "      <td>1267512</td>\n",
              "      <td>Guinea-Bissau</td>\n",
              "      <td>0.0</td>\n",
              "    </tr>\n",
              "    <tr>\n",
              "      <th>3027</th>\n",
              "      <td>GNB</td>\n",
              "      <td>2000</td>\n",
              "      <td>0.0</td>\n",
              "      <td>1243229</td>\n",
              "      <td>Guinea-Bissau</td>\n",
              "      <td>0.0</td>\n",
              "    </tr>\n",
              "    <tr>\n",
              "      <th>3026</th>\n",
              "      <td>GNB</td>\n",
              "      <td>1999</td>\n",
              "      <td>0.0</td>\n",
              "      <td>1220794</td>\n",
              "      <td>Guinea-Bissau</td>\n",
              "      <td>0.0</td>\n",
              "    </tr>\n",
              "    <tr>\n",
              "      <th>3025</th>\n",
              "      <td>GNB</td>\n",
              "      <td>1998</td>\n",
              "      <td>0.0</td>\n",
              "      <td>1199915</td>\n",
              "      <td>Guinea-Bissau</td>\n",
              "      <td>0.0</td>\n",
              "    </tr>\n",
              "    <tr>\n",
              "      <th>3024</th>\n",
              "      <td>GNB</td>\n",
              "      <td>1997</td>\n",
              "      <td>0.0</td>\n",
              "      <td>1179727</td>\n",
              "      <td>Guinea-Bissau</td>\n",
              "      <td>0.0</td>\n",
              "    </tr>\n",
              "    <tr>\n",
              "      <th>3023</th>\n",
              "      <td>GNB</td>\n",
              "      <td>1996</td>\n",
              "      <td>0.0</td>\n",
              "      <td>1159060</td>\n",
              "      <td>Guinea-Bissau</td>\n",
              "      <td>0.0</td>\n",
              "    </tr>\n",
              "    <tr>\n",
              "      <th>3022</th>\n",
              "      <td>GNB</td>\n",
              "      <td>1995</td>\n",
              "      <td>0.0</td>\n",
              "      <td>1137122</td>\n",
              "      <td>Guinea-Bissau</td>\n",
              "      <td>0.0</td>\n",
              "    </tr>\n",
              "    <tr>\n",
              "      <th>0</th>\n",
              "      <td>AFG</td>\n",
              "      <td>1960</td>\n",
              "      <td>0.0</td>\n",
              "      <td>8996351</td>\n",
              "      <td>Afghanistan</td>\n",
              "      <td>0.0</td>\n",
              "    </tr>\n",
              "  </tbody>\n",
              "</table>\n",
              "<p>8590 rows × 6 columns</p>\n",
              "</div>"
            ],
            "text/plain": [
              "      geo  time  ...            country   phones_per_person\n",
              "1496  CHN  2017  ...              China  1.0458168186766978\n",
              "1495  CHN  2016  ...              China  0.9725213003418065\n",
              "1494  CHN  2015  ...              China  0.9248087286588194\n",
              "1493  CHN  2014  ...              China  0.9251732891877361\n",
              "1492  CHN  2013  ...              China  0.8888624772913624\n",
              "3595  IND  2017  ...              India  0.8728491809526382\n",
              "3594  IND  2016  ...              India  0.8517092569576913\n",
              "1491  CHN  2012  ...              China  0.8087231797896388\n",
              "3593  IND  2015  ...              India  0.7647171280133154\n",
              "1490  CHN  2011  ...              China  0.7212191838989495\n",
              "3592  IND  2014  ...              India  0.7296069065451255\n",
              "3589  IND  2011  ...              India  0.7166746768185286\n",
              "3591  IND  2013  ...              India  0.6932038505029893\n",
              "3590  IND  2012  ...              India  0.6846206123225949\n",
              "1489  CHN  2010  ...              China  0.6317336105130495\n",
              "3588  IND  2010  ...              India  0.6110493897259677\n",
              "1488  CHN  2009  ...              China  0.5526452439590929\n",
              "1487  CHN  2008  ...              China  0.4769694564014336\n",
              "1486  CHN  2007  ...              China   0.409414865975522\n",
              "3587  IND  2009  ...              India 0.43243260800225297\n",
              "1485  CHN  2006  ...              China  0.3468664200998914\n",
              "3549  IDN  2017  ...          Indonesia   1.738402230172827\n",
              "8134  USA  2017  ...      United States  1.2201246847283354\n",
              "8133  USA  2016  ...      United States   1.228758722948959\n",
              "1484  CHN  2005  ...              China  0.2976687407394673\n",
              "3548  IDN  2016  ...          Indonesia  1.4766395061654258\n",
              "8132  USA  2015  ...      United States  1.1949739048796058\n",
              "8131  USA  2014  ...      United States   1.118914031833164\n",
              "3586  IND  2008  ...              India  0.2897639364571018\n",
              "3547  IDN  2015  ...          Indonesia  1.3129282839422685\n",
              "...   ...   ...  ...                ...                 ...\n",
              "3064  GNQ  1991  ...  Equatorial Guinea                 0.0\n",
              "3021  GNB  1994  ...      Guinea-Bissau                 0.0\n",
              "3063  GNQ  1990  ...  Equatorial Guinea                 0.0\n",
              "3062  GNQ  1989  ...  Equatorial Guinea                 0.0\n",
              "3061  GNQ  1988  ...  Equatorial Guinea                 0.0\n",
              "3060  GNQ  1987  ...  Equatorial Guinea                 0.0\n",
              "3059  GNQ  1986  ...  Equatorial Guinea                 0.0\n",
              "3058  GNQ  1985  ...  Equatorial Guinea                 0.0\n",
              "3057  GNQ  1984  ...  Equatorial Guinea                 0.0\n",
              "3056  GNQ  1983  ...  Equatorial Guinea                 0.0\n",
              "3055  GNQ  1982  ...  Equatorial Guinea                 0.0\n",
              "3054  GNQ  1981  ...  Equatorial Guinea                 0.0\n",
              "3053  GNQ  1980  ...  Equatorial Guinea                 0.0\n",
              "3052  GNQ  1979  ...  Equatorial Guinea                 0.0\n",
              "3051  GNQ  1978  ...  Equatorial Guinea                 0.0\n",
              "3050  GNQ  1977  ...  Equatorial Guinea                 0.0\n",
              "3049  GNQ  1976  ...  Equatorial Guinea                 0.0\n",
              "3048  GNQ  1975  ...  Equatorial Guinea                 0.0\n",
              "3047  GNQ  1970  ...  Equatorial Guinea                 0.0\n",
              "3046  GNQ  1965  ...  Equatorial Guinea                 0.0\n",
              "3045  GNQ  1960  ...  Equatorial Guinea                 0.0\n",
              "3029  GNB  2002  ...      Guinea-Bissau                 0.0\n",
              "3028  GNB  2001  ...      Guinea-Bissau                 0.0\n",
              "3027  GNB  2000  ...      Guinea-Bissau                 0.0\n",
              "3026  GNB  1999  ...      Guinea-Bissau                 0.0\n",
              "3025  GNB  1998  ...      Guinea-Bissau                 0.0\n",
              "3024  GNB  1997  ...      Guinea-Bissau                 0.0\n",
              "3023  GNB  1996  ...      Guinea-Bissau                 0.0\n",
              "3022  GNB  1995  ...      Guinea-Bissau                 0.0\n",
              "0     AFG  1960  ...        Afghanistan                 0.0\n",
              "\n",
              "[8590 rows x 6 columns]"
            ]
          },
          "metadata": {
            "tags": []
          },
          "execution_count": 76
        }
      ]
    },
    {
      "cell_type": "markdown",
      "metadata": {
        "colab_type": "text",
        "id": "03V3Wln_h0dj"
      },
      "source": [
        "2017 was the first year that China had more cell phones than people.\n",
        "\n",
        "What was the first year that the USA had more cell phones than people?"
      ]
    },
    {
      "cell_type": "code",
      "metadata": {
        "colab_type": "code",
        "id": "KONQkQZ3haNC",
        "colab": {
          "base_uri": "https://localhost:8080/",
          "height": 173
        },
        "outputId": "ee31a832-e845-496c-88ba-2e8c31c1d3f3"
      },
      "source": [
        "usa.query('cell_phones_total > population_total')\n"
      ],
      "execution_count": 79,
      "outputs": [
        {
          "output_type": "execute_result",
          "data": {
            "text/html": [
              "<div>\n",
              "<style scoped>\n",
              "    .dataframe tbody tr th:only-of-type {\n",
              "        vertical-align: middle;\n",
              "    }\n",
              "\n",
              "    .dataframe tbody tr th {\n",
              "        vertical-align: top;\n",
              "    }\n",
              "\n",
              "    .dataframe thead th {\n",
              "        text-align: right;\n",
              "    }\n",
              "</style>\n",
              "<table border=\"1\" class=\"dataframe\">\n",
              "  <thead>\n",
              "    <tr style=\"text-align: right;\">\n",
              "      <th></th>\n",
              "      <th>geo</th>\n",
              "      <th>time</th>\n",
              "      <th>cell_phones_total</th>\n",
              "      <th>population_total</th>\n",
              "      <th>country</th>\n",
              "    </tr>\n",
              "  </thead>\n",
              "  <tbody>\n",
              "    <tr>\n",
              "      <th>8131</th>\n",
              "      <td>usa</td>\n",
              "      <td>2014</td>\n",
              "      <td>355,500,000.0</td>\n",
              "      <td>317718779</td>\n",
              "      <td>United States</td>\n",
              "    </tr>\n",
              "    <tr>\n",
              "      <th>8132</th>\n",
              "      <td>usa</td>\n",
              "      <td>2015</td>\n",
              "      <td>382,307,000.0</td>\n",
              "      <td>319929162</td>\n",
              "      <td>United States</td>\n",
              "    </tr>\n",
              "    <tr>\n",
              "      <th>8133</th>\n",
              "      <td>usa</td>\n",
              "      <td>2016</td>\n",
              "      <td>395,881,000.0</td>\n",
              "      <td>322179605</td>\n",
              "      <td>United States</td>\n",
              "    </tr>\n",
              "    <tr>\n",
              "      <th>8134</th>\n",
              "      <td>usa</td>\n",
              "      <td>2017</td>\n",
              "      <td>395,881,000.0</td>\n",
              "      <td>324459463</td>\n",
              "      <td>United States</td>\n",
              "    </tr>\n",
              "  </tbody>\n",
              "</table>\n",
              "</div>"
            ],
            "text/plain": [
              "      geo  time  cell_phones_total  population_total        country\n",
              "8131  usa  2014      355,500,000.0         317718779  United States\n",
              "8132  usa  2015      382,307,000.0         319929162  United States\n",
              "8133  usa  2016      395,881,000.0         322179605  United States\n",
              "8134  usa  2017      395,881,000.0         324459463  United States"
            ]
          },
          "metadata": {
            "tags": []
          },
          "execution_count": 79
        }
      ]
    },
    {
      "cell_type": "code",
      "metadata": {
        "id": "ljoPAmclR2VG",
        "colab_type": "code",
        "colab": {
          "base_uri": "https://localhost:8080/",
          "height": 34
        },
        "outputId": "57d00759-6318-4d8a-d1b7-28cae3dcb3d7"
      },
      "source": [
        "print('2014')"
      ],
      "execution_count": 80,
      "outputs": [
        {
          "output_type": "stream",
          "text": [
            "2014\n"
          ],
          "name": "stdout"
        }
      ]
    },
    {
      "cell_type": "markdown",
      "metadata": {
        "id": "4pHjHTwp8jzn",
        "colab_type": "text"
      },
      "source": [
        "***Optional bonus for Part 3: Take initiative to do more exploratory data analysis.***"
      ]
    },
    {
      "cell_type": "markdown",
      "metadata": {
        "colab_type": "text",
        "id": "6J7iwMnTg8KZ"
      },
      "source": [
        "### (OPTIONAL) Part 4. Reshape data"
      ]
    },
    {
      "cell_type": "markdown",
      "metadata": {
        "colab_type": "text",
        "id": "LP9InazRkUxG"
      },
      "source": [
        "*This part is not needed to pass the sprint challenge, only to get a 3! Only work on this after completing the other sections.*\n",
        "\n",
        "Create a pivot table:\n",
        "- Columns: Years 2007—2017\n",
        "- Rows: China, India, United States, Indonesia, Brazil (order doesn't matter)\n",
        "- Values: Cell Phones Total\n",
        "\n",
        "The table's shape should be: (5, 11)"
      ]
    },
    {
      "cell_type": "code",
      "metadata": {
        "colab_type": "code",
        "id": "JD7mXXjLj4Ue",
        "colab": {}
      },
      "source": [
        ""
      ],
      "execution_count": 0,
      "outputs": []
    },
    {
      "cell_type": "markdown",
      "metadata": {
        "colab_type": "text",
        "id": "CNKTu2DCnAo6"
      },
      "source": [
        "Sort these 5 countries, by biggest increase in cell phones from 2007 to 2017.\n",
        "\n",
        "Which country had 935,282,277 more cell phones in 2017 versus 2007?"
      ]
    },
    {
      "cell_type": "code",
      "metadata": {
        "colab_type": "code",
        "id": "O4Aecv1fmQlj",
        "colab": {}
      },
      "source": [
        ""
      ],
      "execution_count": 0,
      "outputs": []
    },
    {
      "cell_type": "markdown",
      "metadata": {
        "colab_type": "text",
        "id": "7iHkMsa3Rorh"
      },
      "source": [
        "If you have the time and curiosity, what other questions can you ask and answer with this data?"
      ]
    },
    {
      "cell_type": "markdown",
      "metadata": {
        "id": "vtcAJOAV9k3X",
        "colab_type": "text"
      },
      "source": [
        "## Data Storytelling\n",
        "\n",
        "In this part of the sprint challenge you'll work with a dataset from **FiveThirtyEight's article, [Every Guest Jon Stewart Ever Had On ‘The Daily Show’](https://fivethirtyeight.com/features/every-guest-jon-stewart-ever-had-on-the-daily-show/)**!"
      ]
    },
    {
      "cell_type": "markdown",
      "metadata": {
        "id": "UtjoIqvm9yFg",
        "colab_type": "text"
      },
      "source": [
        "### Part 0 — Run this starter code\n",
        "\n",
        "You don't need to add or change anything here. Just run this cell and it loads the data for you, into a dataframe named `df`.\n",
        "\n",
        "(You can explore the data if you want, but it's not required to pass the Sprint Challenge.)"
      ]
    },
    {
      "cell_type": "code",
      "metadata": {
        "id": "tYujbhIz9zKU",
        "colab_type": "code",
        "colab": {}
      },
      "source": [
        "%matplotlib inline\n",
        "import matplotlib.pyplot as plt\n",
        "import numpy as np\n",
        "import pandas as pd\n",
        "\n",
        "url = 'https://raw.githubusercontent.com/fivethirtyeight/data/master/daily-show-guests/daily_show_guests.csv'\n",
        "df = pd.read_csv(url).rename(columns={'YEAR': 'Year', 'Raw_Guest_List': 'Guest'})\n",
        "\n",
        "def get_occupation(group):\n",
        "    if group in ['Acting', 'Comedy', 'Musician']:\n",
        "        return 'Acting, Comedy & Music'\n",
        "    elif group in ['Media', 'media']:\n",
        "        return 'Media'\n",
        "    elif group in ['Government', 'Politician', 'Political Aide']:\n",
        "        return 'Government and Politics'\n",
        "    else:\n",
        "        return 'Other'\n",
        "      \n",
        "df['Occupation'] = df['Group'].apply(get_occupation)"
      ],
      "execution_count": 0,
      "outputs": []
    },
    {
      "cell_type": "markdown",
      "metadata": {
        "id": "5hjnMK3j90Rp",
        "colab_type": "text"
      },
      "source": [
        "### Part 1 — What's the breakdown of guests’ occupations per year?\n",
        "\n",
        "For example, in 1999, what percentage of guests were actors, comedians, or musicians? What percentage were in the media? What percentage were in politics? What percentage were from another occupation?\n",
        "\n",
        "Then, what about in 2000? In 2001? And so on, up through 2015.\n",
        "\n",
        "So, **for each year of _The Daily Show_, calculate the percentage of guests from each occupation:**\n",
        "- Acting, Comedy & Music\n",
        "- Government and Politics\n",
        "- Media\n",
        "- Other\n",
        "\n",
        "#### Hints:\n",
        "You can make a crosstab. (See pandas documentation for examples, explanation, and parameters.)\n",
        "\n",
        "You'll know you've calculated correctly when the percentage of \"Acting, Comedy & Music\" guests is 90.36% in 1999, and 45% in 2015.\n",
        "\n",
        "**Optional Bonus Challenge:** Do additional insightful data exploration."
      ]
    },
    {
      "cell_type": "code",
      "metadata": {
        "id": "EbobyiHv916F",
        "colab_type": "code",
        "colab": {
          "base_uri": "https://localhost:8080/",
          "height": 204
        },
        "outputId": "157f50dd-30f6-42ec-b717-55c34d4720dd"
      },
      "source": [
        "df.head()"
      ],
      "execution_count": 82,
      "outputs": [
        {
          "output_type": "execute_result",
          "data": {
            "text/html": [
              "<div>\n",
              "<style scoped>\n",
              "    .dataframe tbody tr th:only-of-type {\n",
              "        vertical-align: middle;\n",
              "    }\n",
              "\n",
              "    .dataframe tbody tr th {\n",
              "        vertical-align: top;\n",
              "    }\n",
              "\n",
              "    .dataframe thead th {\n",
              "        text-align: right;\n",
              "    }\n",
              "</style>\n",
              "<table border=\"1\" class=\"dataframe\">\n",
              "  <thead>\n",
              "    <tr style=\"text-align: right;\">\n",
              "      <th></th>\n",
              "      <th>Year</th>\n",
              "      <th>GoogleKnowlege_Occupation</th>\n",
              "      <th>Show</th>\n",
              "      <th>Group</th>\n",
              "      <th>Guest</th>\n",
              "      <th>Occupation</th>\n",
              "    </tr>\n",
              "  </thead>\n",
              "  <tbody>\n",
              "    <tr>\n",
              "      <th>0</th>\n",
              "      <td>1999</td>\n",
              "      <td>actor</td>\n",
              "      <td>1/11/99</td>\n",
              "      <td>Acting</td>\n",
              "      <td>Michael J. Fox</td>\n",
              "      <td>Acting, Comedy &amp; Music</td>\n",
              "    </tr>\n",
              "    <tr>\n",
              "      <th>1</th>\n",
              "      <td>1999</td>\n",
              "      <td>Comedian</td>\n",
              "      <td>1/12/99</td>\n",
              "      <td>Comedy</td>\n",
              "      <td>Sandra Bernhard</td>\n",
              "      <td>Acting, Comedy &amp; Music</td>\n",
              "    </tr>\n",
              "    <tr>\n",
              "      <th>2</th>\n",
              "      <td>1999</td>\n",
              "      <td>television actress</td>\n",
              "      <td>1/13/99</td>\n",
              "      <td>Acting</td>\n",
              "      <td>Tracey Ullman</td>\n",
              "      <td>Acting, Comedy &amp; Music</td>\n",
              "    </tr>\n",
              "    <tr>\n",
              "      <th>3</th>\n",
              "      <td>1999</td>\n",
              "      <td>film actress</td>\n",
              "      <td>1/14/99</td>\n",
              "      <td>Acting</td>\n",
              "      <td>Gillian Anderson</td>\n",
              "      <td>Acting, Comedy &amp; Music</td>\n",
              "    </tr>\n",
              "    <tr>\n",
              "      <th>4</th>\n",
              "      <td>1999</td>\n",
              "      <td>actor</td>\n",
              "      <td>1/18/99</td>\n",
              "      <td>Acting</td>\n",
              "      <td>David Alan Grier</td>\n",
              "      <td>Acting, Comedy &amp; Music</td>\n",
              "    </tr>\n",
              "  </tbody>\n",
              "</table>\n",
              "</div>"
            ],
            "text/plain": [
              "   Year GoogleKnowlege_Occupation  ...             Guest              Occupation\n",
              "0  1999                     actor  ...    Michael J. Fox  Acting, Comedy & Music\n",
              "1  1999                  Comedian  ...   Sandra Bernhard  Acting, Comedy & Music\n",
              "2  1999        television actress  ...     Tracey Ullman  Acting, Comedy & Music\n",
              "3  1999              film actress  ...  Gillian Anderson  Acting, Comedy & Music\n",
              "4  1999                     actor  ...  David Alan Grier  Acting, Comedy & Music\n",
              "\n",
              "[5 rows x 6 columns]"
            ]
          },
          "metadata": {
            "tags": []
          },
          "execution_count": 82
        }
      ]
    },
    {
      "cell_type": "code",
      "metadata": {
        "id": "Do2o2rKBTjta",
        "colab_type": "code",
        "colab": {
          "base_uri": "https://localhost:8080/",
          "height": 34
        },
        "outputId": "6e6262c9-6a93-4219-8ee7-1072a7ffeed9"
      },
      "source": [
        "list(df)"
      ],
      "execution_count": 85,
      "outputs": [
        {
          "output_type": "execute_result",
          "data": {
            "text/plain": [
              "['Year', 'GoogleKnowlege_Occupation', 'Show', 'Group', 'Guest', 'Occupation']"
            ]
          },
          "metadata": {
            "tags": []
          },
          "execution_count": 85
        }
      ]
    },
    {
      "cell_type": "code",
      "metadata": {
        "id": "Shfb2VQPSsu4",
        "colab_type": "code",
        "colab": {
          "base_uri": "https://localhost:8080/",
          "height": 607
        },
        "outputId": "6998c442-83ba-4d3d-b0cd-2e4d651c97da"
      },
      "source": [
        "occ_year = pd.crosstab(df.Year, df.Occupation, normalize='index')*100\n",
        "\n",
        "occ_year"
      ],
      "execution_count": 122,
      "outputs": [
        {
          "output_type": "execute_result",
          "data": {
            "text/html": [
              "<div>\n",
              "<style scoped>\n",
              "    .dataframe tbody tr th:only-of-type {\n",
              "        vertical-align: middle;\n",
              "    }\n",
              "\n",
              "    .dataframe tbody tr th {\n",
              "        vertical-align: top;\n",
              "    }\n",
              "\n",
              "    .dataframe thead th {\n",
              "        text-align: right;\n",
              "    }\n",
              "</style>\n",
              "<table border=\"1\" class=\"dataframe\">\n",
              "  <thead>\n",
              "    <tr style=\"text-align: right;\">\n",
              "      <th>Occupation</th>\n",
              "      <th>Acting, Comedy &amp; Music</th>\n",
              "      <th>Government and Politics</th>\n",
              "      <th>Media</th>\n",
              "      <th>Other</th>\n",
              "    </tr>\n",
              "    <tr>\n",
              "      <th>Year</th>\n",
              "      <th></th>\n",
              "      <th></th>\n",
              "      <th></th>\n",
              "      <th></th>\n",
              "    </tr>\n",
              "  </thead>\n",
              "  <tbody>\n",
              "    <tr>\n",
              "      <th>1999</th>\n",
              "      <td>90.36144578313254</td>\n",
              "      <td>1.2048192771084338</td>\n",
              "      <td>6.626506024096386</td>\n",
              "      <td>1.8072289156626504</td>\n",
              "    </tr>\n",
              "    <tr>\n",
              "      <th>2000</th>\n",
              "      <td>73.96449704142012</td>\n",
              "      <td>8.284023668639055</td>\n",
              "      <td>12.42603550295858</td>\n",
              "      <td>5.325443786982249</td>\n",
              "    </tr>\n",
              "    <tr>\n",
              "      <th>2001</th>\n",
              "      <td>72.61146496815286</td>\n",
              "      <td>3.821656050955414</td>\n",
              "      <td>19.745222929936308</td>\n",
              "      <td>3.821656050955414</td>\n",
              "    </tr>\n",
              "    <tr>\n",
              "      <th>2002</th>\n",
              "      <td>62.264150943396224</td>\n",
              "      <td>6.918238993710692</td>\n",
              "      <td>26.41509433962264</td>\n",
              "      <td>4.40251572327044</td>\n",
              "    </tr>\n",
              "    <tr>\n",
              "      <th>2003</th>\n",
              "      <td>56.024096385542165</td>\n",
              "      <td>10.240963855421686</td>\n",
              "      <td>24.69879518072289</td>\n",
              "      <td>9.036144578313253</td>\n",
              "    </tr>\n",
              "    <tr>\n",
              "      <th>2004</th>\n",
              "      <td>38.41463414634146</td>\n",
              "      <td>22.5609756097561</td>\n",
              "      <td>27.439024390243905</td>\n",
              "      <td>11.585365853658537</td>\n",
              "    </tr>\n",
              "    <tr>\n",
              "      <th>2005</th>\n",
              "      <td>37.03703703703704</td>\n",
              "      <td>16.049382716049383</td>\n",
              "      <td>33.33333333333333</td>\n",
              "      <td>13.580246913580247</td>\n",
              "    </tr>\n",
              "    <tr>\n",
              "      <th>2006</th>\n",
              "      <td>36.024844720496894</td>\n",
              "      <td>19.25465838509317</td>\n",
              "      <td>29.19254658385093</td>\n",
              "      <td>15.527950310559005</td>\n",
              "    </tr>\n",
              "    <tr>\n",
              "      <th>2007</th>\n",
              "      <td>25.53191489361702</td>\n",
              "      <td>17.02127659574468</td>\n",
              "      <td>33.33333333333333</td>\n",
              "      <td>24.113475177304963</td>\n",
              "    </tr>\n",
              "    <tr>\n",
              "      <th>2008</th>\n",
              "      <td>20.73170731707317</td>\n",
              "      <td>20.121951219512198</td>\n",
              "      <td>46.95121951219512</td>\n",
              "      <td>12.195121951219512</td>\n",
              "    </tr>\n",
              "    <tr>\n",
              "      <th>2009</th>\n",
              "      <td>20.858895705521473</td>\n",
              "      <td>20.858895705521473</td>\n",
              "      <td>36.19631901840491</td>\n",
              "      <td>22.085889570552148</td>\n",
              "    </tr>\n",
              "    <tr>\n",
              "      <th>2010</th>\n",
              "      <td>35.15151515151515</td>\n",
              "      <td>18.181818181818183</td>\n",
              "      <td>30.303030303030305</td>\n",
              "      <td>16.363636363636363</td>\n",
              "    </tr>\n",
              "    <tr>\n",
              "      <th>2011</th>\n",
              "      <td>33.74233128834356</td>\n",
              "      <td>16.56441717791411</td>\n",
              "      <td>31.28834355828221</td>\n",
              "      <td>18.404907975460123</td>\n",
              "    </tr>\n",
              "    <tr>\n",
              "      <th>2012</th>\n",
              "      <td>26.82926829268293</td>\n",
              "      <td>20.121951219512198</td>\n",
              "      <td>31.70731707317073</td>\n",
              "      <td>21.341463414634145</td>\n",
              "    </tr>\n",
              "    <tr>\n",
              "      <th>2013</th>\n",
              "      <td>42.77108433734939</td>\n",
              "      <td>12.650602409638553</td>\n",
              "      <td>30.72289156626506</td>\n",
              "      <td>13.855421686746988</td>\n",
              "    </tr>\n",
              "    <tr>\n",
              "      <th>2014</th>\n",
              "      <td>39.263803680981596</td>\n",
              "      <td>12.883435582822086</td>\n",
              "      <td>32.515337423312886</td>\n",
              "      <td>15.337423312883436</td>\n",
              "    </tr>\n",
              "    <tr>\n",
              "      <th>2015</th>\n",
              "      <td>45.0</td>\n",
              "      <td>17.0</td>\n",
              "      <td>24.0</td>\n",
              "      <td>14.000000000000002</td>\n",
              "    </tr>\n",
              "  </tbody>\n",
              "</table>\n",
              "</div>"
            ],
            "text/plain": [
              "Occupation  Acting, Comedy & Music  ...              Other\n",
              "Year                                ...                   \n",
              "1999             90.36144578313254  ... 1.8072289156626504\n",
              "2000             73.96449704142012  ...  5.325443786982249\n",
              "2001             72.61146496815286  ...  3.821656050955414\n",
              "2002            62.264150943396224  ...   4.40251572327044\n",
              "2003            56.024096385542165  ...  9.036144578313253\n",
              "2004             38.41463414634146  ... 11.585365853658537\n",
              "2005             37.03703703703704  ... 13.580246913580247\n",
              "2006            36.024844720496894  ... 15.527950310559005\n",
              "2007             25.53191489361702  ... 24.113475177304963\n",
              "2008             20.73170731707317  ... 12.195121951219512\n",
              "2009            20.858895705521473  ... 22.085889570552148\n",
              "2010             35.15151515151515  ... 16.363636363636363\n",
              "2011             33.74233128834356  ... 18.404907975460123\n",
              "2012             26.82926829268293  ... 21.341463414634145\n",
              "2013             42.77108433734939  ... 13.855421686746988\n",
              "2014            39.263803680981596  ... 15.337423312883436\n",
              "2015                          45.0  ... 14.000000000000002\n",
              "\n",
              "[17 rows x 4 columns]"
            ]
          },
          "metadata": {
            "tags": []
          },
          "execution_count": 122
        }
      ]
    },
    {
      "cell_type": "code",
      "metadata": {
        "id": "I59-0GCDU1to",
        "colab_type": "code",
        "colab": {
          "base_uri": "https://localhost:8080/",
          "height": 34
        },
        "outputId": "d3798d05-6768-4c8a-bdaa-ce0d5ba6bdec"
      },
      "source": [
        "occ_year.shape"
      ],
      "execution_count": 123,
      "outputs": [
        {
          "output_type": "execute_result",
          "data": {
            "text/plain": [
              "(17, 4)"
            ]
          },
          "metadata": {
            "tags": []
          },
          "execution_count": 123
        }
      ]
    },
    {
      "cell_type": "markdown",
      "metadata": {
        "id": "Kiq56dZb92LY",
        "colab_type": "text"
      },
      "source": [
        "### Part 2 — Recreate this explanatory visualization:"
      ]
    },
    {
      "cell_type": "code",
      "metadata": {
        "id": "HKLDMWwP98vz",
        "colab_type": "code",
        "outputId": "6b8a804b-6bb4-4728-ac5e-28e874a8afbb",
        "colab": {
          "base_uri": "https://localhost:8080/",
          "height": 406
        }
      },
      "source": [
        "from IPython.display import display, Image\n",
        "png = 'https://fivethirtyeight.com/wp-content/uploads/2015/08/hickey-datalab-dailyshow.png'\n",
        "example = Image(png, width=500)\n",
        "display(example)"
      ],
      "execution_count": 98,
      "outputs": [
        {
          "output_type": "display_data",
          "data": {
            "image/png": "[encoded data removed]",
            "text/plain": [
              "<IPython.core.display.Image object>"
            ]
          },
          "metadata": {
            "tags": [],
            "image/png": {
              "width": 500
            }
          }
        }
      ]
    },
    {
      "cell_type": "markdown",
      "metadata": {
        "id": "TK5fDIag9-F6",
        "colab_type": "text"
      },
      "source": [
        "**Hints:**\n",
        "- You can choose any Python visualization library you want. I've verified the plot can be reproduced with matplotlib, pandas plot, or seaborn. I assume other libraries like altair or plotly would work too.\n",
        "- If you choose to use seaborn, you may want to upgrade the version to 0.9.0.\n",
        "\n",
        "**Expectations:** Your plot should include:\n",
        "- 3 lines visualizing \"occupation of guests, by year.\" The shapes of the lines should look roughly identical to 538's example. Each line should be a different color. (But you don't need to use the _same_ colors as 538.)\n",
        "- Legend or labels for the lines. (But you don't need each label positioned next to its line or colored like 538.)\n",
        "- Title in the upper left: _\"Who Got To Be On 'The Daily Show'?\"_ with more visual emphasis than the subtitle. (Bolder and/or larger font.)\n",
        "- Subtitle underneath the title: _\"Occupation of guests, by year\"_\n",
        "\n",
        "**Optional Bonus Challenge:**\n",
        "- Give your plot polished aesthetics, with improved resemblance to the 538 example.\n",
        "- Any visual element not specifically mentioned in the expectations is an optional bonus."
      ]
    },
    {
      "cell_type": "code",
      "metadata": {
        "id": "CaB8MMV099Kh",
        "colab_type": "code",
        "colab": {
          "base_uri": "https://localhost:8080/",
          "height": 406
        },
        "outputId": "6f8b7997-a80b-4aad-d506-b146d0b4d0b1"
      },
      "source": [
        "display(example)\n",
        "\n",
        "%matplotlib inline\n",
        "import matplotlib.pyplot as plt\n",
        "import seaborn as sns\n",
        "from matplotlib.pyplot import figure"
      ],
      "execution_count": 140,
      "outputs": [
        {
          "output_type": "display_data",
          "data": {
            "image/png": "[encoded data removed]",
            "text/plain": [
              "<IPython.core.display.Image object>"
            ]
          },
          "metadata": {
            "tags": [],
            "image/png": {
              "width": 500
            }
          }
        }
      ]
    },
    {
      "cell_type": "code",
      "metadata": {
        "id": "VofAGRX2WXPr",
        "colab_type": "code",
        "colab": {}
      },
      "source": [
        "occ_year = occ_year.drop(columns=['Other'])"
      ],
      "execution_count": 0,
      "outputs": []
    },
    {
      "cell_type": "code",
      "metadata": {
        "id": "ZPnnoo0pdyIy",
        "colab_type": "code",
        "colab": {
          "base_uri": "https://localhost:8080/",
          "height": 306
        },
        "outputId": "da2fdf6f-e7e3-4e13-9e54-c8955fec9d57"
      },
      "source": [
        "year = occ_year.index.tolist()\n",
        "year"
      ],
      "execution_count": 126,
      "outputs": [
        {
          "output_type": "execute_result",
          "data": {
            "text/plain": [
              "[1999,\n",
              " 2000,\n",
              " 2001,\n",
              " 2002,\n",
              " 2003,\n",
              " 2004,\n",
              " 2005,\n",
              " 2006,\n",
              " 2007,\n",
              " 2008,\n",
              " 2009,\n",
              " 2010,\n",
              " 2011,\n",
              " 2012,\n",
              " 2013,\n",
              " 2014,\n",
              " 2015]"
            ]
          },
          "metadata": {
            "tags": []
          },
          "execution_count": 126
        }
      ]
    },
    {
      "cell_type": "code",
      "metadata": {
        "id": "Ecya41f2d2iy",
        "colab_type": "code",
        "colab": {
          "base_uri": "https://localhost:8080/",
          "height": 474
        },
        "outputId": "806fd7ad-ea0c-4466-f018-1ff1a9d8a3c6"
      },
      "source": [
        "\n",
        "plt.style.use('fivethirtyeight')\n",
        "\n",
        "\n",
        "fig, ax = plt.subplots(figsize=(8,6))\n",
        "    \n",
        "ax1 = sns.lineplot(x=year, y=occ_year['Acting, Comedy & Music'].tolist(), color='#0F95D7', lw=2.5)\n",
        "ax2 = sns.lineplot(x=year, y=occ_year['Government and Politics'].tolist(), color='#FF2700', lw=2.5)\n",
        "ax3 = sns.lineplot(x=year, y=occ_year['Media'].tolist(), color='#810F7C', lw=2.5)\n",
        "\n",
        "\n",
        "ax1.axhline(y=0, color='#414141', linewidth=1.5, alpha=.5)\n",
        "\n",
        "ax.set_yticks([0, 25, 50, 75, 100])\n",
        "ax.set_yticklabels(labels=['0', '25', '50', '75', '100%'], fontsize=14, color='#414141')\n",
        "\n",
        "ax.set_xticks([2000, 2004, 2008, 2012])\n",
        "ax.set_xticklabels(['2000', \"'04\", \"'08\", \"'12\"], fontsize=14, color='#414141')\n",
        "\n",
        "\n",
        "ax.text(x=1996.7, y=118, s=\"Who Got to Be On 'The Daily Show'?\", fontsize=18.5, fontweight='semibold', color='#414141')\n",
        "\n",
        "\n",
        "ax.text(x=1996.7, y=112, s='Occupation of guests, by year', fontsize=16.5, color='#414141')\n",
        "\n",
        "\n",
        "ax.text(x=2000.5, y=81, s=\"Acting, Comedy & Music\", fontsize=13, fontweight='semibold', color='#0F95D7')\n",
        "ax.text(x=2008.5, y=6, s=\"Government and Politics\", fontsize=13, fontweight='semibold', color='#FF2700')\n",
        "ax.text(x=2007.1, y=52, s=\"Media\", fontsize=13, fontweight='semibold', color='#810F7C');\n"
      ],
      "execution_count": 158,
      "outputs": [
        {
          "output_type": "display_data",
          "data": {
            "image/png": "[encoded data removed]",
            "text/plain": [
              "<Figure size 576x432 with 1 Axes>"
            ]
          },
          "metadata": {
            "tags": []
          }
        }
      ]
    },
    {
      "cell_type": "markdown",
      "metadata": {
        "id": "kW36zxl4-BiW",
        "colab_type": "text"
      },
      "source": [
        "### (OPTIONAL) Part 3 — Who were the top 10 guests on _The Daily Show_?\n",
        "\n",
        "*This part is not needed to pass the sprint challenge, only to get a 3! Only work on this after completing the other sections.*\n",
        "\n",
        "**Make a plot** that shows their names and number of appearances.\n",
        "\n",
        "**Add a title** of your choice.\n",
        "\n",
        "**Expectations:** It's ok to make a simple, quick plot: exploratory, instead of explanatory. \n",
        "\n",
        "**Optional Bonus Challenge:** You can change aesthetics and add more annotation. For example, in a relevant location, could you add the text \"19\" to show that Fareed Zakaria appeared 19 times on _The Daily Show_? (And so on, for each of the top 10 guests.)"
      ]
    },
    {
      "cell_type": "code",
      "metadata": {
        "id": "B3cqzskY-QbM",
        "colab_type": "code",
        "colab": {}
      },
      "source": [
        ""
      ],
      "execution_count": 0,
      "outputs": []
    }
  ]
}