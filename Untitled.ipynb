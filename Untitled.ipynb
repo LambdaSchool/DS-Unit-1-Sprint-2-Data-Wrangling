{
 "cells": [
  {
   "cell_type": "code",
   "execution_count": 12,
   "metadata": {},
   "outputs": [
    {
     "data": {
      "text/plain": [
       "[1, 2, 3, 4, 5]"
      ]
     },
     "execution_count": 12,
     "metadata": {},
     "output_type": "execute_result"
    }
   ],
   "source": [
    "list(range(1,6))"
   ]
  },
  {
   "cell_type": "code",
   "execution_count": 15,
   "metadata": {},
   "outputs": [
    {
     "name": "stdout",
     "output_type": "stream",
     "text": [
      "       name_1  name_2  name_3  name_4  name_5\n",
      "index                                        \n",
      "1      entry1  entry1  entry1  entry1  entry1\n",
      "2      entry2  entry2  entry2  entry2  entry2\n",
      "3      entry3  entry3  entry3  entry3  entry3\n",
      "4      entry4  entry4  entry4  entry4  entry4\n",
      "5      entry5  entry5  entry5  entry5  entry5\n",
      "name_1    entry1\n",
      "name_2    entry1\n",
      "name_3    entry1\n",
      "name_4    entry1\n",
      "name_5    entry1\n",
      "Name: 1, dtype: object\n",
      "entry1\n",
      "       name_1  name_2  name_3  name_4  name_5\n",
      "index                                        \n",
      "1      entry1  entry1  entry1  entry1  entry1\n",
      "2      entry2  entry2  entry2  entry2  entry2\n",
      "       name_1  name_2  name_3  name_4  name_5\n",
      "index                                        \n",
      "1      entry1  entry1  entry1  entry1  entry1\n",
      "3      entry3  entry3  entry3  entry3  entry3\n",
      "5      entry5  entry5  entry5  entry5  entry5\n",
      "       name_1  name_2  name_3\n",
      "index                        \n",
      "1      entry1  entry1  entry1\n",
      "2      entry2  entry2  entry2\n",
      "3      entry3  entry3  entry3\n",
      "       name_1  name_3  name_4  name_5\n",
      "index                                \n",
      "1      entry1  entry1  entry1  entry1\n",
      "3      entry3  entry3  entry3  entry3\n",
      "4      entry4  entry4  entry4  entry4\n",
      "5      entry5  entry5  entry5  entry5\n",
      "       name_1  name_2  name_3  name_4  name_5\n",
      "index                                        \n",
      "1      entry1  entry1  entry1  entry1  entry1\n",
      "2      entry2  entry2  entry2  entry2  entry2\n",
      "       name_1  name_2  name_3  name_4  name_5\n",
      "index                                        \n",
      "1      entry1  entry1  entry1  entry1  entry1\n",
      "2      entry2  entry2  entry2  entry2  entry2\n",
      "3      entry3  entry3  entry3  entry3  entry3\n",
      "       name_1  name_2  name_3\n",
      "index                        \n",
      "1      entry1  entry1  entry1\n",
      "2      entry2  entry2  entry2\n",
      "3      entry3  entry3  entry3\n",
      "       name_3  name_4  name_5\n",
      "index                        \n",
      "3      entry3  entry3  entry3\n",
      "4      entry4  entry4  entry4\n",
      "5      entry5  entry5  entry5\n",
      "       name_1  name_2  name_3  name_4  name_5\n",
      "index                                        \n",
      "1      entry1  entry1  entry1  entry1  entry1\n",
      "2      entry2  entry2  entry2  entry2  entry2\n",
      "       name_1  name_2  name_3  name_4  name_5\n",
      "index                                        \n",
      "1      entry1  entry1  entry1  entry1  entry1\n",
      "3      entry3  entry3  entry3  entry3  entry3\n",
      "5      entry5  entry5  entry5  entry5  entry5\n",
      "       name_1  name_2  name_3\n",
      "index                        \n",
      "1      entry1  entry1  entry1\n",
      "2      entry2  entry2  entry2\n",
      "3      entry3  entry3  entry3\n",
      "       name_1  name_2  name_4  name_5\n",
      "index                                \n",
      "1      entry1  entry1  entry1  entry1\n",
      "3      entry3  entry3  entry3  entry3\n",
      "4      entry4  entry4  entry4  entry4\n",
      "5      entry5  entry5  entry5  entry5\n"
     ]
    }
   ],
   "source": [
    "import pandas as pd\n",
    "\n",
    "# Data Frame to practice .loc[] techniques on\n",
    "df = pd.DataFrame({'index':[1, 2, 3, 4, 5],\n",
    "                   'name_1':['entry1', 'entry2', 'entry3', 'entry4', 'entry5'],\n",
    "                   'name_2':['entry1', 'entry2', 'entry3', 'entry4', 'entry5'],\n",
    "                   'name_3':['entry1', 'entry2', 'entry3', 'entry4', 'entry5'],\n",
    "                   'name_4':['entry1', 'entry2', 'entry3', 'entry4', 'entry5'],\n",
    "                   'name_5':['entry1', 'entry2', 'entry3', 'entry4', 'entry5']})\n",
    "\n",
    "# Set Index\n",
    "df.set_index('index', inplace=True)\n",
    "\n",
    "### Select by a Single Label\n",
    "#1 Select and print the '1' Row\n",
    "print(df)\n",
    "print(df.loc[1])\n",
    "\n",
    "\n",
    "\n",
    "#2 Select and print Row 1 Label with Column 1 Label to get entry1\n",
    "print(df.loc[1,'name_1'])\n",
    "\n",
    "\n",
    "\n",
    "\n",
    "\n",
    "\n",
    "### Select Multiple Rows Using LISTS\n",
    "#1 Select and print Row Labels 1, 2\n",
    "print(df.loc[[1,2]])\n",
    "\n",
    "#2 Select and print Row Labels 1, 3, 5\n",
    "print(df.loc[[1,3,5]])\n",
    "# Now Rows WITH desired Columns\n",
    "#3 Select and print Row Labels 1, 2, 3 with Column Labels 'name_1', 'name_2', 'name_3'\n",
    "print(df.loc[[1,2,3], ['name_1', 'name_2', 'name_3']])\n",
    "\n",
    "#4 Select and print Row Labels 1, 3, 4, 5 with Column Labels 'name_1', 'name_3', 'name_4', 'name_5'\n",
    "\n",
    "print(df.loc[[1,3,4,5], ['name_1', 'name_3', 'name_4', 'name_5']])\n",
    "\n",
    "\n",
    "\n",
    "\n",
    "\n",
    "### Select Multiple Row & Column Labels Using SLICE\n",
    "#1 Select and print Row Labels 1, 2\n",
    "print(df.loc[1:2])\n",
    "#2 Select and print Row Labels 1, 2, 3\n",
    "print(df.loc[1:3])\n",
    "#3 Select and print Row Labels 1, 2, 3 with Column Labels 'name_1', 'name_2', 'name_3'\n",
    "print(df.loc[1:3,'name_1':'name_3'])\n",
    "#4 Select and print Row Labels 3, 4, 5 with Column Labels 'name_3', 'name_4', 'name_5'\n",
    "print(df.loc[3:5,'name_3':'name_5'])\n",
    "\n",
    "\n",
    "\n",
    "\n",
    "\n",
    "### Select Multiple Row & Column Labels Using Booleans\n",
    "# Reminder the Boolean List MUST be the same length as the Row/Column Axis\n",
    "#1 Select and print Row Labels 1, 2\n",
    "columns = ['name_1','name_2','name_3', 'name_4', 'name_5']\n",
    "print(df.loc[[x in [1,2] for x in range(1,6)]])\n",
    "#2 Select and print Row Labels 1, 3, 5\n",
    "print(df.loc[[x in [1,3,5] for x in range(1,6)]])\n",
    "#3 Select and print Row Labels 1, 2, 3 with Column Labels 'name_1', 'name_2', 'name_3'\n",
    "print(df.loc[[x in [1,2,3] for x in range(1,6)], [x in ['name_1', 'name_2', 'name_3'] for x in columns]])\n",
    "\n",
    "#4 Select and print Row Labels 1, 3, 4, 5 with Column Labels 'name_1', 'name_3', 'name_4', 'name_5'\n",
    "print(df.loc[[x in [1,3,4,5] for x in range(1,6)], [x in ['name_1', 'name_2', 'name_4', 'name_5'] for x in columns]])\n"
   ]
  },
  {
   "cell_type": "code",
   "execution_count": 16,
   "metadata": {},
   "outputs": [
    {
     "data": {
      "text/plain": [
       "[True, True, False, False, False]"
      ]
     },
     "execution_count": 16,
     "metadata": {},
     "output_type": "execute_result"
    }
   ],
   "source": [
    "[x in [1,2] for x in range(1,6)]"
   ]
  },
  {
   "cell_type": "code",
   "execution_count": 17,
   "metadata": {},
   "outputs": [
    {
     "data": {
      "text/plain": [
       "[True, False, True, False, True]"
      ]
     },
     "execution_count": 17,
     "metadata": {},
     "output_type": "execute_result"
    }
   ],
   "source": [
    "[x in [1,3,5] for x in range(1,6)]"
   ]
  },
  {
   "cell_type": "code",
   "execution_count": 18,
   "metadata": {},
   "outputs": [
    {
     "data": {
      "text/plain": [
       "[True, True, True, False, False]"
      ]
     },
     "execution_count": 18,
     "metadata": {},
     "output_type": "execute_result"
    }
   ],
   "source": [
    "[x in [1,2,3] for x in range(1,6)]"
   ]
  },
  {
   "cell_type": "code",
   "execution_count": 19,
   "metadata": {},
   "outputs": [
    {
     "data": {
      "text/plain": [
       "[True, True, True, False, False]"
      ]
     },
     "execution_count": 19,
     "metadata": {},
     "output_type": "execute_result"
    }
   ],
   "source": [
    "[x in ['name_1', 'name_2', 'name_3'] for x in columns]"
   ]
  },
  {
   "cell_type": "code",
   "execution_count": 20,
   "metadata": {},
   "outputs": [
    {
     "data": {
      "text/plain": [
       "[True, False, True, True, True]"
      ]
     },
     "execution_count": 20,
     "metadata": {},
     "output_type": "execute_result"
    }
   ],
   "source": [
    "[x in [1,3,4,5] for x in range(1,6)]"
   ]
  },
  {
   "cell_type": "code",
   "execution_count": 22,
   "metadata": {},
   "outputs": [
    {
     "data": {
      "text/plain": [
       "[True, True, False, True, True]"
      ]
     },
     "execution_count": 22,
     "metadata": {},
     "output_type": "execute_result"
    }
   ],
   "source": [
    " [x in ['name_1', 'name_2', 'name_4', 'name_5'] for x in columns]"
   ]
  },
  {
   "cell_type": "code",
   "execution_count": null,
   "metadata": {},
   "outputs": [],
   "source": []
  }
 ],
 "metadata": {
  "kernelspec": {
   "display_name": "Python 3",
   "language": "python",
   "name": "python3"
  },
  "language_info": {
   "codemirror_mode": {
    "name": "ipython",
    "version": 3
   },
   "file_extension": ".py",
   "mimetype": "text/x-python",
   "name": "python",
   "nbconvert_exporter": "python",
   "pygments_lexer": "ipython3",
   "version": "3.7.1"
  }
 },
 "nbformat": 4,
 "nbformat_minor": 2
}
