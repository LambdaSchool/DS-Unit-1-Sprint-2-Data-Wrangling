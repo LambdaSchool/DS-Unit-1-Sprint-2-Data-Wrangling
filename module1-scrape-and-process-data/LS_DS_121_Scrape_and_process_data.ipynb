{
  "nbformat": 4,
  "nbformat_minor": 0,
  "metadata": {
    "colab": {
      "name": "LS_DS_121_Scrape_and_process_data.ipynb",
      "version": "0.3.2",
      "provenance": [],
      "collapsed_sections": [],
      "include_colab_link": true
    },
    "kernelspec": {
      "display_name": "Python 3",
      "language": "python",
      "name": "python3"
    }
  },
  "cells": [
    {
      "cell_type": "markdown",
      "metadata": {
        "id": "view-in-github",
        "colab_type": "text"
      },
      "source": [
        "<a href=\"https://colab.research.google.com/github/Alex-Witt/DS-Unit-1-Sprint-2-Data-Wrangling/blob/master/module1-scrape-and-process-data/LS_DS_121_Scrape_and_process_data.ipynb\" target=\"_parent\"><img src=\"https://colab.research.google.com/assets/colab-badge.svg\" alt=\"Open In Colab\"/></a>"
      ]
    },
    {
      "metadata": {
        "colab_type": "text",
        "id": "oR4Yeg3P07gu"
      },
      "cell_type": "markdown",
      "source": [
        "_Lambda School Data Science_\n",
        "\n",
        "# Scrape and process data\n",
        "\n",
        "Objectives\n",
        "- scrape and parse web pages\n",
        "- use list comprehensions\n",
        "- select rows and columns with pandas\n",
        "\n",
        "Links\n",
        "-  [Automate the Boring Stuff with Python, Chapter 11](https://automatetheboringstuff.com/chapter11/)\n",
        "  - Requests\n",
        "  - Beautiful Soup\n",
        "- [Python List Comprehensions: Explained Visually](https://treyhunner.com/2015/12/python-list-comprehensions-now-in-color/)\n",
        "- [Pandas Cheat Sheet](https://github.com/pandas-dev/pandas/blob/master/doc/cheatsheet/Pandas_Cheat_Sheet.pdf)\n",
        "  - Subset Observations (Rows)\n",
        "  - Subset Variables (Columns)\n",
        "- Python Data Science Handbook\n",
        "  - [Chapter 3.1](https://jakevdp.github.io/PythonDataScienceHandbook/03.01-introducing-pandas-objects.html), Introducing Pandas Objects\n",
        "  - [Chapter 3.2](https://jakevdp.github.io/PythonDataScienceHandbook/03.02-data-indexing-and-selection.html), Data Indexing and Selection\n"
      ]
    },
    {
      "metadata": {
        "colab_type": "text",
        "id": "I_NRVchqgGvM"
      },
      "cell_type": "markdown",
      "source": [
        "## Scrape the titles of PyCon 2019 talks"
      ]
    },
    {
      "metadata": {
        "colab_type": "code",
        "id": "3elw_8Nc7Tpe",
        "colab": {}
      },
      "cell_type": "code",
      "source": [
        "import requests\n",
        "import bs4\n",
        "url = 'https://us.pycon.org/2019/schedule/talks/list/'\n",
        "result = requests.get(url)"
      ],
      "execution_count": 0,
      "outputs": []
    },
    {
      "metadata": {
        "colab_type": "code",
        "id": "SFNsyjVsTU4b",
        "outputId": "fd69f9e1-6abf-4f34-a3ae-016539c7173b",
        "colab": {
          "base_uri": "https://localhost:8080/",
          "height": 34
        }
      },
      "cell_type": "code",
      "source": [
        "result"
      ],
      "execution_count": 2,
      "outputs": [
        {
          "output_type": "execute_result",
          "data": {
            "text/plain": [
              "<Response [200]>"
            ]
          },
          "metadata": {
            "tags": []
          },
          "execution_count": 2
        }
      ]
    },
    {
      "metadata": {
        "id": "AxqgRel1ZWv5",
        "colab_type": "code",
        "outputId": "15ab7698-5f0b-4fba-f047-ff62eac12e95",
        "colab": {
          "base_uri": "https://localhost:8080/",
          "height": 34
        }
      },
      "cell_type": "code",
      "source": [
        "type(result)"
      ],
      "execution_count": 3,
      "outputs": [
        {
          "output_type": "execute_result",
          "data": {
            "text/plain": [
              "requests.models.Response"
            ]
          },
          "metadata": {
            "tags": []
          },
          "execution_count": 3
        }
      ]
    },
    {
      "metadata": {
        "id": "-xUKJ_xQaDAP",
        "colab_type": "code",
        "colab": {}
      },
      "cell_type": "code",
      "source": [
        "#result.text"
      ],
      "execution_count": 0,
      "outputs": []
    },
    {
      "metadata": {
        "id": "-XRqisLZaF7-",
        "colab_type": "code",
        "colab": {}
      },
      "cell_type": "code",
      "source": [
        "soup = bs4.BeautifulSoup(result.text)"
      ],
      "execution_count": 0,
      "outputs": []
    },
    {
      "metadata": {
        "id": "k6Nmf5C4aISP",
        "colab_type": "code",
        "outputId": "738df0fe-30bb-4d4d-ca9e-286b823c12de",
        "colab": {
          "base_uri": "https://localhost:8080/",
          "height": 34
        }
      },
      "cell_type": "code",
      "source": [
        "type(soup)"
      ],
      "execution_count": 6,
      "outputs": [
        {
          "output_type": "execute_result",
          "data": {
            "text/plain": [
              "bs4.BeautifulSoup"
            ]
          },
          "metadata": {
            "tags": []
          },
          "execution_count": 6
        }
      ]
    },
    {
      "metadata": {
        "id": "7oLLbD_vaKGi",
        "colab_type": "code",
        "outputId": "0fa206bc-4b99-4087-d116-e10fb98d9d45",
        "colab": {
          "base_uri": "https://localhost:8080/",
          "height": 6494
        }
      },
      "cell_type": "code",
      "source": [
        "soup.select('h2')"
      ],
      "execution_count": 7,
      "outputs": [
        {
          "output_type": "execute_result",
          "data": {
            "text/plain": [
              "[<h2>\n",
              " <a href=\"/2019/schedule/presentation/235/\" id=\"presentation-235\">\n",
              "         5 Steps to Build Python Native GUI Widgets for BeeWare\n",
              "       </a>\n",
              " </h2>, <h2>\n",
              " <a href=\"/2019/schedule/presentation/196/\" id=\"presentation-196\">\n",
              "         8 things that happen at the dot:  Attribute Access &amp; Descriptors\n",
              "       </a>\n",
              " </h2>, <h2>\n",
              " <a href=\"/2019/schedule/presentation/210/\" id=\"presentation-210\">\n",
              "         Account Security Patterns: How Logged-In Are you?\n",
              "       </a>\n",
              " </h2>, <h2>\n",
              " <a href=\"/2019/schedule/presentation/240/\" id=\"presentation-240\">\n",
              "         Ace Your Technical Interview Using Python\n",
              "       </a>\n",
              " </h2>, <h2>\n",
              " <a href=\"/2019/schedule/presentation/161/\" id=\"presentation-161\">\n",
              "         Advanced asyncio: Solving Real-world Production Problems\n",
              "       </a>\n",
              " </h2>, <h2>\n",
              " <a href=\"/2019/schedule/presentation/230/\" id=\"presentation-230\">\n",
              "         A Guide to Software Engineering for Visually Impaired\n",
              "       </a>\n",
              " </h2>, <h2>\n",
              " <a href=\"/2019/schedule/presentation/157/\" id=\"presentation-157\">\n",
              "         A Medieval DSL? Parsing Heraldic Blazons with Python!\n",
              "       </a>\n",
              " </h2>, <h2>\n",
              " <a href=\"/2019/schedule/presentation/207/\" id=\"presentation-207\">\n",
              "         A New Era in Python Governance\n",
              "       </a>\n",
              " </h2>, <h2>\n",
              " <a href=\"/2019/schedule/presentation/150/\" id=\"presentation-150\">\n",
              "         API Evolution the Right Way\n",
              "       </a>\n",
              " </h2>, <h2>\n",
              " <a href=\"/2019/schedule/presentation/229/\" id=\"presentation-229\">\n",
              "         A Right Stitch-up: Creating embroidery patterns with Pillow\n",
              "       </a>\n",
              " </h2>, <h2>\n",
              " <a href=\"/2019/schedule/presentation/153/\" id=\"presentation-153\">\n",
              "         A Snake in the Bits: Security Automation with Python\n",
              "       </a>\n",
              " </h2>, <h2>\n",
              " <a href=\"/2019/schedule/presentation/187/\" id=\"presentation-187\">\n",
              "         Assets in Django without losing your hair\n",
              "       </a>\n",
              " </h2>, <h2>\n",
              " <a href=\"/2019/schedule/presentation/165/\" id=\"presentation-165\">\n",
              "         Attracting the Invisible Contributors\n",
              "       </a>\n",
              " </h2>, <h2>\n",
              " <a href=\"/2019/schedule/presentation/174/\" id=\"presentation-174\">\n",
              "         Beyond Two Groups: Generalized Bayesian A/B[/C/D/E...] Testing\n",
              "       </a>\n",
              " </h2>, <h2>\n",
              " <a href=\"/2019/schedule/presentation/152/\" id=\"presentation-152\">\n",
              "         Break the Cycle: Three excellent Python tools to automate repetitive tasks\n",
              "       </a>\n",
              " </h2>, <h2>\n",
              " <a href=\"/2019/schedule/presentation/211/\" id=\"presentation-211\">\n",
              "         Building a Culture of Observability\n",
              "       </a>\n",
              " </h2>, <h2>\n",
              " <a href=\"/2019/schedule/presentation/155/\" id=\"presentation-155\">\n",
              "         Building an Open Source Artificial Pancreas\n",
              "       </a>\n",
              " </h2>, <h2>\n",
              " <a href=\"/2019/schedule/presentation/209/\" id=\"presentation-209\">\n",
              "         Building reproducible Python applications for secured environments\n",
              "       </a>\n",
              " </h2>, <h2>\n",
              " <a href=\"/2019/schedule/presentation/231/\" id=\"presentation-231\">\n",
              "         But, Why is the (Django) Admin Slow?\n",
              "       </a>\n",
              " </h2>, <h2>\n",
              " <a href=\"/2019/schedule/presentation/177/\" id=\"presentation-177\">\n",
              "         Coded Readers: Using Python to uncover surprising patterns in the books you love\n",
              "       </a>\n",
              " </h2>, <h2>\n",
              " <a href=\"/2019/schedule/presentation/166/\" id=\"presentation-166\">\n",
              "         Code Review Skills for Pythonistas\n",
              "       </a>\n",
              " </h2>, <h2>\n",
              " <a href=\"/2019/schedule/presentation/206/\" id=\"presentation-206\">\n",
              "         CUDA in your Python: Effective Parallel Programming on the GPU\n",
              "       </a>\n",
              " </h2>, <h2>\n",
              " <a href=\"/2019/schedule/presentation/184/\" id=\"presentation-184\">\n",
              "         Dependency hell: a library author's guide\n",
              "       </a>\n",
              " </h2>, <h2>\n",
              " <a href=\"/2019/schedule/presentation/188/\" id=\"presentation-188\">\n",
              "         Django Channels in practice\n",
              "       </a>\n",
              " </h2>, <h2>\n",
              " <a href=\"/2019/schedule/presentation/146/\" id=\"presentation-146\">\n",
              "         Does remote work really work?\n",
              "       </a>\n",
              " </h2>, <h2>\n",
              " <a href=\"/2019/schedule/presentation/218/\" id=\"presentation-218\">\n",
              "         Don't be a robot, build the bot\n",
              "       </a>\n",
              " </h2>, <h2>\n",
              " <a href=\"/2019/schedule/presentation/192/\" id=\"presentation-192\">\n",
              "         Eita! Why Internationalization and Localization matter\n",
              "       </a>\n",
              " </h2>, <h2>\n",
              " <a href=\"/2019/schedule/presentation/190/\" id=\"presentation-190\">\n",
              "         Engineering Ethics and Open Source Software\n",
              "       </a>\n",
              " </h2>, <h2>\n",
              " <a href=\"/2019/schedule/presentation/233/\" id=\"presentation-233\">\n",
              "         Ensuring Safe Water Access with Python and Machine Learning\n",
              "       </a>\n",
              " </h2>, <h2>\n",
              " <a href=\"/2019/schedule/presentation/217/\" id=\"presentation-217\">\n",
              "         Escape from auto-manual testing with Hypothesis!\n",
              "       </a>\n",
              " </h2>, <h2>\n",
              " <a href=\"/2019/schedule/presentation/199/\" id=\"presentation-199\">\n",
              "         ¡Escuincla babosa!: Creating a telenovela script in three Python deep learning frameworks\n",
              "       </a>\n",
              " </h2>, <h2>\n",
              " <a href=\"/2019/schedule/presentation/222/\" id=\"presentation-222\">\n",
              "         Everything at Once: Python's Many Concurrency Models\n",
              "       </a>\n",
              " </h2>, <h2>\n",
              " <a href=\"/2019/schedule/presentation/225/\" id=\"presentation-225\">\n",
              "         Exceptional Exceptions - How to properly raise, handle and create them.\n",
              "       </a>\n",
              " </h2>, <h2>\n",
              " <a href=\"/2019/schedule/presentation/232/\" id=\"presentation-232\">\n",
              "         Extracting tabular data from PDFs with Camelot &amp; Excalibur\n",
              "       </a>\n",
              " </h2>, <h2>\n",
              " <a href=\"/2019/schedule/presentation/159/\" id=\"presentation-159\">\n",
              "         Fighting Climate Change with Python\n",
              "       </a>\n",
              " </h2>, <h2>\n",
              " <a href=\"/2019/schedule/presentation/221/\" id=\"presentation-221\">\n",
              "         Floats are Friends: making the most of IEEE754.00000000000000002\n",
              "       </a>\n",
              " </h2>, <h2>\n",
              " <a href=\"/2019/schedule/presentation/170/\" id=\"presentation-170\">\n",
              "         From days to minutes, from minutes to milliseconds with SQLAlchemy\n",
              "       </a>\n",
              " </h2>, <h2>\n",
              " <a href=\"/2019/schedule/presentation/228/\" id=\"presentation-228\">\n",
              "         Getting Started Testing in Data Science\n",
              "       </a>\n",
              " </h2>, <h2>\n",
              " <a href=\"/2019/schedule/presentation/234/\" id=\"presentation-234\">\n",
              "         Getting started with Deep Learning: Using Keras &amp; Numpy to detect voice disorders \n",
              "       </a>\n",
              " </h2>, <h2>\n",
              " <a href=\"/2019/schedule/presentation/223/\" id=\"presentation-223\">\n",
              "         Getting to Three Million Lines of Type-Annotated Python\n",
              "       </a>\n",
              " </h2>, <h2>\n",
              " <a href=\"/2019/schedule/presentation/236/\" id=\"presentation-236\">\n",
              "         Going from 2 to 3 on Windows, macOS and Linux\n",
              "       </a>\n",
              " </h2>, <h2>\n",
              " <a href=\"/2019/schedule/presentation/164/\" id=\"presentation-164\">\n",
              "         Help! I'm now the leader of our Meetup group!\n",
              "       </a>\n",
              " </h2>, <h2>\n",
              " <a href=\"/2019/schedule/presentation/173/\" id=\"presentation-173\">\n",
              "         How to Build a Clinical Diagnostic Model in Python\n",
              "       </a>\n",
              " </h2>, <h2>\n",
              " <a href=\"/2019/schedule/presentation/241/\" id=\"presentation-241\">\n",
              "         How to engage Python contributors in the long term? Tech is easy, people are hard.\n",
              "       </a>\n",
              " </h2>, <h2>\n",
              " <a href=\"/2019/schedule/presentation/169/\" id=\"presentation-169\">\n",
              "         How to JIT: Writing a Python JIT from scratch in pure Python\n",
              "       </a>\n",
              " </h2>, <h2>\n",
              " <a href=\"/2019/schedule/presentation/219/\" id=\"presentation-219\">\n",
              "         How to Think about Data Visualization\n",
              "       </a>\n",
              " </h2>, <h2>\n",
              " <a href=\"/2019/schedule/presentation/171/\" id=\"presentation-171\">\n",
              "         Instant serverless APIs, powered by SQLite\n",
              "       </a>\n",
              " </h2>, <h2>\n",
              " <a href=\"/2019/schedule/presentation/183/\" id=\"presentation-183\">\n",
              "         Intentional Deployment: Best Practices for Feature Flag Management\n",
              "       </a>\n",
              " </h2>, <h2>\n",
              " <a href=\"/2019/schedule/presentation/220/\" id=\"presentation-220\">\n",
              "         Lessons learned from building a community of Python users among thousands of analysts\n",
              "       </a>\n",
              " </h2>, <h2>\n",
              " <a href=\"/2019/schedule/presentation/148/\" id=\"presentation-148\">\n",
              "         Leveraging the Type System to Write Secure Applications\n",
              "       </a>\n",
              " </h2>, <h2>\n",
              " <a href=\"/2019/schedule/presentation/224/\" id=\"presentation-224\">\n",
              "         Life Is Better Painted Black, or: How to Stop Worrying and Embrace Auto-Formatting\n",
              "       </a>\n",
              " </h2>, <h2>\n",
              " <a href=\"/2019/schedule/presentation/214/\" id=\"presentation-214\">\n",
              "         Lowering the Stakes of Failure with Pre-mortems and Post-mortems\n",
              "       </a>\n",
              " </h2>, <h2>\n",
              " <a href=\"/2019/schedule/presentation/176/\" id=\"presentation-176\">\n",
              "         Machine learning model and dataset versioning practices\n",
              "       </a>\n",
              " </h2>, <h2>\n",
              " <a href=\"/2019/schedule/presentation/167/\" id=\"presentation-167\">\n",
              "         Maintaining a Python Project When It’s Not Your Job\n",
              "       </a>\n",
              " </h2>, <h2>\n",
              " <a href=\"/2019/schedule/presentation/156/\" id=\"presentation-156\">\n",
              "         Making Music with Python, SuperCollider and FoxDot\n",
              "       </a>\n",
              " </h2>, <h2>\n",
              " <a href=\"/2019/schedule/presentation/226/\" id=\"presentation-226\">\n",
              "         Measures and Mismeasures of algorithmic fairness\n",
              "       </a>\n",
              " </h2>, <h2>\n",
              " <a href=\"/2019/schedule/presentation/201/\" id=\"presentation-201\">\n",
              "         Measuring Model Fairness\n",
              "       </a>\n",
              " </h2>, <h2>\n",
              " <a href=\"/2019/schedule/presentation/147/\" id=\"presentation-147\">\n",
              "         Migrating Pinterest from Python2 to Python3\n",
              "       </a>\n",
              " </h2>, <h2>\n",
              " <a href=\"/2019/schedule/presentation/216/\" id=\"presentation-216\">\n",
              "         Mocking and Patching Pitfalls\n",
              "       </a>\n",
              " </h2>, <h2>\n",
              " <a href=\"/2019/schedule/presentation/149/\" id=\"presentation-149\">\n",
              "         Modern solvers: Problems well-defined are problems solved\n",
              "       </a>\n",
              " </h2>, <h2>\n",
              " <a href=\"/2019/schedule/presentation/189/\" id=\"presentation-189\">\n",
              "         One Engineer, an API, and an MVP: Or, how I spent one hour improving hiring data at my company.\n",
              "       </a>\n",
              " </h2>, <h2>\n",
              " <a href=\"/2019/schedule/presentation/238/\" id=\"presentation-238\">\n",
              "         Plan your next eclipse viewing with Jupyter and geopandas\n",
              "       </a>\n",
              " </h2>, <h2>\n",
              " <a href=\"/2019/schedule/presentation/227/\" id=\"presentation-227\">\n",
              "         Plugins: Adding Flexibility to Your Apps\n",
              "       </a>\n",
              " </h2>, <h2>\n",
              " <a href=\"/2019/schedule/presentation/158/\" id=\"presentation-158\">\n",
              "         Plug-n-Stream Player Piano: Signal Processing With Python\n",
              "       </a>\n",
              " </h2>, <h2>\n",
              " <a href=\"/2019/schedule/presentation/194/\" id=\"presentation-194\">\n",
              "         Practical decorators\n",
              "       </a>\n",
              " </h2>, <h2>\n",
              " <a href=\"/2019/schedule/presentation/193/\" id=\"presentation-193\">\n",
              "         Programmatic Notebooks with papermill\n",
              "       </a>\n",
              " </h2>, <h2>\n",
              " <a href=\"/2019/schedule/presentation/200/\" id=\"presentation-200\">\n",
              "         Put down the deep learning: When not to use neural networks and what to do instead\n",
              "       </a>\n",
              " </h2>, <h2>\n",
              " <a href=\"/2019/schedule/presentation/212/\" id=\"presentation-212\">\n",
              "         Python on Windows is Okay, Actually\n",
              "       </a>\n",
              " </h2>, <h2>\n",
              " <a href=\"/2019/schedule/presentation/208/\" id=\"presentation-208\">\n",
              "         Python Security Tools\n",
              "       </a>\n",
              " </h2>, <h2>\n",
              " <a href=\"/2019/schedule/presentation/182/\" id=\"presentation-182\">\n",
              "         Releasing the World's Largest Python Site Every 7 Minutes\n",
              "       </a>\n",
              " </h2>, <h2>\n",
              " <a href=\"/2019/schedule/presentation/175/\" id=\"presentation-175\">\n",
              "         Rescuing Kerala with Python\n",
              "       </a>\n",
              " </h2>, <h2>\n",
              " <a href=\"/2019/schedule/presentation/172/\" id=\"presentation-172\">\n",
              "         Scraping a Million Pokemon Battles: Distributed Systems By Example\n",
              "       </a>\n",
              " </h2>, <h2>\n",
              " <a href=\"/2019/schedule/presentation/180/\" id=\"presentation-180\">\n",
              "         Set Practice: learning from Python's set types\n",
              "       </a>\n",
              " </h2>, <h2>\n",
              " <a href=\"/2019/schedule/presentation/197/\" id=\"presentation-197\">\n",
              "         Statistical Profiling (and other fun with the sys module)\n",
              "       </a>\n",
              " </h2>, <h2>\n",
              " <a href=\"/2019/schedule/presentation/215/\" id=\"presentation-215\">\n",
              "         Strategies for testing Async code\n",
              "       </a>\n",
              " </h2>, <h2>\n",
              " <a href=\"/2019/schedule/presentation/154/\" id=\"presentation-154\">\n",
              "         Supporting Engineers with Mental Health Issues\n",
              "       </a>\n",
              " </h2>, <h2>\n",
              " <a href=\"/2019/schedule/presentation/205/\" id=\"presentation-205\">\n",
              "         Syntax Trees and Python - Automated Code Transformations\n",
              "       </a>\n",
              " </h2>, <h2>\n",
              " <a href=\"/2019/schedule/presentation/160/\" id=\"presentation-160\">\n",
              "         Take Back the Web with GraphQL\n",
              "       </a>\n",
              " </h2>, <h2>\n",
              " <a href=\"/2019/schedule/presentation/151/\" id=\"presentation-151\">\n",
              "         Terrain, Art, Python and LiDAR\n",
              "       </a>\n",
              " </h2>, <h2>\n",
              " <a href=\"/2019/schedule/presentation/186/\" id=\"presentation-186\">\n",
              "         The Black Magic of Python Wheels\n",
              "       </a>\n",
              " </h2>, <h2>\n",
              " <a href=\"/2019/schedule/presentation/204/\" id=\"presentation-204\">\n",
              "         The Perils of Inheritance: Why We Should Prefer Composition\n",
              "       </a>\n",
              " </h2>, <h2>\n",
              " <a href=\"/2019/schedule/presentation/213/\" id=\"presentation-213\">\n",
              "         The Refactoring Balance Beam: When to Make Changes and When to Leave it Alone\n",
              "       </a>\n",
              " </h2>, <h2>\n",
              " <a href=\"/2019/schedule/presentation/168/\" id=\"presentation-168\">\n",
              "         The Zen of Python Teams\n",
              "       </a>\n",
              " </h2>, <h2>\n",
              " <a href=\"/2019/schedule/presentation/203/\" id=\"presentation-203\">\n",
              "         Things I Wish They Told Me About The Multiprocessing Module in Python 3\n",
              "       </a>\n",
              " </h2>, <h2>\n",
              " <a href=\"/2019/schedule/presentation/179/\" id=\"presentation-179\">\n",
              "         Thinking Inside the Box: How Python Helped Us Adapt to An Existing Data Ingestion Pipeline\n",
              "       </a>\n",
              " </h2>, <h2>\n",
              " <a href=\"/2019/schedule/presentation/178/\" id=\"presentation-178\">\n",
              "         Thinking like a Panda: Everything you need to know to use pandas the right way.\n",
              "       </a>\n",
              " </h2>, <h2>\n",
              " <a href=\"/2019/schedule/presentation/185/\" id=\"presentation-185\">\n",
              "         Thoth - how to recommend the best possible libraries for your application\n",
              "       </a>\n",
              " </h2>, <h2>\n",
              " <a href=\"/2019/schedule/presentation/202/\" id=\"presentation-202\">\n",
              "         Time to take out the rubbish: garbage collector\n",
              "       </a>\n",
              " </h2>, <h2>\n",
              " <a href=\"/2019/schedule/presentation/163/\" id=\"presentation-163\">\n",
              "         to GIL or not to GIL: the Future of Multi-Core (C)Python\n",
              "       </a>\n",
              " </h2>, <h2>\n",
              " <a href=\"/2019/schedule/presentation/198/\" id=\"presentation-198\">\n",
              "         Type hinting (and mypy)\n",
              "       </a>\n",
              " </h2>, <h2>\n",
              " <a href=\"/2019/schedule/presentation/181/\" id=\"presentation-181\">\n",
              "          Understanding Python’s Debugging Internals \n",
              "       </a>\n",
              " </h2>, <h2>\n",
              " <a href=\"/2019/schedule/presentation/237/\" id=\"presentation-237\">\n",
              "         What is a PLC and how do I talk Python to it?\n",
              "       </a>\n",
              " </h2>, <h2>\n",
              " <a href=\"/2019/schedule/presentation/195/\" id=\"presentation-195\">\n",
              "         What's new in Python 3.7\n",
              "       </a>\n",
              " </h2>, <h2>\n",
              " <a href=\"/2019/schedule/presentation/162/\" id=\"presentation-162\">\n",
              "         Wily Python: Writing simpler and more maintainable Python\n",
              "       </a>\n",
              " </h2>, <h2>\n",
              " <a href=\"/2019/schedule/presentation/191/\" id=\"presentation-191\">\n",
              "         Working with Time Zones: Everything You Wish You Didn't Need to Know\n",
              "       </a>\n",
              " </h2>]"
            ]
          },
          "metadata": {
            "tags": []
          },
          "execution_count": 7
        }
      ]
    },
    {
      "metadata": {
        "id": "bYeDTNyTaN5w",
        "colab_type": "code",
        "outputId": "f9aefe70-ccf2-472a-95b8-ad444b7c1db4",
        "colab": {
          "base_uri": "https://localhost:8080/",
          "height": 34
        }
      },
      "cell_type": "code",
      "source": [
        "type(soup.select('h2'))"
      ],
      "execution_count": 8,
      "outputs": [
        {
          "output_type": "execute_result",
          "data": {
            "text/plain": [
              "list"
            ]
          },
          "metadata": {
            "tags": []
          },
          "execution_count": 8
        }
      ]
    },
    {
      "metadata": {
        "id": "9FCEgyl3aOmu",
        "colab_type": "code",
        "outputId": "c6a05ba2-2bdd-4c76-f863-68b6443ec7f2",
        "colab": {
          "base_uri": "https://localhost:8080/",
          "height": 34
        }
      },
      "cell_type": "code",
      "source": [
        "len(soup.select('h2'))"
      ],
      "execution_count": 9,
      "outputs": [
        {
          "output_type": "execute_result",
          "data": {
            "text/plain": [
              "95"
            ]
          },
          "metadata": {
            "tags": []
          },
          "execution_count": 9
        }
      ]
    },
    {
      "metadata": {
        "id": "-dL1xf1uaQSY",
        "colab_type": "code",
        "outputId": "0383e94d-95d0-491b-b299-85e11a85632b",
        "colab": {
          "base_uri": "https://localhost:8080/",
          "height": 102
        }
      },
      "cell_type": "code",
      "source": [
        "first = soup.select('h2')[0]\n",
        "first"
      ],
      "execution_count": 10,
      "outputs": [
        {
          "output_type": "execute_result",
          "data": {
            "text/plain": [
              "<h2>\n",
              "<a href=\"/2019/schedule/presentation/235/\" id=\"presentation-235\">\n",
              "        5 Steps to Build Python Native GUI Widgets for BeeWare\n",
              "      </a>\n",
              "</h2>"
            ]
          },
          "metadata": {
            "tags": []
          },
          "execution_count": 10
        }
      ]
    },
    {
      "metadata": {
        "id": "h_VJPajhaSL4",
        "colab_type": "code",
        "outputId": "ca1a4a2f-d04a-4877-e2bc-aa75930de6ef",
        "colab": {
          "base_uri": "https://localhost:8080/",
          "height": 34
        }
      },
      "cell_type": "code",
      "source": [
        "type(first)"
      ],
      "execution_count": 11,
      "outputs": [
        {
          "output_type": "execute_result",
          "data": {
            "text/plain": [
              "bs4.element.Tag"
            ]
          },
          "metadata": {
            "tags": []
          },
          "execution_count": 11
        }
      ]
    },
    {
      "metadata": {
        "id": "CLge8AGeaTzW",
        "colab_type": "code",
        "outputId": "49cf7dfc-c0ba-4e0d-9e43-9bd6e47343a7",
        "colab": {
          "base_uri": "https://localhost:8080/",
          "height": 34
        }
      },
      "cell_type": "code",
      "source": [
        "first.text"
      ],
      "execution_count": 12,
      "outputs": [
        {
          "output_type": "execute_result",
          "data": {
            "text/plain": [
              "'\\n\\n        5 Steps to Build Python Native GUI Widgets for BeeWare\\n      \\n'"
            ]
          },
          "metadata": {
            "tags": []
          },
          "execution_count": 12
        }
      ]
    },
    {
      "metadata": {
        "id": "Ngi2YtDHaW21",
        "colab_type": "code",
        "outputId": "07db98bb-c75d-44a0-a364-b7142299e11b",
        "colab": {
          "base_uri": "https://localhost:8080/",
          "height": 34
        }
      },
      "cell_type": "code",
      "source": [
        "type(first.text)"
      ],
      "execution_count": 13,
      "outputs": [
        {
          "output_type": "execute_result",
          "data": {
            "text/plain": [
              "str"
            ]
          },
          "metadata": {
            "tags": []
          },
          "execution_count": 13
        }
      ]
    },
    {
      "metadata": {
        "id": "oUn5yhgaadEU",
        "colab_type": "code",
        "outputId": "24dc6296-c0ee-48fd-e954-6863c802b6d8",
        "colab": {
          "base_uri": "https://localhost:8080/",
          "height": 34
        }
      },
      "cell_type": "code",
      "source": [
        "first.text.strip()"
      ],
      "execution_count": 14,
      "outputs": [
        {
          "output_type": "execute_result",
          "data": {
            "text/plain": [
              "'5 Steps to Build Python Native GUI Widgets for BeeWare'"
            ]
          },
          "metadata": {
            "tags": []
          },
          "execution_count": 14
        }
      ]
    },
    {
      "metadata": {
        "id": "emh82cg9ae6E",
        "colab_type": "code",
        "outputId": "979ea843-9c03-45f1-cd1d-22d04048b848",
        "colab": {
          "base_uri": "https://localhost:8080/",
          "height": 102
        }
      },
      "cell_type": "code",
      "source": [
        "soup.select('h2')[-1]"
      ],
      "execution_count": 15,
      "outputs": [
        {
          "output_type": "execute_result",
          "data": {
            "text/plain": [
              "<h2>\n",
              "<a href=\"/2019/schedule/presentation/191/\" id=\"presentation-191\">\n",
              "        Working with Time Zones: Everything You Wish You Didn't Need to Know\n",
              "      </a>\n",
              "</h2>"
            ]
          },
          "metadata": {
            "tags": []
          },
          "execution_count": 15
        }
      ]
    },
    {
      "metadata": {
        "id": "Hm3Fd_Edago-",
        "colab_type": "code",
        "outputId": "5610e8ac-578f-4f98-f177-6a974ba7056f",
        "colab": {
          "base_uri": "https://localhost:8080/",
          "height": 34
        }
      },
      "cell_type": "code",
      "source": [
        "last = soup.select('h2')[-1]\n",
        "last.text.strip()"
      ],
      "execution_count": 16,
      "outputs": [
        {
          "output_type": "execute_result",
          "data": {
            "text/plain": [
              "\"Working with Time Zones: Everything You Wish You Didn't Need to Know\""
            ]
          },
          "metadata": {
            "tags": []
          },
          "execution_count": 16
        }
      ]
    },
    {
      "metadata": {
        "id": "42s4JwqxajgH",
        "colab_type": "code",
        "colab": {}
      },
      "cell_type": "code",
      "source": [
        "#This....\n",
        "\n",
        "titles = []\n",
        "for tag in soup.select('h2'):\n",
        "  title = tag.text.strip()\n",
        "  titles.append(title)\n",
        "\n",
        "#Is the same as this\n",
        "\n",
        "titles = [tag.text.strip()\n",
        "         for tag in soup.select('h2')]"
      ],
      "execution_count": 0,
      "outputs": []
    },
    {
      "metadata": {
        "id": "WrPOasSTalBs",
        "colab_type": "code",
        "outputId": "5694a053-b6f6-4688-b0ac-f3877e00fea5",
        "colab": {
          "base_uri": "https://localhost:8080/",
          "height": 85
        }
      },
      "cell_type": "code",
      "source": [
        "type(titles), len(titles), titles[0], titles[-1]"
      ],
      "execution_count": 18,
      "outputs": [
        {
          "output_type": "execute_result",
          "data": {
            "text/plain": [
              "(list,\n",
              " 95,\n",
              " '5 Steps to Build Python Native GUI Widgets for BeeWare',\n",
              " \"Working with Time Zones: Everything You Wish You Didn't Need to Know\")"
            ]
          },
          "metadata": {
            "tags": []
          },
          "execution_count": 18
        }
      ]
    },
    {
      "metadata": {
        "colab_type": "text",
        "id": "vqkNgAzYpeK7"
      },
      "cell_type": "markdown",
      "source": [
        "## 5 ways to look at long titles\n",
        "\n",
        "Let's define a long title as greater than 80 characters"
      ]
    },
    {
      "metadata": {
        "colab_type": "text",
        "id": "N7tqeZh14Fws"
      },
      "cell_type": "markdown",
      "source": [
        "### 1. For Loop"
      ]
    },
    {
      "metadata": {
        "colab_type": "code",
        "id": "kKxs5tqDApuZ",
        "outputId": "ecc6a47a-142b-4489-eeb8-c586a6c70f0e",
        "colab": {
          "base_uri": "https://localhost:8080/",
          "height": 153
        }
      },
      "cell_type": "code",
      "source": [
        "long_titles = []\n",
        "for title in titles:\n",
        "  if len(title) > 80:\n",
        "    #print(title)\n",
        "    long_titles.append(title)\n",
        "\n",
        "long_titles"
      ],
      "execution_count": 19,
      "outputs": [
        {
          "output_type": "execute_result",
          "data": {
            "text/plain": [
              "['¡Escuincla babosa!: Creating a telenovela script in three Python deep learning frameworks',\n",
              " 'Getting started with Deep Learning: Using Keras & Numpy to detect voice disorders',\n",
              " 'How to engage Python contributors in the long term? Tech is easy, people are hard.',\n",
              " 'Lessons learned from building a community of Python users among thousands of analysts',\n",
              " 'Life Is Better Painted Black, or: How to Stop Worrying and Embrace Auto-Formatting',\n",
              " 'One Engineer, an API, and an MVP: Or, how I spent one hour improving hiring data at my company.',\n",
              " 'Put down the deep learning: When not to use neural networks and what to do instead',\n",
              " 'Thinking Inside the Box: How Python Helped Us Adapt to An Existing Data Ingestion Pipeline']"
            ]
          },
          "metadata": {
            "tags": []
          },
          "execution_count": 19
        }
      ]
    },
    {
      "metadata": {
        "colab_type": "text",
        "id": "I21jcEnK4IN7"
      },
      "cell_type": "markdown",
      "source": [
        "### 2. List Comprehension"
      ]
    },
    {
      "metadata": {
        "colab_type": "code",
        "id": "qaXe9UldAs3H",
        "outputId": "50891c72-1054-4464-8796-107be47a475c",
        "colab": {
          "base_uri": "https://localhost:8080/",
          "height": 153
        }
      },
      "cell_type": "code",
      "source": [
        "[title for title in titles if len(title)>80]"
      ],
      "execution_count": 20,
      "outputs": [
        {
          "output_type": "execute_result",
          "data": {
            "text/plain": [
              "['¡Escuincla babosa!: Creating a telenovela script in three Python deep learning frameworks',\n",
              " 'Getting started with Deep Learning: Using Keras & Numpy to detect voice disorders',\n",
              " 'How to engage Python contributors in the long term? Tech is easy, people are hard.',\n",
              " 'Lessons learned from building a community of Python users among thousands of analysts',\n",
              " 'Life Is Better Painted Black, or: How to Stop Worrying and Embrace Auto-Formatting',\n",
              " 'One Engineer, an API, and an MVP: Or, how I spent one hour improving hiring data at my company.',\n",
              " 'Put down the deep learning: When not to use neural networks and what to do instead',\n",
              " 'Thinking Inside the Box: How Python Helped Us Adapt to An Existing Data Ingestion Pipeline']"
            ]
          },
          "metadata": {
            "tags": []
          },
          "execution_count": 20
        }
      ]
    },
    {
      "metadata": {
        "colab_type": "text",
        "id": "2kn8pxL-4yMG"
      },
      "cell_type": "markdown",
      "source": [
        "### 3. Filter with named function"
      ]
    },
    {
      "metadata": {
        "colab_type": "code",
        "id": "ywLqqFJNAvFm",
        "outputId": "0f5da911-851b-4e82-b614-918a6cbc695c",
        "colab": {
          "base_uri": "https://localhost:8080/",
          "height": 34
        }
      },
      "cell_type": "code",
      "source": [
        "def long(title):\n",
        "  return len(title) > 80\n",
        "\n",
        "long('Python is Good!')"
      ],
      "execution_count": 21,
      "outputs": [
        {
          "output_type": "execute_result",
          "data": {
            "text/plain": [
              "False"
            ]
          },
          "metadata": {
            "tags": []
          },
          "execution_count": 21
        }
      ]
    },
    {
      "metadata": {
        "id": "D9gJuUTEbjCa",
        "colab_type": "code",
        "outputId": "066b4bcf-d4bc-4adf-d76c-006c5b03f95f",
        "colab": {
          "base_uri": "https://localhost:8080/",
          "height": 153
        }
      },
      "cell_type": "code",
      "source": [
        "list(filter(long,titles))"
      ],
      "execution_count": 22,
      "outputs": [
        {
          "output_type": "execute_result",
          "data": {
            "text/plain": [
              "['¡Escuincla babosa!: Creating a telenovela script in three Python deep learning frameworks',\n",
              " 'Getting started with Deep Learning: Using Keras & Numpy to detect voice disorders',\n",
              " 'How to engage Python contributors in the long term? Tech is easy, people are hard.',\n",
              " 'Lessons learned from building a community of Python users among thousands of analysts',\n",
              " 'Life Is Better Painted Black, or: How to Stop Worrying and Embrace Auto-Formatting',\n",
              " 'One Engineer, an API, and an MVP: Or, how I spent one hour improving hiring data at my company.',\n",
              " 'Put down the deep learning: When not to use neural networks and what to do instead',\n",
              " 'Thinking Inside the Box: How Python Helped Us Adapt to An Existing Data Ingestion Pipeline']"
            ]
          },
          "metadata": {
            "tags": []
          },
          "execution_count": 22
        }
      ]
    },
    {
      "metadata": {
        "colab_type": "text",
        "id": "IPIT6oXz40Q3"
      },
      "cell_type": "markdown",
      "source": [
        "### 4. Filter with anonymous function"
      ]
    },
    {
      "metadata": {
        "colab_type": "code",
        "id": "giIcFYkiAwiR",
        "outputId": "3d506939-0d21-4162-cc35-7f3d68e50200",
        "colab": {
          "base_uri": "https://localhost:8080/",
          "height": 153
        }
      },
      "cell_type": "code",
      "source": [
        "list(filter (lambda t: len(t) >80, titles))"
      ],
      "execution_count": 23,
      "outputs": [
        {
          "output_type": "execute_result",
          "data": {
            "text/plain": [
              "['¡Escuincla babosa!: Creating a telenovela script in three Python deep learning frameworks',\n",
              " 'Getting started with Deep Learning: Using Keras & Numpy to detect voice disorders',\n",
              " 'How to engage Python contributors in the long term? Tech is easy, people are hard.',\n",
              " 'Lessons learned from building a community of Python users among thousands of analysts',\n",
              " 'Life Is Better Painted Black, or: How to Stop Worrying and Embrace Auto-Formatting',\n",
              " 'One Engineer, an API, and an MVP: Or, how I spent one hour improving hiring data at my company.',\n",
              " 'Put down the deep learning: When not to use neural networks and what to do instead',\n",
              " 'Thinking Inside the Box: How Python Helped Us Adapt to An Existing Data Ingestion Pipeline']"
            ]
          },
          "metadata": {
            "tags": []
          },
          "execution_count": 23
        }
      ]
    },
    {
      "metadata": {
        "colab_type": "text",
        "id": "qj8Yod8_45z4"
      },
      "cell_type": "markdown",
      "source": [
        "### 5. Pandas\n",
        "\n",
        "pandas documentation: [Working with Text Data](https://pandas.pydata.org/pandas-docs/stable/text.html)"
      ]
    },
    {
      "metadata": {
        "colab_type": "code",
        "id": "yRwPEHNcAzc_",
        "colab": {}
      },
      "cell_type": "code",
      "source": [
        "import pandas as pd\n",
        "pd.options.display.max_colwidth = 200"
      ],
      "execution_count": 0,
      "outputs": []
    },
    {
      "metadata": {
        "id": "7nj5m6pycMmj",
        "colab_type": "code",
        "outputId": "73b5ab5a-432d-473d-f8a8-1874cedcec03",
        "colab": {
          "base_uri": "https://localhost:8080/",
          "height": 221
        }
      },
      "cell_type": "code",
      "source": [
        "df = pd.DataFrame({'title': titles})\n",
        "print(df.shape)\n",
        "df.head()"
      ],
      "execution_count": 25,
      "outputs": [
        {
          "output_type": "stream",
          "text": [
            "(95, 1)\n"
          ],
          "name": "stdout"
        },
        {
          "output_type": "execute_result",
          "data": {
            "text/html": [
              "<div>\n",
              "<style scoped>\n",
              "    .dataframe tbody tr th:only-of-type {\n",
              "        vertical-align: middle;\n",
              "    }\n",
              "\n",
              "    .dataframe tbody tr th {\n",
              "        vertical-align: top;\n",
              "    }\n",
              "\n",
              "    .dataframe thead th {\n",
              "        text-align: right;\n",
              "    }\n",
              "</style>\n",
              "<table border=\"1\" class=\"dataframe\">\n",
              "  <thead>\n",
              "    <tr style=\"text-align: right;\">\n",
              "      <th></th>\n",
              "      <th>title</th>\n",
              "    </tr>\n",
              "  </thead>\n",
              "  <tbody>\n",
              "    <tr>\n",
              "      <th>0</th>\n",
              "      <td>5 Steps to Build Python Native GUI Widgets for BeeWare</td>\n",
              "    </tr>\n",
              "    <tr>\n",
              "      <th>1</th>\n",
              "      <td>8 things that happen at the dot:  Attribute Access &amp; Descriptors</td>\n",
              "    </tr>\n",
              "    <tr>\n",
              "      <th>2</th>\n",
              "      <td>Account Security Patterns: How Logged-In Are you?</td>\n",
              "    </tr>\n",
              "    <tr>\n",
              "      <th>3</th>\n",
              "      <td>Ace Your Technical Interview Using Python</td>\n",
              "    </tr>\n",
              "    <tr>\n",
              "      <th>4</th>\n",
              "      <td>Advanced asyncio: Solving Real-world Production Problems</td>\n",
              "    </tr>\n",
              "  </tbody>\n",
              "</table>\n",
              "</div>"
            ],
            "text/plain": [
              "                                                              title\n",
              "0            5 Steps to Build Python Native GUI Widgets for BeeWare\n",
              "1  8 things that happen at the dot:  Attribute Access & Descriptors\n",
              "2                 Account Security Patterns: How Logged-In Are you?\n",
              "3                         Ace Your Technical Interview Using Python\n",
              "4          Advanced asyncio: Solving Real-world Production Problems"
            ]
          },
          "metadata": {
            "tags": []
          },
          "execution_count": 25
        }
      ]
    },
    {
      "metadata": {
        "id": "MGsFXtDvcTQz",
        "colab_type": "code",
        "colab": {}
      },
      "cell_type": "code",
      "source": [
        "#df['title'] Creates Pandas Series\n",
        "##df['title'].str.len()  Returns an Pandas Series with title length as the column value\n",
        "###df['title'].str.len()>80 Returns a Boolean on which Index has a title longer than 80 characters\n",
        "####df[df['title'].str.len()>80] Give me a dataframe where the previous statement was true. "
      ],
      "execution_count": 0,
      "outputs": []
    },
    {
      "metadata": {
        "id": "6XQFyurncUPt",
        "colab_type": "code",
        "outputId": "659afb50-7dc0-4a39-bf86-7e7fe90dd710",
        "colab": {
          "base_uri": "https://localhost:8080/",
          "height": 297
        }
      },
      "cell_type": "code",
      "source": [
        "df[ df['title'].str.len() > 80 ]"
      ],
      "execution_count": 27,
      "outputs": [
        {
          "output_type": "execute_result",
          "data": {
            "text/html": [
              "<div>\n",
              "<style scoped>\n",
              "    .dataframe tbody tr th:only-of-type {\n",
              "        vertical-align: middle;\n",
              "    }\n",
              "\n",
              "    .dataframe tbody tr th {\n",
              "        vertical-align: top;\n",
              "    }\n",
              "\n",
              "    .dataframe thead th {\n",
              "        text-align: right;\n",
              "    }\n",
              "</style>\n",
              "<table border=\"1\" class=\"dataframe\">\n",
              "  <thead>\n",
              "    <tr style=\"text-align: right;\">\n",
              "      <th></th>\n",
              "      <th>title</th>\n",
              "    </tr>\n",
              "  </thead>\n",
              "  <tbody>\n",
              "    <tr>\n",
              "      <th>30</th>\n",
              "      <td>¡Escuincla babosa!: Creating a telenovela script in three Python deep learning frameworks</td>\n",
              "    </tr>\n",
              "    <tr>\n",
              "      <th>38</th>\n",
              "      <td>Getting started with Deep Learning: Using Keras &amp; Numpy to detect voice disorders</td>\n",
              "    </tr>\n",
              "    <tr>\n",
              "      <th>43</th>\n",
              "      <td>How to engage Python contributors in the long term? Tech is easy, people are hard.</td>\n",
              "    </tr>\n",
              "    <tr>\n",
              "      <th>48</th>\n",
              "      <td>Lessons learned from building a community of Python users among thousands of analysts</td>\n",
              "    </tr>\n",
              "    <tr>\n",
              "      <th>50</th>\n",
              "      <td>Life Is Better Painted Black, or: How to Stop Worrying and Embrace Auto-Formatting</td>\n",
              "    </tr>\n",
              "    <tr>\n",
              "      <th>60</th>\n",
              "      <td>One Engineer, an API, and an MVP: Or, how I spent one hour improving hiring data at my company.</td>\n",
              "    </tr>\n",
              "    <tr>\n",
              "      <th>66</th>\n",
              "      <td>Put down the deep learning: When not to use neural networks and what to do instead</td>\n",
              "    </tr>\n",
              "    <tr>\n",
              "      <th>84</th>\n",
              "      <td>Thinking Inside the Box: How Python Helped Us Adapt to An Existing Data Ingestion Pipeline</td>\n",
              "    </tr>\n",
              "  </tbody>\n",
              "</table>\n",
              "</div>"
            ],
            "text/plain": [
              "                                                                                              title\n",
              "30        ¡Escuincla babosa!: Creating a telenovela script in three Python deep learning frameworks\n",
              "38                Getting started with Deep Learning: Using Keras & Numpy to detect voice disorders\n",
              "43               How to engage Python contributors in the long term? Tech is easy, people are hard.\n",
              "48            Lessons learned from building a community of Python users among thousands of analysts\n",
              "50               Life Is Better Painted Black, or: How to Stop Worrying and Embrace Auto-Formatting\n",
              "60  One Engineer, an API, and an MVP: Or, how I spent one hour improving hiring data at my company.\n",
              "66               Put down the deep learning: When not to use neural networks and what to do instead\n",
              "84       Thinking Inside the Box: How Python Helped Us Adapt to An Existing Data Ingestion Pipeline"
            ]
          },
          "metadata": {
            "tags": []
          },
          "execution_count": 27
        }
      ]
    },
    {
      "metadata": {
        "colab_type": "text",
        "id": "8YaUZJvRp681"
      },
      "cell_type": "markdown",
      "source": [
        "## Make new dataframe columns\n",
        "\n",
        "pandas documentation: [apply](https://pandas.pydata.org/pandas-docs/stable/generated/pandas.Series.apply.html)"
      ]
    },
    {
      "metadata": {
        "colab_type": "code",
        "id": "DR_WZ-olA4-v",
        "outputId": "00869c6b-7611-437a-f302-1ad36be4597a",
        "colab": {
          "base_uri": "https://localhost:8080/",
          "height": 221
        }
      },
      "cell_type": "code",
      "source": [
        "df['title length'] = df['title'].apply(len)\n",
        "print(df.shape)\n",
        "df.head()"
      ],
      "execution_count": 28,
      "outputs": [
        {
          "output_type": "stream",
          "text": [
            "(95, 2)\n"
          ],
          "name": "stdout"
        },
        {
          "output_type": "execute_result",
          "data": {
            "text/html": [
              "<div>\n",
              "<style scoped>\n",
              "    .dataframe tbody tr th:only-of-type {\n",
              "        vertical-align: middle;\n",
              "    }\n",
              "\n",
              "    .dataframe tbody tr th {\n",
              "        vertical-align: top;\n",
              "    }\n",
              "\n",
              "    .dataframe thead th {\n",
              "        text-align: right;\n",
              "    }\n",
              "</style>\n",
              "<table border=\"1\" class=\"dataframe\">\n",
              "  <thead>\n",
              "    <tr style=\"text-align: right;\">\n",
              "      <th></th>\n",
              "      <th>title</th>\n",
              "      <th>title length</th>\n",
              "    </tr>\n",
              "  </thead>\n",
              "  <tbody>\n",
              "    <tr>\n",
              "      <th>0</th>\n",
              "      <td>5 Steps to Build Python Native GUI Widgets for BeeWare</td>\n",
              "      <td>54</td>\n",
              "    </tr>\n",
              "    <tr>\n",
              "      <th>1</th>\n",
              "      <td>8 things that happen at the dot:  Attribute Access &amp; Descriptors</td>\n",
              "      <td>64</td>\n",
              "    </tr>\n",
              "    <tr>\n",
              "      <th>2</th>\n",
              "      <td>Account Security Patterns: How Logged-In Are you?</td>\n",
              "      <td>49</td>\n",
              "    </tr>\n",
              "    <tr>\n",
              "      <th>3</th>\n",
              "      <td>Ace Your Technical Interview Using Python</td>\n",
              "      <td>41</td>\n",
              "    </tr>\n",
              "    <tr>\n",
              "      <th>4</th>\n",
              "      <td>Advanced asyncio: Solving Real-world Production Problems</td>\n",
              "      <td>56</td>\n",
              "    </tr>\n",
              "  </tbody>\n",
              "</table>\n",
              "</div>"
            ],
            "text/plain": [
              "                                                              title  \\\n",
              "0            5 Steps to Build Python Native GUI Widgets for BeeWare   \n",
              "1  8 things that happen at the dot:  Attribute Access & Descriptors   \n",
              "2                 Account Security Patterns: How Logged-In Are you?   \n",
              "3                         Ace Your Technical Interview Using Python   \n",
              "4          Advanced asyncio: Solving Real-world Production Problems   \n",
              "\n",
              "   title length  \n",
              "0            54  \n",
              "1            64  \n",
              "2            49  \n",
              "3            41  \n",
              "4            56  "
            ]
          },
          "metadata": {
            "tags": []
          },
          "execution_count": 28
        }
      ]
    },
    {
      "metadata": {
        "colab_type": "text",
        "id": "Ua74pMrGrsZR"
      },
      "cell_type": "markdown",
      "source": [
        "### title length"
      ]
    },
    {
      "metadata": {
        "colab_type": "code",
        "id": "p-Euz7tgA8Fd",
        "outputId": "9d3fb1ff-46dd-4b3b-fdea-6a1f7348cce6",
        "colab": {
          "base_uri": "https://localhost:8080/",
          "height": 221
        }
      },
      "cell_type": "code",
      "source": [
        "df['title length'] = df['title'].apply(len)\n",
        "print(df.shape)\n",
        "df.head()"
      ],
      "execution_count": 29,
      "outputs": [
        {
          "output_type": "stream",
          "text": [
            "(95, 2)\n"
          ],
          "name": "stdout"
        },
        {
          "output_type": "execute_result",
          "data": {
            "text/html": [
              "<div>\n",
              "<style scoped>\n",
              "    .dataframe tbody tr th:only-of-type {\n",
              "        vertical-align: middle;\n",
              "    }\n",
              "\n",
              "    .dataframe tbody tr th {\n",
              "        vertical-align: top;\n",
              "    }\n",
              "\n",
              "    .dataframe thead th {\n",
              "        text-align: right;\n",
              "    }\n",
              "</style>\n",
              "<table border=\"1\" class=\"dataframe\">\n",
              "  <thead>\n",
              "    <tr style=\"text-align: right;\">\n",
              "      <th></th>\n",
              "      <th>title</th>\n",
              "      <th>title length</th>\n",
              "    </tr>\n",
              "  </thead>\n",
              "  <tbody>\n",
              "    <tr>\n",
              "      <th>0</th>\n",
              "      <td>5 Steps to Build Python Native GUI Widgets for BeeWare</td>\n",
              "      <td>54</td>\n",
              "    </tr>\n",
              "    <tr>\n",
              "      <th>1</th>\n",
              "      <td>8 things that happen at the dot:  Attribute Access &amp; Descriptors</td>\n",
              "      <td>64</td>\n",
              "    </tr>\n",
              "    <tr>\n",
              "      <th>2</th>\n",
              "      <td>Account Security Patterns: How Logged-In Are you?</td>\n",
              "      <td>49</td>\n",
              "    </tr>\n",
              "    <tr>\n",
              "      <th>3</th>\n",
              "      <td>Ace Your Technical Interview Using Python</td>\n",
              "      <td>41</td>\n",
              "    </tr>\n",
              "    <tr>\n",
              "      <th>4</th>\n",
              "      <td>Advanced asyncio: Solving Real-world Production Problems</td>\n",
              "      <td>56</td>\n",
              "    </tr>\n",
              "  </tbody>\n",
              "</table>\n",
              "</div>"
            ],
            "text/plain": [
              "                                                              title  \\\n",
              "0            5 Steps to Build Python Native GUI Widgets for BeeWare   \n",
              "1  8 things that happen at the dot:  Attribute Access & Descriptors   \n",
              "2                 Account Security Patterns: How Logged-In Are you?   \n",
              "3                         Ace Your Technical Interview Using Python   \n",
              "4          Advanced asyncio: Solving Real-world Production Problems   \n",
              "\n",
              "   title length  \n",
              "0            54  \n",
              "1            64  \n",
              "2            49  \n",
              "3            41  \n",
              "4            56  "
            ]
          },
          "metadata": {
            "tags": []
          },
          "execution_count": 29
        }
      ]
    },
    {
      "metadata": {
        "id": "JUdLmKLucizI",
        "colab_type": "code",
        "outputId": "ada67f49-3d28-429f-c7b1-e39b3fb326bb",
        "colab": {
          "base_uri": "https://localhost:8080/",
          "height": 170
        }
      },
      "cell_type": "code",
      "source": [
        "df.loc[df['title length']>80, 'title length']"
      ],
      "execution_count": 30,
      "outputs": [
        {
          "output_type": "execute_result",
          "data": {
            "text/plain": [
              "30    89\n",
              "38    81\n",
              "43    82\n",
              "48    85\n",
              "50    82\n",
              "60    95\n",
              "66    82\n",
              "84    90\n",
              "Name: title length, dtype: int64"
            ]
          },
          "metadata": {
            "tags": []
          },
          "execution_count": 30
        }
      ]
    },
    {
      "metadata": {
        "colab_type": "text",
        "id": "OgsKArXPrz5n"
      },
      "cell_type": "markdown",
      "source": [
        "### long title"
      ]
    },
    {
      "metadata": {
        "colab_type": "code",
        "id": "b_WCRvvKA-IP",
        "outputId": "72bb6ca6-9d8d-4328-b375-2a05f40fabe5",
        "colab": {
          "base_uri": "https://localhost:8080/",
          "height": 686
        }
      },
      "cell_type": "code",
      "source": [
        "df['long title'] = df['title'].str.len()>80\n",
        "print(df.shape)\n",
        "df.head(20)"
      ],
      "execution_count": 31,
      "outputs": [
        {
          "output_type": "stream",
          "text": [
            "(95, 3)\n"
          ],
          "name": "stdout"
        },
        {
          "output_type": "execute_result",
          "data": {
            "text/html": [
              "<div>\n",
              "<style scoped>\n",
              "    .dataframe tbody tr th:only-of-type {\n",
              "        vertical-align: middle;\n",
              "    }\n",
              "\n",
              "    .dataframe tbody tr th {\n",
              "        vertical-align: top;\n",
              "    }\n",
              "\n",
              "    .dataframe thead th {\n",
              "        text-align: right;\n",
              "    }\n",
              "</style>\n",
              "<table border=\"1\" class=\"dataframe\">\n",
              "  <thead>\n",
              "    <tr style=\"text-align: right;\">\n",
              "      <th></th>\n",
              "      <th>title</th>\n",
              "      <th>title length</th>\n",
              "      <th>long title</th>\n",
              "    </tr>\n",
              "  </thead>\n",
              "  <tbody>\n",
              "    <tr>\n",
              "      <th>0</th>\n",
              "      <td>5 Steps to Build Python Native GUI Widgets for BeeWare</td>\n",
              "      <td>54</td>\n",
              "      <td>False</td>\n",
              "    </tr>\n",
              "    <tr>\n",
              "      <th>1</th>\n",
              "      <td>8 things that happen at the dot:  Attribute Access &amp; Descriptors</td>\n",
              "      <td>64</td>\n",
              "      <td>False</td>\n",
              "    </tr>\n",
              "    <tr>\n",
              "      <th>2</th>\n",
              "      <td>Account Security Patterns: How Logged-In Are you?</td>\n",
              "      <td>49</td>\n",
              "      <td>False</td>\n",
              "    </tr>\n",
              "    <tr>\n",
              "      <th>3</th>\n",
              "      <td>Ace Your Technical Interview Using Python</td>\n",
              "      <td>41</td>\n",
              "      <td>False</td>\n",
              "    </tr>\n",
              "    <tr>\n",
              "      <th>4</th>\n",
              "      <td>Advanced asyncio: Solving Real-world Production Problems</td>\n",
              "      <td>56</td>\n",
              "      <td>False</td>\n",
              "    </tr>\n",
              "    <tr>\n",
              "      <th>5</th>\n",
              "      <td>A Guide to Software Engineering for Visually Impaired</td>\n",
              "      <td>53</td>\n",
              "      <td>False</td>\n",
              "    </tr>\n",
              "    <tr>\n",
              "      <th>6</th>\n",
              "      <td>A Medieval DSL? Parsing Heraldic Blazons with Python!</td>\n",
              "      <td>53</td>\n",
              "      <td>False</td>\n",
              "    </tr>\n",
              "    <tr>\n",
              "      <th>7</th>\n",
              "      <td>A New Era in Python Governance</td>\n",
              "      <td>30</td>\n",
              "      <td>False</td>\n",
              "    </tr>\n",
              "    <tr>\n",
              "      <th>8</th>\n",
              "      <td>API Evolution the Right Way</td>\n",
              "      <td>27</td>\n",
              "      <td>False</td>\n",
              "    </tr>\n",
              "    <tr>\n",
              "      <th>9</th>\n",
              "      <td>A Right Stitch-up: Creating embroidery patterns with Pillow</td>\n",
              "      <td>59</td>\n",
              "      <td>False</td>\n",
              "    </tr>\n",
              "    <tr>\n",
              "      <th>10</th>\n",
              "      <td>A Snake in the Bits: Security Automation with Python</td>\n",
              "      <td>52</td>\n",
              "      <td>False</td>\n",
              "    </tr>\n",
              "    <tr>\n",
              "      <th>11</th>\n",
              "      <td>Assets in Django without losing your hair</td>\n",
              "      <td>41</td>\n",
              "      <td>False</td>\n",
              "    </tr>\n",
              "    <tr>\n",
              "      <th>12</th>\n",
              "      <td>Attracting the Invisible Contributors</td>\n",
              "      <td>37</td>\n",
              "      <td>False</td>\n",
              "    </tr>\n",
              "    <tr>\n",
              "      <th>13</th>\n",
              "      <td>Beyond Two Groups: Generalized Bayesian A/B[/C/D/E...] Testing</td>\n",
              "      <td>62</td>\n",
              "      <td>False</td>\n",
              "    </tr>\n",
              "    <tr>\n",
              "      <th>14</th>\n",
              "      <td>Break the Cycle: Three excellent Python tools to automate repetitive tasks</td>\n",
              "      <td>74</td>\n",
              "      <td>False</td>\n",
              "    </tr>\n",
              "    <tr>\n",
              "      <th>15</th>\n",
              "      <td>Building a Culture of Observability</td>\n",
              "      <td>35</td>\n",
              "      <td>False</td>\n",
              "    </tr>\n",
              "    <tr>\n",
              "      <th>16</th>\n",
              "      <td>Building an Open Source Artificial Pancreas</td>\n",
              "      <td>43</td>\n",
              "      <td>False</td>\n",
              "    </tr>\n",
              "    <tr>\n",
              "      <th>17</th>\n",
              "      <td>Building reproducible Python applications for secured environments</td>\n",
              "      <td>66</td>\n",
              "      <td>False</td>\n",
              "    </tr>\n",
              "    <tr>\n",
              "      <th>18</th>\n",
              "      <td>But, Why is the (Django) Admin Slow?</td>\n",
              "      <td>36</td>\n",
              "      <td>False</td>\n",
              "    </tr>\n",
              "    <tr>\n",
              "      <th>19</th>\n",
              "      <td>Coded Readers: Using Python to uncover surprising patterns in the books you love</td>\n",
              "      <td>80</td>\n",
              "      <td>False</td>\n",
              "    </tr>\n",
              "  </tbody>\n",
              "</table>\n",
              "</div>"
            ],
            "text/plain": [
              "                                                                               title  \\\n",
              "0                             5 Steps to Build Python Native GUI Widgets for BeeWare   \n",
              "1                   8 things that happen at the dot:  Attribute Access & Descriptors   \n",
              "2                                  Account Security Patterns: How Logged-In Are you?   \n",
              "3                                          Ace Your Technical Interview Using Python   \n",
              "4                           Advanced asyncio: Solving Real-world Production Problems   \n",
              "5                              A Guide to Software Engineering for Visually Impaired   \n",
              "6                              A Medieval DSL? Parsing Heraldic Blazons with Python!   \n",
              "7                                                     A New Era in Python Governance   \n",
              "8                                                        API Evolution the Right Way   \n",
              "9                        A Right Stitch-up: Creating embroidery patterns with Pillow   \n",
              "10                              A Snake in the Bits: Security Automation with Python   \n",
              "11                                         Assets in Django without losing your hair   \n",
              "12                                             Attracting the Invisible Contributors   \n",
              "13                    Beyond Two Groups: Generalized Bayesian A/B[/C/D/E...] Testing   \n",
              "14        Break the Cycle: Three excellent Python tools to automate repetitive tasks   \n",
              "15                                               Building a Culture of Observability   \n",
              "16                                       Building an Open Source Artificial Pancreas   \n",
              "17                Building reproducible Python applications for secured environments   \n",
              "18                                              But, Why is the (Django) Admin Slow?   \n",
              "19  Coded Readers: Using Python to uncover surprising patterns in the books you love   \n",
              "\n",
              "    title length  long title  \n",
              "0             54       False  \n",
              "1             64       False  \n",
              "2             49       False  \n",
              "3             41       False  \n",
              "4             56       False  \n",
              "5             53       False  \n",
              "6             53       False  \n",
              "7             30       False  \n",
              "8             27       False  \n",
              "9             59       False  \n",
              "10            52       False  \n",
              "11            41       False  \n",
              "12            37       False  \n",
              "13            62       False  \n",
              "14            74       False  \n",
              "15            35       False  \n",
              "16            43       False  \n",
              "17            66       False  \n",
              "18            36       False  \n",
              "19            80       False  "
            ]
          },
          "metadata": {
            "tags": []
          },
          "execution_count": 31
        }
      ]
    },
    {
      "metadata": {
        "id": "uRg7i48QcvKm",
        "colab_type": "code",
        "outputId": "b805c040-09b3-4f0f-ba77-01aa4b154141",
        "colab": {
          "base_uri": "https://localhost:8080/",
          "height": 297
        }
      },
      "cell_type": "code",
      "source": [
        "df[df['long title']==True]"
      ],
      "execution_count": 32,
      "outputs": [
        {
          "output_type": "execute_result",
          "data": {
            "text/html": [
              "<div>\n",
              "<style scoped>\n",
              "    .dataframe tbody tr th:only-of-type {\n",
              "        vertical-align: middle;\n",
              "    }\n",
              "\n",
              "    .dataframe tbody tr th {\n",
              "        vertical-align: top;\n",
              "    }\n",
              "\n",
              "    .dataframe thead th {\n",
              "        text-align: right;\n",
              "    }\n",
              "</style>\n",
              "<table border=\"1\" class=\"dataframe\">\n",
              "  <thead>\n",
              "    <tr style=\"text-align: right;\">\n",
              "      <th></th>\n",
              "      <th>title</th>\n",
              "      <th>title length</th>\n",
              "      <th>long title</th>\n",
              "    </tr>\n",
              "  </thead>\n",
              "  <tbody>\n",
              "    <tr>\n",
              "      <th>30</th>\n",
              "      <td>¡Escuincla babosa!: Creating a telenovela script in three Python deep learning frameworks</td>\n",
              "      <td>89</td>\n",
              "      <td>True</td>\n",
              "    </tr>\n",
              "    <tr>\n",
              "      <th>38</th>\n",
              "      <td>Getting started with Deep Learning: Using Keras &amp; Numpy to detect voice disorders</td>\n",
              "      <td>81</td>\n",
              "      <td>True</td>\n",
              "    </tr>\n",
              "    <tr>\n",
              "      <th>43</th>\n",
              "      <td>How to engage Python contributors in the long term? Tech is easy, people are hard.</td>\n",
              "      <td>82</td>\n",
              "      <td>True</td>\n",
              "    </tr>\n",
              "    <tr>\n",
              "      <th>48</th>\n",
              "      <td>Lessons learned from building a community of Python users among thousands of analysts</td>\n",
              "      <td>85</td>\n",
              "      <td>True</td>\n",
              "    </tr>\n",
              "    <tr>\n",
              "      <th>50</th>\n",
              "      <td>Life Is Better Painted Black, or: How to Stop Worrying and Embrace Auto-Formatting</td>\n",
              "      <td>82</td>\n",
              "      <td>True</td>\n",
              "    </tr>\n",
              "    <tr>\n",
              "      <th>60</th>\n",
              "      <td>One Engineer, an API, and an MVP: Or, how I spent one hour improving hiring data at my company.</td>\n",
              "      <td>95</td>\n",
              "      <td>True</td>\n",
              "    </tr>\n",
              "    <tr>\n",
              "      <th>66</th>\n",
              "      <td>Put down the deep learning: When not to use neural networks and what to do instead</td>\n",
              "      <td>82</td>\n",
              "      <td>True</td>\n",
              "    </tr>\n",
              "    <tr>\n",
              "      <th>84</th>\n",
              "      <td>Thinking Inside the Box: How Python Helped Us Adapt to An Existing Data Ingestion Pipeline</td>\n",
              "      <td>90</td>\n",
              "      <td>True</td>\n",
              "    </tr>\n",
              "  </tbody>\n",
              "</table>\n",
              "</div>"
            ],
            "text/plain": [
              "                                                                                              title  \\\n",
              "30        ¡Escuincla babosa!: Creating a telenovela script in three Python deep learning frameworks   \n",
              "38                Getting started with Deep Learning: Using Keras & Numpy to detect voice disorders   \n",
              "43               How to engage Python contributors in the long term? Tech is easy, people are hard.   \n",
              "48            Lessons learned from building a community of Python users among thousands of analysts   \n",
              "50               Life Is Better Painted Black, or: How to Stop Worrying and Embrace Auto-Formatting   \n",
              "60  One Engineer, an API, and an MVP: Or, how I spent one hour improving hiring data at my company.   \n",
              "66               Put down the deep learning: When not to use neural networks and what to do instead   \n",
              "84       Thinking Inside the Box: How Python Helped Us Adapt to An Existing Data Ingestion Pipeline   \n",
              "\n",
              "    title length  long title  \n",
              "30            89        True  \n",
              "38            81        True  \n",
              "43            82        True  \n",
              "48            85        True  \n",
              "50            82        True  \n",
              "60            95        True  \n",
              "66            82        True  \n",
              "84            90        True  "
            ]
          },
          "metadata": {
            "tags": []
          },
          "execution_count": 32
        }
      ]
    },
    {
      "metadata": {
        "id": "dS03AM4bcv93",
        "colab_type": "code",
        "outputId": "5389954a-304f-4977-9fd9-ecc83c926993",
        "colab": {
          "base_uri": "https://localhost:8080/",
          "height": 204
        }
      },
      "cell_type": "code",
      "source": [
        "### ~ (Tilda) Operator will flip what ever comes after. In this case, its calling all the times that the Boolean is false.\n",
        "\n",
        "\n",
        "df[~df['long title']].head()"
      ],
      "execution_count": 33,
      "outputs": [
        {
          "output_type": "execute_result",
          "data": {
            "text/html": [
              "<div>\n",
              "<style scoped>\n",
              "    .dataframe tbody tr th:only-of-type {\n",
              "        vertical-align: middle;\n",
              "    }\n",
              "\n",
              "    .dataframe tbody tr th {\n",
              "        vertical-align: top;\n",
              "    }\n",
              "\n",
              "    .dataframe thead th {\n",
              "        text-align: right;\n",
              "    }\n",
              "</style>\n",
              "<table border=\"1\" class=\"dataframe\">\n",
              "  <thead>\n",
              "    <tr style=\"text-align: right;\">\n",
              "      <th></th>\n",
              "      <th>title</th>\n",
              "      <th>title length</th>\n",
              "      <th>long title</th>\n",
              "    </tr>\n",
              "  </thead>\n",
              "  <tbody>\n",
              "    <tr>\n",
              "      <th>0</th>\n",
              "      <td>5 Steps to Build Python Native GUI Widgets for BeeWare</td>\n",
              "      <td>54</td>\n",
              "      <td>False</td>\n",
              "    </tr>\n",
              "    <tr>\n",
              "      <th>1</th>\n",
              "      <td>8 things that happen at the dot:  Attribute Access &amp; Descriptors</td>\n",
              "      <td>64</td>\n",
              "      <td>False</td>\n",
              "    </tr>\n",
              "    <tr>\n",
              "      <th>2</th>\n",
              "      <td>Account Security Patterns: How Logged-In Are you?</td>\n",
              "      <td>49</td>\n",
              "      <td>False</td>\n",
              "    </tr>\n",
              "    <tr>\n",
              "      <th>3</th>\n",
              "      <td>Ace Your Technical Interview Using Python</td>\n",
              "      <td>41</td>\n",
              "      <td>False</td>\n",
              "    </tr>\n",
              "    <tr>\n",
              "      <th>4</th>\n",
              "      <td>Advanced asyncio: Solving Real-world Production Problems</td>\n",
              "      <td>56</td>\n",
              "      <td>False</td>\n",
              "    </tr>\n",
              "  </tbody>\n",
              "</table>\n",
              "</div>"
            ],
            "text/plain": [
              "                                                              title  \\\n",
              "0            5 Steps to Build Python Native GUI Widgets for BeeWare   \n",
              "1  8 things that happen at the dot:  Attribute Access & Descriptors   \n",
              "2                 Account Security Patterns: How Logged-In Are you?   \n",
              "3                         Ace Your Technical Interview Using Python   \n",
              "4          Advanced asyncio: Solving Real-world Production Problems   \n",
              "\n",
              "   title length  long title  \n",
              "0            54       False  \n",
              "1            64       False  \n",
              "2            49       False  \n",
              "3            41       False  \n",
              "4            56       False  "
            ]
          },
          "metadata": {
            "tags": []
          },
          "execution_count": 33
        }
      ]
    },
    {
      "metadata": {
        "colab_type": "text",
        "id": "TonCXYPesUsT"
      },
      "cell_type": "markdown",
      "source": [
        "### first letter"
      ]
    },
    {
      "metadata": {
        "colab_type": "code",
        "id": "fhO4aABpBBgA",
        "outputId": "412ccc97-0864-409a-af08-a8e4f8047e8f",
        "colab": {
          "base_uri": "https://localhost:8080/",
          "height": 221
        }
      },
      "cell_type": "code",
      "source": [
        "df['first letter'] = df['title'].str[0]\n",
        "print(df.shape)\n",
        "df.head()"
      ],
      "execution_count": 34,
      "outputs": [
        {
          "output_type": "stream",
          "text": [
            "(95, 4)\n"
          ],
          "name": "stdout"
        },
        {
          "output_type": "execute_result",
          "data": {
            "text/html": [
              "<div>\n",
              "<style scoped>\n",
              "    .dataframe tbody tr th:only-of-type {\n",
              "        vertical-align: middle;\n",
              "    }\n",
              "\n",
              "    .dataframe tbody tr th {\n",
              "        vertical-align: top;\n",
              "    }\n",
              "\n",
              "    .dataframe thead th {\n",
              "        text-align: right;\n",
              "    }\n",
              "</style>\n",
              "<table border=\"1\" class=\"dataframe\">\n",
              "  <thead>\n",
              "    <tr style=\"text-align: right;\">\n",
              "      <th></th>\n",
              "      <th>title</th>\n",
              "      <th>title length</th>\n",
              "      <th>long title</th>\n",
              "      <th>first letter</th>\n",
              "    </tr>\n",
              "  </thead>\n",
              "  <tbody>\n",
              "    <tr>\n",
              "      <th>0</th>\n",
              "      <td>5 Steps to Build Python Native GUI Widgets for BeeWare</td>\n",
              "      <td>54</td>\n",
              "      <td>False</td>\n",
              "      <td>5</td>\n",
              "    </tr>\n",
              "    <tr>\n",
              "      <th>1</th>\n",
              "      <td>8 things that happen at the dot:  Attribute Access &amp; Descriptors</td>\n",
              "      <td>64</td>\n",
              "      <td>False</td>\n",
              "      <td>8</td>\n",
              "    </tr>\n",
              "    <tr>\n",
              "      <th>2</th>\n",
              "      <td>Account Security Patterns: How Logged-In Are you?</td>\n",
              "      <td>49</td>\n",
              "      <td>False</td>\n",
              "      <td>A</td>\n",
              "    </tr>\n",
              "    <tr>\n",
              "      <th>3</th>\n",
              "      <td>Ace Your Technical Interview Using Python</td>\n",
              "      <td>41</td>\n",
              "      <td>False</td>\n",
              "      <td>A</td>\n",
              "    </tr>\n",
              "    <tr>\n",
              "      <th>4</th>\n",
              "      <td>Advanced asyncio: Solving Real-world Production Problems</td>\n",
              "      <td>56</td>\n",
              "      <td>False</td>\n",
              "      <td>A</td>\n",
              "    </tr>\n",
              "  </tbody>\n",
              "</table>\n",
              "</div>"
            ],
            "text/plain": [
              "                                                              title  \\\n",
              "0            5 Steps to Build Python Native GUI Widgets for BeeWare   \n",
              "1  8 things that happen at the dot:  Attribute Access & Descriptors   \n",
              "2                 Account Security Patterns: How Logged-In Are you?   \n",
              "3                         Ace Your Technical Interview Using Python   \n",
              "4          Advanced asyncio: Solving Real-world Production Problems   \n",
              "\n",
              "   title length  long title first letter  \n",
              "0            54       False            5  \n",
              "1            64       False            8  \n",
              "2            49       False            A  \n",
              "3            41       False            A  \n",
              "4            56       False            A  "
            ]
          },
          "metadata": {
            "tags": []
          },
          "execution_count": 34
        }
      ]
    },
    {
      "metadata": {
        "id": "IHPRYmUocsJY",
        "colab_type": "code",
        "outputId": "3c4d96be-071b-4cdd-8c0d-e7bc29f0a686",
        "colab": {
          "base_uri": "https://localhost:8080/",
          "height": 297
        }
      },
      "cell_type": "code",
      "source": [
        "df[ df['first letter']=='P']"
      ],
      "execution_count": 35,
      "outputs": [
        {
          "output_type": "execute_result",
          "data": {
            "text/html": [
              "<div>\n",
              "<style scoped>\n",
              "    .dataframe tbody tr th:only-of-type {\n",
              "        vertical-align: middle;\n",
              "    }\n",
              "\n",
              "    .dataframe tbody tr th {\n",
              "        vertical-align: top;\n",
              "    }\n",
              "\n",
              "    .dataframe thead th {\n",
              "        text-align: right;\n",
              "    }\n",
              "</style>\n",
              "<table border=\"1\" class=\"dataframe\">\n",
              "  <thead>\n",
              "    <tr style=\"text-align: right;\">\n",
              "      <th></th>\n",
              "      <th>title</th>\n",
              "      <th>title length</th>\n",
              "      <th>long title</th>\n",
              "      <th>first letter</th>\n",
              "    </tr>\n",
              "  </thead>\n",
              "  <tbody>\n",
              "    <tr>\n",
              "      <th>61</th>\n",
              "      <td>Plan your next eclipse viewing with Jupyter and geopandas</td>\n",
              "      <td>57</td>\n",
              "      <td>False</td>\n",
              "      <td>P</td>\n",
              "    </tr>\n",
              "    <tr>\n",
              "      <th>62</th>\n",
              "      <td>Plugins: Adding Flexibility to Your Apps</td>\n",
              "      <td>40</td>\n",
              "      <td>False</td>\n",
              "      <td>P</td>\n",
              "    </tr>\n",
              "    <tr>\n",
              "      <th>63</th>\n",
              "      <td>Plug-n-Stream Player Piano: Signal Processing With Python</td>\n",
              "      <td>57</td>\n",
              "      <td>False</td>\n",
              "      <td>P</td>\n",
              "    </tr>\n",
              "    <tr>\n",
              "      <th>64</th>\n",
              "      <td>Practical decorators</td>\n",
              "      <td>20</td>\n",
              "      <td>False</td>\n",
              "      <td>P</td>\n",
              "    </tr>\n",
              "    <tr>\n",
              "      <th>65</th>\n",
              "      <td>Programmatic Notebooks with papermill</td>\n",
              "      <td>37</td>\n",
              "      <td>False</td>\n",
              "      <td>P</td>\n",
              "    </tr>\n",
              "    <tr>\n",
              "      <th>66</th>\n",
              "      <td>Put down the deep learning: When not to use neural networks and what to do instead</td>\n",
              "      <td>82</td>\n",
              "      <td>True</td>\n",
              "      <td>P</td>\n",
              "    </tr>\n",
              "    <tr>\n",
              "      <th>67</th>\n",
              "      <td>Python on Windows is Okay, Actually</td>\n",
              "      <td>35</td>\n",
              "      <td>False</td>\n",
              "      <td>P</td>\n",
              "    </tr>\n",
              "    <tr>\n",
              "      <th>68</th>\n",
              "      <td>Python Security Tools</td>\n",
              "      <td>21</td>\n",
              "      <td>False</td>\n",
              "      <td>P</td>\n",
              "    </tr>\n",
              "  </tbody>\n",
              "</table>\n",
              "</div>"
            ],
            "text/plain": [
              "                                                                                 title  \\\n",
              "61                           Plan your next eclipse viewing with Jupyter and geopandas   \n",
              "62                                            Plugins: Adding Flexibility to Your Apps   \n",
              "63                           Plug-n-Stream Player Piano: Signal Processing With Python   \n",
              "64                                                                Practical decorators   \n",
              "65                                               Programmatic Notebooks with papermill   \n",
              "66  Put down the deep learning: When not to use neural networks and what to do instead   \n",
              "67                                                 Python on Windows is Okay, Actually   \n",
              "68                                                               Python Security Tools   \n",
              "\n",
              "    title length  long title first letter  \n",
              "61            57       False            P  \n",
              "62            40       False            P  \n",
              "63            57       False            P  \n",
              "64            20       False            P  \n",
              "65            37       False            P  \n",
              "66            82        True            P  \n",
              "67            35       False            P  \n",
              "68            21       False            P  "
            ]
          },
          "metadata": {
            "tags": []
          },
          "execution_count": 35
        }
      ]
    },
    {
      "metadata": {
        "id": "6n8DTYQDc5k5",
        "colab_type": "code",
        "outputId": "e39c5449-3935-4ed7-95bd-3dfd131c6a68",
        "colab": {
          "base_uri": "https://localhost:8080/",
          "height": 1071
        }
      },
      "cell_type": "code",
      "source": [
        "df['title'].str.startswith('P')"
      ],
      "execution_count": 36,
      "outputs": [
        {
          "output_type": "execute_result",
          "data": {
            "text/plain": [
              "0     False\n",
              "1     False\n",
              "2     False\n",
              "3     False\n",
              "4     False\n",
              "5     False\n",
              "6     False\n",
              "7     False\n",
              "8     False\n",
              "9     False\n",
              "10    False\n",
              "11    False\n",
              "12    False\n",
              "13    False\n",
              "14    False\n",
              "15    False\n",
              "16    False\n",
              "17    False\n",
              "18    False\n",
              "19    False\n",
              "20    False\n",
              "21    False\n",
              "22    False\n",
              "23    False\n",
              "24    False\n",
              "25    False\n",
              "26    False\n",
              "27    False\n",
              "28    False\n",
              "29    False\n",
              "      ...  \n",
              "65     True\n",
              "66     True\n",
              "67     True\n",
              "68     True\n",
              "69    False\n",
              "70    False\n",
              "71    False\n",
              "72    False\n",
              "73    False\n",
              "74    False\n",
              "75    False\n",
              "76    False\n",
              "77    False\n",
              "78    False\n",
              "79    False\n",
              "80    False\n",
              "81    False\n",
              "82    False\n",
              "83    False\n",
              "84    False\n",
              "85    False\n",
              "86    False\n",
              "87    False\n",
              "88    False\n",
              "89    False\n",
              "90    False\n",
              "91    False\n",
              "92    False\n",
              "93    False\n",
              "94    False\n",
              "Name: title, Length: 95, dtype: bool"
            ]
          },
          "metadata": {
            "tags": []
          },
          "execution_count": 36
        }
      ]
    },
    {
      "metadata": {
        "colab_type": "text",
        "id": "Etz1XeLKs6DL"
      },
      "cell_type": "markdown",
      "source": [
        "### word count\n",
        "\n",
        "Using [`textstat`](https://github.com/shivam5992/textstat)"
      ]
    },
    {
      "metadata": {
        "colab_type": "code",
        "id": "GVIkRWchs4zR",
        "outputId": "d1ff937c-f761-4892-9950-6070d8938045",
        "colab": {
          "base_uri": "https://localhost:8080/",
          "height": 68
        }
      },
      "cell_type": "code",
      "source": [
        "!pip install textstat"
      ],
      "execution_count": 37,
      "outputs": [
        {
          "output_type": "stream",
          "text": [
            "Requirement already satisfied: textstat in /usr/local/lib/python3.6/dist-packages (0.5.5)\n",
            "Requirement already satisfied: repoze.lru in /usr/local/lib/python3.6/dist-packages (from textstat) (0.7)\n",
            "Requirement already satisfied: pyphen in /usr/local/lib/python3.6/dist-packages (from textstat) (0.9.5)\n"
          ],
          "name": "stdout"
        }
      ]
    },
    {
      "metadata": {
        "colab_type": "code",
        "id": "mY_M_MuaBFrF",
        "colab": {}
      },
      "cell_type": "code",
      "source": [
        "import textstat"
      ],
      "execution_count": 0,
      "outputs": []
    },
    {
      "metadata": {
        "id": "fPrwfQcBc9bN",
        "colab_type": "code",
        "outputId": "e972533f-eb18-450d-a92a-8b1b108fa5f1",
        "colab": {
          "base_uri": "https://localhost:8080/",
          "height": 221
        }
      },
      "cell_type": "code",
      "source": [
        "df['title word count'] = df['title'].apply(textstat.lexicon_count)\n",
        "print(df.shape)\n",
        "df.head()"
      ],
      "execution_count": 39,
      "outputs": [
        {
          "output_type": "stream",
          "text": [
            "(95, 5)\n"
          ],
          "name": "stdout"
        },
        {
          "output_type": "execute_result",
          "data": {
            "text/html": [
              "<div>\n",
              "<style scoped>\n",
              "    .dataframe tbody tr th:only-of-type {\n",
              "        vertical-align: middle;\n",
              "    }\n",
              "\n",
              "    .dataframe tbody tr th {\n",
              "        vertical-align: top;\n",
              "    }\n",
              "\n",
              "    .dataframe thead th {\n",
              "        text-align: right;\n",
              "    }\n",
              "</style>\n",
              "<table border=\"1\" class=\"dataframe\">\n",
              "  <thead>\n",
              "    <tr style=\"text-align: right;\">\n",
              "      <th></th>\n",
              "      <th>title</th>\n",
              "      <th>title length</th>\n",
              "      <th>long title</th>\n",
              "      <th>first letter</th>\n",
              "      <th>title word count</th>\n",
              "    </tr>\n",
              "  </thead>\n",
              "  <tbody>\n",
              "    <tr>\n",
              "      <th>0</th>\n",
              "      <td>5 Steps to Build Python Native GUI Widgets for BeeWare</td>\n",
              "      <td>54</td>\n",
              "      <td>False</td>\n",
              "      <td>5</td>\n",
              "      <td>10</td>\n",
              "    </tr>\n",
              "    <tr>\n",
              "      <th>1</th>\n",
              "      <td>8 things that happen at the dot:  Attribute Access &amp; Descriptors</td>\n",
              "      <td>64</td>\n",
              "      <td>False</td>\n",
              "      <td>8</td>\n",
              "      <td>10</td>\n",
              "    </tr>\n",
              "    <tr>\n",
              "      <th>2</th>\n",
              "      <td>Account Security Patterns: How Logged-In Are you?</td>\n",
              "      <td>49</td>\n",
              "      <td>False</td>\n",
              "      <td>A</td>\n",
              "      <td>7</td>\n",
              "    </tr>\n",
              "    <tr>\n",
              "      <th>3</th>\n",
              "      <td>Ace Your Technical Interview Using Python</td>\n",
              "      <td>41</td>\n",
              "      <td>False</td>\n",
              "      <td>A</td>\n",
              "      <td>6</td>\n",
              "    </tr>\n",
              "    <tr>\n",
              "      <th>4</th>\n",
              "      <td>Advanced asyncio: Solving Real-world Production Problems</td>\n",
              "      <td>56</td>\n",
              "      <td>False</td>\n",
              "      <td>A</td>\n",
              "      <td>6</td>\n",
              "    </tr>\n",
              "  </tbody>\n",
              "</table>\n",
              "</div>"
            ],
            "text/plain": [
              "                                                              title  \\\n",
              "0            5 Steps to Build Python Native GUI Widgets for BeeWare   \n",
              "1  8 things that happen at the dot:  Attribute Access & Descriptors   \n",
              "2                 Account Security Patterns: How Logged-In Are you?   \n",
              "3                         Ace Your Technical Interview Using Python   \n",
              "4          Advanced asyncio: Solving Real-world Production Problems   \n",
              "\n",
              "   title length  long title first letter  title word count  \n",
              "0            54       False            5                10  \n",
              "1            64       False            8                10  \n",
              "2            49       False            A                 7  \n",
              "3            41       False            A                 6  \n",
              "4            56       False            A                 6  "
            ]
          },
          "metadata": {
            "tags": []
          },
          "execution_count": 39
        }
      ]
    },
    {
      "metadata": {
        "id": "aik9Ry9vdBcP",
        "colab_type": "code",
        "outputId": "1138acd6-c96e-4632-df8d-b2df06c19394",
        "colab": {
          "base_uri": "https://localhost:8080/",
          "height": 142
        }
      },
      "cell_type": "code",
      "source": [
        "df[df['title word count']<=3]"
      ],
      "execution_count": 40,
      "outputs": [
        {
          "output_type": "execute_result",
          "data": {
            "text/html": [
              "<div>\n",
              "<style scoped>\n",
              "    .dataframe tbody tr th:only-of-type {\n",
              "        vertical-align: middle;\n",
              "    }\n",
              "\n",
              "    .dataframe tbody tr th {\n",
              "        vertical-align: top;\n",
              "    }\n",
              "\n",
              "    .dataframe thead th {\n",
              "        text-align: right;\n",
              "    }\n",
              "</style>\n",
              "<table border=\"1\" class=\"dataframe\">\n",
              "  <thead>\n",
              "    <tr style=\"text-align: right;\">\n",
              "      <th></th>\n",
              "      <th>title</th>\n",
              "      <th>title length</th>\n",
              "      <th>long title</th>\n",
              "      <th>first letter</th>\n",
              "      <th>title word count</th>\n",
              "    </tr>\n",
              "  </thead>\n",
              "  <tbody>\n",
              "    <tr>\n",
              "      <th>56</th>\n",
              "      <td>Measuring Model Fairness</td>\n",
              "      <td>24</td>\n",
              "      <td>False</td>\n",
              "      <td>M</td>\n",
              "      <td>3</td>\n",
              "    </tr>\n",
              "    <tr>\n",
              "      <th>64</th>\n",
              "      <td>Practical decorators</td>\n",
              "      <td>20</td>\n",
              "      <td>False</td>\n",
              "      <td>P</td>\n",
              "      <td>2</td>\n",
              "    </tr>\n",
              "    <tr>\n",
              "      <th>68</th>\n",
              "      <td>Python Security Tools</td>\n",
              "      <td>21</td>\n",
              "      <td>False</td>\n",
              "      <td>P</td>\n",
              "      <td>3</td>\n",
              "    </tr>\n",
              "  </tbody>\n",
              "</table>\n",
              "</div>"
            ],
            "text/plain": [
              "                       title  title length  long title first letter  \\\n",
              "56  Measuring Model Fairness            24       False            M   \n",
              "64      Practical decorators            20       False            P   \n",
              "68     Python Security Tools            21       False            P   \n",
              "\n",
              "    title word count  \n",
              "56                 3  \n",
              "64                 2  \n",
              "68                 3  "
            ]
          },
          "metadata": {
            "tags": []
          },
          "execution_count": 40
        }
      ]
    },
    {
      "metadata": {
        "colab_type": "text",
        "id": "UN_7FABhwDqc"
      },
      "cell_type": "markdown",
      "source": [
        "## Rename column\n",
        "\n",
        "`title length` --> `title character count`\n",
        "\n",
        "pandas documentation: [rename](https://pandas.pydata.org/pandas-docs/stable/generated/pandas.DataFrame.rename.html)"
      ]
    },
    {
      "metadata": {
        "colab_type": "code",
        "id": "jvTif7sBBMpN",
        "outputId": "1cac6598-6500-47ef-cb8f-950a7c10e32b",
        "colab": {
          "base_uri": "https://localhost:8080/",
          "height": 204
        }
      },
      "cell_type": "code",
      "source": [
        "df = df.rename(columns = {'title length': 'title character count'})\n",
        "df.head()"
      ],
      "execution_count": 41,
      "outputs": [
        {
          "output_type": "execute_result",
          "data": {
            "text/html": [
              "<div>\n",
              "<style scoped>\n",
              "    .dataframe tbody tr th:only-of-type {\n",
              "        vertical-align: middle;\n",
              "    }\n",
              "\n",
              "    .dataframe tbody tr th {\n",
              "        vertical-align: top;\n",
              "    }\n",
              "\n",
              "    .dataframe thead th {\n",
              "        text-align: right;\n",
              "    }\n",
              "</style>\n",
              "<table border=\"1\" class=\"dataframe\">\n",
              "  <thead>\n",
              "    <tr style=\"text-align: right;\">\n",
              "      <th></th>\n",
              "      <th>title</th>\n",
              "      <th>title character count</th>\n",
              "      <th>long title</th>\n",
              "      <th>first letter</th>\n",
              "      <th>title word count</th>\n",
              "    </tr>\n",
              "  </thead>\n",
              "  <tbody>\n",
              "    <tr>\n",
              "      <th>0</th>\n",
              "      <td>5 Steps to Build Python Native GUI Widgets for BeeWare</td>\n",
              "      <td>54</td>\n",
              "      <td>False</td>\n",
              "      <td>5</td>\n",
              "      <td>10</td>\n",
              "    </tr>\n",
              "    <tr>\n",
              "      <th>1</th>\n",
              "      <td>8 things that happen at the dot:  Attribute Access &amp; Descriptors</td>\n",
              "      <td>64</td>\n",
              "      <td>False</td>\n",
              "      <td>8</td>\n",
              "      <td>10</td>\n",
              "    </tr>\n",
              "    <tr>\n",
              "      <th>2</th>\n",
              "      <td>Account Security Patterns: How Logged-In Are you?</td>\n",
              "      <td>49</td>\n",
              "      <td>False</td>\n",
              "      <td>A</td>\n",
              "      <td>7</td>\n",
              "    </tr>\n",
              "    <tr>\n",
              "      <th>3</th>\n",
              "      <td>Ace Your Technical Interview Using Python</td>\n",
              "      <td>41</td>\n",
              "      <td>False</td>\n",
              "      <td>A</td>\n",
              "      <td>6</td>\n",
              "    </tr>\n",
              "    <tr>\n",
              "      <th>4</th>\n",
              "      <td>Advanced asyncio: Solving Real-world Production Problems</td>\n",
              "      <td>56</td>\n",
              "      <td>False</td>\n",
              "      <td>A</td>\n",
              "      <td>6</td>\n",
              "    </tr>\n",
              "  </tbody>\n",
              "</table>\n",
              "</div>"
            ],
            "text/plain": [
              "                                                              title  \\\n",
              "0            5 Steps to Build Python Native GUI Widgets for BeeWare   \n",
              "1  8 things that happen at the dot:  Attribute Access & Descriptors   \n",
              "2                 Account Security Patterns: How Logged-In Are you?   \n",
              "3                         Ace Your Technical Interview Using Python   \n",
              "4          Advanced asyncio: Solving Real-world Production Problems   \n",
              "\n",
              "   title character count  long title first letter  title word count  \n",
              "0                     54       False            5                10  \n",
              "1                     64       False            8                10  \n",
              "2                     49       False            A                 7  \n",
              "3                     41       False            A                 6  \n",
              "4                     56       False            A                 6  "
            ]
          },
          "metadata": {
            "tags": []
          },
          "execution_count": 41
        }
      ]
    },
    {
      "metadata": {
        "colab_type": "text",
        "id": "ca2pDtytr5tR"
      },
      "cell_type": "markdown",
      "source": [
        "## Analyze the dataframe"
      ]
    },
    {
      "metadata": {
        "colab_type": "text",
        "id": "AitNVDCFwWwc"
      },
      "cell_type": "markdown",
      "source": [
        "### Describe\n",
        "\n",
        "pandas documentation: [describe](https://pandas.pydata.org/pandas-docs/stable/generated/pandas.DataFrame.describe.html)"
      ]
    },
    {
      "metadata": {
        "colab_type": "code",
        "id": "yPo9RdxYBQ64",
        "outputId": "2c35e158-c0e6-4520-cfd0-7093d11483b2",
        "colab": {
          "base_uri": "https://localhost:8080/",
          "height": 297
        }
      },
      "cell_type": "code",
      "source": [
        "df.describe()"
      ],
      "execution_count": 42,
      "outputs": [
        {
          "output_type": "execute_result",
          "data": {
            "text/html": [
              "<div>\n",
              "<style scoped>\n",
              "    .dataframe tbody tr th:only-of-type {\n",
              "        vertical-align: middle;\n",
              "    }\n",
              "\n",
              "    .dataframe tbody tr th {\n",
              "        vertical-align: top;\n",
              "    }\n",
              "\n",
              "    .dataframe thead th {\n",
              "        text-align: right;\n",
              "    }\n",
              "</style>\n",
              "<table border=\"1\" class=\"dataframe\">\n",
              "  <thead>\n",
              "    <tr style=\"text-align: right;\">\n",
              "      <th></th>\n",
              "      <th>title character count</th>\n",
              "      <th>title word count</th>\n",
              "    </tr>\n",
              "  </thead>\n",
              "  <tbody>\n",
              "    <tr>\n",
              "      <th>count</th>\n",
              "      <td>95.000000</td>\n",
              "      <td>95.000000</td>\n",
              "    </tr>\n",
              "    <tr>\n",
              "      <th>mean</th>\n",
              "      <td>51.347368</td>\n",
              "      <td>7.978947</td>\n",
              "    </tr>\n",
              "    <tr>\n",
              "      <th>std</th>\n",
              "      <td>17.729509</td>\n",
              "      <td>3.218890</td>\n",
              "    </tr>\n",
              "    <tr>\n",
              "      <th>min</th>\n",
              "      <td>20.000000</td>\n",
              "      <td>2.000000</td>\n",
              "    </tr>\n",
              "    <tr>\n",
              "      <th>25%</th>\n",
              "      <td>37.000000</td>\n",
              "      <td>6.000000</td>\n",
              "    </tr>\n",
              "    <tr>\n",
              "      <th>50%</th>\n",
              "      <td>52.000000</td>\n",
              "      <td>7.000000</td>\n",
              "    </tr>\n",
              "    <tr>\n",
              "      <th>75%</th>\n",
              "      <td>62.000000</td>\n",
              "      <td>9.500000</td>\n",
              "    </tr>\n",
              "    <tr>\n",
              "      <th>max</th>\n",
              "      <td>95.000000</td>\n",
              "      <td>19.000000</td>\n",
              "    </tr>\n",
              "  </tbody>\n",
              "</table>\n",
              "</div>"
            ],
            "text/plain": [
              "       title character count  title word count\n",
              "count              95.000000         95.000000\n",
              "mean               51.347368          7.978947\n",
              "std                17.729509          3.218890\n",
              "min                20.000000          2.000000\n",
              "25%                37.000000          6.000000\n",
              "50%                52.000000          7.000000\n",
              "75%                62.000000          9.500000\n",
              "max                95.000000         19.000000"
            ]
          },
          "metadata": {
            "tags": []
          },
          "execution_count": 42
        }
      ]
    },
    {
      "metadata": {
        "id": "tkplgHUKdSeZ",
        "colab_type": "code",
        "outputId": "52c6aef9-d455-4d3b-b027-86a103606f30",
        "colab": {
          "base_uri": "https://localhost:8080/",
          "height": 390
        }
      },
      "cell_type": "code",
      "source": [
        "df.describe(include = 'all')"
      ],
      "execution_count": 43,
      "outputs": [
        {
          "output_type": "execute_result",
          "data": {
            "text/html": [
              "<div>\n",
              "<style scoped>\n",
              "    .dataframe tbody tr th:only-of-type {\n",
              "        vertical-align: middle;\n",
              "    }\n",
              "\n",
              "    .dataframe tbody tr th {\n",
              "        vertical-align: top;\n",
              "    }\n",
              "\n",
              "    .dataframe thead th {\n",
              "        text-align: right;\n",
              "    }\n",
              "</style>\n",
              "<table border=\"1\" class=\"dataframe\">\n",
              "  <thead>\n",
              "    <tr style=\"text-align: right;\">\n",
              "      <th></th>\n",
              "      <th>title</th>\n",
              "      <th>title character count</th>\n",
              "      <th>long title</th>\n",
              "      <th>first letter</th>\n",
              "      <th>title word count</th>\n",
              "    </tr>\n",
              "  </thead>\n",
              "  <tbody>\n",
              "    <tr>\n",
              "      <th>count</th>\n",
              "      <td>95</td>\n",
              "      <td>95.000000</td>\n",
              "      <td>95</td>\n",
              "      <td>95</td>\n",
              "      <td>95.000000</td>\n",
              "    </tr>\n",
              "    <tr>\n",
              "      <th>unique</th>\n",
              "      <td>95</td>\n",
              "      <td>NaN</td>\n",
              "      <td>2</td>\n",
              "      <td>22</td>\n",
              "      <td>NaN</td>\n",
              "    </tr>\n",
              "    <tr>\n",
              "      <th>top</th>\n",
              "      <td>Wily Python: Writing simpler and more maintainable Python</td>\n",
              "      <td>NaN</td>\n",
              "      <td>False</td>\n",
              "      <td>T</td>\n",
              "      <td>NaN</td>\n",
              "    </tr>\n",
              "    <tr>\n",
              "      <th>freq</th>\n",
              "      <td>1</td>\n",
              "      <td>NaN</td>\n",
              "      <td>87</td>\n",
              "      <td>12</td>\n",
              "      <td>NaN</td>\n",
              "    </tr>\n",
              "    <tr>\n",
              "      <th>mean</th>\n",
              "      <td>NaN</td>\n",
              "      <td>51.347368</td>\n",
              "      <td>NaN</td>\n",
              "      <td>NaN</td>\n",
              "      <td>7.978947</td>\n",
              "    </tr>\n",
              "    <tr>\n",
              "      <th>std</th>\n",
              "      <td>NaN</td>\n",
              "      <td>17.729509</td>\n",
              "      <td>NaN</td>\n",
              "      <td>NaN</td>\n",
              "      <td>3.218890</td>\n",
              "    </tr>\n",
              "    <tr>\n",
              "      <th>min</th>\n",
              "      <td>NaN</td>\n",
              "      <td>20.000000</td>\n",
              "      <td>NaN</td>\n",
              "      <td>NaN</td>\n",
              "      <td>2.000000</td>\n",
              "    </tr>\n",
              "    <tr>\n",
              "      <th>25%</th>\n",
              "      <td>NaN</td>\n",
              "      <td>37.000000</td>\n",
              "      <td>NaN</td>\n",
              "      <td>NaN</td>\n",
              "      <td>6.000000</td>\n",
              "    </tr>\n",
              "    <tr>\n",
              "      <th>50%</th>\n",
              "      <td>NaN</td>\n",
              "      <td>52.000000</td>\n",
              "      <td>NaN</td>\n",
              "      <td>NaN</td>\n",
              "      <td>7.000000</td>\n",
              "    </tr>\n",
              "    <tr>\n",
              "      <th>75%</th>\n",
              "      <td>NaN</td>\n",
              "      <td>62.000000</td>\n",
              "      <td>NaN</td>\n",
              "      <td>NaN</td>\n",
              "      <td>9.500000</td>\n",
              "    </tr>\n",
              "    <tr>\n",
              "      <th>max</th>\n",
              "      <td>NaN</td>\n",
              "      <td>95.000000</td>\n",
              "      <td>NaN</td>\n",
              "      <td>NaN</td>\n",
              "      <td>19.000000</td>\n",
              "    </tr>\n",
              "  </tbody>\n",
              "</table>\n",
              "</div>"
            ],
            "text/plain": [
              "                                                            title  \\\n",
              "count                                                          95   \n",
              "unique                                                         95   \n",
              "top     Wily Python: Writing simpler and more maintainable Python   \n",
              "freq                                                            1   \n",
              "mean                                                          NaN   \n",
              "std                                                           NaN   \n",
              "min                                                           NaN   \n",
              "25%                                                           NaN   \n",
              "50%                                                           NaN   \n",
              "75%                                                           NaN   \n",
              "max                                                           NaN   \n",
              "\n",
              "        title character count long title first letter  title word count  \n",
              "count               95.000000         95           95         95.000000  \n",
              "unique                    NaN          2           22               NaN  \n",
              "top                       NaN      False            T               NaN  \n",
              "freq                      NaN         87           12               NaN  \n",
              "mean                51.347368        NaN          NaN          7.978947  \n",
              "std                 17.729509        NaN          NaN          3.218890  \n",
              "min                 20.000000        NaN          NaN          2.000000  \n",
              "25%                 37.000000        NaN          NaN          6.000000  \n",
              "50%                 52.000000        NaN          NaN          7.000000  \n",
              "75%                 62.000000        NaN          NaN          9.500000  \n",
              "max                 95.000000        NaN          NaN         19.000000  "
            ]
          },
          "metadata": {
            "tags": []
          },
          "execution_count": 43
        }
      ]
    },
    {
      "metadata": {
        "id": "w68RNyzYdTZc",
        "colab_type": "code",
        "outputId": "4e80c59c-eced-4970-f8a3-4a5c79ef6f6d",
        "colab": {
          "base_uri": "https://localhost:8080/",
          "height": 173
        }
      },
      "cell_type": "code",
      "source": [
        "df.describe(exclude = 'number')"
      ],
      "execution_count": 44,
      "outputs": [
        {
          "output_type": "execute_result",
          "data": {
            "text/html": [
              "<div>\n",
              "<style scoped>\n",
              "    .dataframe tbody tr th:only-of-type {\n",
              "        vertical-align: middle;\n",
              "    }\n",
              "\n",
              "    .dataframe tbody tr th {\n",
              "        vertical-align: top;\n",
              "    }\n",
              "\n",
              "    .dataframe thead th {\n",
              "        text-align: right;\n",
              "    }\n",
              "</style>\n",
              "<table border=\"1\" class=\"dataframe\">\n",
              "  <thead>\n",
              "    <tr style=\"text-align: right;\">\n",
              "      <th></th>\n",
              "      <th>title</th>\n",
              "      <th>long title</th>\n",
              "      <th>first letter</th>\n",
              "    </tr>\n",
              "  </thead>\n",
              "  <tbody>\n",
              "    <tr>\n",
              "      <th>count</th>\n",
              "      <td>95</td>\n",
              "      <td>95</td>\n",
              "      <td>95</td>\n",
              "    </tr>\n",
              "    <tr>\n",
              "      <th>unique</th>\n",
              "      <td>95</td>\n",
              "      <td>2</td>\n",
              "      <td>22</td>\n",
              "    </tr>\n",
              "    <tr>\n",
              "      <th>top</th>\n",
              "      <td>Wily Python: Writing simpler and more maintainable Python</td>\n",
              "      <td>False</td>\n",
              "      <td>T</td>\n",
              "    </tr>\n",
              "    <tr>\n",
              "      <th>freq</th>\n",
              "      <td>1</td>\n",
              "      <td>87</td>\n",
              "      <td>12</td>\n",
              "    </tr>\n",
              "  </tbody>\n",
              "</table>\n",
              "</div>"
            ],
            "text/plain": [
              "                                                            title long title  \\\n",
              "count                                                          95         95   \n",
              "unique                                                         95          2   \n",
              "top     Wily Python: Writing simpler and more maintainable Python      False   \n",
              "freq                                                            1         87   \n",
              "\n",
              "       first letter  \n",
              "count            95  \n",
              "unique           22  \n",
              "top               T  \n",
              "freq             12  "
            ]
          },
          "metadata": {
            "tags": []
          },
          "execution_count": 44
        }
      ]
    },
    {
      "metadata": {
        "colab_type": "text",
        "id": "T0lc_o-xyjZU"
      },
      "cell_type": "markdown",
      "source": [
        "### Sort values\n",
        "\n",
        "pandas documentation: [sort_values](https://pandas.pydata.org/pandas-docs/stable/generated/pandas.DataFrame.sort_values.html)"
      ]
    },
    {
      "metadata": {
        "colab_type": "text",
        "id": "kxE2swJ9-cG_"
      },
      "cell_type": "markdown",
      "source": [
        "Five shortest titles, by character count"
      ]
    },
    {
      "metadata": {
        "colab_type": "code",
        "id": "7t8DlpLhBVQa",
        "outputId": "64c286d1-a2d7-4979-98fe-edb33cdc6f0b",
        "colab": {
          "base_uri": "https://localhost:8080/",
          "height": 119
        }
      },
      "cell_type": "code",
      "source": [
        "df.sort_values(by='title character count').head()['title']"
      ],
      "execution_count": 45,
      "outputs": [
        {
          "output_type": "execute_result",
          "data": {
            "text/plain": [
              "64        Practical decorators\n",
              "68       Python Security Tools\n",
              "89     Type hinting (and mypy)\n",
              "82     The Zen of Python Teams\n",
              "56    Measuring Model Fairness\n",
              "Name: title, dtype: object"
            ]
          },
          "metadata": {
            "tags": []
          },
          "execution_count": 45
        }
      ]
    },
    {
      "metadata": {
        "colab_type": "text",
        "id": "NOEH4Ef5-kvo"
      },
      "cell_type": "markdown",
      "source": [
        "Titles sorted reverse alphabetically"
      ]
    },
    {
      "metadata": {
        "colab_type": "code",
        "id": "WkymeWDjBV8X",
        "outputId": "732805ac-223f-4827-c9a5-5f3faecbd565",
        "colab": {
          "base_uri": "https://localhost:8080/",
          "height": 119
        }
      },
      "cell_type": "code",
      "source": [
        "df.sort_values(by='title character count').tail()['title']"
      ],
      "execution_count": 46,
      "outputs": [
        {
          "output_type": "execute_result",
          "data": {
            "text/plain": [
              "66                 Put down the deep learning: When not to use neural networks and what to do instead\n",
              "48              Lessons learned from building a community of Python users among thousands of analysts\n",
              "30          ¡Escuincla babosa!: Creating a telenovela script in three Python deep learning frameworks\n",
              "84         Thinking Inside the Box: How Python Helped Us Adapt to An Existing Data Ingestion Pipeline\n",
              "60    One Engineer, an API, and an MVP: Or, how I spent one hour improving hiring data at my company.\n",
              "Name: title, dtype: object"
            ]
          },
          "metadata": {
            "tags": []
          },
          "execution_count": 46
        }
      ]
    },
    {
      "metadata": {
        "id": "xG6Vf9IYddjb",
        "colab_type": "code",
        "outputId": "2ae73c4b-c0b2-4026-844c-f19bdf548854",
        "colab": {
          "base_uri": "https://localhost:8080/",
          "height": 204
        }
      },
      "cell_type": "code",
      "source": [
        "df.sort_values(by='first letter', ascending=False).head()"
      ],
      "execution_count": 47,
      "outputs": [
        {
          "output_type": "execute_result",
          "data": {
            "text/html": [
              "<div>\n",
              "<style scoped>\n",
              "    .dataframe tbody tr th:only-of-type {\n",
              "        vertical-align: middle;\n",
              "    }\n",
              "\n",
              "    .dataframe tbody tr th {\n",
              "        vertical-align: top;\n",
              "    }\n",
              "\n",
              "    .dataframe thead th {\n",
              "        text-align: right;\n",
              "    }\n",
              "</style>\n",
              "<table border=\"1\" class=\"dataframe\">\n",
              "  <thead>\n",
              "    <tr style=\"text-align: right;\">\n",
              "      <th></th>\n",
              "      <th>title</th>\n",
              "      <th>title character count</th>\n",
              "      <th>long title</th>\n",
              "      <th>first letter</th>\n",
              "      <th>title word count</th>\n",
              "    </tr>\n",
              "  </thead>\n",
              "  <tbody>\n",
              "    <tr>\n",
              "      <th>30</th>\n",
              "      <td>¡Escuincla babosa!: Creating a telenovela script in three Python deep learning frameworks</td>\n",
              "      <td>89</td>\n",
              "      <td>True</td>\n",
              "      <td>¡</td>\n",
              "      <td>12</td>\n",
              "    </tr>\n",
              "    <tr>\n",
              "      <th>88</th>\n",
              "      <td>to GIL or not to GIL: the Future of Multi-Core (C)Python</td>\n",
              "      <td>56</td>\n",
              "      <td>False</td>\n",
              "      <td>t</td>\n",
              "      <td>11</td>\n",
              "    </tr>\n",
              "    <tr>\n",
              "      <th>94</th>\n",
              "      <td>Working with Time Zones: Everything You Wish You Didn't Need to Know</td>\n",
              "      <td>68</td>\n",
              "      <td>False</td>\n",
              "      <td>W</td>\n",
              "      <td>12</td>\n",
              "    </tr>\n",
              "    <tr>\n",
              "      <th>93</th>\n",
              "      <td>Wily Python: Writing simpler and more maintainable Python</td>\n",
              "      <td>57</td>\n",
              "      <td>False</td>\n",
              "      <td>W</td>\n",
              "      <td>8</td>\n",
              "    </tr>\n",
              "    <tr>\n",
              "      <th>92</th>\n",
              "      <td>What's new in Python 3.7</td>\n",
              "      <td>24</td>\n",
              "      <td>False</td>\n",
              "      <td>W</td>\n",
              "      <td>5</td>\n",
              "    </tr>\n",
              "  </tbody>\n",
              "</table>\n",
              "</div>"
            ],
            "text/plain": [
              "                                                                                        title  \\\n",
              "30  ¡Escuincla babosa!: Creating a telenovela script in three Python deep learning frameworks   \n",
              "88                                   to GIL or not to GIL: the Future of Multi-Core (C)Python   \n",
              "94                       Working with Time Zones: Everything You Wish You Didn't Need to Know   \n",
              "93                                  Wily Python: Writing simpler and more maintainable Python   \n",
              "92                                                                   What's new in Python 3.7   \n",
              "\n",
              "    title character count  long title first letter  title word count  \n",
              "30                     89        True            ¡                12  \n",
              "88                     56       False            t                11  \n",
              "94                     68       False            W                12  \n",
              "93                     57       False            W                 8  \n",
              "92                     24       False            W                 5  "
            ]
          },
          "metadata": {
            "tags": []
          },
          "execution_count": 47
        }
      ]
    },
    {
      "metadata": {
        "colab_type": "text",
        "id": "e4wr42FB0GV-"
      },
      "cell_type": "markdown",
      "source": [
        "### Get value counts\n",
        "\n",
        "pandas documentation: [value_counts](https://pandas.pydata.org/pandas-docs/stable/generated/pandas.Series.value_counts.html)\n"
      ]
    },
    {
      "metadata": {
        "colab_type": "text",
        "id": "D81LNGaI-6ya"
      },
      "cell_type": "markdown",
      "source": [
        "Frequency counts of first letters"
      ]
    },
    {
      "metadata": {
        "colab_type": "code",
        "id": "AdTQYsRKBZio",
        "outputId": "074bb435-e26c-4cfb-d1a2-dea4e803c2e4",
        "colab": {
          "base_uri": "https://localhost:8080/",
          "height": 306
        }
      },
      "cell_type": "code",
      "source": [
        "df['title word count'].value_counts()"
      ],
      "execution_count": 48,
      "outputs": [
        {
          "output_type": "execute_result",
          "data": {
            "text/plain": [
              "6     18\n",
              "7     13\n",
              "9     11\n",
              "8     10\n",
              "5      9\n",
              "4      7\n",
              "10     6\n",
              "12     5\n",
              "13     4\n",
              "15     3\n",
              "11     3\n",
              "3      2\n",
              "19     1\n",
              "16     1\n",
              "14     1\n",
              "2      1\n",
              "Name: title word count, dtype: int64"
            ]
          },
          "metadata": {
            "tags": []
          },
          "execution_count": 48
        }
      ]
    },
    {
      "metadata": {
        "colab_type": "text",
        "id": "04NVokvTAwqK"
      },
      "cell_type": "markdown",
      "source": [
        "Percentage of talks with long titles"
      ]
    },
    {
      "metadata": {
        "colab_type": "code",
        "id": "uS8qp4hrBat6",
        "outputId": "4f63d294-0f02-4188-b79f-e8ca5d35d847",
        "colab": {
          "base_uri": "https://localhost:8080/",
          "height": 68
        }
      },
      "cell_type": "code",
      "source": [
        "df['long title'].value_counts()"
      ],
      "execution_count": 49,
      "outputs": [
        {
          "output_type": "execute_result",
          "data": {
            "text/plain": [
              "False    87\n",
              "True      8\n",
              "Name: long title, dtype: int64"
            ]
          },
          "metadata": {
            "tags": []
          },
          "execution_count": 49
        }
      ]
    },
    {
      "metadata": {
        "colab_type": "text",
        "id": "mmYZL2QL0lgd"
      },
      "cell_type": "markdown",
      "source": [
        "### Plot\n",
        "\n",
        "pandas documentation: [Visualization](https://pandas.pydata.org/pandas-docs/stable/visualization.html)\n",
        "\n",
        "\n",
        "\n"
      ]
    },
    {
      "metadata": {
        "colab_type": "text",
        "id": "c6gCotA9_B68"
      },
      "cell_type": "markdown",
      "source": [
        "Top 5 most frequent first letters"
      ]
    },
    {
      "metadata": {
        "colab_type": "code",
        "id": "DUmcVcdXBdkw",
        "outputId": "69a0b638-665d-41a9-f0ba-7d9f0ab2ee19",
        "colab": {
          "base_uri": "https://localhost:8080/",
          "height": 362
        }
      },
      "cell_type": "code",
      "source": [
        "(df['first letter']\n",
        " .value_counts()\n",
        " .head()\n",
        " .plot.barh(color = 'grey', title = \"Top 5 Most Frequent First Letters Pycon\"));\n",
        " "
      ],
      "execution_count": 50,
      "outputs": [
        {
          "output_type": "display_data",
          "data": {
            "image/png": "[encoded data removed]",
            "text/plain": [
              "<Figure size 576x396 with 1 Axes>"
            ]
          },
          "metadata": {
            "tags": []
          }
        }
      ]
    },
    {
      "metadata": {
        "colab_type": "text",
        "id": "_Ngegk0bASty"
      },
      "cell_type": "markdown",
      "source": [
        "Histogram of title lengths, in characters"
      ]
    },
    {
      "metadata": {
        "colab_type": "code",
        "id": "y5oLu2D4BeKw",
        "outputId": "3521cb9b-5766-4eeb-9f2c-c2cd717363fd",
        "colab": {
          "base_uri": "https://localhost:8080/",
          "height": 364
        }
      },
      "cell_type": "code",
      "source": [
        "title = 'Distribution of Title Length in Characters'\n",
        "df['title character count'].plot.hist()"
      ],
      "execution_count": 51,
      "outputs": [
        {
          "output_type": "execute_result",
          "data": {
            "text/plain": [
              "<matplotlib.axes._subplots.AxesSubplot at 0x7f2ef4ebcc88>"
            ]
          },
          "metadata": {
            "tags": []
          },
          "execution_count": 51
        },
        {
          "output_type": "display_data",
          "data": {
            "image/png": "[encoded data removed]",
            "text/plain": [
              "<Figure size 576x396 with 1 Axes>"
            ]
          },
          "metadata": {
            "tags": []
          }
        }
      ]
    },
    {
      "metadata": {
        "colab_type": "text",
        "id": "DiylH7LQw44u"
      },
      "cell_type": "markdown",
      "source": [
        "# Assignment\n",
        "\n",
        "**Scrape** the talk descriptions. Hint: `soup.select('.presentation-description')`\n",
        "\n",
        "**Make** new columns in the dataframe:\n",
        "- description\n",
        "- description character count\n",
        "- description word count\n",
        "\n",
        "**Describe** all the dataframe's columns. What's the average description word count? The minimum? The maximum?\n",
        "\n",
        "**Answer** the question: Which descriptions could fit in a tweet?\n"
      ]
    },
    {
      "metadata": {
        "id": "V38_hNMIducM",
        "colab_type": "code",
        "outputId": "f54f82d0-24ce-41d0-975a-35ebe6223435",
        "colab": {
          "base_uri": "https://localhost:8080/",
          "height": 122
        }
      },
      "cell_type": "code",
      "source": [
        "first = soup.select('.presentation-description')[0]\n",
        "first"
      ],
      "execution_count": 52,
      "outputs": [
        {
          "output_type": "execute_result",
          "data": {
            "text/plain": [
              "<div class=\"presentation-description\">Have you ever wanted to write a GUI application in Python that you can run on both your laptop and your phone? Have you been looking to contribute to an open source project, but you don't know where to start?\n",
              "\n",
              "BeeWare is a set of software libraries for cross-platform native app development from a single Python codebase and tools to simplify app deployment. The project aims to build, deploy, and run apps for Windows, Linux, macOS, Android, iPhone, and the web. It is native because it is actually using your platform's native GUI widgets, not a theme, icon pack, or webpage wrapper.\n",
              "\n",
              "This talk will teach you how Toga, the BeeWare GUI toolkit, is architected and then show you how you can contribute to Toga by creating your own GUI widget in five easy steps.</div>"
            ]
          },
          "metadata": {
            "tags": []
          },
          "execution_count": 52
        }
      ]
    },
    {
      "metadata": {
        "id": "B4HhXlPKjSVl",
        "colab_type": "code",
        "outputId": "6cfc21a9-c728-4b0b-919c-00720e59f3cd",
        "colab": {
          "base_uri": "https://localhost:8080/",
          "height": 54
        }
      },
      "cell_type": "code",
      "source": [
        "first.text"
      ],
      "execution_count": 53,
      "outputs": [
        {
          "output_type": "execute_result",
          "data": {
            "text/plain": [
              "\"Have you ever wanted to write a GUI application in Python that you can run on both your laptop and your phone? Have you been looking to contribute to an open source project, but you don't know where to start?\\r\\n\\r\\nBeeWare is a set of software libraries for cross-platform native app development from a single Python codebase and tools to simplify app deployment. The project aims to build, deploy, and run apps for Windows, Linux, macOS, Android, iPhone, and the web. It is native because it is actually using your platform's native GUI widgets, not a theme, icon pack, or webpage wrapper.\\r\\n\\r\\nThis talk will teach you how Toga, the BeeWare GUI toolkit, is architected and then show you how you can contribute to Toga by creating your own GUI widget in five easy steps.\""
            ]
          },
          "metadata": {
            "tags": []
          },
          "execution_count": 53
        }
      ]
    },
    {
      "metadata": {
        "id": "oWjKd8vihilP",
        "colab_type": "code",
        "outputId": "057884fc-3563-4568-c13c-6e7b077d62a1",
        "colab": {
          "base_uri": "https://localhost:8080/",
          "height": 34
        }
      },
      "cell_type": "code",
      "source": [
        "type(first)"
      ],
      "execution_count": 54,
      "outputs": [
        {
          "output_type": "execute_result",
          "data": {
            "text/plain": [
              "bs4.element.Tag"
            ]
          },
          "metadata": {
            "tags": []
          },
          "execution_count": 54
        }
      ]
    },
    {
      "metadata": {
        "id": "vl_S6lt_g0Dz",
        "colab_type": "code",
        "colab": {}
      },
      "cell_type": "code",
      "source": [
        "description = []\n",
        "\n",
        "for tag in soup.select('.presentation-description'):\n",
        "  d = tag.text.strip()\n",
        "  description.append(d)"
      ],
      "execution_count": 0,
      "outputs": []
    },
    {
      "metadata": {
        "id": "a0KCs_dKiMuS",
        "colab_type": "code",
        "outputId": "041a6549-0c93-403d-a673-c6b8107f7233",
        "colab": {
          "base_uri": "https://localhost:8080/",
          "height": 105
        }
      },
      "cell_type": "code",
      "source": [
        "type(description), len(description), description[0], description [-1]"
      ],
      "execution_count": 56,
      "outputs": [
        {
          "output_type": "execute_result",
          "data": {
            "text/plain": [
              "(list,\n",
              " 95,\n",
              " \"Have you ever wanted to write a GUI application in Python that you can run on both your laptop and your phone? Have you been looking to contribute to an open source project, but you don't know where to start?\\r\\n\\r\\nBeeWare is a set of software libraries for cross-platform native app development from a single Python codebase and tools to simplify app deployment. The project aims to build, deploy, and run apps for Windows, Linux, macOS, Android, iPhone, and the web. It is native because it is actually using your platform's native GUI widgets, not a theme, icon pack, or webpage wrapper.\\r\\n\\r\\nThis talk will teach you how Toga, the BeeWare GUI toolkit, is architected and then show you how you can contribute to Toga by creating your own GUI widget in five easy steps.\",\n",
              " \"Time zones are complicated, but they are a fact of engineering life. Time zones have [skipped entire days](http://www.bbc.com/news/world-asia-16351377) and repeated others. There are time zones that switch to [DST twice per year](https://www.timeanddate.com/time/zone/morocco/casablanca). But not necessarily every year.  In Python it's even possible to create datetimes with non-transitive equality (`a == b`, `b == c`, `a != c`).\\r\\n\\r\\nIn this talk you'll learn about Python's time zone model and other concepts critical to avoiding datetime troubles. Using `dateutil` and `pytz` as examples, this talk covers how to deal with ambiguous and imaginary times, datetime arithmetic around a Daylight Savings Time transition, and datetime's new `fold` attribute, introduced in Python 3.6 ([PEP 495](https://www.python.org/dev/peps/pep-0495/)).\")"
            ]
          },
          "metadata": {
            "tags": []
          },
          "execution_count": 56
        }
      ]
    },
    {
      "metadata": {
        "id": "sIcwdcwSliN3",
        "colab_type": "code",
        "outputId": "8a7b9982-4b66-4849-d8fd-70a19fc3ee40",
        "colab": {
          "base_uri": "https://localhost:8080/",
          "height": 340
        }
      },
      "cell_type": "code",
      "source": [
        "df ['description'] = description\n",
        "print(df.shape)\n",
        "df.head()"
      ],
      "execution_count": 57,
      "outputs": [
        {
          "output_type": "stream",
          "text": [
            "(95, 6)\n"
          ],
          "name": "stdout"
        },
        {
          "output_type": "execute_result",
          "data": {
            "text/html": [
              "<div>\n",
              "<style scoped>\n",
              "    .dataframe tbody tr th:only-of-type {\n",
              "        vertical-align: middle;\n",
              "    }\n",
              "\n",
              "    .dataframe tbody tr th {\n",
              "        vertical-align: top;\n",
              "    }\n",
              "\n",
              "    .dataframe thead th {\n",
              "        text-align: right;\n",
              "    }\n",
              "</style>\n",
              "<table border=\"1\" class=\"dataframe\">\n",
              "  <thead>\n",
              "    <tr style=\"text-align: right;\">\n",
              "      <th></th>\n",
              "      <th>title</th>\n",
              "      <th>title character count</th>\n",
              "      <th>long title</th>\n",
              "      <th>first letter</th>\n",
              "      <th>title word count</th>\n",
              "      <th>description</th>\n",
              "    </tr>\n",
              "  </thead>\n",
              "  <tbody>\n",
              "    <tr>\n",
              "      <th>0</th>\n",
              "      <td>5 Steps to Build Python Native GUI Widgets for BeeWare</td>\n",
              "      <td>54</td>\n",
              "      <td>False</td>\n",
              "      <td>5</td>\n",
              "      <td>10</td>\n",
              "      <td>Have you ever wanted to write a GUI application in Python that you can run on both your laptop and your phone? Have you been looking to contribute to an open source project, but you don't know whe...</td>\n",
              "    </tr>\n",
              "    <tr>\n",
              "      <th>1</th>\n",
              "      <td>8 things that happen at the dot:  Attribute Access &amp; Descriptors</td>\n",
              "      <td>64</td>\n",
              "      <td>False</td>\n",
              "      <td>8</td>\n",
              "      <td>10</td>\n",
              "      <td>We rarely think about the dot “.” between our objects and their fields, but there are quite a lot of things that happen every time we use one in Python. This talk will explore the details of what ...</td>\n",
              "    </tr>\n",
              "    <tr>\n",
              "      <th>2</th>\n",
              "      <td>Account Security Patterns: How Logged-In Are you?</td>\n",
              "      <td>49</td>\n",
              "      <td>False</td>\n",
              "      <td>A</td>\n",
              "      <td>7</td>\n",
              "      <td>Account security means making sure your users are only ones who can access their accounts. Account takeovers happen for a variety of reasons -- password re-use, compromised computers, guessable pa...</td>\n",
              "    </tr>\n",
              "    <tr>\n",
              "      <th>3</th>\n",
              "      <td>Ace Your Technical Interview Using Python</td>\n",
              "      <td>41</td>\n",
              "      <td>False</td>\n",
              "      <td>A</td>\n",
              "      <td>6</td>\n",
              "      <td>Do you feel overwhelmed by the prospect of having to find a new software engineering job because you dread the technical interviewing process? Have you been putting off submitting your job applica...</td>\n",
              "    </tr>\n",
              "    <tr>\n",
              "      <th>4</th>\n",
              "      <td>Advanced asyncio: Solving Real-world Production Problems</td>\n",
              "      <td>56</td>\n",
              "      <td>False</td>\n",
              "      <td>A</td>\n",
              "      <td>6</td>\n",
              "      <td>Everyone’s talking about it. Everyone’s using it. But most likely, they’re doing it wrong, just like we did.\\r\\n\\r\\nBy building a simplified chaos monkey service, we will walk through how to creat...</td>\n",
              "    </tr>\n",
              "  </tbody>\n",
              "</table>\n",
              "</div>"
            ],
            "text/plain": [
              "                                                              title  \\\n",
              "0            5 Steps to Build Python Native GUI Widgets for BeeWare   \n",
              "1  8 things that happen at the dot:  Attribute Access & Descriptors   \n",
              "2                 Account Security Patterns: How Logged-In Are you?   \n",
              "3                         Ace Your Technical Interview Using Python   \n",
              "4          Advanced asyncio: Solving Real-world Production Problems   \n",
              "\n",
              "   title character count  long title first letter  title word count  \\\n",
              "0                     54       False            5                10   \n",
              "1                     64       False            8                10   \n",
              "2                     49       False            A                 7   \n",
              "3                     41       False            A                 6   \n",
              "4                     56       False            A                 6   \n",
              "\n",
              "                                                                                                                                                                                               description  \n",
              "0  Have you ever wanted to write a GUI application in Python that you can run on both your laptop and your phone? Have you been looking to contribute to an open source project, but you don't know whe...  \n",
              "1  We rarely think about the dot “.” between our objects and their fields, but there are quite a lot of things that happen every time we use one in Python. This talk will explore the details of what ...  \n",
              "2  Account security means making sure your users are only ones who can access their accounts. Account takeovers happen for a variety of reasons -- password re-use, compromised computers, guessable pa...  \n",
              "3  Do you feel overwhelmed by the prospect of having to find a new software engineering job because you dread the technical interviewing process? Have you been putting off submitting your job applica...  \n",
              "4  Everyone’s talking about it. Everyone’s using it. But most likely, they’re doing it wrong, just like we did.\\r\\n\\r\\nBy building a simplified chaos monkey service, we will walk through how to creat...  "
            ]
          },
          "metadata": {
            "tags": []
          },
          "execution_count": 57
        }
      ]
    },
    {
      "metadata": {
        "id": "1Jl7MW-Ongcl",
        "colab_type": "code",
        "outputId": "e85ed055-222e-425e-ad5a-3cc7d311c08e",
        "colab": {
          "base_uri": "https://localhost:8080/",
          "height": 340
        }
      },
      "cell_type": "code",
      "source": [
        "df['description character count'] = df['description'].apply(len)\n",
        "df['description word count'] = df['description'].apply(textstat.lexicon_count)\n",
        "print(df.shape)\n",
        "df.head()"
      ],
      "execution_count": 58,
      "outputs": [
        {
          "output_type": "stream",
          "text": [
            "(95, 8)\n"
          ],
          "name": "stdout"
        },
        {
          "output_type": "execute_result",
          "data": {
            "text/html": [
              "<div>\n",
              "<style scoped>\n",
              "    .dataframe tbody tr th:only-of-type {\n",
              "        vertical-align: middle;\n",
              "    }\n",
              "\n",
              "    .dataframe tbody tr th {\n",
              "        vertical-align: top;\n",
              "    }\n",
              "\n",
              "    .dataframe thead th {\n",
              "        text-align: right;\n",
              "    }\n",
              "</style>\n",
              "<table border=\"1\" class=\"dataframe\">\n",
              "  <thead>\n",
              "    <tr style=\"text-align: right;\">\n",
              "      <th></th>\n",
              "      <th>title</th>\n",
              "      <th>title character count</th>\n",
              "      <th>long title</th>\n",
              "      <th>first letter</th>\n",
              "      <th>title word count</th>\n",
              "      <th>description</th>\n",
              "      <th>description character count</th>\n",
              "      <th>description word count</th>\n",
              "    </tr>\n",
              "  </thead>\n",
              "  <tbody>\n",
              "    <tr>\n",
              "      <th>0</th>\n",
              "      <td>5 Steps to Build Python Native GUI Widgets for BeeWare</td>\n",
              "      <td>54</td>\n",
              "      <td>False</td>\n",
              "      <td>5</td>\n",
              "      <td>10</td>\n",
              "      <td>Have you ever wanted to write a GUI application in Python that you can run on both your laptop and your phone? Have you been looking to contribute to an open source project, but you don't know whe...</td>\n",
              "      <td>766</td>\n",
              "      <td>135</td>\n",
              "    </tr>\n",
              "    <tr>\n",
              "      <th>1</th>\n",
              "      <td>8 things that happen at the dot:  Attribute Access &amp; Descriptors</td>\n",
              "      <td>64</td>\n",
              "      <td>False</td>\n",
              "      <td>8</td>\n",
              "      <td>10</td>\n",
              "      <td>We rarely think about the dot “.” between our objects and their fields, but there are quite a lot of things that happen every time we use one in Python. This talk will explore the details of what ...</td>\n",
              "      <td>296</td>\n",
              "      <td>56</td>\n",
              "    </tr>\n",
              "    <tr>\n",
              "      <th>2</th>\n",
              "      <td>Account Security Patterns: How Logged-In Are you?</td>\n",
              "      <td>49</td>\n",
              "      <td>False</td>\n",
              "      <td>A</td>\n",
              "      <td>7</td>\n",
              "      <td>Account security means making sure your users are only ones who can access their accounts. Account takeovers happen for a variety of reasons -- password re-use, compromised computers, guessable pa...</td>\n",
              "      <td>426</td>\n",
              "      <td>66</td>\n",
              "    </tr>\n",
              "    <tr>\n",
              "      <th>3</th>\n",
              "      <td>Ace Your Technical Interview Using Python</td>\n",
              "      <td>41</td>\n",
              "      <td>False</td>\n",
              "      <td>A</td>\n",
              "      <td>6</td>\n",
              "      <td>Do you feel overwhelmed by the prospect of having to find a new software engineering job because you dread the technical interviewing process? Have you been putting off submitting your job applica...</td>\n",
              "      <td>507</td>\n",
              "      <td>84</td>\n",
              "    </tr>\n",
              "    <tr>\n",
              "      <th>4</th>\n",
              "      <td>Advanced asyncio: Solving Real-world Production Problems</td>\n",
              "      <td>56</td>\n",
              "      <td>False</td>\n",
              "      <td>A</td>\n",
              "      <td>6</td>\n",
              "      <td>Everyone’s talking about it. Everyone’s using it. But most likely, they’re doing it wrong, just like we did.\\r\\n\\r\\nBy building a simplified chaos monkey service, we will walk through how to creat...</td>\n",
              "      <td>647</td>\n",
              "      <td>96</td>\n",
              "    </tr>\n",
              "  </tbody>\n",
              "</table>\n",
              "</div>"
            ],
            "text/plain": [
              "                                                              title  \\\n",
              "0            5 Steps to Build Python Native GUI Widgets for BeeWare   \n",
              "1  8 things that happen at the dot:  Attribute Access & Descriptors   \n",
              "2                 Account Security Patterns: How Logged-In Are you?   \n",
              "3                         Ace Your Technical Interview Using Python   \n",
              "4          Advanced asyncio: Solving Real-world Production Problems   \n",
              "\n",
              "   title character count  long title first letter  title word count  \\\n",
              "0                     54       False            5                10   \n",
              "1                     64       False            8                10   \n",
              "2                     49       False            A                 7   \n",
              "3                     41       False            A                 6   \n",
              "4                     56       False            A                 6   \n",
              "\n",
              "                                                                                                                                                                                               description  \\\n",
              "0  Have you ever wanted to write a GUI application in Python that you can run on both your laptop and your phone? Have you been looking to contribute to an open source project, but you don't know whe...   \n",
              "1  We rarely think about the dot “.” between our objects and their fields, but there are quite a lot of things that happen every time we use one in Python. This talk will explore the details of what ...   \n",
              "2  Account security means making sure your users are only ones who can access their accounts. Account takeovers happen for a variety of reasons -- password re-use, compromised computers, guessable pa...   \n",
              "3  Do you feel overwhelmed by the prospect of having to find a new software engineering job because you dread the technical interviewing process? Have you been putting off submitting your job applica...   \n",
              "4  Everyone’s talking about it. Everyone’s using it. But most likely, they’re doing it wrong, just like we did.\\r\\n\\r\\nBy building a simplified chaos monkey service, we will walk through how to creat...   \n",
              "\n",
              "   description character count  description word count  \n",
              "0                          766                     135  \n",
              "1                          296                      56  \n",
              "2                          426                      66  \n",
              "3                          507                      84  \n",
              "4                          647                      96  "
            ]
          },
          "metadata": {
            "tags": []
          },
          "execution_count": 58
        }
      ]
    },
    {
      "metadata": {
        "id": "_r8PCZYYp02z",
        "colab_type": "code",
        "outputId": "2c779eba-3d38-4ebb-83ed-bee83635e226",
        "colab": {
          "base_uri": "https://localhost:8080/",
          "height": 297
        }
      },
      "cell_type": "code",
      "source": [
        "df.describe()"
      ],
      "execution_count": 59,
      "outputs": [
        {
          "output_type": "execute_result",
          "data": {
            "text/html": [
              "<div>\n",
              "<style scoped>\n",
              "    .dataframe tbody tr th:only-of-type {\n",
              "        vertical-align: middle;\n",
              "    }\n",
              "\n",
              "    .dataframe tbody tr th {\n",
              "        vertical-align: top;\n",
              "    }\n",
              "\n",
              "    .dataframe thead th {\n",
              "        text-align: right;\n",
              "    }\n",
              "</style>\n",
              "<table border=\"1\" class=\"dataframe\">\n",
              "  <thead>\n",
              "    <tr style=\"text-align: right;\">\n",
              "      <th></th>\n",
              "      <th>title character count</th>\n",
              "      <th>title word count</th>\n",
              "      <th>description character count</th>\n",
              "      <th>description word count</th>\n",
              "    </tr>\n",
              "  </thead>\n",
              "  <tbody>\n",
              "    <tr>\n",
              "      <th>count</th>\n",
              "      <td>95.000000</td>\n",
              "      <td>95.000000</td>\n",
              "      <td>95.000000</td>\n",
              "      <td>95.000000</td>\n",
              "    </tr>\n",
              "    <tr>\n",
              "      <th>mean</th>\n",
              "      <td>51.347368</td>\n",
              "      <td>7.978947</td>\n",
              "      <td>813.073684</td>\n",
              "      <td>130.821053</td>\n",
              "    </tr>\n",
              "    <tr>\n",
              "      <th>std</th>\n",
              "      <td>17.729509</td>\n",
              "      <td>3.218890</td>\n",
              "      <td>415.988191</td>\n",
              "      <td>64.357872</td>\n",
              "    </tr>\n",
              "    <tr>\n",
              "      <th>min</th>\n",
              "      <td>20.000000</td>\n",
              "      <td>2.000000</td>\n",
              "      <td>121.000000</td>\n",
              "      <td>20.000000</td>\n",
              "    </tr>\n",
              "    <tr>\n",
              "      <th>25%</th>\n",
              "      <td>37.000000</td>\n",
              "      <td>6.000000</td>\n",
              "      <td>542.500000</td>\n",
              "      <td>85.500000</td>\n",
              "    </tr>\n",
              "    <tr>\n",
              "      <th>50%</th>\n",
              "      <td>52.000000</td>\n",
              "      <td>7.000000</td>\n",
              "      <td>718.000000</td>\n",
              "      <td>116.000000</td>\n",
              "    </tr>\n",
              "    <tr>\n",
              "      <th>75%</th>\n",
              "      <td>62.000000</td>\n",
              "      <td>9.500000</td>\n",
              "      <td>1016.500000</td>\n",
              "      <td>165.000000</td>\n",
              "    </tr>\n",
              "    <tr>\n",
              "      <th>max</th>\n",
              "      <td>95.000000</td>\n",
              "      <td>19.000000</td>\n",
              "      <td>2827.000000</td>\n",
              "      <td>421.000000</td>\n",
              "    </tr>\n",
              "  </tbody>\n",
              "</table>\n",
              "</div>"
            ],
            "text/plain": [
              "       title character count  title word count  description character count  \\\n",
              "count              95.000000         95.000000                    95.000000   \n",
              "mean               51.347368          7.978947                   813.073684   \n",
              "std                17.729509          3.218890                   415.988191   \n",
              "min                20.000000          2.000000                   121.000000   \n",
              "25%                37.000000          6.000000                   542.500000   \n",
              "50%                52.000000          7.000000                   718.000000   \n",
              "75%                62.000000          9.500000                  1016.500000   \n",
              "max                95.000000         19.000000                  2827.000000   \n",
              "\n",
              "       description word count  \n",
              "count               95.000000  \n",
              "mean               130.821053  \n",
              "std                 64.357872  \n",
              "min                 20.000000  \n",
              "25%                 85.500000  \n",
              "50%                116.000000  \n",
              "75%                165.000000  \n",
              "max                421.000000  "
            ]
          },
          "metadata": {
            "tags": []
          },
          "execution_count": 59
        }
      ]
    },
    {
      "metadata": {
        "id": "_6NQUO79rb2L",
        "colab_type": "code",
        "outputId": "4e6b6f82-77ca-4f47-b3d8-9c43477c86e8",
        "colab": {
          "base_uri": "https://localhost:8080/",
          "height": 441
        }
      },
      "cell_type": "code",
      "source": [
        "# if you insist\n",
        "\n",
        "df.describe(include = 'all')"
      ],
      "execution_count": 60,
      "outputs": [
        {
          "output_type": "execute_result",
          "data": {
            "text/html": [
              "<div>\n",
              "<style scoped>\n",
              "    .dataframe tbody tr th:only-of-type {\n",
              "        vertical-align: middle;\n",
              "    }\n",
              "\n",
              "    .dataframe tbody tr th {\n",
              "        vertical-align: top;\n",
              "    }\n",
              "\n",
              "    .dataframe thead th {\n",
              "        text-align: right;\n",
              "    }\n",
              "</style>\n",
              "<table border=\"1\" class=\"dataframe\">\n",
              "  <thead>\n",
              "    <tr style=\"text-align: right;\">\n",
              "      <th></th>\n",
              "      <th>title</th>\n",
              "      <th>title character count</th>\n",
              "      <th>long title</th>\n",
              "      <th>first letter</th>\n",
              "      <th>title word count</th>\n",
              "      <th>description</th>\n",
              "      <th>description character count</th>\n",
              "      <th>description word count</th>\n",
              "    </tr>\n",
              "  </thead>\n",
              "  <tbody>\n",
              "    <tr>\n",
              "      <th>count</th>\n",
              "      <td>95</td>\n",
              "      <td>95.000000</td>\n",
              "      <td>95</td>\n",
              "      <td>95</td>\n",
              "      <td>95.000000</td>\n",
              "      <td>95</td>\n",
              "      <td>95.000000</td>\n",
              "      <td>95.000000</td>\n",
              "    </tr>\n",
              "    <tr>\n",
              "      <th>unique</th>\n",
              "      <td>95</td>\n",
              "      <td>NaN</td>\n",
              "      <td>2</td>\n",
              "      <td>22</td>\n",
              "      <td>NaN</td>\n",
              "      <td>95</td>\n",
              "      <td>NaN</td>\n",
              "      <td>NaN</td>\n",
              "    </tr>\n",
              "    <tr>\n",
              "      <th>top</th>\n",
              "      <td>Wily Python: Writing simpler and more maintainable Python</td>\n",
              "      <td>NaN</td>\n",
              "      <td>False</td>\n",
              "      <td>T</td>\n",
              "      <td>NaN</td>\n",
              "      <td>At Dropbox, we’ve always used Python to power our application for Windows, macOS and Linux (until recently, Python 2.7). Over the years, a growing lack of features and the need for outdated compil...</td>\n",
              "      <td>NaN</td>\n",
              "      <td>NaN</td>\n",
              "    </tr>\n",
              "    <tr>\n",
              "      <th>freq</th>\n",
              "      <td>1</td>\n",
              "      <td>NaN</td>\n",
              "      <td>87</td>\n",
              "      <td>12</td>\n",
              "      <td>NaN</td>\n",
              "      <td>1</td>\n",
              "      <td>NaN</td>\n",
              "      <td>NaN</td>\n",
              "    </tr>\n",
              "    <tr>\n",
              "      <th>mean</th>\n",
              "      <td>NaN</td>\n",
              "      <td>51.347368</td>\n",
              "      <td>NaN</td>\n",
              "      <td>NaN</td>\n",
              "      <td>7.978947</td>\n",
              "      <td>NaN</td>\n",
              "      <td>813.073684</td>\n",
              "      <td>130.821053</td>\n",
              "    </tr>\n",
              "    <tr>\n",
              "      <th>std</th>\n",
              "      <td>NaN</td>\n",
              "      <td>17.729509</td>\n",
              "      <td>NaN</td>\n",
              "      <td>NaN</td>\n",
              "      <td>3.218890</td>\n",
              "      <td>NaN</td>\n",
              "      <td>415.988191</td>\n",
              "      <td>64.357872</td>\n",
              "    </tr>\n",
              "    <tr>\n",
              "      <th>min</th>\n",
              "      <td>NaN</td>\n",
              "      <td>20.000000</td>\n",
              "      <td>NaN</td>\n",
              "      <td>NaN</td>\n",
              "      <td>2.000000</td>\n",
              "      <td>NaN</td>\n",
              "      <td>121.000000</td>\n",
              "      <td>20.000000</td>\n",
              "    </tr>\n",
              "    <tr>\n",
              "      <th>25%</th>\n",
              "      <td>NaN</td>\n",
              "      <td>37.000000</td>\n",
              "      <td>NaN</td>\n",
              "      <td>NaN</td>\n",
              "      <td>6.000000</td>\n",
              "      <td>NaN</td>\n",
              "      <td>542.500000</td>\n",
              "      <td>85.500000</td>\n",
              "    </tr>\n",
              "    <tr>\n",
              "      <th>50%</th>\n",
              "      <td>NaN</td>\n",
              "      <td>52.000000</td>\n",
              "      <td>NaN</td>\n",
              "      <td>NaN</td>\n",
              "      <td>7.000000</td>\n",
              "      <td>NaN</td>\n",
              "      <td>718.000000</td>\n",
              "      <td>116.000000</td>\n",
              "    </tr>\n",
              "    <tr>\n",
              "      <th>75%</th>\n",
              "      <td>NaN</td>\n",
              "      <td>62.000000</td>\n",
              "      <td>NaN</td>\n",
              "      <td>NaN</td>\n",
              "      <td>9.500000</td>\n",
              "      <td>NaN</td>\n",
              "      <td>1016.500000</td>\n",
              "      <td>165.000000</td>\n",
              "    </tr>\n",
              "    <tr>\n",
              "      <th>max</th>\n",
              "      <td>NaN</td>\n",
              "      <td>95.000000</td>\n",
              "      <td>NaN</td>\n",
              "      <td>NaN</td>\n",
              "      <td>19.000000</td>\n",
              "      <td>NaN</td>\n",
              "      <td>2827.000000</td>\n",
              "      <td>421.000000</td>\n",
              "    </tr>\n",
              "  </tbody>\n",
              "</table>\n",
              "</div>"
            ],
            "text/plain": [
              "                                                            title  \\\n",
              "count                                                          95   \n",
              "unique                                                         95   \n",
              "top     Wily Python: Writing simpler and more maintainable Python   \n",
              "freq                                                            1   \n",
              "mean                                                          NaN   \n",
              "std                                                           NaN   \n",
              "min                                                           NaN   \n",
              "25%                                                           NaN   \n",
              "50%                                                           NaN   \n",
              "75%                                                           NaN   \n",
              "max                                                           NaN   \n",
              "\n",
              "        title character count long title first letter  title word count  \\\n",
              "count               95.000000         95           95         95.000000   \n",
              "unique                    NaN          2           22               NaN   \n",
              "top                       NaN      False            T               NaN   \n",
              "freq                      NaN         87           12               NaN   \n",
              "mean                51.347368        NaN          NaN          7.978947   \n",
              "std                 17.729509        NaN          NaN          3.218890   \n",
              "min                 20.000000        NaN          NaN          2.000000   \n",
              "25%                 37.000000        NaN          NaN          6.000000   \n",
              "50%                 52.000000        NaN          NaN          7.000000   \n",
              "75%                 62.000000        NaN          NaN          9.500000   \n",
              "max                 95.000000        NaN          NaN         19.000000   \n",
              "\n",
              "                                                                                                                                                                                                    description  \\\n",
              "count                                                                                                                                                                                                        95   \n",
              "unique                                                                                                                                                                                                       95   \n",
              "top     At Dropbox, we’ve always used Python to power our application for Windows, macOS and Linux (until recently, Python 2.7). Over the years, a growing lack of features and the need for outdated compil...   \n",
              "freq                                                                                                                                                                                                          1   \n",
              "mean                                                                                                                                                                                                        NaN   \n",
              "std                                                                                                                                                                                                         NaN   \n",
              "min                                                                                                                                                                                                         NaN   \n",
              "25%                                                                                                                                                                                                         NaN   \n",
              "50%                                                                                                                                                                                                         NaN   \n",
              "75%                                                                                                                                                                                                         NaN   \n",
              "max                                                                                                                                                                                                         NaN   \n",
              "\n",
              "        description character count  description word count  \n",
              "count                     95.000000               95.000000  \n",
              "unique                          NaN                     NaN  \n",
              "top                             NaN                     NaN  \n",
              "freq                            NaN                     NaN  \n",
              "mean                     813.073684              130.821053  \n",
              "std                      415.988191               64.357872  \n",
              "min                      121.000000               20.000000  \n",
              "25%                      542.500000               85.500000  \n",
              "50%                      718.000000              116.000000  \n",
              "75%                     1016.500000              165.000000  \n",
              "max                     2827.000000              421.000000  "
            ]
          },
          "metadata": {
            "tags": []
          },
          "execution_count": 60
        }
      ]
    },
    {
      "metadata": {
        "id": "NCCWllYRr14k",
        "colab_type": "code",
        "outputId": "7d32c013-bf7c-4e13-8b7f-11b355494caa",
        "colab": {
          "base_uri": "https://localhost:8080/",
          "height": 51
        }
      },
      "cell_type": "code",
      "source": [
        "#the presentation with the smallest word count\n",
        "\n",
        "print(df.sort_values(by='description word count').head(1)['title'])"
      ],
      "execution_count": 61,
      "outputs": [
        {
          "output_type": "stream",
          "text": [
            "54    Making Music with Python, SuperCollider and FoxDot\n",
            "Name: title, dtype: object\n"
          ],
          "name": "stdout"
        }
      ]
    },
    {
      "metadata": {
        "id": "2fAvFBKJtGlu",
        "colab_type": "code",
        "outputId": "ea70033b-f7d6-4595-e584-1bac761f9ed3",
        "colab": {
          "base_uri": "https://localhost:8080/",
          "height": 170
        }
      },
      "cell_type": "code",
      "source": [
        "#Proof\n",
        "\n",
        "df.iloc[54]"
      ],
      "execution_count": 62,
      "outputs": [
        {
          "output_type": "execute_result",
          "data": {
            "text/plain": [
              "title                                                                                                 Making Music with Python, SuperCollider and FoxDot\n",
              "title character count                                                                                                                                 50\n",
              "long title                                                                                                                                         False\n",
              "first letter                                                                                                                                           M\n",
              "title word count                                                                                                                                       7\n",
              "description                    Learn how to make music with Python, SuperCollider and FoxDot. We'll create a song together in this live coded adventure.\n",
              "description character count                                                                                                                          121\n",
              "description word count                                                                                                                                20\n",
              "Name: 54, dtype: object"
            ]
          },
          "metadata": {
            "tags": []
          },
          "execution_count": 62
        }
      ]
    },
    {
      "metadata": {
        "id": "zphcdT8psMs9",
        "colab_type": "code",
        "outputId": "ab102d9a-285d-45cb-e3f9-19f4a113bebd",
        "colab": {
          "base_uri": "https://localhost:8080/",
          "height": 51
        }
      },
      "cell_type": "code",
      "source": [
        "#the presentation with the largest word count. \n",
        "print(df.sort_values(by='description word count').tail(1)['title'])"
      ],
      "execution_count": 63,
      "outputs": [
        {
          "output_type": "stream",
          "text": [
            "17    Building reproducible Python applications for secured environments\n",
            "Name: title, dtype: object\n"
          ],
          "name": "stdout"
        }
      ]
    },
    {
      "metadata": {
        "id": "jHkev6hZsfKb",
        "colab_type": "code",
        "outputId": "f30dce3d-fd73-4376-b3dc-910f5fe3bb35",
        "colab": {
          "base_uri": "https://localhost:8080/",
          "height": 190
        }
      },
      "cell_type": "code",
      "source": [
        "#Proof\n",
        "\n",
        "df.iloc[17]"
      ],
      "execution_count": 64,
      "outputs": [
        {
          "output_type": "execute_result",
          "data": {
            "text/plain": [
              "title                                                                                                                                                               Building reproducible Python applications for secured environments\n",
              "title character count                                                                                                                                                                                                               66\n",
              "long title                                                                                                                                                                                                                       False\n",
              "first letter                                                                                                                                                                                                                         B\n",
              "title word count                                                                                                                                                                                                                     7\n",
              "description                    We all have to package Python based applications for various environments, starting from command line tools, to web applications. And depending on the users, it can be installed on thousands on co...\n",
              "description character count                                                                                                                                                                                                       2827\n",
              "description word count                                                                                                                                                                                                             421\n",
              "Name: 17, dtype: object"
            ]
          },
          "metadata": {
            "tags": []
          },
          "execution_count": 64
        }
      ]
    },
    {
      "metadata": {
        "id": "XxDVxhaKtVCj",
        "colab_type": "code",
        "outputId": "9d28ca7b-37cf-4178-af02-641c3d32b6b2",
        "colab": {
          "base_uri": "https://localhost:8080/",
          "height": 131
        }
      },
      "cell_type": "code",
      "source": [
        "df[df['description character count']<=280]"
      ],
      "execution_count": 65,
      "outputs": [
        {
          "output_type": "execute_result",
          "data": {
            "text/html": [
              "<div>\n",
              "<style scoped>\n",
              "    .dataframe tbody tr th:only-of-type {\n",
              "        vertical-align: middle;\n",
              "    }\n",
              "\n",
              "    .dataframe tbody tr th {\n",
              "        vertical-align: top;\n",
              "    }\n",
              "\n",
              "    .dataframe thead th {\n",
              "        text-align: right;\n",
              "    }\n",
              "</style>\n",
              "<table border=\"1\" class=\"dataframe\">\n",
              "  <thead>\n",
              "    <tr style=\"text-align: right;\">\n",
              "      <th></th>\n",
              "      <th>title</th>\n",
              "      <th>title character count</th>\n",
              "      <th>long title</th>\n",
              "      <th>first letter</th>\n",
              "      <th>title word count</th>\n",
              "      <th>description</th>\n",
              "      <th>description character count</th>\n",
              "      <th>description word count</th>\n",
              "    </tr>\n",
              "  </thead>\n",
              "  <tbody>\n",
              "    <tr>\n",
              "      <th>54</th>\n",
              "      <td>Making Music with Python, SuperCollider and FoxDot</td>\n",
              "      <td>50</td>\n",
              "      <td>False</td>\n",
              "      <td>M</td>\n",
              "      <td>7</td>\n",
              "      <td>Learn how to make music with Python, SuperCollider and FoxDot. We'll create a song together in this live coded adventure.</td>\n",
              "      <td>121</td>\n",
              "      <td>20</td>\n",
              "    </tr>\n",
              "  </tbody>\n",
              "</table>\n",
              "</div>"
            ],
            "text/plain": [
              "                                                 title  title character count  \\\n",
              "54  Making Music with Python, SuperCollider and FoxDot                     50   \n",
              "\n",
              "    long title first letter  title word count  \\\n",
              "54       False            M                 7   \n",
              "\n",
              "                                                                                                                  description  \\\n",
              "54  Learn how to make music with Python, SuperCollider and FoxDot. We'll create a song together in this live coded adventure.   \n",
              "\n",
              "    description character count  description word count  \n",
              "54                          121                      20  "
            ]
          },
          "metadata": {
            "tags": []
          },
          "execution_count": 65
        }
      ]
    },
    {
      "metadata": {
        "id": "xiRVY6IHuc0a",
        "colab_type": "text"
      },
      "cell_type": "markdown",
      "source": [
        "# Stretch Challenge\n",
        "\n",
        "**Make** another new column in the dataframe:\n",
        "- description grade level (you can use [this `textstat` function](https://github.com/shivam5992/textstat#the-flesch-kincaid-grade-level) to get the Flesh-Kincaid grade level)\n",
        "\n",
        "**Answer** the question: What's the distribution of grade levels? Plot a histogram.\n",
        "\n",
        "**Be aware** that [Textstat has issues when sentences aren't separated by spaces](https://github.com/shivam5992/textstat/issues/77#issuecomment-453734048). (A Lambda School Data Science student helped identify this issue, and emailed with the developer.) \n",
        "\n",
        "Also, [BeautifulSoup doesn't separate paragraph tags with spaces](https://bugs.launchpad.net/beautifulsoup/+bug/1768330).\n",
        "\n",
        "So, you may get some inaccurate or surprising grade level estimates here. Don't worry, that's ok — but optionally, can you do anything to try improving the grade level estimates?"
      ]
    },
    {
      "metadata": {
        "id": "rDsnYVe1MJVs",
        "colab_type": "text"
      },
      "cell_type": "markdown",
      "source": [
        "## Stretch Solution:\n",
        "\n",
        "The challenge lie in how BeautifulSoup has trouble separating paragraph tags. Instead of spaces or any other seperator, it keeps the html. \\r\\n and \\r\\n1 were rampant. This gave the Flesch Kincaid Grade function problems as the extra spaces artifically inflated the evaluation. To combat this, I replaced the html with spaces, then using a join(split()) function combination reduced any double space to a single space. That brought the FKG evaluation more in line."
      ]
    },
    {
      "metadata": {
        "id": "8tj3cCzHud1U",
        "colab_type": "code",
        "outputId": "479a6995-a883-4b62-84f6-1f42f3fd618e",
        "colab": {
          "base_uri": "https://localhost:8080/",
          "height": 34
        }
      },
      "cell_type": "code",
      "source": [
        "textstat.flesch_kincaid_grade(first.text.strip())\n"
      ],
      "execution_count": 66,
      "outputs": [
        {
          "output_type": "execute_result",
          "data": {
            "text/plain": [
              "14.1"
            ]
          },
          "metadata": {
            "tags": []
          },
          "execution_count": 66
        }
      ]
    },
    {
      "metadata": {
        "id": "SqCRbQQ2E7QZ",
        "colab_type": "code",
        "colab": {
          "base_uri": "https://localhost:8080/",
          "height": 323
        },
        "outputId": "aeae751e-5d53-41c3-b5be-0908233a1826"
      },
      "cell_type": "code",
      "source": [
        "#I'm wet code. Please help\n",
        "df['description'] = df['description'].str.replace('\\r\\n',' ')\n",
        "df['description'] = df['description'].str.replace('\\r\\n1',' ')\n",
        "df.head()"
      ],
      "execution_count": 67,
      "outputs": [
        {
          "output_type": "execute_result",
          "data": {
            "text/html": [
              "<div>\n",
              "<style scoped>\n",
              "    .dataframe tbody tr th:only-of-type {\n",
              "        vertical-align: middle;\n",
              "    }\n",
              "\n",
              "    .dataframe tbody tr th {\n",
              "        vertical-align: top;\n",
              "    }\n",
              "\n",
              "    .dataframe thead th {\n",
              "        text-align: right;\n",
              "    }\n",
              "</style>\n",
              "<table border=\"1\" class=\"dataframe\">\n",
              "  <thead>\n",
              "    <tr style=\"text-align: right;\">\n",
              "      <th></th>\n",
              "      <th>title</th>\n",
              "      <th>title character count</th>\n",
              "      <th>long title</th>\n",
              "      <th>first letter</th>\n",
              "      <th>title word count</th>\n",
              "      <th>description</th>\n",
              "      <th>description character count</th>\n",
              "      <th>description word count</th>\n",
              "    </tr>\n",
              "  </thead>\n",
              "  <tbody>\n",
              "    <tr>\n",
              "      <th>0</th>\n",
              "      <td>5 Steps to Build Python Native GUI Widgets for BeeWare</td>\n",
              "      <td>54</td>\n",
              "      <td>False</td>\n",
              "      <td>5</td>\n",
              "      <td>10</td>\n",
              "      <td>Have you ever wanted to write a GUI application in Python that you can run on both your laptop and your phone? Have you been looking to contribute to an open source project, but you don't know whe...</td>\n",
              "      <td>766</td>\n",
              "      <td>135</td>\n",
              "    </tr>\n",
              "    <tr>\n",
              "      <th>1</th>\n",
              "      <td>8 things that happen at the dot:  Attribute Access &amp; Descriptors</td>\n",
              "      <td>64</td>\n",
              "      <td>False</td>\n",
              "      <td>8</td>\n",
              "      <td>10</td>\n",
              "      <td>We rarely think about the dot “.” between our objects and their fields, but there are quite a lot of things that happen every time we use one in Python. This talk will explore the details of what ...</td>\n",
              "      <td>296</td>\n",
              "      <td>56</td>\n",
              "    </tr>\n",
              "    <tr>\n",
              "      <th>2</th>\n",
              "      <td>Account Security Patterns: How Logged-In Are you?</td>\n",
              "      <td>49</td>\n",
              "      <td>False</td>\n",
              "      <td>A</td>\n",
              "      <td>7</td>\n",
              "      <td>Account security means making sure your users are only ones who can access their accounts. Account takeovers happen for a variety of reasons -- password re-use, compromised computers, guessable pa...</td>\n",
              "      <td>426</td>\n",
              "      <td>66</td>\n",
              "    </tr>\n",
              "    <tr>\n",
              "      <th>3</th>\n",
              "      <td>Ace Your Technical Interview Using Python</td>\n",
              "      <td>41</td>\n",
              "      <td>False</td>\n",
              "      <td>A</td>\n",
              "      <td>6</td>\n",
              "      <td>Do you feel overwhelmed by the prospect of having to find a new software engineering job because you dread the technical interviewing process? Have you been putting off submitting your job applica...</td>\n",
              "      <td>507</td>\n",
              "      <td>84</td>\n",
              "    </tr>\n",
              "    <tr>\n",
              "      <th>4</th>\n",
              "      <td>Advanced asyncio: Solving Real-world Production Problems</td>\n",
              "      <td>56</td>\n",
              "      <td>False</td>\n",
              "      <td>A</td>\n",
              "      <td>6</td>\n",
              "      <td>Everyone’s talking about it. Everyone’s using it. But most likely, they’re doing it wrong, just like we did.  By building a simplified chaos monkey service, we will walk through how to create a go...</td>\n",
              "      <td>647</td>\n",
              "      <td>96</td>\n",
              "    </tr>\n",
              "  </tbody>\n",
              "</table>\n",
              "</div>"
            ],
            "text/plain": [
              "                                                              title  \\\n",
              "0            5 Steps to Build Python Native GUI Widgets for BeeWare   \n",
              "1  8 things that happen at the dot:  Attribute Access & Descriptors   \n",
              "2                 Account Security Patterns: How Logged-In Are you?   \n",
              "3                         Ace Your Technical Interview Using Python   \n",
              "4          Advanced asyncio: Solving Real-world Production Problems   \n",
              "\n",
              "   title character count  long title first letter  title word count  \\\n",
              "0                     54       False            5                10   \n",
              "1                     64       False            8                10   \n",
              "2                     49       False            A                 7   \n",
              "3                     41       False            A                 6   \n",
              "4                     56       False            A                 6   \n",
              "\n",
              "                                                                                                                                                                                               description  \\\n",
              "0  Have you ever wanted to write a GUI application in Python that you can run on both your laptop and your phone? Have you been looking to contribute to an open source project, but you don't know whe...   \n",
              "1  We rarely think about the dot “.” between our objects and their fields, but there are quite a lot of things that happen every time we use one in Python. This talk will explore the details of what ...   \n",
              "2  Account security means making sure your users are only ones who can access their accounts. Account takeovers happen for a variety of reasons -- password re-use, compromised computers, guessable pa...   \n",
              "3  Do you feel overwhelmed by the prospect of having to find a new software engineering job because you dread the technical interviewing process? Have you been putting off submitting your job applica...   \n",
              "4  Everyone’s talking about it. Everyone’s using it. But most likely, they’re doing it wrong, just like we did.  By building a simplified chaos monkey service, we will walk through how to create a go...   \n",
              "\n",
              "   description character count  description word count  \n",
              "0                          766                     135  \n",
              "1                          296                      56  \n",
              "2                          426                      66  \n",
              "3                          507                      84  \n",
              "4                          647                      96  "
            ]
          },
          "metadata": {
            "tags": []
          },
          "execution_count": 67
        }
      ]
    },
    {
      "metadata": {
        "id": "egXb_uB-INb3",
        "colab_type": "code",
        "colab": {}
      },
      "cell_type": "code",
      "source": [
        "spacing = []\n",
        "for i in df['description']:\n",
        "  z = \" \".join(i.split())\n",
        "  spacing.append(z)\n",
        "df['description'] = pd.DataFrame({\"Description\":spacing})"
      ],
      "execution_count": 0,
      "outputs": []
    },
    {
      "metadata": {
        "id": "Ee1gw0uvu6M-",
        "colab_type": "code",
        "outputId": "fea3d582-2f2e-4c4f-beff-23d8df3ce0ee",
        "colab": {
          "base_uri": "https://localhost:8080/",
          "height": 374
        }
      },
      "cell_type": "code",
      "source": [
        "df['description fkg'] = df['description'].apply(textstat.flesch_kincaid_grade)\n",
        "print(df.shape)\n",
        "df.head()"
      ],
      "execution_count": 69,
      "outputs": [
        {
          "output_type": "stream",
          "text": [
            "(95, 9)\n"
          ],
          "name": "stdout"
        },
        {
          "output_type": "execute_result",
          "data": {
            "text/html": [
              "<div>\n",
              "<style scoped>\n",
              "    .dataframe tbody tr th:only-of-type {\n",
              "        vertical-align: middle;\n",
              "    }\n",
              "\n",
              "    .dataframe tbody tr th {\n",
              "        vertical-align: top;\n",
              "    }\n",
              "\n",
              "    .dataframe thead th {\n",
              "        text-align: right;\n",
              "    }\n",
              "</style>\n",
              "<table border=\"1\" class=\"dataframe\">\n",
              "  <thead>\n",
              "    <tr style=\"text-align: right;\">\n",
              "      <th></th>\n",
              "      <th>title</th>\n",
              "      <th>title character count</th>\n",
              "      <th>long title</th>\n",
              "      <th>first letter</th>\n",
              "      <th>title word count</th>\n",
              "      <th>description</th>\n",
              "      <th>description character count</th>\n",
              "      <th>description word count</th>\n",
              "      <th>description fkg</th>\n",
              "    </tr>\n",
              "  </thead>\n",
              "  <tbody>\n",
              "    <tr>\n",
              "      <th>0</th>\n",
              "      <td>5 Steps to Build Python Native GUI Widgets for BeeWare</td>\n",
              "      <td>54</td>\n",
              "      <td>False</td>\n",
              "      <td>5</td>\n",
              "      <td>10</td>\n",
              "      <td>Have you ever wanted to write a GUI application in Python that you can run on both your laptop and your phone? Have you been looking to contribute to an open source project, but you don't know whe...</td>\n",
              "      <td>766</td>\n",
              "      <td>135</td>\n",
              "      <td>9.7</td>\n",
              "    </tr>\n",
              "    <tr>\n",
              "      <th>1</th>\n",
              "      <td>8 things that happen at the dot:  Attribute Access &amp; Descriptors</td>\n",
              "      <td>64</td>\n",
              "      <td>False</td>\n",
              "      <td>8</td>\n",
              "      <td>10</td>\n",
              "      <td>We rarely think about the dot “.” between our objects and their fields, but there are quite a lot of things that happen every time we use one in Python. This talk will explore the details of what ...</td>\n",
              "      <td>296</td>\n",
              "      <td>56</td>\n",
              "      <td>10.7</td>\n",
              "    </tr>\n",
              "    <tr>\n",
              "      <th>2</th>\n",
              "      <td>Account Security Patterns: How Logged-In Are you?</td>\n",
              "      <td>49</td>\n",
              "      <td>False</td>\n",
              "      <td>A</td>\n",
              "      <td>7</td>\n",
              "      <td>Account security means making sure your users are only ones who can access their accounts. Account takeovers happen for a variety of reasons -- password re-use, compromised computers, guessable pa...</td>\n",
              "      <td>426</td>\n",
              "      <td>66</td>\n",
              "      <td>8.5</td>\n",
              "    </tr>\n",
              "    <tr>\n",
              "      <th>3</th>\n",
              "      <td>Ace Your Technical Interview Using Python</td>\n",
              "      <td>41</td>\n",
              "      <td>False</td>\n",
              "      <td>A</td>\n",
              "      <td>6</td>\n",
              "      <td>Do you feel overwhelmed by the prospect of having to find a new software engineering job because you dread the technical interviewing process? Have you been putting off submitting your job applica...</td>\n",
              "      <td>507</td>\n",
              "      <td>84</td>\n",
              "      <td>11.8</td>\n",
              "    </tr>\n",
              "    <tr>\n",
              "      <th>4</th>\n",
              "      <td>Advanced asyncio: Solving Real-world Production Problems</td>\n",
              "      <td>56</td>\n",
              "      <td>False</td>\n",
              "      <td>A</td>\n",
              "      <td>6</td>\n",
              "      <td>Everyone’s talking about it. Everyone’s using it. But most likely, they’re doing it wrong, just like we did. By building a simplified chaos monkey service, we will walk through how to create a goo...</td>\n",
              "      <td>647</td>\n",
              "      <td>96</td>\n",
              "      <td>9.5</td>\n",
              "    </tr>\n",
              "  </tbody>\n",
              "</table>\n",
              "</div>"
            ],
            "text/plain": [
              "                                                              title  \\\n",
              "0            5 Steps to Build Python Native GUI Widgets for BeeWare   \n",
              "1  8 things that happen at the dot:  Attribute Access & Descriptors   \n",
              "2                 Account Security Patterns: How Logged-In Are you?   \n",
              "3                         Ace Your Technical Interview Using Python   \n",
              "4          Advanced asyncio: Solving Real-world Production Problems   \n",
              "\n",
              "   title character count  long title first letter  title word count  \\\n",
              "0                     54       False            5                10   \n",
              "1                     64       False            8                10   \n",
              "2                     49       False            A                 7   \n",
              "3                     41       False            A                 6   \n",
              "4                     56       False            A                 6   \n",
              "\n",
              "                                                                                                                                                                                               description  \\\n",
              "0  Have you ever wanted to write a GUI application in Python that you can run on both your laptop and your phone? Have you been looking to contribute to an open source project, but you don't know whe...   \n",
              "1  We rarely think about the dot “.” between our objects and their fields, but there are quite a lot of things that happen every time we use one in Python. This talk will explore the details of what ...   \n",
              "2  Account security means making sure your users are only ones who can access their accounts. Account takeovers happen for a variety of reasons -- password re-use, compromised computers, guessable pa...   \n",
              "3  Do you feel overwhelmed by the prospect of having to find a new software engineering job because you dread the technical interviewing process? Have you been putting off submitting your job applica...   \n",
              "4  Everyone’s talking about it. Everyone’s using it. But most likely, they’re doing it wrong, just like we did. By building a simplified chaos monkey service, we will walk through how to create a goo...   \n",
              "\n",
              "   description character count  description word count  description fkg  \n",
              "0                          766                     135              9.7  \n",
              "1                          296                      56             10.7  \n",
              "2                          426                      66              8.5  \n",
              "3                          507                      84             11.8  \n",
              "4                          647                      96              9.5  "
            ]
          },
          "metadata": {
            "tags": []
          },
          "execution_count": 69
        }
      ]
    },
    {
      "metadata": {
        "id": "gfU8gL2QvbkP",
        "colab_type": "code",
        "outputId": "b97558dd-b97a-4663-d9c4-933cbedac4b1",
        "colab": {
          "base_uri": "https://localhost:8080/",
          "height": 347
        }
      },
      "cell_type": "code",
      "source": [
        "title = \"Flesch Kincaid Grades of Presentation Descriptions: PyCon 2019\"\n",
        "df['description fkg'].plot.hist(bins = 25);"
      ],
      "execution_count": 70,
      "outputs": [
        {
          "output_type": "display_data",
          "data": {
            "image/png": "[encoded data removed]",
            "text/plain": [
              "<Figure size 576x396 with 1 Axes>"
            ]
          },
          "metadata": {
            "tags": []
          }
        }
      ]
    },
    {
      "metadata": {
        "id": "zjl-KcjTFnlR",
        "colab_type": "code",
        "outputId": "3e11ef8f-0cfc-415f-f2f8-d3c0ce791536",
        "colab": {
          "base_uri": "https://localhost:8080/",
          "height": 34
        }
      },
      "cell_type": "code",
      "source": [
        "#I'm a proof of concept for reference\n",
        "\n",
        "\"\"\"s = df['description']\n",
        "m = \" \".join(s[29].split())\n",
        "textstat.flesch_kincaid_grade(m)\"\"\""
      ],
      "execution_count": 71,
      "outputs": [
        {
          "output_type": "execute_result",
          "data": {
            "text/plain": [
              "'s = df[\\'description\\']\\nm = \" \".join(s[29].split())\\ntextstat.flesch_kincaid_grade(m)'"
            ]
          },
          "metadata": {
            "tags": []
          },
          "execution_count": 71
        }
      ]
    },
    {
      "metadata": {
        "id": "yoIV1APIBkGa",
        "colab_type": "code",
        "colab": {
          "base_uri": "https://localhost:8080/",
          "height": 34
        },
        "outputId": "6816218d-c8de-47f1-8929-061f2fa3f132"
      },
      "cell_type": "code",
      "source": [
        "#I'm here to prove that there is nothing off with the Dataset\n",
        "\n",
        "oddity = df [df['description fkg'] >20]\n",
        "oddity['description']"
      ],
      "execution_count": 72,
      "outputs": [
        {
          "output_type": "execute_result",
          "data": {
            "text/plain": [
              "Series([], Name: description, dtype: object)"
            ]
          },
          "metadata": {
            "tags": []
          },
          "execution_count": 72
        }
      ]
    },
    {
      "metadata": {
        "id": "mPlS1klD9Sb4",
        "colab_type": "code",
        "outputId": "8ca8fdef-6520-4ea3-83b6-29e3bd4759f9",
        "colab": {
          "base_uri": "https://localhost:8080/",
          "height": 241
        }
      },
      "cell_type": "code",
      "source": [
        "#I'm the hardest description to read apparently. \n",
        "\n",
        "print(df.sort_values(by='description fkg').tail(1)['title'])\n",
        "df.iloc[46]\n"
      ],
      "execution_count": 73,
      "outputs": [
        {
          "output_type": "stream",
          "text": [
            "46    Instant serverless APIs, powered by SQLite\n",
            "Name: title, dtype: object\n"
          ],
          "name": "stdout"
        },
        {
          "output_type": "execute_result",
          "data": {
            "text/plain": [
              "title                                                                                                                                                                                       Instant serverless APIs, powered by SQLite\n",
              "title character count                                                                                                                                                                                                               42\n",
              "long title                                                                                                                                                                                                                       False\n",
              "first letter                                                                                                                                                                                                                         I\n",
              "title word count                                                                                                                                                                                                                     6\n",
              "description                    Serverless computing is all about paying only for what you use: it can scale up to handle millions of requests, but it can also scale down to 0, costing you nothing if your application is not rece...\n",
              "description character count                                                                                                                                                                                                       2157\n",
              "description word count                                                                                                                                                                                                             311\n",
              "description fkg                                                                                                                                                                                                                   19.6\n",
              "Name: 46, dtype: object"
            ]
          },
          "metadata": {
            "tags": []
          },
          "execution_count": 73
        }
      ]
    },
    {
      "metadata": {
        "id": "-OApIyhd-fJq",
        "colab_type": "code",
        "colab": {}
      },
      "cell_type": "code",
      "source": [
        "#Legacy for some wet code problems\n",
        "#cleanup_dict = {'\\r\\n1':' ','\\r\\n':' '}\n",
        "#s.str.replace(cleanup_dict)"
      ],
      "execution_count": 0,
      "outputs": []
    }
  ]
}