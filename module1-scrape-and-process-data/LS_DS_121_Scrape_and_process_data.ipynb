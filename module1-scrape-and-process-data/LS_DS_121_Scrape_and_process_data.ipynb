{
 "cells": [
  {
   "cell_type": "markdown",
   "metadata": {
    "colab_type": "text",
    "id": "oR4Yeg3P07gu"
   },
   "source": [
    "_Lambda School Data Science_\n",
    "\n",
    "# Scrape and process data\n",
    "\n",
    "Objectives\n",
    "- scrape and parse web pages\n",
    "- use list comprehensions\n",
    "- select rows and columns with pandas\n",
    "\n",
    "Links\n",
    "-  [Automate the Boring Stuff with Python, Chapter 11](https://automatetheboringstuff.com/chapter11/)\n",
    "  - Requests\n",
    "  - Beautiful Soup\n",
    "- [Python List Comprehensions: Explained Visually](https://treyhunner.com/2015/12/python-list-comprehensions-now-in-color/)\n",
    "- [Pandas Cheat Sheet](https://github.com/pandas-dev/pandas/blob/master/doc/cheatsheet/Pandas_Cheat_Sheet.pdf)\n",
    "  - Subset Observations (Rows)\n",
    "  - Subset Variables (Columns)\n",
    "- Python Data Science Handbook\n",
    "  - [Chapter 3.1](https://jakevdp.github.io/PythonDataScienceHandbook/03.01-introducing-pandas-objects.html), Introducing Pandas Objects\n",
    "  - [Chapter 3.2](https://jakevdp.github.io/PythonDataScienceHandbook/03.02-data-indexing-and-selection.html), Data Indexing and Selection\n"
   ]
  },
  {
   "cell_type": "markdown",
   "metadata": {
    "colab_type": "text",
    "id": "I_NRVchqgGvM"
   },
   "source": [
    "## Scrape the titles of PyCon 2019 talks"
   ]
  },
  {
   "cell_type": "code",
   "execution_count": 1,
   "metadata": {
    "colab": {},
    "colab_type": "code",
    "id": "3elw_8Nc7Tpe"
   },
   "outputs": [],
   "source": [
    "url = 'https://us.pycon.org/2019/schedule/talks/list/'"
   ]
  },
  {
   "cell_type": "code",
   "execution_count": 4,
   "metadata": {
    "colab": {},
    "colab_type": "code",
    "id": "SFNsyjVsTU4b"
   },
   "outputs": [],
   "source": [
    "import bs4\n",
    "import requests\n",
    "\n",
    "result = requests.get(url)"
   ]
  },
  {
   "cell_type": "code",
   "execution_count": 7,
   "metadata": {},
   "outputs": [],
   "source": [
    "soup = bs4.BeautifulSoup(result.text)"
   ]
  },
  {
   "cell_type": "code",
   "execution_count": 12,
   "metadata": {},
   "outputs": [],
   "source": [
    "first = soup.select('h2 a')[0]"
   ]
  },
  {
   "cell_type": "code",
   "execution_count": 17,
   "metadata": {},
   "outputs": [
    {
     "data": {
      "text/plain": [
       "'5 Steps to Build Python Native GUI Widgets for BeeWare'"
      ]
     },
     "execution_count": 17,
     "metadata": {},
     "output_type": "execute_result"
    }
   ],
   "source": [
    "first.text.strip()"
   ]
  },
  {
   "cell_type": "code",
   "execution_count": 20,
   "metadata": {},
   "outputs": [
    {
     "data": {
      "text/plain": [
       "\"Working with Time Zones: Everything You Wish You Didn't Need to Know\""
      ]
     },
     "execution_count": 20,
     "metadata": {},
     "output_type": "execute_result"
    }
   ],
   "source": [
    "last = soup.select('h2 a')[-1]\n",
    "last.text.strip()"
   ]
  },
  {
   "cell_type": "code",
   "execution_count": 27,
   "metadata": {},
   "outputs": [
    {
     "data": {
      "text/plain": [
       "['5 Steps to Build Python Native GUI Widgets for BeeWare',\n",
       " '8 things that happen at the dot:  Attribute Access & Descriptors',\n",
       " 'Account Security Patterns: How Logged-In Are you?',\n",
       " 'Ace Your Technical Interview Using Python',\n",
       " 'Advanced asyncio: Solving Real-world Production Problems',\n",
       " 'A Guide to Software Engineering for Visually Impaired',\n",
       " 'A Medieval DSL? Parsing Heraldic Blazons with Python!',\n",
       " 'A New Era in Python Governance',\n",
       " 'API Evolution the Right Way',\n",
       " 'A Right Stitch-up: Creating embroidery patterns with Pillow',\n",
       " 'A Snake in the Bits: Security Automation with Python',\n",
       " 'Assets in Django without losing your hair',\n",
       " 'Attracting the Invisible Contributors',\n",
       " 'Beyond Two Groups: Generalized Bayesian A/B[/C/D/E...] Testing',\n",
       " 'Break the Cycle: Three excellent Python tools to automate repetitive tasks',\n",
       " 'Building a Culture of Observability',\n",
       " 'Building an Open Source Artificial Pancreas',\n",
       " 'Building reproducible Python applications for secured environments',\n",
       " 'But, Why is the (Django) Admin Slow?',\n",
       " 'Coded Readers: Using Python to uncover surprising patterns in the books you love',\n",
       " 'Code Review Skills for Pythonistas',\n",
       " 'CUDA in your Python: Effective Parallel Programming on the GPU',\n",
       " \"Dependency hell: a library author's guide\",\n",
       " 'Django Channels in practice',\n",
       " 'Does remote work really work?',\n",
       " \"Don't be a robot, build the bot\",\n",
       " 'Eita! Why Internationalization and Localization matter',\n",
       " 'Engineering Ethics and Open Source Software',\n",
       " 'Ensuring Safe Water Access with Python and Machine Learning',\n",
       " 'Escape from auto-manual testing with Hypothesis!',\n",
       " '¡Escuincla babosa!: Creating a telenovela script in three Python deep learning frameworks',\n",
       " \"Everything at Once: Python's Many Concurrency Models\",\n",
       " 'Exceptional Exceptions - How to properly raise, handle and create them.',\n",
       " 'Extracting tabular data from PDFs with Camelot & Excalibur',\n",
       " 'Fighting Climate Change with Python',\n",
       " 'Floats are Friends: making the most of IEEE754.00000000000000002',\n",
       " 'From days to minutes, from minutes to milliseconds with SQLAlchemy',\n",
       " 'Getting Started Testing in Data Science',\n",
       " 'Getting started with Deep Learning: Using Keras & Numpy to detect voice disorders',\n",
       " 'Getting to Three Million Lines of Type-Annotated Python',\n",
       " 'Going from 2 to 3 on Windows, macOS and Linux',\n",
       " \"Help! I'm now the leader of our Meetup group!\",\n",
       " 'How to Build a Clinical Diagnostic Model in Python',\n",
       " 'How to engage Python contributors in the long term? Tech is easy, people are hard.',\n",
       " 'How to JIT: Writing a Python JIT from scratch in pure Python',\n",
       " 'How to Think about Data Visualization',\n",
       " 'Instant serverless APIs, powered by SQLite',\n",
       " 'Intentional Deployment: Best Practices for Feature Flag Management',\n",
       " 'Lessons learned from building a community of Python users among thousands of analysts',\n",
       " 'Leveraging the Type System to Write Secure Applications',\n",
       " 'Life Is Better Painted Black, or: How to Stop Worrying and Embrace Auto-Formatting',\n",
       " 'Lowering the Stakes of Failure with Pre-mortems and Post-mortems',\n",
       " 'Machine learning model and dataset versioning practices',\n",
       " 'Maintaining a Python Project When It’s Not Your Job',\n",
       " 'Making Music with Python, SuperCollider and FoxDot',\n",
       " 'Measures and Mismeasures of algorithmic fairness',\n",
       " 'Measuring Model Fairness',\n",
       " 'Migrating Pinterest from Python2 to Python3',\n",
       " 'Mocking and Patching Pitfalls',\n",
       " 'Modern solvers: Problems well-defined are problems solved',\n",
       " 'One Engineer, an API, and an MVP: Or, how I spent one hour improving hiring data at my company.',\n",
       " 'Plan your next eclipse viewing with Jupyter and geopandas',\n",
       " 'Plugins: Adding Flexibility to Your Apps',\n",
       " 'Plug-n-Stream Player Piano: Signal Processing With Python',\n",
       " 'Practical decorators',\n",
       " 'Programmatic Notebooks with papermill',\n",
       " 'Put down the deep learning: When not to use neural networks and what to do instead',\n",
       " 'Python on Windows is Okay, Actually',\n",
       " 'Python Security Tools',\n",
       " \"Releasing the World's Largest Python Site Every 7 Minutes\",\n",
       " 'Rescuing Kerala with Python',\n",
       " 'Scraping a Million Pokemon Battles: Distributed Systems By Example',\n",
       " \"Set Practice: learning from Python's set types\",\n",
       " 'Statistical Profiling (and other fun with the sys module)',\n",
       " 'Strategies for testing Async code',\n",
       " 'Supporting Engineers with Mental Health Issues',\n",
       " 'Syntax Trees and Python - Automated Code Transformations',\n",
       " 'Take Back the Web with GraphQL',\n",
       " 'Terrain, Art, Python and LiDAR',\n",
       " 'The Black Magic of Python Wheels',\n",
       " 'The Perils of Inheritance: Why We Should Prefer Composition',\n",
       " 'The Refactoring Balance Beam: When to Make Changes and When to Leave it Alone',\n",
       " 'The Zen of Python Teams',\n",
       " 'Things I Wish They Told Me About The Multiprocessing Module in Python 3',\n",
       " 'Thinking Inside the Box: How Python Helped Us Adapt to An Existing Data Ingestion Pipeline',\n",
       " 'Thinking like a Panda: Everything you need to know to use pandas the right way.',\n",
       " 'Thoth - how to recommend the best possible libraries for your application',\n",
       " 'Time to take out the rubbish: garbage collector',\n",
       " 'to GIL or not to GIL: the Future of Multi-Core (C)Python',\n",
       " 'Type hinting (and mypy)',\n",
       " 'Understanding Python’s Debugging Internals',\n",
       " 'What is a PLC and how do I talk Python to it?',\n",
       " \"What's new in Python 3.7\",\n",
       " 'Wily Python: Writing simpler and more maintainable Python',\n",
       " \"Working with Time Zones: Everything You Wish You Didn't Need to Know\"]"
      ]
     },
     "execution_count": 27,
     "metadata": {},
     "output_type": "execute_result"
    }
   ],
   "source": [
    "titles = soup.select('h2 a')\n",
    "titlesStr = [x.text.strip() for x in titles]\n",
    "titlesStr"
   ]
  },
  {
   "cell_type": "markdown",
   "metadata": {
    "colab_type": "text",
    "id": "vqkNgAzYpeK7"
   },
   "source": [
    "## 5 ways to look at long titles\n",
    "\n",
    "Let's define a long title as greater than 80 characters"
   ]
  },
  {
   "cell_type": "markdown",
   "metadata": {
    "colab_type": "text",
    "id": "N7tqeZh14Fws"
   },
   "source": [
    "### 1. For Loop"
   ]
  },
  {
   "cell_type": "code",
   "execution_count": 0,
   "metadata": {
    "colab": {},
    "colab_type": "code",
    "id": "kKxs5tqDApuZ"
   },
   "outputs": [],
   "source": []
  },
  {
   "cell_type": "markdown",
   "metadata": {
    "colab_type": "text",
    "id": "I21jcEnK4IN7"
   },
   "source": [
    "### 2. List Comprehension"
   ]
  },
  {
   "cell_type": "code",
   "execution_count": 29,
   "metadata": {
    "colab": {},
    "colab_type": "code",
    "id": "qaXe9UldAs3H"
   },
   "outputs": [
    {
     "data": {
      "text/plain": [
       "['¡Escuincla babosa!: Creating a telenovela script in three Python deep learning frameworks',\n",
       " 'Getting started with Deep Learning: Using Keras & Numpy to detect voice disorders',\n",
       " 'How to engage Python contributors in the long term? Tech is easy, people are hard.',\n",
       " 'Lessons learned from building a community of Python users among thousands of analysts',\n",
       " 'Life Is Better Painted Black, or: How to Stop Worrying and Embrace Auto-Formatting',\n",
       " 'One Engineer, an API, and an MVP: Or, how I spent one hour improving hiring data at my company.',\n",
       " 'Put down the deep learning: When not to use neural networks and what to do instead',\n",
       " 'Thinking Inside the Box: How Python Helped Us Adapt to An Existing Data Ingestion Pipeline']"
      ]
     },
     "execution_count": 29,
     "metadata": {},
     "output_type": "execute_result"
    }
   ],
   "source": [
    "ltitles = [x for x in titlesStr if len(x) > 80 ]\n",
    "ltitles"
   ]
  },
  {
   "cell_type": "markdown",
   "metadata": {
    "colab_type": "text",
    "id": "2kn8pxL-4yMG"
   },
   "source": [
    "### 3. Filter with named function"
   ]
  },
  {
   "cell_type": "code",
   "execution_count": 0,
   "metadata": {
    "colab": {},
    "colab_type": "code",
    "id": "ywLqqFJNAvFm"
   },
   "outputs": [],
   "source": []
  },
  {
   "cell_type": "markdown",
   "metadata": {
    "colab_type": "text",
    "id": "IPIT6oXz40Q3"
   },
   "source": [
    "### 4. Filter with anonymous function"
   ]
  },
  {
   "cell_type": "code",
   "execution_count": 0,
   "metadata": {
    "colab": {},
    "colab_type": "code",
    "id": "giIcFYkiAwiR"
   },
   "outputs": [],
   "source": []
  },
  {
   "cell_type": "markdown",
   "metadata": {
    "colab_type": "text",
    "id": "qj8Yod8_45z4"
   },
   "source": [
    "### 5. Pandas\n",
    "\n",
    "pandas documentation: [Working with Text Data](https://pandas.pydata.org/pandas-docs/stable/text.html)"
   ]
  },
  {
   "cell_type": "code",
   "execution_count": 0,
   "metadata": {
    "colab": {},
    "colab_type": "code",
    "id": "yRwPEHNcAzc_"
   },
   "outputs": [],
   "source": []
  },
  {
   "cell_type": "markdown",
   "metadata": {
    "colab_type": "text",
    "id": "8YaUZJvRp681"
   },
   "source": [
    "## Make new dataframe columns\n",
    "\n",
    "pandas documentation: [apply](https://pandas.pydata.org/pandas-docs/stable/generated/pandas.Series.apply.html)"
   ]
  },
  {
   "cell_type": "code",
   "execution_count": 0,
   "metadata": {
    "colab": {},
    "colab_type": "code",
    "id": "DR_WZ-olA4-v"
   },
   "outputs": [],
   "source": []
  },
  {
   "cell_type": "markdown",
   "metadata": {
    "colab_type": "text",
    "id": "Ua74pMrGrsZR"
   },
   "source": [
    "### title length"
   ]
  },
  {
   "cell_type": "code",
   "execution_count": 0,
   "metadata": {
    "colab": {},
    "colab_type": "code",
    "id": "p-Euz7tgA8Fd"
   },
   "outputs": [],
   "source": []
  },
  {
   "cell_type": "markdown",
   "metadata": {
    "colab_type": "text",
    "id": "OgsKArXPrz5n"
   },
   "source": [
    "### long title"
   ]
  },
  {
   "cell_type": "code",
   "execution_count": 0,
   "metadata": {
    "colab": {},
    "colab_type": "code",
    "id": "b_WCRvvKA-IP"
   },
   "outputs": [],
   "source": []
  },
  {
   "cell_type": "markdown",
   "metadata": {
    "colab_type": "text",
    "id": "TonCXYPesUsT"
   },
   "source": [
    "### first letter"
   ]
  },
  {
   "cell_type": "code",
   "execution_count": 0,
   "metadata": {
    "colab": {},
    "colab_type": "code",
    "id": "fhO4aABpBBgA"
   },
   "outputs": [],
   "source": []
  },
  {
   "cell_type": "markdown",
   "metadata": {
    "colab_type": "text",
    "id": "Etz1XeLKs6DL"
   },
   "source": [
    "### word count\n",
    "\n",
    "Using [`textstat`](https://github.com/shivam5992/textstat)"
   ]
  },
  {
   "cell_type": "code",
   "execution_count": 0,
   "metadata": {
    "colab": {},
    "colab_type": "code",
    "id": "GVIkRWchs4zR"
   },
   "outputs": [],
   "source": [
    "!pip install textstat"
   ]
  },
  {
   "cell_type": "code",
   "execution_count": 0,
   "metadata": {
    "colab": {},
    "colab_type": "code",
    "id": "mY_M_MuaBFrF"
   },
   "outputs": [],
   "source": []
  },
  {
   "cell_type": "markdown",
   "metadata": {
    "colab_type": "text",
    "id": "UN_7FABhwDqc"
   },
   "source": [
    "## Rename column\n",
    "\n",
    "`title length` --> `title character count`\n",
    "\n",
    "pandas documentation: [rename](https://pandas.pydata.org/pandas-docs/stable/generated/pandas.DataFrame.rename.html)"
   ]
  },
  {
   "cell_type": "code",
   "execution_count": 0,
   "metadata": {
    "colab": {},
    "colab_type": "code",
    "id": "jvTif7sBBMpN"
   },
   "outputs": [],
   "source": []
  },
  {
   "cell_type": "markdown",
   "metadata": {
    "colab_type": "text",
    "id": "ca2pDtytr5tR"
   },
   "source": [
    "## Analyze the dataframe"
   ]
  },
  {
   "cell_type": "markdown",
   "metadata": {
    "colab_type": "text",
    "id": "AitNVDCFwWwc"
   },
   "source": [
    "### Describe\n",
    "\n",
    "pandas documentation: [describe](https://pandas.pydata.org/pandas-docs/stable/generated/pandas.DataFrame.describe.html)"
   ]
  },
  {
   "cell_type": "code",
   "execution_count": 0,
   "metadata": {
    "colab": {},
    "colab_type": "code",
    "id": "yPo9RdxYBQ64"
   },
   "outputs": [],
   "source": []
  },
  {
   "cell_type": "markdown",
   "metadata": {
    "colab_type": "text",
    "id": "T0lc_o-xyjZU"
   },
   "source": [
    "### Sort values\n",
    "\n",
    "pandas documentation: [sort_values](https://pandas.pydata.org/pandas-docs/stable/generated/pandas.DataFrame.sort_values.html)"
   ]
  },
  {
   "cell_type": "markdown",
   "metadata": {
    "colab_type": "text",
    "id": "kxE2swJ9-cG_"
   },
   "source": [
    "Five shortest titles, by character count"
   ]
  },
  {
   "cell_type": "code",
   "execution_count": 0,
   "metadata": {
    "colab": {},
    "colab_type": "code",
    "id": "7t8DlpLhBVQa"
   },
   "outputs": [],
   "source": []
  },
  {
   "cell_type": "markdown",
   "metadata": {
    "colab_type": "text",
    "id": "NOEH4Ef5-kvo"
   },
   "source": [
    "Titles sorted reverse alphabetically"
   ]
  },
  {
   "cell_type": "code",
   "execution_count": 0,
   "metadata": {
    "colab": {},
    "colab_type": "code",
    "id": "WkymeWDjBV8X"
   },
   "outputs": [],
   "source": []
  },
  {
   "cell_type": "markdown",
   "metadata": {
    "colab_type": "text",
    "id": "e4wr42FB0GV-"
   },
   "source": [
    "### Get value counts\n",
    "\n",
    "pandas documentation: [value_counts](https://pandas.pydata.org/pandas-docs/stable/generated/pandas.Series.value_counts.html)\n"
   ]
  },
  {
   "cell_type": "markdown",
   "metadata": {
    "colab_type": "text",
    "id": "D81LNGaI-6ya"
   },
   "source": [
    "Frequency counts of first letters"
   ]
  },
  {
   "cell_type": "code",
   "execution_count": 0,
   "metadata": {
    "colab": {},
    "colab_type": "code",
    "id": "AdTQYsRKBZio"
   },
   "outputs": [],
   "source": []
  },
  {
   "cell_type": "markdown",
   "metadata": {
    "colab_type": "text",
    "id": "04NVokvTAwqK"
   },
   "source": [
    "Percentage of talks with long titles"
   ]
  },
  {
   "cell_type": "code",
   "execution_count": 0,
   "metadata": {
    "colab": {},
    "colab_type": "code",
    "id": "uS8qp4hrBat6"
   },
   "outputs": [],
   "source": []
  },
  {
   "cell_type": "markdown",
   "metadata": {
    "colab_type": "text",
    "id": "mmYZL2QL0lgd"
   },
   "source": [
    "### Plot\n",
    "\n",
    "pandas documentation: [Visualization](https://pandas.pydata.org/pandas-docs/stable/visualization.html)\n",
    "\n",
    "\n",
    "\n"
   ]
  },
  {
   "cell_type": "markdown",
   "metadata": {
    "colab_type": "text",
    "id": "c6gCotA9_B68"
   },
   "source": [
    "Top 5 most frequent first letters"
   ]
  },
  {
   "cell_type": "code",
   "execution_count": 0,
   "metadata": {
    "colab": {},
    "colab_type": "code",
    "id": "DUmcVcdXBdkw"
   },
   "outputs": [],
   "source": []
  },
  {
   "cell_type": "markdown",
   "metadata": {
    "colab_type": "text",
    "id": "_Ngegk0bASty"
   },
   "source": [
    "Histogram of title lengths, in characters"
   ]
  },
  {
   "cell_type": "code",
   "execution_count": 0,
   "metadata": {
    "colab": {},
    "colab_type": "code",
    "id": "y5oLu2D4BeKw"
   },
   "outputs": [],
   "source": []
  },
  {
   "cell_type": "markdown",
   "metadata": {
    "colab_type": "text",
    "id": "DiylH7LQw44u"
   },
   "source": [
    "# Assignment\n",
    "\n",
    "**Scrape** the talk descriptions. Hint: `soup.select('.presentation-description')`\n",
    "\n",
    "**Make** new columns in the dataframe:\n",
    "- description\n",
    "- description character count\n",
    "- description word count\n",
    "\n",
    "**Describe** all the dataframe's columns. What's the average description word count? The minimum? The maximum?\n",
    "\n",
    "**Answer** the question: Which descriptions could fit in a tweet?\n",
    "\n",
    "\n",
    "# Stretch Challenge\n",
    "\n",
    "**Make** another new column in the dataframe:\n",
    "- description grade level (you can use [this `textstat` function](https://github.com/shivam5992/textstat#the-flesch-kincaid-grade-level) to get the Flesh-Kincaid grade level)\n",
    "\n",
    "**Answer** the question: What's the distribution of grade levels? Plot a histogram.\n",
    "\n",
    "**Be aware** that [Textstat has issues when sentences aren't separated by spaces](https://github.com/shivam5992/textstat/issues/77#issuecomment-453734048). (A Lambda School Data Science student helped identify this issue, and emailed with the developer.) \n",
    "\n",
    "Also, [BeautifulSoup doesn't separate paragraph tags with spaces](https://bugs.launchpad.net/beautifulsoup/+bug/1768330).\n",
    "\n",
    "So, you may get some inaccurate or surprising grade level estimates here. Don't worry, that's ok — but optionally, can you do anything to try improving the grade level estimates?"
   ]
  }
 ],
 "metadata": {
  "colab": {
   "collapsed_sections": [],
   "name": "LS_DS_121_Scrape_and_process_data.ipynb",
   "provenance": [],
   "version": "0.3.2"
  },
  "kernelspec": {
   "display_name": "Python 3",
   "language": "python",
   "name": "python3"
  },
  "language_info": {
   "codemirror_mode": {
    "name": "ipython",
    "version": 3
   },
   "file_extension": ".py",
   "mimetype": "text/x-python",
   "name": "python",
   "nbconvert_exporter": "python",
   "pygments_lexer": "ipython3",
   "version": "3.7.2"
  }
 },
 "nbformat": 4,
 "nbformat_minor": 1
}
