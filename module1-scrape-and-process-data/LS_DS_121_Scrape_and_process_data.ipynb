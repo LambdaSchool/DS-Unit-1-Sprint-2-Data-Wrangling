{
  "nbformat": 4,
  "nbformat_minor": 0,
  "metadata": {
    "colab": {
      "name": "LS_DS_121_Scrape_and_process_data.ipynb",
      "version": "0.3.2",
      "provenance": [],
      "collapsed_sections": [],
      "include_colab_link": true
    },
    "kernelspec": {
      "name": "python3",
      "display_name": "Python 3"
    }
  },
  "cells": [
    {
      "cell_type": "markdown",
      "metadata": {
        "id": "view-in-github",
        "colab_type": "text"
      },
      "source": [
        "<a href=\"https://colab.research.google.com/github/trista-paul/DS-Unit-1-Sprint-2-Data-Wrangling/blob/master/module1-scrape-and-process-data/LS_DS_121_Scrape_and_process_data.ipynb\" target=\"_parent\"><img src=\"https://colab.research.google.com/assets/colab-badge.svg\" alt=\"Open In Colab\"/></a>"
      ]
    },
    {
      "metadata": {
        "id": "oR4Yeg3P07gu",
        "colab_type": "text"
      },
      "cell_type": "markdown",
      "source": [
        "_Lambda School Data Science_\n",
        "\n",
        "# Scrape and process data\n",
        "\n",
        "Objectives\n",
        "- scrape and parse web pages\n",
        "- use list comprehensions\n",
        "- select rows and columns with pandas\n",
        "\n",
        "Links\n",
        "-  [Automate the Boring Stuff with Python, Chapter 11](https://automatetheboringstuff.com/chapter11/)\n",
        "  - Requests\n",
        "  - Beautiful Soup\n",
        "- [Python List Comprehensions: Explained Visually](https://treyhunner.com/2015/12/python-list-comprehensions-now-in-color/)\n",
        "- [Pandas Cheat Sheet](https://github.com/pandas-dev/pandas/blob/master/doc/cheatsheet/Pandas_Cheat_Sheet.pdf)\n",
        "  - Subset Observations (Rows)\n",
        "  - Subset Variables (Columns)\n",
        "- Python Data Science Handbook\n",
        "  - [Chapter 3.1](https://jakevdp.github.io/PythonDataScienceHandbook/03.01-introducing-pandas-objects.html), Introducing Pandas Objects\n",
        "  - [Chapter 3.2](https://jakevdp.github.io/PythonDataScienceHandbook/03.02-data-indexing-and-selection.html), Data Indexing and Selection\n"
      ]
    },
    {
      "metadata": {
        "id": "I_NRVchqgGvM",
        "colab_type": "text"
      },
      "cell_type": "markdown",
      "source": [
        "## Scrape the titles of PyCon 2018 talks"
      ]
    },
    {
      "metadata": {
        "id": "3elw_8Nc7Tpe",
        "colab_type": "code",
        "colab": {}
      },
      "cell_type": "code",
      "source": [
        "url = 'https://us.pycon.org/2018/schedule/talks/list/'\n",
        "import bs4\n",
        "import requests\n",
        "result = requests.get(url)\n",
        "type(result.text) #confirms str"
      ],
      "execution_count": 0,
      "outputs": []
    },
    {
      "metadata": {
        "id": "SFNsyjVsTU4b",
        "colab_type": "code",
        "colab": {
          "base_uri": "https://localhost:8080/",
          "height": 34
        },
        "outputId": "cd6be5ab-3ecd-41bf-86ac-eb83c3105995"
      },
      "cell_type": "code",
      "source": [
        "result #successful"
      ],
      "execution_count": 3,
      "outputs": [
        {
          "output_type": "execute_result",
          "data": {
            "text/plain": [
              "<Response [200]>"
            ]
          },
          "metadata": {
            "tags": []
          },
          "execution_count": 3
        }
      ]
    },
    {
      "metadata": {
        "id": "6nTZRoNZXPe2",
        "colab_type": "code",
        "colab": {
          "base_uri": "https://localhost:8080/",
          "height": 34
        },
        "outputId": "b1571e14-074c-48b4-bb09-501168682b6e"
      },
      "cell_type": "code",
      "source": [
        "type(result)"
      ],
      "execution_count": 4,
      "outputs": [
        {
          "output_type": "execute_result",
          "data": {
            "text/plain": [
              "requests.models.Response"
            ]
          },
          "metadata": {
            "tags": []
          },
          "execution_count": 4
        }
      ]
    },
    {
      "metadata": {
        "id": "1bWUmYO_Xka3",
        "colab_type": "code",
        "colab": {
          "base_uri": "https://localhost:8080/",
          "height": 34
        },
        "outputId": "984b1227-caf9-4cef-d541-afa707b19e72"
      },
      "cell_type": "code",
      "source": [
        "type(result.text) #confirms str"
      ],
      "execution_count": 6,
      "outputs": [
        {
          "output_type": "execute_result",
          "data": {
            "text/plain": [
              "str"
            ]
          },
          "metadata": {
            "tags": []
          },
          "execution_count": 6
        }
      ]
    },
    {
      "metadata": {
        "id": "hrK8i8-fX8yS",
        "colab_type": "code",
        "colab": {
          "base_uri": "https://localhost:8080/",
          "height": 6438
        },
        "outputId": "667b9dff-a176-4ac1-e130-20f2581901ca"
      },
      "cell_type": "code",
      "source": [
        "soup = bs4.BeautifulSoup(result.text)\n",
        "soup.select('h2')\n",
        "#print(soup) #dont do this"
      ],
      "execution_count": 10,
      "outputs": [
        {
          "output_type": "execute_result",
          "data": {
            "text/plain": [
              "[<h2>\n",
              " <a href=\"/2018/schedule/presentation/127/\" id=\"presentation-127\">\n",
              "         A Bit about Bytes: Understanding Python Bytecode\n",
              "       </a>\n",
              " </h2>, <h2>\n",
              " <a href=\"/2018/schedule/presentation/81/\" id=\"presentation-81\">\n",
              "         Adapting from Spark to Dask: what to expect\n",
              "       </a>\n",
              " </h2>, <h2>\n",
              " <a href=\"/2018/schedule/presentation/152/\" id=\"presentation-152\">\n",
              "         All in the timing: How side channel attacks work\n",
              "       </a>\n",
              " </h2>, <h2>\n",
              " <a href=\"/2018/schedule/presentation/84/\" id=\"presentation-84\">\n",
              "         Analyzing Data: What pandas and SQL Taught Me About Taking an Average\n",
              "       </a>\n",
              " </h2>, <h2>\n",
              " <a href=\"/2018/schedule/presentation/96/\" id=\"presentation-96\">\n",
              "         A practical guide to Singular Value Decomposition in Python\n",
              "       </a>\n",
              " </h2>, <h2>\n",
              " <a href=\"/2018/schedule/presentation/71/\" id=\"presentation-71\">\n",
              "         Augmenting Human Decision Making with Data Science\n",
              "       </a>\n",
              " </h2>, <h2>\n",
              " <a href=\"/2018/schedule/presentation/159/\" id=\"presentation-159\">\n",
              "         Automating Code Quality\n",
              "       </a>\n",
              " </h2>, <h2>\n",
              " <a href=\"/2018/schedule/presentation/122/\" id=\"presentation-122\">\n",
              "          Bayesian Non-parametric Models for Data Science using PyMC3\n",
              "       </a>\n",
              " </h2>, <h2>\n",
              " <a href=\"/2018/schedule/presentation/87/\" id=\"presentation-87\">\n",
              "         Behavior-Driven Python\n",
              "       </a>\n",
              " </h2>, <h2>\n",
              " <a href=\"/2018/schedule/presentation/145/\" id=\"presentation-145\">\n",
              "         Beyond scraping: how to use machine learning when you're not sure where to start\n",
              "       </a>\n",
              " </h2>, <h2>\n",
              " <a href=\"/2018/schedule/presentation/130/\" id=\"presentation-130\">\n",
              "         Beyond Unit Tests: Taking Your Testing to the Next Level\n",
              "       </a>\n",
              " </h2>, <h2>\n",
              " <a href=\"/2018/schedule/presentation/139/\" id=\"presentation-139\">\n",
              "         Big-O: How Code Slows as Data Grows\n",
              "       </a>\n",
              " </h2>, <h2>\n",
              " <a href=\"/2018/schedule/presentation/151/\" id=\"presentation-151\">\n",
              "         Birding with Python and Machine Learning\n",
              "       </a>\n",
              " </h2>, <h2>\n",
              " <a href=\"/2018/schedule/presentation/75/\" id=\"presentation-75\">\n",
              "         Bowerbirds of Technology: Architecture and Teams at Less-than-Google Scale\n",
              "       </a>\n",
              " </h2>, <h2>\n",
              " <a href=\"/2018/schedule/presentation/116/\" id=\"presentation-116\">\n",
              "         Building a cross-platform native app with BeeWare\n",
              "       </a>\n",
              " </h2>, <h2>\n",
              " <a href=\"/2018/schedule/presentation/161/\" id=\"presentation-161\">\n",
              "         Building a Data Pipeline with Testing in Mind\n",
              "       </a>\n",
              " </h2>, <h2>\n",
              " <a href=\"/2018/schedule/presentation/165/\" id=\"presentation-165\">\n",
              "         Build Teams as an Engineer\n",
              "       </a>\n",
              " </h2>, <h2>\n",
              " <a href=\"/2018/schedule/presentation/123/\" id=\"presentation-123\">\n",
              "         By the Numbers: Python Community Trends in 2017/2018\n",
              "       </a>\n",
              " </h2>, <h2>\n",
              " <a href=\"/2018/schedule/presentation/93/\" id=\"presentation-93\">\n",
              "         Clearer Code at Scale: Static Types at Zulip and Dropbox\n",
              "       </a>\n",
              " </h2>, <h2>\n",
              " <a href=\"/2018/schedule/presentation/105/\" id=\"presentation-105\">\n",
              "         Code like an accountant: Designing data systems for accuracy, resilience and auditability\n",
              "       </a>\n",
              " </h2>, <h2>\n",
              " <a href=\"/2018/schedule/presentation/149/\" id=\"presentation-149\">\n",
              "         Code Reviews Using Art Critique Principles\n",
              "       </a>\n",
              " </h2>, <h2>\n",
              " <a href=\"/2018/schedule/presentation/141/\" id=\"presentation-141\">\n",
              "         Coding through Adversity\n",
              "       </a>\n",
              " </h2>, <h2>\n",
              " <a href=\"/2018/schedule/presentation/144/\" id=\"presentation-144\">\n",
              "         Colossal Cave Adventure in Python... in the browser!\n",
              "       </a>\n",
              " </h2>, <h2>\n",
              " <a href=\"/2018/schedule/presentation/90/\" id=\"presentation-90\">\n",
              "         Controlling apples with snakes: Automating mobile apps with Appium\n",
              "       </a>\n",
              " </h2>, <h2>\n",
              " <a href=\"/2018/schedule/presentation/133/\" id=\"presentation-133\">\n",
              "         Counter, Gauge, Upper 90 - Oh my!\n",
              "       </a>\n",
              " </h2>, <h2>\n",
              " <a href=\"/2018/schedule/presentation/119/\" id=\"presentation-119\">\n",
              "         CuPy: A NumPy-compatible Library for GPU\n",
              "       </a>\n",
              " </h2>, <h2>\n",
              " <a href=\"/2018/schedule/presentation/94/\" id=\"presentation-94\">\n",
              "         Dataclasses:  The code generator to end all code generators\n",
              "       </a>\n",
              " </h2>, <h2>\n",
              " <a href=\"/2018/schedule/presentation/134/\" id=\"presentation-134\">\n",
              "         Data Visualization in Mixed Reality with Python\n",
              "       </a>\n",
              " </h2>, <h2>\n",
              " <a href=\"/2018/schedule/presentation/97/\" id=\"presentation-97\">\n",
              "         Debugging PySpark -- Or trying to make sense of a JVM stack trace when you were minding your own bus\n",
              "       </a>\n",
              " </h2>, <h2>\n",
              " <a href=\"/2018/schedule/presentation/113/\" id=\"presentation-113\">\n",
              "         Deconstructing the US Patent Database\n",
              "       </a>\n",
              " </h2>, <h2>\n",
              " <a href=\"/2018/schedule/presentation/83/\" id=\"presentation-83\">\n",
              "         Democratizing Distributed Computing with Dask and JupyterHub\n",
              "       </a>\n",
              " </h2>, <h2>\n",
              " <a href=\"/2018/schedule/presentation/150/\" id=\"presentation-150\">\n",
              "         Demystifying the Patch Function  \n",
              "       </a>\n",
              " </h2>, <h2>\n",
              " <a href=\"/2018/schedule/presentation/125/\" id=\"presentation-125\">\n",
              "         Don't Look Back in Anger: Wildman Whitehouse and the Great Failure of 1858\n",
              "       </a>\n",
              " </h2>, <h2>\n",
              " <a href=\"/2018/schedule/presentation/100/\" id=\"presentation-100\">\n",
              "         Easy 2D Game Creation With Arcade\n",
              "       </a>\n",
              " </h2>, <h2>\n",
              " <a href=\"/2018/schedule/presentation/140/\" id=\"presentation-140\">\n",
              "         Efficient shared memory data structures\n",
              "       </a>\n",
              " </h2>, <h2>\n",
              " <a href=\"/2018/schedule/presentation/104/\" id=\"presentation-104\">\n",
              "         Effortless Logging: A deep dive into the logging module\n",
              "       </a>\n",
              " </h2>, <h2>\n",
              " <a href=\"/2018/schedule/presentation/164/\" id=\"presentation-164\">\n",
              "         Elegant Solutions For Everyday Python Problems\n",
              "       </a>\n",
              " </h2>, <h2>\n",
              " <a href=\"/2018/schedule/presentation/154/\" id=\"presentation-154\">\n",
              "         Exploring Deep Learning Framework PyTorch\n",
              "       </a>\n",
              " </h2>, <h2>\n",
              " <a href=\"/2018/schedule/presentation/110/\" id=\"presentation-110\">\n",
              "         Fighting Gerrymandering with PyMC3\n",
              "       </a>\n",
              " </h2>, <h2>\n",
              " <a href=\"/2018/schedule/presentation/117/\" id=\"presentation-117\">\n",
              "         Fighting the Good Fight: Python 3 in your organization\n",
              "       </a>\n",
              " </h2>, <h2>\n",
              " <a href=\"/2018/schedule/presentation/77/\" id=\"presentation-77\">\n",
              "         Flourishing FLOSS: Making Your Project Successful\n",
              "       </a>\n",
              " </h2>, <h2>\n",
              " <a href=\"/2018/schedule/presentation/162/\" id=\"presentation-162\">\n",
              "         Get your resources faster, with importlib.resources\n",
              "       </a>\n",
              " </h2>, <h2>\n",
              " <a href=\"/2018/schedule/presentation/124/\" id=\"presentation-124\">\n",
              "         Graph Databases: Talking about your Data Relationships with Python\n",
              "       </a>\n",
              " </h2>, <h2>\n",
              " <a href=\"/2018/schedule/presentation/95/\" id=\"presentation-95\">\n",
              "         How Netflix does failovers in 7 minutes flat\n",
              "       </a>\n",
              " </h2>, <h2>\n",
              " <a href=\"/2018/schedule/presentation/157/\" id=\"presentation-157\">\n",
              "         HOWTO Write a Function\n",
              "       </a>\n",
              " </h2>, <h2>\n",
              " <a href=\"/2018/schedule/presentation/70/\" id=\"presentation-70\">\n",
              "         How to Write Deployment-friendly Applications\n",
              "       </a>\n",
              " </h2>, <h2>\n",
              " <a href=\"/2018/schedule/presentation/135/\" id=\"presentation-135\">\n",
              "         How we designed an inclusivity-first conference on a shoestring budget and short timeline\n",
              "       </a>\n",
              " </h2>, <h2>\n",
              " <a href=\"/2018/schedule/presentation/79/\" id=\"presentation-79\">\n",
              "         How We Do Identity Wrong\n",
              "       </a>\n",
              " </h2>, <h2>\n",
              " <a href=\"/2018/schedule/presentation/126/\" id=\"presentation-126\">\n",
              "         import time_travel: A Primer on Timezones in Python\n",
              "       </a>\n",
              " </h2>, <h2>\n",
              " <a href=\"/2018/schedule/presentation/148/\" id=\"presentation-148\">\n",
              "         Inside the Cheeseshop: How Python Packaging Works\n",
              "       </a>\n",
              " </h2>, <h2>\n",
              " <a href=\"/2018/schedule/presentation/74/\" id=\"presentation-74\">\n",
              "         Learning From Failure: Post Mortems\n",
              "       </a>\n",
              " </h2>, <h2>\n",
              " <a href=\"/2018/schedule/presentation/132/\" id=\"presentation-132\">\n",
              "         Listen, Attend, and Walk : Interpreting natural language navigational instructions\n",
              "       </a>\n",
              " </h2>, <h2>\n",
              " <a href=\"/2018/schedule/presentation/156/\" id=\"presentation-156\">\n",
              "         Love your bugs\n",
              "       </a>\n",
              " </h2>, <h2>\n",
              " <a href=\"/2018/schedule/presentation/146/\" id=\"presentation-146\">\n",
              "         One weird trick to becoming a better software developer\n",
              "       </a>\n",
              " </h2>, <h2>\n",
              " <a href=\"/2018/schedule/presentation/98/\" id=\"presentation-98\">\n",
              "         Oops! I Committed My Password To GitHub!\n",
              "       </a>\n",
              " </h2>, <h2>\n",
              " <a href=\"/2018/schedule/presentation/112/\" id=\"presentation-112\">\n",
              "         Performance Python: Seven Strategies for Optimizing Your Numerical Code\n",
              "       </a>\n",
              " </h2>, <h2>\n",
              " <a href=\"/2018/schedule/presentation/243/\" id=\"presentation-243\">\n",
              "         Pipenv: The Future of Python Dependency Management\n",
              "       </a>\n",
              " </h2>, <h2>\n",
              " <a href=\"/2018/schedule/presentation/158/\" id=\"presentation-158\">\n",
              "         Practical Sphinx\n",
              "       </a>\n",
              " </h2>, <h2>\n",
              " <a href=\"/2018/schedule/presentation/242/\" id=\"presentation-242\">\n",
              "         Programming microbes using Python\n",
              "       </a>\n",
              " </h2>, <h2>\n",
              " <a href=\"/2018/schedule/presentation/82/\" id=\"presentation-82\">\n",
              "         Pumping up Python modules using Rust\n",
              "       </a>\n",
              " </h2>, <h2>\n",
              " <a href=\"/2018/schedule/presentation/120/\" id=\"presentation-120\">\n",
              "         Python 2 to 3: How to Upgrade and What Features to Start Using\n",
              "       </a>\n",
              " </h2>, <h2>\n",
              " <a href=\"/2018/schedule/presentation/86/\" id=\"presentation-86\">\n",
              "         Python 3: ten years later\n",
              "       </a>\n",
              " </h2>, <h2>\n",
              " <a href=\"/2018/schedule/presentation/160/\" id=\"presentation-160\">\n",
              "         Python across the USA: This is the Bus.\n",
              "       </a>\n",
              " </h2>, <h2>\n",
              " <a href=\"/2018/schedule/presentation/121/\" id=\"presentation-121\">\n",
              "         Python Data Sonification for Science and Discovery\n",
              "       </a>\n",
              " </h2>, <h2>\n",
              " <a href=\"/2018/schedule/presentation/147/\" id=\"presentation-147\">\n",
              "         Python for the quantum computing age\n",
              "       </a>\n",
              " </h2>, <h2>\n",
              " <a href=\"/2018/schedule/presentation/106/\" id=\"presentation-106\">\n",
              "         Python, Locales and Writing Systems\n",
              "       </a>\n",
              " </h2>, <h2>\n",
              " <a href=\"/2018/schedule/presentation/136/\" id=\"presentation-136\">\n",
              "         Python Performance Investigation by Example\n",
              "       </a>\n",
              " </h2>, <h2>\n",
              " <a href=\"/2018/schedule/presentation/137/\" id=\"presentation-137\">\n",
              "         Randomness in Python: Controlled Chaos in an Ordered Machine\n",
              "       </a>\n",
              " </h2>, <h2>\n",
              " <a href=\"/2018/schedule/presentation/129/\" id=\"presentation-129\">\n",
              "         Reactive Programming with RxPy\n",
              "       </a>\n",
              " </h2>, <h2>\n",
              " <a href=\"/2018/schedule/presentation/143/\" id=\"presentation-143\">\n",
              "         Reinventing the Parser Generator \n",
              "       </a>\n",
              " </h2>, <h2>\n",
              " <a href=\"/2018/schedule/presentation/89/\" id=\"presentation-89\">\n",
              "         Secrets of a WSGI master.\n",
              "       </a>\n",
              " </h2>, <h2>\n",
              " <a href=\"/2018/schedule/presentation/76/\" id=\"presentation-76\">\n",
              "         Software Library APIs: Lessons Learned from scikit-learn\n",
              "       </a>\n",
              " </h2>, <h2>\n",
              " <a href=\"/2018/schedule/presentation/128/\" id=\"presentation-128\">\n",
              "         Solve Your Problem With Sloppy Python\n",
              "       </a>\n",
              " </h2>, <h2>\n",
              " <a href=\"/2018/schedule/presentation/153/\" id=\"presentation-153\">\n",
              "         Strategies to Edit Production Data\n",
              "       </a>\n",
              " </h2>, <h2>\n",
              " <a href=\"/2018/schedule/presentation/111/\" id=\"presentation-111\">\n",
              "         Surviving (and thriving!) when you are overloaded\n",
              "       </a>\n",
              " </h2>, <h2>\n",
              " <a href=\"/2018/schedule/presentation/109/\" id=\"presentation-109\">\n",
              "         Systemd: why you should care as a Python developer\n",
              "       </a>\n",
              " </h2>, <h2>\n",
              " <a href=\"/2018/schedule/presentation/92/\" id=\"presentation-92\">\n",
              "         Taking Django Async\n",
              "       </a>\n",
              " </h2>, <h2>\n",
              " <a href=\"/2018/schedule/presentation/107/\" id=\"presentation-107\">\n",
              "         The AST and Me\n",
              "       </a>\n",
              " </h2>, <h2>\n",
              " <a href=\"/2018/schedule/presentation/78/\" id=\"presentation-78\">\n",
              "         The Hare Wins the Race: Getting the most out of RabbitMQ in distributed applications\n",
              "       </a>\n",
              " </h2>, <h2>\n",
              " <a href=\"/2018/schedule/presentation/85/\" id=\"presentation-85\">\n",
              "         The human nature of failure &amp; resiliency\n",
              "       </a>\n",
              " </h2>, <h2>\n",
              " <a href=\"/2018/schedule/presentation/99/\" id=\"presentation-99\">\n",
              "         Trust the data to speak for itself\n",
              "       </a>\n",
              " </h2>, <h2>\n",
              " <a href=\"/2018/schedule/presentation/108/\" id=\"presentation-108\">\n",
              "         The Journey Over the Intermediate Gap\n",
              "       </a>\n",
              " </h2>, <h2>\n",
              " <a href=\"/2018/schedule/presentation/72/\" id=\"presentation-72\">\n",
              "         There and Back Again: Disable and re-enable garbage collector at Instagram\n",
              "       </a>\n",
              " </h2>, <h2>\n",
              " <a href=\"/2018/schedule/presentation/103/\" id=\"presentation-103\">\n",
              "         Thinking Outside the GIL with AsyncIO and Multiprocessing\n",
              "       </a>\n",
              " </h2>, <h2>\n",
              " <a href=\"/2018/schedule/presentation/163/\" id=\"presentation-163\">\n",
              "         Trio: Async concurrency for mere mortals\n",
              "       </a>\n",
              " </h2>, <h2>\n",
              " <a href=\"/2018/schedule/presentation/102/\" id=\"presentation-102\">\n",
              "         Type-checked Python in the real world\n",
              "       </a>\n",
              " </h2>, <h2>\n",
              " <a href=\"/2018/schedule/presentation/69/\" id=\"presentation-69\">\n",
              "         Types, Deeper Static Analysis, and you\n",
              "       </a>\n",
              " </h2>, <h2>\n",
              " <a href=\"/2018/schedule/presentation/118/\" id=\"presentation-118\">\n",
              "         User focused API Design\n",
              "       </a>\n",
              " </h2>, <h2>\n",
              " <a href=\"/2018/schedule/presentation/115/\" id=\"presentation-115\">\n",
              "         Using Python to build an AI to play and win SNES StreetFighter II\n",
              "       </a>\n",
              " </h2>, <h2>\n",
              " <a href=\"/2018/schedule/presentation/131/\" id=\"presentation-131\">\n",
              "         Visualizing Algorithms with Python and Programmable LEDs\n",
              "       </a>\n",
              " </h2>, <h2>\n",
              " <a href=\"/2018/schedule/presentation/91/\" id=\"presentation-91\">\n",
              "         Visual Testing with PyCharm and pytest\n",
              "       </a>\n",
              " </h2>, <h2>\n",
              " <a href=\"/2018/schedule/presentation/101/\" id=\"presentation-101\">\n",
              "         What is a Python Core Developer?\n",
              "       </a>\n",
              " </h2>, <h2>\n",
              " <a href=\"/2018/schedule/presentation/88/\" id=\"presentation-88\">\n",
              "         \"WHAT IS THIS MESS?\" - Writing tests for pre-existing code bases\n",
              "       </a>\n",
              " </h2>, <h2>\n",
              " <a href=\"/2018/schedule/presentation/142/\" id=\"presentation-142\">\n",
              "         Win back lovely API: GraphQL in Python\n",
              "       </a>\n",
              " </h2>, <h2>\n",
              " <a href=\"/2018/schedule/presentation/80/\" id=\"presentation-80\">\n",
              "         You're an expert. Here's how to teach like one.\n",
              "       </a>\n",
              " </h2>]"
            ]
          },
          "metadata": {
            "tags": []
          },
          "execution_count": 10
        }
      ]
    },
    {
      "metadata": {
        "id": "yqW5Kyk0ZOkw",
        "colab_type": "code",
        "colab": {
          "base_uri": "https://localhost:8080/",
          "height": 34
        },
        "outputId": "696be7ce-946d-4440-8247-130a2f017763"
      },
      "cell_type": "code",
      "source": [
        "type(soup.select('h2'))"
      ],
      "execution_count": 11,
      "outputs": [
        {
          "output_type": "execute_result",
          "data": {
            "text/plain": [
              "list"
            ]
          },
          "metadata": {
            "tags": []
          },
          "execution_count": 11
        }
      ]
    },
    {
      "metadata": {
        "id": "0tk24xb2ZVDr",
        "colab_type": "code",
        "colab": {
          "base_uri": "https://localhost:8080/",
          "height": 34
        },
        "outputId": "7d72da88-917c-4419-c81a-3f5a3da7d568"
      },
      "cell_type": "code",
      "source": [
        "len(soup.select('h2')) #95 talks"
      ],
      "execution_count": 12,
      "outputs": [
        {
          "output_type": "execute_result",
          "data": {
            "text/plain": [
              "95"
            ]
          },
          "metadata": {
            "tags": []
          },
          "execution_count": 12
        }
      ]
    },
    {
      "metadata": {
        "id": "YNPfxq_lZgrW",
        "colab_type": "code",
        "colab": {
          "base_uri": "https://localhost:8080/",
          "height": 101
        },
        "outputId": "b21deda3-bcbc-4a8b-c1ac-a8e2921bee97"
      },
      "cell_type": "code",
      "source": [
        "first = soup.select('h2')[0] #first talk\n",
        "first"
      ],
      "execution_count": 13,
      "outputs": [
        {
          "output_type": "execute_result",
          "data": {
            "text/plain": [
              "<h2>\n",
              "<a href=\"/2018/schedule/presentation/127/\" id=\"presentation-127\">\n",
              "        A Bit about Bytes: Understanding Python Bytecode\n",
              "      </a>\n",
              "</h2>"
            ]
          },
          "metadata": {
            "tags": []
          },
          "execution_count": 13
        }
      ]
    },
    {
      "metadata": {
        "id": "wy-audJYaC32",
        "colab_type": "code",
        "colab": {
          "base_uri": "https://localhost:8080/",
          "height": 34
        },
        "outputId": "2cb185eb-2c8b-4a8a-987b-b9473872a221"
      },
      "cell_type": "code",
      "source": [
        "first.text #cleaner but has problems"
      ],
      "execution_count": 14,
      "outputs": [
        {
          "output_type": "execute_result",
          "data": {
            "text/plain": [
              "'\\n\\n        A Bit about Bytes: Understanding Python Bytecode\\n      \\n'"
            ]
          },
          "metadata": {
            "tags": []
          },
          "execution_count": 14
        }
      ]
    },
    {
      "metadata": {
        "id": "bGVOpI2wad--",
        "colab_type": "code",
        "colab": {
          "base_uri": "https://localhost:8080/",
          "height": 34
        },
        "outputId": "af696a7c-ec98-4690-cccf-48b319a9ae4b"
      },
      "cell_type": "code",
      "source": [
        "first.text.strip() #defaults to strip white spaces and newline parse"
      ],
      "execution_count": 15,
      "outputs": [
        {
          "output_type": "execute_result",
          "data": {
            "text/plain": [
              "'A Bit about Bytes: Understanding Python Bytecode'"
            ]
          },
          "metadata": {
            "tags": []
          },
          "execution_count": 15
        }
      ]
    },
    {
      "metadata": {
        "id": "b2FwQaREa8wG",
        "colab_type": "code",
        "colab": {
          "base_uri": "https://localhost:8080/",
          "height": 50
        },
        "outputId": "21f04e21-6020-4d4f-de17-e7bc7c339aa6"
      },
      "cell_type": "code",
      "source": [
        "last = soup.select('h2')[-1] #last talk\n",
        "print(type(last)) #tag\n",
        "print(type(soup.select('h2')[-1:])) #list, not useful"
      ],
      "execution_count": 21,
      "outputs": [
        {
          "output_type": "stream",
          "text": [
            "<class 'bs4.element.Tag'>\n",
            "<class 'list'>\n"
          ],
          "name": "stdout"
        }
      ]
    },
    {
      "metadata": {
        "id": "ZujPAs2uchD6",
        "colab_type": "code",
        "colab": {
          "base_uri": "https://localhost:8080/",
          "height": 34
        },
        "outputId": "cd7b801d-5ebd-46e3-d060-e9691f11f9c7"
      },
      "cell_type": "code",
      "source": [
        "#our complete list of titles loop style\n",
        "titles = []\n",
        "for tag in soup.select('h2'):\n",
        "  tag.text.strip()\n",
        "  titles.append(titles)\n",
        "#list comp style\n",
        "titles = [tag.text.strip() for tag in soup.select('h2')]\n",
        "type(titles), len(titles)"
      ],
      "execution_count": 22,
      "outputs": [
        {
          "output_type": "execute_result",
          "data": {
            "text/plain": [
              "(list, 95)"
            ]
          },
          "metadata": {
            "tags": []
          },
          "execution_count": 22
        }
      ]
    },
    {
      "metadata": {
        "id": "LCdcMMmldNNb",
        "colab_type": "code",
        "colab": {
          "base_uri": "https://localhost:8080/",
          "height": 50
        },
        "outputId": "404b973a-e0da-4967-d630-822dc427f1dd"
      },
      "cell_type": "code",
      "source": [
        "titles[0], titles[-1]"
      ],
      "execution_count": 23,
      "outputs": [
        {
          "output_type": "execute_result",
          "data": {
            "text/plain": [
              "('A Bit about Bytes: Understanding Python Bytecode',\n",
              " \"You're an expert. Here's how to teach like one.\")"
            ]
          },
          "metadata": {
            "tags": []
          },
          "execution_count": 23
        }
      ]
    },
    {
      "metadata": {
        "id": "vqkNgAzYpeK7",
        "colab_type": "text"
      },
      "cell_type": "markdown",
      "source": [
        "## 5 ways to look at long titles\n",
        "\n",
        "Let's define a long title as greater than 80 characters"
      ]
    },
    {
      "metadata": {
        "id": "N7tqeZh14Fws",
        "colab_type": "text"
      },
      "cell_type": "markdown",
      "source": [
        "### 1. For Loop"
      ]
    },
    {
      "metadata": {
        "id": "kKxs5tqDApuZ",
        "colab_type": "code",
        "colab": {
          "base_uri": "https://localhost:8080/",
          "height": 34
        },
        "outputId": "ca8ae2ec-6393-448c-c6ce-b3070560c4d6"
      },
      "cell_type": "code",
      "source": [
        "#nonfunctional compared to other methods\n",
        "long_titles = []\n",
        "for title in titles:\n",
        "  if len(title) > 80:\n",
        "    long_titles.append(title)\n",
        "len(long_titles)"
      ],
      "execution_count": 24,
      "outputs": [
        {
          "output_type": "execute_result",
          "data": {
            "text/plain": [
              "5"
            ]
          },
          "metadata": {
            "tags": []
          },
          "execution_count": 24
        }
      ]
    },
    {
      "metadata": {
        "id": "I21jcEnK4IN7",
        "colab_type": "text"
      },
      "cell_type": "markdown",
      "source": [
        "### 2. List Comprehension"
      ]
    },
    {
      "metadata": {
        "id": "qaXe9UldAs3H",
        "colab_type": "code",
        "colab": {
          "base_uri": "https://localhost:8080/",
          "height": 34
        },
        "outputId": "93e82481-5419-48aa-a585-74c42fef6b23"
      },
      "cell_type": "code",
      "source": [
        "long_titles = [title for title in titles if len(title) > 80]\n",
        "len(long_titles)"
      ],
      "execution_count": 25,
      "outputs": [
        {
          "output_type": "execute_result",
          "data": {
            "text/plain": [
              "5"
            ]
          },
          "metadata": {
            "tags": []
          },
          "execution_count": 25
        }
      ]
    },
    {
      "metadata": {
        "id": "2kn8pxL-4yMG",
        "colab_type": "text"
      },
      "cell_type": "markdown",
      "source": [
        "### 3. Filter with named function"
      ]
    },
    {
      "metadata": {
        "id": "ywLqqFJNAvFm",
        "colab_type": "code",
        "colab": {
          "base_uri": "https://localhost:8080/",
          "height": 121
        },
        "outputId": "2c593812-f6d3-455e-b8c9-5c15a990e2f6"
      },
      "cell_type": "code",
      "source": [
        "def long(title):\n",
        "  return len(title) > 80\n",
        "long('Hello') #False\n",
        "list(filter(long, titles)) #filter by itself is an object"
      ],
      "execution_count": 26,
      "outputs": [
        {
          "output_type": "execute_result",
          "data": {
            "text/plain": [
              "['Code like an accountant: Designing data systems for accuracy, resilience and auditability',\n",
              " 'Debugging PySpark -- Or trying to make sense of a JVM stack trace when you were minding your own bus',\n",
              " 'How we designed an inclusivity-first conference on a shoestring budget and short timeline',\n",
              " 'Listen, Attend, and Walk : Interpreting natural language navigational instructions',\n",
              " 'The Hare Wins the Race: Getting the most out of RabbitMQ in distributed applications']"
            ]
          },
          "metadata": {
            "tags": []
          },
          "execution_count": 26
        }
      ]
    },
    {
      "metadata": {
        "id": "IPIT6oXz40Q3",
        "colab_type": "text"
      },
      "cell_type": "markdown",
      "source": [
        "### 4. Filter with anonymous function"
      ]
    },
    {
      "metadata": {
        "id": "giIcFYkiAwiR",
        "colab_type": "code",
        "colab": {
          "base_uri": "https://localhost:8080/",
          "height": 121
        },
        "outputId": "690f25bd-bd33-4990-98f7-eff35fe8a2fe"
      },
      "cell_type": "code",
      "source": [
        "list(filter(lambda t: len(t)>80, titles))"
      ],
      "execution_count": 27,
      "outputs": [
        {
          "output_type": "execute_result",
          "data": {
            "text/plain": [
              "['Code like an accountant: Designing data systems for accuracy, resilience and auditability',\n",
              " 'Debugging PySpark -- Or trying to make sense of a JVM stack trace when you were minding your own bus',\n",
              " 'How we designed an inclusivity-first conference on a shoestring budget and short timeline',\n",
              " 'Listen, Attend, and Walk : Interpreting natural language navigational instructions',\n",
              " 'The Hare Wins the Race: Getting the most out of RabbitMQ in distributed applications']"
            ]
          },
          "metadata": {
            "tags": []
          },
          "execution_count": 27
        }
      ]
    },
    {
      "metadata": {
        "id": "qj8Yod8_45z4",
        "colab_type": "text"
      },
      "cell_type": "markdown",
      "source": [
        "### 5. Pandas\n",
        "\n",
        "pandas documentation: [Working with Text Data](https://pandas.pydata.org/pandas-docs/stable/text.html)"
      ]
    },
    {
      "metadata": {
        "id": "yRwPEHNcAzc_",
        "colab_type": "code",
        "colab": {
          "base_uri": "https://localhost:8080/",
          "height": 212
        },
        "outputId": "975fa1f7-bb8b-48c7-d683-671d11573d34"
      },
      "cell_type": "code",
      "source": [
        "import pandas as pd\n",
        "pd.options.display.max_colwidth = 200\n",
        "df = pd.DataFrame({'title': titles})\n",
        "df[df.title.str.len() > 80]"
      ],
      "execution_count": 29,
      "outputs": [
        {
          "output_type": "execute_result",
          "data": {
            "text/html": [
              "<div>\n",
              "<style scoped>\n",
              "    .dataframe tbody tr th:only-of-type {\n",
              "        vertical-align: middle;\n",
              "    }\n",
              "\n",
              "    .dataframe tbody tr th {\n",
              "        vertical-align: top;\n",
              "    }\n",
              "\n",
              "    .dataframe thead th {\n",
              "        text-align: right;\n",
              "    }\n",
              "</style>\n",
              "<table border=\"1\" class=\"dataframe\">\n",
              "  <thead>\n",
              "    <tr style=\"text-align: right;\">\n",
              "      <th></th>\n",
              "      <th>title</th>\n",
              "    </tr>\n",
              "  </thead>\n",
              "  <tbody>\n",
              "    <tr>\n",
              "      <th>19</th>\n",
              "      <td>Code like an accountant: Designing data systems for accuracy, resilience and auditability</td>\n",
              "    </tr>\n",
              "    <tr>\n",
              "      <th>28</th>\n",
              "      <td>Debugging PySpark -- Or trying to make sense of a JVM stack trace when you were minding your own bus</td>\n",
              "    </tr>\n",
              "    <tr>\n",
              "      <th>46</th>\n",
              "      <td>How we designed an inclusivity-first conference on a shoestring budget and short timeline</td>\n",
              "    </tr>\n",
              "    <tr>\n",
              "      <th>51</th>\n",
              "      <td>Listen, Attend, and Walk : Interpreting natural language navigational instructions</td>\n",
              "    </tr>\n",
              "    <tr>\n",
              "      <th>78</th>\n",
              "      <td>The Hare Wins the Race: Getting the most out of RabbitMQ in distributed applications</td>\n",
              "    </tr>\n",
              "  </tbody>\n",
              "</table>\n",
              "</div>"
            ],
            "text/plain": [
              "                                                                                                   title\n",
              "19             Code like an accountant: Designing data systems for accuracy, resilience and auditability\n",
              "28  Debugging PySpark -- Or trying to make sense of a JVM stack trace when you were minding your own bus\n",
              "46             How we designed an inclusivity-first conference on a shoestring budget and short timeline\n",
              "51                    Listen, Attend, and Walk : Interpreting natural language navigational instructions\n",
              "78                  The Hare Wins the Race: Getting the most out of RabbitMQ in distributed applications"
            ]
          },
          "metadata": {
            "tags": []
          },
          "execution_count": 29
        }
      ]
    },
    {
      "metadata": {
        "id": "Bt2Vhk_WhNPJ",
        "colab_type": "code",
        "colab": {}
      },
      "cell_type": "code",
      "source": [
        "condition = df.title.str.len() > 80 #calls a Series of booleans\n",
        "df[condition]\n",
        "df.title.str.len() #calls a Series of ints equal to str.len"
      ],
      "execution_count": 0,
      "outputs": []
    },
    {
      "metadata": {
        "id": "8YaUZJvRp681",
        "colab_type": "text"
      },
      "cell_type": "markdown",
      "source": [
        "## Make new dataframe columns\n",
        "\n",
        "pandas documentation: [apply](https://pandas.pydata.org/pandas-docs/stable/generated/pandas.Series.apply.html)"
      ]
    },
    {
      "metadata": {
        "id": "Ua74pMrGrsZR",
        "colab_type": "text"
      },
      "cell_type": "markdown",
      "source": [
        "### title length"
      ]
    },
    {
      "metadata": {
        "id": "p-Euz7tgA8Fd",
        "colab_type": "code",
        "colab": {}
      },
      "cell_type": "code",
      "source": [
        "df['title_length'] = df.title.apply(len)\n",
        "df.head()"
      ],
      "execution_count": 0,
      "outputs": []
    },
    {
      "metadata": {
        "id": "vMJvN3kinW9C",
        "colab_type": "code",
        "colab": {}
      },
      "cell_type": "code",
      "source": [
        "df.loc[df['title_length']>80, 'title length']]"
      ],
      "execution_count": 0,
      "outputs": []
    },
    {
      "metadata": {
        "id": "OgsKArXPrz5n",
        "colab_type": "text"
      },
      "cell_type": "markdown",
      "source": [
        "### long title"
      ]
    },
    {
      "metadata": {
        "id": "b_WCRvvKA-IP",
        "colab_type": "code",
        "colab": {
          "base_uri": "https://localhost:8080/",
          "height": 212
        },
        "outputId": "69375afa-1441-42c9-a2e6-08e3d5af4c75"
      },
      "cell_type": "code",
      "source": [
        "df['long_title'] = df.title.str.len() > 80\n",
        "df.head()\n",
        "#alt\n",
        "df[df['long_title' == True]]"
      ],
      "execution_count": 32,
      "outputs": [
        {
          "output_type": "execute_result",
          "data": {
            "text/html": [
              "<div>\n",
              "<style scoped>\n",
              "    .dataframe tbody tr th:only-of-type {\n",
              "        vertical-align: middle;\n",
              "    }\n",
              "\n",
              "    .dataframe tbody tr th {\n",
              "        vertical-align: top;\n",
              "    }\n",
              "\n",
              "    .dataframe thead th {\n",
              "        text-align: right;\n",
              "    }\n",
              "</style>\n",
              "<table border=\"1\" class=\"dataframe\">\n",
              "  <thead>\n",
              "    <tr style=\"text-align: right;\">\n",
              "      <th></th>\n",
              "      <th>title</th>\n",
              "      <th>title_length</th>\n",
              "      <th>long_title</th>\n",
              "    </tr>\n",
              "  </thead>\n",
              "  <tbody>\n",
              "    <tr>\n",
              "      <th>0</th>\n",
              "      <td>A Bit about Bytes: Understanding Python Bytecode</td>\n",
              "      <td>False</td>\n",
              "      <td>False</td>\n",
              "    </tr>\n",
              "    <tr>\n",
              "      <th>1</th>\n",
              "      <td>Adapting from Spark to Dask: what to expect</td>\n",
              "      <td>False</td>\n",
              "      <td>False</td>\n",
              "    </tr>\n",
              "    <tr>\n",
              "      <th>2</th>\n",
              "      <td>All in the timing: How side channel attacks work</td>\n",
              "      <td>False</td>\n",
              "      <td>False</td>\n",
              "    </tr>\n",
              "    <tr>\n",
              "      <th>3</th>\n",
              "      <td>Analyzing Data: What pandas and SQL Taught Me About Taking an Average</td>\n",
              "      <td>False</td>\n",
              "      <td>False</td>\n",
              "    </tr>\n",
              "    <tr>\n",
              "      <th>4</th>\n",
              "      <td>A practical guide to Singular Value Decomposition in Python</td>\n",
              "      <td>False</td>\n",
              "      <td>False</td>\n",
              "    </tr>\n",
              "  </tbody>\n",
              "</table>\n",
              "</div>"
            ],
            "text/plain": [
              "                                                                   title  \\\n",
              "0                       A Bit about Bytes: Understanding Python Bytecode   \n",
              "1                            Adapting from Spark to Dask: what to expect   \n",
              "2                       All in the timing: How side channel attacks work   \n",
              "3  Analyzing Data: What pandas and SQL Taught Me About Taking an Average   \n",
              "4            A practical guide to Singular Value Decomposition in Python   \n",
              "\n",
              "   title_length  long_title  \n",
              "0         False       False  \n",
              "1         False       False  \n",
              "2         False       False  \n",
              "3         False       False  \n",
              "4         False       False  "
            ]
          },
          "metadata": {
            "tags": []
          },
          "execution_count": 32
        }
      ]
    },
    {
      "metadata": {
        "id": "sfpvL1xsnVQr",
        "colab_type": "code",
        "colab": {}
      },
      "cell_type": "code",
      "source": [
        ""
      ],
      "execution_count": 0,
      "outputs": []
    },
    {
      "metadata": {
        "id": "TonCXYPesUsT",
        "colab_type": "text"
      },
      "cell_type": "markdown",
      "source": [
        "### first letter"
      ]
    },
    {
      "metadata": {
        "id": "fhO4aABpBBgA",
        "colab_type": "code",
        "colab": {
          "base_uri": "https://localhost:8080/",
          "height": 486
        },
        "outputId": "21ed276e-dfc7-4c44-91c8-87b2a0a4d812"
      },
      "cell_type": "code",
      "source": [
        "df['first_letter'] = df.title.str[0]\n",
        "df.head()\n",
        "\n",
        "df[df['first_letter'] == 'P']"
      ],
      "execution_count": 37,
      "outputs": [
        {
          "output_type": "execute_result",
          "data": {
            "text/html": [
              "<div>\n",
              "<style scoped>\n",
              "    .dataframe tbody tr th:only-of-type {\n",
              "        vertical-align: middle;\n",
              "    }\n",
              "\n",
              "    .dataframe tbody tr th {\n",
              "        vertical-align: top;\n",
              "    }\n",
              "\n",
              "    .dataframe thead th {\n",
              "        text-align: right;\n",
              "    }\n",
              "</style>\n",
              "<table border=\"1\" class=\"dataframe\">\n",
              "  <thead>\n",
              "    <tr style=\"text-align: right;\">\n",
              "      <th></th>\n",
              "      <th>title</th>\n",
              "      <th>title_length</th>\n",
              "      <th>long_title</th>\n",
              "      <th>first_letter</th>\n",
              "    </tr>\n",
              "  </thead>\n",
              "  <tbody>\n",
              "    <tr>\n",
              "      <th>55</th>\n",
              "      <td>Performance Python: Seven Strategies for Optimizing Your Numerical Code</td>\n",
              "      <td>False</td>\n",
              "      <td>False</td>\n",
              "      <td>P</td>\n",
              "    </tr>\n",
              "    <tr>\n",
              "      <th>56</th>\n",
              "      <td>Pipenv: The Future of Python Dependency Management</td>\n",
              "      <td>False</td>\n",
              "      <td>False</td>\n",
              "      <td>P</td>\n",
              "    </tr>\n",
              "    <tr>\n",
              "      <th>57</th>\n",
              "      <td>Practical Sphinx</td>\n",
              "      <td>False</td>\n",
              "      <td>False</td>\n",
              "      <td>P</td>\n",
              "    </tr>\n",
              "    <tr>\n",
              "      <th>58</th>\n",
              "      <td>Programming microbes using Python</td>\n",
              "      <td>False</td>\n",
              "      <td>False</td>\n",
              "      <td>P</td>\n",
              "    </tr>\n",
              "    <tr>\n",
              "      <th>59</th>\n",
              "      <td>Pumping up Python modules using Rust</td>\n",
              "      <td>False</td>\n",
              "      <td>False</td>\n",
              "      <td>P</td>\n",
              "    </tr>\n",
              "    <tr>\n",
              "      <th>60</th>\n",
              "      <td>Python 2 to 3: How to Upgrade and What Features to Start Using</td>\n",
              "      <td>False</td>\n",
              "      <td>False</td>\n",
              "      <td>P</td>\n",
              "    </tr>\n",
              "    <tr>\n",
              "      <th>61</th>\n",
              "      <td>Python 3: ten years later</td>\n",
              "      <td>False</td>\n",
              "      <td>False</td>\n",
              "      <td>P</td>\n",
              "    </tr>\n",
              "    <tr>\n",
              "      <th>62</th>\n",
              "      <td>Python across the USA: This is the Bus.</td>\n",
              "      <td>False</td>\n",
              "      <td>False</td>\n",
              "      <td>P</td>\n",
              "    </tr>\n",
              "    <tr>\n",
              "      <th>63</th>\n",
              "      <td>Python Data Sonification for Science and Discovery</td>\n",
              "      <td>False</td>\n",
              "      <td>False</td>\n",
              "      <td>P</td>\n",
              "    </tr>\n",
              "    <tr>\n",
              "      <th>64</th>\n",
              "      <td>Python for the quantum computing age</td>\n",
              "      <td>False</td>\n",
              "      <td>False</td>\n",
              "      <td>P</td>\n",
              "    </tr>\n",
              "    <tr>\n",
              "      <th>65</th>\n",
              "      <td>Python, Locales and Writing Systems</td>\n",
              "      <td>False</td>\n",
              "      <td>False</td>\n",
              "      <td>P</td>\n",
              "    </tr>\n",
              "    <tr>\n",
              "      <th>66</th>\n",
              "      <td>Python Performance Investigation by Example</td>\n",
              "      <td>False</td>\n",
              "      <td>False</td>\n",
              "      <td>P</td>\n",
              "    </tr>\n",
              "  </tbody>\n",
              "</table>\n",
              "</div>"
            ],
            "text/plain": [
              "                                                                      title  \\\n",
              "55  Performance Python: Seven Strategies for Optimizing Your Numerical Code   \n",
              "56                       Pipenv: The Future of Python Dependency Management   \n",
              "57                                                         Practical Sphinx   \n",
              "58                                        Programming microbes using Python   \n",
              "59                                     Pumping up Python modules using Rust   \n",
              "60           Python 2 to 3: How to Upgrade and What Features to Start Using   \n",
              "61                                                Python 3: ten years later   \n",
              "62                                  Python across the USA: This is the Bus.   \n",
              "63                       Python Data Sonification for Science and Discovery   \n",
              "64                                     Python for the quantum computing age   \n",
              "65                                      Python, Locales and Writing Systems   \n",
              "66                              Python Performance Investigation by Example   \n",
              "\n",
              "    title_length  long_title first_letter  \n",
              "55         False       False            P  \n",
              "56         False       False            P  \n",
              "57         False       False            P  \n",
              "58         False       False            P  \n",
              "59         False       False            P  \n",
              "60         False       False            P  \n",
              "61         False       False            P  \n",
              "62         False       False            P  \n",
              "63         False       False            P  \n",
              "64         False       False            P  \n",
              "65         False       False            P  \n",
              "66         False       False            P  "
            ]
          },
          "metadata": {
            "tags": []
          },
          "execution_count": 37
        }
      ]
    },
    {
      "metadata": {
        "id": "Etz1XeLKs6DL",
        "colab_type": "text"
      },
      "cell_type": "markdown",
      "source": [
        "### word count\n",
        "\n",
        "Using [`textstat`](https://github.com/shivam5992/textstat)"
      ]
    },
    {
      "metadata": {
        "id": "GVIkRWchs4zR",
        "colab_type": "code",
        "colab": {
          "base_uri": "https://localhost:8080/",
          "height": 255
        },
        "outputId": "e6245486-2abb-47a3-923e-bda4bb04891b"
      },
      "cell_type": "code",
      "source": [
        "!pip install textstat"
      ],
      "execution_count": 38,
      "outputs": [
        {
          "output_type": "stream",
          "text": [
            "Collecting textstat\n",
            "  Downloading https://files.pythonhosted.org/packages/9b/78/a050fa0f13c04db10c891167204e2cd0c0ae1be40842a10eaf5348360f94/textstat-0.5.4.tar.gz\n",
            "Collecting pyphen (from textstat)\n",
            "\u001b[?25l  Downloading https://files.pythonhosted.org/packages/15/82/08a3629dce8d1f3d91db843bb36d4d7db6b6269d5067259613a0d5c8a9db/Pyphen-0.9.5-py2.py3-none-any.whl (3.0MB)\n",
            "\u001b[K    100% |████████████████████████████████| 3.0MB 6.5MB/s \n",
            "\u001b[?25hCollecting repoze.lru (from textstat)\n",
            "  Downloading https://files.pythonhosted.org/packages/b0/30/6cc0c95f0b59ad4b3b9163bff7cdcf793cc96fac64cf398ff26271f5cf5e/repoze.lru-0.7-py3-none-any.whl\n",
            "Building wheels for collected packages: textstat\n",
            "  Running setup.py bdist_wheel for textstat ... \u001b[?25l-\b \bdone\n",
            "\u001b[?25h  Stored in directory: /root/.cache/pip/wheels/04/ac/d7/a05c0ad7825899f11eacd5f9a5a78534808c8159281e65863c\n",
            "Successfully built textstat\n",
            "Installing collected packages: pyphen, repoze.lru, textstat\n",
            "Successfully installed pyphen-0.9.5 repoze.lru-0.7 textstat-0.5.4\n"
          ],
          "name": "stdout"
        }
      ]
    },
    {
      "metadata": {
        "id": "mY_M_MuaBFrF",
        "colab_type": "code",
        "colab": {
          "base_uri": "https://localhost:8080/",
          "height": 34
        },
        "outputId": "9e5cda0a-95c7-4fd4-8d62-3b0660fcd3cb"
      },
      "cell_type": "code",
      "source": [
        "import textstat\n",
        "first = df.title.values[0]\n",
        "last = df.title.values[-1]\n",
        "first, last\n",
        "textstat.lexicon_count(first), textstat.lexicon_count(last)"
      ],
      "execution_count": 41,
      "outputs": [
        {
          "output_type": "execute_result",
          "data": {
            "text/plain": [
              "(7, 9)"
            ]
          },
          "metadata": {
            "tags": []
          },
          "execution_count": 41
        }
      ]
    },
    {
      "metadata": {
        "id": "Ei0Cxr5Uppyu",
        "colab_type": "code",
        "colab": {
          "base_uri": "https://localhost:8080/",
          "height": 275
        },
        "outputId": "47ee3172-3073-4462-e8d7-d7790f45f69c"
      },
      "cell_type": "code",
      "source": [
        "df['title_word_count'] = df.title.apply(textstat.lexicon_count)\n",
        "df[df['title_word_count'] <= 3]"
      ],
      "execution_count": 43,
      "outputs": [
        {
          "output_type": "execute_result",
          "data": {
            "text/html": [
              "<div>\n",
              "<style scoped>\n",
              "    .dataframe tbody tr th:only-of-type {\n",
              "        vertical-align: middle;\n",
              "    }\n",
              "\n",
              "    .dataframe tbody tr th {\n",
              "        vertical-align: top;\n",
              "    }\n",
              "\n",
              "    .dataframe thead th {\n",
              "        text-align: right;\n",
              "    }\n",
              "</style>\n",
              "<table border=\"1\" class=\"dataframe\">\n",
              "  <thead>\n",
              "    <tr style=\"text-align: right;\">\n",
              "      <th></th>\n",
              "      <th>title</th>\n",
              "      <th>title_length</th>\n",
              "      <th>long_title</th>\n",
              "      <th>first_letter</th>\n",
              "      <th>title_word_count</th>\n",
              "    </tr>\n",
              "  </thead>\n",
              "  <tbody>\n",
              "    <tr>\n",
              "      <th>6</th>\n",
              "      <td>Automating Code Quality</td>\n",
              "      <td>False</td>\n",
              "      <td>False</td>\n",
              "      <td>A</td>\n",
              "      <td>3</td>\n",
              "    </tr>\n",
              "    <tr>\n",
              "      <th>8</th>\n",
              "      <td>Behavior-Driven Python</td>\n",
              "      <td>False</td>\n",
              "      <td>False</td>\n",
              "      <td>B</td>\n",
              "      <td>2</td>\n",
              "    </tr>\n",
              "    <tr>\n",
              "      <th>21</th>\n",
              "      <td>Coding through Adversity</td>\n",
              "      <td>False</td>\n",
              "      <td>False</td>\n",
              "      <td>C</td>\n",
              "      <td>3</td>\n",
              "    </tr>\n",
              "    <tr>\n",
              "      <th>52</th>\n",
              "      <td>Love your bugs</td>\n",
              "      <td>False</td>\n",
              "      <td>False</td>\n",
              "      <td>L</td>\n",
              "      <td>3</td>\n",
              "    </tr>\n",
              "    <tr>\n",
              "      <th>57</th>\n",
              "      <td>Practical Sphinx</td>\n",
              "      <td>False</td>\n",
              "      <td>False</td>\n",
              "      <td>P</td>\n",
              "      <td>2</td>\n",
              "    </tr>\n",
              "    <tr>\n",
              "      <th>76</th>\n",
              "      <td>Taking Django Async</td>\n",
              "      <td>False</td>\n",
              "      <td>False</td>\n",
              "      <td>T</td>\n",
              "      <td>3</td>\n",
              "    </tr>\n",
              "  </tbody>\n",
              "</table>\n",
              "</div>"
            ],
            "text/plain": [
              "                       title  title_length  long_title first_letter  \\\n",
              "6    Automating Code Quality         False       False            A   \n",
              "8     Behavior-Driven Python         False       False            B   \n",
              "21  Coding through Adversity         False       False            C   \n",
              "52            Love your bugs         False       False            L   \n",
              "57          Practical Sphinx         False       False            P   \n",
              "76       Taking Django Async         False       False            T   \n",
              "\n",
              "    title_word_count  \n",
              "6                  3  \n",
              "8                  2  \n",
              "21                 3  \n",
              "52                 3  \n",
              "57                 2  \n",
              "76                 3  "
            ]
          },
          "metadata": {
            "tags": []
          },
          "execution_count": 43
        }
      ]
    },
    {
      "metadata": {
        "id": "UN_7FABhwDqc",
        "colab_type": "text"
      },
      "cell_type": "markdown",
      "source": [
        "## Rename column\n",
        "\n",
        "`title length` --> `title character count`\n",
        "\n",
        "pandas documentation: [rename](https://pandas.pydata.org/pandas-docs/stable/generated/pandas.DataFrame.rename.html)"
      ]
    },
    {
      "metadata": {
        "id": "jvTif7sBBMpN",
        "colab_type": "code",
        "colab": {
          "base_uri": "https://localhost:8080/",
          "height": 67
        },
        "outputId": "4a4d300f-55d5-4df2-99b3-f6623e60b5be"
      },
      "cell_type": "code",
      "source": [
        "df['title_character_count'] = df['title_length']\n",
        "df.head()\n",
        "#alt\n",
        "df = df.rename(columns={'title_legth': 'title_cha'})\n",
        "df.columns"
      ],
      "execution_count": 45,
      "outputs": [
        {
          "output_type": "execute_result",
          "data": {
            "text/plain": [
              "Index(['title', 'title_length', 'long_title', 'first_letter',\n",
              "       'title_word_count', 'title_character_count'],\n",
              "      dtype='object')"
            ]
          },
          "metadata": {
            "tags": []
          },
          "execution_count": 45
        }
      ]
    },
    {
      "metadata": {
        "id": "ca2pDtytr5tR",
        "colab_type": "text"
      },
      "cell_type": "markdown",
      "source": [
        "## Analyze the dataframe"
      ]
    },
    {
      "metadata": {
        "id": "AitNVDCFwWwc",
        "colab_type": "text"
      },
      "cell_type": "markdown",
      "source": [
        "### Describe\n",
        "\n",
        "pandas documentation: [describe](https://pandas.pydata.org/pandas-docs/stable/generated/pandas.DataFrame.describe.html)"
      ]
    },
    {
      "metadata": {
        "id": "yPo9RdxYBQ64",
        "colab_type": "code",
        "colab": {
          "base_uri": "https://localhost:8080/",
          "height": 236
        },
        "outputId": "b9bd8ecb-d134-4f55-9d86-f3c793c6618b"
      },
      "cell_type": "code",
      "source": [
        "import numpy as np\n",
        "df.describe(exclude=np.number)"
      ],
      "execution_count": 47,
      "outputs": [
        {
          "output_type": "execute_result",
          "data": {
            "text/html": [
              "<div>\n",
              "<style scoped>\n",
              "    .dataframe tbody tr th:only-of-type {\n",
              "        vertical-align: middle;\n",
              "    }\n",
              "\n",
              "    .dataframe tbody tr th {\n",
              "        vertical-align: top;\n",
              "    }\n",
              "\n",
              "    .dataframe thead th {\n",
              "        text-align: right;\n",
              "    }\n",
              "</style>\n",
              "<table border=\"1\" class=\"dataframe\">\n",
              "  <thead>\n",
              "    <tr style=\"text-align: right;\">\n",
              "      <th></th>\n",
              "      <th>title</th>\n",
              "      <th>title_length</th>\n",
              "      <th>long_title</th>\n",
              "      <th>first_letter</th>\n",
              "      <th>title_character_count</th>\n",
              "    </tr>\n",
              "  </thead>\n",
              "  <tbody>\n",
              "    <tr>\n",
              "      <th>count</th>\n",
              "      <td>95</td>\n",
              "      <td>95</td>\n",
              "      <td>95</td>\n",
              "      <td>95</td>\n",
              "      <td>95</td>\n",
              "    </tr>\n",
              "    <tr>\n",
              "      <th>unique</th>\n",
              "      <td>95</td>\n",
              "      <td>2</td>\n",
              "      <td>2</td>\n",
              "      <td>21</td>\n",
              "      <td>2</td>\n",
              "    </tr>\n",
              "    <tr>\n",
              "      <th>top</th>\n",
              "      <td>The Journey Over the Intermediate Gap</td>\n",
              "      <td>False</td>\n",
              "      <td>False</td>\n",
              "      <td>P</td>\n",
              "      <td>False</td>\n",
              "    </tr>\n",
              "    <tr>\n",
              "      <th>freq</th>\n",
              "      <td>1</td>\n",
              "      <td>90</td>\n",
              "      <td>90</td>\n",
              "      <td>12</td>\n",
              "      <td>90</td>\n",
              "    </tr>\n",
              "  </tbody>\n",
              "</table>\n",
              "</div>"
            ],
            "text/plain": [
              "                                        title title_length long_title  \\\n",
              "count                                      95           95         95   \n",
              "unique                                     95            2          2   \n",
              "top     The Journey Over the Intermediate Gap        False      False   \n",
              "freq                                        1           90         90   \n",
              "\n",
              "       first_letter title_character_count  \n",
              "count            95                    95  \n",
              "unique           21                     2  \n",
              "top               P                 False  \n",
              "freq             12                    90  "
            ]
          },
          "metadata": {
            "tags": []
          },
          "execution_count": 47
        }
      ]
    },
    {
      "metadata": {
        "id": "T0lc_o-xyjZU",
        "colab_type": "text"
      },
      "cell_type": "markdown",
      "source": [
        "### Sort values\n",
        "\n",
        "pandas documentation: [sort_values](https://pandas.pydata.org/pandas-docs/stable/generated/pandas.DataFrame.sort_values.html)"
      ]
    },
    {
      "metadata": {
        "id": "9QFVpN1yrjyY",
        "colab_type": "code",
        "colab": {
          "base_uri": "https://localhost:8080/",
          "height": 501
        },
        "outputId": "5398489d-6b88-4f8c-98bd-01126a89b18e"
      },
      "cell_type": "code",
      "source": [
        "df.sort_values(by='title_character_count').head()"
      ],
      "execution_count": 48,
      "outputs": [
        {
          "output_type": "execute_result",
          "data": {
            "text/html": [
              "<div>\n",
              "<style scoped>\n",
              "    .dataframe tbody tr th:only-of-type {\n",
              "        vertical-align: middle;\n",
              "    }\n",
              "\n",
              "    .dataframe tbody tr th {\n",
              "        vertical-align: top;\n",
              "    }\n",
              "\n",
              "    .dataframe thead th {\n",
              "        text-align: right;\n",
              "    }\n",
              "</style>\n",
              "<table border=\"1\" class=\"dataframe\">\n",
              "  <thead>\n",
              "    <tr style=\"text-align: right;\">\n",
              "      <th></th>\n",
              "      <th>title</th>\n",
              "      <th>title_length</th>\n",
              "      <th>long_title</th>\n",
              "      <th>first_letter</th>\n",
              "      <th>title_word_count</th>\n",
              "      <th>title_character_count</th>\n",
              "    </tr>\n",
              "  </thead>\n",
              "  <tbody>\n",
              "    <tr>\n",
              "      <th>0</th>\n",
              "      <td>A Bit about Bytes: Understanding Python Bytecode</td>\n",
              "      <td>False</td>\n",
              "      <td>False</td>\n",
              "      <td>A</td>\n",
              "      <td>7</td>\n",
              "      <td>False</td>\n",
              "    </tr>\n",
              "    <tr>\n",
              "      <th>68</th>\n",
              "      <td>Reactive Programming with RxPy</td>\n",
              "      <td>False</td>\n",
              "      <td>False</td>\n",
              "      <td>R</td>\n",
              "      <td>4</td>\n",
              "      <td>False</td>\n",
              "    </tr>\n",
              "    <tr>\n",
              "      <th>67</th>\n",
              "      <td>Randomness in Python: Controlled Chaos in an Ordered Machine</td>\n",
              "      <td>False</td>\n",
              "      <td>False</td>\n",
              "      <td>R</td>\n",
              "      <td>9</td>\n",
              "      <td>False</td>\n",
              "    </tr>\n",
              "    <tr>\n",
              "      <th>66</th>\n",
              "      <td>Python Performance Investigation by Example</td>\n",
              "      <td>False</td>\n",
              "      <td>False</td>\n",
              "      <td>P</td>\n",
              "      <td>5</td>\n",
              "      <td>False</td>\n",
              "    </tr>\n",
              "    <tr>\n",
              "      <th>65</th>\n",
              "      <td>Python, Locales and Writing Systems</td>\n",
              "      <td>False</td>\n",
              "      <td>False</td>\n",
              "      <td>P</td>\n",
              "      <td>5</td>\n",
              "      <td>False</td>\n",
              "    </tr>\n",
              "  </tbody>\n",
              "</table>\n",
              "</div>"
            ],
            "text/plain": [
              "                                                           title  \\\n",
              "0               A Bit about Bytes: Understanding Python Bytecode   \n",
              "68                                Reactive Programming with RxPy   \n",
              "67  Randomness in Python: Controlled Chaos in an Ordered Machine   \n",
              "66                   Python Performance Investigation by Example   \n",
              "65                           Python, Locales and Writing Systems   \n",
              "\n",
              "    title_length  long_title first_letter  title_word_count  \\\n",
              "0          False       False            A                 7   \n",
              "68         False       False            R                 4   \n",
              "67         False       False            R                 9   \n",
              "66         False       False            P                 5   \n",
              "65         False       False            P                 5   \n",
              "\n",
              "    title_character_count  \n",
              "0                   False  \n",
              "68                  False  \n",
              "67                  False  \n",
              "66                  False  \n",
              "65                  False  "
            ]
          },
          "metadata": {
            "tags": []
          },
          "execution_count": 48
        }
      ]
    },
    {
      "metadata": {
        "id": "kxE2swJ9-cG_",
        "colab_type": "text"
      },
      "cell_type": "markdown",
      "source": [
        "Five shortest titles, by character count"
      ]
    },
    {
      "metadata": {
        "id": "7t8DlpLhBVQa",
        "colab_type": "code",
        "colab": {
          "base_uri": "https://localhost:8080/",
          "height": 467
        },
        "outputId": "36d0fc94-bfb2-439d-d6f6-004d68785bb1"
      },
      "cell_type": "code",
      "source": [
        "df['first_letter'] = df['first_letter'].str.upper()\n",
        "df.sort_values(by='first_letter', ascending=False).head()"
      ],
      "execution_count": 51,
      "outputs": [
        {
          "output_type": "execute_result",
          "data": {
            "text/html": [
              "<div>\n",
              "<style scoped>\n",
              "    .dataframe tbody tr th:only-of-type {\n",
              "        vertical-align: middle;\n",
              "    }\n",
              "\n",
              "    .dataframe tbody tr th {\n",
              "        vertical-align: top;\n",
              "    }\n",
              "\n",
              "    .dataframe thead th {\n",
              "        text-align: right;\n",
              "    }\n",
              "</style>\n",
              "<table border=\"1\" class=\"dataframe\">\n",
              "  <thead>\n",
              "    <tr style=\"text-align: right;\">\n",
              "      <th></th>\n",
              "      <th>title</th>\n",
              "      <th>title_length</th>\n",
              "      <th>long_title</th>\n",
              "      <th>first_letter</th>\n",
              "      <th>title_word_count</th>\n",
              "      <th>title_character_count</th>\n",
              "    </tr>\n",
              "  </thead>\n",
              "  <tbody>\n",
              "    <tr>\n",
              "      <th>94</th>\n",
              "      <td>You're an expert. Here's how to teach like one.</td>\n",
              "      <td>False</td>\n",
              "      <td>False</td>\n",
              "      <td>Y</td>\n",
              "      <td>9</td>\n",
              "      <td>False</td>\n",
              "    </tr>\n",
              "    <tr>\n",
              "      <th>93</th>\n",
              "      <td>Win back lovely API: GraphQL in Python</td>\n",
              "      <td>False</td>\n",
              "      <td>False</td>\n",
              "      <td>W</td>\n",
              "      <td>7</td>\n",
              "      <td>False</td>\n",
              "    </tr>\n",
              "    <tr>\n",
              "      <th>91</th>\n",
              "      <td>What is a Python Core Developer?</td>\n",
              "      <td>False</td>\n",
              "      <td>False</td>\n",
              "      <td>W</td>\n",
              "      <td>6</td>\n",
              "      <td>False</td>\n",
              "    </tr>\n",
              "    <tr>\n",
              "      <th>90</th>\n",
              "      <td>Visual Testing with PyCharm and pytest</td>\n",
              "      <td>False</td>\n",
              "      <td>False</td>\n",
              "      <td>V</td>\n",
              "      <td>6</td>\n",
              "      <td>False</td>\n",
              "    </tr>\n",
              "    <tr>\n",
              "      <th>89</th>\n",
              "      <td>Visualizing Algorithms with Python and Programmable LEDs</td>\n",
              "      <td>False</td>\n",
              "      <td>False</td>\n",
              "      <td>V</td>\n",
              "      <td>7</td>\n",
              "      <td>False</td>\n",
              "    </tr>\n",
              "  </tbody>\n",
              "</table>\n",
              "</div>"
            ],
            "text/plain": [
              "                                                       title  title_length  \\\n",
              "94           You're an expert. Here's how to teach like one.         False   \n",
              "93                    Win back lovely API: GraphQL in Python         False   \n",
              "91                          What is a Python Core Developer?         False   \n",
              "90                    Visual Testing with PyCharm and pytest         False   \n",
              "89  Visualizing Algorithms with Python and Programmable LEDs         False   \n",
              "\n",
              "    long_title first_letter  title_word_count  title_character_count  \n",
              "94       False            Y                 9                  False  \n",
              "93       False            W                 7                  False  \n",
              "91       False            W                 6                  False  \n",
              "90       False            V                 6                  False  \n",
              "89       False            V                 7                  False  "
            ]
          },
          "metadata": {
            "tags": []
          },
          "execution_count": 51
        }
      ]
    },
    {
      "metadata": {
        "id": "NOEH4Ef5-kvo",
        "colab_type": "text"
      },
      "cell_type": "markdown",
      "source": [
        "Titles sorted reverse alphabetically"
      ]
    },
    {
      "metadata": {
        "id": "WkymeWDjBV8X",
        "colab_type": "code",
        "colab": {}
      },
      "cell_type": "code",
      "source": [
        ""
      ],
      "execution_count": 0,
      "outputs": []
    },
    {
      "metadata": {
        "id": "e4wr42FB0GV-",
        "colab_type": "text"
      },
      "cell_type": "markdown",
      "source": [
        "### Get value counts\n",
        "\n",
        "pandas documentation: [value_counts](https://pandas.pydata.org/pandas-docs/stable/generated/pandas.Series.value_counts.html)\n"
      ]
    },
    {
      "metadata": {
        "id": "D81LNGaI-6ya",
        "colab_type": "text"
      },
      "cell_type": "markdown",
      "source": [
        "Frequency counts of first letters"
      ]
    },
    {
      "metadata": {
        "id": "AdTQYsRKBZio",
        "colab_type": "code",
        "colab": {
          "base_uri": "https://localhost:8080/",
          "height": 370
        },
        "outputId": "8ae8dc60-5377-41b7-f5c1-2e4fe98b2799"
      },
      "cell_type": "code",
      "source": [
        "df['first_letter'].value_counts().sort_index()"
      ],
      "execution_count": 52,
      "outputs": [
        {
          "output_type": "execute_result",
          "data": {
            "text/plain": [
              "\"     1\n",
              "A     7\n",
              "B    11\n",
              "C     8\n",
              "D     7\n",
              "E     5\n",
              "F     3\n",
              "G     2\n",
              "H     5\n",
              "I     2\n",
              "L     3\n",
              "O     2\n",
              "P    12\n",
              "R     3\n",
              "S     6\n",
              "T    11\n",
              "U     2\n",
              "V     2\n",
              "W     2\n",
              "Y     1\n",
              "Name: first_letter, dtype: int64"
            ]
          },
          "metadata": {
            "tags": []
          },
          "execution_count": 52
        }
      ]
    },
    {
      "metadata": {
        "id": "8DB0QFXwsoUV",
        "colab_type": "code",
        "colab": {
          "base_uri": "https://localhost:8080/",
          "height": 67
        },
        "outputId": "2c13bc9f-a2db-4d65-a3e3-40bd50e9bf45"
      },
      "cell_type": "code",
      "source": [
        "df[df['first_letter']=='\"\"']"
      ],
      "execution_count": 53,
      "outputs": [
        {
          "output_type": "execute_result",
          "data": {
            "text/html": [
              "<div>\n",
              "<style scoped>\n",
              "    .dataframe tbody tr th:only-of-type {\n",
              "        vertical-align: middle;\n",
              "    }\n",
              "\n",
              "    .dataframe tbody tr th {\n",
              "        vertical-align: top;\n",
              "    }\n",
              "\n",
              "    .dataframe thead th {\n",
              "        text-align: right;\n",
              "    }\n",
              "</style>\n",
              "<table border=\"1\" class=\"dataframe\">\n",
              "  <thead>\n",
              "    <tr style=\"text-align: right;\">\n",
              "      <th></th>\n",
              "      <th>title</th>\n",
              "      <th>title_length</th>\n",
              "      <th>long_title</th>\n",
              "      <th>first_letter</th>\n",
              "      <th>title_word_count</th>\n",
              "      <th>title_character_count</th>\n",
              "    </tr>\n",
              "  </thead>\n",
              "  <tbody>\n",
              "  </tbody>\n",
              "</table>\n",
              "</div>"
            ],
            "text/plain": [
              "Empty DataFrame\n",
              "Columns: [title, title_length, long_title, first_letter, title_word_count, title_character_count]\n",
              "Index: []"
            ]
          },
          "metadata": {
            "tags": []
          },
          "execution_count": 53
        }
      ]
    },
    {
      "metadata": {
        "id": "04NVokvTAwqK",
        "colab_type": "text"
      },
      "cell_type": "markdown",
      "source": [
        "Percentage of talks with long titles"
      ]
    },
    {
      "metadata": {
        "id": "uS8qp4hrBat6",
        "colab_type": "code",
        "colab": {
          "base_uri": "https://localhost:8080/",
          "height": 67
        },
        "outputId": "4e73c7e4-60fa-4290-82cd-cf477308ae0c"
      },
      "cell_type": "code",
      "source": [
        "df['long_title'].value_counts()/len(df)\n",
        "#alt\n",
        "df['long_title'].value_counts(normalize=True)*100"
      ],
      "execution_count": 55,
      "outputs": [
        {
          "output_type": "execute_result",
          "data": {
            "text/plain": [
              "False    94.736842\n",
              "True      5.263158\n",
              "Name: long_title, dtype: float64"
            ]
          },
          "metadata": {
            "tags": []
          },
          "execution_count": 55
        }
      ]
    },
    {
      "metadata": {
        "id": "mmYZL2QL0lgd",
        "colab_type": "text"
      },
      "cell_type": "markdown",
      "source": [
        "### Plot\n",
        "\n",
        "pandas documentation: [Visualization](https://pandas.pydata.org/pandas-docs/stable/visualization.html)\n",
        "\n",
        "\n",
        "\n"
      ]
    },
    {
      "metadata": {
        "id": "c6gCotA9_B68",
        "colab_type": "text"
      },
      "cell_type": "markdown",
      "source": [
        "Top 5 most frequent first letters"
      ]
    },
    {
      "metadata": {
        "id": "DUmcVcdXBdkw",
        "colab_type": "code",
        "colab": {
          "base_uri": "https://localhost:8080/",
          "height": 280
        },
        "outputId": "44c067a2-d0f1-4c03-d2b9-7251a9dc2a6b"
      },
      "cell_type": "code",
      "source": [
        "%matplotlib inline\n",
        "(df['first_letter'].value_counts().head()\n",
        " .plot.barh(color='grey', title='Top 5 Most Frequent First Letters'));\n",
        "#suppress subplot object with ;\n"
      ],
      "execution_count": 58,
      "outputs": [
        {
          "output_type": "display_data",
          "data": {
            "image/png": "[encoded data removed]",
            "text/plain": [
              "<matplotlib.figure.Figure at 0x7f50a79427f0>"
            ]
          },
          "metadata": {
            "tags": []
          }
        }
      ]
    },
    {
      "metadata": {
        "id": "_Ngegk0bASty",
        "colab_type": "text"
      },
      "cell_type": "markdown",
      "source": [
        "Histogram of title lengths, in characters"
      ]
    },
    {
      "metadata": {
        "id": "y5oLu2D4BeKw",
        "colab_type": "code",
        "colab": {
          "base_uri": "https://localhost:8080/",
          "height": 904
        },
        "outputId": "5f855ff8-0d79-40cf-bcee-aed044220ea5"
      },
      "cell_type": "code",
      "source": [
        "title = 'Dist of Character Count'\n",
        "df['title_character_count'].plot.hist(title=title);"
      ],
      "execution_count": 59,
      "outputs": [
        {
          "output_type": "error",
          "ename": "TypeError",
          "evalue": "ignored",
          "traceback": [
            "\u001b[0;31m---------------------------------------------------------------------------\u001b[0m",
            "\u001b[0;31mTypeError\u001b[0m                                 Traceback (most recent call last)",
            "\u001b[0;32m<ipython-input-59-6ec89fed44c3>\u001b[0m in \u001b[0;36m<module>\u001b[0;34m()\u001b[0m\n\u001b[1;32m      1\u001b[0m \u001b[0mtitle\u001b[0m \u001b[0;34m=\u001b[0m \u001b[0;34m'Dist of Character Count'\u001b[0m\u001b[0;34m\u001b[0m\u001b[0;34m\u001b[0m\u001b[0m\n\u001b[0;32m----> 2\u001b[0;31m \u001b[0mdf\u001b[0m\u001b[0;34m[\u001b[0m\u001b[0;34m'title_character_count'\u001b[0m\u001b[0;34m]\u001b[0m\u001b[0;34m.\u001b[0m\u001b[0mplot\u001b[0m\u001b[0;34m.\u001b[0m\u001b[0mhist\u001b[0m\u001b[0;34m(\u001b[0m\u001b[0mtitle\u001b[0m\u001b[0;34m=\u001b[0m\u001b[0mtitle\u001b[0m\u001b[0;34m)\u001b[0m\u001b[0;34m;\u001b[0m\u001b[0;34m\u001b[0m\u001b[0;34m\u001b[0m\u001b[0m\n\u001b[0m",
            "\u001b[0;32m/usr/local/lib/python3.6/dist-packages/pandas/plotting/_core.py\u001b[0m in \u001b[0;36mhist\u001b[0;34m(self, bins, **kwds)\u001b[0m\n\u001b[1;32m   2589\u001b[0m         \u001b[0maxes\u001b[0m \u001b[0;34m:\u001b[0m \u001b[0mmatplotlib\u001b[0m\u001b[0;34m.\u001b[0m\u001b[0mAxesSubplot\u001b[0m \u001b[0;32mor\u001b[0m \u001b[0mnp\u001b[0m\u001b[0;34m.\u001b[0m\u001b[0marray\u001b[0m \u001b[0mof\u001b[0m \u001b[0mthem\u001b[0m\u001b[0;34m\u001b[0m\u001b[0;34m\u001b[0m\u001b[0m\n\u001b[1;32m   2590\u001b[0m         \"\"\"\n\u001b[0;32m-> 2591\u001b[0;31m         \u001b[0;32mreturn\u001b[0m \u001b[0mself\u001b[0m\u001b[0;34m(\u001b[0m\u001b[0mkind\u001b[0m\u001b[0;34m=\u001b[0m\u001b[0;34m'hist'\u001b[0m\u001b[0;34m,\u001b[0m \u001b[0mbins\u001b[0m\u001b[0;34m=\u001b[0m\u001b[0mbins\u001b[0m\u001b[0;34m,\u001b[0m \u001b[0;34m**\u001b[0m\u001b[0mkwds\u001b[0m\u001b[0;34m)\u001b[0m\u001b[0;34m\u001b[0m\u001b[0;34m\u001b[0m\u001b[0m\n\u001b[0m\u001b[1;32m   2592\u001b[0m \u001b[0;34m\u001b[0m\u001b[0m\n\u001b[1;32m   2593\u001b[0m     \u001b[0;32mdef\u001b[0m \u001b[0mkde\u001b[0m\u001b[0;34m(\u001b[0m\u001b[0mself\u001b[0m\u001b[0;34m,\u001b[0m \u001b[0;34m**\u001b[0m\u001b[0mkwds\u001b[0m\u001b[0;34m)\u001b[0m\u001b[0;34m:\u001b[0m\u001b[0;34m\u001b[0m\u001b[0;34m\u001b[0m\u001b[0m\n",
            "\u001b[0;32m/usr/local/lib/python3.6/dist-packages/pandas/plotting/_core.py\u001b[0m in \u001b[0;36m__call__\u001b[0;34m(self, kind, ax, figsize, use_index, title, grid, legend, style, logx, logy, loglog, xticks, yticks, xlim, ylim, rot, fontsize, colormap, table, yerr, xerr, label, secondary_y, **kwds)\u001b[0m\n\u001b[1;32m   2501\u001b[0m                            \u001b[0mcolormap\u001b[0m\u001b[0;34m=\u001b[0m\u001b[0mcolormap\u001b[0m\u001b[0;34m,\u001b[0m \u001b[0mtable\u001b[0m\u001b[0;34m=\u001b[0m\u001b[0mtable\u001b[0m\u001b[0;34m,\u001b[0m \u001b[0myerr\u001b[0m\u001b[0;34m=\u001b[0m\u001b[0myerr\u001b[0m\u001b[0;34m,\u001b[0m\u001b[0;34m\u001b[0m\u001b[0;34m\u001b[0m\u001b[0m\n\u001b[1;32m   2502\u001b[0m                            \u001b[0mxerr\u001b[0m\u001b[0;34m=\u001b[0m\u001b[0mxerr\u001b[0m\u001b[0;34m,\u001b[0m \u001b[0mlabel\u001b[0m\u001b[0;34m=\u001b[0m\u001b[0mlabel\u001b[0m\u001b[0;34m,\u001b[0m \u001b[0msecondary_y\u001b[0m\u001b[0;34m=\u001b[0m\u001b[0msecondary_y\u001b[0m\u001b[0;34m,\u001b[0m\u001b[0;34m\u001b[0m\u001b[0;34m\u001b[0m\u001b[0m\n\u001b[0;32m-> 2503\u001b[0;31m                            **kwds)\n\u001b[0m\u001b[1;32m   2504\u001b[0m     \u001b[0m__call__\u001b[0m\u001b[0;34m.\u001b[0m\u001b[0m__doc__\u001b[0m \u001b[0;34m=\u001b[0m \u001b[0mplot_series\u001b[0m\u001b[0;34m.\u001b[0m\u001b[0m__doc__\u001b[0m\u001b[0;34m\u001b[0m\u001b[0;34m\u001b[0m\u001b[0m\n\u001b[1;32m   2505\u001b[0m \u001b[0;34m\u001b[0m\u001b[0m\n",
            "\u001b[0;32m/usr/local/lib/python3.6/dist-packages/pandas/plotting/_core.py\u001b[0m in \u001b[0;36mplot_series\u001b[0;34m(data, kind, ax, figsize, use_index, title, grid, legend, style, logx, logy, loglog, xticks, yticks, xlim, ylim, rot, fontsize, colormap, table, yerr, xerr, label, secondary_y, **kwds)\u001b[0m\n\u001b[1;32m   1925\u001b[0m                  \u001b[0myerr\u001b[0m\u001b[0;34m=\u001b[0m\u001b[0myerr\u001b[0m\u001b[0;34m,\u001b[0m \u001b[0mxerr\u001b[0m\u001b[0;34m=\u001b[0m\u001b[0mxerr\u001b[0m\u001b[0;34m,\u001b[0m\u001b[0;34m\u001b[0m\u001b[0;34m\u001b[0m\u001b[0m\n\u001b[1;32m   1926\u001b[0m                  \u001b[0mlabel\u001b[0m\u001b[0;34m=\u001b[0m\u001b[0mlabel\u001b[0m\u001b[0;34m,\u001b[0m \u001b[0msecondary_y\u001b[0m\u001b[0;34m=\u001b[0m\u001b[0msecondary_y\u001b[0m\u001b[0;34m,\u001b[0m\u001b[0;34m\u001b[0m\u001b[0;34m\u001b[0m\u001b[0m\n\u001b[0;32m-> 1927\u001b[0;31m                  **kwds)\n\u001b[0m\u001b[1;32m   1928\u001b[0m \u001b[0;34m\u001b[0m\u001b[0m\n\u001b[1;32m   1929\u001b[0m \u001b[0;34m\u001b[0m\u001b[0m\n",
            "\u001b[0;32m/usr/local/lib/python3.6/dist-packages/pandas/plotting/_core.py\u001b[0m in \u001b[0;36m_plot\u001b[0;34m(data, x, y, subplots, ax, kind, **kwds)\u001b[0m\n\u001b[1;32m   1727\u001b[0m         \u001b[0mplot_obj\u001b[0m \u001b[0;34m=\u001b[0m \u001b[0mklass\u001b[0m\u001b[0;34m(\u001b[0m\u001b[0mdata\u001b[0m\u001b[0;34m,\u001b[0m \u001b[0msubplots\u001b[0m\u001b[0;34m=\u001b[0m\u001b[0msubplots\u001b[0m\u001b[0;34m,\u001b[0m \u001b[0max\u001b[0m\u001b[0;34m=\u001b[0m\u001b[0max\u001b[0m\u001b[0;34m,\u001b[0m \u001b[0mkind\u001b[0m\u001b[0;34m=\u001b[0m\u001b[0mkind\u001b[0m\u001b[0;34m,\u001b[0m \u001b[0;34m**\u001b[0m\u001b[0mkwds\u001b[0m\u001b[0;34m)\u001b[0m\u001b[0;34m\u001b[0m\u001b[0;34m\u001b[0m\u001b[0m\n\u001b[1;32m   1728\u001b[0m \u001b[0;34m\u001b[0m\u001b[0m\n\u001b[0;32m-> 1729\u001b[0;31m     \u001b[0mplot_obj\u001b[0m\u001b[0;34m.\u001b[0m\u001b[0mgenerate\u001b[0m\u001b[0;34m(\u001b[0m\u001b[0;34m)\u001b[0m\u001b[0;34m\u001b[0m\u001b[0;34m\u001b[0m\u001b[0m\n\u001b[0m\u001b[1;32m   1730\u001b[0m     \u001b[0mplot_obj\u001b[0m\u001b[0;34m.\u001b[0m\u001b[0mdraw\u001b[0m\u001b[0;34m(\u001b[0m\u001b[0;34m)\u001b[0m\u001b[0;34m\u001b[0m\u001b[0;34m\u001b[0m\u001b[0m\n\u001b[1;32m   1731\u001b[0m     \u001b[0;32mreturn\u001b[0m \u001b[0mplot_obj\u001b[0m\u001b[0;34m.\u001b[0m\u001b[0mresult\u001b[0m\u001b[0;34m\u001b[0m\u001b[0;34m\u001b[0m\u001b[0m\n",
            "\u001b[0;32m/usr/local/lib/python3.6/dist-packages/pandas/plotting/_core.py\u001b[0m in \u001b[0;36mgenerate\u001b[0;34m(self)\u001b[0m\n\u001b[1;32m    248\u001b[0m     \u001b[0;32mdef\u001b[0m \u001b[0mgenerate\u001b[0m\u001b[0;34m(\u001b[0m\u001b[0mself\u001b[0m\u001b[0;34m)\u001b[0m\u001b[0;34m:\u001b[0m\u001b[0;34m\u001b[0m\u001b[0;34m\u001b[0m\u001b[0m\n\u001b[1;32m    249\u001b[0m         \u001b[0mself\u001b[0m\u001b[0;34m.\u001b[0m\u001b[0m_args_adjust\u001b[0m\u001b[0;34m(\u001b[0m\u001b[0;34m)\u001b[0m\u001b[0;34m\u001b[0m\u001b[0;34m\u001b[0m\u001b[0m\n\u001b[0;32m--> 250\u001b[0;31m         \u001b[0mself\u001b[0m\u001b[0;34m.\u001b[0m\u001b[0m_compute_plot_data\u001b[0m\u001b[0;34m(\u001b[0m\u001b[0;34m)\u001b[0m\u001b[0;34m\u001b[0m\u001b[0;34m\u001b[0m\u001b[0m\n\u001b[0m\u001b[1;32m    251\u001b[0m         \u001b[0mself\u001b[0m\u001b[0;34m.\u001b[0m\u001b[0m_setup_subplots\u001b[0m\u001b[0;34m(\u001b[0m\u001b[0;34m)\u001b[0m\u001b[0;34m\u001b[0m\u001b[0;34m\u001b[0m\u001b[0m\n\u001b[1;32m    252\u001b[0m         \u001b[0mself\u001b[0m\u001b[0;34m.\u001b[0m\u001b[0m_make_plot\u001b[0m\u001b[0;34m(\u001b[0m\u001b[0;34m)\u001b[0m\u001b[0;34m\u001b[0m\u001b[0;34m\u001b[0m\u001b[0m\n",
            "\u001b[0;32m/usr/local/lib/python3.6/dist-packages/pandas/plotting/_core.py\u001b[0m in \u001b[0;36m_compute_plot_data\u001b[0;34m(self)\u001b[0m\n\u001b[1;32m    363\u001b[0m         \u001b[0;32mif\u001b[0m \u001b[0mis_empty\u001b[0m\u001b[0;34m:\u001b[0m\u001b[0;34m\u001b[0m\u001b[0;34m\u001b[0m\u001b[0m\n\u001b[1;32m    364\u001b[0m             raise TypeError('Empty {0!r}: no numeric data to '\n\u001b[0;32m--> 365\u001b[0;31m                             'plot'.format(numeric_data.__class__.__name__))\n\u001b[0m\u001b[1;32m    366\u001b[0m \u001b[0;34m\u001b[0m\u001b[0m\n\u001b[1;32m    367\u001b[0m         \u001b[0mself\u001b[0m\u001b[0;34m.\u001b[0m\u001b[0mdata\u001b[0m \u001b[0;34m=\u001b[0m \u001b[0mnumeric_data\u001b[0m\u001b[0;34m\u001b[0m\u001b[0;34m\u001b[0m\u001b[0m\n",
            "\u001b[0;31mTypeError\u001b[0m: Empty 'DataFrame': no numeric data to plot"
          ]
        }
      ]
    },
    {
      "metadata": {
        "id": "DiylH7LQw44u",
        "colab_type": "text"
      },
      "cell_type": "markdown",
      "source": [
        "# Assignment\n",
        "\n",
        "**Scrape** the talk descriptions. Hint: `soup.select('.presentation-description')`\n",
        "\n",
        "**Make** new columns in the dataframe:\n",
        "- description\n",
        "- description character count\n",
        "- description word count\n",
        "- description grade level (use [this `textstat` function](https://github.com/shivam5992/textstat#the-flesch-kincaid-grade-level) to get the Flesh-Kincaid grade level)\n",
        "\n",
        "**Describe** all the dataframe's columns. What's the average description word count? The minimum? The maximum?\n",
        "\n",
        "**Answer** these questions:\n",
        "- Which descriptions could fit in a tweet?\n",
        "- What's the distribution of grade levels? Plot a histogram.\n",
        "\n"
      ]
    },
    {
      "metadata": {
        "id": "Ii3mklzMufl4",
        "colab_type": "code",
        "colab": {
          "base_uri": "https://localhost:8080/",
          "height": 731
        },
        "outputId": "618346e0-22c4-4c06-cbd9-9f0560bc19db"
      },
      "cell_type": "code",
      "source": [
        "description = [tag.text.strip() for tag in soup.select('.presentation-description')]\n",
        "df['description'] = description\n",
        "df.head(2)"
      ],
      "execution_count": 61,
      "outputs": [
        {
          "output_type": "execute_result",
          "data": {
            "text/html": [
              "<div>\n",
              "<style scoped>\n",
              "    .dataframe tbody tr th:only-of-type {\n",
              "        vertical-align: middle;\n",
              "    }\n",
              "\n",
              "    .dataframe tbody tr th {\n",
              "        vertical-align: top;\n",
              "    }\n",
              "\n",
              "    .dataframe thead th {\n",
              "        text-align: right;\n",
              "    }\n",
              "</style>\n",
              "<table border=\"1\" class=\"dataframe\">\n",
              "  <thead>\n",
              "    <tr style=\"text-align: right;\">\n",
              "      <th></th>\n",
              "      <th>title</th>\n",
              "      <th>title_length</th>\n",
              "      <th>long_title</th>\n",
              "      <th>first_letter</th>\n",
              "      <th>title_word_count</th>\n",
              "      <th>title_character_count</th>\n",
              "      <th>description</th>\n",
              "    </tr>\n",
              "  </thead>\n",
              "  <tbody>\n",
              "    <tr>\n",
              "      <th>0</th>\n",
              "      <td>A Bit about Bytes: Understanding Python Bytecode</td>\n",
              "      <td>False</td>\n",
              "      <td>False</td>\n",
              "      <td>A</td>\n",
              "      <td>7</td>\n",
              "      <td>False</td>\n",
              "      <td>At some point every Python programmer sees Python bytecode files -- they're those '.pyc' files Python likes to leave behind after it runs. But have you ever wondered what's really going on in thos...</td>\n",
              "    </tr>\n",
              "    <tr>\n",
              "      <th>1</th>\n",
              "      <td>Adapting from Spark to Dask: what to expect</td>\n",
              "      <td>False</td>\n",
              "      <td>False</td>\n",
              "      <td>A</td>\n",
              "      <td>8</td>\n",
              "      <td>False</td>\n",
              "      <td>Until very recently, Apache Spark has been a de facto standard choice of a framework for batch data processing. For Python developers, diving into Spark is challenging, because it requires learnin...</td>\n",
              "    </tr>\n",
              "  </tbody>\n",
              "</table>\n",
              "</div>"
            ],
            "text/plain": [
              "                                              title  title_length  long_title  \\\n",
              "0  A Bit about Bytes: Understanding Python Bytecode         False       False   \n",
              "1       Adapting from Spark to Dask: what to expect         False       False   \n",
              "\n",
              "  first_letter  title_word_count  title_character_count  \\\n",
              "0            A                 7                  False   \n",
              "1            A                 8                  False   \n",
              "\n",
              "                                                                                                                                                                                               description  \n",
              "0  At some point every Python programmer sees Python bytecode files -- they're those '.pyc' files Python likes to leave behind after it runs. But have you ever wondered what's really going on in thos...  \n",
              "1  Until very recently, Apache Spark has been a de facto standard choice of a framework for batch data processing. For Python developers, diving into Spark is challenging, because it requires learnin...  "
            ]
          },
          "metadata": {
            "tags": []
          },
          "execution_count": 61
        }
      ]
    },
    {
      "metadata": {
        "id": "A3aPTCVCxN4z",
        "colab_type": "code",
        "colab": {
          "base_uri": "https://localhost:8080/",
          "height": 383
        },
        "outputId": "1f7b824b-31ca-46d7-c9d9-54b45510fb80"
      },
      "cell_type": "code",
      "source": [
        "df['desc_character_count'] = df.description.apply(len)\n",
        "df['desc_word_count'] = df.description.apply(textstat.lexicon_count)\n",
        "df['desc_gradelv'] = df.description.apply(textstat.flesch_kincaid_grade\n",
        "                     (str(tag.text.strip() for tag in soup.select\n",
        "                     ('.presentation-description'))))               \n",
        "df.head()"
      ],
      "execution_count": 68,
      "outputs": [
        {
          "output_type": "error",
          "ename": "TypeError",
          "evalue": "ignored",
          "traceback": [
            "\u001b[0;31m---------------------------------------------------------------------------\u001b[0m",
            "\u001b[0;31mTypeError\u001b[0m                                 Traceback (most recent call last)",
            "\u001b[0;32m<ipython-input-68-83befcde19ce>\u001b[0m in \u001b[0;36m<module>\u001b[0;34m()\u001b[0m\n\u001b[1;32m      3\u001b[0m df['desc_gradelv'] = df.description.apply(textstat.flesch_kincaid_grade\n\u001b[1;32m      4\u001b[0m                      (str(tag.text.strip() for tag in soup.select\n\u001b[0;32m----> 5\u001b[0;31m                      ('.presentation-description'))))               \n\u001b[0m\u001b[1;32m      6\u001b[0m \u001b[0mdf\u001b[0m\u001b[0;34m.\u001b[0m\u001b[0mhead\u001b[0m\u001b[0;34m(\u001b[0m\u001b[0;34m)\u001b[0m\u001b[0;34m\u001b[0m\u001b[0;34m\u001b[0m\u001b[0m\n",
            "\u001b[0;32m/usr/local/lib/python3.6/dist-packages/pandas/core/series.py\u001b[0m in \u001b[0;36mapply\u001b[0;34m(self, func, convert_dtype, args, **kwds)\u001b[0m\n\u001b[1;32m   2549\u001b[0m             \u001b[0;32melse\u001b[0m\u001b[0;34m:\u001b[0m\u001b[0;34m\u001b[0m\u001b[0;34m\u001b[0m\u001b[0m\n\u001b[1;32m   2550\u001b[0m                 \u001b[0mvalues\u001b[0m \u001b[0;34m=\u001b[0m \u001b[0mself\u001b[0m\u001b[0;34m.\u001b[0m\u001b[0masobject\u001b[0m\u001b[0;34m\u001b[0m\u001b[0;34m\u001b[0m\u001b[0m\n\u001b[0;32m-> 2551\u001b[0;31m                 \u001b[0mmapped\u001b[0m \u001b[0;34m=\u001b[0m \u001b[0mlib\u001b[0m\u001b[0;34m.\u001b[0m\u001b[0mmap_infer\u001b[0m\u001b[0;34m(\u001b[0m\u001b[0mvalues\u001b[0m\u001b[0;34m,\u001b[0m \u001b[0mf\u001b[0m\u001b[0;34m,\u001b[0m \u001b[0mconvert\u001b[0m\u001b[0;34m=\u001b[0m\u001b[0mconvert_dtype\u001b[0m\u001b[0;34m)\u001b[0m\u001b[0;34m\u001b[0m\u001b[0;34m\u001b[0m\u001b[0m\n\u001b[0m\u001b[1;32m   2552\u001b[0m \u001b[0;34m\u001b[0m\u001b[0m\n\u001b[1;32m   2553\u001b[0m         \u001b[0;32mif\u001b[0m \u001b[0mlen\u001b[0m\u001b[0;34m(\u001b[0m\u001b[0mmapped\u001b[0m\u001b[0;34m)\u001b[0m \u001b[0;32mand\u001b[0m \u001b[0misinstance\u001b[0m\u001b[0;34m(\u001b[0m\u001b[0mmapped\u001b[0m\u001b[0;34m[\u001b[0m\u001b[0;36m0\u001b[0m\u001b[0;34m]\u001b[0m\u001b[0;34m,\u001b[0m \u001b[0mSeries\u001b[0m\u001b[0;34m)\u001b[0m\u001b[0;34m:\u001b[0m\u001b[0;34m\u001b[0m\u001b[0;34m\u001b[0m\u001b[0m\n",
            "\u001b[0;32mpandas/_libs/src/inference.pyx\u001b[0m in \u001b[0;36mpandas._libs.lib.map_infer\u001b[0;34m()\u001b[0m\n",
            "\u001b[0;31mTypeError\u001b[0m: 'float' object is not callable"
          ]
        }
      ]
    },
    {
      "metadata": {
        "id": "dzZA54euxg5F",
        "colab_type": "code",
        "colab": {}
      },
      "cell_type": "code",
      "source": [
        "df[df['desc_word_count'] <= 140]"
      ],
      "execution_count": 0,
      "outputs": []
    }
  ]
}