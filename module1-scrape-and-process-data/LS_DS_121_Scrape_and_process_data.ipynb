{
  "nbformat": 4,
  "nbformat_minor": 0,
  "metadata": {
    "colab": {
      "name": "LS_DS_121_Scrape_and_process_data.ipynb",
      "version": "0.3.2",
      "provenance": [],
      "collapsed_sections": []
    },
    "kernelspec": {
      "name": "python3",
      "display_name": "Python 3"
    }
  },
  "cells": [
    {
      "metadata": {
        "id": "oR4Yeg3P07gu",
        "colab_type": "text"
      },
      "cell_type": "markdown",
      "source": [
        "_Lambda School Data Science_\n",
        "\n",
        "# Scrape and process data\n",
        "\n",
        "Objectives\n",
        "- scrape and parse web pages\n",
        "- use list comprehensions\n",
        "- select rows and columns with pandas\n",
        "\n",
        "Links\n",
        "-  [Automate the Boring Stuff with Python, Chapter 11](https://automatetheboringstuff.com/chapter11/)\n",
        "  - Requests\n",
        "  - Beautiful Soup\n",
        "- [Python List Comprehensions: Explained Visually](https://treyhunner.com/2015/12/python-list-comprehensions-now-in-color/)\n",
        "- [Pandas Cheat Sheet](https://github.com/pandas-dev/pandas/blob/master/doc/cheatsheet/Pandas_Cheat_Sheet.pdf)\n",
        "  - Subset Observations (Rows)\n",
        "  - Subset Variables (Columns)\n",
        "- Python Data Science Handbook\n",
        "  - [Chapter 3.1](https://jakevdp.github.io/PythonDataScienceHandbook/03.01-introducing-pandas-objects.html), Introducing Pandas Objects\n",
        "  - [Chapter 3.2](https://jakevdp.github.io/PythonDataScienceHandbook/03.02-data-indexing-and-selection.html), Data Indexing and Selection\n"
      ]
    },
    {
      "metadata": {
        "id": "I_NRVchqgGvM",
        "colab_type": "text"
      },
      "cell_type": "markdown",
      "source": [
        "## Scrape the titles of PyCon 2018 talks"
      ]
    },
    {
      "metadata": {
        "id": "3elw_8Nc7Tpe",
        "colab_type": "code",
        "colab": {}
      },
      "cell_type": "code",
      "source": [
        "url = 'https://us.pycon.org/2018/schedule/talks/list/'"
      ],
      "execution_count": 0,
      "outputs": []
    },
    {
      "metadata": {
        "id": "SFNsyjVsTU4b",
        "colab_type": "code",
        "colab": {}
      },
      "cell_type": "code",
      "source": [
        ""
      ],
      "execution_count": 0,
      "outputs": []
    },
    {
      "metadata": {
        "id": "DPetsFOGJFV0",
        "colab_type": "text"
      },
      "cell_type": "markdown",
      "source": [
        ""
      ]
    },
    {
      "metadata": {
        "id": "vqkNgAzYpeK7",
        "colab_type": "text"
      },
      "cell_type": "markdown",
      "source": [
        "## 5 ways to look at long titles\n",
        "\n",
        "Let's define a long title as greater than 80 characters"
      ]
    },
    {
      "metadata": {
        "id": "N7tqeZh14Fws",
        "colab_type": "text"
      },
      "cell_type": "markdown",
      "source": [
        "### 1. For Loop"
      ]
    },
    {
      "metadata": {
        "id": "kKxs5tqDApuZ",
        "colab_type": "code",
        "colab": {}
      },
      "cell_type": "code",
      "source": [
        ""
      ],
      "execution_count": 0,
      "outputs": []
    },
    {
      "metadata": {
        "id": "I21jcEnK4IN7",
        "colab_type": "text"
      },
      "cell_type": "markdown",
      "source": [
        "### 2. List Comprehension"
      ]
    },
    {
      "metadata": {
        "id": "qaXe9UldAs3H",
        "colab_type": "code",
        "colab": {}
      },
      "cell_type": "code",
      "source": [
        ""
      ],
      "execution_count": 0,
      "outputs": []
    },
    {
      "metadata": {
        "id": "2kn8pxL-4yMG",
        "colab_type": "text"
      },
      "cell_type": "markdown",
      "source": [
        "### 3. Filter with named function"
      ]
    },
    {
      "metadata": {
        "id": "ywLqqFJNAvFm",
        "colab_type": "code",
        "colab": {}
      },
      "cell_type": "code",
      "source": [
        ""
      ],
      "execution_count": 0,
      "outputs": []
    },
    {
      "metadata": {
        "id": "IPIT6oXz40Q3",
        "colab_type": "text"
      },
      "cell_type": "markdown",
      "source": [
        "### 4. Filter with anonymous function"
      ]
    },
    {
      "metadata": {
        "id": "giIcFYkiAwiR",
        "colab_type": "code",
        "colab": {}
      },
      "cell_type": "code",
      "source": [
        ""
      ],
      "execution_count": 0,
      "outputs": []
    },
    {
      "metadata": {
        "id": "qj8Yod8_45z4",
        "colab_type": "text"
      },
      "cell_type": "markdown",
      "source": [
        "### 5. Pandas\n",
        "\n",
        "pandas documentation: [Working with Text Data](https://pandas.pydata.org/pandas-docs/stable/text.html)"
      ]
    },
    {
      "metadata": {
        "id": "yRwPEHNcAzc_",
        "colab_type": "code",
        "colab": {}
      },
      "cell_type": "code",
      "source": [
        ""
      ],
      "execution_count": 0,
      "outputs": []
    },
    {
      "metadata": {
        "id": "8YaUZJvRp681",
        "colab_type": "text"
      },
      "cell_type": "markdown",
      "source": [
        "## Make new dataframe columns\n",
        "\n",
        "pandas documentation: [apply](https://pandas.pydata.org/pandas-docs/stable/generated/pandas.Series.apply.html)"
      ]
    },
    {
      "metadata": {
        "id": "DR_WZ-olA4-v",
        "colab_type": "code",
        "colab": {}
      },
      "cell_type": "code",
      "source": [
        ""
      ],
      "execution_count": 0,
      "outputs": []
    },
    {
      "metadata": {
        "id": "Ua74pMrGrsZR",
        "colab_type": "text"
      },
      "cell_type": "markdown",
      "source": [
        "### title length"
      ]
    },
    {
      "metadata": {
        "id": "p-Euz7tgA8Fd",
        "colab_type": "code",
        "colab": {}
      },
      "cell_type": "code",
      "source": [
        ""
      ],
      "execution_count": 0,
      "outputs": []
    },
    {
      "metadata": {
        "id": "OgsKArXPrz5n",
        "colab_type": "text"
      },
      "cell_type": "markdown",
      "source": [
        "### long title"
      ]
    },
    {
      "metadata": {
        "id": "b_WCRvvKA-IP",
        "colab_type": "code",
        "colab": {}
      },
      "cell_type": "code",
      "source": [
        ""
      ],
      "execution_count": 0,
      "outputs": []
    },
    {
      "metadata": {
        "id": "TonCXYPesUsT",
        "colab_type": "text"
      },
      "cell_type": "markdown",
      "source": [
        "### first letter"
      ]
    },
    {
      "metadata": {
        "id": "fhO4aABpBBgA",
        "colab_type": "code",
        "colab": {}
      },
      "cell_type": "code",
      "source": [
        ""
      ],
      "execution_count": 0,
      "outputs": []
    },
    {
      "metadata": {
        "id": "Etz1XeLKs6DL",
        "colab_type": "text"
      },
      "cell_type": "markdown",
      "source": [
        "### word count\n",
        "\n",
        "Using [`textstat`](https://github.com/shivam5992/textstat)"
      ]
    },
    {
      "metadata": {
        "id": "GVIkRWchs4zR",
        "colab_type": "code",
        "colab": {
          "base_uri": "https://localhost:8080/",
          "height": 238
        },
        "outputId": "47c77377-8c01-4554-c1a3-cd99e11ad1cf"
      },
      "cell_type": "code",
      "source": [
        "#!pip install textstat"
      ],
      "execution_count": 2,
      "outputs": [
        {
          "output_type": "stream",
          "text": [
            "Collecting textstat\n",
            "  Downloading https://files.pythonhosted.org/packages/9b/78/a050fa0f13c04db10c891167204e2cd0c0ae1be40842a10eaf5348360f94/textstat-0.5.4.tar.gz\n",
            "Collecting pyphen (from textstat)\n",
            "\u001b[?25l  Downloading https://files.pythonhosted.org/packages/15/82/08a3629dce8d1f3d91db843bb36d4d7db6b6269d5067259613a0d5c8a9db/Pyphen-0.9.5-py2.py3-none-any.whl (3.0MB)\n",
            "\u001b[K    100% |████████████████████████████████| 3.0MB 8.1MB/s \n",
            "\u001b[?25hCollecting repoze.lru (from textstat)\n",
            "  Downloading https://files.pythonhosted.org/packages/b0/30/6cc0c95f0b59ad4b3b9163bff7cdcf793cc96fac64cf398ff26271f5cf5e/repoze.lru-0.7-py3-none-any.whl\n",
            "Building wheels for collected packages: textstat\n",
            "  Running setup.py bdist_wheel for textstat ... \u001b[?25l-\b \bdone\n",
            "\u001b[?25h  Stored in directory: /root/.cache/pip/wheels/04/ac/d7/a05c0ad7825899f11eacd5f9a5a78534808c8159281e65863c\n",
            "Successfully built textstat\n",
            "Installing collected packages: pyphen, repoze.lru, textstat\n",
            "Successfully installed pyphen-0.9.5 repoze.lru-0.7 textstat-0.5.4\n"
          ],
          "name": "stdout"
        }
      ]
    },
    {
      "metadata": {
        "id": "mY_M_MuaBFrF",
        "colab_type": "code",
        "colab": {}
      },
      "cell_type": "code",
      "source": [
        ""
      ],
      "execution_count": 0,
      "outputs": []
    },
    {
      "metadata": {
        "id": "UN_7FABhwDqc",
        "colab_type": "text"
      },
      "cell_type": "markdown",
      "source": [
        "## Rename column\n",
        "\n",
        "`title length` --> `title character count`\n",
        "\n",
        "pandas documentation: [rename](https://pandas.pydata.org/pandas-docs/stable/generated/pandas.DataFrame.rename.html)"
      ]
    },
    {
      "metadata": {
        "id": "jvTif7sBBMpN",
        "colab_type": "code",
        "colab": {}
      },
      "cell_type": "code",
      "source": [
        ""
      ],
      "execution_count": 0,
      "outputs": []
    },
    {
      "metadata": {
        "id": "ca2pDtytr5tR",
        "colab_type": "text"
      },
      "cell_type": "markdown",
      "source": [
        "## Analyze the dataframe"
      ]
    },
    {
      "metadata": {
        "id": "AitNVDCFwWwc",
        "colab_type": "text"
      },
      "cell_type": "markdown",
      "source": [
        "### Describe\n",
        "\n",
        "pandas documentation: [describe](https://pandas.pydata.org/pandas-docs/stable/generated/pandas.DataFrame.describe.html)"
      ]
    },
    {
      "metadata": {
        "id": "yPo9RdxYBQ64",
        "colab_type": "code",
        "colab": {}
      },
      "cell_type": "code",
      "source": [
        ""
      ],
      "execution_count": 0,
      "outputs": []
    },
    {
      "metadata": {
        "id": "T0lc_o-xyjZU",
        "colab_type": "text"
      },
      "cell_type": "markdown",
      "source": [
        "### Sort values\n",
        "\n",
        "pandas documentation: [sort_values](https://pandas.pydata.org/pandas-docs/stable/generated/pandas.DataFrame.sort_values.html)"
      ]
    },
    {
      "metadata": {
        "id": "kxE2swJ9-cG_",
        "colab_type": "text"
      },
      "cell_type": "markdown",
      "source": [
        "Five shortest titles, by character count"
      ]
    },
    {
      "metadata": {
        "id": "7t8DlpLhBVQa",
        "colab_type": "code",
        "colab": {}
      },
      "cell_type": "code",
      "source": [
        ""
      ],
      "execution_count": 0,
      "outputs": []
    },
    {
      "metadata": {
        "id": "NOEH4Ef5-kvo",
        "colab_type": "text"
      },
      "cell_type": "markdown",
      "source": [
        "Titles sorted reverse alphabetically"
      ]
    },
    {
      "metadata": {
        "id": "WkymeWDjBV8X",
        "colab_type": "code",
        "colab": {}
      },
      "cell_type": "code",
      "source": [
        ""
      ],
      "execution_count": 0,
      "outputs": []
    },
    {
      "metadata": {
        "id": "e4wr42FB0GV-",
        "colab_type": "text"
      },
      "cell_type": "markdown",
      "source": [
        "### Get value counts\n",
        "\n",
        "pandas documentation: [value_counts](https://pandas.pydata.org/pandas-docs/stable/generated/pandas.Series.value_counts.html)\n"
      ]
    },
    {
      "metadata": {
        "id": "D81LNGaI-6ya",
        "colab_type": "text"
      },
      "cell_type": "markdown",
      "source": [
        "Frequency counts of first letters"
      ]
    },
    {
      "metadata": {
        "id": "AdTQYsRKBZio",
        "colab_type": "code",
        "colab": {}
      },
      "cell_type": "code",
      "source": [
        ""
      ],
      "execution_count": 0,
      "outputs": []
    },
    {
      "metadata": {
        "id": "04NVokvTAwqK",
        "colab_type": "text"
      },
      "cell_type": "markdown",
      "source": [
        "Percentage of talks with long titles"
      ]
    },
    {
      "metadata": {
        "id": "uS8qp4hrBat6",
        "colab_type": "code",
        "colab": {}
      },
      "cell_type": "code",
      "source": [
        ""
      ],
      "execution_count": 0,
      "outputs": []
    },
    {
      "metadata": {
        "id": "mmYZL2QL0lgd",
        "colab_type": "text"
      },
      "cell_type": "markdown",
      "source": [
        "### Plot\n",
        "\n",
        "pandas documentation: [Visualization](https://pandas.pydata.org/pandas-docs/stable/visualization.html)\n",
        "\n",
        "\n",
        "\n"
      ]
    },
    {
      "metadata": {
        "id": "c6gCotA9_B68",
        "colab_type": "text"
      },
      "cell_type": "markdown",
      "source": [
        "Top 5 most frequent first letters"
      ]
    },
    {
      "metadata": {
        "id": "DUmcVcdXBdkw",
        "colab_type": "code",
        "colab": {}
      },
      "cell_type": "code",
      "source": [
        ""
      ],
      "execution_count": 0,
      "outputs": []
    },
    {
      "metadata": {
        "id": "_Ngegk0bASty",
        "colab_type": "text"
      },
      "cell_type": "markdown",
      "source": [
        "Histogram of title lengths, in characters"
      ]
    },
    {
      "metadata": {
        "id": "y5oLu2D4BeKw",
        "colab_type": "code",
        "colab": {}
      },
      "cell_type": "code",
      "source": [
        ""
      ],
      "execution_count": 0,
      "outputs": []
    },
    {
      "metadata": {
        "id": "DiylH7LQw44u",
        "colab_type": "text"
      },
      "cell_type": "markdown",
      "source": [
        "# Assignment\n",
        "\n",
        "**Scrape** the talk descriptions. Hint: `soup.select('.presentation-description')`\n",
        "\n",
        "**Make** new columns in the dataframe:\n",
        "- description\n",
        "- description character count\n",
        "- description word count\n",
        "- description grade level (use [this `textstat` function](https://github.com/shivam5992/textstat#the-flesch-kincaid-grade-level) to get the Flesh-Kincaid grade level)\n",
        "\n",
        "**Describe** all the dataframe's columns. What's the average description word count? The minimum? The maximum?\n",
        "\n",
        "**Answer** these questions:\n",
        "- Which descriptions could fit in a tweet?\n",
        "- What's the distribution of grade levels? Plot a histogram.\n",
        "\n"
      ]
    },
    {
      "metadata": {
        "id": "-frlv5qVJJR1",
        "colab_type": "code",
        "colab": {}
      },
      "cell_type": "code",
      "source": [
        "import bs4\n",
        "import requests\n",
        "import numpy as np\n",
        "import pandas as pd\n",
        "import matplotlib.pyplot as plt"
      ],
      "execution_count": 0,
      "outputs": []
    },
    {
      "metadata": {
        "id": "6oKghd9BJRvJ",
        "colab_type": "code",
        "colab": {
          "base_uri": "https://localhost:8080/",
          "height": 71
        },
        "outputId": "b821c10c-d7d9-49b1-d6cc-5bdc0be5a464"
      },
      "cell_type": "code",
      "source": [
        "result = requests.get(url)\n",
        "soup = bs4.BeautifulSoup(result.text)\n",
        "descriptions = [tag.text.strip()\n",
        "               for tag in soup.select('.presentation-description')]\n",
        "print (len(descriptions))\n",
        "print (descriptions)"
      ],
      "execution_count": 28,
      "outputs": [
        {
          "output_type": "stream",
          "text": [
            "95\n",
            "[\"At some point every Python programmer sees Python bytecode files -- they're those '.pyc' files Python likes to leave behind after it runs. But have you ever wondered what's really going on in those files? Well, wonder no more! In this talk you'll learn what Python bytecode is and how it's used to execute your code, as well as how to decipher and read it, and how to reason about bytecode to understand the performance of your Python code.\", \"Until very recently, Apache Spark has been a de facto standard choice of a framework for batch data processing. For Python developers, diving into Spark is challenging, because it requires learning the Java infrastructure, memory management, configuration management. The multiple layers of indirection also make it harder to debug things, especially when throwing the Pyspark wrapper into the equation.\\r\\n\\r\\nWith Dask emerging as a pure Python framework for parallel computing, Python developers might be looking at it with new hope, wondering if it might work for them in place of Spark. In this talk, Iâ\\x80\\x99m using a data aggregation example to highlight the important differences between the two frameworks, and make it clear how involved the switch may be.\\r\\n\\r\\nNote: Just in case it's unclear, there's no Java of any kind in this talk. All the code / examples use Python (PySpark).\", 'In this talk, youâ\\x80\\x99ll learn about a category of security issue known as side channel attacks. Youâ\\x80\\x99ll be amused to see how features like automatic data compression, short-circuit execution, and deterministic hashing can be abused to bypass security systems. No security background knowledge is required. The talk assumes at least intermediate Python experience.\\r\\n\\r\\nWeâ\\x80\\x99ll take a tour of real side channel vulnerabilities in open source Python codebases, including the patches that fixed them. It also offers practical advice for avoiding these issues. My goal is to demystify this topic, even if you arenâ\\x80\\x99t writing security-critical software.', 'â\\x80\\x9cSo tell me,â\\x80\\x9d my manager said, â\\x80\\x9cwhat is an average?â\\x80\\x9d\\r\\n\\r\\nThereâ\\x80\\x99s probably nothing worse than that sinking feeling when you finish an analysis, email it to your manager or client to review, and they point out a mistake so basic you canâ\\x80\\x99t even fathom how you missed it. \\r\\n\\r\\nThis talk is about mine: how to take an average.\\r\\n\\r\\nAverages are something we use everywhere - itâ\\x80\\x99s a simple np.mean() in pandas or AVG() in SQL. But recently Iâ\\x80\\x99ve come to appreciate just how easy it is to calculate this statistic incorrectly. We learn once - in middle school no less - how to take an average, and never revisit it. Then, when we are faced with multidimensional datasets (ie. pretty much every dataset out there), we never reconsider whether we should be taking an average the same way.\\r\\n\\r\\nIn this talk, we follow my arduous and humbling journey of learning how to properly take an average with multidimensional data. We will cover how improperly calculating it can produce grossly incorrect figures, which can slip into publications, research analyses and management reports.', 'Recommender systems have become increasingly popular in recent years, and are used by some of the largest websites in the world to predict the likelihood of a user taking an action on an item. In the world of Netflix, this means recommending similar movies to the ones you have seen. In the world of dating, this means suggesting matches similar to people you already showed interest in!\\r\\n\\r\\nMy path to recommenders has been an unusual one: from a Software Engineer to working on matching algorithms at a dating company, with a little background on machine learning. With my knowledge of Python and the use of basic SVD (Singular Value Decomposition) frameworks, I was able to understand SVDs from a practical standpoint of what you can do with them, instead of focusing on the science.\\r\\n\\r\\nIn my talk, you will learn 2 practical ways of generating recommendations using SVDs: matrix factorization and item similarity. We will be learning the high-level components of SVD the \"doer way\": we will be implementing a simple movie recommendation engine with the help of Jupiter notebooks, the MovieLens database, and the Surprise recommendation package.', \"Do we even need humans? Humans and data science are flawed on their own. Humans lack the ability to process large volumes of information. Machines lack intuition, empathy, and nuance. You'll learn how to guide users of expert-use systems by applying data science to their user experience. This allows us to take advantage of the human-touch while leveraging our large datasets. What is the relationship between human decisions and algorithms? Are we thinking about data science all wrong? In this talk, you'll learn the ways we balance human decisions and data science throughout our applications, the challenges we have faced along the way and the future of the relationship between humans and data.\", 'Writing quality Python code can be both tough and tedious. On top of the general design, there are many code quality aspects that you need to watch out for when writing and reviewing code such as adherence to PEP8, docstring quality, test quality, etc. Furthermore, everyone is human. If you are catching these code quality issues by hand, there is a good chance that at some point you will miss an easy opportunity to improve code quality. If the quality check can be done by a machine, then why would you even try to catch the code quality issue by hand? In the end, the machine will be able to perform the quality check with much more speed, accuracy, and consistency than a person.\\r\\n\\r\\nThis talk will dive into how existing open source projects offload and automate many of these code quality checks resulting in:\\r\\n\\r\\n- A higher quality and a more consistent codebase\\r\\n- Maintainers being able to focus more on the higher level design and interfaces\\r\\n  of a project.\\r\\n- An improved contribution process and higher quality pull requests from\\r\\n  external contributors\\r\\n\\r\\nBy diving into how these open source projects automate code quality checks, you will learn about:\\r\\n\\r\\n- The available tooling related to checking code quality such as `flake8`,\\r\\n  `pylint`, `coverage`, etc.\\r\\n- How to automate code quality checks for both a development and team \\r\\n  setting.\\r\\n- First-hand accounts of the benefits and lessons learned from automating\\r\\n  code quality checks in real-life open source projects.', 'Nowadays, there are many ways of building data science models using Python, including statistical and machine learning methods. I will introduce probabilistic models, which use Bayesian statistical methods to quantify all aspects of uncertainty relevant to your problem, and provide inferences in simple, interpretable terms using probabilities.  A particularly flexible form of probabilistic models uses Bayesian *non-parametric* methods, which allow models to vary in complexity depending on how much data are available. In doing so, they avoid the over-fitting that is common in machine learning and statistical modeling. I will demonstrate the basics of Bayesian non-parametric modeling in Python, using the PyMC3 package. Specifically, I will introduce two common types, Gaussian processes and Dirichlet processes, and show how they can be applied easily to real-world problems using two examples.', 'Behavior-Driven Development (BDD) is gaining popularity as an improved way to collaborate over product features and tests. In Python, **behave** is one of the leading BDD test frameworks. Using **behave**, teams write Gherkin behavior scenarios (e.g., tests) in plain language, and then programmers write Python code to automate the steps. BDD testing is great because tests are self-documenting and steps abide by the DRY principle. An example test could be:\\r\\n\\r\\n> Given the DuckDuckGo home page is displayed\\r\\n> When the user searches the phrase \"Python\"\\r\\n> Then search results for \"Python\" are shown\\r\\n\\r\\nThis talk will teach how to use **behave** to develop well-designed test scenarios and a robust automation framework. It will focus on the layers of the behave framework: feature files, step definitions, support classes, and config files. A full example project will be hosted on GitHub for audience members to reference after the talk.', 'Scraping one web site for information is easy, scraping 10000 different sites is hard. Beyond page-specific scraping, how do you build a program than can extract the publication date of (almost) any news article online, no matter the web site?\\r\\n\\r\\nWeâ\\x80\\x99ll cover when to use machine learning vs. humans or heuristics for data extraction, the different steps of how to phrase the problem in terms of machine learning, including feature selection on HTML documents, and issues that arise when turning research into production code.', \"You've used pytest and you've used mypy, but bugs are still slipping through your code. What's next? In this talk, we cover two simple but powerful tools for keeping your code problem-free. Property-based testing, provided by the [Hypothesis](https://hypothesis.readthedocs.io/en/latest/) library, lets you run hundreds of tests from a single template. Contracts, via [dpcontracts](https://github.com/deadpixi/contracts), make your program test itself. You'll learn how and why to use these tools and how to combine them with the rest of your testing suite.\", \"Big-O is a computer science technique for analyzing how code performs as data gets larger.  It's a very handy tool for the working programmer, but it's often shrouded in off-putting mathematics.\\r\\n\\r\\nIn this talk, I'll teach you what you need to know about Big-O, and how to use it to keep your programs running well.  Big-O helps you choose the data structures and algorithms that will let your code work efficiently even on large data sets.\\r\\n\\r\\nYou can understand Big-O even if you aren't a theoretical computer science math nerd. Big-O isn't as mystical as it appears. It's wrapped in mathematical trappings, but doesn't have to be more than a common-sense assessment of how your code will behave.\", \"In the past few years, the power of computer vision has exploded. In this talk, we'll apply a deep learning model to a bird feeder. We'll use that model to detect, identify, and record birds that come to a smart bird feeder.\\r\\n\\r\\nAlong the way, we'll learn about different platforms to deploy deep learning cameras on, from the lowly Raspberry PI all the way up to the powerful NVIDIA Jetson embedded computer with a built in GPU.\", 'Facebook, Google, Uber, LinkedIn, and friends are the rarefied heights of software engineering. They encounter and solve problems at scales shared by few others, and as a result, their priorities in production engineering and architecture are just a bit different from the rest of us down here in the other 99% of services. Through deconstructing a few blog posts from these giants, weâ\\x80\\x99ll evaluate just what is it that theyâ\\x80\\x99re thinking about when they build systems and whether any of their choices are relevant to those of us operating at high scale yet still something less than millions of requests per second.\\r\\n\\r\\nThis talk will go into depth on how to make technological decisions to meet your customersâ\\x80\\x99 requirements without requiring a small army of engineers to answer 2 AM pages, and how to set realistic goals for your team around operations, uptime, communications, and disaster recovery.\\r\\n\\r\\nWith these guidelines in mind, you should be better equipped to say no (or yes!) the next time your teamâ\\x80\\x99s software hipster proposes moving everything to the Next Big Thing.', \"Have you ever wanted to write a GUI application you can run on your laptop? What about an app that you can run on your phone? Historically, these have been difficult to achieve with Python, and impossible to achieve without learning a different API for each platform. But no more.\\r\\n\\r\\nBeeWare is a collection of tools and libraries that allows you to build cross-platform native GUI applications in pure Python, targeting desktop, mobile and web platforms. In this talk, you'll be introduced to the BeeWare suite of tools and libraries, and see how you can use them to develop, from scratch, a GUI ChatBot application that can be deployed as a standalone desktop application, a mobile phone application, and a single page webapp - without making any changes to the application's codebase.\", 'Itâ\\x80\\x99s one thing to build a robust data pipeline process in python but a whole other challenge to find tooling and build out the framework that allows for testing a data process. In order to truly iterate and develop a codebase, one has to be able to confidently test during the development process and monitor the production system. \\r\\n\\r\\nIn this talk, I hope to address the key components for building out end to end testing for data pipelines by borrowing concepts from how we test python web services. Just like how we want to check for healthy status codes from our API responses, we want to be able to check that a pipeline is working as expected given the correct inputs. Weâ\\x80\\x99ll talk about key features that allows a data pipeline to be easily testable and how to identify timeseries metrics that can be used to monitor the health of a data pipeline.', 'We build product and software as teams. And as anyone who as worked on a team knows, thereâ\\x80\\x99s often a lot more that goes into working together to build that product than actually just building the product itself. A highly functional team is not as elusive it may seem. Software engineering is a skill weâ\\x80\\x99ve developed, but even more importantly software engineering on teams is another skill weâ\\x80\\x99ve been practicing and improving on as an industry. Software engineering principles and best practices may seem to have very little to do with teamwork, but being able to thoughtfully apply some of what weâ\\x80\\x99ve learned as engineers towards teamwork, we can help move towards creating such success with our teams.', 'Want to know about the latest trends in the Python community and see the the big picture of how things have changed over the last few years? Interested in the results of the latest official Python Developers Survey 2017 which was supported by the Python Software Foundation and gathered responses from more than 10.000 Python developers? Come learn about the most popular types of Python development, trending frameworks, libraries and tools, additional languages being used by Python developers, Python versions usage statistics and many other insights from the world of Python. All derived from the actual data and professional research such as the Python Developers Survey 2017 which collected responses from over 10.000 Python developers, organized in partnership between the Python Software Foundation and JetBrains, the Python Developers Survey 2016, 3rd party surveys and supplementary analytical research.', \"Python now offers static types! Companies like Dropbox and Facebook, and open-source projects like Zulip, use static types (with [PEP 484](https://www.python.org/dev/peps/pep-0484/) and [mypy](https://github.com/python/mypy)) to make Python more productive and fun to work with â\\x80\\x94 in existing codebases from 40k lines to 4 million, in Python 2 and 3, and while preserving the conciseness and flexibility that make Python a great language in the first place. Iâ\\x80\\x99ll describe how.\\r\\n\\r\\nReading and understanding code is a huge part of what we do as software developers. If we make it easier to understand our codebases, we make everyone more productive, help each other write fewer bugs, and lower barriers for new contributors. That's why Python now features optional static types, and why Dropbox, [Facebook](https://engineering.instagram.com/let-your-code-type-hint-itself-introducing-open-source-monkeytype-a855c7284881), and [Zulip](https://blog.zulip.org/2016/10/13/static-types-in-python-oh-mypy/) use them on part or all of their Python code.\\r\\n\\r\\nIn this talk, Iâ\\x80\\x99ll share lessons from Zulipâ\\x80\\x99s and Dropboxâ\\x80\\x99s experience â\\x80\\x94 having led the mypy team at Dropbox and working now on the Zulip core team â\\x80\\x94 for how you can start using static types in your own codebases, large or small. Weâ\\x80\\x99ll discuss how to make it a seamless part of your projectâ\\x80\\x99s tooling; what order to approach things in; and powerful new tools that make it even easier today to add static types to your Python codebase than ever before.\", 'As engineers, we care a lot about the reliability of our applications. When a website falls over, pagers go off, and engineers burst into action to bring a site back to life.  Postmortems are written, and teams develop strategies to prevent similar failures in the future.\\r\\n\\r\\nBut what about the reliability of our data? Would _you_ trust financial reports built on your data? \\r\\n\\r\\nIf not, what can you do to improve data health? If you _would_ trust these reports, how can you prove to customers, investors, and auditors alike that they should too?\\r\\n\\r\\nIn this talk, youâ\\x80\\x99ll learn to apply strategies from the world of dev-ops to data. Youâ\\x80\\x99ll learn about questions auditors ask that can help you pinpoint data problems. Youâ\\x80\\x99ll also learn some accounting-specific tools for accurate and timely record keeping that Iâ\\x80\\x99ve found fascinating and helpful!', \"Code reviews don't have to be a time consuming, morale zapping, arduous tasks. Not only can they catch bugs and errors but they can contribute in positive ways to the individual developer, the team, management and company as a whole.  \\r\\n\\r\\nArt critiques have existed in academia for hundreds of years. The methodology of the critique has evolved to be time sensitive and productive, while keeping the enthusiasm of the student artist intact.  \\r\\n\\r\\nThe purpose of the art critique is to get peers and mentors to look at the work and raise any problems they may see. It's also time where people with more experience could contribute their knowledge in a helpful way. This process is about producing the best work, quickly and in a productive and constructive way. \\r\\n \\r\\nThese methods can be applied to code review.\", 'In 2017, I was released from prison after serving 17 years. One of the most transformational experiences I had while incarcerated was learning to code, through a pioneering new program called Code.7370 â\\x80\\x94 the first coding curriculum in a United States prison.\\r\\n\\r\\nIn this talk, Iâ\\x80\\x99d like to share my experiences learning to code in prison and getting a software engineering job after my release, with the goals of:\\r\\n\\r\\nInspiring new programmers to stick with it and be confident in their abilities\\r\\n\\r\\nInspiring educators to think about how to support new coders in a broad range of learning environments (thereâ\\x80\\x99s no internet in prison!)\\r\\n\\r\\nInspiring everyone to think about the potential for rehabilitation in prison in a new way', \"Colossal Cave, also known as Adventure or ADVENT, is the original text adventure. It was written in FORTRAN IV and there is practically no way to run the original program without translating it. We'll explore software archeology to write a Python interpreter to run the FORTRAN code as-is, without translating it. Come learn about pre-ASCII and 36-bit integers and writing interpreters in Python!\\r\\n\\r\\nAnd, we'll show how to use BeeWare's Batavia Python interpreter (in JavaScript) to execute the program. FORTRAN IV in Python in JavaScript in your browser!\", 'Testing mobile applications is hard. Testing manually is nearly impossible.\\r\\nThatâ\\x80\\x99s where automated testing shines. Just sit back and watch the machine go!\\r\\nPython is a very powerful language for writing automated tests, but since Python is not installed on mobile platforms, we need to find a way to remotely control and monitor the device.\\r\\nBut how do we automate a device remotely? The answer is Appium.\\r\\n\\r\\nIn this talk I will go over the process of deploying and testing iOS (or Android) applications, and how to work with Appium to easily generate Python 3 code for testing your application.', \"Setting up application monitoring is often an afterthought, and in the speaker's opinion can be a bit overwhelming to get started with. What is a `metric`? What is a `gauge`? What is a `counter`? What's that `upper 90` metric you have up on your `dashboard`? And what *all* metrics should I monitor?\\r\\n\\r\\nThis talk aims to get you started on the monitoring journey in Python. In addition to clearing up some of the jargon, we will look at `statsd` and `prometheus` monitoring systems and how to integrate our applications with these.\\r\\n\\r\\nWithout the numbers, we are really flying blind!\", \"![Logo][1]\\r\\n\\r\\n[**Website**](https://cupy.chainer.org/) | [**Docs**](https://docs-cupy.chainer.org/en/stable/) | [**Install Guide**](https://docs-cupy.chainer.org/en/stable/install.html) | [**Tutorial**](https://docs-cupy.chainer.org/en/stable/tutorial/) | **Examples** ([Official](https://github.com/cupy/cupy/blob/master/examples)) | [**Forum**](https://groups.google.com/forum/#!forum/cupy)\\r\\n\\r\\nCuPy is an open-source library with NumPy syntax that increases speed by doing matrix operations on NVIDIA GPUs. It is accelerated with the CUDA platform from NVIDIA and also uses CUDA-related libraries, including cuBLAS, cuDNN, cuRAND, cuSOLVER, cuSPARSE, and NCCL, to make full use of the GPU architecture. CuPy's interface is highly compatible with NumPy; in most cases it can be used as a drop-in replacement. CuPy supports various methods, data types, indexing, broadcasting, and more.\\r\\n\\r\\n  [1]: https://raw.githubusercontent.com/cupy/cupy/master/docs/image/cupy_logo_1000px.png\", \"The PEP 557 dataclasses module is available in starting in Python 3.7.   It will become an essential part of every Python programmer's toolkit.  This talk shows what problem the module solves, explains its key design decisions, and provides practical examples of how to put it to work.\\r\\n\\r\\nDataclasses are shown to be the next step in a progression of data aggregation tools: tuple, dict, simple class, bunch recipe, named tuples, records, attrs, and then dataclasses. Each builds upon the one that came before, adding expressiveness at the expense of complexity.\\r\\n\\r\\nDataclasses are unique in that they let you selectively turn-on or turn-off its various capabilities and it lets the user choose the underlying data store (either instance dictionary, instance slots, or an inherited base class).\\r\\n\\r\\nDataclasses and typing.NamedTuple both use variable annotations which were new in Python 3.6.\", 'Data Visualization charts are supposed to be our map to information. However, when making charts, customarily we are just re-sizing lines and circles based on metrics instead of creating data-driven version of reality.  The contemporary charting techniques have a few shortcomings (especially when dealing with high-dimensional dataset): \\r\\n\\r\\n* **Context Reduction**: in order to fit a high-dimensional dataset into a chart one needs to filter/ aggregate/ flatten data which results in reduction of full context of information.  Without context most of the charts show only a part of the story, that can potentially lead to data misinterpretation/misunderstanding. \\r\\n* **Numeric Thinking**: naturally humans have hard time perceiving big numbers. While data visualization is suppose to help us to conceptualize large volumes,  unless the dataset is carefully prepared, 2D charts rarely give us the intuitive grasp of magnitude. \\r\\n* **Perceptual de-humanization**: when examining charts it is easy to forget that we are dealing with activity in real world instead of lines/bars. \\r\\n\\r\\nAugmented/Mixed Reality can potentially solve all of the issues listed above by presenting an intuitive and interactive environment for data exploration. Three dimensional space provides conditions to create complex data stories with more â\\x80\\x9crealistic assetsâ\\x80\\x9d (beyond lines and bars). The talk would present the architecture required to create MR data visualization story with Python (70% of architecture), starting with drawing 3D assets in a data-driven way and finishing with deployment on MR devices.', 'Apache Spark is one of the most popular big data projects, offering greatly improved performance over traditional MapReduce models. Much of Apache Sparkâ\\x80\\x99s power comes from lazy evaluation along with intelligent pipelining, which can make debugging more challenging. This talk will examine how to debug Apache Spark applications, the different options for logging in PySpark, as well as some common errors and how to detect them.\\r\\n\\r\\nSparkâ\\x80\\x99s own internal logging can often be quite verbose, and this talk will examine how to effectively search logs from Apache Spark to spot common problems. In addition to the internal logging, this talk will look at options for logging from within our program itself.\\r\\n\\r\\nSparkâ\\x80\\x99s accumulators have gotten a bad rap because of how they interact in the event of cache misses or partial recomputes, but this talk will look at how to effectively use Sparkâ\\x80\\x99s current accumulators for debugging as well as a look to future for data property type accumulators which may be coming to Spark in future version.\\r\\n\\r\\nIn addition to reading logs, and instrumenting our program with accumulators, Sparkâ\\x80\\x99s UI can be of great help for quickly detecting certain types of problems.\\r\\n\\r\\nDebuggers are a wonderful tool, however when you have 100 computers the â\\x80\\x9cwonderâ\\x80\\x9d can be a bit more like â\\x80\\x9cpainâ\\x80\\x9d. This talk will look at how to connect remote debuggers, but also remind you that itâ\\x80\\x99s probably not the easiest path forward.', 'In 2011 I gave a talk about \"Killing Patents with Python\" - finding the right piece of prior art by using statistical natural language processing techniques on the US Patent Database. A number of unexpected benefits came out of that exploration, including the ability to describe large patent portfolios and businesses in a way that had not been done before.\\r\\n\\r\\nSince then, the state of the art has advanced - and so has the ability to do strange and wonderful things by applying the latest neural network-based analysis to the nine million patents and patent applications that people have submitted to the USPTO. Not only can we learn new things about what people have invented, we might just be able to get the computer to do a little \"inventing\" itself.', 'We use JupyterHub, XArray, Dask, and Kubernetes to build a cloud-based system to enable scientists to analyze and manage large datasets.  We use this in practice to serve a broad community of atmospheric and climate scientists.\\r\\n\\r\\nAtmospheric and climate scientists analyze large volumes of observational and simulated data to better understand our planet.  They have historically used tools like NumPy and SciPy along with Jupyter notebooks to combine efficient computation with accessibility.  However, as datasets increase in size and collaboration extends to new populations of scientists these tools begin to feel their age.  In this talk we use more recent libraries to build a modern deployment for academic scientists.  In particular we use the following tools:\\r\\n\\r\\n- **Dask:** to parallelize and scale NumPy computations\\r\\n- **XArray**: as a self-discribing data model and tool kit for labeled and index arrays\\r\\n- **JupyterLab:** to enable more APIs for users beyond the classic notebook\\r\\n- **JupyterHub:** to manage users and maintain environments for a new population of cloud-friendly users\\r\\n- **Kubernetes:** to manage everything and deploy easily on cloud hardware\\r\\n\\r\\nThis talk will focus less on how these libraries work and will instead be a case study of using them together in an operational setting.  During the talk we will build up and deploy a running system that the audience can then use to access distributed computing resources.', 'One of the most challenging and important thing fors for Python developers learn is the unittest mock library. The patch function is in particular confusing- there are many different ways to use it. Should I use a context manager? Decorator? When would I use it manually? Improperly used patch functions can make unit tests useless, all the while making them look as if they are correctly testing code.Letâ\\x80\\x99s learn how to wield patch with confidence!', 'In the 1850s, Edward Orange Wildman Whitehouse was appointed the lead engineer of the first attempt to build a trans-Atlantic telegraph cable. With the entire population of two continents waiting for his go-live, their handlebar moustaches aquiver, he demonstrated in fine form just how spectacularly a big project can be a bigger disaster.\\r\\n\\r\\nThis is a tale of long-winded rants, spectacular sideburns, and gentlemen scientists behaving badly. It is also a lesson about the importance of honest reflection in technical teamwork. Lilly outlines some of the mistakes made during one of the biggest tech delivery projects in history, and how a constructive view of failure helped to turn it all around. Through the public meltdowns of Wildman Whitehouse you will learn the importance of feedback, how to handle complex tasks gracefully, and the best way to recover from having your pipeline eaten by a whale.', 'Want to have fun with Python? Do something visual? Get started today? Learn how to draw, animate, and use sprites for games with the [Python Arcade](http://arcade.academy/) library.\\r\\n\\r\\n\"Arcade\" is an easy-to-use Python library for creating 2D arcade games. We\\'ll show you how to get started creating your own game, and find plenty of example code to get an idea of what you can do with this library. If you are familiar with PyGame, Arcade is easier, more powerful, and uses recent Python features like type hinting and decorators.\\r\\n\\r\\nThis talk is great for beginners, educators, and people who want to create their own arcade games.', \"Multithreading makes shared memory easy, but true parallelism next to impossible. Multiprocessing gives us true parallelism, but it makes sharing memory very difficult, and high overhead. In this talk, we'll explore techniques to share memory between processes efficiently, with a focus on sharing read-only massive data structures.\", 'Logs are our best friend, especially on those late nights when we try to troubleshoot a problem in production that was written by a co-worker who is on vacation. Logs are the main way to know what is happening with an application at runtime, but we donâ\\x80\\x99t realize how important they are until we actually need them. Unfortunately, they are usually an under-estimated part of the development process.\\r\\n\\r\\nThis talk aims to transmit the need for the logging module, briefly explains how to use it and how it is built, and dives into all the complexity that is hidden to us. This will help attendees not just understand all the magic that allows us to inspect our applications at runtime, but also to avoid mistakes and adapt the module to our needs for more esoteric scenarios.\\r\\n\\r\\nThe talk is structured to simplify the understanding of the logging module. Many people have read the documentation, but still struggle to fully understand what is happening under the hood. This talk aims to eliminate that barrier by presenting it in an easier-to-digest manner.', \"Are you an intermediate python developer looking to level up? Luckily, python provides us with a unique set of tools to make our code more elegant and readable by providing language features that make your code more intuitive and cut down on repetition. In this talk, Iâ\\x80\\x99ll share practical pythonic solutions for supercharging your code. \\r\\n\\r\\nSpecifically, I'll cover:\\r\\n\\r\\n- What magic methods are, and show you how to use them in your own code.\\r\\n- When and how to use partial methods.\\r\\n- An explanation of ContextManagers and Decorators, as well as multiple techniques for implementing them.\\r\\n- How to effectively use `NamedTuples`, and even subclass and extend them!\\r\\n\\r\\nLastly, I'll go over some example code that ties many of these techniques together in a cohesive way. You'll leave this talk feeling confident about using these tools and techniques in your next python project!\", \"Anyone who is interested in deep learning has gotten their hands dirty playing around with Tensorflow, Google's open source deep learning framework. Tensorflow has its benefits like wide scale adoption, deployment on mobile, and support for distributed computing, but it also has a somewhat challenging learning curve, is difficult to debug, and hard to deploy in production. PyTorch is a new deep learning framework that solves a lot of those problems.\\r\\n\\r\\nPyTorch is only in beta, but users are rapidly adopting this modular deep learning framework. PyTorch supports tensor computation and dynamic computation graphs that allow you to change how the network behaves on the fly unlike static graphs that are used in frameworks such as Tensorflow. PyTorch offers modularity which enhances the ability to debug or see within the network and for many, is more intuitive to learn than Tensorflow.\\r\\n\\r\\nThis talk will objectively look at PyTorch and why it might be the best fit for your deep learning use case and we'll look at use cases that will showcase why you might want consider using Tensorflow instead.\", 'At the end of 2017, there were seven states with ongoing redistricting litigation.  We will discuss a statistical model that the United States Supreme Court declared to be appropriate in cases of racial gerrymandering, and show how it can be implemented and used with the library `PyMC3`.  We will also discuss what the model tells us about racial gerrymandering in North Carolina.', 'Today, services built on Python 3.6.3 are widely used at Facebook. But as recently as May of 2014 it was actually impossible at all to use Python 3 at Facebook. Come learn how we cut the Gordian Knot of dependencies and social aversion to the point where new services are now being written in Python 3 while older Python 2 projects are actively migrated to Python 3. All accomplished by a small group of individual contributors in their spare time. Learn to fight the good fight and upgrade your organization to Python 3 like we did at Facebook.', 'You maintain an Open Source project with great code? Yet your project isnâ\\x80\\x99t succeeding in the ways you want? Maybe youâ\\x80\\x99re struggling with funding or documentation? Or you just canâ\\x80\\x99t find new contributors and youâ\\x80\\x99re drowning in issues and pull requests?\\r\\nOpen Source is made up of many components and we are often better-trained in methods for writing good code, than in methods for succeeding in the other dimensions we want our project to grow. \\r\\nIn this talk weâ\\x80\\x99ll explore the different components of an Open Source project and how they work together. After this talk youâ\\x80\\x99ll be well-equipped with a ideas and strategies for growing, cultivating, and nourishing your Open Source project. \\r\\n\\r\\nFor your project to succeed, all of its non-code components must be well-maintained. What are these different components and what methods can we learn to maintain them?\\r\\n\\r\\n* Build real relationships with your sponsors and determine ways how both sides can benefit from this relationship, donâ\\x80\\x99t just ask people for money. \\r\\n* Establish a good communication system with your contributors: Keep them informed, listen to their feedback and input, make them feel heard. \\r\\n* Thank the people who worked on ticket triage or marketing, not just those who wrote code, in your release notes. \\r\\n* Make it easy for new contributors to get started: Write and maintain good documentation, answer questions in a friendly and timely manner. \\r\\n* Market and evangelize in the right places and at the right time: Give conference talks, organize sprints, keep your projectâ\\x80\\x99s Twitter account active, always curate new and interesting content on your blog or website.\\r\\n* Implement a Code of Conduct and enforce it if needed: Make your project a safe space to contribute for everyone. \\r\\n\\r\\nWith these methods and a half-dozen others, youâ\\x80\\x99ll handle beautifully all the components your project needs to succeed.', \"Resources are files that live within Python packages.  Think test data files, certificates, templates, translation catalogs, and other static files you want to access from Python code.  Sometimes you put these static files in a package directory within your source tree, and then locate them by importing the package and using its `__file__` attribute.  But this doesn't work for zip files!\\r\\n\\r\\nYou could use `pkg_resources`, an API that comes with `setuptools` and hides the differences between files on the file system and files in a zip file.  This is great because you don't have to use `__file__`, but it's not so great because `pkg_resources` is a big library and can have potentially severe performance problems, even at import time.\\r\\n\\r\\nWelcome to `importlib.resources`, a new module and API in Python 3.7 that is also available as a standalone library for older versions of Python.  `importlib.resources` is build on top of Python's existing import system, so it is very efficient.  It also defines an abstract base class which loaders can implement to provide their own resource access.  Python's built-in zipimporter uses this to provide efficient access to resources within a zip file.  Third party import hooks can do the same, so resources can come from anything that is importable by Python.\\r\\n\\r\\nThis talk will step through the motivations behind `importlib.resources`, the library's usage, its interfaces, and the hooks made available to third party packages.  It will also talk about the minor differences between the standalone version and the version in Python 3.7's standard library.  Hopefully audience members will come away with compelling reasons to port their code to this much more efficient library.\", 'Have you ever considered how many relationships you have in your virtual life? Every friend or page liked on Facebook, each connection in LinkedIn or Twitter account followed is a new relationship not only between two people, but also between their data. In Brazil only, we have 160 millions Facebook users. How can we represent and manipulate all these relationships? Graph Databases are storage systems that use graph structure (nodes and edges) to represent and store data in a semantic way.\\r\\n\\r\\nThis talk will begin approaching the challenge in representing relationships in Relational Databases and introducing a more friendly solution using graph. The definition of Graph Database, its pros and cons and some available tools (Neo4J, OrientDB and TitanDB) will be shown during the presentation, as well as how these tools can be integrated with Python.', \"During peak hours, Netflix video streams make up more than one third of internet traffic. Netflix must stream uninterrupted in the face of widespread network issues, bad code deploys, AWS service outages, and much more. Failovers make this possible.\\r\\n\\r\\nFailover is the process of transferring all of our traffic from one region in AWS to another. While most of Netflix runs on Java, failovers are powered entirely by Python. Python's versatility and rich ecosystem means we can use it for everything from predicting our traffic patterns to orchestrating traffic movement, while dealing with the eventual consistency of AWS.\\r\\n\\r\\nToday, we can shift all of our 100 million+ users in under seven minutes. A lot of engineering work went into making this possible. The issues we faced and solutions we created have broad application to availability strategies in the cloud or the datacenter.\", 'A function is a small chunk of code that does useful work. Your job when writing a function is to do it in a way that it easy to read. Based on over 15 years of code reviews here are some tips and guidelines I give again and again.', 'The DevOps movement gave us many ways to put Python applications into production.  But should your *application* care?  Should it need to know whether itâ\\x80\\x99s running on your notebook, on a server, in a Docker container, or in some cloud platform as a service?\\r\\n\\r\\nIt should not, because environment-agnostic applications are easier to **test**, easier to **deploy**, easier to **handle**, and easier to **scale**.\\r\\n\\r\\nBut how can you *practically* structure and configure your applications to make them indifferent to the environment they run in?  How do secrets fit into the picture?  And where do you put that log file?\\r\\n\\r\\nBy the end of this talk youâ\\x80\\x99ll know the tools and techniques that enable you to write such Python applications and youâ\\x80\\x99ll be ready for the next big change.', 'New conferences rarely have resources to run the sort of outreach and inclusion programs that big conferences have. Itâ\\x80\\x99s hard to guess how much money youâ\\x80\\x99ll have to spend, how many attendees youâ\\x80\\x99ll have, and what your new community will look like. With so many things to worry about, itâ\\x80\\x99s no surprise that most events donâ\\x80\\x99t prioritise outreach until theyâ\\x80\\x99ve got a few years under their belt, if at all.\\r\\n\\r\\nIt doesnâ\\x80\\x99t have to be this way, and it can even be easier to build a new event around outreach and inclusion than it is to build it in later on!\\r\\n\\r\\nThis talk shares the story of North Bay Pythonâ\\x80\\x99s inaugural conference, which we planned in under 6 months, ran on a $40,000 budget, and built a welcoming community to make it real. We made inclusivity a founding principle and did so without compromising our speaker lineup while still attracting great sponsorship and hosted an event that almost every attendee wants to return to.\\r\\n\\r\\nIn this talk, weâ\\x80\\x99re going to share with you how we built a conference, from the ground up, to be as inclusive as we could make it. Weâ\\x80\\x99ll touch on early organisation, marketing, and on-the ground logistics. Throughout the talk, youâ\\x80\\x99ll learn:\\r\\n\\r\\n* How we designed a budget that let us prioritise outreach and inclusion activities\\r\\n* How we built the community that we wanted before the conference even started\\r\\n* How we ran an event that proved that we meant everything we said\\r\\n\\r\\nYou too can host a new conference with a great lineup on a shoestring budget and short timeline, and you can do it while being inclusive, welcoming, and putting attendee safety first. Find out how you can have your cake, eat it, and still have lots to share with your new community.', \"Most software has a user. Depending on the software, the user may need to provide various details about themselves for proper operation -- their name, their date of birth, where they live. However, it is quite common for software systems such as these to ask the wrong questions, collect too much data, and when it comes down to it, serialise the parts of the user's identity wrongly. This talk will discuss common ways that real-world systems store identity wrong, what questions you shouldn't ask, and how you can fix it in your own projects.\", \"Timezones are one of those things every programmer loves to hate. Most of us, at\\r\\nleast in the US, just try to ignore them and hope nobody notices. Then twice a\\r\\nyear, we fear with impending doom those 3 small words: Daylight Saving Time.\\r\\n\\r\\nIt doesn't have to be this way. Armed with some best practices and a little help\\r\\nfrom supporting libraries, timezone-related bugs can be a thing of the past.\\r\\n\\r\\nThis talk explores standard library and 3rd party library timezone support, as\\r\\nwell as persistence and serialization techniques for timezone-aware datetimes.\\r\\nBy the end of the talk, the listener should feel confident in their ability to\\r\\ncorrectly store, send, receive, and manipulate datetime objects in any timezone.\", \"Questions and confusion about the Python packaging ecosystem abound. What is this `setup.py` file? What's the difference between wheels and eggs? Do I use setuptools or distutils? Why should I use twine? Do I put my projects dependencies in a `requirements.txt` or in `setup.py`? How do I just get my module up on PyPI? Wait, what is Warehouse?\\r\\n\\r\\nThis talk will identify the key tools one might encounter when trying to distribute Python software, what they are used for, why they exist, and their history (including where their weird names come from). In addition, we'll see how they all work together, what it takes to make them work, and what the future has in store for Python packaging.\", \"Unless you work on pacemakers or at NASA, you've probably accepted the fact that you will make mistakes in your code, and those mistakes will creep into production. This talk will introduce you to post-mortems, and how to use them as a vehicle for improving your code and your process.\", 'Imagine you have an appointment in a large building you do not know. Your host sent instructions describing how to reach their office. Though the instructions were fairly clear, in a few places, such as at the end, you had to infer what to do. How does a _robot (agent)_ interpret an instruction in the environment to infer the correct course of action? Enabling harmonious _Human - Robot Interaction_ is of primary importance if they are to work seamlessly alongside people.\\r\\n\\r\\nDealing with natural language instructions in hard because of two main reasons, first being, Humans - through their prior experience know how to interpret natural language but agents canâ\\x80\\x99t, and second is overcoming the ambiguity that is inherently associated with natural language instructions. This talk is about how deep learning models were used to solve such complex and ambiguous problem of converting natural language instruction into its corresponding action sequence.\\r\\n\\r\\nFollowing verbal route instructions requires knowledge of language, space, action and perception. In this talk I shall be presenting, a neural sequence-to-sequence model for direction following, a task that is essential to realize effective autonomous agents.\\r\\n\\r\\nAt a high level, a sequence-to- sequence model is an end-to-end model made up of two recurrent neural networks: \\r\\n\\r\\n - **Encoder** - which takes the modelâ\\x80\\x99s input sequence as input and encodes it into a fixed-size context vector.\\r\\n - **Decoder** - which uses the context vector from above as a seed from which to generate an output sequence. \\r\\n\\r\\nFor this reason, sequence-to-sequence models are often referred to as _encoder-decoder_ models. The alignment based encoder-decoder model would translate the natural language instructions into corresponding action sequences. This model does not assume any prior linguistic knowledge: syntactic, semantic or lexical. The model learns the meaning of every word, including object names, verbs, spatial relations as well as syntax and the compositional semantics of the language on its own.\\r\\n\\r\\nIn this talk, steps involved in pre-processing of data, training the model, testing the model and final simulation of the model in the virtual environment will be discussed. This talk will also cover some of the challenges and trade-offs made while designing the model.', \"Wrestling bugs can be one of the most frustrating parts of programming - but with the right framing, bugs can also be our best allies. I'll tell the tales of two of my favorite bugs, including the time I triggered a DDOS of a logging cluster, and explain why I love them. I'll also give you concrete strategies for approaching tricky bugs and making them easier and more fun.\", 'Those of us who have worked in software development for longer than a few years probably feel we have an intuitive sense of what a great developer is. Some traits come more easily to mind than others when it comes to identifying a great developer. In this talk we will take a slightly different approach to evaluating software development best practices, and identify one underrated skill common to great software developers: empathy. I hope to demonstrate that cognitive and emotional empathy skills are critical to good software development. We will explore ways to cultivate this trait in order to become better developers, both for our own sakes and for the sake of the teams in which we work.', \"What do AWS, GitHub, Travis CI, DockerHub, Google, Stripe, New Relic, and the rest of the myriad of services that make our developer life easier have in common?\\r\\n They all give you secret keys to authenticate with. Did you ever commit one of these to source control by mistake? That happened to me more times than I'm willing to admit!\\r\\n\\r\\nIn this talk I'm going to go over the best practices to follow when writing Python applications that prevent this type of accident.\", 'Python provides a powerful platform for working with data, but often the most straightforward data analysis can be painfully slow. When used effectively, though, Python can be as fast as even compiled languages like C. This talk presents an overview of how to effectively approach optimization of numerical code in Python, touching on tools like numpy, pandas, scipy, cython, numba, and more.', 'This talk is about the history of Python packaging, the tools that have been historically available for application deployment, the problems/constraints presented by them, and presents a holistic solution to many of these problems: Pipenv.\\r\\n\\r\\nA live demo of the tool will be presented, as well as a Q&A session.', \"Each member of your project team uses something different to document\\r\\ntheir work -- RestructuredText, Markdown, and Jupyter Notebooks. How do\\r\\nyou combine all of these into useful documentation for your project's users.\\r\\nSphinx and friends to the rescue!\\r\\n\\r\\nLearn how to integrate documentation into your everyday development\\r\\nworkflow, apply best practices, and use modern development tools and\\r\\nservices, like Travis CI and ReadTheDocs, to create engaging and up-to-date\\r\\ndocumentation which users and contributors will love.\", 'The genome of a typical microbe contains roughly 5 million base pairs of DNA including > 4000 genes, which provide the instructions for cellular replication, energy metabolism, and other biological processes. At Zymergen, we edit DNA to design microbes with improved ability to produce valuable materials and molecules. Microbes with these edits are built and tested in high throughput by our fleet of robots. Genomes are far too large for exhaustive search, so identifying which edits to make requires machine learning on non-standard features. Our task to extract information from trees, networks, and graphs of independently representable knowledge bases (metabolism, genomics, regulation), in ways that respect the strongly causal relationships between systems. In this talk, I will describe how we use Pythonâ\\x80\\x99s biological packages (e.g. BioPython, CobraPy, Escher, goatools) and other packages (NetworkX, TensorFlow, PyStan, AirFlow) to extract machine learning features and predict which genetic edits will produce high-performance microbes.', 'If youâ\\x80\\x99ve spent much time writing (or debugging) Python performance problems, youâ\\x80\\x99ve probably had a hard time managing memory with its limited language support. \\r\\n\\r\\nIn this talk, we venture deep into the belly of the Rust Language to uncover the secret incantations for building high performance and memory safe Python extensions using Rust. \\r\\n\\r\\nRust has a lot to offer in terms of safety and performance for high-level programming languages such Python, Ruby, Js and more with its easy Foreign Function Interface capabilities which enables developers to easily develop bindings for foreign code.', \"The end of life for Python 2 is 2020. Python 3 is the future and you'll need to consider both your upgrade plan and what steps you'll take after upgrading to start leveraging Python 3 features.\\r\\n\\r\\nDuring this talk we'll briefly discuss how to start **the process of upgrading your code to Python 3**. We'll then dive into some of **the most useful Python 3 features** that you'll be able to start embracing once you drop Python 2 support.\\r\\n\\r\\nA number of the most powerful Python 3 features are syntactic features that are **Python 3 only**. You won't get any experience using these features until you fully upgrade. These features are an incentive to drop Python 2 support in existing 2 and 3 compatible code. You can consider this talk as a teaser of Python 3 features that you may have never used.\\r\\n\\r\\nAfter this talk I hope you'll be inspired to fully upgrade your code to Python 3.\", \"Looking back at Python evolutions over the last 10 years.\\r\\n\\r\\nPython 3.0 was released ten years ago (December 2008). It's time to look back: analyze the migration from Python 2 to Python 3, see the progress we made on the language, list bugs by cannot be fixed in Python 2 because of the backward compatibility, and discuss if it's time or not to bury Python 2.\\r\\n\\r\\nPython became the defacto language in the scientific world and the favorite programming language as the first language to learn programming.\", 'For 2 years, a family of three has traveled on a converted school bus from conference to conference, building tooling for the road in Python and visiting Python families in every corner of the country.', 'What do geiger counters, black holes, heart monitors, and volcanoes have in common?  They all can use sound to convey information! This talk will explore using python for sonification: the process of translating data into sound that could otherwise be represented visually. Have you ever wondered how to use python to represent data other than making charts and graphs?  Are you a musician looking for inspiration in the world around you?  This talk will go over how to use python to translate time series data to MIDI that can be played back in real time. Weâ\\x80\\x99ll sonically interpret light-curve data from the Kepler space telescope using pygame, MIDIUtil, and astropy, turning points on a graph into a musical masterpiece! Come learn about how data sonification is used to help people, to expand the reach of scientific research, and to create music from data.', 'Quantum computers are slowly turning in to reality more than 30 years after they were first theorized. The need for quantum computers have become clear as we reach the limits of Mooreâ\\x80\\x99s law and yet we need more computational power. We are at a very early stage of quantum computing. Yet Python is slowly becoming a defacto language for programming quantum computers. \\r\\n\\r\\nIn this talk, we will discuss the difference a traditional computer and a quantum computer. We will learn about the two architectures namely Quantum annealing and Quantum gate. Finally, we will learn to program quantum computers using Python.', 'Python 3 removes a lot of the confusion around Unicode handling in Python, but that by no means fixes everything. Different locales and writing systems have unique behaviours that can trip you up. Hereâ\\x80\\x99s some of the worst ones and how to handle them correctly.', 'Occasionally weâ\\x80\\x99ll find that some bit of Python weâ\\x80\\x99ve written doesnâ\\x80\\x99t run as fast as weâ\\x80\\x99d like, what can we do? Performance bottlenecks arenâ\\x80\\x99t always intuitive or easy to spot by reading code so we need to collect data with [profiling](https://docs.python.org/3.6/library/profile.html). Once weâ\\x80\\x99ve identified the bottleneck weâ\\x80\\x99ll need to change our approach, but what options are faster than others?\\r\\n\\r\\nThis talk illustrates a Python performance investigation and improvements using an [Advent of Code](http://www.adventofcode.com/) programming challenge. Iâ\\x80\\x99ll walk through starting from a slow (but correct) solution, look at profiling data to investigate _why_ itâ\\x80\\x99s slow, and explore multiple paths for improving performance, including more efficient algorithms and using third-party tools like [Cython](http://cython.org/). Youâ\\x80\\x99ll leave this talk with a recipe for analyzing Python performance and information about some options for improved performance.', 'There are many computational needs for randomness--from creating a game to building a simulation involving naturally occurring randomness similar to the physical world. For most purposes using the python math module to create random numbers within a specific range can be done with no further questions, but sometimes we require a more nuanced implementation. \\r\\n\\r\\nWe will look at both pseudo-random number generators, which use statistically repeatable processes to generate seemingly random series and true random number generators, which inject physical processes like atmospheric noise to generate sequences of numbers. We will discuss the benefits and drawbacks of both approaches and common methods of implementing these two types of generators in python. \\r\\n\\r\\nFinally, we will look at several real applications for randomness and discuss the best method for generating â\\x80\\x9crandomnessâ\\x80\\x9d in each scenario.', \"Web applications contains lots of database operations, network calls, nested callbacks and other computationally expensive tasks that might take a long time to complete or even block other threads until it's done, here is where ReactiveX enters, it doesn't only gives us the facility to convert almost anything to a stream; variables, properties, user inputs, caches, etc to manage it asynchronously. But it also gives us an easy way to handle errors which is a hard task within asynchronous programming. ReactiveX makes our code more flexible, readable, maintainable and easy to write.\\r\\n\\r\\nWe will be exploring how ReactiveX help us to make things easier with its operators toolbox that can be used to filter, create, transform or unify any of those streams. We will learn that in just a few lines of maintainable code, we can have multiple web sockets which recieves multiple requests all handled by an asynchronous process that serves a filtered output.\\r\\n\\r\\nTo do that I decided to explain an example of the use with an example by implementing observables, observers/subscribers and subjects. We will start by requesting our data stream from the Github API with a Tornado web socket and then filtering and processing it asynchrounosly.\", \"Writing lexers and parsers is a complex problem that often involves the use of special tools and domain specific languages (e.g., the lex/yacc tools on Unix).  In 2001, I wrote Python versions of these tools which can be found in the PLY project.  PLY predates a huge number of modern Python features including the iteration protocol, generators, decorators, metaclasses, and more.  As such, it relied on a variety of clever hacks to layer a domain specific parser specification language on top of Python itself. \\r\\n\\r\\nIn this talk, I discuss a modernization of the PLY project that abandons its past and freely abuses modern Python features including advanced metaclasses, guaranteed dictionary ordering, class decorators, type hints, and more.   The result of this work can be found in the SLY project.  However, this talk isn't so much about SLY as it is focused on how far you can push Python metaprogramming features to create domain-specific languages.   Prepare to be horrified--and to write code that will break your IDE.\", \"The WSGI (Web Server Gateway Interface) specification for hosting Python web applications was created in 2003. Measured in Internet time, it is ancient. The oldest main stream implementation of the WSGI specification is mod_wsgi, for the Apache HTTPD server and it is over 10 years old.\\r\\n\\r\\nWSGI is starting to be regarded as not up to the job, with technologies such as HTTP/2, web sockets and async dispatching being the way forward. Reality is that WSGI will be around for quite some time yet and for the majority of use cases is more than adequate.\\r\\n\\r\\nThe real problem is not that we need to move to these new technologies, but that we aren't using the current WSGI servers to their best advantage. Moving to a new set of technologies will not necessarily make things better and will only create a new set of problems you have to solve.\\r\\n\\r\\nAs one of the oldest WSGI server implementations, Apache and mod\\\\_wsgi may be regarded as boring and not cool, but it is still the most stable option for hosting WSGI applications available. It also hasn't been sitting still, with a considerable amount of development work being done on mod\\\\_wsgi in the last few years to make it even more robust and easier to use in a development environment as well as production, including in containerised environments.\\r\\n\\r\\nIn this talk you will learn about many features of mod\\\\_wsgi which you probably didn't even know existed, features which can help towards ensuring your Python web application deployment performs to its best, is secure, and has a low maintenance burden.\\r\\n\\r\\nTopics which will be covered include:\\r\\n\\r\\n* Easy deployment of Python web applications using mod\\\\_wsgi-express.\\r\\n* Integration of mod_wsgi-express with a Django web application.\\r\\n* Using mod\\\\_wsgi-express in a development environment.\\r\\n* How to make use of mod\\\\_wsgi-express in a production environment.\\r\\n* Using mod_wsgi-express in a containerised runtime environment.\\r\\n* Ensuring consistency between development and production environments using warpdrive.\\r\\n* Using mod\\\\_wsgi-express to bootstrap a system Apache installation for hosting WSGI applications.\\r\\n* Why you should be using daemon mode of mod\\\\_wsgi and not embedded mode.\\r\\n* How to properly associate mod\\\\_wsgi with a Python virtual environment.\\r\\n* Building a robust deployment that can recover from misbehaving application code, backend services, or request overloading.\\r\\n* Using hooks provided by mod\\\\_wsgi to monitor the performance of your Python web application.\\r\\n\\r\\nIf you are a beginner, come learn why mod\\\\_wsgi is still a good option for deploying your Python web applications. If you are an old time user of mod\\\\_wsgi, find out about all the features you probably didn't know existed, revisit your current Python web application deployment and make it even better.\", 'When you think of an API, youâ\\x80\\x99re probably thinking about a web service. But itâ\\x80\\x99s important to think about your developer interface when designing a software library as well! Iâ\\x80\\x99ll talk about the scikit-learn package, and how its API makes it easy to construct complex models from simple building blocks, using three basic pieces: transformers, estimators, and meta-estimators. Then Iâ\\x80\\x99ll show how this interface enabled us to construct our own meta-estimator for model stacking. This will demonstrate how to implement new modeling techniques in a scikit-learn style, and more generally, the value of writing libraries with the developer interface in mind.', \"Stop writing crappy shell scriptsâ\\x80\\x94write crappy Python scripts instead!\\r\\n\\r\\nOther talks will show you how to write clean, performant, robust Python.  But that's not always necessary.  When writing personal automation or solving one-shot problems, it can be safe (and fun!) to quickly hack something together.\\r\\n\\r\\nThis talk will show examples of problems suitable for this approach, scenarios where it's reasonable to cut corners, novel techniques that can help break a problem down, and shortcuts that can speed development.\", \"At some point, we all find ourselves at a SQL prompt making edits to the production database. We know it's a bad practice and we always intend to put in place safer infrastructure before we need to do it again â\\x80\\x94 what does a better system actually look like?\\r\\n\\r\\nThis talk progresses through 5 strategies for teams using a Python stack to do SQL writes against a database, to achieve increasing safety and auditability:\\r\\n\\r\\n(1) Develop a process for raw SQL edits \\r\\n(2) Run scripts locally\\r\\n(3) Deploy and run scripts on an existing server\\r\\n(4) Use a task runner\\r\\n(5) Build a Script Runner service\\r\\n\\r\\nWeâ\\x80\\x99ll talk about the pros and cons of each strategy and help you determine which one is right for your specific needs.\\r\\n\\r\\nBy the end of this talk youâ\\x80\\x99ll be ready to start upgrading your infrastructure for making changes to your production database safely!\", 'Taking on leadership roles always includes new demands on your attention and time. Inevitably, your finite work week will conflict with the sheer amount of tasks you have to do. How can we as leaders keep stepping up to new responsibilities while balancing our pre-existing ones?\\r\\n\\r\\nThis talk will focus on strategies for managing a too-large workload without abandoning important tasks or doing a shoddy job. Weâ\\x80\\x99ll look at techniques to prioritize what work matters most, identify tasks we should be doing ourselves, and finally delegate the rest to build our teamâ\\x80\\x99s skills while reducing our own workload.', \"Done! Your shiny new application is functionally complete and ready to be deployed to production! But how exactly do you deploy properly on Linux? Wonder no more! In 30 minutes, this talk explains how you can harness the power of the init system and systemd to solve common deployment problems, including some that you didn't even know you had. Examples of things we will cover:\\r\\n\\r\\n* How to secure your system by having: private /tmp for your process, read-only paths so that your process can not write to them, inaccessible paths, protect users home, network access, bin directories, etc.\\r\\n* How to limit the resources you app can consume.\\r\\n* How to interact directly with systemd, so it can start transient units, start/stop services, mount disks, resolve addresses.\\r\\n* How to isolate your service without containers.\\r\\n* How to isolate your service using containers (using systemd to spawn a namespace).\\r\\n\\r\\nAll this will be covered from a Python developer's perspective.\", \"The Django Channels project has taken a major turn with version 2.0, embracing Python's async functionality and building applications around an async event loop rather than worker processes.\\r\\n\\r\\nDoing this, however, wasn't easy. We'll look through some of the techniques used to make Django coexist in this async world, including handing off between async and sync code, writing fully asynchronous HTTP and WebSocket handling, and what this means for the future of Django, and maybe Python web frameworks in general.\", \"Get under the hood and learn about Python's beloved Abstract Syntax Tree. Ever wonder how Python code is run? Overheard people arguing about whether Python is interpreted or compiled? In this talk, we will delve into the lifecycle of a piece of Python code in order to understand the role that Python's Abstract Syntax Tree plays in shaping the runtime of your code. Utilizing your newfound knowledge of Python's AST, you'll get a taste of how you probably already rely on ASTs and how they can be used to build awesome tools.\", \"As web apps grow increasingly complex, distributing asynchronous work across multiple background workers is often a basic requirement of a performant app.  While there are a variety of tools that exist to solve this issue, one common feature among them is the need for a robust messaging platform.\\r\\n\\r\\n[RabbitMQ][1] is a stable, full-featured, and mature solution that is usually found in the Python ecosystem backing [Celery][2] implementations.  While Celery's utilization of RabbitMQ works just fine out of the gate, users with complex workflows, unique constraints, or tight budgets can take advantage of the flexibility of RabbitMQ to streamline their data pipelines and get the most out of their infrastructure.\\r\\n\\r\\nThis talk will provide an overview of RabbitMQ, review its varied message-routing capabilities, and demonstrate some of the ways in which these features can be utilized in Python applications to solve common yet difficult use-cases.\\r\\n\\r\\n  [1]: https://www.rabbitmq.com/\\r\\n  [2]: http://www.celeryproject.org/\", 'Projects fail in droves. Systems hiccup and hours of downtime follows. Screws fall out all the time; the world is an imperfect place.\\r\\n\\r\\nWe talk a lot about building resilient systems, but all systems are (at least for now) built by humans. Humans who have been making the same types of mistakes for thousands of years. \\r\\n\\r\\nJust because failure happens doesnâ\\x80\\x99t mean we canâ\\x80\\x99t do our best to prevent it orâ\\x80\\x94at the very leastâ\\x80\\x94to minimize the damage when it does. As a matter of fact, embracing failure can be one of the best things you do for your system. Failure is a vital part of evolution. By learning to love failure we learn how to take the next step forward. Ignoring or punishing failure leads to stagnation and wasted potential.\\r\\n\\r\\nThis talk distills 3000 pages of failure research into 40 minutes of knowledge about the human factors of failure, how it can be recognised, and how you can work around it to create more resilient systems.\\r\\n\\r\\nBy the end of this talk the audience will have an awareness of the most common psychological reasons for mistakes and failures and how to develop systems and processes to protect against them.', 'All the data in the world is useless if you cannot understand it. EDA and data visualization are the most crucial yet overlooked stage in analytics process. This is because they give insights on the most relevant features in a particular data set required to build an accurate model. It is often said that the more the data, the better the model but sometimes, this can be counter-productive as more data can be a disadvantage. EDA helps avoid that.\\r\\n\\r\\nEDA is useful for professionals while data visualization is useful for end-users. \\r\\n\\r\\nFor end-users: \\r\\nA good sketch is better than a long speech. The value of a machine learning model is not known unless it is used to make data driven decisions. It is therefore necessary for data scientists to master the act of telling a story for their work to stay relevant. This is where data visualization is extremely useful.  \\r\\nWe must remember that the end-users of the results are not professionals like us but people who know little or nothing about data analysis. For effective communication of our analysis, there is need for a detailed yet simple data visualization because the work of a data scientist is not done if data-driven insights and decisions are not made.\\r\\n\\r\\nFor professionals:\\r\\nHow do you ensure you are ready to use machine learning algorithms in a project? How do you choose the most suitable algorithms for your data set? How do you define the feature variables that can potentially be used for machine learning? Most data scientists ask these questions.  EDA answers these questions explicitly.\\r\\nAlso, EDA helps in understanding the data. Understanding the data brings familiarity with the data, giving insights on the best models that fit the data set, the features in the dataset that will be useful for building an accurate machine learning model, making feature engineering an easy process.\\r\\n\\r\\nIn this talk, I will give a detailed explanation on what EDA and data visualization are and why they are very helpful in building accurate machine learning models for analytics as well as enhancing productivity and better understanding for clients. I will also discuss the risks of not mastering EDA and data visualization as a data scientist.', 'Congratulations on finishing your first tutorials or classes in python! In the parlance of the heroâ\\x80\\x99s journey myth, youâ\\x80\\x99ve had your â\\x80\\x98threshold momentâ\\x80\\x9d: youâ\\x80\\x99ve started down a path that could lead to a long and fulfilling career. But the road to this glorious future is frustratingly obscured by a lack of guidance in the present. You know enough to realize that you donâ\\x80\\x99t have all the skills you need yet, but itâ\\x80\\x99s hard to know how to learn those skills, or even articulate what they are. There are no easy solutions to this problem. There are, however, a few fundamental things to know and advice to keep in mind. Drawing from my own experience and with input from others, Iâ\\x80\\x99ve compiled some helpful hints about the skills, tools, and guiding questions that will get you to mastery.', \"Python's cyclic garbage collector wonderfully hides the complexity of memory management from the programmer. But we pay the price in performance. Ever wondered how that works? In this talk, you'll learn how garbage collection is designed in Python, what the tradeoffs are and how Instagram battled copy-on-write memory issues by disabling the garbage collector entirely.\\r\\n\\r\\nYou'll also learn why that isn't such a great idea after all and how we ended up extending the garbage collector API which allowed us to (mostly) re-enable garbage collection. We'll discuss our upstream contributions to the garbage collector that landed in Python 3.6 and 3.7.\\r\\n\\r\\nThis is an in-depth talk about memory management but no prior experience with CPython internals is necessary to follow it.\", \"Have you ever written a small, elegant application that couldn't keep up with the growth of your data or user demand? Did your beautiful design end up buried in threads and locks? Did Python's very special Global Interpreter Lock make all of this an exercise in futility?\\r\\n\\r\\nThis talk is for you! With the combined powers of AsyncIO and multiprocessing, we'll redesign an old multithreaded application limited by the GIL into a modern solution that scales with the demand using only the standard library. No prior AsyncIO or multiprocessing experience required.\", \"Concurrent programs are super useful: think of web apps juggling lots of simultaneous downloads and websocket connections, chat bots tracking multiple concurrent conversations, or web spiders fetching pages in parallel. But *writing* concurrent programs is complicated, intimidating to newcomers, and often challenging even for experts.\\r\\n\\r\\nDoes it have to be? Python is famous for being simple and straightforward; can Python make concurrent programming simple and straightforward too? I think so. By carefully analyzing usability pitfalls in other libraries, and taking advantage of new Python 3 features, I've come up with a new set of primitives that make it dramatically easier to write correct concurrent programs, and implemented them in a new library called [Trio](https://trio.readthedocs.io). In this talk, I'll describe these primitives, and demonstrate how to use them to implement a basic algorithm for speeding up TCP connections. Compared to the best previous Python implementation, our version turns out to be easier to understand, more correct, and dramatically shorter.\\r\\n\\r\\nThis talk assumes basic familiarity with Python, but does *not* require any prior experience with concurrency, async/await, or networking.\", \"You've heard about Python type annotations, but wondered if they're useful in the real world? Worried you've got too much code and can't afford to annotate it?  Type-checked Python is here, it's for real, and it can help you catch bugs and make your code easier to understand. Come learn from our experience gradually typing a million-LOC production Python application!\\r\\n\\r\\nType checking solves real world problems in production Python systems. We'll cover the benefits, how type checking in Python works, how to introduce it gradually and sustainably in a production Python application, and how to measure success and avoid common pitfalls. We'll even demonstrate how modern Python typechecking goes hand-in-hand with duck-typing! Join us for a deep dive into type-checked Python in the real world.\", \"Many projects already take advantage of static analysis tools like flake8, PyLint, and MyPy. Can we do better? In this talk, I'll discuss how to take a type checker, bolt on an interprocedural static analyzer, and delight your security team with high quality results.\\r\\n\\r\\nAbstract \\r\\n\\r\\nIt is incredibly challenging to build a halfway decent static analysis tool for a dynamic language like Python. Fortunately, it gets quite a bit easier with Python type annotations. To explain why, I'll present a tool that finds security vulnerabilities by tracking dangerous flows of information interprocedurally across an entire codebase. **Then,** I'll demonstrate how that tool is really just a slightly slower, more sophisticated, type checker.\", \"When we talk about Web API Design, we're usually driven to think in architecture, verbs, and nouns. But we often forget our user: the developer.\\r\\n\\r\\nUX designers rely on many techniques to create great experiences. User research, User Testing, Personas, Usage Data Analysis and others. However when creating `invisible products` weâ\\x80\\x99re not used to think in usability. So why donâ\\x80\\x99t we take advantage of this background to improve our APIs experiences?\", \"![ryu-python](http://www.thesimplelogic.com/wordpress/wp-content/uploads/2017/12/ryu-python.png)\\r\\n\\r\\nHear the story of how we used Python to build an AI that plays Super StreetFighter II on the Super NES. We'll cover how Python provided the key glue between the SNES emulator and AI, and how the AI was built with `gym`, `keras-rl` and `tensorflow`. We'll show examples of game play and training, and talk about which bot beat which bot in the bot-v-bot tournament we ran. \\r\\n\\r\\nAfter this talk you'll know how easy it is to use Python and Python's machine learning libraries to teach a computer to play games.  You'll see a practical example of the same type of machine learning used by AlphaGo, and also get to find out which character in StreetFighter II is best to pick when playing your friends.\\r\\n\\r\\n  [1]: https://lh3.googleusercontent.com/Mh9uzCm4JeevMN5w-SWJgzWabrqOClAVMsa4jJtMRm-il1dP6oVTsRstJSQlbgKf4qh3A08yMZ36pwezsITA=w3230-h1786\\r\\n  [2]: http://www.thesimplelogic.com/wordpress/wp-content/uploads/2017/12/ryu-python.png\", \"Recently, a new LED strip specification, APA102, has been released which allows these strips to be driven by a general purpose CPU instead of a dedicated microcontroller. This allows us the luxury of controlling them with Python!\\r\\n\\r\\nI'll teach you about how to get the the hardware, how to think about programming for lights and how to build anything from a psychedelic art installation to home lighting to an educational tool. \\r\\n\\r\\nProgramming with lights is awesome because you can SEE bugs with your eyes. I think the use of these LED's have great potential as a teaching tool because of the immediacy of the feedback.\\r\\n\\r\\nLIVE hardware demos!  See Quicksort in brilliant colors!\", 'Know you should be doing testing but havenâ\\x80\\x99t gotten over the hurdle to learn it? pytest is Pythonâ\\x80\\x99s modern, friendly, and powerful testing framework. When paired with an IDE, testing gets a visual interface, making it much easier to get started.\\r\\n\\r\\nIn this talk we cover â\\x80\\x9cvisual testingâ\\x80\\x9d: starting, learning, using, and mastering test-driven development (TDD) with the help of a nice UI. Weâ\\x80\\x99ll show PyCharm Community Edition, a free and open-source Python IDE, as a productive TDD environment for pytest. Specifically, weâ\\x80\\x99ll show a workflow using pytest and PyCharm that helps make tests speed up development, or at the very least help to make testing seem less \"in the way\" of other development activities', \"How do you become a Python core developer? How can I become one? What is it like to be a Python core developer?\\r\\n\\r\\nThese are the questions I often receive ever since I became a Python core developer a year ago. Contributing to Python is a long journey that does not end when one earns the commit privilege. There are responsibilities to bear and expectations to live up to.\\r\\n\\r\\nIn the past year, I've been learning more about what it really means to be a Python core developer. Let me share all of that with you.\", 'Many of us practice test driven development, and pride ourselves in our code coverage. This is relatively easy to do when you begin a new project, but what happens when you take over an existing code base with little to no tests? Where and how do you start writing tests? This task can be very intimidating and frustrating, but can be accomplished!\\r\\n\\r\\nThis talk will run through some common approaches and methodologies for adding test coverage to pre-existing code (that you might not even be familiar with at all). The next time you take over an untested monolith,  you will be able to do the right thing and start writing tests instead of hoping for the best!', 'RESTful has been the go-to choice of API world. Why another API approach? To support more data-driven applications, to provide more flexibility and ease unnecessary code and calls, to address a wide variety of large-scale development problems, **GraphQL** comes with HTTP, JSON, Versioning, Nullability, Pagination, and Server-side Batching & Caching in mind to make API \"Simple yet Powerful\".\\r\\n\\r\\nBy applying [Graphene-Python](http://graphene-python.org/), a library for building GraphQL APIs in Python easily, this talk will go through the background and challenges of applying GraphQL as the new API service in a restaurant POS (point of sale) system within complex cloud infrastructure in Python. Introduction, testing, and live demo is included for sure.', \"Knowing how to code and being able to teach it are two separate skills. When we have expertise in a subject, it's common to take for granted that we'll be able to effectively communicate our expertise to someone else. Come learn (or re-learn!) how to teach and discover practical examples you can put to work right away.\\r\\n\\r\\nBy sharpening your teaching skills, you'll be a more effective mentor, trainer, and team member.\"]\n"
          ],
          "name": "stdout"
        }
      ]
    },
    {
      "metadata": {
        "id": "s3v3pYJNK_nF",
        "colab_type": "code",
        "colab": {
          "base_uri": "https://localhost:8080/",
          "height": 204
        },
        "outputId": "b2012b88-3835-40a5-ce8b-b50568717a8c"
      },
      "cell_type": "code",
      "source": [
        "df = pd.DataFrame({'description': descriptions})\n",
        "df['char count'] = df.description.apply(len)\n",
        "df.head()"
      ],
      "execution_count": 29,
      "outputs": [
        {
          "output_type": "execute_result",
          "data": {
            "text/html": [
              "<div>\n",
              "<style scoped>\n",
              "    .dataframe tbody tr th:only-of-type {\n",
              "        vertical-align: middle;\n",
              "    }\n",
              "\n",
              "    .dataframe tbody tr th {\n",
              "        vertical-align: top;\n",
              "    }\n",
              "\n",
              "    .dataframe thead th {\n",
              "        text-align: right;\n",
              "    }\n",
              "</style>\n",
              "<table border=\"1\" class=\"dataframe\">\n",
              "  <thead>\n",
              "    <tr style=\"text-align: right;\">\n",
              "      <th></th>\n",
              "      <th>description</th>\n",
              "      <th>char count</th>\n",
              "    </tr>\n",
              "  </thead>\n",
              "  <tbody>\n",
              "    <tr>\n",
              "      <th>0</th>\n",
              "      <td>At some point every Python programmer sees Pyt...</td>\n",
              "      <td>440</td>\n",
              "    </tr>\n",
              "    <tr>\n",
              "      <th>1</th>\n",
              "      <td>Until very recently, Apache Spark has been a d...</td>\n",
              "      <td>881</td>\n",
              "    </tr>\n",
              "    <tr>\n",
              "      <th>2</th>\n",
              "      <td>In this talk, youâll learn about a category ...</td>\n",
              "      <td>647</td>\n",
              "    </tr>\n",
              "    <tr>\n",
              "      <th>3</th>\n",
              "      <td>âSo tell me,â my manager said, âwhat is ...</td>\n",
              "      <td>1080</td>\n",
              "    </tr>\n",
              "    <tr>\n",
              "      <th>4</th>\n",
              "      <td>Recommender systems have become increasingly p...</td>\n",
              "      <td>1147</td>\n",
              "    </tr>\n",
              "  </tbody>\n",
              "</table>\n",
              "</div>"
            ],
            "text/plain": [
              "                                         description  char count\n",
              "0  At some point every Python programmer sees Pyt...         440\n",
              "1  Until very recently, Apache Spark has been a d...         881\n",
              "2  In this talk, youâll learn about a category ...         647\n",
              "3  âSo tell me,â my manager said, âwhat is ...        1080\n",
              "4  Recommender systems have become increasingly p...        1147"
            ]
          },
          "metadata": {
            "tags": []
          },
          "execution_count": 29
        }
      ]
    },
    {
      "metadata": {
        "id": "FUjSyKb2NbCw",
        "colab_type": "code",
        "colab": {
          "base_uri": "https://localhost:8080/",
          "height": 204
        },
        "outputId": "d76c0d94-698e-4b42-9388-fd9f7646c2dd"
      },
      "cell_type": "code",
      "source": [
        "import textstat\n",
        "df['descr. word count'] =  df['description'].apply(textstat.lexicon_count)\n",
        "df.head()"
      ],
      "execution_count": 45,
      "outputs": [
        {
          "output_type": "execute_result",
          "data": {
            "text/html": [
              "<div>\n",
              "<style scoped>\n",
              "    .dataframe tbody tr th:only-of-type {\n",
              "        vertical-align: middle;\n",
              "    }\n",
              "\n",
              "    .dataframe tbody tr th {\n",
              "        vertical-align: top;\n",
              "    }\n",
              "\n",
              "    .dataframe thead th {\n",
              "        text-align: right;\n",
              "    }\n",
              "</style>\n",
              "<table border=\"1\" class=\"dataframe\">\n",
              "  <thead>\n",
              "    <tr style=\"text-align: right;\">\n",
              "      <th></th>\n",
              "      <th>description</th>\n",
              "      <th>char count</th>\n",
              "      <th>descr. word count</th>\n",
              "      <th>grade level</th>\n",
              "    </tr>\n",
              "  </thead>\n",
              "  <tbody>\n",
              "    <tr>\n",
              "      <th>0</th>\n",
              "      <td>At some point every Python programmer sees Pyt...</td>\n",
              "      <td>440</td>\n",
              "      <td>78</td>\n",
              "      <td>7.4</td>\n",
              "    </tr>\n",
              "    <tr>\n",
              "      <th>1</th>\n",
              "      <td>Until very recently, Apache Spark has been a d...</td>\n",
              "      <td>881</td>\n",
              "      <td>141</td>\n",
              "      <td>14.3</td>\n",
              "    </tr>\n",
              "    <tr>\n",
              "      <th>2</th>\n",
              "      <td>In this talk, youâll learn about a category ...</td>\n",
              "      <td>647</td>\n",
              "      <td>96</td>\n",
              "      <td>11.9</td>\n",
              "    </tr>\n",
              "    <tr>\n",
              "      <th>3</th>\n",
              "      <td>âSo tell me,â my manager said, âwhat is ...</td>\n",
              "      <td>1080</td>\n",
              "      <td>178</td>\n",
              "      <td>16.0</td>\n",
              "    </tr>\n",
              "    <tr>\n",
              "      <th>4</th>\n",
              "      <td>Recommender systems have become increasingly p...</td>\n",
              "      <td>1147</td>\n",
              "      <td>188</td>\n",
              "      <td>18.0</td>\n",
              "    </tr>\n",
              "  </tbody>\n",
              "</table>\n",
              "</div>"
            ],
            "text/plain": [
              "                                         description  char count  \\\n",
              "0  At some point every Python programmer sees Pyt...         440   \n",
              "1  Until very recently, Apache Spark has been a d...         881   \n",
              "2  In this talk, youâll learn about a category ...         647   \n",
              "3  âSo tell me,â my manager said, âwhat is ...        1080   \n",
              "4  Recommender systems have become increasingly p...        1147   \n",
              "\n",
              "   descr. word count  grade level  \n",
              "0                 78          7.4  \n",
              "1                141         14.3  \n",
              "2                 96         11.9  \n",
              "3                178         16.0  \n",
              "4                188         18.0  "
            ]
          },
          "metadata": {
            "tags": []
          },
          "execution_count": 45
        }
      ]
    },
    {
      "metadata": {
        "id": "FWKj5tCOOPoc",
        "colab_type": "code",
        "colab": {
          "base_uri": "https://localhost:8080/",
          "height": 204
        },
        "outputId": "bfdf10dd-6aec-433c-e63a-c052454ac949"
      },
      "cell_type": "code",
      "source": [
        "df['grade level'] = df['description'].apply(textstat.flesch_kincaid_grade)\n",
        "df.head()\n"
      ],
      "execution_count": 51,
      "outputs": [
        {
          "output_type": "execute_result",
          "data": {
            "text/html": [
              "<div>\n",
              "<style scoped>\n",
              "    .dataframe tbody tr th:only-of-type {\n",
              "        vertical-align: middle;\n",
              "    }\n",
              "\n",
              "    .dataframe tbody tr th {\n",
              "        vertical-align: top;\n",
              "    }\n",
              "\n",
              "    .dataframe thead th {\n",
              "        text-align: right;\n",
              "    }\n",
              "</style>\n",
              "<table border=\"1\" class=\"dataframe\">\n",
              "  <thead>\n",
              "    <tr style=\"text-align: right;\">\n",
              "      <th></th>\n",
              "      <th>description</th>\n",
              "      <th>char count</th>\n",
              "      <th>descr. word count</th>\n",
              "      <th>grade level</th>\n",
              "    </tr>\n",
              "  </thead>\n",
              "  <tbody>\n",
              "    <tr>\n",
              "      <th>0</th>\n",
              "      <td>At some point every Python programmer sees Pyt...</td>\n",
              "      <td>440</td>\n",
              "      <td>78</td>\n",
              "      <td>7.4</td>\n",
              "    </tr>\n",
              "    <tr>\n",
              "      <th>1</th>\n",
              "      <td>Until very recently, Apache Spark has been a d...</td>\n",
              "      <td>881</td>\n",
              "      <td>141</td>\n",
              "      <td>14.3</td>\n",
              "    </tr>\n",
              "    <tr>\n",
              "      <th>2</th>\n",
              "      <td>In this talk, youâll learn about a category ...</td>\n",
              "      <td>647</td>\n",
              "      <td>96</td>\n",
              "      <td>11.9</td>\n",
              "    </tr>\n",
              "    <tr>\n",
              "      <th>3</th>\n",
              "      <td>âSo tell me,â my manager said, âwhat is ...</td>\n",
              "      <td>1080</td>\n",
              "      <td>178</td>\n",
              "      <td>16.0</td>\n",
              "    </tr>\n",
              "    <tr>\n",
              "      <th>4</th>\n",
              "      <td>Recommender systems have become increasingly p...</td>\n",
              "      <td>1147</td>\n",
              "      <td>188</td>\n",
              "      <td>18.0</td>\n",
              "    </tr>\n",
              "  </tbody>\n",
              "</table>\n",
              "</div>"
            ],
            "text/plain": [
              "                                         description  char count  \\\n",
              "0  At some point every Python programmer sees Pyt...         440   \n",
              "1  Until very recently, Apache Spark has been a d...         881   \n",
              "2  In this talk, youâll learn about a category ...         647   \n",
              "3  âSo tell me,â my manager said, âwhat is ...        1080   \n",
              "4  Recommender systems have become increasingly p...        1147   \n",
              "\n",
              "   descr. word count  grade level  \n",
              "0                 78          7.4  \n",
              "1                141         14.3  \n",
              "2                 96         11.9  \n",
              "3                178         16.0  \n",
              "4                188         18.0  "
            ]
          },
          "metadata": {
            "tags": []
          },
          "execution_count": 51
        }
      ]
    },
    {
      "metadata": {
        "id": "opfiJg0_P6Dx",
        "colab_type": "code",
        "colab": {
          "base_uri": "https://localhost:8080/",
          "height": 297
        },
        "outputId": "29317305-50fb-4f5f-cbdf-3f73cd1b2380"
      },
      "cell_type": "code",
      "source": [
        "df.describe()"
      ],
      "execution_count": 54,
      "outputs": [
        {
          "output_type": "execute_result",
          "data": {
            "text/html": [
              "<div>\n",
              "<style scoped>\n",
              "    .dataframe tbody tr th:only-of-type {\n",
              "        vertical-align: middle;\n",
              "    }\n",
              "\n",
              "    .dataframe tbody tr th {\n",
              "        vertical-align: top;\n",
              "    }\n",
              "\n",
              "    .dataframe thead th {\n",
              "        text-align: right;\n",
              "    }\n",
              "</style>\n",
              "<table border=\"1\" class=\"dataframe\">\n",
              "  <thead>\n",
              "    <tr style=\"text-align: right;\">\n",
              "      <th></th>\n",
              "      <th>char count</th>\n",
              "      <th>descr. word count</th>\n",
              "      <th>grade level</th>\n",
              "    </tr>\n",
              "  </thead>\n",
              "  <tbody>\n",
              "    <tr>\n",
              "      <th>count</th>\n",
              "      <td>95.000000</td>\n",
              "      <td>95.000000</td>\n",
              "      <td>95.000000</td>\n",
              "    </tr>\n",
              "    <tr>\n",
              "      <th>mean</th>\n",
              "      <td>846.063158</td>\n",
              "      <td>134.578947</td>\n",
              "      <td>18.117895</td>\n",
              "    </tr>\n",
              "    <tr>\n",
              "      <th>std</th>\n",
              "      <td>450.107713</td>\n",
              "      <td>70.019082</td>\n",
              "      <td>15.835652</td>\n",
              "    </tr>\n",
              "    <tr>\n",
              "      <th>min</th>\n",
              "      <td>201.000000</td>\n",
              "      <td>35.000000</td>\n",
              "      <td>3.700000</td>\n",
              "    </tr>\n",
              "    <tr>\n",
              "      <th>25%</th>\n",
              "      <td>550.000000</td>\n",
              "      <td>91.500000</td>\n",
              "      <td>10.500000</td>\n",
              "    </tr>\n",
              "    <tr>\n",
              "      <th>50%</th>\n",
              "      <td>758.000000</td>\n",
              "      <td>119.000000</td>\n",
              "      <td>13.800000</td>\n",
              "    </tr>\n",
              "    <tr>\n",
              "      <th>75%</th>\n",
              "      <td>978.000000</td>\n",
              "      <td>149.500000</td>\n",
              "      <td>17.950000</td>\n",
              "    </tr>\n",
              "    <tr>\n",
              "      <th>max</th>\n",
              "      <td>2794.000000</td>\n",
              "      <td>436.000000</td>\n",
              "      <td>107.800000</td>\n",
              "    </tr>\n",
              "  </tbody>\n",
              "</table>\n",
              "</div>"
            ],
            "text/plain": [
              "        char count  descr. word count  grade level\n",
              "count    95.000000          95.000000    95.000000\n",
              "mean    846.063158         134.578947    18.117895\n",
              "std     450.107713          70.019082    15.835652\n",
              "min     201.000000          35.000000     3.700000\n",
              "25%     550.000000          91.500000    10.500000\n",
              "50%     758.000000         119.000000    13.800000\n",
              "75%     978.000000         149.500000    17.950000\n",
              "max    2794.000000         436.000000   107.800000"
            ]
          },
          "metadata": {
            "tags": []
          },
          "execution_count": 54
        }
      ]
    },
    {
      "metadata": {
        "id": "rBVuYZ1TQGRK",
        "colab_type": "code",
        "colab": {
          "base_uri": "https://localhost:8080/",
          "height": 173
        },
        "outputId": "deabff51-013b-46f7-ba19-3f5d9fe374e8"
      },
      "cell_type": "code",
      "source": [
        "df.describe(exclude=np.number)"
      ],
      "execution_count": 55,
      "outputs": [
        {
          "output_type": "execute_result",
          "data": {
            "text/html": [
              "<div>\n",
              "<style scoped>\n",
              "    .dataframe tbody tr th:only-of-type {\n",
              "        vertical-align: middle;\n",
              "    }\n",
              "\n",
              "    .dataframe tbody tr th {\n",
              "        vertical-align: top;\n",
              "    }\n",
              "\n",
              "    .dataframe thead th {\n",
              "        text-align: right;\n",
              "    }\n",
              "</style>\n",
              "<table border=\"1\" class=\"dataframe\">\n",
              "  <thead>\n",
              "    <tr style=\"text-align: right;\">\n",
              "      <th></th>\n",
              "      <th>description</th>\n",
              "    </tr>\n",
              "  </thead>\n",
              "  <tbody>\n",
              "    <tr>\n",
              "      <th>count</th>\n",
              "      <td>95</td>\n",
              "    </tr>\n",
              "    <tr>\n",
              "      <th>unique</th>\n",
              "      <td>95</td>\n",
              "    </tr>\n",
              "    <tr>\n",
              "      <th>top</th>\n",
              "      <td>Knowing how to code and being able to teach it...</td>\n",
              "    </tr>\n",
              "    <tr>\n",
              "      <th>freq</th>\n",
              "      <td>1</td>\n",
              "    </tr>\n",
              "  </tbody>\n",
              "</table>\n",
              "</div>"
            ],
            "text/plain": [
              "                                              description\n",
              "count                                                  95\n",
              "unique                                                 95\n",
              "top     Knowing how to code and being able to teach it...\n",
              "freq                                                    1"
            ]
          },
          "metadata": {
            "tags": []
          },
          "execution_count": 55
        }
      ]
    },
    {
      "metadata": {
        "id": "b931ESrWSkYO",
        "colab_type": "code",
        "colab": {
          "base_uri": "https://localhost:8080/",
          "height": 142
        },
        "outputId": "0bfaacd8-5ecf-4253-95ba-805cde65dab7"
      },
      "cell_type": "code",
      "source": [
        "df['tweetable'] = df['char count']<=280\n",
        "df[df['tweetable'] == True]"
      ],
      "execution_count": 77,
      "outputs": [
        {
          "output_type": "execute_result",
          "data": {
            "text/html": [
              "<div>\n",
              "<style scoped>\n",
              "    .dataframe tbody tr th:only-of-type {\n",
              "        vertical-align: middle;\n",
              "    }\n",
              "\n",
              "    .dataframe tbody tr th {\n",
              "        vertical-align: top;\n",
              "    }\n",
              "\n",
              "    .dataframe thead th {\n",
              "        text-align: right;\n",
              "    }\n",
              "</style>\n",
              "<table border=\"1\" class=\"dataframe\">\n",
              "  <thead>\n",
              "    <tr style=\"text-align: right;\">\n",
              "      <th></th>\n",
              "      <th>description</th>\n",
              "      <th>char count</th>\n",
              "      <th>descr. word count</th>\n",
              "      <th>grade level</th>\n",
              "      <th>tweetable</th>\n",
              "    </tr>\n",
              "  </thead>\n",
              "  <tbody>\n",
              "    <tr>\n",
              "      <th>44</th>\n",
              "      <td>A function is a small chunk of code that does ...</td>\n",
              "      <td>231</td>\n",
              "      <td>49</td>\n",
              "      <td>3.7</td>\n",
              "      <td>True</td>\n",
              "    </tr>\n",
              "    <tr>\n",
              "      <th>62</th>\n",
              "      <td>For 2 years, a family of three has traveled on...</td>\n",
              "      <td>201</td>\n",
              "      <td>35</td>\n",
              "      <td>15.8</td>\n",
              "      <td>True</td>\n",
              "    </tr>\n",
              "    <tr>\n",
              "      <th>65</th>\n",
              "      <td>Python 3 removes a lot of the confusion around...</td>\n",
              "      <td>262</td>\n",
              "      <td>45</td>\n",
              "      <td>6.8</td>\n",
              "      <td>True</td>\n",
              "    </tr>\n",
              "  </tbody>\n",
              "</table>\n",
              "</div>"
            ],
            "text/plain": [
              "                                          description  char count  \\\n",
              "44  A function is a small chunk of code that does ...         231   \n",
              "62  For 2 years, a family of three has traveled on...         201   \n",
              "65  Python 3 removes a lot of the confusion around...         262   \n",
              "\n",
              "    descr. word count  grade level  tweetable  \n",
              "44                 49          3.7       True  \n",
              "62                 35         15.8       True  \n",
              "65                 45          6.8       True  "
            ]
          },
          "metadata": {
            "tags": []
          },
          "execution_count": 77
        }
      ]
    },
    {
      "metadata": {
        "id": "6gudwsVZUS0b",
        "colab_type": "code",
        "colab": {
          "base_uri": "https://localhost:8080/",
          "height": 362
        },
        "outputId": "ed490d1d-14c1-4042-ab6f-12ef55966cc5"
      },
      "cell_type": "code",
      "source": [
        "plt.hist(df['grade level'])\n",
        "plt.title('Histogram of Description Grade Levels')\n",
        "plt.show();"
      ],
      "execution_count": 76,
      "outputs": [
        {
          "output_type": "display_data",
          "data": {
            "image/png": "[encoded data removed]",
            "text/plain": [
              "<matplotlib.figure.Figure at 0x7f5c4b4649b0>"
            ]
          },
          "metadata": {
            "tags": []
          }
        }
      ]
    },
    {
      "metadata": {
        "id": "SplK8BZJWTXJ",
        "colab_type": "code",
        "colab": {}
      },
      "cell_type": "code",
      "source": [
        ""
      ],
      "execution_count": 0,
      "outputs": []
    }
  ]
}