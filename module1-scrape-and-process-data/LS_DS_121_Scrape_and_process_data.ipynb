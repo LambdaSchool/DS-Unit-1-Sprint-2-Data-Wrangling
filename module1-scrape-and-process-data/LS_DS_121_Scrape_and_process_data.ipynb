{
  "nbformat": 4,
  "nbformat_minor": 0,
  "metadata": {
    "colab": {
      "name": "LS_DS_121_Scrape_and_process_data.ipynb",
      "version": "0.3.2",
      "provenance": [],
      "collapsed_sections": [],
      "include_colab_link": true
    },
    "kernelspec": {
      "name": "python3",
      "display_name": "Python 3"
    }
  },
  "cells": [
    {
      "cell_type": "markdown",
      "metadata": {
        "id": "view-in-github",
        "colab_type": "text"
      },
      "source": [
        "<a href=\"https://colab.research.google.com/github/derek-shing/DS-Unit-1-Sprint-2-Data-Wrangling/blob/master/module1-scrape-and-process-data/LS_DS_121_Scrape_and_process_data.ipynb\" target=\"_parent\"><img src=\"https://colab.research.google.com/assets/colab-badge.svg\" alt=\"Open In Colab\"/></a>"
      ]
    },
    {
      "metadata": {
        "id": "oR4Yeg3P07gu",
        "colab_type": "text"
      },
      "cell_type": "markdown",
      "source": [
        "_Lambda School Data Science_\n",
        "\n",
        "# Scrape and process data\n",
        "\n",
        "Objectives\n",
        "- scrape and parse web pages\n",
        "- use list comprehensions\n",
        "- select rows and columns with pandas\n",
        "\n",
        "Links\n",
        "-  [Automate the Boring Stuff with Python, Chapter 11](https://automatetheboringstuff.com/chapter11/)\n",
        "  - Requests\n",
        "  - Beautiful Soup\n",
        "- [Python List Comprehensions: Explained Visually](https://treyhunner.com/2015/12/python-list-comprehensions-now-in-color/)\n",
        "- [Pandas Cheat Sheet](https://github.com/pandas-dev/pandas/blob/master/doc/cheatsheet/Pandas_Cheat_Sheet.pdf)\n",
        "  - Subset Observations (Rows)\n",
        "  - Subset Variables (Columns)\n",
        "- Python Data Science Handbook\n",
        "  - [Chapter 3.1](https://jakevdp.github.io/PythonDataScienceHandbook/03.01-introducing-pandas-objects.html), Introducing Pandas Objects\n",
        "  - [Chapter 3.2](https://jakevdp.github.io/PythonDataScienceHandbook/03.02-data-indexing-and-selection.html), Data Indexing and Selection\n"
      ]
    },
    {
      "metadata": {
        "id": "I_NRVchqgGvM",
        "colab_type": "text"
      },
      "cell_type": "markdown",
      "source": [
        "## Scrape the titles of PyCon 2018 talks"
      ]
    },
    {
      "metadata": {
        "id": "3elw_8Nc7Tpe",
        "colab_type": "code",
        "colab": {}
      },
      "cell_type": "code",
      "source": [
        "url = 'https://us.pycon.org/2018/schedule/talks/list/'"
      ],
      "execution_count": 0,
      "outputs": []
    },
    {
      "metadata": {
        "id": "SFNsyjVsTU4b",
        "colab_type": "code",
        "colab": {}
      },
      "cell_type": "code",
      "source": [
        "import requests\n",
        "import bs4\n",
        "\n",
        "res = requests.get(url)\n",
        "type(res)"
      ],
      "execution_count": 0,
      "outputs": []
    },
    {
      "metadata": {
        "id": "2LIHjbXdXgHx",
        "colab_type": "code",
        "colab": {}
      },
      "cell_type": "code",
      "source": [
        "res.text"
      ],
      "execution_count": 0,
      "outputs": []
    },
    {
      "metadata": {
        "id": "5zNRwzxxX4Fk",
        "colab_type": "code",
        "colab": {}
      },
      "cell_type": "code",
      "source": [
        "soup  = bs4.BeautifulSoup(res.text)\n",
        "\n",
        "soup"
      ],
      "execution_count": 0,
      "outputs": []
    },
    {
      "metadata": {
        "id": "ImaeluCCYLao",
        "colab_type": "code",
        "colab": {}
      },
      "cell_type": "code",
      "source": [
        "soup.select('h2')"
      ],
      "execution_count": 0,
      "outputs": []
    },
    {
      "metadata": {
        "id": "a0w2IiQBZnP5",
        "colab_type": "code",
        "colab": {}
      },
      "cell_type": "code",
      "source": [
        "first = soup.select('h2')[0]\n",
        "last = soup.select('h2')[-1]\n",
        "\n",
        "first"
      ],
      "execution_count": 0,
      "outputs": []
    },
    {
      "metadata": {
        "id": "c0qM3iCTaMmu",
        "colab_type": "code",
        "colab": {}
      },
      "cell_type": "code",
      "source": [
        "first.text.strip()\n",
        "last.text.strip()"
      ],
      "execution_count": 0,
      "outputs": []
    },
    {
      "metadata": {
        "id": "cFZdBPjxaf8i",
        "colab_type": "code",
        "colab": {}
      },
      "cell_type": "code",
      "source": [
        "first.text"
      ],
      "execution_count": 0,
      "outputs": []
    },
    {
      "metadata": {
        "id": "vqkNgAzYpeK7",
        "colab_type": "text"
      },
      "cell_type": "markdown",
      "source": [
        "## 5 ways to look at long titles\n",
        "\n",
        "Let's define a long title as greater than 80 characters"
      ]
    },
    {
      "metadata": {
        "id": "N7tqeZh14Fws",
        "colab_type": "text"
      },
      "cell_type": "markdown",
      "source": [
        "### 1. For Loop"
      ]
    },
    {
      "metadata": {
        "id": "kKxs5tqDApuZ",
        "colab_type": "code",
        "colab": {}
      },
      "cell_type": "code",
      "source": [
        "titles =[]\n",
        "\n",
        "for tag in soup.select('h2'):\n",
        "  tag.text.strip()\n",
        "  titles.append(tag.text.strip())\n",
        "  \n",
        "  \n",
        "titles\n",
        "\n",
        "for title in titles:\n",
        "  if len(title) > 80:\n",
        "    print(title,'\\n')\n",
        "  "
      ],
      "execution_count": 0,
      "outputs": []
    },
    {
      "metadata": {
        "id": "I21jcEnK4IN7",
        "colab_type": "text"
      },
      "cell_type": "markdown",
      "source": [
        "### 2. List Comprehension"
      ]
    },
    {
      "metadata": {
        "id": "qaXe9UldAs3H",
        "colab_type": "code",
        "colab": {}
      },
      "cell_type": "code",
      "source": [
        "titles = [tag.text.strip() for tag in soup.select('h2')]\n",
        "\n",
        "longtitles = [title for title in titles if len(title)>80]\n",
        "\n",
        "longtitles"
      ],
      "execution_count": 0,
      "outputs": []
    },
    {
      "metadata": {
        "id": "2kn8pxL-4yMG",
        "colab_type": "text"
      },
      "cell_type": "markdown",
      "source": [
        "### 3. Filter with named function"
      ]
    },
    {
      "metadata": {
        "id": "ywLqqFJNAvFm",
        "colab_type": "code",
        "colab": {}
      },
      "cell_type": "code",
      "source": [
        "def long(title):\n",
        "  return len(title)>80\n",
        "\n",
        "list(filter(long,titles))"
      ],
      "execution_count": 0,
      "outputs": []
    },
    {
      "metadata": {
        "id": "IPIT6oXz40Q3",
        "colab_type": "text"
      },
      "cell_type": "markdown",
      "source": [
        "### 4. Filter with anonymous function"
      ]
    },
    {
      "metadata": {
        "id": "giIcFYkiAwiR",
        "colab_type": "code",
        "colab": {}
      },
      "cell_type": "code",
      "source": [
        "list(filter(lambda t:len(t)>80, titles))"
      ],
      "execution_count": 0,
      "outputs": []
    },
    {
      "metadata": {
        "id": "qj8Yod8_45z4",
        "colab_type": "text"
      },
      "cell_type": "markdown",
      "source": [
        "### 5. Pandas\n",
        "\n",
        "pandas documentation: [Working with Text Data](https://pandas.pydata.org/pandas-docs/stable/text.html)"
      ]
    },
    {
      "metadata": {
        "id": "yRwPEHNcAzc_",
        "colab_type": "code",
        "colab": {}
      },
      "cell_type": "code",
      "source": [
        "import pandas as pd\n",
        "\n",
        "df = pd.DataFrame({'title':titles})\n",
        "\n",
        "#df[len(df.title)>80]\n",
        "\n",
        "df[df.title.str.len()>80]"
      ],
      "execution_count": 0,
      "outputs": []
    },
    {
      "metadata": {
        "id": "8YaUZJvRp681",
        "colab_type": "text"
      },
      "cell_type": "markdown",
      "source": [
        "## Make new dataframe columns\n",
        "\n",
        "pandas documentation: [apply](https://pandas.pydata.org/pandas-docs/stable/generated/pandas.Series.apply.html)"
      ]
    },
    {
      "metadata": {
        "id": "DR_WZ-olA4-v",
        "colab_type": "code",
        "colab": {}
      },
      "cell_type": "code",
      "source": [
        ""
      ],
      "execution_count": 0,
      "outputs": []
    },
    {
      "metadata": {
        "id": "Ua74pMrGrsZR",
        "colab_type": "text"
      },
      "cell_type": "markdown",
      "source": [
        "### title length"
      ]
    },
    {
      "metadata": {
        "id": "p-Euz7tgA8Fd",
        "colab_type": "code",
        "colab": {}
      },
      "cell_type": "code",
      "source": [
        "df['title length'] = df.title.str.len()\n",
        "df"
      ],
      "execution_count": 0,
      "outputs": []
    },
    {
      "metadata": {
        "id": "OgsKArXPrz5n",
        "colab_type": "text"
      },
      "cell_type": "markdown",
      "source": [
        "### long title"
      ]
    },
    {
      "metadata": {
        "id": "b_WCRvvKA-IP",
        "colab_type": "code",
        "colab": {}
      },
      "cell_type": "code",
      "source": [
        "df['long title'] = df.title.str.len()>80\n",
        "\n",
        "df"
      ],
      "execution_count": 0,
      "outputs": []
    },
    {
      "metadata": {
        "id": "TonCXYPesUsT",
        "colab_type": "text"
      },
      "cell_type": "markdown",
      "source": [
        "### first letter"
      ]
    },
    {
      "metadata": {
        "id": "fhO4aABpBBgA",
        "colab_type": "code",
        "colab": {}
      },
      "cell_type": "code",
      "source": [
        "df['first letter'] = df.title.str[0]\n",
        "\n",
        "df"
      ],
      "execution_count": 0,
      "outputs": []
    },
    {
      "metadata": {
        "id": "Etz1XeLKs6DL",
        "colab_type": "text"
      },
      "cell_type": "markdown",
      "source": [
        "### word count\n",
        "\n",
        "Using [`textstat`](https://github.com/shivam5992/textstat)"
      ]
    },
    {
      "metadata": {
        "id": "GVIkRWchs4zR",
        "colab_type": "code",
        "colab": {}
      },
      "cell_type": "code",
      "source": [
        "!pip install textstat"
      ],
      "execution_count": 0,
      "outputs": []
    },
    {
      "metadata": {
        "id": "mY_M_MuaBFrF",
        "colab_type": "code",
        "colab": {}
      },
      "cell_type": "code",
      "source": [
        "import textstat\n",
        "\n",
        "first = df.title.values[0]\n",
        "last = df.title.values[-1]\n",
        "\n",
        "df['title word count']=df.title.apply(textstat.lexicon_count)\n",
        "\n",
        "df"
      ],
      "execution_count": 0,
      "outputs": []
    },
    {
      "metadata": {
        "id": "UN_7FABhwDqc",
        "colab_type": "text"
      },
      "cell_type": "markdown",
      "source": [
        "## Rename column\n",
        "\n",
        "`title length` --> `title character count`\n",
        "\n",
        "pandas documentation: [rename](https://pandas.pydata.org/pandas-docs/stable/generated/pandas.DataFrame.rename.html)"
      ]
    },
    {
      "metadata": {
        "id": "jvTif7sBBMpN",
        "colab_type": "code",
        "colab": {}
      },
      "cell_type": "code",
      "source": [
        "df = df.rename({})"
      ],
      "execution_count": 0,
      "outputs": []
    },
    {
      "metadata": {
        "id": "ca2pDtytr5tR",
        "colab_type": "text"
      },
      "cell_type": "markdown",
      "source": [
        "## Analyze the dataframe"
      ]
    },
    {
      "metadata": {
        "id": "AitNVDCFwWwc",
        "colab_type": "text"
      },
      "cell_type": "markdown",
      "source": [
        "### Describe\n",
        "\n",
        "pandas documentation: [describe](https://pandas.pydata.org/pandas-docs/stable/generated/pandas.DataFrame.describe.html)"
      ]
    },
    {
      "metadata": {
        "id": "yPo9RdxYBQ64",
        "colab_type": "code",
        "colab": {}
      },
      "cell_type": "code",
      "source": [
        ""
      ],
      "execution_count": 0,
      "outputs": []
    },
    {
      "metadata": {
        "id": "T0lc_o-xyjZU",
        "colab_type": "text"
      },
      "cell_type": "markdown",
      "source": [
        "### Sort values\n",
        "\n",
        "pandas documentation: [sort_values](https://pandas.pydata.org/pandas-docs/stable/generated/pandas.DataFrame.sort_values.html)"
      ]
    },
    {
      "metadata": {
        "id": "kxE2swJ9-cG_",
        "colab_type": "text"
      },
      "cell_type": "markdown",
      "source": [
        "Five shortest titles, by character count"
      ]
    },
    {
      "metadata": {
        "id": "7t8DlpLhBVQa",
        "colab_type": "code",
        "colab": {}
      },
      "cell_type": "code",
      "source": [
        "df.sort_values(by='title word count', ascending=False)"
      ],
      "execution_count": 0,
      "outputs": []
    },
    {
      "metadata": {
        "id": "NOEH4Ef5-kvo",
        "colab_type": "text"
      },
      "cell_type": "markdown",
      "source": [
        "Titles sorted reverse alphabetically"
      ]
    },
    {
      "metadata": {
        "id": "WkymeWDjBV8X",
        "colab_type": "code",
        "colab": {}
      },
      "cell_type": "code",
      "source": [
        ""
      ],
      "execution_count": 0,
      "outputs": []
    },
    {
      "metadata": {
        "id": "e4wr42FB0GV-",
        "colab_type": "text"
      },
      "cell_type": "markdown",
      "source": [
        "### Get value counts\n",
        "\n",
        "pandas documentation: [value_counts](https://pandas.pydata.org/pandas-docs/stable/generated/pandas.Series.value_counts.html)\n"
      ]
    },
    {
      "metadata": {
        "id": "D81LNGaI-6ya",
        "colab_type": "text"
      },
      "cell_type": "markdown",
      "source": [
        "Frequency counts of first letters"
      ]
    },
    {
      "metadata": {
        "id": "AdTQYsRKBZio",
        "colab_type": "code",
        "colab": {}
      },
      "cell_type": "code",
      "source": [
        "df['first letter'].value_counts()"
      ],
      "execution_count": 0,
      "outputs": []
    },
    {
      "metadata": {
        "id": "04NVokvTAwqK",
        "colab_type": "text"
      },
      "cell_type": "markdown",
      "source": [
        "Percentage of talks with long titles"
      ]
    },
    {
      "metadata": {
        "id": "uS8qp4hrBat6",
        "colab_type": "code",
        "colab": {}
      },
      "cell_type": "code",
      "source": [
        "df['long title'].value_counts(normalize= True)"
      ],
      "execution_count": 0,
      "outputs": []
    },
    {
      "metadata": {
        "id": "mmYZL2QL0lgd",
        "colab_type": "text"
      },
      "cell_type": "markdown",
      "source": [
        "### Plot\n",
        "\n",
        "pandas documentation: [Visualization](https://pandas.pydata.org/pandas-docs/stable/visualization.html)\n",
        "\n",
        "\n",
        "\n"
      ]
    },
    {
      "metadata": {
        "id": "c6gCotA9_B68",
        "colab_type": "text"
      },
      "cell_type": "markdown",
      "source": [
        "Top 5 most frequent first letters"
      ]
    },
    {
      "metadata": {
        "id": "DUmcVcdXBdkw",
        "colab_type": "code",
        "colab": {}
      },
      "cell_type": "code",
      "source": [
        "%matplotlib inline\n",
        "\n",
        "df['first letter'].value_counts().head(5).plot.barh()"
      ],
      "execution_count": 0,
      "outputs": []
    },
    {
      "metadata": {
        "id": "_Ngegk0bASty",
        "colab_type": "text"
      },
      "cell_type": "markdown",
      "source": [
        "Histogram of title lengths, in characters"
      ]
    },
    {
      "metadata": {
        "id": "y5oLu2D4BeKw",
        "colab_type": "code",
        "colab": {}
      },
      "cell_type": "code",
      "source": [
        ""
      ],
      "execution_count": 0,
      "outputs": []
    },
    {
      "metadata": {
        "id": "DiylH7LQw44u",
        "colab_type": "text"
      },
      "cell_type": "markdown",
      "source": [
        "# Assignment\n",
        "\n",
        "**Scrape** the talk descriptions. Hint: `soup.select('.presentation-description')`\n",
        "\n",
        "**Make** new columns in the dataframe:\n",
        "- description\n",
        "- description character count\n",
        "- description word count\n",
        "- description grade level (use [this `textstat` function](https://github.com/shivam5992/textstat#the-flesch-kincaid-grade-level) to get the Flesh-Kincaid grade level)\n",
        "\n",
        "**Describe** all the dataframe's columns. What's the average description word count? The minimum? The maximum?\n",
        "\n",
        "**Answer** these questions:\n",
        "- Which descriptions could fit in a tweet?\n",
        "- What's the distribution of grade levels? Plot a histogram.\n",
        "\n"
      ]
    },
    {
      "metadata": {
        "id": "UuwRLrPpZMfh",
        "colab_type": "code",
        "colab": {}
      },
      "cell_type": "code",
      "source": [
        "soup  = bs4.BeautifulSoup(res.text)\n",
        "soup\n",
        "\n",
        "soup.select('.presentation-description')\n",
        "\n",
        "descriptions = [description.text.strip() for description in soup.select('.presentation-description')]\n",
        "\n",
        "description.text.strip()\n",
        "\n",
        "descriptions\n",
        "\n",
        "import pandas as pd\n",
        "\n",
        "df = pd.DataFrame({'description':descriptions})"
      ],
      "execution_count": 0,
      "outputs": []
    },
    {
      "metadata": {
        "id": "rEVeGvk2ZzcB",
        "colab_type": "code",
        "colab": {}
      },
      "cell_type": "code",
      "source": [
        "#description character count\n",
        "\n",
        "df['description character count'] = df.description.str.len()\n",
        "\n",
        "df"
      ],
      "execution_count": 0,
      "outputs": []
    },
    {
      "metadata": {
        "id": "sahpXhSfgLyU",
        "colab_type": "code",
        "colab": {}
      },
      "cell_type": "code",
      "source": [
        "!pip install textstat"
      ],
      "execution_count": 0,
      "outputs": []
    },
    {
      "metadata": {
        "id": "XITdT5UvepbR",
        "colab_type": "code",
        "colab": {}
      },
      "cell_type": "code",
      "source": [
        "#description word count\n",
        "\n",
        "import textstat\n",
        "\n",
        "df['description word count'] = df.description.apply(textstat.lexicon_count)\n",
        "df"
      ],
      "execution_count": 0,
      "outputs": []
    },
    {
      "metadata": {
        "id": "3wapR_rygWsX",
        "colab_type": "code",
        "colab": {}
      },
      "cell_type": "code",
      "source": [
        "#description grade level (use this textstat function to get the Flesh-Kincaid grade level)\n",
        "df['grade level']=df.description.apply(textstat.flesch_kincaid_grade)\n",
        "df"
      ],
      "execution_count": 0,
      "outputs": []
    },
    {
      "metadata": {
        "id": "Iaaq7SZ6hP6w",
        "colab_type": "code",
        "colab": {
          "base_uri": "https://localhost:8080/",
          "height": 297
        },
        "outputId": "ccdc9fec-5b9b-435a-ffae-e580c5175099"
      },
      "cell_type": "code",
      "source": [
        "df.describe()"
      ],
      "execution_count": 39,
      "outputs": [
        {
          "output_type": "execute_result",
          "data": {
            "text/html": [
              "<div>\n",
              "<style scoped>\n",
              "    .dataframe tbody tr th:only-of-type {\n",
              "        vertical-align: middle;\n",
              "    }\n",
              "\n",
              "    .dataframe tbody tr th {\n",
              "        vertical-align: top;\n",
              "    }\n",
              "\n",
              "    .dataframe thead th {\n",
              "        text-align: right;\n",
              "    }\n",
              "</style>\n",
              "<table border=\"1\" class=\"dataframe\">\n",
              "  <thead>\n",
              "    <tr style=\"text-align: right;\">\n",
              "      <th></th>\n",
              "      <th>description character count</th>\n",
              "      <th>description word count</th>\n",
              "      <th>grade level</th>\n",
              "    </tr>\n",
              "  </thead>\n",
              "  <tbody>\n",
              "    <tr>\n",
              "      <th>count</th>\n",
              "      <td>95.000000</td>\n",
              "      <td>95.000000</td>\n",
              "      <td>95.000000</td>\n",
              "    </tr>\n",
              "    <tr>\n",
              "      <th>mean</th>\n",
              "      <td>846.063158</td>\n",
              "      <td>134.578947</td>\n",
              "      <td>18.117895</td>\n",
              "    </tr>\n",
              "    <tr>\n",
              "      <th>std</th>\n",
              "      <td>450.107713</td>\n",
              "      <td>70.019082</td>\n",
              "      <td>15.835652</td>\n",
              "    </tr>\n",
              "    <tr>\n",
              "      <th>min</th>\n",
              "      <td>201.000000</td>\n",
              "      <td>35.000000</td>\n",
              "      <td>3.700000</td>\n",
              "    </tr>\n",
              "    <tr>\n",
              "      <th>25%</th>\n",
              "      <td>550.000000</td>\n",
              "      <td>91.500000</td>\n",
              "      <td>10.500000</td>\n",
              "    </tr>\n",
              "    <tr>\n",
              "      <th>50%</th>\n",
              "      <td>758.000000</td>\n",
              "      <td>119.000000</td>\n",
              "      <td>13.800000</td>\n",
              "    </tr>\n",
              "    <tr>\n",
              "      <th>75%</th>\n",
              "      <td>978.000000</td>\n",
              "      <td>149.500000</td>\n",
              "      <td>17.950000</td>\n",
              "    </tr>\n",
              "    <tr>\n",
              "      <th>max</th>\n",
              "      <td>2794.000000</td>\n",
              "      <td>436.000000</td>\n",
              "      <td>107.800000</td>\n",
              "    </tr>\n",
              "  </tbody>\n",
              "</table>\n",
              "</div>"
            ],
            "text/plain": [
              "       description character count  description word count  grade level\n",
              "count                    95.000000               95.000000    95.000000\n",
              "mean                    846.063158              134.578947    18.117895\n",
              "std                     450.107713               70.019082    15.835652\n",
              "min                     201.000000               35.000000     3.700000\n",
              "25%                     550.000000               91.500000    10.500000\n",
              "50%                     758.000000              119.000000    13.800000\n",
              "75%                     978.000000              149.500000    17.950000\n",
              "max                    2794.000000              436.000000   107.800000"
            ]
          },
          "metadata": {
            "tags": []
          },
          "execution_count": 39
        }
      ]
    },
    {
      "metadata": {
        "id": "6nPMyLG9hkN4",
        "colab_type": "code",
        "colab": {
          "base_uri": "https://localhost:8080/",
          "height": 173
        },
        "outputId": "b378d13b-9b0f-41f7-eb74-b59c512abdc9"
      },
      "cell_type": "code",
      "source": [
        "#Which descriptions could fit in a tweet?\n",
        "\n",
        "limit = 300 #Assume the limitation of number of character that can be fit in a tweet is 300\n",
        "\n",
        "#df['description character count']<=limit\n",
        "\n",
        "df[df['description character count']<=limit]"
      ],
      "execution_count": 44,
      "outputs": [
        {
          "output_type": "execute_result",
          "data": {
            "text/html": [
              "<div>\n",
              "<style scoped>\n",
              "    .dataframe tbody tr th:only-of-type {\n",
              "        vertical-align: middle;\n",
              "    }\n",
              "\n",
              "    .dataframe tbody tr th {\n",
              "        vertical-align: top;\n",
              "    }\n",
              "\n",
              "    .dataframe thead th {\n",
              "        text-align: right;\n",
              "    }\n",
              "</style>\n",
              "<table border=\"1\" class=\"dataframe\">\n",
              "  <thead>\n",
              "    <tr style=\"text-align: right;\">\n",
              "      <th></th>\n",
              "      <th>description</th>\n",
              "      <th>description character count</th>\n",
              "      <th>description word count</th>\n",
              "      <th>grade level</th>\n",
              "    </tr>\n",
              "  </thead>\n",
              "  <tbody>\n",
              "    <tr>\n",
              "      <th>44</th>\n",
              "      <td>A function is a small chunk of code that does ...</td>\n",
              "      <td>231</td>\n",
              "      <td>49</td>\n",
              "      <td>3.7</td>\n",
              "    </tr>\n",
              "    <tr>\n",
              "      <th>50</th>\n",
              "      <td>Unless you work on pacemakers or at NASA, you'...</td>\n",
              "      <td>285</td>\n",
              "      <td>50</td>\n",
              "      <td>10.7</td>\n",
              "    </tr>\n",
              "    <tr>\n",
              "      <th>62</th>\n",
              "      <td>For 2 years, a family of three has traveled on...</td>\n",
              "      <td>201</td>\n",
              "      <td>35</td>\n",
              "      <td>15.8</td>\n",
              "    </tr>\n",
              "    <tr>\n",
              "      <th>65</th>\n",
              "      <td>Python 3 removes a lot of the confusion around...</td>\n",
              "      <td>262</td>\n",
              "      <td>45</td>\n",
              "      <td>6.8</td>\n",
              "    </tr>\n",
              "  </tbody>\n",
              "</table>\n",
              "</div>"
            ],
            "text/plain": [
              "                                          description  \\\n",
              "44  A function is a small chunk of code that does ...   \n",
              "50  Unless you work on pacemakers or at NASA, you'...   \n",
              "62  For 2 years, a family of three has traveled on...   \n",
              "65  Python 3 removes a lot of the confusion around...   \n",
              "\n",
              "    description character count  description word count  grade level  \n",
              "44                          231                      49          3.7  \n",
              "50                          285                      50         10.7  \n",
              "62                          201                      35         15.8  \n",
              "65                          262                      45          6.8  "
            ]
          },
          "metadata": {
            "tags": []
          },
          "execution_count": 44
        }
      ]
    },
    {
      "metadata": {
        "id": "18RCQECSjDpy",
        "colab_type": "code",
        "colab": {
          "base_uri": "https://localhost:8080/",
          "height": 297
        },
        "outputId": "f59039fa-1ef4-4760-d13d-550d96b20925"
      },
      "cell_type": "code",
      "source": [
        "#What's the distribution of grade levels? Plot a histogram.\n",
        "\n",
        "%matplotlib inline\n",
        "\n",
        "df['grade level'].plot.hist(title='distribution of grade levels')"
      ],
      "execution_count": 48,
      "outputs": [
        {
          "output_type": "execute_result",
          "data": {
            "text/plain": [
              "<matplotlib.axes._subplots.AxesSubplot at 0x7fd14d4824a8>"
            ]
          },
          "metadata": {
            "tags": []
          },
          "execution_count": 48
        },
        {
          "output_type": "display_data",
          "data": {
            "image/png": "[encoded data removed]",
            "text/plain": [
              "<matplotlib.figure.Figure at 0x7fd15073fa90>"
            ]
          },
          "metadata": {
            "tags": []
          }
        }
      ]
    },
    {
      "metadata": {
        "id": "AEhm-PcNlWRO",
        "colab_type": "code",
        "colab": {}
      },
      "cell_type": "code",
      "source": [
        ""
      ],
      "execution_count": 0,
      "outputs": []
    }
  ]
}