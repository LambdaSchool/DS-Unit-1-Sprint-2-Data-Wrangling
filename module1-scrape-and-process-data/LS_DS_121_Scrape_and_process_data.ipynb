{
  "nbformat": 4,
  "nbformat_minor": 0,
  "metadata": {
    "colab": {
      "name": "LS_DS_121_Scrape_and_process_data.ipynb",
      "version": "0.3.2",
      "provenance": [],
      "collapsed_sections": [],
      "include_colab_link": true
    },
    "kernelspec": {
      "name": "python3",
      "display_name": "Python 3"
    }
  },
  "cells": [
    {
      "cell_type": "markdown",
      "metadata": {
        "id": "view-in-github",
        "colab_type": "text"
      },
      "source": [
        "<a href=\"https://colab.research.google.com/github/macscheffer/DS-Unit-1-Sprint-2-Data-Wrangling/blob/master/module1-scrape-and-process-data/LS_DS_121_Scrape_and_process_data.ipynb\" target=\"_parent\"><img src=\"https://colab.research.google.com/assets/colab-badge.svg\" alt=\"Open In Colab\"/></a>"
      ]
    },
    {
      "metadata": {
        "id": "oR4Yeg3P07gu",
        "colab_type": "text"
      },
      "cell_type": "markdown",
      "source": [
        "_Lambda School Data Science_\n",
        "\n",
        "# Scrape and process data\n",
        "\n",
        "Objectives\n",
        "- scrape and parse web pages\n",
        "- use list comprehensions\n",
        "- select rows and columns with pandas\n",
        "\n",
        "Links\n",
        "-  [Automate the Boring Stuff with Python, Chapter 11](https://automatetheboringstuff.com/chapter11/)\n",
        "  - Requests\n",
        "  - Beautiful Soup\n",
        "- [Python List Comprehensions: Explained Visually](https://treyhunner.com/2015/12/python-list-comprehensions-now-in-color/)\n",
        "- [Pandas Cheat Sheet](https://github.com/pandas-dev/pandas/blob/master/doc/cheatsheet/Pandas_Cheat_Sheet.pdf)\n",
        "  - Subset Observations (Rows)\n",
        "  - Subset Variables (Columns)\n",
        "- Python Data Science Handbook\n",
        "  - [Chapter 3.1](https://jakevdp.github.io/PythonDataScienceHandbook/03.01-introducing-pandas-objects.html), Introducing Pandas Objects\n",
        "  - [Chapter 3.2](https://jakevdp.github.io/PythonDataScienceHandbook/03.02-data-indexing-and-selection.html), Data Indexing and Selection\n"
      ]
    },
    {
      "metadata": {
        "id": "I_NRVchqgGvM",
        "colab_type": "text"
      },
      "cell_type": "markdown",
      "source": [
        "## Scrape the titles of PyCon 2018 talks"
      ]
    },
    {
      "metadata": {
        "id": "3elw_8Nc7Tpe",
        "colab_type": "code",
        "colab": {}
      },
      "cell_type": "code",
      "source": [
        "url = 'https://us.pycon.org/2018/schedule/talks/list/'"
      ],
      "execution_count": 0,
      "outputs": []
    },
    {
      "metadata": {
        "id": "SFNsyjVsTU4b",
        "colab_type": "code",
        "colab": {}
      },
      "cell_type": "code",
      "source": [
        ""
      ],
      "execution_count": 0,
      "outputs": []
    },
    {
      "metadata": {
        "id": "vqkNgAzYpeK7",
        "colab_type": "text"
      },
      "cell_type": "markdown",
      "source": [
        "## 5 ways to look at long titles\n",
        "\n",
        "Let's define a long title as greater than 80 characters"
      ]
    },
    {
      "metadata": {
        "id": "N7tqeZh14Fws",
        "colab_type": "text"
      },
      "cell_type": "markdown",
      "source": [
        "### 1. For Loop"
      ]
    },
    {
      "metadata": {
        "id": "kKxs5tqDApuZ",
        "colab_type": "code",
        "colab": {}
      },
      "cell_type": "code",
      "source": [
        ""
      ],
      "execution_count": 0,
      "outputs": []
    },
    {
      "metadata": {
        "id": "I21jcEnK4IN7",
        "colab_type": "text"
      },
      "cell_type": "markdown",
      "source": [
        "### 2. List Comprehension"
      ]
    },
    {
      "metadata": {
        "id": "qaXe9UldAs3H",
        "colab_type": "code",
        "colab": {}
      },
      "cell_type": "code",
      "source": [
        ""
      ],
      "execution_count": 0,
      "outputs": []
    },
    {
      "metadata": {
        "id": "2kn8pxL-4yMG",
        "colab_type": "text"
      },
      "cell_type": "markdown",
      "source": [
        "### 3. Filter with named function"
      ]
    },
    {
      "metadata": {
        "id": "ywLqqFJNAvFm",
        "colab_type": "code",
        "colab": {}
      },
      "cell_type": "code",
      "source": [
        ""
      ],
      "execution_count": 0,
      "outputs": []
    },
    {
      "metadata": {
        "id": "IPIT6oXz40Q3",
        "colab_type": "text"
      },
      "cell_type": "markdown",
      "source": [
        "### 4. Filter with anonymous function"
      ]
    },
    {
      "metadata": {
        "id": "giIcFYkiAwiR",
        "colab_type": "code",
        "colab": {}
      },
      "cell_type": "code",
      "source": [
        ""
      ],
      "execution_count": 0,
      "outputs": []
    },
    {
      "metadata": {
        "id": "qj8Yod8_45z4",
        "colab_type": "text"
      },
      "cell_type": "markdown",
      "source": [
        "### 5. Pandas\n",
        "\n",
        "pandas documentation: [Working with Text Data](https://pandas.pydata.org/pandas-docs/stable/text.html)"
      ]
    },
    {
      "metadata": {
        "id": "yRwPEHNcAzc_",
        "colab_type": "code",
        "colab": {}
      },
      "cell_type": "code",
      "source": [
        ""
      ],
      "execution_count": 0,
      "outputs": []
    },
    {
      "metadata": {
        "id": "8YaUZJvRp681",
        "colab_type": "text"
      },
      "cell_type": "markdown",
      "source": [
        "## Make new dataframe columns\n",
        "\n",
        "pandas documentation: [apply](https://pandas.pydata.org/pandas-docs/stable/generated/pandas.Series.apply.html)"
      ]
    },
    {
      "metadata": {
        "id": "DR_WZ-olA4-v",
        "colab_type": "code",
        "colab": {}
      },
      "cell_type": "code",
      "source": [
        ""
      ],
      "execution_count": 0,
      "outputs": []
    },
    {
      "metadata": {
        "id": "Ua74pMrGrsZR",
        "colab_type": "text"
      },
      "cell_type": "markdown",
      "source": [
        "### title length"
      ]
    },
    {
      "metadata": {
        "id": "p-Euz7tgA8Fd",
        "colab_type": "code",
        "colab": {}
      },
      "cell_type": "code",
      "source": [
        ""
      ],
      "execution_count": 0,
      "outputs": []
    },
    {
      "metadata": {
        "id": "OgsKArXPrz5n",
        "colab_type": "text"
      },
      "cell_type": "markdown",
      "source": [
        "### long title"
      ]
    },
    {
      "metadata": {
        "id": "b_WCRvvKA-IP",
        "colab_type": "code",
        "colab": {}
      },
      "cell_type": "code",
      "source": [
        ""
      ],
      "execution_count": 0,
      "outputs": []
    },
    {
      "metadata": {
        "id": "TonCXYPesUsT",
        "colab_type": "text"
      },
      "cell_type": "markdown",
      "source": [
        "### first letter"
      ]
    },
    {
      "metadata": {
        "id": "fhO4aABpBBgA",
        "colab_type": "code",
        "colab": {}
      },
      "cell_type": "code",
      "source": [
        ""
      ],
      "execution_count": 0,
      "outputs": []
    },
    {
      "metadata": {
        "id": "Etz1XeLKs6DL",
        "colab_type": "text"
      },
      "cell_type": "markdown",
      "source": [
        "### word count\n",
        "\n",
        "Using [`textstat`](https://github.com/shivam5992/textstat)"
      ]
    },
    {
      "metadata": {
        "id": "GVIkRWchs4zR",
        "colab_type": "code",
        "colab": {}
      },
      "cell_type": "code",
      "source": [
        "!pip install textstat"
      ],
      "execution_count": 0,
      "outputs": []
    },
    {
      "metadata": {
        "id": "mY_M_MuaBFrF",
        "colab_type": "code",
        "colab": {}
      },
      "cell_type": "code",
      "source": [
        ""
      ],
      "execution_count": 0,
      "outputs": []
    },
    {
      "metadata": {
        "id": "UN_7FABhwDqc",
        "colab_type": "text"
      },
      "cell_type": "markdown",
      "source": [
        "## Rename column\n",
        "\n",
        "`title length` --> `title character count`\n",
        "\n",
        "pandas documentation: [rename](https://pandas.pydata.org/pandas-docs/stable/generated/pandas.DataFrame.rename.html)"
      ]
    },
    {
      "metadata": {
        "id": "jvTif7sBBMpN",
        "colab_type": "code",
        "colab": {}
      },
      "cell_type": "code",
      "source": [
        ""
      ],
      "execution_count": 0,
      "outputs": []
    },
    {
      "metadata": {
        "id": "ca2pDtytr5tR",
        "colab_type": "text"
      },
      "cell_type": "markdown",
      "source": [
        "## Analyze the dataframe"
      ]
    },
    {
      "metadata": {
        "id": "AitNVDCFwWwc",
        "colab_type": "text"
      },
      "cell_type": "markdown",
      "source": [
        "### Describe\n",
        "\n",
        "pandas documentation: [describe](https://pandas.pydata.org/pandas-docs/stable/generated/pandas.DataFrame.describe.html)"
      ]
    },
    {
      "metadata": {
        "id": "yPo9RdxYBQ64",
        "colab_type": "code",
        "colab": {}
      },
      "cell_type": "code",
      "source": [
        ""
      ],
      "execution_count": 0,
      "outputs": []
    },
    {
      "metadata": {
        "id": "T0lc_o-xyjZU",
        "colab_type": "text"
      },
      "cell_type": "markdown",
      "source": [
        "### Sort values\n",
        "\n",
        "pandas documentation: [sort_values](https://pandas.pydata.org/pandas-docs/stable/generated/pandas.DataFrame.sort_values.html)"
      ]
    },
    {
      "metadata": {
        "id": "kxE2swJ9-cG_",
        "colab_type": "text"
      },
      "cell_type": "markdown",
      "source": [
        "Five shortest titles, by character count"
      ]
    },
    {
      "metadata": {
        "id": "7t8DlpLhBVQa",
        "colab_type": "code",
        "colab": {}
      },
      "cell_type": "code",
      "source": [
        ""
      ],
      "execution_count": 0,
      "outputs": []
    },
    {
      "metadata": {
        "id": "NOEH4Ef5-kvo",
        "colab_type": "text"
      },
      "cell_type": "markdown",
      "source": [
        "Titles sorted reverse alphabetically"
      ]
    },
    {
      "metadata": {
        "id": "WkymeWDjBV8X",
        "colab_type": "code",
        "colab": {}
      },
      "cell_type": "code",
      "source": [
        ""
      ],
      "execution_count": 0,
      "outputs": []
    },
    {
      "metadata": {
        "id": "e4wr42FB0GV-",
        "colab_type": "text"
      },
      "cell_type": "markdown",
      "source": [
        "### Get value counts\n",
        "\n",
        "pandas documentation: [value_counts](https://pandas.pydata.org/pandas-docs/stable/generated/pandas.Series.value_counts.html)\n"
      ]
    },
    {
      "metadata": {
        "id": "D81LNGaI-6ya",
        "colab_type": "text"
      },
      "cell_type": "markdown",
      "source": [
        "Frequency counts of first letters"
      ]
    },
    {
      "metadata": {
        "id": "AdTQYsRKBZio",
        "colab_type": "code",
        "colab": {}
      },
      "cell_type": "code",
      "source": [
        ""
      ],
      "execution_count": 0,
      "outputs": []
    },
    {
      "metadata": {
        "id": "04NVokvTAwqK",
        "colab_type": "text"
      },
      "cell_type": "markdown",
      "source": [
        "Percentage of talks with long titles"
      ]
    },
    {
      "metadata": {
        "id": "uS8qp4hrBat6",
        "colab_type": "code",
        "colab": {}
      },
      "cell_type": "code",
      "source": [
        ""
      ],
      "execution_count": 0,
      "outputs": []
    },
    {
      "metadata": {
        "id": "mmYZL2QL0lgd",
        "colab_type": "text"
      },
      "cell_type": "markdown",
      "source": [
        "### Plot\n",
        "\n",
        "pandas documentation: [Visualization](https://pandas.pydata.org/pandas-docs/stable/visualization.html)\n",
        "\n",
        "\n",
        "\n"
      ]
    },
    {
      "metadata": {
        "id": "c6gCotA9_B68",
        "colab_type": "text"
      },
      "cell_type": "markdown",
      "source": [
        "Top 5 most frequent first letters"
      ]
    },
    {
      "metadata": {
        "id": "DUmcVcdXBdkw",
        "colab_type": "code",
        "colab": {}
      },
      "cell_type": "code",
      "source": [
        ""
      ],
      "execution_count": 0,
      "outputs": []
    },
    {
      "metadata": {
        "id": "_Ngegk0bASty",
        "colab_type": "text"
      },
      "cell_type": "markdown",
      "source": [
        "Histogram of title lengths, in characters"
      ]
    },
    {
      "metadata": {
        "id": "y5oLu2D4BeKw",
        "colab_type": "code",
        "colab": {}
      },
      "cell_type": "code",
      "source": [
        ""
      ],
      "execution_count": 0,
      "outputs": []
    },
    {
      "metadata": {
        "id": "DiylH7LQw44u",
        "colab_type": "text"
      },
      "cell_type": "markdown",
      "source": [
        "# Assignment\n",
        "\n",
        "**Scrape** the talk descriptions. Hint: `soup.select('.presentation-description')`\n",
        "\n",
        "**Make** new columns in the dataframe:\n",
        "- description\n",
        "- description character count\n",
        "- description word count\n",
        "- description grade level (use [this `textstat` function](https://github.com/shivam5992/textstat#the-flesch-kincaid-grade-level) to get the Flesh-Kincaid grade level)\n",
        "\n",
        "**Describe** all the dataframe's columns. What's the average description word count? The minimum? The maximum?\n",
        "\n",
        "**Answer** these questions:\n",
        "- Which descriptions could fit in a tweet?\n",
        "- What's the distribution of grade levels? Plot a histogram.\n",
        "\n"
      ]
    },
    {
      "metadata": {
        "id": "xd5PbGuB50fK",
        "colab_type": "code",
        "colab": {}
      },
      "cell_type": "code",
      "source": [
        "import requests\n",
        "import bs4\n",
        "\n",
        "url = 'https://us.pycon.org/2018/schedule/talks/list/'\n",
        "result = requests.get(url)\n",
        "soup = bs4.BeautifulSoup(result.text)"
      ],
      "execution_count": 0,
      "outputs": []
    },
    {
      "metadata": {
        "id": "wCpKzYtV50tc",
        "colab_type": "code",
        "colab": {}
      },
      "cell_type": "code",
      "source": [
        "soup.select('.presentation-description')[0].text.strip()"
      ],
      "execution_count": 0,
      "outputs": []
    },
    {
      "metadata": {
        "id": "y2doTG3w50ya",
        "colab_type": "code",
        "colab": {}
      },
      "cell_type": "code",
      "source": [
        "descriptions = [tag.text.strip() for tag in soup.select('.presentation-description')]\n",
        "titles = [tag.text.strip() for tag in soup.select('h2')]\n",
        "len(descriptions), len(titles)"
      ],
      "execution_count": 0,
      "outputs": []
    },
    {
      "metadata": {
        "id": "DW9SQBpD9CcB",
        "colab_type": "code",
        "colab": {}
      },
      "cell_type": "code",
      "source": [
        "import pandas as pd\n",
        "pd.options.display.max_colwidth = 200"
      ],
      "execution_count": 0,
      "outputs": []
    },
    {
      "metadata": {
        "id": "4n7wYato9Ch0",
        "colab_type": "code",
        "colab": {}
      },
      "cell_type": "code",
      "source": [
        "df = pd.DataFrame({'description':descriptions})\n",
        "df.head()"
      ],
      "execution_count": 0,
      "outputs": []
    },
    {
      "metadata": {
        "id": "zuTuat_r9DFL",
        "colab_type": "code",
        "colab": {}
      },
      "cell_type": "code",
      "source": [
        "df['description char count'] = df.description.apply(len)\n",
        "df.head()"
      ],
      "execution_count": 0,
      "outputs": []
    },
    {
      "metadata": {
        "id": "RM4cz71V-lpk",
        "colab_type": "code",
        "colab": {}
      },
      "cell_type": "code",
      "source": [
        "!pip install textstat"
      ],
      "execution_count": 0,
      "outputs": []
    },
    {
      "metadata": {
        "id": "alC4RE96-zio",
        "colab_type": "code",
        "colab": {}
      },
      "cell_type": "code",
      "source": [
        "import textstat\n",
        "\n",
        "# use textstat to count words.\n",
        "\n",
        "df['description word count'] = df.description.apply(textstat.lexicon_count)\n",
        "df.head()"
      ],
      "execution_count": 0,
      "outputs": []
    },
    {
      "metadata": {
        "id": "t7Z4ggJV_dXO",
        "colab_type": "code",
        "colab": {}
      },
      "cell_type": "code",
      "source": [
        "# readability by grade level using the Flesh-Kincaid grade level\n",
        "# FK grade levels 0-18\n",
        "# 0-6: Basic, 7-12: Average, 12-18: Skilled\n",
        "df['description FK grade level'] = df.description.apply(textstat.flesch_kincaid_grade)\n",
        "df.head()"
      ],
      "execution_count": 0,
      "outputs": []
    },
    {
      "metadata": {
        "id": "mB7m895HAHPG",
        "colab_type": "code",
        "colab": {}
      },
      "cell_type": "code",
      "source": [
        "# looks like we have one value that is way too high. might want to categorize them.\n",
        "df['description FK grade level'].describe()"
      ],
      "execution_count": 0,
      "outputs": []
    },
    {
      "metadata": {
        "id": "_ik9STyGCRbs",
        "colab_type": "code",
        "colab": {}
      },
      "cell_type": "code",
      "source": [
        "import numpy as np\n",
        "criteria = [((df['description FK grade level'] >= 0) & (df['description FK grade level'] < 6)),\n",
        "            ((df['description FK grade level'] >= 6) & (df['description FK grade level'] < 12)),\n",
        "            ((df['description FK grade level'] >= 12))]\n",
        "values = ['Basic', 'Average', 'Skilled']\n",
        "\n",
        "df['description FK category'] = np.select(criteria,values)\n",
        "df.head()"
      ],
      "execution_count": 0,
      "outputs": []
    },
    {
      "metadata": {
        "id": "yo5TsPh4Ck5K",
        "colab_type": "code",
        "colab": {}
      },
      "cell_type": "code",
      "source": [
        "df['description FK category'].value_counts().plot.barh(title='Counts for each FK category');"
      ],
      "execution_count": 0,
      "outputs": []
    },
    {
      "metadata": {
        "id": "HqFeStXIH9vw",
        "colab_type": "code",
        "colab": {
          "base_uri": "https://localhost:8080/",
          "height": 295
        },
        "outputId": "7ff0bba6-6507-425d-b872-232fb14263a5"
      },
      "cell_type": "code",
      "source": [
        "df.describe()"
      ],
      "execution_count": 41,
      "outputs": [
        {
          "output_type": "execute_result",
          "data": {
            "text/html": [
              "<div>\n",
              "<style scoped>\n",
              "    .dataframe tbody tr th:only-of-type {\n",
              "        vertical-align: middle;\n",
              "    }\n",
              "\n",
              "    .dataframe tbody tr th {\n",
              "        vertical-align: top;\n",
              "    }\n",
              "\n",
              "    .dataframe thead th {\n",
              "        text-align: right;\n",
              "    }\n",
              "</style>\n",
              "<table border=\"1\" class=\"dataframe\">\n",
              "  <thead>\n",
              "    <tr style=\"text-align: right;\">\n",
              "      <th></th>\n",
              "      <th>description char count</th>\n",
              "      <th>description word count</th>\n",
              "      <th>description FK grade level</th>\n",
              "    </tr>\n",
              "  </thead>\n",
              "  <tbody>\n",
              "    <tr>\n",
              "      <th>count</th>\n",
              "      <td>95.000000</td>\n",
              "      <td>95.000000</td>\n",
              "      <td>95.000000</td>\n",
              "    </tr>\n",
              "    <tr>\n",
              "      <th>mean</th>\n",
              "      <td>846.063158</td>\n",
              "      <td>134.578947</td>\n",
              "      <td>18.117895</td>\n",
              "    </tr>\n",
              "    <tr>\n",
              "      <th>std</th>\n",
              "      <td>450.107713</td>\n",
              "      <td>70.019082</td>\n",
              "      <td>15.835652</td>\n",
              "    </tr>\n",
              "    <tr>\n",
              "      <th>min</th>\n",
              "      <td>201.000000</td>\n",
              "      <td>35.000000</td>\n",
              "      <td>3.700000</td>\n",
              "    </tr>\n",
              "    <tr>\n",
              "      <th>25%</th>\n",
              "      <td>550.000000</td>\n",
              "      <td>91.500000</td>\n",
              "      <td>10.500000</td>\n",
              "    </tr>\n",
              "    <tr>\n",
              "      <th>50%</th>\n",
              "      <td>758.000000</td>\n",
              "      <td>119.000000</td>\n",
              "      <td>13.800000</td>\n",
              "    </tr>\n",
              "    <tr>\n",
              "      <th>75%</th>\n",
              "      <td>978.000000</td>\n",
              "      <td>149.500000</td>\n",
              "      <td>17.950000</td>\n",
              "    </tr>\n",
              "    <tr>\n",
              "      <th>max</th>\n",
              "      <td>2794.000000</td>\n",
              "      <td>436.000000</td>\n",
              "      <td>107.800000</td>\n",
              "    </tr>\n",
              "  </tbody>\n",
              "</table>\n",
              "</div>"
            ],
            "text/plain": [
              "       description char count  description word count  \\\n",
              "count               95.000000               95.000000   \n",
              "mean               846.063158              134.578947   \n",
              "std                450.107713               70.019082   \n",
              "min                201.000000               35.000000   \n",
              "25%                550.000000               91.500000   \n",
              "50%                758.000000              119.000000   \n",
              "75%                978.000000              149.500000   \n",
              "max               2794.000000              436.000000   \n",
              "\n",
              "       description FK grade level  \n",
              "count                   95.000000  \n",
              "mean                    18.117895  \n",
              "std                     15.835652  \n",
              "min                      3.700000  \n",
              "25%                     10.500000  \n",
              "50%                     13.800000  \n",
              "75%                     17.950000  \n",
              "max                    107.800000  "
            ]
          },
          "metadata": {
            "tags": []
          },
          "execution_count": 41
        }
      ]
    },
    {
      "metadata": {
        "id": "mPdV5UW6IUu8",
        "colab_type": "code",
        "colab": {
          "base_uri": "https://localhost:8080/",
          "height": 55
        },
        "outputId": "2aa5b15e-b498-4fb3-b6a6-9e582c697263"
      },
      "cell_type": "code",
      "source": [
        "list(df['description'][df['description char count'] < 280])[0]"
      ],
      "execution_count": 45,
      "outputs": [
        {
          "output_type": "execute_result",
          "data": {
            "text/plain": [
              "'A function is a small chunk of code that does useful work. Your job when writing a function is to do it in a way that it easy to read. Based on over 15 years of code reviews here are some tips and guidelines I give again and again.'"
            ]
          },
          "metadata": {
            "tags": []
          },
          "execution_count": 45
        }
      ]
    },
    {
      "metadata": {
        "id": "qWuOX9UXIsRI",
        "colab_type": "code",
        "colab": {}
      },
      "cell_type": "code",
      "source": [
        "df['tweetable description'] = df['description char count'] <= 280"
      ],
      "execution_count": 0,
      "outputs": []
    },
    {
      "metadata": {
        "id": "9CtNafGxJLr0",
        "colab_type": "code",
        "colab": {
          "base_uri": "https://localhost:8080/",
          "height": 362
        },
        "outputId": "8412597d-6035-42c8-b949-ab1f5b9474cf"
      },
      "cell_type": "code",
      "source": [
        "df['description FK grade level'].plot.hist(title='distribution of FK grade levels');"
      ],
      "execution_count": 50,
      "outputs": [
        {
          "output_type": "display_data",
          "data": {
            "image/png": "[encoded data removed]",
            "text/plain": [
              "<matplotlib.figure.Figure at 0x7fe19de7f198>"
            ]
          },
          "metadata": {
            "tags": []
          }
        }
      ]
    },
    {
      "metadata": {
        "id": "SFB6DtXvS1sc",
        "colab_type": "code",
        "colab": {}
      },
      "cell_type": "code",
      "source": [
        "df['description FOG grade level'] = df.description.apply(textstat.gunning_fog)\n",
        "df['description SMOG grade level'] = df.description.apply(textstat.smog_index)\n",
        "df.head()"
      ],
      "execution_count": 0,
      "outputs": []
    },
    {
      "metadata": {
        "id": "DqAOr7cXTULn",
        "colab_type": "code",
        "colab": {}
      },
      "cell_type": "code",
      "source": [
        "df['mean grade level'] = (df['description FK grade level'] + df['description FOG grade level'] + df['description SMOG grade level']) / 3\n",
        "df.head()"
      ],
      "execution_count": 0,
      "outputs": []
    },
    {
      "metadata": {
        "id": "evTICBrcTXl_",
        "colab_type": "code",
        "colab": {}
      },
      "cell_type": "code",
      "source": [
        "df['description char per word'] = df['description char count'] / df['description word count']"
      ],
      "execution_count": 0,
      "outputs": []
    },
    {
      "metadata": {
        "id": "4mzB0IFbT8Gh",
        "colab_type": "code",
        "colab": {
          "base_uri": "https://localhost:8080/",
          "height": 35
        },
        "outputId": "a316a06a-62ff-48b4-d855-1f8a419f8c24"
      },
      "cell_type": "code",
      "source": [
        "df['description char per word'].corr(df['mean grade level'])"
      ],
      "execution_count": 58,
      "outputs": [
        {
          "output_type": "execute_result",
          "data": {
            "text/plain": [
              "0.23682716077028224"
            ]
          },
          "metadata": {
            "tags": []
          },
          "execution_count": 58
        }
      ]
    },
    {
      "metadata": {
        "id": "hWCnORb9UBN7",
        "colab_type": "code",
        "colab": {
          "base_uri": "https://localhost:8080/",
          "height": 365
        },
        "outputId": "8d7b7198-e7b5-450d-abae-1adc2b71154c"
      },
      "cell_type": "code",
      "source": [
        "df.pivot_table(values = 'description char per word', index='description FK category').plot.barh()"
      ],
      "execution_count": 62,
      "outputs": [
        {
          "output_type": "execute_result",
          "data": {
            "text/plain": [
              "<matplotlib.axes._subplots.AxesSubplot at 0x7fe19ddb8d68>"
            ]
          },
          "metadata": {
            "tags": []
          },
          "execution_count": 62
        },
        {
          "output_type": "display_data",
          "data": {
            "image/png": "[encoded data removed]",
            "text/plain": [
              "<matplotlib.figure.Figure at 0x7fe19ddb8a90>"
            ]
          },
          "metadata": {
            "tags": []
          }
        }
      ]
    },
    {
      "metadata": {
        "id": "tL4oWv-mUMRS",
        "colab_type": "code",
        "colab": {
          "base_uri": "https://localhost:8080/",
          "height": 409
        },
        "outputId": "d7d01189-5188-465e-af3f-68e040f2ff36"
      },
      "cell_type": "code",
      "source": [
        "df.head()"
      ],
      "execution_count": 63,
      "outputs": [
        {
          "output_type": "execute_result",
          "data": {
            "text/html": [
              "<div>\n",
              "<style scoped>\n",
              "    .dataframe tbody tr th:only-of-type {\n",
              "        vertical-align: middle;\n",
              "    }\n",
              "\n",
              "    .dataframe tbody tr th {\n",
              "        vertical-align: top;\n",
              "    }\n",
              "\n",
              "    .dataframe thead th {\n",
              "        text-align: right;\n",
              "    }\n",
              "</style>\n",
              "<table border=\"1\" class=\"dataframe\">\n",
              "  <thead>\n",
              "    <tr style=\"text-align: right;\">\n",
              "      <th></th>\n",
              "      <th>description</th>\n",
              "      <th>description char count</th>\n",
              "      <th>description word count</th>\n",
              "      <th>description FK grade level</th>\n",
              "      <th>description FK category</th>\n",
              "      <th>tweetable description</th>\n",
              "      <th>description FOG grade level</th>\n",
              "      <th>description SMOG grade level</th>\n",
              "      <th>mean grade level</th>\n",
              "      <th>description char per word</th>\n",
              "    </tr>\n",
              "  </thead>\n",
              "  <tbody>\n",
              "    <tr>\n",
              "      <th>0</th>\n",
              "      <td>At some point every Python programmer sees Python bytecode files -- they're those '.pyc' files Python likes to leave behind after it runs. But have you ever wondered what's really going on in thos...</td>\n",
              "      <td>440</td>\n",
              "      <td>78</td>\n",
              "      <td>7.4</td>\n",
              "      <td>Average</td>\n",
              "      <td>False</td>\n",
              "      <td>10.88</td>\n",
              "      <td>10.1</td>\n",
              "      <td>9.460000</td>\n",
              "      <td>5.641026</td>\n",
              "    </tr>\n",
              "    <tr>\n",
              "      <th>1</th>\n",
              "      <td>Until very recently, Apache Spark has been a de facto standard choice of a framework for batch data processing. For Python developers, diving into Spark is challenging, because it requires learnin...</td>\n",
              "      <td>881</td>\n",
              "      <td>141</td>\n",
              "      <td>14.3</td>\n",
              "      <td>Skilled</td>\n",
              "      <td>False</td>\n",
              "      <td>22.63</td>\n",
              "      <td>14.8</td>\n",
              "      <td>17.243333</td>\n",
              "      <td>6.248227</td>\n",
              "    </tr>\n",
              "    <tr>\n",
              "      <th>2</th>\n",
              "      <td>In this talk, youâll learn about a category of security issue known as side channel attacks. Youâll be amused to see how features like automatic data compression, short-circuit execution, and ...</td>\n",
              "      <td>647</td>\n",
              "      <td>96</td>\n",
              "      <td>11.9</td>\n",
              "      <td>Average</td>\n",
              "      <td>False</td>\n",
              "      <td>20.15</td>\n",
              "      <td>12.7</td>\n",
              "      <td>14.916667</td>\n",
              "      <td>6.739583</td>\n",
              "    </tr>\n",
              "    <tr>\n",
              "      <th>3</th>\n",
              "      <td>âSo tell me,â my manager said, âwhat is an average?â\\r\\n\\r\\nThereâs probably nothing worse than that sinking feeling when you finish an analysis, email it to your manager or client to re...</td>\n",
              "      <td>1080</td>\n",
              "      <td>178</td>\n",
              "      <td>16.0</td>\n",
              "      <td>Skilled</td>\n",
              "      <td>False</td>\n",
              "      <td>21.66</td>\n",
              "      <td>16.2</td>\n",
              "      <td>17.953333</td>\n",
              "      <td>6.067416</td>\n",
              "    </tr>\n",
              "    <tr>\n",
              "      <th>4</th>\n",
              "      <td>Recommender systems have become increasingly popular in recent years, and are used by some of the largest websites in the world to predict the likelihood of a user taking an action on an item. In ...</td>\n",
              "      <td>1147</td>\n",
              "      <td>188</td>\n",
              "      <td>18.0</td>\n",
              "      <td>Skilled</td>\n",
              "      <td>False</td>\n",
              "      <td>24.83</td>\n",
              "      <td>16.9</td>\n",
              "      <td>19.910000</td>\n",
              "      <td>6.101064</td>\n",
              "    </tr>\n",
              "  </tbody>\n",
              "</table>\n",
              "</div>"
            ],
            "text/plain": [
              "                                                                                                                                                                                               description  \\\n",
              "0  At some point every Python programmer sees Python bytecode files -- they're those '.pyc' files Python likes to leave behind after it runs. But have you ever wondered what's really going on in thos...   \n",
              "1  Until very recently, Apache Spark has been a de facto standard choice of a framework for batch data processing. For Python developers, diving into Spark is challenging, because it requires learnin...   \n",
              "2  In this talk, youâll learn about a category of security issue known as side channel attacks. Youâll be amused to see how features like automatic data compression, short-circuit execution, and ...   \n",
              "3  âSo tell me,â my manager said, âwhat is an average?â\\r\\n\\r\\nThereâs probably nothing worse than that sinking feeling when you finish an analysis, email it to your manager or client to re...   \n",
              "4  Recommender systems have become increasingly popular in recent years, and are used by some of the largest websites in the world to predict the likelihood of a user taking an action on an item. In ...   \n",
              "\n",
              "   description char count  description word count  description FK grade level  \\\n",
              "0                     440                      78                         7.4   \n",
              "1                     881                     141                        14.3   \n",
              "2                     647                      96                        11.9   \n",
              "3                    1080                     178                        16.0   \n",
              "4                    1147                     188                        18.0   \n",
              "\n",
              "  description FK category  tweetable description  description FOG grade level  \\\n",
              "0                 Average                  False                        10.88   \n",
              "1                 Skilled                  False                        22.63   \n",
              "2                 Average                  False                        20.15   \n",
              "3                 Skilled                  False                        21.66   \n",
              "4                 Skilled                  False                        24.83   \n",
              "\n",
              "   description SMOG grade level  mean grade level  description char per word  \n",
              "0                          10.1          9.460000                   5.641026  \n",
              "1                          14.8         17.243333                   6.248227  \n",
              "2                          12.7         14.916667                   6.739583  \n",
              "3                          16.2         17.953333                   6.067416  \n",
              "4                          16.9         19.910000                   6.101064  "
            ]
          },
          "metadata": {
            "tags": []
          },
          "execution_count": 63
        }
      ]
    },
    {
      "metadata": {
        "id": "5vIMDq8CUb32",
        "colab_type": "code",
        "colab": {
          "base_uri": "https://localhost:8080/",
          "height": 312
        },
        "outputId": "23fa2e5d-0acc-435b-d6b1-b16b2eb0276c"
      },
      "cell_type": "code",
      "source": [
        "df.describe()"
      ],
      "execution_count": 64,
      "outputs": [
        {
          "output_type": "execute_result",
          "data": {
            "text/html": [
              "<div>\n",
              "<style scoped>\n",
              "    .dataframe tbody tr th:only-of-type {\n",
              "        vertical-align: middle;\n",
              "    }\n",
              "\n",
              "    .dataframe tbody tr th {\n",
              "        vertical-align: top;\n",
              "    }\n",
              "\n",
              "    .dataframe thead th {\n",
              "        text-align: right;\n",
              "    }\n",
              "</style>\n",
              "<table border=\"1\" class=\"dataframe\">\n",
              "  <thead>\n",
              "    <tr style=\"text-align: right;\">\n",
              "      <th></th>\n",
              "      <th>description char count</th>\n",
              "      <th>description word count</th>\n",
              "      <th>description FK grade level</th>\n",
              "      <th>description FOG grade level</th>\n",
              "      <th>description SMOG grade level</th>\n",
              "      <th>mean grade level</th>\n",
              "      <th>description char per word</th>\n",
              "    </tr>\n",
              "  </thead>\n",
              "  <tbody>\n",
              "    <tr>\n",
              "      <th>count</th>\n",
              "      <td>95.000000</td>\n",
              "      <td>95.000000</td>\n",
              "      <td>95.000000</td>\n",
              "      <td>95.000000</td>\n",
              "      <td>95.000000</td>\n",
              "      <td>95.000000</td>\n",
              "      <td>95.000000</td>\n",
              "    </tr>\n",
              "    <tr>\n",
              "      <th>mean</th>\n",
              "      <td>846.063158</td>\n",
              "      <td>134.578947</td>\n",
              "      <td>18.117895</td>\n",
              "      <td>24.472526</td>\n",
              "      <td>11.301053</td>\n",
              "      <td>17.963825</td>\n",
              "      <td>6.267946</td>\n",
              "    </tr>\n",
              "    <tr>\n",
              "      <th>std</th>\n",
              "      <td>450.107713</td>\n",
              "      <td>70.019082</td>\n",
              "      <td>15.835652</td>\n",
              "      <td>16.271255</td>\n",
              "      <td>6.174613</td>\n",
              "      <td>9.967380</td>\n",
              "      <td>0.710161</td>\n",
              "    </tr>\n",
              "    <tr>\n",
              "      <th>min</th>\n",
              "      <td>201.000000</td>\n",
              "      <td>35.000000</td>\n",
              "      <td>3.700000</td>\n",
              "      <td>8.970000</td>\n",
              "      <td>0.000000</td>\n",
              "      <td>5.256667</td>\n",
              "      <td>4.714286</td>\n",
              "    </tr>\n",
              "    <tr>\n",
              "      <th>25%</th>\n",
              "      <td>550.000000</td>\n",
              "      <td>91.500000</td>\n",
              "      <td>10.500000</td>\n",
              "      <td>16.835000</td>\n",
              "      <td>10.350000</td>\n",
              "      <td>13.323333</td>\n",
              "      <td>5.897569</td>\n",
              "    </tr>\n",
              "    <tr>\n",
              "      <th>50%</th>\n",
              "      <td>758.000000</td>\n",
              "      <td>119.000000</td>\n",
              "      <td>13.800000</td>\n",
              "      <td>20.860000</td>\n",
              "      <td>13.000000</td>\n",
              "      <td>15.656667</td>\n",
              "      <td>6.169421</td>\n",
              "    </tr>\n",
              "    <tr>\n",
              "      <th>75%</th>\n",
              "      <td>978.000000</td>\n",
              "      <td>149.500000</td>\n",
              "      <td>17.950000</td>\n",
              "      <td>24.820000</td>\n",
              "      <td>15.200000</td>\n",
              "      <td>18.995000</td>\n",
              "      <td>6.447011</td>\n",
              "    </tr>\n",
              "    <tr>\n",
              "      <th>max</th>\n",
              "      <td>2794.000000</td>\n",
              "      <td>436.000000</td>\n",
              "      <td>107.800000</td>\n",
              "      <td>116.220000</td>\n",
              "      <td>23.500000</td>\n",
              "      <td>74.673333</td>\n",
              "      <td>11.252874</td>\n",
              "    </tr>\n",
              "  </tbody>\n",
              "</table>\n",
              "</div>"
            ],
            "text/plain": [
              "       description char count  description word count  \\\n",
              "count               95.000000               95.000000   \n",
              "mean               846.063158              134.578947   \n",
              "std                450.107713               70.019082   \n",
              "min                201.000000               35.000000   \n",
              "25%                550.000000               91.500000   \n",
              "50%                758.000000              119.000000   \n",
              "75%                978.000000              149.500000   \n",
              "max               2794.000000              436.000000   \n",
              "\n",
              "       description FK grade level  description FOG grade level  \\\n",
              "count                   95.000000                    95.000000   \n",
              "mean                    18.117895                    24.472526   \n",
              "std                     15.835652                    16.271255   \n",
              "min                      3.700000                     8.970000   \n",
              "25%                     10.500000                    16.835000   \n",
              "50%                     13.800000                    20.860000   \n",
              "75%                     17.950000                    24.820000   \n",
              "max                    107.800000                   116.220000   \n",
              "\n",
              "       description SMOG grade level  mean grade level  \\\n",
              "count                     95.000000         95.000000   \n",
              "mean                      11.301053         17.963825   \n",
              "std                        6.174613          9.967380   \n",
              "min                        0.000000          5.256667   \n",
              "25%                       10.350000         13.323333   \n",
              "50%                       13.000000         15.656667   \n",
              "75%                       15.200000         18.995000   \n",
              "max                       23.500000         74.673333   \n",
              "\n",
              "       description char per word  \n",
              "count                  95.000000  \n",
              "mean                    6.267946  \n",
              "std                     0.710161  \n",
              "min                     4.714286  \n",
              "25%                     5.897569  \n",
              "50%                     6.169421  \n",
              "75%                     6.447011  \n",
              "max                    11.252874  "
            ]
          },
          "metadata": {
            "tags": []
          },
          "execution_count": 64
        }
      ]
    },
    {
      "metadata": {
        "id": "xvY0MiUbU6yz",
        "colab_type": "code",
        "colab": {
          "base_uri": "https://localhost:8080/",
          "height": 398
        },
        "outputId": "486db517-82c2-46ea-aa62-bf139be96d71"
      },
      "cell_type": "code",
      "source": [
        "df.corr()"
      ],
      "execution_count": 65,
      "outputs": [
        {
          "output_type": "execute_result",
          "data": {
            "text/html": [
              "<div>\n",
              "<style scoped>\n",
              "    .dataframe tbody tr th:only-of-type {\n",
              "        vertical-align: middle;\n",
              "    }\n",
              "\n",
              "    .dataframe tbody tr th {\n",
              "        vertical-align: top;\n",
              "    }\n",
              "\n",
              "    .dataframe thead th {\n",
              "        text-align: right;\n",
              "    }\n",
              "</style>\n",
              "<table border=\"1\" class=\"dataframe\">\n",
              "  <thead>\n",
              "    <tr style=\"text-align: right;\">\n",
              "      <th></th>\n",
              "      <th>description char count</th>\n",
              "      <th>description word count</th>\n",
              "      <th>description FK grade level</th>\n",
              "      <th>tweetable description</th>\n",
              "      <th>description FOG grade level</th>\n",
              "      <th>description SMOG grade level</th>\n",
              "      <th>mean grade level</th>\n",
              "      <th>description char per word</th>\n",
              "    </tr>\n",
              "  </thead>\n",
              "  <tbody>\n",
              "    <tr>\n",
              "      <th>description char count</th>\n",
              "      <td>1.000000</td>\n",
              "      <td>0.985292</td>\n",
              "      <td>0.343671</td>\n",
              "      <td>-0.247932</td>\n",
              "      <td>0.320781</td>\n",
              "      <td>0.390501</td>\n",
              "      <td>0.437192</td>\n",
              "      <td>0.208842</td>\n",
              "    </tr>\n",
              "    <tr>\n",
              "      <th>description word count</th>\n",
              "      <td>0.985292</td>\n",
              "      <td>1.000000</td>\n",
              "      <td>0.313552</td>\n",
              "      <td>-0.237434</td>\n",
              "      <td>0.291827</td>\n",
              "      <td>0.373687</td>\n",
              "      <td>0.402013</td>\n",
              "      <td>0.051412</td>\n",
              "    </tr>\n",
              "    <tr>\n",
              "      <th>description FK grade level</th>\n",
              "      <td>0.343671</td>\n",
              "      <td>0.313552</td>\n",
              "      <td>1.000000</td>\n",
              "      <td>-0.107201</td>\n",
              "      <td>0.995590</td>\n",
              "      <td>-0.431439</td>\n",
              "      <td>0.982243</td>\n",
              "      <td>0.195490</td>\n",
              "    </tr>\n",
              "    <tr>\n",
              "      <th>tweetable description</th>\n",
              "      <td>-0.247932</td>\n",
              "      <td>-0.237434</td>\n",
              "      <td>-0.107201</td>\n",
              "      <td>1.000000</td>\n",
              "      <td>-0.110035</td>\n",
              "      <td>-0.198974</td>\n",
              "      <td>-0.157734</td>\n",
              "      <td>-0.215108</td>\n",
              "    </tr>\n",
              "    <tr>\n",
              "      <th>description FOG grade level</th>\n",
              "      <td>0.320781</td>\n",
              "      <td>0.291827</td>\n",
              "      <td>0.995590</td>\n",
              "      <td>-0.110035</td>\n",
              "      <td>1.000000</td>\n",
              "      <td>-0.438929</td>\n",
              "      <td>0.980761</td>\n",
              "      <td>0.182741</td>\n",
              "    </tr>\n",
              "    <tr>\n",
              "      <th>description SMOG grade level</th>\n",
              "      <td>0.390501</td>\n",
              "      <td>0.373687</td>\n",
              "      <td>-0.431439</td>\n",
              "      <td>-0.198974</td>\n",
              "      <td>-0.438929</td>\n",
              "      <td>1.000000</td>\n",
              "      <td>-0.260832</td>\n",
              "      <td>0.163979</td>\n",
              "    </tr>\n",
              "    <tr>\n",
              "      <th>mean grade level</th>\n",
              "      <td>0.437192</td>\n",
              "      <td>0.402013</td>\n",
              "      <td>0.982243</td>\n",
              "      <td>-0.157734</td>\n",
              "      <td>0.980761</td>\n",
              "      <td>-0.260832</td>\n",
              "      <td>1.000000</td>\n",
              "      <td>0.236827</td>\n",
              "    </tr>\n",
              "    <tr>\n",
              "      <th>description char per word</th>\n",
              "      <td>0.208842</td>\n",
              "      <td>0.051412</td>\n",
              "      <td>0.195490</td>\n",
              "      <td>-0.215108</td>\n",
              "      <td>0.182741</td>\n",
              "      <td>0.163979</td>\n",
              "      <td>0.236827</td>\n",
              "      <td>1.000000</td>\n",
              "    </tr>\n",
              "  </tbody>\n",
              "</table>\n",
              "</div>"
            ],
            "text/plain": [
              "                              description char count  description word count  \\\n",
              "description char count                      1.000000                0.985292   \n",
              "description word count                      0.985292                1.000000   \n",
              "description FK grade level                  0.343671                0.313552   \n",
              "tweetable description                      -0.247932               -0.237434   \n",
              "description FOG grade level                 0.320781                0.291827   \n",
              "description SMOG grade level                0.390501                0.373687   \n",
              "mean grade level                            0.437192                0.402013   \n",
              "description char per word                   0.208842                0.051412   \n",
              "\n",
              "                              description FK grade level  \\\n",
              "description char count                          0.343671   \n",
              "description word count                          0.313552   \n",
              "description FK grade level                      1.000000   \n",
              "tweetable description                          -0.107201   \n",
              "description FOG grade level                     0.995590   \n",
              "description SMOG grade level                   -0.431439   \n",
              "mean grade level                                0.982243   \n",
              "description char per word                       0.195490   \n",
              "\n",
              "                              tweetable description  \\\n",
              "description char count                    -0.247932   \n",
              "description word count                    -0.237434   \n",
              "description FK grade level                -0.107201   \n",
              "tweetable description                      1.000000   \n",
              "description FOG grade level               -0.110035   \n",
              "description SMOG grade level              -0.198974   \n",
              "mean grade level                          -0.157734   \n",
              "description char per word                 -0.215108   \n",
              "\n",
              "                              description FOG grade level  \\\n",
              "description char count                           0.320781   \n",
              "description word count                           0.291827   \n",
              "description FK grade level                       0.995590   \n",
              "tweetable description                           -0.110035   \n",
              "description FOG grade level                      1.000000   \n",
              "description SMOG grade level                    -0.438929   \n",
              "mean grade level                                 0.980761   \n",
              "description char per word                        0.182741   \n",
              "\n",
              "                              description SMOG grade level  mean grade level  \\\n",
              "description char count                            0.390501          0.437192   \n",
              "description word count                            0.373687          0.402013   \n",
              "description FK grade level                       -0.431439          0.982243   \n",
              "tweetable description                            -0.198974         -0.157734   \n",
              "description FOG grade level                      -0.438929          0.980761   \n",
              "description SMOG grade level                      1.000000         -0.260832   \n",
              "mean grade level                                 -0.260832          1.000000   \n",
              "description char per word                         0.163979          0.236827   \n",
              "\n",
              "                              description char per word  \n",
              "description char count                         0.208842  \n",
              "description word count                         0.051412  \n",
              "description FK grade level                     0.195490  \n",
              "tweetable description                         -0.215108  \n",
              "description FOG grade level                    0.182741  \n",
              "description SMOG grade level                   0.163979  \n",
              "mean grade level                               0.236827  \n",
              "description char per word                      1.000000  "
            ]
          },
          "metadata": {
            "tags": []
          },
          "execution_count": 65
        }
      ]
    },
    {
      "metadata": {
        "id": "Dzr9UlI1VJA7",
        "colab_type": "code",
        "colab": {}
      },
      "cell_type": "code",
      "source": [
        ""
      ],
      "execution_count": 0,
      "outputs": []
    }
  ]
}