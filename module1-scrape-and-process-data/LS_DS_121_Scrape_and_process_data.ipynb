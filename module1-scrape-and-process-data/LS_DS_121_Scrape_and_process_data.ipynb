{
  "nbformat": 4,
  "nbformat_minor": 0,
  "metadata": {
    "colab": {
      "name": "LS_DS_121_Scrape_and_process_data.ipynb",
      "version": "0.3.2",
      "provenance": [],
      "collapsed_sections": [],
      "include_colab_link": true
    },
    "kernelspec": {
      "name": "python3",
      "display_name": "Python 3"
    }
  },
  "cells": [
    {
      "cell_type": "markdown",
      "metadata": {
        "id": "view-in-github",
        "colab_type": "text"
      },
      "source": [
        "<a href=\"https://colab.research.google.com/github/DimaKav/DS-Unit-1-Sprint-2-Data-Wrangling/blob/master/module1-scrape-and-process-data/LS_DS_121_Scrape_and_process_data.ipynb\" target=\"_parent\"><img src=\"https://colab.research.google.com/assets/colab-badge.svg\" alt=\"Open In Colab\"/></a>"
      ]
    },
    {
      "metadata": {
        "id": "oR4Yeg3P07gu",
        "colab_type": "text"
      },
      "cell_type": "markdown",
      "source": [
        "_Lambda School Data Science_\n",
        "\n",
        "# Scrape and process data\n",
        "\n",
        "Objectives\n",
        "- scrape and parse web pages\n",
        "- use list comprehensions\n",
        "- select rows and columns with pandas\n",
        "\n",
        "Links\n",
        "-  [Automate the Boring Stuff with Python, Chapter 11](https://automatetheboringstuff.com/chapter11/)\n",
        "  - Requests\n",
        "  - Beautiful Soup\n",
        "- [Python List Comprehensions: Explained Visually](https://treyhunner.com/2015/12/python-list-comprehensions-now-in-color/)\n",
        "- [Pandas Cheat Sheet](https://github.com/pandas-dev/pandas/blob/master/doc/cheatsheet/Pandas_Cheat_Sheet.pdf)\n",
        "  - Subset Observations (Rows)\n",
        "  - Subset Variables (Columns)\n",
        "- Python Data Science Handbook\n",
        "  - [Chapter 3.1](https://jakevdp.github.io/PythonDataScienceHandbook/03.01-introducing-pandas-objects.html), Introducing Pandas Objects\n",
        "  - [Chapter 3.2](https://jakevdp.github.io/PythonDataScienceHandbook/03.02-data-indexing-and-selection.html), Data Indexing and Selection\n"
      ]
    },
    {
      "metadata": {
        "id": "I_NRVchqgGvM",
        "colab_type": "text"
      },
      "cell_type": "markdown",
      "source": [
        "## Scrape the titles of PyCon 2018 talks"
      ]
    },
    {
      "metadata": {
        "id": "3elw_8Nc7Tpe",
        "colab_type": "code",
        "colab": {}
      },
      "cell_type": "code",
      "source": [
        "url = 'https://us.pycon.org/2018/schedule/talks/list/'"
      ],
      "execution_count": 0,
      "outputs": []
    },
    {
      "metadata": {
        "id": "SFNsyjVsTU4b",
        "colab_type": "code",
        "colab": {}
      },
      "cell_type": "code",
      "source": [
        "import bs4\n",
        "import requests\n",
        "\n",
        "result = requests.get(url)\n",
        "soup = bs4.BeautifulSoup(result.text)"
      ],
      "execution_count": 0,
      "outputs": []
    },
    {
      "metadata": {
        "id": "7Gy16ehkceVD",
        "colab_type": "code",
        "colab": {}
      },
      "cell_type": "code",
      "source": [
        "titles = [tag.text.strip() \n",
        "          for tag in soup.select('h2')]"
      ],
      "execution_count": 0,
      "outputs": []
    },
    {
      "metadata": {
        "id": "jW2yWFh4FxsW",
        "colab_type": "code",
        "colab": {
          "base_uri": "https://localhost:8080/",
          "height": 1632
        },
        "outputId": "fa833b2a-2bb3-4a78-c58d-e5ce0ccb7687"
      },
      "cell_type": "code",
      "source": [
        "titles"
      ],
      "execution_count": 38,
      "outputs": [
        {
          "output_type": "execute_result",
          "data": {
            "text/plain": [
              "['A Bit about Bytes: Understanding Python Bytecode',\n",
              " 'Adapting from Spark to Dask: what to expect',\n",
              " 'All in the timing: How side channel attacks work',\n",
              " 'Analyzing Data: What pandas and SQL Taught Me About Taking an Average',\n",
              " 'A practical guide to Singular Value Decomposition in Python',\n",
              " 'Augmenting Human Decision Making with Data Science',\n",
              " 'Automating Code Quality',\n",
              " 'Bayesian Non-parametric Models for Data Science using PyMC3',\n",
              " 'Behavior-Driven Python',\n",
              " \"Beyond scraping: how to use machine learning when you're not sure where to start\",\n",
              " 'Beyond Unit Tests: Taking Your Testing to the Next Level',\n",
              " 'Big-O: How Code Slows as Data Grows',\n",
              " 'Birding with Python and Machine Learning',\n",
              " 'Bowerbirds of Technology: Architecture and Teams at Less-than-Google Scale',\n",
              " 'Building a cross-platform native app with BeeWare',\n",
              " 'Building a Data Pipeline with Testing in Mind',\n",
              " 'Build Teams as an Engineer',\n",
              " 'By the Numbers: Python Community Trends in 2017/2018',\n",
              " 'Clearer Code at Scale: Static Types at Zulip and Dropbox',\n",
              " 'Code like an accountant: Designing data systems for accuracy, resilience and auditability',\n",
              " 'Code Reviews Using Art Critique Principles',\n",
              " 'Coding through Adversity',\n",
              " 'Colossal Cave Adventure in Python... in the browser!',\n",
              " 'Controlling apples with snakes: Automating mobile apps with Appium',\n",
              " 'Counter, Gauge, Upper 90 - Oh my!',\n",
              " 'CuPy: A NumPy-compatible Library for GPU',\n",
              " 'Dataclasses:  The code generator to end all code generators',\n",
              " 'Data Visualization in Mixed Reality with Python',\n",
              " 'Debugging PySpark -- Or trying to make sense of a JVM stack trace when you were minding your own bus',\n",
              " 'Deconstructing the US Patent Database',\n",
              " 'Democratizing Distributed Computing with Dask and JupyterHub',\n",
              " 'Demystifying the Patch Function',\n",
              " \"Don't Look Back in Anger: Wildman Whitehouse and the Great Failure of 1858\",\n",
              " 'Easy 2D Game Creation With Arcade',\n",
              " 'Efficient shared memory data structures',\n",
              " 'Effortless Logging: A deep dive into the logging module',\n",
              " 'Elegant Solutions For Everyday Python Problems',\n",
              " 'Exploring Deep Learning Framework PyTorch',\n",
              " 'Fighting Gerrymandering with PyMC3',\n",
              " 'Fighting the Good Fight: Python 3 in your organization',\n",
              " 'Flourishing FLOSS: Making Your Project Successful',\n",
              " 'Get your resources faster, with importlib.resources',\n",
              " 'Graph Databases: Talking about your Data Relationships with Python',\n",
              " 'How Netflix does failovers in 7 minutes flat',\n",
              " 'HOWTO Write a Function',\n",
              " 'How to Write Deployment-friendly Applications',\n",
              " 'How we designed an inclusivity-first conference on a shoestring budget and short timeline',\n",
              " 'How We Do Identity Wrong',\n",
              " 'import time_travel: A Primer on Timezones in Python',\n",
              " 'Inside the Cheeseshop: How Python Packaging Works',\n",
              " 'Learning From Failure: Post Mortems',\n",
              " 'Listen, Attend, and Walk : Interpreting natural language navigational instructions',\n",
              " 'Love your bugs',\n",
              " 'One weird trick to becoming a better software developer',\n",
              " 'Oops! I Committed My Password To GitHub!',\n",
              " 'Performance Python: Seven Strategies for Optimizing Your Numerical Code',\n",
              " 'Pipenv: The Future of Python Dependency Management',\n",
              " 'Practical Sphinx',\n",
              " 'Programming microbes using Python',\n",
              " 'Pumping up Python modules using Rust',\n",
              " 'Python 2 to 3: How to Upgrade and What Features to Start Using',\n",
              " 'Python 3: ten years later',\n",
              " 'Python across the USA: This is the Bus.',\n",
              " 'Python Data Sonification for Science and Discovery',\n",
              " 'Python for the quantum computing age',\n",
              " 'Python, Locales and Writing Systems',\n",
              " 'Python Performance Investigation by Example',\n",
              " 'Randomness in Python: Controlled Chaos in an Ordered Machine',\n",
              " 'Reactive Programming with RxPy',\n",
              " 'Reinventing the Parser Generator',\n",
              " 'Secrets of a WSGI master.',\n",
              " 'Software Library APIs: Lessons Learned from scikit-learn',\n",
              " 'Solve Your Problem With Sloppy Python',\n",
              " 'Strategies to Edit Production Data',\n",
              " 'Surviving (and thriving!) when you are overloaded',\n",
              " 'Systemd: why you should care as a Python developer',\n",
              " 'Taking Django Async',\n",
              " 'The AST and Me',\n",
              " 'The Hare Wins the Race: Getting the most out of RabbitMQ in distributed applications',\n",
              " 'The human nature of failure & resiliency',\n",
              " 'Trust the data to speak for itself',\n",
              " 'The Journey Over the Intermediate Gap',\n",
              " 'There and Back Again: Disable and re-enable garbage collector at Instagram',\n",
              " 'Thinking Outside the GIL with AsyncIO and Multiprocessing',\n",
              " 'Trio: Async concurrency for mere mortals',\n",
              " 'Type-checked Python in the real world',\n",
              " 'Types, Deeper Static Analysis, and you',\n",
              " 'User focused API Design',\n",
              " 'Using Python to build an AI to play and win SNES StreetFighter II',\n",
              " 'Visualizing Algorithms with Python and Programmable LEDs',\n",
              " 'Visual Testing with PyCharm and pytest',\n",
              " 'What is a Python Core Developer?',\n",
              " '\"WHAT IS THIS MESS?\" - Writing tests for pre-existing code bases',\n",
              " 'Win back lovely API: GraphQL in Python',\n",
              " \"You're an expert. Here's how to teach like one.\"]"
            ]
          },
          "metadata": {
            "tags": []
          },
          "execution_count": 38
        }
      ]
    },
    {
      "metadata": {
        "id": "vqkNgAzYpeK7",
        "colab_type": "text"
      },
      "cell_type": "markdown",
      "source": [
        "## 5 ways to look at long titles\n",
        "\n",
        "Let's define a long title as greater than 80 characters"
      ]
    },
    {
      "metadata": {
        "id": "N7tqeZh14Fws",
        "colab_type": "text"
      },
      "cell_type": "markdown",
      "source": [
        "### 1. For Loop"
      ]
    },
    {
      "metadata": {
        "id": "qGVxj4Kpd_hr",
        "colab_type": "code",
        "outputId": "431533f1-31a3-44d5-94d6-cf0d1f72df68",
        "colab": {
          "base_uri": "https://localhost:8080/",
          "height": 102
        }
      },
      "cell_type": "code",
      "source": [
        "long_titles = []\n",
        "for title in titles:\n",
        "    if len(title) > 80:\n",
        "        long_titles.append(title)\n",
        "        \n",
        "long_titles"
      ],
      "execution_count": 5,
      "outputs": [
        {
          "output_type": "execute_result",
          "data": {
            "text/plain": [
              "['Code like an accountant: Designing data systems for accuracy, resilience and auditability',\n",
              " 'Debugging PySpark -- Or trying to make sense of a JVM stack trace when you were minding your own bus',\n",
              " 'How we designed an inclusivity-first conference on a shoestring budget and short timeline',\n",
              " 'Listen, Attend, and Walk : Interpreting natural language navigational instructions',\n",
              " 'The Hare Wins the Race: Getting the most out of RabbitMQ in distributed applications']"
            ]
          },
          "metadata": {
            "tags": []
          },
          "execution_count": 5
        }
      ]
    },
    {
      "metadata": {
        "id": "I21jcEnK4IN7",
        "colab_type": "text"
      },
      "cell_type": "markdown",
      "source": [
        "### 2. List Comprehension"
      ]
    },
    {
      "metadata": {
        "id": "qaXe9UldAs3H",
        "colab_type": "code",
        "outputId": "c76c1524-ab30-4ca7-ba3b-c99a71d9e963",
        "colab": {
          "base_uri": "https://localhost:8080/",
          "height": 102
        }
      },
      "cell_type": "code",
      "source": [
        "[title for title in titles \n",
        " if len(title) > 80]"
      ],
      "execution_count": 6,
      "outputs": [
        {
          "output_type": "execute_result",
          "data": {
            "text/plain": [
              "['Code like an accountant: Designing data systems for accuracy, resilience and auditability',\n",
              " 'Debugging PySpark -- Or trying to make sense of a JVM stack trace when you were minding your own bus',\n",
              " 'How we designed an inclusivity-first conference on a shoestring budget and short timeline',\n",
              " 'Listen, Attend, and Walk : Interpreting natural language navigational instructions',\n",
              " 'The Hare Wins the Race: Getting the most out of RabbitMQ in distributed applications']"
            ]
          },
          "metadata": {
            "tags": []
          },
          "execution_count": 6
        }
      ]
    },
    {
      "metadata": {
        "id": "2kn8pxL-4yMG",
        "colab_type": "text"
      },
      "cell_type": "markdown",
      "source": [
        "### 3. Filter with named function"
      ]
    },
    {
      "metadata": {
        "id": "ywLqqFJNAvFm",
        "colab_type": "code",
        "outputId": "28db25f1-bf23-4800-bcb7-199c43f975e7",
        "colab": {
          "base_uri": "https://localhost:8080/",
          "height": 102
        }
      },
      "cell_type": "code",
      "source": [
        "def long(title):\n",
        "    return len(title) > 80\n",
        "\n",
        "list(filter(long, titles))"
      ],
      "execution_count": 7,
      "outputs": [
        {
          "output_type": "execute_result",
          "data": {
            "text/plain": [
              "['Code like an accountant: Designing data systems for accuracy, resilience and auditability',\n",
              " 'Debugging PySpark -- Or trying to make sense of a JVM stack trace when you were minding your own bus',\n",
              " 'How we designed an inclusivity-first conference on a shoestring budget and short timeline',\n",
              " 'Listen, Attend, and Walk : Interpreting natural language navigational instructions',\n",
              " 'The Hare Wins the Race: Getting the most out of RabbitMQ in distributed applications']"
            ]
          },
          "metadata": {
            "tags": []
          },
          "execution_count": 7
        }
      ]
    },
    {
      "metadata": {
        "id": "IPIT6oXz40Q3",
        "colab_type": "text"
      },
      "cell_type": "markdown",
      "source": [
        "### 4. Filter with anonymous function"
      ]
    },
    {
      "metadata": {
        "id": "giIcFYkiAwiR",
        "colab_type": "code",
        "outputId": "9564760f-3def-4ba8-e186-fb92300e02d0",
        "colab": {
          "base_uri": "https://localhost:8080/",
          "height": 102
        }
      },
      "cell_type": "code",
      "source": [
        "list(filter(lambda t: len(t) > 80, titles))"
      ],
      "execution_count": 8,
      "outputs": [
        {
          "output_type": "execute_result",
          "data": {
            "text/plain": [
              "['Code like an accountant: Designing data systems for accuracy, resilience and auditability',\n",
              " 'Debugging PySpark -- Or trying to make sense of a JVM stack trace when you were minding your own bus',\n",
              " 'How we designed an inclusivity-first conference on a shoestring budget and short timeline',\n",
              " 'Listen, Attend, and Walk : Interpreting natural language navigational instructions',\n",
              " 'The Hare Wins the Race: Getting the most out of RabbitMQ in distributed applications']"
            ]
          },
          "metadata": {
            "tags": []
          },
          "execution_count": 8
        }
      ]
    },
    {
      "metadata": {
        "id": "qj8Yod8_45z4",
        "colab_type": "text"
      },
      "cell_type": "markdown",
      "source": [
        "### 5. Pandas\n",
        "\n",
        "pandas documentation: [Working with Text Data](https://pandas.pydata.org/pandas-docs/stable/text.html)"
      ]
    },
    {
      "metadata": {
        "id": "yRwPEHNcAzc_",
        "colab_type": "code",
        "colab": {}
      },
      "cell_type": "code",
      "source": [
        "import pandas as pd\n",
        "pd.options.display.max_colwidth = 200"
      ],
      "execution_count": 0,
      "outputs": []
    },
    {
      "metadata": {
        "id": "e8Pf4532gMPk",
        "colab_type": "code",
        "outputId": "3304578b-221c-4d47-bafb-a407833735a5",
        "colab": {
          "base_uri": "https://localhost:8080/",
          "height": 204
        }
      },
      "cell_type": "code",
      "source": [
        "df = pd.DataFrame({'title': titles})\n",
        "df[df.title.str.len() > 80]"
      ],
      "execution_count": 10,
      "outputs": [
        {
          "output_type": "execute_result",
          "data": {
            "text/html": [
              "<div>\n",
              "<style scoped>\n",
              "    .dataframe tbody tr th:only-of-type {\n",
              "        vertical-align: middle;\n",
              "    }\n",
              "\n",
              "    .dataframe tbody tr th {\n",
              "        vertical-align: top;\n",
              "    }\n",
              "\n",
              "    .dataframe thead th {\n",
              "        text-align: right;\n",
              "    }\n",
              "</style>\n",
              "<table border=\"1\" class=\"dataframe\">\n",
              "  <thead>\n",
              "    <tr style=\"text-align: right;\">\n",
              "      <th></th>\n",
              "      <th>title</th>\n",
              "    </tr>\n",
              "  </thead>\n",
              "  <tbody>\n",
              "    <tr>\n",
              "      <th>19</th>\n",
              "      <td>Code like an accountant: Designing data systems for accuracy, resilience and auditability</td>\n",
              "    </tr>\n",
              "    <tr>\n",
              "      <th>28</th>\n",
              "      <td>Debugging PySpark -- Or trying to make sense of a JVM stack trace when you were minding your own bus</td>\n",
              "    </tr>\n",
              "    <tr>\n",
              "      <th>46</th>\n",
              "      <td>How we designed an inclusivity-first conference on a shoestring budget and short timeline</td>\n",
              "    </tr>\n",
              "    <tr>\n",
              "      <th>51</th>\n",
              "      <td>Listen, Attend, and Walk : Interpreting natural language navigational instructions</td>\n",
              "    </tr>\n",
              "    <tr>\n",
              "      <th>78</th>\n",
              "      <td>The Hare Wins the Race: Getting the most out of RabbitMQ in distributed applications</td>\n",
              "    </tr>\n",
              "  </tbody>\n",
              "</table>\n",
              "</div>"
            ],
            "text/plain": [
              "                                                                                                   title\n",
              "19             Code like an accountant: Designing data systems for accuracy, resilience and auditability\n",
              "28  Debugging PySpark -- Or trying to make sense of a JVM stack trace when you were minding your own bus\n",
              "46             How we designed an inclusivity-first conference on a shoestring budget and short timeline\n",
              "51                    Listen, Attend, and Walk : Interpreting natural language navigational instructions\n",
              "78                  The Hare Wins the Race: Getting the most out of RabbitMQ in distributed applications"
            ]
          },
          "metadata": {
            "tags": []
          },
          "execution_count": 10
        }
      ]
    },
    {
      "metadata": {
        "id": "8YaUZJvRp681",
        "colab_type": "text"
      },
      "cell_type": "markdown",
      "source": [
        "## Make new dataframe columns\n",
        "\n",
        "pandas documentation: [apply](https://pandas.pydata.org/pandas-docs/stable/generated/pandas.Series.apply.html)"
      ]
    },
    {
      "metadata": {
        "id": "Ua74pMrGrsZR",
        "colab_type": "text"
      },
      "cell_type": "markdown",
      "source": [
        "### title length"
      ]
    },
    {
      "metadata": {
        "id": "p-Euz7tgA8Fd",
        "colab_type": "code",
        "colab": {}
      },
      "cell_type": "code",
      "source": [
        "df['title length'] = df.title.apply(len)"
      ],
      "execution_count": 0,
      "outputs": []
    },
    {
      "metadata": {
        "id": "FvC3Ym6smc9p",
        "colab_type": "code",
        "outputId": "01ddeb76-a781-4de2-a5b7-bd078820f025",
        "colab": {
          "base_uri": "https://localhost:8080/",
          "height": 204
        }
      },
      "cell_type": "code",
      "source": [
        "df[df['title length'] > 80]"
      ],
      "execution_count": 12,
      "outputs": [
        {
          "output_type": "execute_result",
          "data": {
            "text/html": [
              "<div>\n",
              "<style scoped>\n",
              "    .dataframe tbody tr th:only-of-type {\n",
              "        vertical-align: middle;\n",
              "    }\n",
              "\n",
              "    .dataframe tbody tr th {\n",
              "        vertical-align: top;\n",
              "    }\n",
              "\n",
              "    .dataframe thead th {\n",
              "        text-align: right;\n",
              "    }\n",
              "</style>\n",
              "<table border=\"1\" class=\"dataframe\">\n",
              "  <thead>\n",
              "    <tr style=\"text-align: right;\">\n",
              "      <th></th>\n",
              "      <th>title</th>\n",
              "      <th>title length</th>\n",
              "    </tr>\n",
              "  </thead>\n",
              "  <tbody>\n",
              "    <tr>\n",
              "      <th>19</th>\n",
              "      <td>Code like an accountant: Designing data systems for accuracy, resilience and auditability</td>\n",
              "      <td>89</td>\n",
              "    </tr>\n",
              "    <tr>\n",
              "      <th>28</th>\n",
              "      <td>Debugging PySpark -- Or trying to make sense of a JVM stack trace when you were minding your own bus</td>\n",
              "      <td>100</td>\n",
              "    </tr>\n",
              "    <tr>\n",
              "      <th>46</th>\n",
              "      <td>How we designed an inclusivity-first conference on a shoestring budget and short timeline</td>\n",
              "      <td>89</td>\n",
              "    </tr>\n",
              "    <tr>\n",
              "      <th>51</th>\n",
              "      <td>Listen, Attend, and Walk : Interpreting natural language navigational instructions</td>\n",
              "      <td>82</td>\n",
              "    </tr>\n",
              "    <tr>\n",
              "      <th>78</th>\n",
              "      <td>The Hare Wins the Race: Getting the most out of RabbitMQ in distributed applications</td>\n",
              "      <td>84</td>\n",
              "    </tr>\n",
              "  </tbody>\n",
              "</table>\n",
              "</div>"
            ],
            "text/plain": [
              "                                                                                                   title  \\\n",
              "19             Code like an accountant: Designing data systems for accuracy, resilience and auditability   \n",
              "28  Debugging PySpark -- Or trying to make sense of a JVM stack trace when you were minding your own bus   \n",
              "46             How we designed an inclusivity-first conference on a shoestring budget and short timeline   \n",
              "51                    Listen, Attend, and Walk : Interpreting natural language navigational instructions   \n",
              "78                  The Hare Wins the Race: Getting the most out of RabbitMQ in distributed applications   \n",
              "\n",
              "    title length  \n",
              "19            89  \n",
              "28           100  \n",
              "46            89  \n",
              "51            82  \n",
              "78            84  "
            ]
          },
          "metadata": {
            "tags": []
          },
          "execution_count": 12
        }
      ]
    },
    {
      "metadata": {
        "id": "qz3QLnL9md-Q",
        "colab_type": "code",
        "outputId": "c3500402-4855-4253-e55f-d4ec47e95bdd",
        "colab": {
          "base_uri": "https://localhost:8080/",
          "height": 119
        }
      },
      "cell_type": "code",
      "source": [
        "df.loc[df['title length'] > 80, 'title length']"
      ],
      "execution_count": 13,
      "outputs": [
        {
          "output_type": "execute_result",
          "data": {
            "text/plain": [
              "19     89\n",
              "28    100\n",
              "46     89\n",
              "51     82\n",
              "78     84\n",
              "Name: title length, dtype: int64"
            ]
          },
          "metadata": {
            "tags": []
          },
          "execution_count": 13
        }
      ]
    },
    {
      "metadata": {
        "id": "OgsKArXPrz5n",
        "colab_type": "text"
      },
      "cell_type": "markdown",
      "source": [
        "### long title"
      ]
    },
    {
      "metadata": {
        "id": "b_WCRvvKA-IP",
        "colab_type": "code",
        "colab": {}
      },
      "cell_type": "code",
      "source": [
        "df['long title'] = df['title length'] > 80"
      ],
      "execution_count": 0,
      "outputs": []
    },
    {
      "metadata": {
        "id": "aX4C-H_un08O",
        "colab_type": "code",
        "outputId": "df8f394d-10ad-4fea-f1df-ad0d42bffcd1",
        "colab": {
          "base_uri": "https://localhost:8080/",
          "height": 204
        }
      },
      "cell_type": "code",
      "source": [
        "df[df['long title']==True]"
      ],
      "execution_count": 15,
      "outputs": [
        {
          "output_type": "execute_result",
          "data": {
            "text/html": [
              "<div>\n",
              "<style scoped>\n",
              "    .dataframe tbody tr th:only-of-type {\n",
              "        vertical-align: middle;\n",
              "    }\n",
              "\n",
              "    .dataframe tbody tr th {\n",
              "        vertical-align: top;\n",
              "    }\n",
              "\n",
              "    .dataframe thead th {\n",
              "        text-align: right;\n",
              "    }\n",
              "</style>\n",
              "<table border=\"1\" class=\"dataframe\">\n",
              "  <thead>\n",
              "    <tr style=\"text-align: right;\">\n",
              "      <th></th>\n",
              "      <th>title</th>\n",
              "      <th>title length</th>\n",
              "      <th>long title</th>\n",
              "    </tr>\n",
              "  </thead>\n",
              "  <tbody>\n",
              "    <tr>\n",
              "      <th>19</th>\n",
              "      <td>Code like an accountant: Designing data systems for accuracy, resilience and auditability</td>\n",
              "      <td>89</td>\n",
              "      <td>True</td>\n",
              "    </tr>\n",
              "    <tr>\n",
              "      <th>28</th>\n",
              "      <td>Debugging PySpark -- Or trying to make sense of a JVM stack trace when you were minding your own bus</td>\n",
              "      <td>100</td>\n",
              "      <td>True</td>\n",
              "    </tr>\n",
              "    <tr>\n",
              "      <th>46</th>\n",
              "      <td>How we designed an inclusivity-first conference on a shoestring budget and short timeline</td>\n",
              "      <td>89</td>\n",
              "      <td>True</td>\n",
              "    </tr>\n",
              "    <tr>\n",
              "      <th>51</th>\n",
              "      <td>Listen, Attend, and Walk : Interpreting natural language navigational instructions</td>\n",
              "      <td>82</td>\n",
              "      <td>True</td>\n",
              "    </tr>\n",
              "    <tr>\n",
              "      <th>78</th>\n",
              "      <td>The Hare Wins the Race: Getting the most out of RabbitMQ in distributed applications</td>\n",
              "      <td>84</td>\n",
              "      <td>True</td>\n",
              "    </tr>\n",
              "  </tbody>\n",
              "</table>\n",
              "</div>"
            ],
            "text/plain": [
              "                                                                                                   title  \\\n",
              "19             Code like an accountant: Designing data systems for accuracy, resilience and auditability   \n",
              "28  Debugging PySpark -- Or trying to make sense of a JVM stack trace when you were minding your own bus   \n",
              "46             How we designed an inclusivity-first conference on a shoestring budget and short timeline   \n",
              "51                    Listen, Attend, and Walk : Interpreting natural language navigational instructions   \n",
              "78                  The Hare Wins the Race: Getting the most out of RabbitMQ in distributed applications   \n",
              "\n",
              "    title length  long title  \n",
              "19            89        True  \n",
              "28           100        True  \n",
              "46            89        True  \n",
              "51            82        True  \n",
              "78            84        True  "
            ]
          },
          "metadata": {
            "tags": []
          },
          "execution_count": 15
        }
      ]
    },
    {
      "metadata": {
        "id": "TonCXYPesUsT",
        "colab_type": "text"
      },
      "cell_type": "markdown",
      "source": [
        "### first letter"
      ]
    },
    {
      "metadata": {
        "id": "GVI0ffWdoMNh",
        "colab_type": "code",
        "colab": {}
      },
      "cell_type": "code",
      "source": [
        "df['first letter'] = df.title.str[0]"
      ],
      "execution_count": 0,
      "outputs": []
    },
    {
      "metadata": {
        "id": "f6N8s4dfoRS-",
        "colab_type": "code",
        "outputId": "2693aa55-d34e-4314-e234-36cf526c1b61",
        "colab": {
          "base_uri": "https://localhost:8080/",
          "height": 421
        }
      },
      "cell_type": "code",
      "source": [
        "df[df['first letter']=='P']"
      ],
      "execution_count": 17,
      "outputs": [
        {
          "output_type": "execute_result",
          "data": {
            "text/html": [
              "<div>\n",
              "<style scoped>\n",
              "    .dataframe tbody tr th:only-of-type {\n",
              "        vertical-align: middle;\n",
              "    }\n",
              "\n",
              "    .dataframe tbody tr th {\n",
              "        vertical-align: top;\n",
              "    }\n",
              "\n",
              "    .dataframe thead th {\n",
              "        text-align: right;\n",
              "    }\n",
              "</style>\n",
              "<table border=\"1\" class=\"dataframe\">\n",
              "  <thead>\n",
              "    <tr style=\"text-align: right;\">\n",
              "      <th></th>\n",
              "      <th>title</th>\n",
              "      <th>title length</th>\n",
              "      <th>long title</th>\n",
              "      <th>first letter</th>\n",
              "    </tr>\n",
              "  </thead>\n",
              "  <tbody>\n",
              "    <tr>\n",
              "      <th>55</th>\n",
              "      <td>Performance Python: Seven Strategies for Optimizing Your Numerical Code</td>\n",
              "      <td>71</td>\n",
              "      <td>False</td>\n",
              "      <td>P</td>\n",
              "    </tr>\n",
              "    <tr>\n",
              "      <th>56</th>\n",
              "      <td>Pipenv: The Future of Python Dependency Management</td>\n",
              "      <td>50</td>\n",
              "      <td>False</td>\n",
              "      <td>P</td>\n",
              "    </tr>\n",
              "    <tr>\n",
              "      <th>57</th>\n",
              "      <td>Practical Sphinx</td>\n",
              "      <td>16</td>\n",
              "      <td>False</td>\n",
              "      <td>P</td>\n",
              "    </tr>\n",
              "    <tr>\n",
              "      <th>58</th>\n",
              "      <td>Programming microbes using Python</td>\n",
              "      <td>33</td>\n",
              "      <td>False</td>\n",
              "      <td>P</td>\n",
              "    </tr>\n",
              "    <tr>\n",
              "      <th>59</th>\n",
              "      <td>Pumping up Python modules using Rust</td>\n",
              "      <td>36</td>\n",
              "      <td>False</td>\n",
              "      <td>P</td>\n",
              "    </tr>\n",
              "    <tr>\n",
              "      <th>60</th>\n",
              "      <td>Python 2 to 3: How to Upgrade and What Features to Start Using</td>\n",
              "      <td>62</td>\n",
              "      <td>False</td>\n",
              "      <td>P</td>\n",
              "    </tr>\n",
              "    <tr>\n",
              "      <th>61</th>\n",
              "      <td>Python 3: ten years later</td>\n",
              "      <td>25</td>\n",
              "      <td>False</td>\n",
              "      <td>P</td>\n",
              "    </tr>\n",
              "    <tr>\n",
              "      <th>62</th>\n",
              "      <td>Python across the USA: This is the Bus.</td>\n",
              "      <td>39</td>\n",
              "      <td>False</td>\n",
              "      <td>P</td>\n",
              "    </tr>\n",
              "    <tr>\n",
              "      <th>63</th>\n",
              "      <td>Python Data Sonification for Science and Discovery</td>\n",
              "      <td>50</td>\n",
              "      <td>False</td>\n",
              "      <td>P</td>\n",
              "    </tr>\n",
              "    <tr>\n",
              "      <th>64</th>\n",
              "      <td>Python for the quantum computing age</td>\n",
              "      <td>36</td>\n",
              "      <td>False</td>\n",
              "      <td>P</td>\n",
              "    </tr>\n",
              "    <tr>\n",
              "      <th>65</th>\n",
              "      <td>Python, Locales and Writing Systems</td>\n",
              "      <td>35</td>\n",
              "      <td>False</td>\n",
              "      <td>P</td>\n",
              "    </tr>\n",
              "    <tr>\n",
              "      <th>66</th>\n",
              "      <td>Python Performance Investigation by Example</td>\n",
              "      <td>43</td>\n",
              "      <td>False</td>\n",
              "      <td>P</td>\n",
              "    </tr>\n",
              "  </tbody>\n",
              "</table>\n",
              "</div>"
            ],
            "text/plain": [
              "                                                                      title  \\\n",
              "55  Performance Python: Seven Strategies for Optimizing Your Numerical Code   \n",
              "56                       Pipenv: The Future of Python Dependency Management   \n",
              "57                                                         Practical Sphinx   \n",
              "58                                        Programming microbes using Python   \n",
              "59                                     Pumping up Python modules using Rust   \n",
              "60           Python 2 to 3: How to Upgrade and What Features to Start Using   \n",
              "61                                                Python 3: ten years later   \n",
              "62                                  Python across the USA: This is the Bus.   \n",
              "63                       Python Data Sonification for Science and Discovery   \n",
              "64                                     Python for the quantum computing age   \n",
              "65                                      Python, Locales and Writing Systems   \n",
              "66                              Python Performance Investigation by Example   \n",
              "\n",
              "    title length  long title first letter  \n",
              "55            71       False            P  \n",
              "56            50       False            P  \n",
              "57            16       False            P  \n",
              "58            33       False            P  \n",
              "59            36       False            P  \n",
              "60            62       False            P  \n",
              "61            25       False            P  \n",
              "62            39       False            P  \n",
              "63            50       False            P  \n",
              "64            36       False            P  \n",
              "65            35       False            P  \n",
              "66            43       False            P  "
            ]
          },
          "metadata": {
            "tags": []
          },
          "execution_count": 17
        }
      ]
    },
    {
      "metadata": {
        "id": "Etz1XeLKs6DL",
        "colab_type": "text"
      },
      "cell_type": "markdown",
      "source": [
        "### word count\n",
        "\n",
        "Using [`textstat`](https://github.com/shivam5992/textstat)"
      ]
    },
    {
      "metadata": {
        "id": "GVIkRWchs4zR",
        "colab_type": "code",
        "outputId": "e315a0d2-3958-4ac3-9523-efd8c12bcc17",
        "colab": {
          "base_uri": "https://localhost:8080/",
          "height": 258
        }
      },
      "cell_type": "code",
      "source": [
        "!pip install textstat"
      ],
      "execution_count": 18,
      "outputs": [
        {
          "output_type": "stream",
          "text": [
            "Collecting textstat\n",
            "  Downloading https://files.pythonhosted.org/packages/9b/78/a050fa0f13c04db10c891167204e2cd0c0ae1be40842a10eaf5348360f94/textstat-0.5.4.tar.gz\n",
            "Collecting pyphen (from textstat)\n",
            "\u001b[?25l  Downloading https://files.pythonhosted.org/packages/15/82/08a3629dce8d1f3d91db843bb36d4d7db6b6269d5067259613a0d5c8a9db/Pyphen-0.9.5-py2.py3-none-any.whl (3.0MB)\n",
            "\u001b[K    100% |████████████████████████████████| 3.0MB 7.1MB/s \n",
            "\u001b[?25hCollecting repoze.lru (from textstat)\n",
            "  Downloading https://files.pythonhosted.org/packages/b0/30/6cc0c95f0b59ad4b3b9163bff7cdcf793cc96fac64cf398ff26271f5cf5e/repoze.lru-0.7-py3-none-any.whl\n",
            "Building wheels for collected packages: textstat\n",
            "  Running setup.py bdist_wheel for textstat ... \u001b[?25l-\b \bdone\n",
            "\u001b[?25h  Stored in directory: /root/.cache/pip/wheels/04/ac/d7/a05c0ad7825899f11eacd5f9a5a78534808c8159281e65863c\n",
            "Successfully built textstat\n",
            "Installing collected packages: pyphen, repoze.lru, textstat\n",
            "Successfully installed pyphen-0.9.5 repoze.lru-0.7 textstat-0.5.4\n"
          ],
          "name": "stdout"
        }
      ]
    },
    {
      "metadata": {
        "id": "mY_M_MuaBFrF",
        "colab_type": "code",
        "colab": {}
      },
      "cell_type": "code",
      "source": [
        "import textstat"
      ],
      "execution_count": 0,
      "outputs": []
    },
    {
      "metadata": {
        "id": "m2lNzENVphnY",
        "colab_type": "code",
        "colab": {}
      },
      "cell_type": "code",
      "source": [
        "df['title word count'] = df.title.apply(textstat.lexicon_count)"
      ],
      "execution_count": 0,
      "outputs": []
    },
    {
      "metadata": {
        "id": "Uy-7inbBp2i7",
        "colab_type": "code",
        "outputId": "fe706cfa-c527-48b4-b222-15bbd163d76c",
        "colab": {
          "base_uri": "https://localhost:8080/",
          "height": 235
        }
      },
      "cell_type": "code",
      "source": [
        "df[df['title word count'] <= 3]"
      ],
      "execution_count": 21,
      "outputs": [
        {
          "output_type": "execute_result",
          "data": {
            "text/html": [
              "<div>\n",
              "<style scoped>\n",
              "    .dataframe tbody tr th:only-of-type {\n",
              "        vertical-align: middle;\n",
              "    }\n",
              "\n",
              "    .dataframe tbody tr th {\n",
              "        vertical-align: top;\n",
              "    }\n",
              "\n",
              "    .dataframe thead th {\n",
              "        text-align: right;\n",
              "    }\n",
              "</style>\n",
              "<table border=\"1\" class=\"dataframe\">\n",
              "  <thead>\n",
              "    <tr style=\"text-align: right;\">\n",
              "      <th></th>\n",
              "      <th>title</th>\n",
              "      <th>title length</th>\n",
              "      <th>long title</th>\n",
              "      <th>first letter</th>\n",
              "      <th>title word count</th>\n",
              "    </tr>\n",
              "  </thead>\n",
              "  <tbody>\n",
              "    <tr>\n",
              "      <th>6</th>\n",
              "      <td>Automating Code Quality</td>\n",
              "      <td>23</td>\n",
              "      <td>False</td>\n",
              "      <td>A</td>\n",
              "      <td>3</td>\n",
              "    </tr>\n",
              "    <tr>\n",
              "      <th>8</th>\n",
              "      <td>Behavior-Driven Python</td>\n",
              "      <td>22</td>\n",
              "      <td>False</td>\n",
              "      <td>B</td>\n",
              "      <td>2</td>\n",
              "    </tr>\n",
              "    <tr>\n",
              "      <th>21</th>\n",
              "      <td>Coding through Adversity</td>\n",
              "      <td>24</td>\n",
              "      <td>False</td>\n",
              "      <td>C</td>\n",
              "      <td>3</td>\n",
              "    </tr>\n",
              "    <tr>\n",
              "      <th>52</th>\n",
              "      <td>Love your bugs</td>\n",
              "      <td>14</td>\n",
              "      <td>False</td>\n",
              "      <td>L</td>\n",
              "      <td>3</td>\n",
              "    </tr>\n",
              "    <tr>\n",
              "      <th>57</th>\n",
              "      <td>Practical Sphinx</td>\n",
              "      <td>16</td>\n",
              "      <td>False</td>\n",
              "      <td>P</td>\n",
              "      <td>2</td>\n",
              "    </tr>\n",
              "    <tr>\n",
              "      <th>76</th>\n",
              "      <td>Taking Django Async</td>\n",
              "      <td>19</td>\n",
              "      <td>False</td>\n",
              "      <td>T</td>\n",
              "      <td>3</td>\n",
              "    </tr>\n",
              "  </tbody>\n",
              "</table>\n",
              "</div>"
            ],
            "text/plain": [
              "                       title  title length  long title first letter  \\\n",
              "6    Automating Code Quality            23       False            A   \n",
              "8     Behavior-Driven Python            22       False            B   \n",
              "21  Coding through Adversity            24       False            C   \n",
              "52            Love your bugs            14       False            L   \n",
              "57          Practical Sphinx            16       False            P   \n",
              "76       Taking Django Async            19       False            T   \n",
              "\n",
              "    title word count  \n",
              "6                  3  \n",
              "8                  2  \n",
              "21                 3  \n",
              "52                 3  \n",
              "57                 2  \n",
              "76                 3  "
            ]
          },
          "metadata": {
            "tags": []
          },
          "execution_count": 21
        }
      ]
    },
    {
      "metadata": {
        "id": "UN_7FABhwDqc",
        "colab_type": "text"
      },
      "cell_type": "markdown",
      "source": [
        "## Rename column\n",
        "\n",
        "`title length` --> `title character count`\n",
        "\n",
        "pandas documentation: [rename](https://pandas.pydata.org/pandas-docs/stable/generated/pandas.DataFrame.rename.html)"
      ]
    },
    {
      "metadata": {
        "id": "jvTif7sBBMpN",
        "colab_type": "code",
        "colab": {}
      },
      "cell_type": "code",
      "source": [
        "df = df.rename(columns={'title length': 'title character count'})"
      ],
      "execution_count": 0,
      "outputs": []
    },
    {
      "metadata": {
        "id": "ca2pDtytr5tR",
        "colab_type": "text"
      },
      "cell_type": "markdown",
      "source": [
        "## Analyze the dataframe"
      ]
    },
    {
      "metadata": {
        "id": "AitNVDCFwWwc",
        "colab_type": "text"
      },
      "cell_type": "markdown",
      "source": [
        "### Describe\n",
        "\n",
        "pandas documentation: [describe](https://pandas.pydata.org/pandas-docs/stable/generated/pandas.DataFrame.describe.html)"
      ]
    },
    {
      "metadata": {
        "id": "yPo9RdxYBQ64",
        "colab_type": "code",
        "outputId": "140ea007-e956-44e4-eb22-9172fd2b1fdc",
        "colab": {
          "base_uri": "https://localhost:8080/",
          "height": 297
        }
      },
      "cell_type": "code",
      "source": [
        "df.describe()"
      ],
      "execution_count": 23,
      "outputs": [
        {
          "output_type": "execute_result",
          "data": {
            "text/html": [
              "<div>\n",
              "<style scoped>\n",
              "    .dataframe tbody tr th:only-of-type {\n",
              "        vertical-align: middle;\n",
              "    }\n",
              "\n",
              "    .dataframe tbody tr th {\n",
              "        vertical-align: top;\n",
              "    }\n",
              "\n",
              "    .dataframe thead th {\n",
              "        text-align: right;\n",
              "    }\n",
              "</style>\n",
              "<table border=\"1\" class=\"dataframe\">\n",
              "  <thead>\n",
              "    <tr style=\"text-align: right;\">\n",
              "      <th></th>\n",
              "      <th>title character count</th>\n",
              "      <th>title word count</th>\n",
              "    </tr>\n",
              "  </thead>\n",
              "  <tbody>\n",
              "    <tr>\n",
              "      <th>count</th>\n",
              "      <td>95.000000</td>\n",
              "      <td>95.000000</td>\n",
              "    </tr>\n",
              "    <tr>\n",
              "      <th>mean</th>\n",
              "      <td>46.442105</td>\n",
              "      <td>7.189474</td>\n",
              "    </tr>\n",
              "    <tr>\n",
              "      <th>std</th>\n",
              "      <td>17.560664</td>\n",
              "      <td>2.903757</td>\n",
              "    </tr>\n",
              "    <tr>\n",
              "      <th>min</th>\n",
              "      <td>14.000000</td>\n",
              "      <td>2.000000</td>\n",
              "    </tr>\n",
              "    <tr>\n",
              "      <th>25%</th>\n",
              "      <td>35.000000</td>\n",
              "      <td>5.000000</td>\n",
              "    </tr>\n",
              "    <tr>\n",
              "      <th>50%</th>\n",
              "      <td>45.000000</td>\n",
              "      <td>7.000000</td>\n",
              "    </tr>\n",
              "    <tr>\n",
              "      <th>75%</th>\n",
              "      <td>56.000000</td>\n",
              "      <td>9.000000</td>\n",
              "    </tr>\n",
              "    <tr>\n",
              "      <th>max</th>\n",
              "      <td>100.000000</td>\n",
              "      <td>19.000000</td>\n",
              "    </tr>\n",
              "  </tbody>\n",
              "</table>\n",
              "</div>"
            ],
            "text/plain": [
              "       title character count  title word count\n",
              "count              95.000000         95.000000\n",
              "mean               46.442105          7.189474\n",
              "std                17.560664          2.903757\n",
              "min                14.000000          2.000000\n",
              "25%                35.000000          5.000000\n",
              "50%                45.000000          7.000000\n",
              "75%                56.000000          9.000000\n",
              "max               100.000000         19.000000"
            ]
          },
          "metadata": {
            "tags": []
          },
          "execution_count": 23
        }
      ]
    },
    {
      "metadata": {
        "id": "M8831DjLrMCI",
        "colab_type": "code",
        "outputId": "9f282d53-95d0-4ae9-9dc7-58a2cd9109c5",
        "colab": {
          "base_uri": "https://localhost:8080/",
          "height": 173
        }
      },
      "cell_type": "code",
      "source": [
        "import numpy as np\n",
        "df.describe(exclude=np.number)"
      ],
      "execution_count": 24,
      "outputs": [
        {
          "output_type": "execute_result",
          "data": {
            "text/html": [
              "<div>\n",
              "<style scoped>\n",
              "    .dataframe tbody tr th:only-of-type {\n",
              "        vertical-align: middle;\n",
              "    }\n",
              "\n",
              "    .dataframe tbody tr th {\n",
              "        vertical-align: top;\n",
              "    }\n",
              "\n",
              "    .dataframe thead th {\n",
              "        text-align: right;\n",
              "    }\n",
              "</style>\n",
              "<table border=\"1\" class=\"dataframe\">\n",
              "  <thead>\n",
              "    <tr style=\"text-align: right;\">\n",
              "      <th></th>\n",
              "      <th>title</th>\n",
              "      <th>long title</th>\n",
              "      <th>first letter</th>\n",
              "    </tr>\n",
              "  </thead>\n",
              "  <tbody>\n",
              "    <tr>\n",
              "      <th>count</th>\n",
              "      <td>95</td>\n",
              "      <td>95</td>\n",
              "      <td>95</td>\n",
              "    </tr>\n",
              "    <tr>\n",
              "      <th>unique</th>\n",
              "      <td>95</td>\n",
              "      <td>2</td>\n",
              "      <td>21</td>\n",
              "    </tr>\n",
              "    <tr>\n",
              "      <th>top</th>\n",
              "      <td>Thinking Outside the GIL with AsyncIO and Multiprocessing</td>\n",
              "      <td>False</td>\n",
              "      <td>P</td>\n",
              "    </tr>\n",
              "    <tr>\n",
              "      <th>freq</th>\n",
              "      <td>1</td>\n",
              "      <td>90</td>\n",
              "      <td>12</td>\n",
              "    </tr>\n",
              "  </tbody>\n",
              "</table>\n",
              "</div>"
            ],
            "text/plain": [
              "                                                            title long title  \\\n",
              "count                                                          95         95   \n",
              "unique                                                         95          2   \n",
              "top     Thinking Outside the GIL with AsyncIO and Multiprocessing      False   \n",
              "freq                                                            1         90   \n",
              "\n",
              "       first letter  \n",
              "count            95  \n",
              "unique           21  \n",
              "top               P  \n",
              "freq             12  "
            ]
          },
          "metadata": {
            "tags": []
          },
          "execution_count": 24
        }
      ]
    },
    {
      "metadata": {
        "id": "T0lc_o-xyjZU",
        "colab_type": "text"
      },
      "cell_type": "markdown",
      "source": [
        "### Sort values\n",
        "\n",
        "pandas documentation: [sort_values](https://pandas.pydata.org/pandas-docs/stable/generated/pandas.DataFrame.sort_values.html)"
      ]
    },
    {
      "metadata": {
        "id": "kxE2swJ9-cG_",
        "colab_type": "text"
      },
      "cell_type": "markdown",
      "source": [
        "Five shortest titles, by character count"
      ]
    },
    {
      "metadata": {
        "id": "7t8DlpLhBVQa",
        "colab_type": "code",
        "outputId": "78ed9ff3-1e46-45ef-ae0e-c12907d89123",
        "colab": {
          "base_uri": "https://localhost:8080/",
          "height": 204
        }
      },
      "cell_type": "code",
      "source": [
        "df.sort_values(by='title character count').head(5)"
      ],
      "execution_count": 25,
      "outputs": [
        {
          "output_type": "execute_result",
          "data": {
            "text/html": [
              "<div>\n",
              "<style scoped>\n",
              "    .dataframe tbody tr th:only-of-type {\n",
              "        vertical-align: middle;\n",
              "    }\n",
              "\n",
              "    .dataframe tbody tr th {\n",
              "        vertical-align: top;\n",
              "    }\n",
              "\n",
              "    .dataframe thead th {\n",
              "        text-align: right;\n",
              "    }\n",
              "</style>\n",
              "<table border=\"1\" class=\"dataframe\">\n",
              "  <thead>\n",
              "    <tr style=\"text-align: right;\">\n",
              "      <th></th>\n",
              "      <th>title</th>\n",
              "      <th>title character count</th>\n",
              "      <th>long title</th>\n",
              "      <th>first letter</th>\n",
              "      <th>title word count</th>\n",
              "    </tr>\n",
              "  </thead>\n",
              "  <tbody>\n",
              "    <tr>\n",
              "      <th>52</th>\n",
              "      <td>Love your bugs</td>\n",
              "      <td>14</td>\n",
              "      <td>False</td>\n",
              "      <td>L</td>\n",
              "      <td>3</td>\n",
              "    </tr>\n",
              "    <tr>\n",
              "      <th>77</th>\n",
              "      <td>The AST and Me</td>\n",
              "      <td>14</td>\n",
              "      <td>False</td>\n",
              "      <td>T</td>\n",
              "      <td>4</td>\n",
              "    </tr>\n",
              "    <tr>\n",
              "      <th>57</th>\n",
              "      <td>Practical Sphinx</td>\n",
              "      <td>16</td>\n",
              "      <td>False</td>\n",
              "      <td>P</td>\n",
              "      <td>2</td>\n",
              "    </tr>\n",
              "    <tr>\n",
              "      <th>76</th>\n",
              "      <td>Taking Django Async</td>\n",
              "      <td>19</td>\n",
              "      <td>False</td>\n",
              "      <td>T</td>\n",
              "      <td>3</td>\n",
              "    </tr>\n",
              "    <tr>\n",
              "      <th>44</th>\n",
              "      <td>HOWTO Write a Function</td>\n",
              "      <td>22</td>\n",
              "      <td>False</td>\n",
              "      <td>H</td>\n",
              "      <td>4</td>\n",
              "    </tr>\n",
              "  </tbody>\n",
              "</table>\n",
              "</div>"
            ],
            "text/plain": [
              "                     title  title character count  long title first letter  \\\n",
              "52          Love your bugs                     14       False            L   \n",
              "77          The AST and Me                     14       False            T   \n",
              "57        Practical Sphinx                     16       False            P   \n",
              "76     Taking Django Async                     19       False            T   \n",
              "44  HOWTO Write a Function                     22       False            H   \n",
              "\n",
              "    title word count  \n",
              "52                 3  \n",
              "77                 4  \n",
              "57                 2  \n",
              "76                 3  \n",
              "44                 4  "
            ]
          },
          "metadata": {
            "tags": []
          },
          "execution_count": 25
        }
      ]
    },
    {
      "metadata": {
        "id": "NOEH4Ef5-kvo",
        "colab_type": "text"
      },
      "cell_type": "markdown",
      "source": [
        "Titles sorted reverse alphabetically"
      ]
    },
    {
      "metadata": {
        "id": "pvlQYtaTsAht",
        "colab_type": "code",
        "colab": {}
      },
      "cell_type": "code",
      "source": [
        "df['first letter'] = df['first letter'].str.upper()"
      ],
      "execution_count": 0,
      "outputs": []
    },
    {
      "metadata": {
        "id": "WkymeWDjBV8X",
        "colab_type": "code",
        "outputId": "9ac8045c-d64d-49c3-c87c-9008be63a86c",
        "colab": {
          "base_uri": "https://localhost:8080/",
          "height": 204
        }
      },
      "cell_type": "code",
      "source": [
        "df.sort_values(by='first letter', ascending=False).head()"
      ],
      "execution_count": 27,
      "outputs": [
        {
          "output_type": "execute_result",
          "data": {
            "text/html": [
              "<div>\n",
              "<style scoped>\n",
              "    .dataframe tbody tr th:only-of-type {\n",
              "        vertical-align: middle;\n",
              "    }\n",
              "\n",
              "    .dataframe tbody tr th {\n",
              "        vertical-align: top;\n",
              "    }\n",
              "\n",
              "    .dataframe thead th {\n",
              "        text-align: right;\n",
              "    }\n",
              "</style>\n",
              "<table border=\"1\" class=\"dataframe\">\n",
              "  <thead>\n",
              "    <tr style=\"text-align: right;\">\n",
              "      <th></th>\n",
              "      <th>title</th>\n",
              "      <th>title character count</th>\n",
              "      <th>long title</th>\n",
              "      <th>first letter</th>\n",
              "      <th>title word count</th>\n",
              "    </tr>\n",
              "  </thead>\n",
              "  <tbody>\n",
              "    <tr>\n",
              "      <th>94</th>\n",
              "      <td>You're an expert. Here's how to teach like one.</td>\n",
              "      <td>47</td>\n",
              "      <td>False</td>\n",
              "      <td>Y</td>\n",
              "      <td>9</td>\n",
              "    </tr>\n",
              "    <tr>\n",
              "      <th>93</th>\n",
              "      <td>Win back lovely API: GraphQL in Python</td>\n",
              "      <td>38</td>\n",
              "      <td>False</td>\n",
              "      <td>W</td>\n",
              "      <td>7</td>\n",
              "    </tr>\n",
              "    <tr>\n",
              "      <th>91</th>\n",
              "      <td>What is a Python Core Developer?</td>\n",
              "      <td>32</td>\n",
              "      <td>False</td>\n",
              "      <td>W</td>\n",
              "      <td>6</td>\n",
              "    </tr>\n",
              "    <tr>\n",
              "      <th>90</th>\n",
              "      <td>Visual Testing with PyCharm and pytest</td>\n",
              "      <td>38</td>\n",
              "      <td>False</td>\n",
              "      <td>V</td>\n",
              "      <td>6</td>\n",
              "    </tr>\n",
              "    <tr>\n",
              "      <th>89</th>\n",
              "      <td>Visualizing Algorithms with Python and Programmable LEDs</td>\n",
              "      <td>56</td>\n",
              "      <td>False</td>\n",
              "      <td>V</td>\n",
              "      <td>7</td>\n",
              "    </tr>\n",
              "  </tbody>\n",
              "</table>\n",
              "</div>"
            ],
            "text/plain": [
              "                                                       title  \\\n",
              "94           You're an expert. Here's how to teach like one.   \n",
              "93                    Win back lovely API: GraphQL in Python   \n",
              "91                          What is a Python Core Developer?   \n",
              "90                    Visual Testing with PyCharm and pytest   \n",
              "89  Visualizing Algorithms with Python and Programmable LEDs   \n",
              "\n",
              "    title character count  long title first letter  title word count  \n",
              "94                     47       False            Y                 9  \n",
              "93                     38       False            W                 7  \n",
              "91                     32       False            W                 6  \n",
              "90                     38       False            V                 6  \n",
              "89                     56       False            V                 7  "
            ]
          },
          "metadata": {
            "tags": []
          },
          "execution_count": 27
        }
      ]
    },
    {
      "metadata": {
        "id": "e4wr42FB0GV-",
        "colab_type": "text"
      },
      "cell_type": "markdown",
      "source": [
        "### Get value counts\n",
        "\n",
        "pandas documentation: [value_counts](https://pandas.pydata.org/pandas-docs/stable/generated/pandas.Series.value_counts.html)\n"
      ]
    },
    {
      "metadata": {
        "id": "D81LNGaI-6ya",
        "colab_type": "text"
      },
      "cell_type": "markdown",
      "source": [
        "Frequency counts of first letters"
      ]
    },
    {
      "metadata": {
        "id": "AdTQYsRKBZio",
        "colab_type": "code",
        "outputId": "aa684cc9-bc25-43d5-f343-ecc8685d960c",
        "colab": {
          "base_uri": "https://localhost:8080/",
          "height": 374
        }
      },
      "cell_type": "code",
      "source": [
        "df['first letter'].value_counts()"
      ],
      "execution_count": 28,
      "outputs": [
        {
          "output_type": "execute_result",
          "data": {
            "text/plain": [
              "P    12\n",
              "B    11\n",
              "T    11\n",
              "C     8\n",
              "D     7\n",
              "A     7\n",
              "S     6\n",
              "E     5\n",
              "H     5\n",
              "R     3\n",
              "F     3\n",
              "L     3\n",
              "V     2\n",
              "G     2\n",
              "I     2\n",
              "U     2\n",
              "W     2\n",
              "O     2\n",
              "\"     1\n",
              "Y     1\n",
              "Name: first letter, dtype: int64"
            ]
          },
          "metadata": {
            "tags": []
          },
          "execution_count": 28
        }
      ]
    },
    {
      "metadata": {
        "id": "04NVokvTAwqK",
        "colab_type": "text"
      },
      "cell_type": "markdown",
      "source": [
        "Percentage of talks with long titles"
      ]
    },
    {
      "metadata": {
        "id": "c7VYn1s9s3Ph",
        "colab_type": "code",
        "outputId": "11712d83-7c28-4016-cfc4-6b26bb1ed673",
        "colab": {
          "base_uri": "https://localhost:8080/",
          "height": 68
        }
      },
      "cell_type": "code",
      "source": [
        "df['long title'].value_counts(normalize=True)"
      ],
      "execution_count": 29,
      "outputs": [
        {
          "output_type": "execute_result",
          "data": {
            "text/plain": [
              "False    0.947368\n",
              "True     0.052632\n",
              "Name: long title, dtype: float64"
            ]
          },
          "metadata": {
            "tags": []
          },
          "execution_count": 29
        }
      ]
    },
    {
      "metadata": {
        "id": "mmYZL2QL0lgd",
        "colab_type": "text"
      },
      "cell_type": "markdown",
      "source": [
        "### Plot\n",
        "\n",
        "pandas documentation: [Visualization](https://pandas.pydata.org/pandas-docs/stable/visualization.html)\n",
        "\n",
        "\n",
        "\n"
      ]
    },
    {
      "metadata": {
        "id": "c6gCotA9_B68",
        "colab_type": "text"
      },
      "cell_type": "markdown",
      "source": [
        "Top 5 most frequent first letters"
      ]
    },
    {
      "metadata": {
        "id": "DUmcVcdXBdkw",
        "colab_type": "code",
        "outputId": "e370db2b-e5d0-44fe-dbe0-56c7f02414c1",
        "colab": {
          "base_uri": "https://localhost:8080/",
          "height": 280
        }
      },
      "cell_type": "code",
      "source": [
        "%matplotlib inline\n",
        "\n",
        "(df['first letter']\n",
        " .value_counts()\n",
        " .head(5)\n",
        " .plot\n",
        " .barh(color='grey', \n",
        "       title='Top 5 most frequent first letters, PyCon 2018 talks'));"
      ],
      "execution_count": 30,
      "outputs": [
        {
          "output_type": "display_data",
          "data": {
            "image/png": "[encoded data removed]",
            "text/plain": [
              "<matplotlib.figure.Figure at 0x7feede025240>"
            ]
          },
          "metadata": {
            "tags": []
          }
        }
      ]
    },
    {
      "metadata": {
        "id": "_Ngegk0bASty",
        "colab_type": "text"
      },
      "cell_type": "markdown",
      "source": [
        "Histogram of title lengths, in characters"
      ]
    },
    {
      "metadata": {
        "id": "y5oLu2D4BeKw",
        "colab_type": "code",
        "outputId": "b7cbc686-b068-4a2f-9edd-04c9c91c0c1a",
        "colab": {
          "base_uri": "https://localhost:8080/",
          "height": 280
        }
      },
      "cell_type": "code",
      "source": [
        "title = 'Distribution of title length, in characters'\n",
        "df['title character count'].plot.hist(title=title);"
      ],
      "execution_count": 31,
      "outputs": [
        {
          "output_type": "display_data",
          "data": {
            "image/png": "[encoded data removed]",
            "text/plain": [
              "<matplotlib.figure.Figure at 0x7feedccfa320>"
            ]
          },
          "metadata": {
            "tags": []
          }
        }
      ]
    },
    {
      "metadata": {
        "id": "DiylH7LQw44u",
        "colab_type": "text"
      },
      "cell_type": "markdown",
      "source": [
        "# Assignment\n",
        "\n",
        "**Scrape** the talk descriptions. Hint: `soup.select('.presentation-description')`\n",
        "\n",
        "**Make** new columns in the dataframe:\n",
        "- description\n",
        "- description character count\n",
        "- description word count\n",
        "- description grade level (use [this `textstat` function](https://github.com/shivam5992/textstat#the-flesch-kincaid-grade-level) to get the Flesh-Kincaid grade level)\n",
        "\n",
        "**Describe** all the dataframe's columns. What's the average description word count? The minimum? The maximum?\n",
        "\n",
        "**Answer** these questions:\n",
        "- Which descriptions could fit in a tweet?\n",
        "- What's the distribution of grade levels? Plot a histogram.\n",
        "\n"
      ]
    },
    {
      "metadata": {
        "id": "c04RhVqICBt2",
        "colab_type": "code",
        "colab": {}
      },
      "cell_type": "code",
      "source": [
        "# Scrape descriptions\n",
        "\n",
        "d = [tag.text.strip() \n",
        "          for tag in soup.select('.presentation-description')]"
      ],
      "execution_count": 0,
      "outputs": []
    },
    {
      "metadata": {
        "id": "3xHN7V-WCGpC",
        "colab_type": "code",
        "colab": {}
      },
      "cell_type": "code",
      "source": [
        "# New columns\n",
        "\n",
        "df['description'] = [i for i in d]\n",
        "df['desc_char_count'] = df.description.apply(len)\n",
        "df['desc_word_count'] = df.description.apply(textstat.lexicon_count)\n",
        "df['desc_grade_level'] = df.description.apply(textstat.flesch_kincaid_grade)"
      ],
      "execution_count": 0,
      "outputs": []
    },
    {
      "metadata": {
        "id": "JaIdtQb0CiI2",
        "colab_type": "code",
        "colab": {
          "base_uri": "https://localhost:8080/",
          "height": 297
        },
        "outputId": "b3106cf3-dfcb-47eb-d08d-08580747b048"
      },
      "cell_type": "code",
      "source": [
        "# Description of data\n",
        "# Average description word count is 134\n",
        "# Min is 35 words, max is 436 words\n",
        " "
      ],
      "execution_count": 60,
      "outputs": [
        {
          "output_type": "execute_result",
          "data": {
            "text/html": [
              "<div>\n",
              "<style scoped>\n",
              "    .dataframe tbody tr th:only-of-type {\n",
              "        vertical-align: middle;\n",
              "    }\n",
              "\n",
              "    .dataframe tbody tr th {\n",
              "        vertical-align: top;\n",
              "    }\n",
              "\n",
              "    .dataframe thead th {\n",
              "        text-align: right;\n",
              "    }\n",
              "</style>\n",
              "<table border=\"1\" class=\"dataframe\">\n",
              "  <thead>\n",
              "    <tr style=\"text-align: right;\">\n",
              "      <th></th>\n",
              "      <th>title character count</th>\n",
              "      <th>title word count</th>\n",
              "      <th>desc_char_count</th>\n",
              "      <th>desc_word_count</th>\n",
              "      <th>desc_grade_level</th>\n",
              "    </tr>\n",
              "  </thead>\n",
              "  <tbody>\n",
              "    <tr>\n",
              "      <th>count</th>\n",
              "      <td>95.000000</td>\n",
              "      <td>95.000000</td>\n",
              "      <td>95.000000</td>\n",
              "      <td>95.000000</td>\n",
              "      <td>95.000000</td>\n",
              "    </tr>\n",
              "    <tr>\n",
              "      <th>mean</th>\n",
              "      <td>46.442105</td>\n",
              "      <td>7.189474</td>\n",
              "      <td>846.063158</td>\n",
              "      <td>134.578947</td>\n",
              "      <td>18.117895</td>\n",
              "    </tr>\n",
              "    <tr>\n",
              "      <th>std</th>\n",
              "      <td>17.560664</td>\n",
              "      <td>2.903757</td>\n",
              "      <td>450.107713</td>\n",
              "      <td>70.019082</td>\n",
              "      <td>15.835652</td>\n",
              "    </tr>\n",
              "    <tr>\n",
              "      <th>min</th>\n",
              "      <td>14.000000</td>\n",
              "      <td>2.000000</td>\n",
              "      <td>201.000000</td>\n",
              "      <td>35.000000</td>\n",
              "      <td>3.700000</td>\n",
              "    </tr>\n",
              "    <tr>\n",
              "      <th>25%</th>\n",
              "      <td>35.000000</td>\n",
              "      <td>5.000000</td>\n",
              "      <td>550.000000</td>\n",
              "      <td>91.500000</td>\n",
              "      <td>10.500000</td>\n",
              "    </tr>\n",
              "    <tr>\n",
              "      <th>50%</th>\n",
              "      <td>45.000000</td>\n",
              "      <td>7.000000</td>\n",
              "      <td>758.000000</td>\n",
              "      <td>119.000000</td>\n",
              "      <td>13.800000</td>\n",
              "    </tr>\n",
              "    <tr>\n",
              "      <th>75%</th>\n",
              "      <td>56.000000</td>\n",
              "      <td>9.000000</td>\n",
              "      <td>978.000000</td>\n",
              "      <td>149.500000</td>\n",
              "      <td>17.950000</td>\n",
              "    </tr>\n",
              "    <tr>\n",
              "      <th>max</th>\n",
              "      <td>100.000000</td>\n",
              "      <td>19.000000</td>\n",
              "      <td>2794.000000</td>\n",
              "      <td>436.000000</td>\n",
              "      <td>107.800000</td>\n",
              "    </tr>\n",
              "  </tbody>\n",
              "</table>\n",
              "</div>"
            ],
            "text/plain": [
              "       title character count  title word count  desc_char_count  \\\n",
              "count              95.000000         95.000000        95.000000   \n",
              "mean               46.442105          7.189474       846.063158   \n",
              "std                17.560664          2.903757       450.107713   \n",
              "min                14.000000          2.000000       201.000000   \n",
              "25%                35.000000          5.000000       550.000000   \n",
              "50%                45.000000          7.000000       758.000000   \n",
              "75%                56.000000          9.000000       978.000000   \n",
              "max               100.000000         19.000000      2794.000000   \n",
              "\n",
              "       desc_word_count  desc_grade_level  \n",
              "count        95.000000         95.000000  \n",
              "mean        134.578947         18.117895  \n",
              "std          70.019082         15.835652  \n",
              "min          35.000000          3.700000  \n",
              "25%          91.500000         10.500000  \n",
              "50%         119.000000         13.800000  \n",
              "75%         149.500000         17.950000  \n",
              "max         436.000000        107.800000  "
            ]
          },
          "metadata": {
            "tags": []
          },
          "execution_count": 60
        }
      ]
    },
    {
      "metadata": {
        "id": "xFPEfFloMeVW",
        "colab_type": "code",
        "colab": {
          "base_uri": "https://localhost:8080/",
          "height": 105
        },
        "outputId": "9bfb0950-3605-4c3e-c352-3a7febe26fda"
      },
      "cell_type": "code",
      "source": [
        "# Which descriptions could fit in a Tweet?\n",
        "\n",
        "# New boolean value column will tell us... \n",
        "\n",
        "df['desc_could_fit_intweet'] = df['desc_char_count'] <= 280\n",
        "\n",
        "df['description'][df['desc_could_fit_intweet'] == True]"
      ],
      "execution_count": 67,
      "outputs": [
        {
          "output_type": "execute_result",
          "data": {
            "text/plain": [
              "44    A function is a small chunk of code that does useful work. Your job when writing a function is to do it in a way that it easy to read. Based on over 15 years of code reviews here are some tips and...\n",
              "62    For 2 years, a family of three has traveled on a converted school bus from conference to conference, building tooling for the road in Python and visiting Python families in every corner of the cou...\n",
              "65    Python 3 removes a lot of the confusion around Unicode handling in Python, but that by no means fixes everything. Different locales and writing systems have unique behaviours that can trip you up....\n",
              "Name: description, dtype: object"
            ]
          },
          "metadata": {
            "tags": []
          },
          "execution_count": 67
        }
      ]
    },
    {
      "metadata": {
        "id": "FDrD-A3QR1tl",
        "colab_type": "code",
        "colab": {
          "base_uri": "https://localhost:8080/",
          "height": 280
        },
        "outputId": "ca2dfcd1-590b-48c2-b2d7-eaa2b7ff9a32"
      },
      "cell_type": "code",
      "source": [
        "# Distribution of grade levels plot\n",
        "\n",
        "title = 'Distribution of grade levels'\n",
        "df['desc_grade_level'].plot.hist(title=title);"
      ],
      "execution_count": 81,
      "outputs": [
        {
          "output_type": "display_data",
          "data": {
            "image/png": "[encoded data removed]",
            "text/plain": [
              "<matplotlib.figure.Figure at 0x7feed88f4be0>"
            ]
          },
          "metadata": {
            "tags": []
          }
        }
      ]
    },
    {
      "metadata": {
        "id": "jsbcyoosY8xn",
        "colab_type": "code",
        "colab": {}
      },
      "cell_type": "code",
      "source": [
        ""
      ],
      "execution_count": 0,
      "outputs": []
    }
  ]
}