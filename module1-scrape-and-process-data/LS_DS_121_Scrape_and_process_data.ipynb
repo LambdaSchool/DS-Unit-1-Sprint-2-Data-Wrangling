{
  "nbformat": 4,
  "nbformat_minor": 0,
  "metadata": {
    "colab": {
      "name": "LS_DS_121_Scrape_and_process_data.ipynb",
      "version": "0.3.2",
      "provenance": [],
      "collapsed_sections": [],
      "include_colab_link": true
    },
    "kernelspec": {
      "name": "python3",
      "display_name": "Python 3"
    }
  },
  "cells": [
    {
      "cell_type": "markdown",
      "metadata": {
        "id": "view-in-github",
        "colab_type": "text"
      },
      "source": [
        "<a href=\"https://colab.research.google.com/github/trista-paul/DS-Unit-1-Sprint-2-Data-Wrangling/blob/master/module1-scrape-and-process-data/LS_DS_121_Scrape_and_process_data.ipynb\" target=\"_parent\"><img src=\"https://colab.research.google.com/assets/colab-badge.svg\" alt=\"Open In Colab\"/></a>"
      ]
    },
    {
      "metadata": {
        "id": "oR4Yeg3P07gu",
        "colab_type": "text"
      },
      "cell_type": "markdown",
      "source": [
        "_Lambda School Data Science_\n",
        "\n",
        "# Scrape and process data\n",
        "\n",
        "Objectives\n",
        "- scrape and parse web pages\n",
        "- use list comprehensions\n",
        "- select rows and columns with pandas\n",
        "\n",
        "Links\n",
        "-  [Automate the Boring Stuff with Python, Chapter 11](https://automatetheboringstuff.com/chapter11/)\n",
        "  - Requests\n",
        "  - Beautiful Soup\n",
        "- [Python List Comprehensions: Explained Visually](https://treyhunner.com/2015/12/python-list-comprehensions-now-in-color/)\n",
        "- [Pandas Cheat Sheet](https://github.com/pandas-dev/pandas/blob/master/doc/cheatsheet/Pandas_Cheat_Sheet.pdf)\n",
        "  - Subset Observations (Rows)\n",
        "  - Subset Variables (Columns)\n",
        "- Python Data Science Handbook\n",
        "  - [Chapter 3.1](https://jakevdp.github.io/PythonDataScienceHandbook/03.01-introducing-pandas-objects.html), Introducing Pandas Objects\n",
        "  - [Chapter 3.2](https://jakevdp.github.io/PythonDataScienceHandbook/03.02-data-indexing-and-selection.html), Data Indexing and Selection\n"
      ]
    },
    {
      "metadata": {
        "id": "I_NRVchqgGvM",
        "colab_type": "text"
      },
      "cell_type": "markdown",
      "source": [
        "## Scrape the titles of PyCon 2018 talks"
      ]
    },
    {
      "metadata": {
        "id": "3elw_8Nc7Tpe",
        "colab_type": "code",
        "colab": {
          "base_uri": "https://localhost:8080/",
          "height": 34
        },
        "outputId": "c3721d2f-0adb-4af1-8e15-1f85ed00da64"
      },
      "cell_type": "code",
      "source": [
        "url = 'https://us.pycon.org/2018/schedule/talks/list/'\n",
        "import bs4\n",
        "import requests\n",
        "result = requests.get(url)\n",
        "type(result.text) #confirms str"
      ],
      "execution_count": 175,
      "outputs": [
        {
          "output_type": "execute_result",
          "data": {
            "text/plain": [
              "str"
            ]
          },
          "metadata": {
            "tags": []
          },
          "execution_count": 175
        }
      ]
    },
    {
      "metadata": {
        "id": "SFNsyjVsTU4b",
        "colab_type": "code",
        "colab": {
          "base_uri": "https://localhost:8080/",
          "height": 34
        },
        "outputId": "5dc9b23b-b69a-49ef-8ab7-b80c3bd473db"
      },
      "cell_type": "code",
      "source": [
        "result #successful"
      ],
      "execution_count": 176,
      "outputs": [
        {
          "output_type": "execute_result",
          "data": {
            "text/plain": [
              "<Response [200]>"
            ]
          },
          "metadata": {
            "tags": []
          },
          "execution_count": 176
        }
      ]
    },
    {
      "metadata": {
        "id": "6nTZRoNZXPe2",
        "colab_type": "code",
        "colab": {
          "base_uri": "https://localhost:8080/",
          "height": 34
        },
        "outputId": "ebebac1a-074c-415e-f1fd-5cb5e394fe8c"
      },
      "cell_type": "code",
      "source": [
        "type(result)"
      ],
      "execution_count": 177,
      "outputs": [
        {
          "output_type": "execute_result",
          "data": {
            "text/plain": [
              "requests.models.Response"
            ]
          },
          "metadata": {
            "tags": []
          },
          "execution_count": 177
        }
      ]
    },
    {
      "metadata": {
        "id": "1bWUmYO_Xka3",
        "colab_type": "code",
        "colab": {
          "base_uri": "https://localhost:8080/",
          "height": 34
        },
        "outputId": "92125d3e-29e8-4b46-98f4-d2b63ef2b5d2"
      },
      "cell_type": "code",
      "source": [
        "type(result.text) #confirms str"
      ],
      "execution_count": 178,
      "outputs": [
        {
          "output_type": "execute_result",
          "data": {
            "text/plain": [
              "str"
            ]
          },
          "metadata": {
            "tags": []
          },
          "execution_count": 178
        }
      ]
    },
    {
      "metadata": {
        "id": "hrK8i8-fX8yS",
        "colab_type": "code",
        "colab": {
          "base_uri": "https://localhost:8080/",
          "height": 6418
        },
        "outputId": "d8413581-43bc-497c-eedd-13966eef8219"
      },
      "cell_type": "code",
      "source": [
        "soup = bs4.BeautifulSoup(result.text)\n",
        "soup.select('h2')\n",
        "#print(soup) #dont do this"
      ],
      "execution_count": 179,
      "outputs": [
        {
          "output_type": "execute_result",
          "data": {
            "text/plain": [
              "[<h2>\n",
              " <a href=\"/2018/schedule/presentation/127/\" id=\"presentation-127\">\n",
              "         A Bit about Bytes: Understanding Python Bytecode\n",
              "       </a>\n",
              " </h2>, <h2>\n",
              " <a href=\"/2018/schedule/presentation/81/\" id=\"presentation-81\">\n",
              "         Adapting from Spark to Dask: what to expect\n",
              "       </a>\n",
              " </h2>, <h2>\n",
              " <a href=\"/2018/schedule/presentation/152/\" id=\"presentation-152\">\n",
              "         All in the timing: How side channel attacks work\n",
              "       </a>\n",
              " </h2>, <h2>\n",
              " <a href=\"/2018/schedule/presentation/84/\" id=\"presentation-84\">\n",
              "         Analyzing Data: What pandas and SQL Taught Me About Taking an Average\n",
              "       </a>\n",
              " </h2>, <h2>\n",
              " <a href=\"/2018/schedule/presentation/96/\" id=\"presentation-96\">\n",
              "         A practical guide to Singular Value Decomposition in Python\n",
              "       </a>\n",
              " </h2>, <h2>\n",
              " <a href=\"/2018/schedule/presentation/71/\" id=\"presentation-71\">\n",
              "         Augmenting Human Decision Making with Data Science\n",
              "       </a>\n",
              " </h2>, <h2>\n",
              " <a href=\"/2018/schedule/presentation/159/\" id=\"presentation-159\">\n",
              "         Automating Code Quality\n",
              "       </a>\n",
              " </h2>, <h2>\n",
              " <a href=\"/2018/schedule/presentation/122/\" id=\"presentation-122\">\n",
              "          Bayesian Non-parametric Models for Data Science using PyMC3\n",
              "       </a>\n",
              " </h2>, <h2>\n",
              " <a href=\"/2018/schedule/presentation/87/\" id=\"presentation-87\">\n",
              "         Behavior-Driven Python\n",
              "       </a>\n",
              " </h2>, <h2>\n",
              " <a href=\"/2018/schedule/presentation/145/\" id=\"presentation-145\">\n",
              "         Beyond scraping: how to use machine learning when you're not sure where to start\n",
              "       </a>\n",
              " </h2>, <h2>\n",
              " <a href=\"/2018/schedule/presentation/130/\" id=\"presentation-130\">\n",
              "         Beyond Unit Tests: Taking Your Testing to the Next Level\n",
              "       </a>\n",
              " </h2>, <h2>\n",
              " <a href=\"/2018/schedule/presentation/139/\" id=\"presentation-139\">\n",
              "         Big-O: How Code Slows as Data Grows\n",
              "       </a>\n",
              " </h2>, <h2>\n",
              " <a href=\"/2018/schedule/presentation/151/\" id=\"presentation-151\">\n",
              "         Birding with Python and Machine Learning\n",
              "       </a>\n",
              " </h2>, <h2>\n",
              " <a href=\"/2018/schedule/presentation/75/\" id=\"presentation-75\">\n",
              "         Bowerbirds of Technology: Architecture and Teams at Less-than-Google Scale\n",
              "       </a>\n",
              " </h2>, <h2>\n",
              " <a href=\"/2018/schedule/presentation/116/\" id=\"presentation-116\">\n",
              "         Building a cross-platform native app with BeeWare\n",
              "       </a>\n",
              " </h2>, <h2>\n",
              " <a href=\"/2018/schedule/presentation/161/\" id=\"presentation-161\">\n",
              "         Building a Data Pipeline with Testing in Mind\n",
              "       </a>\n",
              " </h2>, <h2>\n",
              " <a href=\"/2018/schedule/presentation/165/\" id=\"presentation-165\">\n",
              "         Build Teams as an Engineer\n",
              "       </a>\n",
              " </h2>, <h2>\n",
              " <a href=\"/2018/schedule/presentation/123/\" id=\"presentation-123\">\n",
              "         By the Numbers: Python Community Trends in 2017/2018\n",
              "       </a>\n",
              " </h2>, <h2>\n",
              " <a href=\"/2018/schedule/presentation/93/\" id=\"presentation-93\">\n",
              "         Clearer Code at Scale: Static Types at Zulip and Dropbox\n",
              "       </a>\n",
              " </h2>, <h2>\n",
              " <a href=\"/2018/schedule/presentation/105/\" id=\"presentation-105\">\n",
              "         Code like an accountant: Designing data systems for accuracy, resilience and auditability\n",
              "       </a>\n",
              " </h2>, <h2>\n",
              " <a href=\"/2018/schedule/presentation/149/\" id=\"presentation-149\">\n",
              "         Code Reviews Using Art Critique Principles\n",
              "       </a>\n",
              " </h2>, <h2>\n",
              " <a href=\"/2018/schedule/presentation/141/\" id=\"presentation-141\">\n",
              "         Coding through Adversity\n",
              "       </a>\n",
              " </h2>, <h2>\n",
              " <a href=\"/2018/schedule/presentation/144/\" id=\"presentation-144\">\n",
              "         Colossal Cave Adventure in Python... in the browser!\n",
              "       </a>\n",
              " </h2>, <h2>\n",
              " <a href=\"/2018/schedule/presentation/90/\" id=\"presentation-90\">\n",
              "         Controlling apples with snakes: Automating mobile apps with Appium\n",
              "       </a>\n",
              " </h2>, <h2>\n",
              " <a href=\"/2018/schedule/presentation/133/\" id=\"presentation-133\">\n",
              "         Counter, Gauge, Upper 90 - Oh my!\n",
              "       </a>\n",
              " </h2>, <h2>\n",
              " <a href=\"/2018/schedule/presentation/119/\" id=\"presentation-119\">\n",
              "         CuPy: A NumPy-compatible Library for GPU\n",
              "       </a>\n",
              " </h2>, <h2>\n",
              " <a href=\"/2018/schedule/presentation/94/\" id=\"presentation-94\">\n",
              "         Dataclasses:  The code generator to end all code generators\n",
              "       </a>\n",
              " </h2>, <h2>\n",
              " <a href=\"/2018/schedule/presentation/134/\" id=\"presentation-134\">\n",
              "         Data Visualization in Mixed Reality with Python\n",
              "       </a>\n",
              " </h2>, <h2>\n",
              " <a href=\"/2018/schedule/presentation/97/\" id=\"presentation-97\">\n",
              "         Debugging PySpark -- Or trying to make sense of a JVM stack trace when you were minding your own bus\n",
              "       </a>\n",
              " </h2>, <h2>\n",
              " <a href=\"/2018/schedule/presentation/113/\" id=\"presentation-113\">\n",
              "         Deconstructing the US Patent Database\n",
              "       </a>\n",
              " </h2>, <h2>\n",
              " <a href=\"/2018/schedule/presentation/83/\" id=\"presentation-83\">\n",
              "         Democratizing Distributed Computing with Dask and JupyterHub\n",
              "       </a>\n",
              " </h2>, <h2>\n",
              " <a href=\"/2018/schedule/presentation/150/\" id=\"presentation-150\">\n",
              "         Demystifying the Patch Function  \n",
              "       </a>\n",
              " </h2>, <h2>\n",
              " <a href=\"/2018/schedule/presentation/125/\" id=\"presentation-125\">\n",
              "         Don't Look Back in Anger: Wildman Whitehouse and the Great Failure of 1858\n",
              "       </a>\n",
              " </h2>, <h2>\n",
              " <a href=\"/2018/schedule/presentation/100/\" id=\"presentation-100\">\n",
              "         Easy 2D Game Creation With Arcade\n",
              "       </a>\n",
              " </h2>, <h2>\n",
              " <a href=\"/2018/schedule/presentation/140/\" id=\"presentation-140\">\n",
              "         Efficient shared memory data structures\n",
              "       </a>\n",
              " </h2>, <h2>\n",
              " <a href=\"/2018/schedule/presentation/104/\" id=\"presentation-104\">\n",
              "         Effortless Logging: A deep dive into the logging module\n",
              "       </a>\n",
              " </h2>, <h2>\n",
              " <a href=\"/2018/schedule/presentation/164/\" id=\"presentation-164\">\n",
              "         Elegant Solutions For Everyday Python Problems\n",
              "       </a>\n",
              " </h2>, <h2>\n",
              " <a href=\"/2018/schedule/presentation/154/\" id=\"presentation-154\">\n",
              "         Exploring Deep Learning Framework PyTorch\n",
              "       </a>\n",
              " </h2>, <h2>\n",
              " <a href=\"/2018/schedule/presentation/110/\" id=\"presentation-110\">\n",
              "         Fighting Gerrymandering with PyMC3\n",
              "       </a>\n",
              " </h2>, <h2>\n",
              " <a href=\"/2018/schedule/presentation/117/\" id=\"presentation-117\">\n",
              "         Fighting the Good Fight: Python 3 in your organization\n",
              "       </a>\n",
              " </h2>, <h2>\n",
              " <a href=\"/2018/schedule/presentation/77/\" id=\"presentation-77\">\n",
              "         Flourishing FLOSS: Making Your Project Successful\n",
              "       </a>\n",
              " </h2>, <h2>\n",
              " <a href=\"/2018/schedule/presentation/162/\" id=\"presentation-162\">\n",
              "         Get your resources faster, with importlib.resources\n",
              "       </a>\n",
              " </h2>, <h2>\n",
              " <a href=\"/2018/schedule/presentation/124/\" id=\"presentation-124\">\n",
              "         Graph Databases: Talking about your Data Relationships with Python\n",
              "       </a>\n",
              " </h2>, <h2>\n",
              " <a href=\"/2018/schedule/presentation/95/\" id=\"presentation-95\">\n",
              "         How Netflix does failovers in 7 minutes flat\n",
              "       </a>\n",
              " </h2>, <h2>\n",
              " <a href=\"/2018/schedule/presentation/157/\" id=\"presentation-157\">\n",
              "         HOWTO Write a Function\n",
              "       </a>\n",
              " </h2>, <h2>\n",
              " <a href=\"/2018/schedule/presentation/70/\" id=\"presentation-70\">\n",
              "         How to Write Deployment-friendly Applications\n",
              "       </a>\n",
              " </h2>, <h2>\n",
              " <a href=\"/2018/schedule/presentation/135/\" id=\"presentation-135\">\n",
              "         How we designed an inclusivity-first conference on a shoestring budget and short timeline\n",
              "       </a>\n",
              " </h2>, <h2>\n",
              " <a href=\"/2018/schedule/presentation/79/\" id=\"presentation-79\">\n",
              "         How We Do Identity Wrong\n",
              "       </a>\n",
              " </h2>, <h2>\n",
              " <a href=\"/2018/schedule/presentation/126/\" id=\"presentation-126\">\n",
              "         import time_travel: A Primer on Timezones in Python\n",
              "       </a>\n",
              " </h2>, <h2>\n",
              " <a href=\"/2018/schedule/presentation/148/\" id=\"presentation-148\">\n",
              "         Inside the Cheeseshop: How Python Packaging Works\n",
              "       </a>\n",
              " </h2>, <h2>\n",
              " <a href=\"/2018/schedule/presentation/74/\" id=\"presentation-74\">\n",
              "         Learning From Failure: Post Mortems\n",
              "       </a>\n",
              " </h2>, <h2>\n",
              " <a href=\"/2018/schedule/presentation/132/\" id=\"presentation-132\">\n",
              "         Listen, Attend, and Walk : Interpreting natural language navigational instructions\n",
              "       </a>\n",
              " </h2>, <h2>\n",
              " <a href=\"/2018/schedule/presentation/156/\" id=\"presentation-156\">\n",
              "         Love your bugs\n",
              "       </a>\n",
              " </h2>, <h2>\n",
              " <a href=\"/2018/schedule/presentation/146/\" id=\"presentation-146\">\n",
              "         One weird trick to becoming a better software developer\n",
              "       </a>\n",
              " </h2>, <h2>\n",
              " <a href=\"/2018/schedule/presentation/98/\" id=\"presentation-98\">\n",
              "         Oops! I Committed My Password To GitHub!\n",
              "       </a>\n",
              " </h2>, <h2>\n",
              " <a href=\"/2018/schedule/presentation/112/\" id=\"presentation-112\">\n",
              "         Performance Python: Seven Strategies for Optimizing Your Numerical Code\n",
              "       </a>\n",
              " </h2>, <h2>\n",
              " <a href=\"/2018/schedule/presentation/243/\" id=\"presentation-243\">\n",
              "         Pipenv: The Future of Python Dependency Management\n",
              "       </a>\n",
              " </h2>, <h2>\n",
              " <a href=\"/2018/schedule/presentation/158/\" id=\"presentation-158\">\n",
              "         Practical Sphinx\n",
              "       </a>\n",
              " </h2>, <h2>\n",
              " <a href=\"/2018/schedule/presentation/242/\" id=\"presentation-242\">\n",
              "         Programming microbes using Python\n",
              "       </a>\n",
              " </h2>, <h2>\n",
              " <a href=\"/2018/schedule/presentation/82/\" id=\"presentation-82\">\n",
              "         Pumping up Python modules using Rust\n",
              "       </a>\n",
              " </h2>, <h2>\n",
              " <a href=\"/2018/schedule/presentation/120/\" id=\"presentation-120\">\n",
              "         Python 2 to 3: How to Upgrade and What Features to Start Using\n",
              "       </a>\n",
              " </h2>, <h2>\n",
              " <a href=\"/2018/schedule/presentation/86/\" id=\"presentation-86\">\n",
              "         Python 3: ten years later\n",
              "       </a>\n",
              " </h2>, <h2>\n",
              " <a href=\"/2018/schedule/presentation/160/\" id=\"presentation-160\">\n",
              "         Python across the USA: This is the Bus.\n",
              "       </a>\n",
              " </h2>, <h2>\n",
              " <a href=\"/2018/schedule/presentation/121/\" id=\"presentation-121\">\n",
              "         Python Data Sonification for Science and Discovery\n",
              "       </a>\n",
              " </h2>, <h2>\n",
              " <a href=\"/2018/schedule/presentation/147/\" id=\"presentation-147\">\n",
              "         Python for the quantum computing age\n",
              "       </a>\n",
              " </h2>, <h2>\n",
              " <a href=\"/2018/schedule/presentation/106/\" id=\"presentation-106\">\n",
              "         Python, Locales and Writing Systems\n",
              "       </a>\n",
              " </h2>, <h2>\n",
              " <a href=\"/2018/schedule/presentation/136/\" id=\"presentation-136\">\n",
              "         Python Performance Investigation by Example\n",
              "       </a>\n",
              " </h2>, <h2>\n",
              " <a href=\"/2018/schedule/presentation/137/\" id=\"presentation-137\">\n",
              "         Randomness in Python: Controlled Chaos in an Ordered Machine\n",
              "       </a>\n",
              " </h2>, <h2>\n",
              " <a href=\"/2018/schedule/presentation/129/\" id=\"presentation-129\">\n",
              "         Reactive Programming with RxPy\n",
              "       </a>\n",
              " </h2>, <h2>\n",
              " <a href=\"/2018/schedule/presentation/143/\" id=\"presentation-143\">\n",
              "         Reinventing the Parser Generator \n",
              "       </a>\n",
              " </h2>, <h2>\n",
              " <a href=\"/2018/schedule/presentation/89/\" id=\"presentation-89\">\n",
              "         Secrets of a WSGI master.\n",
              "       </a>\n",
              " </h2>, <h2>\n",
              " <a href=\"/2018/schedule/presentation/76/\" id=\"presentation-76\">\n",
              "         Software Library APIs: Lessons Learned from scikit-learn\n",
              "       </a>\n",
              " </h2>, <h2>\n",
              " <a href=\"/2018/schedule/presentation/128/\" id=\"presentation-128\">\n",
              "         Solve Your Problem With Sloppy Python\n",
              "       </a>\n",
              " </h2>, <h2>\n",
              " <a href=\"/2018/schedule/presentation/153/\" id=\"presentation-153\">\n",
              "         Strategies to Edit Production Data\n",
              "       </a>\n",
              " </h2>, <h2>\n",
              " <a href=\"/2018/schedule/presentation/111/\" id=\"presentation-111\">\n",
              "         Surviving (and thriving!) when you are overloaded\n",
              "       </a>\n",
              " </h2>, <h2>\n",
              " <a href=\"/2018/schedule/presentation/109/\" id=\"presentation-109\">\n",
              "         Systemd: why you should care as a Python developer\n",
              "       </a>\n",
              " </h2>, <h2>\n",
              " <a href=\"/2018/schedule/presentation/92/\" id=\"presentation-92\">\n",
              "         Taking Django Async\n",
              "       </a>\n",
              " </h2>, <h2>\n",
              " <a href=\"/2018/schedule/presentation/107/\" id=\"presentation-107\">\n",
              "         The AST and Me\n",
              "       </a>\n",
              " </h2>, <h2>\n",
              " <a href=\"/2018/schedule/presentation/78/\" id=\"presentation-78\">\n",
              "         The Hare Wins the Race: Getting the most out of RabbitMQ in distributed applications\n",
              "       </a>\n",
              " </h2>, <h2>\n",
              " <a href=\"/2018/schedule/presentation/85/\" id=\"presentation-85\">\n",
              "         The human nature of failure &amp; resiliency\n",
              "       </a>\n",
              " </h2>, <h2>\n",
              " <a href=\"/2018/schedule/presentation/99/\" id=\"presentation-99\">\n",
              "         Trust the data to speak for itself\n",
              "       </a>\n",
              " </h2>, <h2>\n",
              " <a href=\"/2018/schedule/presentation/108/\" id=\"presentation-108\">\n",
              "         The Journey Over the Intermediate Gap\n",
              "       </a>\n",
              " </h2>, <h2>\n",
              " <a href=\"/2018/schedule/presentation/72/\" id=\"presentation-72\">\n",
              "         There and Back Again: Disable and re-enable garbage collector at Instagram\n",
              "       </a>\n",
              " </h2>, <h2>\n",
              " <a href=\"/2018/schedule/presentation/103/\" id=\"presentation-103\">\n",
              "         Thinking Outside the GIL with AsyncIO and Multiprocessing\n",
              "       </a>\n",
              " </h2>, <h2>\n",
              " <a href=\"/2018/schedule/presentation/163/\" id=\"presentation-163\">\n",
              "         Trio: Async concurrency for mere mortals\n",
              "       </a>\n",
              " </h2>, <h2>\n",
              " <a href=\"/2018/schedule/presentation/102/\" id=\"presentation-102\">\n",
              "         Type-checked Python in the real world\n",
              "       </a>\n",
              " </h2>, <h2>\n",
              " <a href=\"/2018/schedule/presentation/69/\" id=\"presentation-69\">\n",
              "         Types, Deeper Static Analysis, and you\n",
              "       </a>\n",
              " </h2>, <h2>\n",
              " <a href=\"/2018/schedule/presentation/118/\" id=\"presentation-118\">\n",
              "         User focused API Design\n",
              "       </a>\n",
              " </h2>, <h2>\n",
              " <a href=\"/2018/schedule/presentation/115/\" id=\"presentation-115\">\n",
              "         Using Python to build an AI to play and win SNES StreetFighter II\n",
              "       </a>\n",
              " </h2>, <h2>\n",
              " <a href=\"/2018/schedule/presentation/131/\" id=\"presentation-131\">\n",
              "         Visualizing Algorithms with Python and Programmable LEDs\n",
              "       </a>\n",
              " </h2>, <h2>\n",
              " <a href=\"/2018/schedule/presentation/91/\" id=\"presentation-91\">\n",
              "         Visual Testing with PyCharm and pytest\n",
              "       </a>\n",
              " </h2>, <h2>\n",
              " <a href=\"/2018/schedule/presentation/101/\" id=\"presentation-101\">\n",
              "         What is a Python Core Developer?\n",
              "       </a>\n",
              " </h2>, <h2>\n",
              " <a href=\"/2018/schedule/presentation/88/\" id=\"presentation-88\">\n",
              "         \"WHAT IS THIS MESS?\" - Writing tests for pre-existing code bases\n",
              "       </a>\n",
              " </h2>, <h2>\n",
              " <a href=\"/2018/schedule/presentation/142/\" id=\"presentation-142\">\n",
              "         Win back lovely API: GraphQL in Python\n",
              "       </a>\n",
              " </h2>, <h2>\n",
              " <a href=\"/2018/schedule/presentation/80/\" id=\"presentation-80\">\n",
              "         You're an expert. Here's how to teach like one.\n",
              "       </a>\n",
              " </h2>]"
            ]
          },
          "metadata": {
            "tags": []
          },
          "execution_count": 179
        }
      ]
    },
    {
      "metadata": {
        "id": "yqW5Kyk0ZOkw",
        "colab_type": "code",
        "colab": {
          "base_uri": "https://localhost:8080/",
          "height": 34
        },
        "outputId": "1be292d3-0a35-49d0-9c7c-8e8bc2780c48"
      },
      "cell_type": "code",
      "source": [
        "type(soup.select('h2'))"
      ],
      "execution_count": 180,
      "outputs": [
        {
          "output_type": "execute_result",
          "data": {
            "text/plain": [
              "list"
            ]
          },
          "metadata": {
            "tags": []
          },
          "execution_count": 180
        }
      ]
    },
    {
      "metadata": {
        "id": "0tk24xb2ZVDr",
        "colab_type": "code",
        "colab": {
          "base_uri": "https://localhost:8080/",
          "height": 34
        },
        "outputId": "10245765-c7fa-4587-c5a5-c87b81f72cb5"
      },
      "cell_type": "code",
      "source": [
        "len(soup.select('h2')) #95 talks"
      ],
      "execution_count": 181,
      "outputs": [
        {
          "output_type": "execute_result",
          "data": {
            "text/plain": [
              "95"
            ]
          },
          "metadata": {
            "tags": []
          },
          "execution_count": 181
        }
      ]
    },
    {
      "metadata": {
        "id": "YNPfxq_lZgrW",
        "colab_type": "code",
        "colab": {
          "base_uri": "https://localhost:8080/",
          "height": 101
        },
        "outputId": "67c974fe-e78a-4e62-8a64-848839cc6317"
      },
      "cell_type": "code",
      "source": [
        "first = soup.select('h2')[0] #first talk\n",
        "first"
      ],
      "execution_count": 182,
      "outputs": [
        {
          "output_type": "execute_result",
          "data": {
            "text/plain": [
              "<h2>\n",
              "<a href=\"/2018/schedule/presentation/127/\" id=\"presentation-127\">\n",
              "        A Bit about Bytes: Understanding Python Bytecode\n",
              "      </a>\n",
              "</h2>"
            ]
          },
          "metadata": {
            "tags": []
          },
          "execution_count": 182
        }
      ]
    },
    {
      "metadata": {
        "id": "wy-audJYaC32",
        "colab_type": "code",
        "colab": {
          "base_uri": "https://localhost:8080/",
          "height": 34
        },
        "outputId": "6307f8c8-adea-48d7-bb4a-5b8f3641589b"
      },
      "cell_type": "code",
      "source": [
        "first.text #cleaner but has problems"
      ],
      "execution_count": 183,
      "outputs": [
        {
          "output_type": "execute_result",
          "data": {
            "text/plain": [
              "'\\n\\n        A Bit about Bytes: Understanding Python Bytecode\\n      \\n'"
            ]
          },
          "metadata": {
            "tags": []
          },
          "execution_count": 183
        }
      ]
    },
    {
      "metadata": {
        "id": "bGVOpI2wad--",
        "colab_type": "code",
        "colab": {
          "base_uri": "https://localhost:8080/",
          "height": 34
        },
        "outputId": "75dcba86-2c64-4305-e3e5-55b1fef59217"
      },
      "cell_type": "code",
      "source": [
        "first.text.strip() #defaults to strip white spaces and newline parse"
      ],
      "execution_count": 184,
      "outputs": [
        {
          "output_type": "execute_result",
          "data": {
            "text/plain": [
              "'A Bit about Bytes: Understanding Python Bytecode'"
            ]
          },
          "metadata": {
            "tags": []
          },
          "execution_count": 184
        }
      ]
    },
    {
      "metadata": {
        "id": "b2FwQaREa8wG",
        "colab_type": "code",
        "colab": {
          "base_uri": "https://localhost:8080/",
          "height": 50
        },
        "outputId": "d41068ec-3336-4843-9ac3-fe0a7a45ebad"
      },
      "cell_type": "code",
      "source": [
        "last = soup.select('h2')[-1] #last talk\n",
        "print(type(last)) #tag\n",
        "print(type(soup.select('h2')[-1:])) #list, not useful"
      ],
      "execution_count": 185,
      "outputs": [
        {
          "output_type": "stream",
          "text": [
            "<class 'bs4.element.Tag'>\n",
            "<class 'list'>\n"
          ],
          "name": "stdout"
        }
      ]
    },
    {
      "metadata": {
        "id": "ZujPAs2uchD6",
        "colab_type": "code",
        "colab": {
          "base_uri": "https://localhost:8080/",
          "height": 34
        },
        "outputId": "dce9bb0a-0bb6-4cb2-c5a0-fd8cb216829b"
      },
      "cell_type": "code",
      "source": [
        "#our complete list of titles loop style\n",
        "titles = []\n",
        "for tag in soup.select('h2'):\n",
        "  tag.text.strip()\n",
        "  titles.append(titles)\n",
        "#list comp style\n",
        "titles = [tag.text.strip() for tag in soup.select('h2')]\n",
        "type(titles), len(titles)"
      ],
      "execution_count": 186,
      "outputs": [
        {
          "output_type": "execute_result",
          "data": {
            "text/plain": [
              "(list, 95)"
            ]
          },
          "metadata": {
            "tags": []
          },
          "execution_count": 186
        }
      ]
    },
    {
      "metadata": {
        "id": "LCdcMMmldNNb",
        "colab_type": "code",
        "colab": {
          "base_uri": "https://localhost:8080/",
          "height": 50
        },
        "outputId": "2af637c9-ae6e-4bdb-ba05-d3572247fa50"
      },
      "cell_type": "code",
      "source": [
        "titles[0], titles[-1]"
      ],
      "execution_count": 187,
      "outputs": [
        {
          "output_type": "execute_result",
          "data": {
            "text/plain": [
              "('A Bit about Bytes: Understanding Python Bytecode',\n",
              " \"You're an expert. Here's how to teach like one.\")"
            ]
          },
          "metadata": {
            "tags": []
          },
          "execution_count": 187
        }
      ]
    },
    {
      "metadata": {
        "id": "vqkNgAzYpeK7",
        "colab_type": "text"
      },
      "cell_type": "markdown",
      "source": [
        "## 5 ways to look at long titles\n",
        "\n",
        "Let's define a long title as greater than 80 characters"
      ]
    },
    {
      "metadata": {
        "id": "N7tqeZh14Fws",
        "colab_type": "text"
      },
      "cell_type": "markdown",
      "source": [
        "### 1. For Loop"
      ]
    },
    {
      "metadata": {
        "id": "kKxs5tqDApuZ",
        "colab_type": "code",
        "colab": {
          "base_uri": "https://localhost:8080/",
          "height": 34
        },
        "outputId": "9cb8759a-c453-4042-e841-e1c55bd1d288"
      },
      "cell_type": "code",
      "source": [
        "#nonfunctional compared to other methods\n",
        "long_titles = []\n",
        "for title in titles:\n",
        "  if len(title) > 80:\n",
        "    long_titles.append(title)\n",
        "len(long_titles)"
      ],
      "execution_count": 188,
      "outputs": [
        {
          "output_type": "execute_result",
          "data": {
            "text/plain": [
              "5"
            ]
          },
          "metadata": {
            "tags": []
          },
          "execution_count": 188
        }
      ]
    },
    {
      "metadata": {
        "id": "I21jcEnK4IN7",
        "colab_type": "text"
      },
      "cell_type": "markdown",
      "source": [
        "### 2. List Comprehension"
      ]
    },
    {
      "metadata": {
        "id": "qaXe9UldAs3H",
        "colab_type": "code",
        "colab": {
          "base_uri": "https://localhost:8080/",
          "height": 34
        },
        "outputId": "82de7352-159b-443d-aac4-a1194dc79ad8"
      },
      "cell_type": "code",
      "source": [
        "long_titles = [title for title in titles if len(title) > 80]\n",
        "len(long_titles)"
      ],
      "execution_count": 201,
      "outputs": [
        {
          "output_type": "execute_result",
          "data": {
            "text/plain": [
              "5"
            ]
          },
          "metadata": {
            "tags": []
          },
          "execution_count": 201
        }
      ]
    },
    {
      "metadata": {
        "id": "2kn8pxL-4yMG",
        "colab_type": "text"
      },
      "cell_type": "markdown",
      "source": [
        "### 3. Filter with named function"
      ]
    },
    {
      "metadata": {
        "id": "ywLqqFJNAvFm",
        "colab_type": "code",
        "colab": {
          "base_uri": "https://localhost:8080/",
          "height": 101
        },
        "outputId": "a9b387cf-bff1-4071-dbcb-3bd775704641"
      },
      "cell_type": "code",
      "source": [
        "def long(title):\n",
        "  return len(title) > 80\n",
        "long('Hello') #False\n",
        "list(filter(long, titles)) #filter by itself is an object"
      ],
      "execution_count": 200,
      "outputs": [
        {
          "output_type": "execute_result",
          "data": {
            "text/plain": [
              "['Code like an accountant: Designing data systems for accuracy, resilience and auditability',\n",
              " 'Debugging PySpark -- Or trying to make sense of a JVM stack trace when you were minding your own bus',\n",
              " 'How we designed an inclusivity-first conference on a shoestring budget and short timeline',\n",
              " 'Listen, Attend, and Walk : Interpreting natural language navigational instructions',\n",
              " 'The Hare Wins the Race: Getting the most out of RabbitMQ in distributed applications']"
            ]
          },
          "metadata": {
            "tags": []
          },
          "execution_count": 200
        }
      ]
    },
    {
      "metadata": {
        "id": "IPIT6oXz40Q3",
        "colab_type": "text"
      },
      "cell_type": "markdown",
      "source": [
        "### 4. Filter with anonymous function"
      ]
    },
    {
      "metadata": {
        "id": "giIcFYkiAwiR",
        "colab_type": "code",
        "colab": {
          "base_uri": "https://localhost:8080/",
          "height": 101
        },
        "outputId": "3bf0ed51-5b0c-4e04-a078-c2f88df351f7"
      },
      "cell_type": "code",
      "source": [
        "list(filter(lambda t: len(t)>80, titles))"
      ],
      "execution_count": 191,
      "outputs": [
        {
          "output_type": "execute_result",
          "data": {
            "text/plain": [
              "['Code like an accountant: Designing data systems for accuracy, resilience and auditability',\n",
              " 'Debugging PySpark -- Or trying to make sense of a JVM stack trace when you were minding your own bus',\n",
              " 'How we designed an inclusivity-first conference on a shoestring budget and short timeline',\n",
              " 'Listen, Attend, and Walk : Interpreting natural language navigational instructions',\n",
              " 'The Hare Wins the Race: Getting the most out of RabbitMQ in distributed applications']"
            ]
          },
          "metadata": {
            "tags": []
          },
          "execution_count": 191
        }
      ]
    },
    {
      "metadata": {
        "id": "qj8Yod8_45z4",
        "colab_type": "text"
      },
      "cell_type": "markdown",
      "source": [
        "### 5. Pandas\n",
        "\n",
        "pandas documentation: [Working with Text Data](https://pandas.pydata.org/pandas-docs/stable/text.html)"
      ]
    },
    {
      "metadata": {
        "id": "yRwPEHNcAzc_",
        "colab_type": "code",
        "colab": {
          "base_uri": "https://localhost:8080/",
          "height": 195
        },
        "outputId": "813b1418-cb9c-42c9-8a0c-46feacf2442f"
      },
      "cell_type": "code",
      "source": [
        "import pandas as pd\n",
        "pd.options.display.max_colwidth = 200\n",
        "df = pd.DataFrame({'title': titles})\n",
        "df[df.title.str.len() > 80]"
      ],
      "execution_count": 192,
      "outputs": [
        {
          "output_type": "execute_result",
          "data": {
            "text/html": [
              "<div>\n",
              "<style scoped>\n",
              "    .dataframe tbody tr th:only-of-type {\n",
              "        vertical-align: middle;\n",
              "    }\n",
              "\n",
              "    .dataframe tbody tr th {\n",
              "        vertical-align: top;\n",
              "    }\n",
              "\n",
              "    .dataframe thead th {\n",
              "        text-align: right;\n",
              "    }\n",
              "</style>\n",
              "<table border=\"1\" class=\"dataframe\">\n",
              "  <thead>\n",
              "    <tr style=\"text-align: right;\">\n",
              "      <th></th>\n",
              "      <th>title</th>\n",
              "    </tr>\n",
              "  </thead>\n",
              "  <tbody>\n",
              "    <tr>\n",
              "      <th>19</th>\n",
              "      <td>Code like an accountant: Designing data systems for accuracy, resilience and auditability</td>\n",
              "    </tr>\n",
              "    <tr>\n",
              "      <th>28</th>\n",
              "      <td>Debugging PySpark -- Or trying to make sense of a JVM stack trace when you were minding your own bus</td>\n",
              "    </tr>\n",
              "    <tr>\n",
              "      <th>46</th>\n",
              "      <td>How we designed an inclusivity-first conference on a shoestring budget and short timeline</td>\n",
              "    </tr>\n",
              "    <tr>\n",
              "      <th>51</th>\n",
              "      <td>Listen, Attend, and Walk : Interpreting natural language navigational instructions</td>\n",
              "    </tr>\n",
              "    <tr>\n",
              "      <th>78</th>\n",
              "      <td>The Hare Wins the Race: Getting the most out of RabbitMQ in distributed applications</td>\n",
              "    </tr>\n",
              "  </tbody>\n",
              "</table>\n",
              "</div>"
            ],
            "text/plain": [
              "                                                                                                   title\n",
              "19             Code like an accountant: Designing data systems for accuracy, resilience and auditability\n",
              "28  Debugging PySpark -- Or trying to make sense of a JVM stack trace when you were minding your own bus\n",
              "46             How we designed an inclusivity-first conference on a shoestring budget and short timeline\n",
              "51                    Listen, Attend, and Walk : Interpreting natural language navigational instructions\n",
              "78                  The Hare Wins the Race: Getting the most out of RabbitMQ in distributed applications"
            ]
          },
          "metadata": {
            "tags": []
          },
          "execution_count": 192
        }
      ]
    },
    {
      "metadata": {
        "id": "Bt2Vhk_WhNPJ",
        "colab_type": "code",
        "colab": {
          "base_uri": "https://localhost:8080/",
          "height": 1058
        },
        "outputId": "df07e598-39d8-406d-9aa3-e22df7216b71"
      },
      "cell_type": "code",
      "source": [
        "condition = df.title.str.len() > 80 #calls a Series of booleans\n",
        "df[condition]\n",
        "df.title.str.len() #calls a Series of ints equal to str.len"
      ],
      "execution_count": 193,
      "outputs": [
        {
          "output_type": "execute_result",
          "data": {
            "text/plain": [
              "0      48\n",
              "1      43\n",
              "2      48\n",
              "3      69\n",
              "4      59\n",
              "5      50\n",
              "6      23\n",
              "7      59\n",
              "8      22\n",
              "9      80\n",
              "10     56\n",
              "11     35\n",
              "12     40\n",
              "13     74\n",
              "14     49\n",
              "15     45\n",
              "16     26\n",
              "17     52\n",
              "18     56\n",
              "19     89\n",
              "20     42\n",
              "21     24\n",
              "22     52\n",
              "23     66\n",
              "24     33\n",
              "25     40\n",
              "26     59\n",
              "27     47\n",
              "28    100\n",
              "29     37\n",
              "     ... \n",
              "65     35\n",
              "66     43\n",
              "67     60\n",
              "68     30\n",
              "69     32\n",
              "70     25\n",
              "71     56\n",
              "72     37\n",
              "73     34\n",
              "74     49\n",
              "75     50\n",
              "76     19\n",
              "77     14\n",
              "78     84\n",
              "79     40\n",
              "80     34\n",
              "81     37\n",
              "82     74\n",
              "83     57\n",
              "84     40\n",
              "85     37\n",
              "86     38\n",
              "87     23\n",
              "88     65\n",
              "89     56\n",
              "90     38\n",
              "91     32\n",
              "92     64\n",
              "93     38\n",
              "94     47\n",
              "Name: title, Length: 95, dtype: int64"
            ]
          },
          "metadata": {
            "tags": []
          },
          "execution_count": 193
        }
      ]
    },
    {
      "metadata": {
        "id": "8YaUZJvRp681",
        "colab_type": "text"
      },
      "cell_type": "markdown",
      "source": [
        "## Make new dataframe columns\n",
        "\n",
        "pandas documentation: [apply](https://pandas.pydata.org/pandas-docs/stable/generated/pandas.Series.apply.html)"
      ]
    },
    {
      "metadata": {
        "id": "Ua74pMrGrsZR",
        "colab_type": "text"
      },
      "cell_type": "markdown",
      "source": [
        "### title length"
      ]
    },
    {
      "metadata": {
        "id": "p-Euz7tgA8Fd",
        "colab_type": "code",
        "colab": {
          "base_uri": "https://localhost:8080/",
          "height": 279
        },
        "outputId": "146f63c6-94fd-470a-822f-59f414dfc96c"
      },
      "cell_type": "code",
      "source": [
        "df['title_length'] = df.title.apply(len)\n",
        "df.head()"
      ],
      "execution_count": 197,
      "outputs": [
        {
          "output_type": "execute_result",
          "data": {
            "text/html": [
              "<div>\n",
              "<style scoped>\n",
              "    .dataframe tbody tr th:only-of-type {\n",
              "        vertical-align: middle;\n",
              "    }\n",
              "\n",
              "    .dataframe tbody tr th {\n",
              "        vertical-align: top;\n",
              "    }\n",
              "\n",
              "    .dataframe thead th {\n",
              "        text-align: right;\n",
              "    }\n",
              "</style>\n",
              "<table border=\"1\" class=\"dataframe\">\n",
              "  <thead>\n",
              "    <tr style=\"text-align: right;\">\n",
              "      <th></th>\n",
              "      <th>title</th>\n",
              "      <th>title_length</th>\n",
              "      <th>description</th>\n",
              "    </tr>\n",
              "  </thead>\n",
              "  <tbody>\n",
              "    <tr>\n",
              "      <th>0</th>\n",
              "      <td>A Bit about Bytes: Understanding Python Bytecode</td>\n",
              "      <td>48</td>\n",
              "      <td>At some point every Python programmer sees Python bytecode files -- they're those '.pyc' files Python likes to leave behind after it runs. But have you ever wondered what's really going on in thos...</td>\n",
              "    </tr>\n",
              "    <tr>\n",
              "      <th>1</th>\n",
              "      <td>Adapting from Spark to Dask: what to expect</td>\n",
              "      <td>43</td>\n",
              "      <td>Until very recently, Apache Spark has been a de facto standard choice of a framework for batch data processing. For Python developers, diving into Spark is challenging, because it requires learnin...</td>\n",
              "    </tr>\n",
              "    <tr>\n",
              "      <th>2</th>\n",
              "      <td>All in the timing: How side channel attacks work</td>\n",
              "      <td>48</td>\n",
              "      <td>In this talk, youâll learn about a category of security issue known as side channel attacks. Youâll be amused to see how features like automatic data compression, short-circuit execution, and ...</td>\n",
              "    </tr>\n",
              "    <tr>\n",
              "      <th>3</th>\n",
              "      <td>Analyzing Data: What pandas and SQL Taught Me About Taking an Average</td>\n",
              "      <td>69</td>\n",
              "      <td>âSo tell me,â my manager said, âwhat is an average?â\\r\\n\\r\\nThereâs probably nothing worse than that sinking feeling when you finish an analysis, email it to your manager or client to re...</td>\n",
              "    </tr>\n",
              "    <tr>\n",
              "      <th>4</th>\n",
              "      <td>A practical guide to Singular Value Decomposition in Python</td>\n",
              "      <td>59</td>\n",
              "      <td>Recommender systems have become increasingly popular in recent years, and are used by some of the largest websites in the world to predict the likelihood of a user taking an action on an item. In ...</td>\n",
              "    </tr>\n",
              "  </tbody>\n",
              "</table>\n",
              "</div>"
            ],
            "text/plain": [
              "                                                                   title  \\\n",
              "0                       A Bit about Bytes: Understanding Python Bytecode   \n",
              "1                            Adapting from Spark to Dask: what to expect   \n",
              "2                       All in the timing: How side channel attacks work   \n",
              "3  Analyzing Data: What pandas and SQL Taught Me About Taking an Average   \n",
              "4            A practical guide to Singular Value Decomposition in Python   \n",
              "\n",
              "   title_length  \\\n",
              "0            48   \n",
              "1            43   \n",
              "2            48   \n",
              "3            69   \n",
              "4            59   \n",
              "\n",
              "                                                                                                                                                                                               description  \n",
              "0  At some point every Python programmer sees Python bytecode files -- they're those '.pyc' files Python likes to leave behind after it runs. But have you ever wondered what's really going on in thos...  \n",
              "1  Until very recently, Apache Spark has been a de facto standard choice of a framework for batch data processing. For Python developers, diving into Spark is challenging, because it requires learnin...  \n",
              "2  In this talk, youâll learn about a category of security issue known as side channel attacks. Youâll be amused to see how features like automatic data compression, short-circuit execution, and ...  \n",
              "3  âSo tell me,â my manager said, âwhat is an average?â\\r\\n\\r\\nThereâs probably nothing worse than that sinking feeling when you finish an analysis, email it to your manager or client to re...  \n",
              "4  Recommender systems have become increasingly popular in recent years, and are used by some of the largest websites in the world to predict the likelihood of a user taking an action on an item. In ...  "
            ]
          },
          "metadata": {
            "tags": []
          },
          "execution_count": 197
        }
      ]
    },
    {
      "metadata": {
        "id": "vMJvN3kinW9C",
        "colab_type": "code",
        "colab": {
          "base_uri": "https://localhost:8080/",
          "height": 128
        },
        "outputId": "16df6974-350d-4d45-e19b-9e739b159c29"
      },
      "cell_type": "code",
      "source": [
        "df.loc[df['title_length']>80, 'title length']]"
      ],
      "execution_count": 202,
      "outputs": [
        {
          "output_type": "error",
          "ename": "SyntaxError",
          "evalue": "ignored",
          "traceback": [
            "\u001b[0;36m  File \u001b[0;32m\"<ipython-input-202-b11aa27db2c0>\"\u001b[0;36m, line \u001b[0;32m1\u001b[0m\n\u001b[0;31m    df.loc[df['title_length']>80, 'title length']]\u001b[0m\n\u001b[0m                                                 ^\u001b[0m\n\u001b[0;31mSyntaxError\u001b[0m\u001b[0;31m:\u001b[0m invalid syntax\n"
          ]
        }
      ]
    },
    {
      "metadata": {
        "id": "OgsKArXPrz5n",
        "colab_type": "text"
      },
      "cell_type": "markdown",
      "source": [
        "### long title"
      ]
    },
    {
      "metadata": {
        "id": "b_WCRvvKA-IP",
        "colab_type": "code",
        "colab": {
          "base_uri": "https://localhost:8080/",
          "height": 1186
        },
        "outputId": "861c0fb7-7cb9-452d-d562-3e6fddbb7f6d"
      },
      "cell_type": "code",
      "source": [
        "#alt\n",
        "df[df['long_title' == True]]"
      ],
      "execution_count": 203,
      "outputs": [
        {
          "output_type": "error",
          "ename": "KeyError",
          "evalue": "ignored",
          "traceback": [
            "\u001b[0;31m---------------------------------------------------------------------------\u001b[0m",
            "\u001b[0;31mKeyError\u001b[0m                                  Traceback (most recent call last)",
            "\u001b[0;32m/usr/local/lib/python3.6/dist-packages/pandas/core/indexes/base.py\u001b[0m in \u001b[0;36mget_loc\u001b[0;34m(self, key, method, tolerance)\u001b[0m\n\u001b[1;32m   2524\u001b[0m             \u001b[0;32mtry\u001b[0m\u001b[0;34m:\u001b[0m\u001b[0;34m\u001b[0m\u001b[0;34m\u001b[0m\u001b[0m\n\u001b[0;32m-> 2525\u001b[0;31m                 \u001b[0;32mreturn\u001b[0m \u001b[0mself\u001b[0m\u001b[0;34m.\u001b[0m\u001b[0m_engine\u001b[0m\u001b[0;34m.\u001b[0m\u001b[0mget_loc\u001b[0m\u001b[0;34m(\u001b[0m\u001b[0mkey\u001b[0m\u001b[0;34m)\u001b[0m\u001b[0;34m\u001b[0m\u001b[0;34m\u001b[0m\u001b[0m\n\u001b[0m\u001b[1;32m   2526\u001b[0m             \u001b[0;32mexcept\u001b[0m \u001b[0mKeyError\u001b[0m\u001b[0;34m:\u001b[0m\u001b[0;34m\u001b[0m\u001b[0;34m\u001b[0m\u001b[0m\n",
            "\u001b[0;32mpandas/_libs/index.pyx\u001b[0m in \u001b[0;36mpandas._libs.index.IndexEngine.get_loc\u001b[0;34m()\u001b[0m\n",
            "\u001b[0;32mpandas/_libs/index.pyx\u001b[0m in \u001b[0;36mpandas._libs.index.IndexEngine.get_loc\u001b[0;34m()\u001b[0m\n",
            "\u001b[0;32mpandas/_libs/hashtable_class_helper.pxi\u001b[0m in \u001b[0;36mpandas._libs.hashtable.PyObjectHashTable.get_item\u001b[0;34m()\u001b[0m\n",
            "\u001b[0;32mpandas/_libs/hashtable_class_helper.pxi\u001b[0m in \u001b[0;36mpandas._libs.hashtable.PyObjectHashTable.get_item\u001b[0;34m()\u001b[0m\n",
            "\u001b[0;31mKeyError\u001b[0m: False",
            "\nDuring handling of the above exception, another exception occurred:\n",
            "\u001b[0;31mKeyError\u001b[0m                                  Traceback (most recent call last)",
            "\u001b[0;32m<ipython-input-203-a6e357a45841>\u001b[0m in \u001b[0;36m<module>\u001b[0;34m()\u001b[0m\n\u001b[0;32m----> 1\u001b[0;31m \u001b[0mdf\u001b[0m\u001b[0;34m[\u001b[0m\u001b[0mdf\u001b[0m\u001b[0;34m[\u001b[0m\u001b[0;34m'long_title'\u001b[0m \u001b[0;34m==\u001b[0m \u001b[0;32mTrue\u001b[0m\u001b[0;34m]\u001b[0m\u001b[0;34m]\u001b[0m\u001b[0;34m\u001b[0m\u001b[0;34m\u001b[0m\u001b[0m\n\u001b[0m",
            "\u001b[0;32m/usr/local/lib/python3.6/dist-packages/pandas/core/frame.py\u001b[0m in \u001b[0;36m__getitem__\u001b[0;34m(self, key)\u001b[0m\n\u001b[1;32m   2137\u001b[0m             \u001b[0;32mreturn\u001b[0m \u001b[0mself\u001b[0m\u001b[0;34m.\u001b[0m\u001b[0m_getitem_multilevel\u001b[0m\u001b[0;34m(\u001b[0m\u001b[0mkey\u001b[0m\u001b[0;34m)\u001b[0m\u001b[0;34m\u001b[0m\u001b[0;34m\u001b[0m\u001b[0m\n\u001b[1;32m   2138\u001b[0m         \u001b[0;32melse\u001b[0m\u001b[0;34m:\u001b[0m\u001b[0;34m\u001b[0m\u001b[0;34m\u001b[0m\u001b[0m\n\u001b[0;32m-> 2139\u001b[0;31m             \u001b[0;32mreturn\u001b[0m \u001b[0mself\u001b[0m\u001b[0;34m.\u001b[0m\u001b[0m_getitem_column\u001b[0m\u001b[0;34m(\u001b[0m\u001b[0mkey\u001b[0m\u001b[0;34m)\u001b[0m\u001b[0;34m\u001b[0m\u001b[0;34m\u001b[0m\u001b[0m\n\u001b[0m\u001b[1;32m   2140\u001b[0m \u001b[0;34m\u001b[0m\u001b[0m\n\u001b[1;32m   2141\u001b[0m     \u001b[0;32mdef\u001b[0m \u001b[0m_getitem_column\u001b[0m\u001b[0;34m(\u001b[0m\u001b[0mself\u001b[0m\u001b[0;34m,\u001b[0m \u001b[0mkey\u001b[0m\u001b[0;34m)\u001b[0m\u001b[0;34m:\u001b[0m\u001b[0;34m\u001b[0m\u001b[0;34m\u001b[0m\u001b[0m\n",
            "\u001b[0;32m/usr/local/lib/python3.6/dist-packages/pandas/core/frame.py\u001b[0m in \u001b[0;36m_getitem_column\u001b[0;34m(self, key)\u001b[0m\n\u001b[1;32m   2144\u001b[0m         \u001b[0;31m# get column\u001b[0m\u001b[0;34m\u001b[0m\u001b[0;34m\u001b[0m\u001b[0;34m\u001b[0m\u001b[0m\n\u001b[1;32m   2145\u001b[0m         \u001b[0;32mif\u001b[0m \u001b[0mself\u001b[0m\u001b[0;34m.\u001b[0m\u001b[0mcolumns\u001b[0m\u001b[0;34m.\u001b[0m\u001b[0mis_unique\u001b[0m\u001b[0;34m:\u001b[0m\u001b[0;34m\u001b[0m\u001b[0;34m\u001b[0m\u001b[0m\n\u001b[0;32m-> 2146\u001b[0;31m             \u001b[0;32mreturn\u001b[0m \u001b[0mself\u001b[0m\u001b[0;34m.\u001b[0m\u001b[0m_get_item_cache\u001b[0m\u001b[0;34m(\u001b[0m\u001b[0mkey\u001b[0m\u001b[0;34m)\u001b[0m\u001b[0;34m\u001b[0m\u001b[0;34m\u001b[0m\u001b[0m\n\u001b[0m\u001b[1;32m   2147\u001b[0m \u001b[0;34m\u001b[0m\u001b[0m\n\u001b[1;32m   2148\u001b[0m         \u001b[0;31m# duplicate columns & possible reduce dimensionality\u001b[0m\u001b[0;34m\u001b[0m\u001b[0;34m\u001b[0m\u001b[0;34m\u001b[0m\u001b[0m\n",
            "\u001b[0;32m/usr/local/lib/python3.6/dist-packages/pandas/core/generic.py\u001b[0m in \u001b[0;36m_get_item_cache\u001b[0;34m(self, item)\u001b[0m\n\u001b[1;32m   1840\u001b[0m         \u001b[0mres\u001b[0m \u001b[0;34m=\u001b[0m \u001b[0mcache\u001b[0m\u001b[0;34m.\u001b[0m\u001b[0mget\u001b[0m\u001b[0;34m(\u001b[0m\u001b[0mitem\u001b[0m\u001b[0;34m)\u001b[0m\u001b[0;34m\u001b[0m\u001b[0;34m\u001b[0m\u001b[0m\n\u001b[1;32m   1841\u001b[0m         \u001b[0;32mif\u001b[0m \u001b[0mres\u001b[0m \u001b[0;32mis\u001b[0m \u001b[0;32mNone\u001b[0m\u001b[0;34m:\u001b[0m\u001b[0;34m\u001b[0m\u001b[0;34m\u001b[0m\u001b[0m\n\u001b[0;32m-> 1842\u001b[0;31m             \u001b[0mvalues\u001b[0m \u001b[0;34m=\u001b[0m \u001b[0mself\u001b[0m\u001b[0;34m.\u001b[0m\u001b[0m_data\u001b[0m\u001b[0;34m.\u001b[0m\u001b[0mget\u001b[0m\u001b[0;34m(\u001b[0m\u001b[0mitem\u001b[0m\u001b[0;34m)\u001b[0m\u001b[0;34m\u001b[0m\u001b[0;34m\u001b[0m\u001b[0m\n\u001b[0m\u001b[1;32m   1843\u001b[0m             \u001b[0mres\u001b[0m \u001b[0;34m=\u001b[0m \u001b[0mself\u001b[0m\u001b[0;34m.\u001b[0m\u001b[0m_box_item_values\u001b[0m\u001b[0;34m(\u001b[0m\u001b[0mitem\u001b[0m\u001b[0;34m,\u001b[0m \u001b[0mvalues\u001b[0m\u001b[0;34m)\u001b[0m\u001b[0;34m\u001b[0m\u001b[0;34m\u001b[0m\u001b[0m\n\u001b[1;32m   1844\u001b[0m             \u001b[0mcache\u001b[0m\u001b[0;34m[\u001b[0m\u001b[0mitem\u001b[0m\u001b[0;34m]\u001b[0m \u001b[0;34m=\u001b[0m \u001b[0mres\u001b[0m\u001b[0;34m\u001b[0m\u001b[0;34m\u001b[0m\u001b[0m\n",
            "\u001b[0;32m/usr/local/lib/python3.6/dist-packages/pandas/core/internals.py\u001b[0m in \u001b[0;36mget\u001b[0;34m(self, item, fastpath)\u001b[0m\n\u001b[1;32m   3841\u001b[0m \u001b[0;34m\u001b[0m\u001b[0m\n\u001b[1;32m   3842\u001b[0m             \u001b[0;32mif\u001b[0m \u001b[0;32mnot\u001b[0m \u001b[0misna\u001b[0m\u001b[0;34m(\u001b[0m\u001b[0mitem\u001b[0m\u001b[0;34m)\u001b[0m\u001b[0;34m:\u001b[0m\u001b[0;34m\u001b[0m\u001b[0;34m\u001b[0m\u001b[0m\n\u001b[0;32m-> 3843\u001b[0;31m                 \u001b[0mloc\u001b[0m \u001b[0;34m=\u001b[0m \u001b[0mself\u001b[0m\u001b[0;34m.\u001b[0m\u001b[0mitems\u001b[0m\u001b[0;34m.\u001b[0m\u001b[0mget_loc\u001b[0m\u001b[0;34m(\u001b[0m\u001b[0mitem\u001b[0m\u001b[0;34m)\u001b[0m\u001b[0;34m\u001b[0m\u001b[0;34m\u001b[0m\u001b[0m\n\u001b[0m\u001b[1;32m   3844\u001b[0m             \u001b[0;32melse\u001b[0m\u001b[0;34m:\u001b[0m\u001b[0;34m\u001b[0m\u001b[0;34m\u001b[0m\u001b[0m\n\u001b[1;32m   3845\u001b[0m                 \u001b[0mindexer\u001b[0m \u001b[0;34m=\u001b[0m \u001b[0mnp\u001b[0m\u001b[0;34m.\u001b[0m\u001b[0marange\u001b[0m\u001b[0;34m(\u001b[0m\u001b[0mlen\u001b[0m\u001b[0;34m(\u001b[0m\u001b[0mself\u001b[0m\u001b[0;34m.\u001b[0m\u001b[0mitems\u001b[0m\u001b[0;34m)\u001b[0m\u001b[0;34m)\u001b[0m\u001b[0;34m[\u001b[0m\u001b[0misna\u001b[0m\u001b[0;34m(\u001b[0m\u001b[0mself\u001b[0m\u001b[0;34m.\u001b[0m\u001b[0mitems\u001b[0m\u001b[0;34m)\u001b[0m\u001b[0;34m]\u001b[0m\u001b[0;34m\u001b[0m\u001b[0;34m\u001b[0m\u001b[0m\n",
            "\u001b[0;32m/usr/local/lib/python3.6/dist-packages/pandas/core/indexes/base.py\u001b[0m in \u001b[0;36mget_loc\u001b[0;34m(self, key, method, tolerance)\u001b[0m\n\u001b[1;32m   2525\u001b[0m                 \u001b[0;32mreturn\u001b[0m \u001b[0mself\u001b[0m\u001b[0;34m.\u001b[0m\u001b[0m_engine\u001b[0m\u001b[0;34m.\u001b[0m\u001b[0mget_loc\u001b[0m\u001b[0;34m(\u001b[0m\u001b[0mkey\u001b[0m\u001b[0;34m)\u001b[0m\u001b[0;34m\u001b[0m\u001b[0;34m\u001b[0m\u001b[0m\n\u001b[1;32m   2526\u001b[0m             \u001b[0;32mexcept\u001b[0m \u001b[0mKeyError\u001b[0m\u001b[0;34m:\u001b[0m\u001b[0;34m\u001b[0m\u001b[0;34m\u001b[0m\u001b[0m\n\u001b[0;32m-> 2527\u001b[0;31m                 \u001b[0;32mreturn\u001b[0m \u001b[0mself\u001b[0m\u001b[0;34m.\u001b[0m\u001b[0m_engine\u001b[0m\u001b[0;34m.\u001b[0m\u001b[0mget_loc\u001b[0m\u001b[0;34m(\u001b[0m\u001b[0mself\u001b[0m\u001b[0;34m.\u001b[0m\u001b[0m_maybe_cast_indexer\u001b[0m\u001b[0;34m(\u001b[0m\u001b[0mkey\u001b[0m\u001b[0;34m)\u001b[0m\u001b[0;34m)\u001b[0m\u001b[0;34m\u001b[0m\u001b[0;34m\u001b[0m\u001b[0m\n\u001b[0m\u001b[1;32m   2528\u001b[0m \u001b[0;34m\u001b[0m\u001b[0m\n\u001b[1;32m   2529\u001b[0m         \u001b[0mindexer\u001b[0m \u001b[0;34m=\u001b[0m \u001b[0mself\u001b[0m\u001b[0;34m.\u001b[0m\u001b[0mget_indexer\u001b[0m\u001b[0;34m(\u001b[0m\u001b[0;34m[\u001b[0m\u001b[0mkey\u001b[0m\u001b[0;34m]\u001b[0m\u001b[0;34m,\u001b[0m \u001b[0mmethod\u001b[0m\u001b[0;34m=\u001b[0m\u001b[0mmethod\u001b[0m\u001b[0;34m,\u001b[0m \u001b[0mtolerance\u001b[0m\u001b[0;34m=\u001b[0m\u001b[0mtolerance\u001b[0m\u001b[0;34m)\u001b[0m\u001b[0;34m\u001b[0m\u001b[0;34m\u001b[0m\u001b[0m\n",
            "\u001b[0;32mpandas/_libs/index.pyx\u001b[0m in \u001b[0;36mpandas._libs.index.IndexEngine.get_loc\u001b[0;34m()\u001b[0m\n",
            "\u001b[0;32mpandas/_libs/index.pyx\u001b[0m in \u001b[0;36mpandas._libs.index.IndexEngine.get_loc\u001b[0;34m()\u001b[0m\n",
            "\u001b[0;32mpandas/_libs/hashtable_class_helper.pxi\u001b[0m in \u001b[0;36mpandas._libs.hashtable.PyObjectHashTable.get_item\u001b[0;34m()\u001b[0m\n",
            "\u001b[0;32mpandas/_libs/hashtable_class_helper.pxi\u001b[0m in \u001b[0;36mpandas._libs.hashtable.PyObjectHashTable.get_item\u001b[0;34m()\u001b[0m\n",
            "\u001b[0;31mKeyError\u001b[0m: False"
          ]
        }
      ]
    },
    {
      "metadata": {
        "id": "sfpvL1xsnVQr",
        "colab_type": "code",
        "colab": {}
      },
      "cell_type": "code",
      "source": [
        ""
      ],
      "execution_count": 0,
      "outputs": []
    },
    {
      "metadata": {
        "id": "TonCXYPesUsT",
        "colab_type": "text"
      },
      "cell_type": "markdown",
      "source": [
        "### first letter"
      ]
    },
    {
      "metadata": {
        "id": "fhO4aABpBBgA",
        "colab_type": "code",
        "colab": {
          "base_uri": "https://localhost:8080/",
          "height": 604
        },
        "outputId": "644ecf1e-db08-4f6c-fcd1-e94727c35bd8"
      },
      "cell_type": "code",
      "source": [
        "df['first_letter'] = df.title.str[0]\n",
        "df.head()\n",
        "\n",
        "df[df['first_letter'] == 'P']"
      ],
      "execution_count": 204,
      "outputs": [
        {
          "output_type": "execute_result",
          "data": {
            "text/html": [
              "<div>\n",
              "<style scoped>\n",
              "    .dataframe tbody tr th:only-of-type {\n",
              "        vertical-align: middle;\n",
              "    }\n",
              "\n",
              "    .dataframe tbody tr th {\n",
              "        vertical-align: top;\n",
              "    }\n",
              "\n",
              "    .dataframe thead th {\n",
              "        text-align: right;\n",
              "    }\n",
              "</style>\n",
              "<table border=\"1\" class=\"dataframe\">\n",
              "  <thead>\n",
              "    <tr style=\"text-align: right;\">\n",
              "      <th></th>\n",
              "      <th>title</th>\n",
              "      <th>title_length</th>\n",
              "      <th>description</th>\n",
              "      <th>long_title</th>\n",
              "      <th>first_letter</th>\n",
              "    </tr>\n",
              "  </thead>\n",
              "  <tbody>\n",
              "    <tr>\n",
              "      <th>55</th>\n",
              "      <td>Performance Python: Seven Strategies for Optimizing Your Numerical Code</td>\n",
              "      <td>71</td>\n",
              "      <td>Python provides a powerful platform for working with data, but often the most straightforward data analysis can be painfully slow. When used effectively, though, Python can be as fast as even comp...</td>\n",
              "      <td>False</td>\n",
              "      <td>P</td>\n",
              "    </tr>\n",
              "    <tr>\n",
              "      <th>56</th>\n",
              "      <td>Pipenv: The Future of Python Dependency Management</td>\n",
              "      <td>50</td>\n",
              "      <td>This talk is about the history of Python packaging, the tools that have been historically available for application deployment, the problems/constraints presented by them, and presents a holistic ...</td>\n",
              "      <td>False</td>\n",
              "      <td>P</td>\n",
              "    </tr>\n",
              "    <tr>\n",
              "      <th>57</th>\n",
              "      <td>Practical Sphinx</td>\n",
              "      <td>16</td>\n",
              "      <td>Each member of your project team uses something different to document\\r\\ntheir work -- RestructuredText, Markdown, and Jupyter Notebooks. How do\\r\\nyou combine all of these into useful documentati...</td>\n",
              "      <td>False</td>\n",
              "      <td>P</td>\n",
              "    </tr>\n",
              "    <tr>\n",
              "      <th>58</th>\n",
              "      <td>Programming microbes using Python</td>\n",
              "      <td>33</td>\n",
              "      <td>The genome of a typical microbe contains roughly 5 million base pairs of DNA including &gt; 4000 genes, which provide the instructions for cellular replication, energy metabolism, and other biologica...</td>\n",
              "      <td>False</td>\n",
              "      <td>P</td>\n",
              "    </tr>\n",
              "    <tr>\n",
              "      <th>59</th>\n",
              "      <td>Pumping up Python modules using Rust</td>\n",
              "      <td>36</td>\n",
              "      <td>If youâve spent much time writing (or debugging) Python performance problems, youâve probably had a hard time managing memory with its limited language support. \\r\\n\\r\\nIn this talk, we ventur...</td>\n",
              "      <td>False</td>\n",
              "      <td>P</td>\n",
              "    </tr>\n",
              "    <tr>\n",
              "      <th>60</th>\n",
              "      <td>Python 2 to 3: How to Upgrade and What Features to Start Using</td>\n",
              "      <td>62</td>\n",
              "      <td>The end of life for Python 2 is 2020. Python 3 is the future and you'll need to consider both your upgrade plan and what steps you'll take after upgrading to start leveraging Python 3 features.\\r\\...</td>\n",
              "      <td>False</td>\n",
              "      <td>P</td>\n",
              "    </tr>\n",
              "    <tr>\n",
              "      <th>61</th>\n",
              "      <td>Python 3: ten years later</td>\n",
              "      <td>25</td>\n",
              "      <td>Looking back at Python evolutions over the last 10 years.\\r\\n\\r\\nPython 3.0 was released ten years ago (December 2008). It's time to look back: analyze the migration from Python 2 to Python 3, see...</td>\n",
              "      <td>False</td>\n",
              "      <td>P</td>\n",
              "    </tr>\n",
              "    <tr>\n",
              "      <th>62</th>\n",
              "      <td>Python across the USA: This is the Bus.</td>\n",
              "      <td>39</td>\n",
              "      <td>For 2 years, a family of three has traveled on a converted school bus from conference to conference, building tooling for the road in Python and visiting Python families in every corner of the cou...</td>\n",
              "      <td>False</td>\n",
              "      <td>P</td>\n",
              "    </tr>\n",
              "    <tr>\n",
              "      <th>63</th>\n",
              "      <td>Python Data Sonification for Science and Discovery</td>\n",
              "      <td>50</td>\n",
              "      <td>What do geiger counters, black holes, heart monitors, and volcanoes have in common?  They all can use sound to convey information! This talk will explore using python for sonification: the process...</td>\n",
              "      <td>False</td>\n",
              "      <td>P</td>\n",
              "    </tr>\n",
              "    <tr>\n",
              "      <th>64</th>\n",
              "      <td>Python for the quantum computing age</td>\n",
              "      <td>36</td>\n",
              "      <td>Quantum computers are slowly turning in to reality more than 30 years after they were first theorized. The need for quantum computers have become clear as we reach the limits of Mooreâs law and ...</td>\n",
              "      <td>False</td>\n",
              "      <td>P</td>\n",
              "    </tr>\n",
              "    <tr>\n",
              "      <th>65</th>\n",
              "      <td>Python, Locales and Writing Systems</td>\n",
              "      <td>35</td>\n",
              "      <td>Python 3 removes a lot of the confusion around Unicode handling in Python, but that by no means fixes everything. Different locales and writing systems have unique behaviours that can trip you up....</td>\n",
              "      <td>False</td>\n",
              "      <td>P</td>\n",
              "    </tr>\n",
              "    <tr>\n",
              "      <th>66</th>\n",
              "      <td>Python Performance Investigation by Example</td>\n",
              "      <td>43</td>\n",
              "      <td>Occasionally weâll find that some bit of Python weâve written doesnât run as fast as weâd like, what can we do? Performance bottlenecks arenât always intuitive or easy to spot by reading...</td>\n",
              "      <td>False</td>\n",
              "      <td>P</td>\n",
              "    </tr>\n",
              "  </tbody>\n",
              "</table>\n",
              "</div>"
            ],
            "text/plain": [
              "                                                                      title  \\\n",
              "55  Performance Python: Seven Strategies for Optimizing Your Numerical Code   \n",
              "56                       Pipenv: The Future of Python Dependency Management   \n",
              "57                                                         Practical Sphinx   \n",
              "58                                        Programming microbes using Python   \n",
              "59                                     Pumping up Python modules using Rust   \n",
              "60           Python 2 to 3: How to Upgrade and What Features to Start Using   \n",
              "61                                                Python 3: ten years later   \n",
              "62                                  Python across the USA: This is the Bus.   \n",
              "63                       Python Data Sonification for Science and Discovery   \n",
              "64                                     Python for the quantum computing age   \n",
              "65                                      Python, Locales and Writing Systems   \n",
              "66                              Python Performance Investigation by Example   \n",
              "\n",
              "    title_length  \\\n",
              "55            71   \n",
              "56            50   \n",
              "57            16   \n",
              "58            33   \n",
              "59            36   \n",
              "60            62   \n",
              "61            25   \n",
              "62            39   \n",
              "63            50   \n",
              "64            36   \n",
              "65            35   \n",
              "66            43   \n",
              "\n",
              "                                                                                                                                                                                                description  \\\n",
              "55  Python provides a powerful platform for working with data, but often the most straightforward data analysis can be painfully slow. When used effectively, though, Python can be as fast as even comp...   \n",
              "56  This talk is about the history of Python packaging, the tools that have been historically available for application deployment, the problems/constraints presented by them, and presents a holistic ...   \n",
              "57  Each member of your project team uses something different to document\\r\\ntheir work -- RestructuredText, Markdown, and Jupyter Notebooks. How do\\r\\nyou combine all of these into useful documentati...   \n",
              "58  The genome of a typical microbe contains roughly 5 million base pairs of DNA including > 4000 genes, which provide the instructions for cellular replication, energy metabolism, and other biologica...   \n",
              "59  If youâve spent much time writing (or debugging) Python performance problems, youâve probably had a hard time managing memory with its limited language support. \\r\\n\\r\\nIn this talk, we ventur...   \n",
              "60  The end of life for Python 2 is 2020. Python 3 is the future and you'll need to consider both your upgrade plan and what steps you'll take after upgrading to start leveraging Python 3 features.\\r\\...   \n",
              "61  Looking back at Python evolutions over the last 10 years.\\r\\n\\r\\nPython 3.0 was released ten years ago (December 2008). It's time to look back: analyze the migration from Python 2 to Python 3, see...   \n",
              "62  For 2 years, a family of three has traveled on a converted school bus from conference to conference, building tooling for the road in Python and visiting Python families in every corner of the cou...   \n",
              "63  What do geiger counters, black holes, heart monitors, and volcanoes have in common?  They all can use sound to convey information! This talk will explore using python for sonification: the process...   \n",
              "64  Quantum computers are slowly turning in to reality more than 30 years after they were first theorized. The need for quantum computers have become clear as we reach the limits of Mooreâs law and ...   \n",
              "65  Python 3 removes a lot of the confusion around Unicode handling in Python, but that by no means fixes everything. Different locales and writing systems have unique behaviours that can trip you up....   \n",
              "66  Occasionally weâll find that some bit of Python weâve written doesnât run as fast as weâd like, what can we do? Performance bottlenecks arenât always intuitive or easy to spot by reading...   \n",
              "\n",
              "    long_title first_letter  \n",
              "55       False            P  \n",
              "56       False            P  \n",
              "57       False            P  \n",
              "58       False            P  \n",
              "59       False            P  \n",
              "60       False            P  \n",
              "61       False            P  \n",
              "62       False            P  \n",
              "63       False            P  \n",
              "64       False            P  \n",
              "65       False            P  \n",
              "66       False            P  "
            ]
          },
          "metadata": {
            "tags": []
          },
          "execution_count": 204
        }
      ]
    },
    {
      "metadata": {
        "id": "Etz1XeLKs6DL",
        "colab_type": "text"
      },
      "cell_type": "markdown",
      "source": [
        "### word count\n",
        "\n",
        "Using [`textstat`](https://github.com/shivam5992/textstat)"
      ]
    },
    {
      "metadata": {
        "id": "GVIkRWchs4zR",
        "colab_type": "code",
        "colab": {
          "base_uri": "https://localhost:8080/",
          "height": 67
        },
        "outputId": "93fd8eec-e0c9-4343-bb23-e36c05091515"
      },
      "cell_type": "code",
      "source": [
        "!pip install textstat"
      ],
      "execution_count": 205,
      "outputs": [
        {
          "output_type": "stream",
          "text": [
            "Requirement already satisfied: textstat in /usr/local/lib/python3.6/dist-packages (0.5.4)\n",
            "Requirement already satisfied: pyphen in /usr/local/lib/python3.6/dist-packages (from textstat) (0.9.5)\n",
            "Requirement already satisfied: repoze.lru in /usr/local/lib/python3.6/dist-packages (from textstat) (0.7)\n"
          ],
          "name": "stdout"
        }
      ]
    },
    {
      "metadata": {
        "id": "mY_M_MuaBFrF",
        "colab_type": "code",
        "colab": {
          "base_uri": "https://localhost:8080/",
          "height": 34
        },
        "outputId": "d838a831-41a3-4404-cc68-501026f77a0b"
      },
      "cell_type": "code",
      "source": [
        "import textstat\n",
        "first = df.title.values[0]\n",
        "last = df.title.values[-1]\n",
        "first, last\n",
        "textstat.lexicon_count(first), textstat.lexicon_count(last)"
      ],
      "execution_count": 206,
      "outputs": [
        {
          "output_type": "execute_result",
          "data": {
            "text/plain": [
              "(7, 9)"
            ]
          },
          "metadata": {
            "tags": []
          },
          "execution_count": 206
        }
      ]
    },
    {
      "metadata": {
        "id": "Ei0Cxr5Uppyu",
        "colab_type": "code",
        "colab": {
          "base_uri": "https://localhost:8080/",
          "height": 326
        },
        "outputId": "763a5738-497b-4040-9063-4b90b50505d7"
      },
      "cell_type": "code",
      "source": [
        "df['title_word_count'] = df.title.apply(textstat.lexicon_count)\n",
        "df[df['title_word_count'] <= 3]"
      ],
      "execution_count": 207,
      "outputs": [
        {
          "output_type": "execute_result",
          "data": {
            "text/html": [
              "<div>\n",
              "<style scoped>\n",
              "    .dataframe tbody tr th:only-of-type {\n",
              "        vertical-align: middle;\n",
              "    }\n",
              "\n",
              "    .dataframe tbody tr th {\n",
              "        vertical-align: top;\n",
              "    }\n",
              "\n",
              "    .dataframe thead th {\n",
              "        text-align: right;\n",
              "    }\n",
              "</style>\n",
              "<table border=\"1\" class=\"dataframe\">\n",
              "  <thead>\n",
              "    <tr style=\"text-align: right;\">\n",
              "      <th></th>\n",
              "      <th>title</th>\n",
              "      <th>title_length</th>\n",
              "      <th>description</th>\n",
              "      <th>long_title</th>\n",
              "      <th>first_letter</th>\n",
              "      <th>title_word_count</th>\n",
              "    </tr>\n",
              "  </thead>\n",
              "  <tbody>\n",
              "    <tr>\n",
              "      <th>6</th>\n",
              "      <td>Automating Code Quality</td>\n",
              "      <td>23</td>\n",
              "      <td>Writing quality Python code can be both tough and tedious. On top of the general design, there are many code quality aspects that you need to watch out for when writing and reviewing code such as ...</td>\n",
              "      <td>False</td>\n",
              "      <td>A</td>\n",
              "      <td>3</td>\n",
              "    </tr>\n",
              "    <tr>\n",
              "      <th>8</th>\n",
              "      <td>Behavior-Driven Python</td>\n",
              "      <td>22</td>\n",
              "      <td>Behavior-Driven Development (BDD) is gaining popularity as an improved way to collaborate over product features and tests. In Python, **behave** is one of the leading BDD test frameworks. Using **...</td>\n",
              "      <td>False</td>\n",
              "      <td>B</td>\n",
              "      <td>2</td>\n",
              "    </tr>\n",
              "    <tr>\n",
              "      <th>21</th>\n",
              "      <td>Coding through Adversity</td>\n",
              "      <td>24</td>\n",
              "      <td>In 2017, I was released from prison after serving 17 years. One of the most transformational experiences I had while incarcerated was learning to code, through a pioneering new program called Code...</td>\n",
              "      <td>False</td>\n",
              "      <td>C</td>\n",
              "      <td>3</td>\n",
              "    </tr>\n",
              "    <tr>\n",
              "      <th>52</th>\n",
              "      <td>Love your bugs</td>\n",
              "      <td>14</td>\n",
              "      <td>Wrestling bugs can be one of the most frustrating parts of programming - but with the right framing, bugs can also be our best allies. I'll tell the tales of two of my favorite bugs, including the...</td>\n",
              "      <td>False</td>\n",
              "      <td>L</td>\n",
              "      <td>3</td>\n",
              "    </tr>\n",
              "    <tr>\n",
              "      <th>57</th>\n",
              "      <td>Practical Sphinx</td>\n",
              "      <td>16</td>\n",
              "      <td>Each member of your project team uses something different to document\\r\\ntheir work -- RestructuredText, Markdown, and Jupyter Notebooks. How do\\r\\nyou combine all of these into useful documentati...</td>\n",
              "      <td>False</td>\n",
              "      <td>P</td>\n",
              "      <td>2</td>\n",
              "    </tr>\n",
              "    <tr>\n",
              "      <th>76</th>\n",
              "      <td>Taking Django Async</td>\n",
              "      <td>19</td>\n",
              "      <td>The Django Channels project has taken a major turn with version 2.0, embracing Python's async functionality and building applications around an async event loop rather than worker processes.\\r\\n\\r...</td>\n",
              "      <td>False</td>\n",
              "      <td>T</td>\n",
              "      <td>3</td>\n",
              "    </tr>\n",
              "  </tbody>\n",
              "</table>\n",
              "</div>"
            ],
            "text/plain": [
              "                       title  title_length  \\\n",
              "6    Automating Code Quality            23   \n",
              "8     Behavior-Driven Python            22   \n",
              "21  Coding through Adversity            24   \n",
              "52            Love your bugs            14   \n",
              "57          Practical Sphinx            16   \n",
              "76       Taking Django Async            19   \n",
              "\n",
              "                                                                                                                                                                                                description  \\\n",
              "6   Writing quality Python code can be both tough and tedious. On top of the general design, there are many code quality aspects that you need to watch out for when writing and reviewing code such as ...   \n",
              "8   Behavior-Driven Development (BDD) is gaining popularity as an improved way to collaborate over product features and tests. In Python, **behave** is one of the leading BDD test frameworks. Using **...   \n",
              "21  In 2017, I was released from prison after serving 17 years. One of the most transformational experiences I had while incarcerated was learning to code, through a pioneering new program called Code...   \n",
              "52  Wrestling bugs can be one of the most frustrating parts of programming - but with the right framing, bugs can also be our best allies. I'll tell the tales of two of my favorite bugs, including the...   \n",
              "57  Each member of your project team uses something different to document\\r\\ntheir work -- RestructuredText, Markdown, and Jupyter Notebooks. How do\\r\\nyou combine all of these into useful documentati...   \n",
              "76  The Django Channels project has taken a major turn with version 2.0, embracing Python's async functionality and building applications around an async event loop rather than worker processes.\\r\\n\\r...   \n",
              "\n",
              "    long_title first_letter  title_word_count  \n",
              "6        False            A                 3  \n",
              "8        False            B                 2  \n",
              "21       False            C                 3  \n",
              "52       False            L                 3  \n",
              "57       False            P                 2  \n",
              "76       False            T                 3  "
            ]
          },
          "metadata": {
            "tags": []
          },
          "execution_count": 207
        }
      ]
    },
    {
      "metadata": {
        "id": "UN_7FABhwDqc",
        "colab_type": "text"
      },
      "cell_type": "markdown",
      "source": [
        "## Rename column\n",
        "\n",
        "`title length` --> `title character count`\n",
        "\n",
        "pandas documentation: [rename](https://pandas.pydata.org/pandas-docs/stable/generated/pandas.DataFrame.rename.html)"
      ]
    },
    {
      "metadata": {
        "id": "jvTif7sBBMpN",
        "colab_type": "code",
        "colab": {
          "base_uri": "https://localhost:8080/",
          "height": 67
        },
        "outputId": "95d244fc-26bd-4e79-b4a3-b46718efb39d"
      },
      "cell_type": "code",
      "source": [
        "df['title_character_count'] = df['title_length']\n",
        "df.head()\n",
        "#alt\n",
        "df = df.rename(columns={'title_legth': 'title_cha'})\n",
        "df.columns"
      ],
      "execution_count": 208,
      "outputs": [
        {
          "output_type": "execute_result",
          "data": {
            "text/plain": [
              "Index(['title', 'title_length', 'description', 'long_title', 'first_letter',\n",
              "       'title_word_count', 'title_character_count'],\n",
              "      dtype='object')"
            ]
          },
          "metadata": {
            "tags": []
          },
          "execution_count": 208
        }
      ]
    },
    {
      "metadata": {
        "id": "ca2pDtytr5tR",
        "colab_type": "text"
      },
      "cell_type": "markdown",
      "source": [
        "## Analyze the dataframe"
      ]
    },
    {
      "metadata": {
        "id": "AitNVDCFwWwc",
        "colab_type": "text"
      },
      "cell_type": "markdown",
      "source": [
        "### Describe\n",
        "\n",
        "pandas documentation: [describe](https://pandas.pydata.org/pandas-docs/stable/generated/pandas.DataFrame.describe.html)"
      ]
    },
    {
      "metadata": {
        "id": "yPo9RdxYBQ64",
        "colab_type": "code",
        "colab": {
          "base_uri": "https://localhost:8080/",
          "height": 182
        },
        "outputId": "9d0a88bc-33e0-4516-f0c8-c3af25c07864"
      },
      "cell_type": "code",
      "source": [
        "import numpy as np\n",
        "df.describe(exclude=np.number)"
      ],
      "execution_count": 209,
      "outputs": [
        {
          "output_type": "execute_result",
          "data": {
            "text/html": [
              "<div>\n",
              "<style scoped>\n",
              "    .dataframe tbody tr th:only-of-type {\n",
              "        vertical-align: middle;\n",
              "    }\n",
              "\n",
              "    .dataframe tbody tr th {\n",
              "        vertical-align: top;\n",
              "    }\n",
              "\n",
              "    .dataframe thead th {\n",
              "        text-align: right;\n",
              "    }\n",
              "</style>\n",
              "<table border=\"1\" class=\"dataframe\">\n",
              "  <thead>\n",
              "    <tr style=\"text-align: right;\">\n",
              "      <th></th>\n",
              "      <th>title</th>\n",
              "      <th>description</th>\n",
              "      <th>long_title</th>\n",
              "      <th>first_letter</th>\n",
              "    </tr>\n",
              "  </thead>\n",
              "  <tbody>\n",
              "    <tr>\n",
              "      <th>count</th>\n",
              "      <td>95</td>\n",
              "      <td>95</td>\n",
              "      <td>95</td>\n",
              "      <td>95</td>\n",
              "    </tr>\n",
              "    <tr>\n",
              "      <th>unique</th>\n",
              "      <td>95</td>\n",
              "      <td>95</td>\n",
              "      <td>2</td>\n",
              "      <td>21</td>\n",
              "    </tr>\n",
              "    <tr>\n",
              "      <th>top</th>\n",
              "      <td>The Journey Over the Intermediate Gap</td>\n",
              "      <td>Occasionally weâll find that some bit of Python weâve written doesnât run as fast as weâd like, what can we do? Performance bottlenecks arenât always intuitive or easy to spot by reading...</td>\n",
              "      <td>False</td>\n",
              "      <td>P</td>\n",
              "    </tr>\n",
              "    <tr>\n",
              "      <th>freq</th>\n",
              "      <td>1</td>\n",
              "      <td>1</td>\n",
              "      <td>90</td>\n",
              "      <td>12</td>\n",
              "    </tr>\n",
              "  </tbody>\n",
              "</table>\n",
              "</div>"
            ],
            "text/plain": [
              "                                        title  \\\n",
              "count                                      95   \n",
              "unique                                     95   \n",
              "top     The Journey Over the Intermediate Gap   \n",
              "freq                                        1   \n",
              "\n",
              "                                                                                                                                                                                                    description  \\\n",
              "count                                                                                                                                                                                                        95   \n",
              "unique                                                                                                                                                                                                       95   \n",
              "top     Occasionally weâll find that some bit of Python weâve written doesnât run as fast as weâd like, what can we do? Performance bottlenecks arenât always intuitive or easy to spot by reading...   \n",
              "freq                                                                                                                                                                                                          1   \n",
              "\n",
              "       long_title first_letter  \n",
              "count          95           95  \n",
              "unique          2           21  \n",
              "top         False            P  \n",
              "freq           90           12  "
            ]
          },
          "metadata": {
            "tags": []
          },
          "execution_count": 209
        }
      ]
    },
    {
      "metadata": {
        "id": "T0lc_o-xyjZU",
        "colab_type": "text"
      },
      "cell_type": "markdown",
      "source": [
        "### Sort values\n",
        "\n",
        "pandas documentation: [sort_values](https://pandas.pydata.org/pandas-docs/stable/generated/pandas.DataFrame.sort_values.html)"
      ]
    },
    {
      "metadata": {
        "id": "9QFVpN1yrjyY",
        "colab_type": "code",
        "colab": {
          "base_uri": "https://localhost:8080/",
          "height": 346
        },
        "outputId": "f9e503a1-6c73-4adc-f65f-5d1496cf987e"
      },
      "cell_type": "code",
      "source": [
        "df.sort_values(by='title_character_count').head()"
      ],
      "execution_count": 210,
      "outputs": [
        {
          "output_type": "execute_result",
          "data": {
            "text/html": [
              "<div>\n",
              "<style scoped>\n",
              "    .dataframe tbody tr th:only-of-type {\n",
              "        vertical-align: middle;\n",
              "    }\n",
              "\n",
              "    .dataframe tbody tr th {\n",
              "        vertical-align: top;\n",
              "    }\n",
              "\n",
              "    .dataframe thead th {\n",
              "        text-align: right;\n",
              "    }\n",
              "</style>\n",
              "<table border=\"1\" class=\"dataframe\">\n",
              "  <thead>\n",
              "    <tr style=\"text-align: right;\">\n",
              "      <th></th>\n",
              "      <th>title</th>\n",
              "      <th>title_length</th>\n",
              "      <th>description</th>\n",
              "      <th>long_title</th>\n",
              "      <th>first_letter</th>\n",
              "      <th>title_word_count</th>\n",
              "      <th>title_character_count</th>\n",
              "    </tr>\n",
              "  </thead>\n",
              "  <tbody>\n",
              "    <tr>\n",
              "      <th>52</th>\n",
              "      <td>Love your bugs</td>\n",
              "      <td>14</td>\n",
              "      <td>Wrestling bugs can be one of the most frustrating parts of programming - but with the right framing, bugs can also be our best allies. I'll tell the tales of two of my favorite bugs, including the...</td>\n",
              "      <td>False</td>\n",
              "      <td>L</td>\n",
              "      <td>3</td>\n",
              "      <td>14</td>\n",
              "    </tr>\n",
              "    <tr>\n",
              "      <th>77</th>\n",
              "      <td>The AST and Me</td>\n",
              "      <td>14</td>\n",
              "      <td>Get under the hood and learn about Python's beloved Abstract Syntax Tree. Ever wonder how Python code is run? Overheard people arguing about whether Python is interpreted or compiled? In this talk...</td>\n",
              "      <td>False</td>\n",
              "      <td>T</td>\n",
              "      <td>4</td>\n",
              "      <td>14</td>\n",
              "    </tr>\n",
              "    <tr>\n",
              "      <th>57</th>\n",
              "      <td>Practical Sphinx</td>\n",
              "      <td>16</td>\n",
              "      <td>Each member of your project team uses something different to document\\r\\ntheir work -- RestructuredText, Markdown, and Jupyter Notebooks. How do\\r\\nyou combine all of these into useful documentati...</td>\n",
              "      <td>False</td>\n",
              "      <td>P</td>\n",
              "      <td>2</td>\n",
              "      <td>16</td>\n",
              "    </tr>\n",
              "    <tr>\n",
              "      <th>76</th>\n",
              "      <td>Taking Django Async</td>\n",
              "      <td>19</td>\n",
              "      <td>The Django Channels project has taken a major turn with version 2.0, embracing Python's async functionality and building applications around an async event loop rather than worker processes.\\r\\n\\r...</td>\n",
              "      <td>False</td>\n",
              "      <td>T</td>\n",
              "      <td>3</td>\n",
              "      <td>19</td>\n",
              "    </tr>\n",
              "    <tr>\n",
              "      <th>44</th>\n",
              "      <td>HOWTO Write a Function</td>\n",
              "      <td>22</td>\n",
              "      <td>A function is a small chunk of code that does useful work. Your job when writing a function is to do it in a way that it easy to read. Based on over 15 years of code reviews here are some tips and...</td>\n",
              "      <td>False</td>\n",
              "      <td>H</td>\n",
              "      <td>4</td>\n",
              "      <td>22</td>\n",
              "    </tr>\n",
              "  </tbody>\n",
              "</table>\n",
              "</div>"
            ],
            "text/plain": [
              "                     title  title_length  \\\n",
              "52          Love your bugs            14   \n",
              "77          The AST and Me            14   \n",
              "57        Practical Sphinx            16   \n",
              "76     Taking Django Async            19   \n",
              "44  HOWTO Write a Function            22   \n",
              "\n",
              "                                                                                                                                                                                                description  \\\n",
              "52  Wrestling bugs can be one of the most frustrating parts of programming - but with the right framing, bugs can also be our best allies. I'll tell the tales of two of my favorite bugs, including the...   \n",
              "77  Get under the hood and learn about Python's beloved Abstract Syntax Tree. Ever wonder how Python code is run? Overheard people arguing about whether Python is interpreted or compiled? In this talk...   \n",
              "57  Each member of your project team uses something different to document\\r\\ntheir work -- RestructuredText, Markdown, and Jupyter Notebooks. How do\\r\\nyou combine all of these into useful documentati...   \n",
              "76  The Django Channels project has taken a major turn with version 2.0, embracing Python's async functionality and building applications around an async event loop rather than worker processes.\\r\\n\\r...   \n",
              "44  A function is a small chunk of code that does useful work. Your job when writing a function is to do it in a way that it easy to read. Based on over 15 years of code reviews here are some tips and...   \n",
              "\n",
              "    long_title first_letter  title_word_count  title_character_count  \n",
              "52       False            L                 3                     14  \n",
              "77       False            T                 4                     14  \n",
              "57       False            P                 2                     16  \n",
              "76       False            T                 3                     19  \n",
              "44       False            H                 4                     22  "
            ]
          },
          "metadata": {
            "tags": []
          },
          "execution_count": 210
        }
      ]
    },
    {
      "metadata": {
        "id": "kxE2swJ9-cG_",
        "colab_type": "text"
      },
      "cell_type": "markdown",
      "source": [
        "Five shortest titles, by character count"
      ]
    },
    {
      "metadata": {
        "id": "7t8DlpLhBVQa",
        "colab_type": "code",
        "colab": {
          "base_uri": "https://localhost:8080/",
          "height": 363
        },
        "outputId": "e206ed76-1921-4c98-fc88-35ab10b2e0b8"
      },
      "cell_type": "code",
      "source": [
        "df['first_letter'] = df['first_letter'].str.upper()\n",
        "df.sort_values(by='first_letter', ascending=False).head()"
      ],
      "execution_count": 211,
      "outputs": [
        {
          "output_type": "execute_result",
          "data": {
            "text/html": [
              "<div>\n",
              "<style scoped>\n",
              "    .dataframe tbody tr th:only-of-type {\n",
              "        vertical-align: middle;\n",
              "    }\n",
              "\n",
              "    .dataframe tbody tr th {\n",
              "        vertical-align: top;\n",
              "    }\n",
              "\n",
              "    .dataframe thead th {\n",
              "        text-align: right;\n",
              "    }\n",
              "</style>\n",
              "<table border=\"1\" class=\"dataframe\">\n",
              "  <thead>\n",
              "    <tr style=\"text-align: right;\">\n",
              "      <th></th>\n",
              "      <th>title</th>\n",
              "      <th>title_length</th>\n",
              "      <th>description</th>\n",
              "      <th>long_title</th>\n",
              "      <th>first_letter</th>\n",
              "      <th>title_word_count</th>\n",
              "      <th>title_character_count</th>\n",
              "    </tr>\n",
              "  </thead>\n",
              "  <tbody>\n",
              "    <tr>\n",
              "      <th>94</th>\n",
              "      <td>You're an expert. Here's how to teach like one.</td>\n",
              "      <td>47</td>\n",
              "      <td>Knowing how to code and being able to teach it are two separate skills. When we have expertise in a subject, it's common to take for granted that we'll be able to effectively communicate our exper...</td>\n",
              "      <td>False</td>\n",
              "      <td>Y</td>\n",
              "      <td>9</td>\n",
              "      <td>47</td>\n",
              "    </tr>\n",
              "    <tr>\n",
              "      <th>93</th>\n",
              "      <td>Win back lovely API: GraphQL in Python</td>\n",
              "      <td>38</td>\n",
              "      <td>RESTful has been the go-to choice of API world. Why another API approach? To support more data-driven applications, to provide more flexibility and ease unnecessary code and calls, to address a wi...</td>\n",
              "      <td>False</td>\n",
              "      <td>W</td>\n",
              "      <td>7</td>\n",
              "      <td>38</td>\n",
              "    </tr>\n",
              "    <tr>\n",
              "      <th>91</th>\n",
              "      <td>What is a Python Core Developer?</td>\n",
              "      <td>32</td>\n",
              "      <td>How do you become a Python core developer? How can I become one? What is it like to be a Python core developer?\\r\\n\\r\\nThese are the questions I often receive ever since I became a Python core dev...</td>\n",
              "      <td>False</td>\n",
              "      <td>W</td>\n",
              "      <td>6</td>\n",
              "      <td>32</td>\n",
              "    </tr>\n",
              "    <tr>\n",
              "      <th>90</th>\n",
              "      <td>Visual Testing with PyCharm and pytest</td>\n",
              "      <td>38</td>\n",
              "      <td>Know you should be doing testing but havenât gotten over the hurdle to learn it? pytest is Pythonâs modern, friendly, and powerful testing framework. When paired with an IDE, testing gets a vi...</td>\n",
              "      <td>False</td>\n",
              "      <td>V</td>\n",
              "      <td>6</td>\n",
              "      <td>38</td>\n",
              "    </tr>\n",
              "    <tr>\n",
              "      <th>89</th>\n",
              "      <td>Visualizing Algorithms with Python and Programmable LEDs</td>\n",
              "      <td>56</td>\n",
              "      <td>Recently, a new LED strip specification, APA102, has been released which allows these strips to be driven by a general purpose CPU instead of a dedicated microcontroller. This allows us the luxury...</td>\n",
              "      <td>False</td>\n",
              "      <td>V</td>\n",
              "      <td>7</td>\n",
              "      <td>56</td>\n",
              "    </tr>\n",
              "  </tbody>\n",
              "</table>\n",
              "</div>"
            ],
            "text/plain": [
              "                                                       title  title_length  \\\n",
              "94           You're an expert. Here's how to teach like one.            47   \n",
              "93                    Win back lovely API: GraphQL in Python            38   \n",
              "91                          What is a Python Core Developer?            32   \n",
              "90                    Visual Testing with PyCharm and pytest            38   \n",
              "89  Visualizing Algorithms with Python and Programmable LEDs            56   \n",
              "\n",
              "                                                                                                                                                                                                description  \\\n",
              "94  Knowing how to code and being able to teach it are two separate skills. When we have expertise in a subject, it's common to take for granted that we'll be able to effectively communicate our exper...   \n",
              "93  RESTful has been the go-to choice of API world. Why another API approach? To support more data-driven applications, to provide more flexibility and ease unnecessary code and calls, to address a wi...   \n",
              "91  How do you become a Python core developer? How can I become one? What is it like to be a Python core developer?\\r\\n\\r\\nThese are the questions I often receive ever since I became a Python core dev...   \n",
              "90  Know you should be doing testing but havenât gotten over the hurdle to learn it? pytest is Pythonâs modern, friendly, and powerful testing framework. When paired with an IDE, testing gets a vi...   \n",
              "89  Recently, a new LED strip specification, APA102, has been released which allows these strips to be driven by a general purpose CPU instead of a dedicated microcontroller. This allows us the luxury...   \n",
              "\n",
              "    long_title first_letter  title_word_count  title_character_count  \n",
              "94       False            Y                 9                     47  \n",
              "93       False            W                 7                     38  \n",
              "91       False            W                 6                     32  \n",
              "90       False            V                 6                     38  \n",
              "89       False            V                 7                     56  "
            ]
          },
          "metadata": {
            "tags": []
          },
          "execution_count": 211
        }
      ]
    },
    {
      "metadata": {
        "id": "NOEH4Ef5-kvo",
        "colab_type": "text"
      },
      "cell_type": "markdown",
      "source": [
        "Titles sorted reverse alphabetically"
      ]
    },
    {
      "metadata": {
        "id": "WkymeWDjBV8X",
        "colab_type": "code",
        "colab": {}
      },
      "cell_type": "code",
      "source": [
        ""
      ],
      "execution_count": 0,
      "outputs": []
    },
    {
      "metadata": {
        "id": "e4wr42FB0GV-",
        "colab_type": "text"
      },
      "cell_type": "markdown",
      "source": [
        "### Get value counts\n",
        "\n",
        "pandas documentation: [value_counts](https://pandas.pydata.org/pandas-docs/stable/generated/pandas.Series.value_counts.html)\n"
      ]
    },
    {
      "metadata": {
        "id": "D81LNGaI-6ya",
        "colab_type": "text"
      },
      "cell_type": "markdown",
      "source": [
        "Frequency counts of first letters"
      ]
    },
    {
      "metadata": {
        "id": "AdTQYsRKBZio",
        "colab_type": "code",
        "colab": {
          "base_uri": "https://localhost:8080/",
          "height": 370
        },
        "outputId": "91719edd-6218-4fcd-8452-77514f877bc1"
      },
      "cell_type": "code",
      "source": [
        "df['first_letter'].value_counts().sort_index()"
      ],
      "execution_count": 212,
      "outputs": [
        {
          "output_type": "execute_result",
          "data": {
            "text/plain": [
              "\"     1\n",
              "A     7\n",
              "B    11\n",
              "C     8\n",
              "D     7\n",
              "E     5\n",
              "F     3\n",
              "G     2\n",
              "H     5\n",
              "I     2\n",
              "L     3\n",
              "O     2\n",
              "P    12\n",
              "R     3\n",
              "S     6\n",
              "T    11\n",
              "U     2\n",
              "V     2\n",
              "W     2\n",
              "Y     1\n",
              "Name: first_letter, dtype: int64"
            ]
          },
          "metadata": {
            "tags": []
          },
          "execution_count": 212
        }
      ]
    },
    {
      "metadata": {
        "id": "8DB0QFXwsoUV",
        "colab_type": "code",
        "colab": {
          "base_uri": "https://localhost:8080/",
          "height": 47
        },
        "outputId": "65c74366-4ac8-4807-b054-33d1eb51b886"
      },
      "cell_type": "code",
      "source": [
        "df[df['first_letter']=='\"\"']"
      ],
      "execution_count": 213,
      "outputs": [
        {
          "output_type": "execute_result",
          "data": {
            "text/html": [
              "<div>\n",
              "<style scoped>\n",
              "    .dataframe tbody tr th:only-of-type {\n",
              "        vertical-align: middle;\n",
              "    }\n",
              "\n",
              "    .dataframe tbody tr th {\n",
              "        vertical-align: top;\n",
              "    }\n",
              "\n",
              "    .dataframe thead th {\n",
              "        text-align: right;\n",
              "    }\n",
              "</style>\n",
              "<table border=\"1\" class=\"dataframe\">\n",
              "  <thead>\n",
              "    <tr style=\"text-align: right;\">\n",
              "      <th></th>\n",
              "      <th>title</th>\n",
              "      <th>title_length</th>\n",
              "      <th>description</th>\n",
              "      <th>long_title</th>\n",
              "      <th>first_letter</th>\n",
              "      <th>title_word_count</th>\n",
              "      <th>title_character_count</th>\n",
              "    </tr>\n",
              "  </thead>\n",
              "  <tbody>\n",
              "  </tbody>\n",
              "</table>\n",
              "</div>"
            ],
            "text/plain": [
              "Empty DataFrame\n",
              "Columns: [title, title_length, description, long_title, first_letter, title_word_count, title_character_count]\n",
              "Index: []"
            ]
          },
          "metadata": {
            "tags": []
          },
          "execution_count": 213
        }
      ]
    },
    {
      "metadata": {
        "id": "04NVokvTAwqK",
        "colab_type": "text"
      },
      "cell_type": "markdown",
      "source": [
        "Percentage of talks with long titles"
      ]
    },
    {
      "metadata": {
        "id": "uS8qp4hrBat6",
        "colab_type": "code",
        "colab": {
          "base_uri": "https://localhost:8080/",
          "height": 67
        },
        "outputId": "2edb720b-2bb8-4abf-88bc-a405770ac896"
      },
      "cell_type": "code",
      "source": [
        "df['long_title'].value_counts()/len(df)\n",
        "#alt\n",
        "df['long_title'].value_counts(normalize=True)*100"
      ],
      "execution_count": 214,
      "outputs": [
        {
          "output_type": "execute_result",
          "data": {
            "text/plain": [
              "False    94.736842\n",
              "True      5.263158\n",
              "Name: long_title, dtype: float64"
            ]
          },
          "metadata": {
            "tags": []
          },
          "execution_count": 214
        }
      ]
    },
    {
      "metadata": {
        "id": "mmYZL2QL0lgd",
        "colab_type": "text"
      },
      "cell_type": "markdown",
      "source": [
        "### Plot\n",
        "\n",
        "pandas documentation: [Visualization](https://pandas.pydata.org/pandas-docs/stable/visualization.html)\n",
        "\n",
        "\n",
        "\n"
      ]
    },
    {
      "metadata": {
        "id": "c6gCotA9_B68",
        "colab_type": "text"
      },
      "cell_type": "markdown",
      "source": [
        "Top 5 most frequent first letters"
      ]
    },
    {
      "metadata": {
        "id": "DUmcVcdXBdkw",
        "colab_type": "code",
        "colab": {
          "base_uri": "https://localhost:8080/",
          "height": 280
        },
        "outputId": "f0062e5b-c384-4b83-9019-e87a2b7fce34"
      },
      "cell_type": "code",
      "source": [
        "%matplotlib inline\n",
        "(df['first_letter'].value_counts().head()\n",
        " .plot.barh(color='grey', title='Top 5 Most Frequent First Letters'));\n",
        "#suppress subplot object with ;\n"
      ],
      "execution_count": 215,
      "outputs": [
        {
          "output_type": "display_data",
          "data": {
            "image/png": "[encoded data removed]",
            "text/plain": [
              "<matplotlib.figure.Figure at 0x7f50a2aa9d30>"
            ]
          },
          "metadata": {
            "tags": []
          }
        }
      ]
    },
    {
      "metadata": {
        "id": "_Ngegk0bASty",
        "colab_type": "text"
      },
      "cell_type": "markdown",
      "source": [
        "Histogram of title lengths, in characters"
      ]
    },
    {
      "metadata": {
        "id": "y5oLu2D4BeKw",
        "colab_type": "code",
        "colab": {
          "base_uri": "https://localhost:8080/",
          "height": 280
        },
        "outputId": "910633c8-10e6-4983-b7f6-287baecf6e21"
      },
      "cell_type": "code",
      "source": [
        "title = 'Dist of Character Count'\n",
        "df['title_character_count'].plot.hist(title=title);"
      ],
      "execution_count": 216,
      "outputs": [
        {
          "output_type": "display_data",
          "data": {
            "image/png": "[encoded data removed]",
            "text/plain": [
              "<matplotlib.figure.Figure at 0x7f50a2a11278>"
            ]
          },
          "metadata": {
            "tags": []
          }
        }
      ]
    },
    {
      "metadata": {
        "id": "DiylH7LQw44u",
        "colab_type": "text"
      },
      "cell_type": "markdown",
      "source": [
        "# Assignment\n",
        "\n",
        "**Scrape** the talk descriptions. Hint: `soup.select('.presentation-description')`\n",
        "\n",
        "**Make** new columns in the dataframe:\n",
        "- description\n",
        "- description character count\n",
        "- description word count\n",
        "- description grade level (use [this `textstat` function](https://github.com/shivam5992/textstat#the-flesch-kincaid-grade-level) to get the Flesh-Kincaid grade level)\n",
        "\n",
        "**Describe** all the dataframe's columns. What's the average description word count? The minimum? The maximum?\n",
        "\n",
        "**Answer** these questions:\n",
        "- Which descriptions could fit in a tweet?\n",
        "- What's the distribution of grade levels? Plot a histogram.\n",
        "\n"
      ]
    },
    {
      "metadata": {
        "id": "Ii3mklzMufl4",
        "colab_type": "code",
        "colab": {
          "base_uri": "https://localhost:8080/",
          "height": 174
        },
        "outputId": "9aef1898-0452-4ebe-e51c-35643174c730"
      },
      "cell_type": "code",
      "source": [
        "description = [tag.text.strip() for tag in soup.select('.presentation-description')]\n",
        "df['description'] = description\n",
        "df.head(2)"
      ],
      "execution_count": 218,
      "outputs": [
        {
          "output_type": "execute_result",
          "data": {
            "text/html": [
              "<div>\n",
              "<style scoped>\n",
              "    .dataframe tbody tr th:only-of-type {\n",
              "        vertical-align: middle;\n",
              "    }\n",
              "\n",
              "    .dataframe tbody tr th {\n",
              "        vertical-align: top;\n",
              "    }\n",
              "\n",
              "    .dataframe thead th {\n",
              "        text-align: right;\n",
              "    }\n",
              "</style>\n",
              "<table border=\"1\" class=\"dataframe\">\n",
              "  <thead>\n",
              "    <tr style=\"text-align: right;\">\n",
              "      <th></th>\n",
              "      <th>title</th>\n",
              "      <th>title_length</th>\n",
              "      <th>description</th>\n",
              "      <th>long_title</th>\n",
              "      <th>first_letter</th>\n",
              "      <th>title_word_count</th>\n",
              "      <th>title_character_count</th>\n",
              "    </tr>\n",
              "  </thead>\n",
              "  <tbody>\n",
              "    <tr>\n",
              "      <th>0</th>\n",
              "      <td>A Bit about Bytes: Understanding Python Bytecode</td>\n",
              "      <td>48</td>\n",
              "      <td>At some point every Python programmer sees Python bytecode files -- they're those '.pyc' files Python likes to leave behind after it runs. But have you ever wondered what's really going on in thos...</td>\n",
              "      <td>False</td>\n",
              "      <td>A</td>\n",
              "      <td>7</td>\n",
              "      <td>48</td>\n",
              "    </tr>\n",
              "    <tr>\n",
              "      <th>1</th>\n",
              "      <td>Adapting from Spark to Dask: what to expect</td>\n",
              "      <td>43</td>\n",
              "      <td>Until very recently, Apache Spark has been a de facto standard choice of a framework for batch data processing. For Python developers, diving into Spark is challenging, because it requires learnin...</td>\n",
              "      <td>False</td>\n",
              "      <td>A</td>\n",
              "      <td>8</td>\n",
              "      <td>43</td>\n",
              "    </tr>\n",
              "  </tbody>\n",
              "</table>\n",
              "</div>"
            ],
            "text/plain": [
              "                                              title  title_length  \\\n",
              "0  A Bit about Bytes: Understanding Python Bytecode            48   \n",
              "1       Adapting from Spark to Dask: what to expect            43   \n",
              "\n",
              "                                                                                                                                                                                               description  \\\n",
              "0  At some point every Python programmer sees Python bytecode files -- they're those '.pyc' files Python likes to leave behind after it runs. But have you ever wondered what's really going on in thos...   \n",
              "1  Until very recently, Apache Spark has been a de facto standard choice of a framework for batch data processing. For Python developers, diving into Spark is challenging, because it requires learnin...   \n",
              "\n",
              "   long_title first_letter  title_word_count  title_character_count  \n",
              "0       False            A                 7                     48  \n",
              "1       False            A                 8                     43  "
            ]
          },
          "metadata": {
            "tags": []
          },
          "execution_count": 218
        }
      ]
    },
    {
      "metadata": {
        "id": "A3aPTCVCxN4z",
        "colab_type": "code",
        "colab": {
          "base_uri": "https://localhost:8080/",
          "height": 241
        },
        "outputId": "12d57448-1824-4f21-8b9e-d4091f5b9899"
      },
      "cell_type": "code",
      "source": [
        "df['desc_character_count'] = df.description.apply(len)\n",
        "df['desc_word_count'] = df.description.apply(textstat.lexicon_count)\n",
        "df.head(2)"
      ],
      "execution_count": 219,
      "outputs": [
        {
          "output_type": "execute_result",
          "data": {
            "text/html": [
              "<div>\n",
              "<style scoped>\n",
              "    .dataframe tbody tr th:only-of-type {\n",
              "        vertical-align: middle;\n",
              "    }\n",
              "\n",
              "    .dataframe tbody tr th {\n",
              "        vertical-align: top;\n",
              "    }\n",
              "\n",
              "    .dataframe thead th {\n",
              "        text-align: right;\n",
              "    }\n",
              "</style>\n",
              "<table border=\"1\" class=\"dataframe\">\n",
              "  <thead>\n",
              "    <tr style=\"text-align: right;\">\n",
              "      <th></th>\n",
              "      <th>title</th>\n",
              "      <th>title_length</th>\n",
              "      <th>description</th>\n",
              "      <th>long_title</th>\n",
              "      <th>first_letter</th>\n",
              "      <th>title_word_count</th>\n",
              "      <th>title_character_count</th>\n",
              "      <th>desc_character_count</th>\n",
              "      <th>desc_word_count</th>\n",
              "    </tr>\n",
              "  </thead>\n",
              "  <tbody>\n",
              "    <tr>\n",
              "      <th>0</th>\n",
              "      <td>A Bit about Bytes: Understanding Python Bytecode</td>\n",
              "      <td>48</td>\n",
              "      <td>At some point every Python programmer sees Python bytecode files -- they're those '.pyc' files Python likes to leave behind after it runs. But have you ever wondered what's really going on in thos...</td>\n",
              "      <td>False</td>\n",
              "      <td>A</td>\n",
              "      <td>7</td>\n",
              "      <td>48</td>\n",
              "      <td>440</td>\n",
              "      <td>78</td>\n",
              "    </tr>\n",
              "    <tr>\n",
              "      <th>1</th>\n",
              "      <td>Adapting from Spark to Dask: what to expect</td>\n",
              "      <td>43</td>\n",
              "      <td>Until very recently, Apache Spark has been a de facto standard choice of a framework for batch data processing. For Python developers, diving into Spark is challenging, because it requires learnin...</td>\n",
              "      <td>False</td>\n",
              "      <td>A</td>\n",
              "      <td>8</td>\n",
              "      <td>43</td>\n",
              "      <td>881</td>\n",
              "      <td>141</td>\n",
              "    </tr>\n",
              "  </tbody>\n",
              "</table>\n",
              "</div>"
            ],
            "text/plain": [
              "                                              title  title_length  \\\n",
              "0  A Bit about Bytes: Understanding Python Bytecode            48   \n",
              "1       Adapting from Spark to Dask: what to expect            43   \n",
              "\n",
              "                                                                                                                                                                                               description  \\\n",
              "0  At some point every Python programmer sees Python bytecode files -- they're those '.pyc' files Python likes to leave behind after it runs. But have you ever wondered what's really going on in thos...   \n",
              "1  Until very recently, Apache Spark has been a de facto standard choice of a framework for batch data processing. For Python developers, diving into Spark is challenging, because it requires learnin...   \n",
              "\n",
              "   long_title first_letter  title_word_count  title_character_count  \\\n",
              "0       False            A                 7                     48   \n",
              "1       False            A                 8                     43   \n",
              "\n",
              "   desc_character_count  desc_word_count  \n",
              "0                   440               78  \n",
              "1                   881              141  "
            ]
          },
          "metadata": {
            "tags": []
          },
          "execution_count": 219
        }
      ]
    },
    {
      "metadata": {
        "id": "sTPukDkcNjM4",
        "colab_type": "code",
        "colab": {
          "base_uri": "https://localhost:8080/",
          "height": 308
        },
        "outputId": "45a02569-6272-416d-b139-40ecc56306d3"
      },
      "cell_type": "code",
      "source": [
        "textlist = []\n",
        "indexno = 0\n",
        "for index in df['description']:\n",
        "  x = textstat.flesch_kincaid_grade(df['description'][indexno])\n",
        "  textlist.append(x)\n",
        "  indexno = indexno+1\n",
        "df['desc_gradelv'] = textlist\n",
        "df.head(2)"
      ],
      "execution_count": 220,
      "outputs": [
        {
          "output_type": "execute_result",
          "data": {
            "text/html": [
              "<div>\n",
              "<style scoped>\n",
              "    .dataframe tbody tr th:only-of-type {\n",
              "        vertical-align: middle;\n",
              "    }\n",
              "\n",
              "    .dataframe tbody tr th {\n",
              "        vertical-align: top;\n",
              "    }\n",
              "\n",
              "    .dataframe thead th {\n",
              "        text-align: right;\n",
              "    }\n",
              "</style>\n",
              "<table border=\"1\" class=\"dataframe\">\n",
              "  <thead>\n",
              "    <tr style=\"text-align: right;\">\n",
              "      <th></th>\n",
              "      <th>title</th>\n",
              "      <th>title_length</th>\n",
              "      <th>description</th>\n",
              "      <th>long_title</th>\n",
              "      <th>first_letter</th>\n",
              "      <th>title_word_count</th>\n",
              "      <th>title_character_count</th>\n",
              "      <th>desc_character_count</th>\n",
              "      <th>desc_word_count</th>\n",
              "      <th>desc_gradelv</th>\n",
              "    </tr>\n",
              "  </thead>\n",
              "  <tbody>\n",
              "    <tr>\n",
              "      <th>0</th>\n",
              "      <td>A Bit about Bytes: Understanding Python Bytecode</td>\n",
              "      <td>48</td>\n",
              "      <td>At some point every Python programmer sees Python bytecode files -- they're those '.pyc' files Python likes to leave behind after it runs. But have you ever wondered what's really going on in thos...</td>\n",
              "      <td>False</td>\n",
              "      <td>A</td>\n",
              "      <td>7</td>\n",
              "      <td>48</td>\n",
              "      <td>440</td>\n",
              "      <td>78</td>\n",
              "      <td>7.4</td>\n",
              "    </tr>\n",
              "    <tr>\n",
              "      <th>1</th>\n",
              "      <td>Adapting from Spark to Dask: what to expect</td>\n",
              "      <td>43</td>\n",
              "      <td>Until very recently, Apache Spark has been a de facto standard choice of a framework for batch data processing. For Python developers, diving into Spark is challenging, because it requires learnin...</td>\n",
              "      <td>False</td>\n",
              "      <td>A</td>\n",
              "      <td>8</td>\n",
              "      <td>43</td>\n",
              "      <td>881</td>\n",
              "      <td>141</td>\n",
              "      <td>14.3</td>\n",
              "    </tr>\n",
              "  </tbody>\n",
              "</table>\n",
              "</div>"
            ],
            "text/plain": [
              "                                              title  title_length  \\\n",
              "0  A Bit about Bytes: Understanding Python Bytecode            48   \n",
              "1       Adapting from Spark to Dask: what to expect            43   \n",
              "\n",
              "                                                                                                                                                                                               description  \\\n",
              "0  At some point every Python programmer sees Python bytecode files -- they're those '.pyc' files Python likes to leave behind after it runs. But have you ever wondered what's really going on in thos...   \n",
              "1  Until very recently, Apache Spark has been a de facto standard choice of a framework for batch data processing. For Python developers, diving into Spark is challenging, because it requires learnin...   \n",
              "\n",
              "   long_title first_letter  title_word_count  title_character_count  \\\n",
              "0       False            A                 7                     48   \n",
              "1       False            A                 8                     43   \n",
              "\n",
              "   desc_character_count  desc_word_count  desc_gradelv  \n",
              "0                   440               78           7.4  \n",
              "1                   881              141          14.3  "
            ]
          },
          "metadata": {
            "tags": []
          },
          "execution_count": 220
        }
      ]
    },
    {
      "metadata": {
        "id": "AR0EfPtyXD47",
        "colab_type": "code",
        "colab": {
          "base_uri": "https://localhost:8080/",
          "height": 182
        },
        "outputId": "2bc67ea4-e1c5-460c-d54f-493c63481c49"
      },
      "cell_type": "code",
      "source": [
        "import numpy as np\n",
        "df.describe(exclude=np.number)"
      ],
      "execution_count": 221,
      "outputs": [
        {
          "output_type": "execute_result",
          "data": {
            "text/html": [
              "<div>\n",
              "<style scoped>\n",
              "    .dataframe tbody tr th:only-of-type {\n",
              "        vertical-align: middle;\n",
              "    }\n",
              "\n",
              "    .dataframe tbody tr th {\n",
              "        vertical-align: top;\n",
              "    }\n",
              "\n",
              "    .dataframe thead th {\n",
              "        text-align: right;\n",
              "    }\n",
              "</style>\n",
              "<table border=\"1\" class=\"dataframe\">\n",
              "  <thead>\n",
              "    <tr style=\"text-align: right;\">\n",
              "      <th></th>\n",
              "      <th>title</th>\n",
              "      <th>description</th>\n",
              "      <th>long_title</th>\n",
              "      <th>first_letter</th>\n",
              "    </tr>\n",
              "  </thead>\n",
              "  <tbody>\n",
              "    <tr>\n",
              "      <th>count</th>\n",
              "      <td>95</td>\n",
              "      <td>95</td>\n",
              "      <td>95</td>\n",
              "      <td>95</td>\n",
              "    </tr>\n",
              "    <tr>\n",
              "      <th>unique</th>\n",
              "      <td>95</td>\n",
              "      <td>95</td>\n",
              "      <td>2</td>\n",
              "      <td>20</td>\n",
              "    </tr>\n",
              "    <tr>\n",
              "      <th>top</th>\n",
              "      <td>The Journey Over the Intermediate Gap</td>\n",
              "      <td>Occasionally weâll find that some bit of Python weâve written doesnât run as fast as weâd like, what can we do? Performance bottlenecks arenât always intuitive or easy to spot by reading...</td>\n",
              "      <td>False</td>\n",
              "      <td>P</td>\n",
              "    </tr>\n",
              "    <tr>\n",
              "      <th>freq</th>\n",
              "      <td>1</td>\n",
              "      <td>1</td>\n",
              "      <td>90</td>\n",
              "      <td>12</td>\n",
              "    </tr>\n",
              "  </tbody>\n",
              "</table>\n",
              "</div>"
            ],
            "text/plain": [
              "                                        title  \\\n",
              "count                                      95   \n",
              "unique                                     95   \n",
              "top     The Journey Over the Intermediate Gap   \n",
              "freq                                        1   \n",
              "\n",
              "                                                                                                                                                                                                    description  \\\n",
              "count                                                                                                                                                                                                        95   \n",
              "unique                                                                                                                                                                                                       95   \n",
              "top     Occasionally weâll find that some bit of Python weâve written doesnât run as fast as weâd like, what can we do? Performance bottlenecks arenât always intuitive or easy to spot by reading...   \n",
              "freq                                                                                                                                                                                                          1   \n",
              "\n",
              "       long_title first_letter  \n",
              "count          95           95  \n",
              "unique          2           20  \n",
              "top         False            P  \n",
              "freq           90           12  "
            ]
          },
          "metadata": {
            "tags": []
          },
          "execution_count": 221
        }
      ]
    },
    {
      "metadata": {
        "id": "HEEHVj3HX_44",
        "colab_type": "code",
        "colab": {
          "base_uri": "https://localhost:8080/",
          "height": 284
        },
        "outputId": "5baaffae-6472-4e07-c508-6bcd7f326384"
      },
      "cell_type": "code",
      "source": [
        "df.describe(include=np.number)\n",
        "#min desc word count - 35\n",
        "#max desc word count - 436\n",
        "#mean desc word count - 134.6"
      ],
      "execution_count": 222,
      "outputs": [
        {
          "output_type": "execute_result",
          "data": {
            "text/html": [
              "<div>\n",
              "<style scoped>\n",
              "    .dataframe tbody tr th:only-of-type {\n",
              "        vertical-align: middle;\n",
              "    }\n",
              "\n",
              "    .dataframe tbody tr th {\n",
              "        vertical-align: top;\n",
              "    }\n",
              "\n",
              "    .dataframe thead th {\n",
              "        text-align: right;\n",
              "    }\n",
              "</style>\n",
              "<table border=\"1\" class=\"dataframe\">\n",
              "  <thead>\n",
              "    <tr style=\"text-align: right;\">\n",
              "      <th></th>\n",
              "      <th>title_length</th>\n",
              "      <th>title_word_count</th>\n",
              "      <th>title_character_count</th>\n",
              "      <th>desc_character_count</th>\n",
              "      <th>desc_word_count</th>\n",
              "      <th>desc_gradelv</th>\n",
              "    </tr>\n",
              "  </thead>\n",
              "  <tbody>\n",
              "    <tr>\n",
              "      <th>count</th>\n",
              "      <td>95.000000</td>\n",
              "      <td>95.000000</td>\n",
              "      <td>95.000000</td>\n",
              "      <td>95.000000</td>\n",
              "      <td>95.000000</td>\n",
              "      <td>95.000000</td>\n",
              "    </tr>\n",
              "    <tr>\n",
              "      <th>mean</th>\n",
              "      <td>46.442105</td>\n",
              "      <td>7.189474</td>\n",
              "      <td>46.442105</td>\n",
              "      <td>846.063158</td>\n",
              "      <td>134.578947</td>\n",
              "      <td>18.117895</td>\n",
              "    </tr>\n",
              "    <tr>\n",
              "      <th>std</th>\n",
              "      <td>17.560664</td>\n",
              "      <td>2.903757</td>\n",
              "      <td>17.560664</td>\n",
              "      <td>450.107713</td>\n",
              "      <td>70.019082</td>\n",
              "      <td>15.835652</td>\n",
              "    </tr>\n",
              "    <tr>\n",
              "      <th>min</th>\n",
              "      <td>14.000000</td>\n",
              "      <td>2.000000</td>\n",
              "      <td>14.000000</td>\n",
              "      <td>201.000000</td>\n",
              "      <td>35.000000</td>\n",
              "      <td>3.700000</td>\n",
              "    </tr>\n",
              "    <tr>\n",
              "      <th>25%</th>\n",
              "      <td>35.000000</td>\n",
              "      <td>5.000000</td>\n",
              "      <td>35.000000</td>\n",
              "      <td>550.000000</td>\n",
              "      <td>91.500000</td>\n",
              "      <td>10.500000</td>\n",
              "    </tr>\n",
              "    <tr>\n",
              "      <th>50%</th>\n",
              "      <td>45.000000</td>\n",
              "      <td>7.000000</td>\n",
              "      <td>45.000000</td>\n",
              "      <td>758.000000</td>\n",
              "      <td>119.000000</td>\n",
              "      <td>13.800000</td>\n",
              "    </tr>\n",
              "    <tr>\n",
              "      <th>75%</th>\n",
              "      <td>56.000000</td>\n",
              "      <td>9.000000</td>\n",
              "      <td>56.000000</td>\n",
              "      <td>978.000000</td>\n",
              "      <td>149.500000</td>\n",
              "      <td>17.950000</td>\n",
              "    </tr>\n",
              "    <tr>\n",
              "      <th>max</th>\n",
              "      <td>100.000000</td>\n",
              "      <td>19.000000</td>\n",
              "      <td>100.000000</td>\n",
              "      <td>2794.000000</td>\n",
              "      <td>436.000000</td>\n",
              "      <td>107.800000</td>\n",
              "    </tr>\n",
              "  </tbody>\n",
              "</table>\n",
              "</div>"
            ],
            "text/plain": [
              "       title_length  title_word_count  title_character_count  \\\n",
              "count     95.000000         95.000000              95.000000   \n",
              "mean      46.442105          7.189474              46.442105   \n",
              "std       17.560664          2.903757              17.560664   \n",
              "min       14.000000          2.000000              14.000000   \n",
              "25%       35.000000          5.000000              35.000000   \n",
              "50%       45.000000          7.000000              45.000000   \n",
              "75%       56.000000          9.000000              56.000000   \n",
              "max      100.000000         19.000000             100.000000   \n",
              "\n",
              "       desc_character_count  desc_word_count  desc_gradelv  \n",
              "count             95.000000        95.000000     95.000000  \n",
              "mean             846.063158       134.578947     18.117895  \n",
              "std              450.107713        70.019082     15.835652  \n",
              "min              201.000000        35.000000      3.700000  \n",
              "25%              550.000000        91.500000     10.500000  \n",
              "50%              758.000000       119.000000     13.800000  \n",
              "75%              978.000000       149.500000     17.950000  \n",
              "max             2794.000000       436.000000    107.800000  "
            ]
          },
          "metadata": {
            "tags": []
          },
          "execution_count": 222
        }
      ]
    },
    {
      "metadata": {
        "id": "QRihVgH0WsoS",
        "colab_type": "code",
        "colab": {
          "base_uri": "https://localhost:8080/",
          "height": 388
        },
        "outputId": "592bca43-bac8-495a-f12c-514b9a7ac12f"
      },
      "cell_type": "code",
      "source": [
        "df = df[df['desc_character_count'] <= 280]\n",
        "df.head()\n",
        "#df includes only descriptions that would be tweetable"
      ],
      "execution_count": 223,
      "outputs": [
        {
          "output_type": "execute_result",
          "data": {
            "text/html": [
              "<div>\n",
              "<style scoped>\n",
              "    .dataframe tbody tr th:only-of-type {\n",
              "        vertical-align: middle;\n",
              "    }\n",
              "\n",
              "    .dataframe tbody tr th {\n",
              "        vertical-align: top;\n",
              "    }\n",
              "\n",
              "    .dataframe thead th {\n",
              "        text-align: right;\n",
              "    }\n",
              "</style>\n",
              "<table border=\"1\" class=\"dataframe\">\n",
              "  <thead>\n",
              "    <tr style=\"text-align: right;\">\n",
              "      <th></th>\n",
              "      <th>title</th>\n",
              "      <th>title_length</th>\n",
              "      <th>description</th>\n",
              "      <th>long_title</th>\n",
              "      <th>first_letter</th>\n",
              "      <th>title_word_count</th>\n",
              "      <th>title_character_count</th>\n",
              "      <th>desc_character_count</th>\n",
              "      <th>desc_word_count</th>\n",
              "      <th>desc_gradelv</th>\n",
              "    </tr>\n",
              "  </thead>\n",
              "  <tbody>\n",
              "    <tr>\n",
              "      <th>44</th>\n",
              "      <td>HOWTO Write a Function</td>\n",
              "      <td>22</td>\n",
              "      <td>A function is a small chunk of code that does useful work. Your job when writing a function is to do it in a way that it easy to read. Based on over 15 years of code reviews here are some tips and...</td>\n",
              "      <td>False</td>\n",
              "      <td>H</td>\n",
              "      <td>4</td>\n",
              "      <td>22</td>\n",
              "      <td>231</td>\n",
              "      <td>49</td>\n",
              "      <td>3.7</td>\n",
              "    </tr>\n",
              "    <tr>\n",
              "      <th>62</th>\n",
              "      <td>Python across the USA: This is the Bus.</td>\n",
              "      <td>39</td>\n",
              "      <td>For 2 years, a family of three has traveled on a converted school bus from conference to conference, building tooling for the road in Python and visiting Python families in every corner of the cou...</td>\n",
              "      <td>False</td>\n",
              "      <td>P</td>\n",
              "      <td>8</td>\n",
              "      <td>39</td>\n",
              "      <td>201</td>\n",
              "      <td>35</td>\n",
              "      <td>15.8</td>\n",
              "    </tr>\n",
              "    <tr>\n",
              "      <th>65</th>\n",
              "      <td>Python, Locales and Writing Systems</td>\n",
              "      <td>35</td>\n",
              "      <td>Python 3 removes a lot of the confusion around Unicode handling in Python, but that by no means fixes everything. Different locales and writing systems have unique behaviours that can trip you up....</td>\n",
              "      <td>False</td>\n",
              "      <td>P</td>\n",
              "      <td>5</td>\n",
              "      <td>35</td>\n",
              "      <td>262</td>\n",
              "      <td>45</td>\n",
              "      <td>6.8</td>\n",
              "    </tr>\n",
              "  </tbody>\n",
              "</table>\n",
              "</div>"
            ],
            "text/plain": [
              "                                      title  title_length  \\\n",
              "44                   HOWTO Write a Function            22   \n",
              "62  Python across the USA: This is the Bus.            39   \n",
              "65      Python, Locales and Writing Systems            35   \n",
              "\n",
              "                                                                                                                                                                                                description  \\\n",
              "44  A function is a small chunk of code that does useful work. Your job when writing a function is to do it in a way that it easy to read. Based on over 15 years of code reviews here are some tips and...   \n",
              "62  For 2 years, a family of three has traveled on a converted school bus from conference to conference, building tooling for the road in Python and visiting Python families in every corner of the cou...   \n",
              "65  Python 3 removes a lot of the confusion around Unicode handling in Python, but that by no means fixes everything. Different locales and writing systems have unique behaviours that can trip you up....   \n",
              "\n",
              "    long_title first_letter  title_word_count  title_character_count  \\\n",
              "44       False            H                 4                     22   \n",
              "62       False            P                 8                     39   \n",
              "65       False            P                 5                     35   \n",
              "\n",
              "    desc_character_count  desc_word_count  desc_gradelv  \n",
              "44                   231               49           3.7  \n",
              "62                   201               35          15.8  \n",
              "65                   262               45           6.8  "
            ]
          },
          "metadata": {
            "tags": []
          },
          "execution_count": 223
        }
      ]
    },
    {
      "metadata": {
        "id": "odk-OND5Y-_d",
        "colab_type": "code",
        "colab": {
          "base_uri": "https://localhost:8080/",
          "height": 280
        },
        "outputId": "adde2a5d-c876-44f2-d56e-1128b3106999"
      },
      "cell_type": "code",
      "source": [
        "%matplotlib inline\n",
        "title = 'Distribution of Reading Levels'\n",
        "ax = df['desc_gradelv'].plot.hist(title=title)"
      ],
      "execution_count": 225,
      "outputs": [
        {
          "output_type": "display_data",
          "data": {
            "image/png": "[encoded data removed]",
            "text/plain": [
              "<matplotlib.figure.Figure at 0x7f50a29f5470>"
            ]
          },
          "metadata": {
            "tags": []
          }
        }
      ]
    }
  ]
}