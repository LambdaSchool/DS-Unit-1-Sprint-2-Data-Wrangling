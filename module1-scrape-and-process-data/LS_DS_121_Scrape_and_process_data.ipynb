{
  "nbformat": 4,
  "nbformat_minor": 0,
  "metadata": {
    "colab": {
      "name": "LS_DS_121_Scrape_and_process_data.ipynb",
      "version": "0.3.2",
      "provenance": [],
      "collapsed_sections": [],
      "include_colab_link": true
    },
    "kernelspec": {
      "display_name": "Python 3",
      "language": "python",
      "name": "python3"
    }
  },
  "cells": [
    {
      "cell_type": "markdown",
      "metadata": {
        "id": "view-in-github",
        "colab_type": "text"
      },
      "source": [
        "<a href=\"https://colab.research.google.com/github/tortas/DS-Unit-1-Sprint-2-Data-Wrangling/blob/master/module1-scrape-and-process-data/LS_DS_121_Scrape_and_process_data.ipynb\" target=\"_parent\"><img src=\"https://colab.research.google.com/assets/colab-badge.svg\" alt=\"Open In Colab\"/></a>"
      ]
    },
    {
      "metadata": {
        "colab_type": "text",
        "id": "oR4Yeg3P07gu"
      },
      "cell_type": "markdown",
      "source": [
        "_Lambda School Data Science_\n",
        "\n",
        "# Scrape and process data\n",
        "\n",
        "Objectives\n",
        "- scrape and parse web pages\n",
        "- use list comprehensions\n",
        "- select rows and columns with pandas\n",
        "\n",
        "Links\n",
        "-  [Automate the Boring Stuff with Python, Chapter 11](https://automatetheboringstuff.com/chapter11/)\n",
        "  - Requests\n",
        "  - Beautiful Soup\n",
        "- [Python List Comprehensions: Explained Visually](https://treyhunner.com/2015/12/python-list-comprehensions-now-in-color/)\n",
        "- [Pandas Cheat Sheet](https://github.com/pandas-dev/pandas/blob/master/doc/cheatsheet/Pandas_Cheat_Sheet.pdf)\n",
        "  - Subset Observations (Rows)\n",
        "  - Subset Variables (Columns)\n",
        "- Python Data Science Handbook\n",
        "  - [Chapter 3.1](https://jakevdp.github.io/PythonDataScienceHandbook/03.01-introducing-pandas-objects.html), Introducing Pandas Objects\n",
        "  - [Chapter 3.2](https://jakevdp.github.io/PythonDataScienceHandbook/03.02-data-indexing-and-selection.html), Data Indexing and Selection\n"
      ]
    },
    {
      "metadata": {
        "colab_type": "text",
        "id": "I_NRVchqgGvM"
      },
      "cell_type": "markdown",
      "source": [
        "## Scrape the titles of PyCon 2019 talks"
      ]
    },
    {
      "metadata": {
        "colab_type": "code",
        "id": "3elw_8Nc7Tpe",
        "colab": {}
      },
      "cell_type": "code",
      "source": [
        "url = 'https://us.pycon.org/2019/schedule/talks/list/'"
      ],
      "execution_count": 0,
      "outputs": []
    },
    {
      "metadata": {
        "colab_type": "code",
        "id": "SFNsyjVsTU4b",
        "colab": {}
      },
      "cell_type": "code",
      "source": [
        ""
      ],
      "execution_count": 0,
      "outputs": []
    },
    {
      "metadata": {
        "colab_type": "text",
        "id": "vqkNgAzYpeK7"
      },
      "cell_type": "markdown",
      "source": [
        "## 5 ways to look at long titles\n",
        "\n",
        "Let's define a long title as greater than 80 characters"
      ]
    },
    {
      "metadata": {
        "colab_type": "text",
        "id": "N7tqeZh14Fws"
      },
      "cell_type": "markdown",
      "source": [
        "### 1. For Loop"
      ]
    },
    {
      "metadata": {
        "colab_type": "code",
        "id": "kKxs5tqDApuZ",
        "colab": {}
      },
      "cell_type": "code",
      "source": [
        ""
      ],
      "execution_count": 0,
      "outputs": []
    },
    {
      "metadata": {
        "colab_type": "text",
        "id": "I21jcEnK4IN7"
      },
      "cell_type": "markdown",
      "source": [
        "### 2. List Comprehension"
      ]
    },
    {
      "metadata": {
        "colab_type": "code",
        "id": "qaXe9UldAs3H",
        "colab": {}
      },
      "cell_type": "code",
      "source": [
        ""
      ],
      "execution_count": 0,
      "outputs": []
    },
    {
      "metadata": {
        "colab_type": "text",
        "id": "2kn8pxL-4yMG"
      },
      "cell_type": "markdown",
      "source": [
        "### 3. Filter with named function"
      ]
    },
    {
      "metadata": {
        "colab_type": "code",
        "id": "ywLqqFJNAvFm",
        "colab": {}
      },
      "cell_type": "code",
      "source": [
        ""
      ],
      "execution_count": 0,
      "outputs": []
    },
    {
      "metadata": {
        "colab_type": "text",
        "id": "IPIT6oXz40Q3"
      },
      "cell_type": "markdown",
      "source": [
        "### 4. Filter with anonymous function"
      ]
    },
    {
      "metadata": {
        "colab_type": "code",
        "id": "giIcFYkiAwiR",
        "colab": {}
      },
      "cell_type": "code",
      "source": [
        ""
      ],
      "execution_count": 0,
      "outputs": []
    },
    {
      "metadata": {
        "colab_type": "text",
        "id": "qj8Yod8_45z4"
      },
      "cell_type": "markdown",
      "source": [
        "### 5. Pandas\n",
        "\n",
        "pandas documentation: [Working with Text Data](https://pandas.pydata.org/pandas-docs/stable/text.html)"
      ]
    },
    {
      "metadata": {
        "colab_type": "code",
        "id": "yRwPEHNcAzc_",
        "colab": {}
      },
      "cell_type": "code",
      "source": [
        ""
      ],
      "execution_count": 0,
      "outputs": []
    },
    {
      "metadata": {
        "colab_type": "text",
        "id": "8YaUZJvRp681"
      },
      "cell_type": "markdown",
      "source": [
        "## Make new dataframe columns\n",
        "\n",
        "pandas documentation: [apply](https://pandas.pydata.org/pandas-docs/stable/generated/pandas.Series.apply.html)"
      ]
    },
    {
      "metadata": {
        "colab_type": "code",
        "id": "DR_WZ-olA4-v",
        "colab": {}
      },
      "cell_type": "code",
      "source": [
        ""
      ],
      "execution_count": 0,
      "outputs": []
    },
    {
      "metadata": {
        "colab_type": "text",
        "id": "Ua74pMrGrsZR"
      },
      "cell_type": "markdown",
      "source": [
        "### title length"
      ]
    },
    {
      "metadata": {
        "colab_type": "code",
        "id": "p-Euz7tgA8Fd",
        "colab": {}
      },
      "cell_type": "code",
      "source": [
        ""
      ],
      "execution_count": 0,
      "outputs": []
    },
    {
      "metadata": {
        "colab_type": "text",
        "id": "OgsKArXPrz5n"
      },
      "cell_type": "markdown",
      "source": [
        "### long title"
      ]
    },
    {
      "metadata": {
        "colab_type": "code",
        "id": "b_WCRvvKA-IP",
        "colab": {}
      },
      "cell_type": "code",
      "source": [
        ""
      ],
      "execution_count": 0,
      "outputs": []
    },
    {
      "metadata": {
        "colab_type": "text",
        "id": "TonCXYPesUsT"
      },
      "cell_type": "markdown",
      "source": [
        "### first letter"
      ]
    },
    {
      "metadata": {
        "colab_type": "code",
        "id": "fhO4aABpBBgA",
        "colab": {}
      },
      "cell_type": "code",
      "source": [
        ""
      ],
      "execution_count": 0,
      "outputs": []
    },
    {
      "metadata": {
        "colab_type": "text",
        "id": "Etz1XeLKs6DL"
      },
      "cell_type": "markdown",
      "source": [
        "### word count\n",
        "\n",
        "Using [`textstat`](https://github.com/shivam5992/textstat)"
      ]
    },
    {
      "metadata": {
        "colab_type": "code",
        "id": "GVIkRWchs4zR",
        "colab": {}
      },
      "cell_type": "code",
      "source": [
        "!pip install textstat"
      ],
      "execution_count": 0,
      "outputs": []
    },
    {
      "metadata": {
        "colab_type": "code",
        "id": "mY_M_MuaBFrF",
        "colab": {}
      },
      "cell_type": "code",
      "source": [
        ""
      ],
      "execution_count": 0,
      "outputs": []
    },
    {
      "metadata": {
        "colab_type": "text",
        "id": "UN_7FABhwDqc"
      },
      "cell_type": "markdown",
      "source": [
        "## Rename column\n",
        "\n",
        "`title length` --> `title character count`\n",
        "\n",
        "pandas documentation: [rename](https://pandas.pydata.org/pandas-docs/stable/generated/pandas.DataFrame.rename.html)"
      ]
    },
    {
      "metadata": {
        "colab_type": "code",
        "id": "jvTif7sBBMpN",
        "colab": {}
      },
      "cell_type": "code",
      "source": [
        ""
      ],
      "execution_count": 0,
      "outputs": []
    },
    {
      "metadata": {
        "colab_type": "text",
        "id": "ca2pDtytr5tR"
      },
      "cell_type": "markdown",
      "source": [
        "## Analyze the dataframe"
      ]
    },
    {
      "metadata": {
        "colab_type": "text",
        "id": "AitNVDCFwWwc"
      },
      "cell_type": "markdown",
      "source": [
        "### Describe\n",
        "\n",
        "pandas documentation: [describe](https://pandas.pydata.org/pandas-docs/stable/generated/pandas.DataFrame.describe.html)"
      ]
    },
    {
      "metadata": {
        "colab_type": "code",
        "id": "yPo9RdxYBQ64",
        "colab": {}
      },
      "cell_type": "code",
      "source": [
        ""
      ],
      "execution_count": 0,
      "outputs": []
    },
    {
      "metadata": {
        "colab_type": "text",
        "id": "T0lc_o-xyjZU"
      },
      "cell_type": "markdown",
      "source": [
        "### Sort values\n",
        "\n",
        "pandas documentation: [sort_values](https://pandas.pydata.org/pandas-docs/stable/generated/pandas.DataFrame.sort_values.html)"
      ]
    },
    {
      "metadata": {
        "colab_type": "text",
        "id": "kxE2swJ9-cG_"
      },
      "cell_type": "markdown",
      "source": [
        "Five shortest titles, by character count"
      ]
    },
    {
      "metadata": {
        "colab_type": "code",
        "id": "7t8DlpLhBVQa",
        "colab": {}
      },
      "cell_type": "code",
      "source": [
        ""
      ],
      "execution_count": 0,
      "outputs": []
    },
    {
      "metadata": {
        "colab_type": "text",
        "id": "NOEH4Ef5-kvo"
      },
      "cell_type": "markdown",
      "source": [
        "Titles sorted reverse alphabetically"
      ]
    },
    {
      "metadata": {
        "colab_type": "code",
        "id": "WkymeWDjBV8X",
        "colab": {}
      },
      "cell_type": "code",
      "source": [
        ""
      ],
      "execution_count": 0,
      "outputs": []
    },
    {
      "metadata": {
        "colab_type": "text",
        "id": "e4wr42FB0GV-"
      },
      "cell_type": "markdown",
      "source": [
        "### Get value counts\n",
        "\n",
        "pandas documentation: [value_counts](https://pandas.pydata.org/pandas-docs/stable/generated/pandas.Series.value_counts.html)\n"
      ]
    },
    {
      "metadata": {
        "colab_type": "text",
        "id": "D81LNGaI-6ya"
      },
      "cell_type": "markdown",
      "source": [
        "Frequency counts of first letters"
      ]
    },
    {
      "metadata": {
        "colab_type": "code",
        "id": "AdTQYsRKBZio",
        "colab": {}
      },
      "cell_type": "code",
      "source": [
        ""
      ],
      "execution_count": 0,
      "outputs": []
    },
    {
      "metadata": {
        "colab_type": "text",
        "id": "04NVokvTAwqK"
      },
      "cell_type": "markdown",
      "source": [
        "Percentage of talks with long titles"
      ]
    },
    {
      "metadata": {
        "colab_type": "code",
        "id": "uS8qp4hrBat6",
        "colab": {}
      },
      "cell_type": "code",
      "source": [
        ""
      ],
      "execution_count": 0,
      "outputs": []
    },
    {
      "metadata": {
        "colab_type": "text",
        "id": "mmYZL2QL0lgd"
      },
      "cell_type": "markdown",
      "source": [
        "### Plot\n",
        "\n",
        "pandas documentation: [Visualization](https://pandas.pydata.org/pandas-docs/stable/visualization.html)\n",
        "\n",
        "\n",
        "\n"
      ]
    },
    {
      "metadata": {
        "colab_type": "text",
        "id": "c6gCotA9_B68"
      },
      "cell_type": "markdown",
      "source": [
        "Top 5 most frequent first letters"
      ]
    },
    {
      "metadata": {
        "colab_type": "code",
        "id": "DUmcVcdXBdkw",
        "colab": {}
      },
      "cell_type": "code",
      "source": [
        ""
      ],
      "execution_count": 0,
      "outputs": []
    },
    {
      "metadata": {
        "colab_type": "text",
        "id": "_Ngegk0bASty"
      },
      "cell_type": "markdown",
      "source": [
        "Histogram of title lengths, in characters"
      ]
    },
    {
      "metadata": {
        "colab_type": "code",
        "id": "y5oLu2D4BeKw",
        "colab": {}
      },
      "cell_type": "code",
      "source": [
        ""
      ],
      "execution_count": 0,
      "outputs": []
    },
    {
      "metadata": {
        "colab_type": "text",
        "id": "DiylH7LQw44u"
      },
      "cell_type": "markdown",
      "source": [
        "# Assignment\n",
        "\n",
        "**Scrape** the talk descriptions. Hint: `soup.select('.presentation-description')`\n",
        "\n",
        "**Make** new columns in the dataframe:\n",
        "- description\n",
        "- description character count\n",
        "- description word count\n",
        "\n",
        "**Describe** all the dataframe's columns. What's the average description word count? The minimum? The maximum?\n",
        "\n",
        "**Answer** the question: Which descriptions could fit in a tweet?\n",
        "\n",
        "\n",
        "# Stretch Challenge\n",
        "\n",
        "**Make** another new column in the dataframe:\n",
        "- description grade level (you can use [this `textstat` function](https://github.com/shivam5992/textstat#the-flesch-kincaid-grade-level) to get the Flesh-Kincaid grade level)\n",
        "\n",
        "**Answer** the question: What's the distribution of grade levels? Plot a histogram.\n",
        "\n",
        "**Be aware** that [Textstat has issues when sentences aren't separated by spaces](https://github.com/shivam5992/textstat/issues/77#issuecomment-453734048). (A Lambda School Data Science student helped identify this issue, and emailed with the developer.) \n",
        "\n",
        "Also, [BeautifulSoup doesn't separate paragraph tags with spaces](https://bugs.launchpad.net/beautifulsoup/+bug/1768330).\n",
        "\n",
        "So, you may get some inaccurate or surprising grade level estimates here. Don't worry, that's ok — but optionally, can you do anything to try improving the grade level estimates?"
      ]
    },
    {
      "metadata": {
        "id": "tI0tel816KsL",
        "colab_type": "code",
        "colab": {}
      },
      "cell_type": "code",
      "source": [
        "#BEGIN ASSIGNMENT 121 CODE"
      ],
      "execution_count": 0,
      "outputs": []
    },
    {
      "metadata": {
        "id": "Y_N0Kbdz6Pmr",
        "colab_type": "code",
        "colab": {}
      },
      "cell_type": "code",
      "source": [
        "import pandas as pd\n",
        "url = 'https://us.pycon.org/2019/schedule/talks/list/'"
      ],
      "execution_count": 0,
      "outputs": []
    },
    {
      "metadata": {
        "id": "eMvh0kKv6Zgh",
        "colab_type": "code",
        "colab": {}
      },
      "cell_type": "code",
      "source": [
        "import bs4\n",
        "import requests\n",
        "\n",
        "result = requests.get(url)"
      ],
      "execution_count": 0,
      "outputs": []
    },
    {
      "metadata": {
        "id": "p56Rh5f36mIk",
        "colab_type": "code",
        "colab": {}
      },
      "cell_type": "code",
      "source": [
        "pd.options.display.max_colwidth = 200\n",
        "soup = bs4.BeautifulSoup(result.text)\n",
        "descriptions = [desc.text.strip()\n",
        "                for desc in soup.select('.presentation-description')]"
      ],
      "execution_count": 0,
      "outputs": []
    },
    {
      "metadata": {
        "id": "8v9ohuaR9js3",
        "colab_type": "code",
        "colab": {}
      },
      "cell_type": "code",
      "source": [
        "df = pd.DataFrame({'description': descriptions})"
      ],
      "execution_count": 0,
      "outputs": []
    },
    {
      "metadata": {
        "id": "Oy2kcr7O9sg2",
        "colab_type": "code",
        "colab": {
          "base_uri": "https://localhost:8080/",
          "height": 202
        },
        "outputId": "0f08b8fd-5b83-4c59-b8c9-5475c25e65ed"
      },
      "cell_type": "code",
      "source": [
        "!pip install textstat\n",
        "import textstat"
      ],
      "execution_count": 8,
      "outputs": [
        {
          "output_type": "stream",
          "text": [
            "Collecting textstat\n",
            "  Downloading https://files.pythonhosted.org/packages/4c/92/95fe083fb083b69ff6c319451c60dbd0eaea09a14bb4252bdfec666bb821/textstat-0.5.5-py3-none-any.whl\n",
            "Collecting pyphen (from textstat)\n",
            "\u001b[?25l  Downloading https://files.pythonhosted.org/packages/15/82/08a3629dce8d1f3d91db843bb36d4d7db6b6269d5067259613a0d5c8a9db/Pyphen-0.9.5-py2.py3-none-any.whl (3.0MB)\n",
            "\u001b[K    100% |████████████████████████████████| 3.0MB 7.8MB/s \n",
            "\u001b[?25hCollecting repoze.lru (from textstat)\n",
            "  Downloading https://files.pythonhosted.org/packages/b0/30/6cc0c95f0b59ad4b3b9163bff7cdcf793cc96fac64cf398ff26271f5cf5e/repoze.lru-0.7-py3-none-any.whl\n",
            "Installing collected packages: pyphen, repoze.lru, textstat\n",
            "Successfully installed pyphen-0.9.5 repoze.lru-0.7 textstat-0.5.5\n"
          ],
          "name": "stdout"
        }
      ]
    },
    {
      "metadata": {
        "id": "O54bOlJV-Zxu",
        "colab_type": "code",
        "colab": {}
      },
      "cell_type": "code",
      "source": [
        "df['description character count'] = df['description'].apply(len)"
      ],
      "execution_count": 0,
      "outputs": []
    },
    {
      "metadata": {
        "id": "C6KpBRZH_Ian",
        "colab_type": "code",
        "colab": {}
      },
      "cell_type": "code",
      "source": [
        "df['description word count'] = df['description'].apply(textstat.lexicon_count)"
      ],
      "execution_count": 0,
      "outputs": []
    },
    {
      "metadata": {
        "id": "Z1-tp5N-_d6G",
        "colab_type": "code",
        "colab": {
          "base_uri": "https://localhost:8080/",
          "height": 447
        },
        "outputId": "fc2e5435-98a6-4527-a3d3-4ed57f54d44b"
      },
      "cell_type": "code",
      "source": [
        "df.describe(include='all')"
      ],
      "execution_count": 12,
      "outputs": [
        {
          "output_type": "execute_result",
          "data": {
            "text/html": [
              "<div>\n",
              "<style scoped>\n",
              "    .dataframe tbody tr th:only-of-type {\n",
              "        vertical-align: middle;\n",
              "    }\n",
              "\n",
              "    .dataframe tbody tr th {\n",
              "        vertical-align: top;\n",
              "    }\n",
              "\n",
              "    .dataframe thead th {\n",
              "        text-align: right;\n",
              "    }\n",
              "</style>\n",
              "<table border=\"1\" class=\"dataframe\">\n",
              "  <thead>\n",
              "    <tr style=\"text-align: right;\">\n",
              "      <th></th>\n",
              "      <th>description</th>\n",
              "      <th>description character count</th>\n",
              "      <th>description word count</th>\n",
              "    </tr>\n",
              "  </thead>\n",
              "  <tbody>\n",
              "    <tr>\n",
              "      <th>count</th>\n",
              "      <td>95</td>\n",
              "      <td>95.000000</td>\n",
              "      <td>95.000000</td>\n",
              "    </tr>\n",
              "    <tr>\n",
              "      <th>unique</th>\n",
              "      <td>95</td>\n",
              "      <td>NaN</td>\n",
              "      <td>NaN</td>\n",
              "    </tr>\n",
              "    <tr>\n",
              "      <th>top</th>\n",
              "      <td>As teams and projects grow, code review becomes increasingly important to support the maintainability of complex code bases. In this talk, I’ll cover guidelines for writing consistent code, powerf...</td>\n",
              "      <td>NaN</td>\n",
              "      <td>NaN</td>\n",
              "    </tr>\n",
              "    <tr>\n",
              "      <th>freq</th>\n",
              "      <td>1</td>\n",
              "      <td>NaN</td>\n",
              "      <td>NaN</td>\n",
              "    </tr>\n",
              "    <tr>\n",
              "      <th>mean</th>\n",
              "      <td>NaN</td>\n",
              "      <td>813.073684</td>\n",
              "      <td>130.821053</td>\n",
              "    </tr>\n",
              "    <tr>\n",
              "      <th>std</th>\n",
              "      <td>NaN</td>\n",
              "      <td>415.988191</td>\n",
              "      <td>64.357872</td>\n",
              "    </tr>\n",
              "    <tr>\n",
              "      <th>min</th>\n",
              "      <td>NaN</td>\n",
              "      <td>121.000000</td>\n",
              "      <td>20.000000</td>\n",
              "    </tr>\n",
              "    <tr>\n",
              "      <th>25%</th>\n",
              "      <td>NaN</td>\n",
              "      <td>542.500000</td>\n",
              "      <td>85.500000</td>\n",
              "    </tr>\n",
              "    <tr>\n",
              "      <th>50%</th>\n",
              "      <td>NaN</td>\n",
              "      <td>718.000000</td>\n",
              "      <td>116.000000</td>\n",
              "    </tr>\n",
              "    <tr>\n",
              "      <th>75%</th>\n",
              "      <td>NaN</td>\n",
              "      <td>1016.500000</td>\n",
              "      <td>165.000000</td>\n",
              "    </tr>\n",
              "    <tr>\n",
              "      <th>max</th>\n",
              "      <td>NaN</td>\n",
              "      <td>2827.000000</td>\n",
              "      <td>421.000000</td>\n",
              "    </tr>\n",
              "  </tbody>\n",
              "</table>\n",
              "</div>"
            ],
            "text/plain": [
              "                                                                                                                                                                                                    description  \\\n",
              "count                                                                                                                                                                                                        95   \n",
              "unique                                                                                                                                                                                                       95   \n",
              "top     As teams and projects grow, code review becomes increasingly important to support the maintainability of complex code bases. In this talk, I’ll cover guidelines for writing consistent code, powerf...   \n",
              "freq                                                                                                                                                                                                          1   \n",
              "mean                                                                                                                                                                                                        NaN   \n",
              "std                                                                                                                                                                                                         NaN   \n",
              "min                                                                                                                                                                                                         NaN   \n",
              "25%                                                                                                                                                                                                         NaN   \n",
              "50%                                                                                                                                                                                                         NaN   \n",
              "75%                                                                                                                                                                                                         NaN   \n",
              "max                                                                                                                                                                                                         NaN   \n",
              "\n",
              "        description character count  description word count  \n",
              "count                     95.000000               95.000000  \n",
              "unique                          NaN                     NaN  \n",
              "top                             NaN                     NaN  \n",
              "freq                            NaN                     NaN  \n",
              "mean                     813.073684              130.821053  \n",
              "std                      415.988191               64.357872  \n",
              "min                      121.000000               20.000000  \n",
              "25%                      542.500000               85.500000  \n",
              "50%                      718.000000              116.000000  \n",
              "75%                     1016.500000              165.000000  \n",
              "max                     2827.000000              421.000000  "
            ]
          },
          "metadata": {
            "tags": []
          },
          "execution_count": 12
        }
      ]
    },
    {
      "metadata": {
        "id": "A2E4MoT9_wgF",
        "colab_type": "text"
      },
      "cell_type": "markdown",
      "source": [
        "*   Average description word count: About 131\n",
        "*   Word count minimum: 20\n",
        "*   Word count maximum: 421\n",
        "\n"
      ]
    },
    {
      "metadata": {
        "id": "GWl-3Tg-_gB3",
        "colab_type": "code",
        "colab": {
          "base_uri": "https://localhost:8080/",
          "height": 115
        },
        "outputId": "6d464a52-0aac-485a-ff35-f2a234af4147"
      },
      "cell_type": "code",
      "source": [
        "df [df['description character count'] <= 280]"
      ],
      "execution_count": 15,
      "outputs": [
        {
          "output_type": "execute_result",
          "data": {
            "text/html": [
              "<div>\n",
              "<style scoped>\n",
              "    .dataframe tbody tr th:only-of-type {\n",
              "        vertical-align: middle;\n",
              "    }\n",
              "\n",
              "    .dataframe tbody tr th {\n",
              "        vertical-align: top;\n",
              "    }\n",
              "\n",
              "    .dataframe thead th {\n",
              "        text-align: right;\n",
              "    }\n",
              "</style>\n",
              "<table border=\"1\" class=\"dataframe\">\n",
              "  <thead>\n",
              "    <tr style=\"text-align: right;\">\n",
              "      <th></th>\n",
              "      <th>description</th>\n",
              "      <th>description character count</th>\n",
              "      <th>description word count</th>\n",
              "    </tr>\n",
              "  </thead>\n",
              "  <tbody>\n",
              "    <tr>\n",
              "      <th>54</th>\n",
              "      <td>Learn how to make music with Python, SuperCollider and FoxDot. We'll create a song together in this live coded adventure.</td>\n",
              "      <td>121</td>\n",
              "      <td>20</td>\n",
              "    </tr>\n",
              "  </tbody>\n",
              "</table>\n",
              "</div>"
            ],
            "text/plain": [
              "                                                                                                                  description  \\\n",
              "54  Learn how to make music with Python, SuperCollider and FoxDot. We'll create a song together in this live coded adventure.   \n",
              "\n",
              "    description character count  description word count  \n",
              "54                          121                      20  "
            ]
          },
          "metadata": {
            "tags": []
          },
          "execution_count": 15
        }
      ]
    },
    {
      "metadata": {
        "id": "jF5v2pWVBDFe",
        "colab_type": "text"
      },
      "cell_type": "markdown",
      "source": [
        "It looks like there's only one description that would fit under twitter's\n",
        "280 character limit! "
      ]
    }
  ]
}