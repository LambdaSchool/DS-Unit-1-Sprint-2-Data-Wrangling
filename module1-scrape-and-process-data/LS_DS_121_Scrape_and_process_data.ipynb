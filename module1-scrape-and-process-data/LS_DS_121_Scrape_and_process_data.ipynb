{
  "nbformat": 4,
  "nbformat_minor": 0,
  "metadata": {
    "colab": {
      "name": "LS_DS_121_Scrape_and_process_data.ipynb",
      "version": "0.3.2",
      "provenance": [],
      "collapsed_sections": [],
      "include_colab_link": true
    },
    "kernelspec": {
      "display_name": "Python 3",
      "language": "python",
      "name": "python3"
    }
  },
  "cells": [
    {
      "cell_type": "markdown",
      "metadata": {
        "id": "view-in-github",
        "colab_type": "text"
      },
      "source": [
        "<a href=\"https://colab.research.google.com/github/bundickm/DS-Unit-1-Sprint-2-Data-Wrangling/blob/master/module1-scrape-and-process-data/LS_DS_121_Scrape_and_process_data.ipynb\" target=\"_parent\"><img src=\"https://colab.research.google.com/assets/colab-badge.svg\" alt=\"Open In Colab\"/></a>"
      ]
    },
    {
      "metadata": {
        "colab_type": "text",
        "id": "oR4Yeg3P07gu"
      },
      "cell_type": "markdown",
      "source": [
        "_Lambda School Data Science_\n",
        "\n",
        "# Scrape and process data\n",
        "\n",
        "Objectives\n",
        "- scrape and parse web pages\n",
        "- use list comprehensions\n",
        "- select rows and columns with pandas\n",
        "\n",
        "Links\n",
        "-  [Automate the Boring Stuff with Python, Chapter 11](https://automatetheboringstuff.com/chapter11/)\n",
        "  - Requests\n",
        "  - Beautiful Soup\n",
        "- [Python List Comprehensions: Explained Visually](https://treyhunner.com/2015/12/python-list-comprehensions-now-in-color/)\n",
        "- [Pandas Cheat Sheet](https://github.com/pandas-dev/pandas/blob/master/doc/cheatsheet/Pandas_Cheat_Sheet.pdf)\n",
        "  - Subset Observations (Rows)\n",
        "  - Subset Variables (Columns)\n",
        "- Python Data Science Handbook\n",
        "  - [Chapter 3.1](https://jakevdp.github.io/PythonDataScienceHandbook/03.01-introducing-pandas-objects.html), Introducing Pandas Objects\n",
        "  - [Chapter 3.2](https://jakevdp.github.io/PythonDataScienceHandbook/03.02-data-indexing-and-selection.html), Data Indexing and Selection\n"
      ]
    },
    {
      "metadata": {
        "colab_type": "text",
        "id": "I_NRVchqgGvM"
      },
      "cell_type": "markdown",
      "source": [
        "## Scrape the titles of PyCon 2019 talks"
      ]
    },
    {
      "metadata": {
        "id": "qwTGBs0dnwaX",
        "colab_type": "code",
        "colab": {}
      },
      "cell_type": "code",
      "source": [
        "import requests\n",
        "import bs4"
      ],
      "execution_count": 0,
      "outputs": []
    },
    {
      "metadata": {
        "colab_type": "code",
        "id": "3elw_8Nc7Tpe",
        "colab": {}
      },
      "cell_type": "code",
      "source": [
        "url = 'https://us.pycon.org/2019/schedule/talks/list/'\n",
        "result = requests.get(url)"
      ],
      "execution_count": 0,
      "outputs": []
    },
    {
      "metadata": {
        "colab_type": "code",
        "id": "SFNsyjVsTU4b",
        "colab": {}
      },
      "cell_type": "code",
      "source": [
        "soup = bs4.BeautifulSoup(result.text)"
      ],
      "execution_count": 0,
      "outputs": []
    },
    {
      "metadata": {
        "id": "Gi7430fxpcHS",
        "colab_type": "code",
        "colab": {
          "base_uri": "https://localhost:8080/",
          "height": 108
        },
        "outputId": "7d0186ff-0bf1-42eb-9a9c-8f5a4a38a10c"
      },
      "cell_type": "code",
      "source": [
        "first = soup.select('h2')[0]\n",
        "first"
      ],
      "execution_count": 16,
      "outputs": [
        {
          "output_type": "execute_result",
          "data": {
            "text/plain": [
              "<h2>\n",
              "<a href=\"/2019/schedule/presentation/235/\" id=\"presentation-235\">\n",
              "        5 Steps to Build Python Native GUI Widgets for BeeWare\n",
              "      </a>\n",
              "</h2>"
            ]
          },
          "metadata": {
            "tags": []
          },
          "execution_count": 16
        }
      ]
    },
    {
      "metadata": {
        "id": "8rJOWIByqwaJ",
        "colab_type": "code",
        "colab": {
          "base_uri": "https://localhost:8080/",
          "height": 35
        },
        "outputId": "cf3c1673-20c0-4dff-9b96-93fd3208dde1"
      },
      "cell_type": "code",
      "source": [
        "first.text.strip()"
      ],
      "execution_count": 21,
      "outputs": [
        {
          "output_type": "execute_result",
          "data": {
            "text/plain": [
              "'5 Steps to Build Python Native GUI Widgets for BeeWare'"
            ]
          },
          "metadata": {
            "tags": []
          },
          "execution_count": 21
        }
      ]
    },
    {
      "metadata": {
        "id": "6rk2U19msnOb",
        "colab_type": "code",
        "colab": {
          "base_uri": "https://localhost:8080/",
          "height": 35
        },
        "outputId": "f8b5d96c-f8fa-489e-e64c-25ab771ca57a"
      },
      "cell_type": "code",
      "source": [
        "last = soup.select('h2')[-1]\n",
        "last.text.strip()"
      ],
      "execution_count": 22,
      "outputs": [
        {
          "output_type": "execute_result",
          "data": {
            "text/plain": [
              "\"Working with Time Zones: Everything You Wish You Didn't Need to Know\""
            ]
          },
          "metadata": {
            "tags": []
          },
          "execution_count": 22
        }
      ]
    },
    {
      "metadata": {
        "id": "NJi_pKjTs0Ci",
        "colab_type": "code",
        "colab": {}
      },
      "cell_type": "code",
      "source": [
        "###Orginal For Loop###\n",
        "#for tag in soup.select('h2'):\n",
        "#  titles.append(tag.text.strip())\n",
        "\n",
        "#list comprehension\n",
        "titles = [tag.text.strip() for tag in soup.select('h2')]"
      ],
      "execution_count": 0,
      "outputs": []
    },
    {
      "metadata": {
        "colab_type": "text",
        "id": "vqkNgAzYpeK7"
      },
      "cell_type": "markdown",
      "source": [
        "## 5 ways to look at long titles\n",
        "\n",
        "Let's define a long title as greater than 80 characters"
      ]
    },
    {
      "metadata": {
        "colab_type": "text",
        "id": "N7tqeZh14Fws"
      },
      "cell_type": "markdown",
      "source": [
        "### 1. For Loop"
      ]
    },
    {
      "metadata": {
        "colab_type": "code",
        "id": "kKxs5tqDApuZ",
        "colab": {
          "base_uri": "https://localhost:8080/",
          "height": 163
        },
        "outputId": "0a691555-535b-43c8-d9b4-dfc6b37d98af"
      },
      "cell_type": "code",
      "source": [
        "long_titles = []\n",
        "\n",
        "for title in titles:\n",
        "  if len(title) > 80:\n",
        "    long_titles.append(title)\n",
        "\n",
        "long_titles    "
      ],
      "execution_count": 31,
      "outputs": [
        {
          "output_type": "execute_result",
          "data": {
            "text/plain": [
              "['¡Escuincla babosa!: Creating a telenovela script in three Python deep learning frameworks',\n",
              " 'Getting started with Deep Learning: Using Keras & Numpy to detect voice disorders',\n",
              " 'How to engage Python contributors in the long term? Tech is easy, people are hard.',\n",
              " 'Lessons learned from building a community of Python users among thousands of analysts',\n",
              " 'Life Is Better Painted Black, or: How to Stop Worrying and Embrace Auto-Formatting',\n",
              " 'One Engineer, an API, and an MVP: Or, how I spent one hour improving hiring data at my company.',\n",
              " 'Put down the deep learning: When not to use neural networks and what to do instead',\n",
              " 'Thinking Inside the Box: How Python Helped Us Adapt to An Existing Data Ingestion Pipeline']"
            ]
          },
          "metadata": {
            "tags": []
          },
          "execution_count": 31
        }
      ]
    },
    {
      "metadata": {
        "colab_type": "text",
        "id": "I21jcEnK4IN7"
      },
      "cell_type": "markdown",
      "source": [
        "### 2. List Comprehension"
      ]
    },
    {
      "metadata": {
        "colab_type": "code",
        "id": "qaXe9UldAs3H",
        "colab": {
          "base_uri": "https://localhost:8080/",
          "height": 163
        },
        "outputId": "09041d36-58bd-4b7d-ed7a-97304ca59e28"
      },
      "cell_type": "code",
      "source": [
        "long_titles = [title for title in titles if (len(title) > 80)]\n",
        "long_titles"
      ],
      "execution_count": 35,
      "outputs": [
        {
          "output_type": "execute_result",
          "data": {
            "text/plain": [
              "['¡Escuincla babosa!: Creating a telenovela script in three Python deep learning frameworks',\n",
              " 'Getting started with Deep Learning: Using Keras & Numpy to detect voice disorders',\n",
              " 'How to engage Python contributors in the long term? Tech is easy, people are hard.',\n",
              " 'Lessons learned from building a community of Python users among thousands of analysts',\n",
              " 'Life Is Better Painted Black, or: How to Stop Worrying and Embrace Auto-Formatting',\n",
              " 'One Engineer, an API, and an MVP: Or, how I spent one hour improving hiring data at my company.',\n",
              " 'Put down the deep learning: When not to use neural networks and what to do instead',\n",
              " 'Thinking Inside the Box: How Python Helped Us Adapt to An Existing Data Ingestion Pipeline']"
            ]
          },
          "metadata": {
            "tags": []
          },
          "execution_count": 35
        }
      ]
    },
    {
      "metadata": {
        "colab_type": "text",
        "id": "2kn8pxL-4yMG"
      },
      "cell_type": "markdown",
      "source": [
        "### 3. Filter with named function"
      ]
    },
    {
      "metadata": {
        "colab_type": "code",
        "id": "ywLqqFJNAvFm",
        "colab": {
          "base_uri": "https://localhost:8080/",
          "height": 163
        },
        "outputId": "cfd37f50-3839-4313-d111-dfc2b9151448"
      },
      "cell_type": "code",
      "source": [
        "def long(title):\n",
        "  return len(title) > 80\n",
        "\n",
        "long_titles = list(filter(long, titles))\n",
        "long_titles"
      ],
      "execution_count": 41,
      "outputs": [
        {
          "output_type": "execute_result",
          "data": {
            "text/plain": [
              "['¡Escuincla babosa!: Creating a telenovela script in three Python deep learning frameworks',\n",
              " 'Getting started with Deep Learning: Using Keras & Numpy to detect voice disorders',\n",
              " 'How to engage Python contributors in the long term? Tech is easy, people are hard.',\n",
              " 'Lessons learned from building a community of Python users among thousands of analysts',\n",
              " 'Life Is Better Painted Black, or: How to Stop Worrying and Embrace Auto-Formatting',\n",
              " 'One Engineer, an API, and an MVP: Or, how I spent one hour improving hiring data at my company.',\n",
              " 'Put down the deep learning: When not to use neural networks and what to do instead',\n",
              " 'Thinking Inside the Box: How Python Helped Us Adapt to An Existing Data Ingestion Pipeline']"
            ]
          },
          "metadata": {
            "tags": []
          },
          "execution_count": 41
        }
      ]
    },
    {
      "metadata": {
        "colab_type": "text",
        "id": "IPIT6oXz40Q3"
      },
      "cell_type": "markdown",
      "source": [
        "### 4. Filter with anonymous function"
      ]
    },
    {
      "metadata": {
        "colab_type": "code",
        "id": "giIcFYkiAwiR",
        "colab": {
          "base_uri": "https://localhost:8080/",
          "height": 163
        },
        "outputId": "9039301f-cb1c-4931-b24c-b17a93d80f42"
      },
      "cell_type": "code",
      "source": [
        "list(filter(lambda title: len(title) > 80, titles))"
      ],
      "execution_count": 43,
      "outputs": [
        {
          "output_type": "execute_result",
          "data": {
            "text/plain": [
              "['¡Escuincla babosa!: Creating a telenovela script in three Python deep learning frameworks',\n",
              " 'Getting started with Deep Learning: Using Keras & Numpy to detect voice disorders',\n",
              " 'How to engage Python contributors in the long term? Tech is easy, people are hard.',\n",
              " 'Lessons learned from building a community of Python users among thousands of analysts',\n",
              " 'Life Is Better Painted Black, or: How to Stop Worrying and Embrace Auto-Formatting',\n",
              " 'One Engineer, an API, and an MVP: Or, how I spent one hour improving hiring data at my company.',\n",
              " 'Put down the deep learning: When not to use neural networks and what to do instead',\n",
              " 'Thinking Inside the Box: How Python Helped Us Adapt to An Existing Data Ingestion Pipeline']"
            ]
          },
          "metadata": {
            "tags": []
          },
          "execution_count": 43
        }
      ]
    },
    {
      "metadata": {
        "colab_type": "text",
        "id": "qj8Yod8_45z4"
      },
      "cell_type": "markdown",
      "source": [
        "### 5. Pandas\n",
        "\n",
        "pandas documentation: [Working with Text Data](https://pandas.pydata.org/pandas-docs/stable/text.html)"
      ]
    },
    {
      "metadata": {
        "colab_type": "code",
        "id": "yRwPEHNcAzc_",
        "colab": {}
      },
      "cell_type": "code",
      "source": [
        "import pandas as pd\n",
        "pd.options.display.max_colwidth = 200"
      ],
      "execution_count": 0,
      "outputs": []
    },
    {
      "metadata": {
        "id": "B7E_g61UyEIw",
        "colab_type": "code",
        "colab": {
          "base_uri": "https://localhost:8080/",
          "height": 206
        },
        "outputId": "7532b266-5a42-4866-e8e0-e1c6b1c6d709"
      },
      "cell_type": "code",
      "source": [
        "df = pd.DataFrame({'title':titles})\n",
        "df.head()"
      ],
      "execution_count": 46,
      "outputs": [
        {
          "output_type": "execute_result",
          "data": {
            "text/html": [
              "<div>\n",
              "<style scoped>\n",
              "    .dataframe tbody tr th:only-of-type {\n",
              "        vertical-align: middle;\n",
              "    }\n",
              "\n",
              "    .dataframe tbody tr th {\n",
              "        vertical-align: top;\n",
              "    }\n",
              "\n",
              "    .dataframe thead th {\n",
              "        text-align: right;\n",
              "    }\n",
              "</style>\n",
              "<table border=\"1\" class=\"dataframe\">\n",
              "  <thead>\n",
              "    <tr style=\"text-align: right;\">\n",
              "      <th></th>\n",
              "      <th>title</th>\n",
              "    </tr>\n",
              "  </thead>\n",
              "  <tbody>\n",
              "    <tr>\n",
              "      <th>0</th>\n",
              "      <td>5 Steps to Build Python Native GUI Widgets for BeeWare</td>\n",
              "    </tr>\n",
              "    <tr>\n",
              "      <th>1</th>\n",
              "      <td>8 things that happen at the dot:  Attribute Access &amp; Descriptors</td>\n",
              "    </tr>\n",
              "    <tr>\n",
              "      <th>2</th>\n",
              "      <td>Account Security Patterns: How Logged-In Are you?</td>\n",
              "    </tr>\n",
              "    <tr>\n",
              "      <th>3</th>\n",
              "      <td>Ace Your Technical Interview Using Python</td>\n",
              "    </tr>\n",
              "    <tr>\n",
              "      <th>4</th>\n",
              "      <td>Advanced asyncio: Solving Real-world Production Problems</td>\n",
              "    </tr>\n",
              "  </tbody>\n",
              "</table>\n",
              "</div>"
            ],
            "text/plain": [
              "                                                              title\n",
              "0            5 Steps to Build Python Native GUI Widgets for BeeWare\n",
              "1  8 things that happen at the dot:  Attribute Access & Descriptors\n",
              "2                 Account Security Patterns: How Logged-In Are you?\n",
              "3                         Ace Your Technical Interview Using Python\n",
              "4          Advanced asyncio: Solving Real-world Production Problems"
            ]
          },
          "metadata": {
            "tags": []
          },
          "execution_count": 46
        }
      ]
    },
    {
      "metadata": {
        "id": "mktM4TvCyffg",
        "colab_type": "code",
        "colab": {
          "base_uri": "https://localhost:8080/",
          "height": 300
        },
        "outputId": "d70b2b82-6ec0-4f69-a4ff-26b2aefcb3b6"
      },
      "cell_type": "code",
      "source": [
        "df[df['title'].str.len() > 80]"
      ],
      "execution_count": 47,
      "outputs": [
        {
          "output_type": "execute_result",
          "data": {
            "text/html": [
              "<div>\n",
              "<style scoped>\n",
              "    .dataframe tbody tr th:only-of-type {\n",
              "        vertical-align: middle;\n",
              "    }\n",
              "\n",
              "    .dataframe tbody tr th {\n",
              "        vertical-align: top;\n",
              "    }\n",
              "\n",
              "    .dataframe thead th {\n",
              "        text-align: right;\n",
              "    }\n",
              "</style>\n",
              "<table border=\"1\" class=\"dataframe\">\n",
              "  <thead>\n",
              "    <tr style=\"text-align: right;\">\n",
              "      <th></th>\n",
              "      <th>title</th>\n",
              "    </tr>\n",
              "  </thead>\n",
              "  <tbody>\n",
              "    <tr>\n",
              "      <th>30</th>\n",
              "      <td>¡Escuincla babosa!: Creating a telenovela script in three Python deep learning frameworks</td>\n",
              "    </tr>\n",
              "    <tr>\n",
              "      <th>38</th>\n",
              "      <td>Getting started with Deep Learning: Using Keras &amp; Numpy to detect voice disorders</td>\n",
              "    </tr>\n",
              "    <tr>\n",
              "      <th>43</th>\n",
              "      <td>How to engage Python contributors in the long term? Tech is easy, people are hard.</td>\n",
              "    </tr>\n",
              "    <tr>\n",
              "      <th>48</th>\n",
              "      <td>Lessons learned from building a community of Python users among thousands of analysts</td>\n",
              "    </tr>\n",
              "    <tr>\n",
              "      <th>50</th>\n",
              "      <td>Life Is Better Painted Black, or: How to Stop Worrying and Embrace Auto-Formatting</td>\n",
              "    </tr>\n",
              "    <tr>\n",
              "      <th>60</th>\n",
              "      <td>One Engineer, an API, and an MVP: Or, how I spent one hour improving hiring data at my company.</td>\n",
              "    </tr>\n",
              "    <tr>\n",
              "      <th>66</th>\n",
              "      <td>Put down the deep learning: When not to use neural networks and what to do instead</td>\n",
              "    </tr>\n",
              "    <tr>\n",
              "      <th>84</th>\n",
              "      <td>Thinking Inside the Box: How Python Helped Us Adapt to An Existing Data Ingestion Pipeline</td>\n",
              "    </tr>\n",
              "  </tbody>\n",
              "</table>\n",
              "</div>"
            ],
            "text/plain": [
              "                                                                                              title\n",
              "30        ¡Escuincla babosa!: Creating a telenovela script in three Python deep learning frameworks\n",
              "38                Getting started with Deep Learning: Using Keras & Numpy to detect voice disorders\n",
              "43               How to engage Python contributors in the long term? Tech is easy, people are hard.\n",
              "48            Lessons learned from building a community of Python users among thousands of analysts\n",
              "50               Life Is Better Painted Black, or: How to Stop Worrying and Embrace Auto-Formatting\n",
              "60  One Engineer, an API, and an MVP: Or, how I spent one hour improving hiring data at my company.\n",
              "66               Put down the deep learning: When not to use neural networks and what to do instead\n",
              "84       Thinking Inside the Box: How Python Helped Us Adapt to An Existing Data Ingestion Pipeline"
            ]
          },
          "metadata": {
            "tags": []
          },
          "execution_count": 47
        }
      ]
    },
    {
      "metadata": {
        "colab_type": "text",
        "id": "8YaUZJvRp681"
      },
      "cell_type": "markdown",
      "source": [
        "## Make new dataframe columns\n",
        "\n",
        "pandas documentation: [apply](https://pandas.pydata.org/pandas-docs/stable/generated/pandas.Series.apply.html)"
      ]
    },
    {
      "metadata": {
        "colab_type": "text",
        "id": "Ua74pMrGrsZR"
      },
      "cell_type": "markdown",
      "source": [
        "### title length"
      ]
    },
    {
      "metadata": {
        "colab_type": "code",
        "id": "p-Euz7tgA8Fd",
        "colab": {
          "base_uri": "https://localhost:8080/",
          "height": 206
        },
        "outputId": "6627b925-0aee-4d9f-c2bb-0d80c3a26953"
      },
      "cell_type": "code",
      "source": [
        "df['title length'] = df['title'].apply(len)\n",
        "df.head()"
      ],
      "execution_count": 50,
      "outputs": [
        {
          "output_type": "execute_result",
          "data": {
            "text/html": [
              "<div>\n",
              "<style scoped>\n",
              "    .dataframe tbody tr th:only-of-type {\n",
              "        vertical-align: middle;\n",
              "    }\n",
              "\n",
              "    .dataframe tbody tr th {\n",
              "        vertical-align: top;\n",
              "    }\n",
              "\n",
              "    .dataframe thead th {\n",
              "        text-align: right;\n",
              "    }\n",
              "</style>\n",
              "<table border=\"1\" class=\"dataframe\">\n",
              "  <thead>\n",
              "    <tr style=\"text-align: right;\">\n",
              "      <th></th>\n",
              "      <th>title</th>\n",
              "      <th>title length</th>\n",
              "    </tr>\n",
              "  </thead>\n",
              "  <tbody>\n",
              "    <tr>\n",
              "      <th>0</th>\n",
              "      <td>5 Steps to Build Python Native GUI Widgets for BeeWare</td>\n",
              "      <td>54</td>\n",
              "    </tr>\n",
              "    <tr>\n",
              "      <th>1</th>\n",
              "      <td>8 things that happen at the dot:  Attribute Access &amp; Descriptors</td>\n",
              "      <td>64</td>\n",
              "    </tr>\n",
              "    <tr>\n",
              "      <th>2</th>\n",
              "      <td>Account Security Patterns: How Logged-In Are you?</td>\n",
              "      <td>49</td>\n",
              "    </tr>\n",
              "    <tr>\n",
              "      <th>3</th>\n",
              "      <td>Ace Your Technical Interview Using Python</td>\n",
              "      <td>41</td>\n",
              "    </tr>\n",
              "    <tr>\n",
              "      <th>4</th>\n",
              "      <td>Advanced asyncio: Solving Real-world Production Problems</td>\n",
              "      <td>56</td>\n",
              "    </tr>\n",
              "  </tbody>\n",
              "</table>\n",
              "</div>"
            ],
            "text/plain": [
              "                                                              title  \\\n",
              "0            5 Steps to Build Python Native GUI Widgets for BeeWare   \n",
              "1  8 things that happen at the dot:  Attribute Access & Descriptors   \n",
              "2                 Account Security Patterns: How Logged-In Are you?   \n",
              "3                         Ace Your Technical Interview Using Python   \n",
              "4          Advanced asyncio: Solving Real-world Production Problems   \n",
              "\n",
              "   title length  \n",
              "0            54  \n",
              "1            64  \n",
              "2            49  \n",
              "3            41  \n",
              "4            56  "
            ]
          },
          "metadata": {
            "tags": []
          },
          "execution_count": 50
        }
      ]
    },
    {
      "metadata": {
        "colab_type": "text",
        "id": "OgsKArXPrz5n"
      },
      "cell_type": "markdown",
      "source": [
        "### long title"
      ]
    },
    {
      "metadata": {
        "colab_type": "code",
        "id": "b_WCRvvKA-IP",
        "colab": {
          "base_uri": "https://localhost:8080/",
          "height": 206
        },
        "outputId": "49251a30-33c7-415a-bea4-71cc5922a87c"
      },
      "cell_type": "code",
      "source": [
        "df['is long title'] = df['title length'] > 80\n",
        "df.head()"
      ],
      "execution_count": 53,
      "outputs": [
        {
          "output_type": "execute_result",
          "data": {
            "text/html": [
              "<div>\n",
              "<style scoped>\n",
              "    .dataframe tbody tr th:only-of-type {\n",
              "        vertical-align: middle;\n",
              "    }\n",
              "\n",
              "    .dataframe tbody tr th {\n",
              "        vertical-align: top;\n",
              "    }\n",
              "\n",
              "    .dataframe thead th {\n",
              "        text-align: right;\n",
              "    }\n",
              "</style>\n",
              "<table border=\"1\" class=\"dataframe\">\n",
              "  <thead>\n",
              "    <tr style=\"text-align: right;\">\n",
              "      <th></th>\n",
              "      <th>title</th>\n",
              "      <th>title length</th>\n",
              "      <th>is long title</th>\n",
              "    </tr>\n",
              "  </thead>\n",
              "  <tbody>\n",
              "    <tr>\n",
              "      <th>0</th>\n",
              "      <td>5 Steps to Build Python Native GUI Widgets for BeeWare</td>\n",
              "      <td>54</td>\n",
              "      <td>False</td>\n",
              "    </tr>\n",
              "    <tr>\n",
              "      <th>1</th>\n",
              "      <td>8 things that happen at the dot:  Attribute Access &amp; Descriptors</td>\n",
              "      <td>64</td>\n",
              "      <td>False</td>\n",
              "    </tr>\n",
              "    <tr>\n",
              "      <th>2</th>\n",
              "      <td>Account Security Patterns: How Logged-In Are you?</td>\n",
              "      <td>49</td>\n",
              "      <td>False</td>\n",
              "    </tr>\n",
              "    <tr>\n",
              "      <th>3</th>\n",
              "      <td>Ace Your Technical Interview Using Python</td>\n",
              "      <td>41</td>\n",
              "      <td>False</td>\n",
              "    </tr>\n",
              "    <tr>\n",
              "      <th>4</th>\n",
              "      <td>Advanced asyncio: Solving Real-world Production Problems</td>\n",
              "      <td>56</td>\n",
              "      <td>False</td>\n",
              "    </tr>\n",
              "  </tbody>\n",
              "</table>\n",
              "</div>"
            ],
            "text/plain": [
              "                                                              title  \\\n",
              "0            5 Steps to Build Python Native GUI Widgets for BeeWare   \n",
              "1  8 things that happen at the dot:  Attribute Access & Descriptors   \n",
              "2                 Account Security Patterns: How Logged-In Are you?   \n",
              "3                         Ace Your Technical Interview Using Python   \n",
              "4          Advanced asyncio: Solving Real-world Production Problems   \n",
              "\n",
              "   title length  is long title  \n",
              "0            54          False  \n",
              "1            64          False  \n",
              "2            49          False  \n",
              "3            41          False  \n",
              "4            56          False  "
            ]
          },
          "metadata": {
            "tags": []
          },
          "execution_count": 53
        }
      ]
    },
    {
      "metadata": {
        "colab_type": "text",
        "id": "TonCXYPesUsT"
      },
      "cell_type": "markdown",
      "source": [
        "### first letter"
      ]
    },
    {
      "metadata": {
        "colab_type": "code",
        "id": "fhO4aABpBBgA",
        "colab": {
          "base_uri": "https://localhost:8080/",
          "height": 206
        },
        "outputId": "c18b17a5-7424-499e-a4b1-51de8a20697d"
      },
      "cell_type": "code",
      "source": [
        "df['first char'] = df['title'].str[0]\n",
        "df.head()"
      ],
      "execution_count": 56,
      "outputs": [
        {
          "output_type": "execute_result",
          "data": {
            "text/html": [
              "<div>\n",
              "<style scoped>\n",
              "    .dataframe tbody tr th:only-of-type {\n",
              "        vertical-align: middle;\n",
              "    }\n",
              "\n",
              "    .dataframe tbody tr th {\n",
              "        vertical-align: top;\n",
              "    }\n",
              "\n",
              "    .dataframe thead th {\n",
              "        text-align: right;\n",
              "    }\n",
              "</style>\n",
              "<table border=\"1\" class=\"dataframe\">\n",
              "  <thead>\n",
              "    <tr style=\"text-align: right;\">\n",
              "      <th></th>\n",
              "      <th>title</th>\n",
              "      <th>title length</th>\n",
              "      <th>is long title</th>\n",
              "      <th>first char</th>\n",
              "    </tr>\n",
              "  </thead>\n",
              "  <tbody>\n",
              "    <tr>\n",
              "      <th>0</th>\n",
              "      <td>5 Steps to Build Python Native GUI Widgets for BeeWare</td>\n",
              "      <td>54</td>\n",
              "      <td>False</td>\n",
              "      <td>5</td>\n",
              "    </tr>\n",
              "    <tr>\n",
              "      <th>1</th>\n",
              "      <td>8 things that happen at the dot:  Attribute Access &amp; Descriptors</td>\n",
              "      <td>64</td>\n",
              "      <td>False</td>\n",
              "      <td>8</td>\n",
              "    </tr>\n",
              "    <tr>\n",
              "      <th>2</th>\n",
              "      <td>Account Security Patterns: How Logged-In Are you?</td>\n",
              "      <td>49</td>\n",
              "      <td>False</td>\n",
              "      <td>A</td>\n",
              "    </tr>\n",
              "    <tr>\n",
              "      <th>3</th>\n",
              "      <td>Ace Your Technical Interview Using Python</td>\n",
              "      <td>41</td>\n",
              "      <td>False</td>\n",
              "      <td>A</td>\n",
              "    </tr>\n",
              "    <tr>\n",
              "      <th>4</th>\n",
              "      <td>Advanced asyncio: Solving Real-world Production Problems</td>\n",
              "      <td>56</td>\n",
              "      <td>False</td>\n",
              "      <td>A</td>\n",
              "    </tr>\n",
              "  </tbody>\n",
              "</table>\n",
              "</div>"
            ],
            "text/plain": [
              "                                                              title  \\\n",
              "0            5 Steps to Build Python Native GUI Widgets for BeeWare   \n",
              "1  8 things that happen at the dot:  Attribute Access & Descriptors   \n",
              "2                 Account Security Patterns: How Logged-In Are you?   \n",
              "3                         Ace Your Technical Interview Using Python   \n",
              "4          Advanced asyncio: Solving Real-world Production Problems   \n",
              "\n",
              "   title length  is long title first char  \n",
              "0            54          False          5  \n",
              "1            64          False          8  \n",
              "2            49          False          A  \n",
              "3            41          False          A  \n",
              "4            56          False          A  "
            ]
          },
          "metadata": {
            "tags": []
          },
          "execution_count": 56
        }
      ]
    },
    {
      "metadata": {
        "id": "IDt4OmNM67rU",
        "colab_type": "code",
        "colab": {
          "base_uri": "https://localhost:8080/",
          "height": 35
        },
        "outputId": "8e501b7d-2244-4962-8ec4-9ae6301e217f"
      },
      "cell_type": "code",
      "source": [
        "%t df[ df['first char'] == 'P']"
      ],
      "execution_count": 58,
      "outputs": [
        {
          "output_type": "stream",
          "text": [
            "UsageError: Line magic function `%t` not found.\n"
          ],
          "name": "stderr"
        }
      ]
    },
    {
      "metadata": {
        "colab_type": "text",
        "id": "Etz1XeLKs6DL"
      },
      "cell_type": "markdown",
      "source": [
        "### word count\n",
        "\n",
        "Using [`textstat`](https://github.com/shivam5992/textstat)"
      ]
    },
    {
      "metadata": {
        "colab_type": "code",
        "id": "GVIkRWchs4zR",
        "colab": {
          "base_uri": "https://localhost:8080/",
          "height": 181
        },
        "outputId": "8a9e806b-080e-421d-fcbb-1d7a334c3805"
      },
      "cell_type": "code",
      "source": [
        "!pip install textstat"
      ],
      "execution_count": 59,
      "outputs": [
        {
          "output_type": "stream",
          "text": [
            "Collecting textstat\n",
            "  Downloading https://files.pythonhosted.org/packages/4c/92/95fe083fb083b69ff6c319451c60dbd0eaea09a14bb4252bdfec666bb821/textstat-0.5.5-py3-none-any.whl\n",
            "Collecting repoze.lru (from textstat)\n",
            "  Downloading https://files.pythonhosted.org/packages/b0/30/6cc0c95f0b59ad4b3b9163bff7cdcf793cc96fac64cf398ff26271f5cf5e/repoze.lru-0.7-py3-none-any.whl\n",
            "Collecting pyphen (from textstat)\n",
            "\u001b[?25l  Downloading https://files.pythonhosted.org/packages/15/82/08a3629dce8d1f3d91db843bb36d4d7db6b6269d5067259613a0d5c8a9db/Pyphen-0.9.5-py2.py3-none-any.whl (3.0MB)\n",
            "\u001b[K    100% |████████████████████████████████| 3.0MB 1.2MB/s \n",
            "\u001b[?25hInstalling collected packages: repoze.lru, pyphen, textstat\n",
            "Successfully installed pyphen-0.9.5 repoze.lru-0.7 textstat-0.5.5\n"
          ],
          "name": "stdout"
        }
      ]
    },
    {
      "metadata": {
        "colab_type": "code",
        "id": "mY_M_MuaBFrF",
        "colab": {}
      },
      "cell_type": "code",
      "source": [
        "import textstat"
      ],
      "execution_count": 0,
      "outputs": []
    },
    {
      "metadata": {
        "id": "X0Jnc7ih9YM_",
        "colab_type": "code",
        "colab": {
          "base_uri": "https://localhost:8080/",
          "height": 206
        },
        "outputId": "88b3a47d-9798-4ce4-a265-6be53962f84a"
      },
      "cell_type": "code",
      "source": [
        "df['title word count'] = df['title'].apply(textstat.lexicon_count)\n",
        "df.head()"
      ],
      "execution_count": 63,
      "outputs": [
        {
          "output_type": "execute_result",
          "data": {
            "text/html": [
              "<div>\n",
              "<style scoped>\n",
              "    .dataframe tbody tr th:only-of-type {\n",
              "        vertical-align: middle;\n",
              "    }\n",
              "\n",
              "    .dataframe tbody tr th {\n",
              "        vertical-align: top;\n",
              "    }\n",
              "\n",
              "    .dataframe thead th {\n",
              "        text-align: right;\n",
              "    }\n",
              "</style>\n",
              "<table border=\"1\" class=\"dataframe\">\n",
              "  <thead>\n",
              "    <tr style=\"text-align: right;\">\n",
              "      <th></th>\n",
              "      <th>title</th>\n",
              "      <th>title length</th>\n",
              "      <th>is long title</th>\n",
              "      <th>first char</th>\n",
              "      <th>title word count</th>\n",
              "    </tr>\n",
              "  </thead>\n",
              "  <tbody>\n",
              "    <tr>\n",
              "      <th>0</th>\n",
              "      <td>5 Steps to Build Python Native GUI Widgets for BeeWare</td>\n",
              "      <td>54</td>\n",
              "      <td>False</td>\n",
              "      <td>5</td>\n",
              "      <td>10</td>\n",
              "    </tr>\n",
              "    <tr>\n",
              "      <th>1</th>\n",
              "      <td>8 things that happen at the dot:  Attribute Access &amp; Descriptors</td>\n",
              "      <td>64</td>\n",
              "      <td>False</td>\n",
              "      <td>8</td>\n",
              "      <td>10</td>\n",
              "    </tr>\n",
              "    <tr>\n",
              "      <th>2</th>\n",
              "      <td>Account Security Patterns: How Logged-In Are you?</td>\n",
              "      <td>49</td>\n",
              "      <td>False</td>\n",
              "      <td>A</td>\n",
              "      <td>7</td>\n",
              "    </tr>\n",
              "    <tr>\n",
              "      <th>3</th>\n",
              "      <td>Ace Your Technical Interview Using Python</td>\n",
              "      <td>41</td>\n",
              "      <td>False</td>\n",
              "      <td>A</td>\n",
              "      <td>6</td>\n",
              "    </tr>\n",
              "    <tr>\n",
              "      <th>4</th>\n",
              "      <td>Advanced asyncio: Solving Real-world Production Problems</td>\n",
              "      <td>56</td>\n",
              "      <td>False</td>\n",
              "      <td>A</td>\n",
              "      <td>6</td>\n",
              "    </tr>\n",
              "  </tbody>\n",
              "</table>\n",
              "</div>"
            ],
            "text/plain": [
              "                                                              title  \\\n",
              "0            5 Steps to Build Python Native GUI Widgets for BeeWare   \n",
              "1  8 things that happen at the dot:  Attribute Access & Descriptors   \n",
              "2                 Account Security Patterns: How Logged-In Are you?   \n",
              "3                         Ace Your Technical Interview Using Python   \n",
              "4          Advanced asyncio: Solving Real-world Production Problems   \n",
              "\n",
              "   title length  is long title first char  title word count  \n",
              "0            54          False          5                10  \n",
              "1            64          False          8                10  \n",
              "2            49          False          A                 7  \n",
              "3            41          False          A                 6  \n",
              "4            56          False          A                 6  "
            ]
          },
          "metadata": {
            "tags": []
          },
          "execution_count": 63
        }
      ]
    },
    {
      "metadata": {
        "colab_type": "text",
        "id": "UN_7FABhwDqc"
      },
      "cell_type": "markdown",
      "source": [
        "## Rename column\n",
        "\n",
        "`title length` --> `title character count`\n",
        "\n",
        "pandas documentation: [rename](https://pandas.pydata.org/pandas-docs/stable/generated/pandas.DataFrame.rename.html)"
      ]
    },
    {
      "metadata": {
        "colab_type": "code",
        "id": "jvTif7sBBMpN",
        "colab": {
          "base_uri": "https://localhost:8080/",
          "height": 206
        },
        "outputId": "3928a40d-d5d9-455b-a0fc-a4098613e087"
      },
      "cell_type": "code",
      "source": [
        "df = df.rename(columns={'title length':'title char count'})\n",
        "df.head()"
      ],
      "execution_count": 64,
      "outputs": [
        {
          "output_type": "execute_result",
          "data": {
            "text/html": [
              "<div>\n",
              "<style scoped>\n",
              "    .dataframe tbody tr th:only-of-type {\n",
              "        vertical-align: middle;\n",
              "    }\n",
              "\n",
              "    .dataframe tbody tr th {\n",
              "        vertical-align: top;\n",
              "    }\n",
              "\n",
              "    .dataframe thead th {\n",
              "        text-align: right;\n",
              "    }\n",
              "</style>\n",
              "<table border=\"1\" class=\"dataframe\">\n",
              "  <thead>\n",
              "    <tr style=\"text-align: right;\">\n",
              "      <th></th>\n",
              "      <th>title</th>\n",
              "      <th>title char count</th>\n",
              "      <th>is long title</th>\n",
              "      <th>first char</th>\n",
              "      <th>title word count</th>\n",
              "    </tr>\n",
              "  </thead>\n",
              "  <tbody>\n",
              "    <tr>\n",
              "      <th>0</th>\n",
              "      <td>5 Steps to Build Python Native GUI Widgets for BeeWare</td>\n",
              "      <td>54</td>\n",
              "      <td>False</td>\n",
              "      <td>5</td>\n",
              "      <td>10</td>\n",
              "    </tr>\n",
              "    <tr>\n",
              "      <th>1</th>\n",
              "      <td>8 things that happen at the dot:  Attribute Access &amp; Descriptors</td>\n",
              "      <td>64</td>\n",
              "      <td>False</td>\n",
              "      <td>8</td>\n",
              "      <td>10</td>\n",
              "    </tr>\n",
              "    <tr>\n",
              "      <th>2</th>\n",
              "      <td>Account Security Patterns: How Logged-In Are you?</td>\n",
              "      <td>49</td>\n",
              "      <td>False</td>\n",
              "      <td>A</td>\n",
              "      <td>7</td>\n",
              "    </tr>\n",
              "    <tr>\n",
              "      <th>3</th>\n",
              "      <td>Ace Your Technical Interview Using Python</td>\n",
              "      <td>41</td>\n",
              "      <td>False</td>\n",
              "      <td>A</td>\n",
              "      <td>6</td>\n",
              "    </tr>\n",
              "    <tr>\n",
              "      <th>4</th>\n",
              "      <td>Advanced asyncio: Solving Real-world Production Problems</td>\n",
              "      <td>56</td>\n",
              "      <td>False</td>\n",
              "      <td>A</td>\n",
              "      <td>6</td>\n",
              "    </tr>\n",
              "  </tbody>\n",
              "</table>\n",
              "</div>"
            ],
            "text/plain": [
              "                                                              title  \\\n",
              "0            5 Steps to Build Python Native GUI Widgets for BeeWare   \n",
              "1  8 things that happen at the dot:  Attribute Access & Descriptors   \n",
              "2                 Account Security Patterns: How Logged-In Are you?   \n",
              "3                         Ace Your Technical Interview Using Python   \n",
              "4          Advanced asyncio: Solving Real-world Production Problems   \n",
              "\n",
              "   title char count  is long title first char  title word count  \n",
              "0                54          False          5                10  \n",
              "1                64          False          8                10  \n",
              "2                49          False          A                 7  \n",
              "3                41          False          A                 6  \n",
              "4                56          False          A                 6  "
            ]
          },
          "metadata": {
            "tags": []
          },
          "execution_count": 64
        }
      ]
    },
    {
      "metadata": {
        "colab_type": "text",
        "id": "ca2pDtytr5tR"
      },
      "cell_type": "markdown",
      "source": [
        "## Analyze the dataframe"
      ]
    },
    {
      "metadata": {
        "colab_type": "text",
        "id": "AitNVDCFwWwc"
      },
      "cell_type": "markdown",
      "source": [
        "### Describe\n",
        "\n",
        "pandas documentation: [describe](https://pandas.pydata.org/pandas-docs/stable/generated/pandas.DataFrame.describe.html)"
      ]
    },
    {
      "metadata": {
        "colab_type": "code",
        "id": "yPo9RdxYBQ64",
        "colab": {
          "base_uri": "https://localhost:8080/",
          "height": 300
        },
        "outputId": "fd5a624a-4e58-491b-e593-d6290812093a"
      },
      "cell_type": "code",
      "source": [
        "df.describe(include='number')"
      ],
      "execution_count": 68,
      "outputs": [
        {
          "output_type": "execute_result",
          "data": {
            "text/html": [
              "<div>\n",
              "<style scoped>\n",
              "    .dataframe tbody tr th:only-of-type {\n",
              "        vertical-align: middle;\n",
              "    }\n",
              "\n",
              "    .dataframe tbody tr th {\n",
              "        vertical-align: top;\n",
              "    }\n",
              "\n",
              "    .dataframe thead th {\n",
              "        text-align: right;\n",
              "    }\n",
              "</style>\n",
              "<table border=\"1\" class=\"dataframe\">\n",
              "  <thead>\n",
              "    <tr style=\"text-align: right;\">\n",
              "      <th></th>\n",
              "      <th>title char count</th>\n",
              "      <th>title word count</th>\n",
              "    </tr>\n",
              "  </thead>\n",
              "  <tbody>\n",
              "    <tr>\n",
              "      <th>count</th>\n",
              "      <td>95.000000</td>\n",
              "      <td>95.000000</td>\n",
              "    </tr>\n",
              "    <tr>\n",
              "      <th>mean</th>\n",
              "      <td>51.347368</td>\n",
              "      <td>7.978947</td>\n",
              "    </tr>\n",
              "    <tr>\n",
              "      <th>std</th>\n",
              "      <td>17.729509</td>\n",
              "      <td>3.218890</td>\n",
              "    </tr>\n",
              "    <tr>\n",
              "      <th>min</th>\n",
              "      <td>20.000000</td>\n",
              "      <td>2.000000</td>\n",
              "    </tr>\n",
              "    <tr>\n",
              "      <th>25%</th>\n",
              "      <td>37.000000</td>\n",
              "      <td>6.000000</td>\n",
              "    </tr>\n",
              "    <tr>\n",
              "      <th>50%</th>\n",
              "      <td>52.000000</td>\n",
              "      <td>7.000000</td>\n",
              "    </tr>\n",
              "    <tr>\n",
              "      <th>75%</th>\n",
              "      <td>62.000000</td>\n",
              "      <td>9.500000</td>\n",
              "    </tr>\n",
              "    <tr>\n",
              "      <th>max</th>\n",
              "      <td>95.000000</td>\n",
              "      <td>19.000000</td>\n",
              "    </tr>\n",
              "  </tbody>\n",
              "</table>\n",
              "</div>"
            ],
            "text/plain": [
              "       title char count  title word count\n",
              "count         95.000000         95.000000\n",
              "mean          51.347368          7.978947\n",
              "std           17.729509          3.218890\n",
              "min           20.000000          2.000000\n",
              "25%           37.000000          6.000000\n",
              "50%           52.000000          7.000000\n",
              "75%           62.000000          9.500000\n",
              "max           95.000000         19.000000"
            ]
          },
          "metadata": {
            "tags": []
          },
          "execution_count": 68
        }
      ]
    },
    {
      "metadata": {
        "id": "dbzBDzOR_hx-",
        "colab_type": "code",
        "colab": {
          "base_uri": "https://localhost:8080/",
          "height": 175
        },
        "outputId": "0780e6cd-6c12-4b0b-e8a8-ef134422939c"
      },
      "cell_type": "code",
      "source": [
        "df.describe(exclude='number')"
      ],
      "execution_count": 69,
      "outputs": [
        {
          "output_type": "execute_result",
          "data": {
            "text/html": [
              "<div>\n",
              "<style scoped>\n",
              "    .dataframe tbody tr th:only-of-type {\n",
              "        vertical-align: middle;\n",
              "    }\n",
              "\n",
              "    .dataframe tbody tr th {\n",
              "        vertical-align: top;\n",
              "    }\n",
              "\n",
              "    .dataframe thead th {\n",
              "        text-align: right;\n",
              "    }\n",
              "</style>\n",
              "<table border=\"1\" class=\"dataframe\">\n",
              "  <thead>\n",
              "    <tr style=\"text-align: right;\">\n",
              "      <th></th>\n",
              "      <th>title</th>\n",
              "      <th>is long title</th>\n",
              "      <th>first char</th>\n",
              "    </tr>\n",
              "  </thead>\n",
              "  <tbody>\n",
              "    <tr>\n",
              "      <th>count</th>\n",
              "      <td>95</td>\n",
              "      <td>95</td>\n",
              "      <td>95</td>\n",
              "    </tr>\n",
              "    <tr>\n",
              "      <th>unique</th>\n",
              "      <td>95</td>\n",
              "      <td>2</td>\n",
              "      <td>22</td>\n",
              "    </tr>\n",
              "    <tr>\n",
              "      <th>top</th>\n",
              "      <td>Lowering the Stakes of Failure with Pre-mortems and Post-mortems</td>\n",
              "      <td>False</td>\n",
              "      <td>T</td>\n",
              "    </tr>\n",
              "    <tr>\n",
              "      <th>freq</th>\n",
              "      <td>1</td>\n",
              "      <td>87</td>\n",
              "      <td>12</td>\n",
              "    </tr>\n",
              "  </tbody>\n",
              "</table>\n",
              "</div>"
            ],
            "text/plain": [
              "                                                                   title  \\\n",
              "count                                                                 95   \n",
              "unique                                                                95   \n",
              "top     Lowering the Stakes of Failure with Pre-mortems and Post-mortems   \n",
              "freq                                                                   1   \n",
              "\n",
              "       is long title first char  \n",
              "count             95         95  \n",
              "unique             2         22  \n",
              "top            False          T  \n",
              "freq              87         12  "
            ]
          },
          "metadata": {
            "tags": []
          },
          "execution_count": 69
        }
      ]
    },
    {
      "metadata": {
        "colab_type": "text",
        "id": "T0lc_o-xyjZU"
      },
      "cell_type": "markdown",
      "source": [
        "### Sort values\n",
        "\n",
        "pandas documentation: [sort_values](https://pandas.pydata.org/pandas-docs/stable/generated/pandas.DataFrame.sort_values.html)"
      ]
    },
    {
      "metadata": {
        "colab_type": "text",
        "id": "kxE2swJ9-cG_"
      },
      "cell_type": "markdown",
      "source": [
        "Five shortest titles, by character count"
      ]
    },
    {
      "metadata": {
        "colab_type": "code",
        "id": "7t8DlpLhBVQa",
        "colab": {
          "base_uri": "https://localhost:8080/",
          "height": 126
        },
        "outputId": "ad769474-f97c-4b78-dd08-d532ef39005e"
      },
      "cell_type": "code",
      "source": [
        "df.sort_values(by='title char count').head(5)['title']"
      ],
      "execution_count": 74,
      "outputs": [
        {
          "output_type": "execute_result",
          "data": {
            "text/plain": [
              "64        Practical decorators\n",
              "68       Python Security Tools\n",
              "89     Type hinting (and mypy)\n",
              "82     The Zen of Python Teams\n",
              "56    Measuring Model Fairness\n",
              "Name: title, dtype: object"
            ]
          },
          "metadata": {
            "tags": []
          },
          "execution_count": 74
        }
      ]
    },
    {
      "metadata": {
        "colab_type": "text",
        "id": "NOEH4Ef5-kvo"
      },
      "cell_type": "markdown",
      "source": [
        "Titles sorted reverse alphabetically"
      ]
    },
    {
      "metadata": {
        "colab_type": "code",
        "id": "WkymeWDjBV8X",
        "colab": {
          "base_uri": "https://localhost:8080/",
          "height": 206
        },
        "outputId": "7f430485-bef9-4eb8-cef8-52e161d3a512"
      },
      "cell_type": "code",
      "source": [
        "df.sort_values(by='first char', ascending=False).head()"
      ],
      "execution_count": 76,
      "outputs": [
        {
          "output_type": "execute_result",
          "data": {
            "text/html": [
              "<div>\n",
              "<style scoped>\n",
              "    .dataframe tbody tr th:only-of-type {\n",
              "        vertical-align: middle;\n",
              "    }\n",
              "\n",
              "    .dataframe tbody tr th {\n",
              "        vertical-align: top;\n",
              "    }\n",
              "\n",
              "    .dataframe thead th {\n",
              "        text-align: right;\n",
              "    }\n",
              "</style>\n",
              "<table border=\"1\" class=\"dataframe\">\n",
              "  <thead>\n",
              "    <tr style=\"text-align: right;\">\n",
              "      <th></th>\n",
              "      <th>title</th>\n",
              "      <th>title char count</th>\n",
              "      <th>is long title</th>\n",
              "      <th>first char</th>\n",
              "      <th>title word count</th>\n",
              "    </tr>\n",
              "  </thead>\n",
              "  <tbody>\n",
              "    <tr>\n",
              "      <th>30</th>\n",
              "      <td>¡Escuincla babosa!: Creating a telenovela script in three Python deep learning frameworks</td>\n",
              "      <td>89</td>\n",
              "      <td>True</td>\n",
              "      <td>¡</td>\n",
              "      <td>12</td>\n",
              "    </tr>\n",
              "    <tr>\n",
              "      <th>88</th>\n",
              "      <td>to GIL or not to GIL: the Future of Multi-Core (C)Python</td>\n",
              "      <td>56</td>\n",
              "      <td>False</td>\n",
              "      <td>t</td>\n",
              "      <td>11</td>\n",
              "    </tr>\n",
              "    <tr>\n",
              "      <th>94</th>\n",
              "      <td>Working with Time Zones: Everything You Wish You Didn't Need to Know</td>\n",
              "      <td>68</td>\n",
              "      <td>False</td>\n",
              "      <td>W</td>\n",
              "      <td>12</td>\n",
              "    </tr>\n",
              "    <tr>\n",
              "      <th>93</th>\n",
              "      <td>Wily Python: Writing simpler and more maintainable Python</td>\n",
              "      <td>57</td>\n",
              "      <td>False</td>\n",
              "      <td>W</td>\n",
              "      <td>8</td>\n",
              "    </tr>\n",
              "    <tr>\n",
              "      <th>92</th>\n",
              "      <td>What's new in Python 3.7</td>\n",
              "      <td>24</td>\n",
              "      <td>False</td>\n",
              "      <td>W</td>\n",
              "      <td>5</td>\n",
              "    </tr>\n",
              "  </tbody>\n",
              "</table>\n",
              "</div>"
            ],
            "text/plain": [
              "                                                                                        title  \\\n",
              "30  ¡Escuincla babosa!: Creating a telenovela script in three Python deep learning frameworks   \n",
              "88                                   to GIL or not to GIL: the Future of Multi-Core (C)Python   \n",
              "94                       Working with Time Zones: Everything You Wish You Didn't Need to Know   \n",
              "93                                  Wily Python: Writing simpler and more maintainable Python   \n",
              "92                                                                   What's new in Python 3.7   \n",
              "\n",
              "    title char count  is long title first char  title word count  \n",
              "30                89           True          ¡                12  \n",
              "88                56          False          t                11  \n",
              "94                68          False          W                12  \n",
              "93                57          False          W                 8  \n",
              "92                24          False          W                 5  "
            ]
          },
          "metadata": {
            "tags": []
          },
          "execution_count": 76
        }
      ]
    },
    {
      "metadata": {
        "colab_type": "text",
        "id": "e4wr42FB0GV-"
      },
      "cell_type": "markdown",
      "source": [
        "### Get value counts\n",
        "\n",
        "pandas documentation: [value_counts](https://pandas.pydata.org/pandas-docs/stable/generated/pandas.Series.value_counts.html)\n"
      ]
    },
    {
      "metadata": {
        "colab_type": "text",
        "id": "D81LNGaI-6ya"
      },
      "cell_type": "markdown",
      "source": [
        "Frequency counts of first letters"
      ]
    },
    {
      "metadata": {
        "colab_type": "code",
        "id": "AdTQYsRKBZio",
        "colab": {
          "base_uri": "https://localhost:8080/",
          "height": 436
        },
        "outputId": "d210098c-c450-48ff-e938-6c7f79d0e365"
      },
      "cell_type": "code",
      "source": [
        "df['first char'].value_counts()"
      ],
      "execution_count": 77,
      "outputs": [
        {
          "output_type": "execute_result",
          "data": {
            "text/plain": [
              "T    12\n",
              "A    11\n",
              "M     8\n",
              "P     8\n",
              "E     7\n",
              "B     6\n",
              "S     6\n",
              "H     5\n",
              "L     4\n",
              "D     4\n",
              "G     4\n",
              "W     4\n",
              "F     3\n",
              "C     3\n",
              "I     2\n",
              "R     2\n",
              "¡     1\n",
              "O     1\n",
              "8     1\n",
              "t     1\n",
              "5     1\n",
              "U     1\n",
              "Name: first char, dtype: int64"
            ]
          },
          "metadata": {
            "tags": []
          },
          "execution_count": 77
        }
      ]
    },
    {
      "metadata": {
        "colab_type": "text",
        "id": "04NVokvTAwqK"
      },
      "cell_type": "markdown",
      "source": [
        "Percentage of talks with long titles"
      ]
    },
    {
      "metadata": {
        "colab_type": "code",
        "id": "uS8qp4hrBat6",
        "colab": {
          "base_uri": "https://localhost:8080/",
          "height": 72
        },
        "outputId": "5dfce100-0df7-477a-b712-18335b8658b1"
      },
      "cell_type": "code",
      "source": [
        "df['is long title'].value_counts() / len(df)"
      ],
      "execution_count": 78,
      "outputs": [
        {
          "output_type": "execute_result",
          "data": {
            "text/plain": [
              "False    0.915789\n",
              "True     0.084211\n",
              "Name: is long title, dtype: float64"
            ]
          },
          "metadata": {
            "tags": []
          },
          "execution_count": 78
        }
      ]
    },
    {
      "metadata": {
        "id": "2_4qXgKHA5Va",
        "colab_type": "code",
        "colab": {
          "base_uri": "https://localhost:8080/",
          "height": 72
        },
        "outputId": "559d7aa9-4321-4c19-8ad8-a47cfaaac896"
      },
      "cell_type": "code",
      "source": [
        "df['is long title'].value_counts(normalize=True)"
      ],
      "execution_count": 79,
      "outputs": [
        {
          "output_type": "execute_result",
          "data": {
            "text/plain": [
              "False    0.915789\n",
              "True     0.084211\n",
              "Name: is long title, dtype: float64"
            ]
          },
          "metadata": {
            "tags": []
          },
          "execution_count": 79
        }
      ]
    },
    {
      "metadata": {
        "colab_type": "text",
        "id": "mmYZL2QL0lgd"
      },
      "cell_type": "markdown",
      "source": [
        "### Plot\n",
        "\n",
        "pandas documentation: [Visualization](https://pandas.pydata.org/pandas-docs/stable/visualization.html)\n",
        "\n",
        "\n",
        "\n"
      ]
    },
    {
      "metadata": {
        "colab_type": "text",
        "id": "c6gCotA9_B68"
      },
      "cell_type": "markdown",
      "source": [
        "Top 5 most frequent first letters"
      ]
    },
    {
      "metadata": {
        "colab_type": "code",
        "id": "DUmcVcdXBdkw",
        "colab": {
          "base_uri": "https://localhost:8080/",
          "height": 280
        },
        "outputId": "c3ecdfd6-490e-4ed9-8813-53570d5ef359"
      },
      "cell_type": "code",
      "source": [
        "df['first char'].value_counts().head(5).plot.barh(color='b',title='Top 5 Most Frequent Letters');"
      ],
      "execution_count": 87,
      "outputs": [
        {
          "output_type": "display_data",
          "data": {
            "image/png": "[encoded data removed]",
            "text/plain": [
              "<Figure size 432x288 with 1 Axes>"
            ]
          },
          "metadata": {
            "tags": []
          }
        }
      ]
    },
    {
      "metadata": {
        "colab_type": "text",
        "id": "_Ngegk0bASty"
      },
      "cell_type": "markdown",
      "source": [
        "Histogram of title lengths, in characters"
      ]
    },
    {
      "metadata": {
        "colab_type": "code",
        "id": "y5oLu2D4BeKw",
        "colab": {
          "base_uri": "https://localhost:8080/",
          "height": 265
        },
        "outputId": "fee4066d-136f-4894-e200-eb6a1e08b652"
      },
      "cell_type": "code",
      "source": [
        "df['title char count'].plot.hist();"
      ],
      "execution_count": 88,
      "outputs": [
        {
          "output_type": "display_data",
          "data": {
            "image/png": "[encoded data removed]",
            "text/plain": [
              "<Figure size 432x288 with 1 Axes>"
            ]
          },
          "metadata": {
            "tags": []
          }
        }
      ]
    },
    {
      "metadata": {
        "colab_type": "text",
        "id": "DiylH7LQw44u"
      },
      "cell_type": "markdown",
      "source": [
        "# Assignment\n",
        "\n",
        "**Scrape** the talk descriptions. Hint: `soup.select('.presentation-description')`\n",
        "\n",
        "**Make** new columns in the dataframe:\n",
        "- description\n",
        "- description character count\n",
        "- description word count\n",
        "\n",
        "**Describe** all the dataframe's columns. What's the average description word count? The minimum? The maximum?\n",
        "\n",
        "**Answer** the question: Which descriptions could fit in a tweet?\n",
        "\n",
        "\n",
        "# Stretch Challenge\n",
        "\n",
        "**Make** another new column in the dataframe:\n",
        "- description grade level (you can use [this `textstat` function](https://github.com/shivam5992/textstat#the-flesch-kincaid-grade-level) to get the Flesh-Kincaid grade level)\n",
        "\n",
        "**Answer** the question: What's the distribution of grade levels? Plot a histogram.\n",
        "\n",
        "**Be aware** that [Textstat has issues when sentences aren't separated by spaces](https://github.com/shivam5992/textstat/issues/77#issuecomment-453734048). (A Lambda School Data Science student helped identify this issue, and emailed with the developer.) \n",
        "\n",
        "Also, [BeautifulSoup doesn't separate paragraph tags with spaces](https://bugs.launchpad.net/beautifulsoup/+bug/1768330).\n",
        "\n",
        "So, you may get some inaccurate or surprising grade level estimates here. Don't worry, that's ok — but optionally, can you do anything to try improving the grade level estimates?"
      ]
    },
    {
      "metadata": {
        "id": "9LFqRbTeRMKd",
        "colab_type": "text"
      },
      "cell_type": "markdown",
      "source": [
        "###Scrape the talk descriptions. Hint: soup.select('.presentation-description')"
      ]
    },
    {
      "metadata": {
        "id": "pif6r5KRR3fO",
        "colab_type": "code",
        "colab": {}
      },
      "cell_type": "code",
      "source": [
        "#imports and aliasing\n",
        "import requests\n",
        "import textstat\n",
        "import bs4\n",
        "import pandas as pd\n",
        "\n",
        "#setting display options\n",
        "pd.options.display.max_colwidth = 100"
      ],
      "execution_count": 0,
      "outputs": []
    },
    {
      "metadata": {
        "id": "G-baPBrJSx-c",
        "colab_type": "code",
        "colab": {}
      },
      "cell_type": "code",
      "source": [
        "#pull the html with requests\n",
        "url = 'https://us.pycon.org/2019/schedule/talks/list/'\n",
        "result = requests.get(url)"
      ],
      "execution_count": 0,
      "outputs": []
    },
    {
      "metadata": {
        "id": "fjf9DCG6STKh",
        "colab_type": "code",
        "colab": {
          "base_uri": "https://localhost:8080/",
          "height": 35
        },
        "outputId": "567c3040-e9d3-49aa-c599-d1f3bc648b6e"
      },
      "cell_type": "code",
      "source": [
        "#dump html into soup and verify\n",
        "pycon_soup = bs4.BeautifulSoup(result.text)\n",
        "type(pycon_soup)"
      ],
      "execution_count": 124,
      "outputs": [
        {
          "output_type": "execute_result",
          "data": {
            "text/plain": [
              "bs4.BeautifulSoup"
            ]
          },
          "metadata": {
            "tags": []
          },
          "execution_count": 124
        }
      ]
    },
    {
      "metadata": {
        "id": "jLmXdTE1TIWA",
        "colab_type": "code",
        "colab": {
          "base_uri": "https://localhost:8080/",
          "height": 55
        },
        "outputId": "1ccc4d60-cbcd-4873-c8e2-b9d4c193c7b1"
      },
      "cell_type": "code",
      "source": [
        "#pull presentation descriptions from pycon_soup and make a list of descriptions\n",
        "descriptions = [description.text \n",
        "                for description in pycon_soup\n",
        "                .select('.presentation-description')]\n",
        "descriptions[0] #verify"
      ],
      "execution_count": 125,
      "outputs": [
        {
          "output_type": "execute_result",
          "data": {
            "text/plain": [
              "\"Have you ever wanted to write a GUI application in Python that you can run on both your laptop and your phone? Have you been looking to contribute to an open source project, but you don't know where to start?\\r\\n\\r\\nBeeWare is a set of software libraries for cross-platform native app development from a single Python codebase and tools to simplify app deployment. The project aims to build, deploy, and run apps for Windows, Linux, macOS, Android, iPhone, and the web. It is native because it is actually using your platform's native GUI widgets, not a theme, icon pack, or webpage wrapper.\\r\\n\\r\\nThis talk will teach you how Toga, the BeeWare GUI toolkit, is architected and then show you how you can contribute to Toga by creating your own GUI widget in five easy steps.\""
            ]
          },
          "metadata": {
            "tags": []
          },
          "execution_count": 125
        }
      ]
    },
    {
      "metadata": {
        "id": "_7CYBTGPRSYc",
        "colab_type": "text"
      },
      "cell_type": "markdown",
      "source": [
        "###Make new columns in the dataframe:\n",
        "\n",
        "*    description\n",
        "*    description character count\n",
        "*    description word count\n"
      ]
    },
    {
      "metadata": {
        "id": "zH8Pj4GjVjyF",
        "colab_type": "code",
        "colab": {
          "base_uri": "https://localhost:8080/",
          "height": 206
        },
        "outputId": "57a7a71a-8be8-4ebd-ae80-2d9d0c505984"
      },
      "cell_type": "code",
      "source": [
        "#copying the poorly named DataFrame from lecture\n",
        "pycon_2019_talks = df.copy()\n",
        "pycon_2019_talks.head()"
      ],
      "execution_count": 126,
      "outputs": [
        {
          "output_type": "execute_result",
          "data": {
            "text/html": [
              "<div>\n",
              "<style scoped>\n",
              "    .dataframe tbody tr th:only-of-type {\n",
              "        vertical-align: middle;\n",
              "    }\n",
              "\n",
              "    .dataframe tbody tr th {\n",
              "        vertical-align: top;\n",
              "    }\n",
              "\n",
              "    .dataframe thead th {\n",
              "        text-align: right;\n",
              "    }\n",
              "</style>\n",
              "<table border=\"1\" class=\"dataframe\">\n",
              "  <thead>\n",
              "    <tr style=\"text-align: right;\">\n",
              "      <th></th>\n",
              "      <th>title</th>\n",
              "      <th>title char count</th>\n",
              "      <th>is long title</th>\n",
              "      <th>first char</th>\n",
              "      <th>title word count</th>\n",
              "    </tr>\n",
              "  </thead>\n",
              "  <tbody>\n",
              "    <tr>\n",
              "      <th>0</th>\n",
              "      <td>5 Steps to Build Python Native GUI Widgets for BeeWare</td>\n",
              "      <td>54</td>\n",
              "      <td>False</td>\n",
              "      <td>5</td>\n",
              "      <td>10</td>\n",
              "    </tr>\n",
              "    <tr>\n",
              "      <th>1</th>\n",
              "      <td>8 things that happen at the dot:  Attribute Access &amp; Descriptors</td>\n",
              "      <td>64</td>\n",
              "      <td>False</td>\n",
              "      <td>8</td>\n",
              "      <td>10</td>\n",
              "    </tr>\n",
              "    <tr>\n",
              "      <th>2</th>\n",
              "      <td>Account Security Patterns: How Logged-In Are you?</td>\n",
              "      <td>49</td>\n",
              "      <td>False</td>\n",
              "      <td>A</td>\n",
              "      <td>7</td>\n",
              "    </tr>\n",
              "    <tr>\n",
              "      <th>3</th>\n",
              "      <td>Ace Your Technical Interview Using Python</td>\n",
              "      <td>41</td>\n",
              "      <td>False</td>\n",
              "      <td>A</td>\n",
              "      <td>6</td>\n",
              "    </tr>\n",
              "    <tr>\n",
              "      <th>4</th>\n",
              "      <td>Advanced asyncio: Solving Real-world Production Problems</td>\n",
              "      <td>56</td>\n",
              "      <td>False</td>\n",
              "      <td>A</td>\n",
              "      <td>6</td>\n",
              "    </tr>\n",
              "  </tbody>\n",
              "</table>\n",
              "</div>"
            ],
            "text/plain": [
              "                                                              title  \\\n",
              "0            5 Steps to Build Python Native GUI Widgets for BeeWare   \n",
              "1  8 things that happen at the dot:  Attribute Access & Descriptors   \n",
              "2                 Account Security Patterns: How Logged-In Are you?   \n",
              "3                         Ace Your Technical Interview Using Python   \n",
              "4          Advanced asyncio: Solving Real-world Production Problems   \n",
              "\n",
              "   title char count  is long title first char  title word count  \n",
              "0                54          False          5                10  \n",
              "1                64          False          8                10  \n",
              "2                49          False          A                 7  \n",
              "3                41          False          A                 6  \n",
              "4                56          False          A                 6  "
            ]
          },
          "metadata": {
            "tags": []
          },
          "execution_count": 126
        }
      ]
    },
    {
      "metadata": {
        "id": "Js8f-esIWJ2S",
        "colab_type": "code",
        "colab": {
          "base_uri": "https://localhost:8080/",
          "height": 310
        },
        "outputId": "a1b1e75f-f8f8-4916-ff91-42ecb69205b2"
      },
      "cell_type": "code",
      "source": [
        "#adding the descriptions to pycon_2019_talks\n",
        "pycon_2019_talks['description'] = descriptions\n",
        "pycon_2019_talks.head()"
      ],
      "execution_count": 127,
      "outputs": [
        {
          "output_type": "execute_result",
          "data": {
            "text/html": [
              "<div>\n",
              "<style scoped>\n",
              "    .dataframe tbody tr th:only-of-type {\n",
              "        vertical-align: middle;\n",
              "    }\n",
              "\n",
              "    .dataframe tbody tr th {\n",
              "        vertical-align: top;\n",
              "    }\n",
              "\n",
              "    .dataframe thead th {\n",
              "        text-align: right;\n",
              "    }\n",
              "</style>\n",
              "<table border=\"1\" class=\"dataframe\">\n",
              "  <thead>\n",
              "    <tr style=\"text-align: right;\">\n",
              "      <th></th>\n",
              "      <th>title</th>\n",
              "      <th>title char count</th>\n",
              "      <th>is long title</th>\n",
              "      <th>first char</th>\n",
              "      <th>title word count</th>\n",
              "      <th>description</th>\n",
              "    </tr>\n",
              "  </thead>\n",
              "  <tbody>\n",
              "    <tr>\n",
              "      <th>0</th>\n",
              "      <td>5 Steps to Build Python Native GUI Widgets for BeeWare</td>\n",
              "      <td>54</td>\n",
              "      <td>False</td>\n",
              "      <td>5</td>\n",
              "      <td>10</td>\n",
              "      <td>Have you ever wanted to write a GUI application in Python that you can run on both your laptop a...</td>\n",
              "    </tr>\n",
              "    <tr>\n",
              "      <th>1</th>\n",
              "      <td>8 things that happen at the dot:  Attribute Access &amp; Descriptors</td>\n",
              "      <td>64</td>\n",
              "      <td>False</td>\n",
              "      <td>8</td>\n",
              "      <td>10</td>\n",
              "      <td>We rarely think about the dot “.” between our objects and their fields, but there are quite a lo...</td>\n",
              "    </tr>\n",
              "    <tr>\n",
              "      <th>2</th>\n",
              "      <td>Account Security Patterns: How Logged-In Are you?</td>\n",
              "      <td>49</td>\n",
              "      <td>False</td>\n",
              "      <td>A</td>\n",
              "      <td>7</td>\n",
              "      <td>Account security means making sure your users are only ones who can access their accounts. Accou...</td>\n",
              "    </tr>\n",
              "    <tr>\n",
              "      <th>3</th>\n",
              "      <td>Ace Your Technical Interview Using Python</td>\n",
              "      <td>41</td>\n",
              "      <td>False</td>\n",
              "      <td>A</td>\n",
              "      <td>6</td>\n",
              "      <td>Do you feel overwhelmed by the prospect of having to find a new software engineering job because...</td>\n",
              "    </tr>\n",
              "    <tr>\n",
              "      <th>4</th>\n",
              "      <td>Advanced asyncio: Solving Real-world Production Problems</td>\n",
              "      <td>56</td>\n",
              "      <td>False</td>\n",
              "      <td>A</td>\n",
              "      <td>6</td>\n",
              "      <td>Everyone’s talking about it. Everyone’s using it. But most likely, they’re doing it wrong, just ...</td>\n",
              "    </tr>\n",
              "  </tbody>\n",
              "</table>\n",
              "</div>"
            ],
            "text/plain": [
              "                                                              title  \\\n",
              "0            5 Steps to Build Python Native GUI Widgets for BeeWare   \n",
              "1  8 things that happen at the dot:  Attribute Access & Descriptors   \n",
              "2                 Account Security Patterns: How Logged-In Are you?   \n",
              "3                         Ace Your Technical Interview Using Python   \n",
              "4          Advanced asyncio: Solving Real-world Production Problems   \n",
              "\n",
              "   title char count  is long title first char  title word count  \\\n",
              "0                54          False          5                10   \n",
              "1                64          False          8                10   \n",
              "2                49          False          A                 7   \n",
              "3                41          False          A                 6   \n",
              "4                56          False          A                 6   \n",
              "\n",
              "                                                                                           description  \n",
              "0  Have you ever wanted to write a GUI application in Python that you can run on both your laptop a...  \n",
              "1  We rarely think about the dot “.” between our objects and their fields, but there are quite a lo...  \n",
              "2  Account security means making sure your users are only ones who can access their accounts. Accou...  \n",
              "3  Do you feel overwhelmed by the prospect of having to find a new software engineering job because...  \n",
              "4  Everyone’s talking about it. Everyone’s using it. But most likely, they’re doing it wrong, just ...  "
            ]
          },
          "metadata": {
            "tags": []
          },
          "execution_count": 127
        }
      ]
    },
    {
      "metadata": {
        "id": "xA89lqduWmLd",
        "colab_type": "code",
        "colab": {
          "base_uri": "https://localhost:8080/",
          "height": 310
        },
        "outputId": "68073912-d4ae-4d09-fed8-2eaba0c98b8d"
      },
      "cell_type": "code",
      "source": [
        "#adding the description character count\n",
        "pycon_2019_talks['description char count'] = len(pycon_2019_talks['description'])\n",
        "pycon_2019_talks.head()"
      ],
      "execution_count": 128,
      "outputs": [
        {
          "output_type": "execute_result",
          "data": {
            "text/html": [
              "<div>\n",
              "<style scoped>\n",
              "    .dataframe tbody tr th:only-of-type {\n",
              "        vertical-align: middle;\n",
              "    }\n",
              "\n",
              "    .dataframe tbody tr th {\n",
              "        vertical-align: top;\n",
              "    }\n",
              "\n",
              "    .dataframe thead th {\n",
              "        text-align: right;\n",
              "    }\n",
              "</style>\n",
              "<table border=\"1\" class=\"dataframe\">\n",
              "  <thead>\n",
              "    <tr style=\"text-align: right;\">\n",
              "      <th></th>\n",
              "      <th>title</th>\n",
              "      <th>title char count</th>\n",
              "      <th>is long title</th>\n",
              "      <th>first char</th>\n",
              "      <th>title word count</th>\n",
              "      <th>description</th>\n",
              "      <th>description char count</th>\n",
              "    </tr>\n",
              "  </thead>\n",
              "  <tbody>\n",
              "    <tr>\n",
              "      <th>0</th>\n",
              "      <td>5 Steps to Build Python Native GUI Widgets for BeeWare</td>\n",
              "      <td>54</td>\n",
              "      <td>False</td>\n",
              "      <td>5</td>\n",
              "      <td>10</td>\n",
              "      <td>Have you ever wanted to write a GUI application in Python that you can run on both your laptop a...</td>\n",
              "      <td>95</td>\n",
              "    </tr>\n",
              "    <tr>\n",
              "      <th>1</th>\n",
              "      <td>8 things that happen at the dot:  Attribute Access &amp; Descriptors</td>\n",
              "      <td>64</td>\n",
              "      <td>False</td>\n",
              "      <td>8</td>\n",
              "      <td>10</td>\n",
              "      <td>We rarely think about the dot “.” between our objects and their fields, but there are quite a lo...</td>\n",
              "      <td>95</td>\n",
              "    </tr>\n",
              "    <tr>\n",
              "      <th>2</th>\n",
              "      <td>Account Security Patterns: How Logged-In Are you?</td>\n",
              "      <td>49</td>\n",
              "      <td>False</td>\n",
              "      <td>A</td>\n",
              "      <td>7</td>\n",
              "      <td>Account security means making sure your users are only ones who can access their accounts. Accou...</td>\n",
              "      <td>95</td>\n",
              "    </tr>\n",
              "    <tr>\n",
              "      <th>3</th>\n",
              "      <td>Ace Your Technical Interview Using Python</td>\n",
              "      <td>41</td>\n",
              "      <td>False</td>\n",
              "      <td>A</td>\n",
              "      <td>6</td>\n",
              "      <td>Do you feel overwhelmed by the prospect of having to find a new software engineering job because...</td>\n",
              "      <td>95</td>\n",
              "    </tr>\n",
              "    <tr>\n",
              "      <th>4</th>\n",
              "      <td>Advanced asyncio: Solving Real-world Production Problems</td>\n",
              "      <td>56</td>\n",
              "      <td>False</td>\n",
              "      <td>A</td>\n",
              "      <td>6</td>\n",
              "      <td>Everyone’s talking about it. Everyone’s using it. But most likely, they’re doing it wrong, just ...</td>\n",
              "      <td>95</td>\n",
              "    </tr>\n",
              "  </tbody>\n",
              "</table>\n",
              "</div>"
            ],
            "text/plain": [
              "                                                              title  \\\n",
              "0            5 Steps to Build Python Native GUI Widgets for BeeWare   \n",
              "1  8 things that happen at the dot:  Attribute Access & Descriptors   \n",
              "2                 Account Security Patterns: How Logged-In Are you?   \n",
              "3                         Ace Your Technical Interview Using Python   \n",
              "4          Advanced asyncio: Solving Real-world Production Problems   \n",
              "\n",
              "   title char count  is long title first char  title word count  \\\n",
              "0                54          False          5                10   \n",
              "1                64          False          8                10   \n",
              "2                49          False          A                 7   \n",
              "3                41          False          A                 6   \n",
              "4                56          False          A                 6   \n",
              "\n",
              "                                                                                           description  \\\n",
              "0  Have you ever wanted to write a GUI application in Python that you can run on both your laptop a...   \n",
              "1  We rarely think about the dot “.” between our objects and their fields, but there are quite a lo...   \n",
              "2  Account security means making sure your users are only ones who can access their accounts. Accou...   \n",
              "3  Do you feel overwhelmed by the prospect of having to find a new software engineering job because...   \n",
              "4  Everyone’s talking about it. Everyone’s using it. But most likely, they’re doing it wrong, just ...   \n",
              "\n",
              "   description char count  \n",
              "0                      95  \n",
              "1                      95  \n",
              "2                      95  \n",
              "3                      95  \n",
              "4                      95  "
            ]
          },
          "metadata": {
            "tags": []
          },
          "execution_count": 128
        }
      ]
    },
    {
      "metadata": {
        "id": "_KlANXlkYdVy",
        "colab_type": "code",
        "colab": {
          "base_uri": "https://localhost:8080/",
          "height": 310
        },
        "outputId": "50a8df41-92d4-431d-f996-c2edb707f916"
      },
      "cell_type": "code",
      "source": [
        "#Adding the description word count with textstat\n",
        "pycon_2019_talks['description word count'] = (pycon_2019_talks['description']\n",
        "                                              .apply(textstat.lexicon_count))\n",
        "pycon_2019_talks.head()"
      ],
      "execution_count": 132,
      "outputs": [
        {
          "output_type": "execute_result",
          "data": {
            "text/html": [
              "<div>\n",
              "<style scoped>\n",
              "    .dataframe tbody tr th:only-of-type {\n",
              "        vertical-align: middle;\n",
              "    }\n",
              "\n",
              "    .dataframe tbody tr th {\n",
              "        vertical-align: top;\n",
              "    }\n",
              "\n",
              "    .dataframe thead th {\n",
              "        text-align: right;\n",
              "    }\n",
              "</style>\n",
              "<table border=\"1\" class=\"dataframe\">\n",
              "  <thead>\n",
              "    <tr style=\"text-align: right;\">\n",
              "      <th></th>\n",
              "      <th>title</th>\n",
              "      <th>title char count</th>\n",
              "      <th>is long title</th>\n",
              "      <th>first char</th>\n",
              "      <th>title word count</th>\n",
              "      <th>description</th>\n",
              "      <th>description char count</th>\n",
              "      <th>description word count</th>\n",
              "    </tr>\n",
              "  </thead>\n",
              "  <tbody>\n",
              "    <tr>\n",
              "      <th>0</th>\n",
              "      <td>5 Steps to Build Python Native GUI Widgets for BeeWare</td>\n",
              "      <td>54</td>\n",
              "      <td>False</td>\n",
              "      <td>5</td>\n",
              "      <td>10</td>\n",
              "      <td>Have you ever wanted to write a GUI application in Python that you can run on both your laptop a...</td>\n",
              "      <td>95</td>\n",
              "      <td>135</td>\n",
              "    </tr>\n",
              "    <tr>\n",
              "      <th>1</th>\n",
              "      <td>8 things that happen at the dot:  Attribute Access &amp; Descriptors</td>\n",
              "      <td>64</td>\n",
              "      <td>False</td>\n",
              "      <td>8</td>\n",
              "      <td>10</td>\n",
              "      <td>We rarely think about the dot “.” between our objects and their fields, but there are quite a lo...</td>\n",
              "      <td>95</td>\n",
              "      <td>56</td>\n",
              "    </tr>\n",
              "    <tr>\n",
              "      <th>2</th>\n",
              "      <td>Account Security Patterns: How Logged-In Are you?</td>\n",
              "      <td>49</td>\n",
              "      <td>False</td>\n",
              "      <td>A</td>\n",
              "      <td>7</td>\n",
              "      <td>Account security means making sure your users are only ones who can access their accounts. Accou...</td>\n",
              "      <td>95</td>\n",
              "      <td>66</td>\n",
              "    </tr>\n",
              "    <tr>\n",
              "      <th>3</th>\n",
              "      <td>Ace Your Technical Interview Using Python</td>\n",
              "      <td>41</td>\n",
              "      <td>False</td>\n",
              "      <td>A</td>\n",
              "      <td>6</td>\n",
              "      <td>Do you feel overwhelmed by the prospect of having to find a new software engineering job because...</td>\n",
              "      <td>95</td>\n",
              "      <td>84</td>\n",
              "    </tr>\n",
              "    <tr>\n",
              "      <th>4</th>\n",
              "      <td>Advanced asyncio: Solving Real-world Production Problems</td>\n",
              "      <td>56</td>\n",
              "      <td>False</td>\n",
              "      <td>A</td>\n",
              "      <td>6</td>\n",
              "      <td>Everyone’s talking about it. Everyone’s using it. But most likely, they’re doing it wrong, just ...</td>\n",
              "      <td>95</td>\n",
              "      <td>96</td>\n",
              "    </tr>\n",
              "  </tbody>\n",
              "</table>\n",
              "</div>"
            ],
            "text/plain": [
              "                                                              title  \\\n",
              "0            5 Steps to Build Python Native GUI Widgets for BeeWare   \n",
              "1  8 things that happen at the dot:  Attribute Access & Descriptors   \n",
              "2                 Account Security Patterns: How Logged-In Are you?   \n",
              "3                         Ace Your Technical Interview Using Python   \n",
              "4          Advanced asyncio: Solving Real-world Production Problems   \n",
              "\n",
              "   title char count  is long title first char  title word count  \\\n",
              "0                54          False          5                10   \n",
              "1                64          False          8                10   \n",
              "2                49          False          A                 7   \n",
              "3                41          False          A                 6   \n",
              "4                56          False          A                 6   \n",
              "\n",
              "                                                                                           description  \\\n",
              "0  Have you ever wanted to write a GUI application in Python that you can run on both your laptop a...   \n",
              "1  We rarely think about the dot “.” between our objects and their fields, but there are quite a lo...   \n",
              "2  Account security means making sure your users are only ones who can access their accounts. Accou...   \n",
              "3  Do you feel overwhelmed by the prospect of having to find a new software engineering job because...   \n",
              "4  Everyone’s talking about it. Everyone’s using it. But most likely, they’re doing it wrong, just ...   \n",
              "\n",
              "   description char count  description word count  \n",
              "0                      95                     135  \n",
              "1                      95                      56  \n",
              "2                      95                      66  \n",
              "3                      95                      84  \n",
              "4                      95                      96  "
            ]
          },
          "metadata": {
            "tags": []
          },
          "execution_count": 132
        }
      ]
    },
    {
      "metadata": {
        "id": "DRwB-A6mRgg2",
        "colab_type": "text"
      },
      "cell_type": "markdown",
      "source": [
        "###Describe all the dataframe's columns\n",
        "* Average description word count?\n",
        "* Minimum?\n",
        "* Maximum?"
      ]
    },
    {
      "metadata": {
        "id": "_WvwjKvLRzko",
        "colab_type": "text"
      },
      "cell_type": "markdown",
      "source": [
        "###Answer the question: Which descriptions could fit in a tweet?"
      ]
    },
    {
      "metadata": {
        "id": "5BQgYikgXjPs",
        "colab_type": "code",
        "colab": {}
      },
      "cell_type": "code",
      "source": [
        ""
      ],
      "execution_count": 0,
      "outputs": []
    }
  ]
}