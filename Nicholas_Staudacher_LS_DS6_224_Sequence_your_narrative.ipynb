{
  "nbformat": 4,
  "nbformat_minor": 0,
  "metadata": {
    "colab": {
      "name": "Nicholas_Staudacher_LS_DS6_224_Sequence_your_narrative.ipynb",
      "version": "0.3.2",
      "provenance": [],
      "collapsed_sections": [],
      "include_colab_link": true
    },
    "kernelspec": {
      "display_name": "Python 3",
      "language": "python",
      "name": "python3"
    },
    "language_info": {
      "codemirror_mode": {
        "name": "ipython",
        "version": 3
      },
      "file_extension": ".py",
      "mimetype": "text/x-python",
      "name": "python",
      "nbconvert_exporter": "python",
      "pygments_lexer": "ipython3",
      "version": "3.7.1"
    }
  },
  "cells": [
    {
      "cell_type": "markdown",
      "metadata": {
        "id": "view-in-github",
        "colab_type": "text"
      },
      "source": [
        "<a href=\"https://colab.research.google.com/github/nstaudac/DS-Unit-1-Sprint-2-Data-Wrangling-and-Storytelling/blob/master/Nicholas_Staudacher_LS_DS6_224_Sequence_your_narrative.ipynb\" target=\"_parent\"><img src=\"https://colab.research.google.com/assets/colab-badge.svg\" alt=\"Open In Colab\"/></a>"
      ]
    },
    {
      "cell_type": "markdown",
      "metadata": {
        "colab_type": "text",
        "id": "JbDHnhet8CWy"
      },
      "source": [
        "_Lambda School Data Science_\n",
        "\n",
        "# Sequence your narrative\n",
        "\n",
        "Today we will create a sequence of visualizations inspired by [Hans Rosling's 200 Countries, 200 Years, 4 Minutes](https://www.youtube.com/watch?v=jbkSRLYSojo).\n",
        "\n",
        "Using this [data from Gapminder](https://github.com/open-numbers/ddf--gapminder--systema_globalis/):\n",
        "- [Income Per Person (GDP Per Capital, Inflation Adjusted) by Geo & Time](https://raw.githubusercontent.com/open-numbers/ddf--gapminder--systema_globalis/master/ddf--datapoints--income_per_person_gdppercapita_ppp_inflation_adjusted--by--geo--time.csv)\n",
        "- [Life Expectancy (in Years) by Geo & Time](https://raw.githubusercontent.com/open-numbers/ddf--gapminder--systema_globalis/master/ddf--datapoints--life_expectancy_years--by--geo--time.csv)\n",
        "- [Population Totals, by Geo & Time](https://raw.githubusercontent.com/open-numbers/ddf--gapminder--systema_globalis/master/ddf--datapoints--population_total--by--geo--time.csv)\n",
        "- [Entities](https://raw.githubusercontent.com/open-numbers/ddf--gapminder--systema_globalis/master/ddf--entities--geo--country.csv)\n",
        "- [Concepts](https://raw.githubusercontent.com/open-numbers/ddf--gapminder--systema_globalis/master/ddf--concepts.csv)"
      ]
    },
    {
      "cell_type": "markdown",
      "metadata": {
        "colab_type": "text",
        "id": "zyPYtsY6HtIK"
      },
      "source": [
        "Objectives\n",
        "- sequence multiple visualizations\n",
        "- combine qualitative anecdotes with quantitative aggregates\n",
        "\n",
        "Links\n",
        "- [Hans Rosling’s TED talks](https://www.ted.com/speakers/hans_rosling)\n",
        "- [Spiralling global temperatures from 1850-2016](https://twitter.com/ed_hawkins/status/729753441459945474)\n",
        "- \"[The Pudding](https://pudding.cool/) explains ideas debated in culture with visual essays.\"\n",
        "- [A Data Point Walks Into a Bar](https://lisacharlotterost.github.io/2016/12/27/datapoint-in-bar/): a thoughtful blog post about emotion and empathy in data storytelling"
      ]
    },
    {
      "cell_type": "markdown",
      "metadata": {
        "colab_type": "text",
        "id": "SxTJBgRAW3jD"
      },
      "source": [
        "## Make a plan\n",
        "\n",
        "#### How to present the data?\n",
        "\n",
        "Variables --> Visual Encodings\n",
        "- Income --> x\n",
        "- Lifespan --> y\n",
        "- Region --> color\n",
        "- Population --> size\n",
        "- Year --> animation frame (alternative: small multiple)\n",
        "- Country --> annotation\n",
        "\n",
        "Qualitative --> Verbal\n",
        "- Editorial / contextual explanation --> audio narration (alternative: text)\n",
        "\n",
        "\n",
        "#### How to structure the data?\n",
        "\n",
        "| Year | Country | Region   | Income | Lifespan | Population |\n",
        "|------|---------|----------|--------|----------|------------|\n",
        "| 1818 | USA     | Americas | ###    | ##       | #          |\n",
        "| 1918 | USA     | Americas | ####   | ###      | ##         |\n",
        "| 2018 | USA     | Americas | #####  | ###      | ###        |\n",
        "| 1818 | China   | Asia     | #      | #        | #          |\n",
        "| 1918 | China   | Asia     | ##     | ##       | ###        |\n",
        "| 2018 | China   | Asia     | ###    | ###      | #####      |\n"
      ]
    },
    {
      "cell_type": "markdown",
      "metadata": {
        "colab_type": "text",
        "id": "S2dXWRTFTsgd"
      },
      "source": [
        "## More imports"
      ]
    },
    {
      "cell_type": "code",
      "metadata": {
        "colab_type": "code",
        "id": "y-TgL_mA8OkF",
        "colab": {}
      },
      "source": [
        "%matplotlib inline\n",
        "import matplotlib.pyplot as plt\n",
        "import numpy as np\n",
        "import pandas as pd"
      ],
      "execution_count": 0,
      "outputs": []
    },
    {
      "cell_type": "markdown",
      "metadata": {
        "colab_type": "text",
        "id": "CZGG5prcTxrQ"
      },
      "source": [
        "## Load & look at data"
      ]
    },
    {
      "cell_type": "code",
      "metadata": {
        "colab_type": "code",
        "id": "-uE25LHD8CW0",
        "colab": {}
      },
      "source": [
        "income = pd.read_csv('https://raw.githubusercontent.com/open-numbers/ddf--gapminder--systema_globalis/master/ddf--datapoints--income_per_person_gdppercapita_ppp_inflation_adjusted--by--geo--time.csv')"
      ],
      "execution_count": 0,
      "outputs": []
    },
    {
      "cell_type": "code",
      "metadata": {
        "colab_type": "code",
        "id": "gg_pJslMY2bq",
        "colab": {}
      },
      "source": [
        "lifespan = pd.read_csv('https://raw.githubusercontent.com/open-numbers/ddf--gapminder--systema_globalis/master/ddf--datapoints--life_expectancy_years--by--geo--time.csv')"
      ],
      "execution_count": 0,
      "outputs": []
    },
    {
      "cell_type": "code",
      "metadata": {
        "colab_type": "code",
        "id": "F6knDUevY-xR",
        "colab": {}
      },
      "source": [
        "population = pd.read_csv('https://raw.githubusercontent.com/open-numbers/ddf--gapminder--systema_globalis/master/ddf--datapoints--population_total--by--geo--time.csv')"
      ],
      "execution_count": 0,
      "outputs": []
    },
    {
      "cell_type": "code",
      "metadata": {
        "colab_type": "code",
        "id": "hX6abI-iZGLl",
        "colab": {}
      },
      "source": [
        "entities = pd.read_csv('https://raw.githubusercontent.com/open-numbers/ddf--gapminder--systema_globalis/master/ddf--entities--geo--country.csv')"
      ],
      "execution_count": 0,
      "outputs": []
    },
    {
      "cell_type": "code",
      "metadata": {
        "colab_type": "code",
        "id": "AI-zcaDkZHXm",
        "colab": {}
      },
      "source": [
        "concepts = pd.read_csv('https://raw.githubusercontent.com/open-numbers/ddf--gapminder--systema_globalis/master/ddf--concepts.csv')"
      ],
      "execution_count": 0,
      "outputs": []
    },
    {
      "cell_type": "code",
      "metadata": {
        "colab_type": "code",
        "id": "EgFw-g0nZLJy",
        "colab": {
          "base_uri": "https://localhost:8080/",
          "height": 34
        },
        "outputId": "9ec86f13-7b9f-4005-b527-0b1909fc4e91"
      },
      "source": [
        "income.shape, lifespan.shape, population.shape, entities.shape, concepts.shape"
      ],
      "execution_count": 7,
      "outputs": [
        {
          "output_type": "execute_result",
          "data": {
            "text/plain": [
              "((46513, 3), (44370, 3), (59297, 3), (273, 33), (590, 16))"
            ]
          },
          "metadata": {
            "tags": []
          },
          "execution_count": 7
        }
      ]
    },
    {
      "cell_type": "code",
      "metadata": {
        "colab_type": "code",
        "id": "I-T62v7FZQu5",
        "colab": {
          "base_uri": "https://localhost:8080/",
          "height": 204
        },
        "outputId": "c0d75af1-0539-418d-f0c6-1ecaa47667a1"
      },
      "source": [
        "income.head()"
      ],
      "execution_count": 8,
      "outputs": [
        {
          "output_type": "execute_result",
          "data": {
            "text/html": [
              "<div>\n",
              "<style scoped>\n",
              "    .dataframe tbody tr th:only-of-type {\n",
              "        vertical-align: middle;\n",
              "    }\n",
              "\n",
              "    .dataframe tbody tr th {\n",
              "        vertical-align: top;\n",
              "    }\n",
              "\n",
              "    .dataframe thead th {\n",
              "        text-align: right;\n",
              "    }\n",
              "</style>\n",
              "<table border=\"1\" class=\"dataframe\">\n",
              "  <thead>\n",
              "    <tr style=\"text-align: right;\">\n",
              "      <th></th>\n",
              "      <th>geo</th>\n",
              "      <th>time</th>\n",
              "      <th>income_per_person_gdppercapita_ppp_inflation_adjusted</th>\n",
              "    </tr>\n",
              "  </thead>\n",
              "  <tbody>\n",
              "    <tr>\n",
              "      <th>0</th>\n",
              "      <td>afg</td>\n",
              "      <td>1800</td>\n",
              "      <td>603</td>\n",
              "    </tr>\n",
              "    <tr>\n",
              "      <th>1</th>\n",
              "      <td>afg</td>\n",
              "      <td>1801</td>\n",
              "      <td>603</td>\n",
              "    </tr>\n",
              "    <tr>\n",
              "      <th>2</th>\n",
              "      <td>afg</td>\n",
              "      <td>1802</td>\n",
              "      <td>603</td>\n",
              "    </tr>\n",
              "    <tr>\n",
              "      <th>3</th>\n",
              "      <td>afg</td>\n",
              "      <td>1803</td>\n",
              "      <td>603</td>\n",
              "    </tr>\n",
              "    <tr>\n",
              "      <th>4</th>\n",
              "      <td>afg</td>\n",
              "      <td>1804</td>\n",
              "      <td>603</td>\n",
              "    </tr>\n",
              "  </tbody>\n",
              "</table>\n",
              "</div>"
            ],
            "text/plain": [
              "   geo  time  income_per_person_gdppercapita_ppp_inflation_adjusted\n",
              "0  afg  1800                                                603    \n",
              "1  afg  1801                                                603    \n",
              "2  afg  1802                                                603    \n",
              "3  afg  1803                                                603    \n",
              "4  afg  1804                                                603    "
            ]
          },
          "metadata": {
            "tags": []
          },
          "execution_count": 8
        }
      ]
    },
    {
      "cell_type": "code",
      "metadata": {
        "colab_type": "code",
        "id": "2zIdtDESZYG5",
        "colab": {
          "base_uri": "https://localhost:8080/",
          "height": 204
        },
        "outputId": "21cd36b6-0f2b-4dcb-9b35-291d6a486b1d"
      },
      "source": [
        "lifespan.head()"
      ],
      "execution_count": 9,
      "outputs": [
        {
          "output_type": "execute_result",
          "data": {
            "text/html": [
              "<div>\n",
              "<style scoped>\n",
              "    .dataframe tbody tr th:only-of-type {\n",
              "        vertical-align: middle;\n",
              "    }\n",
              "\n",
              "    .dataframe tbody tr th {\n",
              "        vertical-align: top;\n",
              "    }\n",
              "\n",
              "    .dataframe thead th {\n",
              "        text-align: right;\n",
              "    }\n",
              "</style>\n",
              "<table border=\"1\" class=\"dataframe\">\n",
              "  <thead>\n",
              "    <tr style=\"text-align: right;\">\n",
              "      <th></th>\n",
              "      <th>geo</th>\n",
              "      <th>time</th>\n",
              "      <th>life_expectancy_years</th>\n",
              "    </tr>\n",
              "  </thead>\n",
              "  <tbody>\n",
              "    <tr>\n",
              "      <th>0</th>\n",
              "      <td>abw</td>\n",
              "      <td>1800</td>\n",
              "      <td>34.42</td>\n",
              "    </tr>\n",
              "    <tr>\n",
              "      <th>1</th>\n",
              "      <td>abw</td>\n",
              "      <td>1801</td>\n",
              "      <td>34.42</td>\n",
              "    </tr>\n",
              "    <tr>\n",
              "      <th>2</th>\n",
              "      <td>abw</td>\n",
              "      <td>1802</td>\n",
              "      <td>34.42</td>\n",
              "    </tr>\n",
              "    <tr>\n",
              "      <th>3</th>\n",
              "      <td>abw</td>\n",
              "      <td>1803</td>\n",
              "      <td>34.42</td>\n",
              "    </tr>\n",
              "    <tr>\n",
              "      <th>4</th>\n",
              "      <td>abw</td>\n",
              "      <td>1804</td>\n",
              "      <td>34.42</td>\n",
              "    </tr>\n",
              "  </tbody>\n",
              "</table>\n",
              "</div>"
            ],
            "text/plain": [
              "   geo  time  life_expectancy_years\n",
              "0  abw  1800                  34.42\n",
              "1  abw  1801                  34.42\n",
              "2  abw  1802                  34.42\n",
              "3  abw  1803                  34.42\n",
              "4  abw  1804                  34.42"
            ]
          },
          "metadata": {
            "tags": []
          },
          "execution_count": 9
        }
      ]
    },
    {
      "cell_type": "code",
      "metadata": {
        "colab_type": "code",
        "id": "58AXNVMKZj3T",
        "colab": {
          "base_uri": "https://localhost:8080/",
          "height": 204
        },
        "outputId": "1e5a7dc7-d1fc-4e78-cc4e-d2b23cfcf08f"
      },
      "source": [
        "population.head()"
      ],
      "execution_count": 10,
      "outputs": [
        {
          "output_type": "execute_result",
          "data": {
            "text/html": [
              "<div>\n",
              "<style scoped>\n",
              "    .dataframe tbody tr th:only-of-type {\n",
              "        vertical-align: middle;\n",
              "    }\n",
              "\n",
              "    .dataframe tbody tr th {\n",
              "        vertical-align: top;\n",
              "    }\n",
              "\n",
              "    .dataframe thead th {\n",
              "        text-align: right;\n",
              "    }\n",
              "</style>\n",
              "<table border=\"1\" class=\"dataframe\">\n",
              "  <thead>\n",
              "    <tr style=\"text-align: right;\">\n",
              "      <th></th>\n",
              "      <th>geo</th>\n",
              "      <th>time</th>\n",
              "      <th>population_total</th>\n",
              "    </tr>\n",
              "  </thead>\n",
              "  <tbody>\n",
              "    <tr>\n",
              "      <th>0</th>\n",
              "      <td>afg</td>\n",
              "      <td>1800</td>\n",
              "      <td>3280000</td>\n",
              "    </tr>\n",
              "    <tr>\n",
              "      <th>1</th>\n",
              "      <td>afg</td>\n",
              "      <td>1801</td>\n",
              "      <td>3280000</td>\n",
              "    </tr>\n",
              "    <tr>\n",
              "      <th>2</th>\n",
              "      <td>afg</td>\n",
              "      <td>1802</td>\n",
              "      <td>3280000</td>\n",
              "    </tr>\n",
              "    <tr>\n",
              "      <th>3</th>\n",
              "      <td>afg</td>\n",
              "      <td>1803</td>\n",
              "      <td>3280000</td>\n",
              "    </tr>\n",
              "    <tr>\n",
              "      <th>4</th>\n",
              "      <td>afg</td>\n",
              "      <td>1804</td>\n",
              "      <td>3280000</td>\n",
              "    </tr>\n",
              "  </tbody>\n",
              "</table>\n",
              "</div>"
            ],
            "text/plain": [
              "   geo  time  population_total\n",
              "0  afg  1800           3280000\n",
              "1  afg  1801           3280000\n",
              "2  afg  1802           3280000\n",
              "3  afg  1803           3280000\n",
              "4  afg  1804           3280000"
            ]
          },
          "metadata": {
            "tags": []
          },
          "execution_count": 10
        }
      ]
    },
    {
      "cell_type": "code",
      "metadata": {
        "colab_type": "code",
        "id": "0ywWDL2MZqlF",
        "colab": {
          "base_uri": "https://localhost:8080/",
          "height": 275
        },
        "outputId": "c28169ca-dd74-41fe-f0ab-0382a00a850e"
      },
      "source": [
        "pd.options.display.max_columns = 500\n",
        "entities.head()"
      ],
      "execution_count": 11,
      "outputs": [
        {
          "output_type": "execute_result",
          "data": {
            "text/html": [
              "<div>\n",
              "<style scoped>\n",
              "    .dataframe tbody tr th:only-of-type {\n",
              "        vertical-align: middle;\n",
              "    }\n",
              "\n",
              "    .dataframe tbody tr th {\n",
              "        vertical-align: top;\n",
              "    }\n",
              "\n",
              "    .dataframe thead th {\n",
              "        text-align: right;\n",
              "    }\n",
              "</style>\n",
              "<table border=\"1\" class=\"dataframe\">\n",
              "  <thead>\n",
              "    <tr style=\"text-align: right;\">\n",
              "      <th></th>\n",
              "      <th>country</th>\n",
              "      <th>alt_5</th>\n",
              "      <th>alternative_1</th>\n",
              "      <th>alternative_2</th>\n",
              "      <th>alternative_3</th>\n",
              "      <th>alternative_4_cdiac</th>\n",
              "      <th>arb1</th>\n",
              "      <th>arb2</th>\n",
              "      <th>arb3</th>\n",
              "      <th>arb4</th>\n",
              "      <th>arb5</th>\n",
              "      <th>arb6</th>\n",
              "      <th>g77_and_oecd_countries</th>\n",
              "      <th>gapminder_list</th>\n",
              "      <th>god_id</th>\n",
              "      <th>gwid</th>\n",
              "      <th>income_groups</th>\n",
              "      <th>is--country</th>\n",
              "      <th>iso3166_1_alpha2</th>\n",
              "      <th>iso3166_1_alpha3</th>\n",
              "      <th>iso3166_1_numeric</th>\n",
              "      <th>iso3166_2</th>\n",
              "      <th>landlocked</th>\n",
              "      <th>latitude</th>\n",
              "      <th>longitude</th>\n",
              "      <th>main_religion_2008</th>\n",
              "      <th>name</th>\n",
              "      <th>pandg</th>\n",
              "      <th>un_state</th>\n",
              "      <th>unicode_region_subtag</th>\n",
              "      <th>upper_case_name</th>\n",
              "      <th>world_4region</th>\n",
              "      <th>world_6region</th>\n",
              "    </tr>\n",
              "  </thead>\n",
              "  <tbody>\n",
              "    <tr>\n",
              "      <th>0</th>\n",
              "      <td>abkh</td>\n",
              "      <td>NaN</td>\n",
              "      <td>NaN</td>\n",
              "      <td>NaN</td>\n",
              "      <td>NaN</td>\n",
              "      <td>NaN</td>\n",
              "      <td>NaN</td>\n",
              "      <td>NaN</td>\n",
              "      <td>NaN</td>\n",
              "      <td>NaN</td>\n",
              "      <td>NaN</td>\n",
              "      <td>NaN</td>\n",
              "      <td>others</td>\n",
              "      <td>Abkhazia</td>\n",
              "      <td>GE-AB</td>\n",
              "      <td>i0</td>\n",
              "      <td>NaN</td>\n",
              "      <td>True</td>\n",
              "      <td>NaN</td>\n",
              "      <td>NaN</td>\n",
              "      <td>NaN</td>\n",
              "      <td>NaN</td>\n",
              "      <td>NaN</td>\n",
              "      <td>NaN</td>\n",
              "      <td>NaN</td>\n",
              "      <td>NaN</td>\n",
              "      <td>Abkhazia</td>\n",
              "      <td>NaN</td>\n",
              "      <td>False</td>\n",
              "      <td>NaN</td>\n",
              "      <td>NaN</td>\n",
              "      <td>europe</td>\n",
              "      <td>europe_central_asia</td>\n",
              "    </tr>\n",
              "    <tr>\n",
              "      <th>1</th>\n",
              "      <td>abw</td>\n",
              "      <td>NaN</td>\n",
              "      <td>NaN</td>\n",
              "      <td>NaN</td>\n",
              "      <td>NaN</td>\n",
              "      <td>Aruba</td>\n",
              "      <td>NaN</td>\n",
              "      <td>NaN</td>\n",
              "      <td>NaN</td>\n",
              "      <td>NaN</td>\n",
              "      <td>NaN</td>\n",
              "      <td>NaN</td>\n",
              "      <td>others</td>\n",
              "      <td>Aruba</td>\n",
              "      <td>AW</td>\n",
              "      <td>i12</td>\n",
              "      <td>high_income</td>\n",
              "      <td>True</td>\n",
              "      <td>AW</td>\n",
              "      <td>ABW</td>\n",
              "      <td>533.0</td>\n",
              "      <td>NaN</td>\n",
              "      <td>coastline</td>\n",
              "      <td>12.50000</td>\n",
              "      <td>-69.96667</td>\n",
              "      <td>christian</td>\n",
              "      <td>Aruba</td>\n",
              "      <td>NaN</td>\n",
              "      <td>False</td>\n",
              "      <td>AW</td>\n",
              "      <td>ARUBA</td>\n",
              "      <td>americas</td>\n",
              "      <td>america</td>\n",
              "    </tr>\n",
              "    <tr>\n",
              "      <th>2</th>\n",
              "      <td>afg</td>\n",
              "      <td>NaN</td>\n",
              "      <td>Islamic Republic of Afghanistan</td>\n",
              "      <td>NaN</td>\n",
              "      <td>NaN</td>\n",
              "      <td>Afghanistan</td>\n",
              "      <td>NaN</td>\n",
              "      <td>NaN</td>\n",
              "      <td>NaN</td>\n",
              "      <td>NaN</td>\n",
              "      <td>NaN</td>\n",
              "      <td>NaN</td>\n",
              "      <td>g77</td>\n",
              "      <td>Afghanistan</td>\n",
              "      <td>AF</td>\n",
              "      <td>i1</td>\n",
              "      <td>low_income</td>\n",
              "      <td>True</td>\n",
              "      <td>AF</td>\n",
              "      <td>AFG</td>\n",
              "      <td>4.0</td>\n",
              "      <td>NaN</td>\n",
              "      <td>landlocked</td>\n",
              "      <td>33.00000</td>\n",
              "      <td>66.00000</td>\n",
              "      <td>muslim</td>\n",
              "      <td>Afghanistan</td>\n",
              "      <td>AFGHANISTAN</td>\n",
              "      <td>True</td>\n",
              "      <td>AF</td>\n",
              "      <td>AFGHANISTAN</td>\n",
              "      <td>asia</td>\n",
              "      <td>south_asia</td>\n",
              "    </tr>\n",
              "    <tr>\n",
              "      <th>3</th>\n",
              "      <td>ago</td>\n",
              "      <td>NaN</td>\n",
              "      <td>NaN</td>\n",
              "      <td>NaN</td>\n",
              "      <td>NaN</td>\n",
              "      <td>Angola</td>\n",
              "      <td>NaN</td>\n",
              "      <td>NaN</td>\n",
              "      <td>NaN</td>\n",
              "      <td>NaN</td>\n",
              "      <td>NaN</td>\n",
              "      <td>NaN</td>\n",
              "      <td>g77</td>\n",
              "      <td>Angola</td>\n",
              "      <td>AO</td>\n",
              "      <td>i7</td>\n",
              "      <td>upper_middle_income</td>\n",
              "      <td>True</td>\n",
              "      <td>AO</td>\n",
              "      <td>AGO</td>\n",
              "      <td>24.0</td>\n",
              "      <td>NaN</td>\n",
              "      <td>coastline</td>\n",
              "      <td>-12.50000</td>\n",
              "      <td>18.50000</td>\n",
              "      <td>christian</td>\n",
              "      <td>Angola</td>\n",
              "      <td>ANGOLA</td>\n",
              "      <td>True</td>\n",
              "      <td>AO</td>\n",
              "      <td>ANGOLA</td>\n",
              "      <td>africa</td>\n",
              "      <td>sub_saharan_africa</td>\n",
              "    </tr>\n",
              "    <tr>\n",
              "      <th>4</th>\n",
              "      <td>aia</td>\n",
              "      <td>NaN</td>\n",
              "      <td>NaN</td>\n",
              "      <td>NaN</td>\n",
              "      <td>NaN</td>\n",
              "      <td>NaN</td>\n",
              "      <td>NaN</td>\n",
              "      <td>NaN</td>\n",
              "      <td>NaN</td>\n",
              "      <td>NaN</td>\n",
              "      <td>NaN</td>\n",
              "      <td>NaN</td>\n",
              "      <td>others</td>\n",
              "      <td>Anguilla</td>\n",
              "      <td>AI</td>\n",
              "      <td>i8</td>\n",
              "      <td>NaN</td>\n",
              "      <td>True</td>\n",
              "      <td>AI</td>\n",
              "      <td>AIA</td>\n",
              "      <td>660.0</td>\n",
              "      <td>NaN</td>\n",
              "      <td>coastline</td>\n",
              "      <td>18.21667</td>\n",
              "      <td>-63.05000</td>\n",
              "      <td>christian</td>\n",
              "      <td>Anguilla</td>\n",
              "      <td>NaN</td>\n",
              "      <td>False</td>\n",
              "      <td>AI</td>\n",
              "      <td>ANGUILLA</td>\n",
              "      <td>americas</td>\n",
              "      <td>america</td>\n",
              "    </tr>\n",
              "  </tbody>\n",
              "</table>\n",
              "</div>"
            ],
            "text/plain": [
              "  country alt_5                    alternative_1 alternative_2 alternative_3  \\\n",
              "0    abkh   NaN                              NaN           NaN           NaN   \n",
              "1     abw   NaN                              NaN           NaN           NaN   \n",
              "2     afg   NaN  Islamic Republic of Afghanistan           NaN           NaN   \n",
              "3     ago   NaN                              NaN           NaN           NaN   \n",
              "4     aia   NaN                              NaN           NaN           NaN   \n",
              "\n",
              "  alternative_4_cdiac arb1 arb2 arb3 arb4 arb5 arb6 g77_and_oecd_countries  \\\n",
              "0                 NaN  NaN  NaN  NaN  NaN  NaN  NaN                 others   \n",
              "1               Aruba  NaN  NaN  NaN  NaN  NaN  NaN                 others   \n",
              "2         Afghanistan  NaN  NaN  NaN  NaN  NaN  NaN                    g77   \n",
              "3              Angola  NaN  NaN  NaN  NaN  NaN  NaN                    g77   \n",
              "4                 NaN  NaN  NaN  NaN  NaN  NaN  NaN                 others   \n",
              "\n",
              "  gapminder_list god_id gwid        income_groups  is--country  \\\n",
              "0       Abkhazia  GE-AB   i0                  NaN         True   \n",
              "1          Aruba     AW  i12          high_income         True   \n",
              "2    Afghanistan     AF   i1           low_income         True   \n",
              "3         Angola     AO   i7  upper_middle_income         True   \n",
              "4       Anguilla     AI   i8                  NaN         True   \n",
              "\n",
              "  iso3166_1_alpha2 iso3166_1_alpha3  iso3166_1_numeric iso3166_2  landlocked  \\\n",
              "0              NaN              NaN                NaN       NaN         NaN   \n",
              "1               AW              ABW              533.0       NaN   coastline   \n",
              "2               AF              AFG                4.0       NaN  landlocked   \n",
              "3               AO              AGO               24.0       NaN   coastline   \n",
              "4               AI              AIA              660.0       NaN   coastline   \n",
              "\n",
              "   latitude  longitude main_religion_2008         name        pandg  un_state  \\\n",
              "0       NaN        NaN                NaN     Abkhazia          NaN     False   \n",
              "1  12.50000  -69.96667          christian        Aruba          NaN     False   \n",
              "2  33.00000   66.00000             muslim  Afghanistan  AFGHANISTAN      True   \n",
              "3 -12.50000   18.50000          christian       Angola       ANGOLA      True   \n",
              "4  18.21667  -63.05000          christian     Anguilla          NaN     False   \n",
              "\n",
              "  unicode_region_subtag upper_case_name world_4region        world_6region  \n",
              "0                   NaN             NaN        europe  europe_central_asia  \n",
              "1                    AW           ARUBA      americas              america  \n",
              "2                    AF     AFGHANISTAN          asia           south_asia  \n",
              "3                    AO          ANGOLA        africa   sub_saharan_africa  \n",
              "4                    AI        ANGUILLA      americas              america  "
            ]
          },
          "metadata": {
            "tags": []
          },
          "execution_count": 11
        }
      ]
    },
    {
      "cell_type": "code",
      "metadata": {
        "colab_type": "code",
        "id": "mk_R0eFZZ0G5",
        "colab": {
          "base_uri": "https://localhost:8080/",
          "height": 564
        },
        "outputId": "cbdbcb23-e9e3-445c-ffd8-40b1e9c2372f"
      },
      "source": [
        "concepts.head()"
      ],
      "execution_count": 12,
      "outputs": [
        {
          "output_type": "execute_result",
          "data": {
            "text/html": [
              "<div>\n",
              "<style scoped>\n",
              "    .dataframe tbody tr th:only-of-type {\n",
              "        vertical-align: middle;\n",
              "    }\n",
              "\n",
              "    .dataframe tbody tr th {\n",
              "        vertical-align: top;\n",
              "    }\n",
              "\n",
              "    .dataframe thead th {\n",
              "        text-align: right;\n",
              "    }\n",
              "</style>\n",
              "<table border=\"1\" class=\"dataframe\">\n",
              "  <thead>\n",
              "    <tr style=\"text-align: right;\">\n",
              "      <th></th>\n",
              "      <th>concept</th>\n",
              "      <th>color</th>\n",
              "      <th>concept_type</th>\n",
              "      <th>description</th>\n",
              "      <th>description_long</th>\n",
              "      <th>domain</th>\n",
              "      <th>drill_up</th>\n",
              "      <th>indicator_url</th>\n",
              "      <th>name</th>\n",
              "      <th>name_catalog</th>\n",
              "      <th>name_short</th>\n",
              "      <th>scales</th>\n",
              "      <th>source</th>\n",
              "      <th>source_long</th>\n",
              "      <th>source_url</th>\n",
              "      <th>tags</th>\n",
              "    </tr>\n",
              "  </thead>\n",
              "  <tbody>\n",
              "    <tr>\n",
              "      <th>0</th>\n",
              "      <td>adults_with_hiv_percent_age_15_49</td>\n",
              "      <td>NaN</td>\n",
              "      <td>measure</td>\n",
              "      <td>The estimated percentage of adults aged 15 to ...</td>\n",
              "      <td>NaN</td>\n",
              "      <td>NaN</td>\n",
              "      <td>NaN</td>\n",
              "      <td>NaN</td>\n",
              "      <td>Adults with HIV (%, age 15-49)</td>\n",
              "      <td>Adults with HIV (%, age 15-49)</td>\n",
              "      <td>Adults with HIV</td>\n",
              "      <td>[\"log\", \"linear\"]</td>\n",
              "      <td>NaN</td>\n",
              "      <td>NaN</td>\n",
              "      <td>https://www.gapminder.org/gapminder-world/docu...</td>\n",
              "      <td>hiv</td>\n",
              "    </tr>\n",
              "    <tr>\n",
              "      <th>1</th>\n",
              "      <td>age_at_1st_marriage_women</td>\n",
              "      <td>NaN</td>\n",
              "      <td>measure</td>\n",
              "      <td>The mean age, in years, of first marriage for ...</td>\n",
              "      <td>NaN</td>\n",
              "      <td>NaN</td>\n",
              "      <td>NaN</td>\n",
              "      <td>NaN</td>\n",
              "      <td>Age at 1st marriage (women)</td>\n",
              "      <td>Age at 1st marriage (women)</td>\n",
              "      <td>Age at 1st marriage</td>\n",
              "      <td>[\"linear\", \"log\"]</td>\n",
              "      <td>NaN</td>\n",
              "      <td>NaN</td>\n",
              "      <td>https://www.gapminder.org/data/documentation/g...</td>\n",
              "      <td>population</td>\n",
              "    </tr>\n",
              "    <tr>\n",
              "      <th>2</th>\n",
              "      <td>aged_15_24_employment_rate_percent</td>\n",
              "      <td>NaN</td>\n",
              "      <td>measure</td>\n",
              "      <td>Percentage of total population, age group 15-2...</td>\n",
              "      <td>NaN</td>\n",
              "      <td>NaN</td>\n",
              "      <td>NaN</td>\n",
              "      <td>NaN</td>\n",
              "      <td>Aged 15-24 employment rate (%)</td>\n",
              "      <td>Aged 15-24</td>\n",
              "      <td>Employment rate (%)</td>\n",
              "      <td>[\"linear\", \"log\"]</td>\n",
              "      <td>NaN</td>\n",
              "      <td>NaN</td>\n",
              "      <td>https://www.ilo.org/ilostat/</td>\n",
              "      <td>employment_rate</td>\n",
              "    </tr>\n",
              "    <tr>\n",
              "      <th>3</th>\n",
              "      <td>aged_15_24_unemployment_rate_percent</td>\n",
              "      <td>NaN</td>\n",
              "      <td>measure</td>\n",
              "      <td>Percentage of total population, age group 15-2...</td>\n",
              "      <td>NaN</td>\n",
              "      <td>NaN</td>\n",
              "      <td>NaN</td>\n",
              "      <td>NaN</td>\n",
              "      <td>Aged 15-24 unemployment rate (%)</td>\n",
              "      <td>Aged 15-24</td>\n",
              "      <td>Unemployment rate (%)</td>\n",
              "      <td>[\"linear\", \"log\"]</td>\n",
              "      <td>NaN</td>\n",
              "      <td>NaN</td>\n",
              "      <td>https://www.ilo.org/ilostat/</td>\n",
              "      <td>unemployment</td>\n",
              "    </tr>\n",
              "    <tr>\n",
              "      <th>4</th>\n",
              "      <td>aged_15_64_labour_force_participation_rate_per...</td>\n",
              "      <td>NaN</td>\n",
              "      <td>measure</td>\n",
              "      <td>For age group 15-64, percentage of all labour ...</td>\n",
              "      <td>NaN</td>\n",
              "      <td>NaN</td>\n",
              "      <td>NaN</td>\n",
              "      <td>NaN</td>\n",
              "      <td>Aged 15-64 labour force participation rate (%)</td>\n",
              "      <td>Aged 15-64</td>\n",
              "      <td>Labour force participation rate (%)</td>\n",
              "      <td>[\"linear\", \"log\"]</td>\n",
              "      <td>NaN</td>\n",
              "      <td>NaN</td>\n",
              "      <td>https://www.ilo.org/ilostat/</td>\n",
              "      <td>labour_force_participation</td>\n",
              "    </tr>\n",
              "  </tbody>\n",
              "</table>\n",
              "</div>"
            ],
            "text/plain": [
              "                                             concept color concept_type  \\\n",
              "0                  adults_with_hiv_percent_age_15_49   NaN      measure   \n",
              "1                          age_at_1st_marriage_women   NaN      measure   \n",
              "2                 aged_15_24_employment_rate_percent   NaN      measure   \n",
              "3               aged_15_24_unemployment_rate_percent   NaN      measure   \n",
              "4  aged_15_64_labour_force_participation_rate_per...   NaN      measure   \n",
              "\n",
              "                                         description description_long domain  \\\n",
              "0  The estimated percentage of adults aged 15 to ...              NaN    NaN   \n",
              "1  The mean age, in years, of first marriage for ...              NaN    NaN   \n",
              "2  Percentage of total population, age group 15-2...              NaN    NaN   \n",
              "3  Percentage of total population, age group 15-2...              NaN    NaN   \n",
              "4  For age group 15-64, percentage of all labour ...              NaN    NaN   \n",
              "\n",
              "  drill_up indicator_url                                            name  \\\n",
              "0      NaN           NaN                  Adults with HIV (%, age 15-49)   \n",
              "1      NaN           NaN                     Age at 1st marriage (women)   \n",
              "2      NaN           NaN                  Aged 15-24 employment rate (%)   \n",
              "3      NaN           NaN                Aged 15-24 unemployment rate (%)   \n",
              "4      NaN           NaN  Aged 15-64 labour force participation rate (%)   \n",
              "\n",
              "                     name_catalog                           name_short  \\\n",
              "0  Adults with HIV (%, age 15-49)                      Adults with HIV   \n",
              "1     Age at 1st marriage (women)                  Age at 1st marriage   \n",
              "2                      Aged 15-24                  Employment rate (%)   \n",
              "3                      Aged 15-24                Unemployment rate (%)   \n",
              "4                      Aged 15-64  Labour force participation rate (%)   \n",
              "\n",
              "              scales source source_long  \\\n",
              "0  [\"log\", \"linear\"]    NaN         NaN   \n",
              "1  [\"linear\", \"log\"]    NaN         NaN   \n",
              "2  [\"linear\", \"log\"]    NaN         NaN   \n",
              "3  [\"linear\", \"log\"]    NaN         NaN   \n",
              "4  [\"linear\", \"log\"]    NaN         NaN   \n",
              "\n",
              "                                          source_url  \\\n",
              "0  https://www.gapminder.org/gapminder-world/docu...   \n",
              "1  https://www.gapminder.org/data/documentation/g...   \n",
              "2                       https://www.ilo.org/ilostat/   \n",
              "3                       https://www.ilo.org/ilostat/   \n",
              "4                       https://www.ilo.org/ilostat/   \n",
              "\n",
              "                         tags  \n",
              "0                         hiv  \n",
              "1                  population  \n",
              "2             employment_rate  \n",
              "3                unemployment  \n",
              "4  labour_force_participation  "
            ]
          },
          "metadata": {
            "tags": []
          },
          "execution_count": 12
        }
      ]
    },
    {
      "cell_type": "markdown",
      "metadata": {
        "colab_type": "text",
        "id": "6HYUytvLT8Kf"
      },
      "source": [
        "## Merge data"
      ]
    },
    {
      "cell_type": "markdown",
      "metadata": {
        "colab_type": "text",
        "id": "dhALZDsh9n9L"
      },
      "source": [
        "https://github.com/pandas-dev/pandas/blob/master/doc/cheatsheet/Pandas_Cheat_Sheet.pdf"
      ]
    },
    {
      "cell_type": "code",
      "metadata": {
        "colab_type": "code",
        "id": "A-tnI-hK6yDG",
        "colab": {
          "base_uri": "https://localhost:8080/",
          "height": 34
        },
        "outputId": "fd4decd1-a0c3-4b82-d064-97aa31ece8a4"
      },
      "source": [
        "# merge income and lifespan csv files\n",
        "\n",
        "df = pd.merge(income, lifespan)\n",
        "df.shape"
      ],
      "execution_count": 13,
      "outputs": [
        {
          "output_type": "execute_result",
          "data": {
            "text/plain": [
              "(40437, 4)"
            ]
          },
          "metadata": {
            "tags": []
          },
          "execution_count": 13
        }
      ]
    },
    {
      "cell_type": "code",
      "metadata": {
        "id": "ZT1w9jBx9hXw",
        "colab_type": "code",
        "colab": {
          "base_uri": "https://localhost:8080/",
          "height": 34
        },
        "outputId": "90c2d977-a56a-46df-8885-5c85ed76ccba"
      },
      "source": [
        "df = pd.merge(df, population)\n",
        "df.shape"
      ],
      "execution_count": 14,
      "outputs": [
        {
          "output_type": "execute_result",
          "data": {
            "text/plain": [
              "(40437, 5)"
            ]
          },
          "metadata": {
            "tags": []
          },
          "execution_count": 14
        }
      ]
    },
    {
      "cell_type": "code",
      "metadata": {
        "id": "lij3M8Oj9vIm",
        "colab_type": "code",
        "colab": {
          "base_uri": "https://localhost:8080/",
          "height": 221
        },
        "outputId": "f8b762d5-86ff-4319-a8e0-b5fabefb90e1"
      },
      "source": [
        "entities_variables = ['country', 'name', 'world_6region']\n",
        "\n",
        "entities = entities[entities_variables]\n",
        "\n",
        "print(entities.shape)\n",
        "\n",
        "entities.head()"
      ],
      "execution_count": 15,
      "outputs": [
        {
          "output_type": "stream",
          "text": [
            "(273, 3)\n"
          ],
          "name": "stdout"
        },
        {
          "output_type": "execute_result",
          "data": {
            "text/html": [
              "<div>\n",
              "<style scoped>\n",
              "    .dataframe tbody tr th:only-of-type {\n",
              "        vertical-align: middle;\n",
              "    }\n",
              "\n",
              "    .dataframe tbody tr th {\n",
              "        vertical-align: top;\n",
              "    }\n",
              "\n",
              "    .dataframe thead th {\n",
              "        text-align: right;\n",
              "    }\n",
              "</style>\n",
              "<table border=\"1\" class=\"dataframe\">\n",
              "  <thead>\n",
              "    <tr style=\"text-align: right;\">\n",
              "      <th></th>\n",
              "      <th>country</th>\n",
              "      <th>name</th>\n",
              "      <th>world_6region</th>\n",
              "    </tr>\n",
              "  </thead>\n",
              "  <tbody>\n",
              "    <tr>\n",
              "      <th>0</th>\n",
              "      <td>abkh</td>\n",
              "      <td>Abkhazia</td>\n",
              "      <td>europe_central_asia</td>\n",
              "    </tr>\n",
              "    <tr>\n",
              "      <th>1</th>\n",
              "      <td>abw</td>\n",
              "      <td>Aruba</td>\n",
              "      <td>america</td>\n",
              "    </tr>\n",
              "    <tr>\n",
              "      <th>2</th>\n",
              "      <td>afg</td>\n",
              "      <td>Afghanistan</td>\n",
              "      <td>south_asia</td>\n",
              "    </tr>\n",
              "    <tr>\n",
              "      <th>3</th>\n",
              "      <td>ago</td>\n",
              "      <td>Angola</td>\n",
              "      <td>sub_saharan_africa</td>\n",
              "    </tr>\n",
              "    <tr>\n",
              "      <th>4</th>\n",
              "      <td>aia</td>\n",
              "      <td>Anguilla</td>\n",
              "      <td>america</td>\n",
              "    </tr>\n",
              "  </tbody>\n",
              "</table>\n",
              "</div>"
            ],
            "text/plain": [
              "  country         name        world_6region\n",
              "0    abkh     Abkhazia  europe_central_asia\n",
              "1     abw        Aruba              america\n",
              "2     afg  Afghanistan           south_asia\n",
              "3     ago       Angola   sub_saharan_africa\n",
              "4     aia     Anguilla              america"
            ]
          },
          "metadata": {
            "tags": []
          },
          "execution_count": 15
        }
      ]
    },
    {
      "cell_type": "code",
      "metadata": {
        "id": "kjsmsKe598nE",
        "colab_type": "code",
        "colab": {
          "base_uri": "https://localhost:8080/",
          "height": 136
        },
        "outputId": "1181fc2d-2302-4c72-c603-3d17b9cb48d0"
      },
      "source": [
        "entities['world_6region'].value_counts()"
      ],
      "execution_count": 16,
      "outputs": [
        {
          "output_type": "execute_result",
          "data": {
            "text/plain": [
              "europe_central_asia         77\n",
              "sub_saharan_africa          53\n",
              "america                     53\n",
              "east_asia_pacific           46\n",
              "middle_east_north_africa    23\n",
              "south_asia                   8\n",
              "Name: world_6region, dtype: int64"
            ]
          },
          "metadata": {
            "tags": []
          },
          "execution_count": 16
        }
      ]
    },
    {
      "cell_type": "code",
      "metadata": {
        "id": "N3mU98PN-6d_",
        "colab_type": "code",
        "colab": {
          "base_uri": "https://localhost:8080/",
          "height": 221
        },
        "outputId": "31d0485c-ed29-4a08-f781-417160c20787"
      },
      "source": [
        "merged = pd.merge(df, entities, left_on='geo', right_on='country')\n",
        "print(merged.shape)\n",
        "df.head()"
      ],
      "execution_count": 17,
      "outputs": [
        {
          "output_type": "stream",
          "text": [
            "(40437, 8)\n"
          ],
          "name": "stdout"
        },
        {
          "output_type": "execute_result",
          "data": {
            "text/html": [
              "<div>\n",
              "<style scoped>\n",
              "    .dataframe tbody tr th:only-of-type {\n",
              "        vertical-align: middle;\n",
              "    }\n",
              "\n",
              "    .dataframe tbody tr th {\n",
              "        vertical-align: top;\n",
              "    }\n",
              "\n",
              "    .dataframe thead th {\n",
              "        text-align: right;\n",
              "    }\n",
              "</style>\n",
              "<table border=\"1\" class=\"dataframe\">\n",
              "  <thead>\n",
              "    <tr style=\"text-align: right;\">\n",
              "      <th></th>\n",
              "      <th>geo</th>\n",
              "      <th>time</th>\n",
              "      <th>income_per_person_gdppercapita_ppp_inflation_adjusted</th>\n",
              "      <th>life_expectancy_years</th>\n",
              "      <th>population_total</th>\n",
              "    </tr>\n",
              "  </thead>\n",
              "  <tbody>\n",
              "    <tr>\n",
              "      <th>0</th>\n",
              "      <td>afg</td>\n",
              "      <td>1800</td>\n",
              "      <td>603</td>\n",
              "      <td>28.21</td>\n",
              "      <td>3280000</td>\n",
              "    </tr>\n",
              "    <tr>\n",
              "      <th>1</th>\n",
              "      <td>afg</td>\n",
              "      <td>1801</td>\n",
              "      <td>603</td>\n",
              "      <td>28.20</td>\n",
              "      <td>3280000</td>\n",
              "    </tr>\n",
              "    <tr>\n",
              "      <th>2</th>\n",
              "      <td>afg</td>\n",
              "      <td>1802</td>\n",
              "      <td>603</td>\n",
              "      <td>28.19</td>\n",
              "      <td>3280000</td>\n",
              "    </tr>\n",
              "    <tr>\n",
              "      <th>3</th>\n",
              "      <td>afg</td>\n",
              "      <td>1803</td>\n",
              "      <td>603</td>\n",
              "      <td>28.18</td>\n",
              "      <td>3280000</td>\n",
              "    </tr>\n",
              "    <tr>\n",
              "      <th>4</th>\n",
              "      <td>afg</td>\n",
              "      <td>1804</td>\n",
              "      <td>603</td>\n",
              "      <td>28.17</td>\n",
              "      <td>3280000</td>\n",
              "    </tr>\n",
              "  </tbody>\n",
              "</table>\n",
              "</div>"
            ],
            "text/plain": [
              "   geo  time  income_per_person_gdppercapita_ppp_inflation_adjusted  \\\n",
              "0  afg  1800                                                603       \n",
              "1  afg  1801                                                603       \n",
              "2  afg  1802                                                603       \n",
              "3  afg  1803                                                603       \n",
              "4  afg  1804                                                603       \n",
              "\n",
              "   life_expectancy_years  population_total  \n",
              "0                  28.21           3280000  \n",
              "1                  28.20           3280000  \n",
              "2                  28.19           3280000  \n",
              "3                  28.18           3280000  \n",
              "4                  28.17           3280000  "
            ]
          },
          "metadata": {
            "tags": []
          },
          "execution_count": 17
        }
      ]
    },
    {
      "cell_type": "code",
      "metadata": {
        "id": "SkjJdZLMCKmz",
        "colab_type": "code",
        "colab": {}
      },
      "source": [
        "merged = merged.drop(['geo', 'country'], axis='columns')"
      ],
      "execution_count": 0,
      "outputs": []
    },
    {
      "cell_type": "code",
      "metadata": {
        "id": "FUpy1TboCWaG",
        "colab_type": "code",
        "colab": {
          "base_uri": "https://localhost:8080/",
          "height": 204
        },
        "outputId": "b7aa9620-1df3-4cfc-8072-f19addbbc644"
      },
      "source": [
        "merged.head()"
      ],
      "execution_count": 19,
      "outputs": [
        {
          "output_type": "execute_result",
          "data": {
            "text/html": [
              "<div>\n",
              "<style scoped>\n",
              "    .dataframe tbody tr th:only-of-type {\n",
              "        vertical-align: middle;\n",
              "    }\n",
              "\n",
              "    .dataframe tbody tr th {\n",
              "        vertical-align: top;\n",
              "    }\n",
              "\n",
              "    .dataframe thead th {\n",
              "        text-align: right;\n",
              "    }\n",
              "</style>\n",
              "<table border=\"1\" class=\"dataframe\">\n",
              "  <thead>\n",
              "    <tr style=\"text-align: right;\">\n",
              "      <th></th>\n",
              "      <th>time</th>\n",
              "      <th>income_per_person_gdppercapita_ppp_inflation_adjusted</th>\n",
              "      <th>life_expectancy_years</th>\n",
              "      <th>population_total</th>\n",
              "      <th>name</th>\n",
              "      <th>world_6region</th>\n",
              "    </tr>\n",
              "  </thead>\n",
              "  <tbody>\n",
              "    <tr>\n",
              "      <th>0</th>\n",
              "      <td>1800</td>\n",
              "      <td>603</td>\n",
              "      <td>28.21</td>\n",
              "      <td>3280000</td>\n",
              "      <td>Afghanistan</td>\n",
              "      <td>south_asia</td>\n",
              "    </tr>\n",
              "    <tr>\n",
              "      <th>1</th>\n",
              "      <td>1801</td>\n",
              "      <td>603</td>\n",
              "      <td>28.20</td>\n",
              "      <td>3280000</td>\n",
              "      <td>Afghanistan</td>\n",
              "      <td>south_asia</td>\n",
              "    </tr>\n",
              "    <tr>\n",
              "      <th>2</th>\n",
              "      <td>1802</td>\n",
              "      <td>603</td>\n",
              "      <td>28.19</td>\n",
              "      <td>3280000</td>\n",
              "      <td>Afghanistan</td>\n",
              "      <td>south_asia</td>\n",
              "    </tr>\n",
              "    <tr>\n",
              "      <th>3</th>\n",
              "      <td>1803</td>\n",
              "      <td>603</td>\n",
              "      <td>28.18</td>\n",
              "      <td>3280000</td>\n",
              "      <td>Afghanistan</td>\n",
              "      <td>south_asia</td>\n",
              "    </tr>\n",
              "    <tr>\n",
              "      <th>4</th>\n",
              "      <td>1804</td>\n",
              "      <td>603</td>\n",
              "      <td>28.17</td>\n",
              "      <td>3280000</td>\n",
              "      <td>Afghanistan</td>\n",
              "      <td>south_asia</td>\n",
              "    </tr>\n",
              "  </tbody>\n",
              "</table>\n",
              "</div>"
            ],
            "text/plain": [
              "   time  income_per_person_gdppercapita_ppp_inflation_adjusted  \\\n",
              "0  1800                                                603       \n",
              "1  1801                                                603       \n",
              "2  1802                                                603       \n",
              "3  1803                                                603       \n",
              "4  1804                                                603       \n",
              "\n",
              "   life_expectancy_years  population_total         name world_6region  \n",
              "0                  28.21           3280000  Afghanistan    south_asia  \n",
              "1                  28.20           3280000  Afghanistan    south_asia  \n",
              "2                  28.19           3280000  Afghanistan    south_asia  \n",
              "3                  28.18           3280000  Afghanistan    south_asia  \n",
              "4                  28.17           3280000  Afghanistan    south_asia  "
            ]
          },
          "metadata": {
            "tags": []
          },
          "execution_count": 19
        }
      ]
    },
    {
      "cell_type": "code",
      "metadata": {
        "id": "_qnuIZDT-6fR",
        "colab_type": "code",
        "colab": {
          "base_uri": "https://localhost:8080/",
          "height": 204
        },
        "outputId": "578a698c-cc41-43fe-ad4a-98573a08d898"
      },
      "source": [
        "merged = merged.rename(columns = {\n",
        "    'time': 'year', \n",
        "    'income_per_person_gdppercapita_ppp_inflation_adjusted': 'income', \n",
        "    'life_expectancy_years': 'lifespan',\n",
        "    'population_total': 'population',\n",
        "    'name': 'country',\n",
        "    'world_6region': 'region'\n",
        "})\n",
        "\n",
        "merged.head()"
      ],
      "execution_count": 20,
      "outputs": [
        {
          "output_type": "execute_result",
          "data": {
            "text/html": [
              "<div>\n",
              "<style scoped>\n",
              "    .dataframe tbody tr th:only-of-type {\n",
              "        vertical-align: middle;\n",
              "    }\n",
              "\n",
              "    .dataframe tbody tr th {\n",
              "        vertical-align: top;\n",
              "    }\n",
              "\n",
              "    .dataframe thead th {\n",
              "        text-align: right;\n",
              "    }\n",
              "</style>\n",
              "<table border=\"1\" class=\"dataframe\">\n",
              "  <thead>\n",
              "    <tr style=\"text-align: right;\">\n",
              "      <th></th>\n",
              "      <th>year</th>\n",
              "      <th>income</th>\n",
              "      <th>lifespan</th>\n",
              "      <th>population</th>\n",
              "      <th>country</th>\n",
              "      <th>region</th>\n",
              "    </tr>\n",
              "  </thead>\n",
              "  <tbody>\n",
              "    <tr>\n",
              "      <th>0</th>\n",
              "      <td>1800</td>\n",
              "      <td>603</td>\n",
              "      <td>28.21</td>\n",
              "      <td>3280000</td>\n",
              "      <td>Afghanistan</td>\n",
              "      <td>south_asia</td>\n",
              "    </tr>\n",
              "    <tr>\n",
              "      <th>1</th>\n",
              "      <td>1801</td>\n",
              "      <td>603</td>\n",
              "      <td>28.20</td>\n",
              "      <td>3280000</td>\n",
              "      <td>Afghanistan</td>\n",
              "      <td>south_asia</td>\n",
              "    </tr>\n",
              "    <tr>\n",
              "      <th>2</th>\n",
              "      <td>1802</td>\n",
              "      <td>603</td>\n",
              "      <td>28.19</td>\n",
              "      <td>3280000</td>\n",
              "      <td>Afghanistan</td>\n",
              "      <td>south_asia</td>\n",
              "    </tr>\n",
              "    <tr>\n",
              "      <th>3</th>\n",
              "      <td>1803</td>\n",
              "      <td>603</td>\n",
              "      <td>28.18</td>\n",
              "      <td>3280000</td>\n",
              "      <td>Afghanistan</td>\n",
              "      <td>south_asia</td>\n",
              "    </tr>\n",
              "    <tr>\n",
              "      <th>4</th>\n",
              "      <td>1804</td>\n",
              "      <td>603</td>\n",
              "      <td>28.17</td>\n",
              "      <td>3280000</td>\n",
              "      <td>Afghanistan</td>\n",
              "      <td>south_asia</td>\n",
              "    </tr>\n",
              "  </tbody>\n",
              "</table>\n",
              "</div>"
            ],
            "text/plain": [
              "   year  income  lifespan  population      country      region\n",
              "0  1800     603     28.21     3280000  Afghanistan  south_asia\n",
              "1  1801     603     28.20     3280000  Afghanistan  south_asia\n",
              "2  1802     603     28.19     3280000  Afghanistan  south_asia\n",
              "3  1803     603     28.18     3280000  Afghanistan  south_asia\n",
              "4  1804     603     28.17     3280000  Afghanistan  south_asia"
            ]
          },
          "metadata": {
            "tags": []
          },
          "execution_count": 20
        }
      ]
    },
    {
      "cell_type": "code",
      "metadata": {
        "id": "hQuQg56cBqI_",
        "colab_type": "code",
        "colab": {
          "base_uri": "https://localhost:8080/",
          "height": 204
        },
        "outputId": "7cb2c030-c12b-4a38-d584-928896013c43"
      },
      "source": [
        "merged.head()"
      ],
      "execution_count": 21,
      "outputs": [
        {
          "output_type": "execute_result",
          "data": {
            "text/html": [
              "<div>\n",
              "<style scoped>\n",
              "    .dataframe tbody tr th:only-of-type {\n",
              "        vertical-align: middle;\n",
              "    }\n",
              "\n",
              "    .dataframe tbody tr th {\n",
              "        vertical-align: top;\n",
              "    }\n",
              "\n",
              "    .dataframe thead th {\n",
              "        text-align: right;\n",
              "    }\n",
              "</style>\n",
              "<table border=\"1\" class=\"dataframe\">\n",
              "  <thead>\n",
              "    <tr style=\"text-align: right;\">\n",
              "      <th></th>\n",
              "      <th>year</th>\n",
              "      <th>income</th>\n",
              "      <th>lifespan</th>\n",
              "      <th>population</th>\n",
              "      <th>country</th>\n",
              "      <th>region</th>\n",
              "    </tr>\n",
              "  </thead>\n",
              "  <tbody>\n",
              "    <tr>\n",
              "      <th>0</th>\n",
              "      <td>1800</td>\n",
              "      <td>603</td>\n",
              "      <td>28.21</td>\n",
              "      <td>3280000</td>\n",
              "      <td>Afghanistan</td>\n",
              "      <td>south_asia</td>\n",
              "    </tr>\n",
              "    <tr>\n",
              "      <th>1</th>\n",
              "      <td>1801</td>\n",
              "      <td>603</td>\n",
              "      <td>28.20</td>\n",
              "      <td>3280000</td>\n",
              "      <td>Afghanistan</td>\n",
              "      <td>south_asia</td>\n",
              "    </tr>\n",
              "    <tr>\n",
              "      <th>2</th>\n",
              "      <td>1802</td>\n",
              "      <td>603</td>\n",
              "      <td>28.19</td>\n",
              "      <td>3280000</td>\n",
              "      <td>Afghanistan</td>\n",
              "      <td>south_asia</td>\n",
              "    </tr>\n",
              "    <tr>\n",
              "      <th>3</th>\n",
              "      <td>1803</td>\n",
              "      <td>603</td>\n",
              "      <td>28.18</td>\n",
              "      <td>3280000</td>\n",
              "      <td>Afghanistan</td>\n",
              "      <td>south_asia</td>\n",
              "    </tr>\n",
              "    <tr>\n",
              "      <th>4</th>\n",
              "      <td>1804</td>\n",
              "      <td>603</td>\n",
              "      <td>28.17</td>\n",
              "      <td>3280000</td>\n",
              "      <td>Afghanistan</td>\n",
              "      <td>south_asia</td>\n",
              "    </tr>\n",
              "  </tbody>\n",
              "</table>\n",
              "</div>"
            ],
            "text/plain": [
              "   year  income  lifespan  population      country      region\n",
              "0  1800     603     28.21     3280000  Afghanistan  south_asia\n",
              "1  1801     603     28.20     3280000  Afghanistan  south_asia\n",
              "2  1802     603     28.19     3280000  Afghanistan  south_asia\n",
              "3  1803     603     28.18     3280000  Afghanistan  south_asia\n",
              "4  1804     603     28.17     3280000  Afghanistan  south_asia"
            ]
          },
          "metadata": {
            "tags": []
          },
          "execution_count": 21
        }
      ]
    },
    {
      "cell_type": "markdown",
      "metadata": {
        "colab_type": "text",
        "id": "4OdEr5IFVdF5"
      },
      "source": [
        "## Explore data"
      ]
    },
    {
      "cell_type": "code",
      "metadata": {
        "id": "EdXBcravCtrp",
        "colab_type": "code",
        "colab": {
          "base_uri": "https://localhost:8080/",
          "height": 136
        },
        "outputId": "922e6a2c-cdcf-4838-c797-fddddad8c4da"
      },
      "source": [
        "merged.dtypes"
      ],
      "execution_count": 22,
      "outputs": [
        {
          "output_type": "execute_result",
          "data": {
            "text/plain": [
              "year            int64\n",
              "income          int64\n",
              "lifespan      float64\n",
              "population      int64\n",
              "country        object\n",
              "region         object\n",
              "dtype: object"
            ]
          },
          "metadata": {
            "tags": []
          },
          "execution_count": 22
        }
      ]
    },
    {
      "cell_type": "code",
      "metadata": {
        "colab_type": "code",
        "id": "4IzXea0T64x4",
        "colab": {
          "base_uri": "https://localhost:8080/",
          "height": 297
        },
        "outputId": "3440b634-7d5f-4641-ccef-db37c242482d"
      },
      "source": [
        "merged.describe()"
      ],
      "execution_count": 23,
      "outputs": [
        {
          "output_type": "execute_result",
          "data": {
            "text/html": [
              "<div>\n",
              "<style scoped>\n",
              "    .dataframe tbody tr th:only-of-type {\n",
              "        vertical-align: middle;\n",
              "    }\n",
              "\n",
              "    .dataframe tbody tr th {\n",
              "        vertical-align: top;\n",
              "    }\n",
              "\n",
              "    .dataframe thead th {\n",
              "        text-align: right;\n",
              "    }\n",
              "</style>\n",
              "<table border=\"1\" class=\"dataframe\">\n",
              "  <thead>\n",
              "    <tr style=\"text-align: right;\">\n",
              "      <th></th>\n",
              "      <th>year</th>\n",
              "      <th>income</th>\n",
              "      <th>lifespan</th>\n",
              "      <th>population</th>\n",
              "    </tr>\n",
              "  </thead>\n",
              "  <tbody>\n",
              "    <tr>\n",
              "      <th>count</th>\n",
              "      <td>40437.000000</td>\n",
              "      <td>40437.000000</td>\n",
              "      <td>40437.000000</td>\n",
              "      <td>4.043700e+04</td>\n",
              "    </tr>\n",
              "    <tr>\n",
              "      <th>mean</th>\n",
              "      <td>1909.292900</td>\n",
              "      <td>4619.492717</td>\n",
              "      <td>43.132080</td>\n",
              "      <td>1.371204e+07</td>\n",
              "    </tr>\n",
              "    <tr>\n",
              "      <th>std</th>\n",
              "      <td>63.308682</td>\n",
              "      <td>10209.571045</td>\n",
              "      <td>16.313228</td>\n",
              "      <td>6.606335e+07</td>\n",
              "    </tr>\n",
              "    <tr>\n",
              "      <th>min</th>\n",
              "      <td>1800.000000</td>\n",
              "      <td>247.000000</td>\n",
              "      <td>1.000000</td>\n",
              "      <td>2.128000e+03</td>\n",
              "    </tr>\n",
              "    <tr>\n",
              "      <th>25%</th>\n",
              "      <td>1854.000000</td>\n",
              "      <td>876.000000</td>\n",
              "      <td>31.160000</td>\n",
              "      <td>4.113310e+05</td>\n",
              "    </tr>\n",
              "    <tr>\n",
              "      <th>50%</th>\n",
              "      <td>1909.000000</td>\n",
              "      <td>1442.000000</td>\n",
              "      <td>35.500000</td>\n",
              "      <td>1.985952e+06</td>\n",
              "    </tr>\n",
              "    <tr>\n",
              "      <th>75%</th>\n",
              "      <td>1964.000000</td>\n",
              "      <td>3488.000000</td>\n",
              "      <td>55.970000</td>\n",
              "      <td>6.499707e+06</td>\n",
              "    </tr>\n",
              "    <tr>\n",
              "      <th>max</th>\n",
              "      <td>2018.000000</td>\n",
              "      <td>177522.000000</td>\n",
              "      <td>84.170000</td>\n",
              "      <td>1.415046e+09</td>\n",
              "    </tr>\n",
              "  </tbody>\n",
              "</table>\n",
              "</div>"
            ],
            "text/plain": [
              "               year         income      lifespan    population\n",
              "count  40437.000000   40437.000000  40437.000000  4.043700e+04\n",
              "mean    1909.292900    4619.492717     43.132080  1.371204e+07\n",
              "std       63.308682   10209.571045     16.313228  6.606335e+07\n",
              "min     1800.000000     247.000000      1.000000  2.128000e+03\n",
              "25%     1854.000000     876.000000     31.160000  4.113310e+05\n",
              "50%     1909.000000    1442.000000     35.500000  1.985952e+06\n",
              "75%     1964.000000    3488.000000     55.970000  6.499707e+06\n",
              "max     2018.000000  177522.000000     84.170000  1.415046e+09"
            ]
          },
          "metadata": {
            "tags": []
          },
          "execution_count": 23
        }
      ]
    },
    {
      "cell_type": "code",
      "metadata": {
        "id": "2NEwJBIADJqn",
        "colab_type": "code",
        "colab": {
          "base_uri": "https://localhost:8080/",
          "height": 173
        },
        "outputId": "320740aa-7967-4faf-c677-7414e2798b6a"
      },
      "source": [
        "merged.describe(exclude='number')"
      ],
      "execution_count": 24,
      "outputs": [
        {
          "output_type": "execute_result",
          "data": {
            "text/html": [
              "<div>\n",
              "<style scoped>\n",
              "    .dataframe tbody tr th:only-of-type {\n",
              "        vertical-align: middle;\n",
              "    }\n",
              "\n",
              "    .dataframe tbody tr th {\n",
              "        vertical-align: top;\n",
              "    }\n",
              "\n",
              "    .dataframe thead th {\n",
              "        text-align: right;\n",
              "    }\n",
              "</style>\n",
              "<table border=\"1\" class=\"dataframe\">\n",
              "  <thead>\n",
              "    <tr style=\"text-align: right;\">\n",
              "      <th></th>\n",
              "      <th>country</th>\n",
              "      <th>region</th>\n",
              "    </tr>\n",
              "  </thead>\n",
              "  <tbody>\n",
              "    <tr>\n",
              "      <th>count</th>\n",
              "      <td>40437</td>\n",
              "      <td>40437</td>\n",
              "    </tr>\n",
              "    <tr>\n",
              "      <th>unique</th>\n",
              "      <td>187</td>\n",
              "      <td>6</td>\n",
              "    </tr>\n",
              "    <tr>\n",
              "      <th>top</th>\n",
              "      <td>Bulgaria</td>\n",
              "      <td>europe_central_asia</td>\n",
              "    </tr>\n",
              "    <tr>\n",
              "      <th>freq</th>\n",
              "      <td>219</td>\n",
              "      <td>10778</td>\n",
              "    </tr>\n",
              "  </tbody>\n",
              "</table>\n",
              "</div>"
            ],
            "text/plain": [
              "         country               region\n",
              "count      40437                40437\n",
              "unique       187                    6\n",
              "top     Bulgaria  europe_central_asia\n",
              "freq         219                10778"
            ]
          },
          "metadata": {
            "tags": []
          },
          "execution_count": 24
        }
      ]
    },
    {
      "cell_type": "code",
      "metadata": {
        "id": "inTeWBOhDe_2",
        "colab_type": "code",
        "colab": {
          "base_uri": "https://localhost:8080/",
          "height": 680
        },
        "outputId": "955e6b33-20f5-4a13-f8c1-5196c30472f2"
      },
      "source": [
        "merged.country.unique()"
      ],
      "execution_count": 25,
      "outputs": [
        {
          "output_type": "execute_result",
          "data": {
            "text/plain": [
              "array(['Afghanistan', 'Angola', 'Albania', 'Andorra',\n",
              "       'United Arab Emirates', 'Argentina', 'Armenia',\n",
              "       'Antigua and Barbuda', 'Australia', 'Austria', 'Azerbaijan',\n",
              "       'Burundi', 'Belgium', 'Benin', 'Burkina Faso', 'Bangladesh',\n",
              "       'Bulgaria', 'Bahrain', 'Bahamas', 'Bosnia and Herzegovina',\n",
              "       'Belarus', 'Belize', 'Bolivia', 'Brazil', 'Barbados', 'Brunei',\n",
              "       'Bhutan', 'Botswana', 'Central African Republic', 'Canada',\n",
              "       'Switzerland', 'Chile', 'China', \"Cote d'Ivoire\", 'Cameroon',\n",
              "       'Congo, Dem. Rep.', 'Congo, Rep.', 'Colombia', 'Comoros',\n",
              "       'Cape Verde', 'Costa Rica', 'Cuba', 'Cyprus', 'Czech Republic',\n",
              "       'Germany', 'Djibouti', 'Dominica', 'Denmark', 'Dominican Republic',\n",
              "       'Algeria', 'Ecuador', 'Egypt', 'Eritrea', 'Spain', 'Estonia',\n",
              "       'Ethiopia', 'Finland', 'Fiji', 'France', 'Micronesia, Fed. Sts.',\n",
              "       'Gabon', 'United Kingdom', 'Georgia', 'Ghana', 'Guinea', 'Gambia',\n",
              "       'Guinea-Bissau', 'Equatorial Guinea', 'Greece', 'Grenada',\n",
              "       'Guatemala', 'Guyana', 'Honduras', 'Croatia', 'Haiti', 'Hungary',\n",
              "       'Indonesia', 'India', 'Ireland', 'Iran', 'Iraq', 'Iceland',\n",
              "       'Israel', 'Italy', 'Jamaica', 'Jordan', 'Japan', 'Kazakhstan',\n",
              "       'Kenya', 'Kyrgyz Republic', 'Cambodia', 'Kiribati', 'South Korea',\n",
              "       'Kuwait', 'Lao', 'Lebanon', 'Liberia', 'Libya', 'St. Lucia',\n",
              "       'Sri Lanka', 'Lesotho', 'Lithuania', 'Luxembourg', 'Latvia',\n",
              "       'Morocco', 'Moldova', 'Madagascar', 'Maldives', 'Mexico',\n",
              "       'Marshall Islands', 'Macedonia, FYR', 'Mali', 'Malta', 'Myanmar',\n",
              "       'Montenegro', 'Mongolia', 'Mozambique', 'Mauritania', 'Mauritius',\n",
              "       'Malawi', 'Malaysia', 'Namibia', 'Niger', 'Nigeria', 'Nicaragua',\n",
              "       'Netherlands', 'Norway', 'Nepal', 'New Zealand', 'Oman',\n",
              "       'Pakistan', 'Panama', 'Peru', 'Philippines', 'Papua New Guinea',\n",
              "       'Poland', 'North Korea', 'Portugal', 'Paraguay', 'Palestine',\n",
              "       'Qatar', 'Romania', 'Russia', 'Rwanda', 'Saudi Arabia', 'Sudan',\n",
              "       'Senegal', 'Singapore', 'Solomon Islands', 'Sierra Leone',\n",
              "       'El Salvador', 'Somalia', 'Serbia', 'South Sudan',\n",
              "       'Sao Tome and Principe', 'Suriname', 'Slovak Republic', 'Slovenia',\n",
              "       'Sweden', 'Swaziland', 'Seychelles', 'Syria', 'Chad', 'Togo',\n",
              "       'Thailand', 'Tajikistan', 'Turkmenistan', 'Timor-Leste', 'Tonga',\n",
              "       'Trinidad and Tobago', 'Tunisia', 'Turkey', 'Tanzania', 'Uganda',\n",
              "       'Ukraine', 'Uruguay', 'United States', 'Uzbekistan',\n",
              "       'St. Vincent and the Grenadines', 'Venezuela', 'Vietnam',\n",
              "       'Vanuatu', 'Samoa', 'Yemen', 'South Africa', 'Zambia', 'Zimbabwe'],\n",
              "      dtype=object)"
            ]
          },
          "metadata": {
            "tags": []
          },
          "execution_count": 25
        }
      ]
    },
    {
      "cell_type": "code",
      "metadata": {
        "id": "BXw0I4OFDpCT",
        "colab_type": "code",
        "colab": {
          "base_uri": "https://localhost:8080/",
          "height": 204
        },
        "outputId": "87c7172e-0be8-4789-f607-95f39b91b8cd"
      },
      "source": [
        "usa = merged[merged.country==\"United States\"]\n",
        "usa.head()"
      ],
      "execution_count": 26,
      "outputs": [
        {
          "output_type": "execute_result",
          "data": {
            "text/html": [
              "<div>\n",
              "<style scoped>\n",
              "    .dataframe tbody tr th:only-of-type {\n",
              "        vertical-align: middle;\n",
              "    }\n",
              "\n",
              "    .dataframe tbody tr th {\n",
              "        vertical-align: top;\n",
              "    }\n",
              "\n",
              "    .dataframe thead th {\n",
              "        text-align: right;\n",
              "    }\n",
              "</style>\n",
              "<table border=\"1\" class=\"dataframe\">\n",
              "  <thead>\n",
              "    <tr style=\"text-align: right;\">\n",
              "      <th></th>\n",
              "      <th>year</th>\n",
              "      <th>income</th>\n",
              "      <th>lifespan</th>\n",
              "      <th>population</th>\n",
              "      <th>country</th>\n",
              "      <th>region</th>\n",
              "    </tr>\n",
              "  </thead>\n",
              "  <tbody>\n",
              "    <tr>\n",
              "      <th>38028</th>\n",
              "      <td>1800</td>\n",
              "      <td>2127</td>\n",
              "      <td>39.41</td>\n",
              "      <td>6801854</td>\n",
              "      <td>United States</td>\n",
              "      <td>america</td>\n",
              "    </tr>\n",
              "    <tr>\n",
              "      <th>38029</th>\n",
              "      <td>1801</td>\n",
              "      <td>2167</td>\n",
              "      <td>39.41</td>\n",
              "      <td>6933517</td>\n",
              "      <td>United States</td>\n",
              "      <td>america</td>\n",
              "    </tr>\n",
              "    <tr>\n",
              "      <th>38030</th>\n",
              "      <td>1802</td>\n",
              "      <td>2202</td>\n",
              "      <td>39.41</td>\n",
              "      <td>7067728</td>\n",
              "      <td>United States</td>\n",
              "      <td>america</td>\n",
              "    </tr>\n",
              "    <tr>\n",
              "      <th>38031</th>\n",
              "      <td>1803</td>\n",
              "      <td>2166</td>\n",
              "      <td>39.41</td>\n",
              "      <td>7204538</td>\n",
              "      <td>United States</td>\n",
              "      <td>america</td>\n",
              "    </tr>\n",
              "    <tr>\n",
              "      <th>38032</th>\n",
              "      <td>1804</td>\n",
              "      <td>2165</td>\n",
              "      <td>39.41</td>\n",
              "      <td>7343995</td>\n",
              "      <td>United States</td>\n",
              "      <td>america</td>\n",
              "    </tr>\n",
              "  </tbody>\n",
              "</table>\n",
              "</div>"
            ],
            "text/plain": [
              "       year  income  lifespan  population        country   region\n",
              "38028  1800    2127     39.41     6801854  United States  america\n",
              "38029  1801    2167     39.41     6933517  United States  america\n",
              "38030  1802    2202     39.41     7067728  United States  america\n",
              "38031  1803    2166     39.41     7204538  United States  america\n",
              "38032  1804    2165     39.41     7343995  United States  america"
            ]
          },
          "metadata": {
            "tags": []
          },
          "execution_count": 26
        }
      ]
    },
    {
      "cell_type": "code",
      "metadata": {
        "id": "24at1vgJD0wJ",
        "colab_type": "code",
        "colab": {
          "base_uri": "https://localhost:8080/",
          "height": 142
        },
        "outputId": "3f260e84-6f6b-4580-89b0-4ca53673f4ff"
      },
      "source": [
        "usa[usa.year.isin([1818, 1918, 2018])]"
      ],
      "execution_count": 27,
      "outputs": [
        {
          "output_type": "execute_result",
          "data": {
            "text/html": [
              "<div>\n",
              "<style scoped>\n",
              "    .dataframe tbody tr th:only-of-type {\n",
              "        vertical-align: middle;\n",
              "    }\n",
              "\n",
              "    .dataframe tbody tr th {\n",
              "        vertical-align: top;\n",
              "    }\n",
              "\n",
              "    .dataframe thead th {\n",
              "        text-align: right;\n",
              "    }\n",
              "</style>\n",
              "<table border=\"1\" class=\"dataframe\">\n",
              "  <thead>\n",
              "    <tr style=\"text-align: right;\">\n",
              "      <th></th>\n",
              "      <th>year</th>\n",
              "      <th>income</th>\n",
              "      <th>lifespan</th>\n",
              "      <th>population</th>\n",
              "      <th>country</th>\n",
              "      <th>region</th>\n",
              "    </tr>\n",
              "  </thead>\n",
              "  <tbody>\n",
              "    <tr>\n",
              "      <th>38046</th>\n",
              "      <td>1818</td>\n",
              "      <td>2258</td>\n",
              "      <td>39.41</td>\n",
              "      <td>9879049</td>\n",
              "      <td>United States</td>\n",
              "      <td>america</td>\n",
              "    </tr>\n",
              "    <tr>\n",
              "      <th>38146</th>\n",
              "      <td>1918</td>\n",
              "      <td>9371</td>\n",
              "      <td>47.18</td>\n",
              "      <td>106721812</td>\n",
              "      <td>United States</td>\n",
              "      <td>america</td>\n",
              "    </tr>\n",
              "    <tr>\n",
              "      <th>38246</th>\n",
              "      <td>2018</td>\n",
              "      <td>54898</td>\n",
              "      <td>79.14</td>\n",
              "      <td>326766748</td>\n",
              "      <td>United States</td>\n",
              "      <td>america</td>\n",
              "    </tr>\n",
              "  </tbody>\n",
              "</table>\n",
              "</div>"
            ],
            "text/plain": [
              "       year  income  lifespan  population        country   region\n",
              "38046  1818    2258     39.41     9879049  United States  america\n",
              "38146  1918    9371     47.18   106721812  United States  america\n",
              "38246  2018   54898     79.14   326766748  United States  america"
            ]
          },
          "metadata": {
            "tags": []
          },
          "execution_count": 27
        }
      ]
    },
    {
      "cell_type": "code",
      "metadata": {
        "id": "o5QkEDtjEP_f",
        "colab_type": "code",
        "colab": {
          "base_uri": "https://localhost:8080/",
          "height": 204
        },
        "outputId": "6bc1f405-f048-44b0-9904-c15ae81bc94f"
      },
      "source": [
        "china = merged[merged.country==\"China\"]\n",
        "china.head()"
      ],
      "execution_count": 28,
      "outputs": [
        {
          "output_type": "execute_result",
          "data": {
            "text/html": [
              "<div>\n",
              "<style scoped>\n",
              "    .dataframe tbody tr th:only-of-type {\n",
              "        vertical-align: middle;\n",
              "    }\n",
              "\n",
              "    .dataframe tbody tr th {\n",
              "        vertical-align: top;\n",
              "    }\n",
              "\n",
              "    .dataframe thead th {\n",
              "        text-align: right;\n",
              "    }\n",
              "</style>\n",
              "<table border=\"1\" class=\"dataframe\">\n",
              "  <thead>\n",
              "    <tr style=\"text-align: right;\">\n",
              "      <th></th>\n",
              "      <th>year</th>\n",
              "      <th>income</th>\n",
              "      <th>lifespan</th>\n",
              "      <th>population</th>\n",
              "      <th>country</th>\n",
              "      <th>region</th>\n",
              "    </tr>\n",
              "  </thead>\n",
              "  <tbody>\n",
              "    <tr>\n",
              "      <th>6836</th>\n",
              "      <td>1800</td>\n",
              "      <td>984</td>\n",
              "      <td>32.0</td>\n",
              "      <td>321675013</td>\n",
              "      <td>China</td>\n",
              "      <td>east_asia_pacific</td>\n",
              "    </tr>\n",
              "    <tr>\n",
              "      <th>6837</th>\n",
              "      <td>1801</td>\n",
              "      <td>984</td>\n",
              "      <td>32.0</td>\n",
              "      <td>324408862</td>\n",
              "      <td>China</td>\n",
              "      <td>east_asia_pacific</td>\n",
              "    </tr>\n",
              "    <tr>\n",
              "      <th>6838</th>\n",
              "      <td>1802</td>\n",
              "      <td>984</td>\n",
              "      <td>32.0</td>\n",
              "      <td>327165946</td>\n",
              "      <td>China</td>\n",
              "      <td>east_asia_pacific</td>\n",
              "    </tr>\n",
              "    <tr>\n",
              "      <th>6839</th>\n",
              "      <td>1803</td>\n",
              "      <td>984</td>\n",
              "      <td>32.0</td>\n",
              "      <td>329946461</td>\n",
              "      <td>China</td>\n",
              "      <td>east_asia_pacific</td>\n",
              "    </tr>\n",
              "    <tr>\n",
              "      <th>6840</th>\n",
              "      <td>1804</td>\n",
              "      <td>984</td>\n",
              "      <td>32.0</td>\n",
              "      <td>332750607</td>\n",
              "      <td>China</td>\n",
              "      <td>east_asia_pacific</td>\n",
              "    </tr>\n",
              "  </tbody>\n",
              "</table>\n",
              "</div>"
            ],
            "text/plain": [
              "      year  income  lifespan  population country             region\n",
              "6836  1800     984      32.0   321675013   China  east_asia_pacific\n",
              "6837  1801     984      32.0   324408862   China  east_asia_pacific\n",
              "6838  1802     984      32.0   327165946   China  east_asia_pacific\n",
              "6839  1803     984      32.0   329946461   China  east_asia_pacific\n",
              "6840  1804     984      32.0   332750607   China  east_asia_pacific"
            ]
          },
          "metadata": {
            "tags": []
          },
          "execution_count": 28
        }
      ]
    },
    {
      "cell_type": "code",
      "metadata": {
        "id": "xHeaXFVwEUBu",
        "colab_type": "code",
        "colab": {
          "base_uri": "https://localhost:8080/",
          "height": 142
        },
        "outputId": "6d26d8b7-5511-4b33-f3e3-b3bfae94529e"
      },
      "source": [
        "china[china.year.isin([1818, 1918, 2018])]"
      ],
      "execution_count": 29,
      "outputs": [
        {
          "output_type": "execute_result",
          "data": {
            "text/html": [
              "<div>\n",
              "<style scoped>\n",
              "    .dataframe tbody tr th:only-of-type {\n",
              "        vertical-align: middle;\n",
              "    }\n",
              "\n",
              "    .dataframe tbody tr th {\n",
              "        vertical-align: top;\n",
              "    }\n",
              "\n",
              "    .dataframe thead th {\n",
              "        text-align: right;\n",
              "    }\n",
              "</style>\n",
              "<table border=\"1\" class=\"dataframe\">\n",
              "  <thead>\n",
              "    <tr style=\"text-align: right;\">\n",
              "      <th></th>\n",
              "      <th>year</th>\n",
              "      <th>income</th>\n",
              "      <th>lifespan</th>\n",
              "      <th>population</th>\n",
              "      <th>country</th>\n",
              "      <th>region</th>\n",
              "    </tr>\n",
              "  </thead>\n",
              "  <tbody>\n",
              "    <tr>\n",
              "      <th>6854</th>\n",
              "      <td>1818</td>\n",
              "      <td>985</td>\n",
              "      <td>32.00</td>\n",
              "      <td>374161494</td>\n",
              "      <td>China</td>\n",
              "      <td>east_asia_pacific</td>\n",
              "    </tr>\n",
              "    <tr>\n",
              "      <th>6954</th>\n",
              "      <td>1918</td>\n",
              "      <td>989</td>\n",
              "      <td>22.13</td>\n",
              "      <td>462444535</td>\n",
              "      <td>China</td>\n",
              "      <td>east_asia_pacific</td>\n",
              "    </tr>\n",
              "    <tr>\n",
              "      <th>7054</th>\n",
              "      <td>2018</td>\n",
              "      <td>16018</td>\n",
              "      <td>76.92</td>\n",
              "      <td>1415045928</td>\n",
              "      <td>China</td>\n",
              "      <td>east_asia_pacific</td>\n",
              "    </tr>\n",
              "  </tbody>\n",
              "</table>\n",
              "</div>"
            ],
            "text/plain": [
              "      year  income  lifespan  population country             region\n",
              "6854  1818     985     32.00   374161494   China  east_asia_pacific\n",
              "6954  1918     989     22.13   462444535   China  east_asia_pacific\n",
              "7054  2018   16018     76.92  1415045928   China  east_asia_pacific"
            ]
          },
          "metadata": {
            "tags": []
          },
          "execution_count": 29
        }
      ]
    },
    {
      "cell_type": "markdown",
      "metadata": {
        "colab_type": "text",
        "id": "hecscpimY6Oz"
      },
      "source": [
        "## Plot visualization"
      ]
    },
    {
      "cell_type": "markdown",
      "metadata": {
        "id": "5Ou6YyfAtfv1",
        "colab_type": "text"
      },
      "source": [
        "Changed title on graph, adjusted size of markers on graph, set style to 'whitegrid'"
      ]
    },
    {
      "cell_type": "code",
      "metadata": {
        "colab_type": "code",
        "id": "_o8RmX2M67ai",
        "colab": {
          "base_uri": "https://localhost:8080/",
          "height": 382
        },
        "outputId": "00b4513b-dfc6-4aa7-e1d8-88ab87410770"
      },
      "source": [
        "import seaborn as sns\n",
        "year_2018= merged[merged['year'] == 2018]\n",
        "sns.set_style(\"whitegrid\")\n",
        "sns.relplot(x='income', y='lifespan', hue='region', size='population', \n",
        "            sizes=(20, 500), data=year_2018)\n",
        "\n",
        "plt.title(\"Income Per Person GDP Per Capita PPP Inflation Adjusted\")\n",
        "plt.text(x=40000.0, y=85, s=\"Income vs Lifespan by Country\")\n",
        "plt.show();\n",
        "\n"
      ],
      "execution_count": 85,
      "outputs": [
        {
          "output_type": "display_data",
          "data": {
            "image/png": "[encoded data removed]",
            "text/plain": [
              "<Figure size 521.75x360 with 1 Axes>"
            ]
          },
          "metadata": {
            "tags": []
          }
        }
      ]
    },
    {
      "cell_type": "markdown",
      "metadata": {
        "colab_type": "text",
        "id": "yqfEAkFlMc26"
      },
      "source": [
        "## Analyze outliers"
      ]
    },
    {
      "cell_type": "code",
      "metadata": {
        "id": "fYkMGM1jJ1af",
        "colab_type": "code",
        "colab": {
          "base_uri": "https://localhost:8080/",
          "height": 80
        },
        "outputId": "3bb6b1d9-1d3d-41e2-ad91-69e09b797a38"
      },
      "source": [
        "qatar_year_2018 = year_2018[(year_2018.income > 80000) & (year_2018.country == 'Qatar')].sort_values(by='income')\n",
        "qatar_year_2018"
      ],
      "execution_count": 31,
      "outputs": [
        {
          "output_type": "execute_result",
          "data": {
            "text/html": [
              "<div>\n",
              "<style scoped>\n",
              "    .dataframe tbody tr th:only-of-type {\n",
              "        vertical-align: middle;\n",
              "    }\n",
              "\n",
              "    .dataframe tbody tr th {\n",
              "        vertical-align: top;\n",
              "    }\n",
              "\n",
              "    .dataframe thead th {\n",
              "        text-align: right;\n",
              "    }\n",
              "</style>\n",
              "<table border=\"1\" class=\"dataframe\">\n",
              "  <thead>\n",
              "    <tr style=\"text-align: right;\">\n",
              "      <th></th>\n",
              "      <th>year</th>\n",
              "      <th>income</th>\n",
              "      <th>lifespan</th>\n",
              "      <th>population</th>\n",
              "      <th>country</th>\n",
              "      <th>region</th>\n",
              "    </tr>\n",
              "  </thead>\n",
              "  <tbody>\n",
              "    <tr>\n",
              "      <th>30362</th>\n",
              "      <td>2018</td>\n",
              "      <td>121033</td>\n",
              "      <td>80.71</td>\n",
              "      <td>2694849</td>\n",
              "      <td>Qatar</td>\n",
              "      <td>middle_east_north_africa</td>\n",
              "    </tr>\n",
              "  </tbody>\n",
              "</table>\n",
              "</div>"
            ],
            "text/plain": [
              "       year  income  lifespan  population country                    region\n",
              "30362  2018  121033     80.71     2694849   Qatar  middle_east_north_africa"
            ]
          },
          "metadata": {
            "tags": []
          },
          "execution_count": 31
        }
      ]
    },
    {
      "cell_type": "code",
      "metadata": {
        "id": "TVvewNI9KL-c",
        "colab_type": "code",
        "colab": {
          "base_uri": "https://localhost:8080/",
          "height": 382
        },
        "outputId": "8fca6bca-459a-44d3-9989-a0c9644679ec"
      },
      "source": [
        "\n",
        "sns.relplot(x='income', y='lifespan', hue='region', size='population', \n",
        "            sizes=(20, 460), data=year_2018);\n",
        "\n",
        "plt.text(x=qatar_year_2018.income, y=qatar_year_2018.lifespan + 1, s='Qatar')\n",
        "plt.title(\"Income Per Person GDP Per Capita PPP Inflation Adjusted\")\n",
        "plt.text(x=30000.0, y=85, s=\"2018 Qatar Outlier Displayed\")\n",
        "plt.show();\n",
        "\n"
      ],
      "execution_count": 83,
      "outputs": [
        {
          "output_type": "display_data",
          "data": {
            "image/png": "[encoded data removed]",
            "text/plain": [
              "<Figure size 521.75x360 with 1 Axes>"
            ]
          },
          "metadata": {
            "tags": []
          }
        }
      ]
    },
    {
      "cell_type": "markdown",
      "metadata": {
        "id": "V-RFbTbZMZVw",
        "colab_type": "text"
      },
      "source": [
        "## Plot multiple years"
      ]
    },
    {
      "cell_type": "code",
      "metadata": {
        "id": "yHfnGecdKL9l",
        "colab_type": "code",
        "colab": {
          "base_uri": "https://localhost:8080/",
          "height": 373
        },
        "outputId": "f78dadf9-6d4e-4485-ba8b-6b083aa34046"
      },
      "source": [
        "years = [1818, 1918, 2018]\n",
        "\n",
        "centuries = merged[merged.year.isin(years)]\n",
        "\n",
        "sns.relplot(x='income', y='lifespan', hue='region', size='population', \n",
        "            col='year', data=centuries)\n",
        "\n",
        "plt.xscale('log');\n",
        "plt.text(x=qatar_year_2018.income-5000, y=qatar_year_2018.lifespan + 1, \n",
        "         s='Qatar');\n",
        "\n"
      ],
      "execution_count": 46,
      "outputs": [
        {
          "output_type": "display_data",
          "data": {
            "image/png": "[encoded data removed]",
            "text/plain": [
              "<Figure size 1241.75x360 with 3 Axes>"
            ]
          },
          "metadata": {
            "tags": []
          }
        }
      ]
    },
    {
      "cell_type": "markdown",
      "metadata": {
        "colab_type": "text",
        "id": "BB1Ki0v6hxCA"
      },
      "source": [
        "## Point out a story"
      ]
    },
    {
      "cell_type": "code",
      "metadata": {
        "colab_type": "code",
        "id": "eSgZhD3v7HIe",
        "colab": {}
      },
      "source": [
        "years = [1918, 1938, 1958, 1978, 1998, 2018]\n",
        "\n",
        "decades = merged[merged.year.isin(years)]"
      ],
      "execution_count": 0,
      "outputs": []
    },
    {
      "cell_type": "code",
      "metadata": {
        "id": "8Q8crIsTNOgm",
        "colab_type": "code",
        "colab": {
          "base_uri": "https://localhost:8080/",
          "height": 389
        },
        "outputId": "3930785e-3ea9-42a6-8a47-c9c4a632924c"
      },
      "source": [
        "sns.relplot(x='income', y='lifespan', hue='region', size='population', \n",
        "            sizes=(20, 400), \n",
        "            col='year', data=decades);\n"
      ],
      "execution_count": 67,
      "outputs": [
        {
          "output_type": "display_data",
          "data": {
            "image/png": "[encoded data removed]",
            "text/plain": [
              "<Figure size 2321.75x360 with 6 Axes>"
            ]
          },
          "metadata": {
            "tags": []
          }
        }
      ]
    },
    {
      "cell_type": "code",
      "metadata": {
        "id": "6GExKlG0NytQ",
        "colab_type": "code",
        "colab": {
          "base_uri": "https://localhost:8080/",
          "height": 1000
        },
        "outputId": "02aa1fa3-4eeb-4c90-a68e-e8004e66bba3"
      },
      "source": [
        "\n",
        "for year in years:\n",
        "    sns.relplot(x='income', y='lifespan', hue='region', size='population', \n",
        "                sizes=(20, 600), data=merged[merged.year==year])\n",
        "\n",
        "    plt.xscale('log')\n",
        "    plt.xlim((150, 150000))\n",
        "    plt.ylim((0, 90))\n",
        "    plt.title(year)\n",
        "    plt.axhline(y=50, color='grey')"
      ],
      "execution_count": 74,
      "outputs": [
        {
          "output_type": "display_data",
          "data": {
            "image/png": "[encoded data removed]",
            "text/plain": [
              "<Figure size 521.75x360 with 1 Axes>"
            ]
          },
          "metadata": {
            "tags": []
          }
        },
        {
          "output_type": "display_data",
          "data": {
            "image/png": "[encoded data removed]",
            "text/plain": [
              "<Figure size 521.75x360 with 1 Axes>"
            ]
          },
          "metadata": {
            "tags": []
          }
        },
        {
          "output_type": "display_data",
          "data": {
            "image/png": "[encoded data removed]",
            "text/plain": [
              "<Figure size 521.75x360 with 1 Axes>"
            ]
          },
          "metadata": {
            "tags": []
          }
        }
      ]
    },
    {
      "cell_type": "code",
      "metadata": {
        "id": "7KmxdW5pO4LV",
        "colab_type": "code",
        "colab": {
          "base_uri": "https://localhost:8080/",
          "height": 173
        },
        "outputId": "f7ca9707-84f6-420f-d4b1-ba79d5e40fb7"
      },
      "source": [
        "merged[(merged.year==1918) & (merged.lifespan >50)]"
      ],
      "execution_count": 59,
      "outputs": [
        {
          "output_type": "execute_result",
          "data": {
            "text/html": [
              "<div>\n",
              "<style scoped>\n",
              "    .dataframe tbody tr th:only-of-type {\n",
              "        vertical-align: middle;\n",
              "    }\n",
              "\n",
              "    .dataframe tbody tr th {\n",
              "        vertical-align: top;\n",
              "    }\n",
              "\n",
              "    .dataframe thead th {\n",
              "        text-align: right;\n",
              "    }\n",
              "</style>\n",
              "<table border=\"1\" class=\"dataframe\">\n",
              "  <thead>\n",
              "    <tr style=\"text-align: right;\">\n",
              "      <th></th>\n",
              "      <th>year</th>\n",
              "      <th>income</th>\n",
              "      <th>lifespan</th>\n",
              "      <th>population</th>\n",
              "      <th>country</th>\n",
              "      <th>region</th>\n",
              "    </tr>\n",
              "  </thead>\n",
              "  <tbody>\n",
              "    <tr>\n",
              "      <th>1698</th>\n",
              "      <td>1918</td>\n",
              "      <td>7610</td>\n",
              "      <td>54.95</td>\n",
              "      <td>5066003</td>\n",
              "      <td>Australia</td>\n",
              "      <td>east_asia_pacific</td>\n",
              "    </tr>\n",
              "    <tr>\n",
              "      <th>10067</th>\n",
              "      <td>1918</td>\n",
              "      <td>6393</td>\n",
              "      <td>56.24</td>\n",
              "      <td>3165276</td>\n",
              "      <td>Denmark</td>\n",
              "      <td>europe_central_asia</td>\n",
              "    </tr>\n",
              "    <tr>\n",
              "      <th>17513</th>\n",
              "      <td>1918</td>\n",
              "      <td>2576</td>\n",
              "      <td>51.11</td>\n",
              "      <td>115504</td>\n",
              "      <td>Iceland</td>\n",
              "      <td>europe_central_asia</td>\n",
              "    </tr>\n",
              "    <tr>\n",
              "      <th>27196</th>\n",
              "      <td>1918</td>\n",
              "      <td>4479</td>\n",
              "      <td>50.28</td>\n",
              "      <td>2576646</td>\n",
              "      <td>Norway</td>\n",
              "      <td>europe_central_asia</td>\n",
              "    </tr>\n",
              "  </tbody>\n",
              "</table>\n",
              "</div>"
            ],
            "text/plain": [
              "       year  income  lifespan  population    country               region\n",
              "1698   1918    7610     54.95     5066003  Australia    east_asia_pacific\n",
              "10067  1918    6393     56.24     3165276    Denmark  europe_central_asia\n",
              "17513  1918    2576     51.11      115504    Iceland  europe_central_asia\n",
              "27196  1918    4479     50.28     2576646     Norway  europe_central_asia"
            ]
          },
          "metadata": {
            "tags": []
          },
          "execution_count": 59
        }
      ]
    },
    {
      "cell_type": "code",
      "metadata": {
        "id": "XiLF2NW7PCRl",
        "colab_type": "code",
        "colab": {
          "base_uri": "https://localhost:8080/",
          "height": 49
        },
        "outputId": "b4e1dadd-e925-40b3-b484-a27d2b95ff86"
      },
      "source": [
        "merged[(merged.year==2018) & (merged.lifespan <50)]"
      ],
      "execution_count": 60,
      "outputs": [
        {
          "output_type": "execute_result",
          "data": {
            "text/html": [
              "<div>\n",
              "<style scoped>\n",
              "    .dataframe tbody tr th:only-of-type {\n",
              "        vertical-align: middle;\n",
              "    }\n",
              "\n",
              "    .dataframe tbody tr th {\n",
              "        vertical-align: top;\n",
              "    }\n",
              "\n",
              "    .dataframe thead th {\n",
              "        text-align: right;\n",
              "    }\n",
              "</style>\n",
              "<table border=\"1\" class=\"dataframe\">\n",
              "  <thead>\n",
              "    <tr style=\"text-align: right;\">\n",
              "      <th></th>\n",
              "      <th>year</th>\n",
              "      <th>income</th>\n",
              "      <th>lifespan</th>\n",
              "      <th>population</th>\n",
              "      <th>country</th>\n",
              "      <th>region</th>\n",
              "    </tr>\n",
              "  </thead>\n",
              "  <tbody>\n",
              "  </tbody>\n",
              "</table>\n",
              "</div>"
            ],
            "text/plain": [
              "Empty DataFrame\n",
              "Columns: [year, income, lifespan, population, country, region]\n",
              "Index: []"
            ]
          },
          "metadata": {
            "tags": []
          },
          "execution_count": 60
        }
      ]
    },
    {
      "cell_type": "code",
      "metadata": {
        "id": "on6AEN5-PKXk",
        "colab_type": "code",
        "colab": {
          "base_uri": "https://localhost:8080/",
          "height": 386
        },
        "outputId": "1ff9504b-7499-4ccb-c5ab-754a747620f8"
      },
      "source": [
        "year = 1883 #@param {type:\"slider\", min:1800, max:2018, step:1}\n",
        "\n",
        "\n",
        "sns.relplot(x='income', y='lifespan', hue='region', size='population',\n",
        "           data=merged[merged.year==year])\n",
        "\n",
        "plt.xscale('log')\n",
        "plt.xlim((150, 150000))\n",
        "plt.ylim((20, 90))\n",
        "plt.title(year);"
      ],
      "execution_count": 39,
      "outputs": [
        {
          "output_type": "display_data",
          "data": {
            "image/png": "[encoded data removed]",
            "text/plain": [
              "<Figure size 521.75x360 with 1 Axes>"
            ]
          },
          "metadata": {
            "tags": []
          }
        }
      ]
    },
    {
      "cell_type": "markdown",
      "metadata": {
        "id": "iY1KovcNl_DK",
        "colab_type": "text"
      },
      "source": [
        "# ASSIGNMENT\n",
        "Replicate the lesson code\n",
        "\n",
        "-improve gapminder graph that we made during the lecture\n",
        "-change the size of the circles\n",
        "-add a title and subtitle to graph\n",
        "-(optional: see how graph looks using 4 regions rather than the 6)\n",
        "-stretch goal -small tick marks/color options\n",
        "\n",
        "# STRETCH OPTIONS\n",
        "\n",
        "## 1. Animate!\n",
        "- [Making animations work in Google Colaboratory](https://medium.com/lambda-school-machine-learning/making-animations-work-in-google-colaboratory-new-home-for-ml-prototyping-c6147186ae75)\n",
        "- [How to Create Animated Graphs in Python](https://towardsdatascience.com/how-to-create-animated-graphs-in-python-bb619cc2dec1)\n",
        "- [The Ultimate Day of Chicago Bikeshare](https://chrisluedtke.github.io/divvy-data.html) (Lambda School Data Science student)\n",
        "\n",
        "## 2. Work on anything related to your portfolio site / project"
      ]
    }
  ]
}