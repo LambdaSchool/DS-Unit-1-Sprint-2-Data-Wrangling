{
  "nbformat": 4,
  "nbformat_minor": 0,
  "metadata": {
    "colab": {
      "name": "DS_Unit_1_Sprint_Challenge_2_Data_Wrangling_and_Storytelling (2).ipynb",
      "version": "0.3.2",
      "provenance": [],
      "collapsed_sections": [],
      "include_colab_link": true
    },
    "language_info": {
      "codemirror_mode": {
        "name": "ipython",
        "version": 3
      },
      "file_extension": ".py",
      "mimetype": "text/x-python",
      "name": "python",
      "nbconvert_exporter": "python",
      "pygments_lexer": "ipython3",
      "version": "3.7.1"
    },
    "kernelspec": {
      "display_name": "Python 3",
      "language": "python",
      "name": "python3"
    }
  },
  "cells": [
    {
      "cell_type": "markdown",
      "metadata": {
        "id": "view-in-github",
        "colab_type": "text"
      },
      "source": [
        "<a href=\"https://colab.research.google.com/github/HadenMoore/DS-Unit-1-Sprint-2-Data-Wrangling-and-Storytelling/blob/master/DS_Unit_1_Sprint_Challenge_2_Data_Wrangling_and_Storytelling_(2).ipynb\" target=\"_parent\"><img src=\"https://colab.research.google.com/assets/colab-badge.svg\" alt=\"Open In Colab\"/></a>"
      ]
    },
    {
      "cell_type": "markdown",
      "metadata": {
        "colab_type": "text",
        "id": "4yMHi_PX9hEz"
      },
      "source": [
        "# Data Science Unit 1 Sprint Challenge 2\n",
        "\n",
        "## Data Wrangling and Storytelling\n",
        "\n",
        "Taming data from its raw form into informative insights and stories."
      ]
    },
    {
      "cell_type": "markdown",
      "metadata": {
        "id": "9wIvtOss9H_i",
        "colab_type": "text"
      },
      "source": [
        "## Data Wrangling\n",
        "\n",
        "In this Sprint Challenge you will first \"wrangle\" some data from [Gapminder](https://www.gapminder.org/about-gapminder/), a Swedish non-profit co-founded by Hans Rosling. \"Gapminder produces free teaching resources making the world understandable based on reliable statistics.\"\n",
        "- [Cell phones (total), by country and year](https://raw.githubusercontent.com/open-numbers/ddf--gapminder--systema_globalis/master/ddf--datapoints--cell_phones_total--by--geo--time.csv)\n",
        "- [Population (total), by country and year](https://raw.githubusercontent.com/open-numbers/ddf--gapminder--systema_globalis/master/ddf--datapoints--population_total--by--geo--time.csv)\n",
        "- [Geo country codes](https://github.com/open-numbers/ddf--gapminder--systema_globalis/blob/master/ddf--entities--geo--country.csv)\n",
        "\n",
        "These two links have everything you need to successfully complete the first part of this sprint challenge.\n",
        "- [Pandas documentation: Working with Text Data](https://pandas.pydata.org/pandas-docs/stable/text.html) (one question)\n",
        "- [Pandas Cheat Sheet](https://github.com/pandas-dev/pandas/blob/master/doc/cheatsheet/Pandas_Cheat_Sheet.pdf) (everything else)"
      ]
    },
    {
      "cell_type": "markdown",
      "metadata": {
        "colab_type": "text",
        "id": "wWEU2GemX68A"
      },
      "source": [
        "### Part 0. Load data\n",
        "\n",
        "You don't need to add or change anything here. Just run this cell and it loads the data for you, into three dataframes."
      ]
    },
    {
      "cell_type": "code",
      "metadata": {
        "colab_type": "code",
        "id": "bxKtSi5sRQOl",
        "colab": {}
      },
      "source": [
        "import pandas as pd\n",
        "\n",
        "cell_phones = pd.read_csv('https://raw.githubusercontent.com/open-numbers/ddf--gapminder--systema_globalis/master/ddf--datapoints--cell_phones_total--by--geo--time.csv')\n",
        "\n",
        "population = pd.read_csv('https://raw.githubusercontent.com/open-numbers/ddf--gapminder--systema_globalis/master/ddf--datapoints--population_total--by--geo--time.csv')\n",
        "\n",
        "geo_country_codes = (pd.read_csv('https://raw.githubusercontent.com/open-numbers/ddf--gapminder--systema_globalis/master/ddf--entities--geo--country.csv')\n",
        "                       .rename(columns={'country': 'geo', 'name': 'country'}))"
      ],
      "execution_count": 0,
      "outputs": []
    },
    {
      "cell_type": "markdown",
      "metadata": {
        "colab_type": "text",
        "id": "AZmVTeCsX9RC"
      },
      "source": [
        "### Part 1. Join data"
      ]
    },
    {
      "cell_type": "markdown",
      "metadata": {
        "colab_type": "text",
        "id": "GLzX58u4SfEy"
      },
      "source": [
        "First, join the `cell_phones` and `population` dataframes (with an inner join on `geo` and `time`).\n",
        "\n",
        "The resulting dataframe's shape should be: (8590, 4)"
      ]
    },
    {
      "cell_type": "code",
      "metadata": {
        "colab_type": "code",
        "id": "GVV7Hnj4SXBa",
        "colab": {
          "base_uri": "https://localhost:8080/",
          "height": 204
        },
        "outputId": "4f700b8d-ab19-4854-b553-c0f4565a6152"
      },
      "source": [
        "# Looking at its head \n",
        "cell_phones.head()"
      ],
      "execution_count": 87,
      "outputs": [
        {
          "output_type": "execute_result",
          "data": {
            "text/html": [
              "<div>\n",
              "<style scoped>\n",
              "    .dataframe tbody tr th:only-of-type {\n",
              "        vertical-align: middle;\n",
              "    }\n",
              "\n",
              "    .dataframe tbody tr th {\n",
              "        vertical-align: top;\n",
              "    }\n",
              "\n",
              "    .dataframe thead th {\n",
              "        text-align: right;\n",
              "    }\n",
              "</style>\n",
              "<table border=\"1\" class=\"dataframe\">\n",
              "  <thead>\n",
              "    <tr style=\"text-align: right;\">\n",
              "      <th></th>\n",
              "      <th>geo</th>\n",
              "      <th>time</th>\n",
              "      <th>cell_phones_total</th>\n",
              "    </tr>\n",
              "  </thead>\n",
              "  <tbody>\n",
              "    <tr>\n",
              "      <th>0</th>\n",
              "      <td>abw</td>\n",
              "      <td>1960</td>\n",
              "      <td>0.0</td>\n",
              "    </tr>\n",
              "    <tr>\n",
              "      <th>1</th>\n",
              "      <td>abw</td>\n",
              "      <td>1965</td>\n",
              "      <td>0.0</td>\n",
              "    </tr>\n",
              "    <tr>\n",
              "      <th>2</th>\n",
              "      <td>abw</td>\n",
              "      <td>1970</td>\n",
              "      <td>0.0</td>\n",
              "    </tr>\n",
              "    <tr>\n",
              "      <th>3</th>\n",
              "      <td>abw</td>\n",
              "      <td>1975</td>\n",
              "      <td>0.0</td>\n",
              "    </tr>\n",
              "    <tr>\n",
              "      <th>4</th>\n",
              "      <td>abw</td>\n",
              "      <td>1976</td>\n",
              "      <td>0.0</td>\n",
              "    </tr>\n",
              "  </tbody>\n",
              "</table>\n",
              "</div>"
            ],
            "text/plain": [
              "   geo  time  cell_phones_total\n",
              "0  abw  1960                0.0\n",
              "1  abw  1965                0.0\n",
              "2  abw  1970                0.0\n",
              "3  abw  1975                0.0\n",
              "4  abw  1976                0.0"
            ]
          },
          "metadata": {
            "tags": []
          },
          "execution_count": 87
        }
      ]
    },
    {
      "cell_type": "code",
      "metadata": {
        "id": "ABJMoMvjxPf0",
        "colab_type": "code",
        "colab": {
          "base_uri": "https://localhost:8080/",
          "height": 34
        },
        "outputId": "b7c09400-3161-4ca3-fff6-d9966f88da1c"
      },
      "source": [
        "# Looking at the shape of the dataframe \n",
        "cell_phones.shape"
      ],
      "execution_count": 88,
      "outputs": [
        {
          "output_type": "execute_result",
          "data": {
            "text/plain": [
              "(9215, 3)"
            ]
          },
          "metadata": {
            "tags": []
          },
          "execution_count": 88
        }
      ]
    },
    {
      "cell_type": "code",
      "metadata": {
        "id": "XaMv-SVcx4D_",
        "colab_type": "code",
        "colab": {
          "base_uri": "https://localhost:8080/",
          "height": 85
        },
        "outputId": "a44b0080-1414-4dbc-aa96-99fa9c4ee6ee"
      },
      "source": [
        "#Checking for NaNs\n",
        "cell_phones.isnull().sum()"
      ],
      "execution_count": 89,
      "outputs": [
        {
          "output_type": "execute_result",
          "data": {
            "text/plain": [
              "geo                  0\n",
              "time                 0\n",
              "cell_phones_total    0\n",
              "dtype: int64"
            ]
          },
          "metadata": {
            "tags": []
          },
          "execution_count": 89
        }
      ]
    },
    {
      "cell_type": "code",
      "metadata": {
        "id": "YbZNV2TUxGR5",
        "colab_type": "code",
        "colab": {
          "base_uri": "https://localhost:8080/",
          "height": 204
        },
        "outputId": "1c842b75-43e7-46ad-c7e5-ae7efd851fd7"
      },
      "source": [
        "# Looking at its head \n",
        "population.head()"
      ],
      "execution_count": 90,
      "outputs": [
        {
          "output_type": "execute_result",
          "data": {
            "text/html": [
              "<div>\n",
              "<style scoped>\n",
              "    .dataframe tbody tr th:only-of-type {\n",
              "        vertical-align: middle;\n",
              "    }\n",
              "\n",
              "    .dataframe tbody tr th {\n",
              "        vertical-align: top;\n",
              "    }\n",
              "\n",
              "    .dataframe thead th {\n",
              "        text-align: right;\n",
              "    }\n",
              "</style>\n",
              "<table border=\"1\" class=\"dataframe\">\n",
              "  <thead>\n",
              "    <tr style=\"text-align: right;\">\n",
              "      <th></th>\n",
              "      <th>geo</th>\n",
              "      <th>time</th>\n",
              "      <th>population_total</th>\n",
              "    </tr>\n",
              "  </thead>\n",
              "  <tbody>\n",
              "    <tr>\n",
              "      <th>0</th>\n",
              "      <td>afg</td>\n",
              "      <td>1800</td>\n",
              "      <td>3280000</td>\n",
              "    </tr>\n",
              "    <tr>\n",
              "      <th>1</th>\n",
              "      <td>afg</td>\n",
              "      <td>1801</td>\n",
              "      <td>3280000</td>\n",
              "    </tr>\n",
              "    <tr>\n",
              "      <th>2</th>\n",
              "      <td>afg</td>\n",
              "      <td>1802</td>\n",
              "      <td>3280000</td>\n",
              "    </tr>\n",
              "    <tr>\n",
              "      <th>3</th>\n",
              "      <td>afg</td>\n",
              "      <td>1803</td>\n",
              "      <td>3280000</td>\n",
              "    </tr>\n",
              "    <tr>\n",
              "      <th>4</th>\n",
              "      <td>afg</td>\n",
              "      <td>1804</td>\n",
              "      <td>3280000</td>\n",
              "    </tr>\n",
              "  </tbody>\n",
              "</table>\n",
              "</div>"
            ],
            "text/plain": [
              "   geo  time  population_total\n",
              "0  afg  1800           3280000\n",
              "1  afg  1801           3280000\n",
              "2  afg  1802           3280000\n",
              "3  afg  1803           3280000\n",
              "4  afg  1804           3280000"
            ]
          },
          "metadata": {
            "tags": []
          },
          "execution_count": 90
        }
      ]
    },
    {
      "cell_type": "code",
      "metadata": {
        "id": "38coxPTxxgDg",
        "colab_type": "code",
        "colab": {
          "base_uri": "https://localhost:8080/",
          "height": 34
        },
        "outputId": "b0b6cd35-05a6-4a44-df32-8d4850722eb5"
      },
      "source": [
        "# Looking at the shape of the dataframe \n",
        "population.shape"
      ],
      "execution_count": 91,
      "outputs": [
        {
          "output_type": "execute_result",
          "data": {
            "text/plain": [
              "(59297, 3)"
            ]
          },
          "metadata": {
            "tags": []
          },
          "execution_count": 91
        }
      ]
    },
    {
      "cell_type": "code",
      "metadata": {
        "id": "JXA3O5_cyGkO",
        "colab_type": "code",
        "colab": {
          "base_uri": "https://localhost:8080/",
          "height": 85
        },
        "outputId": "385135b9-42b3-4bab-f65c-42cce7b9f993"
      },
      "source": [
        "#Checking for NaNs\n",
        "population.isnull().sum()"
      ],
      "execution_count": 92,
      "outputs": [
        {
          "output_type": "execute_result",
          "data": {
            "text/plain": [
              "geo                 0\n",
              "time                0\n",
              "population_total    0\n",
              "dtype: int64"
            ]
          },
          "metadata": {
            "tags": []
          },
          "execution_count": 92
        }
      ]
    },
    {
      "cell_type": "code",
      "metadata": {
        "id": "1fj5wIAszseT",
        "colab_type": "code",
        "colab": {
          "base_uri": "https://localhost:8080/",
          "height": 1000
        },
        "outputId": "7ade4940-f8a8-4eb8-ed44-9e56d23bec5c"
      },
      "source": [
        "#inner joining on Geo and Time \n",
        "merge1 = pd.merge(cell_phones, population, how='inner', on=['geo','time'])\n",
        "print(merge1)"
      ],
      "execution_count": 93,
      "outputs": [
        {
          "output_type": "stream",
          "text": [
            "      geo  time  cell_phones_total  population_total\n",
            "0     afg  1960                0.0           8996351\n",
            "1     afg  1965                0.0           9938414\n",
            "2     afg  1970                0.0          11126123\n",
            "3     afg  1975                0.0          12590286\n",
            "4     afg  1976                0.0          12840299\n",
            "5     afg  1977                0.0          13067538\n",
            "6     afg  1978                0.0          13237734\n",
            "7     afg  1979                0.0          13306695\n",
            "8     afg  1980                0.0          13248370\n",
            "9     afg  1981                0.0          13053954\n",
            "10    afg  1982                0.0          12749645\n",
            "11    afg  1983                0.0          12389269\n",
            "12    afg  1984                0.0          12047115\n",
            "13    afg  1985                0.0          11783050\n",
            "14    afg  1986                0.0          11601041\n",
            "15    afg  1987                0.0          11502761\n",
            "16    afg  1988                0.0          11540888\n",
            "17    afg  1989                0.0          11777609\n",
            "18    afg  1990                0.0          12249114\n",
            "19    afg  1991                0.0          12993657\n",
            "20    afg  1992                0.0          13981231\n",
            "21    afg  1993                0.0          15095099\n",
            "22    afg  1994                0.0          16172719\n",
            "23    afg  1995                0.0          17099541\n",
            "24    afg  1996                0.0          17822884\n",
            "25    afg  1997                0.0          18381605\n",
            "26    afg  1998                0.0          18863999\n",
            "27    afg  1999                0.0          19403676\n",
            "28    afg  2000                0.0          20093756\n",
            "29    afg  2001                0.0          20966463\n",
            "...   ...   ...                ...               ...\n",
            "8560  zwe  1988                0.0           9604302\n",
            "8561  zwe  1989                0.0           9902540\n",
            "8562  zwe  1990                0.0          10183113\n",
            "8563  zwe  1991                0.0          10443043\n",
            "8564  zwe  1992                0.0          10682868\n",
            "8565  zwe  1993                0.0          10905756\n",
            "8566  zwe  1994                0.0          11116948\n",
            "8567  zwe  1995                0.0          11320346\n",
            "8568  zwe  1996                0.0          11518262\n",
            "8569  zwe  1997            5,734.0          11709997\n",
            "8570  zwe  1998           19,000.0          11893272\n",
            "8571  zwe  1999          174,000.0          12064537\n",
            "8572  zwe  2000          266,441.0          12222251\n",
            "8573  zwe  2001          314,002.0          12366165\n",
            "8574  zwe  2002          338,779.0          12500525\n",
            "8575  zwe  2003          363,651.0          12633897\n",
            "8576  zwe  2004          425,745.0          12777511\n",
            "8577  zwe  2005          647,110.0          12940032\n",
            "8578  zwe  2006          849,146.0          13124267\n",
            "8579  zwe  2007        1,225,654.0          13329909\n",
            "8580  zwe  2008        1,654,721.0          13558469\n",
            "8581  zwe  2009        3,991,000.0          13810599\n",
            "8582  zwe  2010        7,700,000.0          14086317\n",
            "8583  zwe  2011        9,200,000.0          14386649\n",
            "8584  zwe  2012       12,613,935.0          14710826\n",
            "8585  zwe  2013       13,633,167.0          15054506\n",
            "8586  zwe  2014       11,798,652.0          15411675\n",
            "8587  zwe  2015       12,757,410.0          15777451\n",
            "8588  zwe  2016       12,878,926.0          16150362\n",
            "8589  zwe  2017       14,092,104.0          16529904\n",
            "\n",
            "[8590 rows x 4 columns]\n"
          ],
          "name": "stdout"
        }
      ]
    },
    {
      "cell_type": "code",
      "metadata": {
        "id": "ZurXqs221VaA",
        "colab_type": "code",
        "colab": {
          "base_uri": "https://localhost:8080/",
          "height": 34
        },
        "outputId": "72178927-078f-49f0-c0bf-3e8d3bb4c983"
      },
      "source": [
        "# I'm just saying, I freaking did this. I'm so proud of myself\n",
        "# This is to check the final shape after the inner merge\n",
        "merge1.shape"
      ],
      "execution_count": 94,
      "outputs": [
        {
          "output_type": "execute_result",
          "data": {
            "text/plain": [
              "(8590, 4)"
            ]
          },
          "metadata": {
            "tags": []
          },
          "execution_count": 94
        }
      ]
    },
    {
      "cell_type": "markdown",
      "metadata": {
        "colab_type": "text",
        "id": "xsXpDbwwW241"
      },
      "source": [
        "Then, select the `geo` and `country` columns from the `geo_country_codes` dataframe, and join with your population and cell phone data.\n",
        "\n",
        "The resulting dataframe's shape should be: (8590, 5)"
      ]
    },
    {
      "cell_type": "code",
      "metadata": {
        "id": "JPYMjqil8p4d",
        "colab_type": "code",
        "colab": {
          "base_uri": "https://localhost:8080/",
          "height": 258
        },
        "outputId": "bd3f8a73-f0ed-4880-cb59-31fba14e53c3"
      },
      "source": [
        "#Looking at columns \n",
        "geo_country_codes.head()"
      ],
      "execution_count": 95,
      "outputs": [
        {
          "output_type": "execute_result",
          "data": {
            "text/html": [
              "<div>\n",
              "<style scoped>\n",
              "    .dataframe tbody tr th:only-of-type {\n",
              "        vertical-align: middle;\n",
              "    }\n",
              "\n",
              "    .dataframe tbody tr th {\n",
              "        vertical-align: top;\n",
              "    }\n",
              "\n",
              "    .dataframe thead th {\n",
              "        text-align: right;\n",
              "    }\n",
              "</style>\n",
              "<table border=\"1\" class=\"dataframe\">\n",
              "  <thead>\n",
              "    <tr style=\"text-align: right;\">\n",
              "      <th></th>\n",
              "      <th>geo</th>\n",
              "      <th>alt_5</th>\n",
              "      <th>alternative_1</th>\n",
              "      <th>alternative_2</th>\n",
              "      <th>alternative_3</th>\n",
              "      <th>alternative_4_cdiac</th>\n",
              "      <th>arb1</th>\n",
              "      <th>arb2</th>\n",
              "      <th>arb3</th>\n",
              "      <th>arb4</th>\n",
              "      <th>arb5</th>\n",
              "      <th>arb6</th>\n",
              "      <th>g77_and_oecd_countries</th>\n",
              "      <th>gapminder_list</th>\n",
              "      <th>god_id</th>\n",
              "      <th>gwid</th>\n",
              "      <th>income_groups</th>\n",
              "      <th>is--country</th>\n",
              "      <th>iso3166_1_alpha2</th>\n",
              "      <th>iso3166_1_alpha3</th>\n",
              "      <th>iso3166_1_numeric</th>\n",
              "      <th>iso3166_2</th>\n",
              "      <th>landlocked</th>\n",
              "      <th>latitude</th>\n",
              "      <th>longitude</th>\n",
              "      <th>main_religion_2008</th>\n",
              "      <th>country</th>\n",
              "      <th>pandg</th>\n",
              "      <th>un_state</th>\n",
              "      <th>unicode_region_subtag</th>\n",
              "      <th>upper_case_name</th>\n",
              "      <th>world_4region</th>\n",
              "      <th>world_6region</th>\n",
              "    </tr>\n",
              "  </thead>\n",
              "  <tbody>\n",
              "    <tr>\n",
              "      <th>0</th>\n",
              "      <td>abkh</td>\n",
              "      <td>NaN</td>\n",
              "      <td>NaN</td>\n",
              "      <td>NaN</td>\n",
              "      <td>NaN</td>\n",
              "      <td>NaN</td>\n",
              "      <td>NaN</td>\n",
              "      <td>NaN</td>\n",
              "      <td>NaN</td>\n",
              "      <td>NaN</td>\n",
              "      <td>NaN</td>\n",
              "      <td>NaN</td>\n",
              "      <td>others</td>\n",
              "      <td>Abkhazia</td>\n",
              "      <td>GE-AB</td>\n",
              "      <td>i0</td>\n",
              "      <td>NaN</td>\n",
              "      <td>True</td>\n",
              "      <td>NaN</td>\n",
              "      <td>NaN</td>\n",
              "      <td>nan</td>\n",
              "      <td>NaN</td>\n",
              "      <td>NaN</td>\n",
              "      <td>nan</td>\n",
              "      <td>nan</td>\n",
              "      <td>NaN</td>\n",
              "      <td>Abkhazia</td>\n",
              "      <td>NaN</td>\n",
              "      <td>False</td>\n",
              "      <td>NaN</td>\n",
              "      <td>NaN</td>\n",
              "      <td>europe</td>\n",
              "      <td>europe_central_asia</td>\n",
              "    </tr>\n",
              "    <tr>\n",
              "      <th>1</th>\n",
              "      <td>abw</td>\n",
              "      <td>NaN</td>\n",
              "      <td>NaN</td>\n",
              "      <td>NaN</td>\n",
              "      <td>NaN</td>\n",
              "      <td>Aruba</td>\n",
              "      <td>NaN</td>\n",
              "      <td>NaN</td>\n",
              "      <td>NaN</td>\n",
              "      <td>NaN</td>\n",
              "      <td>NaN</td>\n",
              "      <td>NaN</td>\n",
              "      <td>others</td>\n",
              "      <td>Aruba</td>\n",
              "      <td>AW</td>\n",
              "      <td>i12</td>\n",
              "      <td>high_income</td>\n",
              "      <td>True</td>\n",
              "      <td>AW</td>\n",
              "      <td>ABW</td>\n",
              "      <td>533.0</td>\n",
              "      <td>NaN</td>\n",
              "      <td>coastline</td>\n",
              "      <td>12.5</td>\n",
              "      <td>-69.96667</td>\n",
              "      <td>christian</td>\n",
              "      <td>Aruba</td>\n",
              "      <td>NaN</td>\n",
              "      <td>False</td>\n",
              "      <td>AW</td>\n",
              "      <td>ARUBA</td>\n",
              "      <td>americas</td>\n",
              "      <td>america</td>\n",
              "    </tr>\n",
              "    <tr>\n",
              "      <th>2</th>\n",
              "      <td>afg</td>\n",
              "      <td>NaN</td>\n",
              "      <td>Islamic Republic of Afghanistan</td>\n",
              "      <td>NaN</td>\n",
              "      <td>NaN</td>\n",
              "      <td>Afghanistan</td>\n",
              "      <td>NaN</td>\n",
              "      <td>NaN</td>\n",
              "      <td>NaN</td>\n",
              "      <td>NaN</td>\n",
              "      <td>NaN</td>\n",
              "      <td>NaN</td>\n",
              "      <td>g77</td>\n",
              "      <td>Afghanistan</td>\n",
              "      <td>AF</td>\n",
              "      <td>i1</td>\n",
              "      <td>low_income</td>\n",
              "      <td>True</td>\n",
              "      <td>AF</td>\n",
              "      <td>AFG</td>\n",
              "      <td>4.0</td>\n",
              "      <td>NaN</td>\n",
              "      <td>landlocked</td>\n",
              "      <td>33.0</td>\n",
              "      <td>66.0</td>\n",
              "      <td>muslim</td>\n",
              "      <td>Afghanistan</td>\n",
              "      <td>AFGHANISTAN</td>\n",
              "      <td>True</td>\n",
              "      <td>AF</td>\n",
              "      <td>AFGHANISTAN</td>\n",
              "      <td>asia</td>\n",
              "      <td>south_asia</td>\n",
              "    </tr>\n",
              "    <tr>\n",
              "      <th>3</th>\n",
              "      <td>ago</td>\n",
              "      <td>NaN</td>\n",
              "      <td>NaN</td>\n",
              "      <td>NaN</td>\n",
              "      <td>NaN</td>\n",
              "      <td>Angola</td>\n",
              "      <td>NaN</td>\n",
              "      <td>NaN</td>\n",
              "      <td>NaN</td>\n",
              "      <td>NaN</td>\n",
              "      <td>NaN</td>\n",
              "      <td>NaN</td>\n",
              "      <td>g77</td>\n",
              "      <td>Angola</td>\n",
              "      <td>AO</td>\n",
              "      <td>i7</td>\n",
              "      <td>upper_middle_income</td>\n",
              "      <td>True</td>\n",
              "      <td>AO</td>\n",
              "      <td>AGO</td>\n",
              "      <td>24.0</td>\n",
              "      <td>NaN</td>\n",
              "      <td>coastline</td>\n",
              "      <td>-12.5</td>\n",
              "      <td>18.5</td>\n",
              "      <td>christian</td>\n",
              "      <td>Angola</td>\n",
              "      <td>ANGOLA</td>\n",
              "      <td>True</td>\n",
              "      <td>AO</td>\n",
              "      <td>ANGOLA</td>\n",
              "      <td>africa</td>\n",
              "      <td>sub_saharan_africa</td>\n",
              "    </tr>\n",
              "    <tr>\n",
              "      <th>4</th>\n",
              "      <td>aia</td>\n",
              "      <td>NaN</td>\n",
              "      <td>NaN</td>\n",
              "      <td>NaN</td>\n",
              "      <td>NaN</td>\n",
              "      <td>NaN</td>\n",
              "      <td>NaN</td>\n",
              "      <td>NaN</td>\n",
              "      <td>NaN</td>\n",
              "      <td>NaN</td>\n",
              "      <td>NaN</td>\n",
              "      <td>NaN</td>\n",
              "      <td>others</td>\n",
              "      <td>Anguilla</td>\n",
              "      <td>AI</td>\n",
              "      <td>i8</td>\n",
              "      <td>NaN</td>\n",
              "      <td>True</td>\n",
              "      <td>AI</td>\n",
              "      <td>AIA</td>\n",
              "      <td>660.0</td>\n",
              "      <td>NaN</td>\n",
              "      <td>coastline</td>\n",
              "      <td>18.21667</td>\n",
              "      <td>-63.05</td>\n",
              "      <td>christian</td>\n",
              "      <td>Anguilla</td>\n",
              "      <td>NaN</td>\n",
              "      <td>False</td>\n",
              "      <td>AI</td>\n",
              "      <td>ANGUILLA</td>\n",
              "      <td>americas</td>\n",
              "      <td>america</td>\n",
              "    </tr>\n",
              "  </tbody>\n",
              "</table>\n",
              "</div>"
            ],
            "text/plain": [
              "    geo alt_5  ... world_4region        world_6region\n",
              "0  abkh   NaN  ...        europe  europe_central_asia\n",
              "1   abw   NaN  ...      americas              america\n",
              "2   afg   NaN  ...          asia           south_asia\n",
              "3   ago   NaN  ...        africa   sub_saharan_africa\n",
              "4   aia   NaN  ...      americas              america\n",
              "\n",
              "[5 rows x 33 columns]"
            ]
          },
          "metadata": {
            "tags": []
          },
          "execution_count": 95
        }
      ]
    },
    {
      "cell_type": "code",
      "metadata": {
        "colab_type": "code",
        "id": "Q2LaZta_W2CE",
        "colab": {
          "base_uri": "https://localhost:8080/",
          "height": 34
        },
        "outputId": "830643db-acca-4aca-cee2-35af2d585de3"
      },
      "source": [
        "# Checking Shape of DataFrame \n",
        "geo_country_codes.shape"
      ],
      "execution_count": 96,
      "outputs": [
        {
          "output_type": "execute_result",
          "data": {
            "text/plain": [
              "(273, 33)"
            ]
          },
          "metadata": {
            "tags": []
          },
          "execution_count": 96
        }
      ]
    },
    {
      "cell_type": "code",
      "metadata": {
        "id": "MSSI5g5q9tBr",
        "colab_type": "code",
        "colab": {
          "base_uri": "https://localhost:8080/",
          "height": 1000
        },
        "outputId": "cd4eb7c6-8d0f-41bb-8bef-e9f4a00c490b"
      },
      "source": [
        "#Checking Value Counts of Country Column\n",
        "geo_country_codes['country'].value_counts()"
      ],
      "execution_count": 97,
      "outputs": [
        {
          "output_type": "execute_result",
          "data": {
            "text/plain": [
              "Netherlands                       1\n",
              "Guernsey                          1\n",
              "Chad                              1\n",
              "Heard and McDonald Islands        1\n",
              "Morocco                           1\n",
              "St. Martin                        1\n",
              "Wallis et Futuna                  1\n",
              "Niue                              1\n",
              "Italy                             1\n",
              "Somalia                           1\n",
              "Aruba                             1\n",
              "Brazil                            1\n",
              "Ukraine                           1\n",
              "Bahamas                           1\n",
              "Holy See                          1\n",
              "Papua New Guinea                  1\n",
              "St.-Pierre-et-Miquelon            1\n",
              "Switzerland                       1\n",
              "Central African Republic          1\n",
              "Slovak Republic                   1\n",
              "Qatar                             1\n",
              "Argentina                         1\n",
              "Bolivia                           1\n",
              "India                             1\n",
              "South Ossetia                     1\n",
              "El Salvador                       1\n",
              "Norway                            1\n",
              "Egypt                             1\n",
              "British Indian Ocean Territory    1\n",
              "North Korea                       1\n",
              "                                 ..\n",
              "Colombia                          1\n",
              "Pitcairn                          1\n",
              "Haiti                             1\n",
              "Senegal                           1\n",
              "Martinique                        1\n",
              "Congo, Rep.                       1\n",
              "Anguilla                          1\n",
              "Liberia                           1\n",
              "Mexico                            1\n",
              "Finland                           1\n",
              "Cambodia                          1\n",
              "Grenada                           1\n",
              "Åland                             1\n",
              "Costa Rica                        1\n",
              "Mauritania                        1\n",
              "Poland                            1\n",
              "American Samoa                    1\n",
              "Serbia and Montenegro             1\n",
              "Oman                              1\n",
              "Libya                             1\n",
              "Cape Verde                        1\n",
              "Turkey                            1\n",
              "Guinea                            1\n",
              "Czechoslovakia                    1\n",
              "Antarctica                        1\n",
              "Fiji                              1\n",
              "Mayotte                           1\n",
              "Madagascar                        1\n",
              "Vietnam                           1\n",
              "Kiribati                          1\n",
              "Name: country, Length: 273, dtype: int64"
            ]
          },
          "metadata": {
            "tags": []
          },
          "execution_count": 97
        }
      ]
    },
    {
      "cell_type": "code",
      "metadata": {
        "id": "2ujdPuN2_FAO",
        "colab_type": "code",
        "colab": {}
      },
      "source": [
        "#Creating variable to hold country and geo columns\n",
        "column = ['geo', 'country']"
      ],
      "execution_count": 0,
      "outputs": []
    },
    {
      "cell_type": "code",
      "metadata": {
        "id": "apZ3IVPTAOi8",
        "colab_type": "code",
        "colab": {
          "base_uri": "https://localhost:8080/",
          "height": 1000
        },
        "outputId": "23e89dfa-2675-4ce3-9729-6a975d5ffb9e"
      },
      "source": [
        "final = pd.merge(merge1, geo_country_codes[column], how='inner', on='geo')\n",
        "print(final)"
      ],
      "execution_count": 99,
      "outputs": [
        {
          "output_type": "stream",
          "text": [
            "      geo  time  cell_phones_total  population_total      country\n",
            "0     afg  1960                0.0           8996351  Afghanistan\n",
            "1     afg  1965                0.0           9938414  Afghanistan\n",
            "2     afg  1970                0.0          11126123  Afghanistan\n",
            "3     afg  1975                0.0          12590286  Afghanistan\n",
            "4     afg  1976                0.0          12840299  Afghanistan\n",
            "5     afg  1977                0.0          13067538  Afghanistan\n",
            "6     afg  1978                0.0          13237734  Afghanistan\n",
            "7     afg  1979                0.0          13306695  Afghanistan\n",
            "8     afg  1980                0.0          13248370  Afghanistan\n",
            "9     afg  1981                0.0          13053954  Afghanistan\n",
            "10    afg  1982                0.0          12749645  Afghanistan\n",
            "11    afg  1983                0.0          12389269  Afghanistan\n",
            "12    afg  1984                0.0          12047115  Afghanistan\n",
            "13    afg  1985                0.0          11783050  Afghanistan\n",
            "14    afg  1986                0.0          11601041  Afghanistan\n",
            "15    afg  1987                0.0          11502761  Afghanistan\n",
            "16    afg  1988                0.0          11540888  Afghanistan\n",
            "17    afg  1989                0.0          11777609  Afghanistan\n",
            "18    afg  1990                0.0          12249114  Afghanistan\n",
            "19    afg  1991                0.0          12993657  Afghanistan\n",
            "20    afg  1992                0.0          13981231  Afghanistan\n",
            "21    afg  1993                0.0          15095099  Afghanistan\n",
            "22    afg  1994                0.0          16172719  Afghanistan\n",
            "23    afg  1995                0.0          17099541  Afghanistan\n",
            "24    afg  1996                0.0          17822884  Afghanistan\n",
            "25    afg  1997                0.0          18381605  Afghanistan\n",
            "26    afg  1998                0.0          18863999  Afghanistan\n",
            "27    afg  1999                0.0          19403676  Afghanistan\n",
            "28    afg  2000                0.0          20093756  Afghanistan\n",
            "29    afg  2001                0.0          20966463  Afghanistan\n",
            "...   ...   ...                ...               ...          ...\n",
            "8560  zwe  1988                0.0           9604302     Zimbabwe\n",
            "8561  zwe  1989                0.0           9902540     Zimbabwe\n",
            "8562  zwe  1990                0.0          10183113     Zimbabwe\n",
            "8563  zwe  1991                0.0          10443043     Zimbabwe\n",
            "8564  zwe  1992                0.0          10682868     Zimbabwe\n",
            "8565  zwe  1993                0.0          10905756     Zimbabwe\n",
            "8566  zwe  1994                0.0          11116948     Zimbabwe\n",
            "8567  zwe  1995                0.0          11320346     Zimbabwe\n",
            "8568  zwe  1996                0.0          11518262     Zimbabwe\n",
            "8569  zwe  1997            5,734.0          11709997     Zimbabwe\n",
            "8570  zwe  1998           19,000.0          11893272     Zimbabwe\n",
            "8571  zwe  1999          174,000.0          12064537     Zimbabwe\n",
            "8572  zwe  2000          266,441.0          12222251     Zimbabwe\n",
            "8573  zwe  2001          314,002.0          12366165     Zimbabwe\n",
            "8574  zwe  2002          338,779.0          12500525     Zimbabwe\n",
            "8575  zwe  2003          363,651.0          12633897     Zimbabwe\n",
            "8576  zwe  2004          425,745.0          12777511     Zimbabwe\n",
            "8577  zwe  2005          647,110.0          12940032     Zimbabwe\n",
            "8578  zwe  2006          849,146.0          13124267     Zimbabwe\n",
            "8579  zwe  2007        1,225,654.0          13329909     Zimbabwe\n",
            "8580  zwe  2008        1,654,721.0          13558469     Zimbabwe\n",
            "8581  zwe  2009        3,991,000.0          13810599     Zimbabwe\n",
            "8582  zwe  2010        7,700,000.0          14086317     Zimbabwe\n",
            "8583  zwe  2011        9,200,000.0          14386649     Zimbabwe\n",
            "8584  zwe  2012       12,613,935.0          14710826     Zimbabwe\n",
            "8585  zwe  2013       13,633,167.0          15054506     Zimbabwe\n",
            "8586  zwe  2014       11,798,652.0          15411675     Zimbabwe\n",
            "8587  zwe  2015       12,757,410.0          15777451     Zimbabwe\n",
            "8588  zwe  2016       12,878,926.0          16150362     Zimbabwe\n",
            "8589  zwe  2017       14,092,104.0          16529904     Zimbabwe\n",
            "\n",
            "[8590 rows x 5 columns]\n"
          ],
          "name": "stdout"
        }
      ]
    },
    {
      "cell_type": "code",
      "metadata": {
        "id": "S0WqIE4kBB1w",
        "colab_type": "code",
        "colab": {
          "base_uri": "https://localhost:8080/",
          "height": 34
        },
        "outputId": "ba6eb903-3763-4c22-9566-40437b2a3299"
      },
      "source": [
        "#Answer \n",
        "final.shape"
      ],
      "execution_count": 100,
      "outputs": [
        {
          "output_type": "execute_result",
          "data": {
            "text/plain": [
              "(8590, 5)"
            ]
          },
          "metadata": {
            "tags": []
          },
          "execution_count": 100
        }
      ]
    },
    {
      "cell_type": "markdown",
      "metadata": {
        "colab_type": "text",
        "id": "oK96Uj7vYjFX"
      },
      "source": [
        "### Part 2. Make features"
      ]
    },
    {
      "cell_type": "markdown",
      "metadata": {
        "colab_type": "text",
        "id": "AD2fBNrOYzCG"
      },
      "source": [
        "Calculate the number of cell phones per person, and add this column onto your dataframe.\n",
        "\n",
        "(You've calculated correctly if you get 1.220 cell phones per person in the United States in 2017.)"
      ]
    },
    {
      "cell_type": "code",
      "metadata": {
        "id": "YJ25cw9wIYEt",
        "colab_type": "code",
        "colab": {
          "base_uri": "https://localhost:8080/",
          "height": 1000
        },
        "outputId": "ab41caca-bb87-41fa-c36f-e2a0ebf98efc"
      },
      "source": [
        "# creating function to calculate phones per person \n",
        "phones_per_person =final['cell_phones_total'] / final['population_total']\n",
        "print(phones_per_person)"
      ],
      "execution_count": 101,
      "outputs": [
        {
          "output_type": "stream",
          "text": [
            "0                        0.0\n",
            "1                        0.0\n",
            "2                        0.0\n",
            "3                        0.0\n",
            "4                        0.0\n",
            "5                        0.0\n",
            "6                        0.0\n",
            "7                        0.0\n",
            "8                        0.0\n",
            "9                        0.0\n",
            "10                       0.0\n",
            "11                       0.0\n",
            "12                       0.0\n",
            "13                       0.0\n",
            "14                       0.0\n",
            "15                       0.0\n",
            "16                       0.0\n",
            "17                       0.0\n",
            "18                       0.0\n",
            "19                       0.0\n",
            "20                       0.0\n",
            "21                       0.0\n",
            "22                       0.0\n",
            "23                       0.0\n",
            "24                       0.0\n",
            "25                       0.0\n",
            "26                       0.0\n",
            "27                       0.0\n",
            "28                       0.0\n",
            "29                       0.0\n",
            "                ...         \n",
            "8560                     0.0\n",
            "8561                     0.0\n",
            "8562                     0.0\n",
            "8563                     0.0\n",
            "8564                     0.0\n",
            "8565                     0.0\n",
            "8566                     0.0\n",
            "8567                     0.0\n",
            "8568                     0.0\n",
            "8569   0.0004896670767720948\n",
            "8570   0.0015975418707316203\n",
            "8571     0.01442243494300693\n",
            "8572     0.02179966685351168\n",
            "8573    0.025392027358522227\n",
            "8574    0.027101181750366486\n",
            "8575    0.028783755321101636\n",
            "8576     0.03331986957397259\n",
            "8577    0.050008377104477024\n",
            "8578     0.06470045146140352\n",
            "8579     0.09194766445892466\n",
            "8580     0.12204335164980648\n",
            "8581      0.2889809486177971\n",
            "8582      0.5466297542501706\n",
            "8583      0.6394817862033055\n",
            "8584      0.8574593296120829\n",
            "8585      0.9055871378310255\n",
            "8586      0.7655658453737183\n",
            "8587       0.808584986256652\n",
            "8588      0.7974388437856688\n",
            "8589      0.8525218295278666\n",
            "Length: 8590, dtype: float64\n"
          ],
          "name": "stdout"
        }
      ]
    },
    {
      "cell_type": "code",
      "metadata": {
        "id": "-_842i-1Kxpi",
        "colab_type": "code",
        "colab": {
          "base_uri": "https://localhost:8080/",
          "height": 1000
        },
        "outputId": "13ab663d-8ad3-43ff-9e06-2791133486ef"
      },
      "source": [
        "final['phones_per_person']= phones_per_person\n",
        "print(final)"
      ],
      "execution_count": 102,
      "outputs": [
        {
          "output_type": "stream",
          "text": [
            "      geo  time  ...      country     phones_per_person\n",
            "0     afg  1960  ...  Afghanistan                   0.0\n",
            "1     afg  1965  ...  Afghanistan                   0.0\n",
            "2     afg  1970  ...  Afghanistan                   0.0\n",
            "3     afg  1975  ...  Afghanistan                   0.0\n",
            "4     afg  1976  ...  Afghanistan                   0.0\n",
            "5     afg  1977  ...  Afghanistan                   0.0\n",
            "6     afg  1978  ...  Afghanistan                   0.0\n",
            "7     afg  1979  ...  Afghanistan                   0.0\n",
            "8     afg  1980  ...  Afghanistan                   0.0\n",
            "9     afg  1981  ...  Afghanistan                   0.0\n",
            "10    afg  1982  ...  Afghanistan                   0.0\n",
            "11    afg  1983  ...  Afghanistan                   0.0\n",
            "12    afg  1984  ...  Afghanistan                   0.0\n",
            "13    afg  1985  ...  Afghanistan                   0.0\n",
            "14    afg  1986  ...  Afghanistan                   0.0\n",
            "15    afg  1987  ...  Afghanistan                   0.0\n",
            "16    afg  1988  ...  Afghanistan                   0.0\n",
            "17    afg  1989  ...  Afghanistan                   0.0\n",
            "18    afg  1990  ...  Afghanistan                   0.0\n",
            "19    afg  1991  ...  Afghanistan                   0.0\n",
            "20    afg  1992  ...  Afghanistan                   0.0\n",
            "21    afg  1993  ...  Afghanistan                   0.0\n",
            "22    afg  1994  ...  Afghanistan                   0.0\n",
            "23    afg  1995  ...  Afghanistan                   0.0\n",
            "24    afg  1996  ...  Afghanistan                   0.0\n",
            "25    afg  1997  ...  Afghanistan                   0.0\n",
            "26    afg  1998  ...  Afghanistan                   0.0\n",
            "27    afg  1999  ...  Afghanistan                   0.0\n",
            "28    afg  2000  ...  Afghanistan                   0.0\n",
            "29    afg  2001  ...  Afghanistan                   0.0\n",
            "...   ...   ...  ...          ...                   ...\n",
            "8560  zwe  1988  ...     Zimbabwe                   0.0\n",
            "8561  zwe  1989  ...     Zimbabwe                   0.0\n",
            "8562  zwe  1990  ...     Zimbabwe                   0.0\n",
            "8563  zwe  1991  ...     Zimbabwe                   0.0\n",
            "8564  zwe  1992  ...     Zimbabwe                   0.0\n",
            "8565  zwe  1993  ...     Zimbabwe                   0.0\n",
            "8566  zwe  1994  ...     Zimbabwe                   0.0\n",
            "8567  zwe  1995  ...     Zimbabwe                   0.0\n",
            "8568  zwe  1996  ...     Zimbabwe                   0.0\n",
            "8569  zwe  1997  ...     Zimbabwe 0.0004896670767720948\n",
            "8570  zwe  1998  ...     Zimbabwe 0.0015975418707316203\n",
            "8571  zwe  1999  ...     Zimbabwe   0.01442243494300693\n",
            "8572  zwe  2000  ...     Zimbabwe   0.02179966685351168\n",
            "8573  zwe  2001  ...     Zimbabwe  0.025392027358522227\n",
            "8574  zwe  2002  ...     Zimbabwe  0.027101181750366486\n",
            "8575  zwe  2003  ...     Zimbabwe  0.028783755321101636\n",
            "8576  zwe  2004  ...     Zimbabwe   0.03331986957397259\n",
            "8577  zwe  2005  ...     Zimbabwe  0.050008377104477024\n",
            "8578  zwe  2006  ...     Zimbabwe   0.06470045146140352\n",
            "8579  zwe  2007  ...     Zimbabwe   0.09194766445892466\n",
            "8580  zwe  2008  ...     Zimbabwe   0.12204335164980648\n",
            "8581  zwe  2009  ...     Zimbabwe    0.2889809486177971\n",
            "8582  zwe  2010  ...     Zimbabwe    0.5466297542501706\n",
            "8583  zwe  2011  ...     Zimbabwe    0.6394817862033055\n",
            "8584  zwe  2012  ...     Zimbabwe    0.8574593296120829\n",
            "8585  zwe  2013  ...     Zimbabwe    0.9055871378310255\n",
            "8586  zwe  2014  ...     Zimbabwe    0.7655658453737183\n",
            "8587  zwe  2015  ...     Zimbabwe     0.808584986256652\n",
            "8588  zwe  2016  ...     Zimbabwe    0.7974388437856688\n",
            "8589  zwe  2017  ...     Zimbabwe    0.8525218295278666\n",
            "\n",
            "[8590 rows x 6 columns]\n"
          ],
          "name": "stdout"
        }
      ]
    },
    {
      "cell_type": "code",
      "metadata": {
        "colab_type": "code",
        "id": "wXI9nQthYnFK",
        "colab": {
          "base_uri": "https://localhost:8080/",
          "height": 204
        },
        "outputId": "433f7629-490e-4dd2-a05c-93cdd06f2e9d"
      },
      "source": [
        "usa = final[final.country=='United States']\n",
        "usa.head()"
      ],
      "execution_count": 103,
      "outputs": [
        {
          "output_type": "execute_result",
          "data": {
            "text/html": [
              "<div>\n",
              "<style scoped>\n",
              "    .dataframe tbody tr th:only-of-type {\n",
              "        vertical-align: middle;\n",
              "    }\n",
              "\n",
              "    .dataframe tbody tr th {\n",
              "        vertical-align: top;\n",
              "    }\n",
              "\n",
              "    .dataframe thead th {\n",
              "        text-align: right;\n",
              "    }\n",
              "</style>\n",
              "<table border=\"1\" class=\"dataframe\">\n",
              "  <thead>\n",
              "    <tr style=\"text-align: right;\">\n",
              "      <th></th>\n",
              "      <th>geo</th>\n",
              "      <th>time</th>\n",
              "      <th>cell_phones_total</th>\n",
              "      <th>population_total</th>\n",
              "      <th>country</th>\n",
              "      <th>phones_per_person</th>\n",
              "    </tr>\n",
              "  </thead>\n",
              "  <tbody>\n",
              "    <tr>\n",
              "      <th>8092</th>\n",
              "      <td>usa</td>\n",
              "      <td>1960</td>\n",
              "      <td>0.0</td>\n",
              "      <td>186808228</td>\n",
              "      <td>United States</td>\n",
              "      <td>0.0</td>\n",
              "    </tr>\n",
              "    <tr>\n",
              "      <th>8093</th>\n",
              "      <td>usa</td>\n",
              "      <td>1965</td>\n",
              "      <td>0.0</td>\n",
              "      <td>199815540</td>\n",
              "      <td>United States</td>\n",
              "      <td>0.0</td>\n",
              "    </tr>\n",
              "    <tr>\n",
              "      <th>8094</th>\n",
              "      <td>usa</td>\n",
              "      <td>1970</td>\n",
              "      <td>0.0</td>\n",
              "      <td>209588150</td>\n",
              "      <td>United States</td>\n",
              "      <td>0.0</td>\n",
              "    </tr>\n",
              "    <tr>\n",
              "      <th>8095</th>\n",
              "      <td>usa</td>\n",
              "      <td>1975</td>\n",
              "      <td>0.0</td>\n",
              "      <td>219205296</td>\n",
              "      <td>United States</td>\n",
              "      <td>0.0</td>\n",
              "    </tr>\n",
              "    <tr>\n",
              "      <th>8096</th>\n",
              "      <td>usa</td>\n",
              "      <td>1976</td>\n",
              "      <td>0.0</td>\n",
              "      <td>221239215</td>\n",
              "      <td>United States</td>\n",
              "      <td>0.0</td>\n",
              "    </tr>\n",
              "  </tbody>\n",
              "</table>\n",
              "</div>"
            ],
            "text/plain": [
              "      geo  time  ...        country  phones_per_person\n",
              "8092  usa  1960  ...  United States                0.0\n",
              "8093  usa  1965  ...  United States                0.0\n",
              "8094  usa  1970  ...  United States                0.0\n",
              "8095  usa  1975  ...  United States                0.0\n",
              "8096  usa  1976  ...  United States                0.0\n",
              "\n",
              "[5 rows x 6 columns]"
            ]
          },
          "metadata": {
            "tags": []
          },
          "execution_count": 103
        }
      ]
    },
    {
      "cell_type": "code",
      "metadata": {
        "id": "DtHrL-agMM6H",
        "colab_type": "code",
        "colab": {
          "base_uri": "https://localhost:8080/",
          "height": 85
        },
        "outputId": "62784e37-4ffa-4dcd-c597-12c4239b1ee7"
      },
      "source": [
        "answer = usa[usa.time.isin([2017])]\n",
        "print(answer)"
      ],
      "execution_count": 104,
      "outputs": [
        {
          "output_type": "stream",
          "text": [
            "      geo  time  ...        country  phones_per_person\n",
            "8134  usa  2017  ...  United States 1.2201246847283354\n",
            "\n",
            "[1 rows x 6 columns]\n"
          ],
          "name": "stdout"
        }
      ]
    },
    {
      "cell_type": "markdown",
      "metadata": {
        "colab_type": "text",
        "id": "S3QFdsnRZMH6"
      },
      "source": [
        "Modify the `geo` column to make the geo codes uppercase instead of lowercase."
      ]
    },
    {
      "cell_type": "code",
      "metadata": {
        "colab_type": "code",
        "id": "93ADij8_YkOq",
        "colab": {
          "base_uri": "https://localhost:8080/",
          "height": 204
        },
        "outputId": "67a1c9d3-dad6-429f-b98f-ff2c0c48e30a"
      },
      "source": [
        "final['geo'] = final['geo'].str.upper()\n",
        "final.head()"
      ],
      "execution_count": 105,
      "outputs": [
        {
          "output_type": "execute_result",
          "data": {
            "text/html": [
              "<div>\n",
              "<style scoped>\n",
              "    .dataframe tbody tr th:only-of-type {\n",
              "        vertical-align: middle;\n",
              "    }\n",
              "\n",
              "    .dataframe tbody tr th {\n",
              "        vertical-align: top;\n",
              "    }\n",
              "\n",
              "    .dataframe thead th {\n",
              "        text-align: right;\n",
              "    }\n",
              "</style>\n",
              "<table border=\"1\" class=\"dataframe\">\n",
              "  <thead>\n",
              "    <tr style=\"text-align: right;\">\n",
              "      <th></th>\n",
              "      <th>geo</th>\n",
              "      <th>time</th>\n",
              "      <th>cell_phones_total</th>\n",
              "      <th>population_total</th>\n",
              "      <th>country</th>\n",
              "      <th>phones_per_person</th>\n",
              "    </tr>\n",
              "  </thead>\n",
              "  <tbody>\n",
              "    <tr>\n",
              "      <th>0</th>\n",
              "      <td>AFG</td>\n",
              "      <td>1960</td>\n",
              "      <td>0.0</td>\n",
              "      <td>8996351</td>\n",
              "      <td>Afghanistan</td>\n",
              "      <td>0.0</td>\n",
              "    </tr>\n",
              "    <tr>\n",
              "      <th>1</th>\n",
              "      <td>AFG</td>\n",
              "      <td>1965</td>\n",
              "      <td>0.0</td>\n",
              "      <td>9938414</td>\n",
              "      <td>Afghanistan</td>\n",
              "      <td>0.0</td>\n",
              "    </tr>\n",
              "    <tr>\n",
              "      <th>2</th>\n",
              "      <td>AFG</td>\n",
              "      <td>1970</td>\n",
              "      <td>0.0</td>\n",
              "      <td>11126123</td>\n",
              "      <td>Afghanistan</td>\n",
              "      <td>0.0</td>\n",
              "    </tr>\n",
              "    <tr>\n",
              "      <th>3</th>\n",
              "      <td>AFG</td>\n",
              "      <td>1975</td>\n",
              "      <td>0.0</td>\n",
              "      <td>12590286</td>\n",
              "      <td>Afghanistan</td>\n",
              "      <td>0.0</td>\n",
              "    </tr>\n",
              "    <tr>\n",
              "      <th>4</th>\n",
              "      <td>AFG</td>\n",
              "      <td>1976</td>\n",
              "      <td>0.0</td>\n",
              "      <td>12840299</td>\n",
              "      <td>Afghanistan</td>\n",
              "      <td>0.0</td>\n",
              "    </tr>\n",
              "  </tbody>\n",
              "</table>\n",
              "</div>"
            ],
            "text/plain": [
              "   geo  time  ...      country  phones_per_person\n",
              "0  AFG  1960  ...  Afghanistan                0.0\n",
              "1  AFG  1965  ...  Afghanistan                0.0\n",
              "2  AFG  1970  ...  Afghanistan                0.0\n",
              "3  AFG  1975  ...  Afghanistan                0.0\n",
              "4  AFG  1976  ...  Afghanistan                0.0\n",
              "\n",
              "[5 rows x 6 columns]"
            ]
          },
          "metadata": {
            "tags": []
          },
          "execution_count": 105
        }
      ]
    },
    {
      "cell_type": "markdown",
      "metadata": {
        "colab_type": "text",
        "id": "hlPDAFCfaF6C"
      },
      "source": [
        "### Part 3. Process data"
      ]
    },
    {
      "cell_type": "markdown",
      "metadata": {
        "colab_type": "text",
        "id": "k-pudNWve2SQ"
      },
      "source": [
        "Use the describe function, to describe your dataframe's numeric columns, and then its non-numeric columns.\n",
        "\n",
        "(You'll see the time period ranges from 1960 to 2017, and there are 195 unique countries represented.)"
      ]
    },
    {
      "cell_type": "code",
      "metadata": {
        "colab_type": "code",
        "id": "g26yemKre2Cu",
        "colab": {
          "base_uri": "https://localhost:8080/",
          "height": 390
        },
        "outputId": "ab3b7c59-175b-4b97-8e6f-3780b3ca9147"
      },
      "source": [
        "import numpy as np \n",
        "final.describe(include='all')"
      ],
      "execution_count": 106,
      "outputs": [
        {
          "output_type": "execute_result",
          "data": {
            "text/html": [
              "<div>\n",
              "<style scoped>\n",
              "    .dataframe tbody tr th:only-of-type {\n",
              "        vertical-align: middle;\n",
              "    }\n",
              "\n",
              "    .dataframe tbody tr th {\n",
              "        vertical-align: top;\n",
              "    }\n",
              "\n",
              "    .dataframe thead th {\n",
              "        text-align: right;\n",
              "    }\n",
              "</style>\n",
              "<table border=\"1\" class=\"dataframe\">\n",
              "  <thead>\n",
              "    <tr style=\"text-align: right;\">\n",
              "      <th></th>\n",
              "      <th>geo</th>\n",
              "      <th>time</th>\n",
              "      <th>cell_phones_total</th>\n",
              "      <th>population_total</th>\n",
              "      <th>country</th>\n",
              "      <th>phones_per_person</th>\n",
              "    </tr>\n",
              "  </thead>\n",
              "  <tbody>\n",
              "    <tr>\n",
              "      <th>count</th>\n",
              "      <td>8590</td>\n",
              "      <td>8,590.0</td>\n",
              "      <td>8,590.0</td>\n",
              "      <td>8,590.0</td>\n",
              "      <td>8590</td>\n",
              "      <td>8,590.0</td>\n",
              "    </tr>\n",
              "    <tr>\n",
              "      <th>unique</th>\n",
              "      <td>195</td>\n",
              "      <td>nan</td>\n",
              "      <td>nan</td>\n",
              "      <td>nan</td>\n",
              "      <td>195</td>\n",
              "      <td>nan</td>\n",
              "    </tr>\n",
              "    <tr>\n",
              "      <th>top</th>\n",
              "      <td>BEL</td>\n",
              "      <td>nan</td>\n",
              "      <td>nan</td>\n",
              "      <td>nan</td>\n",
              "      <td>Bulgaria</td>\n",
              "      <td>nan</td>\n",
              "    </tr>\n",
              "    <tr>\n",
              "      <th>freq</th>\n",
              "      <td>46</td>\n",
              "      <td>nan</td>\n",
              "      <td>nan</td>\n",
              "      <td>nan</td>\n",
              "      <td>46</td>\n",
              "      <td>nan</td>\n",
              "    </tr>\n",
              "    <tr>\n",
              "      <th>mean</th>\n",
              "      <td>NaN</td>\n",
              "      <td>1,994.1934807916182</td>\n",
              "      <td>9,004,949.642905472</td>\n",
              "      <td>29,838,230.581722934</td>\n",
              "      <td>NaN</td>\n",
              "      <td>0.2796385558059151</td>\n",
              "    </tr>\n",
              "    <tr>\n",
              "      <th>std</th>\n",
              "      <td>NaN</td>\n",
              "      <td>14.257974607310302</td>\n",
              "      <td>55,734,084.872179635</td>\n",
              "      <td>116,128,377.47477299</td>\n",
              "      <td>NaN</td>\n",
              "      <td>0.454246656214052</td>\n",
              "    </tr>\n",
              "    <tr>\n",
              "      <th>min</th>\n",
              "      <td>NaN</td>\n",
              "      <td>1,960.0</td>\n",
              "      <td>0.0</td>\n",
              "      <td>4,433.0</td>\n",
              "      <td>NaN</td>\n",
              "      <td>0.0</td>\n",
              "    </tr>\n",
              "    <tr>\n",
              "      <th>25%</th>\n",
              "      <td>NaN</td>\n",
              "      <td>1,983.0</td>\n",
              "      <td>0.0</td>\n",
              "      <td>1,456,148.0</td>\n",
              "      <td>NaN</td>\n",
              "      <td>0.0</td>\n",
              "    </tr>\n",
              "    <tr>\n",
              "      <th>50%</th>\n",
              "      <td>NaN</td>\n",
              "      <td>1,995.0</td>\n",
              "      <td>6,200.0</td>\n",
              "      <td>5,725,062.5</td>\n",
              "      <td>NaN</td>\n",
              "      <td>0.0015636266438163813</td>\n",
              "    </tr>\n",
              "    <tr>\n",
              "      <th>75%</th>\n",
              "      <td>NaN</td>\n",
              "      <td>2,006.0</td>\n",
              "      <td>1,697,652.0</td>\n",
              "      <td>18,105,812.0</td>\n",
              "      <td>NaN</td>\n",
              "      <td>0.4611491855201403</td>\n",
              "    </tr>\n",
              "    <tr>\n",
              "      <th>max</th>\n",
              "      <td>NaN</td>\n",
              "      <td>2,017.0</td>\n",
              "      <td>1,474,097,000.0</td>\n",
              "      <td>1,409,517,397.0</td>\n",
              "      <td>NaN</td>\n",
              "      <td>2.490242818521353</td>\n",
              "    </tr>\n",
              "  </tbody>\n",
              "</table>\n",
              "</div>"
            ],
            "text/plain": [
              "         geo                time  ...   country     phones_per_person\n",
              "count   8590             8,590.0  ...      8590               8,590.0\n",
              "unique   195                 nan  ...       195                   nan\n",
              "top      BEL                 nan  ...  Bulgaria                   nan\n",
              "freq      46                 nan  ...        46                   nan\n",
              "mean     NaN 1,994.1934807916182  ...       NaN    0.2796385558059151\n",
              "std      NaN  14.257974607310302  ...       NaN     0.454246656214052\n",
              "min      NaN             1,960.0  ...       NaN                   0.0\n",
              "25%      NaN             1,983.0  ...       NaN                   0.0\n",
              "50%      NaN             1,995.0  ...       NaN 0.0015636266438163813\n",
              "75%      NaN             2,006.0  ...       NaN    0.4611491855201403\n",
              "max      NaN             2,017.0  ...       NaN     2.490242818521353\n",
              "\n",
              "[11 rows x 6 columns]"
            ]
          },
          "metadata": {
            "tags": []
          },
          "execution_count": 106
        }
      ]
    },
    {
      "cell_type": "markdown",
      "metadata": {
        "colab_type": "text",
        "id": "zALg-RrYaLcI"
      },
      "source": [
        "In 2017, what were the top 5 countries with the most cell phones total?\n",
        "\n",
        "Your list of countries should have these totals:\n",
        "\n",
        "| country | cell phones total |\n",
        "|:-------:|:-----------------:|\n",
        "|    ?    |     1,474,097,000 |\n",
        "|    ?    |     1,168,902,277 |\n",
        "|    ?    |       458,923,202 |\n",
        "|    ?    |       395,881,000 |\n",
        "|    ?    |       236,488,548 |\n",
        "\n"
      ]
    },
    {
      "cell_type": "code",
      "metadata": {
        "colab_type": "code",
        "id": "JdlWvezHaZxD",
        "colab": {}
      },
      "source": [
        "# This optional code formats float numbers with comma separators\n",
        "pd.options.display.float_format = '{:,}'.format"
      ],
      "execution_count": 0,
      "outputs": []
    },
    {
      "cell_type": "code",
      "metadata": {
        "id": "8XgSphwrpB6e",
        "colab_type": "code",
        "colab": {
          "base_uri": "https://localhost:8080/",
          "height": 204
        },
        "outputId": "05b769cf-6a0d-441d-eea7-6de945c1008b"
      },
      "source": [
        "final[final.time ==2017].sort_values('cell_phones_total', ascending=False).head(5)"
      ],
      "execution_count": 108,
      "outputs": [
        {
          "output_type": "execute_result",
          "data": {
            "text/html": [
              "<div>\n",
              "<style scoped>\n",
              "    .dataframe tbody tr th:only-of-type {\n",
              "        vertical-align: middle;\n",
              "    }\n",
              "\n",
              "    .dataframe tbody tr th {\n",
              "        vertical-align: top;\n",
              "    }\n",
              "\n",
              "    .dataframe thead th {\n",
              "        text-align: right;\n",
              "    }\n",
              "</style>\n",
              "<table border=\"1\" class=\"dataframe\">\n",
              "  <thead>\n",
              "    <tr style=\"text-align: right;\">\n",
              "      <th></th>\n",
              "      <th>geo</th>\n",
              "      <th>time</th>\n",
              "      <th>cell_phones_total</th>\n",
              "      <th>population_total</th>\n",
              "      <th>country</th>\n",
              "      <th>phones_per_person</th>\n",
              "    </tr>\n",
              "  </thead>\n",
              "  <tbody>\n",
              "    <tr>\n",
              "      <th>1496</th>\n",
              "      <td>CHN</td>\n",
              "      <td>2017</td>\n",
              "      <td>1,474,097,000.0</td>\n",
              "      <td>1409517397</td>\n",
              "      <td>China</td>\n",
              "      <td>1.0458168186766978</td>\n",
              "    </tr>\n",
              "    <tr>\n",
              "      <th>3595</th>\n",
              "      <td>IND</td>\n",
              "      <td>2017</td>\n",
              "      <td>1,168,902,277.0</td>\n",
              "      <td>1339180127</td>\n",
              "      <td>India</td>\n",
              "      <td>0.8728491809526382</td>\n",
              "    </tr>\n",
              "    <tr>\n",
              "      <th>3549</th>\n",
              "      <td>IDN</td>\n",
              "      <td>2017</td>\n",
              "      <td>458,923,202.0</td>\n",
              "      <td>263991379</td>\n",
              "      <td>Indonesia</td>\n",
              "      <td>1.738402230172827</td>\n",
              "    </tr>\n",
              "    <tr>\n",
              "      <th>8134</th>\n",
              "      <td>USA</td>\n",
              "      <td>2017</td>\n",
              "      <td>395,881,000.0</td>\n",
              "      <td>324459463</td>\n",
              "      <td>United States</td>\n",
              "      <td>1.2201246847283354</td>\n",
              "    </tr>\n",
              "    <tr>\n",
              "      <th>1084</th>\n",
              "      <td>BRA</td>\n",
              "      <td>2017</td>\n",
              "      <td>236,488,548.0</td>\n",
              "      <td>209288278</td>\n",
              "      <td>Brazil</td>\n",
              "      <td>1.1299655683535224</td>\n",
              "    </tr>\n",
              "  </tbody>\n",
              "</table>\n",
              "</div>"
            ],
            "text/plain": [
              "      geo  time  ...        country  phones_per_person\n",
              "1496  CHN  2017  ...          China 1.0458168186766978\n",
              "3595  IND  2017  ...          India 0.8728491809526382\n",
              "3549  IDN  2017  ...      Indonesia  1.738402230172827\n",
              "8134  USA  2017  ...  United States 1.2201246847283354\n",
              "1084  BRA  2017  ...         Brazil 1.1299655683535224\n",
              "\n",
              "[5 rows x 6 columns]"
            ]
          },
          "metadata": {
            "tags": []
          },
          "execution_count": 108
        }
      ]
    },
    {
      "cell_type": "markdown",
      "metadata": {
        "colab_type": "text",
        "id": "03V3Wln_h0dj"
      },
      "source": [
        "2017 was the first year that China had more cell phones than people.\n",
        "\n",
        "What was the first year that the USA had more cell phones than people?"
      ]
    },
    {
      "cell_type": "code",
      "metadata": {
        "colab_type": "code",
        "id": "KONQkQZ3haNC",
        "colab": {
          "base_uri": "https://localhost:8080/",
          "height": 1000
        },
        "outputId": "ac064bea-5131-4d5d-da55-18bb27c81d8b"
      },
      "source": [
        "usa = final[final.country=='United States']\n",
        "usa[['time','cell_phones_total','population_total']]"
      ],
      "execution_count": 109,
      "outputs": [
        {
          "output_type": "execute_result",
          "data": {
            "text/html": [
              "<div>\n",
              "<style scoped>\n",
              "    .dataframe tbody tr th:only-of-type {\n",
              "        vertical-align: middle;\n",
              "    }\n",
              "\n",
              "    .dataframe tbody tr th {\n",
              "        vertical-align: top;\n",
              "    }\n",
              "\n",
              "    .dataframe thead th {\n",
              "        text-align: right;\n",
              "    }\n",
              "</style>\n",
              "<table border=\"1\" class=\"dataframe\">\n",
              "  <thead>\n",
              "    <tr style=\"text-align: right;\">\n",
              "      <th></th>\n",
              "      <th>time</th>\n",
              "      <th>cell_phones_total</th>\n",
              "      <th>population_total</th>\n",
              "    </tr>\n",
              "  </thead>\n",
              "  <tbody>\n",
              "    <tr>\n",
              "      <th>8092</th>\n",
              "      <td>1960</td>\n",
              "      <td>0.0</td>\n",
              "      <td>186808228</td>\n",
              "    </tr>\n",
              "    <tr>\n",
              "      <th>8093</th>\n",
              "      <td>1965</td>\n",
              "      <td>0.0</td>\n",
              "      <td>199815540</td>\n",
              "    </tr>\n",
              "    <tr>\n",
              "      <th>8094</th>\n",
              "      <td>1970</td>\n",
              "      <td>0.0</td>\n",
              "      <td>209588150</td>\n",
              "    </tr>\n",
              "    <tr>\n",
              "      <th>8095</th>\n",
              "      <td>1975</td>\n",
              "      <td>0.0</td>\n",
              "      <td>219205296</td>\n",
              "    </tr>\n",
              "    <tr>\n",
              "      <th>8096</th>\n",
              "      <td>1976</td>\n",
              "      <td>0.0</td>\n",
              "      <td>221239215</td>\n",
              "    </tr>\n",
              "    <tr>\n",
              "      <th>8097</th>\n",
              "      <td>1977</td>\n",
              "      <td>0.0</td>\n",
              "      <td>223324042</td>\n",
              "    </tr>\n",
              "    <tr>\n",
              "      <th>8098</th>\n",
              "      <td>1978</td>\n",
              "      <td>0.0</td>\n",
              "      <td>225449657</td>\n",
              "    </tr>\n",
              "    <tr>\n",
              "      <th>8099</th>\n",
              "      <td>1979</td>\n",
              "      <td>0.0</td>\n",
              "      <td>227599878</td>\n",
              "    </tr>\n",
              "    <tr>\n",
              "      <th>8100</th>\n",
              "      <td>1980</td>\n",
              "      <td>0.0</td>\n",
              "      <td>229763052</td>\n",
              "    </tr>\n",
              "    <tr>\n",
              "      <th>8101</th>\n",
              "      <td>1984</td>\n",
              "      <td>91,600.0</td>\n",
              "      <td>238573861</td>\n",
              "    </tr>\n",
              "    <tr>\n",
              "      <th>8102</th>\n",
              "      <td>1985</td>\n",
              "      <td>340,213.0</td>\n",
              "      <td>240824120</td>\n",
              "    </tr>\n",
              "    <tr>\n",
              "      <th>8103</th>\n",
              "      <td>1986</td>\n",
              "      <td>681,825.0</td>\n",
              "      <td>243098935</td>\n",
              "    </tr>\n",
              "    <tr>\n",
              "      <th>8104</th>\n",
              "      <td>1987</td>\n",
              "      <td>1,230,855.0</td>\n",
              "      <td>245402864</td>\n",
              "    </tr>\n",
              "    <tr>\n",
              "      <th>8105</th>\n",
              "      <td>1988</td>\n",
              "      <td>2,069,441.0</td>\n",
              "      <td>247739582</td>\n",
              "    </tr>\n",
              "    <tr>\n",
              "      <th>8106</th>\n",
              "      <td>1989</td>\n",
              "      <td>3,508,944.0</td>\n",
              "      <td>250113187</td>\n",
              "    </tr>\n",
              "    <tr>\n",
              "      <th>8107</th>\n",
              "      <td>1990</td>\n",
              "      <td>5,283,055.0</td>\n",
              "      <td>252529950</td>\n",
              "    </tr>\n",
              "    <tr>\n",
              "      <th>8108</th>\n",
              "      <td>1991</td>\n",
              "      <td>7,557,148.0</td>\n",
              "      <td>254974819</td>\n",
              "    </tr>\n",
              "    <tr>\n",
              "      <th>8109</th>\n",
              "      <td>1992</td>\n",
              "      <td>11,032,753.0</td>\n",
              "      <td>257454273</td>\n",
              "    </tr>\n",
              "    <tr>\n",
              "      <th>8110</th>\n",
              "      <td>1993</td>\n",
              "      <td>16,009,461.0</td>\n",
              "      <td>260020186</td>\n",
              "    </tr>\n",
              "    <tr>\n",
              "      <th>8111</th>\n",
              "      <td>1994</td>\n",
              "      <td>24,134,421.0</td>\n",
              "      <td>262741566</td>\n",
              "    </tr>\n",
              "    <tr>\n",
              "      <th>8112</th>\n",
              "      <td>1995</td>\n",
              "      <td>33,785,661.0</td>\n",
              "      <td>265658849</td>\n",
              "    </tr>\n",
              "    <tr>\n",
              "      <th>8113</th>\n",
              "      <td>1996</td>\n",
              "      <td>44,042,992.0</td>\n",
              "      <td>268803424</td>\n",
              "    </tr>\n",
              "    <tr>\n",
              "      <th>8114</th>\n",
              "      <td>1997</td>\n",
              "      <td>55,312,293.0</td>\n",
              "      <td>272136551</td>\n",
              "    </tr>\n",
              "    <tr>\n",
              "      <th>8115</th>\n",
              "      <td>1998</td>\n",
              "      <td>69,209,321.0</td>\n",
              "      <td>275542603</td>\n",
              "    </tr>\n",
              "    <tr>\n",
              "      <th>8116</th>\n",
              "      <td>1999</td>\n",
              "      <td>86,047,003.0</td>\n",
              "      <td>278862277</td>\n",
              "    </tr>\n",
              "    <tr>\n",
              "      <th>8117</th>\n",
              "      <td>2000</td>\n",
              "      <td>109,478,031.0</td>\n",
              "      <td>281982778</td>\n",
              "    </tr>\n",
              "    <tr>\n",
              "      <th>8118</th>\n",
              "      <td>2001</td>\n",
              "      <td>128,500,000.0</td>\n",
              "      <td>284852391</td>\n",
              "    </tr>\n",
              "    <tr>\n",
              "      <th>8119</th>\n",
              "      <td>2002</td>\n",
              "      <td>141,800,000.0</td>\n",
              "      <td>287506847</td>\n",
              "    </tr>\n",
              "    <tr>\n",
              "      <th>8120</th>\n",
              "      <td>2003</td>\n",
              "      <td>160,637,000.0</td>\n",
              "      <td>290027624</td>\n",
              "    </tr>\n",
              "    <tr>\n",
              "      <th>8121</th>\n",
              "      <td>2004</td>\n",
              "      <td>184,819,000.0</td>\n",
              "      <td>292539324</td>\n",
              "    </tr>\n",
              "    <tr>\n",
              "      <th>8122</th>\n",
              "      <td>2005</td>\n",
              "      <td>203,700,000.0</td>\n",
              "      <td>295129501</td>\n",
              "    </tr>\n",
              "    <tr>\n",
              "      <th>8123</th>\n",
              "      <td>2006</td>\n",
              "      <td>229,600,000.0</td>\n",
              "      <td>297827356</td>\n",
              "    </tr>\n",
              "    <tr>\n",
              "      <th>8124</th>\n",
              "      <td>2007</td>\n",
              "      <td>249,300,000.0</td>\n",
              "      <td>300595175</td>\n",
              "    </tr>\n",
              "    <tr>\n",
              "      <th>8125</th>\n",
              "      <td>2008</td>\n",
              "      <td>261,300,000.0</td>\n",
              "      <td>303374067</td>\n",
              "    </tr>\n",
              "    <tr>\n",
              "      <th>8126</th>\n",
              "      <td>2009</td>\n",
              "      <td>274,283,000.0</td>\n",
              "      <td>306076362</td>\n",
              "    </tr>\n",
              "    <tr>\n",
              "      <th>8127</th>\n",
              "      <td>2010</td>\n",
              "      <td>285,118,000.0</td>\n",
              "      <td>308641391</td>\n",
              "    </tr>\n",
              "    <tr>\n",
              "      <th>8128</th>\n",
              "      <td>2011</td>\n",
              "      <td>297,404,000.0</td>\n",
              "      <td>311051373</td>\n",
              "    </tr>\n",
              "    <tr>\n",
              "      <th>8129</th>\n",
              "      <td>2012</td>\n",
              "      <td>304,838,000.0</td>\n",
              "      <td>313335423</td>\n",
              "    </tr>\n",
              "    <tr>\n",
              "      <th>8130</th>\n",
              "      <td>2013</td>\n",
              "      <td>310,698,000.0</td>\n",
              "      <td>315536676</td>\n",
              "    </tr>\n",
              "    <tr>\n",
              "      <th>8131</th>\n",
              "      <td>2014</td>\n",
              "      <td>355,500,000.0</td>\n",
              "      <td>317718779</td>\n",
              "    </tr>\n",
              "    <tr>\n",
              "      <th>8132</th>\n",
              "      <td>2015</td>\n",
              "      <td>382,307,000.0</td>\n",
              "      <td>319929162</td>\n",
              "    </tr>\n",
              "    <tr>\n",
              "      <th>8133</th>\n",
              "      <td>2016</td>\n",
              "      <td>395,881,000.0</td>\n",
              "      <td>322179605</td>\n",
              "    </tr>\n",
              "    <tr>\n",
              "      <th>8134</th>\n",
              "      <td>2017</td>\n",
              "      <td>395,881,000.0</td>\n",
              "      <td>324459463</td>\n",
              "    </tr>\n",
              "  </tbody>\n",
              "</table>\n",
              "</div>"
            ],
            "text/plain": [
              "      time  cell_phones_total  population_total\n",
              "8092  1960                0.0         186808228\n",
              "8093  1965                0.0         199815540\n",
              "8094  1970                0.0         209588150\n",
              "8095  1975                0.0         219205296\n",
              "8096  1976                0.0         221239215\n",
              "8097  1977                0.0         223324042\n",
              "8098  1978                0.0         225449657\n",
              "8099  1979                0.0         227599878\n",
              "8100  1980                0.0         229763052\n",
              "8101  1984           91,600.0         238573861\n",
              "8102  1985          340,213.0         240824120\n",
              "8103  1986          681,825.0         243098935\n",
              "8104  1987        1,230,855.0         245402864\n",
              "8105  1988        2,069,441.0         247739582\n",
              "8106  1989        3,508,944.0         250113187\n",
              "8107  1990        5,283,055.0         252529950\n",
              "8108  1991        7,557,148.0         254974819\n",
              "8109  1992       11,032,753.0         257454273\n",
              "8110  1993       16,009,461.0         260020186\n",
              "8111  1994       24,134,421.0         262741566\n",
              "8112  1995       33,785,661.0         265658849\n",
              "8113  1996       44,042,992.0         268803424\n",
              "8114  1997       55,312,293.0         272136551\n",
              "8115  1998       69,209,321.0         275542603\n",
              "8116  1999       86,047,003.0         278862277\n",
              "8117  2000      109,478,031.0         281982778\n",
              "8118  2001      128,500,000.0         284852391\n",
              "8119  2002      141,800,000.0         287506847\n",
              "8120  2003      160,637,000.0         290027624\n",
              "8121  2004      184,819,000.0         292539324\n",
              "8122  2005      203,700,000.0         295129501\n",
              "8123  2006      229,600,000.0         297827356\n",
              "8124  2007      249,300,000.0         300595175\n",
              "8125  2008      261,300,000.0         303374067\n",
              "8126  2009      274,283,000.0         306076362\n",
              "8127  2010      285,118,000.0         308641391\n",
              "8128  2011      297,404,000.0         311051373\n",
              "8129  2012      304,838,000.0         313335423\n",
              "8130  2013      310,698,000.0         315536676\n",
              "8131  2014      355,500,000.0         317718779\n",
              "8132  2015      382,307,000.0         319929162\n",
              "8133  2016      395,881,000.0         322179605\n",
              "8134  2017      395,881,000.0         324459463"
            ]
          },
          "metadata": {
            "tags": []
          },
          "execution_count": 109
        }
      ]
    },
    {
      "cell_type": "code",
      "metadata": {
        "id": "t_EvXJs_dhPf",
        "colab_type": "code",
        "colab": {}
      },
      "source": [
        "#Answer is 2014"
      ],
      "execution_count": 0,
      "outputs": []
    },
    {
      "cell_type": "markdown",
      "metadata": {
        "colab_type": "text",
        "id": "6J7iwMnTg8KZ"
      },
      "source": [
        "### Part 4. Reshape data"
      ]
    },
    {
      "cell_type": "markdown",
      "metadata": {
        "colab_type": "text",
        "id": "LP9InazRkUxG"
      },
      "source": [
        "*This part is not needed to pass the sprint challenge, only to get a 3! Only work on this after completing the other sections.*\n",
        "\n",
        "Create a pivot table:\n",
        "- Columns: Years 2007—2017\n",
        "- Rows: China, India, United States, Indonesia, Brazil (order doesn't matter)\n",
        "- Values: Cell Phones Total\n",
        "\n",
        "The table's shape should be: (5, 11)"
      ]
    },
    {
      "cell_type": "code",
      "metadata": {
        "id": "Dlat5NW65pFO",
        "colab_type": "code",
        "colab": {}
      },
      "source": [
        "import seaborn as sns\n",
        "import matplotlib.pyplot as plt"
      ],
      "execution_count": 0,
      "outputs": []
    },
    {
      "cell_type": "code",
      "metadata": {
        "id": "7FVsKEnUxDWY",
        "colab_type": "code",
        "colab": {}
      },
      "source": [
        "countries = ('China','India','United States','Indonesia','Brazil')\n",
        "years = ['2007', '2008', '2009', '2010', '2011', '2012', '2013', '2014', '2015','2016','2017']"
      ],
      "execution_count": 0,
      "outputs": []
    },
    {
      "cell_type": "code",
      "metadata": {
        "id": "RU9H-bI639dP",
        "colab_type": "code",
        "colab": {
          "base_uri": "https://localhost:8080/",
          "height": 307
        },
        "outputId": "ff04a053-1c19-4f95-c978-6327a6a1815f"
      },
      "source": [
        "final.pivot_table(columns='years', index=countries, values='cell_phones_total').plot"
      ],
      "execution_count": 113,
      "outputs": [
        {
          "output_type": "error",
          "ename": "KeyError",
          "evalue": "ignored",
          "traceback": [
            "\u001b[0;31m---------------------------------------------------------------------------\u001b[0m",
            "\u001b[0;31mKeyError\u001b[0m                                  Traceback (most recent call last)",
            "\u001b[0;32m<ipython-input-113-1193d77064cc>\u001b[0m in \u001b[0;36m<module>\u001b[0;34m()\u001b[0m\n\u001b[0;32m----> 1\u001b[0;31m \u001b[0mfinal\u001b[0m\u001b[0;34m.\u001b[0m\u001b[0mpivot_table\u001b[0m\u001b[0;34m(\u001b[0m\u001b[0mcolumns\u001b[0m\u001b[0;34m=\u001b[0m\u001b[0;34m'years'\u001b[0m\u001b[0;34m,\u001b[0m \u001b[0mindex\u001b[0m\u001b[0;34m=\u001b[0m\u001b[0mcountries\u001b[0m\u001b[0;34m,\u001b[0m \u001b[0mvalues\u001b[0m\u001b[0;34m=\u001b[0m\u001b[0;34m'cell_phones_total'\u001b[0m\u001b[0;34m)\u001b[0m\u001b[0;34m.\u001b[0m\u001b[0mplot\u001b[0m\u001b[0;34m\u001b[0m\u001b[0;34m\u001b[0m\u001b[0m\n\u001b[0m",
            "\u001b[0;32m/usr/local/lib/python3.6/dist-packages/pandas/core/frame.py\u001b[0m in \u001b[0;36mpivot_table\u001b[0;34m(self, values, index, columns, aggfunc, fill_value, margins, dropna, margins_name)\u001b[0m\n\u001b[1;32m   5757\u001b[0m                            \u001b[0maggfunc\u001b[0m\u001b[0;34m=\u001b[0m\u001b[0maggfunc\u001b[0m\u001b[0;34m,\u001b[0m \u001b[0mfill_value\u001b[0m\u001b[0;34m=\u001b[0m\u001b[0mfill_value\u001b[0m\u001b[0;34m,\u001b[0m\u001b[0;34m\u001b[0m\u001b[0;34m\u001b[0m\u001b[0m\n\u001b[1;32m   5758\u001b[0m                            \u001b[0mmargins\u001b[0m\u001b[0;34m=\u001b[0m\u001b[0mmargins\u001b[0m\u001b[0;34m,\u001b[0m \u001b[0mdropna\u001b[0m\u001b[0;34m=\u001b[0m\u001b[0mdropna\u001b[0m\u001b[0;34m,\u001b[0m\u001b[0;34m\u001b[0m\u001b[0;34m\u001b[0m\u001b[0m\n\u001b[0;32m-> 5759\u001b[0;31m                            margins_name=margins_name)\n\u001b[0m\u001b[1;32m   5760\u001b[0m \u001b[0;34m\u001b[0m\u001b[0m\n\u001b[1;32m   5761\u001b[0m     \u001b[0;32mdef\u001b[0m \u001b[0mstack\u001b[0m\u001b[0;34m(\u001b[0m\u001b[0mself\u001b[0m\u001b[0;34m,\u001b[0m \u001b[0mlevel\u001b[0m\u001b[0;34m=\u001b[0m\u001b[0;34m-\u001b[0m\u001b[0;36m1\u001b[0m\u001b[0;34m,\u001b[0m \u001b[0mdropna\u001b[0m\u001b[0;34m=\u001b[0m\u001b[0;32mTrue\u001b[0m\u001b[0;34m)\u001b[0m\u001b[0;34m:\u001b[0m\u001b[0;34m\u001b[0m\u001b[0;34m\u001b[0m\u001b[0m\n",
            "\u001b[0;32m/usr/local/lib/python3.6/dist-packages/pandas/core/reshape/pivot.py\u001b[0m in \u001b[0;36mpivot_table\u001b[0;34m(data, values, index, columns, aggfunc, fill_value, margins, dropna, margins_name)\u001b[0m\n\u001b[1;32m     79\u001b[0m         \u001b[0mvalues\u001b[0m \u001b[0;34m=\u001b[0m \u001b[0mlist\u001b[0m\u001b[0;34m(\u001b[0m\u001b[0mvalues\u001b[0m\u001b[0;34m)\u001b[0m\u001b[0;34m\u001b[0m\u001b[0;34m\u001b[0m\u001b[0m\n\u001b[1;32m     80\u001b[0m \u001b[0;34m\u001b[0m\u001b[0m\n\u001b[0;32m---> 81\u001b[0;31m     \u001b[0mgrouped\u001b[0m \u001b[0;34m=\u001b[0m \u001b[0mdata\u001b[0m\u001b[0;34m.\u001b[0m\u001b[0mgroupby\u001b[0m\u001b[0;34m(\u001b[0m\u001b[0mkeys\u001b[0m\u001b[0;34m,\u001b[0m \u001b[0mobserved\u001b[0m\u001b[0;34m=\u001b[0m\u001b[0;32mFalse\u001b[0m\u001b[0;34m)\u001b[0m\u001b[0;34m\u001b[0m\u001b[0;34m\u001b[0m\u001b[0m\n\u001b[0m\u001b[1;32m     82\u001b[0m     \u001b[0magged\u001b[0m \u001b[0;34m=\u001b[0m \u001b[0mgrouped\u001b[0m\u001b[0;34m.\u001b[0m\u001b[0magg\u001b[0m\u001b[0;34m(\u001b[0m\u001b[0maggfunc\u001b[0m\u001b[0;34m)\u001b[0m\u001b[0;34m\u001b[0m\u001b[0;34m\u001b[0m\u001b[0m\n\u001b[1;32m     83\u001b[0m     \u001b[0;32mif\u001b[0m \u001b[0mdropna\u001b[0m \u001b[0;32mand\u001b[0m \u001b[0misinstance\u001b[0m\u001b[0;34m(\u001b[0m\u001b[0magged\u001b[0m\u001b[0;34m,\u001b[0m \u001b[0mABCDataFrame\u001b[0m\u001b[0;34m)\u001b[0m \u001b[0;32mand\u001b[0m \u001b[0mlen\u001b[0m\u001b[0;34m(\u001b[0m\u001b[0magged\u001b[0m\u001b[0;34m.\u001b[0m\u001b[0mcolumns\u001b[0m\u001b[0;34m)\u001b[0m\u001b[0;34m:\u001b[0m\u001b[0;34m\u001b[0m\u001b[0;34m\u001b[0m\u001b[0m\n",
            "\u001b[0;32m/usr/local/lib/python3.6/dist-packages/pandas/core/generic.py\u001b[0m in \u001b[0;36mgroupby\u001b[0;34m(self, by, axis, level, as_index, sort, group_keys, squeeze, observed, **kwargs)\u001b[0m\n\u001b[1;32m   7630\u001b[0m         return groupby(self, by=by, axis=axis, level=level, as_index=as_index,\n\u001b[1;32m   7631\u001b[0m                        \u001b[0msort\u001b[0m\u001b[0;34m=\u001b[0m\u001b[0msort\u001b[0m\u001b[0;34m,\u001b[0m \u001b[0mgroup_keys\u001b[0m\u001b[0;34m=\u001b[0m\u001b[0mgroup_keys\u001b[0m\u001b[0;34m,\u001b[0m \u001b[0msqueeze\u001b[0m\u001b[0;34m=\u001b[0m\u001b[0msqueeze\u001b[0m\u001b[0;34m,\u001b[0m\u001b[0;34m\u001b[0m\u001b[0;34m\u001b[0m\u001b[0m\n\u001b[0;32m-> 7632\u001b[0;31m                        observed=observed, **kwargs)\n\u001b[0m\u001b[1;32m   7633\u001b[0m \u001b[0;34m\u001b[0m\u001b[0m\n\u001b[1;32m   7634\u001b[0m     def asfreq(self, freq, method=None, how=None, normalize=False,\n",
            "\u001b[0;32m/usr/local/lib/python3.6/dist-packages/pandas/core/groupby/groupby.py\u001b[0m in \u001b[0;36mgroupby\u001b[0;34m(obj, by, **kwds)\u001b[0m\n\u001b[1;32m   2108\u001b[0m         \u001b[0;32mraise\u001b[0m \u001b[0mTypeError\u001b[0m\u001b[0;34m(\u001b[0m\u001b[0;34m'invalid type: {}'\u001b[0m\u001b[0;34m.\u001b[0m\u001b[0mformat\u001b[0m\u001b[0;34m(\u001b[0m\u001b[0mobj\u001b[0m\u001b[0;34m)\u001b[0m\u001b[0;34m)\u001b[0m\u001b[0;34m\u001b[0m\u001b[0;34m\u001b[0m\u001b[0m\n\u001b[1;32m   2109\u001b[0m \u001b[0;34m\u001b[0m\u001b[0m\n\u001b[0;32m-> 2110\u001b[0;31m     \u001b[0;32mreturn\u001b[0m \u001b[0mklass\u001b[0m\u001b[0;34m(\u001b[0m\u001b[0mobj\u001b[0m\u001b[0;34m,\u001b[0m \u001b[0mby\u001b[0m\u001b[0;34m,\u001b[0m \u001b[0;34m**\u001b[0m\u001b[0mkwds\u001b[0m\u001b[0;34m)\u001b[0m\u001b[0;34m\u001b[0m\u001b[0;34m\u001b[0m\u001b[0m\n\u001b[0m",
            "\u001b[0;32m/usr/local/lib/python3.6/dist-packages/pandas/core/groupby/groupby.py\u001b[0m in \u001b[0;36m__init__\u001b[0;34m(self, obj, keys, axis, level, grouper, exclusions, selection, as_index, sort, group_keys, squeeze, observed, **kwargs)\u001b[0m\n\u001b[1;32m    358\u001b[0m                                                     \u001b[0msort\u001b[0m\u001b[0;34m=\u001b[0m\u001b[0msort\u001b[0m\u001b[0;34m,\u001b[0m\u001b[0;34m\u001b[0m\u001b[0;34m\u001b[0m\u001b[0m\n\u001b[1;32m    359\u001b[0m                                                     \u001b[0mobserved\u001b[0m\u001b[0;34m=\u001b[0m\u001b[0mobserved\u001b[0m\u001b[0;34m,\u001b[0m\u001b[0;34m\u001b[0m\u001b[0;34m\u001b[0m\u001b[0m\n\u001b[0;32m--> 360\u001b[0;31m                                                     mutated=self.mutated)\n\u001b[0m\u001b[1;32m    361\u001b[0m \u001b[0;34m\u001b[0m\u001b[0m\n\u001b[1;32m    362\u001b[0m         \u001b[0mself\u001b[0m\u001b[0;34m.\u001b[0m\u001b[0mobj\u001b[0m \u001b[0;34m=\u001b[0m \u001b[0mobj\u001b[0m\u001b[0;34m\u001b[0m\u001b[0;34m\u001b[0m\u001b[0m\n",
            "\u001b[0;32m/usr/local/lib/python3.6/dist-packages/pandas/core/groupby/grouper.py\u001b[0m in \u001b[0;36m_get_grouper\u001b[0;34m(obj, key, axis, level, sort, observed, mutated, validate)\u001b[0m\n\u001b[1;32m    576\u001b[0m                 \u001b[0min_axis\u001b[0m\u001b[0;34m,\u001b[0m \u001b[0mname\u001b[0m\u001b[0;34m,\u001b[0m \u001b[0mlevel\u001b[0m\u001b[0;34m,\u001b[0m \u001b[0mgpr\u001b[0m \u001b[0;34m=\u001b[0m \u001b[0;32mFalse\u001b[0m\u001b[0;34m,\u001b[0m \u001b[0;32mNone\u001b[0m\u001b[0;34m,\u001b[0m \u001b[0mgpr\u001b[0m\u001b[0;34m,\u001b[0m \u001b[0;32mNone\u001b[0m\u001b[0;34m\u001b[0m\u001b[0;34m\u001b[0m\u001b[0m\n\u001b[1;32m    577\u001b[0m             \u001b[0;32melse\u001b[0m\u001b[0;34m:\u001b[0m\u001b[0;34m\u001b[0m\u001b[0;34m\u001b[0m\u001b[0m\n\u001b[0;32m--> 578\u001b[0;31m                 \u001b[0;32mraise\u001b[0m \u001b[0mKeyError\u001b[0m\u001b[0;34m(\u001b[0m\u001b[0mgpr\u001b[0m\u001b[0;34m)\u001b[0m\u001b[0;34m\u001b[0m\u001b[0;34m\u001b[0m\u001b[0m\n\u001b[0m\u001b[1;32m    579\u001b[0m         \u001b[0;32melif\u001b[0m \u001b[0misinstance\u001b[0m\u001b[0;34m(\u001b[0m\u001b[0mgpr\u001b[0m\u001b[0;34m,\u001b[0m \u001b[0mGrouper\u001b[0m\u001b[0;34m)\u001b[0m \u001b[0;32mand\u001b[0m \u001b[0mgpr\u001b[0m\u001b[0;34m.\u001b[0m\u001b[0mkey\u001b[0m \u001b[0;32mis\u001b[0m \u001b[0;32mnot\u001b[0m \u001b[0;32mNone\u001b[0m\u001b[0;34m:\u001b[0m\u001b[0;34m\u001b[0m\u001b[0;34m\u001b[0m\u001b[0m\n\u001b[1;32m    580\u001b[0m             \u001b[0;31m# Add key to exclusions\u001b[0m\u001b[0;34m\u001b[0m\u001b[0;34m\u001b[0m\u001b[0;34m\u001b[0m\u001b[0m\n",
            "\u001b[0;31mKeyError\u001b[0m: 'China'"
          ]
        }
      ]
    },
    {
      "cell_type": "markdown",
      "metadata": {
        "colab_type": "text",
        "id": "CNKTu2DCnAo6"
      },
      "source": [
        "Sort these 5 countries, by biggest increase in cell phones from 2007 to 2017.\n",
        "\n",
        "Which country had 935,282,277 more cell phones in 2017 versus 2007?"
      ]
    },
    {
      "cell_type": "code",
      "metadata": {
        "colab_type": "code",
        "id": "O4Aecv1fmQlj",
        "colab": {}
      },
      "source": [
        ""
      ],
      "execution_count": 0,
      "outputs": []
    },
    {
      "cell_type": "markdown",
      "metadata": {
        "colab_type": "text",
        "id": "7iHkMsa3Rorh"
      },
      "source": [
        "If you have the time and curiosity, what other questions can you ask and answer with this data?"
      ]
    },
    {
      "cell_type": "markdown",
      "metadata": {
        "id": "vtcAJOAV9k3X",
        "colab_type": "text"
      },
      "source": [
        "## Data Storytelling\n",
        "\n",
        "In this part of the sprint challenge you'll work with a dataset from **FiveThirtyEight's article, [Every Guest Jon Stewart Ever Had On ‘The Daily Show’](https://fivethirtyeight.com/features/every-guest-jon-stewart-ever-had-on-the-daily-show/)**!"
      ]
    },
    {
      "cell_type": "markdown",
      "metadata": {
        "id": "UtjoIqvm9yFg",
        "colab_type": "text"
      },
      "source": [
        "### Part 0 — Run this starter code\n",
        "\n",
        "You don't need to add or change anything here. Just run this cell and it loads the data for you, into a dataframe named `df`.\n",
        "\n",
        "(You can explore the data if you want, but it's not required to pass the Sprint Challenge.)"
      ]
    },
    {
      "cell_type": "code",
      "metadata": {
        "id": "tYujbhIz9zKU",
        "colab_type": "code",
        "colab": {}
      },
      "source": [
        "%matplotlib inline\n",
        "import matplotlib.pyplot as plt\n",
        "import numpy as np\n",
        "import pandas as pd\n",
        "\n",
        "url = 'https://raw.githubusercontent.com/fivethirtyeight/data/master/daily-show-guests/daily_show_guests.csv'\n",
        "df = pd.read_csv(url).rename(columns={'YEAR': 'Year', 'Raw_Guest_List': 'Guest'})\n",
        "\n",
        "def get_occupation(group):\n",
        "    if group in ['Acting', 'Comedy', 'Musician']:\n",
        "        return 'Acting, Comedy & Music'\n",
        "    elif group in ['Media', 'media']:\n",
        "        return 'Media'\n",
        "    elif group in ['Government', 'Politician', 'Political Aide']:\n",
        "        return 'Government and Politics'\n",
        "    else:\n",
        "        return 'Other'\n",
        "      \n",
        "df['Occupation'] = df['Group'].apply(get_occupation)"
      ],
      "execution_count": 0,
      "outputs": []
    },
    {
      "cell_type": "markdown",
      "metadata": {
        "id": "5hjnMK3j90Rp",
        "colab_type": "text"
      },
      "source": [
        "### Part 1 — What's the breakdown of guests’ occupations per year?\n",
        "\n",
        "For example, in 1999, what percentage of guests were actors, comedians, or musicians? What percentage were in the media? What percentage were in politics? What percentage were from another occupation?\n",
        "\n",
        "Then, what about in 2000? In 2001? And so on, up through 2015.\n",
        "\n",
        "So, **for each year of _The Daily Show_, calculate the percentage of guests from each occupation:**\n",
        "- Acting, Comedy & Music\n",
        "- Government and Politics\n",
        "- Media\n",
        "- Other\n",
        "\n",
        "#### Hints:\n",
        "You can make a crosstab. (See pandas documentation for examples, explanation, and parameters.)\n",
        "\n",
        "You'll know you've calculated correctly when the percentage of \"Acting, Comedy & Music\" guests is 90.36% in 1999, and 45% in 2015."
      ]
    },
    {
      "cell_type": "code",
      "metadata": {
        "id": "EbobyiHv916F",
        "colab_type": "code",
        "colab": {}
      },
      "source": [
        "df.head()"
      ],
      "execution_count": 0,
      "outputs": []
    },
    {
      "cell_type": "code",
      "metadata": {
        "id": "S40AwYTOACWC",
        "colab_type": "code",
        "colab": {}
      },
      "source": [
        "# Creating a crosstab to view the data better\n",
        "pd.crosstab(df['Occupation'], df['Year'])"
      ],
      "execution_count": 0,
      "outputs": []
    },
    {
      "cell_type": "code",
      "metadata": {
        "id": "-KPglf7WDdQs",
        "colab_type": "code",
        "colab": {}
      },
      "source": [
        "pd.crosstab(df['Year'], df['Occupation'], normalize='index')"
      ],
      "execution_count": 0,
      "outputs": []
    },
    {
      "cell_type": "markdown",
      "metadata": {
        "id": "Kiq56dZb92LY",
        "colab_type": "text"
      },
      "source": [
        "### Part 2 — Recreate this explanatory visualization:"
      ]
    },
    {
      "cell_type": "code",
      "metadata": {
        "id": "HKLDMWwP98vz",
        "colab_type": "code",
        "colab": {}
      },
      "source": [
        "from IPython.display import display, Image\n",
        "png = 'https://fivethirtyeight.com/wp-content/uploads/2015/08/hickey-datalab-dailyshow.png'\n",
        "example = Image(png, width=500)\n",
        "display(example)"
      ],
      "execution_count": 0,
      "outputs": []
    },
    {
      "cell_type": "markdown",
      "metadata": {
        "id": "TK5fDIag9-F6",
        "colab_type": "text"
      },
      "source": [
        "**Hints:**\n",
        "- You can choose any Python visualization library you want. I've verified the plot can be reproduced with matplotlib, pandas plot, or seaborn. I assume other libraries like altair or plotly would work too.\n",
        "- If you choose to use seaborn, you may want to upgrade the version to 0.9.0.\n",
        "\n",
        "**Expectations:** Your plot should include:\n",
        "- 3 lines visualizing \"occupation of guests, by year.\" The shapes of the lines should look roughly identical to 538's example. Each line should be a different color. (But you don't need to use the _same_ colors as 538.)\n",
        "- Legend or labels for the lines. (But you don't need each label positioned next to its line or colored like 538.)\n",
        "- Title in the upper left: _\"Who Got To Be On 'The Daily Show'?\"_ with more visual emphasis than the subtitle. (Bolder and/or larger font.)\n",
        "- Subtitle underneath the title: _\"Occupation of guests, by year\"_\n",
        "\n",
        "**Optional Bonus Challenge:**\n",
        "- Give your plot polished aesthetics, with improved resemblance to the 538 example.\n",
        "- Any visual element not specifically mentioned in the expectations is an optional bonus."
      ]
    },
    {
      "cell_type": "code",
      "metadata": {
        "id": "yyxGDcYyIllT",
        "colab_type": "code",
        "colab": {}
      },
      "source": [
        "ct = pd.crosstab(df['Year'], df['Occupation'], normalize='index')\n",
        "ct"
      ],
      "execution_count": 0,
      "outputs": []
    },
    {
      "cell_type": "code",
      "metadata": {
        "id": "ERWK5mbBJzPh",
        "colab_type": "code",
        "colab": {}
      },
      "source": [
        "ct.plot(kind='bar', legend=True);"
      ],
      "execution_count": 0,
      "outputs": []
    }
  ]
}