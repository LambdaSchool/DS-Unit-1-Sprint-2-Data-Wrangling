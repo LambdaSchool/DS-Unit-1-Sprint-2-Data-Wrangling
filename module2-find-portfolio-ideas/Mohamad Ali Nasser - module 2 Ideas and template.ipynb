{
  "nbformat": 4,
  "nbformat_minor": 0,
  "metadata": {
    "colab": {
      "name": "Untitled5.ipynb",
      "version": "0.3.2",
      "provenance": [],
      "include_colab_link": true
    },
    "kernelspec": {
      "name": "python3",
      "display_name": "Python 3"
    }
  },
  "cells": [
    {
      "cell_type": "markdown",
      "metadata": {
        "id": "view-in-github",
        "colab_type": "text"
      },
      "source": [
        "<a href=\"https://colab.research.google.com/github/cartman12/DS-Unit-1-Sprint-2-Data-Wrangling-and-Storytelling/blob/master/module2-find-portfolio-ideas/Mohamad%20Ali%20Nasser%20-%20module%202%20Ideas%20and%20template.ipynb\" target=\"_parent\"><img src=\"https://colab.research.google.com/assets/colab-badge.svg\" alt=\"Open In Colab\"/></a>"
      ]
    },
    {
      "metadata": {
        "id": "tiUTr-Thj4fo",
        "colab_type": "code",
        "colab": {
          "base_uri": "https://localhost:8080/",
          "height": 51
        },
        "outputId": "d548155b-680c-4e96-f6d3-2ff8053dfb45"
      },
      "cell_type": "code",
      "source": [
        "# “Geographic Variation: A key metric ranked by city, state, or country. For example, if you’re a car rental site, you can rank cities by where rental cars are most expensive.”\n",
        "\n",
        "print('1 - Ranking different cities based on the growth of the freelance market vs that of the emplyed market' +'\\n' + \"2 - Car crash by city\")"
      ],
      "execution_count": 5,
      "outputs": [
        {
          "output_type": "stream",
          "text": [
            "1 - Ranking differetn cities based on the growth of the freelance market vs that of the emplyed marker\n",
            "2 - Car crash by city\n"
          ],
          "name": "stdout"
        }
      ]
    },
    {
      "metadata": {
        "id": "qaNg0WR9kEME",
        "colab_type": "code",
        "colab": {
          "base_uri": "https://localhost:8080/",
          "height": 68
        },
        "outputId": "0a0f4577-15a6-431a-a1ca-83a2b927c082"
      },
      "cell_type": "code",
      "source": [
        "# “Trend related to the news: What do you know that is relevant to a story or topic dominating the news cycle? For example, do you have some data related to the election’s aftermath?”\n",
        "print('1 - Trend between monthly goverment economic rates (economic growth, unemployment, etc.) in relation to news trends' +'\\n' + \"2 - Stock fluctuation based on news\" + '\\n' + '3- Football team performancebased on recent mediatrends')"
      ],
      "execution_count": 6,
      "outputs": [
        {
          "output_type": "stream",
          "text": [
            "1 - Trend between monthly goverment economic rates (economic growth, unemployment, etc.) in relation to news trends\n",
            "2 - Stock fluctuation based on news\n",
            "3- Football team performancebased on recent mediatrends\n"
          ],
          "name": "stdout"
        }
      ]
    },
    {
      "metadata": {
        "id": "o9NZAqVokGiP",
        "colab_type": "code",
        "colab": {}
      },
      "cell_type": "code",
      "source": [
        "# “Who does that? A demographic breakdown of how people use your product or engage in an activity you can track. This is the right template if your product is particularly interesting and its usage is representative of the market.”\n",
        "print('1 - Who visits acertain page in an ecommrce site' +'\\n' + \"2 - Who buys a gun in the USA\")"
      ],
      "execution_count": 0,
      "outputs": []
    },
    {
      "metadata": {
        "id": "UFOJEPgZkINU",
        "colab_type": "code",
        "colab": {}
      },
      "cell_type": "code",
      "source": [
        "# “Secret data answering a question people care about: These are fun analyses that you could imagine people discussing at a cocktail party. A dating app might explain how many messages, on average, users have to send to get one date.”\n",
        "print('1 - Profile Image in linkedin vs the number of offers received' +'\\n' + \"2 - Number of comments on tweets you do and price of your stock if you are a ceo\")"
      ],
      "execution_count": 0,
      "outputs": []
    },
    {
      "metadata": {
        "id": "j8R08f7jkKsk",
        "colab_type": "code",
        "colab": {}
      },
      "cell_type": "code",
      "source": [
        "# “Data you have that is valuable to businesses: If businesses read your article, will they make more money? Can you benchmark conversion rates, things that lead to higher sales or lower costs?”\n",
        "print('1 - Which sales channel, social media, direct, email has a higher conversion rate ' +'\\n' + \"2 - Which items are being looked at the most vs being bought the most\")"
      ],
      "execution_count": 0,
      "outputs": []
    },
    {
      "metadata": {
        "id": "-gpq9Q1EkOA_",
        "colab_type": "code",
        "colab": {}
      },
      "cell_type": "code",
      "source": [
        "# “What’s the most popular X? Market share rankings and “horse race” data. There is something particularly satisfying about definitive rankings of what is the most and least popular thing in a category people care about. If your company monitors grocery store transactions, what are the most popular cereals?”\n",
        "print('1 - What is more popular basketball or football')"
      ],
      "execution_count": 0,
      "outputs": []
    },
    {
      "metadata": {
        "id": "sAVlqEWRkPnH",
        "colab_type": "code",
        "colab": {}
      },
      "cell_type": "code",
      "source": [
        "# “Cost/Money rankings: What is the most expensive? Who makes the most money? If you sell dolls, which brands sell for the most money in the secondary market?”\n",
        "print('1 - Which item makes a more money, high margin item but lower turnover or high turnover but lower margin ' +'\\n' + \"2 - Which cars sell the most money in the secondary market\")"
      ],
      "execution_count": 0,
      "outputs": []
    }
  ]
}