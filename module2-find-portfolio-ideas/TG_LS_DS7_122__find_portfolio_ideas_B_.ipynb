{
  "nbformat": 4,
  "nbformat_minor": 0,
  "metadata": {
    "colab": {
      "name": "TG-LS_DS7_122 _find-portfolio-ideas_B/.ipynb",
      "version": "0.3.2",
      "provenance": [],
      "collapsed_sections": [],
      "include_colab_link": true
    },
    "kernelspec": {
      "name": "python3",
      "display_name": "Python 3"
    }
  },
  "cells": [
    {
      "cell_type": "markdown",
      "metadata": {
        "id": "view-in-github",
        "colab_type": "text"
      },
      "source": [
        "<a href=\"https://colab.research.google.com/github/ToddMG/DS-Unit-1-Sprint-2-Data-Wrangling-and-Storytelling/blob/master/module2-find-portfolio-ideas/TG_LS_DS7_122__find_portfolio_ideas_B_.ipynb\" target=\"_parent\"><img src=\"https://colab.research.google.com/assets/colab-badge.svg\" alt=\"Open In Colab\"/></a>"
      ]
    },
    {
      "cell_type": "markdown",
      "metadata": {
        "id": "sumb7jk85P9B",
        "colab_type": "text"
      },
      "source": [
        "\n",
        "# Ideas for data storytelling"
      ]
    },
    {
      "cell_type": "markdown",
      "metadata": {
        "id": "AUc7j2Kg5WW4",
        "colab_type": "text"
      },
      "source": [
        "## You\n",
        "\n",
        "\n",
        "> What do you care about?\n",
        "\n",
        "Snowboarding, games, AI, Classical Piano\n",
        "\n",
        "> What do you know about?\n",
        "\n",
        "A lot of statistical data in games, I like being aware of my chance of success in a game depending on what the variables of success are.\n",
        "\n",
        "> What decisions do you face?\n",
        "\n",
        "In respect to snowboarding, and piano, I'm wondering if I'm too old to become really good at either activity. Which is why I want my storytelling to relate to either of those activities. I could focus on games, but I already do that too much."
      ]
    },
    {
      "cell_type": "markdown",
      "metadata": {
        "id": "m7h3csmg6RH3",
        "colab_type": "text"
      },
      "source": [
        "## Seven templates\n",
        "Training Kit (https://learn.lambdaschool.com/ds/module/recedjanlbpqxic2r) explains the seven templates from Priceonomics.\n",
        "\n",
        "Can you apply the templates to your topics? \n",
        "\n",
        "1. Geographic Variation\n",
        "\n",
        "Successful pro snowboarders by age and country.\n",
        "\n",
        "2. Trend related to the news\n",
        "\n",
        "Increase in popularity of multi-resort passes as a factor of pricing\n",
        "\n",
        "3. Who does that?\n",
        "\n",
        "Pro Snowboarders: Ayumu Hirano, Shaun White, Max Parrot, etc\n",
        "Multi-resort Passes: IKON, Epic, etc\n",
        "\n",
        "4. Answering a question people care about\n",
        "\n",
        "Daily value of lift tickets vs multi-resort passes/season passes\n",
        "\n",
        "5. Valuable to businesses\n",
        "\n",
        "Likelihood of purchasing a new snowboard versus a used snowboard/skis\n",
        "\n",
        "6. What's the most popular?\n",
        "\n",
        "??\n",
        "\n",
        "7. Cost/Money rankings\n",
        "\n",
        "Cost of new snowboards as a factor of year of production"
      ]
    },
    {
      "cell_type": "markdown",
      "metadata": {
        "id": "I2CWGwhQ7QX3",
        "colab_type": "text"
      },
      "source": [
        "## Misconceptions\n",
        "What misconceptions do people have about your topic?\n",
        "\n",
        "Snowboarding/skiing is always expensive.\n",
        "\n",
        "Lift tickets are always better if you're staying short term."
      ]
    },
    {
      "cell_type": "markdown",
      "metadata": {
        "id": "JvsbhkJJ7xvy",
        "colab_type": "text"
      },
      "source": [
        "## Examples\n",
        "* What data storytelling example inspires you?\n",
        "\n",
        "https://www.earnyourturns.com/wp-content/uploads/2013/08/SIA13-BC-market_discipline-trends_15x.gif\n",
        "\n",
        "* Could you do a new hypothesis, for the smae question?\n",
        "\n",
        "It's more of an observation, but yes, if I had access to the data that is.\n",
        "\n",
        "* Could you do a new question, for the same topic?\n",
        "\n",
        "Sure, I could ask what the popularity of snowboarding is as a percentage of skiing over the years.\n",
        " \n",
        "* Could you do a new topic, with the same \"style\"?\n",
        "\n",
        "Yes.\n",
        "\n"
      ]
    },
    {
      "cell_type": "markdown",
      "metadata": {
        "id": "nvrnTJjH8KBK",
        "colab_type": "text"
      },
      "source": [
        "##Data\n",
        "Where could you search for data about your topic?\n",
        "\n",
        "http://www.nsaa.org/press/industry-stats/"
      ]
    },
    {
      "cell_type": "markdown",
      "metadata": {
        "id": "q12NBbcrYImD",
        "colab_type": "text"
      },
      "source": [
        "#2nd Template"
      ]
    },
    {
      "cell_type": "markdown",
      "metadata": {
        "colab_type": "text",
        "id": "f-Z0wrpcYU2i"
      },
      "source": [
        "## Seven templates\n",
        "Training Kit (https://learn.lambdaschool.com/ds/module/recedjanlbpqxic2r) explains the seven templates from Priceonomics.\n",
        "\n",
        "Can you apply the templates to your topics? \n",
        "\n",
        "1. Geographic Variation\n",
        "\n",
        "Professional pianists by a factor of age and year.\n",
        "\n",
        "Age at which a pianist can play a specific song. \n",
        "\n",
        "Time of training for an advanced pianist.\n",
        "\n",
        "2. Trend related to the news\n",
        "\n",
        "Increase in pianists as the popularity of Japanese Animation increases.\n",
        "\n",
        "3. Who does that?\n",
        "\n",
        "Professional pianists are plentiful in Japan.\n",
        "\n",
        "4. Answering a question people care about\n",
        "\n",
        "Time of training for an advanced pianist.\n",
        "\n",
        "5. Valuable to businesses\n",
        "\n",
        "Likelihood for beginners to purchase electric pianos versus grand pianos.\n",
        "\n",
        "6. What's the most popular?\n",
        "\n",
        "??\n",
        "\n",
        "7. Cost/Money rankings\n",
        "\n",
        "Cost of piano as a factor of year/decade, and the increase in popularity as price decreases (accessibility)"
      ]
    },
    {
      "cell_type": "markdown",
      "metadata": {
        "colab_type": "text",
        "id": "RGV6Tr81ZoIm"
      },
      "source": [
        "## Misconceptions\n",
        "What misconceptions do people have about your topic?\n",
        "\n",
        "Learning piano is impossible/takes plenty of years of full dedication.\n",
        "\n",
        "Pianos are too expensive and cost of beginner entry is too high.\n",
        "\n",
        "It's impossible to teach yourself piano and the cost of tutors is too high."
      ]
    },
    {
      "cell_type": "markdown",
      "metadata": {
        "colab_type": "text",
        "id": "4HS40X_CZ1sM"
      },
      "source": [
        "## Examples\n",
        "* What data storytelling example inspires you?\n",
        "\n",
        "https://i.imgur.com/pZY87Sh.png\n",
        "\n",
        "https://i.imgur.com/26FyuBi.png\n",
        "\n",
        "https://i.imgur.com/59s7wk6.png\n",
        "\n",
        "* Could you do a new hypothesis, for the same question?\n",
        "\n",
        "With the right data, yes.\n",
        "\n",
        "* Could you do a new question, for the same topic?\n",
        "\n",
        "Absolutely, I wrote them all above.\n",
        " \n",
        "* Could you do a new topic, with the same \"style\"?\n",
        "\n",
        "Yes.\n",
        "\n"
      ]
    },
    {
      "cell_type": "markdown",
      "metadata": {
        "id": "3fU_CVou8Os_",
        "colab_type": "text"
      },
      "source": [
        "#Assignment!\n",
        "Fill out the above templace *twice*, for two different ideas.\n",
        "\n",
        "Then compare and contrast and select one as the idea you're leaning toward working on for your project week."
      ]
    }
  ]
}