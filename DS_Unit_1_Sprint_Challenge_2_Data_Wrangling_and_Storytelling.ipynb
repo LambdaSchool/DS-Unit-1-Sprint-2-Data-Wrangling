{
 "cells": [
  {
   "cell_type": "markdown",
   "metadata": {
    "colab_type": "text",
    "id": "4yMHi_PX9hEz"
   },
   "source": [
    "# Data Science Unit 1 Sprint Challenge 2\n",
    "\n",
    "## Data Wrangling and Storytelling\n",
    "\n",
    "Taming data from its raw form into informative insights and stories."
   ]
  },
  {
   "cell_type": "markdown",
   "metadata": {
    "colab_type": "text",
    "id": "9wIvtOss9H_i"
   },
   "source": [
    "## Data Wrangling\n",
    "\n",
    "In this Sprint Challenge you will first \"wrangle\" some data from [Gapminder](https://www.gapminder.org/about-gapminder/), a Swedish non-profit co-founded by Hans Rosling. \"Gapminder produces free teaching resources making the world understandable based on reliable statistics.\"\n",
    "- [Cell phones (total), by country and year](https://raw.githubusercontent.com/open-numbers/ddf--gapminder--systema_globalis/master/ddf--datapoints--cell_phones_total--by--geo--time.csv)\n",
    "- [Population (total), by country and year](https://raw.githubusercontent.com/open-numbers/ddf--gapminder--systema_globalis/master/ddf--datapoints--population_total--by--geo--time.csv)\n",
    "- [Geo country codes](https://github.com/open-numbers/ddf--gapminder--systema_globalis/blob/master/ddf--entities--geo--country.csv)\n",
    "\n",
    "These two links have everything you need to successfully complete the first part of this sprint challenge.\n",
    "- [Pandas documentation: Working with Text Data](https://pandas.pydata.org/pandas-docs/stable/text.html) (one question)\n",
    "- [Pandas Cheat Sheet](https://github.com/pandas-dev/pandas/blob/master/doc/cheatsheet/Pandas_Cheat_Sheet.pdf) (everything else)"
   ]
  },
  {
   "cell_type": "markdown",
   "metadata": {
    "colab_type": "text",
    "id": "wWEU2GemX68A"
   },
   "source": [
    "### Part 0. Load data\n",
    "\n",
    "You don't need to add or change anything here. Just run this cell and it loads the data for you, into three dataframes."
   ]
  },
  {
   "cell_type": "code",
   "execution_count": 3,
   "metadata": {},
   "outputs": [],
   "source": [
    "%matplotlib inline\n",
    "import matplotlib.pyplot as plt\n",
    "import numpy as np\n",
    "from IPython.display import display, Image"
   ]
  },
  {
   "cell_type": "code",
   "execution_count": 4,
   "metadata": {
    "colab": {},
    "colab_type": "code",
    "id": "bxKtSi5sRQOl"
   },
   "outputs": [],
   "source": [
    "import pandas as pd\n",
    "\n",
    "cell_phones = pd.read_csv('https://raw.githubusercontent.com/open-numbers/ddf--gapminder--systema_globalis/master/ddf--datapoints--cell_phones_total--by--geo--time.csv')\n",
    "\n",
    "population = pd.read_csv('https://raw.githubusercontent.com/open-numbers/ddf--gapminder--systema_globalis/master/ddf--datapoints--population_total--by--geo--time.csv')\n",
    "\n",
    "geo_country_codes = (pd.read_csv('https://raw.githubusercontent.com/open-numbers/ddf--gapminder--systema_globalis/master/ddf--entities--geo--country.csv')\n",
    "                       .rename(columns={'country': 'geo', 'name': 'country'}))"
   ]
  },
  {
   "cell_type": "markdown",
   "metadata": {
    "colab_type": "text",
    "id": "AZmVTeCsX9RC"
   },
   "source": [
    "### Part 1. Join data"
   ]
  },
  {
   "cell_type": "markdown",
   "metadata": {
    "colab_type": "text",
    "id": "GLzX58u4SfEy"
   },
   "source": [
    "First, join the `cell_phones` and `population` dataframes (with an inner join on `geo` and `time`).\n",
    "\n",
    "The resulting dataframe's shape should be: (8590, 4)"
   ]
  },
  {
   "cell_type": "code",
   "execution_count": 5,
   "metadata": {
    "colab": {},
    "colab_type": "code",
    "id": "GVV7Hnj4SXBa"
   },
   "outputs": [
    {
     "data": {
      "text/html": [
       "<div>\n",
       "<style scoped>\n",
       "    .dataframe tbody tr th:only-of-type {\n",
       "        vertical-align: middle;\n",
       "    }\n",
       "\n",
       "    .dataframe tbody tr th {\n",
       "        vertical-align: top;\n",
       "    }\n",
       "\n",
       "    .dataframe thead th {\n",
       "        text-align: right;\n",
       "    }\n",
       "</style>\n",
       "<table border=\"1\" class=\"dataframe\">\n",
       "  <thead>\n",
       "    <tr style=\"text-align: right;\">\n",
       "      <th></th>\n",
       "      <th>geo</th>\n",
       "      <th>time</th>\n",
       "      <th>cell_phones_total</th>\n",
       "      <th>population_total</th>\n",
       "    </tr>\n",
       "  </thead>\n",
       "  <tbody>\n",
       "    <tr>\n",
       "      <th>0</th>\n",
       "      <td>afg</td>\n",
       "      <td>1960</td>\n",
       "      <td>0.0</td>\n",
       "      <td>8996351</td>\n",
       "    </tr>\n",
       "    <tr>\n",
       "      <th>1</th>\n",
       "      <td>afg</td>\n",
       "      <td>1965</td>\n",
       "      <td>0.0</td>\n",
       "      <td>9938414</td>\n",
       "    </tr>\n",
       "    <tr>\n",
       "      <th>2</th>\n",
       "      <td>afg</td>\n",
       "      <td>1970</td>\n",
       "      <td>0.0</td>\n",
       "      <td>11126123</td>\n",
       "    </tr>\n",
       "    <tr>\n",
       "      <th>3</th>\n",
       "      <td>afg</td>\n",
       "      <td>1975</td>\n",
       "      <td>0.0</td>\n",
       "      <td>12590286</td>\n",
       "    </tr>\n",
       "    <tr>\n",
       "      <th>4</th>\n",
       "      <td>afg</td>\n",
       "      <td>1976</td>\n",
       "      <td>0.0</td>\n",
       "      <td>12840299</td>\n",
       "    </tr>\n",
       "  </tbody>\n",
       "</table>\n",
       "</div>"
      ],
      "text/plain": [
       "   geo  time  cell_phones_total  population_total\n",
       "0  afg  1960                0.0           8996351\n",
       "1  afg  1965                0.0           9938414\n",
       "2  afg  1970                0.0          11126123\n",
       "3  afg  1975                0.0          12590286\n",
       "4  afg  1976                0.0          12840299"
      ]
     },
     "execution_count": 5,
     "metadata": {},
     "output_type": "execute_result"
    }
   ],
   "source": [
    "cell_phones.shape # 9215, 3)\n",
    "cell_phones.head()\n",
    "population_cell_phones = pd.merge(cell_phones,population,on=['geo','time'])\n",
    "population_cell_phones.shape\n",
    "population_cell_phones.head()"
   ]
  },
  {
   "cell_type": "markdown",
   "metadata": {
    "colab_type": "text",
    "id": "xsXpDbwwW241"
   },
   "source": [
    "Then, select the `geo` and `country` columns from the `geo_country_codes` dataframe, and join with your population and cell phone data.\n",
    "\n",
    "The resulting dataframe's shape should be: (8590, 5)"
   ]
  },
  {
   "cell_type": "code",
   "execution_count": 6,
   "metadata": {
    "colab": {},
    "colab_type": "code",
    "id": "Q2LaZta_W2CE"
   },
   "outputs": [
    {
     "name": "stdout",
     "output_type": "stream",
     "text": [
      "(8590, 5)\n"
     ]
    },
    {
     "data": {
      "text/html": [
       "<div>\n",
       "<style scoped>\n",
       "    .dataframe tbody tr th:only-of-type {\n",
       "        vertical-align: middle;\n",
       "    }\n",
       "\n",
       "    .dataframe tbody tr th {\n",
       "        vertical-align: top;\n",
       "    }\n",
       "\n",
       "    .dataframe thead th {\n",
       "        text-align: right;\n",
       "    }\n",
       "</style>\n",
       "<table border=\"1\" class=\"dataframe\">\n",
       "  <thead>\n",
       "    <tr style=\"text-align: right;\">\n",
       "      <th></th>\n",
       "      <th>geo</th>\n",
       "      <th>time</th>\n",
       "      <th>cell_phones_total</th>\n",
       "      <th>population_total</th>\n",
       "      <th>country</th>\n",
       "    </tr>\n",
       "  </thead>\n",
       "  <tbody>\n",
       "    <tr>\n",
       "      <th>0</th>\n",
       "      <td>afg</td>\n",
       "      <td>1960</td>\n",
       "      <td>0.0</td>\n",
       "      <td>8996351</td>\n",
       "      <td>Afghanistan</td>\n",
       "    </tr>\n",
       "    <tr>\n",
       "      <th>1</th>\n",
       "      <td>afg</td>\n",
       "      <td>1965</td>\n",
       "      <td>0.0</td>\n",
       "      <td>9938414</td>\n",
       "      <td>Afghanistan</td>\n",
       "    </tr>\n",
       "    <tr>\n",
       "      <th>2</th>\n",
       "      <td>afg</td>\n",
       "      <td>1970</td>\n",
       "      <td>0.0</td>\n",
       "      <td>11126123</td>\n",
       "      <td>Afghanistan</td>\n",
       "    </tr>\n",
       "    <tr>\n",
       "      <th>3</th>\n",
       "      <td>afg</td>\n",
       "      <td>1975</td>\n",
       "      <td>0.0</td>\n",
       "      <td>12590286</td>\n",
       "      <td>Afghanistan</td>\n",
       "    </tr>\n",
       "    <tr>\n",
       "      <th>4</th>\n",
       "      <td>afg</td>\n",
       "      <td>1976</td>\n",
       "      <td>0.0</td>\n",
       "      <td>12840299</td>\n",
       "      <td>Afghanistan</td>\n",
       "    </tr>\n",
       "  </tbody>\n",
       "</table>\n",
       "</div>"
      ],
      "text/plain": [
       "   geo  time  cell_phones_total  population_total      country\n",
       "0  afg  1960                0.0           8996351  Afghanistan\n",
       "1  afg  1965                0.0           9938414  Afghanistan\n",
       "2  afg  1970                0.0          11126123  Afghanistan\n",
       "3  afg  1975                0.0          12590286  Afghanistan\n",
       "4  afg  1976                0.0          12840299  Afghanistan"
      ]
     },
     "execution_count": 6,
     "metadata": {},
     "output_type": "execute_result"
    }
   ],
   "source": [
    "geo_country=['geo','country']\n",
    "geo_country_codes[geo_country]\n",
    "\n",
    "pop_cell_geo_cntry = pd.merge(population_cell_phones,geo_country_codes[geo_country],on='geo')\n",
    "\n",
    "print(pop_cell_geo_cntry.shape)\n",
    "pop_cell_geo_cntry.head()"
   ]
  },
  {
   "cell_type": "markdown",
   "metadata": {
    "colab_type": "text",
    "id": "LxCJMpbk8jy6"
   },
   "source": [
    "***Optional bonus for Part 1: Take initiative to join more data.***"
   ]
  },
  {
   "cell_type": "markdown",
   "metadata": {
    "colab_type": "text",
    "id": "oK96Uj7vYjFX"
   },
   "source": [
    "### Part 2. Make features"
   ]
  },
  {
   "cell_type": "markdown",
   "metadata": {
    "colab_type": "text",
    "id": "AD2fBNrOYzCG"
   },
   "source": [
    "Calculate the number of cell phones per person, and add this column onto your dataframe.\n",
    "\n",
    "(You've calculated correctly if you get 1.220 cell phones per person in the United States in 2017.)"
   ]
  },
  {
   "cell_type": "code",
   "execution_count": 7,
   "metadata": {
    "colab": {},
    "colab_type": "code",
    "id": "wXI9nQthYnFK"
   },
   "outputs": [
    {
     "data": {
      "text/plain": [
       "geo                            usa\n",
       "time                          2017\n",
       "cell_phones_total      3.95881e+08\n",
       "population_total         324459463\n",
       "country              United States\n",
       "cell_per_pep               1.22012\n",
       "Name: 8134, dtype: object"
      ]
     },
     "execution_count": 7,
     "metadata": {},
     "output_type": "execute_result"
    }
   ],
   "source": [
    "cpp = pop_cell_geo_cntry.cell_phones_total / pop_cell_geo_cntry.population_total\n",
    "pop_cell_geo_cntry['cell_per_pep'] = cpp\n",
    "pop_cell_geo_cntry.iloc[8134]"
   ]
  },
  {
   "cell_type": "markdown",
   "metadata": {
    "colab_type": "text",
    "id": "S3QFdsnRZMH6"
   },
   "source": [
    "Modify the `geo` column to make the geo codes uppercase instead of lowercase."
   ]
  },
  {
   "cell_type": "code",
   "execution_count": 8,
   "metadata": {
    "colab": {},
    "colab_type": "code",
    "id": "93ADij8_YkOq"
   },
   "outputs": [
    {
     "data": {
      "text/html": [
       "<div>\n",
       "<style scoped>\n",
       "    .dataframe tbody tr th:only-of-type {\n",
       "        vertical-align: middle;\n",
       "    }\n",
       "\n",
       "    .dataframe tbody tr th {\n",
       "        vertical-align: top;\n",
       "    }\n",
       "\n",
       "    .dataframe thead th {\n",
       "        text-align: right;\n",
       "    }\n",
       "</style>\n",
       "<table border=\"1\" class=\"dataframe\">\n",
       "  <thead>\n",
       "    <tr style=\"text-align: right;\">\n",
       "      <th></th>\n",
       "      <th>geo</th>\n",
       "      <th>time</th>\n",
       "      <th>cell_phones_total</th>\n",
       "      <th>population_total</th>\n",
       "      <th>country</th>\n",
       "      <th>cell_per_pep</th>\n",
       "    </tr>\n",
       "  </thead>\n",
       "  <tbody>\n",
       "    <tr>\n",
       "      <th>0</th>\n",
       "      <td>AFG</td>\n",
       "      <td>1960</td>\n",
       "      <td>0.0</td>\n",
       "      <td>8996351</td>\n",
       "      <td>Afghanistan</td>\n",
       "      <td>0.0</td>\n",
       "    </tr>\n",
       "    <tr>\n",
       "      <th>1</th>\n",
       "      <td>AFG</td>\n",
       "      <td>1965</td>\n",
       "      <td>0.0</td>\n",
       "      <td>9938414</td>\n",
       "      <td>Afghanistan</td>\n",
       "      <td>0.0</td>\n",
       "    </tr>\n",
       "    <tr>\n",
       "      <th>2</th>\n",
       "      <td>AFG</td>\n",
       "      <td>1970</td>\n",
       "      <td>0.0</td>\n",
       "      <td>11126123</td>\n",
       "      <td>Afghanistan</td>\n",
       "      <td>0.0</td>\n",
       "    </tr>\n",
       "    <tr>\n",
       "      <th>3</th>\n",
       "      <td>AFG</td>\n",
       "      <td>1975</td>\n",
       "      <td>0.0</td>\n",
       "      <td>12590286</td>\n",
       "      <td>Afghanistan</td>\n",
       "      <td>0.0</td>\n",
       "    </tr>\n",
       "    <tr>\n",
       "      <th>4</th>\n",
       "      <td>AFG</td>\n",
       "      <td>1976</td>\n",
       "      <td>0.0</td>\n",
       "      <td>12840299</td>\n",
       "      <td>Afghanistan</td>\n",
       "      <td>0.0</td>\n",
       "    </tr>\n",
       "  </tbody>\n",
       "</table>\n",
       "</div>"
      ],
      "text/plain": [
       "   geo  time  cell_phones_total  population_total      country  cell_per_pep\n",
       "0  AFG  1960                0.0           8996351  Afghanistan           0.0\n",
       "1  AFG  1965                0.0           9938414  Afghanistan           0.0\n",
       "2  AFG  1970                0.0          11126123  Afghanistan           0.0\n",
       "3  AFG  1975                0.0          12590286  Afghanistan           0.0\n",
       "4  AFG  1976                0.0          12840299  Afghanistan           0.0"
      ]
     },
     "execution_count": 8,
     "metadata": {},
     "output_type": "execute_result"
    }
   ],
   "source": [
    "pop_cell_geo_cntry['geo'] = pop_cell_geo_cntry['geo'].str.upper()\n",
    "pop_cell_geo_cntry.head()"
   ]
  },
  {
   "cell_type": "markdown",
   "metadata": {
    "colab_type": "text",
    "id": "cQR5RhDa8jzO"
   },
   "source": [
    "***Optional bonus for Part 2: Take initiative to make more features.***"
   ]
  },
  {
   "cell_type": "markdown",
   "metadata": {
    "colab_type": "text",
    "id": "hlPDAFCfaF6C"
   },
   "source": [
    "### Part 3. Process data"
   ]
  },
  {
   "cell_type": "markdown",
   "metadata": {
    "colab_type": "text",
    "id": "k-pudNWve2SQ"
   },
   "source": [
    "Use the describe function, to describe your dataframe's numeric columns, and then its non-numeric columns.\n",
    "\n",
    "(You'll see the time period ranges from 1960 to 2017, and there are 195 unique countries represented.)"
   ]
  },
  {
   "cell_type": "code",
   "execution_count": 9,
   "metadata": {},
   "outputs": [
    {
     "data": {
      "text/html": [
       "<div>\n",
       "<style scoped>\n",
       "    .dataframe tbody tr th:only-of-type {\n",
       "        vertical-align: middle;\n",
       "    }\n",
       "\n",
       "    .dataframe tbody tr th {\n",
       "        vertical-align: top;\n",
       "    }\n",
       "\n",
       "    .dataframe thead th {\n",
       "        text-align: right;\n",
       "    }\n",
       "</style>\n",
       "<table border=\"1\" class=\"dataframe\">\n",
       "  <thead>\n",
       "    <tr style=\"text-align: right;\">\n",
       "      <th></th>\n",
       "      <th>geo</th>\n",
       "      <th>country</th>\n",
       "    </tr>\n",
       "  </thead>\n",
       "  <tbody>\n",
       "    <tr>\n",
       "      <th>count</th>\n",
       "      <td>8590</td>\n",
       "      <td>8590</td>\n",
       "    </tr>\n",
       "    <tr>\n",
       "      <th>unique</th>\n",
       "      <td>195</td>\n",
       "      <td>195</td>\n",
       "    </tr>\n",
       "    <tr>\n",
       "      <th>top</th>\n",
       "      <td>MWI</td>\n",
       "      <td>Croatia</td>\n",
       "    </tr>\n",
       "    <tr>\n",
       "      <th>freq</th>\n",
       "      <td>46</td>\n",
       "      <td>46</td>\n",
       "    </tr>\n",
       "  </tbody>\n",
       "</table>\n",
       "</div>"
      ],
      "text/plain": [
       "         geo  country\n",
       "count   8590     8590\n",
       "unique   195      195\n",
       "top      MWI  Croatia\n",
       "freq      46       46"
      ]
     },
     "execution_count": 9,
     "metadata": {},
     "output_type": "execute_result"
    }
   ],
   "source": [
    "pop_cell_geo_cntry.describe(exclude='number')"
   ]
  },
  {
   "cell_type": "markdown",
   "metadata": {
    "colab_type": "text",
    "id": "zALg-RrYaLcI"
   },
   "source": [
    "In 2017, what were the top 5 countries with the most cell phones total?\n",
    "\n",
    "Your list of countries should have these totals:\n",
    "\n",
    "| country | cell phones total |\n",
    "|:-------:|:-----------------:|\n",
    "|    ?    |     1,474,097,000 |\n",
    "|    ?    |     1,168,902,277 |\n",
    "|    ?    |       458,923,202 |\n",
    "|    ?    |       395,881,000 |\n",
    "|    ?    |       236,488,548 |\n",
    "\n"
   ]
  },
  {
   "cell_type": "code",
   "execution_count": 10,
   "metadata": {},
   "outputs": [
    {
     "data": {
      "text/html": [
       "<div>\n",
       "<style scoped>\n",
       "    .dataframe tbody tr th:only-of-type {\n",
       "        vertical-align: middle;\n",
       "    }\n",
       "\n",
       "    .dataframe tbody tr th {\n",
       "        vertical-align: top;\n",
       "    }\n",
       "\n",
       "    .dataframe thead th {\n",
       "        text-align: right;\n",
       "    }\n",
       "</style>\n",
       "<table border=\"1\" class=\"dataframe\">\n",
       "  <thead>\n",
       "    <tr style=\"text-align: right;\">\n",
       "      <th></th>\n",
       "      <th>geo</th>\n",
       "      <th>time</th>\n",
       "      <th>cell_phones_total</th>\n",
       "      <th>population_total</th>\n",
       "      <th>country</th>\n",
       "      <th>cell_per_pep</th>\n",
       "    </tr>\n",
       "  </thead>\n",
       "  <tbody>\n",
       "    <tr>\n",
       "      <th>1496</th>\n",
       "      <td>CHN</td>\n",
       "      <td>2017</td>\n",
       "      <td>1.474097e+09</td>\n",
       "      <td>1409517397</td>\n",
       "      <td>China</td>\n",
       "      <td>1.045817</td>\n",
       "    </tr>\n",
       "    <tr>\n",
       "      <th>3595</th>\n",
       "      <td>IND</td>\n",
       "      <td>2017</td>\n",
       "      <td>1.168902e+09</td>\n",
       "      <td>1339180127</td>\n",
       "      <td>India</td>\n",
       "      <td>0.872849</td>\n",
       "    </tr>\n",
       "    <tr>\n",
       "      <th>3549</th>\n",
       "      <td>IDN</td>\n",
       "      <td>2017</td>\n",
       "      <td>4.589232e+08</td>\n",
       "      <td>263991379</td>\n",
       "      <td>Indonesia</td>\n",
       "      <td>1.738402</td>\n",
       "    </tr>\n",
       "    <tr>\n",
       "      <th>8134</th>\n",
       "      <td>USA</td>\n",
       "      <td>2017</td>\n",
       "      <td>3.958810e+08</td>\n",
       "      <td>324459463</td>\n",
       "      <td>United States</td>\n",
       "      <td>1.220125</td>\n",
       "    </tr>\n",
       "    <tr>\n",
       "      <th>1084</th>\n",
       "      <td>BRA</td>\n",
       "      <td>2017</td>\n",
       "      <td>2.364885e+08</td>\n",
       "      <td>209288278</td>\n",
       "      <td>Brazil</td>\n",
       "      <td>1.129966</td>\n",
       "    </tr>\n",
       "  </tbody>\n",
       "</table>\n",
       "</div>"
      ],
      "text/plain": [
       "      geo  time  cell_phones_total  population_total        country  \\\n",
       "1496  CHN  2017       1.474097e+09        1409517397          China   \n",
       "3595  IND  2017       1.168902e+09        1339180127          India   \n",
       "3549  IDN  2017       4.589232e+08         263991379      Indonesia   \n",
       "8134  USA  2017       3.958810e+08         324459463  United States   \n",
       "1084  BRA  2017       2.364885e+08         209288278         Brazil   \n",
       "\n",
       "      cell_per_pep  \n",
       "1496      1.045817  \n",
       "3595      0.872849  \n",
       "3549      1.738402  \n",
       "8134      1.220125  \n",
       "1084      1.129966  "
      ]
     },
     "execution_count": 10,
     "metadata": {},
     "output_type": "execute_result"
    }
   ],
   "source": [
    "pop_cell_geo_cntry[pop_cell_geo_cntry['time'] == 2017].sort_values('cell_phones_total',ascending=False).head()\n",
    "#pop_cell_geo_cntry"
   ]
  },
  {
   "cell_type": "markdown",
   "metadata": {
    "colab_type": "text",
    "id": "03V3Wln_h0dj"
   },
   "source": [
    "2017 was the first year that China had more cell phones than people.\n",
    "\n",
    "What was the first year that the USA had more cell phones than people?"
   ]
  },
  {
   "cell_type": "code",
   "execution_count": 11,
   "metadata": {
    "colab": {},
    "colab_type": "code",
    "id": "KONQkQZ3haNC"
   },
   "outputs": [
    {
     "data": {
      "text/html": [
       "<div>\n",
       "<style scoped>\n",
       "    .dataframe tbody tr th:only-of-type {\n",
       "        vertical-align: middle;\n",
       "    }\n",
       "\n",
       "    .dataframe tbody tr th {\n",
       "        vertical-align: top;\n",
       "    }\n",
       "\n",
       "    .dataframe thead th {\n",
       "        text-align: right;\n",
       "    }\n",
       "</style>\n",
       "<table border=\"1\" class=\"dataframe\">\n",
       "  <thead>\n",
       "    <tr style=\"text-align: right;\">\n",
       "      <th></th>\n",
       "      <th>country</th>\n",
       "      <th>time</th>\n",
       "      <th>cell_per_pep</th>\n",
       "    </tr>\n",
       "  </thead>\n",
       "  <tbody>\n",
       "    <tr>\n",
       "      <th>1496</th>\n",
       "      <td>China</td>\n",
       "      <td>2017</td>\n",
       "      <td>1.045817</td>\n",
       "    </tr>\n",
       "  </tbody>\n",
       "</table>\n",
       "</div>"
      ],
      "text/plain": [
       "     country  time  cell_per_pep\n",
       "1496   China  2017      1.045817"
      ]
     },
     "execution_count": 11,
     "metadata": {},
     "output_type": "execute_result"
    }
   ],
   "source": [
    "x=['country','time','cell_per_pep']\n",
    "\n",
    "df = pop_cell_geo_cntry[x]\n",
    "\n",
    "df2 = ((df['country'] == 'China') & (df['cell_per_pep'] >= 1.00000))\n",
    "\n",
    "\n",
    "\n",
    "df3 = ((df['cell_per_pep'] >= 1.00000) & (df['country'] =='United States'))\n",
    "\n",
    "df[df2].head()"
   ]
  },
  {
   "cell_type": "code",
   "execution_count": 12,
   "metadata": {},
   "outputs": [
    {
     "data": {
      "text/html": [
       "<div>\n",
       "<style scoped>\n",
       "    .dataframe tbody tr th:only-of-type {\n",
       "        vertical-align: middle;\n",
       "    }\n",
       "\n",
       "    .dataframe tbody tr th {\n",
       "        vertical-align: top;\n",
       "    }\n",
       "\n",
       "    .dataframe thead th {\n",
       "        text-align: right;\n",
       "    }\n",
       "</style>\n",
       "<table border=\"1\" class=\"dataframe\">\n",
       "  <thead>\n",
       "    <tr style=\"text-align: right;\">\n",
       "      <th></th>\n",
       "      <th>country</th>\n",
       "      <th>time</th>\n",
       "      <th>cell_per_pep</th>\n",
       "    </tr>\n",
       "  </thead>\n",
       "  <tbody>\n",
       "    <tr>\n",
       "      <th>8131</th>\n",
       "      <td>United States</td>\n",
       "      <td>2014</td>\n",
       "      <td>1.118914</td>\n",
       "    </tr>\n",
       "    <tr>\n",
       "      <th>8132</th>\n",
       "      <td>United States</td>\n",
       "      <td>2015</td>\n",
       "      <td>1.194974</td>\n",
       "    </tr>\n",
       "    <tr>\n",
       "      <th>8133</th>\n",
       "      <td>United States</td>\n",
       "      <td>2016</td>\n",
       "      <td>1.228759</td>\n",
       "    </tr>\n",
       "    <tr>\n",
       "      <th>8134</th>\n",
       "      <td>United States</td>\n",
       "      <td>2017</td>\n",
       "      <td>1.220125</td>\n",
       "    </tr>\n",
       "  </tbody>\n",
       "</table>\n",
       "</div>"
      ],
      "text/plain": [
       "            country  time  cell_per_pep\n",
       "8131  United States  2014      1.118914\n",
       "8132  United States  2015      1.194974\n",
       "8133  United States  2016      1.228759\n",
       "8134  United States  2017      1.220125"
      ]
     },
     "execution_count": 12,
     "metadata": {},
     "output_type": "execute_result"
    }
   ],
   "source": [
    "df[df3].head()"
   ]
  },
  {
   "cell_type": "markdown",
   "metadata": {
    "colab_type": "text",
    "id": "4pHjHTwp8jzn"
   },
   "source": [
    "***Optional bonus for Part 3: Take initiative to do more exploratory data analysis.***"
   ]
  },
  {
   "cell_type": "markdown",
   "metadata": {
    "colab_type": "text",
    "id": "6J7iwMnTg8KZ"
   },
   "source": [
    "### (OPTIONAL) Part 4. Reshape data"
   ]
  },
  {
   "cell_type": "markdown",
   "metadata": {
    "colab_type": "text",
    "id": "LP9InazRkUxG"
   },
   "source": [
    "*This part is not needed to pass the sprint challenge, only to get a 3! Only work on this after completing the other sections.*\n",
    "\n",
    "Create a pivot table:\n",
    "- Columns: Years 2007—2017\n",
    "- Rows: China, India, United States, Indonesia, Brazil (order doesn't matter)\n",
    "- Values: Cell Phones Total\n",
    "\n",
    "The table's shape should be: (5, 11)"
   ]
  },
  {
   "cell_type": "code",
   "execution_count": 13,
   "metadata": {
    "colab": {},
    "colab_type": "code",
    "id": "JD7mXXjLj4Ue"
   },
   "outputs": [
    {
     "data": {
      "text/plain": [
       "\"columns=['time','country','cell_phones_total']\\nyears =[2007,2008,2009,2010,2011,2012,2013,2014,2015,2016,2017]\\ncountrys =['China', 'India', 'United States', 'Indonesia', 'Brazil']\\npiv_table = pop_cell_geo_cntry[columns]\\n\\npiv_table = piv_table[piv_table['time'].isin(years)]\\n\\npiv_table = piv_table[piv_table['country'].isin(countrys)]\\n\""
      ]
     },
     "execution_count": 13,
     "metadata": {},
     "output_type": "execute_result"
    }
   ],
   "source": [
    "'''columns=['time','country','cell_phones_total']\n",
    "years =[2007,2008,2009,2010,2011,2012,2013,2014,2015,2016,2017]\n",
    "countrys =['China', 'India', 'United States', 'Indonesia', 'Brazil']\n",
    "piv_table = pop_cell_geo_cntry[columns]\n",
    "\n",
    "piv_table = piv_table[piv_table['time'].isin(years)]\n",
    "\n",
    "piv_table = piv_table[piv_table['country'].isin(countrys)]\n",
    "'''\n",
    "\n"
   ]
  },
  {
   "cell_type": "markdown",
   "metadata": {
    "colab_type": "text",
    "id": "CNKTu2DCnAo6"
   },
   "source": [
    "Sort these 5 countries, by biggest increase in cell phones from 2007 to 2017.\n",
    "\n",
    "Which country had 935,282,277 more cell phones in 2017 versus 2007?"
   ]
  },
  {
   "cell_type": "code",
   "execution_count": null,
   "metadata": {
    "colab": {},
    "colab_type": "code",
    "id": "O4Aecv1fmQlj"
   },
   "outputs": [],
   "source": []
  },
  {
   "cell_type": "markdown",
   "metadata": {
    "colab_type": "text",
    "id": "7iHkMsa3Rorh"
   },
   "source": [
    "If you have the time and curiosity, what other questions can you ask and answer with this data?"
   ]
  },
  {
   "cell_type": "markdown",
   "metadata": {
    "colab_type": "text",
    "id": "vtcAJOAV9k3X"
   },
   "source": [
    "## Data Storytelling\n",
    "\n",
    "In this part of the sprint challenge you'll work with a dataset from **FiveThirtyEight's article, [Every Guest Jon Stewart Ever Had On ‘The Daily Show’](https://fivethirtyeight.com/features/every-guest-jon-stewart-ever-had-on-the-daily-show/)**!"
   ]
  },
  {
   "cell_type": "markdown",
   "metadata": {
    "colab_type": "text",
    "id": "UtjoIqvm9yFg"
   },
   "source": [
    "### Part 0 — Run this starter code\n",
    "\n",
    "You don't need to add or change anything here. Just run this cell and it loads the data for you, into a dataframe named `df`.\n",
    "\n",
    "(You can explore the data if you want, but it's not required to pass the Sprint Challenge.)"
   ]
  },
  {
   "cell_type": "code",
   "execution_count": 14,
   "metadata": {
    "colab": {},
    "colab_type": "code",
    "id": "tYujbhIz9zKU"
   },
   "outputs": [],
   "source": [
    "\n",
    "url = 'https://raw.githubusercontent.com/fivethirtyeight/data/master/daily-show-guests/daily_show_guests.csv'\n",
    "df = pd.read_csv(url).rename(columns={'YEAR': 'Year', 'Raw_Guest_List': 'Guest'})\n",
    "\n",
    "def get_occupation(group):\n",
    "    if group in ['Acting', 'Comedy', 'Musician']:\n",
    "        return 'Acting, Comedy & Music'\n",
    "    elif group in ['Media', 'media']:\n",
    "        return 'Media'\n",
    "    elif group in ['Government', 'Politician', 'Political Aide']:\n",
    "        return 'Government and Politics'\n",
    "    else:\n",
    "        return 'Other'\n",
    "      \n",
    "df['Occupation'] = df['Group'].apply(get_occupation)"
   ]
  },
  {
   "cell_type": "markdown",
   "metadata": {
    "colab_type": "text",
    "id": "5hjnMK3j90Rp"
   },
   "source": [
    "### Part 1 — What's the breakdown of guests’ occupations per year?\n",
    "\n",
    "For example, in 1999, what percentage of guests were actors, comedians, or musicians? What percentage were in the media? What percentage were in politics? What percentage were from another occupation?\n",
    "\n",
    "Then, what about in 2000? In 2001? And so on, up through 2015.\n",
    "\n",
    "So, **for each year of _The Daily Show_, calculate the percentage of guests from each occupation:**\n",
    "- Acting, Comedy & Music\n",
    "- Government and Politics\n",
    "- Media\n",
    "- Other\n",
    "\n",
    "#### Hints:\n",
    "You can make a crosstab. (See pandas documentation for examples, explanation, and parameters.)\n",
    "\n",
    "You'll know you've calculated correctly when the percentage of \"Acting, Comedy & Music\" guests is 90.36% in 1999, and 45% in 2015.\n",
    "\n",
    "**Optional Bonus Challenge:** Do additional insightful data exploration."
   ]
  },
  {
   "cell_type": "code",
   "execution_count": 15,
   "metadata": {},
   "outputs": [
    {
     "data": {
      "text/html": [
       "<div>\n",
       "<style scoped>\n",
       "    .dataframe tbody tr th:only-of-type {\n",
       "        vertical-align: middle;\n",
       "    }\n",
       "\n",
       "    .dataframe tbody tr th {\n",
       "        vertical-align: top;\n",
       "    }\n",
       "\n",
       "    .dataframe thead th {\n",
       "        text-align: right;\n",
       "    }\n",
       "</style>\n",
       "<table border=\"1\" class=\"dataframe\">\n",
       "  <thead>\n",
       "    <tr style=\"text-align: right;\">\n",
       "      <th></th>\n",
       "      <th>Year</th>\n",
       "      <th>GoogleKnowlege_Occupation</th>\n",
       "      <th>Show</th>\n",
       "      <th>Group</th>\n",
       "      <th>Guest</th>\n",
       "      <th>Occupation</th>\n",
       "    </tr>\n",
       "  </thead>\n",
       "  <tbody>\n",
       "    <tr>\n",
       "      <th>0</th>\n",
       "      <td>1999</td>\n",
       "      <td>actor</td>\n",
       "      <td>1/11/99</td>\n",
       "      <td>Acting</td>\n",
       "      <td>Michael J. Fox</td>\n",
       "      <td>Acting, Comedy &amp; Music</td>\n",
       "    </tr>\n",
       "    <tr>\n",
       "      <th>1</th>\n",
       "      <td>1999</td>\n",
       "      <td>Comedian</td>\n",
       "      <td>1/12/99</td>\n",
       "      <td>Comedy</td>\n",
       "      <td>Sandra Bernhard</td>\n",
       "      <td>Acting, Comedy &amp; Music</td>\n",
       "    </tr>\n",
       "    <tr>\n",
       "      <th>2</th>\n",
       "      <td>1999</td>\n",
       "      <td>television actress</td>\n",
       "      <td>1/13/99</td>\n",
       "      <td>Acting</td>\n",
       "      <td>Tracey Ullman</td>\n",
       "      <td>Acting, Comedy &amp; Music</td>\n",
       "    </tr>\n",
       "    <tr>\n",
       "      <th>3</th>\n",
       "      <td>1999</td>\n",
       "      <td>film actress</td>\n",
       "      <td>1/14/99</td>\n",
       "      <td>Acting</td>\n",
       "      <td>Gillian Anderson</td>\n",
       "      <td>Acting, Comedy &amp; Music</td>\n",
       "    </tr>\n",
       "    <tr>\n",
       "      <th>4</th>\n",
       "      <td>1999</td>\n",
       "      <td>actor</td>\n",
       "      <td>1/18/99</td>\n",
       "      <td>Acting</td>\n",
       "      <td>David Alan Grier</td>\n",
       "      <td>Acting, Comedy &amp; Music</td>\n",
       "    </tr>\n",
       "  </tbody>\n",
       "</table>\n",
       "</div>"
      ],
      "text/plain": [
       "   Year GoogleKnowlege_Occupation     Show   Group             Guest  \\\n",
       "0  1999                     actor  1/11/99  Acting    Michael J. Fox   \n",
       "1  1999                  Comedian  1/12/99  Comedy   Sandra Bernhard   \n",
       "2  1999        television actress  1/13/99  Acting     Tracey Ullman   \n",
       "3  1999              film actress  1/14/99  Acting  Gillian Anderson   \n",
       "4  1999                     actor  1/18/99  Acting  David Alan Grier   \n",
       "\n",
       "               Occupation  \n",
       "0  Acting, Comedy & Music  \n",
       "1  Acting, Comedy & Music  \n",
       "2  Acting, Comedy & Music  \n",
       "3  Acting, Comedy & Music  \n",
       "4  Acting, Comedy & Music  "
      ]
     },
     "execution_count": 15,
     "metadata": {},
     "output_type": "execute_result"
    }
   ],
   "source": [
    "df.head()\n",
    "\n"
   ]
  },
  {
   "cell_type": "code",
   "execution_count": 16,
   "metadata": {
    "colab": {},
    "colab_type": "code",
    "id": "EbobyiHv916F"
   },
   "outputs": [],
   "source": [
    "x = np.array(df.Year)\n",
    "guest = np.array(df.Guest)\n",
    "occupation = np.array(df.Occupation)\n",
    "\n",
    "test =pd.crosstab(x, occupation,normalize='index',rownames=['year'])\n",
    "\n",
    "line1 = test['Acting, Comedy & Music']\n",
    "line2 = test['Media']\n",
    "line3 = test['Government and Politics']\n"
   ]
  },
  {
   "cell_type": "markdown",
   "metadata": {
    "colab_type": "text",
    "id": "Kiq56dZb92LY"
   },
   "source": [
    "### Part 2 — Recreate this explanatory visualization:"
   ]
  },
  {
   "cell_type": "code",
   "execution_count": 17,
   "metadata": {
    "colab": {
     "base_uri": "https://localhost:8080/",
     "height": 406
    },
    "colab_type": "code",
    "id": "HKLDMWwP98vz",
    "outputId": "0397fcdf-80e5-4072-88f4-af2f14fcf0f2"
   },
   "outputs": [
    {
     "data": {
      "image/png": "[encoded data removed]",
      "text/plain": [
       "<IPython.core.display.Image object>"
      ]
     },
     "metadata": {
      "image/png": {
       "width": 500
      }
     },
     "output_type": "display_data"
    }
   ],
   "source": [
    "from IPython.display import display, Image\n",
    "png = 'https://fivethirtyeight.com/wp-content/uploads/2015/08/hickey-datalab-dailyshow.png'\n",
    "example = Image(png, width=500)\n",
    "display(example)"
   ]
  },
  {
   "cell_type": "code",
   "execution_count": 85,
   "metadata": {},
   "outputs": [
    {
     "data": {
      "image/png": "[encoded data removed]",
      "text/plain": [
       "<Figure size 540x432 with 1 Axes>"
      ]
     },
     "metadata": {},
     "output_type": "display_data"
    }
   ],
   "source": [
    "subtitle_string = \"Occupation of guests, by year\"\n",
    "\n",
    "fig = plt.figure(figsize=(7.5,6))\n",
    "plt.style.use('fivethirtyeight')\n",
    "ax=plt.axes()\n",
    "line1.plot(label='Acting, Comedy & Music')\n",
    "line2.plot(label='Media',color='purple')\n",
    "line3.plot(label='Government and Politics')\n",
    "plt.title(\"Who Got To Be On 'The Daily Show'?\",fontsize=18,y=1.1,x=.3,fontweight='bold')\n",
    "plt.suptitle(subtitle_string, fontsize=17,y=.95,x=.25)\n",
    "plt.legend();"
   ]
  },
  {
   "cell_type": "markdown",
   "metadata": {
    "colab_type": "text",
    "id": "TK5fDIag9-F6"
   },
   "source": [
    "**Hints:**\n",
    "- You can choose any Python visualization library you want. I've verified the plot can be reproduced with matplotlib, pandas plot, or seaborn. I assume other libraries like altair or plotly would work too.\n",
    "- If you choose to use seaborn, you may want to upgrade the version to 0.9.0.\n",
    "\n",
    "**Expectations:** Your plot should include:\n",
    "- 3 lines visualizing \"occupation of guests, by year.\" The shapes of the lines should look roughly identical to 538's example. Each line should be a different color. (But you don't need to use the _same_ colors as 538.)\n",
    "- Legend or labels for the lines. (But you don't need each label positioned next to its line or colored like 538.)\n",
    "- Title in the upper left: _\"Who Got To Be On 'The Daily Show'?\"_ with more visual emphasis than the subtitle. (Bolder and/or larger font.)\n",
    "- Subtitle underneath the title: _\"Occupation of guests, by year\"_\n",
    "\n",
    "**Optional Bonus Challenge:**\n",
    "- Give your plot polished aesthetics, with improved resemblance to the 538 example.\n",
    "- Any visual element not specifically mentioned in the expectations is an optional bonus."
   ]
  },
  {
   "cell_type": "markdown",
   "metadata": {
    "colab_type": "text",
    "id": "kW36zxl4-BiW"
   },
   "source": [
    "### (OPTIONAL) Part 3 — Who were the top 10 guests on _The Daily Show_?\n",
    "\n",
    "*This part is not needed to pass the sprint challenge, only to get a 3! Only work on this after completing the other sections.*\n",
    "\n",
    "**Make a plot** that shows their names and number of appearances.\n",
    "\n",
    "**Add a title** of your choice.\n",
    "\n",
    "**Expectations:** It's ok to make a simple, quick plot: exploratory, instead of explanatory. \n",
    "\n",
    "**Optional Bonus Challenge:** You can change aesthetics and add more annotation. For example, in a relevant location, could you add the text \"19\" to show that Fareed Zakaria appeared 19 times on _The Daily Show_? (And so on, for each of the top 10 guests.)"
   ]
  },
  {
   "cell_type": "code",
   "execution_count": null,
   "metadata": {
    "colab": {},
    "colab_type": "code",
    "id": "B3cqzskY-QbM"
   },
   "outputs": [],
   "source": []
  }
 ],
 "metadata": {
  "colab": {
   "collapsed_sections": [],
   "name": "DS_Unit_1_Sprint_Challenge_2_Data_Wrangling_and_Storytelling.ipynb",
   "provenance": [],
   "version": "0.3.2"
  },
  "kernelspec": {
   "display_name": "Python 3",
   "language": "python",
   "name": "python3"
  },
  "language_info": {
   "codemirror_mode": {
    "name": "ipython",
    "version": 3
   },
   "file_extension": ".py",
   "mimetype": "text/x-python",
   "name": "python",
   "nbconvert_exporter": "python",
   "pygments_lexer": "ipython3",
   "version": "3.7.3"
  }
 },
 "nbformat": 4,
 "nbformat_minor": 1
}
