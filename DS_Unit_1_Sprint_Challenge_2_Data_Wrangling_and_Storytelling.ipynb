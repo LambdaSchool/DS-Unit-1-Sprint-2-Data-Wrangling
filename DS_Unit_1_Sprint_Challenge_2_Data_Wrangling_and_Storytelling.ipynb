{
  "nbformat": 4,
  "nbformat_minor": 0,
  "metadata": {
    "colab": {
      "name": "DS_Unit_1_Sprint_Challenge_2_Data_Wrangling_and_Storytelling.ipynb",
      "version": "0.3.2",
      "provenance": [],
      "collapsed_sections": [],
      "include_colab_link": true
    },
    "language_info": {
      "codemirror_mode": {
        "name": "ipython",
        "version": 3
      },
      "file_extension": ".py",
      "mimetype": "text/x-python",
      "name": "python",
      "nbconvert_exporter": "python",
      "pygments_lexer": "ipython3",
      "version": "3.7.1"
    },
    "kernelspec": {
      "display_name": "Python 3",
      "language": "python",
      "name": "python3"
    }
  },
  "cells": [
    {
      "cell_type": "markdown",
      "metadata": {
        "id": "view-in-github",
        "colab_type": "text"
      },
      "source": [
        "<a href=\"https://colab.research.google.com/github/eliza0shrug/DS-Unit-1-Sprint-2-Data-Wrangling-and-Storytelling/blob/master/DS_Unit_1_Sprint_Challenge_2_Data_Wrangling_and_Storytelling.ipynb\" target=\"_parent\"><img src=\"https://colab.research.google.com/assets/colab-badge.svg\" alt=\"Open In Colab\"/></a>"
      ]
    },
    {
      "cell_type": "markdown",
      "metadata": {
        "colab_type": "text",
        "id": "4yMHi_PX9hEz"
      },
      "source": [
        "# Data Science Unit 1 Sprint Challenge 2\n",
        "\n",
        "## Data Wrangling and Storytelling\n",
        "\n",
        "Taming data from its raw form into informative insights and stories."
      ]
    },
    {
      "cell_type": "markdown",
      "metadata": {
        "id": "9wIvtOss9H_i",
        "colab_type": "text"
      },
      "source": [
        "## Data Wrangling\n",
        "\n",
        "In this Sprint Challenge you will first \"wrangle\" some data from [Gapminder](https://www.gapminder.org/about-gapminder/), a Swedish non-profit co-founded by Hans Rosling. \"Gapminder produces free teaching resources making the world understandable based on reliable statistics.\"\n",
        "- [Cell phones (total), by country and year](https://raw.githubusercontent.com/open-numbers/ddf--gapminder--systema_globalis/master/ddf--datapoints--cell_phones_total--by--geo--time.csv)\n",
        "- [Population (total), by country and year](https://raw.githubusercontent.com/open-numbers/ddf--gapminder--systema_globalis/master/ddf--datapoints--population_total--by--geo--time.csv)\n",
        "- [Geo country codes](https://github.com/open-numbers/ddf--gapminder--systema_globalis/blob/master/ddf--entities--geo--country.csv)\n",
        "\n",
        "These two links have everything you need to successfully complete the first part of this sprint challenge.\n",
        "- [Pandas documentation: Working with Text Data](https://pandas.pydata.org/pandas-docs/stable/text.html) (one question)\n",
        "- [Pandas Cheat Sheet](https://github.com/pandas-dev/pandas/blob/master/doc/cheatsheet/Pandas_Cheat_Sheet.pdf) (everything else)"
      ]
    },
    {
      "cell_type": "markdown",
      "metadata": {
        "colab_type": "text",
        "id": "wWEU2GemX68A"
      },
      "source": [
        "### Part 0. Load data\n",
        "\n",
        "You don't need to add or change anything here. Just run this cell and it loads the data for you, into three dataframes."
      ]
    },
    {
      "cell_type": "code",
      "metadata": {
        "colab_type": "code",
        "id": "bxKtSi5sRQOl",
        "colab": {}
      },
      "source": [
        "import pandas as pd\n",
        "\n",
        "cell_phones = pd.read_csv('https://raw.githubusercontent.com/open-numbers/ddf--gapminder--systema_globalis/master/ddf--datapoints--cell_phones_total--by--geo--time.csv')\n",
        "\n",
        "population = pd.read_csv('https://raw.githubusercontent.com/open-numbers/ddf--gapminder--systema_globalis/master/ddf--datapoints--population_total--by--geo--time.csv')\n",
        "\n",
        "geo_country_codes = (pd.read_csv('https://raw.githubusercontent.com/open-numbers/ddf--gapminder--systema_globalis/master/ddf--entities--geo--country.csv')\n",
        "                       .rename(columns={'country': 'geo', 'name': 'country'}))"
      ],
      "execution_count": 0,
      "outputs": []
    },
    {
      "cell_type": "markdown",
      "metadata": {
        "colab_type": "text",
        "id": "AZmVTeCsX9RC"
      },
      "source": [
        "### Part 1. Join data"
      ]
    },
    {
      "cell_type": "markdown",
      "metadata": {
        "colab_type": "text",
        "id": "GLzX58u4SfEy"
      },
      "source": [
        "First, join the `cell_phones` and `population` dataframes (with an inner join on `geo` and `time`).\n",
        "\n",
        "The resulting dataframe's shape should be: (8590, 4)"
      ]
    },
    {
      "cell_type": "code",
      "metadata": {
        "colab_type": "code",
        "id": "GVV7Hnj4SXBa",
        "colab": {
          "base_uri": "https://localhost:8080/",
          "height": 34
        },
        "outputId": "9396afe1-4726-4bc2-f450-af9a798ff723"
      },
      "source": [
        "cell_phones.head(2)\n",
        "cell_phones.shape"
      ],
      "execution_count": 2,
      "outputs": [
        {
          "output_type": "execute_result",
          "data": {
            "text/plain": [
              "(9215, 3)"
            ]
          },
          "metadata": {
            "tags": []
          },
          "execution_count": 2
        }
      ]
    },
    {
      "cell_type": "code",
      "metadata": {
        "id": "90VbW8cgf6Lu",
        "colab_type": "code",
        "colab": {
          "base_uri": "https://localhost:8080/",
          "height": 34
        },
        "outputId": "7e954174-b401-401e-b45a-1b4dd3eef1a3"
      },
      "source": [
        "population.head(2)\n",
        "population.shape"
      ],
      "execution_count": 3,
      "outputs": [
        {
          "output_type": "execute_result",
          "data": {
            "text/plain": [
              "(59297, 3)"
            ]
          },
          "metadata": {
            "tags": []
          },
          "execution_count": 3
        }
      ]
    },
    {
      "cell_type": "code",
      "metadata": {
        "id": "av3TyC-VgFxe",
        "colab_type": "code",
        "colab": {}
      },
      "source": [
        "phone_by_pop = population.merge(cell_phones)"
      ],
      "execution_count": 0,
      "outputs": []
    },
    {
      "cell_type": "code",
      "metadata": {
        "id": "R8AtVJn3gyJ1",
        "colab_type": "code",
        "colab": {}
      },
      "source": [
        "phone_by_pop.head(50)"
      ],
      "execution_count": 0,
      "outputs": []
    },
    {
      "cell_type": "markdown",
      "metadata": {
        "colab_type": "text",
        "id": "xsXpDbwwW241"
      },
      "source": [
        "Then, select the `geo` and `country` columns from the `geo_country_codes` dataframe, and join with your population and cell phone data.\n",
        "\n",
        "The resulting dataframe's shape should be: (8590, 5)"
      ]
    },
    {
      "cell_type": "code",
      "metadata": {
        "colab_type": "code",
        "id": "Q2LaZta_W2CE",
        "colab": {
          "base_uri": "https://localhost:8080/",
          "height": 108
        },
        "outputId": "82c679e1-e28c-4524-86f6-16c92e7a462e"
      },
      "source": [
        "geo_country_codesb = geo_country_codes[['geo', 'country']]\n",
        "geo_country_codesb.head(2)"
      ],
      "execution_count": 6,
      "outputs": [
        {
          "output_type": "execute_result",
          "data": {
            "text/html": [
              "<div>\n",
              "<style scoped>\n",
              "    .dataframe tbody tr th:only-of-type {\n",
              "        vertical-align: middle;\n",
              "    }\n",
              "\n",
              "    .dataframe tbody tr th {\n",
              "        vertical-align: top;\n",
              "    }\n",
              "\n",
              "    .dataframe thead th {\n",
              "        text-align: right;\n",
              "    }\n",
              "</style>\n",
              "<table border=\"1\" class=\"dataframe\">\n",
              "  <thead>\n",
              "    <tr style=\"text-align: right;\">\n",
              "      <th></th>\n",
              "      <th>geo</th>\n",
              "      <th>country</th>\n",
              "    </tr>\n",
              "  </thead>\n",
              "  <tbody>\n",
              "    <tr>\n",
              "      <th>0</th>\n",
              "      <td>abkh</td>\n",
              "      <td>Abkhazia</td>\n",
              "    </tr>\n",
              "    <tr>\n",
              "      <th>1</th>\n",
              "      <td>abw</td>\n",
              "      <td>Aruba</td>\n",
              "    </tr>\n",
              "  </tbody>\n",
              "</table>\n",
              "</div>"
            ],
            "text/plain": [
              "    geo   country\n",
              "0  abkh  Abkhazia\n",
              "1   abw     Aruba"
            ]
          },
          "metadata": {
            "tags": []
          },
          "execution_count": 6
        }
      ]
    },
    {
      "cell_type": "code",
      "metadata": {
        "id": "ws9eCZDphxjc",
        "colab_type": "code",
        "colab": {
          "base_uri": "https://localhost:8080/",
          "height": 168
        },
        "outputId": "f0df7de7-1b5c-4e17-81da-6f36328c2d45"
      },
      "source": [
        "df2 = pd.merge(phone_by_pop, geo_country_codesb)\n",
        "df2.head(4)"
      ],
      "execution_count": 23,
      "outputs": [
        {
          "output_type": "execute_result",
          "data": {
            "text/html": [
              "<div>\n",
              "<style scoped>\n",
              "    .dataframe tbody tr th:only-of-type {\n",
              "        vertical-align: middle;\n",
              "    }\n",
              "\n",
              "    .dataframe tbody tr th {\n",
              "        vertical-align: top;\n",
              "    }\n",
              "\n",
              "    .dataframe thead th {\n",
              "        text-align: right;\n",
              "    }\n",
              "</style>\n",
              "<table border=\"1\" class=\"dataframe\">\n",
              "  <thead>\n",
              "    <tr style=\"text-align: right;\">\n",
              "      <th></th>\n",
              "      <th>geo</th>\n",
              "      <th>time</th>\n",
              "      <th>population_total</th>\n",
              "      <th>cell_phones_total</th>\n",
              "      <th>country</th>\n",
              "    </tr>\n",
              "  </thead>\n",
              "  <tbody>\n",
              "    <tr>\n",
              "      <th>0</th>\n",
              "      <td>afg</td>\n",
              "      <td>1960</td>\n",
              "      <td>8996351</td>\n",
              "      <td>0.0</td>\n",
              "      <td>Afghanistan</td>\n",
              "    </tr>\n",
              "    <tr>\n",
              "      <th>1</th>\n",
              "      <td>afg</td>\n",
              "      <td>1965</td>\n",
              "      <td>9938414</td>\n",
              "      <td>0.0</td>\n",
              "      <td>Afghanistan</td>\n",
              "    </tr>\n",
              "    <tr>\n",
              "      <th>2</th>\n",
              "      <td>afg</td>\n",
              "      <td>1970</td>\n",
              "      <td>11126123</td>\n",
              "      <td>0.0</td>\n",
              "      <td>Afghanistan</td>\n",
              "    </tr>\n",
              "    <tr>\n",
              "      <th>3</th>\n",
              "      <td>afg</td>\n",
              "      <td>1975</td>\n",
              "      <td>12590286</td>\n",
              "      <td>0.0</td>\n",
              "      <td>Afghanistan</td>\n",
              "    </tr>\n",
              "  </tbody>\n",
              "</table>\n",
              "</div>"
            ],
            "text/plain": [
              "   geo  time  population_total  cell_phones_total      country\n",
              "0  afg  1960           8996351                0.0  Afghanistan\n",
              "1  afg  1965           9938414                0.0  Afghanistan\n",
              "2  afg  1970          11126123                0.0  Afghanistan\n",
              "3  afg  1975          12590286                0.0  Afghanistan"
            ]
          },
          "metadata": {
            "tags": []
          },
          "execution_count": 23
        }
      ]
    },
    {
      "cell_type": "markdown",
      "metadata": {
        "id": "LxCJMpbk8jy6",
        "colab_type": "text"
      },
      "source": [
        "***Optional bonus for Part 1: Take initiative to join more data.***"
      ]
    },
    {
      "cell_type": "markdown",
      "metadata": {
        "colab_type": "text",
        "id": "oK96Uj7vYjFX"
      },
      "source": [
        "### Part 2. Make features"
      ]
    },
    {
      "cell_type": "markdown",
      "metadata": {
        "colab_type": "text",
        "id": "AD2fBNrOYzCG"
      },
      "source": [
        "Calculate the number of cell phones per person, and add this column onto your dataframe.\n",
        "\n",
        "(You've calculated correctly if you get 1.220 cell phones per person in the United States in 2017.)"
      ]
    },
    {
      "cell_type": "code",
      "metadata": {
        "colab_type": "code",
        "id": "wXI9nQthYnFK",
        "colab": {}
      },
      "source": [
        "pd.value_counts(df2['cell_phones_total'])"
      ],
      "execution_count": 0,
      "outputs": []
    },
    {
      "cell_type": "code",
      "metadata": {
        "id": "4tUHPv1NmCoV",
        "colab_type": "code",
        "colab": {}
      },
      "source": [
        "list(df2['population_total'].groupby([df2['cell_phones_total'], df2['country']]))"
      ],
      "execution_count": 0,
      "outputs": []
    },
    {
      "cell_type": "code",
      "metadata": {
        "id": "IuJbhnvm0uOf",
        "colab_type": "code",
        "colab": {
          "base_uri": "https://localhost:8080/",
          "height": 2067
        },
        "outputId": "e35a9e77-600a-4af9-bd7a-a02a103127e0"
      },
      "source": [
        "# try the hard way\n",
        "df2['percent'] = df2['cell_phones_total'] / df2['population_total']\n",
        "df2[df2['time'] == 2017]\n",
        "\n"
      ],
      "execution_count": 163,
      "outputs": [
        {
          "output_type": "execute_result",
          "data": {
            "text/html": [
              "<div>\n",
              "<style scoped>\n",
              "    .dataframe tbody tr th:only-of-type {\n",
              "        vertical-align: middle;\n",
              "    }\n",
              "\n",
              "    .dataframe tbody tr th {\n",
              "        vertical-align: top;\n",
              "    }\n",
              "\n",
              "    .dataframe thead th {\n",
              "        text-align: right;\n",
              "    }\n",
              "</style>\n",
              "<table border=\"1\" class=\"dataframe\">\n",
              "  <thead>\n",
              "    <tr style=\"text-align: right;\">\n",
              "      <th></th>\n",
              "      <th>geo</th>\n",
              "      <th>time</th>\n",
              "      <th>population_total</th>\n",
              "      <th>cell_phones_total</th>\n",
              "      <th>country</th>\n",
              "      <th>percent</th>\n",
              "    </tr>\n",
              "  </thead>\n",
              "  <tbody>\n",
              "    <tr>\n",
              "      <th>45</th>\n",
              "      <td>afg</td>\n",
              "      <td>2017</td>\n",
              "      <td>35530081</td>\n",
              "      <td>23,929,713.0</td>\n",
              "      <td>Afghanistan</td>\n",
              "      <td>0.6735057260353557</td>\n",
              "    </tr>\n",
              "    <tr>\n",
              "      <th>91</th>\n",
              "      <td>ago</td>\n",
              "      <td>2017</td>\n",
              "      <td>29784193</td>\n",
              "      <td>13,323,952.0</td>\n",
              "      <td>Angola</td>\n",
              "      <td>0.4473497737541521</td>\n",
              "    </tr>\n",
              "    <tr>\n",
              "      <th>137</th>\n",
              "      <td>alb</td>\n",
              "      <td>2017</td>\n",
              "      <td>2930187</td>\n",
              "      <td>3,497,950.0</td>\n",
              "      <td>Albania</td>\n",
              "      <td>1.19376340144844</td>\n",
              "    </tr>\n",
              "    <tr>\n",
              "      <th>183</th>\n",
              "      <td>and</td>\n",
              "      <td>2017</td>\n",
              "      <td>76965</td>\n",
              "      <td>80,337.0</td>\n",
              "      <td>Andorra</td>\n",
              "      <td>1.0438121223932957</td>\n",
              "    </tr>\n",
              "    <tr>\n",
              "      <th>219</th>\n",
              "      <td>are</td>\n",
              "      <td>2017</td>\n",
              "      <td>9400145</td>\n",
              "      <td>19,826,224.0</td>\n",
              "      <td>United Arab Emirates</td>\n",
              "      <td>2.109140231347495</td>\n",
              "    </tr>\n",
              "    <tr>\n",
              "      <th>265</th>\n",
              "      <td>arg</td>\n",
              "      <td>2017</td>\n",
              "      <td>44271041</td>\n",
              "      <td>61,897,379.0</td>\n",
              "      <td>Argentina</td>\n",
              "      <td>1.3981460024850105</td>\n",
              "    </tr>\n",
              "    <tr>\n",
              "      <th>311</th>\n",
              "      <td>arm</td>\n",
              "      <td>2017</td>\n",
              "      <td>2930450</td>\n",
              "      <td>3,488,524.0</td>\n",
              "      <td>Armenia</td>\n",
              "      <td>1.1904396935624222</td>\n",
              "    </tr>\n",
              "    <tr>\n",
              "      <th>396</th>\n",
              "      <td>aus</td>\n",
              "      <td>2017</td>\n",
              "      <td>24450561</td>\n",
              "      <td>27,553,000.0</td>\n",
              "      <td>Australia</td>\n",
              "      <td>1.1268862092775704</td>\n",
              "    </tr>\n",
              "    <tr>\n",
              "      <th>442</th>\n",
              "      <td>aut</td>\n",
              "      <td>2017</td>\n",
              "      <td>8735453</td>\n",
              "      <td>14,924,340.0</td>\n",
              "      <td>Austria</td>\n",
              "      <td>1.7084792282666967</td>\n",
              "    </tr>\n",
              "    <tr>\n",
              "      <th>488</th>\n",
              "      <td>aze</td>\n",
              "      <td>2017</td>\n",
              "      <td>9827589</td>\n",
              "      <td>10,127,000.0</td>\n",
              "      <td>Azerbaijan</td>\n",
              "      <td>1.0304663737972761</td>\n",
              "    </tr>\n",
              "    <tr>\n",
              "      <th>534</th>\n",
              "      <td>bdi</td>\n",
              "      <td>2017</td>\n",
              "      <td>10864245</td>\n",
              "      <td>5,920,612.0</td>\n",
              "      <td>Burundi</td>\n",
              "      <td>0.5449630416103466</td>\n",
              "    </tr>\n",
              "    <tr>\n",
              "      <th>580</th>\n",
              "      <td>bel</td>\n",
              "      <td>2017</td>\n",
              "      <td>11429336</td>\n",
              "      <td>11,961,089.0</td>\n",
              "      <td>Belgium</td>\n",
              "      <td>1.0465252749591052</td>\n",
              "    </tr>\n",
              "    <tr>\n",
              "      <th>626</th>\n",
              "      <td>ben</td>\n",
              "      <td>2017</td>\n",
              "      <td>11175692</td>\n",
              "      <td>8,773,044.0</td>\n",
              "      <td>Benin</td>\n",
              "      <td>0.7850112547840438</td>\n",
              "    </tr>\n",
              "    <tr>\n",
              "      <th>672</th>\n",
              "      <td>bfa</td>\n",
              "      <td>2017</td>\n",
              "      <td>19193382</td>\n",
              "      <td>17,946,375.0</td>\n",
              "      <td>Burkina Faso</td>\n",
              "      <td>0.9350293241701749</td>\n",
              "    </tr>\n",
              "    <tr>\n",
              "      <th>718</th>\n",
              "      <td>bgd</td>\n",
              "      <td>2017</td>\n",
              "      <td>164669751</td>\n",
              "      <td>145,113,669.0</td>\n",
              "      <td>Bangladesh</td>\n",
              "      <td>0.8812405928761015</td>\n",
              "    </tr>\n",
              "    <tr>\n",
              "      <th>764</th>\n",
              "      <td>bgr</td>\n",
              "      <td>2017</td>\n",
              "      <td>7084571</td>\n",
              "      <td>8,532,908.0</td>\n",
              "      <td>Bulgaria</td>\n",
              "      <td>1.2044353850077867</td>\n",
              "    </tr>\n",
              "    <tr>\n",
              "      <th>810</th>\n",
              "      <td>bhr</td>\n",
              "      <td>2017</td>\n",
              "      <td>1492584</td>\n",
              "      <td>2,364,477.0</td>\n",
              "      <td>Bahrain</td>\n",
              "      <td>1.584150037786818</td>\n",
              "    </tr>\n",
              "    <tr>\n",
              "      <th>855</th>\n",
              "      <td>bhs</td>\n",
              "      <td>2017</td>\n",
              "      <td>395361</td>\n",
              "      <td>353,540.0</td>\n",
              "      <td>Bahamas</td>\n",
              "      <td>0.8942207248565235</td>\n",
              "    </tr>\n",
              "    <tr>\n",
              "      <th>901</th>\n",
              "      <td>bih</td>\n",
              "      <td>2017</td>\n",
              "      <td>3507017</td>\n",
              "      <td>3,440,085.0</td>\n",
              "      <td>Bosnia and Herzegovina</td>\n",
              "      <td>0.9809148344590288</td>\n",
              "    </tr>\n",
              "    <tr>\n",
              "      <th>947</th>\n",
              "      <td>blr</td>\n",
              "      <td>2017</td>\n",
              "      <td>9468338</td>\n",
              "      <td>11,415,141.0</td>\n",
              "      <td>Belarus</td>\n",
              "      <td>1.2056119035885706</td>\n",
              "    </tr>\n",
              "    <tr>\n",
              "      <th>1038</th>\n",
              "      <td>bol</td>\n",
              "      <td>2017</td>\n",
              "      <td>11051600</td>\n",
              "      <td>10,963,224.0</td>\n",
              "      <td>Bolivia</td>\n",
              "      <td>0.992003329834594</td>\n",
              "    </tr>\n",
              "    <tr>\n",
              "      <th>1084</th>\n",
              "      <td>bra</td>\n",
              "      <td>2017</td>\n",
              "      <td>209288278</td>\n",
              "      <td>236,488,548.0</td>\n",
              "      <td>Brazil</td>\n",
              "      <td>1.1299655683535224</td>\n",
              "    </tr>\n",
              "    <tr>\n",
              "      <th>1130</th>\n",
              "      <td>brb</td>\n",
              "      <td>2017</td>\n",
              "      <td>285719</td>\n",
              "      <td>337,791.0</td>\n",
              "      <td>Barbados</td>\n",
              "      <td>1.1822489928916173</td>\n",
              "    </tr>\n",
              "    <tr>\n",
              "      <th>1175</th>\n",
              "      <td>brn</td>\n",
              "      <td>2017</td>\n",
              "      <td>428697</td>\n",
              "      <td>544,732.0</td>\n",
              "      <td>Brunei</td>\n",
              "      <td>1.270669027308332</td>\n",
              "    </tr>\n",
              "    <tr>\n",
              "      <th>1221</th>\n",
              "      <td>btn</td>\n",
              "      <td>2017</td>\n",
              "      <td>807610</td>\n",
              "      <td>730,623.0</td>\n",
              "      <td>Bhutan</td>\n",
              "      <td>0.904673047634378</td>\n",
              "    </tr>\n",
              "    <tr>\n",
              "      <th>1267</th>\n",
              "      <td>bwa</td>\n",
              "      <td>2017</td>\n",
              "      <td>2291661</td>\n",
              "      <td>3,240,589.0</td>\n",
              "      <td>Botswana</td>\n",
              "      <td>1.4140786966309589</td>\n",
              "    </tr>\n",
              "    <tr>\n",
              "      <th>1358</th>\n",
              "      <td>can</td>\n",
              "      <td>2017</td>\n",
              "      <td>36624199</td>\n",
              "      <td>31,458,600.0</td>\n",
              "      <td>Canada</td>\n",
              "      <td>0.858956669605252</td>\n",
              "    </tr>\n",
              "    <tr>\n",
              "      <th>1404</th>\n",
              "      <td>che</td>\n",
              "      <td>2017</td>\n",
              "      <td>8476005</td>\n",
              "      <td>11,292,000.0</td>\n",
              "      <td>Switzerland</td>\n",
              "      <td>1.3322313991084243</td>\n",
              "    </tr>\n",
              "    <tr>\n",
              "      <th>1450</th>\n",
              "      <td>chl</td>\n",
              "      <td>2017</td>\n",
              "      <td>18054726</td>\n",
              "      <td>23,013,147.0</td>\n",
              "      <td>Chile</td>\n",
              "      <td>1.2746328579010282</td>\n",
              "    </tr>\n",
              "    <tr>\n",
              "      <th>1496</th>\n",
              "      <td>chn</td>\n",
              "      <td>2017</td>\n",
              "      <td>1409517397</td>\n",
              "      <td>1,474,097,000.0</td>\n",
              "      <td>China</td>\n",
              "      <td>1.0458168186766978</td>\n",
              "    </tr>\n",
              "    <tr>\n",
              "      <th>...</th>\n",
              "      <td>...</td>\n",
              "      <td>...</td>\n",
              "      <td>...</td>\n",
              "      <td>...</td>\n",
              "      <td>...</td>\n",
              "      <td>...</td>\n",
              "    </tr>\n",
              "    <tr>\n",
              "      <th>7005</th>\n",
              "      <td>smr</td>\n",
              "      <td>2017</td>\n",
              "      <td>33400</td>\n",
              "      <td>38,000.0</td>\n",
              "      <td>San Marino</td>\n",
              "      <td>1.1377245508982037</td>\n",
              "    </tr>\n",
              "    <tr>\n",
              "      <th>7064</th>\n",
              "      <td>srb</td>\n",
              "      <td>2017</td>\n",
              "      <td>8790574</td>\n",
              "      <td>8,626,903.0</td>\n",
              "      <td>Serbia</td>\n",
              "      <td>0.9813810793242853</td>\n",
              "    </tr>\n",
              "    <tr>\n",
              "      <th>7072</th>\n",
              "      <td>ssd</td>\n",
              "      <td>2017</td>\n",
              "      <td>12575714</td>\n",
              "      <td>1,511,529.0</td>\n",
              "      <td>South Sudan</td>\n",
              "      <td>0.12019428876960783</td>\n",
              "    </tr>\n",
              "    <tr>\n",
              "      <th>7118</th>\n",
              "      <td>stp</td>\n",
              "      <td>2017</td>\n",
              "      <td>204327</td>\n",
              "      <td>173,646.0</td>\n",
              "      <td>Sao Tome and Principe</td>\n",
              "      <td>0.8498436330000441</td>\n",
              "    </tr>\n",
              "    <tr>\n",
              "      <th>7164</th>\n",
              "      <td>sur</td>\n",
              "      <td>2017</td>\n",
              "      <td>563402</td>\n",
              "      <td>795,871.0</td>\n",
              "      <td>Suriname</td>\n",
              "      <td>1.4126165686312793</td>\n",
              "    </tr>\n",
              "    <tr>\n",
              "      <th>7210</th>\n",
              "      <td>svk</td>\n",
              "      <td>2017</td>\n",
              "      <td>5447662</td>\n",
              "      <td>7,117,753.0</td>\n",
              "      <td>Slovak Republic</td>\n",
              "      <td>1.3065702314130356</td>\n",
              "    </tr>\n",
              "    <tr>\n",
              "      <th>7256</th>\n",
              "      <td>svn</td>\n",
              "      <td>2017</td>\n",
              "      <td>2079976</td>\n",
              "      <td>2,443,172.0</td>\n",
              "      <td>Slovenia</td>\n",
              "      <td>1.1746154763324193</td>\n",
              "    </tr>\n",
              "    <tr>\n",
              "      <th>7302</th>\n",
              "      <td>swe</td>\n",
              "      <td>2017</td>\n",
              "      <td>9910701</td>\n",
              "      <td>12,435,709.0</td>\n",
              "      <td>Sweden</td>\n",
              "      <td>1.2547759235194362</td>\n",
              "    </tr>\n",
              "    <tr>\n",
              "      <th>7393</th>\n",
              "      <td>syc</td>\n",
              "      <td>2017</td>\n",
              "      <td>94737</td>\n",
              "      <td>167,282.0</td>\n",
              "      <td>Seychelles</td>\n",
              "      <td>1.7657515015252752</td>\n",
              "    </tr>\n",
              "    <tr>\n",
              "      <th>7439</th>\n",
              "      <td>syr</td>\n",
              "      <td>2017</td>\n",
              "      <td>18269868</td>\n",
              "      <td>15,650,000.0</td>\n",
              "      <td>Syria</td>\n",
              "      <td>0.8566017006800487</td>\n",
              "    </tr>\n",
              "    <tr>\n",
              "      <th>7530</th>\n",
              "      <td>tgo</td>\n",
              "      <td>2017</td>\n",
              "      <td>7797694</td>\n",
              "      <td>6,219,981.0</td>\n",
              "      <td>Togo</td>\n",
              "      <td>0.7976692853040912</td>\n",
              "    </tr>\n",
              "    <tr>\n",
              "      <th>7576</th>\n",
              "      <td>tha</td>\n",
              "      <td>2017</td>\n",
              "      <td>69037513</td>\n",
              "      <td>121,530,000.0</td>\n",
              "      <td>Thailand</td>\n",
              "      <td>1.7603473056742354</td>\n",
              "    </tr>\n",
              "    <tr>\n",
              "      <th>7682</th>\n",
              "      <td>tls</td>\n",
              "      <td>2017</td>\n",
              "      <td>1296311</td>\n",
              "      <td>1,546,624.0</td>\n",
              "      <td>Timor-Leste</td>\n",
              "      <td>1.1930964097350096</td>\n",
              "    </tr>\n",
              "    <tr>\n",
              "      <th>7773</th>\n",
              "      <td>tto</td>\n",
              "      <td>2017</td>\n",
              "      <td>1369125</td>\n",
              "      <td>2,030,637.0</td>\n",
              "      <td>Trinidad and Tobago</td>\n",
              "      <td>1.4831640646398248</td>\n",
              "    </tr>\n",
              "    <tr>\n",
              "      <th>7817</th>\n",
              "      <td>tun</td>\n",
              "      <td>2017</td>\n",
              "      <td>11532127</td>\n",
              "      <td>14,334,080.0</td>\n",
              "      <td>Tunisia</td>\n",
              "      <td>1.2429693152009165</td>\n",
              "    </tr>\n",
              "    <tr>\n",
              "      <th>7863</th>\n",
              "      <td>tur</td>\n",
              "      <td>2017</td>\n",
              "      <td>80745020</td>\n",
              "      <td>77,800,170.0</td>\n",
              "      <td>Turkey</td>\n",
              "      <td>0.9635290201178971</td>\n",
              "    </tr>\n",
              "    <tr>\n",
              "      <th>7953</th>\n",
              "      <td>tza</td>\n",
              "      <td>2017</td>\n",
              "      <td>57310019</td>\n",
              "      <td>39,953,860.0</td>\n",
              "      <td>Tanzania</td>\n",
              "      <td>0.6971531452467326</td>\n",
              "    </tr>\n",
              "    <tr>\n",
              "      <th>7999</th>\n",
              "      <td>uga</td>\n",
              "      <td>2017</td>\n",
              "      <td>42862958</td>\n",
              "      <td>24,948,878.0</td>\n",
              "      <td>Uganda</td>\n",
              "      <td>0.5820615086807588</td>\n",
              "    </tr>\n",
              "    <tr>\n",
              "      <th>8045</th>\n",
              "      <td>ukr</td>\n",
              "      <td>2017</td>\n",
              "      <td>44222947</td>\n",
              "      <td>55,714,733.0</td>\n",
              "      <td>Ukraine</td>\n",
              "      <td>1.2598602485718557</td>\n",
              "    </tr>\n",
              "    <tr>\n",
              "      <th>8091</th>\n",
              "      <td>ury</td>\n",
              "      <td>2017</td>\n",
              "      <td>3456750</td>\n",
              "      <td>5,097,569.0</td>\n",
              "      <td>Uruguay</td>\n",
              "      <td>1.4746710060027481</td>\n",
              "    </tr>\n",
              "    <tr>\n",
              "      <th>8134</th>\n",
              "      <td>usa</td>\n",
              "      <td>2017</td>\n",
              "      <td>324459463</td>\n",
              "      <td>395,881,000.0</td>\n",
              "      <td>United States</td>\n",
              "      <td>1.2201246847283354</td>\n",
              "    </tr>\n",
              "    <tr>\n",
              "      <th>8180</th>\n",
              "      <td>uzb</td>\n",
              "      <td>2017</td>\n",
              "      <td>31910641</td>\n",
              "      <td>24,265,460.0</td>\n",
              "      <td>Uzbekistan</td>\n",
              "      <td>0.7604190714940512</td>\n",
              "    </tr>\n",
              "    <tr>\n",
              "      <th>8225</th>\n",
              "      <td>vct</td>\n",
              "      <td>2017</td>\n",
              "      <td>109897</td>\n",
              "      <td>116,161.0</td>\n",
              "      <td>St. Vincent and the Grenadines</td>\n",
              "      <td>1.056998826173599</td>\n",
              "    </tr>\n",
              "    <tr>\n",
              "      <th>8271</th>\n",
              "      <td>ven</td>\n",
              "      <td>2017</td>\n",
              "      <td>31977065</td>\n",
              "      <td>24,493,687.0</td>\n",
              "      <td>Venezuela</td>\n",
              "      <td>0.7659767086191306</td>\n",
              "    </tr>\n",
              "    <tr>\n",
              "      <th>8317</th>\n",
              "      <td>vnm</td>\n",
              "      <td>2017</td>\n",
              "      <td>95540800</td>\n",
              "      <td>120,016,181.0</td>\n",
              "      <td>Vietnam</td>\n",
              "      <td>1.2561772666755984</td>\n",
              "    </tr>\n",
              "    <tr>\n",
              "      <th>8363</th>\n",
              "      <td>vut</td>\n",
              "      <td>2017</td>\n",
              "      <td>276244</td>\n",
              "      <td>228,016.0</td>\n",
              "      <td>Vanuatu</td>\n",
              "      <td>0.8254152126381026</td>\n",
              "    </tr>\n",
              "    <tr>\n",
              "      <th>8406</th>\n",
              "      <td>wsm</td>\n",
              "      <td>2017</td>\n",
              "      <td>196440</td>\n",
              "      <td>124,211.0</td>\n",
              "      <td>Samoa</td>\n",
              "      <td>0.6323101201384647</td>\n",
              "    </tr>\n",
              "    <tr>\n",
              "      <th>8497</th>\n",
              "      <td>zaf</td>\n",
              "      <td>2017</td>\n",
              "      <td>56717156</td>\n",
              "      <td>91,878,275.0</td>\n",
              "      <td>South Africa</td>\n",
              "      <td>1.619937977849242</td>\n",
              "    </tr>\n",
              "    <tr>\n",
              "      <th>8543</th>\n",
              "      <td>zmb</td>\n",
              "      <td>2017</td>\n",
              "      <td>17094130</td>\n",
              "      <td>13,438,539.0</td>\n",
              "      <td>Zambia</td>\n",
              "      <td>0.786149338983616</td>\n",
              "    </tr>\n",
              "    <tr>\n",
              "      <th>8589</th>\n",
              "      <td>zwe</td>\n",
              "      <td>2017</td>\n",
              "      <td>16529904</td>\n",
              "      <td>14,092,104.0</td>\n",
              "      <td>Zimbabwe</td>\n",
              "      <td>0.8525218295278666</td>\n",
              "    </tr>\n",
              "  </tbody>\n",
              "</table>\n",
              "<p>168 rows × 6 columns</p>\n",
              "</div>"
            ],
            "text/plain": [
              "      geo  time  ...                         country             percent\n",
              "45    afg  2017  ...                     Afghanistan  0.6735057260353557\n",
              "91    ago  2017  ...                          Angola  0.4473497737541521\n",
              "137   alb  2017  ...                         Albania    1.19376340144844\n",
              "183   and  2017  ...                         Andorra  1.0438121223932957\n",
              "219   are  2017  ...            United Arab Emirates   2.109140231347495\n",
              "265   arg  2017  ...                       Argentina  1.3981460024850105\n",
              "311   arm  2017  ...                         Armenia  1.1904396935624222\n",
              "396   aus  2017  ...                       Australia  1.1268862092775704\n",
              "442   aut  2017  ...                         Austria  1.7084792282666967\n",
              "488   aze  2017  ...                      Azerbaijan  1.0304663737972761\n",
              "534   bdi  2017  ...                         Burundi  0.5449630416103466\n",
              "580   bel  2017  ...                         Belgium  1.0465252749591052\n",
              "626   ben  2017  ...                           Benin  0.7850112547840438\n",
              "672   bfa  2017  ...                    Burkina Faso  0.9350293241701749\n",
              "718   bgd  2017  ...                      Bangladesh  0.8812405928761015\n",
              "764   bgr  2017  ...                        Bulgaria  1.2044353850077867\n",
              "810   bhr  2017  ...                         Bahrain   1.584150037786818\n",
              "855   bhs  2017  ...                         Bahamas  0.8942207248565235\n",
              "901   bih  2017  ...          Bosnia and Herzegovina  0.9809148344590288\n",
              "947   blr  2017  ...                         Belarus  1.2056119035885706\n",
              "1038  bol  2017  ...                         Bolivia   0.992003329834594\n",
              "1084  bra  2017  ...                          Brazil  1.1299655683535224\n",
              "1130  brb  2017  ...                        Barbados  1.1822489928916173\n",
              "1175  brn  2017  ...                          Brunei   1.270669027308332\n",
              "1221  btn  2017  ...                          Bhutan   0.904673047634378\n",
              "1267  bwa  2017  ...                        Botswana  1.4140786966309589\n",
              "1358  can  2017  ...                          Canada   0.858956669605252\n",
              "1404  che  2017  ...                     Switzerland  1.3322313991084243\n",
              "1450  chl  2017  ...                           Chile  1.2746328579010282\n",
              "1496  chn  2017  ...                           China  1.0458168186766978\n",
              "...   ...   ...  ...                             ...                 ...\n",
              "7005  smr  2017  ...                      San Marino  1.1377245508982037\n",
              "7064  srb  2017  ...                          Serbia  0.9813810793242853\n",
              "7072  ssd  2017  ...                     South Sudan 0.12019428876960783\n",
              "7118  stp  2017  ...           Sao Tome and Principe  0.8498436330000441\n",
              "7164  sur  2017  ...                        Suriname  1.4126165686312793\n",
              "7210  svk  2017  ...                 Slovak Republic  1.3065702314130356\n",
              "7256  svn  2017  ...                        Slovenia  1.1746154763324193\n",
              "7302  swe  2017  ...                          Sweden  1.2547759235194362\n",
              "7393  syc  2017  ...                      Seychelles  1.7657515015252752\n",
              "7439  syr  2017  ...                           Syria  0.8566017006800487\n",
              "7530  tgo  2017  ...                            Togo  0.7976692853040912\n",
              "7576  tha  2017  ...                        Thailand  1.7603473056742354\n",
              "7682  tls  2017  ...                     Timor-Leste  1.1930964097350096\n",
              "7773  tto  2017  ...             Trinidad and Tobago  1.4831640646398248\n",
              "7817  tun  2017  ...                         Tunisia  1.2429693152009165\n",
              "7863  tur  2017  ...                          Turkey  0.9635290201178971\n",
              "7953  tza  2017  ...                        Tanzania  0.6971531452467326\n",
              "7999  uga  2017  ...                          Uganda  0.5820615086807588\n",
              "8045  ukr  2017  ...                         Ukraine  1.2598602485718557\n",
              "8091  ury  2017  ...                         Uruguay  1.4746710060027481\n",
              "8134  usa  2017  ...                   United States  1.2201246847283354\n",
              "8180  uzb  2017  ...                      Uzbekistan  0.7604190714940512\n",
              "8225  vct  2017  ...  St. Vincent and the Grenadines   1.056998826173599\n",
              "8271  ven  2017  ...                       Venezuela  0.7659767086191306\n",
              "8317  vnm  2017  ...                         Vietnam  1.2561772666755984\n",
              "8363  vut  2017  ...                         Vanuatu  0.8254152126381026\n",
              "8406  wsm  2017  ...                           Samoa  0.6323101201384647\n",
              "8497  zaf  2017  ...                    South Africa   1.619937977849242\n",
              "8543  zmb  2017  ...                          Zambia   0.786149338983616\n",
              "8589  zwe  2017  ...                        Zimbabwe  0.8525218295278666\n",
              "\n",
              "[168 rows x 6 columns]"
            ]
          },
          "metadata": {
            "tags": []
          },
          "execution_count": 163
        }
      ]
    },
    {
      "cell_type": "markdown",
      "metadata": {
        "colab_type": "text",
        "id": "S3QFdsnRZMH6"
      },
      "source": [
        "Modify the `geo` column to make the geo codes uppercase instead of lowercase."
      ]
    },
    {
      "cell_type": "code",
      "metadata": {
        "colab_type": "code",
        "id": "93ADij8_YkOq",
        "colab": {}
      },
      "source": [
        ""
      ],
      "execution_count": 0,
      "outputs": []
    },
    {
      "cell_type": "markdown",
      "metadata": {
        "id": "cQR5RhDa8jzO",
        "colab_type": "text"
      },
      "source": [
        "***Optional bonus for Part 2: Take initiative to make more features.***"
      ]
    },
    {
      "cell_type": "markdown",
      "metadata": {
        "colab_type": "text",
        "id": "hlPDAFCfaF6C"
      },
      "source": [
        "### Part 3. Process data"
      ]
    },
    {
      "cell_type": "markdown",
      "metadata": {
        "colab_type": "text",
        "id": "k-pudNWve2SQ"
      },
      "source": [
        "Use the describe function, to describe your dataframe's numeric columns, and then its non-numeric columns.\n",
        "\n",
        "(You'll see the time period ranges from 1960 to 2017, and there are 195 unique countries represented.)"
      ]
    },
    {
      "cell_type": "markdown",
      "metadata": {
        "colab_type": "text",
        "id": "zALg-RrYaLcI"
      },
      "source": [
        "In 2017, what were the top 5 countries with the most cell phones total?\n",
        "\n",
        "Your list of countries should have these totals:\n",
        "\n",
        "| country | cell phones total |\n",
        "|:-------:|:-----------------:|\n",
        "|    ?    |     1,474,097,000 |\n",
        "|    ?    |     1,168,902,277 |\n",
        "|    ?    |       458,923,202 |\n",
        "|    ?    |       395,881,000 |\n",
        "|    ?    |       236,488,548 |\n",
        "\n"
      ]
    },
    {
      "cell_type": "code",
      "metadata": {
        "colab_type": "code",
        "id": "JdlWvezHaZxD",
        "colab": {}
      },
      "source": [
        "# This optional code formats float numbers with comma separators\n",
        "pd.options.display.float_format = '{:,}'.format"
      ],
      "execution_count": 0,
      "outputs": []
    },
    {
      "cell_type": "code",
      "metadata": {
        "colab_type": "code",
        "id": "smX8vzu4cyju",
        "colab": {
          "base_uri": "https://localhost:8080/",
          "height": 198
        },
        "outputId": "24e8f307-fe02-4ff0-9ffb-0d2288736d44"
      },
      "source": [
        "df2[df2['time'] == 2017].sort_values('cell_phones_total', ascending=False).head(5)"
      ],
      "execution_count": 58,
      "outputs": [
        {
          "output_type": "execute_result",
          "data": {
            "text/html": [
              "<div>\n",
              "<style scoped>\n",
              "    .dataframe tbody tr th:only-of-type {\n",
              "        vertical-align: middle;\n",
              "    }\n",
              "\n",
              "    .dataframe tbody tr th {\n",
              "        vertical-align: top;\n",
              "    }\n",
              "\n",
              "    .dataframe thead th {\n",
              "        text-align: right;\n",
              "    }\n",
              "</style>\n",
              "<table border=\"1\" class=\"dataframe\">\n",
              "  <thead>\n",
              "    <tr style=\"text-align: right;\">\n",
              "      <th></th>\n",
              "      <th>geo</th>\n",
              "      <th>time</th>\n",
              "      <th>population_total</th>\n",
              "      <th>cell_phones_total</th>\n",
              "      <th>country</th>\n",
              "    </tr>\n",
              "  </thead>\n",
              "  <tbody>\n",
              "    <tr>\n",
              "      <th>1496</th>\n",
              "      <td>chn</td>\n",
              "      <td>2017</td>\n",
              "      <td>1409517397</td>\n",
              "      <td>1,474,097,000.0</td>\n",
              "      <td>China</td>\n",
              "    </tr>\n",
              "    <tr>\n",
              "      <th>3595</th>\n",
              "      <td>ind</td>\n",
              "      <td>2017</td>\n",
              "      <td>1339180127</td>\n",
              "      <td>1,168,902,277.0</td>\n",
              "      <td>India</td>\n",
              "    </tr>\n",
              "    <tr>\n",
              "      <th>3549</th>\n",
              "      <td>idn</td>\n",
              "      <td>2017</td>\n",
              "      <td>263991379</td>\n",
              "      <td>458,923,202.0</td>\n",
              "      <td>Indonesia</td>\n",
              "    </tr>\n",
              "    <tr>\n",
              "      <th>8134</th>\n",
              "      <td>usa</td>\n",
              "      <td>2017</td>\n",
              "      <td>324459463</td>\n",
              "      <td>395,881,000.0</td>\n",
              "      <td>United States</td>\n",
              "    </tr>\n",
              "    <tr>\n",
              "      <th>1084</th>\n",
              "      <td>bra</td>\n",
              "      <td>2017</td>\n",
              "      <td>209288278</td>\n",
              "      <td>236,488,548.0</td>\n",
              "      <td>Brazil</td>\n",
              "    </tr>\n",
              "  </tbody>\n",
              "</table>\n",
              "</div>"
            ],
            "text/plain": [
              "      geo  time  population_total  cell_phones_total        country\n",
              "1496  chn  2017        1409517397    1,474,097,000.0          China\n",
              "3595  ind  2017        1339180127    1,168,902,277.0          India\n",
              "3549  idn  2017         263991379      458,923,202.0      Indonesia\n",
              "8134  usa  2017         324459463      395,881,000.0  United States\n",
              "1084  bra  2017         209288278      236,488,548.0         Brazil"
            ]
          },
          "metadata": {
            "tags": []
          },
          "execution_count": 58
        }
      ]
    },
    {
      "cell_type": "markdown",
      "metadata": {
        "colab_type": "text",
        "id": "03V3Wln_h0dj"
      },
      "source": [
        "2017 was the first year that China had more cell phones than people.\n",
        "\n",
        "What was the first year that the USA had more cell phones than people?"
      ]
    },
    {
      "cell_type": "code",
      "metadata": {
        "colab_type": "code",
        "id": "KONQkQZ3haNC",
        "colab": {}
      },
      "source": [
        ""
      ],
      "execution_count": 0,
      "outputs": []
    },
    {
      "cell_type": "markdown",
      "metadata": {
        "id": "4pHjHTwp8jzn",
        "colab_type": "text"
      },
      "source": [
        "***Optional bonus for Part 3: Take initiative to do more exploratory data analysis.***"
      ]
    },
    {
      "cell_type": "markdown",
      "metadata": {
        "colab_type": "text",
        "id": "6J7iwMnTg8KZ"
      },
      "source": [
        "### (OPTIONAL) Part 4. Reshape data"
      ]
    },
    {
      "cell_type": "markdown",
      "metadata": {
        "colab_type": "text",
        "id": "LP9InazRkUxG"
      },
      "source": [
        "*This part is not needed to pass the sprint challenge, only to get a 3! Only work on this after completing the other sections.*\n",
        "\n",
        "Create a pivot table:\n",
        "- Columns: Years 2007—2017\n",
        "- Rows: China, India, United States, Indonesia, Brazil (order doesn't matter)\n",
        "- Values: Cell Phones Total\n",
        "\n",
        "The table's shape should be: (5, 11)"
      ]
    },
    {
      "cell_type": "code",
      "metadata": {
        "colab_type": "code",
        "id": "JD7mXXjLj4Ue",
        "colab": {}
      },
      "source": [
        ""
      ],
      "execution_count": 0,
      "outputs": []
    },
    {
      "cell_type": "markdown",
      "metadata": {
        "colab_type": "text",
        "id": "CNKTu2DCnAo6"
      },
      "source": [
        "Sort these 5 countries, by biggest increase in cell phones from 2007 to 2017.\n",
        "\n",
        "Which country had 935,282,277 more cell phones in 2017 versus 2007?"
      ]
    },
    {
      "cell_type": "code",
      "metadata": {
        "colab_type": "code",
        "id": "O4Aecv1fmQlj",
        "colab": {}
      },
      "source": [
        ""
      ],
      "execution_count": 0,
      "outputs": []
    },
    {
      "cell_type": "markdown",
      "metadata": {
        "colab_type": "text",
        "id": "7iHkMsa3Rorh"
      },
      "source": [
        "If you have the time and curiosity, what other questions can you ask and answer with this data?"
      ]
    },
    {
      "cell_type": "markdown",
      "metadata": {
        "id": "vtcAJOAV9k3X",
        "colab_type": "text"
      },
      "source": [
        "## Data Storytelling\n",
        "\n",
        "In this part of the sprint challenge you'll work with a dataset from **FiveThirtyEight's article, [Every Guest Jon Stewart Ever Had On ‘The Daily Show’](https://fivethirtyeight.com/features/every-guest-jon-stewart-ever-had-on-the-daily-show/)**!"
      ]
    },
    {
      "cell_type": "markdown",
      "metadata": {
        "id": "UtjoIqvm9yFg",
        "colab_type": "text"
      },
      "source": [
        "### Part 0 — Run this starter code\n",
        "\n",
        "You don't need to add or change anything here. Just run this cell and it loads the data for you, into a dataframe named `df`.\n",
        "\n",
        "(You can explore the data if you want, but it's not required to pass the Sprint Challenge.)"
      ]
    },
    {
      "cell_type": "code",
      "metadata": {
        "id": "tYujbhIz9zKU",
        "colab_type": "code",
        "colab": {}
      },
      "source": [
        "%matplotlib inline\n",
        "import matplotlib.pyplot as plt\n",
        "import numpy as np\n",
        "import pandas as pd\n",
        "\n",
        "url = 'https://raw.githubusercontent.com/fivethirtyeight/data/master/daily-show-guests/daily_show_guests.csv'\n",
        "df = pd.read_csv(url).rename(columns={'YEAR': 'Year', 'Raw_Guest_List': 'Guest'})\n",
        "\n",
        "def get_occupation(group):\n",
        "    if group in ['Acting', 'Comedy', 'Musician']:\n",
        "        return 'Acting, Comedy & Music'\n",
        "    elif group in ['Media', 'media']:\n",
        "        return 'Media'\n",
        "    elif group in ['Government', 'Politician', 'Political Aide']:\n",
        "        return 'Government and Politics'\n",
        "    else:\n",
        "        return 'Other'\n",
        "      \n",
        "df['Occupation'] = df['Group'].apply(get_occupation)"
      ],
      "execution_count": 0,
      "outputs": []
    },
    {
      "cell_type": "markdown",
      "metadata": {
        "id": "5hjnMK3j90Rp",
        "colab_type": "text"
      },
      "source": [
        "### Part 1 — What's the breakdown of guests’ occupations per year?\n",
        "\n",
        "For example, in 1999, what percentage of guests were actors, comedians, or musicians? What percentage were in the media? What percentage were in politics? What percentage were from another occupation?\n",
        "\n",
        "Then, what about in 2000? In 2001? And so on, up through 2015.\n",
        "\n",
        "So, **for each year of _The Daily Show_, calculate the percentage of guests from each occupation:**\n",
        "- Acting, Comedy & Music\n",
        "- Government and Politics\n",
        "- Media\n",
        "- Other\n",
        "\n",
        "#### Hints:\n",
        "You can make a crosstab. (See pandas documentation for examples, explanation, and parameters.)\n",
        "\n",
        "You'll know you've calculated correctly when the percentage of \"Acting, Comedy & Music\" guests is 90.36% in 1999, and 45% in 2015.\n",
        "\n",
        "**Optional Bonus Challenge:** Do additional insightful data exploration."
      ]
    },
    {
      "cell_type": "code",
      "metadata": {
        "id": "EbobyiHv916F",
        "colab_type": "code",
        "colab": {}
      },
      "source": [
        "# see what groups there are\n",
        "df.Group"
      ],
      "execution_count": 0,
      "outputs": []
    },
    {
      "cell_type": "code",
      "metadata": {
        "id": "QYAWmcDjsoaS",
        "colab_type": "code",
        "colab": {}
      },
      "source": [
        "# try groupby\n",
        "list(df['Group'].groupby([df['Year']]))"
      ],
      "execution_count": 0,
      "outputs": []
    },
    {
      "cell_type": "code",
      "metadata": {
        "id": "KlV142HfxWnX",
        "colab_type": "code",
        "colab": {}
      },
      "source": [
        "occupation = df.groupby(['GoogleKnowlege_Occupation', 'Year'])"
      ],
      "execution_count": 0,
      "outputs": []
    },
    {
      "cell_type": "code",
      "metadata": {
        "id": "nEc9dy8DxkIS",
        "colab_type": "code",
        "colab": {}
      },
      "source": [
        "# got how many in each occupation per year but don't know how to put it in a list\n",
        "occupation.count()"
      ],
      "execution_count": 0,
      "outputs": []
    },
    {
      "cell_type": "code",
      "metadata": {
        "id": "CmvIAjXF-Cjo",
        "colab_type": "code",
        "colab": {}
      },
      "source": [
        ""
      ],
      "execution_count": 0,
      "outputs": []
    },
    {
      "cell_type": "code",
      "metadata": {
        "id": "yl9_BDkvvVKB",
        "colab_type": "code",
        "colab": {}
      },
      "source": [
        "#counts of occupations in total by not for each year\n",
        "counts = df['Group'].value_counts()\n",
        "counts"
      ],
      "execution_count": 0,
      "outputs": []
    },
    {
      "cell_type": "code",
      "metadata": {
        "id": "-sjAxy_ZvvUP",
        "colab_type": "code",
        "colab": {}
      },
      "source": [
        "#overall total percentage, don't know hwo to use these kinds of lists for plotting\n",
        "#or arithmetic\n",
        "percent = df['Group'].value_counts(normalize=True).mul(100).round(1)\n",
        "percent"
      ],
      "execution_count": 0,
      "outputs": []
    },
    {
      "cell_type": "markdown",
      "metadata": {
        "id": "Kiq56dZb92LY",
        "colab_type": "text"
      },
      "source": [
        "### Part 2 — Recreate this explanatory visualization:"
      ]
    },
    {
      "cell_type": "code",
      "metadata": {
        "id": "HKLDMWwP98vz",
        "colab_type": "code",
        "outputId": "0397fcdf-80e5-4072-88f4-af2f14fcf0f2",
        "colab": {
          "base_uri": "https://localhost:8080/",
          "height": 406
        }
      },
      "source": [
        "from IPython.display import display, Image\n",
        "png = 'https://fivethirtyeight.com/wp-content/uploads/2015/08/hickey-datalab-dailyshow.png'\n",
        "example = Image(png, width=500)\n",
        "display(example)"
      ],
      "execution_count": 0,
      "outputs": [
        {
          "output_type": "display_data",
          "data": {
            "image/png": "[encoded data removed]",
            "text/plain": [
              "<IPython.core.display.Image object>"
            ]
          },
          "metadata": {
            "tags": [],
            "image/png": {
              "width": 500
            }
          }
        }
      ]
    },
    {
      "cell_type": "code",
      "metadata": {
        "id": "xbVOF79jDMXE",
        "colab_type": "code",
        "colab": {}
      },
      "source": [
        "perc = pd.Series(percent)"
      ],
      "execution_count": 0,
      "outputs": []
    },
    {
      "cell_type": "code",
      "metadata": {
        "id": "2NzVxsEh-cwD",
        "colab_type": "code",
        "colab": {
          "base_uri": "https://localhost:8080/",
          "height": 318
        },
        "outputId": "e61e61aa-bc17-4abb-d9f1-a3284f655b2a"
      },
      "source": [
        "import matplotlib.pyplot as plt\n",
        "import numpy as np\n",
        "import seaborn as sns\n",
        "%matplotlib inline\n",
        "\n",
        "\n",
        "#plt.style.use('fivethirtyeight')\n",
        "\n",
        "plt.style.use('seaborn-whitegrid')\n",
        "\n",
        "ax = perc.plot.line()\n",
        "ax.set(yticks=range(0,100,25))\n",
        "\n",
        "\n",
        "ax.text(x=-2, y=88, s=\"Who Got to be On 'The Daily Show'?\", fontsize=18, fontweight=\"bold\");\n",
        "ax.text(x=-2, y=82, s=\"Occupation of Guests by Year\", fontsize=14);\n"
      ],
      "execution_count": 159,
      "outputs": [
        {
          "output_type": "display_data",
          "data": {
            "image/png": "[encoded data removed]",
            "text/plain": [
              "<Figure size 432x288 with 1 Axes>"
            ]
          },
          "metadata": {
            "tags": []
          }
        }
      ]
    },
    {
      "cell_type": "markdown",
      "metadata": {
        "id": "TK5fDIag9-F6",
        "colab_type": "text"
      },
      "source": [
        "**Hints:**\n",
        "- You can choose any Python visualization library you want. I've verified the plot can be reproduced with matplotlib, pandas plot, or seaborn. I assume other libraries like altair or plotly would work too.\n",
        "- If you choose to use seaborn, you may want to upgrade the version to 0.9.0.\n",
        "\n",
        "**Expectations:** Your plot should include:\n",
        "- 3 lines visualizing \"occupation of guests, by year.\" The shapes of the lines should look roughly identical to 538's example. Each line should be a different color. (But you don't need to use the _same_ colors as 538.)\n",
        "- Legend or labels for the lines. (But you don't need each label positioned next to its line or colored like 538.)\n",
        "- Title in the upper left: _\"Who Got To Be On 'The Daily Show'?\"_ with more visual emphasis than the subtitle. (Bolder and/or larger font.)\n",
        "- Subtitle underneath the title: _\"Occupation of guests, by year\"_\n",
        "\n",
        "**Optional Bonus Challenge:**\n",
        "- Give your plot polished aesthetics, with improved resemblance to the 538 example.\n",
        "- Any visual element not specifically mentioned in the expectations is an optional bonus."
      ]
    },
    {
      "cell_type": "code",
      "metadata": {
        "id": "CaB8MMV099Kh",
        "colab_type": "code",
        "colab": {}
      },
      "source": [
        ""
      ],
      "execution_count": 0,
      "outputs": []
    },
    {
      "cell_type": "markdown",
      "metadata": {
        "id": "kW36zxl4-BiW",
        "colab_type": "text"
      },
      "source": [
        "### (OPTIONAL) Part 3 — Who were the top 10 guests on _The Daily Show_?\n",
        "\n",
        "*This part is not needed to pass the sprint challenge, only to get a 3! Only work on this after completing the other sections.*\n",
        "\n",
        "**Make a plot** that shows their names and number of appearances.\n",
        "\n",
        "**Add a title** of your choice.\n",
        "\n",
        "**Expectations:** It's ok to make a simple, quick plot: exploratory, instead of explanatory. \n",
        "\n",
        "**Optional Bonus Challenge:** You can change aesthetics and add more annotation. For example, in a relevant location, could you add the text \"19\" to show that Fareed Zakaria appeared 19 times on _The Daily Show_? (And so on, for each of the top 10 guests.)"
      ]
    },
    {
      "cell_type": "code",
      "metadata": {
        "id": "B3cqzskY-QbM",
        "colab_type": "code",
        "colab": {}
      },
      "source": [
        ""
      ],
      "execution_count": 0,
      "outputs": []
    }
  ]
}