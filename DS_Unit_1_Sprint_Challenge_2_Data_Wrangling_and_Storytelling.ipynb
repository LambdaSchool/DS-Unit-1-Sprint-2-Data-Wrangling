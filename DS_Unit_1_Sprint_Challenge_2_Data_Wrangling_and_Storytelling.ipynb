{
  "nbformat": 4,
  "nbformat_minor": 0,
  "metadata": {
    "colab": {
      "name": "DS_Unit_1_Sprint_Challenge_2_Data_Wrangling_and_Storytelling.ipynb",
      "version": "0.3.2",
      "provenance": [],
      "collapsed_sections": [],
      "include_colab_link": true
    },
    "language_info": {
      "codemirror_mode": {
        "name": "ipython",
        "version": 3
      },
      "file_extension": ".py",
      "mimetype": "text/x-python",
      "name": "python",
      "nbconvert_exporter": "python",
      "pygments_lexer": "ipython3",
      "version": "3.7.1"
    },
    "kernelspec": {
      "display_name": "Python 3",
      "language": "python",
      "name": "python3"
    }
  },
  "cells": [
    {
      "cell_type": "markdown",
      "metadata": {
        "id": "view-in-github",
        "colab_type": "text"
      },
      "source": [
        "<a href=\"https://colab.research.google.com/github/ElisabethShah/DS-Unit-1-Sprint-2-Data-Wrangling-and-Storytelling/blob/master/DS_Unit_1_Sprint_Challenge_2_Data_Wrangling_and_Storytelling.ipynb\" target=\"_parent\"><img src=\"https://colab.research.google.com/assets/colab-badge.svg\" alt=\"Open In Colab\"/></a>"
      ]
    },
    {
      "cell_type": "markdown",
      "metadata": {
        "colab_type": "text",
        "id": "4yMHi_PX9hEz"
      },
      "source": [
        "# Data Science Unit 1 Sprint Challenge 2\n",
        "\n",
        "## Data Wrangling and Storytelling\n",
        "\n",
        "Taming data from its raw form into informative insights and stories."
      ]
    },
    {
      "cell_type": "markdown",
      "metadata": {
        "id": "9wIvtOss9H_i",
        "colab_type": "text"
      },
      "source": [
        "## Data Wrangling\n",
        "\n",
        "In this Sprint Challenge you will first \"wrangle\" some data from [Gapminder](https://www.gapminder.org/about-gapminder/), a Swedish non-profit co-founded by Hans Rosling. \"Gapminder produces free teaching resources making the world understandable based on reliable statistics.\"\n",
        "- [Cell phones (total), by country and year](https://raw.githubusercontent.com/open-numbers/ddf--gapminder--systema_globalis/master/ddf--datapoints--cell_phones_total--by--geo--time.csv)\n",
        "- [Population (total), by country and year](https://raw.githubusercontent.com/open-numbers/ddf--gapminder--systema_globalis/master/ddf--datapoints--population_total--by--geo--time.csv)\n",
        "- [Geo country codes](https://github.com/open-numbers/ddf--gapminder--systema_globalis/blob/master/ddf--entities--geo--country.csv)\n",
        "\n",
        "These two links have everything you need to successfully complete the first part of this sprint challenge.\n",
        "- [Pandas documentation: Working with Text Data](https://pandas.pydata.org/pandas-docs/stable/text.html) (one question)\n",
        "- [Pandas Cheat Sheet](https://github.com/pandas-dev/pandas/blob/master/doc/cheatsheet/Pandas_Cheat_Sheet.pdf) (everything else)"
      ]
    },
    {
      "cell_type": "markdown",
      "metadata": {
        "colab_type": "text",
        "id": "wWEU2GemX68A"
      },
      "source": [
        "### Part 0. Load data\n",
        "\n",
        "You don't need to add or change anything here. Just run this cell and it loads the data for you, into three dataframes."
      ]
    },
    {
      "cell_type": "code",
      "metadata": {
        "colab_type": "code",
        "id": "bxKtSi5sRQOl",
        "colab": {}
      },
      "source": [
        "import pandas as pd\n",
        "\n",
        "cell_phones = pd.read_csv('https://raw.githubusercontent.com/open-numbers/'\n",
        "                          'ddf--gapminder--systema_globalis/master/'\n",
        "                          'ddf--datapoints--cell_phones_total--by--geo--time.csv')\n",
        "\n",
        "population = pd.read_csv('https://raw.githubusercontent.com/open-numbers/'\n",
        "                         'ddf--gapminder--systema_globalis/master/'\n",
        "                         'ddf--datapoints--population_total--by--geo--time.csv')\n",
        "\n",
        "geo_country_codes = (pd.read_csv('https://raw.githubusercontent.com/open-numbers/'\n",
        "                                 'ddf--gapminder--systema_globalis/master/'\n",
        "                                 'ddf--entities--geo--country.csv')\n",
        "                       .rename(columns={'country': 'geo', 'name': 'country'}))"
      ],
      "execution_count": 0,
      "outputs": []
    },
    {
      "cell_type": "code",
      "metadata": {
        "id": "mMJBJuIc5MF8",
        "colab_type": "code",
        "colab": {}
      },
      "source": [
        "# Additional imports.\n",
        "\n",
        "import matplotlib.pyplot as plt\n",
        "import numpy as np\n",
        "import seaborn as sns"
      ],
      "execution_count": 0,
      "outputs": []
    },
    {
      "cell_type": "markdown",
      "metadata": {
        "id": "IebMFVZR0QKW",
        "colab_type": "text"
      },
      "source": [
        "#### Check and preview cell phones dataframe."
      ]
    },
    {
      "cell_type": "code",
      "metadata": {
        "id": "I0odAJbD1UT_",
        "colab_type": "code",
        "colab": {
          "base_uri": "https://localhost:8080/",
          "height": 0
        },
        "outputId": "5d7ebcd6-3de0-4e54-debf-3bdeabdb05a6"
      },
      "source": [
        "cell_phones.shape"
      ],
      "execution_count": 209,
      "outputs": [
        {
          "output_type": "execute_result",
          "data": {
            "text/plain": [
              "(9215, 3)"
            ]
          },
          "metadata": {
            "tags": []
          },
          "execution_count": 209
        }
      ]
    },
    {
      "cell_type": "code",
      "metadata": {
        "id": "bJmFsKTa1Uq2",
        "colab_type": "code",
        "colab": {
          "base_uri": "https://localhost:8080/",
          "height": 0
        },
        "outputId": "eae4cd82-2a08-457d-8be1-e9f720ffcc7c"
      },
      "source": [
        "cell_phones.head()"
      ],
      "execution_count": 210,
      "outputs": [
        {
          "output_type": "execute_result",
          "data": {
            "text/html": [
              "<div>\n",
              "<style scoped>\n",
              "    .dataframe tbody tr th:only-of-type {\n",
              "        vertical-align: middle;\n",
              "    }\n",
              "\n",
              "    .dataframe tbody tr th {\n",
              "        vertical-align: top;\n",
              "    }\n",
              "\n",
              "    .dataframe thead th {\n",
              "        text-align: right;\n",
              "    }\n",
              "</style>\n",
              "<table border=\"1\" class=\"dataframe\">\n",
              "  <thead>\n",
              "    <tr style=\"text-align: right;\">\n",
              "      <th></th>\n",
              "      <th>geo</th>\n",
              "      <th>time</th>\n",
              "      <th>cell_phones_total</th>\n",
              "    </tr>\n",
              "  </thead>\n",
              "  <tbody>\n",
              "    <tr>\n",
              "      <th>0</th>\n",
              "      <td>abw</td>\n",
              "      <td>1960</td>\n",
              "      <td>0.00</td>\n",
              "    </tr>\n",
              "    <tr>\n",
              "      <th>1</th>\n",
              "      <td>abw</td>\n",
              "      <td>1965</td>\n",
              "      <td>0.00</td>\n",
              "    </tr>\n",
              "    <tr>\n",
              "      <th>2</th>\n",
              "      <td>abw</td>\n",
              "      <td>1970</td>\n",
              "      <td>0.00</td>\n",
              "    </tr>\n",
              "    <tr>\n",
              "      <th>3</th>\n",
              "      <td>abw</td>\n",
              "      <td>1975</td>\n",
              "      <td>0.00</td>\n",
              "    </tr>\n",
              "    <tr>\n",
              "      <th>4</th>\n",
              "      <td>abw</td>\n",
              "      <td>1976</td>\n",
              "      <td>0.00</td>\n",
              "    </tr>\n",
              "  </tbody>\n",
              "</table>\n",
              "</div>"
            ],
            "text/plain": [
              "   geo  time  cell_phones_total\n",
              "0  abw  1960               0.00\n",
              "1  abw  1965               0.00\n",
              "2  abw  1970               0.00\n",
              "3  abw  1975               0.00\n",
              "4  abw  1976               0.00"
            ]
          },
          "metadata": {
            "tags": []
          },
          "execution_count": 210
        }
      ]
    },
    {
      "cell_type": "code",
      "metadata": {
        "id": "jgMBnew21VBo",
        "colab_type": "code",
        "colab": {
          "base_uri": "https://localhost:8080/",
          "height": 0
        },
        "outputId": "3203903f-691e-4a33-f83e-b99fceecd4a8"
      },
      "source": [
        "cell_phones.describe()"
      ],
      "execution_count": 211,
      "outputs": [
        {
          "output_type": "execute_result",
          "data": {
            "text/html": [
              "<div>\n",
              "<style scoped>\n",
              "    .dataframe tbody tr th:only-of-type {\n",
              "        vertical-align: middle;\n",
              "    }\n",
              "\n",
              "    .dataframe tbody tr th {\n",
              "        vertical-align: top;\n",
              "    }\n",
              "\n",
              "    .dataframe thead th {\n",
              "        text-align: right;\n",
              "    }\n",
              "</style>\n",
              "<table border=\"1\" class=\"dataframe\">\n",
              "  <thead>\n",
              "    <tr style=\"text-align: right;\">\n",
              "      <th></th>\n",
              "      <th>time</th>\n",
              "      <th>cell_phones_total</th>\n",
              "    </tr>\n",
              "  </thead>\n",
              "  <tbody>\n",
              "    <tr>\n",
              "      <th>count</th>\n",
              "      <td>9,215.00</td>\n",
              "      <td>9,215.00</td>\n",
              "    </tr>\n",
              "    <tr>\n",
              "      <th>mean</th>\n",
              "      <td>1,994.05</td>\n",
              "      <td>8,403,238.89</td>\n",
              "    </tr>\n",
              "    <tr>\n",
              "      <th>std</th>\n",
              "      <td>14.26</td>\n",
              "      <td>53,856,991.91</td>\n",
              "    </tr>\n",
              "    <tr>\n",
              "      <th>min</th>\n",
              "      <td>1,960.00</td>\n",
              "      <td>0.00</td>\n",
              "    </tr>\n",
              "    <tr>\n",
              "      <th>25%</th>\n",
              "      <td>1,983.00</td>\n",
              "      <td>0.00</td>\n",
              "    </tr>\n",
              "    <tr>\n",
              "      <th>50%</th>\n",
              "      <td>1,995.00</td>\n",
              "      <td>4,915.00</td>\n",
              "    </tr>\n",
              "    <tr>\n",
              "      <th>75%</th>\n",
              "      <td>2,006.00</td>\n",
              "      <td>1,260,722.50</td>\n",
              "    </tr>\n",
              "    <tr>\n",
              "      <th>max</th>\n",
              "      <td>2,017.00</td>\n",
              "      <td>1,474,097,000.00</td>\n",
              "    </tr>\n",
              "  </tbody>\n",
              "</table>\n",
              "</div>"
            ],
            "text/plain": [
              "          time  cell_phones_total\n",
              "count 9,215.00           9,215.00\n",
              "mean  1,994.05       8,403,238.89\n",
              "std      14.26      53,856,991.91\n",
              "min   1,960.00               0.00\n",
              "25%   1,983.00               0.00\n",
              "50%   1,995.00           4,915.00\n",
              "75%   2,006.00       1,260,722.50\n",
              "max   2,017.00   1,474,097,000.00"
            ]
          },
          "metadata": {
            "tags": []
          },
          "execution_count": 211
        }
      ]
    },
    {
      "cell_type": "markdown",
      "metadata": {
        "id": "o4gkbPD0zJ4o",
        "colab_type": "text"
      },
      "source": [
        "#### Check and preview population dataframe."
      ]
    },
    {
      "cell_type": "code",
      "metadata": {
        "id": "a9jkDLa2zQhs",
        "colab_type": "code",
        "colab": {
          "base_uri": "https://localhost:8080/",
          "height": 0
        },
        "outputId": "5a87ec83-c16b-47ef-f765-608394c74f62"
      },
      "source": [
        "population.shape"
      ],
      "execution_count": 212,
      "outputs": [
        {
          "output_type": "execute_result",
          "data": {
            "text/plain": [
              "(59297, 3)"
            ]
          },
          "metadata": {
            "tags": []
          },
          "execution_count": 212
        }
      ]
    },
    {
      "cell_type": "code",
      "metadata": {
        "id": "2SFvt1KA0KoP",
        "colab_type": "code",
        "colab": {
          "base_uri": "https://localhost:8080/",
          "height": 0
        },
        "outputId": "ae46bd65-b3e8-4f00-fef0-b2324d480131"
      },
      "source": [
        "population.head()"
      ],
      "execution_count": 213,
      "outputs": [
        {
          "output_type": "execute_result",
          "data": {
            "text/html": [
              "<div>\n",
              "<style scoped>\n",
              "    .dataframe tbody tr th:only-of-type {\n",
              "        vertical-align: middle;\n",
              "    }\n",
              "\n",
              "    .dataframe tbody tr th {\n",
              "        vertical-align: top;\n",
              "    }\n",
              "\n",
              "    .dataframe thead th {\n",
              "        text-align: right;\n",
              "    }\n",
              "</style>\n",
              "<table border=\"1\" class=\"dataframe\">\n",
              "  <thead>\n",
              "    <tr style=\"text-align: right;\">\n",
              "      <th></th>\n",
              "      <th>geo</th>\n",
              "      <th>time</th>\n",
              "      <th>population_total</th>\n",
              "    </tr>\n",
              "  </thead>\n",
              "  <tbody>\n",
              "    <tr>\n",
              "      <th>0</th>\n",
              "      <td>afg</td>\n",
              "      <td>1800</td>\n",
              "      <td>3280000</td>\n",
              "    </tr>\n",
              "    <tr>\n",
              "      <th>1</th>\n",
              "      <td>afg</td>\n",
              "      <td>1801</td>\n",
              "      <td>3280000</td>\n",
              "    </tr>\n",
              "    <tr>\n",
              "      <th>2</th>\n",
              "      <td>afg</td>\n",
              "      <td>1802</td>\n",
              "      <td>3280000</td>\n",
              "    </tr>\n",
              "    <tr>\n",
              "      <th>3</th>\n",
              "      <td>afg</td>\n",
              "      <td>1803</td>\n",
              "      <td>3280000</td>\n",
              "    </tr>\n",
              "    <tr>\n",
              "      <th>4</th>\n",
              "      <td>afg</td>\n",
              "      <td>1804</td>\n",
              "      <td>3280000</td>\n",
              "    </tr>\n",
              "  </tbody>\n",
              "</table>\n",
              "</div>"
            ],
            "text/plain": [
              "   geo  time  population_total\n",
              "0  afg  1800           3280000\n",
              "1  afg  1801           3280000\n",
              "2  afg  1802           3280000\n",
              "3  afg  1803           3280000\n",
              "4  afg  1804           3280000"
            ]
          },
          "metadata": {
            "tags": []
          },
          "execution_count": 213
        }
      ]
    },
    {
      "cell_type": "code",
      "metadata": {
        "id": "He_mKLtA0LJ_",
        "colab_type": "code",
        "colab": {
          "base_uri": "https://localhost:8080/",
          "height": 0
        },
        "outputId": "cfaf36cf-e4dd-4fce-f279-25db86cce468"
      },
      "source": [
        "population.describe(include='all')"
      ],
      "execution_count": 214,
      "outputs": [
        {
          "output_type": "execute_result",
          "data": {
            "text/html": [
              "<div>\n",
              "<style scoped>\n",
              "    .dataframe tbody tr th:only-of-type {\n",
              "        vertical-align: middle;\n",
              "    }\n",
              "\n",
              "    .dataframe tbody tr th {\n",
              "        vertical-align: top;\n",
              "    }\n",
              "\n",
              "    .dataframe thead th {\n",
              "        text-align: right;\n",
              "    }\n",
              "</style>\n",
              "<table border=\"1\" class=\"dataframe\">\n",
              "  <thead>\n",
              "    <tr style=\"text-align: right;\">\n",
              "      <th></th>\n",
              "      <th>geo</th>\n",
              "      <th>time</th>\n",
              "      <th>population_total</th>\n",
              "    </tr>\n",
              "  </thead>\n",
              "  <tbody>\n",
              "    <tr>\n",
              "      <th>count</th>\n",
              "      <td>59297</td>\n",
              "      <td>59,297.00</td>\n",
              "      <td>59,297.00</td>\n",
              "    </tr>\n",
              "    <tr>\n",
              "      <th>unique</th>\n",
              "      <td>197</td>\n",
              "      <td>nan</td>\n",
              "      <td>nan</td>\n",
              "    </tr>\n",
              "    <tr>\n",
              "      <th>top</th>\n",
              "      <td>arg</td>\n",
              "      <td>nan</td>\n",
              "      <td>nan</td>\n",
              "    </tr>\n",
              "    <tr>\n",
              "      <th>freq</th>\n",
              "      <td>301</td>\n",
              "      <td>nan</td>\n",
              "      <td>nan</td>\n",
              "    </tr>\n",
              "    <tr>\n",
              "      <th>mean</th>\n",
              "      <td>NaN</td>\n",
              "      <td>1,950.00</td>\n",
              "      <td>23,116,448.97</td>\n",
              "    </tr>\n",
              "    <tr>\n",
              "      <th>std</th>\n",
              "      <td>NaN</td>\n",
              "      <td>86.89</td>\n",
              "      <td>100,022,255.44</td>\n",
              "    </tr>\n",
              "    <tr>\n",
              "      <th>min</th>\n",
              "      <td>NaN</td>\n",
              "      <td>1,800.00</td>\n",
              "      <td>642.00</td>\n",
              "    </tr>\n",
              "    <tr>\n",
              "      <th>25%</th>\n",
              "      <td>NaN</td>\n",
              "      <td>1,875.00</td>\n",
              "      <td>442,403.00</td>\n",
              "    </tr>\n",
              "    <tr>\n",
              "      <th>50%</th>\n",
              "      <td>NaN</td>\n",
              "      <td>1,950.00</td>\n",
              "      <td>2,599,582.00</td>\n",
              "    </tr>\n",
              "    <tr>\n",
              "      <th>75%</th>\n",
              "      <td>NaN</td>\n",
              "      <td>2,025.00</td>\n",
              "      <td>10,881,995.00</td>\n",
              "    </tr>\n",
              "    <tr>\n",
              "      <th>max</th>\n",
              "      <td>NaN</td>\n",
              "      <td>2,100.00</td>\n",
              "      <td>1,678,655,989.00</td>\n",
              "    </tr>\n",
              "  </tbody>\n",
              "</table>\n",
              "</div>"
            ],
            "text/plain": [
              "          geo      time  population_total\n",
              "count   59297 59,297.00         59,297.00\n",
              "unique    197       nan               nan\n",
              "top       arg       nan               nan\n",
              "freq      301       nan               nan\n",
              "mean      NaN  1,950.00     23,116,448.97\n",
              "std       NaN     86.89    100,022,255.44\n",
              "min       NaN  1,800.00            642.00\n",
              "25%       NaN  1,875.00        442,403.00\n",
              "50%       NaN  1,950.00      2,599,582.00\n",
              "75%       NaN  2,025.00     10,881,995.00\n",
              "max       NaN  2,100.00  1,678,655,989.00"
            ]
          },
          "metadata": {
            "tags": []
          },
          "execution_count": 214
        }
      ]
    },
    {
      "cell_type": "markdown",
      "metadata": {
        "id": "lRejgGsA0duB",
        "colab_type": "text"
      },
      "source": [
        "#### Check and preview country dataframe."
      ]
    },
    {
      "cell_type": "code",
      "metadata": {
        "id": "5O_PcrKvzuWJ",
        "colab_type": "code",
        "colab": {
          "base_uri": "https://localhost:8080/",
          "height": 0
        },
        "outputId": "c612d16e-5f8f-4e54-a3c5-acd39321d622"
      },
      "source": [
        "geo_country_codes.shape"
      ],
      "execution_count": 215,
      "outputs": [
        {
          "output_type": "execute_result",
          "data": {
            "text/plain": [
              "(273, 33)"
            ]
          },
          "metadata": {
            "tags": []
          },
          "execution_count": 215
        }
      ]
    },
    {
      "cell_type": "code",
      "metadata": {
        "id": "DVkBct0U0e7w",
        "colab_type": "code",
        "colab": {
          "base_uri": "https://localhost:8080/",
          "height": 0
        },
        "outputId": "494d8b33-e379-46cf-a304-869408151cd8"
      },
      "source": [
        "geo_country_codes.head()"
      ],
      "execution_count": 216,
      "outputs": [
        {
          "output_type": "execute_result",
          "data": {
            "text/html": [
              "<div>\n",
              "<style scoped>\n",
              "    .dataframe tbody tr th:only-of-type {\n",
              "        vertical-align: middle;\n",
              "    }\n",
              "\n",
              "    .dataframe tbody tr th {\n",
              "        vertical-align: top;\n",
              "    }\n",
              "\n",
              "    .dataframe thead th {\n",
              "        text-align: right;\n",
              "    }\n",
              "</style>\n",
              "<table border=\"1\" class=\"dataframe\">\n",
              "  <thead>\n",
              "    <tr style=\"text-align: right;\">\n",
              "      <th></th>\n",
              "      <th>geo</th>\n",
              "      <th>alt_5</th>\n",
              "      <th>alternative_1</th>\n",
              "      <th>alternative_2</th>\n",
              "      <th>alternative_3</th>\n",
              "      <th>alternative_4_cdiac</th>\n",
              "      <th>arb1</th>\n",
              "      <th>arb2</th>\n",
              "      <th>arb3</th>\n",
              "      <th>arb4</th>\n",
              "      <th>arb5</th>\n",
              "      <th>arb6</th>\n",
              "      <th>g77_and_oecd_countries</th>\n",
              "      <th>gapminder_list</th>\n",
              "      <th>god_id</th>\n",
              "      <th>gwid</th>\n",
              "      <th>income_groups</th>\n",
              "      <th>is--country</th>\n",
              "      <th>iso3166_1_alpha2</th>\n",
              "      <th>iso3166_1_alpha3</th>\n",
              "      <th>iso3166_1_numeric</th>\n",
              "      <th>iso3166_2</th>\n",
              "      <th>landlocked</th>\n",
              "      <th>latitude</th>\n",
              "      <th>longitude</th>\n",
              "      <th>main_religion_2008</th>\n",
              "      <th>country</th>\n",
              "      <th>pandg</th>\n",
              "      <th>un_state</th>\n",
              "      <th>unicode_region_subtag</th>\n",
              "      <th>upper_case_name</th>\n",
              "      <th>world_4region</th>\n",
              "      <th>world_6region</th>\n",
              "    </tr>\n",
              "  </thead>\n",
              "  <tbody>\n",
              "    <tr>\n",
              "      <th>0</th>\n",
              "      <td>abkh</td>\n",
              "      <td>NaN</td>\n",
              "      <td>NaN</td>\n",
              "      <td>NaN</td>\n",
              "      <td>NaN</td>\n",
              "      <td>NaN</td>\n",
              "      <td>NaN</td>\n",
              "      <td>NaN</td>\n",
              "      <td>NaN</td>\n",
              "      <td>NaN</td>\n",
              "      <td>NaN</td>\n",
              "      <td>NaN</td>\n",
              "      <td>others</td>\n",
              "      <td>Abkhazia</td>\n",
              "      <td>GE-AB</td>\n",
              "      <td>i0</td>\n",
              "      <td>NaN</td>\n",
              "      <td>True</td>\n",
              "      <td>NaN</td>\n",
              "      <td>NaN</td>\n",
              "      <td>nan</td>\n",
              "      <td>NaN</td>\n",
              "      <td>NaN</td>\n",
              "      <td>nan</td>\n",
              "      <td>nan</td>\n",
              "      <td>NaN</td>\n",
              "      <td>Abkhazia</td>\n",
              "      <td>NaN</td>\n",
              "      <td>False</td>\n",
              "      <td>NaN</td>\n",
              "      <td>NaN</td>\n",
              "      <td>europe</td>\n",
              "      <td>europe_central_asia</td>\n",
              "    </tr>\n",
              "    <tr>\n",
              "      <th>1</th>\n",
              "      <td>abw</td>\n",
              "      <td>NaN</td>\n",
              "      <td>NaN</td>\n",
              "      <td>NaN</td>\n",
              "      <td>NaN</td>\n",
              "      <td>Aruba</td>\n",
              "      <td>NaN</td>\n",
              "      <td>NaN</td>\n",
              "      <td>NaN</td>\n",
              "      <td>NaN</td>\n",
              "      <td>NaN</td>\n",
              "      <td>NaN</td>\n",
              "      <td>others</td>\n",
              "      <td>Aruba</td>\n",
              "      <td>AW</td>\n",
              "      <td>i12</td>\n",
              "      <td>high_income</td>\n",
              "      <td>True</td>\n",
              "      <td>AW</td>\n",
              "      <td>ABW</td>\n",
              "      <td>533.00</td>\n",
              "      <td>NaN</td>\n",
              "      <td>coastline</td>\n",
              "      <td>12.50</td>\n",
              "      <td>-69.97</td>\n",
              "      <td>christian</td>\n",
              "      <td>Aruba</td>\n",
              "      <td>NaN</td>\n",
              "      <td>False</td>\n",
              "      <td>AW</td>\n",
              "      <td>ARUBA</td>\n",
              "      <td>americas</td>\n",
              "      <td>america</td>\n",
              "    </tr>\n",
              "    <tr>\n",
              "      <th>2</th>\n",
              "      <td>afg</td>\n",
              "      <td>NaN</td>\n",
              "      <td>Islamic Republic of Afghanistan</td>\n",
              "      <td>NaN</td>\n",
              "      <td>NaN</td>\n",
              "      <td>Afghanistan</td>\n",
              "      <td>NaN</td>\n",
              "      <td>NaN</td>\n",
              "      <td>NaN</td>\n",
              "      <td>NaN</td>\n",
              "      <td>NaN</td>\n",
              "      <td>NaN</td>\n",
              "      <td>g77</td>\n",
              "      <td>Afghanistan</td>\n",
              "      <td>AF</td>\n",
              "      <td>i1</td>\n",
              "      <td>low_income</td>\n",
              "      <td>True</td>\n",
              "      <td>AF</td>\n",
              "      <td>AFG</td>\n",
              "      <td>4.00</td>\n",
              "      <td>NaN</td>\n",
              "      <td>landlocked</td>\n",
              "      <td>33.00</td>\n",
              "      <td>66.00</td>\n",
              "      <td>muslim</td>\n",
              "      <td>Afghanistan</td>\n",
              "      <td>AFGHANISTAN</td>\n",
              "      <td>True</td>\n",
              "      <td>AF</td>\n",
              "      <td>AFGHANISTAN</td>\n",
              "      <td>asia</td>\n",
              "      <td>south_asia</td>\n",
              "    </tr>\n",
              "    <tr>\n",
              "      <th>3</th>\n",
              "      <td>ago</td>\n",
              "      <td>NaN</td>\n",
              "      <td>NaN</td>\n",
              "      <td>NaN</td>\n",
              "      <td>NaN</td>\n",
              "      <td>Angola</td>\n",
              "      <td>NaN</td>\n",
              "      <td>NaN</td>\n",
              "      <td>NaN</td>\n",
              "      <td>NaN</td>\n",
              "      <td>NaN</td>\n",
              "      <td>NaN</td>\n",
              "      <td>g77</td>\n",
              "      <td>Angola</td>\n",
              "      <td>AO</td>\n",
              "      <td>i7</td>\n",
              "      <td>upper_middle_income</td>\n",
              "      <td>True</td>\n",
              "      <td>AO</td>\n",
              "      <td>AGO</td>\n",
              "      <td>24.00</td>\n",
              "      <td>NaN</td>\n",
              "      <td>coastline</td>\n",
              "      <td>-12.50</td>\n",
              "      <td>18.50</td>\n",
              "      <td>christian</td>\n",
              "      <td>Angola</td>\n",
              "      <td>ANGOLA</td>\n",
              "      <td>True</td>\n",
              "      <td>AO</td>\n",
              "      <td>ANGOLA</td>\n",
              "      <td>africa</td>\n",
              "      <td>sub_saharan_africa</td>\n",
              "    </tr>\n",
              "    <tr>\n",
              "      <th>4</th>\n",
              "      <td>aia</td>\n",
              "      <td>NaN</td>\n",
              "      <td>NaN</td>\n",
              "      <td>NaN</td>\n",
              "      <td>NaN</td>\n",
              "      <td>NaN</td>\n",
              "      <td>NaN</td>\n",
              "      <td>NaN</td>\n",
              "      <td>NaN</td>\n",
              "      <td>NaN</td>\n",
              "      <td>NaN</td>\n",
              "      <td>NaN</td>\n",
              "      <td>others</td>\n",
              "      <td>Anguilla</td>\n",
              "      <td>AI</td>\n",
              "      <td>i8</td>\n",
              "      <td>NaN</td>\n",
              "      <td>True</td>\n",
              "      <td>AI</td>\n",
              "      <td>AIA</td>\n",
              "      <td>660.00</td>\n",
              "      <td>NaN</td>\n",
              "      <td>coastline</td>\n",
              "      <td>18.22</td>\n",
              "      <td>-63.05</td>\n",
              "      <td>christian</td>\n",
              "      <td>Anguilla</td>\n",
              "      <td>NaN</td>\n",
              "      <td>False</td>\n",
              "      <td>AI</td>\n",
              "      <td>ANGUILLA</td>\n",
              "      <td>americas</td>\n",
              "      <td>america</td>\n",
              "    </tr>\n",
              "  </tbody>\n",
              "</table>\n",
              "</div>"
            ],
            "text/plain": [
              "    geo alt_5  ... world_4region        world_6region\n",
              "0  abkh   NaN  ...        europe  europe_central_asia\n",
              "1   abw   NaN  ...      americas              america\n",
              "2   afg   NaN  ...          asia           south_asia\n",
              "3   ago   NaN  ...        africa   sub_saharan_africa\n",
              "4   aia   NaN  ...      americas              america\n",
              "\n",
              "[5 rows x 33 columns]"
            ]
          },
          "metadata": {
            "tags": []
          },
          "execution_count": 216
        }
      ]
    },
    {
      "cell_type": "code",
      "metadata": {
        "id": "obm9yHan0jQ3",
        "colab_type": "code",
        "colab": {
          "base_uri": "https://localhost:8080/",
          "height": 0
        },
        "outputId": "87791081-7fab-472c-f580-13bc65cddfd3"
      },
      "source": [
        "geo_country_codes.describe()"
      ],
      "execution_count": 217,
      "outputs": [
        {
          "output_type": "execute_result",
          "data": {
            "text/html": [
              "<div>\n",
              "<style scoped>\n",
              "    .dataframe tbody tr th:only-of-type {\n",
              "        vertical-align: middle;\n",
              "    }\n",
              "\n",
              "    .dataframe tbody tr th {\n",
              "        vertical-align: top;\n",
              "    }\n",
              "\n",
              "    .dataframe thead th {\n",
              "        text-align: right;\n",
              "    }\n",
              "</style>\n",
              "<table border=\"1\" class=\"dataframe\">\n",
              "  <thead>\n",
              "    <tr style=\"text-align: right;\">\n",
              "      <th></th>\n",
              "      <th>iso3166_1_numeric</th>\n",
              "      <th>latitude</th>\n",
              "      <th>longitude</th>\n",
              "    </tr>\n",
              "  </thead>\n",
              "  <tbody>\n",
              "    <tr>\n",
              "      <th>count</th>\n",
              "      <td>247.00</td>\n",
              "      <td>241.00</td>\n",
              "      <td>241.00</td>\n",
              "    </tr>\n",
              "    <tr>\n",
              "      <th>mean</th>\n",
              "      <td>434.13</td>\n",
              "      <td>17.48</td>\n",
              "      <td>14.29</td>\n",
              "    </tr>\n",
              "    <tr>\n",
              "      <th>std</th>\n",
              "      <td>253.68</td>\n",
              "      <td>25.92</td>\n",
              "      <td>74.25</td>\n",
              "    </tr>\n",
              "    <tr>\n",
              "      <th>min</th>\n",
              "      <td>4.00</td>\n",
              "      <td>-90.00</td>\n",
              "      <td>-176.20</td>\n",
              "    </tr>\n",
              "    <tr>\n",
              "      <th>25%</th>\n",
              "      <td>216.00</td>\n",
              "      <td>1.29</td>\n",
              "      <td>-40.00</td>\n",
              "    </tr>\n",
              "    <tr>\n",
              "      <th>50%</th>\n",
              "      <td>434.00</td>\n",
              "      <td>16.75</td>\n",
              "      <td>17.83</td>\n",
              "    </tr>\n",
              "    <tr>\n",
              "      <th>75%</th>\n",
              "      <td>653.00</td>\n",
              "      <td>39.69</td>\n",
              "      <td>48.00</td>\n",
              "    </tr>\n",
              "    <tr>\n",
              "      <th>max</th>\n",
              "      <td>894.00</td>\n",
              "      <td>78.00</td>\n",
              "      <td>179.14</td>\n",
              "    </tr>\n",
              "  </tbody>\n",
              "</table>\n",
              "</div>"
            ],
            "text/plain": [
              "       iso3166_1_numeric  latitude  longitude\n",
              "count             247.00    241.00     241.00\n",
              "mean              434.13     17.48      14.29\n",
              "std               253.68     25.92      74.25\n",
              "min                 4.00    -90.00    -176.20\n",
              "25%               216.00      1.29     -40.00\n",
              "50%               434.00     16.75      17.83\n",
              "75%               653.00     39.69      48.00\n",
              "max               894.00     78.00     179.14"
            ]
          },
          "metadata": {
            "tags": []
          },
          "execution_count": 217
        }
      ]
    },
    {
      "cell_type": "markdown",
      "metadata": {
        "colab_type": "text",
        "id": "AZmVTeCsX9RC"
      },
      "source": [
        "### Part 1. Join data"
      ]
    },
    {
      "cell_type": "markdown",
      "metadata": {
        "colab_type": "text",
        "id": "GLzX58u4SfEy"
      },
      "source": [
        "First, join the `cell_phones` and `population` dataframes (with an inner join on `geo` and `time`).\n",
        "\n",
        "The resulting dataframe's shape should be: (8590, 4)"
      ]
    },
    {
      "cell_type": "code",
      "metadata": {
        "colab_type": "code",
        "id": "GVV7Hnj4SXBa",
        "colab": {
          "base_uri": "https://localhost:8080/",
          "height": 35
        },
        "outputId": "ef56bc47-3606-41e5-efa3-71d043cbba54"
      },
      "source": [
        "# Join dataframes and check shape of result. Inner is the default, but we make \n",
        "# it explicit here.\n",
        "\n",
        "merged = pd.merge(cell_phones, population, on=['geo','time'], how='inner')\n",
        "merged.shape"
      ],
      "execution_count": 218,
      "outputs": [
        {
          "output_type": "execute_result",
          "data": {
            "text/plain": [
              "(8590, 4)"
            ]
          },
          "metadata": {
            "tags": []
          },
          "execution_count": 218
        }
      ]
    },
    {
      "cell_type": "markdown",
      "metadata": {
        "colab_type": "text",
        "id": "xsXpDbwwW241"
      },
      "source": [
        "Then, select the `geo` and `country` columns from the `geo_country_codes` dataframe, and join with your population and cell phone data.\n",
        "\n",
        "The resulting dataframe's shape should be: (8590, 5)"
      ]
    },
    {
      "cell_type": "code",
      "metadata": {
        "colab_type": "code",
        "id": "Q2LaZta_W2CE",
        "colab": {
          "base_uri": "https://localhost:8080/",
          "height": 35
        },
        "outputId": "07bbf166-f615-47da-bd14-7b75fb0fab58"
      },
      "source": [
        "# Join dataframes and check shape of result.\n",
        "\n",
        "merged = pd.merge(merged, geo_country_codes[['geo','country']], \n",
        "                  on='geo', how='inner')\n",
        "merged.shape"
      ],
      "execution_count": 219,
      "outputs": [
        {
          "output_type": "execute_result",
          "data": {
            "text/plain": [
              "(8590, 5)"
            ]
          },
          "metadata": {
            "tags": []
          },
          "execution_count": 219
        }
      ]
    },
    {
      "cell_type": "markdown",
      "metadata": {
        "id": "LxCJMpbk8jy6",
        "colab_type": "text"
      },
      "source": [
        "***Optional bonus for Part 1: Take initiative to join more data.***"
      ]
    },
    {
      "cell_type": "code",
      "metadata": {
        "id": "kSET6qFS1qVQ",
        "colab_type": "code",
        "colab": {
          "base_uri": "https://localhost:8080/",
          "height": 35
        },
        "outputId": "fd20ca6a-46ce-4061-ed11-3824bc7e3174"
      },
      "source": [
        "# Add region info to dataframe; confirm no rows lost.\n",
        "\n",
        "merged = pd.merge(merged, geo_country_codes[['geo', 'world_6region']], \n",
        "                  on='geo', how='inner')\n",
        "merged.shape"
      ],
      "execution_count": 220,
      "outputs": [
        {
          "output_type": "execute_result",
          "data": {
            "text/plain": [
              "(8590, 6)"
            ]
          },
          "metadata": {
            "tags": []
          },
          "execution_count": 220
        }
      ]
    },
    {
      "cell_type": "code",
      "metadata": {
        "id": "TFKzO3C715gq",
        "colab_type": "code",
        "colab": {
          "base_uri": "https://localhost:8080/",
          "height": 206
        },
        "outputId": "7c351ef8-fffd-4909-f008-95bfea9d9a4d"
      },
      "source": [
        "# Preview data.\n",
        "merged.head()"
      ],
      "execution_count": 221,
      "outputs": [
        {
          "output_type": "execute_result",
          "data": {
            "text/html": [
              "<div>\n",
              "<style scoped>\n",
              "    .dataframe tbody tr th:only-of-type {\n",
              "        vertical-align: middle;\n",
              "    }\n",
              "\n",
              "    .dataframe tbody tr th {\n",
              "        vertical-align: top;\n",
              "    }\n",
              "\n",
              "    .dataframe thead th {\n",
              "        text-align: right;\n",
              "    }\n",
              "</style>\n",
              "<table border=\"1\" class=\"dataframe\">\n",
              "  <thead>\n",
              "    <tr style=\"text-align: right;\">\n",
              "      <th></th>\n",
              "      <th>geo</th>\n",
              "      <th>time</th>\n",
              "      <th>cell_phones_total</th>\n",
              "      <th>population_total</th>\n",
              "      <th>country</th>\n",
              "      <th>world_6region</th>\n",
              "    </tr>\n",
              "  </thead>\n",
              "  <tbody>\n",
              "    <tr>\n",
              "      <th>0</th>\n",
              "      <td>afg</td>\n",
              "      <td>1960</td>\n",
              "      <td>0.00</td>\n",
              "      <td>8996351</td>\n",
              "      <td>Afghanistan</td>\n",
              "      <td>south_asia</td>\n",
              "    </tr>\n",
              "    <tr>\n",
              "      <th>1</th>\n",
              "      <td>afg</td>\n",
              "      <td>1965</td>\n",
              "      <td>0.00</td>\n",
              "      <td>9938414</td>\n",
              "      <td>Afghanistan</td>\n",
              "      <td>south_asia</td>\n",
              "    </tr>\n",
              "    <tr>\n",
              "      <th>2</th>\n",
              "      <td>afg</td>\n",
              "      <td>1970</td>\n",
              "      <td>0.00</td>\n",
              "      <td>11126123</td>\n",
              "      <td>Afghanistan</td>\n",
              "      <td>south_asia</td>\n",
              "    </tr>\n",
              "    <tr>\n",
              "      <th>3</th>\n",
              "      <td>afg</td>\n",
              "      <td>1975</td>\n",
              "      <td>0.00</td>\n",
              "      <td>12590286</td>\n",
              "      <td>Afghanistan</td>\n",
              "      <td>south_asia</td>\n",
              "    </tr>\n",
              "    <tr>\n",
              "      <th>4</th>\n",
              "      <td>afg</td>\n",
              "      <td>1976</td>\n",
              "      <td>0.00</td>\n",
              "      <td>12840299</td>\n",
              "      <td>Afghanistan</td>\n",
              "      <td>south_asia</td>\n",
              "    </tr>\n",
              "  </tbody>\n",
              "</table>\n",
              "</div>"
            ],
            "text/plain": [
              "   geo  time  cell_phones_total  population_total      country world_6region\n",
              "0  afg  1960               0.00           8996351  Afghanistan    south_asia\n",
              "1  afg  1965               0.00           9938414  Afghanistan    south_asia\n",
              "2  afg  1970               0.00          11126123  Afghanistan    south_asia\n",
              "3  afg  1975               0.00          12590286  Afghanistan    south_asia\n",
              "4  afg  1976               0.00          12840299  Afghanistan    south_asia"
            ]
          },
          "metadata": {
            "tags": []
          },
          "execution_count": 221
        }
      ]
    },
    {
      "cell_type": "code",
      "metadata": {
        "id": "Fx1qQ7hf2CHX",
        "colab_type": "code",
        "colab": {
          "base_uri": "https://localhost:8080/",
          "height": 35
        },
        "outputId": "a6d1e0ab-a933-40d7-8f0a-a39f0c17a61c"
      },
      "source": [
        "# Import data on broadband subscribers by country and year; check shape.\n",
        "broadband = pd.read_csv('https://raw.githubusercontent.com/open-numbers/'\n",
        "                        'ddf--gapminder--systema_globalis/master/'\n",
        "                        'ddf--datapoints--broadband_subscribers--by--geo--time.csv')\n",
        "broadband.shape"
      ],
      "execution_count": 222,
      "outputs": [
        {
          "output_type": "execute_result",
          "data": {
            "text/plain": [
              "(2986, 3)"
            ]
          },
          "metadata": {
            "tags": []
          },
          "execution_count": 222
        }
      ]
    },
    {
      "cell_type": "code",
      "metadata": {
        "id": "M_sbJx9S2QgD",
        "colab_type": "code",
        "colab": {
          "base_uri": "https://localhost:8080/",
          "height": 206
        },
        "outputId": "e2940158-07b4-43ed-adb5-1f9a055e7ed5"
      },
      "source": [
        "# Check and preview imported broadband data.\n",
        "broadband.head()"
      ],
      "execution_count": 223,
      "outputs": [
        {
          "output_type": "execute_result",
          "data": {
            "text/html": [
              "<div>\n",
              "<style scoped>\n",
              "    .dataframe tbody tr th:only-of-type {\n",
              "        vertical-align: middle;\n",
              "    }\n",
              "\n",
              "    .dataframe tbody tr th {\n",
              "        vertical-align: top;\n",
              "    }\n",
              "\n",
              "    .dataframe thead th {\n",
              "        text-align: right;\n",
              "    }\n",
              "</style>\n",
              "<table border=\"1\" class=\"dataframe\">\n",
              "  <thead>\n",
              "    <tr style=\"text-align: right;\">\n",
              "      <th></th>\n",
              "      <th>geo</th>\n",
              "      <th>time</th>\n",
              "      <th>broadband_subscribers</th>\n",
              "    </tr>\n",
              "  </thead>\n",
              "  <tbody>\n",
              "    <tr>\n",
              "      <th>0</th>\n",
              "      <td>abw</td>\n",
              "      <td>2003</td>\n",
              "      <td>1,399.00</td>\n",
              "    </tr>\n",
              "    <tr>\n",
              "      <th>1</th>\n",
              "      <td>abw</td>\n",
              "      <td>2004</td>\n",
              "      <td>6,963.00</td>\n",
              "    </tr>\n",
              "    <tr>\n",
              "      <th>2</th>\n",
              "      <td>abw</td>\n",
              "      <td>2005</td>\n",
              "      <td>12,274.00</td>\n",
              "    </tr>\n",
              "    <tr>\n",
              "      <th>3</th>\n",
              "      <td>abw</td>\n",
              "      <td>2006</td>\n",
              "      <td>13,953.00</td>\n",
              "    </tr>\n",
              "    <tr>\n",
              "      <th>4</th>\n",
              "      <td>abw</td>\n",
              "      <td>2007</td>\n",
              "      <td>15,996.00</td>\n",
              "    </tr>\n",
              "  </tbody>\n",
              "</table>\n",
              "</div>"
            ],
            "text/plain": [
              "   geo  time  broadband_subscribers\n",
              "0  abw  2003               1,399.00\n",
              "1  abw  2004               6,963.00\n",
              "2  abw  2005              12,274.00\n",
              "3  abw  2006              13,953.00\n",
              "4  abw  2007              15,996.00"
            ]
          },
          "metadata": {
            "tags": []
          },
          "execution_count": 223
        }
      ]
    },
    {
      "cell_type": "code",
      "metadata": {
        "id": "f5axxZW02Xrg",
        "colab_type": "code",
        "colab": {
          "base_uri": "https://localhost:8080/",
          "height": 35
        },
        "outputId": "6ef6069e-1be4-4ac8-8d66-3087ec8b6ab9"
      },
      "source": [
        "# Add broadband info to main dataframe, where available; confirm no rows lost.\n",
        "merged = pd.merge(merged, broadband, on=['geo', 'time'], how='left')\n",
        "merged.shape"
      ],
      "execution_count": 224,
      "outputs": [
        {
          "output_type": "execute_result",
          "data": {
            "text/plain": [
              "(8590, 7)"
            ]
          },
          "metadata": {
            "tags": []
          },
          "execution_count": 224
        }
      ]
    },
    {
      "cell_type": "code",
      "metadata": {
        "id": "a9u6xJt02g25",
        "colab_type": "code",
        "colab": {
          "base_uri": "https://localhost:8080/",
          "height": 206
        },
        "outputId": "5ab087ea-68dd-4ee6-b1c0-881b84831bab"
      },
      "source": [
        "# Preview data.\n",
        "merged.head()"
      ],
      "execution_count": 225,
      "outputs": [
        {
          "output_type": "execute_result",
          "data": {
            "text/html": [
              "<div>\n",
              "<style scoped>\n",
              "    .dataframe tbody tr th:only-of-type {\n",
              "        vertical-align: middle;\n",
              "    }\n",
              "\n",
              "    .dataframe tbody tr th {\n",
              "        vertical-align: top;\n",
              "    }\n",
              "\n",
              "    .dataframe thead th {\n",
              "        text-align: right;\n",
              "    }\n",
              "</style>\n",
              "<table border=\"1\" class=\"dataframe\">\n",
              "  <thead>\n",
              "    <tr style=\"text-align: right;\">\n",
              "      <th></th>\n",
              "      <th>geo</th>\n",
              "      <th>time</th>\n",
              "      <th>cell_phones_total</th>\n",
              "      <th>population_total</th>\n",
              "      <th>country</th>\n",
              "      <th>world_6region</th>\n",
              "      <th>broadband_subscribers</th>\n",
              "    </tr>\n",
              "  </thead>\n",
              "  <tbody>\n",
              "    <tr>\n",
              "      <th>0</th>\n",
              "      <td>afg</td>\n",
              "      <td>1960</td>\n",
              "      <td>0.00</td>\n",
              "      <td>8996351</td>\n",
              "      <td>Afghanistan</td>\n",
              "      <td>south_asia</td>\n",
              "      <td>nan</td>\n",
              "    </tr>\n",
              "    <tr>\n",
              "      <th>1</th>\n",
              "      <td>afg</td>\n",
              "      <td>1965</td>\n",
              "      <td>0.00</td>\n",
              "      <td>9938414</td>\n",
              "      <td>Afghanistan</td>\n",
              "      <td>south_asia</td>\n",
              "      <td>nan</td>\n",
              "    </tr>\n",
              "    <tr>\n",
              "      <th>2</th>\n",
              "      <td>afg</td>\n",
              "      <td>1970</td>\n",
              "      <td>0.00</td>\n",
              "      <td>11126123</td>\n",
              "      <td>Afghanistan</td>\n",
              "      <td>south_asia</td>\n",
              "      <td>nan</td>\n",
              "    </tr>\n",
              "    <tr>\n",
              "      <th>3</th>\n",
              "      <td>afg</td>\n",
              "      <td>1975</td>\n",
              "      <td>0.00</td>\n",
              "      <td>12590286</td>\n",
              "      <td>Afghanistan</td>\n",
              "      <td>south_asia</td>\n",
              "      <td>nan</td>\n",
              "    </tr>\n",
              "    <tr>\n",
              "      <th>4</th>\n",
              "      <td>afg</td>\n",
              "      <td>1976</td>\n",
              "      <td>0.00</td>\n",
              "      <td>12840299</td>\n",
              "      <td>Afghanistan</td>\n",
              "      <td>south_asia</td>\n",
              "      <td>nan</td>\n",
              "    </tr>\n",
              "  </tbody>\n",
              "</table>\n",
              "</div>"
            ],
            "text/plain": [
              "   geo  time  ...  world_6region  broadband_subscribers\n",
              "0  afg  1960  ...     south_asia                    nan\n",
              "1  afg  1965  ...     south_asia                    nan\n",
              "2  afg  1970  ...     south_asia                    nan\n",
              "3  afg  1975  ...     south_asia                    nan\n",
              "4  afg  1976  ...     south_asia                    nan\n",
              "\n",
              "[5 rows x 7 columns]"
            ]
          },
          "metadata": {
            "tags": []
          },
          "execution_count": 225
        }
      ]
    },
    {
      "cell_type": "code",
      "metadata": {
        "id": "ED55k0wl2lGu",
        "colab_type": "code",
        "colab": {
          "base_uri": "https://localhost:8080/",
          "height": 206
        },
        "outputId": "1ea7676d-7054-4883-9899-4dd1c255bdf2"
      },
      "source": [
        "# Preview data for years where broadband subscription numbers are more likely \n",
        "# to be available.\n",
        "merged.tail()"
      ],
      "execution_count": 226,
      "outputs": [
        {
          "output_type": "execute_result",
          "data": {
            "text/html": [
              "<div>\n",
              "<style scoped>\n",
              "    .dataframe tbody tr th:only-of-type {\n",
              "        vertical-align: middle;\n",
              "    }\n",
              "\n",
              "    .dataframe tbody tr th {\n",
              "        vertical-align: top;\n",
              "    }\n",
              "\n",
              "    .dataframe thead th {\n",
              "        text-align: right;\n",
              "    }\n",
              "</style>\n",
              "<table border=\"1\" class=\"dataframe\">\n",
              "  <thead>\n",
              "    <tr style=\"text-align: right;\">\n",
              "      <th></th>\n",
              "      <th>geo</th>\n",
              "      <th>time</th>\n",
              "      <th>cell_phones_total</th>\n",
              "      <th>population_total</th>\n",
              "      <th>country</th>\n",
              "      <th>world_6region</th>\n",
              "      <th>broadband_subscribers</th>\n",
              "    </tr>\n",
              "  </thead>\n",
              "  <tbody>\n",
              "    <tr>\n",
              "      <th>8585</th>\n",
              "      <td>zwe</td>\n",
              "      <td>2013</td>\n",
              "      <td>13,633,167.00</td>\n",
              "      <td>15054506</td>\n",
              "      <td>Zimbabwe</td>\n",
              "      <td>sub_saharan_africa</td>\n",
              "      <td>103,916.00</td>\n",
              "    </tr>\n",
              "    <tr>\n",
              "      <th>8586</th>\n",
              "      <td>zwe</td>\n",
              "      <td>2014</td>\n",
              "      <td>11,798,652.00</td>\n",
              "      <td>15411675</td>\n",
              "      <td>Zimbabwe</td>\n",
              "      <td>sub_saharan_africa</td>\n",
              "      <td>152,234.00</td>\n",
              "    </tr>\n",
              "    <tr>\n",
              "      <th>8587</th>\n",
              "      <td>zwe</td>\n",
              "      <td>2015</td>\n",
              "      <td>12,757,410.00</td>\n",
              "      <td>15777451</td>\n",
              "      <td>Zimbabwe</td>\n",
              "      <td>sub_saharan_africa</td>\n",
              "      <td>163,987.00</td>\n",
              "    </tr>\n",
              "    <tr>\n",
              "      <th>8588</th>\n",
              "      <td>zwe</td>\n",
              "      <td>2016</td>\n",
              "      <td>12,878,926.00</td>\n",
              "      <td>16150362</td>\n",
              "      <td>Zimbabwe</td>\n",
              "      <td>sub_saharan_africa</td>\n",
              "      <td>170,838.00</td>\n",
              "    </tr>\n",
              "    <tr>\n",
              "      <th>8589</th>\n",
              "      <td>zwe</td>\n",
              "      <td>2017</td>\n",
              "      <td>14,092,104.00</td>\n",
              "      <td>16529904</td>\n",
              "      <td>Zimbabwe</td>\n",
              "      <td>sub_saharan_africa</td>\n",
              "      <td>187,310.00</td>\n",
              "    </tr>\n",
              "  </tbody>\n",
              "</table>\n",
              "</div>"
            ],
            "text/plain": [
              "      geo  time  ...       world_6region  broadband_subscribers\n",
              "8585  zwe  2013  ...  sub_saharan_africa             103,916.00\n",
              "8586  zwe  2014  ...  sub_saharan_africa             152,234.00\n",
              "8587  zwe  2015  ...  sub_saharan_africa             163,987.00\n",
              "8588  zwe  2016  ...  sub_saharan_africa             170,838.00\n",
              "8589  zwe  2017  ...  sub_saharan_africa             187,310.00\n",
              "\n",
              "[5 rows x 7 columns]"
            ]
          },
          "metadata": {
            "tags": []
          },
          "execution_count": 226
        }
      ]
    },
    {
      "cell_type": "markdown",
      "metadata": {
        "colab_type": "text",
        "id": "oK96Uj7vYjFX"
      },
      "source": [
        "### Part 2. Make features"
      ]
    },
    {
      "cell_type": "markdown",
      "metadata": {
        "colab_type": "text",
        "id": "AD2fBNrOYzCG"
      },
      "source": [
        "Calculate the number of cell phones per person, and add this column onto your dataframe.\n",
        "\n",
        "(You've calculated correctly if you get 1.220 cell phones per person in the United States in 2017.)"
      ]
    },
    {
      "cell_type": "code",
      "metadata": {
        "colab_type": "code",
        "id": "wXI9nQthYnFK",
        "colab": {
          "base_uri": "https://localhost:8080/",
          "height": 206
        },
        "outputId": "37ddf262-1420-456b-cd37-b3e64785149f"
      },
      "source": [
        "# Calculate and add cell phones per person column. Verify.\n",
        "\n",
        "merged['cell_phones_per_capita'] = merged['cell_phones_total'] / merged['population_total']\n",
        "merged.head()"
      ],
      "execution_count": 227,
      "outputs": [
        {
          "output_type": "execute_result",
          "data": {
            "text/html": [
              "<div>\n",
              "<style scoped>\n",
              "    .dataframe tbody tr th:only-of-type {\n",
              "        vertical-align: middle;\n",
              "    }\n",
              "\n",
              "    .dataframe tbody tr th {\n",
              "        vertical-align: top;\n",
              "    }\n",
              "\n",
              "    .dataframe thead th {\n",
              "        text-align: right;\n",
              "    }\n",
              "</style>\n",
              "<table border=\"1\" class=\"dataframe\">\n",
              "  <thead>\n",
              "    <tr style=\"text-align: right;\">\n",
              "      <th></th>\n",
              "      <th>geo</th>\n",
              "      <th>time</th>\n",
              "      <th>cell_phones_total</th>\n",
              "      <th>population_total</th>\n",
              "      <th>country</th>\n",
              "      <th>world_6region</th>\n",
              "      <th>broadband_subscribers</th>\n",
              "      <th>cell_phones_per_capita</th>\n",
              "    </tr>\n",
              "  </thead>\n",
              "  <tbody>\n",
              "    <tr>\n",
              "      <th>0</th>\n",
              "      <td>afg</td>\n",
              "      <td>1960</td>\n",
              "      <td>0.00</td>\n",
              "      <td>8996351</td>\n",
              "      <td>Afghanistan</td>\n",
              "      <td>south_asia</td>\n",
              "      <td>nan</td>\n",
              "      <td>0.00</td>\n",
              "    </tr>\n",
              "    <tr>\n",
              "      <th>1</th>\n",
              "      <td>afg</td>\n",
              "      <td>1965</td>\n",
              "      <td>0.00</td>\n",
              "      <td>9938414</td>\n",
              "      <td>Afghanistan</td>\n",
              "      <td>south_asia</td>\n",
              "      <td>nan</td>\n",
              "      <td>0.00</td>\n",
              "    </tr>\n",
              "    <tr>\n",
              "      <th>2</th>\n",
              "      <td>afg</td>\n",
              "      <td>1970</td>\n",
              "      <td>0.00</td>\n",
              "      <td>11126123</td>\n",
              "      <td>Afghanistan</td>\n",
              "      <td>south_asia</td>\n",
              "      <td>nan</td>\n",
              "      <td>0.00</td>\n",
              "    </tr>\n",
              "    <tr>\n",
              "      <th>3</th>\n",
              "      <td>afg</td>\n",
              "      <td>1975</td>\n",
              "      <td>0.00</td>\n",
              "      <td>12590286</td>\n",
              "      <td>Afghanistan</td>\n",
              "      <td>south_asia</td>\n",
              "      <td>nan</td>\n",
              "      <td>0.00</td>\n",
              "    </tr>\n",
              "    <tr>\n",
              "      <th>4</th>\n",
              "      <td>afg</td>\n",
              "      <td>1976</td>\n",
              "      <td>0.00</td>\n",
              "      <td>12840299</td>\n",
              "      <td>Afghanistan</td>\n",
              "      <td>south_asia</td>\n",
              "      <td>nan</td>\n",
              "      <td>0.00</td>\n",
              "    </tr>\n",
              "  </tbody>\n",
              "</table>\n",
              "</div>"
            ],
            "text/plain": [
              "   geo  time  ...  broadband_subscribers  cell_phones_per_capita\n",
              "0  afg  1960  ...                    nan                    0.00\n",
              "1  afg  1965  ...                    nan                    0.00\n",
              "2  afg  1970  ...                    nan                    0.00\n",
              "3  afg  1975  ...                    nan                    0.00\n",
              "4  afg  1976  ...                    nan                    0.00\n",
              "\n",
              "[5 rows x 8 columns]"
            ]
          },
          "metadata": {
            "tags": []
          },
          "execution_count": 227
        }
      ]
    },
    {
      "cell_type": "code",
      "metadata": {
        "id": "g1rxH3PU3J5G",
        "colab_type": "code",
        "colab": {
          "base_uri": "https://localhost:8080/",
          "height": 81
        },
        "outputId": "7ea0b8d3-c2b7-4884-bc83-497cc9dc3b0c"
      },
      "source": [
        "# Verify 1.220 cell phones per person in the U.S. in 2017.\n",
        "\n",
        "merged.loc[(merged['geo'] == 'usa') & (merged['time'] == 2017)]"
      ],
      "execution_count": 228,
      "outputs": [
        {
          "output_type": "execute_result",
          "data": {
            "text/html": [
              "<div>\n",
              "<style scoped>\n",
              "    .dataframe tbody tr th:only-of-type {\n",
              "        vertical-align: middle;\n",
              "    }\n",
              "\n",
              "    .dataframe tbody tr th {\n",
              "        vertical-align: top;\n",
              "    }\n",
              "\n",
              "    .dataframe thead th {\n",
              "        text-align: right;\n",
              "    }\n",
              "</style>\n",
              "<table border=\"1\" class=\"dataframe\">\n",
              "  <thead>\n",
              "    <tr style=\"text-align: right;\">\n",
              "      <th></th>\n",
              "      <th>geo</th>\n",
              "      <th>time</th>\n",
              "      <th>cell_phones_total</th>\n",
              "      <th>population_total</th>\n",
              "      <th>country</th>\n",
              "      <th>world_6region</th>\n",
              "      <th>broadband_subscribers</th>\n",
              "      <th>cell_phones_per_capita</th>\n",
              "    </tr>\n",
              "  </thead>\n",
              "  <tbody>\n",
              "    <tr>\n",
              "      <th>8134</th>\n",
              "      <td>usa</td>\n",
              "      <td>2017</td>\n",
              "      <td>395,881,000.00</td>\n",
              "      <td>324459463</td>\n",
              "      <td>United States</td>\n",
              "      <td>america</td>\n",
              "      <td>109,838,000.00</td>\n",
              "      <td>1.22</td>\n",
              "    </tr>\n",
              "  </tbody>\n",
              "</table>\n",
              "</div>"
            ],
            "text/plain": [
              "      geo  time  ...  broadband_subscribers  cell_phones_per_capita\n",
              "8134  usa  2017  ...         109,838,000.00                    1.22\n",
              "\n",
              "[1 rows x 8 columns]"
            ]
          },
          "metadata": {
            "tags": []
          },
          "execution_count": 228
        }
      ]
    },
    {
      "cell_type": "markdown",
      "metadata": {
        "colab_type": "text",
        "id": "S3QFdsnRZMH6"
      },
      "source": [
        "Modify the `geo` column to make the geo codes uppercase instead of lowercase."
      ]
    },
    {
      "cell_type": "code",
      "metadata": {
        "colab_type": "code",
        "id": "93ADij8_YkOq",
        "colab": {
          "base_uri": "https://localhost:8080/",
          "height": 206
        },
        "outputId": "c8e7ac4b-2112-4cdb-9ac6-c3696be613b6"
      },
      "source": [
        "# Capitalize and verify country code column.\n",
        "\n",
        "merged['geo'] = merged['geo'].str.upper()\n",
        "merged.head()"
      ],
      "execution_count": 229,
      "outputs": [
        {
          "output_type": "execute_result",
          "data": {
            "text/html": [
              "<div>\n",
              "<style scoped>\n",
              "    .dataframe tbody tr th:only-of-type {\n",
              "        vertical-align: middle;\n",
              "    }\n",
              "\n",
              "    .dataframe tbody tr th {\n",
              "        vertical-align: top;\n",
              "    }\n",
              "\n",
              "    .dataframe thead th {\n",
              "        text-align: right;\n",
              "    }\n",
              "</style>\n",
              "<table border=\"1\" class=\"dataframe\">\n",
              "  <thead>\n",
              "    <tr style=\"text-align: right;\">\n",
              "      <th></th>\n",
              "      <th>geo</th>\n",
              "      <th>time</th>\n",
              "      <th>cell_phones_total</th>\n",
              "      <th>population_total</th>\n",
              "      <th>country</th>\n",
              "      <th>world_6region</th>\n",
              "      <th>broadband_subscribers</th>\n",
              "      <th>cell_phones_per_capita</th>\n",
              "    </tr>\n",
              "  </thead>\n",
              "  <tbody>\n",
              "    <tr>\n",
              "      <th>0</th>\n",
              "      <td>AFG</td>\n",
              "      <td>1960</td>\n",
              "      <td>0.00</td>\n",
              "      <td>8996351</td>\n",
              "      <td>Afghanistan</td>\n",
              "      <td>south_asia</td>\n",
              "      <td>nan</td>\n",
              "      <td>0.00</td>\n",
              "    </tr>\n",
              "    <tr>\n",
              "      <th>1</th>\n",
              "      <td>AFG</td>\n",
              "      <td>1965</td>\n",
              "      <td>0.00</td>\n",
              "      <td>9938414</td>\n",
              "      <td>Afghanistan</td>\n",
              "      <td>south_asia</td>\n",
              "      <td>nan</td>\n",
              "      <td>0.00</td>\n",
              "    </tr>\n",
              "    <tr>\n",
              "      <th>2</th>\n",
              "      <td>AFG</td>\n",
              "      <td>1970</td>\n",
              "      <td>0.00</td>\n",
              "      <td>11126123</td>\n",
              "      <td>Afghanistan</td>\n",
              "      <td>south_asia</td>\n",
              "      <td>nan</td>\n",
              "      <td>0.00</td>\n",
              "    </tr>\n",
              "    <tr>\n",
              "      <th>3</th>\n",
              "      <td>AFG</td>\n",
              "      <td>1975</td>\n",
              "      <td>0.00</td>\n",
              "      <td>12590286</td>\n",
              "      <td>Afghanistan</td>\n",
              "      <td>south_asia</td>\n",
              "      <td>nan</td>\n",
              "      <td>0.00</td>\n",
              "    </tr>\n",
              "    <tr>\n",
              "      <th>4</th>\n",
              "      <td>AFG</td>\n",
              "      <td>1976</td>\n",
              "      <td>0.00</td>\n",
              "      <td>12840299</td>\n",
              "      <td>Afghanistan</td>\n",
              "      <td>south_asia</td>\n",
              "      <td>nan</td>\n",
              "      <td>0.00</td>\n",
              "    </tr>\n",
              "  </tbody>\n",
              "</table>\n",
              "</div>"
            ],
            "text/plain": [
              "   geo  time  ...  broadband_subscribers  cell_phones_per_capita\n",
              "0  AFG  1960  ...                    nan                    0.00\n",
              "1  AFG  1965  ...                    nan                    0.00\n",
              "2  AFG  1970  ...                    nan                    0.00\n",
              "3  AFG  1975  ...                    nan                    0.00\n",
              "4  AFG  1976  ...                    nan                    0.00\n",
              "\n",
              "[5 rows x 8 columns]"
            ]
          },
          "metadata": {
            "tags": []
          },
          "execution_count": 229
        }
      ]
    },
    {
      "cell_type": "markdown",
      "metadata": {
        "id": "cQR5RhDa8jzO",
        "colab_type": "text"
      },
      "source": [
        "***Optional bonus for Part 2: Take initiative to make more features.***"
      ]
    },
    {
      "cell_type": "code",
      "metadata": {
        "id": "kOhtIwPt3l1l",
        "colab_type": "code",
        "colab": {
          "base_uri": "https://localhost:8080/",
          "height": 206
        },
        "outputId": "d5e98942-ff89-48ca-ad53-ecd63a5b95e6"
      },
      "source": [
        "# Calculate and add broadband subscriptions per person column. Verify.\n",
        "\n",
        "merged['broadband_per_capita'] = merged['broadband_subscribers'] / merged['population_total']\n",
        "merged.head()"
      ],
      "execution_count": 230,
      "outputs": [
        {
          "output_type": "execute_result",
          "data": {
            "text/html": [
              "<div>\n",
              "<style scoped>\n",
              "    .dataframe tbody tr th:only-of-type {\n",
              "        vertical-align: middle;\n",
              "    }\n",
              "\n",
              "    .dataframe tbody tr th {\n",
              "        vertical-align: top;\n",
              "    }\n",
              "\n",
              "    .dataframe thead th {\n",
              "        text-align: right;\n",
              "    }\n",
              "</style>\n",
              "<table border=\"1\" class=\"dataframe\">\n",
              "  <thead>\n",
              "    <tr style=\"text-align: right;\">\n",
              "      <th></th>\n",
              "      <th>geo</th>\n",
              "      <th>time</th>\n",
              "      <th>cell_phones_total</th>\n",
              "      <th>population_total</th>\n",
              "      <th>country</th>\n",
              "      <th>world_6region</th>\n",
              "      <th>broadband_subscribers</th>\n",
              "      <th>cell_phones_per_capita</th>\n",
              "      <th>broadband_per_capita</th>\n",
              "    </tr>\n",
              "  </thead>\n",
              "  <tbody>\n",
              "    <tr>\n",
              "      <th>0</th>\n",
              "      <td>AFG</td>\n",
              "      <td>1960</td>\n",
              "      <td>0.00</td>\n",
              "      <td>8996351</td>\n",
              "      <td>Afghanistan</td>\n",
              "      <td>south_asia</td>\n",
              "      <td>nan</td>\n",
              "      <td>0.00</td>\n",
              "      <td>nan</td>\n",
              "    </tr>\n",
              "    <tr>\n",
              "      <th>1</th>\n",
              "      <td>AFG</td>\n",
              "      <td>1965</td>\n",
              "      <td>0.00</td>\n",
              "      <td>9938414</td>\n",
              "      <td>Afghanistan</td>\n",
              "      <td>south_asia</td>\n",
              "      <td>nan</td>\n",
              "      <td>0.00</td>\n",
              "      <td>nan</td>\n",
              "    </tr>\n",
              "    <tr>\n",
              "      <th>2</th>\n",
              "      <td>AFG</td>\n",
              "      <td>1970</td>\n",
              "      <td>0.00</td>\n",
              "      <td>11126123</td>\n",
              "      <td>Afghanistan</td>\n",
              "      <td>south_asia</td>\n",
              "      <td>nan</td>\n",
              "      <td>0.00</td>\n",
              "      <td>nan</td>\n",
              "    </tr>\n",
              "    <tr>\n",
              "      <th>3</th>\n",
              "      <td>AFG</td>\n",
              "      <td>1975</td>\n",
              "      <td>0.00</td>\n",
              "      <td>12590286</td>\n",
              "      <td>Afghanistan</td>\n",
              "      <td>south_asia</td>\n",
              "      <td>nan</td>\n",
              "      <td>0.00</td>\n",
              "      <td>nan</td>\n",
              "    </tr>\n",
              "    <tr>\n",
              "      <th>4</th>\n",
              "      <td>AFG</td>\n",
              "      <td>1976</td>\n",
              "      <td>0.00</td>\n",
              "      <td>12840299</td>\n",
              "      <td>Afghanistan</td>\n",
              "      <td>south_asia</td>\n",
              "      <td>nan</td>\n",
              "      <td>0.00</td>\n",
              "      <td>nan</td>\n",
              "    </tr>\n",
              "  </tbody>\n",
              "</table>\n",
              "</div>"
            ],
            "text/plain": [
              "   geo  time  ...  cell_phones_per_capita  broadband_per_capita\n",
              "0  AFG  1960  ...                    0.00                   nan\n",
              "1  AFG  1965  ...                    0.00                   nan\n",
              "2  AFG  1970  ...                    0.00                   nan\n",
              "3  AFG  1975  ...                    0.00                   nan\n",
              "4  AFG  1976  ...                    0.00                   nan\n",
              "\n",
              "[5 rows x 9 columns]"
            ]
          },
          "metadata": {
            "tags": []
          },
          "execution_count": 230
        }
      ]
    },
    {
      "cell_type": "code",
      "metadata": {
        "id": "hMeD-V3O4Wiu",
        "colab_type": "code",
        "colab": {
          "base_uri": "https://localhost:8080/",
          "height": 206
        },
        "outputId": "4c43be4b-d609-4687-beca-c1c8db2329c1"
      },
      "source": [
        "# Check also for column data where numeric values available for calculation.\n",
        "\n",
        "merged.tail()"
      ],
      "execution_count": 231,
      "outputs": [
        {
          "output_type": "execute_result",
          "data": {
            "text/html": [
              "<div>\n",
              "<style scoped>\n",
              "    .dataframe tbody tr th:only-of-type {\n",
              "        vertical-align: middle;\n",
              "    }\n",
              "\n",
              "    .dataframe tbody tr th {\n",
              "        vertical-align: top;\n",
              "    }\n",
              "\n",
              "    .dataframe thead th {\n",
              "        text-align: right;\n",
              "    }\n",
              "</style>\n",
              "<table border=\"1\" class=\"dataframe\">\n",
              "  <thead>\n",
              "    <tr style=\"text-align: right;\">\n",
              "      <th></th>\n",
              "      <th>geo</th>\n",
              "      <th>time</th>\n",
              "      <th>cell_phones_total</th>\n",
              "      <th>population_total</th>\n",
              "      <th>country</th>\n",
              "      <th>world_6region</th>\n",
              "      <th>broadband_subscribers</th>\n",
              "      <th>cell_phones_per_capita</th>\n",
              "      <th>broadband_per_capita</th>\n",
              "    </tr>\n",
              "  </thead>\n",
              "  <tbody>\n",
              "    <tr>\n",
              "      <th>8585</th>\n",
              "      <td>ZWE</td>\n",
              "      <td>2013</td>\n",
              "      <td>13,633,167.00</td>\n",
              "      <td>15054506</td>\n",
              "      <td>Zimbabwe</td>\n",
              "      <td>sub_saharan_africa</td>\n",
              "      <td>103,916.00</td>\n",
              "      <td>0.91</td>\n",
              "      <td>0.01</td>\n",
              "    </tr>\n",
              "    <tr>\n",
              "      <th>8586</th>\n",
              "      <td>ZWE</td>\n",
              "      <td>2014</td>\n",
              "      <td>11,798,652.00</td>\n",
              "      <td>15411675</td>\n",
              "      <td>Zimbabwe</td>\n",
              "      <td>sub_saharan_africa</td>\n",
              "      <td>152,234.00</td>\n",
              "      <td>0.77</td>\n",
              "      <td>0.01</td>\n",
              "    </tr>\n",
              "    <tr>\n",
              "      <th>8587</th>\n",
              "      <td>ZWE</td>\n",
              "      <td>2015</td>\n",
              "      <td>12,757,410.00</td>\n",
              "      <td>15777451</td>\n",
              "      <td>Zimbabwe</td>\n",
              "      <td>sub_saharan_africa</td>\n",
              "      <td>163,987.00</td>\n",
              "      <td>0.81</td>\n",
              "      <td>0.01</td>\n",
              "    </tr>\n",
              "    <tr>\n",
              "      <th>8588</th>\n",
              "      <td>ZWE</td>\n",
              "      <td>2016</td>\n",
              "      <td>12,878,926.00</td>\n",
              "      <td>16150362</td>\n",
              "      <td>Zimbabwe</td>\n",
              "      <td>sub_saharan_africa</td>\n",
              "      <td>170,838.00</td>\n",
              "      <td>0.80</td>\n",
              "      <td>0.01</td>\n",
              "    </tr>\n",
              "    <tr>\n",
              "      <th>8589</th>\n",
              "      <td>ZWE</td>\n",
              "      <td>2017</td>\n",
              "      <td>14,092,104.00</td>\n",
              "      <td>16529904</td>\n",
              "      <td>Zimbabwe</td>\n",
              "      <td>sub_saharan_africa</td>\n",
              "      <td>187,310.00</td>\n",
              "      <td>0.85</td>\n",
              "      <td>0.01</td>\n",
              "    </tr>\n",
              "  </tbody>\n",
              "</table>\n",
              "</div>"
            ],
            "text/plain": [
              "      geo  time  ...  cell_phones_per_capita  broadband_per_capita\n",
              "8585  ZWE  2013  ...                    0.91                  0.01\n",
              "8586  ZWE  2014  ...                    0.77                  0.01\n",
              "8587  ZWE  2015  ...                    0.81                  0.01\n",
              "8588  ZWE  2016  ...                    0.80                  0.01\n",
              "8589  ZWE  2017  ...                    0.85                  0.01\n",
              "\n",
              "[5 rows x 9 columns]"
            ]
          },
          "metadata": {
            "tags": []
          },
          "execution_count": 231
        }
      ]
    },
    {
      "cell_type": "markdown",
      "metadata": {
        "colab_type": "text",
        "id": "hlPDAFCfaF6C"
      },
      "source": [
        "### Part 3. Process data"
      ]
    },
    {
      "cell_type": "markdown",
      "metadata": {
        "colab_type": "text",
        "id": "k-pudNWve2SQ"
      },
      "source": [
        "Use the describe function, to describe your dataframe's numeric columns, and then its non-numeric columns.\n",
        "\n",
        "(You'll see the time period ranges from 1960 to 2017, and there are 195 unique countries represented.)"
      ]
    },
    {
      "cell_type": "code",
      "metadata": {
        "colab_type": "code",
        "id": "g26yemKre2Cu",
        "colab": {
          "base_uri": "https://localhost:8080/",
          "height": 300
        },
        "outputId": "316a9e99-c4aa-4cf8-b3be-7a96310e40f9"
      },
      "source": [
        "# Summary statistics for numeric columns.\n",
        "\n",
        "merged.describe()"
      ],
      "execution_count": 232,
      "outputs": [
        {
          "output_type": "execute_result",
          "data": {
            "text/html": [
              "<div>\n",
              "<style scoped>\n",
              "    .dataframe tbody tr th:only-of-type {\n",
              "        vertical-align: middle;\n",
              "    }\n",
              "\n",
              "    .dataframe tbody tr th {\n",
              "        vertical-align: top;\n",
              "    }\n",
              "\n",
              "    .dataframe thead th {\n",
              "        text-align: right;\n",
              "    }\n",
              "</style>\n",
              "<table border=\"1\" class=\"dataframe\">\n",
              "  <thead>\n",
              "    <tr style=\"text-align: right;\">\n",
              "      <th></th>\n",
              "      <th>time</th>\n",
              "      <th>cell_phones_total</th>\n",
              "      <th>population_total</th>\n",
              "      <th>broadband_subscribers</th>\n",
              "      <th>cell_phones_per_capita</th>\n",
              "      <th>broadband_per_capita</th>\n",
              "    </tr>\n",
              "  </thead>\n",
              "  <tbody>\n",
              "    <tr>\n",
              "      <th>count</th>\n",
              "      <td>8,590.00</td>\n",
              "      <td>8,590.00</td>\n",
              "      <td>8,590.00</td>\n",
              "      <td>2,815.00</td>\n",
              "      <td>8,590.00</td>\n",
              "      <td>2,815.00</td>\n",
              "    </tr>\n",
              "    <tr>\n",
              "      <th>mean</th>\n",
              "      <td>1,994.19</td>\n",
              "      <td>9,004,949.64</td>\n",
              "      <td>29,838,230.58</td>\n",
              "      <td>2,838,013.73</td>\n",
              "      <td>0.28</td>\n",
              "      <td>0.08</td>\n",
              "    </tr>\n",
              "    <tr>\n",
              "      <th>std</th>\n",
              "      <td>14.26</td>\n",
              "      <td>55,734,084.87</td>\n",
              "      <td>116,128,377.47</td>\n",
              "      <td>15,126,376.65</td>\n",
              "      <td>0.45</td>\n",
              "      <td>0.11</td>\n",
              "    </tr>\n",
              "    <tr>\n",
              "      <th>min</th>\n",
              "      <td>1,960.00</td>\n",
              "      <td>0.00</td>\n",
              "      <td>4,433.00</td>\n",
              "      <td>0.00</td>\n",
              "      <td>0.00</td>\n",
              "      <td>0.00</td>\n",
              "    </tr>\n",
              "    <tr>\n",
              "      <th>25%</th>\n",
              "      <td>1,983.00</td>\n",
              "      <td>0.00</td>\n",
              "      <td>1,456,148.00</td>\n",
              "      <td>7,460.50</td>\n",
              "      <td>0.00</td>\n",
              "      <td>0.00</td>\n",
              "    </tr>\n",
              "    <tr>\n",
              "      <th>50%</th>\n",
              "      <td>1,995.00</td>\n",
              "      <td>6,200.00</td>\n",
              "      <td>5,725,062.50</td>\n",
              "      <td>81,018.00</td>\n",
              "      <td>0.00</td>\n",
              "      <td>0.02</td>\n",
              "    </tr>\n",
              "    <tr>\n",
              "      <th>75%</th>\n",
              "      <td>2,006.00</td>\n",
              "      <td>1,697,652.00</td>\n",
              "      <td>18,105,812.00</td>\n",
              "      <td>1,052,690.00</td>\n",
              "      <td>0.46</td>\n",
              "      <td>0.13</td>\n",
              "    </tr>\n",
              "    <tr>\n",
              "      <th>max</th>\n",
              "      <td>2,017.00</td>\n",
              "      <td>1,474,097,000.00</td>\n",
              "      <td>1,409,517,397.00</td>\n",
              "      <td>378,540,000.00</td>\n",
              "      <td>2.49</td>\n",
              "      <td>0.50</td>\n",
              "    </tr>\n",
              "  </tbody>\n",
              "</table>\n",
              "</div>"
            ],
            "text/plain": [
              "          time  cell_phones_total  ...  cell_phones_per_capita  broadband_per_capita\n",
              "count 8,590.00           8,590.00  ...                8,590.00              2,815.00\n",
              "mean  1,994.19       9,004,949.64  ...                    0.28                  0.08\n",
              "std      14.26      55,734,084.87  ...                    0.45                  0.11\n",
              "min   1,960.00               0.00  ...                    0.00                  0.00\n",
              "25%   1,983.00               0.00  ...                    0.00                  0.00\n",
              "50%   1,995.00           6,200.00  ...                    0.00                  0.02\n",
              "75%   2,006.00       1,697,652.00  ...                    0.46                  0.13\n",
              "max   2,017.00   1,474,097,000.00  ...                    2.49                  0.50\n",
              "\n",
              "[8 rows x 6 columns]"
            ]
          },
          "metadata": {
            "tags": []
          },
          "execution_count": 232
        }
      ]
    },
    {
      "cell_type": "code",
      "metadata": {
        "id": "xtmknJhu4v68",
        "colab_type": "code",
        "colab": {
          "base_uri": "https://localhost:8080/",
          "height": 175
        },
        "outputId": "a4fa165a-4314-41d6-d3a6-a210a944440d"
      },
      "source": [
        "# Summary statistics for string columns.\n",
        "\n",
        "merged.describe(include=np.object)"
      ],
      "execution_count": 233,
      "outputs": [
        {
          "output_type": "execute_result",
          "data": {
            "text/html": [
              "<div>\n",
              "<style scoped>\n",
              "    .dataframe tbody tr th:only-of-type {\n",
              "        vertical-align: middle;\n",
              "    }\n",
              "\n",
              "    .dataframe tbody tr th {\n",
              "        vertical-align: top;\n",
              "    }\n",
              "\n",
              "    .dataframe thead th {\n",
              "        text-align: right;\n",
              "    }\n",
              "</style>\n",
              "<table border=\"1\" class=\"dataframe\">\n",
              "  <thead>\n",
              "    <tr style=\"text-align: right;\">\n",
              "      <th></th>\n",
              "      <th>geo</th>\n",
              "      <th>country</th>\n",
              "      <th>world_6region</th>\n",
              "    </tr>\n",
              "  </thead>\n",
              "  <tbody>\n",
              "    <tr>\n",
              "      <th>count</th>\n",
              "      <td>8590</td>\n",
              "      <td>8590</td>\n",
              "      <td>8590</td>\n",
              "    </tr>\n",
              "    <tr>\n",
              "      <th>unique</th>\n",
              "      <td>195</td>\n",
              "      <td>195</td>\n",
              "      <td>6</td>\n",
              "    </tr>\n",
              "    <tr>\n",
              "      <th>top</th>\n",
              "      <td>VNM</td>\n",
              "      <td>Latvia</td>\n",
              "      <td>europe_central_asia</td>\n",
              "    </tr>\n",
              "    <tr>\n",
              "      <th>freq</th>\n",
              "      <td>46</td>\n",
              "      <td>46</td>\n",
              "      <td>2324</td>\n",
              "    </tr>\n",
              "  </tbody>\n",
              "</table>\n",
              "</div>"
            ],
            "text/plain": [
              "         geo country        world_6region\n",
              "count   8590    8590                 8590\n",
              "unique   195     195                    6\n",
              "top      VNM  Latvia  europe_central_asia\n",
              "freq      46      46                 2324"
            ]
          },
          "metadata": {
            "tags": []
          },
          "execution_count": 233
        }
      ]
    },
    {
      "cell_type": "markdown",
      "metadata": {
        "colab_type": "text",
        "id": "zALg-RrYaLcI"
      },
      "source": [
        "In 2017, what were the top 5 countries with the most cell phones total?\n",
        "\n",
        "Your list of countries should have these totals:\n",
        "\n",
        "| country | cell phones total |\n",
        "|:-------:|:-----------------:|\n",
        "|    ?    |     1,474,097,000 |\n",
        "|    ?    |     1,168,902,277 |\n",
        "|    ?    |       458,923,202 |\n",
        "|    ?    |       395,881,000 |\n",
        "|    ?    |       236,488,548 |\n",
        "\n"
      ]
    },
    {
      "cell_type": "code",
      "metadata": {
        "colab_type": "code",
        "id": "JdlWvezHaZxD",
        "colab": {}
      },
      "source": [
        "# This optional code formats float numbers with comma separators\n",
        "pd.options.display.float_format = '{:,.0f}'.format"
      ],
      "execution_count": 0,
      "outputs": []
    },
    {
      "cell_type": "code",
      "metadata": {
        "colab_type": "code",
        "id": "smX8vzu4cyju",
        "colab": {
          "base_uri": "https://localhost:8080/",
          "height": 206
        },
        "outputId": "6c632893-d233-4a6e-af6c-660c0648b3c0"
      },
      "source": [
        "# Calculate and print top 5 country by total number of cell phones in 2017.\n",
        "\n",
        "most_cells_2017 = merged.loc[merged['time']==2017].sort_values(\n",
        "    by='cell_phones_total', ascending=False)\n",
        "most_cells_2017[['country', 'cell_phones_total']].head(5)"
      ],
      "execution_count": 235,
      "outputs": [
        {
          "output_type": "execute_result",
          "data": {
            "text/html": [
              "<div>\n",
              "<style scoped>\n",
              "    .dataframe tbody tr th:only-of-type {\n",
              "        vertical-align: middle;\n",
              "    }\n",
              "\n",
              "    .dataframe tbody tr th {\n",
              "        vertical-align: top;\n",
              "    }\n",
              "\n",
              "    .dataframe thead th {\n",
              "        text-align: right;\n",
              "    }\n",
              "</style>\n",
              "<table border=\"1\" class=\"dataframe\">\n",
              "  <thead>\n",
              "    <tr style=\"text-align: right;\">\n",
              "      <th></th>\n",
              "      <th>country</th>\n",
              "      <th>cell_phones_total</th>\n",
              "    </tr>\n",
              "  </thead>\n",
              "  <tbody>\n",
              "    <tr>\n",
              "      <th>1496</th>\n",
              "      <td>China</td>\n",
              "      <td>1,474,097,000</td>\n",
              "    </tr>\n",
              "    <tr>\n",
              "      <th>3595</th>\n",
              "      <td>India</td>\n",
              "      <td>1,168,902,277</td>\n",
              "    </tr>\n",
              "    <tr>\n",
              "      <th>3549</th>\n",
              "      <td>Indonesia</td>\n",
              "      <td>458,923,202</td>\n",
              "    </tr>\n",
              "    <tr>\n",
              "      <th>8134</th>\n",
              "      <td>United States</td>\n",
              "      <td>395,881,000</td>\n",
              "    </tr>\n",
              "    <tr>\n",
              "      <th>1084</th>\n",
              "      <td>Brazil</td>\n",
              "      <td>236,488,548</td>\n",
              "    </tr>\n",
              "  </tbody>\n",
              "</table>\n",
              "</div>"
            ],
            "text/plain": [
              "            country  cell_phones_total\n",
              "1496          China      1,474,097,000\n",
              "3595          India      1,168,902,277\n",
              "3549      Indonesia        458,923,202\n",
              "8134  United States        395,881,000\n",
              "1084         Brazil        236,488,548"
            ]
          },
          "metadata": {
            "tags": []
          },
          "execution_count": 235
        }
      ]
    },
    {
      "cell_type": "markdown",
      "metadata": {
        "colab_type": "text",
        "id": "03V3Wln_h0dj"
      },
      "source": [
        "2017 was the first year that China had more cell phones than people.\n",
        "\n",
        "What was the first year that the USA had more cell phones than people?"
      ]
    },
    {
      "cell_type": "code",
      "metadata": {
        "colab_type": "code",
        "id": "KONQkQZ3haNC",
        "colab": {
          "base_uri": "https://localhost:8080/",
          "height": 35
        },
        "outputId": "8045dfb3-996b-4055-c0a7-084cd0814e79"
      },
      "source": [
        "# Calculate and print answer to above question.\n",
        "merged.loc[(merged['geo']=='USA') & \n",
        "           (merged['cell_phones_per_capita'] > 1)]['time'].min()"
      ],
      "execution_count": 236,
      "outputs": [
        {
          "output_type": "execute_result",
          "data": {
            "text/plain": [
              "2014"
            ]
          },
          "metadata": {
            "tags": []
          },
          "execution_count": 236
        }
      ]
    },
    {
      "cell_type": "markdown",
      "metadata": {
        "id": "rrfLvoAv6A3g",
        "colab_type": "text"
      },
      "source": [
        "> The USA first had more cell phones than people in **2014**.\n",
        "\n",
        "---\n",
        "\n"
      ]
    },
    {
      "cell_type": "markdown",
      "metadata": {
        "id": "4pHjHTwp8jzn",
        "colab_type": "text"
      },
      "source": [
        "***Optional bonus for Part 3: Take initiative to do more exploratory data analysis.***"
      ]
    },
    {
      "cell_type": "code",
      "metadata": {
        "id": "d0Irkd8Z7Kpp",
        "colab_type": "code",
        "colab": {}
      },
      "source": [
        "# Reset float display format to show 3 decimal places.\n",
        "\n",
        "pd.options.display.float_format = '{:,.3f}'.format"
      ],
      "execution_count": 0,
      "outputs": []
    },
    {
      "cell_type": "code",
      "metadata": {
        "id": "02GpOuwc7S2j",
        "colab_type": "code",
        "colab": {
          "base_uri": "https://localhost:8080/",
          "height": 495
        },
        "outputId": "8d2a35c0-0d07-4f7a-b0ed-bdf3f3d021ba"
      },
      "source": [
        "# Find and display all countries with more cell phones than people (in any year).\n",
        "\n",
        "more_cells_than_people = merged.loc[(merged['cell_phones_per_capita'] > 1)]['country'].unique()\n",
        "more_cells_than_people"
      ],
      "execution_count": 238,
      "outputs": [
        {
          "output_type": "execute_result",
          "data": {
            "text/plain": [
              "array(['Albania', 'Andorra', 'United Arab Emirates', 'Argentina',\n",
              "       'Armenia', 'Antigua and Barbuda', 'Australia', 'Austria',\n",
              "       'Azerbaijan', 'Belgium', 'Bulgaria', 'Bahrain', 'Bahamas',\n",
              "       'Belarus', 'Bolivia', 'Brazil', 'Barbados', 'Brunei', 'Botswana',\n",
              "       'Switzerland', 'Chile', 'China', \"Cote d'Ivoire\", 'Congo, Rep.',\n",
              "       'Colombia', 'Cape Verde', 'Costa Rica', 'Czech Republic',\n",
              "       'Germany', 'Dominica', 'Denmark', 'Algeria', 'Ecuador', 'Egypt',\n",
              "       'Spain', 'Estonia', 'Finland', 'Fiji', 'France', 'Gabon',\n",
              "       'United Kingdom', 'Georgia', 'Ghana', 'Gambia', 'Greece',\n",
              "       'Grenada', 'Guatemala', 'Hong Kong, China', 'Honduras', 'Croatia',\n",
              "       'Hungary', 'Indonesia', 'Ireland', 'Iran', 'Iceland', 'Israel',\n",
              "       'Italy', 'Jamaica', 'Jordan', 'Japan', 'Kazakhstan',\n",
              "       'Kyrgyz Republic', 'Cambodia', 'St. Kitts and Nevis',\n",
              "       'South Korea', 'Kuwait', 'Libya', 'St. Lucia', 'Liechtenstein',\n",
              "       'Sri Lanka', 'Lesotho', 'Lithuania', 'Luxembourg', 'Latvia',\n",
              "       'Morocco', 'Maldives', 'Macedonia, FYR', 'Mali', 'Malta',\n",
              "       'Montenegro', 'Mongolia', 'Mauritania', 'Mauritius', 'Malaysia',\n",
              "       'Namibia', 'Nicaragua', 'Netherlands', 'Norway', 'Nepal',\n",
              "       'New Zealand', 'Oman', 'Panama', 'Peru', 'Philippines', 'Palau',\n",
              "       'Poland', 'Portugal', 'Paraguay', 'Qatar', 'Romania', 'Russia',\n",
              "       'Saudi Arabia', 'Singapore', 'El Salvador', 'San Marino', 'Serbia',\n",
              "       'Suriname', 'Slovak Republic', 'Slovenia', 'Sweden', 'Seychelles',\n",
              "       'Thailand', 'Tajikistan', 'Turkmenistan', 'Timor-Leste',\n",
              "       'Trinidad and Tobago', 'Tunisia', 'Ukraine', 'Uruguay',\n",
              "       'United States', 'St. Vincent and the Grenadines', 'Venezuela',\n",
              "       'Vietnam', 'South Africa'], dtype=object)"
            ]
          },
          "metadata": {
            "tags": []
          },
          "execution_count": 238
        }
      ]
    },
    {
      "cell_type": "code",
      "metadata": {
        "id": "8ihYKBCU7nOe",
        "colab_type": "code",
        "colab": {
          "base_uri": "https://localhost:8080/",
          "height": 35
        },
        "outputId": "651ceabe-73d8-4e43-f1ba-025fadbfe2f7"
      },
      "source": [
        "# Display count of countries with more cell phones than people.\n",
        "\n",
        "more_cells_than_people.size"
      ],
      "execution_count": 239,
      "outputs": [
        {
          "output_type": "execute_result",
          "data": {
            "text/plain": [
              "124"
            ]
          },
          "metadata": {
            "tags": []
          },
          "execution_count": 239
        }
      ]
    },
    {
      "cell_type": "code",
      "metadata": {
        "id": "iDxauyfb7wlz",
        "colab_type": "code",
        "colab": {
          "base_uri": "https://localhost:8080/",
          "height": 35
        },
        "outputId": "bcbd5395-165e-4488-dd47-86bc12c47131"
      },
      "source": [
        "# Compare with total number of countries in main dataframe.\n",
        "\n",
        "merged['country'].nunique()"
      ],
      "execution_count": 240,
      "outputs": [
        {
          "output_type": "execute_result",
          "data": {
            "text/plain": [
              "195"
            ]
          },
          "metadata": {
            "tags": []
          },
          "execution_count": 240
        }
      ]
    },
    {
      "cell_type": "code",
      "metadata": {
        "id": "dU2iuOUG8BkE",
        "colab_type": "code",
        "colab": {
          "base_uri": "https://localhost:8080/",
          "height": 35
        },
        "outputId": "6782b30a-3e04-4b84-e519-d8e639aa73f1"
      },
      "source": [
        "# Extract full list of countries; check size.\n",
        "\n",
        "country_list = pd.DataFrame(merged['country'].unique())\n",
        "country_list.size"
      ],
      "execution_count": 241,
      "outputs": [
        {
          "output_type": "execute_result",
          "data": {
            "text/plain": [
              "195"
            ]
          },
          "metadata": {
            "tags": []
          },
          "execution_count": 241
        }
      ]
    },
    {
      "cell_type": "code",
      "metadata": {
        "id": "tPU2cLY78L3A",
        "colab_type": "code",
        "colab": {
          "base_uri": "https://localhost:8080/",
          "height": 35
        },
        "outputId": "4eef06c1-7b73-4b4f-d40f-f7e161e2b8ac"
      },
      "source": [
        "# Get list of countries with fewer cells than people (in all years); check size.\n",
        "\n",
        "fewer_cells_than_people = country_list[~(country_list[0]).isin(more_cells_than_people)]\n",
        "fewer_cells_than_people.size"
      ],
      "execution_count": 242,
      "outputs": [
        {
          "output_type": "execute_result",
          "data": {
            "text/plain": [
              "71"
            ]
          },
          "metadata": {
            "tags": []
          },
          "execution_count": 242
        }
      ]
    },
    {
      "cell_type": "markdown",
      "metadata": {
        "id": "7wvURMv_8Wh3",
        "colab_type": "text"
      },
      "source": [
        "> Sanity check: 71 + 124 = 195."
      ]
    },
    {
      "cell_type": "code",
      "metadata": {
        "id": "69Vf2goh86i6",
        "colab_type": "code",
        "colab": {
          "base_uri": "https://localhost:8080/",
          "height": 153
        },
        "outputId": "80b3a005-ea9b-4e9f-f317-97e6760c5e6d"
      },
      "source": [
        "# Print list of countries with fewer cells than people (horizontally to save on \n",
        "# vertical scrolling).\n",
        "\n",
        "fewer_cells_than_people.T"
      ],
      "execution_count": 243,
      "outputs": [
        {
          "output_type": "execute_result",
          "data": {
            "text/html": [
              "<div>\n",
              "<style scoped>\n",
              "    .dataframe tbody tr th:only-of-type {\n",
              "        vertical-align: middle;\n",
              "    }\n",
              "\n",
              "    .dataframe tbody tr th {\n",
              "        vertical-align: top;\n",
              "    }\n",
              "\n",
              "    .dataframe thead th {\n",
              "        text-align: right;\n",
              "    }\n",
              "</style>\n",
              "<table border=\"1\" class=\"dataframe\">\n",
              "  <thead>\n",
              "    <tr style=\"text-align: right;\">\n",
              "      <th></th>\n",
              "      <th>0</th>\n",
              "      <th>1</th>\n",
              "      <th>11</th>\n",
              "      <th>13</th>\n",
              "      <th>14</th>\n",
              "      <th>15</th>\n",
              "      <th>19</th>\n",
              "      <th>21</th>\n",
              "      <th>26</th>\n",
              "      <th>28</th>\n",
              "      <th>29</th>\n",
              "      <th>34</th>\n",
              "      <th>35</th>\n",
              "      <th>38</th>\n",
              "      <th>41</th>\n",
              "      <th>42</th>\n",
              "      <th>45</th>\n",
              "      <th>48</th>\n",
              "      <th>52</th>\n",
              "      <th>55</th>\n",
              "      <th>59</th>\n",
              "      <th>64</th>\n",
              "      <th>66</th>\n",
              "      <th>67</th>\n",
              "      <th>71</th>\n",
              "      <th>75</th>\n",
              "      <th>78</th>\n",
              "      <th>81</th>\n",
              "      <th>89</th>\n",
              "      <th>92</th>\n",
              "      <th>96</th>\n",
              "      <th>97</th>\n",
              "      <th>98</th>\n",
              "      <th>108</th>\n",
              "      <th>109</th>\n",
              "      <th>110</th>\n",
              "      <th>112</th>\n",
              "      <th>113</th>\n",
              "      <th>117</th>\n",
              "      <th>120</th>\n",
              "      <th>123</th>\n",
              "      <th>126</th>\n",
              "      <th>127</th>\n",
              "      <th>132</th>\n",
              "      <th>135</th>\n",
              "      <th>140</th>\n",
              "      <th>142</th>\n",
              "      <th>145</th>\n",
              "      <th>149</th>\n",
              "      <th>151</th>\n",
              "      <th>152</th>\n",
              "      <th>154</th>\n",
              "      <th>155</th>\n",
              "      <th>158</th>\n",
              "      <th>160</th>\n",
              "      <th>161</th>\n",
              "      <th>166</th>\n",
              "      <th>168</th>\n",
              "      <th>169</th>\n",
              "      <th>170</th>\n",
              "      <th>175</th>\n",
              "      <th>178</th>\n",
              "      <th>179</th>\n",
              "      <th>180</th>\n",
              "      <th>181</th>\n",
              "      <th>185</th>\n",
              "      <th>189</th>\n",
              "      <th>190</th>\n",
              "      <th>191</th>\n",
              "      <th>193</th>\n",
              "      <th>194</th>\n",
              "    </tr>\n",
              "  </thead>\n",
              "  <tbody>\n",
              "    <tr>\n",
              "      <th>0</th>\n",
              "      <td>Afghanistan</td>\n",
              "      <td>Angola</td>\n",
              "      <td>Burundi</td>\n",
              "      <td>Benin</td>\n",
              "      <td>Burkina Faso</td>\n",
              "      <td>Bangladesh</td>\n",
              "      <td>Bosnia and Herzegovina</td>\n",
              "      <td>Belize</td>\n",
              "      <td>Bhutan</td>\n",
              "      <td>Central African Republic</td>\n",
              "      <td>Canada</td>\n",
              "      <td>Cameroon</td>\n",
              "      <td>Congo, Dem. Rep.</td>\n",
              "      <td>Comoros</td>\n",
              "      <td>Cuba</td>\n",
              "      <td>Cyprus</td>\n",
              "      <td>Djibouti</td>\n",
              "      <td>Dominican Republic</td>\n",
              "      <td>Eritrea</td>\n",
              "      <td>Ethiopia</td>\n",
              "      <td>Micronesia, Fed. Sts.</td>\n",
              "      <td>Guinea</td>\n",
              "      <td>Guinea-Bissau</td>\n",
              "      <td>Equatorial Guinea</td>\n",
              "      <td>Guyana</td>\n",
              "      <td>Haiti</td>\n",
              "      <td>India</td>\n",
              "      <td>Iraq</td>\n",
              "      <td>Kenya</td>\n",
              "      <td>Kiribati</td>\n",
              "      <td>Lao</td>\n",
              "      <td>Lebanon</td>\n",
              "      <td>Liberia</td>\n",
              "      <td>Monaco</td>\n",
              "      <td>Moldova</td>\n",
              "      <td>Madagascar</td>\n",
              "      <td>Mexico</td>\n",
              "      <td>Marshall Islands</td>\n",
              "      <td>Myanmar</td>\n",
              "      <td>Mozambique</td>\n",
              "      <td>Malawi</td>\n",
              "      <td>Niger</td>\n",
              "      <td>Nigeria</td>\n",
              "      <td>Nauru</td>\n",
              "      <td>Pakistan</td>\n",
              "      <td>Papua New Guinea</td>\n",
              "      <td>North Korea</td>\n",
              "      <td>Palestine</td>\n",
              "      <td>Rwanda</td>\n",
              "      <td>Sudan</td>\n",
              "      <td>Senegal</td>\n",
              "      <td>Solomon Islands</td>\n",
              "      <td>Sierra Leone</td>\n",
              "      <td>Somalia</td>\n",
              "      <td>South Sudan</td>\n",
              "      <td>Sao Tome and Principe</td>\n",
              "      <td>Swaziland</td>\n",
              "      <td>Syria</td>\n",
              "      <td>Chad</td>\n",
              "      <td>Togo</td>\n",
              "      <td>Tonga</td>\n",
              "      <td>Turkey</td>\n",
              "      <td>Tuvalu</td>\n",
              "      <td>Tanzania</td>\n",
              "      <td>Uganda</td>\n",
              "      <td>Uzbekistan</td>\n",
              "      <td>Vanuatu</td>\n",
              "      <td>Samoa</td>\n",
              "      <td>Yemen</td>\n",
              "      <td>Zambia</td>\n",
              "      <td>Zimbabwe</td>\n",
              "    </tr>\n",
              "  </tbody>\n",
              "</table>\n",
              "</div>"
            ],
            "text/plain": [
              "           0       1        11     13   ...    190    191     193       194\n",
              "0  Afghanistan  Angola  Burundi  Benin  ...  Samoa  Yemen  Zambia  Zimbabwe\n",
              "\n",
              "[1 rows x 71 columns]"
            ]
          },
          "metadata": {
            "tags": []
          },
          "execution_count": 243
        }
      ]
    },
    {
      "cell_type": "markdown",
      "metadata": {
        "colab_type": "text",
        "id": "6J7iwMnTg8KZ"
      },
      "source": [
        "### (OPTIONAL) Part 4. Reshape data"
      ]
    },
    {
      "cell_type": "markdown",
      "metadata": {
        "colab_type": "text",
        "id": "LP9InazRkUxG"
      },
      "source": [
        "*This part is not needed to pass the sprint challenge, only to get a 3! Only work on this after completing the other sections.*\n",
        "\n",
        "Create a pivot table:\n",
        "- Columns: Years 2007—2017\n",
        "- Rows: China, India, United States, Indonesia, Brazil (order doesn't matter)\n",
        "- Values: Cell Phones Total\n",
        "\n",
        "The table's shape should be: (5, 11)"
      ]
    },
    {
      "cell_type": "code",
      "metadata": {
        "colab_type": "code",
        "id": "JD7mXXjLj4Ue",
        "colab": {}
      },
      "source": [
        "# Subset data to include only these 5 countries and 11 years.\n",
        "\n",
        "pivot_countries = ['China', 'India', 'United States', 'Indonesia', 'Brazil']\n",
        "pivot_subset = merged.loc[(merged['time'] > 2006) & \n",
        "                          (merged['country'].isin(pivot_countries))]\n",
        "pivot_subset = pivot_subset[['country', 'time', 'cell_phones_total']]"
      ],
      "execution_count": 0,
      "outputs": []
    },
    {
      "cell_type": "code",
      "metadata": {
        "colab_type": "code",
        "id": "O4Aecv1fmQlj",
        "colab": {
          "base_uri": "https://localhost:8080/",
          "height": 394
        },
        "outputId": "2eec2d84-b99a-477c-857e-4a83d5400cd2"
      },
      "source": [
        "# Hide decimal points and display summary data.\n",
        "\n",
        "pd.options.display.float_format = '{:,.0f}'.format\n",
        "pivot_subset.describe(include = 'all')"
      ],
      "execution_count": 245,
      "outputs": [
        {
          "output_type": "execute_result",
          "data": {
            "text/html": [
              "<div>\n",
              "<style scoped>\n",
              "    .dataframe tbody tr th:only-of-type {\n",
              "        vertical-align: middle;\n",
              "    }\n",
              "\n",
              "    .dataframe tbody tr th {\n",
              "        vertical-align: top;\n",
              "    }\n",
              "\n",
              "    .dataframe thead th {\n",
              "        text-align: right;\n",
              "    }\n",
              "</style>\n",
              "<table border=\"1\" class=\"dataframe\">\n",
              "  <thead>\n",
              "    <tr style=\"text-align: right;\">\n",
              "      <th></th>\n",
              "      <th>country</th>\n",
              "      <th>time</th>\n",
              "      <th>cell_phones_total</th>\n",
              "    </tr>\n",
              "  </thead>\n",
              "  <tbody>\n",
              "    <tr>\n",
              "      <th>count</th>\n",
              "      <td>55</td>\n",
              "      <td>55</td>\n",
              "      <td>55</td>\n",
              "    </tr>\n",
              "    <tr>\n",
              "      <th>unique</th>\n",
              "      <td>5</td>\n",
              "      <td>nan</td>\n",
              "      <td>nan</td>\n",
              "    </tr>\n",
              "    <tr>\n",
              "      <th>top</th>\n",
              "      <td>China</td>\n",
              "      <td>nan</td>\n",
              "      <td>nan</td>\n",
              "    </tr>\n",
              "    <tr>\n",
              "      <th>freq</th>\n",
              "      <td>11</td>\n",
              "      <td>nan</td>\n",
              "      <td>nan</td>\n",
              "    </tr>\n",
              "    <tr>\n",
              "      <th>mean</th>\n",
              "      <td>NaN</td>\n",
              "      <td>2,012</td>\n",
              "      <td>530,366,075</td>\n",
              "    </tr>\n",
              "    <tr>\n",
              "      <th>std</th>\n",
              "      <td>NaN</td>\n",
              "      <td>3</td>\n",
              "      <td>387,836,197</td>\n",
              "    </tr>\n",
              "    <tr>\n",
              "      <th>min</th>\n",
              "      <td>NaN</td>\n",
              "      <td>2,007</td>\n",
              "      <td>93,386,881</td>\n",
              "    </tr>\n",
              "    <tr>\n",
              "      <th>25%</th>\n",
              "      <td>NaN</td>\n",
              "      <td>2,009</td>\n",
              "      <td>249,552,810</td>\n",
              "    </tr>\n",
              "    <tr>\n",
              "      <th>50%</th>\n",
              "      <td>NaN</td>\n",
              "      <td>2,012</td>\n",
              "      <td>338,948,340</td>\n",
              "    </tr>\n",
              "    <tr>\n",
              "      <th>75%</th>\n",
              "      <td>NaN</td>\n",
              "      <td>2,015</td>\n",
              "      <td>861,861,958</td>\n",
              "    </tr>\n",
              "    <tr>\n",
              "      <th>max</th>\n",
              "      <td>NaN</td>\n",
              "      <td>2,017</td>\n",
              "      <td>1,474,097,000</td>\n",
              "    </tr>\n",
              "  </tbody>\n",
              "</table>\n",
              "</div>"
            ],
            "text/plain": [
              "       country  time  cell_phones_total\n",
              "count       55    55                 55\n",
              "unique       5   nan                nan\n",
              "top      China   nan                nan\n",
              "freq        11   nan                nan\n",
              "mean       NaN 2,012        530,366,075\n",
              "std        NaN     3        387,836,197\n",
              "min        NaN 2,007         93,386,881\n",
              "25%        NaN 2,009        249,552,810\n",
              "50%        NaN 2,012        338,948,340\n",
              "75%        NaN 2,015        861,861,958\n",
              "max        NaN 2,017      1,474,097,000"
            ]
          },
          "metadata": {
            "tags": []
          },
          "execution_count": 245
        }
      ]
    },
    {
      "cell_type": "code",
      "metadata": {
        "id": "B1N3CR5R-iXd",
        "colab_type": "code",
        "colab": {
          "base_uri": "https://localhost:8080/",
          "height": 238
        },
        "outputId": "2194c35b-c30a-4d80-ee5c-f8f666228bca"
      },
      "source": [
        "# Generate and display pivot table.\n",
        "\n",
        "pt = pd.pivot_table(pivot_subset, index=['country'], columns=['time'], \n",
        "                    values='cell_phones_total')\n",
        "pt"
      ],
      "execution_count": 246,
      "outputs": [
        {
          "output_type": "execute_result",
          "data": {
            "text/html": [
              "<div>\n",
              "<style scoped>\n",
              "    .dataframe tbody tr th:only-of-type {\n",
              "        vertical-align: middle;\n",
              "    }\n",
              "\n",
              "    .dataframe tbody tr th {\n",
              "        vertical-align: top;\n",
              "    }\n",
              "\n",
              "    .dataframe thead th {\n",
              "        text-align: right;\n",
              "    }\n",
              "</style>\n",
              "<table border=\"1\" class=\"dataframe\">\n",
              "  <thead>\n",
              "    <tr style=\"text-align: right;\">\n",
              "      <th>time</th>\n",
              "      <th>2007</th>\n",
              "      <th>2008</th>\n",
              "      <th>2009</th>\n",
              "      <th>2010</th>\n",
              "      <th>2011</th>\n",
              "      <th>2012</th>\n",
              "      <th>2013</th>\n",
              "      <th>2014</th>\n",
              "      <th>2015</th>\n",
              "      <th>2016</th>\n",
              "      <th>2017</th>\n",
              "    </tr>\n",
              "    <tr>\n",
              "      <th>country</th>\n",
              "      <th></th>\n",
              "      <th></th>\n",
              "      <th></th>\n",
              "      <th></th>\n",
              "      <th></th>\n",
              "      <th></th>\n",
              "      <th></th>\n",
              "      <th></th>\n",
              "      <th></th>\n",
              "      <th></th>\n",
              "      <th></th>\n",
              "    </tr>\n",
              "  </thead>\n",
              "  <tbody>\n",
              "    <tr>\n",
              "      <th>Brazil</th>\n",
              "      <td>120,980,103</td>\n",
              "      <td>150,641,403</td>\n",
              "      <td>169,385,584</td>\n",
              "      <td>196,929,978</td>\n",
              "      <td>234,357,507</td>\n",
              "      <td>248,323,703</td>\n",
              "      <td>271,099,799</td>\n",
              "      <td>280,728,796</td>\n",
              "      <td>257,814,274</td>\n",
              "      <td>244,067,356</td>\n",
              "      <td>236,488,548</td>\n",
              "    </tr>\n",
              "    <tr>\n",
              "      <th>China</th>\n",
              "      <td>547,306,000</td>\n",
              "      <td>641,245,000</td>\n",
              "      <td>747,214,000</td>\n",
              "      <td>859,003,000</td>\n",
              "      <td>986,253,000</td>\n",
              "      <td>1,112,155,000</td>\n",
              "      <td>1,229,113,000</td>\n",
              "      <td>1,286,093,000</td>\n",
              "      <td>1,291,984,200</td>\n",
              "      <td>1,364,934,000</td>\n",
              "      <td>1,474,097,000</td>\n",
              "    </tr>\n",
              "    <tr>\n",
              "      <th>India</th>\n",
              "      <td>233,620,000</td>\n",
              "      <td>346,890,000</td>\n",
              "      <td>525,090,000</td>\n",
              "      <td>752,190,000</td>\n",
              "      <td>893,862,478</td>\n",
              "      <td>864,720,917</td>\n",
              "      <td>886,304,245</td>\n",
              "      <td>944,008,677</td>\n",
              "      <td>1,001,056,000</td>\n",
              "      <td>1,127,809,000</td>\n",
              "      <td>1,168,902,277</td>\n",
              "    </tr>\n",
              "    <tr>\n",
              "      <th>Indonesia</th>\n",
              "      <td>93,386,881</td>\n",
              "      <td>140,578,243</td>\n",
              "      <td>163,676,961</td>\n",
              "      <td>211,290,235</td>\n",
              "      <td>249,805,619</td>\n",
              "      <td>281,963,665</td>\n",
              "      <td>313,226,914</td>\n",
              "      <td>325,582,819</td>\n",
              "      <td>338,948,340</td>\n",
              "      <td>385,573,398</td>\n",
              "      <td>458,923,202</td>\n",
              "    </tr>\n",
              "    <tr>\n",
              "      <th>United States</th>\n",
              "      <td>249,300,000</td>\n",
              "      <td>261,300,000</td>\n",
              "      <td>274,283,000</td>\n",
              "      <td>285,118,000</td>\n",
              "      <td>297,404,000</td>\n",
              "      <td>304,838,000</td>\n",
              "      <td>310,698,000</td>\n",
              "      <td>355,500,000</td>\n",
              "      <td>382,307,000</td>\n",
              "      <td>395,881,000</td>\n",
              "      <td>395,881,000</td>\n",
              "    </tr>\n",
              "  </tbody>\n",
              "</table>\n",
              "</div>"
            ],
            "text/plain": [
              "time                 2007        2008  ...          2016          2017\n",
              "country                                ...                            \n",
              "Brazil        120,980,103 150,641,403  ...   244,067,356   236,488,548\n",
              "China         547,306,000 641,245,000  ... 1,364,934,000 1,474,097,000\n",
              "India         233,620,000 346,890,000  ... 1,127,809,000 1,168,902,277\n",
              "Indonesia      93,386,881 140,578,243  ...   385,573,398   458,923,202\n",
              "United States 249,300,000 261,300,000  ...   395,881,000   395,881,000\n",
              "\n",
              "[5 rows x 11 columns]"
            ]
          },
          "metadata": {
            "tags": []
          },
          "execution_count": 246
        }
      ]
    },
    {
      "cell_type": "code",
      "metadata": {
        "id": "QREBcP-Q-p1t",
        "colab_type": "code",
        "colab": {
          "base_uri": "https://localhost:8080/",
          "height": 35
        },
        "outputId": "8e71455d-fd1d-425d-ca7f-49f020e79f5a"
      },
      "source": [
        "# Verify table shape - should be (5, 11).\n",
        "\n",
        "pt.shape"
      ],
      "execution_count": 247,
      "outputs": [
        {
          "output_type": "execute_result",
          "data": {
            "text/plain": [
              "(5, 11)"
            ]
          },
          "metadata": {
            "tags": []
          },
          "execution_count": 247
        }
      ]
    },
    {
      "cell_type": "markdown",
      "metadata": {
        "colab_type": "text",
        "id": "CNKTu2DCnAo6"
      },
      "source": [
        "Sort these 5 countries, by biggest increase in cell phones from 2007 to 2017.\n",
        "\n",
        "Which country had 935,282,277 more cell phones in 2017 versus 2007?"
      ]
    },
    {
      "cell_type": "code",
      "metadata": {
        "id": "RlTQALkx-wXI",
        "colab_type": "code",
        "colab": {
          "base_uri": "https://localhost:8080/",
          "height": 146
        },
        "outputId": "8a2279aa-e383-4307-d163-010d3fef9772"
      },
      "source": [
        "# Add column to show change in number of cell phones, 2007 - 2017. Sort and \n",
        "# show data.\n",
        "\n",
        "pt['increase'] = pt[2017] - pt[2007]\n",
        "pt.sort_values(by = 'increase', ascending = False)['increase']"
      ],
      "execution_count": 248,
      "outputs": [
        {
          "output_type": "execute_result",
          "data": {
            "text/plain": [
              "country\n",
              "India           935,282,277\n",
              "China           926,791,000\n",
              "Indonesia       365,536,321\n",
              "United States   146,581,000\n",
              "Brazil          115,508,445\n",
              "Name: increase, dtype: float64"
            ]
          },
          "metadata": {
            "tags": []
          },
          "execution_count": 248
        }
      ]
    },
    {
      "cell_type": "markdown",
      "metadata": {
        "id": "1XwfH9g0_EIe",
        "colab_type": "text"
      },
      "source": [
        "> India had 935,282,277 more cell phones in 2017 than in 2007."
      ]
    },
    {
      "cell_type": "markdown",
      "metadata": {
        "colab_type": "text",
        "id": "7iHkMsa3Rorh"
      },
      "source": [
        "If you have the time and curiosity, what other questions can you ask and answer with this data?"
      ]
    },
    {
      "cell_type": "markdown",
      "metadata": {
        "id": "UtwXEBIkFlm0",
        "colab_type": "text"
      },
      "source": [
        "> The Gapminder data can be used to ask and answer all sorts of data. This specific subset of that data could be used, for example, to look at cell phone adoption rates by region, or to explore the relationship between cell and broadband adoption."
      ]
    },
    {
      "cell_type": "markdown",
      "metadata": {
        "id": "vtcAJOAV9k3X",
        "colab_type": "text"
      },
      "source": [
        "## Data Storytelling\n",
        "\n",
        "In this part of the sprint challenge you'll work with a dataset from **FiveThirtyEight's article, [Every Guest Jon Stewart Ever Had On ‘The Daily Show’](https://fivethirtyeight.com/features/every-guest-jon-stewart-ever-had-on-the-daily-show/)**!"
      ]
    },
    {
      "cell_type": "markdown",
      "metadata": {
        "id": "UtjoIqvm9yFg",
        "colab_type": "text"
      },
      "source": [
        "### Part 0 — Run this starter code\n",
        "\n",
        "You don't need to add or change anything here. Just run this cell and it loads the data for you, into a dataframe named `df`.\n",
        "\n",
        "(You can explore the data if you want, but it's not required to pass the Sprint Challenge.)"
      ]
    },
    {
      "cell_type": "code",
      "metadata": {
        "id": "tYujbhIz9zKU",
        "colab_type": "code",
        "colab": {}
      },
      "source": [
        "%matplotlib inline\n",
        "import matplotlib.pyplot as plt\n",
        "import numpy as np\n",
        "import pandas as pd\n",
        "\n",
        "url = 'https://raw.githubusercontent.com/fivethirtyeight/data/master/daily-show-guests/daily_show_guests.csv'\n",
        "df = pd.read_csv(url).rename(columns={'YEAR': 'Year', 'Raw_Guest_List': 'Guest'})\n",
        "\n",
        "def get_occupation(group):\n",
        "    if group in ['Acting', 'Comedy', 'Musician']:\n",
        "        return 'Acting, Comedy & Music'\n",
        "    elif group in ['Media', 'media']:\n",
        "        return 'Media'\n",
        "    elif group in ['Government', 'Politician', 'Political Aide']:\n",
        "        return 'Government and Politics'\n",
        "    else:\n",
        "        return 'Other'\n",
        "      \n",
        "df['Occupation'] = df['Group'].apply(get_occupation)"
      ],
      "execution_count": 0,
      "outputs": []
    },
    {
      "cell_type": "markdown",
      "metadata": {
        "id": "5hjnMK3j90Rp",
        "colab_type": "text"
      },
      "source": [
        "### Part 1 — What's the breakdown of guests’ occupations per year?\n",
        "\n",
        "For example, in 1999, what percentage of guests were actors, comedians, or musicians? What percentage were in the media? What percentage were in politics? What percentage were from another occupation?\n",
        "\n",
        "Then, what about in 2000? In 2001? And so on, up through 2015.\n",
        "\n",
        "So, **for each year of _The Daily Show_, calculate the percentage of guests from each occupation:**\n",
        "- Acting, Comedy & Music\n",
        "- Government and Politics\n",
        "- Media\n",
        "- Other\n",
        "\n",
        "#### Hints:\n",
        "You can make a crosstab. (See pandas documentation for examples, explanation, and parameters.)\n",
        "\n",
        "You'll know you've calculated correctly when the percentage of \"Acting, Comedy & Music\" guests is 90.36% in 1999, and 45% in 2015.\n",
        "\n",
        "**Optional Bonus Challenge:** Do additional insightful data exploration."
      ]
    },
    {
      "cell_type": "code",
      "metadata": {
        "id": "EbobyiHv916F",
        "colab_type": "code",
        "colab": {
          "base_uri": "https://localhost:8080/",
          "height": 363
        },
        "outputId": "ccb8fa7f-a8fe-467c-a39e-ce5334fe02ef"
      },
      "source": [
        "# Preview the data.\n",
        "\n",
        "df.sample(10)"
      ],
      "execution_count": 250,
      "outputs": [
        {
          "output_type": "execute_result",
          "data": {
            "text/html": [
              "<div>\n",
              "<style scoped>\n",
              "    .dataframe tbody tr th:only-of-type {\n",
              "        vertical-align: middle;\n",
              "    }\n",
              "\n",
              "    .dataframe tbody tr th {\n",
              "        vertical-align: top;\n",
              "    }\n",
              "\n",
              "    .dataframe thead th {\n",
              "        text-align: right;\n",
              "    }\n",
              "</style>\n",
              "<table border=\"1\" class=\"dataframe\">\n",
              "  <thead>\n",
              "    <tr style=\"text-align: right;\">\n",
              "      <th></th>\n",
              "      <th>Year</th>\n",
              "      <th>GoogleKnowlege_Occupation</th>\n",
              "      <th>Show</th>\n",
              "      <th>Group</th>\n",
              "      <th>Guest</th>\n",
              "      <th>Occupation</th>\n",
              "    </tr>\n",
              "  </thead>\n",
              "  <tbody>\n",
              "    <tr>\n",
              "      <th>648</th>\n",
              "      <td>2002</td>\n",
              "      <td>actress</td>\n",
              "      <td>9/26/02</td>\n",
              "      <td>Acting</td>\n",
              "      <td>Goldie Hawn</td>\n",
              "      <td>Acting, Comedy &amp; Music</td>\n",
              "    </tr>\n",
              "    <tr>\n",
              "      <th>754</th>\n",
              "      <td>2003</td>\n",
              "      <td>NaN</td>\n",
              "      <td>5/26/03</td>\n",
              "      <td>NaN</td>\n",
              "      <td>Iraq - A Look Baq (or how we learned to stop r...</td>\n",
              "      <td>Other</td>\n",
              "    </tr>\n",
              "    <tr>\n",
              "      <th>2061</th>\n",
              "      <td>2011</td>\n",
              "      <td>biographer</td>\n",
              "      <td>6/9/11</td>\n",
              "      <td>Media</td>\n",
              "      <td>Howard Wasdin</td>\n",
              "      <td>Media</td>\n",
              "    </tr>\n",
              "    <tr>\n",
              "      <th>464</th>\n",
              "      <td>2001</td>\n",
              "      <td>actor</td>\n",
              "      <td>7/19/01</td>\n",
              "      <td>Acting</td>\n",
              "      <td>Hank Azaria</td>\n",
              "      <td>Acting, Comedy &amp; Music</td>\n",
              "    </tr>\n",
              "    <tr>\n",
              "      <th>819</th>\n",
              "      <td>2004</td>\n",
              "      <td>former us senator</td>\n",
              "      <td>1/14/04</td>\n",
              "      <td>Politician</td>\n",
              "      <td>Carol Moseley-Braun</td>\n",
              "      <td>Government and Politics</td>\n",
              "    </tr>\n",
              "    <tr>\n",
              "      <th>1473</th>\n",
              "      <td>2008</td>\n",
              "      <td>former us senator</td>\n",
              "      <td>10/23/08</td>\n",
              "      <td>Politician</td>\n",
              "      <td>Jon Corzine</td>\n",
              "      <td>Government and Politics</td>\n",
              "    </tr>\n",
              "    <tr>\n",
              "      <th>1757</th>\n",
              "      <td>2009</td>\n",
              "      <td>american politician</td>\n",
              "      <td>8/20/09</td>\n",
              "      <td>Politician</td>\n",
              "      <td>Betsy McCaughey</td>\n",
              "      <td>Government and Politics</td>\n",
              "    </tr>\n",
              "    <tr>\n",
              "      <th>1599</th>\n",
              "      <td>2008</td>\n",
              "      <td>Former British Prime Minister</td>\n",
              "      <td>9/18/08</td>\n",
              "      <td>Politician</td>\n",
              "      <td>Tony Blair</td>\n",
              "      <td>Government and Politics</td>\n",
              "    </tr>\n",
              "    <tr>\n",
              "      <th>216</th>\n",
              "      <td>2000</td>\n",
              "      <td>actress</td>\n",
              "      <td>12/19/00</td>\n",
              "      <td>Acting</td>\n",
              "      <td>Marisa Tomei</td>\n",
              "      <td>Acting, Comedy &amp; Music</td>\n",
              "    </tr>\n",
              "    <tr>\n",
              "      <th>489</th>\n",
              "      <td>2001</td>\n",
              "      <td>broadcaster</td>\n",
              "      <td>9/25/01</td>\n",
              "      <td>Media</td>\n",
              "      <td>Aaron Brown</td>\n",
              "      <td>Media</td>\n",
              "    </tr>\n",
              "  </tbody>\n",
              "</table>\n",
              "</div>"
            ],
            "text/plain": [
              "      Year  ...               Occupation\n",
              "648   2002  ...   Acting, Comedy & Music\n",
              "754   2003  ...                    Other\n",
              "2061  2011  ...                    Media\n",
              "464   2001  ...   Acting, Comedy & Music\n",
              "819   2004  ...  Government and Politics\n",
              "1473  2008  ...  Government and Politics\n",
              "1757  2009  ...  Government and Politics\n",
              "1599  2008  ...  Government and Politics\n",
              "216   2000  ...   Acting, Comedy & Music\n",
              "489   2001  ...                    Media\n",
              "\n",
              "[10 rows x 6 columns]"
            ]
          },
          "metadata": {
            "tags": []
          },
          "execution_count": 250
        }
      ]
    },
    {
      "cell_type": "code",
      "metadata": {
        "id": "OF99MxzQ_f8_",
        "colab_type": "code",
        "colab": {
          "base_uri": "https://localhost:8080/",
          "height": 206
        },
        "outputId": "8231da4c-5521-418a-a28c-97933faba8e2"
      },
      "source": [
        "# Reset float format again, then generate and display crosstab table.\n",
        "\n",
        "pd.options.display.float_format = '{:,.2f}'.format\n",
        "ct = pd.crosstab(index = df['Occupation'], columns = df['Year'], normalize = 'columns') * 100\n",
        "ct"
      ],
      "execution_count": 251,
      "outputs": [
        {
          "output_type": "execute_result",
          "data": {
            "text/html": [
              "<div>\n",
              "<style scoped>\n",
              "    .dataframe tbody tr th:only-of-type {\n",
              "        vertical-align: middle;\n",
              "    }\n",
              "\n",
              "    .dataframe tbody tr th {\n",
              "        vertical-align: top;\n",
              "    }\n",
              "\n",
              "    .dataframe thead th {\n",
              "        text-align: right;\n",
              "    }\n",
              "</style>\n",
              "<table border=\"1\" class=\"dataframe\">\n",
              "  <thead>\n",
              "    <tr style=\"text-align: right;\">\n",
              "      <th>Year</th>\n",
              "      <th>1999</th>\n",
              "      <th>2000</th>\n",
              "      <th>2001</th>\n",
              "      <th>2002</th>\n",
              "      <th>2003</th>\n",
              "      <th>2004</th>\n",
              "      <th>2005</th>\n",
              "      <th>2006</th>\n",
              "      <th>2007</th>\n",
              "      <th>2008</th>\n",
              "      <th>2009</th>\n",
              "      <th>2010</th>\n",
              "      <th>2011</th>\n",
              "      <th>2012</th>\n",
              "      <th>2013</th>\n",
              "      <th>2014</th>\n",
              "      <th>2015</th>\n",
              "    </tr>\n",
              "    <tr>\n",
              "      <th>Occupation</th>\n",
              "      <th></th>\n",
              "      <th></th>\n",
              "      <th></th>\n",
              "      <th></th>\n",
              "      <th></th>\n",
              "      <th></th>\n",
              "      <th></th>\n",
              "      <th></th>\n",
              "      <th></th>\n",
              "      <th></th>\n",
              "      <th></th>\n",
              "      <th></th>\n",
              "      <th></th>\n",
              "      <th></th>\n",
              "      <th></th>\n",
              "      <th></th>\n",
              "      <th></th>\n",
              "    </tr>\n",
              "  </thead>\n",
              "  <tbody>\n",
              "    <tr>\n",
              "      <th>Acting, Comedy &amp; Music</th>\n",
              "      <td>90.36</td>\n",
              "      <td>73.96</td>\n",
              "      <td>72.61</td>\n",
              "      <td>62.26</td>\n",
              "      <td>56.02</td>\n",
              "      <td>38.41</td>\n",
              "      <td>37.04</td>\n",
              "      <td>36.02</td>\n",
              "      <td>25.53</td>\n",
              "      <td>20.73</td>\n",
              "      <td>20.86</td>\n",
              "      <td>35.15</td>\n",
              "      <td>33.74</td>\n",
              "      <td>26.83</td>\n",
              "      <td>42.77</td>\n",
              "      <td>39.26</td>\n",
              "      <td>45.00</td>\n",
              "    </tr>\n",
              "    <tr>\n",
              "      <th>Government and Politics</th>\n",
              "      <td>1.20</td>\n",
              "      <td>8.28</td>\n",
              "      <td>3.82</td>\n",
              "      <td>6.92</td>\n",
              "      <td>10.24</td>\n",
              "      <td>22.56</td>\n",
              "      <td>16.05</td>\n",
              "      <td>19.25</td>\n",
              "      <td>17.02</td>\n",
              "      <td>20.12</td>\n",
              "      <td>20.86</td>\n",
              "      <td>18.18</td>\n",
              "      <td>16.56</td>\n",
              "      <td>20.12</td>\n",
              "      <td>12.65</td>\n",
              "      <td>12.88</td>\n",
              "      <td>17.00</td>\n",
              "    </tr>\n",
              "    <tr>\n",
              "      <th>Media</th>\n",
              "      <td>6.63</td>\n",
              "      <td>12.43</td>\n",
              "      <td>19.75</td>\n",
              "      <td>26.42</td>\n",
              "      <td>24.70</td>\n",
              "      <td>27.44</td>\n",
              "      <td>33.33</td>\n",
              "      <td>29.19</td>\n",
              "      <td>33.33</td>\n",
              "      <td>46.95</td>\n",
              "      <td>36.20</td>\n",
              "      <td>30.30</td>\n",
              "      <td>31.29</td>\n",
              "      <td>31.71</td>\n",
              "      <td>30.72</td>\n",
              "      <td>32.52</td>\n",
              "      <td>24.00</td>\n",
              "    </tr>\n",
              "    <tr>\n",
              "      <th>Other</th>\n",
              "      <td>1.81</td>\n",
              "      <td>5.33</td>\n",
              "      <td>3.82</td>\n",
              "      <td>4.40</td>\n",
              "      <td>9.04</td>\n",
              "      <td>11.59</td>\n",
              "      <td>13.58</td>\n",
              "      <td>15.53</td>\n",
              "      <td>24.11</td>\n",
              "      <td>12.20</td>\n",
              "      <td>22.09</td>\n",
              "      <td>16.36</td>\n",
              "      <td>18.40</td>\n",
              "      <td>21.34</td>\n",
              "      <td>13.86</td>\n",
              "      <td>15.34</td>\n",
              "      <td>14.00</td>\n",
              "    </tr>\n",
              "  </tbody>\n",
              "</table>\n",
              "</div>"
            ],
            "text/plain": [
              "Year                     1999  2000  2001  2002  ...  2012  2013  2014  2015\n",
              "Occupation                                       ...                        \n",
              "Acting, Comedy & Music  90.36 73.96 72.61 62.26  ... 26.83 42.77 39.26 45.00\n",
              "Government and Politics  1.20  8.28  3.82  6.92  ... 20.12 12.65 12.88 17.00\n",
              "Media                    6.63 12.43 19.75 26.42  ... 31.71 30.72 32.52 24.00\n",
              "Other                    1.81  5.33  3.82  4.40  ... 21.34 13.86 15.34 14.00\n",
              "\n",
              "[4 rows x 17 columns]"
            ]
          },
          "metadata": {
            "tags": []
          },
          "execution_count": 251
        }
      ]
    },
    {
      "cell_type": "markdown",
      "metadata": {
        "id": "Kiq56dZb92LY",
        "colab_type": "text"
      },
      "source": [
        "### Part 2 — Recreate this explanatory visualization:"
      ]
    },
    {
      "cell_type": "code",
      "metadata": {
        "id": "HKLDMWwP98vz",
        "colab_type": "code",
        "outputId": "442c3eff-0192-4af1-9f39-68edf2cf2e44",
        "colab": {
          "base_uri": "https://localhost:8080/",
          "height": 406
        }
      },
      "source": [
        "from IPython.display import display, Image\n",
        "png = 'https://fivethirtyeight.com/wp-content/uploads/2015/08/hickey-datalab-dailyshow.png'\n",
        "example = Image(png, width=500)\n",
        "display(example)"
      ],
      "execution_count": 252,
      "outputs": [
        {
          "output_type": "display_data",
          "data": {
            "image/png": "[encoded data removed]",
            "text/plain": [
              "<IPython.core.display.Image object>"
            ]
          },
          "metadata": {
            "tags": [],
            "image/png": {
              "width": 500
            }
          }
        }
      ]
    },
    {
      "cell_type": "markdown",
      "metadata": {
        "id": "TK5fDIag9-F6",
        "colab_type": "text"
      },
      "source": [
        "**Hints:**\n",
        "- You can choose any Python visualization library you want. I've verified the plot can be reproduced with matplotlib, pandas plot, or seaborn. I assume other libraries like altair or plotly would work too.\n",
        "- If you choose to use seaborn, you may want to upgrade the version to 0.9.0.\n",
        "\n",
        "**Expectations:** Your plot should include:\n",
        "- 3 lines visualizing \"occupation of guests, by year.\" The shapes of the lines should look roughly identical to 538's example. Each line should be a different color. (But you don't need to use the _same_ colors as 538.)\n",
        "- Legend or labels for the lines. (But you don't need each label positioned next to its line or colored like 538.)\n",
        "- Title in the upper left: _\"Who Got To Be On 'The Daily Show'?\"_ with more visual emphasis than the subtitle. (Bolder and/or larger font.)\n",
        "- Subtitle underneath the title: _\"Occupation of guests, by year\"_\n",
        "\n",
        "**Optional Bonus Challenge:**\n",
        "- Give your plot polished aesthetics, with improved resemblance to the 538 example.\n",
        "- Any visual element not specifically mentioned in the expectations is an optional bonus."
      ]
    },
    {
      "cell_type": "code",
      "metadata": {
        "id": "CaB8MMV099Kh",
        "colab_type": "code",
        "colab": {
          "base_uri": "https://localhost:8080/",
          "height": 206
        },
        "outputId": "8acd28cb-7205-4ed6-edf5-40e75d7077ac"
      },
      "source": [
        "# Melt crosstab for ease of visualization. Resetting the index makes the \n",
        "# 'Occupation' column available to the melt.\n",
        "\n",
        "melted = pd.melt(ct[:3].reset_index(), id_vars = ['Occupation'])\n",
        "melted.head()"
      ],
      "execution_count": 253,
      "outputs": [
        {
          "output_type": "execute_result",
          "data": {
            "text/html": [
              "<div>\n",
              "<style scoped>\n",
              "    .dataframe tbody tr th:only-of-type {\n",
              "        vertical-align: middle;\n",
              "    }\n",
              "\n",
              "    .dataframe tbody tr th {\n",
              "        vertical-align: top;\n",
              "    }\n",
              "\n",
              "    .dataframe thead th {\n",
              "        text-align: right;\n",
              "    }\n",
              "</style>\n",
              "<table border=\"1\" class=\"dataframe\">\n",
              "  <thead>\n",
              "    <tr style=\"text-align: right;\">\n",
              "      <th></th>\n",
              "      <th>Occupation</th>\n",
              "      <th>Year</th>\n",
              "      <th>value</th>\n",
              "    </tr>\n",
              "  </thead>\n",
              "  <tbody>\n",
              "    <tr>\n",
              "      <th>0</th>\n",
              "      <td>Acting, Comedy &amp; Music</td>\n",
              "      <td>1999</td>\n",
              "      <td>90.36</td>\n",
              "    </tr>\n",
              "    <tr>\n",
              "      <th>1</th>\n",
              "      <td>Government and Politics</td>\n",
              "      <td>1999</td>\n",
              "      <td>1.20</td>\n",
              "    </tr>\n",
              "    <tr>\n",
              "      <th>2</th>\n",
              "      <td>Media</td>\n",
              "      <td>1999</td>\n",
              "      <td>6.63</td>\n",
              "    </tr>\n",
              "    <tr>\n",
              "      <th>3</th>\n",
              "      <td>Acting, Comedy &amp; Music</td>\n",
              "      <td>2000</td>\n",
              "      <td>73.96</td>\n",
              "    </tr>\n",
              "    <tr>\n",
              "      <th>4</th>\n",
              "      <td>Government and Politics</td>\n",
              "      <td>2000</td>\n",
              "      <td>8.28</td>\n",
              "    </tr>\n",
              "  </tbody>\n",
              "</table>\n",
              "</div>"
            ],
            "text/plain": [
              "                Occupation  Year  value\n",
              "0   Acting, Comedy & Music  1999  90.36\n",
              "1  Government and Politics  1999   1.20\n",
              "2                    Media  1999   6.63\n",
              "3   Acting, Comedy & Music  2000  73.96\n",
              "4  Government and Politics  2000   8.28"
            ]
          },
          "metadata": {
            "tags": []
          },
          "execution_count": 253
        }
      ]
    },
    {
      "cell_type": "code",
      "metadata": {
        "id": "u1FYiVBLAWIt",
        "colab_type": "code",
        "colab": {
          "base_uri": "https://localhost:8080/",
          "height": 363
        },
        "outputId": "5b6d891f-376f-4ed5-8d16-33d0dad58f21"
      },
      "source": [
        "# Set style and color options.\n",
        "plt.style.use('fivethirtyeight')\n",
        "palette = sns.xkcd_palette(['blue', 'red', 'purple'])\n",
        "sns.set_palette(palette)\n",
        "\n",
        "# Generate the lineplot.\n",
        "ax = sns.lineplot(x='Year', y='value', hue='Occupation', linewidth=2,\n",
        "                  data=melted)\n",
        "\n",
        "# Title, subtitle, and legend\n",
        "ax.text(x=1995, y=120, s='Who Got To Be On \\'The Daily Show\\'',\n",
        "        fontsize=18, weight='bold', alpha=0.75)\n",
        "ax.text(x=1995, y=110,\n",
        "        s='Occupation of guests, by year',\n",
        "        fontsize=14, alpha=0.85)\n",
        "ax.get_legend().remove()\n",
        "\n",
        "# Horizontal axis\n",
        "ax.set_xlabel('')\n",
        "ax.set_xticks(np.linspace(2000, 2012, 4))\n",
        "ax.set_xticklabels(labels=['2000', '\\'04', '\\'08', '\\'12'])\n",
        "ax.axhline(y=0, color ='black', linewidth=1.3, alpha=0.5)\n",
        "\n",
        "# Vertical axis\n",
        "ax.set_ylabel('')\n",
        "ax.set_yticks(np.linspace(0, 100, 5))\n",
        "ax.set_yticklabels(labels = ['0 ', '25 ', '50 ', '75 ', '100%'])\n",
        "\n",
        "# Line labels\n",
        "ax.text(x=2001, y=80, color=palette[0], s=melted['Occupation'][0])\n",
        "ax.text(x=2008.5, y=5, color=palette[1], s=melted['Occupation'][1])\n",
        "ax.text(x=2007.5, y=55, color=palette[2], s=melted['Occupation'][2])\n",
        "\n",
        "# Footer\n",
        "ax.text(x=1995, y=-20, \n",
        "        s='FIVETHIRTYEIGHT                                                   '\n",
        "        '                         SOURCE: WIKIPEDIA, GOOGLE KNOWLEDGE GRAPH', \n",
        "        fontsize=8, color='#f0f0f0', backgroundcolor='#555555');"
      ],
      "execution_count": 254,
      "outputs": [
        {
          "output_type": "display_data",
          "data": {
            "image/png": "[encoded data removed]",
            "text/plain": [
              "<Figure size 432x288 with 1 Axes>"
            ]
          },
          "metadata": {
            "tags": []
          }
        }
      ]
    },
    {
      "cell_type": "markdown",
      "metadata": {
        "id": "kW36zxl4-BiW",
        "colab_type": "text"
      },
      "source": [
        "### (OPTIONAL) Part 3 — Who were the top 10 guests on _The Daily Show_?\n",
        "\n",
        "*This part is not needed to pass the sprint challenge, only to get a 3! Only work on this after completing the other sections.*\n",
        "\n",
        "**Make a plot** that shows their names and number of appearances.\n",
        "\n",
        "**Add a title** of your choice.\n",
        "\n",
        "**Expectations:** It's ok to make a simple, quick plot: exploratory, instead of explanatory. \n",
        "\n",
        "**Optional Bonus Challenge:** You can change aesthetics and add more annotation. For example, in a relevant location, could you add the text \"19\" to show that Fareed Zakaria appeared 19 times on _The Daily Show_? (And so on, for each of the top 10 guests.)"
      ]
    },
    {
      "cell_type": "code",
      "metadata": {
        "id": "dGbNJFUoAC5t",
        "colab_type": "code",
        "colab": {
          "base_uri": "https://localhost:8080/",
          "height": 219
        },
        "outputId": "0a25abff-600c-44ab-df88-b2a97a74e1e6"
      },
      "source": [
        "# Find and display top 10 guests.\n",
        "\n",
        "top_guests = df['Guest'].value_counts().head(10)\n",
        "top_guests"
      ],
      "execution_count": 255,
      "outputs": [
        {
          "output_type": "execute_result",
          "data": {
            "text/plain": [
              "Fareed Zakaria    19\n",
              "Denis Leary       17\n",
              "Brian Williams    16\n",
              "Ricky Gervais     13\n",
              "Paul Rudd         13\n",
              "Tom Brokaw        12\n",
              "Bill O'Reilly     10\n",
              "Richard Lewis     10\n",
              "Reza Aslan        10\n",
              "Will Ferrell      10\n",
              "Name: Guest, dtype: int64"
            ]
          },
          "metadata": {
            "tags": []
          },
          "execution_count": 255
        }
      ]
    },
    {
      "cell_type": "code",
      "metadata": {
        "id": "B3cqzskY-QbM",
        "colab_type": "code",
        "colab": {
          "base_uri": "https://localhost:8080/",
          "height": 374
        },
        "outputId": "965258f3-d368-4395-92ec-934c25bc846f"
      },
      "source": [
        "# Generate and label top 10 bar chart of guests.\n",
        "\n",
        "top_guests_bar = sns.barplot(x=top_guests.index, y=top_guests, \n",
        "                             color='lightblue')\n",
        "\n",
        "top_guests_bar.set_title('Top 10 \\'Daily Show\\' Guests')\n",
        "\n",
        "# Right align centers the end of each name under the corresponding bar.\n",
        "plt.setp(top_guests_bar.get_xticklabels(), rotation=45, ha='right')\n",
        "\n",
        "top_guests_bar.set_ylabel('Number of Appearances')\n",
        "top_guests_bar.set_yticks(np.linspace(0, 20, 5));"
      ],
      "execution_count": 256,
      "outputs": [
        {
          "output_type": "display_data",
          "data": {
            "image/png": "[encoded data removed]",
            "text/plain": [
              "<Figure size 432x288 with 1 Axes>"
            ]
          },
          "metadata": {
            "tags": []
          }
        }
      ]
    },
    {
      "cell_type": "code",
      "metadata": {
        "id": "WuxI5n_JCQaw",
        "colab_type": "code",
        "colab": {
          "base_uri": "https://localhost:8080/",
          "height": 363
        },
        "outputId": "3f214528-be67-4ed6-acc8-278d6b28bc15"
      },
      "source": [
        "# Get the count of appearances for each guest WITH their occupation.\n",
        "cnt_with_occ = df[['Guest', 'Occupation']].groupby(['Guest', 'Occupation']).size()\n",
        "cnt_with_occ = pd.DataFrame({'Appearances': cnt_with_occ}).reset_index()\n",
        "\n",
        "# Limit to the top 10 and print.\n",
        "top10_with_occ = cnt_with_occ.sort_values('Appearances', \n",
        "                                          ascending=False).head(10)\n",
        "top10_with_occ"
      ],
      "execution_count": 257,
      "outputs": [
        {
          "output_type": "execute_result",
          "data": {
            "text/html": [
              "<div>\n",
              "<style scoped>\n",
              "    .dataframe tbody tr th:only-of-type {\n",
              "        vertical-align: middle;\n",
              "    }\n",
              "\n",
              "    .dataframe tbody tr th {\n",
              "        vertical-align: top;\n",
              "    }\n",
              "\n",
              "    .dataframe thead th {\n",
              "        text-align: right;\n",
              "    }\n",
              "</style>\n",
              "<table border=\"1\" class=\"dataframe\">\n",
              "  <thead>\n",
              "    <tr style=\"text-align: right;\">\n",
              "      <th></th>\n",
              "      <th>Guest</th>\n",
              "      <th>Occupation</th>\n",
              "      <th>Appearances</th>\n",
              "    </tr>\n",
              "  </thead>\n",
              "  <tbody>\n",
              "    <tr>\n",
              "      <th>503</th>\n",
              "      <td>Fareed Zakaria</td>\n",
              "      <td>Media</td>\n",
              "      <td>19</td>\n",
              "    </tr>\n",
              "    <tr>\n",
              "      <th>375</th>\n",
              "      <td>Denis Leary</td>\n",
              "      <td>Acting, Comedy &amp; Music</td>\n",
              "      <td>17</td>\n",
              "    </tr>\n",
              "    <tr>\n",
              "      <th>199</th>\n",
              "      <td>Brian Williams</td>\n",
              "      <td>Media</td>\n",
              "      <td>16</td>\n",
              "    </tr>\n",
              "    <tr>\n",
              "      <th>1330</th>\n",
              "      <td>Ricky Gervais</td>\n",
              "      <td>Acting, Comedy &amp; Music</td>\n",
              "      <td>13</td>\n",
              "    </tr>\n",
              "    <tr>\n",
              "      <th>1210</th>\n",
              "      <td>Paul Rudd</td>\n",
              "      <td>Acting, Comedy &amp; Music</td>\n",
              "      <td>13</td>\n",
              "    </tr>\n",
              "    <tr>\n",
              "      <th>1585</th>\n",
              "      <td>Tom Brokaw</td>\n",
              "      <td>Media</td>\n",
              "      <td>12</td>\n",
              "    </tr>\n",
              "    <tr>\n",
              "      <th>1645</th>\n",
              "      <td>Will Ferrell</td>\n",
              "      <td>Acting, Comedy &amp; Music</td>\n",
              "      <td>10</td>\n",
              "    </tr>\n",
              "    <tr>\n",
              "      <th>1300</th>\n",
              "      <td>Reza Aslan</td>\n",
              "      <td>Other</td>\n",
              "      <td>10</td>\n",
              "    </tr>\n",
              "    <tr>\n",
              "      <th>1319</th>\n",
              "      <td>Richard Lewis</td>\n",
              "      <td>Acting, Comedy &amp; Music</td>\n",
              "      <td>10</td>\n",
              "    </tr>\n",
              "    <tr>\n",
              "      <th>162</th>\n",
              "      <td>Bill O'Reilly</td>\n",
              "      <td>Media</td>\n",
              "      <td>10</td>\n",
              "    </tr>\n",
              "  </tbody>\n",
              "</table>\n",
              "</div>"
            ],
            "text/plain": [
              "               Guest              Occupation  Appearances\n",
              "503   Fareed Zakaria                   Media           19\n",
              "375      Denis Leary  Acting, Comedy & Music           17\n",
              "199   Brian Williams                   Media           16\n",
              "1330   Ricky Gervais  Acting, Comedy & Music           13\n",
              "1210       Paul Rudd  Acting, Comedy & Music           13\n",
              "1585      Tom Brokaw                   Media           12\n",
              "1645    Will Ferrell  Acting, Comedy & Music           10\n",
              "1300      Reza Aslan                   Other           10\n",
              "1319   Richard Lewis  Acting, Comedy & Music           10\n",
              "162    Bill O'Reilly                   Media           10"
            ]
          },
          "metadata": {
            "tags": []
          },
          "execution_count": 257
        }
      ]
    },
    {
      "cell_type": "code",
      "metadata": {
        "id": "k0H78PGdC2Hw",
        "colab_type": "code",
        "colab": {
          "base_uri": "https://localhost:8080/",
          "height": 374
        },
        "outputId": "15b71c0e-4b65-40ca-9b9c-ece3b1b4beae"
      },
      "source": [
        "# Basic color configuration and plot generation. The 'dodge' argument preserves \n",
        "# bar width in combination with 'hue'.\n",
        "sns.set_palette('colorblind')\n",
        "top_guests_bar2 = sns.barplot(x='Guest', y='Appearances', hue='Occupation', \n",
        "                              dodge=False, data=top10_with_occ)\n",
        "\n",
        "# Title and legend\n",
        "top_guests_bar2.set_title('Top 10 \\'Daily Show\\' Guests')\n",
        "plt.gca().legend().set_title('')\n",
        "\n",
        "# Horizontal axis\n",
        "top_guests_bar2.set_xlabel('')\n",
        "plt.setp(top_guests_bar2.get_xticklabels(), rotation=45, ha='right')\n",
        "\n",
        "# Vertical axis\n",
        "top_guests_bar2.set_ylabel('Number of Appearances')\n",
        "top_guests_bar2.set_yticks(np.linspace(0, 20, 5));"
      ],
      "execution_count": 258,
      "outputs": [
        {
          "output_type": "display_data",
          "data": {
            "image/png": "[encoded data removed]",
            "text/plain": [
              "<Figure size 432x288 with 1 Axes>"
            ]
          },
          "metadata": {
            "tags": []
          }
        }
      ]
    }
  ]
}