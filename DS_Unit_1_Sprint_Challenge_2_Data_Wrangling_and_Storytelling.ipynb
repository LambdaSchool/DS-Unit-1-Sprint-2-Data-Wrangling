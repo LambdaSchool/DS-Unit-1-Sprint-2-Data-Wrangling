{
 "cells": [
  {
   "cell_type": "markdown",
   "metadata": {
    "colab_type": "text",
    "id": "4yMHi_PX9hEz"
   },
   "source": [
    "# Data Science Unit 1 Sprint Challenge 2\n",
    "\n",
    "## Data Wrangling and Storytelling\n",
    "\n",
    "Taming data from its raw form into informative insights and stories."
   ]
  },
  {
   "cell_type": "markdown",
   "metadata": {
    "colab_type": "text",
    "id": "9wIvtOss9H_i"
   },
   "source": [
    "## Data Wrangling\n",
    "\n",
    "In this Sprint Challenge you will first \"wrangle\" some data from [Gapminder](https://www.gapminder.org/about-gapminder/), a Swedish non-profit co-founded by Hans Rosling. \"Gapminder produces free teaching resources making the world understandable based on reliable statistics.\"\n",
    "- [Cell phones (total), by country and year](https://raw.githubusercontent.com/open-numbers/ddf--gapminder--systema_globalis/master/ddf--datapoints--cell_phones_total--by--geo--time.csv)\n",
    "- [Population (total), by country and year](https://raw.githubusercontent.com/open-numbers/ddf--gapminder--systema_globalis/master/ddf--datapoints--population_total--by--geo--time.csv)\n",
    "- [Geo country codes](https://github.com/open-numbers/ddf--gapminder--systema_globalis/blob/master/ddf--entities--geo--country.csv)\n",
    "\n",
    "These two links have everything you need to successfully complete the first part of this sprint challenge.\n",
    "- [Pandas documentation: Working with Text Data](https://pandas.pydata.org/pandas-docs/stable/text.html) (one question)\n",
    "- [Pandas Cheat Sheet](https://github.com/pandas-dev/pandas/blob/master/doc/cheatsheet/Pandas_Cheat_Sheet.pdf) (everything else)"
   ]
  },
  {
   "cell_type": "markdown",
   "metadata": {
    "colab_type": "text",
    "id": "wWEU2GemX68A"
   },
   "source": [
    "### Part 0. Load data\n",
    "\n",
    "You don't need to add or change anything here. Just run this cell and it loads the data for you, into three dataframes."
   ]
  },
  {
   "cell_type": "code",
   "execution_count": 159,
   "metadata": {
    "colab": {},
    "colab_type": "code",
    "id": "bxKtSi5sRQOl"
   },
   "outputs": [],
   "source": [
    "import pandas as pd\n",
    "\n",
    "cell_phones = pd.read_csv('https://raw.githubusercontent.com/open-numbers/ddf--gapminder--systema_globalis/master/ddf--datapoints--cell_phones_total--by--geo--time.csv')\n",
    "\n",
    "population = pd.read_csv('https://raw.githubusercontent.com/open-numbers/ddf--gapminder--systema_globalis/master/ddf--datapoints--population_total--by--geo--time.csv')\n",
    "\n",
    "geo_country_codes = (pd.read_csv('https://raw.githubusercontent.com/open-numbers/ddf--gapminder--systema_globalis/master/ddf--entities--geo--country.csv')\n",
    "                       .rename(columns={'country': 'geo', 'name': 'country'}))"
   ]
  },
  {
   "cell_type": "code",
   "execution_count": 160,
   "metadata": {},
   "outputs": [
    {
     "name": "stdout",
     "output_type": "stream",
     "text": [
      "(9215, 3)\n"
     ]
    },
    {
     "data": {
      "text/html": [
       "<div>\n",
       "<style scoped>\n",
       "    .dataframe tbody tr th:only-of-type {\n",
       "        vertical-align: middle;\n",
       "    }\n",
       "\n",
       "    .dataframe tbody tr th {\n",
       "        vertical-align: top;\n",
       "    }\n",
       "\n",
       "    .dataframe thead th {\n",
       "        text-align: right;\n",
       "    }\n",
       "</style>\n",
       "<table border=\"1\" class=\"dataframe\">\n",
       "  <thead>\n",
       "    <tr style=\"text-align: right;\">\n",
       "      <th></th>\n",
       "      <th>geo</th>\n",
       "      <th>time</th>\n",
       "      <th>cell_phones_total</th>\n",
       "    </tr>\n",
       "  </thead>\n",
       "  <tbody>\n",
       "    <tr>\n",
       "      <th>0</th>\n",
       "      <td>abw</td>\n",
       "      <td>1960</td>\n",
       "      <td>0.0</td>\n",
       "    </tr>\n",
       "    <tr>\n",
       "      <th>1</th>\n",
       "      <td>abw</td>\n",
       "      <td>1965</td>\n",
       "      <td>0.0</td>\n",
       "    </tr>\n",
       "    <tr>\n",
       "      <th>2</th>\n",
       "      <td>abw</td>\n",
       "      <td>1970</td>\n",
       "      <td>0.0</td>\n",
       "    </tr>\n",
       "    <tr>\n",
       "      <th>3</th>\n",
       "      <td>abw</td>\n",
       "      <td>1975</td>\n",
       "      <td>0.0</td>\n",
       "    </tr>\n",
       "    <tr>\n",
       "      <th>4</th>\n",
       "      <td>abw</td>\n",
       "      <td>1976</td>\n",
       "      <td>0.0</td>\n",
       "    </tr>\n",
       "  </tbody>\n",
       "</table>\n",
       "</div>"
      ],
      "text/plain": [
       "   geo  time  cell_phones_total\n",
       "0  abw  1960                0.0\n",
       "1  abw  1965                0.0\n",
       "2  abw  1970                0.0\n",
       "3  abw  1975                0.0\n",
       "4  abw  1976                0.0"
      ]
     },
     "execution_count": 160,
     "metadata": {},
     "output_type": "execute_result"
    }
   ],
   "source": [
    "#checking data\n",
    "print(cell_phones.shape)\n",
    "cell_phones.head()"
   ]
  },
  {
   "cell_type": "code",
   "execution_count": 161,
   "metadata": {},
   "outputs": [
    {
     "name": "stdout",
     "output_type": "stream",
     "text": [
      "(59297, 3)\n"
     ]
    },
    {
     "data": {
      "text/html": [
       "<div>\n",
       "<style scoped>\n",
       "    .dataframe tbody tr th:only-of-type {\n",
       "        vertical-align: middle;\n",
       "    }\n",
       "\n",
       "    .dataframe tbody tr th {\n",
       "        vertical-align: top;\n",
       "    }\n",
       "\n",
       "    .dataframe thead th {\n",
       "        text-align: right;\n",
       "    }\n",
       "</style>\n",
       "<table border=\"1\" class=\"dataframe\">\n",
       "  <thead>\n",
       "    <tr style=\"text-align: right;\">\n",
       "      <th></th>\n",
       "      <th>geo</th>\n",
       "      <th>time</th>\n",
       "      <th>population_total</th>\n",
       "    </tr>\n",
       "  </thead>\n",
       "  <tbody>\n",
       "    <tr>\n",
       "      <th>0</th>\n",
       "      <td>afg</td>\n",
       "      <td>1800</td>\n",
       "      <td>3280000</td>\n",
       "    </tr>\n",
       "    <tr>\n",
       "      <th>1</th>\n",
       "      <td>afg</td>\n",
       "      <td>1801</td>\n",
       "      <td>3280000</td>\n",
       "    </tr>\n",
       "    <tr>\n",
       "      <th>2</th>\n",
       "      <td>afg</td>\n",
       "      <td>1802</td>\n",
       "      <td>3280000</td>\n",
       "    </tr>\n",
       "    <tr>\n",
       "      <th>3</th>\n",
       "      <td>afg</td>\n",
       "      <td>1803</td>\n",
       "      <td>3280000</td>\n",
       "    </tr>\n",
       "    <tr>\n",
       "      <th>4</th>\n",
       "      <td>afg</td>\n",
       "      <td>1804</td>\n",
       "      <td>3280000</td>\n",
       "    </tr>\n",
       "  </tbody>\n",
       "</table>\n",
       "</div>"
      ],
      "text/plain": [
       "   geo  time  population_total\n",
       "0  afg  1800           3280000\n",
       "1  afg  1801           3280000\n",
       "2  afg  1802           3280000\n",
       "3  afg  1803           3280000\n",
       "4  afg  1804           3280000"
      ]
     },
     "execution_count": 161,
     "metadata": {},
     "output_type": "execute_result"
    }
   ],
   "source": [
    "#checking data\n",
    "print(population.shape)\n",
    "population.head()"
   ]
  },
  {
   "cell_type": "code",
   "execution_count": 162,
   "metadata": {},
   "outputs": [
    {
     "name": "stdout",
     "output_type": "stream",
     "text": [
      "(273, 33)\n"
     ]
    },
    {
     "data": {
      "text/html": [
       "<div>\n",
       "<style scoped>\n",
       "    .dataframe tbody tr th:only-of-type {\n",
       "        vertical-align: middle;\n",
       "    }\n",
       "\n",
       "    .dataframe tbody tr th {\n",
       "        vertical-align: top;\n",
       "    }\n",
       "\n",
       "    .dataframe thead th {\n",
       "        text-align: right;\n",
       "    }\n",
       "</style>\n",
       "<table border=\"1\" class=\"dataframe\">\n",
       "  <thead>\n",
       "    <tr style=\"text-align: right;\">\n",
       "      <th></th>\n",
       "      <th>geo</th>\n",
       "      <th>alt_5</th>\n",
       "      <th>alternative_1</th>\n",
       "      <th>alternative_2</th>\n",
       "      <th>alternative_3</th>\n",
       "      <th>alternative_4_cdiac</th>\n",
       "      <th>arb1</th>\n",
       "      <th>arb2</th>\n",
       "      <th>arb3</th>\n",
       "      <th>arb4</th>\n",
       "      <th>...</th>\n",
       "      <th>latitude</th>\n",
       "      <th>longitude</th>\n",
       "      <th>main_religion_2008</th>\n",
       "      <th>country</th>\n",
       "      <th>pandg</th>\n",
       "      <th>un_state</th>\n",
       "      <th>unicode_region_subtag</th>\n",
       "      <th>upper_case_name</th>\n",
       "      <th>world_4region</th>\n",
       "      <th>world_6region</th>\n",
       "    </tr>\n",
       "  </thead>\n",
       "  <tbody>\n",
       "    <tr>\n",
       "      <th>0</th>\n",
       "      <td>abkh</td>\n",
       "      <td>NaN</td>\n",
       "      <td>NaN</td>\n",
       "      <td>NaN</td>\n",
       "      <td>NaN</td>\n",
       "      <td>NaN</td>\n",
       "      <td>NaN</td>\n",
       "      <td>NaN</td>\n",
       "      <td>NaN</td>\n",
       "      <td>NaN</td>\n",
       "      <td>...</td>\n",
       "      <td>nan</td>\n",
       "      <td>nan</td>\n",
       "      <td>NaN</td>\n",
       "      <td>Abkhazia</td>\n",
       "      <td>NaN</td>\n",
       "      <td>False</td>\n",
       "      <td>NaN</td>\n",
       "      <td>NaN</td>\n",
       "      <td>europe</td>\n",
       "      <td>europe_central_asia</td>\n",
       "    </tr>\n",
       "    <tr>\n",
       "      <th>1</th>\n",
       "      <td>abw</td>\n",
       "      <td>NaN</td>\n",
       "      <td>NaN</td>\n",
       "      <td>NaN</td>\n",
       "      <td>NaN</td>\n",
       "      <td>Aruba</td>\n",
       "      <td>NaN</td>\n",
       "      <td>NaN</td>\n",
       "      <td>NaN</td>\n",
       "      <td>NaN</td>\n",
       "      <td>...</td>\n",
       "      <td>12.5</td>\n",
       "      <td>-69.96667</td>\n",
       "      <td>christian</td>\n",
       "      <td>Aruba</td>\n",
       "      <td>NaN</td>\n",
       "      <td>False</td>\n",
       "      <td>AW</td>\n",
       "      <td>ARUBA</td>\n",
       "      <td>americas</td>\n",
       "      <td>america</td>\n",
       "    </tr>\n",
       "    <tr>\n",
       "      <th>2</th>\n",
       "      <td>afg</td>\n",
       "      <td>NaN</td>\n",
       "      <td>Islamic Republic of Afghanistan</td>\n",
       "      <td>NaN</td>\n",
       "      <td>NaN</td>\n",
       "      <td>Afghanistan</td>\n",
       "      <td>NaN</td>\n",
       "      <td>NaN</td>\n",
       "      <td>NaN</td>\n",
       "      <td>NaN</td>\n",
       "      <td>...</td>\n",
       "      <td>33.0</td>\n",
       "      <td>66.0</td>\n",
       "      <td>muslim</td>\n",
       "      <td>Afghanistan</td>\n",
       "      <td>AFGHANISTAN</td>\n",
       "      <td>True</td>\n",
       "      <td>AF</td>\n",
       "      <td>AFGHANISTAN</td>\n",
       "      <td>asia</td>\n",
       "      <td>south_asia</td>\n",
       "    </tr>\n",
       "    <tr>\n",
       "      <th>3</th>\n",
       "      <td>ago</td>\n",
       "      <td>NaN</td>\n",
       "      <td>NaN</td>\n",
       "      <td>NaN</td>\n",
       "      <td>NaN</td>\n",
       "      <td>Angola</td>\n",
       "      <td>NaN</td>\n",
       "      <td>NaN</td>\n",
       "      <td>NaN</td>\n",
       "      <td>NaN</td>\n",
       "      <td>...</td>\n",
       "      <td>-12.5</td>\n",
       "      <td>18.5</td>\n",
       "      <td>christian</td>\n",
       "      <td>Angola</td>\n",
       "      <td>ANGOLA</td>\n",
       "      <td>True</td>\n",
       "      <td>AO</td>\n",
       "      <td>ANGOLA</td>\n",
       "      <td>africa</td>\n",
       "      <td>sub_saharan_africa</td>\n",
       "    </tr>\n",
       "    <tr>\n",
       "      <th>4</th>\n",
       "      <td>aia</td>\n",
       "      <td>NaN</td>\n",
       "      <td>NaN</td>\n",
       "      <td>NaN</td>\n",
       "      <td>NaN</td>\n",
       "      <td>NaN</td>\n",
       "      <td>NaN</td>\n",
       "      <td>NaN</td>\n",
       "      <td>NaN</td>\n",
       "      <td>NaN</td>\n",
       "      <td>...</td>\n",
       "      <td>18.21667</td>\n",
       "      <td>-63.05</td>\n",
       "      <td>christian</td>\n",
       "      <td>Anguilla</td>\n",
       "      <td>NaN</td>\n",
       "      <td>False</td>\n",
       "      <td>AI</td>\n",
       "      <td>ANGUILLA</td>\n",
       "      <td>americas</td>\n",
       "      <td>america</td>\n",
       "    </tr>\n",
       "  </tbody>\n",
       "</table>\n",
       "<p>5 rows × 33 columns</p>\n",
       "</div>"
      ],
      "text/plain": [
       "    geo alt_5                    alternative_1 alternative_2 alternative_3  \\\n",
       "0  abkh   NaN                              NaN           NaN           NaN   \n",
       "1   abw   NaN                              NaN           NaN           NaN   \n",
       "2   afg   NaN  Islamic Republic of Afghanistan           NaN           NaN   \n",
       "3   ago   NaN                              NaN           NaN           NaN   \n",
       "4   aia   NaN                              NaN           NaN           NaN   \n",
       "\n",
       "  alternative_4_cdiac arb1 arb2 arb3 arb4  ... latitude longitude  \\\n",
       "0                 NaN  NaN  NaN  NaN  NaN  ...      nan       nan   \n",
       "1               Aruba  NaN  NaN  NaN  NaN  ...     12.5 -69.96667   \n",
       "2         Afghanistan  NaN  NaN  NaN  NaN  ...     33.0      66.0   \n",
       "3              Angola  NaN  NaN  NaN  NaN  ...    -12.5      18.5   \n",
       "4                 NaN  NaN  NaN  NaN  NaN  ... 18.21667    -63.05   \n",
       "\n",
       "  main_religion_2008      country        pandg un_state unicode_region_subtag  \\\n",
       "0                NaN     Abkhazia          NaN    False                   NaN   \n",
       "1          christian        Aruba          NaN    False                    AW   \n",
       "2             muslim  Afghanistan  AFGHANISTAN     True                    AF   \n",
       "3          christian       Angola       ANGOLA     True                    AO   \n",
       "4          christian     Anguilla          NaN    False                    AI   \n",
       "\n",
       "   upper_case_name world_4region        world_6region  \n",
       "0              NaN        europe  europe_central_asia  \n",
       "1            ARUBA      americas              america  \n",
       "2      AFGHANISTAN          asia           south_asia  \n",
       "3           ANGOLA        africa   sub_saharan_africa  \n",
       "4         ANGUILLA      americas              america  \n",
       "\n",
       "[5 rows x 33 columns]"
      ]
     },
     "execution_count": 162,
     "metadata": {},
     "output_type": "execute_result"
    }
   ],
   "source": [
    "#checking data\n",
    "print(geo_country_codes.shape)\n",
    "geo_country_codes.head()"
   ]
  },
  {
   "cell_type": "markdown",
   "metadata": {
    "colab_type": "text",
    "id": "AZmVTeCsX9RC"
   },
   "source": [
    "### Part 1. Join data"
   ]
  },
  {
   "cell_type": "markdown",
   "metadata": {
    "colab_type": "text",
    "id": "GLzX58u4SfEy"
   },
   "source": [
    "First, join the `cell_phones` and `population` dataframes (with an inner join on `geo` and `time`).\n",
    "\n",
    "The resulting dataframe's shape should be: (8590, 4)"
   ]
  },
  {
   "cell_type": "code",
   "execution_count": 163,
   "metadata": {
    "colab": {},
    "colab_type": "code",
    "id": "GVV7Hnj4SXBa"
   },
   "outputs": [],
   "source": [
    "#merging first 2 data sets \n",
    "merge1 = pd.merge(cell_phones, population, how='inner', on=['geo', 'time'])"
   ]
  },
  {
   "cell_type": "code",
   "execution_count": 164,
   "metadata": {},
   "outputs": [
    {
     "name": "stdout",
     "output_type": "stream",
     "text": [
      "(8590, 4)\n"
     ]
    },
    {
     "data": {
      "text/html": [
       "<div>\n",
       "<style scoped>\n",
       "    .dataframe tbody tr th:only-of-type {\n",
       "        vertical-align: middle;\n",
       "    }\n",
       "\n",
       "    .dataframe tbody tr th {\n",
       "        vertical-align: top;\n",
       "    }\n",
       "\n",
       "    .dataframe thead th {\n",
       "        text-align: right;\n",
       "    }\n",
       "</style>\n",
       "<table border=\"1\" class=\"dataframe\">\n",
       "  <thead>\n",
       "    <tr style=\"text-align: right;\">\n",
       "      <th></th>\n",
       "      <th>geo</th>\n",
       "      <th>time</th>\n",
       "      <th>cell_phones_total</th>\n",
       "      <th>population_total</th>\n",
       "    </tr>\n",
       "  </thead>\n",
       "  <tbody>\n",
       "    <tr>\n",
       "      <th>0</th>\n",
       "      <td>afg</td>\n",
       "      <td>1960</td>\n",
       "      <td>0.0</td>\n",
       "      <td>8996351</td>\n",
       "    </tr>\n",
       "    <tr>\n",
       "      <th>1</th>\n",
       "      <td>afg</td>\n",
       "      <td>1965</td>\n",
       "      <td>0.0</td>\n",
       "      <td>9938414</td>\n",
       "    </tr>\n",
       "    <tr>\n",
       "      <th>2</th>\n",
       "      <td>afg</td>\n",
       "      <td>1970</td>\n",
       "      <td>0.0</td>\n",
       "      <td>11126123</td>\n",
       "    </tr>\n",
       "    <tr>\n",
       "      <th>3</th>\n",
       "      <td>afg</td>\n",
       "      <td>1975</td>\n",
       "      <td>0.0</td>\n",
       "      <td>12590286</td>\n",
       "    </tr>\n",
       "    <tr>\n",
       "      <th>4</th>\n",
       "      <td>afg</td>\n",
       "      <td>1976</td>\n",
       "      <td>0.0</td>\n",
       "      <td>12840299</td>\n",
       "    </tr>\n",
       "  </tbody>\n",
       "</table>\n",
       "</div>"
      ],
      "text/plain": [
       "   geo  time  cell_phones_total  population_total\n",
       "0  afg  1960                0.0           8996351\n",
       "1  afg  1965                0.0           9938414\n",
       "2  afg  1970                0.0          11126123\n",
       "3  afg  1975                0.0          12590286\n",
       "4  afg  1976                0.0          12840299"
      ]
     },
     "execution_count": 164,
     "metadata": {},
     "output_type": "execute_result"
    }
   ],
   "source": [
    "#checking merged dataset for accuracy \n",
    "print(merge1.shape)\n",
    "merge1.head()"
   ]
  },
  {
   "cell_type": "markdown",
   "metadata": {
    "colab_type": "text",
    "id": "xsXpDbwwW241"
   },
   "source": [
    "Then, select the `geo` and `country` columns from the `geo_country_codes` dataframe, and join with your population and cell phone data.\n",
    "\n",
    "The resulting dataframe's shape should be: (8590, 5)"
   ]
  },
  {
   "cell_type": "code",
   "execution_count": 165,
   "metadata": {
    "colab": {},
    "colab_type": "code",
    "id": "Q2LaZta_W2CE"
   },
   "outputs": [],
   "source": [
    "#merging the first merge and the last data set \n",
    "df = pd.merge(merge1, geo_country_codes[['geo', 'country']], how='inner', on='geo')"
   ]
  },
  {
   "cell_type": "code",
   "execution_count": 166,
   "metadata": {},
   "outputs": [
    {
     "name": "stdout",
     "output_type": "stream",
     "text": [
      "(8590, 5)\n"
     ]
    },
    {
     "data": {
      "text/html": [
       "<div>\n",
       "<style scoped>\n",
       "    .dataframe tbody tr th:only-of-type {\n",
       "        vertical-align: middle;\n",
       "    }\n",
       "\n",
       "    .dataframe tbody tr th {\n",
       "        vertical-align: top;\n",
       "    }\n",
       "\n",
       "    .dataframe thead th {\n",
       "        text-align: right;\n",
       "    }\n",
       "</style>\n",
       "<table border=\"1\" class=\"dataframe\">\n",
       "  <thead>\n",
       "    <tr style=\"text-align: right;\">\n",
       "      <th></th>\n",
       "      <th>geo</th>\n",
       "      <th>time</th>\n",
       "      <th>cell_phones_total</th>\n",
       "      <th>population_total</th>\n",
       "      <th>country</th>\n",
       "    </tr>\n",
       "  </thead>\n",
       "  <tbody>\n",
       "    <tr>\n",
       "      <th>0</th>\n",
       "      <td>afg</td>\n",
       "      <td>1960</td>\n",
       "      <td>0.0</td>\n",
       "      <td>8996351</td>\n",
       "      <td>Afghanistan</td>\n",
       "    </tr>\n",
       "    <tr>\n",
       "      <th>1</th>\n",
       "      <td>afg</td>\n",
       "      <td>1965</td>\n",
       "      <td>0.0</td>\n",
       "      <td>9938414</td>\n",
       "      <td>Afghanistan</td>\n",
       "    </tr>\n",
       "    <tr>\n",
       "      <th>2</th>\n",
       "      <td>afg</td>\n",
       "      <td>1970</td>\n",
       "      <td>0.0</td>\n",
       "      <td>11126123</td>\n",
       "      <td>Afghanistan</td>\n",
       "    </tr>\n",
       "    <tr>\n",
       "      <th>3</th>\n",
       "      <td>afg</td>\n",
       "      <td>1975</td>\n",
       "      <td>0.0</td>\n",
       "      <td>12590286</td>\n",
       "      <td>Afghanistan</td>\n",
       "    </tr>\n",
       "    <tr>\n",
       "      <th>4</th>\n",
       "      <td>afg</td>\n",
       "      <td>1976</td>\n",
       "      <td>0.0</td>\n",
       "      <td>12840299</td>\n",
       "      <td>Afghanistan</td>\n",
       "    </tr>\n",
       "  </tbody>\n",
       "</table>\n",
       "</div>"
      ],
      "text/plain": [
       "   geo  time  cell_phones_total  population_total      country\n",
       "0  afg  1960                0.0           8996351  Afghanistan\n",
       "1  afg  1965                0.0           9938414  Afghanistan\n",
       "2  afg  1970                0.0          11126123  Afghanistan\n",
       "3  afg  1975                0.0          12590286  Afghanistan\n",
       "4  afg  1976                0.0          12840299  Afghanistan"
      ]
     },
     "execution_count": 166,
     "metadata": {},
     "output_type": "execute_result"
    }
   ],
   "source": [
    "#checking the final merge \n",
    "print(df.shape)\n",
    "df.head()"
   ]
  },
  {
   "cell_type": "code",
   "execution_count": 167,
   "metadata": {},
   "outputs": [
    {
     "data": {
      "text/html": [
       "<div>\n",
       "<style scoped>\n",
       "    .dataframe tbody tr th:only-of-type {\n",
       "        vertical-align: middle;\n",
       "    }\n",
       "\n",
       "    .dataframe tbody tr th {\n",
       "        vertical-align: top;\n",
       "    }\n",
       "\n",
       "    .dataframe thead th {\n",
       "        text-align: right;\n",
       "    }\n",
       "</style>\n",
       "<table border=\"1\" class=\"dataframe\">\n",
       "  <thead>\n",
       "    <tr style=\"text-align: right;\">\n",
       "      <th></th>\n",
       "      <th>time</th>\n",
       "      <th>cell_phones_total</th>\n",
       "      <th>population_total</th>\n",
       "    </tr>\n",
       "  </thead>\n",
       "  <tbody>\n",
       "    <tr>\n",
       "      <th>count</th>\n",
       "      <td>8,590.0</td>\n",
       "      <td>8,590.0</td>\n",
       "      <td>8,590.0</td>\n",
       "    </tr>\n",
       "    <tr>\n",
       "      <th>mean</th>\n",
       "      <td>1,994.1934807916182</td>\n",
       "      <td>9,004,949.642905472</td>\n",
       "      <td>29,838,230.581722934</td>\n",
       "    </tr>\n",
       "    <tr>\n",
       "      <th>std</th>\n",
       "      <td>14.257974607310302</td>\n",
       "      <td>55,734,084.872179635</td>\n",
       "      <td>116,128,377.47477299</td>\n",
       "    </tr>\n",
       "    <tr>\n",
       "      <th>min</th>\n",
       "      <td>1,960.0</td>\n",
       "      <td>0.0</td>\n",
       "      <td>4,433.0</td>\n",
       "    </tr>\n",
       "    <tr>\n",
       "      <th>25%</th>\n",
       "      <td>1,983.0</td>\n",
       "      <td>0.0</td>\n",
       "      <td>1,456,148.0</td>\n",
       "    </tr>\n",
       "    <tr>\n",
       "      <th>50%</th>\n",
       "      <td>1,995.0</td>\n",
       "      <td>6,200.0</td>\n",
       "      <td>5,725,062.5</td>\n",
       "    </tr>\n",
       "    <tr>\n",
       "      <th>75%</th>\n",
       "      <td>2,006.0</td>\n",
       "      <td>1,697,652.0</td>\n",
       "      <td>18,105,812.0</td>\n",
       "    </tr>\n",
       "    <tr>\n",
       "      <th>max</th>\n",
       "      <td>2,017.0</td>\n",
       "      <td>1,474,097,000.0</td>\n",
       "      <td>1,409,517,397.0</td>\n",
       "    </tr>\n",
       "  </tbody>\n",
       "</table>\n",
       "</div>"
      ],
      "text/plain": [
       "                     time    cell_phones_total     population_total\n",
       "count             8,590.0              8,590.0              8,590.0\n",
       "mean  1,994.1934807916182  9,004,949.642905472 29,838,230.581722934\n",
       "std    14.257974607310302 55,734,084.872179635 116,128,377.47477299\n",
       "min               1,960.0                  0.0              4,433.0\n",
       "25%               1,983.0                  0.0          1,456,148.0\n",
       "50%               1,995.0              6,200.0          5,725,062.5\n",
       "75%               2,006.0          1,697,652.0         18,105,812.0\n",
       "max               2,017.0      1,474,097,000.0      1,409,517,397.0"
      ]
     },
     "execution_count": 167,
     "metadata": {},
     "output_type": "execute_result"
    }
   ],
   "source": [
    "#exploring the data\n",
    "df.describe()"
   ]
  },
  {
   "cell_type": "code",
   "execution_count": 168,
   "metadata": {},
   "outputs": [
    {
     "data": {
      "text/plain": [
       "geo                  0\n",
       "time                 0\n",
       "cell_phones_total    0\n",
       "population_total     0\n",
       "country              0\n",
       "dtype: int64"
      ]
     },
     "execution_count": 168,
     "metadata": {},
     "output_type": "execute_result"
    }
   ],
   "source": [
    "#checking for NaN values\n",
    "df.isna().sum()"
   ]
  },
  {
   "cell_type": "markdown",
   "metadata": {
    "colab_type": "text",
    "id": "oK96Uj7vYjFX"
   },
   "source": [
    "### Part 2. Make features"
   ]
  },
  {
   "cell_type": "markdown",
   "metadata": {
    "colab_type": "text",
    "id": "AD2fBNrOYzCG"
   },
   "source": [
    "Calculate the number of cell phones per person, and add this column onto your dataframe.\n",
    "\n",
    "(You've calculated correctly if you get 1.220 cell phones per person in the United States in 2017.)"
   ]
  },
  {
   "cell_type": "code",
   "execution_count": 169,
   "metadata": {
    "colab": {},
    "colab_type": "code",
    "id": "wXI9nQthYnFK"
   },
   "outputs": [],
   "source": [
    "#calculating cell phones per person\n",
    "df['cellphone_per_person'] = (df['cell_phones_total'] / df['population_total'])\n",
    "#maybe round"
   ]
  },
  {
   "cell_type": "code",
   "execution_count": 170,
   "metadata": {},
   "outputs": [
    {
     "data": {
      "text/html": [
       "<div>\n",
       "<style scoped>\n",
       "    .dataframe tbody tr th:only-of-type {\n",
       "        vertical-align: middle;\n",
       "    }\n",
       "\n",
       "    .dataframe tbody tr th {\n",
       "        vertical-align: top;\n",
       "    }\n",
       "\n",
       "    .dataframe thead th {\n",
       "        text-align: right;\n",
       "    }\n",
       "</style>\n",
       "<table border=\"1\" class=\"dataframe\">\n",
       "  <thead>\n",
       "    <tr style=\"text-align: right;\">\n",
       "      <th></th>\n",
       "      <th>geo</th>\n",
       "      <th>time</th>\n",
       "      <th>cell_phones_total</th>\n",
       "      <th>population_total</th>\n",
       "      <th>country</th>\n",
       "      <th>cellphone_per_person</th>\n",
       "    </tr>\n",
       "  </thead>\n",
       "  <tbody>\n",
       "    <tr>\n",
       "      <th>0</th>\n",
       "      <td>afg</td>\n",
       "      <td>1960</td>\n",
       "      <td>0.0</td>\n",
       "      <td>8996351</td>\n",
       "      <td>Afghanistan</td>\n",
       "      <td>0.0</td>\n",
       "    </tr>\n",
       "    <tr>\n",
       "      <th>1</th>\n",
       "      <td>afg</td>\n",
       "      <td>1965</td>\n",
       "      <td>0.0</td>\n",
       "      <td>9938414</td>\n",
       "      <td>Afghanistan</td>\n",
       "      <td>0.0</td>\n",
       "    </tr>\n",
       "    <tr>\n",
       "      <th>2</th>\n",
       "      <td>afg</td>\n",
       "      <td>1970</td>\n",
       "      <td>0.0</td>\n",
       "      <td>11126123</td>\n",
       "      <td>Afghanistan</td>\n",
       "      <td>0.0</td>\n",
       "    </tr>\n",
       "    <tr>\n",
       "      <th>3</th>\n",
       "      <td>afg</td>\n",
       "      <td>1975</td>\n",
       "      <td>0.0</td>\n",
       "      <td>12590286</td>\n",
       "      <td>Afghanistan</td>\n",
       "      <td>0.0</td>\n",
       "    </tr>\n",
       "    <tr>\n",
       "      <th>4</th>\n",
       "      <td>afg</td>\n",
       "      <td>1976</td>\n",
       "      <td>0.0</td>\n",
       "      <td>12840299</td>\n",
       "      <td>Afghanistan</td>\n",
       "      <td>0.0</td>\n",
       "    </tr>\n",
       "  </tbody>\n",
       "</table>\n",
       "</div>"
      ],
      "text/plain": [
       "   geo  time  cell_phones_total  population_total      country  \\\n",
       "0  afg  1960                0.0           8996351  Afghanistan   \n",
       "1  afg  1965                0.0           9938414  Afghanistan   \n",
       "2  afg  1970                0.0          11126123  Afghanistan   \n",
       "3  afg  1975                0.0          12590286  Afghanistan   \n",
       "4  afg  1976                0.0          12840299  Afghanistan   \n",
       "\n",
       "   cellphone_per_person  \n",
       "0                   0.0  \n",
       "1                   0.0  \n",
       "2                   0.0  \n",
       "3                   0.0  \n",
       "4                   0.0  "
      ]
     },
     "execution_count": 170,
     "metadata": {},
     "output_type": "execute_result"
    }
   ],
   "source": [
    "df.head()"
   ]
  },
  {
   "cell_type": "code",
   "execution_count": 171,
   "metadata": {},
   "outputs": [
    {
     "data": {
      "text/html": [
       "<div>\n",
       "<style scoped>\n",
       "    .dataframe tbody tr th:only-of-type {\n",
       "        vertical-align: middle;\n",
       "    }\n",
       "\n",
       "    .dataframe tbody tr th {\n",
       "        vertical-align: top;\n",
       "    }\n",
       "\n",
       "    .dataframe thead th {\n",
       "        text-align: right;\n",
       "    }\n",
       "</style>\n",
       "<table border=\"1\" class=\"dataframe\">\n",
       "  <thead>\n",
       "    <tr style=\"text-align: right;\">\n",
       "      <th></th>\n",
       "      <th>geo</th>\n",
       "      <th>time</th>\n",
       "      <th>cell_phones_total</th>\n",
       "      <th>population_total</th>\n",
       "      <th>country</th>\n",
       "      <th>cellphone_per_person</th>\n",
       "    </tr>\n",
       "  </thead>\n",
       "  <tbody>\n",
       "    <tr>\n",
       "      <th>8134</th>\n",
       "      <td>usa</td>\n",
       "      <td>2017</td>\n",
       "      <td>395,881,000.0</td>\n",
       "      <td>324459463</td>\n",
       "      <td>United States</td>\n",
       "      <td>1.2201246847283354</td>\n",
       "    </tr>\n",
       "  </tbody>\n",
       "</table>\n",
       "</div>"
      ],
      "text/plain": [
       "      geo  time  cell_phones_total  population_total        country  \\\n",
       "8134  usa  2017      395,881,000.0         324459463  United States   \n",
       "\n",
       "      cellphone_per_person  \n",
       "8134    1.2201246847283354  "
      ]
     },
     "execution_count": 171,
     "metadata": {},
     "output_type": "execute_result"
    }
   ],
   "source": [
    "#verify my calculations were correct, by checking the value for the US in 2017\n",
    "df[(df['country'] == 'United States') & (df['time'] == 2017)]\n",
    "#looks good so far"
   ]
  },
  {
   "cell_type": "markdown",
   "metadata": {
    "colab_type": "text",
    "id": "S3QFdsnRZMH6"
   },
   "source": [
    "Modify the `geo` column to make the geo codes uppercase instead of lowercase."
   ]
  },
  {
   "cell_type": "code",
   "execution_count": 172,
   "metadata": {
    "colab": {},
    "colab_type": "code",
    "id": "93ADij8_YkOq"
   },
   "outputs": [],
   "source": [
    "#making the 'geo' column uppercase\n",
    "df['geo'] = df['geo'].str.upper()"
   ]
  },
  {
   "cell_type": "code",
   "execution_count": 173,
   "metadata": {},
   "outputs": [
    {
     "data": {
      "text/html": [
       "<div>\n",
       "<style scoped>\n",
       "    .dataframe tbody tr th:only-of-type {\n",
       "        vertical-align: middle;\n",
       "    }\n",
       "\n",
       "    .dataframe tbody tr th {\n",
       "        vertical-align: top;\n",
       "    }\n",
       "\n",
       "    .dataframe thead th {\n",
       "        text-align: right;\n",
       "    }\n",
       "</style>\n",
       "<table border=\"1\" class=\"dataframe\">\n",
       "  <thead>\n",
       "    <tr style=\"text-align: right;\">\n",
       "      <th></th>\n",
       "      <th>geo</th>\n",
       "      <th>time</th>\n",
       "      <th>cell_phones_total</th>\n",
       "      <th>population_total</th>\n",
       "      <th>country</th>\n",
       "      <th>cellphone_per_person</th>\n",
       "    </tr>\n",
       "  </thead>\n",
       "  <tbody>\n",
       "    <tr>\n",
       "      <th>0</th>\n",
       "      <td>AFG</td>\n",
       "      <td>1960</td>\n",
       "      <td>0.0</td>\n",
       "      <td>8996351</td>\n",
       "      <td>Afghanistan</td>\n",
       "      <td>0.0</td>\n",
       "    </tr>\n",
       "    <tr>\n",
       "      <th>1</th>\n",
       "      <td>AFG</td>\n",
       "      <td>1965</td>\n",
       "      <td>0.0</td>\n",
       "      <td>9938414</td>\n",
       "      <td>Afghanistan</td>\n",
       "      <td>0.0</td>\n",
       "    </tr>\n",
       "    <tr>\n",
       "      <th>2</th>\n",
       "      <td>AFG</td>\n",
       "      <td>1970</td>\n",
       "      <td>0.0</td>\n",
       "      <td>11126123</td>\n",
       "      <td>Afghanistan</td>\n",
       "      <td>0.0</td>\n",
       "    </tr>\n",
       "    <tr>\n",
       "      <th>3</th>\n",
       "      <td>AFG</td>\n",
       "      <td>1975</td>\n",
       "      <td>0.0</td>\n",
       "      <td>12590286</td>\n",
       "      <td>Afghanistan</td>\n",
       "      <td>0.0</td>\n",
       "    </tr>\n",
       "    <tr>\n",
       "      <th>4</th>\n",
       "      <td>AFG</td>\n",
       "      <td>1976</td>\n",
       "      <td>0.0</td>\n",
       "      <td>12840299</td>\n",
       "      <td>Afghanistan</td>\n",
       "      <td>0.0</td>\n",
       "    </tr>\n",
       "    <tr>\n",
       "      <th>5</th>\n",
       "      <td>AFG</td>\n",
       "      <td>1977</td>\n",
       "      <td>0.0</td>\n",
       "      <td>13067538</td>\n",
       "      <td>Afghanistan</td>\n",
       "      <td>0.0</td>\n",
       "    </tr>\n",
       "    <tr>\n",
       "      <th>6</th>\n",
       "      <td>AFG</td>\n",
       "      <td>1978</td>\n",
       "      <td>0.0</td>\n",
       "      <td>13237734</td>\n",
       "      <td>Afghanistan</td>\n",
       "      <td>0.0</td>\n",
       "    </tr>\n",
       "    <tr>\n",
       "      <th>7</th>\n",
       "      <td>AFG</td>\n",
       "      <td>1979</td>\n",
       "      <td>0.0</td>\n",
       "      <td>13306695</td>\n",
       "      <td>Afghanistan</td>\n",
       "      <td>0.0</td>\n",
       "    </tr>\n",
       "    <tr>\n",
       "      <th>8</th>\n",
       "      <td>AFG</td>\n",
       "      <td>1980</td>\n",
       "      <td>0.0</td>\n",
       "      <td>13248370</td>\n",
       "      <td>Afghanistan</td>\n",
       "      <td>0.0</td>\n",
       "    </tr>\n",
       "    <tr>\n",
       "      <th>9</th>\n",
       "      <td>AFG</td>\n",
       "      <td>1981</td>\n",
       "      <td>0.0</td>\n",
       "      <td>13053954</td>\n",
       "      <td>Afghanistan</td>\n",
       "      <td>0.0</td>\n",
       "    </tr>\n",
       "  </tbody>\n",
       "</table>\n",
       "</div>"
      ],
      "text/plain": [
       "   geo  time  cell_phones_total  population_total      country  \\\n",
       "0  AFG  1960                0.0           8996351  Afghanistan   \n",
       "1  AFG  1965                0.0           9938414  Afghanistan   \n",
       "2  AFG  1970                0.0          11126123  Afghanistan   \n",
       "3  AFG  1975                0.0          12590286  Afghanistan   \n",
       "4  AFG  1976                0.0          12840299  Afghanistan   \n",
       "5  AFG  1977                0.0          13067538  Afghanistan   \n",
       "6  AFG  1978                0.0          13237734  Afghanistan   \n",
       "7  AFG  1979                0.0          13306695  Afghanistan   \n",
       "8  AFG  1980                0.0          13248370  Afghanistan   \n",
       "9  AFG  1981                0.0          13053954  Afghanistan   \n",
       "\n",
       "   cellphone_per_person  \n",
       "0                   0.0  \n",
       "1                   0.0  \n",
       "2                   0.0  \n",
       "3                   0.0  \n",
       "4                   0.0  \n",
       "5                   0.0  \n",
       "6                   0.0  \n",
       "7                   0.0  \n",
       "8                   0.0  \n",
       "9                   0.0  "
      ]
     },
     "execution_count": 173,
     "metadata": {},
     "output_type": "execute_result"
    }
   ],
   "source": [
    "df.head(10)"
   ]
  },
  {
   "cell_type": "markdown",
   "metadata": {
    "colab_type": "text",
    "id": "hlPDAFCfaF6C"
   },
   "source": [
    "### Part 3. Process data"
   ]
  },
  {
   "cell_type": "markdown",
   "metadata": {
    "colab_type": "text",
    "id": "k-pudNWve2SQ"
   },
   "source": [
    "Use the describe function, to describe your dataframe's numeric columns, and then its non-numeric columns.\n",
    "\n",
    "(You'll see the time period ranges from 1960 to 2017, and there are 195 unique countries represented.)"
   ]
  },
  {
   "cell_type": "code",
   "execution_count": 174,
   "metadata": {},
   "outputs": [
    {
     "data": {
      "text/plain": [
       "geo                      object\n",
       "time                      int64\n",
       "cell_phones_total       float64\n",
       "population_total          int64\n",
       "country                  object\n",
       "cellphone_per_person    float64\n",
       "dtype: object"
      ]
     },
     "execution_count": 174,
     "metadata": {},
     "output_type": "execute_result"
    }
   ],
   "source": [
    "import numpy as np\n",
    "df.dtypes"
   ]
  },
  {
   "cell_type": "code",
   "execution_count": 175,
   "metadata": {
    "colab": {},
    "colab_type": "code",
    "id": "g26yemKre2Cu"
   },
   "outputs": [
    {
     "data": {
      "text/html": [
       "<div>\n",
       "<style scoped>\n",
       "    .dataframe tbody tr th:only-of-type {\n",
       "        vertical-align: middle;\n",
       "    }\n",
       "\n",
       "    .dataframe tbody tr th {\n",
       "        vertical-align: top;\n",
       "    }\n",
       "\n",
       "    .dataframe thead th {\n",
       "        text-align: right;\n",
       "    }\n",
       "</style>\n",
       "<table border=\"1\" class=\"dataframe\">\n",
       "  <thead>\n",
       "    <tr style=\"text-align: right;\">\n",
       "      <th></th>\n",
       "      <th>time</th>\n",
       "      <th>cell_phones_total</th>\n",
       "      <th>population_total</th>\n",
       "      <th>cellphone_per_person</th>\n",
       "    </tr>\n",
       "  </thead>\n",
       "  <tbody>\n",
       "    <tr>\n",
       "      <th>count</th>\n",
       "      <td>8,590.0</td>\n",
       "      <td>8,590.0</td>\n",
       "      <td>8,590.0</td>\n",
       "      <td>8,590.0</td>\n",
       "    </tr>\n",
       "    <tr>\n",
       "      <th>mean</th>\n",
       "      <td>1,994.1934807916182</td>\n",
       "      <td>9,004,949.642905472</td>\n",
       "      <td>29,838,230.581722934</td>\n",
       "      <td>0.2796385558059151</td>\n",
       "    </tr>\n",
       "    <tr>\n",
       "      <th>std</th>\n",
       "      <td>14.257974607310302</td>\n",
       "      <td>55,734,084.872179635</td>\n",
       "      <td>116,128,377.47477299</td>\n",
       "      <td>0.454246656214052</td>\n",
       "    </tr>\n",
       "    <tr>\n",
       "      <th>min</th>\n",
       "      <td>1,960.0</td>\n",
       "      <td>0.0</td>\n",
       "      <td>4,433.0</td>\n",
       "      <td>0.0</td>\n",
       "    </tr>\n",
       "    <tr>\n",
       "      <th>25%</th>\n",
       "      <td>1,983.0</td>\n",
       "      <td>0.0</td>\n",
       "      <td>1,456,148.0</td>\n",
       "      <td>0.0</td>\n",
       "    </tr>\n",
       "    <tr>\n",
       "      <th>50%</th>\n",
       "      <td>1,995.0</td>\n",
       "      <td>6,200.0</td>\n",
       "      <td>5,725,062.5</td>\n",
       "      <td>0.0015636266438163813</td>\n",
       "    </tr>\n",
       "    <tr>\n",
       "      <th>75%</th>\n",
       "      <td>2,006.0</td>\n",
       "      <td>1,697,652.0</td>\n",
       "      <td>18,105,812.0</td>\n",
       "      <td>0.4611491855201403</td>\n",
       "    </tr>\n",
       "    <tr>\n",
       "      <th>max</th>\n",
       "      <td>2,017.0</td>\n",
       "      <td>1,474,097,000.0</td>\n",
       "      <td>1,409,517,397.0</td>\n",
       "      <td>2.490242818521353</td>\n",
       "    </tr>\n",
       "  </tbody>\n",
       "</table>\n",
       "</div>"
      ],
      "text/plain": [
       "                     time    cell_phones_total     population_total  \\\n",
       "count             8,590.0              8,590.0              8,590.0   \n",
       "mean  1,994.1934807916182  9,004,949.642905472 29,838,230.581722934   \n",
       "std    14.257974607310302 55,734,084.872179635 116,128,377.47477299   \n",
       "min               1,960.0                  0.0              4,433.0   \n",
       "25%               1,983.0                  0.0          1,456,148.0   \n",
       "50%               1,995.0              6,200.0          5,725,062.5   \n",
       "75%               2,006.0          1,697,652.0         18,105,812.0   \n",
       "max               2,017.0      1,474,097,000.0      1,409,517,397.0   \n",
       "\n",
       "       cellphone_per_person  \n",
       "count               8,590.0  \n",
       "mean     0.2796385558059151  \n",
       "std       0.454246656214052  \n",
       "min                     0.0  \n",
       "25%                     0.0  \n",
       "50%   0.0015636266438163813  \n",
       "75%      0.4611491855201403  \n",
       "max       2.490242818521353  "
      ]
     },
     "execution_count": 175,
     "metadata": {},
     "output_type": "execute_result"
    }
   ],
   "source": [
    "#only numeric\n",
    "df.describe(exclude=[np.object])"
   ]
  },
  {
   "cell_type": "code",
   "execution_count": 176,
   "metadata": {},
   "outputs": [
    {
     "data": {
      "text/html": [
       "<div>\n",
       "<style scoped>\n",
       "    .dataframe tbody tr th:only-of-type {\n",
       "        vertical-align: middle;\n",
       "    }\n",
       "\n",
       "    .dataframe tbody tr th {\n",
       "        vertical-align: top;\n",
       "    }\n",
       "\n",
       "    .dataframe thead th {\n",
       "        text-align: right;\n",
       "    }\n",
       "</style>\n",
       "<table border=\"1\" class=\"dataframe\">\n",
       "  <thead>\n",
       "    <tr style=\"text-align: right;\">\n",
       "      <th></th>\n",
       "      <th>geo</th>\n",
       "      <th>country</th>\n",
       "    </tr>\n",
       "  </thead>\n",
       "  <tbody>\n",
       "    <tr>\n",
       "      <th>count</th>\n",
       "      <td>8590</td>\n",
       "      <td>8590</td>\n",
       "    </tr>\n",
       "    <tr>\n",
       "      <th>unique</th>\n",
       "      <td>195</td>\n",
       "      <td>195</td>\n",
       "    </tr>\n",
       "    <tr>\n",
       "      <th>top</th>\n",
       "      <td>IRQ</td>\n",
       "      <td>Slovak Republic</td>\n",
       "    </tr>\n",
       "    <tr>\n",
       "      <th>freq</th>\n",
       "      <td>46</td>\n",
       "      <td>46</td>\n",
       "    </tr>\n",
       "  </tbody>\n",
       "</table>\n",
       "</div>"
      ],
      "text/plain": [
       "         geo          country\n",
       "count   8590             8590\n",
       "unique   195              195\n",
       "top      IRQ  Slovak Republic\n",
       "freq      46               46"
      ]
     },
     "execution_count": 176,
     "metadata": {},
     "output_type": "execute_result"
    }
   ],
   "source": [
    "#only objects\n",
    "df.describe(exclude=[np.number])"
   ]
  },
  {
   "cell_type": "markdown",
   "metadata": {
    "colab_type": "text",
    "id": "zALg-RrYaLcI"
   },
   "source": [
    "In 2017, what were the top 5 countries with the most cell phones total?\n",
    "\n",
    "Your list of countries should have these totals:\n",
    "\n",
    "| country | cell phones total |\n",
    "|:-------:|:-----------------:|\n",
    "|    ?    |     1,474,097,000 |\n",
    "|    ?    |     1,168,902,277 |\n",
    "|    ?    |       458,923,202 |\n",
    "|    ?    |       395,881,000 |\n",
    "|    ?    |       236,488,548 |\n",
    "\n"
   ]
  },
  {
   "cell_type": "code",
   "execution_count": 177,
   "metadata": {
    "colab": {},
    "colab_type": "code",
    "id": "JdlWvezHaZxD"
   },
   "outputs": [],
   "source": [
    "# This optional code formats float numbers with comma separators\n",
    "pd.options.display.float_format = '{:,}'.format"
   ]
  },
  {
   "cell_type": "code",
   "execution_count": 178,
   "metadata": {
    "colab": {},
    "colab_type": "code",
    "id": "smX8vzu4cyju"
   },
   "outputs": [],
   "source": [
    "#making new dataframe with only values from 2017\n",
    "year_2017 = df[df['time'] == 2017]\n"
   ]
  },
  {
   "cell_type": "code",
   "execution_count": 179,
   "metadata": {},
   "outputs": [],
   "source": [
    "#refind this dataframe to only country and cell phones total columns\n",
    "country_cell = year_2017[['country', 'cell_phones_total']]"
   ]
  },
  {
   "cell_type": "code",
   "execution_count": 180,
   "metadata": {},
   "outputs": [
    {
     "data": {
      "text/html": [
       "<div>\n",
       "<style scoped>\n",
       "    .dataframe tbody tr th:only-of-type {\n",
       "        vertical-align: middle;\n",
       "    }\n",
       "\n",
       "    .dataframe tbody tr th {\n",
       "        vertical-align: top;\n",
       "    }\n",
       "\n",
       "    .dataframe thead th {\n",
       "        text-align: right;\n",
       "    }\n",
       "</style>\n",
       "<table border=\"1\" class=\"dataframe\">\n",
       "  <thead>\n",
       "    <tr style=\"text-align: right;\">\n",
       "      <th></th>\n",
       "      <th>country</th>\n",
       "      <th>cell_phones_total</th>\n",
       "    </tr>\n",
       "  </thead>\n",
       "  <tbody>\n",
       "    <tr>\n",
       "      <th>1496</th>\n",
       "      <td>China</td>\n",
       "      <td>1,474,097,000.0</td>\n",
       "    </tr>\n",
       "    <tr>\n",
       "      <th>3595</th>\n",
       "      <td>India</td>\n",
       "      <td>1,168,902,277.0</td>\n",
       "    </tr>\n",
       "    <tr>\n",
       "      <th>3549</th>\n",
       "      <td>Indonesia</td>\n",
       "      <td>458,923,202.0</td>\n",
       "    </tr>\n",
       "    <tr>\n",
       "      <th>8134</th>\n",
       "      <td>United States</td>\n",
       "      <td>395,881,000.0</td>\n",
       "    </tr>\n",
       "    <tr>\n",
       "      <th>1084</th>\n",
       "      <td>Brazil</td>\n",
       "      <td>236,488,548.0</td>\n",
       "    </tr>\n",
       "  </tbody>\n",
       "</table>\n",
       "</div>"
      ],
      "text/plain": [
       "            country  cell_phones_total\n",
       "1496          China    1,474,097,000.0\n",
       "3595          India    1,168,902,277.0\n",
       "3549      Indonesia      458,923,202.0\n",
       "8134  United States      395,881,000.0\n",
       "1084         Brazil      236,488,548.0"
      ]
     },
     "execution_count": 180,
     "metadata": {},
     "output_type": "execute_result"
    }
   ],
   "source": [
    "#sorting the call_phone_total column highest to lowest\n",
    "country_cell = country_cell.sort_values(by=['cell_phones_total'], ascending=False)\n",
    "country_cell.head()"
   ]
  },
  {
   "cell_type": "markdown",
   "metadata": {
    "colab_type": "text",
    "id": "03V3Wln_h0dj"
   },
   "source": [
    "2017 was the first year that China had more cell phones than people.\n",
    "\n",
    "What was the first year that the USA had more cell phones than people?"
   ]
  },
  {
   "cell_type": "code",
   "execution_count": 181,
   "metadata": {
    "colab": {},
    "colab_type": "code",
    "id": "KONQkQZ3haNC"
   },
   "outputs": [],
   "source": [
    "#making USA only dataframe\n",
    "usa = df[df.country == 'United States']"
   ]
  },
  {
   "cell_type": "code",
   "execution_count": 182,
   "metadata": {},
   "outputs": [],
   "source": [
    "#checking for years where there are more phones than people\n",
    "more_cell_than_ppl = usa[(usa.cell_phones_total) > (usa.population_total)]"
   ]
  },
  {
   "cell_type": "code",
   "execution_count": 183,
   "metadata": {},
   "outputs": [
    {
     "data": {
      "text/html": [
       "<div>\n",
       "<style scoped>\n",
       "    .dataframe tbody tr th:only-of-type {\n",
       "        vertical-align: middle;\n",
       "    }\n",
       "\n",
       "    .dataframe tbody tr th {\n",
       "        vertical-align: top;\n",
       "    }\n",
       "\n",
       "    .dataframe thead th {\n",
       "        text-align: right;\n",
       "    }\n",
       "</style>\n",
       "<table border=\"1\" class=\"dataframe\">\n",
       "  <thead>\n",
       "    <tr style=\"text-align: right;\">\n",
       "      <th></th>\n",
       "      <th>geo</th>\n",
       "      <th>time</th>\n",
       "      <th>cell_phones_total</th>\n",
       "      <th>population_total</th>\n",
       "      <th>country</th>\n",
       "      <th>cellphone_per_person</th>\n",
       "    </tr>\n",
       "  </thead>\n",
       "  <tbody>\n",
       "    <tr>\n",
       "      <th>8131</th>\n",
       "      <td>USA</td>\n",
       "      <td>2014</td>\n",
       "      <td>355,500,000.0</td>\n",
       "      <td>317718779</td>\n",
       "      <td>United States</td>\n",
       "      <td>1.118914031833164</td>\n",
       "    </tr>\n",
       "    <tr>\n",
       "      <th>8132</th>\n",
       "      <td>USA</td>\n",
       "      <td>2015</td>\n",
       "      <td>382,307,000.0</td>\n",
       "      <td>319929162</td>\n",
       "      <td>United States</td>\n",
       "      <td>1.1949739048796058</td>\n",
       "    </tr>\n",
       "    <tr>\n",
       "      <th>8133</th>\n",
       "      <td>USA</td>\n",
       "      <td>2016</td>\n",
       "      <td>395,881,000.0</td>\n",
       "      <td>322179605</td>\n",
       "      <td>United States</td>\n",
       "      <td>1.228758722948959</td>\n",
       "    </tr>\n",
       "    <tr>\n",
       "      <th>8134</th>\n",
       "      <td>USA</td>\n",
       "      <td>2017</td>\n",
       "      <td>395,881,000.0</td>\n",
       "      <td>324459463</td>\n",
       "      <td>United States</td>\n",
       "      <td>1.2201246847283354</td>\n",
       "    </tr>\n",
       "  </tbody>\n",
       "</table>\n",
       "</div>"
      ],
      "text/plain": [
       "      geo  time  cell_phones_total  population_total        country  \\\n",
       "8131  USA  2014      355,500,000.0         317718779  United States   \n",
       "8132  USA  2015      382,307,000.0         319929162  United States   \n",
       "8133  USA  2016      395,881,000.0         322179605  United States   \n",
       "8134  USA  2017      395,881,000.0         324459463  United States   \n",
       "\n",
       "      cellphone_per_person  \n",
       "8131     1.118914031833164  \n",
       "8132    1.1949739048796058  \n",
       "8133     1.228758722948959  \n",
       "8134    1.2201246847283354  "
      ]
     },
     "execution_count": 183,
     "metadata": {},
     "output_type": "execute_result"
    }
   ],
   "source": [
    "more_cell_than_ppl.head()"
   ]
  },
  {
   "cell_type": "code",
   "execution_count": 184,
   "metadata": {},
   "outputs": [
    {
     "data": {
      "text/html": [
       "<div>\n",
       "<style scoped>\n",
       "    .dataframe tbody tr th:only-of-type {\n",
       "        vertical-align: middle;\n",
       "    }\n",
       "\n",
       "    .dataframe tbody tr th {\n",
       "        vertical-align: top;\n",
       "    }\n",
       "\n",
       "    .dataframe thead th {\n",
       "        text-align: right;\n",
       "    }\n",
       "</style>\n",
       "<table border=\"1\" class=\"dataframe\">\n",
       "  <thead>\n",
       "    <tr style=\"text-align: right;\">\n",
       "      <th></th>\n",
       "      <th>geo</th>\n",
       "      <th>time</th>\n",
       "      <th>cell_phones_total</th>\n",
       "      <th>population_total</th>\n",
       "      <th>country</th>\n",
       "      <th>cellphone_per_person</th>\n",
       "    </tr>\n",
       "  </thead>\n",
       "  <tbody>\n",
       "    <tr>\n",
       "      <th>8130</th>\n",
       "      <td>USA</td>\n",
       "      <td>2013</td>\n",
       "      <td>310,698,000.0</td>\n",
       "      <td>315536676</td>\n",
       "      <td>United States</td>\n",
       "      <td>0.9846652501340288</td>\n",
       "    </tr>\n",
       "  </tbody>\n",
       "</table>\n",
       "</div>"
      ],
      "text/plain": [
       "      geo  time  cell_phones_total  population_total        country  \\\n",
       "8130  USA  2013      310,698,000.0         315536676  United States   \n",
       "\n",
       "      cellphone_per_person  \n",
       "8130    0.9846652501340288  "
      ]
     },
     "execution_count": 184,
     "metadata": {},
     "output_type": "execute_result"
    }
   ],
   "source": [
    "#verifying my findings\n",
    "usa[usa['time'] == 2013]"
   ]
  },
  {
   "cell_type": "markdown",
   "metadata": {},
   "source": [
    "## The first year the US had more cell phones than people is the year 2014"
   ]
  },
  {
   "cell_type": "markdown",
   "metadata": {
    "colab_type": "text",
    "id": "6J7iwMnTg8KZ"
   },
   "source": [
    "### Part 4. Reshape data"
   ]
  },
  {
   "cell_type": "markdown",
   "metadata": {
    "colab_type": "text",
    "id": "LP9InazRkUxG"
   },
   "source": [
    "*This part is not needed to pass the sprint challenge, only to get a 3! Only work on this after completing the other sections.*\n",
    "\n",
    "Create a pivot table:\n",
    "- Columns: Years 2007—2017\n",
    "- Rows: China, India, United States, Indonesia, Brazil (order doesn't matter)\n",
    "- Values: Cell Phones Total\n",
    "\n",
    "The table's shape should be: (5, 11)"
   ]
  },
  {
   "cell_type": "code",
   "execution_count": 191,
   "metadata": {},
   "outputs": [
    {
     "data": {
      "text/plain": [
       "array([2007, 2008, 2009, 2010, 2011, 2012, 2013, 2014, 2015, 2016, 2017],\n",
       "      dtype=int64)"
      ]
     },
     "execution_count": 191,
     "metadata": {},
     "output_type": "execute_result"
    }
   ],
   "source": [
    "#filter only the desired years \n",
    "df = df[(df['time'] <= 2017) & (df['time'] >= 2007)]\n",
    "df['time'].unique()"
   ]
  },
  {
   "cell_type": "code",
   "execution_count": 192,
   "metadata": {},
   "outputs": [],
   "source": [
    "#filter only desired countries \n",
    "countries = [ 'China', 'India', 'United States', 'Indonesia', 'Brazil' ]\n",
    "df = df[df['country'].isin(countries)]"
   ]
  },
  {
   "cell_type": "code",
   "execution_count": 194,
   "metadata": {},
   "outputs": [
    {
     "name": "stdout",
     "output_type": "stream",
     "text": [
      "['Brazil' 'China' 'Indonesia' 'India' 'United States']\n"
     ]
    },
    {
     "data": {
      "text/html": [
       "<div>\n",
       "<style scoped>\n",
       "    .dataframe tbody tr th:only-of-type {\n",
       "        vertical-align: middle;\n",
       "    }\n",
       "\n",
       "    .dataframe tbody tr th {\n",
       "        vertical-align: top;\n",
       "    }\n",
       "\n",
       "    .dataframe thead th {\n",
       "        text-align: right;\n",
       "    }\n",
       "</style>\n",
       "<table border=\"1\" class=\"dataframe\">\n",
       "  <thead>\n",
       "    <tr style=\"text-align: right;\">\n",
       "      <th></th>\n",
       "      <th>geo</th>\n",
       "      <th>time</th>\n",
       "      <th>cell_phones_total</th>\n",
       "      <th>population_total</th>\n",
       "      <th>country</th>\n",
       "      <th>cellphone_per_person</th>\n",
       "    </tr>\n",
       "  </thead>\n",
       "  <tbody>\n",
       "    <tr>\n",
       "      <th>1074</th>\n",
       "      <td>BRA</td>\n",
       "      <td>2007</td>\n",
       "      <td>120,980,103.0</td>\n",
       "      <td>191026637</td>\n",
       "      <td>Brazil</td>\n",
       "      <td>0.6333153580042348</td>\n",
       "    </tr>\n",
       "    <tr>\n",
       "      <th>1075</th>\n",
       "      <td>BRA</td>\n",
       "      <td>2008</td>\n",
       "      <td>150,641,403.0</td>\n",
       "      <td>192979029</td>\n",
       "      <td>Brazil</td>\n",
       "      <td>0.7806102237150339</td>\n",
       "    </tr>\n",
       "    <tr>\n",
       "      <th>1076</th>\n",
       "      <td>BRA</td>\n",
       "      <td>2009</td>\n",
       "      <td>169,385,584.0</td>\n",
       "      <td>194895996</td>\n",
       "      <td>Brazil</td>\n",
       "      <td>0.869107562373934</td>\n",
       "    </tr>\n",
       "    <tr>\n",
       "      <th>1077</th>\n",
       "      <td>BRA</td>\n",
       "      <td>2010</td>\n",
       "      <td>196,929,978.0</td>\n",
       "      <td>196796269</td>\n",
       "      <td>Brazil</td>\n",
       "      <td>1.000679428531239</td>\n",
       "    </tr>\n",
       "    <tr>\n",
       "      <th>1078</th>\n",
       "      <td>BRA</td>\n",
       "      <td>2011</td>\n",
       "      <td>234,357,507.0</td>\n",
       "      <td>198686688</td>\n",
       "      <td>Brazil</td>\n",
       "      <td>1.1795330092774006</td>\n",
       "    </tr>\n",
       "  </tbody>\n",
       "</table>\n",
       "</div>"
      ],
      "text/plain": [
       "      geo  time  cell_phones_total  population_total country  \\\n",
       "1074  BRA  2007      120,980,103.0         191026637  Brazil   \n",
       "1075  BRA  2008      150,641,403.0         192979029  Brazil   \n",
       "1076  BRA  2009      169,385,584.0         194895996  Brazil   \n",
       "1077  BRA  2010      196,929,978.0         196796269  Brazil   \n",
       "1078  BRA  2011      234,357,507.0         198686688  Brazil   \n",
       "\n",
       "      cellphone_per_person  \n",
       "1074    0.6333153580042348  \n",
       "1075    0.7806102237150339  \n",
       "1076     0.869107562373934  \n",
       "1077     1.000679428531239  \n",
       "1078    1.1795330092774006  "
      ]
     },
     "execution_count": 194,
     "metadata": {},
     "output_type": "execute_result"
    }
   ],
   "source": [
    "#verify \n",
    "print(df['country'].unique())\n",
    "df.head()"
   ]
  },
  {
   "cell_type": "code",
   "execution_count": 195,
   "metadata": {},
   "outputs": [
    {
     "data": {
      "text/html": [
       "<div>\n",
       "<style scoped>\n",
       "    .dataframe tbody tr th:only-of-type {\n",
       "        vertical-align: middle;\n",
       "    }\n",
       "\n",
       "    .dataframe tbody tr th {\n",
       "        vertical-align: top;\n",
       "    }\n",
       "\n",
       "    .dataframe thead th {\n",
       "        text-align: right;\n",
       "    }\n",
       "</style>\n",
       "<table border=\"1\" class=\"dataframe\">\n",
       "  <thead>\n",
       "    <tr style=\"text-align: right;\">\n",
       "      <th></th>\n",
       "      <th>time</th>\n",
       "      <th>cell_phones_total</th>\n",
       "      <th>country</th>\n",
       "    </tr>\n",
       "  </thead>\n",
       "  <tbody>\n",
       "    <tr>\n",
       "      <th>1074</th>\n",
       "      <td>2007</td>\n",
       "      <td>120,980,103.0</td>\n",
       "      <td>Brazil</td>\n",
       "    </tr>\n",
       "    <tr>\n",
       "      <th>1075</th>\n",
       "      <td>2008</td>\n",
       "      <td>150,641,403.0</td>\n",
       "      <td>Brazil</td>\n",
       "    </tr>\n",
       "    <tr>\n",
       "      <th>1076</th>\n",
       "      <td>2009</td>\n",
       "      <td>169,385,584.0</td>\n",
       "      <td>Brazil</td>\n",
       "    </tr>\n",
       "    <tr>\n",
       "      <th>1077</th>\n",
       "      <td>2010</td>\n",
       "      <td>196,929,978.0</td>\n",
       "      <td>Brazil</td>\n",
       "    </tr>\n",
       "    <tr>\n",
       "      <th>1078</th>\n",
       "      <td>2011</td>\n",
       "      <td>234,357,507.0</td>\n",
       "      <td>Brazil</td>\n",
       "    </tr>\n",
       "  </tbody>\n",
       "</table>\n",
       "</div>"
      ],
      "text/plain": [
       "      time  cell_phones_total country\n",
       "1074  2007      120,980,103.0  Brazil\n",
       "1075  2008      150,641,403.0  Brazil\n",
       "1076  2009      169,385,584.0  Brazil\n",
       "1077  2010      196,929,978.0  Brazil\n",
       "1078  2011      234,357,507.0  Brazil"
      ]
     },
     "execution_count": 195,
     "metadata": {},
     "output_type": "execute_result"
    }
   ],
   "source": [
    "#getting rod of columns I do not need \n",
    "df = df.drop(columns=['geo', 'population_total', 'cellphone_per_person'])\n",
    "df.head()"
   ]
  },
  {
   "cell_type": "code",
   "execution_count": 199,
   "metadata": {},
   "outputs": [
    {
     "data": {
      "text/html": [
       "<div>\n",
       "<style scoped>\n",
       "    .dataframe tbody tr th:only-of-type {\n",
       "        vertical-align: middle;\n",
       "    }\n",
       "\n",
       "    .dataframe tbody tr th {\n",
       "        vertical-align: top;\n",
       "    }\n",
       "\n",
       "    .dataframe thead th {\n",
       "        text-align: right;\n",
       "    }\n",
       "</style>\n",
       "<table border=\"1\" class=\"dataframe\">\n",
       "  <thead>\n",
       "    <tr style=\"text-align: right;\">\n",
       "      <th>time</th>\n",
       "      <th>2007</th>\n",
       "      <th>2008</th>\n",
       "      <th>2009</th>\n",
       "      <th>2010</th>\n",
       "      <th>2011</th>\n",
       "      <th>2012</th>\n",
       "      <th>2013</th>\n",
       "      <th>2014</th>\n",
       "      <th>2015</th>\n",
       "      <th>2016</th>\n",
       "      <th>2017</th>\n",
       "    </tr>\n",
       "    <tr>\n",
       "      <th>country</th>\n",
       "      <th></th>\n",
       "      <th></th>\n",
       "      <th></th>\n",
       "      <th></th>\n",
       "      <th></th>\n",
       "      <th></th>\n",
       "      <th></th>\n",
       "      <th></th>\n",
       "      <th></th>\n",
       "      <th></th>\n",
       "      <th></th>\n",
       "    </tr>\n",
       "  </thead>\n",
       "  <tbody>\n",
       "    <tr>\n",
       "      <th>Brazil</th>\n",
       "      <td>120,980,103.0</td>\n",
       "      <td>150,641,403.0</td>\n",
       "      <td>169,385,584.0</td>\n",
       "      <td>196,929,978.0</td>\n",
       "      <td>234,357,507.0</td>\n",
       "      <td>248,323,703.0</td>\n",
       "      <td>271,099,799.0</td>\n",
       "      <td>280,728,796.0</td>\n",
       "      <td>257,814,274.0</td>\n",
       "      <td>244,067,356.0</td>\n",
       "      <td>236,488,548.0</td>\n",
       "    </tr>\n",
       "    <tr>\n",
       "      <th>China</th>\n",
       "      <td>547,306,000.0</td>\n",
       "      <td>641,245,000.0</td>\n",
       "      <td>747,214,000.0</td>\n",
       "      <td>859,003,000.0</td>\n",
       "      <td>986,253,000.0</td>\n",
       "      <td>1,112,155,000.0</td>\n",
       "      <td>1,229,113,000.0</td>\n",
       "      <td>1,286,093,000.0</td>\n",
       "      <td>1,291,984,200.0</td>\n",
       "      <td>1,364,934,000.0</td>\n",
       "      <td>1,474,097,000.0</td>\n",
       "    </tr>\n",
       "    <tr>\n",
       "      <th>India</th>\n",
       "      <td>233,620,000.0</td>\n",
       "      <td>346,890,000.0</td>\n",
       "      <td>525,090,000.0</td>\n",
       "      <td>752,190,000.0</td>\n",
       "      <td>893,862,478.0</td>\n",
       "      <td>864,720,917.0</td>\n",
       "      <td>886,304,245.0</td>\n",
       "      <td>944,008,677.0</td>\n",
       "      <td>1,001,056,000.0</td>\n",
       "      <td>1,127,809,000.0</td>\n",
       "      <td>1,168,902,277.0</td>\n",
       "    </tr>\n",
       "    <tr>\n",
       "      <th>Indonesia</th>\n",
       "      <td>93,386,881.0</td>\n",
       "      <td>140,578,243.0</td>\n",
       "      <td>163,676,961.0</td>\n",
       "      <td>211,290,235.0</td>\n",
       "      <td>249,805,619.0</td>\n",
       "      <td>281,963,665.0</td>\n",
       "      <td>313,226,914.0</td>\n",
       "      <td>325,582,819.0</td>\n",
       "      <td>338,948,340.0</td>\n",
       "      <td>385,573,398.0</td>\n",
       "      <td>458,923,202.0</td>\n",
       "    </tr>\n",
       "    <tr>\n",
       "      <th>United States</th>\n",
       "      <td>249,300,000.0</td>\n",
       "      <td>261,300,000.0</td>\n",
       "      <td>274,283,000.0</td>\n",
       "      <td>285,118,000.0</td>\n",
       "      <td>297,404,000.0</td>\n",
       "      <td>304,838,000.0</td>\n",
       "      <td>310,698,000.0</td>\n",
       "      <td>355,500,000.0</td>\n",
       "      <td>382,307,000.0</td>\n",
       "      <td>395,881,000.0</td>\n",
       "      <td>395,881,000.0</td>\n",
       "    </tr>\n",
       "  </tbody>\n",
       "</table>\n",
       "</div>"
      ],
      "text/plain": [
       "time                   2007          2008          2009          2010  \\\n",
       "country                                                                 \n",
       "Brazil        120,980,103.0 150,641,403.0 169,385,584.0 196,929,978.0   \n",
       "China         547,306,000.0 641,245,000.0 747,214,000.0 859,003,000.0   \n",
       "India         233,620,000.0 346,890,000.0 525,090,000.0 752,190,000.0   \n",
       "Indonesia      93,386,881.0 140,578,243.0 163,676,961.0 211,290,235.0   \n",
       "United States 249,300,000.0 261,300,000.0 274,283,000.0 285,118,000.0   \n",
       "\n",
       "time                   2011            2012            2013            2014  \\\n",
       "country                                                                       \n",
       "Brazil        234,357,507.0   248,323,703.0   271,099,799.0   280,728,796.0   \n",
       "China         986,253,000.0 1,112,155,000.0 1,229,113,000.0 1,286,093,000.0   \n",
       "India         893,862,478.0   864,720,917.0   886,304,245.0   944,008,677.0   \n",
       "Indonesia     249,805,619.0   281,963,665.0   313,226,914.0   325,582,819.0   \n",
       "United States 297,404,000.0   304,838,000.0   310,698,000.0   355,500,000.0   \n",
       "\n",
       "time                     2015            2016            2017  \n",
       "country                                                        \n",
       "Brazil          257,814,274.0   244,067,356.0   236,488,548.0  \n",
       "China         1,291,984,200.0 1,364,934,000.0 1,474,097,000.0  \n",
       "India         1,001,056,000.0 1,127,809,000.0 1,168,902,277.0  \n",
       "Indonesia       338,948,340.0   385,573,398.0   458,923,202.0  \n",
       "United States   382,307,000.0   395,881,000.0   395,881,000.0  "
      ]
     },
     "execution_count": 199,
     "metadata": {},
     "output_type": "execute_result"
    }
   ],
   "source": [
    "#creating pivot table to required specification \n",
    "pivtbl = pd.pivot_table(df, values='cell_phones_total', columns='time', index='country')\n",
    "pivtbl"
   ]
  },
  {
   "cell_type": "markdown",
   "metadata": {
    "colab_type": "text",
    "id": "CNKTu2DCnAo6"
   },
   "source": [
    "Sort these 5 countries, by biggest increase in cell phones from 2007 to 2017.\n",
    "\n",
    "Which country had 935,282,277 more cell phones in 2017 versus 2007?"
   ]
  },
  {
   "cell_type": "code",
   "execution_count": 203,
   "metadata": {
    "colab": {},
    "colab_type": "code",
    "id": "O4Aecv1fmQlj"
   },
   "outputs": [
    {
     "data": {
      "text/plain": [
       "country\n",
       "Brazil          115,508,445.0\n",
       "China           926,791,000.0\n",
       "India           935,282,277.0\n",
       "Indonesia       365,536,321.0\n",
       "United States   146,581,000.0\n",
       "dtype: float64"
      ]
     },
     "execution_count": 203,
     "metadata": {},
     "output_type": "execute_result"
    }
   ],
   "source": [
    "#calculating difference in the number of phones between 2007 and 2017\n",
    "diff_btw_cellphones = pivtbl[2017] - pivtbl[2007]\n",
    "diff_btw_cellphones"
   ]
  },
  {
   "cell_type": "markdown",
   "metadata": {},
   "source": [
    "## India had the biggest increase of cellphones between 2007 and 2017 "
   ]
  },
  {
   "cell_type": "code",
   "execution_count": 207,
   "metadata": {},
   "outputs": [
    {
     "data": {
      "text/plain": [
       "935282277.0"
      ]
     },
     "execution_count": 207,
     "metadata": {},
     "output_type": "execute_result"
    }
   ],
   "source": [
    "#Check answer\n",
    "diff_btw_cellphones['India']"
   ]
  },
  {
   "cell_type": "markdown",
   "metadata": {
    "colab_type": "text",
    "id": "7iHkMsa3Rorh"
   },
   "source": [
    "If you have the time and curiosity, what other questions can you ask and answer with this data?"
   ]
  },
  {
   "cell_type": "markdown",
   "metadata": {},
   "source": [
    "### As more peeple get their hands on technology like smart phones, does the standard of living for those people also increase?"
   ]
  },
  {
   "cell_type": "markdown",
   "metadata": {
    "colab_type": "text",
    "id": "vtcAJOAV9k3X"
   },
   "source": [
    "## Data Storytelling\n",
    "\n",
    "In this part of the sprint challenge you'll work with a dataset from **FiveThirtyEight's article, [Every Guest Jon Stewart Ever Had On ‘The Daily Show’](https://fivethirtyeight.com/features/every-guest-jon-stewart-ever-had-on-the-daily-show/)**!"
   ]
  },
  {
   "cell_type": "markdown",
   "metadata": {
    "colab_type": "text",
    "id": "UtjoIqvm9yFg"
   },
   "source": [
    "### Part 0 — Run this starter code\n",
    "\n",
    "You don't need to add or change anything here. Just run this cell and it loads the data for you, into a dataframe named `df`.\n",
    "\n",
    "(You can explore the data if you want, but it's not required to pass the Sprint Challenge.)"
   ]
  },
  {
   "cell_type": "code",
   "execution_count": 76,
   "metadata": {
    "colab": {},
    "colab_type": "code",
    "id": "tYujbhIz9zKU"
   },
   "outputs": [],
   "source": [
    "%matplotlib inline\n",
    "import matplotlib.pyplot as plt\n",
    "import numpy as np\n",
    "import pandas as pd\n",
    "\n",
    "url = 'https://raw.githubusercontent.com/fivethirtyeight/data/master/daily-show-guests/daily_show_guests.csv'\n",
    "df = pd.read_csv(url).rename(columns={'YEAR': 'Year', 'Raw_Guest_List': 'Guest'})\n",
    "\n",
    "def get_occupation(group):\n",
    "    if group in ['Acting', 'Comedy', 'Musician']:\n",
    "        return 'Acting, Comedy & Music'\n",
    "    elif group in ['Media', 'media']:\n",
    "        return 'Media'\n",
    "    elif group in ['Government', 'Politician', 'Political Aide']:\n",
    "        return 'Government and Politics'\n",
    "    else:\n",
    "        return 'Other'\n",
    "      \n",
    "df['Occupation'] = df['Group'].apply(get_occupation)"
   ]
  },
  {
   "cell_type": "markdown",
   "metadata": {
    "colab_type": "text",
    "id": "5hjnMK3j90Rp"
   },
   "source": [
    "### Part 1 — What's the breakdown of guests’ occupations per year?\n",
    "\n",
    "For example, in 1999, what percentage of guests were actors, comedians, or musicians? What percentage were in the media? What percentage were in politics? What percentage were from another occupation?\n",
    "\n",
    "Then, what about in 2000? In 2001? And so on, up through 2015.\n",
    "\n",
    "So, **for each year of _The Daily Show_, calculate the percentage of guests from each occupation:**\n",
    "- Acting, Comedy & Music\n",
    "- Government and Politics\n",
    "- Media\n",
    "- Other\n",
    "\n",
    "#### Hints:\n",
    "You can make a crosstab. (See pandas documentation for examples, explanation, and parameters.)\n",
    "\n",
    "You'll know you've calculated correctly when the percentage of \"Acting, Comedy & Music\" guests is 90.36% in 1999, and 45% in 2015."
   ]
  },
  {
   "cell_type": "code",
   "execution_count": 77,
   "metadata": {
    "colab": {},
    "colab_type": "code",
    "id": "EbobyiHv916F"
   },
   "outputs": [
    {
     "data": {
      "text/html": [
       "<div>\n",
       "<style scoped>\n",
       "    .dataframe tbody tr th:only-of-type {\n",
       "        vertical-align: middle;\n",
       "    }\n",
       "\n",
       "    .dataframe tbody tr th {\n",
       "        vertical-align: top;\n",
       "    }\n",
       "\n",
       "    .dataframe thead th {\n",
       "        text-align: right;\n",
       "    }\n",
       "</style>\n",
       "<table border=\"1\" class=\"dataframe\">\n",
       "  <thead>\n",
       "    <tr style=\"text-align: right;\">\n",
       "      <th></th>\n",
       "      <th>Year</th>\n",
       "      <th>GoogleKnowlege_Occupation</th>\n",
       "      <th>Show</th>\n",
       "      <th>Group</th>\n",
       "      <th>Guest</th>\n",
       "      <th>Occupation</th>\n",
       "    </tr>\n",
       "  </thead>\n",
       "  <tbody>\n",
       "    <tr>\n",
       "      <th>0</th>\n",
       "      <td>1999</td>\n",
       "      <td>actor</td>\n",
       "      <td>1/11/99</td>\n",
       "      <td>Acting</td>\n",
       "      <td>Michael J. Fox</td>\n",
       "      <td>Acting, Comedy &amp; Music</td>\n",
       "    </tr>\n",
       "    <tr>\n",
       "      <th>1</th>\n",
       "      <td>1999</td>\n",
       "      <td>Comedian</td>\n",
       "      <td>1/12/99</td>\n",
       "      <td>Comedy</td>\n",
       "      <td>Sandra Bernhard</td>\n",
       "      <td>Acting, Comedy &amp; Music</td>\n",
       "    </tr>\n",
       "    <tr>\n",
       "      <th>2</th>\n",
       "      <td>1999</td>\n",
       "      <td>television actress</td>\n",
       "      <td>1/13/99</td>\n",
       "      <td>Acting</td>\n",
       "      <td>Tracey Ullman</td>\n",
       "      <td>Acting, Comedy &amp; Music</td>\n",
       "    </tr>\n",
       "    <tr>\n",
       "      <th>3</th>\n",
       "      <td>1999</td>\n",
       "      <td>film actress</td>\n",
       "      <td>1/14/99</td>\n",
       "      <td>Acting</td>\n",
       "      <td>Gillian Anderson</td>\n",
       "      <td>Acting, Comedy &amp; Music</td>\n",
       "    </tr>\n",
       "    <tr>\n",
       "      <th>4</th>\n",
       "      <td>1999</td>\n",
       "      <td>actor</td>\n",
       "      <td>1/18/99</td>\n",
       "      <td>Acting</td>\n",
       "      <td>David Alan Grier</td>\n",
       "      <td>Acting, Comedy &amp; Music</td>\n",
       "    </tr>\n",
       "  </tbody>\n",
       "</table>\n",
       "</div>"
      ],
      "text/plain": [
       "   Year GoogleKnowlege_Occupation     Show   Group             Guest  \\\n",
       "0  1999                     actor  1/11/99  Acting    Michael J. Fox   \n",
       "1  1999                  Comedian  1/12/99  Comedy   Sandra Bernhard   \n",
       "2  1999        television actress  1/13/99  Acting     Tracey Ullman   \n",
       "3  1999              film actress  1/14/99  Acting  Gillian Anderson   \n",
       "4  1999                     actor  1/18/99  Acting  David Alan Grier   \n",
       "\n",
       "               Occupation  \n",
       "0  Acting, Comedy & Music  \n",
       "1  Acting, Comedy & Music  \n",
       "2  Acting, Comedy & Music  \n",
       "3  Acting, Comedy & Music  \n",
       "4  Acting, Comedy & Music  "
      ]
     },
     "execution_count": 77,
     "metadata": {},
     "output_type": "execute_result"
    }
   ],
   "source": [
    "df.head()"
   ]
  },
  {
   "cell_type": "code",
   "execution_count": 78,
   "metadata": {},
   "outputs": [
    {
     "data": {
      "text/plain": [
       "17"
      ]
     },
     "execution_count": 78,
     "metadata": {},
     "output_type": "execute_result"
    }
   ],
   "source": [
    "#exploring data\n",
    "df['Year'].nunique()"
   ]
  },
  {
   "cell_type": "code",
   "execution_count": 81,
   "metadata": {},
   "outputs": [],
   "source": [
    "#binning the years\n",
    "year_bins = pd.cut(df['Year'], 17)"
   ]
  },
  {
   "cell_type": "code",
   "execution_count": 82,
   "metadata": {},
   "outputs": [
    {
     "data": {
      "text/html": [
       "<div>\n",
       "<style scoped>\n",
       "    .dataframe tbody tr th:only-of-type {\n",
       "        vertical-align: middle;\n",
       "    }\n",
       "\n",
       "    .dataframe tbody tr th {\n",
       "        vertical-align: top;\n",
       "    }\n",
       "\n",
       "    .dataframe thead th {\n",
       "        text-align: right;\n",
       "    }\n",
       "</style>\n",
       "<table border=\"1\" class=\"dataframe\">\n",
       "  <thead>\n",
       "    <tr style=\"text-align: right;\">\n",
       "      <th>Occupation</th>\n",
       "      <th>Acting, Comedy &amp; Music</th>\n",
       "      <th>Government and Politics</th>\n",
       "      <th>Media</th>\n",
       "      <th>Other</th>\n",
       "    </tr>\n",
       "    <tr>\n",
       "      <th>Year</th>\n",
       "      <th></th>\n",
       "      <th></th>\n",
       "      <th></th>\n",
       "      <th></th>\n",
       "    </tr>\n",
       "  </thead>\n",
       "  <tbody>\n",
       "    <tr>\n",
       "      <th>(1998.984, 1999.941]</th>\n",
       "      <td>0.9036144578313253</td>\n",
       "      <td>0.012048192771084338</td>\n",
       "      <td>0.06626506024096386</td>\n",
       "      <td>0.018072289156626505</td>\n",
       "    </tr>\n",
       "    <tr>\n",
       "      <th>(1999.941, 2000.882]</th>\n",
       "      <td>0.7396449704142012</td>\n",
       "      <td>0.08284023668639054</td>\n",
       "      <td>0.1242603550295858</td>\n",
       "      <td>0.05325443786982249</td>\n",
       "    </tr>\n",
       "    <tr>\n",
       "      <th>(2000.882, 2001.824]</th>\n",
       "      <td>0.7261146496815286</td>\n",
       "      <td>0.03821656050955414</td>\n",
       "      <td>0.19745222929936307</td>\n",
       "      <td>0.03821656050955414</td>\n",
       "    </tr>\n",
       "    <tr>\n",
       "      <th>(2001.824, 2002.765]</th>\n",
       "      <td>0.6226415094339622</td>\n",
       "      <td>0.06918238993710692</td>\n",
       "      <td>0.2641509433962264</td>\n",
       "      <td>0.0440251572327044</td>\n",
       "    </tr>\n",
       "    <tr>\n",
       "      <th>(2002.765, 2003.706]</th>\n",
       "      <td>0.5602409638554217</td>\n",
       "      <td>0.10240963855421686</td>\n",
       "      <td>0.2469879518072289</td>\n",
       "      <td>0.09036144578313253</td>\n",
       "    </tr>\n",
       "    <tr>\n",
       "      <th>(2003.706, 2004.647]</th>\n",
       "      <td>0.38414634146341464</td>\n",
       "      <td>0.22560975609756098</td>\n",
       "      <td>0.27439024390243905</td>\n",
       "      <td>0.11585365853658537</td>\n",
       "    </tr>\n",
       "    <tr>\n",
       "      <th>(2004.647, 2005.588]</th>\n",
       "      <td>0.37037037037037035</td>\n",
       "      <td>0.16049382716049382</td>\n",
       "      <td>0.3333333333333333</td>\n",
       "      <td>0.13580246913580246</td>\n",
       "    </tr>\n",
       "    <tr>\n",
       "      <th>(2005.588, 2006.529]</th>\n",
       "      <td>0.36024844720496896</td>\n",
       "      <td>0.19254658385093168</td>\n",
       "      <td>0.2919254658385093</td>\n",
       "      <td>0.15527950310559005</td>\n",
       "    </tr>\n",
       "    <tr>\n",
       "      <th>(2006.529, 2007.471]</th>\n",
       "      <td>0.2553191489361702</td>\n",
       "      <td>0.1702127659574468</td>\n",
       "      <td>0.3333333333333333</td>\n",
       "      <td>0.24113475177304963</td>\n",
       "    </tr>\n",
       "    <tr>\n",
       "      <th>(2007.471, 2008.412]</th>\n",
       "      <td>0.2073170731707317</td>\n",
       "      <td>0.20121951219512196</td>\n",
       "      <td>0.4695121951219512</td>\n",
       "      <td>0.12195121951219512</td>\n",
       "    </tr>\n",
       "    <tr>\n",
       "      <th>(2008.412, 2009.353]</th>\n",
       "      <td>0.2085889570552147</td>\n",
       "      <td>0.2085889570552147</td>\n",
       "      <td>0.3619631901840491</td>\n",
       "      <td>0.22085889570552147</td>\n",
       "    </tr>\n",
       "    <tr>\n",
       "      <th>(2009.353, 2010.294]</th>\n",
       "      <td>0.3515151515151515</td>\n",
       "      <td>0.18181818181818182</td>\n",
       "      <td>0.30303030303030304</td>\n",
       "      <td>0.16363636363636364</td>\n",
       "    </tr>\n",
       "    <tr>\n",
       "      <th>(2010.294, 2011.235]</th>\n",
       "      <td>0.3374233128834356</td>\n",
       "      <td>0.1656441717791411</td>\n",
       "      <td>0.3128834355828221</td>\n",
       "      <td>0.18404907975460122</td>\n",
       "    </tr>\n",
       "    <tr>\n",
       "      <th>(2011.235, 2012.176]</th>\n",
       "      <td>0.2682926829268293</td>\n",
       "      <td>0.20121951219512196</td>\n",
       "      <td>0.3170731707317073</td>\n",
       "      <td>0.21341463414634146</td>\n",
       "    </tr>\n",
       "    <tr>\n",
       "      <th>(2012.176, 2013.118]</th>\n",
       "      <td>0.42771084337349397</td>\n",
       "      <td>0.12650602409638553</td>\n",
       "      <td>0.3072289156626506</td>\n",
       "      <td>0.13855421686746988</td>\n",
       "    </tr>\n",
       "    <tr>\n",
       "      <th>(2013.118, 2014.059]</th>\n",
       "      <td>0.39263803680981596</td>\n",
       "      <td>0.12883435582822086</td>\n",
       "      <td>0.32515337423312884</td>\n",
       "      <td>0.15337423312883436</td>\n",
       "    </tr>\n",
       "    <tr>\n",
       "      <th>(2014.059, 2015.0]</th>\n",
       "      <td>0.45</td>\n",
       "      <td>0.17</td>\n",
       "      <td>0.24</td>\n",
       "      <td>0.14</td>\n",
       "    </tr>\n",
       "  </tbody>\n",
       "</table>\n",
       "</div>"
      ],
      "text/plain": [
       "Occupation            Acting, Comedy & Music  Government and Politics  \\\n",
       "Year                                                                    \n",
       "(1998.984, 1999.941]      0.9036144578313253     0.012048192771084338   \n",
       "(1999.941, 2000.882]      0.7396449704142012      0.08284023668639054   \n",
       "(2000.882, 2001.824]      0.7261146496815286      0.03821656050955414   \n",
       "(2001.824, 2002.765]      0.6226415094339622      0.06918238993710692   \n",
       "(2002.765, 2003.706]      0.5602409638554217      0.10240963855421686   \n",
       "(2003.706, 2004.647]     0.38414634146341464      0.22560975609756098   \n",
       "(2004.647, 2005.588]     0.37037037037037035      0.16049382716049382   \n",
       "(2005.588, 2006.529]     0.36024844720496896      0.19254658385093168   \n",
       "(2006.529, 2007.471]      0.2553191489361702       0.1702127659574468   \n",
       "(2007.471, 2008.412]      0.2073170731707317      0.20121951219512196   \n",
       "(2008.412, 2009.353]      0.2085889570552147       0.2085889570552147   \n",
       "(2009.353, 2010.294]      0.3515151515151515      0.18181818181818182   \n",
       "(2010.294, 2011.235]      0.3374233128834356       0.1656441717791411   \n",
       "(2011.235, 2012.176]      0.2682926829268293      0.20121951219512196   \n",
       "(2012.176, 2013.118]     0.42771084337349397      0.12650602409638553   \n",
       "(2013.118, 2014.059]     0.39263803680981596      0.12883435582822086   \n",
       "(2014.059, 2015.0]                      0.45                     0.17   \n",
       "\n",
       "Occupation                         Media                Other  \n",
       "Year                                                           \n",
       "(1998.984, 1999.941] 0.06626506024096386 0.018072289156626505  \n",
       "(1999.941, 2000.882]  0.1242603550295858  0.05325443786982249  \n",
       "(2000.882, 2001.824] 0.19745222929936307  0.03821656050955414  \n",
       "(2001.824, 2002.765]  0.2641509433962264   0.0440251572327044  \n",
       "(2002.765, 2003.706]  0.2469879518072289  0.09036144578313253  \n",
       "(2003.706, 2004.647] 0.27439024390243905  0.11585365853658537  \n",
       "(2004.647, 2005.588]  0.3333333333333333  0.13580246913580246  \n",
       "(2005.588, 2006.529]  0.2919254658385093  0.15527950310559005  \n",
       "(2006.529, 2007.471]  0.3333333333333333  0.24113475177304963  \n",
       "(2007.471, 2008.412]  0.4695121951219512  0.12195121951219512  \n",
       "(2008.412, 2009.353]  0.3619631901840491  0.22085889570552147  \n",
       "(2009.353, 2010.294] 0.30303030303030304  0.16363636363636364  \n",
       "(2010.294, 2011.235]  0.3128834355828221  0.18404907975460122  \n",
       "(2011.235, 2012.176]  0.3170731707317073  0.21341463414634146  \n",
       "(2012.176, 2013.118]  0.3072289156626506  0.13855421686746988  \n",
       "(2013.118, 2014.059] 0.32515337423312884  0.15337423312883436  \n",
       "(2014.059, 2015.0]                  0.24                 0.14  "
      ]
     },
     "execution_count": 82,
     "metadata": {},
     "output_type": "execute_result"
    }
   ],
   "source": [
    "#creating a crrosstab to figure out the percent for each group each year \n",
    "crosstab = pd.crosstab(year_bins, df['Occupation'], normalize='index')\n",
    "crosstab"
   ]
  },
  {
   "cell_type": "code",
   "execution_count": 87,
   "metadata": {},
   "outputs": [],
   "source": [
    "#Convering decimalpercent to full number (0.15 -> 15) \n",
    "crosstab = crosstab[['Acting, Comedy & Music', 'Government and Politics', 'Media', 'Other']] *100"
   ]
  },
  {
   "cell_type": "code",
   "execution_count": 88,
   "metadata": {},
   "outputs": [
    {
     "data": {
      "text/html": [
       "<div>\n",
       "<style scoped>\n",
       "    .dataframe tbody tr th:only-of-type {\n",
       "        vertical-align: middle;\n",
       "    }\n",
       "\n",
       "    .dataframe tbody tr th {\n",
       "        vertical-align: top;\n",
       "    }\n",
       "\n",
       "    .dataframe thead th {\n",
       "        text-align: right;\n",
       "    }\n",
       "</style>\n",
       "<table border=\"1\" class=\"dataframe\">\n",
       "  <thead>\n",
       "    <tr style=\"text-align: right;\">\n",
       "      <th>Occupation</th>\n",
       "      <th>Acting, Comedy &amp; Music</th>\n",
       "      <th>Government and Politics</th>\n",
       "      <th>Media</th>\n",
       "      <th>Other</th>\n",
       "    </tr>\n",
       "    <tr>\n",
       "      <th>Year</th>\n",
       "      <th></th>\n",
       "      <th></th>\n",
       "      <th></th>\n",
       "      <th></th>\n",
       "    </tr>\n",
       "  </thead>\n",
       "  <tbody>\n",
       "    <tr>\n",
       "      <th>(1998.984, 1999.941]</th>\n",
       "      <td>90.36144578313254</td>\n",
       "      <td>1.2048192771084338</td>\n",
       "      <td>6.626506024096386</td>\n",
       "      <td>1.8072289156626504</td>\n",
       "    </tr>\n",
       "    <tr>\n",
       "      <th>(1999.941, 2000.882]</th>\n",
       "      <td>73.96449704142012</td>\n",
       "      <td>8.284023668639055</td>\n",
       "      <td>12.42603550295858</td>\n",
       "      <td>5.325443786982249</td>\n",
       "    </tr>\n",
       "    <tr>\n",
       "      <th>(2000.882, 2001.824]</th>\n",
       "      <td>72.61146496815286</td>\n",
       "      <td>3.821656050955414</td>\n",
       "      <td>19.745222929936308</td>\n",
       "      <td>3.821656050955414</td>\n",
       "    </tr>\n",
       "    <tr>\n",
       "      <th>(2001.824, 2002.765]</th>\n",
       "      <td>62.264150943396224</td>\n",
       "      <td>6.918238993710692</td>\n",
       "      <td>26.41509433962264</td>\n",
       "      <td>4.40251572327044</td>\n",
       "    </tr>\n",
       "    <tr>\n",
       "      <th>(2002.765, 2003.706]</th>\n",
       "      <td>56.024096385542165</td>\n",
       "      <td>10.240963855421686</td>\n",
       "      <td>24.69879518072289</td>\n",
       "      <td>9.036144578313253</td>\n",
       "    </tr>\n",
       "    <tr>\n",
       "      <th>(2003.706, 2004.647]</th>\n",
       "      <td>38.41463414634146</td>\n",
       "      <td>22.5609756097561</td>\n",
       "      <td>27.439024390243905</td>\n",
       "      <td>11.585365853658537</td>\n",
       "    </tr>\n",
       "    <tr>\n",
       "      <th>(2004.647, 2005.588]</th>\n",
       "      <td>37.03703703703704</td>\n",
       "      <td>16.049382716049383</td>\n",
       "      <td>33.33333333333333</td>\n",
       "      <td>13.580246913580247</td>\n",
       "    </tr>\n",
       "    <tr>\n",
       "      <th>(2005.588, 2006.529]</th>\n",
       "      <td>36.024844720496894</td>\n",
       "      <td>19.25465838509317</td>\n",
       "      <td>29.19254658385093</td>\n",
       "      <td>15.527950310559005</td>\n",
       "    </tr>\n",
       "    <tr>\n",
       "      <th>(2006.529, 2007.471]</th>\n",
       "      <td>25.53191489361702</td>\n",
       "      <td>17.02127659574468</td>\n",
       "      <td>33.33333333333333</td>\n",
       "      <td>24.113475177304963</td>\n",
       "    </tr>\n",
       "    <tr>\n",
       "      <th>(2007.471, 2008.412]</th>\n",
       "      <td>20.73170731707317</td>\n",
       "      <td>20.121951219512198</td>\n",
       "      <td>46.95121951219512</td>\n",
       "      <td>12.195121951219512</td>\n",
       "    </tr>\n",
       "    <tr>\n",
       "      <th>(2008.412, 2009.353]</th>\n",
       "      <td>20.858895705521473</td>\n",
       "      <td>20.858895705521473</td>\n",
       "      <td>36.19631901840491</td>\n",
       "      <td>22.085889570552148</td>\n",
       "    </tr>\n",
       "    <tr>\n",
       "      <th>(2009.353, 2010.294]</th>\n",
       "      <td>35.15151515151515</td>\n",
       "      <td>18.181818181818183</td>\n",
       "      <td>30.303030303030305</td>\n",
       "      <td>16.363636363636363</td>\n",
       "    </tr>\n",
       "    <tr>\n",
       "      <th>(2010.294, 2011.235]</th>\n",
       "      <td>33.74233128834356</td>\n",
       "      <td>16.56441717791411</td>\n",
       "      <td>31.28834355828221</td>\n",
       "      <td>18.404907975460123</td>\n",
       "    </tr>\n",
       "    <tr>\n",
       "      <th>(2011.235, 2012.176]</th>\n",
       "      <td>26.82926829268293</td>\n",
       "      <td>20.121951219512198</td>\n",
       "      <td>31.70731707317073</td>\n",
       "      <td>21.341463414634145</td>\n",
       "    </tr>\n",
       "    <tr>\n",
       "      <th>(2012.176, 2013.118]</th>\n",
       "      <td>42.77108433734939</td>\n",
       "      <td>12.650602409638553</td>\n",
       "      <td>30.72289156626506</td>\n",
       "      <td>13.855421686746988</td>\n",
       "    </tr>\n",
       "    <tr>\n",
       "      <th>(2013.118, 2014.059]</th>\n",
       "      <td>39.263803680981596</td>\n",
       "      <td>12.883435582822086</td>\n",
       "      <td>32.515337423312886</td>\n",
       "      <td>15.337423312883436</td>\n",
       "    </tr>\n",
       "    <tr>\n",
       "      <th>(2014.059, 2015.0]</th>\n",
       "      <td>45.0</td>\n",
       "      <td>17.0</td>\n",
       "      <td>24.0</td>\n",
       "      <td>14.000000000000002</td>\n",
       "    </tr>\n",
       "  </tbody>\n",
       "</table>\n",
       "</div>"
      ],
      "text/plain": [
       "Occupation            Acting, Comedy & Music  Government and Politics  \\\n",
       "Year                                                                    \n",
       "(1998.984, 1999.941]       90.36144578313254       1.2048192771084338   \n",
       "(1999.941, 2000.882]       73.96449704142012        8.284023668639055   \n",
       "(2000.882, 2001.824]       72.61146496815286        3.821656050955414   \n",
       "(2001.824, 2002.765]      62.264150943396224        6.918238993710692   \n",
       "(2002.765, 2003.706]      56.024096385542165       10.240963855421686   \n",
       "(2003.706, 2004.647]       38.41463414634146         22.5609756097561   \n",
       "(2004.647, 2005.588]       37.03703703703704       16.049382716049383   \n",
       "(2005.588, 2006.529]      36.024844720496894        19.25465838509317   \n",
       "(2006.529, 2007.471]       25.53191489361702        17.02127659574468   \n",
       "(2007.471, 2008.412]       20.73170731707317       20.121951219512198   \n",
       "(2008.412, 2009.353]      20.858895705521473       20.858895705521473   \n",
       "(2009.353, 2010.294]       35.15151515151515       18.181818181818183   \n",
       "(2010.294, 2011.235]       33.74233128834356        16.56441717791411   \n",
       "(2011.235, 2012.176]       26.82926829268293       20.121951219512198   \n",
       "(2012.176, 2013.118]       42.77108433734939       12.650602409638553   \n",
       "(2013.118, 2014.059]      39.263803680981596       12.883435582822086   \n",
       "(2014.059, 2015.0]                      45.0                     17.0   \n",
       "\n",
       "Occupation                        Media              Other  \n",
       "Year                                                        \n",
       "(1998.984, 1999.941]  6.626506024096386 1.8072289156626504  \n",
       "(1999.941, 2000.882]  12.42603550295858  5.325443786982249  \n",
       "(2000.882, 2001.824] 19.745222929936308  3.821656050955414  \n",
       "(2001.824, 2002.765]  26.41509433962264   4.40251572327044  \n",
       "(2002.765, 2003.706]  24.69879518072289  9.036144578313253  \n",
       "(2003.706, 2004.647] 27.439024390243905 11.585365853658537  \n",
       "(2004.647, 2005.588]  33.33333333333333 13.580246913580247  \n",
       "(2005.588, 2006.529]  29.19254658385093 15.527950310559005  \n",
       "(2006.529, 2007.471]  33.33333333333333 24.113475177304963  \n",
       "(2007.471, 2008.412]  46.95121951219512 12.195121951219512  \n",
       "(2008.412, 2009.353]  36.19631901840491 22.085889570552148  \n",
       "(2009.353, 2010.294] 30.303030303030305 16.363636363636363  \n",
       "(2010.294, 2011.235]  31.28834355828221 18.404907975460123  \n",
       "(2011.235, 2012.176]  31.70731707317073 21.341463414634145  \n",
       "(2012.176, 2013.118]  30.72289156626506 13.855421686746988  \n",
       "(2013.118, 2014.059] 32.515337423312886 15.337423312883436  \n",
       "(2014.059, 2015.0]                 24.0 14.000000000000002  "
      ]
     },
     "execution_count": 88,
     "metadata": {},
     "output_type": "execute_result"
    }
   ],
   "source": [
    "crosstab"
   ]
  },
  {
   "cell_type": "code",
   "execution_count": 93,
   "metadata": {},
   "outputs": [
    {
     "data": {
      "text/plain": [
       "Index(['Acting, Comedy & Music', 'Government and Politics', 'Media', 'Other'], dtype='object', name='Occupation')"
      ]
     },
     "execution_count": 93,
     "metadata": {},
     "output_type": "execute_result"
    }
   ],
   "source": [
    "# making table into its own new dataframe (probably unnecessary)\n",
    "new_df = pd.DataFrame(crosstab)\n",
    "new_df.columns"
   ]
  },
  {
   "cell_type": "code",
   "execution_count": 101,
   "metadata": {},
   "outputs": [],
   "source": [
    "#new year column to look more polished\n",
    "new_df['year'] = [1999, 2000, 2001, 2002,2003,2004,2005,2006,2007,2008,2009,2010,2011,2012,2013,2014,2015]"
   ]
  },
  {
   "cell_type": "code",
   "execution_count": 102,
   "metadata": {},
   "outputs": [
    {
     "data": {
      "text/html": [
       "<div>\n",
       "<style scoped>\n",
       "    .dataframe tbody tr th:only-of-type {\n",
       "        vertical-align: middle;\n",
       "    }\n",
       "\n",
       "    .dataframe tbody tr th {\n",
       "        vertical-align: top;\n",
       "    }\n",
       "\n",
       "    .dataframe thead th {\n",
       "        text-align: right;\n",
       "    }\n",
       "</style>\n",
       "<table border=\"1\" class=\"dataframe\">\n",
       "  <thead>\n",
       "    <tr style=\"text-align: right;\">\n",
       "      <th>Occupation</th>\n",
       "      <th>Acting, Comedy &amp; Music</th>\n",
       "      <th>Government and Politics</th>\n",
       "      <th>Media</th>\n",
       "      <th>Other</th>\n",
       "      <th>year</th>\n",
       "    </tr>\n",
       "    <tr>\n",
       "      <th>Year</th>\n",
       "      <th></th>\n",
       "      <th></th>\n",
       "      <th></th>\n",
       "      <th></th>\n",
       "      <th></th>\n",
       "    </tr>\n",
       "  </thead>\n",
       "  <tbody>\n",
       "    <tr>\n",
       "      <th>(1998.984, 1999.941]</th>\n",
       "      <td>90.36144578313254</td>\n",
       "      <td>1.2048192771084338</td>\n",
       "      <td>6.626506024096386</td>\n",
       "      <td>1.8072289156626504</td>\n",
       "      <td>1999</td>\n",
       "    </tr>\n",
       "    <tr>\n",
       "      <th>(1999.941, 2000.882]</th>\n",
       "      <td>73.96449704142012</td>\n",
       "      <td>8.284023668639055</td>\n",
       "      <td>12.42603550295858</td>\n",
       "      <td>5.325443786982249</td>\n",
       "      <td>2000</td>\n",
       "    </tr>\n",
       "    <tr>\n",
       "      <th>(2000.882, 2001.824]</th>\n",
       "      <td>72.61146496815286</td>\n",
       "      <td>3.821656050955414</td>\n",
       "      <td>19.745222929936308</td>\n",
       "      <td>3.821656050955414</td>\n",
       "      <td>2001</td>\n",
       "    </tr>\n",
       "    <tr>\n",
       "      <th>(2001.824, 2002.765]</th>\n",
       "      <td>62.264150943396224</td>\n",
       "      <td>6.918238993710692</td>\n",
       "      <td>26.41509433962264</td>\n",
       "      <td>4.40251572327044</td>\n",
       "      <td>2002</td>\n",
       "    </tr>\n",
       "    <tr>\n",
       "      <th>(2002.765, 2003.706]</th>\n",
       "      <td>56.024096385542165</td>\n",
       "      <td>10.240963855421686</td>\n",
       "      <td>24.69879518072289</td>\n",
       "      <td>9.036144578313253</td>\n",
       "      <td>2003</td>\n",
       "    </tr>\n",
       "  </tbody>\n",
       "</table>\n",
       "</div>"
      ],
      "text/plain": [
       "Occupation            Acting, Comedy & Music  Government and Politics  \\\n",
       "Year                                                                    \n",
       "(1998.984, 1999.941]       90.36144578313254       1.2048192771084338   \n",
       "(1999.941, 2000.882]       73.96449704142012        8.284023668639055   \n",
       "(2000.882, 2001.824]       72.61146496815286        3.821656050955414   \n",
       "(2001.824, 2002.765]      62.264150943396224        6.918238993710692   \n",
       "(2002.765, 2003.706]      56.024096385542165       10.240963855421686   \n",
       "\n",
       "Occupation                        Media              Other  year  \n",
       "Year                                                              \n",
       "(1998.984, 1999.941]  6.626506024096386 1.8072289156626504  1999  \n",
       "(1999.941, 2000.882]  12.42603550295858  5.325443786982249  2000  \n",
       "(2000.882, 2001.824] 19.745222929936308  3.821656050955414  2001  \n",
       "(2001.824, 2002.765]  26.41509433962264   4.40251572327044  2002  \n",
       "(2002.765, 2003.706]  24.69879518072289  9.036144578313253  2003  "
      ]
     },
     "execution_count": 102,
     "metadata": {},
     "output_type": "execute_result"
    }
   ],
   "source": [
    "new_df.head()"
   ]
  },
  {
   "cell_type": "code",
   "execution_count": 106,
   "metadata": {},
   "outputs": [
    {
     "data": {
      "text/plain": [
       "pandas.core.series.Series"
      ]
     },
     "execution_count": 106,
     "metadata": {},
     "output_type": "execute_result"
    }
   ],
   "source": []
  },
  {
   "cell_type": "markdown",
   "metadata": {
    "colab_type": "text",
    "id": "Kiq56dZb92LY"
   },
   "source": [
    "### Part 2 — Recreate this explanatory visualization:"
   ]
  },
  {
   "cell_type": "code",
   "execution_count": 83,
   "metadata": {
    "colab": {
     "base_uri": "https://localhost:8080/",
     "height": 406
    },
    "colab_type": "code",
    "id": "HKLDMWwP98vz",
    "outputId": "0397fcdf-80e5-4072-88f4-af2f14fcf0f2"
   },
   "outputs": [
    {
     "data": {
      "image/png": "[encoded data removed]",
      "text/plain": [
       "<IPython.core.display.Image object>"
      ]
     },
     "metadata": {
      "image/png": {
       "width": 500
      }
     },
     "output_type": "display_data"
    }
   ],
   "source": [
    "from IPython.display import display, Image\n",
    "png = 'https://fivethirtyeight.com/wp-content/uploads/2015/08/hickey-datalab-dailyshow.png'\n",
    "example = Image(png, width=500)\n",
    "display(example)"
   ]
  },
  {
   "cell_type": "code",
   "execution_count": 89,
   "metadata": {},
   "outputs": [],
   "source": [
    "import seaborn as sns\n",
    "import matplotlib.pyplot as plt"
   ]
  },
  {
   "cell_type": "code",
   "execution_count": 158,
   "metadata": {},
   "outputs": [
    {
     "data": {
      "text/plain": [
       "<Figure size 1080x1080 with 0 Axes>"
      ]
     },
     "metadata": {},
     "output_type": "display_data"
    },
    {
     "data": {
      "image/png": "[encoded data removed]",
      "text/plain": [
       "<Figure size 432x288 with 1 Axes>"
      ]
     },
     "metadata": {
      "needs_background": "light"
     },
     "output_type": "display_data"
    }
   ],
   "source": [
    "%matplotlib inline\n",
    "#recreating the graph\n",
    "ax = plt.figure(figsize=(15,15))\n",
    "ax = new_df.plot(x='year', y='Acting, Comedy & Music', kind='line', color='blue')\n",
    "ax = new_df.plot(ax=ax, x='year', y='Government and Politics', kind='line', color='red')\n",
    "new_df.plot(ax=ax, x='year', y='Media', kind='line', color='purple')\n",
    "plt.legend()\n",
    "plt.xticks([2000, 2004, 2008, 2012])\n",
    "plt.grid()\n",
    "plt.xlabel('')\n",
    "plt.title(\"Who Got To Be On 'The Daily Show'?\", loc='left', pad=25.0, fontsize=15)\n",
    "plt.text(s=\"Occupation of guests, by year\", x=1999, y=100)\n",
    "plt.show();"
   ]
  },
  {
   "cell_type": "markdown",
   "metadata": {
    "colab_type": "text",
    "id": "TK5fDIag9-F6"
   },
   "source": [
    "**Hints:**\n",
    "- You can choose any Python visualization library you want. I've verified the plot can be reproduced with matplotlib, pandas plot, or seaborn. I assume other libraries like altair or plotly would work too.\n",
    "- If you choose to use seaborn, you may want to upgrade the version to 0.9.0.\n",
    "\n",
    "**Expectations:** Your plot should include:\n",
    "- 3 lines visualizing \"occupation of guests, by year.\" The shapes of the lines should look roughly identical to 538's example. Each line should be a different color. (But you don't need to use the _same_ colors as 538.)\n",
    "- Legend or labels for the lines. (But you don't need each label positioned next to its line or colored like 538.)\n",
    "- Title in the upper left: _\"Who Got To Be On 'The Daily Show'?\"_ with more visual emphasis than the subtitle. (Bolder and/or larger font.)\n",
    "- Subtitle underneath the title: _\"Occupation of guests, by year\"_\n",
    "\n",
    "**Optional Bonus Challenge:**\n",
    "- Give your plot polished aesthetics, with improved resemblance to the 538 example.\n",
    "- Any visual element not specifically mentioned in the expectations is an optional bonus."
   ]
  },
  {
   "cell_type": "code",
   "execution_count": 0,
   "metadata": {
    "colab": {},
    "colab_type": "code",
    "id": "CaB8MMV099Kh"
   },
   "outputs": [],
   "source": []
  }
 ],
 "metadata": {
  "colab": {
   "collapsed_sections": [],
   "name": "DS_Unit_1_Sprint_Challenge_2_Data_Wrangling_and_Storytelling.ipynb",
   "provenance": [],
   "version": "0.3.2"
  },
  "kernelspec": {
   "display_name": "Python 3",
   "language": "python",
   "name": "python3"
  },
  "language_info": {
   "codemirror_mode": {
    "name": "ipython",
    "version": 3
   },
   "file_extension": ".py",
   "mimetype": "text/x-python",
   "name": "python",
   "nbconvert_exporter": "python",
   "pygments_lexer": "ipython3",
   "version": "3.7.3"
  }
 },
 "nbformat": 4,
 "nbformat_minor": 1
}
