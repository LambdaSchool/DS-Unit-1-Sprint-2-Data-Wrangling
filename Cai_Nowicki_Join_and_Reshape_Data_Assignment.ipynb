{
  "nbformat": 4,
  "nbformat_minor": 0,
  "metadata": {
    "colab": {
      "name": "Cai Nowicki_Join_and_Reshape_Data_Assignment.ipynb",
      "provenance": [],
      "collapsed_sections": [],
      "toc_visible": true,
      "machine_shape": "hm",
      "include_colab_link": true
    },
    "kernelspec": {
      "display_name": "Python 3",
      "language": "python",
      "name": "python3"
    }
  },
  "cells": [
    {
      "cell_type": "markdown",
      "metadata": {
        "id": "view-in-github",
        "colab_type": "text"
      },
      "source": [
        "<a href=\"https://colab.research.google.com/github/dunkelweizen/DS-Unit-1-Sprint-2-Data-Wrangling-and-Storytelling/blob/master/Cai_Nowicki_Join_and_Reshape_Data_Assignment.ipynb\" target=\"_parent\"><img src=\"https://colab.research.google.com/assets/colab-badge.svg\" alt=\"Open In Colab\"/></a>"
      ]
    },
    {
      "cell_type": "markdown",
      "metadata": {
        "colab_type": "text",
        "id": "pmU5YUal1eTZ"
      },
      "source": [
        "_Lambda School Data Science_\n",
        "\n",
        "# Join and Reshape datasets\n",
        "\n",
        "Objectives\n",
        "- concatenate data with pandas\n",
        "- merge data with pandas\n",
        "-  understand tidy data formatting\n",
        "-  melt and pivot data with pandas\n",
        "\n",
        "Links\n",
        "- [Pandas Cheat Sheet](https://github.com/pandas-dev/pandas/blob/master/doc/cheatsheet/Pandas_Cheat_Sheet.pdf)\n",
        "- [Tidy Data](https://en.wikipedia.org/wiki/Tidy_data)\n",
        "  - Combine Data Sets: Standard Joins\n",
        "  - Tidy Data\n",
        "  - Reshaping Data\n",
        "- Python Data Science Handbook\n",
        "  - [Chapter 3.6](https://jakevdp.github.io/PythonDataScienceHandbook/03.06-concat-and-append.html), Combining Datasets: Concat and Append\n",
        "  - [Chapter 3.7](https://jakevdp.github.io/PythonDataScienceHandbook/03.07-merge-and-join.html), Combining Datasets: Merge and Join\n",
        "  - [Chapter 3.8](https://jakevdp.github.io/PythonDataScienceHandbook/03.08-aggregation-and-grouping.html), Aggregation and Grouping\n",
        "  - [Chapter 3.9](https://jakevdp.github.io/PythonDataScienceHandbook/03.09-pivot-tables.html), Pivot Tables\n",
        "  \n",
        "Reference\n",
        "- Pandas Documentation: [Reshaping and Pivot Tables](https://pandas.pydata.org/pandas-docs/stable/reshaping.html)\n",
        "- Modern Pandas, Part 5: [Tidy Data](https://tomaugspurger.github.io/modern-5-tidy.html)"
      ]
    },
    {
      "cell_type": "code",
      "metadata": {
        "id": "5MsWLLW4Xg_i",
        "colab_type": "code",
        "outputId": "8c333b45-389b-494a-cbe0-c7ee7830b7d7",
        "colab": {
          "base_uri": "https://localhost:8080/",
          "height": 204
        }
      },
      "source": [
        "!wget https://s3.amazonaws.com/instacart-datasets/instacart_online_grocery_shopping_2017_05_01.tar.gz"
      ],
      "execution_count": 1,
      "outputs": [
        {
          "output_type": "stream",
          "text": [
            "--2019-09-19 04:35:26--  https://s3.amazonaws.com/instacart-datasets/instacart_online_grocery_shopping_2017_05_01.tar.gz\n",
            "Resolving s3.amazonaws.com (s3.amazonaws.com)... 52.217.38.182\n",
            "Connecting to s3.amazonaws.com (s3.amazonaws.com)|52.217.38.182|:443... connected.\n",
            "HTTP request sent, awaiting response... 200 OK\n",
            "Length: 205548478 (196M) [application/x-gzip]\n",
            "Saving to: ‘instacart_online_grocery_shopping_2017_05_01.tar.gz.1’\n",
            "\n",
            "\r          instacart   0%[                    ]       0  --.-KB/s               \r         instacart_   2%[                    ]   4.27M  20.0MB/s               \r        instacart_o  13%[=>                  ]  27.43M  66.3MB/s               \r       instacart_on  24%[===>                ]  47.99M  78.0MB/s               \r      instacart_onl  36%[======>             ]  71.42M  87.6MB/s               \r     instacart_onli  44%[=======>            ]  86.80M  85.4MB/s               \r    instacart_onlin  55%[==========>         ] 107.96M  87.2MB/s               \r   instacart_online  65%[============>       ] 128.87M  89.5MB/s               \r  instacart_online_  77%[==============>     ] 152.06M  92.7MB/s               \r instacart_online_g  88%[================>   ] 173.07M  94.1MB/s               \rinstacart_online_gr  99%[==================> ] 194.40M  95.2MB/s               \rinstacart_online_gr 100%[===================>] 196.03M  95.6MB/s    in 2.1s    \n",
            "\n",
            "2019-09-19 04:35:28 (95.6 MB/s) - ‘instacart_online_grocery_shopping_2017_05_01.tar.gz.1’ saved [205548478/205548478]\n",
            "\n"
          ],
          "name": "stdout"
        }
      ]
    },
    {
      "cell_type": "code",
      "metadata": {
        "id": "gfr4_Ya0XkLI",
        "colab_type": "code",
        "outputId": "81d3893f-210b-430b-bd69-c6d4e2b6e535",
        "colab": {
          "base_uri": "https://localhost:8080/",
          "height": 238
        }
      },
      "source": [
        "!tar --gunzip --extract --verbose --file=instacart_online_grocery_shopping_2017_05_01.tar.gz"
      ],
      "execution_count": 2,
      "outputs": [
        {
          "output_type": "stream",
          "text": [
            "instacart_2017_05_01/\n",
            "instacart_2017_05_01/._aisles.csv\n",
            "instacart_2017_05_01/aisles.csv\n",
            "instacart_2017_05_01/._departments.csv\n",
            "instacart_2017_05_01/departments.csv\n",
            "instacart_2017_05_01/._order_products__prior.csv\n",
            "instacart_2017_05_01/order_products__prior.csv\n",
            "instacart_2017_05_01/._order_products__train.csv\n",
            "instacart_2017_05_01/order_products__train.csv\n",
            "instacart_2017_05_01/._orders.csv\n",
            "instacart_2017_05_01/orders.csv\n",
            "instacart_2017_05_01/._products.csv\n",
            "instacart_2017_05_01/products.csv\n"
          ],
          "name": "stdout"
        }
      ]
    },
    {
      "cell_type": "code",
      "metadata": {
        "id": "N4YyGPNdXrT0",
        "colab_type": "code",
        "outputId": "c4c71aa0-26b5-43b5-b86f-ae0bfdcd2511",
        "colab": {
          "base_uri": "https://localhost:8080/",
          "height": 34
        }
      },
      "source": [
        "%cd instacart_2017_05_01"
      ],
      "execution_count": 3,
      "outputs": [
        {
          "output_type": "stream",
          "text": [
            "/content/instacart_2017_05_01\n"
          ],
          "name": "stdout"
        }
      ]
    },
    {
      "cell_type": "code",
      "metadata": {
        "id": "b26wmLUiXtlM",
        "colab_type": "code",
        "outputId": "387f7cfc-2303-42d5-acce-188aed20d466",
        "colab": {
          "base_uri": "https://localhost:8080/",
          "height": 119
        }
      },
      "source": [
        "!ls -lh *.csv"
      ],
      "execution_count": 4,
      "outputs": [
        {
          "output_type": "stream",
          "text": [
            "-rw-r--r-- 1 502 staff 2.6K May  2  2017 aisles.csv\n",
            "-rw-r--r-- 1 502 staff  270 May  2  2017 departments.csv\n",
            "-rw-r--r-- 1 502 staff 551M May  2  2017 order_products__prior.csv\n",
            "-rw-r--r-- 1 502 staff  24M May  2  2017 order_products__train.csv\n",
            "-rw-r--r-- 1 502 staff 104M May  2  2017 orders.csv\n",
            "-rw-r--r-- 1 502 staff 2.1M May  2  2017 products.csv\n"
          ],
          "name": "stdout"
        }
      ]
    },
    {
      "cell_type": "markdown",
      "metadata": {
        "colab_type": "text",
        "id": "kAMtvSQWPUcj"
      },
      "source": [
        "# Assignment\n",
        "\n",
        "## Join Data Practice\n",
        "\n",
        "These are the top 10 most frequently ordered products. How many times was each ordered? \n",
        "\n",
        "1. Banana\n",
        "2. Bag of Organic Bananas\n",
        "3. Organic Strawberries\n",
        "4. Organic Baby Spinach \n",
        "5. Organic Hass Avocado\n",
        "6. Organic Avocado\n",
        "7. Large Lemon \n",
        "8. Strawberries\n",
        "9. Limes \n",
        "10. Organic Whole Milk\n",
        "\n",
        "First, write down which columns you need and which dataframes have them.\n",
        "\n",
        "Next, merge these into a single dataframe.\n",
        "\n",
        "Then, use pandas functions from the previous lesson to get the counts of the top 10 most frequently ordered products."
      ]
    },
    {
      "cell_type": "markdown",
      "metadata": {
        "id": "aAFDO0c0R7Xr",
        "colab_type": "text"
      },
      "source": [
        "I need \n",
        "- product_name\n",
        "- product_id\n",
        "- order_id\n",
        "\n",
        "I need to match product IDs and product names from the \"products\" dataframe, and look for how often those product IDs are ordered in the \"order_products__prior\" and \"order_products__train\" dataframes."
      ]
    },
    {
      "cell_type": "code",
      "metadata": {
        "id": "vvE0EVHgXMFO",
        "colab_type": "code",
        "colab": {}
      },
      "source": [
        "import pandas as pd"
      ],
      "execution_count": 0,
      "outputs": []
    },
    {
      "cell_type": "code",
      "metadata": {
        "id": "p44qfG9gb4Ka",
        "colab_type": "code",
        "colab": {
          "base_uri": "https://localhost:8080/",
          "height": 204
        },
        "outputId": "e56a8fea-be72-4eee-dfd0-90105e626105"
      },
      "source": [
        "products = pd.read_csv('products.csv')\n",
        "products.head()"
      ],
      "execution_count": 6,
      "outputs": [
        {
          "output_type": "execute_result",
          "data": {
            "text/html": [
              "<div>\n",
              "<style scoped>\n",
              "    .dataframe tbody tr th:only-of-type {\n",
              "        vertical-align: middle;\n",
              "    }\n",
              "\n",
              "    .dataframe tbody tr th {\n",
              "        vertical-align: top;\n",
              "    }\n",
              "\n",
              "    .dataframe thead th {\n",
              "        text-align: right;\n",
              "    }\n",
              "</style>\n",
              "<table border=\"1\" class=\"dataframe\">\n",
              "  <thead>\n",
              "    <tr style=\"text-align: right;\">\n",
              "      <th></th>\n",
              "      <th>product_id</th>\n",
              "      <th>product_name</th>\n",
              "      <th>aisle_id</th>\n",
              "      <th>department_id</th>\n",
              "    </tr>\n",
              "  </thead>\n",
              "  <tbody>\n",
              "    <tr>\n",
              "      <th>0</th>\n",
              "      <td>1</td>\n",
              "      <td>Chocolate Sandwich Cookies</td>\n",
              "      <td>61</td>\n",
              "      <td>19</td>\n",
              "    </tr>\n",
              "    <tr>\n",
              "      <th>1</th>\n",
              "      <td>2</td>\n",
              "      <td>All-Seasons Salt</td>\n",
              "      <td>104</td>\n",
              "      <td>13</td>\n",
              "    </tr>\n",
              "    <tr>\n",
              "      <th>2</th>\n",
              "      <td>3</td>\n",
              "      <td>Robust Golden Unsweetened Oolong Tea</td>\n",
              "      <td>94</td>\n",
              "      <td>7</td>\n",
              "    </tr>\n",
              "    <tr>\n",
              "      <th>3</th>\n",
              "      <td>4</td>\n",
              "      <td>Smart Ones Classic Favorites Mini Rigatoni Wit...</td>\n",
              "      <td>38</td>\n",
              "      <td>1</td>\n",
              "    </tr>\n",
              "    <tr>\n",
              "      <th>4</th>\n",
              "      <td>5</td>\n",
              "      <td>Green Chile Anytime Sauce</td>\n",
              "      <td>5</td>\n",
              "      <td>13</td>\n",
              "    </tr>\n",
              "  </tbody>\n",
              "</table>\n",
              "</div>"
            ],
            "text/plain": [
              "   product_id  ... department_id\n",
              "0           1  ...            19\n",
              "1           2  ...            13\n",
              "2           3  ...             7\n",
              "3           4  ...             1\n",
              "4           5  ...            13\n",
              "\n",
              "[5 rows x 4 columns]"
            ]
          },
          "metadata": {
            "tags": []
          },
          "execution_count": 6
        }
      ]
    },
    {
      "cell_type": "code",
      "metadata": {
        "id": "hMBrqebAb-C8",
        "colab_type": "code",
        "colab": {
          "base_uri": "https://localhost:8080/",
          "height": 204
        },
        "outputId": "fdbac666-f8d1-4a8a-b602-dff4e7ccda9e"
      },
      "source": [
        "order_products = ( pd.concat(\n",
        "                  [pd.read_csv('order_products__prior.csv'),\n",
        "                  pd.read_csv('order_products__train.csv')])\n",
        "                 )\n",
        "order_products.head()"
      ],
      "execution_count": 7,
      "outputs": [
        {
          "output_type": "execute_result",
          "data": {
            "text/html": [
              "<div>\n",
              "<style scoped>\n",
              "    .dataframe tbody tr th:only-of-type {\n",
              "        vertical-align: middle;\n",
              "    }\n",
              "\n",
              "    .dataframe tbody tr th {\n",
              "        vertical-align: top;\n",
              "    }\n",
              "\n",
              "    .dataframe thead th {\n",
              "        text-align: right;\n",
              "    }\n",
              "</style>\n",
              "<table border=\"1\" class=\"dataframe\">\n",
              "  <thead>\n",
              "    <tr style=\"text-align: right;\">\n",
              "      <th></th>\n",
              "      <th>order_id</th>\n",
              "      <th>product_id</th>\n",
              "      <th>add_to_cart_order</th>\n",
              "      <th>reordered</th>\n",
              "    </tr>\n",
              "  </thead>\n",
              "  <tbody>\n",
              "    <tr>\n",
              "      <th>0</th>\n",
              "      <td>2</td>\n",
              "      <td>33120</td>\n",
              "      <td>1</td>\n",
              "      <td>1</td>\n",
              "    </tr>\n",
              "    <tr>\n",
              "      <th>1</th>\n",
              "      <td>2</td>\n",
              "      <td>28985</td>\n",
              "      <td>2</td>\n",
              "      <td>1</td>\n",
              "    </tr>\n",
              "    <tr>\n",
              "      <th>2</th>\n",
              "      <td>2</td>\n",
              "      <td>9327</td>\n",
              "      <td>3</td>\n",
              "      <td>0</td>\n",
              "    </tr>\n",
              "    <tr>\n",
              "      <th>3</th>\n",
              "      <td>2</td>\n",
              "      <td>45918</td>\n",
              "      <td>4</td>\n",
              "      <td>1</td>\n",
              "    </tr>\n",
              "    <tr>\n",
              "      <th>4</th>\n",
              "      <td>2</td>\n",
              "      <td>30035</td>\n",
              "      <td>5</td>\n",
              "      <td>0</td>\n",
              "    </tr>\n",
              "  </tbody>\n",
              "</table>\n",
              "</div>"
            ],
            "text/plain": [
              "   order_id  product_id  add_to_cart_order  reordered\n",
              "0         2       33120                  1          1\n",
              "1         2       28985                  2          1\n",
              "2         2        9327                  3          0\n",
              "3         2       45918                  4          1\n",
              "4         2       30035                  5          0"
            ]
          },
          "metadata": {
            "tags": []
          },
          "execution_count": 7
        }
      ]
    },
    {
      "cell_type": "code",
      "metadata": {
        "id": "LrebFaHVcrFu",
        "colab_type": "code",
        "colab": {}
      },
      "source": [
        "merged = ( pd.merge(\n",
        "    products[['product_id', 'product_name']], \n",
        "    order_products[['order_id', 'product_id']])\n",
        "         )"
      ],
      "execution_count": 0,
      "outputs": []
    },
    {
      "cell_type": "code",
      "metadata": {
        "id": "wNMisvlJdOqH",
        "colab_type": "code",
        "colab": {
          "base_uri": "https://localhost:8080/",
          "height": 359
        },
        "outputId": "b169d043-0893-46f1-83ab-13147efd40a3"
      },
      "source": [
        "merged.sample(10)"
      ],
      "execution_count": 9,
      "outputs": [
        {
          "output_type": "execute_result",
          "data": {
            "text/html": [
              "<div>\n",
              "<style scoped>\n",
              "    .dataframe tbody tr th:only-of-type {\n",
              "        vertical-align: middle;\n",
              "    }\n",
              "\n",
              "    .dataframe tbody tr th {\n",
              "        vertical-align: top;\n",
              "    }\n",
              "\n",
              "    .dataframe thead th {\n",
              "        text-align: right;\n",
              "    }\n",
              "</style>\n",
              "<table border=\"1\" class=\"dataframe\">\n",
              "  <thead>\n",
              "    <tr style=\"text-align: right;\">\n",
              "      <th></th>\n",
              "      <th>product_id</th>\n",
              "      <th>product_name</th>\n",
              "      <th>order_id</th>\n",
              "    </tr>\n",
              "  </thead>\n",
              "  <tbody>\n",
              "    <tr>\n",
              "      <th>17933748</th>\n",
              "      <td>26660</td>\n",
              "      <td>California Champagne Extra Dry</td>\n",
              "      <td>1220914</td>\n",
              "    </tr>\n",
              "    <tr>\n",
              "      <th>27520281</th>\n",
              "      <td>41063</td>\n",
              "      <td>Chia Protein Bar Dark Chocolate Coconut Sea Salt</td>\n",
              "      <td>121551</td>\n",
              "    </tr>\n",
              "    <tr>\n",
              "      <th>2064556</th>\n",
              "      <td>4086</td>\n",
              "      <td>Mint</td>\n",
              "      <td>3001390</td>\n",
              "    </tr>\n",
              "    <tr>\n",
              "      <th>30318214</th>\n",
              "      <td>45007</td>\n",
              "      <td>Organic Zucchini</td>\n",
              "      <td>2794442</td>\n",
              "    </tr>\n",
              "    <tr>\n",
              "      <th>31158972</th>\n",
              "      <td>46535</td>\n",
              "      <td>Cacao Almond Milk</td>\n",
              "      <td>2227331</td>\n",
              "    </tr>\n",
              "    <tr>\n",
              "      <th>6857670</th>\n",
              "      <td>11359</td>\n",
              "      <td>Sensational Strawberry Cheese Danish</td>\n",
              "      <td>3328643</td>\n",
              "    </tr>\n",
              "    <tr>\n",
              "      <th>16669201</th>\n",
              "      <td>24964</td>\n",
              "      <td>Organic Garlic</td>\n",
              "      <td>445551</td>\n",
              "    </tr>\n",
              "    <tr>\n",
              "      <th>32872559</th>\n",
              "      <td>48205</td>\n",
              "      <td>Spinach</td>\n",
              "      <td>2493575</td>\n",
              "    </tr>\n",
              "    <tr>\n",
              "      <th>10492931</th>\n",
              "      <td>16974</td>\n",
              "      <td>Sea Salt Brown Rice Crackers</td>\n",
              "      <td>695864</td>\n",
              "    </tr>\n",
              "    <tr>\n",
              "      <th>15558633</th>\n",
              "      <td>23909</td>\n",
              "      <td>2% Reduced Fat Milk</td>\n",
              "      <td>3061503</td>\n",
              "    </tr>\n",
              "  </tbody>\n",
              "</table>\n",
              "</div>"
            ],
            "text/plain": [
              "          product_id  ... order_id\n",
              "17933748       26660  ...  1220914\n",
              "27520281       41063  ...   121551\n",
              "2064556         4086  ...  3001390\n",
              "30318214       45007  ...  2794442\n",
              "31158972       46535  ...  2227331\n",
              "6857670        11359  ...  3328643\n",
              "16669201       24964  ...   445551\n",
              "32872559       48205  ...  2493575\n",
              "10492931       16974  ...   695864\n",
              "15558633       23909  ...  3061503\n",
              "\n",
              "[10 rows x 3 columns]"
            ]
          },
          "metadata": {
            "tags": []
          },
          "execution_count": 9
        }
      ]
    },
    {
      "cell_type": "markdown",
      "metadata": {
        "id": "cDwpp2pedqfs",
        "colab_type": "text"
      },
      "source": [
        "Now I need a subset of orders containing just my top ten most popular ordered foods. \n",
        "1. Banana\n",
        "2. Bag of Organic Bananas\n",
        "3. Organic Strawberries\n",
        "4. Organic Baby Spinach \n",
        "5. Organic Hass Avocado\n",
        "6. Organic Avocado\n",
        "7. Large Lemon \n",
        "8. Strawberries\n",
        "9. Limes \n",
        "10. Organic Whole Milk"
      ]
    },
    {
      "cell_type": "code",
      "metadata": {
        "id": "5BCdFHE2d7F9",
        "colab_type": "code",
        "colab": {}
      },
      "source": [
        "top10 = ['Banana', 'Bag of Organic Bananas', 'Organic Strawberries', \n",
        "         'Organic Baby Spinach', 'Organic Hass Avocado', 'Organic Avocado',\n",
        "         'Large Lemon', 'Strawberries', 'Limes', 'Organic Whole Milk']\n",
        "condition = merged['product_name'].isin(top10)\n",
        "subset = merged[condition]"
      ],
      "execution_count": 0,
      "outputs": []
    },
    {
      "cell_type": "code",
      "metadata": {
        "id": "kk8t_MDwfRwE",
        "colab_type": "code",
        "colab": {
          "base_uri": "https://localhost:8080/",
          "height": 34
        },
        "outputId": "b4ebbc4e-d4c4-4f52-abab-11a012d8d21e"
      },
      "source": [
        "subset.shape"
      ],
      "execution_count": 11,
      "outputs": [
        {
          "output_type": "execute_result",
          "data": {
            "text/plain": [
              "(2418314, 3)"
            ]
          },
          "metadata": {
            "tags": []
          },
          "execution_count": 11
        }
      ]
    },
    {
      "cell_type": "code",
      "metadata": {
        "id": "slUGVzMDfV28",
        "colab_type": "code",
        "colab": {
          "base_uri": "https://localhost:8080/",
          "height": 34
        },
        "outputId": "c57192d3-45b5-42f5-e843-17716ac45603"
      },
      "source": [
        "merged.shape\n",
        "\n",
        "#Good, subset should be smaller"
      ],
      "execution_count": 12,
      "outputs": [
        {
          "output_type": "execute_result",
          "data": {
            "text/plain": [
              "(33819106, 3)"
            ]
          },
          "metadata": {
            "tags": []
          },
          "execution_count": 12
        }
      ]
    },
    {
      "cell_type": "code",
      "metadata": {
        "id": "Zb8QbWg3fZzn",
        "colab_type": "code",
        "colab": {}
      },
      "source": [
        "def how_many(name):\n",
        "  name = [name]\n",
        "  condition = subset['product_name'].isin(name) == True\n",
        "  counted_set = subset[condition]\n",
        "  count = len(counted_set)\n",
        "  name = name[0]\n",
        "  return print(name, 'was ordered', count, 'times.', '\\n')"
      ],
      "execution_count": 0,
      "outputs": []
    },
    {
      "cell_type": "code",
      "metadata": {
        "id": "aBbj97ZSf8yl",
        "colab_type": "code",
        "colab": {
          "base_uri": "https://localhost:8080/",
          "height": 527
        },
        "outputId": "5c5e713b-7c13-4c71-accb-582b3ec428f5"
      },
      "source": [
        "print('Banana')\n",
        "how_many('Banana')\n",
        "print('Bag of Organic Bananas')\n",
        "how_many('Bag of Organic Bananas')\n",
        "print('Organic Strawberries')\n",
        "how_many('Organic Strawberries')\n",
        "print('Organic Baby Spinach')\n",
        "how_many('Organic Baby Spinach')\n",
        "print('Organic Hass Avocado')\n",
        "how_many('Organic Hass Avocado')\n",
        "print('Organic Avocado')\n",
        "how_many('Organic Avocado')\n",
        "print('Large Lemon')\n",
        "how_many('Large Lemon')\n",
        "print('Strawberries')\n",
        "how_many('Strawberries')\n",
        "print('Limes')\n",
        "how_many('Limes')\n",
        "print('Organic Whole Milk')\n",
        "how_many('Organic Whole Milk')"
      ],
      "execution_count": 14,
      "outputs": [
        {
          "output_type": "stream",
          "text": [
            "Banana\n",
            "Banana was ordered 491291 times. \n",
            "\n",
            "Bag of Organic Bananas\n",
            "Bag of Organic Bananas was ordered 394930 times. \n",
            "\n",
            "Organic Strawberries\n",
            "Organic Strawberries was ordered 275577 times. \n",
            "\n",
            "Organic Baby Spinach\n",
            "Organic Baby Spinach was ordered 251705 times. \n",
            "\n",
            "Organic Hass Avocado\n",
            "Organic Hass Avocado was ordered 220877 times. \n",
            "\n",
            "Organic Avocado\n",
            "Organic Avocado was ordered 184224 times. \n",
            "\n",
            "Large Lemon\n",
            "Large Lemon was ordered 160792 times. \n",
            "\n",
            "Strawberries\n",
            "Strawberries was ordered 149445 times. \n",
            "\n",
            "Limes\n",
            "Limes was ordered 146660 times. \n",
            "\n",
            "Organic Whole Milk\n",
            "Organic Whole Milk was ordered 142813 times. \n",
            "\n"
          ],
          "name": "stdout"
        }
      ]
    },
    {
      "cell_type": "markdown",
      "metadata": {
        "id": "RsiWi4DuXPLP",
        "colab_type": "text"
      },
      "source": [
        "## Reshape Data Section\n",
        "\n",
        "- Replicate the lesson code\n",
        "- Complete the code cells we skipped near the beginning of the notebook\n",
        "- Table 2 --> Tidy\n",
        "- Tidy --> Table 2\n",
        "- Load seaborn's `flights` dataset by running the cell below. Then create a pivot table showing the number of passengers by month and year. Use year for the index and month for the columns. You've done it right if you get 112 passengers for January 1949 and 432 passengers for December 1960."
      ]
    },
    {
      "cell_type": "markdown",
      "metadata": {
        "id": "Oznz-NiunNQv",
        "colab_type": "text"
      },
      "source": [
        "### Replicate Lesson Code"
      ]
    },
    {
      "cell_type": "code",
      "metadata": {
        "id": "0EhB7pyIjO7Q",
        "colab_type": "code",
        "colab": {
          "base_uri": "https://localhost:8080/",
          "height": 51
        },
        "outputId": "74d62bf7-f3c4-4359-910d-9c62fb49d773"
      },
      "source": [
        "import urllib.request\n",
        "url = 'https://s3.amazonaws.com/instacart-datasets/instacart_online_grocery_shopping_2017_05_01.tar.gz'\n",
        "file_name = 'instacart_online_grocery_shopping_2017_05_01.tar.gz'\n",
        "urllib.request.urlretrieve(url, file_name)"
      ],
      "execution_count": 15,
      "outputs": [
        {
          "output_type": "execute_result",
          "data": {
            "text/plain": [
              "('instacart_online_grocery_shopping_2017_05_01.tar.gz',\n",
              " <http.client.HTTPMessage at 0x7f1a040e27f0>)"
            ]
          },
          "metadata": {
            "tags": []
          },
          "execution_count": 15
        }
      ]
    },
    {
      "cell_type": "code",
      "metadata": {
        "id": "THGumjZJlUxM",
        "colab_type": "code",
        "colab": {}
      },
      "source": [
        "import tarfile\n",
        "tar = tarfile.open(file_name, 'r:gz')\n",
        "tar.extractall()\n",
        "tar.close()"
      ],
      "execution_count": 0,
      "outputs": []
    },
    {
      "cell_type": "code",
      "metadata": {
        "id": "YgSKJcTOljM0",
        "colab_type": "code",
        "colab": {
          "base_uri": "https://localhost:8080/",
          "height": 34
        },
        "outputId": "b2ea14ee-99b0-4409-8660-75b62d2e5d09"
      },
      "source": [
        "import os\n",
        "print(os.getcwd())"
      ],
      "execution_count": 17,
      "outputs": [
        {
          "output_type": "stream",
          "text": [
            "/content/instacart_2017_05_01\n"
          ],
          "name": "stdout"
        }
      ]
    },
    {
      "cell_type": "code",
      "metadata": {
        "id": "BfDVM9XalsA4",
        "colab_type": "code",
        "colab": {
          "base_uri": "https://localhost:8080/",
          "height": 119
        },
        "outputId": "1de10abd-e7fa-479b-a45c-42a71fbcffa9"
      },
      "source": [
        "import glob\n",
        "glob.glob('/content/instacart_2017_05_01/*.csv')"
      ],
      "execution_count": 18,
      "outputs": [
        {
          "output_type": "execute_result",
          "data": {
            "text/plain": [
              "['/content/instacart_2017_05_01/products.csv',\n",
              " '/content/instacart_2017_05_01/order_products__train.csv',\n",
              " '/content/instacart_2017_05_01/departments.csv',\n",
              " '/content/instacart_2017_05_01/orders.csv',\n",
              " '/content/instacart_2017_05_01/aisles.csv',\n",
              " '/content/instacart_2017_05_01/order_products__prior.csv']"
            ]
          },
          "metadata": {
            "tags": []
          },
          "execution_count": 18
        }
      ]
    },
    {
      "cell_type": "code",
      "metadata": {
        "id": "uPHzI7hll0v6",
        "colab_type": "code",
        "colab": {}
      },
      "source": [
        "from IPython.display import display, Image"
      ],
      "execution_count": 0,
      "outputs": []
    },
    {
      "cell_type": "code",
      "metadata": {
        "id": "1iLZG4SCl45G",
        "colab_type": "code",
        "colab": {
          "base_uri": "https://localhost:8080/",
          "height": 312
        },
        "outputId": "9a43e040-14bc-4b8a-8098-406ca103b883"
      },
      "source": [
        "url = url = 'https://cdn-images-1.medium.com/max/1600/1*vYGFQCafJtGBBX5mbl0xyw.png'\n",
        "example = Image(url=url, width=600)\n",
        "\n",
        "display(example)"
      ],
      "execution_count": 20,
      "outputs": [
        {
          "output_type": "display_data",
          "data": {
            "text/html": [
              "<img src=\"https://cdn-images-1.medium.com/max/1600/1*vYGFQCafJtGBBX5mbl0xyw.png\" width=\"600\"/>"
            ],
            "text/plain": [
              "<IPython.core.display.Image object>"
            ]
          },
          "metadata": {
            "tags": []
          }
        }
      ]
    },
    {
      "cell_type": "code",
      "metadata": {
        "id": "ARnWh_5ynFqu",
        "colab_type": "code",
        "colab": {}
      },
      "source": [
        "import pandas as pd"
      ],
      "execution_count": 0,
      "outputs": []
    },
    {
      "cell_type": "code",
      "metadata": {
        "id": "dbhqOkRpnKVB",
        "colab_type": "code",
        "colab": {
          "base_uri": "https://localhost:8080/",
          "height": 204
        },
        "outputId": "f963d186-5d43-483c-ae98-e75d6373d1b9"
      },
      "source": [
        "aisles = pd.read_csv('aisles.csv')\n",
        "aisles.head()"
      ],
      "execution_count": 22,
      "outputs": [
        {
          "output_type": "execute_result",
          "data": {
            "text/html": [
              "<div>\n",
              "<style scoped>\n",
              "    .dataframe tbody tr th:only-of-type {\n",
              "        vertical-align: middle;\n",
              "    }\n",
              "\n",
              "    .dataframe tbody tr th {\n",
              "        vertical-align: top;\n",
              "    }\n",
              "\n",
              "    .dataframe thead th {\n",
              "        text-align: right;\n",
              "    }\n",
              "</style>\n",
              "<table border=\"1\" class=\"dataframe\">\n",
              "  <thead>\n",
              "    <tr style=\"text-align: right;\">\n",
              "      <th></th>\n",
              "      <th>aisle_id</th>\n",
              "      <th>aisle</th>\n",
              "    </tr>\n",
              "  </thead>\n",
              "  <tbody>\n",
              "    <tr>\n",
              "      <th>0</th>\n",
              "      <td>1</td>\n",
              "      <td>prepared soups salads</td>\n",
              "    </tr>\n",
              "    <tr>\n",
              "      <th>1</th>\n",
              "      <td>2</td>\n",
              "      <td>specialty cheeses</td>\n",
              "    </tr>\n",
              "    <tr>\n",
              "      <th>2</th>\n",
              "      <td>3</td>\n",
              "      <td>energy granola bars</td>\n",
              "    </tr>\n",
              "    <tr>\n",
              "      <th>3</th>\n",
              "      <td>4</td>\n",
              "      <td>instant foods</td>\n",
              "    </tr>\n",
              "    <tr>\n",
              "      <th>4</th>\n",
              "      <td>5</td>\n",
              "      <td>marinades meat preparation</td>\n",
              "    </tr>\n",
              "  </tbody>\n",
              "</table>\n",
              "</div>"
            ],
            "text/plain": [
              "   aisle_id                       aisle\n",
              "0         1       prepared soups salads\n",
              "1         2           specialty cheeses\n",
              "2         3         energy granola bars\n",
              "3         4               instant foods\n",
              "4         5  marinades meat preparation"
            ]
          },
          "metadata": {
            "tags": []
          },
          "execution_count": 22
        }
      ]
    },
    {
      "cell_type": "code",
      "metadata": {
        "id": "DXrJTapyniCi",
        "colab_type": "code",
        "colab": {
          "base_uri": "https://localhost:8080/",
          "height": 204
        },
        "outputId": "931e32ea-7860-46cc-85b4-038345df2e6c"
      },
      "source": [
        "departments = pd.read_csv('departments.csv')\n",
        "departments.head()"
      ],
      "execution_count": 23,
      "outputs": [
        {
          "output_type": "execute_result",
          "data": {
            "text/html": [
              "<div>\n",
              "<style scoped>\n",
              "    .dataframe tbody tr th:only-of-type {\n",
              "        vertical-align: middle;\n",
              "    }\n",
              "\n",
              "    .dataframe tbody tr th {\n",
              "        vertical-align: top;\n",
              "    }\n",
              "\n",
              "    .dataframe thead th {\n",
              "        text-align: right;\n",
              "    }\n",
              "</style>\n",
              "<table border=\"1\" class=\"dataframe\">\n",
              "  <thead>\n",
              "    <tr style=\"text-align: right;\">\n",
              "      <th></th>\n",
              "      <th>department_id</th>\n",
              "      <th>department</th>\n",
              "    </tr>\n",
              "  </thead>\n",
              "  <tbody>\n",
              "    <tr>\n",
              "      <th>0</th>\n",
              "      <td>1</td>\n",
              "      <td>frozen</td>\n",
              "    </tr>\n",
              "    <tr>\n",
              "      <th>1</th>\n",
              "      <td>2</td>\n",
              "      <td>other</td>\n",
              "    </tr>\n",
              "    <tr>\n",
              "      <th>2</th>\n",
              "      <td>3</td>\n",
              "      <td>bakery</td>\n",
              "    </tr>\n",
              "    <tr>\n",
              "      <th>3</th>\n",
              "      <td>4</td>\n",
              "      <td>produce</td>\n",
              "    </tr>\n",
              "    <tr>\n",
              "      <th>4</th>\n",
              "      <td>5</td>\n",
              "      <td>alcohol</td>\n",
              "    </tr>\n",
              "  </tbody>\n",
              "</table>\n",
              "</div>"
            ],
            "text/plain": [
              "   department_id department\n",
              "0              1     frozen\n",
              "1              2      other\n",
              "2              3     bakery\n",
              "3              4    produce\n",
              "4              5    alcohol"
            ]
          },
          "metadata": {
            "tags": []
          },
          "execution_count": 23
        }
      ]
    },
    {
      "cell_type": "code",
      "metadata": {
        "id": "K-mOdArFr0aB",
        "colab_type": "code",
        "colab": {
          "base_uri": "https://localhost:8080/",
          "height": 204
        },
        "outputId": "263b3282-fd15-4a2b-f964-5517cf540a0a"
      },
      "source": [
        "order_products__prior = pd.read_csv('order_products__prior.csv')\n",
        "order_products__prior.head()"
      ],
      "execution_count": 24,
      "outputs": [
        {
          "output_type": "execute_result",
          "data": {
            "text/html": [
              "<div>\n",
              "<style scoped>\n",
              "    .dataframe tbody tr th:only-of-type {\n",
              "        vertical-align: middle;\n",
              "    }\n",
              "\n",
              "    .dataframe tbody tr th {\n",
              "        vertical-align: top;\n",
              "    }\n",
              "\n",
              "    .dataframe thead th {\n",
              "        text-align: right;\n",
              "    }\n",
              "</style>\n",
              "<table border=\"1\" class=\"dataframe\">\n",
              "  <thead>\n",
              "    <tr style=\"text-align: right;\">\n",
              "      <th></th>\n",
              "      <th>order_id</th>\n",
              "      <th>product_id</th>\n",
              "      <th>add_to_cart_order</th>\n",
              "      <th>reordered</th>\n",
              "    </tr>\n",
              "  </thead>\n",
              "  <tbody>\n",
              "    <tr>\n",
              "      <th>0</th>\n",
              "      <td>2</td>\n",
              "      <td>33120</td>\n",
              "      <td>1</td>\n",
              "      <td>1</td>\n",
              "    </tr>\n",
              "    <tr>\n",
              "      <th>1</th>\n",
              "      <td>2</td>\n",
              "      <td>28985</td>\n",
              "      <td>2</td>\n",
              "      <td>1</td>\n",
              "    </tr>\n",
              "    <tr>\n",
              "      <th>2</th>\n",
              "      <td>2</td>\n",
              "      <td>9327</td>\n",
              "      <td>3</td>\n",
              "      <td>0</td>\n",
              "    </tr>\n",
              "    <tr>\n",
              "      <th>3</th>\n",
              "      <td>2</td>\n",
              "      <td>45918</td>\n",
              "      <td>4</td>\n",
              "      <td>1</td>\n",
              "    </tr>\n",
              "    <tr>\n",
              "      <th>4</th>\n",
              "      <td>2</td>\n",
              "      <td>30035</td>\n",
              "      <td>5</td>\n",
              "      <td>0</td>\n",
              "    </tr>\n",
              "  </tbody>\n",
              "</table>\n",
              "</div>"
            ],
            "text/plain": [
              "   order_id  product_id  add_to_cart_order  reordered\n",
              "0         2       33120                  1          1\n",
              "1         2       28985                  2          1\n",
              "2         2        9327                  3          0\n",
              "3         2       45918                  4          1\n",
              "4         2       30035                  5          0"
            ]
          },
          "metadata": {
            "tags": []
          },
          "execution_count": 24
        }
      ]
    },
    {
      "cell_type": "code",
      "metadata": {
        "id": "ebCCDNUPuI3n",
        "colab_type": "code",
        "colab": {
          "base_uri": "https://localhost:8080/",
          "height": 204
        },
        "outputId": "01bcd26c-974f-4f90-b9b1-9740274d4162"
      },
      "source": [
        "order_products__train = pd.read_csv('order_products__train.csv')\n",
        "order_products__train.head()"
      ],
      "execution_count": 25,
      "outputs": [
        {
          "output_type": "execute_result",
          "data": {
            "text/html": [
              "<div>\n",
              "<style scoped>\n",
              "    .dataframe tbody tr th:only-of-type {\n",
              "        vertical-align: middle;\n",
              "    }\n",
              "\n",
              "    .dataframe tbody tr th {\n",
              "        vertical-align: top;\n",
              "    }\n",
              "\n",
              "    .dataframe thead th {\n",
              "        text-align: right;\n",
              "    }\n",
              "</style>\n",
              "<table border=\"1\" class=\"dataframe\">\n",
              "  <thead>\n",
              "    <tr style=\"text-align: right;\">\n",
              "      <th></th>\n",
              "      <th>order_id</th>\n",
              "      <th>product_id</th>\n",
              "      <th>add_to_cart_order</th>\n",
              "      <th>reordered</th>\n",
              "    </tr>\n",
              "  </thead>\n",
              "  <tbody>\n",
              "    <tr>\n",
              "      <th>0</th>\n",
              "      <td>1</td>\n",
              "      <td>49302</td>\n",
              "      <td>1</td>\n",
              "      <td>1</td>\n",
              "    </tr>\n",
              "    <tr>\n",
              "      <th>1</th>\n",
              "      <td>1</td>\n",
              "      <td>11109</td>\n",
              "      <td>2</td>\n",
              "      <td>1</td>\n",
              "    </tr>\n",
              "    <tr>\n",
              "      <th>2</th>\n",
              "      <td>1</td>\n",
              "      <td>10246</td>\n",
              "      <td>3</td>\n",
              "      <td>0</td>\n",
              "    </tr>\n",
              "    <tr>\n",
              "      <th>3</th>\n",
              "      <td>1</td>\n",
              "      <td>49683</td>\n",
              "      <td>4</td>\n",
              "      <td>0</td>\n",
              "    </tr>\n",
              "    <tr>\n",
              "      <th>4</th>\n",
              "      <td>1</td>\n",
              "      <td>43633</td>\n",
              "      <td>5</td>\n",
              "      <td>1</td>\n",
              "    </tr>\n",
              "  </tbody>\n",
              "</table>\n",
              "</div>"
            ],
            "text/plain": [
              "   order_id  product_id  add_to_cart_order  reordered\n",
              "0         1       49302                  1          1\n",
              "1         1       11109                  2          1\n",
              "2         1       10246                  3          0\n",
              "3         1       49683                  4          0\n",
              "4         1       43633                  5          1"
            ]
          },
          "metadata": {
            "tags": []
          },
          "execution_count": 25
        }
      ]
    },
    {
      "cell_type": "code",
      "metadata": {
        "id": "gd6YYuPHuV97",
        "colab_type": "code",
        "colab": {}
      },
      "source": [
        "orders = pd.read_csv('orders.csv')"
      ],
      "execution_count": 0,
      "outputs": []
    },
    {
      "cell_type": "code",
      "metadata": {
        "id": "TE3rqBjsuZmG",
        "colab_type": "code",
        "colab": {}
      },
      "source": [
        "products = pd.read_csv('products.csv')"
      ],
      "execution_count": 0,
      "outputs": []
    },
    {
      "cell_type": "code",
      "metadata": {
        "id": "luLs8LUNuZjB",
        "colab_type": "code",
        "colab": {}
      },
      "source": [
        "order_products = pd.concat([order_products__prior, order_products__train])"
      ],
      "execution_count": 0,
      "outputs": []
    },
    {
      "cell_type": "code",
      "metadata": {
        "id": "4OG83CLHDV0A",
        "colab_type": "code",
        "colab": {
          "base_uri": "https://localhost:8080/",
          "height": 204
        },
        "outputId": "0a3504e5-c408-4f3b-8949-d1efc4294738"
      },
      "source": [
        "order_products.head()"
      ],
      "execution_count": 29,
      "outputs": [
        {
          "output_type": "execute_result",
          "data": {
            "text/html": [
              "<div>\n",
              "<style scoped>\n",
              "    .dataframe tbody tr th:only-of-type {\n",
              "        vertical-align: middle;\n",
              "    }\n",
              "\n",
              "    .dataframe tbody tr th {\n",
              "        vertical-align: top;\n",
              "    }\n",
              "\n",
              "    .dataframe thead th {\n",
              "        text-align: right;\n",
              "    }\n",
              "</style>\n",
              "<table border=\"1\" class=\"dataframe\">\n",
              "  <thead>\n",
              "    <tr style=\"text-align: right;\">\n",
              "      <th></th>\n",
              "      <th>order_id</th>\n",
              "      <th>product_id</th>\n",
              "      <th>add_to_cart_order</th>\n",
              "      <th>reordered</th>\n",
              "    </tr>\n",
              "  </thead>\n",
              "  <tbody>\n",
              "    <tr>\n",
              "      <th>0</th>\n",
              "      <td>2</td>\n",
              "      <td>33120</td>\n",
              "      <td>1</td>\n",
              "      <td>1</td>\n",
              "    </tr>\n",
              "    <tr>\n",
              "      <th>1</th>\n",
              "      <td>2</td>\n",
              "      <td>28985</td>\n",
              "      <td>2</td>\n",
              "      <td>1</td>\n",
              "    </tr>\n",
              "    <tr>\n",
              "      <th>2</th>\n",
              "      <td>2</td>\n",
              "      <td>9327</td>\n",
              "      <td>3</td>\n",
              "      <td>0</td>\n",
              "    </tr>\n",
              "    <tr>\n",
              "      <th>3</th>\n",
              "      <td>2</td>\n",
              "      <td>45918</td>\n",
              "      <td>4</td>\n",
              "      <td>1</td>\n",
              "    </tr>\n",
              "    <tr>\n",
              "      <th>4</th>\n",
              "      <td>2</td>\n",
              "      <td>30035</td>\n",
              "      <td>5</td>\n",
              "      <td>0</td>\n",
              "    </tr>\n",
              "  </tbody>\n",
              "</table>\n",
              "</div>"
            ],
            "text/plain": [
              "   order_id  product_id  add_to_cart_order  reordered\n",
              "0         2       33120                  1          1\n",
              "1         2       28985                  2          1\n",
              "2         2        9327                  3          0\n",
              "3         2       45918                  4          1\n",
              "4         2       30035                  5          0"
            ]
          },
          "metadata": {
            "tags": []
          },
          "execution_count": 29
        }
      ]
    },
    {
      "cell_type": "code",
      "metadata": {
        "id": "74KmyjtMulKN",
        "colab_type": "code",
        "colab": {}
      },
      "source": [
        "assert len(order_products__prior) + len(order_products__train) == len(order_products)"
      ],
      "execution_count": 0,
      "outputs": []
    },
    {
      "cell_type": "code",
      "metadata": {
        "id": "wzRi76T5utCU",
        "colab_type": "code",
        "colab": {
          "base_uri": "https://localhost:8080/",
          "height": 34
        },
        "outputId": "bed17af6-a5cd-4c34-eea3-f31dd4f29c30"
      },
      "source": [
        "order_products.groupby('order_id')['product_id'].count().mean()"
      ],
      "execution_count": 31,
      "outputs": [
        {
          "output_type": "execute_result",
          "data": {
            "text/plain": [
              "10.10707325550502"
            ]
          },
          "metadata": {
            "tags": []
          },
          "execution_count": 31
        }
      ]
    },
    {
      "cell_type": "code",
      "metadata": {
        "id": "6C9E598bvjSO",
        "colab_type": "code",
        "colab": {}
      },
      "source": [
        "grouped_orders = order_products.groupby('order_id')\n"
      ],
      "execution_count": 0,
      "outputs": []
    },
    {
      "cell_type": "code",
      "metadata": {
        "id": "6W6mok6qu9B4",
        "colab_type": "code",
        "colab": {
          "base_uri": "https://localhost:8080/",
          "height": 204
        },
        "outputId": "ff05eda6-13e2-435d-8e40-f1834754a7e4"
      },
      "source": [
        "grouped_orders.get_group(2539329)"
      ],
      "execution_count": 33,
      "outputs": [
        {
          "output_type": "execute_result",
          "data": {
            "text/html": [
              "<div>\n",
              "<style scoped>\n",
              "    .dataframe tbody tr th:only-of-type {\n",
              "        vertical-align: middle;\n",
              "    }\n",
              "\n",
              "    .dataframe tbody tr th {\n",
              "        vertical-align: top;\n",
              "    }\n",
              "\n",
              "    .dataframe thead th {\n",
              "        text-align: right;\n",
              "    }\n",
              "</style>\n",
              "<table border=\"1\" class=\"dataframe\">\n",
              "  <thead>\n",
              "    <tr style=\"text-align: right;\">\n",
              "      <th></th>\n",
              "      <th>order_id</th>\n",
              "      <th>product_id</th>\n",
              "      <th>add_to_cart_order</th>\n",
              "      <th>reordered</th>\n",
              "    </tr>\n",
              "  </thead>\n",
              "  <tbody>\n",
              "    <tr>\n",
              "      <th>24076664</th>\n",
              "      <td>2539329</td>\n",
              "      <td>196</td>\n",
              "      <td>1</td>\n",
              "      <td>0</td>\n",
              "    </tr>\n",
              "    <tr>\n",
              "      <th>24076665</th>\n",
              "      <td>2539329</td>\n",
              "      <td>14084</td>\n",
              "      <td>2</td>\n",
              "      <td>0</td>\n",
              "    </tr>\n",
              "    <tr>\n",
              "      <th>24076666</th>\n",
              "      <td>2539329</td>\n",
              "      <td>12427</td>\n",
              "      <td>3</td>\n",
              "      <td>0</td>\n",
              "    </tr>\n",
              "    <tr>\n",
              "      <th>24076667</th>\n",
              "      <td>2539329</td>\n",
              "      <td>26088</td>\n",
              "      <td>4</td>\n",
              "      <td>0</td>\n",
              "    </tr>\n",
              "    <tr>\n",
              "      <th>24076668</th>\n",
              "      <td>2539329</td>\n",
              "      <td>26405</td>\n",
              "      <td>5</td>\n",
              "      <td>0</td>\n",
              "    </tr>\n",
              "  </tbody>\n",
              "</table>\n",
              "</div>"
            ],
            "text/plain": [
              "          order_id  product_id  add_to_cart_order  reordered\n",
              "24076664   2539329         196                  1          0\n",
              "24076665   2539329       14084                  2          0\n",
              "24076666   2539329       12427                  3          0\n",
              "24076667   2539329       26088                  4          0\n",
              "24076668   2539329       26405                  5          0"
            ]
          },
          "metadata": {
            "tags": []
          },
          "execution_count": 33
        }
      ]
    },
    {
      "cell_type": "code",
      "metadata": {
        "id": "n-ENf2mdxIKj",
        "colab_type": "code",
        "colab": {
          "base_uri": "https://localhost:8080/",
          "height": 204
        },
        "outputId": "4617248d-e6c8-4aed-fcc9-07853b4d833a"
      },
      "source": [
        "order_products[order_products['order_id'] == 2539329]"
      ],
      "execution_count": 34,
      "outputs": [
        {
          "output_type": "execute_result",
          "data": {
            "text/html": [
              "<div>\n",
              "<style scoped>\n",
              "    .dataframe tbody tr th:only-of-type {\n",
              "        vertical-align: middle;\n",
              "    }\n",
              "\n",
              "    .dataframe tbody tr th {\n",
              "        vertical-align: top;\n",
              "    }\n",
              "\n",
              "    .dataframe thead th {\n",
              "        text-align: right;\n",
              "    }\n",
              "</style>\n",
              "<table border=\"1\" class=\"dataframe\">\n",
              "  <thead>\n",
              "    <tr style=\"text-align: right;\">\n",
              "      <th></th>\n",
              "      <th>order_id</th>\n",
              "      <th>product_id</th>\n",
              "      <th>add_to_cart_order</th>\n",
              "      <th>reordered</th>\n",
              "    </tr>\n",
              "  </thead>\n",
              "  <tbody>\n",
              "    <tr>\n",
              "      <th>24076664</th>\n",
              "      <td>2539329</td>\n",
              "      <td>196</td>\n",
              "      <td>1</td>\n",
              "      <td>0</td>\n",
              "    </tr>\n",
              "    <tr>\n",
              "      <th>24076665</th>\n",
              "      <td>2539329</td>\n",
              "      <td>14084</td>\n",
              "      <td>2</td>\n",
              "      <td>0</td>\n",
              "    </tr>\n",
              "    <tr>\n",
              "      <th>24076666</th>\n",
              "      <td>2539329</td>\n",
              "      <td>12427</td>\n",
              "      <td>3</td>\n",
              "      <td>0</td>\n",
              "    </tr>\n",
              "    <tr>\n",
              "      <th>24076667</th>\n",
              "      <td>2539329</td>\n",
              "      <td>26088</td>\n",
              "      <td>4</td>\n",
              "      <td>0</td>\n",
              "    </tr>\n",
              "    <tr>\n",
              "      <th>24076668</th>\n",
              "      <td>2539329</td>\n",
              "      <td>26405</td>\n",
              "      <td>5</td>\n",
              "      <td>0</td>\n",
              "    </tr>\n",
              "  </tbody>\n",
              "</table>\n",
              "</div>"
            ],
            "text/plain": [
              "          order_id  product_id  add_to_cart_order  reordered\n",
              "24076664   2539329         196                  1          0\n",
              "24076665   2539329       14084                  2          0\n",
              "24076666   2539329       12427                  3          0\n",
              "24076667   2539329       26088                  4          0\n",
              "24076668   2539329       26405                  5          0"
            ]
          },
          "metadata": {
            "tags": []
          },
          "execution_count": 34
        }
      ]
    },
    {
      "cell_type": "code",
      "metadata": {
        "id": "U1oph00vxTLa",
        "colab_type": "code",
        "colab": {
          "base_uri": "https://localhost:8080/",
          "height": 286
        },
        "outputId": "7fc608d9-d76e-4640-a791-af2c5c58d582"
      },
      "source": [
        "grouped_orders['product_id'].count().hist()"
      ],
      "execution_count": 35,
      "outputs": [
        {
          "output_type": "execute_result",
          "data": {
            "text/plain": [
              "<matplotlib.axes._subplots.AxesSubplot at 0x7f19ecb66908>"
            ]
          },
          "metadata": {
            "tags": []
          },
          "execution_count": 35
        },
        {
          "output_type": "display_data",
          "data": {
            "image/png": "[encoded data removed]",
            "text/plain": [
              "<Figure size 432x288 with 1 Axes>"
            ]
          },
          "metadata": {
            "tags": []
          }
        }
      ]
    },
    {
      "cell_type": "code",
      "metadata": {
        "id": "ayzAar40xZbC",
        "colab_type": "code",
        "colab": {
          "base_uri": "https://localhost:8080/",
          "height": 286
        },
        "outputId": "b6847020-f0e9-4b71-ea69-2f8755c8cf1d"
      },
      "source": [
        "grouped_orders['product_id'].count().hist(bins=50)"
      ],
      "execution_count": 36,
      "outputs": [
        {
          "output_type": "execute_result",
          "data": {
            "text/plain": [
              "<matplotlib.axes._subplots.AxesSubplot at 0x7f19eca93a90>"
            ]
          },
          "metadata": {
            "tags": []
          },
          "execution_count": 36
        },
        {
          "output_type": "display_data",
          "data": {
            "image/png": "[encoded data removed]",
            "text/plain": [
              "<Figure size 432x288 with 1 Axes>"
            ]
          },
          "metadata": {
            "tags": []
          }
        }
      ]
    },
    {
      "cell_type": "code",
      "metadata": {
        "id": "gchXHZsbxlxO",
        "colab_type": "code",
        "colab": {
          "base_uri": "https://localhost:8080/",
          "height": 204
        },
        "outputId": "d230a8f1-cc36-4f84-d6b8-cf042079d1ef"
      },
      "source": [
        "orders.head()"
      ],
      "execution_count": 37,
      "outputs": [
        {
          "output_type": "execute_result",
          "data": {
            "text/html": [
              "<div>\n",
              "<style scoped>\n",
              "    .dataframe tbody tr th:only-of-type {\n",
              "        vertical-align: middle;\n",
              "    }\n",
              "\n",
              "    .dataframe tbody tr th {\n",
              "        vertical-align: top;\n",
              "    }\n",
              "\n",
              "    .dataframe thead th {\n",
              "        text-align: right;\n",
              "    }\n",
              "</style>\n",
              "<table border=\"1\" class=\"dataframe\">\n",
              "  <thead>\n",
              "    <tr style=\"text-align: right;\">\n",
              "      <th></th>\n",
              "      <th>order_id</th>\n",
              "      <th>user_id</th>\n",
              "      <th>eval_set</th>\n",
              "      <th>order_number</th>\n",
              "      <th>order_dow</th>\n",
              "      <th>order_hour_of_day</th>\n",
              "      <th>days_since_prior_order</th>\n",
              "    </tr>\n",
              "  </thead>\n",
              "  <tbody>\n",
              "    <tr>\n",
              "      <th>0</th>\n",
              "      <td>2539329</td>\n",
              "      <td>1</td>\n",
              "      <td>prior</td>\n",
              "      <td>1</td>\n",
              "      <td>2</td>\n",
              "      <td>8</td>\n",
              "      <td>NaN</td>\n",
              "    </tr>\n",
              "    <tr>\n",
              "      <th>1</th>\n",
              "      <td>2398795</td>\n",
              "      <td>1</td>\n",
              "      <td>prior</td>\n",
              "      <td>2</td>\n",
              "      <td>3</td>\n",
              "      <td>7</td>\n",
              "      <td>15.0</td>\n",
              "    </tr>\n",
              "    <tr>\n",
              "      <th>2</th>\n",
              "      <td>473747</td>\n",
              "      <td>1</td>\n",
              "      <td>prior</td>\n",
              "      <td>3</td>\n",
              "      <td>3</td>\n",
              "      <td>12</td>\n",
              "      <td>21.0</td>\n",
              "    </tr>\n",
              "    <tr>\n",
              "      <th>3</th>\n",
              "      <td>2254736</td>\n",
              "      <td>1</td>\n",
              "      <td>prior</td>\n",
              "      <td>4</td>\n",
              "      <td>4</td>\n",
              "      <td>7</td>\n",
              "      <td>29.0</td>\n",
              "    </tr>\n",
              "    <tr>\n",
              "      <th>4</th>\n",
              "      <td>431534</td>\n",
              "      <td>1</td>\n",
              "      <td>prior</td>\n",
              "      <td>5</td>\n",
              "      <td>4</td>\n",
              "      <td>15</td>\n",
              "      <td>28.0</td>\n",
              "    </tr>\n",
              "  </tbody>\n",
              "</table>\n",
              "</div>"
            ],
            "text/plain": [
              "   order_id  user_id  ... order_hour_of_day  days_since_prior_order\n",
              "0   2539329        1  ...                 8                     NaN\n",
              "1   2398795        1  ...                 7                    15.0\n",
              "2    473747        1  ...                12                    21.0\n",
              "3   2254736        1  ...                 7                    29.0\n",
              "4    431534        1  ...                15                    28.0\n",
              "\n",
              "[5 rows x 7 columns]"
            ]
          },
          "metadata": {
            "tags": []
          },
          "execution_count": 37
        }
      ]
    },
    {
      "cell_type": "code",
      "metadata": {
        "id": "2nE3a12rxna-",
        "colab_type": "code",
        "colab": {}
      },
      "source": [
        "condition = (orders['user_id'] == 1) & (orders['order_number'] <= 2)\n",
        "columns = ['order_id', 'user_id', 'order_number', 'order_dow', 'order_hour_of_day']\n",
        "subset = orders[condition][columns]"
      ],
      "execution_count": 0,
      "outputs": []
    },
    {
      "cell_type": "code",
      "metadata": {
        "id": "Lga6jBVayHOh",
        "colab_type": "code",
        "colab": {
          "base_uri": "https://localhost:8080/",
          "height": 111
        },
        "outputId": "46679b49-1dd2-4175-ac7f-91e444e6980b"
      },
      "source": [
        "subset.head()"
      ],
      "execution_count": 39,
      "outputs": [
        {
          "output_type": "execute_result",
          "data": {
            "text/html": [
              "<div>\n",
              "<style scoped>\n",
              "    .dataframe tbody tr th:only-of-type {\n",
              "        vertical-align: middle;\n",
              "    }\n",
              "\n",
              "    .dataframe tbody tr th {\n",
              "        vertical-align: top;\n",
              "    }\n",
              "\n",
              "    .dataframe thead th {\n",
              "        text-align: right;\n",
              "    }\n",
              "</style>\n",
              "<table border=\"1\" class=\"dataframe\">\n",
              "  <thead>\n",
              "    <tr style=\"text-align: right;\">\n",
              "      <th></th>\n",
              "      <th>order_id</th>\n",
              "      <th>user_id</th>\n",
              "      <th>order_number</th>\n",
              "      <th>order_dow</th>\n",
              "      <th>order_hour_of_day</th>\n",
              "    </tr>\n",
              "  </thead>\n",
              "  <tbody>\n",
              "    <tr>\n",
              "      <th>0</th>\n",
              "      <td>2539329</td>\n",
              "      <td>1</td>\n",
              "      <td>1</td>\n",
              "      <td>2</td>\n",
              "      <td>8</td>\n",
              "    </tr>\n",
              "    <tr>\n",
              "      <th>1</th>\n",
              "      <td>2398795</td>\n",
              "      <td>1</td>\n",
              "      <td>2</td>\n",
              "      <td>3</td>\n",
              "      <td>7</td>\n",
              "    </tr>\n",
              "  </tbody>\n",
              "</table>\n",
              "</div>"
            ],
            "text/plain": [
              "   order_id  user_id  order_number  order_dow  order_hour_of_day\n",
              "0   2539329        1             1          2                  8\n",
              "1   2398795        1             2          3                  7"
            ]
          },
          "metadata": {
            "tags": []
          },
          "execution_count": 39
        }
      ]
    },
    {
      "cell_type": "code",
      "metadata": {
        "id": "OP-eup6MyIop",
        "colab_type": "code",
        "colab": {
          "base_uri": "https://localhost:8080/",
          "height": 204
        },
        "outputId": "d5f87ca2-e215-4c9e-c082-fe9ccc7f3a66"
      },
      "source": [
        "columns = ['order_id', 'product_id', 'add_to_cart_order']\n",
        "merged = pd.merge(subset, order_products[columns])\n",
        "merged.head()"
      ],
      "execution_count": 40,
      "outputs": [
        {
          "output_type": "execute_result",
          "data": {
            "text/html": [
              "<div>\n",
              "<style scoped>\n",
              "    .dataframe tbody tr th:only-of-type {\n",
              "        vertical-align: middle;\n",
              "    }\n",
              "\n",
              "    .dataframe tbody tr th {\n",
              "        vertical-align: top;\n",
              "    }\n",
              "\n",
              "    .dataframe thead th {\n",
              "        text-align: right;\n",
              "    }\n",
              "</style>\n",
              "<table border=\"1\" class=\"dataframe\">\n",
              "  <thead>\n",
              "    <tr style=\"text-align: right;\">\n",
              "      <th></th>\n",
              "      <th>order_id</th>\n",
              "      <th>user_id</th>\n",
              "      <th>order_number</th>\n",
              "      <th>order_dow</th>\n",
              "      <th>order_hour_of_day</th>\n",
              "      <th>product_id</th>\n",
              "      <th>add_to_cart_order</th>\n",
              "    </tr>\n",
              "  </thead>\n",
              "  <tbody>\n",
              "    <tr>\n",
              "      <th>0</th>\n",
              "      <td>2539329</td>\n",
              "      <td>1</td>\n",
              "      <td>1</td>\n",
              "      <td>2</td>\n",
              "      <td>8</td>\n",
              "      <td>196</td>\n",
              "      <td>1</td>\n",
              "    </tr>\n",
              "    <tr>\n",
              "      <th>1</th>\n",
              "      <td>2539329</td>\n",
              "      <td>1</td>\n",
              "      <td>1</td>\n",
              "      <td>2</td>\n",
              "      <td>8</td>\n",
              "      <td>14084</td>\n",
              "      <td>2</td>\n",
              "    </tr>\n",
              "    <tr>\n",
              "      <th>2</th>\n",
              "      <td>2539329</td>\n",
              "      <td>1</td>\n",
              "      <td>1</td>\n",
              "      <td>2</td>\n",
              "      <td>8</td>\n",
              "      <td>12427</td>\n",
              "      <td>3</td>\n",
              "    </tr>\n",
              "    <tr>\n",
              "      <th>3</th>\n",
              "      <td>2539329</td>\n",
              "      <td>1</td>\n",
              "      <td>1</td>\n",
              "      <td>2</td>\n",
              "      <td>8</td>\n",
              "      <td>26088</td>\n",
              "      <td>4</td>\n",
              "    </tr>\n",
              "    <tr>\n",
              "      <th>4</th>\n",
              "      <td>2539329</td>\n",
              "      <td>1</td>\n",
              "      <td>1</td>\n",
              "      <td>2</td>\n",
              "      <td>8</td>\n",
              "      <td>26405</td>\n",
              "      <td>5</td>\n",
              "    </tr>\n",
              "  </tbody>\n",
              "</table>\n",
              "</div>"
            ],
            "text/plain": [
              "   order_id  user_id  ...  product_id  add_to_cart_order\n",
              "0   2539329        1  ...         196                  1\n",
              "1   2539329        1  ...       14084                  2\n",
              "2   2539329        1  ...       12427                  3\n",
              "3   2539329        1  ...       26088                  4\n",
              "4   2539329        1  ...       26405                  5\n",
              "\n",
              "[5 rows x 7 columns]"
            ]
          },
          "metadata": {
            "tags": []
          },
          "execution_count": 40
        }
      ]
    },
    {
      "cell_type": "code",
      "metadata": {
        "id": "bw_bD7NZyaxx",
        "colab_type": "code",
        "colab": {
          "base_uri": "https://localhost:8080/",
          "height": 221
        },
        "outputId": "b1d3f8a9-bc6d-4b83-b39b-41ef46874b27"
      },
      "source": [
        "final = pd.merge(merged, products[['product_id', 'product_name']])\n",
        "columns = ['user_id', 'order_id', 'order_number', 'order_dow', 'order_hour_of_day', \n",
        "           'add_to_cart_order', 'product_id', 'product_name']\n",
        "final = final[columns]\n",
        "final.head()"
      ],
      "execution_count": 41,
      "outputs": [
        {
          "output_type": "execute_result",
          "data": {
            "text/html": [
              "<div>\n",
              "<style scoped>\n",
              "    .dataframe tbody tr th:only-of-type {\n",
              "        vertical-align: middle;\n",
              "    }\n",
              "\n",
              "    .dataframe tbody tr th {\n",
              "        vertical-align: top;\n",
              "    }\n",
              "\n",
              "    .dataframe thead th {\n",
              "        text-align: right;\n",
              "    }\n",
              "</style>\n",
              "<table border=\"1\" class=\"dataframe\">\n",
              "  <thead>\n",
              "    <tr style=\"text-align: right;\">\n",
              "      <th></th>\n",
              "      <th>user_id</th>\n",
              "      <th>order_id</th>\n",
              "      <th>order_number</th>\n",
              "      <th>order_dow</th>\n",
              "      <th>order_hour_of_day</th>\n",
              "      <th>add_to_cart_order</th>\n",
              "      <th>product_id</th>\n",
              "      <th>product_name</th>\n",
              "    </tr>\n",
              "  </thead>\n",
              "  <tbody>\n",
              "    <tr>\n",
              "      <th>0</th>\n",
              "      <td>1</td>\n",
              "      <td>2539329</td>\n",
              "      <td>1</td>\n",
              "      <td>2</td>\n",
              "      <td>8</td>\n",
              "      <td>1</td>\n",
              "      <td>196</td>\n",
              "      <td>Soda</td>\n",
              "    </tr>\n",
              "    <tr>\n",
              "      <th>1</th>\n",
              "      <td>1</td>\n",
              "      <td>2398795</td>\n",
              "      <td>2</td>\n",
              "      <td>3</td>\n",
              "      <td>7</td>\n",
              "      <td>1</td>\n",
              "      <td>196</td>\n",
              "      <td>Soda</td>\n",
              "    </tr>\n",
              "    <tr>\n",
              "      <th>2</th>\n",
              "      <td>1</td>\n",
              "      <td>2539329</td>\n",
              "      <td>1</td>\n",
              "      <td>2</td>\n",
              "      <td>8</td>\n",
              "      <td>2</td>\n",
              "      <td>14084</td>\n",
              "      <td>Organic Unsweetened Vanilla Almond Milk</td>\n",
              "    </tr>\n",
              "    <tr>\n",
              "      <th>3</th>\n",
              "      <td>1</td>\n",
              "      <td>2539329</td>\n",
              "      <td>1</td>\n",
              "      <td>2</td>\n",
              "      <td>8</td>\n",
              "      <td>3</td>\n",
              "      <td>12427</td>\n",
              "      <td>Original Beef Jerky</td>\n",
              "    </tr>\n",
              "    <tr>\n",
              "      <th>4</th>\n",
              "      <td>1</td>\n",
              "      <td>2398795</td>\n",
              "      <td>2</td>\n",
              "      <td>3</td>\n",
              "      <td>7</td>\n",
              "      <td>3</td>\n",
              "      <td>12427</td>\n",
              "      <td>Original Beef Jerky</td>\n",
              "    </tr>\n",
              "  </tbody>\n",
              "</table>\n",
              "</div>"
            ],
            "text/plain": [
              "   user_id  order_id  ...  product_id                             product_name\n",
              "0        1   2539329  ...         196                                     Soda\n",
              "1        1   2398795  ...         196                                     Soda\n",
              "2        1   2539329  ...       14084  Organic Unsweetened Vanilla Almond Milk\n",
              "3        1   2539329  ...       12427                      Original Beef Jerky\n",
              "4        1   2398795  ...       12427                      Original Beef Jerky\n",
              "\n",
              "[5 rows x 8 columns]"
            ]
          },
          "metadata": {
            "tags": []
          },
          "execution_count": 41
        }
      ]
    },
    {
      "cell_type": "code",
      "metadata": {
        "id": "wv7Tu-LPzfnt",
        "colab_type": "code",
        "colab": {
          "base_uri": "https://localhost:8080/",
          "height": 407
        },
        "outputId": "29faee36-2bb9-4224-8908-b7e752ff9b59"
      },
      "source": [
        "final = final.sort_values(by=['order_number', 'add_to_cart_order'])\n",
        "final"
      ],
      "execution_count": 42,
      "outputs": [
        {
          "output_type": "execute_result",
          "data": {
            "text/html": [
              "<div>\n",
              "<style scoped>\n",
              "    .dataframe tbody tr th:only-of-type {\n",
              "        vertical-align: middle;\n",
              "    }\n",
              "\n",
              "    .dataframe tbody tr th {\n",
              "        vertical-align: top;\n",
              "    }\n",
              "\n",
              "    .dataframe thead th {\n",
              "        text-align: right;\n",
              "    }\n",
              "</style>\n",
              "<table border=\"1\" class=\"dataframe\">\n",
              "  <thead>\n",
              "    <tr style=\"text-align: right;\">\n",
              "      <th></th>\n",
              "      <th>user_id</th>\n",
              "      <th>order_id</th>\n",
              "      <th>order_number</th>\n",
              "      <th>order_dow</th>\n",
              "      <th>order_hour_of_day</th>\n",
              "      <th>add_to_cart_order</th>\n",
              "      <th>product_id</th>\n",
              "      <th>product_name</th>\n",
              "    </tr>\n",
              "  </thead>\n",
              "  <tbody>\n",
              "    <tr>\n",
              "      <th>0</th>\n",
              "      <td>1</td>\n",
              "      <td>2539329</td>\n",
              "      <td>1</td>\n",
              "      <td>2</td>\n",
              "      <td>8</td>\n",
              "      <td>1</td>\n",
              "      <td>196</td>\n",
              "      <td>Soda</td>\n",
              "    </tr>\n",
              "    <tr>\n",
              "      <th>2</th>\n",
              "      <td>1</td>\n",
              "      <td>2539329</td>\n",
              "      <td>1</td>\n",
              "      <td>2</td>\n",
              "      <td>8</td>\n",
              "      <td>2</td>\n",
              "      <td>14084</td>\n",
              "      <td>Organic Unsweetened Vanilla Almond Milk</td>\n",
              "    </tr>\n",
              "    <tr>\n",
              "      <th>3</th>\n",
              "      <td>1</td>\n",
              "      <td>2539329</td>\n",
              "      <td>1</td>\n",
              "      <td>2</td>\n",
              "      <td>8</td>\n",
              "      <td>3</td>\n",
              "      <td>12427</td>\n",
              "      <td>Original Beef Jerky</td>\n",
              "    </tr>\n",
              "    <tr>\n",
              "      <th>5</th>\n",
              "      <td>1</td>\n",
              "      <td>2539329</td>\n",
              "      <td>1</td>\n",
              "      <td>2</td>\n",
              "      <td>8</td>\n",
              "      <td>4</td>\n",
              "      <td>26088</td>\n",
              "      <td>Aged White Cheddar Popcorn</td>\n",
              "    </tr>\n",
              "    <tr>\n",
              "      <th>7</th>\n",
              "      <td>1</td>\n",
              "      <td>2539329</td>\n",
              "      <td>1</td>\n",
              "      <td>2</td>\n",
              "      <td>8</td>\n",
              "      <td>5</td>\n",
              "      <td>26405</td>\n",
              "      <td>XL Pick-A-Size Paper Towel Rolls</td>\n",
              "    </tr>\n",
              "    <tr>\n",
              "      <th>1</th>\n",
              "      <td>1</td>\n",
              "      <td>2398795</td>\n",
              "      <td>2</td>\n",
              "      <td>3</td>\n",
              "      <td>7</td>\n",
              "      <td>1</td>\n",
              "      <td>196</td>\n",
              "      <td>Soda</td>\n",
              "    </tr>\n",
              "    <tr>\n",
              "      <th>8</th>\n",
              "      <td>1</td>\n",
              "      <td>2398795</td>\n",
              "      <td>2</td>\n",
              "      <td>3</td>\n",
              "      <td>7</td>\n",
              "      <td>2</td>\n",
              "      <td>10258</td>\n",
              "      <td>Pistachios</td>\n",
              "    </tr>\n",
              "    <tr>\n",
              "      <th>4</th>\n",
              "      <td>1</td>\n",
              "      <td>2398795</td>\n",
              "      <td>2</td>\n",
              "      <td>3</td>\n",
              "      <td>7</td>\n",
              "      <td>3</td>\n",
              "      <td>12427</td>\n",
              "      <td>Original Beef Jerky</td>\n",
              "    </tr>\n",
              "    <tr>\n",
              "      <th>9</th>\n",
              "      <td>1</td>\n",
              "      <td>2398795</td>\n",
              "      <td>2</td>\n",
              "      <td>3</td>\n",
              "      <td>7</td>\n",
              "      <td>4</td>\n",
              "      <td>13176</td>\n",
              "      <td>Bag of Organic Bananas</td>\n",
              "    </tr>\n",
              "    <tr>\n",
              "      <th>6</th>\n",
              "      <td>1</td>\n",
              "      <td>2398795</td>\n",
              "      <td>2</td>\n",
              "      <td>3</td>\n",
              "      <td>7</td>\n",
              "      <td>5</td>\n",
              "      <td>26088</td>\n",
              "      <td>Aged White Cheddar Popcorn</td>\n",
              "    </tr>\n",
              "    <tr>\n",
              "      <th>10</th>\n",
              "      <td>1</td>\n",
              "      <td>2398795</td>\n",
              "      <td>2</td>\n",
              "      <td>3</td>\n",
              "      <td>7</td>\n",
              "      <td>6</td>\n",
              "      <td>13032</td>\n",
              "      <td>Cinnamon Toast Crunch</td>\n",
              "    </tr>\n",
              "  </tbody>\n",
              "</table>\n",
              "</div>"
            ],
            "text/plain": [
              "    user_id  order_id  ...  product_id                             product_name\n",
              "0         1   2539329  ...         196                                     Soda\n",
              "2         1   2539329  ...       14084  Organic Unsweetened Vanilla Almond Milk\n",
              "3         1   2539329  ...       12427                      Original Beef Jerky\n",
              "5         1   2539329  ...       26088               Aged White Cheddar Popcorn\n",
              "7         1   2539329  ...       26405         XL Pick-A-Size Paper Towel Rolls\n",
              "1         1   2398795  ...         196                                     Soda\n",
              "8         1   2398795  ...       10258                               Pistachios\n",
              "4         1   2398795  ...       12427                      Original Beef Jerky\n",
              "9         1   2398795  ...       13176                   Bag of Organic Bananas\n",
              "6         1   2398795  ...       26088               Aged White Cheddar Popcorn\n",
              "10        1   2398795  ...       13032                    Cinnamon Toast Crunch\n",
              "\n",
              "[11 rows x 8 columns]"
            ]
          },
          "metadata": {
            "tags": []
          },
          "execution_count": 42
        }
      ]
    },
    {
      "cell_type": "code",
      "metadata": {
        "id": "ewVv6hYWzqIV",
        "colab_type": "code",
        "colab": {}
      },
      "source": [
        "columns = [col.replace('_', ' ') for col in final.columns]\n",
        "final.columns = columns"
      ],
      "execution_count": 0,
      "outputs": []
    },
    {
      "cell_type": "code",
      "metadata": {
        "id": "6APAH8WKz2nG",
        "colab_type": "code",
        "colab": {
          "base_uri": "https://localhost:8080/",
          "height": 424
        },
        "outputId": "b5352545-20d1-4ec0-c834-084d77868d88"
      },
      "source": [
        "final"
      ],
      "execution_count": 44,
      "outputs": [
        {
          "output_type": "execute_result",
          "data": {
            "text/html": [
              "<div>\n",
              "<style scoped>\n",
              "    .dataframe tbody tr th:only-of-type {\n",
              "        vertical-align: middle;\n",
              "    }\n",
              "\n",
              "    .dataframe tbody tr th {\n",
              "        vertical-align: top;\n",
              "    }\n",
              "\n",
              "    .dataframe thead th {\n",
              "        text-align: right;\n",
              "    }\n",
              "</style>\n",
              "<table border=\"1\" class=\"dataframe\">\n",
              "  <thead>\n",
              "    <tr style=\"text-align: right;\">\n",
              "      <th></th>\n",
              "      <th>user id</th>\n",
              "      <th>order id</th>\n",
              "      <th>order number</th>\n",
              "      <th>order dow</th>\n",
              "      <th>order hour of day</th>\n",
              "      <th>add to cart order</th>\n",
              "      <th>product id</th>\n",
              "      <th>product name</th>\n",
              "    </tr>\n",
              "  </thead>\n",
              "  <tbody>\n",
              "    <tr>\n",
              "      <th>0</th>\n",
              "      <td>1</td>\n",
              "      <td>2539329</td>\n",
              "      <td>1</td>\n",
              "      <td>2</td>\n",
              "      <td>8</td>\n",
              "      <td>1</td>\n",
              "      <td>196</td>\n",
              "      <td>Soda</td>\n",
              "    </tr>\n",
              "    <tr>\n",
              "      <th>2</th>\n",
              "      <td>1</td>\n",
              "      <td>2539329</td>\n",
              "      <td>1</td>\n",
              "      <td>2</td>\n",
              "      <td>8</td>\n",
              "      <td>2</td>\n",
              "      <td>14084</td>\n",
              "      <td>Organic Unsweetened Vanilla Almond Milk</td>\n",
              "    </tr>\n",
              "    <tr>\n",
              "      <th>3</th>\n",
              "      <td>1</td>\n",
              "      <td>2539329</td>\n",
              "      <td>1</td>\n",
              "      <td>2</td>\n",
              "      <td>8</td>\n",
              "      <td>3</td>\n",
              "      <td>12427</td>\n",
              "      <td>Original Beef Jerky</td>\n",
              "    </tr>\n",
              "    <tr>\n",
              "      <th>5</th>\n",
              "      <td>1</td>\n",
              "      <td>2539329</td>\n",
              "      <td>1</td>\n",
              "      <td>2</td>\n",
              "      <td>8</td>\n",
              "      <td>4</td>\n",
              "      <td>26088</td>\n",
              "      <td>Aged White Cheddar Popcorn</td>\n",
              "    </tr>\n",
              "    <tr>\n",
              "      <th>7</th>\n",
              "      <td>1</td>\n",
              "      <td>2539329</td>\n",
              "      <td>1</td>\n",
              "      <td>2</td>\n",
              "      <td>8</td>\n",
              "      <td>5</td>\n",
              "      <td>26405</td>\n",
              "      <td>XL Pick-A-Size Paper Towel Rolls</td>\n",
              "    </tr>\n",
              "    <tr>\n",
              "      <th>1</th>\n",
              "      <td>1</td>\n",
              "      <td>2398795</td>\n",
              "      <td>2</td>\n",
              "      <td>3</td>\n",
              "      <td>7</td>\n",
              "      <td>1</td>\n",
              "      <td>196</td>\n",
              "      <td>Soda</td>\n",
              "    </tr>\n",
              "    <tr>\n",
              "      <th>8</th>\n",
              "      <td>1</td>\n",
              "      <td>2398795</td>\n",
              "      <td>2</td>\n",
              "      <td>3</td>\n",
              "      <td>7</td>\n",
              "      <td>2</td>\n",
              "      <td>10258</td>\n",
              "      <td>Pistachios</td>\n",
              "    </tr>\n",
              "    <tr>\n",
              "      <th>4</th>\n",
              "      <td>1</td>\n",
              "      <td>2398795</td>\n",
              "      <td>2</td>\n",
              "      <td>3</td>\n",
              "      <td>7</td>\n",
              "      <td>3</td>\n",
              "      <td>12427</td>\n",
              "      <td>Original Beef Jerky</td>\n",
              "    </tr>\n",
              "    <tr>\n",
              "      <th>9</th>\n",
              "      <td>1</td>\n",
              "      <td>2398795</td>\n",
              "      <td>2</td>\n",
              "      <td>3</td>\n",
              "      <td>7</td>\n",
              "      <td>4</td>\n",
              "      <td>13176</td>\n",
              "      <td>Bag of Organic Bananas</td>\n",
              "    </tr>\n",
              "    <tr>\n",
              "      <th>6</th>\n",
              "      <td>1</td>\n",
              "      <td>2398795</td>\n",
              "      <td>2</td>\n",
              "      <td>3</td>\n",
              "      <td>7</td>\n",
              "      <td>5</td>\n",
              "      <td>26088</td>\n",
              "      <td>Aged White Cheddar Popcorn</td>\n",
              "    </tr>\n",
              "    <tr>\n",
              "      <th>10</th>\n",
              "      <td>1</td>\n",
              "      <td>2398795</td>\n",
              "      <td>2</td>\n",
              "      <td>3</td>\n",
              "      <td>7</td>\n",
              "      <td>6</td>\n",
              "      <td>13032</td>\n",
              "      <td>Cinnamon Toast Crunch</td>\n",
              "    </tr>\n",
              "  </tbody>\n",
              "</table>\n",
              "</div>"
            ],
            "text/plain": [
              "    user id  order id  ...  product id                             product name\n",
              "0         1   2539329  ...         196                                     Soda\n",
              "2         1   2539329  ...       14084  Organic Unsweetened Vanilla Almond Milk\n",
              "3         1   2539329  ...       12427                      Original Beef Jerky\n",
              "5         1   2539329  ...       26088               Aged White Cheddar Popcorn\n",
              "7         1   2539329  ...       26405         XL Pick-A-Size Paper Towel Rolls\n",
              "1         1   2398795  ...         196                                     Soda\n",
              "8         1   2398795  ...       10258                               Pistachios\n",
              "4         1   2398795  ...       12427                      Original Beef Jerky\n",
              "9         1   2398795  ...       13176                   Bag of Organic Bananas\n",
              "6         1   2398795  ...       26088               Aged White Cheddar Popcorn\n",
              "10        1   2398795  ...       13032                    Cinnamon Toast Crunch\n",
              "\n",
              "[11 rows x 8 columns]"
            ]
          },
          "metadata": {
            "tags": []
          },
          "execution_count": 44
        }
      ]
    },
    {
      "cell_type": "code",
      "metadata": {
        "id": "X7TH1Z1u0B4c",
        "colab_type": "code",
        "colab": {}
      },
      "source": [
        "%matplotlib inline\n",
        "import pandas as pd\n",
        "import numpy as np\n",
        "import seaborn as sns\n",
        "\n",
        "table1 = pd.DataFrame(\n",
        "  [[np.nan, 2],\n",
        "  [16, 11],\n",
        "  [3, 1]],\n",
        "  index=['John Smith', 'Jane Doe', 'Mary Johnson'],\n",
        "  columns=['treatmenta', 'treatmentb'])\n",
        "    \n",
        "table2 = table1.T"
      ],
      "execution_count": 0,
      "outputs": []
    },
    {
      "cell_type": "code",
      "metadata": {
        "id": "XOsfAn7F0oGX",
        "colab_type": "code",
        "colab": {
          "base_uri": "https://localhost:8080/",
          "height": 142
        },
        "outputId": "448d085d-e99b-490e-bc98-969d749f10ac"
      },
      "source": [
        "table1"
      ],
      "execution_count": 46,
      "outputs": [
        {
          "output_type": "execute_result",
          "data": {
            "text/html": [
              "<div>\n",
              "<style scoped>\n",
              "    .dataframe tbody tr th:only-of-type {\n",
              "        vertical-align: middle;\n",
              "    }\n",
              "\n",
              "    .dataframe tbody tr th {\n",
              "        vertical-align: top;\n",
              "    }\n",
              "\n",
              "    .dataframe thead th {\n",
              "        text-align: right;\n",
              "    }\n",
              "</style>\n",
              "<table border=\"1\" class=\"dataframe\">\n",
              "  <thead>\n",
              "    <tr style=\"text-align: right;\">\n",
              "      <th></th>\n",
              "      <th>treatmenta</th>\n",
              "      <th>treatmentb</th>\n",
              "    </tr>\n",
              "  </thead>\n",
              "  <tbody>\n",
              "    <tr>\n",
              "      <th>John Smith</th>\n",
              "      <td>NaN</td>\n",
              "      <td>2</td>\n",
              "    </tr>\n",
              "    <tr>\n",
              "      <th>Jane Doe</th>\n",
              "      <td>16.0</td>\n",
              "      <td>11</td>\n",
              "    </tr>\n",
              "    <tr>\n",
              "      <th>Mary Johnson</th>\n",
              "      <td>3.0</td>\n",
              "      <td>1</td>\n",
              "    </tr>\n",
              "  </tbody>\n",
              "</table>\n",
              "</div>"
            ],
            "text/plain": [
              "              treatmenta  treatmentb\n",
              "John Smith           NaN           2\n",
              "Jane Doe            16.0          11\n",
              "Mary Johnson         3.0           1"
            ]
          },
          "metadata": {
            "tags": []
          },
          "execution_count": 46
        }
      ]
    },
    {
      "cell_type": "code",
      "metadata": {
        "id": "NEZNjUaC0pjY",
        "colab_type": "code",
        "colab": {
          "base_uri": "https://localhost:8080/",
          "height": 111
        },
        "outputId": "a4074d28-34e5-495a-ae6e-38fa7b894b93"
      },
      "source": [
        "table2"
      ],
      "execution_count": 47,
      "outputs": [
        {
          "output_type": "execute_result",
          "data": {
            "text/html": [
              "<div>\n",
              "<style scoped>\n",
              "    .dataframe tbody tr th:only-of-type {\n",
              "        vertical-align: middle;\n",
              "    }\n",
              "\n",
              "    .dataframe tbody tr th {\n",
              "        vertical-align: top;\n",
              "    }\n",
              "\n",
              "    .dataframe thead th {\n",
              "        text-align: right;\n",
              "    }\n",
              "</style>\n",
              "<table border=\"1\" class=\"dataframe\">\n",
              "  <thead>\n",
              "    <tr style=\"text-align: right;\">\n",
              "      <th></th>\n",
              "      <th>John Smith</th>\n",
              "      <th>Jane Doe</th>\n",
              "      <th>Mary Johnson</th>\n",
              "    </tr>\n",
              "  </thead>\n",
              "  <tbody>\n",
              "    <tr>\n",
              "      <th>treatmenta</th>\n",
              "      <td>NaN</td>\n",
              "      <td>16.0</td>\n",
              "      <td>3.0</td>\n",
              "    </tr>\n",
              "    <tr>\n",
              "      <th>treatmentb</th>\n",
              "      <td>2.0</td>\n",
              "      <td>11.0</td>\n",
              "      <td>1.0</td>\n",
              "    </tr>\n",
              "  </tbody>\n",
              "</table>\n",
              "</div>"
            ],
            "text/plain": [
              "            John Smith  Jane Doe  Mary Johnson\n",
              "treatmenta         NaN      16.0           3.0\n",
              "treatmentb         2.0      11.0           1.0"
            ]
          },
          "metadata": {
            "tags": []
          },
          "execution_count": 47
        }
      ]
    },
    {
      "cell_type": "code",
      "metadata": {
        "id": "RKXQiOFN0sLx",
        "colab_type": "code",
        "colab": {
          "base_uri": "https://localhost:8080/",
          "height": 142
        },
        "outputId": "9ab7a4c3-018b-49e0-8efa-0ae64956b8f3"
      },
      "source": [
        "table1 = table1.reset_index()\n",
        "table1"
      ],
      "execution_count": 48,
      "outputs": [
        {
          "output_type": "execute_result",
          "data": {
            "text/html": [
              "<div>\n",
              "<style scoped>\n",
              "    .dataframe tbody tr th:only-of-type {\n",
              "        vertical-align: middle;\n",
              "    }\n",
              "\n",
              "    .dataframe tbody tr th {\n",
              "        vertical-align: top;\n",
              "    }\n",
              "\n",
              "    .dataframe thead th {\n",
              "        text-align: right;\n",
              "    }\n",
              "</style>\n",
              "<table border=\"1\" class=\"dataframe\">\n",
              "  <thead>\n",
              "    <tr style=\"text-align: right;\">\n",
              "      <th></th>\n",
              "      <th>index</th>\n",
              "      <th>treatmenta</th>\n",
              "      <th>treatmentb</th>\n",
              "    </tr>\n",
              "  </thead>\n",
              "  <tbody>\n",
              "    <tr>\n",
              "      <th>0</th>\n",
              "      <td>John Smith</td>\n",
              "      <td>NaN</td>\n",
              "      <td>2</td>\n",
              "    </tr>\n",
              "    <tr>\n",
              "      <th>1</th>\n",
              "      <td>Jane Doe</td>\n",
              "      <td>16.0</td>\n",
              "      <td>11</td>\n",
              "    </tr>\n",
              "    <tr>\n",
              "      <th>2</th>\n",
              "      <td>Mary Johnson</td>\n",
              "      <td>3.0</td>\n",
              "      <td>1</td>\n",
              "    </tr>\n",
              "  </tbody>\n",
              "</table>\n",
              "</div>"
            ],
            "text/plain": [
              "          index  treatmenta  treatmentb\n",
              "0    John Smith         NaN           2\n",
              "1      Jane Doe        16.0          11\n",
              "2  Mary Johnson         3.0           1"
            ]
          },
          "metadata": {
            "tags": []
          },
          "execution_count": 48
        }
      ]
    },
    {
      "cell_type": "code",
      "metadata": {
        "id": "P-VKYMMktT6c",
        "colab_type": "code",
        "colab": {
          "base_uri": "https://localhost:8080/",
          "height": 235
        },
        "outputId": "c176d2c3-e95a-4e5a-fd90-ad0dc1494b01"
      },
      "source": [
        "tidy = table1.melt(id_vars='index')\n",
        "tidy"
      ],
      "execution_count": 49,
      "outputs": [
        {
          "output_type": "execute_result",
          "data": {
            "text/html": [
              "<div>\n",
              "<style scoped>\n",
              "    .dataframe tbody tr th:only-of-type {\n",
              "        vertical-align: middle;\n",
              "    }\n",
              "\n",
              "    .dataframe tbody tr th {\n",
              "        vertical-align: top;\n",
              "    }\n",
              "\n",
              "    .dataframe thead th {\n",
              "        text-align: right;\n",
              "    }\n",
              "</style>\n",
              "<table border=\"1\" class=\"dataframe\">\n",
              "  <thead>\n",
              "    <tr style=\"text-align: right;\">\n",
              "      <th></th>\n",
              "      <th>index</th>\n",
              "      <th>variable</th>\n",
              "      <th>value</th>\n",
              "    </tr>\n",
              "  </thead>\n",
              "  <tbody>\n",
              "    <tr>\n",
              "      <th>0</th>\n",
              "      <td>John Smith</td>\n",
              "      <td>treatmenta</td>\n",
              "      <td>NaN</td>\n",
              "    </tr>\n",
              "    <tr>\n",
              "      <th>1</th>\n",
              "      <td>Jane Doe</td>\n",
              "      <td>treatmenta</td>\n",
              "      <td>16.0</td>\n",
              "    </tr>\n",
              "    <tr>\n",
              "      <th>2</th>\n",
              "      <td>Mary Johnson</td>\n",
              "      <td>treatmenta</td>\n",
              "      <td>3.0</td>\n",
              "    </tr>\n",
              "    <tr>\n",
              "      <th>3</th>\n",
              "      <td>John Smith</td>\n",
              "      <td>treatmentb</td>\n",
              "      <td>2.0</td>\n",
              "    </tr>\n",
              "    <tr>\n",
              "      <th>4</th>\n",
              "      <td>Jane Doe</td>\n",
              "      <td>treatmentb</td>\n",
              "      <td>11.0</td>\n",
              "    </tr>\n",
              "    <tr>\n",
              "      <th>5</th>\n",
              "      <td>Mary Johnson</td>\n",
              "      <td>treatmentb</td>\n",
              "      <td>1.0</td>\n",
              "    </tr>\n",
              "  </tbody>\n",
              "</table>\n",
              "</div>"
            ],
            "text/plain": [
              "          index    variable  value\n",
              "0    John Smith  treatmenta    NaN\n",
              "1      Jane Doe  treatmenta   16.0\n",
              "2  Mary Johnson  treatmenta    3.0\n",
              "3    John Smith  treatmentb    2.0\n",
              "4      Jane Doe  treatmentb   11.0\n",
              "5  Mary Johnson  treatmentb    1.0"
            ]
          },
          "metadata": {
            "tags": []
          },
          "execution_count": 49
        }
      ]
    },
    {
      "cell_type": "code",
      "metadata": {
        "id": "rZuKsaiutZhp",
        "colab_type": "code",
        "colab": {
          "base_uri": "https://localhost:8080/",
          "height": 235
        },
        "outputId": "539384e6-1712-4e80-9997-6d15c3fc5ef0"
      },
      "source": [
        "tidy.columns = ['name', 'trt', 'result']\n",
        "tidy"
      ],
      "execution_count": 50,
      "outputs": [
        {
          "output_type": "execute_result",
          "data": {
            "text/html": [
              "<div>\n",
              "<style scoped>\n",
              "    .dataframe tbody tr th:only-of-type {\n",
              "        vertical-align: middle;\n",
              "    }\n",
              "\n",
              "    .dataframe tbody tr th {\n",
              "        vertical-align: top;\n",
              "    }\n",
              "\n",
              "    .dataframe thead th {\n",
              "        text-align: right;\n",
              "    }\n",
              "</style>\n",
              "<table border=\"1\" class=\"dataframe\">\n",
              "  <thead>\n",
              "    <tr style=\"text-align: right;\">\n",
              "      <th></th>\n",
              "      <th>name</th>\n",
              "      <th>trt</th>\n",
              "      <th>result</th>\n",
              "    </tr>\n",
              "  </thead>\n",
              "  <tbody>\n",
              "    <tr>\n",
              "      <th>0</th>\n",
              "      <td>John Smith</td>\n",
              "      <td>treatmenta</td>\n",
              "      <td>NaN</td>\n",
              "    </tr>\n",
              "    <tr>\n",
              "      <th>1</th>\n",
              "      <td>Jane Doe</td>\n",
              "      <td>treatmenta</td>\n",
              "      <td>16.0</td>\n",
              "    </tr>\n",
              "    <tr>\n",
              "      <th>2</th>\n",
              "      <td>Mary Johnson</td>\n",
              "      <td>treatmenta</td>\n",
              "      <td>3.0</td>\n",
              "    </tr>\n",
              "    <tr>\n",
              "      <th>3</th>\n",
              "      <td>John Smith</td>\n",
              "      <td>treatmentb</td>\n",
              "      <td>2.0</td>\n",
              "    </tr>\n",
              "    <tr>\n",
              "      <th>4</th>\n",
              "      <td>Jane Doe</td>\n",
              "      <td>treatmentb</td>\n",
              "      <td>11.0</td>\n",
              "    </tr>\n",
              "    <tr>\n",
              "      <th>5</th>\n",
              "      <td>Mary Johnson</td>\n",
              "      <td>treatmentb</td>\n",
              "      <td>1.0</td>\n",
              "    </tr>\n",
              "  </tbody>\n",
              "</table>\n",
              "</div>"
            ],
            "text/plain": [
              "           name         trt  result\n",
              "0    John Smith  treatmenta     NaN\n",
              "1      Jane Doe  treatmenta    16.0\n",
              "2  Mary Johnson  treatmenta     3.0\n",
              "3    John Smith  treatmentb     2.0\n",
              "4      Jane Doe  treatmentb    11.0\n",
              "5  Mary Johnson  treatmentb     1.0"
            ]
          },
          "metadata": {
            "tags": []
          },
          "execution_count": 50
        }
      ]
    },
    {
      "cell_type": "markdown",
      "metadata": {
        "id": "_elnDkrOtiI6",
        "colab_type": "text"
      },
      "source": [
        "###Table 2 --> Tidy"
      ]
    },
    {
      "cell_type": "code",
      "metadata": {
        "id": "mobgACLJthld",
        "colab_type": "code",
        "colab": {
          "base_uri": "https://localhost:8080/",
          "height": 111
        },
        "outputId": "483c6120-b7cd-46f2-bd86-f2eb47f6ebad"
      },
      "source": [
        "table2"
      ],
      "execution_count": 51,
      "outputs": [
        {
          "output_type": "execute_result",
          "data": {
            "text/html": [
              "<div>\n",
              "<style scoped>\n",
              "    .dataframe tbody tr th:only-of-type {\n",
              "        vertical-align: middle;\n",
              "    }\n",
              "\n",
              "    .dataframe tbody tr th {\n",
              "        vertical-align: top;\n",
              "    }\n",
              "\n",
              "    .dataframe thead th {\n",
              "        text-align: right;\n",
              "    }\n",
              "</style>\n",
              "<table border=\"1\" class=\"dataframe\">\n",
              "  <thead>\n",
              "    <tr style=\"text-align: right;\">\n",
              "      <th></th>\n",
              "      <th>John Smith</th>\n",
              "      <th>Jane Doe</th>\n",
              "      <th>Mary Johnson</th>\n",
              "    </tr>\n",
              "  </thead>\n",
              "  <tbody>\n",
              "    <tr>\n",
              "      <th>treatmenta</th>\n",
              "      <td>NaN</td>\n",
              "      <td>16.0</td>\n",
              "      <td>3.0</td>\n",
              "    </tr>\n",
              "    <tr>\n",
              "      <th>treatmentb</th>\n",
              "      <td>2.0</td>\n",
              "      <td>11.0</td>\n",
              "      <td>1.0</td>\n",
              "    </tr>\n",
              "  </tbody>\n",
              "</table>\n",
              "</div>"
            ],
            "text/plain": [
              "            John Smith  Jane Doe  Mary Johnson\n",
              "treatmenta         NaN      16.0           3.0\n",
              "treatmentb         2.0      11.0           1.0"
            ]
          },
          "metadata": {
            "tags": []
          },
          "execution_count": 51
        }
      ]
    },
    {
      "cell_type": "code",
      "metadata": {
        "id": "NH6IukRptnk5",
        "colab_type": "code",
        "colab": {}
      },
      "source": [
        "table2 = table2.reset_index()"
      ],
      "execution_count": 0,
      "outputs": []
    },
    {
      "cell_type": "code",
      "metadata": {
        "id": "gi932yWLtvR7",
        "colab_type": "code",
        "colab": {
          "base_uri": "https://localhost:8080/",
          "height": 235
        },
        "outputId": "efdcefa6-c7ce-4087-b59c-808a4127c837"
      },
      "source": [
        "tidy2 = table2.melt(id_vars='index')\n",
        "tidy2"
      ],
      "execution_count": 53,
      "outputs": [
        {
          "output_type": "execute_result",
          "data": {
            "text/html": [
              "<div>\n",
              "<style scoped>\n",
              "    .dataframe tbody tr th:only-of-type {\n",
              "        vertical-align: middle;\n",
              "    }\n",
              "\n",
              "    .dataframe tbody tr th {\n",
              "        vertical-align: top;\n",
              "    }\n",
              "\n",
              "    .dataframe thead th {\n",
              "        text-align: right;\n",
              "    }\n",
              "</style>\n",
              "<table border=\"1\" class=\"dataframe\">\n",
              "  <thead>\n",
              "    <tr style=\"text-align: right;\">\n",
              "      <th></th>\n",
              "      <th>index</th>\n",
              "      <th>variable</th>\n",
              "      <th>value</th>\n",
              "    </tr>\n",
              "  </thead>\n",
              "  <tbody>\n",
              "    <tr>\n",
              "      <th>0</th>\n",
              "      <td>treatmenta</td>\n",
              "      <td>John Smith</td>\n",
              "      <td>NaN</td>\n",
              "    </tr>\n",
              "    <tr>\n",
              "      <th>1</th>\n",
              "      <td>treatmentb</td>\n",
              "      <td>John Smith</td>\n",
              "      <td>2.0</td>\n",
              "    </tr>\n",
              "    <tr>\n",
              "      <th>2</th>\n",
              "      <td>treatmenta</td>\n",
              "      <td>Jane Doe</td>\n",
              "      <td>16.0</td>\n",
              "    </tr>\n",
              "    <tr>\n",
              "      <th>3</th>\n",
              "      <td>treatmentb</td>\n",
              "      <td>Jane Doe</td>\n",
              "      <td>11.0</td>\n",
              "    </tr>\n",
              "    <tr>\n",
              "      <th>4</th>\n",
              "      <td>treatmenta</td>\n",
              "      <td>Mary Johnson</td>\n",
              "      <td>3.0</td>\n",
              "    </tr>\n",
              "    <tr>\n",
              "      <th>5</th>\n",
              "      <td>treatmentb</td>\n",
              "      <td>Mary Johnson</td>\n",
              "      <td>1.0</td>\n",
              "    </tr>\n",
              "  </tbody>\n",
              "</table>\n",
              "</div>"
            ],
            "text/plain": [
              "        index      variable  value\n",
              "0  treatmenta    John Smith    NaN\n",
              "1  treatmentb    John Smith    2.0\n",
              "2  treatmenta      Jane Doe   16.0\n",
              "3  treatmentb      Jane Doe   11.0\n",
              "4  treatmenta  Mary Johnson    3.0\n",
              "5  treatmentb  Mary Johnson    1.0"
            ]
          },
          "metadata": {
            "tags": []
          },
          "execution_count": 53
        }
      ]
    },
    {
      "cell_type": "code",
      "metadata": {
        "id": "ceouHei0t-3u",
        "colab_type": "code",
        "colab": {
          "base_uri": "https://localhost:8080/",
          "height": 235
        },
        "outputId": "fed10a4d-5d83-4e04-e827-9db8a768b9ea"
      },
      "source": [
        "tidy2.columns = ['treatment', 'name', 'result']\n",
        "tidy2"
      ],
      "execution_count": 54,
      "outputs": [
        {
          "output_type": "execute_result",
          "data": {
            "text/html": [
              "<div>\n",
              "<style scoped>\n",
              "    .dataframe tbody tr th:only-of-type {\n",
              "        vertical-align: middle;\n",
              "    }\n",
              "\n",
              "    .dataframe tbody tr th {\n",
              "        vertical-align: top;\n",
              "    }\n",
              "\n",
              "    .dataframe thead th {\n",
              "        text-align: right;\n",
              "    }\n",
              "</style>\n",
              "<table border=\"1\" class=\"dataframe\">\n",
              "  <thead>\n",
              "    <tr style=\"text-align: right;\">\n",
              "      <th></th>\n",
              "      <th>treatment</th>\n",
              "      <th>name</th>\n",
              "      <th>result</th>\n",
              "    </tr>\n",
              "  </thead>\n",
              "  <tbody>\n",
              "    <tr>\n",
              "      <th>0</th>\n",
              "      <td>treatmenta</td>\n",
              "      <td>John Smith</td>\n",
              "      <td>NaN</td>\n",
              "    </tr>\n",
              "    <tr>\n",
              "      <th>1</th>\n",
              "      <td>treatmentb</td>\n",
              "      <td>John Smith</td>\n",
              "      <td>2.0</td>\n",
              "    </tr>\n",
              "    <tr>\n",
              "      <th>2</th>\n",
              "      <td>treatmenta</td>\n",
              "      <td>Jane Doe</td>\n",
              "      <td>16.0</td>\n",
              "    </tr>\n",
              "    <tr>\n",
              "      <th>3</th>\n",
              "      <td>treatmentb</td>\n",
              "      <td>Jane Doe</td>\n",
              "      <td>11.0</td>\n",
              "    </tr>\n",
              "    <tr>\n",
              "      <th>4</th>\n",
              "      <td>treatmenta</td>\n",
              "      <td>Mary Johnson</td>\n",
              "      <td>3.0</td>\n",
              "    </tr>\n",
              "    <tr>\n",
              "      <th>5</th>\n",
              "      <td>treatmentb</td>\n",
              "      <td>Mary Johnson</td>\n",
              "      <td>1.0</td>\n",
              "    </tr>\n",
              "  </tbody>\n",
              "</table>\n",
              "</div>"
            ],
            "text/plain": [
              "    treatment          name  result\n",
              "0  treatmenta    John Smith     NaN\n",
              "1  treatmentb    John Smith     2.0\n",
              "2  treatmenta      Jane Doe    16.0\n",
              "3  treatmentb      Jane Doe    11.0\n",
              "4  treatmenta  Mary Johnson     3.0\n",
              "5  treatmentb  Mary Johnson     1.0"
            ]
          },
          "metadata": {
            "tags": []
          },
          "execution_count": 54
        }
      ]
    },
    {
      "cell_type": "code",
      "metadata": {
        "id": "JbagNQD9uKjL",
        "colab_type": "code",
        "colab": {
          "base_uri": "https://localhost:8080/",
          "height": 142
        },
        "outputId": "17c24893-83f9-476f-e69a-fd23212637d2"
      },
      "source": [
        "table1"
      ],
      "execution_count": 55,
      "outputs": [
        {
          "output_type": "execute_result",
          "data": {
            "text/html": [
              "<div>\n",
              "<style scoped>\n",
              "    .dataframe tbody tr th:only-of-type {\n",
              "        vertical-align: middle;\n",
              "    }\n",
              "\n",
              "    .dataframe tbody tr th {\n",
              "        vertical-align: top;\n",
              "    }\n",
              "\n",
              "    .dataframe thead th {\n",
              "        text-align: right;\n",
              "    }\n",
              "</style>\n",
              "<table border=\"1\" class=\"dataframe\">\n",
              "  <thead>\n",
              "    <tr style=\"text-align: right;\">\n",
              "      <th></th>\n",
              "      <th>index</th>\n",
              "      <th>treatmenta</th>\n",
              "      <th>treatmentb</th>\n",
              "    </tr>\n",
              "  </thead>\n",
              "  <tbody>\n",
              "    <tr>\n",
              "      <th>0</th>\n",
              "      <td>John Smith</td>\n",
              "      <td>NaN</td>\n",
              "      <td>2</td>\n",
              "    </tr>\n",
              "    <tr>\n",
              "      <th>1</th>\n",
              "      <td>Jane Doe</td>\n",
              "      <td>16.0</td>\n",
              "      <td>11</td>\n",
              "    </tr>\n",
              "    <tr>\n",
              "      <th>2</th>\n",
              "      <td>Mary Johnson</td>\n",
              "      <td>3.0</td>\n",
              "      <td>1</td>\n",
              "    </tr>\n",
              "  </tbody>\n",
              "</table>\n",
              "</div>"
            ],
            "text/plain": [
              "          index  treatmenta  treatmentb\n",
              "0    John Smith         NaN           2\n",
              "1      Jane Doe        16.0          11\n",
              "2  Mary Johnson         3.0           1"
            ]
          },
          "metadata": {
            "tags": []
          },
          "execution_count": 55
        }
      ]
    },
    {
      "cell_type": "code",
      "metadata": {
        "id": "RjisvboxuRzh",
        "colab_type": "code",
        "colab": {
          "base_uri": "https://localhost:8080/",
          "height": 173
        },
        "outputId": "b60fd37b-ebbc-4bfc-831d-b58caa7cdea7"
      },
      "source": [
        "tidy.pivot_table(index='name', columns='trt', values='result')"
      ],
      "execution_count": 56,
      "outputs": [
        {
          "output_type": "execute_result",
          "data": {
            "text/html": [
              "<div>\n",
              "<style scoped>\n",
              "    .dataframe tbody tr th:only-of-type {\n",
              "        vertical-align: middle;\n",
              "    }\n",
              "\n",
              "    .dataframe tbody tr th {\n",
              "        vertical-align: top;\n",
              "    }\n",
              "\n",
              "    .dataframe thead th {\n",
              "        text-align: right;\n",
              "    }\n",
              "</style>\n",
              "<table border=\"1\" class=\"dataframe\">\n",
              "  <thead>\n",
              "    <tr style=\"text-align: right;\">\n",
              "      <th>trt</th>\n",
              "      <th>treatmenta</th>\n",
              "      <th>treatmentb</th>\n",
              "    </tr>\n",
              "    <tr>\n",
              "      <th>name</th>\n",
              "      <th></th>\n",
              "      <th></th>\n",
              "    </tr>\n",
              "  </thead>\n",
              "  <tbody>\n",
              "    <tr>\n",
              "      <th>Jane Doe</th>\n",
              "      <td>16.0</td>\n",
              "      <td>11.0</td>\n",
              "    </tr>\n",
              "    <tr>\n",
              "      <th>John Smith</th>\n",
              "      <td>NaN</td>\n",
              "      <td>2.0</td>\n",
              "    </tr>\n",
              "    <tr>\n",
              "      <th>Mary Johnson</th>\n",
              "      <td>3.0</td>\n",
              "      <td>1.0</td>\n",
              "    </tr>\n",
              "  </tbody>\n",
              "</table>\n",
              "</div>"
            ],
            "text/plain": [
              "trt           treatmenta  treatmentb\n",
              "name                                \n",
              "Jane Doe            16.0        11.0\n",
              "John Smith           NaN         2.0\n",
              "Mary Johnson         3.0         1.0"
            ]
          },
          "metadata": {
            "tags": []
          },
          "execution_count": 56
        }
      ]
    },
    {
      "cell_type": "markdown",
      "metadata": {
        "id": "GMFhD2WKuaO7",
        "colab_type": "text"
      },
      "source": [
        "###Tidy2 ---> Table2"
      ]
    },
    {
      "cell_type": "code",
      "metadata": {
        "id": "DrXz5ZRoueIA",
        "colab_type": "code",
        "colab": {
          "base_uri": "https://localhost:8080/",
          "height": 142
        },
        "outputId": "980c731d-fcd6-4457-9e98-e3733e2d4766"
      },
      "source": [
        "tidy2.pivot_table(index='treatment', columns='name', values='result')"
      ],
      "execution_count": 57,
      "outputs": [
        {
          "output_type": "execute_result",
          "data": {
            "text/html": [
              "<div>\n",
              "<style scoped>\n",
              "    .dataframe tbody tr th:only-of-type {\n",
              "        vertical-align: middle;\n",
              "    }\n",
              "\n",
              "    .dataframe tbody tr th {\n",
              "        vertical-align: top;\n",
              "    }\n",
              "\n",
              "    .dataframe thead th {\n",
              "        text-align: right;\n",
              "    }\n",
              "</style>\n",
              "<table border=\"1\" class=\"dataframe\">\n",
              "  <thead>\n",
              "    <tr style=\"text-align: right;\">\n",
              "      <th>name</th>\n",
              "      <th>Jane Doe</th>\n",
              "      <th>John Smith</th>\n",
              "      <th>Mary Johnson</th>\n",
              "    </tr>\n",
              "    <tr>\n",
              "      <th>treatment</th>\n",
              "      <th></th>\n",
              "      <th></th>\n",
              "      <th></th>\n",
              "    </tr>\n",
              "  </thead>\n",
              "  <tbody>\n",
              "    <tr>\n",
              "      <th>treatmenta</th>\n",
              "      <td>16.0</td>\n",
              "      <td>NaN</td>\n",
              "      <td>3.0</td>\n",
              "    </tr>\n",
              "    <tr>\n",
              "      <th>treatmentb</th>\n",
              "      <td>11.0</td>\n",
              "      <td>2.0</td>\n",
              "      <td>1.0</td>\n",
              "    </tr>\n",
              "  </tbody>\n",
              "</table>\n",
              "</div>"
            ],
            "text/plain": [
              "name        Jane Doe  John Smith  Mary Johnson\n",
              "treatment                                     \n",
              "treatmenta      16.0         NaN           3.0\n",
              "treatmentb      11.0         2.0           1.0"
            ]
          },
          "metadata": {
            "tags": []
          },
          "execution_count": 57
        }
      ]
    },
    {
      "cell_type": "markdown",
      "metadata": {
        "id": "XBbyVGQZnRg3",
        "colab_type": "text"
      },
      "source": [
        "### Seaborn \n",
        "Load seaborn's flights dataset by running the cell below. Then create a pivot table showing the number of passengers by month and year. Use year for the index and month for the columns. You've done it right if you get 112 passengers for January 1949 and 432 passengers for December 1960."
      ]
    },
    {
      "cell_type": "code",
      "metadata": {
        "id": "fgxulJQq0uLw",
        "colab_type": "code",
        "colab": {}
      },
      "source": [
        "flights = sns.load_dataset('flights')"
      ],
      "execution_count": 0,
      "outputs": []
    },
    {
      "cell_type": "code",
      "metadata": {
        "id": "1qKc88WI0up-",
        "colab_type": "code",
        "colab": {
          "base_uri": "https://localhost:8080/",
          "height": 204
        },
        "outputId": "8eb27aa7-4225-497a-df36-ee53cadb3aa0"
      },
      "source": [
        "flights.head()"
      ],
      "execution_count": 59,
      "outputs": [
        {
          "output_type": "execute_result",
          "data": {
            "text/html": [
              "<div>\n",
              "<style scoped>\n",
              "    .dataframe tbody tr th:only-of-type {\n",
              "        vertical-align: middle;\n",
              "    }\n",
              "\n",
              "    .dataframe tbody tr th {\n",
              "        vertical-align: top;\n",
              "    }\n",
              "\n",
              "    .dataframe thead th {\n",
              "        text-align: right;\n",
              "    }\n",
              "</style>\n",
              "<table border=\"1\" class=\"dataframe\">\n",
              "  <thead>\n",
              "    <tr style=\"text-align: right;\">\n",
              "      <th></th>\n",
              "      <th>year</th>\n",
              "      <th>month</th>\n",
              "      <th>passengers</th>\n",
              "    </tr>\n",
              "  </thead>\n",
              "  <tbody>\n",
              "    <tr>\n",
              "      <th>0</th>\n",
              "      <td>1949</td>\n",
              "      <td>January</td>\n",
              "      <td>112</td>\n",
              "    </tr>\n",
              "    <tr>\n",
              "      <th>1</th>\n",
              "      <td>1949</td>\n",
              "      <td>February</td>\n",
              "      <td>118</td>\n",
              "    </tr>\n",
              "    <tr>\n",
              "      <th>2</th>\n",
              "      <td>1949</td>\n",
              "      <td>March</td>\n",
              "      <td>132</td>\n",
              "    </tr>\n",
              "    <tr>\n",
              "      <th>3</th>\n",
              "      <td>1949</td>\n",
              "      <td>April</td>\n",
              "      <td>129</td>\n",
              "    </tr>\n",
              "    <tr>\n",
              "      <th>4</th>\n",
              "      <td>1949</td>\n",
              "      <td>May</td>\n",
              "      <td>121</td>\n",
              "    </tr>\n",
              "  </tbody>\n",
              "</table>\n",
              "</div>"
            ],
            "text/plain": [
              "   year     month  passengers\n",
              "0  1949   January         112\n",
              "1  1949  February         118\n",
              "2  1949     March         132\n",
              "3  1949     April         129\n",
              "4  1949       May         121"
            ]
          },
          "metadata": {
            "tags": []
          },
          "execution_count": 59
        }
      ]
    },
    {
      "cell_type": "code",
      "metadata": {
        "id": "Got8a7Iw_dzb",
        "colab_type": "code",
        "colab": {
          "base_uri": "https://localhost:8080/",
          "height": 235
        },
        "outputId": "7bc86eaf-d036-4eb0-c484-48ada8304cab"
      },
      "source": [
        "pivot = flights.pivot_table(index='year', columns='month', values='passengers')\n",
        "pivot.head()"
      ],
      "execution_count": 60,
      "outputs": [
        {
          "output_type": "execute_result",
          "data": {
            "text/html": [
              "<div>\n",
              "<style scoped>\n",
              "    .dataframe tbody tr th:only-of-type {\n",
              "        vertical-align: middle;\n",
              "    }\n",
              "\n",
              "    .dataframe tbody tr th {\n",
              "        vertical-align: top;\n",
              "    }\n",
              "\n",
              "    .dataframe thead th {\n",
              "        text-align: right;\n",
              "    }\n",
              "</style>\n",
              "<table border=\"1\" class=\"dataframe\">\n",
              "  <thead>\n",
              "    <tr style=\"text-align: right;\">\n",
              "      <th>month</th>\n",
              "      <th>January</th>\n",
              "      <th>February</th>\n",
              "      <th>March</th>\n",
              "      <th>April</th>\n",
              "      <th>May</th>\n",
              "      <th>June</th>\n",
              "      <th>July</th>\n",
              "      <th>August</th>\n",
              "      <th>September</th>\n",
              "      <th>October</th>\n",
              "      <th>November</th>\n",
              "      <th>December</th>\n",
              "    </tr>\n",
              "    <tr>\n",
              "      <th>year</th>\n",
              "      <th></th>\n",
              "      <th></th>\n",
              "      <th></th>\n",
              "      <th></th>\n",
              "      <th></th>\n",
              "      <th></th>\n",
              "      <th></th>\n",
              "      <th></th>\n",
              "      <th></th>\n",
              "      <th></th>\n",
              "      <th></th>\n",
              "      <th></th>\n",
              "    </tr>\n",
              "  </thead>\n",
              "  <tbody>\n",
              "    <tr>\n",
              "      <th>1949</th>\n",
              "      <td>112</td>\n",
              "      <td>118</td>\n",
              "      <td>132</td>\n",
              "      <td>129</td>\n",
              "      <td>121</td>\n",
              "      <td>135</td>\n",
              "      <td>148</td>\n",
              "      <td>148</td>\n",
              "      <td>136</td>\n",
              "      <td>119</td>\n",
              "      <td>104</td>\n",
              "      <td>118</td>\n",
              "    </tr>\n",
              "    <tr>\n",
              "      <th>1950</th>\n",
              "      <td>115</td>\n",
              "      <td>126</td>\n",
              "      <td>141</td>\n",
              "      <td>135</td>\n",
              "      <td>125</td>\n",
              "      <td>149</td>\n",
              "      <td>170</td>\n",
              "      <td>170</td>\n",
              "      <td>158</td>\n",
              "      <td>133</td>\n",
              "      <td>114</td>\n",
              "      <td>140</td>\n",
              "    </tr>\n",
              "    <tr>\n",
              "      <th>1951</th>\n",
              "      <td>145</td>\n",
              "      <td>150</td>\n",
              "      <td>178</td>\n",
              "      <td>163</td>\n",
              "      <td>172</td>\n",
              "      <td>178</td>\n",
              "      <td>199</td>\n",
              "      <td>199</td>\n",
              "      <td>184</td>\n",
              "      <td>162</td>\n",
              "      <td>146</td>\n",
              "      <td>166</td>\n",
              "    </tr>\n",
              "    <tr>\n",
              "      <th>1952</th>\n",
              "      <td>171</td>\n",
              "      <td>180</td>\n",
              "      <td>193</td>\n",
              "      <td>181</td>\n",
              "      <td>183</td>\n",
              "      <td>218</td>\n",
              "      <td>230</td>\n",
              "      <td>242</td>\n",
              "      <td>209</td>\n",
              "      <td>191</td>\n",
              "      <td>172</td>\n",
              "      <td>194</td>\n",
              "    </tr>\n",
              "    <tr>\n",
              "      <th>1953</th>\n",
              "      <td>196</td>\n",
              "      <td>196</td>\n",
              "      <td>236</td>\n",
              "      <td>235</td>\n",
              "      <td>229</td>\n",
              "      <td>243</td>\n",
              "      <td>264</td>\n",
              "      <td>272</td>\n",
              "      <td>237</td>\n",
              "      <td>211</td>\n",
              "      <td>180</td>\n",
              "      <td>201</td>\n",
              "    </tr>\n",
              "  </tbody>\n",
              "</table>\n",
              "</div>"
            ],
            "text/plain": [
              "month  January  February  March  April  ...  September  October  November  December\n",
              "year                                    ...                                        \n",
              "1949       112       118    132    129  ...        136      119       104       118\n",
              "1950       115       126    141    135  ...        158      133       114       140\n",
              "1951       145       150    178    163  ...        184      162       146       166\n",
              "1952       171       180    193    181  ...        209      191       172       194\n",
              "1953       196       196    236    235  ...        237      211       180       201\n",
              "\n",
              "[5 rows x 12 columns]"
            ]
          },
          "metadata": {
            "tags": []
          },
          "execution_count": 60
        }
      ]
    },
    {
      "cell_type": "code",
      "metadata": {
        "id": "CRBis6t_AZGa",
        "colab_type": "code",
        "colab": {
          "base_uri": "https://localhost:8080/",
          "height": 34
        },
        "outputId": "9ee44686-7fd7-4431-fa77-da276491012a"
      },
      "source": [
        "pivot.loc[1949, 'January']"
      ],
      "execution_count": 61,
      "outputs": [
        {
          "output_type": "execute_result",
          "data": {
            "text/plain": [
              "112"
            ]
          },
          "metadata": {
            "tags": []
          },
          "execution_count": 61
        }
      ]
    },
    {
      "cell_type": "code",
      "metadata": {
        "id": "x751v_UQAi5T",
        "colab_type": "code",
        "colab": {
          "base_uri": "https://localhost:8080/",
          "height": 34
        },
        "outputId": "8d7eb78b-ce18-4930-f821-1efb505f5c80"
      },
      "source": [
        "pivot.loc[1960, 'December']"
      ],
      "execution_count": 62,
      "outputs": [
        {
          "output_type": "execute_result",
          "data": {
            "text/plain": [
              "432"
            ]
          },
          "metadata": {
            "tags": []
          },
          "execution_count": 62
        }
      ]
    },
    {
      "cell_type": "markdown",
      "metadata": {
        "id": "mnOuqL9K0dqh",
        "colab_type": "text"
      },
      "source": [
        "## Join Data Stretch Challenge\n",
        "\n",
        "The [Instacart blog post](https://tech.instacart.com/3-million-instacart-orders-open-sourced-d40d29ead6f2) has a visualization of \"**Popular products** purchased earliest in the day (green) and latest in the day (red).\" \n",
        "\n",
        "The post says,\n",
        "\n",
        "> \"We can also see the time of day that users purchase specific products.\n",
        "\n",
        "> Healthier snacks and staples tend to be purchased earlier in the day, whereas ice cream (especially Half Baked and The Tonight Dough) are far more popular when customers are ordering in the evening.\n",
        "\n",
        "> **In fact, of the top 25 latest ordered products, the first 24 are ice cream! The last one, of course, is a frozen pizza.**\"\n",
        "\n",
        "Your challenge is to reproduce the list of the top 25 latest ordered popular products.\n",
        "\n",
        "We'll define \"popular products\" as products with more than 2,900 orders.\n",
        "\n"
      ]
    },
    {
      "cell_type": "markdown",
      "metadata": {
        "id": "WwwO9gcLCJUx",
        "colab_type": "text"
      },
      "source": [
        "DF orders has the 'order_hour_of_day' column but no product IDs or names, but does have order_id. The DF order_products has 'order_id' and 'product_id'. So I can merge orders with order_products using the order_id as the join point. Then I need to mege that with DF products, which has 'product_id' and 'product_name'.\n",
        "\n",
        "I need to produce a merged dataframe which contains 'order_id', 'order_hour_of_day', 'product_id', and 'product_name'.\n",
        "\n",
        "I'll need to group that by product_name so I can count how many orders end up in each group, and create a new dataframe containing the counts and the product names. \n",
        "\n",
        "I can select from that dataframe only the products with an order count higher than 2900.\n",
        "\n",
        "Then I will select for only those orders which were placed in the later half of the day. \n",
        "\n",
        "Then I want to find the products on that list in my second half of the day database and see which are the most popular.\n"
      ]
    },
    {
      "cell_type": "code",
      "metadata": {
        "id": "B-QNMrVkYap4",
        "colab_type": "code",
        "colab": {
          "base_uri": "https://localhost:8080/",
          "height": 204
        },
        "outputId": "f4e1565f-bd74-4046-c1fa-92a370e1572b"
      },
      "source": [
        "orders.head()"
      ],
      "execution_count": 63,
      "outputs": [
        {
          "output_type": "execute_result",
          "data": {
            "text/html": [
              "<div>\n",
              "<style scoped>\n",
              "    .dataframe tbody tr th:only-of-type {\n",
              "        vertical-align: middle;\n",
              "    }\n",
              "\n",
              "    .dataframe tbody tr th {\n",
              "        vertical-align: top;\n",
              "    }\n",
              "\n",
              "    .dataframe thead th {\n",
              "        text-align: right;\n",
              "    }\n",
              "</style>\n",
              "<table border=\"1\" class=\"dataframe\">\n",
              "  <thead>\n",
              "    <tr style=\"text-align: right;\">\n",
              "      <th></th>\n",
              "      <th>order_id</th>\n",
              "      <th>user_id</th>\n",
              "      <th>eval_set</th>\n",
              "      <th>order_number</th>\n",
              "      <th>order_dow</th>\n",
              "      <th>order_hour_of_day</th>\n",
              "      <th>days_since_prior_order</th>\n",
              "    </tr>\n",
              "  </thead>\n",
              "  <tbody>\n",
              "    <tr>\n",
              "      <th>0</th>\n",
              "      <td>2539329</td>\n",
              "      <td>1</td>\n",
              "      <td>prior</td>\n",
              "      <td>1</td>\n",
              "      <td>2</td>\n",
              "      <td>8</td>\n",
              "      <td>NaN</td>\n",
              "    </tr>\n",
              "    <tr>\n",
              "      <th>1</th>\n",
              "      <td>2398795</td>\n",
              "      <td>1</td>\n",
              "      <td>prior</td>\n",
              "      <td>2</td>\n",
              "      <td>3</td>\n",
              "      <td>7</td>\n",
              "      <td>15.0</td>\n",
              "    </tr>\n",
              "    <tr>\n",
              "      <th>2</th>\n",
              "      <td>473747</td>\n",
              "      <td>1</td>\n",
              "      <td>prior</td>\n",
              "      <td>3</td>\n",
              "      <td>3</td>\n",
              "      <td>12</td>\n",
              "      <td>21.0</td>\n",
              "    </tr>\n",
              "    <tr>\n",
              "      <th>3</th>\n",
              "      <td>2254736</td>\n",
              "      <td>1</td>\n",
              "      <td>prior</td>\n",
              "      <td>4</td>\n",
              "      <td>4</td>\n",
              "      <td>7</td>\n",
              "      <td>29.0</td>\n",
              "    </tr>\n",
              "    <tr>\n",
              "      <th>4</th>\n",
              "      <td>431534</td>\n",
              "      <td>1</td>\n",
              "      <td>prior</td>\n",
              "      <td>5</td>\n",
              "      <td>4</td>\n",
              "      <td>15</td>\n",
              "      <td>28.0</td>\n",
              "    </tr>\n",
              "  </tbody>\n",
              "</table>\n",
              "</div>"
            ],
            "text/plain": [
              "   order_id  user_id  ... order_hour_of_day  days_since_prior_order\n",
              "0   2539329        1  ...                 8                     NaN\n",
              "1   2398795        1  ...                 7                    15.0\n",
              "2    473747        1  ...                12                    21.0\n",
              "3   2254736        1  ...                 7                    29.0\n",
              "4    431534        1  ...                15                    28.0\n",
              "\n",
              "[5 rows x 7 columns]"
            ]
          },
          "metadata": {
            "tags": []
          },
          "execution_count": 63
        }
      ]
    },
    {
      "cell_type": "code",
      "metadata": {
        "id": "1H-Rat5VDKBs",
        "colab_type": "code",
        "colab": {
          "base_uri": "https://localhost:8080/",
          "height": 204
        },
        "outputId": "2e9a17ad-0657-41d1-c1e2-dbe55f853b81"
      },
      "source": [
        "order_products.head()"
      ],
      "execution_count": 64,
      "outputs": [
        {
          "output_type": "execute_result",
          "data": {
            "text/html": [
              "<div>\n",
              "<style scoped>\n",
              "    .dataframe tbody tr th:only-of-type {\n",
              "        vertical-align: middle;\n",
              "    }\n",
              "\n",
              "    .dataframe tbody tr th {\n",
              "        vertical-align: top;\n",
              "    }\n",
              "\n",
              "    .dataframe thead th {\n",
              "        text-align: right;\n",
              "    }\n",
              "</style>\n",
              "<table border=\"1\" class=\"dataframe\">\n",
              "  <thead>\n",
              "    <tr style=\"text-align: right;\">\n",
              "      <th></th>\n",
              "      <th>order_id</th>\n",
              "      <th>product_id</th>\n",
              "      <th>add_to_cart_order</th>\n",
              "      <th>reordered</th>\n",
              "    </tr>\n",
              "  </thead>\n",
              "  <tbody>\n",
              "    <tr>\n",
              "      <th>0</th>\n",
              "      <td>2</td>\n",
              "      <td>33120</td>\n",
              "      <td>1</td>\n",
              "      <td>1</td>\n",
              "    </tr>\n",
              "    <tr>\n",
              "      <th>1</th>\n",
              "      <td>2</td>\n",
              "      <td>28985</td>\n",
              "      <td>2</td>\n",
              "      <td>1</td>\n",
              "    </tr>\n",
              "    <tr>\n",
              "      <th>2</th>\n",
              "      <td>2</td>\n",
              "      <td>9327</td>\n",
              "      <td>3</td>\n",
              "      <td>0</td>\n",
              "    </tr>\n",
              "    <tr>\n",
              "      <th>3</th>\n",
              "      <td>2</td>\n",
              "      <td>45918</td>\n",
              "      <td>4</td>\n",
              "      <td>1</td>\n",
              "    </tr>\n",
              "    <tr>\n",
              "      <th>4</th>\n",
              "      <td>2</td>\n",
              "      <td>30035</td>\n",
              "      <td>5</td>\n",
              "      <td>0</td>\n",
              "    </tr>\n",
              "  </tbody>\n",
              "</table>\n",
              "</div>"
            ],
            "text/plain": [
              "   order_id  product_id  add_to_cart_order  reordered\n",
              "0         2       33120                  1          1\n",
              "1         2       28985                  2          1\n",
              "2         2        9327                  3          0\n",
              "3         2       45918                  4          1\n",
              "4         2       30035                  5          0"
            ]
          },
          "metadata": {
            "tags": []
          },
          "execution_count": 64
        }
      ]
    },
    {
      "cell_type": "code",
      "metadata": {
        "id": "E5hVeWy5I1ml",
        "colab_type": "code",
        "colab": {
          "base_uri": "https://localhost:8080/",
          "height": 204
        },
        "outputId": "896f93a0-8bb1-45cf-c0bd-1ab83f602a1e"
      },
      "source": [
        "products.head()"
      ],
      "execution_count": 65,
      "outputs": [
        {
          "output_type": "execute_result",
          "data": {
            "text/html": [
              "<div>\n",
              "<style scoped>\n",
              "    .dataframe tbody tr th:only-of-type {\n",
              "        vertical-align: middle;\n",
              "    }\n",
              "\n",
              "    .dataframe tbody tr th {\n",
              "        vertical-align: top;\n",
              "    }\n",
              "\n",
              "    .dataframe thead th {\n",
              "        text-align: right;\n",
              "    }\n",
              "</style>\n",
              "<table border=\"1\" class=\"dataframe\">\n",
              "  <thead>\n",
              "    <tr style=\"text-align: right;\">\n",
              "      <th></th>\n",
              "      <th>product_id</th>\n",
              "      <th>product_name</th>\n",
              "      <th>aisle_id</th>\n",
              "      <th>department_id</th>\n",
              "    </tr>\n",
              "  </thead>\n",
              "  <tbody>\n",
              "    <tr>\n",
              "      <th>0</th>\n",
              "      <td>1</td>\n",
              "      <td>Chocolate Sandwich Cookies</td>\n",
              "      <td>61</td>\n",
              "      <td>19</td>\n",
              "    </tr>\n",
              "    <tr>\n",
              "      <th>1</th>\n",
              "      <td>2</td>\n",
              "      <td>All-Seasons Salt</td>\n",
              "      <td>104</td>\n",
              "      <td>13</td>\n",
              "    </tr>\n",
              "    <tr>\n",
              "      <th>2</th>\n",
              "      <td>3</td>\n",
              "      <td>Robust Golden Unsweetened Oolong Tea</td>\n",
              "      <td>94</td>\n",
              "      <td>7</td>\n",
              "    </tr>\n",
              "    <tr>\n",
              "      <th>3</th>\n",
              "      <td>4</td>\n",
              "      <td>Smart Ones Classic Favorites Mini Rigatoni Wit...</td>\n",
              "      <td>38</td>\n",
              "      <td>1</td>\n",
              "    </tr>\n",
              "    <tr>\n",
              "      <th>4</th>\n",
              "      <td>5</td>\n",
              "      <td>Green Chile Anytime Sauce</td>\n",
              "      <td>5</td>\n",
              "      <td>13</td>\n",
              "    </tr>\n",
              "  </tbody>\n",
              "</table>\n",
              "</div>"
            ],
            "text/plain": [
              "   product_id  ... department_id\n",
              "0           1  ...            19\n",
              "1           2  ...            13\n",
              "2           3  ...             7\n",
              "3           4  ...             1\n",
              "4           5  ...            13\n",
              "\n",
              "[5 rows x 4 columns]"
            ]
          },
          "metadata": {
            "tags": []
          },
          "execution_count": 65
        }
      ]
    },
    {
      "cell_type": "code",
      "metadata": {
        "id": "_pTGNU2xGUNF",
        "colab_type": "code",
        "colab": {
          "base_uri": "https://localhost:8080/",
          "height": 204
        },
        "outputId": "e9ac89a0-3727-4164-bdf4-3b638cf89535"
      },
      "source": [
        "columns1 = ['order_id', 'order_hour_of_day']\n",
        "columns2 = ['order_id', 'product_id']\n",
        "columns3 = ['product_id', 'product_name']\n",
        "\n",
        "merged = pd.merge(orders[columns1], order_products[columns2], on='order_id')\n",
        "merged = pd.merge(merged, products[columns3], on='product_id')\n",
        "\n",
        "merged.head()"
      ],
      "execution_count": 66,
      "outputs": [
        {
          "output_type": "execute_result",
          "data": {
            "text/html": [
              "<div>\n",
              "<style scoped>\n",
              "    .dataframe tbody tr th:only-of-type {\n",
              "        vertical-align: middle;\n",
              "    }\n",
              "\n",
              "    .dataframe tbody tr th {\n",
              "        vertical-align: top;\n",
              "    }\n",
              "\n",
              "    .dataframe thead th {\n",
              "        text-align: right;\n",
              "    }\n",
              "</style>\n",
              "<table border=\"1\" class=\"dataframe\">\n",
              "  <thead>\n",
              "    <tr style=\"text-align: right;\">\n",
              "      <th></th>\n",
              "      <th>order_id</th>\n",
              "      <th>order_hour_of_day</th>\n",
              "      <th>product_id</th>\n",
              "      <th>product_name</th>\n",
              "    </tr>\n",
              "  </thead>\n",
              "  <tbody>\n",
              "    <tr>\n",
              "      <th>0</th>\n",
              "      <td>2539329</td>\n",
              "      <td>8</td>\n",
              "      <td>196</td>\n",
              "      <td>Soda</td>\n",
              "    </tr>\n",
              "    <tr>\n",
              "      <th>1</th>\n",
              "      <td>2398795</td>\n",
              "      <td>7</td>\n",
              "      <td>196</td>\n",
              "      <td>Soda</td>\n",
              "    </tr>\n",
              "    <tr>\n",
              "      <th>2</th>\n",
              "      <td>473747</td>\n",
              "      <td>12</td>\n",
              "      <td>196</td>\n",
              "      <td>Soda</td>\n",
              "    </tr>\n",
              "    <tr>\n",
              "      <th>3</th>\n",
              "      <td>2254736</td>\n",
              "      <td>7</td>\n",
              "      <td>196</td>\n",
              "      <td>Soda</td>\n",
              "    </tr>\n",
              "    <tr>\n",
              "      <th>4</th>\n",
              "      <td>431534</td>\n",
              "      <td>15</td>\n",
              "      <td>196</td>\n",
              "      <td>Soda</td>\n",
              "    </tr>\n",
              "  </tbody>\n",
              "</table>\n",
              "</div>"
            ],
            "text/plain": [
              "   order_id  order_hour_of_day  product_id product_name\n",
              "0   2539329                  8         196         Soda\n",
              "1   2398795                  7         196         Soda\n",
              "2    473747                 12         196         Soda\n",
              "3   2254736                  7         196         Soda\n",
              "4    431534                 15         196         Soda"
            ]
          },
          "metadata": {
            "tags": []
          },
          "execution_count": 66
        }
      ]
    },
    {
      "cell_type": "code",
      "metadata": {
        "id": "g7J8qybuMOHV",
        "colab_type": "code",
        "colab": {}
      },
      "source": [
        "grouped = merged.groupby('product_name')"
      ],
      "execution_count": 0,
      "outputs": []
    },
    {
      "cell_type": "code",
      "metadata": {
        "id": "RHD1p-zpNZTo",
        "colab_type": "code",
        "colab": {}
      },
      "source": [
        "groups_count = grouped['product_name'].count()\n"
      ],
      "execution_count": 0,
      "outputs": []
    },
    {
      "cell_type": "code",
      "metadata": {
        "id": "RCe-dtcCN6vC",
        "colab_type": "code",
        "colab": {}
      },
      "source": [
        "sorted_groups = groups_count.sort_values()  "
      ],
      "execution_count": 0,
      "outputs": []
    },
    {
      "cell_type": "code",
      "metadata": {
        "id": "82kuysvtOKK8",
        "colab_type": "code",
        "colab": {
          "base_uri": "https://localhost:8080/",
          "height": 1000
        },
        "outputId": "4da32737-5fb8-4e5a-c5e4-7e5874b1d830"
      },
      "source": [
        "condition = sorted_groups >=2900\n",
        "popular = sorted_groups[condition]\n",
        "popular"
      ],
      "execution_count": 70,
      "outputs": [
        {
          "output_type": "execute_result",
          "data": {
            "text/plain": [
              "product_name\n",
              "Organic Fiber & Protein Pear Blueberry & Spinach Baby Food      2900\n",
              "Smoked Apple Sage Sausages                                      2900\n",
              "3 lb Clementines                                                2901\n",
              "Whole Chia Seeds                                                2902\n",
              "Organic Spelt Tortillas                                         2902\n",
              "Stage 1 - Just Prunes                                           2902\n",
              "Creamy Deluxe Macaroni Dinner Elbows & Four Cheese Sauce        2905\n",
              "Organic Free Range Grade A Large Brown Eggs                     2908\n",
              "Chives                                                          2912\n",
              "Stage 2 Sweet Potato Corn & Apple Baby Food                     2912\n",
              "Vegetarian Refried Beans                                        2913\n",
              "Oh My Yog! Pacific Coast Strawberry Trilayer Yogurt             2913\n",
              "Lemon Cayenne Agave Cold Pressed Juice Beverage                 2913\n",
              "Asian Chopped Salad with Dressing                               2914\n",
              "Pomegranate Seeds                                               2914\n",
              "Yellow Corn Organic Tortillas                                   2916\n",
              "Organic Black Mission Figs                                      2918\n",
              "Organic Capellini                                               2919\n",
              "Plus Lotion Facial Tissues                                      2919\n",
              "Vanilla Ice Cream Sandwich                                      2921\n",
              "Organic Original Acai Berry + Guarana Smoothie Packs            2922\n",
              "Lemon-Lime Fridge Pack Soda                                     2922\n",
              "Almond Milk Hazelnut Creamer                                    2923\n",
              "Mini Peeled Carrots                                             2925\n",
              "Organic Avocados Hass Variety                                   2925\n",
              "Organic Quinoa Dark Chocolate Bar                               2925\n",
              "Stir-fry Rice Noodles                                           2926\n",
              "Single Serve Crispy Wheat Crackers                              2926\n",
              "Apple Apple Applesauce On The Go Pouches                        2930\n",
              "Traditional Italian Sauce                                       2931\n",
              "                                                               ...  \n",
              "Organic Gala Apples                                            75655\n",
              "Organic Baby Arugula                                           75752\n",
              "Yellow Onions                                                  76929\n",
              "Organic Large Extra Fancy Fuji Apple                           78056\n",
              "Organic Half & Half                                            79006\n",
              "Sparkling Water Grapefruit                                     79245\n",
              "Organic Baby Carrots                                           80493\n",
              "Honeycrisp Apple                                               83320\n",
              "Organic Cucumber                                               85005\n",
              "Seedless Red Grapes                                            86748\n",
              "Apple Honeycrisp Organic                                       87272\n",
              "Organic Grape Tomatoes                                         88078\n",
              "Organic Lemon                                                  91251\n",
              "Organic Fuji Apple                                             92889\n",
              "Cucumber Kirby                                                 99728\n",
              "Organic Blueberries                                           105026\n",
              "Organic Zucchini                                              109412\n",
              "Organic Garlic                                                113936\n",
              "Organic Yellow Onion                                          117716\n",
              "Organic Raspberries                                           142603\n",
              "Organic Whole Milk                                            142813\n",
              "Limes                                                         146660\n",
              "Strawberries                                                  149445\n",
              "Large Lemon                                                   160792\n",
              "Organic Avocado                                               184224\n",
              "Organic Hass Avocado                                          220877\n",
              "Organic Baby Spinach                                          251705\n",
              "Organic Strawberries                                          275577\n",
              "Bag of Organic Bananas                                        394930\n",
              "Banana                                                        491291\n",
              "Name: product_name, Length: 2053, dtype: int64"
            ]
          },
          "metadata": {
            "tags": []
          },
          "execution_count": 70
        }
      ]
    },
    {
      "cell_type": "code",
      "metadata": {
        "id": "l-4Z5n8hR7HC",
        "colab_type": "code",
        "colab": {
          "base_uri": "https://localhost:8080/",
          "height": 390
        },
        "outputId": "10514bf4-973d-4e8a-c032-9135559b6596"
      },
      "source": [
        "#but now that's a series, not a dataframe\n",
        "df_popular = pd.DataFrame({'product_counts' : pd.Series(popular)})\n",
        "df_popular.sample(10)"
      ],
      "execution_count": 71,
      "outputs": [
        {
          "output_type": "execute_result",
          "data": {
            "text/html": [
              "<div>\n",
              "<style scoped>\n",
              "    .dataframe tbody tr th:only-of-type {\n",
              "        vertical-align: middle;\n",
              "    }\n",
              "\n",
              "    .dataframe tbody tr th {\n",
              "        vertical-align: top;\n",
              "    }\n",
              "\n",
              "    .dataframe thead th {\n",
              "        text-align: right;\n",
              "    }\n",
              "</style>\n",
              "<table border=\"1\" class=\"dataframe\">\n",
              "  <thead>\n",
              "    <tr style=\"text-align: right;\">\n",
              "      <th></th>\n",
              "      <th>product_counts</th>\n",
              "    </tr>\n",
              "    <tr>\n",
              "      <th>product_name</th>\n",
              "      <th></th>\n",
              "    </tr>\n",
              "  </thead>\n",
              "  <tbody>\n",
              "    <tr>\n",
              "      <th>Mini Watermelon</th>\n",
              "      <td>3629</td>\n",
              "    </tr>\n",
              "    <tr>\n",
              "      <th>Fruit Punch Sports Drink</th>\n",
              "      <td>5494</td>\n",
              "    </tr>\n",
              "    <tr>\n",
              "      <th>Fat Free Blueberry Yogurt</th>\n",
              "      <td>7413</td>\n",
              "    </tr>\n",
              "    <tr>\n",
              "      <th>Unsalted Butter Quarters</th>\n",
              "      <td>3606</td>\n",
              "    </tr>\n",
              "    <tr>\n",
              "      <th>Stage 1 Apples Sweet Potatoes Pumpkin &amp; Blueberries Organic Pureed Baby Food</th>\n",
              "      <td>5727</td>\n",
              "    </tr>\n",
              "    <tr>\n",
              "      <th>2-Ply Right Size 100% Recycled Paper Towels</th>\n",
              "      <td>3567</td>\n",
              "    </tr>\n",
              "    <tr>\n",
              "      <th>Kombucha, Organic Raw, Citrus</th>\n",
              "      <td>4624</td>\n",
              "    </tr>\n",
              "    <tr>\n",
              "      <th>Organic Green Cabbage</th>\n",
              "      <td>22137</td>\n",
              "    </tr>\n",
              "    <tr>\n",
              "      <th>Instant Oatmeal Variety Pack</th>\n",
              "      <td>5122</td>\n",
              "    </tr>\n",
              "    <tr>\n",
              "      <th>Half &amp; Half</th>\n",
              "      <td>71641</td>\n",
              "    </tr>\n",
              "  </tbody>\n",
              "</table>\n",
              "</div>"
            ],
            "text/plain": [
              "                                                    product_counts\n",
              "product_name                                                      \n",
              "Mini Watermelon                                               3629\n",
              "Fruit Punch Sports Drink                                      5494\n",
              "Fat Free Blueberry Yogurt                                     7413\n",
              "Unsalted Butter Quarters                                      3606\n",
              "Stage 1 Apples Sweet Potatoes Pumpkin & Blueber...            5727\n",
              "2-Ply Right Size 100% Recycled Paper Towels                   3567\n",
              "Kombucha, Organic Raw, Citrus                                 4624\n",
              "Organic Green Cabbage                                        22137\n",
              "Instant Oatmeal Variety Pack                                  5122\n",
              "Half & Half                                                  71641"
            ]
          },
          "metadata": {
            "tags": []
          },
          "execution_count": 71
        }
      ]
    },
    {
      "cell_type": "markdown",
      "metadata": {
        "id": "E0kpO18-TP13",
        "colab_type": "text"
      },
      "source": [
        "So now df_popular is my dataframe of all products which are \"popular\" by the definition of >2900 orders. \n",
        "The next step is to find which of those popular products are ordered the latest in the day."
      ]
    },
    {
      "cell_type": "code",
      "metadata": {
        "id": "LbmPJg2sW6FD",
        "colab_type": "code",
        "colab": {}
      },
      "source": [
        "df_popular = df_popular.reset_index()"
      ],
      "execution_count": 0,
      "outputs": []
    },
    {
      "cell_type": "code",
      "metadata": {
        "id": "O2bOwNlITNjo",
        "colab_type": "code",
        "colab": {}
      },
      "source": [
        "condition = merged['product_name'].isin(df_popular['product_name'])"
      ],
      "execution_count": 0,
      "outputs": []
    },
    {
      "cell_type": "code",
      "metadata": {
        "id": "UFNxnsc4Z4p3",
        "colab_type": "code",
        "colab": {}
      },
      "source": [
        "only_popular = merged[condition]"
      ],
      "execution_count": 0,
      "outputs": []
    },
    {
      "cell_type": "code",
      "metadata": {
        "id": "DwWcUnGXgxyX",
        "colab_type": "code",
        "colab": {
          "base_uri": "https://localhost:8080/",
          "height": 204
        },
        "outputId": "20d12307-7cf7-44e6-9a7d-82be2f529f5d"
      },
      "source": [
        "only_popular.head()"
      ],
      "execution_count": 75,
      "outputs": [
        {
          "output_type": "execute_result",
          "data": {
            "text/html": [
              "<div>\n",
              "<style scoped>\n",
              "    .dataframe tbody tr th:only-of-type {\n",
              "        vertical-align: middle;\n",
              "    }\n",
              "\n",
              "    .dataframe tbody tr th {\n",
              "        vertical-align: top;\n",
              "    }\n",
              "\n",
              "    .dataframe thead th {\n",
              "        text-align: right;\n",
              "    }\n",
              "</style>\n",
              "<table border=\"1\" class=\"dataframe\">\n",
              "  <thead>\n",
              "    <tr style=\"text-align: right;\">\n",
              "      <th></th>\n",
              "      <th>order_id</th>\n",
              "      <th>order_hour_of_day</th>\n",
              "      <th>product_id</th>\n",
              "      <th>product_name</th>\n",
              "    </tr>\n",
              "  </thead>\n",
              "  <tbody>\n",
              "    <tr>\n",
              "      <th>0</th>\n",
              "      <td>2539329</td>\n",
              "      <td>8</td>\n",
              "      <td>196</td>\n",
              "      <td>Soda</td>\n",
              "    </tr>\n",
              "    <tr>\n",
              "      <th>1</th>\n",
              "      <td>2398795</td>\n",
              "      <td>7</td>\n",
              "      <td>196</td>\n",
              "      <td>Soda</td>\n",
              "    </tr>\n",
              "    <tr>\n",
              "      <th>2</th>\n",
              "      <td>473747</td>\n",
              "      <td>12</td>\n",
              "      <td>196</td>\n",
              "      <td>Soda</td>\n",
              "    </tr>\n",
              "    <tr>\n",
              "      <th>3</th>\n",
              "      <td>2254736</td>\n",
              "      <td>7</td>\n",
              "      <td>196</td>\n",
              "      <td>Soda</td>\n",
              "    </tr>\n",
              "    <tr>\n",
              "      <th>4</th>\n",
              "      <td>431534</td>\n",
              "      <td>15</td>\n",
              "      <td>196</td>\n",
              "      <td>Soda</td>\n",
              "    </tr>\n",
              "  </tbody>\n",
              "</table>\n",
              "</div>"
            ],
            "text/plain": [
              "   order_id  order_hour_of_day  product_id product_name\n",
              "0   2539329                  8         196         Soda\n",
              "1   2398795                  7         196         Soda\n",
              "2    473747                 12         196         Soda\n",
              "3   2254736                  7         196         Soda\n",
              "4    431534                 15         196         Soda"
            ]
          },
          "metadata": {
            "tags": []
          },
          "execution_count": 75
        }
      ]
    },
    {
      "cell_type": "code",
      "metadata": {
        "id": "EIyc5DZlhanz",
        "colab_type": "code",
        "colab": {
          "base_uri": "https://localhost:8080/",
          "height": 85
        },
        "outputId": "964cc40f-73f4-43a9-d30f-af32736c2869"
      },
      "source": [
        "only_popular.groupby('product_name').count().min()  #just checking that I selected right"
      ],
      "execution_count": 76,
      "outputs": [
        {
          "output_type": "execute_result",
          "data": {
            "text/plain": [
              "order_id             2900\n",
              "order_hour_of_day    2900\n",
              "product_id           2900\n",
              "dtype: int64"
            ]
          },
          "metadata": {
            "tags": []
          },
          "execution_count": 76
        }
      ]
    },
    {
      "cell_type": "code",
      "metadata": {
        "id": "B14FjFI4u5fx",
        "colab_type": "code",
        "colab": {}
      },
      "source": [
        "popular_time_avg = only_popular.groupby('product_name')['order_hour_of_day'].mean()"
      ],
      "execution_count": 0,
      "outputs": []
    },
    {
      "cell_type": "code",
      "metadata": {
        "id": "TLyRmyC1jzA8",
        "colab_type": "code",
        "colab": {
          "base_uri": "https://localhost:8080/",
          "height": 136
        },
        "outputId": "c3c5d523-366e-4786-ddd0-7db1ace7d642"
      },
      "source": [
        "popular_time_avg.head()"
      ],
      "execution_count": 78,
      "outputs": [
        {
          "output_type": "execute_result",
          "data": {
            "text/plain": [
              "product_name\n",
              "0% Fat Free Organic Milk    13.233899\n",
              "0% Greek Strained Yogurt    12.298806\n",
              "1 Liter                     13.696120\n",
              "1% Low Fat Milk             13.377029\n",
              "1% Lowfat Milk              13.285121\n",
              "Name: order_hour_of_day, dtype: float64"
            ]
          },
          "metadata": {
            "tags": []
          },
          "execution_count": 78
        }
      ]
    },
    {
      "cell_type": "code",
      "metadata": {
        "id": "hD2QYboZkPt4",
        "colab_type": "code",
        "colab": {}
      },
      "source": [
        "condition = popular_time_avg >= 12.0\n",
        "after_12 = popular_time_avg[condition]"
      ],
      "execution_count": 0,
      "outputs": []
    },
    {
      "cell_type": "code",
      "metadata": {
        "id": "ywvM61aIvq1A",
        "colab_type": "code",
        "colab": {
          "base_uri": "https://localhost:8080/",
          "height": 136
        },
        "outputId": "c7e7923f-5342-4288-a8db-402d5de7ef74"
      },
      "source": [
        "after_12.head()"
      ],
      "execution_count": 80,
      "outputs": [
        {
          "output_type": "execute_result",
          "data": {
            "text/plain": [
              "product_name\n",
              "0% Fat Free Organic Milk    13.233899\n",
              "0% Greek Strained Yogurt    12.298806\n",
              "1 Liter                     13.696120\n",
              "1% Low Fat Milk             13.377029\n",
              "1% Lowfat Milk              13.285121\n",
              "Name: order_hour_of_day, dtype: float64"
            ]
          },
          "metadata": {
            "tags": []
          },
          "execution_count": 80
        }
      ]
    },
    {
      "cell_type": "code",
      "metadata": {
        "id": "ZC__IR2IwkFI",
        "colab_type": "code",
        "colab": {}
      },
      "source": [
        "after_12 = pd.DataFrame({'avg_hour_of_day' : pd.Series(after_12)})"
      ],
      "execution_count": 0,
      "outputs": []
    },
    {
      "cell_type": "code",
      "metadata": {
        "id": "Y00NYx4HyHL-",
        "colab_type": "code",
        "colab": {}
      },
      "source": [
        "after_12 = after_12.reset_index()"
      ],
      "execution_count": 0,
      "outputs": []
    },
    {
      "cell_type": "code",
      "metadata": {
        "id": "uLnvaCYTzj6u",
        "colab_type": "code",
        "colab": {
          "base_uri": "https://localhost:8080/",
          "height": 204
        },
        "outputId": "16260c06-26ad-4790-da8c-05073d27ff15"
      },
      "source": [
        "after_12.head()"
      ],
      "execution_count": 90,
      "outputs": [
        {
          "output_type": "execute_result",
          "data": {
            "text/html": [
              "<div>\n",
              "<style scoped>\n",
              "    .dataframe tbody tr th:only-of-type {\n",
              "        vertical-align: middle;\n",
              "    }\n",
              "\n",
              "    .dataframe tbody tr th {\n",
              "        vertical-align: top;\n",
              "    }\n",
              "\n",
              "    .dataframe thead th {\n",
              "        text-align: right;\n",
              "    }\n",
              "</style>\n",
              "<table border=\"1\" class=\"dataframe\">\n",
              "  <thead>\n",
              "    <tr style=\"text-align: right;\">\n",
              "      <th></th>\n",
              "      <th>product_name</th>\n",
              "      <th>avg_hour_of_day</th>\n",
              "    </tr>\n",
              "  </thead>\n",
              "  <tbody>\n",
              "    <tr>\n",
              "      <th>0</th>\n",
              "      <td>0% Fat Free Organic Milk</td>\n",
              "      <td>13.233899</td>\n",
              "    </tr>\n",
              "    <tr>\n",
              "      <th>1</th>\n",
              "      <td>0% Greek Strained Yogurt</td>\n",
              "      <td>12.298806</td>\n",
              "    </tr>\n",
              "    <tr>\n",
              "      <th>2</th>\n",
              "      <td>1 Liter</td>\n",
              "      <td>13.696120</td>\n",
              "    </tr>\n",
              "    <tr>\n",
              "      <th>3</th>\n",
              "      <td>1% Low Fat Milk</td>\n",
              "      <td>13.377029</td>\n",
              "    </tr>\n",
              "    <tr>\n",
              "      <th>4</th>\n",
              "      <td>1% Lowfat Milk</td>\n",
              "      <td>13.285121</td>\n",
              "    </tr>\n",
              "  </tbody>\n",
              "</table>\n",
              "</div>"
            ],
            "text/plain": [
              "               product_name  avg_hour_of_day\n",
              "0  0% Fat Free Organic Milk        13.233899\n",
              "1  0% Greek Strained Yogurt        12.298806\n",
              "2                   1 Liter        13.696120\n",
              "3           1% Low Fat Milk        13.377029\n",
              "4            1% Lowfat Milk        13.285121"
            ]
          },
          "metadata": {
            "tags": []
          },
          "execution_count": 90
        }
      ]
    },
    {
      "cell_type": "markdown",
      "metadata": {
        "id": "Om5Ogrnh2Eyo",
        "colab_type": "text"
      },
      "source": [
        "####Everything after this is definitely still wrong but I'm too tired to figure it out now..."
      ]
    },
    {
      "cell_type": "code",
      "metadata": {
        "id": "YzVsnaVVww8s",
        "colab_type": "code",
        "colab": {}
      },
      "source": [
        "condition = only_popular['product_name'].isin(after_12['product_name']) == True\n",
        "pop_after_12 = only_popular[condition]"
      ],
      "execution_count": 0,
      "outputs": []
    },
    {
      "cell_type": "code",
      "metadata": {
        "id": "E14jt-sv1yxD",
        "colab_type": "code",
        "colab": {
          "base_uri": "https://localhost:8080/",
          "height": 1000
        },
        "outputId": "9b8d884d-be11-492c-af73-dff47601b61a"
      },
      "source": [
        "pop_after_12.sort_values('product_name')"
      ],
      "execution_count": 105,
      "outputs": [
        {
          "output_type": "execute_result",
          "data": {
            "text/html": [
              "<div>\n",
              "<style scoped>\n",
              "    .dataframe tbody tr th:only-of-type {\n",
              "        vertical-align: middle;\n",
              "    }\n",
              "\n",
              "    .dataframe tbody tr th {\n",
              "        vertical-align: top;\n",
              "    }\n",
              "\n",
              "    .dataframe thead th {\n",
              "        text-align: right;\n",
              "    }\n",
              "</style>\n",
              "<table border=\"1\" class=\"dataframe\">\n",
              "  <thead>\n",
              "    <tr style=\"text-align: right;\">\n",
              "      <th></th>\n",
              "      <th>order_id</th>\n",
              "      <th>order_hour_of_day</th>\n",
              "      <th>product_id</th>\n",
              "      <th>product_name</th>\n",
              "    </tr>\n",
              "  </thead>\n",
              "  <tbody>\n",
              "    <tr>\n",
              "      <th>14103407</th>\n",
              "      <td>653724</td>\n",
              "      <td>17</td>\n",
              "      <td>49517</td>\n",
              "      <td>0% Fat Free Organic Milk</td>\n",
              "    </tr>\n",
              "    <tr>\n",
              "      <th>14102540</th>\n",
              "      <td>2672682</td>\n",
              "      <td>19</td>\n",
              "      <td>49517</td>\n",
              "      <td>0% Fat Free Organic Milk</td>\n",
              "    </tr>\n",
              "    <tr>\n",
              "      <th>14102539</th>\n",
              "      <td>1215883</td>\n",
              "      <td>17</td>\n",
              "      <td>49517</td>\n",
              "      <td>0% Fat Free Organic Milk</td>\n",
              "    </tr>\n",
              "    <tr>\n",
              "      <th>14102538</th>\n",
              "      <td>1967880</td>\n",
              "      <td>21</td>\n",
              "      <td>49517</td>\n",
              "      <td>0% Fat Free Organic Milk</td>\n",
              "    </tr>\n",
              "    <tr>\n",
              "      <th>14102537</th>\n",
              "      <td>170573</td>\n",
              "      <td>11</td>\n",
              "      <td>49517</td>\n",
              "      <td>0% Fat Free Organic Milk</td>\n",
              "    </tr>\n",
              "    <tr>\n",
              "      <th>14102536</th>\n",
              "      <td>174410</td>\n",
              "      <td>9</td>\n",
              "      <td>49517</td>\n",
              "      <td>0% Fat Free Organic Milk</td>\n",
              "    </tr>\n",
              "    <tr>\n",
              "      <th>14102535</th>\n",
              "      <td>2887288</td>\n",
              "      <td>14</td>\n",
              "      <td>49517</td>\n",
              "      <td>0% Fat Free Organic Milk</td>\n",
              "    </tr>\n",
              "    <tr>\n",
              "      <th>14102534</th>\n",
              "      <td>2233663</td>\n",
              "      <td>23</td>\n",
              "      <td>49517</td>\n",
              "      <td>0% Fat Free Organic Milk</td>\n",
              "    </tr>\n",
              "    <tr>\n",
              "      <th>14102533</th>\n",
              "      <td>1530064</td>\n",
              "      <td>9</td>\n",
              "      <td>49517</td>\n",
              "      <td>0% Fat Free Organic Milk</td>\n",
              "    </tr>\n",
              "    <tr>\n",
              "      <th>14102532</th>\n",
              "      <td>195482</td>\n",
              "      <td>15</td>\n",
              "      <td>49517</td>\n",
              "      <td>0% Fat Free Organic Milk</td>\n",
              "    </tr>\n",
              "    <tr>\n",
              "      <th>14102531</th>\n",
              "      <td>2964225</td>\n",
              "      <td>9</td>\n",
              "      <td>49517</td>\n",
              "      <td>0% Fat Free Organic Milk</td>\n",
              "    </tr>\n",
              "    <tr>\n",
              "      <th>14102530</th>\n",
              "      <td>725916</td>\n",
              "      <td>20</td>\n",
              "      <td>49517</td>\n",
              "      <td>0% Fat Free Organic Milk</td>\n",
              "    </tr>\n",
              "    <tr>\n",
              "      <th>14102529</th>\n",
              "      <td>2967701</td>\n",
              "      <td>10</td>\n",
              "      <td>49517</td>\n",
              "      <td>0% Fat Free Organic Milk</td>\n",
              "    </tr>\n",
              "    <tr>\n",
              "      <th>14102528</th>\n",
              "      <td>1267868</td>\n",
              "      <td>18</td>\n",
              "      <td>49517</td>\n",
              "      <td>0% Fat Free Organic Milk</td>\n",
              "    </tr>\n",
              "    <tr>\n",
              "      <th>14102527</th>\n",
              "      <td>805242</td>\n",
              "      <td>8</td>\n",
              "      <td>49517</td>\n",
              "      <td>0% Fat Free Organic Milk</td>\n",
              "    </tr>\n",
              "    <tr>\n",
              "      <th>14102526</th>\n",
              "      <td>1163333</td>\n",
              "      <td>12</td>\n",
              "      <td>49517</td>\n",
              "      <td>0% Fat Free Organic Milk</td>\n",
              "    </tr>\n",
              "    <tr>\n",
              "      <th>14102525</th>\n",
              "      <td>1025970</td>\n",
              "      <td>16</td>\n",
              "      <td>49517</td>\n",
              "      <td>0% Fat Free Organic Milk</td>\n",
              "    </tr>\n",
              "    <tr>\n",
              "      <th>14102524</th>\n",
              "      <td>1518541</td>\n",
              "      <td>13</td>\n",
              "      <td>49517</td>\n",
              "      <td>0% Fat Free Organic Milk</td>\n",
              "    </tr>\n",
              "    <tr>\n",
              "      <th>14102523</th>\n",
              "      <td>1753274</td>\n",
              "      <td>7</td>\n",
              "      <td>49517</td>\n",
              "      <td>0% Fat Free Organic Milk</td>\n",
              "    </tr>\n",
              "    <tr>\n",
              "      <th>14102522</th>\n",
              "      <td>2207960</td>\n",
              "      <td>16</td>\n",
              "      <td>49517</td>\n",
              "      <td>0% Fat Free Organic Milk</td>\n",
              "    </tr>\n",
              "    <tr>\n",
              "      <th>14102521</th>\n",
              "      <td>1074198</td>\n",
              "      <td>10</td>\n",
              "      <td>49517</td>\n",
              "      <td>0% Fat Free Organic Milk</td>\n",
              "    </tr>\n",
              "    <tr>\n",
              "      <th>14102520</th>\n",
              "      <td>691725</td>\n",
              "      <td>22</td>\n",
              "      <td>49517</td>\n",
              "      <td>0% Fat Free Organic Milk</td>\n",
              "    </tr>\n",
              "    <tr>\n",
              "      <th>14102541</th>\n",
              "      <td>1834563</td>\n",
              "      <td>11</td>\n",
              "      <td>49517</td>\n",
              "      <td>0% Fat Free Organic Milk</td>\n",
              "    </tr>\n",
              "    <tr>\n",
              "      <th>14102542</th>\n",
              "      <td>271951</td>\n",
              "      <td>10</td>\n",
              "      <td>49517</td>\n",
              "      <td>0% Fat Free Organic Milk</td>\n",
              "    </tr>\n",
              "    <tr>\n",
              "      <th>14102543</th>\n",
              "      <td>901837</td>\n",
              "      <td>1</td>\n",
              "      <td>49517</td>\n",
              "      <td>0% Fat Free Organic Milk</td>\n",
              "    </tr>\n",
              "    <tr>\n",
              "      <th>14102544</th>\n",
              "      <td>3332265</td>\n",
              "      <td>12</td>\n",
              "      <td>49517</td>\n",
              "      <td>0% Fat Free Organic Milk</td>\n",
              "    </tr>\n",
              "    <tr>\n",
              "      <th>14102566</th>\n",
              "      <td>1092508</td>\n",
              "      <td>8</td>\n",
              "      <td>49517</td>\n",
              "      <td>0% Fat Free Organic Milk</td>\n",
              "    </tr>\n",
              "    <tr>\n",
              "      <th>14102565</th>\n",
              "      <td>3330884</td>\n",
              "      <td>19</td>\n",
              "      <td>49517</td>\n",
              "      <td>0% Fat Free Organic Milk</td>\n",
              "    </tr>\n",
              "    <tr>\n",
              "      <th>14102564</th>\n",
              "      <td>1375761</td>\n",
              "      <td>10</td>\n",
              "      <td>49517</td>\n",
              "      <td>0% Fat Free Organic Milk</td>\n",
              "    </tr>\n",
              "    <tr>\n",
              "      <th>14102563</th>\n",
              "      <td>795601</td>\n",
              "      <td>11</td>\n",
              "      <td>49517</td>\n",
              "      <td>0% Fat Free Organic Milk</td>\n",
              "    </tr>\n",
              "    <tr>\n",
              "      <th>...</th>\n",
              "      <td>...</td>\n",
              "      <td>...</td>\n",
              "      <td>...</td>\n",
              "      <td>...</td>\n",
              "    </tr>\n",
              "    <tr>\n",
              "      <th>29061714</th>\n",
              "      <td>2249588</td>\n",
              "      <td>12</td>\n",
              "      <td>13042</td>\n",
              "      <td>with Crispy Almonds Cereal</td>\n",
              "    </tr>\n",
              "    <tr>\n",
              "      <th>29061713</th>\n",
              "      <td>1787493</td>\n",
              "      <td>10</td>\n",
              "      <td>13042</td>\n",
              "      <td>with Crispy Almonds Cereal</td>\n",
              "    </tr>\n",
              "    <tr>\n",
              "      <th>29061712</th>\n",
              "      <td>1914903</td>\n",
              "      <td>12</td>\n",
              "      <td>13042</td>\n",
              "      <td>with Crispy Almonds Cereal</td>\n",
              "    </tr>\n",
              "    <tr>\n",
              "      <th>29061711</th>\n",
              "      <td>1892162</td>\n",
              "      <td>12</td>\n",
              "      <td>13042</td>\n",
              "      <td>with Crispy Almonds Cereal</td>\n",
              "    </tr>\n",
              "    <tr>\n",
              "      <th>29061710</th>\n",
              "      <td>1847675</td>\n",
              "      <td>10</td>\n",
              "      <td>13042</td>\n",
              "      <td>with Crispy Almonds Cereal</td>\n",
              "    </tr>\n",
              "    <tr>\n",
              "      <th>29061709</th>\n",
              "      <td>2041275</td>\n",
              "      <td>15</td>\n",
              "      <td>13042</td>\n",
              "      <td>with Crispy Almonds Cereal</td>\n",
              "    </tr>\n",
              "    <tr>\n",
              "      <th>29061708</th>\n",
              "      <td>1189924</td>\n",
              "      <td>13</td>\n",
              "      <td>13042</td>\n",
              "      <td>with Crispy Almonds Cereal</td>\n",
              "    </tr>\n",
              "    <tr>\n",
              "      <th>29061707</th>\n",
              "      <td>2302284</td>\n",
              "      <td>14</td>\n",
              "      <td>13042</td>\n",
              "      <td>with Crispy Almonds Cereal</td>\n",
              "    </tr>\n",
              "    <tr>\n",
              "      <th>29061722</th>\n",
              "      <td>1012825</td>\n",
              "      <td>12</td>\n",
              "      <td>13042</td>\n",
              "      <td>with Crispy Almonds Cereal</td>\n",
              "    </tr>\n",
              "    <tr>\n",
              "      <th>29061723</th>\n",
              "      <td>2142827</td>\n",
              "      <td>12</td>\n",
              "      <td>13042</td>\n",
              "      <td>with Crispy Almonds Cereal</td>\n",
              "    </tr>\n",
              "    <tr>\n",
              "      <th>29061724</th>\n",
              "      <td>2881374</td>\n",
              "      <td>12</td>\n",
              "      <td>13042</td>\n",
              "      <td>with Crispy Almonds Cereal</td>\n",
              "    </tr>\n",
              "    <tr>\n",
              "      <th>29061725</th>\n",
              "      <td>2848666</td>\n",
              "      <td>9</td>\n",
              "      <td>13042</td>\n",
              "      <td>with Crispy Almonds Cereal</td>\n",
              "    </tr>\n",
              "    <tr>\n",
              "      <th>29061741</th>\n",
              "      <td>181611</td>\n",
              "      <td>11</td>\n",
              "      <td>13042</td>\n",
              "      <td>with Crispy Almonds Cereal</td>\n",
              "    </tr>\n",
              "    <tr>\n",
              "      <th>29061740</th>\n",
              "      <td>2931520</td>\n",
              "      <td>17</td>\n",
              "      <td>13042</td>\n",
              "      <td>with Crispy Almonds Cereal</td>\n",
              "    </tr>\n",
              "    <tr>\n",
              "      <th>29061739</th>\n",
              "      <td>1532303</td>\n",
              "      <td>20</td>\n",
              "      <td>13042</td>\n",
              "      <td>with Crispy Almonds Cereal</td>\n",
              "    </tr>\n",
              "    <tr>\n",
              "      <th>29061738</th>\n",
              "      <td>904472</td>\n",
              "      <td>14</td>\n",
              "      <td>13042</td>\n",
              "      <td>with Crispy Almonds Cereal</td>\n",
              "    </tr>\n",
              "    <tr>\n",
              "      <th>29061737</th>\n",
              "      <td>2176668</td>\n",
              "      <td>16</td>\n",
              "      <td>13042</td>\n",
              "      <td>with Crispy Almonds Cereal</td>\n",
              "    </tr>\n",
              "    <tr>\n",
              "      <th>29061736</th>\n",
              "      <td>165733</td>\n",
              "      <td>16</td>\n",
              "      <td>13042</td>\n",
              "      <td>with Crispy Almonds Cereal</td>\n",
              "    </tr>\n",
              "    <tr>\n",
              "      <th>29061735</th>\n",
              "      <td>2987773</td>\n",
              "      <td>12</td>\n",
              "      <td>13042</td>\n",
              "      <td>with Crispy Almonds Cereal</td>\n",
              "    </tr>\n",
              "    <tr>\n",
              "      <th>29061705</th>\n",
              "      <td>1811306</td>\n",
              "      <td>9</td>\n",
              "      <td>13042</td>\n",
              "      <td>with Crispy Almonds Cereal</td>\n",
              "    </tr>\n",
              "    <tr>\n",
              "      <th>29061734</th>\n",
              "      <td>1164304</td>\n",
              "      <td>10</td>\n",
              "      <td>13042</td>\n",
              "      <td>with Crispy Almonds Cereal</td>\n",
              "    </tr>\n",
              "    <tr>\n",
              "      <th>29061732</th>\n",
              "      <td>1741623</td>\n",
              "      <td>11</td>\n",
              "      <td>13042</td>\n",
              "      <td>with Crispy Almonds Cereal</td>\n",
              "    </tr>\n",
              "    <tr>\n",
              "      <th>29061731</th>\n",
              "      <td>388752</td>\n",
              "      <td>15</td>\n",
              "      <td>13042</td>\n",
              "      <td>with Crispy Almonds Cereal</td>\n",
              "    </tr>\n",
              "    <tr>\n",
              "      <th>29061730</th>\n",
              "      <td>3386316</td>\n",
              "      <td>11</td>\n",
              "      <td>13042</td>\n",
              "      <td>with Crispy Almonds Cereal</td>\n",
              "    </tr>\n",
              "    <tr>\n",
              "      <th>29061729</th>\n",
              "      <td>981155</td>\n",
              "      <td>8</td>\n",
              "      <td>13042</td>\n",
              "      <td>with Crispy Almonds Cereal</td>\n",
              "    </tr>\n",
              "    <tr>\n",
              "      <th>29061728</th>\n",
              "      <td>1550998</td>\n",
              "      <td>10</td>\n",
              "      <td>13042</td>\n",
              "      <td>with Crispy Almonds Cereal</td>\n",
              "    </tr>\n",
              "    <tr>\n",
              "      <th>29061727</th>\n",
              "      <td>3246591</td>\n",
              "      <td>9</td>\n",
              "      <td>13042</td>\n",
              "      <td>with Crispy Almonds Cereal</td>\n",
              "    </tr>\n",
              "    <tr>\n",
              "      <th>29061726</th>\n",
              "      <td>9153</td>\n",
              "      <td>9</td>\n",
              "      <td>13042</td>\n",
              "      <td>with Crispy Almonds Cereal</td>\n",
              "    </tr>\n",
              "    <tr>\n",
              "      <th>29061733</th>\n",
              "      <td>2877223</td>\n",
              "      <td>13</td>\n",
              "      <td>13042</td>\n",
              "      <td>with Crispy Almonds Cereal</td>\n",
              "    </tr>\n",
              "    <tr>\n",
              "      <th>29061756</th>\n",
              "      <td>797045</td>\n",
              "      <td>15</td>\n",
              "      <td>13042</td>\n",
              "      <td>with Crispy Almonds Cereal</td>\n",
              "    </tr>\n",
              "  </tbody>\n",
              "</table>\n",
              "<p>22449353 rows × 4 columns</p>\n",
              "</div>"
            ],
            "text/plain": [
              "          order_id  order_hour_of_day  product_id                product_name\n",
              "14103407    653724                 17       49517    0% Fat Free Organic Milk\n",
              "14102540   2672682                 19       49517    0% Fat Free Organic Milk\n",
              "14102539   1215883                 17       49517    0% Fat Free Organic Milk\n",
              "14102538   1967880                 21       49517    0% Fat Free Organic Milk\n",
              "14102537    170573                 11       49517    0% Fat Free Organic Milk\n",
              "14102536    174410                  9       49517    0% Fat Free Organic Milk\n",
              "14102535   2887288                 14       49517    0% Fat Free Organic Milk\n",
              "14102534   2233663                 23       49517    0% Fat Free Organic Milk\n",
              "14102533   1530064                  9       49517    0% Fat Free Organic Milk\n",
              "14102532    195482                 15       49517    0% Fat Free Organic Milk\n",
              "14102531   2964225                  9       49517    0% Fat Free Organic Milk\n",
              "14102530    725916                 20       49517    0% Fat Free Organic Milk\n",
              "14102529   2967701                 10       49517    0% Fat Free Organic Milk\n",
              "14102528   1267868                 18       49517    0% Fat Free Organic Milk\n",
              "14102527    805242                  8       49517    0% Fat Free Organic Milk\n",
              "14102526   1163333                 12       49517    0% Fat Free Organic Milk\n",
              "14102525   1025970                 16       49517    0% Fat Free Organic Milk\n",
              "14102524   1518541                 13       49517    0% Fat Free Organic Milk\n",
              "14102523   1753274                  7       49517    0% Fat Free Organic Milk\n",
              "14102522   2207960                 16       49517    0% Fat Free Organic Milk\n",
              "14102521   1074198                 10       49517    0% Fat Free Organic Milk\n",
              "14102520    691725                 22       49517    0% Fat Free Organic Milk\n",
              "14102541   1834563                 11       49517    0% Fat Free Organic Milk\n",
              "14102542    271951                 10       49517    0% Fat Free Organic Milk\n",
              "14102543    901837                  1       49517    0% Fat Free Organic Milk\n",
              "14102544   3332265                 12       49517    0% Fat Free Organic Milk\n",
              "14102566   1092508                  8       49517    0% Fat Free Organic Milk\n",
              "14102565   3330884                 19       49517    0% Fat Free Organic Milk\n",
              "14102564   1375761                 10       49517    0% Fat Free Organic Milk\n",
              "14102563    795601                 11       49517    0% Fat Free Organic Milk\n",
              "...            ...                ...         ...                         ...\n",
              "29061714   2249588                 12       13042  with Crispy Almonds Cereal\n",
              "29061713   1787493                 10       13042  with Crispy Almonds Cereal\n",
              "29061712   1914903                 12       13042  with Crispy Almonds Cereal\n",
              "29061711   1892162                 12       13042  with Crispy Almonds Cereal\n",
              "29061710   1847675                 10       13042  with Crispy Almonds Cereal\n",
              "29061709   2041275                 15       13042  with Crispy Almonds Cereal\n",
              "29061708   1189924                 13       13042  with Crispy Almonds Cereal\n",
              "29061707   2302284                 14       13042  with Crispy Almonds Cereal\n",
              "29061722   1012825                 12       13042  with Crispy Almonds Cereal\n",
              "29061723   2142827                 12       13042  with Crispy Almonds Cereal\n",
              "29061724   2881374                 12       13042  with Crispy Almonds Cereal\n",
              "29061725   2848666                  9       13042  with Crispy Almonds Cereal\n",
              "29061741    181611                 11       13042  with Crispy Almonds Cereal\n",
              "29061740   2931520                 17       13042  with Crispy Almonds Cereal\n",
              "29061739   1532303                 20       13042  with Crispy Almonds Cereal\n",
              "29061738    904472                 14       13042  with Crispy Almonds Cereal\n",
              "29061737   2176668                 16       13042  with Crispy Almonds Cereal\n",
              "29061736    165733                 16       13042  with Crispy Almonds Cereal\n",
              "29061735   2987773                 12       13042  with Crispy Almonds Cereal\n",
              "29061705   1811306                  9       13042  with Crispy Almonds Cereal\n",
              "29061734   1164304                 10       13042  with Crispy Almonds Cereal\n",
              "29061732   1741623                 11       13042  with Crispy Almonds Cereal\n",
              "29061731    388752                 15       13042  with Crispy Almonds Cereal\n",
              "29061730   3386316                 11       13042  with Crispy Almonds Cereal\n",
              "29061729    981155                  8       13042  with Crispy Almonds Cereal\n",
              "29061728   1550998                 10       13042  with Crispy Almonds Cereal\n",
              "29061727   3246591                  9       13042  with Crispy Almonds Cereal\n",
              "29061726      9153                  9       13042  with Crispy Almonds Cereal\n",
              "29061733   2877223                 13       13042  with Crispy Almonds Cereal\n",
              "29061756    797045                 15       13042  with Crispy Almonds Cereal\n",
              "\n",
              "[22449353 rows x 4 columns]"
            ]
          },
          "metadata": {
            "tags": []
          },
          "execution_count": 105
        }
      ]
    },
    {
      "cell_type": "code",
      "metadata": {
        "id": "ZFx2VJi7xMhM",
        "colab_type": "code",
        "colab": {}
      },
      "source": [
        "groups = pop_after_12.groupby('product_name')\n",
        "counts = groups['product_name'].count()"
      ],
      "execution_count": 0,
      "outputs": []
    },
    {
      "cell_type": "code",
      "metadata": {
        "id": "vjXZJiic0yA4",
        "colab_type": "code",
        "colab": {
          "base_uri": "https://localhost:8080/",
          "height": 1000
        },
        "outputId": "2f4a484d-f81d-41e4-beaa-86e510760bb2"
      },
      "source": [
        "counts.sort_values(ascending=False)"
      ],
      "execution_count": 102,
      "outputs": [
        {
          "output_type": "execute_result",
          "data": {
            "text/plain": [
              "product_name\n",
              "Banana                                                        491291\n",
              "Bag of Organic Bananas                                        394930\n",
              "Organic Strawberries                                          275577\n",
              "Organic Baby Spinach                                          251705\n",
              "Organic Hass Avocado                                          220877\n",
              "Organic Avocado                                               184224\n",
              "Large Lemon                                                   160792\n",
              "Strawberries                                                  149445\n",
              "Limes                                                         146660\n",
              "Organic Whole Milk                                            142813\n",
              "Organic Raspberries                                           142603\n",
              "Organic Yellow Onion                                          117716\n",
              "Organic Garlic                                                113936\n",
              "Organic Zucchini                                              109412\n",
              "Organic Blueberries                                           105026\n",
              "Cucumber Kirby                                                 99728\n",
              "Organic Fuji Apple                                             92889\n",
              "Organic Lemon                                                  91251\n",
              "Organic Grape Tomatoes                                         88078\n",
              "Apple Honeycrisp Organic                                       87272\n",
              "Seedless Red Grapes                                            86748\n",
              "Organic Cucumber                                               85005\n",
              "Honeycrisp Apple                                               83320\n",
              "Organic Baby Carrots                                           80493\n",
              "Sparkling Water Grapefruit                                     79245\n",
              "Organic Half & Half                                            79006\n",
              "Organic Large Extra Fancy Fuji Apple                           78056\n",
              "Yellow Onions                                                  76929\n",
              "Organic Baby Arugula                                           75752\n",
              "Organic Gala Apples                                            75655\n",
              "                                                               ...  \n",
              "Traditional Italian Sauce                                       2931\n",
              "Apple Apple Applesauce On The Go Pouches                        2930\n",
              "Stir-fry Rice Noodles                                           2926\n",
              "Single Serve Crispy Wheat Crackers                              2926\n",
              "Organic Quinoa Dark Chocolate Bar                               2925\n",
              "Mini Peeled Carrots                                             2925\n",
              "Organic Avocados Hass Variety                                   2925\n",
              "Almond Milk Hazelnut Creamer                                    2923\n",
              "Lemon-Lime Fridge Pack Soda                                     2922\n",
              "Organic Original Acai Berry + Guarana Smoothie Packs            2922\n",
              "Vanilla Ice Cream Sandwich                                      2921\n",
              "Organic Capellini                                               2919\n",
              "Plus Lotion Facial Tissues                                      2919\n",
              "Organic Black Mission Figs                                      2918\n",
              "Yellow Corn Organic Tortillas                                   2916\n",
              "Asian Chopped Salad with Dressing                               2914\n",
              "Pomegranate Seeds                                               2914\n",
              "Oh My Yog! Pacific Coast Strawberry Trilayer Yogurt             2913\n",
              "Vegetarian Refried Beans                                        2913\n",
              "Lemon Cayenne Agave Cold Pressed Juice Beverage                 2913\n",
              "Stage 2 Sweet Potato Corn & Apple Baby Food                     2912\n",
              "Chives                                                          2912\n",
              "Organic Free Range Grade A Large Brown Eggs                     2908\n",
              "Creamy Deluxe Macaroni Dinner Elbows & Four Cheese Sauce        2905\n",
              "Organic Spelt Tortillas                                         2902\n",
              "Whole Chia Seeds                                                2902\n",
              "Stage 1 - Just Prunes                                           2902\n",
              "3 lb Clementines                                                2901\n",
              "Organic Fiber & Protein Pear Blueberry & Spinach Baby Food      2900\n",
              "Smoked Apple Sage Sausages                                      2900\n",
              "Name: product_name, Length: 2051, dtype: int64"
            ]
          },
          "metadata": {
            "tags": []
          },
          "execution_count": 102
        }
      ]
    },
    {
      "cell_type": "code",
      "metadata": {
        "id": "bbAoxQrD0lI9",
        "colab_type": "code",
        "colab": {
          "base_uri": "https://localhost:8080/",
          "height": 1000
        },
        "outputId": "33c639fd-77dc-4898-81d4-eb33a856f03f"
      },
      "source": [
        ""
      ],
      "execution_count": 93,
      "outputs": [
        {
          "output_type": "execute_result",
          "data": {
            "text/html": [
              "<div>\n",
              "<style scoped>\n",
              "    .dataframe tbody tr th:only-of-type {\n",
              "        vertical-align: middle;\n",
              "    }\n",
              "\n",
              "    .dataframe tbody tr th {\n",
              "        vertical-align: top;\n",
              "    }\n",
              "\n",
              "    .dataframe thead th {\n",
              "        text-align: right;\n",
              "    }\n",
              "</style>\n",
              "<table border=\"1\" class=\"dataframe\">\n",
              "  <thead>\n",
              "    <tr style=\"text-align: right;\">\n",
              "      <th></th>\n",
              "      <th>order_id</th>\n",
              "      <th>order_hour_of_day</th>\n",
              "      <th>product_id</th>\n",
              "    </tr>\n",
              "    <tr>\n",
              "      <th>product_name</th>\n",
              "      <th></th>\n",
              "      <th></th>\n",
              "      <th></th>\n",
              "    </tr>\n",
              "  </thead>\n",
              "  <tbody>\n",
              "    <tr>\n",
              "      <th>0% Fat Free Organic Milk</th>\n",
              "      <td>4006</td>\n",
              "      <td>4006</td>\n",
              "      <td>4006</td>\n",
              "    </tr>\n",
              "    <tr>\n",
              "      <th>0% Greek Strained Yogurt</th>\n",
              "      <td>13651</td>\n",
              "      <td>13651</td>\n",
              "      <td>13651</td>\n",
              "    </tr>\n",
              "    <tr>\n",
              "      <th>1 Liter</th>\n",
              "      <td>4278</td>\n",
              "      <td>4278</td>\n",
              "      <td>4278</td>\n",
              "    </tr>\n",
              "    <tr>\n",
              "      <th>1% Low Fat Milk</th>\n",
              "      <td>8933</td>\n",
              "      <td>8933</td>\n",
              "      <td>8933</td>\n",
              "    </tr>\n",
              "    <tr>\n",
              "      <th>1% Lowfat Milk</th>\n",
              "      <td>14692</td>\n",
              "      <td>14692</td>\n",
              "      <td>14692</td>\n",
              "    </tr>\n",
              "    <tr>\n",
              "      <th>100 Calorie  Per Bag Popcorn</th>\n",
              "      <td>13374</td>\n",
              "      <td>13374</td>\n",
              "      <td>13374</td>\n",
              "    </tr>\n",
              "    <tr>\n",
              "      <th>100% Apple Juice</th>\n",
              "      <td>5717</td>\n",
              "      <td>5717</td>\n",
              "      <td>5717</td>\n",
              "    </tr>\n",
              "    <tr>\n",
              "      <th>100% Cranberry Juice</th>\n",
              "      <td>4871</td>\n",
              "      <td>4871</td>\n",
              "      <td>4871</td>\n",
              "    </tr>\n",
              "    <tr>\n",
              "      <th>100% Grated Parmesan Cheese</th>\n",
              "      <td>6080</td>\n",
              "      <td>6080</td>\n",
              "      <td>6080</td>\n",
              "    </tr>\n",
              "    <tr>\n",
              "      <th>100% Lactose Free Fat Free Milk</th>\n",
              "      <td>7556</td>\n",
              "      <td>7556</td>\n",
              "      <td>7556</td>\n",
              "    </tr>\n",
              "    <tr>\n",
              "      <th>100% Lactose Free Reduced Fat Calcium Enriched Milk</th>\n",
              "      <td>3377</td>\n",
              "      <td>3377</td>\n",
              "      <td>3377</td>\n",
              "    </tr>\n",
              "    <tr>\n",
              "      <th>100% Lemon Juice</th>\n",
              "      <td>4447</td>\n",
              "      <td>4447</td>\n",
              "      <td>4447</td>\n",
              "    </tr>\n",
              "    <tr>\n",
              "      <th>100% Natural Spring Water</th>\n",
              "      <td>7292</td>\n",
              "      <td>7292</td>\n",
              "      <td>7292</td>\n",
              "    </tr>\n",
              "    <tr>\n",
              "      <th>100% Natural Tomato Sauce</th>\n",
              "      <td>3131</td>\n",
              "      <td>3131</td>\n",
              "      <td>3131</td>\n",
              "    </tr>\n",
              "    <tr>\n",
              "      <th>100% Oatnut Bread</th>\n",
              "      <td>2998</td>\n",
              "      <td>2998</td>\n",
              "      <td>2998</td>\n",
              "    </tr>\n",
              "    <tr>\n",
              "      <th>100% Pure Apple Juice</th>\n",
              "      <td>5581</td>\n",
              "      <td>5581</td>\n",
              "      <td>5581</td>\n",
              "    </tr>\n",
              "    <tr>\n",
              "      <th>100% Pure Pumpkin</th>\n",
              "      <td>8725</td>\n",
              "      <td>8725</td>\n",
              "      <td>8725</td>\n",
              "    </tr>\n",
              "    <tr>\n",
              "      <th>100% Raw Coconut Water</th>\n",
              "      <td>39271</td>\n",
              "      <td>39271</td>\n",
              "      <td>39271</td>\n",
              "    </tr>\n",
              "    <tr>\n",
              "      <th>100% Recycled 2 Ply Jumbo Paper Towel Roll</th>\n",
              "      <td>3862</td>\n",
              "      <td>3862</td>\n",
              "      <td>3862</td>\n",
              "    </tr>\n",
              "    <tr>\n",
              "      <th>100% Recycled Aluminum Foil</th>\n",
              "      <td>3409</td>\n",
              "      <td>3409</td>\n",
              "      <td>3409</td>\n",
              "    </tr>\n",
              "    <tr>\n",
              "      <th>100% Recycled Bath Tissue Rolls</th>\n",
              "      <td>5156</td>\n",
              "      <td>5156</td>\n",
              "      <td>5156</td>\n",
              "    </tr>\n",
              "    <tr>\n",
              "      <th>100% Recycled Bathroom Tissue</th>\n",
              "      <td>7546</td>\n",
              "      <td>7546</td>\n",
              "      <td>7546</td>\n",
              "    </tr>\n",
              "    <tr>\n",
              "      <th>100% Recycled Paper Towels</th>\n",
              "      <td>29047</td>\n",
              "      <td>29047</td>\n",
              "      <td>29047</td>\n",
              "    </tr>\n",
              "    <tr>\n",
              "      <th>100% Recycled White Paper Towels</th>\n",
              "      <td>3401</td>\n",
              "      <td>3401</td>\n",
              "      <td>3401</td>\n",
              "    </tr>\n",
              "    <tr>\n",
              "      <th>100% Whole Wheat Bread</th>\n",
              "      <td>63114</td>\n",
              "      <td>63114</td>\n",
              "      <td>63114</td>\n",
              "    </tr>\n",
              "    <tr>\n",
              "      <th>2% Reduced Fat DHA Omega-3 Reduced Fat Milk</th>\n",
              "      <td>13972</td>\n",
              "      <td>13972</td>\n",
              "      <td>13972</td>\n",
              "    </tr>\n",
              "    <tr>\n",
              "      <th>2% Reduced Fat Milk</th>\n",
              "      <td>38631</td>\n",
              "      <td>38631</td>\n",
              "      <td>38631</td>\n",
              "    </tr>\n",
              "    <tr>\n",
              "      <th>2% Reduced Fat Organic Milk</th>\n",
              "      <td>17042</td>\n",
              "      <td>17042</td>\n",
              "      <td>17042</td>\n",
              "    </tr>\n",
              "    <tr>\n",
              "      <th>2-Ply 100% Recycled Bathroom Tissue</th>\n",
              "      <td>3942</td>\n",
              "      <td>3942</td>\n",
              "      <td>3942</td>\n",
              "    </tr>\n",
              "    <tr>\n",
              "      <th>2-Ply Right Size 100% Recycled Paper Towels</th>\n",
              "      <td>3567</td>\n",
              "      <td>3567</td>\n",
              "      <td>3567</td>\n",
              "    </tr>\n",
              "    <tr>\n",
              "      <th>...</th>\n",
              "      <td>...</td>\n",
              "      <td>...</td>\n",
              "      <td>...</td>\n",
              "    </tr>\n",
              "    <tr>\n",
              "      <th>World Cuisine Certified Halal Chicken Tikka Masala With Basmati Rice</th>\n",
              "      <td>3080</td>\n",
              "      <td>3080</td>\n",
              "      <td>3080</td>\n",
              "    </tr>\n",
              "    <tr>\n",
              "      <th>XL Emerald White Seedless Grapes</th>\n",
              "      <td>16375</td>\n",
              "      <td>16375</td>\n",
              "      <td>16375</td>\n",
              "    </tr>\n",
              "    <tr>\n",
              "      <th>Yellow Bell Pepper</th>\n",
              "      <td>26625</td>\n",
              "      <td>26625</td>\n",
              "      <td>26625</td>\n",
              "    </tr>\n",
              "    <tr>\n",
              "      <th>Yellow Corn Organic Tortillas</th>\n",
              "      <td>2916</td>\n",
              "      <td>2916</td>\n",
              "      <td>2916</td>\n",
              "    </tr>\n",
              "    <tr>\n",
              "      <th>Yellow Grape Tomatoes</th>\n",
              "      <td>7903</td>\n",
              "      <td>7903</td>\n",
              "      <td>7903</td>\n",
              "    </tr>\n",
              "    <tr>\n",
              "      <th>Yellow Onions</th>\n",
              "      <td>76929</td>\n",
              "      <td>76929</td>\n",
              "      <td>76929</td>\n",
              "    </tr>\n",
              "    <tr>\n",
              "      <th>Yellow Soft Corn Tortillas 8 Count</th>\n",
              "      <td>3070</td>\n",
              "      <td>3070</td>\n",
              "      <td>3070</td>\n",
              "    </tr>\n",
              "    <tr>\n",
              "      <th>Yellow Straightneck Squash</th>\n",
              "      <td>6779</td>\n",
              "      <td>6779</td>\n",
              "      <td>6779</td>\n",
              "    </tr>\n",
              "    <tr>\n",
              "      <th>Yo Baby Organic Vanilla Yogurt</th>\n",
              "      <td>3485</td>\n",
              "      <td>3485</td>\n",
              "      <td>3485</td>\n",
              "    </tr>\n",
              "    <tr>\n",
              "      <th>Yo Baby Organic Whole Milk Banana Mango Yogurt</th>\n",
              "      <td>4722</td>\n",
              "      <td>4722</td>\n",
              "      <td>4722</td>\n",
              "    </tr>\n",
              "    <tr>\n",
              "      <th>YoBaby Blueberry Apple Yogurt</th>\n",
              "      <td>8180</td>\n",
              "      <td>8180</td>\n",
              "      <td>8180</td>\n",
              "    </tr>\n",
              "    <tr>\n",
              "      <th>YoBaby Peach Pear Yogurt</th>\n",
              "      <td>8926</td>\n",
              "      <td>8926</td>\n",
              "      <td>8926</td>\n",
              "    </tr>\n",
              "    <tr>\n",
              "      <th>YoKids Blueberry &amp; Strawberry/Vanilla Yogurt</th>\n",
              "      <td>12638</td>\n",
              "      <td>12638</td>\n",
              "      <td>12638</td>\n",
              "    </tr>\n",
              "    <tr>\n",
              "      <th>YoKids Squeeze Organic Blueberry Blue Yogurt</th>\n",
              "      <td>3531</td>\n",
              "      <td>3531</td>\n",
              "      <td>3531</td>\n",
              "    </tr>\n",
              "    <tr>\n",
              "      <th>YoKids Squeeze! Organic Strawberry Flavor Yogurt</th>\n",
              "      <td>6995</td>\n",
              "      <td>6995</td>\n",
              "      <td>6995</td>\n",
              "    </tr>\n",
              "    <tr>\n",
              "      <th>YoKids Squeezers Organic Low-Fat Yogurt, Strawberry</th>\n",
              "      <td>20344</td>\n",
              "      <td>20344</td>\n",
              "      <td>20344</td>\n",
              "    </tr>\n",
              "    <tr>\n",
              "      <th>YoKids Strawberry Banana/Strawberry Yogurt</th>\n",
              "      <td>6966</td>\n",
              "      <td>6966</td>\n",
              "      <td>6966</td>\n",
              "    </tr>\n",
              "    <tr>\n",
              "      <th>Yobaby Organic Plain Yogurt</th>\n",
              "      <td>8585</td>\n",
              "      <td>8585</td>\n",
              "      <td>8585</td>\n",
              "    </tr>\n",
              "    <tr>\n",
              "      <th>Yoghurt Blueberry</th>\n",
              "      <td>5085</td>\n",
              "      <td>5085</td>\n",
              "      <td>5085</td>\n",
              "    </tr>\n",
              "    <tr>\n",
              "      <th>Yogurt, Lowfat, Strawberry</th>\n",
              "      <td>8279</td>\n",
              "      <td>8279</td>\n",
              "      <td>8279</td>\n",
              "    </tr>\n",
              "    <tr>\n",
              "      <th>Yogurt, Strained Low-Fat, Coconut</th>\n",
              "      <td>12560</td>\n",
              "      <td>12560</td>\n",
              "      <td>12560</td>\n",
              "    </tr>\n",
              "    <tr>\n",
              "      <th>Yotoddler Organic Pear Spinach Mango Yogurt</th>\n",
              "      <td>6237</td>\n",
              "      <td>6237</td>\n",
              "      <td>6237</td>\n",
              "    </tr>\n",
              "    <tr>\n",
              "      <th>Yukon Gold Potatoes 5lb Bag</th>\n",
              "      <td>7969</td>\n",
              "      <td>7969</td>\n",
              "      <td>7969</td>\n",
              "    </tr>\n",
              "    <tr>\n",
              "      <th>ZBar Organic Chocolate Brownie Energy Snack</th>\n",
              "      <td>8252</td>\n",
              "      <td>8252</td>\n",
              "      <td>8252</td>\n",
              "    </tr>\n",
              "    <tr>\n",
              "      <th>Zen Tea</th>\n",
              "      <td>4984</td>\n",
              "      <td>4984</td>\n",
              "      <td>4984</td>\n",
              "    </tr>\n",
              "    <tr>\n",
              "      <th>Zero Calorie Cola</th>\n",
              "      <td>8905</td>\n",
              "      <td>8905</td>\n",
              "      <td>8905</td>\n",
              "    </tr>\n",
              "    <tr>\n",
              "      <th>Zero Soda</th>\n",
              "      <td>3627</td>\n",
              "      <td>3627</td>\n",
              "      <td>3627</td>\n",
              "    </tr>\n",
              "    <tr>\n",
              "      <th>of Hanover 100 Calorie Pretzels Mini</th>\n",
              "      <td>3311</td>\n",
              "      <td>3311</td>\n",
              "      <td>3311</td>\n",
              "    </tr>\n",
              "    <tr>\n",
              "      <th>smartwater® Electrolyte Enhanced Water</th>\n",
              "      <td>5137</td>\n",
              "      <td>5137</td>\n",
              "      <td>5137</td>\n",
              "    </tr>\n",
              "    <tr>\n",
              "      <th>with Crispy Almonds Cereal</th>\n",
              "      <td>4493</td>\n",
              "      <td>4493</td>\n",
              "      <td>4493</td>\n",
              "    </tr>\n",
              "  </tbody>\n",
              "</table>\n",
              "<p>2051 rows × 3 columns</p>\n",
              "</div>"
            ],
            "text/plain": [
              "                                                    order_id  ...  product_id\n",
              "product_name                                                  ...            \n",
              "0% Fat Free Organic Milk                                4006  ...        4006\n",
              "0% Greek Strained Yogurt                               13651  ...       13651\n",
              "1 Liter                                                 4278  ...        4278\n",
              "1% Low Fat Milk                                         8933  ...        8933\n",
              "1% Lowfat Milk                                         14692  ...       14692\n",
              "100 Calorie  Per Bag Popcorn                           13374  ...       13374\n",
              "100% Apple Juice                                        5717  ...        5717\n",
              "100% Cranberry Juice                                    4871  ...        4871\n",
              "100% Grated Parmesan Cheese                             6080  ...        6080\n",
              "100% Lactose Free Fat Free Milk                         7556  ...        7556\n",
              "100% Lactose Free Reduced Fat Calcium Enriched ...      3377  ...        3377\n",
              "100% Lemon Juice                                        4447  ...        4447\n",
              "100% Natural Spring Water                               7292  ...        7292\n",
              "100% Natural Tomato Sauce                               3131  ...        3131\n",
              "100% Oatnut Bread                                       2998  ...        2998\n",
              "100% Pure Apple Juice                                   5581  ...        5581\n",
              "100% Pure Pumpkin                                       8725  ...        8725\n",
              "100% Raw Coconut Water                                 39271  ...       39271\n",
              "100% Recycled 2 Ply Jumbo Paper Towel Roll              3862  ...        3862\n",
              "100% Recycled Aluminum Foil                             3409  ...        3409\n",
              "100% Recycled Bath Tissue Rolls                         5156  ...        5156\n",
              "100% Recycled Bathroom Tissue                           7546  ...        7546\n",
              "100% Recycled Paper Towels                             29047  ...       29047\n",
              "100% Recycled White Paper Towels                        3401  ...        3401\n",
              "100% Whole Wheat Bread                                 63114  ...       63114\n",
              "2% Reduced Fat DHA Omega-3 Reduced Fat Milk            13972  ...       13972\n",
              "2% Reduced Fat Milk                                    38631  ...       38631\n",
              "2% Reduced Fat Organic Milk                            17042  ...       17042\n",
              "2-Ply 100% Recycled Bathroom Tissue                     3942  ...        3942\n",
              "2-Ply Right Size 100% Recycled Paper Towels             3567  ...        3567\n",
              "...                                                      ...  ...         ...\n",
              "World Cuisine Certified Halal Chicken Tikka Mas...      3080  ...        3080\n",
              "XL Emerald White Seedless Grapes                       16375  ...       16375\n",
              "Yellow Bell Pepper                                     26625  ...       26625\n",
              "Yellow Corn Organic Tortillas                           2916  ...        2916\n",
              "Yellow Grape Tomatoes                                   7903  ...        7903\n",
              "Yellow Onions                                          76929  ...       76929\n",
              "Yellow Soft Corn Tortillas 8 Count                      3070  ...        3070\n",
              "Yellow Straightneck Squash                              6779  ...        6779\n",
              "Yo Baby Organic Vanilla Yogurt                          3485  ...        3485\n",
              "Yo Baby Organic Whole Milk Banana Mango Yogurt          4722  ...        4722\n",
              "YoBaby Blueberry Apple Yogurt                           8180  ...        8180\n",
              "YoBaby Peach Pear Yogurt                                8926  ...        8926\n",
              "YoKids Blueberry & Strawberry/Vanilla Yogurt           12638  ...       12638\n",
              "YoKids Squeeze Organic Blueberry Blue Yogurt            3531  ...        3531\n",
              "YoKids Squeeze! Organic Strawberry Flavor Yogurt        6995  ...        6995\n",
              "YoKids Squeezers Organic Low-Fat Yogurt, Strawb...     20344  ...       20344\n",
              "YoKids Strawberry Banana/Strawberry Yogurt              6966  ...        6966\n",
              "Yobaby Organic Plain Yogurt                             8585  ...        8585\n",
              "Yoghurt Blueberry                                       5085  ...        5085\n",
              "Yogurt, Lowfat, Strawberry                              8279  ...        8279\n",
              "Yogurt, Strained Low-Fat, Coconut                      12560  ...       12560\n",
              "Yotoddler Organic Pear Spinach Mango Yogurt             6237  ...        6237\n",
              "Yukon Gold Potatoes 5lb Bag                             7969  ...        7969\n",
              "ZBar Organic Chocolate Brownie Energy Snack             8252  ...        8252\n",
              "Zen Tea                                                 4984  ...        4984\n",
              "Zero Calorie Cola                                       8905  ...        8905\n",
              "Zero Soda                                               3627  ...        3627\n",
              "of Hanover 100 Calorie Pretzels Mini                    3311  ...        3311\n",
              "smartwater® Electrolyte Enhanced Water                  5137  ...        5137\n",
              "with Crispy Almonds Cereal                              4493  ...        4493\n",
              "\n",
              "[2051 rows x 3 columns]"
            ]
          },
          "metadata": {
            "tags": []
          },
          "execution_count": 93
        }
      ]
    },
    {
      "cell_type": "markdown",
      "metadata": {
        "id": "Ij8S60q0YXxo",
        "colab_type": "text"
      },
      "source": [
        "## Reshape Data Stretch Challenge\n",
        "\n",
        "_Try whatever sounds most interesting to you!_\n",
        "\n",
        "- Replicate more of Instacart's visualization showing \"Hour of Day Ordered\" vs \"Percent of Orders by Product\"\n",
        "- Replicate parts of the other visualization from [Instacart's blog post](https://tech.instacart.com/3-million-instacart-orders-open-sourced-d40d29ead6f2), showing \"Number of Purchases\" vs \"Percent Reorder Purchases\"\n",
        "- Get the most recent order for each user in Instacart's dataset. This is a useful baseline when [predicting a user's next order](https://www.kaggle.com/c/instacart-market-basket-analysis)\n",
        "- Replicate parts of the blog post linked at the top of this notebook: [Modern Pandas, Part 5: Tidy Data](https://tomaugspurger.github.io/modern-5-tidy.html)"
      ]
    },
    {
      "cell_type": "code",
      "metadata": {
        "id": "_d6IA2R0YXFY",
        "colab_type": "code",
        "colab": {}
      },
      "source": [
        "##### YOUR CODE HERE #####"
      ],
      "execution_count": 0,
      "outputs": []
    }
  ]
}