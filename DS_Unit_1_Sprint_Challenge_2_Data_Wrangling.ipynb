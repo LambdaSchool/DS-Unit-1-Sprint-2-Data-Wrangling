{
  "nbformat": 4,
  "nbformat_minor": 0,
  "metadata": {
    "colab": {
      "name": "DS_Unit_1_Sprint_Challenge_2_Data_Wrangling.ipynb",
      "version": "0.3.2",
      "provenance": [],
      "collapsed_sections": [],
      "include_colab_link": true
    },
    "kernelspec": {
      "name": "python3",
      "display_name": "Python 3"
    }
  },
  "cells": [
    {
      "cell_type": "markdown",
      "metadata": {
        "id": "view-in-github",
        "colab_type": "text"
      },
      "source": [
        "<a href=\"https://colab.research.google.com/github/mbrady4/DS-Unit-1-Sprint-2-Data-Wrangling/blob/master/DS_Unit_1_Sprint_Challenge_2_Data_Wrangling.ipynb\" target=\"_parent\"><img src=\"https://colab.research.google.com/assets/colab-badge.svg\" alt=\"Open In Colab\"/></a>"
      ]
    },
    {
      "metadata": {
        "id": "4yMHi_PX9hEz",
        "colab_type": "text"
      },
      "cell_type": "markdown",
      "source": [
        "# Data Science Unit 1 Sprint Challenge 2\n",
        "\n",
        "## Data Wrangling\n",
        "\n",
        "In this Sprint Challenge you will use data from [Gapminder](https://www.gapminder.org/about-gapminder/), a Swedish non-profit co-founded by Hans Rosling. \"Gapminder produces free teaching resources making the world understandable based on reliable statistics.\"\n",
        "- [Cell phones (total), by country and year](https://raw.githubusercontent.com/open-numbers/ddf--gapminder--systema_globalis/master/ddf--datapoints--cell_phones_total--by--geo--time.csv)\n",
        "- [Population (total), by country and year](https://raw.githubusercontent.com/open-numbers/ddf--gapminder--systema_globalis/master/ddf--datapoints--population_total--by--geo--time.csv)\n",
        "- [Geo country codes](https://github.com/open-numbers/ddf--gapminder--systema_globalis/blob/master/ddf--entities--geo--country.csv)\n",
        "\n",
        "These two links have everything you need to successfully complete the Sprint Challenge!\n",
        "- [Pandas documentation: Working with Text Data](https://pandas.pydata.org/pandas-docs/stable/text.html]) (one question)\n",
        "- [Pandas Cheat Sheet](https://github.com/pandas-dev/pandas/blob/master/doc/cheatsheet/Pandas_Cheat_Sheet.pdf) (everything else)"
      ]
    },
    {
      "metadata": {
        "id": "wWEU2GemX68A",
        "colab_type": "text"
      },
      "cell_type": "markdown",
      "source": [
        "## Part 0. Load data\n",
        "\n",
        "You don't need to add or change anything here. Just run this cell and it loads the data for you, into three dataframes."
      ]
    },
    {
      "metadata": {
        "id": "bxKtSi5sRQOl",
        "colab_type": "code",
        "colab": {}
      },
      "cell_type": "code",
      "source": [
        "import pandas as pd\n",
        "\n",
        "cell_phones = pd.read_csv('https://raw.githubusercontent.com/open-numbers/ddf--gapminder--systema_globalis/master/ddf--datapoints--cell_phones_total--by--geo--time.csv')\n",
        "\n",
        "population = pd.read_csv('https://raw.githubusercontent.com/open-numbers/ddf--gapminder--systema_globalis/master/ddf--datapoints--population_total--by--geo--time.csv')\n",
        "\n",
        "geo_country_codes = (pd.read_csv('https://raw.githubusercontent.com/open-numbers/ddf--gapminder--systema_globalis/master/ddf--entities--geo--country.csv')\n",
        "                       .rename(columns={'country': 'geo', 'name': 'country'}))"
      ],
      "execution_count": 0,
      "outputs": []
    },
    {
      "metadata": {
        "id": "FLzi_rODEC9q",
        "colab_type": "code",
        "colab": {}
      },
      "cell_type": "code",
      "source": [
        "import numpy as np"
      ],
      "execution_count": 0,
      "outputs": []
    },
    {
      "metadata": {
        "id": "oRZWsLad-VmC",
        "colab_type": "code",
        "colab": {
          "base_uri": "https://localhost:8080/",
          "height": 34
        },
        "outputId": "4d4c07c0-15c9-43d3-e436-35815947bd3a"
      },
      "cell_type": "code",
      "source": [
        "cell_phones.shape, population.shape, geo_country_codes.shape"
      ],
      "execution_count": 62,
      "outputs": [
        {
          "output_type": "execute_result",
          "data": {
            "text/plain": [
              "((9215, 3), (59297, 3), (273, 33))"
            ]
          },
          "metadata": {
            "tags": []
          },
          "execution_count": 62
        }
      ]
    },
    {
      "metadata": {
        "id": "aVql5e3t-fwb",
        "colab_type": "code",
        "colab": {
          "base_uri": "https://localhost:8080/",
          "height": 204
        },
        "outputId": "eb8813b2-7e28-48ab-e447-70b3b2b70ea4"
      },
      "cell_type": "code",
      "source": [
        "cell_phones.head()"
      ],
      "execution_count": 63,
      "outputs": [
        {
          "output_type": "execute_result",
          "data": {
            "text/html": [
              "<div>\n",
              "<style scoped>\n",
              "    .dataframe tbody tr th:only-of-type {\n",
              "        vertical-align: middle;\n",
              "    }\n",
              "\n",
              "    .dataframe tbody tr th {\n",
              "        vertical-align: top;\n",
              "    }\n",
              "\n",
              "    .dataframe thead th {\n",
              "        text-align: right;\n",
              "    }\n",
              "</style>\n",
              "<table border=\"1\" class=\"dataframe\">\n",
              "  <thead>\n",
              "    <tr style=\"text-align: right;\">\n",
              "      <th></th>\n",
              "      <th>geo</th>\n",
              "      <th>time</th>\n",
              "      <th>cell_phones_total</th>\n",
              "    </tr>\n",
              "  </thead>\n",
              "  <tbody>\n",
              "    <tr>\n",
              "      <th>0</th>\n",
              "      <td>abw</td>\n",
              "      <td>1960</td>\n",
              "      <td>0.0</td>\n",
              "    </tr>\n",
              "    <tr>\n",
              "      <th>1</th>\n",
              "      <td>abw</td>\n",
              "      <td>1965</td>\n",
              "      <td>0.0</td>\n",
              "    </tr>\n",
              "    <tr>\n",
              "      <th>2</th>\n",
              "      <td>abw</td>\n",
              "      <td>1970</td>\n",
              "      <td>0.0</td>\n",
              "    </tr>\n",
              "    <tr>\n",
              "      <th>3</th>\n",
              "      <td>abw</td>\n",
              "      <td>1975</td>\n",
              "      <td>0.0</td>\n",
              "    </tr>\n",
              "    <tr>\n",
              "      <th>4</th>\n",
              "      <td>abw</td>\n",
              "      <td>1976</td>\n",
              "      <td>0.0</td>\n",
              "    </tr>\n",
              "  </tbody>\n",
              "</table>\n",
              "</div>"
            ],
            "text/plain": [
              "   geo  time  cell_phones_total\n",
              "0  abw  1960                0.0\n",
              "1  abw  1965                0.0\n",
              "2  abw  1970                0.0\n",
              "3  abw  1975                0.0\n",
              "4  abw  1976                0.0"
            ]
          },
          "metadata": {
            "tags": []
          },
          "execution_count": 63
        }
      ]
    },
    {
      "metadata": {
        "id": "wyaAZtpV-oLn",
        "colab_type": "code",
        "colab": {
          "base_uri": "https://localhost:8080/",
          "height": 204
        },
        "outputId": "f3ce1af5-fcad-4db4-939b-b224b31f15f8"
      },
      "cell_type": "code",
      "source": [
        "population.head(5)"
      ],
      "execution_count": 64,
      "outputs": [
        {
          "output_type": "execute_result",
          "data": {
            "text/html": [
              "<div>\n",
              "<style scoped>\n",
              "    .dataframe tbody tr th:only-of-type {\n",
              "        vertical-align: middle;\n",
              "    }\n",
              "\n",
              "    .dataframe tbody tr th {\n",
              "        vertical-align: top;\n",
              "    }\n",
              "\n",
              "    .dataframe thead th {\n",
              "        text-align: right;\n",
              "    }\n",
              "</style>\n",
              "<table border=\"1\" class=\"dataframe\">\n",
              "  <thead>\n",
              "    <tr style=\"text-align: right;\">\n",
              "      <th></th>\n",
              "      <th>geo</th>\n",
              "      <th>time</th>\n",
              "      <th>population_total</th>\n",
              "    </tr>\n",
              "  </thead>\n",
              "  <tbody>\n",
              "    <tr>\n",
              "      <th>0</th>\n",
              "      <td>afg</td>\n",
              "      <td>1800</td>\n",
              "      <td>3280000</td>\n",
              "    </tr>\n",
              "    <tr>\n",
              "      <th>1</th>\n",
              "      <td>afg</td>\n",
              "      <td>1801</td>\n",
              "      <td>3280000</td>\n",
              "    </tr>\n",
              "    <tr>\n",
              "      <th>2</th>\n",
              "      <td>afg</td>\n",
              "      <td>1802</td>\n",
              "      <td>3280000</td>\n",
              "    </tr>\n",
              "    <tr>\n",
              "      <th>3</th>\n",
              "      <td>afg</td>\n",
              "      <td>1803</td>\n",
              "      <td>3280000</td>\n",
              "    </tr>\n",
              "    <tr>\n",
              "      <th>4</th>\n",
              "      <td>afg</td>\n",
              "      <td>1804</td>\n",
              "      <td>3280000</td>\n",
              "    </tr>\n",
              "  </tbody>\n",
              "</table>\n",
              "</div>"
            ],
            "text/plain": [
              "   geo  time  population_total\n",
              "0  afg  1800           3280000\n",
              "1  afg  1801           3280000\n",
              "2  afg  1802           3280000\n",
              "3  afg  1803           3280000\n",
              "4  afg  1804           3280000"
            ]
          },
          "metadata": {
            "tags": []
          },
          "execution_count": 64
        }
      ]
    },
    {
      "metadata": {
        "id": "fQWxf1Ja-t5D",
        "colab_type": "code",
        "colab": {
          "base_uri": "https://localhost:8080/",
          "height": 280
        },
        "outputId": "5a5428df-53ba-4f55-fdab-848c2529ec4a"
      },
      "cell_type": "code",
      "source": [
        "geo_country_codes.head()"
      ],
      "execution_count": 65,
      "outputs": [
        {
          "output_type": "execute_result",
          "data": {
            "text/html": [
              "<div>\n",
              "<style scoped>\n",
              "    .dataframe tbody tr th:only-of-type {\n",
              "        vertical-align: middle;\n",
              "    }\n",
              "\n",
              "    .dataframe tbody tr th {\n",
              "        vertical-align: top;\n",
              "    }\n",
              "\n",
              "    .dataframe thead th {\n",
              "        text-align: right;\n",
              "    }\n",
              "</style>\n",
              "<table border=\"1\" class=\"dataframe\">\n",
              "  <thead>\n",
              "    <tr style=\"text-align: right;\">\n",
              "      <th></th>\n",
              "      <th>geo</th>\n",
              "      <th>alt_5</th>\n",
              "      <th>alternative_1</th>\n",
              "      <th>alternative_2</th>\n",
              "      <th>alternative_3</th>\n",
              "      <th>alternative_4_cdiac</th>\n",
              "      <th>arb1</th>\n",
              "      <th>arb2</th>\n",
              "      <th>arb3</th>\n",
              "      <th>arb4</th>\n",
              "      <th>...</th>\n",
              "      <th>latitude</th>\n",
              "      <th>longitude</th>\n",
              "      <th>main_religion_2008</th>\n",
              "      <th>country</th>\n",
              "      <th>pandg</th>\n",
              "      <th>un_state</th>\n",
              "      <th>unicode_region_subtag</th>\n",
              "      <th>upper_case_name</th>\n",
              "      <th>world_4region</th>\n",
              "      <th>world_6region</th>\n",
              "    </tr>\n",
              "  </thead>\n",
              "  <tbody>\n",
              "    <tr>\n",
              "      <th>0</th>\n",
              "      <td>abkh</td>\n",
              "      <td>NaN</td>\n",
              "      <td>NaN</td>\n",
              "      <td>NaN</td>\n",
              "      <td>NaN</td>\n",
              "      <td>NaN</td>\n",
              "      <td>NaN</td>\n",
              "      <td>NaN</td>\n",
              "      <td>NaN</td>\n",
              "      <td>NaN</td>\n",
              "      <td>...</td>\n",
              "      <td>nan</td>\n",
              "      <td>nan</td>\n",
              "      <td>NaN</td>\n",
              "      <td>Abkhazia</td>\n",
              "      <td>NaN</td>\n",
              "      <td>False</td>\n",
              "      <td>NaN</td>\n",
              "      <td>NaN</td>\n",
              "      <td>europe</td>\n",
              "      <td>europe_central_asia</td>\n",
              "    </tr>\n",
              "    <tr>\n",
              "      <th>1</th>\n",
              "      <td>abw</td>\n",
              "      <td>NaN</td>\n",
              "      <td>NaN</td>\n",
              "      <td>NaN</td>\n",
              "      <td>NaN</td>\n",
              "      <td>Aruba</td>\n",
              "      <td>NaN</td>\n",
              "      <td>NaN</td>\n",
              "      <td>NaN</td>\n",
              "      <td>NaN</td>\n",
              "      <td>...</td>\n",
              "      <td>12.5</td>\n",
              "      <td>-69.96667</td>\n",
              "      <td>christian</td>\n",
              "      <td>Aruba</td>\n",
              "      <td>NaN</td>\n",
              "      <td>False</td>\n",
              "      <td>AW</td>\n",
              "      <td>ARUBA</td>\n",
              "      <td>americas</td>\n",
              "      <td>america</td>\n",
              "    </tr>\n",
              "    <tr>\n",
              "      <th>2</th>\n",
              "      <td>afg</td>\n",
              "      <td>NaN</td>\n",
              "      <td>Islamic Republic of Afghanistan</td>\n",
              "      <td>NaN</td>\n",
              "      <td>NaN</td>\n",
              "      <td>Afghanistan</td>\n",
              "      <td>NaN</td>\n",
              "      <td>NaN</td>\n",
              "      <td>NaN</td>\n",
              "      <td>NaN</td>\n",
              "      <td>...</td>\n",
              "      <td>33.0</td>\n",
              "      <td>66.0</td>\n",
              "      <td>muslim</td>\n",
              "      <td>Afghanistan</td>\n",
              "      <td>AFGHANISTAN</td>\n",
              "      <td>True</td>\n",
              "      <td>AF</td>\n",
              "      <td>AFGHANISTAN</td>\n",
              "      <td>asia</td>\n",
              "      <td>south_asia</td>\n",
              "    </tr>\n",
              "    <tr>\n",
              "      <th>3</th>\n",
              "      <td>ago</td>\n",
              "      <td>NaN</td>\n",
              "      <td>NaN</td>\n",
              "      <td>NaN</td>\n",
              "      <td>NaN</td>\n",
              "      <td>Angola</td>\n",
              "      <td>NaN</td>\n",
              "      <td>NaN</td>\n",
              "      <td>NaN</td>\n",
              "      <td>NaN</td>\n",
              "      <td>...</td>\n",
              "      <td>-12.5</td>\n",
              "      <td>18.5</td>\n",
              "      <td>christian</td>\n",
              "      <td>Angola</td>\n",
              "      <td>ANGOLA</td>\n",
              "      <td>True</td>\n",
              "      <td>AO</td>\n",
              "      <td>ANGOLA</td>\n",
              "      <td>africa</td>\n",
              "      <td>sub_saharan_africa</td>\n",
              "    </tr>\n",
              "    <tr>\n",
              "      <th>4</th>\n",
              "      <td>aia</td>\n",
              "      <td>NaN</td>\n",
              "      <td>NaN</td>\n",
              "      <td>NaN</td>\n",
              "      <td>NaN</td>\n",
              "      <td>NaN</td>\n",
              "      <td>NaN</td>\n",
              "      <td>NaN</td>\n",
              "      <td>NaN</td>\n",
              "      <td>NaN</td>\n",
              "      <td>...</td>\n",
              "      <td>18.21667</td>\n",
              "      <td>-63.05</td>\n",
              "      <td>christian</td>\n",
              "      <td>Anguilla</td>\n",
              "      <td>NaN</td>\n",
              "      <td>False</td>\n",
              "      <td>AI</td>\n",
              "      <td>ANGUILLA</td>\n",
              "      <td>americas</td>\n",
              "      <td>america</td>\n",
              "    </tr>\n",
              "  </tbody>\n",
              "</table>\n",
              "<p>5 rows × 33 columns</p>\n",
              "</div>"
            ],
            "text/plain": [
              "    geo alt_5                    alternative_1 alternative_2 alternative_3  \\\n",
              "0  abkh   NaN                              NaN           NaN           NaN   \n",
              "1   abw   NaN                              NaN           NaN           NaN   \n",
              "2   afg   NaN  Islamic Republic of Afghanistan           NaN           NaN   \n",
              "3   ago   NaN                              NaN           NaN           NaN   \n",
              "4   aia   NaN                              NaN           NaN           NaN   \n",
              "\n",
              "  alternative_4_cdiac arb1 arb2 arb3 arb4         ...          latitude  \\\n",
              "0                 NaN  NaN  NaN  NaN  NaN         ...               nan   \n",
              "1               Aruba  NaN  NaN  NaN  NaN         ...              12.5   \n",
              "2         Afghanistan  NaN  NaN  NaN  NaN         ...              33.0   \n",
              "3              Angola  NaN  NaN  NaN  NaN         ...             -12.5   \n",
              "4                 NaN  NaN  NaN  NaN  NaN         ...          18.21667   \n",
              "\n",
              "  longitude main_religion_2008      country        pandg un_state  \\\n",
              "0       nan                NaN     Abkhazia          NaN    False   \n",
              "1 -69.96667          christian        Aruba          NaN    False   \n",
              "2      66.0             muslim  Afghanistan  AFGHANISTAN     True   \n",
              "3      18.5          christian       Angola       ANGOLA     True   \n",
              "4    -63.05          christian     Anguilla          NaN    False   \n",
              "\n",
              "  unicode_region_subtag  upper_case_name world_4region        world_6region  \n",
              "0                   NaN              NaN        europe  europe_central_asia  \n",
              "1                    AW            ARUBA      americas              america  \n",
              "2                    AF      AFGHANISTAN          asia           south_asia  \n",
              "3                    AO           ANGOLA        africa   sub_saharan_africa  \n",
              "4                    AI         ANGUILLA      americas              america  \n",
              "\n",
              "[5 rows x 33 columns]"
            ]
          },
          "metadata": {
            "tags": []
          },
          "execution_count": 65
        }
      ]
    },
    {
      "metadata": {
        "id": "AZmVTeCsX9RC",
        "colab_type": "text"
      },
      "cell_type": "markdown",
      "source": [
        "## Part 1. Join data"
      ]
    },
    {
      "metadata": {
        "id": "GLzX58u4SfEy",
        "colab_type": "text"
      },
      "cell_type": "markdown",
      "source": [
        "First, join the `cell_phones` and `population` dataframes (with an inner join on `geo` and `time`).\n",
        "\n",
        "The resulting dataframe's shape should be: (8590, 4)"
      ]
    },
    {
      "metadata": {
        "id": "GVV7Hnj4SXBa",
        "colab_type": "code",
        "colab": {
          "base_uri": "https://localhost:8080/",
          "height": 34
        },
        "outputId": "f11dddad-6aaf-4863-ee2d-766e349ad261"
      },
      "cell_type": "code",
      "source": [
        "merged = pd.merge(cell_phones, population, how='inner', on=['geo', 'time'])\n",
        "merged.shape"
      ],
      "execution_count": 66,
      "outputs": [
        {
          "output_type": "execute_result",
          "data": {
            "text/plain": [
              "(8590, 4)"
            ]
          },
          "metadata": {
            "tags": []
          },
          "execution_count": 66
        }
      ]
    },
    {
      "metadata": {
        "id": "xsXpDbwwW241",
        "colab_type": "text"
      },
      "cell_type": "markdown",
      "source": [
        "Then, select the `geo` and `country` columns from the `geo_country_codes` dataframe, and join with your population and cell phone data.\n",
        "\n",
        "The resulting dataframe's shape should be: (8590, 5)"
      ]
    },
    {
      "metadata": {
        "id": "Q2LaZta_W2CE",
        "colab_type": "code",
        "colab": {
          "base_uri": "https://localhost:8080/",
          "height": 34
        },
        "outputId": "4fe32343-4f00-4f9f-9fba-440856ec220c"
      },
      "cell_type": "code",
      "source": [
        "merged = pd.merge(merged, geo_country_codes[ ['geo', 'country'] ], on='geo')\n",
        "merged.shape"
      ],
      "execution_count": 67,
      "outputs": [
        {
          "output_type": "execute_result",
          "data": {
            "text/plain": [
              "(8590, 5)"
            ]
          },
          "metadata": {
            "tags": []
          },
          "execution_count": 67
        }
      ]
    },
    {
      "metadata": {
        "id": "yLl5VVlB_qWQ",
        "colab_type": "code",
        "colab": {
          "base_uri": "https://localhost:8080/",
          "height": 204
        },
        "outputId": "a7289f10-ad05-4ad9-ee1e-a241f16767d0"
      },
      "cell_type": "code",
      "source": [
        "merged.head()"
      ],
      "execution_count": 68,
      "outputs": [
        {
          "output_type": "execute_result",
          "data": {
            "text/html": [
              "<div>\n",
              "<style scoped>\n",
              "    .dataframe tbody tr th:only-of-type {\n",
              "        vertical-align: middle;\n",
              "    }\n",
              "\n",
              "    .dataframe tbody tr th {\n",
              "        vertical-align: top;\n",
              "    }\n",
              "\n",
              "    .dataframe thead th {\n",
              "        text-align: right;\n",
              "    }\n",
              "</style>\n",
              "<table border=\"1\" class=\"dataframe\">\n",
              "  <thead>\n",
              "    <tr style=\"text-align: right;\">\n",
              "      <th></th>\n",
              "      <th>geo</th>\n",
              "      <th>time</th>\n",
              "      <th>cell_phones_total</th>\n",
              "      <th>population_total</th>\n",
              "      <th>country</th>\n",
              "    </tr>\n",
              "  </thead>\n",
              "  <tbody>\n",
              "    <tr>\n",
              "      <th>0</th>\n",
              "      <td>afg</td>\n",
              "      <td>1960</td>\n",
              "      <td>0.0</td>\n",
              "      <td>8996351</td>\n",
              "      <td>Afghanistan</td>\n",
              "    </tr>\n",
              "    <tr>\n",
              "      <th>1</th>\n",
              "      <td>afg</td>\n",
              "      <td>1965</td>\n",
              "      <td>0.0</td>\n",
              "      <td>9938414</td>\n",
              "      <td>Afghanistan</td>\n",
              "    </tr>\n",
              "    <tr>\n",
              "      <th>2</th>\n",
              "      <td>afg</td>\n",
              "      <td>1970</td>\n",
              "      <td>0.0</td>\n",
              "      <td>11126123</td>\n",
              "      <td>Afghanistan</td>\n",
              "    </tr>\n",
              "    <tr>\n",
              "      <th>3</th>\n",
              "      <td>afg</td>\n",
              "      <td>1975</td>\n",
              "      <td>0.0</td>\n",
              "      <td>12590286</td>\n",
              "      <td>Afghanistan</td>\n",
              "    </tr>\n",
              "    <tr>\n",
              "      <th>4</th>\n",
              "      <td>afg</td>\n",
              "      <td>1976</td>\n",
              "      <td>0.0</td>\n",
              "      <td>12840299</td>\n",
              "      <td>Afghanistan</td>\n",
              "    </tr>\n",
              "  </tbody>\n",
              "</table>\n",
              "</div>"
            ],
            "text/plain": [
              "   geo  time  cell_phones_total  population_total      country\n",
              "0  afg  1960                0.0           8996351  Afghanistan\n",
              "1  afg  1965                0.0           9938414  Afghanistan\n",
              "2  afg  1970                0.0          11126123  Afghanistan\n",
              "3  afg  1975                0.0          12590286  Afghanistan\n",
              "4  afg  1976                0.0          12840299  Afghanistan"
            ]
          },
          "metadata": {
            "tags": []
          },
          "execution_count": 68
        }
      ]
    },
    {
      "metadata": {
        "id": "oK96Uj7vYjFX",
        "colab_type": "text"
      },
      "cell_type": "markdown",
      "source": [
        "## Part 2. Make features"
      ]
    },
    {
      "metadata": {
        "id": "AD2fBNrOYzCG",
        "colab_type": "text"
      },
      "cell_type": "markdown",
      "source": [
        "Calculate the number of cell phones per person, and add this column onto your dataframe.\n",
        "\n",
        "(You've calculated correctly if you get 1.220 cell phones per person in the United States in 2017.)"
      ]
    },
    {
      "metadata": {
        "id": "wXI9nQthYnFK",
        "colab_type": "code",
        "colab": {}
      },
      "cell_type": "code",
      "source": [
        "merged['cell_phones_per_person'] = (merged['cell_phones_total'] / merged['population_total'])"
      ],
      "execution_count": 0,
      "outputs": []
    },
    {
      "metadata": {
        "id": "A-lwq8dnAeek",
        "colab_type": "code",
        "colab": {
          "base_uri": "https://localhost:8080/",
          "height": 204
        },
        "outputId": "b7f12916-c316-4c0f-8ee9-e8214c0cd42a"
      },
      "cell_type": "code",
      "source": [
        "merged.head()"
      ],
      "execution_count": 70,
      "outputs": [
        {
          "output_type": "execute_result",
          "data": {
            "text/html": [
              "<div>\n",
              "<style scoped>\n",
              "    .dataframe tbody tr th:only-of-type {\n",
              "        vertical-align: middle;\n",
              "    }\n",
              "\n",
              "    .dataframe tbody tr th {\n",
              "        vertical-align: top;\n",
              "    }\n",
              "\n",
              "    .dataframe thead th {\n",
              "        text-align: right;\n",
              "    }\n",
              "</style>\n",
              "<table border=\"1\" class=\"dataframe\">\n",
              "  <thead>\n",
              "    <tr style=\"text-align: right;\">\n",
              "      <th></th>\n",
              "      <th>geo</th>\n",
              "      <th>time</th>\n",
              "      <th>cell_phones_total</th>\n",
              "      <th>population_total</th>\n",
              "      <th>country</th>\n",
              "      <th>cell_phones_per_person</th>\n",
              "    </tr>\n",
              "  </thead>\n",
              "  <tbody>\n",
              "    <tr>\n",
              "      <th>0</th>\n",
              "      <td>afg</td>\n",
              "      <td>1960</td>\n",
              "      <td>0.0</td>\n",
              "      <td>8996351</td>\n",
              "      <td>Afghanistan</td>\n",
              "      <td>0.0</td>\n",
              "    </tr>\n",
              "    <tr>\n",
              "      <th>1</th>\n",
              "      <td>afg</td>\n",
              "      <td>1965</td>\n",
              "      <td>0.0</td>\n",
              "      <td>9938414</td>\n",
              "      <td>Afghanistan</td>\n",
              "      <td>0.0</td>\n",
              "    </tr>\n",
              "    <tr>\n",
              "      <th>2</th>\n",
              "      <td>afg</td>\n",
              "      <td>1970</td>\n",
              "      <td>0.0</td>\n",
              "      <td>11126123</td>\n",
              "      <td>Afghanistan</td>\n",
              "      <td>0.0</td>\n",
              "    </tr>\n",
              "    <tr>\n",
              "      <th>3</th>\n",
              "      <td>afg</td>\n",
              "      <td>1975</td>\n",
              "      <td>0.0</td>\n",
              "      <td>12590286</td>\n",
              "      <td>Afghanistan</td>\n",
              "      <td>0.0</td>\n",
              "    </tr>\n",
              "    <tr>\n",
              "      <th>4</th>\n",
              "      <td>afg</td>\n",
              "      <td>1976</td>\n",
              "      <td>0.0</td>\n",
              "      <td>12840299</td>\n",
              "      <td>Afghanistan</td>\n",
              "      <td>0.0</td>\n",
              "    </tr>\n",
              "  </tbody>\n",
              "</table>\n",
              "</div>"
            ],
            "text/plain": [
              "   geo  time  cell_phones_total  population_total      country  \\\n",
              "0  afg  1960                0.0           8996351  Afghanistan   \n",
              "1  afg  1965                0.0           9938414  Afghanistan   \n",
              "2  afg  1970                0.0          11126123  Afghanistan   \n",
              "3  afg  1975                0.0          12590286  Afghanistan   \n",
              "4  afg  1976                0.0          12840299  Afghanistan   \n",
              "\n",
              "   cell_phones_per_person  \n",
              "0                     0.0  \n",
              "1                     0.0  \n",
              "2                     0.0  \n",
              "3                     0.0  \n",
              "4                     0.0  "
            ]
          },
          "metadata": {
            "tags": []
          },
          "execution_count": 70
        }
      ]
    },
    {
      "metadata": {
        "id": "7_HzYwATAhs_",
        "colab_type": "code",
        "colab": {
          "base_uri": "https://localhost:8080/",
          "height": 80
        },
        "outputId": "a4f2bec6-054c-4013-9cbb-2cab81ec8ea2"
      },
      "cell_type": "code",
      "source": [
        "merged[ (merged['country'] == 'United States') & (merged['time'] == 2017) ]"
      ],
      "execution_count": 71,
      "outputs": [
        {
          "output_type": "execute_result",
          "data": {
            "text/html": [
              "<div>\n",
              "<style scoped>\n",
              "    .dataframe tbody tr th:only-of-type {\n",
              "        vertical-align: middle;\n",
              "    }\n",
              "\n",
              "    .dataframe tbody tr th {\n",
              "        vertical-align: top;\n",
              "    }\n",
              "\n",
              "    .dataframe thead th {\n",
              "        text-align: right;\n",
              "    }\n",
              "</style>\n",
              "<table border=\"1\" class=\"dataframe\">\n",
              "  <thead>\n",
              "    <tr style=\"text-align: right;\">\n",
              "      <th></th>\n",
              "      <th>geo</th>\n",
              "      <th>time</th>\n",
              "      <th>cell_phones_total</th>\n",
              "      <th>population_total</th>\n",
              "      <th>country</th>\n",
              "      <th>cell_phones_per_person</th>\n",
              "    </tr>\n",
              "  </thead>\n",
              "  <tbody>\n",
              "    <tr>\n",
              "      <th>8134</th>\n",
              "      <td>usa</td>\n",
              "      <td>2017</td>\n",
              "      <td>395,881,000.0</td>\n",
              "      <td>324459463</td>\n",
              "      <td>United States</td>\n",
              "      <td>1.2201246847283354</td>\n",
              "    </tr>\n",
              "  </tbody>\n",
              "</table>\n",
              "</div>"
            ],
            "text/plain": [
              "      geo  time  cell_phones_total  population_total        country  \\\n",
              "8134  usa  2017      395,881,000.0         324459463  United States   \n",
              "\n",
              "      cell_phones_per_person  \n",
              "8134      1.2201246847283354  "
            ]
          },
          "metadata": {
            "tags": []
          },
          "execution_count": 71
        }
      ]
    },
    {
      "metadata": {
        "id": "S3QFdsnRZMH6",
        "colab_type": "text"
      },
      "cell_type": "markdown",
      "source": [
        "Modify the `geo` column to make the geo codes uppercase instead of lowercase."
      ]
    },
    {
      "metadata": {
        "id": "93ADij8_YkOq",
        "colab_type": "code",
        "colab": {}
      },
      "cell_type": "code",
      "source": [
        "merged['geo'] = [ x.upper() for x in merged['geo'] ]"
      ],
      "execution_count": 0,
      "outputs": []
    },
    {
      "metadata": {
        "id": "h5I3m3c3BnPQ",
        "colab_type": "code",
        "colab": {
          "base_uri": "https://localhost:8080/",
          "height": 204
        },
        "outputId": "91edffa7-2130-4f3a-bf71-66bf9b7312b2"
      },
      "cell_type": "code",
      "source": [
        "merged.head()"
      ],
      "execution_count": 73,
      "outputs": [
        {
          "output_type": "execute_result",
          "data": {
            "text/html": [
              "<div>\n",
              "<style scoped>\n",
              "    .dataframe tbody tr th:only-of-type {\n",
              "        vertical-align: middle;\n",
              "    }\n",
              "\n",
              "    .dataframe tbody tr th {\n",
              "        vertical-align: top;\n",
              "    }\n",
              "\n",
              "    .dataframe thead th {\n",
              "        text-align: right;\n",
              "    }\n",
              "</style>\n",
              "<table border=\"1\" class=\"dataframe\">\n",
              "  <thead>\n",
              "    <tr style=\"text-align: right;\">\n",
              "      <th></th>\n",
              "      <th>geo</th>\n",
              "      <th>time</th>\n",
              "      <th>cell_phones_total</th>\n",
              "      <th>population_total</th>\n",
              "      <th>country</th>\n",
              "      <th>cell_phones_per_person</th>\n",
              "    </tr>\n",
              "  </thead>\n",
              "  <tbody>\n",
              "    <tr>\n",
              "      <th>0</th>\n",
              "      <td>AFG</td>\n",
              "      <td>1960</td>\n",
              "      <td>0.0</td>\n",
              "      <td>8996351</td>\n",
              "      <td>Afghanistan</td>\n",
              "      <td>0.0</td>\n",
              "    </tr>\n",
              "    <tr>\n",
              "      <th>1</th>\n",
              "      <td>AFG</td>\n",
              "      <td>1965</td>\n",
              "      <td>0.0</td>\n",
              "      <td>9938414</td>\n",
              "      <td>Afghanistan</td>\n",
              "      <td>0.0</td>\n",
              "    </tr>\n",
              "    <tr>\n",
              "      <th>2</th>\n",
              "      <td>AFG</td>\n",
              "      <td>1970</td>\n",
              "      <td>0.0</td>\n",
              "      <td>11126123</td>\n",
              "      <td>Afghanistan</td>\n",
              "      <td>0.0</td>\n",
              "    </tr>\n",
              "    <tr>\n",
              "      <th>3</th>\n",
              "      <td>AFG</td>\n",
              "      <td>1975</td>\n",
              "      <td>0.0</td>\n",
              "      <td>12590286</td>\n",
              "      <td>Afghanistan</td>\n",
              "      <td>0.0</td>\n",
              "    </tr>\n",
              "    <tr>\n",
              "      <th>4</th>\n",
              "      <td>AFG</td>\n",
              "      <td>1976</td>\n",
              "      <td>0.0</td>\n",
              "      <td>12840299</td>\n",
              "      <td>Afghanistan</td>\n",
              "      <td>0.0</td>\n",
              "    </tr>\n",
              "  </tbody>\n",
              "</table>\n",
              "</div>"
            ],
            "text/plain": [
              "   geo  time  cell_phones_total  population_total      country  \\\n",
              "0  AFG  1960                0.0           8996351  Afghanistan   \n",
              "1  AFG  1965                0.0           9938414  Afghanistan   \n",
              "2  AFG  1970                0.0          11126123  Afghanistan   \n",
              "3  AFG  1975                0.0          12590286  Afghanistan   \n",
              "4  AFG  1976                0.0          12840299  Afghanistan   \n",
              "\n",
              "   cell_phones_per_person  \n",
              "0                     0.0  \n",
              "1                     0.0  \n",
              "2                     0.0  \n",
              "3                     0.0  \n",
              "4                     0.0  "
            ]
          },
          "metadata": {
            "tags": []
          },
          "execution_count": 73
        }
      ]
    },
    {
      "metadata": {
        "id": "hlPDAFCfaF6C",
        "colab_type": "text"
      },
      "cell_type": "markdown",
      "source": [
        "## Part 3. Process data"
      ]
    },
    {
      "metadata": {
        "id": "k-pudNWve2SQ",
        "colab_type": "text"
      },
      "cell_type": "markdown",
      "source": [
        "Use the describe function, to describe your dataframe's numeric columns, and then its non-numeric columns.\n",
        "\n",
        "(You'll see the time period ranges from 1960 to 2017, and there are 195 unique countries represented.)"
      ]
    },
    {
      "metadata": {
        "id": "i8U9qxUYCI0C",
        "colab_type": "code",
        "colab": {
          "base_uri": "https://localhost:8080/",
          "height": 297
        },
        "outputId": "47745a35-4171-4de6-dec3-6311c66c0a27"
      },
      "cell_type": "code",
      "source": [
        "#Describe Numeric Columns\n",
        "merged.describe()"
      ],
      "execution_count": 74,
      "outputs": [
        {
          "output_type": "execute_result",
          "data": {
            "text/html": [
              "<div>\n",
              "<style scoped>\n",
              "    .dataframe tbody tr th:only-of-type {\n",
              "        vertical-align: middle;\n",
              "    }\n",
              "\n",
              "    .dataframe tbody tr th {\n",
              "        vertical-align: top;\n",
              "    }\n",
              "\n",
              "    .dataframe thead th {\n",
              "        text-align: right;\n",
              "    }\n",
              "</style>\n",
              "<table border=\"1\" class=\"dataframe\">\n",
              "  <thead>\n",
              "    <tr style=\"text-align: right;\">\n",
              "      <th></th>\n",
              "      <th>time</th>\n",
              "      <th>cell_phones_total</th>\n",
              "      <th>population_total</th>\n",
              "      <th>cell_phones_per_person</th>\n",
              "    </tr>\n",
              "  </thead>\n",
              "  <tbody>\n",
              "    <tr>\n",
              "      <th>count</th>\n",
              "      <td>8,590.0</td>\n",
              "      <td>8,590.0</td>\n",
              "      <td>8,590.0</td>\n",
              "      <td>8,590.0</td>\n",
              "    </tr>\n",
              "    <tr>\n",
              "      <th>mean</th>\n",
              "      <td>1,994.1934807916182</td>\n",
              "      <td>9,004,949.642905472</td>\n",
              "      <td>29,838,230.581722934</td>\n",
              "      <td>0.2796385558059151</td>\n",
              "    </tr>\n",
              "    <tr>\n",
              "      <th>std</th>\n",
              "      <td>14.257974607310302</td>\n",
              "      <td>55,734,084.872179635</td>\n",
              "      <td>116,128,377.47477299</td>\n",
              "      <td>0.454246656214052</td>\n",
              "    </tr>\n",
              "    <tr>\n",
              "      <th>min</th>\n",
              "      <td>1,960.0</td>\n",
              "      <td>0.0</td>\n",
              "      <td>4,433.0</td>\n",
              "      <td>0.0</td>\n",
              "    </tr>\n",
              "    <tr>\n",
              "      <th>25%</th>\n",
              "      <td>1,983.0</td>\n",
              "      <td>0.0</td>\n",
              "      <td>1,456,148.0</td>\n",
              "      <td>0.0</td>\n",
              "    </tr>\n",
              "    <tr>\n",
              "      <th>50%</th>\n",
              "      <td>1,995.0</td>\n",
              "      <td>6,200.0</td>\n",
              "      <td>5,725,062.5</td>\n",
              "      <td>0.0015636266438163813</td>\n",
              "    </tr>\n",
              "    <tr>\n",
              "      <th>75%</th>\n",
              "      <td>2,006.0</td>\n",
              "      <td>1,697,652.0</td>\n",
              "      <td>18,105,812.0</td>\n",
              "      <td>0.4611491855201403</td>\n",
              "    </tr>\n",
              "    <tr>\n",
              "      <th>max</th>\n",
              "      <td>2,017.0</td>\n",
              "      <td>1,474,097,000.0</td>\n",
              "      <td>1,409,517,397.0</td>\n",
              "      <td>2.490242818521353</td>\n",
              "    </tr>\n",
              "  </tbody>\n",
              "</table>\n",
              "</div>"
            ],
            "text/plain": [
              "                     time    cell_phones_total     population_total  \\\n",
              "count             8,590.0              8,590.0              8,590.0   \n",
              "mean  1,994.1934807916182  9,004,949.642905472 29,838,230.581722934   \n",
              "std    14.257974607310302 55,734,084.872179635 116,128,377.47477299   \n",
              "min               1,960.0                  0.0              4,433.0   \n",
              "25%               1,983.0                  0.0          1,456,148.0   \n",
              "50%               1,995.0              6,200.0          5,725,062.5   \n",
              "75%               2,006.0          1,697,652.0         18,105,812.0   \n",
              "max               2,017.0      1,474,097,000.0      1,409,517,397.0   \n",
              "\n",
              "       cell_phones_per_person  \n",
              "count                 8,590.0  \n",
              "mean       0.2796385558059151  \n",
              "std         0.454246656214052  \n",
              "min                       0.0  \n",
              "25%                       0.0  \n",
              "50%     0.0015636266438163813  \n",
              "75%        0.4611491855201403  \n",
              "max         2.490242818521353  "
            ]
          },
          "metadata": {
            "tags": []
          },
          "execution_count": 74
        }
      ]
    },
    {
      "metadata": {
        "id": "g26yemKre2Cu",
        "colab_type": "code",
        "colab": {
          "base_uri": "https://localhost:8080/",
          "height": 173
        },
        "outputId": "3bedf166-d7b9-47f4-b404-796dc9af7578"
      },
      "cell_type": "code",
      "source": [
        "#Describe Non-Numeric Columns\n",
        "merged.describe(exclude='number')"
      ],
      "execution_count": 75,
      "outputs": [
        {
          "output_type": "execute_result",
          "data": {
            "text/html": [
              "<div>\n",
              "<style scoped>\n",
              "    .dataframe tbody tr th:only-of-type {\n",
              "        vertical-align: middle;\n",
              "    }\n",
              "\n",
              "    .dataframe tbody tr th {\n",
              "        vertical-align: top;\n",
              "    }\n",
              "\n",
              "    .dataframe thead th {\n",
              "        text-align: right;\n",
              "    }\n",
              "</style>\n",
              "<table border=\"1\" class=\"dataframe\">\n",
              "  <thead>\n",
              "    <tr style=\"text-align: right;\">\n",
              "      <th></th>\n",
              "      <th>geo</th>\n",
              "      <th>country</th>\n",
              "    </tr>\n",
              "  </thead>\n",
              "  <tbody>\n",
              "    <tr>\n",
              "      <th>count</th>\n",
              "      <td>8590</td>\n",
              "      <td>8590</td>\n",
              "    </tr>\n",
              "    <tr>\n",
              "      <th>unique</th>\n",
              "      <td>195</td>\n",
              "      <td>195</td>\n",
              "    </tr>\n",
              "    <tr>\n",
              "      <th>top</th>\n",
              "      <td>URY</td>\n",
              "      <td>Senegal</td>\n",
              "    </tr>\n",
              "    <tr>\n",
              "      <th>freq</th>\n",
              "      <td>46</td>\n",
              "      <td>46</td>\n",
              "    </tr>\n",
              "  </tbody>\n",
              "</table>\n",
              "</div>"
            ],
            "text/plain": [
              "         geo  country\n",
              "count   8590     8590\n",
              "unique   195      195\n",
              "top      URY  Senegal\n",
              "freq      46       46"
            ]
          },
          "metadata": {
            "tags": []
          },
          "execution_count": 75
        }
      ]
    },
    {
      "metadata": {
        "id": "zALg-RrYaLcI",
        "colab_type": "text"
      },
      "cell_type": "markdown",
      "source": [
        "In 2017, what were the top 5 countries with the most cell phones total?\n",
        "\n",
        "Your list of countries should have these totals:\n",
        "\n",
        "| country | cell phones total |\n",
        "|:-------:|:-----------------:|\n",
        "|    ?    |     1,474,097,000 |\n",
        "|    ?    |     1,168,902,277 |\n",
        "|    ?    |       458,923,202 |\n",
        "|    ?    |       395,881,000 |\n",
        "|    ?    |       236,488,548 |\n",
        "\n"
      ]
    },
    {
      "metadata": {
        "id": "JdlWvezHaZxD",
        "colab_type": "code",
        "colab": {}
      },
      "cell_type": "code",
      "source": [
        "# This optional code formats float numbers with comma separators\n",
        "pd.options.display.float_format = '{:,}'.format"
      ],
      "execution_count": 0,
      "outputs": []
    },
    {
      "metadata": {
        "id": "WoS4mL_eHIhc",
        "colab_type": "code",
        "colab": {
          "base_uri": "https://localhost:8080/",
          "height": 136
        },
        "outputId": "0d497b03-6add-4ace-a78c-2e3eae3c28da"
      },
      "cell_type": "code",
      "source": [
        "merged.groupby('country')['cell_phones_total'].aggregate(np.max).sort_values(ascending=False)[:5]"
      ],
      "execution_count": 85,
      "outputs": [
        {
          "output_type": "execute_result",
          "data": {
            "text/plain": [
              "country\n",
              "China           1,474,097,000.0\n",
              "India           1,168,902,277.0\n",
              "Indonesia         458,923,202.0\n",
              "United States     395,881,000.0\n",
              "Brazil            280,728,796.0\n",
              "Name: cell_phones_total, dtype: float64"
            ]
          },
          "metadata": {
            "tags": []
          },
          "execution_count": 85
        }
      ]
    },
    {
      "metadata": {
        "id": "GQLPRsUAHiqb",
        "colab_type": "text"
      },
      "cell_type": "markdown",
      "source": [
        "My fifth population total differs from the table, thus I did the below groupby to ensure verify that my table was pulling from 2017 totals. "
      ]
    },
    {
      "metadata": {
        "id": "smX8vzu4cyju",
        "colab_type": "code",
        "colab": {
          "base_uri": "https://localhost:8080/",
          "height": 204
        },
        "outputId": "9013f321-fa6d-42e0-a176-a315c957fd55"
      },
      "cell_type": "code",
      "source": [
        "merged.groupby('country', as_index=False).aggregate(np.max).sort_values(by=['time', 'cell_phones_total', 'country'], ascending=False)[:5]"
      ],
      "execution_count": 80,
      "outputs": [
        {
          "output_type": "execute_result",
          "data": {
            "text/html": [
              "<div>\n",
              "<style scoped>\n",
              "    .dataframe tbody tr th:only-of-type {\n",
              "        vertical-align: middle;\n",
              "    }\n",
              "\n",
              "    .dataframe tbody tr th {\n",
              "        vertical-align: top;\n",
              "    }\n",
              "\n",
              "    .dataframe thead th {\n",
              "        text-align: right;\n",
              "    }\n",
              "</style>\n",
              "<table border=\"1\" class=\"dataframe\">\n",
              "  <thead>\n",
              "    <tr style=\"text-align: right;\">\n",
              "      <th></th>\n",
              "      <th>country</th>\n",
              "      <th>geo</th>\n",
              "      <th>time</th>\n",
              "      <th>cell_phones_total</th>\n",
              "      <th>population_total</th>\n",
              "      <th>cell_phones_per_person</th>\n",
              "    </tr>\n",
              "  </thead>\n",
              "  <tbody>\n",
              "    <tr>\n",
              "      <th>35</th>\n",
              "      <td>China</td>\n",
              "      <td>CHN</td>\n",
              "      <td>2017</td>\n",
              "      <td>1,474,097,000.0</td>\n",
              "      <td>1409517397</td>\n",
              "      <td>1.0458168186766978</td>\n",
              "    </tr>\n",
              "    <tr>\n",
              "      <th>76</th>\n",
              "      <td>India</td>\n",
              "      <td>IND</td>\n",
              "      <td>2017</td>\n",
              "      <td>1,168,902,277.0</td>\n",
              "      <td>1339180127</td>\n",
              "      <td>0.8728491809526382</td>\n",
              "    </tr>\n",
              "    <tr>\n",
              "      <th>77</th>\n",
              "      <td>Indonesia</td>\n",
              "      <td>IDN</td>\n",
              "      <td>2017</td>\n",
              "      <td>458,923,202.0</td>\n",
              "      <td>263991379</td>\n",
              "      <td>1.738402230172827</td>\n",
              "    </tr>\n",
              "    <tr>\n",
              "      <th>186</th>\n",
              "      <td>United States</td>\n",
              "      <td>USA</td>\n",
              "      <td>2017</td>\n",
              "      <td>395,881,000.0</td>\n",
              "      <td>324459463</td>\n",
              "      <td>1.228758722948959</td>\n",
              "    </tr>\n",
              "    <tr>\n",
              "      <th>23</th>\n",
              "      <td>Brazil</td>\n",
              "      <td>BRA</td>\n",
              "      <td>2017</td>\n",
              "      <td>280,728,796.0</td>\n",
              "      <td>209288278</td>\n",
              "      <td>1.3746853195773652</td>\n",
              "    </tr>\n",
              "  </tbody>\n",
              "</table>\n",
              "</div>"
            ],
            "text/plain": [
              "           country  geo  time  cell_phones_total  population_total  \\\n",
              "35           China  CHN  2017    1,474,097,000.0        1409517397   \n",
              "76           India  IND  2017    1,168,902,277.0        1339180127   \n",
              "77       Indonesia  IDN  2017      458,923,202.0         263991379   \n",
              "186  United States  USA  2017      395,881,000.0         324459463   \n",
              "23          Brazil  BRA  2017      280,728,796.0         209288278   \n",
              "\n",
              "     cell_phones_per_person  \n",
              "35       1.0458168186766978  \n",
              "76       0.8728491809526382  \n",
              "77        1.738402230172827  \n",
              "186       1.228758722948959  \n",
              "23       1.3746853195773652  "
            ]
          },
          "metadata": {
            "tags": []
          },
          "execution_count": 80
        }
      ]
    },
    {
      "metadata": {
        "id": "03V3Wln_h0dj",
        "colab_type": "text"
      },
      "cell_type": "markdown",
      "source": [
        "2017 was the first year that China had more cell phones than people.\n",
        "\n",
        "What was the first year that the USA had more cell phones than people?"
      ]
    },
    {
      "metadata": {
        "id": "KONQkQZ3haNC",
        "colab_type": "code",
        "colab": {
          "base_uri": "https://localhost:8080/",
          "height": 1382
        },
        "outputId": "06baff3d-b448-4553-c91d-47dc3267c38c"
      },
      "cell_type": "code",
      "source": [
        "merged[ merged['country'] == 'United States' ]"
      ],
      "execution_count": 78,
      "outputs": [
        {
          "output_type": "execute_result",
          "data": {
            "text/html": [
              "<div>\n",
              "<style scoped>\n",
              "    .dataframe tbody tr th:only-of-type {\n",
              "        vertical-align: middle;\n",
              "    }\n",
              "\n",
              "    .dataframe tbody tr th {\n",
              "        vertical-align: top;\n",
              "    }\n",
              "\n",
              "    .dataframe thead th {\n",
              "        text-align: right;\n",
              "    }\n",
              "</style>\n",
              "<table border=\"1\" class=\"dataframe\">\n",
              "  <thead>\n",
              "    <tr style=\"text-align: right;\">\n",
              "      <th></th>\n",
              "      <th>geo</th>\n",
              "      <th>time</th>\n",
              "      <th>cell_phones_total</th>\n",
              "      <th>population_total</th>\n",
              "      <th>country</th>\n",
              "      <th>cell_phones_per_person</th>\n",
              "    </tr>\n",
              "  </thead>\n",
              "  <tbody>\n",
              "    <tr>\n",
              "      <th>8092</th>\n",
              "      <td>USA</td>\n",
              "      <td>1960</td>\n",
              "      <td>0.0</td>\n",
              "      <td>186808228</td>\n",
              "      <td>United States</td>\n",
              "      <td>0.0</td>\n",
              "    </tr>\n",
              "    <tr>\n",
              "      <th>8093</th>\n",
              "      <td>USA</td>\n",
              "      <td>1965</td>\n",
              "      <td>0.0</td>\n",
              "      <td>199815540</td>\n",
              "      <td>United States</td>\n",
              "      <td>0.0</td>\n",
              "    </tr>\n",
              "    <tr>\n",
              "      <th>8094</th>\n",
              "      <td>USA</td>\n",
              "      <td>1970</td>\n",
              "      <td>0.0</td>\n",
              "      <td>209588150</td>\n",
              "      <td>United States</td>\n",
              "      <td>0.0</td>\n",
              "    </tr>\n",
              "    <tr>\n",
              "      <th>8095</th>\n",
              "      <td>USA</td>\n",
              "      <td>1975</td>\n",
              "      <td>0.0</td>\n",
              "      <td>219205296</td>\n",
              "      <td>United States</td>\n",
              "      <td>0.0</td>\n",
              "    </tr>\n",
              "    <tr>\n",
              "      <th>8096</th>\n",
              "      <td>USA</td>\n",
              "      <td>1976</td>\n",
              "      <td>0.0</td>\n",
              "      <td>221239215</td>\n",
              "      <td>United States</td>\n",
              "      <td>0.0</td>\n",
              "    </tr>\n",
              "    <tr>\n",
              "      <th>8097</th>\n",
              "      <td>USA</td>\n",
              "      <td>1977</td>\n",
              "      <td>0.0</td>\n",
              "      <td>223324042</td>\n",
              "      <td>United States</td>\n",
              "      <td>0.0</td>\n",
              "    </tr>\n",
              "    <tr>\n",
              "      <th>8098</th>\n",
              "      <td>USA</td>\n",
              "      <td>1978</td>\n",
              "      <td>0.0</td>\n",
              "      <td>225449657</td>\n",
              "      <td>United States</td>\n",
              "      <td>0.0</td>\n",
              "    </tr>\n",
              "    <tr>\n",
              "      <th>8099</th>\n",
              "      <td>USA</td>\n",
              "      <td>1979</td>\n",
              "      <td>0.0</td>\n",
              "      <td>227599878</td>\n",
              "      <td>United States</td>\n",
              "      <td>0.0</td>\n",
              "    </tr>\n",
              "    <tr>\n",
              "      <th>8100</th>\n",
              "      <td>USA</td>\n",
              "      <td>1980</td>\n",
              "      <td>0.0</td>\n",
              "      <td>229763052</td>\n",
              "      <td>United States</td>\n",
              "      <td>0.0</td>\n",
              "    </tr>\n",
              "    <tr>\n",
              "      <th>8101</th>\n",
              "      <td>USA</td>\n",
              "      <td>1984</td>\n",
              "      <td>91,600.0</td>\n",
              "      <td>238573861</td>\n",
              "      <td>United States</td>\n",
              "      <td>0.0003839481811462992</td>\n",
              "    </tr>\n",
              "    <tr>\n",
              "      <th>8102</th>\n",
              "      <td>USA</td>\n",
              "      <td>1985</td>\n",
              "      <td>340,213.0</td>\n",
              "      <td>240824120</td>\n",
              "      <td>United States</td>\n",
              "      <td>0.0014127031793991398</td>\n",
              "    </tr>\n",
              "    <tr>\n",
              "      <th>8103</th>\n",
              "      <td>USA</td>\n",
              "      <td>1986</td>\n",
              "      <td>681,825.0</td>\n",
              "      <td>243098935</td>\n",
              "      <td>United States</td>\n",
              "      <td>0.0028047222831313516</td>\n",
              "    </tr>\n",
              "    <tr>\n",
              "      <th>8104</th>\n",
              "      <td>USA</td>\n",
              "      <td>1987</td>\n",
              "      <td>1,230,855.0</td>\n",
              "      <td>245402864</td>\n",
              "      <td>United States</td>\n",
              "      <td>0.005015650510093476</td>\n",
              "    </tr>\n",
              "    <tr>\n",
              "      <th>8105</th>\n",
              "      <td>USA</td>\n",
              "      <td>1988</td>\n",
              "      <td>2,069,441.0</td>\n",
              "      <td>247739582</td>\n",
              "      <td>United States</td>\n",
              "      <td>0.008353291723887707</td>\n",
              "    </tr>\n",
              "    <tr>\n",
              "      <th>8106</th>\n",
              "      <td>USA</td>\n",
              "      <td>1989</td>\n",
              "      <td>3,508,944.0</td>\n",
              "      <td>250113187</td>\n",
              "      <td>United States</td>\n",
              "      <td>0.01402942420624947</td>\n",
              "    </tr>\n",
              "    <tr>\n",
              "      <th>8107</th>\n",
              "      <td>USA</td>\n",
              "      <td>1990</td>\n",
              "      <td>5,283,055.0</td>\n",
              "      <td>252529950</td>\n",
              "      <td>United States</td>\n",
              "      <td>0.02092050863669834</td>\n",
              "    </tr>\n",
              "    <tr>\n",
              "      <th>8108</th>\n",
              "      <td>USA</td>\n",
              "      <td>1991</td>\n",
              "      <td>7,557,148.0</td>\n",
              "      <td>254974819</td>\n",
              "      <td>United States</td>\n",
              "      <td>0.02963880131237587</td>\n",
              "    </tr>\n",
              "    <tr>\n",
              "      <th>8109</th>\n",
              "      <td>USA</td>\n",
              "      <td>1992</td>\n",
              "      <td>11,032,753.0</td>\n",
              "      <td>257454273</td>\n",
              "      <td>United States</td>\n",
              "      <td>0.042853252624010636</td>\n",
              "    </tr>\n",
              "    <tr>\n",
              "      <th>8110</th>\n",
              "      <td>USA</td>\n",
              "      <td>1993</td>\n",
              "      <td>16,009,461.0</td>\n",
              "      <td>260020186</td>\n",
              "      <td>United States</td>\n",
              "      <td>0.06157006979450434</td>\n",
              "    </tr>\n",
              "    <tr>\n",
              "      <th>8111</th>\n",
              "      <td>USA</td>\n",
              "      <td>1994</td>\n",
              "      <td>24,134,421.0</td>\n",
              "      <td>262741566</td>\n",
              "      <td>United States</td>\n",
              "      <td>0.09185612070227213</td>\n",
              "    </tr>\n",
              "    <tr>\n",
              "      <th>8112</th>\n",
              "      <td>USA</td>\n",
              "      <td>1995</td>\n",
              "      <td>33,785,661.0</td>\n",
              "      <td>265658849</td>\n",
              "      <td>United States</td>\n",
              "      <td>0.12717687036278622</td>\n",
              "    </tr>\n",
              "    <tr>\n",
              "      <th>8113</th>\n",
              "      <td>USA</td>\n",
              "      <td>1996</td>\n",
              "      <td>44,042,992.0</td>\n",
              "      <td>268803424</td>\n",
              "      <td>United States</td>\n",
              "      <td>0.16384832955104026</td>\n",
              "    </tr>\n",
              "    <tr>\n",
              "      <th>8114</th>\n",
              "      <td>USA</td>\n",
              "      <td>1997</td>\n",
              "      <td>55,312,293.0</td>\n",
              "      <td>272136551</td>\n",
              "      <td>United States</td>\n",
              "      <td>0.20325198065731348</td>\n",
              "    </tr>\n",
              "    <tr>\n",
              "      <th>8115</th>\n",
              "      <td>USA</td>\n",
              "      <td>1998</td>\n",
              "      <td>69,209,321.0</td>\n",
              "      <td>275542603</td>\n",
              "      <td>United States</td>\n",
              "      <td>0.25117466499363805</td>\n",
              "    </tr>\n",
              "    <tr>\n",
              "      <th>8116</th>\n",
              "      <td>USA</td>\n",
              "      <td>1999</td>\n",
              "      <td>86,047,003.0</td>\n",
              "      <td>278862277</td>\n",
              "      <td>United States</td>\n",
              "      <td>0.30856451408807795</td>\n",
              "    </tr>\n",
              "    <tr>\n",
              "      <th>8117</th>\n",
              "      <td>USA</td>\n",
              "      <td>2000</td>\n",
              "      <td>109,478,031.0</td>\n",
              "      <td>281982778</td>\n",
              "      <td>United States</td>\n",
              "      <td>0.3882436784845066</td>\n",
              "    </tr>\n",
              "    <tr>\n",
              "      <th>8118</th>\n",
              "      <td>USA</td>\n",
              "      <td>2001</td>\n",
              "      <td>128,500,000.0</td>\n",
              "      <td>284852391</td>\n",
              "      <td>United States</td>\n",
              "      <td>0.45111083515532086</td>\n",
              "    </tr>\n",
              "    <tr>\n",
              "      <th>8119</th>\n",
              "      <td>USA</td>\n",
              "      <td>2002</td>\n",
              "      <td>141,800,000.0</td>\n",
              "      <td>287506847</td>\n",
              "      <td>United States</td>\n",
              "      <td>0.4932056452902494</td>\n",
              "    </tr>\n",
              "    <tr>\n",
              "      <th>8120</th>\n",
              "      <td>USA</td>\n",
              "      <td>2003</td>\n",
              "      <td>160,637,000.0</td>\n",
              "      <td>290027624</td>\n",
              "      <td>United States</td>\n",
              "      <td>0.5538679308699229</td>\n",
              "    </tr>\n",
              "    <tr>\n",
              "      <th>8121</th>\n",
              "      <td>USA</td>\n",
              "      <td>2004</td>\n",
              "      <td>184,819,000.0</td>\n",
              "      <td>292539324</td>\n",
              "      <td>United States</td>\n",
              "      <td>0.6317748925952943</td>\n",
              "    </tr>\n",
              "    <tr>\n",
              "      <th>8122</th>\n",
              "      <td>USA</td>\n",
              "      <td>2005</td>\n",
              "      <td>203,700,000.0</td>\n",
              "      <td>295129501</td>\n",
              "      <td>United States</td>\n",
              "      <td>0.6902054837276331</td>\n",
              "    </tr>\n",
              "    <tr>\n",
              "      <th>8123</th>\n",
              "      <td>USA</td>\n",
              "      <td>2006</td>\n",
              "      <td>229,600,000.0</td>\n",
              "      <td>297827356</td>\n",
              "      <td>United States</td>\n",
              "      <td>0.7709164231374367</td>\n",
              "    </tr>\n",
              "    <tr>\n",
              "      <th>8124</th>\n",
              "      <td>USA</td>\n",
              "      <td>2007</td>\n",
              "      <td>249,300,000.0</td>\n",
              "      <td>300595175</td>\n",
              "      <td>United States</td>\n",
              "      <td>0.8293546295279024</td>\n",
              "    </tr>\n",
              "    <tr>\n",
              "      <th>8125</th>\n",
              "      <td>USA</td>\n",
              "      <td>2008</td>\n",
              "      <td>261,300,000.0</td>\n",
              "      <td>303374067</td>\n",
              "      <td>United States</td>\n",
              "      <td>0.8613129084629373</td>\n",
              "    </tr>\n",
              "    <tr>\n",
              "      <th>8126</th>\n",
              "      <td>USA</td>\n",
              "      <td>2009</td>\n",
              "      <td>274,283,000.0</td>\n",
              "      <td>306076362</td>\n",
              "      <td>United States</td>\n",
              "      <td>0.8961260458264333</td>\n",
              "    </tr>\n",
              "    <tr>\n",
              "      <th>8127</th>\n",
              "      <td>USA</td>\n",
              "      <td>2010</td>\n",
              "      <td>285,118,000.0</td>\n",
              "      <td>308641391</td>\n",
              "      <td>United States</td>\n",
              "      <td>0.9237840688710478</td>\n",
              "    </tr>\n",
              "    <tr>\n",
              "      <th>8128</th>\n",
              "      <td>USA</td>\n",
              "      <td>2011</td>\n",
              "      <td>297,404,000.0</td>\n",
              "      <td>311051373</td>\n",
              "      <td>United States</td>\n",
              "      <td>0.9561250192584747</td>\n",
              "    </tr>\n",
              "    <tr>\n",
              "      <th>8129</th>\n",
              "      <td>USA</td>\n",
              "      <td>2012</td>\n",
              "      <td>304,838,000.0</td>\n",
              "      <td>313335423</td>\n",
              "      <td>United States</td>\n",
              "      <td>0.9728807457559626</td>\n",
              "    </tr>\n",
              "    <tr>\n",
              "      <th>8130</th>\n",
              "      <td>USA</td>\n",
              "      <td>2013</td>\n",
              "      <td>310,698,000.0</td>\n",
              "      <td>315536676</td>\n",
              "      <td>United States</td>\n",
              "      <td>0.9846652501340288</td>\n",
              "    </tr>\n",
              "    <tr>\n",
              "      <th>8131</th>\n",
              "      <td>USA</td>\n",
              "      <td>2014</td>\n",
              "      <td>355,500,000.0</td>\n",
              "      <td>317718779</td>\n",
              "      <td>United States</td>\n",
              "      <td>1.118914031833164</td>\n",
              "    </tr>\n",
              "    <tr>\n",
              "      <th>8132</th>\n",
              "      <td>USA</td>\n",
              "      <td>2015</td>\n",
              "      <td>382,307,000.0</td>\n",
              "      <td>319929162</td>\n",
              "      <td>United States</td>\n",
              "      <td>1.1949739048796058</td>\n",
              "    </tr>\n",
              "    <tr>\n",
              "      <th>8133</th>\n",
              "      <td>USA</td>\n",
              "      <td>2016</td>\n",
              "      <td>395,881,000.0</td>\n",
              "      <td>322179605</td>\n",
              "      <td>United States</td>\n",
              "      <td>1.228758722948959</td>\n",
              "    </tr>\n",
              "    <tr>\n",
              "      <th>8134</th>\n",
              "      <td>USA</td>\n",
              "      <td>2017</td>\n",
              "      <td>395,881,000.0</td>\n",
              "      <td>324459463</td>\n",
              "      <td>United States</td>\n",
              "      <td>1.2201246847283354</td>\n",
              "    </tr>\n",
              "  </tbody>\n",
              "</table>\n",
              "</div>"
            ],
            "text/plain": [
              "      geo  time  cell_phones_total  population_total        country  \\\n",
              "8092  USA  1960                0.0         186808228  United States   \n",
              "8093  USA  1965                0.0         199815540  United States   \n",
              "8094  USA  1970                0.0         209588150  United States   \n",
              "8095  USA  1975                0.0         219205296  United States   \n",
              "8096  USA  1976                0.0         221239215  United States   \n",
              "8097  USA  1977                0.0         223324042  United States   \n",
              "8098  USA  1978                0.0         225449657  United States   \n",
              "8099  USA  1979                0.0         227599878  United States   \n",
              "8100  USA  1980                0.0         229763052  United States   \n",
              "8101  USA  1984           91,600.0         238573861  United States   \n",
              "8102  USA  1985          340,213.0         240824120  United States   \n",
              "8103  USA  1986          681,825.0         243098935  United States   \n",
              "8104  USA  1987        1,230,855.0         245402864  United States   \n",
              "8105  USA  1988        2,069,441.0         247739582  United States   \n",
              "8106  USA  1989        3,508,944.0         250113187  United States   \n",
              "8107  USA  1990        5,283,055.0         252529950  United States   \n",
              "8108  USA  1991        7,557,148.0         254974819  United States   \n",
              "8109  USA  1992       11,032,753.0         257454273  United States   \n",
              "8110  USA  1993       16,009,461.0         260020186  United States   \n",
              "8111  USA  1994       24,134,421.0         262741566  United States   \n",
              "8112  USA  1995       33,785,661.0         265658849  United States   \n",
              "8113  USA  1996       44,042,992.0         268803424  United States   \n",
              "8114  USA  1997       55,312,293.0         272136551  United States   \n",
              "8115  USA  1998       69,209,321.0         275542603  United States   \n",
              "8116  USA  1999       86,047,003.0         278862277  United States   \n",
              "8117  USA  2000      109,478,031.0         281982778  United States   \n",
              "8118  USA  2001      128,500,000.0         284852391  United States   \n",
              "8119  USA  2002      141,800,000.0         287506847  United States   \n",
              "8120  USA  2003      160,637,000.0         290027624  United States   \n",
              "8121  USA  2004      184,819,000.0         292539324  United States   \n",
              "8122  USA  2005      203,700,000.0         295129501  United States   \n",
              "8123  USA  2006      229,600,000.0         297827356  United States   \n",
              "8124  USA  2007      249,300,000.0         300595175  United States   \n",
              "8125  USA  2008      261,300,000.0         303374067  United States   \n",
              "8126  USA  2009      274,283,000.0         306076362  United States   \n",
              "8127  USA  2010      285,118,000.0         308641391  United States   \n",
              "8128  USA  2011      297,404,000.0         311051373  United States   \n",
              "8129  USA  2012      304,838,000.0         313335423  United States   \n",
              "8130  USA  2013      310,698,000.0         315536676  United States   \n",
              "8131  USA  2014      355,500,000.0         317718779  United States   \n",
              "8132  USA  2015      382,307,000.0         319929162  United States   \n",
              "8133  USA  2016      395,881,000.0         322179605  United States   \n",
              "8134  USA  2017      395,881,000.0         324459463  United States   \n",
              "\n",
              "      cell_phones_per_person  \n",
              "8092                     0.0  \n",
              "8093                     0.0  \n",
              "8094                     0.0  \n",
              "8095                     0.0  \n",
              "8096                     0.0  \n",
              "8097                     0.0  \n",
              "8098                     0.0  \n",
              "8099                     0.0  \n",
              "8100                     0.0  \n",
              "8101   0.0003839481811462992  \n",
              "8102   0.0014127031793991398  \n",
              "8103   0.0028047222831313516  \n",
              "8104    0.005015650510093476  \n",
              "8105    0.008353291723887707  \n",
              "8106     0.01402942420624947  \n",
              "8107     0.02092050863669834  \n",
              "8108     0.02963880131237587  \n",
              "8109    0.042853252624010636  \n",
              "8110     0.06157006979450434  \n",
              "8111     0.09185612070227213  \n",
              "8112     0.12717687036278622  \n",
              "8113     0.16384832955104026  \n",
              "8114     0.20325198065731348  \n",
              "8115     0.25117466499363805  \n",
              "8116     0.30856451408807795  \n",
              "8117      0.3882436784845066  \n",
              "8118     0.45111083515532086  \n",
              "8119      0.4932056452902494  \n",
              "8120      0.5538679308699229  \n",
              "8121      0.6317748925952943  \n",
              "8122      0.6902054837276331  \n",
              "8123      0.7709164231374367  \n",
              "8124      0.8293546295279024  \n",
              "8125      0.8613129084629373  \n",
              "8126      0.8961260458264333  \n",
              "8127      0.9237840688710478  \n",
              "8128      0.9561250192584747  \n",
              "8129      0.9728807457559626  \n",
              "8130      0.9846652501340288  \n",
              "8131       1.118914031833164  \n",
              "8132      1.1949739048796058  \n",
              "8133       1.228758722948959  \n",
              "8134      1.2201246847283354  "
            ]
          },
          "metadata": {
            "tags": []
          },
          "execution_count": 78
        }
      ]
    },
    {
      "metadata": {
        "id": "6RurUYQVFlNR",
        "colab_type": "text"
      },
      "cell_type": "markdown",
      "source": [
        "2014 was the first year that the United States had more cell phones than people. "
      ]
    },
    {
      "metadata": {
        "id": "6J7iwMnTg8KZ",
        "colab_type": "text"
      },
      "cell_type": "markdown",
      "source": [
        "## Part 4. Reshape data"
      ]
    },
    {
      "metadata": {
        "id": "LP9InazRkUxG",
        "colab_type": "text"
      },
      "cell_type": "markdown",
      "source": [
        "Create a pivot table:\n",
        "- Columns: Years 2007—2017\n",
        "- Rows: China, India, United States, Indonesia, Brazil (order doesn't matter)\n",
        "- Values: Cell Phones Total\n",
        "\n",
        "The table's shape should be: (5, 11)"
      ]
    },
    {
      "metadata": {
        "id": "b2MIa5UhMONF",
        "colab_type": "code",
        "colab": {
          "base_uri": "https://localhost:8080/",
          "height": 204
        },
        "outputId": "c7f143e2-957a-43a4-889d-fd5f984f2e36"
      },
      "cell_type": "code",
      "source": [
        "merged.head()"
      ],
      "execution_count": 112,
      "outputs": [
        {
          "output_type": "execute_result",
          "data": {
            "text/html": [
              "<div>\n",
              "<style scoped>\n",
              "    .dataframe tbody tr th:only-of-type {\n",
              "        vertical-align: middle;\n",
              "    }\n",
              "\n",
              "    .dataframe tbody tr th {\n",
              "        vertical-align: top;\n",
              "    }\n",
              "\n",
              "    .dataframe thead th {\n",
              "        text-align: right;\n",
              "    }\n",
              "</style>\n",
              "<table border=\"1\" class=\"dataframe\">\n",
              "  <thead>\n",
              "    <tr style=\"text-align: right;\">\n",
              "      <th></th>\n",
              "      <th>geo</th>\n",
              "      <th>time</th>\n",
              "      <th>cell_phones_total</th>\n",
              "      <th>population_total</th>\n",
              "      <th>country</th>\n",
              "      <th>cell_phones_per_person</th>\n",
              "    </tr>\n",
              "  </thead>\n",
              "  <tbody>\n",
              "    <tr>\n",
              "      <th>0</th>\n",
              "      <td>AFG</td>\n",
              "      <td>1960</td>\n",
              "      <td>0.0</td>\n",
              "      <td>8996351</td>\n",
              "      <td>Afghanistan</td>\n",
              "      <td>0.0</td>\n",
              "    </tr>\n",
              "    <tr>\n",
              "      <th>1</th>\n",
              "      <td>AFG</td>\n",
              "      <td>1965</td>\n",
              "      <td>0.0</td>\n",
              "      <td>9938414</td>\n",
              "      <td>Afghanistan</td>\n",
              "      <td>0.0</td>\n",
              "    </tr>\n",
              "    <tr>\n",
              "      <th>2</th>\n",
              "      <td>AFG</td>\n",
              "      <td>1970</td>\n",
              "      <td>0.0</td>\n",
              "      <td>11126123</td>\n",
              "      <td>Afghanistan</td>\n",
              "      <td>0.0</td>\n",
              "    </tr>\n",
              "    <tr>\n",
              "      <th>3</th>\n",
              "      <td>AFG</td>\n",
              "      <td>1975</td>\n",
              "      <td>0.0</td>\n",
              "      <td>12590286</td>\n",
              "      <td>Afghanistan</td>\n",
              "      <td>0.0</td>\n",
              "    </tr>\n",
              "    <tr>\n",
              "      <th>4</th>\n",
              "      <td>AFG</td>\n",
              "      <td>1976</td>\n",
              "      <td>0.0</td>\n",
              "      <td>12840299</td>\n",
              "      <td>Afghanistan</td>\n",
              "      <td>0.0</td>\n",
              "    </tr>\n",
              "  </tbody>\n",
              "</table>\n",
              "</div>"
            ],
            "text/plain": [
              "   geo  time  cell_phones_total  population_total      country  \\\n",
              "0  AFG  1960                0.0           8996351  Afghanistan   \n",
              "1  AFG  1965                0.0           9938414  Afghanistan   \n",
              "2  AFG  1970                0.0          11126123  Afghanistan   \n",
              "3  AFG  1975                0.0          12590286  Afghanistan   \n",
              "4  AFG  1976                0.0          12840299  Afghanistan   \n",
              "\n",
              "   cell_phones_per_person  \n",
              "0                     0.0  \n",
              "1                     0.0  \n",
              "2                     0.0  \n",
              "3                     0.0  \n",
              "4                     0.0  "
            ]
          },
          "metadata": {
            "tags": []
          },
          "execution_count": 112
        }
      ]
    },
    {
      "metadata": {
        "id": "JD7mXXjLj4Ue",
        "colab_type": "code",
        "colab": {
          "base_uri": "https://localhost:8080/",
          "height": 282
        },
        "outputId": "97f05f6d-c8e8-4315-fa5e-95062f3031d2"
      },
      "cell_type": "code",
      "source": [
        "countries = ['China', 'United States', 'Indonesia', 'Brazil']\n",
        "time = merged[ merged['time'] > 2006]\n",
        "\n",
        "def in_countries(x):\n",
        "  if str(x) in countries:\n",
        "    return True\n",
        "  else:\n",
        "    return False\n",
        "\n",
        "subset = (merged[( (merged['country'] == 'United States') |\n",
        "                   (merged['country'] == 'China') |\n",
        "                   (merged['country'] == 'India') |\n",
        "                   (merged['country'] == 'Indonesia') |\n",
        "                   (merged['country'] == 'Brazil') ) &\n",
        "                   (merged['time'] > 2006)\n",
        "               ])\n",
        "\n",
        "merged_pivot = subset.pivot(columns='time', index='country', values='cell_phones_total')\n",
        "merged_pivot"
      ],
      "execution_count": 123,
      "outputs": [
        {
          "output_type": "execute_result",
          "data": {
            "text/html": [
              "<div>\n",
              "<style scoped>\n",
              "    .dataframe tbody tr th:only-of-type {\n",
              "        vertical-align: middle;\n",
              "    }\n",
              "\n",
              "    .dataframe tbody tr th {\n",
              "        vertical-align: top;\n",
              "    }\n",
              "\n",
              "    .dataframe thead th {\n",
              "        text-align: right;\n",
              "    }\n",
              "</style>\n",
              "<table border=\"1\" class=\"dataframe\">\n",
              "  <thead>\n",
              "    <tr style=\"text-align: right;\">\n",
              "      <th>time</th>\n",
              "      <th>2007</th>\n",
              "      <th>2008</th>\n",
              "      <th>2009</th>\n",
              "      <th>2010</th>\n",
              "      <th>2011</th>\n",
              "      <th>2012</th>\n",
              "      <th>2013</th>\n",
              "      <th>2014</th>\n",
              "      <th>2015</th>\n",
              "      <th>2016</th>\n",
              "      <th>2017</th>\n",
              "    </tr>\n",
              "    <tr>\n",
              "      <th>country</th>\n",
              "      <th></th>\n",
              "      <th></th>\n",
              "      <th></th>\n",
              "      <th></th>\n",
              "      <th></th>\n",
              "      <th></th>\n",
              "      <th></th>\n",
              "      <th></th>\n",
              "      <th></th>\n",
              "      <th></th>\n",
              "      <th></th>\n",
              "    </tr>\n",
              "  </thead>\n",
              "  <tbody>\n",
              "    <tr>\n",
              "      <th>Brazil</th>\n",
              "      <td>120,980,103.0</td>\n",
              "      <td>150,641,403.0</td>\n",
              "      <td>169,385,584.0</td>\n",
              "      <td>196,929,978.0</td>\n",
              "      <td>234,357,507.0</td>\n",
              "      <td>248,323,703.0</td>\n",
              "      <td>271,099,799.0</td>\n",
              "      <td>280,728,796.0</td>\n",
              "      <td>257,814,274.0</td>\n",
              "      <td>244,067,356.0</td>\n",
              "      <td>236,488,548.0</td>\n",
              "    </tr>\n",
              "    <tr>\n",
              "      <th>China</th>\n",
              "      <td>547,306,000.0</td>\n",
              "      <td>641,245,000.0</td>\n",
              "      <td>747,214,000.0</td>\n",
              "      <td>859,003,000.0</td>\n",
              "      <td>986,253,000.0</td>\n",
              "      <td>1,112,155,000.0</td>\n",
              "      <td>1,229,113,000.0</td>\n",
              "      <td>1,286,093,000.0</td>\n",
              "      <td>1,291,984,200.0</td>\n",
              "      <td>1,364,934,000.0</td>\n",
              "      <td>1,474,097,000.0</td>\n",
              "    </tr>\n",
              "    <tr>\n",
              "      <th>India</th>\n",
              "      <td>233,620,000.0</td>\n",
              "      <td>346,890,000.0</td>\n",
              "      <td>525,090,000.0</td>\n",
              "      <td>752,190,000.0</td>\n",
              "      <td>893,862,478.0</td>\n",
              "      <td>864,720,917.0</td>\n",
              "      <td>886,304,245.0</td>\n",
              "      <td>944,008,677.0</td>\n",
              "      <td>1,001,056,000.0</td>\n",
              "      <td>1,127,809,000.0</td>\n",
              "      <td>1,168,902,277.0</td>\n",
              "    </tr>\n",
              "    <tr>\n",
              "      <th>Indonesia</th>\n",
              "      <td>93,386,881.0</td>\n",
              "      <td>140,578,243.0</td>\n",
              "      <td>163,676,961.0</td>\n",
              "      <td>211,290,235.0</td>\n",
              "      <td>249,805,619.0</td>\n",
              "      <td>281,963,665.0</td>\n",
              "      <td>313,226,914.0</td>\n",
              "      <td>325,582,819.0</td>\n",
              "      <td>338,948,340.0</td>\n",
              "      <td>385,573,398.0</td>\n",
              "      <td>458,923,202.0</td>\n",
              "    </tr>\n",
              "    <tr>\n",
              "      <th>United States</th>\n",
              "      <td>249,300,000.0</td>\n",
              "      <td>261,300,000.0</td>\n",
              "      <td>274,283,000.0</td>\n",
              "      <td>285,118,000.0</td>\n",
              "      <td>297,404,000.0</td>\n",
              "      <td>304,838,000.0</td>\n",
              "      <td>310,698,000.0</td>\n",
              "      <td>355,500,000.0</td>\n",
              "      <td>382,307,000.0</td>\n",
              "      <td>395,881,000.0</td>\n",
              "      <td>395,881,000.0</td>\n",
              "    </tr>\n",
              "  </tbody>\n",
              "</table>\n",
              "</div>"
            ],
            "text/plain": [
              "time                   2007          2008          2009          2010  \\\n",
              "country                                                                 \n",
              "Brazil        120,980,103.0 150,641,403.0 169,385,584.0 196,929,978.0   \n",
              "China         547,306,000.0 641,245,000.0 747,214,000.0 859,003,000.0   \n",
              "India         233,620,000.0 346,890,000.0 525,090,000.0 752,190,000.0   \n",
              "Indonesia      93,386,881.0 140,578,243.0 163,676,961.0 211,290,235.0   \n",
              "United States 249,300,000.0 261,300,000.0 274,283,000.0 285,118,000.0   \n",
              "\n",
              "time                   2011            2012            2013            2014  \\\n",
              "country                                                                       \n",
              "Brazil        234,357,507.0   248,323,703.0   271,099,799.0   280,728,796.0   \n",
              "China         986,253,000.0 1,112,155,000.0 1,229,113,000.0 1,286,093,000.0   \n",
              "India         893,862,478.0   864,720,917.0   886,304,245.0   944,008,677.0   \n",
              "Indonesia     249,805,619.0   281,963,665.0   313,226,914.0   325,582,819.0   \n",
              "United States 297,404,000.0   304,838,000.0   310,698,000.0   355,500,000.0   \n",
              "\n",
              "time                     2015            2016            2017  \n",
              "country                                                        \n",
              "Brazil          257,814,274.0   244,067,356.0   236,488,548.0  \n",
              "China         1,291,984,200.0 1,364,934,000.0 1,474,097,000.0  \n",
              "India         1,001,056,000.0 1,127,809,000.0 1,168,902,277.0  \n",
              "Indonesia       338,948,340.0   385,573,398.0   458,923,202.0  \n",
              "United States   382,307,000.0   395,881,000.0   395,881,000.0  "
            ]
          },
          "metadata": {
            "tags": []
          },
          "execution_count": 123
        }
      ]
    },
    {
      "metadata": {
        "id": "hIJUrf3cNKhK",
        "colab_type": "code",
        "colab": {
          "base_uri": "https://localhost:8080/",
          "height": 34
        },
        "outputId": "432db50b-3e83-4c58-8ba2-62ccaa9b5e34"
      },
      "cell_type": "code",
      "source": [
        "merged_pivot.shape"
      ],
      "execution_count": 124,
      "outputs": [
        {
          "output_type": "execute_result",
          "data": {
            "text/plain": [
              "(5, 11)"
            ]
          },
          "metadata": {
            "tags": []
          },
          "execution_count": 124
        }
      ]
    },
    {
      "metadata": {
        "id": "CNKTu2DCnAo6",
        "colab_type": "text"
      },
      "cell_type": "markdown",
      "source": [
        "#### OPTIONAL BONUS QUESTION!\n",
        "\n",
        "Sort these 5 countries, by biggest increase in cell phones from 2007 to 2017.\n",
        "\n",
        "Which country had 935,282,277 more cell phones in 2017 versus 2007?"
      ]
    },
    {
      "metadata": {
        "id": "O4Aecv1fmQlj",
        "colab_type": "code",
        "colab": {
          "base_uri": "https://localhost:8080/",
          "height": 282
        },
        "outputId": "60b47bc6-5c14-451d-f22b-949b03b21dbb"
      },
      "cell_type": "code",
      "source": [
        "merged_pivot.head()"
      ],
      "execution_count": 125,
      "outputs": [
        {
          "output_type": "execute_result",
          "data": {
            "text/html": [
              "<div>\n",
              "<style scoped>\n",
              "    .dataframe tbody tr th:only-of-type {\n",
              "        vertical-align: middle;\n",
              "    }\n",
              "\n",
              "    .dataframe tbody tr th {\n",
              "        vertical-align: top;\n",
              "    }\n",
              "\n",
              "    .dataframe thead th {\n",
              "        text-align: right;\n",
              "    }\n",
              "</style>\n",
              "<table border=\"1\" class=\"dataframe\">\n",
              "  <thead>\n",
              "    <tr style=\"text-align: right;\">\n",
              "      <th>time</th>\n",
              "      <th>2007</th>\n",
              "      <th>2008</th>\n",
              "      <th>2009</th>\n",
              "      <th>2010</th>\n",
              "      <th>2011</th>\n",
              "      <th>2012</th>\n",
              "      <th>2013</th>\n",
              "      <th>2014</th>\n",
              "      <th>2015</th>\n",
              "      <th>2016</th>\n",
              "      <th>2017</th>\n",
              "    </tr>\n",
              "    <tr>\n",
              "      <th>country</th>\n",
              "      <th></th>\n",
              "      <th></th>\n",
              "      <th></th>\n",
              "      <th></th>\n",
              "      <th></th>\n",
              "      <th></th>\n",
              "      <th></th>\n",
              "      <th></th>\n",
              "      <th></th>\n",
              "      <th></th>\n",
              "      <th></th>\n",
              "    </tr>\n",
              "  </thead>\n",
              "  <tbody>\n",
              "    <tr>\n",
              "      <th>Brazil</th>\n",
              "      <td>120,980,103.0</td>\n",
              "      <td>150,641,403.0</td>\n",
              "      <td>169,385,584.0</td>\n",
              "      <td>196,929,978.0</td>\n",
              "      <td>234,357,507.0</td>\n",
              "      <td>248,323,703.0</td>\n",
              "      <td>271,099,799.0</td>\n",
              "      <td>280,728,796.0</td>\n",
              "      <td>257,814,274.0</td>\n",
              "      <td>244,067,356.0</td>\n",
              "      <td>236,488,548.0</td>\n",
              "    </tr>\n",
              "    <tr>\n",
              "      <th>China</th>\n",
              "      <td>547,306,000.0</td>\n",
              "      <td>641,245,000.0</td>\n",
              "      <td>747,214,000.0</td>\n",
              "      <td>859,003,000.0</td>\n",
              "      <td>986,253,000.0</td>\n",
              "      <td>1,112,155,000.0</td>\n",
              "      <td>1,229,113,000.0</td>\n",
              "      <td>1,286,093,000.0</td>\n",
              "      <td>1,291,984,200.0</td>\n",
              "      <td>1,364,934,000.0</td>\n",
              "      <td>1,474,097,000.0</td>\n",
              "    </tr>\n",
              "    <tr>\n",
              "      <th>India</th>\n",
              "      <td>233,620,000.0</td>\n",
              "      <td>346,890,000.0</td>\n",
              "      <td>525,090,000.0</td>\n",
              "      <td>752,190,000.0</td>\n",
              "      <td>893,862,478.0</td>\n",
              "      <td>864,720,917.0</td>\n",
              "      <td>886,304,245.0</td>\n",
              "      <td>944,008,677.0</td>\n",
              "      <td>1,001,056,000.0</td>\n",
              "      <td>1,127,809,000.0</td>\n",
              "      <td>1,168,902,277.0</td>\n",
              "    </tr>\n",
              "    <tr>\n",
              "      <th>Indonesia</th>\n",
              "      <td>93,386,881.0</td>\n",
              "      <td>140,578,243.0</td>\n",
              "      <td>163,676,961.0</td>\n",
              "      <td>211,290,235.0</td>\n",
              "      <td>249,805,619.0</td>\n",
              "      <td>281,963,665.0</td>\n",
              "      <td>313,226,914.0</td>\n",
              "      <td>325,582,819.0</td>\n",
              "      <td>338,948,340.0</td>\n",
              "      <td>385,573,398.0</td>\n",
              "      <td>458,923,202.0</td>\n",
              "    </tr>\n",
              "    <tr>\n",
              "      <th>United States</th>\n",
              "      <td>249,300,000.0</td>\n",
              "      <td>261,300,000.0</td>\n",
              "      <td>274,283,000.0</td>\n",
              "      <td>285,118,000.0</td>\n",
              "      <td>297,404,000.0</td>\n",
              "      <td>304,838,000.0</td>\n",
              "      <td>310,698,000.0</td>\n",
              "      <td>355,500,000.0</td>\n",
              "      <td>382,307,000.0</td>\n",
              "      <td>395,881,000.0</td>\n",
              "      <td>395,881,000.0</td>\n",
              "    </tr>\n",
              "  </tbody>\n",
              "</table>\n",
              "</div>"
            ],
            "text/plain": [
              "time                   2007          2008          2009          2010  \\\n",
              "country                                                                 \n",
              "Brazil        120,980,103.0 150,641,403.0 169,385,584.0 196,929,978.0   \n",
              "China         547,306,000.0 641,245,000.0 747,214,000.0 859,003,000.0   \n",
              "India         233,620,000.0 346,890,000.0 525,090,000.0 752,190,000.0   \n",
              "Indonesia      93,386,881.0 140,578,243.0 163,676,961.0 211,290,235.0   \n",
              "United States 249,300,000.0 261,300,000.0 274,283,000.0 285,118,000.0   \n",
              "\n",
              "time                   2011            2012            2013            2014  \\\n",
              "country                                                                       \n",
              "Brazil        234,357,507.0   248,323,703.0   271,099,799.0   280,728,796.0   \n",
              "China         986,253,000.0 1,112,155,000.0 1,229,113,000.0 1,286,093,000.0   \n",
              "India         893,862,478.0   864,720,917.0   886,304,245.0   944,008,677.0   \n",
              "Indonesia     249,805,619.0   281,963,665.0   313,226,914.0   325,582,819.0   \n",
              "United States 297,404,000.0   304,838,000.0   310,698,000.0   355,500,000.0   \n",
              "\n",
              "time                     2015            2016            2017  \n",
              "country                                                        \n",
              "Brazil          257,814,274.0   244,067,356.0   236,488,548.0  \n",
              "China         1,291,984,200.0 1,364,934,000.0 1,474,097,000.0  \n",
              "India         1,001,056,000.0 1,127,809,000.0 1,168,902,277.0  \n",
              "Indonesia       338,948,340.0   385,573,398.0   458,923,202.0  \n",
              "United States   382,307,000.0   395,881,000.0   395,881,000.0  "
            ]
          },
          "metadata": {
            "tags": []
          },
          "execution_count": 125
        }
      ]
    },
    {
      "metadata": {
        "id": "bZztYwPpNwiV",
        "colab_type": "code",
        "colab": {
          "base_uri": "https://localhost:8080/",
          "height": 136
        },
        "outputId": "621d3b93-a6ea-4402-d425-5e61f80c52b7"
      },
      "cell_type": "code",
      "source": [
        "( merged_pivot[2017] - merged_pivot[2007]).sort_values(ascending=False)"
      ],
      "execution_count": 128,
      "outputs": [
        {
          "output_type": "execute_result",
          "data": {
            "text/plain": [
              "country\n",
              "India           935,282,277.0\n",
              "China           926,791,000.0\n",
              "Indonesia       365,536,321.0\n",
              "United States   146,581,000.0\n",
              "Brazil          115,508,445.0\n",
              "dtype: float64"
            ]
          },
          "metadata": {
            "tags": []
          },
          "execution_count": 128
        }
      ]
    },
    {
      "metadata": {
        "id": "an6LkVzaOXKR",
        "colab_type": "text"
      },
      "cell_type": "markdown",
      "source": [
        "India had the biggest increase in cell phones from 2007 to 2017, with a net addition of 935,282,277 cell phones."
      ]
    },
    {
      "metadata": {
        "id": "7iHkMsa3Rorh",
        "colab_type": "text"
      },
      "cell_type": "markdown",
      "source": [
        "If you have the time and curiosity, what other questions can you ask and answer with this data?"
      ]
    },
    {
      "metadata": {
        "id": "T2sr2-gCWOiP",
        "colab_type": "text"
      },
      "cell_type": "markdown",
      "source": [
        "# Extra Analysis\n",
        "\n",
        "Goal: Visualize cell phones per person by world region over time"
      ]
    },
    {
      "metadata": {
        "id": "OZP0r1XqYyLi",
        "colab_type": "code",
        "colab": {}
      },
      "cell_type": "code",
      "source": [
        "import matplotlib.pyplot as plt"
      ],
      "execution_count": 0,
      "outputs": []
    },
    {
      "metadata": {
        "id": "7FNB03BBW4mo",
        "colab_type": "code",
        "colab": {
          "base_uri": "https://localhost:8080/",
          "height": 34
        },
        "outputId": "7271e2bf-fd07-476c-bb60-f648a4d29f28"
      },
      "cell_type": "code",
      "source": [
        "cell_phones.columns.tolist()"
      ],
      "execution_count": 129,
      "outputs": [
        {
          "output_type": "execute_result",
          "data": {
            "text/plain": [
              "['geo', 'time', 'cell_phones_total']"
            ]
          },
          "metadata": {
            "tags": []
          },
          "execution_count": 129
        }
      ]
    },
    {
      "metadata": {
        "id": "CdDxm30pW6PW",
        "colab_type": "code",
        "colab": {
          "base_uri": "https://localhost:8080/",
          "height": 34
        },
        "outputId": "578522d7-06c1-4b99-d615-126c7cd6664e"
      },
      "cell_type": "code",
      "source": [
        "population.columns.tolist()"
      ],
      "execution_count": 130,
      "outputs": [
        {
          "output_type": "execute_result",
          "data": {
            "text/plain": [
              "['geo', 'time', 'population_total']"
            ]
          },
          "metadata": {
            "tags": []
          },
          "execution_count": 130
        }
      ]
    },
    {
      "metadata": {
        "id": "-Jg5oWFLW98W",
        "colab_type": "code",
        "colab": {
          "base_uri": "https://localhost:8080/",
          "height": 578
        },
        "outputId": "7f9dd573-e816-41b8-c63a-ce45ef12e549"
      },
      "cell_type": "code",
      "source": [
        "geo_country_codes.columns.tolist()"
      ],
      "execution_count": 131,
      "outputs": [
        {
          "output_type": "execute_result",
          "data": {
            "text/plain": [
              "['geo',\n",
              " 'alt_5',\n",
              " 'alternative_1',\n",
              " 'alternative_2',\n",
              " 'alternative_3',\n",
              " 'alternative_4_cdiac',\n",
              " 'arb1',\n",
              " 'arb2',\n",
              " 'arb3',\n",
              " 'arb4',\n",
              " 'arb5',\n",
              " 'arb6',\n",
              " 'g77_and_oecd_countries',\n",
              " 'gapminder_list',\n",
              " 'god_id',\n",
              " 'gwid',\n",
              " 'income_groups',\n",
              " 'is--country',\n",
              " 'iso3166_1_alpha2',\n",
              " 'iso3166_1_alpha3',\n",
              " 'iso3166_1_numeric',\n",
              " 'iso3166_2',\n",
              " 'landlocked',\n",
              " 'latitude',\n",
              " 'longitude',\n",
              " 'main_religion_2008',\n",
              " 'country',\n",
              " 'pandg',\n",
              " 'un_state',\n",
              " 'unicode_region_subtag',\n",
              " 'upper_case_name',\n",
              " 'world_4region',\n",
              " 'world_6region']"
            ]
          },
          "metadata": {
            "tags": []
          },
          "execution_count": 131
        }
      ]
    },
    {
      "metadata": {
        "id": "YdXRIfv-XCtf",
        "colab_type": "code",
        "colab": {}
      },
      "cell_type": "code",
      "source": [
        "world = pd.merge(cell_phones, population, how='inner', on=['geo', 'time'])"
      ],
      "execution_count": 0,
      "outputs": []
    },
    {
      "metadata": {
        "id": "ucWowf5NXUlu",
        "colab_type": "code",
        "colab": {
          "base_uri": "https://localhost:8080/",
          "height": 34
        },
        "outputId": "d9857cdc-ebfe-4da1-c213-8661c24fd19c"
      },
      "cell_type": "code",
      "source": [
        "world.shape"
      ],
      "execution_count": 134,
      "outputs": [
        {
          "output_type": "execute_result",
          "data": {
            "text/plain": [
              "(8590, 4)"
            ]
          },
          "metadata": {
            "tags": []
          },
          "execution_count": 134
        }
      ]
    },
    {
      "metadata": {
        "id": "5d085DDFXW3D",
        "colab_type": "code",
        "colab": {}
      },
      "cell_type": "code",
      "source": [
        "world = pd.merge(world, geo_country_codes[ ['geo', 'world_6region'] ] )"
      ],
      "execution_count": 0,
      "outputs": []
    },
    {
      "metadata": {
        "id": "aROkhd_9XlCx",
        "colab_type": "code",
        "colab": {
          "base_uri": "https://localhost:8080/",
          "height": 204
        },
        "outputId": "677cd79f-bdd4-41fc-e189-716bc6725d96"
      },
      "cell_type": "code",
      "source": [
        "world.head()"
      ],
      "execution_count": 136,
      "outputs": [
        {
          "output_type": "execute_result",
          "data": {
            "text/html": [
              "<div>\n",
              "<style scoped>\n",
              "    .dataframe tbody tr th:only-of-type {\n",
              "        vertical-align: middle;\n",
              "    }\n",
              "\n",
              "    .dataframe tbody tr th {\n",
              "        vertical-align: top;\n",
              "    }\n",
              "\n",
              "    .dataframe thead th {\n",
              "        text-align: right;\n",
              "    }\n",
              "</style>\n",
              "<table border=\"1\" class=\"dataframe\">\n",
              "  <thead>\n",
              "    <tr style=\"text-align: right;\">\n",
              "      <th></th>\n",
              "      <th>geo</th>\n",
              "      <th>time</th>\n",
              "      <th>cell_phones_total</th>\n",
              "      <th>population_total</th>\n",
              "      <th>world_6region</th>\n",
              "    </tr>\n",
              "  </thead>\n",
              "  <tbody>\n",
              "    <tr>\n",
              "      <th>0</th>\n",
              "      <td>afg</td>\n",
              "      <td>1960</td>\n",
              "      <td>0.0</td>\n",
              "      <td>8996351</td>\n",
              "      <td>south_asia</td>\n",
              "    </tr>\n",
              "    <tr>\n",
              "      <th>1</th>\n",
              "      <td>afg</td>\n",
              "      <td>1965</td>\n",
              "      <td>0.0</td>\n",
              "      <td>9938414</td>\n",
              "      <td>south_asia</td>\n",
              "    </tr>\n",
              "    <tr>\n",
              "      <th>2</th>\n",
              "      <td>afg</td>\n",
              "      <td>1970</td>\n",
              "      <td>0.0</td>\n",
              "      <td>11126123</td>\n",
              "      <td>south_asia</td>\n",
              "    </tr>\n",
              "    <tr>\n",
              "      <th>3</th>\n",
              "      <td>afg</td>\n",
              "      <td>1975</td>\n",
              "      <td>0.0</td>\n",
              "      <td>12590286</td>\n",
              "      <td>south_asia</td>\n",
              "    </tr>\n",
              "    <tr>\n",
              "      <th>4</th>\n",
              "      <td>afg</td>\n",
              "      <td>1976</td>\n",
              "      <td>0.0</td>\n",
              "      <td>12840299</td>\n",
              "      <td>south_asia</td>\n",
              "    </tr>\n",
              "  </tbody>\n",
              "</table>\n",
              "</div>"
            ],
            "text/plain": [
              "   geo  time  cell_phones_total  population_total world_6region\n",
              "0  afg  1960                0.0           8996351    south_asia\n",
              "1  afg  1965                0.0           9938414    south_asia\n",
              "2  afg  1970                0.0          11126123    south_asia\n",
              "3  afg  1975                0.0          12590286    south_asia\n",
              "4  afg  1976                0.0          12840299    south_asia"
            ]
          },
          "metadata": {
            "tags": []
          },
          "execution_count": 136
        }
      ]
    },
    {
      "metadata": {
        "id": "IEgKAw7GXmpr",
        "colab_type": "code",
        "colab": {}
      },
      "cell_type": "code",
      "source": [
        "world['cell_phones_per_person'] = ( world['cell_phones_total'] / world['population_total'] )"
      ],
      "execution_count": 0,
      "outputs": []
    },
    {
      "metadata": {
        "id": "1DQm35wDX9VL",
        "colab_type": "code",
        "colab": {
          "base_uri": "https://localhost:8080/",
          "height": 204
        },
        "outputId": "19a672cb-5cd3-4a44-8d1a-5e4e42c61020"
      },
      "cell_type": "code",
      "source": [
        "world.head()"
      ],
      "execution_count": 139,
      "outputs": [
        {
          "output_type": "execute_result",
          "data": {
            "text/html": [
              "<div>\n",
              "<style scoped>\n",
              "    .dataframe tbody tr th:only-of-type {\n",
              "        vertical-align: middle;\n",
              "    }\n",
              "\n",
              "    .dataframe tbody tr th {\n",
              "        vertical-align: top;\n",
              "    }\n",
              "\n",
              "    .dataframe thead th {\n",
              "        text-align: right;\n",
              "    }\n",
              "</style>\n",
              "<table border=\"1\" class=\"dataframe\">\n",
              "  <thead>\n",
              "    <tr style=\"text-align: right;\">\n",
              "      <th></th>\n",
              "      <th>geo</th>\n",
              "      <th>time</th>\n",
              "      <th>cell_phones_total</th>\n",
              "      <th>population_total</th>\n",
              "      <th>world_6region</th>\n",
              "      <th>cell_phones_per_person</th>\n",
              "    </tr>\n",
              "  </thead>\n",
              "  <tbody>\n",
              "    <tr>\n",
              "      <th>0</th>\n",
              "      <td>afg</td>\n",
              "      <td>1960</td>\n",
              "      <td>0.0</td>\n",
              "      <td>8996351</td>\n",
              "      <td>south_asia</td>\n",
              "      <td>0.0</td>\n",
              "    </tr>\n",
              "    <tr>\n",
              "      <th>1</th>\n",
              "      <td>afg</td>\n",
              "      <td>1965</td>\n",
              "      <td>0.0</td>\n",
              "      <td>9938414</td>\n",
              "      <td>south_asia</td>\n",
              "      <td>0.0</td>\n",
              "    </tr>\n",
              "    <tr>\n",
              "      <th>2</th>\n",
              "      <td>afg</td>\n",
              "      <td>1970</td>\n",
              "      <td>0.0</td>\n",
              "      <td>11126123</td>\n",
              "      <td>south_asia</td>\n",
              "      <td>0.0</td>\n",
              "    </tr>\n",
              "    <tr>\n",
              "      <th>3</th>\n",
              "      <td>afg</td>\n",
              "      <td>1975</td>\n",
              "      <td>0.0</td>\n",
              "      <td>12590286</td>\n",
              "      <td>south_asia</td>\n",
              "      <td>0.0</td>\n",
              "    </tr>\n",
              "    <tr>\n",
              "      <th>4</th>\n",
              "      <td>afg</td>\n",
              "      <td>1976</td>\n",
              "      <td>0.0</td>\n",
              "      <td>12840299</td>\n",
              "      <td>south_asia</td>\n",
              "      <td>0.0</td>\n",
              "    </tr>\n",
              "  </tbody>\n",
              "</table>\n",
              "</div>"
            ],
            "text/plain": [
              "   geo  time  cell_phones_total  population_total world_6region  \\\n",
              "0  afg  1960                0.0           8996351    south_asia   \n",
              "1  afg  1965                0.0           9938414    south_asia   \n",
              "2  afg  1970                0.0          11126123    south_asia   \n",
              "3  afg  1975                0.0          12590286    south_asia   \n",
              "4  afg  1976                0.0          12840299    south_asia   \n",
              "\n",
              "   cell_phones_per_person  \n",
              "0                     0.0  \n",
              "1                     0.0  \n",
              "2                     0.0  \n",
              "3                     0.0  \n",
              "4                     0.0  "
            ]
          },
          "metadata": {
            "tags": []
          },
          "execution_count": 139
        }
      ]
    },
    {
      "metadata": {
        "id": "CEZt1m8GYM2d",
        "colab_type": "code",
        "colab": {
          "base_uri": "https://localhost:8080/",
          "height": 378
        },
        "outputId": "257d0763-cf9f-48a4-dd40-e0e28021d579"
      },
      "cell_type": "code",
      "source": [
        "pd.pivot_table(data=world, index='time', columns='world_6region', values='cell_phones_per_person').plot()"
      ],
      "execution_count": 166,
      "outputs": [
        {
          "output_type": "execute_result",
          "data": {
            "text/plain": [
              "<matplotlib.axes._subplots.AxesSubplot at 0x7f2c63943c88>"
            ]
          },
          "metadata": {
            "tags": []
          },
          "execution_count": 166
        },
        {
          "output_type": "display_data",
          "data": {
            "image/png": "[encoded data removed]",
            "text/plain": [
              "<Figure size 576x396 with 1 Axes>"
            ]
          },
          "metadata": {
            "tags": []
          }
        }
      ]
    },
    {
      "metadata": {
        "id": "_J4-Ar2GYOuN",
        "colab_type": "code",
        "colab": {
          "base_uri": "https://localhost:8080/",
          "height": 389
        },
        "outputId": "dab9c6ec-63e4-481a-dd57-de1e43f8f89e"
      },
      "cell_type": "code",
      "source": [
        "pd.pivot_table(data=world, index='time', columns='world_6region', values='cell_phones_total').plot()"
      ],
      "execution_count": 165,
      "outputs": [
        {
          "output_type": "execute_result",
          "data": {
            "text/plain": [
              "<matplotlib.axes._subplots.AxesSubplot at 0x7f2c5a43b2b0>"
            ]
          },
          "metadata": {
            "tags": []
          },
          "execution_count": 165
        },
        {
          "output_type": "display_data",
          "data": {
            "image/png": "[encoded data removed]",
            "text/plain": [
              "<Figure size 576x396 with 1 Axes>"
            ]
          },
          "metadata": {
            "tags": []
          }
        }
      ]
    },
    {
      "metadata": {
        "id": "bKlr6YmJeewK",
        "colab_type": "text"
      },
      "cell_type": "markdown",
      "source": [
        "## Explore how the growth rate in cell phones has changed over time by region"
      ]
    },
    {
      "metadata": {
        "id": "NZS9AhSwb3c-",
        "colab_type": "code",
        "colab": {
          "base_uri": "https://localhost:8080/",
          "height": 204
        },
        "outputId": "e58c4baf-0a9e-4cf5-cc67-cff10c14dfcb"
      },
      "cell_type": "code",
      "source": [
        "world.head()"
      ],
      "execution_count": 167,
      "outputs": [
        {
          "output_type": "execute_result",
          "data": {
            "text/html": [
              "<div>\n",
              "<style scoped>\n",
              "    .dataframe tbody tr th:only-of-type {\n",
              "        vertical-align: middle;\n",
              "    }\n",
              "\n",
              "    .dataframe tbody tr th {\n",
              "        vertical-align: top;\n",
              "    }\n",
              "\n",
              "    .dataframe thead th {\n",
              "        text-align: right;\n",
              "    }\n",
              "</style>\n",
              "<table border=\"1\" class=\"dataframe\">\n",
              "  <thead>\n",
              "    <tr style=\"text-align: right;\">\n",
              "      <th></th>\n",
              "      <th>geo</th>\n",
              "      <th>time</th>\n",
              "      <th>cell_phones_total</th>\n",
              "      <th>population_total</th>\n",
              "      <th>world_6region</th>\n",
              "      <th>cell_phones_per_person</th>\n",
              "    </tr>\n",
              "  </thead>\n",
              "  <tbody>\n",
              "    <tr>\n",
              "      <th>0</th>\n",
              "      <td>afg</td>\n",
              "      <td>1960</td>\n",
              "      <td>0.0</td>\n",
              "      <td>8996351</td>\n",
              "      <td>south_asia</td>\n",
              "      <td>0.0</td>\n",
              "    </tr>\n",
              "    <tr>\n",
              "      <th>1</th>\n",
              "      <td>afg</td>\n",
              "      <td>1965</td>\n",
              "      <td>0.0</td>\n",
              "      <td>9938414</td>\n",
              "      <td>south_asia</td>\n",
              "      <td>0.0</td>\n",
              "    </tr>\n",
              "    <tr>\n",
              "      <th>2</th>\n",
              "      <td>afg</td>\n",
              "      <td>1970</td>\n",
              "      <td>0.0</td>\n",
              "      <td>11126123</td>\n",
              "      <td>south_asia</td>\n",
              "      <td>0.0</td>\n",
              "    </tr>\n",
              "    <tr>\n",
              "      <th>3</th>\n",
              "      <td>afg</td>\n",
              "      <td>1975</td>\n",
              "      <td>0.0</td>\n",
              "      <td>12590286</td>\n",
              "      <td>south_asia</td>\n",
              "      <td>0.0</td>\n",
              "    </tr>\n",
              "    <tr>\n",
              "      <th>4</th>\n",
              "      <td>afg</td>\n",
              "      <td>1976</td>\n",
              "      <td>0.0</td>\n",
              "      <td>12840299</td>\n",
              "      <td>south_asia</td>\n",
              "      <td>0.0</td>\n",
              "    </tr>\n",
              "  </tbody>\n",
              "</table>\n",
              "</div>"
            ],
            "text/plain": [
              "   geo  time  cell_phones_total  population_total world_6region  \\\n",
              "0  afg  1960                0.0           8996351    south_asia   \n",
              "1  afg  1965                0.0           9938414    south_asia   \n",
              "2  afg  1970                0.0          11126123    south_asia   \n",
              "3  afg  1975                0.0          12590286    south_asia   \n",
              "4  afg  1976                0.0          12840299    south_asia   \n",
              "\n",
              "   cell_phones_per_person  \n",
              "0                     0.0  \n",
              "1                     0.0  \n",
              "2                     0.0  \n",
              "3                     0.0  \n",
              "4                     0.0  "
            ]
          },
          "metadata": {
            "tags": []
          },
          "execution_count": 167
        }
      ]
    },
    {
      "metadata": {
        "id": "JrrMmaaSb4lp",
        "colab_type": "code",
        "colab": {}
      },
      "cell_type": "code",
      "source": [
        "regions = pd.pivot_table(data=world, index='time', columns='world_6region', values='cell_phones_total')"
      ],
      "execution_count": 0,
      "outputs": []
    },
    {
      "metadata": {
        "id": "OjKWa5m2c1bW",
        "colab_type": "code",
        "colab": {
          "base_uri": "https://localhost:8080/",
          "height": 235
        },
        "outputId": "1629e855-b7fb-46fe-90de-affb1fb89b24"
      },
      "cell_type": "code",
      "source": [
        "regions.head()"
      ],
      "execution_count": 173,
      "outputs": [
        {
          "output_type": "execute_result",
          "data": {
            "text/html": [
              "<div>\n",
              "<style scoped>\n",
              "    .dataframe tbody tr th:only-of-type {\n",
              "        vertical-align: middle;\n",
              "    }\n",
              "\n",
              "    .dataframe tbody tr th {\n",
              "        vertical-align: top;\n",
              "    }\n",
              "\n",
              "    .dataframe thead th {\n",
              "        text-align: right;\n",
              "    }\n",
              "</style>\n",
              "<table border=\"1\" class=\"dataframe\">\n",
              "  <thead>\n",
              "    <tr style=\"text-align: right;\">\n",
              "      <th>world_6region</th>\n",
              "      <th>america</th>\n",
              "      <th>east_asia_pacific</th>\n",
              "      <th>europe_central_asia</th>\n",
              "      <th>middle_east_north_africa</th>\n",
              "      <th>south_asia</th>\n",
              "      <th>sub_saharan_africa</th>\n",
              "    </tr>\n",
              "    <tr>\n",
              "      <th>time</th>\n",
              "      <th></th>\n",
              "      <th></th>\n",
              "      <th></th>\n",
              "      <th></th>\n",
              "      <th></th>\n",
              "      <th></th>\n",
              "    </tr>\n",
              "  </thead>\n",
              "  <tbody>\n",
              "    <tr>\n",
              "      <th>1960</th>\n",
              "      <td>0.0</td>\n",
              "      <td>0.0</td>\n",
              "      <td>0.0</td>\n",
              "      <td>0.0</td>\n",
              "      <td>0.0</td>\n",
              "      <td>0.0</td>\n",
              "    </tr>\n",
              "    <tr>\n",
              "      <th>1965</th>\n",
              "      <td>0.0</td>\n",
              "      <td>0.0</td>\n",
              "      <td>0.0</td>\n",
              "      <td>0.0</td>\n",
              "      <td>0.0</td>\n",
              "      <td>0.0</td>\n",
              "    </tr>\n",
              "    <tr>\n",
              "      <th>1970</th>\n",
              "      <td>0.0</td>\n",
              "      <td>0.0</td>\n",
              "      <td>0.0</td>\n",
              "      <td>0.0</td>\n",
              "      <td>0.0</td>\n",
              "      <td>0.0</td>\n",
              "    </tr>\n",
              "    <tr>\n",
              "      <th>1975</th>\n",
              "      <td>0.0</td>\n",
              "      <td>0.0</td>\n",
              "      <td>0.0</td>\n",
              "      <td>0.0</td>\n",
              "      <td>0.0</td>\n",
              "      <td>0.0</td>\n",
              "    </tr>\n",
              "    <tr>\n",
              "      <th>1976</th>\n",
              "      <td>0.0</td>\n",
              "      <td>0.0</td>\n",
              "      <td>0.0</td>\n",
              "      <td>0.0</td>\n",
              "      <td>0.0</td>\n",
              "      <td>0.0</td>\n",
              "    </tr>\n",
              "  </tbody>\n",
              "</table>\n",
              "</div>"
            ],
            "text/plain": [
              "world_6region  america  east_asia_pacific  europe_central_asia  \\\n",
              "time                                                             \n",
              "1960               0.0                0.0                  0.0   \n",
              "1965               0.0                0.0                  0.0   \n",
              "1970               0.0                0.0                  0.0   \n",
              "1975               0.0                0.0                  0.0   \n",
              "1976               0.0                0.0                  0.0   \n",
              "\n",
              "world_6region  middle_east_north_africa  south_asia  sub_saharan_africa  \n",
              "time                                                                     \n",
              "1960                                0.0         0.0                 0.0  \n",
              "1965                                0.0         0.0                 0.0  \n",
              "1970                                0.0         0.0                 0.0  \n",
              "1975                                0.0         0.0                 0.0  \n",
              "1976                                0.0         0.0                 0.0  "
            ]
          },
          "metadata": {
            "tags": []
          },
          "execution_count": 173
        }
      ]
    },
    {
      "metadata": {
        "id": "b2R5PFtTdw6f",
        "colab_type": "code",
        "colab": {
          "base_uri": "https://localhost:8080/",
          "height": 389
        },
        "outputId": "d7c1585b-c25c-4efb-b6a8-6b4280c766a3"
      },
      "cell_type": "code",
      "source": [
        "regions.pct_change(fill_method='bfill')\n",
        "regions.fillna(0)\n",
        "\n",
        "regions.plot()"
      ],
      "execution_count": 184,
      "outputs": [
        {
          "output_type": "execute_result",
          "data": {
            "text/plain": [
              "<matplotlib.axes._subplots.AxesSubplot at 0x7f2c60d4b048>"
            ]
          },
          "metadata": {
            "tags": []
          },
          "execution_count": 184
        },
        {
          "output_type": "display_data",
          "data": {
            "image/png": "[encoded data removed]",
            "text/plain": [
              "<Figure size 576x396 with 1 Axes>"
            ]
          },
          "metadata": {
            "tags": []
          }
        }
      ]
    }
  ]
}