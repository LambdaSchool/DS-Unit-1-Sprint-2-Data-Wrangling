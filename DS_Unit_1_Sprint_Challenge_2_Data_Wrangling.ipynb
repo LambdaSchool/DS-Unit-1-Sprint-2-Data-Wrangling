{
  "nbformat": 4,
  "nbformat_minor": 0,
  "metadata": {
    "colab": {
      "name": "DS_Unit_1_Sprint_Challenge_2_Data_Wrangling.ipynb",
      "version": "0.3.2",
      "provenance": [],
      "collapsed_sections": [],
      "include_colab_link": true
    },
    "kernelspec": {
      "name": "python3",
      "display_name": "Python 3"
    }
  },
  "cells": [
    {
      "cell_type": "markdown",
      "metadata": {
        "id": "view-in-github",
        "colab_type": "text"
      },
      "source": [
        "<a href=\"https://colab.research.google.com/github/bkrant/DS-Unit-1-Sprint-2-Data-Wrangling/blob/master/DS_Unit_1_Sprint_Challenge_2_Data_Wrangling.ipynb\" target=\"_parent\"><img src=\"https://colab.research.google.com/assets/colab-badge.svg\" alt=\"Open In Colab\"/></a>"
      ]
    },
    {
      "metadata": {
        "id": "4yMHi_PX9hEz",
        "colab_type": "text"
      },
      "cell_type": "markdown",
      "source": [
        "# Data Science Unit 1 Sprint Challenge 2\n",
        "\n",
        "## Data Wrangling\n",
        "\n",
        "In this Sprint Challenge you will use data from [Gapminder](https://www.gapminder.org/about-gapminder/), a Swedish non-profit co-founded by Hans Rosling. \"Gapminder produces free teaching resources making the world understandable based on reliable statistics.\"\n",
        "- [Cell phones (total), by country and year](https://raw.githubusercontent.com/open-numbers/ddf--gapminder--systema_globalis/master/ddf--datapoints--cell_phones_total--by--geo--time.csv)\n",
        "- [Population (total), by country and year](https://raw.githubusercontent.com/open-numbers/ddf--gapminder--systema_globalis/master/ddf--datapoints--population_total--by--geo--time.csv)\n",
        "- [Geo country codes](https://github.com/open-numbers/ddf--gapminder--systema_globalis/blob/master/ddf--entities--geo--country.csv)\n",
        "\n",
        "These two links have everything you need to successfully complete the Sprint Challenge!\n",
        "- [Pandas documentation: Working with Text Data](https://pandas.pydata.org/pandas-docs/stable/text.html) (one question)\n",
        "- [Pandas Cheat Sheet](https://github.com/pandas-dev/pandas/blob/master/doc/cheatsheet/Pandas_Cheat_Sheet.pdf) (everything else)"
      ]
    },
    {
      "metadata": {
        "id": "wWEU2GemX68A",
        "colab_type": "text"
      },
      "cell_type": "markdown",
      "source": [
        "## Part 0. Load data\n",
        "\n",
        "You don't need to add or change anything here. Just run this cell and it loads the data for you, into three dataframes."
      ]
    },
    {
      "metadata": {
        "id": "bxKtSi5sRQOl",
        "colab_type": "code",
        "colab": {}
      },
      "cell_type": "code",
      "source": [
        "import pandas as pd\n",
        "\n",
        "cell_phones = pd.read_csv('https://raw.githubusercontent.com/open-numbers/ddf--gapminder--systema_globalis/master/ddf--datapoints--cell_phones_total--by--geo--time.csv')\n",
        "\n",
        "population = pd.read_csv('https://raw.githubusercontent.com/open-numbers/ddf--gapminder--systema_globalis/master/ddf--datapoints--population_total--by--geo--time.csv')\n",
        "\n",
        "geo_country_codes = (pd.read_csv('https://raw.githubusercontent.com/open-numbers/ddf--gapminder--systema_globalis/master/ddf--entities--geo--country.csv')\n",
        "                       .rename(columns={'country': 'geo', 'name': 'country'}))"
      ],
      "execution_count": 0,
      "outputs": []
    },
    {
      "metadata": {
        "id": "AZmVTeCsX9RC",
        "colab_type": "text"
      },
      "cell_type": "markdown",
      "source": [
        "## Part 1. Join data"
      ]
    },
    {
      "metadata": {
        "id": "GLzX58u4SfEy",
        "colab_type": "text"
      },
      "cell_type": "markdown",
      "source": [
        "First, join the `cell_phones` and `population` dataframes (with an inner join on `geo` and `time`).\n",
        "\n",
        "The resulting dataframe's shape should be: (8590, 4)"
      ]
    },
    {
      "metadata": {
        "id": "lky41RpHBmQ7",
        "colab_type": "code",
        "colab": {
          "base_uri": "https://localhost:8080/",
          "height": 123
        },
        "outputId": "fb57a351-79d1-476d-ae17-61548117129d"
      },
      "cell_type": "code",
      "source": [
        "print(population.shape)\n",
        "population.head(2)"
      ],
      "execution_count": 5,
      "outputs": [
        {
          "output_type": "stream",
          "text": [
            "(59297, 3)\n"
          ],
          "name": "stdout"
        },
        {
          "output_type": "execute_result",
          "data": {
            "text/html": [
              "<div>\n",
              "<style scoped>\n",
              "    .dataframe tbody tr th:only-of-type {\n",
              "        vertical-align: middle;\n",
              "    }\n",
              "\n",
              "    .dataframe tbody tr th {\n",
              "        vertical-align: top;\n",
              "    }\n",
              "\n",
              "    .dataframe thead th {\n",
              "        text-align: right;\n",
              "    }\n",
              "</style>\n",
              "<table border=\"1\" class=\"dataframe\">\n",
              "  <thead>\n",
              "    <tr style=\"text-align: right;\">\n",
              "      <th></th>\n",
              "      <th>geo</th>\n",
              "      <th>time</th>\n",
              "      <th>population_total</th>\n",
              "    </tr>\n",
              "  </thead>\n",
              "  <tbody>\n",
              "    <tr>\n",
              "      <th>0</th>\n",
              "      <td>afg</td>\n",
              "      <td>1800</td>\n",
              "      <td>3280000</td>\n",
              "    </tr>\n",
              "    <tr>\n",
              "      <th>1</th>\n",
              "      <td>afg</td>\n",
              "      <td>1801</td>\n",
              "      <td>3280000</td>\n",
              "    </tr>\n",
              "  </tbody>\n",
              "</table>\n",
              "</div>"
            ],
            "text/plain": [
              "   geo  time  population_total\n",
              "0  afg  1800           3280000\n",
              "1  afg  1801           3280000"
            ]
          },
          "metadata": {
            "tags": []
          },
          "execution_count": 5
        }
      ]
    },
    {
      "metadata": {
        "id": "s8QSMR2wBtPh",
        "colab_type": "code",
        "colab": {
          "base_uri": "https://localhost:8080/",
          "height": 123
        },
        "outputId": "00dc6d14-2991-4d64-c3cb-0d0e43fa90cc"
      },
      "cell_type": "code",
      "source": [
        "print(cell_phones.shape)\n",
        "cell_phones.head(2)"
      ],
      "execution_count": 6,
      "outputs": [
        {
          "output_type": "stream",
          "text": [
            "(9215, 3)\n"
          ],
          "name": "stdout"
        },
        {
          "output_type": "execute_result",
          "data": {
            "text/html": [
              "<div>\n",
              "<style scoped>\n",
              "    .dataframe tbody tr th:only-of-type {\n",
              "        vertical-align: middle;\n",
              "    }\n",
              "\n",
              "    .dataframe tbody tr th {\n",
              "        vertical-align: top;\n",
              "    }\n",
              "\n",
              "    .dataframe thead th {\n",
              "        text-align: right;\n",
              "    }\n",
              "</style>\n",
              "<table border=\"1\" class=\"dataframe\">\n",
              "  <thead>\n",
              "    <tr style=\"text-align: right;\">\n",
              "      <th></th>\n",
              "      <th>geo</th>\n",
              "      <th>time</th>\n",
              "      <th>cell_phones_total</th>\n",
              "    </tr>\n",
              "  </thead>\n",
              "  <tbody>\n",
              "    <tr>\n",
              "      <th>0</th>\n",
              "      <td>abw</td>\n",
              "      <td>1960</td>\n",
              "      <td>0.0</td>\n",
              "    </tr>\n",
              "    <tr>\n",
              "      <th>1</th>\n",
              "      <td>abw</td>\n",
              "      <td>1965</td>\n",
              "      <td>0.0</td>\n",
              "    </tr>\n",
              "  </tbody>\n",
              "</table>\n",
              "</div>"
            ],
            "text/plain": [
              "   geo  time  cell_phones_total\n",
              "0  abw  1960                0.0\n",
              "1  abw  1965                0.0"
            ]
          },
          "metadata": {
            "tags": []
          },
          "execution_count": 6
        }
      ]
    },
    {
      "metadata": {
        "id": "5f5C61BqCu7L",
        "colab_type": "code",
        "colab": {
          "base_uri": "https://localhost:8080/",
          "height": 172
        },
        "outputId": "6565927c-ad83-40bb-a15e-1f8998b4b198"
      },
      "cell_type": "code",
      "source": [
        "print(geo_country_codes.shape)\n",
        "geo_country_codes.head(2)"
      ],
      "execution_count": 9,
      "outputs": [
        {
          "output_type": "stream",
          "text": [
            "(273, 33)\n"
          ],
          "name": "stdout"
        },
        {
          "output_type": "execute_result",
          "data": {
            "text/html": [
              "<div>\n",
              "<style scoped>\n",
              "    .dataframe tbody tr th:only-of-type {\n",
              "        vertical-align: middle;\n",
              "    }\n",
              "\n",
              "    .dataframe tbody tr th {\n",
              "        vertical-align: top;\n",
              "    }\n",
              "\n",
              "    .dataframe thead th {\n",
              "        text-align: right;\n",
              "    }\n",
              "</style>\n",
              "<table border=\"1\" class=\"dataframe\">\n",
              "  <thead>\n",
              "    <tr style=\"text-align: right;\">\n",
              "      <th></th>\n",
              "      <th>geo</th>\n",
              "      <th>alt_5</th>\n",
              "      <th>alternative_1</th>\n",
              "      <th>alternative_2</th>\n",
              "      <th>alternative_3</th>\n",
              "      <th>alternative_4_cdiac</th>\n",
              "      <th>arb1</th>\n",
              "      <th>arb2</th>\n",
              "      <th>arb3</th>\n",
              "      <th>arb4</th>\n",
              "      <th>...</th>\n",
              "      <th>latitude</th>\n",
              "      <th>longitude</th>\n",
              "      <th>main_religion_2008</th>\n",
              "      <th>country</th>\n",
              "      <th>pandg</th>\n",
              "      <th>un_state</th>\n",
              "      <th>unicode_region_subtag</th>\n",
              "      <th>upper_case_name</th>\n",
              "      <th>world_4region</th>\n",
              "      <th>world_6region</th>\n",
              "    </tr>\n",
              "  </thead>\n",
              "  <tbody>\n",
              "    <tr>\n",
              "      <th>0</th>\n",
              "      <td>abkh</td>\n",
              "      <td>NaN</td>\n",
              "      <td>NaN</td>\n",
              "      <td>NaN</td>\n",
              "      <td>NaN</td>\n",
              "      <td>NaN</td>\n",
              "      <td>NaN</td>\n",
              "      <td>NaN</td>\n",
              "      <td>NaN</td>\n",
              "      <td>NaN</td>\n",
              "      <td>...</td>\n",
              "      <td>NaN</td>\n",
              "      <td>NaN</td>\n",
              "      <td>NaN</td>\n",
              "      <td>Abkhazia</td>\n",
              "      <td>NaN</td>\n",
              "      <td>False</td>\n",
              "      <td>NaN</td>\n",
              "      <td>NaN</td>\n",
              "      <td>europe</td>\n",
              "      <td>europe_central_asia</td>\n",
              "    </tr>\n",
              "    <tr>\n",
              "      <th>1</th>\n",
              "      <td>abw</td>\n",
              "      <td>NaN</td>\n",
              "      <td>NaN</td>\n",
              "      <td>NaN</td>\n",
              "      <td>NaN</td>\n",
              "      <td>Aruba</td>\n",
              "      <td>NaN</td>\n",
              "      <td>NaN</td>\n",
              "      <td>NaN</td>\n",
              "      <td>NaN</td>\n",
              "      <td>...</td>\n",
              "      <td>12.5</td>\n",
              "      <td>-69.96667</td>\n",
              "      <td>christian</td>\n",
              "      <td>Aruba</td>\n",
              "      <td>NaN</td>\n",
              "      <td>False</td>\n",
              "      <td>AW</td>\n",
              "      <td>ARUBA</td>\n",
              "      <td>americas</td>\n",
              "      <td>america</td>\n",
              "    </tr>\n",
              "  </tbody>\n",
              "</table>\n",
              "<p>2 rows × 33 columns</p>\n",
              "</div>"
            ],
            "text/plain": [
              "    geo alt_5 alternative_1 alternative_2 alternative_3 alternative_4_cdiac  \\\n",
              "0  abkh   NaN           NaN           NaN           NaN                 NaN   \n",
              "1   abw   NaN           NaN           NaN           NaN               Aruba   \n",
              "\n",
              "  arb1 arb2 arb3 arb4         ...          latitude longitude  \\\n",
              "0  NaN  NaN  NaN  NaN         ...               NaN       NaN   \n",
              "1  NaN  NaN  NaN  NaN         ...              12.5 -69.96667   \n",
              "\n",
              "  main_religion_2008   country pandg un_state unicode_region_subtag  \\\n",
              "0                NaN  Abkhazia   NaN    False                   NaN   \n",
              "1          christian     Aruba   NaN    False                    AW   \n",
              "\n",
              "   upper_case_name world_4region        world_6region  \n",
              "0              NaN        europe  europe_central_asia  \n",
              "1            ARUBA      americas              america  \n",
              "\n",
              "[2 rows x 33 columns]"
            ]
          },
          "metadata": {
            "tags": []
          },
          "execution_count": 9
        }
      ]
    },
    {
      "metadata": {
        "id": "GVV7Hnj4SXBa",
        "colab_type": "code",
        "colab": {}
      },
      "cell_type": "code",
      "source": [
        "merge1 = pd.merge(cell_phones, population, how='inner', on=['geo', 'time'])"
      ],
      "execution_count": 0,
      "outputs": []
    },
    {
      "metadata": {
        "id": "ZafY8y16DY3x",
        "colab_type": "code",
        "colab": {
          "base_uri": "https://localhost:8080/",
          "height": 123
        },
        "outputId": "88a4fa19-bb4f-441c-c660-832654ede4d1"
      },
      "cell_type": "code",
      "source": [
        "print(merge1.shape)\n",
        "merge1.head(2)"
      ],
      "execution_count": 10,
      "outputs": [
        {
          "output_type": "stream",
          "text": [
            "(8590, 4)\n"
          ],
          "name": "stdout"
        },
        {
          "output_type": "execute_result",
          "data": {
            "text/html": [
              "<div>\n",
              "<style scoped>\n",
              "    .dataframe tbody tr th:only-of-type {\n",
              "        vertical-align: middle;\n",
              "    }\n",
              "\n",
              "    .dataframe tbody tr th {\n",
              "        vertical-align: top;\n",
              "    }\n",
              "\n",
              "    .dataframe thead th {\n",
              "        text-align: right;\n",
              "    }\n",
              "</style>\n",
              "<table border=\"1\" class=\"dataframe\">\n",
              "  <thead>\n",
              "    <tr style=\"text-align: right;\">\n",
              "      <th></th>\n",
              "      <th>geo</th>\n",
              "      <th>time</th>\n",
              "      <th>cell_phones_total</th>\n",
              "      <th>population_total</th>\n",
              "    </tr>\n",
              "  </thead>\n",
              "  <tbody>\n",
              "    <tr>\n",
              "      <th>0</th>\n",
              "      <td>afg</td>\n",
              "      <td>1960</td>\n",
              "      <td>0.0</td>\n",
              "      <td>8996351</td>\n",
              "    </tr>\n",
              "    <tr>\n",
              "      <th>1</th>\n",
              "      <td>afg</td>\n",
              "      <td>1965</td>\n",
              "      <td>0.0</td>\n",
              "      <td>9938414</td>\n",
              "    </tr>\n",
              "  </tbody>\n",
              "</table>\n",
              "</div>"
            ],
            "text/plain": [
              "   geo  time  cell_phones_total  population_total\n",
              "0  afg  1960                0.0           8996351\n",
              "1  afg  1965                0.0           9938414"
            ]
          },
          "metadata": {
            "tags": []
          },
          "execution_count": 10
        }
      ]
    },
    {
      "metadata": {
        "id": "xsXpDbwwW241",
        "colab_type": "text"
      },
      "cell_type": "markdown",
      "source": [
        "Then, select the `geo` and `country` columns from the `geo_country_codes` dataframe, and join with your population and cell phone data.\n",
        "\n",
        "The resulting dataframe's shape should be: (8590, 5)"
      ]
    },
    {
      "metadata": {
        "id": "Q2LaZta_W2CE",
        "colab_type": "code",
        "colab": {
          "base_uri": "https://localhost:8080/",
          "height": 123
        },
        "outputId": "d8f6799b-2acc-49db-9049-498e03cff98c"
      },
      "cell_type": "code",
      "source": [
        "df = pd.merge(geo_country_codes[['geo', 'country']], merge1, on='geo', how='right')\n",
        "print(df.shape)\n",
        "df.head(2)"
      ],
      "execution_count": 213,
      "outputs": [
        {
          "output_type": "stream",
          "text": [
            "(8590, 5)\n"
          ],
          "name": "stdout"
        },
        {
          "output_type": "execute_result",
          "data": {
            "text/html": [
              "<div>\n",
              "<style scoped>\n",
              "    .dataframe tbody tr th:only-of-type {\n",
              "        vertical-align: middle;\n",
              "    }\n",
              "\n",
              "    .dataframe tbody tr th {\n",
              "        vertical-align: top;\n",
              "    }\n",
              "\n",
              "    .dataframe thead th {\n",
              "        text-align: right;\n",
              "    }\n",
              "</style>\n",
              "<table border=\"1\" class=\"dataframe\">\n",
              "  <thead>\n",
              "    <tr style=\"text-align: right;\">\n",
              "      <th></th>\n",
              "      <th>geo</th>\n",
              "      <th>country</th>\n",
              "      <th>time</th>\n",
              "      <th>cell_phones_total</th>\n",
              "      <th>population_total</th>\n",
              "    </tr>\n",
              "  </thead>\n",
              "  <tbody>\n",
              "    <tr>\n",
              "      <th>0</th>\n",
              "      <td>afg</td>\n",
              "      <td>Afghanistan</td>\n",
              "      <td>1960</td>\n",
              "      <td>0.0</td>\n",
              "      <td>8996351</td>\n",
              "    </tr>\n",
              "    <tr>\n",
              "      <th>1</th>\n",
              "      <td>afg</td>\n",
              "      <td>Afghanistan</td>\n",
              "      <td>1965</td>\n",
              "      <td>0.0</td>\n",
              "      <td>9938414</td>\n",
              "    </tr>\n",
              "  </tbody>\n",
              "</table>\n",
              "</div>"
            ],
            "text/plain": [
              "   geo      country  time  cell_phones_total  population_total\n",
              "0  afg  Afghanistan  1960                0.0           8996351\n",
              "1  afg  Afghanistan  1965                0.0           9938414"
            ]
          },
          "metadata": {
            "tags": []
          },
          "execution_count": 213
        }
      ]
    },
    {
      "metadata": {
        "id": "oK96Uj7vYjFX",
        "colab_type": "text"
      },
      "cell_type": "markdown",
      "source": [
        "## Part 2. Make features"
      ]
    },
    {
      "metadata": {
        "id": "AD2fBNrOYzCG",
        "colab_type": "text"
      },
      "cell_type": "markdown",
      "source": [
        "Calculate the number of cell phones per person, and add this column onto your dataframe.\n",
        "\n",
        "(You've calculated correctly if you get 1.220 cell phones per person in the United States in 2017.)"
      ]
    },
    {
      "metadata": {
        "id": "wXI9nQthYnFK",
        "colab_type": "code",
        "colab": {}
      },
      "cell_type": "code",
      "source": [
        "df['cell/person'] = df['cell_phones_total']/df['population_total']"
      ],
      "execution_count": 0,
      "outputs": []
    },
    {
      "metadata": {
        "id": "v8oBreErIDnd",
        "colab_type": "code",
        "colab": {
          "base_uri": "https://localhost:8080/",
          "height": 106
        },
        "outputId": "6655f705-ef0e-4ff3-d887-3446f291ba03"
      },
      "cell_type": "code",
      "source": [
        "df.head(2)"
      ],
      "execution_count": 215,
      "outputs": [
        {
          "output_type": "execute_result",
          "data": {
            "text/html": [
              "<div>\n",
              "<style scoped>\n",
              "    .dataframe tbody tr th:only-of-type {\n",
              "        vertical-align: middle;\n",
              "    }\n",
              "\n",
              "    .dataframe tbody tr th {\n",
              "        vertical-align: top;\n",
              "    }\n",
              "\n",
              "    .dataframe thead th {\n",
              "        text-align: right;\n",
              "    }\n",
              "</style>\n",
              "<table border=\"1\" class=\"dataframe\">\n",
              "  <thead>\n",
              "    <tr style=\"text-align: right;\">\n",
              "      <th></th>\n",
              "      <th>geo</th>\n",
              "      <th>country</th>\n",
              "      <th>time</th>\n",
              "      <th>cell_phones_total</th>\n",
              "      <th>population_total</th>\n",
              "      <th>cell/person</th>\n",
              "    </tr>\n",
              "  </thead>\n",
              "  <tbody>\n",
              "    <tr>\n",
              "      <th>0</th>\n",
              "      <td>afg</td>\n",
              "      <td>Afghanistan</td>\n",
              "      <td>1960</td>\n",
              "      <td>0.0</td>\n",
              "      <td>8996351</td>\n",
              "      <td>0.0</td>\n",
              "    </tr>\n",
              "    <tr>\n",
              "      <th>1</th>\n",
              "      <td>afg</td>\n",
              "      <td>Afghanistan</td>\n",
              "      <td>1965</td>\n",
              "      <td>0.0</td>\n",
              "      <td>9938414</td>\n",
              "      <td>0.0</td>\n",
              "    </tr>\n",
              "  </tbody>\n",
              "</table>\n",
              "</div>"
            ],
            "text/plain": [
              "   geo      country  time  cell_phones_total  population_total  cell/person\n",
              "0  afg  Afghanistan  1960                0.0           8996351          0.0\n",
              "1  afg  Afghanistan  1965                0.0           9938414          0.0"
            ]
          },
          "metadata": {
            "tags": []
          },
          "execution_count": 215
        }
      ]
    },
    {
      "metadata": {
        "id": "0OUWpJVUK7tb",
        "colab_type": "code",
        "colab": {
          "base_uri": "https://localhost:8080/",
          "height": 194
        },
        "outputId": "428adcc5-c309-4946-9acf-d5dd0887adb4"
      },
      "cell_type": "code",
      "source": [
        "df.groupby(['country','time']).mean().unstack().head(2)"
      ],
      "execution_count": 51,
      "outputs": [
        {
          "output_type": "execute_result",
          "data": {
            "text/html": [
              "<div>\n",
              "<style scoped>\n",
              "    .dataframe tbody tr th:only-of-type {\n",
              "        vertical-align: middle;\n",
              "    }\n",
              "\n",
              "    .dataframe tbody tr th {\n",
              "        vertical-align: top;\n",
              "    }\n",
              "\n",
              "    .dataframe thead tr th {\n",
              "        text-align: left;\n",
              "    }\n",
              "\n",
              "    .dataframe thead tr:last-of-type th {\n",
              "        text-align: right;\n",
              "    }\n",
              "</style>\n",
              "<table border=\"1\" class=\"dataframe\">\n",
              "  <thead>\n",
              "    <tr>\n",
              "      <th></th>\n",
              "      <th colspan=\"10\" halign=\"left\">cell_phones_total</th>\n",
              "      <th>...</th>\n",
              "      <th colspan=\"10\" halign=\"left\">cell/person</th>\n",
              "    </tr>\n",
              "    <tr>\n",
              "      <th>time</th>\n",
              "      <th>1960</th>\n",
              "      <th>1965</th>\n",
              "      <th>1970</th>\n",
              "      <th>1975</th>\n",
              "      <th>1976</th>\n",
              "      <th>1977</th>\n",
              "      <th>1978</th>\n",
              "      <th>1979</th>\n",
              "      <th>1980</th>\n",
              "      <th>1981</th>\n",
              "      <th>...</th>\n",
              "      <th>2008</th>\n",
              "      <th>2009</th>\n",
              "      <th>2010</th>\n",
              "      <th>2011</th>\n",
              "      <th>2012</th>\n",
              "      <th>2013</th>\n",
              "      <th>2014</th>\n",
              "      <th>2015</th>\n",
              "      <th>2016</th>\n",
              "      <th>2017</th>\n",
              "    </tr>\n",
              "    <tr>\n",
              "      <th>country</th>\n",
              "      <th></th>\n",
              "      <th></th>\n",
              "      <th></th>\n",
              "      <th></th>\n",
              "      <th></th>\n",
              "      <th></th>\n",
              "      <th></th>\n",
              "      <th></th>\n",
              "      <th></th>\n",
              "      <th></th>\n",
              "      <th></th>\n",
              "      <th></th>\n",
              "      <th></th>\n",
              "      <th></th>\n",
              "      <th></th>\n",
              "      <th></th>\n",
              "      <th></th>\n",
              "      <th></th>\n",
              "      <th></th>\n",
              "      <th></th>\n",
              "      <th></th>\n",
              "    </tr>\n",
              "  </thead>\n",
              "  <tbody>\n",
              "    <tr>\n",
              "      <th>Afghanistan</th>\n",
              "      <td>0.0</td>\n",
              "      <td>0.0</td>\n",
              "      <td>0.0</td>\n",
              "      <td>0.0</td>\n",
              "      <td>0.0</td>\n",
              "      <td>0.0</td>\n",
              "      <td>0.0</td>\n",
              "      <td>0.0</td>\n",
              "      <td>0.0</td>\n",
              "      <td>0.0</td>\n",
              "      <td>...</td>\n",
              "      <td>0.289401</td>\n",
              "      <td>0.374942</td>\n",
              "      <td>0.354678</td>\n",
              "      <td>0.464441</td>\n",
              "      <td>0.499728</td>\n",
              "      <td>0.529665</td>\n",
              "      <td>0.561913</td>\n",
              "      <td>0.584205</td>\n",
              "      <td>0.623354</td>\n",
              "      <td>0.673506</td>\n",
              "    </tr>\n",
              "    <tr>\n",
              "      <th>Albania</th>\n",
              "      <td>0.0</td>\n",
              "      <td>0.0</td>\n",
              "      <td>0.0</td>\n",
              "      <td>0.0</td>\n",
              "      <td>0.0</td>\n",
              "      <td>0.0</td>\n",
              "      <td>0.0</td>\n",
              "      <td>0.0</td>\n",
              "      <td>0.0</td>\n",
              "      <td>0.0</td>\n",
              "      <td>...</td>\n",
              "      <td>0.621607</td>\n",
              "      <td>0.831605</td>\n",
              "      <td>0.915609</td>\n",
              "      <td>1.059228</td>\n",
              "      <td>1.198614</td>\n",
              "      <td>1.262765</td>\n",
              "      <td>1.150261</td>\n",
              "      <td>1.163375</td>\n",
              "      <td>1.151523</td>\n",
              "      <td>1.193763</td>\n",
              "    </tr>\n",
              "  </tbody>\n",
              "</table>\n",
              "<p>2 rows × 138 columns</p>\n",
              "</div>"
            ],
            "text/plain": [
              "            cell_phones_total                                               \\\n",
              "time                     1960 1965 1970 1975 1976 1977 1978 1979 1980 1981   \n",
              "country                                                                      \n",
              "Afghanistan               0.0  0.0  0.0  0.0  0.0  0.0  0.0  0.0  0.0  0.0   \n",
              "Albania                   0.0  0.0  0.0  0.0  0.0  0.0  0.0  0.0  0.0  0.0   \n",
              "\n",
              "               ...    cell/person                                          \\\n",
              "time           ...           2008      2009      2010      2011      2012   \n",
              "country        ...                                                          \n",
              "Afghanistan    ...       0.289401  0.374942  0.354678  0.464441  0.499728   \n",
              "Albania        ...       0.621607  0.831605  0.915609  1.059228  1.198614   \n",
              "\n",
              "                                                               \n",
              "time             2013      2014      2015      2016      2017  \n",
              "country                                                        \n",
              "Afghanistan  0.529665  0.561913  0.584205  0.623354  0.673506  \n",
              "Albania      1.262765  1.150261  1.163375  1.151523  1.193763  \n",
              "\n",
              "[2 rows x 138 columns]"
            ]
          },
          "metadata": {
            "tags": []
          },
          "execution_count": 51
        }
      ]
    },
    {
      "metadata": {
        "id": "WBNwI4LsKth_",
        "colab_type": "code",
        "colab": {
          "base_uri": "https://localhost:8080/",
          "height": 34
        },
        "outputId": "a9cef10a-211c-4dfd-9fcc-5e6782761dfc"
      },
      "cell_type": "code",
      "source": [
        "df.groupby(['country','time']).mean().unstack()['cell/person'][2017]['United States']"
      ],
      "execution_count": 49,
      "outputs": [
        {
          "output_type": "execute_result",
          "data": {
            "text/plain": [
              "1.2201246847283354"
            ]
          },
          "metadata": {
            "tags": []
          },
          "execution_count": 49
        }
      ]
    },
    {
      "metadata": {
        "id": "S3QFdsnRZMH6",
        "colab_type": "text"
      },
      "cell_type": "markdown",
      "source": [
        "Modify the `geo` column to make the geo codes uppercase instead of lowercase."
      ]
    },
    {
      "metadata": {
        "id": "93ADij8_YkOq",
        "colab_type": "code",
        "colab": {
          "base_uri": "https://localhost:8080/",
          "height": 118
        },
        "outputId": "18fd0555-2c31-4795-c7d0-8cf4e7ddb350"
      },
      "cell_type": "code",
      "source": [
        "df['geo'] = df['geo'].str.upper()\n",
        "df['geo'].head()"
      ],
      "execution_count": 216,
      "outputs": [
        {
          "output_type": "execute_result",
          "data": {
            "text/plain": [
              "0    AFG\n",
              "1    AFG\n",
              "2    AFG\n",
              "3    AFG\n",
              "4    AFG\n",
              "Name: geo, dtype: object"
            ]
          },
          "metadata": {
            "tags": []
          },
          "execution_count": 216
        }
      ]
    },
    {
      "metadata": {
        "id": "hlPDAFCfaF6C",
        "colab_type": "text"
      },
      "cell_type": "markdown",
      "source": [
        "## Part 3. Process data"
      ]
    },
    {
      "metadata": {
        "id": "k-pudNWve2SQ",
        "colab_type": "text"
      },
      "cell_type": "markdown",
      "source": [
        "Use the describe function, to describe your dataframe's numeric columns, and then its non-numeric columns.\n",
        "\n",
        "(You'll see the time period ranges from 1960 to 2017, and there are 195 unique countries represented.)"
      ]
    },
    {
      "metadata": {
        "id": "g26yemKre2Cu",
        "colab_type": "code",
        "colab": {
          "base_uri": "https://localhost:8080/",
          "height": 284
        },
        "outputId": "5679660f-127f-4382-ffbf-9d881827ab3b"
      },
      "cell_type": "code",
      "source": [
        "df.describe()"
      ],
      "execution_count": 54,
      "outputs": [
        {
          "output_type": "execute_result",
          "data": {
            "text/html": [
              "<div>\n",
              "<style scoped>\n",
              "    .dataframe tbody tr th:only-of-type {\n",
              "        vertical-align: middle;\n",
              "    }\n",
              "\n",
              "    .dataframe tbody tr th {\n",
              "        vertical-align: top;\n",
              "    }\n",
              "\n",
              "    .dataframe thead th {\n",
              "        text-align: right;\n",
              "    }\n",
              "</style>\n",
              "<table border=\"1\" class=\"dataframe\">\n",
              "  <thead>\n",
              "    <tr style=\"text-align: right;\">\n",
              "      <th></th>\n",
              "      <th>time</th>\n",
              "      <th>cell_phones_total</th>\n",
              "      <th>population_total</th>\n",
              "      <th>cell/person</th>\n",
              "    </tr>\n",
              "  </thead>\n",
              "  <tbody>\n",
              "    <tr>\n",
              "      <th>count</th>\n",
              "      <td>8590.000000</td>\n",
              "      <td>8.590000e+03</td>\n",
              "      <td>8.590000e+03</td>\n",
              "      <td>8590.000000</td>\n",
              "    </tr>\n",
              "    <tr>\n",
              "      <th>mean</th>\n",
              "      <td>1994.193481</td>\n",
              "      <td>9.004950e+06</td>\n",
              "      <td>2.983823e+07</td>\n",
              "      <td>0.279639</td>\n",
              "    </tr>\n",
              "    <tr>\n",
              "      <th>std</th>\n",
              "      <td>14.257975</td>\n",
              "      <td>5.573408e+07</td>\n",
              "      <td>1.161284e+08</td>\n",
              "      <td>0.454247</td>\n",
              "    </tr>\n",
              "    <tr>\n",
              "      <th>min</th>\n",
              "      <td>1960.000000</td>\n",
              "      <td>0.000000e+00</td>\n",
              "      <td>4.433000e+03</td>\n",
              "      <td>0.000000</td>\n",
              "    </tr>\n",
              "    <tr>\n",
              "      <th>25%</th>\n",
              "      <td>1983.000000</td>\n",
              "      <td>0.000000e+00</td>\n",
              "      <td>1.456148e+06</td>\n",
              "      <td>0.000000</td>\n",
              "    </tr>\n",
              "    <tr>\n",
              "      <th>50%</th>\n",
              "      <td>1995.000000</td>\n",
              "      <td>6.200000e+03</td>\n",
              "      <td>5.725062e+06</td>\n",
              "      <td>0.001564</td>\n",
              "    </tr>\n",
              "    <tr>\n",
              "      <th>75%</th>\n",
              "      <td>2006.000000</td>\n",
              "      <td>1.697652e+06</td>\n",
              "      <td>1.810581e+07</td>\n",
              "      <td>0.461149</td>\n",
              "    </tr>\n",
              "    <tr>\n",
              "      <th>max</th>\n",
              "      <td>2017.000000</td>\n",
              "      <td>1.474097e+09</td>\n",
              "      <td>1.409517e+09</td>\n",
              "      <td>2.490243</td>\n",
              "    </tr>\n",
              "  </tbody>\n",
              "</table>\n",
              "</div>"
            ],
            "text/plain": [
              "              time  cell_phones_total  population_total  cell/person\n",
              "count  8590.000000       8.590000e+03      8.590000e+03  8590.000000\n",
              "mean   1994.193481       9.004950e+06      2.983823e+07     0.279639\n",
              "std      14.257975       5.573408e+07      1.161284e+08     0.454247\n",
              "min    1960.000000       0.000000e+00      4.433000e+03     0.000000\n",
              "25%    1983.000000       0.000000e+00      1.456148e+06     0.000000\n",
              "50%    1995.000000       6.200000e+03      5.725062e+06     0.001564\n",
              "75%    2006.000000       1.697652e+06      1.810581e+07     0.461149\n",
              "max    2017.000000       1.474097e+09      1.409517e+09     2.490243"
            ]
          },
          "metadata": {
            "tags": []
          },
          "execution_count": 54
        }
      ]
    },
    {
      "metadata": {
        "id": "tY9sl-rZM3VX",
        "colab_type": "code",
        "colab": {
          "base_uri": "https://localhost:8080/",
          "height": 166
        },
        "outputId": "a12f2c0e-d718-40da-edb6-b7973220d6af"
      },
      "cell_type": "code",
      "source": [
        "df.describe(exclude='number')"
      ],
      "execution_count": 57,
      "outputs": [
        {
          "output_type": "execute_result",
          "data": {
            "text/html": [
              "<div>\n",
              "<style scoped>\n",
              "    .dataframe tbody tr th:only-of-type {\n",
              "        vertical-align: middle;\n",
              "    }\n",
              "\n",
              "    .dataframe tbody tr th {\n",
              "        vertical-align: top;\n",
              "    }\n",
              "\n",
              "    .dataframe thead th {\n",
              "        text-align: right;\n",
              "    }\n",
              "</style>\n",
              "<table border=\"1\" class=\"dataframe\">\n",
              "  <thead>\n",
              "    <tr style=\"text-align: right;\">\n",
              "      <th></th>\n",
              "      <th>geo</th>\n",
              "      <th>country</th>\n",
              "    </tr>\n",
              "  </thead>\n",
              "  <tbody>\n",
              "    <tr>\n",
              "      <th>count</th>\n",
              "      <td>8590</td>\n",
              "      <td>8590</td>\n",
              "    </tr>\n",
              "    <tr>\n",
              "      <th>unique</th>\n",
              "      <td>195</td>\n",
              "      <td>195</td>\n",
              "    </tr>\n",
              "    <tr>\n",
              "      <th>top</th>\n",
              "      <td>IRN</td>\n",
              "      <td>Bhutan</td>\n",
              "    </tr>\n",
              "    <tr>\n",
              "      <th>freq</th>\n",
              "      <td>46</td>\n",
              "      <td>46</td>\n",
              "    </tr>\n",
              "  </tbody>\n",
              "</table>\n",
              "</div>"
            ],
            "text/plain": [
              "         geo country\n",
              "count   8590    8590\n",
              "unique   195     195\n",
              "top      IRN  Bhutan\n",
              "freq      46      46"
            ]
          },
          "metadata": {
            "tags": []
          },
          "execution_count": 57
        }
      ]
    },
    {
      "metadata": {
        "id": "zALg-RrYaLcI",
        "colab_type": "text"
      },
      "cell_type": "markdown",
      "source": [
        "In 2017, what were the top 5 countries with the most cell phones total?\n",
        "\n",
        "Your list of countries should have these totals:\n",
        "\n",
        "| country | cell phones total |\n",
        "|:-------:|:-----------------:|\n",
        "|    ?    |     1,474,097,000 |\n",
        "|    ?    |     1,168,902,277 |\n",
        "|    ?    |       458,923,202 |\n",
        "|    ?    |       395,881,000 |\n",
        "|    ?    |       236,488,548 |\n",
        "\n"
      ]
    },
    {
      "metadata": {
        "id": "JdlWvezHaZxD",
        "colab_type": "code",
        "colab": {}
      },
      "cell_type": "code",
      "source": [
        "# This optional code formats float numbers with comma separators\n",
        "pd.options.display.float_format = '{:,}'.format"
      ],
      "execution_count": 0,
      "outputs": []
    },
    {
      "metadata": {
        "id": "GvulFI127yI6",
        "colab_type": "code",
        "colab": {}
      },
      "cell_type": "code",
      "source": [
        ""
      ],
      "execution_count": 0,
      "outputs": []
    },
    {
      "metadata": {
        "id": "mneoEQ316r1o",
        "colab_type": "code",
        "colab": {
          "base_uri": "https://localhost:8080/",
          "height": 134
        },
        "outputId": "bca463eb-0aed-48bd-f8ca-2211b6ef52bc"
      },
      "cell_type": "code",
      "source": [
        "df.dtypes"
      ],
      "execution_count": 169,
      "outputs": [
        {
          "output_type": "execute_result",
          "data": {
            "text/plain": [
              "geo                   object\n",
              "country               object\n",
              "time                   int64\n",
              "cell_phones_total    float64\n",
              "population_total       int64\n",
              "cell/person          float64\n",
              "dtype: object"
            ]
          },
          "metadata": {
            "tags": []
          },
          "execution_count": 169
        }
      ]
    },
    {
      "metadata": {
        "id": "7v6Y3nXLPthQ",
        "colab_type": "code",
        "colab": {
          "base_uri": "https://localhost:8080/",
          "height": 118
        },
        "outputId": "b46f17bc-c694-4540-f721-add4ff7db9c2"
      },
      "cell_type": "code",
      "source": [
        "df.columns.tolist()"
      ],
      "execution_count": 66,
      "outputs": [
        {
          "output_type": "execute_result",
          "data": {
            "text/plain": [
              "['geo',\n",
              " 'country',\n",
              " 'time',\n",
              " 'cell_phones_total',\n",
              " 'population_total',\n",
              " 'cell/person']"
            ]
          },
          "metadata": {
            "tags": []
          },
          "execution_count": 66
        }
      ]
    },
    {
      "metadata": {
        "id": "lB9cldsLYZC2",
        "colab_type": "code",
        "colab": {
          "base_uri": "https://localhost:8080/",
          "height": 134
        },
        "outputId": "a3cca2f8-89f0-4984-fb7e-f96b12a9df87"
      },
      "cell_type": "code",
      "source": [
        "df[df['time']==2017].groupby('country')['cell_phones_total'].sum().sort_values(ascending=False).head()"
      ],
      "execution_count": 119,
      "outputs": [
        {
          "output_type": "execute_result",
          "data": {
            "text/plain": [
              "country\n",
              "China           1,474,097,000.0\n",
              "India           1,168,902,277.0\n",
              "Indonesia         458,923,202.0\n",
              "United States     395,881,000.0\n",
              "Brazil            236,488,548.0\n",
              "Name: cell_phones_total, dtype: float64"
            ]
          },
          "metadata": {
            "tags": []
          },
          "execution_count": 119
        }
      ]
    },
    {
      "metadata": {
        "id": "tjwqs22VP64D",
        "colab_type": "code",
        "colab": {
          "base_uri": "https://localhost:8080/",
          "height": 134
        },
        "outputId": "2738bd4d-0bfc-4e7c-8dd7-32b35a76dde8"
      },
      "cell_type": "code",
      "source": [
        "df[df['time']==2017].pivot_table(index='country',aggfunc=sum).sort_values('cell_phones_total', ascending=False)['cell_phones_total'].head()"
      ],
      "execution_count": 120,
      "outputs": [
        {
          "output_type": "execute_result",
          "data": {
            "text/plain": [
              "country\n",
              "China           1,474,097,000.0\n",
              "India           1,168,902,277.0\n",
              "Indonesia         458,923,202.0\n",
              "United States     395,881,000.0\n",
              "Brazil            236,488,548.0\n",
              "Name: cell_phones_total, dtype: float64"
            ]
          },
          "metadata": {
            "tags": []
          },
          "execution_count": 120
        }
      ]
    },
    {
      "metadata": {
        "id": "03V3Wln_h0dj",
        "colab_type": "text"
      },
      "cell_type": "markdown",
      "source": [
        "2017 was the first year that China had more cell phones than people.\n",
        "\n",
        "What was the first year that the USA had more cell phones than people?"
      ]
    },
    {
      "metadata": {
        "id": "KONQkQZ3haNC",
        "colab_type": "code",
        "colab": {}
      },
      "cell_type": "code",
      "source": [
        "us = df[df['country']=='United States'].pivot_table(index=['country','time'],aggfunc=sum)[['cell_phones_total','population_total']]"
      ],
      "execution_count": 0,
      "outputs": []
    },
    {
      "metadata": {
        "id": "CxRDZI2m8Cb7",
        "colab_type": "code",
        "colab": {}
      },
      "cell_type": "code",
      "source": [
        "us['population_total'] = us['population_total'].astype(float)"
      ],
      "execution_count": 0,
      "outputs": []
    },
    {
      "metadata": {
        "id": "0NDtP4ocjPkI",
        "colab_type": "code",
        "colab": {
          "base_uri": "https://localhost:8080/",
          "height": 314
        },
        "outputId": "d3821e11-c817-4bdf-9b18-f9292fd2e892"
      },
      "cell_type": "code",
      "source": [
        "us[:8]"
      ],
      "execution_count": 225,
      "outputs": [
        {
          "output_type": "execute_result",
          "data": {
            "text/html": [
              "<div>\n",
              "<style scoped>\n",
              "    .dataframe tbody tr th:only-of-type {\n",
              "        vertical-align: middle;\n",
              "    }\n",
              "\n",
              "    .dataframe tbody tr th {\n",
              "        vertical-align: top;\n",
              "    }\n",
              "\n",
              "    .dataframe thead th {\n",
              "        text-align: right;\n",
              "    }\n",
              "</style>\n",
              "<table border=\"1\" class=\"dataframe\">\n",
              "  <thead>\n",
              "    <tr style=\"text-align: right;\">\n",
              "      <th></th>\n",
              "      <th></th>\n",
              "      <th>cell_phones_total</th>\n",
              "      <th>population_total</th>\n",
              "    </tr>\n",
              "    <tr>\n",
              "      <th>country</th>\n",
              "      <th>time</th>\n",
              "      <th></th>\n",
              "      <th></th>\n",
              "    </tr>\n",
              "  </thead>\n",
              "  <tbody>\n",
              "    <tr>\n",
              "      <th rowspan=\"8\" valign=\"top\">United States</th>\n",
              "      <th>1960</th>\n",
              "      <td>0.0</td>\n",
              "      <td>186,808,228.0</td>\n",
              "    </tr>\n",
              "    <tr>\n",
              "      <th>1965</th>\n",
              "      <td>0.0</td>\n",
              "      <td>199,815,540.0</td>\n",
              "    </tr>\n",
              "    <tr>\n",
              "      <th>1970</th>\n",
              "      <td>0.0</td>\n",
              "      <td>209,588,150.0</td>\n",
              "    </tr>\n",
              "    <tr>\n",
              "      <th>1975</th>\n",
              "      <td>0.0</td>\n",
              "      <td>219,205,296.0</td>\n",
              "    </tr>\n",
              "    <tr>\n",
              "      <th>1976</th>\n",
              "      <td>0.0</td>\n",
              "      <td>221,239,215.0</td>\n",
              "    </tr>\n",
              "    <tr>\n",
              "      <th>1977</th>\n",
              "      <td>0.0</td>\n",
              "      <td>223,324,042.0</td>\n",
              "    </tr>\n",
              "    <tr>\n",
              "      <th>1978</th>\n",
              "      <td>0.0</td>\n",
              "      <td>225,449,657.0</td>\n",
              "    </tr>\n",
              "    <tr>\n",
              "      <th>1979</th>\n",
              "      <td>0.0</td>\n",
              "      <td>227,599,878.0</td>\n",
              "    </tr>\n",
              "  </tbody>\n",
              "</table>\n",
              "</div>"
            ],
            "text/plain": [
              "                    cell_phones_total  population_total\n",
              "country       time                                     \n",
              "United States 1960                0.0     186,808,228.0\n",
              "              1965                0.0     199,815,540.0\n",
              "              1970                0.0     209,588,150.0\n",
              "              1975                0.0     219,205,296.0\n",
              "              1976                0.0     221,239,215.0\n",
              "              1977                0.0     223,324,042.0\n",
              "              1978                0.0     225,449,657.0\n",
              "              1979                0.0     227,599,878.0"
            ]
          },
          "metadata": {
            "tags": []
          },
          "execution_count": 225
        }
      ]
    },
    {
      "metadata": {
        "id": "smSsEeaBjsFi",
        "colab_type": "code",
        "colab": {
          "base_uri": "https://localhost:8080/",
          "height": 67
        },
        "outputId": "a5deb540-60c8-4a3c-9695-491ad8a2e53c"
      },
      "cell_type": "code",
      "source": [
        "for i in range(len(us)):\n",
        "  if us.cell_phones_total[i] > us.population_total[i]:\n",
        "    print(us.loc[(slice(None), [i+1975]), :])\n",
        "    break"
      ],
      "execution_count": 228,
      "outputs": [
        {
          "output_type": "stream",
          "text": [
            "                    cell_phones_total  population_total\n",
            "country       time                                     \n",
            "United States 2014      355,500,000.0     317,718,779.0\n"
          ],
          "name": "stdout"
        }
      ]
    },
    {
      "metadata": {
        "id": "6J7iwMnTg8KZ",
        "colab_type": "text"
      },
      "cell_type": "markdown",
      "source": [
        "## Part 4. Reshape data"
      ]
    },
    {
      "metadata": {
        "id": "LP9InazRkUxG",
        "colab_type": "text"
      },
      "cell_type": "markdown",
      "source": [
        "Create a pivot table:\n",
        "- Columns: Years 2007—2017\n",
        "- Rows: China, India, United States, Indonesia, Brazil (order doesn't matter)\n",
        "- Values: Cell Phones Total\n",
        "\n",
        "The table's shape should be: (5, 11)"
      ]
    },
    {
      "metadata": {
        "id": "JD7mXXjLj4Ue",
        "colab_type": "code",
        "colab": {
          "base_uri": "https://localhost:8080/",
          "height": 106
        },
        "outputId": "d996dcb7-0469-4d9e-ac4f-d2e6be34fb8e"
      },
      "cell_type": "code",
      "source": [
        "df.head(2)"
      ],
      "execution_count": 159,
      "outputs": [
        {
          "output_type": "execute_result",
          "data": {
            "text/html": [
              "<div>\n",
              "<style scoped>\n",
              "    .dataframe tbody tr th:only-of-type {\n",
              "        vertical-align: middle;\n",
              "    }\n",
              "\n",
              "    .dataframe tbody tr th {\n",
              "        vertical-align: top;\n",
              "    }\n",
              "\n",
              "    .dataframe thead th {\n",
              "        text-align: right;\n",
              "    }\n",
              "</style>\n",
              "<table border=\"1\" class=\"dataframe\">\n",
              "  <thead>\n",
              "    <tr style=\"text-align: right;\">\n",
              "      <th></th>\n",
              "      <th>geo</th>\n",
              "      <th>country</th>\n",
              "      <th>time</th>\n",
              "      <th>cell_phones_total</th>\n",
              "      <th>population_total</th>\n",
              "      <th>cell/person</th>\n",
              "    </tr>\n",
              "  </thead>\n",
              "  <tbody>\n",
              "    <tr>\n",
              "      <th>0</th>\n",
              "      <td>AFG</td>\n",
              "      <td>Afghanistan</td>\n",
              "      <td>1960</td>\n",
              "      <td>0.0</td>\n",
              "      <td>8996351</td>\n",
              "      <td>0.0</td>\n",
              "    </tr>\n",
              "    <tr>\n",
              "      <th>1</th>\n",
              "      <td>AFG</td>\n",
              "      <td>Afghanistan</td>\n",
              "      <td>1965</td>\n",
              "      <td>0.0</td>\n",
              "      <td>9938414</td>\n",
              "      <td>0.0</td>\n",
              "    </tr>\n",
              "  </tbody>\n",
              "</table>\n",
              "</div>"
            ],
            "text/plain": [
              "   geo      country  time  cell_phones_total  population_total  cell/person\n",
              "0  AFG  Afghanistan  1960                0.0           8996351          0.0\n",
              "1  AFG  Afghanistan  1965                0.0           9938414          0.0"
            ]
          },
          "metadata": {
            "tags": []
          },
          "execution_count": 159
        }
      ]
    },
    {
      "metadata": {
        "id": "QKNlMoj1mgcP",
        "colab_type": "code",
        "colab": {
          "base_uri": "https://localhost:8080/",
          "height": 485
        },
        "outputId": "e5e5b857-defb-4386-9569-c30d10ff203b"
      },
      "cell_type": "code",
      "source": [
        "df[ (df['time']>=2007) & (df['time']<=2017) ].pivot_table(index='time', columns='country', values='cell_phones_total')"
      ],
      "execution_count": 165,
      "outputs": [
        {
          "output_type": "execute_result",
          "data": {
            "text/html": [
              "<div>\n",
              "<style scoped>\n",
              "    .dataframe tbody tr th:only-of-type {\n",
              "        vertical-align: middle;\n",
              "    }\n",
              "\n",
              "    .dataframe tbody tr th {\n",
              "        vertical-align: top;\n",
              "    }\n",
              "\n",
              "    .dataframe thead th {\n",
              "        text-align: right;\n",
              "    }\n",
              "</style>\n",
              "<table border=\"1\" class=\"dataframe\">\n",
              "  <thead>\n",
              "    <tr style=\"text-align: right;\">\n",
              "      <th>country</th>\n",
              "      <th>Afghanistan</th>\n",
              "      <th>Albania</th>\n",
              "      <th>Algeria</th>\n",
              "      <th>Andorra</th>\n",
              "      <th>Angola</th>\n",
              "      <th>Antigua and Barbuda</th>\n",
              "      <th>Argentina</th>\n",
              "      <th>Armenia</th>\n",
              "      <th>Australia</th>\n",
              "      <th>Austria</th>\n",
              "      <th>...</th>\n",
              "      <th>United Kingdom</th>\n",
              "      <th>United States</th>\n",
              "      <th>Uruguay</th>\n",
              "      <th>Uzbekistan</th>\n",
              "      <th>Vanuatu</th>\n",
              "      <th>Venezuela</th>\n",
              "      <th>Vietnam</th>\n",
              "      <th>Yemen</th>\n",
              "      <th>Zambia</th>\n",
              "      <th>Zimbabwe</th>\n",
              "    </tr>\n",
              "    <tr>\n",
              "      <th>time</th>\n",
              "      <th></th>\n",
              "      <th></th>\n",
              "      <th></th>\n",
              "      <th></th>\n",
              "      <th></th>\n",
              "      <th></th>\n",
              "      <th></th>\n",
              "      <th></th>\n",
              "      <th></th>\n",
              "      <th></th>\n",
              "      <th></th>\n",
              "      <th></th>\n",
              "      <th></th>\n",
              "      <th></th>\n",
              "      <th></th>\n",
              "      <th></th>\n",
              "      <th></th>\n",
              "      <th></th>\n",
              "      <th></th>\n",
              "      <th></th>\n",
              "      <th></th>\n",
              "    </tr>\n",
              "  </thead>\n",
              "  <tbody>\n",
              "    <tr>\n",
              "      <th>2007</th>\n",
              "      <td>4,668,096.0</td>\n",
              "      <td>2,322,436.0</td>\n",
              "      <td>27,562,721.0</td>\n",
              "      <td>63,503.0</td>\n",
              "      <td>4,961,536.0</td>\n",
              "      <td>112,381.0</td>\n",
              "      <td>40,401,771.0</td>\n",
              "      <td>1,876,411.0</td>\n",
              "      <td>21,260,000.0</td>\n",
              "      <td>9,912,000.0</td>\n",
              "      <td>...</td>\n",
              "      <td>73,836,210.0</td>\n",
              "      <td>249,300,000.0</td>\n",
              "      <td>3,004,323.0</td>\n",
              "      <td>5,691,458.0</td>\n",
              "      <td>26,000.0</td>\n",
              "      <td>23,820,133.0</td>\n",
              "      <td>45,024,048.0</td>\n",
              "      <td>4,349,000.0</td>\n",
              "      <td>2,639,026.0</td>\n",
              "      <td>1,225,654.0</td>\n",
              "    </tr>\n",
              "    <tr>\n",
              "      <th>2008</th>\n",
              "      <td>7,898,909.0</td>\n",
              "      <td>1,859,632.0</td>\n",
              "      <td>27,031,472.0</td>\n",
              "      <td>64,202.0</td>\n",
              "      <td>6,773,356.0</td>\n",
              "      <td>136,592.0</td>\n",
              "      <td>46,508,774.0</td>\n",
              "      <td>1,442,000.0</td>\n",
              "      <td>22,120,000.0</td>\n",
              "      <td>10,816,000.0</td>\n",
              "      <td>...</td>\n",
              "      <td>74,940,937.0</td>\n",
              "      <td>261,300,000.0</td>\n",
              "      <td>3,507,816.0</td>\n",
              "      <td>12,375,274.0</td>\n",
              "      <td>36,000.0</td>\n",
              "      <td>27,414,377.0</td>\n",
              "      <td>74,872,310.0</td>\n",
              "      <td>6,445,000.0</td>\n",
              "      <td>3,539,003.0</td>\n",
              "      <td>1,654,721.0</td>\n",
              "    </tr>\n",
              "    <tr>\n",
              "      <th>2009</th>\n",
              "      <td>10,500,000.0</td>\n",
              "      <td>2,463,741.0</td>\n",
              "      <td>32,729,824.0</td>\n",
              "      <td>64,549.0</td>\n",
              "      <td>8,109,421.0</td>\n",
              "      <td>134,925.0</td>\n",
              "      <td>52,482,780.0</td>\n",
              "      <td>2,191,500.0</td>\n",
              "      <td>22,200,000.0</td>\n",
              "      <td>11,434,000.0</td>\n",
              "      <td>...</td>\n",
              "      <td>76,481,053.0</td>\n",
              "      <td>274,283,000.0</td>\n",
              "      <td>4,111,560.0</td>\n",
              "      <td>16,417,914.0</td>\n",
              "      <td>131,682.0</td>\n",
              "      <td>28,123,570.0</td>\n",
              "      <td>98,223,980.0</td>\n",
              "      <td>8,313,000.0</td>\n",
              "      <td>4,406,682.0</td>\n",
              "      <td>3,991,000.0</td>\n",
              "    </tr>\n",
              "    <tr>\n",
              "      <th>2010</th>\n",
              "      <td>10,215,840.0</td>\n",
              "      <td>2,692,372.0</td>\n",
              "      <td>32,780,165.0</td>\n",
              "      <td>65,495.0</td>\n",
              "      <td>9,403,365.0</td>\n",
              "      <td>167,970.0</td>\n",
              "      <td>57,082,298.0</td>\n",
              "      <td>3,865,354.0</td>\n",
              "      <td>22,500,000.0</td>\n",
              "      <td>12,241,000.0</td>\n",
              "      <td>...</td>\n",
              "      <td>76,729,827.0</td>\n",
              "      <td>285,118,000.0</td>\n",
              "      <td>4,437,158.0</td>\n",
              "      <td>20,952,000.0</td>\n",
              "      <td>169,935.0</td>\n",
              "      <td>27,880,132.0</td>\n",
              "      <td>111,570,201.0</td>\n",
              "      <td>11,085,000.0</td>\n",
              "      <td>5,446,991.0</td>\n",
              "      <td>7,700,000.0</td>\n",
              "    </tr>\n",
              "    <tr>\n",
              "      <th>2011</th>\n",
              "      <td>13,797,879.0</td>\n",
              "      <td>3,100,000.0</td>\n",
              "      <td>35,615,926.0</td>\n",
              "      <td>65,044.0</td>\n",
              "      <td>12,073,218.0</td>\n",
              "      <td>176,008.0</td>\n",
              "      <td>60,722,729.0</td>\n",
              "      <td>3,211,215.0</td>\n",
              "      <td>23,789,000.0</td>\n",
              "      <td>13,022,578.0</td>\n",
              "      <td>...</td>\n",
              "      <td>77,162,298.0</td>\n",
              "      <td>297,404,000.0</td>\n",
              "      <td>4,757,425.0</td>\n",
              "      <td>25,441,789.0</td>\n",
              "      <td>136,956.0</td>\n",
              "      <td>28,781,999.0</td>\n",
              "      <td>127,318,045.0</td>\n",
              "      <td>11,668,000.0</td>\n",
              "      <td>8,164,553.0</td>\n",
              "      <td>9,200,000.0</td>\n",
              "    </tr>\n",
              "    <tr>\n",
              "      <th>2012</th>\n",
              "      <td>15,340,115.0</td>\n",
              "      <td>3,500,000.0</td>\n",
              "      <td>37,527,703.0</td>\n",
              "      <td>63,865.0</td>\n",
              "      <td>12,785,109.0</td>\n",
              "      <td>127,381.0</td>\n",
              "      <td>64,327,647.0</td>\n",
              "      <td>3,322,837.0</td>\n",
              "      <td>24,338,000.0</td>\n",
              "      <td>13,588,000.0</td>\n",
              "      <td>...</td>\n",
              "      <td>78,329,355.0</td>\n",
              "      <td>304,838,000.0</td>\n",
              "      <td>4,995,459.0</td>\n",
              "      <td>20,274,090.0</td>\n",
              "      <td>146,084.0</td>\n",
              "      <td>30,569,073.0</td>\n",
              "      <td>131,673,724.0</td>\n",
              "      <td>13,900,000.0</td>\n",
              "      <td>10,524,676.0</td>\n",
              "      <td>12,613,935.0</td>\n",
              "    </tr>\n",
              "    <tr>\n",
              "      <th>2013</th>\n",
              "      <td>16,807,156.0</td>\n",
              "      <td>3,685,983.0</td>\n",
              "      <td>39,517,045.0</td>\n",
              "      <td>63,931.0</td>\n",
              "      <td>13,285,198.0</td>\n",
              "      <td>114,358.0</td>\n",
              "      <td>67,361,515.0</td>\n",
              "      <td>3,346,275.0</td>\n",
              "      <td>24,940,000.0</td>\n",
              "      <td>13,272,000.0</td>\n",
              "      <td>...</td>\n",
              "      <td>78,673,978.0</td>\n",
              "      <td>310,698,000.0</td>\n",
              "      <td>5,267,947.0</td>\n",
              "      <td>21,500,000.0</td>\n",
              "      <td>127,244.0</td>\n",
              "      <td>30,896,079.0</td>\n",
              "      <td>123,735,557.0</td>\n",
              "      <td>16,844,700.0</td>\n",
              "      <td>10,395,801.0</td>\n",
              "      <td>13,633,167.0</td>\n",
              "    </tr>\n",
              "    <tr>\n",
              "      <th>2014</th>\n",
              "      <td>18,407,168.0</td>\n",
              "      <td>3,359,654.0</td>\n",
              "      <td>43,298,174.0</td>\n",
              "      <td>66,241.0</td>\n",
              "      <td>14,052,558.0</td>\n",
              "      <td>120,041.0</td>\n",
              "      <td>61,234,216.0</td>\n",
              "      <td>3,459,137.0</td>\n",
              "      <td>25,060,000.0</td>\n",
              "      <td>12,952,605.0</td>\n",
              "      <td>...</td>\n",
              "      <td>78,460,684.0</td>\n",
              "      <td>355,500,000.0</td>\n",
              "      <td>5,497,094.0</td>\n",
              "      <td>21,639,200.0</td>\n",
              "      <td>156,051.0</td>\n",
              "      <td>30,528,022.0</td>\n",
              "      <td>136,148,124.0</td>\n",
              "      <td>17,100,000.0</td>\n",
              "      <td>10,114,867.0</td>\n",
              "      <td>11,798,652.0</td>\n",
              "    </tr>\n",
              "    <tr>\n",
              "      <th>2015</th>\n",
              "      <td>19,709,038.0</td>\n",
              "      <td>3,400,955.0</td>\n",
              "      <td>43,227,643.0</td>\n",
              "      <td>71,336.0</td>\n",
              "      <td>13,884,532.0</td>\n",
              "      <td>176,000.0</td>\n",
              "      <td>61,842,011.0</td>\n",
              "      <td>3,464,490.0</td>\n",
              "      <td>25,770,000.0</td>\n",
              "      <td>13,470,623.0</td>\n",
              "      <td>...</td>\n",
              "      <td>79,250,793.0</td>\n",
              "      <td>382,307,000.0</td>\n",
              "      <td>5,165,474.0</td>\n",
              "      <td>21,783,300.0</td>\n",
              "      <td>174,818.0</td>\n",
              "      <td>29,093,517.0</td>\n",
              "      <td>120,324,052.0</td>\n",
              "      <td>15,021,953.0</td>\n",
              "      <td>11,557,725.0</td>\n",
              "      <td>12,757,410.0</td>\n",
              "    </tr>\n",
              "    <tr>\n",
              "      <th>2016</th>\n",
              "      <td>21,602,982.0</td>\n",
              "      <td>3,369,756.0</td>\n",
              "      <td>47,041,321.0</td>\n",
              "      <td>76,132.0</td>\n",
              "      <td>13,001,124.0</td>\n",
              "      <td>180,000.0</td>\n",
              "      <td>63,723,692.0</td>\n",
              "      <td>3,434,567.0</td>\n",
              "      <td>26,551,000.0</td>\n",
              "      <td>14,270,000.0</td>\n",
              "      <td>...</td>\n",
              "      <td>78,931,386.0</td>\n",
              "      <td>395,881,000.0</td>\n",
              "      <td>5,116,736.0</td>\n",
              "      <td>23,265,389.0</td>\n",
              "      <td>218,603.0</td>\n",
              "      <td>27,600,893.0</td>\n",
              "      <td>120,600,235.0</td>\n",
              "      <td>16,433,055.0</td>\n",
              "      <td>12,017,034.0</td>\n",
              "      <td>12,878,926.0</td>\n",
              "    </tr>\n",
              "    <tr>\n",
              "      <th>2017</th>\n",
              "      <td>23,929,713.0</td>\n",
              "      <td>3,497,950.0</td>\n",
              "      <td>49,873,389.0</td>\n",
              "      <td>80,337.0</td>\n",
              "      <td>13,323,952.0</td>\n",
              "      <td>nan</td>\n",
              "      <td>61,897,379.0</td>\n",
              "      <td>3,488,524.0</td>\n",
              "      <td>27,553,000.0</td>\n",
              "      <td>14,924,340.0</td>\n",
              "      <td>...</td>\n",
              "      <td>79,173,658.0</td>\n",
              "      <td>395,881,000.0</td>\n",
              "      <td>5,097,569.0</td>\n",
              "      <td>24,265,460.0</td>\n",
              "      <td>228,016.0</td>\n",
              "      <td>24,493,687.0</td>\n",
              "      <td>120,016,181.0</td>\n",
              "      <td>nan</td>\n",
              "      <td>13,438,539.0</td>\n",
              "      <td>14,092,104.0</td>\n",
              "    </tr>\n",
              "  </tbody>\n",
              "</table>\n",
              "<p>11 rows × 195 columns</p>\n",
              "</div>"
            ],
            "text/plain": [
              "country  Afghanistan     Albania      Algeria  Andorra       Angola  \\\n",
              "time                                                                  \n",
              "2007     4,668,096.0 2,322,436.0 27,562,721.0 63,503.0  4,961,536.0   \n",
              "2008     7,898,909.0 1,859,632.0 27,031,472.0 64,202.0  6,773,356.0   \n",
              "2009    10,500,000.0 2,463,741.0 32,729,824.0 64,549.0  8,109,421.0   \n",
              "2010    10,215,840.0 2,692,372.0 32,780,165.0 65,495.0  9,403,365.0   \n",
              "2011    13,797,879.0 3,100,000.0 35,615,926.0 65,044.0 12,073,218.0   \n",
              "2012    15,340,115.0 3,500,000.0 37,527,703.0 63,865.0 12,785,109.0   \n",
              "2013    16,807,156.0 3,685,983.0 39,517,045.0 63,931.0 13,285,198.0   \n",
              "2014    18,407,168.0 3,359,654.0 43,298,174.0 66,241.0 14,052,558.0   \n",
              "2015    19,709,038.0 3,400,955.0 43,227,643.0 71,336.0 13,884,532.0   \n",
              "2016    21,602,982.0 3,369,756.0 47,041,321.0 76,132.0 13,001,124.0   \n",
              "2017    23,929,713.0 3,497,950.0 49,873,389.0 80,337.0 13,323,952.0   \n",
              "\n",
              "country  Antigua and Barbuda    Argentina     Armenia    Australia  \\\n",
              "time                                                                 \n",
              "2007               112,381.0 40,401,771.0 1,876,411.0 21,260,000.0   \n",
              "2008               136,592.0 46,508,774.0 1,442,000.0 22,120,000.0   \n",
              "2009               134,925.0 52,482,780.0 2,191,500.0 22,200,000.0   \n",
              "2010               167,970.0 57,082,298.0 3,865,354.0 22,500,000.0   \n",
              "2011               176,008.0 60,722,729.0 3,211,215.0 23,789,000.0   \n",
              "2012               127,381.0 64,327,647.0 3,322,837.0 24,338,000.0   \n",
              "2013               114,358.0 67,361,515.0 3,346,275.0 24,940,000.0   \n",
              "2014               120,041.0 61,234,216.0 3,459,137.0 25,060,000.0   \n",
              "2015               176,000.0 61,842,011.0 3,464,490.0 25,770,000.0   \n",
              "2016               180,000.0 63,723,692.0 3,434,567.0 26,551,000.0   \n",
              "2017                     nan 61,897,379.0 3,488,524.0 27,553,000.0   \n",
              "\n",
              "country      Austria     ...       United Kingdom  United States     Uruguay  \\\n",
              "time                     ...                                                   \n",
              "2007     9,912,000.0     ...         73,836,210.0  249,300,000.0 3,004,323.0   \n",
              "2008    10,816,000.0     ...         74,940,937.0  261,300,000.0 3,507,816.0   \n",
              "2009    11,434,000.0     ...         76,481,053.0  274,283,000.0 4,111,560.0   \n",
              "2010    12,241,000.0     ...         76,729,827.0  285,118,000.0 4,437,158.0   \n",
              "2011    13,022,578.0     ...         77,162,298.0  297,404,000.0 4,757,425.0   \n",
              "2012    13,588,000.0     ...         78,329,355.0  304,838,000.0 4,995,459.0   \n",
              "2013    13,272,000.0     ...         78,673,978.0  310,698,000.0 5,267,947.0   \n",
              "2014    12,952,605.0     ...         78,460,684.0  355,500,000.0 5,497,094.0   \n",
              "2015    13,470,623.0     ...         79,250,793.0  382,307,000.0 5,165,474.0   \n",
              "2016    14,270,000.0     ...         78,931,386.0  395,881,000.0 5,116,736.0   \n",
              "2017    14,924,340.0     ...         79,173,658.0  395,881,000.0 5,097,569.0   \n",
              "\n",
              "country   Uzbekistan   Vanuatu    Venezuela       Vietnam        Yemen  \\\n",
              "time                                                                     \n",
              "2007     5,691,458.0  26,000.0 23,820,133.0  45,024,048.0  4,349,000.0   \n",
              "2008    12,375,274.0  36,000.0 27,414,377.0  74,872,310.0  6,445,000.0   \n",
              "2009    16,417,914.0 131,682.0 28,123,570.0  98,223,980.0  8,313,000.0   \n",
              "2010    20,952,000.0 169,935.0 27,880,132.0 111,570,201.0 11,085,000.0   \n",
              "2011    25,441,789.0 136,956.0 28,781,999.0 127,318,045.0 11,668,000.0   \n",
              "2012    20,274,090.0 146,084.0 30,569,073.0 131,673,724.0 13,900,000.0   \n",
              "2013    21,500,000.0 127,244.0 30,896,079.0 123,735,557.0 16,844,700.0   \n",
              "2014    21,639,200.0 156,051.0 30,528,022.0 136,148,124.0 17,100,000.0   \n",
              "2015    21,783,300.0 174,818.0 29,093,517.0 120,324,052.0 15,021,953.0   \n",
              "2016    23,265,389.0 218,603.0 27,600,893.0 120,600,235.0 16,433,055.0   \n",
              "2017    24,265,460.0 228,016.0 24,493,687.0 120,016,181.0          nan   \n",
              "\n",
              "country       Zambia     Zimbabwe  \n",
              "time                               \n",
              "2007     2,639,026.0  1,225,654.0  \n",
              "2008     3,539,003.0  1,654,721.0  \n",
              "2009     4,406,682.0  3,991,000.0  \n",
              "2010     5,446,991.0  7,700,000.0  \n",
              "2011     8,164,553.0  9,200,000.0  \n",
              "2012    10,524,676.0 12,613,935.0  \n",
              "2013    10,395,801.0 13,633,167.0  \n",
              "2014    10,114,867.0 11,798,652.0  \n",
              "2015    11,557,725.0 12,757,410.0  \n",
              "2016    12,017,034.0 12,878,926.0  \n",
              "2017    13,438,539.0 14,092,104.0  \n",
              "\n",
              "[11 rows x 195 columns]"
            ]
          },
          "metadata": {
            "tags": []
          },
          "execution_count": 165
        }
      ]
    },
    {
      "metadata": {
        "id": "CNKTu2DCnAo6",
        "colab_type": "text"
      },
      "cell_type": "markdown",
      "source": [
        "#### OPTIONAL BONUS QUESTION!\n",
        "\n",
        "Sort these 5 countries, by biggest increase in cell phones from 2007 to 2017.\n",
        "\n",
        "Which country had 935,282,277 more cell phones in 2017 versus 2007?"
      ]
    },
    {
      "metadata": {
        "id": "O4Aecv1fmQlj",
        "colab_type": "code",
        "colab": {}
      },
      "cell_type": "code",
      "source": [
        ""
      ],
      "execution_count": 0,
      "outputs": []
    },
    {
      "metadata": {
        "id": "7iHkMsa3Rorh",
        "colab_type": "text"
      },
      "cell_type": "markdown",
      "source": [
        "If you have the time and curiosity, what other questions can you ask and answer with this data?"
      ]
    }
  ]
}