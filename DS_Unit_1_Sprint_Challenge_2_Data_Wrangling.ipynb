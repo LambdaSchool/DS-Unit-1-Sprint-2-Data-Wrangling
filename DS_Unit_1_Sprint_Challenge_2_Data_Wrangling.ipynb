{
  "nbformat": 4,
  "nbformat_minor": 0,
  "metadata": {
    "colab": {
      "name": "DS_Unit_1_Sprint_Challenge_2_Data_Wrangling.ipynb",
      "version": "0.3.2",
      "provenance": [],
      "collapsed_sections": [],
      "include_colab_link": true
    },
    "kernelspec": {
      "name": "python3",
      "display_name": "Python 3"
    }
  },
  "cells": [
    {
      "cell_type": "markdown",
      "metadata": {
        "id": "view-in-github",
        "colab_type": "text"
      },
      "source": [
        "<a href=\"https://colab.research.google.com/github/extrajp2014/DS-Unit-1-Sprint-2-Data-Wrangling/blob/master/DS_Unit_1_Sprint_Challenge_2_Data_Wrangling.ipynb\" target=\"_parent\"><img src=\"https://colab.research.google.com/assets/colab-badge.svg\" alt=\"Open In Colab\"/></a>"
      ]
    },
    {
      "metadata": {
        "id": "4yMHi_PX9hEz",
        "colab_type": "text"
      },
      "cell_type": "markdown",
      "source": [
        "# Data Science Unit 1 Sprint Challenge 2\n",
        "\n",
        "## Data Wrangling\n",
        "\n",
        "In this Sprint Challenge you will use data from [Gapminder](https://www.gapminder.org/about-gapminder/), a Swedish non-profit co-founded by Hans Rosling. \"Gapminder produces free teaching resources making the world understandable based on reliable statistics.\"\n",
        "- [Cell phones (total), by country and year](https://raw.githubusercontent.com/open-numbers/ddf--gapminder--systema_globalis/master/ddf--datapoints--cell_phones_total--by--geo--time.csv)\n",
        "- [Population (total), by country and year](https://raw.githubusercontent.com/open-numbers/ddf--gapminder--systema_globalis/master/ddf--datapoints--population_total--by--geo--time.csv)\n",
        "- [Geo country codes](https://github.com/open-numbers/ddf--gapminder--systema_globalis/blob/master/ddf--entities--geo--country.csv)\n",
        "\n",
        "These two links have everything you need to successfully complete the Sprint Challenge!\n",
        "- [Pandas documentation: Working with Text Data](https://pandas.pydata.org/pandas-docs/stable/text.html]) (one question)\n",
        "- [Pandas Cheat Sheet](https://github.com/pandas-dev/pandas/blob/master/doc/cheatsheet/Pandas_Cheat_Sheet.pdf) (everything else)"
      ]
    },
    {
      "metadata": {
        "id": "wWEU2GemX68A",
        "colab_type": "text"
      },
      "cell_type": "markdown",
      "source": [
        "## Part 0. Load data\n",
        "\n",
        "You don't need to add or change anything here. Just run this cell and it loads the data for you, into three dataframes."
      ]
    },
    {
      "metadata": {
        "id": "bxKtSi5sRQOl",
        "colab_type": "code",
        "colab": {}
      },
      "cell_type": "code",
      "source": [
        "import pandas as pd\n",
        "\n",
        "cell_phones = pd.read_csv('https://raw.githubusercontent.com/open-numbers/ddf--gapminder--systema_globalis/master/ddf--datapoints--cell_phones_total--by--geo--time.csv')\n",
        "\n",
        "population = pd.read_csv('https://raw.githubusercontent.com/open-numbers/ddf--gapminder--systema_globalis/master/ddf--datapoints--population_total--by--geo--time.csv')\n",
        "\n",
        "geo_country_codes = (pd.read_csv('https://raw.githubusercontent.com/open-numbers/ddf--gapminder--systema_globalis/master/ddf--entities--geo--country.csv')\n",
        "                       .rename(columns={'country': 'geo', 'name': 'country'}))"
      ],
      "execution_count": 0,
      "outputs": []
    },
    {
      "metadata": {
        "id": "AZmVTeCsX9RC",
        "colab_type": "text"
      },
      "cell_type": "markdown",
      "source": [
        "## Part 1. Join data"
      ]
    },
    {
      "metadata": {
        "id": "GLzX58u4SfEy",
        "colab_type": "text"
      },
      "cell_type": "markdown",
      "source": [
        "First, join the `cell_phones` and `population` dataframes (with an inner join on `geo` and `time`).\n",
        "\n",
        "The resulting dataframe's shape should be: (8590, 4)"
      ]
    },
    {
      "metadata": {
        "id": "GVV7Hnj4SXBa",
        "colab_type": "code",
        "colab": {
          "base_uri": "https://localhost:8080/",
          "height": 221
        },
        "outputId": "2c05c3c5-1b85-4730-a415-207171d86442"
      },
      "cell_type": "code",
      "source": [
        "df1=cell_phones\n",
        "df2=population\n",
        "df3=geo_country_codes\n",
        "print(cell_phones.head())\n",
        "print(population.head())"
      ],
      "execution_count": 2,
      "outputs": [
        {
          "output_type": "stream",
          "text": [
            "   geo  time  cell_phones_total\n",
            "0  abw  1960                0.0\n",
            "1  abw  1965                0.0\n",
            "2  abw  1970                0.0\n",
            "3  abw  1975                0.0\n",
            "4  abw  1976                0.0\n",
            "   geo  time  population_total\n",
            "0  afg  1800           3280000\n",
            "1  afg  1801           3280000\n",
            "2  afg  1802           3280000\n",
            "3  afg  1803           3280000\n",
            "4  afg  1804           3280000\n"
          ],
          "name": "stdout"
        }
      ]
    },
    {
      "metadata": {
        "id": "uY1mhyFFtP7y",
        "colab_type": "code",
        "colab": {
          "base_uri": "https://localhost:8080/",
          "height": 221
        },
        "outputId": "2097a79f-c252-4353-f6bf-ddfd85712e2c"
      },
      "cell_type": "code",
      "source": [
        "# Join data\n",
        "# df1=cell_phones\n",
        "# df2=population\n",
        "# df3=geo_country_codes\n",
        "merged=df1.merge(df2, on=['geo', 'time'], how='inner')\n",
        "print(merged.shape)\n",
        "merged.head()"
      ],
      "execution_count": 3,
      "outputs": [
        {
          "output_type": "stream",
          "text": [
            "(8590, 4)\n"
          ],
          "name": "stdout"
        },
        {
          "output_type": "execute_result",
          "data": {
            "text/html": [
              "<div>\n",
              "<style scoped>\n",
              "    .dataframe tbody tr th:only-of-type {\n",
              "        vertical-align: middle;\n",
              "    }\n",
              "\n",
              "    .dataframe tbody tr th {\n",
              "        vertical-align: top;\n",
              "    }\n",
              "\n",
              "    .dataframe thead th {\n",
              "        text-align: right;\n",
              "    }\n",
              "</style>\n",
              "<table border=\"1\" class=\"dataframe\">\n",
              "  <thead>\n",
              "    <tr style=\"text-align: right;\">\n",
              "      <th></th>\n",
              "      <th>geo</th>\n",
              "      <th>time</th>\n",
              "      <th>cell_phones_total</th>\n",
              "      <th>population_total</th>\n",
              "    </tr>\n",
              "  </thead>\n",
              "  <tbody>\n",
              "    <tr>\n",
              "      <th>0</th>\n",
              "      <td>afg</td>\n",
              "      <td>1960</td>\n",
              "      <td>0.0</td>\n",
              "      <td>8996351</td>\n",
              "    </tr>\n",
              "    <tr>\n",
              "      <th>1</th>\n",
              "      <td>afg</td>\n",
              "      <td>1965</td>\n",
              "      <td>0.0</td>\n",
              "      <td>9938414</td>\n",
              "    </tr>\n",
              "    <tr>\n",
              "      <th>2</th>\n",
              "      <td>afg</td>\n",
              "      <td>1970</td>\n",
              "      <td>0.0</td>\n",
              "      <td>11126123</td>\n",
              "    </tr>\n",
              "    <tr>\n",
              "      <th>3</th>\n",
              "      <td>afg</td>\n",
              "      <td>1975</td>\n",
              "      <td>0.0</td>\n",
              "      <td>12590286</td>\n",
              "    </tr>\n",
              "    <tr>\n",
              "      <th>4</th>\n",
              "      <td>afg</td>\n",
              "      <td>1976</td>\n",
              "      <td>0.0</td>\n",
              "      <td>12840299</td>\n",
              "    </tr>\n",
              "  </tbody>\n",
              "</table>\n",
              "</div>"
            ],
            "text/plain": [
              "   geo  time  cell_phones_total  population_total\n",
              "0  afg  1960                0.0           8996351\n",
              "1  afg  1965                0.0           9938414\n",
              "2  afg  1970                0.0          11126123\n",
              "3  afg  1975                0.0          12590286\n",
              "4  afg  1976                0.0          12840299"
            ]
          },
          "metadata": {
            "tags": []
          },
          "execution_count": 3
        }
      ]
    },
    {
      "metadata": {
        "id": "xsXpDbwwW241",
        "colab_type": "text"
      },
      "cell_type": "markdown",
      "source": [
        "Then, select the `geo` and `country` columns from the `geo_country_codes` dataframe, and join with your population and cell phone data.\n",
        "\n",
        "The resulting dataframe's shape should be: (8590, 5)"
      ]
    },
    {
      "metadata": {
        "id": "Q2LaZta_W2CE",
        "colab_type": "code",
        "colab": {
          "base_uri": "https://localhost:8080/",
          "height": 221
        },
        "outputId": "95f9b587-099d-4563-d847-c3b4e9c91a1e"
      },
      "cell_type": "code",
      "source": [
        "# df1=cell_phones\n",
        "# df2=population\n",
        "# df3=geo_country_codes\n",
        "columns = ['geo', 'country']\n",
        "final=merged.merge(df3[columns], on='geo', how='inner')\n",
        "print(final.shape)\n",
        "final.head()"
      ],
      "execution_count": 4,
      "outputs": [
        {
          "output_type": "stream",
          "text": [
            "(8590, 5)\n"
          ],
          "name": "stdout"
        },
        {
          "output_type": "execute_result",
          "data": {
            "text/html": [
              "<div>\n",
              "<style scoped>\n",
              "    .dataframe tbody tr th:only-of-type {\n",
              "        vertical-align: middle;\n",
              "    }\n",
              "\n",
              "    .dataframe tbody tr th {\n",
              "        vertical-align: top;\n",
              "    }\n",
              "\n",
              "    .dataframe thead th {\n",
              "        text-align: right;\n",
              "    }\n",
              "</style>\n",
              "<table border=\"1\" class=\"dataframe\">\n",
              "  <thead>\n",
              "    <tr style=\"text-align: right;\">\n",
              "      <th></th>\n",
              "      <th>geo</th>\n",
              "      <th>time</th>\n",
              "      <th>cell_phones_total</th>\n",
              "      <th>population_total</th>\n",
              "      <th>country</th>\n",
              "    </tr>\n",
              "  </thead>\n",
              "  <tbody>\n",
              "    <tr>\n",
              "      <th>0</th>\n",
              "      <td>afg</td>\n",
              "      <td>1960</td>\n",
              "      <td>0.0</td>\n",
              "      <td>8996351</td>\n",
              "      <td>Afghanistan</td>\n",
              "    </tr>\n",
              "    <tr>\n",
              "      <th>1</th>\n",
              "      <td>afg</td>\n",
              "      <td>1965</td>\n",
              "      <td>0.0</td>\n",
              "      <td>9938414</td>\n",
              "      <td>Afghanistan</td>\n",
              "    </tr>\n",
              "    <tr>\n",
              "      <th>2</th>\n",
              "      <td>afg</td>\n",
              "      <td>1970</td>\n",
              "      <td>0.0</td>\n",
              "      <td>11126123</td>\n",
              "      <td>Afghanistan</td>\n",
              "    </tr>\n",
              "    <tr>\n",
              "      <th>3</th>\n",
              "      <td>afg</td>\n",
              "      <td>1975</td>\n",
              "      <td>0.0</td>\n",
              "      <td>12590286</td>\n",
              "      <td>Afghanistan</td>\n",
              "    </tr>\n",
              "    <tr>\n",
              "      <th>4</th>\n",
              "      <td>afg</td>\n",
              "      <td>1976</td>\n",
              "      <td>0.0</td>\n",
              "      <td>12840299</td>\n",
              "      <td>Afghanistan</td>\n",
              "    </tr>\n",
              "  </tbody>\n",
              "</table>\n",
              "</div>"
            ],
            "text/plain": [
              "   geo  time  cell_phones_total  population_total      country\n",
              "0  afg  1960                0.0           8996351  Afghanistan\n",
              "1  afg  1965                0.0           9938414  Afghanistan\n",
              "2  afg  1970                0.0          11126123  Afghanistan\n",
              "3  afg  1975                0.0          12590286  Afghanistan\n",
              "4  afg  1976                0.0          12840299  Afghanistan"
            ]
          },
          "metadata": {
            "tags": []
          },
          "execution_count": 4
        }
      ]
    },
    {
      "metadata": {
        "id": "WTWSILz46vH2",
        "colab_type": "code",
        "colab": {
          "base_uri": "https://localhost:8080/",
          "height": 34
        },
        "outputId": "f199dde5-d88f-4666-b346-c6cf78dc9714"
      },
      "cell_type": "code",
      "source": [
        "df=final\n",
        "import numpy as np\n",
        "def all_numeric(df):\n",
        "  return all((df.dtypes==np.number) | (df.dtypes==bool))\n",
        "\n",
        "def no_nulls(df):\n",
        "  return not any(df.isnull().sum())\n",
        "\n",
        "def ready_for_sklearn(df):\n",
        "  return all_numeric(df) and no_nulls(df)\n",
        "\n",
        "print(all_numeric(df), ready_for_sklearn(df), no_nulls(df),final.isnull().sum().sum())\n"
      ],
      "execution_count": 38,
      "outputs": [
        {
          "output_type": "stream",
          "text": [
            "False False True 0\n"
          ],
          "name": "stdout"
        }
      ]
    },
    {
      "metadata": {
        "id": "oK96Uj7vYjFX",
        "colab_type": "text"
      },
      "cell_type": "markdown",
      "source": [
        "## Part 2. Make features"
      ]
    },
    {
      "metadata": {
        "id": "AD2fBNrOYzCG",
        "colab_type": "text"
      },
      "cell_type": "markdown",
      "source": [
        "Calculate the number of cell phones per person, and add this column onto your dataframe.\n",
        "\n",
        "(You've calculated correctly if you get 1.220 cell phones per person in the United States in 2017.)"
      ]
    },
    {
      "metadata": {
        "id": "wXI9nQthYnFK",
        "colab_type": "code",
        "colab": {
          "base_uri": "https://localhost:8080/",
          "height": 119
        },
        "outputId": "de3e0961-9603-4d9f-ef46-68f09fe9c6cd"
      },
      "cell_type": "code",
      "source": [
        "final.dtypes\n"
      ],
      "execution_count": 5,
      "outputs": [
        {
          "output_type": "execute_result",
          "data": {
            "text/plain": [
              "geo                   object\n",
              "time                   int64\n",
              "cell_phones_total    float64\n",
              "population_total       int64\n",
              "country               object\n",
              "dtype: object"
            ]
          },
          "metadata": {
            "tags": []
          },
          "execution_count": 5
        }
      ]
    },
    {
      "metadata": {
        "id": "xjqBE6-z0Hcq",
        "colab_type": "code",
        "colab": {}
      },
      "cell_type": "code",
      "source": [
        "# df=final\n",
        "# df1=cell_phones\n",
        "# df2=population\n",
        "# df3=geo_country_codes\n",
        "# Calculate the number of cell phones per person, and add this column onto your dataframe.\n",
        "# (You've calculated correctly if you get 1.220 cell phones per person in the United States in 2017.)\n",
        "\n",
        "final['Cell Phones Per Person'] = final.cell_phones_total / final.population_total"
      ],
      "execution_count": 0,
      "outputs": []
    },
    {
      "metadata": {
        "id": "yrY7LmyM2UAn",
        "colab_type": "code",
        "colab": {
          "base_uri": "https://localhost:8080/",
          "height": 566
        },
        "outputId": "be28a9bb-121c-4439-fe0f-1145e9ada894"
      },
      "cell_type": "code",
      "source": [
        "pd.set_option('display.max_rows', 500)\n",
        "final.sort_values(by='country').tail(400).head(10)"
      ],
      "execution_count": 97,
      "outputs": [
        {
          "output_type": "execute_result",
          "data": {
            "text/html": [
              "<div>\n",
              "<style scoped>\n",
              "    .dataframe tbody tr th:only-of-type {\n",
              "        vertical-align: middle;\n",
              "    }\n",
              "\n",
              "    .dataframe tbody tr th {\n",
              "        vertical-align: top;\n",
              "    }\n",
              "\n",
              "    .dataframe thead th {\n",
              "        text-align: right;\n",
              "    }\n",
              "</style>\n",
              "<table border=\"1\" class=\"dataframe\">\n",
              "  <thead>\n",
              "    <tr style=\"text-align: right;\">\n",
              "      <th></th>\n",
              "      <th>geo</th>\n",
              "      <th>time</th>\n",
              "      <th>cell_phones_total</th>\n",
              "      <th>population_total</th>\n",
              "      <th>country</th>\n",
              "      <th>Cell Phones Per Person</th>\n",
              "    </tr>\n",
              "  </thead>\n",
              "  <tbody>\n",
              "    <tr>\n",
              "      <th>8130</th>\n",
              "      <td>USA</td>\n",
              "      <td>2013</td>\n",
              "      <td>310,698,000.0</td>\n",
              "      <td>315536676</td>\n",
              "      <td>United States</td>\n",
              "      <td>0.9846652501340288</td>\n",
              "    </tr>\n",
              "    <tr>\n",
              "      <th>8120</th>\n",
              "      <td>USA</td>\n",
              "      <td>2003</td>\n",
              "      <td>160,637,000.0</td>\n",
              "      <td>290027624</td>\n",
              "      <td>United States</td>\n",
              "      <td>0.5538679308699229</td>\n",
              "    </tr>\n",
              "    <tr>\n",
              "      <th>8132</th>\n",
              "      <td>USA</td>\n",
              "      <td>2015</td>\n",
              "      <td>382,307,000.0</td>\n",
              "      <td>319929162</td>\n",
              "      <td>United States</td>\n",
              "      <td>1.1949739048796058</td>\n",
              "    </tr>\n",
              "    <tr>\n",
              "      <th>8133</th>\n",
              "      <td>USA</td>\n",
              "      <td>2016</td>\n",
              "      <td>395,881,000.0</td>\n",
              "      <td>322179605</td>\n",
              "      <td>United States</td>\n",
              "      <td>1.228758722948959</td>\n",
              "    </tr>\n",
              "    <tr>\n",
              "      <th>8134</th>\n",
              "      <td>USA</td>\n",
              "      <td>2017</td>\n",
              "      <td>395,881,000.0</td>\n",
              "      <td>324459463</td>\n",
              "      <td>United States</td>\n",
              "      <td>1.2201246847283354</td>\n",
              "    </tr>\n",
              "    <tr>\n",
              "      <th>8128</th>\n",
              "      <td>USA</td>\n",
              "      <td>2011</td>\n",
              "      <td>297,404,000.0</td>\n",
              "      <td>311051373</td>\n",
              "      <td>United States</td>\n",
              "      <td>0.9561250192584747</td>\n",
              "    </tr>\n",
              "    <tr>\n",
              "      <th>8118</th>\n",
              "      <td>USA</td>\n",
              "      <td>2001</td>\n",
              "      <td>128,500,000.0</td>\n",
              "      <td>284852391</td>\n",
              "      <td>United States</td>\n",
              "      <td>0.45111083515532086</td>\n",
              "    </tr>\n",
              "    <tr>\n",
              "      <th>8092</th>\n",
              "      <td>USA</td>\n",
              "      <td>1960</td>\n",
              "      <td>0.0</td>\n",
              "      <td>186808228</td>\n",
              "      <td>United States</td>\n",
              "      <td>0.0</td>\n",
              "    </tr>\n",
              "    <tr>\n",
              "      <th>8094</th>\n",
              "      <td>USA</td>\n",
              "      <td>1970</td>\n",
              "      <td>0.0</td>\n",
              "      <td>209588150</td>\n",
              "      <td>United States</td>\n",
              "      <td>0.0</td>\n",
              "    </tr>\n",
              "    <tr>\n",
              "      <th>8116</th>\n",
              "      <td>USA</td>\n",
              "      <td>1999</td>\n",
              "      <td>86,047,003.0</td>\n",
              "      <td>278862277</td>\n",
              "      <td>United States</td>\n",
              "      <td>0.30856451408807795</td>\n",
              "    </tr>\n",
              "  </tbody>\n",
              "</table>\n",
              "</div>"
            ],
            "text/plain": [
              "      geo  time  cell_phones_total  population_total        country  Cell Phones Per Person\n",
              "8130  USA  2013      310,698,000.0         315536676  United States      0.9846652501340288\n",
              "8120  USA  2003      160,637,000.0         290027624  United States      0.5538679308699229\n",
              "8132  USA  2015      382,307,000.0         319929162  United States      1.1949739048796058\n",
              "8133  USA  2016      395,881,000.0         322179605  United States       1.228758722948959\n",
              "8134  USA  2017      395,881,000.0         324459463  United States      1.2201246847283354\n",
              "8128  USA  2011      297,404,000.0         311051373  United States      0.9561250192584747\n",
              "8118  USA  2001      128,500,000.0         284852391  United States     0.45111083515532086\n",
              "8092  USA  1960                0.0         186808228  United States                     0.0\n",
              "8094  USA  1970                0.0         209588150  United States                     0.0\n",
              "8116  USA  1999       86,047,003.0         278862277  United States     0.30856451408807795"
            ]
          },
          "metadata": {
            "tags": []
          },
          "execution_count": 97
        }
      ]
    },
    {
      "metadata": {
        "id": "S3QFdsnRZMH6",
        "colab_type": "text"
      },
      "cell_type": "markdown",
      "source": [
        "Modify the `geo` column to make the geo codes uppercase instead of lowercase."
      ]
    },
    {
      "metadata": {
        "id": "93ADij8_YkOq",
        "colab_type": "code",
        "colab": {
          "base_uri": "https://localhost:8080/",
          "height": 275
        },
        "outputId": "b68b2b87-2458-45ec-c64e-527cd767b330"
      },
      "cell_type": "code",
      "source": [
        "temp = final.geo.str.upper()\n",
        "type(temp)\n",
        "final['geo']=temp\n",
        "final.head()\n"
      ],
      "execution_count": 32,
      "outputs": [
        {
          "output_type": "execute_result",
          "data": {
            "text/html": [
              "<div>\n",
              "<style scoped>\n",
              "    .dataframe tbody tr th:only-of-type {\n",
              "        vertical-align: middle;\n",
              "    }\n",
              "\n",
              "    .dataframe tbody tr th {\n",
              "        vertical-align: top;\n",
              "    }\n",
              "\n",
              "    .dataframe thead th {\n",
              "        text-align: right;\n",
              "    }\n",
              "</style>\n",
              "<table border=\"1\" class=\"dataframe\">\n",
              "  <thead>\n",
              "    <tr style=\"text-align: right;\">\n",
              "      <th></th>\n",
              "      <th>geo</th>\n",
              "      <th>time</th>\n",
              "      <th>cell_phones_total</th>\n",
              "      <th>population_total</th>\n",
              "      <th>country</th>\n",
              "      <th>Cell Phones Per Person</th>\n",
              "    </tr>\n",
              "  </thead>\n",
              "  <tbody>\n",
              "    <tr>\n",
              "      <th>0</th>\n",
              "      <td>AFG</td>\n",
              "      <td>1960</td>\n",
              "      <td>0.0</td>\n",
              "      <td>8996351</td>\n",
              "      <td>Afghanistan</td>\n",
              "      <td>0.0</td>\n",
              "    </tr>\n",
              "    <tr>\n",
              "      <th>1</th>\n",
              "      <td>AFG</td>\n",
              "      <td>1965</td>\n",
              "      <td>0.0</td>\n",
              "      <td>9938414</td>\n",
              "      <td>Afghanistan</td>\n",
              "      <td>0.0</td>\n",
              "    </tr>\n",
              "    <tr>\n",
              "      <th>2</th>\n",
              "      <td>AFG</td>\n",
              "      <td>1970</td>\n",
              "      <td>0.0</td>\n",
              "      <td>11126123</td>\n",
              "      <td>Afghanistan</td>\n",
              "      <td>0.0</td>\n",
              "    </tr>\n",
              "    <tr>\n",
              "      <th>3</th>\n",
              "      <td>AFG</td>\n",
              "      <td>1975</td>\n",
              "      <td>0.0</td>\n",
              "      <td>12590286</td>\n",
              "      <td>Afghanistan</td>\n",
              "      <td>0.0</td>\n",
              "    </tr>\n",
              "    <tr>\n",
              "      <th>4</th>\n",
              "      <td>AFG</td>\n",
              "      <td>1976</td>\n",
              "      <td>0.0</td>\n",
              "      <td>12840299</td>\n",
              "      <td>Afghanistan</td>\n",
              "      <td>0.0</td>\n",
              "    </tr>\n",
              "  </tbody>\n",
              "</table>\n",
              "</div>"
            ],
            "text/plain": [
              "   geo  time  cell_phones_total  population_total      country  Cell Phones Per Person\n",
              "0  AFG  1960                0.0           8996351  Afghanistan                     0.0\n",
              "1  AFG  1965                0.0           9938414  Afghanistan                     0.0\n",
              "2  AFG  1970                0.0          11126123  Afghanistan                     0.0\n",
              "3  AFG  1975                0.0          12590286  Afghanistan                     0.0\n",
              "4  AFG  1976                0.0          12840299  Afghanistan                     0.0"
            ]
          },
          "metadata": {
            "tags": []
          },
          "execution_count": 32
        }
      ]
    },
    {
      "metadata": {
        "id": "hlPDAFCfaF6C",
        "colab_type": "text"
      },
      "cell_type": "markdown",
      "source": [
        "## Part 3. Process data"
      ]
    },
    {
      "metadata": {
        "id": "k-pudNWve2SQ",
        "colab_type": "text"
      },
      "cell_type": "markdown",
      "source": [
        "Use the describe function, to describe your dataframe's numeric columns, and then its non-numeric columns.\n",
        "\n",
        "(You'll see the time period ranges from 1960 to 2017, and there are 195 unique countries represented.)"
      ]
    },
    {
      "metadata": {
        "id": "g26yemKre2Cu",
        "colab_type": "code",
        "colab": {
          "base_uri": "https://localhost:8080/",
          "height": 428
        },
        "outputId": "5bfe3e87-3032-4a6a-981c-5b18a44fdfc6"
      },
      "cell_type": "code",
      "source": [
        "# This optional code formats float numbers with comma separators\n",
        "pd.options.display.float_format = '{:,}'.format\n",
        "# geo                        object\n",
        "# time                        int64\n",
        "# cell_phones_total         float64\n",
        "# population_total            int64\n",
        "# country                    object\n",
        "# Cell Phones Per Person    float64\n",
        "# dtype: object\n",
        "final.dtypes\n",
        "\n",
        "pd.set_option('display.max_columns', 500)\n",
        "print(final.describe())\n",
        "print(\"\\n\")\n",
        "print(final.geo.describe())\n",
        "print(\"\\n\")\n",
        "print(final.country.describe())"
      ],
      "execution_count": 66,
      "outputs": [
        {
          "output_type": "stream",
          "text": [
            "                     time    cell_phones_total     population_total  Cell Phones Per Person\n",
            "count             8,590.0              8,590.0              8,590.0                 8,590.0\n",
            "mean  1,994.1934807916182  9,004,949.642905472 29,838,230.581722934     0.27963855580591535\n",
            "std    14.257974607310278 55,734,084.872176506 116,128,377.47477297     0.45424665621404714\n",
            "min               1,960.0                  0.0              4,433.0                     0.0\n",
            "25%               1,983.0                  0.0          1,456,148.0                     0.0\n",
            "50%               1,995.0              6,200.0          5,725,062.5   0.0015636266438163813\n",
            "75%               2,006.0          1,697,652.0         18,105,812.0      0.4611491855201403\n",
            "max               2,017.0      1,474,097,000.0      1,409,517,397.0       2.490242818521353\n",
            "\n",
            "\n",
            "count     8590\n",
            "unique     195\n",
            "top        CAN\n",
            "freq        46\n",
            "Name: geo, dtype: object\n",
            "\n",
            "\n",
            "count        8590\n",
            "unique        195\n",
            "top       Ukraine\n",
            "freq           46\n",
            "Name: country, dtype: object\n"
          ],
          "name": "stdout"
        }
      ]
    },
    {
      "metadata": {
        "id": "zALg-RrYaLcI",
        "colab_type": "text"
      },
      "cell_type": "markdown",
      "source": [
        "In 2017, what were the top 5 countries with the most cell phones total?\n",
        "\n",
        "Your list of countries should have these totals:\n",
        "\n",
        "| country | cell phones total |\n",
        "|:-------:|:-----------------:|\n",
        "|    ?    |     1,474,097,000 |\n",
        "|    ?    |     1,168,902,277 |\n",
        "|    ?    |       458,923,202 |\n",
        "|    ?    |       395,881,000 |\n",
        "|    ?    |       236,488,548 |\n",
        "\n"
      ]
    },
    {
      "metadata": {
        "id": "qBnQ0_HM89vv",
        "colab_type": "code",
        "colab": {
          "base_uri": "https://localhost:8080/",
          "height": 119
        },
        "outputId": "827f4fba-1055-4fb6-abee-70e2c4ef141e"
      },
      "cell_type": "code",
      "source": [
        "# print(final.sort_values(by='cell_phones_total', ascending=False).head())\n",
        "top=final[['country','cell_phones_total']].sort_values('cell_phones_total', ascending=False).drop_duplicates(['country'])\n",
        "print(top.head())"
      ],
      "execution_count": 67,
      "outputs": [
        {
          "output_type": "stream",
          "text": [
            "            country  cell_phones_total\n",
            "1496          China    1,474,097,000.0\n",
            "3595          India    1,168,902,277.0\n",
            "3549      Indonesia      458,923,202.0\n",
            "8134  United States      395,881,000.0\n",
            "1081         Brazil      280,728,796.0\n"
          ],
          "name": "stdout"
        }
      ]
    },
    {
      "metadata": {
        "id": "03V3Wln_h0dj",
        "colab_type": "text"
      },
      "cell_type": "markdown",
      "source": [
        "2017 was the first year that China had more cell phones than people.\n",
        "\n",
        "What was the first year that the USA had more cell phones than people?"
      ]
    },
    {
      "metadata": {
        "id": "KONQkQZ3haNC",
        "colab_type": "code",
        "colab": {
          "base_uri": "https://localhost:8080/",
          "height": 238
        },
        "outputId": "0afa4aa5-156c-406c-e22c-57678fcc18a7"
      },
      "cell_type": "code",
      "source": [
        "condition = (final.country == 'United States') & (final.cell_phones_total > final.population_total)\n",
        "temp=final.loc[condition, 'time']\n",
        "print(type(temp))\n",
        "print(\"\\n\")\n",
        "print(temp.head())\n",
        "print(\"\\n\")\n",
        "print(\"first year that the USA had more cell phones than people\")\n",
        "print(temp.head(1))\n"
      ],
      "execution_count": 86,
      "outputs": [
        {
          "output_type": "stream",
          "text": [
            "<class 'pandas.core.series.Series'>\n",
            "\n",
            "\n",
            "8131    2014\n",
            "8132    2015\n",
            "8133    2016\n",
            "8134    2017\n",
            "Name: time, dtype: int64\n",
            "\n",
            "\n",
            "first year that the USA had more cell phones than people\n",
            "8131    2014\n",
            "Name: time, dtype: int64\n"
          ],
          "name": "stdout"
        }
      ]
    },
    {
      "metadata": {
        "id": "6J7iwMnTg8KZ",
        "colab_type": "text"
      },
      "cell_type": "markdown",
      "source": [
        "## Part 4. Reshape data"
      ]
    },
    {
      "metadata": {
        "id": "LP9InazRkUxG",
        "colab_type": "text"
      },
      "cell_type": "markdown",
      "source": [
        "Create a pivot table:\n",
        "- Columns: Years 2007—2017\n",
        "- Rows: China, India, United States, Indonesia, Brazil (order doesn't matter)\n",
        "- Values: Cell Phones Total\n",
        "\n",
        "The table's shape should be: (5, 11)"
      ]
    },
    {
      "metadata": {
        "id": "JD7mXXjLj4Ue",
        "colab_type": "code",
        "colab": {
          "base_uri": "https://localhost:8080/",
          "height": 255
        },
        "outputId": "f4f68312-95d4-4425-bcdf-80cde9bac642"
      },
      "cell_type": "code",
      "source": [
        "# Current Variables\n",
        "# ['pd', 'population', 'df1', 'df2', 'df3', 'merged', 'columns', 'final', 'temp'\n",
        "#     , 'np', 'df', 'top', 'condition']\n",
        "# Current df column names\n",
        "# ['geo', 'time', 'cell_phones_total', 'population_total', 'country', \n",
        "#  'Cell Phones Per Person']\n",
        "\n",
        "final2=final\n",
        "final2.pivot_table(index='country', \n",
        "                   columns='time', \n",
        "                   values='cell_phones_total').head()\n"
      ],
      "execution_count": 95,
      "outputs": [
        {
          "output_type": "execute_result",
          "data": {
            "text/html": [
              "<div>\n",
              "<style scoped>\n",
              "    .dataframe tbody tr th:only-of-type {\n",
              "        vertical-align: middle;\n",
              "    }\n",
              "\n",
              "    .dataframe tbody tr th {\n",
              "        vertical-align: top;\n",
              "    }\n",
              "\n",
              "    .dataframe thead th {\n",
              "        text-align: right;\n",
              "    }\n",
              "</style>\n",
              "<table border=\"1\" class=\"dataframe\">\n",
              "  <thead>\n",
              "    <tr style=\"text-align: right;\">\n",
              "      <th>time</th>\n",
              "      <th>1960</th>\n",
              "      <th>1965</th>\n",
              "      <th>1970</th>\n",
              "      <th>1975</th>\n",
              "      <th>1976</th>\n",
              "      <th>1977</th>\n",
              "      <th>1978</th>\n",
              "      <th>1979</th>\n",
              "      <th>1980</th>\n",
              "      <th>1981</th>\n",
              "      <th>1982</th>\n",
              "      <th>1983</th>\n",
              "      <th>1984</th>\n",
              "      <th>1985</th>\n",
              "      <th>1986</th>\n",
              "      <th>1987</th>\n",
              "      <th>1988</th>\n",
              "      <th>1989</th>\n",
              "      <th>1990</th>\n",
              "      <th>1991</th>\n",
              "      <th>1992</th>\n",
              "      <th>1993</th>\n",
              "      <th>1994</th>\n",
              "      <th>1995</th>\n",
              "      <th>1996</th>\n",
              "      <th>1997</th>\n",
              "      <th>1998</th>\n",
              "      <th>1999</th>\n",
              "      <th>2000</th>\n",
              "      <th>2001</th>\n",
              "      <th>2002</th>\n",
              "      <th>2003</th>\n",
              "      <th>2004</th>\n",
              "      <th>2005</th>\n",
              "      <th>2006</th>\n",
              "      <th>2007</th>\n",
              "      <th>2008</th>\n",
              "      <th>2009</th>\n",
              "      <th>2010</th>\n",
              "      <th>2011</th>\n",
              "      <th>2012</th>\n",
              "      <th>2013</th>\n",
              "      <th>2014</th>\n",
              "      <th>2015</th>\n",
              "      <th>2016</th>\n",
              "      <th>2017</th>\n",
              "    </tr>\n",
              "    <tr>\n",
              "      <th>country</th>\n",
              "      <th></th>\n",
              "      <th></th>\n",
              "      <th></th>\n",
              "      <th></th>\n",
              "      <th></th>\n",
              "      <th></th>\n",
              "      <th></th>\n",
              "      <th></th>\n",
              "      <th></th>\n",
              "      <th></th>\n",
              "      <th></th>\n",
              "      <th></th>\n",
              "      <th></th>\n",
              "      <th></th>\n",
              "      <th></th>\n",
              "      <th></th>\n",
              "      <th></th>\n",
              "      <th></th>\n",
              "      <th></th>\n",
              "      <th></th>\n",
              "      <th></th>\n",
              "      <th></th>\n",
              "      <th></th>\n",
              "      <th></th>\n",
              "      <th></th>\n",
              "      <th></th>\n",
              "      <th></th>\n",
              "      <th></th>\n",
              "      <th></th>\n",
              "      <th></th>\n",
              "      <th></th>\n",
              "      <th></th>\n",
              "      <th></th>\n",
              "      <th></th>\n",
              "      <th></th>\n",
              "      <th></th>\n",
              "      <th></th>\n",
              "      <th></th>\n",
              "      <th></th>\n",
              "      <th></th>\n",
              "      <th></th>\n",
              "      <th></th>\n",
              "      <th></th>\n",
              "      <th></th>\n",
              "      <th></th>\n",
              "      <th></th>\n",
              "    </tr>\n",
              "  </thead>\n",
              "  <tbody>\n",
              "    <tr>\n",
              "      <th>Afghanistan</th>\n",
              "      <td>0.0</td>\n",
              "      <td>0.0</td>\n",
              "      <td>0.0</td>\n",
              "      <td>0.0</td>\n",
              "      <td>0.0</td>\n",
              "      <td>0.0</td>\n",
              "      <td>0.0</td>\n",
              "      <td>0.0</td>\n",
              "      <td>0.0</td>\n",
              "      <td>0.0</td>\n",
              "      <td>0.0</td>\n",
              "      <td>0.0</td>\n",
              "      <td>0.0</td>\n",
              "      <td>0.0</td>\n",
              "      <td>0.0</td>\n",
              "      <td>0.0</td>\n",
              "      <td>0.0</td>\n",
              "      <td>0.0</td>\n",
              "      <td>0.0</td>\n",
              "      <td>0.0</td>\n",
              "      <td>0.0</td>\n",
              "      <td>0.0</td>\n",
              "      <td>0.0</td>\n",
              "      <td>0.0</td>\n",
              "      <td>0.0</td>\n",
              "      <td>0.0</td>\n",
              "      <td>0.0</td>\n",
              "      <td>0.0</td>\n",
              "      <td>0.0</td>\n",
              "      <td>0.0</td>\n",
              "      <td>25,000.0</td>\n",
              "      <td>200,000.0</td>\n",
              "      <td>600,000.0</td>\n",
              "      <td>1,200,000.0</td>\n",
              "      <td>2,520,366.0</td>\n",
              "      <td>4,668,096.0</td>\n",
              "      <td>7,898,909.0</td>\n",
              "      <td>10,500,000.0</td>\n",
              "      <td>10,215,840.0</td>\n",
              "      <td>13,797,879.0</td>\n",
              "      <td>15,340,115.0</td>\n",
              "      <td>16,807,156.0</td>\n",
              "      <td>18,407,168.0</td>\n",
              "      <td>19,709,038.0</td>\n",
              "      <td>21,602,982.0</td>\n",
              "      <td>23,929,713.0</td>\n",
              "    </tr>\n",
              "    <tr>\n",
              "      <th>Albania</th>\n",
              "      <td>0.0</td>\n",
              "      <td>0.0</td>\n",
              "      <td>0.0</td>\n",
              "      <td>0.0</td>\n",
              "      <td>0.0</td>\n",
              "      <td>0.0</td>\n",
              "      <td>0.0</td>\n",
              "      <td>0.0</td>\n",
              "      <td>0.0</td>\n",
              "      <td>0.0</td>\n",
              "      <td>0.0</td>\n",
              "      <td>0.0</td>\n",
              "      <td>0.0</td>\n",
              "      <td>0.0</td>\n",
              "      <td>0.0</td>\n",
              "      <td>0.0</td>\n",
              "      <td>0.0</td>\n",
              "      <td>0.0</td>\n",
              "      <td>0.0</td>\n",
              "      <td>0.0</td>\n",
              "      <td>0.0</td>\n",
              "      <td>0.0</td>\n",
              "      <td>0.0</td>\n",
              "      <td>0.0</td>\n",
              "      <td>2,300.0</td>\n",
              "      <td>3,300.0</td>\n",
              "      <td>5,600.0</td>\n",
              "      <td>11,008.0</td>\n",
              "      <td>29,791.0</td>\n",
              "      <td>392,650.0</td>\n",
              "      <td>851,000.0</td>\n",
              "      <td>1,100,000.0</td>\n",
              "      <td>1,259,590.0</td>\n",
              "      <td>1,530,244.0</td>\n",
              "      <td>1,909,885.0</td>\n",
              "      <td>2,322,436.0</td>\n",
              "      <td>1,859,632.0</td>\n",
              "      <td>2,463,741.0</td>\n",
              "      <td>2,692,372.0</td>\n",
              "      <td>3,100,000.0</td>\n",
              "      <td>3,500,000.0</td>\n",
              "      <td>3,685,983.0</td>\n",
              "      <td>3,359,654.0</td>\n",
              "      <td>3,400,955.0</td>\n",
              "      <td>3,369,756.0</td>\n",
              "      <td>3,497,950.0</td>\n",
              "    </tr>\n",
              "    <tr>\n",
              "      <th>Algeria</th>\n",
              "      <td>0.0</td>\n",
              "      <td>0.0</td>\n",
              "      <td>0.0</td>\n",
              "      <td>0.0</td>\n",
              "      <td>0.0</td>\n",
              "      <td>0.0</td>\n",
              "      <td>0.0</td>\n",
              "      <td>0.0</td>\n",
              "      <td>0.0</td>\n",
              "      <td>0.0</td>\n",
              "      <td>0.0</td>\n",
              "      <td>0.0</td>\n",
              "      <td>0.0</td>\n",
              "      <td>0.0</td>\n",
              "      <td>0.0</td>\n",
              "      <td>0.0</td>\n",
              "      <td>0.0</td>\n",
              "      <td>0.0</td>\n",
              "      <td>470.0</td>\n",
              "      <td>4,781.0</td>\n",
              "      <td>4,781.0</td>\n",
              "      <td>4,781.0</td>\n",
              "      <td>1,348.0</td>\n",
              "      <td>4,691.0</td>\n",
              "      <td>11,700.0</td>\n",
              "      <td>17,400.0</td>\n",
              "      <td>18,000.0</td>\n",
              "      <td>72,000.0</td>\n",
              "      <td>86,000.0</td>\n",
              "      <td>100,000.0</td>\n",
              "      <td>450,244.0</td>\n",
              "      <td>1,446,927.0</td>\n",
              "      <td>4,882,414.0</td>\n",
              "      <td>13,661,355.0</td>\n",
              "      <td>20,997,954.0</td>\n",
              "      <td>27,562,721.0</td>\n",
              "      <td>27,031,472.0</td>\n",
              "      <td>32,729,824.0</td>\n",
              "      <td>32,780,165.0</td>\n",
              "      <td>35,615,926.0</td>\n",
              "      <td>37,527,703.0</td>\n",
              "      <td>39,517,045.0</td>\n",
              "      <td>43,298,174.0</td>\n",
              "      <td>43,227,643.0</td>\n",
              "      <td>47,041,321.0</td>\n",
              "      <td>49,873,389.0</td>\n",
              "    </tr>\n",
              "    <tr>\n",
              "      <th>Andorra</th>\n",
              "      <td>0.0</td>\n",
              "      <td>0.0</td>\n",
              "      <td>0.0</td>\n",
              "      <td>0.0</td>\n",
              "      <td>0.0</td>\n",
              "      <td>0.0</td>\n",
              "      <td>0.0</td>\n",
              "      <td>0.0</td>\n",
              "      <td>0.0</td>\n",
              "      <td>0.0</td>\n",
              "      <td>0.0</td>\n",
              "      <td>0.0</td>\n",
              "      <td>0.0</td>\n",
              "      <td>0.0</td>\n",
              "      <td>0.0</td>\n",
              "      <td>0.0</td>\n",
              "      <td>0.0</td>\n",
              "      <td>0.0</td>\n",
              "      <td>0.0</td>\n",
              "      <td>0.0</td>\n",
              "      <td>770.0</td>\n",
              "      <td>780.0</td>\n",
              "      <td>784.0</td>\n",
              "      <td>2,825.0</td>\n",
              "      <td>5,488.0</td>\n",
              "      <td>8,618.0</td>\n",
              "      <td>14,117.0</td>\n",
              "      <td>20,600.0</td>\n",
              "      <td>23,543.0</td>\n",
              "      <td>29,429.0</td>\n",
              "      <td>32,790.0</td>\n",
              "      <td>51,893.0</td>\n",
              "      <td>58,366.0</td>\n",
              "      <td>64,560.0</td>\n",
              "      <td>69,004.0</td>\n",
              "      <td>63,503.0</td>\n",
              "      <td>64,202.0</td>\n",
              "      <td>64,549.0</td>\n",
              "      <td>65,495.0</td>\n",
              "      <td>65,044.0</td>\n",
              "      <td>63,865.0</td>\n",
              "      <td>63,931.0</td>\n",
              "      <td>66,241.0</td>\n",
              "      <td>71,336.0</td>\n",
              "      <td>76,132.0</td>\n",
              "      <td>80,337.0</td>\n",
              "    </tr>\n",
              "    <tr>\n",
              "      <th>Angola</th>\n",
              "      <td>0.0</td>\n",
              "      <td>0.0</td>\n",
              "      <td>0.0</td>\n",
              "      <td>0.0</td>\n",
              "      <td>0.0</td>\n",
              "      <td>0.0</td>\n",
              "      <td>0.0</td>\n",
              "      <td>0.0</td>\n",
              "      <td>0.0</td>\n",
              "      <td>0.0</td>\n",
              "      <td>0.0</td>\n",
              "      <td>0.0</td>\n",
              "      <td>0.0</td>\n",
              "      <td>0.0</td>\n",
              "      <td>0.0</td>\n",
              "      <td>0.0</td>\n",
              "      <td>0.0</td>\n",
              "      <td>0.0</td>\n",
              "      <td>0.0</td>\n",
              "      <td>0.0</td>\n",
              "      <td>0.0</td>\n",
              "      <td>1,100.0</td>\n",
              "      <td>1,824.0</td>\n",
              "      <td>1,994.0</td>\n",
              "      <td>3,298.0</td>\n",
              "      <td>7,052.0</td>\n",
              "      <td>9,820.0</td>\n",
              "      <td>24,000.0</td>\n",
              "      <td>25,806.0</td>\n",
              "      <td>75,000.0</td>\n",
              "      <td>140,000.0</td>\n",
              "      <td>350,000.0</td>\n",
              "      <td>740,000.0</td>\n",
              "      <td>1,611,118.0</td>\n",
              "      <td>3,054,620.0</td>\n",
              "      <td>4,961,536.0</td>\n",
              "      <td>6,773,356.0</td>\n",
              "      <td>8,109,421.0</td>\n",
              "      <td>9,403,365.0</td>\n",
              "      <td>12,073,218.0</td>\n",
              "      <td>12,785,109.0</td>\n",
              "      <td>13,285,198.0</td>\n",
              "      <td>14,052,558.0</td>\n",
              "      <td>13,884,532.0</td>\n",
              "      <td>13,001,124.0</td>\n",
              "      <td>13,323,952.0</td>\n",
              "    </tr>\n",
              "  </tbody>\n",
              "</table>\n",
              "</div>"
            ],
            "text/plain": [
              "time         1960  1965  1970  1975  1976  1977  1978  1979  1980  1981  1982  1983  1984  1985  1986  1987  1988  1989  1990    1991    1992    1993    1994    1995     1996     1997     1998     1999     2000      2001      2002        2003        2004         2005         2006         2007         2008         2009         2010         2011         2012         2013         2014         2015         2016         2017\n",
              "country                                                                                                                                                                                                                                                                                                                                                                                                                                \n",
              "Afghanistan   0.0   0.0   0.0   0.0   0.0   0.0   0.0   0.0   0.0   0.0   0.0   0.0   0.0   0.0   0.0   0.0   0.0   0.0   0.0     0.0     0.0     0.0     0.0     0.0      0.0      0.0      0.0      0.0      0.0       0.0  25,000.0   200,000.0   600,000.0  1,200,000.0  2,520,366.0  4,668,096.0  7,898,909.0 10,500,000.0 10,215,840.0 13,797,879.0 15,340,115.0 16,807,156.0 18,407,168.0 19,709,038.0 21,602,982.0 23,929,713.0\n",
              "Albania       0.0   0.0   0.0   0.0   0.0   0.0   0.0   0.0   0.0   0.0   0.0   0.0   0.0   0.0   0.0   0.0   0.0   0.0   0.0     0.0     0.0     0.0     0.0     0.0  2,300.0  3,300.0  5,600.0 11,008.0 29,791.0 392,650.0 851,000.0 1,100,000.0 1,259,590.0  1,530,244.0  1,909,885.0  2,322,436.0  1,859,632.0  2,463,741.0  2,692,372.0  3,100,000.0  3,500,000.0  3,685,983.0  3,359,654.0  3,400,955.0  3,369,756.0  3,497,950.0\n",
              "Algeria       0.0   0.0   0.0   0.0   0.0   0.0   0.0   0.0   0.0   0.0   0.0   0.0   0.0   0.0   0.0   0.0   0.0   0.0 470.0 4,781.0 4,781.0 4,781.0 1,348.0 4,691.0 11,700.0 17,400.0 18,000.0 72,000.0 86,000.0 100,000.0 450,244.0 1,446,927.0 4,882,414.0 13,661,355.0 20,997,954.0 27,562,721.0 27,031,472.0 32,729,824.0 32,780,165.0 35,615,926.0 37,527,703.0 39,517,045.0 43,298,174.0 43,227,643.0 47,041,321.0 49,873,389.0\n",
              "Andorra       0.0   0.0   0.0   0.0   0.0   0.0   0.0   0.0   0.0   0.0   0.0   0.0   0.0   0.0   0.0   0.0   0.0   0.0   0.0     0.0   770.0   780.0   784.0 2,825.0  5,488.0  8,618.0 14,117.0 20,600.0 23,543.0  29,429.0  32,790.0    51,893.0    58,366.0     64,560.0     69,004.0     63,503.0     64,202.0     64,549.0     65,495.0     65,044.0     63,865.0     63,931.0     66,241.0     71,336.0     76,132.0     80,337.0\n",
              "Angola        0.0   0.0   0.0   0.0   0.0   0.0   0.0   0.0   0.0   0.0   0.0   0.0   0.0   0.0   0.0   0.0   0.0   0.0   0.0     0.0     0.0 1,100.0 1,824.0 1,994.0  3,298.0  7,052.0  9,820.0 24,000.0 25,806.0  75,000.0 140,000.0   350,000.0   740,000.0  1,611,118.0  3,054,620.0  4,961,536.0  6,773,356.0  8,109,421.0  9,403,365.0 12,073,218.0 12,785,109.0 13,285,198.0 14,052,558.0 13,884,532.0 13,001,124.0 13,323,952.0"
            ]
          },
          "metadata": {
            "tags": []
          },
          "execution_count": 95
        }
      ]
    },
    {
      "metadata": {
        "id": "CNKTu2DCnAo6",
        "colab_type": "text"
      },
      "cell_type": "markdown",
      "source": [
        "#### OPTIONAL BONUS QUESTION!\n",
        "\n",
        "Sort these 5 countries, by biggest increase in cell phones from 2007 to 2017.\n",
        "\n",
        "Which country had 935,282,277 more cell phones in 2017 versus 2007?"
      ]
    },
    {
      "metadata": {
        "id": "O4Aecv1fmQlj",
        "colab_type": "code",
        "colab": {}
      },
      "cell_type": "code",
      "source": [
        "descripts_df = (final2.groupby('product_name')\n",
        "                  .order_hour_of_day.agg(['mean', 'count']))\n"
      ],
      "execution_count": 0,
      "outputs": []
    },
    {
      "metadata": {
        "id": "7iHkMsa3Rorh",
        "colab_type": "text"
      },
      "cell_type": "markdown",
      "source": [
        "If you have the time and curiosity, what other questions can you ask and answer with this data?"
      ]
    }
  ]
}