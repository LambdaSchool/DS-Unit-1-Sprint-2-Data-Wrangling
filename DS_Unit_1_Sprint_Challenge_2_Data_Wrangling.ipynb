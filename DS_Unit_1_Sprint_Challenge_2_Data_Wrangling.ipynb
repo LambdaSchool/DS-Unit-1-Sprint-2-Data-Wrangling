{
  "nbformat": 4,
  "nbformat_minor": 0,
  "metadata": {
    "colab": {
      "name": "DS_Unit_1_Sprint_Challenge_2_Data_Wrangling.ipynb",
      "version": "0.3.2",
      "provenance": [],
      "collapsed_sections": [],
      "include_colab_link": true
    },
    "kernelspec": {
      "name": "python3",
      "display_name": "Python 3"
    }
  },
  "cells": [
    {
      "cell_type": "markdown",
      "metadata": {
        "id": "view-in-github",
        "colab_type": "text"
      },
      "source": [
        "<a href=\"https://colab.research.google.com/github/Alex-Witt/DS-Unit-1-Sprint-2-Data-Wrangling/blob/master/DS_Unit_1_Sprint_Challenge_2_Data_Wrangling.ipynb\" target=\"_parent\"><img src=\"https://colab.research.google.com/assets/colab-badge.svg\" alt=\"Open In Colab\"/></a>"
      ]
    },
    {
      "metadata": {
        "id": "4yMHi_PX9hEz",
        "colab_type": "text"
      },
      "cell_type": "markdown",
      "source": [
        "# Data Science Unit 1 Sprint Challenge 2\n",
        "\n",
        "## Data Wrangling\n",
        "\n",
        "In this Sprint Challenge you will use data from [Gapminder](https://www.gapminder.org/about-gapminder/), a Swedish non-profit co-founded by Hans Rosling. \"Gapminder produces free teaching resources making the world understandable based on reliable statistics.\"\n",
        "- [Cell phones (total), by country and year](https://raw.githubusercontent.com/open-numbers/ddf--gapminder--systema_globalis/master/ddf--datapoints--cell_phones_total--by--geo--time.csv)\n",
        "- [Population (total), by country and year](https://raw.githubusercontent.com/open-numbers/ddf--gapminder--systema_globalis/master/ddf--datapoints--population_total--by--geo--time.csv)\n",
        "- [Geo country codes](https://github.com/open-numbers/ddf--gapminder--systema_globalis/blob/master/ddf--entities--geo--country.csv)\n",
        "\n",
        "These two links have everything you need to successfully complete the Sprint Challenge!\n",
        "- [Pandas documentation: Working with Text Data](https://pandas.pydata.org/pandas-docs/stable/text.html]) (one question)\n",
        "- [Pandas Cheat Sheet](https://github.com/pandas-dev/pandas/blob/master/doc/cheatsheet/Pandas_Cheat_Sheet.pdf) (everything else)"
      ]
    },
    {
      "metadata": {
        "id": "wWEU2GemX68A",
        "colab_type": "text"
      },
      "cell_type": "markdown",
      "source": [
        "## Part 0. Load data\n",
        "\n",
        "You don't need to add or change anything here. Just run this cell and it loads the data for you, into three dataframes."
      ]
    },
    {
      "metadata": {
        "id": "bxKtSi5sRQOl",
        "colab_type": "code",
        "colab": {}
      },
      "cell_type": "code",
      "source": [
        "import pandas as pd\n",
        "\n",
        "cell_phones = pd.read_csv('https://raw.githubusercontent.com/open-numbers/ddf--gapminder--systema_globalis/master/ddf--datapoints--cell_phones_total--by--geo--time.csv')\n",
        "\n",
        "population = pd.read_csv('https://raw.githubusercontent.com/open-numbers/ddf--gapminder--systema_globalis/master/ddf--datapoints--population_total--by--geo--time.csv')\n",
        "\n",
        "geo_country_codes = (pd.read_csv('https://raw.githubusercontent.com/open-numbers/ddf--gapminder--systema_globalis/master/ddf--entities--geo--country.csv')\n",
        "                       .rename(columns={'country': 'geo', 'name': 'country'}))"
      ],
      "execution_count": 0,
      "outputs": []
    },
    {
      "metadata": {
        "id": "AZmVTeCsX9RC",
        "colab_type": "text"
      },
      "cell_type": "markdown",
      "source": [
        "## Part 1. Join data"
      ]
    },
    {
      "metadata": {
        "id": "GLzX58u4SfEy",
        "colab_type": "text"
      },
      "cell_type": "markdown",
      "source": [
        "First, join the `cell_phones` and `population` dataframes (with an inner join on `geo` and `time`).\n",
        "\n",
        "The resulting dataframe's shape should be: (8590, 4)"
      ]
    },
    {
      "metadata": {
        "id": "WKMnm2lD_IPx",
        "colab_type": "code",
        "colab": {}
      },
      "cell_type": "code",
      "source": [
        "merge_1 = pd.merge(population,cell_phones, \n",
        "                   how = 'inner')"
      ],
      "execution_count": 0,
      "outputs": []
    },
    {
      "metadata": {
        "id": "xsXpDbwwW241",
        "colab_type": "text"
      },
      "cell_type": "markdown",
      "source": [
        "Then, select the `geo` and `country` columns from the `geo_country_codes` dataframe, and join with your population and cell phone data.\n",
        "\n",
        "The resulting dataframe's shape should be: (8590, 5)"
      ]
    },
    {
      "metadata": {
        "id": "Q2LaZta_W2CE",
        "colab_type": "code",
        "colab": {
          "base_uri": "https://localhost:8080/",
          "height": 34
        },
        "outputId": "d4ed1441-fb05-4e38-a844-cc94c041a695"
      },
      "cell_type": "code",
      "source": [
        "df = pd.merge(geo_country_codes[['geo', 'country']],\n",
        "              merge_1, how = 'inner')\n",
        "\n",
        "df.shape"
      ],
      "execution_count": 3,
      "outputs": [
        {
          "output_type": "execute_result",
          "data": {
            "text/plain": [
              "(8590, 5)"
            ]
          },
          "metadata": {
            "tags": []
          },
          "execution_count": 3
        }
      ]
    },
    {
      "metadata": {
        "id": "oK96Uj7vYjFX",
        "colab_type": "text"
      },
      "cell_type": "markdown",
      "source": [
        "## Part 2. Make features"
      ]
    },
    {
      "metadata": {
        "id": "AD2fBNrOYzCG",
        "colab_type": "text"
      },
      "cell_type": "markdown",
      "source": [
        "Calculate the number of cell phones per person, and add this column onto your dataframe.\n",
        "\n",
        "(You've calculated correctly if you get 1.220 cell phones per person in the United States in 2017.)"
      ]
    },
    {
      "metadata": {
        "id": "oounXly-A6s3",
        "colab_type": "code",
        "colab": {}
      },
      "cell_type": "code",
      "source": [
        "df['phone_per_person'] = (df['cell_phones_total'] / \n",
        "                          df['population_total'])"
      ],
      "execution_count": 0,
      "outputs": []
    },
    {
      "metadata": {
        "id": "SOUsHYG1VMYi",
        "colab_type": "code",
        "colab": {
          "base_uri": "https://localhost:8080/",
          "height": 80
        },
        "outputId": "041a2dde-231f-4b6d-a580-4a064efaadcb"
      },
      "cell_type": "code",
      "source": [
        "(df.loc[(df['country'] == 'United States' ) & \n",
        "        (df['time'] == 2017)])"
      ],
      "execution_count": 5,
      "outputs": [
        {
          "output_type": "execute_result",
          "data": {
            "text/html": [
              "<div>\n",
              "<style scoped>\n",
              "    .dataframe tbody tr th:only-of-type {\n",
              "        vertical-align: middle;\n",
              "    }\n",
              "\n",
              "    .dataframe tbody tr th {\n",
              "        vertical-align: top;\n",
              "    }\n",
              "\n",
              "    .dataframe thead th {\n",
              "        text-align: right;\n",
              "    }\n",
              "</style>\n",
              "<table border=\"1\" class=\"dataframe\">\n",
              "  <thead>\n",
              "    <tr style=\"text-align: right;\">\n",
              "      <th></th>\n",
              "      <th>geo</th>\n",
              "      <th>country</th>\n",
              "      <th>time</th>\n",
              "      <th>population_total</th>\n",
              "      <th>cell_phones_total</th>\n",
              "      <th>phone_per_person</th>\n",
              "    </tr>\n",
              "  </thead>\n",
              "  <tbody>\n",
              "    <tr>\n",
              "      <th>8134</th>\n",
              "      <td>usa</td>\n",
              "      <td>United States</td>\n",
              "      <td>2017</td>\n",
              "      <td>324459463</td>\n",
              "      <td>395881000.0</td>\n",
              "      <td>1.220125</td>\n",
              "    </tr>\n",
              "  </tbody>\n",
              "</table>\n",
              "</div>"
            ],
            "text/plain": [
              "      geo        country  time  population_total  cell_phones_total  \\\n",
              "8134  usa  United States  2017         324459463        395881000.0   \n",
              "\n",
              "      phone_per_person  \n",
              "8134          1.220125  "
            ]
          },
          "metadata": {
            "tags": []
          },
          "execution_count": 5
        }
      ]
    },
    {
      "metadata": {
        "id": "S3QFdsnRZMH6",
        "colab_type": "text"
      },
      "cell_type": "markdown",
      "source": [
        "Modify the `geo` column to make the geo codes uppercase instead of lowercase."
      ]
    },
    {
      "metadata": {
        "id": "93ADij8_YkOq",
        "colab_type": "code",
        "colab": {
          "base_uri": "https://localhost:8080/",
          "height": 238
        },
        "outputId": "cc24a20d-990c-48eb-e130-76439cf98c64"
      },
      "cell_type": "code",
      "source": [
        "df['geo'] = df['geo'].str.upper()\n",
        "\n",
        "print(df.shape)\n",
        "print()\n",
        "df.head()"
      ],
      "execution_count": 6,
      "outputs": [
        {
          "output_type": "stream",
          "text": [
            "(8590, 6)\n",
            "\n"
          ],
          "name": "stdout"
        },
        {
          "output_type": "execute_result",
          "data": {
            "text/html": [
              "<div>\n",
              "<style scoped>\n",
              "    .dataframe tbody tr th:only-of-type {\n",
              "        vertical-align: middle;\n",
              "    }\n",
              "\n",
              "    .dataframe tbody tr th {\n",
              "        vertical-align: top;\n",
              "    }\n",
              "\n",
              "    .dataframe thead th {\n",
              "        text-align: right;\n",
              "    }\n",
              "</style>\n",
              "<table border=\"1\" class=\"dataframe\">\n",
              "  <thead>\n",
              "    <tr style=\"text-align: right;\">\n",
              "      <th></th>\n",
              "      <th>geo</th>\n",
              "      <th>country</th>\n",
              "      <th>time</th>\n",
              "      <th>population_total</th>\n",
              "      <th>cell_phones_total</th>\n",
              "      <th>phone_per_person</th>\n",
              "    </tr>\n",
              "  </thead>\n",
              "  <tbody>\n",
              "    <tr>\n",
              "      <th>0</th>\n",
              "      <td>AFG</td>\n",
              "      <td>Afghanistan</td>\n",
              "      <td>1960</td>\n",
              "      <td>8996351</td>\n",
              "      <td>0.0</td>\n",
              "      <td>0.0</td>\n",
              "    </tr>\n",
              "    <tr>\n",
              "      <th>1</th>\n",
              "      <td>AFG</td>\n",
              "      <td>Afghanistan</td>\n",
              "      <td>1965</td>\n",
              "      <td>9938414</td>\n",
              "      <td>0.0</td>\n",
              "      <td>0.0</td>\n",
              "    </tr>\n",
              "    <tr>\n",
              "      <th>2</th>\n",
              "      <td>AFG</td>\n",
              "      <td>Afghanistan</td>\n",
              "      <td>1970</td>\n",
              "      <td>11126123</td>\n",
              "      <td>0.0</td>\n",
              "      <td>0.0</td>\n",
              "    </tr>\n",
              "    <tr>\n",
              "      <th>3</th>\n",
              "      <td>AFG</td>\n",
              "      <td>Afghanistan</td>\n",
              "      <td>1975</td>\n",
              "      <td>12590286</td>\n",
              "      <td>0.0</td>\n",
              "      <td>0.0</td>\n",
              "    </tr>\n",
              "    <tr>\n",
              "      <th>4</th>\n",
              "      <td>AFG</td>\n",
              "      <td>Afghanistan</td>\n",
              "      <td>1976</td>\n",
              "      <td>12840299</td>\n",
              "      <td>0.0</td>\n",
              "      <td>0.0</td>\n",
              "    </tr>\n",
              "  </tbody>\n",
              "</table>\n",
              "</div>"
            ],
            "text/plain": [
              "   geo      country  time  population_total  cell_phones_total  \\\n",
              "0  AFG  Afghanistan  1960           8996351                0.0   \n",
              "1  AFG  Afghanistan  1965           9938414                0.0   \n",
              "2  AFG  Afghanistan  1970          11126123                0.0   \n",
              "3  AFG  Afghanistan  1975          12590286                0.0   \n",
              "4  AFG  Afghanistan  1976          12840299                0.0   \n",
              "\n",
              "   phone_per_person  \n",
              "0               0.0  \n",
              "1               0.0  \n",
              "2               0.0  \n",
              "3               0.0  \n",
              "4               0.0  "
            ]
          },
          "metadata": {
            "tags": []
          },
          "execution_count": 6
        }
      ]
    },
    {
      "metadata": {
        "id": "hlPDAFCfaF6C",
        "colab_type": "text"
      },
      "cell_type": "markdown",
      "source": [
        "## Part 3. Process data"
      ]
    },
    {
      "metadata": {
        "id": "k-pudNWve2SQ",
        "colab_type": "text"
      },
      "cell_type": "markdown",
      "source": [
        "Use the describe function, to describe your dataframe's numeric columns, and then its non-numeric columns.\n",
        "\n",
        "(You'll see the time period ranges from 1960 to 2017, and there are 195 unique countries represented.)"
      ]
    },
    {
      "metadata": {
        "id": "g26yemKre2Cu",
        "colab_type": "code",
        "colab": {
          "base_uri": "https://localhost:8080/",
          "height": 297
        },
        "outputId": "8014904f-78e2-4e8d-9ed1-1304ebcf1e23"
      },
      "cell_type": "code",
      "source": [
        "df.describe(exclude = 'object')"
      ],
      "execution_count": 7,
      "outputs": [
        {
          "output_type": "execute_result",
          "data": {
            "text/html": [
              "<div>\n",
              "<style scoped>\n",
              "    .dataframe tbody tr th:only-of-type {\n",
              "        vertical-align: middle;\n",
              "    }\n",
              "\n",
              "    .dataframe tbody tr th {\n",
              "        vertical-align: top;\n",
              "    }\n",
              "\n",
              "    .dataframe thead th {\n",
              "        text-align: right;\n",
              "    }\n",
              "</style>\n",
              "<table border=\"1\" class=\"dataframe\">\n",
              "  <thead>\n",
              "    <tr style=\"text-align: right;\">\n",
              "      <th></th>\n",
              "      <th>time</th>\n",
              "      <th>population_total</th>\n",
              "      <th>cell_phones_total</th>\n",
              "      <th>phone_per_person</th>\n",
              "    </tr>\n",
              "  </thead>\n",
              "  <tbody>\n",
              "    <tr>\n",
              "      <th>count</th>\n",
              "      <td>8590.000000</td>\n",
              "      <td>8.590000e+03</td>\n",
              "      <td>8.590000e+03</td>\n",
              "      <td>8590.000000</td>\n",
              "    </tr>\n",
              "    <tr>\n",
              "      <th>mean</th>\n",
              "      <td>1994.193481</td>\n",
              "      <td>2.983823e+07</td>\n",
              "      <td>9.004950e+06</td>\n",
              "      <td>0.279639</td>\n",
              "    </tr>\n",
              "    <tr>\n",
              "      <th>std</th>\n",
              "      <td>14.257975</td>\n",
              "      <td>1.161284e+08</td>\n",
              "      <td>5.573408e+07</td>\n",
              "      <td>0.454247</td>\n",
              "    </tr>\n",
              "    <tr>\n",
              "      <th>min</th>\n",
              "      <td>1960.000000</td>\n",
              "      <td>4.433000e+03</td>\n",
              "      <td>0.000000e+00</td>\n",
              "      <td>0.000000</td>\n",
              "    </tr>\n",
              "    <tr>\n",
              "      <th>25%</th>\n",
              "      <td>1983.000000</td>\n",
              "      <td>1.456148e+06</td>\n",
              "      <td>0.000000e+00</td>\n",
              "      <td>0.000000</td>\n",
              "    </tr>\n",
              "    <tr>\n",
              "      <th>50%</th>\n",
              "      <td>1995.000000</td>\n",
              "      <td>5.725062e+06</td>\n",
              "      <td>6.200000e+03</td>\n",
              "      <td>0.001564</td>\n",
              "    </tr>\n",
              "    <tr>\n",
              "      <th>75%</th>\n",
              "      <td>2006.000000</td>\n",
              "      <td>1.810581e+07</td>\n",
              "      <td>1.697652e+06</td>\n",
              "      <td>0.461149</td>\n",
              "    </tr>\n",
              "    <tr>\n",
              "      <th>max</th>\n",
              "      <td>2017.000000</td>\n",
              "      <td>1.409517e+09</td>\n",
              "      <td>1.474097e+09</td>\n",
              "      <td>2.490243</td>\n",
              "    </tr>\n",
              "  </tbody>\n",
              "</table>\n",
              "</div>"
            ],
            "text/plain": [
              "              time  population_total  cell_phones_total  phone_per_person\n",
              "count  8590.000000      8.590000e+03       8.590000e+03       8590.000000\n",
              "mean   1994.193481      2.983823e+07       9.004950e+06          0.279639\n",
              "std      14.257975      1.161284e+08       5.573408e+07          0.454247\n",
              "min    1960.000000      4.433000e+03       0.000000e+00          0.000000\n",
              "25%    1983.000000      1.456148e+06       0.000000e+00          0.000000\n",
              "50%    1995.000000      5.725062e+06       6.200000e+03          0.001564\n",
              "75%    2006.000000      1.810581e+07       1.697652e+06          0.461149\n",
              "max    2017.000000      1.409517e+09       1.474097e+09          2.490243"
            ]
          },
          "metadata": {
            "tags": []
          },
          "execution_count": 7
        }
      ]
    },
    {
      "metadata": {
        "id": "H5R0gyo8EAzV",
        "colab_type": "code",
        "colab": {
          "base_uri": "https://localhost:8080/",
          "height": 173
        },
        "outputId": "5dccf56e-a0da-4e79-f07b-e1f1126f52d0"
      },
      "cell_type": "code",
      "source": [
        "df.describe(exclude = 'number')"
      ],
      "execution_count": 8,
      "outputs": [
        {
          "output_type": "execute_result",
          "data": {
            "text/html": [
              "<div>\n",
              "<style scoped>\n",
              "    .dataframe tbody tr th:only-of-type {\n",
              "        vertical-align: middle;\n",
              "    }\n",
              "\n",
              "    .dataframe tbody tr th {\n",
              "        vertical-align: top;\n",
              "    }\n",
              "\n",
              "    .dataframe thead th {\n",
              "        text-align: right;\n",
              "    }\n",
              "</style>\n",
              "<table border=\"1\" class=\"dataframe\">\n",
              "  <thead>\n",
              "    <tr style=\"text-align: right;\">\n",
              "      <th></th>\n",
              "      <th>geo</th>\n",
              "      <th>country</th>\n",
              "    </tr>\n",
              "  </thead>\n",
              "  <tbody>\n",
              "    <tr>\n",
              "      <th>count</th>\n",
              "      <td>8590</td>\n",
              "      <td>8590</td>\n",
              "    </tr>\n",
              "    <tr>\n",
              "      <th>unique</th>\n",
              "      <td>195</td>\n",
              "      <td>195</td>\n",
              "    </tr>\n",
              "    <tr>\n",
              "      <th>top</th>\n",
              "      <td>FIN</td>\n",
              "      <td>Costa Rica</td>\n",
              "    </tr>\n",
              "    <tr>\n",
              "      <th>freq</th>\n",
              "      <td>46</td>\n",
              "      <td>46</td>\n",
              "    </tr>\n",
              "  </tbody>\n",
              "</table>\n",
              "</div>"
            ],
            "text/plain": [
              "         geo     country\n",
              "count   8590        8590\n",
              "unique   195         195\n",
              "top      FIN  Costa Rica\n",
              "freq      46          46"
            ]
          },
          "metadata": {
            "tags": []
          },
          "execution_count": 8
        }
      ]
    },
    {
      "metadata": {
        "id": "zALg-RrYaLcI",
        "colab_type": "text"
      },
      "cell_type": "markdown",
      "source": [
        "In 2017, what were the top 5 countries with the most cell phones total?\n",
        "\n",
        "Your list of countries should have these totals:\n",
        "\n",
        "| country | cell phones total |\n",
        "|:-------:|:-----------------:|\n",
        "|    ?    |     1,474,097,000 |\n",
        "|    ?    |     1,168,902,277 |\n",
        "|    ?    |       458,923,202 |\n",
        "|    ?    |       395,881,000 |\n",
        "|    ?    |       236,488,548 |\n",
        "\n"
      ]
    },
    {
      "metadata": {
        "id": "JdlWvezHaZxD",
        "colab_type": "code",
        "colab": {}
      },
      "cell_type": "code",
      "source": [
        "# This optional code formats float numbers with comma separators\n",
        "pd.options.display.float_format = '{:,}'.format"
      ],
      "execution_count": 0,
      "outputs": []
    },
    {
      "metadata": {
        "id": "k5h6Q5YME9Ei",
        "colab_type": "code",
        "colab": {
          "base_uri": "https://localhost:8080/",
          "height": 204
        },
        "outputId": "79959033-f7fd-4a21-a449-5a5003a84fcf"
      },
      "cell_type": "code",
      "source": [
        "time17df = df.loc[df['time']==2017].reset_index()\n",
        "time17df.head()"
      ],
      "execution_count": 10,
      "outputs": [
        {
          "output_type": "execute_result",
          "data": {
            "text/html": [
              "<div>\n",
              "<style scoped>\n",
              "    .dataframe tbody tr th:only-of-type {\n",
              "        vertical-align: middle;\n",
              "    }\n",
              "\n",
              "    .dataframe tbody tr th {\n",
              "        vertical-align: top;\n",
              "    }\n",
              "\n",
              "    .dataframe thead th {\n",
              "        text-align: right;\n",
              "    }\n",
              "</style>\n",
              "<table border=\"1\" class=\"dataframe\">\n",
              "  <thead>\n",
              "    <tr style=\"text-align: right;\">\n",
              "      <th></th>\n",
              "      <th>index</th>\n",
              "      <th>geo</th>\n",
              "      <th>country</th>\n",
              "      <th>time</th>\n",
              "      <th>population_total</th>\n",
              "      <th>cell_phones_total</th>\n",
              "      <th>phone_per_person</th>\n",
              "    </tr>\n",
              "  </thead>\n",
              "  <tbody>\n",
              "    <tr>\n",
              "      <th>0</th>\n",
              "      <td>45</td>\n",
              "      <td>AFG</td>\n",
              "      <td>Afghanistan</td>\n",
              "      <td>2017</td>\n",
              "      <td>35530081</td>\n",
              "      <td>23,929,713.0</td>\n",
              "      <td>0.6735057260353557</td>\n",
              "    </tr>\n",
              "    <tr>\n",
              "      <th>1</th>\n",
              "      <td>91</td>\n",
              "      <td>AGO</td>\n",
              "      <td>Angola</td>\n",
              "      <td>2017</td>\n",
              "      <td>29784193</td>\n",
              "      <td>13,323,952.0</td>\n",
              "      <td>0.4473497737541521</td>\n",
              "    </tr>\n",
              "    <tr>\n",
              "      <th>2</th>\n",
              "      <td>137</td>\n",
              "      <td>ALB</td>\n",
              "      <td>Albania</td>\n",
              "      <td>2017</td>\n",
              "      <td>2930187</td>\n",
              "      <td>3,497,950.0</td>\n",
              "      <td>1.19376340144844</td>\n",
              "    </tr>\n",
              "    <tr>\n",
              "      <th>3</th>\n",
              "      <td>183</td>\n",
              "      <td>AND</td>\n",
              "      <td>Andorra</td>\n",
              "      <td>2017</td>\n",
              "      <td>76965</td>\n",
              "      <td>80,337.0</td>\n",
              "      <td>1.0438121223932957</td>\n",
              "    </tr>\n",
              "    <tr>\n",
              "      <th>4</th>\n",
              "      <td>219</td>\n",
              "      <td>ARE</td>\n",
              "      <td>United Arab Emirates</td>\n",
              "      <td>2017</td>\n",
              "      <td>9400145</td>\n",
              "      <td>19,826,224.0</td>\n",
              "      <td>2.109140231347495</td>\n",
              "    </tr>\n",
              "  </tbody>\n",
              "</table>\n",
              "</div>"
            ],
            "text/plain": [
              "   index  geo               country  time  population_total  \\\n",
              "0     45  AFG           Afghanistan  2017          35530081   \n",
              "1     91  AGO                Angola  2017          29784193   \n",
              "2    137  ALB               Albania  2017           2930187   \n",
              "3    183  AND               Andorra  2017             76965   \n",
              "4    219  ARE  United Arab Emirates  2017           9400145   \n",
              "\n",
              "   cell_phones_total   phone_per_person  \n",
              "0       23,929,713.0 0.6735057260353557  \n",
              "1       13,323,952.0 0.4473497737541521  \n",
              "2        3,497,950.0   1.19376340144844  \n",
              "3           80,337.0 1.0438121223932957  \n",
              "4       19,826,224.0  2.109140231347495  "
            ]
          },
          "metadata": {
            "tags": []
          },
          "execution_count": 10
        }
      ]
    },
    {
      "metadata": {
        "id": "smX8vzu4cyju",
        "colab_type": "code",
        "colab": {}
      },
      "cell_type": "code",
      "source": [
        "five = (time17df['cell_phones_total'].\n",
        "        sort_values(ascending = False,).head())\n",
        "five = pd.DataFrame(five)"
      ],
      "execution_count": 0,
      "outputs": []
    },
    {
      "metadata": {
        "id": "qe3YQHyxG5WP",
        "colab_type": "code",
        "colab": {}
      },
      "cell_type": "code",
      "source": [
        "five = (pd.merge(time17df[['country', 'cell_phones_total']],five)\n",
        "        .sort_values(by = ['cell_phones_total'], ascending = False)\n",
        "        .set_index('country'))"
      ],
      "execution_count": 0,
      "outputs": []
    },
    {
      "metadata": {
        "id": "Iq0Eh3zMKmzA",
        "colab_type": "code",
        "colab": {
          "base_uri": "https://localhost:8080/",
          "height": 235
        },
        "outputId": "f278a879-6e20-4442-ee4f-f2de2276a868"
      },
      "cell_type": "code",
      "source": [
        "five"
      ],
      "execution_count": 13,
      "outputs": [
        {
          "output_type": "execute_result",
          "data": {
            "text/html": [
              "<div>\n",
              "<style scoped>\n",
              "    .dataframe tbody tr th:only-of-type {\n",
              "        vertical-align: middle;\n",
              "    }\n",
              "\n",
              "    .dataframe tbody tr th {\n",
              "        vertical-align: top;\n",
              "    }\n",
              "\n",
              "    .dataframe thead th {\n",
              "        text-align: right;\n",
              "    }\n",
              "</style>\n",
              "<table border=\"1\" class=\"dataframe\">\n",
              "  <thead>\n",
              "    <tr style=\"text-align: right;\">\n",
              "      <th></th>\n",
              "      <th>cell_phones_total</th>\n",
              "    </tr>\n",
              "    <tr>\n",
              "      <th>country</th>\n",
              "      <th></th>\n",
              "    </tr>\n",
              "  </thead>\n",
              "  <tbody>\n",
              "    <tr>\n",
              "      <th>China</th>\n",
              "      <td>1,474,097,000.0</td>\n",
              "    </tr>\n",
              "    <tr>\n",
              "      <th>India</th>\n",
              "      <td>1,168,902,277.0</td>\n",
              "    </tr>\n",
              "    <tr>\n",
              "      <th>Indonesia</th>\n",
              "      <td>458,923,202.0</td>\n",
              "    </tr>\n",
              "    <tr>\n",
              "      <th>United States</th>\n",
              "      <td>395,881,000.0</td>\n",
              "    </tr>\n",
              "    <tr>\n",
              "      <th>Brazil</th>\n",
              "      <td>236,488,548.0</td>\n",
              "    </tr>\n",
              "  </tbody>\n",
              "</table>\n",
              "</div>"
            ],
            "text/plain": [
              "               cell_phones_total\n",
              "country                         \n",
              "China            1,474,097,000.0\n",
              "India            1,168,902,277.0\n",
              "Indonesia          458,923,202.0\n",
              "United States      395,881,000.0\n",
              "Brazil             236,488,548.0"
            ]
          },
          "metadata": {
            "tags": []
          },
          "execution_count": 13
        }
      ]
    },
    {
      "metadata": {
        "id": "03V3Wln_h0dj",
        "colab_type": "text"
      },
      "cell_type": "markdown",
      "source": [
        "2017 was the first year that China had more cell phones than people.\n",
        "\n",
        "What was the first year that the USA had more cell phones than people?"
      ]
    },
    {
      "metadata": {
        "id": "KONQkQZ3haNC",
        "colab_type": "code",
        "colab": {
          "base_uri": "https://localhost:8080/",
          "height": 80
        },
        "outputId": "aec5baa7-9b91-4780-8633-060f757052a9"
      },
      "cell_type": "code",
      "source": [
        "(df.loc[(df['country'] == 'United States') & \n",
        "        (df['cell_phones_total'] > df['population_total'])]\n",
        "        .head(1))"
      ],
      "execution_count": 14,
      "outputs": [
        {
          "output_type": "execute_result",
          "data": {
            "text/html": [
              "<div>\n",
              "<style scoped>\n",
              "    .dataframe tbody tr th:only-of-type {\n",
              "        vertical-align: middle;\n",
              "    }\n",
              "\n",
              "    .dataframe tbody tr th {\n",
              "        vertical-align: top;\n",
              "    }\n",
              "\n",
              "    .dataframe thead th {\n",
              "        text-align: right;\n",
              "    }\n",
              "</style>\n",
              "<table border=\"1\" class=\"dataframe\">\n",
              "  <thead>\n",
              "    <tr style=\"text-align: right;\">\n",
              "      <th></th>\n",
              "      <th>geo</th>\n",
              "      <th>country</th>\n",
              "      <th>time</th>\n",
              "      <th>population_total</th>\n",
              "      <th>cell_phones_total</th>\n",
              "      <th>phone_per_person</th>\n",
              "    </tr>\n",
              "  </thead>\n",
              "  <tbody>\n",
              "    <tr>\n",
              "      <th>8131</th>\n",
              "      <td>USA</td>\n",
              "      <td>United States</td>\n",
              "      <td>2014</td>\n",
              "      <td>317718779</td>\n",
              "      <td>355,500,000.0</td>\n",
              "      <td>1.118914031833164</td>\n",
              "    </tr>\n",
              "  </tbody>\n",
              "</table>\n",
              "</div>"
            ],
            "text/plain": [
              "      geo        country  time  population_total  cell_phones_total  \\\n",
              "8131  USA  United States  2014         317718779      355,500,000.0   \n",
              "\n",
              "      phone_per_person  \n",
              "8131 1.118914031833164  "
            ]
          },
          "metadata": {
            "tags": []
          },
          "execution_count": 14
        }
      ]
    },
    {
      "metadata": {
        "id": "6J7iwMnTg8KZ",
        "colab_type": "text"
      },
      "cell_type": "markdown",
      "source": [
        "## Part 4. Reshape data"
      ]
    },
    {
      "metadata": {
        "id": "LP9InazRkUxG",
        "colab_type": "text"
      },
      "cell_type": "markdown",
      "source": [
        "Create a pivot table:\n",
        "- Columns: Years 2007—2017\n",
        "- Rows: China, India, United States, Indonesia, Brazil (order doesn't matter)\n",
        "- Values: Cell Phones Total\n",
        "\n",
        "The table's shape should be: (5, 11)"
      ]
    },
    {
      "metadata": {
        "id": "JD7mXXjLj4Ue",
        "colab_type": "code",
        "colab": {}
      },
      "cell_type": "code",
      "source": [
        "countries = ['China', 'India', 'United States', 'Indonesia', 'Brazil']\n",
        "\n",
        "pre_pivot = (df.loc[(df['time'] >= 2007) &          # specifying years\n",
        "                    (df['country'].isin(countries))]   # specifying countries\n",
        "             .drop(['geo','population_total'], axis = 1)) # column cleanup"
      ],
      "execution_count": 0,
      "outputs": []
    },
    {
      "metadata": {
        "id": "-m2rss7zSIss",
        "colab_type": "code",
        "colab": {
          "base_uri": "https://localhost:8080/",
          "height": 269
        },
        "outputId": "1f496a29-72bb-4652-9ee1-6cbfd0b41884"
      },
      "cell_type": "code",
      "source": [
        "pivot = (pd.pivot_table(pre_pivot, \n",
        "                        columns = 'time',\n",
        "                        index = 'country', \n",
        "                        values = 'cell_phones_total'))\n",
        "\n",
        "print(pivot.shape)\n",
        "print()\n",
        "pivot"
      ],
      "execution_count": 16,
      "outputs": [
        {
          "output_type": "stream",
          "text": [
            "(5, 11)\n",
            "\n"
          ],
          "name": "stdout"
        },
        {
          "output_type": "execute_result",
          "data": {
            "text/html": [
              "<div>\n",
              "<style scoped>\n",
              "    .dataframe tbody tr th:only-of-type {\n",
              "        vertical-align: middle;\n",
              "    }\n",
              "\n",
              "    .dataframe tbody tr th {\n",
              "        vertical-align: top;\n",
              "    }\n",
              "\n",
              "    .dataframe thead th {\n",
              "        text-align: right;\n",
              "    }\n",
              "</style>\n",
              "<table border=\"1\" class=\"dataframe\">\n",
              "  <thead>\n",
              "    <tr style=\"text-align: right;\">\n",
              "      <th>time</th>\n",
              "      <th>2007</th>\n",
              "      <th>2008</th>\n",
              "      <th>2009</th>\n",
              "      <th>2010</th>\n",
              "      <th>2011</th>\n",
              "      <th>2012</th>\n",
              "      <th>2013</th>\n",
              "      <th>2014</th>\n",
              "      <th>2015</th>\n",
              "      <th>2016</th>\n",
              "      <th>2017</th>\n",
              "    </tr>\n",
              "    <tr>\n",
              "      <th>country</th>\n",
              "      <th></th>\n",
              "      <th></th>\n",
              "      <th></th>\n",
              "      <th></th>\n",
              "      <th></th>\n",
              "      <th></th>\n",
              "      <th></th>\n",
              "      <th></th>\n",
              "      <th></th>\n",
              "      <th></th>\n",
              "      <th></th>\n",
              "    </tr>\n",
              "  </thead>\n",
              "  <tbody>\n",
              "    <tr>\n",
              "      <th>Brazil</th>\n",
              "      <td>120,980,103.0</td>\n",
              "      <td>150,641,403.0</td>\n",
              "      <td>169,385,584.0</td>\n",
              "      <td>196,929,978.0</td>\n",
              "      <td>234,357,507.0</td>\n",
              "      <td>248,323,703.0</td>\n",
              "      <td>271,099,799.0</td>\n",
              "      <td>280,728,796.0</td>\n",
              "      <td>257,814,274.0</td>\n",
              "      <td>244,067,356.0</td>\n",
              "      <td>236,488,548.0</td>\n",
              "    </tr>\n",
              "    <tr>\n",
              "      <th>China</th>\n",
              "      <td>547,306,000.0</td>\n",
              "      <td>641,245,000.0</td>\n",
              "      <td>747,214,000.0</td>\n",
              "      <td>859,003,000.0</td>\n",
              "      <td>986,253,000.0</td>\n",
              "      <td>1,112,155,000.0</td>\n",
              "      <td>1,229,113,000.0</td>\n",
              "      <td>1,286,093,000.0</td>\n",
              "      <td>1,291,984,200.0</td>\n",
              "      <td>1,364,934,000.0</td>\n",
              "      <td>1,474,097,000.0</td>\n",
              "    </tr>\n",
              "    <tr>\n",
              "      <th>India</th>\n",
              "      <td>233,620,000.0</td>\n",
              "      <td>346,890,000.0</td>\n",
              "      <td>525,090,000.0</td>\n",
              "      <td>752,190,000.0</td>\n",
              "      <td>893,862,478.0</td>\n",
              "      <td>864,720,917.0</td>\n",
              "      <td>886,304,245.0</td>\n",
              "      <td>944,008,677.0</td>\n",
              "      <td>1,001,056,000.0</td>\n",
              "      <td>1,127,809,000.0</td>\n",
              "      <td>1,168,902,277.0</td>\n",
              "    </tr>\n",
              "    <tr>\n",
              "      <th>Indonesia</th>\n",
              "      <td>93,386,881.0</td>\n",
              "      <td>140,578,243.0</td>\n",
              "      <td>163,676,961.0</td>\n",
              "      <td>211,290,235.0</td>\n",
              "      <td>249,805,619.0</td>\n",
              "      <td>281,963,665.0</td>\n",
              "      <td>313,226,914.0</td>\n",
              "      <td>325,582,819.0</td>\n",
              "      <td>338,948,340.0</td>\n",
              "      <td>385,573,398.0</td>\n",
              "      <td>458,923,202.0</td>\n",
              "    </tr>\n",
              "    <tr>\n",
              "      <th>United States</th>\n",
              "      <td>249,300,000.0</td>\n",
              "      <td>261,300,000.0</td>\n",
              "      <td>274,283,000.0</td>\n",
              "      <td>285,118,000.0</td>\n",
              "      <td>297,404,000.0</td>\n",
              "      <td>304,838,000.0</td>\n",
              "      <td>310,698,000.0</td>\n",
              "      <td>355,500,000.0</td>\n",
              "      <td>382,307,000.0</td>\n",
              "      <td>395,881,000.0</td>\n",
              "      <td>395,881,000.0</td>\n",
              "    </tr>\n",
              "  </tbody>\n",
              "</table>\n",
              "</div>"
            ],
            "text/plain": [
              "time                   2007          2008          2009          2010  \\\n",
              "country                                                                 \n",
              "Brazil        120,980,103.0 150,641,403.0 169,385,584.0 196,929,978.0   \n",
              "China         547,306,000.0 641,245,000.0 747,214,000.0 859,003,000.0   \n",
              "India         233,620,000.0 346,890,000.0 525,090,000.0 752,190,000.0   \n",
              "Indonesia      93,386,881.0 140,578,243.0 163,676,961.0 211,290,235.0   \n",
              "United States 249,300,000.0 261,300,000.0 274,283,000.0 285,118,000.0   \n",
              "\n",
              "time                   2011            2012            2013            2014  \\\n",
              "country                                                                       \n",
              "Brazil        234,357,507.0   248,323,703.0   271,099,799.0   280,728,796.0   \n",
              "China         986,253,000.0 1,112,155,000.0 1,229,113,000.0 1,286,093,000.0   \n",
              "India         893,862,478.0   864,720,917.0   886,304,245.0   944,008,677.0   \n",
              "Indonesia     249,805,619.0   281,963,665.0   313,226,914.0   325,582,819.0   \n",
              "United States 297,404,000.0   304,838,000.0   310,698,000.0   355,500,000.0   \n",
              "\n",
              "time                     2015            2016            2017  \n",
              "country                                                        \n",
              "Brazil          257,814,274.0   244,067,356.0   236,488,548.0  \n",
              "China         1,291,984,200.0 1,364,934,000.0 1,474,097,000.0  \n",
              "India         1,001,056,000.0 1,127,809,000.0 1,168,902,277.0  \n",
              "Indonesia       338,948,340.0   385,573,398.0   458,923,202.0  \n",
              "United States   382,307,000.0   395,881,000.0   395,881,000.0  "
            ]
          },
          "metadata": {
            "tags": []
          },
          "execution_count": 16
        }
      ]
    },
    {
      "metadata": {
        "id": "CNKTu2DCnAo6",
        "colab_type": "text"
      },
      "cell_type": "markdown",
      "source": [
        "#### OPTIONAL BONUS QUESTION!\n",
        "\n",
        "Sort these 5 countries, by biggest increase in cell phones from 2007 to 2017.\n",
        "\n",
        "Which country had 935,282,277 more cell phones in 2017 versus 2007?\n",
        "\n",
        "\n",
        "**India had that many more cell phones in 2017 vs 2007**"
      ]
    },
    {
      "metadata": {
        "id": "Wc-AccKsXNtK",
        "colab_type": "code",
        "colab": {
          "base_uri": "https://localhost:8080/",
          "height": 136
        },
        "outputId": "3a1e3de7-832f-49a1-9738-aefbac452b38"
      },
      "cell_type": "code",
      "source": [
        "pivot[2017] - pivot[2007].sort_values(ascending = False)"
      ],
      "execution_count": 17,
      "outputs": [
        {
          "output_type": "execute_result",
          "data": {
            "text/plain": [
              "country\n",
              "Brazil          115,508,445.0\n",
              "China           926,791,000.0\n",
              "India           935,282,277.0\n",
              "Indonesia       365,536,321.0\n",
              "United States   146,581,000.0\n",
              "dtype: float64"
            ]
          },
          "metadata": {
            "tags": []
          },
          "execution_count": 17
        }
      ]
    },
    {
      "metadata": {
        "id": "2q-uexYrZrtM",
        "colab_type": "code",
        "colab": {
          "base_uri": "https://localhost:8080/",
          "height": 235
        },
        "outputId": "149d260f-8d1a-49f2-e4d0-d01a25a4d62f"
      },
      "cell_type": "code",
      "source": [
        "final = pivot.reindex(['Brazil', 'China', 'India','Indonesia','United States'])\n",
        "\n",
        "final"
      ],
      "execution_count": 18,
      "outputs": [
        {
          "output_type": "execute_result",
          "data": {
            "text/html": [
              "<div>\n",
              "<style scoped>\n",
              "    .dataframe tbody tr th:only-of-type {\n",
              "        vertical-align: middle;\n",
              "    }\n",
              "\n",
              "    .dataframe tbody tr th {\n",
              "        vertical-align: top;\n",
              "    }\n",
              "\n",
              "    .dataframe thead th {\n",
              "        text-align: right;\n",
              "    }\n",
              "</style>\n",
              "<table border=\"1\" class=\"dataframe\">\n",
              "  <thead>\n",
              "    <tr style=\"text-align: right;\">\n",
              "      <th>time</th>\n",
              "      <th>2007</th>\n",
              "      <th>2008</th>\n",
              "      <th>2009</th>\n",
              "      <th>2010</th>\n",
              "      <th>2011</th>\n",
              "      <th>2012</th>\n",
              "      <th>2013</th>\n",
              "      <th>2014</th>\n",
              "      <th>2015</th>\n",
              "      <th>2016</th>\n",
              "      <th>2017</th>\n",
              "    </tr>\n",
              "    <tr>\n",
              "      <th>country</th>\n",
              "      <th></th>\n",
              "      <th></th>\n",
              "      <th></th>\n",
              "      <th></th>\n",
              "      <th></th>\n",
              "      <th></th>\n",
              "      <th></th>\n",
              "      <th></th>\n",
              "      <th></th>\n",
              "      <th></th>\n",
              "      <th></th>\n",
              "    </tr>\n",
              "  </thead>\n",
              "  <tbody>\n",
              "    <tr>\n",
              "      <th>Brazil</th>\n",
              "      <td>120,980,103.0</td>\n",
              "      <td>150,641,403.0</td>\n",
              "      <td>169,385,584.0</td>\n",
              "      <td>196,929,978.0</td>\n",
              "      <td>234,357,507.0</td>\n",
              "      <td>248,323,703.0</td>\n",
              "      <td>271,099,799.0</td>\n",
              "      <td>280,728,796.0</td>\n",
              "      <td>257,814,274.0</td>\n",
              "      <td>244,067,356.0</td>\n",
              "      <td>236,488,548.0</td>\n",
              "    </tr>\n",
              "    <tr>\n",
              "      <th>China</th>\n",
              "      <td>547,306,000.0</td>\n",
              "      <td>641,245,000.0</td>\n",
              "      <td>747,214,000.0</td>\n",
              "      <td>859,003,000.0</td>\n",
              "      <td>986,253,000.0</td>\n",
              "      <td>1,112,155,000.0</td>\n",
              "      <td>1,229,113,000.0</td>\n",
              "      <td>1,286,093,000.0</td>\n",
              "      <td>1,291,984,200.0</td>\n",
              "      <td>1,364,934,000.0</td>\n",
              "      <td>1,474,097,000.0</td>\n",
              "    </tr>\n",
              "    <tr>\n",
              "      <th>India</th>\n",
              "      <td>233,620,000.0</td>\n",
              "      <td>346,890,000.0</td>\n",
              "      <td>525,090,000.0</td>\n",
              "      <td>752,190,000.0</td>\n",
              "      <td>893,862,478.0</td>\n",
              "      <td>864,720,917.0</td>\n",
              "      <td>886,304,245.0</td>\n",
              "      <td>944,008,677.0</td>\n",
              "      <td>1,001,056,000.0</td>\n",
              "      <td>1,127,809,000.0</td>\n",
              "      <td>1,168,902,277.0</td>\n",
              "    </tr>\n",
              "    <tr>\n",
              "      <th>Indonesia</th>\n",
              "      <td>93,386,881.0</td>\n",
              "      <td>140,578,243.0</td>\n",
              "      <td>163,676,961.0</td>\n",
              "      <td>211,290,235.0</td>\n",
              "      <td>249,805,619.0</td>\n",
              "      <td>281,963,665.0</td>\n",
              "      <td>313,226,914.0</td>\n",
              "      <td>325,582,819.0</td>\n",
              "      <td>338,948,340.0</td>\n",
              "      <td>385,573,398.0</td>\n",
              "      <td>458,923,202.0</td>\n",
              "    </tr>\n",
              "    <tr>\n",
              "      <th>United States</th>\n",
              "      <td>249,300,000.0</td>\n",
              "      <td>261,300,000.0</td>\n",
              "      <td>274,283,000.0</td>\n",
              "      <td>285,118,000.0</td>\n",
              "      <td>297,404,000.0</td>\n",
              "      <td>304,838,000.0</td>\n",
              "      <td>310,698,000.0</td>\n",
              "      <td>355,500,000.0</td>\n",
              "      <td>382,307,000.0</td>\n",
              "      <td>395,881,000.0</td>\n",
              "      <td>395,881,000.0</td>\n",
              "    </tr>\n",
              "  </tbody>\n",
              "</table>\n",
              "</div>"
            ],
            "text/plain": [
              "time                   2007          2008          2009          2010  \\\n",
              "country                                                                 \n",
              "Brazil        120,980,103.0 150,641,403.0 169,385,584.0 196,929,978.0   \n",
              "China         547,306,000.0 641,245,000.0 747,214,000.0 859,003,000.0   \n",
              "India         233,620,000.0 346,890,000.0 525,090,000.0 752,190,000.0   \n",
              "Indonesia      93,386,881.0 140,578,243.0 163,676,961.0 211,290,235.0   \n",
              "United States 249,300,000.0 261,300,000.0 274,283,000.0 285,118,000.0   \n",
              "\n",
              "time                   2011            2012            2013            2014  \\\n",
              "country                                                                       \n",
              "Brazil        234,357,507.0   248,323,703.0   271,099,799.0   280,728,796.0   \n",
              "China         986,253,000.0 1,112,155,000.0 1,229,113,000.0 1,286,093,000.0   \n",
              "India         893,862,478.0   864,720,917.0   886,304,245.0   944,008,677.0   \n",
              "Indonesia     249,805,619.0   281,963,665.0   313,226,914.0   325,582,819.0   \n",
              "United States 297,404,000.0   304,838,000.0   310,698,000.0   355,500,000.0   \n",
              "\n",
              "time                     2015            2016            2017  \n",
              "country                                                        \n",
              "Brazil          257,814,274.0   244,067,356.0   236,488,548.0  \n",
              "China         1,291,984,200.0 1,364,934,000.0 1,474,097,000.0  \n",
              "India         1,001,056,000.0 1,127,809,000.0 1,168,902,277.0  \n",
              "Indonesia       338,948,340.0   385,573,398.0   458,923,202.0  \n",
              "United States   382,307,000.0   395,881,000.0   395,881,000.0  "
            ]
          },
          "metadata": {
            "tags": []
          },
          "execution_count": 18
        }
      ]
    },
    {
      "metadata": {
        "id": "uxuEdrWHagvp",
        "colab_type": "text"
      },
      "cell_type": "markdown",
      "source": [
        "### Extra Analysis\n",
        "\n",
        "I want to look at how the number of cell phones changed over time. To do so, I am going to find the percent increase year over year and visualize it. "
      ]
    },
    {
      "metadata": {
        "id": "O4Aecv1fmQlj",
        "colab_type": "code",
        "colab": {}
      },
      "cell_type": "code",
      "source": [
        "pct = ((pivot.pct_change(axis = 'columns') *100).round(1) #Getting pct change and cleaning numbers\n",
        "        .drop([2007], axis = 1)               # 2007 column will be NAN because no pct change. \n",
        "        .rename (columns = {2008: '2007 - 2008', 2009:'2008 - 2009',   #Renaming columns\n",
        "                     2010:'2009 - 2010', 2011:'2010 - 2011', \n",
        "                     2012:'2011 - 2012', 2013:'2012 - 2013',\n",
        "                     2014:'2013 - 2014', 2015:'2014 - 2015', \n",
        "                     2016:'2015 - 2016', 2017:'2016 - 2017'}))"
      ],
      "execution_count": 0,
      "outputs": []
    },
    {
      "metadata": {
        "id": "r7xg4nxbfMx-",
        "colab_type": "code",
        "colab": {
          "base_uri": "https://localhost:8080/",
          "height": 235
        },
        "outputId": "9f66f5c3-735c-4c98-d260-e9ad5638b7d6"
      },
      "cell_type": "code",
      "source": [
        "pct"
      ],
      "execution_count": 20,
      "outputs": [
        {
          "output_type": "execute_result",
          "data": {
            "text/html": [
              "<div>\n",
              "<style scoped>\n",
              "    .dataframe tbody tr th:only-of-type {\n",
              "        vertical-align: middle;\n",
              "    }\n",
              "\n",
              "    .dataframe tbody tr th {\n",
              "        vertical-align: top;\n",
              "    }\n",
              "\n",
              "    .dataframe thead th {\n",
              "        text-align: right;\n",
              "    }\n",
              "</style>\n",
              "<table border=\"1\" class=\"dataframe\">\n",
              "  <thead>\n",
              "    <tr style=\"text-align: right;\">\n",
              "      <th>time</th>\n",
              "      <th>2007 - 2008</th>\n",
              "      <th>2008 - 2009</th>\n",
              "      <th>2009 - 2010</th>\n",
              "      <th>2010 - 2011</th>\n",
              "      <th>2011 - 2012</th>\n",
              "      <th>2012 - 2013</th>\n",
              "      <th>2013 - 2014</th>\n",
              "      <th>2014 - 2015</th>\n",
              "      <th>2015 - 2016</th>\n",
              "      <th>2016 - 2017</th>\n",
              "    </tr>\n",
              "    <tr>\n",
              "      <th>country</th>\n",
              "      <th></th>\n",
              "      <th></th>\n",
              "      <th></th>\n",
              "      <th></th>\n",
              "      <th></th>\n",
              "      <th></th>\n",
              "      <th></th>\n",
              "      <th></th>\n",
              "      <th></th>\n",
              "      <th></th>\n",
              "    </tr>\n",
              "  </thead>\n",
              "  <tbody>\n",
              "    <tr>\n",
              "      <th>Brazil</th>\n",
              "      <td>24.5</td>\n",
              "      <td>12.4</td>\n",
              "      <td>16.3</td>\n",
              "      <td>19.0</td>\n",
              "      <td>6.0</td>\n",
              "      <td>9.2</td>\n",
              "      <td>3.6</td>\n",
              "      <td>-8.2</td>\n",
              "      <td>-5.3</td>\n",
              "      <td>-3.1</td>\n",
              "    </tr>\n",
              "    <tr>\n",
              "      <th>China</th>\n",
              "      <td>17.2</td>\n",
              "      <td>16.5</td>\n",
              "      <td>15.0</td>\n",
              "      <td>14.8</td>\n",
              "      <td>12.8</td>\n",
              "      <td>10.5</td>\n",
              "      <td>4.6</td>\n",
              "      <td>0.5</td>\n",
              "      <td>5.6</td>\n",
              "      <td>8.0</td>\n",
              "    </tr>\n",
              "    <tr>\n",
              "      <th>India</th>\n",
              "      <td>48.5</td>\n",
              "      <td>51.4</td>\n",
              "      <td>43.2</td>\n",
              "      <td>18.8</td>\n",
              "      <td>-3.3</td>\n",
              "      <td>2.5</td>\n",
              "      <td>6.5</td>\n",
              "      <td>6.0</td>\n",
              "      <td>12.7</td>\n",
              "      <td>3.6</td>\n",
              "    </tr>\n",
              "    <tr>\n",
              "      <th>Indonesia</th>\n",
              "      <td>50.5</td>\n",
              "      <td>16.4</td>\n",
              "      <td>29.1</td>\n",
              "      <td>18.2</td>\n",
              "      <td>12.9</td>\n",
              "      <td>11.1</td>\n",
              "      <td>3.9</td>\n",
              "      <td>4.1</td>\n",
              "      <td>13.8</td>\n",
              "      <td>19.0</td>\n",
              "    </tr>\n",
              "    <tr>\n",
              "      <th>United States</th>\n",
              "      <td>4.8</td>\n",
              "      <td>5.0</td>\n",
              "      <td>4.0</td>\n",
              "      <td>4.3</td>\n",
              "      <td>2.5</td>\n",
              "      <td>1.9</td>\n",
              "      <td>14.4</td>\n",
              "      <td>7.5</td>\n",
              "      <td>3.6</td>\n",
              "      <td>0.0</td>\n",
              "    </tr>\n",
              "  </tbody>\n",
              "</table>\n",
              "</div>"
            ],
            "text/plain": [
              "time           2007 - 2008  2008 - 2009  2009 - 2010  2010 - 2011  \\\n",
              "country                                                             \n",
              "Brazil                24.5         12.4         16.3         19.0   \n",
              "China                 17.2         16.5         15.0         14.8   \n",
              "India                 48.5         51.4         43.2         18.8   \n",
              "Indonesia             50.5         16.4         29.1         18.2   \n",
              "United States          4.8          5.0          4.0          4.3   \n",
              "\n",
              "time           2011 - 2012  2012 - 2013  2013 - 2014  2014 - 2015  \\\n",
              "country                                                             \n",
              "Brazil                 6.0          9.2          3.6         -8.2   \n",
              "China                 12.8         10.5          4.6          0.5   \n",
              "India                 -3.3          2.5          6.5          6.0   \n",
              "Indonesia             12.9         11.1          3.9          4.1   \n",
              "United States          2.5          1.9         14.4          7.5   \n",
              "\n",
              "time           2015 - 2016  2016 - 2017  \n",
              "country                                  \n",
              "Brazil                -5.3         -3.1  \n",
              "China                  5.6          8.0  \n",
              "India                 12.7          3.6  \n",
              "Indonesia             13.8         19.0  \n",
              "United States          3.6          0.0  "
            ]
          },
          "metadata": {
            "tags": []
          },
          "execution_count": 20
        }
      ]
    },
    {
      "metadata": {
        "id": "deAJglX6fGLh",
        "colab_type": "code",
        "colab": {}
      },
      "cell_type": "code",
      "source": [
        "import matplotlib.pyplot as plt\n",
        "import seaborn as sns\n",
        "\n"
      ],
      "execution_count": 0,
      "outputs": []
    },
    {
      "metadata": {
        "id": "vdr3kqhlfmrH",
        "colab_type": "code",
        "colab": {
          "base_uri": "https://localhost:8080/",
          "height": 684
        },
        "outputId": "94b4569d-68c7-491c-c221-1a3512f37215"
      },
      "cell_type": "code",
      "source": [
        "sns.set(rc={'figure.figsize':(14,10)})\n",
        "\n",
        "sns.heatmap(pct, cmap = 'Blues', center = 1).set_title('Percent Change in Total Cell Phones from 2007 to 2017 by Year');"
      ],
      "execution_count": 22,
      "outputs": [
        {
          "output_type": "display_data",
          "data": {
            "image/png": "[encoded data removed]",
            "text/plain": [
              "<Figure size 1008x720 with 2 Axes>"
            ]
          },
          "metadata": {
            "tags": []
          }
        }
      ]
    },
    {
      "metadata": {
        "id": "CcDe75MuipJK",
        "colab_type": "text"
      },
      "cell_type": "markdown",
      "source": [
        "\n",
        "\n",
        "**Looks like Southeast Asia was the place to be for selling Cell Phones in the late 2000s!**"
      ]
    }
  ]
}