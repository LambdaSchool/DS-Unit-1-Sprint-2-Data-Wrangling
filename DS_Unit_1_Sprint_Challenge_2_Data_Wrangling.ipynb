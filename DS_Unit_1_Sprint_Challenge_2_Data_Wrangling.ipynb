{
  "nbformat": 4,
  "nbformat_minor": 0,
  "metadata": {
    "colab": {
      "name": "DS_Unit_1_Sprint_Challenge_2_Data_Wrangling.ipynb",
      "version": "0.3.2",
      "provenance": [],
      "collapsed_sections": [],
      "include_colab_link": true
    },
    "kernelspec": {
      "name": "python3",
      "display_name": "Python 3"
    }
  },
  "cells": [
    {
      "cell_type": "markdown",
      "metadata": {
        "id": "view-in-github",
        "colab_type": "text"
      },
      "source": [
        "<a href=\"https://colab.research.google.com/github/DimaKav/DS-Unit-1-Sprint-2-Data-Wrangling/blob/master/DS_Unit_1_Sprint_Challenge_2_Data_Wrangling.ipynb\" target=\"_parent\"><img src=\"https://colab.research.google.com/assets/colab-badge.svg\" alt=\"Open In Colab\"/></a>"
      ]
    },
    {
      "metadata": {
        "id": "4yMHi_PX9hEz",
        "colab_type": "text"
      },
      "cell_type": "markdown",
      "source": [
        "# Data Science Unit 1 Sprint Challenge 2\n",
        "\n",
        "## Data Wrangling\n",
        "\n",
        "In this Sprint Challenge you will use data from [Gapminder](https://www.gapminder.org/about-gapminder/), a Swedish non-profit co-founded by Hans Rosling. \"Gapminder produces free teaching resources making the world understandable based on reliable statistics.\"\n",
        "- [Cell phones (total), by country and year](https://raw.githubusercontent.com/open-numbers/ddf--gapminder--systema_globalis/master/ddf--datapoints--cell_phones_total--by--geo--time.csv)\n",
        "- [Population (total), by country and year](https://raw.githubusercontent.com/open-numbers/ddf--gapminder--systema_globalis/master/ddf--datapoints--population_total--by--geo--time.csv)\n",
        "- [Geo country codes](https://github.com/open-numbers/ddf--gapminder--systema_globalis/blob/master/ddf--entities--geo--country.csv)\n",
        "\n",
        "These two links have everything you need to successfully complete the Sprint Challenge!\n",
        "- [Pandas documentation: Working with Text Data](https://pandas.pydata.org/pandas-docs/stable/text.html]) (one question)\n",
        "- [Pandas Cheat Sheet](https://github.com/pandas-dev/pandas/blob/master/doc/cheatsheet/Pandas_Cheat_Sheet.pdf) (everything else)"
      ]
    },
    {
      "metadata": {
        "id": "wWEU2GemX68A",
        "colab_type": "text"
      },
      "cell_type": "markdown",
      "source": [
        "## Part 0. Load data\n",
        "\n",
        "You don't need to add or change anything here. Just run this cell and it loads the data for you, into three dataframes."
      ]
    },
    {
      "metadata": {
        "id": "bxKtSi5sRQOl",
        "colab_type": "code",
        "colab": {}
      },
      "cell_type": "code",
      "source": [
        "import pandas as pd\n",
        "\n",
        "cell_phones = pd.read_csv('https://raw.githubusercontent.com/open-numbers/ddf--gapminder--systema_globalis/master/ddf--datapoints--cell_phones_total--by--geo--time.csv')\n",
        "\n",
        "population = pd.read_csv('https://raw.githubusercontent.com/open-numbers/ddf--gapminder--systema_globalis/master/ddf--datapoints--population_total--by--geo--time.csv')\n",
        "\n",
        "geo_country_codes = (pd.read_csv('https://raw.githubusercontent.com/open-numbers/ddf--gapminder--systema_globalis/master/ddf--entities--geo--country.csv')\n",
        "                       .rename(columns={'country': 'geo', 'name': 'country'}))"
      ],
      "execution_count": 0,
      "outputs": []
    },
    {
      "metadata": {
        "id": "AZmVTeCsX9RC",
        "colab_type": "text"
      },
      "cell_type": "markdown",
      "source": [
        "## Part 1. Join data"
      ]
    },
    {
      "metadata": {
        "id": "GLzX58u4SfEy",
        "colab_type": "text"
      },
      "cell_type": "markdown",
      "source": [
        "First, join the `cell_phones` and `population` dataframes (with an inner join on `geo` and `time`).\n",
        "\n",
        "The resulting dataframe's shape should be: (8590, 4)"
      ]
    },
    {
      "metadata": {
        "id": "GVV7Hnj4SXBa",
        "colab_type": "code",
        "colab": {
          "base_uri": "https://localhost:8080/",
          "height": 34
        },
        "outputId": "09c51ec6-ec1c-4f9d-acf4-af68a1513257"
      },
      "cell_type": "code",
      "source": [
        "df = cell_phones.merge(population, how='inner', on=['geo', 'time'])\n",
        "df.shape"
      ],
      "execution_count": 5,
      "outputs": [
        {
          "output_type": "execute_result",
          "data": {
            "text/plain": [
              "(8590, 4)"
            ]
          },
          "metadata": {
            "tags": []
          },
          "execution_count": 5
        }
      ]
    },
    {
      "metadata": {
        "id": "xsXpDbwwW241",
        "colab_type": "text"
      },
      "cell_type": "markdown",
      "source": [
        "Then, select the `geo` and `country` columns from the `geo_country_codes` dataframe, and join with your population and cell phone data.\n",
        "\n",
        "The resulting dataframe's shape should be: (8590, 5)"
      ]
    },
    {
      "metadata": {
        "id": "Q2LaZta_W2CE",
        "colab_type": "code",
        "colab": {
          "base_uri": "https://localhost:8080/",
          "height": 34
        },
        "outputId": "b48f6bdb-a848-4eb6-c807-ea62ffc9ff6f"
      },
      "cell_type": "code",
      "source": [
        "df = df.merge(geo_country_codes[['geo', 'country']])\n",
        "df.shape"
      ],
      "execution_count": 7,
      "outputs": [
        {
          "output_type": "execute_result",
          "data": {
            "text/plain": [
              "(8590, 5)"
            ]
          },
          "metadata": {
            "tags": []
          },
          "execution_count": 7
        }
      ]
    },
    {
      "metadata": {
        "id": "oK96Uj7vYjFX",
        "colab_type": "text"
      },
      "cell_type": "markdown",
      "source": [
        "## Part 2. Make features"
      ]
    },
    {
      "metadata": {
        "id": "AD2fBNrOYzCG",
        "colab_type": "text"
      },
      "cell_type": "markdown",
      "source": [
        "Calculate the number of cell phones per person, and add this column onto your dataframe.\n",
        "\n",
        "(You've calculated correctly if you get 1.220 cell phones per person in the United States in 2017.)"
      ]
    },
    {
      "metadata": {
        "id": "wXI9nQthYnFK",
        "colab_type": "code",
        "colab": {}
      },
      "cell_type": "code",
      "source": [
        "df['cell_phone_perperson'] = df.cell_phones_total / df.population_total"
      ],
      "execution_count": 0,
      "outputs": []
    },
    {
      "metadata": {
        "id": "hdmCAHJ0t-Ak",
        "colab_type": "code",
        "colab": {
          "base_uri": "https://localhost:8080/",
          "height": 51
        },
        "outputId": "ca72b508-4fcd-489d-e1a7-c840593f439e"
      },
      "cell_type": "code",
      "source": [
        "df['cell_phone_perperson'][(df.country == 'United States') & (df.time == 2017 )]"
      ],
      "execution_count": 33,
      "outputs": [
        {
          "output_type": "execute_result",
          "data": {
            "text/plain": [
              "8134    1.220125\n",
              "Name: cell_phone_perperson, dtype: float64"
            ]
          },
          "metadata": {
            "tags": []
          },
          "execution_count": 33
        }
      ]
    },
    {
      "metadata": {
        "id": "S3QFdsnRZMH6",
        "colab_type": "text"
      },
      "cell_type": "markdown",
      "source": [
        "Modify the `geo` column to make the geo codes uppercase instead of lowercase."
      ]
    },
    {
      "metadata": {
        "id": "93ADij8_YkOq",
        "colab_type": "code",
        "colab": {
          "base_uri": "https://localhost:8080/",
          "height": 119
        },
        "outputId": "5b1d3553-8409-4ab9-9fc2-dd42ff783c02"
      },
      "cell_type": "code",
      "source": [
        "df.geo = df.geo.str.upper()\n",
        "df.geo.head()"
      ],
      "execution_count": 36,
      "outputs": [
        {
          "output_type": "execute_result",
          "data": {
            "text/plain": [
              "0    AFG\n",
              "1    AFG\n",
              "2    AFG\n",
              "3    AFG\n",
              "4    AFG\n",
              "Name: geo, dtype: object"
            ]
          },
          "metadata": {
            "tags": []
          },
          "execution_count": 36
        }
      ]
    },
    {
      "metadata": {
        "id": "hlPDAFCfaF6C",
        "colab_type": "text"
      },
      "cell_type": "markdown",
      "source": [
        "## Part 3. Process data"
      ]
    },
    {
      "metadata": {
        "id": "k-pudNWve2SQ",
        "colab_type": "text"
      },
      "cell_type": "markdown",
      "source": [
        "Use the describe function, to describe your dataframe's numeric columns, and then its non-numeric columns.\n",
        "\n",
        "(You'll see the time period ranges from 1960 to 2017, and there are 195 unique countries represented.)"
      ]
    },
    {
      "metadata": {
        "id": "g26yemKre2Cu",
        "colab_type": "code",
        "colab": {
          "base_uri": "https://localhost:8080/",
          "height": 297
        },
        "outputId": "2e9d55d6-3436-4065-96ca-d8e2c23149a8"
      },
      "cell_type": "code",
      "source": [
        "import numpy as np\n",
        "df.describe(include=np.number)"
      ],
      "execution_count": 42,
      "outputs": [
        {
          "output_type": "execute_result",
          "data": {
            "text/html": [
              "<div>\n",
              "<style scoped>\n",
              "    .dataframe tbody tr th:only-of-type {\n",
              "        vertical-align: middle;\n",
              "    }\n",
              "\n",
              "    .dataframe tbody tr th {\n",
              "        vertical-align: top;\n",
              "    }\n",
              "\n",
              "    .dataframe thead th {\n",
              "        text-align: right;\n",
              "    }\n",
              "</style>\n",
              "<table border=\"1\" class=\"dataframe\">\n",
              "  <thead>\n",
              "    <tr style=\"text-align: right;\">\n",
              "      <th></th>\n",
              "      <th>time</th>\n",
              "      <th>cell_phones_total</th>\n",
              "      <th>population_total</th>\n",
              "      <th>cell_phone_perperson</th>\n",
              "    </tr>\n",
              "  </thead>\n",
              "  <tbody>\n",
              "    <tr>\n",
              "      <th>count</th>\n",
              "      <td>8590.000000</td>\n",
              "      <td>8.590000e+03</td>\n",
              "      <td>8.590000e+03</td>\n",
              "      <td>8590.000000</td>\n",
              "    </tr>\n",
              "    <tr>\n",
              "      <th>mean</th>\n",
              "      <td>1994.193481</td>\n",
              "      <td>9.004950e+06</td>\n",
              "      <td>2.983823e+07</td>\n",
              "      <td>0.279639</td>\n",
              "    </tr>\n",
              "    <tr>\n",
              "      <th>std</th>\n",
              "      <td>14.257975</td>\n",
              "      <td>5.573408e+07</td>\n",
              "      <td>1.161284e+08</td>\n",
              "      <td>0.454247</td>\n",
              "    </tr>\n",
              "    <tr>\n",
              "      <th>min</th>\n",
              "      <td>1960.000000</td>\n",
              "      <td>0.000000e+00</td>\n",
              "      <td>4.433000e+03</td>\n",
              "      <td>0.000000</td>\n",
              "    </tr>\n",
              "    <tr>\n",
              "      <th>25%</th>\n",
              "      <td>1983.000000</td>\n",
              "      <td>0.000000e+00</td>\n",
              "      <td>1.456148e+06</td>\n",
              "      <td>0.000000</td>\n",
              "    </tr>\n",
              "    <tr>\n",
              "      <th>50%</th>\n",
              "      <td>1995.000000</td>\n",
              "      <td>6.200000e+03</td>\n",
              "      <td>5.725062e+06</td>\n",
              "      <td>0.001564</td>\n",
              "    </tr>\n",
              "    <tr>\n",
              "      <th>75%</th>\n",
              "      <td>2006.000000</td>\n",
              "      <td>1.697652e+06</td>\n",
              "      <td>1.810581e+07</td>\n",
              "      <td>0.461149</td>\n",
              "    </tr>\n",
              "    <tr>\n",
              "      <th>max</th>\n",
              "      <td>2017.000000</td>\n",
              "      <td>1.474097e+09</td>\n",
              "      <td>1.409517e+09</td>\n",
              "      <td>2.490243</td>\n",
              "    </tr>\n",
              "  </tbody>\n",
              "</table>\n",
              "</div>"
            ],
            "text/plain": [
              "              time  cell_phones_total  population_total  cell_phone_perperson\n",
              "count  8590.000000       8.590000e+03      8.590000e+03           8590.000000\n",
              "mean   1994.193481       9.004950e+06      2.983823e+07              0.279639\n",
              "std      14.257975       5.573408e+07      1.161284e+08              0.454247\n",
              "min    1960.000000       0.000000e+00      4.433000e+03              0.000000\n",
              "25%    1983.000000       0.000000e+00      1.456148e+06              0.000000\n",
              "50%    1995.000000       6.200000e+03      5.725062e+06              0.001564\n",
              "75%    2006.000000       1.697652e+06      1.810581e+07              0.461149\n",
              "max    2017.000000       1.474097e+09      1.409517e+09              2.490243"
            ]
          },
          "metadata": {
            "tags": []
          },
          "execution_count": 42
        }
      ]
    },
    {
      "metadata": {
        "id": "UPWTJZMwxnKd",
        "colab_type": "code",
        "colab": {
          "base_uri": "https://localhost:8080/",
          "height": 173
        },
        "outputId": "e83979a4-98b2-4c71-fdd5-ee978e9c7222"
      },
      "cell_type": "code",
      "source": [
        "df.describe(exclude=np.number)"
      ],
      "execution_count": 43,
      "outputs": [
        {
          "output_type": "execute_result",
          "data": {
            "text/html": [
              "<div>\n",
              "<style scoped>\n",
              "    .dataframe tbody tr th:only-of-type {\n",
              "        vertical-align: middle;\n",
              "    }\n",
              "\n",
              "    .dataframe tbody tr th {\n",
              "        vertical-align: top;\n",
              "    }\n",
              "\n",
              "    .dataframe thead th {\n",
              "        text-align: right;\n",
              "    }\n",
              "</style>\n",
              "<table border=\"1\" class=\"dataframe\">\n",
              "  <thead>\n",
              "    <tr style=\"text-align: right;\">\n",
              "      <th></th>\n",
              "      <th>geo</th>\n",
              "      <th>country</th>\n",
              "    </tr>\n",
              "  </thead>\n",
              "  <tbody>\n",
              "    <tr>\n",
              "      <th>count</th>\n",
              "      <td>8590</td>\n",
              "      <td>8590</td>\n",
              "    </tr>\n",
              "    <tr>\n",
              "      <th>unique</th>\n",
              "      <td>195</td>\n",
              "      <td>195</td>\n",
              "    </tr>\n",
              "    <tr>\n",
              "      <th>top</th>\n",
              "      <td>EST</td>\n",
              "      <td>Indonesia</td>\n",
              "    </tr>\n",
              "    <tr>\n",
              "      <th>freq</th>\n",
              "      <td>46</td>\n",
              "      <td>46</td>\n",
              "    </tr>\n",
              "  </tbody>\n",
              "</table>\n",
              "</div>"
            ],
            "text/plain": [
              "         geo    country\n",
              "count   8590       8590\n",
              "unique   195        195\n",
              "top      EST  Indonesia\n",
              "freq      46         46"
            ]
          },
          "metadata": {
            "tags": []
          },
          "execution_count": 43
        }
      ]
    },
    {
      "metadata": {
        "id": "zALg-RrYaLcI",
        "colab_type": "text"
      },
      "cell_type": "markdown",
      "source": [
        "In 2017, what were the top 5 countries with the most cell phones total?\n",
        "\n",
        "Your list of countries should have these totals:\n",
        "\n",
        "| country | cell phones total |\n",
        "|:-------:|:-----------------:|\n",
        "|    ?    |     1,474,097,000 |\n",
        "|    ?    |     1,168,902,277 |\n",
        "|    ?    |       458,923,202 |\n",
        "|    ?    |       395,881,000 |\n",
        "|    ?    |       236,488,548 |\n",
        "\n"
      ]
    },
    {
      "metadata": {
        "id": "JdlWvezHaZxD",
        "colab_type": "code",
        "colab": {}
      },
      "cell_type": "code",
      "source": [
        "# This optional code formats float numbers with comma separators\n",
        "pd.options.display.float_format = '{:,}'.format"
      ],
      "execution_count": 0,
      "outputs": []
    },
    {
      "metadata": {
        "id": "smX8vzu4cyju",
        "colab_type": "code",
        "colab": {
          "base_uri": "https://localhost:8080/",
          "height": 204
        },
        "outputId": "0c14324d-9b3e-448a-abe6-780de51afc24"
      },
      "cell_type": "code",
      "source": [
        "df.loc[df.time == 2017, ['country', 'cell_phones_total']].sort_values(\n",
        "    'cell_phones_total', ascending=False)[0:5]"
      ],
      "execution_count": 100,
      "outputs": [
        {
          "output_type": "execute_result",
          "data": {
            "text/html": [
              "<div>\n",
              "<style scoped>\n",
              "    .dataframe tbody tr th:only-of-type {\n",
              "        vertical-align: middle;\n",
              "    }\n",
              "\n",
              "    .dataframe tbody tr th {\n",
              "        vertical-align: top;\n",
              "    }\n",
              "\n",
              "    .dataframe thead th {\n",
              "        text-align: right;\n",
              "    }\n",
              "</style>\n",
              "<table border=\"1\" class=\"dataframe\">\n",
              "  <thead>\n",
              "    <tr style=\"text-align: right;\">\n",
              "      <th></th>\n",
              "      <th>country</th>\n",
              "      <th>cell_phones_total</th>\n",
              "    </tr>\n",
              "  </thead>\n",
              "  <tbody>\n",
              "    <tr>\n",
              "      <th>1496</th>\n",
              "      <td>China</td>\n",
              "      <td>1,474,097,000.0</td>\n",
              "    </tr>\n",
              "    <tr>\n",
              "      <th>3595</th>\n",
              "      <td>India</td>\n",
              "      <td>1,168,902,277.0</td>\n",
              "    </tr>\n",
              "    <tr>\n",
              "      <th>3549</th>\n",
              "      <td>Indonesia</td>\n",
              "      <td>458,923,202.0</td>\n",
              "    </tr>\n",
              "    <tr>\n",
              "      <th>8134</th>\n",
              "      <td>United States</td>\n",
              "      <td>395,881,000.0</td>\n",
              "    </tr>\n",
              "    <tr>\n",
              "      <th>1084</th>\n",
              "      <td>Brazil</td>\n",
              "      <td>236,488,548.0</td>\n",
              "    </tr>\n",
              "  </tbody>\n",
              "</table>\n",
              "</div>"
            ],
            "text/plain": [
              "            country  cell_phones_total\n",
              "1496          China    1,474,097,000.0\n",
              "3595          India    1,168,902,277.0\n",
              "3549      Indonesia      458,923,202.0\n",
              "8134  United States      395,881,000.0\n",
              "1084         Brazil      236,488,548.0"
            ]
          },
          "metadata": {
            "tags": []
          },
          "execution_count": 100
        }
      ]
    },
    {
      "metadata": {
        "id": "03V3Wln_h0dj",
        "colab_type": "text"
      },
      "cell_type": "markdown",
      "source": [
        "2017 was the first year that China had more cell phones than people.\n",
        "\n",
        "What was the first year that the USA had more cell phones than people?"
      ]
    },
    {
      "metadata": {
        "id": "azv5wzAK42ep",
        "colab_type": "code",
        "colab": {
          "base_uri": "https://localhost:8080/",
          "height": 80
        },
        "outputId": "62c09d4d-8ebc-412b-eb18-c778f7cbb975"
      },
      "cell_type": "code",
      "source": [
        "df.loc[(df.cell_phones_total > df.population_total) & (df.country == 'United States'), \n",
        "       ['country','time', 'cell_phones_total', 'population_total']].sort_values(\n",
        "    'time', ascending=False)[0:1]"
      ],
      "execution_count": 114,
      "outputs": [
        {
          "output_type": "execute_result",
          "data": {
            "text/html": [
              "<div>\n",
              "<style scoped>\n",
              "    .dataframe tbody tr th:only-of-type {\n",
              "        vertical-align: middle;\n",
              "    }\n",
              "\n",
              "    .dataframe tbody tr th {\n",
              "        vertical-align: top;\n",
              "    }\n",
              "\n",
              "    .dataframe thead th {\n",
              "        text-align: right;\n",
              "    }\n",
              "</style>\n",
              "<table border=\"1\" class=\"dataframe\">\n",
              "  <thead>\n",
              "    <tr style=\"text-align: right;\">\n",
              "      <th></th>\n",
              "      <th>country</th>\n",
              "      <th>time</th>\n",
              "      <th>cell_phones_total</th>\n",
              "      <th>population_total</th>\n",
              "    </tr>\n",
              "  </thead>\n",
              "  <tbody>\n",
              "    <tr>\n",
              "      <th>8134</th>\n",
              "      <td>United States</td>\n",
              "      <td>2017</td>\n",
              "      <td>395,881,000.0</td>\n",
              "      <td>324459463</td>\n",
              "    </tr>\n",
              "  </tbody>\n",
              "</table>\n",
              "</div>"
            ],
            "text/plain": [
              "            country  time  cell_phones_total  population_total\n",
              "8134  United States  2017      395,881,000.0         324459463"
            ]
          },
          "metadata": {
            "tags": []
          },
          "execution_count": 114
        }
      ]
    },
    {
      "metadata": {
        "id": "6J7iwMnTg8KZ",
        "colab_type": "text"
      },
      "cell_type": "markdown",
      "source": [
        "## Part 4. Reshape data"
      ]
    },
    {
      "metadata": {
        "id": "LP9InazRkUxG",
        "colab_type": "text"
      },
      "cell_type": "markdown",
      "source": [
        "Create a pivot table:\n",
        "- Columns: Years 2007—2017\n",
        "- Rows: China, India, United States, Indonesia, Brazil (order doesn't matter)\n",
        "- Values: Cell Phones Total\n",
        "\n",
        "The table's shape should be: (5, 11)"
      ]
    },
    {
      "metadata": {
        "id": "mYyoxS486PrW",
        "colab_type": "code",
        "colab": {
          "base_uri": "https://localhost:8080/",
          "height": 269
        },
        "outputId": "d06f907e-dfc8-45e2-ac26-cfcd2cb8452b"
      },
      "cell_type": "code",
      "source": [
        "countries = ['China', 'India', 'United States', 'Indonesia', 'Brazil']\n",
        "c = df.loc[df['country'].isin(countries)]\n",
        "t = df[df.time >= 2007]\n",
        "\n",
        "piv = pd.pivot_table(df, values='cell_phones_total', \n",
        "                index=c.country, columns=t.time)\n",
        "print(piv.shape)\n",
        "piv"
      ],
      "execution_count": 159,
      "outputs": [
        {
          "output_type": "stream",
          "text": [
            "(5, 11)\n"
          ],
          "name": "stdout"
        },
        {
          "output_type": "execute_result",
          "data": {
            "text/html": [
              "<div>\n",
              "<style scoped>\n",
              "    .dataframe tbody tr th:only-of-type {\n",
              "        vertical-align: middle;\n",
              "    }\n",
              "\n",
              "    .dataframe tbody tr th {\n",
              "        vertical-align: top;\n",
              "    }\n",
              "\n",
              "    .dataframe thead th {\n",
              "        text-align: right;\n",
              "    }\n",
              "</style>\n",
              "<table border=\"1\" class=\"dataframe\">\n",
              "  <thead>\n",
              "    <tr style=\"text-align: right;\">\n",
              "      <th>time</th>\n",
              "      <th>2007.0</th>\n",
              "      <th>2008.0</th>\n",
              "      <th>2009.0</th>\n",
              "      <th>2010.0</th>\n",
              "      <th>2011.0</th>\n",
              "      <th>2012.0</th>\n",
              "      <th>2013.0</th>\n",
              "      <th>2014.0</th>\n",
              "      <th>2015.0</th>\n",
              "      <th>2016.0</th>\n",
              "      <th>2017.0</th>\n",
              "    </tr>\n",
              "    <tr>\n",
              "      <th>country</th>\n",
              "      <th></th>\n",
              "      <th></th>\n",
              "      <th></th>\n",
              "      <th></th>\n",
              "      <th></th>\n",
              "      <th></th>\n",
              "      <th></th>\n",
              "      <th></th>\n",
              "      <th></th>\n",
              "      <th></th>\n",
              "      <th></th>\n",
              "    </tr>\n",
              "  </thead>\n",
              "  <tbody>\n",
              "    <tr>\n",
              "      <th>Brazil</th>\n",
              "      <td>120,980,103.0</td>\n",
              "      <td>150,641,403.0</td>\n",
              "      <td>169,385,584.0</td>\n",
              "      <td>196,929,978.0</td>\n",
              "      <td>234,357,507.0</td>\n",
              "      <td>248,323,703.0</td>\n",
              "      <td>271,099,799.0</td>\n",
              "      <td>280,728,796.0</td>\n",
              "      <td>257,814,274.0</td>\n",
              "      <td>244,067,356.0</td>\n",
              "      <td>236,488,548.0</td>\n",
              "    </tr>\n",
              "    <tr>\n",
              "      <th>China</th>\n",
              "      <td>547,306,000.0</td>\n",
              "      <td>641,245,000.0</td>\n",
              "      <td>747,214,000.0</td>\n",
              "      <td>859,003,000.0</td>\n",
              "      <td>986,253,000.0</td>\n",
              "      <td>1,112,155,000.0</td>\n",
              "      <td>1,229,113,000.0</td>\n",
              "      <td>1,286,093,000.0</td>\n",
              "      <td>1,291,984,200.0</td>\n",
              "      <td>1,364,934,000.0</td>\n",
              "      <td>1,474,097,000.0</td>\n",
              "    </tr>\n",
              "    <tr>\n",
              "      <th>India</th>\n",
              "      <td>233,620,000.0</td>\n",
              "      <td>346,890,000.0</td>\n",
              "      <td>525,090,000.0</td>\n",
              "      <td>752,190,000.0</td>\n",
              "      <td>893,862,478.0</td>\n",
              "      <td>864,720,917.0</td>\n",
              "      <td>886,304,245.0</td>\n",
              "      <td>944,008,677.0</td>\n",
              "      <td>1,001,056,000.0</td>\n",
              "      <td>1,127,809,000.0</td>\n",
              "      <td>1,168,902,277.0</td>\n",
              "    </tr>\n",
              "    <tr>\n",
              "      <th>Indonesia</th>\n",
              "      <td>93,386,881.0</td>\n",
              "      <td>140,578,243.0</td>\n",
              "      <td>163,676,961.0</td>\n",
              "      <td>211,290,235.0</td>\n",
              "      <td>249,805,619.0</td>\n",
              "      <td>281,963,665.0</td>\n",
              "      <td>313,226,914.0</td>\n",
              "      <td>325,582,819.0</td>\n",
              "      <td>338,948,340.0</td>\n",
              "      <td>385,573,398.0</td>\n",
              "      <td>458,923,202.0</td>\n",
              "    </tr>\n",
              "    <tr>\n",
              "      <th>United States</th>\n",
              "      <td>249,300,000.0</td>\n",
              "      <td>261,300,000.0</td>\n",
              "      <td>274,283,000.0</td>\n",
              "      <td>285,118,000.0</td>\n",
              "      <td>297,404,000.0</td>\n",
              "      <td>304,838,000.0</td>\n",
              "      <td>310,698,000.0</td>\n",
              "      <td>355,500,000.0</td>\n",
              "      <td>382,307,000.0</td>\n",
              "      <td>395,881,000.0</td>\n",
              "      <td>395,881,000.0</td>\n",
              "    </tr>\n",
              "  </tbody>\n",
              "</table>\n",
              "</div>"
            ],
            "text/plain": [
              "time                2,007.0       2,008.0       2,009.0       2,010.0  \\\n",
              "country                                                                 \n",
              "Brazil        120,980,103.0 150,641,403.0 169,385,584.0 196,929,978.0   \n",
              "China         547,306,000.0 641,245,000.0 747,214,000.0 859,003,000.0   \n",
              "India         233,620,000.0 346,890,000.0 525,090,000.0 752,190,000.0   \n",
              "Indonesia      93,386,881.0 140,578,243.0 163,676,961.0 211,290,235.0   \n",
              "United States 249,300,000.0 261,300,000.0 274,283,000.0 285,118,000.0   \n",
              "\n",
              "time                2,011.0         2,012.0         2,013.0         2,014.0  \\\n",
              "country                                                                       \n",
              "Brazil        234,357,507.0   248,323,703.0   271,099,799.0   280,728,796.0   \n",
              "China         986,253,000.0 1,112,155,000.0 1,229,113,000.0 1,286,093,000.0   \n",
              "India         893,862,478.0   864,720,917.0   886,304,245.0   944,008,677.0   \n",
              "Indonesia     249,805,619.0   281,963,665.0   313,226,914.0   325,582,819.0   \n",
              "United States 297,404,000.0   304,838,000.0   310,698,000.0   355,500,000.0   \n",
              "\n",
              "time                  2,015.0         2,016.0         2,017.0  \n",
              "country                                                        \n",
              "Brazil          257,814,274.0   244,067,356.0   236,488,548.0  \n",
              "China         1,291,984,200.0 1,364,934,000.0 1,474,097,000.0  \n",
              "India         1,001,056,000.0 1,127,809,000.0 1,168,902,277.0  \n",
              "Indonesia       338,948,340.0   385,573,398.0   458,923,202.0  \n",
              "United States   382,307,000.0   395,881,000.0   395,881,000.0  "
            ]
          },
          "metadata": {
            "tags": []
          },
          "execution_count": 159
        }
      ]
    },
    {
      "metadata": {
        "id": "CNKTu2DCnAo6",
        "colab_type": "text"
      },
      "cell_type": "markdown",
      "source": [
        "#### OPTIONAL BONUS QUESTION!\n",
        "\n",
        "Sort these 5 countries, by biggest increase in cell phones from 2007 to 2017.\n",
        "\n",
        "Which country had 935,282,277 more cell phones in 2017 versus 2007?"
      ]
    },
    {
      "metadata": {
        "id": "O4Aecv1fmQlj",
        "colab_type": "code",
        "colab": {
          "base_uri": "https://localhost:8080/",
          "height": 136
        },
        "outputId": "699c4f56-223c-48b8-e8a6-a7c88abcf89d"
      },
      "cell_type": "code",
      "source": [
        "diff = piv.diff(axis=1)\n",
        "diff_t = diff.sum(axis=1)\n",
        "diff = diff.fillna(0)\n",
        "diff_t.sort_values(ascending=False)\n",
        "\n",
        "# India"
      ],
      "execution_count": 185,
      "outputs": [
        {
          "output_type": "execute_result",
          "data": {
            "text/plain": [
              "country\n",
              "India           935,282,277.0\n",
              "China           926,791,000.0\n",
              "Indonesia       365,536,321.0\n",
              "United States   146,581,000.0\n",
              "Brazil          115,508,445.0\n",
              "dtype: float64"
            ]
          },
          "metadata": {
            "tags": []
          },
          "execution_count": 185
        }
      ]
    },
    {
      "metadata": {
        "id": "7iHkMsa3Rorh",
        "colab_type": "text"
      },
      "cell_type": "markdown",
      "source": [
        "If you have the time and curiosity, what other questions can you ask and answer with this data?"
      ]
    },
    {
      "metadata": {
        "id": "y1-FpI3gIZ3B",
        "colab_type": "text"
      },
      "cell_type": "markdown",
      "source": [
        "1. What variables might affect the increase or decrease in cellphones per year?"
      ]
    },
    {
      "metadata": {
        "id": "5MvEJjWiHe5Y",
        "colab_type": "code",
        "colab": {
          "base_uri": "https://localhost:8080/",
          "height": 173
        },
        "outputId": "5587f927-5b59-4fa2-ae70-8372ef18bf53"
      },
      "cell_type": "code",
      "source": [
        "df.corr()"
      ],
      "execution_count": 222,
      "outputs": [
        {
          "output_type": "execute_result",
          "data": {
            "text/html": [
              "<div>\n",
              "<style scoped>\n",
              "    .dataframe tbody tr th:only-of-type {\n",
              "        vertical-align: middle;\n",
              "    }\n",
              "\n",
              "    .dataframe tbody tr th {\n",
              "        vertical-align: top;\n",
              "    }\n",
              "\n",
              "    .dataframe thead th {\n",
              "        text-align: right;\n",
              "    }\n",
              "</style>\n",
              "<table border=\"1\" class=\"dataframe\">\n",
              "  <thead>\n",
              "    <tr style=\"text-align: right;\">\n",
              "      <th></th>\n",
              "      <th>time</th>\n",
              "      <th>cell_phones_total</th>\n",
              "      <th>population_total</th>\n",
              "      <th>cell_phone_perperson</th>\n",
              "    </tr>\n",
              "  </thead>\n",
              "  <tbody>\n",
              "    <tr>\n",
              "      <th>time</th>\n",
              "      <td>1.0</td>\n",
              "      <td>0.19277294532034245</td>\n",
              "      <td>0.050673067452834716</td>\n",
              "      <td>0.7059806546381839</td>\n",
              "    </tr>\n",
              "    <tr>\n",
              "      <th>cell_phones_total</th>\n",
              "      <td>0.19277294532034245</td>\n",
              "      <td>1.0</td>\n",
              "      <td>0.6060047451048629</td>\n",
              "      <td>0.2236632251900547</td>\n",
              "    </tr>\n",
              "    <tr>\n",
              "      <th>population_total</th>\n",
              "      <td>0.050673067452834716</td>\n",
              "      <td>0.6060047451048629</td>\n",
              "      <td>1.0</td>\n",
              "      <td>0.012532611903030734</td>\n",
              "    </tr>\n",
              "    <tr>\n",
              "      <th>cell_phone_perperson</th>\n",
              "      <td>0.7059806546381839</td>\n",
              "      <td>0.2236632251900547</td>\n",
              "      <td>0.012532611903030734</td>\n",
              "      <td>1.0</td>\n",
              "    </tr>\n",
              "  </tbody>\n",
              "</table>\n",
              "</div>"
            ],
            "text/plain": [
              "                                     time   cell_phones_total  \\\n",
              "time                                  1.0 0.19277294532034245   \n",
              "cell_phones_total     0.19277294532034245                 1.0   \n",
              "population_total     0.050673067452834716  0.6060047451048629   \n",
              "cell_phone_perperson   0.7059806546381839  0.2236632251900547   \n",
              "\n",
              "                         population_total  cell_phone_perperson  \n",
              "time                 0.050673067452834716    0.7059806546381839  \n",
              "cell_phones_total      0.6060047451048629    0.2236632251900547  \n",
              "population_total                      1.0  0.012532611903030734  \n",
              "cell_phone_perperson 0.012532611903030734                   1.0  "
            ]
          },
          "metadata": {
            "tags": []
          },
          "execution_count": 222
        }
      ]
    },
    {
      "metadata": {
        "id": "Q0xl3jl1SPxJ",
        "colab_type": "text"
      },
      "cell_type": "markdown",
      "source": [
        "2. Why do some countries only have certain years?"
      ]
    },
    {
      "metadata": {
        "id": "ZXFU445GO-c9",
        "colab_type": "code",
        "colab": {
          "base_uri": "https://localhost:8080/",
          "height": 359
        },
        "outputId": "7d41e621-446c-44a4-c4d8-1f1e92779e50"
      },
      "cell_type": "code",
      "source": [
        "# I would further investigate why some countries only have data for certain years\n",
        "# and how that might affect any further analyses of our data.\n",
        "\n",
        "df.time.value_counts().sort_index().plot(kind=\"bar\", color='black');"
      ],
      "execution_count": 228,
      "outputs": [
        {
          "output_type": "display_data",
          "data": {
            "image/png": "[encoded data removed]",
            "text/plain": [
              "<Figure size 576x396 with 1 Axes>"
            ]
          },
          "metadata": {
            "tags": []
          }
        }
      ]
    },
    {
      "metadata": {
        "id": "1rydbTl4S--R",
        "colab_type": "code",
        "colab": {}
      },
      "cell_type": "code",
      "source": [
        ""
      ],
      "execution_count": 0,
      "outputs": []
    }
  ]
}