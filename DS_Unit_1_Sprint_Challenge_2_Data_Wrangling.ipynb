{
  "nbformat": 4,
  "nbformat_minor": 0,
  "metadata": {
    "colab": {
      "name": "DS_Unit_1_Sprint_Challenge_2_Data_Wrangling.ipynb",
      "version": "0.3.2",
      "provenance": [],
      "collapsed_sections": [],
      "include_colab_link": true
    },
    "kernelspec": {
      "name": "python3",
      "display_name": "Python 3"
    }
  },
  "cells": [
    {
      "cell_type": "markdown",
      "metadata": {
        "id": "view-in-github",
        "colab_type": "text"
      },
      "source": [
        "<a href=\"https://colab.research.google.com/github/Granero0011/DS-Unit-1-Sprint-2-Data-Wrangling/blob/master/DS_Unit_1_Sprint_Challenge_2_Data_Wrangling.ipynb\" target=\"_parent\"><img src=\"https://colab.research.google.com/assets/colab-badge.svg\" alt=\"Open In Colab\"/></a>"
      ]
    },
    {
      "metadata": {
        "id": "4yMHi_PX9hEz",
        "colab_type": "text"
      },
      "cell_type": "markdown",
      "source": [
        "# Data Science Unit 1 Sprint Challenge 2\n",
        "\n",
        "## Data Wrangling\n",
        "\n",
        "In this Sprint Challenge you will use data from [Gapminder](https://www.gapminder.org/about-gapminder/), a Swedish non-profit co-founded by Hans Rosling. \"Gapminder produces free teaching resources making the world understandable based on reliable statistics.\"\n",
        "- [Cell phones (total), by country and year](https://raw.githubusercontent.com/open-numbers/ddf--gapminder--systema_globalis/master/ddf--datapoints--cell_phones_total--by--geo--time.csv)\n",
        "- [Population (total), by country and year](https://raw.githubusercontent.com/open-numbers/ddf--gapminder--systema_globalis/master/ddf--datapoints--population_total--by--geo--time.csv)\n",
        "- [Geo country codes](https://github.com/open-numbers/ddf--gapminder--systema_globalis/blob/master/ddf--entities--geo--country.csv)\n",
        "\n",
        "These two links have everything you need to successfully complete the Sprint Challenge!\n",
        "- [Pandas documentation: Working with Text Data](https://pandas.pydata.org/pandas-docs/stable/text.html]) (one question)\n",
        "- [Pandas Cheat Sheet](https://github.com/pandas-dev/pandas/blob/master/doc/cheatsheet/Pandas_Cheat_Sheet.pdf) (everything else)"
      ]
    },
    {
      "metadata": {
        "id": "wWEU2GemX68A",
        "colab_type": "text"
      },
      "cell_type": "markdown",
      "source": [
        "## Part 0. Load data\n",
        "\n",
        "You don't need to add or change anything here. Just run this cell and it loads the data for you, into three dataframes."
      ]
    },
    {
      "metadata": {
        "id": "bxKtSi5sRQOl",
        "colab_type": "code",
        "colab": {}
      },
      "cell_type": "code",
      "source": [
        "import pandas as pd\n",
        "\n",
        "cell_phones = pd.read_csv('https://raw.githubusercontent.com/open-numbers/ddf--gapminder--systema_globalis/master/ddf--datapoints--cell_phones_total--by--geo--time.csv')\n",
        "\n",
        "population = pd.read_csv('https://raw.githubusercontent.com/open-numbers/ddf--gapminder--systema_globalis/master/ddf--datapoints--population_total--by--geo--time.csv')\n",
        "\n",
        "geo_country_codes = (pd.read_csv('https://raw.githubusercontent.com/open-numbers/ddf--gapminder--systema_globalis/master/ddf--entities--geo--country.csv')\n",
        "                       .rename(columns={'country': 'geo', 'name': 'country'}))"
      ],
      "execution_count": 0,
      "outputs": []
    },
    {
      "metadata": {
        "id": "AZmVTeCsX9RC",
        "colab_type": "text"
      },
      "cell_type": "markdown",
      "source": [
        "## Part 1. Join data"
      ]
    },
    {
      "metadata": {
        "id": "GLzX58u4SfEy",
        "colab_type": "text"
      },
      "cell_type": "markdown",
      "source": [
        "First, join the `cell_phones` and `population` dataframes (with an inner join on `geo` and `time`).\n",
        "\n",
        "The resulting dataframe's shape should be: (8590, 4)"
      ]
    },
    {
      "metadata": {
        "id": "GVV7Hnj4SXBa",
        "colab_type": "code",
        "colab": {
          "base_uri": "https://localhost:8080/",
          "height": 204
        },
        "outputId": "fde74ee0-42c3-495c-8ce5-43da44c7c908"
      },
      "cell_type": "code",
      "source": [
        "cell_phones.head()"
      ],
      "execution_count": 2,
      "outputs": [
        {
          "output_type": "execute_result",
          "data": {
            "text/html": [
              "<div>\n",
              "<style scoped>\n",
              "    .dataframe tbody tr th:only-of-type {\n",
              "        vertical-align: middle;\n",
              "    }\n",
              "\n",
              "    .dataframe tbody tr th {\n",
              "        vertical-align: top;\n",
              "    }\n",
              "\n",
              "    .dataframe thead th {\n",
              "        text-align: right;\n",
              "    }\n",
              "</style>\n",
              "<table border=\"1\" class=\"dataframe\">\n",
              "  <thead>\n",
              "    <tr style=\"text-align: right;\">\n",
              "      <th></th>\n",
              "      <th>geo</th>\n",
              "      <th>time</th>\n",
              "      <th>cell_phones_total</th>\n",
              "    </tr>\n",
              "  </thead>\n",
              "  <tbody>\n",
              "    <tr>\n",
              "      <th>0</th>\n",
              "      <td>abw</td>\n",
              "      <td>1960</td>\n",
              "      <td>0.0</td>\n",
              "    </tr>\n",
              "    <tr>\n",
              "      <th>1</th>\n",
              "      <td>abw</td>\n",
              "      <td>1965</td>\n",
              "      <td>0.0</td>\n",
              "    </tr>\n",
              "    <tr>\n",
              "      <th>2</th>\n",
              "      <td>abw</td>\n",
              "      <td>1970</td>\n",
              "      <td>0.0</td>\n",
              "    </tr>\n",
              "    <tr>\n",
              "      <th>3</th>\n",
              "      <td>abw</td>\n",
              "      <td>1975</td>\n",
              "      <td>0.0</td>\n",
              "    </tr>\n",
              "    <tr>\n",
              "      <th>4</th>\n",
              "      <td>abw</td>\n",
              "      <td>1976</td>\n",
              "      <td>0.0</td>\n",
              "    </tr>\n",
              "  </tbody>\n",
              "</table>\n",
              "</div>"
            ],
            "text/plain": [
              "   geo  time  cell_phones_total\n",
              "0  abw  1960                0.0\n",
              "1  abw  1965                0.0\n",
              "2  abw  1970                0.0\n",
              "3  abw  1975                0.0\n",
              "4  abw  1976                0.0"
            ]
          },
          "metadata": {
            "tags": []
          },
          "execution_count": 2
        }
      ]
    },
    {
      "metadata": {
        "id": "AkxI0PDHYO5R",
        "colab_type": "code",
        "colab": {
          "base_uri": "https://localhost:8080/",
          "height": 204
        },
        "outputId": "f1aff4d3-3da1-45d9-ad75-1646938d0b6f"
      },
      "cell_type": "code",
      "source": [
        "population.head()"
      ],
      "execution_count": 3,
      "outputs": [
        {
          "output_type": "execute_result",
          "data": {
            "text/html": [
              "<div>\n",
              "<style scoped>\n",
              "    .dataframe tbody tr th:only-of-type {\n",
              "        vertical-align: middle;\n",
              "    }\n",
              "\n",
              "    .dataframe tbody tr th {\n",
              "        vertical-align: top;\n",
              "    }\n",
              "\n",
              "    .dataframe thead th {\n",
              "        text-align: right;\n",
              "    }\n",
              "</style>\n",
              "<table border=\"1\" class=\"dataframe\">\n",
              "  <thead>\n",
              "    <tr style=\"text-align: right;\">\n",
              "      <th></th>\n",
              "      <th>geo</th>\n",
              "      <th>time</th>\n",
              "      <th>population_total</th>\n",
              "    </tr>\n",
              "  </thead>\n",
              "  <tbody>\n",
              "    <tr>\n",
              "      <th>0</th>\n",
              "      <td>afg</td>\n",
              "      <td>1800</td>\n",
              "      <td>3280000</td>\n",
              "    </tr>\n",
              "    <tr>\n",
              "      <th>1</th>\n",
              "      <td>afg</td>\n",
              "      <td>1801</td>\n",
              "      <td>3280000</td>\n",
              "    </tr>\n",
              "    <tr>\n",
              "      <th>2</th>\n",
              "      <td>afg</td>\n",
              "      <td>1802</td>\n",
              "      <td>3280000</td>\n",
              "    </tr>\n",
              "    <tr>\n",
              "      <th>3</th>\n",
              "      <td>afg</td>\n",
              "      <td>1803</td>\n",
              "      <td>3280000</td>\n",
              "    </tr>\n",
              "    <tr>\n",
              "      <th>4</th>\n",
              "      <td>afg</td>\n",
              "      <td>1804</td>\n",
              "      <td>3280000</td>\n",
              "    </tr>\n",
              "  </tbody>\n",
              "</table>\n",
              "</div>"
            ],
            "text/plain": [
              "   geo  time  population_total\n",
              "0  afg  1800           3280000\n",
              "1  afg  1801           3280000\n",
              "2  afg  1802           3280000\n",
              "3  afg  1803           3280000\n",
              "4  afg  1804           3280000"
            ]
          },
          "metadata": {
            "tags": []
          },
          "execution_count": 3
        }
      ]
    },
    {
      "metadata": {
        "id": "aTcpoF_AYYwa",
        "colab_type": "code",
        "colab": {
          "base_uri": "https://localhost:8080/",
          "height": 34
        },
        "outputId": "db898d8f-653d-4dd4-e8fe-b3f09f0060cb"
      },
      "cell_type": "code",
      "source": [
        "#Let's merge the specific tables\n",
        "jointtable = pd.merge(cell_phones[[\"cell_phones_total\",'geo', 'time']], \n",
        "              population[['geo','time', 'population_total']])\n",
        "jointtable.shape"
      ],
      "execution_count": 5,
      "outputs": [
        {
          "output_type": "execute_result",
          "data": {
            "text/plain": [
              "(8590, 4)"
            ]
          },
          "metadata": {
            "tags": []
          },
          "execution_count": 5
        }
      ]
    },
    {
      "metadata": {
        "id": "xsXpDbwwW241",
        "colab_type": "text"
      },
      "cell_type": "markdown",
      "source": [
        "Then, select the `geo` and `country` columns from the `geo_country_codes` dataframe, and join with your population and cell phone data.\n",
        "\n",
        "The resulting dataframe's shape should be: (8590, 5)"
      ]
    },
    {
      "metadata": {
        "id": "Q2LaZta_W2CE",
        "colab_type": "code",
        "colab": {
          "base_uri": "https://localhost:8080/",
          "height": 204
        },
        "outputId": "a6a970a9-9552-4076-bd53-600005d1df0c"
      },
      "cell_type": "code",
      "source": [
        "jointtable.head()"
      ],
      "execution_count": 6,
      "outputs": [
        {
          "output_type": "execute_result",
          "data": {
            "text/html": [
              "<div>\n",
              "<style scoped>\n",
              "    .dataframe tbody tr th:only-of-type {\n",
              "        vertical-align: middle;\n",
              "    }\n",
              "\n",
              "    .dataframe tbody tr th {\n",
              "        vertical-align: top;\n",
              "    }\n",
              "\n",
              "    .dataframe thead th {\n",
              "        text-align: right;\n",
              "    }\n",
              "</style>\n",
              "<table border=\"1\" class=\"dataframe\">\n",
              "  <thead>\n",
              "    <tr style=\"text-align: right;\">\n",
              "      <th></th>\n",
              "      <th>cell_phones_total</th>\n",
              "      <th>geo</th>\n",
              "      <th>time</th>\n",
              "      <th>population_total</th>\n",
              "    </tr>\n",
              "  </thead>\n",
              "  <tbody>\n",
              "    <tr>\n",
              "      <th>0</th>\n",
              "      <td>0.0</td>\n",
              "      <td>afg</td>\n",
              "      <td>1960</td>\n",
              "      <td>8996351</td>\n",
              "    </tr>\n",
              "    <tr>\n",
              "      <th>1</th>\n",
              "      <td>0.0</td>\n",
              "      <td>afg</td>\n",
              "      <td>1965</td>\n",
              "      <td>9938414</td>\n",
              "    </tr>\n",
              "    <tr>\n",
              "      <th>2</th>\n",
              "      <td>0.0</td>\n",
              "      <td>afg</td>\n",
              "      <td>1970</td>\n",
              "      <td>11126123</td>\n",
              "    </tr>\n",
              "    <tr>\n",
              "      <th>3</th>\n",
              "      <td>0.0</td>\n",
              "      <td>afg</td>\n",
              "      <td>1975</td>\n",
              "      <td>12590286</td>\n",
              "    </tr>\n",
              "    <tr>\n",
              "      <th>4</th>\n",
              "      <td>0.0</td>\n",
              "      <td>afg</td>\n",
              "      <td>1976</td>\n",
              "      <td>12840299</td>\n",
              "    </tr>\n",
              "  </tbody>\n",
              "</table>\n",
              "</div>"
            ],
            "text/plain": [
              "   cell_phones_total  geo  time  population_total\n",
              "0                0.0  afg  1960           8996351\n",
              "1                0.0  afg  1965           9938414\n",
              "2                0.0  afg  1970          11126123\n",
              "3                0.0  afg  1975          12590286\n",
              "4                0.0  afg  1976          12840299"
            ]
          },
          "metadata": {
            "tags": []
          },
          "execution_count": 6
        }
      ]
    },
    {
      "metadata": {
        "id": "xvD5MXlgZtAm",
        "colab_type": "code",
        "colab": {}
      },
      "cell_type": "code",
      "source": [
        "jointtable2 = pd.merge(jointtable[[\"cell_phones_total\",'population_total','time','geo']], \n",
        "              geo_country_codes[['geo','country']])"
      ],
      "execution_count": 0,
      "outputs": []
    },
    {
      "metadata": {
        "id": "8RKkjJoIaJVW",
        "colab_type": "code",
        "colab": {
          "base_uri": "https://localhost:8080/",
          "height": 34
        },
        "outputId": "93b7d76b-08c5-4cbf-fd32-a1653d99805d"
      },
      "cell_type": "code",
      "source": [
        "#Check the shape\n",
        "jointtable2.shape"
      ],
      "execution_count": 8,
      "outputs": [
        {
          "output_type": "execute_result",
          "data": {
            "text/plain": [
              "(8590, 5)"
            ]
          },
          "metadata": {
            "tags": []
          },
          "execution_count": 8
        }
      ]
    },
    {
      "metadata": {
        "id": "SxtIkqBpaUee",
        "colab_type": "code",
        "colab": {
          "base_uri": "https://localhost:8080/",
          "height": 1105
        },
        "outputId": "49dd6482-3151-4189-cd26-5b62b6cb4f29"
      },
      "cell_type": "code",
      "source": [
        "print(jointtable2)"
      ],
      "execution_count": 9,
      "outputs": [
        {
          "output_type": "stream",
          "text": [
            "      cell_phones_total  population_total  time  geo      country\n",
            "0                   0.0           8996351  1960  afg  Afghanistan\n",
            "1                   0.0           9938414  1965  afg  Afghanistan\n",
            "2                   0.0          11126123  1970  afg  Afghanistan\n",
            "3                   0.0          12590286  1975  afg  Afghanistan\n",
            "4                   0.0          12840299  1976  afg  Afghanistan\n",
            "5                   0.0          13067538  1977  afg  Afghanistan\n",
            "6                   0.0          13237734  1978  afg  Afghanistan\n",
            "7                   0.0          13306695  1979  afg  Afghanistan\n",
            "8                   0.0          13248370  1980  afg  Afghanistan\n",
            "9                   0.0          13053954  1981  afg  Afghanistan\n",
            "10                  0.0          12749645  1982  afg  Afghanistan\n",
            "11                  0.0          12389269  1983  afg  Afghanistan\n",
            "12                  0.0          12047115  1984  afg  Afghanistan\n",
            "13                  0.0          11783050  1985  afg  Afghanistan\n",
            "14                  0.0          11601041  1986  afg  Afghanistan\n",
            "15                  0.0          11502761  1987  afg  Afghanistan\n",
            "16                  0.0          11540888  1988  afg  Afghanistan\n",
            "17                  0.0          11777609  1989  afg  Afghanistan\n",
            "18                  0.0          12249114  1990  afg  Afghanistan\n",
            "19                  0.0          12993657  1991  afg  Afghanistan\n",
            "20                  0.0          13981231  1992  afg  Afghanistan\n",
            "21                  0.0          15095099  1993  afg  Afghanistan\n",
            "22                  0.0          16172719  1994  afg  Afghanistan\n",
            "23                  0.0          17099541  1995  afg  Afghanistan\n",
            "24                  0.0          17822884  1996  afg  Afghanistan\n",
            "25                  0.0          18381605  1997  afg  Afghanistan\n",
            "26                  0.0          18863999  1998  afg  Afghanistan\n",
            "27                  0.0          19403676  1999  afg  Afghanistan\n",
            "28                  0.0          20093756  2000  afg  Afghanistan\n",
            "29                  0.0          20966463  2001  afg  Afghanistan\n",
            "...                 ...               ...   ...  ...          ...\n",
            "8560                0.0           9604302  1988  zwe     Zimbabwe\n",
            "8561                0.0           9902540  1989  zwe     Zimbabwe\n",
            "8562                0.0          10183113  1990  zwe     Zimbabwe\n",
            "8563                0.0          10443043  1991  zwe     Zimbabwe\n",
            "8564                0.0          10682868  1992  zwe     Zimbabwe\n",
            "8565                0.0          10905756  1993  zwe     Zimbabwe\n",
            "8566                0.0          11116948  1994  zwe     Zimbabwe\n",
            "8567                0.0          11320346  1995  zwe     Zimbabwe\n",
            "8568                0.0          11518262  1996  zwe     Zimbabwe\n",
            "8569             5734.0          11709997  1997  zwe     Zimbabwe\n",
            "8570            19000.0          11893272  1998  zwe     Zimbabwe\n",
            "8571           174000.0          12064537  1999  zwe     Zimbabwe\n",
            "8572           266441.0          12222251  2000  zwe     Zimbabwe\n",
            "8573           314002.0          12366165  2001  zwe     Zimbabwe\n",
            "8574           338779.0          12500525  2002  zwe     Zimbabwe\n",
            "8575           363651.0          12633897  2003  zwe     Zimbabwe\n",
            "8576           425745.0          12777511  2004  zwe     Zimbabwe\n",
            "8577           647110.0          12940032  2005  zwe     Zimbabwe\n",
            "8578           849146.0          13124267  2006  zwe     Zimbabwe\n",
            "8579          1225654.0          13329909  2007  zwe     Zimbabwe\n",
            "8580          1654721.0          13558469  2008  zwe     Zimbabwe\n",
            "8581          3991000.0          13810599  2009  zwe     Zimbabwe\n",
            "8582          7700000.0          14086317  2010  zwe     Zimbabwe\n",
            "8583          9200000.0          14386649  2011  zwe     Zimbabwe\n",
            "8584         12613935.0          14710826  2012  zwe     Zimbabwe\n",
            "8585         13633167.0          15054506  2013  zwe     Zimbabwe\n",
            "8586         11798652.0          15411675  2014  zwe     Zimbabwe\n",
            "8587         12757410.0          15777451  2015  zwe     Zimbabwe\n",
            "8588         12878926.0          16150362  2016  zwe     Zimbabwe\n",
            "8589         14092104.0          16529904  2017  zwe     Zimbabwe\n",
            "\n",
            "[8590 rows x 5 columns]\n"
          ],
          "name": "stdout"
        }
      ]
    },
    {
      "metadata": {
        "id": "oK96Uj7vYjFX",
        "colab_type": "text"
      },
      "cell_type": "markdown",
      "source": [
        "## Part 2. Make features"
      ]
    },
    {
      "metadata": {
        "id": "AD2fBNrOYzCG",
        "colab_type": "text"
      },
      "cell_type": "markdown",
      "source": [
        "Calculate the number of cell phones per person, and add this column onto your dataframe.\n",
        "\n",
        "(You've calculated correctly if you get 1.220 cell phones per person in the United States in 2017.)"
      ]
    },
    {
      "metadata": {
        "id": "wXI9nQthYnFK",
        "colab_type": "code",
        "colab": {}
      },
      "cell_type": "code",
      "source": [
        "import numpy as np\n",
        "#Let's calculate number of cell phones per person\n",
        "jointtable2['cell_phones_per_person']=jointtable2[\"cell_phones_total\"]/jointtable2['population_total']"
      ],
      "execution_count": 0,
      "outputs": []
    },
    {
      "metadata": {
        "id": "f0AEpxN-bo9m",
        "colab_type": "code",
        "colab": {
          "base_uri": "https://localhost:8080/",
          "height": 1530
        },
        "outputId": "ea61e1ed-beb3-429c-a834-bbf594ddc7fc"
      },
      "cell_type": "code",
      "source": [
        "print(jointtable2[jointtable2['country']=='United States'])"
      ],
      "execution_count": 119,
      "outputs": [
        {
          "output_type": "stream",
          "text": [
            "      cell_phones_total  population_total  time  geo        country  \\\n",
            "8092                0.0         186808228  1960  Usa  United States   \n",
            "8093                0.0         199815540  1965  Usa  United States   \n",
            "8094                0.0         209588150  1970  Usa  United States   \n",
            "8095                0.0         219205296  1975  Usa  United States   \n",
            "8096                0.0         221239215  1976  Usa  United States   \n",
            "8097                0.0         223324042  1977  Usa  United States   \n",
            "8098                0.0         225449657  1978  Usa  United States   \n",
            "8099                0.0         227599878  1979  Usa  United States   \n",
            "8100                0.0         229763052  1980  Usa  United States   \n",
            "8101            91600.0         238573861  1984  Usa  United States   \n",
            "8102           340213.0         240824120  1985  Usa  United States   \n",
            "8103           681825.0         243098935  1986  Usa  United States   \n",
            "8104          1230855.0         245402864  1987  Usa  United States   \n",
            "8105          2069441.0         247739582  1988  Usa  United States   \n",
            "8106          3508944.0         250113187  1989  Usa  United States   \n",
            "8107          5283055.0         252529950  1990  Usa  United States   \n",
            "8108          7557148.0         254974819  1991  Usa  United States   \n",
            "8109         11032753.0         257454273  1992  Usa  United States   \n",
            "8110         16009461.0         260020186  1993  Usa  United States   \n",
            "8111         24134421.0         262741566  1994  Usa  United States   \n",
            "8112         33785661.0         265658849  1995  Usa  United States   \n",
            "8113         44042992.0         268803424  1996  Usa  United States   \n",
            "8114         55312293.0         272136551  1997  Usa  United States   \n",
            "8115         69209321.0         275542603  1998  Usa  United States   \n",
            "8116         86047003.0         278862277  1999  Usa  United States   \n",
            "8117        109478031.0         281982778  2000  Usa  United States   \n",
            "8118        128500000.0         284852391  2001  Usa  United States   \n",
            "8119        141800000.0         287506847  2002  Usa  United States   \n",
            "8120        160637000.0         290027624  2003  Usa  United States   \n",
            "8121        184819000.0         292539324  2004  Usa  United States   \n",
            "8122        203700000.0         295129501  2005  Usa  United States   \n",
            "8123        229600000.0         297827356  2006  Usa  United States   \n",
            "8124        249300000.0         300595175  2007  Usa  United States   \n",
            "8125        261300000.0         303374067  2008  Usa  United States   \n",
            "8126        274283000.0         306076362  2009  Usa  United States   \n",
            "8127        285118000.0         308641391  2010  Usa  United States   \n",
            "8128        297404000.0         311051373  2011  Usa  United States   \n",
            "8129        304838000.0         313335423  2012  Usa  United States   \n",
            "8130        310698000.0         315536676  2013  Usa  United States   \n",
            "8131        355500000.0         317718779  2014  Usa  United States   \n",
            "8132        382307000.0         319929162  2015  Usa  United States   \n",
            "8133        395881000.0         322179605  2016  Usa  United States   \n",
            "8134        395881000.0         324459463  2017  Usa  United States   \n",
            "\n",
            "      cell_phones_per_person  \n",
            "8092                0.000000  \n",
            "8093                0.000000  \n",
            "8094                0.000000  \n",
            "8095                0.000000  \n",
            "8096                0.000000  \n",
            "8097                0.000000  \n",
            "8098                0.000000  \n",
            "8099                0.000000  \n",
            "8100                0.000000  \n",
            "8101                0.000384  \n",
            "8102                0.001413  \n",
            "8103                0.002805  \n",
            "8104                0.005016  \n",
            "8105                0.008353  \n",
            "8106                0.014029  \n",
            "8107                0.020921  \n",
            "8108                0.029639  \n",
            "8109                0.042853  \n",
            "8110                0.061570  \n",
            "8111                0.091856  \n",
            "8112                0.127177  \n",
            "8113                0.163848  \n",
            "8114                0.203252  \n",
            "8115                0.251175  \n",
            "8116                0.308565  \n",
            "8117                0.388244  \n",
            "8118                0.451111  \n",
            "8119                0.493206  \n",
            "8120                0.553868  \n",
            "8121                0.631775  \n",
            "8122                0.690205  \n",
            "8123                0.770916  \n",
            "8124                0.829355  \n",
            "8125                0.861313  \n",
            "8126                0.896126  \n",
            "8127                0.923784  \n",
            "8128                0.956125  \n",
            "8129                0.972881  \n",
            "8130                0.984665  \n",
            "8131                1.118914  \n",
            "8132                1.194974  \n",
            "8133                1.228759  \n",
            "8134                1.220125  \n"
          ],
          "name": "stdout"
        }
      ]
    },
    {
      "metadata": {
        "id": "S3QFdsnRZMH6",
        "colab_type": "text"
      },
      "cell_type": "markdown",
      "source": [
        "Modify the `geo` column to make the geo codes uppercase instead of lowercase."
      ]
    },
    {
      "metadata": {
        "id": "93ADij8_YkOq",
        "colab_type": "code",
        "colab": {
          "base_uri": "https://localhost:8080/",
          "height": 238
        },
        "outputId": "4cecb2aa-6f7b-4966-9609-1e9f02adb584"
      },
      "cell_type": "code",
      "source": [
        "#Upgrade to upper cases\n",
        "jointtable2['geo']=jointtable2['geo'].str.upper()\n",
        "print(jointtable2.head())"
      ],
      "execution_count": 159,
      "outputs": [
        {
          "output_type": "stream",
          "text": [
            "   cell_phones_total  population_total  time  geo      country  \\\n",
            "0                0.0           8996351  1960  AFG  Afghanistan   \n",
            "1                0.0           9938414  1965  AFG  Afghanistan   \n",
            "2                0.0          11126123  1970  AFG  Afghanistan   \n",
            "3                0.0          12590286  1975  AFG  Afghanistan   \n",
            "4                0.0          12840299  1976  AFG  Afghanistan   \n",
            "\n",
            "   cell_phones_per_person  \n",
            "0                     0.0  \n",
            "1                     0.0  \n",
            "2                     0.0  \n",
            "3                     0.0  \n",
            "4                     0.0  \n"
          ],
          "name": "stdout"
        }
      ]
    },
    {
      "metadata": {
        "id": "hlPDAFCfaF6C",
        "colab_type": "text"
      },
      "cell_type": "markdown",
      "source": [
        "## Part 3. Process data"
      ]
    },
    {
      "metadata": {
        "id": "k-pudNWve2SQ",
        "colab_type": "text"
      },
      "cell_type": "markdown",
      "source": [
        "Use the describe function, to describe your dataframe's numeric columns, and then its non-numeric columns.\n",
        "\n",
        "(You'll see the time period ranges from 1960 to 2017, and there are 195 unique countries represented.)"
      ]
    },
    {
      "metadata": {
        "id": "nYiDLw0OghEb",
        "colab_type": "code",
        "colab": {
          "base_uri": "https://localhost:8080/",
          "height": 297
        },
        "outputId": "5777b0ed-c39a-40c1-803c-6e5ce6f33add"
      },
      "cell_type": "code",
      "source": [
        "jointtable2.describe()"
      ],
      "execution_count": 162,
      "outputs": [
        {
          "output_type": "execute_result",
          "data": {
            "text/html": [
              "<div>\n",
              "<style scoped>\n",
              "    .dataframe tbody tr th:only-of-type {\n",
              "        vertical-align: middle;\n",
              "    }\n",
              "\n",
              "    .dataframe tbody tr th {\n",
              "        vertical-align: top;\n",
              "    }\n",
              "\n",
              "    .dataframe thead th {\n",
              "        text-align: right;\n",
              "    }\n",
              "</style>\n",
              "<table border=\"1\" class=\"dataframe\">\n",
              "  <thead>\n",
              "    <tr style=\"text-align: right;\">\n",
              "      <th></th>\n",
              "      <th>cell_phones_total</th>\n",
              "      <th>population_total</th>\n",
              "      <th>time</th>\n",
              "      <th>cell_phones_per_person</th>\n",
              "    </tr>\n",
              "  </thead>\n",
              "  <tbody>\n",
              "    <tr>\n",
              "      <th>count</th>\n",
              "      <td>8.590000e+03</td>\n",
              "      <td>8.590000e+03</td>\n",
              "      <td>8590.000000</td>\n",
              "      <td>8590.000000</td>\n",
              "    </tr>\n",
              "    <tr>\n",
              "      <th>mean</th>\n",
              "      <td>9.004950e+06</td>\n",
              "      <td>2.983823e+07</td>\n",
              "      <td>1994.193481</td>\n",
              "      <td>0.279639</td>\n",
              "    </tr>\n",
              "    <tr>\n",
              "      <th>std</th>\n",
              "      <td>5.573408e+07</td>\n",
              "      <td>1.161284e+08</td>\n",
              "      <td>14.257975</td>\n",
              "      <td>0.454247</td>\n",
              "    </tr>\n",
              "    <tr>\n",
              "      <th>min</th>\n",
              "      <td>0.000000e+00</td>\n",
              "      <td>4.433000e+03</td>\n",
              "      <td>1960.000000</td>\n",
              "      <td>0.000000</td>\n",
              "    </tr>\n",
              "    <tr>\n",
              "      <th>25%</th>\n",
              "      <td>0.000000e+00</td>\n",
              "      <td>1.456148e+06</td>\n",
              "      <td>1983.000000</td>\n",
              "      <td>0.000000</td>\n",
              "    </tr>\n",
              "    <tr>\n",
              "      <th>50%</th>\n",
              "      <td>6.200000e+03</td>\n",
              "      <td>5.725062e+06</td>\n",
              "      <td>1995.000000</td>\n",
              "      <td>0.001564</td>\n",
              "    </tr>\n",
              "    <tr>\n",
              "      <th>75%</th>\n",
              "      <td>1.697652e+06</td>\n",
              "      <td>1.810581e+07</td>\n",
              "      <td>2006.000000</td>\n",
              "      <td>0.461149</td>\n",
              "    </tr>\n",
              "    <tr>\n",
              "      <th>max</th>\n",
              "      <td>1.474097e+09</td>\n",
              "      <td>1.409517e+09</td>\n",
              "      <td>2017.000000</td>\n",
              "      <td>2.490243</td>\n",
              "    </tr>\n",
              "  </tbody>\n",
              "</table>\n",
              "</div>"
            ],
            "text/plain": [
              "       cell_phones_total  population_total         time  \\\n",
              "count       8.590000e+03      8.590000e+03  8590.000000   \n",
              "mean        9.004950e+06      2.983823e+07  1994.193481   \n",
              "std         5.573408e+07      1.161284e+08    14.257975   \n",
              "min         0.000000e+00      4.433000e+03  1960.000000   \n",
              "25%         0.000000e+00      1.456148e+06  1983.000000   \n",
              "50%         6.200000e+03      5.725062e+06  1995.000000   \n",
              "75%         1.697652e+06      1.810581e+07  2006.000000   \n",
              "max         1.474097e+09      1.409517e+09  2017.000000   \n",
              "\n",
              "       cell_phones_per_person  \n",
              "count             8590.000000  \n",
              "mean                 0.279639  \n",
              "std                  0.454247  \n",
              "min                  0.000000  \n",
              "25%                  0.000000  \n",
              "50%                  0.001564  \n",
              "75%                  0.461149  \n",
              "max                  2.490243  "
            ]
          },
          "metadata": {
            "tags": []
          },
          "execution_count": 162
        }
      ]
    },
    {
      "metadata": {
        "id": "H3-4cm3ih4xr",
        "colab_type": "code",
        "colab": {
          "base_uri": "https://localhost:8080/",
          "height": 102
        },
        "outputId": "25cdb71e-9b62-4067-8cff-467a8785c50f"
      },
      "cell_type": "code",
      "source": [
        "jointtable2['country'].describe()"
      ],
      "execution_count": 26,
      "outputs": [
        {
          "output_type": "execute_result",
          "data": {
            "text/plain": [
              "count        8590\n",
              "unique        195\n",
              "top       Romania\n",
              "freq           46\n",
              "Name: country, dtype: object"
            ]
          },
          "metadata": {
            "tags": []
          },
          "execution_count": 26
        }
      ]
    },
    {
      "metadata": {
        "id": "zALg-RrYaLcI",
        "colab_type": "text"
      },
      "cell_type": "markdown",
      "source": [
        "In 2017, what were the top 5 countries with the most cell phones total?\n",
        "\n",
        "Your list of countries should have these totals:\n",
        "\n",
        "| country | cell phones total |\n",
        "|:-------:|:-----------------:|\n",
        "|    ?    |     1,474,097,000 |\n",
        "|    ?    |     1,168,902,277 |\n",
        "|    ?    |       458,923,202 |\n",
        "|    ?    |       395,881,000 |\n",
        "|    ?    |       236,488,548 |\n",
        "\n"
      ]
    },
    {
      "metadata": {
        "id": "JdlWvezHaZxD",
        "colab_type": "code",
        "colab": {}
      },
      "cell_type": "code",
      "source": [
        "# This optional code formats float numbers with comma separators\n",
        "pd.options.display.float_format = '{:,}'.format"
      ],
      "execution_count": 0,
      "outputs": []
    },
    {
      "metadata": {
        "id": "smX8vzu4cyju",
        "colab_type": "code",
        "colab": {
          "base_uri": "https://localhost:8080/",
          "height": 204
        },
        "outputId": "b24af877-723e-44fc-e825-df68a2c8b881"
      },
      "cell_type": "code",
      "source": [
        "#Filter by date\n",
        "f= jointtable2[jointtable2['time']==2017]\n",
        "df=pd.DataFrame()\n",
        "df['country']=f['country']\n",
        "df['cell_phones_total']=f['cell_phones_total']\n",
        "\n",
        "#Sort the values\n",
        "df.sort_values(\"cell_phones_total\", inplace = True, ascending=False) \n",
        "df.head(5)"
      ],
      "execution_count": 69,
      "outputs": [
        {
          "output_type": "execute_result",
          "data": {
            "text/html": [
              "<div>\n",
              "<style scoped>\n",
              "    .dataframe tbody tr th:only-of-type {\n",
              "        vertical-align: middle;\n",
              "    }\n",
              "\n",
              "    .dataframe tbody tr th {\n",
              "        vertical-align: top;\n",
              "    }\n",
              "\n",
              "    .dataframe thead th {\n",
              "        text-align: right;\n",
              "    }\n",
              "</style>\n",
              "<table border=\"1\" class=\"dataframe\">\n",
              "  <thead>\n",
              "    <tr style=\"text-align: right;\">\n",
              "      <th></th>\n",
              "      <th>country</th>\n",
              "      <th>cell_phones_total</th>\n",
              "    </tr>\n",
              "  </thead>\n",
              "  <tbody>\n",
              "    <tr>\n",
              "      <th>1496</th>\n",
              "      <td>China</td>\n",
              "      <td>1.474097e+09</td>\n",
              "    </tr>\n",
              "    <tr>\n",
              "      <th>3595</th>\n",
              "      <td>India</td>\n",
              "      <td>1.168902e+09</td>\n",
              "    </tr>\n",
              "    <tr>\n",
              "      <th>3549</th>\n",
              "      <td>Indonesia</td>\n",
              "      <td>4.589232e+08</td>\n",
              "    </tr>\n",
              "    <tr>\n",
              "      <th>8134</th>\n",
              "      <td>United States</td>\n",
              "      <td>3.958810e+08</td>\n",
              "    </tr>\n",
              "    <tr>\n",
              "      <th>1084</th>\n",
              "      <td>Brazil</td>\n",
              "      <td>2.364885e+08</td>\n",
              "    </tr>\n",
              "  </tbody>\n",
              "</table>\n",
              "</div>"
            ],
            "text/plain": [
              "            country  cell_phones_total\n",
              "1496          China       1.474097e+09\n",
              "3595          India       1.168902e+09\n",
              "3549      Indonesia       4.589232e+08\n",
              "8134  United States       3.958810e+08\n",
              "1084         Brazil       2.364885e+08"
            ]
          },
          "metadata": {
            "tags": []
          },
          "execution_count": 69
        }
      ]
    },
    {
      "metadata": {
        "id": "03V3Wln_h0dj",
        "colab_type": "text"
      },
      "cell_type": "markdown",
      "source": [
        "2017 was the first year that China had more cell phones than people.\n",
        "\n",
        "What was the first year that the USA had more cell phones than people?"
      ]
    },
    {
      "metadata": {
        "id": "KONQkQZ3haNC",
        "colab_type": "code",
        "colab": {
          "base_uri": "https://localhost:8080/",
          "height": 204
        },
        "outputId": "d93b84c8-476d-45a2-ba1f-a1bb7765bfeb"
      },
      "cell_type": "code",
      "source": [
        "import numpy as np\n",
        "u=jointtable2[jointtable2['country']=='United States']\n",
        "u['diff']=u['cell_phones_total']-u['population_total']\n",
        "print(u[u['diff']>0].head(1))\n",
        "\n",
        "#It is 2014"
      ],
      "execution_count": 87,
      "outputs": [
        {
          "output_type": "stream",
          "text": [
            "      cell_phones_total  population_total  time  geo        country  \\\n",
            "8131        355500000.0         317718779  2014  Usa  United States   \n",
            "\n",
            "            diff  \n",
            "8131  37781221.0  \n"
          ],
          "name": "stdout"
        },
        {
          "output_type": "stream",
          "text": [
            "/usr/local/lib/python3.6/dist-packages/ipykernel_launcher.py:3: SettingWithCopyWarning: \n",
            "A value is trying to be set on a copy of a slice from a DataFrame.\n",
            "Try using .loc[row_indexer,col_indexer] = value instead\n",
            "\n",
            "See the caveats in the documentation: http://pandas.pydata.org/pandas-docs/stable/indexing.html#indexing-view-versus-copy\n",
            "  This is separate from the ipykernel package so we can avoid doing imports until\n"
          ],
          "name": "stderr"
        }
      ]
    },
    {
      "metadata": {
        "id": "6J7iwMnTg8KZ",
        "colab_type": "text"
      },
      "cell_type": "markdown",
      "source": [
        "## Part 4. Reshape data"
      ]
    },
    {
      "metadata": {
        "id": "LP9InazRkUxG",
        "colab_type": "text"
      },
      "cell_type": "markdown",
      "source": [
        "Create a pivot table:\n",
        "- Columns: Years 2007—2017\n",
        "- Rows: China, India, United States, Indonesia, Brazil (order doesn't matter)\n",
        "- Values: Cell Phones Total\n",
        "\n",
        "The table's shape should be: (5, 11)"
      ]
    },
    {
      "metadata": {
        "id": "JD7mXXjLj4Ue",
        "colab_type": "code",
        "colab": {
          "base_uri": "https://localhost:8080/",
          "height": 204
        },
        "outputId": "d1358486-8fcc-494a-ea5d-9474d0fd3f4e"
      },
      "cell_type": "code",
      "source": [
        "#Let's get each country's data\n",
        "#Starting with China\n",
        "v1=jointtable2[jointtable2['time']>=2007] \n",
        "vc1=v1[v1['country']=='China']\n",
        "vc1.reset_index(inplace=True)\n",
        "vc1.head()"
      ],
      "execution_count": 122,
      "outputs": [
        {
          "output_type": "execute_result",
          "data": {
            "text/html": [
              "<div>\n",
              "<style scoped>\n",
              "    .dataframe tbody tr th:only-of-type {\n",
              "        vertical-align: middle;\n",
              "    }\n",
              "\n",
              "    .dataframe tbody tr th {\n",
              "        vertical-align: top;\n",
              "    }\n",
              "\n",
              "    .dataframe thead th {\n",
              "        text-align: right;\n",
              "    }\n",
              "</style>\n",
              "<table border=\"1\" class=\"dataframe\">\n",
              "  <thead>\n",
              "    <tr style=\"text-align: right;\">\n",
              "      <th></th>\n",
              "      <th>index</th>\n",
              "      <th>cell_phones_total</th>\n",
              "      <th>population_total</th>\n",
              "      <th>time</th>\n",
              "      <th>geo</th>\n",
              "      <th>country</th>\n",
              "      <th>cell_phones_per_person</th>\n",
              "    </tr>\n",
              "  </thead>\n",
              "  <tbody>\n",
              "    <tr>\n",
              "      <th>0</th>\n",
              "      <td>1486</td>\n",
              "      <td>547306000.0</td>\n",
              "      <td>1336800506</td>\n",
              "      <td>2007</td>\n",
              "      <td>Chn</td>\n",
              "      <td>China</td>\n",
              "      <td>0.409415</td>\n",
              "    </tr>\n",
              "    <tr>\n",
              "      <th>1</th>\n",
              "      <td>1487</td>\n",
              "      <td>641245000.0</td>\n",
              "      <td>1344415227</td>\n",
              "      <td>2008</td>\n",
              "      <td>Chn</td>\n",
              "      <td>China</td>\n",
              "      <td>0.476969</td>\n",
              "    </tr>\n",
              "    <tr>\n",
              "      <th>2</th>\n",
              "      <td>1488</td>\n",
              "      <td>747214000.0</td>\n",
              "      <td>1352068091</td>\n",
              "      <td>2009</td>\n",
              "      <td>Chn</td>\n",
              "      <td>China</td>\n",
              "      <td>0.552645</td>\n",
              "    </tr>\n",
              "    <tr>\n",
              "      <th>3</th>\n",
              "      <td>1489</td>\n",
              "      <td>859003000.0</td>\n",
              "      <td>1359755102</td>\n",
              "      <td>2010</td>\n",
              "      <td>Chn</td>\n",
              "      <td>China</td>\n",
              "      <td>0.631734</td>\n",
              "    </tr>\n",
              "    <tr>\n",
              "      <th>4</th>\n",
              "      <td>1490</td>\n",
              "      <td>986253000.0</td>\n",
              "      <td>1367480264</td>\n",
              "      <td>2011</td>\n",
              "      <td>Chn</td>\n",
              "      <td>China</td>\n",
              "      <td>0.721219</td>\n",
              "    </tr>\n",
              "  </tbody>\n",
              "</table>\n",
              "</div>"
            ],
            "text/plain": [
              "   index  cell_phones_total  population_total  time  geo country  \\\n",
              "0   1486        547306000.0        1336800506  2007  Chn   China   \n",
              "1   1487        641245000.0        1344415227  2008  Chn   China   \n",
              "2   1488        747214000.0        1352068091  2009  Chn   China   \n",
              "3   1489        859003000.0        1359755102  2010  Chn   China   \n",
              "4   1490        986253000.0        1367480264  2011  Chn   China   \n",
              "\n",
              "   cell_phones_per_person  \n",
              "0                0.409415  \n",
              "1                0.476969  \n",
              "2                0.552645  \n",
              "3                0.631734  \n",
              "4                0.721219  "
            ]
          },
          "metadata": {
            "tags": []
          },
          "execution_count": 122
        }
      ]
    },
    {
      "metadata": {
        "id": "QkPm7JA5IRyy",
        "colab_type": "code",
        "colab": {
          "base_uri": "https://localhost:8080/",
          "height": 204
        },
        "outputId": "2986ab5c-7113-44e3-e232-d290468dc463"
      },
      "cell_type": "code",
      "source": [
        "#India\n",
        "v2=jointtable2[jointtable2['time']>=2007] \n",
        "vc2=v2[v2['country']=='India']\n",
        "vc2.reset_index(inplace=True)\n",
        "vc2.head()"
      ],
      "execution_count": 127,
      "outputs": [
        {
          "output_type": "execute_result",
          "data": {
            "text/html": [
              "<div>\n",
              "<style scoped>\n",
              "    .dataframe tbody tr th:only-of-type {\n",
              "        vertical-align: middle;\n",
              "    }\n",
              "\n",
              "    .dataframe tbody tr th {\n",
              "        vertical-align: top;\n",
              "    }\n",
              "\n",
              "    .dataframe thead th {\n",
              "        text-align: right;\n",
              "    }\n",
              "</style>\n",
              "<table border=\"1\" class=\"dataframe\">\n",
              "  <thead>\n",
              "    <tr style=\"text-align: right;\">\n",
              "      <th></th>\n",
              "      <th>index</th>\n",
              "      <th>cell_phones_total</th>\n",
              "      <th>population_total</th>\n",
              "      <th>time</th>\n",
              "      <th>geo</th>\n",
              "      <th>country</th>\n",
              "      <th>cell_phones_per_person</th>\n",
              "    </tr>\n",
              "  </thead>\n",
              "  <tbody>\n",
              "    <tr>\n",
              "      <th>0</th>\n",
              "      <td>3585</td>\n",
              "      <td>233620000.0</td>\n",
              "      <td>1179681239</td>\n",
              "      <td>2007</td>\n",
              "      <td>Ind</td>\n",
              "      <td>India</td>\n",
              "      <td>0.198037</td>\n",
              "    </tr>\n",
              "    <tr>\n",
              "      <th>1</th>\n",
              "      <td>3586</td>\n",
              "      <td>346890000.0</td>\n",
              "      <td>1197146906</td>\n",
              "      <td>2008</td>\n",
              "      <td>Ind</td>\n",
              "      <td>India</td>\n",
              "      <td>0.289764</td>\n",
              "    </tr>\n",
              "    <tr>\n",
              "      <th>2</th>\n",
              "      <td>3587</td>\n",
              "      <td>525090000.0</td>\n",
              "      <td>1214270132</td>\n",
              "      <td>2009</td>\n",
              "      <td>Ind</td>\n",
              "      <td>India</td>\n",
              "      <td>0.432433</td>\n",
              "    </tr>\n",
              "    <tr>\n",
              "      <th>3</th>\n",
              "      <td>3588</td>\n",
              "      <td>752190000.0</td>\n",
              "      <td>1230980691</td>\n",
              "      <td>2010</td>\n",
              "      <td>Ind</td>\n",
              "      <td>India</td>\n",
              "      <td>0.611049</td>\n",
              "    </tr>\n",
              "    <tr>\n",
              "      <th>4</th>\n",
              "      <td>3589</td>\n",
              "      <td>893862478.0</td>\n",
              "      <td>1247236029</td>\n",
              "      <td>2011</td>\n",
              "      <td>Ind</td>\n",
              "      <td>India</td>\n",
              "      <td>0.716675</td>\n",
              "    </tr>\n",
              "  </tbody>\n",
              "</table>\n",
              "</div>"
            ],
            "text/plain": [
              "   index  cell_phones_total  population_total  time  geo country  \\\n",
              "0   3585        233620000.0        1179681239  2007  Ind   India   \n",
              "1   3586        346890000.0        1197146906  2008  Ind   India   \n",
              "2   3587        525090000.0        1214270132  2009  Ind   India   \n",
              "3   3588        752190000.0        1230980691  2010  Ind   India   \n",
              "4   3589        893862478.0        1247236029  2011  Ind   India   \n",
              "\n",
              "   cell_phones_per_person  \n",
              "0                0.198037  \n",
              "1                0.289764  \n",
              "2                0.432433  \n",
              "3                0.611049  \n",
              "4                0.716675  "
            ]
          },
          "metadata": {
            "tags": []
          },
          "execution_count": 127
        }
      ]
    },
    {
      "metadata": {
        "id": "7dLAOKOwJbxo",
        "colab_type": "code",
        "colab": {
          "base_uri": "https://localhost:8080/",
          "height": 204
        },
        "outputId": "f9d0c84e-807b-430b-e427-6539cad522e9"
      },
      "cell_type": "code",
      "source": [
        "#United States\n",
        "v3=jointtable2[jointtable2['time']>=2007] \n",
        "vc3=v3[v3['country']=='United States']\n",
        "vc3.reset_index(inplace=True)\n",
        "vc3.head()"
      ],
      "execution_count": 130,
      "outputs": [
        {
          "output_type": "execute_result",
          "data": {
            "text/html": [
              "<div>\n",
              "<style scoped>\n",
              "    .dataframe tbody tr th:only-of-type {\n",
              "        vertical-align: middle;\n",
              "    }\n",
              "\n",
              "    .dataframe tbody tr th {\n",
              "        vertical-align: top;\n",
              "    }\n",
              "\n",
              "    .dataframe thead th {\n",
              "        text-align: right;\n",
              "    }\n",
              "</style>\n",
              "<table border=\"1\" class=\"dataframe\">\n",
              "  <thead>\n",
              "    <tr style=\"text-align: right;\">\n",
              "      <th></th>\n",
              "      <th>index</th>\n",
              "      <th>cell_phones_total</th>\n",
              "      <th>population_total</th>\n",
              "      <th>time</th>\n",
              "      <th>geo</th>\n",
              "      <th>country</th>\n",
              "      <th>cell_phones_per_person</th>\n",
              "    </tr>\n",
              "  </thead>\n",
              "  <tbody>\n",
              "    <tr>\n",
              "      <th>0</th>\n",
              "      <td>8124</td>\n",
              "      <td>249300000.0</td>\n",
              "      <td>300595175</td>\n",
              "      <td>2007</td>\n",
              "      <td>Usa</td>\n",
              "      <td>United States</td>\n",
              "      <td>0.829355</td>\n",
              "    </tr>\n",
              "    <tr>\n",
              "      <th>1</th>\n",
              "      <td>8125</td>\n",
              "      <td>261300000.0</td>\n",
              "      <td>303374067</td>\n",
              "      <td>2008</td>\n",
              "      <td>Usa</td>\n",
              "      <td>United States</td>\n",
              "      <td>0.861313</td>\n",
              "    </tr>\n",
              "    <tr>\n",
              "      <th>2</th>\n",
              "      <td>8126</td>\n",
              "      <td>274283000.0</td>\n",
              "      <td>306076362</td>\n",
              "      <td>2009</td>\n",
              "      <td>Usa</td>\n",
              "      <td>United States</td>\n",
              "      <td>0.896126</td>\n",
              "    </tr>\n",
              "    <tr>\n",
              "      <th>3</th>\n",
              "      <td>8127</td>\n",
              "      <td>285118000.0</td>\n",
              "      <td>308641391</td>\n",
              "      <td>2010</td>\n",
              "      <td>Usa</td>\n",
              "      <td>United States</td>\n",
              "      <td>0.923784</td>\n",
              "    </tr>\n",
              "    <tr>\n",
              "      <th>4</th>\n",
              "      <td>8128</td>\n",
              "      <td>297404000.0</td>\n",
              "      <td>311051373</td>\n",
              "      <td>2011</td>\n",
              "      <td>Usa</td>\n",
              "      <td>United States</td>\n",
              "      <td>0.956125</td>\n",
              "    </tr>\n",
              "  </tbody>\n",
              "</table>\n",
              "</div>"
            ],
            "text/plain": [
              "   index  cell_phones_total  population_total  time  geo        country  \\\n",
              "0   8124        249300000.0         300595175  2007  Usa  United States   \n",
              "1   8125        261300000.0         303374067  2008  Usa  United States   \n",
              "2   8126        274283000.0         306076362  2009  Usa  United States   \n",
              "3   8127        285118000.0         308641391  2010  Usa  United States   \n",
              "4   8128        297404000.0         311051373  2011  Usa  United States   \n",
              "\n",
              "   cell_phones_per_person  \n",
              "0                0.829355  \n",
              "1                0.861313  \n",
              "2                0.896126  \n",
              "3                0.923784  \n",
              "4                0.956125  "
            ]
          },
          "metadata": {
            "tags": []
          },
          "execution_count": 130
        }
      ]
    },
    {
      "metadata": {
        "id": "IbcEQRAyJnrv",
        "colab_type": "code",
        "colab": {
          "base_uri": "https://localhost:8080/",
          "height": 204
        },
        "outputId": "5af781f4-d2fd-4097-89ca-8d88e8b2cddf"
      },
      "cell_type": "code",
      "source": [
        "#Indonesia\n",
        "v4=jointtable2[jointtable2['time']>=2007] \n",
        "vc4=v4[v4['country']=='Indonesia']\n",
        "vc4.reset_index(inplace=True)\n",
        "vc4.head()"
      ],
      "execution_count": 131,
      "outputs": [
        {
          "output_type": "execute_result",
          "data": {
            "text/html": [
              "<div>\n",
              "<style scoped>\n",
              "    .dataframe tbody tr th:only-of-type {\n",
              "        vertical-align: middle;\n",
              "    }\n",
              "\n",
              "    .dataframe tbody tr th {\n",
              "        vertical-align: top;\n",
              "    }\n",
              "\n",
              "    .dataframe thead th {\n",
              "        text-align: right;\n",
              "    }\n",
              "</style>\n",
              "<table border=\"1\" class=\"dataframe\">\n",
              "  <thead>\n",
              "    <tr style=\"text-align: right;\">\n",
              "      <th></th>\n",
              "      <th>index</th>\n",
              "      <th>cell_phones_total</th>\n",
              "      <th>population_total</th>\n",
              "      <th>time</th>\n",
              "      <th>geo</th>\n",
              "      <th>country</th>\n",
              "      <th>cell_phones_per_person</th>\n",
              "    </tr>\n",
              "  </thead>\n",
              "  <tbody>\n",
              "    <tr>\n",
              "      <th>0</th>\n",
              "      <td>3539</td>\n",
              "      <td>93386881.0</td>\n",
              "      <td>232989141</td>\n",
              "      <td>2007</td>\n",
              "      <td>Idn</td>\n",
              "      <td>Indonesia</td>\n",
              "      <td>0.400821</td>\n",
              "    </tr>\n",
              "    <tr>\n",
              "      <th>1</th>\n",
              "      <td>3540</td>\n",
              "      <td>140578243.0</td>\n",
              "      <td>236159276</td>\n",
              "      <td>2008</td>\n",
              "      <td>Idn</td>\n",
              "      <td>Indonesia</td>\n",
              "      <td>0.595269</td>\n",
              "    </tr>\n",
              "    <tr>\n",
              "      <th>2</th>\n",
              "      <td>3541</td>\n",
              "      <td>163676961.0</td>\n",
              "      <td>239340478</td>\n",
              "      <td>2009</td>\n",
              "      <td>Idn</td>\n",
              "      <td>Indonesia</td>\n",
              "      <td>0.683867</td>\n",
              "    </tr>\n",
              "    <tr>\n",
              "      <th>3</th>\n",
              "      <td>3542</td>\n",
              "      <td>211290235.0</td>\n",
              "      <td>242524123</td>\n",
              "      <td>2010</td>\n",
              "      <td>Idn</td>\n",
              "      <td>Indonesia</td>\n",
              "      <td>0.871213</td>\n",
              "    </tr>\n",
              "    <tr>\n",
              "      <th>4</th>\n",
              "      <td>3543</td>\n",
              "      <td>249805619.0</td>\n",
              "      <td>245707511</td>\n",
              "      <td>2011</td>\n",
              "      <td>Idn</td>\n",
              "      <td>Indonesia</td>\n",
              "      <td>1.016679</td>\n",
              "    </tr>\n",
              "  </tbody>\n",
              "</table>\n",
              "</div>"
            ],
            "text/plain": [
              "   index  cell_phones_total  population_total  time  geo    country  \\\n",
              "0   3539         93386881.0         232989141  2007  Idn  Indonesia   \n",
              "1   3540        140578243.0         236159276  2008  Idn  Indonesia   \n",
              "2   3541        163676961.0         239340478  2009  Idn  Indonesia   \n",
              "3   3542        211290235.0         242524123  2010  Idn  Indonesia   \n",
              "4   3543        249805619.0         245707511  2011  Idn  Indonesia   \n",
              "\n",
              "   cell_phones_per_person  \n",
              "0                0.400821  \n",
              "1                0.595269  \n",
              "2                0.683867  \n",
              "3                0.871213  \n",
              "4                1.016679  "
            ]
          },
          "metadata": {
            "tags": []
          },
          "execution_count": 131
        }
      ]
    },
    {
      "metadata": {
        "id": "Xil6Q65_Jww3",
        "colab_type": "code",
        "colab": {
          "base_uri": "https://localhost:8080/",
          "height": 204
        },
        "outputId": "5778b87c-b3d7-4a7c-e2c0-8bf74260cfb0"
      },
      "cell_type": "code",
      "source": [
        "#Brazil\n",
        "v5=jointtable2[jointtable2['time']>=2007] \n",
        "vc5=v5[v5['country']=='Brazil']\n",
        "vc5.reset_index(inplace=True)\n",
        "vc5.head()\n",
        "\n"
      ],
      "execution_count": 132,
      "outputs": [
        {
          "output_type": "execute_result",
          "data": {
            "text/html": [
              "<div>\n",
              "<style scoped>\n",
              "    .dataframe tbody tr th:only-of-type {\n",
              "        vertical-align: middle;\n",
              "    }\n",
              "\n",
              "    .dataframe tbody tr th {\n",
              "        vertical-align: top;\n",
              "    }\n",
              "\n",
              "    .dataframe thead th {\n",
              "        text-align: right;\n",
              "    }\n",
              "</style>\n",
              "<table border=\"1\" class=\"dataframe\">\n",
              "  <thead>\n",
              "    <tr style=\"text-align: right;\">\n",
              "      <th></th>\n",
              "      <th>index</th>\n",
              "      <th>cell_phones_total</th>\n",
              "      <th>population_total</th>\n",
              "      <th>time</th>\n",
              "      <th>geo</th>\n",
              "      <th>country</th>\n",
              "      <th>cell_phones_per_person</th>\n",
              "    </tr>\n",
              "  </thead>\n",
              "  <tbody>\n",
              "    <tr>\n",
              "      <th>0</th>\n",
              "      <td>1074</td>\n",
              "      <td>120980103.0</td>\n",
              "      <td>191026637</td>\n",
              "      <td>2007</td>\n",
              "      <td>Bra</td>\n",
              "      <td>Brazil</td>\n",
              "      <td>0.633315</td>\n",
              "    </tr>\n",
              "    <tr>\n",
              "      <th>1</th>\n",
              "      <td>1075</td>\n",
              "      <td>150641403.0</td>\n",
              "      <td>192979029</td>\n",
              "      <td>2008</td>\n",
              "      <td>Bra</td>\n",
              "      <td>Brazil</td>\n",
              "      <td>0.780610</td>\n",
              "    </tr>\n",
              "    <tr>\n",
              "      <th>2</th>\n",
              "      <td>1076</td>\n",
              "      <td>169385584.0</td>\n",
              "      <td>194895996</td>\n",
              "      <td>2009</td>\n",
              "      <td>Bra</td>\n",
              "      <td>Brazil</td>\n",
              "      <td>0.869108</td>\n",
              "    </tr>\n",
              "    <tr>\n",
              "      <th>3</th>\n",
              "      <td>1077</td>\n",
              "      <td>196929978.0</td>\n",
              "      <td>196796269</td>\n",
              "      <td>2010</td>\n",
              "      <td>Bra</td>\n",
              "      <td>Brazil</td>\n",
              "      <td>1.000679</td>\n",
              "    </tr>\n",
              "    <tr>\n",
              "      <th>4</th>\n",
              "      <td>1078</td>\n",
              "      <td>234357507.0</td>\n",
              "      <td>198686688</td>\n",
              "      <td>2011</td>\n",
              "      <td>Bra</td>\n",
              "      <td>Brazil</td>\n",
              "      <td>1.179533</td>\n",
              "    </tr>\n",
              "  </tbody>\n",
              "</table>\n",
              "</div>"
            ],
            "text/plain": [
              "   index  cell_phones_total  population_total  time  geo country  \\\n",
              "0   1074        120980103.0         191026637  2007  Bra  Brazil   \n",
              "1   1075        150641403.0         192979029  2008  Bra  Brazil   \n",
              "2   1076        169385584.0         194895996  2009  Bra  Brazil   \n",
              "3   1077        196929978.0         196796269  2010  Bra  Brazil   \n",
              "4   1078        234357507.0         198686688  2011  Bra  Brazil   \n",
              "\n",
              "   cell_phones_per_person  \n",
              "0                0.633315  \n",
              "1                0.780610  \n",
              "2                0.869108  \n",
              "3                1.000679  \n",
              "4                1.179533  "
            ]
          },
          "metadata": {
            "tags": []
          },
          "execution_count": 132
        }
      ]
    },
    {
      "metadata": {
        "id": "EJ0Itm4gKS31",
        "colab_type": "code",
        "colab": {}
      },
      "cell_type": "code",
      "source": [
        "#Let's pack all this info into one big dataframe\n",
        "frames=[vc1, vc2, vc3, vc4, vc5]\n",
        "final = pd.concat(frames)\n",
        "final.reset_index(inplace=True)"
      ],
      "execution_count": 0,
      "outputs": []
    },
    {
      "metadata": {
        "id": "P2tBbiB_PMOH",
        "colab_type": "code",
        "colab": {
          "base_uri": "https://localhost:8080/",
          "height": 204
        },
        "outputId": "3e5d7910-e47c-43bf-f2e1-aa7de07c72f1"
      },
      "cell_type": "code",
      "source": [
        "final.head()"
      ],
      "execution_count": 124,
      "outputs": [
        {
          "output_type": "execute_result",
          "data": {
            "text/html": [
              "<div>\n",
              "<style scoped>\n",
              "    .dataframe tbody tr th:only-of-type {\n",
              "        vertical-align: middle;\n",
              "    }\n",
              "\n",
              "    .dataframe tbody tr th {\n",
              "        vertical-align: top;\n",
              "    }\n",
              "\n",
              "    .dataframe thead th {\n",
              "        text-align: right;\n",
              "    }\n",
              "</style>\n",
              "<table border=\"1\" class=\"dataframe\">\n",
              "  <thead>\n",
              "    <tr style=\"text-align: right;\">\n",
              "      <th></th>\n",
              "      <th>level_0</th>\n",
              "      <th>cell_phones_per_person</th>\n",
              "      <th>cell_phones_total</th>\n",
              "      <th>country</th>\n",
              "      <th>geo</th>\n",
              "      <th>index</th>\n",
              "      <th>population_total</th>\n",
              "      <th>time</th>\n",
              "    </tr>\n",
              "  </thead>\n",
              "  <tbody>\n",
              "    <tr>\n",
              "      <th>0</th>\n",
              "      <td>0</td>\n",
              "      <td>0.409415</td>\n",
              "      <td>547306000.0</td>\n",
              "      <td>China</td>\n",
              "      <td>Chn</td>\n",
              "      <td>1486.0</td>\n",
              "      <td>1336800506</td>\n",
              "      <td>2007</td>\n",
              "    </tr>\n",
              "    <tr>\n",
              "      <th>1</th>\n",
              "      <td>1</td>\n",
              "      <td>0.476969</td>\n",
              "      <td>641245000.0</td>\n",
              "      <td>China</td>\n",
              "      <td>Chn</td>\n",
              "      <td>1487.0</td>\n",
              "      <td>1344415227</td>\n",
              "      <td>2008</td>\n",
              "    </tr>\n",
              "    <tr>\n",
              "      <th>2</th>\n",
              "      <td>2</td>\n",
              "      <td>0.552645</td>\n",
              "      <td>747214000.0</td>\n",
              "      <td>China</td>\n",
              "      <td>Chn</td>\n",
              "      <td>1488.0</td>\n",
              "      <td>1352068091</td>\n",
              "      <td>2009</td>\n",
              "    </tr>\n",
              "    <tr>\n",
              "      <th>3</th>\n",
              "      <td>3</td>\n",
              "      <td>0.631734</td>\n",
              "      <td>859003000.0</td>\n",
              "      <td>China</td>\n",
              "      <td>Chn</td>\n",
              "      <td>1489.0</td>\n",
              "      <td>1359755102</td>\n",
              "      <td>2010</td>\n",
              "    </tr>\n",
              "    <tr>\n",
              "      <th>4</th>\n",
              "      <td>4</td>\n",
              "      <td>0.721219</td>\n",
              "      <td>986253000.0</td>\n",
              "      <td>China</td>\n",
              "      <td>Chn</td>\n",
              "      <td>1490.0</td>\n",
              "      <td>1367480264</td>\n",
              "      <td>2011</td>\n",
              "    </tr>\n",
              "  </tbody>\n",
              "</table>\n",
              "</div>"
            ],
            "text/plain": [
              "   level_0  cell_phones_per_person  cell_phones_total country  geo   index  \\\n",
              "0        0                0.409415        547306000.0   China  Chn  1486.0   \n",
              "1        1                0.476969        641245000.0   China  Chn  1487.0   \n",
              "2        2                0.552645        747214000.0   China  Chn  1488.0   \n",
              "3        3                0.631734        859003000.0   China  Chn  1489.0   \n",
              "4        4                0.721219        986253000.0   China  Chn  1490.0   \n",
              "\n",
              "   population_total  time  \n",
              "0        1336800506  2007  \n",
              "1        1344415227  2008  \n",
              "2        1352068091  2009  \n",
              "3        1359755102  2010  \n",
              "4        1367480264  2011  "
            ]
          },
          "metadata": {
            "tags": []
          },
          "execution_count": 124
        }
      ]
    },
    {
      "metadata": {
        "id": "4u5jgV_qKjuu",
        "colab_type": "code",
        "colab": {
          "base_uri": "https://localhost:8080/",
          "height": 272
        },
        "outputId": "9e0e92df-1f1f-488b-e5e3-9fcee1aa0f36"
      },
      "cell_type": "code",
      "source": [
        "#Let's create the pivot table\n",
        "table = pd.pivot_table(final, values='cell_phones_total', index=['country'],columns=['time'])\n",
        "table"
      ],
      "execution_count": 125,
      "outputs": [
        {
          "output_type": "execute_result",
          "data": {
            "text/html": [
              "<div>\n",
              "<style scoped>\n",
              "    .dataframe tbody tr th:only-of-type {\n",
              "        vertical-align: middle;\n",
              "    }\n",
              "\n",
              "    .dataframe tbody tr th {\n",
              "        vertical-align: top;\n",
              "    }\n",
              "\n",
              "    .dataframe thead th {\n",
              "        text-align: right;\n",
              "    }\n",
              "</style>\n",
              "<table border=\"1\" class=\"dataframe\">\n",
              "  <thead>\n",
              "    <tr style=\"text-align: right;\">\n",
              "      <th>time</th>\n",
              "      <th>2007</th>\n",
              "      <th>2008</th>\n",
              "      <th>2009</th>\n",
              "      <th>2010</th>\n",
              "      <th>2011</th>\n",
              "      <th>2012</th>\n",
              "      <th>2013</th>\n",
              "      <th>2014</th>\n",
              "      <th>2015</th>\n",
              "      <th>2016</th>\n",
              "      <th>2017</th>\n",
              "    </tr>\n",
              "    <tr>\n",
              "      <th>country</th>\n",
              "      <th></th>\n",
              "      <th></th>\n",
              "      <th></th>\n",
              "      <th></th>\n",
              "      <th></th>\n",
              "      <th></th>\n",
              "      <th></th>\n",
              "      <th></th>\n",
              "      <th></th>\n",
              "      <th></th>\n",
              "      <th></th>\n",
              "    </tr>\n",
              "  </thead>\n",
              "  <tbody>\n",
              "    <tr>\n",
              "      <th>Brazil</th>\n",
              "      <td>120980103.0</td>\n",
              "      <td>150641403.0</td>\n",
              "      <td>169385584.0</td>\n",
              "      <td>196929978.0</td>\n",
              "      <td>234357507.0</td>\n",
              "      <td>2.483237e+08</td>\n",
              "      <td>2.710998e+08</td>\n",
              "      <td>2.807288e+08</td>\n",
              "      <td>2.578143e+08</td>\n",
              "      <td>2.440674e+08</td>\n",
              "      <td>2.364885e+08</td>\n",
              "    </tr>\n",
              "    <tr>\n",
              "      <th>China</th>\n",
              "      <td>547306000.0</td>\n",
              "      <td>641245000.0</td>\n",
              "      <td>747214000.0</td>\n",
              "      <td>859003000.0</td>\n",
              "      <td>986253000.0</td>\n",
              "      <td>1.112155e+09</td>\n",
              "      <td>1.229113e+09</td>\n",
              "      <td>1.286093e+09</td>\n",
              "      <td>1.291984e+09</td>\n",
              "      <td>1.364934e+09</td>\n",
              "      <td>1.474097e+09</td>\n",
              "    </tr>\n",
              "    <tr>\n",
              "      <th>India</th>\n",
              "      <td>233620000.0</td>\n",
              "      <td>346890000.0</td>\n",
              "      <td>525090000.0</td>\n",
              "      <td>752190000.0</td>\n",
              "      <td>893862478.0</td>\n",
              "      <td>8.647209e+08</td>\n",
              "      <td>8.863042e+08</td>\n",
              "      <td>9.440087e+08</td>\n",
              "      <td>1.001056e+09</td>\n",
              "      <td>1.127809e+09</td>\n",
              "      <td>1.168902e+09</td>\n",
              "    </tr>\n",
              "    <tr>\n",
              "      <th>Indonesia</th>\n",
              "      <td>93386881.0</td>\n",
              "      <td>140578243.0</td>\n",
              "      <td>163676961.0</td>\n",
              "      <td>211290235.0</td>\n",
              "      <td>249805619.0</td>\n",
              "      <td>2.819637e+08</td>\n",
              "      <td>3.132269e+08</td>\n",
              "      <td>3.255828e+08</td>\n",
              "      <td>3.389483e+08</td>\n",
              "      <td>3.855734e+08</td>\n",
              "      <td>4.589232e+08</td>\n",
              "    </tr>\n",
              "    <tr>\n",
              "      <th>United States</th>\n",
              "      <td>249300000.0</td>\n",
              "      <td>261300000.0</td>\n",
              "      <td>274283000.0</td>\n",
              "      <td>285118000.0</td>\n",
              "      <td>297404000.0</td>\n",
              "      <td>3.048380e+08</td>\n",
              "      <td>3.106980e+08</td>\n",
              "      <td>3.555000e+08</td>\n",
              "      <td>3.823070e+08</td>\n",
              "      <td>3.958810e+08</td>\n",
              "      <td>3.958810e+08</td>\n",
              "    </tr>\n",
              "  </tbody>\n",
              "</table>\n",
              "</div>"
            ],
            "text/plain": [
              "time                  2007         2008         2009         2010  \\\n",
              "country                                                             \n",
              "Brazil         120980103.0  150641403.0  169385584.0  196929978.0   \n",
              "China          547306000.0  641245000.0  747214000.0  859003000.0   \n",
              "India          233620000.0  346890000.0  525090000.0  752190000.0   \n",
              "Indonesia       93386881.0  140578243.0  163676961.0  211290235.0   \n",
              "United States  249300000.0  261300000.0  274283000.0  285118000.0   \n",
              "\n",
              "time                  2011          2012          2013          2014  \\\n",
              "country                                                                \n",
              "Brazil         234357507.0  2.483237e+08  2.710998e+08  2.807288e+08   \n",
              "China          986253000.0  1.112155e+09  1.229113e+09  1.286093e+09   \n",
              "India          893862478.0  8.647209e+08  8.863042e+08  9.440087e+08   \n",
              "Indonesia      249805619.0  2.819637e+08  3.132269e+08  3.255828e+08   \n",
              "United States  297404000.0  3.048380e+08  3.106980e+08  3.555000e+08   \n",
              "\n",
              "time                   2015          2016          2017  \n",
              "country                                                  \n",
              "Brazil         2.578143e+08  2.440674e+08  2.364885e+08  \n",
              "China          1.291984e+09  1.364934e+09  1.474097e+09  \n",
              "India          1.001056e+09  1.127809e+09  1.168902e+09  \n",
              "Indonesia      3.389483e+08  3.855734e+08  4.589232e+08  \n",
              "United States  3.823070e+08  3.958810e+08  3.958810e+08  "
            ]
          },
          "metadata": {
            "tags": []
          },
          "execution_count": 125
        }
      ]
    },
    {
      "metadata": {
        "id": "zj6BCOkLNTsL",
        "colab_type": "code",
        "colab": {
          "base_uri": "https://localhost:8080/",
          "height": 34
        },
        "outputId": "43bee5de-5dcf-4d20-9586-3a8dc0a797ed"
      },
      "cell_type": "code",
      "source": [
        "#Check the shape\n",
        "table.shape"
      ],
      "execution_count": 115,
      "outputs": [
        {
          "output_type": "execute_result",
          "data": {
            "text/plain": [
              "(5, 11)"
            ]
          },
          "metadata": {
            "tags": []
          },
          "execution_count": 115
        }
      ]
    },
    {
      "metadata": {
        "id": "_sN7i3cEVMOs",
        "colab_type": "code",
        "colab": {}
      },
      "cell_type": "code",
      "source": [
        ""
      ],
      "execution_count": 0,
      "outputs": []
    },
    {
      "metadata": {
        "id": "zUIDGmfEVMoA",
        "colab_type": "code",
        "colab": {}
      },
      "cell_type": "code",
      "source": [
        ""
      ],
      "execution_count": 0,
      "outputs": []
    },
    {
      "metadata": {
        "id": "CNKTu2DCnAo6",
        "colab_type": "text"
      },
      "cell_type": "markdown",
      "source": [
        "#### OPTIONAL BONUS QUESTION!\n",
        "\n",
        "Sort these 5 countries, by biggest increase in cell phones from 2007 to 2017.\n",
        "\n",
        "Which country had 935,282,277 more cell phones in 2017 versus 2007?"
      ]
    },
    {
      "metadata": {
        "id": "O4Aecv1fmQlj",
        "colab_type": "code",
        "colab": {
          "base_uri": "https://localhost:8080/",
          "height": 119
        },
        "outputId": "d82049ab-94fb-458c-c43b-6e8526494292"
      },
      "cell_type": "code",
      "source": [
        "bonus = pd.DataFrame({'country':['China', \"India\",'United States', ' Indonesia', 'Brazil' ], 'increase':[0, 0, 0, 0, 0]})\n",
        "#China\n",
        "bonus['increase'][0]=vc1['cell_phones_total'][len(vc1['cell_phones_total'])-1]-vc1['cell_phones_total'][0]\n",
        "print(bonus['increase'][0])\n"
      ],
      "execution_count": 153,
      "outputs": [
        {
          "output_type": "stream",
          "text": [
            "926791000\n"
          ],
          "name": "stdout"
        },
        {
          "output_type": "stream",
          "text": [
            "/usr/local/lib/python3.6/dist-packages/ipykernel_launcher.py:3: SettingWithCopyWarning: \n",
            "A value is trying to be set on a copy of a slice from a DataFrame\n",
            "\n",
            "See the caveats in the documentation: http://pandas.pydata.org/pandas-docs/stable/indexing.html#indexing-view-versus-copy\n",
            "  This is separate from the ipykernel package so we can avoid doing imports until\n"
          ],
          "name": "stderr"
        }
      ]
    },
    {
      "metadata": {
        "id": "0bcsCnDlP7rB",
        "colab_type": "code",
        "colab": {
          "base_uri": "https://localhost:8080/",
          "height": 119
        },
        "outputId": "0a30859f-3957-45b7-bb0f-27c2c9a6f678"
      },
      "cell_type": "code",
      "source": [
        "#India\n",
        "bonus['increase'][1]=vc2['cell_phones_total'][len(vc2['cell_phones_total'])-1]-vc2['cell_phones_total'][0]\n",
        "print(bonus['increase'][1])\n",
        "#That country is india"
      ],
      "execution_count": 154,
      "outputs": [
        {
          "output_type": "stream",
          "text": [
            "935282277\n"
          ],
          "name": "stdout"
        },
        {
          "output_type": "stream",
          "text": [
            "/usr/local/lib/python3.6/dist-packages/ipykernel_launcher.py:1: SettingWithCopyWarning: \n",
            "A value is trying to be set on a copy of a slice from a DataFrame\n",
            "\n",
            "See the caveats in the documentation: http://pandas.pydata.org/pandas-docs/stable/indexing.html#indexing-view-versus-copy\n",
            "  \"\"\"Entry point for launching an IPython kernel.\n"
          ],
          "name": "stderr"
        }
      ]
    },
    {
      "metadata": {
        "id": "t2ioJY35RkvS",
        "colab_type": "code",
        "colab": {
          "base_uri": "https://localhost:8080/",
          "height": 119
        },
        "outputId": "19ffd303-a828-4312-ddf6-995b93d079e5"
      },
      "cell_type": "code",
      "source": [
        "#United States\n",
        "bonus['increase'][2]=vc3['cell_phones_total'][len(vc3['cell_phones_total'])-1]-vc3['cell_phones_total'][0]\n",
        "print(bonus['increase'][2])\n"
      ],
      "execution_count": 155,
      "outputs": [
        {
          "output_type": "stream",
          "text": [
            "146581000\n"
          ],
          "name": "stdout"
        },
        {
          "output_type": "stream",
          "text": [
            "/usr/local/lib/python3.6/dist-packages/ipykernel_launcher.py:1: SettingWithCopyWarning: \n",
            "A value is trying to be set on a copy of a slice from a DataFrame\n",
            "\n",
            "See the caveats in the documentation: http://pandas.pydata.org/pandas-docs/stable/indexing.html#indexing-view-versus-copy\n",
            "  \"\"\"Entry point for launching an IPython kernel.\n"
          ],
          "name": "stderr"
        }
      ]
    },
    {
      "metadata": {
        "id": "CS5L_UyUQH6R",
        "colab_type": "code",
        "colab": {
          "base_uri": "https://localhost:8080/",
          "height": 119
        },
        "outputId": "451dce18-3393-4d27-84d4-f30248e7d587"
      },
      "cell_type": "code",
      "source": [
        "#United States\n",
        "bonus['increase'][3]=vc4['cell_phones_total'][len(vc4['cell_phones_total'])-1]-vc4['cell_phones_total'][0]\n",
        "print(bonus['increase'][3])"
      ],
      "execution_count": 156,
      "outputs": [
        {
          "output_type": "stream",
          "text": [
            "365536321\n"
          ],
          "name": "stdout"
        },
        {
          "output_type": "stream",
          "text": [
            "/usr/local/lib/python3.6/dist-packages/ipykernel_launcher.py:1: SettingWithCopyWarning: \n",
            "A value is trying to be set on a copy of a slice from a DataFrame\n",
            "\n",
            "See the caveats in the documentation: http://pandas.pydata.org/pandas-docs/stable/indexing.html#indexing-view-versus-copy\n",
            "  \"\"\"Entry point for launching an IPython kernel.\n"
          ],
          "name": "stderr"
        }
      ]
    },
    {
      "metadata": {
        "id": "vbMJ5pzQR-0m",
        "colab_type": "code",
        "colab": {
          "base_uri": "https://localhost:8080/",
          "height": 119
        },
        "outputId": "898a4b45-08fa-42de-ae9d-cdec2d2cd66e"
      },
      "cell_type": "code",
      "source": [
        "#Brazil\n",
        "bonus['increase'][4]=vc5['cell_phones_total'][len(vc5['cell_phones_total'])-1]-vc5['cell_phones_total'][0]\n",
        "print(bonus['increase'][4])"
      ],
      "execution_count": 157,
      "outputs": [
        {
          "output_type": "stream",
          "text": [
            "115508445\n"
          ],
          "name": "stdout"
        },
        {
          "output_type": "stream",
          "text": [
            "/usr/local/lib/python3.6/dist-packages/ipykernel_launcher.py:1: SettingWithCopyWarning: \n",
            "A value is trying to be set on a copy of a slice from a DataFrame\n",
            "\n",
            "See the caveats in the documentation: http://pandas.pydata.org/pandas-docs/stable/indexing.html#indexing-view-versus-copy\n",
            "  \"\"\"Entry point for launching an IPython kernel.\n"
          ],
          "name": "stderr"
        }
      ]
    },
    {
      "metadata": {
        "id": "vjBFt_QnSJaD",
        "colab_type": "code",
        "colab": {
          "base_uri": "https://localhost:8080/",
          "height": 204
        },
        "outputId": "9e28e9da-b5b2-4634-f2d2-afb3db6d248a"
      },
      "cell_type": "code",
      "source": [
        "bonus.sort_values(\"increase\", inplace = True, ascending=False) \n",
        "bonus.head()"
      ],
      "execution_count": 158,
      "outputs": [
        {
          "output_type": "execute_result",
          "data": {
            "text/html": [
              "<div>\n",
              "<style scoped>\n",
              "    .dataframe tbody tr th:only-of-type {\n",
              "        vertical-align: middle;\n",
              "    }\n",
              "\n",
              "    .dataframe tbody tr th {\n",
              "        vertical-align: top;\n",
              "    }\n",
              "\n",
              "    .dataframe thead th {\n",
              "        text-align: right;\n",
              "    }\n",
              "</style>\n",
              "<table border=\"1\" class=\"dataframe\">\n",
              "  <thead>\n",
              "    <tr style=\"text-align: right;\">\n",
              "      <th></th>\n",
              "      <th>country</th>\n",
              "      <th>increase</th>\n",
              "    </tr>\n",
              "  </thead>\n",
              "  <tbody>\n",
              "    <tr>\n",
              "      <th>1</th>\n",
              "      <td>India</td>\n",
              "      <td>935282277</td>\n",
              "    </tr>\n",
              "    <tr>\n",
              "      <th>0</th>\n",
              "      <td>China</td>\n",
              "      <td>926791000</td>\n",
              "    </tr>\n",
              "    <tr>\n",
              "      <th>3</th>\n",
              "      <td>Indonesia</td>\n",
              "      <td>365536321</td>\n",
              "    </tr>\n",
              "    <tr>\n",
              "      <th>2</th>\n",
              "      <td>United States</td>\n",
              "      <td>146581000</td>\n",
              "    </tr>\n",
              "    <tr>\n",
              "      <th>4</th>\n",
              "      <td>Brazil</td>\n",
              "      <td>115508445</td>\n",
              "    </tr>\n",
              "  </tbody>\n",
              "</table>\n",
              "</div>"
            ],
            "text/plain": [
              "         country   increase\n",
              "1          India  935282277\n",
              "0          China  926791000\n",
              "3      Indonesia  365536321\n",
              "2  United States  146581000\n",
              "4         Brazil  115508445"
            ]
          },
          "metadata": {
            "tags": []
          },
          "execution_count": 158
        }
      ]
    },
    {
      "metadata": {
        "id": "7iHkMsa3Rorh",
        "colab_type": "text"
      },
      "cell_type": "markdown",
      "source": [
        "If you have the time and curiosity, what other questions can you ask and answer with this data?"
      ]
    }
  ]
}