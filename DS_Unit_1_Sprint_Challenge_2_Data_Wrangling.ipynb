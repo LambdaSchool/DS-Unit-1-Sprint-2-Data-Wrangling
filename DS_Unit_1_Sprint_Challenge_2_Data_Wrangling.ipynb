{
  "nbformat": 4,
  "nbformat_minor": 0,
  "metadata": {
    "colab": {
      "name": "DS_Unit_1_Sprint_Challenge_2_Data_Wrangling.ipynb",
      "version": "0.3.2",
      "provenance": [],
      "collapsed_sections": [],
      "include_colab_link": true
    },
    "kernelspec": {
      "name": "python3",
      "display_name": "Python 3"
    }
  },
  "cells": [
    {
      "cell_type": "markdown",
      "metadata": {
        "id": "view-in-github",
        "colab_type": "text"
      },
      "source": [
        "<a href=\"https://colab.research.google.com/github/extrajp2014/DS-Unit-1-Sprint-2-Data-Wrangling/blob/master/DS_Unit_1_Sprint_Challenge_2_Data_Wrangling.ipynb\" target=\"_parent\"><img src=\"https://colab.research.google.com/assets/colab-badge.svg\" alt=\"Open In Colab\"/></a>"
      ]
    },
    {
      "metadata": {
        "id": "4yMHi_PX9hEz",
        "colab_type": "text"
      },
      "cell_type": "markdown",
      "source": [
        "# Data Science Unit 1 Sprint Challenge 2\n",
        "\n",
        "## Data Wrangling\n",
        "\n",
        "In this Sprint Challenge you will use data from [Gapminder](https://www.gapminder.org/about-gapminder/), a Swedish non-profit co-founded by Hans Rosling. \"Gapminder produces free teaching resources making the world understandable based on reliable statistics.\"\n",
        "- [Cell phones (total), by country and year](https://raw.githubusercontent.com/open-numbers/ddf--gapminder--systema_globalis/master/ddf--datapoints--cell_phones_total--by--geo--time.csv)\n",
        "- [Population (total), by country and year](https://raw.githubusercontent.com/open-numbers/ddf--gapminder--systema_globalis/master/ddf--datapoints--population_total--by--geo--time.csv)\n",
        "- [Geo country codes](https://github.com/open-numbers/ddf--gapminder--systema_globalis/blob/master/ddf--entities--geo--country.csv)\n",
        "\n",
        "These two links have everything you need to successfully complete the Sprint Challenge!\n",
        "- [Pandas documentation: Working with Text Data](https://pandas.pydata.org/pandas-docs/stable/text.html]) (one question)\n",
        "- [Pandas Cheat Sheet](https://github.com/pandas-dev/pandas/blob/master/doc/cheatsheet/Pandas_Cheat_Sheet.pdf) (everything else)"
      ]
    },
    {
      "metadata": {
        "id": "wWEU2GemX68A",
        "colab_type": "text"
      },
      "cell_type": "markdown",
      "source": [
        "## Part 0. Load data\n",
        "\n",
        "You don't need to add or change anything here. Just run this cell and it loads the data for you, into three dataframes."
      ]
    },
    {
      "metadata": {
        "id": "bxKtSi5sRQOl",
        "colab_type": "code",
        "colab": {}
      },
      "cell_type": "code",
      "source": [
        "import pandas as pd\n",
        "\n",
        "cell_phones = pd.read_csv('https://raw.githubusercontent.com/open-numbers/ddf--gapminder--systema_globalis/master/ddf--datapoints--cell_phones_total--by--geo--time.csv')\n",
        "\n",
        "population = pd.read_csv('https://raw.githubusercontent.com/open-numbers/ddf--gapminder--systema_globalis/master/ddf--datapoints--population_total--by--geo--time.csv')\n",
        "\n",
        "geo_country_codes = (pd.read_csv('https://raw.githubusercontent.com/open-numbers/ddf--gapminder--systema_globalis/master/ddf--entities--geo--country.csv')\n",
        "                       .rename(columns={'country': 'geo', 'name': 'country'}))"
      ],
      "execution_count": 0,
      "outputs": []
    },
    {
      "metadata": {
        "id": "AZmVTeCsX9RC",
        "colab_type": "text"
      },
      "cell_type": "markdown",
      "source": [
        "## Part 1. Join data"
      ]
    },
    {
      "metadata": {
        "id": "GLzX58u4SfEy",
        "colab_type": "text"
      },
      "cell_type": "markdown",
      "source": [
        "First, join the `cell_phones` and `population` dataframes (with an inner join on `geo` and `time`).\n",
        "\n",
        "The resulting dataframe's shape should be: (8590, 4)"
      ]
    },
    {
      "metadata": {
        "id": "GVV7Hnj4SXBa",
        "colab_type": "code",
        "colab": {
          "base_uri": "https://localhost:8080/",
          "height": 221
        },
        "outputId": "df31d94a-f2d8-48ed-aa07-9583ca93d29d"
      },
      "cell_type": "code",
      "source": [
        "df1=cell_phones\n",
        "df2=population\n",
        "df3=geo_country_codes\n",
        "print(cell_phones.head())\n",
        "print(population.head())"
      ],
      "execution_count": 111,
      "outputs": [
        {
          "output_type": "stream",
          "text": [
            "   geo  time  cell_phones_total\n",
            "0  abw  1960                0.0\n",
            "1  abw  1965                0.0\n",
            "2  abw  1970                0.0\n",
            "3  abw  1975                0.0\n",
            "4  abw  1976                0.0\n",
            "   geo  time  population_total\n",
            "0  afg  1800           3280000\n",
            "1  afg  1801           3280000\n",
            "2  afg  1802           3280000\n",
            "3  afg  1803           3280000\n",
            "4  afg  1804           3280000\n"
          ],
          "name": "stdout"
        }
      ]
    },
    {
      "metadata": {
        "id": "uY1mhyFFtP7y",
        "colab_type": "code",
        "colab": {
          "base_uri": "https://localhost:8080/",
          "height": 221
        },
        "outputId": "382c3fac-a271-4528-9ece-a5d482de0975"
      },
      "cell_type": "code",
      "source": [
        "# Join data\n",
        "# df1=cell_phones\n",
        "# df2=population\n",
        "# df3=geo_country_codes\n",
        "merged=df1.merge(df2, on=['geo', 'time'], how='inner')\n",
        "print(merged.shape)\n",
        "merged.head()"
      ],
      "execution_count": 112,
      "outputs": [
        {
          "output_type": "stream",
          "text": [
            "(8590, 4)\n"
          ],
          "name": "stdout"
        },
        {
          "output_type": "execute_result",
          "data": {
            "text/html": [
              "<div>\n",
              "<style scoped>\n",
              "    .dataframe tbody tr th:only-of-type {\n",
              "        vertical-align: middle;\n",
              "    }\n",
              "\n",
              "    .dataframe tbody tr th {\n",
              "        vertical-align: top;\n",
              "    }\n",
              "\n",
              "    .dataframe thead th {\n",
              "        text-align: right;\n",
              "    }\n",
              "</style>\n",
              "<table border=\"1\" class=\"dataframe\">\n",
              "  <thead>\n",
              "    <tr style=\"text-align: right;\">\n",
              "      <th></th>\n",
              "      <th>geo</th>\n",
              "      <th>time</th>\n",
              "      <th>cell_phones_total</th>\n",
              "      <th>population_total</th>\n",
              "    </tr>\n",
              "  </thead>\n",
              "  <tbody>\n",
              "    <tr>\n",
              "      <th>0</th>\n",
              "      <td>afg</td>\n",
              "      <td>1960</td>\n",
              "      <td>0.0</td>\n",
              "      <td>8996351</td>\n",
              "    </tr>\n",
              "    <tr>\n",
              "      <th>1</th>\n",
              "      <td>afg</td>\n",
              "      <td>1965</td>\n",
              "      <td>0.0</td>\n",
              "      <td>9938414</td>\n",
              "    </tr>\n",
              "    <tr>\n",
              "      <th>2</th>\n",
              "      <td>afg</td>\n",
              "      <td>1970</td>\n",
              "      <td>0.0</td>\n",
              "      <td>11126123</td>\n",
              "    </tr>\n",
              "    <tr>\n",
              "      <th>3</th>\n",
              "      <td>afg</td>\n",
              "      <td>1975</td>\n",
              "      <td>0.0</td>\n",
              "      <td>12590286</td>\n",
              "    </tr>\n",
              "    <tr>\n",
              "      <th>4</th>\n",
              "      <td>afg</td>\n",
              "      <td>1976</td>\n",
              "      <td>0.0</td>\n",
              "      <td>12840299</td>\n",
              "    </tr>\n",
              "  </tbody>\n",
              "</table>\n",
              "</div>"
            ],
            "text/plain": [
              "   geo  time  cell_phones_total  population_total\n",
              "0  afg  1960                0.0           8996351\n",
              "1  afg  1965                0.0           9938414\n",
              "2  afg  1970                0.0          11126123\n",
              "3  afg  1975                0.0          12590286\n",
              "4  afg  1976                0.0          12840299"
            ]
          },
          "metadata": {
            "tags": []
          },
          "execution_count": 112
        }
      ]
    },
    {
      "metadata": {
        "id": "xsXpDbwwW241",
        "colab_type": "text"
      },
      "cell_type": "markdown",
      "source": [
        "Then, select the `geo` and `country` columns from the `geo_country_codes` dataframe, and join with your population and cell phone data.\n",
        "\n",
        "The resulting dataframe's shape should be: (8590, 5)"
      ]
    },
    {
      "metadata": {
        "id": "Q2LaZta_W2CE",
        "colab_type": "code",
        "colab": {
          "base_uri": "https://localhost:8080/",
          "height": 221
        },
        "outputId": "88901415-794b-40f3-eeb4-7e3e7fbbe6fb"
      },
      "cell_type": "code",
      "source": [
        "# df1=cell_phones\n",
        "# df2=population\n",
        "# df3=geo_country_codes\n",
        "columns = ['geo', 'country']\n",
        "final=merged.merge(df3[columns], on='geo', how='inner')\n",
        "print(final.shape)\n",
        "final.head()"
      ],
      "execution_count": 113,
      "outputs": [
        {
          "output_type": "stream",
          "text": [
            "(8590, 5)\n"
          ],
          "name": "stdout"
        },
        {
          "output_type": "execute_result",
          "data": {
            "text/html": [
              "<div>\n",
              "<style scoped>\n",
              "    .dataframe tbody tr th:only-of-type {\n",
              "        vertical-align: middle;\n",
              "    }\n",
              "\n",
              "    .dataframe tbody tr th {\n",
              "        vertical-align: top;\n",
              "    }\n",
              "\n",
              "    .dataframe thead th {\n",
              "        text-align: right;\n",
              "    }\n",
              "</style>\n",
              "<table border=\"1\" class=\"dataframe\">\n",
              "  <thead>\n",
              "    <tr style=\"text-align: right;\">\n",
              "      <th></th>\n",
              "      <th>geo</th>\n",
              "      <th>time</th>\n",
              "      <th>cell_phones_total</th>\n",
              "      <th>population_total</th>\n",
              "      <th>country</th>\n",
              "    </tr>\n",
              "  </thead>\n",
              "  <tbody>\n",
              "    <tr>\n",
              "      <th>0</th>\n",
              "      <td>afg</td>\n",
              "      <td>1960</td>\n",
              "      <td>0.0</td>\n",
              "      <td>8996351</td>\n",
              "      <td>Afghanistan</td>\n",
              "    </tr>\n",
              "    <tr>\n",
              "      <th>1</th>\n",
              "      <td>afg</td>\n",
              "      <td>1965</td>\n",
              "      <td>0.0</td>\n",
              "      <td>9938414</td>\n",
              "      <td>Afghanistan</td>\n",
              "    </tr>\n",
              "    <tr>\n",
              "      <th>2</th>\n",
              "      <td>afg</td>\n",
              "      <td>1970</td>\n",
              "      <td>0.0</td>\n",
              "      <td>11126123</td>\n",
              "      <td>Afghanistan</td>\n",
              "    </tr>\n",
              "    <tr>\n",
              "      <th>3</th>\n",
              "      <td>afg</td>\n",
              "      <td>1975</td>\n",
              "      <td>0.0</td>\n",
              "      <td>12590286</td>\n",
              "      <td>Afghanistan</td>\n",
              "    </tr>\n",
              "    <tr>\n",
              "      <th>4</th>\n",
              "      <td>afg</td>\n",
              "      <td>1976</td>\n",
              "      <td>0.0</td>\n",
              "      <td>12840299</td>\n",
              "      <td>Afghanistan</td>\n",
              "    </tr>\n",
              "  </tbody>\n",
              "</table>\n",
              "</div>"
            ],
            "text/plain": [
              "   geo  time  cell_phones_total  population_total      country\n",
              "0  afg  1960                0.0           8996351  Afghanistan\n",
              "1  afg  1965                0.0           9938414  Afghanistan\n",
              "2  afg  1970                0.0          11126123  Afghanistan\n",
              "3  afg  1975                0.0          12590286  Afghanistan\n",
              "4  afg  1976                0.0          12840299  Afghanistan"
            ]
          },
          "metadata": {
            "tags": []
          },
          "execution_count": 113
        }
      ]
    },
    {
      "metadata": {
        "id": "oK96Uj7vYjFX",
        "colab_type": "text"
      },
      "cell_type": "markdown",
      "source": [
        "## Part 2. Make features"
      ]
    },
    {
      "metadata": {
        "id": "AD2fBNrOYzCG",
        "colab_type": "text"
      },
      "cell_type": "markdown",
      "source": [
        "Calculate the number of cell phones per person, and add this column onto your dataframe.\n",
        "\n",
        "(You've calculated correctly if you get 1.220 cell phones per person in the United States in 2017.)"
      ]
    },
    {
      "metadata": {
        "id": "wXI9nQthYnFK",
        "colab_type": "code",
        "colab": {
          "base_uri": "https://localhost:8080/",
          "height": 119
        },
        "outputId": "21a475f7-5cec-41df-b3c3-c6a20ca6f7bf"
      },
      "cell_type": "code",
      "source": [
        "final.dtypes\n"
      ],
      "execution_count": 115,
      "outputs": [
        {
          "output_type": "execute_result",
          "data": {
            "text/plain": [
              "geo                   object\n",
              "time                   int64\n",
              "cell_phones_total    float64\n",
              "population_total       int64\n",
              "country               object\n",
              "dtype: object"
            ]
          },
          "metadata": {
            "tags": []
          },
          "execution_count": 115
        }
      ]
    },
    {
      "metadata": {
        "id": "xjqBE6-z0Hcq",
        "colab_type": "code",
        "colab": {}
      },
      "cell_type": "code",
      "source": [
        "# df=final\n",
        "# df1=cell_phones\n",
        "# df2=population\n",
        "# df3=geo_country_codes\n",
        "# Calculate the number of cell phones per person, and add this column onto your dataframe.\n",
        "# (You've calculated correctly if you get 1.220 cell phones per person in the United States in 2017.)\n",
        "\n",
        "final['Cell Phones Per Person'] = final.cell_phones_total / final.population_total"
      ],
      "execution_count": 0,
      "outputs": []
    },
    {
      "metadata": {
        "id": "yrY7LmyM2UAn",
        "colab_type": "code",
        "colab": {
          "base_uri": "https://localhost:8080/",
          "height": 566
        },
        "outputId": "be28a9bb-121c-4439-fe0f-1145e9ada894"
      },
      "cell_type": "code",
      "source": [
        "pd.set_option('display.max_rows', 500)\n",
        "final.sort_values(by='country').tail(400).head(10)"
      ],
      "execution_count": 97,
      "outputs": [
        {
          "output_type": "execute_result",
          "data": {
            "text/html": [
              "<div>\n",
              "<style scoped>\n",
              "    .dataframe tbody tr th:only-of-type {\n",
              "        vertical-align: middle;\n",
              "    }\n",
              "\n",
              "    .dataframe tbody tr th {\n",
              "        vertical-align: top;\n",
              "    }\n",
              "\n",
              "    .dataframe thead th {\n",
              "        text-align: right;\n",
              "    }\n",
              "</style>\n",
              "<table border=\"1\" class=\"dataframe\">\n",
              "  <thead>\n",
              "    <tr style=\"text-align: right;\">\n",
              "      <th></th>\n",
              "      <th>geo</th>\n",
              "      <th>time</th>\n",
              "      <th>cell_phones_total</th>\n",
              "      <th>population_total</th>\n",
              "      <th>country</th>\n",
              "      <th>Cell Phones Per Person</th>\n",
              "    </tr>\n",
              "  </thead>\n",
              "  <tbody>\n",
              "    <tr>\n",
              "      <th>8130</th>\n",
              "      <td>USA</td>\n",
              "      <td>2013</td>\n",
              "      <td>310,698,000.0</td>\n",
              "      <td>315536676</td>\n",
              "      <td>United States</td>\n",
              "      <td>0.9846652501340288</td>\n",
              "    </tr>\n",
              "    <tr>\n",
              "      <th>8120</th>\n",
              "      <td>USA</td>\n",
              "      <td>2003</td>\n",
              "      <td>160,637,000.0</td>\n",
              "      <td>290027624</td>\n",
              "      <td>United States</td>\n",
              "      <td>0.5538679308699229</td>\n",
              "    </tr>\n",
              "    <tr>\n",
              "      <th>8132</th>\n",
              "      <td>USA</td>\n",
              "      <td>2015</td>\n",
              "      <td>382,307,000.0</td>\n",
              "      <td>319929162</td>\n",
              "      <td>United States</td>\n",
              "      <td>1.1949739048796058</td>\n",
              "    </tr>\n",
              "    <tr>\n",
              "      <th>8133</th>\n",
              "      <td>USA</td>\n",
              "      <td>2016</td>\n",
              "      <td>395,881,000.0</td>\n",
              "      <td>322179605</td>\n",
              "      <td>United States</td>\n",
              "      <td>1.228758722948959</td>\n",
              "    </tr>\n",
              "    <tr>\n",
              "      <th>8134</th>\n",
              "      <td>USA</td>\n",
              "      <td>2017</td>\n",
              "      <td>395,881,000.0</td>\n",
              "      <td>324459463</td>\n",
              "      <td>United States</td>\n",
              "      <td>1.2201246847283354</td>\n",
              "    </tr>\n",
              "    <tr>\n",
              "      <th>8128</th>\n",
              "      <td>USA</td>\n",
              "      <td>2011</td>\n",
              "      <td>297,404,000.0</td>\n",
              "      <td>311051373</td>\n",
              "      <td>United States</td>\n",
              "      <td>0.9561250192584747</td>\n",
              "    </tr>\n",
              "    <tr>\n",
              "      <th>8118</th>\n",
              "      <td>USA</td>\n",
              "      <td>2001</td>\n",
              "      <td>128,500,000.0</td>\n",
              "      <td>284852391</td>\n",
              "      <td>United States</td>\n",
              "      <td>0.45111083515532086</td>\n",
              "    </tr>\n",
              "    <tr>\n",
              "      <th>8092</th>\n",
              "      <td>USA</td>\n",
              "      <td>1960</td>\n",
              "      <td>0.0</td>\n",
              "      <td>186808228</td>\n",
              "      <td>United States</td>\n",
              "      <td>0.0</td>\n",
              "    </tr>\n",
              "    <tr>\n",
              "      <th>8094</th>\n",
              "      <td>USA</td>\n",
              "      <td>1970</td>\n",
              "      <td>0.0</td>\n",
              "      <td>209588150</td>\n",
              "      <td>United States</td>\n",
              "      <td>0.0</td>\n",
              "    </tr>\n",
              "    <tr>\n",
              "      <th>8116</th>\n",
              "      <td>USA</td>\n",
              "      <td>1999</td>\n",
              "      <td>86,047,003.0</td>\n",
              "      <td>278862277</td>\n",
              "      <td>United States</td>\n",
              "      <td>0.30856451408807795</td>\n",
              "    </tr>\n",
              "  </tbody>\n",
              "</table>\n",
              "</div>"
            ],
            "text/plain": [
              "      geo  time  cell_phones_total  population_total        country  Cell Phones Per Person\n",
              "8130  USA  2013      310,698,000.0         315536676  United States      0.9846652501340288\n",
              "8120  USA  2003      160,637,000.0         290027624  United States      0.5538679308699229\n",
              "8132  USA  2015      382,307,000.0         319929162  United States      1.1949739048796058\n",
              "8133  USA  2016      395,881,000.0         322179605  United States       1.228758722948959\n",
              "8134  USA  2017      395,881,000.0         324459463  United States      1.2201246847283354\n",
              "8128  USA  2011      297,404,000.0         311051373  United States      0.9561250192584747\n",
              "8118  USA  2001      128,500,000.0         284852391  United States     0.45111083515532086\n",
              "8092  USA  1960                0.0         186808228  United States                     0.0\n",
              "8094  USA  1970                0.0         209588150  United States                     0.0\n",
              "8116  USA  1999       86,047,003.0         278862277  United States     0.30856451408807795"
            ]
          },
          "metadata": {
            "tags": []
          },
          "execution_count": 97
        }
      ]
    },
    {
      "metadata": {
        "id": "S3QFdsnRZMH6",
        "colab_type": "text"
      },
      "cell_type": "markdown",
      "source": [
        "Modify the `geo` column to make the geo codes uppercase instead of lowercase."
      ]
    },
    {
      "metadata": {
        "id": "93ADij8_YkOq",
        "colab_type": "code",
        "colab": {
          "base_uri": "https://localhost:8080/",
          "height": 275
        },
        "outputId": "15651996-81f7-4a4f-c1b2-d62efd10a79e"
      },
      "cell_type": "code",
      "source": [
        "temp = final.geo.str.upper()\n",
        "type(temp)\n",
        "final['geo']=temp\n",
        "final.head()\n"
      ],
      "execution_count": 117,
      "outputs": [
        {
          "output_type": "execute_result",
          "data": {
            "text/html": [
              "<div>\n",
              "<style scoped>\n",
              "    .dataframe tbody tr th:only-of-type {\n",
              "        vertical-align: middle;\n",
              "    }\n",
              "\n",
              "    .dataframe tbody tr th {\n",
              "        vertical-align: top;\n",
              "    }\n",
              "\n",
              "    .dataframe thead th {\n",
              "        text-align: right;\n",
              "    }\n",
              "</style>\n",
              "<table border=\"1\" class=\"dataframe\">\n",
              "  <thead>\n",
              "    <tr style=\"text-align: right;\">\n",
              "      <th></th>\n",
              "      <th>geo</th>\n",
              "      <th>time</th>\n",
              "      <th>cell_phones_total</th>\n",
              "      <th>population_total</th>\n",
              "      <th>country</th>\n",
              "      <th>Cell Phones Per Person</th>\n",
              "    </tr>\n",
              "  </thead>\n",
              "  <tbody>\n",
              "    <tr>\n",
              "      <th>0</th>\n",
              "      <td>AFG</td>\n",
              "      <td>1960</td>\n",
              "      <td>0.0</td>\n",
              "      <td>8996351</td>\n",
              "      <td>Afghanistan</td>\n",
              "      <td>0.0</td>\n",
              "    </tr>\n",
              "    <tr>\n",
              "      <th>1</th>\n",
              "      <td>AFG</td>\n",
              "      <td>1965</td>\n",
              "      <td>0.0</td>\n",
              "      <td>9938414</td>\n",
              "      <td>Afghanistan</td>\n",
              "      <td>0.0</td>\n",
              "    </tr>\n",
              "    <tr>\n",
              "      <th>2</th>\n",
              "      <td>AFG</td>\n",
              "      <td>1970</td>\n",
              "      <td>0.0</td>\n",
              "      <td>11126123</td>\n",
              "      <td>Afghanistan</td>\n",
              "      <td>0.0</td>\n",
              "    </tr>\n",
              "    <tr>\n",
              "      <th>3</th>\n",
              "      <td>AFG</td>\n",
              "      <td>1975</td>\n",
              "      <td>0.0</td>\n",
              "      <td>12590286</td>\n",
              "      <td>Afghanistan</td>\n",
              "      <td>0.0</td>\n",
              "    </tr>\n",
              "    <tr>\n",
              "      <th>4</th>\n",
              "      <td>AFG</td>\n",
              "      <td>1976</td>\n",
              "      <td>0.0</td>\n",
              "      <td>12840299</td>\n",
              "      <td>Afghanistan</td>\n",
              "      <td>0.0</td>\n",
              "    </tr>\n",
              "  </tbody>\n",
              "</table>\n",
              "</div>"
            ],
            "text/plain": [
              "   geo  time  cell_phones_total  population_total      country  Cell Phones Per Person\n",
              "0  AFG  1960                0.0           8996351  Afghanistan                     0.0\n",
              "1  AFG  1965                0.0           9938414  Afghanistan                     0.0\n",
              "2  AFG  1970                0.0          11126123  Afghanistan                     0.0\n",
              "3  AFG  1975                0.0          12590286  Afghanistan                     0.0\n",
              "4  AFG  1976                0.0          12840299  Afghanistan                     0.0"
            ]
          },
          "metadata": {
            "tags": []
          },
          "execution_count": 117
        }
      ]
    },
    {
      "metadata": {
        "id": "hlPDAFCfaF6C",
        "colab_type": "text"
      },
      "cell_type": "markdown",
      "source": [
        "## Part 3. Process data"
      ]
    },
    {
      "metadata": {
        "id": "k-pudNWve2SQ",
        "colab_type": "text"
      },
      "cell_type": "markdown",
      "source": [
        "Use the describe function, to describe your dataframe's numeric columns, and then its non-numeric columns.\n",
        "\n",
        "(You'll see the time period ranges from 1960 to 2017, and there are 195 unique countries represented.)"
      ]
    },
    {
      "metadata": {
        "id": "g26yemKre2Cu",
        "colab_type": "code",
        "colab": {
          "base_uri": "https://localhost:8080/",
          "height": 428
        },
        "outputId": "6edc752b-0b2f-4e76-bffd-c46d4ddd5357"
      },
      "cell_type": "code",
      "source": [
        "# This optional code formats float numbers with comma separators\n",
        "pd.options.display.float_format = '{:,}'.format\n",
        "# geo                        object\n",
        "# time                        int64\n",
        "# cell_phones_total         float64\n",
        "# population_total            int64\n",
        "# country                    object\n",
        "# Cell Phones Per Person    float64\n",
        "# dtype: object\n",
        "final.dtypes\n",
        "\n",
        "pd.set_option('display.max_columns', 500)\n",
        "print(final.describe())\n",
        "print(\"\\n\")\n",
        "print(final.geo.describe())\n",
        "print(\"\\n\")\n",
        "print(final.country.describe())"
      ],
      "execution_count": 118,
      "outputs": [
        {
          "output_type": "stream",
          "text": [
            "                     time    cell_phones_total     population_total  Cell Phones Per Person\n",
            "count             8,590.0              8,590.0              8,590.0                 8,590.0\n",
            "mean  1,994.1934807916182  9,004,949.642905472 29,838,230.581722934     0.27963855580591535\n",
            "std    14.257974607310278 55,734,084.872176506 116,128,377.47477297     0.45424665621404714\n",
            "min               1,960.0                  0.0              4,433.0                     0.0\n",
            "25%               1,983.0                  0.0          1,456,148.0                     0.0\n",
            "50%               1,995.0              6,200.0          5,725,062.5   0.0015636266438163813\n",
            "75%               2,006.0          1,697,652.0         18,105,812.0      0.4611491855201403\n",
            "max               2,017.0      1,474,097,000.0      1,409,517,397.0       2.490242818521353\n",
            "\n",
            "\n",
            "count     8590\n",
            "unique     195\n",
            "top        CAN\n",
            "freq        46\n",
            "Name: geo, dtype: object\n",
            "\n",
            "\n",
            "count        8590\n",
            "unique        195\n",
            "top       Ukraine\n",
            "freq           46\n",
            "Name: country, dtype: object\n"
          ],
          "name": "stdout"
        }
      ]
    },
    {
      "metadata": {
        "id": "zALg-RrYaLcI",
        "colab_type": "text"
      },
      "cell_type": "markdown",
      "source": [
        "In 2017, what were the top 5 countries with the most cell phones total?\n",
        "\n",
        "Your list of countries should have these totals:\n",
        "\n",
        "| country | cell phones total |\n",
        "|:-------:|:-----------------:|\n",
        "|    ?    |     1,474,097,000 |\n",
        "|    ?    |     1,168,902,277 |\n",
        "|    ?    |       458,923,202 |\n",
        "|    ?    |       395,881,000 |\n",
        "|    ?    |       236,488,548 |\n",
        "\n"
      ]
    },
    {
      "metadata": {
        "id": "qBnQ0_HM89vv",
        "colab_type": "code",
        "colab": {
          "base_uri": "https://localhost:8080/",
          "height": 119
        },
        "outputId": "c0d1c33c-8659-41f9-c954-8f2cfac7c5c3"
      },
      "cell_type": "code",
      "source": [
        "# print(final.sort_values(by='cell_phones_total', ascending=False).head())\n",
        "top=final[['country','cell_phones_total']].sort_values('cell_phones_total', ascending=False).drop_duplicates(['country'])\n",
        "print(top.head())"
      ],
      "execution_count": 119,
      "outputs": [
        {
          "output_type": "stream",
          "text": [
            "            country  cell_phones_total\n",
            "1496          China    1,474,097,000.0\n",
            "3595          India    1,168,902,277.0\n",
            "3549      Indonesia      458,923,202.0\n",
            "8134  United States      395,881,000.0\n",
            "1081         Brazil      280,728,796.0\n"
          ],
          "name": "stdout"
        }
      ]
    },
    {
      "metadata": {
        "id": "03V3Wln_h0dj",
        "colab_type": "text"
      },
      "cell_type": "markdown",
      "source": [
        "2017 was the first year that China had more cell phones than people.\n",
        "\n",
        "What was the first year that the USA had more cell phones than people?"
      ]
    },
    {
      "metadata": {
        "id": "KONQkQZ3haNC",
        "colab_type": "code",
        "colab": {
          "base_uri": "https://localhost:8080/",
          "height": 238
        },
        "outputId": "6d6ced41-42ab-4fee-8e8e-b1744b85f655"
      },
      "cell_type": "code",
      "source": [
        "condition = (final.country == 'United States') & (final.cell_phones_total > final.population_total)\n",
        "temp=final.loc[condition, 'time']\n",
        "print(type(temp))\n",
        "print(\"\\n\")\n",
        "print(temp.head())\n",
        "print(\"\\n\")\n",
        "print(\"first year that the USA had more cell phones than people\")\n",
        "print(temp.head(1))\n"
      ],
      "execution_count": 120,
      "outputs": [
        {
          "output_type": "stream",
          "text": [
            "<class 'pandas.core.series.Series'>\n",
            "\n",
            "\n",
            "8131    2014\n",
            "8132    2015\n",
            "8133    2016\n",
            "8134    2017\n",
            "Name: time, dtype: int64\n",
            "\n",
            "\n",
            "first year that the USA had more cell phones than people\n",
            "8131    2014\n",
            "Name: time, dtype: int64\n"
          ],
          "name": "stdout"
        }
      ]
    },
    {
      "metadata": {
        "id": "6J7iwMnTg8KZ",
        "colab_type": "text"
      },
      "cell_type": "markdown",
      "source": [
        "## Part 4. Reshape data"
      ]
    },
    {
      "metadata": {
        "id": "LP9InazRkUxG",
        "colab_type": "text"
      },
      "cell_type": "markdown",
      "source": [
        "Create a pivot table:\n",
        "- Columns: Years 2007—2017\n",
        "- Rows: China, India, United States, Indonesia, Brazil (order doesn't matter)\n",
        "- Values: Cell Phones Total\n",
        "\n",
        "The table's shape should be: (5, 11)"
      ]
    },
    {
      "metadata": {
        "id": "JD7mXXjLj4Ue",
        "colab_type": "code",
        "colab": {
          "base_uri": "https://localhost:8080/",
          "height": 612
        },
        "outputId": "e425d6ef-bb7d-4b35-89a6-75900d6b383c"
      },
      "cell_type": "code",
      "source": [
        "# Current Variables\n",
        "# ['pd', 'population', 'df1', 'df2', 'df3', 'merged', 'columns', 'final', 'temp'\n",
        "#     , 'np', 'df', 'top', 'condition']\n",
        "# Current df column names\n",
        "# ['geo', 'time', 'cell_phones_total', 'population_total', 'country', \n",
        "#  'Cell Phones Per Person']\n",
        "# Columns: Years 2007—2017\n",
        "# Rows: China, India, United States, Indonesia, Brazil (order doesn't matter)\n",
        "# Values: Cell Phones Total\n",
        "\n",
        "final2=final\n",
        "print(final2.shape)\n",
        "a=[\"China\", \"India\", \"United States\", \"Indonesia\", \"Brazil\"]\n",
        "final2 = final2[df['country'].isin(a)]\n",
        "final2 = final2[final2['time'] >= 2007]\n",
        "\n",
        "print(final2.country.value_counts())\n",
        "print(final2.time.value_counts())\n",
        "print(final2.shape, final.shape)\n",
        "\n",
        "final2.pivot_table(index='country', \n",
        "                   columns='time', \n",
        "                   values='cell_phones_total').head()\n"
      ],
      "execution_count": 134,
      "outputs": [
        {
          "output_type": "stream",
          "text": [
            "(8590, 6)\n",
            "China            11\n",
            "United States    11\n",
            "Indonesia        11\n",
            "Brazil           11\n",
            "India            11\n",
            "Name: country, dtype: int64\n",
            "2017    5\n",
            "2016    5\n",
            "2015    5\n",
            "2014    5\n",
            "2013    5\n",
            "2012    5\n",
            "2011    5\n",
            "2010    5\n",
            "2009    5\n",
            "2008    5\n",
            "2007    5\n",
            "Name: time, dtype: int64\n",
            "(55, 6) (8590, 6)\n"
          ],
          "name": "stdout"
        },
        {
          "output_type": "execute_result",
          "data": {
            "text/html": [
              "<div>\n",
              "<style scoped>\n",
              "    .dataframe tbody tr th:only-of-type {\n",
              "        vertical-align: middle;\n",
              "    }\n",
              "\n",
              "    .dataframe tbody tr th {\n",
              "        vertical-align: top;\n",
              "    }\n",
              "\n",
              "    .dataframe thead th {\n",
              "        text-align: right;\n",
              "    }\n",
              "</style>\n",
              "<table border=\"1\" class=\"dataframe\">\n",
              "  <thead>\n",
              "    <tr style=\"text-align: right;\">\n",
              "      <th>time</th>\n",
              "      <th>2007</th>\n",
              "      <th>2008</th>\n",
              "      <th>2009</th>\n",
              "      <th>2010</th>\n",
              "      <th>2011</th>\n",
              "      <th>2012</th>\n",
              "      <th>2013</th>\n",
              "      <th>2014</th>\n",
              "      <th>2015</th>\n",
              "      <th>2016</th>\n",
              "      <th>2017</th>\n",
              "    </tr>\n",
              "    <tr>\n",
              "      <th>country</th>\n",
              "      <th></th>\n",
              "      <th></th>\n",
              "      <th></th>\n",
              "      <th></th>\n",
              "      <th></th>\n",
              "      <th></th>\n",
              "      <th></th>\n",
              "      <th></th>\n",
              "      <th></th>\n",
              "      <th></th>\n",
              "      <th></th>\n",
              "    </tr>\n",
              "  </thead>\n",
              "  <tbody>\n",
              "    <tr>\n",
              "      <th>Brazil</th>\n",
              "      <td>120,980,103.0</td>\n",
              "      <td>150,641,403.0</td>\n",
              "      <td>169,385,584.0</td>\n",
              "      <td>196,929,978.0</td>\n",
              "      <td>234,357,507.0</td>\n",
              "      <td>248,323,703.0</td>\n",
              "      <td>271,099,799.0</td>\n",
              "      <td>280,728,796.0</td>\n",
              "      <td>257,814,274.0</td>\n",
              "      <td>244,067,356.0</td>\n",
              "      <td>236,488,548.0</td>\n",
              "    </tr>\n",
              "    <tr>\n",
              "      <th>China</th>\n",
              "      <td>547,306,000.0</td>\n",
              "      <td>641,245,000.0</td>\n",
              "      <td>747,214,000.0</td>\n",
              "      <td>859,003,000.0</td>\n",
              "      <td>986,253,000.0</td>\n",
              "      <td>1,112,155,000.0</td>\n",
              "      <td>1,229,113,000.0</td>\n",
              "      <td>1,286,093,000.0</td>\n",
              "      <td>1,291,984,200.0</td>\n",
              "      <td>1,364,934,000.0</td>\n",
              "      <td>1,474,097,000.0</td>\n",
              "    </tr>\n",
              "    <tr>\n",
              "      <th>India</th>\n",
              "      <td>233,620,000.0</td>\n",
              "      <td>346,890,000.0</td>\n",
              "      <td>525,090,000.0</td>\n",
              "      <td>752,190,000.0</td>\n",
              "      <td>893,862,478.0</td>\n",
              "      <td>864,720,917.0</td>\n",
              "      <td>886,304,245.0</td>\n",
              "      <td>944,008,677.0</td>\n",
              "      <td>1,001,056,000.0</td>\n",
              "      <td>1,127,809,000.0</td>\n",
              "      <td>1,168,902,277.0</td>\n",
              "    </tr>\n",
              "    <tr>\n",
              "      <th>Indonesia</th>\n",
              "      <td>93,386,881.0</td>\n",
              "      <td>140,578,243.0</td>\n",
              "      <td>163,676,961.0</td>\n",
              "      <td>211,290,235.0</td>\n",
              "      <td>249,805,619.0</td>\n",
              "      <td>281,963,665.0</td>\n",
              "      <td>313,226,914.0</td>\n",
              "      <td>325,582,819.0</td>\n",
              "      <td>338,948,340.0</td>\n",
              "      <td>385,573,398.0</td>\n",
              "      <td>458,923,202.0</td>\n",
              "    </tr>\n",
              "    <tr>\n",
              "      <th>United States</th>\n",
              "      <td>249,300,000.0</td>\n",
              "      <td>261,300,000.0</td>\n",
              "      <td>274,283,000.0</td>\n",
              "      <td>285,118,000.0</td>\n",
              "      <td>297,404,000.0</td>\n",
              "      <td>304,838,000.0</td>\n",
              "      <td>310,698,000.0</td>\n",
              "      <td>355,500,000.0</td>\n",
              "      <td>382,307,000.0</td>\n",
              "      <td>395,881,000.0</td>\n",
              "      <td>395,881,000.0</td>\n",
              "    </tr>\n",
              "  </tbody>\n",
              "</table>\n",
              "</div>"
            ],
            "text/plain": [
              "time                   2007          2008          2009          2010          2011            2012            2013            2014            2015            2016            2017\n",
              "country                                                                                                                                                                            \n",
              "Brazil        120,980,103.0 150,641,403.0 169,385,584.0 196,929,978.0 234,357,507.0   248,323,703.0   271,099,799.0   280,728,796.0   257,814,274.0   244,067,356.0   236,488,548.0\n",
              "China         547,306,000.0 641,245,000.0 747,214,000.0 859,003,000.0 986,253,000.0 1,112,155,000.0 1,229,113,000.0 1,286,093,000.0 1,291,984,200.0 1,364,934,000.0 1,474,097,000.0\n",
              "India         233,620,000.0 346,890,000.0 525,090,000.0 752,190,000.0 893,862,478.0   864,720,917.0   886,304,245.0   944,008,677.0 1,001,056,000.0 1,127,809,000.0 1,168,902,277.0\n",
              "Indonesia      93,386,881.0 140,578,243.0 163,676,961.0 211,290,235.0 249,805,619.0   281,963,665.0   313,226,914.0   325,582,819.0   338,948,340.0   385,573,398.0   458,923,202.0\n",
              "United States 249,300,000.0 261,300,000.0 274,283,000.0 285,118,000.0 297,404,000.0   304,838,000.0   310,698,000.0   355,500,000.0   382,307,000.0   395,881,000.0   395,881,000.0"
            ]
          },
          "metadata": {
            "tags": []
          },
          "execution_count": 134
        }
      ]
    },
    {
      "metadata": {
        "id": "CNKTu2DCnAo6",
        "colab_type": "text"
      },
      "cell_type": "markdown",
      "source": [
        "#### OPTIONAL BONUS QUESTION!\n",
        "\n",
        "Sort these 5 countries, by biggest increase in cell phones from 2007 to 2017.\n",
        "\n",
        "Which country had 935,282,277 more cell phones in 2017 versus 2007?"
      ]
    },
    {
      "metadata": {
        "id": "O4Aecv1fmQlj",
        "colab_type": "code",
        "colab": {
          "base_uri": "https://localhost:8080/",
          "height": 275
        },
        "outputId": "af7a970c-69e8-41f1-f158-f44acd928de4"
      },
      "cell_type": "code",
      "source": [
        "# Current Variables\n",
        "# ['pd', 'population', 'df1', 'df2', 'df3', 'merged', 'columns', 'final', 'final2',\n",
        "#  'temp', 'np', 'df', 'top', 'condition']\n",
        "\n",
        "# Current df column names\n",
        "# ['geo', 'time', 'cell_phones_total', 'population_total', 'country', \n",
        "#  'Cell Phones Per Person']\n",
        "\n",
        "\n",
        "final3 = final2.pivot_table(index='country', \n",
        "                   columns='time', \n",
        "                   values='cell_phones_total')\n",
        "\n",
        "final3['2phoneIncrease'] = (final3[2017]-final3[2007])\n",
        "print(final3['2phoneIncrease'])\n",
        "print(final3.sort_values(by='2phoneIncrease', ascending=False))\n",
        "\n",
        "# Which country had 935,282,277 more cell phones in 2017 versus 2007?\n",
        "# India\n",
        "\n"
      ],
      "execution_count": 156,
      "outputs": [
        {
          "output_type": "stream",
          "text": [
            "country\n",
            "Brazil          115,508,445.0\n",
            "China           926,791,000.0\n",
            "India           935,282,277.0\n",
            "Indonesia       365,536,321.0\n",
            "United States   146,581,000.0\n",
            "Name: 2phoneIncrease, dtype: float64\n",
            "time                   2007          2008          2009          2010          2011            2012            2013            2014            2015            2016            2017  2phoneIncrease\n",
            "country                                                                                                                                                                                            \n",
            "India         233,620,000.0 346,890,000.0 525,090,000.0 752,190,000.0 893,862,478.0   864,720,917.0   886,304,245.0   944,008,677.0 1,001,056,000.0 1,127,809,000.0 1,168,902,277.0   935,282,277.0\n",
            "China         547,306,000.0 641,245,000.0 747,214,000.0 859,003,000.0 986,253,000.0 1,112,155,000.0 1,229,113,000.0 1,286,093,000.0 1,291,984,200.0 1,364,934,000.0 1,474,097,000.0   926,791,000.0\n",
            "Indonesia      93,386,881.0 140,578,243.0 163,676,961.0 211,290,235.0 249,805,619.0   281,963,665.0   313,226,914.0   325,582,819.0   338,948,340.0   385,573,398.0   458,923,202.0   365,536,321.0\n",
            "United States 249,300,000.0 261,300,000.0 274,283,000.0 285,118,000.0 297,404,000.0   304,838,000.0   310,698,000.0   355,500,000.0   382,307,000.0   395,881,000.0   395,881,000.0   146,581,000.0\n",
            "Brazil        120,980,103.0 150,641,403.0 169,385,584.0 196,929,978.0 234,357,507.0   248,323,703.0   271,099,799.0   280,728,796.0   257,814,274.0   244,067,356.0   236,488,548.0   115,508,445.0\n"
          ],
          "name": "stdout"
        }
      ]
    },
    {
      "metadata": {
        "id": "7iHkMsa3Rorh",
        "colab_type": "text"
      },
      "cell_type": "markdown",
      "source": [
        "If you have the time and curiosity, what other questions can you ask and answer with this data?"
      ]
    }
  ]
}