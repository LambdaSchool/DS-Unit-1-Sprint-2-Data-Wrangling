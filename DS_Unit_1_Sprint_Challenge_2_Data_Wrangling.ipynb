{
  "nbformat": 4,
  "nbformat_minor": 0,
  "metadata": {
    "colab": {
      "name": "DS_Unit_1_Sprint_Challenge_2_Data_Wrangling.ipynb",
      "version": "0.3.2",
      "provenance": [],
      "collapsed_sections": [],
      "include_colab_link": true
    },
    "kernelspec": {
      "name": "python3",
      "display_name": "Python 3"
    }
  },
  "cells": [
    {
      "cell_type": "markdown",
      "metadata": {
        "id": "view-in-github",
        "colab_type": "text"
      },
      "source": [
        "<a href=\"https://colab.research.google.com/github/wel51x/DS-Unit-1-Sprint-2-Data-Wrangling/blob/master/DS_Unit_1_Sprint_Challenge_2_Data_Wrangling.ipynb\" target=\"_parent\"><img src=\"https://colab.research.google.com/assets/colab-badge.svg\" alt=\"Open In Colab\"/></a>"
      ]
    },
    {
      "metadata": {
        "id": "4yMHi_PX9hEz",
        "colab_type": "text"
      },
      "cell_type": "markdown",
      "source": [
        "# Data Science Unit 1 Sprint Challenge 2\n",
        "\n",
        "## Data Wrangling\n",
        "\n",
        "In this Sprint Challenge you will use data from [Gapminder](https://www.gapminder.org/about-gapminder/), a Swedish non-profit co-founded by Hans Rosling. \"Gapminder produces free teaching resources making the world understandable based on reliable statistics.\"\n",
        "- [Cell phones (total), by country and year](https://raw.githubusercontent.com/open-numbers/ddf--gapminder--systema_globalis/master/ddf--datapoints--cell_phones_total--by--geo--time.csv)\n",
        "- [Population (total), by country and year](https://raw.githubusercontent.com/open-numbers/ddf--gapminder--systema_globalis/master/ddf--datapoints--population_total--by--geo--time.csv)\n",
        "- [Geo country codes](https://github.com/open-numbers/ddf--gapminder--systema_globalis/blob/master/ddf--entities--geo--country.csv)\n",
        "\n",
        "These two links have everything you need to successfully complete the Sprint Challenge!\n",
        "- [Pandas documentation: Working with Text Data](https://pandas.pydata.org/pandas-docs/stable/text.html]) (one question)\n",
        "- [Pandas Cheat Sheet](https://github.com/pandas-dev/pandas/blob/master/doc/cheatsheet/Pandas_Cheat_Sheet.pdf) (everything else)"
      ]
    },
    {
      "metadata": {
        "id": "wWEU2GemX68A",
        "colab_type": "text"
      },
      "cell_type": "markdown",
      "source": [
        "## Part 0. Load data\n",
        "\n",
        "You don't need to add or change anything here. Just run this cell and it loads the data for you, into three dataframes."
      ]
    },
    {
      "metadata": {
        "id": "bxKtSi5sRQOl",
        "colab_type": "code",
        "colab": {}
      },
      "cell_type": "code",
      "source": [
        "import pandas as pd\n",
        "\n",
        "cell_phones = pd.read_csv('https://raw.githubusercontent.com/open-numbers/ddf--gapminder--systema_globalis/master/ddf--datapoints--cell_phones_total--by--geo--time.csv')\n",
        "\n",
        "population = pd.read_csv('https://raw.githubusercontent.com/open-numbers/ddf--gapminder--systema_globalis/master/ddf--datapoints--population_total--by--geo--time.csv')\n",
        "\n",
        "geo_country_codes = (pd.read_csv('https://raw.githubusercontent.com/open-numbers/ddf--gapminder--systema_globalis/master/ddf--entities--geo--country.csv')\n",
        "                       .rename(columns={'country': 'geo', 'name': 'country'}))"
      ],
      "execution_count": 0,
      "outputs": []
    },
    {
      "metadata": {
        "id": "AZmVTeCsX9RC",
        "colab_type": "text"
      },
      "cell_type": "markdown",
      "source": [
        "## Part 1. Join data"
      ]
    },
    {
      "metadata": {
        "id": "GLzX58u4SfEy",
        "colab_type": "text"
      },
      "cell_type": "markdown",
      "source": [
        "First, join the `cell_phones` and `population` dataframes (with an inner join on `geo` and `time`).\n",
        "\n",
        "The resulting dataframe's shape should be: (8590, 4)"
      ]
    },
    {
      "metadata": {
        "id": "GVV7Hnj4SXBa",
        "colab_type": "code",
        "colab": {
          "base_uri": "https://localhost:8080/",
          "height": 314
        },
        "outputId": "6fad46c7-b302-4c5f-8d6d-82aff5ee25f3"
      },
      "cell_type": "code",
      "source": [
        "print(cell_phones.shape)\n",
        "cell_phones.sample(8)"
      ],
      "execution_count": 111,
      "outputs": [
        {
          "output_type": "stream",
          "text": [
            "(9215, 3)\n"
          ],
          "name": "stdout"
        },
        {
          "output_type": "execute_result",
          "data": {
            "text/html": [
              "<div>\n",
              "<style scoped>\n",
              "    .dataframe tbody tr th:only-of-type {\n",
              "        vertical-align: middle;\n",
              "    }\n",
              "\n",
              "    .dataframe tbody tr th {\n",
              "        vertical-align: top;\n",
              "    }\n",
              "\n",
              "    .dataframe thead th {\n",
              "        text-align: right;\n",
              "    }\n",
              "</style>\n",
              "<table border=\"1\" class=\"dataframe\">\n",
              "  <thead>\n",
              "    <tr style=\"text-align: right;\">\n",
              "      <th></th>\n",
              "      <th>geo</th>\n",
              "      <th>time</th>\n",
              "      <th>cell_phones_total</th>\n",
              "    </tr>\n",
              "  </thead>\n",
              "  <tbody>\n",
              "    <tr>\n",
              "      <th>6397</th>\n",
              "      <td>nru</td>\n",
              "      <td>1985</td>\n",
              "      <td>0.0</td>\n",
              "    </tr>\n",
              "    <tr>\n",
              "      <th>1828</th>\n",
              "      <td>col</td>\n",
              "      <td>2009</td>\n",
              "      <td>42,159,613.0</td>\n",
              "    </tr>\n",
              "    <tr>\n",
              "      <th>4394</th>\n",
              "      <td>ken</td>\n",
              "      <td>2008</td>\n",
              "      <td>16,303,573.0</td>\n",
              "    </tr>\n",
              "    <tr>\n",
              "      <th>2924</th>\n",
              "      <td>fsm</td>\n",
              "      <td>2017</td>\n",
              "      <td>23,114.0</td>\n",
              "    </tr>\n",
              "    <tr>\n",
              "      <th>5610</th>\n",
              "      <td>mlt</td>\n",
              "      <td>1980</td>\n",
              "      <td>0.0</td>\n",
              "    </tr>\n",
              "    <tr>\n",
              "      <th>6124</th>\n",
              "      <td>ner</td>\n",
              "      <td>1995</td>\n",
              "      <td>0.0</td>\n",
              "    </tr>\n",
              "    <tr>\n",
              "      <th>2431</th>\n",
              "      <td>ecu</td>\n",
              "      <td>1977</td>\n",
              "      <td>0.0</td>\n",
              "    </tr>\n",
              "    <tr>\n",
              "      <th>6255</th>\n",
              "      <td>nld</td>\n",
              "      <td>1989</td>\n",
              "      <td>56,000.0</td>\n",
              "    </tr>\n",
              "  </tbody>\n",
              "</table>\n",
              "</div>"
            ],
            "text/plain": [
              "      geo  time  cell_phones_total\n",
              "6397  nru  1985                0.0\n",
              "1828  col  2009       42,159,613.0\n",
              "4394  ken  2008       16,303,573.0\n",
              "2924  fsm  2017           23,114.0\n",
              "5610  mlt  1980                0.0\n",
              "6124  ner  1995                0.0\n",
              "2431  ecu  1977                0.0\n",
              "6255  nld  1989           56,000.0"
            ]
          },
          "metadata": {
            "tags": []
          },
          "execution_count": 111
        }
      ]
    },
    {
      "metadata": {
        "id": "SMPFdjRcs5lP",
        "colab_type": "code",
        "colab": {
          "base_uri": "https://localhost:8080/",
          "height": 314
        },
        "outputId": "ac343252-1ba7-4fba-b68a-522552234174"
      },
      "cell_type": "code",
      "source": [
        "print(population.shape)\n",
        "population.sample(8)"
      ],
      "execution_count": 112,
      "outputs": [
        {
          "output_type": "stream",
          "text": [
            "(59297, 3)\n"
          ],
          "name": "stdout"
        },
        {
          "output_type": "execute_result",
          "data": {
            "text/html": [
              "<div>\n",
              "<style scoped>\n",
              "    .dataframe tbody tr th:only-of-type {\n",
              "        vertical-align: middle;\n",
              "    }\n",
              "\n",
              "    .dataframe tbody tr th {\n",
              "        vertical-align: top;\n",
              "    }\n",
              "\n",
              "    .dataframe thead th {\n",
              "        text-align: right;\n",
              "    }\n",
              "</style>\n",
              "<table border=\"1\" class=\"dataframe\">\n",
              "  <thead>\n",
              "    <tr style=\"text-align: right;\">\n",
              "      <th></th>\n",
              "      <th>geo</th>\n",
              "      <th>time</th>\n",
              "      <th>population_total</th>\n",
              "    </tr>\n",
              "  </thead>\n",
              "  <tbody>\n",
              "    <tr>\n",
              "      <th>25216</th>\n",
              "      <td>isl</td>\n",
              "      <td>2033</td>\n",
              "      <td>371060</td>\n",
              "    </tr>\n",
              "    <tr>\n",
              "      <th>8820</th>\n",
              "      <td>can</td>\n",
              "      <td>1891</td>\n",
              "      <td>4957140</td>\n",
              "    </tr>\n",
              "    <tr>\n",
              "      <th>8940</th>\n",
              "      <td>can</td>\n",
              "      <td>2011</td>\n",
              "      <td>34538622</td>\n",
              "    </tr>\n",
              "    <tr>\n",
              "      <th>40153</th>\n",
              "      <td>nru</td>\n",
              "      <td>1920</td>\n",
              "      <td>2618</td>\n",
              "    </tr>\n",
              "    <tr>\n",
              "      <th>55408</th>\n",
              "      <td>ukr</td>\n",
              "      <td>1824</td>\n",
              "      <td>11757787</td>\n",
              "    </tr>\n",
              "    <tr>\n",
              "      <th>28173</th>\n",
              "      <td>kir</td>\n",
              "      <td>1980</td>\n",
              "      <td>59339</td>\n",
              "    </tr>\n",
              "    <tr>\n",
              "      <th>53991</th>\n",
              "      <td>tur</td>\n",
              "      <td>1912</td>\n",
              "      <td>15022873</td>\n",
              "    </tr>\n",
              "    <tr>\n",
              "      <th>27117</th>\n",
              "      <td>ken</td>\n",
              "      <td>1827</td>\n",
              "      <td>2574000</td>\n",
              "    </tr>\n",
              "  </tbody>\n",
              "</table>\n",
              "</div>"
            ],
            "text/plain": [
              "       geo  time  population_total\n",
              "25216  isl  2033            371060\n",
              "8820   can  1891           4957140\n",
              "8940   can  2011          34538622\n",
              "40153  nru  1920              2618\n",
              "55408  ukr  1824          11757787\n",
              "28173  kir  1980             59339\n",
              "53991  tur  1912          15022873\n",
              "27117  ken  1827           2574000"
            ]
          },
          "metadata": {
            "tags": []
          },
          "execution_count": 112
        }
      ]
    },
    {
      "metadata": {
        "id": "m9INbfvBtEuT",
        "colab_type": "code",
        "colab": {
          "base_uri": "https://localhost:8080/",
          "height": 468
        },
        "outputId": "ecac5ecf-6757-4028-c206-41f0ca2347bf"
      },
      "cell_type": "code",
      "source": [
        "print(geo_country_codes.shape)\n",
        "geo_country_codes.sample(8)"
      ],
      "execution_count": 113,
      "outputs": [
        {
          "output_type": "stream",
          "text": [
            "(273, 33)\n"
          ],
          "name": "stdout"
        },
        {
          "output_type": "execute_result",
          "data": {
            "text/html": [
              "<div>\n",
              "<style scoped>\n",
              "    .dataframe tbody tr th:only-of-type {\n",
              "        vertical-align: middle;\n",
              "    }\n",
              "\n",
              "    .dataframe tbody tr th {\n",
              "        vertical-align: top;\n",
              "    }\n",
              "\n",
              "    .dataframe thead th {\n",
              "        text-align: right;\n",
              "    }\n",
              "</style>\n",
              "<table border=\"1\" class=\"dataframe\">\n",
              "  <thead>\n",
              "    <tr style=\"text-align: right;\">\n",
              "      <th></th>\n",
              "      <th>geo</th>\n",
              "      <th>alt_5</th>\n",
              "      <th>alternative_1</th>\n",
              "      <th>alternative_2</th>\n",
              "      <th>alternative_3</th>\n",
              "      <th>alternative_4_cdiac</th>\n",
              "      <th>arb1</th>\n",
              "      <th>arb2</th>\n",
              "      <th>arb3</th>\n",
              "      <th>arb4</th>\n",
              "      <th>...</th>\n",
              "      <th>latitude</th>\n",
              "      <th>longitude</th>\n",
              "      <th>main_religion_2008</th>\n",
              "      <th>country</th>\n",
              "      <th>pandg</th>\n",
              "      <th>un_state</th>\n",
              "      <th>unicode_region_subtag</th>\n",
              "      <th>upper_case_name</th>\n",
              "      <th>world_4region</th>\n",
              "      <th>world_6region</th>\n",
              "    </tr>\n",
              "  </thead>\n",
              "  <tbody>\n",
              "    <tr>\n",
              "      <th>214</th>\n",
              "      <td>slb</td>\n",
              "      <td>NaN</td>\n",
              "      <td>Solomon Isl.</td>\n",
              "      <td>NaN</td>\n",
              "      <td>NaN</td>\n",
              "      <td>Solomon Islands</td>\n",
              "      <td>NaN</td>\n",
              "      <td>NaN</td>\n",
              "      <td>NaN</td>\n",
              "      <td>NaN</td>\n",
              "      <td>...</td>\n",
              "      <td>-8.0</td>\n",
              "      <td>159.0</td>\n",
              "      <td>christian</td>\n",
              "      <td>Solomon Islands</td>\n",
              "      <td>NaN</td>\n",
              "      <td>True</td>\n",
              "      <td>SB</td>\n",
              "      <td>SOLOMON ISLANDS</td>\n",
              "      <td>asia</td>\n",
              "      <td>east_asia_pacific</td>\n",
              "    </tr>\n",
              "    <tr>\n",
              "      <th>94</th>\n",
              "      <td>gmb</td>\n",
              "      <td>NaN</td>\n",
              "      <td>Gambia, The</td>\n",
              "      <td>The Gambia</td>\n",
              "      <td>Gambia The</td>\n",
              "      <td>Gambia</td>\n",
              "      <td>NaN</td>\n",
              "      <td>NaN</td>\n",
              "      <td>NaN</td>\n",
              "      <td>NaN</td>\n",
              "      <td>...</td>\n",
              "      <td>13.5</td>\n",
              "      <td>-15.5</td>\n",
              "      <td>muslim</td>\n",
              "      <td>Gambia</td>\n",
              "      <td>GAMBIA</td>\n",
              "      <td>True</td>\n",
              "      <td>GM</td>\n",
              "      <td>GAMBIA</td>\n",
              "      <td>africa</td>\n",
              "      <td>sub_saharan_africa</td>\n",
              "    </tr>\n",
              "    <tr>\n",
              "      <th>218</th>\n",
              "      <td>som</td>\n",
              "      <td>NaN</td>\n",
              "      <td>NaN</td>\n",
              "      <td>NaN</td>\n",
              "      <td>NaN</td>\n",
              "      <td>Somalia</td>\n",
              "      <td>NaN</td>\n",
              "      <td>NaN</td>\n",
              "      <td>NaN</td>\n",
              "      <td>NaN</td>\n",
              "      <td>...</td>\n",
              "      <td>6.0</td>\n",
              "      <td>48.0</td>\n",
              "      <td>muslim</td>\n",
              "      <td>Somalia</td>\n",
              "      <td>SOMALIA</td>\n",
              "      <td>True</td>\n",
              "      <td>SO</td>\n",
              "      <td>SOMALIA</td>\n",
              "      <td>africa</td>\n",
              "      <td>sub_saharan_africa</td>\n",
              "    </tr>\n",
              "    <tr>\n",
              "      <th>257</th>\n",
              "      <td>uzb</td>\n",
              "      <td>NaN</td>\n",
              "      <td>NaN</td>\n",
              "      <td>NaN</td>\n",
              "      <td>NaN</td>\n",
              "      <td>Uzbekistan</td>\n",
              "      <td>NaN</td>\n",
              "      <td>NaN</td>\n",
              "      <td>NaN</td>\n",
              "      <td>NaN</td>\n",
              "      <td>...</td>\n",
              "      <td>41.66667</td>\n",
              "      <td>63.833330000000004</td>\n",
              "      <td>muslim</td>\n",
              "      <td>Uzbekistan</td>\n",
              "      <td>UZBEKISTAN</td>\n",
              "      <td>True</td>\n",
              "      <td>UZ</td>\n",
              "      <td>UZBEKISTAN</td>\n",
              "      <td>asia</td>\n",
              "      <td>europe_central_asia</td>\n",
              "    </tr>\n",
              "    <tr>\n",
              "      <th>159</th>\n",
              "      <td>mng</td>\n",
              "      <td>NaN</td>\n",
              "      <td>NaN</td>\n",
              "      <td>NaN</td>\n",
              "      <td>NaN</td>\n",
              "      <td>Mongoli</td>\n",
              "      <td>NaN</td>\n",
              "      <td>NaN</td>\n",
              "      <td>NaN</td>\n",
              "      <td>NaN</td>\n",
              "      <td>...</td>\n",
              "      <td>46.0</td>\n",
              "      <td>105.0</td>\n",
              "      <td>NaN</td>\n",
              "      <td>Mongolia</td>\n",
              "      <td>MONGOLIA</td>\n",
              "      <td>True</td>\n",
              "      <td>MN</td>\n",
              "      <td>MONGOLIA</td>\n",
              "      <td>asia</td>\n",
              "      <td>east_asia_pacific</td>\n",
              "    </tr>\n",
              "    <tr>\n",
              "      <th>137</th>\n",
              "      <td>lby</td>\n",
              "      <td>NaN</td>\n",
              "      <td>Libyan Arab Jamahiriya</td>\n",
              "      <td>NaN</td>\n",
              "      <td>NaN</td>\n",
              "      <td>Libyan Arab Jamahiriyah</td>\n",
              "      <td>NaN</td>\n",
              "      <td>NaN</td>\n",
              "      <td>NaN</td>\n",
              "      <td>NaN</td>\n",
              "      <td>...</td>\n",
              "      <td>28.0</td>\n",
              "      <td>17.0</td>\n",
              "      <td>muslim</td>\n",
              "      <td>Libya</td>\n",
              "      <td>LIBYAN ARAB JAMAHIRIYA</td>\n",
              "      <td>True</td>\n",
              "      <td>LY</td>\n",
              "      <td>LIBYAN ARAB JAMAHIRIYA</td>\n",
              "      <td>africa</td>\n",
              "      <td>middle_east_north_africa</td>\n",
              "    </tr>\n",
              "    <tr>\n",
              "      <th>181</th>\n",
              "      <td>nru</td>\n",
              "      <td>NaN</td>\n",
              "      <td>NaN</td>\n",
              "      <td>NaN</td>\n",
              "      <td>NaN</td>\n",
              "      <td>Nauru</td>\n",
              "      <td>NaN</td>\n",
              "      <td>NaN</td>\n",
              "      <td>NaN</td>\n",
              "      <td>NaN</td>\n",
              "      <td>...</td>\n",
              "      <td>-0.517</td>\n",
              "      <td>166.933</td>\n",
              "      <td>christian</td>\n",
              "      <td>Nauru</td>\n",
              "      <td>NaN</td>\n",
              "      <td>True</td>\n",
              "      <td>NR</td>\n",
              "      <td>NAURU</td>\n",
              "      <td>asia</td>\n",
              "      <td>east_asia_pacific</td>\n",
              "    </tr>\n",
              "    <tr>\n",
              "      <th>149</th>\n",
              "      <td>mda</td>\n",
              "      <td>Moldova, Republic of</td>\n",
              "      <td>Moldova, Rep. of</td>\n",
              "      <td>Republic of Moldova</td>\n",
              "      <td>Moldova (Republic of)</td>\n",
              "      <td>Republic Of Moldov</td>\n",
              "      <td>NaN</td>\n",
              "      <td>NaN</td>\n",
              "      <td>NaN</td>\n",
              "      <td>NaN</td>\n",
              "      <td>...</td>\n",
              "      <td>47.25</td>\n",
              "      <td>28.58333</td>\n",
              "      <td>christian</td>\n",
              "      <td>Moldova</td>\n",
              "      <td>MOLDOVA</td>\n",
              "      <td>True</td>\n",
              "      <td>MD</td>\n",
              "      <td>MOLDOVA, REPUBLIC OF</td>\n",
              "      <td>europe</td>\n",
              "      <td>europe_central_asia</td>\n",
              "    </tr>\n",
              "  </tbody>\n",
              "</table>\n",
              "<p>8 rows × 33 columns</p>\n",
              "</div>"
            ],
            "text/plain": [
              "     geo                 alt_5           alternative_1        alternative_2  \\\n",
              "214  slb                   NaN            Solomon Isl.                  NaN   \n",
              "94   gmb                   NaN             Gambia, The           The Gambia   \n",
              "218  som                   NaN                     NaN                  NaN   \n",
              "257  uzb                   NaN                     NaN                  NaN   \n",
              "159  mng                   NaN                     NaN                  NaN   \n",
              "137  lby                   NaN  Libyan Arab Jamahiriya                  NaN   \n",
              "181  nru                   NaN                     NaN                  NaN   \n",
              "149  mda  Moldova, Republic of        Moldova, Rep. of  Republic of Moldova   \n",
              "\n",
              "             alternative_3      alternative_4_cdiac arb1 arb2 arb3 arb4  \\\n",
              "214                    NaN          Solomon Islands  NaN  NaN  NaN  NaN   \n",
              "94              Gambia The                   Gambia  NaN  NaN  NaN  NaN   \n",
              "218                    NaN                  Somalia  NaN  NaN  NaN  NaN   \n",
              "257                    NaN               Uzbekistan  NaN  NaN  NaN  NaN   \n",
              "159                    NaN                  Mongoli  NaN  NaN  NaN  NaN   \n",
              "137                    NaN  Libyan Arab Jamahiriyah  NaN  NaN  NaN  NaN   \n",
              "181                    NaN                    Nauru  NaN  NaN  NaN  NaN   \n",
              "149  Moldova (Republic of)       Republic Of Moldov  NaN  NaN  NaN  NaN   \n",
              "\n",
              "               ...            latitude          longitude main_religion_2008  \\\n",
              "214            ...                -8.0              159.0          christian   \n",
              "94             ...                13.5              -15.5             muslim   \n",
              "218            ...                 6.0               48.0             muslim   \n",
              "257            ...            41.66667 63.833330000000004             muslim   \n",
              "159            ...                46.0              105.0                NaN   \n",
              "137            ...                28.0               17.0             muslim   \n",
              "181            ...              -0.517            166.933          christian   \n",
              "149            ...               47.25           28.58333          christian   \n",
              "\n",
              "             country                   pandg un_state unicode_region_subtag  \\\n",
              "214  Solomon Islands                     NaN     True                    SB   \n",
              "94            Gambia                  GAMBIA     True                    GM   \n",
              "218          Somalia                 SOMALIA     True                    SO   \n",
              "257       Uzbekistan              UZBEKISTAN     True                    UZ   \n",
              "159         Mongolia                MONGOLIA     True                    MN   \n",
              "137            Libya  LIBYAN ARAB JAMAHIRIYA     True                    LY   \n",
              "181            Nauru                     NaN     True                    NR   \n",
              "149          Moldova                 MOLDOVA     True                    MD   \n",
              "\n",
              "            upper_case_name world_4region             world_6region  \n",
              "214         SOLOMON ISLANDS          asia         east_asia_pacific  \n",
              "94                   GAMBIA        africa        sub_saharan_africa  \n",
              "218                 SOMALIA        africa        sub_saharan_africa  \n",
              "257              UZBEKISTAN          asia       europe_central_asia  \n",
              "159                MONGOLIA          asia         east_asia_pacific  \n",
              "137  LIBYAN ARAB JAMAHIRIYA        africa  middle_east_north_africa  \n",
              "181                   NAURU          asia         east_asia_pacific  \n",
              "149    MOLDOVA, REPUBLIC OF        europe       europe_central_asia  \n",
              "\n",
              "[8 rows x 33 columns]"
            ]
          },
          "metadata": {
            "tags": []
          },
          "execution_count": 113
        }
      ]
    },
    {
      "metadata": {
        "id": "xsXpDbwwW241",
        "colab_type": "text"
      },
      "cell_type": "markdown",
      "source": [
        "Then, select the `geo` and `country` columns from the `geo_country_codes` dataframe, and join with your population and cell phone data.\n",
        "\n",
        "The resulting dataframe's shape should be: (8590, 5)"
      ]
    },
    {
      "metadata": {
        "id": "Q2LaZta_W2CE",
        "colab_type": "code",
        "colab": {
          "base_uri": "https://localhost:8080/",
          "height": 34
        },
        "outputId": "db653bf0-0a9a-4f5b-8c97-5829bdd44a05"
      },
      "cell_type": "code",
      "source": [
        "cell_pop_df = pd.merge(cell_phones, population,  how='inner', left_on=['geo','time'], right_on = ['geo','time'])\n",
        "\n",
        "cell_pop_df.shape"
      ],
      "execution_count": 114,
      "outputs": [
        {
          "output_type": "execute_result",
          "data": {
            "text/plain": [
              "(8590, 4)"
            ]
          },
          "metadata": {
            "tags": []
          },
          "execution_count": 114
        }
      ]
    },
    {
      "metadata": {
        "id": "JhDs0hy9u2qO",
        "colab_type": "code",
        "colab": {
          "base_uri": "https://localhost:8080/",
          "height": 297
        },
        "outputId": "4ea4a4b3-af54-40ff-d979-8c01afe1c66e"
      },
      "cell_type": "code",
      "source": [
        "cell_pop_df.sample(8)"
      ],
      "execution_count": 115,
      "outputs": [
        {
          "output_type": "execute_result",
          "data": {
            "text/html": [
              "<div>\n",
              "<style scoped>\n",
              "    .dataframe tbody tr th:only-of-type {\n",
              "        vertical-align: middle;\n",
              "    }\n",
              "\n",
              "    .dataframe tbody tr th {\n",
              "        vertical-align: top;\n",
              "    }\n",
              "\n",
              "    .dataframe thead th {\n",
              "        text-align: right;\n",
              "    }\n",
              "</style>\n",
              "<table border=\"1\" class=\"dataframe\">\n",
              "  <thead>\n",
              "    <tr style=\"text-align: right;\">\n",
              "      <th></th>\n",
              "      <th>geo</th>\n",
              "      <th>time</th>\n",
              "      <th>cell_phones_total</th>\n",
              "      <th>population_total</th>\n",
              "    </tr>\n",
              "  </thead>\n",
              "  <tbody>\n",
              "    <tr>\n",
              "      <th>8219</th>\n",
              "      <td>vct</td>\n",
              "      <td>2011</td>\n",
              "      <td>131,809.0</td>\n",
              "      <td>109341</td>\n",
              "    </tr>\n",
              "    <tr>\n",
              "      <th>6060</th>\n",
              "      <td>pak</td>\n",
              "      <td>1965</td>\n",
              "      <td>0.0</td>\n",
              "      <td>50845221</td>\n",
              "    </tr>\n",
              "    <tr>\n",
              "      <th>1662</th>\n",
              "      <td>cog</td>\n",
              "      <td>2003</td>\n",
              "      <td>330,000.0</td>\n",
              "      <td>3502519</td>\n",
              "    </tr>\n",
              "    <tr>\n",
              "      <th>3851</th>\n",
              "      <td>ita</td>\n",
              "      <td>2015</td>\n",
              "      <td>87,691,238.0</td>\n",
              "      <td>59504212</td>\n",
              "    </tr>\n",
              "    <tr>\n",
              "      <th>1</th>\n",
              "      <td>afg</td>\n",
              "      <td>1965</td>\n",
              "      <td>0.0</td>\n",
              "      <td>9938414</td>\n",
              "    </tr>\n",
              "    <tr>\n",
              "      <th>6330</th>\n",
              "      <td>pol</td>\n",
              "      <td>2000</td>\n",
              "      <td>6,747,000.0</td>\n",
              "      <td>38550495</td>\n",
              "    </tr>\n",
              "    <tr>\n",
              "      <th>8174</th>\n",
              "      <td>uzb</td>\n",
              "      <td>2011</td>\n",
              "      <td>25,441,789.0</td>\n",
              "      <td>29068224</td>\n",
              "    </tr>\n",
              "    <tr>\n",
              "      <th>5569</th>\n",
              "      <td>mys</td>\n",
              "      <td>1975</td>\n",
              "      <td>0.0</td>\n",
              "      <td>12162369</td>\n",
              "    </tr>\n",
              "  </tbody>\n",
              "</table>\n",
              "</div>"
            ],
            "text/plain": [
              "      geo  time  cell_phones_total  population_total\n",
              "8219  vct  2011          131,809.0            109341\n",
              "6060  pak  1965                0.0          50845221\n",
              "1662  cog  2003          330,000.0           3502519\n",
              "3851  ita  2015       87,691,238.0          59504212\n",
              "1     afg  1965                0.0           9938414\n",
              "6330  pol  2000        6,747,000.0          38550495\n",
              "8174  uzb  2011       25,441,789.0          29068224\n",
              "5569  mys  1975                0.0          12162369"
            ]
          },
          "metadata": {
            "tags": []
          },
          "execution_count": 115
        }
      ]
    },
    {
      "metadata": {
        "id": "oK96Uj7vYjFX",
        "colab_type": "text"
      },
      "cell_type": "markdown",
      "source": [
        "## Part 2. Make features"
      ]
    },
    {
      "metadata": {
        "id": "AD2fBNrOYzCG",
        "colab_type": "text"
      },
      "cell_type": "markdown",
      "source": [
        "Calculate the number of cell phones per person, and add this column onto your dataframe.\n",
        "\n",
        "(You've calculated correctly if you get 1.220 cell phones per person in the United States in 2017.)"
      ]
    },
    {
      "metadata": {
        "id": "wXI9nQthYnFK",
        "colab_type": "code",
        "colab": {
          "base_uri": "https://localhost:8080/",
          "height": 399
        },
        "outputId": "83c5a2ac-343e-4a8e-e576-c24c25cddafe"
      },
      "cell_type": "code",
      "source": [
        "cell_pop_df['cell_phones_per_person'] = cell_pop_df.cell_phones_total / cell_pop_df.population_total\n",
        "\n",
        "print(cell_pop_df.dtypes)\n",
        "\n",
        "cell_pop_df.sample(8)"
      ],
      "execution_count": 116,
      "outputs": [
        {
          "output_type": "stream",
          "text": [
            "geo                        object\n",
            "time                        int64\n",
            "cell_phones_total         float64\n",
            "population_total            int64\n",
            "cell_phones_per_person    float64\n",
            "dtype: object\n"
          ],
          "name": "stdout"
        },
        {
          "output_type": "execute_result",
          "data": {
            "text/html": [
              "<div>\n",
              "<style scoped>\n",
              "    .dataframe tbody tr th:only-of-type {\n",
              "        vertical-align: middle;\n",
              "    }\n",
              "\n",
              "    .dataframe tbody tr th {\n",
              "        vertical-align: top;\n",
              "    }\n",
              "\n",
              "    .dataframe thead th {\n",
              "        text-align: right;\n",
              "    }\n",
              "</style>\n",
              "<table border=\"1\" class=\"dataframe\">\n",
              "  <thead>\n",
              "    <tr style=\"text-align: right;\">\n",
              "      <th></th>\n",
              "      <th>geo</th>\n",
              "      <th>time</th>\n",
              "      <th>cell_phones_total</th>\n",
              "      <th>population_total</th>\n",
              "      <th>cell_phones_per_person</th>\n",
              "    </tr>\n",
              "  </thead>\n",
              "  <tbody>\n",
              "    <tr>\n",
              "      <th>4178</th>\n",
              "      <td>kir</td>\n",
              "      <td>1975</td>\n",
              "      <td>0.0</td>\n",
              "      <td>55169</td>\n",
              "      <td>0.0</td>\n",
              "    </tr>\n",
              "    <tr>\n",
              "      <th>1435</th>\n",
              "      <td>chl</td>\n",
              "      <td>2002</td>\n",
              "      <td>6,244,310.0</td>\n",
              "      <td>15623635</td>\n",
              "      <td>0.39967075523717754</td>\n",
              "    </tr>\n",
              "    <tr>\n",
              "      <th>7634</th>\n",
              "      <td>tkm</td>\n",
              "      <td>1984</td>\n",
              "      <td>0.0</td>\n",
              "      <td>3166221</td>\n",
              "      <td>0.0</td>\n",
              "    </tr>\n",
              "    <tr>\n",
              "      <th>5275</th>\n",
              "      <td>mlt</td>\n",
              "      <td>2017</td>\n",
              "      <td>560,010.0</td>\n",
              "      <td>430835</td>\n",
              "      <td>1.2998247588984182</td>\n",
              "    </tr>\n",
              "    <tr>\n",
              "      <th>434</th>\n",
              "      <td>aut</td>\n",
              "      <td>2009</td>\n",
              "      <td>11,434,000.0</td>\n",
              "      <td>8370038</td>\n",
              "      <td>1.3660630931424684</td>\n",
              "    </tr>\n",
              "    <tr>\n",
              "      <th>6022</th>\n",
              "      <td>omn</td>\n",
              "      <td>1981</td>\n",
              "      <td>0.0</td>\n",
              "      <td>1220587</td>\n",
              "      <td>0.0</td>\n",
              "    </tr>\n",
              "    <tr>\n",
              "      <th>3046</th>\n",
              "      <td>gnq</td>\n",
              "      <td>1965</td>\n",
              "      <td>0.0</td>\n",
              "      <td>277396</td>\n",
              "      <td>0.0</td>\n",
              "    </tr>\n",
              "    <tr>\n",
              "      <th>2429</th>\n",
              "      <td>esp</td>\n",
              "      <td>1996</td>\n",
              "      <td>2,997,645.0</td>\n",
              "      <td>40009324</td>\n",
              "      <td>0.07492366029478528</td>\n",
              "    </tr>\n",
              "  </tbody>\n",
              "</table>\n",
              "</div>"
            ],
            "text/plain": [
              "      geo  time  cell_phones_total  population_total  cell_phones_per_person\n",
              "4178  kir  1975                0.0             55169                     0.0\n",
              "1435  chl  2002        6,244,310.0          15623635     0.39967075523717754\n",
              "7634  tkm  1984                0.0           3166221                     0.0\n",
              "5275  mlt  2017          560,010.0            430835      1.2998247588984182\n",
              "434   aut  2009       11,434,000.0           8370038      1.3660630931424684\n",
              "6022  omn  1981                0.0           1220587                     0.0\n",
              "3046  gnq  1965                0.0            277396                     0.0\n",
              "2429  esp  1996        2,997,645.0          40009324     0.07492366029478528"
            ]
          },
          "metadata": {
            "tags": []
          },
          "execution_count": 116
        }
      ]
    },
    {
      "metadata": {
        "id": "v7Z4zZLpv1W_",
        "colab_type": "code",
        "colab": {
          "base_uri": "https://localhost:8080/",
          "height": 80
        },
        "outputId": "7221128e-31d6-4df7-9c98-485897d7e103"
      },
      "cell_type": "code",
      "source": [
        "cell_pop_df.loc[(cell_pop_df['geo'] == 'usa') & (cell_pop_df['time'] == 2017)]"
      ],
      "execution_count": 117,
      "outputs": [
        {
          "output_type": "execute_result",
          "data": {
            "text/html": [
              "<div>\n",
              "<style scoped>\n",
              "    .dataframe tbody tr th:only-of-type {\n",
              "        vertical-align: middle;\n",
              "    }\n",
              "\n",
              "    .dataframe tbody tr th {\n",
              "        vertical-align: top;\n",
              "    }\n",
              "\n",
              "    .dataframe thead th {\n",
              "        text-align: right;\n",
              "    }\n",
              "</style>\n",
              "<table border=\"1\" class=\"dataframe\">\n",
              "  <thead>\n",
              "    <tr style=\"text-align: right;\">\n",
              "      <th></th>\n",
              "      <th>geo</th>\n",
              "      <th>time</th>\n",
              "      <th>cell_phones_total</th>\n",
              "      <th>population_total</th>\n",
              "      <th>cell_phones_per_person</th>\n",
              "    </tr>\n",
              "  </thead>\n",
              "  <tbody>\n",
              "    <tr>\n",
              "      <th>8134</th>\n",
              "      <td>usa</td>\n",
              "      <td>2017</td>\n",
              "      <td>395,881,000.0</td>\n",
              "      <td>324459463</td>\n",
              "      <td>1.2201246847283354</td>\n",
              "    </tr>\n",
              "  </tbody>\n",
              "</table>\n",
              "</div>"
            ],
            "text/plain": [
              "      geo  time  cell_phones_total  population_total  cell_phones_per_person\n",
              "8134  usa  2017      395,881,000.0         324459463      1.2201246847283354"
            ]
          },
          "metadata": {
            "tags": []
          },
          "execution_count": 117
        }
      ]
    },
    {
      "metadata": {
        "id": "S3QFdsnRZMH6",
        "colab_type": "text"
      },
      "cell_type": "markdown",
      "source": [
        "Modify the `geo` column to make the geo codes uppercase instead of lowercase."
      ]
    },
    {
      "metadata": {
        "id": "93ADij8_YkOq",
        "colab_type": "code",
        "colab": {
          "base_uri": "https://localhost:8080/",
          "height": 297
        },
        "outputId": "fe89f2f4-5be8-40ad-fe36-b2b516f993cf"
      },
      "cell_type": "code",
      "source": [
        "cell_pop_df['geo'] = cell_pop_df['geo'].str.upper()\n",
        "\n",
        "cell_pop_df.sample(8)"
      ],
      "execution_count": 118,
      "outputs": [
        {
          "output_type": "execute_result",
          "data": {
            "text/html": [
              "<div>\n",
              "<style scoped>\n",
              "    .dataframe tbody tr th:only-of-type {\n",
              "        vertical-align: middle;\n",
              "    }\n",
              "\n",
              "    .dataframe tbody tr th {\n",
              "        vertical-align: top;\n",
              "    }\n",
              "\n",
              "    .dataframe thead th {\n",
              "        text-align: right;\n",
              "    }\n",
              "</style>\n",
              "<table border=\"1\" class=\"dataframe\">\n",
              "  <thead>\n",
              "    <tr style=\"text-align: right;\">\n",
              "      <th></th>\n",
              "      <th>geo</th>\n",
              "      <th>time</th>\n",
              "      <th>cell_phones_total</th>\n",
              "      <th>population_total</th>\n",
              "      <th>cell_phones_per_person</th>\n",
              "    </tr>\n",
              "  </thead>\n",
              "  <tbody>\n",
              "    <tr>\n",
              "      <th>8149</th>\n",
              "      <td>UZB</td>\n",
              "      <td>1986</td>\n",
              "      <td>0.0</td>\n",
              "      <td>18565477</td>\n",
              "      <td>0.0</td>\n",
              "    </tr>\n",
              "    <tr>\n",
              "      <th>4651</th>\n",
              "      <td>LSO</td>\n",
              "      <td>1980</td>\n",
              "      <td>0.0</td>\n",
              "      <td>1310118</td>\n",
              "      <td>0.0</td>\n",
              "    </tr>\n",
              "    <tr>\n",
              "      <th>1576</th>\n",
              "      <td>CMR</td>\n",
              "      <td>2005</td>\n",
              "      <td>2,252,508.0</td>\n",
              "      <td>17420795</td>\n",
              "      <td>0.12929995445098802</td>\n",
              "    </tr>\n",
              "    <tr>\n",
              "      <th>436</th>\n",
              "      <td>AUT</td>\n",
              "      <td>2011</td>\n",
              "      <td>13,022,578.0</td>\n",
              "      <td>8459864</td>\n",
              "      <td>1.539336566167021</td>\n",
              "    </tr>\n",
              "    <tr>\n",
              "      <th>4012</th>\n",
              "      <td>KAZ</td>\n",
              "      <td>1993</td>\n",
              "      <td>0.0</td>\n",
              "      <td>16370000</td>\n",
              "      <td>0.0</td>\n",
              "    </tr>\n",
              "    <tr>\n",
              "      <th>4321</th>\n",
              "      <td>KWT</td>\n",
              "      <td>1987</td>\n",
              "      <td>14,300.0</td>\n",
              "      <td>1942810</td>\n",
              "      <td>0.0073604727173527005</td>\n",
              "    </tr>\n",
              "    <tr>\n",
              "      <th>7464</th>\n",
              "      <td>TCD</td>\n",
              "      <td>1996</td>\n",
              "      <td>0.0</td>\n",
              "      <td>7241134</td>\n",
              "      <td>0.0</td>\n",
              "    </tr>\n",
              "    <tr>\n",
              "      <th>52</th>\n",
              "      <td>AGO</td>\n",
              "      <td>1978</td>\n",
              "      <td>0.0</td>\n",
              "      <td>8376147</td>\n",
              "      <td>0.0</td>\n",
              "    </tr>\n",
              "  </tbody>\n",
              "</table>\n",
              "</div>"
            ],
            "text/plain": [
              "      geo  time  cell_phones_total  population_total  cell_phones_per_person\n",
              "8149  UZB  1986                0.0          18565477                     0.0\n",
              "4651  LSO  1980                0.0           1310118                     0.0\n",
              "1576  CMR  2005        2,252,508.0          17420795     0.12929995445098802\n",
              "436   AUT  2011       13,022,578.0           8459864       1.539336566167021\n",
              "4012  KAZ  1993                0.0          16370000                     0.0\n",
              "4321  KWT  1987           14,300.0           1942810   0.0073604727173527005\n",
              "7464  TCD  1996                0.0           7241134                     0.0\n",
              "52    AGO  1978                0.0           8376147                     0.0"
            ]
          },
          "metadata": {
            "tags": []
          },
          "execution_count": 118
        }
      ]
    },
    {
      "metadata": {
        "id": "hlPDAFCfaF6C",
        "colab_type": "text"
      },
      "cell_type": "markdown",
      "source": [
        "## Part 3. Process data"
      ]
    },
    {
      "metadata": {
        "id": "k-pudNWve2SQ",
        "colab_type": "text"
      },
      "cell_type": "markdown",
      "source": [
        "Use the describe function, to describe your dataframe's numeric columns, and then its non-numeric columns.\n",
        "\n",
        "(You'll see the time period ranges from 1960 to 2017, and there are 195 unique countries represented.)"
      ]
    },
    {
      "metadata": {
        "id": "g26yemKre2Cu",
        "colab_type": "code",
        "colab": {
          "base_uri": "https://localhost:8080/",
          "height": 297
        },
        "outputId": "78cb0ea4-f26f-43b9-a257-64aef31faa77"
      },
      "cell_type": "code",
      "source": [
        "cell_pop_df.describe()"
      ],
      "execution_count": 119,
      "outputs": [
        {
          "output_type": "execute_result",
          "data": {
            "text/html": [
              "<div>\n",
              "<style scoped>\n",
              "    .dataframe tbody tr th:only-of-type {\n",
              "        vertical-align: middle;\n",
              "    }\n",
              "\n",
              "    .dataframe tbody tr th {\n",
              "        vertical-align: top;\n",
              "    }\n",
              "\n",
              "    .dataframe thead th {\n",
              "        text-align: right;\n",
              "    }\n",
              "</style>\n",
              "<table border=\"1\" class=\"dataframe\">\n",
              "  <thead>\n",
              "    <tr style=\"text-align: right;\">\n",
              "      <th></th>\n",
              "      <th>time</th>\n",
              "      <th>cell_phones_total</th>\n",
              "      <th>population_total</th>\n",
              "      <th>cell_phones_per_person</th>\n",
              "    </tr>\n",
              "  </thead>\n",
              "  <tbody>\n",
              "    <tr>\n",
              "      <th>count</th>\n",
              "      <td>8,590.0</td>\n",
              "      <td>8,590.0</td>\n",
              "      <td>8,590.0</td>\n",
              "      <td>8,590.0</td>\n",
              "    </tr>\n",
              "    <tr>\n",
              "      <th>mean</th>\n",
              "      <td>1,994.1934807916182</td>\n",
              "      <td>9,004,949.642905472</td>\n",
              "      <td>29,838,230.581722934</td>\n",
              "      <td>0.27963855580591535</td>\n",
              "    </tr>\n",
              "    <tr>\n",
              "      <th>std</th>\n",
              "      <td>14.257974607310278</td>\n",
              "      <td>55,734,084.872176506</td>\n",
              "      <td>116,128,377.47477297</td>\n",
              "      <td>0.45424665621404714</td>\n",
              "    </tr>\n",
              "    <tr>\n",
              "      <th>min</th>\n",
              "      <td>1,960.0</td>\n",
              "      <td>0.0</td>\n",
              "      <td>4,433.0</td>\n",
              "      <td>0.0</td>\n",
              "    </tr>\n",
              "    <tr>\n",
              "      <th>25%</th>\n",
              "      <td>1,983.0</td>\n",
              "      <td>0.0</td>\n",
              "      <td>1,456,148.0</td>\n",
              "      <td>0.0</td>\n",
              "    </tr>\n",
              "    <tr>\n",
              "      <th>50%</th>\n",
              "      <td>1,995.0</td>\n",
              "      <td>6,200.0</td>\n",
              "      <td>5,725,062.5</td>\n",
              "      <td>0.0015636266438163813</td>\n",
              "    </tr>\n",
              "    <tr>\n",
              "      <th>75%</th>\n",
              "      <td>2,006.0</td>\n",
              "      <td>1,697,652.0</td>\n",
              "      <td>18,105,812.0</td>\n",
              "      <td>0.4611491855201403</td>\n",
              "    </tr>\n",
              "    <tr>\n",
              "      <th>max</th>\n",
              "      <td>2,017.0</td>\n",
              "      <td>1,474,097,000.0</td>\n",
              "      <td>1,409,517,397.0</td>\n",
              "      <td>2.490242818521353</td>\n",
              "    </tr>\n",
              "  </tbody>\n",
              "</table>\n",
              "</div>"
            ],
            "text/plain": [
              "                     time    cell_phones_total     population_total  \\\n",
              "count             8,590.0              8,590.0              8,590.0   \n",
              "mean  1,994.1934807916182  9,004,949.642905472 29,838,230.581722934   \n",
              "std    14.257974607310278 55,734,084.872176506 116,128,377.47477297   \n",
              "min               1,960.0                  0.0              4,433.0   \n",
              "25%               1,983.0                  0.0          1,456,148.0   \n",
              "50%               1,995.0              6,200.0          5,725,062.5   \n",
              "75%               2,006.0          1,697,652.0         18,105,812.0   \n",
              "max               2,017.0      1,474,097,000.0      1,409,517,397.0   \n",
              "\n",
              "       cell_phones_per_person  \n",
              "count                 8,590.0  \n",
              "mean      0.27963855580591535  \n",
              "std       0.45424665621404714  \n",
              "min                       0.0  \n",
              "25%                       0.0  \n",
              "50%     0.0015636266438163813  \n",
              "75%        0.4611491855201403  \n",
              "max         2.490242818521353  "
            ]
          },
          "metadata": {
            "tags": []
          },
          "execution_count": 119
        }
      ]
    },
    {
      "metadata": {
        "id": "zALg-RrYaLcI",
        "colab_type": "text"
      },
      "cell_type": "markdown",
      "source": [
        "In 2017, what were the top 5 countries with the most cell phones total?\n",
        "\n",
        "Your list of countries should have these totals:\n",
        "\n",
        "| country | cell phones total |\n",
        "|:-------:|:-----------------:|\n",
        "|    ?    |     1,474,097,000 |\n",
        "|    ?    |     1,168,902,277 |\n",
        "|    ?    |       458,923,202 |\n",
        "|    ?    |       395,881,000 |\n",
        "|    ?    |       236,488,548 |\n",
        "\n"
      ]
    },
    {
      "metadata": {
        "id": "JdlWvezHaZxD",
        "colab_type": "code",
        "colab": {
          "base_uri": "https://localhost:8080/",
          "height": 204
        },
        "outputId": "59f1c213-5ff9-4886-af39-f706e1d406a7"
      },
      "cell_type": "code",
      "source": [
        "# This optional code formats float numbers with comma separators\n",
        "pd.set_option('precision',0)\n",
        "pd.options.display.float_format = '{:,}'.format\n",
        "\n",
        "cell_pop_df.loc[(cell_pop_df['time'] == 2017)]\\\n",
        "           .nlargest(5, 'cell_phones_total')\\\n",
        "           .drop(['time', 'population_total', 'cell_phones_per_person'], axis=1)"
      ],
      "execution_count": 120,
      "outputs": [
        {
          "output_type": "execute_result",
          "data": {
            "text/html": [
              "<div>\n",
              "<style scoped>\n",
              "    .dataframe tbody tr th:only-of-type {\n",
              "        vertical-align: middle;\n",
              "    }\n",
              "\n",
              "    .dataframe tbody tr th {\n",
              "        vertical-align: top;\n",
              "    }\n",
              "\n",
              "    .dataframe thead th {\n",
              "        text-align: right;\n",
              "    }\n",
              "</style>\n",
              "<table border=\"1\" class=\"dataframe\">\n",
              "  <thead>\n",
              "    <tr style=\"text-align: right;\">\n",
              "      <th></th>\n",
              "      <th>geo</th>\n",
              "      <th>cell_phones_total</th>\n",
              "    </tr>\n",
              "  </thead>\n",
              "  <tbody>\n",
              "    <tr>\n",
              "      <th>1496</th>\n",
              "      <td>CHN</td>\n",
              "      <td>1,474,097,000.0</td>\n",
              "    </tr>\n",
              "    <tr>\n",
              "      <th>3595</th>\n",
              "      <td>IND</td>\n",
              "      <td>1,168,902,277.0</td>\n",
              "    </tr>\n",
              "    <tr>\n",
              "      <th>3549</th>\n",
              "      <td>IDN</td>\n",
              "      <td>458,923,202.0</td>\n",
              "    </tr>\n",
              "    <tr>\n",
              "      <th>8134</th>\n",
              "      <td>USA</td>\n",
              "      <td>395,881,000.0</td>\n",
              "    </tr>\n",
              "    <tr>\n",
              "      <th>1084</th>\n",
              "      <td>BRA</td>\n",
              "      <td>236,488,548.0</td>\n",
              "    </tr>\n",
              "  </tbody>\n",
              "</table>\n",
              "</div>"
            ],
            "text/plain": [
              "      geo  cell_phones_total\n",
              "1496  CHN    1,474,097,000.0\n",
              "3595  IND    1,168,902,277.0\n",
              "3549  IDN      458,923,202.0\n",
              "8134  USA      395,881,000.0\n",
              "1084  BRA      236,488,548.0"
            ]
          },
          "metadata": {
            "tags": []
          },
          "execution_count": 120
        }
      ]
    },
    {
      "metadata": {
        "id": "03V3Wln_h0dj",
        "colab_type": "text"
      },
      "cell_type": "markdown",
      "source": [
        "2017 was the first year that China had more cell phones than people.\n",
        "\n",
        "What was the first year that the USA had more cell phones than people?"
      ]
    },
    {
      "metadata": {
        "id": "KONQkQZ3haNC",
        "colab_type": "code",
        "colab": {
          "base_uri": "https://localhost:8080/",
          "height": 68
        },
        "outputId": "2f869d1c-93b3-4f52-8c95-c8a7fd0decc0"
      },
      "cell_type": "code",
      "source": [
        "cell_pop_df_usa = cell_pop_df[cell_pop_df['geo'] == 'USA']\n",
        "\n",
        "cell_pop_df_usa = cell_pop_df_usa[cell_pop_df['cell_phones_total'] > cell_pop_df['population_total']]\n",
        "\n",
        "cell_pop_df_usa = cell_pop_df_usa.nsmallest(1, 'time')\n",
        "\n",
        "print(\"first time number of cell phones exceeded population in the US was:\", list(cell_pop_df_usa['time'].reset_index(drop=True)))"
      ],
      "execution_count": 121,
      "outputs": [
        {
          "output_type": "stream",
          "text": [
            "first time number of cell phones exceeded population in the US was: [2014]\n"
          ],
          "name": "stdout"
        },
        {
          "output_type": "stream",
          "text": [
            "/usr/local/lib/python3.6/dist-packages/ipykernel_launcher.py:3: UserWarning: Boolean Series key will be reindexed to match DataFrame index.\n",
            "  This is separate from the ipykernel package so we can avoid doing imports until\n"
          ],
          "name": "stderr"
        }
      ]
    },
    {
      "metadata": {
        "id": "6J7iwMnTg8KZ",
        "colab_type": "text"
      },
      "cell_type": "markdown",
      "source": [
        "## Part 4. Reshape data"
      ]
    },
    {
      "metadata": {
        "id": "LP9InazRkUxG",
        "colab_type": "text"
      },
      "cell_type": "markdown",
      "source": [
        "Create a pivot table:\n",
        "- Columns: Years 2007—2017\n",
        "- Rows: China, India, United States, Indonesia, Brazil (order doesn't matter)\n",
        "- Values: Cell Phones Total\n",
        "\n",
        "The table's shape should be: (5, 11)"
      ]
    },
    {
      "metadata": {
        "id": "JD7mXXjLj4Ue",
        "colab_type": "code",
        "colab": {
          "base_uri": "https://localhost:8080/",
          "height": 204
        },
        "outputId": "f55d950d-37d4-413b-cf31-6fa68f6378d1"
      },
      "cell_type": "code",
      "source": [
        "# Create my_geo_country_codes df of geo & country\n",
        "country_list = ['China', 'India', 'United States', 'Indonesia', 'Brazil']\n",
        "\n",
        "my_geo_country_codes = geo_country_codes[geo_country_codes['country'].isin(country_list)]\n",
        "my_geo_country_codes = my_geo_country_codes[['geo', 'country']]\n",
        "\n",
        "my_geo_country_codes"
      ],
      "execution_count": 122,
      "outputs": [
        {
          "output_type": "execute_result",
          "data": {
            "text/html": [
              "<div>\n",
              "<style scoped>\n",
              "    .dataframe tbody tr th:only-of-type {\n",
              "        vertical-align: middle;\n",
              "    }\n",
              "\n",
              "    .dataframe tbody tr th {\n",
              "        vertical-align: top;\n",
              "    }\n",
              "\n",
              "    .dataframe thead th {\n",
              "        text-align: right;\n",
              "    }\n",
              "</style>\n",
              "<table border=\"1\" class=\"dataframe\">\n",
              "  <thead>\n",
              "    <tr style=\"text-align: right;\">\n",
              "      <th></th>\n",
              "      <th>geo</th>\n",
              "      <th>country</th>\n",
              "    </tr>\n",
              "  </thead>\n",
              "  <tbody>\n",
              "    <tr>\n",
              "      <th>33</th>\n",
              "      <td>bra</td>\n",
              "      <td>Brazil</td>\n",
              "    </tr>\n",
              "    <tr>\n",
              "      <th>45</th>\n",
              "      <td>chn</td>\n",
              "      <td>China</td>\n",
              "    </tr>\n",
              "    <tr>\n",
              "      <th>111</th>\n",
              "      <td>idn</td>\n",
              "      <td>Indonesia</td>\n",
              "    </tr>\n",
              "    <tr>\n",
              "      <th>112</th>\n",
              "      <td>ind</td>\n",
              "      <td>India</td>\n",
              "    </tr>\n",
              "    <tr>\n",
              "      <th>254</th>\n",
              "      <td>usa</td>\n",
              "      <td>United States</td>\n",
              "    </tr>\n",
              "  </tbody>\n",
              "</table>\n",
              "</div>"
            ],
            "text/plain": [
              "     geo        country\n",
              "33   bra         Brazil\n",
              "45   chn          China\n",
              "111  idn      Indonesia\n",
              "112  ind          India\n",
              "254  usa  United States"
            ]
          },
          "metadata": {
            "tags": []
          },
          "execution_count": 122
        }
      ]
    },
    {
      "metadata": {
        "id": "j57mYXpA9xhj",
        "colab_type": "code",
        "colab": {
          "base_uri": "https://localhost:8080/",
          "height": 297
        },
        "outputId": "3c9f3706-5d1f-42fa-9cd3-dc4ad4fe1021"
      },
      "cell_type": "code",
      "source": [
        "# Create cell_phone subset for my_geo_country_codes only\n",
        "my_cell_phones = cell_phones.loc[(cell_phones['time'] >= 2007) & (cell_phones['time'] <= 2017)]\n",
        "\n",
        "my_cell_phone_table = pd.merge(my_cell_phones[['time', 'cell_phones_total', 'geo']], \n",
        "                               my_geo_country_codes[['geo', 'country']])\n",
        "\n",
        "my_cell_phone_table = my_cell_phone_table.drop(['geo'], axis = 1)\n",
        "\n",
        "my_cell_phone_table.sample(8)"
      ],
      "execution_count": 123,
      "outputs": [
        {
          "output_type": "execute_result",
          "data": {
            "text/html": [
              "<div>\n",
              "<style scoped>\n",
              "    .dataframe tbody tr th:only-of-type {\n",
              "        vertical-align: middle;\n",
              "    }\n",
              "\n",
              "    .dataframe tbody tr th {\n",
              "        vertical-align: top;\n",
              "    }\n",
              "\n",
              "    .dataframe thead th {\n",
              "        text-align: right;\n",
              "    }\n",
              "</style>\n",
              "<table border=\"1\" class=\"dataframe\">\n",
              "  <thead>\n",
              "    <tr style=\"text-align: right;\">\n",
              "      <th></th>\n",
              "      <th>time</th>\n",
              "      <th>cell_phones_total</th>\n",
              "      <th>country</th>\n",
              "    </tr>\n",
              "  </thead>\n",
              "  <tbody>\n",
              "    <tr>\n",
              "      <th>35</th>\n",
              "      <td>2009</td>\n",
              "      <td>525,090,000.0</td>\n",
              "      <td>India</td>\n",
              "    </tr>\n",
              "    <tr>\n",
              "      <th>8</th>\n",
              "      <td>2015</td>\n",
              "      <td>257,814,274.0</td>\n",
              "      <td>Brazil</td>\n",
              "    </tr>\n",
              "    <tr>\n",
              "      <th>41</th>\n",
              "      <td>2015</td>\n",
              "      <td>1,001,056,000.0</td>\n",
              "      <td>India</td>\n",
              "    </tr>\n",
              "    <tr>\n",
              "      <th>16</th>\n",
              "      <td>2012</td>\n",
              "      <td>1,112,155,000.0</td>\n",
              "      <td>China</td>\n",
              "    </tr>\n",
              "    <tr>\n",
              "      <th>28</th>\n",
              "      <td>2013</td>\n",
              "      <td>313,226,914.0</td>\n",
              "      <td>Indonesia</td>\n",
              "    </tr>\n",
              "    <tr>\n",
              "      <th>40</th>\n",
              "      <td>2014</td>\n",
              "      <td>944,008,677.0</td>\n",
              "      <td>India</td>\n",
              "    </tr>\n",
              "    <tr>\n",
              "      <th>51</th>\n",
              "      <td>2014</td>\n",
              "      <td>355,500,000.0</td>\n",
              "      <td>United States</td>\n",
              "    </tr>\n",
              "    <tr>\n",
              "      <th>27</th>\n",
              "      <td>2012</td>\n",
              "      <td>281,963,665.0</td>\n",
              "      <td>Indonesia</td>\n",
              "    </tr>\n",
              "  </tbody>\n",
              "</table>\n",
              "</div>"
            ],
            "text/plain": [
              "    time  cell_phones_total        country\n",
              "35  2009      525,090,000.0          India\n",
              "8   2015      257,814,274.0         Brazil\n",
              "41  2015    1,001,056,000.0          India\n",
              "16  2012    1,112,155,000.0          China\n",
              "28  2013      313,226,914.0      Indonesia\n",
              "40  2014      944,008,677.0          India\n",
              "51  2014      355,500,000.0  United States\n",
              "27  2012      281,963,665.0      Indonesia"
            ]
          },
          "metadata": {
            "tags": []
          },
          "execution_count": 123
        }
      ]
    },
    {
      "metadata": {
        "id": "SuNuynKt9aKP",
        "colab_type": "code",
        "colab": {
          "base_uri": "https://localhost:8080/",
          "height": 300
        },
        "outputId": "48e138f3-3a8c-4dc6-d69f-2e2ea46a1936"
      },
      "cell_type": "code",
      "source": [
        "# Create pivot table\n",
        "cell_phone_pivot_table = pd.pivot_table(my_cell_phone_table, index=['country'], columns=['time'])\n",
        "\n",
        "print(cell_phone_pivot_table.shape)\n",
        "\n",
        "cell_phone_pivot_table"
      ],
      "execution_count": 124,
      "outputs": [
        {
          "output_type": "stream",
          "text": [
            "(5, 11)\n"
          ],
          "name": "stdout"
        },
        {
          "output_type": "execute_result",
          "data": {
            "text/html": [
              "<div>\n",
              "<style scoped>\n",
              "    .dataframe tbody tr th:only-of-type {\n",
              "        vertical-align: middle;\n",
              "    }\n",
              "\n",
              "    .dataframe tbody tr th {\n",
              "        vertical-align: top;\n",
              "    }\n",
              "\n",
              "    .dataframe thead tr th {\n",
              "        text-align: left;\n",
              "    }\n",
              "\n",
              "    .dataframe thead tr:last-of-type th {\n",
              "        text-align: right;\n",
              "    }\n",
              "</style>\n",
              "<table border=\"1\" class=\"dataframe\">\n",
              "  <thead>\n",
              "    <tr>\n",
              "      <th></th>\n",
              "      <th colspan=\"11\" halign=\"left\">cell_phones_total</th>\n",
              "    </tr>\n",
              "    <tr>\n",
              "      <th>time</th>\n",
              "      <th>2007</th>\n",
              "      <th>2008</th>\n",
              "      <th>2009</th>\n",
              "      <th>2010</th>\n",
              "      <th>2011</th>\n",
              "      <th>2012</th>\n",
              "      <th>2013</th>\n",
              "      <th>2014</th>\n",
              "      <th>2015</th>\n",
              "      <th>2016</th>\n",
              "      <th>2017</th>\n",
              "    </tr>\n",
              "    <tr>\n",
              "      <th>country</th>\n",
              "      <th></th>\n",
              "      <th></th>\n",
              "      <th></th>\n",
              "      <th></th>\n",
              "      <th></th>\n",
              "      <th></th>\n",
              "      <th></th>\n",
              "      <th></th>\n",
              "      <th></th>\n",
              "      <th></th>\n",
              "      <th></th>\n",
              "    </tr>\n",
              "  </thead>\n",
              "  <tbody>\n",
              "    <tr>\n",
              "      <th>Brazil</th>\n",
              "      <td>120,980,103.0</td>\n",
              "      <td>150,641,403.0</td>\n",
              "      <td>169,385,584.0</td>\n",
              "      <td>196,929,978.0</td>\n",
              "      <td>234,357,507.0</td>\n",
              "      <td>248,323,703.0</td>\n",
              "      <td>271,099,799.0</td>\n",
              "      <td>280,728,796.0</td>\n",
              "      <td>257,814,274.0</td>\n",
              "      <td>244,067,356.0</td>\n",
              "      <td>236,488,548.0</td>\n",
              "    </tr>\n",
              "    <tr>\n",
              "      <th>China</th>\n",
              "      <td>547,306,000.0</td>\n",
              "      <td>641,245,000.0</td>\n",
              "      <td>747,214,000.0</td>\n",
              "      <td>859,003,000.0</td>\n",
              "      <td>986,253,000.0</td>\n",
              "      <td>1,112,155,000.0</td>\n",
              "      <td>1,229,113,000.0</td>\n",
              "      <td>1,286,093,000.0</td>\n",
              "      <td>1,291,984,200.0</td>\n",
              "      <td>1,364,934,000.0</td>\n",
              "      <td>1,474,097,000.0</td>\n",
              "    </tr>\n",
              "    <tr>\n",
              "      <th>India</th>\n",
              "      <td>233,620,000.0</td>\n",
              "      <td>346,890,000.0</td>\n",
              "      <td>525,090,000.0</td>\n",
              "      <td>752,190,000.0</td>\n",
              "      <td>893,862,478.0</td>\n",
              "      <td>864,720,917.0</td>\n",
              "      <td>886,304,245.0</td>\n",
              "      <td>944,008,677.0</td>\n",
              "      <td>1,001,056,000.0</td>\n",
              "      <td>1,127,809,000.0</td>\n",
              "      <td>1,168,902,277.0</td>\n",
              "    </tr>\n",
              "    <tr>\n",
              "      <th>Indonesia</th>\n",
              "      <td>93,386,881.0</td>\n",
              "      <td>140,578,243.0</td>\n",
              "      <td>163,676,961.0</td>\n",
              "      <td>211,290,235.0</td>\n",
              "      <td>249,805,619.0</td>\n",
              "      <td>281,963,665.0</td>\n",
              "      <td>313,226,914.0</td>\n",
              "      <td>325,582,819.0</td>\n",
              "      <td>338,948,340.0</td>\n",
              "      <td>385,573,398.0</td>\n",
              "      <td>458,923,202.0</td>\n",
              "    </tr>\n",
              "    <tr>\n",
              "      <th>United States</th>\n",
              "      <td>249,300,000.0</td>\n",
              "      <td>261,300,000.0</td>\n",
              "      <td>274,283,000.0</td>\n",
              "      <td>285,118,000.0</td>\n",
              "      <td>297,404,000.0</td>\n",
              "      <td>304,838,000.0</td>\n",
              "      <td>310,698,000.0</td>\n",
              "      <td>355,500,000.0</td>\n",
              "      <td>382,307,000.0</td>\n",
              "      <td>395,881,000.0</td>\n",
              "      <td>395,881,000.0</td>\n",
              "    </tr>\n",
              "  </tbody>\n",
              "</table>\n",
              "</div>"
            ],
            "text/plain": [
              "              cell_phones_total                                            \\\n",
              "time                       2007          2008          2009          2010   \n",
              "country                                                                     \n",
              "Brazil            120,980,103.0 150,641,403.0 169,385,584.0 196,929,978.0   \n",
              "China             547,306,000.0 641,245,000.0 747,214,000.0 859,003,000.0   \n",
              "India             233,620,000.0 346,890,000.0 525,090,000.0 752,190,000.0   \n",
              "Indonesia          93,386,881.0 140,578,243.0 163,676,961.0 211,290,235.0   \n",
              "United States     249,300,000.0 261,300,000.0 274,283,000.0 285,118,000.0   \n",
              "\n",
              "                                                                             \\\n",
              "time                   2011            2012            2013            2014   \n",
              "country                                                                       \n",
              "Brazil        234,357,507.0   248,323,703.0   271,099,799.0   280,728,796.0   \n",
              "China         986,253,000.0 1,112,155,000.0 1,229,113,000.0 1,286,093,000.0   \n",
              "India         893,862,478.0   864,720,917.0   886,304,245.0   944,008,677.0   \n",
              "Indonesia     249,805,619.0   281,963,665.0   313,226,914.0   325,582,819.0   \n",
              "United States 297,404,000.0   304,838,000.0   310,698,000.0   355,500,000.0   \n",
              "\n",
              "                                                               \n",
              "time                     2015            2016            2017  \n",
              "country                                                        \n",
              "Brazil          257,814,274.0   244,067,356.0   236,488,548.0  \n",
              "China         1,291,984,200.0 1,364,934,000.0 1,474,097,000.0  \n",
              "India         1,001,056,000.0 1,127,809,000.0 1,168,902,277.0  \n",
              "Indonesia       338,948,340.0   385,573,398.0   458,923,202.0  \n",
              "United States   382,307,000.0   395,881,000.0   395,881,000.0  "
            ]
          },
          "metadata": {
            "tags": []
          },
          "execution_count": 124
        }
      ]
    },
    {
      "metadata": {
        "id": "CNKTu2DCnAo6",
        "colab_type": "text"
      },
      "cell_type": "markdown",
      "source": [
        "#### OPTIONAL BONUS QUESTION!\n",
        "\n",
        "Sort these 5 countries, by biggest increase in cell phones from 2007 to 2017.\n",
        "\n",
        "Which country had 935,282,277 more cell phones in 2017 versus 2007?"
      ]
    },
    {
      "metadata": {
        "id": "O4Aecv1fmQlj",
        "colab_type": "code",
        "colab": {}
      },
      "cell_type": "code",
      "source": [
        ""
      ],
      "execution_count": 0,
      "outputs": []
    },
    {
      "metadata": {
        "id": "7iHkMsa3Rorh",
        "colab_type": "text"
      },
      "cell_type": "markdown",
      "source": [
        "If you have the time and curiosity, what other questions can you ask and answer with this data?"
      ]
    }
  ]
}