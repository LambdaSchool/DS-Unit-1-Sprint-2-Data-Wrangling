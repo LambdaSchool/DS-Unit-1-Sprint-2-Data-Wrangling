{
  "nbformat": 4,
  "nbformat_minor": 0,
  "metadata": {
    "colab": {
      "name": "DS_Unit_1_Sprint_Challenge_2_Data_Wrangling.ipynb",
      "version": "0.3.2",
      "provenance": [],
      "collapsed_sections": [],
      "include_colab_link": true
    },
    "kernelspec": {
      "name": "python3",
      "display_name": "Python 3"
    }
  },
  "cells": [
    {
      "cell_type": "markdown",
      "metadata": {
        "id": "view-in-github",
        "colab_type": "text"
      },
      "source": [
        "<a href=\"https://colab.research.google.com/github/tomfox1/DS-Unit-1-Sprint-2-Data-Wrangling/blob/master/DS_Unit_1_Sprint_Challenge_2_Data_Wrangling.ipynb\" target=\"_parent\"><img src=\"https://colab.research.google.com/assets/colab-badge.svg\" alt=\"Open In Colab\"/></a>"
      ]
    },
    {
      "metadata": {
        "id": "4yMHi_PX9hEz",
        "colab_type": "text"
      },
      "cell_type": "markdown",
      "source": [
        "# Data Science Unit 1 Sprint Challenge 2\n",
        "\n",
        "## Data Wrangling\n",
        "\n",
        "In this Sprint Challenge you will use data from [Gapminder](https://www.gapminder.org/about-gapminder/), a Swedish non-profit co-founded by Hans Rosling. \"Gapminder produces free teaching resources making the world understandable based on reliable statistics.\"\n",
        "- [Cell phones (total), by country and year](https://raw.githubusercontent.com/open-numbers/ddf--gapminder--systema_globalis/master/ddf--datapoints--cell_phones_total--by--geo--time.csv)\n",
        "- [Population (total), by country and year](https://raw.githubusercontent.com/open-numbers/ddf--gapminder--systema_globalis/master/ddf--datapoints--population_total--by--geo--time.csv)\n",
        "- [Geo country codes](https://github.com/open-numbers/ddf--gapminder--systema_globalis/blob/master/ddf--entities--geo--country.csv)\n",
        "\n",
        "These two links have everything you need to successfully complete the Sprint Challenge!\n",
        "- [Pandas documentation: Working with Text Data](https://pandas.pydata.org/pandas-docs/stable/text.html]) (one question)\n",
        "- [Pandas Cheat Sheet](https://github.com/pandas-dev/pandas/blob/master/doc/cheatsheet/Pandas_Cheat_Sheet.pdf) (everything else)"
      ]
    },
    {
      "metadata": {
        "id": "wWEU2GemX68A",
        "colab_type": "text"
      },
      "cell_type": "markdown",
      "source": [
        "## Part 0. Load data\n",
        "\n",
        "You don't need to add or change anything here. Just run this cell and it loads the data for you, into three dataframes."
      ]
    },
    {
      "metadata": {
        "id": "bxKtSi5sRQOl",
        "colab_type": "code",
        "colab": {}
      },
      "cell_type": "code",
      "source": [
        "import pandas as pd\n",
        "import numpy as np\n",
        "\n",
        "cell_phones = pd.read_csv('https://raw.githubusercontent.com/open-numbers/ddf--gapminder--systema_globalis/master/ddf--datapoints--cell_phones_total--by--geo--time.csv')\n",
        "\n",
        "population = pd.read_csv('https://raw.githubusercontent.com/open-numbers/ddf--gapminder--systema_globalis/master/ddf--datapoints--population_total--by--geo--time.csv')\n",
        "\n",
        "geo_country_codes = (pd.read_csv('https://raw.githubusercontent.com/open-numbers/ddf--gapminder--systema_globalis/master/ddf--entities--geo--country.csv')\n",
        "                       .rename(columns={'country': 'geo', 'name': 'country'}))"
      ],
      "execution_count": 0,
      "outputs": []
    },
    {
      "metadata": {
        "id": "AZmVTeCsX9RC",
        "colab_type": "text"
      },
      "cell_type": "markdown",
      "source": [
        "## Part 1. Join data"
      ]
    },
    {
      "metadata": {
        "id": "GLzX58u4SfEy",
        "colab_type": "text"
      },
      "cell_type": "markdown",
      "source": [
        "First, join the `cell_phones` and `population` dataframes (with an inner join on `geo` and `time`).\n",
        "\n",
        "The resulting dataframe's shape should be: (8590, 4)"
      ]
    },
    {
      "metadata": {
        "id": "GVV7Hnj4SXBa",
        "colab_type": "code",
        "colab": {
          "base_uri": "https://localhost:8080/",
          "height": 34
        },
        "outputId": "50a37d00-405e-4cb5-b4c1-ef31ea1f1c2e"
      },
      "cell_type": "code",
      "source": [
        "phone_pop = pd.merge(cell_phones, population, how = \"inner\", on = [\"geo\", \"time\"])\n",
        "phone_pop.shape"
      ],
      "execution_count": 244,
      "outputs": [
        {
          "output_type": "execute_result",
          "data": {
            "text/plain": [
              "(8590, 4)"
            ]
          },
          "metadata": {
            "tags": []
          },
          "execution_count": 244
        }
      ]
    },
    {
      "metadata": {
        "id": "xsXpDbwwW241",
        "colab_type": "text"
      },
      "cell_type": "markdown",
      "source": [
        "Then, select the `geo` and `country` columns from the `geo_country_codes` dataframe, and join with your population and cell phone data.\n",
        "\n",
        "The resulting dataframe's shape should be: (8590, 5)"
      ]
    },
    {
      "metadata": {
        "id": "Q2LaZta_W2CE",
        "colab_type": "code",
        "colab": {
          "base_uri": "https://localhost:8080/",
          "height": 34
        },
        "outputId": "27876c50-72f5-4ea7-ea33-ba8ba24c5359"
      },
      "cell_type": "code",
      "source": [
        "geo_pop = geo_country_codes[[\"geo\", \"country\"]].merge(phone_pop)\n",
        "geo_pop.shape"
      ],
      "execution_count": 245,
      "outputs": [
        {
          "output_type": "execute_result",
          "data": {
            "text/plain": [
              "(8590, 5)"
            ]
          },
          "metadata": {
            "tags": []
          },
          "execution_count": 245
        }
      ]
    },
    {
      "metadata": {
        "id": "oK96Uj7vYjFX",
        "colab_type": "text"
      },
      "cell_type": "markdown",
      "source": [
        "## Part 2. Make features"
      ]
    },
    {
      "metadata": {
        "id": "AD2fBNrOYzCG",
        "colab_type": "text"
      },
      "cell_type": "markdown",
      "source": [
        "Calculate the number of cell phones per person, and add this column onto your dataframe.\n",
        "\n",
        "(You've calculated correctly if you get 1.220 cell phones per person in the United States in 2017.)"
      ]
    },
    {
      "metadata": {
        "id": "wXI9nQthYnFK",
        "colab_type": "code",
        "colab": {}
      },
      "cell_type": "code",
      "source": [
        "geo_pop[\"cell phones per person\"] = geo_pop[\"cell_phones_total\"] / geo_pop[\"population_total\"]"
      ],
      "execution_count": 0,
      "outputs": []
    },
    {
      "metadata": {
        "id": "S3QFdsnRZMH6",
        "colab_type": "text"
      },
      "cell_type": "markdown",
      "source": [
        "Modify the `geo` column to make the geo codes uppercase instead of lowercase."
      ]
    },
    {
      "metadata": {
        "id": "93ADij8_YkOq",
        "colab_type": "code",
        "colab": {
          "base_uri": "https://localhost:8080/",
          "height": 204
        },
        "outputId": "c01abb3e-7074-46f6-ae1f-05fee35f154f"
      },
      "cell_type": "code",
      "source": [
        "geo_pop[\"geo\"] = geo_pop[\"geo\"].str.upper()\n",
        "geo_pop.head(5)"
      ],
      "execution_count": 247,
      "outputs": [
        {
          "output_type": "execute_result",
          "data": {
            "text/html": [
              "<div>\n",
              "<style scoped>\n",
              "    .dataframe tbody tr th:only-of-type {\n",
              "        vertical-align: middle;\n",
              "    }\n",
              "\n",
              "    .dataframe tbody tr th {\n",
              "        vertical-align: top;\n",
              "    }\n",
              "\n",
              "    .dataframe thead th {\n",
              "        text-align: right;\n",
              "    }\n",
              "</style>\n",
              "<table border=\"1\" class=\"dataframe\">\n",
              "  <thead>\n",
              "    <tr style=\"text-align: right;\">\n",
              "      <th></th>\n",
              "      <th>geo</th>\n",
              "      <th>country</th>\n",
              "      <th>time</th>\n",
              "      <th>cell_phones_total</th>\n",
              "      <th>population_total</th>\n",
              "      <th>cell phones per person</th>\n",
              "    </tr>\n",
              "  </thead>\n",
              "  <tbody>\n",
              "    <tr>\n",
              "      <th>0</th>\n",
              "      <td>AFG</td>\n",
              "      <td>Afghanistan</td>\n",
              "      <td>1960</td>\n",
              "      <td>0.0</td>\n",
              "      <td>8996351</td>\n",
              "      <td>0.0</td>\n",
              "    </tr>\n",
              "    <tr>\n",
              "      <th>1</th>\n",
              "      <td>AFG</td>\n",
              "      <td>Afghanistan</td>\n",
              "      <td>1965</td>\n",
              "      <td>0.0</td>\n",
              "      <td>9938414</td>\n",
              "      <td>0.0</td>\n",
              "    </tr>\n",
              "    <tr>\n",
              "      <th>2</th>\n",
              "      <td>AFG</td>\n",
              "      <td>Afghanistan</td>\n",
              "      <td>1970</td>\n",
              "      <td>0.0</td>\n",
              "      <td>11126123</td>\n",
              "      <td>0.0</td>\n",
              "    </tr>\n",
              "    <tr>\n",
              "      <th>3</th>\n",
              "      <td>AFG</td>\n",
              "      <td>Afghanistan</td>\n",
              "      <td>1975</td>\n",
              "      <td>0.0</td>\n",
              "      <td>12590286</td>\n",
              "      <td>0.0</td>\n",
              "    </tr>\n",
              "    <tr>\n",
              "      <th>4</th>\n",
              "      <td>AFG</td>\n",
              "      <td>Afghanistan</td>\n",
              "      <td>1976</td>\n",
              "      <td>0.0</td>\n",
              "      <td>12840299</td>\n",
              "      <td>0.0</td>\n",
              "    </tr>\n",
              "  </tbody>\n",
              "</table>\n",
              "</div>"
            ],
            "text/plain": [
              "   geo      country  time  cell_phones_total  population_total  \\\n",
              "0  AFG  Afghanistan  1960                0.0           8996351   \n",
              "1  AFG  Afghanistan  1965                0.0           9938414   \n",
              "2  AFG  Afghanistan  1970                0.0          11126123   \n",
              "3  AFG  Afghanistan  1975                0.0          12590286   \n",
              "4  AFG  Afghanistan  1976                0.0          12840299   \n",
              "\n",
              "   cell phones per person  \n",
              "0                     0.0  \n",
              "1                     0.0  \n",
              "2                     0.0  \n",
              "3                     0.0  \n",
              "4                     0.0  "
            ]
          },
          "metadata": {
            "tags": []
          },
          "execution_count": 247
        }
      ]
    },
    {
      "metadata": {
        "id": "hlPDAFCfaF6C",
        "colab_type": "text"
      },
      "cell_type": "markdown",
      "source": [
        "## Part 3. Process data"
      ]
    },
    {
      "metadata": {
        "id": "k-pudNWve2SQ",
        "colab_type": "text"
      },
      "cell_type": "markdown",
      "source": [
        "Use the describe function, to describe your dataframe's numeric columns, and then its non-numeric columns.\n",
        "\n",
        "(You'll see the time period ranges from 1960 to 2017, and there are 195 unique countries represented.)"
      ]
    },
    {
      "metadata": {
        "id": "g26yemKre2Cu",
        "colab_type": "code",
        "colab": {
          "base_uri": "https://localhost:8080/",
          "height": 390
        },
        "outputId": "012dc4e5-f139-45b5-86b6-ab5b5aefa04a"
      },
      "cell_type": "code",
      "source": [
        "geo_pop.describe(include = \"all\")\n"
      ],
      "execution_count": 248,
      "outputs": [
        {
          "output_type": "execute_result",
          "data": {
            "text/html": [
              "<div>\n",
              "<style scoped>\n",
              "    .dataframe tbody tr th:only-of-type {\n",
              "        vertical-align: middle;\n",
              "    }\n",
              "\n",
              "    .dataframe tbody tr th {\n",
              "        vertical-align: top;\n",
              "    }\n",
              "\n",
              "    .dataframe thead th {\n",
              "        text-align: right;\n",
              "    }\n",
              "</style>\n",
              "<table border=\"1\" class=\"dataframe\">\n",
              "  <thead>\n",
              "    <tr style=\"text-align: right;\">\n",
              "      <th></th>\n",
              "      <th>geo</th>\n",
              "      <th>country</th>\n",
              "      <th>time</th>\n",
              "      <th>cell_phones_total</th>\n",
              "      <th>population_total</th>\n",
              "      <th>cell phones per person</th>\n",
              "    </tr>\n",
              "  </thead>\n",
              "  <tbody>\n",
              "    <tr>\n",
              "      <th>count</th>\n",
              "      <td>8590</td>\n",
              "      <td>8590</td>\n",
              "      <td>8,590.0</td>\n",
              "      <td>8,590.0</td>\n",
              "      <td>8,590.0</td>\n",
              "      <td>8,590.0</td>\n",
              "    </tr>\n",
              "    <tr>\n",
              "      <th>unique</th>\n",
              "      <td>195</td>\n",
              "      <td>195</td>\n",
              "      <td>nan</td>\n",
              "      <td>nan</td>\n",
              "      <td>nan</td>\n",
              "      <td>nan</td>\n",
              "    </tr>\n",
              "    <tr>\n",
              "      <th>top</th>\n",
              "      <td>CYP</td>\n",
              "      <td>Azerbaijan</td>\n",
              "      <td>nan</td>\n",
              "      <td>nan</td>\n",
              "      <td>nan</td>\n",
              "      <td>nan</td>\n",
              "    </tr>\n",
              "    <tr>\n",
              "      <th>freq</th>\n",
              "      <td>46</td>\n",
              "      <td>46</td>\n",
              "      <td>nan</td>\n",
              "      <td>nan</td>\n",
              "      <td>nan</td>\n",
              "      <td>nan</td>\n",
              "    </tr>\n",
              "    <tr>\n",
              "      <th>mean</th>\n",
              "      <td>NaN</td>\n",
              "      <td>NaN</td>\n",
              "      <td>1,994.1934807916182</td>\n",
              "      <td>9,004,949.642905472</td>\n",
              "      <td>29,838,230.581722934</td>\n",
              "      <td>0.2796385558059151</td>\n",
              "    </tr>\n",
              "    <tr>\n",
              "      <th>std</th>\n",
              "      <td>NaN</td>\n",
              "      <td>NaN</td>\n",
              "      <td>14.257974607310302</td>\n",
              "      <td>55,734,084.872179635</td>\n",
              "      <td>116,128,377.47477299</td>\n",
              "      <td>0.454246656214052</td>\n",
              "    </tr>\n",
              "    <tr>\n",
              "      <th>min</th>\n",
              "      <td>NaN</td>\n",
              "      <td>NaN</td>\n",
              "      <td>1,960.0</td>\n",
              "      <td>0.0</td>\n",
              "      <td>4,433.0</td>\n",
              "      <td>0.0</td>\n",
              "    </tr>\n",
              "    <tr>\n",
              "      <th>25%</th>\n",
              "      <td>NaN</td>\n",
              "      <td>NaN</td>\n",
              "      <td>1,983.0</td>\n",
              "      <td>0.0</td>\n",
              "      <td>1,456,148.0</td>\n",
              "      <td>0.0</td>\n",
              "    </tr>\n",
              "    <tr>\n",
              "      <th>50%</th>\n",
              "      <td>NaN</td>\n",
              "      <td>NaN</td>\n",
              "      <td>1,995.0</td>\n",
              "      <td>6,200.0</td>\n",
              "      <td>5,725,062.5</td>\n",
              "      <td>0.0015636266438163813</td>\n",
              "    </tr>\n",
              "    <tr>\n",
              "      <th>75%</th>\n",
              "      <td>NaN</td>\n",
              "      <td>NaN</td>\n",
              "      <td>2,006.0</td>\n",
              "      <td>1,697,652.0</td>\n",
              "      <td>18,105,812.0</td>\n",
              "      <td>0.4611491855201403</td>\n",
              "    </tr>\n",
              "    <tr>\n",
              "      <th>max</th>\n",
              "      <td>NaN</td>\n",
              "      <td>NaN</td>\n",
              "      <td>2,017.0</td>\n",
              "      <td>1,474,097,000.0</td>\n",
              "      <td>1,409,517,397.0</td>\n",
              "      <td>2.490242818521353</td>\n",
              "    </tr>\n",
              "  </tbody>\n",
              "</table>\n",
              "</div>"
            ],
            "text/plain": [
              "         geo     country                time    cell_phones_total  \\\n",
              "count   8590        8590             8,590.0              8,590.0   \n",
              "unique   195         195                 nan                  nan   \n",
              "top      CYP  Azerbaijan                 nan                  nan   \n",
              "freq      46          46                 nan                  nan   \n",
              "mean     NaN         NaN 1,994.1934807916182  9,004,949.642905472   \n",
              "std      NaN         NaN  14.257974607310302 55,734,084.872179635   \n",
              "min      NaN         NaN             1,960.0                  0.0   \n",
              "25%      NaN         NaN             1,983.0                  0.0   \n",
              "50%      NaN         NaN             1,995.0              6,200.0   \n",
              "75%      NaN         NaN             2,006.0          1,697,652.0   \n",
              "max      NaN         NaN             2,017.0      1,474,097,000.0   \n",
              "\n",
              "           population_total  cell phones per person  \n",
              "count               8,590.0                 8,590.0  \n",
              "unique                  nan                     nan  \n",
              "top                     nan                     nan  \n",
              "freq                    nan                     nan  \n",
              "mean   29,838,230.581722934      0.2796385558059151  \n",
              "std    116,128,377.47477299       0.454246656214052  \n",
              "min                 4,433.0                     0.0  \n",
              "25%             1,456,148.0                     0.0  \n",
              "50%             5,725,062.5   0.0015636266438163813  \n",
              "75%            18,105,812.0      0.4611491855201403  \n",
              "max         1,409,517,397.0       2.490242818521353  "
            ]
          },
          "metadata": {
            "tags": []
          },
          "execution_count": 248
        }
      ]
    },
    {
      "metadata": {
        "id": "NH_4Df-fIoq8",
        "colab_type": "code",
        "colab": {
          "base_uri": "https://localhost:8080/",
          "height": 173
        },
        "outputId": "98edf7be-9b6f-49c4-a4c8-7e549d5a4b96"
      },
      "cell_type": "code",
      "source": [
        "geo_pop.describe(exclude = [np.number])"
      ],
      "execution_count": 249,
      "outputs": [
        {
          "output_type": "execute_result",
          "data": {
            "text/html": [
              "<div>\n",
              "<style scoped>\n",
              "    .dataframe tbody tr th:only-of-type {\n",
              "        vertical-align: middle;\n",
              "    }\n",
              "\n",
              "    .dataframe tbody tr th {\n",
              "        vertical-align: top;\n",
              "    }\n",
              "\n",
              "    .dataframe thead th {\n",
              "        text-align: right;\n",
              "    }\n",
              "</style>\n",
              "<table border=\"1\" class=\"dataframe\">\n",
              "  <thead>\n",
              "    <tr style=\"text-align: right;\">\n",
              "      <th></th>\n",
              "      <th>geo</th>\n",
              "      <th>country</th>\n",
              "    </tr>\n",
              "  </thead>\n",
              "  <tbody>\n",
              "    <tr>\n",
              "      <th>count</th>\n",
              "      <td>8590</td>\n",
              "      <td>8590</td>\n",
              "    </tr>\n",
              "    <tr>\n",
              "      <th>unique</th>\n",
              "      <td>195</td>\n",
              "      <td>195</td>\n",
              "    </tr>\n",
              "    <tr>\n",
              "      <th>top</th>\n",
              "      <td>CYP</td>\n",
              "      <td>Azerbaijan</td>\n",
              "    </tr>\n",
              "    <tr>\n",
              "      <th>freq</th>\n",
              "      <td>46</td>\n",
              "      <td>46</td>\n",
              "    </tr>\n",
              "  </tbody>\n",
              "</table>\n",
              "</div>"
            ],
            "text/plain": [
              "         geo     country\n",
              "count   8590        8590\n",
              "unique   195         195\n",
              "top      CYP  Azerbaijan\n",
              "freq      46          46"
            ]
          },
          "metadata": {
            "tags": []
          },
          "execution_count": 249
        }
      ]
    },
    {
      "metadata": {
        "id": "zALg-RrYaLcI",
        "colab_type": "text"
      },
      "cell_type": "markdown",
      "source": [
        "In 2017, what were the top 5 countries with the most cell phones total?\n",
        "\n",
        "Your list of countries should have these totals:\n",
        "\n",
        "| country | cell phones total |\n",
        "|:-------:|:-----------------:|\n",
        "|    ?    |     1,474,097,000 |\n",
        "|    ?    |     1,168,902,277 |\n",
        "|    ?    |       458,923,202 |\n",
        "|    ?    |       395,881,000 |\n",
        "|    ?    |       236,488,548 |\n",
        "\n"
      ]
    },
    {
      "metadata": {
        "id": "JdlWvezHaZxD",
        "colab_type": "code",
        "colab": {}
      },
      "cell_type": "code",
      "source": [
        "# This optional code formats float numbers with comma separators\n",
        "pd.options.display.float_format = '{:,}'.format"
      ],
      "execution_count": 0,
      "outputs": []
    },
    {
      "metadata": {
        "id": "tmcikV9PTJfz",
        "colab_type": "code",
        "colab": {
          "base_uri": "https://localhost:8080/",
          "height": 136
        },
        "outputId": "8e2f8a90-19fe-4f72-bde3-15bff6d4ac04"
      },
      "cell_type": "code",
      "source": [
        "condition = (geo_pop[\"time\"] == 2017)\n",
        "geo_2017 = geo_pop[condition]\n",
        "geo_2017.groupby([\"country\"])[\"cell_phones_total\"].sum().sort_values(ascending = False).head()\n",
        "\n"
      ],
      "execution_count": 251,
      "outputs": [
        {
          "output_type": "execute_result",
          "data": {
            "text/plain": [
              "country\n",
              "China           1,474,097,000.0\n",
              "India           1,168,902,277.0\n",
              "Indonesia         458,923,202.0\n",
              "United States     395,881,000.0\n",
              "Brazil            236,488,548.0\n",
              "Name: cell_phones_total, dtype: float64"
            ]
          },
          "metadata": {
            "tags": []
          },
          "execution_count": 251
        }
      ]
    },
    {
      "metadata": {
        "id": "03V3Wln_h0dj",
        "colab_type": "text"
      },
      "cell_type": "markdown",
      "source": [
        "2017 was the first year that China had more cell phones than people.\n",
        "\n",
        "What was the first year that the USA had more cell phones than people?"
      ]
    },
    {
      "metadata": {
        "id": "k-tENcTgYkey",
        "colab_type": "code",
        "colab": {
          "base_uri": "https://localhost:8080/",
          "height": 80
        },
        "outputId": "d629345b-e485-4d05-c691-40c493e21acd"
      },
      "cell_type": "code",
      "source": [
        "countries = [\"United States\"]\n",
        "\n",
        "condition = geo_pop['country'].isin(countries)\n",
        "\n",
        "us = geo_pop[condition]\n",
        "\n",
        "us[us[\"cell phones per person\"] >= 1].head(1)\n"
      ],
      "execution_count": 252,
      "outputs": [
        {
          "output_type": "execute_result",
          "data": {
            "text/html": [
              "<div>\n",
              "<style scoped>\n",
              "    .dataframe tbody tr th:only-of-type {\n",
              "        vertical-align: middle;\n",
              "    }\n",
              "\n",
              "    .dataframe tbody tr th {\n",
              "        vertical-align: top;\n",
              "    }\n",
              "\n",
              "    .dataframe thead th {\n",
              "        text-align: right;\n",
              "    }\n",
              "</style>\n",
              "<table border=\"1\" class=\"dataframe\">\n",
              "  <thead>\n",
              "    <tr style=\"text-align: right;\">\n",
              "      <th></th>\n",
              "      <th>geo</th>\n",
              "      <th>country</th>\n",
              "      <th>time</th>\n",
              "      <th>cell_phones_total</th>\n",
              "      <th>population_total</th>\n",
              "      <th>cell phones per person</th>\n",
              "    </tr>\n",
              "  </thead>\n",
              "  <tbody>\n",
              "    <tr>\n",
              "      <th>8131</th>\n",
              "      <td>USA</td>\n",
              "      <td>United States</td>\n",
              "      <td>2014</td>\n",
              "      <td>355,500,000.0</td>\n",
              "      <td>317718779</td>\n",
              "      <td>1.118914031833164</td>\n",
              "    </tr>\n",
              "  </tbody>\n",
              "</table>\n",
              "</div>"
            ],
            "text/plain": [
              "      geo        country  time  cell_phones_total  population_total  \\\n",
              "8131  USA  United States  2014      355,500,000.0         317718779   \n",
              "\n",
              "      cell phones per person  \n",
              "8131       1.118914031833164  "
            ]
          },
          "metadata": {
            "tags": []
          },
          "execution_count": 252
        }
      ]
    },
    {
      "metadata": {
        "id": "6J7iwMnTg8KZ",
        "colab_type": "text"
      },
      "cell_type": "markdown",
      "source": [
        "## Part 4. Reshape data"
      ]
    },
    {
      "metadata": {
        "id": "LP9InazRkUxG",
        "colab_type": "text"
      },
      "cell_type": "markdown",
      "source": [
        "Create a pivot table:\n",
        "- Columns: Years 2007—2017\n",
        "- Rows: China, India, United States, Indonesia, Brazil (order doesn't matter)\n",
        "- Values: Cell Phones Total\n",
        "\n",
        "The table's shape should be: (5, 11)"
      ]
    },
    {
      "metadata": {
        "id": "JD7mXXjLj4Ue",
        "colab_type": "code",
        "colab": {
          "base_uri": "https://localhost:8080/",
          "height": 51
        },
        "outputId": "d0621ab5-a549-4c19-bc91-b5116d216f49"
      },
      "cell_type": "code",
      "source": [
        "years = [2007, 2008, 2009, 2010, 2011, 2012, 2013, 2014, 2015, 2016, 2017]\n",
        "countries = [\"China\", \"India\", \"United States\", \"Indonesia\", \"Brazil\"]\n",
        "\n",
        "condition = geo_pop['time'].isin(years)\n",
        "condition2 = geo_pop['country'].isin(countries)\n",
        "\n",
        "subset = geo_pop[condition]\n",
        "subset = subset[condition2]"
      ],
      "execution_count": 267,
      "outputs": [
        {
          "output_type": "stream",
          "text": [
            "/usr/local/lib/python3.6/dist-packages/ipykernel_launcher.py:8: UserWarning: Boolean Series key will be reindexed to match DataFrame index.\n",
            "  \n"
          ],
          "name": "stderr"
        }
      ]
    },
    {
      "metadata": {
        "id": "WazA_t9eQLvv",
        "colab_type": "code",
        "colab": {
          "base_uri": "https://localhost:8080/",
          "height": 421
        },
        "outputId": "68a67555-0698-4cb0-ed16-8d9a2a5423ca"
      },
      "cell_type": "code",
      "source": [
        "sub_pivot = subset.pivot_table(index = \"time\", columns = \"country\", values = \"cell_phones_total\")\n",
        "sub_pivot"
      ],
      "execution_count": 268,
      "outputs": [
        {
          "output_type": "execute_result",
          "data": {
            "text/html": [
              "<div>\n",
              "<style scoped>\n",
              "    .dataframe tbody tr th:only-of-type {\n",
              "        vertical-align: middle;\n",
              "    }\n",
              "\n",
              "    .dataframe tbody tr th {\n",
              "        vertical-align: top;\n",
              "    }\n",
              "\n",
              "    .dataframe thead th {\n",
              "        text-align: right;\n",
              "    }\n",
              "</style>\n",
              "<table border=\"1\" class=\"dataframe\">\n",
              "  <thead>\n",
              "    <tr style=\"text-align: right;\">\n",
              "      <th>country</th>\n",
              "      <th>Brazil</th>\n",
              "      <th>China</th>\n",
              "      <th>India</th>\n",
              "      <th>Indonesia</th>\n",
              "      <th>United States</th>\n",
              "    </tr>\n",
              "    <tr>\n",
              "      <th>time</th>\n",
              "      <th></th>\n",
              "      <th></th>\n",
              "      <th></th>\n",
              "      <th></th>\n",
              "      <th></th>\n",
              "    </tr>\n",
              "  </thead>\n",
              "  <tbody>\n",
              "    <tr>\n",
              "      <th>2007</th>\n",
              "      <td>120,980,103.0</td>\n",
              "      <td>547,306,000.0</td>\n",
              "      <td>233,620,000.0</td>\n",
              "      <td>93,386,881.0</td>\n",
              "      <td>249,300,000.0</td>\n",
              "    </tr>\n",
              "    <tr>\n",
              "      <th>2008</th>\n",
              "      <td>150,641,403.0</td>\n",
              "      <td>641,245,000.0</td>\n",
              "      <td>346,890,000.0</td>\n",
              "      <td>140,578,243.0</td>\n",
              "      <td>261,300,000.0</td>\n",
              "    </tr>\n",
              "    <tr>\n",
              "      <th>2009</th>\n",
              "      <td>169,385,584.0</td>\n",
              "      <td>747,214,000.0</td>\n",
              "      <td>525,090,000.0</td>\n",
              "      <td>163,676,961.0</td>\n",
              "      <td>274,283,000.0</td>\n",
              "    </tr>\n",
              "    <tr>\n",
              "      <th>2010</th>\n",
              "      <td>196,929,978.0</td>\n",
              "      <td>859,003,000.0</td>\n",
              "      <td>752,190,000.0</td>\n",
              "      <td>211,290,235.0</td>\n",
              "      <td>285,118,000.0</td>\n",
              "    </tr>\n",
              "    <tr>\n",
              "      <th>2011</th>\n",
              "      <td>234,357,507.0</td>\n",
              "      <td>986,253,000.0</td>\n",
              "      <td>893,862,478.0</td>\n",
              "      <td>249,805,619.0</td>\n",
              "      <td>297,404,000.0</td>\n",
              "    </tr>\n",
              "    <tr>\n",
              "      <th>2012</th>\n",
              "      <td>248,323,703.0</td>\n",
              "      <td>1,112,155,000.0</td>\n",
              "      <td>864,720,917.0</td>\n",
              "      <td>281,963,665.0</td>\n",
              "      <td>304,838,000.0</td>\n",
              "    </tr>\n",
              "    <tr>\n",
              "      <th>2013</th>\n",
              "      <td>271,099,799.0</td>\n",
              "      <td>1,229,113,000.0</td>\n",
              "      <td>886,304,245.0</td>\n",
              "      <td>313,226,914.0</td>\n",
              "      <td>310,698,000.0</td>\n",
              "    </tr>\n",
              "    <tr>\n",
              "      <th>2014</th>\n",
              "      <td>280,728,796.0</td>\n",
              "      <td>1,286,093,000.0</td>\n",
              "      <td>944,008,677.0</td>\n",
              "      <td>325,582,819.0</td>\n",
              "      <td>355,500,000.0</td>\n",
              "    </tr>\n",
              "    <tr>\n",
              "      <th>2015</th>\n",
              "      <td>257,814,274.0</td>\n",
              "      <td>1,291,984,200.0</td>\n",
              "      <td>1,001,056,000.0</td>\n",
              "      <td>338,948,340.0</td>\n",
              "      <td>382,307,000.0</td>\n",
              "    </tr>\n",
              "    <tr>\n",
              "      <th>2016</th>\n",
              "      <td>244,067,356.0</td>\n",
              "      <td>1,364,934,000.0</td>\n",
              "      <td>1,127,809,000.0</td>\n",
              "      <td>385,573,398.0</td>\n",
              "      <td>395,881,000.0</td>\n",
              "    </tr>\n",
              "    <tr>\n",
              "      <th>2017</th>\n",
              "      <td>236,488,548.0</td>\n",
              "      <td>1,474,097,000.0</td>\n",
              "      <td>1,168,902,277.0</td>\n",
              "      <td>458,923,202.0</td>\n",
              "      <td>395,881,000.0</td>\n",
              "    </tr>\n",
              "  </tbody>\n",
              "</table>\n",
              "</div>"
            ],
            "text/plain": [
              "country        Brazil           China           India     Indonesia  \\\n",
              "time                                                                  \n",
              "2007    120,980,103.0   547,306,000.0   233,620,000.0  93,386,881.0   \n",
              "2008    150,641,403.0   641,245,000.0   346,890,000.0 140,578,243.0   \n",
              "2009    169,385,584.0   747,214,000.0   525,090,000.0 163,676,961.0   \n",
              "2010    196,929,978.0   859,003,000.0   752,190,000.0 211,290,235.0   \n",
              "2011    234,357,507.0   986,253,000.0   893,862,478.0 249,805,619.0   \n",
              "2012    248,323,703.0 1,112,155,000.0   864,720,917.0 281,963,665.0   \n",
              "2013    271,099,799.0 1,229,113,000.0   886,304,245.0 313,226,914.0   \n",
              "2014    280,728,796.0 1,286,093,000.0   944,008,677.0 325,582,819.0   \n",
              "2015    257,814,274.0 1,291,984,200.0 1,001,056,000.0 338,948,340.0   \n",
              "2016    244,067,356.0 1,364,934,000.0 1,127,809,000.0 385,573,398.0   \n",
              "2017    236,488,548.0 1,474,097,000.0 1,168,902,277.0 458,923,202.0   \n",
              "\n",
              "country  United States  \n",
              "time                    \n",
              "2007     249,300,000.0  \n",
              "2008     261,300,000.0  \n",
              "2009     274,283,000.0  \n",
              "2010     285,118,000.0  \n",
              "2011     297,404,000.0  \n",
              "2012     304,838,000.0  \n",
              "2013     310,698,000.0  \n",
              "2014     355,500,000.0  \n",
              "2015     382,307,000.0  \n",
              "2016     395,881,000.0  \n",
              "2017     395,881,000.0  "
            ]
          },
          "metadata": {
            "tags": []
          },
          "execution_count": 268
        }
      ]
    },
    {
      "metadata": {
        "id": "5_yhF3UySR8J",
        "colab_type": "code",
        "colab": {
          "base_uri": "https://localhost:8080/",
          "height": 34
        },
        "outputId": "c3c3c083-c8c5-467d-c7a7-167ff5abf2cf"
      },
      "cell_type": "code",
      "source": [
        "sub_pivot.shape"
      ],
      "execution_count": 269,
      "outputs": [
        {
          "output_type": "execute_result",
          "data": {
            "text/plain": [
              "(11, 5)"
            ]
          },
          "metadata": {
            "tags": []
          },
          "execution_count": 269
        }
      ]
    },
    {
      "metadata": {
        "id": "CNKTu2DCnAo6",
        "colab_type": "text"
      },
      "cell_type": "markdown",
      "source": [
        "#### OPTIONAL BONUS QUESTION!\n",
        "\n",
        "Sort these 5 countries, by biggest increase in cell phones from 2007 to 2017.\n",
        "\n",
        "Which country had 935,282,277 more cell phones in 2017 versus 2007?"
      ]
    },
    {
      "metadata": {
        "id": "O4Aecv1fmQlj",
        "colab_type": "code",
        "colab": {}
      },
      "cell_type": "code",
      "source": [
        ""
      ],
      "execution_count": 0,
      "outputs": []
    },
    {
      "metadata": {
        "id": "7iHkMsa3Rorh",
        "colab_type": "text"
      },
      "cell_type": "markdown",
      "source": [
        "If you have the time and curiosity, what other questions can you ask and answer with this data?"
      ]
    }
  ]
}