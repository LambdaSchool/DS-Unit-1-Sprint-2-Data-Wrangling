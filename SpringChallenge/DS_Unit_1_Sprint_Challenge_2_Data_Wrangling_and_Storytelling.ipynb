{
  "nbformat": 4,
  "nbformat_minor": 0,
  "metadata": {
    "colab": {
      "name": "DS_Unit_1_Sprint_Challenge_2_Data_Wrangling_and_Storytelling.ipynb",
      "version": "0.3.2",
      "provenance": [],
      "collapsed_sections": [],
      "include_colab_link": true
    },
    "language_info": {
      "codemirror_mode": {
        "name": "ipython",
        "version": 3
      },
      "file_extension": ".py",
      "mimetype": "text/x-python",
      "name": "python",
      "nbconvert_exporter": "python",
      "pygments_lexer": "ipython3",
      "version": "3.7.1"
    },
    "kernelspec": {
      "display_name": "Python 3",
      "language": "python",
      "name": "python3"
    }
  },
  "cells": [
    {
      "cell_type": "markdown",
      "metadata": {
        "id": "view-in-github",
        "colab_type": "text"
      },
      "source": [
        "<a href=\"https://colab.research.google.com/github/andrewwhite5/DS-Unit-1-Sprint-2-Data-Wrangling-and-Storytelling/blob/master/SpringChallenge/DS_Unit_1_Sprint_Challenge_2_Data_Wrangling_and_Storytelling.ipynb\" target=\"_parent\"><img src=\"https://colab.research.google.com/assets/colab-badge.svg\" alt=\"Open In Colab\"/></a>"
      ]
    },
    {
      "cell_type": "markdown",
      "metadata": {
        "colab_type": "text",
        "id": "4yMHi_PX9hEz"
      },
      "source": [
        "# Data Science Unit 1 Sprint Challenge 2\n",
        "\n",
        "## Data Wrangling and Storytelling\n",
        "\n",
        "Taming data from its raw form into informative insights and stories."
      ]
    },
    {
      "cell_type": "markdown",
      "metadata": {
        "id": "9wIvtOss9H_i",
        "colab_type": "text"
      },
      "source": [
        "## Data Wrangling\n",
        "\n",
        "In this Sprint Challenge you will first \"wrangle\" some data from [Gapminder](https://www.gapminder.org/about-gapminder/), a Swedish non-profit co-founded by Hans Rosling. \"Gapminder produces free teaching resources making the world understandable based on reliable statistics.\"\n",
        "- [Cell phones (total), by country and year](https://raw.githubusercontent.com/open-numbers/ddf--gapminder--systema_globalis/master/ddf--datapoints--cell_phones_total--by--geo--time.csv)\n",
        "- [Population (total), by country and year](https://raw.githubusercontent.com/open-numbers/ddf--gapminder--systema_globalis/master/ddf--datapoints--population_total--by--geo--time.csv)\n",
        "- [Geo country codes](https://github.com/open-numbers/ddf--gapminder--systema_globalis/blob/master/ddf--entities--geo--country.csv)\n",
        "\n",
        "These two links have everything you need to successfully complete the first part of this sprint challenge.\n",
        "- [Pandas documentation: Working with Text Data](https://pandas.pydata.org/pandas-docs/stable/text.html) (one question)\n",
        "- [Pandas Cheat Sheet](https://github.com/pandas-dev/pandas/blob/master/doc/cheatsheet/Pandas_Cheat_Sheet.pdf) (everything else)"
      ]
    },
    {
      "cell_type": "markdown",
      "metadata": {
        "colab_type": "text",
        "id": "wWEU2GemX68A"
      },
      "source": [
        "### Part 0. Load data\n",
        "\n",
        "You don't need to add or change anything here. Just run this cell and it loads the data for you, into three dataframes."
      ]
    },
    {
      "cell_type": "code",
      "metadata": {
        "colab_type": "code",
        "id": "bxKtSi5sRQOl",
        "colab": {}
      },
      "source": [
        "import pandas as pd\n",
        "\n",
        "cell_phones = pd.read_csv('https://raw.githubusercontent.com/open-numbers/ddf--gapminder--systema_globalis/master/ddf--datapoints--cell_phones_total--by--geo--time.csv')\n",
        "\n",
        "population = pd.read_csv('https://raw.githubusercontent.com/open-numbers/ddf--gapminder--systema_globalis/master/ddf--datapoints--population_total--by--geo--time.csv')\n",
        "\n",
        "geo_country_codes = (pd.read_csv('https://raw.githubusercontent.com/open-numbers/ddf--gapminder--systema_globalis/master/ddf--entities--geo--country.csv')\n",
        "                       .rename(columns={'country': 'geo', 'name': 'country'}))"
      ],
      "execution_count": 0,
      "outputs": []
    },
    {
      "cell_type": "markdown",
      "metadata": {
        "colab_type": "text",
        "id": "AZmVTeCsX9RC"
      },
      "source": [
        "### Part 1. Join data"
      ]
    },
    {
      "cell_type": "markdown",
      "metadata": {
        "colab_type": "text",
        "id": "GLzX58u4SfEy"
      },
      "source": [
        "First, join the `cell_phones` and `population` dataframes (with an inner join on `geo` and `time`).\n",
        "\n",
        "The resulting dataframe's shape should be: (8590, 4)"
      ]
    },
    {
      "cell_type": "code",
      "metadata": {
        "id": "7-cDsJdBU4Fz",
        "colab_type": "code",
        "colab": {
          "base_uri": "https://localhost:8080/",
          "height": 221
        },
        "outputId": "bcdd2bf5-72d0-4691-80b1-72d2e88a1059"
      },
      "source": [
        "print(cell_phones.shape)\n",
        "cell_phones.head()"
      ],
      "execution_count": 2,
      "outputs": [
        {
          "output_type": "stream",
          "text": [
            "(9215, 3)\n"
          ],
          "name": "stdout"
        },
        {
          "output_type": "execute_result",
          "data": {
            "text/html": [
              "<div>\n",
              "<style scoped>\n",
              "    .dataframe tbody tr th:only-of-type {\n",
              "        vertical-align: middle;\n",
              "    }\n",
              "\n",
              "    .dataframe tbody tr th {\n",
              "        vertical-align: top;\n",
              "    }\n",
              "\n",
              "    .dataframe thead th {\n",
              "        text-align: right;\n",
              "    }\n",
              "</style>\n",
              "<table border=\"1\" class=\"dataframe\">\n",
              "  <thead>\n",
              "    <tr style=\"text-align: right;\">\n",
              "      <th></th>\n",
              "      <th>geo</th>\n",
              "      <th>time</th>\n",
              "      <th>cell_phones_total</th>\n",
              "    </tr>\n",
              "  </thead>\n",
              "  <tbody>\n",
              "    <tr>\n",
              "      <th>0</th>\n",
              "      <td>abw</td>\n",
              "      <td>1960</td>\n",
              "      <td>0.0</td>\n",
              "    </tr>\n",
              "    <tr>\n",
              "      <th>1</th>\n",
              "      <td>abw</td>\n",
              "      <td>1965</td>\n",
              "      <td>0.0</td>\n",
              "    </tr>\n",
              "    <tr>\n",
              "      <th>2</th>\n",
              "      <td>abw</td>\n",
              "      <td>1970</td>\n",
              "      <td>0.0</td>\n",
              "    </tr>\n",
              "    <tr>\n",
              "      <th>3</th>\n",
              "      <td>abw</td>\n",
              "      <td>1975</td>\n",
              "      <td>0.0</td>\n",
              "    </tr>\n",
              "    <tr>\n",
              "      <th>4</th>\n",
              "      <td>abw</td>\n",
              "      <td>1976</td>\n",
              "      <td>0.0</td>\n",
              "    </tr>\n",
              "  </tbody>\n",
              "</table>\n",
              "</div>"
            ],
            "text/plain": [
              "   geo  time  cell_phones_total\n",
              "0  abw  1960                0.0\n",
              "1  abw  1965                0.0\n",
              "2  abw  1970                0.0\n",
              "3  abw  1975                0.0\n",
              "4  abw  1976                0.0"
            ]
          },
          "metadata": {
            "tags": []
          },
          "execution_count": 2
        }
      ]
    },
    {
      "cell_type": "code",
      "metadata": {
        "id": "RRAz4NBrU-2M",
        "colab_type": "code",
        "colab": {
          "base_uri": "https://localhost:8080/",
          "height": 221
        },
        "outputId": "204fa668-b7e4-4237-f393-08afac78290c"
      },
      "source": [
        "print(population.shape)\n",
        "population.head()"
      ],
      "execution_count": 3,
      "outputs": [
        {
          "output_type": "stream",
          "text": [
            "(59297, 3)\n"
          ],
          "name": "stdout"
        },
        {
          "output_type": "execute_result",
          "data": {
            "text/html": [
              "<div>\n",
              "<style scoped>\n",
              "    .dataframe tbody tr th:only-of-type {\n",
              "        vertical-align: middle;\n",
              "    }\n",
              "\n",
              "    .dataframe tbody tr th {\n",
              "        vertical-align: top;\n",
              "    }\n",
              "\n",
              "    .dataframe thead th {\n",
              "        text-align: right;\n",
              "    }\n",
              "</style>\n",
              "<table border=\"1\" class=\"dataframe\">\n",
              "  <thead>\n",
              "    <tr style=\"text-align: right;\">\n",
              "      <th></th>\n",
              "      <th>geo</th>\n",
              "      <th>time</th>\n",
              "      <th>population_total</th>\n",
              "    </tr>\n",
              "  </thead>\n",
              "  <tbody>\n",
              "    <tr>\n",
              "      <th>0</th>\n",
              "      <td>afg</td>\n",
              "      <td>1800</td>\n",
              "      <td>3280000</td>\n",
              "    </tr>\n",
              "    <tr>\n",
              "      <th>1</th>\n",
              "      <td>afg</td>\n",
              "      <td>1801</td>\n",
              "      <td>3280000</td>\n",
              "    </tr>\n",
              "    <tr>\n",
              "      <th>2</th>\n",
              "      <td>afg</td>\n",
              "      <td>1802</td>\n",
              "      <td>3280000</td>\n",
              "    </tr>\n",
              "    <tr>\n",
              "      <th>3</th>\n",
              "      <td>afg</td>\n",
              "      <td>1803</td>\n",
              "      <td>3280000</td>\n",
              "    </tr>\n",
              "    <tr>\n",
              "      <th>4</th>\n",
              "      <td>afg</td>\n",
              "      <td>1804</td>\n",
              "      <td>3280000</td>\n",
              "    </tr>\n",
              "  </tbody>\n",
              "</table>\n",
              "</div>"
            ],
            "text/plain": [
              "   geo  time  population_total\n",
              "0  afg  1800           3280000\n",
              "1  afg  1801           3280000\n",
              "2  afg  1802           3280000\n",
              "3  afg  1803           3280000\n",
              "4  afg  1804           3280000"
            ]
          },
          "metadata": {
            "tags": []
          },
          "execution_count": 3
        }
      ]
    },
    {
      "cell_type": "code",
      "metadata": {
        "colab_type": "code",
        "id": "GVV7Hnj4SXBa",
        "colab": {
          "base_uri": "https://localhost:8080/",
          "height": 221
        },
        "outputId": "7b6a0c51-d771-4628-91b9-16b032714e19"
      },
      "source": [
        "merged1 = pd.merge(cell_phones, population)\n",
        "print(merged1.shape)\n",
        "merged1.head()"
      ],
      "execution_count": 4,
      "outputs": [
        {
          "output_type": "stream",
          "text": [
            "(8590, 4)\n"
          ],
          "name": "stdout"
        },
        {
          "output_type": "execute_result",
          "data": {
            "text/html": [
              "<div>\n",
              "<style scoped>\n",
              "    .dataframe tbody tr th:only-of-type {\n",
              "        vertical-align: middle;\n",
              "    }\n",
              "\n",
              "    .dataframe tbody tr th {\n",
              "        vertical-align: top;\n",
              "    }\n",
              "\n",
              "    .dataframe thead th {\n",
              "        text-align: right;\n",
              "    }\n",
              "</style>\n",
              "<table border=\"1\" class=\"dataframe\">\n",
              "  <thead>\n",
              "    <tr style=\"text-align: right;\">\n",
              "      <th></th>\n",
              "      <th>geo</th>\n",
              "      <th>time</th>\n",
              "      <th>cell_phones_total</th>\n",
              "      <th>population_total</th>\n",
              "    </tr>\n",
              "  </thead>\n",
              "  <tbody>\n",
              "    <tr>\n",
              "      <th>0</th>\n",
              "      <td>afg</td>\n",
              "      <td>1960</td>\n",
              "      <td>0.0</td>\n",
              "      <td>8996351</td>\n",
              "    </tr>\n",
              "    <tr>\n",
              "      <th>1</th>\n",
              "      <td>afg</td>\n",
              "      <td>1965</td>\n",
              "      <td>0.0</td>\n",
              "      <td>9938414</td>\n",
              "    </tr>\n",
              "    <tr>\n",
              "      <th>2</th>\n",
              "      <td>afg</td>\n",
              "      <td>1970</td>\n",
              "      <td>0.0</td>\n",
              "      <td>11126123</td>\n",
              "    </tr>\n",
              "    <tr>\n",
              "      <th>3</th>\n",
              "      <td>afg</td>\n",
              "      <td>1975</td>\n",
              "      <td>0.0</td>\n",
              "      <td>12590286</td>\n",
              "    </tr>\n",
              "    <tr>\n",
              "      <th>4</th>\n",
              "      <td>afg</td>\n",
              "      <td>1976</td>\n",
              "      <td>0.0</td>\n",
              "      <td>12840299</td>\n",
              "    </tr>\n",
              "  </tbody>\n",
              "</table>\n",
              "</div>"
            ],
            "text/plain": [
              "   geo  time  cell_phones_total  population_total\n",
              "0  afg  1960                0.0           8996351\n",
              "1  afg  1965                0.0           9938414\n",
              "2  afg  1970                0.0          11126123\n",
              "3  afg  1975                0.0          12590286\n",
              "4  afg  1976                0.0          12840299"
            ]
          },
          "metadata": {
            "tags": []
          },
          "execution_count": 4
        }
      ]
    },
    {
      "cell_type": "markdown",
      "metadata": {
        "colab_type": "text",
        "id": "xsXpDbwwW241"
      },
      "source": [
        "Then, select the `geo` and `country` columns from the `geo_country_codes` dataframe, and join with your population and cell phone data.\n",
        "\n",
        "The resulting dataframe's shape should be: (8590, 5)"
      ]
    },
    {
      "cell_type": "code",
      "metadata": {
        "id": "mKaOkYGZViO_",
        "colab_type": "code",
        "colab": {
          "base_uri": "https://localhost:8080/",
          "height": 295
        },
        "outputId": "d8544cb5-314f-4116-9812-0c56353c253c"
      },
      "source": [
        "print(geo_country_codes.shape)\n",
        "geo_country_codes.head()"
      ],
      "execution_count": 5,
      "outputs": [
        {
          "output_type": "stream",
          "text": [
            "(273, 33)\n"
          ],
          "name": "stdout"
        },
        {
          "output_type": "execute_result",
          "data": {
            "text/html": [
              "<div>\n",
              "<style scoped>\n",
              "    .dataframe tbody tr th:only-of-type {\n",
              "        vertical-align: middle;\n",
              "    }\n",
              "\n",
              "    .dataframe tbody tr th {\n",
              "        vertical-align: top;\n",
              "    }\n",
              "\n",
              "    .dataframe thead th {\n",
              "        text-align: right;\n",
              "    }\n",
              "</style>\n",
              "<table border=\"1\" class=\"dataframe\">\n",
              "  <thead>\n",
              "    <tr style=\"text-align: right;\">\n",
              "      <th></th>\n",
              "      <th>geo</th>\n",
              "      <th>alt_5</th>\n",
              "      <th>alternative_1</th>\n",
              "      <th>alternative_2</th>\n",
              "      <th>alternative_3</th>\n",
              "      <th>alternative_4_cdiac</th>\n",
              "      <th>arb1</th>\n",
              "      <th>arb2</th>\n",
              "      <th>arb3</th>\n",
              "      <th>arb4</th>\n",
              "      <th>arb5</th>\n",
              "      <th>arb6</th>\n",
              "      <th>g77_and_oecd_countries</th>\n",
              "      <th>gapminder_list</th>\n",
              "      <th>god_id</th>\n",
              "      <th>gwid</th>\n",
              "      <th>income_groups</th>\n",
              "      <th>is--country</th>\n",
              "      <th>iso3166_1_alpha2</th>\n",
              "      <th>iso3166_1_alpha3</th>\n",
              "      <th>iso3166_1_numeric</th>\n",
              "      <th>iso3166_2</th>\n",
              "      <th>landlocked</th>\n",
              "      <th>latitude</th>\n",
              "      <th>longitude</th>\n",
              "      <th>main_religion_2008</th>\n",
              "      <th>country</th>\n",
              "      <th>pandg</th>\n",
              "      <th>un_state</th>\n",
              "      <th>unicode_region_subtag</th>\n",
              "      <th>upper_case_name</th>\n",
              "      <th>world_4region</th>\n",
              "      <th>world_6region</th>\n",
              "    </tr>\n",
              "  </thead>\n",
              "  <tbody>\n",
              "    <tr>\n",
              "      <th>0</th>\n",
              "      <td>abkh</td>\n",
              "      <td>NaN</td>\n",
              "      <td>NaN</td>\n",
              "      <td>NaN</td>\n",
              "      <td>NaN</td>\n",
              "      <td>NaN</td>\n",
              "      <td>NaN</td>\n",
              "      <td>NaN</td>\n",
              "      <td>NaN</td>\n",
              "      <td>NaN</td>\n",
              "      <td>NaN</td>\n",
              "      <td>NaN</td>\n",
              "      <td>others</td>\n",
              "      <td>Abkhazia</td>\n",
              "      <td>GE-AB</td>\n",
              "      <td>i0</td>\n",
              "      <td>NaN</td>\n",
              "      <td>True</td>\n",
              "      <td>NaN</td>\n",
              "      <td>NaN</td>\n",
              "      <td>NaN</td>\n",
              "      <td>NaN</td>\n",
              "      <td>NaN</td>\n",
              "      <td>NaN</td>\n",
              "      <td>NaN</td>\n",
              "      <td>NaN</td>\n",
              "      <td>Abkhazia</td>\n",
              "      <td>NaN</td>\n",
              "      <td>False</td>\n",
              "      <td>NaN</td>\n",
              "      <td>NaN</td>\n",
              "      <td>europe</td>\n",
              "      <td>europe_central_asia</td>\n",
              "    </tr>\n",
              "    <tr>\n",
              "      <th>1</th>\n",
              "      <td>abw</td>\n",
              "      <td>NaN</td>\n",
              "      <td>NaN</td>\n",
              "      <td>NaN</td>\n",
              "      <td>NaN</td>\n",
              "      <td>Aruba</td>\n",
              "      <td>NaN</td>\n",
              "      <td>NaN</td>\n",
              "      <td>NaN</td>\n",
              "      <td>NaN</td>\n",
              "      <td>NaN</td>\n",
              "      <td>NaN</td>\n",
              "      <td>others</td>\n",
              "      <td>Aruba</td>\n",
              "      <td>AW</td>\n",
              "      <td>i12</td>\n",
              "      <td>high_income</td>\n",
              "      <td>True</td>\n",
              "      <td>AW</td>\n",
              "      <td>ABW</td>\n",
              "      <td>533.0</td>\n",
              "      <td>NaN</td>\n",
              "      <td>coastline</td>\n",
              "      <td>12.50000</td>\n",
              "      <td>-69.96667</td>\n",
              "      <td>christian</td>\n",
              "      <td>Aruba</td>\n",
              "      <td>NaN</td>\n",
              "      <td>False</td>\n",
              "      <td>AW</td>\n",
              "      <td>ARUBA</td>\n",
              "      <td>americas</td>\n",
              "      <td>america</td>\n",
              "    </tr>\n",
              "    <tr>\n",
              "      <th>2</th>\n",
              "      <td>afg</td>\n",
              "      <td>NaN</td>\n",
              "      <td>Islamic Republic of Afghanistan</td>\n",
              "      <td>NaN</td>\n",
              "      <td>NaN</td>\n",
              "      <td>Afghanistan</td>\n",
              "      <td>NaN</td>\n",
              "      <td>NaN</td>\n",
              "      <td>NaN</td>\n",
              "      <td>NaN</td>\n",
              "      <td>NaN</td>\n",
              "      <td>NaN</td>\n",
              "      <td>g77</td>\n",
              "      <td>Afghanistan</td>\n",
              "      <td>AF</td>\n",
              "      <td>i1</td>\n",
              "      <td>low_income</td>\n",
              "      <td>True</td>\n",
              "      <td>AF</td>\n",
              "      <td>AFG</td>\n",
              "      <td>4.0</td>\n",
              "      <td>NaN</td>\n",
              "      <td>landlocked</td>\n",
              "      <td>33.00000</td>\n",
              "      <td>66.00000</td>\n",
              "      <td>muslim</td>\n",
              "      <td>Afghanistan</td>\n",
              "      <td>AFGHANISTAN</td>\n",
              "      <td>True</td>\n",
              "      <td>AF</td>\n",
              "      <td>AFGHANISTAN</td>\n",
              "      <td>asia</td>\n",
              "      <td>south_asia</td>\n",
              "    </tr>\n",
              "    <tr>\n",
              "      <th>3</th>\n",
              "      <td>ago</td>\n",
              "      <td>NaN</td>\n",
              "      <td>NaN</td>\n",
              "      <td>NaN</td>\n",
              "      <td>NaN</td>\n",
              "      <td>Angola</td>\n",
              "      <td>NaN</td>\n",
              "      <td>NaN</td>\n",
              "      <td>NaN</td>\n",
              "      <td>NaN</td>\n",
              "      <td>NaN</td>\n",
              "      <td>NaN</td>\n",
              "      <td>g77</td>\n",
              "      <td>Angola</td>\n",
              "      <td>AO</td>\n",
              "      <td>i7</td>\n",
              "      <td>upper_middle_income</td>\n",
              "      <td>True</td>\n",
              "      <td>AO</td>\n",
              "      <td>AGO</td>\n",
              "      <td>24.0</td>\n",
              "      <td>NaN</td>\n",
              "      <td>coastline</td>\n",
              "      <td>-12.50000</td>\n",
              "      <td>18.50000</td>\n",
              "      <td>christian</td>\n",
              "      <td>Angola</td>\n",
              "      <td>ANGOLA</td>\n",
              "      <td>True</td>\n",
              "      <td>AO</td>\n",
              "      <td>ANGOLA</td>\n",
              "      <td>africa</td>\n",
              "      <td>sub_saharan_africa</td>\n",
              "    </tr>\n",
              "    <tr>\n",
              "      <th>4</th>\n",
              "      <td>aia</td>\n",
              "      <td>NaN</td>\n",
              "      <td>NaN</td>\n",
              "      <td>NaN</td>\n",
              "      <td>NaN</td>\n",
              "      <td>NaN</td>\n",
              "      <td>NaN</td>\n",
              "      <td>NaN</td>\n",
              "      <td>NaN</td>\n",
              "      <td>NaN</td>\n",
              "      <td>NaN</td>\n",
              "      <td>NaN</td>\n",
              "      <td>others</td>\n",
              "      <td>Anguilla</td>\n",
              "      <td>AI</td>\n",
              "      <td>i8</td>\n",
              "      <td>NaN</td>\n",
              "      <td>True</td>\n",
              "      <td>AI</td>\n",
              "      <td>AIA</td>\n",
              "      <td>660.0</td>\n",
              "      <td>NaN</td>\n",
              "      <td>coastline</td>\n",
              "      <td>18.21667</td>\n",
              "      <td>-63.05000</td>\n",
              "      <td>christian</td>\n",
              "      <td>Anguilla</td>\n",
              "      <td>NaN</td>\n",
              "      <td>False</td>\n",
              "      <td>AI</td>\n",
              "      <td>ANGUILLA</td>\n",
              "      <td>americas</td>\n",
              "      <td>america</td>\n",
              "    </tr>\n",
              "  </tbody>\n",
              "</table>\n",
              "</div>"
            ],
            "text/plain": [
              "    geo alt_5  ... world_4region        world_6region\n",
              "0  abkh   NaN  ...        europe  europe_central_asia\n",
              "1   abw   NaN  ...      americas              america\n",
              "2   afg   NaN  ...          asia           south_asia\n",
              "3   ago   NaN  ...        africa   sub_saharan_africa\n",
              "4   aia   NaN  ...      americas              america\n",
              "\n",
              "[5 rows x 33 columns]"
            ]
          },
          "metadata": {
            "tags": []
          },
          "execution_count": 5
        }
      ]
    },
    {
      "cell_type": "code",
      "metadata": {
        "colab_type": "code",
        "id": "Q2LaZta_W2CE",
        "colab": {
          "base_uri": "https://localhost:8080/",
          "height": 221
        },
        "outputId": "0be9bbf2-060c-4c92-c695-e9652282a6b3"
      },
      "source": [
        "df = pd.merge(merged1, geo_country_codes[['geo', 'country']])\n",
        "print(df.shape)\n",
        "df.head()"
      ],
      "execution_count": 6,
      "outputs": [
        {
          "output_type": "stream",
          "text": [
            "(8590, 5)\n"
          ],
          "name": "stdout"
        },
        {
          "output_type": "execute_result",
          "data": {
            "text/html": [
              "<div>\n",
              "<style scoped>\n",
              "    .dataframe tbody tr th:only-of-type {\n",
              "        vertical-align: middle;\n",
              "    }\n",
              "\n",
              "    .dataframe tbody tr th {\n",
              "        vertical-align: top;\n",
              "    }\n",
              "\n",
              "    .dataframe thead th {\n",
              "        text-align: right;\n",
              "    }\n",
              "</style>\n",
              "<table border=\"1\" class=\"dataframe\">\n",
              "  <thead>\n",
              "    <tr style=\"text-align: right;\">\n",
              "      <th></th>\n",
              "      <th>geo</th>\n",
              "      <th>time</th>\n",
              "      <th>cell_phones_total</th>\n",
              "      <th>population_total</th>\n",
              "      <th>country</th>\n",
              "    </tr>\n",
              "  </thead>\n",
              "  <tbody>\n",
              "    <tr>\n",
              "      <th>0</th>\n",
              "      <td>afg</td>\n",
              "      <td>1960</td>\n",
              "      <td>0.0</td>\n",
              "      <td>8996351</td>\n",
              "      <td>Afghanistan</td>\n",
              "    </tr>\n",
              "    <tr>\n",
              "      <th>1</th>\n",
              "      <td>afg</td>\n",
              "      <td>1965</td>\n",
              "      <td>0.0</td>\n",
              "      <td>9938414</td>\n",
              "      <td>Afghanistan</td>\n",
              "    </tr>\n",
              "    <tr>\n",
              "      <th>2</th>\n",
              "      <td>afg</td>\n",
              "      <td>1970</td>\n",
              "      <td>0.0</td>\n",
              "      <td>11126123</td>\n",
              "      <td>Afghanistan</td>\n",
              "    </tr>\n",
              "    <tr>\n",
              "      <th>3</th>\n",
              "      <td>afg</td>\n",
              "      <td>1975</td>\n",
              "      <td>0.0</td>\n",
              "      <td>12590286</td>\n",
              "      <td>Afghanistan</td>\n",
              "    </tr>\n",
              "    <tr>\n",
              "      <th>4</th>\n",
              "      <td>afg</td>\n",
              "      <td>1976</td>\n",
              "      <td>0.0</td>\n",
              "      <td>12840299</td>\n",
              "      <td>Afghanistan</td>\n",
              "    </tr>\n",
              "  </tbody>\n",
              "</table>\n",
              "</div>"
            ],
            "text/plain": [
              "   geo  time  cell_phones_total  population_total      country\n",
              "0  afg  1960                0.0           8996351  Afghanistan\n",
              "1  afg  1965                0.0           9938414  Afghanistan\n",
              "2  afg  1970                0.0          11126123  Afghanistan\n",
              "3  afg  1975                0.0          12590286  Afghanistan\n",
              "4  afg  1976                0.0          12840299  Afghanistan"
            ]
          },
          "metadata": {
            "tags": []
          },
          "execution_count": 6
        }
      ]
    },
    {
      "cell_type": "markdown",
      "metadata": {
        "colab_type": "text",
        "id": "oK96Uj7vYjFX"
      },
      "source": [
        "### Part 2. Make features"
      ]
    },
    {
      "cell_type": "markdown",
      "metadata": {
        "colab_type": "text",
        "id": "AD2fBNrOYzCG"
      },
      "source": [
        "Calculate the number of cell phones per person, and add this column onto your dataframe.\n",
        "\n",
        "(You've calculated correctly if you get 1.220 cell phones per person in the United States in 2017.)"
      ]
    },
    {
      "cell_type": "code",
      "metadata": {
        "id": "JXBK3qZ_Zn3q",
        "colab_type": "code",
        "colab": {
          "base_uri": "https://localhost:8080/",
          "height": 136
        },
        "outputId": "9c5a7c81-1121-434e-cab1-bcbb7e7c0adf"
      },
      "source": [
        "df['cphones_per_person'] = df.apply(lambda df: df['cell_phones_total'] / df['population_total'], axis=1)  # New column that has number of cell phones per citizen\n",
        "print(df['cphones_per_person'].shape)\n",
        "df['cphones_per_person'].head()"
      ],
      "execution_count": 7,
      "outputs": [
        {
          "output_type": "stream",
          "text": [
            "(8590,)\n"
          ],
          "name": "stdout"
        },
        {
          "output_type": "execute_result",
          "data": {
            "text/plain": [
              "0    0.0\n",
              "1    0.0\n",
              "2    0.0\n",
              "3    0.0\n",
              "4    0.0\n",
              "Name: cphones_per_person, dtype: float64"
            ]
          },
          "metadata": {
            "tags": []
          },
          "execution_count": 7
        }
      ]
    },
    {
      "cell_type": "code",
      "metadata": {
        "id": "VyqFMWKGaIH5",
        "colab_type": "code",
        "colab": {
          "base_uri": "https://localhost:8080/",
          "height": 204
        },
        "outputId": "f6376d4d-6b24-45ba-c43a-596fb7ef57b6"
      },
      "source": [
        "df.head()"
      ],
      "execution_count": 8,
      "outputs": [
        {
          "output_type": "execute_result",
          "data": {
            "text/html": [
              "<div>\n",
              "<style scoped>\n",
              "    .dataframe tbody tr th:only-of-type {\n",
              "        vertical-align: middle;\n",
              "    }\n",
              "\n",
              "    .dataframe tbody tr th {\n",
              "        vertical-align: top;\n",
              "    }\n",
              "\n",
              "    .dataframe thead th {\n",
              "        text-align: right;\n",
              "    }\n",
              "</style>\n",
              "<table border=\"1\" class=\"dataframe\">\n",
              "  <thead>\n",
              "    <tr style=\"text-align: right;\">\n",
              "      <th></th>\n",
              "      <th>geo</th>\n",
              "      <th>time</th>\n",
              "      <th>cell_phones_total</th>\n",
              "      <th>population_total</th>\n",
              "      <th>country</th>\n",
              "      <th>cphones_per_person</th>\n",
              "    </tr>\n",
              "  </thead>\n",
              "  <tbody>\n",
              "    <tr>\n",
              "      <th>0</th>\n",
              "      <td>afg</td>\n",
              "      <td>1960</td>\n",
              "      <td>0.0</td>\n",
              "      <td>8996351</td>\n",
              "      <td>Afghanistan</td>\n",
              "      <td>0.0</td>\n",
              "    </tr>\n",
              "    <tr>\n",
              "      <th>1</th>\n",
              "      <td>afg</td>\n",
              "      <td>1965</td>\n",
              "      <td>0.0</td>\n",
              "      <td>9938414</td>\n",
              "      <td>Afghanistan</td>\n",
              "      <td>0.0</td>\n",
              "    </tr>\n",
              "    <tr>\n",
              "      <th>2</th>\n",
              "      <td>afg</td>\n",
              "      <td>1970</td>\n",
              "      <td>0.0</td>\n",
              "      <td>11126123</td>\n",
              "      <td>Afghanistan</td>\n",
              "      <td>0.0</td>\n",
              "    </tr>\n",
              "    <tr>\n",
              "      <th>3</th>\n",
              "      <td>afg</td>\n",
              "      <td>1975</td>\n",
              "      <td>0.0</td>\n",
              "      <td>12590286</td>\n",
              "      <td>Afghanistan</td>\n",
              "      <td>0.0</td>\n",
              "    </tr>\n",
              "    <tr>\n",
              "      <th>4</th>\n",
              "      <td>afg</td>\n",
              "      <td>1976</td>\n",
              "      <td>0.0</td>\n",
              "      <td>12840299</td>\n",
              "      <td>Afghanistan</td>\n",
              "      <td>0.0</td>\n",
              "    </tr>\n",
              "  </tbody>\n",
              "</table>\n",
              "</div>"
            ],
            "text/plain": [
              "   geo  time  ...      country  cphones_per_person\n",
              "0  afg  1960  ...  Afghanistan                 0.0\n",
              "1  afg  1965  ...  Afghanistan                 0.0\n",
              "2  afg  1970  ...  Afghanistan                 0.0\n",
              "3  afg  1975  ...  Afghanistan                 0.0\n",
              "4  afg  1976  ...  Afghanistan                 0.0\n",
              "\n",
              "[5 rows x 6 columns]"
            ]
          },
          "metadata": {
            "tags": []
          },
          "execution_count": 8
        }
      ]
    },
    {
      "cell_type": "code",
      "metadata": {
        "id": "k3jCib-JbCnF",
        "colab_type": "code",
        "colab": {
          "base_uri": "https://localhost:8080/",
          "height": 697
        },
        "outputId": "aa56c903-f857-43de-f4a1-80d16420f79d"
      },
      "source": [
        "df['country'].unique()  # Looking for spelling of United States"
      ],
      "execution_count": 9,
      "outputs": [
        {
          "output_type": "execute_result",
          "data": {
            "text/plain": [
              "array(['Afghanistan', 'Angola', 'Albania', 'Andorra',\n",
              "       'United Arab Emirates', 'Argentina', 'Armenia',\n",
              "       'Antigua and Barbuda', 'Australia', 'Austria', 'Azerbaijan',\n",
              "       'Burundi', 'Belgium', 'Benin', 'Burkina Faso', 'Bangladesh',\n",
              "       'Bulgaria', 'Bahrain', 'Bahamas', 'Bosnia and Herzegovina',\n",
              "       'Belarus', 'Belize', 'Bolivia', 'Brazil', 'Barbados', 'Brunei',\n",
              "       'Bhutan', 'Botswana', 'Central African Republic', 'Canada',\n",
              "       'Switzerland', 'Chile', 'China', \"Cote d'Ivoire\", 'Cameroon',\n",
              "       'Congo, Dem. Rep.', 'Congo, Rep.', 'Colombia', 'Comoros',\n",
              "       'Cape Verde', 'Costa Rica', 'Cuba', 'Cyprus', 'Czech Republic',\n",
              "       'Germany', 'Djibouti', 'Dominica', 'Denmark', 'Dominican Republic',\n",
              "       'Algeria', 'Ecuador', 'Egypt', 'Eritrea', 'Spain', 'Estonia',\n",
              "       'Ethiopia', 'Finland', 'Fiji', 'France', 'Micronesia, Fed. Sts.',\n",
              "       'Gabon', 'United Kingdom', 'Georgia', 'Ghana', 'Guinea', 'Gambia',\n",
              "       'Guinea-Bissau', 'Equatorial Guinea', 'Greece', 'Grenada',\n",
              "       'Guatemala', 'Guyana', 'Hong Kong, China', 'Honduras', 'Croatia',\n",
              "       'Haiti', 'Hungary', 'Indonesia', 'India', 'Ireland', 'Iran',\n",
              "       'Iraq', 'Iceland', 'Israel', 'Italy', 'Jamaica', 'Jordan', 'Japan',\n",
              "       'Kazakhstan', 'Kenya', 'Kyrgyz Republic', 'Cambodia', 'Kiribati',\n",
              "       'St. Kitts and Nevis', 'South Korea', 'Kuwait', 'Lao', 'Lebanon',\n",
              "       'Liberia', 'Libya', 'St. Lucia', 'Liechtenstein', 'Sri Lanka',\n",
              "       'Lesotho', 'Lithuania', 'Luxembourg', 'Latvia', 'Morocco',\n",
              "       'Monaco', 'Moldova', 'Madagascar', 'Maldives', 'Mexico',\n",
              "       'Marshall Islands', 'Macedonia, FYR', 'Mali', 'Malta', 'Myanmar',\n",
              "       'Montenegro', 'Mongolia', 'Mozambique', 'Mauritania', 'Mauritius',\n",
              "       'Malawi', 'Malaysia', 'Namibia', 'Niger', 'Nigeria', 'Nicaragua',\n",
              "       'Netherlands', 'Norway', 'Nepal', 'Nauru', 'New Zealand', 'Oman',\n",
              "       'Pakistan', 'Panama', 'Peru', 'Philippines', 'Palau',\n",
              "       'Papua New Guinea', 'Poland', 'North Korea', 'Portugal',\n",
              "       'Paraguay', 'Palestine', 'Qatar', 'Romania', 'Russia', 'Rwanda',\n",
              "       'Saudi Arabia', 'Sudan', 'Senegal', 'Singapore', 'Solomon Islands',\n",
              "       'Sierra Leone', 'El Salvador', 'San Marino', 'Somalia', 'Serbia',\n",
              "       'South Sudan', 'Sao Tome and Principe', 'Suriname',\n",
              "       'Slovak Republic', 'Slovenia', 'Sweden', 'Swaziland', 'Seychelles',\n",
              "       'Syria', 'Chad', 'Togo', 'Thailand', 'Tajikistan', 'Turkmenistan',\n",
              "       'Timor-Leste', 'Tonga', 'Trinidad and Tobago', 'Tunisia', 'Turkey',\n",
              "       'Tuvalu', 'Tanzania', 'Uganda', 'Ukraine', 'Uruguay',\n",
              "       'United States', 'Uzbekistan', 'St. Vincent and the Grenadines',\n",
              "       'Venezuela', 'Vietnam', 'Vanuatu', 'Samoa', 'Yemen',\n",
              "       'South Africa', 'Zambia', 'Zimbabwe'], dtype=object)"
            ]
          },
          "metadata": {
            "tags": []
          },
          "execution_count": 9
        }
      ]
    },
    {
      "cell_type": "code",
      "metadata": {
        "id": "OXH79YVUb302",
        "colab_type": "code",
        "colab": {
          "base_uri": "https://localhost:8080/",
          "height": 630
        },
        "outputId": "cb2993f5-c473-47be-cf88-feb0573d8327"
      },
      "source": [
        "df.loc[['country'] == 'United States']"
      ],
      "execution_count": 78,
      "outputs": [
        {
          "output_type": "error",
          "ename": "KeyError",
          "evalue": "ignored",
          "traceback": [
            "\u001b[0;31m---------------------------------------------------------------------------\u001b[0m",
            "\u001b[0;31mKeyError\u001b[0m                                  Traceback (most recent call last)",
            "\u001b[0;32m/usr/local/lib/python3.6/dist-packages/pandas/core/indexes/base.py\u001b[0m in \u001b[0;36mget_loc\u001b[0;34m(self, key, method, tolerance)\u001b[0m\n\u001b[1;32m   2656\u001b[0m             \u001b[0;32mtry\u001b[0m\u001b[0;34m:\u001b[0m\u001b[0;34m\u001b[0m\u001b[0;34m\u001b[0m\u001b[0m\n\u001b[0;32m-> 2657\u001b[0;31m                 \u001b[0;32mreturn\u001b[0m \u001b[0mself\u001b[0m\u001b[0;34m.\u001b[0m\u001b[0m_engine\u001b[0m\u001b[0;34m.\u001b[0m\u001b[0mget_loc\u001b[0m\u001b[0;34m(\u001b[0m\u001b[0mkey\u001b[0m\u001b[0;34m)\u001b[0m\u001b[0;34m\u001b[0m\u001b[0;34m\u001b[0m\u001b[0m\n\u001b[0m\u001b[1;32m   2658\u001b[0m             \u001b[0;32mexcept\u001b[0m \u001b[0mKeyError\u001b[0m\u001b[0;34m:\u001b[0m\u001b[0;34m\u001b[0m\u001b[0;34m\u001b[0m\u001b[0m\n",
            "\u001b[0;32mpandas/_libs/index.pyx\u001b[0m in \u001b[0;36mpandas._libs.index.IndexEngine.get_loc\u001b[0;34m()\u001b[0m\n",
            "\u001b[0;32mpandas/_libs/index.pyx\u001b[0m in \u001b[0;36mpandas._libs.index.IndexEngine.get_loc\u001b[0;34m()\u001b[0m\n",
            "\u001b[0;32mpandas/_libs/index_class_helper.pxi\u001b[0m in \u001b[0;36mpandas._libs.index.Int64Engine._check_type\u001b[0;34m()\u001b[0m\n",
            "\u001b[0;31mKeyError\u001b[0m: False",
            "\nDuring handling of the above exception, another exception occurred:\n",
            "\u001b[0;31mKeyError\u001b[0m                                  Traceback (most recent call last)",
            "\u001b[0;32m<ipython-input-78-a5909f90d0d4>\u001b[0m in \u001b[0;36m<module>\u001b[0;34m()\u001b[0m\n\u001b[0;32m----> 1\u001b[0;31m \u001b[0mdf\u001b[0m\u001b[0;34m.\u001b[0m\u001b[0mloc\u001b[0m\u001b[0;34m[\u001b[0m\u001b[0;34m[\u001b[0m\u001b[0;34m'country'\u001b[0m\u001b[0;34m]\u001b[0m \u001b[0;34m==\u001b[0m \u001b[0;34m'United States'\u001b[0m\u001b[0;34m]\u001b[0m\u001b[0;34m\u001b[0m\u001b[0;34m\u001b[0m\u001b[0m\n\u001b[0m",
            "\u001b[0;32m/usr/local/lib/python3.6/dist-packages/pandas/core/indexing.py\u001b[0m in \u001b[0;36m__getitem__\u001b[0;34m(self, key)\u001b[0m\n\u001b[1;32m   1498\u001b[0m \u001b[0;34m\u001b[0m\u001b[0m\n\u001b[1;32m   1499\u001b[0m             \u001b[0mmaybe_callable\u001b[0m \u001b[0;34m=\u001b[0m \u001b[0mcom\u001b[0m\u001b[0;34m.\u001b[0m\u001b[0mapply_if_callable\u001b[0m\u001b[0;34m(\u001b[0m\u001b[0mkey\u001b[0m\u001b[0;34m,\u001b[0m \u001b[0mself\u001b[0m\u001b[0;34m.\u001b[0m\u001b[0mobj\u001b[0m\u001b[0;34m)\u001b[0m\u001b[0;34m\u001b[0m\u001b[0;34m\u001b[0m\u001b[0m\n\u001b[0;32m-> 1500\u001b[0;31m             \u001b[0;32mreturn\u001b[0m \u001b[0mself\u001b[0m\u001b[0;34m.\u001b[0m\u001b[0m_getitem_axis\u001b[0m\u001b[0;34m(\u001b[0m\u001b[0mmaybe_callable\u001b[0m\u001b[0;34m,\u001b[0m \u001b[0maxis\u001b[0m\u001b[0;34m=\u001b[0m\u001b[0maxis\u001b[0m\u001b[0;34m)\u001b[0m\u001b[0;34m\u001b[0m\u001b[0;34m\u001b[0m\u001b[0m\n\u001b[0m\u001b[1;32m   1501\u001b[0m \u001b[0;34m\u001b[0m\u001b[0m\n\u001b[1;32m   1502\u001b[0m     \u001b[0;32mdef\u001b[0m \u001b[0m_is_scalar_access\u001b[0m\u001b[0;34m(\u001b[0m\u001b[0mself\u001b[0m\u001b[0;34m,\u001b[0m \u001b[0mkey\u001b[0m\u001b[0;34m)\u001b[0m\u001b[0;34m:\u001b[0m\u001b[0;34m\u001b[0m\u001b[0;34m\u001b[0m\u001b[0m\n",
            "\u001b[0;32m/usr/local/lib/python3.6/dist-packages/pandas/core/indexing.py\u001b[0m in \u001b[0;36m_getitem_axis\u001b[0;34m(self, key, axis)\u001b[0m\n\u001b[1;32m   1911\u001b[0m         \u001b[0;31m# fall thru to straight lookup\u001b[0m\u001b[0;34m\u001b[0m\u001b[0;34m\u001b[0m\u001b[0;34m\u001b[0m\u001b[0m\n\u001b[1;32m   1912\u001b[0m         \u001b[0mself\u001b[0m\u001b[0;34m.\u001b[0m\u001b[0m_validate_key\u001b[0m\u001b[0;34m(\u001b[0m\u001b[0mkey\u001b[0m\u001b[0;34m,\u001b[0m \u001b[0maxis\u001b[0m\u001b[0;34m)\u001b[0m\u001b[0;34m\u001b[0m\u001b[0;34m\u001b[0m\u001b[0m\n\u001b[0;32m-> 1913\u001b[0;31m         \u001b[0;32mreturn\u001b[0m \u001b[0mself\u001b[0m\u001b[0;34m.\u001b[0m\u001b[0m_get_label\u001b[0m\u001b[0;34m(\u001b[0m\u001b[0mkey\u001b[0m\u001b[0;34m,\u001b[0m \u001b[0maxis\u001b[0m\u001b[0;34m=\u001b[0m\u001b[0maxis\u001b[0m\u001b[0;34m)\u001b[0m\u001b[0;34m\u001b[0m\u001b[0;34m\u001b[0m\u001b[0m\n\u001b[0m\u001b[1;32m   1914\u001b[0m \u001b[0;34m\u001b[0m\u001b[0m\n\u001b[1;32m   1915\u001b[0m \u001b[0;34m\u001b[0m\u001b[0m\n",
            "\u001b[0;32m/usr/local/lib/python3.6/dist-packages/pandas/core/indexing.py\u001b[0m in \u001b[0;36m_get_label\u001b[0;34m(self, label, axis)\u001b[0m\n\u001b[1;32m    139\u001b[0m             \u001b[0;32mraise\u001b[0m \u001b[0mIndexingError\u001b[0m\u001b[0;34m(\u001b[0m\u001b[0;34m'no slices here, handle elsewhere'\u001b[0m\u001b[0;34m)\u001b[0m\u001b[0;34m\u001b[0m\u001b[0;34m\u001b[0m\u001b[0m\n\u001b[1;32m    140\u001b[0m \u001b[0;34m\u001b[0m\u001b[0m\n\u001b[0;32m--> 141\u001b[0;31m         \u001b[0;32mreturn\u001b[0m \u001b[0mself\u001b[0m\u001b[0;34m.\u001b[0m\u001b[0mobj\u001b[0m\u001b[0;34m.\u001b[0m\u001b[0m_xs\u001b[0m\u001b[0;34m(\u001b[0m\u001b[0mlabel\u001b[0m\u001b[0;34m,\u001b[0m \u001b[0maxis\u001b[0m\u001b[0;34m=\u001b[0m\u001b[0maxis\u001b[0m\u001b[0;34m)\u001b[0m\u001b[0;34m\u001b[0m\u001b[0;34m\u001b[0m\u001b[0m\n\u001b[0m\u001b[1;32m    142\u001b[0m \u001b[0;34m\u001b[0m\u001b[0m\n\u001b[1;32m    143\u001b[0m     \u001b[0;32mdef\u001b[0m \u001b[0m_get_loc\u001b[0m\u001b[0;34m(\u001b[0m\u001b[0mself\u001b[0m\u001b[0;34m,\u001b[0m \u001b[0mkey\u001b[0m\u001b[0;34m,\u001b[0m \u001b[0maxis\u001b[0m\u001b[0;34m=\u001b[0m\u001b[0;32mNone\u001b[0m\u001b[0;34m)\u001b[0m\u001b[0;34m:\u001b[0m\u001b[0;34m\u001b[0m\u001b[0;34m\u001b[0m\u001b[0m\n",
            "\u001b[0;32m/usr/local/lib/python3.6/dist-packages/pandas/core/generic.py\u001b[0m in \u001b[0;36mxs\u001b[0;34m(self, key, axis, level, drop_level)\u001b[0m\n\u001b[1;32m   3583\u001b[0m                                                       drop_level=drop_level)\n\u001b[1;32m   3584\u001b[0m         \u001b[0;32melse\u001b[0m\u001b[0;34m:\u001b[0m\u001b[0;34m\u001b[0m\u001b[0;34m\u001b[0m\u001b[0m\n\u001b[0;32m-> 3585\u001b[0;31m             \u001b[0mloc\u001b[0m \u001b[0;34m=\u001b[0m \u001b[0mself\u001b[0m\u001b[0;34m.\u001b[0m\u001b[0mindex\u001b[0m\u001b[0;34m.\u001b[0m\u001b[0mget_loc\u001b[0m\u001b[0;34m(\u001b[0m\u001b[0mkey\u001b[0m\u001b[0;34m)\u001b[0m\u001b[0;34m\u001b[0m\u001b[0;34m\u001b[0m\u001b[0m\n\u001b[0m\u001b[1;32m   3586\u001b[0m \u001b[0;34m\u001b[0m\u001b[0m\n\u001b[1;32m   3587\u001b[0m             \u001b[0;32mif\u001b[0m \u001b[0misinstance\u001b[0m\u001b[0;34m(\u001b[0m\u001b[0mloc\u001b[0m\u001b[0;34m,\u001b[0m \u001b[0mnp\u001b[0m\u001b[0;34m.\u001b[0m\u001b[0mndarray\u001b[0m\u001b[0;34m)\u001b[0m\u001b[0;34m:\u001b[0m\u001b[0;34m\u001b[0m\u001b[0;34m\u001b[0m\u001b[0m\n",
            "\u001b[0;32m/usr/local/lib/python3.6/dist-packages/pandas/core/indexes/base.py\u001b[0m in \u001b[0;36mget_loc\u001b[0;34m(self, key, method, tolerance)\u001b[0m\n\u001b[1;32m   2657\u001b[0m                 \u001b[0;32mreturn\u001b[0m \u001b[0mself\u001b[0m\u001b[0;34m.\u001b[0m\u001b[0m_engine\u001b[0m\u001b[0;34m.\u001b[0m\u001b[0mget_loc\u001b[0m\u001b[0;34m(\u001b[0m\u001b[0mkey\u001b[0m\u001b[0;34m)\u001b[0m\u001b[0;34m\u001b[0m\u001b[0;34m\u001b[0m\u001b[0m\n\u001b[1;32m   2658\u001b[0m             \u001b[0;32mexcept\u001b[0m \u001b[0mKeyError\u001b[0m\u001b[0;34m:\u001b[0m\u001b[0;34m\u001b[0m\u001b[0;34m\u001b[0m\u001b[0m\n\u001b[0;32m-> 2659\u001b[0;31m                 \u001b[0;32mreturn\u001b[0m \u001b[0mself\u001b[0m\u001b[0;34m.\u001b[0m\u001b[0m_engine\u001b[0m\u001b[0;34m.\u001b[0m\u001b[0mget_loc\u001b[0m\u001b[0;34m(\u001b[0m\u001b[0mself\u001b[0m\u001b[0;34m.\u001b[0m\u001b[0m_maybe_cast_indexer\u001b[0m\u001b[0;34m(\u001b[0m\u001b[0mkey\u001b[0m\u001b[0;34m)\u001b[0m\u001b[0;34m)\u001b[0m\u001b[0;34m\u001b[0m\u001b[0;34m\u001b[0m\u001b[0m\n\u001b[0m\u001b[1;32m   2660\u001b[0m         \u001b[0mindexer\u001b[0m \u001b[0;34m=\u001b[0m \u001b[0mself\u001b[0m\u001b[0;34m.\u001b[0m\u001b[0mget_indexer\u001b[0m\u001b[0;34m(\u001b[0m\u001b[0;34m[\u001b[0m\u001b[0mkey\u001b[0m\u001b[0;34m]\u001b[0m\u001b[0;34m,\u001b[0m \u001b[0mmethod\u001b[0m\u001b[0;34m=\u001b[0m\u001b[0mmethod\u001b[0m\u001b[0;34m,\u001b[0m \u001b[0mtolerance\u001b[0m\u001b[0;34m=\u001b[0m\u001b[0mtolerance\u001b[0m\u001b[0;34m)\u001b[0m\u001b[0;34m\u001b[0m\u001b[0;34m\u001b[0m\u001b[0m\n\u001b[1;32m   2661\u001b[0m         \u001b[0;32mif\u001b[0m \u001b[0mindexer\u001b[0m\u001b[0;34m.\u001b[0m\u001b[0mndim\u001b[0m \u001b[0;34m>\u001b[0m \u001b[0;36m1\u001b[0m \u001b[0;32mor\u001b[0m \u001b[0mindexer\u001b[0m\u001b[0;34m.\u001b[0m\u001b[0msize\u001b[0m \u001b[0;34m>\u001b[0m \u001b[0;36m1\u001b[0m\u001b[0;34m:\u001b[0m\u001b[0;34m\u001b[0m\u001b[0;34m\u001b[0m\u001b[0m\n",
            "\u001b[0;32mpandas/_libs/index.pyx\u001b[0m in \u001b[0;36mpandas._libs.index.IndexEngine.get_loc\u001b[0;34m()\u001b[0m\n",
            "\u001b[0;32mpandas/_libs/index.pyx\u001b[0m in \u001b[0;36mpandas._libs.index.IndexEngine.get_loc\u001b[0;34m()\u001b[0m\n",
            "\u001b[0;32mpandas/_libs/index_class_helper.pxi\u001b[0m in \u001b[0;36mpandas._libs.index.Int64Engine._check_type\u001b[0;34m()\u001b[0m\n",
            "\u001b[0;31mKeyError\u001b[0m: False"
          ]
        }
      ]
    },
    {
      "cell_type": "markdown",
      "metadata": {
        "colab_type": "text",
        "id": "S3QFdsnRZMH6"
      },
      "source": [
        "Modify the `geo` column to make the geo codes uppercase instead of lowercase."
      ]
    },
    {
      "cell_type": "code",
      "metadata": {
        "colab_type": "code",
        "id": "93ADij8_YkOq",
        "colab": {
          "base_uri": "https://localhost:8080/",
          "height": 204
        },
        "outputId": "e6e98fea-4ba6-49b6-fe9f-9dcca8eb0fa8"
      },
      "source": [
        "df['geo'] = df['geo'].str.upper()  # Make country code caps because I was told to\n",
        "df.head()"
      ],
      "execution_count": 11,
      "outputs": [
        {
          "output_type": "execute_result",
          "data": {
            "text/html": [
              "<div>\n",
              "<style scoped>\n",
              "    .dataframe tbody tr th:only-of-type {\n",
              "        vertical-align: middle;\n",
              "    }\n",
              "\n",
              "    .dataframe tbody tr th {\n",
              "        vertical-align: top;\n",
              "    }\n",
              "\n",
              "    .dataframe thead th {\n",
              "        text-align: right;\n",
              "    }\n",
              "</style>\n",
              "<table border=\"1\" class=\"dataframe\">\n",
              "  <thead>\n",
              "    <tr style=\"text-align: right;\">\n",
              "      <th></th>\n",
              "      <th>geo</th>\n",
              "      <th>time</th>\n",
              "      <th>cell_phones_total</th>\n",
              "      <th>population_total</th>\n",
              "      <th>country</th>\n",
              "      <th>cphones_per_person</th>\n",
              "    </tr>\n",
              "  </thead>\n",
              "  <tbody>\n",
              "    <tr>\n",
              "      <th>0</th>\n",
              "      <td>AFG</td>\n",
              "      <td>1960</td>\n",
              "      <td>0.0</td>\n",
              "      <td>8996351</td>\n",
              "      <td>Afghanistan</td>\n",
              "      <td>0.0</td>\n",
              "    </tr>\n",
              "    <tr>\n",
              "      <th>1</th>\n",
              "      <td>AFG</td>\n",
              "      <td>1965</td>\n",
              "      <td>0.0</td>\n",
              "      <td>9938414</td>\n",
              "      <td>Afghanistan</td>\n",
              "      <td>0.0</td>\n",
              "    </tr>\n",
              "    <tr>\n",
              "      <th>2</th>\n",
              "      <td>AFG</td>\n",
              "      <td>1970</td>\n",
              "      <td>0.0</td>\n",
              "      <td>11126123</td>\n",
              "      <td>Afghanistan</td>\n",
              "      <td>0.0</td>\n",
              "    </tr>\n",
              "    <tr>\n",
              "      <th>3</th>\n",
              "      <td>AFG</td>\n",
              "      <td>1975</td>\n",
              "      <td>0.0</td>\n",
              "      <td>12590286</td>\n",
              "      <td>Afghanistan</td>\n",
              "      <td>0.0</td>\n",
              "    </tr>\n",
              "    <tr>\n",
              "      <th>4</th>\n",
              "      <td>AFG</td>\n",
              "      <td>1976</td>\n",
              "      <td>0.0</td>\n",
              "      <td>12840299</td>\n",
              "      <td>Afghanistan</td>\n",
              "      <td>0.0</td>\n",
              "    </tr>\n",
              "  </tbody>\n",
              "</table>\n",
              "</div>"
            ],
            "text/plain": [
              "   geo  time  ...      country  cphones_per_person\n",
              "0  AFG  1960  ...  Afghanistan                 0.0\n",
              "1  AFG  1965  ...  Afghanistan                 0.0\n",
              "2  AFG  1970  ...  Afghanistan                 0.0\n",
              "3  AFG  1975  ...  Afghanistan                 0.0\n",
              "4  AFG  1976  ...  Afghanistan                 0.0\n",
              "\n",
              "[5 rows x 6 columns]"
            ]
          },
          "metadata": {
            "tags": []
          },
          "execution_count": 11
        }
      ]
    },
    {
      "cell_type": "markdown",
      "metadata": {
        "colab_type": "text",
        "id": "hlPDAFCfaF6C"
      },
      "source": [
        "### Part 3. Process data"
      ]
    },
    {
      "cell_type": "markdown",
      "metadata": {
        "colab_type": "text",
        "id": "k-pudNWve2SQ"
      },
      "source": [
        "Use the describe function, to describe your dataframe's numeric columns, and then its non-numeric columns.\n",
        "\n",
        "(You'll see the time period ranges from 1960 to 2017, and there are 195 unique countries represented.)"
      ]
    },
    {
      "cell_type": "code",
      "metadata": {
        "colab_type": "code",
        "id": "g26yemKre2Cu",
        "colab": {
          "base_uri": "https://localhost:8080/",
          "height": 297
        },
        "outputId": "67fb05e8-9b03-4726-b13a-dec8561f3492"
      },
      "source": [
        "df.describe()"
      ],
      "execution_count": 12,
      "outputs": [
        {
          "output_type": "execute_result",
          "data": {
            "text/html": [
              "<div>\n",
              "<style scoped>\n",
              "    .dataframe tbody tr th:only-of-type {\n",
              "        vertical-align: middle;\n",
              "    }\n",
              "\n",
              "    .dataframe tbody tr th {\n",
              "        vertical-align: top;\n",
              "    }\n",
              "\n",
              "    .dataframe thead th {\n",
              "        text-align: right;\n",
              "    }\n",
              "</style>\n",
              "<table border=\"1\" class=\"dataframe\">\n",
              "  <thead>\n",
              "    <tr style=\"text-align: right;\">\n",
              "      <th></th>\n",
              "      <th>time</th>\n",
              "      <th>cell_phones_total</th>\n",
              "      <th>population_total</th>\n",
              "      <th>cphones_per_person</th>\n",
              "    </tr>\n",
              "  </thead>\n",
              "  <tbody>\n",
              "    <tr>\n",
              "      <th>count</th>\n",
              "      <td>8590.000000</td>\n",
              "      <td>8.590000e+03</td>\n",
              "      <td>8.590000e+03</td>\n",
              "      <td>8590.000000</td>\n",
              "    </tr>\n",
              "    <tr>\n",
              "      <th>mean</th>\n",
              "      <td>1994.193481</td>\n",
              "      <td>9.004950e+06</td>\n",
              "      <td>2.983823e+07</td>\n",
              "      <td>0.279639</td>\n",
              "    </tr>\n",
              "    <tr>\n",
              "      <th>std</th>\n",
              "      <td>14.257975</td>\n",
              "      <td>5.573408e+07</td>\n",
              "      <td>1.161284e+08</td>\n",
              "      <td>0.454247</td>\n",
              "    </tr>\n",
              "    <tr>\n",
              "      <th>min</th>\n",
              "      <td>1960.000000</td>\n",
              "      <td>0.000000e+00</td>\n",
              "      <td>4.433000e+03</td>\n",
              "      <td>0.000000</td>\n",
              "    </tr>\n",
              "    <tr>\n",
              "      <th>25%</th>\n",
              "      <td>1983.000000</td>\n",
              "      <td>0.000000e+00</td>\n",
              "      <td>1.456148e+06</td>\n",
              "      <td>0.000000</td>\n",
              "    </tr>\n",
              "    <tr>\n",
              "      <th>50%</th>\n",
              "      <td>1995.000000</td>\n",
              "      <td>6.200000e+03</td>\n",
              "      <td>5.725062e+06</td>\n",
              "      <td>0.001564</td>\n",
              "    </tr>\n",
              "    <tr>\n",
              "      <th>75%</th>\n",
              "      <td>2006.000000</td>\n",
              "      <td>1.697652e+06</td>\n",
              "      <td>1.810581e+07</td>\n",
              "      <td>0.461149</td>\n",
              "    </tr>\n",
              "    <tr>\n",
              "      <th>max</th>\n",
              "      <td>2017.000000</td>\n",
              "      <td>1.474097e+09</td>\n",
              "      <td>1.409517e+09</td>\n",
              "      <td>2.490243</td>\n",
              "    </tr>\n",
              "  </tbody>\n",
              "</table>\n",
              "</div>"
            ],
            "text/plain": [
              "              time  cell_phones_total  population_total  cphones_per_person\n",
              "count  8590.000000       8.590000e+03      8.590000e+03         8590.000000\n",
              "mean   1994.193481       9.004950e+06      2.983823e+07            0.279639\n",
              "std      14.257975       5.573408e+07      1.161284e+08            0.454247\n",
              "min    1960.000000       0.000000e+00      4.433000e+03            0.000000\n",
              "25%    1983.000000       0.000000e+00      1.456148e+06            0.000000\n",
              "50%    1995.000000       6.200000e+03      5.725062e+06            0.001564\n",
              "75%    2006.000000       1.697652e+06      1.810581e+07            0.461149\n",
              "max    2017.000000       1.474097e+09      1.409517e+09            2.490243"
            ]
          },
          "metadata": {
            "tags": []
          },
          "execution_count": 12
        }
      ]
    },
    {
      "cell_type": "code",
      "metadata": {
        "id": "DcFAUY1qhEc3",
        "colab_type": "code",
        "colab": {
          "base_uri": "https://localhost:8080/",
          "height": 173
        },
        "outputId": "cab566da-5aa8-4c2b-ab56-78e08aa15bf5"
      },
      "source": [
        "df.describe(exclude='number')"
      ],
      "execution_count": 13,
      "outputs": [
        {
          "output_type": "execute_result",
          "data": {
            "text/html": [
              "<div>\n",
              "<style scoped>\n",
              "    .dataframe tbody tr th:only-of-type {\n",
              "        vertical-align: middle;\n",
              "    }\n",
              "\n",
              "    .dataframe tbody tr th {\n",
              "        vertical-align: top;\n",
              "    }\n",
              "\n",
              "    .dataframe thead th {\n",
              "        text-align: right;\n",
              "    }\n",
              "</style>\n",
              "<table border=\"1\" class=\"dataframe\">\n",
              "  <thead>\n",
              "    <tr style=\"text-align: right;\">\n",
              "      <th></th>\n",
              "      <th>geo</th>\n",
              "      <th>country</th>\n",
              "    </tr>\n",
              "  </thead>\n",
              "  <tbody>\n",
              "    <tr>\n",
              "      <th>count</th>\n",
              "      <td>8590</td>\n",
              "      <td>8590</td>\n",
              "    </tr>\n",
              "    <tr>\n",
              "      <th>unique</th>\n",
              "      <td>195</td>\n",
              "      <td>195</td>\n",
              "    </tr>\n",
              "    <tr>\n",
              "      <th>top</th>\n",
              "      <td>SDN</td>\n",
              "      <td>Nigeria</td>\n",
              "    </tr>\n",
              "    <tr>\n",
              "      <th>freq</th>\n",
              "      <td>46</td>\n",
              "      <td>46</td>\n",
              "    </tr>\n",
              "  </tbody>\n",
              "</table>\n",
              "</div>"
            ],
            "text/plain": [
              "         geo  country\n",
              "count   8590     8590\n",
              "unique   195      195\n",
              "top      SDN  Nigeria\n",
              "freq      46       46"
            ]
          },
          "metadata": {
            "tags": []
          },
          "execution_count": 13
        }
      ]
    },
    {
      "cell_type": "markdown",
      "metadata": {
        "colab_type": "text",
        "id": "zALg-RrYaLcI"
      },
      "source": [
        "In 2017, what were the top 5 countries with the most cell phones total?\n",
        "\n",
        "Your list of countries should have these totals:\n",
        "\n",
        "| country | cell phones total |\n",
        "|:-------:|:-----------------:|\n",
        "|    ?    |     1,474,097,000 |\n",
        "|    ?    |     1,168,902,277 |\n",
        "|    ?    |       458,923,202 |\n",
        "|    ?    |       395,881,000 |\n",
        "|    ?    |       236,488,548 |\n",
        "\n"
      ]
    },
    {
      "cell_type": "code",
      "metadata": {
        "colab_type": "code",
        "id": "JdlWvezHaZxD",
        "colab": {}
      },
      "source": [
        "# This optional code formats float numbers with comma separators\n",
        "pd.options.display.float_format = '{:,}'.format"
      ],
      "execution_count": 0,
      "outputs": []
    },
    {
      "cell_type": "code",
      "metadata": {
        "id": "CzqkL7zZlMzg",
        "colab_type": "code",
        "colab": {}
      },
      "source": [
        "def highest_phone_count(country):\n",
        "  for country in df['country']:\n",
        "    return df.loc['cell_phones_total']"
      ],
      "execution_count": 0,
      "outputs": []
    },
    {
      "cell_type": "code",
      "metadata": {
        "colab_type": "code",
        "id": "smX8vzu4cyju",
        "colab": {
          "base_uri": "https://localhost:8080/",
          "height": 855
        },
        "outputId": "cb1d7bcb-714c-4e45-c8ec-4fbdee83b835"
      },
      "source": [
        "largest_cell_total = df[df['cell_phones_total'] >= 236488548]\n",
        "largest_cell_total.groupby(df['country']).head()"
      ],
      "execution_count": 16,
      "outputs": [
        {
          "output_type": "execute_result",
          "data": {
            "text/html": [
              "<div>\n",
              "<style scoped>\n",
              "    .dataframe tbody tr th:only-of-type {\n",
              "        vertical-align: middle;\n",
              "    }\n",
              "\n",
              "    .dataframe tbody tr th {\n",
              "        vertical-align: top;\n",
              "    }\n",
              "\n",
              "    .dataframe thead th {\n",
              "        text-align: right;\n",
              "    }\n",
              "</style>\n",
              "<table border=\"1\" class=\"dataframe\">\n",
              "  <thead>\n",
              "    <tr style=\"text-align: right;\">\n",
              "      <th></th>\n",
              "      <th>geo</th>\n",
              "      <th>time</th>\n",
              "      <th>cell_phones_total</th>\n",
              "      <th>population_total</th>\n",
              "      <th>country</th>\n",
              "      <th>cphones_per_person</th>\n",
              "    </tr>\n",
              "  </thead>\n",
              "  <tbody>\n",
              "    <tr>\n",
              "      <th>1079</th>\n",
              "      <td>BRA</td>\n",
              "      <td>2012</td>\n",
              "      <td>248,323,703.0</td>\n",
              "      <td>200560983</td>\n",
              "      <td>Brazil</td>\n",
              "      <td>1.2381456217733038</td>\n",
              "    </tr>\n",
              "    <tr>\n",
              "      <th>1080</th>\n",
              "      <td>BRA</td>\n",
              "      <td>2013</td>\n",
              "      <td>271,099,799.0</td>\n",
              "      <td>202408632</td>\n",
              "      <td>Brazil</td>\n",
              "      <td>1.3393687626918995</td>\n",
              "    </tr>\n",
              "    <tr>\n",
              "      <th>1081</th>\n",
              "      <td>BRA</td>\n",
              "      <td>2014</td>\n",
              "      <td>280,728,796.0</td>\n",
              "      <td>204213133</td>\n",
              "      <td>Brazil</td>\n",
              "      <td>1.3746853195773652</td>\n",
              "    </tr>\n",
              "    <tr>\n",
              "      <th>1082</th>\n",
              "      <td>BRA</td>\n",
              "      <td>2015</td>\n",
              "      <td>257,814,274.0</td>\n",
              "      <td>205962108</td>\n",
              "      <td>Brazil</td>\n",
              "      <td>1.2517558521007175</td>\n",
              "    </tr>\n",
              "    <tr>\n",
              "      <th>1083</th>\n",
              "      <td>BRA</td>\n",
              "      <td>2016</td>\n",
              "      <td>244,067,356.0</td>\n",
              "      <td>207652865</td>\n",
              "      <td>Brazil</td>\n",
              "      <td>1.1753623336716303</td>\n",
              "    </tr>\n",
              "    <tr>\n",
              "      <th>1482</th>\n",
              "      <td>CHN</td>\n",
              "      <td>2003</td>\n",
              "      <td>269,953,000.0</td>\n",
              "      <td>1306343911</td>\n",
              "      <td>China</td>\n",
              "      <td>0.2066477270853984</td>\n",
              "    </tr>\n",
              "    <tr>\n",
              "      <th>1483</th>\n",
              "      <td>CHN</td>\n",
              "      <td>2004</td>\n",
              "      <td>334,824,000.0</td>\n",
              "      <td>1314007478</td>\n",
              "      <td>China</td>\n",
              "      <td>0.254811335251777</td>\n",
              "    </tr>\n",
              "    <tr>\n",
              "      <th>1484</th>\n",
              "      <td>CHN</td>\n",
              "      <td>2005</td>\n",
              "      <td>393,406,000.0</td>\n",
              "      <td>1321623490</td>\n",
              "      <td>China</td>\n",
              "      <td>0.2976687407394673</td>\n",
              "    </tr>\n",
              "    <tr>\n",
              "      <th>1485</th>\n",
              "      <td>CHN</td>\n",
              "      <td>2006</td>\n",
              "      <td>461,058,000.0</td>\n",
              "      <td>1329209094</td>\n",
              "      <td>China</td>\n",
              "      <td>0.3468664200998914</td>\n",
              "    </tr>\n",
              "    <tr>\n",
              "      <th>1486</th>\n",
              "      <td>CHN</td>\n",
              "      <td>2007</td>\n",
              "      <td>547,306,000.0</td>\n",
              "      <td>1336800506</td>\n",
              "      <td>China</td>\n",
              "      <td>0.409414865975522</td>\n",
              "    </tr>\n",
              "    <tr>\n",
              "      <th>3543</th>\n",
              "      <td>IDN</td>\n",
              "      <td>2011</td>\n",
              "      <td>249,805,619.0</td>\n",
              "      <td>245707511</td>\n",
              "      <td>Indonesia</td>\n",
              "      <td>1.0166788063715317</td>\n",
              "    </tr>\n",
              "    <tr>\n",
              "      <th>3544</th>\n",
              "      <td>IDN</td>\n",
              "      <td>2012</td>\n",
              "      <td>281,963,665.0</td>\n",
              "      <td>248883232</td>\n",
              "      <td>Indonesia</td>\n",
              "      <td>1.1329154749967245</td>\n",
              "    </tr>\n",
              "    <tr>\n",
              "      <th>3545</th>\n",
              "      <td>IDN</td>\n",
              "      <td>2013</td>\n",
              "      <td>313,226,914.0</td>\n",
              "      <td>252032263</td>\n",
              "      <td>Indonesia</td>\n",
              "      <td>1.2428048309037323</td>\n",
              "    </tr>\n",
              "    <tr>\n",
              "      <th>3546</th>\n",
              "      <td>IDN</td>\n",
              "      <td>2014</td>\n",
              "      <td>325,582,819.0</td>\n",
              "      <td>255131116</td>\n",
              "      <td>Indonesia</td>\n",
              "      <td>1.2761392028716716</td>\n",
              "    </tr>\n",
              "    <tr>\n",
              "      <th>3547</th>\n",
              "      <td>IDN</td>\n",
              "      <td>2015</td>\n",
              "      <td>338,948,340.0</td>\n",
              "      <td>258162113</td>\n",
              "      <td>Indonesia</td>\n",
              "      <td>1.3129282839422685</td>\n",
              "    </tr>\n",
              "    <tr>\n",
              "      <th>3586</th>\n",
              "      <td>IND</td>\n",
              "      <td>2008</td>\n",
              "      <td>346,890,000.0</td>\n",
              "      <td>1197146906</td>\n",
              "      <td>India</td>\n",
              "      <td>0.2897639364571018</td>\n",
              "    </tr>\n",
              "    <tr>\n",
              "      <th>3587</th>\n",
              "      <td>IND</td>\n",
              "      <td>2009</td>\n",
              "      <td>525,090,000.0</td>\n",
              "      <td>1214270132</td>\n",
              "      <td>India</td>\n",
              "      <td>0.43243260800225297</td>\n",
              "    </tr>\n",
              "    <tr>\n",
              "      <th>3588</th>\n",
              "      <td>IND</td>\n",
              "      <td>2010</td>\n",
              "      <td>752,190,000.0</td>\n",
              "      <td>1230980691</td>\n",
              "      <td>India</td>\n",
              "      <td>0.6110493897259677</td>\n",
              "    </tr>\n",
              "    <tr>\n",
              "      <th>3589</th>\n",
              "      <td>IND</td>\n",
              "      <td>2011</td>\n",
              "      <td>893,862,478.0</td>\n",
              "      <td>1247236029</td>\n",
              "      <td>India</td>\n",
              "      <td>0.7166746768185286</td>\n",
              "    </tr>\n",
              "    <tr>\n",
              "      <th>3590</th>\n",
              "      <td>IND</td>\n",
              "      <td>2012</td>\n",
              "      <td>864,720,917.0</td>\n",
              "      <td>1263065852</td>\n",
              "      <td>India</td>\n",
              "      <td>0.6846206123225949</td>\n",
              "    </tr>\n",
              "    <tr>\n",
              "      <th>6629</th>\n",
              "      <td>RUS</td>\n",
              "      <td>2010</td>\n",
              "      <td>237,689,224.0</td>\n",
              "      <td>143153869</td>\n",
              "      <td>Russia</td>\n",
              "      <td>1.6603758295907463</td>\n",
              "    </tr>\n",
              "    <tr>\n",
              "      <th>8124</th>\n",
              "      <td>USA</td>\n",
              "      <td>2007</td>\n",
              "      <td>249,300,000.0</td>\n",
              "      <td>300595175</td>\n",
              "      <td>United States</td>\n",
              "      <td>0.8293546295279024</td>\n",
              "    </tr>\n",
              "    <tr>\n",
              "      <th>8125</th>\n",
              "      <td>USA</td>\n",
              "      <td>2008</td>\n",
              "      <td>261,300,000.0</td>\n",
              "      <td>303374067</td>\n",
              "      <td>United States</td>\n",
              "      <td>0.8613129084629373</td>\n",
              "    </tr>\n",
              "    <tr>\n",
              "      <th>8126</th>\n",
              "      <td>USA</td>\n",
              "      <td>2009</td>\n",
              "      <td>274,283,000.0</td>\n",
              "      <td>306076362</td>\n",
              "      <td>United States</td>\n",
              "      <td>0.8961260458264333</td>\n",
              "    </tr>\n",
              "    <tr>\n",
              "      <th>8127</th>\n",
              "      <td>USA</td>\n",
              "      <td>2010</td>\n",
              "      <td>285,118,000.0</td>\n",
              "      <td>308641391</td>\n",
              "      <td>United States</td>\n",
              "      <td>0.9237840688710478</td>\n",
              "    </tr>\n",
              "    <tr>\n",
              "      <th>8128</th>\n",
              "      <td>USA</td>\n",
              "      <td>2011</td>\n",
              "      <td>297,404,000.0</td>\n",
              "      <td>311051373</td>\n",
              "      <td>United States</td>\n",
              "      <td>0.9561250192584747</td>\n",
              "    </tr>\n",
              "  </tbody>\n",
              "</table>\n",
              "</div>"
            ],
            "text/plain": [
              "      geo  time  ...        country  cphones_per_person\n",
              "1079  BRA  2012  ...         Brazil  1.2381456217733038\n",
              "1080  BRA  2013  ...         Brazil  1.3393687626918995\n",
              "1081  BRA  2014  ...         Brazil  1.3746853195773652\n",
              "1082  BRA  2015  ...         Brazil  1.2517558521007175\n",
              "1083  BRA  2016  ...         Brazil  1.1753623336716303\n",
              "1482  CHN  2003  ...          China  0.2066477270853984\n",
              "1483  CHN  2004  ...          China   0.254811335251777\n",
              "1484  CHN  2005  ...          China  0.2976687407394673\n",
              "1485  CHN  2006  ...          China  0.3468664200998914\n",
              "1486  CHN  2007  ...          China   0.409414865975522\n",
              "3543  IDN  2011  ...      Indonesia  1.0166788063715317\n",
              "3544  IDN  2012  ...      Indonesia  1.1329154749967245\n",
              "3545  IDN  2013  ...      Indonesia  1.2428048309037323\n",
              "3546  IDN  2014  ...      Indonesia  1.2761392028716716\n",
              "3547  IDN  2015  ...      Indonesia  1.3129282839422685\n",
              "3586  IND  2008  ...          India  0.2897639364571018\n",
              "3587  IND  2009  ...          India 0.43243260800225297\n",
              "3588  IND  2010  ...          India  0.6110493897259677\n",
              "3589  IND  2011  ...          India  0.7166746768185286\n",
              "3590  IND  2012  ...          India  0.6846206123225949\n",
              "6629  RUS  2010  ...         Russia  1.6603758295907463\n",
              "8124  USA  2007  ...  United States  0.8293546295279024\n",
              "8125  USA  2008  ...  United States  0.8613129084629373\n",
              "8126  USA  2009  ...  United States  0.8961260458264333\n",
              "8127  USA  2010  ...  United States  0.9237840688710478\n",
              "8128  USA  2011  ...  United States  0.9561250192584747\n",
              "\n",
              "[26 rows x 6 columns]"
            ]
          },
          "metadata": {
            "tags": []
          },
          "execution_count": 16
        }
      ]
    },
    {
      "cell_type": "markdown",
      "metadata": {
        "colab_type": "text",
        "id": "03V3Wln_h0dj"
      },
      "source": [
        "2017 was the first year that China had more cell phones than people.\n",
        "\n",
        "What was the first year that the USA had more cell phones than people?"
      ]
    },
    {
      "cell_type": "code",
      "metadata": {
        "colab_type": "code",
        "id": "KONQkQZ3haNC",
        "colab": {
          "base_uri": "https://localhost:8080/",
          "height": 130
        },
        "outputId": "ce891b78-f221-43b0-fb95-2262152e0a84"
      },
      "source": [
        "def people_v_phones():  # Function to return years that USA had more phones than people\n",
        "  if [df.loc['country'] == 'United States'] and [df.loc['cell_phones_total'] > df.loc['population_total']:\n",
        "     return df.loc['time']\n",
        "      \n",
        "usa_phones = df['country'].apply(people_v_phones())\n",
        "usa_phones"
      ],
      "execution_count": 17,
      "outputs": [
        {
          "output_type": "error",
          "ename": "SyntaxError",
          "evalue": "ignored",
          "traceback": [
            "\u001b[0;36m  File \u001b[0;32m\"<ipython-input-17-a9e877f4901d>\"\u001b[0;36m, line \u001b[0;32m2\u001b[0m\n\u001b[0;31m    if [df.loc['country'] == 'United States'] and [df.loc['cell_phones_total'] > df.loc['population_total']:\u001b[0m\n\u001b[0m                                                                                                           ^\u001b[0m\n\u001b[0;31mSyntaxError\u001b[0m\u001b[0;31m:\u001b[0m invalid syntax\n"
          ]
        }
      ]
    },
    {
      "cell_type": "markdown",
      "metadata": {
        "colab_type": "text",
        "id": "6J7iwMnTg8KZ"
      },
      "source": [
        "### Part 4. Reshape data"
      ]
    },
    {
      "cell_type": "markdown",
      "metadata": {
        "colab_type": "text",
        "id": "LP9InazRkUxG"
      },
      "source": [
        "*This part is not needed to pass the sprint challenge, only to get a 3! Only work on this after completing the other sections.*\n",
        "\n",
        "Create a pivot table:\n",
        "- Columns: Years 2007—2017\n",
        "- Rows: China, India, United States, Indonesia, Brazil (order doesn't matter)\n",
        "- Values: Cell Phones Total\n",
        "\n",
        "The table's shape should be: (5, 11)"
      ]
    },
    {
      "cell_type": "code",
      "metadata": {
        "colab_type": "code",
        "id": "JD7mXXjLj4Ue",
        "colab": {}
      },
      "source": [
        ""
      ],
      "execution_count": 0,
      "outputs": []
    },
    {
      "cell_type": "markdown",
      "metadata": {
        "colab_type": "text",
        "id": "CNKTu2DCnAo6"
      },
      "source": [
        "Sort these 5 countries, by biggest increase in cell phones from 2007 to 2017.\n",
        "\n",
        "Which country had 935,282,277 more cell phones in 2017 versus 2007?"
      ]
    },
    {
      "cell_type": "code",
      "metadata": {
        "colab_type": "code",
        "id": "O4Aecv1fmQlj",
        "colab": {}
      },
      "source": [
        ""
      ],
      "execution_count": 0,
      "outputs": []
    },
    {
      "cell_type": "markdown",
      "metadata": {
        "colab_type": "text",
        "id": "7iHkMsa3Rorh"
      },
      "source": [
        "If you have the time and curiosity, what other questions can you ask and answer with this data?"
      ]
    },
    {
      "cell_type": "markdown",
      "metadata": {
        "id": "vtcAJOAV9k3X",
        "colab_type": "text"
      },
      "source": [
        "## Data Storytelling\n",
        "\n",
        "In this part of the sprint challenge you'll work with a dataset from **FiveThirtyEight's article, [Every Guest Jon Stewart Ever Had On ‘The Daily Show’](https://fivethirtyeight.com/features/every-guest-jon-stewart-ever-had-on-the-daily-show/)**!"
      ]
    },
    {
      "cell_type": "markdown",
      "metadata": {
        "id": "UtjoIqvm9yFg",
        "colab_type": "text"
      },
      "source": [
        "### Part 0 — Run this starter code\n",
        "\n",
        "You don't need to add or change anything here. Just run this cell and it loads the data for you, into a dataframe named `df`.\n",
        "\n",
        "(You can explore the data if you want, but it's not required to pass the Sprint Challenge.)"
      ]
    },
    {
      "cell_type": "code",
      "metadata": {
        "id": "tYujbhIz9zKU",
        "colab_type": "code",
        "colab": {}
      },
      "source": [
        "%matplotlib inline\n",
        "import matplotlib.pyplot as plt\n",
        "import numpy as np\n",
        "import pandas as pd\n",
        "\n",
        "url = 'https://raw.githubusercontent.com/fivethirtyeight/data/master/daily-show-guests/daily_show_guests.csv'\n",
        "df2 = pd.read_csv(url).rename(columns={'YEAR': 'Year', 'Raw_Guest_List': 'Guest'})\n",
        "\n",
        "def get_occupation(group):\n",
        "    if group in ['Acting', 'Comedy', 'Musician']:\n",
        "        return 'Acting, Comedy & Music'\n",
        "    elif group in ['Media', 'media']:\n",
        "        return 'Media'\n",
        "    elif group in ['Government', 'Politician', 'Political Aide']:\n",
        "        return 'Government and Politics'\n",
        "    else:\n",
        "        return 'Other'\n",
        "      \n",
        "df2['Occupation'] = df2['Group'].apply(get_occupation)"
      ],
      "execution_count": 0,
      "outputs": []
    },
    {
      "cell_type": "markdown",
      "metadata": {
        "id": "5hjnMK3j90Rp",
        "colab_type": "text"
      },
      "source": [
        "### Part 1 — What's the breakdown of guests’ occupations per year?\n",
        "\n",
        "For example, in 1999, what percentage of guests were actors, comedians, or musicians? What percentage were in the media? What percentage were in politics? What percentage were from another occupation?\n",
        "\n",
        "Then, what about in 2000? In 2001? And so on, up through 2015.\n",
        "\n",
        "So, **for each year of _The Daily Show_, calculate the percentage of guests from each occupation:**\n",
        "- Acting, Comedy & Music\n",
        "- Government and Politics\n",
        "- Media\n",
        "- Other\n",
        "\n",
        "#### Hints:\n",
        "You can make a crosstab. (See pandas documentation for examples, explanation, and parameters.)\n",
        "\n",
        "You'll know you've calculated correctly when the percentage of \"Acting, Comedy & Music\" guests is 90.36% in 1999, and 45% in 2015."
      ]
    },
    {
      "cell_type": "code",
      "metadata": {
        "id": "0sm735OKpoNv",
        "colab_type": "code",
        "colab": {
          "base_uri": "https://localhost:8080/",
          "height": 359
        },
        "outputId": "4b421573-1afd-442a-8040-00cdb90294dc"
      },
      "source": [
        "df2.head(10)"
      ],
      "execution_count": 19,
      "outputs": [
        {
          "output_type": "execute_result",
          "data": {
            "text/html": [
              "<div>\n",
              "<style scoped>\n",
              "    .dataframe tbody tr th:only-of-type {\n",
              "        vertical-align: middle;\n",
              "    }\n",
              "\n",
              "    .dataframe tbody tr th {\n",
              "        vertical-align: top;\n",
              "    }\n",
              "\n",
              "    .dataframe thead th {\n",
              "        text-align: right;\n",
              "    }\n",
              "</style>\n",
              "<table border=\"1\" class=\"dataframe\">\n",
              "  <thead>\n",
              "    <tr style=\"text-align: right;\">\n",
              "      <th></th>\n",
              "      <th>Year</th>\n",
              "      <th>GoogleKnowlege_Occupation</th>\n",
              "      <th>Show</th>\n",
              "      <th>Group</th>\n",
              "      <th>Guest</th>\n",
              "      <th>Occupation</th>\n",
              "    </tr>\n",
              "  </thead>\n",
              "  <tbody>\n",
              "    <tr>\n",
              "      <th>0</th>\n",
              "      <td>1999</td>\n",
              "      <td>actor</td>\n",
              "      <td>1/11/99</td>\n",
              "      <td>Acting</td>\n",
              "      <td>Michael J. Fox</td>\n",
              "      <td>Acting, Comedy &amp; Music</td>\n",
              "    </tr>\n",
              "    <tr>\n",
              "      <th>1</th>\n",
              "      <td>1999</td>\n",
              "      <td>Comedian</td>\n",
              "      <td>1/12/99</td>\n",
              "      <td>Comedy</td>\n",
              "      <td>Sandra Bernhard</td>\n",
              "      <td>Acting, Comedy &amp; Music</td>\n",
              "    </tr>\n",
              "    <tr>\n",
              "      <th>2</th>\n",
              "      <td>1999</td>\n",
              "      <td>television actress</td>\n",
              "      <td>1/13/99</td>\n",
              "      <td>Acting</td>\n",
              "      <td>Tracey Ullman</td>\n",
              "      <td>Acting, Comedy &amp; Music</td>\n",
              "    </tr>\n",
              "    <tr>\n",
              "      <th>3</th>\n",
              "      <td>1999</td>\n",
              "      <td>film actress</td>\n",
              "      <td>1/14/99</td>\n",
              "      <td>Acting</td>\n",
              "      <td>Gillian Anderson</td>\n",
              "      <td>Acting, Comedy &amp; Music</td>\n",
              "    </tr>\n",
              "    <tr>\n",
              "      <th>4</th>\n",
              "      <td>1999</td>\n",
              "      <td>actor</td>\n",
              "      <td>1/18/99</td>\n",
              "      <td>Acting</td>\n",
              "      <td>David Alan Grier</td>\n",
              "      <td>Acting, Comedy &amp; Music</td>\n",
              "    </tr>\n",
              "    <tr>\n",
              "      <th>5</th>\n",
              "      <td>1999</td>\n",
              "      <td>actor</td>\n",
              "      <td>1/19/99</td>\n",
              "      <td>Acting</td>\n",
              "      <td>William Baldwin</td>\n",
              "      <td>Acting, Comedy &amp; Music</td>\n",
              "    </tr>\n",
              "    <tr>\n",
              "      <th>6</th>\n",
              "      <td>1999</td>\n",
              "      <td>Singer-lyricist</td>\n",
              "      <td>1/20/99</td>\n",
              "      <td>Musician</td>\n",
              "      <td>Michael Stipe</td>\n",
              "      <td>Acting, Comedy &amp; Music</td>\n",
              "    </tr>\n",
              "    <tr>\n",
              "      <th>7</th>\n",
              "      <td>1999</td>\n",
              "      <td>model</td>\n",
              "      <td>1/21/99</td>\n",
              "      <td>Media</td>\n",
              "      <td>Carmen Electra</td>\n",
              "      <td>Media</td>\n",
              "    </tr>\n",
              "    <tr>\n",
              "      <th>8</th>\n",
              "      <td>1999</td>\n",
              "      <td>actor</td>\n",
              "      <td>1/25/99</td>\n",
              "      <td>Acting</td>\n",
              "      <td>Matthew Lillard</td>\n",
              "      <td>Acting, Comedy &amp; Music</td>\n",
              "    </tr>\n",
              "    <tr>\n",
              "      <th>9</th>\n",
              "      <td>1999</td>\n",
              "      <td>stand-up comedian</td>\n",
              "      <td>1/26/99</td>\n",
              "      <td>Comedy</td>\n",
              "      <td>David Cross</td>\n",
              "      <td>Acting, Comedy &amp; Music</td>\n",
              "    </tr>\n",
              "  </tbody>\n",
              "</table>\n",
              "</div>"
            ],
            "text/plain": [
              "   Year GoogleKnowlege_Occupation  ...             Guest              Occupation\n",
              "0  1999                     actor  ...    Michael J. Fox  Acting, Comedy & Music\n",
              "1  1999                  Comedian  ...   Sandra Bernhard  Acting, Comedy & Music\n",
              "2  1999        television actress  ...     Tracey Ullman  Acting, Comedy & Music\n",
              "3  1999              film actress  ...  Gillian Anderson  Acting, Comedy & Music\n",
              "4  1999                     actor  ...  David Alan Grier  Acting, Comedy & Music\n",
              "5  1999                     actor  ...   William Baldwin  Acting, Comedy & Music\n",
              "6  1999           Singer-lyricist  ...     Michael Stipe  Acting, Comedy & Music\n",
              "7  1999                     model  ...    Carmen Electra                   Media\n",
              "8  1999                     actor  ...   Matthew Lillard  Acting, Comedy & Music\n",
              "9  1999         stand-up comedian  ...       David Cross  Acting, Comedy & Music\n",
              "\n",
              "[10 rows x 6 columns]"
            ]
          },
          "metadata": {
            "tags": []
          },
          "execution_count": 19
        }
      ]
    },
    {
      "cell_type": "code",
      "metadata": {
        "id": "Wx7ekytu6QBS",
        "colab_type": "code",
        "colab": {
          "base_uri": "https://localhost:8080/",
          "height": 204
        },
        "outputId": "3ba8d563-a91e-441d-baee-81f4f88a74f1"
      },
      "source": [
        "pd.crosstab(df2['Occupation'], df2['Year'])"
      ],
      "execution_count": 91,
      "outputs": [
        {
          "output_type": "execute_result",
          "data": {
            "text/html": [
              "<div>\n",
              "<style scoped>\n",
              "    .dataframe tbody tr th:only-of-type {\n",
              "        vertical-align: middle;\n",
              "    }\n",
              "\n",
              "    .dataframe tbody tr th {\n",
              "        vertical-align: top;\n",
              "    }\n",
              "\n",
              "    .dataframe thead th {\n",
              "        text-align: right;\n",
              "    }\n",
              "</style>\n",
              "<table border=\"1\" class=\"dataframe\">\n",
              "  <thead>\n",
              "    <tr style=\"text-align: right;\">\n",
              "      <th>Year</th>\n",
              "      <th>1999</th>\n",
              "      <th>2000</th>\n",
              "      <th>2001</th>\n",
              "      <th>2002</th>\n",
              "      <th>2003</th>\n",
              "      <th>2004</th>\n",
              "      <th>2005</th>\n",
              "      <th>2006</th>\n",
              "      <th>2007</th>\n",
              "      <th>2008</th>\n",
              "      <th>2009</th>\n",
              "      <th>2010</th>\n",
              "      <th>2011</th>\n",
              "      <th>2012</th>\n",
              "      <th>2013</th>\n",
              "      <th>2014</th>\n",
              "      <th>2015</th>\n",
              "    </tr>\n",
              "    <tr>\n",
              "      <th>Occupation</th>\n",
              "      <th></th>\n",
              "      <th></th>\n",
              "      <th></th>\n",
              "      <th></th>\n",
              "      <th></th>\n",
              "      <th></th>\n",
              "      <th></th>\n",
              "      <th></th>\n",
              "      <th></th>\n",
              "      <th></th>\n",
              "      <th></th>\n",
              "      <th></th>\n",
              "      <th></th>\n",
              "      <th></th>\n",
              "      <th></th>\n",
              "      <th></th>\n",
              "      <th></th>\n",
              "    </tr>\n",
              "  </thead>\n",
              "  <tbody>\n",
              "    <tr>\n",
              "      <th>Acting, Comedy &amp; Music</th>\n",
              "      <td>150</td>\n",
              "      <td>125</td>\n",
              "      <td>114</td>\n",
              "      <td>99</td>\n",
              "      <td>93</td>\n",
              "      <td>63</td>\n",
              "      <td>60</td>\n",
              "      <td>58</td>\n",
              "      <td>36</td>\n",
              "      <td>34</td>\n",
              "      <td>34</td>\n",
              "      <td>58</td>\n",
              "      <td>55</td>\n",
              "      <td>44</td>\n",
              "      <td>71</td>\n",
              "      <td>64</td>\n",
              "      <td>45</td>\n",
              "    </tr>\n",
              "    <tr>\n",
              "      <th>Government and Politics</th>\n",
              "      <td>2</td>\n",
              "      <td>14</td>\n",
              "      <td>6</td>\n",
              "      <td>11</td>\n",
              "      <td>17</td>\n",
              "      <td>37</td>\n",
              "      <td>26</td>\n",
              "      <td>31</td>\n",
              "      <td>24</td>\n",
              "      <td>33</td>\n",
              "      <td>34</td>\n",
              "      <td>30</td>\n",
              "      <td>27</td>\n",
              "      <td>33</td>\n",
              "      <td>21</td>\n",
              "      <td>21</td>\n",
              "      <td>17</td>\n",
              "    </tr>\n",
              "    <tr>\n",
              "      <th>Media</th>\n",
              "      <td>11</td>\n",
              "      <td>21</td>\n",
              "      <td>31</td>\n",
              "      <td>42</td>\n",
              "      <td>41</td>\n",
              "      <td>45</td>\n",
              "      <td>54</td>\n",
              "      <td>47</td>\n",
              "      <td>47</td>\n",
              "      <td>77</td>\n",
              "      <td>59</td>\n",
              "      <td>50</td>\n",
              "      <td>51</td>\n",
              "      <td>52</td>\n",
              "      <td>51</td>\n",
              "      <td>53</td>\n",
              "      <td>24</td>\n",
              "    </tr>\n",
              "    <tr>\n",
              "      <th>Other</th>\n",
              "      <td>3</td>\n",
              "      <td>9</td>\n",
              "      <td>6</td>\n",
              "      <td>7</td>\n",
              "      <td>15</td>\n",
              "      <td>19</td>\n",
              "      <td>22</td>\n",
              "      <td>25</td>\n",
              "      <td>34</td>\n",
              "      <td>20</td>\n",
              "      <td>36</td>\n",
              "      <td>27</td>\n",
              "      <td>30</td>\n",
              "      <td>35</td>\n",
              "      <td>23</td>\n",
              "      <td>25</td>\n",
              "      <td>14</td>\n",
              "    </tr>\n",
              "  </tbody>\n",
              "</table>\n",
              "</div>"
            ],
            "text/plain": [
              "Year                     1999  2000  2001  2002  ...  2012  2013  2014  2015\n",
              "Occupation                                       ...                        \n",
              "Acting, Comedy & Music    150   125   114    99  ...    44    71    64    45\n",
              "Government and Politics     2    14     6    11  ...    33    21    21    17\n",
              "Media                      11    21    31    42  ...    52    51    53    24\n",
              "Other                       3     9     6     7  ...    35    23    25    14\n",
              "\n",
              "[4 rows x 17 columns]"
            ]
          },
          "metadata": {
            "tags": []
          },
          "execution_count": 91
        }
      ]
    },
    {
      "cell_type": "code",
      "metadata": {
        "id": "TmfPTeVZ3OlJ",
        "colab_type": "code",
        "colab": {
          "base_uri": "https://localhost:8080/",
          "height": 102
        },
        "outputId": "cbb51fd2-2f35-45aa-a064-82fd492aa447"
      },
      "source": [
        "df2['Occupation'].value_counts()"
      ],
      "execution_count": 90,
      "outputs": [
        {
          "output_type": "execute_result",
          "data": {
            "text/plain": [
              "Acting, Comedy & Music     1203\n",
              "Media                       756\n",
              "Government and Politics     384\n",
              "Other                       350\n",
              "Name: Occupation, dtype: int64"
            ]
          },
          "metadata": {
            "tags": []
          },
          "execution_count": 90
        }
      ]
    },
    {
      "cell_type": "code",
      "metadata": {
        "id": "-CmFmV7KqkZu",
        "colab_type": "code",
        "colab": {
          "base_uri": "https://localhost:8080/",
          "height": 324
        },
        "outputId": "5c6dd99d-c6b0-461b-cc1f-91398567e191"
      },
      "source": [
        "df2['Year Totals'] = df2.groupby('Year')['Occupation'].isin(range(1999, 2015))\n",
        "df2['Occupation Percentage'] = (df2['Year Totals'] / df2['Year Totals'].sum())"
      ],
      "execution_count": 88,
      "outputs": [
        {
          "output_type": "error",
          "ename": "AttributeError",
          "evalue": "ignored",
          "traceback": [
            "\u001b[0;31m---------------------------------------------------------------------------\u001b[0m",
            "\u001b[0;31mAttributeError\u001b[0m                            Traceback (most recent call last)",
            "\u001b[0;32m<ipython-input-88-e817f771498e>\u001b[0m in \u001b[0;36m<module>\u001b[0;34m()\u001b[0m\n\u001b[0;32m----> 1\u001b[0;31m \u001b[0mdf2\u001b[0m\u001b[0;34m[\u001b[0m\u001b[0;34m'Year Totals'\u001b[0m\u001b[0;34m]\u001b[0m \u001b[0;34m=\u001b[0m \u001b[0mdf2\u001b[0m\u001b[0;34m.\u001b[0m\u001b[0mgroupby\u001b[0m\u001b[0;34m(\u001b[0m\u001b[0;34m'Year'\u001b[0m\u001b[0;34m)\u001b[0m\u001b[0;34m[\u001b[0m\u001b[0;34m'Occupation'\u001b[0m\u001b[0;34m]\u001b[0m\u001b[0;34m.\u001b[0m\u001b[0misin\u001b[0m\u001b[0;34m(\u001b[0m\u001b[0mrange\u001b[0m\u001b[0;34m(\u001b[0m\u001b[0;36m1999\u001b[0m\u001b[0;34m,\u001b[0m \u001b[0;36m2015\u001b[0m\u001b[0;34m)\u001b[0m\u001b[0;34m)\u001b[0m\u001b[0;34m\u001b[0m\u001b[0;34m\u001b[0m\u001b[0m\n\u001b[0m\u001b[1;32m      2\u001b[0m \u001b[0mdf2\u001b[0m\u001b[0;34m[\u001b[0m\u001b[0;34m'Occupation Percentage'\u001b[0m\u001b[0;34m]\u001b[0m \u001b[0;34m=\u001b[0m \u001b[0;34m(\u001b[0m\u001b[0mdf2\u001b[0m\u001b[0;34m[\u001b[0m\u001b[0;34m'Year Totals'\u001b[0m\u001b[0;34m]\u001b[0m \u001b[0;34m/\u001b[0m \u001b[0mdf2\u001b[0m\u001b[0;34m[\u001b[0m\u001b[0;34m'Year Totals'\u001b[0m\u001b[0;34m]\u001b[0m\u001b[0;34m.\u001b[0m\u001b[0msum\u001b[0m\u001b[0;34m(\u001b[0m\u001b[0;34m)\u001b[0m\u001b[0;34m)\u001b[0m\u001b[0;34m\u001b[0m\u001b[0;34m\u001b[0m\u001b[0m\n",
            "\u001b[0;32m/usr/local/lib/python3.6/dist-packages/pandas/core/groupby/groupby.py\u001b[0m in \u001b[0;36m__getattr__\u001b[0;34m(self, attr)\u001b[0m\n\u001b[1;32m    531\u001b[0m             \u001b[0;32mreturn\u001b[0m \u001b[0mself\u001b[0m\u001b[0;34m[\u001b[0m\u001b[0mattr\u001b[0m\u001b[0;34m]\u001b[0m\u001b[0;34m\u001b[0m\u001b[0;34m\u001b[0m\u001b[0m\n\u001b[1;32m    532\u001b[0m         \u001b[0;32mif\u001b[0m \u001b[0mhasattr\u001b[0m\u001b[0;34m(\u001b[0m\u001b[0mself\u001b[0m\u001b[0;34m.\u001b[0m\u001b[0mobj\u001b[0m\u001b[0;34m,\u001b[0m \u001b[0mattr\u001b[0m\u001b[0;34m)\u001b[0m\u001b[0;34m:\u001b[0m\u001b[0;34m\u001b[0m\u001b[0;34m\u001b[0m\u001b[0m\n\u001b[0;32m--> 533\u001b[0;31m             \u001b[0;32mreturn\u001b[0m \u001b[0mself\u001b[0m\u001b[0;34m.\u001b[0m\u001b[0m_make_wrapper\u001b[0m\u001b[0;34m(\u001b[0m\u001b[0mattr\u001b[0m\u001b[0;34m)\u001b[0m\u001b[0;34m\u001b[0m\u001b[0;34m\u001b[0m\u001b[0m\n\u001b[0m\u001b[1;32m    534\u001b[0m \u001b[0;34m\u001b[0m\u001b[0m\n\u001b[1;32m    535\u001b[0m         raise AttributeError(\"%r object has no attribute %r\" %\n",
            "\u001b[0;32m/usr/local/lib/python3.6/dist-packages/pandas/core/groupby/groupby.py\u001b[0m in \u001b[0;36m_make_wrapper\u001b[0;34m(self, name)\u001b[0m\n\u001b[1;32m    568\u001b[0m                    \"using the 'apply' method\".format(kind, name,\n\u001b[1;32m    569\u001b[0m                                                      type(self).__name__))\n\u001b[0;32m--> 570\u001b[0;31m             \u001b[0;32mraise\u001b[0m \u001b[0mAttributeError\u001b[0m\u001b[0;34m(\u001b[0m\u001b[0mmsg\u001b[0m\u001b[0;34m)\u001b[0m\u001b[0;34m\u001b[0m\u001b[0;34m\u001b[0m\u001b[0m\n\u001b[0m\u001b[1;32m    571\u001b[0m \u001b[0;34m\u001b[0m\u001b[0m\n\u001b[1;32m    572\u001b[0m         \u001b[0mself\u001b[0m\u001b[0;34m.\u001b[0m\u001b[0m_set_group_selection\u001b[0m\u001b[0;34m(\u001b[0m\u001b[0;34m)\u001b[0m\u001b[0;34m\u001b[0m\u001b[0;34m\u001b[0m\u001b[0m\n",
            "\u001b[0;31mAttributeError\u001b[0m: Cannot access callable attribute 'isin' of 'SeriesGroupBy' objects, try using the 'apply' method"
          ]
        }
      ]
    },
    {
      "cell_type": "markdown",
      "metadata": {
        "id": "Kiq56dZb92LY",
        "colab_type": "text"
      },
      "source": [
        "### Part 2 — Recreate this explanatory visualization:"
      ]
    },
    {
      "cell_type": "code",
      "metadata": {
        "id": "HKLDMWwP98vz",
        "colab_type": "code",
        "outputId": "67406497-f21c-499f-cfd7-460092fc7a5c",
        "colab": {
          "base_uri": "https://localhost:8080/",
          "height": 406
        }
      },
      "source": [
        "from IPython.display import display, Image\n",
        "png = 'https://fivethirtyeight.com/wp-content/uploads/2015/08/hickey-datalab-dailyshow.png'\n",
        "example = Image(png, width=500)\n",
        "display(example)"
      ],
      "execution_count": 25,
      "outputs": [
        {
          "output_type": "display_data",
          "data": {
            "image/png": "[encoded data removed]",
            "text/plain": [
              "<IPython.core.display.Image object>"
            ]
          },
          "metadata": {
            "tags": [],
            "image/png": {
              "width": 500
            }
          }
        }
      ]
    },
    {
      "cell_type": "markdown",
      "metadata": {
        "id": "TK5fDIag9-F6",
        "colab_type": "text"
      },
      "source": [
        "**Hints:**\n",
        "- You can choose any Python visualization library you want. I've verified the plot can be reproduced with matplotlib, pandas plot, or seaborn. I assume other libraries like altair or plotly would work too.\n",
        "- If you choose to use seaborn, you may want to upgrade the version to 0.9.0.\n",
        "\n",
        "**Expectations:** Your plot should include:\n",
        "- 3 lines visualizing \"occupation of guests, by year.\" The shapes of the lines should look roughly identical to 538's example. Each line should be a different color. (But you don't need to use the _same_ colors as 538.)\n",
        "- Legend or labels for the lines. (But you don't need each label positioned next to its line or colored like 538.)\n",
        "- Title in the upper left: _\"Who Got To Be On 'The Daily Show'?\"_ with more visual emphasis than the subtitle. (Bolder and/or larger font.)\n",
        "- Subtitle underneath the title: _\"Occupation of guests, by year\"_\n",
        "\n",
        "**Optional Bonus Challenge:**\n",
        "- Give your plot polished aesthetics, with improved resemblance to the 538 example.\n",
        "- Any visual element not specifically mentioned in the expectations is an optional bonus."
      ]
    },
    {
      "cell_type": "code",
      "metadata": {
        "id": "CaB8MMV099Kh",
        "colab_type": "code",
        "colab": {
          "base_uri": "https://localhost:8080/",
          "height": 641
        },
        "outputId": "2e76a592-c239-4010-87bc-e9153ba6b243"
      },
      "source": [
        "df2.groupby('Year')['Occupation'].value_counts().sort_index().unstack().plot(figsize=[15,10])  # Can't make it by percent until you figure out end of Part 1\n",
        "plt.title(\"Who Got To Be On 'The Daily Show'\\nOccupation of guests, by year\", fontsize=15)\n",
        "# plt.text(x=2, y=4, fontsize=16, fontweight='bold', s=\"Who Got To Be On 'The Daily Show'\")  # For some reason, I get an error when I run these\n",
        "# plt.text(x=2, y=4, fontsize=12, s='Occupation of guests, by year');\n",
        "plt.show()"
      ],
      "execution_count": 86,
      "outputs": [
        {
          "output_type": "display_data",
          "data": {
            "image/png": "[encoded data removed]",
            "text/plain": [
              "<Figure size 1080x720 with 1 Axes>"
            ]
          },
          "metadata": {
            "tags": []
          }
        }
      ]
    }
  ]
}