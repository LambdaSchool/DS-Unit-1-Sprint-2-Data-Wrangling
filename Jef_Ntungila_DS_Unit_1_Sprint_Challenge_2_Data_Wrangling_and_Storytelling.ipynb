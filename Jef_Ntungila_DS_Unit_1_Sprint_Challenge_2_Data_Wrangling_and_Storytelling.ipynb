{
  "nbformat": 4,
  "nbformat_minor": 0,
  "metadata": {
    "colab": {
      "name": "Jef Ntungila DS_Unit_1_Sprint_Challenge_2_Data_Wrangling_and_Storytelling.ipynb",
      "version": "0.3.2",
      "provenance": [],
      "collapsed_sections": [],
      "include_colab_link": true
    },
    "language_info": {
      "codemirror_mode": {
        "name": "ipython",
        "version": 3
      },
      "file_extension": ".py",
      "mimetype": "text/x-python",
      "name": "python",
      "nbconvert_exporter": "python",
      "pygments_lexer": "ipython3",
      "version": "3.7.1"
    },
    "kernelspec": {
      "display_name": "Python 3",
      "language": "python",
      "name": "python3"
    }
  },
  "cells": [
    {
      "cell_type": "markdown",
      "metadata": {
        "id": "view-in-github",
        "colab_type": "text"
      },
      "source": [
        "<a href=\"https://colab.research.google.com/github/JefNtungila/DS-Unit-1-Sprint-2-Data-Wrangling-and-Storytelling/blob/master/Jef_Ntungila_DS_Unit_1_Sprint_Challenge_2_Data_Wrangling_and_Storytelling.ipynb\" target=\"_parent\"><img src=\"https://colab.research.google.com/assets/colab-badge.svg\" alt=\"Open In Colab\"/></a>"
      ]
    },
    {
      "cell_type": "markdown",
      "metadata": {
        "colab_type": "text",
        "id": "4yMHi_PX9hEz"
      },
      "source": [
        "# Data Science Unit 1 Sprint Challenge 2\n",
        "\n",
        "## Data Wrangling and Storytelling\n",
        "\n",
        "Taming data from its raw form into informative insights and stories."
      ]
    },
    {
      "cell_type": "markdown",
      "metadata": {
        "id": "9wIvtOss9H_i",
        "colab_type": "text"
      },
      "source": [
        "## Data Wrangling\n",
        "\n",
        "In this Sprint Challenge you will first \"wrangle\" some data from [Gapminder](https://www.gapminder.org/about-gapminder/), a Swedish non-profit co-founded by Hans Rosling. \"Gapminder produces free teaching resources making the world understandable based on reliable statistics.\"\n",
        "- [Cell phones (total), by country and year](https://raw.githubusercontent.com/open-numbers/ddf--gapminder--systema_globalis/master/ddf--datapoints--cell_phones_total--by--geo--time.csv)\n",
        "- [Population (total), by country and year](https://raw.githubusercontent.com/open-numbers/ddf--gapminder--systema_globalis/master/ddf--datapoints--population_total--by--geo--time.csv)\n",
        "- [Geo country codes](https://github.com/open-numbers/ddf--gapminder--systema_globalis/blob/master/ddf--entities--geo--country.csv)\n",
        "\n",
        "These two links have everything you need to successfully complete the first part of this sprint challenge.\n",
        "- [Pandas documentation: Working with Text Data](https://pandas.pydata.org/pandas-docs/stable/text.html) (one question)\n",
        "- [Pandas Cheat Sheet](https://github.com/pandas-dev/pandas/blob/master/doc/cheatsheet/Pandas_Cheat_Sheet.pdf) (everything else)"
      ]
    },
    {
      "cell_type": "markdown",
      "metadata": {
        "colab_type": "text",
        "id": "wWEU2GemX68A"
      },
      "source": [
        "### Part 0. Load data\n",
        "\n",
        "You don't need to add or change anything here. Just run this cell and it loads the data for you, into three dataframes."
      ]
    },
    {
      "cell_type": "code",
      "metadata": {
        "colab_type": "code",
        "id": "bxKtSi5sRQOl",
        "colab": {}
      },
      "source": [
        "import pandas as pd\n",
        "\n",
        "cell_phones = pd.read_csv('https://raw.githubusercontent.com/open-numbers/ddf--gapminder--systema_globalis/master/ddf--datapoints--cell_phones_total--by--geo--time.csv')\n",
        "\n",
        "population = pd.read_csv('https://raw.githubusercontent.com/open-numbers/ddf--gapminder--systema_globalis/master/ddf--datapoints--population_total--by--geo--time.csv')\n",
        "\n",
        "geo_country_codes = (pd.read_csv('https://raw.githubusercontent.com/open-numbers/ddf--gapminder--systema_globalis/master/ddf--entities--geo--country.csv')\n",
        "                       .rename(columns={'country': 'geo', 'name': 'country'}))"
      ],
      "execution_count": 0,
      "outputs": []
    },
    {
      "cell_type": "markdown",
      "metadata": {
        "colab_type": "text",
        "id": "AZmVTeCsX9RC"
      },
      "source": [
        "### Part 1. Join data"
      ]
    },
    {
      "cell_type": "markdown",
      "metadata": {
        "colab_type": "text",
        "id": "GLzX58u4SfEy"
      },
      "source": [
        "First, join the `cell_phones` and `population` dataframes (with an inner join on `geo` and `time`).\n",
        "\n",
        "The resulting dataframe's shape should be: (8590, 4)"
      ]
    },
    {
      "cell_type": "code",
      "metadata": {
        "colab_type": "code",
        "id": "GVV7Hnj4SXBa",
        "colab": {
          "base_uri": "https://localhost:8080/",
          "height": 34
        },
        "outputId": "6d9a788c-4f6a-4090-ae15-897bc4c8a563"
      },
      "source": [
        "join_data1=pd.merge(cell_phones, population)\n",
        "join_data1.shape"
      ],
      "execution_count": 70,
      "outputs": [
        {
          "output_type": "execute_result",
          "data": {
            "text/plain": [
              "(8590, 4)"
            ]
          },
          "metadata": {
            "tags": []
          },
          "execution_count": 70
        }
      ]
    },
    {
      "cell_type": "markdown",
      "metadata": {
        "colab_type": "text",
        "id": "xsXpDbwwW241"
      },
      "source": [
        "Then, select the `geo` and `country` columns from the `geo_country_codes` dataframe, and join with your population and cell phone data.\n",
        "\n",
        "The resulting dataframe's shape should be: (8590, 5)"
      ]
    },
    {
      "cell_type": "code",
      "metadata": {
        "colab_type": "code",
        "id": "Q2LaZta_W2CE",
        "colab": {
          "base_uri": "https://localhost:8080/",
          "height": 34
        },
        "outputId": "445da195-7367-4468-b9c2-dd9696f6bb94"
      },
      "source": [
        "join_data2=pd.merge(join_data1,geo_country_codes[['geo', 'country']])\n",
        "join_data2.shape"
      ],
      "execution_count": 52,
      "outputs": [
        {
          "output_type": "execute_result",
          "data": {
            "text/plain": [
              "(8590, 5)"
            ]
          },
          "metadata": {
            "tags": []
          },
          "execution_count": 52
        }
      ]
    },
    {
      "cell_type": "markdown",
      "metadata": {
        "id": "LxCJMpbk8jy6",
        "colab_type": "text"
      },
      "source": [
        "***Optional bonus for Part 1: Take initiative to join more data.***"
      ]
    },
    {
      "cell_type": "code",
      "metadata": {
        "id": "HG95gORVUII9",
        "colab_type": "code",
        "colab": {
          "base_uri": "https://localhost:8080/",
          "height": 639
        },
        "outputId": "65281b40-6a7e-481b-e3c9-a5b8dc982076"
      },
      "source": [
        "join_data2.head(20)"
      ],
      "execution_count": 71,
      "outputs": [
        {
          "output_type": "execute_result",
          "data": {
            "text/html": [
              "<div>\n",
              "<style scoped>\n",
              "    .dataframe tbody tr th:only-of-type {\n",
              "        vertical-align: middle;\n",
              "    }\n",
              "\n",
              "    .dataframe tbody tr th {\n",
              "        vertical-align: top;\n",
              "    }\n",
              "\n",
              "    .dataframe thead th {\n",
              "        text-align: right;\n",
              "    }\n",
              "</style>\n",
              "<table border=\"1\" class=\"dataframe\">\n",
              "  <thead>\n",
              "    <tr style=\"text-align: right;\">\n",
              "      <th></th>\n",
              "      <th>geo</th>\n",
              "      <th>time</th>\n",
              "      <th>cell_phones_total</th>\n",
              "      <th>population_total</th>\n",
              "      <th>country</th>\n",
              "      <th>number_of_cellphones</th>\n",
              "    </tr>\n",
              "  </thead>\n",
              "  <tbody>\n",
              "    <tr>\n",
              "      <th>0</th>\n",
              "      <td>AFG</td>\n",
              "      <td>1960</td>\n",
              "      <td>0.0</td>\n",
              "      <td>8996351</td>\n",
              "      <td>Afghanistan</td>\n",
              "      <td>0.0</td>\n",
              "    </tr>\n",
              "    <tr>\n",
              "      <th>1</th>\n",
              "      <td>AFG</td>\n",
              "      <td>1965</td>\n",
              "      <td>0.0</td>\n",
              "      <td>9938414</td>\n",
              "      <td>Afghanistan</td>\n",
              "      <td>0.0</td>\n",
              "    </tr>\n",
              "    <tr>\n",
              "      <th>2</th>\n",
              "      <td>AFG</td>\n",
              "      <td>1970</td>\n",
              "      <td>0.0</td>\n",
              "      <td>11126123</td>\n",
              "      <td>Afghanistan</td>\n",
              "      <td>0.0</td>\n",
              "    </tr>\n",
              "    <tr>\n",
              "      <th>3</th>\n",
              "      <td>AFG</td>\n",
              "      <td>1975</td>\n",
              "      <td>0.0</td>\n",
              "      <td>12590286</td>\n",
              "      <td>Afghanistan</td>\n",
              "      <td>0.0</td>\n",
              "    </tr>\n",
              "    <tr>\n",
              "      <th>4</th>\n",
              "      <td>AFG</td>\n",
              "      <td>1976</td>\n",
              "      <td>0.0</td>\n",
              "      <td>12840299</td>\n",
              "      <td>Afghanistan</td>\n",
              "      <td>0.0</td>\n",
              "    </tr>\n",
              "    <tr>\n",
              "      <th>5</th>\n",
              "      <td>AFG</td>\n",
              "      <td>1977</td>\n",
              "      <td>0.0</td>\n",
              "      <td>13067538</td>\n",
              "      <td>Afghanistan</td>\n",
              "      <td>0.0</td>\n",
              "    </tr>\n",
              "    <tr>\n",
              "      <th>6</th>\n",
              "      <td>AFG</td>\n",
              "      <td>1978</td>\n",
              "      <td>0.0</td>\n",
              "      <td>13237734</td>\n",
              "      <td>Afghanistan</td>\n",
              "      <td>0.0</td>\n",
              "    </tr>\n",
              "    <tr>\n",
              "      <th>7</th>\n",
              "      <td>AFG</td>\n",
              "      <td>1979</td>\n",
              "      <td>0.0</td>\n",
              "      <td>13306695</td>\n",
              "      <td>Afghanistan</td>\n",
              "      <td>0.0</td>\n",
              "    </tr>\n",
              "    <tr>\n",
              "      <th>8</th>\n",
              "      <td>AFG</td>\n",
              "      <td>1980</td>\n",
              "      <td>0.0</td>\n",
              "      <td>13248370</td>\n",
              "      <td>Afghanistan</td>\n",
              "      <td>0.0</td>\n",
              "    </tr>\n",
              "    <tr>\n",
              "      <th>9</th>\n",
              "      <td>AFG</td>\n",
              "      <td>1981</td>\n",
              "      <td>0.0</td>\n",
              "      <td>13053954</td>\n",
              "      <td>Afghanistan</td>\n",
              "      <td>0.0</td>\n",
              "    </tr>\n",
              "    <tr>\n",
              "      <th>10</th>\n",
              "      <td>AFG</td>\n",
              "      <td>1982</td>\n",
              "      <td>0.0</td>\n",
              "      <td>12749645</td>\n",
              "      <td>Afghanistan</td>\n",
              "      <td>0.0</td>\n",
              "    </tr>\n",
              "    <tr>\n",
              "      <th>11</th>\n",
              "      <td>AFG</td>\n",
              "      <td>1983</td>\n",
              "      <td>0.0</td>\n",
              "      <td>12389269</td>\n",
              "      <td>Afghanistan</td>\n",
              "      <td>0.0</td>\n",
              "    </tr>\n",
              "    <tr>\n",
              "      <th>12</th>\n",
              "      <td>AFG</td>\n",
              "      <td>1984</td>\n",
              "      <td>0.0</td>\n",
              "      <td>12047115</td>\n",
              "      <td>Afghanistan</td>\n",
              "      <td>0.0</td>\n",
              "    </tr>\n",
              "    <tr>\n",
              "      <th>13</th>\n",
              "      <td>AFG</td>\n",
              "      <td>1985</td>\n",
              "      <td>0.0</td>\n",
              "      <td>11783050</td>\n",
              "      <td>Afghanistan</td>\n",
              "      <td>0.0</td>\n",
              "    </tr>\n",
              "    <tr>\n",
              "      <th>14</th>\n",
              "      <td>AFG</td>\n",
              "      <td>1986</td>\n",
              "      <td>0.0</td>\n",
              "      <td>11601041</td>\n",
              "      <td>Afghanistan</td>\n",
              "      <td>0.0</td>\n",
              "    </tr>\n",
              "    <tr>\n",
              "      <th>15</th>\n",
              "      <td>AFG</td>\n",
              "      <td>1987</td>\n",
              "      <td>0.0</td>\n",
              "      <td>11502761</td>\n",
              "      <td>Afghanistan</td>\n",
              "      <td>0.0</td>\n",
              "    </tr>\n",
              "    <tr>\n",
              "      <th>16</th>\n",
              "      <td>AFG</td>\n",
              "      <td>1988</td>\n",
              "      <td>0.0</td>\n",
              "      <td>11540888</td>\n",
              "      <td>Afghanistan</td>\n",
              "      <td>0.0</td>\n",
              "    </tr>\n",
              "    <tr>\n",
              "      <th>17</th>\n",
              "      <td>AFG</td>\n",
              "      <td>1989</td>\n",
              "      <td>0.0</td>\n",
              "      <td>11777609</td>\n",
              "      <td>Afghanistan</td>\n",
              "      <td>0.0</td>\n",
              "    </tr>\n",
              "    <tr>\n",
              "      <th>18</th>\n",
              "      <td>AFG</td>\n",
              "      <td>1990</td>\n",
              "      <td>0.0</td>\n",
              "      <td>12249114</td>\n",
              "      <td>Afghanistan</td>\n",
              "      <td>0.0</td>\n",
              "    </tr>\n",
              "    <tr>\n",
              "      <th>19</th>\n",
              "      <td>AFG</td>\n",
              "      <td>1991</td>\n",
              "      <td>0.0</td>\n",
              "      <td>12993657</td>\n",
              "      <td>Afghanistan</td>\n",
              "      <td>0.0</td>\n",
              "    </tr>\n",
              "  </tbody>\n",
              "</table>\n",
              "</div>"
            ],
            "text/plain": [
              "    geo  time  cell_phones_total  population_total      country  \\\n",
              "0   AFG  1960                0.0           8996351  Afghanistan   \n",
              "1   AFG  1965                0.0           9938414  Afghanistan   \n",
              "2   AFG  1970                0.0          11126123  Afghanistan   \n",
              "3   AFG  1975                0.0          12590286  Afghanistan   \n",
              "4   AFG  1976                0.0          12840299  Afghanistan   \n",
              "5   AFG  1977                0.0          13067538  Afghanistan   \n",
              "6   AFG  1978                0.0          13237734  Afghanistan   \n",
              "7   AFG  1979                0.0          13306695  Afghanistan   \n",
              "8   AFG  1980                0.0          13248370  Afghanistan   \n",
              "9   AFG  1981                0.0          13053954  Afghanistan   \n",
              "10  AFG  1982                0.0          12749645  Afghanistan   \n",
              "11  AFG  1983                0.0          12389269  Afghanistan   \n",
              "12  AFG  1984                0.0          12047115  Afghanistan   \n",
              "13  AFG  1985                0.0          11783050  Afghanistan   \n",
              "14  AFG  1986                0.0          11601041  Afghanistan   \n",
              "15  AFG  1987                0.0          11502761  Afghanistan   \n",
              "16  AFG  1988                0.0          11540888  Afghanistan   \n",
              "17  AFG  1989                0.0          11777609  Afghanistan   \n",
              "18  AFG  1990                0.0          12249114  Afghanistan   \n",
              "19  AFG  1991                0.0          12993657  Afghanistan   \n",
              "\n",
              "    number_of_cellphones  \n",
              "0                    0.0  \n",
              "1                    0.0  \n",
              "2                    0.0  \n",
              "3                    0.0  \n",
              "4                    0.0  \n",
              "5                    0.0  \n",
              "6                    0.0  \n",
              "7                    0.0  \n",
              "8                    0.0  \n",
              "9                    0.0  \n",
              "10                   0.0  \n",
              "11                   0.0  \n",
              "12                   0.0  \n",
              "13                   0.0  \n",
              "14                   0.0  \n",
              "15                   0.0  \n",
              "16                   0.0  \n",
              "17                   0.0  \n",
              "18                   0.0  \n",
              "19                   0.0  "
            ]
          },
          "metadata": {
            "tags": []
          },
          "execution_count": 71
        }
      ]
    },
    {
      "cell_type": "markdown",
      "metadata": {
        "colab_type": "text",
        "id": "oK96Uj7vYjFX"
      },
      "source": [
        "### Part 2. Make features"
      ]
    },
    {
      "cell_type": "markdown",
      "metadata": {
        "colab_type": "text",
        "id": "AD2fBNrOYzCG"
      },
      "source": [
        "Calculate the number of cell phones per person, and add this column onto your dataframe.\n",
        "\n",
        "(You've calculated correctly if you get 1.220 cell phones per person in the United States in 2017.)"
      ]
    },
    {
      "cell_type": "code",
      "metadata": {
        "colab_type": "code",
        "id": "wXI9nQthYnFK",
        "colab": {
          "base_uri": "https://localhost:8080/",
          "height": 195
        },
        "outputId": "65ade971-6df2-4b08-e968-4a132676e826"
      },
      "source": [
        "join_data2['number_of_cellphones'] =join_data2['cell_phones_total']/join_data2['population_total']\n",
        "join_data2['number_of_cellphones']\n",
        "join_data2.head()"
      ],
      "execution_count": 72,
      "outputs": [
        {
          "output_type": "execute_result",
          "data": {
            "text/html": [
              "<div>\n",
              "<style scoped>\n",
              "    .dataframe tbody tr th:only-of-type {\n",
              "        vertical-align: middle;\n",
              "    }\n",
              "\n",
              "    .dataframe tbody tr th {\n",
              "        vertical-align: top;\n",
              "    }\n",
              "\n",
              "    .dataframe thead th {\n",
              "        text-align: right;\n",
              "    }\n",
              "</style>\n",
              "<table border=\"1\" class=\"dataframe\">\n",
              "  <thead>\n",
              "    <tr style=\"text-align: right;\">\n",
              "      <th></th>\n",
              "      <th>geo</th>\n",
              "      <th>time</th>\n",
              "      <th>cell_phones_total</th>\n",
              "      <th>population_total</th>\n",
              "      <th>country</th>\n",
              "      <th>number_of_cellphones</th>\n",
              "    </tr>\n",
              "  </thead>\n",
              "  <tbody>\n",
              "    <tr>\n",
              "      <th>0</th>\n",
              "      <td>AFG</td>\n",
              "      <td>1960</td>\n",
              "      <td>0.0</td>\n",
              "      <td>8996351</td>\n",
              "      <td>Afghanistan</td>\n",
              "      <td>0.0</td>\n",
              "    </tr>\n",
              "    <tr>\n",
              "      <th>1</th>\n",
              "      <td>AFG</td>\n",
              "      <td>1965</td>\n",
              "      <td>0.0</td>\n",
              "      <td>9938414</td>\n",
              "      <td>Afghanistan</td>\n",
              "      <td>0.0</td>\n",
              "    </tr>\n",
              "    <tr>\n",
              "      <th>2</th>\n",
              "      <td>AFG</td>\n",
              "      <td>1970</td>\n",
              "      <td>0.0</td>\n",
              "      <td>11126123</td>\n",
              "      <td>Afghanistan</td>\n",
              "      <td>0.0</td>\n",
              "    </tr>\n",
              "    <tr>\n",
              "      <th>3</th>\n",
              "      <td>AFG</td>\n",
              "      <td>1975</td>\n",
              "      <td>0.0</td>\n",
              "      <td>12590286</td>\n",
              "      <td>Afghanistan</td>\n",
              "      <td>0.0</td>\n",
              "    </tr>\n",
              "    <tr>\n",
              "      <th>4</th>\n",
              "      <td>AFG</td>\n",
              "      <td>1976</td>\n",
              "      <td>0.0</td>\n",
              "      <td>12840299</td>\n",
              "      <td>Afghanistan</td>\n",
              "      <td>0.0</td>\n",
              "    </tr>\n",
              "  </tbody>\n",
              "</table>\n",
              "</div>"
            ],
            "text/plain": [
              "   geo  time  cell_phones_total  population_total      country  \\\n",
              "0  AFG  1960                0.0           8996351  Afghanistan   \n",
              "1  AFG  1965                0.0           9938414  Afghanistan   \n",
              "2  AFG  1970                0.0          11126123  Afghanistan   \n",
              "3  AFG  1975                0.0          12590286  Afghanistan   \n",
              "4  AFG  1976                0.0          12840299  Afghanistan   \n",
              "\n",
              "   number_of_cellphones  \n",
              "0                   0.0  \n",
              "1                   0.0  \n",
              "2                   0.0  \n",
              "3                   0.0  \n",
              "4                   0.0  "
            ]
          },
          "metadata": {
            "tags": []
          },
          "execution_count": 72
        }
      ]
    },
    {
      "cell_type": "code",
      "metadata": {
        "id": "8eGxcc76XIWL",
        "colab_type": "code",
        "colab": {
          "base_uri": "https://localhost:8080/",
          "height": 77
        },
        "outputId": "e08c088e-60d2-4cc4-b1ae-f2e26f1ba284"
      },
      "source": [
        "usa = join_data2[join_data2['country'] == 'United States']\n",
        "usa[usa['time'].isin([2017])]"
      ],
      "execution_count": 73,
      "outputs": [
        {
          "output_type": "execute_result",
          "data": {
            "text/html": [
              "<div>\n",
              "<style scoped>\n",
              "    .dataframe tbody tr th:only-of-type {\n",
              "        vertical-align: middle;\n",
              "    }\n",
              "\n",
              "    .dataframe tbody tr th {\n",
              "        vertical-align: top;\n",
              "    }\n",
              "\n",
              "    .dataframe thead th {\n",
              "        text-align: right;\n",
              "    }\n",
              "</style>\n",
              "<table border=\"1\" class=\"dataframe\">\n",
              "  <thead>\n",
              "    <tr style=\"text-align: right;\">\n",
              "      <th></th>\n",
              "      <th>geo</th>\n",
              "      <th>time</th>\n",
              "      <th>cell_phones_total</th>\n",
              "      <th>population_total</th>\n",
              "      <th>country</th>\n",
              "      <th>number_of_cellphones</th>\n",
              "    </tr>\n",
              "  </thead>\n",
              "  <tbody>\n",
              "    <tr>\n",
              "      <th>8134</th>\n",
              "      <td>USA</td>\n",
              "      <td>2017</td>\n",
              "      <td>395,881,000.0</td>\n",
              "      <td>324459463</td>\n",
              "      <td>United States</td>\n",
              "      <td>1.2201246847283354</td>\n",
              "    </tr>\n",
              "  </tbody>\n",
              "</table>\n",
              "</div>"
            ],
            "text/plain": [
              "      geo  time  cell_phones_total  population_total        country  \\\n",
              "8134  USA  2017      395,881,000.0         324459463  United States   \n",
              "\n",
              "      number_of_cellphones  \n",
              "8134    1.2201246847283354  "
            ]
          },
          "metadata": {
            "tags": []
          },
          "execution_count": 73
        }
      ]
    },
    {
      "cell_type": "markdown",
      "metadata": {
        "colab_type": "text",
        "id": "S3QFdsnRZMH6"
      },
      "source": [
        "Modify the `geo` column to make the geo codes uppercase instead of lowercase."
      ]
    },
    {
      "cell_type": "code",
      "metadata": {
        "colab_type": "code",
        "id": "93ADij8_YkOq",
        "colab": {
          "base_uri": "https://localhost:8080/",
          "height": 195
        },
        "outputId": "87770107-d214-408f-ea8c-a41a89ef9571"
      },
      "source": [
        "list1=join_data2['geo'].tolist()\n",
        "list1= [x.upper() for x in list1] \n",
        "join_data2['geo']=list1\n",
        "join_data2.head()\n"
      ],
      "execution_count": 74,
      "outputs": [
        {
          "output_type": "execute_result",
          "data": {
            "text/html": [
              "<div>\n",
              "<style scoped>\n",
              "    .dataframe tbody tr th:only-of-type {\n",
              "        vertical-align: middle;\n",
              "    }\n",
              "\n",
              "    .dataframe tbody tr th {\n",
              "        vertical-align: top;\n",
              "    }\n",
              "\n",
              "    .dataframe thead th {\n",
              "        text-align: right;\n",
              "    }\n",
              "</style>\n",
              "<table border=\"1\" class=\"dataframe\">\n",
              "  <thead>\n",
              "    <tr style=\"text-align: right;\">\n",
              "      <th></th>\n",
              "      <th>geo</th>\n",
              "      <th>time</th>\n",
              "      <th>cell_phones_total</th>\n",
              "      <th>population_total</th>\n",
              "      <th>country</th>\n",
              "      <th>number_of_cellphones</th>\n",
              "    </tr>\n",
              "  </thead>\n",
              "  <tbody>\n",
              "    <tr>\n",
              "      <th>0</th>\n",
              "      <td>AFG</td>\n",
              "      <td>1960</td>\n",
              "      <td>0.0</td>\n",
              "      <td>8996351</td>\n",
              "      <td>Afghanistan</td>\n",
              "      <td>0.0</td>\n",
              "    </tr>\n",
              "    <tr>\n",
              "      <th>1</th>\n",
              "      <td>AFG</td>\n",
              "      <td>1965</td>\n",
              "      <td>0.0</td>\n",
              "      <td>9938414</td>\n",
              "      <td>Afghanistan</td>\n",
              "      <td>0.0</td>\n",
              "    </tr>\n",
              "    <tr>\n",
              "      <th>2</th>\n",
              "      <td>AFG</td>\n",
              "      <td>1970</td>\n",
              "      <td>0.0</td>\n",
              "      <td>11126123</td>\n",
              "      <td>Afghanistan</td>\n",
              "      <td>0.0</td>\n",
              "    </tr>\n",
              "    <tr>\n",
              "      <th>3</th>\n",
              "      <td>AFG</td>\n",
              "      <td>1975</td>\n",
              "      <td>0.0</td>\n",
              "      <td>12590286</td>\n",
              "      <td>Afghanistan</td>\n",
              "      <td>0.0</td>\n",
              "    </tr>\n",
              "    <tr>\n",
              "      <th>4</th>\n",
              "      <td>AFG</td>\n",
              "      <td>1976</td>\n",
              "      <td>0.0</td>\n",
              "      <td>12840299</td>\n",
              "      <td>Afghanistan</td>\n",
              "      <td>0.0</td>\n",
              "    </tr>\n",
              "  </tbody>\n",
              "</table>\n",
              "</div>"
            ],
            "text/plain": [
              "   geo  time  cell_phones_total  population_total      country  \\\n",
              "0  AFG  1960                0.0           8996351  Afghanistan   \n",
              "1  AFG  1965                0.0           9938414  Afghanistan   \n",
              "2  AFG  1970                0.0          11126123  Afghanistan   \n",
              "3  AFG  1975                0.0          12590286  Afghanistan   \n",
              "4  AFG  1976                0.0          12840299  Afghanistan   \n",
              "\n",
              "   number_of_cellphones  \n",
              "0                   0.0  \n",
              "1                   0.0  \n",
              "2                   0.0  \n",
              "3                   0.0  \n",
              "4                   0.0  "
            ]
          },
          "metadata": {
            "tags": []
          },
          "execution_count": 74
        }
      ]
    },
    {
      "cell_type": "markdown",
      "metadata": {
        "id": "cQR5RhDa8jzO",
        "colab_type": "text"
      },
      "source": [
        "***Optional bonus for Part 2: Take initiative to make more features.***"
      ]
    },
    {
      "cell_type": "markdown",
      "metadata": {
        "colab_type": "text",
        "id": "hlPDAFCfaF6C"
      },
      "source": [
        "### Part 3. Process data"
      ]
    },
    {
      "cell_type": "markdown",
      "metadata": {
        "colab_type": "text",
        "id": "k-pudNWve2SQ"
      },
      "source": [
        "Use the describe function, to describe your dataframe's numeric columns, and then its non-numeric columns.\n",
        "\n",
        "(You'll see the time period ranges from 1960 to 2017, and there are 195 unique countries represented.)"
      ]
    },
    {
      "cell_type": "code",
      "metadata": {
        "colab_type": "code",
        "id": "g26yemKre2Cu",
        "colab": {
          "base_uri": "https://localhost:8080/",
          "height": 373
        },
        "outputId": "d312c08d-d754-46d7-e420-263bac6340f4"
      },
      "source": [
        "join_data2.describe(include='all')"
      ],
      "execution_count": 75,
      "outputs": [
        {
          "output_type": "execute_result",
          "data": {
            "text/html": [
              "<div>\n",
              "<style scoped>\n",
              "    .dataframe tbody tr th:only-of-type {\n",
              "        vertical-align: middle;\n",
              "    }\n",
              "\n",
              "    .dataframe tbody tr th {\n",
              "        vertical-align: top;\n",
              "    }\n",
              "\n",
              "    .dataframe thead th {\n",
              "        text-align: right;\n",
              "    }\n",
              "</style>\n",
              "<table border=\"1\" class=\"dataframe\">\n",
              "  <thead>\n",
              "    <tr style=\"text-align: right;\">\n",
              "      <th></th>\n",
              "      <th>geo</th>\n",
              "      <th>time</th>\n",
              "      <th>cell_phones_total</th>\n",
              "      <th>population_total</th>\n",
              "      <th>country</th>\n",
              "      <th>number_of_cellphones</th>\n",
              "    </tr>\n",
              "  </thead>\n",
              "  <tbody>\n",
              "    <tr>\n",
              "      <th>count</th>\n",
              "      <td>8590</td>\n",
              "      <td>8,590.0</td>\n",
              "      <td>8,590.0</td>\n",
              "      <td>8,590.0</td>\n",
              "      <td>8590</td>\n",
              "      <td>8,590.0</td>\n",
              "    </tr>\n",
              "    <tr>\n",
              "      <th>unique</th>\n",
              "      <td>195</td>\n",
              "      <td>nan</td>\n",
              "      <td>nan</td>\n",
              "      <td>nan</td>\n",
              "      <td>195</td>\n",
              "      <td>nan</td>\n",
              "    </tr>\n",
              "    <tr>\n",
              "      <th>top</th>\n",
              "      <td>NIC</td>\n",
              "      <td>nan</td>\n",
              "      <td>nan</td>\n",
              "      <td>nan</td>\n",
              "      <td>United Kingdom</td>\n",
              "      <td>nan</td>\n",
              "    </tr>\n",
              "    <tr>\n",
              "      <th>freq</th>\n",
              "      <td>46</td>\n",
              "      <td>nan</td>\n",
              "      <td>nan</td>\n",
              "      <td>nan</td>\n",
              "      <td>46</td>\n",
              "      <td>nan</td>\n",
              "    </tr>\n",
              "    <tr>\n",
              "      <th>mean</th>\n",
              "      <td>NaN</td>\n",
              "      <td>1,994.1934807916182</td>\n",
              "      <td>9,004,949.642905472</td>\n",
              "      <td>29,838,230.581722934</td>\n",
              "      <td>NaN</td>\n",
              "      <td>0.2796385558059151</td>\n",
              "    </tr>\n",
              "    <tr>\n",
              "      <th>std</th>\n",
              "      <td>NaN</td>\n",
              "      <td>14.257974607310302</td>\n",
              "      <td>55,734,084.872179635</td>\n",
              "      <td>116,128,377.47477299</td>\n",
              "      <td>NaN</td>\n",
              "      <td>0.454246656214052</td>\n",
              "    </tr>\n",
              "    <tr>\n",
              "      <th>min</th>\n",
              "      <td>NaN</td>\n",
              "      <td>1,960.0</td>\n",
              "      <td>0.0</td>\n",
              "      <td>4,433.0</td>\n",
              "      <td>NaN</td>\n",
              "      <td>0.0</td>\n",
              "    </tr>\n",
              "    <tr>\n",
              "      <th>25%</th>\n",
              "      <td>NaN</td>\n",
              "      <td>1,983.0</td>\n",
              "      <td>0.0</td>\n",
              "      <td>1,456,148.0</td>\n",
              "      <td>NaN</td>\n",
              "      <td>0.0</td>\n",
              "    </tr>\n",
              "    <tr>\n",
              "      <th>50%</th>\n",
              "      <td>NaN</td>\n",
              "      <td>1,995.0</td>\n",
              "      <td>6,200.0</td>\n",
              "      <td>5,725,062.5</td>\n",
              "      <td>NaN</td>\n",
              "      <td>0.0015636266438163813</td>\n",
              "    </tr>\n",
              "    <tr>\n",
              "      <th>75%</th>\n",
              "      <td>NaN</td>\n",
              "      <td>2,006.0</td>\n",
              "      <td>1,697,652.0</td>\n",
              "      <td>18,105,812.0</td>\n",
              "      <td>NaN</td>\n",
              "      <td>0.4611491855201403</td>\n",
              "    </tr>\n",
              "    <tr>\n",
              "      <th>max</th>\n",
              "      <td>NaN</td>\n",
              "      <td>2,017.0</td>\n",
              "      <td>1,474,097,000.0</td>\n",
              "      <td>1,409,517,397.0</td>\n",
              "      <td>NaN</td>\n",
              "      <td>2.490242818521353</td>\n",
              "    </tr>\n",
              "  </tbody>\n",
              "</table>\n",
              "</div>"
            ],
            "text/plain": [
              "         geo                time    cell_phones_total     population_total  \\\n",
              "count   8590             8,590.0              8,590.0              8,590.0   \n",
              "unique   195                 nan                  nan                  nan   \n",
              "top      NIC                 nan                  nan                  nan   \n",
              "freq      46                 nan                  nan                  nan   \n",
              "mean     NaN 1,994.1934807916182  9,004,949.642905472 29,838,230.581722934   \n",
              "std      NaN  14.257974607310302 55,734,084.872179635 116,128,377.47477299   \n",
              "min      NaN             1,960.0                  0.0              4,433.0   \n",
              "25%      NaN             1,983.0                  0.0          1,456,148.0   \n",
              "50%      NaN             1,995.0              6,200.0          5,725,062.5   \n",
              "75%      NaN             2,006.0          1,697,652.0         18,105,812.0   \n",
              "max      NaN             2,017.0      1,474,097,000.0      1,409,517,397.0   \n",
              "\n",
              "               country  number_of_cellphones  \n",
              "count             8590               8,590.0  \n",
              "unique             195                   nan  \n",
              "top     United Kingdom                   nan  \n",
              "freq                46                   nan  \n",
              "mean               NaN    0.2796385558059151  \n",
              "std                NaN     0.454246656214052  \n",
              "min                NaN                   0.0  \n",
              "25%                NaN                   0.0  \n",
              "50%                NaN 0.0015636266438163813  \n",
              "75%                NaN    0.4611491855201403  \n",
              "max                NaN     2.490242818521353  "
            ]
          },
          "metadata": {
            "tags": []
          },
          "execution_count": 75
        }
      ]
    },
    {
      "cell_type": "markdown",
      "metadata": {
        "colab_type": "text",
        "id": "zALg-RrYaLcI"
      },
      "source": [
        "In 2017, what were the top 5 countries with the most cell phones total?\n",
        "\n",
        "Your list of countries should have these totals:\n",
        "\n",
        "| country | cell phones total |\n",
        "|:-------:|:-----------------:|\n",
        "|    ?    |     1,474,097,000 |\n",
        "|    ?    |     1,168,902,277 |\n",
        "|    ?    |       458,923,202 |\n",
        "|    ?    |       395,881,000 |\n",
        "|    ?    |       236,488,548 |\n",
        "\n"
      ]
    },
    {
      "cell_type": "code",
      "metadata": {
        "id": "1cgQsTg7dG4F",
        "colab_type": "code",
        "colab": {
          "base_uri": "https://localhost:8080/",
          "height": 195
        },
        "outputId": "2a83edfd-858a-448f-a0a2-164f56d5acfa"
      },
      "source": [
        "join_data3=join_data2.loc[:,['cell_phones_total','country','time']]\n",
        "join_data3 = join_data3.sort_values('cell_phones_total',ascending=False)\n",
        "join_data3=join_data3[join_data3['time'].isin([2017])]\n",
        "join_data3.head()"
      ],
      "execution_count": 93,
      "outputs": [
        {
          "output_type": "execute_result",
          "data": {
            "text/html": [
              "<div>\n",
              "<style scoped>\n",
              "    .dataframe tbody tr th:only-of-type {\n",
              "        vertical-align: middle;\n",
              "    }\n",
              "\n",
              "    .dataframe tbody tr th {\n",
              "        vertical-align: top;\n",
              "    }\n",
              "\n",
              "    .dataframe thead th {\n",
              "        text-align: right;\n",
              "    }\n",
              "</style>\n",
              "<table border=\"1\" class=\"dataframe\">\n",
              "  <thead>\n",
              "    <tr style=\"text-align: right;\">\n",
              "      <th></th>\n",
              "      <th>cell_phones_total</th>\n",
              "      <th>country</th>\n",
              "      <th>time</th>\n",
              "    </tr>\n",
              "  </thead>\n",
              "  <tbody>\n",
              "    <tr>\n",
              "      <th>1496</th>\n",
              "      <td>1,474,097,000.0</td>\n",
              "      <td>China</td>\n",
              "      <td>2017</td>\n",
              "    </tr>\n",
              "    <tr>\n",
              "      <th>3595</th>\n",
              "      <td>1,168,902,277.0</td>\n",
              "      <td>India</td>\n",
              "      <td>2017</td>\n",
              "    </tr>\n",
              "    <tr>\n",
              "      <th>3549</th>\n",
              "      <td>458,923,202.0</td>\n",
              "      <td>Indonesia</td>\n",
              "      <td>2017</td>\n",
              "    </tr>\n",
              "    <tr>\n",
              "      <th>8134</th>\n",
              "      <td>395,881,000.0</td>\n",
              "      <td>United States</td>\n",
              "      <td>2017</td>\n",
              "    </tr>\n",
              "    <tr>\n",
              "      <th>1084</th>\n",
              "      <td>236,488,548.0</td>\n",
              "      <td>Brazil</td>\n",
              "      <td>2017</td>\n",
              "    </tr>\n",
              "  </tbody>\n",
              "</table>\n",
              "</div>"
            ],
            "text/plain": [
              "      cell_phones_total        country  time\n",
              "1496    1,474,097,000.0          China  2017\n",
              "3595    1,168,902,277.0          India  2017\n",
              "3549      458,923,202.0      Indonesia  2017\n",
              "8134      395,881,000.0  United States  2017\n",
              "1084      236,488,548.0         Brazil  2017"
            ]
          },
          "metadata": {
            "tags": []
          },
          "execution_count": 93
        }
      ]
    },
    {
      "cell_type": "code",
      "metadata": {
        "id": "CMkDmrvQdGkw",
        "colab_type": "code",
        "colab": {}
      },
      "source": [
        ""
      ],
      "execution_count": 0,
      "outputs": []
    },
    {
      "cell_type": "code",
      "metadata": {
        "colab_type": "code",
        "id": "JdlWvezHaZxD",
        "colab": {}
      },
      "source": [
        "# # This optional code formats float numbers with comma separators\n",
        "# pd.options.display.float_format = '{:,}'.format"
      ],
      "execution_count": 0,
      "outputs": []
    },
    {
      "cell_type": "code",
      "metadata": {
        "colab_type": "code",
        "id": "smX8vzu4cyju",
        "colab": {}
      },
      "source": [
        ""
      ],
      "execution_count": 0,
      "outputs": []
    },
    {
      "cell_type": "markdown",
      "metadata": {
        "colab_type": "text",
        "id": "03V3Wln_h0dj"
      },
      "source": [
        "2017 was the first year that China had more cell phones than people.\n",
        "\n",
        "What was the first year that the USA had more cell phones than people?"
      ]
    },
    {
      "cell_type": "code",
      "metadata": {
        "colab_type": "code",
        "id": "KONQkQZ3haNC",
        "colab": {
          "base_uri": "https://localhost:8080/",
          "height": 195
        },
        "outputId": "a21824c4-cbdd-4e9b-8734-69b60c8bd429"
      },
      "source": [
        "join_data4=join_data2.loc[:,['cell_phones_total','population_total','time','country']]\n",
        "join_data4 = join_data4.sort_values('cell_phones_total',ascending=False)\n",
        "join_data4 = join_data4[join_data4['country'] == 'United States']\n",
        "join_data4.head() #In 2014"
      ],
      "execution_count": 111,
      "outputs": [
        {
          "output_type": "execute_result",
          "data": {
            "text/html": [
              "<div>\n",
              "<style scoped>\n",
              "    .dataframe tbody tr th:only-of-type {\n",
              "        vertical-align: middle;\n",
              "    }\n",
              "\n",
              "    .dataframe tbody tr th {\n",
              "        vertical-align: top;\n",
              "    }\n",
              "\n",
              "    .dataframe thead th {\n",
              "        text-align: right;\n",
              "    }\n",
              "</style>\n",
              "<table border=\"1\" class=\"dataframe\">\n",
              "  <thead>\n",
              "    <tr style=\"text-align: right;\">\n",
              "      <th></th>\n",
              "      <th>cell_phones_total</th>\n",
              "      <th>population_total</th>\n",
              "      <th>time</th>\n",
              "      <th>country</th>\n",
              "    </tr>\n",
              "  </thead>\n",
              "  <tbody>\n",
              "    <tr>\n",
              "      <th>8134</th>\n",
              "      <td>395,881,000.0</td>\n",
              "      <td>324459463</td>\n",
              "      <td>2017</td>\n",
              "      <td>United States</td>\n",
              "    </tr>\n",
              "    <tr>\n",
              "      <th>8133</th>\n",
              "      <td>395,881,000.0</td>\n",
              "      <td>322179605</td>\n",
              "      <td>2016</td>\n",
              "      <td>United States</td>\n",
              "    </tr>\n",
              "    <tr>\n",
              "      <th>8132</th>\n",
              "      <td>382,307,000.0</td>\n",
              "      <td>319929162</td>\n",
              "      <td>2015</td>\n",
              "      <td>United States</td>\n",
              "    </tr>\n",
              "    <tr>\n",
              "      <th>8131</th>\n",
              "      <td>355,500,000.0</td>\n",
              "      <td>317718779</td>\n",
              "      <td>2014</td>\n",
              "      <td>United States</td>\n",
              "    </tr>\n",
              "    <tr>\n",
              "      <th>8130</th>\n",
              "      <td>310,698,000.0</td>\n",
              "      <td>315536676</td>\n",
              "      <td>2013</td>\n",
              "      <td>United States</td>\n",
              "    </tr>\n",
              "  </tbody>\n",
              "</table>\n",
              "</div>"
            ],
            "text/plain": [
              "      cell_phones_total  population_total  time        country\n",
              "8134      395,881,000.0         324459463  2017  United States\n",
              "8133      395,881,000.0         322179605  2016  United States\n",
              "8132      382,307,000.0         319929162  2015  United States\n",
              "8131      355,500,000.0         317718779  2014  United States\n",
              "8130      310,698,000.0         315536676  2013  United States"
            ]
          },
          "metadata": {
            "tags": []
          },
          "execution_count": 111
        }
      ]
    },
    {
      "cell_type": "code",
      "metadata": {
        "id": "-6SEznAWnY58",
        "colab_type": "code",
        "colab": {
          "base_uri": "https://localhost:8080/",
          "height": 295
        },
        "outputId": "206017e6-8ca4-49c5-b046-93eb45f86c69"
      },
      "source": [
        "plt.plot(join_data4['time'],join_data4['cell_phones_total']); #in2014\n",
        "plt.plot(join_data4['time'],join_data4['population_total']);\n",
        "plt.xlabel('time')\n",
        "plt.title('USA cell phones and population growth vs time ')\n",
        "plt.legend();"
      ],
      "execution_count": 108,
      "outputs": [
        {
          "output_type": "display_data",
          "data": {
            "image/png": "[encoded data removed]",
            "text/plain": [
              "<Figure size 432x288 with 1 Axes>"
            ]
          },
          "metadata": {
            "tags": []
          }
        }
      ]
    },
    {
      "cell_type": "markdown",
      "metadata": {
        "id": "4pHjHTwp8jzn",
        "colab_type": "text"
      },
      "source": [
        "***Optional bonus for Part 3: Take initiative to do more exploratory data analysis.***"
      ]
    },
    {
      "cell_type": "markdown",
      "metadata": {
        "colab_type": "text",
        "id": "6J7iwMnTg8KZ"
      },
      "source": [
        "### (OPTIONAL) Part 4. Reshape data"
      ]
    },
    {
      "cell_type": "markdown",
      "metadata": {
        "colab_type": "text",
        "id": "LP9InazRkUxG"
      },
      "source": [
        "*This part is not needed to pass the sprint challenge, only to get a 3! Only work on this after completing the other sections.*\n",
        "\n",
        "Create a pivot table:\n",
        "- Columns: Years 2007—2017\n",
        "- Rows: China, India, United States, Indonesia, Brazil (order doesn't matter)\n",
        "- Values: Cell Phones Total\n",
        "\n",
        "The table's shape should be: (5, 11)"
      ]
    },
    {
      "cell_type": "code",
      "metadata": {
        "colab_type": "code",
        "id": "JD7mXXjLj4Ue",
        "colab": {}
      },
      "source": [
        ""
      ],
      "execution_count": 0,
      "outputs": []
    },
    {
      "cell_type": "markdown",
      "metadata": {
        "colab_type": "text",
        "id": "CNKTu2DCnAo6"
      },
      "source": [
        "Sort these 5 countries, by biggest increase in cell phones from 2007 to 2017.\n",
        "\n",
        "Which country had 935,282,277 more cell phones in 2017 versus 2007?"
      ]
    },
    {
      "cell_type": "code",
      "metadata": {
        "colab_type": "code",
        "id": "O4Aecv1fmQlj",
        "colab": {}
      },
      "source": [
        ""
      ],
      "execution_count": 0,
      "outputs": []
    },
    {
      "cell_type": "markdown",
      "metadata": {
        "colab_type": "text",
        "id": "7iHkMsa3Rorh"
      },
      "source": [
        "If you have the time and curiosity, what other questions can you ask and answer with this data?"
      ]
    },
    {
      "cell_type": "markdown",
      "metadata": {
        "id": "vtcAJOAV9k3X",
        "colab_type": "text"
      },
      "source": [
        "## Data Storytelling\n",
        "\n",
        "In this part of the sprint challenge you'll work with a dataset from **FiveThirtyEight's article, [Every Guest Jon Stewart Ever Had On ‘The Daily Show’](https://fivethirtyeight.com/features/every-guest-jon-stewart-ever-had-on-the-daily-show/)**!"
      ]
    },
    {
      "cell_type": "markdown",
      "metadata": {
        "id": "UtjoIqvm9yFg",
        "colab_type": "text"
      },
      "source": [
        "### Part 0 — Run this starter code\n",
        "\n",
        "You don't need to add or change anything here. Just run this cell and it loads the data for you, into a dataframe named `df`.\n",
        "\n",
        "(You can explore the data if you want, but it's not required to pass the Sprint Challenge.)"
      ]
    },
    {
      "cell_type": "code",
      "metadata": {
        "id": "tYujbhIz9zKU",
        "colab_type": "code",
        "colab": {}
      },
      "source": [
        "%matplotlib inline\n",
        "import matplotlib.pyplot as plt\n",
        "import numpy as np\n",
        "import pandas as pd\n",
        "\n",
        "url = 'https://raw.githubusercontent.com/fivethirtyeight/data/master/daily-show-guests/daily_show_guests.csv'\n",
        "df = pd.read_csv(url).rename(columns={'YEAR': 'Year', 'Raw_Guest_List': 'Guest'})\n",
        "\n",
        "def get_occupation(group):\n",
        "    if group in ['Acting', 'Comedy', 'Musician']:\n",
        "        return 'Acting, Comedy & Music'\n",
        "    elif group in ['Media', 'media']:\n",
        "        return 'Media'\n",
        "    elif group in ['Government', 'Politician', 'Political Aide']:\n",
        "        return 'Government and Politics'\n",
        "    else:\n",
        "        return 'Other'\n",
        "      \n",
        "df['Occupation'] = df['Group'].apply(get_occupation)\n",
        "\n"
      ],
      "execution_count": 0,
      "outputs": []
    },
    {
      "cell_type": "code",
      "metadata": {
        "id": "eZRKfCp0vICS",
        "colab_type": "code",
        "colab": {
          "base_uri": "https://localhost:8080/",
          "height": 639
        },
        "outputId": "8c60771c-24ec-477f-bac9-3d8fdb0adc3f"
      },
      "source": [
        "df.head(20)"
      ],
      "execution_count": 117,
      "outputs": [
        {
          "output_type": "execute_result",
          "data": {
            "text/html": [
              "<div>\n",
              "<style scoped>\n",
              "    .dataframe tbody tr th:only-of-type {\n",
              "        vertical-align: middle;\n",
              "    }\n",
              "\n",
              "    .dataframe tbody tr th {\n",
              "        vertical-align: top;\n",
              "    }\n",
              "\n",
              "    .dataframe thead th {\n",
              "        text-align: right;\n",
              "    }\n",
              "</style>\n",
              "<table border=\"1\" class=\"dataframe\">\n",
              "  <thead>\n",
              "    <tr style=\"text-align: right;\">\n",
              "      <th></th>\n",
              "      <th>Year</th>\n",
              "      <th>GoogleKnowlege_Occupation</th>\n",
              "      <th>Show</th>\n",
              "      <th>Group</th>\n",
              "      <th>Guest</th>\n",
              "      <th>Occupation</th>\n",
              "    </tr>\n",
              "  </thead>\n",
              "  <tbody>\n",
              "    <tr>\n",
              "      <th>0</th>\n",
              "      <td>1999</td>\n",
              "      <td>actor</td>\n",
              "      <td>1/11/99</td>\n",
              "      <td>Acting</td>\n",
              "      <td>Michael J. Fox</td>\n",
              "      <td>Acting, Comedy &amp; Music</td>\n",
              "    </tr>\n",
              "    <tr>\n",
              "      <th>1</th>\n",
              "      <td>1999</td>\n",
              "      <td>Comedian</td>\n",
              "      <td>1/12/99</td>\n",
              "      <td>Comedy</td>\n",
              "      <td>Sandra Bernhard</td>\n",
              "      <td>Acting, Comedy &amp; Music</td>\n",
              "    </tr>\n",
              "    <tr>\n",
              "      <th>2</th>\n",
              "      <td>1999</td>\n",
              "      <td>television actress</td>\n",
              "      <td>1/13/99</td>\n",
              "      <td>Acting</td>\n",
              "      <td>Tracey Ullman</td>\n",
              "      <td>Acting, Comedy &amp; Music</td>\n",
              "    </tr>\n",
              "    <tr>\n",
              "      <th>3</th>\n",
              "      <td>1999</td>\n",
              "      <td>film actress</td>\n",
              "      <td>1/14/99</td>\n",
              "      <td>Acting</td>\n",
              "      <td>Gillian Anderson</td>\n",
              "      <td>Acting, Comedy &amp; Music</td>\n",
              "    </tr>\n",
              "    <tr>\n",
              "      <th>4</th>\n",
              "      <td>1999</td>\n",
              "      <td>actor</td>\n",
              "      <td>1/18/99</td>\n",
              "      <td>Acting</td>\n",
              "      <td>David Alan Grier</td>\n",
              "      <td>Acting, Comedy &amp; Music</td>\n",
              "    </tr>\n",
              "    <tr>\n",
              "      <th>5</th>\n",
              "      <td>1999</td>\n",
              "      <td>actor</td>\n",
              "      <td>1/19/99</td>\n",
              "      <td>Acting</td>\n",
              "      <td>William Baldwin</td>\n",
              "      <td>Acting, Comedy &amp; Music</td>\n",
              "    </tr>\n",
              "    <tr>\n",
              "      <th>6</th>\n",
              "      <td>1999</td>\n",
              "      <td>Singer-lyricist</td>\n",
              "      <td>1/20/99</td>\n",
              "      <td>Musician</td>\n",
              "      <td>Michael Stipe</td>\n",
              "      <td>Acting, Comedy &amp; Music</td>\n",
              "    </tr>\n",
              "    <tr>\n",
              "      <th>7</th>\n",
              "      <td>1999</td>\n",
              "      <td>model</td>\n",
              "      <td>1/21/99</td>\n",
              "      <td>Media</td>\n",
              "      <td>Carmen Electra</td>\n",
              "      <td>Media</td>\n",
              "    </tr>\n",
              "    <tr>\n",
              "      <th>8</th>\n",
              "      <td>1999</td>\n",
              "      <td>actor</td>\n",
              "      <td>1/25/99</td>\n",
              "      <td>Acting</td>\n",
              "      <td>Matthew Lillard</td>\n",
              "      <td>Acting, Comedy &amp; Music</td>\n",
              "    </tr>\n",
              "    <tr>\n",
              "      <th>9</th>\n",
              "      <td>1999</td>\n",
              "      <td>stand-up comedian</td>\n",
              "      <td>1/26/99</td>\n",
              "      <td>Comedy</td>\n",
              "      <td>David Cross</td>\n",
              "      <td>Acting, Comedy &amp; Music</td>\n",
              "    </tr>\n",
              "    <tr>\n",
              "      <th>10</th>\n",
              "      <td>1999</td>\n",
              "      <td>actress</td>\n",
              "      <td>1/27/99</td>\n",
              "      <td>Acting</td>\n",
              "      <td>Yasmine Bleeth</td>\n",
              "      <td>Acting, Comedy &amp; Music</td>\n",
              "    </tr>\n",
              "    <tr>\n",
              "      <th>11</th>\n",
              "      <td>1999</td>\n",
              "      <td>actor</td>\n",
              "      <td>1/28/99</td>\n",
              "      <td>Acting</td>\n",
              "      <td>D. L. Hughley</td>\n",
              "      <td>Acting, Comedy &amp; Music</td>\n",
              "    </tr>\n",
              "    <tr>\n",
              "      <th>12</th>\n",
              "      <td>1999</td>\n",
              "      <td>television actress</td>\n",
              "      <td>10/18/99</td>\n",
              "      <td>Acting</td>\n",
              "      <td>Rebecca Gayheart</td>\n",
              "      <td>Acting, Comedy &amp; Music</td>\n",
              "    </tr>\n",
              "    <tr>\n",
              "      <th>13</th>\n",
              "      <td>1999</td>\n",
              "      <td>Comedian</td>\n",
              "      <td>10/19/99</td>\n",
              "      <td>Comedy</td>\n",
              "      <td>Steven Wright</td>\n",
              "      <td>Acting, Comedy &amp; Music</td>\n",
              "    </tr>\n",
              "    <tr>\n",
              "      <th>14</th>\n",
              "      <td>1999</td>\n",
              "      <td>actress</td>\n",
              "      <td>10/20/99</td>\n",
              "      <td>Acting</td>\n",
              "      <td>Amy Brenneman</td>\n",
              "      <td>Acting, Comedy &amp; Music</td>\n",
              "    </tr>\n",
              "    <tr>\n",
              "      <th>15</th>\n",
              "      <td>1999</td>\n",
              "      <td>actress</td>\n",
              "      <td>10/21/99</td>\n",
              "      <td>Acting</td>\n",
              "      <td>Melissa Gilbert</td>\n",
              "      <td>Acting, Comedy &amp; Music</td>\n",
              "    </tr>\n",
              "    <tr>\n",
              "      <th>16</th>\n",
              "      <td>1999</td>\n",
              "      <td>actress</td>\n",
              "      <td>10/25/99</td>\n",
              "      <td>Acting</td>\n",
              "      <td>Cathy Moriarty</td>\n",
              "      <td>Acting, Comedy &amp; Music</td>\n",
              "    </tr>\n",
              "    <tr>\n",
              "      <th>17</th>\n",
              "      <td>1999</td>\n",
              "      <td>comedian</td>\n",
              "      <td>10/26/99</td>\n",
              "      <td>Comedy</td>\n",
              "      <td>Louie Anderson</td>\n",
              "      <td>Acting, Comedy &amp; Music</td>\n",
              "    </tr>\n",
              "    <tr>\n",
              "      <th>18</th>\n",
              "      <td>1999</td>\n",
              "      <td>actress</td>\n",
              "      <td>10/27/99</td>\n",
              "      <td>Acting</td>\n",
              "      <td>Sarah Michelle Gellar</td>\n",
              "      <td>Acting, Comedy &amp; Music</td>\n",
              "    </tr>\n",
              "    <tr>\n",
              "      <th>19</th>\n",
              "      <td>1999</td>\n",
              "      <td>Singer-songwriter</td>\n",
              "      <td>10/28/99</td>\n",
              "      <td>Musician</td>\n",
              "      <td>Melanie C</td>\n",
              "      <td>Acting, Comedy &amp; Music</td>\n",
              "    </tr>\n",
              "  </tbody>\n",
              "</table>\n",
              "</div>"
            ],
            "text/plain": [
              "    Year GoogleKnowlege_Occupation      Show     Group                  Guest  \\\n",
              "0   1999                     actor   1/11/99    Acting         Michael J. Fox   \n",
              "1   1999                  Comedian   1/12/99    Comedy        Sandra Bernhard   \n",
              "2   1999        television actress   1/13/99    Acting          Tracey Ullman   \n",
              "3   1999              film actress   1/14/99    Acting       Gillian Anderson   \n",
              "4   1999                     actor   1/18/99    Acting       David Alan Grier   \n",
              "5   1999                     actor   1/19/99    Acting        William Baldwin   \n",
              "6   1999           Singer-lyricist   1/20/99  Musician          Michael Stipe   \n",
              "7   1999                     model   1/21/99     Media         Carmen Electra   \n",
              "8   1999                     actor   1/25/99    Acting        Matthew Lillard   \n",
              "9   1999         stand-up comedian   1/26/99    Comedy            David Cross   \n",
              "10  1999                   actress   1/27/99    Acting         Yasmine Bleeth   \n",
              "11  1999                     actor   1/28/99    Acting          D. L. Hughley   \n",
              "12  1999        television actress  10/18/99    Acting       Rebecca Gayheart   \n",
              "13  1999                  Comedian  10/19/99    Comedy          Steven Wright   \n",
              "14  1999                   actress  10/20/99    Acting          Amy Brenneman   \n",
              "15  1999                   actress  10/21/99    Acting        Melissa Gilbert   \n",
              "16  1999                   actress  10/25/99    Acting         Cathy Moriarty   \n",
              "17  1999                  comedian  10/26/99    Comedy         Louie Anderson   \n",
              "18  1999                   actress  10/27/99    Acting  Sarah Michelle Gellar   \n",
              "19  1999         Singer-songwriter  10/28/99  Musician              Melanie C   \n",
              "\n",
              "                Occupation  \n",
              "0   Acting, Comedy & Music  \n",
              "1   Acting, Comedy & Music  \n",
              "2   Acting, Comedy & Music  \n",
              "3   Acting, Comedy & Music  \n",
              "4   Acting, Comedy & Music  \n",
              "5   Acting, Comedy & Music  \n",
              "6   Acting, Comedy & Music  \n",
              "7                    Media  \n",
              "8   Acting, Comedy & Music  \n",
              "9   Acting, Comedy & Music  \n",
              "10  Acting, Comedy & Music  \n",
              "11  Acting, Comedy & Music  \n",
              "12  Acting, Comedy & Music  \n",
              "13  Acting, Comedy & Music  \n",
              "14  Acting, Comedy & Music  \n",
              "15  Acting, Comedy & Music  \n",
              "16  Acting, Comedy & Music  \n",
              "17  Acting, Comedy & Music  \n",
              "18  Acting, Comedy & Music  \n",
              "19  Acting, Comedy & Music  "
            ]
          },
          "metadata": {
            "tags": []
          },
          "execution_count": 117
        }
      ]
    },
    {
      "cell_type": "markdown",
      "metadata": {
        "id": "5hjnMK3j90Rp",
        "colab_type": "text"
      },
      "source": [
        "### Part 1 — What's the breakdown of guests’ occupations per year?\n",
        "\n",
        "For example, in 1999, what percentage of guests were actors, comedians, or musicians? What percentage were in the media? What percentage were in politics? What percentage were from another occupation?\n",
        "\n",
        "Then, what about in 2000? In 2001? And so on, up through 2015.\n",
        "\n",
        "So, **for each year of _The Daily Show_, calculate the percentage of guests from each occupation:**\n",
        "- Acting, Comedy & Music\n",
        "- Government and Politics\n",
        "- Media\n",
        "- Other\n",
        "\n",
        "#### Hints:\n",
        "You can make a crosstab. (See pandas documentation for examples, explanation, and parameters.)\n",
        "\n",
        "You'll know you've calculated correctly when the percentage of \"Acting, Comedy & Music\" guests is 90.36% in 1999, and 45% in 2015.\n",
        "\n",
        "**Optional Bonus Challenge:** Do additional insightful data exploration."
      ]
    },
    {
      "cell_type": "code",
      "metadata": {
        "id": "EbobyiHv916F",
        "colab_type": "code",
        "colab": {}
      },
      "source": [
        "breakdown_year=df.loc[:,['GoogleKnowlege_Occupation','Year']]\n"
      ],
      "execution_count": 0,
      "outputs": []
    },
    {
      "cell_type": "code",
      "metadata": {
        "id": "JHATkTmCzIIV",
        "colab_type": "code",
        "colab": {}
      },
      "source": [
        "breakdown_1999=breakdown_year[breakdown_year['Year'].isin([1999])]\n",
        "list1=breakdown_1999['GoogleKnowlege_Occupation'].tolist()\n"
      ],
      "execution_count": 0,
      "outputs": []
    },
    {
      "cell_type": "code",
      "metadata": {
        "id": "F8FEWby12yk5",
        "colab_type": "code",
        "colab": {}
      },
      "source": [
        "\n",
        "dic = {'actor': 'Acting, Comedy & Music', \n",
        "       'Comedian': \"Acting, Comedy & Music\",\n",
        "       'television actress' : 'Acting, Comedy & Music',\n",
        "       'film actress': 'Acting, Comedy & Music',\n",
        "       'Singer-lyricist': 'Acting, Comedy & Music',\n",
        "       'stand-up comedian' : 'Acting, Comedy & Music', \n",
        "       'actress': 'Acting, Comedy & Music',\n",
        "       'comedian': 'Acting, Comedy & Music',\n",
        "       'Singer-songwriter': 'Acting, Comedy & Music',\n",
        "       'Comic': 'Acting, Comedy & Music',\n",
        "       'rock band': 'Acting, Comedy & Music',\n",
        "       'musician': 'Acting, Comedy & Music',\n",
        "       'Film actor': 'Acting, Comedy & Music', \n",
        "       'singer-songwriter': 'Acting, Comedy & Music', \n",
        "       'film actor': 'Acting, Comedy & Music',\n",
        "       'pianist': 'Acting, Comedy & Music',\n",
        "       'Vocalist': 'Acting, Comedy & Music',\n",
        "       'Stand-up comedian': 'Acting, Comedy & Music',\n",
        "       'singer' : 'Acting, Comedy & Music',\n",
        "       'rapper' : 'Acting, Comedy & Music' }\n",
        "\n",
        "list2 = [ dic.get(item,item) for item in list1] \n"
      ],
      "execution_count": 0,
      "outputs": []
    },
    {
      "cell_type": "code",
      "metadata": {
        "id": "4_-tzcd2x4gL",
        "colab_type": "code",
        "colab": {
          "base_uri": "https://localhost:8080/",
          "height": 269
        },
        "outputId": "b35c55a7-d530-446b-f78f-b3b2b55f5bd5"
      },
      "source": [
        "from collections import Counter\n",
        "\n",
        "c = Counter(list2)\n",
        "\n",
        "[(i, c[i] / len(list2) * 100.0) for i in c]"
      ],
      "execution_count": 138,
      "outputs": [
        {
          "output_type": "execute_result",
          "data": {
            "text/plain": [
              "[('Acting, Comedy & Music', 89.7590361445783),\n",
              " ('model', 0.6024096385542169),\n",
              " ('television personality', 0.6024096385542169),\n",
              " ('Model', 0.6024096385542169),\n",
              " ('journalist', 0.6024096385542169),\n",
              " (nan, 1.8072289156626504),\n",
              " ('us senator', 1.2048192771084338),\n",
              " ('writer', 0.6024096385542169),\n",
              " ('Film director', 0.6024096385542169),\n",
              " ('television host', 0.6024096385542169),\n",
              " ('televison actor', 0.6024096385542169),\n",
              " ('muppet', 0.6024096385542169),\n",
              " ('director', 0.6024096385542169),\n",
              " ('film director', 0.6024096385542169),\n",
              " ('american television personality', 0.6024096385542169)]"
            ]
          },
          "metadata": {
            "tags": []
          },
          "execution_count": 138
        }
      ]
    },
    {
      "cell_type": "code",
      "metadata": {
        "id": "egwZ649-03Hx",
        "colab_type": "code",
        "colab": {}
      },
      "source": [
        "breakdown_2015=breakdown_year[breakdown_year['Year'].isin([2015])]\n",
        "list3=breakdown_2015['GoogleKnowlege_Occupation'].tolist()"
      ],
      "execution_count": 0,
      "outputs": []
    },
    {
      "cell_type": "code",
      "metadata": {
        "id": "v42OQZ6I5mEt",
        "colab_type": "code",
        "colab": {}
      },
      "source": [
        "list4 = [ dic.get(item,item) for item in list3] \n"
      ],
      "execution_count": 0,
      "outputs": []
    },
    {
      "cell_type": "code",
      "metadata": {
        "id": "qAm_mfbj1DIY",
        "colab_type": "code",
        "colab": {
          "base_uri": "https://localhost:8080/",
          "height": 739
        },
        "outputId": "0e1e3145-84b5-46a4-a340-7de99780135c"
      },
      "source": [
        "from collections import Counter\n",
        "\n",
        "c = Counter(list4)\n",
        "\n",
        "[(i, c[i] / len(list4) * 100.0) for i in c]"
      ],
      "execution_count": 141,
      "outputs": [
        {
          "output_type": "execute_result",
          "data": {
            "text/plain": [
              "[('former president', 1.0),\n",
              " ('United States Senator', 2.0),\n",
              " ('Acting, Comedy & Music', 44.0),\n",
              " ('Former Governor of Arkansas', 1.0),\n",
              " ('former mayor of san antonio', 1.0),\n",
              " ('Reporter', 1.0),\n",
              " ('Journalist', 2.0),\n",
              " ('legal scholar', 1.0),\n",
              " ('director', 2.0),\n",
              " ('former senior advisor to the presidnet', 1.0),\n",
              " ('lawyer', 1.0),\n",
              " ('Photojournalist', 1.0),\n",
              " ('television host', 1.0),\n",
              " ('executive', 1.0),\n",
              " ('author', 4.0),\n",
              " ('hip-hop artist', 1.0),\n",
              " ('journalist', 5.0),\n",
              " ('activist', 3.0),\n",
              " ('Film director', 1.0),\n",
              " ('orca trainer', 1.0),\n",
              " ('Ice hockey coach', 1.0),\n",
              " ('us representative', 1.0),\n",
              " ('former white house press secretary', 1.0),\n",
              " ('Astrophysicist', 1.0),\n",
              " ('white house sommunications director', 1.0),\n",
              " ('Talk show host', 1.0),\n",
              " ('us senator', 1.0),\n",
              " ('Professor', 2.0),\n",
              " ('United States Senate member', 1.0),\n",
              " ('Baseball player', 1.0),\n",
              " ('film producer', 1.0),\n",
              " ('us secretary of energy', 1.0),\n",
              " ('armed forces officer', 1.0),\n",
              " ('screenwriter', 1.0),\n",
              " ('us president', 2.0),\n",
              " ('nyc mayor', 1.0),\n",
              " ('united states senator', 1.0),\n",
              " ('television Series Creator', 1.0),\n",
              " ('legal analyst', 1.0),\n",
              " ('First Minister of Scotland', 1.0),\n",
              " ('Author', 1.0),\n",
              " ('Writer', 1.0),\n",
              " ('biographer', 1.0)]"
            ]
          },
          "metadata": {
            "tags": []
          },
          "execution_count": 141
        }
      ]
    },
    {
      "cell_type": "markdown",
      "metadata": {
        "id": "Kiq56dZb92LY",
        "colab_type": "text"
      },
      "source": [
        "### Part 2 — Recreate this explanatory visualization:"
      ]
    },
    {
      "cell_type": "code",
      "metadata": {
        "id": "HKLDMWwP98vz",
        "colab_type": "code",
        "outputId": "5f132a23-f59a-4dcb-ba27-c5334480c58f",
        "colab": {
          "base_uri": "https://localhost:8080/",
          "height": 406
        }
      },
      "source": [
        "from IPython.display import display, Image\n",
        "png = 'https://fivethirtyeight.com/wp-content/uploads/2015/08/hickey-datalab-dailyshow.png'\n",
        "example = Image(png, width=500)\n",
        "display(example)"
      ],
      "execution_count": 45,
      "outputs": [
        {
          "output_type": "display_data",
          "data": {
            "image/png": "[encoded data removed]",
            "text/plain": [
              "<IPython.core.display.Image object>"
            ]
          },
          "metadata": {
            "tags": [],
            "image/png": {
              "width": 500
            }
          }
        }
      ]
    },
    {
      "cell_type": "markdown",
      "metadata": {
        "id": "TK5fDIag9-F6",
        "colab_type": "text"
      },
      "source": [
        "**Hints:**\n",
        "- You can choose any Python visualization library you want. I've verified the plot can be reproduced with matplotlib, pandas plot, or seaborn. I assume other libraries like altair or plotly would work too.\n",
        "- If you choose to use seaborn, you may want to upgrade the version to 0.9.0.\n",
        "\n",
        "**Expectations:** Your plot should include:\n",
        "- 3 lines visualizing \"occupation of guests, by year.\" The shapes of the lines should look roughly identical to 538's example. Each line should be a different color. (But you don't need to use the _same_ colors as 538.)\n",
        "- Legend or labels for the lines. (But you don't need each label positioned next to its line or colored like 538.)\n",
        "- Title in the upper left: _\"Who Got To Be On 'The Daily Show'?\"_ with more visual emphasis than the subtitle. (Bolder and/or larger font.)\n",
        "- Subtitle underneath the title: _\"Occupation of guests, by year\"_\n",
        "\n",
        "**Optional Bonus Challenge:**\n",
        "- Give your plot polished aesthetics, with improved resemblance to the 538 example.\n",
        "- Any visual element not specifically mentioned in the expectations is an optional bonus."
      ]
    },
    {
      "cell_type": "code",
      "metadata": {
        "id": "CaB8MMV099Kh",
        "colab_type": "code",
        "colab": {}
      },
      "source": [
        ""
      ],
      "execution_count": 0,
      "outputs": []
    },
    {
      "cell_type": "markdown",
      "metadata": {
        "id": "kW36zxl4-BiW",
        "colab_type": "text"
      },
      "source": [
        "### (OPTIONAL) Part 3 — Who were the top 10 guests on _The Daily Show_?\n",
        "\n",
        "*This part is not needed to pass the sprint challenge, only to get a 3! Only work on this after completing the other sections.*\n",
        "\n",
        "**Make a plot** that shows their names and number of appearances.\n",
        "\n",
        "**Add a title** of your choice.\n",
        "\n",
        "**Expectations:** It's ok to make a simple, quick plot: exploratory, instead of explanatory. \n",
        "\n",
        "**Optional Bonus Challenge:** You can change aesthetics and add more annotation. For example, in a relevant location, could you add the text \"19\" to show that Fareed Zakaria appeared 19 times on _The Daily Show_? (And so on, for each of the top 10 guests.)"
      ]
    },
    {
      "cell_type": "code",
      "metadata": {
        "id": "B3cqzskY-QbM",
        "colab_type": "code",
        "colab": {}
      },
      "source": [
        ""
      ],
      "execution_count": 0,
      "outputs": []
    }
  ]
}