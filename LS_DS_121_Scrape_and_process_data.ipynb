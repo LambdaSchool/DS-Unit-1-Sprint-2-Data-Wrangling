{
  "nbformat": 4,
  "nbformat_minor": 0,
  "metadata": {
    "colab": {
      "name": "LS_DS_121_Scrape_and_process_data.ipynb",
      "version": "0.3.2",
      "provenance": [],
      "collapsed_sections": [],
      "include_colab_link": true
    },
    "kernelspec": {
      "name": "python3",
      "display_name": "Python 3"
    }
  },
  "cells": [
    {
      "cell_type": "markdown",
      "metadata": {
        "id": "view-in-github",
        "colab_type": "text"
      },
      "source": [
        "<a href=\"https://colab.research.google.com/github/extrajp2014/DS-Unit-1-Sprint-2-Data-Wrangling/blob/master/LS_DS_121_Scrape_and_process_data.ipynb\" target=\"_parent\"><img src=\"https://colab.research.google.com/assets/colab-badge.svg\" alt=\"Open In Colab\"/></a>"
      ]
    },
    {
      "metadata": {
        "id": "oR4Yeg3P07gu",
        "colab_type": "text"
      },
      "cell_type": "markdown",
      "source": [
        "_Lambda School Data Science_\n",
        "\n",
        "# Scrape and process data\n",
        "\n",
        "Objectives\n",
        "- scrape and parse web pages\n",
        "- use list comprehensions\n",
        "- select rows and columns with pandas\n",
        "\n",
        "Links\n",
        "-  [Automate the Boring Stuff with Python, Chapter 11](https://automatetheboringstuff.com/chapter11/)\n",
        "  - Requests\n",
        "  - Beautiful Soup\n",
        "- [Python List Comprehensions: Explained Visually](https://treyhunner.com/2015/12/python-list-comprehensions-now-in-color/)\n",
        "- [Pandas Cheat Sheet](https://github.com/pandas-dev/pandas/blob/master/doc/cheatsheet/Pandas_Cheat_Sheet.pdf)\n",
        "  - Subset Observations (Rows)\n",
        "  - Subset Variables (Columns)\n",
        "- Python Data Science Handbook\n",
        "  - [Chapter 3.1](https://jakevdp.github.io/PythonDataScienceHandbook/03.01-introducing-pandas-objects.html), Introducing Pandas Objects\n",
        "  - [Chapter 3.2](https://jakevdp.github.io/PythonDataScienceHandbook/03.02-data-indexing-and-selection.html), Data Indexing and Selection\n"
      ]
    },
    {
      "metadata": {
        "id": "I_NRVchqgGvM",
        "colab_type": "text"
      },
      "cell_type": "markdown",
      "source": [
        "## Scrape the titles of PyCon 2018 talks"
      ]
    },
    {
      "metadata": {
        "id": "3elw_8Nc7Tpe",
        "colab_type": "code",
        "colab": {}
      },
      "cell_type": "code",
      "source": [
        "url = 'https://us.pycon.org/2018/schedule/talks/list/'"
      ],
      "execution_count": 0,
      "outputs": []
    },
    {
      "metadata": {
        "id": "SFNsyjVsTU4b",
        "colab_type": "code",
        "colab": {}
      },
      "cell_type": "code",
      "source": [
        "import bs4, requests\n",
        "result = requests.get(url)\n",
        "soup = bs4.BeautifulSoup(result.text)"
      ],
      "execution_count": 0,
      "outputs": []
    },
    {
      "metadata": {
        "id": "vqkNgAzYpeK7",
        "colab_type": "text"
      },
      "cell_type": "markdown",
      "source": [
        "## 5 ways to look at long titles\n",
        "\n",
        "Let's define a long title as greater than 80 characters"
      ]
    },
    {
      "metadata": {
        "id": "N7tqeZh14Fws",
        "colab_type": "text"
      },
      "cell_type": "markdown",
      "source": [
        "### 1. For Loop"
      ]
    },
    {
      "metadata": {
        "id": "kKxs5tqDApuZ",
        "colab_type": "code",
        "colab": {
          "base_uri": "https://localhost:8080/",
          "height": 54
        },
        "outputId": "1889b514-c0a6-4253-dc41-bb18696e21aa"
      },
      "cell_type": "code",
      "source": [
        "titles = []\n",
        "for tag in soup.select('h2'):\n",
        "    titles.append(tag.text.strip())\n",
        "print(titles)"
      ],
      "execution_count": 10,
      "outputs": [
        {
          "output_type": "stream",
          "text": [
            "['A Bit about Bytes: Understanding Python Bytecode', 'Adapting from Spark to Dask: what to expect', 'All in the timing: How side channel attacks work', 'Analyzing Data: What pandas and SQL Taught Me About Taking an Average', 'A practical guide to Singular Value Decomposition in Python', 'Augmenting Human Decision Making with Data Science', 'Automating Code Quality', 'Bayesian Non-parametric Models for Data Science using PyMC3', 'Behavior-Driven Python', \"Beyond scraping: how to use machine learning when you're not sure where to start\", 'Beyond Unit Tests: Taking Your Testing to the Next Level', 'Big-O: How Code Slows as Data Grows', 'Birding with Python and Machine Learning', 'Bowerbirds of Technology: Architecture and Teams at Less-than-Google Scale', 'Building a cross-platform native app with BeeWare', 'Building a Data Pipeline with Testing in Mind', 'Build Teams as an Engineer', 'By the Numbers: Python Community Trends in 2017/2018', 'Clearer Code at Scale: Static Types at Zulip and Dropbox', 'Code like an accountant: Designing data systems for accuracy, resilience and auditability', 'Code Reviews Using Art Critique Principles', 'Coding through Adversity', 'Colossal Cave Adventure in Python... in the browser!', 'Controlling apples with snakes: Automating mobile apps with Appium', 'Counter, Gauge, Upper 90 - Oh my!', 'CuPy: A NumPy-compatible Library for GPU', 'Dataclasses:  The code generator to end all code generators', 'Data Visualization in Mixed Reality with Python', 'Debugging PySpark -- Or trying to make sense of a JVM stack trace when you were minding your own bus', 'Deconstructing the US Patent Database', 'Democratizing Distributed Computing with Dask and JupyterHub', 'Demystifying the Patch Function', \"Don't Look Back in Anger: Wildman Whitehouse and the Great Failure of 1858\", 'Easy 2D Game Creation With Arcade', 'Efficient shared memory data structures', 'Effortless Logging: A deep dive into the logging module', 'Elegant Solutions For Everyday Python Problems', 'Exploring Deep Learning Framework PyTorch', 'Fighting Gerrymandering with PyMC3', 'Fighting the Good Fight: Python 3 in your organization', 'Flourishing FLOSS: Making Your Project Successful', 'Get your resources faster, with importlib.resources', 'Graph Databases: Talking about your Data Relationships with Python', 'How Netflix does failovers in 7 minutes flat', 'HOWTO Write a Function', 'How to Write Deployment-friendly Applications', 'How we designed an inclusivity-first conference on a shoestring budget and short timeline', 'How We Do Identity Wrong', 'import time_travel: A Primer on Timezones in Python', 'Inside the Cheeseshop: How Python Packaging Works', 'Learning From Failure: Post Mortems', 'Listen, Attend, and Walk : Interpreting natural language navigational instructions', 'Love your bugs', 'One weird trick to becoming a better software developer', 'Oops! I Committed My Password To GitHub!', 'Performance Python: Seven Strategies for Optimizing Your Numerical Code', 'Pipenv: The Future of Python Dependency Management', 'Practical Sphinx', 'Programming microbes using Python', 'Pumping up Python modules using Rust', 'Python 2 to 3: How to Upgrade and What Features to Start Using', 'Python 3: ten years later', 'Python across the USA: This is the Bus.', 'Python Data Sonification for Science and Discovery', 'Python for the quantum computing age', 'Python, Locales and Writing Systems', 'Python Performance Investigation by Example', 'Randomness in Python: Controlled Chaos in an Ordered Machine', 'Reactive Programming with RxPy', 'Reinventing the Parser Generator', 'Secrets of a WSGI master.', 'Software Library APIs: Lessons Learned from scikit-learn', 'Solve Your Problem With Sloppy Python', 'Strategies to Edit Production Data', 'Surviving (and thriving!) when you are overloaded', 'Systemd: why you should care as a Python developer', 'Taking Django Async', 'The AST and Me', 'The Hare Wins the Race: Getting the most out of RabbitMQ in distributed applications', 'The human nature of failure & resiliency', 'Trust the data to speak for itself', 'The Journey Over the Intermediate Gap', 'There and Back Again: Disable and re-enable garbage collector at Instagram', 'Thinking Outside the GIL with AsyncIO and Multiprocessing', 'Trio: Async concurrency for mere mortals', 'Type-checked Python in the real world', 'Types, Deeper Static Analysis, and you', 'User focused API Design', 'Using Python to build an AI to play and win SNES StreetFighter II', 'Visualizing Algorithms with Python and Programmable LEDs', 'Visual Testing with PyCharm and pytest', 'What is a Python Core Developer?', '\"WHAT IS THIS MESS?\" - Writing tests for pre-existing code bases', 'Win back lovely API: GraphQL in Python', \"You're an expert. Here's how to teach like one.\"]\n"
          ],
          "name": "stdout"
        }
      ]
    },
    {
      "metadata": {
        "id": "I21jcEnK4IN7",
        "colab_type": "text"
      },
      "cell_type": "markdown",
      "source": [
        "### 2. List Comprehension"
      ]
    },
    {
      "metadata": {
        "id": "qaXe9UldAs3H",
        "colab_type": "code",
        "colab": {
          "base_uri": "https://localhost:8080/",
          "height": 54
        },
        "outputId": "e7fb4efb-8785-4735-ce07-882e8bb50399"
      },
      "cell_type": "code",
      "source": [
        "titles = [tag.text.strip() \n",
        "          for tag in soup.select('h2')]\n",
        "print(titles)"
      ],
      "execution_count": 8,
      "outputs": [
        {
          "output_type": "stream",
          "text": [
            "['A Bit about Bytes: Understanding Python Bytecode', 'Adapting from Spark to Dask: what to expect', 'All in the timing: How side channel attacks work', 'Analyzing Data: What pandas and SQL Taught Me About Taking an Average', 'A practical guide to Singular Value Decomposition in Python', 'Augmenting Human Decision Making with Data Science', 'Automating Code Quality', 'Bayesian Non-parametric Models for Data Science using PyMC3', 'Behavior-Driven Python', \"Beyond scraping: how to use machine learning when you're not sure where to start\", 'Beyond Unit Tests: Taking Your Testing to the Next Level', 'Big-O: How Code Slows as Data Grows', 'Birding with Python and Machine Learning', 'Bowerbirds of Technology: Architecture and Teams at Less-than-Google Scale', 'Building a cross-platform native app with BeeWare', 'Building a Data Pipeline with Testing in Mind', 'Build Teams as an Engineer', 'By the Numbers: Python Community Trends in 2017/2018', 'Clearer Code at Scale: Static Types at Zulip and Dropbox', 'Code like an accountant: Designing data systems for accuracy, resilience and auditability', 'Code Reviews Using Art Critique Principles', 'Coding through Adversity', 'Colossal Cave Adventure in Python... in the browser!', 'Controlling apples with snakes: Automating mobile apps with Appium', 'Counter, Gauge, Upper 90 - Oh my!', 'CuPy: A NumPy-compatible Library for GPU', 'Dataclasses:  The code generator to end all code generators', 'Data Visualization in Mixed Reality with Python', 'Debugging PySpark -- Or trying to make sense of a JVM stack trace when you were minding your own bus', 'Deconstructing the US Patent Database', 'Democratizing Distributed Computing with Dask and JupyterHub', 'Demystifying the Patch Function', \"Don't Look Back in Anger: Wildman Whitehouse and the Great Failure of 1858\", 'Easy 2D Game Creation With Arcade', 'Efficient shared memory data structures', 'Effortless Logging: A deep dive into the logging module', 'Elegant Solutions For Everyday Python Problems', 'Exploring Deep Learning Framework PyTorch', 'Fighting Gerrymandering with PyMC3', 'Fighting the Good Fight: Python 3 in your organization', 'Flourishing FLOSS: Making Your Project Successful', 'Get your resources faster, with importlib.resources', 'Graph Databases: Talking about your Data Relationships with Python', 'How Netflix does failovers in 7 minutes flat', 'HOWTO Write a Function', 'How to Write Deployment-friendly Applications', 'How we designed an inclusivity-first conference on a shoestring budget and short timeline', 'How We Do Identity Wrong', 'import time_travel: A Primer on Timezones in Python', 'Inside the Cheeseshop: How Python Packaging Works', 'Learning From Failure: Post Mortems', 'Listen, Attend, and Walk : Interpreting natural language navigational instructions', 'Love your bugs', 'One weird trick to becoming a better software developer', 'Oops! I Committed My Password To GitHub!', 'Performance Python: Seven Strategies for Optimizing Your Numerical Code', 'Pipenv: The Future of Python Dependency Management', 'Practical Sphinx', 'Programming microbes using Python', 'Pumping up Python modules using Rust', 'Python 2 to 3: How to Upgrade and What Features to Start Using', 'Python 3: ten years later', 'Python across the USA: This is the Bus.', 'Python Data Sonification for Science and Discovery', 'Python for the quantum computing age', 'Python, Locales and Writing Systems', 'Python Performance Investigation by Example', 'Randomness in Python: Controlled Chaos in an Ordered Machine', 'Reactive Programming with RxPy', 'Reinventing the Parser Generator', 'Secrets of a WSGI master.', 'Software Library APIs: Lessons Learned from scikit-learn', 'Solve Your Problem With Sloppy Python', 'Strategies to Edit Production Data', 'Surviving (and thriving!) when you are overloaded', 'Systemd: why you should care as a Python developer', 'Taking Django Async', 'The AST and Me', 'The Hare Wins the Race: Getting the most out of RabbitMQ in distributed applications', 'The human nature of failure & resiliency', 'Trust the data to speak for itself', 'The Journey Over the Intermediate Gap', 'There and Back Again: Disable and re-enable garbage collector at Instagram', 'Thinking Outside the GIL with AsyncIO and Multiprocessing', 'Trio: Async concurrency for mere mortals', 'Type-checked Python in the real world', 'Types, Deeper Static Analysis, and you', 'User focused API Design', 'Using Python to build an AI to play and win SNES StreetFighter II', 'Visualizing Algorithms with Python and Programmable LEDs', 'Visual Testing with PyCharm and pytest', 'What is a Python Core Developer?', '\"WHAT IS THIS MESS?\" - Writing tests for pre-existing code bases', 'Win back lovely API: GraphQL in Python', \"You're an expert. Here's how to teach like one.\"]\n"
          ],
          "name": "stdout"
        }
      ]
    },
    {
      "metadata": {
        "id": "2kn8pxL-4yMG",
        "colab_type": "text"
      },
      "cell_type": "markdown",
      "source": [
        "### 3. Filter with named function"
      ]
    },
    {
      "metadata": {
        "id": "ywLqqFJNAvFm",
        "colab_type": "code",
        "colab": {}
      },
      "cell_type": "code",
      "source": [
        ""
      ],
      "execution_count": 0,
      "outputs": []
    },
    {
      "metadata": {
        "id": "IPIT6oXz40Q3",
        "colab_type": "text"
      },
      "cell_type": "markdown",
      "source": [
        "### 4. Filter with anonymous function"
      ]
    },
    {
      "metadata": {
        "id": "giIcFYkiAwiR",
        "colab_type": "code",
        "colab": {}
      },
      "cell_type": "code",
      "source": [
        ""
      ],
      "execution_count": 0,
      "outputs": []
    },
    {
      "metadata": {
        "id": "qj8Yod8_45z4",
        "colab_type": "text"
      },
      "cell_type": "markdown",
      "source": [
        "### 5. Pandas\n",
        "\n",
        "pandas documentation: [Working with Text Data](https://pandas.pydata.org/pandas-docs/stable/text.html)"
      ]
    },
    {
      "metadata": {
        "id": "yRwPEHNcAzc_",
        "colab_type": "code",
        "colab": {}
      },
      "cell_type": "code",
      "source": [
        ""
      ],
      "execution_count": 0,
      "outputs": []
    },
    {
      "metadata": {
        "id": "8YaUZJvRp681",
        "colab_type": "text"
      },
      "cell_type": "markdown",
      "source": [
        "## Make new dataframe columns\n",
        "\n",
        "pandas documentation: [apply](https://pandas.pydata.org/pandas-docs/stable/generated/pandas.Series.apply.html)"
      ]
    },
    {
      "metadata": {
        "id": "DR_WZ-olA4-v",
        "colab_type": "code",
        "colab": {}
      },
      "cell_type": "code",
      "source": [
        ""
      ],
      "execution_count": 0,
      "outputs": []
    },
    {
      "metadata": {
        "id": "Ua74pMrGrsZR",
        "colab_type": "text"
      },
      "cell_type": "markdown",
      "source": [
        "### title length"
      ]
    },
    {
      "metadata": {
        "id": "p-Euz7tgA8Fd",
        "colab_type": "code",
        "colab": {}
      },
      "cell_type": "code",
      "source": [
        ""
      ],
      "execution_count": 0,
      "outputs": []
    },
    {
      "metadata": {
        "id": "OgsKArXPrz5n",
        "colab_type": "text"
      },
      "cell_type": "markdown",
      "source": [
        "### long title"
      ]
    },
    {
      "metadata": {
        "id": "b_WCRvvKA-IP",
        "colab_type": "code",
        "colab": {}
      },
      "cell_type": "code",
      "source": [
        ""
      ],
      "execution_count": 0,
      "outputs": []
    },
    {
      "metadata": {
        "id": "TonCXYPesUsT",
        "colab_type": "text"
      },
      "cell_type": "markdown",
      "source": [
        "### first letter"
      ]
    },
    {
      "metadata": {
        "id": "fhO4aABpBBgA",
        "colab_type": "code",
        "colab": {}
      },
      "cell_type": "code",
      "source": [
        ""
      ],
      "execution_count": 0,
      "outputs": []
    },
    {
      "metadata": {
        "id": "Etz1XeLKs6DL",
        "colab_type": "text"
      },
      "cell_type": "markdown",
      "source": [
        "### word count\n",
        "\n",
        "Using [`textstat`](https://github.com/shivam5992/textstat)"
      ]
    },
    {
      "metadata": {
        "id": "GVIkRWchs4zR",
        "colab_type": "code",
        "colab": {}
      },
      "cell_type": "code",
      "source": [
        "!pip install textstat"
      ],
      "execution_count": 0,
      "outputs": []
    },
    {
      "metadata": {
        "id": "mY_M_MuaBFrF",
        "colab_type": "code",
        "colab": {}
      },
      "cell_type": "code",
      "source": [
        ""
      ],
      "execution_count": 0,
      "outputs": []
    },
    {
      "metadata": {
        "id": "UN_7FABhwDqc",
        "colab_type": "text"
      },
      "cell_type": "markdown",
      "source": [
        "## Rename column\n",
        "\n",
        "`title length` --> `title character count`\n",
        "\n",
        "pandas documentation: [rename](https://pandas.pydata.org/pandas-docs/stable/generated/pandas.DataFrame.rename.html)"
      ]
    },
    {
      "metadata": {
        "id": "jvTif7sBBMpN",
        "colab_type": "code",
        "colab": {}
      },
      "cell_type": "code",
      "source": [
        ""
      ],
      "execution_count": 0,
      "outputs": []
    },
    {
      "metadata": {
        "id": "ca2pDtytr5tR",
        "colab_type": "text"
      },
      "cell_type": "markdown",
      "source": [
        "## Analyze the dataframe"
      ]
    },
    {
      "metadata": {
        "id": "AitNVDCFwWwc",
        "colab_type": "text"
      },
      "cell_type": "markdown",
      "source": [
        "### Describe\n",
        "\n",
        "pandas documentation: [describe](https://pandas.pydata.org/pandas-docs/stable/generated/pandas.DataFrame.describe.html)"
      ]
    },
    {
      "metadata": {
        "id": "yPo9RdxYBQ64",
        "colab_type": "code",
        "colab": {}
      },
      "cell_type": "code",
      "source": [
        ""
      ],
      "execution_count": 0,
      "outputs": []
    },
    {
      "metadata": {
        "id": "T0lc_o-xyjZU",
        "colab_type": "text"
      },
      "cell_type": "markdown",
      "source": [
        "### Sort values\n",
        "\n",
        "pandas documentation: [sort_values](https://pandas.pydata.org/pandas-docs/stable/generated/pandas.DataFrame.sort_values.html)"
      ]
    },
    {
      "metadata": {
        "id": "kxE2swJ9-cG_",
        "colab_type": "text"
      },
      "cell_type": "markdown",
      "source": [
        "Five shortest titles, by character count"
      ]
    },
    {
      "metadata": {
        "id": "7t8DlpLhBVQa",
        "colab_type": "code",
        "colab": {}
      },
      "cell_type": "code",
      "source": [
        ""
      ],
      "execution_count": 0,
      "outputs": []
    },
    {
      "metadata": {
        "id": "NOEH4Ef5-kvo",
        "colab_type": "text"
      },
      "cell_type": "markdown",
      "source": [
        "Titles sorted reverse alphabetically"
      ]
    },
    {
      "metadata": {
        "id": "WkymeWDjBV8X",
        "colab_type": "code",
        "colab": {}
      },
      "cell_type": "code",
      "source": [
        ""
      ],
      "execution_count": 0,
      "outputs": []
    },
    {
      "metadata": {
        "id": "e4wr42FB0GV-",
        "colab_type": "text"
      },
      "cell_type": "markdown",
      "source": [
        "### Get value counts\n",
        "\n",
        "pandas documentation: [value_counts](https://pandas.pydata.org/pandas-docs/stable/generated/pandas.Series.value_counts.html)\n"
      ]
    },
    {
      "metadata": {
        "id": "D81LNGaI-6ya",
        "colab_type": "text"
      },
      "cell_type": "markdown",
      "source": [
        "Frequency counts of first letters"
      ]
    },
    {
      "metadata": {
        "id": "AdTQYsRKBZio",
        "colab_type": "code",
        "colab": {}
      },
      "cell_type": "code",
      "source": [
        ""
      ],
      "execution_count": 0,
      "outputs": []
    },
    {
      "metadata": {
        "id": "04NVokvTAwqK",
        "colab_type": "text"
      },
      "cell_type": "markdown",
      "source": [
        "Percentage of talks with long titles"
      ]
    },
    {
      "metadata": {
        "id": "uS8qp4hrBat6",
        "colab_type": "code",
        "colab": {}
      },
      "cell_type": "code",
      "source": [
        ""
      ],
      "execution_count": 0,
      "outputs": []
    },
    {
      "metadata": {
        "id": "mmYZL2QL0lgd",
        "colab_type": "text"
      },
      "cell_type": "markdown",
      "source": [
        "### Plot\n",
        "\n",
        "pandas documentation: [Visualization](https://pandas.pydata.org/pandas-docs/stable/visualization.html)\n",
        "\n",
        "\n",
        "\n"
      ]
    },
    {
      "metadata": {
        "id": "c6gCotA9_B68",
        "colab_type": "text"
      },
      "cell_type": "markdown",
      "source": [
        "Top 5 most frequent first letters"
      ]
    },
    {
      "metadata": {
        "id": "DUmcVcdXBdkw",
        "colab_type": "code",
        "colab": {}
      },
      "cell_type": "code",
      "source": [
        ""
      ],
      "execution_count": 0,
      "outputs": []
    },
    {
      "metadata": {
        "id": "_Ngegk0bASty",
        "colab_type": "text"
      },
      "cell_type": "markdown",
      "source": [
        "Histogram of title lengths, in characters"
      ]
    },
    {
      "metadata": {
        "id": "y5oLu2D4BeKw",
        "colab_type": "code",
        "colab": {}
      },
      "cell_type": "code",
      "source": [
        ""
      ],
      "execution_count": 0,
      "outputs": []
    },
    {
      "metadata": {
        "id": "DiylH7LQw44u",
        "colab_type": "text"
      },
      "cell_type": "markdown",
      "source": [
        "# Assignment\n",
        "\n",
        "**Scrape** the talk descriptions. Hint: `soup.select('.presentation-description')`\n",
        "\n",
        "**Make** new columns in the dataframe:\n",
        "- description\n",
        "- description character count\n",
        "- description word count\n",
        "- description grade level (use [this `textstat` function](https://github.com/shivam5992/textstat#the-flesch-kincaid-grade-level) to get the Flesh-Kincaid grade level)\n",
        "\n",
        "**Describe** all the dataframe's columns. What's the average description word count? The minimum? The maximum?\n",
        "\n",
        "**Answer** these questions:\n",
        "- Which descriptions could fit in a tweet?\n",
        "- What's the distribution of grade levels? Plot a histogram.\n",
        "\n"
      ]
    },
    {
      "metadata": {
        "id": "z2Gr0dlWbhV3",
        "colab_type": "code",
        "colab": {}
      },
      "cell_type": "code",
      "source": [
        "'''\n",
        "Make new columns in the dataframe:\n",
        "\n",
        "description\n",
        "description character count\n",
        "description word count\n",
        "description grade level (use this textstat function to get the Flesh-Kincaid grade level)\n",
        "'''\n",
        "\n",
        "# Add columns\n",
        "df['Name'] = ['Jacky Jackson', 'Steven Stevenson']\n",
        "df['Age'] = [38, 25]\n",
        "df['Driver'] = [True, False]"
      ],
      "execution_count": 0,
      "outputs": []
    }
  ]
}