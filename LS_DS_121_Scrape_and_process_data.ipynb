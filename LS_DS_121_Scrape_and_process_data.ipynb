{
  "nbformat": 4,
  "nbformat_minor": 0,
  "metadata": {
    "colab": {
      "name": "LS_DS_121_Scrape_and_process_data.ipynb",
      "version": "0.3.2",
      "provenance": [],
      "collapsed_sections": [],
      "include_colab_link": true
    },
    "kernelspec": {
      "display_name": "Python 3",
      "language": "python",
      "name": "python3"
    }
  },
  "cells": [
    {
      "cell_type": "markdown",
      "metadata": {
        "id": "view-in-github",
        "colab_type": "text"
      },
      "source": [
        "<a href=\"https://colab.research.google.com/github/JLDaniel77/DS-Unit-1-Sprint-2-Data-Wrangling/blob/master/LS_DS_121_Scrape_and_process_data.ipynb\" target=\"_parent\"><img src=\"https://colab.research.google.com/assets/colab-badge.svg\" alt=\"Open In Colab\"/></a>"
      ]
    },
    {
      "metadata": {
        "colab_type": "text",
        "id": "oR4Yeg3P07gu"
      },
      "cell_type": "markdown",
      "source": [
        "_Lambda School Data Science_\n",
        "\n",
        "# Scrape and process data\n",
        "\n",
        "Objectives\n",
        "- scrape and parse web pages\n",
        "- use list comprehensions\n",
        "- select rows and columns with pandas\n",
        "\n",
        "Links\n",
        "-  [Automate the Boring Stuff with Python, Chapter 11](https://automatetheboringstuff.com/chapter11/)\n",
        "  - Requests\n",
        "  - Beautiful Soup\n",
        "- [Python List Comprehensions: Explained Visually](https://treyhunner.com/2015/12/python-list-comprehensions-now-in-color/)\n",
        "- [Pandas Cheat Sheet](https://github.com/pandas-dev/pandas/blob/master/doc/cheatsheet/Pandas_Cheat_Sheet.pdf)\n",
        "  - Subset Observations (Rows)\n",
        "  - Subset Variables (Columns)\n",
        "- Python Data Science Handbook\n",
        "  - [Chapter 3.1](https://jakevdp.github.io/PythonDataScienceHandbook/03.01-introducing-pandas-objects.html), Introducing Pandas Objects\n",
        "  - [Chapter 3.2](https://jakevdp.github.io/PythonDataScienceHandbook/03.02-data-indexing-and-selection.html), Data Indexing and Selection\n"
      ]
    },
    {
      "metadata": {
        "colab_type": "text",
        "id": "I_NRVchqgGvM"
      },
      "cell_type": "markdown",
      "source": [
        "## Scrape the titles of PyCon 2019 talks"
      ]
    },
    {
      "metadata": {
        "colab_type": "code",
        "id": "3elw_8Nc7Tpe",
        "colab": {}
      },
      "cell_type": "code",
      "source": [
        "url = 'https://us.pycon.org/2019/schedule/talks/list/'"
      ],
      "execution_count": 0,
      "outputs": []
    },
    {
      "metadata": {
        "colab_type": "code",
        "id": "SFNsyjVsTU4b",
        "colab": {}
      },
      "cell_type": "code",
      "source": [
        "import requests, bs4"
      ],
      "execution_count": 0,
      "outputs": []
    },
    {
      "metadata": {
        "id": "96nKjyqfoBmQ",
        "colab_type": "code",
        "colab": {}
      },
      "cell_type": "code",
      "source": [
        "result = requests.get(url)"
      ],
      "execution_count": 0,
      "outputs": []
    },
    {
      "metadata": {
        "id": "PlkEUp-RoIVy",
        "colab_type": "code",
        "outputId": "23d11760-dd03-40ff-a915-e09e2e16a28b",
        "colab": {
          "base_uri": "https://localhost:8080/",
          "height": 35
        }
      },
      "cell_type": "code",
      "source": [
        "result"
      ],
      "execution_count": 0,
      "outputs": [
        {
          "output_type": "execute_result",
          "data": {
            "text/plain": [
              "<Response [200]>"
            ]
          },
          "metadata": {
            "tags": []
          },
          "execution_count": 204
        }
      ]
    },
    {
      "metadata": {
        "id": "CYiOaDGaoMYx",
        "colab_type": "code",
        "outputId": "2de1ee7c-0f3b-46e3-ca6c-de437d7ffcdf",
        "colab": {
          "base_uri": "https://localhost:8080/",
          "height": 35
        }
      },
      "cell_type": "code",
      "source": [
        "type(result)"
      ],
      "execution_count": 0,
      "outputs": [
        {
          "output_type": "execute_result",
          "data": {
            "text/plain": [
              "requests.models.Response"
            ]
          },
          "metadata": {
            "tags": []
          },
          "execution_count": 205
        }
      ]
    },
    {
      "metadata": {
        "id": "PRSWOoD7oX9f",
        "colab_type": "code",
        "outputId": "9915c6a6-a9c7-4e4a-d7a6-b24e1169817d",
        "colab": {
          "base_uri": "https://localhost:8080/",
          "height": 55
        }
      },
      "cell_type": "code",
      "source": [
        "result.text"
      ],
      "execution_count": 0,
      "outputs": [
        {
          "output_type": "execute_result",
          "data": {
            "text/plain": [
              "'<!doctype html>\\n<html>\\n<head>\\n\\n\\n\\n\\n\\n\\n\\n\\n\\n\\n\\n\\n<title>Talks | PyCon 2019 in Cleveland, Ohio</title>\\n\\n    <meta name=\"viewport\" content=\"width=device-width, initial-scale=1\">\\n\\n    <link href=\"https://fonts.googleapis.com/css?family=Montserrat:300,400,500,600,900\" rel=\"stylesheet\">\\n    <link rel=\"stylesheet\" type=\"text/css\" media=\"all\" href=\"/2019/site_media/static/css/slight.673caeca693d.css\"/>\\n    \\n\\n\\n<link rel=\"stylesheet\" type=\"text/css\" href=\"//ajax.googleapis.com/ajax/libs/jqueryui/1.10.4/themes/smoothness/jquery-ui.css\" />\\n<link rel=\"stylesheet\" type=\"text/css\" href=\"/2019/site_media/static/css/jquery.markedit.73000ed650c8.css\" />\\n\\n    \\n    <link rel=\"stylesheet\" type=\"text/css\" media=\"all\" href=\"/2019/site_media/static/css/simple-grid.d1149de00d41.css\"/>\\n\\n\\n\\n    <meta property=\"og:image\" content=\"/2019/site_media/static/img/pycon2019.fa9f6ec45f42.png\" />\\n    <link href=\"/2019/site_media/static/img/pycon2019.fa9f6ec45f42.png\" rel=\"shortcut icon\" />\\n    <script src=\"//ajax.googleapis.com/ajax/libs/jquery/1.11.1/jquery.min.js\"></script>\\n    <script>\\n      $(document).on(\\'click\\', \\'.message button\\', function(event) {\\n        $(this).parent().hide();\\n        return false;\\n      });\\n    </script>\\n\\n    <script src=\"/2019/site_media/static/js/site.1e95633d4318.js\"></script>\\n\\n    \\n<script src=\"//ajax.googleapis.com/ajax/libs/jqueryui/1.10.4/jquery-ui.js\"></script>\\n<script src=\"/2019/site_media/static/js/jquery.markedit.79fbfdd97d6f.js\"></script>\\n<script src=\"/2019/site_media/static/js/showdown.030607cd542f.js\"></script>\\n\\n    \\n  \\n<script src=\"//ajax.googleapis.com/ajax/libs/jqueryui/1.10.4/jquery-ui.js\"></script>\\n<script src=\"/2019/site_media/static/js/jquery.markedit.79fbfdd97d6f.js\"></script>\\n<script src=\"/2019/site_media/static/js/showdown.030607cd542f.js\"></script>\\n\\n  <script type=\"text/javascript\">\\n    $(function () {\\n      var converter = new Attacklab.showdown.converter();\\n      $(\\'.presentation-description\\').each(function() {\\n        $(this).html(converter.makeHtml($(this).text()));\\n      });\\n    });\\n  </script>\\n\\n    <meta name=\"google-site-verification\" content=\"fG_DG4G4eFtBcgIKht-bJKdirGhDa_51X6yeCS8daDs\" />\\n\\n\\n\\n\\n</head>\\n<body class=\"presentation-list\">\\n\\n\\n    \\n    \\n\\n\\n\\n\\n\\n<div id=\"content-wrapper\"> <!-- wrap everything but footer for sticky footer -->\\n  <header class=\"header-container\">\\n    \\n\\n\\n\\n<div class=\"account-nav-container\">\\n    <div class=\"max-width-container\">\\n        \\n            <a class=\"login\" href=\"/2019/account/login/\">Log In</a>\\n            <a class=\"signup\" href=\"/2019/account/signup/\">Sign Up</a>\\n        \\n    </div>\\n</div>\\n\\n    \\n      <a class=\"logo-banner\" href=\"/2019/\">\\n        <img src=\"/2019/site_media/static/img/website-header-wordmark.c1c0544d5b20.svg\" alt=\"PyCon 2019 in Cleveland, Ohio\">\\n      </a>\\n    \\n    \\n\\n<div class=\"nav-container\">\\n    <a href=\"#!\" tabindex=\"0\" id=\"nav-toggle\" class=\"nav-toggle\" role=\"button\">\\n        Menu\\n    </a>\\n    <nav id=\"nav\" class=\"primary-site-nav\">\\n        <ul class=\"nav-primary-list\">\\n            \\n                <li class=\"has-dropdown \">\\n                    <a href=\"#!\" class=\"nav-primary-link\" role=\"button\">About PyCon</a>\\n                    \\n                        \\n<ul class=\"dropdown-menu\">\\n    \\n        <li >\\n            <a href=\"/2019/about/\" >What is PyCon?</a>\\n        </li>\\n    \\n        <li >\\n            <a href=\"/2019/about/code-of-conduct/\" >Code of Conduct</a>\\n        </li>\\n    \\n        <li >\\n            <a href=\"/2019/about/diversity/\" >Diversity</a>\\n        </li>\\n    \\n        <li >\\n            <a href=\"/2019/about/staff/\" >Staff Information</a>\\n        </li>\\n    \\n        <li >\\n            <a href=\"/2019/sitemap/\" >Site Map</a>\\n        </li>\\n    \\n</ul>\\n                    \\n                </li>\\n            \\n                <li class=\"has-dropdown \">\\n                    <a href=\"#!\" class=\"nav-primary-link\" role=\"button\">PSF</a>\\n                    \\n                        \\n<ul class=\"dropdown-menu\">\\n    \\n        <li >\\n            <a href=\"/2019/psf/\" >Python Software Foundation</a>\\n        </li>\\n    \\n</ul>\\n                    \\n                </li>\\n            \\n                <li class=\"has-dropdown active\">\\n                    <a href=\"#!\" class=\"nav-primary-link\" role=\"button\">Schedule</a>\\n                    \\n                        \\n<ul class=\"dropdown-menu\">\\n    \\n        <li >\\n            <a href=\"/2019/schedule/tutorials\" >Tutorial Schedule (Wed–Thu)</a>\\n        </li>\\n    \\n        <li >\\n            <a href=\"/2019/schedule/sponsor-tutorials/\" >Sponsor Workshops (Thu)</a>\\n        </li>\\n    \\n        <li >\\n            <a href=\"/2019/schedule/edusummits/\" >Education Summit (Thursday)</a>\\n        </li>\\n    \\n        <li >\\n            <a href=\"/2019/schedule/talks/\" >Talk Schedule (Fri–Sun)</a>\\n        </li>\\n    \\n        <li >\\n            <a href=\"/2019/schedule/posters/list/\" >Posters (Sunday morning)</a>\\n        </li>\\n    \\n        <li class=\"active\">\\n            <a href=\"/2019/schedule/talks/list/\" >List of Talks</a>\\n        </li>\\n    \\n        <li >\\n            <a href=\"/2019/schedule/sponsor-tutorials/list/\" >List of Sponsor Workshops</a>\\n        </li>\\n    \\n        <li >\\n            <a href=\"/2019/schedule/tutorials/list/\" >List of Tutorials</a>\\n        </li>\\n    \\n        <li >\\n            <a href=\"/2019/schedule/edusummits/list\" >List of Education Summit Talks</a>\\n        </li>\\n    \\n</ul>\\n                    \\n                </li>\\n            \\n                <li class=\"has-dropdown \">\\n                    <a href=\"#!\" class=\"nav-primary-link\" role=\"button\">Events</a>\\n                    \\n                        \\n<ul class=\"dropdown-menu\">\\n    \\n        <li >\\n            <a href=\"/2019/events/opening-reception/\" >Opening Reception</a>\\n        </li>\\n    \\n        <li >\\n            <a href=\"/2019/events/dinners/\" >Evening Dinners</a>\\n        </li>\\n    \\n        <li >\\n            <a href=\"/2019/events/edusummit/\" >Education Summit</a>\\n        </li>\\n    \\n        <li >\\n            <a href=\"/2019/startuprow/\" >Startup Row</a>\\n        </li>\\n    \\n        <li >\\n            <a href=\"/2019/sponsors/jobs/\" >Job Fair / Job Listings</a>\\n        </li>\\n    \\n        <li >\\n            <a href=\"/2019/events/open-spaces/\" >Open Spaces</a>\\n        </li>\\n    \\n        <li >\\n            <a href=\"/2019/5k/\" >PyCon Fun Run/Walk</a>\\n        </li>\\n    \\n        <li >\\n            <a href=\"/2019/events/auction/\" >PyLadies Auction</a>\\n        </li>\\n    \\n        <li >\\n            <a href=\"/2019/community/sprints/\" >Development Sprints</a>\\n        </li>\\n    \\n        <li >\\n            <a href=\"/2019/events/language-summit/\" >Python Language Summit</a>\\n        </li>\\n    \\n        <li >\\n            <a href=\"/2019/events/django_girls_workshop/\" >Django Girls Workshop</a>\\n        </li>\\n    \\n        <li >\\n            <a href=\"/2019/events/letslearnpython/\" >Young Coders </a>\\n        </li>\\n    \\n        <li >\\n            <a href=\"/2019/events/pyladieslunch/\" >PyLadies Lunch</a>\\n        </li>\\n    \\n        <li >\\n            <a href=\"/2019/events/newcomer_orientation\" >Newcomer Orientation</a>\\n        </li>\\n    \\n</ul>\\n                    \\n                </li>\\n            \\n                <li class=\"has-dropdown \">\\n                    <a href=\"#!\" class=\"nav-primary-link\" role=\"button\">Speaking</a>\\n                    \\n                        \\n<ul class=\"dropdown-menu\">\\n    \\n        <li >\\n            <a href=\"/2019/speaking/\" >Overview</a>\\n        </li>\\n    \\n        <li >\\n            <a href=\"/2019/speaking/talks/\" >Proposing a Talk</a>\\n        </li>\\n    \\n        <li >\\n            <a href=\"/2019/hatchery/charlas/\" >Las PyCon Charlas</a>\\n        </li>\\n    \\n        <li >\\n            <a href=\"/2019/speaking/posters/\" >Proposing a Poster</a>\\n        </li>\\n    \\n        <li >\\n            <a href=\"/2019/speaking/tutorials/\" >Proposing a Tutorial</a>\\n        </li>\\n    \\n        <li >\\n            <a href=\"/2019/speaking/education-summit\" >Proposing Edu Summit Talk</a>\\n        </li>\\n    \\n        <li >\\n            <a href=\"/2019/speaking/recording/\" >Recording Release</a>\\n        </li>\\n    \\n</ul>\\n                    \\n                </li>\\n            \\n                <li class=\"has-dropdown \">\\n                    <a href=\"#!\" class=\"nav-primary-link\" role=\"button\">Hatchery</a>\\n                    \\n                        \\n<ul class=\"dropdown-menu\">\\n    \\n        <li >\\n            <a href=\"/2019/hatchery\" >Call for Proposals</a>\\n        </li>\\n    \\n        <li >\\n            <a href=\"/2019/hatchery/maintainers\" >Maintainers Summit</a>\\n        </li>\\n    \\n        <li >\\n            <a href=\"/2019/hatchery/mentoredsprints\" >Mentored Sprints</a>\\n        </li>\\n    \\n        <li >\\n            <a href=\"/2019/hatchery/artofpython\" >The Art of Python</a>\\n        </li>\\n    \\n</ul>\\n                    \\n                </li>\\n            \\n                <li class=\"has-dropdown \">\\n                    <a href=\"#!\" class=\"nav-primary-link\" role=\"button\">Sponsors</a>\\n                    \\n                        \\n<ul class=\"dropdown-menu\">\\n    \\n        <li >\\n            <a href=\"/2019/sponsors/\" >Our Sponsors</a>\\n        </li>\\n    \\n        <li >\\n            <a href=\"/2019/sponsors/why-sponsor/\" >Why sponsor PyCon?</a>\\n        </li>\\n    \\n        <li >\\n            <a href=\"/2019/sponsors/prospectus/\" >Prospectus</a>\\n        </li>\\n    \\n        <li >\\n            <a href=\"/2019/sponsors/apply/\" >Application Form</a>\\n        </li>\\n    \\n        <li >\\n            <a href=\"/2019/sponsors/fees/\" >Estimated Sponsor Fees</a>\\n        </li>\\n    \\n        <li >\\n            <a href=\"/2019/sponsors/exhibit-hall/\" >Exhibit Hall</a>\\n        </li>\\n    \\n        <li >\\n            <a href=\"/2019/sponsors/faq/\" >Sponsor FAQ</a>\\n        </li>\\n    \\n        <li >\\n            <a href=\"/2019/sponsors/information/\" >Sponsor Information</a>\\n        </li>\\n    \\n</ul>\\n                    \\n                </li>\\n            \\n                <li class=\"has-dropdown \">\\n                    <a href=\"#!\" class=\"nav-primary-link\" role=\"button\">Venue</a>\\n                    \\n                        \\n<ul class=\"dropdown-menu\">\\n    \\n        <li >\\n            <a href=\"/2019/venue/travel/\" >Traveling to Cleveland</a>\\n        </li>\\n    \\n        <li >\\n            <a href=\"/2019/venue/\" >Venue and Hotels</a>\\n        </li>\\n    \\n        <li >\\n            <a href=\"/2019/venue/weather/\" >Weather</a>\\n        </li>\\n    \\n        <li >\\n            <a href=\"/2019/venue/accessibility/\" >Accessibility</a>\\n        </li>\\n    \\n        <li >\\n            <a href=\"/2019/venue/recommendations/\" >Local Recommendations</a>\\n        </li>\\n    \\n        <li >\\n            <a href=\"/2019/venue/cle_events/\" >Cleveland Events During PyCon</a>\\n        </li>\\n    \\n        <li >\\n            <a href=\"/2019/venue/transit/\" >Public Transit</a>\\n        </li>\\n    \\n</ul>\\n                    \\n                </li>\\n            \\n                <li class=\"has-dropdown \">\\n                    <a href=\"#!\" class=\"nav-primary-link\" role=\"button\">Registration</a>\\n                    \\n                        \\n<ul class=\"dropdown-menu\">\\n    \\n        <li >\\n            <a href=\"/2019/registration/\" >Registration Information</a>\\n        </li>\\n    \\n        <li >\\n            <a href=\"/2019/registration/register\" >Register</a>\\n        </li>\\n    \\n        <li >\\n            <a href=\"/2019/childcare/\" >Childcare</a>\\n        </li>\\n    \\n        <li >\\n            <a href=\"/2019/financial-assistance/\" >Financial Assistance</a>\\n        </li>\\n    \\n        <li >\\n            <a href=\"/2019/community/roomsharing/\" >Room Sharing</a>\\n        </li>\\n    \\n</ul>\\n                    \\n                </li>\\n            \\n                <li class=\"has-dropdown \">\\n                    <a href=\"#!\" class=\"nav-primary-link\" role=\"button\">Volunteer!</a>\\n                    \\n                        \\n<ul class=\"dropdown-menu\">\\n    \\n        <li >\\n            <a href=\"/2019/about/volunteers\" >Volunteering on-site</a>\\n        </li>\\n    \\n</ul>\\n                    \\n                </li>\\n            \\n        </ul>\\n    </nav>\\n</div>\\n\\n  </header>\\n\\n  \\n\\n  \\n    <div id=\"content\" class=\"\">\\n        \\n          <div class=\"page-content\">\\n            \\n              <div class=\"container\">\\n                \\n                <h1>\\n    Talks\\n</h1>\\n                <div class=\"box\">\\n                  \\n                    <div class=\"box-content\">\\n  \\n\\n\\n\\n<script type=\"text/javascript\">\\n    $(function () {\\n        var mdown = $(\\'#content_schedule_detail_talks > div.markdown\\').text();\\n        var converter = new Attacklab.showdown.converter();\\n        var html = converter.makeHtml(mdown);\\n        $(\\'#content_schedule_detail_talks > div.markdown\\').html(html);\\n        $(\\'#content_schedule_detail_talks > a\\').click(function() {\\n            $(\\'#edit_schedule_detail_talks\\').toggle(\\'hide\\');\\n        });\\n    });\\n</script>\\n\\n\\n<div id=\"content_schedule_detail_talks\" class=\"content-box \">\\n    \\n    <div class=\"markdown\">&lt;center&gt;\\r\\n&lt;h2&gt;PyCon 2019 Talks Schedule&lt;/h2&gt;\\r\\n&lt;p&gt;See the schedule in grid form &lt;a href=&quot;/2019/schedule/talks&quot;&gt;here&lt;/a&gt;.&lt;/p&gt;\\r\\n&lt;/center&gt;</div>\\n</div>\\n\\n\\n\\n  \\n  \\n    <h2>\\n      <a id=\"presentation-235\"\\n         href=\"/2019/schedule/presentation/235/\">\\n        5 Steps to Build Python Native GUI Widgets for BeeWare\\n      </a>\\n    </h2>\\n    <p>\\n      <b>\\n        Dan Yeaw\\n        \\n      </b>\\n      \\n      <br>\\n      <b>\\n        Sunday\\n        2:30 p.m.&ndash;3 p.m.\\n        in\\n        Grand Ballroom A\\n      </b>\\n      \\n    </p>\\n    <div class=\"presentation-description\"\\n         >Have you ever wanted to write a GUI application in Python that you can run on both your laptop and your phone? Have you been looking to contribute to an open source project, but you don&#39;t know where to start?\\r\\n\\r\\nBeeWare is a set of software libraries for cross-platform native app development from a single Python codebase and tools to simplify app deployment. The project aims to build, deploy, and run apps for Windows, Linux, macOS, Android, iPhone, and the web. It is native because it is actually using your platform&#39;s native GUI widgets, not a theme, icon pack, or webpage wrapper.\\r\\n\\r\\nThis talk will teach you how Toga, the BeeWare GUI toolkit, is architected and then show you how you can contribute to Toga by creating your own GUI widget in five easy steps.</div>\\n  \\n    <h2>\\n      <a id=\"presentation-196\"\\n         href=\"/2019/schedule/presentation/196/\">\\n        8 things that happen at the dot:  Attribute Access &amp; Descriptors\\n      </a>\\n    </h2>\\n    <p>\\n      <b>\\n        Andy Fundinger\\n        \\n      </b>\\n      \\n      <br>\\n      <b>\\n        Saturday\\n        2:35 p.m.&ndash;3:05 p.m.\\n        in\\n        Room 26A/B/C\\n      </b>\\n      \\n    </p>\\n    <div class=\"presentation-description\"\\n         >We rarely think about the dot “.” between our objects and their fields, but there are quite a lot of things that happen every time we use one in Python. This talk will explore the details of what happens, how the descriptor protocol works, and how it can be used to alter the Python object model.\\r\\n</div>\\n  \\n    <h2>\\n      <a id=\"presentation-210\"\\n         href=\"/2019/schedule/presentation/210/\">\\n        Account Security Patterns: How Logged-In Are you?\\n      </a>\\n    </h2>\\n    <p>\\n      <b>\\n        Philip James, Asheesh Laroia\\n        \\n      </b>\\n      \\n      <br>\\n      <b>\\n        Sunday\\n        1:10 p.m.&ndash;1:40 p.m.\\n        in\\n        Grand Ballroom B\\n      </b>\\n      \\n    </p>\\n    <div class=\"presentation-description\"\\n         >Account security means making sure your users are only ones who can access their accounts. Account takeovers happen for a variety of reasons -- password re-use, compromised computers, guessable passwords, and more. This talk gives you concepts and concrete skills that will help you identify and prevent account takeovers and limit the damage. It’s inspired by practices in use at GitHub, Google, and the Python Package Index.\\r\\n</div>\\n  \\n    <h2>\\n      <a id=\"presentation-240\"\\n         href=\"/2019/schedule/presentation/240/\">\\n        Ace Your Technical Interview Using Python\\n      </a>\\n    </h2>\\n    <p>\\n      <b>\\n        Erin Allard\\n        \\n      </b>\\n      \\n      <br>\\n      <b>\\n        Sunday\\n        2:30 p.m.&ndash;3 p.m.\\n        in\\n        Atrium Ballroom AB\\n      </b>\\n      \\n    </p>\\n    <div class=\"presentation-description\"\\n         >Do you feel overwhelmed by the prospect of having to find a new software engineering job because you dread the technical interviewing process? Have you been putting off submitting your job applications because you think you won&#39;t be ready to interview until you do &quot;just one more&quot; day of studying? \\r\\n\\r\\nIn this talk, you&#39;ll learn which concepts are the most important to study for entry-level roles and how to use your Python skills to convey your understanding of these concepts with confidence and clarity. </div>\\n  \\n    <h2>\\n      <a id=\"presentation-161\"\\n         href=\"/2019/schedule/presentation/161/\">\\n        Advanced asyncio: Solving Real-world Production Problems\\n      </a>\\n    </h2>\\n    <p>\\n      <b>\\n        Lynn Root\\n        \\n      </b>\\n      \\n      <br>\\n      <b>\\n        Saturday\\n        12:10 p.m.&ndash;12:55 p.m.\\n        in\\n        Grand Ballroom C\\n      </b>\\n      \\n    </p>\\n    <div class=\"presentation-description\"\\n         >Everyone’s talking about it. Everyone’s using it. But most likely, they’re doing it wrong, just like we did.\\r\\n\\r\\nBy building a simplified chaos monkey service, we will walk through how to create a good foundation for an asyncio-based service, including graceful shutdowns, proper exception handling, and testing asynchronous code. We’ll get into the hairier topics as well, covering topics like working with synchronous code, debugging and profiling, and working with threaded code. We’ll learn how to approach asynchronous and concurrent programming with Python’s `asyncio` library, take away some best practices, and learn what pitfalls to avoid.</div>\\n  \\n    <h2>\\n      <a id=\"presentation-230\"\\n         href=\"/2019/schedule/presentation/230/\">\\n        A Guide to Software Engineering for Visually Impaired\\n      </a>\\n    </h2>\\n    <p>\\n      <b>\\n        Abrar Ahmed Sheikh\\n        \\n      </b>\\n      \\n      <br>\\n      <b>\\n        Friday\\n        3:15 p.m.&ndash;3:45 p.m.\\n        in\\n        Atrium Ballroom AB\\n      </b>\\n      \\n    </p>\\n    <div class=\"presentation-description\"\\n         >We will look into a day in the life of a Software Engineer with limited vision to Understand their difficulties at work and how they can overcome those difficulties to become successful in their role.\\r\\n\\r\\nI am a backend Software Engineer at Yelp who uses Python extensively for building Yelps infrastructure and internal tools. I also suffer from a genetic disorder called Albinism which often results in limited visual acuity that can range from 20/120 to 20/200 in most common cases. With such a low vision it&#39;s extremely difficult to read the computer screen without the use of on-screen magnifiers. In this talk, we will see how a person with adverse visual acuity can thrive and be successful in the field of Software Engineering. We will address the importance and meaning of accessibility for Software Engineers with partial vision and recommend some best practices that are available today. We will also talk about the importance of an inclusive work culture that can help foster creativity and ease ramp up for a Software Engineer with a disability.\\r\\n</div>\\n  \\n    <h2>\\n      <a id=\"presentation-157\"\\n         href=\"/2019/schedule/presentation/157/\">\\n        A Medieval DSL? Parsing Heraldic Blazons with Python!\\n      </a>\\n    </h2>\\n    <p>\\n      <b>\\n        Lady Red / Christopher Beacham\\n        \\n      </b>\\n      \\n      <br>\\n      <b>\\n        Saturday\\n        5:10 p.m.&ndash;5:40 p.m.\\n        in\\n        Grand Ballroom C\\n      </b>\\n      \\n    </p>\\n    <div class=\"presentation-description\"\\n         >Medieval European Nobility was obsessed with Lineage. They created a Heraldic System to track families, which assigned each family a unique Coat of Arms.\\r\\n\\r\\nAny painting of the Coat of Arms was not the official version. The official version was a &quot;Blazon&quot; - a precise, terse description in heraldic language.   This heraldic language reads like English, Latin, French, and XML had a baby.  It&#39;s a fully recursive language with a formal grammar, variable assignment, positional arguments, and also, Lions, Bears, and Pythons.\\r\\n\\r\\nHere&#39;s an example: _Sable, on a fesse or three lions gules_\\r\\n\\r\\nIn this talk, we look at parsing this Medieval _Domain Specific Language_ with Python. Along the way, we&#39;ll learn a little history, and the tools for parsing and writing your own DSL.\\r\\n</div>\\n  \\n    <h2>\\n      <a id=\"presentation-207\"\\n         href=\"/2019/schedule/presentation/207/\">\\n        A New Era in Python Governance\\n      </a>\\n    </h2>\\n    <p>\\n      <b>\\n        Shauna Gordon-McKeon\\n        \\n      </b>\\n      \\n      <br>\\n      <b>\\n        Sunday\\n        1:10 p.m.&ndash;1:40 p.m.\\n        in\\n        Grand Ballroom C\\n      </b>\\n      \\n    </p>\\n    <div class=\"presentation-description\"\\n         >In July of 2018, Guido van Rossum stepped down as “Benevolent Dictator for Life” of Python.  In December, Python core developers voted on a new governance structure to guide Python going forward.  This talk explores what’s changing and how it may impact the Python community.\\r\\n\\r\\nBased on analysis of the relevant PEPs and other documentation, and strengthened via a series of interviews with core developers and other community leaders, we’ll cover Python governance past, present and future.  Particular care will be taken to explain why the core developers chose the governance model they did, what the new system entails, and how community members can participate in it.</div>\\n  \\n    <h2>\\n      <a id=\"presentation-150\"\\n         href=\"/2019/schedule/presentation/150/\">\\n        API Evolution the Right Way\\n      </a>\\n    </h2>\\n    <p>\\n      <b>\\n        A. Jesse Jiryu Davis\\n        \\n      </b>\\n      \\n      <br>\\n      <b>\\n        Friday\\n        11:30 a.m.&ndash;noon\\n        in\\n        Grand Ballroom C\\n      </b>\\n      \\n    </p>\\n    <div class=\"presentation-description\"\\n         >If you maintain a library, how can you innovate without breaking the projects that depend on it? Follow semantic versioning, add APIs conservatively, add parameters compatibly, use DeprecationWarnings and publish a deprecation policy, guide your users on how to upgrade, and make wise choices about when to break backwards compatibility.</div>\\n  \\n    <h2>\\n      <a id=\"presentation-229\"\\n         href=\"/2019/schedule/presentation/229/\">\\n        A Right Stitch-up: Creating embroidery patterns with Pillow\\n      </a>\\n    </h2>\\n    <p>\\n      <b>\\n        Katie McLaughlin\\n        \\n      </b>\\n      \\n      <br>\\n      <b>\\n        Friday\\n        10:50 a.m.&ndash;11:20 a.m.\\n        in\\n        Atrium Ballroom AB\\n      </b>\\n      \\n    </p>\\n    <div class=\"presentation-description\"\\n         >Embroidery is an technology that dates back centuries, and still popular in the present day among craftspeople around the world. Cross-stitch refers to the creation of crosses in a grid that combine to build up an image, based on a &#39;chart&#39; or pattern of the intended design.\\r\\n\\r\\nEven though entire pieces could be created based on completely manual processes, much of the technology behind automating chart creation is locked behind paid software. \\r\\n\\r\\nDuring this presentation, we will discuss how we can leverage the Python Imaging Library (PIL, now Pillow) in order to take source images and turn them into cross-stitch charts. \\r\\n\\r\\nThe resulting art piece from the talk, the PyCon US 2019 logo, will be auctioned off at the PyLadies Charity Auction. Tickets to the Charity Auction available separately, see website for details. \\r\\n\\r\\n</div>\\n  \\n    <h2>\\n      <a id=\"presentation-153\"\\n         href=\"/2019/schedule/presentation/153/\">\\n        A Snake in the Bits: Security Automation with Python\\n      </a>\\n    </h2>\\n    <p>\\n      <b>\\n        Moses Schwartz, Andy Culler\\n        \\n      </b>\\n      \\n      <br>\\n      <b>\\n        Friday\\n        11:30 a.m.&ndash;noon\\n        in\\n        Atrium Ballroom AB\\n      </b>\\n      \\n    </p>\\n    <div class=\"presentation-description\"\\n         >Security incident response is an intense, high stress, high skill job that relies heavily on human judgement. Despite that, for reasons that we can&#39;t begin to understand, a big part of an incident responder&#39;s job seems to be opening numerous browser tabs and copy-pasting bits of text from one system to another. The hard parts of incident response can&#39;t be automated, but there are entire classes of busy-work that we can eliminate with a few web hooks and some artisanal Python.\\r\\n\\r\\nIn this talk we&#39;re going to discuss how to use Python to automate security incident response team (SIRT) operations. We&#39;ll give an overview of what a typical SecOps/SIRT infrastructure looks like, how and where automation fits in, and dive into some code. We&#39;ll walk through a simple example, with screenshots and code, of automating a SecOps process. We want to show that\\xa0 getting started with security automation doesn&#39;t have to be difficult or expensive (though vendors will happily take your money). Just a little bit of Python can make some great quality of life improvements for incident responders.</div>\\n  \\n    <h2>\\n      <a id=\"presentation-187\"\\n         href=\"/2019/schedule/presentation/187/\">\\n        Assets in Django without losing your hair\\n      </a>\\n    </h2>\\n    <p>\\n      <b>\\n        Jacob Kaplan-Moss\\n        \\n      </b>\\n      \\n      <br>\\n      <b>\\n        Saturday\\n        12:10 p.m.&ndash;12:40 p.m.\\n        in\\n        Grand Ballroom A\\n      </b>\\n      \\n    </p>\\n    <div class=\"presentation-description\"\\n         >There&#39;s one part of building a Django app I hate: setting up handling of assets and media. There are so many moving pieces — static assets,  asset compilation and compression, file uploads, storage engines, etc. etc. I can never remember how it all fits together. I wrote this talk for one very selfish reason: to document how this all works, in one place, once and for all. \\r\\n\\r\\nThis talk is primarily intended for Django developers who want to build an asset pipeline that Just Works. The bulk of the talk covers front-end tooling (Webpack, PostCSS, Babel, etc.), so full-stack developers of any stripe will find something here, too.</div>\\n  \\n    <h2>\\n      <a id=\"presentation-165\"\\n         href=\"/2019/schedule/presentation/165/\">\\n        Attracting the Invisible Contributors\\n      </a>\\n    </h2>\\n    <p>\\n      <b>\\n        Charlotte Mays\\n        \\n      </b>\\n      \\n      <br>\\n      <b>\\n        Friday\\n        4:30 p.m.&ndash;5 p.m.\\n        in\\n        Grand Ballroom C\\n      </b>\\n      \\n    </p>\\n    <div class=\"presentation-description\"\\n         >Many new coders seek out open source projects, intending to contribute, and then get overwhelmed and leave. Project maintainers often want the help, but don’t realize how they are inadvertently appearing unwelcoming. I will discuss some of the most common complaints I’ve heard from new coders who tried to contribute but left in frustration, and ways that these can be addressed without putting too much burden on the maintainers.</div>\\n  \\n    <h2>\\n      <a id=\"presentation-174\"\\n         href=\"/2019/schedule/presentation/174/\">\\n        Beyond Two Groups: Generalized Bayesian A/B[/C/D/E...] Testing\\n      </a>\\n    </h2>\\n    <p>\\n      <b>\\n        Eric Ma\\n        \\n      </b>\\n      \\n      <br>\\n      <b>\\n        Saturday\\n        11:30 a.m.&ndash;noon\\n        in\\n        Grand Ballroom C\\n      </b>\\n      \\n    </p>\\n    <div class=\"presentation-description\"\\n         >Bayesian A/B testing has gained much popularity over the years. It seems, however, that the examples stop at two groups. This begs the questions: should we not be able to do more than simple two-group, case/control comparisons? Is there a special procedure that&#39;s necessary, or is there a natural extension of commonly-used Bayesian methods?\\r\\n\\r\\nIn this talk, I will use life-like, simulated examples, inspired from work and from meeting others at conferences, to show how to generalize A/B testing beyond the rigid assumptions commonly highlighted. Specifically, I will show two examples, one involving Bayesian estimation on click data on a website, and another on 4-parameter dose-response curves. \\r\\n\\r\\nThere will be plenty of code from the modern PyData stack, involving the use of PyMC3, pandas, holoviews, and more. </div>\\n  \\n    <h2>\\n      <a id=\"presentation-152\"\\n         href=\"/2019/schedule/presentation/152/\">\\n        Break the Cycle: Three excellent Python tools to automate repetitive tasks\\n      </a>\\n    </h2>\\n    <p>\\n      <b>\\n        Thea Flowers\\n        \\n      </b>\\n      \\n      <br>\\n      <b>\\n        Friday\\n        11:30 a.m.&ndash;noon\\n        in\\n        Room 26A/B/C\\n      </b>\\n      \\n    </p>\\n    <div class=\"presentation-description\"\\n         >Find yourself doing the same thing over and over again? Does it take more than one command to run your tests? build your docs? publish your project? deploy?\\r\\n\\r\\nIt is often difficult to share your code because others can run or test it? Does your README have a series of complicated steps to get things set up?\\r\\n\\r\\nThis talk explores three open-source tools that are wonderful at helping you and your project automate tasks. We&#39;ll look at Tox, which specializes in Python test environments, Nox, which offers a slightly different approach, and finally, PyInvoke, which you can use to automate just about anything.</div>\\n  \\n    <h2>\\n      <a id=\"presentation-211\"\\n         href=\"/2019/schedule/presentation/211/\">\\n        Building a Culture of Observability\\n      </a>\\n    </h2>\\n    <p>\\n      <b>\\n        Alex Landau\\n        \\n      </b>\\n      \\n      <br>\\n      <b>\\n        Sunday\\n        1:10 p.m.&ndash;1:40 p.m.\\n        in\\n        Atrium Ballroom AB\\n      </b>\\n      \\n    </p>\\n    <div class=\"presentation-description\"\\n         >Observability is often thought of as just a new word for monitoring. While it encompasses traditional devops areas such as monitoring, metrics, and infrastructure management, it’s much deeper and empowers developers at all levels of the stack. **Observability is about achieving a deep understanding of your software**. This not only helps you localize and debug production issues but removes uncertainty and speculation, **empowering developers** to know their tools and improving engineering excellence. Observability helps developers “understand the narrative” of what’s going on in their software.\\r\\n\\r\\nThis talk is about how we’ve driven adoption of a culture of observability within our engineering culture. We&#39;ll define and motivate for our focus on observability; discuss the tangible tools we’ve built and best practices we’ve adopted to ingrain observability into our engineering culture; and provide some specific, real-world results we’ve achieved as part of this effort. We&#39;ll will focus particularly on the tooling we’ve adopted around Django and Celery  and some interesting experiences we had extending their internals.</div>\\n  \\n    <h2>\\n      <a id=\"presentation-155\"\\n         href=\"/2019/schedule/presentation/155/\">\\n        Building an Open Source Artificial Pancreas\\n      </a>\\n    </h2>\\n    <p>\\n      <b>\\n        Sarah Withee\\n        \\n      </b>\\n      \\n      <br>\\n      <b>\\n        Friday\\n        12:10 p.m.&ndash;12:40 p.m.\\n        in\\n        Atrium Ballroom AB\\n      </b>\\n      \\n    </p>\\n    <div class=\"presentation-description\"\\n         >Have you ever thought about what open source software or hardware could achieve? What if it could help improve people&#39;s lives by solving some of their health problems?\\r\\n\\r\\nAfter the medical tech industry kept promising a system to help automatically manage insulin for type 1 diabetic people and never delivering, some people got together to find ways to do it with the tech they already had. Over the past few years, a &quot;closed-loop&quot; system has been developed to algorithmically regulate people&#39;s blood sugars. After reverse engineering bluetooth sensors and 915 MHz insulin pumps, the system became possible. As a diabetic, I also built this system and saw my sugar values stabilize much more than I could ever achieve doing it manually myself. Now I&#39;m working on contributing back to the projects as well.\\r\\n\\r\\nI want to talk about this system, from a technical side as well as a personal side. I&#39;ll talk about OpenAPS (the open artificial pancreas system) and how it works, what problems it solves, and its safety and security concerns. I also want to show how it&#39;s helped me, and what this means for my health now and in the future. I ultimately want to show how we, as software developers, can change people&#39;s lives through the code we write.</div>\\n  \\n    <h2>\\n      <a id=\"presentation-209\"\\n         href=\"/2019/schedule/presentation/209/\">\\n        Building reproducible Python applications for secured environments\\n      </a>\\n    </h2>\\n    <p>\\n      <b>\\n        Kushal Das\\n        \\n      </b>\\n      \\n      <br>\\n      <b>\\n        Saturday\\n        5:10 p.m.&ndash;5:40 p.m.\\n        in\\n        Atrium Ballroom AB\\n      </b>\\n      \\n    </p>\\n    <div class=\"presentation-description\"\\n         >We all have to package Python based applications for various environments, starting from command line tools, to web applications. And depending on the users, it can be installed on thousands on computers or on a selected few systems. https://pypi.org is our goto place for finding any dependencies and also in most of the time we install binary wheels directly\\r\\nfrom there, thus saving a lot time.\\r\\n\\r\\nBut, Python is also being used in many environments where security is the utter most important, and validating the dependencies of project is also very critical along with the actual project source code.  Many of noticed the recent incident where people were being able to [steal bticoins using a popular library](https://www.theregister.co.uk/2018/11/26/npm_repo_bitcoin_stealer/).This talk will take [SecureDrop client application](https://github.com/freedomofpress/securedrop-client) for journalists as an example project and see how we tried to tackle the similar problem. SecureDrop is an Open Source whistleblower system which is deployed over 75 news organizations all over the world. Our threat model has nation state actors as possible threats, so, security and privacy of the users of the system is a very important point of the whole project. The tools in this case are build and packaged into reproducible Debian deb packages and are installed on Qubes OS in the final end user systems.\\r\\n\\r\\nThere are two basic ways we handle Python project dependencies, for most of the development work, we use a virtualenv, and directly install the dependencies using wheels built from pypi.org. When we package the application for the end users, many times we package them using a operating system based package manager and ask the users to install using those (say RPM or Debian&#39;s deb package). In the second case, all the dependencies come as separate packages (and most of the time from the OS itself). The dependency is being handled by the OS package manager itself. That case, we can not update the dependencies fast enough if required, it depends on the packagers from the community who maintains those said packages in the distribution.\\r\\n\\r\\nWe use [dh-virtualenv](https://dh-virtualenv.readthedocs.io/en/1.0/) project to help us to use our own wheels + a virtualenv for the project to be packaged inside the debian .deb package.\\r\\nThis talk will go throuh [the process](https://github.com/freedomofpress/securedrop-client) of building wheels from known (based on sha256sum) source tarballs, and then having a gpg signed list of updated wheels and [a private index](https://github.com/freedomofpress/securedrop-debian-packaging/tree/master/simple) for the same. And also how we are verifying the wheels&#39; sha256sum (and the signature of that list) during the build process.  The final output is reproducible Debian packages.</div>\\n  \\n    <h2>\\n      <a id=\"presentation-231\"\\n         href=\"/2019/schedule/presentation/231/\">\\n        But, Why is the (Django) Admin Slow?\\n      </a>\\n    </h2>\\n    <p>\\n      <b>\\n        Jacinda Shelly\\n        \\n      </b>\\n      \\n      <br>\\n      <b>\\n        Saturday\\n        1:55 p.m.&ndash;2:25 p.m.\\n        in\\n        Grand Ballroom C\\n      </b>\\n      \\n    </p>\\n    <div class=\"presentation-description\"\\n         >The admin interface that comes built-in with Django is one of the most-loved (and oft-abused) features.  However, early converts are often disappointed to find that the admin doesn&#39;t seem to be scaling as their database grows in size, forcing them (so they think) to switch to a custom interface much sooner than they would prefer.\\r\\n\\r\\nHowever, many common performance issues can be fixed with a few small configuration changes that are much easier than a rewrite!\\r\\n\\r\\nIn this talk, we&#39;ll use an example project to demonstrate the most common performance pitfalls encountered when using the Django admin, and fix them - live!  We&#39;ll use django-debug-toolbar, a powerful debugging interface that everyone who uses Django should be familiar with, to identify our issues and confirm that they are fixed.</div>\\n  \\n    <h2>\\n      <a id=\"presentation-177\"\\n         href=\"/2019/schedule/presentation/177/\">\\n        Coded Readers: Using Python to uncover surprising patterns in the books you love\\n      </a>\\n    </h2>\\n    <p>\\n      <b>\\n        Eleanor Stribling\\n        \\n      </b>\\n      \\n      <br>\\n      <b>\\n        Saturday\\n        3:15 p.m.&ndash;4 p.m.\\n        in\\n        Grand Ballroom B\\n      </b>\\n      \\n    </p>\\n    <div class=\"presentation-description\"\\n         >We may not always know why we feel a certain way about a great story.  In this talk, you&#39;ll learn how Python generates new insights into the stories you love.  See how some straightforward tools and techniques have generated a rich analysis of stories from &quot;Harry Potter&quot; to &quot;Wuthering Heights&quot; to &quot;The Three Body Problem&quot; and the deeper questions those findings raise.\\r\\n\\r\\nLearn the straightforward techniques to do this with findings and code samples from three case studies:\\r\\n\\r\\n+ Uncovering gender bias in the _Harry Potter_ series\\r\\n+ Visualizing the use of color in Gothic Literature\\r\\n+ Looking for narrative patterns in science fiction novels over the last 50 years\\r\\n\\r\\nThis mix of qualitative and quantitative data can be used to hold up a mirror to our world and to ourselves.  If you enjoy reading a great book and tinkering with code, this is the talk for you.\\r\\n</div>\\n  \\n    <h2>\\n      <a id=\"presentation-166\"\\n         href=\"/2019/schedule/presentation/166/\">\\n        Code Review Skills for Pythonistas\\n      </a>\\n    </h2>\\n    <p>\\n      <b>\\n        Nina Zakharenko\\n        \\n      </b>\\n      \\n      <br>\\n      <b>\\n        Saturday\\n        12:10 p.m.&ndash;12:55 p.m.\\n        in\\n        Grand Ballroom B\\n      </b>\\n      \\n    </p>\\n    <div class=\"presentation-description\"\\n         >As teams and projects grow, code review becomes increasingly important to support the maintainability of complex code bases. In this talk, I’ll cover guidelines for writing consistent code, powerful linting and analysis tools for your Python code, and how to look out for common code review gotchas. You’ll also learn about style guides and how they can help make your code more consistent and easier to maintain, as well as what tools are available to help automate the review process.\\r\\n\\r\\nThis talk will enable you to have better code reviews with your teams at work, as well as a better approach to code reviews in open source projects. You’ll also learn how to give code reviews with empathy by using reviews as tools for sharing knowledge instead of turning the process into a competition.</div>\\n  \\n    <h2>\\n      <a id=\"presentation-206\"\\n         href=\"/2019/schedule/presentation/206/\">\\n        CUDA in your Python: Effective Parallel Programming on the GPU\\n      </a>\\n    </h2>\\n    <p>\\n      <b>\\n        William Horton\\n        \\n      </b>\\n      \\n      <br>\\n      <b>\\n        Saturday\\n        5:10 p.m.&ndash;5:40 p.m.\\n        in\\n        Grand Ballroom B\\n      </b>\\n      \\n    </p>\\n    <div class=\"presentation-description\"\\n         >It’s 2019, and Moore’s Law is dead. CPU performance is plateauing, but GPUs provide a chance for continued hardware performance gains, if you can structure your programs to make good use of them.\\r\\n\\r\\nCUDA is a platform developed by Nvidia for GPGPU--general purpose computing with GPUs. It backs some of the most popular deep learning libraries, like Tensorflow and Pytorch, but has broader uses in data analysis, data science, and machine learning. \\r\\n\\r\\nThere are several ways that you can start taking advantage of CUDA in your Python programs. \\r\\n\\r\\nFor some common Python libraries, there are drop-in replacements that let you start running computations on the GPU while still using familiar APIs. For example, CuPy provides a NumPy-like API for interacting with multi-dimensional arrays. Similarly, cuDF is a recent project that mimics the pandas interface for dataframes.\\r\\n\\r\\nIf you want more control over your use of CUDA APIs, you can use the PyCUDA library, which provides bindings for the CUDA API that you can call from your Python code. Compared with drop-in libraries, it gives you the ability to manually allocate memory on the GPU, and write custom CUDA functions (called kernels). However, its drawbacks include writing your CUDA code as large strings in Python, and compiling your CUDA code at runtime.\\r\\n\\r\\nFinally, for the best performance you can use the Python C/C++ extension interface, the approach taken by deep learning libraries like Pytorch. One of the strengths of Python is the ability to drop down into C/C++, and libraries like NumPy take advantage of this for increased speed. If you use Nvidia’s nvcc compiler for CUDA, you can use the same extension interface to write custom CUDA kernels, and then call them from your Python code.\\r\\n\\r\\nThis talk will explore each of these methods, provide examples to get started, and discuss in more detail the pros and cons of each approach. </div>\\n  \\n    <h2>\\n      <a id=\"presentation-184\"\\n         href=\"/2019/schedule/presentation/184/\">\\n        Dependency hell: a library author&#39;s guide\\n      </a>\\n    </h2>\\n    <p>\\n      <b>\\n        Yanhui Li, Brian Quinlan\\n        \\n      </b>\\n      \\n      <br>\\n      <b>\\n        Saturday\\n        11:30 a.m.&ndash;noon\\n        in\\n        Grand Ballroom B\\n      </b>\\n      \\n    </p>\\n    <div class=\"presentation-description\"\\n         >Python is known for its &quot;batteries included&quot; philosophy but no Python developer can live without the language&#39;s rich library ecosystem. Unfortunately, as the number of libraries increases, so does the risk of cross-library incompatibilities, or &quot;dependency hell&quot;.\\r\\n\\r\\nDependency hell arises when two libraries have mutually conflicting requirements. These can be very difficult for developers to diagnose and may not be fixable without avoiding certain libraries entirely.\\r\\n\\r\\nAfter this talk, you - the library author - will have a practical set of simple best practices to follow that will allow you to build libraries that are compatible across the Python ecosystem.</div>\\n  \\n    <h2>\\n      <a id=\"presentation-188\"\\n         href=\"/2019/schedule/presentation/188/\">\\n        Django Channels in practice\\n      </a>\\n    </h2>\\n    <p>\\n      <b>\\n        Aaron Gee-Clough\\n        \\n      </b>\\n      \\n      <br>\\n      <b>\\n        Saturday\\n        12:10 p.m.&ndash;12:40 p.m.\\n        in\\n        Atrium Ballroom AB\\n      </b>\\n      \\n    </p>\\n    <div class=\"presentation-description\"\\n         >Django Channels allows developers to make real-time web applications using websockets while maintaining access to the full Django batteries-included model for web applications. This talk will focus on what it takes to run a channels application in production, what&#39;s possible with Django Channels beyond chat rooms, and what pitfalls &amp; idiosyncrasies you can expect to run into when using Channels in practice.</div>\\n  \\n    <h2>\\n      <a id=\"presentation-146\"\\n         href=\"/2019/schedule/presentation/146/\">\\n        Does remote work really work?\\n      </a>\\n    </h2>\\n    <p>\\n      <b>\\n        Lauren Schaefer\\n        \\n      </b>\\n      \\n      <br>\\n      <b>\\n        Saturday\\n        3:15 p.m.&ndash;4 p.m.\\n        in\\n        Grand Ballroom C\\n      </b>\\n      \\n    </p>\\n    <div class=\"presentation-description\"\\n         >Spoiler alert:  yes, remote work really does work!\\r\\n\\r\\nWith nearly nine years of experience as a remote employee across three different companies, [SPEAKER] knows the ups and downs of remote work.  In this session, [SPEAKER] will dive into what the research says about remote work and share their personal stories of failures and successes.  \\r\\n\\r\\nYou&#39;ll walk away from this session knowing why remote work is awesome, empowered to convince your boss to let you work remotely, and armed with the tools you need to be a happy, successful remote employee.  \\r\\n\\r\\nIf you&#39;ve been thinking about making the transition to working remotely, you&#39;re a manager of people who are or could work remotely, or you&#39;ve made the leap to remote work and are struggling to make it work, this is the session for you!  </div>\\n  \\n    <h2>\\n      <a id=\"presentation-218\"\\n         href=\"/2019/schedule/presentation/218/\">\\n        Don&#39;t be a robot, build the bot\\n      </a>\\n    </h2>\\n    <p>\\n      <b>\\n        Mariatta\\n        \\n      </b>\\n      \\n      <br>\\n      <b>\\n        Friday\\n        10:50 a.m.&ndash;11:20 a.m.\\n        in\\n        Grand Ballroom B\\n      </b>\\n      \\n    </p>\\n    <div class=\"presentation-description\"\\n         >Managing a large open source project like CPython is no easy task. Learn how the Python core team automated their GitHub workflow with bots, making it easier for maintainers and contributors to collaborate together. Even if you’re not managing a large project, you can still build your own bot! Hear some ideas on what you can automate on GitHub and personalize your bot based on your own workflow. All you need is Python. Don’t be a robot; build the bot.</div>\\n  \\n    <h2>\\n      <a id=\"presentation-192\"\\n         href=\"/2019/schedule/presentation/192/\">\\n        Eita! Why Internationalization and Localization matter\\n      </a>\\n    </h2>\\n    <p>\\n      <b>\\n        Nicolle Cysneiros\\n        \\n      </b>\\n      \\n      <br>\\n      <b>\\n        Saturday\\n        3:15 p.m.&ndash;4 p.m.\\n        in\\n        Room 26A/B/C\\n      </b>\\n      \\n    </p>\\n    <div class=\"presentation-description\"\\n         >According to the always trustworthy Wikipedia, there are approximately 360 million native English speakers in the world. We, as developers, are so used to write code and documentation in English that we may not realize that this number only represents 4.67% of the world population. It is very useful to have a common language for the communication between developers, but this doesn’t mean that the user shouldn’t feel a little bit more comfortable when using your product. \\r\\n\\r\\nTranslation of terms is only one step in the whole Internationalization (i18n) and Localization (l10n) process. It also entails number, date and time formatting, currency conversion, sorting, legal requirements, among other issues. This talk will go through the definition of i18n and l10n as well as show the main tools available for developers to support multiple languages and regional related preferences in their Python program. We will also see how one can enable local support for their website in Django. Finally, this presentation will discuss how we can manage Internationalization and Localization for a bigger product running in different platforms (front and back end) and how to incorporate i18n and l10n into our current development and deploy processes.\\r\\n\\r\\nOh, and by the way, “eita!” is a Brazilian interjection to show yourself surprised with something. 🙂 </div>\\n  \\n    <h2>\\n      <a id=\"presentation-190\"\\n         href=\"/2019/schedule/presentation/190/\">\\n        Engineering Ethics and Open Source Software\\n      </a>\\n    </h2>\\n    <p>\\n      <b>\\n        Hayley Denbraver\\n        \\n      </b>\\n      \\n      <br>\\n      <b>\\n        Saturday\\n        1:55 p.m.&ndash;2:25 p.m.\\n        in\\n        Grand Ballroom B\\n      </b>\\n      \\n    </p>\\n    <div class=\"presentation-description\"\\n         >It seems that every week there is a news story that prompts software developers to think about the ethical implications of their work. As individuals, teams, and communities we need to consider the impact of the code we write. But what about code that we are using, but did not create? \\r\\n\\r\\nHow does Open Source Software factor into this equation? OSS is used across the industry, but is written and maintained primarily by volunteers. What are best practices for maintainers, contributors, individual users, and companies who incorporate open source into their work? How can we protect ourselves and our users, while still benefiting from the innovation and collaboration of open source software?\\r\\n\\r\\n</div>\\n  \\n    <h2>\\n      <a id=\"presentation-233\"\\n         href=\"/2019/schedule/presentation/233/\">\\n        Ensuring Safe Water Access with Python and Machine Learning\\n      </a>\\n    </h2>\\n    <p>\\n      <b>\\n        Madhav Datt\\n        \\n      </b>\\n      \\n      <br>\\n      <b>\\n        Sunday\\n        1:10 p.m.&ndash;1:40 p.m.\\n        in\\n        Grand Ballroom A\\n      </b>\\n      \\n    </p>\\n    <div class=\"presentation-description\"\\n         >Millions of people across the world live in a state of acute and immediate environmental crisis caused by the lack of access to safe and usable water resources, because of natural disasters, socio-economic conditions, wars and conflicts. \\r\\n\\r\\nOver the last year, I developed extremely low-cost filtration devices at intersection of machine learning and chemical-free purification. With my organization, we deployed 8,000 of these devices in rural Tanzania and brought safe water access to over 40,000 people, filtered ~14.4 million liters of water, and saved women from those affected communities a cumulative of 15,000 hours of walking every day.\\r\\n\\r\\nIn this talk, we’ll learn about how, as developers, engineers and data scientists, we are incredibly well equipped to build solutions for some of the biggest challenges facing our planet and my generation. We’ll explore how all of us, as individuals and as a community, can drive on-ground social impact and help entire communities in crises, through coding, data and technology.\\r\\n</div>\\n  \\n    <h2>\\n      <a id=\"presentation-217\"\\n         href=\"/2019/schedule/presentation/217/\">\\n        Escape from auto-manual testing with Hypothesis!\\n      </a>\\n    </h2>\\n    <p>\\n      <b>\\n        Zac Hatfield-Dodds\\n        \\n      </b>\\n      \\n      <br>\\n      <b>\\n        Sunday\\n        2:30 p.m.&ndash;3 p.m.\\n        in\\n        Grand Ballroom C\\n      </b>\\n      \\n    </p>\\n    <div class=\"presentation-description\"\\n         >If we knew all of the bugs we needed to write tests for, wouldn&#39;t we just... not write the bugs?  So how can testing find bugs that nobody would think of?\\r\\n\\r\\nThe answer is to have a computer *write your tests for you!*  You declare what kind of input should work - from &#39;an integer&#39; to &#39;matching this regex&#39; to &#39;this Django model&#39; and write a test which should always pass... then Hypothesis searches for the smallest inputs that cause an error.\\r\\n\\r\\nIf you’ve ever written tests that didn&#39;t find all your bugs, this talk is for you.  We&#39;ll cover the theory of property-based testing, a worked example, and then jump into a whirlwind tour of the library: how to use, define, compose, and infer strategies for input; properties and testing tactics for your code; and how to debug your tests if everything seems to go wrong.\\r\\n\\r\\nBy the end of this talk, you&#39;ll be ready to find real bugs with Hypothesis in anything from web apps to big data pipelines to CPython itself.  Be the change you want to see in your codebase - or contribute to Hypothesis itself and help drag the world kicking and screaming into a new and terrifying age of high quality software!</div>\\n  \\n    <h2>\\n      <a id=\"presentation-199\"\\n         href=\"/2019/schedule/presentation/199/\">\\n        ¡Escuincla babosa!: Creating a telenovela script in three Python deep learning frameworks\\n      </a>\\n    </h2>\\n    <p>\\n      <b>\\n        Lorena Mesa\\n        \\n      </b>\\n      \\n      <br>\\n      <b>\\n        Saturday\\n        2:35 p.m.&ndash;3:05 p.m.\\n        in\\n        Grand Ballroom C\\n      </b>\\n      \\n    </p>\\n    <div class=\"presentation-description\"\\n         >Telenovelas are beloved for their over the top drama and intricate plot twists. In this talk, we’ll review popular telenovelas to synthesize a typical telenovela arc and use it to train a deep learning model.\\r\\n\\r\\nWhat would a telenovela script look like as imagined by a neural network? To answer this question, we’ll examine three Python deep learning frameworks - Keras, PyTorch, and TensorFlow - to determine the process of translating a telenovela into a neural network and ultimately determine which one will be best for the task at hand. Be prepared for amor, pasiòn, and y el misterioso!</div>\\n  \\n    <h2>\\n      <a id=\"presentation-222\"\\n         href=\"/2019/schedule/presentation/222/\">\\n        Everything at Once: Python&#39;s Many Concurrency Models\\n      </a>\\n    </h2>\\n    <p>\\n      <b>\\n        Jess Shapiro\\n        \\n      </b>\\n      \\n      <br>\\n      <b>\\n        Friday\\n        2:35 p.m.&ndash;3:05 p.m.\\n        in\\n        Grand Ballroom B\\n      </b>\\n      \\n    </p>\\n    <div class=\"presentation-description\"\\n         >Python makes it incredibly easy to build programs that do what you want. But what happens when you want to do what you want, but with more input? One of the easiest things to do is to make a program concurrent so that you can get more performance on large data sets. But what&#39;s involved with that?\\r\\n\\r\\nRight now, there are any number of ways to do this, and that can be confusing! How does `asyncio` work? What&#39;s the difference between a thread and a process? And what&#39;s this Hadoop thing everyone keeps talking about?\\r\\n\\r\\nIn this talk, we&#39;ll cover some broad ground of what the different concurrency models available to you as a Python developer are, the tradeoffs and advantages of each, and explain how you can select the right one for your purpose.</div>\\n  \\n    <h2>\\n      <a id=\"presentation-225\"\\n         href=\"/2019/schedule/presentation/225/\">\\n        Exceptional Exceptions - How to properly raise, handle and create them.\\n      </a>\\n    </h2>\\n    <p>\\n      <b>\\n        Mario Corchero\\n        \\n      </b>\\n      \\n      <br>\\n      <b>\\n        Saturday\\n        3:15 p.m.&ndash;3:45 p.m.\\n        in\\n        Atrium Ballroom AB\\n      </b>\\n      \\n    </p>\\n    <div class=\"presentation-description\"\\n         >Did you know there are multiple ways to raise and capture exceptions? Have you ever wondered if you should raise a built-in exception or create your own hierarchy? Did you ever find it hard to understand what an exception meant?\\r\\n\\r\\nThis talk will go through the decisions needed to raise and capture exceptions when creating a library. We will look at how to translate and handle errors, create your own exceptions, and make exceptions clear and easy to troubleshoot, while also understanding how they actually work, common pitfalls.\\r\\n</div>\\n  \\n    <h2>\\n      <a id=\"presentation-232\"\\n         href=\"/2019/schedule/presentation/232/\">\\n        Extracting tabular data from PDFs with Camelot &amp; Excalibur\\n      </a>\\n    </h2>\\n    <p>\\n      <b>\\n        Vinayak Mehta\\n        \\n      </b>\\n      \\n      <br>\\n      <b>\\n        Friday\\n        5:10 p.m.&ndash;5:40 p.m.\\n        in\\n        Grand Ballroom A\\n      </b>\\n      \\n    </p>\\n    <div class=\"presentation-description\"\\n         >Extracting tables from PDFs is hard. The Portable Document Format was not designed for tabular data. Sadly, a lot of open data is shared as PDFs and getting tables out for analysis is a pain. A simple copy-and-paste from a PDF into a text file or spreadsheet program doesn&#39;t work.\\r\\n\\r\\nThis talk will briefly touch upon the history of the Portable Document Format, discuss some problems that arise when extracting tabular data from PDFs using the current ecosystem of libraries and tools and demonstrate how Camelot and Excalibur solve this problem better and in a scalable manner. These easy-to-use packages automatically detect and extract tables from PDFs and give you access to the extracted tables in pandas DataFrames. You can also download them as CSVs or Excel files.\\r\\n</div>\\n  \\n    <h2>\\n      <a id=\"presentation-159\"\\n         href=\"/2019/schedule/presentation/159/\">\\n        Fighting Climate Change with Python\\n      </a>\\n    </h2>\\n    <p>\\n      <b>\\n        Matthew Gordon\\n        \\n      </b>\\n      \\n      <br>\\n      <b>\\n        Friday\\n        1:55 p.m.&ndash;2:25 p.m.\\n        in\\n        Room 26A/B/C\\n      </b>\\n      \\n    </p>\\n    <div class=\"presentation-description\"\\n         >Methane, the primary component of natural gas, is a 60 times more powerful climate change agent than carbon dioxide.  Current technologies for finding methane leaks in oil and gas infrastructure rely on driving well to well with a handheld camera.  At Kairos Aerospace, we have developed a plane-mounted sensor for detecting methane leaks, but the sensor is only part of the solution: getting information off the sensor and into customers’ hands required us to build an entire plane-to-report pipeline.  I’ll discuss the challenges we faced in developing a scalable, reliable, and cost-effective scientific computing platform in Python, with examples of novel solutions using Python’s extensive ecosystem of GIS, cloud computing and machine learning tools.\\r\\n</div>\\n  \\n    <h2>\\n      <a id=\"presentation-221\"\\n         href=\"/2019/schedule/presentation/221/\">\\n        Floats are Friends: making the most of IEEE754.00000000000000002\\n      </a>\\n    </h2>\\n    <p>\\n      <b>\\n        David Wolever\\n        \\n      </b>\\n      \\n      <br>\\n      <b>\\n        Saturday\\n        10:50 a.m.&ndash;11:20 a.m.\\n        in\\n        Grand Ballroom B\\n      </b>\\n      \\n    </p>\\n    <div class=\"presentation-description\"\\n         >Floating point numbers have been given a bad rap. They&#39;re mocked, maligned, and feared; the but of every joke, the scapegoat for every rounding error.\\r\\n\\r\\nBut this stigma is not deserved. Floats are friends! Friends that have been stuck between a rock and a computationally hard place, and been forced to make some compromises along the way… but friends never the less!\\r\\n\\r\\nIn this talk we&#39;ll look at the compromises that were made while designing the floating point standard (IEEE754), how to work within those compromises to make sure that `0.1 + 0.2 = 0.3` and not `0.30000000000000004`, how and when floats can and cannot be safely used, and some interesting history around fixed point number representation.\\r\\n\\r\\nThis talk is ideal for anyone who understands (at least in principle) binary numbers, anyone who has been frustrated by `nan` or the fact that `0.3 == 0.1 + 0.2 =&gt; False`, and anyone who wants to be the life of their next party.\\r\\n\\r\\nThis talk will _not_ cover more complicated numerical methods for, ex, ensuring that algorithms are floating-point safe. Also, if you&#39;re already familiar with the significance of &quot;52&quot; and the term &quot;mantissa&quot;, this talk might be more entertaining than it will be educational for you.</div>\\n  \\n    <h2>\\n      <a id=\"presentation-170\"\\n         href=\"/2019/schedule/presentation/170/\">\\n        From days to minutes, from minutes to milliseconds with SQLAlchemy\\n      </a>\\n    </h2>\\n    <p>\\n      <b>\\n        Leonardo Rochael Almeida\\n        \\n      </b>\\n      \\n      <br>\\n      <b>\\n        Friday\\n        12:10 p.m.&ndash;12:55 p.m.\\n        in\\n        Room 26A/B/C\\n      </b>\\n      \\n    </p>\\n    <div class=\"presentation-description\"\\n         >Object Relational Mappers (ORMs) are awesome enhancers of developer productivity. The freedom of having the library write that SQL and give you back a useful, rich model instance (or a bunch of them) instead of just a tuple or a list of records is simply amazing.\\r\\n\\r\\nBut if you forget you have an actual database behind all that convenience, then it&#39;ll bite you back, usually when you&#39;ve been in production for a while, after you&#39;ve accumulated enough data that your once speedy application starts slowing down do a crawl.\\r\\n\\r\\nDatabases work best when you ask them once for (or to do) a bunch of stuff, instead of asking them lots of times for small stuff.\\r\\n\\r\\nWe&#39;ll discuss how innocent looking attribute accesses on your model instances translate to sequential queries (the infamous [N+1 problem][1]).\\r\\n\\r\\nThen we&#39;ll go through some practical solutions, taken from real cases that resulted in massive speed ups. We&#39;ll cover how changes in Python code resulted in changes to the resulting SQL Queries\\r\\n\\r\\nSolutions not only for queries, but also inserts and updates, which tend to be less well documented.\\r\\n\\r\\nThough this talk focuses on SQLAlchemy, the lessons should be applicable to most ORMs in most programing languages. The ideas discussed, and solutions proposed are also valid for any storage backend, not only SQL databases. \\r\\n\\r\\n  [1]: https://docs.sqlalchemy.org/en/latest/glossary.html#term-n-plus-one-problem\\r\\n</div>\\n  \\n    <h2>\\n      <a id=\"presentation-228\"\\n         href=\"/2019/schedule/presentation/228/\">\\n        Getting Started Testing in Data Science\\n      </a>\\n    </h2>\\n    <p>\\n      <b>\\n        Jes Ford\\n        \\n      </b>\\n      \\n      <br>\\n      <b>\\n        Sunday\\n        1:50 p.m.&ndash;2:20 p.m.\\n        in\\n        Grand Ballroom C\\n      </b>\\n      \\n    </p>\\n    <div class=\"presentation-description\"\\n         >*How do you know if your data science results are correct?* Robust software usually has tests asserting that certain conditions hold, but as a data scientist it’s often not straightforward or obvious how to integrate these best practices. Our workflow includes exploration, statistical models, and one-off analysis. This talk will give concrete examples of when and how testing should play a role, and provide you with enough introduction to get started writing your first data science tests using `pytest` &amp; `hypothesis`.</div>\\n  \\n    <h2>\\n      <a id=\"presentation-234\"\\n         href=\"/2019/schedule/presentation/234/\">\\n        Getting started with Deep Learning: Using Keras &amp; Numpy to detect voice disorders \\n      </a>\\n    </h2>\\n    <p>\\n      <b>\\n        Deborah Hanus, Sebastian Hanus\\n        \\n      </b>\\n      \\n      <br>\\n      <b>\\n        Saturday\\n        4:15 p.m.&ndash;5 p.m.\\n        in\\n        Grand Ballroom A\\n      </b>\\n      \\n    </p>\\n    <div class=\"presentation-description\"\\n         >Deep learning is a useful tool for problems in computer vision, natural language processing, and medicine. While it might seem difficult to get started in deep learning, Python libraries, such as Keras make deep learning quite accessible. In this talk, we will discuss what deep learning is, introduce NumPy and Keras, and discuss common mistakes and debugging strategies. Throughout the talk, we will return to an example project in the medical domain, which used deep learning on vocal data to determine whether a patient has a voice disorder called vocal hyperfunction. </div>\\n  \\n    <h2>\\n      <a id=\"presentation-223\"\\n         href=\"/2019/schedule/presentation/223/\">\\n        Getting to Three Million Lines of Type-Annotated Python\\n      </a>\\n    </h2>\\n    <p>\\n      <b>\\n        Michael Sullivan\\n        \\n      </b>\\n      \\n      <br>\\n      <b>\\n        Saturday\\n        4:15 p.m.&ndash;5 p.m.\\n        in\\n        Atrium Ballroom AB\\n      </b>\\n      \\n    </p>\\n    <div class=\"presentation-description\"\\n         >Dropbox is a heavy user of the mypy type checker, recently passing three million lines of type-annotated Python code, with over half of that added in 2018. Type checking is helping find bugs, making code easier to under stand, enabling refactors, and is an important aid to our ongoing Python 3 migration.\\r\\n\\r\\nIn this talk, we discuss how we got there. We’ll talk about what we tried in order to get our engineers to type annotate their code—what worked, what didn’t, and what our engineers had to say about it. \\r\\n\\r\\nAdditionally, we’ll discuss the performance problems we faced as the size of our checked codebase grew, and the techniques we employed to allow mypy—which is implemented in Python—to efficiently check (faster than a second, for most incremental checks) millions of lines of code, which culminated in mypyc, a new ahead-of-time compiler for type-annotated Python!</div>\\n  \\n    <h2>\\n      <a id=\"presentation-236\"\\n         href=\"/2019/schedule/presentation/236/\">\\n        Going from 2 to 3 on Windows, macOS and Linux\\n      </a>\\n    </h2>\\n    <p>\\n      <b>\\n        Max Bélanger, Damien DeVille\\n        \\n      </b>\\n      \\n      <br>\\n      <b>\\n        Friday\\n        1:55 p.m.&ndash;2:25 p.m.\\n        in\\n        Grand Ballroom C\\n      </b>\\n      \\n    </p>\\n    <div class=\"presentation-description\"\\n         >At Dropbox, we’ve always used Python to power our application for Windows, macOS and Linux (until recently, Python 2.7). Over the years, a growing lack of features and the need for outdated compilers/toolchains made migrating to Python 3 a necessity. Join us to hear the tale of our unique journey from Python 2 to 3 and the lessons we learned along the way:\\r\\n\\r\\n- We’ll discuss the reasons that led to our decision to make the jump.\\r\\n- We’ll dive into how we sequenced the transition by using the C-API to ship both versions of Python and choose one at runtime.\\r\\n- We’ll reveal the tools we used to enforce a hybrid (2/3) syntax for over hundreds of thousands of lines of Python code.\\r\\n- We’ll discuss some of our most spectacular bugs and gotchas, and how you can avoid them!</div>\\n  \\n    <h2>\\n      <a id=\"presentation-164\"\\n         href=\"/2019/schedule/presentation/164/\">\\n        Help! I&#39;m now the leader of our Meetup group!\\n      </a>\\n    </h2>\\n    <p>\\n      <b>\\n        Faris Chebib\\n        \\n      </b>\\n      \\n      <br>\\n      <b>\\n        Friday\\n        3:15 p.m.&ndash;3:45 p.m.\\n        in\\n        Grand Ballroom A\\n      </b>\\n      \\n    </p>\\n    <div class=\"presentation-description\"\\n         >After attending your local dev meetup for months, you suddenly get the dreaded email: &quot;Your Organizer just stepped down without nominating a replacement.&quot;\\r\\n\\r\\nBut the community relies on this meetup! It brings together devs from all around to engage in networking, learning, and comradery! So you step up. I mean, how hard could it be, right?\\r\\n\\r\\nOh no. This is much harder than you thought. You have to organize a venue, figure out refreshments, get a speaker, ensure people show up. \\r\\n\\r\\nIn this talk,  you&#39;ll learn the skills need to start and sustain a vibrant meetup and tech community.</div>\\n  \\n    <h2>\\n      <a id=\"presentation-173\"\\n         href=\"/2019/schedule/presentation/173/\">\\n        How to Build a Clinical Diagnostic Model in Python\\n      </a>\\n    </h2>\\n    <p>\\n      <b>\\n        Jill Cates\\n        \\n      </b>\\n      \\n      <br>\\n      <b>\\n        Friday\\n        5:10 p.m.&ndash;5:40 p.m.\\n        in\\n        Atrium Ballroom AB\\n      </b>\\n      \\n    </p>\\n    <div class=\"presentation-description\"\\n         >Diagnosing a patient requires consideration of a wide variety of factors: past medical history and comorbidities, physical exam findings, lab results, imaging, ECG findings, and in some cases, genomic testing. Clinical diagnosis and prognostic assessment currently relies on expert knowledge of the treating physician. Recent developments in machine learning make it possible to build automated clinical diagnostic and risk assessment tools using data from the electronic medical record. \\r\\n\\r\\nThis talk walks through the steps involved in building a clinical risk assessment model, using sepsis as a case study. A large part of the talk will focus on the tools and techniques involved in pre-processing complex medical data, and strategies for evaluating model results.</div>\\n  \\n    <h2>\\n      <a id=\"presentation-241\"\\n         href=\"/2019/schedule/presentation/241/\">\\n        How to engage Python contributors in the long term? Tech is easy, people are hard.\\n      </a>\\n    </h2>\\n    <p>\\n      <b>\\n        Victor Stinner\\n        \\n      </b>\\n      \\n      <br>\\n      <b>\\n        Friday\\n        5:10 p.m.&ndash;5:40 p.m.\\n        in\\n        Grand Ballroom C\\n      </b>\\n      \\n    </p>\\n    <div class=\"presentation-description\"\\n         >The CPython project is now 28 years old. It has active core developers, but almost all of them are volunteers. It&#39;s difficult to ask someone to be committed into a project for 5 years without being paid. Helping newcomers and mentoring contributors takes time and few developers are available for that. We are working on improving the diversity of CPython core developers and get more active core developers, but it&#39;s a slow process.</div>\\n  \\n    <h2>\\n      <a id=\"presentation-169\"\\n         href=\"/2019/schedule/presentation/169/\">\\n        How to JIT: Writing a Python JIT from scratch in pure Python\\n      </a>\\n    </h2>\\n    <p>\\n      <b>\\n        Matthew Page\\n        \\n      </b>\\n      \\n      <br>\\n      <b>\\n        Friday\\n        4:30 p.m.&ndash;5 p.m.\\n        in\\n        Room 26A/B/C\\n      </b>\\n      \\n    </p>\\n    <div class=\"presentation-description\"\\n         >Have you ever wondered how a JIT compiler works?  Production quality JIT compilers are large, complicated pieces of software that can seem inscrutable at first glance. However, building a simple JIT compiler is surprisingly easy. We&#39;ll walk through how to build a template-style JIT compiler for Python from first principles, in Python!</div>\\n  \\n    <h2>\\n      <a id=\"presentation-219\"\\n         href=\"/2019/schedule/presentation/219/\">\\n        How to Think about Data Visualization\\n      </a>\\n    </h2>\\n    <p>\\n      <b>\\n        Jake VanderPlas\\n        \\n      </b>\\n      \\n      <br>\\n      <b>\\n        Sunday\\n        2:30 p.m.&ndash;3 p.m.\\n        in\\n        Grand Ballroom B\\n      </b>\\n      \\n    </p>\\n    <div class=\"presentation-description\"\\n         >The Python world has a staggering array of data visualization tools, and choosing which to use can seem like a daunting task. But which tool you use is far less important than how you use it. In this talk I’ll walk through some of the important considerations involved in visualizing your data, so that you can create more effective visualizations no matter which plotting package you use.</div>\\n  \\n    <h2>\\n      <a id=\"presentation-171\"\\n         href=\"/2019/schedule/presentation/171/\">\\n        Instant serverless APIs, powered by SQLite\\n      </a>\\n    </h2>\\n    <p>\\n      <b>\\n        Simon Willison\\n        \\n      </b>\\n      \\n      <br>\\n      <b>\\n        Saturday\\n        12:10 p.m.&ndash;12:55 p.m.\\n        in\\n        Room 26A/B/C\\n      </b>\\n      \\n    </p>\\n    <div class=\"presentation-description\"\\n         >Serverless computing is all about paying only for what you use: it can scale up to handle millions of requests, but it can also scale down to 0, costing you nothing if your application is not receiving any traffic.\\r\\n\\r\\nServerless tends to get expensive when databases are involved.... but if your data is static or changes infrequently, you can use serverless tools to provide powerful interactive APIs extremely cheaply.\\r\\n\\r\\n[Datasette](https://datasette.readthedocs.io/) is an open-source Python tool that provides an instant, read-only JSON API for any SQLite database. It also provides tools for packaging the database up as a Docker container and instantly deploying that container to a number of different serverless hosting platforms.\\r\\n\\r\\nThis makes it a powerful tool for sharing interesting data online, in a way that allows users to both explore that data themselves and build their own interpretations of the data using the Datasette JSON API.\\r\\n\\r\\nIn this session I&#39;ll show you how to use Datasette to publish data, and illustrate examples of the exciting things people have already built using the tool - including a number of real-world data journalism projects.\\r\\n\\r\\nI&#39;ll also teach people how to use some of the other tools in the Datasette ecosystem:\\r\\n\\r\\n* [Datasette Publish](https://publish.datasettes.com/), which allows CSV data to be published using Datasette to a serverless hosting account owned by the user, without any engineering experience required.\\r\\n* [csvs-to-sqlite](https://pypi.org/project/csvs-to-sqlite/), a tool for efficiently converting large numbers of CSV files into a Datasette-compatible SQLite database.\\r\\n* [sqlite-utils](https://sqlite-utils.readthedocs.io/), a library that lets users create complex databases from custom data feeds in just a few lines of Python code (ideal for working with Jupyter notebooks).\\r\\n\\r\\nI&#39;ll discuss the philosophy and design behind Datasette, including how immutable SQLite databases make for an impressively scalable solution for inexpensively serving complex data on the internet. Finally, I&#39;ll be exploring how Datasette takes advantage of Python 3 asyncio and the new ASGI specification.</div>\\n  \\n    <h2>\\n      <a id=\"presentation-183\"\\n         href=\"/2019/schedule/presentation/183/\">\\n        Intentional Deployment: Best Practices for Feature Flag Management\\n      </a>\\n    </h2>\\n    <p>\\n      <b>\\n        Caitlin Rubin\\n        \\n      </b>\\n      \\n      <br>\\n      <b>\\n        Saturday\\n        11:30 a.m.&ndash;noon\\n        in\\n        Grand Ballroom A\\n      </b>\\n      \\n    </p>\\n    <div class=\"presentation-description\"\\n         >&amp;nbsp;&amp;nbsp;&amp;nbsp;&amp;nbsp;Feature flags can be powerful tools in mitigating risk in your development cycle — _if you use them correctly_. Failing to do so can have enormous consequences for yourself and your business. In 2012 one improperly deployed feature flag sent a $365 million company into bankruptcy in 45 minutes. So let’s talk about feature flags, specifically in how they can help us with intentional deployment. Feature flags give us a high degree of control over the features we release — but what ensures we have a high degree of control over our feature flags? \\r\\n\\r\\n&amp;nbsp;&amp;nbsp;&amp;nbsp;&amp;nbsp;In this talk, I’ll go over the best practices which will make your feature flagging program a success. The humble Feature Flag can transform into many different things: release toggle, experiment, kill switch, permissioning and more. I’ll talk briefly about the possibilities Feature Flags open up, and then describe how to use best practices of visibility and accountability to align those different flags into a cohesive feature flagging system.\\r\\n\\r\\n&amp;nbsp;&amp;nbsp;&amp;nbsp;&amp;nbsp;After this talk, you’ll know what best practices make a successful feature flagging program, and be able to implement them into your current solution to deploy faster and with less risk.\\r\\n\\r\\n</div>\\n  \\n    <h2>\\n      <a id=\"presentation-220\"\\n         href=\"/2019/schedule/presentation/220/\">\\n        Lessons learned from building a community of Python users among thousands of analysts\\n      </a>\\n    </h2>\\n    <p>\\n      <b>\\n        I-Kang Ding, Ariel M&#39;ndange-Pfupfu, Marina Sergeeva\\n        \\n      </b>\\n      \\n      <br>\\n      <b>\\n        Friday\\n        4:15 p.m.&ndash;5 p.m.\\n        in\\n        Atrium Ballroom AB\\n      </b>\\n      \\n    </p>\\n    <div class=\"presentation-description\"\\n         >Starting a few years ago, Capital One has committed to go all-in on public cloud and open source software for many of our core business operations, processes, and machine learning models. To support this transformation, we embarked on a multi-year journey to build a Python community with critical mass of users, and scale adoption of Python in our business analyst and data analyst workforces.\\r\\n\\r\\nPython has been envisioned since its early days as a programming language which can be used to &quot;create better, easier to use tools for program development and analysis&quot;, as well as &quot;build a user community around all of the above, encouraging feedback and self-help&quot;. [1] In our experience scaling Python adoption amongst analyst communities within a Fortune 500 company, we have found the aforementioned visions true to form - not only is Python a great first programming language for our analysts to learn, it also comes with &quot;batteries included&quot; and contains many of the data-related tools and libraries which allows our analysts to get productive very quickly.\\r\\n\\r\\nThis talk will highlight our multi-pronged approaches to overcome organizational inertia to build a community of Python users, provide Python and OSS training, and encourage Python adoption (with mixed success). We&#39;ll share what (we think) best practices are out there, and lessons learned along the way.\\r\\n\\r\\nReference:\\r\\n[1] Computer Programming for Everybody (http://www.python.org/doc/essays/cp4e.html)\\r\\n</div>\\n  \\n    <h2>\\n      <a id=\"presentation-148\"\\n         href=\"/2019/schedule/presentation/148/\">\\n        Leveraging the Type System to Write Secure Applications\\n      </a>\\n    </h2>\\n    <p>\\n      <b>\\n        Shannon Zhu\\n        \\n      </b>\\n      \\n      <br>\\n      <b>\\n        Saturday\\n        2:35 p.m.&ndash;3:05 p.m.\\n        in\\n        Grand Ballroom A\\n      </b>\\n      \\n    </p>\\n    <div class=\"presentation-description\"\\n         >Application security remains a long-term and high-stakes problem for most projects that interact with external users. Python&#39;s type system is already widely used for readability, refactoring, and bug detection — this talk will demonstrate how types can also be leveraged to make your project systematically more secure. We&#39;ll investigate (1) how static type checkers like Pyre or MyPy can be extended with simple library modifications to catch vulnerable patterns, and (2) how deeper type-based static analysis can reliably flag remaining use cases to security engineers. As an example, I&#39;ll focus on a basic security problem and how you might use both tools in combination, drawing from our experience deploying these methods to build more secure applications at Facebook and Instagram.</div>\\n  \\n    <h2>\\n      <a id=\"presentation-224\"\\n         href=\"/2019/schedule/presentation/224/\">\\n        Life Is Better Painted Black, or: How to Stop Worrying and Embrace Auto-Formatting\\n      </a>\\n    </h2>\\n    <p>\\n      <b>\\n        Łukasz Langa\\n        \\n      </b>\\n      \\n      <br>\\n      <b>\\n        Friday\\n        2:35 p.m.&ndash;3:05 p.m.\\n        in\\n        Atrium Ballroom AB\\n      </b>\\n      \\n    </p>\\n    <div class=\"presentation-description\"\\n         >What good is a code style if it&#39;s not internally consistent? What good is a linter when it slows you down? What if you could out-source your worries about code formatting, adopt a consistent style, and make your team faster all at the same time?\\r\\n\\r\\nCome hear about Black: a new code style and a tool that allows you to format your Python code automatically. In the talk you&#39;ll learn not only how the style looks like but why it is the way it is. I will do my best to convince you not only that it&#39;s good but that it&#39;s *good enough*. You&#39;ll see how you can integrate it with your current workflow and how it speeds up your life while making your code prettier on average.\\r\\n\\r\\nLose your attachments, delegate the boring job of moving tokens around to satisfy the linter, and save time for more important matters. Guaranteed to increase the life expectancy of space bars and Enter keys on your new MacBook&#39;s keyboard.</div>\\n  \\n    <h2>\\n      <a id=\"presentation-214\"\\n         href=\"/2019/schedule/presentation/214/\">\\n        Lowering the Stakes of Failure with Pre-mortems and Post-mortems\\n      </a>\\n    </h2>\\n    <p>\\n      <b>\\n        Liz Sander\\n        \\n      </b>\\n      \\n      <br>\\n      <b>\\n        Sunday\\n        1:50 p.m.&ndash;2:20 p.m.\\n        in\\n        Grand Ballroom B\\n      </b>\\n      \\n    </p>\\n    <div class=\"presentation-description\"\\n         >Failure can be scary. There are real costs to a company and its users when software crashes, models are inaccurate, or when systems go down. The emotional stakes feel high-- no one wants to be responsible for a failure. We can lower the stakes by creating spaces to learn from failures, and minimize their impact. This talk introduces two ways to address failure: blameless post-mortems, to learn from an incident; and pre-mortems, to identify modes of failure upfront.</div>\\n  \\n    <h2>\\n      <a id=\"presentation-176\"\\n         href=\"/2019/schedule/presentation/176/\">\\n        Machine learning model and dataset versioning practices\\n      </a>\\n    </h2>\\n    <p>\\n      <b>\\n        Dmitry Petrov\\n        \\n      </b>\\n      \\n      <br>\\n      <b>\\n        Saturday\\n        10:50 a.m.&ndash;11:20 a.m.\\n        in\\n        Room 26A/B/C\\n      </b>\\n      \\n    </p>\\n    <div class=\"presentation-description\"\\n         >Python is a prevalent programming language in machine learning (ML) community. A lot of Python engineers and data scientists feel the lack of engineering practices like versioning large datasets and ML models, and the lack of reproducibility. This lack is particularly acute for engineers who just moved to ML space.\\r\\n\\r\\nWe will discuss the current practices of organizing ML projects using traditional open-source toolset like Git and Git-LFS as well as this toolset limitation. Thereby motivation for developing new ML specific version control systems will be explained.\\r\\n\\r\\nData Version Control or [DVC.ORG][1] is an [open source][2], command-line tool written in Python. We will show how to version datasets with dozens of gigabytes of data and version ML models, how to use your favorite cloud storage (S3, GCS, or bare metal SSH server) as a data file backend and how to embrace the best engineering practices in your ML projects.\\r\\n\\r\\n[1]: http://dvc.org\\r\\n[2]: https://github.com/iterative/dvc\\r\\n</div>\\n  \\n    <h2>\\n      <a id=\"presentation-167\"\\n         href=\"/2019/schedule/presentation/167/\">\\n        Maintaining a Python Project When It’s Not Your Job\\n      </a>\\n    </h2>\\n    <p>\\n      <b>\\n        Hynek Schlawack\\n        \\n      </b>\\n      \\n      <br>\\n      <b>\\n        Friday\\n        3:15 p.m.&ndash;4 p.m.\\n        in\\n        Grand Ballroom C\\n      </b>\\n      \\n    </p>\\n    <div class=\"presentation-description\"\\n         >PyPI is a gold mine of great packages but those packages have to be written first.  More often than not, projects that millions of people depend on are written and maintained by only one person.  If you’re unlucky, that person is you!\\r\\n\\r\\nSo how do you square delivering a *high quality* Python package you can be proud of and having only limited time at your disposal?  The answer is not “try harder,” the answer is to **do less**.\\r\\n\\r\\nThis talk will help you get there by talking about how you can make your life easier, remove causes of friction with your contributors, and empower said contributors to take over tasks that you can’t make time for anymore.</div>\\n  \\n    <h2>\\n      <a id=\"presentation-156\"\\n         href=\"/2019/schedule/presentation/156/\">\\n        Making Music with Python, SuperCollider and FoxDot\\n      </a>\\n    </h2>\\n    <p>\\n      <b>\\n        Jessica Garson\\n        \\n      </b>\\n      \\n      <br>\\n      <b>\\n        Friday\\n        1:55 p.m.&ndash;2:25 p.m.\\n        in\\n        Grand Ballroom B\\n      </b>\\n      \\n    </p>\\n    <div class=\"presentation-description\"\\n         >Learn how to make music with Python, SuperCollider and FoxDot. We&#39;ll create a song together in this live coded adventure. </div>\\n  \\n    <h2>\\n      <a id=\"presentation-226\"\\n         href=\"/2019/schedule/presentation/226/\">\\n        Measures and Mismeasures of algorithmic fairness\\n      </a>\\n    </h2>\\n    <p>\\n      <b>\\n        Manojit Nandi\\n        \\n      </b>\\n      \\n      <br>\\n      <b>\\n        Saturday\\n        1:40 p.m.&ndash;2:25 p.m.\\n        in\\n        Atrium Ballroom AB\\n      </b>\\n      \\n    </p>\\n    <div class=\"presentation-description\"\\n         >Within the last few years, researchers have come to understand that machine learning systems may display discriminatory behavior with regards to certain protected characteristics, such as gender or race. To combat these harmful behaviors, we have created multiple definitions of fairness to enable equity in machine learning algorithms. In this talk, I will cover these different definitions of algorithmic fairness and discuss both the strengths and limitations of these formalizations.  In addition, I will cover other best practices to better mitigate the  unintended bias of data products.</div>\\n  \\n    <h2>\\n      <a id=\"presentation-201\"\\n         href=\"/2019/schedule/presentation/201/\">\\n        Measuring Model Fairness\\n      </a>\\n    </h2>\\n    <p>\\n      <b>\\n        J. Henry Hinnefeld\\n        \\n      </b>\\n      \\n      <br>\\n      <b>\\n        Saturday\\n        5:10 p.m.&ndash;5:40 p.m.\\n        in\\n        Grand Ballroom A\\n      </b>\\n      \\n    </p>\\n    <div class=\"presentation-description\"\\n         >When machine learning models make decisions that affect people’s lives, how can you be sure those decisions are fair? When you build a machine learning product, how can you be sure your product isn&#39;t biased? What does it even mean for an algorithm to be ‘fair’? As machine learning becomes more prevalent in socially impactful domains like policing, lending, and education these questions take on a new urgency.\\r\\n\\r\\nIn this talk I’ll introduce several common metrics which measure the fairness of model predictions. Next I’ll relate these metrics to different notions of fairness and show how the context in which a model or product is used determines which metrics (if any) are applicable. To illustrate this context-dependence I&#39;ll describe a case study of anonymized real-world data. Next, I&#39;ll highlight some open source tools in the Python ecosystem which address model fairness. Finally, I&#39;ll conclude by arguing that if your job involves building these kinds models or products then it is your responsibility to think about the answers to these questions.</div>\\n  \\n    <h2>\\n      <a id=\"presentation-147\"\\n         href=\"/2019/schedule/presentation/147/\">\\n        Migrating Pinterest from Python2 to Python3\\n      </a>\\n    </h2>\\n    <p>\\n      <b>\\n        Jordan Adler, Joe Gordon\\n        \\n      </b>\\n      \\n      <br>\\n      <b>\\n        Friday\\n        12:10 p.m.&ndash;12:55 p.m.\\n        in\\n        Grand Ballroom C\\n      </b>\\n      \\n    </p>\\n    <div class=\"presentation-description\"\\n         >Over the course of nearly a year, we migrated Pinterest&#39;s primary systems from Python2 to Python3.  A large, tightly coupled codebase with over 2 million lines of code, the Pinterest codebase contained nearly every edge case that might exist in a Py2 to Py3 migration.\\r\\n\\r\\nWe&#39;ll cover our approach, gotchas, and tools, and the incredible impact our migration has made on infra spend and code quality.</div>\\n  \\n    <h2>\\n      <a id=\"presentation-216\"\\n         href=\"/2019/schedule/presentation/216/\">\\n        Mocking and Patching Pitfalls\\n      </a>\\n    </h2>\\n    <p>\\n      <b>\\n        Edwin Jung\\n        \\n      </b>\\n      \\n      <br>\\n      <b>\\n        Friday\\n        1:40 p.m.&ndash;2:25 p.m.\\n        in\\n        Atrium Ballroom AB\\n      </b>\\n      \\n    </p>\\n    <div class=\"presentation-description\"\\n         >Mocking and patching are powerful techniques for testing, but they can be easily abused, with negative effects on code quality, maintenance, and application architecture.  These pain-points can be hard to verbalize, and consequently hard to address.  If your unit tests are a PITA, but you cannot explain why, this talk may be for you.\\r\\n\\r\\nMocking as a technique has deep roots within OOD and TDD, going back 20+ years, but many Python developers know mocks and patches merely as a technique to isolate code under test.  In the absence of knowledge around OOD and TDD, best practices around mocking are completely unknown, misunderstood, or ignored.   Developers who use mocks and patches without doing TDD or OOD are susceptible to falling into many well-understood and documented traps.\\r\\n\\r\\nThis talk will draw a historical connection between the way mocks are taught today, and their origins in TDD, OOD, and Java.  It will also demonstrate some pitfalls, and provide some guidance and alternatives to mocking and patching (e.g., dependency injection, test doubles, functional style).</div>\\n  \\n    <h2>\\n      <a id=\"presentation-149\"\\n         href=\"/2019/schedule/presentation/149/\">\\n        Modern solvers: Problems well-defined are problems solved\\n      </a>\\n    </h2>\\n    <p>\\n      <b>\\n        Raymond Hettinger\\n        \\n      </b>\\n      \\n      <br>\\n      <b>\\n        Friday\\n        12:10 p.m.&ndash;12:55 p.m.\\n        in\\n        Grand Ballroom B\\n      </b>\\n      \\n    </p>\\n    <div class=\"presentation-description\"\\n         >Every programmer should learn to use solvers, tools that reason directly from a description of a problem to its solution.  \\r\\n\\r\\nTools like AlphaZero can formulate winning strategies for games given only a description of the rules of the game.  For certain classes of problems, we really can just let the computer do the work.\\r\\n\\r\\nIn this talk, we learn principles, techniques, and multiple examples for three solvers available in Python.\\r\\n\\r\\nThe first tool is a generic puzzle-solving framework that employs tree search strategies.  We apply it to a simple sequencing problem and then to a harder sliding-block puzzle. Next, we&#39;ll look at the solver code to learn how it works.  I&#39;ll also show an essential optimization technique and how to humanize the output.  We demonstrate our skills by solving another famous puzzle.\\r\\n\\r\\nThe second tool is called a SAT solver. It is one of the miracles of the 21st century. From first principles, I&#39;ll show you what problems it solves and the way problems need to be described for modules like *PycoSAT*.  I&#39;ll provide helper functions to humanize our interactions with this great tool.  Then, we&#39;ll demonstrate our skills by creating a Sudoku solver and a readable logic problem solver.\\r\\n\\r\\nThe third tool is the &quot;multi-armed bandit&quot;. It is a generic reinforcement learning algorithm that is easy to learn, powerful, and applicable to a broad class of problems.  We apply it to winning rock-paper-scissors using pattern recognition.\\r\\n\\r\\nLastly, I&#39;ll summarize DeepMind&#39;s paper on AlphaZero which was published in the December 2018 edition of *Science*.  This gives us hints at the full potential of these techniques.  \\r\\n\\r\\nPure Python source code and examples are provided for all of the tools.</div>\\n  \\n    <h2>\\n      <a id=\"presentation-189\"\\n         href=\"/2019/schedule/presentation/189/\">\\n        One Engineer, an API, and an MVP: Or, how I spent one hour improving hiring data at my company.\\n      </a>\\n    </h2>\\n    <p>\\n      <b>\\n        Nicole Zuckerman\\n        \\n      </b>\\n      \\n      <br>\\n      <b>\\n        Friday\\n        11:30 a.m.&ndash;noon\\n        in\\n        Grand Ballroom A\\n      </b>\\n      \\n    </p>\\n    <div class=\"presentation-description\"\\n         >&amp;lt;announcer&gt; This one quick trick will help you measure the diversity of your hiring pipeline!  Read on to hear how! &amp;lt;/announcer&gt;\\r\\n\\r\\nOne challenge in improving diversity within a hiring pipeline is the struggle to measure what exists in the first place. It&#39;s hard to know where to focus your resources until you know what you have to work with, and can identify what steps make a difference and what efforts don&#39;t. Using python/django and an api key for our recruiting vendor, you can make this information visible and, therefore, actionable, with very little work.</div>\\n  \\n    <h2>\\n      <a id=\"presentation-238\"\\n         href=\"/2019/schedule/presentation/238/\">\\n        Plan your next eclipse viewing with Jupyter and geopandas\\n      </a>\\n    </h2>\\n    <p>\\n      <b>\\n        Christy Heaton\\n        \\n      </b>\\n      \\n      <br>\\n      <b>\\n        Friday\\n        10:50 a.m.&ndash;11:20 a.m.\\n        in\\n        Room 26A/B/C\\n      </b>\\n      \\n    </p>\\n    <div class=\"presentation-description\"\\n         >Maps are powerful tools that we use every day. Python is well-equipped to handle spatial data and with well documented robust libraries to help you perform spatial analysis and create beautiful maps. In this talk, we&#39;ll discover the fascinating world of spatial analysis by solving a fun problem: where can we go to see an upcoming solar eclipse? Along the way we&#39;ll learn about mapping topics like projections and coordinate systems, best practices for map making, and intricacies of spatial data.</div>\\n  \\n    <h2>\\n      <a id=\"presentation-227\"\\n         href=\"/2019/schedule/presentation/227/\">\\n        Plugins: Adding Flexibility to Your Apps\\n      </a>\\n    </h2>\\n    <p>\\n      <b>\\n        Geir Arne Hjelle\\n        \\n      </b>\\n      \\n      <br>\\n      <b>\\n        Sunday\\n        1:10 p.m.&ndash;1:40 p.m.\\n        in\\n        Room 26A/B/C\\n      </b>\\n      \\n    </p>\\n    <div class=\"presentation-description\"\\n         >Python is a flexible language. Your Python app, on the other hand, is usually more set in stone: buttons, functions, displays are all explicitly defined.\\r\\n\\r\\nIn this talk you&#39;ll learn how to take advantage of features like decorators and functions as first-class objects to set up a simple plugin system that allows your app to be more flexible. In fact, you can allow your users to add or customize functionality they want after you ship.\\r\\n\\r\\nBy using plugins, your code becomes more modular and maintainable. At the same time your users may be able to use your great app to work with data or challenges you didn&#39;t even know existed.</div>\\n  \\n    <h2>\\n      <a id=\"presentation-158\"\\n         href=\"/2019/schedule/presentation/158/\">\\n        Plug-n-Stream Player Piano: Signal Processing With Python\\n      </a>\\n    </h2>\\n    <p>\\n      <b>\\n        JP Bader\\n        \\n      </b>\\n      \\n      <br>\\n      <b>\\n        Friday\\n        4:15 p.m.&ndash;5 p.m.\\n        in\\n        Grand Ballroom A\\n      </b>\\n      \\n    </p>\\n    <div class=\"presentation-description\"\\n         >Digital Signal Processing and Player Piano don&#39;t normally come together in the same sentance. Player Pianos that are 100+ years old are awesome artisan artifacts, but they don&#39;t play digital formats very well. This talk will show how we take a 100+ year old technology and marry it to the digital age via Python libraries and precision lasers! \\r\\n\\r\\nIn this discussion we will cover how we are creating our own &quot;Plug-n-Stream Player Piano&quot;. We will take a look at the different digital signal processing Python libraries, their functionality, and requirements for converting audio streams to piano playable audio files. After a brief walk through of our prototyped hardware, we will dissect the digital signal processing, converting streaming music to data for the Player Piano. With a real Player Piano in the room we will demo streaming music from our devices onto the piano. \\r\\n\\r\\nLIVE(ish) Piano Playing!</div>\\n  \\n    <h2>\\n      <a id=\"presentation-194\"\\n         href=\"/2019/schedule/presentation/194/\">\\n        Practical decorators\\n      </a>\\n    </h2>\\n    <p>\\n      <b>\\n        Reuven M. Lerner\\n        \\n      </b>\\n      \\n      <br>\\n      <b>\\n        Friday\\n        10:50 a.m.&ndash;11:20 a.m.\\n        in\\n        Grand Ballroom A\\n      </b>\\n      \\n    </p>\\n    <div class=\"presentation-description\"\\n         >Decorators are one of Python&#39;s most powerful features.  But even if you understand what they do, it&#39;s not always obvious what you can do with them.  Sure, from a practical perspective, they let you remove repeated code from your callables.  And semantically, they let you think at a higher level of abstraction, applying the same treatment to functions and classes.\\r\\n\\r\\nBut what can you actually do with them?  For many Python developers I&#39;ve encountered, ecorators sometimes appear to be a solution looking for a problem.\\r\\n\\r\\nIn this talk, I&#39;ll show you some practical uses for decorators, and how you can use them to make your code more readable and maintainable, while also providing more semantic power.  Moreover, you&#39;ll see examples of things would be hard to do without decorators.  I hope that after this talk, you&#39;ll have a good sense of how to use decorators in your own Python projects.</div>\\n  \\n    <h2>\\n      <a id=\"presentation-193\"\\n         href=\"/2019/schedule/presentation/193/\">\\n        Programmatic Notebooks with papermill\\n      </a>\\n    </h2>\\n    <p>\\n      <b>\\n        Matthew Seal\\n        \\n      </b>\\n      \\n      <br>\\n      <b>\\n        Friday\\n        1:40 p.m.&ndash;2:25 p.m.\\n        in\\n        Grand Ballroom A\\n      </b>\\n      \\n    </p>\\n    <div class=\"presentation-description\"\\n         >Notebooks have traditionally been a tool for drafting code and avoiding repeated expensive computations while exploring solutions. However, with new tools like nteract&#39;s papermill and scrapbook libraries, this technology has been expanded to make a reusable and parameterizable template for execution.\\r\\n\\r\\nWe&#39;ll walk though how Jupyter notebooks are being programmatically used at Netflix and how this helps with our batch processing world. We&#39;ll also explore how these use cases connect back with users and why we&#39;ve adopted these tools for Python and non-Python execution.</div>\\n  \\n    <h2>\\n      <a id=\"presentation-200\"\\n         href=\"/2019/schedule/presentation/200/\">\\n        Put down the deep learning: When not to use neural networks and what to do instead\\n      </a>\\n    </h2>\\n    <p>\\n      <b>\\n        Rachael Tatman\\n        \\n      </b>\\n      \\n      <br>\\n      <b>\\n        Saturday\\n        3:15 p.m.&ndash;3:45 p.m.\\n        in\\n        Grand Ballroom A\\n      </b>\\n      \\n    </p>\\n    <div class=\"presentation-description\"\\n         >The deep learning hype is real, and the Python ecosystem makes it easier than ever to neural networks to everything from speech recognition to generating memes. But when picking a model architecture to apply to your work, you should consider more than just state of the art results from NeurIPS. The amount of time, money and data available to you are equally, if not more, important. This talk will cover some alternatives to deep learning, including regression, tree-based methods and distance based methods. More importantly, it will include a frank discussion of the pros and cons of different methods and when it makes sense to use each in practice.</div>\\n  \\n    <h2>\\n      <a id=\"presentation-212\"\\n         href=\"/2019/schedule/presentation/212/\">\\n        Python on Windows is Okay, Actually\\n      </a>\\n    </h2>\\n    <p>\\n      <b>\\n        Steve Dower\\n        \\n      </b>\\n      \\n      <br>\\n      <b>\\n        Sunday\\n        1:50 p.m.&ndash;2:20 p.m.\\n        in\\n        Room 26A/B/C\\n      </b>\\n      \\n    </p>\\n    <div class=\"presentation-description\"\\n         >Packages that won&#39;t install, encodings that don&#39;t work, installers that ask too many questions, and having to own a PC are all great reasons to just ignore Windows. Or they would be, if they were true.\\r\\n\\r\\nDespite community perception, more than half of Python usage is on Windows, including web development, system administration, and data science, just like on Linux and Mac. And for the most part, Python works the same regardless of what operating system you happen to be using. Still, many library developers will unnecessarily exclude half of their potential audience by not even attempting to be compatible.\\r\\n\\r\\nThis session will walk through the things to be aware of when creating cross-platform libraries. From simple things like using `pathlib` rather than `bytes`, through to all the ways you can get builds and tests running on Windows for free, by the end of this session you will have a checklist of easy tasks for your project that will really enable the whole Python world to benefit from your work.</div>\\n  \\n    <h2>\\n      <a id=\"presentation-208\"\\n         href=\"/2019/schedule/presentation/208/\">\\n        Python Security Tools\\n      </a>\\n    </h2>\\n    <p>\\n      <b>\\n        Terri Oda\\n        \\n      </b>\\n      \\n      <br>\\n      <b>\\n        Saturday\\n        5:10 p.m.&ndash;5:40 p.m.\\n        in\\n        Room 26A/B/C\\n      </b>\\n      \\n    </p>\\n    <div class=\"presentation-description\"\\n         >While high-level security concepts may transcend languages, each language has its own sets of tools and edge cases that are worth knowing.  Python is one of many popular languages that is rarely the focus in security training, but that doesn&#39;t mean python code is automatically secure (no matter what the internet tells you).  Learn why people who say “pylint will help you with security” aren’t doing you any favours, how to use Bandit for security-focused linting and talk about other options for static analysis.  Take a deeper look at why scanning for publicly known vulnerabilities is complicated, and how to use Pyup Safety to make it easier.  We’ll also explore some language myths and best practices.</div>\\n  \\n    <h2>\\n      <a id=\"presentation-182\"\\n         href=\"/2019/schedule/presentation/182/\">\\n        Releasing the World&#39;s Largest Python Site Every 7 Minutes\\n      </a>\\n    </h2>\\n    <p>\\n      <b>\\n        Shuhong Wong\\n        \\n      </b>\\n      \\n      <br>\\n      <b>\\n        Saturday\\n        10:50 a.m.&ndash;11:20 a.m.\\n        in\\n        Grand Ballroom A\\n      </b>\\n      \\n    </p>\\n    <div class=\"presentation-description\"\\n         >Being able to release rapidly and continuously allows businesses to react to opportunities, shorten feedback loop for product iteration cycle and reduce debug effort for erroneous changes. At Instagram, we operate the world&#39;s largest fleet of servers running on Python and we continuously deploy every X minutes. Anyone can do it, this talk will teach you the practical steps and talk about the ideas and problems we faced at every phase of our automation journey.</div>\\n  \\n    <h2>\\n      <a id=\"presentation-175\"\\n         href=\"/2019/schedule/presentation/175/\">\\n        Rescuing Kerala with Python\\n      </a>\\n    </h2>\\n    <p>\\n      <b>\\n        Biswas B\\n        \\n      </b>\\n      \\n      <br>\\n      <b>\\n        Friday\\n        5:10 p.m.&ndash;5:40 p.m.\\n        in\\n        Room 26A/B/C\\n      </b>\\n      \\n    </p>\\n    <div class=\"presentation-description\"\\n         >In the month of August 2018, Kerala, the southernmost state of India, received 250 % of normal rainfall, resulting in all of its 44 dams to be opened. Over 483 people died due to the flooding caused by the opening of dams and a million people were evacuated. \\r\\n\\r\\nI started a website ([keralarescue.in][1]), written in Django. The main purpose of the site was effective collaboration and communication between authorities, volunteers and public. The site was open source from Day 0. About 1500 developers and volunteers onboard our slack group in a couple of days. Within a week, the community united to forge a critical piece of software that saved thousands of lives.\\r\\n\\r\\nThe site initiated as a portal for refugees to request essential resources like food and water and for volunteers to see their needs, all sorted by geographical location. Additionally, we provided direct information for the government and became the official website later on.\\r\\n\\r\\nThe Minimum Viable Product was delivered in fourteen hours. In the initial days, it was only used by the volunteers and Point of Contacts assigned by the government. Later, when the situation became critical, we started getting rescue requests from stranded refugees. The Github repo of the website went viral, and we started to receive feature requests rapidly. We received more than five hundred pull requests in the span of three weeks. \\r\\n\\r\\nThe story I want to present is about the community and technical aspects of keralarescue.in, how people from different backgrounds came together to build a critical piece of software that saved many lives.\\r\\n\\r\\n  [1]: https://keralarescue.in\\r\\n</div>\\n  \\n    <h2>\\n      <a id=\"presentation-172\"\\n         href=\"/2019/schedule/presentation/172/\">\\n        Scraping a Million Pokemon Battles: Distributed Systems By Example\\n      </a>\\n    </h2>\\n    <p>\\n      <b>\\n        Duy Nguyen\\n        \\n      </b>\\n      \\n      <br>\\n      <b>\\n        Friday\\n        5:10 p.m.&ndash;5:40 p.m.\\n        in\\n        Grand Ballroom B\\n      </b>\\n      \\n    </p>\\n    <div class=\"presentation-description\"\\n         >I love Pokemon. However, I don&#39;t love how some players make the community less welcoming towards beginners by hiding their strategies. So I did what any defiant engineer would. I signed up for a free AWS account and began (responsibly) scraping millions of their unauthenticated Pokemon battles.\\r\\n\\r\\nWe&#39;ll journey together through this passion project of mine and draw on specific examples to better understand the trade-offs of working with distributed systems or microservice architectures in the cloud.</div>\\n  \\n    <h2>\\n      <a id=\"presentation-180\"\\n         href=\"/2019/schedule/presentation/180/\">\\n        Set Practice: learning from Python&#39;s set types\\n      </a>\\n    </h2>\\n    <p>\\n      <b>\\n        Luciano Ramalho\\n        \\n      </b>\\n      \\n      <br>\\n      <b>\\n        Friday\\n        10:50 a.m.&ndash;11:20 a.m.\\n        in\\n        Grand Ballroom C\\n      </b>\\n      \\n    </p>\\n    <div class=\"presentation-description\"\\n         >Key takeaways:\\r\\n\\r\\n1. Set operations enable simpler and faster solutions for many tasks;\\r\\n1. Python&#39;s set classes are lessons in elegant, idiomatic API design;\\r\\n1. A set class is a suitable context for implementing operator overloading.\\r\\n\\r\\nBoolean logic and set theory are closely related. In practice, we will see cases where set operations provide simple and fast declarative solutions to programming problems that otherwise require complicated and slow procedural coding.\\r\\n\\r\\nPython&#39;s set built-ins and ABCs provide a rich and well designed API. We will consider their interfaces, and how they can inspire the creation of Pythonic APIs for your own classes.\\r\\n\\r\\nFinally, we will discuss operator overloading — a technique that is not suitable everywhere, but certainly makes sense with sets. Taking a few operators as examples, we will study their implementation in a new `UintSet` class for integer elements. `UintSet` fully implements the `MutableSet` interface over a totally different internal representation based on a bit array instead of a hash table. Membership tests run in _O(1)_ time like the built-in sets (however, `UintSet` is currently pure Python, so YMMV). Using bit arrays allow core set operations like intersection and union to be implemented with fast bitwise operators, and provides compact storage for dense sets of integers.\\r\\n</div>\\n  \\n    <h2>\\n      <a id=\"presentation-197\"\\n         href=\"/2019/schedule/presentation/197/\">\\n        Statistical Profiling (and other fun with the sys module)\\n      </a>\\n    </h2>\\n    <p>\\n      <b>\\n        Emin Martinian\\n        \\n      </b>\\n      \\n      <br>\\n      <b>\\n        Saturday\\n        2:35 p.m.&ndash;3:05 p.m.\\n        in\\n        Atrium Ballroom AB\\n      </b>\\n      \\n    </p>\\n    <div class=\"presentation-description\"\\n         >Profiling involves computing a set of data about how often and how\\r\\nlong various parts of your program are executed. Profiling is useful\\r\\nto understand what makes your program slow and how you can improve\\r\\nit. After a quick review of deterministic profiling tools and\\r\\ntechniques, I will describe how you can do statistical profiling with\\r\\nexisting packages or write your own from scratch.\\r\\n\\r\\nStatistical profiling involves occasionally sampling what your program\\r\\nis doing instead of watching each line or function. A key feature of\\r\\nstatistical profiling is that by using a moderate sampling frequency,\\r\\nyou can profile your production code with almost no overhead. This lets\\r\\nyou find the actual bottlenecks in real use cases.\\r\\n\\r\\nThe core technical focus of the talk is python&#39;s sys module and how it\\r\\nlets you easily examine a running program. I also describe some tricks\\r\\nto be aware of related to threading, context switches, locks, and so on.\\r\\nAt the conclusion of the talk, you will hopefully understand how to use\\r\\nan existing statistical profiler or write a customized version yourself.\\r\\n</div>\\n  \\n    <h2>\\n      <a id=\"presentation-215\"\\n         href=\"/2019/schedule/presentation/215/\">\\n        Strategies for testing Async code\\n      </a>\\n    </h2>\\n    <p>\\n      <b>\\n        Neil Chazin\\n        \\n      </b>\\n      \\n      <br>\\n      <b>\\n        Sunday\\n        1:50 p.m.&ndash;2:20 p.m.\\n        in\\n        Grand Ballroom A\\n      </b>\\n      \\n    </p>\\n    <div class=\"presentation-description\"\\n         >Testing code is important. Testing, primarily unit-testing async code\\r\\nrequires heading off the the standard roadway of unit testing in python. This talk will provide a map to help you along the new path towards testing async code.\\r\\n\\r\\nTopics include:\\r\\n\\r\\n - a brief intro to `asyncio` and challengs in testing with it\\r\\n - running coroutines (and other awaitables) under test\\r\\n - mocking coroutines\\r\\n - testing &quot;main&quot; `asyncio` loops</div>\\n  \\n    <h2>\\n      <a id=\"presentation-154\"\\n         href=\"/2019/schedule/presentation/154/\">\\n        Supporting Engineers with Mental Health Issues\\n      </a>\\n    </h2>\\n    <p>\\n      <b>\\n        Jenna Quindica\\n        \\n      </b>\\n      \\n      <br>\\n      <b>\\n        Friday\\n        4:30 p.m.&ndash;5 p.m.\\n        in\\n        Grand Ballroom B\\n      </b>\\n      \\n    </p>\\n    <div class=\"presentation-description\"\\n         >People live with mental health stigma because we learn that we&#39;re supposed to be strong and resilient. It&#39;s okay not to be strong or resilient all the time. Discussing mental illness is uncomfortable. In this talk, I will help you overcome that discomfort by examining the most common mental health issues, how you can get help for yourself, and how you can best support your coworkers, friends, and family. No one should have to deal with mental illness alone. Bring your tissues.\\r\\n</div>\\n  \\n    <h2>\\n      <a id=\"presentation-205\"\\n         href=\"/2019/schedule/presentation/205/\">\\n        Syntax Trees and Python - Automated Code Transformations\\n      </a>\\n    </h2>\\n    <p>\\n      <b>\\n        Joe Gordon\\n        \\n      </b>\\n      \\n      <br>\\n      <b>\\n        Saturday\\n        4:30 p.m.&ndash;5 p.m.\\n        in\\n        Room 26A/B/C\\n      </b>\\n      \\n    </p>\\n    <div class=\"presentation-description\"\\n         >Manually updating a million line code base is tedious. Thankfully syntax trees provide a safe and quick way to  automatically apply repetitive transformations. Leveraging syntax tree based tooling (based on lib2to3), has been a critical component of Pinterest&#39;s Python 3 upgrade strategy, and saved us countless hours of work.  Learn how syntax trees work, how they are used to transform code, and how you can quickly write your own transformations.</div>\\n  \\n    <h2>\\n      <a id=\"presentation-160\"\\n         href=\"/2019/schedule/presentation/160/\">\\n        Take Back the Web with GraphQL\\n      </a>\\n    </h2>\\n    <p>\\n      <b>\\n        Robert Myers\\n        \\n      </b>\\n      \\n      <br>\\n      <b>\\n        Friday\\n        2:35 p.m.&ndash;3:05 p.m.\\n        in\\n        Grand Ballroom C\\n      </b>\\n      \\n    </p>\\n    <div class=\"presentation-description\"\\n         >GraphQL is an exciting technology that can help simplify web logic. Most of the attention has been focused on client-side improvements, such as reducing payload sizes and reducing total number of requests. This talk will show how GraphQL can structure your backend logic to reduce the client-side dependencies or remove them entirely!</div>\\n  \\n    <h2>\\n      <a id=\"presentation-151\"\\n         href=\"/2019/schedule/presentation/151/\">\\n        Terrain, Art, Python and LiDAR\\n      </a>\\n    </h2>\\n    <p>\\n      <b>\\n        Andrew Godwin\\n        \\n      </b>\\n      \\n      <br>\\n      <b>\\n        Friday\\n        11:30 a.m.&ndash;noon\\n        in\\n        Grand Ballroom B\\n      </b>\\n      \\n    </p>\\n    <div class=\"presentation-description\"\\n         >Seeing the Earth from above is truly breathtaking, but it takes a lot of time, fuel and opportunity - so instead, why not make miniature art of the world&#39;s famous terrains?\\r\\n\\r\\nThis talk explores using Python to take raw terrain data - from aerial lidar and space-based radar scans - and processing it into 3D models, and CAD/CAM toolpaths, with the ultimate result of making Python-powered artwork of some of Earth&#39;s natural wonders.\\r\\n\\r\\nSee how to reduce each National Park to a small, intricately-milled metal carving, how to laser-cut a side-on relief of a whole Hawaiian island, or how to 3D print tiny versions of cities where you can make out each individual building - and the strengths and challenges of using Python to handle 3D and GIS data.\\r\\n\\r\\nWe&#39;ll also look at some basic 3D modelling code, discuss the wonders of different map projections, and how personal LiDAR is slowly, but surely, becoming affordable.</div>\\n  \\n    <h2>\\n      <a id=\"presentation-186\"\\n         href=\"/2019/schedule/presentation/186/\">\\n        The Black Magic of Python Wheels\\n      </a>\\n    </h2>\\n    <p>\\n      <b>\\n        Elana Hashman\\n        \\n      </b>\\n      \\n      <br>\\n      <b>\\n        Saturday\\n        11:30 a.m.&ndash;noon\\n        in\\n        Room 26A/B/C\\n      </b>\\n      \\n    </p>\\n    <div class=\"presentation-description\"\\n         >If you’ve ever `pip install`ed a Python package with C extensions on Linux, it was probably a painful experience, having to download and install development headers for libraries you’ve never even heard of. Maybe you’ve given up on pip and have switched to Conda. But it doesn’t have to be this way! The Python Packaging Authority has been working hard to solve this problem with a new distribution format for compiled Python code, called “wheels.”\\r\\n\\r\\nIn this talk, we’ll descend into the practice of PEPs 513 and 571: arcane scrolls that can equip Python developers with spells to pre-compile applications and libraries in a way that allows most Linux end users to run them directly. I’ll show you how to hex compiled artifacts and source code into the wheel format, harness application binary interfaces (ABIs) to use external libraries, brave the eldritch horrors of the dynamic linker, and bind these all together in the manylinux environment. Come learn to harness the black magic of Python wheels, and you too can spare your users pain… for a price.</div>\\n  \\n    <h2>\\n      <a id=\"presentation-204\"\\n         href=\"/2019/schedule/presentation/204/\">\\n        The Perils of Inheritance: Why We Should Prefer Composition\\n      </a>\\n    </h2>\\n    <p>\\n      <b>\\n        Ariel Ortiz\\n        \\n      </b>\\n      \\n      <br>\\n      <b>\\n        Saturday\\n        4:30 p.m.&ndash;5 p.m.\\n        in\\n        Grand Ballroom B\\n      </b>\\n      \\n    </p>\\n    <div class=\"presentation-description\"\\n         >Inheritance is among the first concepts we learn when studying object-oriented programming. But inheritance comes with some unhappy strings attached. Inheritance, by its very nature, tends to bind a subclass to its superclass. This means that modifying the behavior of a superclass might alter the behavior of all its subclasses, sometimes in unanticipated ways. Furthermore, it’s commonly accepted that inheritance actually breaks encapsulation. So, if inheritance has these issues, what alternative do we have? More than two decades ago, The Gang of Four (Erich Gamma, Richard Helm, Ralph Johnson and John Vlissides) suggested in their famous _Design Patterns_ book  that we should favor object composition over class inheritance.\\r\\n\\r\\nIn this talk I will show some code examples in Python where inheritance goes astray and demonstrate how to correct them by using composition. My intention is not to demonize inheritance, but instead present how to use it wisely in order to improve the design of our object-oriented software so that it’s more flexible and easier to maintain.</div>\\n  \\n    <h2>\\n      <a id=\"presentation-213\"\\n         href=\"/2019/schedule/presentation/213/\">\\n        The Refactoring Balance Beam: When to Make Changes and When to Leave it Alone\\n      </a>\\n    </h2>\\n    <p>\\n      <b>\\n        Amanda Sopkin\\n        \\n      </b>\\n      \\n      <br>\\n      <b>\\n        Sunday\\n        1:50 p.m.&ndash;2:20 p.m.\\n        in\\n        Atrium Ballroom AB\\n      </b>\\n      \\n    </p>\\n    <div class=\"presentation-description\"\\n         >Many developers struggle to find the balance between striving to improve existing code and letting good enough alone by accepting certain shortcomings. As a new developer to a team it can be difficult to understand existing strategies and patterns that are sometimes flat out bad (and often openly acknowledged as such). Often the result of tight deadlines or unclear specifications, even the best developers write code they later look back upon with shudders. So how do we decide when refactoring is worth it? Come learn strategies for refactoring with minimal impact, methods for working with bad code you can’t change, and strategies for knowing the difference between what is fixable and what is better left alone. </div>\\n  \\n    <h2>\\n      <a id=\"presentation-168\"\\n         href=\"/2019/schedule/presentation/168/\">\\n        The Zen of Python Teams\\n      </a>\\n    </h2>\\n    <p>\\n      <b>\\n        Adrienne Lowe\\n        \\n      </b>\\n      \\n      <br>\\n      <b>\\n        Saturday\\n        10:50 a.m.&ndash;11:20 a.m.\\n        in\\n        Grand Ballroom C\\n      </b>\\n      \\n    </p>\\n    <div class=\"presentation-description\"\\n         >The Zen of Python, accessed by running `import this`, is a list of nineteen aphorisms that have guided the development of the language. It has good advice for how to organize our code, but what does it have to say about how we organize ourselves? Plenty: the Zen of Python is not only a solid set of development principles, but the other easter egg is that it’s packed with wisdom about how to build healthy teams. \\r\\n\\r\\nIn this talk I draw upon my time as an engineering manager of Python-focused engineering teams to tell stories of what the Zen of Python has to teach us about communication and conflict, building inclusive teams and transparent processes, and promoting psychological safety. Come ready to reflect on and feel inspired by a new interpretation of these principles, and bring what you learn back to your meetup, study group, open source project, or team. </div>\\n  \\n    <h2>\\n      <a id=\"presentation-203\"\\n         href=\"/2019/schedule/presentation/203/\">\\n        Things I Wish They Told Me About The Multiprocessing Module in Python 3\\n      </a>\\n    </h2>\\n    <p>\\n      <b>\\n        Pamela McANulty\\n        \\n      </b>\\n      \\n      <br>\\n      <b>\\n        Saturday\\n        4:30 p.m.&ndash;5 p.m.\\n        in\\n        Grand Ballroom C\\n      </b>\\n      \\n    </p>\\n    <div class=\"presentation-description\"\\n         >If you haven&#39;t tried multiprocessing or you are trying to move beyond `multiprocessing.map()`, you will likely find that using Python&#39;s `multiprocessing` module can get quite intricate and convoluted.  This talk focuses on a few techniques (starting, shutting down, data flow, blocking, etc) that will maximize `multiprocessing`’s efficiency, while also helping you through the complex issues related to coordinating startup and _especially_ shutdown of your multiprocess app.\\r\\n\\r\\n</div>\\n  \\n    <h2>\\n      <a id=\"presentation-179\"\\n         href=\"/2019/schedule/presentation/179/\">\\n        Thinking Inside the Box: How Python Helped Us Adapt to An Existing Data Ingestion Pipeline\\n      </a>\\n    </h2>\\n    <p>\\n      <b>\\n        Eddie Schuman\\n        \\n      </b>\\n      \\n      <br>\\n      <b>\\n        Saturday\\n        10:50 a.m.&ndash;11:20 a.m.\\n        in\\n        Atrium Ballroom AB\\n      </b>\\n      \\n    </p>\\n    <div class=\"presentation-description\"\\n         >We will cover how we used Python to adapt to a large institutional processing setup.  We used Python to create the definitions, configuration files, and supplementary metadata for each of the weather radars we worked with.  We used a variety of custom tools to interface with existing systems and processes that would have been infeasible to work with otherwise.\\r\\n\\r\\nWe took advantage of one of Python’s greatest strengths: its flexibility.  We used it to perform the bulk of our data processing with NumPy, created custom utility functions to encourage code reuse, and created custom scripts for interfacing with the institutional data processing framework we worked within.\\r\\n</div>\\n  \\n    <h2>\\n      <a id=\"presentation-178\"\\n         href=\"/2019/schedule/presentation/178/\">\\n        Thinking like a Panda: Everything you need to know to use pandas the right way.\\n      </a>\\n    </h2>\\n    <p>\\n      <b>\\n        Hannah Stepanek\\n        \\n      </b>\\n      \\n      <br>\\n      <b>\\n        Friday\\n        3:15 p.m.&ndash;4 p.m.\\n        in\\n        Grand Ballroom B\\n      </b>\\n      \\n    </p>\\n    <div class=\"presentation-description\"\\n         >Using the pandas python library requires a shift in thinking that is not always intuitive to those who use it. This talk will take a deep dive into the underlying data structure of pandas to explain why it performs the way it does under certain circumstances. It will explain why a MultiIndex DataFrame takes up less memory than it&#39;s simple counter part, why groupby should never be run on a non-MultiIndexed DataFrame, why the example documentation for the pandas apply function is an example of how not to use it, and how not taking the time to normalize data can affect performance.  \\r\\n</div>\\n  \\n    <h2>\\n      <a id=\"presentation-185\"\\n         href=\"/2019/schedule/presentation/185/\">\\n        Thoth - how to recommend the best possible libraries for your application\\n      </a>\\n    </h2>\\n    <p>\\n      <b>\\n        Fridolín Pokorný\\n        \\n      </b>\\n      \\n      <br>\\n      <b>\\n        Saturday\\n        11:30 a.m.&ndash;noon\\n        in\\n        Atrium Ballroom AB\\n      </b>\\n      \\n    </p>\\n    <div class=\"presentation-description\"\\n         >Having libraries in your Python project properly locked to a specific version is a well known best practice. Dependency management tools in the Python ecosystem lock dependencies to the latest version available, but what if the latest version available is not the best fit for your application? Open source project Thoth is an advanced Python dependency resolver which recommends libraries for your project based on observations that are gathered for Python libraries for specific runtime environments. How these recommendations look like? How are different observations like performance characteristics of machine learning libraries for a particular hardware gathered?</div>\\n  \\n    <h2>\\n      <a id=\"presentation-202\"\\n         href=\"/2019/schedule/presentation/202/\">\\n        Time to take out the rubbish: garbage collector\\n      </a>\\n    </h2>\\n    <p>\\n      <b>\\n        Pablo Galindo Salgado\\n        \\n      </b>\\n      \\n      <br>\\n      <b>\\n        Saturday\\n        1:40 p.m.&ndash;2:25 p.m.\\n        in\\n        Grand Ballroom A\\n      </b>\\n      \\n    </p>\\n    <div class=\"presentation-description\"\\n         >One of the reasons why programming in Python is very straightforward and simple is that we do not have to worry about the lifetime of our objects. That is, once it ceases to be necessary, a variable disappears from the memory &quot;magically&quot;. The fact that this happens automatically can erroneously lead us to believe that it is not required to worry about what happens behind the scenes.\\r\\n\\r\\nNothing is further from reality: knowing how Python manages memory is fundamental in specific scenarios, and not knowing what is happening can have consequences as significant as unpleasant. For example, if our programs manage a large amount of data at the same time or launch multiple processes in parallel, this ceases to be a theoretical issue and becomes something that we, logical minds, also care.\\r\\n\\r\\nAlthough these concepts tend to be considered advanced and difficult to understand, we will see that this is not the case. This topic is not a purely theoretical matter nor is it difficult to find its practical applications. In this talk, we will explain why it is something that should matter to us, and we will talk about how to apply the knowledge we have gained to specific problems.</div>\\n  \\n    <h2>\\n      <a id=\"presentation-163\"\\n         href=\"/2019/schedule/presentation/163/\">\\n        to GIL or not to GIL: the Future of Multi-Core (C)Python\\n      </a>\\n    </h2>\\n    <p>\\n      <b>\\n        Eric Snow\\n        \\n      </b>\\n      \\n      <br>\\n      <b>\\n        Friday\\n        2:35 p.m.&ndash;3:05 p.m.\\n        in\\n        Grand Ballroom A\\n      </b>\\n      \\n    </p>\\n    <div class=\"presentation-description\"\\n         >Why come to yet another talk about CPython&#39;s GIL? [1]  Sure, we&#39;ll spend a little time on what it is, who it affects (and doesn&#39;t), and how to work around it.  However, what you want to come hear is what the future holds for the GIL.\\r\\n\\r\\nWe&#39;ll take most of the time talking about life *after* the GIL!  Come see what recent developments and ongoing work will allow us to either circumvent the GIL and get rid of it, unlocking true multi-core capability in Python code.\\r\\n\\r\\n[1] In case you don&#39;t know, the GIL is a global lock that prevents multi-core parallelism in pure Python code.  It has a controversial place in the community.  Look it up (or come to this talk)!</div>\\n  \\n    <h2>\\n      <a id=\"presentation-198\"\\n         href=\"/2019/schedule/presentation/198/\">\\n        Type hinting (and mypy)\\n      </a>\\n    </h2>\\n    <p>\\n      <b>\\n        Bernat Gabor\\n        \\n      </b>\\n      \\n      <br>\\n      <b>\\n        Saturday\\n        2:35 p.m.&ndash;3:05 p.m.\\n        in\\n        Grand Ballroom B\\n      </b>\\n      \\n    </p>\\n    <div class=\"presentation-description\"\\n         >Type hinting for Python (as a linter tool) came out in September 2015 as part of Python 3.5 (and was championed by Guido himself). Since then, variable annotations (plus, more recently, protocols) improved its capabilities even further. Over the last two years, tools, such as mypy, could build on top of it. Slowly, these annotations have emerged from a proof of concept state (e.g., mypy API planning) to becoming a stable feature.\\r\\n\\r\\nIn this presentation, I&#39;ll tell my story of using type hints for both adding type hinting and checking type correctness for a library supporting both Python 2 and 3 and reusing this information to insert type data into the generated Sphinx documentation automatically.</div>\\n  \\n    <h2>\\n      <a id=\"presentation-181\"\\n         href=\"/2019/schedule/presentation/181/\">\\n         Understanding Python’s Debugging Internals \\n      </a>\\n    </h2>\\n    <p>\\n      <b>\\n        Liran Haimovitch\\n        \\n      </b>\\n      \\n      <br>\\n      <b>\\n        Friday\\n        3:15 p.m.&ndash;4 p.m.\\n        in\\n        Room 26A/B/C\\n      </b>\\n      \\n    </p>\\n    <div class=\"presentation-description\"\\n         >Knowing your enemies is as important as knowing your friends. Understanding your debugger is a little of both. Have you ever wondered how Python debugging looks on the inside?\\r\\nOn our journey to building a Python debugger, we learned a lot about its internals, quirks and more.\\r\\n\\r\\nDuring this session, we’ll share how debugging actually works in Python.\\r\\nWe’ll discuss the differences between CPython and PyPy interpreters, explain the underlying debugging mechanism and show you how to utilize this knowledge at work and up your watercooler talk game.</div>\\n  \\n    <h2>\\n      <a id=\"presentation-237\"\\n         href=\"/2019/schedule/presentation/237/\">\\n        What is a PLC and how do I talk Python to it?\\n      </a>\\n    </h2>\\n    <p>\\n      <b>\\n        Jonas Neubert\\n        \\n      </b>\\n      \\n      <br>\\n      <b>\\n        Friday\\n        12:10 p.m.&ndash;12:40 p.m.\\n        in\\n        Grand Ballroom A\\n      </b>\\n      \\n    </p>\\n    <div class=\"presentation-description\"\\n         >Walk into any factory and you will see a Programmable Logic Controller (PLC). It&#39;s the small box that has a memory card and an Ethernet cable on one side, and lots of colorful wires connected to the other end. Inside runs the logic that turns inputs from sensors into outputs to robots, conveyor belts and other machinery. PLCs evolved from relay banks in the 1970s and have ruled the world of industrial automation since then.\\r\\n\\r\\nIn the first half of this talk we will take a look at how they work, how to program them, and why a strange language called &quot;ladder logic&quot; is (still) the lingua franca for programming them. In a short on-stage demo I will write some PLC code to control a device on stage.\\r\\n\\r\\nIt&#39;s 2019 now and just running a PLC isn&#39;t quite enough anymore. Everyone is talking about the &quot;Industrial Internet of Things&quot; and they have connected their PLCs to the company network. The second half of the talk will look at how we can connect to PLCs to read data and influence the running program with Python. </div>\\n  \\n    <h2>\\n      <a id=\"presentation-195\"\\n         href=\"/2019/schedule/presentation/195/\">\\n        What&#39;s new in Python 3.7\\n      </a>\\n    </h2>\\n    <p>\\n      <b>\\n        Dustin Ingram\\n        \\n      </b>\\n      \\n      <br>\\n      <b>\\n        Saturday\\n        1:55 p.m.&ndash;2:25 p.m.\\n        in\\n        Room 26A/B/C\\n      </b>\\n      \\n    </p>\\n    <div class=\"presentation-description\"\\n         >Python 3.7 is here! In this talk, we’ll explore several new standard library modules, new syntax features and changes, and other performance improvements and implementation changes and what it means for us as Python developers.\\r\\n\\r\\nWe’ll also briefly chat about what exciting things didn’t quite make it into 3.7, but we should expect to see in 3.8.</div>\\n  \\n    <h2>\\n      <a id=\"presentation-162\"\\n         href=\"/2019/schedule/presentation/162/\">\\n        Wily Python: Writing simpler and more maintainable Python\\n      </a>\\n    </h2>\\n    <p>\\n      <b>\\n        Anthony Shaw\\n        \\n      </b>\\n      \\n      <br>\\n      <b>\\n        Friday\\n        2:35 p.m.&ndash;3:05 p.m.\\n        in\\n        Room 26A/B/C\\n      </b>\\n      \\n    </p>\\n    <div class=\"presentation-description\"\\n         >Everyone starts with the best intentions with their Python projects, &quot;this time it&#39;s going to be clean, simple and maintainable&quot;. But code evolves over time, requirements change and codebases can get messy and complicated quickly.\\r\\n\\r\\nIn this talk, you will learn how to use `wily` to measure and graph how complicated your Python code is and a series of practical techniques to simplify it. `wily` will show you which parts of your projects are becoming or have become hard to maintain and need a refactor. Once you know where the skeletons are, you will learn practical techniques for refactoring &quot;complex&quot; code and some resources to use to take your refactoring to the next level.</div>\\n  \\n    <h2>\\n      <a id=\"presentation-191\"\\n         href=\"/2019/schedule/presentation/191/\">\\n        Working with Time Zones: Everything You Wish You Didn&#39;t Need to Know\\n      </a>\\n    </h2>\\n    <p>\\n      <b>\\n        Paul Ganssle\\n        \\n      </b>\\n      \\n      <br>\\n      <b>\\n        Sunday\\n        2:30 p.m.&ndash;3 p.m.\\n        in\\n        Room 26A/B/C\\n      </b>\\n      \\n    </p>\\n    <div class=\"presentation-description\"\\n         >Time zones are complicated, but they are a fact of engineering life. Time zones have [skipped entire days](http://www.bbc.com/news/world-asia-16351377) and repeated others. There are time zones that switch to [DST twice per year](https://www.timeanddate.com/time/zone/morocco/casablanca). But not necessarily every year.  In Python it&#39;s even possible to create datetimes with non-transitive equality (`a == b`, `b == c`, `a != c`).\\r\\n\\r\\nIn this talk you&#39;ll learn about Python&#39;s time zone model and other concepts critical to avoiding datetime troubles. Using `dateutil` and `pytz` as examples, this talk covers how to deal with ambiguous and imaginary times, datetime arithmetic around a Daylight Savings Time transition, and datetime&#39;s new `fold` attribute, introduced in Python 3.6 ([PEP 495](https://www.python.org/dev/peps/pep-0495/)).\\r\\n</div>\\n  \\n  \\n</div>\\n                  \\n                </div>\\n              </div>\\n            </div>\\n            \\n          </div>\\n        \\n    </div>\\n  \\n</div>\\n<footer>\\n  <div class=\"footer-container\">\\n    <img class=\"python-logo\" src=\"/2019/site_media/static/img/psf-logo.3411e5f40050.png\"\\n         width=300 alt=\"PSF logo\">\\n    \\n    <p>\\n      The PyCon 2019 conference in Cleveland, Ohio, USA, is a production of the\\n      <a href=\"http://python.org/psf/\">Python Software Foundation</a>.\\n      This site is built using\\n      <a href=\"https://www.djangoproject.com/\">Django</a>\\n      and\\n      <a href=\"http://eldarion.com/symposion/\" title=\"Symposion — An Open Platform for Conference Websites\">Symposion</a>.\\n      Hosting is provided by\\n      <a href=\"http://heroku.com/\">Heroku</a>.\\n    </p>\\n    <p>\\n      Logo and Branding by\\n      <a href=\"http://hellofizz.com/\"><img title=\"Fizz Creative\" alt=\"Fizz Creative\" src=\"/2019/site_media/static/img/fizz.b1afc5c95fa1.png\"/></a>.\\n    </p>\\n  </div>\\n</footer>\\n\\n\\n\\n</body>\\n</html>\\n'"
            ]
          },
          "metadata": {
            "tags": []
          },
          "execution_count": 206
        }
      ]
    },
    {
      "metadata": {
        "id": "AHtkRf4cpDwm",
        "colab_type": "code",
        "colab": {}
      },
      "cell_type": "code",
      "source": [
        "soup = bs4.BeautifulSoup(result.text)"
      ],
      "execution_count": 0,
      "outputs": []
    },
    {
      "metadata": {
        "id": "xFmatxVYqwDm",
        "colab_type": "code",
        "outputId": "ac1ddee7-f065-4a21-d2ac-5b9adb0967e4",
        "colab": {
          "base_uri": "https://localhost:8080/",
          "height": 35
        }
      },
      "cell_type": "code",
      "source": [
        "type(soup)"
      ],
      "execution_count": 0,
      "outputs": [
        {
          "output_type": "execute_result",
          "data": {
            "text/plain": [
              "bs4.BeautifulSoup"
            ]
          },
          "metadata": {
            "tags": []
          },
          "execution_count": 208
        }
      ]
    },
    {
      "metadata": {
        "id": "PHWjbLAnqyXI",
        "colab_type": "code",
        "outputId": "e883f5d0-47a4-40f8-b221-5a12a548dffd",
        "colab": {
          "base_uri": "https://localhost:8080/",
          "height": 6621
        }
      },
      "cell_type": "code",
      "source": [
        "soup.select('h2')"
      ],
      "execution_count": 0,
      "outputs": [
        {
          "output_type": "execute_result",
          "data": {
            "text/plain": [
              "[<h2>\n",
              " <a href=\"/2019/schedule/presentation/235/\" id=\"presentation-235\">\n",
              "         5 Steps to Build Python Native GUI Widgets for BeeWare\n",
              "       </a>\n",
              " </h2>, <h2>\n",
              " <a href=\"/2019/schedule/presentation/196/\" id=\"presentation-196\">\n",
              "         8 things that happen at the dot:  Attribute Access &amp; Descriptors\n",
              "       </a>\n",
              " </h2>, <h2>\n",
              " <a href=\"/2019/schedule/presentation/210/\" id=\"presentation-210\">\n",
              "         Account Security Patterns: How Logged-In Are you?\n",
              "       </a>\n",
              " </h2>, <h2>\n",
              " <a href=\"/2019/schedule/presentation/240/\" id=\"presentation-240\">\n",
              "         Ace Your Technical Interview Using Python\n",
              "       </a>\n",
              " </h2>, <h2>\n",
              " <a href=\"/2019/schedule/presentation/161/\" id=\"presentation-161\">\n",
              "         Advanced asyncio: Solving Real-world Production Problems\n",
              "       </a>\n",
              " </h2>, <h2>\n",
              " <a href=\"/2019/schedule/presentation/230/\" id=\"presentation-230\">\n",
              "         A Guide to Software Engineering for Visually Impaired\n",
              "       </a>\n",
              " </h2>, <h2>\n",
              " <a href=\"/2019/schedule/presentation/157/\" id=\"presentation-157\">\n",
              "         A Medieval DSL? Parsing Heraldic Blazons with Python!\n",
              "       </a>\n",
              " </h2>, <h2>\n",
              " <a href=\"/2019/schedule/presentation/207/\" id=\"presentation-207\">\n",
              "         A New Era in Python Governance\n",
              "       </a>\n",
              " </h2>, <h2>\n",
              " <a href=\"/2019/schedule/presentation/150/\" id=\"presentation-150\">\n",
              "         API Evolution the Right Way\n",
              "       </a>\n",
              " </h2>, <h2>\n",
              " <a href=\"/2019/schedule/presentation/229/\" id=\"presentation-229\">\n",
              "         A Right Stitch-up: Creating embroidery patterns with Pillow\n",
              "       </a>\n",
              " </h2>, <h2>\n",
              " <a href=\"/2019/schedule/presentation/153/\" id=\"presentation-153\">\n",
              "         A Snake in the Bits: Security Automation with Python\n",
              "       </a>\n",
              " </h2>, <h2>\n",
              " <a href=\"/2019/schedule/presentation/187/\" id=\"presentation-187\">\n",
              "         Assets in Django without losing your hair\n",
              "       </a>\n",
              " </h2>, <h2>\n",
              " <a href=\"/2019/schedule/presentation/165/\" id=\"presentation-165\">\n",
              "         Attracting the Invisible Contributors\n",
              "       </a>\n",
              " </h2>, <h2>\n",
              " <a href=\"/2019/schedule/presentation/174/\" id=\"presentation-174\">\n",
              "         Beyond Two Groups: Generalized Bayesian A/B[/C/D/E...] Testing\n",
              "       </a>\n",
              " </h2>, <h2>\n",
              " <a href=\"/2019/schedule/presentation/152/\" id=\"presentation-152\">\n",
              "         Break the Cycle: Three excellent Python tools to automate repetitive tasks\n",
              "       </a>\n",
              " </h2>, <h2>\n",
              " <a href=\"/2019/schedule/presentation/211/\" id=\"presentation-211\">\n",
              "         Building a Culture of Observability\n",
              "       </a>\n",
              " </h2>, <h2>\n",
              " <a href=\"/2019/schedule/presentation/155/\" id=\"presentation-155\">\n",
              "         Building an Open Source Artificial Pancreas\n",
              "       </a>\n",
              " </h2>, <h2>\n",
              " <a href=\"/2019/schedule/presentation/209/\" id=\"presentation-209\">\n",
              "         Building reproducible Python applications for secured environments\n",
              "       </a>\n",
              " </h2>, <h2>\n",
              " <a href=\"/2019/schedule/presentation/231/\" id=\"presentation-231\">\n",
              "         But, Why is the (Django) Admin Slow?\n",
              "       </a>\n",
              " </h2>, <h2>\n",
              " <a href=\"/2019/schedule/presentation/177/\" id=\"presentation-177\">\n",
              "         Coded Readers: Using Python to uncover surprising patterns in the books you love\n",
              "       </a>\n",
              " </h2>, <h2>\n",
              " <a href=\"/2019/schedule/presentation/166/\" id=\"presentation-166\">\n",
              "         Code Review Skills for Pythonistas\n",
              "       </a>\n",
              " </h2>, <h2>\n",
              " <a href=\"/2019/schedule/presentation/206/\" id=\"presentation-206\">\n",
              "         CUDA in your Python: Effective Parallel Programming on the GPU\n",
              "       </a>\n",
              " </h2>, <h2>\n",
              " <a href=\"/2019/schedule/presentation/184/\" id=\"presentation-184\">\n",
              "         Dependency hell: a library author's guide\n",
              "       </a>\n",
              " </h2>, <h2>\n",
              " <a href=\"/2019/schedule/presentation/188/\" id=\"presentation-188\">\n",
              "         Django Channels in practice\n",
              "       </a>\n",
              " </h2>, <h2>\n",
              " <a href=\"/2019/schedule/presentation/146/\" id=\"presentation-146\">\n",
              "         Does remote work really work?\n",
              "       </a>\n",
              " </h2>, <h2>\n",
              " <a href=\"/2019/schedule/presentation/218/\" id=\"presentation-218\">\n",
              "         Don't be a robot, build the bot\n",
              "       </a>\n",
              " </h2>, <h2>\n",
              " <a href=\"/2019/schedule/presentation/192/\" id=\"presentation-192\">\n",
              "         Eita! Why Internationalization and Localization matter\n",
              "       </a>\n",
              " </h2>, <h2>\n",
              " <a href=\"/2019/schedule/presentation/190/\" id=\"presentation-190\">\n",
              "         Engineering Ethics and Open Source Software\n",
              "       </a>\n",
              " </h2>, <h2>\n",
              " <a href=\"/2019/schedule/presentation/233/\" id=\"presentation-233\">\n",
              "         Ensuring Safe Water Access with Python and Machine Learning\n",
              "       </a>\n",
              " </h2>, <h2>\n",
              " <a href=\"/2019/schedule/presentation/217/\" id=\"presentation-217\">\n",
              "         Escape from auto-manual testing with Hypothesis!\n",
              "       </a>\n",
              " </h2>, <h2>\n",
              " <a href=\"/2019/schedule/presentation/199/\" id=\"presentation-199\">\n",
              "         ¡Escuincla babosa!: Creating a telenovela script in three Python deep learning frameworks\n",
              "       </a>\n",
              " </h2>, <h2>\n",
              " <a href=\"/2019/schedule/presentation/222/\" id=\"presentation-222\">\n",
              "         Everything at Once: Python's Many Concurrency Models\n",
              "       </a>\n",
              " </h2>, <h2>\n",
              " <a href=\"/2019/schedule/presentation/225/\" id=\"presentation-225\">\n",
              "         Exceptional Exceptions - How to properly raise, handle and create them.\n",
              "       </a>\n",
              " </h2>, <h2>\n",
              " <a href=\"/2019/schedule/presentation/232/\" id=\"presentation-232\">\n",
              "         Extracting tabular data from PDFs with Camelot &amp; Excalibur\n",
              "       </a>\n",
              " </h2>, <h2>\n",
              " <a href=\"/2019/schedule/presentation/159/\" id=\"presentation-159\">\n",
              "         Fighting Climate Change with Python\n",
              "       </a>\n",
              " </h2>, <h2>\n",
              " <a href=\"/2019/schedule/presentation/221/\" id=\"presentation-221\">\n",
              "         Floats are Friends: making the most of IEEE754.00000000000000002\n",
              "       </a>\n",
              " </h2>, <h2>\n",
              " <a href=\"/2019/schedule/presentation/170/\" id=\"presentation-170\">\n",
              "         From days to minutes, from minutes to milliseconds with SQLAlchemy\n",
              "       </a>\n",
              " </h2>, <h2>\n",
              " <a href=\"/2019/schedule/presentation/228/\" id=\"presentation-228\">\n",
              "         Getting Started Testing in Data Science\n",
              "       </a>\n",
              " </h2>, <h2>\n",
              " <a href=\"/2019/schedule/presentation/234/\" id=\"presentation-234\">\n",
              "         Getting started with Deep Learning: Using Keras &amp; Numpy to detect voice disorders \n",
              "       </a>\n",
              " </h2>, <h2>\n",
              " <a href=\"/2019/schedule/presentation/223/\" id=\"presentation-223\">\n",
              "         Getting to Three Million Lines of Type-Annotated Python\n",
              "       </a>\n",
              " </h2>, <h2>\n",
              " <a href=\"/2019/schedule/presentation/236/\" id=\"presentation-236\">\n",
              "         Going from 2 to 3 on Windows, macOS and Linux\n",
              "       </a>\n",
              " </h2>, <h2>\n",
              " <a href=\"/2019/schedule/presentation/164/\" id=\"presentation-164\">\n",
              "         Help! I'm now the leader of our Meetup group!\n",
              "       </a>\n",
              " </h2>, <h2>\n",
              " <a href=\"/2019/schedule/presentation/173/\" id=\"presentation-173\">\n",
              "         How to Build a Clinical Diagnostic Model in Python\n",
              "       </a>\n",
              " </h2>, <h2>\n",
              " <a href=\"/2019/schedule/presentation/241/\" id=\"presentation-241\">\n",
              "         How to engage Python contributors in the long term? Tech is easy, people are hard.\n",
              "       </a>\n",
              " </h2>, <h2>\n",
              " <a href=\"/2019/schedule/presentation/169/\" id=\"presentation-169\">\n",
              "         How to JIT: Writing a Python JIT from scratch in pure Python\n",
              "       </a>\n",
              " </h2>, <h2>\n",
              " <a href=\"/2019/schedule/presentation/219/\" id=\"presentation-219\">\n",
              "         How to Think about Data Visualization\n",
              "       </a>\n",
              " </h2>, <h2>\n",
              " <a href=\"/2019/schedule/presentation/171/\" id=\"presentation-171\">\n",
              "         Instant serverless APIs, powered by SQLite\n",
              "       </a>\n",
              " </h2>, <h2>\n",
              " <a href=\"/2019/schedule/presentation/183/\" id=\"presentation-183\">\n",
              "         Intentional Deployment: Best Practices for Feature Flag Management\n",
              "       </a>\n",
              " </h2>, <h2>\n",
              " <a href=\"/2019/schedule/presentation/220/\" id=\"presentation-220\">\n",
              "         Lessons learned from building a community of Python users among thousands of analysts\n",
              "       </a>\n",
              " </h2>, <h2>\n",
              " <a href=\"/2019/schedule/presentation/148/\" id=\"presentation-148\">\n",
              "         Leveraging the Type System to Write Secure Applications\n",
              "       </a>\n",
              " </h2>, <h2>\n",
              " <a href=\"/2019/schedule/presentation/224/\" id=\"presentation-224\">\n",
              "         Life Is Better Painted Black, or: How to Stop Worrying and Embrace Auto-Formatting\n",
              "       </a>\n",
              " </h2>, <h2>\n",
              " <a href=\"/2019/schedule/presentation/214/\" id=\"presentation-214\">\n",
              "         Lowering the Stakes of Failure with Pre-mortems and Post-mortems\n",
              "       </a>\n",
              " </h2>, <h2>\n",
              " <a href=\"/2019/schedule/presentation/176/\" id=\"presentation-176\">\n",
              "         Machine learning model and dataset versioning practices\n",
              "       </a>\n",
              " </h2>, <h2>\n",
              " <a href=\"/2019/schedule/presentation/167/\" id=\"presentation-167\">\n",
              "         Maintaining a Python Project When It’s Not Your Job\n",
              "       </a>\n",
              " </h2>, <h2>\n",
              " <a href=\"/2019/schedule/presentation/156/\" id=\"presentation-156\">\n",
              "         Making Music with Python, SuperCollider and FoxDot\n",
              "       </a>\n",
              " </h2>, <h2>\n",
              " <a href=\"/2019/schedule/presentation/226/\" id=\"presentation-226\">\n",
              "         Measures and Mismeasures of algorithmic fairness\n",
              "       </a>\n",
              " </h2>, <h2>\n",
              " <a href=\"/2019/schedule/presentation/201/\" id=\"presentation-201\">\n",
              "         Measuring Model Fairness\n",
              "       </a>\n",
              " </h2>, <h2>\n",
              " <a href=\"/2019/schedule/presentation/147/\" id=\"presentation-147\">\n",
              "         Migrating Pinterest from Python2 to Python3\n",
              "       </a>\n",
              " </h2>, <h2>\n",
              " <a href=\"/2019/schedule/presentation/216/\" id=\"presentation-216\">\n",
              "         Mocking and Patching Pitfalls\n",
              "       </a>\n",
              " </h2>, <h2>\n",
              " <a href=\"/2019/schedule/presentation/149/\" id=\"presentation-149\">\n",
              "         Modern solvers: Problems well-defined are problems solved\n",
              "       </a>\n",
              " </h2>, <h2>\n",
              " <a href=\"/2019/schedule/presentation/189/\" id=\"presentation-189\">\n",
              "         One Engineer, an API, and an MVP: Or, how I spent one hour improving hiring data at my company.\n",
              "       </a>\n",
              " </h2>, <h2>\n",
              " <a href=\"/2019/schedule/presentation/238/\" id=\"presentation-238\">\n",
              "         Plan your next eclipse viewing with Jupyter and geopandas\n",
              "       </a>\n",
              " </h2>, <h2>\n",
              " <a href=\"/2019/schedule/presentation/227/\" id=\"presentation-227\">\n",
              "         Plugins: Adding Flexibility to Your Apps\n",
              "       </a>\n",
              " </h2>, <h2>\n",
              " <a href=\"/2019/schedule/presentation/158/\" id=\"presentation-158\">\n",
              "         Plug-n-Stream Player Piano: Signal Processing With Python\n",
              "       </a>\n",
              " </h2>, <h2>\n",
              " <a href=\"/2019/schedule/presentation/194/\" id=\"presentation-194\">\n",
              "         Practical decorators\n",
              "       </a>\n",
              " </h2>, <h2>\n",
              " <a href=\"/2019/schedule/presentation/193/\" id=\"presentation-193\">\n",
              "         Programmatic Notebooks with papermill\n",
              "       </a>\n",
              " </h2>, <h2>\n",
              " <a href=\"/2019/schedule/presentation/200/\" id=\"presentation-200\">\n",
              "         Put down the deep learning: When not to use neural networks and what to do instead\n",
              "       </a>\n",
              " </h2>, <h2>\n",
              " <a href=\"/2019/schedule/presentation/212/\" id=\"presentation-212\">\n",
              "         Python on Windows is Okay, Actually\n",
              "       </a>\n",
              " </h2>, <h2>\n",
              " <a href=\"/2019/schedule/presentation/208/\" id=\"presentation-208\">\n",
              "         Python Security Tools\n",
              "       </a>\n",
              " </h2>, <h2>\n",
              " <a href=\"/2019/schedule/presentation/182/\" id=\"presentation-182\">\n",
              "         Releasing the World's Largest Python Site Every 7 Minutes\n",
              "       </a>\n",
              " </h2>, <h2>\n",
              " <a href=\"/2019/schedule/presentation/175/\" id=\"presentation-175\">\n",
              "         Rescuing Kerala with Python\n",
              "       </a>\n",
              " </h2>, <h2>\n",
              " <a href=\"/2019/schedule/presentation/172/\" id=\"presentation-172\">\n",
              "         Scraping a Million Pokemon Battles: Distributed Systems By Example\n",
              "       </a>\n",
              " </h2>, <h2>\n",
              " <a href=\"/2019/schedule/presentation/180/\" id=\"presentation-180\">\n",
              "         Set Practice: learning from Python's set types\n",
              "       </a>\n",
              " </h2>, <h2>\n",
              " <a href=\"/2019/schedule/presentation/197/\" id=\"presentation-197\">\n",
              "         Statistical Profiling (and other fun with the sys module)\n",
              "       </a>\n",
              " </h2>, <h2>\n",
              " <a href=\"/2019/schedule/presentation/215/\" id=\"presentation-215\">\n",
              "         Strategies for testing Async code\n",
              "       </a>\n",
              " </h2>, <h2>\n",
              " <a href=\"/2019/schedule/presentation/154/\" id=\"presentation-154\">\n",
              "         Supporting Engineers with Mental Health Issues\n",
              "       </a>\n",
              " </h2>, <h2>\n",
              " <a href=\"/2019/schedule/presentation/205/\" id=\"presentation-205\">\n",
              "         Syntax Trees and Python - Automated Code Transformations\n",
              "       </a>\n",
              " </h2>, <h2>\n",
              " <a href=\"/2019/schedule/presentation/160/\" id=\"presentation-160\">\n",
              "         Take Back the Web with GraphQL\n",
              "       </a>\n",
              " </h2>, <h2>\n",
              " <a href=\"/2019/schedule/presentation/151/\" id=\"presentation-151\">\n",
              "         Terrain, Art, Python and LiDAR\n",
              "       </a>\n",
              " </h2>, <h2>\n",
              " <a href=\"/2019/schedule/presentation/186/\" id=\"presentation-186\">\n",
              "         The Black Magic of Python Wheels\n",
              "       </a>\n",
              " </h2>, <h2>\n",
              " <a href=\"/2019/schedule/presentation/204/\" id=\"presentation-204\">\n",
              "         The Perils of Inheritance: Why We Should Prefer Composition\n",
              "       </a>\n",
              " </h2>, <h2>\n",
              " <a href=\"/2019/schedule/presentation/213/\" id=\"presentation-213\">\n",
              "         The Refactoring Balance Beam: When to Make Changes and When to Leave it Alone\n",
              "       </a>\n",
              " </h2>, <h2>\n",
              " <a href=\"/2019/schedule/presentation/168/\" id=\"presentation-168\">\n",
              "         The Zen of Python Teams\n",
              "       </a>\n",
              " </h2>, <h2>\n",
              " <a href=\"/2019/schedule/presentation/203/\" id=\"presentation-203\">\n",
              "         Things I Wish They Told Me About The Multiprocessing Module in Python 3\n",
              "       </a>\n",
              " </h2>, <h2>\n",
              " <a href=\"/2019/schedule/presentation/179/\" id=\"presentation-179\">\n",
              "         Thinking Inside the Box: How Python Helped Us Adapt to An Existing Data Ingestion Pipeline\n",
              "       </a>\n",
              " </h2>, <h2>\n",
              " <a href=\"/2019/schedule/presentation/178/\" id=\"presentation-178\">\n",
              "         Thinking like a Panda: Everything you need to know to use pandas the right way.\n",
              "       </a>\n",
              " </h2>, <h2>\n",
              " <a href=\"/2019/schedule/presentation/185/\" id=\"presentation-185\">\n",
              "         Thoth - how to recommend the best possible libraries for your application\n",
              "       </a>\n",
              " </h2>, <h2>\n",
              " <a href=\"/2019/schedule/presentation/202/\" id=\"presentation-202\">\n",
              "         Time to take out the rubbish: garbage collector\n",
              "       </a>\n",
              " </h2>, <h2>\n",
              " <a href=\"/2019/schedule/presentation/163/\" id=\"presentation-163\">\n",
              "         to GIL or not to GIL: the Future of Multi-Core (C)Python\n",
              "       </a>\n",
              " </h2>, <h2>\n",
              " <a href=\"/2019/schedule/presentation/198/\" id=\"presentation-198\">\n",
              "         Type hinting (and mypy)\n",
              "       </a>\n",
              " </h2>, <h2>\n",
              " <a href=\"/2019/schedule/presentation/181/\" id=\"presentation-181\">\n",
              "          Understanding Python’s Debugging Internals \n",
              "       </a>\n",
              " </h2>, <h2>\n",
              " <a href=\"/2019/schedule/presentation/237/\" id=\"presentation-237\">\n",
              "         What is a PLC and how do I talk Python to it?\n",
              "       </a>\n",
              " </h2>, <h2>\n",
              " <a href=\"/2019/schedule/presentation/195/\" id=\"presentation-195\">\n",
              "         What's new in Python 3.7\n",
              "       </a>\n",
              " </h2>, <h2>\n",
              " <a href=\"/2019/schedule/presentation/162/\" id=\"presentation-162\">\n",
              "         Wily Python: Writing simpler and more maintainable Python\n",
              "       </a>\n",
              " </h2>, <h2>\n",
              " <a href=\"/2019/schedule/presentation/191/\" id=\"presentation-191\">\n",
              "         Working with Time Zones: Everything You Wish You Didn't Need to Know\n",
              "       </a>\n",
              " </h2>]"
            ]
          },
          "metadata": {
            "tags": []
          },
          "execution_count": 209
        }
      ]
    },
    {
      "metadata": {
        "id": "ganQRIIyq8Gh",
        "colab_type": "code",
        "outputId": "e93ccc50-e9fb-4d13-bd1b-49c01d55d815",
        "colab": {
          "base_uri": "https://localhost:8080/",
          "height": 35
        }
      },
      "cell_type": "code",
      "source": [
        "type(soup.select('h2'))"
      ],
      "execution_count": 0,
      "outputs": [
        {
          "output_type": "execute_result",
          "data": {
            "text/plain": [
              "list"
            ]
          },
          "metadata": {
            "tags": []
          },
          "execution_count": 210
        }
      ]
    },
    {
      "metadata": {
        "id": "DV4sl9-SrB-H",
        "colab_type": "code",
        "outputId": "88b74df4-8d70-42d1-fb1b-c3b6ecdf6a0f",
        "colab": {
          "base_uri": "https://localhost:8080/",
          "height": 35
        }
      },
      "cell_type": "code",
      "source": [
        "len(soup.select('h2'))"
      ],
      "execution_count": 0,
      "outputs": [
        {
          "output_type": "execute_result",
          "data": {
            "text/plain": [
              "95"
            ]
          },
          "metadata": {
            "tags": []
          },
          "execution_count": 211
        }
      ]
    },
    {
      "metadata": {
        "id": "qzZ_G7LkrGvH",
        "colab_type": "code",
        "colab": {}
      },
      "cell_type": "code",
      "source": [
        "first = soup.select('h2')[0]"
      ],
      "execution_count": 0,
      "outputs": []
    },
    {
      "metadata": {
        "id": "aNH5K65orQCV",
        "colab_type": "code",
        "outputId": "31b05536-4e72-463a-95ff-2f71aecd587c",
        "colab": {
          "base_uri": "https://localhost:8080/",
          "height": 104
        }
      },
      "cell_type": "code",
      "source": [
        "first  "
      ],
      "execution_count": 0,
      "outputs": [
        {
          "output_type": "execute_result",
          "data": {
            "text/plain": [
              "<h2>\n",
              "<a href=\"/2019/schedule/presentation/235/\" id=\"presentation-235\">\n",
              "        5 Steps to Build Python Native GUI Widgets for BeeWare\n",
              "      </a>\n",
              "</h2>"
            ]
          },
          "metadata": {
            "tags": []
          },
          "execution_count": 213
        }
      ]
    },
    {
      "metadata": {
        "id": "eQvj0uYKrSfQ",
        "colab_type": "code",
        "outputId": "f1c28e83-4170-4e71-9344-3102a79817be",
        "colab": {
          "base_uri": "https://localhost:8080/",
          "height": 35
        }
      },
      "cell_type": "code",
      "source": [
        "type(first)"
      ],
      "execution_count": 0,
      "outputs": [
        {
          "output_type": "execute_result",
          "data": {
            "text/plain": [
              "bs4.element.Tag"
            ]
          },
          "metadata": {
            "tags": []
          },
          "execution_count": 214
        }
      ]
    },
    {
      "metadata": {
        "id": "OMoBp7cerZix",
        "colab_type": "code",
        "outputId": "fdf4379a-8c7f-4c96-e1fe-beba43028326",
        "colab": {
          "base_uri": "https://localhost:8080/",
          "height": 35
        }
      },
      "cell_type": "code",
      "source": [
        "first.text"
      ],
      "execution_count": 0,
      "outputs": [
        {
          "output_type": "execute_result",
          "data": {
            "text/plain": [
              "'\\n\\n        5 Steps to Build Python Native GUI Widgets for BeeWare\\n      \\n'"
            ]
          },
          "metadata": {
            "tags": []
          },
          "execution_count": 215
        }
      ]
    },
    {
      "metadata": {
        "id": "U6rH7IstrlS_",
        "colab_type": "code",
        "outputId": "123b09ff-d14f-442e-b778-eb8da54dc39a",
        "colab": {
          "base_uri": "https://localhost:8080/",
          "height": 35
        }
      },
      "cell_type": "code",
      "source": [
        "type(first.text)"
      ],
      "execution_count": 0,
      "outputs": [
        {
          "output_type": "execute_result",
          "data": {
            "text/plain": [
              "str"
            ]
          },
          "metadata": {
            "tags": []
          },
          "execution_count": 216
        }
      ]
    },
    {
      "metadata": {
        "id": "500ZhfLSrtP9",
        "colab_type": "code",
        "outputId": "30c9ff00-30b6-4627-fea2-6672e79f62d9",
        "colab": {
          "base_uri": "https://localhost:8080/",
          "height": 35
        }
      },
      "cell_type": "code",
      "source": [
        "first.text.strip()"
      ],
      "execution_count": 0,
      "outputs": [
        {
          "output_type": "execute_result",
          "data": {
            "text/plain": [
              "'5 Steps to Build Python Native GUI Widgets for BeeWare'"
            ]
          },
          "metadata": {
            "tags": []
          },
          "execution_count": 217
        }
      ]
    },
    {
      "metadata": {
        "id": "-I1KKUy-sCHo",
        "colab_type": "code",
        "outputId": "f861782c-cdfd-4f23-9075-a064b1298d93",
        "colab": {
          "base_uri": "https://localhost:8080/",
          "height": 35
        }
      },
      "cell_type": "code",
      "source": [
        "last = soup.select('h2')[-1]\n",
        "last.text.strip()"
      ],
      "execution_count": 0,
      "outputs": [
        {
          "output_type": "execute_result",
          "data": {
            "text/plain": [
              "\"Working with Time Zones: Everything You Wish You Didn't Need to Know\""
            ]
          },
          "metadata": {
            "tags": []
          },
          "execution_count": 218
        }
      ]
    },
    {
      "metadata": {
        "id": "XDysRkm0svAj",
        "colab_type": "code",
        "outputId": "db723b79-6ebc-498d-ae11-de3a17e569df",
        "colab": {
          "base_uri": "https://localhost:8080/",
          "height": 1664
        }
      },
      "cell_type": "code",
      "source": [
        "for tag in soup.select('h2'):\n",
        "  title = tag.text.strip()\n",
        "  print(title)"
      ],
      "execution_count": 0,
      "outputs": [
        {
          "output_type": "stream",
          "text": [
            "5 Steps to Build Python Native GUI Widgets for BeeWare\n",
            "8 things that happen at the dot:  Attribute Access & Descriptors\n",
            "Account Security Patterns: How Logged-In Are you?\n",
            "Ace Your Technical Interview Using Python\n",
            "Advanced asyncio: Solving Real-world Production Problems\n",
            "A Guide to Software Engineering for Visually Impaired\n",
            "A Medieval DSL? Parsing Heraldic Blazons with Python!\n",
            "A New Era in Python Governance\n",
            "API Evolution the Right Way\n",
            "A Right Stitch-up: Creating embroidery patterns with Pillow\n",
            "A Snake in the Bits: Security Automation with Python\n",
            "Assets in Django without losing your hair\n",
            "Attracting the Invisible Contributors\n",
            "Beyond Two Groups: Generalized Bayesian A/B[/C/D/E...] Testing\n",
            "Break the Cycle: Three excellent Python tools to automate repetitive tasks\n",
            "Building a Culture of Observability\n",
            "Building an Open Source Artificial Pancreas\n",
            "Building reproducible Python applications for secured environments\n",
            "But, Why is the (Django) Admin Slow?\n",
            "Coded Readers: Using Python to uncover surprising patterns in the books you love\n",
            "Code Review Skills for Pythonistas\n",
            "CUDA in your Python: Effective Parallel Programming on the GPU\n",
            "Dependency hell: a library author's guide\n",
            "Django Channels in practice\n",
            "Does remote work really work?\n",
            "Don't be a robot, build the bot\n",
            "Eita! Why Internationalization and Localization matter\n",
            "Engineering Ethics and Open Source Software\n",
            "Ensuring Safe Water Access with Python and Machine Learning\n",
            "Escape from auto-manual testing with Hypothesis!\n",
            "¡Escuincla babosa!: Creating a telenovela script in three Python deep learning frameworks\n",
            "Everything at Once: Python's Many Concurrency Models\n",
            "Exceptional Exceptions - How to properly raise, handle and create them.\n",
            "Extracting tabular data from PDFs with Camelot & Excalibur\n",
            "Fighting Climate Change with Python\n",
            "Floats are Friends: making the most of IEEE754.00000000000000002\n",
            "From days to minutes, from minutes to milliseconds with SQLAlchemy\n",
            "Getting Started Testing in Data Science\n",
            "Getting started with Deep Learning: Using Keras & Numpy to detect voice disorders\n",
            "Getting to Three Million Lines of Type-Annotated Python\n",
            "Going from 2 to 3 on Windows, macOS and Linux\n",
            "Help! I'm now the leader of our Meetup group!\n",
            "How to Build a Clinical Diagnostic Model in Python\n",
            "How to engage Python contributors in the long term? Tech is easy, people are hard.\n",
            "How to JIT: Writing a Python JIT from scratch in pure Python\n",
            "How to Think about Data Visualization\n",
            "Instant serverless APIs, powered by SQLite\n",
            "Intentional Deployment: Best Practices for Feature Flag Management\n",
            "Lessons learned from building a community of Python users among thousands of analysts\n",
            "Leveraging the Type System to Write Secure Applications\n",
            "Life Is Better Painted Black, or: How to Stop Worrying and Embrace Auto-Formatting\n",
            "Lowering the Stakes of Failure with Pre-mortems and Post-mortems\n",
            "Machine learning model and dataset versioning practices\n",
            "Maintaining a Python Project When It’s Not Your Job\n",
            "Making Music with Python, SuperCollider and FoxDot\n",
            "Measures and Mismeasures of algorithmic fairness\n",
            "Measuring Model Fairness\n",
            "Migrating Pinterest from Python2 to Python3\n",
            "Mocking and Patching Pitfalls\n",
            "Modern solvers: Problems well-defined are problems solved\n",
            "One Engineer, an API, and an MVP: Or, how I spent one hour improving hiring data at my company.\n",
            "Plan your next eclipse viewing with Jupyter and geopandas\n",
            "Plugins: Adding Flexibility to Your Apps\n",
            "Plug-n-Stream Player Piano: Signal Processing With Python\n",
            "Practical decorators\n",
            "Programmatic Notebooks with papermill\n",
            "Put down the deep learning: When not to use neural networks and what to do instead\n",
            "Python on Windows is Okay, Actually\n",
            "Python Security Tools\n",
            "Releasing the World's Largest Python Site Every 7 Minutes\n",
            "Rescuing Kerala with Python\n",
            "Scraping a Million Pokemon Battles: Distributed Systems By Example\n",
            "Set Practice: learning from Python's set types\n",
            "Statistical Profiling (and other fun with the sys module)\n",
            "Strategies for testing Async code\n",
            "Supporting Engineers with Mental Health Issues\n",
            "Syntax Trees and Python - Automated Code Transformations\n",
            "Take Back the Web with GraphQL\n",
            "Terrain, Art, Python and LiDAR\n",
            "The Black Magic of Python Wheels\n",
            "The Perils of Inheritance: Why We Should Prefer Composition\n",
            "The Refactoring Balance Beam: When to Make Changes and When to Leave it Alone\n",
            "The Zen of Python Teams\n",
            "Things I Wish They Told Me About The Multiprocessing Module in Python 3\n",
            "Thinking Inside the Box: How Python Helped Us Adapt to An Existing Data Ingestion Pipeline\n",
            "Thinking like a Panda: Everything you need to know to use pandas the right way.\n",
            "Thoth - how to recommend the best possible libraries for your application\n",
            "Time to take out the rubbish: garbage collector\n",
            "to GIL or not to GIL: the Future of Multi-Core (C)Python\n",
            "Type hinting (and mypy)\n",
            "Understanding Python’s Debugging Internals\n",
            "What is a PLC and how do I talk Python to it?\n",
            "What's new in Python 3.7\n",
            "Wily Python: Writing simpler and more maintainable Python\n",
            "Working with Time Zones: Everything You Wish You Didn't Need to Know\n"
          ],
          "name": "stdout"
        }
      ]
    },
    {
      "metadata": {
        "id": "VnFjv-vztGA_",
        "colab_type": "code",
        "outputId": "f15a648f-2588-4b67-fdf3-c54df3ebf57c",
        "colab": {
          "base_uri": "https://localhost:8080/",
          "height": 55
        }
      },
      "cell_type": "code",
      "source": [
        "titles = []\n",
        "for tag in soup.select('h2'):\n",
        "  title = tag.text.strip()\n",
        "  titles.append(title)\n",
        "  \n",
        "print(titles)"
      ],
      "execution_count": 0,
      "outputs": [
        {
          "output_type": "stream",
          "text": [
            "['5 Steps to Build Python Native GUI Widgets for BeeWare', '8 things that happen at the dot:  Attribute Access & Descriptors', 'Account Security Patterns: How Logged-In Are you?', 'Ace Your Technical Interview Using Python', 'Advanced asyncio: Solving Real-world Production Problems', 'A Guide to Software Engineering for Visually Impaired', 'A Medieval DSL? Parsing Heraldic Blazons with Python!', 'A New Era in Python Governance', 'API Evolution the Right Way', 'A Right Stitch-up: Creating embroidery patterns with Pillow', 'A Snake in the Bits: Security Automation with Python', 'Assets in Django without losing your hair', 'Attracting the Invisible Contributors', 'Beyond Two Groups: Generalized Bayesian A/B[/C/D/E...] Testing', 'Break the Cycle: Three excellent Python tools to automate repetitive tasks', 'Building a Culture of Observability', 'Building an Open Source Artificial Pancreas', 'Building reproducible Python applications for secured environments', 'But, Why is the (Django) Admin Slow?', 'Coded Readers: Using Python to uncover surprising patterns in the books you love', 'Code Review Skills for Pythonistas', 'CUDA in your Python: Effective Parallel Programming on the GPU', \"Dependency hell: a library author's guide\", 'Django Channels in practice', 'Does remote work really work?', \"Don't be a robot, build the bot\", 'Eita! Why Internationalization and Localization matter', 'Engineering Ethics and Open Source Software', 'Ensuring Safe Water Access with Python and Machine Learning', 'Escape from auto-manual testing with Hypothesis!', '¡Escuincla babosa!: Creating a telenovela script in three Python deep learning frameworks', \"Everything at Once: Python's Many Concurrency Models\", 'Exceptional Exceptions - How to properly raise, handle and create them.', 'Extracting tabular data from PDFs with Camelot & Excalibur', 'Fighting Climate Change with Python', 'Floats are Friends: making the most of IEEE754.00000000000000002', 'From days to minutes, from minutes to milliseconds with SQLAlchemy', 'Getting Started Testing in Data Science', 'Getting started with Deep Learning: Using Keras & Numpy to detect voice disorders', 'Getting to Three Million Lines of Type-Annotated Python', 'Going from 2 to 3 on Windows, macOS and Linux', \"Help! I'm now the leader of our Meetup group!\", 'How to Build a Clinical Diagnostic Model in Python', 'How to engage Python contributors in the long term? Tech is easy, people are hard.', 'How to JIT: Writing a Python JIT from scratch in pure Python', 'How to Think about Data Visualization', 'Instant serverless APIs, powered by SQLite', 'Intentional Deployment: Best Practices for Feature Flag Management', 'Lessons learned from building a community of Python users among thousands of analysts', 'Leveraging the Type System to Write Secure Applications', 'Life Is Better Painted Black, or: How to Stop Worrying and Embrace Auto-Formatting', 'Lowering the Stakes of Failure with Pre-mortems and Post-mortems', 'Machine learning model and dataset versioning practices', 'Maintaining a Python Project When It’s Not Your Job', 'Making Music with Python, SuperCollider and FoxDot', 'Measures and Mismeasures of algorithmic fairness', 'Measuring Model Fairness', 'Migrating Pinterest from Python2 to Python3', 'Mocking and Patching Pitfalls', 'Modern solvers: Problems well-defined are problems solved', 'One Engineer, an API, and an MVP: Or, how I spent one hour improving hiring data at my company.', 'Plan your next eclipse viewing with Jupyter and geopandas', 'Plugins: Adding Flexibility to Your Apps', 'Plug-n-Stream Player Piano: Signal Processing With Python', 'Practical decorators', 'Programmatic Notebooks with papermill', 'Put down the deep learning: When not to use neural networks and what to do instead', 'Python on Windows is Okay, Actually', 'Python Security Tools', \"Releasing the World's Largest Python Site Every 7 Minutes\", 'Rescuing Kerala with Python', 'Scraping a Million Pokemon Battles: Distributed Systems By Example', \"Set Practice: learning from Python's set types\", 'Statistical Profiling (and other fun with the sys module)', 'Strategies for testing Async code', 'Supporting Engineers with Mental Health Issues', 'Syntax Trees and Python - Automated Code Transformations', 'Take Back the Web with GraphQL', 'Terrain, Art, Python and LiDAR', 'The Black Magic of Python Wheels', 'The Perils of Inheritance: Why We Should Prefer Composition', 'The Refactoring Balance Beam: When to Make Changes and When to Leave it Alone', 'The Zen of Python Teams', 'Things I Wish They Told Me About The Multiprocessing Module in Python 3', 'Thinking Inside the Box: How Python Helped Us Adapt to An Existing Data Ingestion Pipeline', 'Thinking like a Panda: Everything you need to know to use pandas the right way.', 'Thoth - how to recommend the best possible libraries for your application', 'Time to take out the rubbish: garbage collector', 'to GIL or not to GIL: the Future of Multi-Core (C)Python', 'Type hinting (and mypy)', 'Understanding Python’s Debugging Internals', 'What is a PLC and how do I talk Python to it?', \"What's new in Python 3.7\", 'Wily Python: Writing simpler and more maintainable Python', \"Working with Time Zones: Everything You Wish You Didn't Need to Know\"]\n"
          ],
          "name": "stdout"
        }
      ]
    },
    {
      "metadata": {
        "id": "BpE7Tp8HsjGe",
        "colab_type": "code",
        "outputId": "c48af75b-e1e5-4c78-8029-dc330c46572e",
        "colab": {
          "base_uri": "https://localhost:8080/",
          "height": 55
        }
      },
      "cell_type": "code",
      "source": [
        "titles = [tag.text.strip()\n",
        "         for tag in soup.select('h2')]\n",
        "\n",
        "print(titles)"
      ],
      "execution_count": 0,
      "outputs": [
        {
          "output_type": "stream",
          "text": [
            "['5 Steps to Build Python Native GUI Widgets for BeeWare', '8 things that happen at the dot:  Attribute Access & Descriptors', 'Account Security Patterns: How Logged-In Are you?', 'Ace Your Technical Interview Using Python', 'Advanced asyncio: Solving Real-world Production Problems', 'A Guide to Software Engineering for Visually Impaired', 'A Medieval DSL? Parsing Heraldic Blazons with Python!', 'A New Era in Python Governance', 'API Evolution the Right Way', 'A Right Stitch-up: Creating embroidery patterns with Pillow', 'A Snake in the Bits: Security Automation with Python', 'Assets in Django without losing your hair', 'Attracting the Invisible Contributors', 'Beyond Two Groups: Generalized Bayesian A/B[/C/D/E...] Testing', 'Break the Cycle: Three excellent Python tools to automate repetitive tasks', 'Building a Culture of Observability', 'Building an Open Source Artificial Pancreas', 'Building reproducible Python applications for secured environments', 'But, Why is the (Django) Admin Slow?', 'Coded Readers: Using Python to uncover surprising patterns in the books you love', 'Code Review Skills for Pythonistas', 'CUDA in your Python: Effective Parallel Programming on the GPU', \"Dependency hell: a library author's guide\", 'Django Channels in practice', 'Does remote work really work?', \"Don't be a robot, build the bot\", 'Eita! Why Internationalization and Localization matter', 'Engineering Ethics and Open Source Software', 'Ensuring Safe Water Access with Python and Machine Learning', 'Escape from auto-manual testing with Hypothesis!', '¡Escuincla babosa!: Creating a telenovela script in three Python deep learning frameworks', \"Everything at Once: Python's Many Concurrency Models\", 'Exceptional Exceptions - How to properly raise, handle and create them.', 'Extracting tabular data from PDFs with Camelot & Excalibur', 'Fighting Climate Change with Python', 'Floats are Friends: making the most of IEEE754.00000000000000002', 'From days to minutes, from minutes to milliseconds with SQLAlchemy', 'Getting Started Testing in Data Science', 'Getting started with Deep Learning: Using Keras & Numpy to detect voice disorders', 'Getting to Three Million Lines of Type-Annotated Python', 'Going from 2 to 3 on Windows, macOS and Linux', \"Help! I'm now the leader of our Meetup group!\", 'How to Build a Clinical Diagnostic Model in Python', 'How to engage Python contributors in the long term? Tech is easy, people are hard.', 'How to JIT: Writing a Python JIT from scratch in pure Python', 'How to Think about Data Visualization', 'Instant serverless APIs, powered by SQLite', 'Intentional Deployment: Best Practices for Feature Flag Management', 'Lessons learned from building a community of Python users among thousands of analysts', 'Leveraging the Type System to Write Secure Applications', 'Life Is Better Painted Black, or: How to Stop Worrying and Embrace Auto-Formatting', 'Lowering the Stakes of Failure with Pre-mortems and Post-mortems', 'Machine learning model and dataset versioning practices', 'Maintaining a Python Project When It’s Not Your Job', 'Making Music with Python, SuperCollider and FoxDot', 'Measures and Mismeasures of algorithmic fairness', 'Measuring Model Fairness', 'Migrating Pinterest from Python2 to Python3', 'Mocking and Patching Pitfalls', 'Modern solvers: Problems well-defined are problems solved', 'One Engineer, an API, and an MVP: Or, how I spent one hour improving hiring data at my company.', 'Plan your next eclipse viewing with Jupyter and geopandas', 'Plugins: Adding Flexibility to Your Apps', 'Plug-n-Stream Player Piano: Signal Processing With Python', 'Practical decorators', 'Programmatic Notebooks with papermill', 'Put down the deep learning: When not to use neural networks and what to do instead', 'Python on Windows is Okay, Actually', 'Python Security Tools', \"Releasing the World's Largest Python Site Every 7 Minutes\", 'Rescuing Kerala with Python', 'Scraping a Million Pokemon Battles: Distributed Systems By Example', \"Set Practice: learning from Python's set types\", 'Statistical Profiling (and other fun with the sys module)', 'Strategies for testing Async code', 'Supporting Engineers with Mental Health Issues', 'Syntax Trees and Python - Automated Code Transformations', 'Take Back the Web with GraphQL', 'Terrain, Art, Python and LiDAR', 'The Black Magic of Python Wheels', 'The Perils of Inheritance: Why We Should Prefer Composition', 'The Refactoring Balance Beam: When to Make Changes and When to Leave it Alone', 'The Zen of Python Teams', 'Things I Wish They Told Me About The Multiprocessing Module in Python 3', 'Thinking Inside the Box: How Python Helped Us Adapt to An Existing Data Ingestion Pipeline', 'Thinking like a Panda: Everything you need to know to use pandas the right way.', 'Thoth - how to recommend the best possible libraries for your application', 'Time to take out the rubbish: garbage collector', 'to GIL or not to GIL: the Future of Multi-Core (C)Python', 'Type hinting (and mypy)', 'Understanding Python’s Debugging Internals', 'What is a PLC and how do I talk Python to it?', \"What's new in Python 3.7\", 'Wily Python: Writing simpler and more maintainable Python', \"Working with Time Zones: Everything You Wish You Didn't Need to Know\"]\n"
          ],
          "name": "stdout"
        }
      ]
    },
    {
      "metadata": {
        "colab_type": "text",
        "id": "vqkNgAzYpeK7"
      },
      "cell_type": "markdown",
      "source": [
        "## 5 ways to look at long titles\n",
        "\n",
        "Let's define a long title as greater than 80 characters"
      ]
    },
    {
      "metadata": {
        "colab_type": "text",
        "id": "N7tqeZh14Fws"
      },
      "cell_type": "markdown",
      "source": [
        "### 1. For Loop"
      ]
    },
    {
      "metadata": {
        "colab_type": "code",
        "id": "kKxs5tqDApuZ",
        "colab": {}
      },
      "cell_type": "code",
      "source": [
        "long_titles = []\n",
        "for title in titles:\n",
        "  if len(title) > 80:\n",
        "#     print(title)\n",
        "    long_titles.append(title)"
      ],
      "execution_count": 0,
      "outputs": []
    },
    {
      "metadata": {
        "colab_type": "text",
        "id": "I21jcEnK4IN7"
      },
      "cell_type": "markdown",
      "source": [
        "### 2. List Comprehension"
      ]
    },
    {
      "metadata": {
        "colab_type": "code",
        "id": "qaXe9UldAs3H",
        "outputId": "b88a89ee-4932-4874-9223-9b91c71b3ea0",
        "colab": {
          "base_uri": "https://localhost:8080/",
          "height": 55
        }
      },
      "cell_type": "code",
      "source": [
        "long_titles = [title for title in titles if len(title) > 80]\n",
        "\n",
        "print(long_titles)"
      ],
      "execution_count": 0,
      "outputs": [
        {
          "output_type": "stream",
          "text": [
            "['¡Escuincla babosa!: Creating a telenovela script in three Python deep learning frameworks', 'Getting started with Deep Learning: Using Keras & Numpy to detect voice disorders', 'How to engage Python contributors in the long term? Tech is easy, people are hard.', 'Lessons learned from building a community of Python users among thousands of analysts', 'Life Is Better Painted Black, or: How to Stop Worrying and Embrace Auto-Formatting', 'One Engineer, an API, and an MVP: Or, how I spent one hour improving hiring data at my company.', 'Put down the deep learning: When not to use neural networks and what to do instead', 'Thinking Inside the Box: How Python Helped Us Adapt to An Existing Data Ingestion Pipeline']\n"
          ],
          "name": "stdout"
        }
      ]
    },
    {
      "metadata": {
        "colab_type": "text",
        "id": "2kn8pxL-4yMG"
      },
      "cell_type": "markdown",
      "source": [
        "### 3. Filter with named function"
      ]
    },
    {
      "metadata": {
        "colab_type": "code",
        "id": "ywLqqFJNAvFm",
        "outputId": "e76857b9-c32f-48b8-d651-67ae5bb0a19b",
        "colab": {
          "base_uri": "https://localhost:8080/",
          "height": 35
        }
      },
      "cell_type": "code",
      "source": [
        "def long(title):\n",
        "  return len(title) > 80\n",
        "\n",
        "long('Getting started with Deep Learning: Using Keras & Numpy to detect voice disorders')"
      ],
      "execution_count": 0,
      "outputs": [
        {
          "output_type": "execute_result",
          "data": {
            "text/plain": [
              "True"
            ]
          },
          "metadata": {
            "tags": []
          },
          "execution_count": 224
        }
      ]
    },
    {
      "metadata": {
        "colab_type": "code",
        "id": "giIcFYkiAwiR",
        "outputId": "9c83d2bc-86aa-4162-b30d-3bfaa3996e1a",
        "colab": {
          "base_uri": "https://localhost:8080/",
          "height": 35
        }
      },
      "cell_type": "code",
      "source": [
        "filter(long, titles)"
      ],
      "execution_count": 0,
      "outputs": [
        {
          "output_type": "execute_result",
          "data": {
            "text/plain": [
              "<filter at 0x7efe5737b898>"
            ]
          },
          "metadata": {
            "tags": []
          },
          "execution_count": 225
        }
      ]
    },
    {
      "metadata": {
        "id": "ZJOZ2IqUwPZC",
        "colab_type": "code",
        "outputId": "8356f883-3207-483d-c02e-288db758803e",
        "colab": {
          "base_uri": "https://localhost:8080/",
          "height": 156
        }
      },
      "cell_type": "code",
      "source": [
        "list(filter(long, titles))"
      ],
      "execution_count": 0,
      "outputs": [
        {
          "output_type": "execute_result",
          "data": {
            "text/plain": [
              "['¡Escuincla babosa!: Creating a telenovela script in three Python deep learning frameworks',\n",
              " 'Getting started with Deep Learning: Using Keras & Numpy to detect voice disorders',\n",
              " 'How to engage Python contributors in the long term? Tech is easy, people are hard.',\n",
              " 'Lessons learned from building a community of Python users among thousands of analysts',\n",
              " 'Life Is Better Painted Black, or: How to Stop Worrying and Embrace Auto-Formatting',\n",
              " 'One Engineer, an API, and an MVP: Or, how I spent one hour improving hiring data at my company.',\n",
              " 'Put down the deep learning: When not to use neural networks and what to do instead',\n",
              " 'Thinking Inside the Box: How Python Helped Us Adapt to An Existing Data Ingestion Pipeline']"
            ]
          },
          "metadata": {
            "tags": []
          },
          "execution_count": 226
        }
      ]
    },
    {
      "metadata": {
        "colab_type": "text",
        "id": "IPIT6oXz40Q3"
      },
      "cell_type": "markdown",
      "source": [
        "### 4. Filter with anonymous function"
      ]
    },
    {
      "metadata": {
        "id": "hxiASLWRwWdk",
        "colab_type": "code",
        "outputId": "ef1fcb2d-ab19-4a45-ff2c-6b383aaa84ca",
        "colab": {
          "base_uri": "https://localhost:8080/",
          "height": 156
        }
      },
      "cell_type": "code",
      "source": [
        "list(filter(lambda t: len(t) > 80, titles))"
      ],
      "execution_count": 0,
      "outputs": [
        {
          "output_type": "execute_result",
          "data": {
            "text/plain": [
              "['¡Escuincla babosa!: Creating a telenovela script in three Python deep learning frameworks',\n",
              " 'Getting started with Deep Learning: Using Keras & Numpy to detect voice disorders',\n",
              " 'How to engage Python contributors in the long term? Tech is easy, people are hard.',\n",
              " 'Lessons learned from building a community of Python users among thousands of analysts',\n",
              " 'Life Is Better Painted Black, or: How to Stop Worrying and Embrace Auto-Formatting',\n",
              " 'One Engineer, an API, and an MVP: Or, how I spent one hour improving hiring data at my company.',\n",
              " 'Put down the deep learning: When not to use neural networks and what to do instead',\n",
              " 'Thinking Inside the Box: How Python Helped Us Adapt to An Existing Data Ingestion Pipeline']"
            ]
          },
          "metadata": {
            "tags": []
          },
          "execution_count": 227
        }
      ]
    },
    {
      "metadata": {
        "colab_type": "text",
        "id": "qj8Yod8_45z4"
      },
      "cell_type": "markdown",
      "source": [
        "### 5. Pandas\n",
        "\n",
        "pandas documentation: [Working with Text Data](https://pandas.pydata.org/pandas-docs/stable/text.html)"
      ]
    },
    {
      "metadata": {
        "colab_type": "code",
        "id": "yRwPEHNcAzc_",
        "colab": {}
      },
      "cell_type": "code",
      "source": [
        "import pandas as pd\n",
        "pd.options.display.max_colwidth = 200"
      ],
      "execution_count": 0,
      "outputs": []
    },
    {
      "metadata": {
        "id": "G9ispB5OyIrA",
        "colab_type": "code",
        "outputId": "42fc1d8c-94a7-40cb-9271-190c48fe99bb",
        "colab": {
          "base_uri": "https://localhost:8080/",
          "height": 1144
        }
      },
      "cell_type": "code",
      "source": [
        "df = pd.DataFrame({'title': titles})\n",
        "print(df)\n",
        "print(df.shape)"
      ],
      "execution_count": 0,
      "outputs": [
        {
          "output_type": "stream",
          "text": [
            "                                                                                         title\n",
            "0                                       5 Steps to Build Python Native GUI Widgets for BeeWare\n",
            "1                             8 things that happen at the dot:  Attribute Access & Descriptors\n",
            "2                                            Account Security Patterns: How Logged-In Are you?\n",
            "3                                                    Ace Your Technical Interview Using Python\n",
            "4                                     Advanced asyncio: Solving Real-world Production Problems\n",
            "5                                        A Guide to Software Engineering for Visually Impaired\n",
            "6                                        A Medieval DSL? Parsing Heraldic Blazons with Python!\n",
            "7                                                               A New Era in Python Governance\n",
            "8                                                                  API Evolution the Right Way\n",
            "9                                  A Right Stitch-up: Creating embroidery patterns with Pillow\n",
            "10                                        A Snake in the Bits: Security Automation with Python\n",
            "11                                                   Assets in Django without losing your hair\n",
            "12                                                       Attracting the Invisible Contributors\n",
            "13                              Beyond Two Groups: Generalized Bayesian A/B[/C/D/E...] Testing\n",
            "14                  Break the Cycle: Three excellent Python tools to automate repetitive tasks\n",
            "15                                                         Building a Culture of Observability\n",
            "16                                                 Building an Open Source Artificial Pancreas\n",
            "17                          Building reproducible Python applications for secured environments\n",
            "18                                                        But, Why is the (Django) Admin Slow?\n",
            "19            Coded Readers: Using Python to uncover surprising patterns in the books you love\n",
            "20                                                          Code Review Skills for Pythonistas\n",
            "21                              CUDA in your Python: Effective Parallel Programming on the GPU\n",
            "22                                                   Dependency hell: a library author's guide\n",
            "23                                                                 Django Channels in practice\n",
            "24                                                               Does remote work really work?\n",
            "25                                                             Don't be a robot, build the bot\n",
            "26                                      Eita! Why Internationalization and Localization matter\n",
            "27                                                 Engineering Ethics and Open Source Software\n",
            "28                                 Ensuring Safe Water Access with Python and Machine Learning\n",
            "29                                            Escape from auto-manual testing with Hypothesis!\n",
            "..                                                                                         ...\n",
            "65                                                       Programmatic Notebooks with papermill\n",
            "66          Put down the deep learning: When not to use neural networks and what to do instead\n",
            "67                                                         Python on Windows is Okay, Actually\n",
            "68                                                                       Python Security Tools\n",
            "69                                   Releasing the World's Largest Python Site Every 7 Minutes\n",
            "70                                                                 Rescuing Kerala with Python\n",
            "71                          Scraping a Million Pokemon Battles: Distributed Systems By Example\n",
            "72                                              Set Practice: learning from Python's set types\n",
            "73                                   Statistical Profiling (and other fun with the sys module)\n",
            "74                                                           Strategies for testing Async code\n",
            "75                                              Supporting Engineers with Mental Health Issues\n",
            "76                                    Syntax Trees and Python - Automated Code Transformations\n",
            "77                                                              Take Back the Web with GraphQL\n",
            "78                                                              Terrain, Art, Python and LiDAR\n",
            "79                                                            The Black Magic of Python Wheels\n",
            "80                                 The Perils of Inheritance: Why We Should Prefer Composition\n",
            "81               The Refactoring Balance Beam: When to Make Changes and When to Leave it Alone\n",
            "82                                                                     The Zen of Python Teams\n",
            "83                     Things I Wish They Told Me About The Multiprocessing Module in Python 3\n",
            "84  Thinking Inside the Box: How Python Helped Us Adapt to An Existing Data Ingestion Pipeline\n",
            "85             Thinking like a Panda: Everything you need to know to use pandas the right way.\n",
            "86                   Thoth - how to recommend the best possible libraries for your application\n",
            "87                                             Time to take out the rubbish: garbage collector\n",
            "88                                    to GIL or not to GIL: the Future of Multi-Core (C)Python\n",
            "89                                                                     Type hinting (and mypy)\n",
            "90                                                  Understanding Python’s Debugging Internals\n",
            "91                                               What is a PLC and how do I talk Python to it?\n",
            "92                                                                    What's new in Python 3.7\n",
            "93                                   Wily Python: Writing simpler and more maintainable Python\n",
            "94                        Working with Time Zones: Everything You Wish You Didn't Need to Know\n",
            "\n",
            "[95 rows x 1 columns]\n",
            "(95, 1)\n"
          ],
          "name": "stdout"
        }
      ]
    },
    {
      "metadata": {
        "id": "hut4uKV1yhZX",
        "colab_type": "code",
        "outputId": "13b8c41b-cd55-49c5-f5c5-f0643868ad61",
        "colab": {
          "base_uri": "https://localhost:8080/",
          "height": 294
        }
      },
      "cell_type": "code",
      "source": [
        "df[ df['title'].str.len() > 80 ]"
      ],
      "execution_count": 0,
      "outputs": [
        {
          "output_type": "execute_result",
          "data": {
            "text/html": [
              "<div>\n",
              "<style scoped>\n",
              "    .dataframe tbody tr th:only-of-type {\n",
              "        vertical-align: middle;\n",
              "    }\n",
              "\n",
              "    .dataframe tbody tr th {\n",
              "        vertical-align: top;\n",
              "    }\n",
              "\n",
              "    .dataframe thead th {\n",
              "        text-align: right;\n",
              "    }\n",
              "</style>\n",
              "<table border=\"1\" class=\"dataframe\">\n",
              "  <thead>\n",
              "    <tr style=\"text-align: right;\">\n",
              "      <th></th>\n",
              "      <th>title</th>\n",
              "    </tr>\n",
              "  </thead>\n",
              "  <tbody>\n",
              "    <tr>\n",
              "      <th>30</th>\n",
              "      <td>¡Escuincla babosa!: Creating a telenovela script in three Python deep learning frameworks</td>\n",
              "    </tr>\n",
              "    <tr>\n",
              "      <th>38</th>\n",
              "      <td>Getting started with Deep Learning: Using Keras &amp; Numpy to detect voice disorders</td>\n",
              "    </tr>\n",
              "    <tr>\n",
              "      <th>43</th>\n",
              "      <td>How to engage Python contributors in the long term? Tech is easy, people are hard.</td>\n",
              "    </tr>\n",
              "    <tr>\n",
              "      <th>48</th>\n",
              "      <td>Lessons learned from building a community of Python users among thousands of analysts</td>\n",
              "    </tr>\n",
              "    <tr>\n",
              "      <th>50</th>\n",
              "      <td>Life Is Better Painted Black, or: How to Stop Worrying and Embrace Auto-Formatting</td>\n",
              "    </tr>\n",
              "    <tr>\n",
              "      <th>60</th>\n",
              "      <td>One Engineer, an API, and an MVP: Or, how I spent one hour improving hiring data at my company.</td>\n",
              "    </tr>\n",
              "    <tr>\n",
              "      <th>66</th>\n",
              "      <td>Put down the deep learning: When not to use neural networks and what to do instead</td>\n",
              "    </tr>\n",
              "    <tr>\n",
              "      <th>84</th>\n",
              "      <td>Thinking Inside the Box: How Python Helped Us Adapt to An Existing Data Ingestion Pipeline</td>\n",
              "    </tr>\n",
              "  </tbody>\n",
              "</table>\n",
              "</div>"
            ],
            "text/plain": [
              "                                                                                              title\n",
              "30        ¡Escuincla babosa!: Creating a telenovela script in three Python deep learning frameworks\n",
              "38                Getting started with Deep Learning: Using Keras & Numpy to detect voice disorders\n",
              "43               How to engage Python contributors in the long term? Tech is easy, people are hard.\n",
              "48            Lessons learned from building a community of Python users among thousands of analysts\n",
              "50               Life Is Better Painted Black, or: How to Stop Worrying and Embrace Auto-Formatting\n",
              "60  One Engineer, an API, and an MVP: Or, how I spent one hour improving hiring data at my company.\n",
              "66               Put down the deep learning: When not to use neural networks and what to do instead\n",
              "84       Thinking Inside the Box: How Python Helped Us Adapt to An Existing Data Ingestion Pipeline"
            ]
          },
          "metadata": {
            "tags": []
          },
          "execution_count": 230
        }
      ]
    },
    {
      "metadata": {
        "colab_type": "text",
        "id": "8YaUZJvRp681"
      },
      "cell_type": "markdown",
      "source": [
        "## Make new dataframe columns\n",
        "\n",
        "pandas documentation: [apply](https://pandas.pydata.org/pandas-docs/stable/generated/pandas.Series.apply.html)"
      ]
    },
    {
      "metadata": {
        "colab_type": "text",
        "id": "Ua74pMrGrsZR"
      },
      "cell_type": "markdown",
      "source": [
        "### title length"
      ]
    },
    {
      "metadata": {
        "colab_type": "code",
        "id": "DR_WZ-olA4-v",
        "outputId": "12258d75-f003-4189-b584-6a8f59760e24",
        "colab": {
          "base_uri": "https://localhost:8080/",
          "height": 1092
        }
      },
      "cell_type": "code",
      "source": [
        "df['title length'] = df['title'].apply(len)\n",
        "print(df['title length'])"
      ],
      "execution_count": 0,
      "outputs": [
        {
          "output_type": "stream",
          "text": [
            "0     54\n",
            "1     64\n",
            "2     49\n",
            "3     41\n",
            "4     56\n",
            "5     53\n",
            "6     53\n",
            "7     30\n",
            "8     27\n",
            "9     59\n",
            "10    52\n",
            "11    41\n",
            "12    37\n",
            "13    62\n",
            "14    74\n",
            "15    35\n",
            "16    43\n",
            "17    66\n",
            "18    36\n",
            "19    80\n",
            "20    34\n",
            "21    62\n",
            "22    41\n",
            "23    27\n",
            "24    29\n",
            "25    31\n",
            "26    54\n",
            "27    43\n",
            "28    59\n",
            "29    48\n",
            "      ..\n",
            "65    37\n",
            "66    82\n",
            "67    35\n",
            "68    21\n",
            "69    57\n",
            "70    27\n",
            "71    66\n",
            "72    46\n",
            "73    57\n",
            "74    33\n",
            "75    46\n",
            "76    56\n",
            "77    30\n",
            "78    30\n",
            "79    32\n",
            "80    59\n",
            "81    77\n",
            "82    23\n",
            "83    71\n",
            "84    90\n",
            "85    79\n",
            "86    73\n",
            "87    47\n",
            "88    56\n",
            "89    23\n",
            "90    42\n",
            "91    45\n",
            "92    24\n",
            "93    57\n",
            "94    68\n",
            "Name: title length, Length: 95, dtype: int64\n"
          ],
          "name": "stdout"
        }
      ]
    },
    {
      "metadata": {
        "id": "BdSmg3BF3dBJ",
        "colab_type": "code",
        "outputId": "5f6a8dec-970a-44f6-b931-0c416b6c9da5",
        "colab": {
          "base_uri": "https://localhost:8080/",
          "height": 35
        }
      },
      "cell_type": "code",
      "source": [
        "df.shape"
      ],
      "execution_count": 0,
      "outputs": [
        {
          "output_type": "execute_result",
          "data": {
            "text/plain": [
              "(95, 2)"
            ]
          },
          "metadata": {
            "tags": []
          },
          "execution_count": 232
        }
      ]
    },
    {
      "metadata": {
        "colab_type": "code",
        "id": "p-Euz7tgA8Fd",
        "outputId": "6ceb199b-20e8-4329-fa9b-e40526192c7d",
        "colab": {
          "base_uri": "https://localhost:8080/",
          "height": 173
        }
      },
      "cell_type": "code",
      "source": [
        "df.loc[df['title length'] > 80, 'title']"
      ],
      "execution_count": 0,
      "outputs": [
        {
          "output_type": "execute_result",
          "data": {
            "text/plain": [
              "30          ¡Escuincla babosa!: Creating a telenovela script in three Python deep learning frameworks\n",
              "38                  Getting started with Deep Learning: Using Keras & Numpy to detect voice disorders\n",
              "43                 How to engage Python contributors in the long term? Tech is easy, people are hard.\n",
              "48              Lessons learned from building a community of Python users among thousands of analysts\n",
              "50                 Life Is Better Painted Black, or: How to Stop Worrying and Embrace Auto-Formatting\n",
              "60    One Engineer, an API, and an MVP: Or, how I spent one hour improving hiring data at my company.\n",
              "66                 Put down the deep learning: When not to use neural networks and what to do instead\n",
              "84         Thinking Inside the Box: How Python Helped Us Adapt to An Existing Data Ingestion Pipeline\n",
              "Name: title, dtype: object"
            ]
          },
          "metadata": {
            "tags": []
          },
          "execution_count": 233
        }
      ]
    },
    {
      "metadata": {
        "colab_type": "text",
        "id": "OgsKArXPrz5n"
      },
      "cell_type": "markdown",
      "source": [
        "### long title"
      ]
    },
    {
      "metadata": {
        "colab_type": "code",
        "id": "b_WCRvvKA-IP",
        "outputId": "a3712852-60bd-4683-93ba-89334139a8ca",
        "colab": {
          "base_uri": "https://localhost:8080/",
          "height": 35
        }
      },
      "cell_type": "code",
      "source": [
        "df['long title'] = df['title length'] > 80\n",
        "df.shape"
      ],
      "execution_count": 0,
      "outputs": [
        {
          "output_type": "execute_result",
          "data": {
            "text/plain": [
              "(95, 3)"
            ]
          },
          "metadata": {
            "tags": []
          },
          "execution_count": 234
        }
      ]
    },
    {
      "metadata": {
        "id": "nhFkSNHOcjYX",
        "colab_type": "code",
        "outputId": "ee684b28-8715-46a7-c6cb-fff82573ea11",
        "colab": {
          "base_uri": "https://localhost:8080/",
          "height": 294
        }
      },
      "cell_type": "code",
      "source": [
        "df[ df['long title'] == True ]"
      ],
      "execution_count": 0,
      "outputs": [
        {
          "output_type": "execute_result",
          "data": {
            "text/html": [
              "<div>\n",
              "<style scoped>\n",
              "    .dataframe tbody tr th:only-of-type {\n",
              "        vertical-align: middle;\n",
              "    }\n",
              "\n",
              "    .dataframe tbody tr th {\n",
              "        vertical-align: top;\n",
              "    }\n",
              "\n",
              "    .dataframe thead th {\n",
              "        text-align: right;\n",
              "    }\n",
              "</style>\n",
              "<table border=\"1\" class=\"dataframe\">\n",
              "  <thead>\n",
              "    <tr style=\"text-align: right;\">\n",
              "      <th></th>\n",
              "      <th>title</th>\n",
              "      <th>title length</th>\n",
              "      <th>long title</th>\n",
              "    </tr>\n",
              "  </thead>\n",
              "  <tbody>\n",
              "    <tr>\n",
              "      <th>30</th>\n",
              "      <td>¡Escuincla babosa!: Creating a telenovela script in three Python deep learning frameworks</td>\n",
              "      <td>89</td>\n",
              "      <td>True</td>\n",
              "    </tr>\n",
              "    <tr>\n",
              "      <th>38</th>\n",
              "      <td>Getting started with Deep Learning: Using Keras &amp; Numpy to detect voice disorders</td>\n",
              "      <td>81</td>\n",
              "      <td>True</td>\n",
              "    </tr>\n",
              "    <tr>\n",
              "      <th>43</th>\n",
              "      <td>How to engage Python contributors in the long term? Tech is easy, people are hard.</td>\n",
              "      <td>82</td>\n",
              "      <td>True</td>\n",
              "    </tr>\n",
              "    <tr>\n",
              "      <th>48</th>\n",
              "      <td>Lessons learned from building a community of Python users among thousands of analysts</td>\n",
              "      <td>85</td>\n",
              "      <td>True</td>\n",
              "    </tr>\n",
              "    <tr>\n",
              "      <th>50</th>\n",
              "      <td>Life Is Better Painted Black, or: How to Stop Worrying and Embrace Auto-Formatting</td>\n",
              "      <td>82</td>\n",
              "      <td>True</td>\n",
              "    </tr>\n",
              "    <tr>\n",
              "      <th>60</th>\n",
              "      <td>One Engineer, an API, and an MVP: Or, how I spent one hour improving hiring data at my company.</td>\n",
              "      <td>95</td>\n",
              "      <td>True</td>\n",
              "    </tr>\n",
              "    <tr>\n",
              "      <th>66</th>\n",
              "      <td>Put down the deep learning: When not to use neural networks and what to do instead</td>\n",
              "      <td>82</td>\n",
              "      <td>True</td>\n",
              "    </tr>\n",
              "    <tr>\n",
              "      <th>84</th>\n",
              "      <td>Thinking Inside the Box: How Python Helped Us Adapt to An Existing Data Ingestion Pipeline</td>\n",
              "      <td>90</td>\n",
              "      <td>True</td>\n",
              "    </tr>\n",
              "  </tbody>\n",
              "</table>\n",
              "</div>"
            ],
            "text/plain": [
              "                                                                                              title  \\\n",
              "30        ¡Escuincla babosa!: Creating a telenovela script in three Python deep learning frameworks   \n",
              "38                Getting started with Deep Learning: Using Keras & Numpy to detect voice disorders   \n",
              "43               How to engage Python contributors in the long term? Tech is easy, people are hard.   \n",
              "48            Lessons learned from building a community of Python users among thousands of analysts   \n",
              "50               Life Is Better Painted Black, or: How to Stop Worrying and Embrace Auto-Formatting   \n",
              "60  One Engineer, an API, and an MVP: Or, how I spent one hour improving hiring data at my company.   \n",
              "66               Put down the deep learning: When not to use neural networks and what to do instead   \n",
              "84       Thinking Inside the Box: How Python Helped Us Adapt to An Existing Data Ingestion Pipeline   \n",
              "\n",
              "    title length  long title  \n",
              "30            89        True  \n",
              "38            81        True  \n",
              "43            82        True  \n",
              "48            85        True  \n",
              "50            82        True  \n",
              "60            95        True  \n",
              "66            82        True  \n",
              "84            90        True  "
            ]
          },
          "metadata": {
            "tags": []
          },
          "execution_count": 235
        }
      ]
    },
    {
      "metadata": {
        "id": "m2AT4n3nczCw",
        "colab_type": "code",
        "outputId": "7eaf8433-1c79-4570-d6a6-8c14fddf06cc",
        "colab": {
          "base_uri": "https://localhost:8080/",
          "height": 294
        }
      },
      "cell_type": "code",
      "source": [
        "df[ df['long title']]"
      ],
      "execution_count": 0,
      "outputs": [
        {
          "output_type": "execute_result",
          "data": {
            "text/html": [
              "<div>\n",
              "<style scoped>\n",
              "    .dataframe tbody tr th:only-of-type {\n",
              "        vertical-align: middle;\n",
              "    }\n",
              "\n",
              "    .dataframe tbody tr th {\n",
              "        vertical-align: top;\n",
              "    }\n",
              "\n",
              "    .dataframe thead th {\n",
              "        text-align: right;\n",
              "    }\n",
              "</style>\n",
              "<table border=\"1\" class=\"dataframe\">\n",
              "  <thead>\n",
              "    <tr style=\"text-align: right;\">\n",
              "      <th></th>\n",
              "      <th>title</th>\n",
              "      <th>title length</th>\n",
              "      <th>long title</th>\n",
              "    </tr>\n",
              "  </thead>\n",
              "  <tbody>\n",
              "    <tr>\n",
              "      <th>30</th>\n",
              "      <td>¡Escuincla babosa!: Creating a telenovela script in three Python deep learning frameworks</td>\n",
              "      <td>89</td>\n",
              "      <td>True</td>\n",
              "    </tr>\n",
              "    <tr>\n",
              "      <th>38</th>\n",
              "      <td>Getting started with Deep Learning: Using Keras &amp; Numpy to detect voice disorders</td>\n",
              "      <td>81</td>\n",
              "      <td>True</td>\n",
              "    </tr>\n",
              "    <tr>\n",
              "      <th>43</th>\n",
              "      <td>How to engage Python contributors in the long term? Tech is easy, people are hard.</td>\n",
              "      <td>82</td>\n",
              "      <td>True</td>\n",
              "    </tr>\n",
              "    <tr>\n",
              "      <th>48</th>\n",
              "      <td>Lessons learned from building a community of Python users among thousands of analysts</td>\n",
              "      <td>85</td>\n",
              "      <td>True</td>\n",
              "    </tr>\n",
              "    <tr>\n",
              "      <th>50</th>\n",
              "      <td>Life Is Better Painted Black, or: How to Stop Worrying and Embrace Auto-Formatting</td>\n",
              "      <td>82</td>\n",
              "      <td>True</td>\n",
              "    </tr>\n",
              "    <tr>\n",
              "      <th>60</th>\n",
              "      <td>One Engineer, an API, and an MVP: Or, how I spent one hour improving hiring data at my company.</td>\n",
              "      <td>95</td>\n",
              "      <td>True</td>\n",
              "    </tr>\n",
              "    <tr>\n",
              "      <th>66</th>\n",
              "      <td>Put down the deep learning: When not to use neural networks and what to do instead</td>\n",
              "      <td>82</td>\n",
              "      <td>True</td>\n",
              "    </tr>\n",
              "    <tr>\n",
              "      <th>84</th>\n",
              "      <td>Thinking Inside the Box: How Python Helped Us Adapt to An Existing Data Ingestion Pipeline</td>\n",
              "      <td>90</td>\n",
              "      <td>True</td>\n",
              "    </tr>\n",
              "  </tbody>\n",
              "</table>\n",
              "</div>"
            ],
            "text/plain": [
              "                                                                                              title  \\\n",
              "30        ¡Escuincla babosa!: Creating a telenovela script in three Python deep learning frameworks   \n",
              "38                Getting started with Deep Learning: Using Keras & Numpy to detect voice disorders   \n",
              "43               How to engage Python contributors in the long term? Tech is easy, people are hard.   \n",
              "48            Lessons learned from building a community of Python users among thousands of analysts   \n",
              "50               Life Is Better Painted Black, or: How to Stop Worrying and Embrace Auto-Formatting   \n",
              "60  One Engineer, an API, and an MVP: Or, how I spent one hour improving hiring data at my company.   \n",
              "66               Put down the deep learning: When not to use neural networks and what to do instead   \n",
              "84       Thinking Inside the Box: How Python Helped Us Adapt to An Existing Data Ingestion Pipeline   \n",
              "\n",
              "    title length  long title  \n",
              "30            89        True  \n",
              "38            81        True  \n",
              "43            82        True  \n",
              "48            85        True  \n",
              "50            82        True  \n",
              "60            95        True  \n",
              "66            82        True  \n",
              "84            90        True  "
            ]
          },
          "metadata": {
            "tags": []
          },
          "execution_count": 236
        }
      ]
    },
    {
      "metadata": {
        "id": "RTdZgo2JdL2k",
        "colab_type": "text"
      },
      "cell_type": "markdown",
      "source": [
        "3 ways to get all rows where 'long title' is false:\n",
        "\n",
        "df[ df['long title'] == False]\n",
        "df[ df['long title'] != True]\n",
        "# ~ denotes an inversion, so True returns False\n",
        "df[ ~df['long title']]"
      ]
    },
    {
      "metadata": {
        "colab_type": "text",
        "id": "TonCXYPesUsT"
      },
      "cell_type": "markdown",
      "source": [
        "### first letter"
      ]
    },
    {
      "metadata": {
        "colab_type": "code",
        "id": "fhO4aABpBBgA",
        "colab": {}
      },
      "cell_type": "code",
      "source": [
        "df['first character'] = df['title'].str[0]"
      ],
      "execution_count": 0,
      "outputs": []
    },
    {
      "metadata": {
        "id": "e3u4zLkZfPde",
        "colab_type": "code",
        "outputId": "f2eba839-728e-4612-e852-aab6e24c3d4d",
        "colab": {
          "base_uri": "https://localhost:8080/",
          "height": 294
        }
      },
      "cell_type": "code",
      "source": [
        "df[ df['first character'] == 'P' ]"
      ],
      "execution_count": 0,
      "outputs": [
        {
          "output_type": "execute_result",
          "data": {
            "text/html": [
              "<div>\n",
              "<style scoped>\n",
              "    .dataframe tbody tr th:only-of-type {\n",
              "        vertical-align: middle;\n",
              "    }\n",
              "\n",
              "    .dataframe tbody tr th {\n",
              "        vertical-align: top;\n",
              "    }\n",
              "\n",
              "    .dataframe thead th {\n",
              "        text-align: right;\n",
              "    }\n",
              "</style>\n",
              "<table border=\"1\" class=\"dataframe\">\n",
              "  <thead>\n",
              "    <tr style=\"text-align: right;\">\n",
              "      <th></th>\n",
              "      <th>title</th>\n",
              "      <th>title length</th>\n",
              "      <th>long title</th>\n",
              "      <th>first character</th>\n",
              "    </tr>\n",
              "  </thead>\n",
              "  <tbody>\n",
              "    <tr>\n",
              "      <th>61</th>\n",
              "      <td>Plan your next eclipse viewing with Jupyter and geopandas</td>\n",
              "      <td>57</td>\n",
              "      <td>False</td>\n",
              "      <td>P</td>\n",
              "    </tr>\n",
              "    <tr>\n",
              "      <th>62</th>\n",
              "      <td>Plugins: Adding Flexibility to Your Apps</td>\n",
              "      <td>40</td>\n",
              "      <td>False</td>\n",
              "      <td>P</td>\n",
              "    </tr>\n",
              "    <tr>\n",
              "      <th>63</th>\n",
              "      <td>Plug-n-Stream Player Piano: Signal Processing With Python</td>\n",
              "      <td>57</td>\n",
              "      <td>False</td>\n",
              "      <td>P</td>\n",
              "    </tr>\n",
              "    <tr>\n",
              "      <th>64</th>\n",
              "      <td>Practical decorators</td>\n",
              "      <td>20</td>\n",
              "      <td>False</td>\n",
              "      <td>P</td>\n",
              "    </tr>\n",
              "    <tr>\n",
              "      <th>65</th>\n",
              "      <td>Programmatic Notebooks with papermill</td>\n",
              "      <td>37</td>\n",
              "      <td>False</td>\n",
              "      <td>P</td>\n",
              "    </tr>\n",
              "    <tr>\n",
              "      <th>66</th>\n",
              "      <td>Put down the deep learning: When not to use neural networks and what to do instead</td>\n",
              "      <td>82</td>\n",
              "      <td>True</td>\n",
              "      <td>P</td>\n",
              "    </tr>\n",
              "    <tr>\n",
              "      <th>67</th>\n",
              "      <td>Python on Windows is Okay, Actually</td>\n",
              "      <td>35</td>\n",
              "      <td>False</td>\n",
              "      <td>P</td>\n",
              "    </tr>\n",
              "    <tr>\n",
              "      <th>68</th>\n",
              "      <td>Python Security Tools</td>\n",
              "      <td>21</td>\n",
              "      <td>False</td>\n",
              "      <td>P</td>\n",
              "    </tr>\n",
              "  </tbody>\n",
              "</table>\n",
              "</div>"
            ],
            "text/plain": [
              "                                                                                 title  \\\n",
              "61                           Plan your next eclipse viewing with Jupyter and geopandas   \n",
              "62                                            Plugins: Adding Flexibility to Your Apps   \n",
              "63                           Plug-n-Stream Player Piano: Signal Processing With Python   \n",
              "64                                                                Practical decorators   \n",
              "65                                               Programmatic Notebooks with papermill   \n",
              "66  Put down the deep learning: When not to use neural networks and what to do instead   \n",
              "67                                                 Python on Windows is Okay, Actually   \n",
              "68                                                               Python Security Tools   \n",
              "\n",
              "    title length  long title first character  \n",
              "61            57       False               P  \n",
              "62            40       False               P  \n",
              "63            57       False               P  \n",
              "64            20       False               P  \n",
              "65            37       False               P  \n",
              "66            82        True               P  \n",
              "67            35       False               P  \n",
              "68            21       False               P  "
            ]
          },
          "metadata": {
            "tags": []
          },
          "execution_count": 238
        }
      ]
    },
    {
      "metadata": {
        "id": "aInb43eLfoj7",
        "colab_type": "code",
        "outputId": "eae0ee4a-2969-4c1a-fce1-1ec11eb86979",
        "colab": {
          "base_uri": "https://localhost:8080/",
          "height": 294
        }
      },
      "cell_type": "code",
      "source": [
        "df[ df['title'].str.startswith('P')]"
      ],
      "execution_count": 0,
      "outputs": [
        {
          "output_type": "execute_result",
          "data": {
            "text/html": [
              "<div>\n",
              "<style scoped>\n",
              "    .dataframe tbody tr th:only-of-type {\n",
              "        vertical-align: middle;\n",
              "    }\n",
              "\n",
              "    .dataframe tbody tr th {\n",
              "        vertical-align: top;\n",
              "    }\n",
              "\n",
              "    .dataframe thead th {\n",
              "        text-align: right;\n",
              "    }\n",
              "</style>\n",
              "<table border=\"1\" class=\"dataframe\">\n",
              "  <thead>\n",
              "    <tr style=\"text-align: right;\">\n",
              "      <th></th>\n",
              "      <th>title</th>\n",
              "      <th>title length</th>\n",
              "      <th>long title</th>\n",
              "      <th>first character</th>\n",
              "    </tr>\n",
              "  </thead>\n",
              "  <tbody>\n",
              "    <tr>\n",
              "      <th>61</th>\n",
              "      <td>Plan your next eclipse viewing with Jupyter and geopandas</td>\n",
              "      <td>57</td>\n",
              "      <td>False</td>\n",
              "      <td>P</td>\n",
              "    </tr>\n",
              "    <tr>\n",
              "      <th>62</th>\n",
              "      <td>Plugins: Adding Flexibility to Your Apps</td>\n",
              "      <td>40</td>\n",
              "      <td>False</td>\n",
              "      <td>P</td>\n",
              "    </tr>\n",
              "    <tr>\n",
              "      <th>63</th>\n",
              "      <td>Plug-n-Stream Player Piano: Signal Processing With Python</td>\n",
              "      <td>57</td>\n",
              "      <td>False</td>\n",
              "      <td>P</td>\n",
              "    </tr>\n",
              "    <tr>\n",
              "      <th>64</th>\n",
              "      <td>Practical decorators</td>\n",
              "      <td>20</td>\n",
              "      <td>False</td>\n",
              "      <td>P</td>\n",
              "    </tr>\n",
              "    <tr>\n",
              "      <th>65</th>\n",
              "      <td>Programmatic Notebooks with papermill</td>\n",
              "      <td>37</td>\n",
              "      <td>False</td>\n",
              "      <td>P</td>\n",
              "    </tr>\n",
              "    <tr>\n",
              "      <th>66</th>\n",
              "      <td>Put down the deep learning: When not to use neural networks and what to do instead</td>\n",
              "      <td>82</td>\n",
              "      <td>True</td>\n",
              "      <td>P</td>\n",
              "    </tr>\n",
              "    <tr>\n",
              "      <th>67</th>\n",
              "      <td>Python on Windows is Okay, Actually</td>\n",
              "      <td>35</td>\n",
              "      <td>False</td>\n",
              "      <td>P</td>\n",
              "    </tr>\n",
              "    <tr>\n",
              "      <th>68</th>\n",
              "      <td>Python Security Tools</td>\n",
              "      <td>21</td>\n",
              "      <td>False</td>\n",
              "      <td>P</td>\n",
              "    </tr>\n",
              "  </tbody>\n",
              "</table>\n",
              "</div>"
            ],
            "text/plain": [
              "                                                                                 title  \\\n",
              "61                           Plan your next eclipse viewing with Jupyter and geopandas   \n",
              "62                                            Plugins: Adding Flexibility to Your Apps   \n",
              "63                           Plug-n-Stream Player Piano: Signal Processing With Python   \n",
              "64                                                                Practical decorators   \n",
              "65                                               Programmatic Notebooks with papermill   \n",
              "66  Put down the deep learning: When not to use neural networks and what to do instead   \n",
              "67                                                 Python on Windows is Okay, Actually   \n",
              "68                                                               Python Security Tools   \n",
              "\n",
              "    title length  long title first character  \n",
              "61            57       False               P  \n",
              "62            40       False               P  \n",
              "63            57       False               P  \n",
              "64            20       False               P  \n",
              "65            37       False               P  \n",
              "66            82        True               P  \n",
              "67            35       False               P  \n",
              "68            21       False               P  "
            ]
          },
          "metadata": {
            "tags": []
          },
          "execution_count": 239
        }
      ]
    },
    {
      "metadata": {
        "colab_type": "text",
        "id": "Etz1XeLKs6DL"
      },
      "cell_type": "markdown",
      "source": [
        "### word count\n",
        "\n",
        "Using [`textstat`](https://github.com/shivam5992/textstat)"
      ]
    },
    {
      "metadata": {
        "colab_type": "code",
        "id": "GVIkRWchs4zR",
        "outputId": "c9fae2b5-46de-487a-824e-43849e3a0c68",
        "colab": {
          "base_uri": "https://localhost:8080/",
          "height": 69
        }
      },
      "cell_type": "code",
      "source": [
        "!pip install textstat"
      ],
      "execution_count": 0,
      "outputs": [
        {
          "output_type": "stream",
          "text": [
            "Requirement already satisfied: textstat in /usr/local/lib/python3.6/dist-packages (0.5.5)\n",
            "Requirement already satisfied: repoze.lru in /usr/local/lib/python3.6/dist-packages (from textstat) (0.7)\n",
            "Requirement already satisfied: pyphen in /usr/local/lib/python3.6/dist-packages (from textstat) (0.9.5)\n"
          ],
          "name": "stdout"
        }
      ]
    },
    {
      "metadata": {
        "colab_type": "code",
        "id": "mY_M_MuaBFrF",
        "colab": {}
      },
      "cell_type": "code",
      "source": [
        "import textstat\n",
        "\n",
        "df['title word count'] = df['title'].apply(textstat.lexicon_count)"
      ],
      "execution_count": 0,
      "outputs": []
    },
    {
      "metadata": {
        "id": "BvbPx60N9-on",
        "colab_type": "code",
        "outputId": "43d0589c-650c-4f11-acaf-2afc13f7417e",
        "colab": {
          "base_uri": "https://localhost:8080/",
          "height": 202
        }
      },
      "cell_type": "code",
      "source": [
        "df.head()"
      ],
      "execution_count": 0,
      "outputs": [
        {
          "output_type": "execute_result",
          "data": {
            "text/html": [
              "<div>\n",
              "<style scoped>\n",
              "    .dataframe tbody tr th:only-of-type {\n",
              "        vertical-align: middle;\n",
              "    }\n",
              "\n",
              "    .dataframe tbody tr th {\n",
              "        vertical-align: top;\n",
              "    }\n",
              "\n",
              "    .dataframe thead th {\n",
              "        text-align: right;\n",
              "    }\n",
              "</style>\n",
              "<table border=\"1\" class=\"dataframe\">\n",
              "  <thead>\n",
              "    <tr style=\"text-align: right;\">\n",
              "      <th></th>\n",
              "      <th>title</th>\n",
              "      <th>title length</th>\n",
              "      <th>long title</th>\n",
              "      <th>first character</th>\n",
              "      <th>title word count</th>\n",
              "    </tr>\n",
              "  </thead>\n",
              "  <tbody>\n",
              "    <tr>\n",
              "      <th>0</th>\n",
              "      <td>5 Steps to Build Python Native GUI Widgets for BeeWare</td>\n",
              "      <td>54</td>\n",
              "      <td>False</td>\n",
              "      <td>5</td>\n",
              "      <td>10</td>\n",
              "    </tr>\n",
              "    <tr>\n",
              "      <th>1</th>\n",
              "      <td>8 things that happen at the dot:  Attribute Access &amp; Descriptors</td>\n",
              "      <td>64</td>\n",
              "      <td>False</td>\n",
              "      <td>8</td>\n",
              "      <td>10</td>\n",
              "    </tr>\n",
              "    <tr>\n",
              "      <th>2</th>\n",
              "      <td>Account Security Patterns: How Logged-In Are you?</td>\n",
              "      <td>49</td>\n",
              "      <td>False</td>\n",
              "      <td>A</td>\n",
              "      <td>7</td>\n",
              "    </tr>\n",
              "    <tr>\n",
              "      <th>3</th>\n",
              "      <td>Ace Your Technical Interview Using Python</td>\n",
              "      <td>41</td>\n",
              "      <td>False</td>\n",
              "      <td>A</td>\n",
              "      <td>6</td>\n",
              "    </tr>\n",
              "    <tr>\n",
              "      <th>4</th>\n",
              "      <td>Advanced asyncio: Solving Real-world Production Problems</td>\n",
              "      <td>56</td>\n",
              "      <td>False</td>\n",
              "      <td>A</td>\n",
              "      <td>6</td>\n",
              "    </tr>\n",
              "  </tbody>\n",
              "</table>\n",
              "</div>"
            ],
            "text/plain": [
              "                                                              title  \\\n",
              "0            5 Steps to Build Python Native GUI Widgets for BeeWare   \n",
              "1  8 things that happen at the dot:  Attribute Access & Descriptors   \n",
              "2                 Account Security Patterns: How Logged-In Are you?   \n",
              "3                         Ace Your Technical Interview Using Python   \n",
              "4          Advanced asyncio: Solving Real-world Production Problems   \n",
              "\n",
              "   title length  long title first character  title word count  \n",
              "0            54       False               5                10  \n",
              "1            64       False               8                10  \n",
              "2            49       False               A                 7  \n",
              "3            41       False               A                 6  \n",
              "4            56       False               A                 6  "
            ]
          },
          "metadata": {
            "tags": []
          },
          "execution_count": 242
        }
      ]
    },
    {
      "metadata": {
        "id": "z4Sykc2ThFfu",
        "colab_type": "code",
        "outputId": "2ff8f864-133c-456c-e45a-9e30991b33d7",
        "colab": {
          "base_uri": "https://localhost:8080/",
          "height": 35
        }
      },
      "cell_type": "code",
      "source": [
        "df.shape"
      ],
      "execution_count": 0,
      "outputs": [
        {
          "output_type": "execute_result",
          "data": {
            "text/plain": [
              "(95, 5)"
            ]
          },
          "metadata": {
            "tags": []
          },
          "execution_count": 243
        }
      ]
    },
    {
      "metadata": {
        "id": "LYWiF6CNhG3e",
        "colab_type": "code",
        "outputId": "8acbaa77-13a6-4544-fedb-8c18d8e8167a",
        "colab": {
          "base_uri": "https://localhost:8080/",
          "height": 141
        }
      },
      "cell_type": "code",
      "source": [
        "df [ df['title word count'] <= 3 ]"
      ],
      "execution_count": 0,
      "outputs": [
        {
          "output_type": "execute_result",
          "data": {
            "text/html": [
              "<div>\n",
              "<style scoped>\n",
              "    .dataframe tbody tr th:only-of-type {\n",
              "        vertical-align: middle;\n",
              "    }\n",
              "\n",
              "    .dataframe tbody tr th {\n",
              "        vertical-align: top;\n",
              "    }\n",
              "\n",
              "    .dataframe thead th {\n",
              "        text-align: right;\n",
              "    }\n",
              "</style>\n",
              "<table border=\"1\" class=\"dataframe\">\n",
              "  <thead>\n",
              "    <tr style=\"text-align: right;\">\n",
              "      <th></th>\n",
              "      <th>title</th>\n",
              "      <th>title length</th>\n",
              "      <th>long title</th>\n",
              "      <th>first character</th>\n",
              "      <th>title word count</th>\n",
              "    </tr>\n",
              "  </thead>\n",
              "  <tbody>\n",
              "    <tr>\n",
              "      <th>56</th>\n",
              "      <td>Measuring Model Fairness</td>\n",
              "      <td>24</td>\n",
              "      <td>False</td>\n",
              "      <td>M</td>\n",
              "      <td>3</td>\n",
              "    </tr>\n",
              "    <tr>\n",
              "      <th>64</th>\n",
              "      <td>Practical decorators</td>\n",
              "      <td>20</td>\n",
              "      <td>False</td>\n",
              "      <td>P</td>\n",
              "      <td>2</td>\n",
              "    </tr>\n",
              "    <tr>\n",
              "      <th>68</th>\n",
              "      <td>Python Security Tools</td>\n",
              "      <td>21</td>\n",
              "      <td>False</td>\n",
              "      <td>P</td>\n",
              "      <td>3</td>\n",
              "    </tr>\n",
              "  </tbody>\n",
              "</table>\n",
              "</div>"
            ],
            "text/plain": [
              "                       title  title length  long title first character  \\\n",
              "56  Measuring Model Fairness            24       False               M   \n",
              "64      Practical decorators            20       False               P   \n",
              "68     Python Security Tools            21       False               P   \n",
              "\n",
              "    title word count  \n",
              "56                 3  \n",
              "64                 2  \n",
              "68                 3  "
            ]
          },
          "metadata": {
            "tags": []
          },
          "execution_count": 244
        }
      ]
    },
    {
      "metadata": {
        "colab_type": "text",
        "id": "UN_7FABhwDqc"
      },
      "cell_type": "markdown",
      "source": [
        "## Rename column\n",
        "\n",
        "`title length` --> `title character count`\n",
        "\n",
        "pandas documentation: [rename](https://pandas.pydata.org/pandas-docs/stable/generated/pandas.DataFrame.rename.html)"
      ]
    },
    {
      "metadata": {
        "colab_type": "code",
        "id": "jvTif7sBBMpN",
        "outputId": "473857b5-4132-4226-e023-d3441b5a67de",
        "colab": {
          "base_uri": "https://localhost:8080/",
          "height": 202
        }
      },
      "cell_type": "code",
      "source": [
        "df = df.rename(columns={'title length': 'title character count'})\n",
        "df.head()"
      ],
      "execution_count": 0,
      "outputs": [
        {
          "output_type": "execute_result",
          "data": {
            "text/html": [
              "<div>\n",
              "<style scoped>\n",
              "    .dataframe tbody tr th:only-of-type {\n",
              "        vertical-align: middle;\n",
              "    }\n",
              "\n",
              "    .dataframe tbody tr th {\n",
              "        vertical-align: top;\n",
              "    }\n",
              "\n",
              "    .dataframe thead th {\n",
              "        text-align: right;\n",
              "    }\n",
              "</style>\n",
              "<table border=\"1\" class=\"dataframe\">\n",
              "  <thead>\n",
              "    <tr style=\"text-align: right;\">\n",
              "      <th></th>\n",
              "      <th>title</th>\n",
              "      <th>title character count</th>\n",
              "      <th>long title</th>\n",
              "      <th>first character</th>\n",
              "      <th>title word count</th>\n",
              "    </tr>\n",
              "  </thead>\n",
              "  <tbody>\n",
              "    <tr>\n",
              "      <th>0</th>\n",
              "      <td>5 Steps to Build Python Native GUI Widgets for BeeWare</td>\n",
              "      <td>54</td>\n",
              "      <td>False</td>\n",
              "      <td>5</td>\n",
              "      <td>10</td>\n",
              "    </tr>\n",
              "    <tr>\n",
              "      <th>1</th>\n",
              "      <td>8 things that happen at the dot:  Attribute Access &amp; Descriptors</td>\n",
              "      <td>64</td>\n",
              "      <td>False</td>\n",
              "      <td>8</td>\n",
              "      <td>10</td>\n",
              "    </tr>\n",
              "    <tr>\n",
              "      <th>2</th>\n",
              "      <td>Account Security Patterns: How Logged-In Are you?</td>\n",
              "      <td>49</td>\n",
              "      <td>False</td>\n",
              "      <td>A</td>\n",
              "      <td>7</td>\n",
              "    </tr>\n",
              "    <tr>\n",
              "      <th>3</th>\n",
              "      <td>Ace Your Technical Interview Using Python</td>\n",
              "      <td>41</td>\n",
              "      <td>False</td>\n",
              "      <td>A</td>\n",
              "      <td>6</td>\n",
              "    </tr>\n",
              "    <tr>\n",
              "      <th>4</th>\n",
              "      <td>Advanced asyncio: Solving Real-world Production Problems</td>\n",
              "      <td>56</td>\n",
              "      <td>False</td>\n",
              "      <td>A</td>\n",
              "      <td>6</td>\n",
              "    </tr>\n",
              "  </tbody>\n",
              "</table>\n",
              "</div>"
            ],
            "text/plain": [
              "                                                              title  \\\n",
              "0            5 Steps to Build Python Native GUI Widgets for BeeWare   \n",
              "1  8 things that happen at the dot:  Attribute Access & Descriptors   \n",
              "2                 Account Security Patterns: How Logged-In Are you?   \n",
              "3                         Ace Your Technical Interview Using Python   \n",
              "4          Advanced asyncio: Solving Real-world Production Problems   \n",
              "\n",
              "   title character count  long title first character  title word count  \n",
              "0                     54       False               5                10  \n",
              "1                     64       False               8                10  \n",
              "2                     49       False               A                 7  \n",
              "3                     41       False               A                 6  \n",
              "4                     56       False               A                 6  "
            ]
          },
          "metadata": {
            "tags": []
          },
          "execution_count": 245
        }
      ]
    },
    {
      "metadata": {
        "colab_type": "text",
        "id": "ca2pDtytr5tR"
      },
      "cell_type": "markdown",
      "source": [
        "## Analyze the dataframe"
      ]
    },
    {
      "metadata": {
        "colab_type": "text",
        "id": "AitNVDCFwWwc"
      },
      "cell_type": "markdown",
      "source": [
        "### Describe\n",
        "\n",
        "pandas documentation: [describe](https://pandas.pydata.org/pandas-docs/stable/generated/pandas.DataFrame.describe.html)"
      ]
    },
    {
      "metadata": {
        "colab_type": "code",
        "id": "yPo9RdxYBQ64",
        "outputId": "df0e77ec-8b53-4ea4-fe18-1257fab3cc46",
        "colab": {
          "base_uri": "https://localhost:8080/",
          "height": 294
        }
      },
      "cell_type": "code",
      "source": [
        "df.describe()"
      ],
      "execution_count": 0,
      "outputs": [
        {
          "output_type": "execute_result",
          "data": {
            "text/html": [
              "<div>\n",
              "<style scoped>\n",
              "    .dataframe tbody tr th:only-of-type {\n",
              "        vertical-align: middle;\n",
              "    }\n",
              "\n",
              "    .dataframe tbody tr th {\n",
              "        vertical-align: top;\n",
              "    }\n",
              "\n",
              "    .dataframe thead th {\n",
              "        text-align: right;\n",
              "    }\n",
              "</style>\n",
              "<table border=\"1\" class=\"dataframe\">\n",
              "  <thead>\n",
              "    <tr style=\"text-align: right;\">\n",
              "      <th></th>\n",
              "      <th>title character count</th>\n",
              "      <th>title word count</th>\n",
              "    </tr>\n",
              "  </thead>\n",
              "  <tbody>\n",
              "    <tr>\n",
              "      <th>count</th>\n",
              "      <td>95.000000</td>\n",
              "      <td>95.000000</td>\n",
              "    </tr>\n",
              "    <tr>\n",
              "      <th>mean</th>\n",
              "      <td>51.347368</td>\n",
              "      <td>7.978947</td>\n",
              "    </tr>\n",
              "    <tr>\n",
              "      <th>std</th>\n",
              "      <td>17.729509</td>\n",
              "      <td>3.218890</td>\n",
              "    </tr>\n",
              "    <tr>\n",
              "      <th>min</th>\n",
              "      <td>20.000000</td>\n",
              "      <td>2.000000</td>\n",
              "    </tr>\n",
              "    <tr>\n",
              "      <th>25%</th>\n",
              "      <td>37.000000</td>\n",
              "      <td>6.000000</td>\n",
              "    </tr>\n",
              "    <tr>\n",
              "      <th>50%</th>\n",
              "      <td>52.000000</td>\n",
              "      <td>7.000000</td>\n",
              "    </tr>\n",
              "    <tr>\n",
              "      <th>75%</th>\n",
              "      <td>62.000000</td>\n",
              "      <td>9.500000</td>\n",
              "    </tr>\n",
              "    <tr>\n",
              "      <th>max</th>\n",
              "      <td>95.000000</td>\n",
              "      <td>19.000000</td>\n",
              "    </tr>\n",
              "  </tbody>\n",
              "</table>\n",
              "</div>"
            ],
            "text/plain": [
              "       title character count  title word count\n",
              "count              95.000000         95.000000\n",
              "mean               51.347368          7.978947\n",
              "std                17.729509          3.218890\n",
              "min                20.000000          2.000000\n",
              "25%                37.000000          6.000000\n",
              "50%                52.000000          7.000000\n",
              "75%                62.000000          9.500000\n",
              "max                95.000000         19.000000"
            ]
          },
          "metadata": {
            "tags": []
          },
          "execution_count": 246
        }
      ]
    },
    {
      "metadata": {
        "id": "6hlWJQhejHUZ",
        "colab_type": "code",
        "outputId": "e6c1e064-e7f7-4902-9c20-b598b8c1a9d3",
        "colab": {
          "base_uri": "https://localhost:8080/",
          "height": 171
        }
      },
      "cell_type": "code",
      "source": [
        "df.describe(exclude='number')"
      ],
      "execution_count": 0,
      "outputs": [
        {
          "output_type": "execute_result",
          "data": {
            "text/html": [
              "<div>\n",
              "<style scoped>\n",
              "    .dataframe tbody tr th:only-of-type {\n",
              "        vertical-align: middle;\n",
              "    }\n",
              "\n",
              "    .dataframe tbody tr th {\n",
              "        vertical-align: top;\n",
              "    }\n",
              "\n",
              "    .dataframe thead th {\n",
              "        text-align: right;\n",
              "    }\n",
              "</style>\n",
              "<table border=\"1\" class=\"dataframe\">\n",
              "  <thead>\n",
              "    <tr style=\"text-align: right;\">\n",
              "      <th></th>\n",
              "      <th>title</th>\n",
              "      <th>long title</th>\n",
              "      <th>first character</th>\n",
              "    </tr>\n",
              "  </thead>\n",
              "  <tbody>\n",
              "    <tr>\n",
              "      <th>count</th>\n",
              "      <td>95</td>\n",
              "      <td>95</td>\n",
              "      <td>95</td>\n",
              "    </tr>\n",
              "    <tr>\n",
              "      <th>unique</th>\n",
              "      <td>95</td>\n",
              "      <td>2</td>\n",
              "      <td>22</td>\n",
              "    </tr>\n",
              "    <tr>\n",
              "      <th>top</th>\n",
              "      <td>Measuring Model Fairness</td>\n",
              "      <td>False</td>\n",
              "      <td>T</td>\n",
              "    </tr>\n",
              "    <tr>\n",
              "      <th>freq</th>\n",
              "      <td>1</td>\n",
              "      <td>87</td>\n",
              "      <td>12</td>\n",
              "    </tr>\n",
              "  </tbody>\n",
              "</table>\n",
              "</div>"
            ],
            "text/plain": [
              "                           title long title first character\n",
              "count                         95         95              95\n",
              "unique                        95          2              22\n",
              "top     Measuring Model Fairness      False               T\n",
              "freq                           1         87              12"
            ]
          },
          "metadata": {
            "tags": []
          },
          "execution_count": 247
        }
      ]
    },
    {
      "metadata": {
        "colab_type": "text",
        "id": "T0lc_o-xyjZU"
      },
      "cell_type": "markdown",
      "source": [
        "### Sort values\n",
        "\n",
        "pandas documentation: [sort_values](https://pandas.pydata.org/pandas-docs/stable/generated/pandas.DataFrame.sort_values.html)"
      ]
    },
    {
      "metadata": {
        "colab_type": "text",
        "id": "kxE2swJ9-cG_"
      },
      "cell_type": "markdown",
      "source": [
        "Five shortest titles, by character count"
      ]
    },
    {
      "metadata": {
        "colab_type": "code",
        "id": "7t8DlpLhBVQa",
        "outputId": "ab6f2534-06e4-48b8-c35e-22ff4966a616",
        "colab": {
          "base_uri": "https://localhost:8080/",
          "height": 202
        }
      },
      "cell_type": "code",
      "source": [
        "df.sort_values(by='title character count').head()"
      ],
      "execution_count": 0,
      "outputs": [
        {
          "output_type": "execute_result",
          "data": {
            "text/html": [
              "<div>\n",
              "<style scoped>\n",
              "    .dataframe tbody tr th:only-of-type {\n",
              "        vertical-align: middle;\n",
              "    }\n",
              "\n",
              "    .dataframe tbody tr th {\n",
              "        vertical-align: top;\n",
              "    }\n",
              "\n",
              "    .dataframe thead th {\n",
              "        text-align: right;\n",
              "    }\n",
              "</style>\n",
              "<table border=\"1\" class=\"dataframe\">\n",
              "  <thead>\n",
              "    <tr style=\"text-align: right;\">\n",
              "      <th></th>\n",
              "      <th>title</th>\n",
              "      <th>title character count</th>\n",
              "      <th>long title</th>\n",
              "      <th>first character</th>\n",
              "      <th>title word count</th>\n",
              "    </tr>\n",
              "  </thead>\n",
              "  <tbody>\n",
              "    <tr>\n",
              "      <th>64</th>\n",
              "      <td>Practical decorators</td>\n",
              "      <td>20</td>\n",
              "      <td>False</td>\n",
              "      <td>P</td>\n",
              "      <td>2</td>\n",
              "    </tr>\n",
              "    <tr>\n",
              "      <th>68</th>\n",
              "      <td>Python Security Tools</td>\n",
              "      <td>21</td>\n",
              "      <td>False</td>\n",
              "      <td>P</td>\n",
              "      <td>3</td>\n",
              "    </tr>\n",
              "    <tr>\n",
              "      <th>89</th>\n",
              "      <td>Type hinting (and mypy)</td>\n",
              "      <td>23</td>\n",
              "      <td>False</td>\n",
              "      <td>T</td>\n",
              "      <td>4</td>\n",
              "    </tr>\n",
              "    <tr>\n",
              "      <th>82</th>\n",
              "      <td>The Zen of Python Teams</td>\n",
              "      <td>23</td>\n",
              "      <td>False</td>\n",
              "      <td>T</td>\n",
              "      <td>5</td>\n",
              "    </tr>\n",
              "    <tr>\n",
              "      <th>56</th>\n",
              "      <td>Measuring Model Fairness</td>\n",
              "      <td>24</td>\n",
              "      <td>False</td>\n",
              "      <td>M</td>\n",
              "      <td>3</td>\n",
              "    </tr>\n",
              "  </tbody>\n",
              "</table>\n",
              "</div>"
            ],
            "text/plain": [
              "                       title  title character count  long title  \\\n",
              "64      Practical decorators                     20       False   \n",
              "68     Python Security Tools                     21       False   \n",
              "89   Type hinting (and mypy)                     23       False   \n",
              "82   The Zen of Python Teams                     23       False   \n",
              "56  Measuring Model Fairness                     24       False   \n",
              "\n",
              "   first character  title word count  \n",
              "64               P                 2  \n",
              "68               P                 3  \n",
              "89               T                 4  \n",
              "82               T                 5  \n",
              "56               M                 3  "
            ]
          },
          "metadata": {
            "tags": []
          },
          "execution_count": 248
        }
      ]
    },
    {
      "metadata": {
        "colab_type": "text",
        "id": "NOEH4Ef5-kvo"
      },
      "cell_type": "markdown",
      "source": [
        "Titles sorted reverse alphabetically"
      ]
    },
    {
      "metadata": {
        "colab_type": "code",
        "id": "WkymeWDjBV8X",
        "outputId": "c370df22-30c1-4dc3-ba2b-a54345b7533c",
        "colab": {
          "base_uri": "https://localhost:8080/",
          "height": 2001
        }
      },
      "cell_type": "code",
      "source": [
        "df.sort_values(by='first character', ascending=False)"
      ],
      "execution_count": 0,
      "outputs": [
        {
          "output_type": "execute_result",
          "data": {
            "text/html": [
              "<div>\n",
              "<style scoped>\n",
              "    .dataframe tbody tr th:only-of-type {\n",
              "        vertical-align: middle;\n",
              "    }\n",
              "\n",
              "    .dataframe tbody tr th {\n",
              "        vertical-align: top;\n",
              "    }\n",
              "\n",
              "    .dataframe thead th {\n",
              "        text-align: right;\n",
              "    }\n",
              "</style>\n",
              "<table border=\"1\" class=\"dataframe\">\n",
              "  <thead>\n",
              "    <tr style=\"text-align: right;\">\n",
              "      <th></th>\n",
              "      <th>title</th>\n",
              "      <th>title character count</th>\n",
              "      <th>long title</th>\n",
              "      <th>first character</th>\n",
              "      <th>title word count</th>\n",
              "    </tr>\n",
              "  </thead>\n",
              "  <tbody>\n",
              "    <tr>\n",
              "      <th>30</th>\n",
              "      <td>¡Escuincla babosa!: Creating a telenovela script in three Python deep learning frameworks</td>\n",
              "      <td>89</td>\n",
              "      <td>True</td>\n",
              "      <td>¡</td>\n",
              "      <td>12</td>\n",
              "    </tr>\n",
              "    <tr>\n",
              "      <th>88</th>\n",
              "      <td>to GIL or not to GIL: the Future of Multi-Core (C)Python</td>\n",
              "      <td>56</td>\n",
              "      <td>False</td>\n",
              "      <td>t</td>\n",
              "      <td>11</td>\n",
              "    </tr>\n",
              "    <tr>\n",
              "      <th>94</th>\n",
              "      <td>Working with Time Zones: Everything You Wish You Didn't Need to Know</td>\n",
              "      <td>68</td>\n",
              "      <td>False</td>\n",
              "      <td>W</td>\n",
              "      <td>12</td>\n",
              "    </tr>\n",
              "    <tr>\n",
              "      <th>93</th>\n",
              "      <td>Wily Python: Writing simpler and more maintainable Python</td>\n",
              "      <td>57</td>\n",
              "      <td>False</td>\n",
              "      <td>W</td>\n",
              "      <td>8</td>\n",
              "    </tr>\n",
              "    <tr>\n",
              "      <th>92</th>\n",
              "      <td>What's new in Python 3.7</td>\n",
              "      <td>24</td>\n",
              "      <td>False</td>\n",
              "      <td>W</td>\n",
              "      <td>5</td>\n",
              "    </tr>\n",
              "    <tr>\n",
              "      <th>91</th>\n",
              "      <td>What is a PLC and how do I talk Python to it?</td>\n",
              "      <td>45</td>\n",
              "      <td>False</td>\n",
              "      <td>W</td>\n",
              "      <td>12</td>\n",
              "    </tr>\n",
              "    <tr>\n",
              "      <th>90</th>\n",
              "      <td>Understanding Python’s Debugging Internals</td>\n",
              "      <td>42</td>\n",
              "      <td>False</td>\n",
              "      <td>U</td>\n",
              "      <td>4</td>\n",
              "    </tr>\n",
              "    <tr>\n",
              "      <th>82</th>\n",
              "      <td>The Zen of Python Teams</td>\n",
              "      <td>23</td>\n",
              "      <td>False</td>\n",
              "      <td>T</td>\n",
              "      <td>5</td>\n",
              "    </tr>\n",
              "    <tr>\n",
              "      <th>77</th>\n",
              "      <td>Take Back the Web with GraphQL</td>\n",
              "      <td>30</td>\n",
              "      <td>False</td>\n",
              "      <td>T</td>\n",
              "      <td>6</td>\n",
              "    </tr>\n",
              "    <tr>\n",
              "      <th>78</th>\n",
              "      <td>Terrain, Art, Python and LiDAR</td>\n",
              "      <td>30</td>\n",
              "      <td>False</td>\n",
              "      <td>T</td>\n",
              "      <td>5</td>\n",
              "    </tr>\n",
              "    <tr>\n",
              "      <th>79</th>\n",
              "      <td>The Black Magic of Python Wheels</td>\n",
              "      <td>32</td>\n",
              "      <td>False</td>\n",
              "      <td>T</td>\n",
              "      <td>6</td>\n",
              "    </tr>\n",
              "    <tr>\n",
              "      <th>80</th>\n",
              "      <td>The Perils of Inheritance: Why We Should Prefer Composition</td>\n",
              "      <td>59</td>\n",
              "      <td>False</td>\n",
              "      <td>T</td>\n",
              "      <td>9</td>\n",
              "    </tr>\n",
              "    <tr>\n",
              "      <th>81</th>\n",
              "      <td>The Refactoring Balance Beam: When to Make Changes and When to Leave it Alone</td>\n",
              "      <td>77</td>\n",
              "      <td>False</td>\n",
              "      <td>T</td>\n",
              "      <td>14</td>\n",
              "    </tr>\n",
              "    <tr>\n",
              "      <th>85</th>\n",
              "      <td>Thinking like a Panda: Everything you need to know to use pandas the right way.</td>\n",
              "      <td>79</td>\n",
              "      <td>False</td>\n",
              "      <td>T</td>\n",
              "      <td>15</td>\n",
              "    </tr>\n",
              "    <tr>\n",
              "      <th>83</th>\n",
              "      <td>Things I Wish They Told Me About The Multiprocessing Module in Python 3</td>\n",
              "      <td>71</td>\n",
              "      <td>False</td>\n",
              "      <td>T</td>\n",
              "      <td>13</td>\n",
              "    </tr>\n",
              "    <tr>\n",
              "      <th>84</th>\n",
              "      <td>Thinking Inside the Box: How Python Helped Us Adapt to An Existing Data Ingestion Pipeline</td>\n",
              "      <td>90</td>\n",
              "      <td>True</td>\n",
              "      <td>T</td>\n",
              "      <td>15</td>\n",
              "    </tr>\n",
              "    <tr>\n",
              "      <th>86</th>\n",
              "      <td>Thoth - how to recommend the best possible libraries for your application</td>\n",
              "      <td>73</td>\n",
              "      <td>False</td>\n",
              "      <td>T</td>\n",
              "      <td>11</td>\n",
              "    </tr>\n",
              "    <tr>\n",
              "      <th>87</th>\n",
              "      <td>Time to take out the rubbish: garbage collector</td>\n",
              "      <td>47</td>\n",
              "      <td>False</td>\n",
              "      <td>T</td>\n",
              "      <td>8</td>\n",
              "    </tr>\n",
              "    <tr>\n",
              "      <th>89</th>\n",
              "      <td>Type hinting (and mypy)</td>\n",
              "      <td>23</td>\n",
              "      <td>False</td>\n",
              "      <td>T</td>\n",
              "      <td>4</td>\n",
              "    </tr>\n",
              "    <tr>\n",
              "      <th>73</th>\n",
              "      <td>Statistical Profiling (and other fun with the sys module)</td>\n",
              "      <td>57</td>\n",
              "      <td>False</td>\n",
              "      <td>S</td>\n",
              "      <td>9</td>\n",
              "    </tr>\n",
              "    <tr>\n",
              "      <th>72</th>\n",
              "      <td>Set Practice: learning from Python's set types</td>\n",
              "      <td>46</td>\n",
              "      <td>False</td>\n",
              "      <td>S</td>\n",
              "      <td>7</td>\n",
              "    </tr>\n",
              "    <tr>\n",
              "      <th>71</th>\n",
              "      <td>Scraping a Million Pokemon Battles: Distributed Systems By Example</td>\n",
              "      <td>66</td>\n",
              "      <td>False</td>\n",
              "      <td>S</td>\n",
              "      <td>9</td>\n",
              "    </tr>\n",
              "    <tr>\n",
              "      <th>74</th>\n",
              "      <td>Strategies for testing Async code</td>\n",
              "      <td>33</td>\n",
              "      <td>False</td>\n",
              "      <td>S</td>\n",
              "      <td>5</td>\n",
              "    </tr>\n",
              "    <tr>\n",
              "      <th>75</th>\n",
              "      <td>Supporting Engineers with Mental Health Issues</td>\n",
              "      <td>46</td>\n",
              "      <td>False</td>\n",
              "      <td>S</td>\n",
              "      <td>6</td>\n",
              "    </tr>\n",
              "    <tr>\n",
              "      <th>76</th>\n",
              "      <td>Syntax Trees and Python - Automated Code Transformations</td>\n",
              "      <td>56</td>\n",
              "      <td>False</td>\n",
              "      <td>S</td>\n",
              "      <td>7</td>\n",
              "    </tr>\n",
              "    <tr>\n",
              "      <th>70</th>\n",
              "      <td>Rescuing Kerala with Python</td>\n",
              "      <td>27</td>\n",
              "      <td>False</td>\n",
              "      <td>R</td>\n",
              "      <td>4</td>\n",
              "    </tr>\n",
              "    <tr>\n",
              "      <th>69</th>\n",
              "      <td>Releasing the World's Largest Python Site Every 7 Minutes</td>\n",
              "      <td>57</td>\n",
              "      <td>False</td>\n",
              "      <td>R</td>\n",
              "      <td>9</td>\n",
              "    </tr>\n",
              "    <tr>\n",
              "      <th>65</th>\n",
              "      <td>Programmatic Notebooks with papermill</td>\n",
              "      <td>37</td>\n",
              "      <td>False</td>\n",
              "      <td>P</td>\n",
              "      <td>4</td>\n",
              "    </tr>\n",
              "    <tr>\n",
              "      <th>62</th>\n",
              "      <td>Plugins: Adding Flexibility to Your Apps</td>\n",
              "      <td>40</td>\n",
              "      <td>False</td>\n",
              "      <td>P</td>\n",
              "      <td>6</td>\n",
              "    </tr>\n",
              "    <tr>\n",
              "      <th>63</th>\n",
              "      <td>Plug-n-Stream Player Piano: Signal Processing With Python</td>\n",
              "      <td>57</td>\n",
              "      <td>False</td>\n",
              "      <td>P</td>\n",
              "      <td>7</td>\n",
              "    </tr>\n",
              "    <tr>\n",
              "      <th>...</th>\n",
              "      <td>...</td>\n",
              "      <td>...</td>\n",
              "      <td>...</td>\n",
              "      <td>...</td>\n",
              "      <td>...</td>\n",
              "    </tr>\n",
              "    <tr>\n",
              "      <th>31</th>\n",
              "      <td>Everything at Once: Python's Many Concurrency Models</td>\n",
              "      <td>52</td>\n",
              "      <td>False</td>\n",
              "      <td>E</td>\n",
              "      <td>7</td>\n",
              "    </tr>\n",
              "    <tr>\n",
              "      <th>29</th>\n",
              "      <td>Escape from auto-manual testing with Hypothesis!</td>\n",
              "      <td>48</td>\n",
              "      <td>False</td>\n",
              "      <td>E</td>\n",
              "      <td>6</td>\n",
              "    </tr>\n",
              "    <tr>\n",
              "      <th>28</th>\n",
              "      <td>Ensuring Safe Water Access with Python and Machine Learning</td>\n",
              "      <td>59</td>\n",
              "      <td>False</td>\n",
              "      <td>E</td>\n",
              "      <td>9</td>\n",
              "    </tr>\n",
              "    <tr>\n",
              "      <th>27</th>\n",
              "      <td>Engineering Ethics and Open Source Software</td>\n",
              "      <td>43</td>\n",
              "      <td>False</td>\n",
              "      <td>E</td>\n",
              "      <td>6</td>\n",
              "    </tr>\n",
              "    <tr>\n",
              "      <th>23</th>\n",
              "      <td>Django Channels in practice</td>\n",
              "      <td>27</td>\n",
              "      <td>False</td>\n",
              "      <td>D</td>\n",
              "      <td>4</td>\n",
              "    </tr>\n",
              "    <tr>\n",
              "      <th>22</th>\n",
              "      <td>Dependency hell: a library author's guide</td>\n",
              "      <td>41</td>\n",
              "      <td>False</td>\n",
              "      <td>D</td>\n",
              "      <td>6</td>\n",
              "    </tr>\n",
              "    <tr>\n",
              "      <th>24</th>\n",
              "      <td>Does remote work really work?</td>\n",
              "      <td>29</td>\n",
              "      <td>False</td>\n",
              "      <td>D</td>\n",
              "      <td>5</td>\n",
              "    </tr>\n",
              "    <tr>\n",
              "      <th>25</th>\n",
              "      <td>Don't be a robot, build the bot</td>\n",
              "      <td>31</td>\n",
              "      <td>False</td>\n",
              "      <td>D</td>\n",
              "      <td>7</td>\n",
              "    </tr>\n",
              "    <tr>\n",
              "      <th>21</th>\n",
              "      <td>CUDA in your Python: Effective Parallel Programming on the GPU</td>\n",
              "      <td>62</td>\n",
              "      <td>False</td>\n",
              "      <td>C</td>\n",
              "      <td>10</td>\n",
              "    </tr>\n",
              "    <tr>\n",
              "      <th>20</th>\n",
              "      <td>Code Review Skills for Pythonistas</td>\n",
              "      <td>34</td>\n",
              "      <td>False</td>\n",
              "      <td>C</td>\n",
              "      <td>5</td>\n",
              "    </tr>\n",
              "    <tr>\n",
              "      <th>19</th>\n",
              "      <td>Coded Readers: Using Python to uncover surprising patterns in the books you love</td>\n",
              "      <td>80</td>\n",
              "      <td>False</td>\n",
              "      <td>C</td>\n",
              "      <td>13</td>\n",
              "    </tr>\n",
              "    <tr>\n",
              "      <th>13</th>\n",
              "      <td>Beyond Two Groups: Generalized Bayesian A/B[/C/D/E...] Testing</td>\n",
              "      <td>62</td>\n",
              "      <td>False</td>\n",
              "      <td>B</td>\n",
              "      <td>7</td>\n",
              "    </tr>\n",
              "    <tr>\n",
              "      <th>18</th>\n",
              "      <td>But, Why is the (Django) Admin Slow?</td>\n",
              "      <td>36</td>\n",
              "      <td>False</td>\n",
              "      <td>B</td>\n",
              "      <td>7</td>\n",
              "    </tr>\n",
              "    <tr>\n",
              "      <th>17</th>\n",
              "      <td>Building reproducible Python applications for secured environments</td>\n",
              "      <td>66</td>\n",
              "      <td>False</td>\n",
              "      <td>B</td>\n",
              "      <td>7</td>\n",
              "    </tr>\n",
              "    <tr>\n",
              "      <th>16</th>\n",
              "      <td>Building an Open Source Artificial Pancreas</td>\n",
              "      <td>43</td>\n",
              "      <td>False</td>\n",
              "      <td>B</td>\n",
              "      <td>6</td>\n",
              "    </tr>\n",
              "    <tr>\n",
              "      <th>15</th>\n",
              "      <td>Building a Culture of Observability</td>\n",
              "      <td>35</td>\n",
              "      <td>False</td>\n",
              "      <td>B</td>\n",
              "      <td>5</td>\n",
              "    </tr>\n",
              "    <tr>\n",
              "      <th>14</th>\n",
              "      <td>Break the Cycle: Three excellent Python tools to automate repetitive tasks</td>\n",
              "      <td>74</td>\n",
              "      <td>False</td>\n",
              "      <td>B</td>\n",
              "      <td>11</td>\n",
              "    </tr>\n",
              "    <tr>\n",
              "      <th>8</th>\n",
              "      <td>API Evolution the Right Way</td>\n",
              "      <td>27</td>\n",
              "      <td>False</td>\n",
              "      <td>A</td>\n",
              "      <td>5</td>\n",
              "    </tr>\n",
              "    <tr>\n",
              "      <th>4</th>\n",
              "      <td>Advanced asyncio: Solving Real-world Production Problems</td>\n",
              "      <td>56</td>\n",
              "      <td>False</td>\n",
              "      <td>A</td>\n",
              "      <td>6</td>\n",
              "    </tr>\n",
              "    <tr>\n",
              "      <th>5</th>\n",
              "      <td>A Guide to Software Engineering for Visually Impaired</td>\n",
              "      <td>53</td>\n",
              "      <td>False</td>\n",
              "      <td>A</td>\n",
              "      <td>8</td>\n",
              "    </tr>\n",
              "    <tr>\n",
              "      <th>6</th>\n",
              "      <td>A Medieval DSL? Parsing Heraldic Blazons with Python!</td>\n",
              "      <td>53</td>\n",
              "      <td>False</td>\n",
              "      <td>A</td>\n",
              "      <td>8</td>\n",
              "    </tr>\n",
              "    <tr>\n",
              "      <th>7</th>\n",
              "      <td>A New Era in Python Governance</td>\n",
              "      <td>30</td>\n",
              "      <td>False</td>\n",
              "      <td>A</td>\n",
              "      <td>6</td>\n",
              "    </tr>\n",
              "    <tr>\n",
              "      <th>2</th>\n",
              "      <td>Account Security Patterns: How Logged-In Are you?</td>\n",
              "      <td>49</td>\n",
              "      <td>False</td>\n",
              "      <td>A</td>\n",
              "      <td>7</td>\n",
              "    </tr>\n",
              "    <tr>\n",
              "      <th>9</th>\n",
              "      <td>A Right Stitch-up: Creating embroidery patterns with Pillow</td>\n",
              "      <td>59</td>\n",
              "      <td>False</td>\n",
              "      <td>A</td>\n",
              "      <td>8</td>\n",
              "    </tr>\n",
              "    <tr>\n",
              "      <th>10</th>\n",
              "      <td>A Snake in the Bits: Security Automation with Python</td>\n",
              "      <td>52</td>\n",
              "      <td>False</td>\n",
              "      <td>A</td>\n",
              "      <td>9</td>\n",
              "    </tr>\n",
              "    <tr>\n",
              "      <th>11</th>\n",
              "      <td>Assets in Django without losing your hair</td>\n",
              "      <td>41</td>\n",
              "      <td>False</td>\n",
              "      <td>A</td>\n",
              "      <td>7</td>\n",
              "    </tr>\n",
              "    <tr>\n",
              "      <th>12</th>\n",
              "      <td>Attracting the Invisible Contributors</td>\n",
              "      <td>37</td>\n",
              "      <td>False</td>\n",
              "      <td>A</td>\n",
              "      <td>4</td>\n",
              "    </tr>\n",
              "    <tr>\n",
              "      <th>3</th>\n",
              "      <td>Ace Your Technical Interview Using Python</td>\n",
              "      <td>41</td>\n",
              "      <td>False</td>\n",
              "      <td>A</td>\n",
              "      <td>6</td>\n",
              "    </tr>\n",
              "    <tr>\n",
              "      <th>1</th>\n",
              "      <td>8 things that happen at the dot:  Attribute Access &amp; Descriptors</td>\n",
              "      <td>64</td>\n",
              "      <td>False</td>\n",
              "      <td>8</td>\n",
              "      <td>10</td>\n",
              "    </tr>\n",
              "    <tr>\n",
              "      <th>0</th>\n",
              "      <td>5 Steps to Build Python Native GUI Widgets for BeeWare</td>\n",
              "      <td>54</td>\n",
              "      <td>False</td>\n",
              "      <td>5</td>\n",
              "      <td>10</td>\n",
              "    </tr>\n",
              "  </tbody>\n",
              "</table>\n",
              "<p>95 rows × 5 columns</p>\n",
              "</div>"
            ],
            "text/plain": [
              "                                                                                         title  \\\n",
              "30   ¡Escuincla babosa!: Creating a telenovela script in three Python deep learning frameworks   \n",
              "88                                    to GIL or not to GIL: the Future of Multi-Core (C)Python   \n",
              "94                        Working with Time Zones: Everything You Wish You Didn't Need to Know   \n",
              "93                                   Wily Python: Writing simpler and more maintainable Python   \n",
              "92                                                                    What's new in Python 3.7   \n",
              "91                                               What is a PLC and how do I talk Python to it?   \n",
              "90                                                  Understanding Python’s Debugging Internals   \n",
              "82                                                                     The Zen of Python Teams   \n",
              "77                                                              Take Back the Web with GraphQL   \n",
              "78                                                              Terrain, Art, Python and LiDAR   \n",
              "79                                                            The Black Magic of Python Wheels   \n",
              "80                                 The Perils of Inheritance: Why We Should Prefer Composition   \n",
              "81               The Refactoring Balance Beam: When to Make Changes and When to Leave it Alone   \n",
              "85             Thinking like a Panda: Everything you need to know to use pandas the right way.   \n",
              "83                     Things I Wish They Told Me About The Multiprocessing Module in Python 3   \n",
              "84  Thinking Inside the Box: How Python Helped Us Adapt to An Existing Data Ingestion Pipeline   \n",
              "86                   Thoth - how to recommend the best possible libraries for your application   \n",
              "87                                             Time to take out the rubbish: garbage collector   \n",
              "89                                                                     Type hinting (and mypy)   \n",
              "73                                   Statistical Profiling (and other fun with the sys module)   \n",
              "72                                              Set Practice: learning from Python's set types   \n",
              "71                          Scraping a Million Pokemon Battles: Distributed Systems By Example   \n",
              "74                                                           Strategies for testing Async code   \n",
              "75                                              Supporting Engineers with Mental Health Issues   \n",
              "76                                    Syntax Trees and Python - Automated Code Transformations   \n",
              "70                                                                 Rescuing Kerala with Python   \n",
              "69                                   Releasing the World's Largest Python Site Every 7 Minutes   \n",
              "65                                                       Programmatic Notebooks with papermill   \n",
              "62                                                    Plugins: Adding Flexibility to Your Apps   \n",
              "63                                   Plug-n-Stream Player Piano: Signal Processing With Python   \n",
              "..                                                                                         ...   \n",
              "31                                        Everything at Once: Python's Many Concurrency Models   \n",
              "29                                            Escape from auto-manual testing with Hypothesis!   \n",
              "28                                 Ensuring Safe Water Access with Python and Machine Learning   \n",
              "27                                                 Engineering Ethics and Open Source Software   \n",
              "23                                                                 Django Channels in practice   \n",
              "22                                                   Dependency hell: a library author's guide   \n",
              "24                                                               Does remote work really work?   \n",
              "25                                                             Don't be a robot, build the bot   \n",
              "21                              CUDA in your Python: Effective Parallel Programming on the GPU   \n",
              "20                                                          Code Review Skills for Pythonistas   \n",
              "19            Coded Readers: Using Python to uncover surprising patterns in the books you love   \n",
              "13                              Beyond Two Groups: Generalized Bayesian A/B[/C/D/E...] Testing   \n",
              "18                                                        But, Why is the (Django) Admin Slow?   \n",
              "17                          Building reproducible Python applications for secured environments   \n",
              "16                                                 Building an Open Source Artificial Pancreas   \n",
              "15                                                         Building a Culture of Observability   \n",
              "14                  Break the Cycle: Three excellent Python tools to automate repetitive tasks   \n",
              "8                                                                  API Evolution the Right Way   \n",
              "4                                     Advanced asyncio: Solving Real-world Production Problems   \n",
              "5                                        A Guide to Software Engineering for Visually Impaired   \n",
              "6                                        A Medieval DSL? Parsing Heraldic Blazons with Python!   \n",
              "7                                                               A New Era in Python Governance   \n",
              "2                                            Account Security Patterns: How Logged-In Are you?   \n",
              "9                                  A Right Stitch-up: Creating embroidery patterns with Pillow   \n",
              "10                                        A Snake in the Bits: Security Automation with Python   \n",
              "11                                                   Assets in Django without losing your hair   \n",
              "12                                                       Attracting the Invisible Contributors   \n",
              "3                                                    Ace Your Technical Interview Using Python   \n",
              "1                             8 things that happen at the dot:  Attribute Access & Descriptors   \n",
              "0                                       5 Steps to Build Python Native GUI Widgets for BeeWare   \n",
              "\n",
              "    title character count  long title first character  title word count  \n",
              "30                     89        True               ¡                12  \n",
              "88                     56       False               t                11  \n",
              "94                     68       False               W                12  \n",
              "93                     57       False               W                 8  \n",
              "92                     24       False               W                 5  \n",
              "91                     45       False               W                12  \n",
              "90                     42       False               U                 4  \n",
              "82                     23       False               T                 5  \n",
              "77                     30       False               T                 6  \n",
              "78                     30       False               T                 5  \n",
              "79                     32       False               T                 6  \n",
              "80                     59       False               T                 9  \n",
              "81                     77       False               T                14  \n",
              "85                     79       False               T                15  \n",
              "83                     71       False               T                13  \n",
              "84                     90        True               T                15  \n",
              "86                     73       False               T                11  \n",
              "87                     47       False               T                 8  \n",
              "89                     23       False               T                 4  \n",
              "73                     57       False               S                 9  \n",
              "72                     46       False               S                 7  \n",
              "71                     66       False               S                 9  \n",
              "74                     33       False               S                 5  \n",
              "75                     46       False               S                 6  \n",
              "76                     56       False               S                 7  \n",
              "70                     27       False               R                 4  \n",
              "69                     57       False               R                 9  \n",
              "65                     37       False               P                 4  \n",
              "62                     40       False               P                 6  \n",
              "63                     57       False               P                 7  \n",
              "..                    ...         ...             ...               ...  \n",
              "31                     52       False               E                 7  \n",
              "29                     48       False               E                 6  \n",
              "28                     59       False               E                 9  \n",
              "27                     43       False               E                 6  \n",
              "23                     27       False               D                 4  \n",
              "22                     41       False               D                 6  \n",
              "24                     29       False               D                 5  \n",
              "25                     31       False               D                 7  \n",
              "21                     62       False               C                10  \n",
              "20                     34       False               C                 5  \n",
              "19                     80       False               C                13  \n",
              "13                     62       False               B                 7  \n",
              "18                     36       False               B                 7  \n",
              "17                     66       False               B                 7  \n",
              "16                     43       False               B                 6  \n",
              "15                     35       False               B                 5  \n",
              "14                     74       False               B                11  \n",
              "8                      27       False               A                 5  \n",
              "4                      56       False               A                 6  \n",
              "5                      53       False               A                 8  \n",
              "6                      53       False               A                 8  \n",
              "7                      30       False               A                 6  \n",
              "2                      49       False               A                 7  \n",
              "9                      59       False               A                 8  \n",
              "10                     52       False               A                 9  \n",
              "11                     41       False               A                 7  \n",
              "12                     37       False               A                 4  \n",
              "3                      41       False               A                 6  \n",
              "1                      64       False               8                10  \n",
              "0                      54       False               5                10  \n",
              "\n",
              "[95 rows x 5 columns]"
            ]
          },
          "metadata": {
            "tags": []
          },
          "execution_count": 249
        }
      ]
    },
    {
      "metadata": {
        "colab_type": "text",
        "id": "e4wr42FB0GV-"
      },
      "cell_type": "markdown",
      "source": [
        "### Get value counts\n",
        "\n",
        "pandas documentation: [value_counts](https://pandas.pydata.org/pandas-docs/stable/generated/pandas.Series.value_counts.html)\n"
      ]
    },
    {
      "metadata": {
        "colab_type": "text",
        "id": "D81LNGaI-6ya"
      },
      "cell_type": "markdown",
      "source": [
        "Frequency counts of first letters"
      ]
    },
    {
      "metadata": {
        "colab_type": "code",
        "id": "AdTQYsRKBZio",
        "outputId": "ca5cf80c-13d5-4e62-abd1-f4a7544b8488",
        "colab": {
          "base_uri": "https://localhost:8080/",
          "height": 416
        }
      },
      "cell_type": "code",
      "source": [
        "df['first character'].value_counts()"
      ],
      "execution_count": 0,
      "outputs": [
        {
          "output_type": "execute_result",
          "data": {
            "text/plain": [
              "T    12\n",
              "A    11\n",
              "M     8\n",
              "P     8\n",
              "E     7\n",
              "B     6\n",
              "S     6\n",
              "H     5\n",
              "W     4\n",
              "D     4\n",
              "L     4\n",
              "G     4\n",
              "F     3\n",
              "C     3\n",
              "I     2\n",
              "R     2\n",
              "O     1\n",
              "8     1\n",
              "¡     1\n",
              "5     1\n",
              "t     1\n",
              "U     1\n",
              "Name: first character, dtype: int64"
            ]
          },
          "metadata": {
            "tags": []
          },
          "execution_count": 250
        }
      ]
    },
    {
      "metadata": {
        "colab_type": "text",
        "id": "04NVokvTAwqK"
      },
      "cell_type": "markdown",
      "source": [
        "Percentage of talks with long titles"
      ]
    },
    {
      "metadata": {
        "colab_type": "code",
        "id": "uS8qp4hrBat6",
        "outputId": "af810af2-28ec-4e07-a520-fb09fd9e455b",
        "colab": {
          "base_uri": "https://localhost:8080/",
          "height": 69
        }
      },
      "cell_type": "code",
      "source": [
        "df['long title'].value_counts(normalize=True)"
      ],
      "execution_count": 0,
      "outputs": [
        {
          "output_type": "execute_result",
          "data": {
            "text/plain": [
              "False    0.915789\n",
              "True     0.084211\n",
              "Name: long title, dtype: float64"
            ]
          },
          "metadata": {
            "tags": []
          },
          "execution_count": 251
        }
      ]
    },
    {
      "metadata": {
        "colab_type": "text",
        "id": "mmYZL2QL0lgd"
      },
      "cell_type": "markdown",
      "source": [
        "### Plot\n",
        "\n",
        "pandas documentation: [Visualization](https://pandas.pydata.org/pandas-docs/stable/visualization.html)\n",
        "\n",
        "\n",
        "\n"
      ]
    },
    {
      "metadata": {
        "colab_type": "text",
        "id": "c6gCotA9_B68"
      },
      "cell_type": "markdown",
      "source": [
        "Top 5 most frequent first letters"
      ]
    },
    {
      "metadata": {
        "id": "WvimFJ3llRlI",
        "colab_type": "code",
        "outputId": "5bf1d2bf-a0d9-46c4-b151-2f0b2dd7256f",
        "colab": {
          "base_uri": "https://localhost:8080/",
          "height": 281
        }
      },
      "cell_type": "code",
      "source": [
        "%matplotlib inline\n",
        "\n",
        "# Method chaining\n",
        "(df['first character']\n",
        " .value_counts()\n",
        " .head()\n",
        " .plot\n",
        " .barh(color = 'grey',\n",
        "      title='Top 5 most frequent first letters, PyCon 2019 talks'));"
      ],
      "execution_count": 0,
      "outputs": [
        {
          "output_type": "display_data",
          "data": {
            "image/png": "[encoded data removed]",
            "text/plain": [
              "<Figure size 432x288 with 1 Axes>"
            ]
          },
          "metadata": {
            "tags": []
          }
        }
      ]
    },
    {
      "metadata": {
        "colab_type": "text",
        "id": "_Ngegk0bASty"
      },
      "cell_type": "markdown",
      "source": [
        "Histogram of title lengths, in characters"
      ]
    },
    {
      "metadata": {
        "colab_type": "code",
        "id": "y5oLu2D4BeKw",
        "outputId": "cd8fde6f-ef31-4ed6-b743-c8c0510be8a1",
        "colab": {
          "base_uri": "https://localhost:8080/",
          "height": 281
        }
      },
      "cell_type": "code",
      "source": [
        "title = 'Distribution of title length, in characters'\n",
        "df['title character count'].plot.hist(title=title);"
      ],
      "execution_count": 0,
      "outputs": [
        {
          "output_type": "display_data",
          "data": {
            "image/png": "[encoded data removed]",
            "text/plain": [
              "<Figure size 432x288 with 1 Axes>"
            ]
          },
          "metadata": {
            "tags": []
          }
        }
      ]
    },
    {
      "metadata": {
        "colab_type": "text",
        "id": "DiylH7LQw44u"
      },
      "cell_type": "markdown",
      "source": [
        "# Assignment\n",
        "\n",
        "**Scrape** the talk descriptions. Hint: `soup.select('.presentation-description')`\n",
        "\n",
        "**Make** new columns in the dataframe:\n",
        "- description\n",
        "- description character count\n",
        "- description word count\n",
        "\n",
        "**Describe** all the dataframe's columns. What's the average description word count? The minimum? The maximum?\n",
        "\n",
        "**Answer** the question: Which descriptions could fit in a tweet?\n",
        "\n",
        "\n",
        "# Stretch Challenge\n",
        "\n",
        "**Make** another new column in the dataframe:\n",
        "- description grade level (you can use [this `textstat` function](https://github.com/shivam5992/textstat#the-flesch-kincaid-grade-level) to get the Flesh-Kincaid grade level)\n",
        "\n",
        "**Answer** the question: What's the distribution of grade levels? Plot a histogram.\n",
        "\n",
        "**Be aware** that [Textstat has issues when sentences aren't separated by spaces](https://github.com/shivam5992/textstat/issues/77#issuecomment-453734048). (A Lambda School Data Science student helped identify this issue, and emailed with the developer.) \n",
        "\n",
        "Also, [BeautifulSoup doesn't separate paragraph tags with spaces](https://bugs.launchpad.net/beautifulsoup/+bug/1768330).\n",
        "\n",
        "So, you may get some inaccurate or surprising grade level estimates here. Don't worry, that's ok — but optionally, can you do anything to try improving the grade level estimates?"
      ]
    },
    {
      "metadata": {
        "id": "Rq6z1SwPYgSw",
        "colab_type": "code",
        "outputId": "fc1aad21-9690-4cf1-af95-a5f9a96da6f2",
        "colab": {
          "base_uri": "https://localhost:8080/",
          "height": 7699
        }
      },
      "cell_type": "code",
      "source": [
        "soup.select('.presentation-description')"
      ],
      "execution_count": 0,
      "outputs": [
        {
          "output_type": "execute_result",
          "data": {
            "text/plain": [
              "[<div class=\"presentation-description\">Have you ever wanted to write a GUI application in Python that you can run on both your laptop and your phone? Have you been looking to contribute to an open source project, but you don't know where to start?\n",
              " \n",
              " BeeWare is a set of software libraries for cross-platform native app development from a single Python codebase and tools to simplify app deployment. The project aims to build, deploy, and run apps for Windows, Linux, macOS, Android, iPhone, and the web. It is native because it is actually using your platform's native GUI widgets, not a theme, icon pack, or webpage wrapper.\n",
              " \n",
              " This talk will teach you how Toga, the BeeWare GUI toolkit, is architected and then show you how you can contribute to Toga by creating your own GUI widget in five easy steps.</div>,\n",
              " <div class=\"presentation-description\">We rarely think about the dot “.” between our objects and their fields, but there are quite a lot of things that happen every time we use one in Python. This talk will explore the details of what happens, how the descriptor protocol works, and how it can be used to alter the Python object model.\n",
              " </div>,\n",
              " <div class=\"presentation-description\">Account security means making sure your users are only ones who can access their accounts. Account takeovers happen for a variety of reasons -- password re-use, compromised computers, guessable passwords, and more. This talk gives you concepts and concrete skills that will help you identify and prevent account takeovers and limit the damage. It’s inspired by practices in use at GitHub, Google, and the Python Package Index.\n",
              " </div>,\n",
              " <div class=\"presentation-description\">Do you feel overwhelmed by the prospect of having to find a new software engineering job because you dread the technical interviewing process? Have you been putting off submitting your job applications because you think you won't be ready to interview until you do \"just one more\" day of studying? \n",
              " \n",
              " In this talk, you'll learn which concepts are the most important to study for entry-level roles and how to use your Python skills to convey your understanding of these concepts with confidence and clarity. </div>,\n",
              " <div class=\"presentation-description\">Everyone’s talking about it. Everyone’s using it. But most likely, they’re doing it wrong, just like we did.\n",
              " \n",
              " By building a simplified chaos monkey service, we will walk through how to create a good foundation for an asyncio-based service, including graceful shutdowns, proper exception handling, and testing asynchronous code. We’ll get into the hairier topics as well, covering topics like working with synchronous code, debugging and profiling, and working with threaded code. We’ll learn how to approach asynchronous and concurrent programming with Python’s `asyncio` library, take away some best practices, and learn what pitfalls to avoid.</div>,\n",
              " <div class=\"presentation-description\">We will look into a day in the life of a Software Engineer with limited vision to Understand their difficulties at work and how they can overcome those difficulties to become successful in their role.\n",
              " \n",
              " I am a backend Software Engineer at Yelp who uses Python extensively for building Yelps infrastructure and internal tools. I also suffer from a genetic disorder called Albinism which often results in limited visual acuity that can range from 20/120 to 20/200 in most common cases. With such a low vision it's extremely difficult to read the computer screen without the use of on-screen magnifiers. In this talk, we will see how a person with adverse visual acuity can thrive and be successful in the field of Software Engineering. We will address the importance and meaning of accessibility for Software Engineers with partial vision and recommend some best practices that are available today. We will also talk about the importance of an inclusive work culture that can help foster creativity and ease ramp up for a Software Engineer with a disability.\n",
              " </div>,\n",
              " <div class=\"presentation-description\">Medieval European Nobility was obsessed with Lineage. They created a Heraldic System to track families, which assigned each family a unique Coat of Arms.\n",
              " \n",
              " Any painting of the Coat of Arms was not the official version. The official version was a \"Blazon\" - a precise, terse description in heraldic language.   This heraldic language reads like English, Latin, French, and XML had a baby.  It's a fully recursive language with a formal grammar, variable assignment, positional arguments, and also, Lions, Bears, and Pythons.\n",
              " \n",
              " Here's an example: _Sable, on a fesse or three lions gules_\n",
              " \n",
              " In this talk, we look at parsing this Medieval _Domain Specific Language_ with Python. Along the way, we'll learn a little history, and the tools for parsing and writing your own DSL.\n",
              " </div>,\n",
              " <div class=\"presentation-description\">In July of 2018, Guido van Rossum stepped down as “Benevolent Dictator for Life” of Python.  In December, Python core developers voted on a new governance structure to guide Python going forward.  This talk explores what’s changing and how it may impact the Python community.\n",
              " \n",
              " Based on analysis of the relevant PEPs and other documentation, and strengthened via a series of interviews with core developers and other community leaders, we’ll cover Python governance past, present and future.  Particular care will be taken to explain why the core developers chose the governance model they did, what the new system entails, and how community members can participate in it.</div>,\n",
              " <div class=\"presentation-description\">If you maintain a library, how can you innovate without breaking the projects that depend on it? Follow semantic versioning, add APIs conservatively, add parameters compatibly, use DeprecationWarnings and publish a deprecation policy, guide your users on how to upgrade, and make wise choices about when to break backwards compatibility.</div>,\n",
              " <div class=\"presentation-description\">Embroidery is an technology that dates back centuries, and still popular in the present day among craftspeople around the world. Cross-stitch refers to the creation of crosses in a grid that combine to build up an image, based on a 'chart' or pattern of the intended design.\n",
              " \n",
              " Even though entire pieces could be created based on completely manual processes, much of the technology behind automating chart creation is locked behind paid software. \n",
              " \n",
              " During this presentation, we will discuss how we can leverage the Python Imaging Library (PIL, now Pillow) in order to take source images and turn them into cross-stitch charts. \n",
              " \n",
              " The resulting art piece from the talk, the PyCon US 2019 logo, will be auctioned off at the PyLadies Charity Auction. Tickets to the Charity Auction available separately, see website for details. \n",
              " \n",
              " </div>,\n",
              " <div class=\"presentation-description\">Security incident response is an intense, high stress, high skill job that relies heavily on human judgement. Despite that, for reasons that we can't begin to understand, a big part of an incident responder's job seems to be opening numerous browser tabs and copy-pasting bits of text from one system to another. The hard parts of incident response can't be automated, but there are entire classes of busy-work that we can eliminate with a few web hooks and some artisanal Python.\n",
              " \n",
              " In this talk we're going to discuss how to use Python to automate security incident response team (SIRT) operations. We'll give an overview of what a typical SecOps/SIRT infrastructure looks like, how and where automation fits in, and dive into some code. We'll walk through a simple example, with screenshots and code, of automating a SecOps process. We want to show that  getting started with security automation doesn't have to be difficult or expensive (though vendors will happily take your money). Just a little bit of Python can make some great quality of life improvements for incident responders.</div>,\n",
              " <div class=\"presentation-description\">There's one part of building a Django app I hate: setting up handling of assets and media. There are so many moving pieces — static assets,  asset compilation and compression, file uploads, storage engines, etc. etc. I can never remember how it all fits together. I wrote this talk for one very selfish reason: to document how this all works, in one place, once and for all. \n",
              " \n",
              " This talk is primarily intended for Django developers who want to build an asset pipeline that Just Works. The bulk of the talk covers front-end tooling (Webpack, PostCSS, Babel, etc.), so full-stack developers of any stripe will find something here, too.</div>,\n",
              " <div class=\"presentation-description\">Many new coders seek out open source projects, intending to contribute, and then get overwhelmed and leave. Project maintainers often want the help, but don’t realize how they are inadvertently appearing unwelcoming. I will discuss some of the most common complaints I’ve heard from new coders who tried to contribute but left in frustration, and ways that these can be addressed without putting too much burden on the maintainers.</div>,\n",
              " <div class=\"presentation-description\">Bayesian A/B testing has gained much popularity over the years. It seems, however, that the examples stop at two groups. This begs the questions: should we not be able to do more than simple two-group, case/control comparisons? Is there a special procedure that's necessary, or is there a natural extension of commonly-used Bayesian methods?\n",
              " \n",
              " In this talk, I will use life-like, simulated examples, inspired from work and from meeting others at conferences, to show how to generalize A/B testing beyond the rigid assumptions commonly highlighted. Specifically, I will show two examples, one involving Bayesian estimation on click data on a website, and another on 4-parameter dose-response curves. \n",
              " \n",
              " There will be plenty of code from the modern PyData stack, involving the use of PyMC3, pandas, holoviews, and more. </div>,\n",
              " <div class=\"presentation-description\">Find yourself doing the same thing over and over again? Does it take more than one command to run your tests? build your docs? publish your project? deploy?\n",
              " \n",
              " It is often difficult to share your code because others can run or test it? Does your README have a series of complicated steps to get things set up?\n",
              " \n",
              " This talk explores three open-source tools that are wonderful at helping you and your project automate tasks. We'll look at Tox, which specializes in Python test environments, Nox, which offers a slightly different approach, and finally, PyInvoke, which you can use to automate just about anything.</div>,\n",
              " <div class=\"presentation-description\">Observability is often thought of as just a new word for monitoring. While it encompasses traditional devops areas such as monitoring, metrics, and infrastructure management, it’s much deeper and empowers developers at all levels of the stack. **Observability is about achieving a deep understanding of your software**. This not only helps you localize and debug production issues but removes uncertainty and speculation, **empowering developers** to know their tools and improving engineering excellence. Observability helps developers “understand the narrative” of what’s going on in their software.\n",
              " \n",
              " This talk is about how we’ve driven adoption of a culture of observability within our engineering culture. We'll define and motivate for our focus on observability; discuss the tangible tools we’ve built and best practices we’ve adopted to ingrain observability into our engineering culture; and provide some specific, real-world results we’ve achieved as part of this effort. We'll will focus particularly on the tooling we’ve adopted around Django and Celery  and some interesting experiences we had extending their internals.</div>,\n",
              " <div class=\"presentation-description\">Have you ever thought about what open source software or hardware could achieve? What if it could help improve people's lives by solving some of their health problems?\n",
              " \n",
              " After the medical tech industry kept promising a system to help automatically manage insulin for type 1 diabetic people and never delivering, some people got together to find ways to do it with the tech they already had. Over the past few years, a \"closed-loop\" system has been developed to algorithmically regulate people's blood sugars. After reverse engineering bluetooth sensors and 915 MHz insulin pumps, the system became possible. As a diabetic, I also built this system and saw my sugar values stabilize much more than I could ever achieve doing it manually myself. Now I'm working on contributing back to the projects as well.\n",
              " \n",
              " I want to talk about this system, from a technical side as well as a personal side. I'll talk about OpenAPS (the open artificial pancreas system) and how it works, what problems it solves, and its safety and security concerns. I also want to show how it's helped me, and what this means for my health now and in the future. I ultimately want to show how we, as software developers, can change people's lives through the code we write.</div>,\n",
              " <div class=\"presentation-description\">We all have to package Python based applications for various environments, starting from command line tools, to web applications. And depending on the users, it can be installed on thousands on computers or on a selected few systems. https://pypi.org is our goto place for finding any dependencies and also in most of the time we install binary wheels directly\n",
              " from there, thus saving a lot time.\n",
              " \n",
              " But, Python is also being used in many environments where security is the utter most important, and validating the dependencies of project is also very critical along with the actual project source code.  Many of noticed the recent incident where people were being able to [steal bticoins using a popular library](https://www.theregister.co.uk/2018/11/26/npm_repo_bitcoin_stealer/).This talk will take [SecureDrop client application](https://github.com/freedomofpress/securedrop-client) for journalists as an example project and see how we tried to tackle the similar problem. SecureDrop is an Open Source whistleblower system which is deployed over 75 news organizations all over the world. Our threat model has nation state actors as possible threats, so, security and privacy of the users of the system is a very important point of the whole project. The tools in this case are build and packaged into reproducible Debian deb packages and are installed on Qubes OS in the final end user systems.\n",
              " \n",
              " There are two basic ways we handle Python project dependencies, for most of the development work, we use a virtualenv, and directly install the dependencies using wheels built from pypi.org. When we package the application for the end users, many times we package them using a operating system based package manager and ask the users to install using those (say RPM or Debian's deb package). In the second case, all the dependencies come as separate packages (and most of the time from the OS itself). The dependency is being handled by the OS package manager itself. That case, we can not update the dependencies fast enough if required, it depends on the packagers from the community who maintains those said packages in the distribution.\n",
              " \n",
              " We use [dh-virtualenv](https://dh-virtualenv.readthedocs.io/en/1.0/) project to help us to use our own wheels + a virtualenv for the project to be packaged inside the debian .deb package.\n",
              " This talk will go throuh [the process](https://github.com/freedomofpress/securedrop-client) of building wheels from known (based on sha256sum) source tarballs, and then having a gpg signed list of updated wheels and [a private index](https://github.com/freedomofpress/securedrop-debian-packaging/tree/master/simple) for the same. And also how we are verifying the wheels' sha256sum (and the signature of that list) during the build process.  The final output is reproducible Debian packages.</div>,\n",
              " <div class=\"presentation-description\">The admin interface that comes built-in with Django is one of the most-loved (and oft-abused) features.  However, early converts are often disappointed to find that the admin doesn't seem to be scaling as their database grows in size, forcing them (so they think) to switch to a custom interface much sooner than they would prefer.\n",
              " \n",
              " However, many common performance issues can be fixed with a few small configuration changes that are much easier than a rewrite!\n",
              " \n",
              " In this talk, we'll use an example project to demonstrate the most common performance pitfalls encountered when using the Django admin, and fix them - live!  We'll use django-debug-toolbar, a powerful debugging interface that everyone who uses Django should be familiar with, to identify our issues and confirm that they are fixed.</div>,\n",
              " <div class=\"presentation-description\">We may not always know why we feel a certain way about a great story.  In this talk, you'll learn how Python generates new insights into the stories you love.  See how some straightforward tools and techniques have generated a rich analysis of stories from \"Harry Potter\" to \"Wuthering Heights\" to \"The Three Body Problem\" and the deeper questions those findings raise.\n",
              " \n",
              " Learn the straightforward techniques to do this with findings and code samples from three case studies:\n",
              " \n",
              " + Uncovering gender bias in the _Harry Potter_ series\n",
              " + Visualizing the use of color in Gothic Literature\n",
              " + Looking for narrative patterns in science fiction novels over the last 50 years\n",
              " \n",
              " This mix of qualitative and quantitative data can be used to hold up a mirror to our world and to ourselves.  If you enjoy reading a great book and tinkering with code, this is the talk for you.\n",
              " </div>,\n",
              " <div class=\"presentation-description\">As teams and projects grow, code review becomes increasingly important to support the maintainability of complex code bases. In this talk, I’ll cover guidelines for writing consistent code, powerful linting and analysis tools for your Python code, and how to look out for common code review gotchas. You’ll also learn about style guides and how they can help make your code more consistent and easier to maintain, as well as what tools are available to help automate the review process.\n",
              " \n",
              " This talk will enable you to have better code reviews with your teams at work, as well as a better approach to code reviews in open source projects. You’ll also learn how to give code reviews with empathy by using reviews as tools for sharing knowledge instead of turning the process into a competition.</div>,\n",
              " <div class=\"presentation-description\">It’s 2019, and Moore’s Law is dead. CPU performance is plateauing, but GPUs provide a chance for continued hardware performance gains, if you can structure your programs to make good use of them.\n",
              " \n",
              " CUDA is a platform developed by Nvidia for GPGPU--general purpose computing with GPUs. It backs some of the most popular deep learning libraries, like Tensorflow and Pytorch, but has broader uses in data analysis, data science, and machine learning. \n",
              " \n",
              " There are several ways that you can start taking advantage of CUDA in your Python programs. \n",
              " \n",
              " For some common Python libraries, there are drop-in replacements that let you start running computations on the GPU while still using familiar APIs. For example, CuPy provides a NumPy-like API for interacting with multi-dimensional arrays. Similarly, cuDF is a recent project that mimics the pandas interface for dataframes.\n",
              " \n",
              " If you want more control over your use of CUDA APIs, you can use the PyCUDA library, which provides bindings for the CUDA API that you can call from your Python code. Compared with drop-in libraries, it gives you the ability to manually allocate memory on the GPU, and write custom CUDA functions (called kernels). However, its drawbacks include writing your CUDA code as large strings in Python, and compiling your CUDA code at runtime.\n",
              " \n",
              " Finally, for the best performance you can use the Python C/C++ extension interface, the approach taken by deep learning libraries like Pytorch. One of the strengths of Python is the ability to drop down into C/C++, and libraries like NumPy take advantage of this for increased speed. If you use Nvidia’s nvcc compiler for CUDA, you can use the same extension interface to write custom CUDA kernels, and then call them from your Python code.\n",
              " \n",
              " This talk will explore each of these methods, provide examples to get started, and discuss in more detail the pros and cons of each approach. </div>,\n",
              " <div class=\"presentation-description\">Python is known for its \"batteries included\" philosophy but no Python developer can live without the language's rich library ecosystem. Unfortunately, as the number of libraries increases, so does the risk of cross-library incompatibilities, or \"dependency hell\".\n",
              " \n",
              " Dependency hell arises when two libraries have mutually conflicting requirements. These can be very difficult for developers to diagnose and may not be fixable without avoiding certain libraries entirely.\n",
              " \n",
              " After this talk, you - the library author - will have a practical set of simple best practices to follow that will allow you to build libraries that are compatible across the Python ecosystem.</div>,\n",
              " <div class=\"presentation-description\">Django Channels allows developers to make real-time web applications using websockets while maintaining access to the full Django batteries-included model for web applications. This talk will focus on what it takes to run a channels application in production, what's possible with Django Channels beyond chat rooms, and what pitfalls &amp; idiosyncrasies you can expect to run into when using Channels in practice.</div>,\n",
              " <div class=\"presentation-description\">Spoiler alert:  yes, remote work really does work!\n",
              " \n",
              " With nearly nine years of experience as a remote employee across three different companies, [SPEAKER] knows the ups and downs of remote work.  In this session, [SPEAKER] will dive into what the research says about remote work and share their personal stories of failures and successes.  \n",
              " \n",
              " You'll walk away from this session knowing why remote work is awesome, empowered to convince your boss to let you work remotely, and armed with the tools you need to be a happy, successful remote employee.  \n",
              " \n",
              " If you've been thinking about making the transition to working remotely, you're a manager of people who are or could work remotely, or you've made the leap to remote work and are struggling to make it work, this is the session for you!  </div>,\n",
              " <div class=\"presentation-description\">Managing a large open source project like CPython is no easy task. Learn how the Python core team automated their GitHub workflow with bots, making it easier for maintainers and contributors to collaborate together. Even if you’re not managing a large project, you can still build your own bot! Hear some ideas on what you can automate on GitHub and personalize your bot based on your own workflow. All you need is Python. Don’t be a robot; build the bot.</div>,\n",
              " <div class=\"presentation-description\">According to the always trustworthy Wikipedia, there are approximately 360 million native English speakers in the world. We, as developers, are so used to write code and documentation in English that we may not realize that this number only represents 4.67% of the world population. It is very useful to have a common language for the communication between developers, but this doesn’t mean that the user shouldn’t feel a little bit more comfortable when using your product. \n",
              " \n",
              " Translation of terms is only one step in the whole Internationalization (i18n) and Localization (l10n) process. It also entails number, date and time formatting, currency conversion, sorting, legal requirements, among other issues. This talk will go through the definition of i18n and l10n as well as show the main tools available for developers to support multiple languages and regional related preferences in their Python program. We will also see how one can enable local support for their website in Django. Finally, this presentation will discuss how we can manage Internationalization and Localization for a bigger product running in different platforms (front and back end) and how to incorporate i18n and l10n into our current development and deploy processes.\n",
              " \n",
              " Oh, and by the way, “eita!” is a Brazilian interjection to show yourself surprised with something. 🙂 </div>,\n",
              " <div class=\"presentation-description\">It seems that every week there is a news story that prompts software developers to think about the ethical implications of their work. As individuals, teams, and communities we need to consider the impact of the code we write. But what about code that we are using, but did not create? \n",
              " \n",
              " How does Open Source Software factor into this equation? OSS is used across the industry, but is written and maintained primarily by volunteers. What are best practices for maintainers, contributors, individual users, and companies who incorporate open source into their work? How can we protect ourselves and our users, while still benefiting from the innovation and collaboration of open source software?\n",
              " \n",
              " </div>,\n",
              " <div class=\"presentation-description\">Millions of people across the world live in a state of acute and immediate environmental crisis caused by the lack of access to safe and usable water resources, because of natural disasters, socio-economic conditions, wars and conflicts. \n",
              " \n",
              " Over the last year, I developed extremely low-cost filtration devices at intersection of machine learning and chemical-free purification. With my organization, we deployed 8,000 of these devices in rural Tanzania and brought safe water access to over 40,000 people, filtered ~14.4 million liters of water, and saved women from those affected communities a cumulative of 15,000 hours of walking every day.\n",
              " \n",
              " In this talk, we’ll learn about how, as developers, engineers and data scientists, we are incredibly well equipped to build solutions for some of the biggest challenges facing our planet and my generation. We’ll explore how all of us, as individuals and as a community, can drive on-ground social impact and help entire communities in crises, through coding, data and technology.\n",
              " </div>,\n",
              " <div class=\"presentation-description\">If we knew all of the bugs we needed to write tests for, wouldn't we just... not write the bugs?  So how can testing find bugs that nobody would think of?\n",
              " \n",
              " The answer is to have a computer *write your tests for you!*  You declare what kind of input should work - from 'an integer' to 'matching this regex' to 'this Django model' and write a test which should always pass... then Hypothesis searches for the smallest inputs that cause an error.\n",
              " \n",
              " If you’ve ever written tests that didn't find all your bugs, this talk is for you.  We'll cover the theory of property-based testing, a worked example, and then jump into a whirlwind tour of the library: how to use, define, compose, and infer strategies for input; properties and testing tactics for your code; and how to debug your tests if everything seems to go wrong.\n",
              " \n",
              " By the end of this talk, you'll be ready to find real bugs with Hypothesis in anything from web apps to big data pipelines to CPython itself.  Be the change you want to see in your codebase - or contribute to Hypothesis itself and help drag the world kicking and screaming into a new and terrifying age of high quality software!</div>,\n",
              " <div class=\"presentation-description\">Telenovelas are beloved for their over the top drama and intricate plot twists. In this talk, we’ll review popular telenovelas to synthesize a typical telenovela arc and use it to train a deep learning model.\n",
              " \n",
              " What would a telenovela script look like as imagined by a neural network? To answer this question, we’ll examine three Python deep learning frameworks - Keras, PyTorch, and TensorFlow - to determine the process of translating a telenovela into a neural network and ultimately determine which one will be best for the task at hand. Be prepared for amor, pasiòn, and y el misterioso!</div>,\n",
              " <div class=\"presentation-description\">Python makes it incredibly easy to build programs that do what you want. But what happens when you want to do what you want, but with more input? One of the easiest things to do is to make a program concurrent so that you can get more performance on large data sets. But what's involved with that?\n",
              " \n",
              " Right now, there are any number of ways to do this, and that can be confusing! How does `asyncio` work? What's the difference between a thread and a process? And what's this Hadoop thing everyone keeps talking about?\n",
              " \n",
              " In this talk, we'll cover some broad ground of what the different concurrency models available to you as a Python developer are, the tradeoffs and advantages of each, and explain how you can select the right one for your purpose.</div>,\n",
              " <div class=\"presentation-description\">Did you know there are multiple ways to raise and capture exceptions? Have you ever wondered if you should raise a built-in exception or create your own hierarchy? Did you ever find it hard to understand what an exception meant?\n",
              " \n",
              " This talk will go through the decisions needed to raise and capture exceptions when creating a library. We will look at how to translate and handle errors, create your own exceptions, and make exceptions clear and easy to troubleshoot, while also understanding how they actually work, common pitfalls.\n",
              " </div>,\n",
              " <div class=\"presentation-description\">Extracting tables from PDFs is hard. The Portable Document Format was not designed for tabular data. Sadly, a lot of open data is shared as PDFs and getting tables out for analysis is a pain. A simple copy-and-paste from a PDF into a text file or spreadsheet program doesn't work.\n",
              " \n",
              " This talk will briefly touch upon the history of the Portable Document Format, discuss some problems that arise when extracting tabular data from PDFs using the current ecosystem of libraries and tools and demonstrate how Camelot and Excalibur solve this problem better and in a scalable manner. These easy-to-use packages automatically detect and extract tables from PDFs and give you access to the extracted tables in pandas DataFrames. You can also download them as CSVs or Excel files.\n",
              " </div>,\n",
              " <div class=\"presentation-description\">Methane, the primary component of natural gas, is a 60 times more powerful climate change agent than carbon dioxide.  Current technologies for finding methane leaks in oil and gas infrastructure rely on driving well to well with a handheld camera.  At Kairos Aerospace, we have developed a plane-mounted sensor for detecting methane leaks, but the sensor is only part of the solution: getting information off the sensor and into customers’ hands required us to build an entire plane-to-report pipeline.  I’ll discuss the challenges we faced in developing a scalable, reliable, and cost-effective scientific computing platform in Python, with examples of novel solutions using Python’s extensive ecosystem of GIS, cloud computing and machine learning tools.\n",
              " </div>,\n",
              " <div class=\"presentation-description\">Floating point numbers have been given a bad rap. They're mocked, maligned, and feared; the but of every joke, the scapegoat for every rounding error.\n",
              " \n",
              " But this stigma is not deserved. Floats are friends! Friends that have been stuck between a rock and a computationally hard place, and been forced to make some compromises along the way… but friends never the less!\n",
              " \n",
              " In this talk we'll look at the compromises that were made while designing the floating point standard (IEEE754), how to work within those compromises to make sure that `0.1 + 0.2 = 0.3` and not `0.30000000000000004`, how and when floats can and cannot be safely used, and some interesting history around fixed point number representation.\n",
              " \n",
              " This talk is ideal for anyone who understands (at least in principle) binary numbers, anyone who has been frustrated by `nan` or the fact that `0.3 == 0.1 + 0.2 =&gt; False`, and anyone who wants to be the life of their next party.\n",
              " \n",
              " This talk will _not_ cover more complicated numerical methods for, ex, ensuring that algorithms are floating-point safe. Also, if you're already familiar with the significance of \"52\" and the term \"mantissa\", this talk might be more entertaining than it will be educational for you.</div>,\n",
              " <div class=\"presentation-description\">Object Relational Mappers (ORMs) are awesome enhancers of developer productivity. The freedom of having the library write that SQL and give you back a useful, rich model instance (or a bunch of them) instead of just a tuple or a list of records is simply amazing.\n",
              " \n",
              " But if you forget you have an actual database behind all that convenience, then it'll bite you back, usually when you've been in production for a while, after you've accumulated enough data that your once speedy application starts slowing down do a crawl.\n",
              " \n",
              " Databases work best when you ask them once for (or to do) a bunch of stuff, instead of asking them lots of times for small stuff.\n",
              " \n",
              " We'll discuss how innocent looking attribute accesses on your model instances translate to sequential queries (the infamous [N+1 problem][1]).\n",
              " \n",
              " Then we'll go through some practical solutions, taken from real cases that resulted in massive speed ups. We'll cover how changes in Python code resulted in changes to the resulting SQL Queries\n",
              " \n",
              " Solutions not only for queries, but also inserts and updates, which tend to be less well documented.\n",
              " \n",
              " Though this talk focuses on SQLAlchemy, the lessons should be applicable to most ORMs in most programing languages. The ideas discussed, and solutions proposed are also valid for any storage backend, not only SQL databases. \n",
              " \n",
              "   [1]: https://docs.sqlalchemy.org/en/latest/glossary.html#term-n-plus-one-problem\n",
              " </div>,\n",
              " <div class=\"presentation-description\">*How do you know if your data science results are correct?* Robust software usually has tests asserting that certain conditions hold, but as a data scientist it’s often not straightforward or obvious how to integrate these best practices. Our workflow includes exploration, statistical models, and one-off analysis. This talk will give concrete examples of when and how testing should play a role, and provide you with enough introduction to get started writing your first data science tests using `pytest` &amp; `hypothesis`.</div>,\n",
              " <div class=\"presentation-description\">Deep learning is a useful tool for problems in computer vision, natural language processing, and medicine. While it might seem difficult to get started in deep learning, Python libraries, such as Keras make deep learning quite accessible. In this talk, we will discuss what deep learning is, introduce NumPy and Keras, and discuss common mistakes and debugging strategies. Throughout the talk, we will return to an example project in the medical domain, which used deep learning on vocal data to determine whether a patient has a voice disorder called vocal hyperfunction. </div>,\n",
              " <div class=\"presentation-description\">Dropbox is a heavy user of the mypy type checker, recently passing three million lines of type-annotated Python code, with over half of that added in 2018. Type checking is helping find bugs, making code easier to under stand, enabling refactors, and is an important aid to our ongoing Python 3 migration.\n",
              " \n",
              " In this talk, we discuss how we got there. We’ll talk about what we tried in order to get our engineers to type annotate their code—what worked, what didn’t, and what our engineers had to say about it. \n",
              " \n",
              " Additionally, we’ll discuss the performance problems we faced as the size of our checked codebase grew, and the techniques we employed to allow mypy—which is implemented in Python—to efficiently check (faster than a second, for most incremental checks) millions of lines of code, which culminated in mypyc, a new ahead-of-time compiler for type-annotated Python!</div>,\n",
              " <div class=\"presentation-description\">At Dropbox, we’ve always used Python to power our application for Windows, macOS and Linux (until recently, Python 2.7). Over the years, a growing lack of features and the need for outdated compilers/toolchains made migrating to Python 3 a necessity. Join us to hear the tale of our unique journey from Python 2 to 3 and the lessons we learned along the way:\n",
              " \n",
              " - We’ll discuss the reasons that led to our decision to make the jump.\n",
              " - We’ll dive into how we sequenced the transition by using the C-API to ship both versions of Python and choose one at runtime.\n",
              " - We’ll reveal the tools we used to enforce a hybrid (2/3) syntax for over hundreds of thousands of lines of Python code.\n",
              " - We’ll discuss some of our most spectacular bugs and gotchas, and how you can avoid them!</div>,\n",
              " <div class=\"presentation-description\">After attending your local dev meetup for months, you suddenly get the dreaded email: \"Your Organizer just stepped down without nominating a replacement.\"\n",
              " \n",
              " But the community relies on this meetup! It brings together devs from all around to engage in networking, learning, and comradery! So you step up. I mean, how hard could it be, right?\n",
              " \n",
              " Oh no. This is much harder than you thought. You have to organize a venue, figure out refreshments, get a speaker, ensure people show up. \n",
              " \n",
              " In this talk,  you'll learn the skills need to start and sustain a vibrant meetup and tech community.</div>,\n",
              " <div class=\"presentation-description\">Diagnosing a patient requires consideration of a wide variety of factors: past medical history and comorbidities, physical exam findings, lab results, imaging, ECG findings, and in some cases, genomic testing. Clinical diagnosis and prognostic assessment currently relies on expert knowledge of the treating physician. Recent developments in machine learning make it possible to build automated clinical diagnostic and risk assessment tools using data from the electronic medical record. \n",
              " \n",
              " This talk walks through the steps involved in building a clinical risk assessment model, using sepsis as a case study. A large part of the talk will focus on the tools and techniques involved in pre-processing complex medical data, and strategies for evaluating model results.</div>,\n",
              " <div class=\"presentation-description\">The CPython project is now 28 years old. It has active core developers, but almost all of them are volunteers. It's difficult to ask someone to be committed into a project for 5 years without being paid. Helping newcomers and mentoring contributors takes time and few developers are available for that. We are working on improving the diversity of CPython core developers and get more active core developers, but it's a slow process.</div>,\n",
              " <div class=\"presentation-description\">Have you ever wondered how a JIT compiler works?  Production quality JIT compilers are large, complicated pieces of software that can seem inscrutable at first glance. However, building a simple JIT compiler is surprisingly easy. We'll walk through how to build a template-style JIT compiler for Python from first principles, in Python!</div>,\n",
              " <div class=\"presentation-description\">The Python world has a staggering array of data visualization tools, and choosing which to use can seem like a daunting task. But which tool you use is far less important than how you use it. In this talk I’ll walk through some of the important considerations involved in visualizing your data, so that you can create more effective visualizations no matter which plotting package you use.</div>,\n",
              " <div class=\"presentation-description\">Serverless computing is all about paying only for what you use: it can scale up to handle millions of requests, but it can also scale down to 0, costing you nothing if your application is not receiving any traffic.\n",
              " \n",
              " Serverless tends to get expensive when databases are involved.... but if your data is static or changes infrequently, you can use serverless tools to provide powerful interactive APIs extremely cheaply.\n",
              " \n",
              " [Datasette](https://datasette.readthedocs.io/) is an open-source Python tool that provides an instant, read-only JSON API for any SQLite database. It also provides tools for packaging the database up as a Docker container and instantly deploying that container to a number of different serverless hosting platforms.\n",
              " \n",
              " This makes it a powerful tool for sharing interesting data online, in a way that allows users to both explore that data themselves and build their own interpretations of the data using the Datasette JSON API.\n",
              " \n",
              " In this session I'll show you how to use Datasette to publish data, and illustrate examples of the exciting things people have already built using the tool - including a number of real-world data journalism projects.\n",
              " \n",
              " I'll also teach people how to use some of the other tools in the Datasette ecosystem:\n",
              " \n",
              " * [Datasette Publish](https://publish.datasettes.com/), which allows CSV data to be published using Datasette to a serverless hosting account owned by the user, without any engineering experience required.\n",
              " * [csvs-to-sqlite](https://pypi.org/project/csvs-to-sqlite/), a tool for efficiently converting large numbers of CSV files into a Datasette-compatible SQLite database.\n",
              " * [sqlite-utils](https://sqlite-utils.readthedocs.io/), a library that lets users create complex databases from custom data feeds in just a few lines of Python code (ideal for working with Jupyter notebooks).\n",
              " \n",
              " I'll discuss the philosophy and design behind Datasette, including how immutable SQLite databases make for an impressively scalable solution for inexpensively serving complex data on the internet. Finally, I'll be exploring how Datasette takes advantage of Python 3 asyncio and the new ASGI specification.</div>,\n",
              " <div class=\"presentation-description\">&amp;nbsp;&amp;nbsp;&amp;nbsp;&amp;nbsp;Feature flags can be powerful tools in mitigating risk in your development cycle — _if you use them correctly_. Failing to do so can have enormous consequences for yourself and your business. In 2012 one improperly deployed feature flag sent a $365 million company into bankruptcy in 45 minutes. So let’s talk about feature flags, specifically in how they can help us with intentional deployment. Feature flags give us a high degree of control over the features we release — but what ensures we have a high degree of control over our feature flags? \n",
              " \n",
              " &amp;nbsp;&amp;nbsp;&amp;nbsp;&amp;nbsp;In this talk, I’ll go over the best practices which will make your feature flagging program a success. The humble Feature Flag can transform into many different things: release toggle, experiment, kill switch, permissioning and more. I’ll talk briefly about the possibilities Feature Flags open up, and then describe how to use best practices of visibility and accountability to align those different flags into a cohesive feature flagging system.\n",
              " \n",
              " &amp;nbsp;&amp;nbsp;&amp;nbsp;&amp;nbsp;After this talk, you’ll know what best practices make a successful feature flagging program, and be able to implement them into your current solution to deploy faster and with less risk.\n",
              " \n",
              " </div>,\n",
              " <div class=\"presentation-description\">Starting a few years ago, Capital One has committed to go all-in on public cloud and open source software for many of our core business operations, processes, and machine learning models. To support this transformation, we embarked on a multi-year journey to build a Python community with critical mass of users, and scale adoption of Python in our business analyst and data analyst workforces.\n",
              " \n",
              " Python has been envisioned since its early days as a programming language which can be used to \"create better, easier to use tools for program development and analysis\", as well as \"build a user community around all of the above, encouraging feedback and self-help\". [1] In our experience scaling Python adoption amongst analyst communities within a Fortune 500 company, we have found the aforementioned visions true to form - not only is Python a great first programming language for our analysts to learn, it also comes with \"batteries included\" and contains many of the data-related tools and libraries which allows our analysts to get productive very quickly.\n",
              " \n",
              " This talk will highlight our multi-pronged approaches to overcome organizational inertia to build a community of Python users, provide Python and OSS training, and encourage Python adoption (with mixed success). We'll share what (we think) best practices are out there, and lessons learned along the way.\n",
              " \n",
              " Reference:\n",
              " [1] Computer Programming for Everybody (http://www.python.org/doc/essays/cp4e.html)\n",
              " </div>,\n",
              " <div class=\"presentation-description\">Application security remains a long-term and high-stakes problem for most projects that interact with external users. Python's type system is already widely used for readability, refactoring, and bug detection — this talk will demonstrate how types can also be leveraged to make your project systematically more secure. We'll investigate (1) how static type checkers like Pyre or MyPy can be extended with simple library modifications to catch vulnerable patterns, and (2) how deeper type-based static analysis can reliably flag remaining use cases to security engineers. As an example, I'll focus on a basic security problem and how you might use both tools in combination, drawing from our experience deploying these methods to build more secure applications at Facebook and Instagram.</div>,\n",
              " <div class=\"presentation-description\">What good is a code style if it's not internally consistent? What good is a linter when it slows you down? What if you could out-source your worries about code formatting, adopt a consistent style, and make your team faster all at the same time?\n",
              " \n",
              " Come hear about Black: a new code style and a tool that allows you to format your Python code automatically. In the talk you'll learn not only how the style looks like but why it is the way it is. I will do my best to convince you not only that it's good but that it's *good enough*. You'll see how you can integrate it with your current workflow and how it speeds up your life while making your code prettier on average.\n",
              " \n",
              " Lose your attachments, delegate the boring job of moving tokens around to satisfy the linter, and save time for more important matters. Guaranteed to increase the life expectancy of space bars and Enter keys on your new MacBook's keyboard.</div>,\n",
              " <div class=\"presentation-description\">Failure can be scary. There are real costs to a company and its users when software crashes, models are inaccurate, or when systems go down. The emotional stakes feel high-- no one wants to be responsible for a failure. We can lower the stakes by creating spaces to learn from failures, and minimize their impact. This talk introduces two ways to address failure: blameless post-mortems, to learn from an incident; and pre-mortems, to identify modes of failure upfront.</div>,\n",
              " <div class=\"presentation-description\">Python is a prevalent programming language in machine learning (ML) community. A lot of Python engineers and data scientists feel the lack of engineering practices like versioning large datasets and ML models, and the lack of reproducibility. This lack is particularly acute for engineers who just moved to ML space.\n",
              " \n",
              " We will discuss the current practices of organizing ML projects using traditional open-source toolset like Git and Git-LFS as well as this toolset limitation. Thereby motivation for developing new ML specific version control systems will be explained.\n",
              " \n",
              " Data Version Control or [DVC.ORG][1] is an [open source][2], command-line tool written in Python. We will show how to version datasets with dozens of gigabytes of data and version ML models, how to use your favorite cloud storage (S3, GCS, or bare metal SSH server) as a data file backend and how to embrace the best engineering practices in your ML projects.\n",
              " \n",
              " [1]: http://dvc.org\n",
              " [2]: https://github.com/iterative/dvc\n",
              " </div>,\n",
              " <div class=\"presentation-description\">PyPI is a gold mine of great packages but those packages have to be written first.  More often than not, projects that millions of people depend on are written and maintained by only one person.  If you’re unlucky, that person is you!\n",
              " \n",
              " So how do you square delivering a *high quality* Python package you can be proud of and having only limited time at your disposal?  The answer is not “try harder,” the answer is to **do less**.\n",
              " \n",
              " This talk will help you get there by talking about how you can make your life easier, remove causes of friction with your contributors, and empower said contributors to take over tasks that you can’t make time for anymore.</div>,\n",
              " <div class=\"presentation-description\">Learn how to make music with Python, SuperCollider and FoxDot. We'll create a song together in this live coded adventure. </div>,\n",
              " <div class=\"presentation-description\">Within the last few years, researchers have come to understand that machine learning systems may display discriminatory behavior with regards to certain protected characteristics, such as gender or race. To combat these harmful behaviors, we have created multiple definitions of fairness to enable equity in machine learning algorithms. In this talk, I will cover these different definitions of algorithmic fairness and discuss both the strengths and limitations of these formalizations.  In addition, I will cover other best practices to better mitigate the  unintended bias of data products.</div>,\n",
              " <div class=\"presentation-description\">When machine learning models make decisions that affect people’s lives, how can you be sure those decisions are fair? When you build a machine learning product, how can you be sure your product isn't biased? What does it even mean for an algorithm to be ‘fair’? As machine learning becomes more prevalent in socially impactful domains like policing, lending, and education these questions take on a new urgency.\n",
              " \n",
              " In this talk I’ll introduce several common metrics which measure the fairness of model predictions. Next I’ll relate these metrics to different notions of fairness and show how the context in which a model or product is used determines which metrics (if any) are applicable. To illustrate this context-dependence I'll describe a case study of anonymized real-world data. Next, I'll highlight some open source tools in the Python ecosystem which address model fairness. Finally, I'll conclude by arguing that if your job involves building these kinds models or products then it is your responsibility to think about the answers to these questions.</div>,\n",
              " <div class=\"presentation-description\">Over the course of nearly a year, we migrated Pinterest's primary systems from Python2 to Python3.  A large, tightly coupled codebase with over 2 million lines of code, the Pinterest codebase contained nearly every edge case that might exist in a Py2 to Py3 migration.\n",
              " \n",
              " We'll cover our approach, gotchas, and tools, and the incredible impact our migration has made on infra spend and code quality.</div>,\n",
              " <div class=\"presentation-description\">Mocking and patching are powerful techniques for testing, but they can be easily abused, with negative effects on code quality, maintenance, and application architecture.  These pain-points can be hard to verbalize, and consequently hard to address.  If your unit tests are a PITA, but you cannot explain why, this talk may be for you.\n",
              " \n",
              " Mocking as a technique has deep roots within OOD and TDD, going back 20+ years, but many Python developers know mocks and patches merely as a technique to isolate code under test.  In the absence of knowledge around OOD and TDD, best practices around mocking are completely unknown, misunderstood, or ignored.   Developers who use mocks and patches without doing TDD or OOD are susceptible to falling into many well-understood and documented traps.\n",
              " \n",
              " This talk will draw a historical connection between the way mocks are taught today, and their origins in TDD, OOD, and Java.  It will also demonstrate some pitfalls, and provide some guidance and alternatives to mocking and patching (e.g., dependency injection, test doubles, functional style).</div>,\n",
              " <div class=\"presentation-description\">Every programmer should learn to use solvers, tools that reason directly from a description of a problem to its solution.  \n",
              " \n",
              " Tools like AlphaZero can formulate winning strategies for games given only a description of the rules of the game.  For certain classes of problems, we really can just let the computer do the work.\n",
              " \n",
              " In this talk, we learn principles, techniques, and multiple examples for three solvers available in Python.\n",
              " \n",
              " The first tool is a generic puzzle-solving framework that employs tree search strategies.  We apply it to a simple sequencing problem and then to a harder sliding-block puzzle. Next, we'll look at the solver code to learn how it works.  I'll also show an essential optimization technique and how to humanize the output.  We demonstrate our skills by solving another famous puzzle.\n",
              " \n",
              " The second tool is called a SAT solver. It is one of the miracles of the 21st century. From first principles, I'll show you what problems it solves and the way problems need to be described for modules like *PycoSAT*.  I'll provide helper functions to humanize our interactions with this great tool.  Then, we'll demonstrate our skills by creating a Sudoku solver and a readable logic problem solver.\n",
              " \n",
              " The third tool is the \"multi-armed bandit\". It is a generic reinforcement learning algorithm that is easy to learn, powerful, and applicable to a broad class of problems.  We apply it to winning rock-paper-scissors using pattern recognition.\n",
              " \n",
              " Lastly, I'll summarize DeepMind's paper on AlphaZero which was published in the December 2018 edition of *Science*.  This gives us hints at the full potential of these techniques.  \n",
              " \n",
              " Pure Python source code and examples are provided for all of the tools.</div>,\n",
              " <div class=\"presentation-description\">&amp;lt;announcer&gt; This one quick trick will help you measure the diversity of your hiring pipeline!  Read on to hear how! &amp;lt;/announcer&gt;\n",
              " \n",
              " One challenge in improving diversity within a hiring pipeline is the struggle to measure what exists in the first place. It's hard to know where to focus your resources until you know what you have to work with, and can identify what steps make a difference and what efforts don't. Using python/django and an api key for our recruiting vendor, you can make this information visible and, therefore, actionable, with very little work.</div>,\n",
              " <div class=\"presentation-description\">Maps are powerful tools that we use every day. Python is well-equipped to handle spatial data and with well documented robust libraries to help you perform spatial analysis and create beautiful maps. In this talk, we'll discover the fascinating world of spatial analysis by solving a fun problem: where can we go to see an upcoming solar eclipse? Along the way we'll learn about mapping topics like projections and coordinate systems, best practices for map making, and intricacies of spatial data.</div>,\n",
              " <div class=\"presentation-description\">Python is a flexible language. Your Python app, on the other hand, is usually more set in stone: buttons, functions, displays are all explicitly defined.\n",
              " \n",
              " In this talk you'll learn how to take advantage of features like decorators and functions as first-class objects to set up a simple plugin system that allows your app to be more flexible. In fact, you can allow your users to add or customize functionality they want after you ship.\n",
              " \n",
              " By using plugins, your code becomes more modular and maintainable. At the same time your users may be able to use your great app to work with data or challenges you didn't even know existed.</div>,\n",
              " <div class=\"presentation-description\">Digital Signal Processing and Player Piano don't normally come together in the same sentance. Player Pianos that are 100+ years old are awesome artisan artifacts, but they don't play digital formats very well. This talk will show how we take a 100+ year old technology and marry it to the digital age via Python libraries and precision lasers! \n",
              " \n",
              " In this discussion we will cover how we are creating our own \"Plug-n-Stream Player Piano\". We will take a look at the different digital signal processing Python libraries, their functionality, and requirements for converting audio streams to piano playable audio files. After a brief walk through of our prototyped hardware, we will dissect the digital signal processing, converting streaming music to data for the Player Piano. With a real Player Piano in the room we will demo streaming music from our devices onto the piano. \n",
              " \n",
              " LIVE(ish) Piano Playing!</div>,\n",
              " <div class=\"presentation-description\">Decorators are one of Python's most powerful features.  But even if you understand what they do, it's not always obvious what you can do with them.  Sure, from a practical perspective, they let you remove repeated code from your callables.  And semantically, they let you think at a higher level of abstraction, applying the same treatment to functions and classes.\n",
              " \n",
              " But what can you actually do with them?  For many Python developers I've encountered, ecorators sometimes appear to be a solution looking for a problem.\n",
              " \n",
              " In this talk, I'll show you some practical uses for decorators, and how you can use them to make your code more readable and maintainable, while also providing more semantic power.  Moreover, you'll see examples of things would be hard to do without decorators.  I hope that after this talk, you'll have a good sense of how to use decorators in your own Python projects.</div>,\n",
              " <div class=\"presentation-description\">Notebooks have traditionally been a tool for drafting code and avoiding repeated expensive computations while exploring solutions. However, with new tools like nteract's papermill and scrapbook libraries, this technology has been expanded to make a reusable and parameterizable template for execution.\n",
              " \n",
              " We'll walk though how Jupyter notebooks are being programmatically used at Netflix and how this helps with our batch processing world. We'll also explore how these use cases connect back with users and why we've adopted these tools for Python and non-Python execution.</div>,\n",
              " <div class=\"presentation-description\">The deep learning hype is real, and the Python ecosystem makes it easier than ever to neural networks to everything from speech recognition to generating memes. But when picking a model architecture to apply to your work, you should consider more than just state of the art results from NeurIPS. The amount of time, money and data available to you are equally, if not more, important. This talk will cover some alternatives to deep learning, including regression, tree-based methods and distance based methods. More importantly, it will include a frank discussion of the pros and cons of different methods and when it makes sense to use each in practice.</div>,\n",
              " <div class=\"presentation-description\">Packages that won't install, encodings that don't work, installers that ask too many questions, and having to own a PC are all great reasons to just ignore Windows. Or they would be, if they were true.\n",
              " \n",
              " Despite community perception, more than half of Python usage is on Windows, including web development, system administration, and data science, just like on Linux and Mac. And for the most part, Python works the same regardless of what operating system you happen to be using. Still, many library developers will unnecessarily exclude half of their potential audience by not even attempting to be compatible.\n",
              " \n",
              " This session will walk through the things to be aware of when creating cross-platform libraries. From simple things like using `pathlib` rather than `bytes`, through to all the ways you can get builds and tests running on Windows for free, by the end of this session you will have a checklist of easy tasks for your project that will really enable the whole Python world to benefit from your work.</div>,\n",
              " <div class=\"presentation-description\">While high-level security concepts may transcend languages, each language has its own sets of tools and edge cases that are worth knowing.  Python is one of many popular languages that is rarely the focus in security training, but that doesn't mean python code is automatically secure (no matter what the internet tells you).  Learn why people who say “pylint will help you with security” aren’t doing you any favours, how to use Bandit for security-focused linting and talk about other options for static analysis.  Take a deeper look at why scanning for publicly known vulnerabilities is complicated, and how to use Pyup Safety to make it easier.  We’ll also explore some language myths and best practices.</div>,\n",
              " <div class=\"presentation-description\">Being able to release rapidly and continuously allows businesses to react to opportunities, shorten feedback loop for product iteration cycle and reduce debug effort for erroneous changes. At Instagram, we operate the world's largest fleet of servers running on Python and we continuously deploy every X minutes. Anyone can do it, this talk will teach you the practical steps and talk about the ideas and problems we faced at every phase of our automation journey.</div>,\n",
              " <div class=\"presentation-description\">In the month of August 2018, Kerala, the southernmost state of India, received 250 % of normal rainfall, resulting in all of its 44 dams to be opened. Over 483 people died due to the flooding caused by the opening of dams and a million people were evacuated. \n",
              " \n",
              " I started a website ([keralarescue.in][1]), written in Django. The main purpose of the site was effective collaboration and communication between authorities, volunteers and public. The site was open source from Day 0. About 1500 developers and volunteers onboard our slack group in a couple of days. Within a week, the community united to forge a critical piece of software that saved thousands of lives.\n",
              " \n",
              " The site initiated as a portal for refugees to request essential resources like food and water and for volunteers to see their needs, all sorted by geographical location. Additionally, we provided direct information for the government and became the official website later on.\n",
              " \n",
              " The Minimum Viable Product was delivered in fourteen hours. In the initial days, it was only used by the volunteers and Point of Contacts assigned by the government. Later, when the situation became critical, we started getting rescue requests from stranded refugees. The Github repo of the website went viral, and we started to receive feature requests rapidly. We received more than five hundred pull requests in the span of three weeks. \n",
              " \n",
              " The story I want to present is about the community and technical aspects of keralarescue.in, how people from different backgrounds came together to build a critical piece of software that saved many lives.\n",
              " \n",
              "   [1]: https://keralarescue.in\n",
              " </div>,\n",
              " <div class=\"presentation-description\">I love Pokemon. However, I don't love how some players make the community less welcoming towards beginners by hiding their strategies. So I did what any defiant engineer would. I signed up for a free AWS account and began (responsibly) scraping millions of their unauthenticated Pokemon battles.\n",
              " \n",
              " We'll journey together through this passion project of mine and draw on specific examples to better understand the trade-offs of working with distributed systems or microservice architectures in the cloud.</div>,\n",
              " <div class=\"presentation-description\">Key takeaways:\n",
              " \n",
              " 1. Set operations enable simpler and faster solutions for many tasks;\n",
              " 1. Python's set classes are lessons in elegant, idiomatic API design;\n",
              " 1. A set class is a suitable context for implementing operator overloading.\n",
              " \n",
              " Boolean logic and set theory are closely related. In practice, we will see cases where set operations provide simple and fast declarative solutions to programming problems that otherwise require complicated and slow procedural coding.\n",
              " \n",
              " Python's set built-ins and ABCs provide a rich and well designed API. We will consider their interfaces, and how they can inspire the creation of Pythonic APIs for your own classes.\n",
              " \n",
              " Finally, we will discuss operator overloading — a technique that is not suitable everywhere, but certainly makes sense with sets. Taking a few operators as examples, we will study their implementation in a new `UintSet` class for integer elements. `UintSet` fully implements the `MutableSet` interface over a totally different internal representation based on a bit array instead of a hash table. Membership tests run in _O(1)_ time like the built-in sets (however, `UintSet` is currently pure Python, so YMMV). Using bit arrays allow core set operations like intersection and union to be implemented with fast bitwise operators, and provides compact storage for dense sets of integers.\n",
              " </div>,\n",
              " <div class=\"presentation-description\">Profiling involves computing a set of data about how often and how\n",
              " long various parts of your program are executed. Profiling is useful\n",
              " to understand what makes your program slow and how you can improve\n",
              " it. After a quick review of deterministic profiling tools and\n",
              " techniques, I will describe how you can do statistical profiling with\n",
              " existing packages or write your own from scratch.\n",
              " \n",
              " Statistical profiling involves occasionally sampling what your program\n",
              " is doing instead of watching each line or function. A key feature of\n",
              " statistical profiling is that by using a moderate sampling frequency,\n",
              " you can profile your production code with almost no overhead. This lets\n",
              " you find the actual bottlenecks in real use cases.\n",
              " \n",
              " The core technical focus of the talk is python's sys module and how it\n",
              " lets you easily examine a running program. I also describe some tricks\n",
              " to be aware of related to threading, context switches, locks, and so on.\n",
              " At the conclusion of the talk, you will hopefully understand how to use\n",
              " an existing statistical profiler or write a customized version yourself.\n",
              " </div>,\n",
              " <div class=\"presentation-description\">Testing code is important. Testing, primarily unit-testing async code\n",
              " requires heading off the the standard roadway of unit testing in python. This talk will provide a map to help you along the new path towards testing async code.\n",
              " \n",
              " Topics include:\n",
              " \n",
              "  - a brief intro to `asyncio` and challengs in testing with it\n",
              "  - running coroutines (and other awaitables) under test\n",
              "  - mocking coroutines\n",
              "  - testing \"main\" `asyncio` loops</div>,\n",
              " <div class=\"presentation-description\">People live with mental health stigma because we learn that we're supposed to be strong and resilient. It's okay not to be strong or resilient all the time. Discussing mental illness is uncomfortable. In this talk, I will help you overcome that discomfort by examining the most common mental health issues, how you can get help for yourself, and how you can best support your coworkers, friends, and family. No one should have to deal with mental illness alone. Bring your tissues.\n",
              " </div>,\n",
              " <div class=\"presentation-description\">Manually updating a million line code base is tedious. Thankfully syntax trees provide a safe and quick way to  automatically apply repetitive transformations. Leveraging syntax tree based tooling (based on lib2to3), has been a critical component of Pinterest's Python 3 upgrade strategy, and saved us countless hours of work.  Learn how syntax trees work, how they are used to transform code, and how you can quickly write your own transformations.</div>,\n",
              " <div class=\"presentation-description\">GraphQL is an exciting technology that can help simplify web logic. Most of the attention has been focused on client-side improvements, such as reducing payload sizes and reducing total number of requests. This talk will show how GraphQL can structure your backend logic to reduce the client-side dependencies or remove them entirely!</div>,\n",
              " <div class=\"presentation-description\">Seeing the Earth from above is truly breathtaking, but it takes a lot of time, fuel and opportunity - so instead, why not make miniature art of the world's famous terrains?\n",
              " \n",
              " This talk explores using Python to take raw terrain data - from aerial lidar and space-based radar scans - and processing it into 3D models, and CAD/CAM toolpaths, with the ultimate result of making Python-powered artwork of some of Earth's natural wonders.\n",
              " \n",
              " See how to reduce each National Park to a small, intricately-milled metal carving, how to laser-cut a side-on relief of a whole Hawaiian island, or how to 3D print tiny versions of cities where you can make out each individual building - and the strengths and challenges of using Python to handle 3D and GIS data.\n",
              " \n",
              " We'll also look at some basic 3D modelling code, discuss the wonders of different map projections, and how personal LiDAR is slowly, but surely, becoming affordable.</div>,\n",
              " <div class=\"presentation-description\">If you’ve ever `pip install`ed a Python package with C extensions on Linux, it was probably a painful experience, having to download and install development headers for libraries you’ve never even heard of. Maybe you’ve given up on pip and have switched to Conda. But it doesn’t have to be this way! The Python Packaging Authority has been working hard to solve this problem with a new distribution format for compiled Python code, called “wheels.”\n",
              " \n",
              " In this talk, we’ll descend into the practice of PEPs 513 and 571: arcane scrolls that can equip Python developers with spells to pre-compile applications and libraries in a way that allows most Linux end users to run them directly. I’ll show you how to hex compiled artifacts and source code into the wheel format, harness application binary interfaces (ABIs) to use external libraries, brave the eldritch horrors of the dynamic linker, and bind these all together in the manylinux environment. Come learn to harness the black magic of Python wheels, and you too can spare your users pain… for a price.</div>,\n",
              " <div class=\"presentation-description\">Inheritance is among the first concepts we learn when studying object-oriented programming. But inheritance comes with some unhappy strings attached. Inheritance, by its very nature, tends to bind a subclass to its superclass. This means that modifying the behavior of a superclass might alter the behavior of all its subclasses, sometimes in unanticipated ways. Furthermore, it’s commonly accepted that inheritance actually breaks encapsulation. So, if inheritance has these issues, what alternative do we have? More than two decades ago, The Gang of Four (Erich Gamma, Richard Helm, Ralph Johnson and John Vlissides) suggested in their famous _Design Patterns_ book  that we should favor object composition over class inheritance.\n",
              " \n",
              " In this talk I will show some code examples in Python where inheritance goes astray and demonstrate how to correct them by using composition. My intention is not to demonize inheritance, but instead present how to use it wisely in order to improve the design of our object-oriented software so that it’s more flexible and easier to maintain.</div>,\n",
              " <div class=\"presentation-description\">Many developers struggle to find the balance between striving to improve existing code and letting good enough alone by accepting certain shortcomings. As a new developer to a team it can be difficult to understand existing strategies and patterns that are sometimes flat out bad (and often openly acknowledged as such). Often the result of tight deadlines or unclear specifications, even the best developers write code they later look back upon with shudders. So how do we decide when refactoring is worth it? Come learn strategies for refactoring with minimal impact, methods for working with bad code you can’t change, and strategies for knowing the difference between what is fixable and what is better left alone. </div>,\n",
              " <div class=\"presentation-description\">The Zen of Python, accessed by running `import this`, is a list of nineteen aphorisms that have guided the development of the language. It has good advice for how to organize our code, but what does it have to say about how we organize ourselves? Plenty: the Zen of Python is not only a solid set of development principles, but the other easter egg is that it’s packed with wisdom about how to build healthy teams. \n",
              " \n",
              " In this talk I draw upon my time as an engineering manager of Python-focused engineering teams to tell stories of what the Zen of Python has to teach us about communication and conflict, building inclusive teams and transparent processes, and promoting psychological safety. Come ready to reflect on and feel inspired by a new interpretation of these principles, and bring what you learn back to your meetup, study group, open source project, or team. </div>,\n",
              " <div class=\"presentation-description\">If you haven't tried multiprocessing or you are trying to move beyond `multiprocessing.map()`, you will likely find that using Python's `multiprocessing` module can get quite intricate and convoluted.  This talk focuses on a few techniques (starting, shutting down, data flow, blocking, etc) that will maximize `multiprocessing`’s efficiency, while also helping you through the complex issues related to coordinating startup and _especially_ shutdown of your multiprocess app.\n",
              " \n",
              " </div>,\n",
              " <div class=\"presentation-description\">We will cover how we used Python to adapt to a large institutional processing setup.  We used Python to create the definitions, configuration files, and supplementary metadata for each of the weather radars we worked with.  We used a variety of custom tools to interface with existing systems and processes that would have been infeasible to work with otherwise.\n",
              " \n",
              " We took advantage of one of Python’s greatest strengths: its flexibility.  We used it to perform the bulk of our data processing with NumPy, created custom utility functions to encourage code reuse, and created custom scripts for interfacing with the institutional data processing framework we worked within.\n",
              " </div>,\n",
              " <div class=\"presentation-description\">Using the pandas python library requires a shift in thinking that is not always intuitive to those who use it. This talk will take a deep dive into the underlying data structure of pandas to explain why it performs the way it does under certain circumstances. It will explain why a MultiIndex DataFrame takes up less memory than it's simple counter part, why groupby should never be run on a non-MultiIndexed DataFrame, why the example documentation for the pandas apply function is an example of how not to use it, and how not taking the time to normalize data can affect performance.  \n",
              " </div>,\n",
              " <div class=\"presentation-description\">Having libraries in your Python project properly locked to a specific version is a well known best practice. Dependency management tools in the Python ecosystem lock dependencies to the latest version available, but what if the latest version available is not the best fit for your application? Open source project Thoth is an advanced Python dependency resolver which recommends libraries for your project based on observations that are gathered for Python libraries for specific runtime environments. How these recommendations look like? How are different observations like performance characteristics of machine learning libraries for a particular hardware gathered?</div>,\n",
              " <div class=\"presentation-description\">One of the reasons why programming in Python is very straightforward and simple is that we do not have to worry about the lifetime of our objects. That is, once it ceases to be necessary, a variable disappears from the memory \"magically\". The fact that this happens automatically can erroneously lead us to believe that it is not required to worry about what happens behind the scenes.\n",
              " \n",
              " Nothing is further from reality: knowing how Python manages memory is fundamental in specific scenarios, and not knowing what is happening can have consequences as significant as unpleasant. For example, if our programs manage a large amount of data at the same time or launch multiple processes in parallel, this ceases to be a theoretical issue and becomes something that we, logical minds, also care.\n",
              " \n",
              " Although these concepts tend to be considered advanced and difficult to understand, we will see that this is not the case. This topic is not a purely theoretical matter nor is it difficult to find its practical applications. In this talk, we will explain why it is something that should matter to us, and we will talk about how to apply the knowledge we have gained to specific problems.</div>,\n",
              " <div class=\"presentation-description\">Why come to yet another talk about CPython's GIL? [1]  Sure, we'll spend a little time on what it is, who it affects (and doesn't), and how to work around it.  However, what you want to come hear is what the future holds for the GIL.\n",
              " \n",
              " We'll take most of the time talking about life *after* the GIL!  Come see what recent developments and ongoing work will allow us to either circumvent the GIL and get rid of it, unlocking true multi-core capability in Python code.\n",
              " \n",
              " [1] In case you don't know, the GIL is a global lock that prevents multi-core parallelism in pure Python code.  It has a controversial place in the community.  Look it up (or come to this talk)!</div>,\n",
              " <div class=\"presentation-description\">Type hinting for Python (as a linter tool) came out in September 2015 as part of Python 3.5 (and was championed by Guido himself). Since then, variable annotations (plus, more recently, protocols) improved its capabilities even further. Over the last two years, tools, such as mypy, could build on top of it. Slowly, these annotations have emerged from a proof of concept state (e.g., mypy API planning) to becoming a stable feature.\n",
              " \n",
              " In this presentation, I'll tell my story of using type hints for both adding type hinting and checking type correctness for a library supporting both Python 2 and 3 and reusing this information to insert type data into the generated Sphinx documentation automatically.</div>,\n",
              " <div class=\"presentation-description\">Knowing your enemies is as important as knowing your friends. Understanding your debugger is a little of both. Have you ever wondered how Python debugging looks on the inside?\n",
              " On our journey to building a Python debugger, we learned a lot about its internals, quirks and more.\n",
              " \n",
              " During this session, we’ll share how debugging actually works in Python.\n",
              " We’ll discuss the differences between CPython and PyPy interpreters, explain the underlying debugging mechanism and show you how to utilize this knowledge at work and up your watercooler talk game.</div>,\n",
              " <div class=\"presentation-description\">Walk into any factory and you will see a Programmable Logic Controller (PLC). It's the small box that has a memory card and an Ethernet cable on one side, and lots of colorful wires connected to the other end. Inside runs the logic that turns inputs from sensors into outputs to robots, conveyor belts and other machinery. PLCs evolved from relay banks in the 1970s and have ruled the world of industrial automation since then.\n",
              " \n",
              " In the first half of this talk we will take a look at how they work, how to program them, and why a strange language called \"ladder logic\" is (still) the lingua franca for programming them. In a short on-stage demo I will write some PLC code to control a device on stage.\n",
              " \n",
              " It's 2019 now and just running a PLC isn't quite enough anymore. Everyone is talking about the \"Industrial Internet of Things\" and they have connected their PLCs to the company network. The second half of the talk will look at how we can connect to PLCs to read data and influence the running program with Python. </div>,\n",
              " <div class=\"presentation-description\">Python 3.7 is here! In this talk, we’ll explore several new standard library modules, new syntax features and changes, and other performance improvements and implementation changes and what it means for us as Python developers.\n",
              " \n",
              " We’ll also briefly chat about what exciting things didn’t quite make it into 3.7, but we should expect to see in 3.8.</div>,\n",
              " <div class=\"presentation-description\">Everyone starts with the best intentions with their Python projects, \"this time it's going to be clean, simple and maintainable\". But code evolves over time, requirements change and codebases can get messy and complicated quickly.\n",
              " \n",
              " In this talk, you will learn how to use `wily` to measure and graph how complicated your Python code is and a series of practical techniques to simplify it. `wily` will show you which parts of your projects are becoming or have become hard to maintain and need a refactor. Once you know where the skeletons are, you will learn practical techniques for refactoring \"complex\" code and some resources to use to take your refactoring to the next level.</div>,\n",
              " <div class=\"presentation-description\">Time zones are complicated, but they are a fact of engineering life. Time zones have [skipped entire days](http://www.bbc.com/news/world-asia-16351377) and repeated others. There are time zones that switch to [DST twice per year](https://www.timeanddate.com/time/zone/morocco/casablanca). But not necessarily every year.  In Python it's even possible to create datetimes with non-transitive equality (`a == b`, `b == c`, `a != c`).\n",
              " \n",
              " In this talk you'll learn about Python's time zone model and other concepts critical to avoiding datetime troubles. Using `dateutil` and `pytz` as examples, this talk covers how to deal with ambiguous and imaginary times, datetime arithmetic around a Daylight Savings Time transition, and datetime's new `fold` attribute, introduced in Python 3.6 ([PEP 495](https://www.python.org/dev/peps/pep-0495/)).\n",
              " </div>]"
            ]
          },
          "metadata": {
            "tags": []
          },
          "execution_count": 254
        }
      ]
    },
    {
      "metadata": {
        "id": "1r0mh0ANzIr4",
        "colab_type": "code",
        "colab": {}
      },
      "cell_type": "code",
      "source": [
        "first_description = soup.select('.presentation-description')[0]\n"
      ],
      "execution_count": 0,
      "outputs": []
    },
    {
      "metadata": {
        "id": "D8bGsHt4zt8y",
        "colab_type": "code",
        "outputId": "ad262f92-1647-444d-e1a0-3dceec149201",
        "colab": {
          "base_uri": "https://localhost:8080/",
          "height": 124
        }
      },
      "cell_type": "code",
      "source": [
        "first_description"
      ],
      "execution_count": 0,
      "outputs": [
        {
          "output_type": "execute_result",
          "data": {
            "text/plain": [
              "<div class=\"presentation-description\">Have you ever wanted to write a GUI application in Python that you can run on both your laptop and your phone? Have you been looking to contribute to an open source project, but you don't know where to start?\n",
              "\n",
              "BeeWare is a set of software libraries for cross-platform native app development from a single Python codebase and tools to simplify app deployment. The project aims to build, deploy, and run apps for Windows, Linux, macOS, Android, iPhone, and the web. It is native because it is actually using your platform's native GUI widgets, not a theme, icon pack, or webpage wrapper.\n",
              "\n",
              "This talk will teach you how Toga, the BeeWare GUI toolkit, is architected and then show you how you can contribute to Toga by creating your own GUI widget in five easy steps.</div>"
            ]
          },
          "metadata": {
            "tags": []
          },
          "execution_count": 256
        }
      ]
    },
    {
      "metadata": {
        "id": "BU0TX8Okz3WZ",
        "colab_type": "code",
        "outputId": "47e09235-bd89-4200-a565-62e107d0cb52",
        "colab": {
          "base_uri": "https://localhost:8080/",
          "height": 55
        }
      },
      "cell_type": "code",
      "source": [
        "first_description.text"
      ],
      "execution_count": 0,
      "outputs": [
        {
          "output_type": "execute_result",
          "data": {
            "text/plain": [
              "\"Have you ever wanted to write a GUI application in Python that you can run on both your laptop and your phone? Have you been looking to contribute to an open source project, but you don't know where to start?\\r\\n\\r\\nBeeWare is a set of software libraries for cross-platform native app development from a single Python codebase and tools to simplify app deployment. The project aims to build, deploy, and run apps for Windows, Linux, macOS, Android, iPhone, and the web. It is native because it is actually using your platform's native GUI widgets, not a theme, icon pack, or webpage wrapper.\\r\\n\\r\\nThis talk will teach you how Toga, the BeeWare GUI toolkit, is architected and then show you how you can contribute to Toga by creating your own GUI widget in five easy steps.\""
            ]
          },
          "metadata": {
            "tags": []
          },
          "execution_count": 257
        }
      ]
    },
    {
      "metadata": {
        "id": "U3qit1t1z5sy",
        "colab_type": "code",
        "outputId": "a41890fb-d71b-4c56-b7cb-ac6194b32e55",
        "colab": {
          "base_uri": "https://localhost:8080/",
          "height": 55
        }
      },
      "cell_type": "code",
      "source": [
        "first_description.text.strip()"
      ],
      "execution_count": 0,
      "outputs": [
        {
          "output_type": "execute_result",
          "data": {
            "text/plain": [
              "\"Have you ever wanted to write a GUI application in Python that you can run on both your laptop and your phone? Have you been looking to contribute to an open source project, but you don't know where to start?\\r\\n\\r\\nBeeWare is a set of software libraries for cross-platform native app development from a single Python codebase and tools to simplify app deployment. The project aims to build, deploy, and run apps for Windows, Linux, macOS, Android, iPhone, and the web. It is native because it is actually using your platform's native GUI widgets, not a theme, icon pack, or webpage wrapper.\\r\\n\\r\\nThis talk will teach you how Toga, the BeeWare GUI toolkit, is architected and then show you how you can contribute to Toga by creating your own GUI widget in five easy steps.\""
            ]
          },
          "metadata": {
            "tags": []
          },
          "execution_count": 258
        }
      ]
    },
    {
      "metadata": {
        "id": "a52pmCtN0rL_",
        "colab_type": "code",
        "outputId": "1ff71a57-62e1-4635-dd5b-f55465d98442",
        "colab": {
          "base_uri": "https://localhost:8080/",
          "height": 55
        }
      },
      "cell_type": "code",
      "source": [
        "first_description.text.strip().replace('\\r\\n\\r\\n', \" \")"
      ],
      "execution_count": 0,
      "outputs": [
        {
          "output_type": "execute_result",
          "data": {
            "text/plain": [
              "\"Have you ever wanted to write a GUI application in Python that you can run on both your laptop and your phone? Have you been looking to contribute to an open source project, but you don't know where to start? BeeWare is a set of software libraries for cross-platform native app development from a single Python codebase and tools to simplify app deployment. The project aims to build, deploy, and run apps for Windows, Linux, macOS, Android, iPhone, and the web. It is native because it is actually using your platform's native GUI widgets, not a theme, icon pack, or webpage wrapper. This talk will teach you how Toga, the BeeWare GUI toolkit, is architected and then show you how you can contribute to Toga by creating your own GUI widget in five easy steps.\""
            ]
          },
          "metadata": {
            "tags": []
          },
          "execution_count": 259
        }
      ]
    },
    {
      "metadata": {
        "id": "uLkhQ8o15e9t",
        "colab_type": "code",
        "outputId": "679db059-1f45-4c22-f872-f17d3ef9c27a",
        "colab": {
          "base_uri": "https://localhost:8080/",
          "height": 35
        }
      },
      "cell_type": "code",
      "source": [
        "type(first_description.text.strip())"
      ],
      "execution_count": 0,
      "outputs": [
        {
          "output_type": "execute_result",
          "data": {
            "text/plain": [
              "str"
            ]
          },
          "metadata": {
            "tags": []
          },
          "execution_count": 260
        }
      ]
    },
    {
      "metadata": {
        "id": "_phSE-qbYqaz",
        "colab_type": "code",
        "outputId": "e6cd4d03-4126-4e69-c07f-f36c88a71fed",
        "colab": {
          "base_uri": "https://localhost:8080/",
          "height": 55
        }
      },
      "cell_type": "code",
      "source": [
        "descriptions = [tag.text.strip().replace('\\r\\n\\r\\n', \" \") for tag in soup.select('.presentation-description')]\n",
        "print(descriptions)"
      ],
      "execution_count": 0,
      "outputs": [
        {
          "output_type": "stream",
          "text": [
            "[\"Have you ever wanted to write a GUI application in Python that you can run on both your laptop and your phone? Have you been looking to contribute to an open source project, but you don't know where to start? BeeWare is a set of software libraries for cross-platform native app development from a single Python codebase and tools to simplify app deployment. The project aims to build, deploy, and run apps for Windows, Linux, macOS, Android, iPhone, and the web. It is native because it is actually using your platform's native GUI widgets, not a theme, icon pack, or webpage wrapper. This talk will teach you how Toga, the BeeWare GUI toolkit, is architected and then show you how you can contribute to Toga by creating your own GUI widget in five easy steps.\", 'We rarely think about the dot “.” between our objects and their fields, but there are quite a lot of things that happen every time we use one in Python. This talk will explore the details of what happens, how the descriptor protocol works, and how it can be used to alter the Python object model.', 'Account security means making sure your users are only ones who can access their accounts. Account takeovers happen for a variety of reasons -- password re-use, compromised computers, guessable passwords, and more. This talk gives you concepts and concrete skills that will help you identify and prevent account takeovers and limit the damage. It’s inspired by practices in use at GitHub, Google, and the Python Package Index.', 'Do you feel overwhelmed by the prospect of having to find a new software engineering job because you dread the technical interviewing process? Have you been putting off submitting your job applications because you think you won\\'t be ready to interview until you do \"just one more\" day of studying?  In this talk, you\\'ll learn which concepts are the most important to study for entry-level roles and how to use your Python skills to convey your understanding of these concepts with confidence and clarity.', 'Everyone’s talking about it. Everyone’s using it. But most likely, they’re doing it wrong, just like we did. By building a simplified chaos monkey service, we will walk through how to create a good foundation for an asyncio-based service, including graceful shutdowns, proper exception handling, and testing asynchronous code. We’ll get into the hairier topics as well, covering topics like working with synchronous code, debugging and profiling, and working with threaded code. We’ll learn how to approach asynchronous and concurrent programming with Python’s `asyncio` library, take away some best practices, and learn what pitfalls to avoid.', \"We will look into a day in the life of a Software Engineer with limited vision to Understand their difficulties at work and how they can overcome those difficulties to become successful in their role. I am a backend Software Engineer at Yelp who uses Python extensively for building Yelps infrastructure and internal tools. I also suffer from a genetic disorder called Albinism which often results in limited visual acuity that can range from 20/120 to 20/200 in most common cases. With such a low vision it's extremely difficult to read the computer screen without the use of on-screen magnifiers. In this talk, we will see how a person with adverse visual acuity can thrive and be successful in the field of Software Engineering. We will address the importance and meaning of accessibility for Software Engineers with partial vision and recommend some best practices that are available today. We will also talk about the importance of an inclusive work culture that can help foster creativity and ease ramp up for a Software Engineer with a disability.\", 'Medieval European Nobility was obsessed with Lineage. They created a Heraldic System to track families, which assigned each family a unique Coat of Arms. Any painting of the Coat of Arms was not the official version. The official version was a \"Blazon\" - a precise, terse description in heraldic language.   This heraldic language reads like English, Latin, French, and XML had a baby.  It\\'s a fully recursive language with a formal grammar, variable assignment, positional arguments, and also, Lions, Bears, and Pythons. Here\\'s an example: _Sable, on a fesse or three lions gules_ In this talk, we look at parsing this Medieval _Domain Specific Language_ with Python. Along the way, we\\'ll learn a little history, and the tools for parsing and writing your own DSL.', 'In July of 2018, Guido van Rossum stepped down as “Benevolent Dictator for Life” of Python.  In December, Python core developers voted on a new governance structure to guide Python going forward.  This talk explores what’s changing and how it may impact the Python community. Based on analysis of the relevant PEPs and other documentation, and strengthened via a series of interviews with core developers and other community leaders, we’ll cover Python governance past, present and future.  Particular care will be taken to explain why the core developers chose the governance model they did, what the new system entails, and how community members can participate in it.', 'If you maintain a library, how can you innovate without breaking the projects that depend on it? Follow semantic versioning, add APIs conservatively, add parameters compatibly, use DeprecationWarnings and publish a deprecation policy, guide your users on how to upgrade, and make wise choices about when to break backwards compatibility.', \"Embroidery is an technology that dates back centuries, and still popular in the present day among craftspeople around the world. Cross-stitch refers to the creation of crosses in a grid that combine to build up an image, based on a 'chart' or pattern of the intended design. Even though entire pieces could be created based on completely manual processes, much of the technology behind automating chart creation is locked behind paid software.  During this presentation, we will discuss how we can leverage the Python Imaging Library (PIL, now Pillow) in order to take source images and turn them into cross-stitch charts.  The resulting art piece from the talk, the PyCon US 2019 logo, will be auctioned off at the PyLadies Charity Auction. Tickets to the Charity Auction available separately, see website for details.\", \"Security incident response is an intense, high stress, high skill job that relies heavily on human judgement. Despite that, for reasons that we can't begin to understand, a big part of an incident responder's job seems to be opening numerous browser tabs and copy-pasting bits of text from one system to another. The hard parts of incident response can't be automated, but there are entire classes of busy-work that we can eliminate with a few web hooks and some artisanal Python. In this talk we're going to discuss how to use Python to automate security incident response team (SIRT) operations. We'll give an overview of what a typical SecOps/SIRT infrastructure looks like, how and where automation fits in, and dive into some code. We'll walk through a simple example, with screenshots and code, of automating a SecOps process. We want to show that\\xa0 getting started with security automation doesn't have to be difficult or expensive (though vendors will happily take your money). Just a little bit of Python can make some great quality of life improvements for incident responders.\", \"There's one part of building a Django app I hate: setting up handling of assets and media. There are so many moving pieces — static assets,  asset compilation and compression, file uploads, storage engines, etc. etc. I can never remember how it all fits together. I wrote this talk for one very selfish reason: to document how this all works, in one place, once and for all.  This talk is primarily intended for Django developers who want to build an asset pipeline that Just Works. The bulk of the talk covers front-end tooling (Webpack, PostCSS, Babel, etc.), so full-stack developers of any stripe will find something here, too.\", 'Many new coders seek out open source projects, intending to contribute, and then get overwhelmed and leave. Project maintainers often want the help, but don’t realize how they are inadvertently appearing unwelcoming. I will discuss some of the most common complaints I’ve heard from new coders who tried to contribute but left in frustration, and ways that these can be addressed without putting too much burden on the maintainers.', \"Bayesian A/B testing has gained much popularity over the years. It seems, however, that the examples stop at two groups. This begs the questions: should we not be able to do more than simple two-group, case/control comparisons? Is there a special procedure that's necessary, or is there a natural extension of commonly-used Bayesian methods? In this talk, I will use life-like, simulated examples, inspired from work and from meeting others at conferences, to show how to generalize A/B testing beyond the rigid assumptions commonly highlighted. Specifically, I will show two examples, one involving Bayesian estimation on click data on a website, and another on 4-parameter dose-response curves.  There will be plenty of code from the modern PyData stack, involving the use of PyMC3, pandas, holoviews, and more.\", \"Find yourself doing the same thing over and over again? Does it take more than one command to run your tests? build your docs? publish your project? deploy? It is often difficult to share your code because others can run or test it? Does your README have a series of complicated steps to get things set up? This talk explores three open-source tools that are wonderful at helping you and your project automate tasks. We'll look at Tox, which specializes in Python test environments, Nox, which offers a slightly different approach, and finally, PyInvoke, which you can use to automate just about anything.\", \"Observability is often thought of as just a new word for monitoring. While it encompasses traditional devops areas such as monitoring, metrics, and infrastructure management, it’s much deeper and empowers developers at all levels of the stack. **Observability is about achieving a deep understanding of your software**. This not only helps you localize and debug production issues but removes uncertainty and speculation, **empowering developers** to know their tools and improving engineering excellence. Observability helps developers “understand the narrative” of what’s going on in their software. This talk is about how we’ve driven adoption of a culture of observability within our engineering culture. We'll define and motivate for our focus on observability; discuss the tangible tools we’ve built and best practices we’ve adopted to ingrain observability into our engineering culture; and provide some specific, real-world results we’ve achieved as part of this effort. We'll will focus particularly on the tooling we’ve adopted around Django and Celery  and some interesting experiences we had extending their internals.\", 'Have you ever thought about what open source software or hardware could achieve? What if it could help improve people\\'s lives by solving some of their health problems? After the medical tech industry kept promising a system to help automatically manage insulin for type 1 diabetic people and never delivering, some people got together to find ways to do it with the tech they already had. Over the past few years, a \"closed-loop\" system has been developed to algorithmically regulate people\\'s blood sugars. After reverse engineering bluetooth sensors and 915 MHz insulin pumps, the system became possible. As a diabetic, I also built this system and saw my sugar values stabilize much more than I could ever achieve doing it manually myself. Now I\\'m working on contributing back to the projects as well. I want to talk about this system, from a technical side as well as a personal side. I\\'ll talk about OpenAPS (the open artificial pancreas system) and how it works, what problems it solves, and its safety and security concerns. I also want to show how it\\'s helped me, and what this means for my health now and in the future. I ultimately want to show how we, as software developers, can change people\\'s lives through the code we write.', \"We all have to package Python based applications for various environments, starting from command line tools, to web applications. And depending on the users, it can be installed on thousands on computers or on a selected few systems. https://pypi.org is our goto place for finding any dependencies and also in most of the time we install binary wheels directly\\r\\nfrom there, thus saving a lot time. But, Python is also being used in many environments where security is the utter most important, and validating the dependencies of project is also very critical along with the actual project source code.  Many of noticed the recent incident where people were being able to [steal bticoins using a popular library](https://www.theregister.co.uk/2018/11/26/npm_repo_bitcoin_stealer/).This talk will take [SecureDrop client application](https://github.com/freedomofpress/securedrop-client) for journalists as an example project and see how we tried to tackle the similar problem. SecureDrop is an Open Source whistleblower system which is deployed over 75 news organizations all over the world. Our threat model has nation state actors as possible threats, so, security and privacy of the users of the system is a very important point of the whole project. The tools in this case are build and packaged into reproducible Debian deb packages and are installed on Qubes OS in the final end user systems. There are two basic ways we handle Python project dependencies, for most of the development work, we use a virtualenv, and directly install the dependencies using wheels built from pypi.org. When we package the application for the end users, many times we package them using a operating system based package manager and ask the users to install using those (say RPM or Debian's deb package). In the second case, all the dependencies come as separate packages (and most of the time from the OS itself). The dependency is being handled by the OS package manager itself. That case, we can not update the dependencies fast enough if required, it depends on the packagers from the community who maintains those said packages in the distribution. We use [dh-virtualenv](https://dh-virtualenv.readthedocs.io/en/1.0/) project to help us to use our own wheels + a virtualenv for the project to be packaged inside the debian .deb package.\\r\\nThis talk will go throuh [the process](https://github.com/freedomofpress/securedrop-client) of building wheels from known (based on sha256sum) source tarballs, and then having a gpg signed list of updated wheels and [a private index](https://github.com/freedomofpress/securedrop-debian-packaging/tree/master/simple) for the same. And also how we are verifying the wheels' sha256sum (and the signature of that list) during the build process.  The final output is reproducible Debian packages.\", \"The admin interface that comes built-in with Django is one of the most-loved (and oft-abused) features.  However, early converts are often disappointed to find that the admin doesn't seem to be scaling as their database grows in size, forcing them (so they think) to switch to a custom interface much sooner than they would prefer. However, many common performance issues can be fixed with a few small configuration changes that are much easier than a rewrite! In this talk, we'll use an example project to demonstrate the most common performance pitfalls encountered when using the Django admin, and fix them - live!  We'll use django-debug-toolbar, a powerful debugging interface that everyone who uses Django should be familiar with, to identify our issues and confirm that they are fixed.\", 'We may not always know why we feel a certain way about a great story.  In this talk, you\\'ll learn how Python generates new insights into the stories you love.  See how some straightforward tools and techniques have generated a rich analysis of stories from \"Harry Potter\" to \"Wuthering Heights\" to \"The Three Body Problem\" and the deeper questions those findings raise. Learn the straightforward techniques to do this with findings and code samples from three case studies: + Uncovering gender bias in the _Harry Potter_ series\\r\\n+ Visualizing the use of color in Gothic Literature\\r\\n+ Looking for narrative patterns in science fiction novels over the last 50 years This mix of qualitative and quantitative data can be used to hold up a mirror to our world and to ourselves.  If you enjoy reading a great book and tinkering with code, this is the talk for you.', 'As teams and projects grow, code review becomes increasingly important to support the maintainability of complex code bases. In this talk, I’ll cover guidelines for writing consistent code, powerful linting and analysis tools for your Python code, and how to look out for common code review gotchas. You’ll also learn about style guides and how they can help make your code more consistent and easier to maintain, as well as what tools are available to help automate the review process. This talk will enable you to have better code reviews with your teams at work, as well as a better approach to code reviews in open source projects. You’ll also learn how to give code reviews with empathy by using reviews as tools for sharing knowledge instead of turning the process into a competition.', 'It’s 2019, and Moore’s Law is dead. CPU performance is plateauing, but GPUs provide a chance for continued hardware performance gains, if you can structure your programs to make good use of them. CUDA is a platform developed by Nvidia for GPGPU--general purpose computing with GPUs. It backs some of the most popular deep learning libraries, like Tensorflow and Pytorch, but has broader uses in data analysis, data science, and machine learning.  There are several ways that you can start taking advantage of CUDA in your Python programs.  For some common Python libraries, there are drop-in replacements that let you start running computations on the GPU while still using familiar APIs. For example, CuPy provides a NumPy-like API for interacting with multi-dimensional arrays. Similarly, cuDF is a recent project that mimics the pandas interface for dataframes. If you want more control over your use of CUDA APIs, you can use the PyCUDA library, which provides bindings for the CUDA API that you can call from your Python code. Compared with drop-in libraries, it gives you the ability to manually allocate memory on the GPU, and write custom CUDA functions (called kernels). However, its drawbacks include writing your CUDA code as large strings in Python, and compiling your CUDA code at runtime. Finally, for the best performance you can use the Python C/C++ extension interface, the approach taken by deep learning libraries like Pytorch. One of the strengths of Python is the ability to drop down into C/C++, and libraries like NumPy take advantage of this for increased speed. If you use Nvidia’s nvcc compiler for CUDA, you can use the same extension interface to write custom CUDA kernels, and then call them from your Python code. This talk will explore each of these methods, provide examples to get started, and discuss in more detail the pros and cons of each approach.', 'Python is known for its \"batteries included\" philosophy but no Python developer can live without the language\\'s rich library ecosystem. Unfortunately, as the number of libraries increases, so does the risk of cross-library incompatibilities, or \"dependency hell\". Dependency hell arises when two libraries have mutually conflicting requirements. These can be very difficult for developers to diagnose and may not be fixable without avoiding certain libraries entirely. After this talk, you - the library author - will have a practical set of simple best practices to follow that will allow you to build libraries that are compatible across the Python ecosystem.', \"Django Channels allows developers to make real-time web applications using websockets while maintaining access to the full Django batteries-included model for web applications. This talk will focus on what it takes to run a channels application in production, what's possible with Django Channels beyond chat rooms, and what pitfalls & idiosyncrasies you can expect to run into when using Channels in practice.\", \"Spoiler alert:  yes, remote work really does work! With nearly nine years of experience as a remote employee across three different companies, [SPEAKER] knows the ups and downs of remote work.  In this session, [SPEAKER] will dive into what the research says about remote work and share their personal stories of failures and successes.   You'll walk away from this session knowing why remote work is awesome, empowered to convince your boss to let you work remotely, and armed with the tools you need to be a happy, successful remote employee.   If you've been thinking about making the transition to working remotely, you're a manager of people who are or could work remotely, or you've made the leap to remote work and are struggling to make it work, this is the session for you!\", 'Managing a large open source project like CPython is no easy task. Learn how the Python core team automated their GitHub workflow with bots, making it easier for maintainers and contributors to collaborate together. Even if you’re not managing a large project, you can still build your own bot! Hear some ideas on what you can automate on GitHub and personalize your bot based on your own workflow. All you need is Python. Don’t be a robot; build the bot.', 'According to the always trustworthy Wikipedia, there are approximately 360 million native English speakers in the world. We, as developers, are so used to write code and documentation in English that we may not realize that this number only represents 4.67% of the world population. It is very useful to have a common language for the communication between developers, but this doesn’t mean that the user shouldn’t feel a little bit more comfortable when using your product.  Translation of terms is only one step in the whole Internationalization (i18n) and Localization (l10n) process. It also entails number, date and time formatting, currency conversion, sorting, legal requirements, among other issues. This talk will go through the definition of i18n and l10n as well as show the main tools available for developers to support multiple languages and regional related preferences in their Python program. We will also see how one can enable local support for their website in Django. Finally, this presentation will discuss how we can manage Internationalization and Localization for a bigger product running in different platforms (front and back end) and how to incorporate i18n and l10n into our current development and deploy processes. Oh, and by the way, “eita!” is a Brazilian interjection to show yourself surprised with something. 🙂', 'It seems that every week there is a news story that prompts software developers to think about the ethical implications of their work. As individuals, teams, and communities we need to consider the impact of the code we write. But what about code that we are using, but did not create?  How does Open Source Software factor into this equation? OSS is used across the industry, but is written and maintained primarily by volunteers. What are best practices for maintainers, contributors, individual users, and companies who incorporate open source into their work? How can we protect ourselves and our users, while still benefiting from the innovation and collaboration of open source software?', 'Millions of people across the world live in a state of acute and immediate environmental crisis caused by the lack of access to safe and usable water resources, because of natural disasters, socio-economic conditions, wars and conflicts.  Over the last year, I developed extremely low-cost filtration devices at intersection of machine learning and chemical-free purification. With my organization, we deployed 8,000 of these devices in rural Tanzania and brought safe water access to over 40,000 people, filtered ~14.4 million liters of water, and saved women from those affected communities a cumulative of 15,000 hours of walking every day. In this talk, we’ll learn about how, as developers, engineers and data scientists, we are incredibly well equipped to build solutions for some of the biggest challenges facing our planet and my generation. We’ll explore how all of us, as individuals and as a community, can drive on-ground social impact and help entire communities in crises, through coding, data and technology.', \"If we knew all of the bugs we needed to write tests for, wouldn't we just... not write the bugs?  So how can testing find bugs that nobody would think of? The answer is to have a computer *write your tests for you!*  You declare what kind of input should work - from 'an integer' to 'matching this regex' to 'this Django model' and write a test which should always pass... then Hypothesis searches for the smallest inputs that cause an error. If you’ve ever written tests that didn't find all your bugs, this talk is for you.  We'll cover the theory of property-based testing, a worked example, and then jump into a whirlwind tour of the library: how to use, define, compose, and infer strategies for input; properties and testing tactics for your code; and how to debug your tests if everything seems to go wrong. By the end of this talk, you'll be ready to find real bugs with Hypothesis in anything from web apps to big data pipelines to CPython itself.  Be the change you want to see in your codebase - or contribute to Hypothesis itself and help drag the world kicking and screaming into a new and terrifying age of high quality software!\", 'Telenovelas are beloved for their over the top drama and intricate plot twists. In this talk, we’ll review popular telenovelas to synthesize a typical telenovela arc and use it to train a deep learning model. What would a telenovela script look like as imagined by a neural network? To answer this question, we’ll examine three Python deep learning frameworks - Keras, PyTorch, and TensorFlow - to determine the process of translating a telenovela into a neural network and ultimately determine which one will be best for the task at hand. Be prepared for amor, pasiòn, and y el misterioso!', \"Python makes it incredibly easy to build programs that do what you want. But what happens when you want to do what you want, but with more input? One of the easiest things to do is to make a program concurrent so that you can get more performance on large data sets. But what's involved with that? Right now, there are any number of ways to do this, and that can be confusing! How does `asyncio` work? What's the difference between a thread and a process? And what's this Hadoop thing everyone keeps talking about? In this talk, we'll cover some broad ground of what the different concurrency models available to you as a Python developer are, the tradeoffs and advantages of each, and explain how you can select the right one for your purpose.\", 'Did you know there are multiple ways to raise and capture exceptions? Have you ever wondered if you should raise a built-in exception or create your own hierarchy? Did you ever find it hard to understand what an exception meant? This talk will go through the decisions needed to raise and capture exceptions when creating a library. We will look at how to translate and handle errors, create your own exceptions, and make exceptions clear and easy to troubleshoot, while also understanding how they actually work, common pitfalls.', \"Extracting tables from PDFs is hard. The Portable Document Format was not designed for tabular data. Sadly, a lot of open data is shared as PDFs and getting tables out for analysis is a pain. A simple copy-and-paste from a PDF into a text file or spreadsheet program doesn't work. This talk will briefly touch upon the history of the Portable Document Format, discuss some problems that arise when extracting tabular data from PDFs using the current ecosystem of libraries and tools and demonstrate how Camelot and Excalibur solve this problem better and in a scalable manner. These easy-to-use packages automatically detect and extract tables from PDFs and give you access to the extracted tables in pandas DataFrames. You can also download them as CSVs or Excel files.\", 'Methane, the primary component of natural gas, is a 60 times more powerful climate change agent than carbon dioxide.  Current technologies for finding methane leaks in oil and gas infrastructure rely on driving well to well with a handheld camera.  At Kairos Aerospace, we have developed a plane-mounted sensor for detecting methane leaks, but the sensor is only part of the solution: getting information off the sensor and into customers’ hands required us to build an entire plane-to-report pipeline.  I’ll discuss the challenges we faced in developing a scalable, reliable, and cost-effective scientific computing platform in Python, with examples of novel solutions using Python’s extensive ecosystem of GIS, cloud computing and machine learning tools.', 'Floating point numbers have been given a bad rap. They\\'re mocked, maligned, and feared; the but of every joke, the scapegoat for every rounding error. But this stigma is not deserved. Floats are friends! Friends that have been stuck between a rock and a computationally hard place, and been forced to make some compromises along the way… but friends never the less! In this talk we\\'ll look at the compromises that were made while designing the floating point standard (IEEE754), how to work within those compromises to make sure that `0.1 + 0.2 = 0.3` and not `0.30000000000000004`, how and when floats can and cannot be safely used, and some interesting history around fixed point number representation. This talk is ideal for anyone who understands (at least in principle) binary numbers, anyone who has been frustrated by `nan` or the fact that `0.3 == 0.1 + 0.2 => False`, and anyone who wants to be the life of their next party. This talk will _not_ cover more complicated numerical methods for, ex, ensuring that algorithms are floating-point safe. Also, if you\\'re already familiar with the significance of \"52\" and the term \"mantissa\", this talk might be more entertaining than it will be educational for you.', \"Object Relational Mappers (ORMs) are awesome enhancers of developer productivity. The freedom of having the library write that SQL and give you back a useful, rich model instance (or a bunch of them) instead of just a tuple or a list of records is simply amazing. But if you forget you have an actual database behind all that convenience, then it'll bite you back, usually when you've been in production for a while, after you've accumulated enough data that your once speedy application starts slowing down do a crawl. Databases work best when you ask them once for (or to do) a bunch of stuff, instead of asking them lots of times for small stuff. We'll discuss how innocent looking attribute accesses on your model instances translate to sequential queries (the infamous [N+1 problem][1]). Then we'll go through some practical solutions, taken from real cases that resulted in massive speed ups. We'll cover how changes in Python code resulted in changes to the resulting SQL Queries Solutions not only for queries, but also inserts and updates, which tend to be less well documented. Though this talk focuses on SQLAlchemy, the lessons should be applicable to most ORMs in most programing languages. The ideas discussed, and solutions proposed are also valid for any storage backend, not only SQL databases.    [1]: https://docs.sqlalchemy.org/en/latest/glossary.html#term-n-plus-one-problem\", '*How do you know if your data science results are correct?* Robust software usually has tests asserting that certain conditions hold, but as a data scientist it’s often not straightforward or obvious how to integrate these best practices. Our workflow includes exploration, statistical models, and one-off analysis. This talk will give concrete examples of when and how testing should play a role, and provide you with enough introduction to get started writing your first data science tests using `pytest` & `hypothesis`.', 'Deep learning is a useful tool for problems in computer vision, natural language processing, and medicine. While it might seem difficult to get started in deep learning, Python libraries, such as Keras make deep learning quite accessible. In this talk, we will discuss what deep learning is, introduce NumPy and Keras, and discuss common mistakes and debugging strategies. Throughout the talk, we will return to an example project in the medical domain, which used deep learning on vocal data to determine whether a patient has a voice disorder called vocal hyperfunction.', 'Dropbox is a heavy user of the mypy type checker, recently passing three million lines of type-annotated Python code, with over half of that added in 2018. Type checking is helping find bugs, making code easier to under stand, enabling refactors, and is an important aid to our ongoing Python 3 migration. In this talk, we discuss how we got there. We’ll talk about what we tried in order to get our engineers to type annotate their code—what worked, what didn’t, and what our engineers had to say about it.  Additionally, we’ll discuss the performance problems we faced as the size of our checked codebase grew, and the techniques we employed to allow mypy—which is implemented in Python—to efficiently check (faster than a second, for most incremental checks) millions of lines of code, which culminated in mypyc, a new ahead-of-time compiler for type-annotated Python!', 'At Dropbox, we’ve always used Python to power our application for Windows, macOS and Linux (until recently, Python 2.7). Over the years, a growing lack of features and the need for outdated compilers/toolchains made migrating to Python 3 a necessity. Join us to hear the tale of our unique journey from Python 2 to 3 and the lessons we learned along the way: - We’ll discuss the reasons that led to our decision to make the jump.\\r\\n- We’ll dive into how we sequenced the transition by using the C-API to ship both versions of Python and choose one at runtime.\\r\\n- We’ll reveal the tools we used to enforce a hybrid (2/3) syntax for over hundreds of thousands of lines of Python code.\\r\\n- We’ll discuss some of our most spectacular bugs and gotchas, and how you can avoid them!', 'After attending your local dev meetup for months, you suddenly get the dreaded email: \"Your Organizer just stepped down without nominating a replacement.\" But the community relies on this meetup! It brings together devs from all around to engage in networking, learning, and comradery! So you step up. I mean, how hard could it be, right? Oh no. This is much harder than you thought. You have to organize a venue, figure out refreshments, get a speaker, ensure people show up.  In this talk,  you\\'ll learn the skills need to start and sustain a vibrant meetup and tech community.', 'Diagnosing a patient requires consideration of a wide variety of factors: past medical history and comorbidities, physical exam findings, lab results, imaging, ECG findings, and in some cases, genomic testing. Clinical diagnosis and prognostic assessment currently relies on expert knowledge of the treating physician. Recent developments in machine learning make it possible to build automated clinical diagnostic and risk assessment tools using data from the electronic medical record.  This talk walks through the steps involved in building a clinical risk assessment model, using sepsis as a case study. A large part of the talk will focus on the tools and techniques involved in pre-processing complex medical data, and strategies for evaluating model results.', \"The CPython project is now 28 years old. It has active core developers, but almost all of them are volunteers. It's difficult to ask someone to be committed into a project for 5 years without being paid. Helping newcomers and mentoring contributors takes time and few developers are available for that. We are working on improving the diversity of CPython core developers and get more active core developers, but it's a slow process.\", \"Have you ever wondered how a JIT compiler works?  Production quality JIT compilers are large, complicated pieces of software that can seem inscrutable at first glance. However, building a simple JIT compiler is surprisingly easy. We'll walk through how to build a template-style JIT compiler for Python from first principles, in Python!\", 'The Python world has a staggering array of data visualization tools, and choosing which to use can seem like a daunting task. But which tool you use is far less important than how you use it. In this talk I’ll walk through some of the important considerations involved in visualizing your data, so that you can create more effective visualizations no matter which plotting package you use.', \"Serverless computing is all about paying only for what you use: it can scale up to handle millions of requests, but it can also scale down to 0, costing you nothing if your application is not receiving any traffic. Serverless tends to get expensive when databases are involved.... but if your data is static or changes infrequently, you can use serverless tools to provide powerful interactive APIs extremely cheaply. [Datasette](https://datasette.readthedocs.io/) is an open-source Python tool that provides an instant, read-only JSON API for any SQLite database. It also provides tools for packaging the database up as a Docker container and instantly deploying that container to a number of different serverless hosting platforms. This makes it a powerful tool for sharing interesting data online, in a way that allows users to both explore that data themselves and build their own interpretations of the data using the Datasette JSON API. In this session I'll show you how to use Datasette to publish data, and illustrate examples of the exciting things people have already built using the tool - including a number of real-world data journalism projects. I'll also teach people how to use some of the other tools in the Datasette ecosystem: * [Datasette Publish](https://publish.datasettes.com/), which allows CSV data to be published using Datasette to a serverless hosting account owned by the user, without any engineering experience required.\\r\\n* [csvs-to-sqlite](https://pypi.org/project/csvs-to-sqlite/), a tool for efficiently converting large numbers of CSV files into a Datasette-compatible SQLite database.\\r\\n* [sqlite-utils](https://sqlite-utils.readthedocs.io/), a library that lets users create complex databases from custom data feeds in just a few lines of Python code (ideal for working with Jupyter notebooks). I'll discuss the philosophy and design behind Datasette, including how immutable SQLite databases make for an impressively scalable solution for inexpensively serving complex data on the internet. Finally, I'll be exploring how Datasette takes advantage of Python 3 asyncio and the new ASGI specification.\", '&nbsp;&nbsp;&nbsp;&nbsp;Feature flags can be powerful tools in mitigating risk in your development cycle — _if you use them correctly_. Failing to do so can have enormous consequences for yourself and your business. In 2012 one improperly deployed feature flag sent a $365 million company into bankruptcy in 45 minutes. So let’s talk about feature flags, specifically in how they can help us with intentional deployment. Feature flags give us a high degree of control over the features we release — but what ensures we have a high degree of control over our feature flags?  &nbsp;&nbsp;&nbsp;&nbsp;In this talk, I’ll go over the best practices which will make your feature flagging program a success. The humble Feature Flag can transform into many different things: release toggle, experiment, kill switch, permissioning and more. I’ll talk briefly about the possibilities Feature Flags open up, and then describe how to use best practices of visibility and accountability to align those different flags into a cohesive feature flagging system. &nbsp;&nbsp;&nbsp;&nbsp;After this talk, you’ll know what best practices make a successful feature flagging program, and be able to implement them into your current solution to deploy faster and with less risk.', 'Starting a few years ago, Capital One has committed to go all-in on public cloud and open source software for many of our core business operations, processes, and machine learning models. To support this transformation, we embarked on a multi-year journey to build a Python community with critical mass of users, and scale adoption of Python in our business analyst and data analyst workforces. Python has been envisioned since its early days as a programming language which can be used to \"create better, easier to use tools for program development and analysis\", as well as \"build a user community around all of the above, encouraging feedback and self-help\". [1] In our experience scaling Python adoption amongst analyst communities within a Fortune 500 company, we have found the aforementioned visions true to form - not only is Python a great first programming language for our analysts to learn, it also comes with \"batteries included\" and contains many of the data-related tools and libraries which allows our analysts to get productive very quickly. This talk will highlight our multi-pronged approaches to overcome organizational inertia to build a community of Python users, provide Python and OSS training, and encourage Python adoption (with mixed success). We\\'ll share what (we think) best practices are out there, and lessons learned along the way. Reference:\\r\\n[1] Computer Programming for Everybody (http://www.python.org/doc/essays/cp4e.html)', \"Application security remains a long-term and high-stakes problem for most projects that interact with external users. Python's type system is already widely used for readability, refactoring, and bug detection — this talk will demonstrate how types can also be leveraged to make your project systematically more secure. We'll investigate (1) how static type checkers like Pyre or MyPy can be extended with simple library modifications to catch vulnerable patterns, and (2) how deeper type-based static analysis can reliably flag remaining use cases to security engineers. As an example, I'll focus on a basic security problem and how you might use both tools in combination, drawing from our experience deploying these methods to build more secure applications at Facebook and Instagram.\", \"What good is a code style if it's not internally consistent? What good is a linter when it slows you down? What if you could out-source your worries about code formatting, adopt a consistent style, and make your team faster all at the same time? Come hear about Black: a new code style and a tool that allows you to format your Python code automatically. In the talk you'll learn not only how the style looks like but why it is the way it is. I will do my best to convince you not only that it's good but that it's *good enough*. You'll see how you can integrate it with your current workflow and how it speeds up your life while making your code prettier on average. Lose your attachments, delegate the boring job of moving tokens around to satisfy the linter, and save time for more important matters. Guaranteed to increase the life expectancy of space bars and Enter keys on your new MacBook's keyboard.\", 'Failure can be scary. There are real costs to a company and its users when software crashes, models are inaccurate, or when systems go down. The emotional stakes feel high-- no one wants to be responsible for a failure. We can lower the stakes by creating spaces to learn from failures, and minimize their impact. This talk introduces two ways to address failure: blameless post-mortems, to learn from an incident; and pre-mortems, to identify modes of failure upfront.', 'Python is a prevalent programming language in machine learning (ML) community. A lot of Python engineers and data scientists feel the lack of engineering practices like versioning large datasets and ML models, and the lack of reproducibility. This lack is particularly acute for engineers who just moved to ML space. We will discuss the current practices of organizing ML projects using traditional open-source toolset like Git and Git-LFS as well as this toolset limitation. Thereby motivation for developing new ML specific version control systems will be explained. Data Version Control or [DVC.ORG][1] is an [open source][2], command-line tool written in Python. We will show how to version datasets with dozens of gigabytes of data and version ML models, how to use your favorite cloud storage (S3, GCS, or bare metal SSH server) as a data file backend and how to embrace the best engineering practices in your ML projects. [1]: http://dvc.org\\r\\n[2]: https://github.com/iterative/dvc', 'PyPI is a gold mine of great packages but those packages have to be written first.  More often than not, projects that millions of people depend on are written and maintained by only one person.  If you’re unlucky, that person is you! So how do you square delivering a *high quality* Python package you can be proud of and having only limited time at your disposal?  The answer is not “try harder,” the answer is to **do less**. This talk will help you get there by talking about how you can make your life easier, remove causes of friction with your contributors, and empower said contributors to take over tasks that you can’t make time for anymore.', \"Learn how to make music with Python, SuperCollider and FoxDot. We'll create a song together in this live coded adventure.\", 'Within the last few years, researchers have come to understand that machine learning systems may display discriminatory behavior with regards to certain protected characteristics, such as gender or race. To combat these harmful behaviors, we have created multiple definitions of fairness to enable equity in machine learning algorithms. In this talk, I will cover these different definitions of algorithmic fairness and discuss both the strengths and limitations of these formalizations.  In addition, I will cover other best practices to better mitigate the  unintended bias of data products.', \"When machine learning models make decisions that affect people’s lives, how can you be sure those decisions are fair? When you build a machine learning product, how can you be sure your product isn't biased? What does it even mean for an algorithm to be ‘fair’? As machine learning becomes more prevalent in socially impactful domains like policing, lending, and education these questions take on a new urgency. In this talk I’ll introduce several common metrics which measure the fairness of model predictions. Next I’ll relate these metrics to different notions of fairness and show how the context in which a model or product is used determines which metrics (if any) are applicable. To illustrate this context-dependence I'll describe a case study of anonymized real-world data. Next, I'll highlight some open source tools in the Python ecosystem which address model fairness. Finally, I'll conclude by arguing that if your job involves building these kinds models or products then it is your responsibility to think about the answers to these questions.\", \"Over the course of nearly a year, we migrated Pinterest's primary systems from Python2 to Python3.  A large, tightly coupled codebase with over 2 million lines of code, the Pinterest codebase contained nearly every edge case that might exist in a Py2 to Py3 migration. We'll cover our approach, gotchas, and tools, and the incredible impact our migration has made on infra spend and code quality.\", 'Mocking and patching are powerful techniques for testing, but they can be easily abused, with negative effects on code quality, maintenance, and application architecture.  These pain-points can be hard to verbalize, and consequently hard to address.  If your unit tests are a PITA, but you cannot explain why, this talk may be for you. Mocking as a technique has deep roots within OOD and TDD, going back 20+ years, but many Python developers know mocks and patches merely as a technique to isolate code under test.  In the absence of knowledge around OOD and TDD, best practices around mocking are completely unknown, misunderstood, or ignored.   Developers who use mocks and patches without doing TDD or OOD are susceptible to falling into many well-understood and documented traps. This talk will draw a historical connection between the way mocks are taught today, and their origins in TDD, OOD, and Java.  It will also demonstrate some pitfalls, and provide some guidance and alternatives to mocking and patching (e.g., dependency injection, test doubles, functional style).', 'Every programmer should learn to use solvers, tools that reason directly from a description of a problem to its solution.   Tools like AlphaZero can formulate winning strategies for games given only a description of the rules of the game.  For certain classes of problems, we really can just let the computer do the work. In this talk, we learn principles, techniques, and multiple examples for three solvers available in Python. The first tool is a generic puzzle-solving framework that employs tree search strategies.  We apply it to a simple sequencing problem and then to a harder sliding-block puzzle. Next, we\\'ll look at the solver code to learn how it works.  I\\'ll also show an essential optimization technique and how to humanize the output.  We demonstrate our skills by solving another famous puzzle. The second tool is called a SAT solver. It is one of the miracles of the 21st century. From first principles, I\\'ll show you what problems it solves and the way problems need to be described for modules like *PycoSAT*.  I\\'ll provide helper functions to humanize our interactions with this great tool.  Then, we\\'ll demonstrate our skills by creating a Sudoku solver and a readable logic problem solver. The third tool is the \"multi-armed bandit\". It is a generic reinforcement learning algorithm that is easy to learn, powerful, and applicable to a broad class of problems.  We apply it to winning rock-paper-scissors using pattern recognition. Lastly, I\\'ll summarize DeepMind\\'s paper on AlphaZero which was published in the December 2018 edition of *Science*.  This gives us hints at the full potential of these techniques.   Pure Python source code and examples are provided for all of the tools.', \"&lt;announcer> This one quick trick will help you measure the diversity of your hiring pipeline!  Read on to hear how! &lt;/announcer> One challenge in improving diversity within a hiring pipeline is the struggle to measure what exists in the first place. It's hard to know where to focus your resources until you know what you have to work with, and can identify what steps make a difference and what efforts don't. Using python/django and an api key for our recruiting vendor, you can make this information visible and, therefore, actionable, with very little work.\", \"Maps are powerful tools that we use every day. Python is well-equipped to handle spatial data and with well documented robust libraries to help you perform spatial analysis and create beautiful maps. In this talk, we'll discover the fascinating world of spatial analysis by solving a fun problem: where can we go to see an upcoming solar eclipse? Along the way we'll learn about mapping topics like projections and coordinate systems, best practices for map making, and intricacies of spatial data.\", \"Python is a flexible language. Your Python app, on the other hand, is usually more set in stone: buttons, functions, displays are all explicitly defined. In this talk you'll learn how to take advantage of features like decorators and functions as first-class objects to set up a simple plugin system that allows your app to be more flexible. In fact, you can allow your users to add or customize functionality they want after you ship. By using plugins, your code becomes more modular and maintainable. At the same time your users may be able to use your great app to work with data or challenges you didn't even know existed.\", 'Digital Signal Processing and Player Piano don\\'t normally come together in the same sentance. Player Pianos that are 100+ years old are awesome artisan artifacts, but they don\\'t play digital formats very well. This talk will show how we take a 100+ year old technology and marry it to the digital age via Python libraries and precision lasers!  In this discussion we will cover how we are creating our own \"Plug-n-Stream Player Piano\". We will take a look at the different digital signal processing Python libraries, their functionality, and requirements for converting audio streams to piano playable audio files. After a brief walk through of our prototyped hardware, we will dissect the digital signal processing, converting streaming music to data for the Player Piano. With a real Player Piano in the room we will demo streaming music from our devices onto the piano.  LIVE(ish) Piano Playing!', \"Decorators are one of Python's most powerful features.  But even if you understand what they do, it's not always obvious what you can do with them.  Sure, from a practical perspective, they let you remove repeated code from your callables.  And semantically, they let you think at a higher level of abstraction, applying the same treatment to functions and classes. But what can you actually do with them?  For many Python developers I've encountered, ecorators sometimes appear to be a solution looking for a problem. In this talk, I'll show you some practical uses for decorators, and how you can use them to make your code more readable and maintainable, while also providing more semantic power.  Moreover, you'll see examples of things would be hard to do without decorators.  I hope that after this talk, you'll have a good sense of how to use decorators in your own Python projects.\", \"Notebooks have traditionally been a tool for drafting code and avoiding repeated expensive computations while exploring solutions. However, with new tools like nteract's papermill and scrapbook libraries, this technology has been expanded to make a reusable and parameterizable template for execution. We'll walk though how Jupyter notebooks are being programmatically used at Netflix and how this helps with our batch processing world. We'll also explore how these use cases connect back with users and why we've adopted these tools for Python and non-Python execution.\", 'The deep learning hype is real, and the Python ecosystem makes it easier than ever to neural networks to everything from speech recognition to generating memes. But when picking a model architecture to apply to your work, you should consider more than just state of the art results from NeurIPS. The amount of time, money and data available to you are equally, if not more, important. This talk will cover some alternatives to deep learning, including regression, tree-based methods and distance based methods. More importantly, it will include a frank discussion of the pros and cons of different methods and when it makes sense to use each in practice.', \"Packages that won't install, encodings that don't work, installers that ask too many questions, and having to own a PC are all great reasons to just ignore Windows. Or they would be, if they were true. Despite community perception, more than half of Python usage is on Windows, including web development, system administration, and data science, just like on Linux and Mac. And for the most part, Python works the same regardless of what operating system you happen to be using. Still, many library developers will unnecessarily exclude half of their potential audience by not even attempting to be compatible. This session will walk through the things to be aware of when creating cross-platform libraries. From simple things like using `pathlib` rather than `bytes`, through to all the ways you can get builds and tests running on Windows for free, by the end of this session you will have a checklist of easy tasks for your project that will really enable the whole Python world to benefit from your work.\", \"While high-level security concepts may transcend languages, each language has its own sets of tools and edge cases that are worth knowing.  Python is one of many popular languages that is rarely the focus in security training, but that doesn't mean python code is automatically secure (no matter what the internet tells you).  Learn why people who say “pylint will help you with security” aren’t doing you any favours, how to use Bandit for security-focused linting and talk about other options for static analysis.  Take a deeper look at why scanning for publicly known vulnerabilities is complicated, and how to use Pyup Safety to make it easier.  We’ll also explore some language myths and best practices.\", \"Being able to release rapidly and continuously allows businesses to react to opportunities, shorten feedback loop for product iteration cycle and reduce debug effort for erroneous changes. At Instagram, we operate the world's largest fleet of servers running on Python and we continuously deploy every X minutes. Anyone can do it, this talk will teach you the practical steps and talk about the ideas and problems we faced at every phase of our automation journey.\", 'In the month of August 2018, Kerala, the southernmost state of India, received 250 % of normal rainfall, resulting in all of its 44 dams to be opened. Over 483 people died due to the flooding caused by the opening of dams and a million people were evacuated.  I started a website ([keralarescue.in][1]), written in Django. The main purpose of the site was effective collaboration and communication between authorities, volunteers and public. The site was open source from Day 0. About 1500 developers and volunteers onboard our slack group in a couple of days. Within a week, the community united to forge a critical piece of software that saved thousands of lives. The site initiated as a portal for refugees to request essential resources like food and water and for volunteers to see their needs, all sorted by geographical location. Additionally, we provided direct information for the government and became the official website later on. The Minimum Viable Product was delivered in fourteen hours. In the initial days, it was only used by the volunteers and Point of Contacts assigned by the government. Later, when the situation became critical, we started getting rescue requests from stranded refugees. The Github repo of the website went viral, and we started to receive feature requests rapidly. We received more than five hundred pull requests in the span of three weeks.  The story I want to present is about the community and technical aspects of keralarescue.in, how people from different backgrounds came together to build a critical piece of software that saved many lives.   [1]: https://keralarescue.in', \"I love Pokemon. However, I don't love how some players make the community less welcoming towards beginners by hiding their strategies. So I did what any defiant engineer would. I signed up for a free AWS account and began (responsibly) scraping millions of their unauthenticated Pokemon battles. We'll journey together through this passion project of mine and draw on specific examples to better understand the trade-offs of working with distributed systems or microservice architectures in the cloud.\", \"Key takeaways: 1. Set operations enable simpler and faster solutions for many tasks;\\r\\n1. Python's set classes are lessons in elegant, idiomatic API design;\\r\\n1. A set class is a suitable context for implementing operator overloading. Boolean logic and set theory are closely related. In practice, we will see cases where set operations provide simple and fast declarative solutions to programming problems that otherwise require complicated and slow procedural coding. Python's set built-ins and ABCs provide a rich and well designed API. We will consider their interfaces, and how they can inspire the creation of Pythonic APIs for your own classes. Finally, we will discuss operator overloading — a technique that is not suitable everywhere, but certainly makes sense with sets. Taking a few operators as examples, we will study their implementation in a new `UintSet` class for integer elements. `UintSet` fully implements the `MutableSet` interface over a totally different internal representation based on a bit array instead of a hash table. Membership tests run in _O(1)_ time like the built-in sets (however, `UintSet` is currently pure Python, so YMMV). Using bit arrays allow core set operations like intersection and union to be implemented with fast bitwise operators, and provides compact storage for dense sets of integers.\", \"Profiling involves computing a set of data about how often and how\\r\\nlong various parts of your program are executed. Profiling is useful\\r\\nto understand what makes your program slow and how you can improve\\r\\nit. After a quick review of deterministic profiling tools and\\r\\ntechniques, I will describe how you can do statistical profiling with\\r\\nexisting packages or write your own from scratch. Statistical profiling involves occasionally sampling what your program\\r\\nis doing instead of watching each line or function. A key feature of\\r\\nstatistical profiling is that by using a moderate sampling frequency,\\r\\nyou can profile your production code with almost no overhead. This lets\\r\\nyou find the actual bottlenecks in real use cases. The core technical focus of the talk is python's sys module and how it\\r\\nlets you easily examine a running program. I also describe some tricks\\r\\nto be aware of related to threading, context switches, locks, and so on.\\r\\nAt the conclusion of the talk, you will hopefully understand how to use\\r\\nan existing statistical profiler or write a customized version yourself.\", 'Testing code is important. Testing, primarily unit-testing async code\\r\\nrequires heading off the the standard roadway of unit testing in python. This talk will provide a map to help you along the new path towards testing async code. Topics include:  - a brief intro to `asyncio` and challengs in testing with it\\r\\n - running coroutines (and other awaitables) under test\\r\\n - mocking coroutines\\r\\n - testing \"main\" `asyncio` loops', \"People live with mental health stigma because we learn that we're supposed to be strong and resilient. It's okay not to be strong or resilient all the time. Discussing mental illness is uncomfortable. In this talk, I will help you overcome that discomfort by examining the most common mental health issues, how you can get help for yourself, and how you can best support your coworkers, friends, and family. No one should have to deal with mental illness alone. Bring your tissues.\", \"Manually updating a million line code base is tedious. Thankfully syntax trees provide a safe and quick way to  automatically apply repetitive transformations. Leveraging syntax tree based tooling (based on lib2to3), has been a critical component of Pinterest's Python 3 upgrade strategy, and saved us countless hours of work.  Learn how syntax trees work, how they are used to transform code, and how you can quickly write your own transformations.\", 'GraphQL is an exciting technology that can help simplify web logic. Most of the attention has been focused on client-side improvements, such as reducing payload sizes and reducing total number of requests. This talk will show how GraphQL can structure your backend logic to reduce the client-side dependencies or remove them entirely!', \"Seeing the Earth from above is truly breathtaking, but it takes a lot of time, fuel and opportunity - so instead, why not make miniature art of the world's famous terrains? This talk explores using Python to take raw terrain data - from aerial lidar and space-based radar scans - and processing it into 3D models, and CAD/CAM toolpaths, with the ultimate result of making Python-powered artwork of some of Earth's natural wonders. See how to reduce each National Park to a small, intricately-milled metal carving, how to laser-cut a side-on relief of a whole Hawaiian island, or how to 3D print tiny versions of cities where you can make out each individual building - and the strengths and challenges of using Python to handle 3D and GIS data. We'll also look at some basic 3D modelling code, discuss the wonders of different map projections, and how personal LiDAR is slowly, but surely, becoming affordable.\", 'If you’ve ever `pip install`ed a Python package with C extensions on Linux, it was probably a painful experience, having to download and install development headers for libraries you’ve never even heard of. Maybe you’ve given up on pip and have switched to Conda. But it doesn’t have to be this way! The Python Packaging Authority has been working hard to solve this problem with a new distribution format for compiled Python code, called “wheels.” In this talk, we’ll descend into the practice of PEPs 513 and 571: arcane scrolls that can equip Python developers with spells to pre-compile applications and libraries in a way that allows most Linux end users to run them directly. I’ll show you how to hex compiled artifacts and source code into the wheel format, harness application binary interfaces (ABIs) to use external libraries, brave the eldritch horrors of the dynamic linker, and bind these all together in the manylinux environment. Come learn to harness the black magic of Python wheels, and you too can spare your users pain… for a price.', 'Inheritance is among the first concepts we learn when studying object-oriented programming. But inheritance comes with some unhappy strings attached. Inheritance, by its very nature, tends to bind a subclass to its superclass. This means that modifying the behavior of a superclass might alter the behavior of all its subclasses, sometimes in unanticipated ways. Furthermore, it’s commonly accepted that inheritance actually breaks encapsulation. So, if inheritance has these issues, what alternative do we have? More than two decades ago, The Gang of Four (Erich Gamma, Richard Helm, Ralph Johnson and John Vlissides) suggested in their famous _Design Patterns_ book  that we should favor object composition over class inheritance. In this talk I will show some code examples in Python where inheritance goes astray and demonstrate how to correct them by using composition. My intention is not to demonize inheritance, but instead present how to use it wisely in order to improve the design of our object-oriented software so that it’s more flexible and easier to maintain.', 'Many developers struggle to find the balance between striving to improve existing code and letting good enough alone by accepting certain shortcomings. As a new developer to a team it can be difficult to understand existing strategies and patterns that are sometimes flat out bad (and often openly acknowledged as such). Often the result of tight deadlines or unclear specifications, even the best developers write code they later look back upon with shudders. So how do we decide when refactoring is worth it? Come learn strategies for refactoring with minimal impact, methods for working with bad code you can’t change, and strategies for knowing the difference between what is fixable and what is better left alone.', 'The Zen of Python, accessed by running `import this`, is a list of nineteen aphorisms that have guided the development of the language. It has good advice for how to organize our code, but what does it have to say about how we organize ourselves? Plenty: the Zen of Python is not only a solid set of development principles, but the other easter egg is that it’s packed with wisdom about how to build healthy teams.  In this talk I draw upon my time as an engineering manager of Python-focused engineering teams to tell stories of what the Zen of Python has to teach us about communication and conflict, building inclusive teams and transparent processes, and promoting psychological safety. Come ready to reflect on and feel inspired by a new interpretation of these principles, and bring what you learn back to your meetup, study group, open source project, or team.', \"If you haven't tried multiprocessing or you are trying to move beyond `multiprocessing.map()`, you will likely find that using Python's `multiprocessing` module can get quite intricate and convoluted.  This talk focuses on a few techniques (starting, shutting down, data flow, blocking, etc) that will maximize `multiprocessing`’s efficiency, while also helping you through the complex issues related to coordinating startup and _especially_ shutdown of your multiprocess app.\", 'We will cover how we used Python to adapt to a large institutional processing setup.  We used Python to create the definitions, configuration files, and supplementary metadata for each of the weather radars we worked with.  We used a variety of custom tools to interface with existing systems and processes that would have been infeasible to work with otherwise. We took advantage of one of Python’s greatest strengths: its flexibility.  We used it to perform the bulk of our data processing with NumPy, created custom utility functions to encourage code reuse, and created custom scripts for interfacing with the institutional data processing framework we worked within.', \"Using the pandas python library requires a shift in thinking that is not always intuitive to those who use it. This talk will take a deep dive into the underlying data structure of pandas to explain why it performs the way it does under certain circumstances. It will explain why a MultiIndex DataFrame takes up less memory than it's simple counter part, why groupby should never be run on a non-MultiIndexed DataFrame, why the example documentation for the pandas apply function is an example of how not to use it, and how not taking the time to normalize data can affect performance.\", 'Having libraries in your Python project properly locked to a specific version is a well known best practice. Dependency management tools in the Python ecosystem lock dependencies to the latest version available, but what if the latest version available is not the best fit for your application? Open source project Thoth is an advanced Python dependency resolver which recommends libraries for your project based on observations that are gathered for Python libraries for specific runtime environments. How these recommendations look like? How are different observations like performance characteristics of machine learning libraries for a particular hardware gathered?', 'One of the reasons why programming in Python is very straightforward and simple is that we do not have to worry about the lifetime of our objects. That is, once it ceases to be necessary, a variable disappears from the memory \"magically\". The fact that this happens automatically can erroneously lead us to believe that it is not required to worry about what happens behind the scenes. Nothing is further from reality: knowing how Python manages memory is fundamental in specific scenarios, and not knowing what is happening can have consequences as significant as unpleasant. For example, if our programs manage a large amount of data at the same time or launch multiple processes in parallel, this ceases to be a theoretical issue and becomes something that we, logical minds, also care. Although these concepts tend to be considered advanced and difficult to understand, we will see that this is not the case. This topic is not a purely theoretical matter nor is it difficult to find its practical applications. In this talk, we will explain why it is something that should matter to us, and we will talk about how to apply the knowledge we have gained to specific problems.', \"Why come to yet another talk about CPython's GIL? [1]  Sure, we'll spend a little time on what it is, who it affects (and doesn't), and how to work around it.  However, what you want to come hear is what the future holds for the GIL. We'll take most of the time talking about life *after* the GIL!  Come see what recent developments and ongoing work will allow us to either circumvent the GIL and get rid of it, unlocking true multi-core capability in Python code. [1] In case you don't know, the GIL is a global lock that prevents multi-core parallelism in pure Python code.  It has a controversial place in the community.  Look it up (or come to this talk)!\", \"Type hinting for Python (as a linter tool) came out in September 2015 as part of Python 3.5 (and was championed by Guido himself). Since then, variable annotations (plus, more recently, protocols) improved its capabilities even further. Over the last two years, tools, such as mypy, could build on top of it. Slowly, these annotations have emerged from a proof of concept state (e.g., mypy API planning) to becoming a stable feature. In this presentation, I'll tell my story of using type hints for both adding type hinting and checking type correctness for a library supporting both Python 2 and 3 and reusing this information to insert type data into the generated Sphinx documentation automatically.\", 'Knowing your enemies is as important as knowing your friends. Understanding your debugger is a little of both. Have you ever wondered how Python debugging looks on the inside?\\r\\nOn our journey to building a Python debugger, we learned a lot about its internals, quirks and more. During this session, we’ll share how debugging actually works in Python.\\r\\nWe’ll discuss the differences between CPython and PyPy interpreters, explain the underlying debugging mechanism and show you how to utilize this knowledge at work and up your watercooler talk game.', 'Walk into any factory and you will see a Programmable Logic Controller (PLC). It\\'s the small box that has a memory card and an Ethernet cable on one side, and lots of colorful wires connected to the other end. Inside runs the logic that turns inputs from sensors into outputs to robots, conveyor belts and other machinery. PLCs evolved from relay banks in the 1970s and have ruled the world of industrial automation since then. In the first half of this talk we will take a look at how they work, how to program them, and why a strange language called \"ladder logic\" is (still) the lingua franca for programming them. In a short on-stage demo I will write some PLC code to control a device on stage. It\\'s 2019 now and just running a PLC isn\\'t quite enough anymore. Everyone is talking about the \"Industrial Internet of Things\" and they have connected their PLCs to the company network. The second half of the talk will look at how we can connect to PLCs to read data and influence the running program with Python.', 'Python 3.7 is here! In this talk, we’ll explore several new standard library modules, new syntax features and changes, and other performance improvements and implementation changes and what it means for us as Python developers. We’ll also briefly chat about what exciting things didn’t quite make it into 3.7, but we should expect to see in 3.8.', 'Everyone starts with the best intentions with their Python projects, \"this time it\\'s going to be clean, simple and maintainable\". But code evolves over time, requirements change and codebases can get messy and complicated quickly. In this talk, you will learn how to use `wily` to measure and graph how complicated your Python code is and a series of practical techniques to simplify it. `wily` will show you which parts of your projects are becoming or have become hard to maintain and need a refactor. Once you know where the skeletons are, you will learn practical techniques for refactoring \"complex\" code and some resources to use to take your refactoring to the next level.', \"Time zones are complicated, but they are a fact of engineering life. Time zones have [skipped entire days](http://www.bbc.com/news/world-asia-16351377) and repeated others. There are time zones that switch to [DST twice per year](https://www.timeanddate.com/time/zone/morocco/casablanca). But not necessarily every year.  In Python it's even possible to create datetimes with non-transitive equality (`a == b`, `b == c`, `a != c`). In this talk you'll learn about Python's time zone model and other concepts critical to avoiding datetime troubles. Using `dateutil` and `pytz` as examples, this talk covers how to deal with ambiguous and imaginary times, datetime arithmetic around a Daylight Savings Time transition, and datetime's new `fold` attribute, introduced in Python 3.6 ([PEP 495](https://www.python.org/dev/peps/pep-0495/)).\"]\n"
          ],
          "name": "stdout"
        }
      ]
    },
    {
      "metadata": {
        "id": "NBWnNV63ZgGw",
        "colab_type": "code",
        "outputId": "8ad095c0-45a0-47d6-a04c-461d09480941",
        "colab": {
          "base_uri": "https://localhost:8080/",
          "height": 410
        }
      },
      "cell_type": "code",
      "source": [
        "df['description'] = pd.DataFrame(descriptions)\n",
        "df.head()"
      ],
      "execution_count": 0,
      "outputs": [
        {
          "output_type": "execute_result",
          "data": {
            "text/html": [
              "<div>\n",
              "<style scoped>\n",
              "    .dataframe tbody tr th:only-of-type {\n",
              "        vertical-align: middle;\n",
              "    }\n",
              "\n",
              "    .dataframe tbody tr th {\n",
              "        vertical-align: top;\n",
              "    }\n",
              "\n",
              "    .dataframe thead th {\n",
              "        text-align: right;\n",
              "    }\n",
              "</style>\n",
              "<table border=\"1\" class=\"dataframe\">\n",
              "  <thead>\n",
              "    <tr style=\"text-align: right;\">\n",
              "      <th></th>\n",
              "      <th>title</th>\n",
              "      <th>title character count</th>\n",
              "      <th>long title</th>\n",
              "      <th>first character</th>\n",
              "      <th>title word count</th>\n",
              "      <th>description</th>\n",
              "    </tr>\n",
              "  </thead>\n",
              "  <tbody>\n",
              "    <tr>\n",
              "      <th>0</th>\n",
              "      <td>5 Steps to Build Python Native GUI Widgets for BeeWare</td>\n",
              "      <td>54</td>\n",
              "      <td>False</td>\n",
              "      <td>5</td>\n",
              "      <td>10</td>\n",
              "      <td>Have you ever wanted to write a GUI application in Python that you can run on both your laptop and your phone? Have you been looking to contribute to an open source project, but you don't know whe...</td>\n",
              "    </tr>\n",
              "    <tr>\n",
              "      <th>1</th>\n",
              "      <td>8 things that happen at the dot:  Attribute Access &amp; Descriptors</td>\n",
              "      <td>64</td>\n",
              "      <td>False</td>\n",
              "      <td>8</td>\n",
              "      <td>10</td>\n",
              "      <td>We rarely think about the dot “.” between our objects and their fields, but there are quite a lot of things that happen every time we use one in Python. This talk will explore the details of what ...</td>\n",
              "    </tr>\n",
              "    <tr>\n",
              "      <th>2</th>\n",
              "      <td>Account Security Patterns: How Logged-In Are you?</td>\n",
              "      <td>49</td>\n",
              "      <td>False</td>\n",
              "      <td>A</td>\n",
              "      <td>7</td>\n",
              "      <td>Account security means making sure your users are only ones who can access their accounts. Account takeovers happen for a variety of reasons -- password re-use, compromised computers, guessable pa...</td>\n",
              "    </tr>\n",
              "    <tr>\n",
              "      <th>3</th>\n",
              "      <td>Ace Your Technical Interview Using Python</td>\n",
              "      <td>41</td>\n",
              "      <td>False</td>\n",
              "      <td>A</td>\n",
              "      <td>6</td>\n",
              "      <td>Do you feel overwhelmed by the prospect of having to find a new software engineering job because you dread the technical interviewing process? Have you been putting off submitting your job applica...</td>\n",
              "    </tr>\n",
              "    <tr>\n",
              "      <th>4</th>\n",
              "      <td>Advanced asyncio: Solving Real-world Production Problems</td>\n",
              "      <td>56</td>\n",
              "      <td>False</td>\n",
              "      <td>A</td>\n",
              "      <td>6</td>\n",
              "      <td>Everyone’s talking about it. Everyone’s using it. But most likely, they’re doing it wrong, just like we did. By building a simplified chaos monkey service, we will walk through how to create a goo...</td>\n",
              "    </tr>\n",
              "  </tbody>\n",
              "</table>\n",
              "</div>"
            ],
            "text/plain": [
              "                                                              title  \\\n",
              "0            5 Steps to Build Python Native GUI Widgets for BeeWare   \n",
              "1  8 things that happen at the dot:  Attribute Access & Descriptors   \n",
              "2                 Account Security Patterns: How Logged-In Are you?   \n",
              "3                         Ace Your Technical Interview Using Python   \n",
              "4          Advanced asyncio: Solving Real-world Production Problems   \n",
              "\n",
              "   title character count  long title first character  title word count  \\\n",
              "0                     54       False               5                10   \n",
              "1                     64       False               8                10   \n",
              "2                     49       False               A                 7   \n",
              "3                     41       False               A                 6   \n",
              "4                     56       False               A                 6   \n",
              "\n",
              "                                                                                                                                                                                               description  \n",
              "0  Have you ever wanted to write a GUI application in Python that you can run on both your laptop and your phone? Have you been looking to contribute to an open source project, but you don't know whe...  \n",
              "1  We rarely think about the dot “.” between our objects and their fields, but there are quite a lot of things that happen every time we use one in Python. This talk will explore the details of what ...  \n",
              "2  Account security means making sure your users are only ones who can access their accounts. Account takeovers happen for a variety of reasons -- password re-use, compromised computers, guessable pa...  \n",
              "3  Do you feel overwhelmed by the prospect of having to find a new software engineering job because you dread the technical interviewing process? Have you been putting off submitting your job applica...  \n",
              "4  Everyone’s talking about it. Everyone’s using it. But most likely, they’re doing it wrong, just like we did. By building a simplified chaos monkey service, we will walk through how to create a goo...  "
            ]
          },
          "metadata": {
            "tags": []
          },
          "execution_count": 262
        }
      ]
    },
    {
      "metadata": {
        "id": "smvDfDvAaODq",
        "colab_type": "code",
        "colab": {}
      },
      "cell_type": "code",
      "source": [
        "df['description char count'] = df['description'].apply(len)"
      ],
      "execution_count": 0,
      "outputs": []
    },
    {
      "metadata": {
        "id": "3HTyVA5Ppf_I",
        "colab_type": "code",
        "outputId": "78d3fdbb-dbd5-42fb-a314-87fd441fc642",
        "colab": {
          "base_uri": "https://localhost:8080/",
          "height": 410
        }
      },
      "cell_type": "code",
      "source": [
        "df.head()"
      ],
      "execution_count": 0,
      "outputs": [
        {
          "output_type": "execute_result",
          "data": {
            "text/html": [
              "<div>\n",
              "<style scoped>\n",
              "    .dataframe tbody tr th:only-of-type {\n",
              "        vertical-align: middle;\n",
              "    }\n",
              "\n",
              "    .dataframe tbody tr th {\n",
              "        vertical-align: top;\n",
              "    }\n",
              "\n",
              "    .dataframe thead th {\n",
              "        text-align: right;\n",
              "    }\n",
              "</style>\n",
              "<table border=\"1\" class=\"dataframe\">\n",
              "  <thead>\n",
              "    <tr style=\"text-align: right;\">\n",
              "      <th></th>\n",
              "      <th>title</th>\n",
              "      <th>title character count</th>\n",
              "      <th>long title</th>\n",
              "      <th>first character</th>\n",
              "      <th>title word count</th>\n",
              "      <th>description</th>\n",
              "      <th>description char count</th>\n",
              "    </tr>\n",
              "  </thead>\n",
              "  <tbody>\n",
              "    <tr>\n",
              "      <th>0</th>\n",
              "      <td>5 Steps to Build Python Native GUI Widgets for BeeWare</td>\n",
              "      <td>54</td>\n",
              "      <td>False</td>\n",
              "      <td>5</td>\n",
              "      <td>10</td>\n",
              "      <td>Have you ever wanted to write a GUI application in Python that you can run on both your laptop and your phone? Have you been looking to contribute to an open source project, but you don't know whe...</td>\n",
              "      <td>760</td>\n",
              "    </tr>\n",
              "    <tr>\n",
              "      <th>1</th>\n",
              "      <td>8 things that happen at the dot:  Attribute Access &amp; Descriptors</td>\n",
              "      <td>64</td>\n",
              "      <td>False</td>\n",
              "      <td>8</td>\n",
              "      <td>10</td>\n",
              "      <td>We rarely think about the dot “.” between our objects and their fields, but there are quite a lot of things that happen every time we use one in Python. This talk will explore the details of what ...</td>\n",
              "      <td>296</td>\n",
              "    </tr>\n",
              "    <tr>\n",
              "      <th>2</th>\n",
              "      <td>Account Security Patterns: How Logged-In Are you?</td>\n",
              "      <td>49</td>\n",
              "      <td>False</td>\n",
              "      <td>A</td>\n",
              "      <td>7</td>\n",
              "      <td>Account security means making sure your users are only ones who can access their accounts. Account takeovers happen for a variety of reasons -- password re-use, compromised computers, guessable pa...</td>\n",
              "      <td>426</td>\n",
              "    </tr>\n",
              "    <tr>\n",
              "      <th>3</th>\n",
              "      <td>Ace Your Technical Interview Using Python</td>\n",
              "      <td>41</td>\n",
              "      <td>False</td>\n",
              "      <td>A</td>\n",
              "      <td>6</td>\n",
              "      <td>Do you feel overwhelmed by the prospect of having to find a new software engineering job because you dread the technical interviewing process? Have you been putting off submitting your job applica...</td>\n",
              "      <td>504</td>\n",
              "    </tr>\n",
              "    <tr>\n",
              "      <th>4</th>\n",
              "      <td>Advanced asyncio: Solving Real-world Production Problems</td>\n",
              "      <td>56</td>\n",
              "      <td>False</td>\n",
              "      <td>A</td>\n",
              "      <td>6</td>\n",
              "      <td>Everyone’s talking about it. Everyone’s using it. But most likely, they’re doing it wrong, just like we did. By building a simplified chaos monkey service, we will walk through how to create a goo...</td>\n",
              "      <td>644</td>\n",
              "    </tr>\n",
              "  </tbody>\n",
              "</table>\n",
              "</div>"
            ],
            "text/plain": [
              "                                                              title  \\\n",
              "0            5 Steps to Build Python Native GUI Widgets for BeeWare   \n",
              "1  8 things that happen at the dot:  Attribute Access & Descriptors   \n",
              "2                 Account Security Patterns: How Logged-In Are you?   \n",
              "3                         Ace Your Technical Interview Using Python   \n",
              "4          Advanced asyncio: Solving Real-world Production Problems   \n",
              "\n",
              "   title character count  long title first character  title word count  \\\n",
              "0                     54       False               5                10   \n",
              "1                     64       False               8                10   \n",
              "2                     49       False               A                 7   \n",
              "3                     41       False               A                 6   \n",
              "4                     56       False               A                 6   \n",
              "\n",
              "                                                                                                                                                                                               description  \\\n",
              "0  Have you ever wanted to write a GUI application in Python that you can run on both your laptop and your phone? Have you been looking to contribute to an open source project, but you don't know whe...   \n",
              "1  We rarely think about the dot “.” between our objects and their fields, but there are quite a lot of things that happen every time we use one in Python. This talk will explore the details of what ...   \n",
              "2  Account security means making sure your users are only ones who can access their accounts. Account takeovers happen for a variety of reasons -- password re-use, compromised computers, guessable pa...   \n",
              "3  Do you feel overwhelmed by the prospect of having to find a new software engineering job because you dread the technical interviewing process? Have you been putting off submitting your job applica...   \n",
              "4  Everyone’s talking about it. Everyone’s using it. But most likely, they’re doing it wrong, just like we did. By building a simplified chaos monkey service, we will walk through how to create a goo...   \n",
              "\n",
              "   description char count  \n",
              "0                     760  \n",
              "1                     296  \n",
              "2                     426  \n",
              "3                     504  \n",
              "4                     644  "
            ]
          },
          "metadata": {
            "tags": []
          },
          "execution_count": 264
        }
      ]
    },
    {
      "metadata": {
        "id": "87aDXq5LpusA",
        "colab_type": "code",
        "outputId": "4db0ee02-67ae-4915-947d-cd6396d930e7",
        "colab": {
          "base_uri": "https://localhost:8080/",
          "height": 124
        }
      },
      "cell_type": "code",
      "source": [
        "df['description'].describe()"
      ],
      "execution_count": 0,
      "outputs": [
        {
          "output_type": "execute_result",
          "data": {
            "text/plain": [
              "count                                                                                                                                                                                                          95\n",
              "unique                                                                                                                                                                                                         95\n",
              "top       While high-level security concepts may transcend languages, each language has its own sets of tools and edge cases that are worth knowing.  Python is one of many popular languages that is rarely t...\n",
              "freq                                                                                                                                                                                                            1\n",
              "Name: description, dtype: object"
            ]
          },
          "metadata": {
            "tags": []
          },
          "execution_count": 265
        }
      ]
    },
    {
      "metadata": {
        "id": "X3CPqldvp8is",
        "colab_type": "code",
        "colab": {}
      },
      "cell_type": "code",
      "source": [
        "df['description word count'] = df['description'].apply(textstat.lexicon_count)"
      ],
      "execution_count": 0,
      "outputs": []
    },
    {
      "metadata": {
        "id": "Cep-Dulbqepq",
        "colab_type": "code",
        "outputId": "aa5b0408-4982-463a-dcfe-8677d878843d",
        "colab": {
          "base_uri": "https://localhost:8080/",
          "height": 410
        }
      },
      "cell_type": "code",
      "source": [
        "df.head()"
      ],
      "execution_count": 0,
      "outputs": [
        {
          "output_type": "execute_result",
          "data": {
            "text/html": [
              "<div>\n",
              "<style scoped>\n",
              "    .dataframe tbody tr th:only-of-type {\n",
              "        vertical-align: middle;\n",
              "    }\n",
              "\n",
              "    .dataframe tbody tr th {\n",
              "        vertical-align: top;\n",
              "    }\n",
              "\n",
              "    .dataframe thead th {\n",
              "        text-align: right;\n",
              "    }\n",
              "</style>\n",
              "<table border=\"1\" class=\"dataframe\">\n",
              "  <thead>\n",
              "    <tr style=\"text-align: right;\">\n",
              "      <th></th>\n",
              "      <th>title</th>\n",
              "      <th>title character count</th>\n",
              "      <th>long title</th>\n",
              "      <th>first character</th>\n",
              "      <th>title word count</th>\n",
              "      <th>description</th>\n",
              "      <th>description char count</th>\n",
              "      <th>description word count</th>\n",
              "    </tr>\n",
              "  </thead>\n",
              "  <tbody>\n",
              "    <tr>\n",
              "      <th>0</th>\n",
              "      <td>5 Steps to Build Python Native GUI Widgets for BeeWare</td>\n",
              "      <td>54</td>\n",
              "      <td>False</td>\n",
              "      <td>5</td>\n",
              "      <td>10</td>\n",
              "      <td>Have you ever wanted to write a GUI application in Python that you can run on both your laptop and your phone? Have you been looking to contribute to an open source project, but you don't know whe...</td>\n",
              "      <td>760</td>\n",
              "      <td>135</td>\n",
              "    </tr>\n",
              "    <tr>\n",
              "      <th>1</th>\n",
              "      <td>8 things that happen at the dot:  Attribute Access &amp; Descriptors</td>\n",
              "      <td>64</td>\n",
              "      <td>False</td>\n",
              "      <td>8</td>\n",
              "      <td>10</td>\n",
              "      <td>We rarely think about the dot “.” between our objects and their fields, but there are quite a lot of things that happen every time we use one in Python. This talk will explore the details of what ...</td>\n",
              "      <td>296</td>\n",
              "      <td>56</td>\n",
              "    </tr>\n",
              "    <tr>\n",
              "      <th>2</th>\n",
              "      <td>Account Security Patterns: How Logged-In Are you?</td>\n",
              "      <td>49</td>\n",
              "      <td>False</td>\n",
              "      <td>A</td>\n",
              "      <td>7</td>\n",
              "      <td>Account security means making sure your users are only ones who can access their accounts. Account takeovers happen for a variety of reasons -- password re-use, compromised computers, guessable pa...</td>\n",
              "      <td>426</td>\n",
              "      <td>66</td>\n",
              "    </tr>\n",
              "    <tr>\n",
              "      <th>3</th>\n",
              "      <td>Ace Your Technical Interview Using Python</td>\n",
              "      <td>41</td>\n",
              "      <td>False</td>\n",
              "      <td>A</td>\n",
              "      <td>6</td>\n",
              "      <td>Do you feel overwhelmed by the prospect of having to find a new software engineering job because you dread the technical interviewing process? Have you been putting off submitting your job applica...</td>\n",
              "      <td>504</td>\n",
              "      <td>84</td>\n",
              "    </tr>\n",
              "    <tr>\n",
              "      <th>4</th>\n",
              "      <td>Advanced asyncio: Solving Real-world Production Problems</td>\n",
              "      <td>56</td>\n",
              "      <td>False</td>\n",
              "      <td>A</td>\n",
              "      <td>6</td>\n",
              "      <td>Everyone’s talking about it. Everyone’s using it. But most likely, they’re doing it wrong, just like we did. By building a simplified chaos monkey service, we will walk through how to create a goo...</td>\n",
              "      <td>644</td>\n",
              "      <td>96</td>\n",
              "    </tr>\n",
              "  </tbody>\n",
              "</table>\n",
              "</div>"
            ],
            "text/plain": [
              "                                                              title  \\\n",
              "0            5 Steps to Build Python Native GUI Widgets for BeeWare   \n",
              "1  8 things that happen at the dot:  Attribute Access & Descriptors   \n",
              "2                 Account Security Patterns: How Logged-In Are you?   \n",
              "3                         Ace Your Technical Interview Using Python   \n",
              "4          Advanced asyncio: Solving Real-world Production Problems   \n",
              "\n",
              "   title character count  long title first character  title word count  \\\n",
              "0                     54       False               5                10   \n",
              "1                     64       False               8                10   \n",
              "2                     49       False               A                 7   \n",
              "3                     41       False               A                 6   \n",
              "4                     56       False               A                 6   \n",
              "\n",
              "                                                                                                                                                                                               description  \\\n",
              "0  Have you ever wanted to write a GUI application in Python that you can run on both your laptop and your phone? Have you been looking to contribute to an open source project, but you don't know whe...   \n",
              "1  We rarely think about the dot “.” between our objects and their fields, but there are quite a lot of things that happen every time we use one in Python. This talk will explore the details of what ...   \n",
              "2  Account security means making sure your users are only ones who can access their accounts. Account takeovers happen for a variety of reasons -- password re-use, compromised computers, guessable pa...   \n",
              "3  Do you feel overwhelmed by the prospect of having to find a new software engineering job because you dread the technical interviewing process? Have you been putting off submitting your job applica...   \n",
              "4  Everyone’s talking about it. Everyone’s using it. But most likely, they’re doing it wrong, just like we did. By building a simplified chaos monkey service, we will walk through how to create a goo...   \n",
              "\n",
              "   description char count  description word count  \n",
              "0                     760                     135  \n",
              "1                     296                      56  \n",
              "2                     426                      66  \n",
              "3                     504                      84  \n",
              "4                     644                      96  "
            ]
          },
          "metadata": {
            "tags": []
          },
          "execution_count": 267
        }
      ]
    },
    {
      "metadata": {
        "id": "9-iABoWsqgyY",
        "colab_type": "code",
        "outputId": "518215e8-121e-4632-e868-3053697f90e3",
        "colab": {
          "base_uri": "https://localhost:8080/",
          "height": 294
        }
      },
      "cell_type": "code",
      "source": [
        "df.describe()"
      ],
      "execution_count": 0,
      "outputs": [
        {
          "output_type": "execute_result",
          "data": {
            "text/html": [
              "<div>\n",
              "<style scoped>\n",
              "    .dataframe tbody tr th:only-of-type {\n",
              "        vertical-align: middle;\n",
              "    }\n",
              "\n",
              "    .dataframe tbody tr th {\n",
              "        vertical-align: top;\n",
              "    }\n",
              "\n",
              "    .dataframe thead th {\n",
              "        text-align: right;\n",
              "    }\n",
              "</style>\n",
              "<table border=\"1\" class=\"dataframe\">\n",
              "  <thead>\n",
              "    <tr style=\"text-align: right;\">\n",
              "      <th></th>\n",
              "      <th>title character count</th>\n",
              "      <th>title word count</th>\n",
              "      <th>description char count</th>\n",
              "      <th>description word count</th>\n",
              "    </tr>\n",
              "  </thead>\n",
              "  <tbody>\n",
              "    <tr>\n",
              "      <th>count</th>\n",
              "      <td>95.000000</td>\n",
              "      <td>95.000000</td>\n",
              "      <td>95.000000</td>\n",
              "      <td>95.000000</td>\n",
              "    </tr>\n",
              "    <tr>\n",
              "      <th>mean</th>\n",
              "      <td>51.347368</td>\n",
              "      <td>7.978947</td>\n",
              "      <td>808.526316</td>\n",
              "      <td>130.821053</td>\n",
              "    </tr>\n",
              "    <tr>\n",
              "      <th>std</th>\n",
              "      <td>17.729509</td>\n",
              "      <td>3.218890</td>\n",
              "      <td>412.511969</td>\n",
              "      <td>64.357872</td>\n",
              "    </tr>\n",
              "    <tr>\n",
              "      <th>min</th>\n",
              "      <td>20.000000</td>\n",
              "      <td>2.000000</td>\n",
              "      <td>121.000000</td>\n",
              "      <td>20.000000</td>\n",
              "    </tr>\n",
              "    <tr>\n",
              "      <th>25%</th>\n",
              "      <td>37.000000</td>\n",
              "      <td>6.000000</td>\n",
              "      <td>539.500000</td>\n",
              "      <td>85.500000</td>\n",
              "    </tr>\n",
              "    <tr>\n",
              "      <th>50%</th>\n",
              "      <td>52.000000</td>\n",
              "      <td>7.000000</td>\n",
              "      <td>718.000000</td>\n",
              "      <td>116.000000</td>\n",
              "    </tr>\n",
              "    <tr>\n",
              "      <th>75%</th>\n",
              "      <td>62.000000</td>\n",
              "      <td>9.500000</td>\n",
              "      <td>1010.500000</td>\n",
              "      <td>165.000000</td>\n",
              "    </tr>\n",
              "    <tr>\n",
              "      <th>max</th>\n",
              "      <td>95.000000</td>\n",
              "      <td>19.000000</td>\n",
              "      <td>2818.000000</td>\n",
              "      <td>421.000000</td>\n",
              "    </tr>\n",
              "  </tbody>\n",
              "</table>\n",
              "</div>"
            ],
            "text/plain": [
              "       title character count  title word count  description char count  \\\n",
              "count              95.000000         95.000000               95.000000   \n",
              "mean               51.347368          7.978947              808.526316   \n",
              "std                17.729509          3.218890              412.511969   \n",
              "min                20.000000          2.000000              121.000000   \n",
              "25%                37.000000          6.000000              539.500000   \n",
              "50%                52.000000          7.000000              718.000000   \n",
              "75%                62.000000          9.500000             1010.500000   \n",
              "max                95.000000         19.000000             2818.000000   \n",
              "\n",
              "       description word count  \n",
              "count               95.000000  \n",
              "mean               130.821053  \n",
              "std                 64.357872  \n",
              "min                 20.000000  \n",
              "25%                 85.500000  \n",
              "50%                116.000000  \n",
              "75%                165.000000  \n",
              "max                421.000000  "
            ]
          },
          "metadata": {
            "tags": []
          },
          "execution_count": 268
        }
      ]
    },
    {
      "metadata": {
        "id": "v0kzLz-KqzJ_",
        "colab_type": "code",
        "outputId": "d78c0c25-c0e7-4602-9789-1a3a95ac54e7",
        "colab": {
          "base_uri": "https://localhost:8080/",
          "height": 206
        }
      },
      "cell_type": "code",
      "source": [
        "df.describe(exclude='number')"
      ],
      "execution_count": 0,
      "outputs": [
        {
          "output_type": "execute_result",
          "data": {
            "text/html": [
              "<div>\n",
              "<style scoped>\n",
              "    .dataframe tbody tr th:only-of-type {\n",
              "        vertical-align: middle;\n",
              "    }\n",
              "\n",
              "    .dataframe tbody tr th {\n",
              "        vertical-align: top;\n",
              "    }\n",
              "\n",
              "    .dataframe thead th {\n",
              "        text-align: right;\n",
              "    }\n",
              "</style>\n",
              "<table border=\"1\" class=\"dataframe\">\n",
              "  <thead>\n",
              "    <tr style=\"text-align: right;\">\n",
              "      <th></th>\n",
              "      <th>title</th>\n",
              "      <th>long title</th>\n",
              "      <th>first character</th>\n",
              "      <th>description</th>\n",
              "    </tr>\n",
              "  </thead>\n",
              "  <tbody>\n",
              "    <tr>\n",
              "      <th>count</th>\n",
              "      <td>95</td>\n",
              "      <td>95</td>\n",
              "      <td>95</td>\n",
              "      <td>95</td>\n",
              "    </tr>\n",
              "    <tr>\n",
              "      <th>unique</th>\n",
              "      <td>95</td>\n",
              "      <td>2</td>\n",
              "      <td>22</td>\n",
              "      <td>95</td>\n",
              "    </tr>\n",
              "    <tr>\n",
              "      <th>top</th>\n",
              "      <td>Measuring Model Fairness</td>\n",
              "      <td>False</td>\n",
              "      <td>T</td>\n",
              "      <td>While high-level security concepts may transcend languages, each language has its own sets of tools and edge cases that are worth knowing.  Python is one of many popular languages that is rarely t...</td>\n",
              "    </tr>\n",
              "    <tr>\n",
              "      <th>freq</th>\n",
              "      <td>1</td>\n",
              "      <td>87</td>\n",
              "      <td>12</td>\n",
              "      <td>1</td>\n",
              "    </tr>\n",
              "  </tbody>\n",
              "</table>\n",
              "</div>"
            ],
            "text/plain": [
              "                           title long title first character  \\\n",
              "count                         95         95              95   \n",
              "unique                        95          2              22   \n",
              "top     Measuring Model Fairness      False               T   \n",
              "freq                           1         87              12   \n",
              "\n",
              "                                                                                                                                                                                                    description  \n",
              "count                                                                                                                                                                                                        95  \n",
              "unique                                                                                                                                                                                                       95  \n",
              "top     While high-level security concepts may transcend languages, each language has its own sets of tools and edge cases that are worth knowing.  Python is one of many popular languages that is rarely t...  \n",
              "freq                                                                                                                                                                                                          1  "
            ]
          },
          "metadata": {
            "tags": []
          },
          "execution_count": 269
        }
      ]
    },
    {
      "metadata": {
        "id": "JRqgjFkmq2RK",
        "colab_type": "code",
        "outputId": "361f4f8a-928e-47e9-f2a8-a35b97465584",
        "colab": {
          "base_uri": "https://localhost:8080/",
          "height": 149
        }
      },
      "cell_type": "code",
      "source": [
        "df[ df['description char count'] <= 280]"
      ],
      "execution_count": 0,
      "outputs": [
        {
          "output_type": "execute_result",
          "data": {
            "text/html": [
              "<div>\n",
              "<style scoped>\n",
              "    .dataframe tbody tr th:only-of-type {\n",
              "        vertical-align: middle;\n",
              "    }\n",
              "\n",
              "    .dataframe tbody tr th {\n",
              "        vertical-align: top;\n",
              "    }\n",
              "\n",
              "    .dataframe thead th {\n",
              "        text-align: right;\n",
              "    }\n",
              "</style>\n",
              "<table border=\"1\" class=\"dataframe\">\n",
              "  <thead>\n",
              "    <tr style=\"text-align: right;\">\n",
              "      <th></th>\n",
              "      <th>title</th>\n",
              "      <th>title character count</th>\n",
              "      <th>long title</th>\n",
              "      <th>first character</th>\n",
              "      <th>title word count</th>\n",
              "      <th>description</th>\n",
              "      <th>description char count</th>\n",
              "      <th>description word count</th>\n",
              "    </tr>\n",
              "  </thead>\n",
              "  <tbody>\n",
              "    <tr>\n",
              "      <th>54</th>\n",
              "      <td>Making Music with Python, SuperCollider and FoxDot</td>\n",
              "      <td>50</td>\n",
              "      <td>False</td>\n",
              "      <td>M</td>\n",
              "      <td>7</td>\n",
              "      <td>Learn how to make music with Python, SuperCollider and FoxDot. We'll create a song together in this live coded adventure.</td>\n",
              "      <td>121</td>\n",
              "      <td>20</td>\n",
              "    </tr>\n",
              "  </tbody>\n",
              "</table>\n",
              "</div>"
            ],
            "text/plain": [
              "                                                 title  title character count  \\\n",
              "54  Making Music with Python, SuperCollider and FoxDot                     50   \n",
              "\n",
              "    long title first character  title word count  \\\n",
              "54       False               M                 7   \n",
              "\n",
              "                                                                                                                  description  \\\n",
              "54  Learn how to make music with Python, SuperCollider and FoxDot. We'll create a song together in this live coded adventure.   \n",
              "\n",
              "    description char count  description word count  \n",
              "54                     121                      20  "
            ]
          },
          "metadata": {
            "tags": []
          },
          "execution_count": 270
        }
      ]
    },
    {
      "metadata": {
        "id": "j-ej69Eqrx9-",
        "colab_type": "text"
      },
      "cell_type": "markdown",
      "source": [
        "Stretch Challenge\n",
        "Make another new column in the dataframe:\n",
        "\n",
        "description grade level (you can use this textstat function to get the Flesh-Kincaid grade level)\n",
        "Answer the question: What's the distribution of grade levels? Plot a histogram.\n",
        "\n",
        "Be aware that Textstat has issues when sentences aren't separated by spaces. (A Lambda School Data Science student helped identify this issue, and emailed with the developer.)\n",
        "\n",
        "Also, BeautifulSoup doesn't separate paragraph tags with spaces.\n",
        "\n",
        "So, you may get some inaccurate or surprising grade level estimates here. Don't worry, that's ok — but optionally, can you do anything to try improving the grade level estimates?"
      ]
    },
    {
      "metadata": {
        "id": "SxbhM91drzP4",
        "colab_type": "code",
        "colab": {}
      },
      "cell_type": "code",
      "source": [
        "df['description grade level'] = [textstat.flesch_kincaid_grade(text) \n",
        "                                for text in descriptions]"
      ],
      "execution_count": 0,
      "outputs": []
    },
    {
      "metadata": {
        "id": "tdXVi1rNsqLl",
        "colab_type": "code",
        "outputId": "b5ff7251-44d8-4059-dcf7-00d6f05fee44",
        "colab": {
          "base_uri": "https://localhost:8080/",
          "height": 497
        }
      },
      "cell_type": "code",
      "source": [
        "df.head()"
      ],
      "execution_count": 0,
      "outputs": [
        {
          "output_type": "execute_result",
          "data": {
            "text/html": [
              "<div>\n",
              "<style scoped>\n",
              "    .dataframe tbody tr th:only-of-type {\n",
              "        vertical-align: middle;\n",
              "    }\n",
              "\n",
              "    .dataframe tbody tr th {\n",
              "        vertical-align: top;\n",
              "    }\n",
              "\n",
              "    .dataframe thead th {\n",
              "        text-align: right;\n",
              "    }\n",
              "</style>\n",
              "<table border=\"1\" class=\"dataframe\">\n",
              "  <thead>\n",
              "    <tr style=\"text-align: right;\">\n",
              "      <th></th>\n",
              "      <th>title</th>\n",
              "      <th>title character count</th>\n",
              "      <th>long title</th>\n",
              "      <th>first character</th>\n",
              "      <th>title word count</th>\n",
              "      <th>description</th>\n",
              "      <th>description char count</th>\n",
              "      <th>description word count</th>\n",
              "      <th>description grade level</th>\n",
              "    </tr>\n",
              "  </thead>\n",
              "  <tbody>\n",
              "    <tr>\n",
              "      <th>0</th>\n",
              "      <td>5 Steps to Build Python Native GUI Widgets for BeeWare</td>\n",
              "      <td>54</td>\n",
              "      <td>False</td>\n",
              "      <td>5</td>\n",
              "      <td>10</td>\n",
              "      <td>Have you ever wanted to write a GUI application in Python that you can run on both your laptop and your phone? Have you been looking to contribute to an open source project, but you don't know whe...</td>\n",
              "      <td>760</td>\n",
              "      <td>135</td>\n",
              "      <td>9.7</td>\n",
              "    </tr>\n",
              "    <tr>\n",
              "      <th>1</th>\n",
              "      <td>8 things that happen at the dot:  Attribute Access &amp; Descriptors</td>\n",
              "      <td>64</td>\n",
              "      <td>False</td>\n",
              "      <td>8</td>\n",
              "      <td>10</td>\n",
              "      <td>We rarely think about the dot “.” between our objects and their fields, but there are quite a lot of things that happen every time we use one in Python. This talk will explore the details of what ...</td>\n",
              "      <td>296</td>\n",
              "      <td>56</td>\n",
              "      <td>10.7</td>\n",
              "    </tr>\n",
              "    <tr>\n",
              "      <th>2</th>\n",
              "      <td>Account Security Patterns: How Logged-In Are you?</td>\n",
              "      <td>49</td>\n",
              "      <td>False</td>\n",
              "      <td>A</td>\n",
              "      <td>7</td>\n",
              "      <td>Account security means making sure your users are only ones who can access their accounts. Account takeovers happen for a variety of reasons -- password re-use, compromised computers, guessable pa...</td>\n",
              "      <td>426</td>\n",
              "      <td>66</td>\n",
              "      <td>8.5</td>\n",
              "    </tr>\n",
              "    <tr>\n",
              "      <th>3</th>\n",
              "      <td>Ace Your Technical Interview Using Python</td>\n",
              "      <td>41</td>\n",
              "      <td>False</td>\n",
              "      <td>A</td>\n",
              "      <td>6</td>\n",
              "      <td>Do you feel overwhelmed by the prospect of having to find a new software engineering job because you dread the technical interviewing process? Have you been putting off submitting your job applica...</td>\n",
              "      <td>504</td>\n",
              "      <td>84</td>\n",
              "      <td>17.3</td>\n",
              "    </tr>\n",
              "    <tr>\n",
              "      <th>4</th>\n",
              "      <td>Advanced asyncio: Solving Real-world Production Problems</td>\n",
              "      <td>56</td>\n",
              "      <td>False</td>\n",
              "      <td>A</td>\n",
              "      <td>6</td>\n",
              "      <td>Everyone’s talking about it. Everyone’s using it. But most likely, they’re doing it wrong, just like we did. By building a simplified chaos monkey service, we will walk through how to create a goo...</td>\n",
              "      <td>644</td>\n",
              "      <td>96</td>\n",
              "      <td>9.5</td>\n",
              "    </tr>\n",
              "  </tbody>\n",
              "</table>\n",
              "</div>"
            ],
            "text/plain": [
              "                                                              title  \\\n",
              "0            5 Steps to Build Python Native GUI Widgets for BeeWare   \n",
              "1  8 things that happen at the dot:  Attribute Access & Descriptors   \n",
              "2                 Account Security Patterns: How Logged-In Are you?   \n",
              "3                         Ace Your Technical Interview Using Python   \n",
              "4          Advanced asyncio: Solving Real-world Production Problems   \n",
              "\n",
              "   title character count  long title first character  title word count  \\\n",
              "0                     54       False               5                10   \n",
              "1                     64       False               8                10   \n",
              "2                     49       False               A                 7   \n",
              "3                     41       False               A                 6   \n",
              "4                     56       False               A                 6   \n",
              "\n",
              "                                                                                                                                                                                               description  \\\n",
              "0  Have you ever wanted to write a GUI application in Python that you can run on both your laptop and your phone? Have you been looking to contribute to an open source project, but you don't know whe...   \n",
              "1  We rarely think about the dot “.” between our objects and their fields, but there are quite a lot of things that happen every time we use one in Python. This talk will explore the details of what ...   \n",
              "2  Account security means making sure your users are only ones who can access their accounts. Account takeovers happen for a variety of reasons -- password re-use, compromised computers, guessable pa...   \n",
              "3  Do you feel overwhelmed by the prospect of having to find a new software engineering job because you dread the technical interviewing process? Have you been putting off submitting your job applica...   \n",
              "4  Everyone’s talking about it. Everyone’s using it. But most likely, they’re doing it wrong, just like we did. By building a simplified chaos monkey service, we will walk through how to create a goo...   \n",
              "\n",
              "   description char count  description word count  description grade level  \n",
              "0                     760                     135                      9.7  \n",
              "1                     296                      56                     10.7  \n",
              "2                     426                      66                      8.5  \n",
              "3                     504                      84                     17.3  \n",
              "4                     644                      96                      9.5  "
            ]
          },
          "metadata": {
            "tags": []
          },
          "execution_count": 272
        }
      ]
    }
  ]
}